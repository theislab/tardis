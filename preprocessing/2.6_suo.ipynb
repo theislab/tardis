{
 "cells": [
  {
   "cell_type": "markdown",
   "id": "b81109ee-4141-4b64-970c-671067713909",
   "metadata": {},
   "source": [
    "# Suo Dataset"
   ]
  },
  {
   "cell_type": "code",
   "execution_count": 1,
   "id": "cc090a67-861e-4286-bb42-ab2063b78ed9",
   "metadata": {},
   "outputs": [
    {
     "data": {
      "text/plain": [
       "0"
      ]
     },
     "execution_count": 1,
     "metadata": {},
     "output_type": "execute_result"
    }
   ],
   "source": [
    "0"
   ]
  },
  {
   "cell_type": "code",
   "execution_count": 2,
   "id": "11e9f3dd-68ee-47d7-b007-b0ffa21cd7fb",
   "metadata": {},
   "outputs": [],
   "source": [
    "import copy\n",
    "import gc\n",
    "import os\n",
    "import sys\n",
    "import warnings\n",
    "\n",
    "import anndata as ad\n",
    "import pandas as pd\n",
    "import numpy as np\n",
    "import scanpy as sc\n",
    "from scanpy.preprocessing._highly_variable_genes import highly_variable_genes\n",
    "\n",
    "sys.path.append(\"/home/icb/kemal.inecik/work/codes/tardis\")\n",
    "import tardis\n",
    "from tardis._utils.preprocessing import (  # noqa\n",
    "    NA_CELL_TYPE_PLACEHOLDER,\n",
    "    RANK_GENES_GROUPS_KEY,\n",
    "    calculate_de_genes,\n",
    "    deep_memory_usage,\n",
    "    select_hvgs,\n",
    ")\n",
    "config = tardis.config_server\n",
    "\n",
    "sc.settings.verbosity = 3"
   ]
  },
  {
   "cell_type": "code",
   "execution_count": 3,
   "id": "85869d6a-2b6a-4b47-9394-30d981532a10",
   "metadata": {},
   "outputs": [
    {
     "name": "stdout",
     "output_type": "stream",
     "text": [
      "getting h5ad\n"
     ]
    },
    {
     "data": {
      "text/plain": [
       "AnnData object with n_obs × n_vars = 841966 × 31789\n",
       "    obs: 'handle_anndata', 'study', 'sample_ID', 'organ', 'age', 'cell_type', 'lane_ID', 'author_batch', 'institute', 'study_PI', 'doi', 'integration_donor', 'integration_biological_unit', 'integration_sample_status', 'integration_library_platform_coarse', 'anatomical_region', 'anatomical_region_level_2', 'sex', 'sex_inferred', 'subject_type', 'sample_status', 'sample_cultured', 'protocol_tissue_dissociation', 'cell_enrichment', 'library_platform', 'strand_sequence', 'sequencing_platform', 'reads_processing', 'biological_unit', 'reference_genome', 'reference_genome_ensembl_release', 'concatenated_integration_covariates'\n",
       "    var: 'hgnc'"
      ]
     },
     "execution_count": 3,
     "metadata": {},
     "output_type": "execute_result"
    }
   ],
   "source": [
    "suo_raw_dir = os.path.join(config.io_directories[\"processed\"], \"Suo_raw.h5ad\")\n",
    "\n",
    "if os.path.isfile(suo_raw_dir):\n",
    "    print('reading h5ad')\n",
    "    adata = ad.read_h5ad(suo_raw_dir)\n",
    "else:\n",
    "    print('getting h5ad')\n",
    "    adata_file_path = (\n",
    "        \"/lustre/groups/ml01/workspace/kemal.inecik/hdca/\" \n",
    "        \"temp/preprocessing/unification_union_20240330_hvg.h5ad\"\n",
    "    )\n",
    "    assert os.path.isfile(adata_file_path), f\"File not already exist: `{adata_file_path}`\"\n",
    "    adata = ad.read_h5ad(adata_file_path)\n",
    "    \n",
    "    handle = \"Suo\"\n",
    "    adata = adata[adata.obs[\"handle_anndata\"] == handle]\n",
    "    GENE_NAME_COLUMN = \"hgnc\"\n",
    "    var_column = f\"{GENE_NAME_COLUMN}_{handle}\"\n",
    "    adata = adata[:, adata.var[var_column] != NA_CELL_TYPE_PLACEHOLDER].copy()\n",
    "    adata.write_h5ad(suo_raw_dir)\n",
    "\n",
    "    del adata.uns\n",
    "    k = sorted(adata.var.keys())\n",
    "    for i in k:\n",
    "        if i != GENE_NAME_COLUMN:\n",
    "            del adata.var[i]\n",
    "    gc.collect();\n",
    "adata"
   ]
  },
  {
   "cell_type": "code",
   "execution_count": 4,
   "id": "f74eb240-563f-4e40-b124-3758ae1005f5",
   "metadata": {},
   "outputs": [
    {
     "data": {
      "text/plain": [
       "integration_donor  age   sex  sex_inferred  integration_biological_unit  integration_sample_status\n",
       "F19_Suo_et_al      10.0  F    F             Cell                         Fresh                         5272\n",
       "F21_Suo_et_al      16.0  M    M             Cell                         Fresh                        32836\n",
       "F22_Suo_et_al      9.0   F    F             Cell                         Fresh                        15126\n",
       "F23_Suo_et_al      11.0  M    M             Cell                         Fresh                        22418\n",
       "F29_Suo_et_al      17.0  F    F             Cell                         Fresh                        45934\n",
       "F30_Suo_et_al      14.0  M    M             Cell                         Fresh                        54522\n",
       "F32_Suo_et_al      7.0   F    F             Cell                         Fresh                        28110\n",
       "F33_Suo_et_al      9.0   F    F             Cell                         Fresh                        38506\n",
       "F34_Suo_et_al      8.0   F    F             Cell                         Fresh                        39136\n",
       "F35_Suo_et_al      7.0   F    F             Cell                         Fresh                        20452\n",
       "F37_Suo_et_al      4.0   F    F             Cell                         Fresh                        12729\n",
       "F38_Suo_et_al      13.0  M    M             Cell                         Fresh                        46526\n",
       "F41_Suo_et_al      16.0  F    F             Cell                         Fresh                        49169\n",
       "F45_Suo_et_al      12.0  F    F             Cell                         Fresh                        78190\n",
       "F50_Suo_et_al      15.0  F    F             Cell                         Fresh                        49801\n",
       "F51_Suo_et_al      14.0  F    F             Cell                         Fresh                        84846\n",
       "F61_Suo_et_al      7.0   M    M             Cell                         Fresh                        74420\n",
       "F64_Suo_et_al      11.0  M    M             Cell                         Fresh                         7597\n",
       "F66_Suo_et_al      15.0  M    M             Cell                         Fresh                        13745\n",
       "F67_Suo_et_al      12.0  F    F             Cell                         Fresh                        27368\n",
       "F69_Suo_et_al      11.0  F    F             Cell                         Fresh                        17505\n",
       "F71_Suo_et_al      14.0  F    F             Cell                         Fresh                        21402\n",
       "F72_Suo_et_al      16.0  F    F             Cell                         Fresh                        21824\n",
       "F73_Suo_et_al      15.0  F    F             Cell                         Fresh                        26093\n",
       "F78_Suo_et_al      17.0  M    M             Cell                         Fresh                         8439\n",
       "dtype: int64"
      ]
     },
     "metadata": {},
     "output_type": "display_data"
    }
   ],
   "source": [
    "with pd.option_context('display.max_rows', None):\n",
    "    k = adata.obs.groupby([\"integration_donor\", \"age\", \"sex\", \"sex_inferred\", \"integration_biological_unit\", \"integration_sample_status\"]).size()\n",
    "    display(k[k!=0])"
   ]
  },
  {
   "cell_type": "code",
   "execution_count": 5,
   "id": "e1344d12-37ec-429b-9f6c-b152db5e08f1",
   "metadata": {},
   "outputs": [
    {
     "data": {
      "text/plain": [
       "integration_donor  study                                \n",
       "F19_Suo_et_al      Suo_et_al_2022_Science_Popescu2019        5209\n",
       "                   Suo_et_al_2022_Science_Suo2022              63\n",
       "F21_Suo_et_al      Suo_et_al_2022_Science_Jardine2021        6064\n",
       "                   Suo_et_al_2022_Science_Park2020           8291\n",
       "                   Suo_et_al_2022_Science_Popescu2019        9268\n",
       "                   Suo_et_al_2022_Science_Suo2022            9213\n",
       "F22_Suo_et_al      Suo_et_al_2022_Science_Park2020             14\n",
       "                   Suo_et_al_2022_Science_Popescu2019       14721\n",
       "                   Suo_et_al_2022_Science_Suo2022             391\n",
       "F23_Suo_et_al      Suo_et_al_2022_Science_Park2020           5509\n",
       "                   Suo_et_al_2022_Science_Popescu2019        7464\n",
       "                   Suo_et_al_2022_Science_Suo2022            9445\n",
       "F29_Suo_et_al      Suo_et_al_2022_Science_Jardine2021       14838\n",
       "                   Suo_et_al_2022_Science_Park2020          10164\n",
       "                   Suo_et_al_2022_Science_Popescu2019       10221\n",
       "                   Suo_et_al_2022_Science_Suo2022           10711\n",
       "F30_Suo_et_al      Suo_et_al_2022_Science_Jardine2021       12130\n",
       "                   Suo_et_al_2022_Science_Park2020          11982\n",
       "                   Suo_et_al_2022_Science_Popescu2019       18642\n",
       "                   Suo_et_al_2022_Science_Suo2022           11768\n",
       "F32_Suo_et_al      Suo_et_al_2022_Science_Popescu2019       23733\n",
       "                   Suo_et_al_2022_Science_Suo2022            4377\n",
       "F33_Suo_et_al      Suo_et_al_2022_Science_Popescu2019       38506\n",
       "F34_Suo_et_al      Suo_et_al_2022_Science_Popescu2019       39136\n",
       "F35_Suo_et_al      Suo_et_al_2022_Science_Popescu2019       20452\n",
       "F37_Suo_et_al      Suo_et_al_2022_Science_Popescu2019       12729\n",
       "F38_Suo_et_al      Suo_et_al_2022_Science_Jardine2021        3137\n",
       "                   Suo_et_al_2022_Science_Park2020           8262\n",
       "                   Suo_et_al_2022_Science_Popescu2019       13985\n",
       "                   Suo_et_al_2022_Science_Stewart2019        4092\n",
       "                   Suo_et_al_2022_Science_Suo2022           17050\n",
       "F41_Suo_et_al      Suo_et_al_2022_Science_Jardine2021       12176\n",
       "                   Suo_et_al_2022_Science_Park2020           8970\n",
       "                   Suo_et_al_2022_Science_Popescu2019       18288\n",
       "                   Suo_et_al_2022_Science_Stewart2019        4115\n",
       "                   Suo_et_al_2022_Science_Suo2022            5620\n",
       "F45_Suo_et_al      Suo_et_al_2022_Science_Jardine2021       11538\n",
       "                   Suo_et_al_2022_Science_Park2020          19500\n",
       "                   Suo_et_al_2022_Science_Popescu2019       17311\n",
       "                   Suo_et_al_2022_Science_Stewart2019        2779\n",
       "                   Suo_et_al_2022_Science_Suo2022           27062\n",
       "F50_Suo_et_al      Suo_et_al_2022_Science_Jardine2021       12317\n",
       "                   Suo_et_al_2022_Science_Suo2022           37484\n",
       "F51_Suo_et_al      Suo_et_al_2022_Science_Jardine2021       21471\n",
       "                   Suo_et_al_2022_Science_Suo2022           63375\n",
       "F61_Suo_et_al      Suo_et_al_2022_Science_Suo2022           74420\n",
       "F64_Suo_et_al      Suo_et_al_2022_Science_Park2020           7597\n",
       "F66_Suo_et_al      Suo_et_al_2022_Science_Elmentaite2020    13745\n",
       "F67_Suo_et_al      Suo_et_al_2022_Science_Elmentaite2020     8706\n",
       "                   Suo_et_al_2022_Science_Park2020          12918\n",
       "                   Suo_et_al_2022_Science_Suo2022            5744\n",
       "F69_Suo_et_al      Suo_et_al_2022_Science_Suo2022           17505\n",
       "F71_Suo_et_al      Suo_et_al_2022_Science_Suo2022           21402\n",
       "F72_Suo_et_al      Suo_et_al_2022_Science_Elmentaite2020    21824\n",
       "F73_Suo_et_al      Suo_et_al_2022_Science_Elmentaite2020    26093\n",
       "F78_Suo_et_al      Suo_et_al_2022_Science_Elmentaite2020     8439\n",
       "dtype: int64"
      ]
     },
     "metadata": {},
     "output_type": "display_data"
    }
   ],
   "source": [
    "with pd.option_context('display.max_rows', None):\n",
    "    k = adata.obs.groupby([\"integration_donor\", \"study\"]).size()\n",
    "    display(k[k!=0])"
   ]
  },
  {
   "cell_type": "markdown",
   "id": "f711aeef-99ea-4b72-a21a-ba99cf297811",
   "metadata": {},
   "source": [
    "## Library Platform"
   ]
  },
  {
   "cell_type": "code",
   "execution_count": 58,
   "id": "9e1167f7-ea17-4139-a277-ff07892d2169",
   "metadata": {},
   "outputs": [
    {
     "data": {
      "text/plain": [
       "integration_donor  integration_library_platform_coarse\n",
       "F19_Suo_et_al      3GEX                                    5272\n",
       "F21_Suo_et_al      3GEX                                   32836\n",
       "F22_Suo_et_al      3GEX                                   15126\n",
       "F23_Suo_et_al      3GEX                                   22418\n",
       "F29_Suo_et_al      3GEX                                   27037\n",
       "                   5GEX                                   18897\n",
       "F30_Suo_et_al      3GEX                                   36642\n",
       "                   5GEX                                   17880\n",
       "F32_Suo_et_al      3GEX                                   24209\n",
       "                   5GEX                                    3901\n",
       "F33_Suo_et_al      3GEX                                   38506\n",
       "F34_Suo_et_al      3GEX                                   34374\n",
       "                   5GEX                                    4762\n",
       "F35_Suo_et_al      3GEX                                   20452\n",
       "F37_Suo_et_al      3GEX                                   12729\n",
       "F38_Suo_et_al      3GEX                                   37872\n",
       "                   5GEX                                    8654\n",
       "F41_Suo_et_al      3GEX                                   28460\n",
       "                   5GEX                                   20709\n",
       "F45_Suo_et_al      3GEX                                   38684\n",
       "                   5GEX                                   39506\n",
       "F50_Suo_et_al      5GEX                                   49801\n",
       "F51_Suo_et_al      5GEX                                   84846\n",
       "F61_Suo_et_al      5GEX                                   74420\n",
       "F64_Suo_et_al      5GEX                                    7597\n",
       "F66_Suo_et_al      3GEX                                   13745\n",
       "F67_Suo_et_al      3GEX                                    8706\n",
       "                   5GEX                                   18662\n",
       "F69_Suo_et_al      5GEX                                   17505\n",
       "F71_Suo_et_al      5GEX                                   21402\n",
       "F72_Suo_et_al      5GEX                                   21824\n",
       "F73_Suo_et_al      5GEX                                   26093\n",
       "F78_Suo_et_al      5GEX                                    8439\n",
       "dtype: int64"
      ]
     },
     "metadata": {},
     "output_type": "display_data"
    }
   ],
   "source": [
    "with pd.option_context('display.max_rows', None):\n",
    "    k = adata.obs.groupby([\"integration_donor\", \"integration_library_platform_coarse\"]).size()\n",
    "    display(k[k!=0])"
   ]
  },
  {
   "cell_type": "code",
   "execution_count": 59,
   "id": "acf13425-ea89-43eb-acd9-12387924d28e",
   "metadata": {},
   "outputs": [
    {
     "data": {
      "text/plain": [
       "integration_library_platform_coarse  integration_donor\n",
       "3GEX                                 F19_Suo_et_al         5272\n",
       "                                     F21_Suo_et_al        32836\n",
       "                                     F22_Suo_et_al        15126\n",
       "                                     F23_Suo_et_al        22418\n",
       "                                     F29_Suo_et_al        27037\n",
       "                                     F30_Suo_et_al        36642\n",
       "                                     F32_Suo_et_al        24209\n",
       "                                     F33_Suo_et_al        38506\n",
       "                                     F34_Suo_et_al        34374\n",
       "                                     F35_Suo_et_al        20452\n",
       "                                     F37_Suo_et_al        12729\n",
       "                                     F38_Suo_et_al        37872\n",
       "                                     F41_Suo_et_al        28460\n",
       "                                     F45_Suo_et_al        38684\n",
       "                                     F66_Suo_et_al        13745\n",
       "                                     F67_Suo_et_al         8706\n",
       "5GEX                                 F29_Suo_et_al        18897\n",
       "                                     F30_Suo_et_al        17880\n",
       "                                     F32_Suo_et_al         3901\n",
       "                                     F34_Suo_et_al         4762\n",
       "                                     F38_Suo_et_al         8654\n",
       "                                     F41_Suo_et_al        20709\n",
       "                                     F45_Suo_et_al        39506\n",
       "                                     F50_Suo_et_al        49801\n",
       "                                     F51_Suo_et_al        84846\n",
       "                                     F61_Suo_et_al        74420\n",
       "                                     F64_Suo_et_al         7597\n",
       "                                     F67_Suo_et_al        18662\n",
       "                                     F69_Suo_et_al        17505\n",
       "                                     F71_Suo_et_al        21402\n",
       "                                     F72_Suo_et_al        21824\n",
       "                                     F73_Suo_et_al        26093\n",
       "                                     F78_Suo_et_al         8439\n",
       "dtype: int64"
      ]
     },
     "metadata": {},
     "output_type": "display_data"
    }
   ],
   "source": [
    "with pd.option_context('display.max_rows', None):\n",
    "    k = adata.obs.groupby([\"integration_library_platform_coarse\", \"integration_donor\"]).size()\n",
    "    display(k[k!=0])"
   ]
  },
  {
   "cell_type": "markdown",
   "id": "904ea04c-5f1f-4005-aa1f-a4ee65f44987",
   "metadata": {},
   "source": [
    "# Organ"
   ]
  },
  {
   "cell_type": "code",
   "execution_count": 60,
   "id": "d27e58e5-931b-4a64-af5e-d3f724e1cf54",
   "metadata": {},
   "outputs": [
    {
     "data": {
      "text/plain": [
       "integration_donor  organ                \n",
       "F19_Suo_et_al      Liver                       63\n",
       "                   Skin                      5209\n",
       "F21_Suo_et_al      Bone_marrow               6064\n",
       "                   Liver                     9268\n",
       "                   Spleen                    9213\n",
       "                   Thymus                    8291\n",
       "F22_Suo_et_al      Liver                    14721\n",
       "                   Spleen                     350\n",
       "                   Thymus                      14\n",
       "                   Yolk_sac                    41\n",
       "F23_Suo_et_al      Liver                     7464\n",
       "                   Spleen                    9445\n",
       "                   Thymus                    5509\n",
       "F29_Suo_et_al      Bone_marrow              14838\n",
       "                   Liver                    10221\n",
       "                   Spleen                   10711\n",
       "                   Thymus                   10164\n",
       "F30_Suo_et_al      Bone_marrow              12130\n",
       "                   Liver                    18642\n",
       "                   Spleen                   11768\n",
       "                   Thymus                   11982\n",
       "F32_Suo_et_al      Liver                    12384\n",
       "                   Skin                     10635\n",
       "                   Thymus                    4377\n",
       "                   Yolk_sac                   714\n",
       "F33_Suo_et_al      Liver                    23815\n",
       "                   Skin                     14691\n",
       "F34_Suo_et_al      Liver                    24032\n",
       "                   Skin                     15104\n",
       "F35_Suo_et_al      Kidney                    5106\n",
       "                   Liver                     6667\n",
       "                   Skin                      7956\n",
       "                   Yolk_sac                   723\n",
       "F37_Suo_et_al      Yolk_sac                 12729\n",
       "F38_Suo_et_al      Bone_marrow               3137\n",
       "                   Kidney                    4092\n",
       "                   Liver                    13985\n",
       "                   Skin                     10364\n",
       "                   Spleen                    6686\n",
       "                   Thymus                    8262\n",
       "F41_Suo_et_al      Bone_marrow              12176\n",
       "                   Kidney                    6310\n",
       "                   Liver                    18288\n",
       "                   Skin                      3425\n",
       "                   Thymus                    8970\n",
       "F45_Suo_et_al      Bone_marrow              11538\n",
       "                   Kidney                    3546\n",
       "                   Liver                    17311\n",
       "                   Skin                      7499\n",
       "                   Spleen                   18796\n",
       "                   Thymus                   19500\n",
       "F50_Suo_et_al      Bone_marrow              12317\n",
       "                   Skin                     18128\n",
       "                   Spleen                   19356\n",
       "F51_Suo_et_al      Bone_marrow              21471\n",
       "                   Skin                     25285\n",
       "                   Spleen                   38090\n",
       "F61_Suo_et_al      Liver                    29313\n",
       "                   Skin                      9518\n",
       "                   Yolk_sac                 35589\n",
       "F64_Suo_et_al      Thymus                    7597\n",
       "F66_Suo_et_al      Gut                      13745\n",
       "F67_Suo_et_al      Gut                       8706\n",
       "                   Thymus                   18662\n",
       "F69_Suo_et_al      Skin                     15553\n",
       "                   Spleen                    1952\n",
       "F71_Suo_et_al      Skin                     21402\n",
       "F72_Suo_et_al      Gut                      19029\n",
       "                   Mesenteric_lymph_node     2795\n",
       "F73_Suo_et_al      Gut                      26093\n",
       "F78_Suo_et_al      Gut                       5332\n",
       "                   Mesenteric_lymph_node     3107\n",
       "dtype: int64"
      ]
     },
     "metadata": {},
     "output_type": "display_data"
    }
   ],
   "source": [
    "with pd.option_context('display.max_rows', None):\n",
    "    k = adata.obs.groupby([\"integration_donor\", \"organ\"]).size()\n",
    "    display(k[k!=0])"
   ]
  },
  {
   "cell_type": "code",
   "execution_count": 61,
   "id": "1c01cc83-163b-4bd1-a8f3-27e364a1ab23",
   "metadata": {},
   "outputs": [
    {
     "data": {
      "text/plain": [
       "organ                  integration_donor\n",
       "Bone_marrow            F21_Suo_et_al         6064\n",
       "                       F29_Suo_et_al        14838\n",
       "                       F30_Suo_et_al        12130\n",
       "                       F38_Suo_et_al         3137\n",
       "                       F41_Suo_et_al        12176\n",
       "                       F45_Suo_et_al        11538\n",
       "                       F50_Suo_et_al        12317\n",
       "                       F51_Suo_et_al        21471\n",
       "Gut                    F66_Suo_et_al        13745\n",
       "                       F67_Suo_et_al         8706\n",
       "                       F72_Suo_et_al        19029\n",
       "                       F73_Suo_et_al        26093\n",
       "                       F78_Suo_et_al         5332\n",
       "Kidney                 F35_Suo_et_al         5106\n",
       "                       F38_Suo_et_al         4092\n",
       "                       F41_Suo_et_al         6310\n",
       "                       F45_Suo_et_al         3546\n",
       "Liver                  F19_Suo_et_al           63\n",
       "                       F21_Suo_et_al         9268\n",
       "                       F22_Suo_et_al        14721\n",
       "                       F23_Suo_et_al         7464\n",
       "                       F29_Suo_et_al        10221\n",
       "                       F30_Suo_et_al        18642\n",
       "                       F32_Suo_et_al        12384\n",
       "                       F33_Suo_et_al        23815\n",
       "                       F34_Suo_et_al        24032\n",
       "                       F35_Suo_et_al         6667\n",
       "                       F38_Suo_et_al        13985\n",
       "                       F41_Suo_et_al        18288\n",
       "                       F45_Suo_et_al        17311\n",
       "                       F61_Suo_et_al        29313\n",
       "Mesenteric_lymph_node  F72_Suo_et_al         2795\n",
       "                       F78_Suo_et_al         3107\n",
       "Skin                   F19_Suo_et_al         5209\n",
       "                       F32_Suo_et_al        10635\n",
       "                       F33_Suo_et_al        14691\n",
       "                       F34_Suo_et_al        15104\n",
       "                       F35_Suo_et_al         7956\n",
       "                       F38_Suo_et_al        10364\n",
       "                       F41_Suo_et_al         3425\n",
       "                       F45_Suo_et_al         7499\n",
       "                       F50_Suo_et_al        18128\n",
       "                       F51_Suo_et_al        25285\n",
       "                       F61_Suo_et_al         9518\n",
       "                       F69_Suo_et_al        15553\n",
       "                       F71_Suo_et_al        21402\n",
       "Spleen                 F21_Suo_et_al         9213\n",
       "                       F22_Suo_et_al          350\n",
       "                       F23_Suo_et_al         9445\n",
       "                       F29_Suo_et_al        10711\n",
       "                       F30_Suo_et_al        11768\n",
       "                       F38_Suo_et_al         6686\n",
       "                       F45_Suo_et_al        18796\n",
       "                       F50_Suo_et_al        19356\n",
       "                       F51_Suo_et_al        38090\n",
       "                       F69_Suo_et_al         1952\n",
       "Thymus                 F21_Suo_et_al         8291\n",
       "                       F22_Suo_et_al           14\n",
       "                       F23_Suo_et_al         5509\n",
       "                       F29_Suo_et_al        10164\n",
       "                       F30_Suo_et_al        11982\n",
       "                       F32_Suo_et_al         4377\n",
       "                       F38_Suo_et_al         8262\n",
       "                       F41_Suo_et_al         8970\n",
       "                       F45_Suo_et_al        19500\n",
       "                       F64_Suo_et_al         7597\n",
       "                       F67_Suo_et_al        18662\n",
       "Yolk_sac               F22_Suo_et_al           41\n",
       "                       F32_Suo_et_al          714\n",
       "                       F35_Suo_et_al          723\n",
       "                       F37_Suo_et_al        12729\n",
       "                       F61_Suo_et_al        35589\n",
       "dtype: int64"
      ]
     },
     "metadata": {},
     "output_type": "display_data"
    }
   ],
   "source": [
    "with pd.option_context('display.max_rows', None):\n",
    "    k = adata.obs.groupby([\"organ\", \"integration_donor\"]).size()\n",
    "    display(k[k!=0])"
   ]
  },
  {
   "cell_type": "markdown",
   "id": "6b7189b5-e1e0-45f5-a11f-d9a821daee74",
   "metadata": {},
   "source": [
    "## Organ and Library Platform"
   ]
  },
  {
   "cell_type": "code",
   "execution_count": 62,
   "id": "badbc1e6-d64e-43ec-984c-08ef12819adf",
   "metadata": {},
   "outputs": [
    {
     "data": {
      "text/plain": [
       "organ                  integration_library_platform_coarse\n",
       "Bone_marrow            3GEX                                    38319\n",
       "                       5GEX                                    55352\n",
       "Gut                    3GEX                                    22451\n",
       "                       5GEX                                    50454\n",
       "Kidney                 3GEX                                    16092\n",
       "                       5GEX                                     2962\n",
       "Liver                  3GEX                                   136339\n",
       "                       5GEX                                    69835\n",
       "Mesenteric_lymph_node  5GEX                                     5902\n",
       "Skin                   3GEX                                    69360\n",
       "                       5GEX                                    95409\n",
       "Spleen                 3GEX                                    47270\n",
       "                       5GEX                                    79097\n",
       "Thymus                 3GEX                                    53030\n",
       "                       5GEX                                    50298\n",
       "Yolk_sac               3GEX                                    14207\n",
       "                       5GEX                                    35589\n",
       "dtype: int64"
      ]
     },
     "metadata": {},
     "output_type": "display_data"
    }
   ],
   "source": [
    "with pd.option_context('display.max_rows', None):\n",
    "    k = adata.obs.groupby([\"organ\", \"integration_library_platform_coarse\"]).size()\n",
    "    display(k[k!=0])"
   ]
  },
  {
   "cell_type": "code",
   "execution_count": 63,
   "id": "c419ef4d-b75f-418d-958d-3ce7af720075",
   "metadata": {},
   "outputs": [
    {
     "data": {
      "text/plain": [
       "integration_library_platform_coarse  organ                \n",
       "3GEX                                 Bone_marrow               38319\n",
       "                                     Gut                       22451\n",
       "                                     Kidney                    16092\n",
       "                                     Liver                    136339\n",
       "                                     Skin                      69360\n",
       "                                     Spleen                    47270\n",
       "                                     Thymus                    53030\n",
       "                                     Yolk_sac                  14207\n",
       "5GEX                                 Bone_marrow               55352\n",
       "                                     Gut                       50454\n",
       "                                     Kidney                     2962\n",
       "                                     Liver                     69835\n",
       "                                     Mesenteric_lymph_node      5902\n",
       "                                     Skin                      95409\n",
       "                                     Spleen                    79097\n",
       "                                     Thymus                    50298\n",
       "                                     Yolk_sac                  35589\n",
       "dtype: int64"
      ]
     },
     "metadata": {},
     "output_type": "display_data"
    }
   ],
   "source": [
    "with pd.option_context('display.max_rows', None):\n",
    "    k = adata.obs.groupby([\"integration_library_platform_coarse\", \"organ\"]).size()\n",
    "    display(k[k!=0])"
   ]
  },
  {
   "cell_type": "code",
   "execution_count": 64,
   "id": "9548d6ad-cde1-40d9-a358-7e5845df397e",
   "metadata": {},
   "outputs": [
    {
     "data": {
      "text/plain": [
       "integration_donor  organ                  integration_library_platform_coarse\n",
       "F19_Suo_et_al      Liver                  3GEX                                      63\n",
       "                   Skin                   3GEX                                    5209\n",
       "F21_Suo_et_al      Bone_marrow            3GEX                                    6064\n",
       "                   Liver                  3GEX                                    9268\n",
       "                   Spleen                 3GEX                                    9213\n",
       "                   Thymus                 3GEX                                    8291\n",
       "F22_Suo_et_al      Liver                  3GEX                                   14721\n",
       "                   Spleen                 3GEX                                     350\n",
       "                   Thymus                 3GEX                                      14\n",
       "                   Yolk_sac               3GEX                                      41\n",
       "F23_Suo_et_al      Liver                  3GEX                                    7464\n",
       "                   Spleen                 3GEX                                    9445\n",
       "                   Thymus                 3GEX                                    5509\n",
       "F29_Suo_et_al      Bone_marrow            3GEX                                    7925\n",
       "                                          5GEX                                    6913\n",
       "                   Liver                  3GEX                                    7631\n",
       "                                          5GEX                                    2590\n",
       "                   Spleen                 3GEX                                    5749\n",
       "                                          5GEX                                    4962\n",
       "                   Thymus                 3GEX                                    5732\n",
       "                                          5GEX                                    4432\n",
       "F30_Suo_et_al      Bone_marrow            3GEX                                   10259\n",
       "                                          5GEX                                    1871\n",
       "                   Liver                  3GEX                                   11942\n",
       "                                          5GEX                                    6700\n",
       "                   Spleen                 3GEX                                    7223\n",
       "                                          5GEX                                    4545\n",
       "                   Thymus                 3GEX                                    7218\n",
       "                                          5GEX                                    4764\n",
       "F32_Suo_et_al      Liver                  3GEX                                    8483\n",
       "                                          5GEX                                    3901\n",
       "                   Skin                   3GEX                                   10635\n",
       "                   Thymus                 3GEX                                    4377\n",
       "                   Yolk_sac               3GEX                                     714\n",
       "F33_Suo_et_al      Liver                  3GEX                                   23815\n",
       "                   Skin                   3GEX                                   14691\n",
       "F34_Suo_et_al      Liver                  3GEX                                   19270\n",
       "                                          5GEX                                    4762\n",
       "                   Skin                   3GEX                                   15104\n",
       "F35_Suo_et_al      Kidney                 3GEX                                    5106\n",
       "                   Liver                  3GEX                                    6667\n",
       "                   Skin                   3GEX                                    7956\n",
       "                   Yolk_sac               3GEX                                     723\n",
       "F37_Suo_et_al      Yolk_sac               3GEX                                   12729\n",
       "F38_Suo_et_al      Bone_marrow            3GEX                                    3137\n",
       "                   Kidney                 3GEX                                    4092\n",
       "                   Liver                  3GEX                                   11058\n",
       "                                          5GEX                                    2927\n",
       "                   Skin                   3GEX                                    7246\n",
       "                                          5GEX                                    3118\n",
       "                   Spleen                 3GEX                                    6686\n",
       "                   Thymus                 3GEX                                    5653\n",
       "                                          5GEX                                    2609\n",
       "F41_Suo_et_al      Bone_marrow            3GEX                                    5804\n",
       "                                          5GEX                                    6372\n",
       "                   Kidney                 3GEX                                    4115\n",
       "                                          5GEX                                    2195\n",
       "                   Liver                  3GEX                                    9701\n",
       "                                          5GEX                                    8587\n",
       "                   Skin                   3GEX                                    2932\n",
       "                                          5GEX                                     493\n",
       "                   Thymus                 3GEX                                    5908\n",
       "                                          5GEX                                    3062\n",
       "F45_Suo_et_al      Bone_marrow            3GEX                                    5130\n",
       "                                          5GEX                                    6408\n",
       "                   Kidney                 3GEX                                    2779\n",
       "                                          5GEX                                     767\n",
       "                   Liver                  3GEX                                    6256\n",
       "                                          5GEX                                   11055\n",
       "                   Skin                   3GEX                                    5587\n",
       "                                          5GEX                                    1912\n",
       "                   Spleen                 3GEX                                    8604\n",
       "                                          5GEX                                   10192\n",
       "                   Thymus                 3GEX                                   10328\n",
       "                                          5GEX                                    9172\n",
       "F50_Suo_et_al      Bone_marrow            5GEX                                   12317\n",
       "                   Skin                   5GEX                                   18128\n",
       "                   Spleen                 5GEX                                   19356\n",
       "F51_Suo_et_al      Bone_marrow            5GEX                                   21471\n",
       "                   Skin                   5GEX                                   25285\n",
       "                   Spleen                 5GEX                                   38090\n",
       "F61_Suo_et_al      Liver                  5GEX                                   29313\n",
       "                   Skin                   5GEX                                    9518\n",
       "                   Yolk_sac               5GEX                                   35589\n",
       "F64_Suo_et_al      Thymus                 5GEX                                    7597\n",
       "F66_Suo_et_al      Gut                    3GEX                                   13745\n",
       "F67_Suo_et_al      Gut                    3GEX                                    8706\n",
       "                   Thymus                 5GEX                                   18662\n",
       "F69_Suo_et_al      Skin                   5GEX                                   15553\n",
       "                   Spleen                 5GEX                                    1952\n",
       "F71_Suo_et_al      Skin                   5GEX                                   21402\n",
       "F72_Suo_et_al      Gut                    5GEX                                   19029\n",
       "                   Mesenteric_lymph_node  5GEX                                    2795\n",
       "F73_Suo_et_al      Gut                    5GEX                                   26093\n",
       "F78_Suo_et_al      Gut                    5GEX                                    5332\n",
       "                   Mesenteric_lymph_node  5GEX                                    3107\n",
       "dtype: int64"
      ]
     },
     "metadata": {},
     "output_type": "display_data"
    }
   ],
   "source": [
    "with pd.option_context('display.max_rows', None):\n",
    "    k = adata.obs.groupby([\"integration_donor\", \"organ\", \"integration_library_platform_coarse\"]).size()\n",
    "    display(k[k!=0])"
   ]
  },
  {
   "cell_type": "code",
   "execution_count": 65,
   "id": "4f2dde19-d74b-4277-9676-638efc5f91d4",
   "metadata": {},
   "outputs": [
    {
     "data": {
      "text/plain": [
       "organ                  integration_library_platform_coarse  integration_donor\n",
       "Bone_marrow            3GEX                                 F21_Suo_et_al         6064\n",
       "                                                            F29_Suo_et_al         7925\n",
       "                                                            F30_Suo_et_al        10259\n",
       "                                                            F38_Suo_et_al         3137\n",
       "                                                            F41_Suo_et_al         5804\n",
       "                                                            F45_Suo_et_al         5130\n",
       "                       5GEX                                 F29_Suo_et_al         6913\n",
       "                                                            F30_Suo_et_al         1871\n",
       "                                                            F41_Suo_et_al         6372\n",
       "                                                            F45_Suo_et_al         6408\n",
       "                                                            F50_Suo_et_al        12317\n",
       "                                                            F51_Suo_et_al        21471\n",
       "Gut                    3GEX                                 F66_Suo_et_al        13745\n",
       "                                                            F67_Suo_et_al         8706\n",
       "                       5GEX                                 F72_Suo_et_al        19029\n",
       "                                                            F73_Suo_et_al        26093\n",
       "                                                            F78_Suo_et_al         5332\n",
       "Kidney                 3GEX                                 F35_Suo_et_al         5106\n",
       "                                                            F38_Suo_et_al         4092\n",
       "                                                            F41_Suo_et_al         4115\n",
       "                                                            F45_Suo_et_al         2779\n",
       "                       5GEX                                 F41_Suo_et_al         2195\n",
       "                                                            F45_Suo_et_al          767\n",
       "Liver                  3GEX                                 F19_Suo_et_al           63\n",
       "                                                            F21_Suo_et_al         9268\n",
       "                                                            F22_Suo_et_al        14721\n",
       "                                                            F23_Suo_et_al         7464\n",
       "                                                            F29_Suo_et_al         7631\n",
       "                                                            F30_Suo_et_al        11942\n",
       "                                                            F32_Suo_et_al         8483\n",
       "                                                            F33_Suo_et_al        23815\n",
       "                                                            F34_Suo_et_al        19270\n",
       "                                                            F35_Suo_et_al         6667\n",
       "                                                            F38_Suo_et_al        11058\n",
       "                                                            F41_Suo_et_al         9701\n",
       "                                                            F45_Suo_et_al         6256\n",
       "                       5GEX                                 F29_Suo_et_al         2590\n",
       "                                                            F30_Suo_et_al         6700\n",
       "                                                            F32_Suo_et_al         3901\n",
       "                                                            F34_Suo_et_al         4762\n",
       "                                                            F38_Suo_et_al         2927\n",
       "                                                            F41_Suo_et_al         8587\n",
       "                                                            F45_Suo_et_al        11055\n",
       "                                                            F61_Suo_et_al        29313\n",
       "Mesenteric_lymph_node  5GEX                                 F72_Suo_et_al         2795\n",
       "                                                            F78_Suo_et_al         3107\n",
       "Skin                   3GEX                                 F19_Suo_et_al         5209\n",
       "                                                            F32_Suo_et_al        10635\n",
       "                                                            F33_Suo_et_al        14691\n",
       "                                                            F34_Suo_et_al        15104\n",
       "                                                            F35_Suo_et_al         7956\n",
       "                                                            F38_Suo_et_al         7246\n",
       "                                                            F41_Suo_et_al         2932\n",
       "                                                            F45_Suo_et_al         5587\n",
       "                       5GEX                                 F38_Suo_et_al         3118\n",
       "                                                            F41_Suo_et_al          493\n",
       "                                                            F45_Suo_et_al         1912\n",
       "                                                            F50_Suo_et_al        18128\n",
       "                                                            F51_Suo_et_al        25285\n",
       "                                                            F61_Suo_et_al         9518\n",
       "                                                            F69_Suo_et_al        15553\n",
       "                                                            F71_Suo_et_al        21402\n",
       "Spleen                 3GEX                                 F21_Suo_et_al         9213\n",
       "                                                            F22_Suo_et_al          350\n",
       "                                                            F23_Suo_et_al         9445\n",
       "                                                            F29_Suo_et_al         5749\n",
       "                                                            F30_Suo_et_al         7223\n",
       "                                                            F38_Suo_et_al         6686\n",
       "                                                            F45_Suo_et_al         8604\n",
       "                       5GEX                                 F29_Suo_et_al         4962\n",
       "                                                            F30_Suo_et_al         4545\n",
       "                                                            F45_Suo_et_al        10192\n",
       "                                                            F50_Suo_et_al        19356\n",
       "                                                            F51_Suo_et_al        38090\n",
       "                                                            F69_Suo_et_al         1952\n",
       "Thymus                 3GEX                                 F21_Suo_et_al         8291\n",
       "                                                            F22_Suo_et_al           14\n",
       "                                                            F23_Suo_et_al         5509\n",
       "                                                            F29_Suo_et_al         5732\n",
       "                                                            F30_Suo_et_al         7218\n",
       "                                                            F32_Suo_et_al         4377\n",
       "                                                            F38_Suo_et_al         5653\n",
       "                                                            F41_Suo_et_al         5908\n",
       "                                                            F45_Suo_et_al        10328\n",
       "                       5GEX                                 F29_Suo_et_al         4432\n",
       "                                                            F30_Suo_et_al         4764\n",
       "                                                            F38_Suo_et_al         2609\n",
       "                                                            F41_Suo_et_al         3062\n",
       "                                                            F45_Suo_et_al         9172\n",
       "                                                            F64_Suo_et_al         7597\n",
       "                                                            F67_Suo_et_al        18662\n",
       "Yolk_sac               3GEX                                 F22_Suo_et_al           41\n",
       "                                                            F32_Suo_et_al          714\n",
       "                                                            F35_Suo_et_al          723\n",
       "                                                            F37_Suo_et_al        12729\n",
       "                       5GEX                                 F61_Suo_et_al        35589\n",
       "dtype: int64"
      ]
     },
     "metadata": {},
     "output_type": "display_data"
    }
   ],
   "source": [
    "with pd.option_context('display.max_rows', None):\n",
    "    k = adata.obs.groupby([\"organ\", \"integration_library_platform_coarse\", \"integration_donor\"]).size()\n",
    "    display(k[k!=0])"
   ]
  },
  {
   "cell_type": "markdown",
   "id": "79a31230-db1c-4596-95a8-a6ba62509fa0",
   "metadata": {},
   "source": [
    "## Decision"
   ]
  },
  {
   "cell_type": "markdown",
   "id": "f15fc627-11dc-489c-8d3a-0544e7fcff80",
   "metadata": {},
   "source": [
    "- Training v01_01:\n",
    "    - integration_library_platform_coarse\n",
    "    - integration_donor\n",
    "    - organ\n",
    "\n",
    "- Training v01_02:\n",
    "    - __(covariate)__ integration_library_platform_coarse\n",
    "    - __(covariate)__ integration_donor\n",
    "    - organ\n",
    "\n",
    "- Training v01_03:\n",
    "    - __(covariate)__ integration_library_platform_coarse\n",
    "    - integration_donor\n",
    "    - organ\n",
    " \n",
    "- Training v01_04:\n",
    "    - integration_library_platform_coarse\n",
    "    - __(covariate)__ integration_donor\n",
    "    - organ\n",
    " \n",
    "- Training v01_05:\n",
    "    - __(covariate)__ covariate integration_library_platform_coarse\n",
    "    - __(covariate)__ covariate integration_donor\n",
    "    - __(covariate)__ organ"
   ]
  },
  {
   "cell_type": "markdown",
   "id": "d19c5945-7e38-413f-b307-9d18981f0f7f",
   "metadata": {},
   "source": [
    "- Training v02_01:\n",
    "    - integration_library_platform_coarse\n",
    "    - __(covariate)__ integration_donor\n",
    "\n",
    "- Training v02_02:\n",
    "    - integration_library_platform_coarse\n",
    "    - integration_donor\n",
    "\n",
    "- Training v02_03:\n",
    "    - __(covariate)__ integration_library_platform_coarse\n",
    "    - integration_donor\n",
    "\n",
    "- Training v02_04:\n",
    "    - __(covariate)__ integration_library_platform_coarse\n",
    "    - __(covariate)__ integration_donor"
   ]
  },
  {
   "cell_type": "markdown",
   "id": "cee17006-2b64-4ebb-aad4-07fa6b2bf35f",
   "metadata": {},
   "source": [
    "Use `dataset_complete_Suo.h5ad` anndata object."
   ]
  },
  {
   "cell_type": "code",
   "execution_count": null,
   "id": "aeffbc29-f0ec-4646-9a43-e86281176a53",
   "metadata": {},
   "outputs": [],
   "source": []
  }
 ],
 "metadata": {
  "kernelspec": {
   "display_name": "Python 3 (ipykernel)",
   "language": "python",
   "name": "python3"
  },
  "language_info": {
   "codemirror_mode": {
    "name": "ipython",
    "version": 3
   },
   "file_extension": ".py",
   "mimetype": "text/x-python",
   "name": "python",
   "nbconvert_exporter": "python",
   "pygments_lexer": "ipython3",
   "version": "3.10.14"
  }
 },
 "nbformat": 4,
 "nbformat_minor": 5
}
