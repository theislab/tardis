{
 "cells": [
  {
   "cell_type": "markdown",
   "id": "cbb016da-7b0d-4e2e-a2e9-dec1a675aec9",
   "metadata": {},
   "source": [
    "## Ablation Analysis"
   ]
  },
  {
   "cell_type": "code",
   "execution_count": 1,
   "id": "91395c5f-9818-4b49-86ab-5c2b2504bf44",
   "metadata": {},
   "outputs": [],
   "source": [
    "import warnings\n",
    "import os\n",
    "import sys\n",
    "import gc\n",
    "import warnings"
   ]
  },
  {
   "cell_type": "code",
   "execution_count": 2,
   "id": "552cf189-95cf-4f91-b5a2-5e4f767843aa",
   "metadata": {},
   "outputs": [],
   "source": [
    "import anndata as ad\n",
    "import scanpy as sc\n",
    "import copy\n",
    "import torch\n",
    "from pathlib import Path\n",
    "import networkx as nx\n",
    "from sklearn.neighbors import kneighbors_graph\n",
    "import numpy as np\n",
    "import scanpy as sc\n",
    "import pandas as pd\n",
    "import numpy as np\n",
    "import scipy.stats\n",
    "import tqdm\n",
    "\n",
    "sys.path.append(\"/home/icb/kemal.inecik/work/codes/tardis\")\n",
    "import tardis\n",
    "from tardis._utils.functions import create_random_mask\n",
    "import sklearn\n",
    "import numpy as np\n",
    "from sklearn.cluster import KMeans\n",
    "from sklearn import metrics\n",
    "tardis.config = tardis.config_server"
   ]
  },
  {
   "cell_type": "code",
   "execution_count": 3,
   "id": "31634917-88cf-4d2d-b024-a58d1ad39796",
   "metadata": {},
   "outputs": [
    {
     "data": {
      "text/plain": [
       "True"
      ]
     },
     "execution_count": 3,
     "metadata": {},
     "output_type": "execute_result"
    }
   ],
   "source": [
    "torch.cuda.is_available()"
   ]
  },
  {
   "cell_type": "code",
   "execution_count": 4,
   "id": "da277c34-a505-46b6-8a98-78e6d0fd1766",
   "metadata": {},
   "outputs": [],
   "source": [
    "%matplotlib inline\n",
    "%config InlineBackend.figure_format='retina'\n",
    "import matplotlib.pyplot as plt\n",
    "import seaborn as sns\n",
    "\n",
    "import pickle\n",
    "_rcparams_path = \"/home/icb/kemal.inecik/work/codes/tardis/training/local/figures/rcparams.pickle\"\n",
    "with open(_rcparams_path, 'rb') as file:\n",
    "    _rcparams = pickle.load(file)\n",
    "plt.rcParams.update(_rcparams)"
   ]
  },
  {
   "cell_type": "code",
   "execution_count": 5,
   "id": "afd300e0-2eeb-4c1d-bf3f-b9c1dd6d8582",
   "metadata": {},
   "outputs": [
    {
     "data": {
      "text/plain": [
       "AnnData object with n_obs × n_vars = 19053 × 5000\n",
       "    obs: 'mouse', 'experiment', 'time_int', 'time_cat', 'zone', 'status_control'"
      ]
     },
     "execution_count": 5,
     "metadata": {},
     "output_type": "execute_result"
    }
   ],
   "source": [
    "adata_file_path = os.path.join(tardis.config.io_directories[\"processed\"], \"biolord_afriat.h5ad\")\n",
    "assert os.path.isfile(adata_file_path), f\"File not already exist: `{adata_file_path}`\"\n",
    "adata = ad.read_h5ad(adata_file_path)\n",
    "adata"
   ]
  },
  {
   "cell_type": "code",
   "execution_count": null,
   "id": "ec8ac348-8119-4a49-8736-d41812231b2d",
   "metadata": {},
   "outputs": [],
   "source": []
  },
  {
   "cell_type": "code",
   "execution_count": 6,
   "id": "3f9f7f2d-5a04-4be6-8b7a-902a0a5051e2",
   "metadata": {},
   "outputs": [],
   "source": [
    "latent_dict = dict()\n",
    "reconst_r2_all = dict()\n",
    "reconst_r2_valid = dict()\n",
    "mi_normalized = dict()\n",
    "max_mig_all = dict()\n",
    "max_mig_valid = dict()"
   ]
  },
  {
   "cell_type": "code",
   "execution_count": 7,
   "id": "038e7682-babe-4751-ab7c-04a015a7560d",
   "metadata": {},
   "outputs": [],
   "source": [
    "bs = 16\n",
    "calcs = sorted([\n",
    "    0.0, \n",
    "    0.2, 0.6, \n",
    "    0.9, 0.91, 0.92, 0.93, 0.94, 0.95, 0.96, 0.97, 0.98, 0.99, \n",
    "    0.991, 0.992, 0.993, 0.994, 0.995, 0.996, 0.997, 0.998, 0.999\n",
    "])"
   ]
  },
  {
   "cell_type": "code",
   "execution_count": 8,
   "id": "182eb1bc-3898-4b00-9b88-edf0444dc24b",
   "metadata": {},
   "outputs": [
    {
     "name": "stdout",
     "output_type": "stream",
     "text": [
      "\u001b[34mINFO    \u001b[0m File \u001b[35m/lustre/groups/ml01/workspace/kemal.inecik/tardis_data/models/afriat_scvi/\u001b[0m\u001b[95mmodel.pt\u001b[0m already downloaded\n"
     ]
    },
    {
     "name": "stderr",
     "output_type": "stream",
     "text": [
      "CUDA backend failed to initialize: Found cuDNN version 8700, but JAX was built against version 8907, which is newer. The copy of cuDNN that is installed must be at least as new as the version against which JAX was built. (Set TF_CPP_MIN_LOG_LEVEL=0 and rerun for more info.)\n",
      "/home/icb/kemal.inecik/tools/apps/mamba/envs/tardis_env/lib/python3.10/site-packages/scvi/data/fields/_base_field.py:64: UserWarning: adata.X does not contain unnormalized count data. Are you sure this is what you want?\n",
      "  self.validate_field(adata)\n"
     ]
    }
   ],
   "source": [
    "adata = ad.read_h5ad(adata_file_path)\n",
    "ratio_true=0.0\n",
    "mask = create_random_mask(adata.shape[1], ratio_true=ratio_true, seed=2024)\n",
    "adata.X[:, mask] = 0.0\n",
    "\n",
    "dir_path = os.path.join(\n",
    "    tardis.config.io_directories[\"models\"],\n",
    "    \"afriat_scvi\"\n",
    ")\n",
    "vae = tardis.MyModel.load(dir_path=dir_path, adata=adata)\n",
    "latent_dict[\"scvi\"] = vae.get_latent_representation()\n",
    "\n",
    "for tensors in vae._make_data_loader(adata=adata, batch_size=adata.n_obs):\n",
    "    pred = (\n",
    "        vae.module.my_sample(tensors=tensors, latent_space=False, return_dist=False, n_samples=1)\n",
    "        .cpu()\n",
    "        .numpy()\n",
    "        .mean(axis=0)  # aggregate 'n_sample's\n",
    "    )\n",
    "\n",
    "ll = []\n",
    "for i in range(int(adata.shape[0]/bs)-1):\n",
    "    indices = list(range(bs * i, bs * (i + 1)))\n",
    "    true = adata.X[indices, :][:, ~mask].mean(axis=0)\n",
    "    _pred = pred[indices, :][:, ~mask].mean(axis=0)\n",
    "    ll.append(sklearn.metrics.r2_score(true, _pred))\n",
    "reconst_r2_all[\"scvi\"] = np.mean(ll)\n",
    "\n",
    "ll = []\n",
    "vi = vae.validation_indices\n",
    "for i in range(int(len(vi)/bs)-1):\n",
    "    indices_ = list(range(bs * i, bs * (i + 1)))\n",
    "    indices = vi[indices_]\n",
    "    true = adata.X[indices, :][:, ~mask].mean(axis=0)\n",
    "    _pred = pred[indices, :][:, ~mask].mean(axis=0)\n",
    "    ll.append(sklearn.metrics.r2_score(true, _pred))\n",
    "reconst_r2_valid[\"scvi\"] = np.mean(ll)"
   ]
  },
  {
   "cell_type": "code",
   "execution_count": 9,
   "id": "d80093f3-3994-45db-a46a-501adf3b5a8f",
   "metadata": {},
   "outputs": [
    {
     "name": "stderr",
     "output_type": "stream",
     "text": [
      "  0%|                                                                                                                                                                                                                                                                     | 0/22 [00:00<?, ?it/s]"
     ]
    },
    {
     "name": "stdout",
     "output_type": "stream",
     "text": [
      "\u001b[34mINFO    \u001b[0m File \u001b[35m/lustre/groups/ml01/workspace/kemal.inecik/tardis_data/models/afriat_v2_4/\u001b[0m\u001b[95mmodel.pt\u001b[0m already downloaded\n"
     ]
    },
    {
     "name": "stderr",
     "output_type": "stream",
     "text": [
      "/home/icb/kemal.inecik/tools/apps/mamba/envs/tardis_env/lib/python3.10/site-packages/scvi/data/fields/_base_field.py:64: UserWarning: adata.X does not contain unnormalized count data. Are you sure this is what you want?\n",
      "  self.validate_field(adata)\n",
      "  5%|███████████▌                                                                                                                                                                                                                                                 | 1/22 [00:07<02:42,  7.73s/it]"
     ]
    },
    {
     "name": "stdout",
     "output_type": "stream",
     "text": [
      "\u001b[34mINFO    \u001b[0m File \u001b[35m/lustre/groups/ml01/workspace/kemal.inecik/tardis_data/models/afriat_v2_4_ablation_0.2/\u001b[0m\u001b[95mmodel.pt\u001b[0m      \n",
      "         already downloaded                                                                                        \n"
     ]
    },
    {
     "name": "stderr",
     "output_type": "stream",
     "text": [
      "  9%|███████████████████████                                                                                                                                                                                                                                      | 2/22 [00:15<02:33,  7.69s/it]"
     ]
    },
    {
     "name": "stdout",
     "output_type": "stream",
     "text": [
      "\u001b[34mINFO    \u001b[0m File \u001b[35m/lustre/groups/ml01/workspace/kemal.inecik/tardis_data/models/afriat_v2_4_ablation_0.6/\u001b[0m\u001b[95mmodel.pt\u001b[0m      \n",
      "         already downloaded                                                                                        \n"
     ]
    },
    {
     "name": "stderr",
     "output_type": "stream",
     "text": [
      "/home/icb/kemal.inecik/tools/apps/mamba/envs/tardis_env/lib/python3.10/site-packages/scvi/data/fields/_base_field.py:64: UserWarning: adata.X does not contain unnormalized count data. Are you sure this is what you want?\n",
      "  self.validate_field(adata)\n",
      " 14%|██████████████████████████████████▌                                                                                                                                                                                                                          | 3/22 [00:22<02:22,  7.52s/it]"
     ]
    },
    {
     "name": "stdout",
     "output_type": "stream",
     "text": [
      "\u001b[34mINFO    \u001b[0m File \u001b[35m/lustre/groups/ml01/workspace/kemal.inecik/tardis_data/models/afriat_v2_4_ablation_0.9/\u001b[0m\u001b[95mmodel.pt\u001b[0m      \n",
      "         already downloaded                                                                                        \n"
     ]
    },
    {
     "name": "stderr",
     "output_type": "stream",
     "text": [
      " 18%|██████████████████████████████████████████████                                                                                                                                                                                                               | 4/22 [00:30<02:14,  7.46s/it]"
     ]
    },
    {
     "name": "stdout",
     "output_type": "stream",
     "text": [
      "\u001b[34mINFO    \u001b[0m File \u001b[35m/lustre/groups/ml01/workspace/kemal.inecik/tardis_data/models/afriat_v2_4_ablation_0.91/\u001b[0m\u001b[95mmodel.pt\u001b[0m     \n",
      "         already downloaded                                                                                        \n"
     ]
    },
    {
     "name": "stderr",
     "output_type": "stream",
     "text": [
      "/home/icb/kemal.inecik/tools/apps/mamba/envs/tardis_env/lib/python3.10/site-packages/scvi/data/fields/_base_field.py:64: UserWarning: adata.X does not contain unnormalized count data. Are you sure this is what you want?\n",
      "  self.validate_field(adata)\n",
      " 23%|█████████████████████████████████████████████████████████▌                                                                                                                                                                                                   | 5/22 [00:37<02:05,  7.40s/it]"
     ]
    },
    {
     "name": "stdout",
     "output_type": "stream",
     "text": [
      "\u001b[34mINFO    \u001b[0m File \u001b[35m/lustre/groups/ml01/workspace/kemal.inecik/tardis_data/models/afriat_v2_4_ablation_0.92/\u001b[0m\u001b[95mmodel.pt\u001b[0m     \n",
      "         already downloaded                                                                                        \n"
     ]
    },
    {
     "name": "stderr",
     "output_type": "stream",
     "text": [
      " 27%|█████████████████████████████████████████████████████████████████████                                                                                                                                                                                        | 6/22 [00:44<01:57,  7.37s/it]"
     ]
    },
    {
     "name": "stdout",
     "output_type": "stream",
     "text": [
      "\u001b[34mINFO    \u001b[0m File \u001b[35m/lustre/groups/ml01/workspace/kemal.inecik/tardis_data/models/afriat_v2_4_ablation_0.93/\u001b[0m\u001b[95mmodel.pt\u001b[0m     \n",
      "         already downloaded                                                                                        \n"
     ]
    },
    {
     "name": "stderr",
     "output_type": "stream",
     "text": [
      " 32%|████████████████████████████████████████████████████████████████████████████████▌                                                                                                                                                                            | 7/22 [00:51<01:49,  7.33s/it]"
     ]
    },
    {
     "name": "stdout",
     "output_type": "stream",
     "text": [
      "\u001b[34mINFO    \u001b[0m File \u001b[35m/lustre/groups/ml01/workspace/kemal.inecik/tardis_data/models/afriat_v2_4_ablation_0.94/\u001b[0m\u001b[95mmodel.pt\u001b[0m     \n",
      "         already downloaded                                                                                        \n"
     ]
    },
    {
     "name": "stderr",
     "output_type": "stream",
     "text": [
      " 36%|████████████████████████████████████████████████████████████████████████████████████████████                                                                                                                                                                 | 8/22 [00:59<01:42,  7.31s/it]"
     ]
    },
    {
     "name": "stdout",
     "output_type": "stream",
     "text": [
      "\u001b[34mINFO    \u001b[0m File \u001b[35m/lustre/groups/ml01/workspace/kemal.inecik/tardis_data/models/afriat_v2_4_ablation_0.95/\u001b[0m\u001b[95mmodel.pt\u001b[0m     \n",
      "         already downloaded                                                                                        \n"
     ]
    },
    {
     "name": "stderr",
     "output_type": "stream",
     "text": [
      " 41%|███████████████████████████████████████████████████████████████████████████████████████████████████████▌                                                                                                                                                     | 9/22 [01:06<01:34,  7.27s/it]"
     ]
    },
    {
     "name": "stdout",
     "output_type": "stream",
     "text": [
      "\u001b[34mINFO    \u001b[0m File \u001b[35m/lustre/groups/ml01/workspace/kemal.inecik/tardis_data/models/afriat_v2_4_ablation_0.96/\u001b[0m\u001b[95mmodel.pt\u001b[0m     \n",
      "         already downloaded                                                                                        \n"
     ]
    },
    {
     "name": "stderr",
     "output_type": "stream",
     "text": [
      " 45%|██████████████████████████████████████████████████████████████████████████████████████████████████████████████████▌                                                                                                                                         | 10/22 [01:13<01:27,  7.25s/it]"
     ]
    },
    {
     "name": "stdout",
     "output_type": "stream",
     "text": [
      "\u001b[34mINFO    \u001b[0m File \u001b[35m/lustre/groups/ml01/workspace/kemal.inecik/tardis_data/models/afriat_v2_4_ablation_0.97/\u001b[0m\u001b[95mmodel.pt\u001b[0m     \n",
      "         already downloaded                                                                                        \n"
     ]
    },
    {
     "name": "stderr",
     "output_type": "stream",
     "text": [
      " 50%|██████████████████████████████████████████████████████████████████████████████████████████████████████████████████████████████                                                                                                                              | 11/22 [01:20<01:19,  7.24s/it]"
     ]
    },
    {
     "name": "stdout",
     "output_type": "stream",
     "text": [
      "\u001b[34mINFO    \u001b[0m File \u001b[35m/lustre/groups/ml01/workspace/kemal.inecik/tardis_data/models/afriat_v2_4_ablation_0.98/\u001b[0m\u001b[95mmodel.pt\u001b[0m     \n",
      "         already downloaded                                                                                        \n"
     ]
    },
    {
     "name": "stderr",
     "output_type": "stream",
     "text": [
      "/home/icb/kemal.inecik/work/codes/tardis/tardis/_mymodel.py:81: UserWarning: This dataset has some empty cells, this might fail inference.Data should be filtered with `scanpy.pp.filter_cells()`\n",
      "  library_log_means, library_log_vars = _init_library_size(self.adata_manager, n_batch)\n",
      " 55%|█████████████████████████████████████████████████████████████████████████████████████████████████████████████████████████████████████████▍                                                                                                                  | 12/22 [01:27<01:12,  7.21s/it]"
     ]
    },
    {
     "name": "stdout",
     "output_type": "stream",
     "text": [
      "\u001b[34mINFO    \u001b[0m File \u001b[35m/lustre/groups/ml01/workspace/kemal.inecik/tardis_data/models/afriat_v2_4_ablation_0.99/\u001b[0m\u001b[95mmodel.pt\u001b[0m     \n",
      "         already downloaded                                                                                        \n"
     ]
    },
    {
     "name": "stderr",
     "output_type": "stream",
     "text": [
      "/home/icb/kemal.inecik/work/codes/tardis/tardis/_mymodel.py:81: UserWarning: This dataset has some empty cells, this might fail inference.Data should be filtered with `scanpy.pp.filter_cells()`\n",
      "  library_log_means, library_log_vars = _init_library_size(self.adata_manager, n_batch)\n",
      " 59%|████████████████████████████████████████████████████████████████████████████████████████████████████████████████████████████████████████████████████▉                                                                                                       | 13/22 [01:35<01:04,  7.19s/it]"
     ]
    },
    {
     "name": "stdout",
     "output_type": "stream",
     "text": [
      "\u001b[34mINFO    \u001b[0m File \u001b[35m/lustre/groups/ml01/workspace/kemal.inecik/tardis_data/models/afriat_v2_4_ablation_0.991/\u001b[0m\u001b[95mmodel.pt\u001b[0m    \n",
      "         already downloaded                                                                                        \n"
     ]
    },
    {
     "name": "stderr",
     "output_type": "stream",
     "text": [
      "/home/icb/kemal.inecik/work/codes/tardis/tardis/_mymodel.py:81: UserWarning: This dataset has some empty cells, this might fail inference.Data should be filtered with `scanpy.pp.filter_cells()`\n",
      "  library_log_means, library_log_vars = _init_library_size(self.adata_manager, n_batch)\n",
      " 64%|████████████████████████████████████████████████████████████████████████████████████████████████████████████████████████████████████████████████████████████████▎                                                                                           | 14/22 [01:42<00:57,  7.21s/it]"
     ]
    },
    {
     "name": "stdout",
     "output_type": "stream",
     "text": [
      "\u001b[34mINFO    \u001b[0m File \u001b[35m/lustre/groups/ml01/workspace/kemal.inecik/tardis_data/models/afriat_v2_4_ablation_0.992/\u001b[0m\u001b[95mmodel.pt\u001b[0m    \n",
      "         already downloaded                                                                                        \n"
     ]
    },
    {
     "name": "stderr",
     "output_type": "stream",
     "text": [
      "/home/icb/kemal.inecik/work/codes/tardis/tardis/_mymodel.py:81: UserWarning: This dataset has some empty cells, this might fail inference.Data should be filtered with `scanpy.pp.filter_cells()`\n",
      "  library_log_means, library_log_vars = _init_library_size(self.adata_manager, n_batch)\n",
      " 68%|███████████████████████████████████████████████████████████████████████████████████████████████████████████████████████████████████████████████████████████████████████████▊                                                                                | 15/22 [01:49<00:50,  7.26s/it]"
     ]
    },
    {
     "name": "stdout",
     "output_type": "stream",
     "text": [
      "\u001b[34mINFO    \u001b[0m File \u001b[35m/lustre/groups/ml01/workspace/kemal.inecik/tardis_data/models/afriat_v2_4_ablation_0.993/\u001b[0m\u001b[95mmodel.pt\u001b[0m    \n",
      "         already downloaded                                                                                        \n"
     ]
    },
    {
     "name": "stderr",
     "output_type": "stream",
     "text": [
      "/home/icb/kemal.inecik/work/codes/tardis/tardis/_mymodel.py:81: UserWarning: This dataset has some empty cells, this might fail inference.Data should be filtered with `scanpy.pp.filter_cells()`\n",
      "  library_log_means, library_log_vars = _init_library_size(self.adata_manager, n_batch)\n",
      " 73%|███████████████████████████████████████████████████████████████████████████████████████████████████████████████████████████████████████████████████████████████████████████████████████▎                                                                    | 16/22 [01:56<00:43,  7.27s/it]"
     ]
    },
    {
     "name": "stdout",
     "output_type": "stream",
     "text": [
      "\u001b[34mINFO    \u001b[0m File \u001b[35m/lustre/groups/ml01/workspace/kemal.inecik/tardis_data/models/afriat_v2_4_ablation_0.994/\u001b[0m\u001b[95mmodel.pt\u001b[0m    \n",
      "         already downloaded                                                                                        \n"
     ]
    },
    {
     "name": "stderr",
     "output_type": "stream",
     "text": [
      "/home/icb/kemal.inecik/work/codes/tardis/tardis/_mymodel.py:81: UserWarning: This dataset has some empty cells, this might fail inference.Data should be filtered with `scanpy.pp.filter_cells()`\n",
      "  library_log_means, library_log_vars = _init_library_size(self.adata_manager, n_batch)\n",
      " 77%|██████████████████████████████████████████████████████████████████████████████████████████████████████████████████████████████████████████████████████████████████████████████████████████████████▋                                                         | 17/22 [02:04<00:36,  7.27s/it]"
     ]
    },
    {
     "name": "stdout",
     "output_type": "stream",
     "text": [
      "\u001b[34mINFO    \u001b[0m File \u001b[35m/lustre/groups/ml01/workspace/kemal.inecik/tardis_data/models/afriat_v2_4_ablation_0.995/\u001b[0m\u001b[95mmodel.pt\u001b[0m    \n",
      "         already downloaded                                                                                        \n"
     ]
    },
    {
     "name": "stderr",
     "output_type": "stream",
     "text": [
      "/home/icb/kemal.inecik/work/codes/tardis/tardis/_mymodel.py:81: UserWarning: This dataset has some empty cells, this might fail inference.Data should be filtered with `scanpy.pp.filter_cells()`\n",
      "  library_log_means, library_log_vars = _init_library_size(self.adata_manager, n_batch)\n",
      " 82%|██████████████████████████████████████████████████████████████████████████████████████████████████████████████████████████████████████████████████████████████████████████████████████████████████████████████▏                                             | 18/22 [02:11<00:29,  7.27s/it]"
     ]
    },
    {
     "name": "stdout",
     "output_type": "stream",
     "text": [
      "\u001b[34mINFO    \u001b[0m File \u001b[35m/lustre/groups/ml01/workspace/kemal.inecik/tardis_data/models/afriat_v2_4_ablation_0.996/\u001b[0m\u001b[95mmodel.pt\u001b[0m    \n",
      "         already downloaded                                                                                        \n"
     ]
    },
    {
     "name": "stderr",
     "output_type": "stream",
     "text": [
      "/home/icb/kemal.inecik/work/codes/tardis/tardis/_mymodel.py:81: UserWarning: This dataset has some empty cells, this might fail inference.Data should be filtered with `scanpy.pp.filter_cells()`\n",
      "  library_log_means, library_log_vars = _init_library_size(self.adata_manager, n_batch)\n",
      " 86%|█████████████████████████████████████████████████████████████████████████████████████████████████████████████████████████████████████████████████████████████████████████████████████████████████████████████████████████▋                                  | 19/22 [02:18<00:21,  7.26s/it]"
     ]
    },
    {
     "name": "stdout",
     "output_type": "stream",
     "text": [
      "\u001b[34mINFO    \u001b[0m File \u001b[35m/lustre/groups/ml01/workspace/kemal.inecik/tardis_data/models/afriat_v2_4_ablation_0.997/\u001b[0m\u001b[95mmodel.pt\u001b[0m    \n",
      "         already downloaded                                                                                        \n"
     ]
    },
    {
     "name": "stderr",
     "output_type": "stream",
     "text": [
      "/home/icb/kemal.inecik/work/codes/tardis/tardis/_mymodel.py:81: UserWarning: This dataset has some empty cells, this might fail inference.Data should be filtered with `scanpy.pp.filter_cells()`\n",
      "  library_log_means, library_log_vars = _init_library_size(self.adata_manager, n_batch)\n",
      " 91%|█████████████████████████████████████████████████████████████████████████████████████████████████████████████████████████████████████████████████████████████████████████████████████████████████████████████████████████████████████                       | 20/22 [02:26<00:14,  7.26s/it]"
     ]
    },
    {
     "name": "stdout",
     "output_type": "stream",
     "text": [
      "\u001b[34mINFO    \u001b[0m File \u001b[35m/lustre/groups/ml01/workspace/kemal.inecik/tardis_data/models/afriat_v2_4_ablation_0.998/\u001b[0m\u001b[95mmodel.pt\u001b[0m    \n",
      "         already downloaded                                                                                        \n"
     ]
    },
    {
     "name": "stderr",
     "output_type": "stream",
     "text": [
      "/home/icb/kemal.inecik/work/codes/tardis/tardis/_mymodel.py:81: UserWarning: This dataset has some empty cells, this might fail inference.Data should be filtered with `scanpy.pp.filter_cells()`\n",
      "  library_log_means, library_log_vars = _init_library_size(self.adata_manager, n_batch)\n",
      " 95%|████████████████████████████████████████████████████████████████████████████████████████████████████████████████████████████████████████████████████████████████████████████████████████████████████████████████████████████████████████████████▌           | 21/22 [02:33<00:07,  7.19s/it]"
     ]
    },
    {
     "name": "stdout",
     "output_type": "stream",
     "text": [
      "\u001b[34mINFO    \u001b[0m File \u001b[35m/lustre/groups/ml01/workspace/kemal.inecik/tardis_data/models/afriat_v2_4_ablation_0.999/\u001b[0m\u001b[95mmodel.pt\u001b[0m    \n",
      "         already downloaded                                                                                        \n"
     ]
    },
    {
     "name": "stderr",
     "output_type": "stream",
     "text": [
      "/home/icb/kemal.inecik/work/codes/tardis/tardis/_mymodel.py:81: UserWarning: This dataset has some empty cells, this might fail inference.Data should be filtered with `scanpy.pp.filter_cells()`\n",
      "  library_log_means, library_log_vars = _init_library_size(self.adata_manager, n_batch)\n",
      "100%|████████████████████████████████████████████████████████████████████████████████████████████████████████████████████████████████████████████████████████████████████████████████████████████████████████████████████████████████████████████████████████████| 22/22 [02:40<00:00,  7.28s/it]\n"
     ]
    }
   ],
   "source": [
    "for ratio_true in tqdm.tqdm(calcs):\n",
    "    adata = ad.read_h5ad(adata_file_path)\n",
    "    mask = create_random_mask(adata.shape[1], ratio_true=ratio_true, seed=2024)\n",
    "    adata.X[:, mask] = 0.0\n",
    "    \n",
    "    dir_path = os.path.join(\n",
    "        tardis.config.io_directories[\"models\"],\n",
    "        (\"afriat_v2_4\" if ratio_true == 0.0 else f\"afriat_v2_4_ablation_{ratio_true}\")\n",
    "    )\n",
    "    vae = tardis.MyModel.load(dir_path=dir_path, adata=adata)\n",
    "    latent_dict[ratio_true] = vae.get_latent_representation()\n",
    "    \n",
    "    for tensors in vae._make_data_loader(adata=adata, batch_size=adata.n_obs):\n",
    "        pred = (\n",
    "            vae.module.my_sample(tensors=tensors, latent_space=False, return_dist=False, n_samples=1)\n",
    "            .cpu()\n",
    "            .numpy()\n",
    "            .mean(axis=0)  # aggregate 'n_sample's\n",
    "        )\n",
    "    \n",
    "    ll = []\n",
    "    for i in range(int(adata.shape[0]/bs)-1):\n",
    "        indices = list(range(bs * i, bs * (i + 1)))\n",
    "        true = adata.X[indices, :][:, ~mask].mean(axis=0)\n",
    "        _pred = pred[indices, :][:, ~mask].mean(axis=0)\n",
    "        ll.append(sklearn.metrics.r2_score(true, _pred))\n",
    "    reconst_r2_all[ratio_true] = np.mean(ll)\n",
    "    \n",
    "    ll = []\n",
    "    vi = vae.validation_indices\n",
    "    for i in range(int(len(vi)/bs)-1):\n",
    "        indices_ = list(range(bs * i, bs * (i + 1)))\n",
    "        indices = vi[indices_]\n",
    "        true = adata.X[indices, :][:, ~mask].mean(axis=0)\n",
    "        _pred = pred[indices, :][:, ~mask].mean(axis=0)\n",
    "        ll.append(sklearn.metrics.r2_score(true, _pred))\n",
    "    reconst_r2_valid[ratio_true] = np.mean(ll)\n",
    "    \n",
    "    mi_normalized[ratio_true] = {z: vae.get_MI_normalized_training(z) for z in [\"zone\", \"status_control\", \"time_cat\"]}\n",
    "\n",
    "    from tardis._disentanglementmanager import DisentanglementManager as DM\n",
    "    factors_indices = sorted([[indice, config.obs_key] for config in DM.configurations.items for indice in config.reserved_latent_indices])\n",
    "    factors = np.vstack([sklearn.preprocessing.LabelEncoder().fit_transform(\n",
    "        adata.obs[j].copy().astype(str).values.flatten()\n",
    "    ) for i, j in factors_indices]).T\n",
    "    data = latent_dict[ratio_true].copy()[:, [i for i, j in factors_indices]]\n",
    "    max_mig_all[ratio_true] = np.mean(vae.get_MI_precalculated(data=data, factors=factors, variation=\"maxMIG\", discretization_bins=256))\n",
    "    max_mig_valid[ratio_true] = np.mean(vae.get_MI_precalculated(data=data[vae.validation_indices, :], factors=factors[vae.validation_indices, :], variation=\"maxMIG\", discretization_bins=256))"
   ]
  },
  {
   "cell_type": "code",
   "execution_count": 10,
   "id": "b75211e8-ca3f-4fdb-86c4-de3c2ca97cc1",
   "metadata": {},
   "outputs": [
    {
     "data": {
      "text/plain": [
       "{0.0: 0.8583506330202505,\n",
       " 0.2: 0.8498139935860906,\n",
       " 0.6: 0.8390536713388382,\n",
       " 0.9: 0.8536516019679349,\n",
       " 0.91: 0.8005643443602674,\n",
       " 0.92: 0.7998798752617361,\n",
       " 0.93: 0.7278730959170586,\n",
       " 0.94: 0.796495055437099,\n",
       " 0.95: 0.7677566834682108,\n",
       " 0.96: 0.7288645187768626,\n",
       " 0.97: 0.6958833527351809,\n",
       " 0.98: 0.6888875243125874,\n",
       " 0.99: 0.622978087924154,\n",
       " 0.991: 0.6165318418068416,\n",
       " 0.992: 0.6309514400606709,\n",
       " 0.993: 0.5539609599907348,\n",
       " 0.994: 0.5662787223068028,\n",
       " 0.995: 0.5611022679779271,\n",
       " 0.996: 0.5088957628474783,\n",
       " 0.997: 0.5177442520083118,\n",
       " 0.998: 0.5236418560889778,\n",
       " 0.999: 0.3937502151886305}"
      ]
     },
     "execution_count": 10,
     "metadata": {},
     "output_type": "execute_result"
    }
   ],
   "source": [
    "max_mig_valid"
   ]
  },
  {
   "cell_type": "code",
   "execution_count": 11,
   "id": "4cd03a65-560d-4bd8-89e3-2c2bfe24f545",
   "metadata": {},
   "outputs": [
    {
     "data": {
      "text/plain": [
       "{0.0: 0.09694134593558497,\n",
       " 0.2: 0.09715021880345759,\n",
       " 0.6: 0.10019364663962538,\n",
       " 0.9: 0.13463923252920243,\n",
       " 0.91: 0.16289691655695382,\n",
       " 0.92: 0.1434848684972842,\n",
       " 0.93: 0.14028619442259935,\n",
       " 0.94: 0.14761419764318343,\n",
       " 0.95: 0.1645764317632637,\n",
       " 0.96: 0.20394805364821064,\n",
       " 0.97: 0.17967801813066595,\n",
       " 0.98: 0.21844107384079142,\n",
       " 0.99: 0.3416248360435271,\n",
       " 0.991: 0.25878338496930187,\n",
       " 0.992: 0.296693641101551,\n",
       " 0.993: 0.40985474953823164,\n",
       " 0.994: 0.36004423123247,\n",
       " 0.995: 0.4365020151301172,\n",
       " 0.996: 0.5000249220542329,\n",
       " 0.997: 0.5860658303887643,\n",
       " 0.998: 0.5105868744009107,\n",
       " 0.999: 0.7971474412140888}"
      ]
     },
     "execution_count": 11,
     "metadata": {},
     "output_type": "execute_result"
    }
   ],
   "source": [
    "{i: v[\"zone\"][('validation', 'unreserved')] for i, v in mi_normalized.items()}"
   ]
  },
  {
   "cell_type": "code",
   "execution_count": 12,
   "id": "cdbf7c0e-8bf6-4005-af73-86173e59a1f8",
   "metadata": {},
   "outputs": [
    {
     "data": {
      "text/plain": [
       "({'scvi': 0.9794915922725316,\n",
       "  0.0: 0.9776903543918521,\n",
       "  0.2: 0.9781409913967698,\n",
       "  0.6: 0.9764483871375248,\n",
       "  0.9: 0.954094042430282,\n",
       "  0.91: 0.9493476993149418,\n",
       "  0.92: 0.9575664963591353,\n",
       "  0.93: 0.9323883094050397,\n",
       "  0.94: 0.9476973628643781,\n",
       "  0.95: 0.9118750722140906,\n",
       "  0.96: 0.919130124857641,\n",
       "  0.97: 0.9397611331392058,\n",
       "  0.98: 0.8293069416335367,\n",
       "  0.99: 0.8599047332993995,\n",
       "  0.991: 0.8741459984794296,\n",
       "  0.992: 0.8486046412693782,\n",
       "  0.993: 0.892134242693435,\n",
       "  0.994: 0.8845538985344187,\n",
       "  0.995: 0.8933276341262962,\n",
       "  0.996: 0.9139460951743921,\n",
       "  0.997: 0.9488919048544922,\n",
       "  0.998: 0.9424651596012371,\n",
       "  0.999: 0.5651373344126887},\n",
       " {'scvi': 0.9760289868776779,\n",
       "  0.0: 0.9748477564208388,\n",
       "  0.2: 0.9755500219128085,\n",
       "  0.6: 0.9753313509864432,\n",
       "  0.9: 0.971821723123256,\n",
       "  0.91: 0.9703304177570348,\n",
       "  0.92: 0.9756216857337611,\n",
       "  0.93: 0.9611084955535352,\n",
       "  0.94: 0.9731458529292131,\n",
       "  0.95: 0.9667928509020741,\n",
       "  0.96: 0.9683855734805639,\n",
       "  0.97: 0.9793984037118519,\n",
       "  0.98: 0.9167412776497219,\n",
       "  0.99: 0.9477319890630451,\n",
       "  0.991: 0.9550932364463702,\n",
       "  0.992: 0.9401645106985654,\n",
       "  0.993: 0.9644487575437091,\n",
       "  0.994: 0.9530688184074169,\n",
       "  0.995: 0.9587810509427881,\n",
       "  0.996: 0.9682780894881948,\n",
       "  0.997: 0.9744766784241128,\n",
       "  0.998: 0.9671849326471567,\n",
       "  0.999: 0.8572070691521535})"
      ]
     },
     "execution_count": 12,
     "metadata": {},
     "output_type": "execute_result"
    }
   ],
   "source": [
    "reconst_r2_all, reconst_r2_valid"
   ]
  },
  {
   "cell_type": "markdown",
   "id": "973ce34f-bcb2-441c-81b1-ade4bbd5b2c8",
   "metadata": {},
   "source": [
    "# Cluster distribution"
   ]
  },
  {
   "cell_type": "code",
   "execution_count": 13,
   "id": "45ab4c22-2b02-48da-b199-be05cd7f1bfe",
   "metadata": {},
   "outputs": [],
   "source": [
    "adata = ad.read_h5ad(adata_file_path)\n",
    "adata.layers[\"counts\"] = adata.X.copy()\n",
    "sc.pp.normalize_total(adata, target_sum=1e6)\n",
    "sc.pp.log1p(adata)\n",
    "sc.pp.pca(adata)\n",
    "\n",
    "for k, v in latent_dict.items():\n",
    "    adata.obsm[str(k)] = v"
   ]
  },
  {
   "cell_type": "code",
   "execution_count": 15,
   "id": "a46c0abc-ef4d-4830-8999-0b14695c6950",
   "metadata": {},
   "outputs": [],
   "source": [
    "ll = dict()\n",
    "obs_key = \"time_cat\"\n",
    "for obsm in ['0.0', '0.2', '0.6', '0.9', '0.91', '0.92', '0.93', '0.94', '0.95', '0.96', '0.97', '0.98', '0.99', '0.991', '0.992', '0.993', '0.994', '0.995', '0.996', '0.997', '0.998', '0.999']:\n",
    "    ind = DM.configurations.get_ordered_obs_key().index(obs_key)\n",
    "    data = adata.obsm[str(obsm)][:, list(range(8 * ind, 8 * (1 + ind)))]\n",
    "    l = []\n",
    "    for c in adata.obs[\"time_cat\"].unique():\n",
    "        cat_data = data[(adata.obs[\"time_cat\"] == c), :]\n",
    "        l.append(cat_data.std(axis=0).mean())\n",
    "    ll[obsm] = np.mean(l)"
   ]
  },
  {
   "cell_type": "code",
   "execution_count": 16,
   "id": "bd218c2d-09fc-4741-91de-78cea45c0694",
   "metadata": {},
   "outputs": [
    {
     "data": {
      "text/plain": [
       "{'0.0': 0.083778314,\n",
       " '0.2': 0.08111936,\n",
       " '0.6': 0.058996618,\n",
       " '0.9': 0.03771937,\n",
       " '0.91': 0.03284199,\n",
       " '0.92': 0.039633993,\n",
       " '0.93': 0.031141141,\n",
       " '0.94': 0.02947674,\n",
       " '0.95': 0.03690366,\n",
       " '0.96': 0.024454094,\n",
       " '0.97': 0.025349513,\n",
       " '0.98': 0.01860594,\n",
       " '0.99': 0.02002851,\n",
       " '0.991': 0.020553796,\n",
       " '0.992': 0.020371025,\n",
       " '0.993': 0.018559048,\n",
       " '0.994': 0.018481618,\n",
       " '0.995': 0.017757984,\n",
       " '0.996': 0.022136897,\n",
       " '0.997': 0.01848099,\n",
       " '0.998': 0.020481892,\n",
       " '0.999': 0.023206994}"
      ]
     },
     "execution_count": 16,
     "metadata": {},
     "output_type": "execute_result"
    }
   ],
   "source": [
    "ll"
   ]
  },
  {
   "cell_type": "markdown",
   "id": "c8e8d14d-e992-4cf1-b557-fceffe7e0c6d",
   "metadata": {},
   "source": [
    "# Plot leidens"
   ]
  },
  {
   "cell_type": "code",
   "execution_count": 17,
   "id": "cefe7e65-ab19-4121-a3b4-04f67719ddea",
   "metadata": {},
   "outputs": [],
   "source": [
    "from tardis._disentanglementmanager import DisentanglementManager as DM"
   ]
  },
  {
   "cell_type": "code",
   "execution_count": 18,
   "id": "1b82a97e-2df7-4229-8f66-fb30d9f56447",
   "metadata": {},
   "outputs": [
    {
     "data": {
      "text/plain": [
       "dict_keys(['scvi', 0.0, 0.2, 0.6, 0.9, 0.91, 0.92, 0.93, 0.94, 0.95, 0.96, 0.97, 0.98, 0.99, 0.991, 0.992, 0.993, 0.994, 0.995, 0.996, 0.997, 0.998, 0.999])"
      ]
     },
     "execution_count": 18,
     "metadata": {},
     "output_type": "execute_result"
    }
   ],
   "source": [
    "latent_dict.keys()"
   ]
  },
  {
   "cell_type": "code",
   "execution_count": 19,
   "id": "7aa648f8-b1a5-4931-9a32-d45b02b7c738",
   "metadata": {},
   "outputs": [],
   "source": [
    "adata = ad.read_h5ad(adata_file_path)\n",
    "adata.layers[\"counts\"] = adata.X.copy()\n",
    "sc.pp.normalize_total(adata, target_sum=1e6)\n",
    "sc.pp.log1p(adata)\n",
    "sc.pp.pca(adata)"
   ]
  },
  {
   "cell_type": "code",
   "execution_count": 20,
   "id": "7c9c496e-82f6-4726-9bac-022a271547e3",
   "metadata": {},
   "outputs": [
    {
     "data": {
      "text/plain": [
       "AnnData object with n_obs × n_vars = 19053 × 5000\n",
       "    obs: 'mouse', 'experiment', 'time_int', 'time_cat', 'zone', 'status_control'\n",
       "    uns: 'log1p', 'pca'\n",
       "    obsm: 'X_pca', 'scvi', '0.0', '0.2', '0.6', '0.9', '0.91', '0.92', '0.93', '0.94', '0.95', '0.96', '0.97', '0.98', '0.99', '0.991', '0.992', '0.993', '0.994', '0.995', '0.996', '0.997', '0.998', '0.999'\n",
       "    varm: 'PCs'\n",
       "    layers: 'counts'"
      ]
     },
     "execution_count": 20,
     "metadata": {},
     "output_type": "execute_result"
    }
   ],
   "source": [
    "for k, v in latent_dict.items():\n",
    "    adata.obsm[str(k)] = v\n",
    "adata"
   ]
  },
  {
   "cell_type": "code",
   "execution_count": null,
   "id": "425220b0-b57c-45e4-928a-6bac037bb699",
   "metadata": {},
   "outputs": [],
   "source": [
    "reses = list(np.round(np.linspace(2, 0, 81), 3)[:-1])\n",
    "random_states = [10, 20, 30]\n",
    "obs_keys = [\"zone\", \"status_control\", \"time_cat\"]\n",
    "\n",
    "n_leidens = []\n",
    "for obs_key in tqdm.notebook.tqdm(obs_keys, desc='target', position=0, leave=False):\n",
    "    ind = DM.configurations.get_ordered_obs_key().index(obs_key)\n",
    "    for obsm in tqdm.notebook.tqdm(calcs, desc=f'Calculations', position=1, leave=False):\n",
    "        data = adata.obsm[str(obsm)][:, list(range(8 * ind, 8 * (1 + ind)))]\n",
    "        __adata = ad.AnnData(X=data)\n",
    "        for res in tqdm.notebook.tqdm(reses, desc='Resolutions', position=2, leave=False):\n",
    "            for random_state in tqdm.notebook.tqdm(random_states, desc='Random States', position=3, leave=False):\n",
    "                _adata = __adata.copy()\n",
    "                sc.pp.neighbors(_adata, random_state=random_state)\n",
    "                sc.tl.leiden(_adata, resolution=res, random_state=random_state+1)\n",
    "                n_leiden = _adata.obs[\"leiden\"].nunique()\n",
    "                n_leidens.append([obs_key, obsm, res, n_leiden, random_state])\n",
    "                del _adata\n",
    "                gc.collect();\n",
    "        del __adata\n",
    "        gc.collect();"
   ]
  },
  {
   "cell_type": "code",
   "execution_count": 23,
   "id": "f4f70027-2ad6-4ab0-8344-302c872c2206",
   "metadata": {},
   "outputs": [],
   "source": [
    "n_leiden_df = pd.DataFrame(n_leidens, columns=[\"target\", \"ratio_ablation\", \"resolution\", \"n_leiden\", \"random_state\"])\n",
    "n_leiden_df[\"ratio_ablation\"] = n_leiden_df[\"ratio_ablation\"].astype(str)\n",
    "n_leiden_df.sort_values(by=[\"target\", \"ratio_ablation\", \"resolution\"], ignore_index=True, inplace=True)\n",
    "n_leiden_df.reset_index(drop=True, inplace=True)"
   ]
  },
  {
   "cell_type": "code",
   "execution_count": 24,
   "id": "afef6710-1c75-4866-93c4-fcb1a36c3cdf",
   "metadata": {},
   "outputs": [],
   "source": [
    "adata.uns[\"ordered_targets\"] = DM.configurations.get_ordered_obs_key()"
   ]
  },
  {
   "cell_type": "code",
   "execution_count": 25,
   "id": "1364cf05-b19c-4d08-ae35-f81e9c1fbdb1",
   "metadata": {},
   "outputs": [],
   "source": [
    "ablation_adata_path = os.path.join(tardis.config.io_directories['figures'], \"ablation_afriat.h5ad\")\n",
    "ablation_data_path = os.path.join(tardis.config.io_directories['figures'], \"ablation_afriat.pickle\")"
   ]
  },
  {
   "cell_type": "code",
   "execution_count": 26,
   "id": "77f6f683-f8e4-4700-b1b8-ce8e15c80f44",
   "metadata": {},
   "outputs": [],
   "source": [
    "# Bundle all objects into a single dictionary\n",
    "\n",
    "data_to_save = {\n",
    "    'n_leiden_df': n_leiden_df,\n",
    "    'latent_dict': latent_dict,\n",
    "    'reconst_r2_all': reconst_r2_all,\n",
    "    'reconst_r2_valid': reconst_r2_valid,\n",
    "    'mi_normalized': mi_normalized,\n",
    "    'max_mig_all': max_mig_all,\n",
    "    'max_mig_valid': max_mig_valid\n",
    "}\n",
    "\n",
    "# Save the dictionary into a pickle file\n",
    "with open(ablation_data_path, 'wb') as file:\n",
    "    pickle.dump(data_to_save, file)\n",
    "\n",
    "adata.write_h5ad(ablation_adata_path)"
   ]
  },
  {
   "cell_type": "code",
   "execution_count": 27,
   "id": "20b3ee51-9526-45e3-8a26-793e6961ce75",
   "metadata": {},
   "outputs": [],
   "source": [
    "# # Load the data from the pickle file\n",
    "# with open(ablation_data_path, 'rb') as file:\n",
    "#     data_loaded = pickle.load(file)\n",
    "# \n",
    "# # Access your data\n",
    "# n_leiden_df = data_loaded['n_leiden_df']\n",
    "# latent_dict = data_loaded['latent_dict']\n",
    "# reconst_r2_all = data_loaded['reconst_r2_all']\n",
    "# reconst_r2_valid = data_loaded['reconst_r2_valid']\n",
    "# mi_normalized = data_loaded['mi_normalized']\n",
    "# max_mig_all = data_loaded['max_mig_all']\n",
    "# max_mig_valid = data_loaded['max_mig_valid']\n",
    "# \n",
    "# adata = ad.read_h5ad(ablation_adata_path)"
   ]
  },
  {
   "cell_type": "code",
   "execution_count": 28,
   "id": "d51f4c25-331f-457f-97b4-8e01a0ae5f1a",
   "metadata": {},
   "outputs": [],
   "source": [
    "# sns.lineplot(data=n_leiden_df, hue=\"ratio_ablation\", y=\"n_leiden\", x=\"resolution\")\n",
    "# plt.yscale(\"log\")"
   ]
  },
  {
   "cell_type": "code",
   "execution_count": 29,
   "id": "2a04515a-4a80-416c-97e0-5ff8bb900df1",
   "metadata": {},
   "outputs": [],
   "source": [
    "# a metric to calculate the number of clusters e.g. it should be 3 in sample status etc.\n",
    "# aws? knn etc?"
   ]
  },
  {
   "cell_type": "code",
   "execution_count": null,
   "id": "0efbc4fc-b3fc-4a3f-9e21-31bcf2c8d9a2",
   "metadata": {},
   "outputs": [],
   "source": []
  }
 ],
 "metadata": {
  "kernelspec": {
   "display_name": "Python 3 (ipykernel)",
   "language": "python",
   "name": "python3"
  },
  "language_info": {
   "codemirror_mode": {
    "name": "ipython",
    "version": 3
   },
   "file_extension": ".py",
   "mimetype": "text/x-python",
   "name": "python",
   "nbconvert_exporter": "python",
   "pygments_lexer": "ipython3",
   "version": "3.10.14"
  }
 },
 "nbformat": 4,
 "nbformat_minor": 5
}
