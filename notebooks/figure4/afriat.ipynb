{
 "cells": [
  {
   "cell_type": "markdown",
   "id": "e92f9175-386f-44f6-98b9-4e8681cdc67e",
   "metadata": {},
   "source": [
    "# Afriat"
   ]
  },
  {
   "cell_type": "code",
   "execution_count": 1,
   "id": "ea325613-cba8-41f6-bcc2-ce58abc449e5",
   "metadata": {},
   "outputs": [],
   "source": [
    "import warnings\n",
    "import os\n",
    "import sys\n",
    "import gc"
   ]
  },
  {
   "cell_type": "code",
   "execution_count": null,
   "id": "843bc827-090c-4149-80c1-ab5f353569b3",
   "metadata": {},
   "outputs": [],
   "source": [
    "import warnings\n",
    "import anndata as ad\n",
    "import scanpy as sc\n",
    "import copy\n",
    "import torch\n",
    "from pathlib import Path\n",
    "import networkx as nx\n",
    "from sklearn.neighbors import kneighbors_graph\n",
    "import numpy as np\n",
    "import scanpy as sc\n",
    "import pandas as pd\n",
    "import numpy as np\n",
    "import tqdm\n",
    "import scipy.stats\n",
    "import sklearn\n",
    "from sklearn.dummy import DummyClassifier\n",
    "\n",
    "sys.path.append(\"/home/icb/kemal.inecik/work/codes/tardis\")\n",
    "import tardis\n",
    "from tardis._utils.functions import label_transfer\n",
    "from tardis._utils.warnings import suppress_stdout, ignore_predetermined_warnings\n",
    "tardis.config = tardis.config_server\n",
    "print(f\"CUDA used: {torch.cuda.is_available()}\")"
   ]
  },
  {
   "cell_type": "code",
   "execution_count": null,
   "id": "1502b826-4688-4315-ae51-54a3e9ad8b4b",
   "metadata": {},
   "outputs": [],
   "source": [
    "%matplotlib inline\n",
    "%config InlineBackend.figure_format='retina'\n",
    "import matplotlib.pyplot as plt\n",
    "import seaborn as sns\n",
    "\n",
    "import pickle\n",
    "_rcparams_path = \"/home/icb/kemal.inecik/work/codes/tardis/training/local/figures/rcparams.pickle\"\n",
    "with open(_rcparams_path, 'rb') as file:\n",
    "    _rcparams = pickle.load(file)\n",
    "plt.rcParams.update(_rcparams)"
   ]
  },
  {
   "cell_type": "code",
   "execution_count": null,
   "id": "7cd3c531-a4bf-4570-b5eb-b3983fc4ccca",
   "metadata": {},
   "outputs": [],
   "source": [
    "num_ood = 1  # not functioning"
   ]
  },
  {
   "cell_type": "code",
   "execution_count": null,
   "id": "be1dbedd-6b6d-4ac7-9a46-81da5aec1e10",
   "metadata": {},
   "outputs": [],
   "source": [
    "def get_availables():\n",
    "    adata_file_path = os.path.join(tardis.config.io_directories[\"processed\"], \"biolord_afriat.h5ad\")\n",
    "    assert os.path.isfile(adata_file_path), f\"File not already exist: `{adata_file_path}`\"\n",
    "    adata = ad.read_h5ad(adata_file_path)\n",
    "    df = adata.obs.groupby(['time_cat', 'zone', 'status_control']).size()\n",
    "    availables = list(df[df>100].index)\n",
    "    return availables"
   ]
  },
  {
   "cell_type": "code",
   "execution_count": null,
   "id": "4a42c1c4-2226-44ce-94df-79ec7b222b12",
   "metadata": {},
   "outputs": [],
   "source": [
    "def get_classification(ood_seed, target_obs):\n",
    "    with warnings.catch_warnings(), suppress_stdout():\n",
    "        warnings.simplefilter(\"ignore\")\n",
    "        adata_file_path = os.path.join(tardis.config.io_directories[\"processed\"], \"biolord_afriat.h5ad\")\n",
    "        adata = ad.read_h5ad(adata_file_path)\n",
    "        df = adata.obs.groupby(['time_cat', 'zone', 'status_control']).size()\n",
    "        availables = list(df[df>100].index)\n",
    "        def adata_ood_creator(adata, seed, size):\n",
    "            rng = np.random.default_rng(seed=seed)\n",
    "            # random_choices = rng.choice(np.arange(len(availables)), size=size, replace=False)\n",
    "            # choices = [availables[i] for i in random_choices]\n",
    "            choices = [availables[ood_seed]]\n",
    "            choices_bool = np.vstack([(adata.obs[\"time_cat\"] == choice[0]) & (adata.obs[\"zone\"] == choice[1]) & (adata.obs[\"status_control\"] == choice[2]) for choice in choices]).any(axis=0)\n",
    "            return adata[~choices_bool, :].copy(), choices_bool, choices[0]\n",
    "        \n",
    "        adata, choices_bool, choice = adata_ood_creator(adata, seed=ood_seed, size=num_ood)\n",
    "    \n",
    "        dir_path = os.path.join(\n",
    "            tardis.config.io_directories[\"models\"],\n",
    "            f\"afriat_v2_4_1_ood-seed-{ood_seed}_size-{num_ood}\"\n",
    "        )\n",
    "        vae = tardis.MyModel.load(dir_path, adata=adata)\n",
    "        from tardis._disentanglementmanager import DisentanglementManager as DM\n",
    "    \n",
    "        adata_main = ad.read_h5ad(adata_file_path)\n",
    "        adata_main.obs[\"ood\"] = choices_bool.astype(int).astype(str)\n",
    "        adata_main.obs[\"ood\"] = adata_main.obs[\"ood\"].astype(\"category\")\n",
    "        adata_ood = adata_main[adata_main.obs[\"ood\"] == \"1\"].copy()\n",
    "    \n",
    "        k = target_obs\n",
    "        \n",
    "        latent = ad.AnnData(X=vae.get_latent_representation(adata)[:, DM.configurations.get_by_obs_key(k).reserved_latent_indices], obs=adata.obs.copy())\n",
    "        sc.pp.neighbors(latent)\n",
    "        \n",
    "        latent_ood = ad.AnnData(X=vae.get_latent_representation(adata_ood)[:, DM.configurations.get_by_obs_key(k).reserved_latent_indices], obs=adata_ood.obs.copy())\n",
    "        sc.pp.neighbors(latent_ood)\n",
    "        sc.tl.umap(latent_ood)\n",
    "        \n",
    "        label_transfer(latent, latent_ood, cluster_list=[k], neighbors_count=30)\n",
    "        predicted = latent_ood.obs[f\"transf_{k}\"].astype(str).values\n",
    "        true = latent_ood.obs[k].astype(str).values\n",
    "\n",
    "        t = latent.obs[k].astype(str).to_numpy().copy()\n",
    "        dummy_clf = DummyClassifier(strategy=\"stratified\")\n",
    "        dummy_clf.fit(t.reshape(-1, 1), t)\n",
    "        dummy_predictions = dummy_clf.predict(t.reshape(-1, 1))\n",
    "        \n",
    "        result = {\n",
    "            \"accuracy\": sklearn.metrics.accuracy_score(true, predicted), \n",
    "            \"baseline\": sklearn.metrics.accuracy_score(t, dummy_predictions)\n",
    "        }\n",
    "        result.update({f\"OOD_{i}\": choice[ind] for ind, i in enumerate(['time_cat', 'zone', 'status_control'])})\n",
    "        return result\n",
    "        "
   ]
  },
  {
   "cell_type": "code",
   "execution_count": null,
   "id": "4e3e26a5-8a38-4752-8a6a-45863b81abde",
   "metadata": {},
   "outputs": [],
   "source": [
    "result = []\n",
    "for z in ['time_cat', 'zone', 'status_control']:\n",
    "    for i in tqdm.tqdm(len(get_availables()), desc=z, ncol=100):\n",
    "        d = get_classification(i, z)\n",
    "        d.update({\"target_covariate\": z})\n",
    "        result.append(d)"
   ]
  },
  {
   "cell_type": "code",
   "execution_count": null,
   "id": "0b463be9-c296-4666-8597-63dbd1eae56c",
   "metadata": {},
   "outputs": [],
   "source": [
    "df = pd.DataFrame(result)\n",
    "df"
   ]
  },
  {
   "cell_type": "code",
   "execution_count": null,
   "id": "dd38548f-4d59-42f4-b69d-66a88f571bdf",
   "metadata": {},
   "outputs": [],
   "source": []
  }
 ],
 "metadata": {
  "kernelspec": {
   "display_name": "Python 3 (ipykernel)",
   "language": "python",
   "name": "python3"
  },
  "language_info": {
   "codemirror_mode": {
    "name": "ipython",
    "version": 3
   },
   "file_extension": ".py",
   "mimetype": "text/x-python",
   "name": "python",
   "nbconvert_exporter": "python",
   "pygments_lexer": "ipython3",
   "version": "3.10.14"
  }
 },
 "nbformat": 4,
 "nbformat_minor": 5
}
