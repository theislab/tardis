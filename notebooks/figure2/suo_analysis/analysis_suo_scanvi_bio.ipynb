{
 "cells": [
  {
   "cell_type": "markdown",
   "id": "998908c6-62fb-4c64-a3bb-313628f971f2",
   "metadata": {},
   "source": [
    "# Suo"
   ]
  },
  {
   "cell_type": "code",
   "execution_count": 1,
   "id": "8fa9d275-1c84-42d4-8a1a-da0a2ffa2e0d",
   "metadata": {
    "execution": {
     "iopub.execute_input": "2024-05-08T19:11:46.564202Z",
     "iopub.status.busy": "2024-05-08T19:11:46.563527Z",
     "iopub.status.idle": "2024-05-08T19:11:46.577400Z",
     "shell.execute_reply": "2024-05-08T19:11:46.576105Z"
    }
   },
   "outputs": [],
   "source": [
    "import warnings\n",
    "import os\n",
    "import sys\n",
    "import gc\n",
    "import warnings"
   ]
  },
  {
   "cell_type": "code",
   "execution_count": 2,
   "id": "861f7205-6fce-46d8-9c6b-f63551ab34e1",
   "metadata": {
    "execution": {
     "iopub.execute_input": "2024-05-08T19:11:46.581788Z",
     "iopub.status.busy": "2024-05-08T19:11:46.581582Z",
     "iopub.status.idle": "2024-05-08T19:14:08.495028Z",
     "shell.execute_reply": "2024-05-08T19:14:08.493303Z"
    }
   },
   "outputs": [],
   "source": [
    "import anndata as ad\n",
    "import scanpy as sc\n",
    "import copy\n",
    "import torch\n",
    "from pathlib import Path\n",
    "import networkx as nx\n",
    "from sklearn.neighbors import kneighbors_graph\n",
    "import numpy as np\n",
    "import scanpy as sc\n",
    "import pandas as pd\n",
    "import numpy as np\n",
    "import scipy.stats\n",
    "from scib_metrics.benchmark import Benchmarker, BioConservation, BatchCorrection\n",
    "import scvi\n",
    "\n",
    "sys.path.append(\"/home/icb/kemal.inecik/work/codes/tardis\")\n",
    "import tardis\n",
    "tardis.config = tardis.config_server"
   ]
  },
  {
   "cell_type": "code",
   "execution_count": 3,
   "id": "6e954d6b-dad7-4e08-b086-740080130d95",
   "metadata": {
    "execution": {
     "iopub.execute_input": "2024-05-08T19:14:08.503171Z",
     "iopub.status.busy": "2024-05-08T19:14:08.501745Z",
     "iopub.status.idle": "2024-05-08T19:14:08.512316Z",
     "shell.execute_reply": "2024-05-08T19:14:08.511667Z"
    }
   },
   "outputs": [
    {
     "data": {
      "text/plain": [
       "False"
      ]
     },
     "execution_count": 3,
     "metadata": {},
     "output_type": "execute_result"
    }
   ],
   "source": [
    "torch.cuda.is_available()"
   ]
  },
  {
   "cell_type": "code",
   "execution_count": 4,
   "id": "d9aef55c-dc86-4c41-82ae-c92dd03e7820",
   "metadata": {
    "execution": {
     "iopub.execute_input": "2024-05-08T19:14:08.518307Z",
     "iopub.status.busy": "2024-05-08T19:14:08.518043Z",
     "iopub.status.idle": "2024-05-08T19:14:08.550952Z",
     "shell.execute_reply": "2024-05-08T19:14:08.550376Z"
    }
   },
   "outputs": [],
   "source": [
    "%matplotlib inline\n",
    "%config InlineBackend.figure_format='retina'\n",
    "import matplotlib.pyplot as plt\n",
    "import seaborn as sns\n",
    "\n",
    "import pickle\n",
    "_rcparams_path = \"/home/icb/kemal.inecik/work/codes/tardis/training/local/figures/rcparams.pickle\"\n",
    "with open(_rcparams_path, 'rb') as file:\n",
    "    _rcparams = pickle.load(file)\n",
    "plt.rcParams.update(_rcparams)"
   ]
  },
  {
   "cell_type": "code",
   "execution_count": 5,
   "id": "57f64c1f-eb04-4cc6-8b2e-c1094f5196f7",
   "metadata": {
    "execution": {
     "iopub.execute_input": "2024-05-08T19:14:08.554798Z",
     "iopub.status.busy": "2024-05-08T19:14:08.554622Z",
     "iopub.status.idle": "2024-05-08T19:14:13.126291Z",
     "shell.execute_reply": "2024-05-08T19:14:13.125595Z"
    }
   },
   "outputs": [],
   "source": [
    "adata_file_path = os.path.join(tardis.config.io_directories[\"processed\"], \"dataset_complete_Suo.h5ad\")\n",
    "assert os.path.isfile(adata_file_path), f\"File not already exist: `{adata_file_path}`\"\n",
    "adata = ad.read_h5ad(adata_file_path)"
   ]
  },
  {
   "cell_type": "code",
   "execution_count": 6,
   "id": "a4d749e4-76e3-44a8-b35e-91dd8e1ddbf0",
   "metadata": {
    "execution": {
     "iopub.execute_input": "2024-05-08T19:14:13.132344Z",
     "iopub.status.busy": "2024-05-08T19:14:13.132148Z",
     "iopub.status.idle": "2024-05-08T19:14:13.337757Z",
     "shell.execute_reply": "2024-05-08T19:14:13.335657Z"
    }
   },
   "outputs": [
    {
     "name": "stdout",
     "output_type": "stream",
     "text": [
      "/home/icb/kemal.inecik/lustre_workspace/tardis_data/models/suo_scanvi:\r\n",
      "model.pt\r\n",
      "\r\n",
      "/home/icb/kemal.inecik/lustre_workspace/tardis_data/models/suo_scanvi_v2:\r\n",
      "model.pt\r\n"
     ]
    }
   ],
   "source": [
    "!ls /home/icb/kemal.inecik/lustre_workspace/tardis_data/models/suo_scanvi*"
   ]
  },
  {
   "cell_type": "code",
   "execution_count": 7,
   "id": "e2aa28e0-f88b-4051-b55f-779ded681301",
   "metadata": {
    "execution": {
     "iopub.execute_input": "2024-05-08T19:14:13.345482Z",
     "iopub.status.busy": "2024-05-08T19:14:13.344894Z",
     "iopub.status.idle": "2024-05-08T19:14:32.435690Z",
     "shell.execute_reply": "2024-05-08T19:14:32.434463Z"
    }
   },
   "outputs": [
    {
     "name": "stderr",
     "output_type": "stream",
     "text": [
      "/home/icb/kemal.inecik/tools/apps/mamba/envs/tardis_env/lib/python3.10/site-packages/lightning/fabric/plugins/environments/slurm.py:168: PossibleUserWarning: The `srun` command is available on your system but is not used. HINT: If your intention is to run Lightning on SLURM, prepend your python command with `srun` like so: srun python /home/icb/kemal.inecik/tools/apps/mamba/envs/tardis_ ...\n",
      "  rank_zero_warn(\n"
     ]
    },
    {
     "name": "stdout",
     "output_type": "stream",
     "text": [
      "\u001b[34mINFO    \u001b[0m File \u001b[35m/lustre/groups/ml01/workspace/kemal.inecik/tardis_data/models/suo_scanvi_v2/\u001b[0m\u001b[95mmodel.pt\u001b[0m already         \n",
      "         downloaded                                                                                                \n"
     ]
    }
   ],
   "source": [
    "model_name = \"suo_scanvi_v2\"\n",
    "dir_path = os.path.join(\n",
    "    tardis.config.io_directories[\"models\"],\n",
    "    model_name\n",
    ")\n",
    "vae = scvi.model.SCANVI.load(dir_path=dir_path, adata=adata)"
   ]
  },
  {
   "cell_type": "code",
   "execution_count": 8,
   "id": "84d12175-5454-4f0a-a44b-0fa0fb287728",
   "metadata": {
    "execution": {
     "iopub.execute_input": "2024-05-08T19:14:32.440113Z",
     "iopub.status.busy": "2024-05-08T19:14:32.439506Z",
     "iopub.status.idle": "2024-05-08T19:14:32.443880Z",
     "shell.execute_reply": "2024-05-08T19:14:32.443271Z"
    }
   },
   "outputs": [],
   "source": [
    "biocons = BioConservation()\n",
    "batchcor = BatchCorrection(\n",
    "    silhouette_batch=False,\n",
    "    ilisi_knn=False,\n",
    "    kbet_per_label=False,\n",
    "    graph_connectivity=False,\n",
    "    pcr_comparison=False\n",
    ")"
   ]
  },
  {
   "cell_type": "code",
   "execution_count": 9,
   "id": "1e6d784c-8d15-49ab-82f5-cd379aa60a29",
   "metadata": {
    "execution": {
     "iopub.execute_input": "2024-05-08T19:14:32.446980Z",
     "iopub.status.busy": "2024-05-08T19:14:32.446637Z",
     "iopub.status.idle": "2024-05-08T19:14:32.452564Z",
     "shell.execute_reply": "2024-05-08T19:14:32.451944Z"
    }
   },
   "outputs": [],
   "source": [
    "def get_results(self, min_max_scale: bool = True) -> pd.DataFrame:\n",
    "    _LABELS = \"labels\"\n",
    "    _BATCH = \"batch\"\n",
    "    _X_PRE = \"X_pre\"\n",
    "    _METRIC_TYPE = \"Metric Type\"\n",
    "    _AGGREGATE_SCORE = \"Aggregate score\"\n",
    "    \n",
    "    df = self._results.transpose()\n",
    "    df.index.name = \"Embedding\"\n",
    "    df = df.loc[df.index != _METRIC_TYPE]\n",
    "    if min_max_scale:\n",
    "        # Use sklearn to min max scale\n",
    "        df = pd.DataFrame(\n",
    "            MinMaxScaler().fit_transform(df),\n",
    "            columns=df.columns,\n",
    "            index=df.index,\n",
    "        )\n",
    "    df = df.transpose()\n",
    "    df[_METRIC_TYPE] = self._results[_METRIC_TYPE].values\n",
    "\n",
    "    # Compute scores\n",
    "    per_class_score = df.groupby(_METRIC_TYPE).mean().transpose()\n",
    "    # This is the default scIB weighting from the manuscript\n",
    "    # per_class_score[\"Total\"] = 0.4 * per_class_score[\"Batch correction\"] + 0.6 * per_class_score[\"Bio conservation\"]\n",
    "    df = pd.concat([df.transpose(), per_class_score], axis=1)\n",
    "    df.loc[_METRIC_TYPE, per_class_score.columns] = _AGGREGATE_SCORE\n",
    "    return df"
   ]
  },
  {
   "cell_type": "code",
   "execution_count": 10,
   "id": "ca39ee00-7d67-4c8e-89d5-d3c7dc7fc5f8",
   "metadata": {
    "execution": {
     "iopub.execute_input": "2024-05-08T19:14:32.455688Z",
     "iopub.status.busy": "2024-05-08T19:14:32.455136Z",
     "iopub.status.idle": "2024-05-08T19:14:54.431348Z",
     "shell.execute_reply": "2024-05-08T19:14:54.430172Z"
    }
   },
   "outputs": [],
   "source": [
    "adata.obsm[\"scanvi\"] = vae.get_latent_representation()"
   ]
  },
  {
   "cell_type": "code",
   "execution_count": 11,
   "id": "6bc96261-d86e-45a5-8f97-37418e0a5fe6",
   "metadata": {
    "execution": {
     "iopub.execute_input": "2024-05-08T19:14:54.435258Z",
     "iopub.status.busy": "2024-05-08T19:14:54.434972Z",
     "iopub.status.idle": "2024-05-08T19:14:54.447941Z",
     "shell.execute_reply": "2024-05-08T19:14:54.447382Z"
    }
   },
   "outputs": [
    {
     "name": "stdout",
     "output_type": "stream",
     "text": [
      "AnnData object with n_obs × n_vars = 841922 × 8192\n",
      "    obs: 'sample_ID', 'organ', 'age', 'cell_type', 'sex', 'sex_inferred', 'concatenated_integration_covariates', 'integration_donor', 'integration_biological_unit', 'integration_sample_status', 'integration_library_platform_coarse', 'n_genes', '_scvi_batch', '_scvi_labels'\n",
      "    uns: 'rank_genes_groups', '_scvi_uuid', '_scvi_manager_uuid'\n",
      "    obsm: 'Unintegrated', 'X_pca', 'harmony', 'scanvi'\n"
     ]
    },
    {
     "name": "stdout",
     "output_type": "stream",
     "text": [
      "starting scvi scib\n"
     ]
    }
   ],
   "source": [
    "print(adata, flush=True)\n",
    "print(\"starting scvi scib\", flush=True)\n",
    "bm = Benchmarker(\n",
    "    adata=adata,\n",
    "    batch_key=\"concatenated_integration_covariates\",\n",
    "    label_key=\"cell_type\",\n",
    "    embedding_obsm_keys=[\"scanvi\"],\n",
    "    pre_integrated_embedding_obsm_key=\"Unintegrated\",  # equals to X_pca\n",
    "    bio_conservation_metrics=biocons,\n",
    "    batch_correction_metrics=batchcor,\n",
    "    n_jobs=-1,\n",
    ")"
   ]
  },
  {
   "cell_type": "code",
   "execution_count": 12,
   "id": "5591d511-bec8-4d82-9b20-9df8c00943be",
   "metadata": {
    "execution": {
     "iopub.execute_input": "2024-05-08T19:14:54.451346Z",
     "iopub.status.busy": "2024-05-08T19:14:54.451117Z",
     "iopub.status.idle": "2024-05-08T20:18:11.584996Z",
     "shell.execute_reply": "2024-05-08T20:18:11.583357Z"
    }
   },
   "outputs": [
    {
     "name": "stderr",
     "output_type": "stream",
     "text": [
      "\r",
      "Computing neighbors:   0%|          | 0/1 [00:00<?, ?it/s]"
     ]
    },
    {
     "name": "stderr",
     "output_type": "stream",
     "text": [
      "\r",
      "Computing neighbors: 100%|██████████| 1/1 [05:19<00:00, 319.37s/it]"
     ]
    },
    {
     "name": "stderr",
     "output_type": "stream",
     "text": [
      "\r",
      "Computing neighbors: 100%|██████████| 1/1 [05:19<00:00, 319.39s/it]"
     ]
    },
    {
     "name": "stderr",
     "output_type": "stream",
     "text": [
      "\n"
     ]
    },
    {
     "name": "stderr",
     "output_type": "stream",
     "text": [
      "\r",
      "Embeddings:   0%|\u001b[32m          \u001b[0m| 0/1 [00:00<?, ?it/s]"
     ]
    },
    {
     "name": "stderr",
     "output_type": "stream",
     "text": [
      "\n"
     ]
    },
    {
     "name": "stderr",
     "output_type": "stream",
     "text": [
      "\r",
      "Metrics:   0%|\u001b[34m          \u001b[0m| 0/10 [00:00<?, ?it/s]"
     ]
    },
    {
     "name": "stderr",
     "output_type": "stream",
     "text": [
      "\u001b[A"
     ]
    },
    {
     "name": "stderr",
     "output_type": "stream",
     "text": [
      "\n"
     ]
    },
    {
     "name": "stderr",
     "output_type": "stream",
     "text": [
      "\r",
      "Metrics:   0%|\u001b[34m          \u001b[0m| 0/10 [00:00<?, ?it/s, Bio conservation: isolated_labels]"
     ]
    },
    {
     "name": "stderr",
     "output_type": "stream",
     "text": [
      "\u001b[A"
     ]
    },
    {
     "name": "stderr",
     "output_type": "stream",
     "text": [
      "\n"
     ]
    },
    {
     "name": "stderr",
     "output_type": "stream",
     "text": [
      "\r",
      "Metrics:  10%|\u001b[34m█         \u001b[0m| 1/10 [25:11<3:46:45, 1511.73s/it, Bio conservation: isolated_labels]"
     ]
    },
    {
     "name": "stderr",
     "output_type": "stream",
     "text": [
      "\u001b[A"
     ]
    },
    {
     "name": "stderr",
     "output_type": "stream",
     "text": [
      "\n"
     ]
    },
    {
     "name": "stderr",
     "output_type": "stream",
     "text": [
      "\r",
      "Metrics:  10%|\u001b[34m█         \u001b[0m| 1/10 [25:11<3:46:45, 1511.73s/it, Bio conservation: nmi_ari_cluster_labels_kmeans]"
     ]
    },
    {
     "name": "stderr",
     "output_type": "stream",
     "text": [
      "\u001b[A"
     ]
    },
    {
     "name": "stderr",
     "output_type": "stream",
     "text": [
      "\n"
     ]
    },
    {
     "name": "stderr",
     "output_type": "stream",
     "text": [
      "\r",
      "Metrics:  20%|\u001b[34m██        \u001b[0m| 2/10 [32:37<1:57:56, 884.59s/it, Bio conservation: nmi_ari_cluster_labels_kmeans] "
     ]
    },
    {
     "name": "stderr",
     "output_type": "stream",
     "text": [
      "\u001b[A"
     ]
    },
    {
     "name": "stderr",
     "output_type": "stream",
     "text": [
      "\n"
     ]
    },
    {
     "name": "stderr",
     "output_type": "stream",
     "text": [
      "\r",
      "Metrics:  20%|\u001b[34m██        \u001b[0m| 2/10 [32:37<1:57:56, 884.59s/it, Bio conservation: silhouette_label]             "
     ]
    },
    {
     "name": "stderr",
     "output_type": "stream",
     "text": [
      "\u001b[A"
     ]
    },
    {
     "name": "stderr",
     "output_type": "stream",
     "text": [
      "\n"
     ]
    },
    {
     "name": "stderr",
     "output_type": "stream",
     "text": [
      "\r",
      "Metrics:  30%|\u001b[34m███       \u001b[0m| 3/10 [57:51<2:16:45, 1172.16s/it, Bio conservation: silhouette_label]"
     ]
    },
    {
     "name": "stderr",
     "output_type": "stream",
     "text": [
      "\u001b[A"
     ]
    },
    {
     "name": "stderr",
     "output_type": "stream",
     "text": [
      "\n"
     ]
    },
    {
     "name": "stderr",
     "output_type": "stream",
     "text": [
      "\r",
      "Metrics:  30%|\u001b[34m███       \u001b[0m| 3/10 [57:51<2:16:45, 1172.16s/it, Bio conservation: clisi_knn]       "
     ]
    },
    {
     "name": "stderr",
     "output_type": "stream",
     "text": [
      "\u001b[A"
     ]
    },
    {
     "name": "stderr",
     "output_type": "stream",
     "text": [
      "\n"
     ]
    },
    {
     "name": "stderr",
     "output_type": "stream",
     "text": [
      "\r",
      "Metrics:  40%|\u001b[34m████      \u001b[0m| 4/10 [57:57<1:11:10, 711.77s/it, Bio conservation: clisi_knn] "
     ]
    },
    {
     "name": "stderr",
     "output_type": "stream",
     "text": [
      "\u001b[A"
     ]
    },
    {
     "name": "stderr",
     "output_type": "stream",
     "text": [
      "\r",
      "Embeddings: 100%|\u001b[32m██████████\u001b[0m| 1/1 [57:57<00:00, 3477.70s/it]"
     ]
    },
    {
     "name": "stderr",
     "output_type": "stream",
     "text": [
      "\r",
      "Embeddings: 100%|\u001b[32m██████████\u001b[0m| 1/1 [57:57<00:00, 3477.70s/it]"
     ]
    },
    {
     "name": "stderr",
     "output_type": "stream",
     "text": [
      "\n",
      "\n"
     ]
    },
    {
     "name": "stderr",
     "output_type": "stream",
     "text": [
      "\r",
      "                                                                                       "
     ]
    },
    {
     "name": "stderr",
     "output_type": "stream",
     "text": [
      "\u001b[A"
     ]
    }
   ],
   "source": [
    "bm.benchmark()"
   ]
  },
  {
   "cell_type": "code",
   "execution_count": 13,
   "id": "77e097d0-c704-4403-a42a-cf42f6c2347f",
   "metadata": {
    "execution": {
     "iopub.execute_input": "2024-05-08T20:18:11.597765Z",
     "iopub.status.busy": "2024-05-08T20:18:11.597076Z",
     "iopub.status.idle": "2024-05-08T20:18:11.638410Z",
     "shell.execute_reply": "2024-05-08T20:18:11.637758Z"
    }
   },
   "outputs": [],
   "source": [
    "df = get_results(bm, min_max_scale=False)"
   ]
  },
  {
   "cell_type": "code",
   "execution_count": 14,
   "id": "4eedc489-aa74-462b-ac66-b5e1f5f446ae",
   "metadata": {
    "execution": {
     "iopub.execute_input": "2024-05-08T20:18:11.644346Z",
     "iopub.status.busy": "2024-05-08T20:18:11.644152Z",
     "iopub.status.idle": "2024-05-08T20:18:11.665181Z",
     "shell.execute_reply": "2024-05-08T20:18:11.664615Z"
    }
   },
   "outputs": [
    {
     "data": {
      "text/html": [
       "<div>\n",
       "<style scoped>\n",
       "    .dataframe tbody tr th:only-of-type {\n",
       "        vertical-align: middle;\n",
       "    }\n",
       "\n",
       "    .dataframe tbody tr th {\n",
       "        vertical-align: top;\n",
       "    }\n",
       "\n",
       "    .dataframe thead th {\n",
       "        text-align: right;\n",
       "    }\n",
       "</style>\n",
       "<table border=\"1\" class=\"dataframe\">\n",
       "  <thead>\n",
       "    <tr style=\"text-align: right;\">\n",
       "      <th></th>\n",
       "      <th>isolated_labels</th>\n",
       "      <th>nmi_ari_cluster_labels_kmeans_nmi</th>\n",
       "      <th>nmi_ari_cluster_labels_kmeans_ari</th>\n",
       "      <th>silhouette_label</th>\n",
       "      <th>clisi_knn</th>\n",
       "      <th>Bio conservation</th>\n",
       "    </tr>\n",
       "    <tr>\n",
       "      <th>Embedding</th>\n",
       "      <th></th>\n",
       "      <th></th>\n",
       "      <th></th>\n",
       "      <th></th>\n",
       "      <th></th>\n",
       "      <th></th>\n",
       "    </tr>\n",
       "  </thead>\n",
       "  <tbody>\n",
       "    <tr>\n",
       "      <th>scanvi</th>\n",
       "      <td>0.774158</td>\n",
       "      <td>0.792213</td>\n",
       "      <td>0.360095</td>\n",
       "      <td>0.576235</td>\n",
       "      <td>0.999928</td>\n",
       "      <td>0.700526</td>\n",
       "    </tr>\n",
       "    <tr>\n",
       "      <th>Metric Type</th>\n",
       "      <td>Bio conservation</td>\n",
       "      <td>Bio conservation</td>\n",
       "      <td>Bio conservation</td>\n",
       "      <td>Bio conservation</td>\n",
       "      <td>Bio conservation</td>\n",
       "      <td>Aggregate score</td>\n",
       "    </tr>\n",
       "  </tbody>\n",
       "</table>\n",
       "</div>"
      ],
      "text/plain": [
       "              isolated_labels nmi_ari_cluster_labels_kmeans_nmi  \\\n",
       "Embedding                                                         \n",
       "scanvi               0.774158                          0.792213   \n",
       "Metric Type  Bio conservation                  Bio conservation   \n",
       "\n",
       "            nmi_ari_cluster_labels_kmeans_ari  silhouette_label  \\\n",
       "Embedding                                                         \n",
       "scanvi                               0.360095          0.576235   \n",
       "Metric Type                  Bio conservation  Bio conservation   \n",
       "\n",
       "                    clisi_knn Bio conservation  \n",
       "Embedding                                       \n",
       "scanvi               0.999928         0.700526  \n",
       "Metric Type  Bio conservation  Aggregate score  "
      ]
     },
     "execution_count": 14,
     "metadata": {},
     "output_type": "execute_result"
    }
   ],
   "source": [
    "df"
   ]
  },
  {
   "cell_type": "code",
   "execution_count": 15,
   "id": "75b36b99-27da-4ff9-b6fe-b0e5149282ec",
   "metadata": {
    "execution": {
     "iopub.execute_input": "2024-05-08T20:18:11.670472Z",
     "iopub.status.busy": "2024-05-08T20:18:11.670273Z",
     "iopub.status.idle": "2024-05-08T20:18:11.675929Z",
     "shell.execute_reply": "2024-05-08T20:18:11.675411Z"
    }
   },
   "outputs": [
    {
     "data": {
      "text/plain": [
       "'/lustre/groups/ml01/workspace/kemal.inecik/tardis_data/_temporary/latent/suo_scib_scanvi_bio_2.pickle'"
      ]
     },
     "execution_count": 15,
     "metadata": {},
     "output_type": "execute_result"
    }
   ],
   "source": [
    "pickle_path = os.path.join(tardis.config.io_directories[\"temp\"], \"latent\", \"suo_scib_scanvi_bio_2.pickle\")\n",
    "pickle_path"
   ]
  },
  {
   "cell_type": "code",
   "execution_count": 16,
   "id": "ffd31567-c3cf-43ed-9369-8075fe439a6f",
   "metadata": {
    "execution": {
     "iopub.execute_input": "2024-05-08T20:18:11.681529Z",
     "iopub.status.busy": "2024-05-08T20:18:11.681166Z",
     "iopub.status.idle": "2024-05-08T20:18:11.692569Z",
     "shell.execute_reply": "2024-05-08T20:18:11.691644Z"
    }
   },
   "outputs": [],
   "source": [
    "df.to_pickle(pickle_path)"
   ]
  },
  {
   "cell_type": "code",
   "execution_count": null,
   "id": "da99876a-bf67-48c8-90e6-6fc3968890d5",
   "metadata": {},
   "outputs": [],
   "source": []
  },
  {
   "cell_type": "code",
   "execution_count": null,
   "id": "9ba24a74-e6c2-4f07-a8cb-da31a9e5a787",
   "metadata": {},
   "outputs": [],
   "source": []
  },
  {
   "cell_type": "code",
   "execution_count": null,
   "id": "f63776b9-a0d0-492a-850c-ca9084ccb794",
   "metadata": {},
   "outputs": [],
   "source": []
  },
  {
   "cell_type": "code",
   "execution_count": null,
   "id": "ee0da964-d526-40ee-8524-03f71c147f98",
   "metadata": {},
   "outputs": [],
   "source": []
  },
  {
   "cell_type": "code",
   "execution_count": null,
   "id": "f541984f-9323-4557-a3ad-1f9e95119231",
   "metadata": {},
   "outputs": [],
   "source": []
  }
 ],
 "metadata": {
  "kernelspec": {
   "display_name": "Python 3 (ipykernel)",
   "language": "python",
   "name": "python3"
  },
  "language_info": {
   "codemirror_mode": {
    "name": "ipython",
    "version": 3
   },
   "file_extension": ".py",
   "mimetype": "text/x-python",
   "name": "python",
   "nbconvert_exporter": "python",
   "pygments_lexer": "ipython3",
   "version": "3.10.14"
  }
 },
 "nbformat": 4,
 "nbformat_minor": 5
}
