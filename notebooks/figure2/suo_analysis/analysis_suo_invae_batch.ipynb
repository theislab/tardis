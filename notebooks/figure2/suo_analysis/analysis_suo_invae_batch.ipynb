{
 "cells": [
  {
   "cell_type": "markdown",
   "id": "998908c6-62fb-4c64-a3bb-313628f971f2",
   "metadata": {},
   "source": [
    "# Suo"
   ]
  },
  {
   "cell_type": "code",
   "execution_count": 1,
   "id": "8fa9d275-1c84-42d4-8a1a-da0a2ffa2e0d",
   "metadata": {
    "execution": {
     "iopub.execute_input": "2024-05-10T09:57:08.413026Z",
     "iopub.status.busy": "2024-05-10T09:57:08.412783Z",
     "iopub.status.idle": "2024-05-10T09:57:08.417564Z",
     "shell.execute_reply": "2024-05-10T09:57:08.417203Z"
    }
   },
   "outputs": [],
   "source": [
    "import warnings\n",
    "import os\n",
    "import sys\n",
    "import gc\n",
    "import warnings"
   ]
  },
  {
   "cell_type": "code",
   "execution_count": 2,
   "id": "861f7205-6fce-46d8-9c6b-f63551ab34e1",
   "metadata": {
    "execution": {
     "iopub.execute_input": "2024-05-10T09:57:08.419621Z",
     "iopub.status.busy": "2024-05-10T09:57:08.419415Z",
     "iopub.status.idle": "2024-05-10T10:00:04.382718Z",
     "shell.execute_reply": "2024-05-10T10:00:04.382117Z"
    }
   },
   "outputs": [],
   "source": [
    "import anndata as ad\n",
    "import scanpy as sc\n",
    "import copy\n",
    "import torch\n",
    "from pathlib import Path\n",
    "import networkx as nx\n",
    "from sklearn.neighbors import kneighbors_graph\n",
    "import numpy as np\n",
    "import scanpy as sc\n",
    "import pandas as pd\n",
    "import numpy as np\n",
    "import scipy.stats\n",
    "from scib_metrics.benchmark import Benchmarker, BioConservation, BatchCorrection\n",
    "import scvi\n",
    "\n",
    "sys.path.append(\"/home/icb/kemal.inecik/work/codes/tardis\")\n",
    "import tardis\n",
    "tardis.config = tardis.config_server\n",
    "\n",
    "sc.settings.verbosity = 3"
   ]
  },
  {
   "cell_type": "code",
   "execution_count": 3,
   "id": "6e954d6b-dad7-4e08-b086-740080130d95",
   "metadata": {
    "execution": {
     "iopub.execute_input": "2024-05-10T10:00:04.388578Z",
     "iopub.status.busy": "2024-05-10T10:00:04.387706Z",
     "iopub.status.idle": "2024-05-10T10:00:04.393196Z",
     "shell.execute_reply": "2024-05-10T10:00:04.392825Z"
    }
   },
   "outputs": [
    {
     "data": {
      "text/plain": [
       "False"
      ]
     },
     "execution_count": 3,
     "metadata": {},
     "output_type": "execute_result"
    }
   ],
   "source": [
    "torch.cuda.is_available()"
   ]
  },
  {
   "cell_type": "code",
   "execution_count": 4,
   "id": "d9aef55c-dc86-4c41-82ae-c92dd03e7820",
   "metadata": {
    "execution": {
     "iopub.execute_input": "2024-05-10T10:00:04.395494Z",
     "iopub.status.busy": "2024-05-10T10:00:04.395268Z",
     "iopub.status.idle": "2024-05-10T10:00:04.656500Z",
     "shell.execute_reply": "2024-05-10T10:00:04.656026Z"
    }
   },
   "outputs": [],
   "source": [
    "%matplotlib inline\n",
    "%config InlineBackend.figure_format='retina'\n",
    "import matplotlib.pyplot as plt\n",
    "import seaborn as sns\n",
    "\n",
    "import pickle\n",
    "_rcparams_path = \"/home/icb/kemal.inecik/work/codes/tardis/training/local/figures/rcparams.pickle\"\n",
    "with open(_rcparams_path, 'rb') as file:\n",
    "    _rcparams = pickle.load(file)\n",
    "plt.rcParams.update(_rcparams)"
   ]
  },
  {
   "cell_type": "code",
   "execution_count": 5,
   "id": "57f64c1f-eb04-4cc6-8b2e-c1094f5196f7",
   "metadata": {
    "execution": {
     "iopub.execute_input": "2024-05-10T10:00:04.658646Z",
     "iopub.status.busy": "2024-05-10T10:00:04.658427Z",
     "iopub.status.idle": "2024-05-10T10:00:12.054199Z",
     "shell.execute_reply": "2024-05-10T10:00:12.053736Z"
    }
   },
   "outputs": [
    {
     "data": {
      "text/plain": [
       "AnnData object with n_obs × n_vars = 841922 × 8192\n",
       "    obs: 'sample_ID', 'organ', 'age', 'cell_type', 'sex', 'sex_inferred', 'concatenated_integration_covariates', 'integration_donor', 'integration_biological_unit', 'integration_sample_status', 'integration_library_platform_coarse', 'n_genes'\n",
       "    uns: 'rank_genes_groups'\n",
       "    obsm: 'Unintegrated', 'X_pca', 'harmony', 'inveriant_1', 'inveriant_2', 'inveriant_3', 'inveriant_4', 'inveriant_5', 'inveriant_6', 'inveriant_7', 'inveriant_8'"
      ]
     },
     "execution_count": 5,
     "metadata": {},
     "output_type": "execute_result"
    }
   ],
   "source": [
    "adata = ad.read_h5ad(\"/home/icb/kemal.inecik/lustre_workspace/tardis_data/processed/dataset_complete_Suo_invae.h5ad\")\n",
    "obsms = [i for i in adata.obsm if i not in ['Unintegrated', 'X_pca', 'harmony']]\n",
    "adata"
   ]
  },
  {
   "cell_type": "code",
   "execution_count": 6,
   "id": "84d12175-5454-4f0a-a44b-0fa0fb287728",
   "metadata": {
    "execution": {
     "iopub.execute_input": "2024-05-10T10:00:12.056772Z",
     "iopub.status.busy": "2024-05-10T10:00:12.056500Z",
     "iopub.status.idle": "2024-05-10T10:00:12.059309Z",
     "shell.execute_reply": "2024-05-10T10:00:12.058908Z"
    }
   },
   "outputs": [],
   "source": [
    "biocons = BioConservation(\n",
    "    isolated_labels=False,\n",
    "    nmi_ari_cluster_labels_leiden=False,\n",
    "    nmi_ari_cluster_labels_kmeans=False,\n",
    "    silhouette_label=False,\n",
    "    clisi_knn=False\n",
    ")\n",
    "batchcor = BatchCorrection()"
   ]
  },
  {
   "cell_type": "code",
   "execution_count": 7,
   "id": "1e6d784c-8d15-49ab-82f5-cd379aa60a29",
   "metadata": {
    "execution": {
     "iopub.execute_input": "2024-05-10T10:00:12.061426Z",
     "iopub.status.busy": "2024-05-10T10:00:12.061207Z",
     "iopub.status.idle": "2024-05-10T10:00:12.065246Z",
     "shell.execute_reply": "2024-05-10T10:00:12.064854Z"
    }
   },
   "outputs": [],
   "source": [
    "def get_results(self, min_max_scale: bool = True) -> pd.DataFrame:\n",
    "    _LABELS = \"labels\"\n",
    "    _BATCH = \"batch\"\n",
    "    _X_PRE = \"X_pre\"\n",
    "    _METRIC_TYPE = \"Metric Type\"\n",
    "    _AGGREGATE_SCORE = \"Aggregate score\"\n",
    "    \n",
    "    df = self._results.transpose()\n",
    "    df.index.name = \"Embedding\"\n",
    "    df = df.loc[df.index != _METRIC_TYPE]\n",
    "    if min_max_scale:\n",
    "        # Use sklearn to min max scale\n",
    "        df = pd.DataFrame(\n",
    "            MinMaxScaler().fit_transform(df),\n",
    "            columns=df.columns,\n",
    "            index=df.index,\n",
    "        )\n",
    "    df = df.transpose()\n",
    "    df[_METRIC_TYPE] = self._results[_METRIC_TYPE].values\n",
    "\n",
    "    # Compute scores\n",
    "    per_class_score = df.groupby(_METRIC_TYPE).mean().transpose()\n",
    "    # This is the default scIB weighting from the manuscript\n",
    "    # per_class_score[\"Total\"] = 0.4 * per_class_score[\"Batch correction\"] + 0.6 * per_class_score[\"Bio conservation\"]\n",
    "    df = pd.concat([df.transpose(), per_class_score], axis=1)\n",
    "    df.loc[_METRIC_TYPE, per_class_score.columns] = _AGGREGATE_SCORE\n",
    "    return df"
   ]
  },
  {
   "cell_type": "code",
   "execution_count": 8,
   "id": "6bc96261-d86e-45a5-8f97-37418e0a5fe6",
   "metadata": {
    "execution": {
     "iopub.execute_input": "2024-05-10T10:00:12.067442Z",
     "iopub.status.busy": "2024-05-10T10:00:12.067097Z",
     "iopub.status.idle": "2024-05-10T10:00:12.073294Z",
     "shell.execute_reply": "2024-05-10T10:00:12.072888Z"
    }
   },
   "outputs": [
    {
     "name": "stdout",
     "output_type": "stream",
     "text": [
      "AnnData object with n_obs × n_vars = 841922 × 8192\n",
      "    obs: 'sample_ID', 'organ', 'age', 'cell_type', 'sex', 'sex_inferred', 'concatenated_integration_covariates', 'integration_donor', 'integration_biological_unit', 'integration_sample_status', 'integration_library_platform_coarse', 'n_genes'\n",
      "    uns: 'rank_genes_groups'\n",
      "    obsm: 'Unintegrated', 'X_pca', 'harmony', 'inveriant_1', 'inveriant_2', 'inveriant_3', 'inveriant_4', 'inveriant_5', 'inveriant_6', 'inveriant_7', 'inveriant_8'\n"
     ]
    },
    {
     "name": "stdout",
     "output_type": "stream",
     "text": [
      "starting scvi scib\n"
     ]
    }
   ],
   "source": [
    "print(adata, flush=True)\n",
    "print(\"starting scvi scib\", flush=True)\n",
    "bm = Benchmarker(\n",
    "    adata=adata,\n",
    "    batch_key=\"concatenated_integration_covariates\",\n",
    "    label_key=\"cell_type\",\n",
    "    embedding_obsm_keys=obsms,\n",
    "    pre_integrated_embedding_obsm_key=\"Unintegrated\",  # equals to X_pca\n",
    "    bio_conservation_metrics=biocons,\n",
    "    batch_correction_metrics=batchcor,\n",
    "    n_jobs=-1,\n",
    ")"
   ]
  },
  {
   "cell_type": "code",
   "execution_count": 9,
   "id": "5591d511-bec8-4d82-9b20-9df8c00943be",
   "metadata": {
    "execution": {
     "iopub.execute_input": "2024-05-10T10:00:12.075424Z",
     "iopub.status.busy": "2024-05-10T10:00:12.075151Z",
     "iopub.status.idle": "2024-05-10T11:49:39.836687Z",
     "shell.execute_reply": "2024-05-10T11:49:39.835419Z"
    }
   },
   "outputs": [
    {
     "name": "stderr",
     "output_type": "stream",
     "text": [
      "\r",
      "Computing neighbors:   0%|          | 0/8 [00:00<?, ?it/s]"
     ]
    },
    {
     "name": "stderr",
     "output_type": "stream",
     "text": [
      "\r",
      "Computing neighbors:  12%|█▎        | 1/8 [03:18<23:10, 198.63s/it]"
     ]
    },
    {
     "name": "stderr",
     "output_type": "stream",
     "text": [
      "\r",
      "Computing neighbors:  25%|██▌       | 2/8 [06:36<19:50, 198.35s/it]"
     ]
    },
    {
     "name": "stderr",
     "output_type": "stream",
     "text": [
      "\r",
      "Computing neighbors:  38%|███▊      | 3/8 [09:45<16:10, 194.00s/it]"
     ]
    },
    {
     "name": "stderr",
     "output_type": "stream",
     "text": [
      "\r",
      "Computing neighbors:  50%|█████     | 4/8 [13:02<12:59, 194.95s/it]"
     ]
    },
    {
     "name": "stderr",
     "output_type": "stream",
     "text": [
      "\r",
      "Computing neighbors:  62%|██████▎   | 5/8 [16:16<09:43, 194.63s/it]"
     ]
    },
    {
     "name": "stderr",
     "output_type": "stream",
     "text": [
      "\r",
      "Computing neighbors:  75%|███████▌  | 6/8 [19:32<06:30, 195.31s/it]"
     ]
    },
    {
     "name": "stderr",
     "output_type": "stream",
     "text": [
      "\r",
      "Computing neighbors:  88%|████████▊ | 7/8 [22:48<03:15, 195.58s/it]"
     ]
    },
    {
     "name": "stderr",
     "output_type": "stream",
     "text": [
      "\r",
      "Computing neighbors: 100%|██████████| 8/8 [26:06<00:00, 196.32s/it]"
     ]
    },
    {
     "name": "stderr",
     "output_type": "stream",
     "text": [
      "\r",
      "Computing neighbors: 100%|██████████| 8/8 [26:06<00:00, 195.84s/it]"
     ]
    },
    {
     "name": "stderr",
     "output_type": "stream",
     "text": [
      "\n"
     ]
    },
    {
     "name": "stderr",
     "output_type": "stream",
     "text": [
      "\r",
      "Embeddings:   0%|\u001b[32m          \u001b[0m| 0/8 [00:00<?, ?it/s]"
     ]
    },
    {
     "name": "stderr",
     "output_type": "stream",
     "text": [
      "\n"
     ]
    },
    {
     "name": "stderr",
     "output_type": "stream",
     "text": [
      "\r",
      "Metrics:   0%|\u001b[34m          \u001b[0m| 0/10 [00:00<?, ?it/s]"
     ]
    },
    {
     "name": "stderr",
     "output_type": "stream",
     "text": [
      "\u001b[A"
     ]
    },
    {
     "name": "stderr",
     "output_type": "stream",
     "text": [
      "\n"
     ]
    },
    {
     "name": "stderr",
     "output_type": "stream",
     "text": [
      "\r",
      "Metrics:   0%|\u001b[34m          \u001b[0m| 0/10 [00:00<?, ?it/s, Batch correction: silhouette_batch]"
     ]
    },
    {
     "name": "stderr",
     "output_type": "stream",
     "text": [
      "\u001b[A"
     ]
    },
    {
     "name": "stderr",
     "output_type": "stream",
     "text": [
      "\n"
     ]
    },
    {
     "name": "stderr",
     "output_type": "stream",
     "text": [
      "\r",
      "Metrics:  10%|\u001b[34m█         \u001b[0m| 1/10 [02:37<23:33, 157.04s/it, Batch correction: silhouette_batch]"
     ]
    },
    {
     "name": "stderr",
     "output_type": "stream",
     "text": [
      "\u001b[A"
     ]
    },
    {
     "name": "stderr",
     "output_type": "stream",
     "text": [
      "\n"
     ]
    },
    {
     "name": "stderr",
     "output_type": "stream",
     "text": [
      "\r",
      "Metrics:  10%|\u001b[34m█         \u001b[0m| 1/10 [02:37<23:33, 157.04s/it, Batch correction: ilisi_knn]       "
     ]
    },
    {
     "name": "stderr",
     "output_type": "stream",
     "text": [
      "\u001b[A"
     ]
    },
    {
     "name": "stderr",
     "output_type": "stream",
     "text": [
      "\n"
     ]
    },
    {
     "name": "stderr",
     "output_type": "stream",
     "text": [
      "\r",
      "Metrics:  20%|\u001b[34m██        \u001b[0m| 2/10 [02:41<08:59, 67.49s/it, Batch correction: ilisi_knn] "
     ]
    },
    {
     "name": "stderr",
     "output_type": "stream",
     "text": [
      "\u001b[A"
     ]
    },
    {
     "name": "stderr",
     "output_type": "stream",
     "text": [
      "\n"
     ]
    },
    {
     "name": "stderr",
     "output_type": "stream",
     "text": [
      "\r",
      "Metrics:  20%|\u001b[34m██        \u001b[0m| 2/10 [02:41<08:59, 67.49s/it, Batch correction: kbet_per_label]"
     ]
    },
    {
     "name": "stderr",
     "output_type": "stream",
     "text": [
      "\u001b[A"
     ]
    },
    {
     "name": "stderr",
     "output_type": "stream",
     "text": [
      "\n"
     ]
    },
    {
     "name": "stderr",
     "output_type": "stream",
     "text": [
      "\r",
      "Metrics:  30%|\u001b[34m███       \u001b[0m| 3/10 [11:44<33:09, 284.28s/it, Batch correction: kbet_per_label]"
     ]
    },
    {
     "name": "stderr",
     "output_type": "stream",
     "text": [
      "\u001b[A"
     ]
    },
    {
     "name": "stderr",
     "output_type": "stream",
     "text": [
      "\n"
     ]
    },
    {
     "name": "stderr",
     "output_type": "stream",
     "text": [
      "\r",
      "Metrics:  30%|\u001b[34m███       \u001b[0m| 3/10 [11:44<33:09, 284.28s/it, Batch correction: graph_connectivity]"
     ]
    },
    {
     "name": "stderr",
     "output_type": "stream",
     "text": [
      "\u001b[A"
     ]
    },
    {
     "name": "stderr",
     "output_type": "stream",
     "text": [
      "\n"
     ]
    },
    {
     "name": "stderr",
     "output_type": "stream",
     "text": [
      "\r",
      "Metrics:  40%|\u001b[34m████      \u001b[0m| 4/10 [11:48<17:22, 173.78s/it, Batch correction: graph_connectivity]"
     ]
    },
    {
     "name": "stderr",
     "output_type": "stream",
     "text": [
      "\u001b[A"
     ]
    },
    {
     "name": "stderr",
     "output_type": "stream",
     "text": [
      "\n"
     ]
    },
    {
     "name": "stderr",
     "output_type": "stream",
     "text": [
      "\r",
      "Metrics:  40%|\u001b[34m████      \u001b[0m| 4/10 [11:48<17:22, 173.78s/it, Batch correction: pcr_comparison]    "
     ]
    },
    {
     "name": "stderr",
     "output_type": "stream",
     "text": [
      "\u001b[A"
     ]
    },
    {
     "name": "stderr",
     "output_type": "stream",
     "text": [
      "/home/icb/kemal.inecik/tools/apps/mamba/envs/tardis_env/lib/python3.10/site-packages/scib_metrics/_pcr_comparison.py:49: UserWarning: PCR comparison score is negative, meaning variance contribution increased after integration. Setting to 0.\n",
      "  warnings.warn(\n",
      "\n"
     ]
    },
    {
     "name": "stderr",
     "output_type": "stream",
     "text": [
      "\r",
      "Metrics:  50%|\u001b[34m█████     \u001b[0m| 5/10 [11:57<09:31, 114.35s/it, Batch correction: pcr_comparison]"
     ]
    },
    {
     "name": "stderr",
     "output_type": "stream",
     "text": [
      "\u001b[A"
     ]
    },
    {
     "name": "stderr",
     "output_type": "stream",
     "text": [
      "\r",
      "Embeddings:  12%|\u001b[32m█▎        \u001b[0m| 1/8 [11:57<1:23:42, 717.45s/it]"
     ]
    },
    {
     "name": "stderr",
     "output_type": "stream",
     "text": [
      "\n"
     ]
    },
    {
     "name": "stderr",
     "output_type": "stream",
     "text": [
      "\r",
      "Metrics:   0%|\u001b[34m          \u001b[0m| 0/10 [00:00<?, ?it/s]"
     ]
    },
    {
     "name": "stderr",
     "output_type": "stream",
     "text": [
      "\u001b[A"
     ]
    },
    {
     "name": "stderr",
     "output_type": "stream",
     "text": [
      "\n"
     ]
    },
    {
     "name": "stderr",
     "output_type": "stream",
     "text": [
      "\r",
      "                                                                                          "
     ]
    },
    {
     "name": "stderr",
     "output_type": "stream",
     "text": [
      "\u001b[A"
     ]
    },
    {
     "name": "stderr",
     "output_type": "stream",
     "text": [
      "\n"
     ]
    },
    {
     "name": "stderr",
     "output_type": "stream",
     "text": [
      "\r",
      "Metrics:   0%|\u001b[34m          \u001b[0m| 0/10 [00:00<?, ?it/s, Batch correction: silhouette_batch]"
     ]
    },
    {
     "name": "stderr",
     "output_type": "stream",
     "text": [
      "\u001b[A"
     ]
    },
    {
     "name": "stderr",
     "output_type": "stream",
     "text": [
      "\n"
     ]
    },
    {
     "name": "stderr",
     "output_type": "stream",
     "text": [
      "\r",
      "Metrics:  10%|\u001b[34m█         \u001b[0m| 1/10 [01:30<13:37, 90.81s/it, Batch correction: silhouette_batch]"
     ]
    },
    {
     "name": "stderr",
     "output_type": "stream",
     "text": [
      "\u001b[A"
     ]
    },
    {
     "name": "stderr",
     "output_type": "stream",
     "text": [
      "\n"
     ]
    },
    {
     "name": "stderr",
     "output_type": "stream",
     "text": [
      "\r",
      "Metrics:  10%|\u001b[34m█         \u001b[0m| 1/10 [01:30<13:37, 90.81s/it, Batch correction: ilisi_knn]       "
     ]
    },
    {
     "name": "stderr",
     "output_type": "stream",
     "text": [
      "\u001b[A"
     ]
    },
    {
     "name": "stderr",
     "output_type": "stream",
     "text": [
      "\n"
     ]
    },
    {
     "name": "stderr",
     "output_type": "stream",
     "text": [
      "\r",
      "Metrics:  20%|\u001b[34m██        \u001b[0m| 2/10 [01:34<05:15, 39.49s/it, Batch correction: ilisi_knn]"
     ]
    },
    {
     "name": "stderr",
     "output_type": "stream",
     "text": [
      "\u001b[A"
     ]
    },
    {
     "name": "stderr",
     "output_type": "stream",
     "text": [
      "\n"
     ]
    },
    {
     "name": "stderr",
     "output_type": "stream",
     "text": [
      "\r",
      "Metrics:  20%|\u001b[34m██        \u001b[0m| 2/10 [01:34<05:15, 39.49s/it, Batch correction: kbet_per_label]"
     ]
    },
    {
     "name": "stderr",
     "output_type": "stream",
     "text": [
      "\u001b[A"
     ]
    },
    {
     "name": "stderr",
     "output_type": "stream",
     "text": [
      "\n"
     ]
    },
    {
     "name": "stderr",
     "output_type": "stream",
     "text": [
      "\r",
      "Metrics:  30%|\u001b[34m███       \u001b[0m| 3/10 [10:03<29:37, 253.94s/it, Batch correction: kbet_per_label]"
     ]
    },
    {
     "name": "stderr",
     "output_type": "stream",
     "text": [
      "\u001b[A"
     ]
    },
    {
     "name": "stderr",
     "output_type": "stream",
     "text": [
      "\n"
     ]
    },
    {
     "name": "stderr",
     "output_type": "stream",
     "text": [
      "\r",
      "Metrics:  30%|\u001b[34m███       \u001b[0m| 3/10 [10:03<29:37, 253.94s/it, Batch correction: graph_connectivity]"
     ]
    },
    {
     "name": "stderr",
     "output_type": "stream",
     "text": [
      "\u001b[A"
     ]
    },
    {
     "name": "stderr",
     "output_type": "stream",
     "text": [
      "\n"
     ]
    },
    {
     "name": "stderr",
     "output_type": "stream",
     "text": [
      "\r",
      "Metrics:  40%|\u001b[34m████      \u001b[0m| 4/10 [10:08<15:32, 155.46s/it, Batch correction: graph_connectivity]"
     ]
    },
    {
     "name": "stderr",
     "output_type": "stream",
     "text": [
      "\u001b[A"
     ]
    },
    {
     "name": "stderr",
     "output_type": "stream",
     "text": [
      "\n"
     ]
    },
    {
     "name": "stderr",
     "output_type": "stream",
     "text": [
      "\r",
      "Metrics:  40%|\u001b[34m████      \u001b[0m| 4/10 [10:08<15:32, 155.46s/it, Batch correction: pcr_comparison]    "
     ]
    },
    {
     "name": "stderr",
     "output_type": "stream",
     "text": [
      "\u001b[A"
     ]
    },
    {
     "name": "stderr",
     "output_type": "stream",
     "text": [
      "/home/icb/kemal.inecik/tools/apps/mamba/envs/tardis_env/lib/python3.10/site-packages/scib_metrics/_pcr_comparison.py:49: UserWarning: PCR comparison score is negative, meaning variance contribution increased after integration. Setting to 0.\n",
      "  warnings.warn(\n",
      "\n"
     ]
    },
    {
     "name": "stderr",
     "output_type": "stream",
     "text": [
      "\r",
      "Metrics:  50%|\u001b[34m█████     \u001b[0m| 5/10 [10:11<08:23, 100.80s/it, Batch correction: pcr_comparison]"
     ]
    },
    {
     "name": "stderr",
     "output_type": "stream",
     "text": [
      "\u001b[A"
     ]
    },
    {
     "name": "stderr",
     "output_type": "stream",
     "text": [
      "\r",
      "Embeddings:  25%|\u001b[32m██▌       \u001b[0m| 2/8 [22:09<1:05:32, 655.35s/it]"
     ]
    },
    {
     "name": "stderr",
     "output_type": "stream",
     "text": [
      "\n"
     ]
    },
    {
     "name": "stderr",
     "output_type": "stream",
     "text": [
      "\r",
      "Metrics:   0%|\u001b[34m          \u001b[0m| 0/10 [00:00<?, ?it/s]"
     ]
    },
    {
     "name": "stderr",
     "output_type": "stream",
     "text": [
      "\u001b[A"
     ]
    },
    {
     "name": "stderr",
     "output_type": "stream",
     "text": [
      "\n"
     ]
    },
    {
     "name": "stderr",
     "output_type": "stream",
     "text": [
      "\r",
      "                                                                                          "
     ]
    },
    {
     "name": "stderr",
     "output_type": "stream",
     "text": [
      "\u001b[A"
     ]
    },
    {
     "name": "stderr",
     "output_type": "stream",
     "text": [
      "\n"
     ]
    },
    {
     "name": "stderr",
     "output_type": "stream",
     "text": [
      "\r",
      "Metrics:   0%|\u001b[34m          \u001b[0m| 0/10 [00:00<?, ?it/s, Batch correction: silhouette_batch]"
     ]
    },
    {
     "name": "stderr",
     "output_type": "stream",
     "text": [
      "\u001b[A"
     ]
    },
    {
     "name": "stderr",
     "output_type": "stream",
     "text": [
      "\n"
     ]
    },
    {
     "name": "stderr",
     "output_type": "stream",
     "text": [
      "\r",
      "Metrics:  10%|\u001b[34m█         \u001b[0m| 1/10 [01:27<13:09, 87.75s/it, Batch correction: silhouette_batch]"
     ]
    },
    {
     "name": "stderr",
     "output_type": "stream",
     "text": [
      "\u001b[A"
     ]
    },
    {
     "name": "stderr",
     "output_type": "stream",
     "text": [
      "\n"
     ]
    },
    {
     "name": "stderr",
     "output_type": "stream",
     "text": [
      "\r",
      "Metrics:  10%|\u001b[34m█         \u001b[0m| 1/10 [01:27<13:09, 87.75s/it, Batch correction: ilisi_knn]       "
     ]
    },
    {
     "name": "stderr",
     "output_type": "stream",
     "text": [
      "\u001b[A"
     ]
    },
    {
     "name": "stderr",
     "output_type": "stream",
     "text": [
      "\n"
     ]
    },
    {
     "name": "stderr",
     "output_type": "stream",
     "text": [
      "\r",
      "Metrics:  20%|\u001b[34m██        \u001b[0m| 2/10 [01:31<05:06, 38.28s/it, Batch correction: ilisi_knn]"
     ]
    },
    {
     "name": "stderr",
     "output_type": "stream",
     "text": [
      "\u001b[A"
     ]
    },
    {
     "name": "stderr",
     "output_type": "stream",
     "text": [
      "\n"
     ]
    },
    {
     "name": "stderr",
     "output_type": "stream",
     "text": [
      "\r",
      "Metrics:  20%|\u001b[34m██        \u001b[0m| 2/10 [01:31<05:06, 38.28s/it, Batch correction: kbet_per_label]"
     ]
    },
    {
     "name": "stderr",
     "output_type": "stream",
     "text": [
      "\u001b[A"
     ]
    },
    {
     "name": "stderr",
     "output_type": "stream",
     "text": [
      "\n"
     ]
    },
    {
     "name": "stderr",
     "output_type": "stream",
     "text": [
      "\r",
      "Metrics:  30%|\u001b[34m███       \u001b[0m| 3/10 [10:14<30:16, 259.50s/it, Batch correction: kbet_per_label]"
     ]
    },
    {
     "name": "stderr",
     "output_type": "stream",
     "text": [
      "\u001b[A"
     ]
    },
    {
     "name": "stderr",
     "output_type": "stream",
     "text": [
      "\n"
     ]
    },
    {
     "name": "stderr",
     "output_type": "stream",
     "text": [
      "\r",
      "Metrics:  30%|\u001b[34m███       \u001b[0m| 3/10 [10:14<30:16, 259.50s/it, Batch correction: graph_connectivity]"
     ]
    },
    {
     "name": "stderr",
     "output_type": "stream",
     "text": [
      "\u001b[A"
     ]
    },
    {
     "name": "stderr",
     "output_type": "stream",
     "text": [
      "\n"
     ]
    },
    {
     "name": "stderr",
     "output_type": "stream",
     "text": [
      "\r",
      "Metrics:  40%|\u001b[34m████      \u001b[0m| 4/10 [10:18<15:52, 158.79s/it, Batch correction: graph_connectivity]"
     ]
    },
    {
     "name": "stderr",
     "output_type": "stream",
     "text": [
      "\u001b[A"
     ]
    },
    {
     "name": "stderr",
     "output_type": "stream",
     "text": [
      "\n"
     ]
    },
    {
     "name": "stderr",
     "output_type": "stream",
     "text": [
      "\r",
      "Metrics:  40%|\u001b[34m████      \u001b[0m| 4/10 [10:18<15:52, 158.79s/it, Batch correction: pcr_comparison]    "
     ]
    },
    {
     "name": "stderr",
     "output_type": "stream",
     "text": [
      "\u001b[A"
     ]
    },
    {
     "name": "stderr",
     "output_type": "stream",
     "text": [
      "/home/icb/kemal.inecik/tools/apps/mamba/envs/tardis_env/lib/python3.10/site-packages/scib_metrics/_pcr_comparison.py:49: UserWarning: PCR comparison score is negative, meaning variance contribution increased after integration. Setting to 0.\n",
      "  warnings.warn(\n",
      "\n"
     ]
    },
    {
     "name": "stderr",
     "output_type": "stream",
     "text": [
      "\r",
      "Metrics:  50%|\u001b[34m█████     \u001b[0m| 5/10 [10:22<08:35, 103.07s/it, Batch correction: pcr_comparison]"
     ]
    },
    {
     "name": "stderr",
     "output_type": "stream",
     "text": [
      "\u001b[A"
     ]
    },
    {
     "name": "stderr",
     "output_type": "stream",
     "text": [
      "\r",
      "Embeddings:  38%|\u001b[32m███▊      \u001b[0m| 3/8 [32:32<53:22, 640.51s/it]  "
     ]
    },
    {
     "name": "stderr",
     "output_type": "stream",
     "text": [
      "\n"
     ]
    },
    {
     "name": "stderr",
     "output_type": "stream",
     "text": [
      "\r",
      "Metrics:   0%|\u001b[34m          \u001b[0m| 0/10 [00:00<?, ?it/s]"
     ]
    },
    {
     "name": "stderr",
     "output_type": "stream",
     "text": [
      "\u001b[A"
     ]
    },
    {
     "name": "stderr",
     "output_type": "stream",
     "text": [
      "\n"
     ]
    },
    {
     "name": "stderr",
     "output_type": "stream",
     "text": [
      "\r",
      "                                                                                          "
     ]
    },
    {
     "name": "stderr",
     "output_type": "stream",
     "text": [
      "\u001b[A"
     ]
    },
    {
     "name": "stderr",
     "output_type": "stream",
     "text": [
      "\n"
     ]
    },
    {
     "name": "stderr",
     "output_type": "stream",
     "text": [
      "\r",
      "Metrics:   0%|\u001b[34m          \u001b[0m| 0/10 [00:00<?, ?it/s, Batch correction: silhouette_batch]"
     ]
    },
    {
     "name": "stderr",
     "output_type": "stream",
     "text": [
      "\u001b[A"
     ]
    },
    {
     "name": "stderr",
     "output_type": "stream",
     "text": [
      "\n"
     ]
    },
    {
     "name": "stderr",
     "output_type": "stream",
     "text": [
      "\r",
      "Metrics:  10%|\u001b[34m█         \u001b[0m| 1/10 [01:26<12:55, 86.19s/it, Batch correction: silhouette_batch]"
     ]
    },
    {
     "name": "stderr",
     "output_type": "stream",
     "text": [
      "\u001b[A"
     ]
    },
    {
     "name": "stderr",
     "output_type": "stream",
     "text": [
      "\n"
     ]
    },
    {
     "name": "stderr",
     "output_type": "stream",
     "text": [
      "\r",
      "Metrics:  10%|\u001b[34m█         \u001b[0m| 1/10 [01:26<12:55, 86.19s/it, Batch correction: ilisi_knn]       "
     ]
    },
    {
     "name": "stderr",
     "output_type": "stream",
     "text": [
      "\u001b[A"
     ]
    },
    {
     "name": "stderr",
     "output_type": "stream",
     "text": [
      "\n"
     ]
    },
    {
     "name": "stderr",
     "output_type": "stream",
     "text": [
      "\r",
      "Metrics:  20%|\u001b[34m██        \u001b[0m| 2/10 [01:29<05:01, 37.65s/it, Batch correction: ilisi_knn]"
     ]
    },
    {
     "name": "stderr",
     "output_type": "stream",
     "text": [
      "\u001b[A"
     ]
    },
    {
     "name": "stderr",
     "output_type": "stream",
     "text": [
      "\n"
     ]
    },
    {
     "name": "stderr",
     "output_type": "stream",
     "text": [
      "\r",
      "Metrics:  20%|\u001b[34m██        \u001b[0m| 2/10 [01:29<05:01, 37.65s/it, Batch correction: kbet_per_label]"
     ]
    },
    {
     "name": "stderr",
     "output_type": "stream",
     "text": [
      "\u001b[A"
     ]
    },
    {
     "name": "stderr",
     "output_type": "stream",
     "text": [
      "\n"
     ]
    },
    {
     "name": "stderr",
     "output_type": "stream",
     "text": [
      "\r",
      "Metrics:  30%|\u001b[34m███       \u001b[0m| 3/10 [10:04<29:48, 255.48s/it, Batch correction: kbet_per_label]"
     ]
    },
    {
     "name": "stderr",
     "output_type": "stream",
     "text": [
      "\u001b[A"
     ]
    },
    {
     "name": "stderr",
     "output_type": "stream",
     "text": [
      "\n"
     ]
    },
    {
     "name": "stderr",
     "output_type": "stream",
     "text": [
      "\r",
      "Metrics:  30%|\u001b[34m███       \u001b[0m| 3/10 [10:04<29:48, 255.48s/it, Batch correction: graph_connectivity]"
     ]
    },
    {
     "name": "stderr",
     "output_type": "stream",
     "text": [
      "\u001b[A"
     ]
    },
    {
     "name": "stderr",
     "output_type": "stream",
     "text": [
      "\n"
     ]
    },
    {
     "name": "stderr",
     "output_type": "stream",
     "text": [
      "\r",
      "Metrics:  40%|\u001b[34m████      \u001b[0m| 4/10 [10:09<15:38, 156.39s/it, Batch correction: graph_connectivity]"
     ]
    },
    {
     "name": "stderr",
     "output_type": "stream",
     "text": [
      "\u001b[A"
     ]
    },
    {
     "name": "stderr",
     "output_type": "stream",
     "text": [
      "\n"
     ]
    },
    {
     "name": "stderr",
     "output_type": "stream",
     "text": [
      "\r",
      "Metrics:  40%|\u001b[34m████      \u001b[0m| 4/10 [10:09<15:38, 156.39s/it, Batch correction: pcr_comparison]    "
     ]
    },
    {
     "name": "stderr",
     "output_type": "stream",
     "text": [
      "\u001b[A"
     ]
    },
    {
     "name": "stderr",
     "output_type": "stream",
     "text": [
      "/home/icb/kemal.inecik/tools/apps/mamba/envs/tardis_env/lib/python3.10/site-packages/scib_metrics/_pcr_comparison.py:49: UserWarning: PCR comparison score is negative, meaning variance contribution increased after integration. Setting to 0.\n",
      "  warnings.warn(\n",
      "\n"
     ]
    },
    {
     "name": "stderr",
     "output_type": "stream",
     "text": [
      "\r",
      "Metrics:  50%|\u001b[34m█████     \u001b[0m| 5/10 [10:12<08:26, 101.23s/it, Batch correction: pcr_comparison]"
     ]
    },
    {
     "name": "stderr",
     "output_type": "stream",
     "text": [
      "\u001b[A"
     ]
    },
    {
     "name": "stderr",
     "output_type": "stream",
     "text": [
      "\r",
      "Embeddings:  50%|\u001b[32m█████     \u001b[0m| 4/8 [42:44<41:57, 629.44s/it]"
     ]
    },
    {
     "name": "stderr",
     "output_type": "stream",
     "text": [
      "\n"
     ]
    },
    {
     "name": "stderr",
     "output_type": "stream",
     "text": [
      "\r",
      "Metrics:   0%|\u001b[34m          \u001b[0m| 0/10 [00:00<?, ?it/s]"
     ]
    },
    {
     "name": "stderr",
     "output_type": "stream",
     "text": [
      "\u001b[A"
     ]
    },
    {
     "name": "stderr",
     "output_type": "stream",
     "text": [
      "\n"
     ]
    },
    {
     "name": "stderr",
     "output_type": "stream",
     "text": [
      "\r",
      "                                                                                          "
     ]
    },
    {
     "name": "stderr",
     "output_type": "stream",
     "text": [
      "\u001b[A"
     ]
    },
    {
     "name": "stderr",
     "output_type": "stream",
     "text": [
      "\n"
     ]
    },
    {
     "name": "stderr",
     "output_type": "stream",
     "text": [
      "\r",
      "Metrics:   0%|\u001b[34m          \u001b[0m| 0/10 [00:00<?, ?it/s, Batch correction: silhouette_batch]"
     ]
    },
    {
     "name": "stderr",
     "output_type": "stream",
     "text": [
      "\u001b[A"
     ]
    },
    {
     "name": "stderr",
     "output_type": "stream",
     "text": [
      "\n"
     ]
    },
    {
     "name": "stderr",
     "output_type": "stream",
     "text": [
      "\r",
      "Metrics:  10%|\u001b[34m█         \u001b[0m| 1/10 [01:26<12:58, 86.49s/it, Batch correction: silhouette_batch]"
     ]
    },
    {
     "name": "stderr",
     "output_type": "stream",
     "text": [
      "\u001b[A"
     ]
    },
    {
     "name": "stderr",
     "output_type": "stream",
     "text": [
      "\n"
     ]
    },
    {
     "name": "stderr",
     "output_type": "stream",
     "text": [
      "\r",
      "Metrics:  10%|\u001b[34m█         \u001b[0m| 1/10 [01:26<12:58, 86.49s/it, Batch correction: ilisi_knn]       "
     ]
    },
    {
     "name": "stderr",
     "output_type": "stream",
     "text": [
      "\u001b[A"
     ]
    },
    {
     "name": "stderr",
     "output_type": "stream",
     "text": [
      "\n"
     ]
    },
    {
     "name": "stderr",
     "output_type": "stream",
     "text": [
      "\r",
      "Metrics:  20%|\u001b[34m██        \u001b[0m| 2/10 [01:30<05:02, 37.78s/it, Batch correction: ilisi_knn]"
     ]
    },
    {
     "name": "stderr",
     "output_type": "stream",
     "text": [
      "\u001b[A"
     ]
    },
    {
     "name": "stderr",
     "output_type": "stream",
     "text": [
      "\n"
     ]
    },
    {
     "name": "stderr",
     "output_type": "stream",
     "text": [
      "\r",
      "Metrics:  20%|\u001b[34m██        \u001b[0m| 2/10 [01:30<05:02, 37.78s/it, Batch correction: kbet_per_label]"
     ]
    },
    {
     "name": "stderr",
     "output_type": "stream",
     "text": [
      "\u001b[A"
     ]
    },
    {
     "name": "stderr",
     "output_type": "stream",
     "text": [
      "\n"
     ]
    },
    {
     "name": "stderr",
     "output_type": "stream",
     "text": [
      "\r",
      "Metrics:  30%|\u001b[34m███       \u001b[0m| 3/10 [10:12<30:13, 259.12s/it, Batch correction: kbet_per_label]"
     ]
    },
    {
     "name": "stderr",
     "output_type": "stream",
     "text": [
      "\u001b[A"
     ]
    },
    {
     "name": "stderr",
     "output_type": "stream",
     "text": [
      "\n"
     ]
    },
    {
     "name": "stderr",
     "output_type": "stream",
     "text": [
      "\r",
      "Metrics:  30%|\u001b[34m███       \u001b[0m| 3/10 [10:12<30:13, 259.12s/it, Batch correction: graph_connectivity]"
     ]
    },
    {
     "name": "stderr",
     "output_type": "stream",
     "text": [
      "\u001b[A"
     ]
    },
    {
     "name": "stderr",
     "output_type": "stream",
     "text": [
      "\n"
     ]
    },
    {
     "name": "stderr",
     "output_type": "stream",
     "text": [
      "\r",
      "Metrics:  40%|\u001b[34m████      \u001b[0m| 4/10 [10:17<15:51, 158.59s/it, Batch correction: graph_connectivity]"
     ]
    },
    {
     "name": "stderr",
     "output_type": "stream",
     "text": [
      "\u001b[A"
     ]
    },
    {
     "name": "stderr",
     "output_type": "stream",
     "text": [
      "\n"
     ]
    },
    {
     "name": "stderr",
     "output_type": "stream",
     "text": [
      "\r",
      "Metrics:  40%|\u001b[34m████      \u001b[0m| 4/10 [10:17<15:51, 158.59s/it, Batch correction: pcr_comparison]    "
     ]
    },
    {
     "name": "stderr",
     "output_type": "stream",
     "text": [
      "\u001b[A"
     ]
    },
    {
     "name": "stderr",
     "output_type": "stream",
     "text": [
      "/home/icb/kemal.inecik/tools/apps/mamba/envs/tardis_env/lib/python3.10/site-packages/scib_metrics/_pcr_comparison.py:49: UserWarning: PCR comparison score is negative, meaning variance contribution increased after integration. Setting to 0.\n",
      "  warnings.warn(\n",
      "\n"
     ]
    },
    {
     "name": "stderr",
     "output_type": "stream",
     "text": [
      "\r",
      "Metrics:  50%|\u001b[34m█████     \u001b[0m| 5/10 [10:20<08:33, 102.74s/it, Batch correction: pcr_comparison]"
     ]
    },
    {
     "name": "stderr",
     "output_type": "stream",
     "text": [
      "\u001b[A"
     ]
    },
    {
     "name": "stderr",
     "output_type": "stream",
     "text": [
      "\r",
      "Embeddings:  62%|\u001b[32m██████▎   \u001b[0m| 5/8 [53:05<31:19, 626.36s/it]"
     ]
    },
    {
     "name": "stderr",
     "output_type": "stream",
     "text": [
      "\n"
     ]
    },
    {
     "name": "stderr",
     "output_type": "stream",
     "text": [
      "\r",
      "Metrics:   0%|\u001b[34m          \u001b[0m| 0/10 [00:00<?, ?it/s]"
     ]
    },
    {
     "name": "stderr",
     "output_type": "stream",
     "text": [
      "\u001b[A"
     ]
    },
    {
     "name": "stderr",
     "output_type": "stream",
     "text": [
      "\n"
     ]
    },
    {
     "name": "stderr",
     "output_type": "stream",
     "text": [
      "\r",
      "                                                                                          "
     ]
    },
    {
     "name": "stderr",
     "output_type": "stream",
     "text": [
      "\u001b[A"
     ]
    },
    {
     "name": "stderr",
     "output_type": "stream",
     "text": [
      "\n"
     ]
    },
    {
     "name": "stderr",
     "output_type": "stream",
     "text": [
      "\r",
      "Metrics:   0%|\u001b[34m          \u001b[0m| 0/10 [00:00<?, ?it/s, Batch correction: silhouette_batch]"
     ]
    },
    {
     "name": "stderr",
     "output_type": "stream",
     "text": [
      "\u001b[A"
     ]
    },
    {
     "name": "stderr",
     "output_type": "stream",
     "text": [
      "\n"
     ]
    },
    {
     "name": "stderr",
     "output_type": "stream",
     "text": [
      "\r",
      "Metrics:  10%|\u001b[34m█         \u001b[0m| 1/10 [01:26<13:00, 86.74s/it, Batch correction: silhouette_batch]"
     ]
    },
    {
     "name": "stderr",
     "output_type": "stream",
     "text": [
      "\u001b[A"
     ]
    },
    {
     "name": "stderr",
     "output_type": "stream",
     "text": [
      "\n"
     ]
    },
    {
     "name": "stderr",
     "output_type": "stream",
     "text": [
      "\r",
      "Metrics:  10%|\u001b[34m█         \u001b[0m| 1/10 [01:26<13:00, 86.74s/it, Batch correction: ilisi_knn]       "
     ]
    },
    {
     "name": "stderr",
     "output_type": "stream",
     "text": [
      "\u001b[A"
     ]
    },
    {
     "name": "stderr",
     "output_type": "stream",
     "text": [
      "\n"
     ]
    },
    {
     "name": "stderr",
     "output_type": "stream",
     "text": [
      "\r",
      "Metrics:  20%|\u001b[34m██        \u001b[0m| 2/10 [01:30<05:03, 37.88s/it, Batch correction: ilisi_knn]"
     ]
    },
    {
     "name": "stderr",
     "output_type": "stream",
     "text": [
      "\u001b[A"
     ]
    },
    {
     "name": "stderr",
     "output_type": "stream",
     "text": [
      "\n"
     ]
    },
    {
     "name": "stderr",
     "output_type": "stream",
     "text": [
      "\r",
      "Metrics:  20%|\u001b[34m██        \u001b[0m| 2/10 [01:30<05:03, 37.88s/it, Batch correction: kbet_per_label]"
     ]
    },
    {
     "name": "stderr",
     "output_type": "stream",
     "text": [
      "\u001b[A"
     ]
    },
    {
     "name": "stderr",
     "output_type": "stream",
     "text": [
      "\n"
     ]
    },
    {
     "name": "stderr",
     "output_type": "stream",
     "text": [
      "\r",
      "Metrics:  30%|\u001b[34m███       \u001b[0m| 3/10 [10:05<29:51, 255.96s/it, Batch correction: kbet_per_label]"
     ]
    },
    {
     "name": "stderr",
     "output_type": "stream",
     "text": [
      "\u001b[A"
     ]
    },
    {
     "name": "stderr",
     "output_type": "stream",
     "text": [
      "\n"
     ]
    },
    {
     "name": "stderr",
     "output_type": "stream",
     "text": [
      "\r",
      "Metrics:  30%|\u001b[34m███       \u001b[0m| 3/10 [10:05<29:51, 255.96s/it, Batch correction: graph_connectivity]"
     ]
    },
    {
     "name": "stderr",
     "output_type": "stream",
     "text": [
      "\u001b[A"
     ]
    },
    {
     "name": "stderr",
     "output_type": "stream",
     "text": [
      "\n"
     ]
    },
    {
     "name": "stderr",
     "output_type": "stream",
     "text": [
      "\r",
      "Metrics:  40%|\u001b[34m████      \u001b[0m| 4/10 [10:10<15:39, 156.61s/it, Batch correction: graph_connectivity]"
     ]
    },
    {
     "name": "stderr",
     "output_type": "stream",
     "text": [
      "\u001b[A"
     ]
    },
    {
     "name": "stderr",
     "output_type": "stream",
     "text": [
      "\n"
     ]
    },
    {
     "name": "stderr",
     "output_type": "stream",
     "text": [
      "\r",
      "Metrics:  40%|\u001b[34m████      \u001b[0m| 4/10 [10:10<15:39, 156.61s/it, Batch correction: pcr_comparison]    "
     ]
    },
    {
     "name": "stderr",
     "output_type": "stream",
     "text": [
      "\u001b[A"
     ]
    },
    {
     "name": "stderr",
     "output_type": "stream",
     "text": [
      "/home/icb/kemal.inecik/tools/apps/mamba/envs/tardis_env/lib/python3.10/site-packages/scib_metrics/_pcr_comparison.py:49: UserWarning: PCR comparison score is negative, meaning variance contribution increased after integration. Setting to 0.\n",
      "  warnings.warn(\n",
      "\n"
     ]
    },
    {
     "name": "stderr",
     "output_type": "stream",
     "text": [
      "\r",
      "Metrics:  50%|\u001b[34m█████     \u001b[0m| 5/10 [10:13<08:26, 101.32s/it, Batch correction: pcr_comparison]"
     ]
    },
    {
     "name": "stderr",
     "output_type": "stream",
     "text": [
      "\u001b[A"
     ]
    },
    {
     "name": "stderr",
     "output_type": "stream",
     "text": [
      "\r",
      "Embeddings:  75%|\u001b[32m███████▌  \u001b[0m| 6/8 [1:03:19<20:43, 621.98s/it]"
     ]
    },
    {
     "name": "stderr",
     "output_type": "stream",
     "text": [
      "\n"
     ]
    },
    {
     "name": "stderr",
     "output_type": "stream",
     "text": [
      "\r",
      "Metrics:   0%|\u001b[34m          \u001b[0m| 0/10 [00:00<?, ?it/s]"
     ]
    },
    {
     "name": "stderr",
     "output_type": "stream",
     "text": [
      "\u001b[A"
     ]
    },
    {
     "name": "stderr",
     "output_type": "stream",
     "text": [
      "\n"
     ]
    },
    {
     "name": "stderr",
     "output_type": "stream",
     "text": [
      "\r",
      "                                                                                          "
     ]
    },
    {
     "name": "stderr",
     "output_type": "stream",
     "text": [
      "\u001b[A"
     ]
    },
    {
     "name": "stderr",
     "output_type": "stream",
     "text": [
      "\n"
     ]
    },
    {
     "name": "stderr",
     "output_type": "stream",
     "text": [
      "\r",
      "Metrics:   0%|\u001b[34m          \u001b[0m| 0/10 [00:00<?, ?it/s, Batch correction: silhouette_batch]"
     ]
    },
    {
     "name": "stderr",
     "output_type": "stream",
     "text": [
      "\u001b[A"
     ]
    },
    {
     "name": "stderr",
     "output_type": "stream",
     "text": [
      "\n"
     ]
    },
    {
     "name": "stderr",
     "output_type": "stream",
     "text": [
      "\r",
      "Metrics:  10%|\u001b[34m█         \u001b[0m| 1/10 [01:22<12:26, 82.94s/it, Batch correction: silhouette_batch]"
     ]
    },
    {
     "name": "stderr",
     "output_type": "stream",
     "text": [
      "\u001b[A"
     ]
    },
    {
     "name": "stderr",
     "output_type": "stream",
     "text": [
      "\n"
     ]
    },
    {
     "name": "stderr",
     "output_type": "stream",
     "text": [
      "\r",
      "Metrics:  10%|\u001b[34m█         \u001b[0m| 1/10 [01:22<12:26, 82.94s/it, Batch correction: ilisi_knn]       "
     ]
    },
    {
     "name": "stderr",
     "output_type": "stream",
     "text": [
      "\u001b[A"
     ]
    },
    {
     "name": "stderr",
     "output_type": "stream",
     "text": [
      "\n"
     ]
    },
    {
     "name": "stderr",
     "output_type": "stream",
     "text": [
      "\r",
      "Metrics:  20%|\u001b[34m██        \u001b[0m| 2/10 [01:26<04:50, 36.28s/it, Batch correction: ilisi_knn]"
     ]
    },
    {
     "name": "stderr",
     "output_type": "stream",
     "text": [
      "\u001b[A"
     ]
    },
    {
     "name": "stderr",
     "output_type": "stream",
     "text": [
      "\n"
     ]
    },
    {
     "name": "stderr",
     "output_type": "stream",
     "text": [
      "\r",
      "Metrics:  20%|\u001b[34m██        \u001b[0m| 2/10 [01:26<04:50, 36.28s/it, Batch correction: kbet_per_label]"
     ]
    },
    {
     "name": "stderr",
     "output_type": "stream",
     "text": [
      "\u001b[A"
     ]
    },
    {
     "name": "stderr",
     "output_type": "stream",
     "text": [
      "\n"
     ]
    },
    {
     "name": "stderr",
     "output_type": "stream",
     "text": [
      "\r",
      "Metrics:  30%|\u001b[34m███       \u001b[0m| 3/10 [09:48<29:02, 248.92s/it, Batch correction: kbet_per_label]"
     ]
    },
    {
     "name": "stderr",
     "output_type": "stream",
     "text": [
      "\u001b[A"
     ]
    },
    {
     "name": "stderr",
     "output_type": "stream",
     "text": [
      "\n"
     ]
    },
    {
     "name": "stderr",
     "output_type": "stream",
     "text": [
      "\r",
      "Metrics:  30%|\u001b[34m███       \u001b[0m| 3/10 [09:48<29:02, 248.92s/it, Batch correction: graph_connectivity]"
     ]
    },
    {
     "name": "stderr",
     "output_type": "stream",
     "text": [
      "\u001b[A"
     ]
    },
    {
     "name": "stderr",
     "output_type": "stream",
     "text": [
      "\n"
     ]
    },
    {
     "name": "stderr",
     "output_type": "stream",
     "text": [
      "\r",
      "Metrics:  40%|\u001b[34m████      \u001b[0m| 4/10 [09:52<15:14, 152.36s/it, Batch correction: graph_connectivity]"
     ]
    },
    {
     "name": "stderr",
     "output_type": "stream",
     "text": [
      "\u001b[A"
     ]
    },
    {
     "name": "stderr",
     "output_type": "stream",
     "text": [
      "\n"
     ]
    },
    {
     "name": "stderr",
     "output_type": "stream",
     "text": [
      "\r",
      "Metrics:  40%|\u001b[34m████      \u001b[0m| 4/10 [09:52<15:14, 152.36s/it, Batch correction: pcr_comparison]    "
     ]
    },
    {
     "name": "stderr",
     "output_type": "stream",
     "text": [
      "\u001b[A"
     ]
    },
    {
     "name": "stderr",
     "output_type": "stream",
     "text": [
      "/home/icb/kemal.inecik/tools/apps/mamba/envs/tardis_env/lib/python3.10/site-packages/scib_metrics/_pcr_comparison.py:49: UserWarning: PCR comparison score is negative, meaning variance contribution increased after integration. Setting to 0.\n",
      "  warnings.warn(\n",
      "\n"
     ]
    },
    {
     "name": "stderr",
     "output_type": "stream",
     "text": [
      "\r",
      "Metrics:  50%|\u001b[34m█████     \u001b[0m| 5/10 [09:56<08:13, 98.73s/it, Batch correction: pcr_comparison] "
     ]
    },
    {
     "name": "stderr",
     "output_type": "stream",
     "text": [
      "\u001b[A"
     ]
    },
    {
     "name": "stderr",
     "output_type": "stream",
     "text": [
      "\r",
      "Embeddings:  88%|\u001b[32m████████▊ \u001b[0m| 7/8 [1:13:15<10:13, 613.65s/it]"
     ]
    },
    {
     "name": "stderr",
     "output_type": "stream",
     "text": [
      "\n"
     ]
    },
    {
     "name": "stderr",
     "output_type": "stream",
     "text": [
      "\r",
      "Metrics:   0%|\u001b[34m          \u001b[0m| 0/10 [00:00<?, ?it/s]"
     ]
    },
    {
     "name": "stderr",
     "output_type": "stream",
     "text": [
      "\u001b[A"
     ]
    },
    {
     "name": "stderr",
     "output_type": "stream",
     "text": [
      "\n"
     ]
    },
    {
     "name": "stderr",
     "output_type": "stream",
     "text": [
      "\r",
      "                                                                                         "
     ]
    },
    {
     "name": "stderr",
     "output_type": "stream",
     "text": [
      "\u001b[A"
     ]
    },
    {
     "name": "stderr",
     "output_type": "stream",
     "text": [
      "\n"
     ]
    },
    {
     "name": "stderr",
     "output_type": "stream",
     "text": [
      "\r",
      "Metrics:   0%|\u001b[34m          \u001b[0m| 0/10 [00:00<?, ?it/s, Batch correction: silhouette_batch]"
     ]
    },
    {
     "name": "stderr",
     "output_type": "stream",
     "text": [
      "\u001b[A"
     ]
    },
    {
     "name": "stderr",
     "output_type": "stream",
     "text": [
      "\n"
     ]
    },
    {
     "name": "stderr",
     "output_type": "stream",
     "text": [
      "\r",
      "Metrics:  10%|\u001b[34m█         \u001b[0m| 1/10 [01:23<12:27, 83.01s/it, Batch correction: silhouette_batch]"
     ]
    },
    {
     "name": "stderr",
     "output_type": "stream",
     "text": [
      "\u001b[A"
     ]
    },
    {
     "name": "stderr",
     "output_type": "stream",
     "text": [
      "\n"
     ]
    },
    {
     "name": "stderr",
     "output_type": "stream",
     "text": [
      "\r",
      "Metrics:  10%|\u001b[34m█         \u001b[0m| 1/10 [01:23<12:27, 83.01s/it, Batch correction: ilisi_knn]       "
     ]
    },
    {
     "name": "stderr",
     "output_type": "stream",
     "text": [
      "\u001b[A"
     ]
    },
    {
     "name": "stderr",
     "output_type": "stream",
     "text": [
      "\n"
     ]
    },
    {
     "name": "stderr",
     "output_type": "stream",
     "text": [
      "\r",
      "Metrics:  20%|\u001b[34m██        \u001b[0m| 2/10 [01:26<04:50, 36.31s/it, Batch correction: ilisi_knn]"
     ]
    },
    {
     "name": "stderr",
     "output_type": "stream",
     "text": [
      "\u001b[A"
     ]
    },
    {
     "name": "stderr",
     "output_type": "stream",
     "text": [
      "\n"
     ]
    },
    {
     "name": "stderr",
     "output_type": "stream",
     "text": [
      "\r",
      "Metrics:  20%|\u001b[34m██        \u001b[0m| 2/10 [01:26<04:50, 36.31s/it, Batch correction: kbet_per_label]"
     ]
    },
    {
     "name": "stderr",
     "output_type": "stream",
     "text": [
      "\u001b[A"
     ]
    },
    {
     "name": "stderr",
     "output_type": "stream",
     "text": [
      "\n"
     ]
    },
    {
     "name": "stderr",
     "output_type": "stream",
     "text": [
      "\r",
      "Metrics:  30%|\u001b[34m███       \u001b[0m| 3/10 [09:57<29:31, 253.06s/it, Batch correction: kbet_per_label]"
     ]
    },
    {
     "name": "stderr",
     "output_type": "stream",
     "text": [
      "\u001b[A"
     ]
    },
    {
     "name": "stderr",
     "output_type": "stream",
     "text": [
      "\n"
     ]
    },
    {
     "name": "stderr",
     "output_type": "stream",
     "text": [
      "\r",
      "Metrics:  30%|\u001b[34m███       \u001b[0m| 3/10 [09:57<29:31, 253.06s/it, Batch correction: graph_connectivity]"
     ]
    },
    {
     "name": "stderr",
     "output_type": "stream",
     "text": [
      "\u001b[A"
     ]
    },
    {
     "name": "stderr",
     "output_type": "stream",
     "text": [
      "\n"
     ]
    },
    {
     "name": "stderr",
     "output_type": "stream",
     "text": [
      "\r",
      "Metrics:  40%|\u001b[34m████      \u001b[0m| 4/10 [10:01<15:29, 154.88s/it, Batch correction: graph_connectivity]"
     ]
    },
    {
     "name": "stderr",
     "output_type": "stream",
     "text": [
      "\u001b[A"
     ]
    },
    {
     "name": "stderr",
     "output_type": "stream",
     "text": [
      "\n"
     ]
    },
    {
     "name": "stderr",
     "output_type": "stream",
     "text": [
      "\r",
      "Metrics:  40%|\u001b[34m████      \u001b[0m| 4/10 [10:01<15:29, 154.88s/it, Batch correction: pcr_comparison]    "
     ]
    },
    {
     "name": "stderr",
     "output_type": "stream",
     "text": [
      "\u001b[A"
     ]
    },
    {
     "name": "stderr",
     "output_type": "stream",
     "text": [
      "/home/icb/kemal.inecik/tools/apps/mamba/envs/tardis_env/lib/python3.10/site-packages/scib_metrics/_pcr_comparison.py:49: UserWarning: PCR comparison score is negative, meaning variance contribution increased after integration. Setting to 0.\n",
      "  warnings.warn(\n",
      "\n"
     ]
    },
    {
     "name": "stderr",
     "output_type": "stream",
     "text": [
      "\r",
      "Metrics:  50%|\u001b[34m█████     \u001b[0m| 5/10 [10:05<08:21, 100.23s/it, Batch correction: pcr_comparison]"
     ]
    },
    {
     "name": "stderr",
     "output_type": "stream",
     "text": [
      "\u001b[A"
     ]
    },
    {
     "name": "stderr",
     "output_type": "stream",
     "text": [
      "\r",
      "Embeddings: 100%|\u001b[32m██████████\u001b[0m| 8/8 [1:23:20<00:00, 611.00s/it]"
     ]
    },
    {
     "name": "stderr",
     "output_type": "stream",
     "text": [
      "\r",
      "Embeddings: 100%|\u001b[32m██████████\u001b[0m| 8/8 [1:23:20<00:00, 625.11s/it]"
     ]
    },
    {
     "name": "stderr",
     "output_type": "stream",
     "text": [
      "\n",
      "\n"
     ]
    },
    {
     "name": "stderr",
     "output_type": "stream",
     "text": [
      "\r",
      "                                                                                          "
     ]
    },
    {
     "name": "stderr",
     "output_type": "stream",
     "text": [
      "\u001b[A"
     ]
    }
   ],
   "source": [
    "bm.benchmark()"
   ]
  },
  {
   "cell_type": "code",
   "execution_count": 10,
   "id": "77e097d0-c704-4403-a42a-cf42f6c2347f",
   "metadata": {
    "execution": {
     "iopub.execute_input": "2024-05-10T11:49:39.922846Z",
     "iopub.status.busy": "2024-05-10T11:49:39.922561Z",
     "iopub.status.idle": "2024-05-10T11:49:40.077811Z",
     "shell.execute_reply": "2024-05-10T11:49:40.077297Z"
    }
   },
   "outputs": [],
   "source": [
    "df = get_results(bm, min_max_scale=False)"
   ]
  },
  {
   "cell_type": "code",
   "execution_count": 11,
   "id": "a90c24b4-d9ea-4ce7-9088-a237b7fe7b36",
   "metadata": {
    "execution": {
     "iopub.execute_input": "2024-05-10T11:49:40.080272Z",
     "iopub.status.busy": "2024-05-10T11:49:40.079891Z",
     "iopub.status.idle": "2024-05-10T11:49:42.001214Z",
     "shell.execute_reply": "2024-05-10T11:49:42.000828Z"
    }
   },
   "outputs": [
    {
     "data": {
      "text/html": [
       "<div>\n",
       "<style scoped>\n",
       "    .dataframe tbody tr th:only-of-type {\n",
       "        vertical-align: middle;\n",
       "    }\n",
       "\n",
       "    .dataframe tbody tr th {\n",
       "        vertical-align: top;\n",
       "    }\n",
       "\n",
       "    .dataframe thead th {\n",
       "        text-align: right;\n",
       "    }\n",
       "</style>\n",
       "<table border=\"1\" class=\"dataframe\">\n",
       "  <thead>\n",
       "    <tr style=\"text-align: right;\">\n",
       "      <th></th>\n",
       "      <th>silhouette_batch</th>\n",
       "      <th>ilisi_knn</th>\n",
       "      <th>kbet_per_label</th>\n",
       "      <th>graph_connectivity</th>\n",
       "      <th>pcr_comparison</th>\n",
       "      <th>Batch correction</th>\n",
       "    </tr>\n",
       "    <tr>\n",
       "      <th>Embedding</th>\n",
       "      <th></th>\n",
       "      <th></th>\n",
       "      <th></th>\n",
       "      <th></th>\n",
       "      <th></th>\n",
       "      <th></th>\n",
       "    </tr>\n",
       "  </thead>\n",
       "  <tbody>\n",
       "    <tr>\n",
       "      <th>inveriant_1</th>\n",
       "      <td>0.840425</td>\n",
       "      <td>0.045366</td>\n",
       "      <td>0.184155</td>\n",
       "      <td>0.825926</td>\n",
       "      <td>0</td>\n",
       "      <td>0.379175</td>\n",
       "    </tr>\n",
       "    <tr>\n",
       "      <th>inveriant_2</th>\n",
       "      <td>0.839964</td>\n",
       "      <td>0.038026</td>\n",
       "      <td>0.192607</td>\n",
       "      <td>0.812066</td>\n",
       "      <td>0</td>\n",
       "      <td>0.376533</td>\n",
       "    </tr>\n",
       "    <tr>\n",
       "      <th>inveriant_3</th>\n",
       "      <td>0.84182</td>\n",
       "      <td>0.045526</td>\n",
       "      <td>0.200031</td>\n",
       "      <td>0.816598</td>\n",
       "      <td>0</td>\n",
       "      <td>0.380795</td>\n",
       "    </tr>\n",
       "    <tr>\n",
       "      <th>inveriant_4</th>\n",
       "      <td>0.8367</td>\n",
       "      <td>0.03869</td>\n",
       "      <td>0.1922</td>\n",
       "      <td>0.819454</td>\n",
       "      <td>0</td>\n",
       "      <td>0.377409</td>\n",
       "    </tr>\n",
       "    <tr>\n",
       "      <th>inveriant_5</th>\n",
       "      <td>0.838111</td>\n",
       "      <td>0.043632</td>\n",
       "      <td>0.185853</td>\n",
       "      <td>0.813065</td>\n",
       "      <td>0</td>\n",
       "      <td>0.376132</td>\n",
       "    </tr>\n",
       "    <tr>\n",
       "      <th>inveriant_6</th>\n",
       "      <td>0.831165</td>\n",
       "      <td>0.038995</td>\n",
       "      <td>0.191968</td>\n",
       "      <td>0.829795</td>\n",
       "      <td>0</td>\n",
       "      <td>0.378385</td>\n",
       "    </tr>\n",
       "    <tr>\n",
       "      <th>inveriant_7</th>\n",
       "      <td>0.840279</td>\n",
       "      <td>0.040289</td>\n",
       "      <td>0.19434</td>\n",
       "      <td>0.835844</td>\n",
       "      <td>0</td>\n",
       "      <td>0.38215</td>\n",
       "    </tr>\n",
       "    <tr>\n",
       "      <th>inveriant_8</th>\n",
       "      <td>0.822397</td>\n",
       "      <td>0.043648</td>\n",
       "      <td>0.258391</td>\n",
       "      <td>0.857191</td>\n",
       "      <td>0</td>\n",
       "      <td>0.396325</td>\n",
       "    </tr>\n",
       "    <tr>\n",
       "      <th>Metric Type</th>\n",
       "      <td>Batch correction</td>\n",
       "      <td>Batch correction</td>\n",
       "      <td>Batch correction</td>\n",
       "      <td>Batch correction</td>\n",
       "      <td>Batch correction</td>\n",
       "      <td>Aggregate score</td>\n",
       "    </tr>\n",
       "  </tbody>\n",
       "</table>\n",
       "</div>"
      ],
      "text/plain": [
       "             silhouette_batch         ilisi_knn    kbet_per_label  \\\n",
       "Embedding                                                           \n",
       "inveriant_1          0.840425          0.045366          0.184155   \n",
       "inveriant_2          0.839964          0.038026          0.192607   \n",
       "inveriant_3           0.84182          0.045526          0.200031   \n",
       "inveriant_4            0.8367           0.03869            0.1922   \n",
       "inveriant_5          0.838111          0.043632          0.185853   \n",
       "inveriant_6          0.831165          0.038995          0.191968   \n",
       "inveriant_7          0.840279          0.040289           0.19434   \n",
       "inveriant_8          0.822397          0.043648          0.258391   \n",
       "Metric Type  Batch correction  Batch correction  Batch correction   \n",
       "\n",
       "            graph_connectivity    pcr_comparison Batch correction  \n",
       "Embedding                                                          \n",
       "inveriant_1           0.825926                 0         0.379175  \n",
       "inveriant_2           0.812066                 0         0.376533  \n",
       "inveriant_3           0.816598                 0         0.380795  \n",
       "inveriant_4           0.819454                 0         0.377409  \n",
       "inveriant_5           0.813065                 0         0.376132  \n",
       "inveriant_6           0.829795                 0         0.378385  \n",
       "inveriant_7           0.835844                 0          0.38215  \n",
       "inveriant_8           0.857191                 0         0.396325  \n",
       "Metric Type   Batch correction  Batch correction  Aggregate score  "
      ]
     },
     "execution_count": 11,
     "metadata": {},
     "output_type": "execute_result"
    }
   ],
   "source": [
    "df"
   ]
  },
  {
   "cell_type": "code",
   "execution_count": 12,
   "id": "75b36b99-27da-4ff9-b6fe-b0e5149282ec",
   "metadata": {
    "execution": {
     "iopub.execute_input": "2024-05-10T11:49:42.003342Z",
     "iopub.status.busy": "2024-05-10T11:49:42.003122Z",
     "iopub.status.idle": "2024-05-10T11:49:42.041214Z",
     "shell.execute_reply": "2024-05-10T11:49:42.040831Z"
    }
   },
   "outputs": [
    {
     "data": {
      "text/plain": [
       "'/lustre/groups/ml01/workspace/kemal.inecik/tardis_data/_temporary/latent/suo_scib_invae_batch.pickle'"
      ]
     },
     "execution_count": 12,
     "metadata": {},
     "output_type": "execute_result"
    }
   ],
   "source": [
    "pickle_path = os.path.join(tardis.config.io_directories[\"temp\"], \"latent\", \"suo_scib_invae_batch.pickle\")\n",
    "pickle_path"
   ]
  },
  {
   "cell_type": "code",
   "execution_count": 13,
   "id": "ffd31567-c3cf-43ed-9369-8075fe439a6f",
   "metadata": {
    "execution": {
     "iopub.execute_input": "2024-05-10T11:49:42.043287Z",
     "iopub.status.busy": "2024-05-10T11:49:42.042974Z",
     "iopub.status.idle": "2024-05-10T11:49:42.145108Z",
     "shell.execute_reply": "2024-05-10T11:49:42.144621Z"
    }
   },
   "outputs": [],
   "source": [
    "df.to_pickle(pickle_path)"
   ]
  },
  {
   "cell_type": "code",
   "execution_count": null,
   "id": "da99876a-bf67-48c8-90e6-6fc3968890d5",
   "metadata": {},
   "outputs": [],
   "source": []
  },
  {
   "cell_type": "code",
   "execution_count": null,
   "id": "9ba24a74-e6c2-4f07-a8cb-da31a9e5a787",
   "metadata": {},
   "outputs": [],
   "source": []
  },
  {
   "cell_type": "code",
   "execution_count": null,
   "id": "f63776b9-a0d0-492a-850c-ca9084ccb794",
   "metadata": {},
   "outputs": [],
   "source": []
  },
  {
   "cell_type": "code",
   "execution_count": null,
   "id": "ee0da964-d526-40ee-8524-03f71c147f98",
   "metadata": {},
   "outputs": [],
   "source": []
  },
  {
   "cell_type": "code",
   "execution_count": null,
   "id": "f541984f-9323-4557-a3ad-1f9e95119231",
   "metadata": {},
   "outputs": [],
   "source": []
  }
 ],
 "metadata": {
  "kernelspec": {
   "display_name": "Python 3 (ipykernel)",
   "language": "python",
   "name": "python3"
  },
  "language_info": {
   "codemirror_mode": {
    "name": "ipython",
    "version": 3
   },
   "file_extension": ".py",
   "mimetype": "text/x-python",
   "name": "python",
   "nbconvert_exporter": "python",
   "pygments_lexer": "ipython3",
   "version": "3.10.14"
  }
 },
 "nbformat": 4,
 "nbformat_minor": 5
}
