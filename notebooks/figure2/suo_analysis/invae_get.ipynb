{
 "cells": [
  {
   "cell_type": "markdown",
   "id": "c7d2a55f-4c07-4489-8a2b-f533d15bb073",
   "metadata": {},
   "source": [
    "invae"
   ]
  },
  {
   "cell_type": "code",
   "execution_count": 1,
   "id": "248f5204-356b-4baa-bd64-e1901e86890f",
   "metadata": {},
   "outputs": [],
   "source": [
    "import warnings\n",
    "import os\n",
    "import sys\n",
    "import gc\n",
    "import warnings\n",
    "\n",
    "import anndata as ad\n",
    "import scanpy as sc\n",
    "import copy\n",
    "import torch\n",
    "from pathlib import Path\n",
    "import networkx as nx\n",
    "from sklearn.neighbors import kneighbors_graph\n",
    "import numpy as np\n",
    "import scanpy as sc\n",
    "import pandas as pd\n",
    "import numpy as np\n",
    "import joblib\n",
    "import scipy.stats"
   ]
  },
  {
   "cell_type": "code",
   "execution_count": 2,
   "id": "d7e7d7eb-3567-42c9-bf99-ab3f748b0192",
   "metadata": {},
   "outputs": [
    {
     "name": "stdout",
     "output_type": "stream",
     "text": [
      "/home/icb/kemal.inecik/lustre_workspace/tardis_data/processed/inveriant_1.joblib\n",
      "/home/icb/kemal.inecik/lustre_workspace/tardis_data/processed/inveriant_3.joblib\n",
      "/home/icb/kemal.inecik/lustre_workspace/tardis_data/processed/inveriant_5.joblib\n"
     ]
    }
   ],
   "source": [
    "!ls /home/icb/kemal.inecik/lustre_workspace/tardis_data/processed/inveriant_*"
   ]
  },
  {
   "cell_type": "code",
   "execution_count": 7,
   "id": "082885a7-a8ab-4476-837f-9914378ff2f5",
   "metadata": {},
   "outputs": [],
   "source": [
    "adata_file_path = os.path.join(\"/home/icb/kemal.inecik/lustre_workspace/tardis_data/processed\", \"dataset_complete_Suo.h5ad\")\n",
    "assert os.path.isfile(adata_file_path), f\"File not already exist: `{adata_file_path}`\"\n",
    "adata = ad.read_h5ad(adata_file_path)"
   ]
  },
  {
   "cell_type": "code",
   "execution_count": 12,
   "id": "b0f85766-2130-475c-a621-05bf4103ff2b",
   "metadata": {},
   "outputs": [
    {
     "data": {
      "text/plain": [
       "['inveriant_1', 'inveriant_3', 'inveriant_5']"
      ]
     },
     "execution_count": 12,
     "metadata": {},
     "output_type": "execute_result"
    }
   ],
   "source": [
    "models = [os.path.splitext(i)[0] for i in os.listdir(\"/home/icb/kemal.inecik/lustre_workspace/tardis_data/processed\") if i.startswith(\"inveriant_\")]\n",
    "models"
   ]
  },
  {
   "cell_type": "code",
   "execution_count": 13,
   "id": "6d0bdbd2-8522-41b4-8ca0-9e23da96ee72",
   "metadata": {},
   "outputs": [],
   "source": [
    "for model in models:\n",
    "    invariant = joblib.load(f\"/home/icb/kemal.inecik/lustre_workspace/tardis_data/processed/{model}.joblib\")\n",
    "    adata.obsm[model] = invariant"
   ]
  },
  {
   "cell_type": "code",
   "execution_count": 15,
   "id": "ac39babf-e0e3-495d-b5b8-9cae2bc83674",
   "metadata": {},
   "outputs": [],
   "source": [
    "adata.write(\"/home/icb/kemal.inecik/lustre_workspace/tardis_data/processed/dataset_complete_Suo_invae.h5ad\")"
   ]
  },
  {
   "cell_type": "code",
   "execution_count": null,
   "id": "f1649ab9-aeef-45c1-9343-3a8969d6383d",
   "metadata": {},
   "outputs": [],
   "source": []
  }
 ],
 "metadata": {
  "kernelspec": {
   "display_name": "Python 3 (ipykernel)",
   "language": "python",
   "name": "python3"
  },
  "language_info": {
   "codemirror_mode": {
    "name": "ipython",
    "version": 3
   },
   "file_extension": ".py",
   "mimetype": "text/x-python",
   "name": "python",
   "nbconvert_exporter": "python",
   "pygments_lexer": "ipython3",
   "version": "3.10.14"
  }
 },
 "nbformat": 4,
 "nbformat_minor": 5
}
