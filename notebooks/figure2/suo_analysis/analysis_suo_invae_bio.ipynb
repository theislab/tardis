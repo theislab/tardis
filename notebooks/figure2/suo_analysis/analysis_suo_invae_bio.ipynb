{
 "cells": [
  {
   "cell_type": "markdown",
   "id": "998908c6-62fb-4c64-a3bb-313628f971f2",
   "metadata": {},
   "source": [
    "# Suo"
   ]
  },
  {
   "cell_type": "code",
   "execution_count": 1,
   "id": "8fa9d275-1c84-42d4-8a1a-da0a2ffa2e0d",
   "metadata": {
    "execution": {
     "iopub.execute_input": "2024-05-10T09:57:08.021153Z",
     "iopub.status.busy": "2024-05-10T09:57:08.020226Z",
     "iopub.status.idle": "2024-05-10T09:57:08.031825Z",
     "shell.execute_reply": "2024-05-10T09:57:08.030993Z"
    }
   },
   "outputs": [],
   "source": [
    "import warnings\n",
    "import os\n",
    "import sys\n",
    "import gc\n",
    "import warnings"
   ]
  },
  {
   "cell_type": "code",
   "execution_count": 2,
   "id": "861f7205-6fce-46d8-9c6b-f63551ab34e1",
   "metadata": {
    "execution": {
     "iopub.execute_input": "2024-05-10T09:57:08.035841Z",
     "iopub.status.busy": "2024-05-10T09:57:08.035428Z",
     "iopub.status.idle": "2024-05-10T10:00:04.384787Z",
     "shell.execute_reply": "2024-05-10T10:00:04.383316Z"
    }
   },
   "outputs": [],
   "source": [
    "import anndata as ad\n",
    "import scanpy as sc\n",
    "import copy\n",
    "import torch\n",
    "from pathlib import Path\n",
    "import networkx as nx\n",
    "from sklearn.neighbors import kneighbors_graph\n",
    "import numpy as np\n",
    "import scanpy as sc\n",
    "import pandas as pd\n",
    "import numpy as np\n",
    "import scipy.stats\n",
    "from scib_metrics.benchmark import Benchmarker, BioConservation, BatchCorrection\n",
    "import scvi\n",
    "\n",
    "sys.path.append(\"/home/icb/kemal.inecik/work/codes/tardis\")\n",
    "import tardis\n",
    "tardis.config = tardis.config_server\n",
    "\n",
    "sc.settings.verbosity = 3"
   ]
  },
  {
   "cell_type": "code",
   "execution_count": 3,
   "id": "6e954d6b-dad7-4e08-b086-740080130d95",
   "metadata": {
    "execution": {
     "iopub.execute_input": "2024-05-10T10:00:04.396935Z",
     "iopub.status.busy": "2024-05-10T10:00:04.394402Z",
     "iopub.status.idle": "2024-05-10T10:00:04.407609Z",
     "shell.execute_reply": "2024-05-10T10:00:04.406831Z"
    }
   },
   "outputs": [
    {
     "data": {
      "text/plain": [
       "False"
      ]
     },
     "execution_count": 3,
     "metadata": {},
     "output_type": "execute_result"
    }
   ],
   "source": [
    "torch.cuda.is_available()"
   ]
  },
  {
   "cell_type": "code",
   "execution_count": 4,
   "id": "d9aef55c-dc86-4c41-82ae-c92dd03e7820",
   "metadata": {
    "execution": {
     "iopub.execute_input": "2024-05-10T10:00:04.413723Z",
     "iopub.status.busy": "2024-05-10T10:00:04.413282Z",
     "iopub.status.idle": "2024-05-10T10:00:04.660634Z",
     "shell.execute_reply": "2024-05-10T10:00:04.659277Z"
    }
   },
   "outputs": [],
   "source": [
    "%matplotlib inline\n",
    "%config InlineBackend.figure_format='retina'\n",
    "import matplotlib.pyplot as plt\n",
    "import seaborn as sns\n",
    "\n",
    "import pickle\n",
    "_rcparams_path = \"/home/icb/kemal.inecik/work/codes/tardis/training/local/figures/rcparams.pickle\"\n",
    "with open(_rcparams_path, 'rb') as file:\n",
    "    _rcparams = pickle.load(file)\n",
    "plt.rcParams.update(_rcparams)"
   ]
  },
  {
   "cell_type": "code",
   "execution_count": 5,
   "id": "57f64c1f-eb04-4cc6-8b2e-c1094f5196f7",
   "metadata": {
    "execution": {
     "iopub.execute_input": "2024-05-10T10:00:04.667116Z",
     "iopub.status.busy": "2024-05-10T10:00:04.666456Z",
     "iopub.status.idle": "2024-05-10T10:00:12.079888Z",
     "shell.execute_reply": "2024-05-10T10:00:12.079157Z"
    }
   },
   "outputs": [
    {
     "data": {
      "text/plain": [
       "AnnData object with n_obs × n_vars = 841922 × 8192\n",
       "    obs: 'sample_ID', 'organ', 'age', 'cell_type', 'sex', 'sex_inferred', 'concatenated_integration_covariates', 'integration_donor', 'integration_biological_unit', 'integration_sample_status', 'integration_library_platform_coarse', 'n_genes'\n",
       "    uns: 'rank_genes_groups'\n",
       "    obsm: 'Unintegrated', 'X_pca', 'harmony', 'inveriant_1', 'inveriant_2', 'inveriant_3', 'inveriant_4', 'inveriant_5', 'inveriant_6', 'inveriant_7', 'inveriant_8'"
      ]
     },
     "execution_count": 5,
     "metadata": {},
     "output_type": "execute_result"
    }
   ],
   "source": [
    "adata = ad.read_h5ad(\"/home/icb/kemal.inecik/lustre_workspace/tardis_data/processed/dataset_complete_Suo_invae.h5ad\")\n",
    "obsms = [i for i in adata.obsm if i not in ['Unintegrated', 'X_pca', 'harmony']]\n",
    "adata"
   ]
  },
  {
   "cell_type": "code",
   "execution_count": 6,
   "id": "84d12175-5454-4f0a-a44b-0fa0fb287728",
   "metadata": {
    "execution": {
     "iopub.execute_input": "2024-05-10T10:00:12.085048Z",
     "iopub.status.busy": "2024-05-10T10:00:12.084829Z",
     "iopub.status.idle": "2024-05-10T10:00:12.088922Z",
     "shell.execute_reply": "2024-05-10T10:00:12.088209Z"
    }
   },
   "outputs": [],
   "source": [
    "biocons = BioConservation()\n",
    "batchcor = BatchCorrection(\n",
    "    silhouette_batch=False,\n",
    "    ilisi_knn=False,\n",
    "    kbet_per_label=False,\n",
    "    graph_connectivity=False,\n",
    "    pcr_comparison=False\n",
    ")"
   ]
  },
  {
   "cell_type": "code",
   "execution_count": 7,
   "id": "1e6d784c-8d15-49ab-82f5-cd379aa60a29",
   "metadata": {
    "execution": {
     "iopub.execute_input": "2024-05-10T10:00:12.094026Z",
     "iopub.status.busy": "2024-05-10T10:00:12.093714Z",
     "iopub.status.idle": "2024-05-10T10:00:12.099417Z",
     "shell.execute_reply": "2024-05-10T10:00:12.098706Z"
    }
   },
   "outputs": [],
   "source": [
    "def get_results(self, min_max_scale: bool = True) -> pd.DataFrame:\n",
    "    _LABELS = \"labels\"\n",
    "    _BATCH = \"batch\"\n",
    "    _X_PRE = \"X_pre\"\n",
    "    _METRIC_TYPE = \"Metric Type\"\n",
    "    _AGGREGATE_SCORE = \"Aggregate score\"\n",
    "    \n",
    "    df = self._results.transpose()\n",
    "    df.index.name = \"Embedding\"\n",
    "    df = df.loc[df.index != _METRIC_TYPE]\n",
    "    if min_max_scale:\n",
    "        # Use sklearn to min max scale\n",
    "        df = pd.DataFrame(\n",
    "            MinMaxScaler().fit_transform(df),\n",
    "            columns=df.columns,\n",
    "            index=df.index,\n",
    "        )\n",
    "    df = df.transpose()\n",
    "    df[_METRIC_TYPE] = self._results[_METRIC_TYPE].values\n",
    "\n",
    "    # Compute scores\n",
    "    per_class_score = df.groupby(_METRIC_TYPE).mean().transpose()\n",
    "    # This is the default scIB weighting from the manuscript\n",
    "    # per_class_score[\"Total\"] = 0.4 * per_class_score[\"Batch correction\"] + 0.6 * per_class_score[\"Bio conservation\"]\n",
    "    df = pd.concat([df.transpose(), per_class_score], axis=1)\n",
    "    df.loc[_METRIC_TYPE, per_class_score.columns] = _AGGREGATE_SCORE\n",
    "    return df"
   ]
  },
  {
   "cell_type": "code",
   "execution_count": 8,
   "id": "6bc96261-d86e-45a5-8f97-37418e0a5fe6",
   "metadata": {
    "execution": {
     "iopub.execute_input": "2024-05-10T10:00:12.103940Z",
     "iopub.status.busy": "2024-05-10T10:00:12.103735Z",
     "iopub.status.idle": "2024-05-10T10:00:12.112603Z",
     "shell.execute_reply": "2024-05-10T10:00:12.111896Z"
    }
   },
   "outputs": [
    {
     "name": "stdout",
     "output_type": "stream",
     "text": [
      "AnnData object with n_obs × n_vars = 841922 × 8192\n",
      "    obs: 'sample_ID', 'organ', 'age', 'cell_type', 'sex', 'sex_inferred', 'concatenated_integration_covariates', 'integration_donor', 'integration_biological_unit', 'integration_sample_status', 'integration_library_platform_coarse', 'n_genes'\n",
      "    uns: 'rank_genes_groups'\n",
      "    obsm: 'Unintegrated', 'X_pca', 'harmony', 'inveriant_1', 'inveriant_2', 'inveriant_3', 'inveriant_4', 'inveriant_5', 'inveriant_6', 'inveriant_7', 'inveriant_8'\n"
     ]
    },
    {
     "name": "stdout",
     "output_type": "stream",
     "text": [
      "starting scvi scib\n"
     ]
    }
   ],
   "source": [
    "print(adata, flush=True)\n",
    "print(\"starting scvi scib\", flush=True)\n",
    "bm = Benchmarker(\n",
    "    adata=adata,\n",
    "    batch_key=\"concatenated_integration_covariates\",\n",
    "    label_key=\"cell_type\",\n",
    "    embedding_obsm_keys=obsms,\n",
    "    pre_integrated_embedding_obsm_key=\"Unintegrated\",  # equals to X_pca\n",
    "    bio_conservation_metrics=biocons,\n",
    "    batch_correction_metrics=batchcor,\n",
    "    n_jobs=-1,\n",
    ")"
   ]
  },
  {
   "cell_type": "code",
   "execution_count": 9,
   "id": "5591d511-bec8-4d82-9b20-9df8c00943be",
   "metadata": {
    "execution": {
     "iopub.execute_input": "2024-05-10T10:00:12.115420Z",
     "iopub.status.busy": "2024-05-10T10:00:12.115229Z",
     "iopub.status.idle": "2024-05-10T17:34:24.533734Z",
     "shell.execute_reply": "2024-05-10T17:34:24.497636Z"
    }
   },
   "outputs": [
    {
     "name": "stderr",
     "output_type": "stream",
     "text": [
      "\r",
      "Computing neighbors:   0%|          | 0/8 [00:00<?, ?it/s]"
     ]
    },
    {
     "name": "stderr",
     "output_type": "stream",
     "text": [
      "\r",
      "Computing neighbors:  12%|█▎        | 1/8 [05:01<35:13, 301.91s/it]"
     ]
    },
    {
     "name": "stderr",
     "output_type": "stream",
     "text": [
      "\r",
      "Computing neighbors:  25%|██▌       | 2/8 [10:13<30:47, 307.88s/it]"
     ]
    },
    {
     "name": "stderr",
     "output_type": "stream",
     "text": [
      "\r",
      "Computing neighbors:  38%|███▊      | 3/8 [15:08<25:08, 301.67s/it]"
     ]
    },
    {
     "name": "stderr",
     "output_type": "stream",
     "text": [
      "\r",
      "Computing neighbors:  50%|█████     | 4/8 [20:16<20:17, 304.31s/it]"
     ]
    },
    {
     "name": "stderr",
     "output_type": "stream",
     "text": [
      "\r",
      "Computing neighbors:  62%|██████▎   | 5/8 [25:21<15:13, 304.35s/it]"
     ]
    },
    {
     "name": "stderr",
     "output_type": "stream",
     "text": [
      "\r",
      "Computing neighbors:  75%|███████▌  | 6/8 [30:24<10:08, 304.01s/it]"
     ]
    },
    {
     "name": "stderr",
     "output_type": "stream",
     "text": [
      "\r",
      "Computing neighbors:  88%|████████▊ | 7/8 [35:18<05:00, 300.76s/it]"
     ]
    },
    {
     "name": "stderr",
     "output_type": "stream",
     "text": [
      "\r",
      "Computing neighbors: 100%|██████████| 8/8 [40:13<00:00, 298.98s/it]"
     ]
    },
    {
     "name": "stderr",
     "output_type": "stream",
     "text": [
      "\r",
      "Computing neighbors: 100%|██████████| 8/8 [40:13<00:00, 301.70s/it]"
     ]
    },
    {
     "name": "stderr",
     "output_type": "stream",
     "text": [
      "\n"
     ]
    },
    {
     "name": "stderr",
     "output_type": "stream",
     "text": [
      "\r",
      "Embeddings:   0%|\u001b[32m          \u001b[0m| 0/8 [00:00<?, ?it/s]"
     ]
    },
    {
     "name": "stderr",
     "output_type": "stream",
     "text": [
      "\n"
     ]
    },
    {
     "name": "stderr",
     "output_type": "stream",
     "text": [
      "\r",
      "Metrics:   0%|\u001b[34m          \u001b[0m| 0/10 [00:00<?, ?it/s]"
     ]
    },
    {
     "name": "stderr",
     "output_type": "stream",
     "text": [
      "\u001b[A"
     ]
    },
    {
     "name": "stderr",
     "output_type": "stream",
     "text": [
      "\n"
     ]
    },
    {
     "name": "stderr",
     "output_type": "stream",
     "text": [
      "\r",
      "Metrics:   0%|\u001b[34m          \u001b[0m| 0/10 [00:00<?, ?it/s, Bio conservation: isolated_labels]"
     ]
    },
    {
     "name": "stderr",
     "output_type": "stream",
     "text": [
      "\u001b[A"
     ]
    },
    {
     "name": "stderr",
     "output_type": "stream",
     "text": [
      "\n"
     ]
    },
    {
     "name": "stderr",
     "output_type": "stream",
     "text": [
      "\r",
      "Metrics:  10%|\u001b[34m█         \u001b[0m| 1/10 [23:34<3:32:13, 1414.86s/it, Bio conservation: isolated_labels]"
     ]
    },
    {
     "name": "stderr",
     "output_type": "stream",
     "text": [
      "\u001b[A"
     ]
    },
    {
     "name": "stderr",
     "output_type": "stream",
     "text": [
      "\n"
     ]
    },
    {
     "name": "stderr",
     "output_type": "stream",
     "text": [
      "\r",
      "Metrics:  10%|\u001b[34m█         \u001b[0m| 1/10 [23:34<3:32:13, 1414.86s/it, Bio conservation: nmi_ari_cluster_labels_kmeans]"
     ]
    },
    {
     "name": "stderr",
     "output_type": "stream",
     "text": [
      "\u001b[A"
     ]
    },
    {
     "name": "stderr",
     "output_type": "stream",
     "text": [
      "\n"
     ]
    },
    {
     "name": "stderr",
     "output_type": "stream",
     "text": [
      "\r",
      "Metrics:  20%|\u001b[34m██        \u001b[0m| 2/10 [30:10<1:48:41, 815.16s/it, Bio conservation: nmi_ari_cluster_labels_kmeans] "
     ]
    },
    {
     "name": "stderr",
     "output_type": "stream",
     "text": [
      "\u001b[A"
     ]
    },
    {
     "name": "stderr",
     "output_type": "stream",
     "text": [
      "\n"
     ]
    },
    {
     "name": "stderr",
     "output_type": "stream",
     "text": [
      "\r",
      "Metrics:  20%|\u001b[34m██        \u001b[0m| 2/10 [30:10<1:48:41, 815.16s/it, Bio conservation: silhouette_label]             "
     ]
    },
    {
     "name": "stderr",
     "output_type": "stream",
     "text": [
      "\u001b[A"
     ]
    },
    {
     "name": "stderr",
     "output_type": "stream",
     "text": [
      "\n"
     ]
    },
    {
     "name": "stderr",
     "output_type": "stream",
     "text": [
      "\r",
      "Metrics:  30%|\u001b[34m███       \u001b[0m| 3/10 [52:52<2:04:13, 1064.82s/it, Bio conservation: silhouette_label]"
     ]
    },
    {
     "name": "stderr",
     "output_type": "stream",
     "text": [
      "\u001b[A"
     ]
    },
    {
     "name": "stderr",
     "output_type": "stream",
     "text": [
      "\n"
     ]
    },
    {
     "name": "stderr",
     "output_type": "stream",
     "text": [
      "\r",
      "Metrics:  30%|\u001b[34m███       \u001b[0m| 3/10 [52:52<2:04:13, 1064.82s/it, Bio conservation: clisi_knn]       "
     ]
    },
    {
     "name": "stderr",
     "output_type": "stream",
     "text": [
      "\u001b[A"
     ]
    },
    {
     "name": "stderr",
     "output_type": "stream",
     "text": [
      "\n"
     ]
    },
    {
     "name": "stderr",
     "output_type": "stream",
     "text": [
      "\r",
      "Metrics:  40%|\u001b[34m████      \u001b[0m| 4/10 [52:57<1:04:38, 646.50s/it, Bio conservation: clisi_knn] "
     ]
    },
    {
     "name": "stderr",
     "output_type": "stream",
     "text": [
      "\u001b[A"
     ]
    },
    {
     "name": "stderr",
     "output_type": "stream",
     "text": [
      "\r",
      "Embeddings:  12%|\u001b[32m█▎        \u001b[0m| 1/8 [52:57<6:10:41, 3177.36s/it]"
     ]
    },
    {
     "name": "stderr",
     "output_type": "stream",
     "text": [
      "\n"
     ]
    },
    {
     "name": "stderr",
     "output_type": "stream",
     "text": [
      "\r",
      "Metrics:   0%|\u001b[34m          \u001b[0m| 0/10 [00:00<?, ?it/s]"
     ]
    },
    {
     "name": "stderr",
     "output_type": "stream",
     "text": [
      "\u001b[A"
     ]
    },
    {
     "name": "stderr",
     "output_type": "stream",
     "text": [
      "\n"
     ]
    },
    {
     "name": "stderr",
     "output_type": "stream",
     "text": [
      "\r",
      "                                                                                       "
     ]
    },
    {
     "name": "stderr",
     "output_type": "stream",
     "text": [
      "\u001b[A"
     ]
    },
    {
     "name": "stderr",
     "output_type": "stream",
     "text": [
      "\n"
     ]
    },
    {
     "name": "stderr",
     "output_type": "stream",
     "text": [
      "\r",
      "Metrics:   0%|\u001b[34m          \u001b[0m| 0/10 [00:00<?, ?it/s, Bio conservation: isolated_labels]"
     ]
    },
    {
     "name": "stderr",
     "output_type": "stream",
     "text": [
      "\u001b[A"
     ]
    },
    {
     "name": "stderr",
     "output_type": "stream",
     "text": [
      "\n"
     ]
    },
    {
     "name": "stderr",
     "output_type": "stream",
     "text": [
      "\r",
      "Metrics:  10%|\u001b[34m█         \u001b[0m| 1/10 [21:57<3:17:38, 1317.65s/it, Bio conservation: isolated_labels]"
     ]
    },
    {
     "name": "stderr",
     "output_type": "stream",
     "text": [
      "\u001b[A"
     ]
    },
    {
     "name": "stderr",
     "output_type": "stream",
     "text": [
      "\n"
     ]
    },
    {
     "name": "stderr",
     "output_type": "stream",
     "text": [
      "\r",
      "Metrics:  10%|\u001b[34m█         \u001b[0m| 1/10 [21:57<3:17:38, 1317.65s/it, Bio conservation: nmi_ari_cluster_labels_kmeans]"
     ]
    },
    {
     "name": "stderr",
     "output_type": "stream",
     "text": [
      "\u001b[A"
     ]
    },
    {
     "name": "stderr",
     "output_type": "stream",
     "text": [
      "\n"
     ]
    },
    {
     "name": "stderr",
     "output_type": "stream",
     "text": [
      "\r",
      "Metrics:  20%|\u001b[34m██        \u001b[0m| 2/10 [26:28<1:33:34, 701.81s/it, Bio conservation: nmi_ari_cluster_labels_kmeans] "
     ]
    },
    {
     "name": "stderr",
     "output_type": "stream",
     "text": [
      "\u001b[A"
     ]
    },
    {
     "name": "stderr",
     "output_type": "stream",
     "text": [
      "\n"
     ]
    },
    {
     "name": "stderr",
     "output_type": "stream",
     "text": [
      "\r",
      "Metrics:  20%|\u001b[34m██        \u001b[0m| 2/10 [26:28<1:33:34, 701.81s/it, Bio conservation: silhouette_label]             "
     ]
    },
    {
     "name": "stderr",
     "output_type": "stream",
     "text": [
      "\u001b[A"
     ]
    },
    {
     "name": "stderr",
     "output_type": "stream",
     "text": [
      "\n"
     ]
    },
    {
     "name": "stderr",
     "output_type": "stream",
     "text": [
      "\r",
      "Metrics:  30%|\u001b[34m███       \u001b[0m| 3/10 [48:13<1:54:00, 977.17s/it, Bio conservation: silhouette_label]"
     ]
    },
    {
     "name": "stderr",
     "output_type": "stream",
     "text": [
      "\u001b[A"
     ]
    },
    {
     "name": "stderr",
     "output_type": "stream",
     "text": [
      "\n"
     ]
    },
    {
     "name": "stderr",
     "output_type": "stream",
     "text": [
      "\r",
      "Metrics:  30%|\u001b[34m███       \u001b[0m| 3/10 [48:13<1:54:00, 977.17s/it, Bio conservation: clisi_knn]       "
     ]
    },
    {
     "name": "stderr",
     "output_type": "stream",
     "text": [
      "\u001b[A"
     ]
    },
    {
     "name": "stderr",
     "output_type": "stream",
     "text": [
      "\n"
     ]
    },
    {
     "name": "stderr",
     "output_type": "stream",
     "text": [
      "\r",
      "Metrics:  40%|\u001b[34m████      \u001b[0m| 4/10 [48:17<59:17, 593.00s/it, Bio conservation: clisi_knn]  "
     ]
    },
    {
     "name": "stderr",
     "output_type": "stream",
     "text": [
      "\u001b[A"
     ]
    },
    {
     "name": "stderr",
     "output_type": "stream",
     "text": [
      "\r",
      "Embeddings:  25%|\u001b[32m██▌       \u001b[0m| 2/8 [1:41:14<5:01:15, 3012.62s/it]"
     ]
    },
    {
     "name": "stderr",
     "output_type": "stream",
     "text": [
      "\n"
     ]
    },
    {
     "name": "stderr",
     "output_type": "stream",
     "text": [
      "\r",
      "Metrics:   0%|\u001b[34m          \u001b[0m| 0/10 [00:00<?, ?it/s]"
     ]
    },
    {
     "name": "stderr",
     "output_type": "stream",
     "text": [
      "\u001b[A"
     ]
    },
    {
     "name": "stderr",
     "output_type": "stream",
     "text": [
      "\n"
     ]
    },
    {
     "name": "stderr",
     "output_type": "stream",
     "text": [
      "\r",
      "                                                                                     "
     ]
    },
    {
     "name": "stderr",
     "output_type": "stream",
     "text": [
      "\u001b[A"
     ]
    },
    {
     "name": "stderr",
     "output_type": "stream",
     "text": [
      "\n"
     ]
    },
    {
     "name": "stderr",
     "output_type": "stream",
     "text": [
      "\r",
      "Metrics:   0%|\u001b[34m          \u001b[0m| 0/10 [00:00<?, ?it/s, Bio conservation: isolated_labels]"
     ]
    },
    {
     "name": "stderr",
     "output_type": "stream",
     "text": [
      "\u001b[A"
     ]
    },
    {
     "name": "stderr",
     "output_type": "stream",
     "text": [
      "\n"
     ]
    },
    {
     "name": "stderr",
     "output_type": "stream",
     "text": [
      "\r",
      "Metrics:  10%|\u001b[34m█         \u001b[0m| 1/10 [22:58<3:26:48, 1378.68s/it, Bio conservation: isolated_labels]"
     ]
    },
    {
     "name": "stderr",
     "output_type": "stream",
     "text": [
      "\u001b[A"
     ]
    },
    {
     "name": "stderr",
     "output_type": "stream",
     "text": [
      "\n"
     ]
    },
    {
     "name": "stderr",
     "output_type": "stream",
     "text": [
      "\r",
      "Metrics:  10%|\u001b[34m█         \u001b[0m| 1/10 [22:58<3:26:48, 1378.68s/it, Bio conservation: nmi_ari_cluster_labels_kmeans]"
     ]
    },
    {
     "name": "stderr",
     "output_type": "stream",
     "text": [
      "\u001b[A"
     ]
    },
    {
     "name": "stderr",
     "output_type": "stream",
     "text": [
      "\n"
     ]
    },
    {
     "name": "stderr",
     "output_type": "stream",
     "text": [
      "\r",
      "Metrics:  20%|\u001b[34m██        \u001b[0m| 2/10 [29:41<1:47:14, 804.36s/it, Bio conservation: nmi_ari_cluster_labels_kmeans] "
     ]
    },
    {
     "name": "stderr",
     "output_type": "stream",
     "text": [
      "\u001b[A"
     ]
    },
    {
     "name": "stderr",
     "output_type": "stream",
     "text": [
      "\n"
     ]
    },
    {
     "name": "stderr",
     "output_type": "stream",
     "text": [
      "\r",
      "Metrics:  20%|\u001b[34m██        \u001b[0m| 2/10 [29:41<1:47:14, 804.36s/it, Bio conservation: silhouette_label]             "
     ]
    },
    {
     "name": "stderr",
     "output_type": "stream",
     "text": [
      "\u001b[A"
     ]
    },
    {
     "name": "stderr",
     "output_type": "stream",
     "text": [
      "\n"
     ]
    },
    {
     "name": "stderr",
     "output_type": "stream",
     "text": [
      "\r",
      "Metrics:  30%|\u001b[34m███       \u001b[0m| 3/10 [52:13<2:03:01, 1054.50s/it, Bio conservation: silhouette_label]"
     ]
    },
    {
     "name": "stderr",
     "output_type": "stream",
     "text": [
      "\u001b[A"
     ]
    },
    {
     "name": "stderr",
     "output_type": "stream",
     "text": [
      "\n"
     ]
    },
    {
     "name": "stderr",
     "output_type": "stream",
     "text": [
      "\r",
      "Metrics:  30%|\u001b[34m███       \u001b[0m| 3/10 [52:13<2:03:01, 1054.50s/it, Bio conservation: clisi_knn]       "
     ]
    },
    {
     "name": "stderr",
     "output_type": "stream",
     "text": [
      "\u001b[A"
     ]
    },
    {
     "name": "stderr",
     "output_type": "stream",
     "text": [
      "\n"
     ]
    },
    {
     "name": "stderr",
     "output_type": "stream",
     "text": [
      "\r",
      "Metrics:  40%|\u001b[34m████      \u001b[0m| 4/10 [52:16<1:03:57, 639.54s/it, Bio conservation: clisi_knn] "
     ]
    },
    {
     "name": "stderr",
     "output_type": "stream",
     "text": [
      "\u001b[A"
     ]
    },
    {
     "name": "stderr",
     "output_type": "stream",
     "text": [
      "\r",
      "Embeddings:  38%|\u001b[32m███▊      \u001b[0m| 3/8 [2:33:31<4:15:46, 3069.23s/it]"
     ]
    },
    {
     "name": "stderr",
     "output_type": "stream",
     "text": [
      "\n"
     ]
    },
    {
     "name": "stderr",
     "output_type": "stream",
     "text": [
      "\r",
      "Metrics:   0%|\u001b[34m          \u001b[0m| 0/10 [00:00<?, ?it/s]"
     ]
    },
    {
     "name": "stderr",
     "output_type": "stream",
     "text": [
      "\u001b[A"
     ]
    },
    {
     "name": "stderr",
     "output_type": "stream",
     "text": [
      "\n"
     ]
    },
    {
     "name": "stderr",
     "output_type": "stream",
     "text": [
      "\r",
      "                                                                                       "
     ]
    },
    {
     "name": "stderr",
     "output_type": "stream",
     "text": [
      "\u001b[A"
     ]
    },
    {
     "name": "stderr",
     "output_type": "stream",
     "text": [
      "\n"
     ]
    },
    {
     "name": "stderr",
     "output_type": "stream",
     "text": [
      "\r",
      "Metrics:   0%|\u001b[34m          \u001b[0m| 0/10 [00:00<?, ?it/s, Bio conservation: isolated_labels]"
     ]
    },
    {
     "name": "stderr",
     "output_type": "stream",
     "text": [
      "\u001b[A"
     ]
    },
    {
     "name": "stderr",
     "output_type": "stream",
     "text": [
      "\n"
     ]
    },
    {
     "name": "stderr",
     "output_type": "stream",
     "text": [
      "\r",
      "Metrics:  10%|\u001b[34m█         \u001b[0m| 1/10 [22:11<3:19:45, 1331.72s/it, Bio conservation: isolated_labels]"
     ]
    },
    {
     "name": "stderr",
     "output_type": "stream",
     "text": [
      "\u001b[A"
     ]
    },
    {
     "name": "stderr",
     "output_type": "stream",
     "text": [
      "\n"
     ]
    },
    {
     "name": "stderr",
     "output_type": "stream",
     "text": [
      "\r",
      "Metrics:  10%|\u001b[34m█         \u001b[0m| 1/10 [22:11<3:19:45, 1331.72s/it, Bio conservation: nmi_ari_cluster_labels_kmeans]"
     ]
    },
    {
     "name": "stderr",
     "output_type": "stream",
     "text": [
      "\u001b[A"
     ]
    },
    {
     "name": "stderr",
     "output_type": "stream",
     "text": [
      "\n"
     ]
    },
    {
     "name": "stderr",
     "output_type": "stream",
     "text": [
      "\r",
      "Metrics:  20%|\u001b[34m██        \u001b[0m| 2/10 [27:08<1:36:25, 723.14s/it, Bio conservation: nmi_ari_cluster_labels_kmeans] "
     ]
    },
    {
     "name": "stderr",
     "output_type": "stream",
     "text": [
      "\u001b[A"
     ]
    },
    {
     "name": "stderr",
     "output_type": "stream",
     "text": [
      "\n"
     ]
    },
    {
     "name": "stderr",
     "output_type": "stream",
     "text": [
      "\r",
      "Metrics:  20%|\u001b[34m██        \u001b[0m| 2/10 [27:08<1:36:25, 723.14s/it, Bio conservation: silhouette_label]             "
     ]
    },
    {
     "name": "stderr",
     "output_type": "stream",
     "text": [
      "\u001b[A"
     ]
    },
    {
     "name": "stderr",
     "output_type": "stream",
     "text": [
      "\n"
     ]
    },
    {
     "name": "stderr",
     "output_type": "stream",
     "text": [
      "\r",
      "Metrics:  30%|\u001b[34m███       \u001b[0m| 3/10 [48:59<1:55:40, 991.53s/it, Bio conservation: silhouette_label]"
     ]
    },
    {
     "name": "stderr",
     "output_type": "stream",
     "text": [
      "\u001b[A"
     ]
    },
    {
     "name": "stderr",
     "output_type": "stream",
     "text": [
      "\n"
     ]
    },
    {
     "name": "stderr",
     "output_type": "stream",
     "text": [
      "\r",
      "Metrics:  30%|\u001b[34m███       \u001b[0m| 3/10 [48:59<1:55:40, 991.53s/it, Bio conservation: clisi_knn]       "
     ]
    },
    {
     "name": "stderr",
     "output_type": "stream",
     "text": [
      "\u001b[A"
     ]
    },
    {
     "name": "stderr",
     "output_type": "stream",
     "text": [
      "\n"
     ]
    },
    {
     "name": "stderr",
     "output_type": "stream",
     "text": [
      "\r",
      "Metrics:  40%|\u001b[34m████      \u001b[0m| 4/10 [49:03<1:00:08, 601.42s/it, Bio conservation: clisi_knn]"
     ]
    },
    {
     "name": "stderr",
     "output_type": "stream",
     "text": [
      "\u001b[A"
     ]
    },
    {
     "name": "stderr",
     "output_type": "stream",
     "text": [
      "\r",
      "Embeddings:  50%|\u001b[32m█████     \u001b[0m| 4/8 [3:22:34<3:21:18, 3019.56s/it]"
     ]
    },
    {
     "name": "stderr",
     "output_type": "stream",
     "text": [
      "\n"
     ]
    },
    {
     "name": "stderr",
     "output_type": "stream",
     "text": [
      "\r",
      "Metrics:   0%|\u001b[34m          \u001b[0m| 0/10 [00:00<?, ?it/s]"
     ]
    },
    {
     "name": "stderr",
     "output_type": "stream",
     "text": [
      "\u001b[A"
     ]
    },
    {
     "name": "stderr",
     "output_type": "stream",
     "text": [
      "\n"
     ]
    },
    {
     "name": "stderr",
     "output_type": "stream",
     "text": [
      "\r",
      "                                                                                       "
     ]
    },
    {
     "name": "stderr",
     "output_type": "stream",
     "text": [
      "\u001b[A"
     ]
    },
    {
     "name": "stderr",
     "output_type": "stream",
     "text": [
      "\n"
     ]
    },
    {
     "name": "stderr",
     "output_type": "stream",
     "text": [
      "\r",
      "Metrics:   0%|\u001b[34m          \u001b[0m| 0/10 [00:00<?, ?it/s, Bio conservation: isolated_labels]"
     ]
    },
    {
     "name": "stderr",
     "output_type": "stream",
     "text": [
      "\u001b[A"
     ]
    },
    {
     "name": "stderr",
     "output_type": "stream",
     "text": [
      "\n"
     ]
    },
    {
     "name": "stderr",
     "output_type": "stream",
     "text": [
      "\r",
      "Metrics:  10%|\u001b[34m█         \u001b[0m| 1/10 [23:11<3:28:38, 1390.92s/it, Bio conservation: isolated_labels]"
     ]
    },
    {
     "name": "stderr",
     "output_type": "stream",
     "text": [
      "\u001b[A"
     ]
    },
    {
     "name": "stderr",
     "output_type": "stream",
     "text": [
      "\n"
     ]
    },
    {
     "name": "stderr",
     "output_type": "stream",
     "text": [
      "\r",
      "Metrics:  10%|\u001b[34m█         \u001b[0m| 1/10 [23:11<3:28:38, 1390.92s/it, Bio conservation: nmi_ari_cluster_labels_kmeans]"
     ]
    },
    {
     "name": "stderr",
     "output_type": "stream",
     "text": [
      "\u001b[A"
     ]
    },
    {
     "name": "stderr",
     "output_type": "stream",
     "text": [
      "\n"
     ]
    },
    {
     "name": "stderr",
     "output_type": "stream",
     "text": [
      "\r",
      "Metrics:  20%|\u001b[34m██        \u001b[0m| 2/10 [30:10<1:49:15, 819.38s/it, Bio conservation: nmi_ari_cluster_labels_kmeans] "
     ]
    },
    {
     "name": "stderr",
     "output_type": "stream",
     "text": [
      "\u001b[A"
     ]
    },
    {
     "name": "stderr",
     "output_type": "stream",
     "text": [
      "\n"
     ]
    },
    {
     "name": "stderr",
     "output_type": "stream",
     "text": [
      "\r",
      "Metrics:  20%|\u001b[34m██        \u001b[0m| 2/10 [30:10<1:49:15, 819.38s/it, Bio conservation: silhouette_label]             "
     ]
    },
    {
     "name": "stderr",
     "output_type": "stream",
     "text": [
      "\u001b[A"
     ]
    },
    {
     "name": "stderr",
     "output_type": "stream",
     "text": [
      "\n"
     ]
    },
    {
     "name": "stderr",
     "output_type": "stream",
     "text": [
      "\r",
      "Metrics:  30%|\u001b[34m███       \u001b[0m| 3/10 [52:32<2:03:27, 1058.27s/it, Bio conservation: silhouette_label]"
     ]
    },
    {
     "name": "stderr",
     "output_type": "stream",
     "text": [
      "\u001b[A"
     ]
    },
    {
     "name": "stderr",
     "output_type": "stream",
     "text": [
      "\n"
     ]
    },
    {
     "name": "stderr",
     "output_type": "stream",
     "text": [
      "\r",
      "Metrics:  30%|\u001b[34m███       \u001b[0m| 3/10 [52:32<2:03:27, 1058.27s/it, Bio conservation: clisi_knn]       "
     ]
    },
    {
     "name": "stderr",
     "output_type": "stream",
     "text": [
      "\u001b[A"
     ]
    },
    {
     "name": "stderr",
     "output_type": "stream",
     "text": [
      "\n"
     ]
    },
    {
     "name": "stderr",
     "output_type": "stream",
     "text": [
      "\r",
      "Metrics:  40%|\u001b[34m████      \u001b[0m| 4/10 [52:36<1:04:10, 641.83s/it, Bio conservation: clisi_knn] "
     ]
    },
    {
     "name": "stderr",
     "output_type": "stream",
     "text": [
      "\u001b[A"
     ]
    },
    {
     "name": "stderr",
     "output_type": "stream",
     "text": [
      "\r",
      "Embeddings:  62%|\u001b[32m██████▎   \u001b[0m| 5/8 [4:15:10<2:33:26, 3068.85s/it]"
     ]
    },
    {
     "name": "stderr",
     "output_type": "stream",
     "text": [
      "\n"
     ]
    },
    {
     "name": "stderr",
     "output_type": "stream",
     "text": [
      "\r",
      "Metrics:   0%|\u001b[34m          \u001b[0m| 0/10 [00:00<?, ?it/s]"
     ]
    },
    {
     "name": "stderr",
     "output_type": "stream",
     "text": [
      "\u001b[A"
     ]
    },
    {
     "name": "stderr",
     "output_type": "stream",
     "text": [
      "\n"
     ]
    },
    {
     "name": "stderr",
     "output_type": "stream",
     "text": [
      "\r",
      "                                                                                       "
     ]
    },
    {
     "name": "stderr",
     "output_type": "stream",
     "text": [
      "\u001b[A"
     ]
    },
    {
     "name": "stderr",
     "output_type": "stream",
     "text": [
      "\n"
     ]
    },
    {
     "name": "stderr",
     "output_type": "stream",
     "text": [
      "\r",
      "Metrics:   0%|\u001b[34m          \u001b[0m| 0/10 [00:00<?, ?it/s, Bio conservation: isolated_labels]"
     ]
    },
    {
     "name": "stderr",
     "output_type": "stream",
     "text": [
      "\u001b[A"
     ]
    },
    {
     "name": "stderr",
     "output_type": "stream",
     "text": [
      "\n"
     ]
    },
    {
     "name": "stderr",
     "output_type": "stream",
     "text": [
      "\r",
      "Metrics:  10%|\u001b[34m█         \u001b[0m| 1/10 [21:43<3:15:34, 1303.86s/it, Bio conservation: isolated_labels]"
     ]
    },
    {
     "name": "stderr",
     "output_type": "stream",
     "text": [
      "\u001b[A"
     ]
    },
    {
     "name": "stderr",
     "output_type": "stream",
     "text": [
      "\n"
     ]
    },
    {
     "name": "stderr",
     "output_type": "stream",
     "text": [
      "\r",
      "Metrics:  10%|\u001b[34m█         \u001b[0m| 1/10 [21:43<3:15:34, 1303.86s/it, Bio conservation: nmi_ari_cluster_labels_kmeans]"
     ]
    },
    {
     "name": "stderr",
     "output_type": "stream",
     "text": [
      "\u001b[A"
     ]
    },
    {
     "name": "stderr",
     "output_type": "stream",
     "text": [
      "\n"
     ]
    },
    {
     "name": "stderr",
     "output_type": "stream",
     "text": [
      "\r",
      "Metrics:  20%|\u001b[34m██        \u001b[0m| 2/10 [26:32<1:34:11, 706.46s/it, Bio conservation: nmi_ari_cluster_labels_kmeans] "
     ]
    },
    {
     "name": "stderr",
     "output_type": "stream",
     "text": [
      "\u001b[A"
     ]
    },
    {
     "name": "stderr",
     "output_type": "stream",
     "text": [
      "\n"
     ]
    },
    {
     "name": "stderr",
     "output_type": "stream",
     "text": [
      "\r",
      "Metrics:  20%|\u001b[34m██        \u001b[0m| 2/10 [26:32<1:34:11, 706.46s/it, Bio conservation: silhouette_label]             "
     ]
    },
    {
     "name": "stderr",
     "output_type": "stream",
     "text": [
      "\u001b[A"
     ]
    },
    {
     "name": "stderr",
     "output_type": "stream",
     "text": [
      "\n"
     ]
    },
    {
     "name": "stderr",
     "output_type": "stream",
     "text": [
      "\r",
      "Metrics:  30%|\u001b[34m███       \u001b[0m| 3/10 [51:42<2:05:12, 1073.20s/it, Bio conservation: silhouette_label]"
     ]
    },
    {
     "name": "stderr",
     "output_type": "stream",
     "text": [
      "\u001b[A"
     ]
    },
    {
     "name": "stderr",
     "output_type": "stream",
     "text": [
      "\n"
     ]
    },
    {
     "name": "stderr",
     "output_type": "stream",
     "text": [
      "\r",
      "Metrics:  30%|\u001b[34m███       \u001b[0m| 3/10 [51:42<2:05:12, 1073.20s/it, Bio conservation: clisi_knn]       "
     ]
    },
    {
     "name": "stderr",
     "output_type": "stream",
     "text": [
      "\u001b[A"
     ]
    },
    {
     "name": "stderr",
     "output_type": "stream",
     "text": [
      "\n"
     ]
    },
    {
     "name": "stderr",
     "output_type": "stream",
     "text": [
      "\r",
      "Metrics:  40%|\u001b[34m████      \u001b[0m| 4/10 [51:47<1:05:09, 651.66s/it, Bio conservation: clisi_knn] "
     ]
    },
    {
     "name": "stderr",
     "output_type": "stream",
     "text": [
      "\u001b[A"
     ]
    },
    {
     "name": "stderr",
     "output_type": "stream",
     "text": [
      "\r",
      "Embeddings:  75%|\u001b[32m███████▌  \u001b[0m| 6/8 [5:06:58<1:42:43, 3081.89s/it]"
     ]
    },
    {
     "name": "stderr",
     "output_type": "stream",
     "text": [
      "\n"
     ]
    },
    {
     "name": "stderr",
     "output_type": "stream",
     "text": [
      "\r",
      "Metrics:   0%|\u001b[34m          \u001b[0m| 0/10 [00:00<?, ?it/s]"
     ]
    },
    {
     "name": "stderr",
     "output_type": "stream",
     "text": [
      "\u001b[A"
     ]
    },
    {
     "name": "stderr",
     "output_type": "stream",
     "text": [
      "\n"
     ]
    },
    {
     "name": "stderr",
     "output_type": "stream",
     "text": [
      "\r",
      "                                                                                       "
     ]
    },
    {
     "name": "stderr",
     "output_type": "stream",
     "text": [
      "\u001b[A"
     ]
    },
    {
     "name": "stderr",
     "output_type": "stream",
     "text": [
      "\n"
     ]
    },
    {
     "name": "stderr",
     "output_type": "stream",
     "text": [
      "\r",
      "Metrics:   0%|\u001b[34m          \u001b[0m| 0/10 [00:00<?, ?it/s, Bio conservation: isolated_labels]"
     ]
    },
    {
     "name": "stderr",
     "output_type": "stream",
     "text": [
      "\u001b[A"
     ]
    },
    {
     "name": "stderr",
     "output_type": "stream",
     "text": [
      "\n"
     ]
    },
    {
     "name": "stderr",
     "output_type": "stream",
     "text": [
      "\r",
      "Metrics:  10%|\u001b[34m█         \u001b[0m| 1/10 [23:17<3:29:29, 1396.66s/it, Bio conservation: isolated_labels]"
     ]
    },
    {
     "name": "stderr",
     "output_type": "stream",
     "text": [
      "\u001b[A"
     ]
    },
    {
     "name": "stderr",
     "output_type": "stream",
     "text": [
      "\n"
     ]
    },
    {
     "name": "stderr",
     "output_type": "stream",
     "text": [
      "\r",
      "Metrics:  10%|\u001b[34m█         \u001b[0m| 1/10 [23:17<3:29:29, 1396.66s/it, Bio conservation: nmi_ari_cluster_labels_kmeans]"
     ]
    },
    {
     "name": "stderr",
     "output_type": "stream",
     "text": [
      "\u001b[A"
     ]
    },
    {
     "name": "stderr",
     "output_type": "stream",
     "text": [
      "\n"
     ]
    },
    {
     "name": "stderr",
     "output_type": "stream",
     "text": [
      "\r",
      "Metrics:  20%|\u001b[34m██        \u001b[0m| 2/10 [30:34<1:50:59, 832.43s/it, Bio conservation: nmi_ari_cluster_labels_kmeans] "
     ]
    },
    {
     "name": "stderr",
     "output_type": "stream",
     "text": [
      "\u001b[A"
     ]
    },
    {
     "name": "stderr",
     "output_type": "stream",
     "text": [
      "\n"
     ]
    },
    {
     "name": "stderr",
     "output_type": "stream",
     "text": [
      "\r",
      "Metrics:  20%|\u001b[34m██        \u001b[0m| 2/10 [30:34<1:50:59, 832.43s/it, Bio conservation: silhouette_label]             "
     ]
    },
    {
     "name": "stderr",
     "output_type": "stream",
     "text": [
      "\u001b[A"
     ]
    },
    {
     "name": "stderr",
     "output_type": "stream",
     "text": [
      "\n"
     ]
    },
    {
     "name": "stderr",
     "output_type": "stream",
     "text": [
      "\r",
      "Metrics:  30%|\u001b[34m███       \u001b[0m| 3/10 [54:05<2:07:57, 1096.84s/it, Bio conservation: silhouette_label]"
     ]
    },
    {
     "name": "stderr",
     "output_type": "stream",
     "text": [
      "\u001b[A"
     ]
    },
    {
     "name": "stderr",
     "output_type": "stream",
     "text": [
      "\n"
     ]
    },
    {
     "name": "stderr",
     "output_type": "stream",
     "text": [
      "\r",
      "Metrics:  30%|\u001b[34m███       \u001b[0m| 3/10 [54:05<2:07:57, 1096.84s/it, Bio conservation: clisi_knn]       "
     ]
    },
    {
     "name": "stderr",
     "output_type": "stream",
     "text": [
      "\u001b[A"
     ]
    },
    {
     "name": "stderr",
     "output_type": "stream",
     "text": [
      "\n"
     ]
    },
    {
     "name": "stderr",
     "output_type": "stream",
     "text": [
      "\r",
      "Metrics:  40%|\u001b[34m████      \u001b[0m| 4/10 [54:09<1:06:31, 665.20s/it, Bio conservation: clisi_knn] "
     ]
    },
    {
     "name": "stderr",
     "output_type": "stream",
     "text": [
      "\u001b[A"
     ]
    },
    {
     "name": "stderr",
     "output_type": "stream",
     "text": [
      "\r",
      "Embeddings:  88%|\u001b[32m████████▊ \u001b[0m| 7/8 [6:01:07<52:16, 3136.60s/it]  "
     ]
    },
    {
     "name": "stderr",
     "output_type": "stream",
     "text": [
      "\n"
     ]
    },
    {
     "name": "stderr",
     "output_type": "stream",
     "text": [
      "\r",
      "Metrics:   0%|\u001b[34m          \u001b[0m| 0/10 [00:00<?, ?it/s]"
     ]
    },
    {
     "name": "stderr",
     "output_type": "stream",
     "text": [
      "\u001b[A"
     ]
    },
    {
     "name": "stderr",
     "output_type": "stream",
     "text": [
      "\n"
     ]
    },
    {
     "name": "stderr",
     "output_type": "stream",
     "text": [
      "\r",
      "                                                                                       "
     ]
    },
    {
     "name": "stderr",
     "output_type": "stream",
     "text": [
      "\u001b[A"
     ]
    },
    {
     "name": "stderr",
     "output_type": "stream",
     "text": [
      "\n"
     ]
    },
    {
     "name": "stderr",
     "output_type": "stream",
     "text": [
      "\r",
      "Metrics:   0%|\u001b[34m          \u001b[0m| 0/10 [00:00<?, ?it/s, Bio conservation: isolated_labels]"
     ]
    },
    {
     "name": "stderr",
     "output_type": "stream",
     "text": [
      "\u001b[A"
     ]
    },
    {
     "name": "stderr",
     "output_type": "stream",
     "text": [
      "\n"
     ]
    },
    {
     "name": "stderr",
     "output_type": "stream",
     "text": [
      "\r",
      "Metrics:  10%|\u001b[34m█         \u001b[0m| 1/10 [24:02<3:36:22, 1442.48s/it, Bio conservation: isolated_labels]"
     ]
    },
    {
     "name": "stderr",
     "output_type": "stream",
     "text": [
      "\u001b[A"
     ]
    },
    {
     "name": "stderr",
     "output_type": "stream",
     "text": [
      "\n"
     ]
    },
    {
     "name": "stderr",
     "output_type": "stream",
     "text": [
      "\r",
      "Metrics:  10%|\u001b[34m█         \u001b[0m| 1/10 [24:03<3:36:22, 1442.48s/it, Bio conservation: nmi_ari_cluster_labels_kmeans]"
     ]
    },
    {
     "name": "stderr",
     "output_type": "stream",
     "text": [
      "\u001b[A"
     ]
    },
    {
     "name": "stderr",
     "output_type": "stream",
     "text": [
      "\n"
     ]
    },
    {
     "name": "stderr",
     "output_type": "stream",
     "text": [
      "\r",
      "Metrics:  20%|\u001b[34m██        \u001b[0m| 2/10 [29:27<1:44:43, 785.38s/it, Bio conservation: nmi_ari_cluster_labels_kmeans] "
     ]
    },
    {
     "name": "stderr",
     "output_type": "stream",
     "text": [
      "\u001b[A"
     ]
    },
    {
     "name": "stderr",
     "output_type": "stream",
     "text": [
      "\n"
     ]
    },
    {
     "name": "stderr",
     "output_type": "stream",
     "text": [
      "\r",
      "Metrics:  20%|\u001b[34m██        \u001b[0m| 2/10 [29:27<1:44:43, 785.38s/it, Bio conservation: silhouette_label]             "
     ]
    },
    {
     "name": "stderr",
     "output_type": "stream",
     "text": [
      "\u001b[A"
     ]
    },
    {
     "name": "stderr",
     "output_type": "stream",
     "text": [
      "\n"
     ]
    },
    {
     "name": "stderr",
     "output_type": "stream",
     "text": [
      "\r",
      "Metrics:  30%|\u001b[34m███       \u001b[0m| 3/10 [52:47<2:04:20, 1065.83s/it, Bio conservation: silhouette_label]"
     ]
    },
    {
     "name": "stderr",
     "output_type": "stream",
     "text": [
      "\u001b[A"
     ]
    },
    {
     "name": "stderr",
     "output_type": "stream",
     "text": [
      "\n"
     ]
    },
    {
     "name": "stderr",
     "output_type": "stream",
     "text": [
      "\r",
      "Metrics:  30%|\u001b[34m███       \u001b[0m| 3/10 [52:47<2:04:20, 1065.83s/it, Bio conservation: clisi_knn]       "
     ]
    },
    {
     "name": "stderr",
     "output_type": "stream",
     "text": [
      "\u001b[A"
     ]
    },
    {
     "name": "stderr",
     "output_type": "stream",
     "text": [
      "\n"
     ]
    },
    {
     "name": "stderr",
     "output_type": "stream",
     "text": [
      "\r",
      "Metrics:  40%|\u001b[34m████      \u001b[0m| 4/10 [52:51<1:04:39, 646.52s/it, Bio conservation: clisi_knn] "
     ]
    },
    {
     "name": "stderr",
     "output_type": "stream",
     "text": [
      "\u001b[A"
     ]
    },
    {
     "name": "stderr",
     "output_type": "stream",
     "text": [
      "\r",
      "Embeddings: 100%|\u001b[32m██████████\u001b[0m| 8/8 [6:53:58<00:00, 3147.62s/it]"
     ]
    },
    {
     "name": "stderr",
     "output_type": "stream",
     "text": [
      "\r",
      "Embeddings: 100%|\u001b[32m██████████\u001b[0m| 8/8 [6:53:58<00:00, 3104.82s/it]"
     ]
    },
    {
     "name": "stderr",
     "output_type": "stream",
     "text": [
      "\n",
      "\n"
     ]
    },
    {
     "name": "stderr",
     "output_type": "stream",
     "text": [
      "\r",
      "                                                                                       "
     ]
    },
    {
     "name": "stderr",
     "output_type": "stream",
     "text": [
      "\u001b[A"
     ]
    }
   ],
   "source": [
    "bm.benchmark()"
   ]
  },
  {
   "cell_type": "code",
   "execution_count": 10,
   "id": "77e097d0-c704-4403-a42a-cf42f6c2347f",
   "metadata": {
    "execution": {
     "iopub.execute_input": "2024-05-10T17:34:24.630107Z",
     "iopub.status.busy": "2024-05-10T17:34:24.621157Z",
     "iopub.status.idle": "2024-05-10T17:34:25.523121Z",
     "shell.execute_reply": "2024-05-10T17:34:25.521766Z"
    }
   },
   "outputs": [],
   "source": [
    "df = get_results(bm, min_max_scale=False)"
   ]
  },
  {
   "cell_type": "code",
   "execution_count": 11,
   "id": "a90c24b4-d9ea-4ce7-9088-a237b7fe7b36",
   "metadata": {
    "execution": {
     "iopub.execute_input": "2024-05-10T17:34:25.529249Z",
     "iopub.status.busy": "2024-05-10T17:34:25.528654Z",
     "iopub.status.idle": "2024-05-10T17:34:26.888674Z",
     "shell.execute_reply": "2024-05-10T17:34:26.887628Z"
    }
   },
   "outputs": [
    {
     "data": {
      "text/html": [
       "<div>\n",
       "<style scoped>\n",
       "    .dataframe tbody tr th:only-of-type {\n",
       "        vertical-align: middle;\n",
       "    }\n",
       "\n",
       "    .dataframe tbody tr th {\n",
       "        vertical-align: top;\n",
       "    }\n",
       "\n",
       "    .dataframe thead th {\n",
       "        text-align: right;\n",
       "    }\n",
       "</style>\n",
       "<table border=\"1\" class=\"dataframe\">\n",
       "  <thead>\n",
       "    <tr style=\"text-align: right;\">\n",
       "      <th></th>\n",
       "      <th>isolated_labels</th>\n",
       "      <th>nmi_ari_cluster_labels_kmeans_nmi</th>\n",
       "      <th>nmi_ari_cluster_labels_kmeans_ari</th>\n",
       "      <th>silhouette_label</th>\n",
       "      <th>clisi_knn</th>\n",
       "      <th>Bio conservation</th>\n",
       "    </tr>\n",
       "    <tr>\n",
       "      <th>Embedding</th>\n",
       "      <th></th>\n",
       "      <th></th>\n",
       "      <th></th>\n",
       "      <th></th>\n",
       "      <th></th>\n",
       "      <th></th>\n",
       "    </tr>\n",
       "  </thead>\n",
       "  <tbody>\n",
       "    <tr>\n",
       "      <th>inveriant_1</th>\n",
       "      <td>0.77074</td>\n",
       "      <td>0.611843</td>\n",
       "      <td>0.176302</td>\n",
       "      <td>0.502593</td>\n",
       "      <td>0.998185</td>\n",
       "      <td>0.611933</td>\n",
       "    </tr>\n",
       "    <tr>\n",
       "      <th>inveriant_2</th>\n",
       "      <td>0.860148</td>\n",
       "      <td>0.684053</td>\n",
       "      <td>0.218373</td>\n",
       "      <td>0.523225</td>\n",
       "      <td>0.998811</td>\n",
       "      <td>0.656922</td>\n",
       "    </tr>\n",
       "    <tr>\n",
       "      <th>inveriant_3</th>\n",
       "      <td>0.797439</td>\n",
       "      <td>0.617555</td>\n",
       "      <td>0.17428</td>\n",
       "      <td>0.494741</td>\n",
       "      <td>0.998307</td>\n",
       "      <td>0.616464</td>\n",
       "    </tr>\n",
       "    <tr>\n",
       "      <th>inveriant_4</th>\n",
       "      <td>0.847575</td>\n",
       "      <td>0.685539</td>\n",
       "      <td>0.212955</td>\n",
       "      <td>0.516162</td>\n",
       "      <td>0.99875</td>\n",
       "      <td>0.652196</td>\n",
       "    </tr>\n",
       "    <tr>\n",
       "      <th>inveriant_5</th>\n",
       "      <td>0.824615</td>\n",
       "      <td>0.644701</td>\n",
       "      <td>0.194351</td>\n",
       "      <td>0.495214</td>\n",
       "      <td>0.998217</td>\n",
       "      <td>0.631419</td>\n",
       "    </tr>\n",
       "    <tr>\n",
       "      <th>inveriant_6</th>\n",
       "      <td>0.829747</td>\n",
       "      <td>0.702215</td>\n",
       "      <td>0.239431</td>\n",
       "      <td>0.517052</td>\n",
       "      <td>0.9987</td>\n",
       "      <td>0.657429</td>\n",
       "    </tr>\n",
       "    <tr>\n",
       "      <th>inveriant_7</th>\n",
       "      <td>0.798021</td>\n",
       "      <td>0.650692</td>\n",
       "      <td>0.190949</td>\n",
       "      <td>0.508063</td>\n",
       "      <td>0.998821</td>\n",
       "      <td>0.629309</td>\n",
       "    </tr>\n",
       "    <tr>\n",
       "      <th>inveriant_8</th>\n",
       "      <td>0.838387</td>\n",
       "      <td>0.716064</td>\n",
       "      <td>0.251012</td>\n",
       "      <td>0.530873</td>\n",
       "      <td>0.99918</td>\n",
       "      <td>0.667103</td>\n",
       "    </tr>\n",
       "    <tr>\n",
       "      <th>Metric Type</th>\n",
       "      <td>Bio conservation</td>\n",
       "      <td>Bio conservation</td>\n",
       "      <td>Bio conservation</td>\n",
       "      <td>Bio conservation</td>\n",
       "      <td>Bio conservation</td>\n",
       "      <td>Aggregate score</td>\n",
       "    </tr>\n",
       "  </tbody>\n",
       "</table>\n",
       "</div>"
      ],
      "text/plain": [
       "              isolated_labels nmi_ari_cluster_labels_kmeans_nmi  \\\n",
       "Embedding                                                         \n",
       "inveriant_1           0.77074                          0.611843   \n",
       "inveriant_2          0.860148                          0.684053   \n",
       "inveriant_3          0.797439                          0.617555   \n",
       "inveriant_4          0.847575                          0.685539   \n",
       "inveriant_5          0.824615                          0.644701   \n",
       "inveriant_6          0.829747                          0.702215   \n",
       "inveriant_7          0.798021                          0.650692   \n",
       "inveriant_8          0.838387                          0.716064   \n",
       "Metric Type  Bio conservation                  Bio conservation   \n",
       "\n",
       "            nmi_ari_cluster_labels_kmeans_ari  silhouette_label  \\\n",
       "Embedding                                                         \n",
       "inveriant_1                          0.176302          0.502593   \n",
       "inveriant_2                          0.218373          0.523225   \n",
       "inveriant_3                           0.17428          0.494741   \n",
       "inveriant_4                          0.212955          0.516162   \n",
       "inveriant_5                          0.194351          0.495214   \n",
       "inveriant_6                          0.239431          0.517052   \n",
       "inveriant_7                          0.190949          0.508063   \n",
       "inveriant_8                          0.251012          0.530873   \n",
       "Metric Type                  Bio conservation  Bio conservation   \n",
       "\n",
       "                    clisi_knn Bio conservation  \n",
       "Embedding                                       \n",
       "inveriant_1          0.998185         0.611933  \n",
       "inveriant_2          0.998811         0.656922  \n",
       "inveriant_3          0.998307         0.616464  \n",
       "inveriant_4           0.99875         0.652196  \n",
       "inveriant_5          0.998217         0.631419  \n",
       "inveriant_6            0.9987         0.657429  \n",
       "inveriant_7          0.998821         0.629309  \n",
       "inveriant_8           0.99918         0.667103  \n",
       "Metric Type  Bio conservation  Aggregate score  "
      ]
     },
     "execution_count": 11,
     "metadata": {},
     "output_type": "execute_result"
    }
   ],
   "source": [
    "df"
   ]
  },
  {
   "cell_type": "code",
   "execution_count": 12,
   "id": "75b36b99-27da-4ff9-b6fe-b0e5149282ec",
   "metadata": {
    "execution": {
     "iopub.execute_input": "2024-05-10T17:34:26.893477Z",
     "iopub.status.busy": "2024-05-10T17:34:26.893209Z",
     "iopub.status.idle": "2024-05-10T17:34:29.983055Z",
     "shell.execute_reply": "2024-05-10T17:34:29.981979Z"
    }
   },
   "outputs": [
    {
     "data": {
      "text/plain": [
       "'/lustre/groups/ml01/workspace/kemal.inecik/tardis_data/_temporary/latent/suo_scib_invae_bio.pickle'"
      ]
     },
     "execution_count": 12,
     "metadata": {},
     "output_type": "execute_result"
    }
   ],
   "source": [
    "pickle_path = os.path.join(tardis.config.io_directories[\"temp\"], \"latent\", \"suo_scib_invae_bio.pickle\")\n",
    "pickle_path"
   ]
  },
  {
   "cell_type": "code",
   "execution_count": 13,
   "id": "ffd31567-c3cf-43ed-9369-8075fe439a6f",
   "metadata": {
    "execution": {
     "iopub.execute_input": "2024-05-10T17:34:29.988389Z",
     "iopub.status.busy": "2024-05-10T17:34:29.987853Z",
     "iopub.status.idle": "2024-05-10T17:34:30.213025Z",
     "shell.execute_reply": "2024-05-10T17:34:30.211651Z"
    }
   },
   "outputs": [],
   "source": [
    "df.to_pickle(pickle_path)"
   ]
  },
  {
   "cell_type": "code",
   "execution_count": null,
   "id": "da99876a-bf67-48c8-90e6-6fc3968890d5",
   "metadata": {},
   "outputs": [],
   "source": []
  },
  {
   "cell_type": "code",
   "execution_count": null,
   "id": "9ba24a74-e6c2-4f07-a8cb-da31a9e5a787",
   "metadata": {},
   "outputs": [],
   "source": []
  },
  {
   "cell_type": "code",
   "execution_count": null,
   "id": "f63776b9-a0d0-492a-850c-ca9084ccb794",
   "metadata": {},
   "outputs": [],
   "source": []
  },
  {
   "cell_type": "code",
   "execution_count": null,
   "id": "ee0da964-d526-40ee-8524-03f71c147f98",
   "metadata": {},
   "outputs": [],
   "source": []
  },
  {
   "cell_type": "code",
   "execution_count": null,
   "id": "f541984f-9323-4557-a3ad-1f9e95119231",
   "metadata": {},
   "outputs": [],
   "source": []
  }
 ],
 "metadata": {
  "kernelspec": {
   "display_name": "Python 3 (ipykernel)",
   "language": "python",
   "name": "python3"
  },
  "language_info": {
   "codemirror_mode": {
    "name": "ipython",
    "version": 3
   },
   "file_extension": ".py",
   "mimetype": "text/x-python",
   "name": "python",
   "nbconvert_exporter": "python",
   "pygments_lexer": "ipython3",
   "version": "3.10.14"
  }
 },
 "nbformat": 4,
 "nbformat_minor": 5
}
