{
 "cells": [
  {
   "cell_type": "markdown",
   "id": "998908c6-62fb-4c64-a3bb-313628f971f2",
   "metadata": {},
   "source": [
    "# Suo"
   ]
  },
  {
   "cell_type": "code",
   "execution_count": 1,
   "id": "8fa9d275-1c84-42d4-8a1a-da0a2ffa2e0d",
   "metadata": {},
   "outputs": [],
   "source": [
    "import warnings\n",
    "import os\n",
    "import sys\n",
    "import gc\n",
    "import warnings"
   ]
  },
  {
   "cell_type": "code",
   "execution_count": 2,
   "id": "861f7205-6fce-46d8-9c6b-f63551ab34e1",
   "metadata": {},
   "outputs": [],
   "source": [
    "import anndata as ad\n",
    "import scanpy as sc\n",
    "import copy\n",
    "import torch\n",
    "from pathlib import Path\n",
    "import networkx as nx\n",
    "from sklearn.neighbors import kneighbors_graph\n",
    "import numpy as np\n",
    "import scanpy as sc\n",
    "import pandas as pd\n",
    "import numpy as np\n",
    "import scipy.stats\n",
    "from scib_metrics.benchmark import Benchmarker, BioConservation, BatchCorrection\n",
    "import scvi\n",
    "\n",
    "sys.path.append(\"/home/icb/kemal.inecik/work/codes/tardis\")\n",
    "import tardis\n",
    "tardis.config = tardis.config_server\n",
    "\n",
    "sc.settings.verbosity = 3"
   ]
  },
  {
   "cell_type": "code",
   "execution_count": 6,
   "id": "6e954d6b-dad7-4e08-b086-740080130d95",
   "metadata": {},
   "outputs": [
    {
     "data": {
      "text/plain": [
       "False"
      ]
     },
     "execution_count": 6,
     "metadata": {},
     "output_type": "execute_result"
    }
   ],
   "source": [
    "torch.cuda.is_available()"
   ]
  },
  {
   "cell_type": "code",
   "execution_count": 4,
   "id": "d9aef55c-dc86-4c41-82ae-c92dd03e7820",
   "metadata": {},
   "outputs": [],
   "source": [
    "%matplotlib inline\n",
    "%config InlineBackend.figure_format='retina'\n",
    "import matplotlib.pyplot as plt\n",
    "import seaborn as sns\n",
    "\n",
    "import pickle\n",
    "_rcparams_path = \"/home/icb/kemal.inecik/work/codes/tardis/training/local/figures/rcparams.pickle\"\n",
    "with open(_rcparams_path, 'rb') as file:\n",
    "    _rcparams = pickle.load(file)\n",
    "plt.rcParams.update(_rcparams)"
   ]
  },
  {
   "cell_type": "code",
   "execution_count": 9,
   "id": "57f64c1f-eb04-4cc6-8b2e-c1094f5196f7",
   "metadata": {},
   "outputs": [
    {
     "data": {
      "text/plain": [
       "AnnData object with n_obs × n_vars = 841922 × 8192\n",
       "    obs: 'sample_ID', 'organ', 'age', 'cell_type', 'sex', 'sex_inferred', 'concatenated_integration_covariates', 'integration_donor', 'integration_biological_unit', 'integration_sample_status', 'integration_library_platform_coarse', 'n_genes'\n",
       "    uns: 'rank_genes_groups'\n",
       "    obsm: 'Unintegrated', 'X_pca', 'harmony', 'inveriant_1', 'inveriant_3', 'inveriant_5'"
      ]
     },
     "execution_count": 9,
     "metadata": {},
     "output_type": "execute_result"
    }
   ],
   "source": [
    "adata = ad.read_h5ad(\"/home/icb/kemal.inecik/lustre_workspace/tardis_data/processed/dataset_complete_Suo_invae.h5ad\")\n",
    "obsms = [i for i in adata.obsm if i not in ['Unintegrated', 'X_pca', 'harmony']]\n",
    "adata"
   ]
  },
  {
   "cell_type": "code",
   "execution_count": 10,
   "id": "84d12175-5454-4f0a-a44b-0fa0fb287728",
   "metadata": {},
   "outputs": [],
   "source": [
    "biocons = BioConservation()\n",
    "batchcor = BatchCorrection(\n",
    "    silhouette_batch=False,\n",
    "    ilisi_knn=False,\n",
    "    kbet_per_label=False,\n",
    "    graph_connectivity=False,\n",
    "    pcr_comparison=False\n",
    ")"
   ]
  },
  {
   "cell_type": "code",
   "execution_count": 11,
   "id": "1e6d784c-8d15-49ab-82f5-cd379aa60a29",
   "metadata": {},
   "outputs": [],
   "source": [
    "def get_results(self, min_max_scale: bool = True) -> pd.DataFrame:\n",
    "    _LABELS = \"labels\"\n",
    "    _BATCH = \"batch\"\n",
    "    _X_PRE = \"X_pre\"\n",
    "    _METRIC_TYPE = \"Metric Type\"\n",
    "    _AGGREGATE_SCORE = \"Aggregate score\"\n",
    "    \n",
    "    df = self._results.transpose()\n",
    "    df.index.name = \"Embedding\"\n",
    "    df = df.loc[df.index != _METRIC_TYPE]\n",
    "    if min_max_scale:\n",
    "        # Use sklearn to min max scale\n",
    "        df = pd.DataFrame(\n",
    "            MinMaxScaler().fit_transform(df),\n",
    "            columns=df.columns,\n",
    "            index=df.index,\n",
    "        )\n",
    "    df = df.transpose()\n",
    "    df[_METRIC_TYPE] = self._results[_METRIC_TYPE].values\n",
    "\n",
    "    # Compute scores\n",
    "    per_class_score = df.groupby(_METRIC_TYPE).mean().transpose()\n",
    "    # This is the default scIB weighting from the manuscript\n",
    "    # per_class_score[\"Total\"] = 0.4 * per_class_score[\"Batch correction\"] + 0.6 * per_class_score[\"Bio conservation\"]\n",
    "    df = pd.concat([df.transpose(), per_class_score], axis=1)\n",
    "    df.loc[_METRIC_TYPE, per_class_score.columns] = _AGGREGATE_SCORE\n",
    "    return df"
   ]
  },
  {
   "cell_type": "code",
   "execution_count": null,
   "id": "6bc96261-d86e-45a5-8f97-37418e0a5fe6",
   "metadata": {},
   "outputs": [],
   "source": [
    "print(adata, flush=True)\n",
    "print(\"starting scvi scib\", flush=True)\n",
    "bm = Benchmarker(\n",
    "    adata=adata,\n",
    "    batch_key=\"concatenated_integration_covariates\",\n",
    "    label_key=\"cell_type\",\n",
    "    embedding_obsm_keys=obsms,\n",
    "    pre_integrated_embedding_obsm_key=\"Unintegrated\",  # equals to X_pca\n",
    "    bio_conservation_metrics=biocons,\n",
    "    batch_correction_metrics=batchcor,\n",
    "    n_jobs=-1,\n",
    ")"
   ]
  },
  {
   "cell_type": "code",
   "execution_count": null,
   "id": "5591d511-bec8-4d82-9b20-9df8c00943be",
   "metadata": {},
   "outputs": [
    {
     "name": "stderr",
     "output_type": "stream",
     "text": [
      "\r",
      "Computing neighbors: 100%|██████████| 1/1 [03:19<00:00, 199.18s/it]"
     ]
    },
    {
     "name": "stderr",
     "output_type": "stream",
     "text": [
      "\r",
      "Computing neighbors: 100%|██████████| 1/1 [03:19<00:00, 199.18s/it]"
     ]
    },
    {
     "name": "stderr",
     "output_type": "stream",
     "text": [
      "\n"
     ]
    },
    {
     "name": "stderr",
     "output_type": "stream",
     "text": [
      "\r",
      "Embeddings:   0%|\u001b[32m          \u001b[0m| 0/1 [00:00<?, ?it/s]"
     ]
    },
    {
     "name": "stderr",
     "output_type": "stream",
     "text": [
      "\n"
     ]
    },
    {
     "name": "stderr",
     "output_type": "stream",
     "text": [
      "\r",
      "Metrics:   0%|\u001b[34m          \u001b[0m| 0/10 [00:00<?, ?it/s]"
     ]
    },
    {
     "name": "stderr",
     "output_type": "stream",
     "text": [
      "\u001b[A"
     ]
    },
    {
     "name": "stderr",
     "output_type": "stream",
     "text": [
      "\n"
     ]
    },
    {
     "name": "stderr",
     "output_type": "stream",
     "text": [
      "\r",
      "Metrics:   0%|\u001b[34m          \u001b[0m| 0/10 [00:00<?, ?it/s, Batch correction: silhouette_batch]"
     ]
    },
    {
     "name": "stderr",
     "output_type": "stream",
     "text": [
      "\u001b[A"
     ]
    },
    {
     "name": "stderr",
     "output_type": "stream",
     "text": [
      "\n"
     ]
    },
    {
     "name": "stderr",
     "output_type": "stream",
     "text": [
      "\r",
      "Metrics:  10%|\u001b[34m█         \u001b[0m| 1/10 [02:18<20:49, 138.89s/it, Batch correction: silhouette_batch]"
     ]
    },
    {
     "name": "stderr",
     "output_type": "stream",
     "text": [
      "\u001b[A"
     ]
    },
    {
     "name": "stderr",
     "output_type": "stream",
     "text": [
      "\n"
     ]
    },
    {
     "name": "stderr",
     "output_type": "stream",
     "text": [
      "\r",
      "Metrics:  10%|\u001b[34m█         \u001b[0m| 1/10 [02:18<20:49, 138.89s/it, Batch correction: ilisi_knn]       "
     ]
    },
    {
     "name": "stderr",
     "output_type": "stream",
     "text": [
      "\u001b[A"
     ]
    },
    {
     "name": "stderr",
     "output_type": "stream",
     "text": [
      "\n"
     ]
    },
    {
     "name": "stderr",
     "output_type": "stream",
     "text": [
      "\r",
      "Metrics:  20%|\u001b[34m██        \u001b[0m| 2/10 [02:23<08:00, 60.07s/it, Batch correction: ilisi_knn] "
     ]
    },
    {
     "name": "stderr",
     "output_type": "stream",
     "text": [
      "\u001b[A"
     ]
    },
    {
     "name": "stderr",
     "output_type": "stream",
     "text": [
      "\n"
     ]
    },
    {
     "name": "stderr",
     "output_type": "stream",
     "text": [
      "\r",
      "Metrics:  20%|\u001b[34m██        \u001b[0m| 2/10 [02:23<08:00, 60.07s/it, Batch correction: kbet_per_label]"
     ]
    },
    {
     "name": "stderr",
     "output_type": "stream",
     "text": [
      "\u001b[A"
     ]
    },
    {
     "name": "stderr",
     "output_type": "stream",
     "text": [
      "\n"
     ]
    },
    {
     "name": "stderr",
     "output_type": "stream",
     "text": [
      "\r",
      "Metrics:  30%|\u001b[34m███       \u001b[0m| 3/10 [11:43<33:36, 288.02s/it, Batch correction: kbet_per_label]"
     ]
    },
    {
     "name": "stderr",
     "output_type": "stream",
     "text": [
      "\u001b[A"
     ]
    },
    {
     "name": "stderr",
     "output_type": "stream",
     "text": [
      "\n"
     ]
    },
    {
     "name": "stderr",
     "output_type": "stream",
     "text": [
      "\r",
      "Metrics:  30%|\u001b[34m███       \u001b[0m| 3/10 [11:43<33:36, 288.02s/it, Batch correction: graph_connectivity]"
     ]
    },
    {
     "name": "stderr",
     "output_type": "stream",
     "text": [
      "\u001b[A"
     ]
    },
    {
     "name": "stderr",
     "output_type": "stream",
     "text": [
      "\n"
     ]
    },
    {
     "name": "stderr",
     "output_type": "stream",
     "text": [
      "\r",
      "Metrics:  40%|\u001b[34m████      \u001b[0m| 4/10 [11:47<17:37, 176.19s/it, Batch correction: graph_connectivity]"
     ]
    },
    {
     "name": "stderr",
     "output_type": "stream",
     "text": [
      "\u001b[A"
     ]
    },
    {
     "name": "stderr",
     "output_type": "stream",
     "text": [
      "\n"
     ]
    },
    {
     "name": "stderr",
     "output_type": "stream",
     "text": [
      "\r",
      "Metrics:  40%|\u001b[34m████      \u001b[0m| 4/10 [11:47<17:37, 176.19s/it, Batch correction: pcr_comparison]    "
     ]
    },
    {
     "name": "stderr",
     "output_type": "stream",
     "text": [
      "\u001b[A"
     ]
    },
    {
     "name": "stderr",
     "output_type": "stream",
     "text": [
      "\n"
     ]
    },
    {
     "name": "stderr",
     "output_type": "stream",
     "text": [
      "\r",
      "Metrics:  50%|\u001b[34m█████     \u001b[0m| 5/10 [11:55<09:37, 115.45s/it, Batch correction: pcr_comparison]"
     ]
    },
    {
     "name": "stderr",
     "output_type": "stream",
     "text": [
      "\u001b[A"
     ]
    },
    {
     "name": "stderr",
     "output_type": "stream",
     "text": [
      "\r",
      "Embeddings: 100%|\u001b[32m██████████\u001b[0m| 1/1 [11:55<00:00, 715.57s/it]"
     ]
    },
    {
     "name": "stderr",
     "output_type": "stream",
     "text": [
      "\r",
      "Embeddings: 100%|\u001b[32m██████████\u001b[0m| 1/1 [11:55<00:00, 715.57s/it]"
     ]
    },
    {
     "name": "stderr",
     "output_type": "stream",
     "text": [
      "\n",
      "\n"
     ]
    },
    {
     "name": "stderr",
     "output_type": "stream",
     "text": [
      "\r",
      "                                                                                          "
     ]
    },
    {
     "name": "stderr",
     "output_type": "stream",
     "text": [
      "\u001b[A"
     ]
    }
   ],
   "source": [
    "bm.benchmark()"
   ]
  },
  {
   "cell_type": "code",
   "execution_count": null,
   "id": "77e097d0-c704-4403-a42a-cf42f6c2347f",
   "metadata": {},
   "outputs": [],
   "source": [
    "df = get_results(bm, min_max_scale=False)"
   ]
  },
  {
   "cell_type": "code",
   "execution_count": null,
   "id": "a90c24b4-d9ea-4ce7-9088-a237b7fe7b36",
   "metadata": {},
   "outputs": [],
   "source": [
    "df"
   ]
  },
  {
   "cell_type": "code",
   "execution_count": null,
   "id": "75b36b99-27da-4ff9-b6fe-b0e5149282ec",
   "metadata": {},
   "outputs": [],
   "source": [
    "pickle_path = os.path.join(tardis.config.io_directories[\"temp\"], \"latent\", \"suo_scib_invae_bio.pickle\")\n",
    "pickle_path"
   ]
  },
  {
   "cell_type": "code",
   "execution_count": null,
   "id": "ffd31567-c3cf-43ed-9369-8075fe439a6f",
   "metadata": {},
   "outputs": [],
   "source": [
    "df.to_pickle(pickle_path)"
   ]
  },
  {
   "cell_type": "code",
   "execution_count": null,
   "id": "da99876a-bf67-48c8-90e6-6fc3968890d5",
   "metadata": {},
   "outputs": [],
   "source": []
  },
  {
   "cell_type": "code",
   "execution_count": null,
   "id": "9ba24a74-e6c2-4f07-a8cb-da31a9e5a787",
   "metadata": {},
   "outputs": [],
   "source": []
  },
  {
   "cell_type": "code",
   "execution_count": null,
   "id": "f63776b9-a0d0-492a-850c-ca9084ccb794",
   "metadata": {},
   "outputs": [],
   "source": []
  },
  {
   "cell_type": "code",
   "execution_count": null,
   "id": "ee0da964-d526-40ee-8524-03f71c147f98",
   "metadata": {},
   "outputs": [],
   "source": []
  },
  {
   "cell_type": "code",
   "execution_count": null,
   "id": "f541984f-9323-4557-a3ad-1f9e95119231",
   "metadata": {},
   "outputs": [],
   "source": []
  }
 ],
 "metadata": {
  "kernelspec": {
   "display_name": "Python 3 (ipykernel)",
   "language": "python",
   "name": "python3"
  },
  "language_info": {
   "codemirror_mode": {
    "name": "ipython",
    "version": 3
   },
   "file_extension": ".py",
   "mimetype": "text/x-python",
   "name": "python",
   "nbconvert_exporter": "python",
   "pygments_lexer": "ipython3",
   "version": "3.10.14"
  }
 },
 "nbformat": 4,
 "nbformat_minor": 5
}
