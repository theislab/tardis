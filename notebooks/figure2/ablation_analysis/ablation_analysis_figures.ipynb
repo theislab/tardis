{
 "cells": [
  {
   "cell_type": "markdown",
   "id": "cbb016da-7b0d-4e2e-a2e9-dec1a675aec9",
   "metadata": {},
   "source": [
    "## Ablation Analysis"
   ]
  },
  {
   "cell_type": "code",
   "execution_count": 1,
   "id": "91395c5f-9818-4b49-86ab-5c2b2504bf44",
   "metadata": {},
   "outputs": [],
   "source": [
    "import warnings\n",
    "import os\n",
    "import sys\n",
    "import gc\n",
    "import warnings"
   ]
  },
  {
   "cell_type": "code",
   "execution_count": null,
   "id": "552cf189-95cf-4f91-b5a2-5e4f767843aa",
   "metadata": {},
   "outputs": [],
   "source": [
    "import anndata as ad\n",
    "import scanpy as sc\n",
    "import copy\n",
    "import torch\n",
    "from pathlib import Path\n",
    "import networkx as nx\n",
    "from sklearn.neighbors import kneighbors_graph\n",
    "import numpy as np\n",
    "import scanpy as sc\n",
    "import pandas as pd\n",
    "import numpy as np\n",
    "import scipy.stats\n",
    "import tqdm\n",
    "\n",
    "sys.path.append(\"/home/icb/kemal.inecik/work/codes/tardis\")\n",
    "import tardis\n",
    "from tardis._utils.functions import create_random_mask\n",
    "import sklearn\n",
    "import numpy as np\n",
    "from sklearn.cluster import KMeans\n",
    "from sklearn import metrics\n",
    "tardis.config = tardis.config_server"
   ]
  },
  {
   "cell_type": "code",
   "execution_count": null,
   "id": "31634917-88cf-4d2d-b024-a58d1ad39796",
   "metadata": {},
   "outputs": [],
   "source": [
    "torch.cuda.is_available()"
   ]
  },
  {
   "cell_type": "code",
   "execution_count": null,
   "id": "da277c34-a505-46b6-8a98-78e6d0fd1766",
   "metadata": {},
   "outputs": [],
   "source": [
    "%matplotlib inline\n",
    "%config InlineBackend.figure_format='retina'\n",
    "import matplotlib.pyplot as plt\n",
    "import seaborn as sns\n",
    "\n",
    "import pickle\n",
    "_rcparams_path = \"/home/icb/kemal.inecik/work/codes/tardis/training/local/figures/rcparams.pickle\"\n",
    "with open(_rcparams_path, 'rb') as file:\n",
    "    _rcparams = pickle.load(file)\n",
    "plt.rcParams.update(_rcparams)"
   ]
  },
  {
   "cell_type": "code",
   "execution_count": null,
   "id": "1364cf05-b19c-4d08-ae35-f81e9c1fbdb1",
   "metadata": {},
   "outputs": [],
   "source": [
    "# ablation_adata_path = os.path.join(tardis.config.io_directories['processed'], \"figures\", \"ablation_afriat.h5ad\")\n",
    "ablation_data_path = os.path.join(tardis.config.io_directories['processed'], \"figures\",  \"ablation_afriat.pickle\")"
   ]
  },
  {
   "cell_type": "code",
   "execution_count": null,
   "id": "20b3ee51-9526-45e3-8a26-793e6961ce75",
   "metadata": {},
   "outputs": [],
   "source": [
    "# Load the data from the pickle file\n",
    "with open(ablation_data_path, 'rb') as file:\n",
    "    data_loaded = pickle.load(file)\n",
    "\n",
    "# Access your data\n",
    "n_leiden_df = data_loaded['n_leiden_df']\n",
    "latent_dict = data_loaded['latent_dict']\n",
    "reconst_r2_all = data_loaded['reconst_r2_all']\n",
    "reconst_r2_valid = data_loaded['reconst_r2_valid']\n",
    "mi_normalized = data_loaded['mi_normalized']\n",
    "max_mig_all = data_loaded['max_mig_all']\n",
    "max_mig_valid = data_loaded['max_mig_valid']\n",
    "\n",
    "adata = ad.read_h5ad(ablation_adata_path)"
   ]
  },
  {
   "cell_type": "code",
   "execution_count": null,
   "id": "d19f4a12-ea5b-4f3c-a334-cb8b98c392d1",
   "metadata": {},
   "outputs": [],
   "source": [
    "max_mig_valid"
   ]
  },
  {
   "cell_type": "code",
   "execution_count": null,
   "id": "1034929b-991f-41bd-96f2-7b0f79409347",
   "metadata": {},
   "outputs": [],
   "source": [
    "max_mig_all"
   ]
  },
  {
   "cell_type": "code",
   "execution_count": null,
   "id": "ff57826e-79f1-492c-8d34-b52f565c2a93",
   "metadata": {},
   "outputs": [],
   "source": [
    "n_leiden_df"
   ]
  },
  {
   "cell_type": "code",
   "execution_count": null,
   "id": "769d2c6d-d5b8-47ac-a465-b4e972d58216",
   "metadata": {},
   "outputs": [],
   "source": []
  },
  {
   "cell_type": "code",
   "execution_count": null,
   "id": "2a04515a-4a80-416c-97e0-5ff8bb900df1",
   "metadata": {},
   "outputs": [],
   "source": [
    "# a metric to calculate the number of clusters e.g. it should be 3 in sample status etc.\n",
    "# aws? knn etc?"
   ]
  },
  {
   "cell_type": "code",
   "execution_count": null,
   "id": "0efbc4fc-b3fc-4a3f-9e21-31bcf2c8d9a2",
   "metadata": {},
   "outputs": [],
   "source": []
  }
 ],
 "metadata": {
  "kernelspec": {
   "display_name": "Python 3 (ipykernel)",
   "language": "python",
   "name": "python3"
  },
  "language_info": {
   "codemirror_mode": {
    "name": "ipython",
    "version": 3
   },
   "file_extension": ".py",
   "mimetype": "text/x-python",
   "name": "python",
   "nbconvert_exporter": "python",
   "pygments_lexer": "ipython3",
   "version": "3.10.14"
  }
 },
 "nbformat": 4,
 "nbformat_minor": 5
}
