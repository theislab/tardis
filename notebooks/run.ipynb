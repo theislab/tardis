{
 "cells": [
  {
   "cell_type": "markdown",
   "metadata": {},
   "source": [
    "# Demo Run"
   ]
  },
  {
   "cell_type": "code",
   "execution_count": 1,
   "metadata": {},
   "outputs": [],
   "source": [
    "%load_ext autoreload\n",
    "%autoreload 2"
   ]
  },
  {
   "cell_type": "code",
   "execution_count": 2,
   "metadata": {},
   "outputs": [],
   "source": [
    "import os\n",
    "import sys\n",
    "import warnings\n",
    "import anndata as ad\n",
    "import scanpy as sc\n",
    "from pathlib import Path\n",
    "\n",
    "sys.path.append(str(Path(os.getcwd()).resolve().parents[0]))"
   ]
  },
  {
   "cell_type": "code",
   "execution_count": 3,
   "metadata": {},
   "outputs": [],
   "source": [
    "import tardis\n",
    "\n",
    "local_run = True\n",
    "if local_run:\n",
    "    tardis.config = tardis.config_local\n",
    "else:\n",
    "    tardis.config = tardis.config_server"
   ]
  },
  {
   "cell_type": "code",
   "execution_count": 4,
   "metadata": {},
   "outputs": [],
   "source": [
    "adata_file_path = os.path.join(tardis.config.io_directories[\"processed\"], \"dataset_subset_sample_status_1.h5ad\")\n",
    "assert os.path.isfile(adata_file_path), f\"File not already exist: `{adata_file_path}`\"\n",
    "metadata_of_interest = \"integration_sample_status\""
   ]
  },
  {
   "cell_type": "code",
   "execution_count": 5,
   "metadata": {},
   "outputs": [
    {
     "data": {
      "text/plain": [
       "AnnData object with n_obs × n_vars = 11279 × 2048\n",
       "    obs: 'sample_ID', 'organ', 'age', 'cell_type', 'sex', 'sex_inferred', 'concatenated_integration_covariates', 'integration_donor', 'integration_biological_unit', 'integration_sample_status', 'integration_library_platform_coarse'"
      ]
     },
     "execution_count": 5,
     "metadata": {},
     "output_type": "execute_result"
    }
   ],
   "source": [
    "adata = ad.read_h5ad(adata_file_path)\n",
    "adata"
   ]
  },
  {
   "cell_type": "markdown",
   "metadata": {},
   "source": [
    "## Training"
   ]
  },
  {
   "cell_type": "code",
   "execution_count": 6,
   "metadata": {},
   "outputs": [],
   "source": [
    "disentenglement_targets_configurations=[\n",
    "    {\n",
    "        \"obs_key\": \"integration_sample_status\",\n",
    "        \"n_reserved_latent\": 3,\n",
    "        \"counteractive_minibatch_generator\": {\n",
    "            \"method\": \"example_method\",\n",
    "            \"method_kwargs\": {\"param1\": \"value1\", \"param2\": True}\n",
    "        },\n",
    "        \"auxillary_losses\": {\n",
    "            \"loss_complete_latent\": {\"apply\": True, \"method\": \"mse\", \"weight\": 1.0, \"negative_sign\": True, \"method_kwargs\": {}},\n",
    "            \"loss_subset_latent\": {\"apply\": False, \"method\": \"cross_entropy\", \"weight\": 2.0, \"negative_sign\": True, \"method_kwargs\": {}},\n",
    "        },\n",
    "    },\n",
    "    {\n",
    "        \"obs_key\": \"sample_ID\",\n",
    "        \"n_reserved_latent\": 4,\n",
    "        \"counteractive_minibatch_generator\": {\n",
    "            \"method\": \"example_method\",\n",
    "            \"method_kwargs\": {\"param1\": \"value1\", \"param2\": True}\n",
    "        },\n",
    "        \"auxillary_losses\": {\n",
    "            \"loss_complete_latent\": {\"apply\": True, \"method\": \"mse\", \"weight\": 1.0, \"negative_sign\": True, \"method_kwargs\": {}},\n",
    "            \"loss_subset_latent\": {\"apply\": False, \"method\": \"cross_entropy\", \"weight\": 2.0, \"negative_sign\": True, \"method_kwargs\": {}},\n",
    "        },\n",
    "    },\n",
    "]\n",
    "model_params = dict(\n",
    "    n_hidden=512,\n",
    "    n_layers=3, \n",
    "    n_latent=20, \n",
    "    gene_likelihood=\"nb\",\n",
    "    dropout_rate = 0.1\n",
    ")\n",
    "train_params = dict(\n",
    "    max_epochs=3,\n",
    "    train_size=0.2\n",
    ")\n",
    "dataset_params = dict(\n",
    "    layer=None, \n",
    "    # labels_key=\"cell_type\",\n",
    "    batch_key=\"concatenated_integration_covariates\",\n",
    "    disentenglement_targets_configurations=None\n",
    ")"
   ]
  },
  {
   "cell_type": "code",
   "execution_count": 7,
   "metadata": {},
   "outputs": [],
   "source": [
    "tardis.MyModel.setup_anndata(adata, **dataset_params)"
   ]
  },
  {
   "cell_type": "code",
   "execution_count": 8,
   "metadata": {},
   "outputs": [],
   "source": [
    "# tardis.MyModel.setup_wandb(\n",
    "#     wandb_configurations=tardis.config_local.wandb,\n",
    "#     hyperparams=dict(\n",
    "#         model_params=model_params,\n",
    "#         train_params=train_params,\n",
    "#         dataset_params=dataset_params,\n",
    "#     )\n",
    "# )"
   ]
  },
  {
   "cell_type": "code",
   "execution_count": 9,
   "metadata": {},
   "outputs": [],
   "source": [
    "vae = tardis.MyModel(adata, **model_params)"
   ]
  },
  {
   "cell_type": "code",
   "execution_count": 10,
   "metadata": {},
   "outputs": [
    {
     "name": "stderr",
     "output_type": "stream",
     "text": [
      "GPU available: True (mps), used: False\n",
      "TPU available: False, using: 0 TPU cores\n",
      "IPU available: False, using: 0 IPUs\n",
      "HPU available: False, using: 0 HPUs\n",
      "/Users/kemalinecik/tools/apps/mamba/envs/tardis_env/lib/python3.10/site-packages/lightning/pytorch/trainer/setup.py:201: UserWarning: MPS available but not used. Set `accelerator` and `devices` using `Trainer(accelerator='mps', devices=1)`.\n",
      "  rank_zero_warn(\n"
     ]
    },
    {
     "name": "stdout",
     "output_type": "stream",
     "text": [
      "Epoch 3/3: 100%|██████████| 3/3 [00:01<00:00,  1.92it/s, v_num=1, train_loss_step=150, train_loss_epoch=151]"
     ]
    },
    {
     "name": "stderr",
     "output_type": "stream",
     "text": [
      "`Trainer.fit` stopped: `max_epochs=3` reached.\n"
     ]
    },
    {
     "name": "stdout",
     "output_type": "stream",
     "text": [
      "Epoch 3/3: 100%|██████████| 3/3 [00:01<00:00,  1.91it/s, v_num=1, train_loss_step=150, train_loss_epoch=151]\n"
     ]
    }
   ],
   "source": [
    "vae.train(**train_params)"
   ]
  },
  {
   "cell_type": "code",
   "execution_count": 11,
   "metadata": {},
   "outputs": [],
   "source": [
    "from tardis._disentenglementtargetmanager import DisentenglementTargetManager"
   ]
  },
  {
   "cell_type": "code",
   "execution_count": 12,
   "metadata": {},
   "outputs": [
    {
     "data": {
      "text/plain": [
       "[0, 1, 2, 3, 4, 5, 6, 7, 8, 9, 10, 11, 12, 13, 14, 15, 16, 17, 18, 19]"
      ]
     },
     "execution_count": 12,
     "metadata": {},
     "output_type": "execute_result"
    }
   ],
   "source": [
    "DisentenglementTargetManager.configurations.unreserved_latent_indices"
   ]
  },
  {
   "cell_type": "code",
   "execution_count": 13,
   "metadata": {},
   "outputs": [
    {
     "data": {
      "text/plain": [
       "DisentenglementTargetConfigurations(items=[], unreserved_latent_indices=[0, 1, 2, 3, 4, 5, 6, 7, 8, 9, 10, 11, 12, 13, 14, 15, 16, 17, 18, 19])"
      ]
     },
     "execution_count": 13,
     "metadata": {},
     "output_type": "execute_result"
    }
   ],
   "source": [
    "DisentenglementTargetManager.configurations"
   ]
  },
  {
   "cell_type": "code",
   "execution_count": 14,
   "metadata": {},
   "outputs": [
    {
     "data": {
      "text/plain": [
       "[]"
      ]
     },
     "execution_count": 14,
     "metadata": {},
     "output_type": "execute_result"
    }
   ],
   "source": [
    "[c.reserved_latent_indices for c in DisentenglementTargetManager.configurations.items]"
   ]
  },
  {
   "cell_type": "code",
   "execution_count": 15,
   "metadata": {},
   "outputs": [
    {
     "data": {
      "text/plain": [
       "[0, 1, 2, 3, 4, 5, 6, 7, 8, 9, 10, 11, 12, 13, 14, 15, 16, 17, 18, 19]"
      ]
     },
     "execution_count": 15,
     "metadata": {},
     "output_type": "execute_result"
    }
   ],
   "source": [
    "DisentenglementTargetManager.configurations.unreserved_latent_indices"
   ]
  },
  {
   "cell_type": "code",
   "execution_count": 16,
   "metadata": {},
   "outputs": [
    {
     "name": "stdout",
     "output_type": "stream",
     "text": [
      "forward = 54\n",
      "gglobal = 53\n",
      "training = 54\n",
      "validation = 0\n",
      "test = 0\n",
      "predict = 0\n"
     ]
    }
   ],
   "source": [
    "from tardis._mytrainingplan import TrainingStepLogger\n",
    "TrainingStepLogger.print_steps()"
   ]
  },
  {
   "cell_type": "markdown",
   "metadata": {},
   "source": [
    "## Visualization"
   ]
  },
  {
   "cell_type": "code",
   "execution_count": null,
   "metadata": {},
   "outputs": [],
   "source": [
    "adata.obsm[\"X_scVI\"] = vae.get_latent_representation()\n",
    "sc.pp.neighbors(adata, n_neighbors = 30, use_rep=\"X_scVI\")\n",
    "sc.tl.umap(adata, min_dist=0.2)"
   ]
  },
  {
   "cell_type": "code",
   "execution_count": null,
   "metadata": {},
   "outputs": [],
   "source": [
    "with warnings.catch_warnings():\n",
    "    warnings.simplefilter(\"ignore\")\n",
    "    sc.pl.umap(\n",
    "        adata, \n",
    "        color=[metadata_of_interest, \"cell_type\", \"concatenated_integration_covariates\"], \n",
    "        ncols=3,\n",
    "        frameon=False,\n",
    "        title=\"\",\n",
    "        legend_fontsize=\"xx-small\"\n",
    "    )"
   ]
  },
  {
   "cell_type": "markdown",
   "metadata": {},
   "source": [
    "# Playground"
   ]
  },
  {
   "cell_type": "code",
   "execution_count": null,
   "metadata": {},
   "outputs": [],
   "source": []
  }
 ],
 "metadata": {
  "kernelspec": {
   "display_name": "tardis_env",
   "language": "python",
   "name": "python3"
  },
  "language_info": {
   "codemirror_mode": {
    "name": "ipython",
    "version": 3
   },
   "file_extension": ".py",
   "mimetype": "text/x-python",
   "name": "python",
   "nbconvert_exporter": "python",
   "pygments_lexer": "ipython3",
   "version": "3.10.14"
  }
 },
 "nbformat": 4,
 "nbformat_minor": 2
}
