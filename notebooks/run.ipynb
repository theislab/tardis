{
 "cells": [
  {
   "cell_type": "markdown",
   "metadata": {},
   "source": [
    "# Demo Run"
   ]
  },
  {
   "cell_type": "code",
   "execution_count": null,
   "metadata": {},
   "outputs": [],
   "source": [
    "%load_ext autoreload\n",
    "%autoreload 2"
   ]
  },
  {
   "cell_type": "code",
   "execution_count": null,
   "metadata": {},
   "outputs": [],
   "source": [
    "import os\n",
    "import sys\n",
    "import warnings\n",
    "import anndata as ad\n",
    "import scanpy as sc\n",
    "from pathlib import Path\n",
    "\n",
    "sys.path.append(str(Path(os.getcwd()).resolve().parents[0]))"
   ]
  },
  {
   "cell_type": "code",
   "execution_count": null,
   "metadata": {},
   "outputs": [],
   "source": [
    "import tardis\n",
    "\n",
    "local_run = True\n",
    "if local_run:\n",
    "    tardis.config = tardis.config_local\n",
    "else:\n",
    "    tardis.config = tardis.config_server"
   ]
  },
  {
   "cell_type": "code",
   "execution_count": null,
   "metadata": {},
   "outputs": [],
   "source": [
    "adata_file_path = os.path.join(tardis.config.io_directories[\"processed\"], \"dataset_subset_sample_status_1.h5ad\")\n",
    "assert os.path.isfile(adata_file_path), f\"File not already exist: `{adata_file_path}`\"\n",
    "metadata_of_interest = \"integration_sample_status\""
   ]
  },
  {
   "cell_type": "code",
   "execution_count": null,
   "metadata": {},
   "outputs": [],
   "source": [
    "adata = ad.read_h5ad(adata_file_path)\n",
    "adata"
   ]
  },
  {
   "cell_type": "markdown",
   "metadata": {},
   "source": [
    "## Training"
   ]
  },
  {
   "cell_type": "code",
   "execution_count": null,
   "metadata": {},
   "outputs": [],
   "source": [
    "disentenglement_targets_configurations=[\n",
    "    dict(\n",
    "        key=\"integration_sample_status\"\n",
    "    ),\n",
    "    dict(\n",
    "        key=\"sample_ID\"\n",
    "    )\n",
    "]\n",
    "\n",
    "model_params = dict(\n",
    "    n_hidden=512,\n",
    "    n_layers=3, \n",
    "    n_latent=20, \n",
    "    gene_likelihood=\"nb\",\n",
    "    dropout_rate = 0.1\n",
    ")\n",
    "train_params = dict(\n",
    "    max_epochs=3,\n",
    "    train_size=0.2\n",
    ")\n",
    "dataset_params = dict(\n",
    "    layer=None, \n",
    "    # labels_key=\"cell_type\",\n",
    "    batch_key=\"concatenated_integration_covariates\",\n",
    "    disentenglement_targets_configurations=disentenglement_targets_configurations\n",
    ")"
   ]
  },
  {
   "cell_type": "code",
   "execution_count": null,
   "metadata": {},
   "outputs": [],
   "source": [
    "tardis.MyModel.setup_anndata(adata, **dataset_params)"
   ]
  },
  {
   "cell_type": "code",
   "execution_count": null,
   "metadata": {},
   "outputs": [],
   "source": [
    "# tardis.MyModel.setup_wandb(\n",
    "#     wandb_configurations=tardis.config_local.wandb,\n",
    "#     hyperparams=dict(\n",
    "#         model_params=model_params,\n",
    "#         train_params=train_params,\n",
    "#         dataset_params=dataset_params,\n",
    "#     )\n",
    "# )"
   ]
  },
  {
   "cell_type": "code",
   "execution_count": null,
   "metadata": {},
   "outputs": [],
   "source": [
    "vae = tardis.MyModel(adata, **model_params)"
   ]
  },
  {
   "cell_type": "code",
   "execution_count": null,
   "metadata": {},
   "outputs": [],
   "source": [
    "vae.train(**train_params)"
   ]
  },
  {
   "cell_type": "code",
   "execution_count": null,
   "metadata": {},
   "outputs": [],
   "source": [
    "from tardis._mydatasplitter import CounteractiveMinibatchGenerator\n",
    "CounteractiveMinibatchGenerator._disentenglement_targets_configurations"
   ]
  },
  {
   "cell_type": "code",
   "execution_count": null,
   "metadata": {},
   "outputs": [],
   "source": [
    "CounteractiveMinibatchGenerator._anndata_manager_state_registry"
   ]
  },
  {
   "cell_type": "code",
   "execution_count": null,
   "metadata": {},
   "outputs": [],
   "source": []
  },
  {
   "cell_type": "markdown",
   "metadata": {},
   "source": [
    "## Visualization"
   ]
  },
  {
   "cell_type": "code",
   "execution_count": null,
   "metadata": {},
   "outputs": [],
   "source": [
    "adata.obsm[\"X_scVI\"] = vae.get_latent_representation()\n",
    "sc.pp.neighbors(adata, n_neighbors = 30, use_rep=\"X_scVI\")\n",
    "sc.tl.umap(adata, min_dist=0.2)"
   ]
  },
  {
   "cell_type": "code",
   "execution_count": null,
   "metadata": {},
   "outputs": [],
   "source": [
    "with warnings.catch_warnings():\n",
    "    warnings.simplefilter(\"ignore\")\n",
    "    sc.pl.umap(\n",
    "        adata, \n",
    "        color=[metadata_of_interest, \"cell_type\", \"concatenated_integration_covariates\"], \n",
    "        ncols=3,\n",
    "        frameon=False,\n",
    "        title=\"\",\n",
    "        legend_fontsize=\"xx-small\"\n",
    "    )"
   ]
  },
  {
   "cell_type": "code",
   "execution_count": null,
   "metadata": {},
   "outputs": [],
   "source": []
  }
 ],
 "metadata": {
  "kernelspec": {
   "display_name": "tardis_env",
   "language": "python",
   "name": "python3"
  },
  "language_info": {
   "codemirror_mode": {
    "name": "ipython",
    "version": 3
   },
   "file_extension": ".py",
   "mimetype": "text/x-python",
   "name": "python",
   "nbconvert_exporter": "python",
   "pygments_lexer": "ipython3",
   "version": "3.10.14"
  }
 },
 "nbformat": 4,
 "nbformat_minor": 2
}
