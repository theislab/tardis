{
 "cells": [
  {
   "cell_type": "markdown",
   "metadata": {},
   "source": [
    "# Demo Run"
   ]
  },
  {
   "cell_type": "code",
   "execution_count": 1,
   "metadata": {},
   "outputs": [],
   "source": [
    "%load_ext autoreload\n",
    "%autoreload 2\n",
    "# this may cause DisentenglementTargetManager to reimported, losing all the data e.g. configurations."
   ]
  },
  {
   "cell_type": "code",
   "execution_count": 2,
   "metadata": {},
   "outputs": [],
   "source": [
    "%matplotlib inline\n",
    "%config InlineBackend.figure_format='retina'\n",
    "import matplotlib.pyplot as plt\n",
    "plt.rcParams[\"font.family\"] = \"DeJavu Serif\"\n",
    "plt.rcParams[\"font.serif\"] = [\"Times New Roman\"]"
   ]
  },
  {
   "cell_type": "code",
   "execution_count": 3,
   "metadata": {},
   "outputs": [
    {
     "name": "stdout",
     "output_type": "stream",
     "text": [
      "CUDA used: False\n"
     ]
    }
   ],
   "source": [
    "import os\n",
    "import sys\n",
    "import warnings\n",
    "import anndata as ad\n",
    "import scanpy as sc\n",
    "import torch\n",
    "from pathlib import Path\n",
    "\n",
    "sys.path.append(str(Path(os.getcwd()).resolve().parents[0]))\n",
    "\n",
    "import tardis\n",
    "\n",
    "local_run = True\n",
    "if local_run:\n",
    "    tardis.config = tardis.config_local\n",
    "else:\n",
    "    tardis.config = tardis.config_server\n",
    "print(f\"CUDA used: {torch.cuda.is_available()}\")"
   ]
  },
  {
   "cell_type": "code",
   "execution_count": 4,
   "metadata": {},
   "outputs": [],
   "source": [
    "adata_file_path = os.path.join(tardis.config.io_directories[\"processed\"], \"dataset_subset_sample_status_1.h5ad\")\n",
    "assert os.path.isfile(adata_file_path), f\"File not already exist: `{adata_file_path}`\"\n",
    "adata = ad.read_h5ad(adata_file_path)"
   ]
  },
  {
   "cell_type": "code",
   "execution_count": 12,
   "metadata": {},
   "outputs": [
    {
     "name": "stderr",
     "output_type": "stream",
     "text": [
      "GPU available: True (mps), used: False\n",
      "TPU available: False, using: 0 TPU cores\n",
      "IPU available: False, using: 0 IPUs\n",
      "HPU available: False, using: 0 HPUs\n",
      "/Users/kemalinecik/tools/apps/mamba/envs/tardis_env/lib/python3.10/site-packages/lightning/pytorch/trainer/setup.py:201: UserWarning: MPS available but not used. Set `accelerator` and `devices` using `Trainer(accelerator='mps', devices=1)`.\n",
      "  rank_zero_warn(\n",
      "/Users/kemalinecik/tools/apps/mamba/envs/tardis_env/lib/python3.10/site-packages/lightning/pytorch/loops/fit_loop.py:281: PossibleUserWarning: The number of training batches (9) is smaller than the logging interval Trainer(log_every_n_steps=10). Set a lower value for log_every_n_steps if you want to see logs for the training epoch.\n",
      "  rank_zero_warn(\n"
     ]
    },
    {
     "name": "stdout",
     "output_type": "stream",
     "text": [
      "Epoch 1/3:   0%|          | 0/3 [00:00<?, ?it/s]"
     ]
    },
    {
     "name": "stderr",
     "output_type": "stream",
     "text": [
      "/Users/kemalinecik/git_nosync/tardis/tardis/_counteractiveminibatchgenerator.py:60: UserWarning: Possible group definition indices are calculating for `integration_sample_status`.\n",
      "  possible_indices = CachedPossibleGroupDefinitionIndices.get(\n",
      "/Users/kemalinecik/git_nosync/tardis/tardis/_counteractiveminibatchgenerator.py:60: UserWarning: Number of elements in each group for `integration_sample_status`: 30,32,170,275,13,54,67,487\n",
      "  possible_indices = CachedPossibleGroupDefinitionIndices.get(\n",
      "/Users/kemalinecik/git_nosync/tardis/tardis/_counteractiveminibatchgenerator.py:60: UserWarning: Possible group definition indices are calculating for `sample_ID`.\n",
      "  possible_indices = CachedPossibleGroupDefinitionIndices.get(\n",
      "/Users/kemalinecik/git_nosync/tardis/tardis/_counteractiveminibatchgenerator.py:60: UserWarning: Number of elements in each group for `sample_ID`: 13,54,67,487,30,32,170,275\n",
      "  possible_indices = CachedPossibleGroupDefinitionIndices.get(\n"
     ]
    },
    {
     "name": "stdout",
     "output_type": "stream",
     "text": [
      "[0, 1, 2]\n",
      "[0, 1, 2]\n",
      "[3, 4, 5, 6, 7]\n",
      "[3, 4, 5, 6, 7]\n",
      "[0, 1, 2]\n",
      "[0, 1, 2]\n",
      "[3, 4, 5, 6, 7]\n",
      "[3, 4, 5, 6, 7]\n",
      "[0, 1, 2]\n",
      "[0, 1, 2]\n",
      "[3, 4, 5, 6, 7]\n",
      "[3, 4, 5, 6, 7]\n",
      "[0, 1, 2]\n",
      "[0, 1, 2]\n",
      "[3, 4, 5, 6, 7]\n",
      "[3, 4, 5, 6, 7]\n",
      "[0, 1, 2]\n",
      "[0, 1, 2]\n",
      "[3, 4, 5, 6, 7]\n",
      "[3, 4, 5, 6, 7]\n",
      "[0, 1, 2]\n",
      "[0, 1, 2]\n",
      "[3, 4, 5, 6, 7]\n",
      "[3, 4, 5, 6, 7]\n",
      "[0, 1, 2]\n",
      "[0, 1, 2]\n",
      "[3, 4, 5, 6, 7]\n",
      "[3, 4, 5, 6, 7]\n",
      "[0, 1, 2]\n",
      "[0, 1, 2]\n",
      "[3, 4, 5, 6, 7]\n",
      "[3, 4, 5, 6, 7]\n",
      "[0, 1, 2]\n",
      "[0, 1, 2]\n",
      "[3, 4, 5, 6, 7]\n",
      "[3, 4, 5, 6, 7]\n",
      "Epoch 2/3:  33%|███▎      | 1/3 [00:00<00:00,  2.27it/s, v_num=1, train_loss_step=204, train_loss_epoch=200][0, 1, 2]\n",
      "[0, 1, 2]\n",
      "[3, 4, 5, 6, 7]\n",
      "[3, 4, 5, 6, 7]\n",
      "[0, 1, 2]\n",
      "[0, 1, 2]\n",
      "[3, 4, 5, 6, 7]\n",
      "[3, 4, 5, 6, 7]\n",
      "[0, 1, 2]\n",
      "[0, 1, 2]\n",
      "[3, 4, 5, 6, 7]\n",
      "[3, 4, 5, 6, 7]\n",
      "[0, 1, 2]\n",
      "[0, 1, 2]\n",
      "[3, 4, 5, 6, 7]\n",
      "[3, 4, 5, 6, 7]\n",
      "[0, 1, 2]\n",
      "[0, 1, 2]\n",
      "[3, 4, 5, 6, 7]\n",
      "[3, 4, 5, 6, 7]\n",
      "[0, 1, 2]\n",
      "[0, 1, 2]\n",
      "[3, 4, 5, 6, 7]\n",
      "[3, 4, 5, 6, 7]\n",
      "[0, 1, 2]\n",
      "[0, 1, 2]\n",
      "[3, 4, 5, 6, 7]\n",
      "[3, 4, 5, 6, 7]\n",
      "[0, 1, 2]\n",
      "[0, 1, 2]\n",
      "[3, 4, 5, 6, 7]\n",
      "[3, 4, 5, 6, 7]\n",
      "[0, 1, 2]\n",
      "[0, 1, 2]\n",
      "[3, 4, 5, 6, 7]\n",
      "[3, 4, 5, 6, 7]\n",
      "Epoch 3/3:  67%|██████▋   | 2/3 [00:00<00:00,  2.79it/s, v_num=1, train_loss_step=156, train_loss_epoch=184][0, 1, 2]\n",
      "[0, 1, 2]\n",
      "[3, 4, 5, 6, 7]\n",
      "[3, 4, 5, 6, 7]\n",
      "[0, 1, 2]\n",
      "[0, 1, 2]\n",
      "[3, 4, 5, 6, 7]\n",
      "[3, 4, 5, 6, 7]\n",
      "[0, 1, 2]\n",
      "[0, 1, 2]\n",
      "[3, 4, 5, 6, 7]\n",
      "[3, 4, 5, 6, 7]\n",
      "[0, 1, 2]\n",
      "[0, 1, 2]\n",
      "[3, 4, 5, 6, 7]\n",
      "[3, 4, 5, 6, 7]\n",
      "[0, 1, 2]\n",
      "[0, 1, 2]\n",
      "[3, 4, 5, 6, 7]\n",
      "[3, 4, 5, 6, 7]\n",
      "[0, 1, 2]\n",
      "[0, 1, 2]\n",
      "[3, 4, 5, 6, 7]\n",
      "[3, 4, 5, 6, 7]\n",
      "[0, 1, 2]\n",
      "[0, 1, 2]\n",
      "[3, 4, 5, 6, 7]\n",
      "[3, 4, 5, 6, 7]\n",
      "[0, 1, 2]\n",
      "[0, 1, 2]\n",
      "[3, 4, 5, 6, 7]\n",
      "[3, 4, 5, 6, 7]\n",
      "[0, 1, 2]\n",
      "[0, 1, 2]\n",
      "[3, 4, 5, 6, 7]\n",
      "[3, 4, 5, 6, 7]\n",
      "Epoch 3/3: 100%|██████████| 3/3 [00:01<00:00,  3.01it/s, v_num=1, train_loss_step=173, train_loss_epoch=174]"
     ]
    },
    {
     "name": "stderr",
     "output_type": "stream",
     "text": [
      "`Trainer.fit` stopped: `max_epochs=3` reached.\n"
     ]
    },
    {
     "name": "stdout",
     "output_type": "stream",
     "text": [
      "Epoch 3/3: 100%|██████████| 3/3 [00:01<00:00,  2.87it/s, v_num=1, train_loss_step=173, train_loss_epoch=174]\n"
     ]
    }
   ],
   "source": [
    "disentenglement_targets_configurations=[\n",
    "    dict(\n",
    "        obs_key = \"integration_sample_status\",\n",
    "        n_reserved_latent = 3,\n",
    "        counteractive_minibatch_settings = dict(\n",
    "            method = \"random\",\n",
    "            method_kwargs = dict(\n",
    "                within_labels = True,\n",
    "                within_batch = True,\n",
    "                within_categorical_covs = [True, False],\n",
    "                within_other_groups = True,\n",
    "                seed = \"gglobal\",\n",
    "            )\n",
    "        ),\n",
    "        auxillary_losses = dict(\n",
    "            reserved_subset = dict(\n",
    "                apply = True, \n",
    "                method = \"wasserstein\", \n",
    "                weight = 12.0, \n",
    "                negative_sign = True, \n",
    "                method_kwargs = {}\n",
    "            ),\n",
    "            unreserved_subset = dict(\n",
    "                apply = False, \n",
    "                method = \"wasserstein\", \n",
    "                weight = 2.0, \n",
    "                negative_sign = True, \n",
    "                method_kwargs = {}\n",
    "            ),\n",
    "            complete_latent = dict(\n",
    "                apply = True, \n",
    "                method = \"wasserstein\", \n",
    "                weight = 11.0, \n",
    "                negative_sign = True, \n",
    "                method_kwargs = {}\n",
    "            ),\n",
    "        ),\n",
    "    ),\n",
    "    dict(\n",
    "        obs_key = \"sample_ID\",\n",
    "        n_reserved_latent = 5,\n",
    "        counteractive_minibatch_settings = dict(\n",
    "            method = \"random\",\n",
    "            method_kwargs = dict(\n",
    "                within_labels = True,\n",
    "                within_batch = True,\n",
    "                within_categorical_covs = [True, False],\n",
    "                within_other_groups = True,\n",
    "                seed = \"gglobal\",\n",
    "            )\n",
    "        ),\n",
    "        auxillary_losses = dict(\n",
    "            reserved_subset = dict(\n",
    "                apply = True, \n",
    "                method = \"wasserstein\", \n",
    "                weight = 91.0, \n",
    "                negative_sign = True, \n",
    "                method_kwargs = {}\n",
    "            ),\n",
    "            unreserved_subset = dict(\n",
    "                apply = False, \n",
    "                method = \"wasserstein\", \n",
    "                weight = 92.0, \n",
    "                negative_sign = True, \n",
    "                method_kwargs = {}\n",
    "            ),\n",
    "            complete_latent = dict(\n",
    "                apply = True, \n",
    "                method = \"wasserstein\", \n",
    "                weight = 93.0, \n",
    "                negative_sign = True, \n",
    "                method_kwargs = {}\n",
    "            ),\n",
    "        ),\n",
    "    )\n",
    "]\n",
    "\n",
    "model_params = dict(\n",
    "    n_hidden=256,\n",
    "    n_layers=3, \n",
    "    n_latent=20, \n",
    "    gene_likelihood=\"nb\",\n",
    "    dropout_rate = 0.1\n",
    ")\n",
    "train_params = dict(\n",
    "    max_epochs=3,\n",
    "    train_size=0.1\n",
    ")\n",
    "dataset_params = dict(\n",
    "    layer=None, \n",
    "    labels_key=\"cell_type\",\n",
    "    batch_key=\"concatenated_integration_covariates\",\n",
    "    categorical_covariate_keys=[\"sex\", \"age\"],\n",
    "    disentenglement_targets_configurations=disentenglement_targets_configurations\n",
    ")\n",
    "\n",
    "tardis.MyModel.setup_anndata(adata, **dataset_params)\n",
    "\n",
    "# tardis.MyModel.setup_wandb(\n",
    "#     wandb_configurations=tardis.config.wandb,\n",
    "#     hyperparams=dict(\n",
    "#         model_params=model_params,\n",
    "#         train_params=train_params,\n",
    "#         dataset_params=dataset_params,\n",
    "#     )\n",
    "# )\n",
    "\n",
    "vae = tardis.MyModel(adata, **model_params)\n",
    "vae.train(**train_params)"
   ]
  },
  {
   "cell_type": "markdown",
   "metadata": {},
   "source": [
    "__Note: Debugging takes significant amount of time__"
   ]
  },
  {
   "cell_type": "code",
   "execution_count": 6,
   "metadata": {},
   "outputs": [],
   "source": [
    "# vae.plot_training_history(\n",
    "#     ignore_first=0, \n",
    "#     metrics_name=[\"reconstruction_loss\", \"kl_local\", \"elbo\"],\n",
    "#     metrics_title=[\"Reconstruction Loss\", \"KL Loss\", \"ELBO\"]\n",
    "# )"
   ]
  },
  {
   "cell_type": "code",
   "execution_count": 7,
   "metadata": {},
   "outputs": [],
   "source": [
    "# vae.plot_latent_kde(\n",
    "#     adata_obs=adata.obs,\n",
    "#     target_obs_key=\"sample_ID\",\n",
    "#     latent_representation=vae.get_latent_representation(),\n",
    "#     latent_dim_of_interest=None\n",
    "# )"
   ]
  },
  {
   "cell_type": "code",
   "execution_count": 8,
   "metadata": {},
   "outputs": [],
   "source": [
    "# vae.plot_training_history(\n",
    "#     ignore_first=0, \n",
    "#     metrics_name=[\n",
    "#         \"integration_sample_status|complete_latent\", \n",
    "#         \"integration_sample_status|reserved_subset\", \n",
    "#         \"integration_sample_status|unreserved_subset\"\n",
    "#     ],\n",
    "# )"
   ]
  },
  {
   "cell_type": "markdown",
   "metadata": {},
   "source": [
    "# Playground"
   ]
  },
  {
   "cell_type": "code",
   "execution_count": 9,
   "metadata": {},
   "outputs": [
    {
     "data": {
      "text/plain": [
       "dict_keys(['train_loss_epoch', 'elbo_train', 'reconstruction_loss_train', 'kl_local_train', 'kl_global_train', 'integration_sample_status|complete_latent_train', 'integration_sample_status|reserved_subset_train', 'integration_sample_status|unreserved_subset_train', 'sample_ID|complete_latent_train', 'sample_ID|reserved_subset_train', 'sample_ID|unreserved_subset_train', 'kl_weight', 'train_loss_step'])"
      ]
     },
     "execution_count": 9,
     "metadata": {},
     "output_type": "execute_result"
    }
   ],
   "source": []
  },
  {
   "cell_type": "code",
   "execution_count": null,
   "metadata": {},
   "outputs": [],
   "source": [
    "vae.history."
   ]
  },
  {
   "cell_type": "code",
   "execution_count": 6,
   "metadata": {},
   "outputs": [],
   "source": [
    "from tardis._disentenglementtargetmanager import DisentenglementTargetManager"
   ]
  },
  {
   "cell_type": "code",
   "execution_count": 11,
   "metadata": {},
   "outputs": [
    {
     "data": {
      "text/plain": [
       "[0, 1, 2, 8, 9, 10, 11, 12, 13, 14, 15, 16, 17, 18, 19]"
      ]
     },
     "execution_count": 11,
     "metadata": {},
     "output_type": "execute_result"
    }
   ],
   "source": [
    "DisentenglementTargetManager.configurations.items[1].unreserved_latent_indices"
   ]
  },
  {
   "cell_type": "code",
   "execution_count": 13,
   "metadata": {},
   "outputs": [
    {
     "data": {
      "text/plain": [
       "[0, 1, 2]"
      ]
     },
     "execution_count": 13,
     "metadata": {},
     "output_type": "execute_result"
    }
   ],
   "source": [
    "DisentenglementTargetManager.configurations.items[0].reserved_latent_indices"
   ]
  },
  {
   "cell_type": "code",
   "execution_count": null,
   "metadata": {},
   "outputs": [],
   "source": []
  },
  {
   "cell_type": "markdown",
   "metadata": {},
   "source": [
    "## Visualization"
   ]
  },
  {
   "cell_type": "code",
   "execution_count": null,
   "metadata": {},
   "outputs": [],
   "source": [
    "# adata.obsm[\"X_scVI\"] = vae.get_latent_representation()\n",
    "# sc.pp.neighbors(adata, n_neighbors = 30, use_rep=\"X_scVI\")\n",
    "# sc.tl.umap(adata, min_dist=0.2)"
   ]
  },
  {
   "cell_type": "code",
   "execution_count": null,
   "metadata": {},
   "outputs": [],
   "source": [
    "# with warnings.catch_warnings():\n",
    "#     warnings.simplefilter(\"ignore\")\n",
    "#     sc.pl.umap(\n",
    "#         adata, \n",
    "#         color=[\"integration_sample_status\", \"sample_ID\", \"cell_type\", \"concatenated_integration_covariates\"], \n",
    "#         ncols=3,\n",
    "#         frameon=False,\n",
    "#         title=\"\",\n",
    "#         legend_fontsize=\"xx-small\"\n",
    "#     )"
   ]
  }
 ],
 "metadata": {
  "kernelspec": {
   "display_name": "Python 3 (ipykernel)",
   "language": "python",
   "name": "python3"
  },
  "language_info": {
   "codemirror_mode": {
    "name": "ipython",
    "version": 3
   },
   "file_extension": ".py",
   "mimetype": "text/x-python",
   "name": "python",
   "nbconvert_exporter": "python",
   "pygments_lexer": "ipython3",
   "version": "3.10.14"
  }
 },
 "nbformat": 4,
 "nbformat_minor": 4
}
