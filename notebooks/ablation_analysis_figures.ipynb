{
 "cells": [
  {
   "cell_type": "markdown",
   "id": "cbb016da-7b0d-4e2e-a2e9-dec1a675aec9",
   "metadata": {},
   "source": [
    "## Ablation Analysis"
   ]
  },
  {
   "cell_type": "code",
   "execution_count": 1,
   "id": "91395c5f-9818-4b49-86ab-5c2b2504bf44",
   "metadata": {},
   "outputs": [],
   "source": [
    "import warnings\n",
    "import os\n",
    "import sys\n",
    "import gc\n",
    "import warnings"
   ]
  },
  {
   "cell_type": "code",
   "execution_count": 2,
   "id": "552cf189-95cf-4f91-b5a2-5e4f767843aa",
   "metadata": {},
   "outputs": [],
   "source": [
    "import anndata as ad\n",
    "import scanpy as sc\n",
    "import copy\n",
    "import torch\n",
    "from pathlib import Path\n",
    "import networkx as nx\n",
    "from sklearn.neighbors import kneighbors_graph\n",
    "import numpy as np\n",
    "import scanpy as sc\n",
    "import pandas as pd\n",
    "import numpy as np\n",
    "import scipy.stats\n",
    "import tqdm\n",
    "\n",
    "sys.path.append(\"/home/icb/kemal.inecik/work/codes/tardis\")\n",
    "import tardis\n",
    "from tardis._utils.functions import create_random_mask\n",
    "import sklearn\n",
    "import numpy as np\n",
    "from sklearn.cluster import KMeans\n",
    "from sklearn import metrics\n",
    "tardis.config = tardis.config_server"
   ]
  },
  {
   "cell_type": "code",
   "execution_count": 3,
   "id": "31634917-88cf-4d2d-b024-a58d1ad39796",
   "metadata": {},
   "outputs": [
    {
     "data": {
      "text/plain": [
       "True"
      ]
     },
     "execution_count": 3,
     "metadata": {},
     "output_type": "execute_result"
    }
   ],
   "source": [
    "torch.cuda.is_available()"
   ]
  },
  {
   "cell_type": "code",
   "execution_count": 4,
   "id": "da277c34-a505-46b6-8a98-78e6d0fd1766",
   "metadata": {},
   "outputs": [],
   "source": [
    "%matplotlib inline\n",
    "%config InlineBackend.figure_format='retina'\n",
    "import matplotlib.pyplot as plt\n",
    "import seaborn as sns\n",
    "\n",
    "import pickle\n",
    "_rcparams_path = \"/home/icb/kemal.inecik/work/codes/tardis/training/local/figures/rcparams.pickle\"\n",
    "with open(_rcparams_path, 'rb') as file:\n",
    "    _rcparams = pickle.load(file)\n",
    "plt.rcParams.update(_rcparams)"
   ]
  },
  {
   "cell_type": "code",
   "execution_count": 5,
   "id": "1364cf05-b19c-4d08-ae35-f81e9c1fbdb1",
   "metadata": {},
   "outputs": [],
   "source": [
    "ablation_adata_path = os.path.join(tardis.config.io_directories['figures'], \"ablation_afriat.h5ad\")\n",
    "ablation_data_path = os.path.join(tardis.config.io_directories['figures'], \"ablation_afriat.pickle\")"
   ]
  },
  {
   "cell_type": "code",
   "execution_count": 8,
   "id": "20b3ee51-9526-45e3-8a26-793e6961ce75",
   "metadata": {},
   "outputs": [],
   "source": [
    "# Load the data from the pickle file\n",
    "with open(ablation_data_path, 'rb') as file:\n",
    "    data_loaded = pickle.load(file)\n",
    "\n",
    "# Access your data\n",
    "n_leiden_df = data_loaded['n_leiden_df']\n",
    "latent_dict = data_loaded['latent_dict']\n",
    "reconst_r2_all = data_loaded['reconst_r2_all']\n",
    "reconst_r2_valid = data_loaded['reconst_r2_valid']\n",
    "mi_normalized = data_loaded['mi_normalized']\n",
    "max_mig_all = data_loaded['max_mig_all']\n",
    "max_mig_valid = data_loaded['max_mig_valid']\n",
    "\n",
    "adata = ad.read_h5ad(ablation_adata_path)"
   ]
  },
  {
   "cell_type": "code",
   "execution_count": 10,
   "id": "d19f4a12-ea5b-4f3c-a334-cb8b98c392d1",
   "metadata": {},
   "outputs": [
    {
     "data": {
      "text/plain": [
       "{0.0: 0.8583506330202505,\n",
       " 0.2: 0.8498139935860906,\n",
       " 0.6: 0.8390536713388382,\n",
       " 0.9: 0.8536516019679349,\n",
       " 0.91: 0.8005643443602674,\n",
       " 0.92: 0.7998798752617361,\n",
       " 0.93: 0.7278730959170586,\n",
       " 0.94: 0.796495055437099,\n",
       " 0.95: 0.7677566834682108,\n",
       " 0.96: 0.7288645187768626,\n",
       " 0.97: 0.6958833527351809,\n",
       " 0.98: 0.6888875243125874,\n",
       " 0.99: 0.622978087924154,\n",
       " 0.991: 0.6165318418068416,\n",
       " 0.992: 0.6309514400606709,\n",
       " 0.993: 0.5539609599907348,\n",
       " 0.994: 0.5662787223068028,\n",
       " 0.995: 0.5611022679779271,\n",
       " 0.996: 0.5088957628474783,\n",
       " 0.997: 0.5177442520083118,\n",
       " 0.998: 0.5236418560889778,\n",
       " 0.999: 0.3937502151886305}"
      ]
     },
     "execution_count": 10,
     "metadata": {},
     "output_type": "execute_result"
    }
   ],
   "source": [
    "max_mig_valid"
   ]
  },
  {
   "cell_type": "code",
   "execution_count": 11,
   "id": "1034929b-991f-41bd-96f2-7b0f79409347",
   "metadata": {},
   "outputs": [
    {
     "data": {
      "text/plain": [
       "{0.0: 0.9085542528113232,\n",
       " 0.2: 0.9026224972754525,\n",
       " 0.6: 0.890945177013339,\n",
       " 0.9: 0.8985566566516067,\n",
       " 0.91: 0.8558187062952648,\n",
       " 0.92: 0.8477054255148856,\n",
       " 0.93: 0.7717802484466952,\n",
       " 0.94: 0.8480793516177005,\n",
       " 0.95: 0.8170006857946476,\n",
       " 0.96: 0.7708420943325404,\n",
       " 0.97: 0.7453094250157081,\n",
       " 0.98: 0.7252125649105817,\n",
       " 0.99: 0.6619871180223637,\n",
       " 0.991: 0.6540507871876935,\n",
       " 0.992: 0.6606040463205567,\n",
       " 0.993: 0.5772326459962316,\n",
       " 0.994: 0.5997112771607624,\n",
       " 0.995: 0.5854789746975182,\n",
       " 0.996: 0.527471543133228,\n",
       " 0.997: 0.5323268714590578,\n",
       " 0.998: 0.5444007236285143,\n",
       " 0.999: 0.4019187326460698}"
      ]
     },
     "execution_count": 11,
     "metadata": {},
     "output_type": "execute_result"
    }
   ],
   "source": [
    "max_mig_all"
   ]
  },
  {
   "cell_type": "code",
   "execution_count": null,
   "id": "ff57826e-79f1-492c-8d34-b52f565c2a93",
   "metadata": {},
   "outputs": [],
   "source": []
  },
  {
   "cell_type": "code",
   "execution_count": null,
   "id": "769d2c6d-d5b8-47ac-a465-b4e972d58216",
   "metadata": {},
   "outputs": [],
   "source": []
  },
  {
   "cell_type": "code",
   "execution_count": null,
   "id": "d51f4c25-331f-457f-97b4-8e01a0ae5f1a",
   "metadata": {},
   "outputs": [],
   "source": [
    "# sns.lineplot(data=n_leiden_df, hue=\"ratio_ablation\", y=\"n_leiden\", x=\"resolution\")\n",
    "# plt.yscale(\"log\")"
   ]
  },
  {
   "cell_type": "code",
   "execution_count": null,
   "id": "2a04515a-4a80-416c-97e0-5ff8bb900df1",
   "metadata": {},
   "outputs": [],
   "source": [
    "# a metric to calculate the number of clusters e.g. it should be 3 in sample status etc.\n",
    "# aws? knn etc?"
   ]
  },
  {
   "cell_type": "code",
   "execution_count": null,
   "id": "0efbc4fc-b3fc-4a3f-9e21-31bcf2c8d9a2",
   "metadata": {},
   "outputs": [],
   "source": []
  }
 ],
 "metadata": {
  "kernelspec": {
   "display_name": "Python 3 (ipykernel)",
   "language": "python",
   "name": "python3"
  },
  "language_info": {
   "codemirror_mode": {
    "name": "ipython",
    "version": 3
   },
   "file_extension": ".py",
   "mimetype": "text/x-python",
   "name": "python",
   "nbconvert_exporter": "python",
   "pygments_lexer": "ipython3",
   "version": "3.10.14"
  }
 },
 "nbformat": 4,
 "nbformat_minor": 5
}
