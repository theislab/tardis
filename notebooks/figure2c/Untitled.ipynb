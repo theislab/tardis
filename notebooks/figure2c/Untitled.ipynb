{
 "cells": [
  {
   "cell_type": "code",
   "execution_count": 1,
   "id": "31b382a1-7c7e-4d18-b96c-b45d8235902e",
   "metadata": {},
   "outputs": [],
   "source": [
    "import copy\n",
    "import gc\n",
    "import os\n",
    "import sys\n",
    "import warnings"
   ]
  },
  {
   "cell_type": "code",
   "execution_count": 2,
   "id": "2287554f-5ff2-41ff-b4be-9434913735ff",
   "metadata": {},
   "outputs": [],
   "source": [
    "\n",
    "import importlib\n",
    "from pathlib import Path\n",
    "\n",
    "import anndata as ad\n",
    "import numpy as np\n",
    "import pandas as pd\n",
    "import scanpy as sc\n",
    "from harmony import harmonize\n"
   ]
  },
  {
   "cell_type": "code",
   "execution_count": 6,
   "id": "cda584ba-e494-40bf-9bb6-0ec585cae358",
   "metadata": {},
   "outputs": [],
   "source": [
    "adata_dir = '/lustre/groups/ml01/workspace/kemal.inecik/tardis_data/processed/dataset_complete_Miller.h5ad'\n",
    "adata = ad.read_h5ad(adata_dir)"
   ]
  },
  {
   "cell_type": "code",
   "execution_count": 8,
   "id": "8bc4fce6-0c93-46c1-84e7-357836284710",
   "metadata": {},
   "outputs": [],
   "source": [
    "sc.pp.normalize_total(adata, target_sum=1e6)\n",
    "sc.pp.log1p(adata)\n",
    "sc.pp.pca(adata)"
   ]
  },
  {
   "cell_type": "code",
   "execution_count": 9,
   "id": "6c8be8a2-7300-4d53-8b0c-3f1a311631dd",
   "metadata": {},
   "outputs": [
    {
     "name": "stdout",
     "output_type": "stream",
     "text": [
      "\tInitialization is completed.\n",
      "\tCompleted 1 / 10 iteration(s).\n",
      "\tCompleted 2 / 10 iteration(s).\n",
      "\tCompleted 3 / 10 iteration(s).\n",
      "Reach convergence after 3 iteration(s).\n"
     ]
    }
   ],
   "source": [
    "harmony = harmonize(adata.obsm[\"X_pca\"], adata.obs, batch_key=\"concatenated_integration_covariates\")"
   ]
  },
  {
   "cell_type": "code",
   "execution_count": 10,
   "id": "e88e33e7-e96c-4175-9515-067298f08960",
   "metadata": {},
   "outputs": [],
   "source": [
    "x_pca = adata.obsm[\"X_pca\"].copy()"
   ]
  },
  {
   "cell_type": "code",
   "execution_count": 11,
   "id": "b196428f-7b18-42f8-b834-9595bb1c70f6",
   "metadata": {},
   "outputs": [
    {
     "data": {
      "text/plain": [
       "18367"
      ]
     },
     "execution_count": 11,
     "metadata": {},
     "output_type": "execute_result"
    }
   ],
   "source": [
    "del adata\n",
    "gc.collect()"
   ]
  },
  {
   "cell_type": "code",
   "execution_count": 14,
   "id": "d7f53567-971c-4bee-9078-15356cd91cdf",
   "metadata": {},
   "outputs": [],
   "source": [
    "adata_dir = '/lustre/groups/ml01/workspace/kemal.inecik/tardis_data/processed/dataset_complete_Miller.h5ad'\n",
    "adata = ad.read_h5ad(adata_dir)\n",
    "adata.obsm[\"X_pca\"] = x_pca.copy()\n",
    "adata.obsm[\"Unintegrated\"] = x_pca.copy()\n",
    "adata.obsm[\"harmony\"] = harmony"
   ]
  },
  {
   "cell_type": "code",
   "execution_count": 15,
   "id": "2415eca5-2f24-43f2-8934-fcb177a7d1c7",
   "metadata": {},
   "outputs": [
    {
     "data": {
      "text/plain": [
       "AnnData object with n_obs × n_vars = 7405 × 8192\n",
       "    obs: 'sample_ID', 'organ', 'age', 'cell_type', 'sex', 'sex_inferred', 'concatenated_integration_covariates', 'integration_donor', 'integration_biological_unit', 'integration_sample_status', 'integration_library_platform_coarse', 'n_genes'\n",
       "    uns: 'rank_genes_groups'\n",
       "    obsm: 'X_pca', 'Unintegrated', 'harmony'"
      ]
     },
     "execution_count": 15,
     "metadata": {},
     "output_type": "execute_result"
    }
   ],
   "source": [
    "adata"
   ]
  },
  {
   "cell_type": "code",
   "execution_count": null,
   "id": "4c9f0976-4c53-4a1d-b7c0-7a5748402d9e",
   "metadata": {},
   "outputs": [],
   "source": [
    "# adata.write_h5ad(adata_dir)"
   ]
  }
 ],
 "metadata": {
  "kernelspec": {
   "display_name": "Python 3 (ipykernel)",
   "language": "python",
   "name": "python3"
  },
  "language_info": {
   "codemirror_mode": {
    "name": "ipython",
    "version": 3
   },
   "file_extension": ".py",
   "mimetype": "text/x-python",
   "name": "python",
   "nbconvert_exporter": "python",
   "pygments_lexer": "ipython3",
   "version": "3.10.14"
  }
 },
 "nbformat": 4,
 "nbformat_minor": 5
}
