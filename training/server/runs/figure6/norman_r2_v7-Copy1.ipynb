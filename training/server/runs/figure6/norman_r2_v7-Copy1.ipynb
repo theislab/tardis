{
 "cells": [
  {
   "cell_type": "markdown",
   "metadata": {},
   "source": [
    "# Norman"
   ]
  },
  {
   "cell_type": "code",
   "execution_count": null,
   "metadata": {},
   "outputs": [],
   "source": [
    "import warnings\n",
    "import os\n",
    "import sys\n",
    "import gc\n",
    "import warnings"
   ]
  },
  {
   "cell_type": "code",
   "execution_count": null,
   "metadata": {},
   "outputs": [],
   "source": [
    "import anndata as ad\n",
    "import scanpy as sc\n",
    "import copy\n",
    "import torch\n",
    "from pathlib import Path\n",
    "import networkx as nx\n",
    "from sklearn.neighbors import kneighbors_graph\n",
    "import rapids_singlecell as rsc\n",
    "import numpy as np\n",
    "import scanpy as sc\n",
    "import pandas as pd\n",
    "import numpy as np\n",
    "import scipy.stats\n",
    "\n",
    "sys.path.append(\"/home/icb/kemal.inecik/work/codes/tardis\")\n",
    "import tardis\n",
    "tardis.config = tardis.config_server\n",
    "\n",
    "print(f\"CUDA used: {torch.cuda.is_available()}\")"
   ]
  },
  {
   "cell_type": "code",
   "execution_count": null,
   "metadata": {},
   "outputs": [],
   "source": [
    "%matplotlib inline\n",
    "%config InlineBackend.figure_format='retina'\n",
    "import matplotlib.pyplot as plt\n",
    "import seaborn as sns\n",
    "\n",
    "import pickle\n",
    "_rcparams_path = \"/home/icb/kemal.inecik/work/codes/tardis/training/local/figures/rcparams.pickle\"\n",
    "with open(_rcparams_path, 'rb') as file:\n",
    "    _rcparams = pickle.load(file)\n",
    "plt.rcParams.update(_rcparams)"
   ]
  },
  {
   "cell_type": "code",
   "execution_count": null,
   "metadata": {},
   "outputs": [],
   "source": [
    "with warnings.catch_warnings():\n",
    "    warnings.simplefilter(\"ignore\")\n",
    "    adata_file_path = os.path.join(tardis.config.io_directories[\"processed\"], \"cpa_Norman2019_prep_new.h5ad\")\n",
    "    assert os.path.isfile(adata_file_path), f\"File not already exist: `{adata_file_path}`\"\n",
    "    adata = ad.read_h5ad(adata_file_path)\n",
    "    adata.X = adata.layers[\"counts\"].copy()\n",
    "    del adata.layers\n",
    "    gc.collect()\n",
    "adata"
   ]
  },
  {
   "cell_type": "markdown",
   "metadata": {},
   "source": [
    "## Train"
   ]
  },
  {
   "cell_type": "code",
   "execution_count": null,
   "metadata": {},
   "outputs": [],
   "source": [
    "warmup_epoch_range = [6, 72]\n",
    "\n",
    "counteractive_minibatch_settings = dict(\n",
    "    method = \"categorical_random\",\n",
    "    method_kwargs = dict(\n",
    "        within_labels = False,\n",
    "        within_batch = False,\n",
    "        within_categorical_covs = None,\n",
    "        seed = \"forward\",\n",
    "    )\n",
    ")\n",
    "\n",
    "disentenglement_targets_configurations=[\n",
    "    dict(\n",
    "        obs_key = \"condition\",\n",
    "        n_reserved_latent = 24,\n",
    "        counteractive_minibatch_settings = counteractive_minibatch_settings,\n",
    "        auxillary_losses = [\n",
    "            dict(\n",
    "                apply = True, \n",
    "                target_type=\"categorical\",\n",
    "                progress_bar = True,\n",
    "                weight = 480,\n",
    "                method = \"mse_z\", \n",
    "                latent_group = \"reserved\",\n",
    "                counteractive_example = \"negative\",\n",
    "                transformation = \"inverse\", \n",
    "                warmup_epoch_range=warmup_epoch_range,\n",
    "                method_kwargs = {}\n",
    "            ),\n",
    "            dict(\n",
    "                apply = True, \n",
    "                target_type=\"categorical\",\n",
    "                progress_bar = True,\n",
    "                weight = 30, \n",
    "                method = \"mse_z\", \n",
    "                latent_group = \"reserved\",\n",
    "                counteractive_example = \"positive\",\n",
    "                transformation = \"none\",\n",
    "                warmup_epoch_range=warmup_epoch_range,\n",
    "                method_kwargs = {}\n",
    "            ),\n",
    "        ]\n",
    "    ),\n",
    "]"
   ]
  },
  {
   "cell_type": "code",
   "execution_count": null,
   "metadata": {},
   "outputs": [
    {
     "name": "stdout",
     "output_type": "stream",
     "text": [
      "\r",
      "Epoch 1/1000:   0%|          | 1/1000 [00:20<5:34:32, 20.09s/it]"
     ]
    },
    {
     "name": "stdout",
     "output_type": "stream",
     "text": [
      "\r",
      "Epoch 1/1000:   0%|          | 1/1000 [00:20<5:34:32, 20.09s/it, v_num=ow_1, total_loss_train=1.45e+3, kl_local_train=149]"
     ]
    },
    {
     "name": "stdout",
     "output_type": "stream",
     "text": [
      "\r",
      "Epoch 2/1000:   0%|          | 1/1000 [00:20<5:34:32, 20.09s/it, v_num=ow_1, total_loss_train=1.45e+3, kl_local_train=149]"
     ]
    },
    {
     "name": "stdout",
     "output_type": "stream",
     "text": [
      "\r",
      "Epoch 2/1000:   0%|          | 2/1000 [00:29<3:45:07, 13.53s/it, v_num=ow_1, total_loss_train=1.45e+3, kl_local_train=149]"
     ]
    },
    {
     "name": "stdout",
     "output_type": "stream",
     "text": [
      "\r",
      "Epoch 2/1000:   0%|          | 2/1000 [00:29<3:45:07, 13.53s/it, v_num=ow_1, total_loss_train=1.3e+3, kl_local_train=63.8]"
     ]
    },
    {
     "name": "stdout",
     "output_type": "stream",
     "text": [
      "\r",
      "Epoch 3/1000:   0%|          | 2/1000 [00:29<3:45:07, 13.53s/it, v_num=ow_1, total_loss_train=1.3e+3, kl_local_train=63.8]"
     ]
    },
    {
     "name": "stdout",
     "output_type": "stream",
     "text": [
      "\r",
      "Epoch 3/1000:   0%|          | 3/1000 [00:37<3:08:34, 11.35s/it, v_num=ow_1, total_loss_train=1.3e+3, kl_local_train=63.8]"
     ]
    },
    {
     "name": "stdout",
     "output_type": "stream",
     "text": [
      "\r",
      "Epoch 3/1000:   0%|          | 3/1000 [00:37<3:08:34, 11.35s/it, v_num=ow_1, total_loss_train=1.29e+3, kl_local_train=4.84]"
     ]
    },
    {
     "name": "stdout",
     "output_type": "stream",
     "text": [
      "\r",
      "Epoch 4/1000:   0%|          | 3/1000 [00:37<3:08:34, 11.35s/it, v_num=ow_1, total_loss_train=1.29e+3, kl_local_train=4.84]"
     ]
    },
    {
     "name": "stdout",
     "output_type": "stream",
     "text": [
      "\r",
      "Epoch 4/1000:   0%|          | 4/1000 [00:46<2:51:23, 10.32s/it, v_num=ow_1, total_loss_train=1.29e+3, kl_local_train=4.84]"
     ]
    },
    {
     "name": "stdout",
     "output_type": "stream",
     "text": [
      "\r",
      "Epoch 4/1000:   0%|          | 4/1000 [00:46<2:51:23, 10.32s/it, v_num=ow_1, total_loss_train=1.28e+3, kl_local_train=22.3]"
     ]
    },
    {
     "name": "stdout",
     "output_type": "stream",
     "text": [
      "\r",
      "Epoch 5/1000:   0%|          | 4/1000 [00:46<2:51:23, 10.32s/it, v_num=ow_1, total_loss_train=1.28e+3, kl_local_train=22.3]"
     ]
    },
    {
     "name": "stdout",
     "output_type": "stream",
     "text": [
      "\r",
      "Epoch 5/1000:   0%|          | 5/1000 [00:55<2:41:48,  9.76s/it, v_num=ow_1, total_loss_train=1.28e+3, kl_local_train=22.3]"
     ]
    },
    {
     "name": "stdout",
     "output_type": "stream",
     "text": [
      "\r",
      "Epoch 5/1000:   0%|          | 5/1000 [00:55<2:41:48,  9.76s/it, v_num=ow_1, total_loss_train=1.26e+3, kl_local_train=36.8]"
     ]
    },
    {
     "name": "stdout",
     "output_type": "stream",
     "text": [
      "\r",
      "Epoch 6/1000:   0%|          | 5/1000 [00:55<2:41:48,  9.76s/it, v_num=ow_1, total_loss_train=1.26e+3, kl_local_train=36.8]"
     ]
    },
    {
     "name": "stdout",
     "output_type": "stream",
     "text": [
      "\r",
      "Epoch 6/1000:   1%|          | 6/1000 [01:03<2:32:01,  9.18s/it, v_num=ow_1, total_loss_train=1.26e+3, kl_local_train=36.8]"
     ]
    },
    {
     "name": "stdout",
     "output_type": "stream",
     "text": [
      "\r",
      "Epoch 6/1000:   1%|          | 6/1000 [01:03<2:32:01,  9.18s/it, v_num=ow_1, total_loss_train=1.24e+3, kl_local_train=39.5]"
     ]
    },
    {
     "name": "stdout",
     "output_type": "stream",
     "text": [
      "\r",
      "Epoch 7/1000:   1%|          | 6/1000 [01:03<2:32:01,  9.18s/it, v_num=ow_1, total_loss_train=1.24e+3, kl_local_train=39.5]"
     ]
    },
    {
     "name": "stdout",
     "output_type": "stream",
     "text": [
      "\r",
      "Epoch 7/1000:   1%|          | 7/1000 [01:12<2:29:06,  9.01s/it, v_num=ow_1, total_loss_train=1.24e+3, kl_local_train=39.5]"
     ]
    },
    {
     "name": "stdout",
     "output_type": "stream",
     "text": [
      "\r",
      "Epoch 7/1000:   1%|          | 7/1000 [01:12<2:29:06,  9.01s/it, v_num=ow_1, total_loss_train=1.23e+3, kl_local_train=38]  "
     ]
    },
    {
     "name": "stdout",
     "output_type": "stream",
     "text": [
      "\r",
      "Epoch 8/1000:   1%|          | 7/1000 [01:12<2:29:06,  9.01s/it, v_num=ow_1, total_loss_train=1.23e+3, kl_local_train=38]"
     ]
    },
    {
     "name": "stdout",
     "output_type": "stream",
     "text": [
      "\r",
      "Epoch 8/1000:   1%|          | 8/1000 [01:20<2:27:25,  8.92s/it, v_num=ow_1, total_loss_train=1.23e+3, kl_local_train=38]"
     ]
    },
    {
     "name": "stdout",
     "output_type": "stream",
     "text": [
      "\r",
      "Epoch 8/1000:   1%|          | 8/1000 [01:20<2:27:25,  8.92s/it, v_num=ow_1, total_loss_train=1.22e+3, kl_local_train=44.8]"
     ]
    },
    {
     "name": "stdout",
     "output_type": "stream",
     "text": [
      "\r",
      "Epoch 9/1000:   1%|          | 8/1000 [01:20<2:27:25,  8.92s/it, v_num=ow_1, total_loss_train=1.22e+3, kl_local_train=44.8]"
     ]
    },
    {
     "name": "stdout",
     "output_type": "stream",
     "text": [
      "\r",
      "Epoch 9/1000:   1%|          | 9/1000 [01:28<2:22:44,  8.64s/it, v_num=ow_1, total_loss_train=1.22e+3, kl_local_train=44.8]"
     ]
    },
    {
     "name": "stdout",
     "output_type": "stream",
     "text": [
      "\r",
      "Epoch 9/1000:   1%|          | 9/1000 [01:28<2:22:44,  8.64s/it, v_num=ow_1, total_loss_train=1.21e+3, kl_local_train=42.1]"
     ]
    },
    {
     "name": "stdout",
     "output_type": "stream",
     "text": [
      "\r",
      "Epoch 10/1000:   1%|          | 9/1000 [01:28<2:22:44,  8.64s/it, v_num=ow_1, total_loss_train=1.21e+3, kl_local_train=42.1]"
     ]
    },
    {
     "name": "stdout",
     "output_type": "stream",
     "text": [
      "\r",
      "Epoch 10/1000:   1%|          | 10/1000 [01:36<2:19:20,  8.45s/it, v_num=ow_1, total_loss_train=1.21e+3, kl_local_train=42.1]"
     ]
    },
    {
     "name": "stdout",
     "output_type": "stream",
     "text": [
      "\r",
      "Epoch 10/1000:   1%|          | 10/1000 [01:36<2:19:20,  8.45s/it, v_num=ow_1, total_loss_train=1.2e+3, kl_local_train=41.8] "
     ]
    },
    {
     "name": "stdout",
     "output_type": "stream",
     "text": [
      "\r",
      "Epoch 11/1000:   1%|          | 10/1000 [01:36<2:19:20,  8.45s/it, v_num=ow_1, total_loss_train=1.2e+3, kl_local_train=41.8]"
     ]
    },
    {
     "name": "stdout",
     "output_type": "stream",
     "text": [
      "\r",
      "Epoch 11/1000:   1%|          | 11/1000 [01:44<2:17:00,  8.31s/it, v_num=ow_1, total_loss_train=1.2e+3, kl_local_train=41.8]"
     ]
    },
    {
     "name": "stdout",
     "output_type": "stream",
     "text": [
      "\r",
      "Epoch 11/1000:   1%|          | 11/1000 [01:44<2:17:00,  8.31s/it, v_num=ow_1, total_loss_train=1.19e+3, kl_local_train=41.6]"
     ]
    },
    {
     "name": "stdout",
     "output_type": "stream",
     "text": [
      "\r",
      "Epoch 12/1000:   1%|          | 11/1000 [01:44<2:17:00,  8.31s/it, v_num=ow_1, total_loss_train=1.19e+3, kl_local_train=41.6]"
     ]
    },
    {
     "name": "stdout",
     "output_type": "stream",
     "text": [
      "\r",
      "Epoch 12/1000:   1%|          | 12/1000 [01:53<2:18:49,  8.43s/it, v_num=ow_1, total_loss_train=1.19e+3, kl_local_train=41.6]"
     ]
    },
    {
     "name": "stdout",
     "output_type": "stream",
     "text": [
      "\r",
      "Epoch 12/1000:   1%|          | 12/1000 [01:53<2:18:49,  8.43s/it, v_num=ow_1, total_loss_train=1.19e+3, kl_local_train=41.6]"
     ]
    },
    {
     "name": "stdout",
     "output_type": "stream",
     "text": [
      "\r",
      "Epoch 13/1000:   1%|          | 12/1000 [01:53<2:18:49,  8.43s/it, v_num=ow_1, total_loss_train=1.19e+3, kl_local_train=41.6]"
     ]
    },
    {
     "name": "stdout",
     "output_type": "stream",
     "text": [
      "\r",
      "Epoch 13/1000:   1%|▏         | 13/1000 [02:01<2:16:44,  8.31s/it, v_num=ow_1, total_loss_train=1.19e+3, kl_local_train=41.6]"
     ]
    },
    {
     "name": "stdout",
     "output_type": "stream",
     "text": [
      "\r",
      "Epoch 13/1000:   1%|▏         | 13/1000 [02:01<2:16:44,  8.31s/it, v_num=ow_1, total_loss_train=1.18e+3, kl_local_train=42.6]"
     ]
    },
    {
     "name": "stdout",
     "output_type": "stream",
     "text": [
      "\r",
      "Epoch 14/1000:   1%|▏         | 13/1000 [02:01<2:16:44,  8.31s/it, v_num=ow_1, total_loss_train=1.18e+3, kl_local_train=42.6]"
     ]
    },
    {
     "name": "stdout",
     "output_type": "stream",
     "text": [
      "\r",
      "Epoch 14/1000:   1%|▏         | 14/1000 [02:10<2:17:42,  8.38s/it, v_num=ow_1, total_loss_train=1.18e+3, kl_local_train=42.6]"
     ]
    },
    {
     "name": "stdout",
     "output_type": "stream",
     "text": [
      "\r",
      "Epoch 14/1000:   1%|▏         | 14/1000 [02:10<2:17:42,  8.38s/it, v_num=ow_1, total_loss_train=1.19e+3, kl_local_train=44.2]"
     ]
    },
    {
     "name": "stdout",
     "output_type": "stream",
     "text": [
      "\r",
      "Epoch 15/1000:   1%|▏         | 14/1000 [02:10<2:17:42,  8.38s/it, v_num=ow_1, total_loss_train=1.19e+3, kl_local_train=44.2]"
     ]
    },
    {
     "name": "stdout",
     "output_type": "stream",
     "text": [
      "\r",
      "Epoch 15/1000:   2%|▏         | 15/1000 [02:18<2:19:05,  8.47s/it, v_num=ow_1, total_loss_train=1.19e+3, kl_local_train=44.2]"
     ]
    },
    {
     "name": "stdout",
     "output_type": "stream",
     "text": [
      "\r",
      "Epoch 15/1000:   2%|▏         | 15/1000 [02:18<2:19:05,  8.47s/it, v_num=ow_1, total_loss_train=1.19e+3, kl_local_train=47.4]"
     ]
    },
    {
     "name": "stdout",
     "output_type": "stream",
     "text": [
      "\r",
      "Epoch 16/1000:   2%|▏         | 15/1000 [02:18<2:19:05,  8.47s/it, v_num=ow_1, total_loss_train=1.19e+3, kl_local_train=47.4]"
     ]
    },
    {
     "name": "stdout",
     "output_type": "stream",
     "text": [
      "\r",
      "Epoch 16/1000:   2%|▏         | 16/1000 [02:27<2:20:00,  8.54s/it, v_num=ow_1, total_loss_train=1.19e+3, kl_local_train=47.4]"
     ]
    },
    {
     "name": "stdout",
     "output_type": "stream",
     "text": [
      "\r",
      "Epoch 16/1000:   2%|▏         | 16/1000 [02:27<2:20:00,  8.54s/it, v_num=ow_1, total_loss_train=1.2e+3, kl_local_train=49.8] "
     ]
    },
    {
     "name": "stdout",
     "output_type": "stream",
     "text": [
      "\r",
      "Epoch 17/1000:   2%|▏         | 16/1000 [02:27<2:20:00,  8.54s/it, v_num=ow_1, total_loss_train=1.2e+3, kl_local_train=49.8]"
     ]
    },
    {
     "name": "stdout",
     "output_type": "stream",
     "text": [
      "\r",
      "Epoch 17/1000:   2%|▏         | 17/1000 [02:36<2:20:32,  8.58s/it, v_num=ow_1, total_loss_train=1.2e+3, kl_local_train=49.8]"
     ]
    },
    {
     "name": "stdout",
     "output_type": "stream",
     "text": [
      "\r",
      "Epoch 17/1000:   2%|▏         | 17/1000 [02:36<2:20:32,  8.58s/it, v_num=ow_1, total_loss_train=1.2e+3, kl_local_train=52.4]"
     ]
    },
    {
     "name": "stdout",
     "output_type": "stream",
     "text": [
      "\r",
      "Epoch 18/1000:   2%|▏         | 17/1000 [02:36<2:20:32,  8.58s/it, v_num=ow_1, total_loss_train=1.2e+3, kl_local_train=52.4]"
     ]
    },
    {
     "name": "stdout",
     "output_type": "stream",
     "text": [
      "\r",
      "Epoch 18/1000:   2%|▏         | 18/1000 [02:44<2:21:03,  8.62s/it, v_num=ow_1, total_loss_train=1.2e+3, kl_local_train=52.4]"
     ]
    },
    {
     "name": "stdout",
     "output_type": "stream",
     "text": [
      "\r",
      "Epoch 18/1000:   2%|▏         | 18/1000 [02:44<2:21:03,  8.62s/it, v_num=ow_1, total_loss_train=1.21e+3, kl_local_train=54.9]"
     ]
    },
    {
     "name": "stdout",
     "output_type": "stream",
     "text": [
      "\r",
      "Epoch 19/1000:   2%|▏         | 18/1000 [02:44<2:21:03,  8.62s/it, v_num=ow_1, total_loss_train=1.21e+3, kl_local_train=54.9]"
     ]
    },
    {
     "name": "stdout",
     "output_type": "stream",
     "text": [
      "\r",
      "Epoch 19/1000:   2%|▏         | 19/1000 [02:53<2:18:47,  8.49s/it, v_num=ow_1, total_loss_train=1.21e+3, kl_local_train=54.9]"
     ]
    },
    {
     "name": "stdout",
     "output_type": "stream",
     "text": [
      "\r",
      "Epoch 19/1000:   2%|▏         | 19/1000 [02:53<2:18:47,  8.49s/it, v_num=ow_1, total_loss_train=1.22e+3, kl_local_train=58.4]"
     ]
    },
    {
     "name": "stdout",
     "output_type": "stream",
     "text": [
      "\r",
      "Epoch 20/1000:   2%|▏         | 19/1000 [02:53<2:18:47,  8.49s/it, v_num=ow_1, total_loss_train=1.22e+3, kl_local_train=58.4]"
     ]
    },
    {
     "name": "stdout",
     "output_type": "stream",
     "text": [
      "\r",
      "Epoch 20/1000:   2%|▏         | 20/1000 [03:01<2:19:52,  8.56s/it, v_num=ow_1, total_loss_train=1.22e+3, kl_local_train=58.4]"
     ]
    },
    {
     "name": "stdout",
     "output_type": "stream",
     "text": [
      "\r",
      "Epoch 20/1000:   2%|▏         | 20/1000 [03:01<2:19:52,  8.56s/it, v_num=ow_1, total_loss_train=1.23e+3, kl_local_train=61]  "
     ]
    },
    {
     "name": "stdout",
     "output_type": "stream",
     "text": [
      "\r",
      "Epoch 21/1000:   2%|▏         | 20/1000 [03:01<2:19:52,  8.56s/it, v_num=ow_1, total_loss_train=1.23e+3, kl_local_train=61]"
     ]
    },
    {
     "name": "stdout",
     "output_type": "stream",
     "text": [
      "\r",
      "Epoch 21/1000:   2%|▏         | 21/1000 [03:10<2:21:53,  8.70s/it, v_num=ow_1, total_loss_train=1.23e+3, kl_local_train=61]"
     ]
    },
    {
     "name": "stdout",
     "output_type": "stream",
     "text": [
      "\r",
      "Epoch 21/1000:   2%|▏         | 21/1000 [03:10<2:21:53,  8.70s/it, v_num=ow_1, total_loss_train=1.23e+3, kl_local_train=63.6]"
     ]
    },
    {
     "name": "stdout",
     "output_type": "stream",
     "text": [
      "\r",
      "Epoch 22/1000:   2%|▏         | 21/1000 [03:10<2:21:53,  8.70s/it, v_num=ow_1, total_loss_train=1.23e+3, kl_local_train=63.6]"
     ]
    },
    {
     "name": "stdout",
     "output_type": "stream",
     "text": [
      "\r",
      "Epoch 22/1000:   2%|▏         | 22/1000 [03:19<2:20:04,  8.59s/it, v_num=ow_1, total_loss_train=1.23e+3, kl_local_train=63.6]"
     ]
    },
    {
     "name": "stdout",
     "output_type": "stream",
     "text": [
      "\r",
      "Epoch 22/1000:   2%|▏         | 22/1000 [03:19<2:20:04,  8.59s/it, v_num=ow_1, total_loss_train=1.24e+3, kl_local_train=66.2]"
     ]
    },
    {
     "name": "stdout",
     "output_type": "stream",
     "text": [
      "\r",
      "Epoch 23/1000:   2%|▏         | 22/1000 [03:19<2:20:04,  8.59s/it, v_num=ow_1, total_loss_train=1.24e+3, kl_local_train=66.2]"
     ]
    },
    {
     "name": "stdout",
     "output_type": "stream",
     "text": [
      "\r",
      "Epoch 23/1000:   2%|▏         | 23/1000 [03:27<2:17:15,  8.43s/it, v_num=ow_1, total_loss_train=1.24e+3, kl_local_train=66.2]"
     ]
    },
    {
     "name": "stdout",
     "output_type": "stream",
     "text": [
      "\r",
      "Epoch 23/1000:   2%|▏         | 23/1000 [03:27<2:17:15,  8.43s/it, v_num=ow_1, total_loss_train=1.25e+3, kl_local_train=68.6]"
     ]
    },
    {
     "name": "stdout",
     "output_type": "stream",
     "text": [
      "\r",
      "Epoch 24/1000:   2%|▏         | 23/1000 [03:27<2:17:15,  8.43s/it, v_num=ow_1, total_loss_train=1.25e+3, kl_local_train=68.6]"
     ]
    },
    {
     "name": "stdout",
     "output_type": "stream",
     "text": [
      "\r",
      "Epoch 24/1000:   2%|▏         | 24/1000 [03:35<2:17:13,  8.44s/it, v_num=ow_1, total_loss_train=1.25e+3, kl_local_train=68.6]"
     ]
    },
    {
     "name": "stdout",
     "output_type": "stream",
     "text": [
      "\r",
      "Epoch 24/1000:   2%|▏         | 24/1000 [03:35<2:17:13,  8.44s/it, v_num=ow_1, total_loss_train=1.26e+3, kl_local_train=72.1]"
     ]
    },
    {
     "name": "stdout",
     "output_type": "stream",
     "text": [
      "\r",
      "Epoch 25/1000:   2%|▏         | 24/1000 [03:35<2:17:13,  8.44s/it, v_num=ow_1, total_loss_train=1.26e+3, kl_local_train=72.1]"
     ]
    },
    {
     "name": "stdout",
     "output_type": "stream",
     "text": [
      "\r",
      "Epoch 25/1000:   2%|▎         | 25/1000 [03:44<2:18:27,  8.52s/it, v_num=ow_1, total_loss_train=1.26e+3, kl_local_train=72.1]"
     ]
    },
    {
     "name": "stdout",
     "output_type": "stream",
     "text": [
      "\r",
      "Epoch 25/1000:   2%|▎         | 25/1000 [03:44<2:18:27,  8.52s/it, v_num=ow_1, total_loss_train=1.27e+3, kl_local_train=75.5]"
     ]
    },
    {
     "name": "stdout",
     "output_type": "stream",
     "text": [
      "\r",
      "Epoch 26/1000:   2%|▎         | 25/1000 [03:44<2:18:27,  8.52s/it, v_num=ow_1, total_loss_train=1.27e+3, kl_local_train=75.5]"
     ]
    },
    {
     "name": "stdout",
     "output_type": "stream",
     "text": [
      "\r",
      "Epoch 26/1000:   3%|▎         | 26/1000 [03:52<2:16:05,  8.38s/it, v_num=ow_1, total_loss_train=1.27e+3, kl_local_train=75.5]"
     ]
    },
    {
     "name": "stdout",
     "output_type": "stream",
     "text": [
      "\r",
      "Epoch 26/1000:   3%|▎         | 26/1000 [03:52<2:16:05,  8.38s/it, v_num=ow_1, total_loss_train=1.28e+3, kl_local_train=76.6]"
     ]
    },
    {
     "name": "stdout",
     "output_type": "stream",
     "text": [
      "\r",
      "Epoch 27/1000:   3%|▎         | 26/1000 [03:52<2:16:05,  8.38s/it, v_num=ow_1, total_loss_train=1.28e+3, kl_local_train=76.6]"
     ]
    },
    {
     "name": "stdout",
     "output_type": "stream",
     "text": [
      "\r",
      "Epoch 27/1000:   3%|▎         | 27/1000 [04:00<2:14:23,  8.29s/it, v_num=ow_1, total_loss_train=1.28e+3, kl_local_train=76.6]"
     ]
    },
    {
     "name": "stdout",
     "output_type": "stream",
     "text": [
      "\r",
      "Epoch 27/1000:   3%|▎         | 27/1000 [04:00<2:14:23,  8.29s/it, v_num=ow_1, total_loss_train=1.29e+3, kl_local_train=77.8]"
     ]
    },
    {
     "name": "stdout",
     "output_type": "stream",
     "text": [
      "\r",
      "Epoch 28/1000:   3%|▎         | 27/1000 [04:00<2:14:23,  8.29s/it, v_num=ow_1, total_loss_train=1.29e+3, kl_local_train=77.8]"
     ]
    },
    {
     "name": "stdout",
     "output_type": "stream",
     "text": [
      "\r",
      "Epoch 28/1000:   3%|▎         | 28/1000 [04:08<2:13:12,  8.22s/it, v_num=ow_1, total_loss_train=1.29e+3, kl_local_train=77.8]"
     ]
    },
    {
     "name": "stdout",
     "output_type": "stream",
     "text": [
      "\r",
      "Epoch 28/1000:   3%|▎         | 28/1000 [04:08<2:13:12,  8.22s/it, v_num=ow_1, total_loss_train=1.29e+3, kl_local_train=79.3]"
     ]
    },
    {
     "name": "stdout",
     "output_type": "stream",
     "text": [
      "\r",
      "Epoch 29/1000:   3%|▎         | 28/1000 [04:08<2:13:12,  8.22s/it, v_num=ow_1, total_loss_train=1.29e+3, kl_local_train=79.3]"
     ]
    },
    {
     "name": "stdout",
     "output_type": "stream",
     "text": [
      "\r",
      "Epoch 29/1000:   3%|▎         | 29/1000 [04:17<2:15:08,  8.35s/it, v_num=ow_1, total_loss_train=1.29e+3, kl_local_train=79.3]"
     ]
    },
    {
     "name": "stdout",
     "output_type": "stream",
     "text": [
      "\r",
      "Epoch 29/1000:   3%|▎         | 29/1000 [04:17<2:15:08,  8.35s/it, v_num=ow_1, total_loss_train=1.3e+3, kl_local_train=83.7] "
     ]
    },
    {
     "name": "stdout",
     "output_type": "stream",
     "text": [
      "\r",
      "Epoch 30/1000:   3%|▎         | 29/1000 [04:17<2:15:08,  8.35s/it, v_num=ow_1, total_loss_train=1.3e+3, kl_local_train=83.7]"
     ]
    },
    {
     "name": "stdout",
     "output_type": "stream",
     "text": [
      "\r",
      "Epoch 30/1000:   3%|▎         | 30/1000 [04:25<2:16:50,  8.46s/it, v_num=ow_1, total_loss_train=1.3e+3, kl_local_train=83.7]"
     ]
    },
    {
     "name": "stdout",
     "output_type": "stream",
     "text": [
      "\r",
      "Epoch 30/1000:   3%|▎         | 30/1000 [04:25<2:16:50,  8.46s/it, v_num=ow_1, total_loss_train=1.31e+3, kl_local_train=83.6]"
     ]
    },
    {
     "name": "stdout",
     "output_type": "stream",
     "text": [
      "\r",
      "Epoch 31/1000:   3%|▎         | 30/1000 [04:25<2:16:50,  8.46s/it, v_num=ow_1, total_loss_train=1.31e+3, kl_local_train=83.6]"
     ]
    },
    {
     "name": "stdout",
     "output_type": "stream",
     "text": [
      "\r",
      "Epoch 31/1000:   3%|▎         | 31/1000 [04:33<2:14:52,  8.35s/it, v_num=ow_1, total_loss_train=1.31e+3, kl_local_train=83.6]"
     ]
    },
    {
     "name": "stdout",
     "output_type": "stream",
     "text": [
      "\r",
      "Epoch 31/1000:   3%|▎         | 31/1000 [04:33<2:14:52,  8.35s/it, v_num=ow_1, total_loss_train=1.32e+3, kl_local_train=87]  "
     ]
    },
    {
     "name": "stdout",
     "output_type": "stream",
     "text": [
      "\r",
      "Epoch 32/1000:   3%|▎         | 31/1000 [04:33<2:14:52,  8.35s/it, v_num=ow_1, total_loss_train=1.32e+3, kl_local_train=87]"
     ]
    },
    {
     "name": "stdout",
     "output_type": "stream",
     "text": [
      "\r",
      "Epoch 32/1000:   3%|▎         | 32/1000 [04:42<2:13:59,  8.30s/it, v_num=ow_1, total_loss_train=1.32e+3, kl_local_train=87]"
     ]
    },
    {
     "name": "stdout",
     "output_type": "stream",
     "text": [
      "\r",
      "Epoch 32/1000:   3%|▎         | 32/1000 [04:42<2:13:59,  8.30s/it, v_num=ow_1, total_loss_train=1.33e+3, kl_local_train=84.4]"
     ]
    },
    {
     "name": "stdout",
     "output_type": "stream",
     "text": [
      "\r",
      "Epoch 33/1000:   3%|▎         | 32/1000 [04:42<2:13:59,  8.30s/it, v_num=ow_1, total_loss_train=1.33e+3, kl_local_train=84.4]"
     ]
    },
    {
     "name": "stdout",
     "output_type": "stream",
     "text": [
      "\r",
      "Epoch 33/1000:   3%|▎         | 33/1000 [04:50<2:13:04,  8.26s/it, v_num=ow_1, total_loss_train=1.33e+3, kl_local_train=84.4]"
     ]
    },
    {
     "name": "stdout",
     "output_type": "stream",
     "text": [
      "\r",
      "Epoch 33/1000:   3%|▎         | 33/1000 [04:50<2:13:04,  8.26s/it, v_num=ow_1, total_loss_train=1.34e+3, kl_local_train=84.1]"
     ]
    },
    {
     "name": "stdout",
     "output_type": "stream",
     "text": [
      "\r",
      "Epoch 34/1000:   3%|▎         | 33/1000 [04:50<2:13:04,  8.26s/it, v_num=ow_1, total_loss_train=1.34e+3, kl_local_train=84.1]"
     ]
    },
    {
     "name": "stdout",
     "output_type": "stream",
     "text": [
      "\r",
      "Epoch 34/1000:   3%|▎         | 34/1000 [05:00<2:20:00,  8.70s/it, v_num=ow_1, total_loss_train=1.34e+3, kl_local_train=84.1]"
     ]
    },
    {
     "name": "stdout",
     "output_type": "stream",
     "text": [
      "\r",
      "Epoch 34/1000:   3%|▎         | 34/1000 [05:00<2:20:00,  8.70s/it, v_num=ow_1, total_loss_train=1.35e+3, kl_local_train=89]  "
     ]
    },
    {
     "name": "stdout",
     "output_type": "stream",
     "text": [
      "\r",
      "Epoch 35/1000:   3%|▎         | 34/1000 [05:00<2:20:00,  8.70s/it, v_num=ow_1, total_loss_train=1.35e+3, kl_local_train=89]"
     ]
    },
    {
     "name": "stdout",
     "output_type": "stream",
     "text": [
      "\r",
      "Epoch 35/1000:   4%|▎         | 35/1000 [05:08<2:18:29,  8.61s/it, v_num=ow_1, total_loss_train=1.35e+3, kl_local_train=89]"
     ]
    },
    {
     "name": "stdout",
     "output_type": "stream",
     "text": [
      "\r",
      "Epoch 35/1000:   4%|▎         | 35/1000 [05:08<2:18:29,  8.61s/it, v_num=ow_1, total_loss_train=1.36e+3, kl_local_train=90.9]"
     ]
    },
    {
     "name": "stdout",
     "output_type": "stream",
     "text": [
      "\r",
      "Epoch 36/1000:   4%|▎         | 35/1000 [05:08<2:18:29,  8.61s/it, v_num=ow_1, total_loss_train=1.36e+3, kl_local_train=90.9]"
     ]
    },
    {
     "name": "stdout",
     "output_type": "stream",
     "text": [
      "\r",
      "Epoch 36/1000:   4%|▎         | 36/1000 [05:16<2:16:50,  8.52s/it, v_num=ow_1, total_loss_train=1.36e+3, kl_local_train=90.9]"
     ]
    },
    {
     "name": "stdout",
     "output_type": "stream",
     "text": [
      "\r",
      "Epoch 36/1000:   4%|▎         | 36/1000 [05:16<2:16:50,  8.52s/it, v_num=ow_1, total_loss_train=1.37e+3, kl_local_train=95.1]"
     ]
    },
    {
     "name": "stdout",
     "output_type": "stream",
     "text": [
      "\r",
      "Epoch 37/1000:   4%|▎         | 36/1000 [05:16<2:16:50,  8.52s/it, v_num=ow_1, total_loss_train=1.37e+3, kl_local_train=95.1]"
     ]
    },
    {
     "name": "stdout",
     "output_type": "stream",
     "text": [
      "\r",
      "Epoch 37/1000:   4%|▎         | 37/1000 [05:25<2:17:42,  8.58s/it, v_num=ow_1, total_loss_train=1.37e+3, kl_local_train=95.1]"
     ]
    },
    {
     "name": "stdout",
     "output_type": "stream",
     "text": [
      "\r",
      "Epoch 37/1000:   4%|▎         | 37/1000 [05:25<2:17:42,  8.58s/it, v_num=ow_1, total_loss_train=1.38e+3, kl_local_train=95.9]"
     ]
    },
    {
     "name": "stdout",
     "output_type": "stream",
     "text": [
      "\r",
      "Epoch 38/1000:   4%|▎         | 37/1000 [05:25<2:17:42,  8.58s/it, v_num=ow_1, total_loss_train=1.38e+3, kl_local_train=95.9]"
     ]
    },
    {
     "name": "stdout",
     "output_type": "stream",
     "text": [
      "\r",
      "Epoch 38/1000:   4%|▍         | 38/1000 [05:33<2:15:49,  8.47s/it, v_num=ow_1, total_loss_train=1.38e+3, kl_local_train=95.9]"
     ]
    },
    {
     "name": "stdout",
     "output_type": "stream",
     "text": [
      "\r",
      "Epoch 38/1000:   4%|▍         | 38/1000 [05:33<2:15:49,  8.47s/it, v_num=ow_1, total_loss_train=1.39e+3, kl_local_train=91.5]"
     ]
    },
    {
     "name": "stdout",
     "output_type": "stream",
     "text": [
      "\r",
      "Epoch 39/1000:   4%|▍         | 38/1000 [05:33<2:15:49,  8.47s/it, v_num=ow_1, total_loss_train=1.39e+3, kl_local_train=91.5]"
     ]
    },
    {
     "name": "stdout",
     "output_type": "stream",
     "text": [
      "\r",
      "Epoch 39/1000:   4%|▍         | 39/1000 [05:42<2:17:05,  8.56s/it, v_num=ow_1, total_loss_train=1.39e+3, kl_local_train=91.5]"
     ]
    },
    {
     "name": "stdout",
     "output_type": "stream",
     "text": [
      "\r",
      "Epoch 39/1000:   4%|▍         | 39/1000 [05:42<2:17:05,  8.56s/it, v_num=ow_1, total_loss_train=1.4e+3, kl_local_train=93.2] "
     ]
    },
    {
     "name": "stdout",
     "output_type": "stream",
     "text": [
      "\r",
      "Epoch 40/1000:   4%|▍         | 39/1000 [05:42<2:17:05,  8.56s/it, v_num=ow_1, total_loss_train=1.4e+3, kl_local_train=93.2]"
     ]
    },
    {
     "name": "stdout",
     "output_type": "stream",
     "text": [
      "\r",
      "Epoch 40/1000:   4%|▍         | 40/1000 [05:50<2:14:58,  8.44s/it, v_num=ow_1, total_loss_train=1.4e+3, kl_local_train=93.2]"
     ]
    },
    {
     "name": "stdout",
     "output_type": "stream",
     "text": [
      "\r",
      "Epoch 40/1000:   4%|▍         | 40/1000 [05:50<2:14:58,  8.44s/it, v_num=ow_1, total_loss_train=1.41e+3, kl_local_train=96.6]"
     ]
    },
    {
     "name": "stdout",
     "output_type": "stream",
     "text": [
      "\r",
      "Epoch 41/1000:   4%|▍         | 40/1000 [05:50<2:14:58,  8.44s/it, v_num=ow_1, total_loss_train=1.41e+3, kl_local_train=96.6]"
     ]
    },
    {
     "name": "stdout",
     "output_type": "stream",
     "text": [
      "\r",
      "Epoch 41/1000:   4%|▍         | 41/1000 [05:58<2:13:37,  8.36s/it, v_num=ow_1, total_loss_train=1.41e+3, kl_local_train=96.6]"
     ]
    },
    {
     "name": "stdout",
     "output_type": "stream",
     "text": [
      "\r",
      "Epoch 41/1000:   4%|▍         | 41/1000 [05:58<2:13:37,  8.36s/it, v_num=ow_1, total_loss_train=1.42e+3, kl_local_train=95.6]"
     ]
    },
    {
     "name": "stdout",
     "output_type": "stream",
     "text": [
      "\r",
      "Epoch 42/1000:   4%|▍         | 41/1000 [05:58<2:13:37,  8.36s/it, v_num=ow_1, total_loss_train=1.42e+3, kl_local_train=95.6]"
     ]
    },
    {
     "name": "stdout",
     "output_type": "stream",
     "text": [
      "\r",
      "Epoch 42/1000:   4%|▍         | 42/1000 [06:07<2:12:57,  8.33s/it, v_num=ow_1, total_loss_train=1.42e+3, kl_local_train=95.6]"
     ]
    },
    {
     "name": "stdout",
     "output_type": "stream",
     "text": [
      "\r",
      "Epoch 42/1000:   4%|▍         | 42/1000 [06:07<2:12:57,  8.33s/it, v_num=ow_1, total_loss_train=1.43e+3, kl_local_train=94.2]"
     ]
    },
    {
     "name": "stdout",
     "output_type": "stream",
     "text": [
      "\r",
      "Epoch 43/1000:   4%|▍         | 42/1000 [06:07<2:12:57,  8.33s/it, v_num=ow_1, total_loss_train=1.43e+3, kl_local_train=94.2]"
     ]
    },
    {
     "name": "stdout",
     "output_type": "stream",
     "text": [
      "\r",
      "Epoch 43/1000:   4%|▍         | 43/1000 [06:16<2:16:24,  8.55s/it, v_num=ow_1, total_loss_train=1.43e+3, kl_local_train=94.2]"
     ]
    },
    {
     "name": "stdout",
     "output_type": "stream",
     "text": [
      "\r",
      "Epoch 43/1000:   4%|▍         | 43/1000 [06:16<2:16:24,  8.55s/it, v_num=ow_1, total_loss_train=1.44e+3, kl_local_train=96.5]"
     ]
    },
    {
     "name": "stdout",
     "output_type": "stream",
     "text": [
      "\r",
      "Epoch 44/1000:   4%|▍         | 43/1000 [06:16<2:16:24,  8.55s/it, v_num=ow_1, total_loss_train=1.44e+3, kl_local_train=96.5]"
     ]
    },
    {
     "name": "stdout",
     "output_type": "stream",
     "text": [
      "\r",
      "Epoch 44/1000:   4%|▍         | 44/1000 [06:24<2:14:41,  8.45s/it, v_num=ow_1, total_loss_train=1.44e+3, kl_local_train=96.5]"
     ]
    },
    {
     "name": "stdout",
     "output_type": "stream",
     "text": [
      "\r",
      "Epoch 44/1000:   4%|▍         | 44/1000 [06:24<2:14:41,  8.45s/it, v_num=ow_1, total_loss_train=1.45e+3, kl_local_train=90.7]"
     ]
    },
    {
     "name": "stdout",
     "output_type": "stream",
     "text": [
      "\r",
      "Epoch 45/1000:   4%|▍         | 44/1000 [06:24<2:14:41,  8.45s/it, v_num=ow_1, total_loss_train=1.45e+3, kl_local_train=90.7]"
     ]
    },
    {
     "name": "stdout",
     "output_type": "stream",
     "text": [
      "\r",
      "Epoch 45/1000:   4%|▍         | 45/1000 [06:32<2:13:26,  8.38s/it, v_num=ow_1, total_loss_train=1.45e+3, kl_local_train=90.7]"
     ]
    },
    {
     "name": "stdout",
     "output_type": "stream",
     "text": [
      "\r",
      "Epoch 45/1000:   4%|▍         | 45/1000 [06:32<2:13:26,  8.38s/it, v_num=ow_1, total_loss_train=1.46e+3, kl_local_train=93.3]"
     ]
    },
    {
     "name": "stdout",
     "output_type": "stream",
     "text": [
      "\r",
      "Epoch 46/1000:   4%|▍         | 45/1000 [06:32<2:13:26,  8.38s/it, v_num=ow_1, total_loss_train=1.46e+3, kl_local_train=93.3]"
     ]
    },
    {
     "name": "stdout",
     "output_type": "stream",
     "text": [
      "\r",
      "Epoch 46/1000:   5%|▍         | 46/1000 [06:40<2:12:41,  8.35s/it, v_num=ow_1, total_loss_train=1.46e+3, kl_local_train=93.3]"
     ]
    },
    {
     "name": "stdout",
     "output_type": "stream",
     "text": [
      "\r",
      "Epoch 46/1000:   5%|▍         | 46/1000 [06:40<2:12:41,  8.35s/it, v_num=ow_1, total_loss_train=1.47e+3, kl_local_train=99.8]"
     ]
    },
    {
     "name": "stdout",
     "output_type": "stream",
     "text": [
      "\r",
      "Epoch 47/1000:   5%|▍         | 46/1000 [06:40<2:12:41,  8.35s/it, v_num=ow_1, total_loss_train=1.47e+3, kl_local_train=99.8]"
     ]
    },
    {
     "name": "stdout",
     "output_type": "stream",
     "text": [
      "\r",
      "Epoch 47/1000:   5%|▍         | 47/1000 [06:49<2:15:13,  8.51s/it, v_num=ow_1, total_loss_train=1.47e+3, kl_local_train=99.8]"
     ]
    },
    {
     "name": "stdout",
     "output_type": "stream",
     "text": [
      "\r",
      "Epoch 47/1000:   5%|▍         | 47/1000 [06:49<2:15:13,  8.51s/it, v_num=ow_1, total_loss_train=1.48e+3, kl_local_train=99.3]"
     ]
    },
    {
     "name": "stdout",
     "output_type": "stream",
     "text": [
      "\r",
      "Epoch 48/1000:   5%|▍         | 47/1000 [06:49<2:15:13,  8.51s/it, v_num=ow_1, total_loss_train=1.48e+3, kl_local_train=99.3]"
     ]
    },
    {
     "name": "stdout",
     "output_type": "stream",
     "text": [
      "\r",
      "Epoch 48/1000:   5%|▍         | 48/1000 [06:58<2:18:37,  8.74s/it, v_num=ow_1, total_loss_train=1.48e+3, kl_local_train=99.3]"
     ]
    },
    {
     "name": "stdout",
     "output_type": "stream",
     "text": [
      "\r",
      "Epoch 48/1000:   5%|▍         | 48/1000 [06:58<2:18:37,  8.74s/it, v_num=ow_1, total_loss_train=1.49e+3, kl_local_train=98.5]"
     ]
    },
    {
     "name": "stdout",
     "output_type": "stream",
     "text": [
      "\r",
      "Epoch 49/1000:   5%|▍         | 48/1000 [06:58<2:18:37,  8.74s/it, v_num=ow_1, total_loss_train=1.49e+3, kl_local_train=98.5]"
     ]
    },
    {
     "name": "stdout",
     "output_type": "stream",
     "text": [
      "\r",
      "Epoch 49/1000:   5%|▍         | 49/1000 [07:07<2:18:46,  8.76s/it, v_num=ow_1, total_loss_train=1.49e+3, kl_local_train=98.5]"
     ]
    },
    {
     "name": "stdout",
     "output_type": "stream",
     "text": [
      "\r",
      "Epoch 49/1000:   5%|▍         | 49/1000 [07:07<2:18:46,  8.76s/it, v_num=ow_1, total_loss_train=1.5e+3, kl_local_train=101]  "
     ]
    },
    {
     "name": "stdout",
     "output_type": "stream",
     "text": [
      "\r",
      "Epoch 50/1000:   5%|▍         | 49/1000 [07:07<2:18:46,  8.76s/it, v_num=ow_1, total_loss_train=1.5e+3, kl_local_train=101]"
     ]
    },
    {
     "name": "stdout",
     "output_type": "stream",
     "text": [
      "\r",
      "Epoch 50/1000:   5%|▌         | 50/1000 [07:16<2:19:00,  8.78s/it, v_num=ow_1, total_loss_train=1.5e+3, kl_local_train=101]"
     ]
    },
    {
     "name": "stdout",
     "output_type": "stream",
     "text": [
      "\r",
      "Epoch 50/1000:   5%|▌         | 50/1000 [07:16<2:19:00,  8.78s/it, v_num=ow_1, total_loss_train=1.51e+3, kl_local_train=94.3]"
     ]
    },
    {
     "name": "stdout",
     "output_type": "stream",
     "text": [
      "\r",
      "Epoch 51/1000:   5%|▌         | 50/1000 [07:16<2:19:00,  8.78s/it, v_num=ow_1, total_loss_train=1.51e+3, kl_local_train=94.3]"
     ]
    },
    {
     "name": "stdout",
     "output_type": "stream",
     "text": [
      "\r",
      "Epoch 51/1000:   5%|▌         | 51/1000 [07:25<2:18:35,  8.76s/it, v_num=ow_1, total_loss_train=1.51e+3, kl_local_train=94.3]"
     ]
    },
    {
     "name": "stdout",
     "output_type": "stream",
     "text": [
      "\r",
      "Epoch 51/1000:   5%|▌         | 51/1000 [07:25<2:18:35,  8.76s/it, v_num=ow_1, total_loss_train=1.5e+3, kl_local_train=98.4] "
     ]
    },
    {
     "name": "stdout",
     "output_type": "stream",
     "text": [
      "\r",
      "Epoch 52/1000:   5%|▌         | 51/1000 [07:25<2:18:35,  8.76s/it, v_num=ow_1, total_loss_train=1.5e+3, kl_local_train=98.4]"
     ]
    },
    {
     "name": "stdout",
     "output_type": "stream",
     "text": [
      "\r",
      "Epoch 52/1000:   5%|▌         | 52/1000 [07:33<2:15:41,  8.59s/it, v_num=ow_1, total_loss_train=1.5e+3, kl_local_train=98.4]"
     ]
    },
    {
     "name": "stdout",
     "output_type": "stream",
     "text": [
      "\r",
      "Epoch 52/1000:   5%|▌         | 52/1000 [07:33<2:15:41,  8.59s/it, v_num=ow_1, total_loss_train=1.5e+3, kl_local_train=92.6]"
     ]
    },
    {
     "name": "stdout",
     "output_type": "stream",
     "text": [
      "\r",
      "Epoch 53/1000:   5%|▌         | 52/1000 [07:33<2:15:41,  8.59s/it, v_num=ow_1, total_loss_train=1.5e+3, kl_local_train=92.6]"
     ]
    },
    {
     "name": "stdout",
     "output_type": "stream",
     "text": [
      "\r",
      "Epoch 53/1000:   5%|▌         | 53/1000 [07:41<2:13:25,  8.45s/it, v_num=ow_1, total_loss_train=1.5e+3, kl_local_train=92.6]"
     ]
    },
    {
     "name": "stdout",
     "output_type": "stream",
     "text": [
      "\r",
      "Epoch 53/1000:   5%|▌         | 53/1000 [07:41<2:13:25,  8.45s/it, v_num=ow_1, total_loss_train=1.5e+3, kl_local_train=91.1]"
     ]
    },
    {
     "name": "stdout",
     "output_type": "stream",
     "text": [
      "\r",
      "Epoch 54/1000:   5%|▌         | 53/1000 [07:41<2:13:25,  8.45s/it, v_num=ow_1, total_loss_train=1.5e+3, kl_local_train=91.1]"
     ]
    },
    {
     "name": "stdout",
     "output_type": "stream",
     "text": [
      "\r",
      "Epoch 54/1000:   5%|▌         | 54/1000 [07:49<2:11:30,  8.34s/it, v_num=ow_1, total_loss_train=1.5e+3, kl_local_train=91.1]"
     ]
    },
    {
     "name": "stdout",
     "output_type": "stream",
     "text": [
      "\r",
      "Epoch 54/1000:   5%|▌         | 54/1000 [07:49<2:11:30,  8.34s/it, v_num=ow_1, total_loss_train=1.5e+3, kl_local_train=88.2]"
     ]
    },
    {
     "name": "stdout",
     "output_type": "stream",
     "text": [
      "\r",
      "Epoch 55/1000:   5%|▌         | 54/1000 [07:49<2:11:30,  8.34s/it, v_num=ow_1, total_loss_train=1.5e+3, kl_local_train=88.2]"
     ]
    },
    {
     "name": "stdout",
     "output_type": "stream",
     "text": [
      "\r",
      "Epoch 55/1000:   6%|▌         | 55/1000 [07:57<2:10:39,  8.30s/it, v_num=ow_1, total_loss_train=1.5e+3, kl_local_train=88.2]"
     ]
    },
    {
     "name": "stdout",
     "output_type": "stream",
     "text": [
      "\r",
      "Epoch 55/1000:   6%|▌         | 55/1000 [07:57<2:10:39,  8.30s/it, v_num=ow_1, total_loss_train=1.5e+3, kl_local_train=89.9]"
     ]
    },
    {
     "name": "stdout",
     "output_type": "stream",
     "text": [
      "\r",
      "Epoch 56/1000:   6%|▌         | 55/1000 [07:57<2:10:39,  8.30s/it, v_num=ow_1, total_loss_train=1.5e+3, kl_local_train=89.9]"
     ]
    },
    {
     "name": "stdout",
     "output_type": "stream",
     "text": [
      "\r",
      "Epoch 56/1000:   6%|▌         | 56/1000 [08:06<2:13:04,  8.46s/it, v_num=ow_1, total_loss_train=1.5e+3, kl_local_train=89.9]"
     ]
    },
    {
     "name": "stdout",
     "output_type": "stream",
     "text": [
      "\r",
      "Epoch 56/1000:   6%|▌         | 56/1000 [08:06<2:13:04,  8.46s/it, v_num=ow_1, total_loss_train=1.5e+3, kl_local_train=88.9]"
     ]
    },
    {
     "name": "stdout",
     "output_type": "stream",
     "text": [
      "\r",
      "Epoch 57/1000:   6%|▌         | 56/1000 [08:06<2:13:04,  8.46s/it, v_num=ow_1, total_loss_train=1.5e+3, kl_local_train=88.9]"
     ]
    },
    {
     "name": "stdout",
     "output_type": "stream",
     "text": [
      "\r",
      "Epoch 57/1000:   6%|▌         | 57/1000 [08:15<2:13:11,  8.47s/it, v_num=ow_1, total_loss_train=1.5e+3, kl_local_train=88.9]"
     ]
    },
    {
     "name": "stdout",
     "output_type": "stream",
     "text": [
      "\r",
      "Epoch 57/1000:   6%|▌         | 57/1000 [08:15<2:13:11,  8.47s/it, v_num=ow_1, total_loss_train=1.5e+3, kl_local_train=87.5]"
     ]
    },
    {
     "name": "stdout",
     "output_type": "stream",
     "text": [
      "\r",
      "Epoch 58/1000:   6%|▌         | 57/1000 [08:15<2:13:11,  8.47s/it, v_num=ow_1, total_loss_train=1.5e+3, kl_local_train=87.5]"
     ]
    },
    {
     "name": "stdout",
     "output_type": "stream",
     "text": [
      "\r",
      "Epoch 58/1000:   6%|▌         | 58/1000 [08:23<2:10:54,  8.34s/it, v_num=ow_1, total_loss_train=1.5e+3, kl_local_train=87.5]"
     ]
    },
    {
     "name": "stdout",
     "output_type": "stream",
     "text": [
      "\r",
      "Epoch 58/1000:   6%|▌         | 58/1000 [08:23<2:10:54,  8.34s/it, v_num=ow_1, total_loss_train=1.5e+3, kl_local_train=81.7]"
     ]
    },
    {
     "name": "stdout",
     "output_type": "stream",
     "text": [
      "\r",
      "Epoch 59/1000:   6%|▌         | 58/1000 [08:23<2:10:54,  8.34s/it, v_num=ow_1, total_loss_train=1.5e+3, kl_local_train=81.7]"
     ]
    },
    {
     "name": "stdout",
     "output_type": "stream",
     "text": [
      "\r",
      "Epoch 59/1000:   6%|▌         | 59/1000 [08:31<2:09:47,  8.28s/it, v_num=ow_1, total_loss_train=1.5e+3, kl_local_train=81.7]"
     ]
    },
    {
     "name": "stdout",
     "output_type": "stream",
     "text": [
      "\r",
      "Epoch 59/1000:   6%|▌         | 59/1000 [08:31<2:09:47,  8.28s/it, v_num=ow_1, total_loss_train=1.5e+3, kl_local_train=84.7]"
     ]
    },
    {
     "name": "stdout",
     "output_type": "stream",
     "text": [
      "\r",
      "Epoch 60/1000:   6%|▌         | 59/1000 [08:31<2:09:47,  8.28s/it, v_num=ow_1, total_loss_train=1.5e+3, kl_local_train=84.7]"
     ]
    },
    {
     "name": "stdout",
     "output_type": "stream",
     "text": [
      "\r",
      "Epoch 60/1000:   6%|▌         | 60/1000 [08:39<2:09:08,  8.24s/it, v_num=ow_1, total_loss_train=1.5e+3, kl_local_train=84.7]"
     ]
    },
    {
     "name": "stdout",
     "output_type": "stream",
     "text": [
      "\r",
      "Epoch 60/1000:   6%|▌         | 60/1000 [08:39<2:09:08,  8.24s/it, v_num=ow_1, total_loss_train=1.5e+3, kl_local_train=82.6]"
     ]
    },
    {
     "name": "stdout",
     "output_type": "stream",
     "text": [
      "\r",
      "Epoch 61/1000:   6%|▌         | 60/1000 [08:39<2:09:08,  8.24s/it, v_num=ow_1, total_loss_train=1.5e+3, kl_local_train=82.6]"
     ]
    },
    {
     "name": "stdout",
     "output_type": "stream",
     "text": [
      "\r",
      "Epoch 61/1000:   6%|▌         | 61/1000 [08:47<2:08:29,  8.21s/it, v_num=ow_1, total_loss_train=1.5e+3, kl_local_train=82.6]"
     ]
    },
    {
     "name": "stdout",
     "output_type": "stream",
     "text": [
      "\r",
      "Epoch 61/1000:   6%|▌         | 61/1000 [08:47<2:08:29,  8.21s/it, v_num=ow_1, total_loss_train=1.5e+3, kl_local_train=82.6]"
     ]
    },
    {
     "name": "stdout",
     "output_type": "stream",
     "text": [
      "\r",
      "Epoch 62/1000:   6%|▌         | 61/1000 [08:47<2:08:29,  8.21s/it, v_num=ow_1, total_loss_train=1.5e+3, kl_local_train=82.6]"
     ]
    },
    {
     "name": "stdout",
     "output_type": "stream",
     "text": [
      "\r",
      "Epoch 62/1000:   6%|▌         | 62/1000 [08:56<2:11:12,  8.39s/it, v_num=ow_1, total_loss_train=1.5e+3, kl_local_train=82.6]"
     ]
    },
    {
     "name": "stdout",
     "output_type": "stream",
     "text": [
      "\r",
      "Epoch 62/1000:   6%|▌         | 62/1000 [08:56<2:11:12,  8.39s/it, v_num=ow_1, total_loss_train=1.5e+3, kl_local_train=82]  "
     ]
    },
    {
     "name": "stdout",
     "output_type": "stream",
     "text": [
      "\r",
      "Epoch 63/1000:   6%|▌         | 62/1000 [08:56<2:11:12,  8.39s/it, v_num=ow_1, total_loss_train=1.5e+3, kl_local_train=82]"
     ]
    },
    {
     "name": "stdout",
     "output_type": "stream",
     "text": [
      "\r",
      "Epoch 63/1000:   6%|▋         | 63/1000 [09:04<2:10:01,  8.33s/it, v_num=ow_1, total_loss_train=1.5e+3, kl_local_train=82]"
     ]
    },
    {
     "name": "stdout",
     "output_type": "stream",
     "text": [
      "\r",
      "Epoch 63/1000:   6%|▋         | 63/1000 [09:04<2:10:01,  8.33s/it, v_num=ow_1, total_loss_train=1.49e+3, kl_local_train=79.5]"
     ]
    },
    {
     "name": "stdout",
     "output_type": "stream",
     "text": [
      "\r",
      "Epoch 64/1000:   6%|▋         | 63/1000 [09:04<2:10:01,  8.33s/it, v_num=ow_1, total_loss_train=1.49e+3, kl_local_train=79.5]"
     ]
    },
    {
     "name": "stdout",
     "output_type": "stream",
     "text": [
      "\r",
      "Epoch 64/1000:   6%|▋         | 64/1000 [09:14<2:14:34,  8.63s/it, v_num=ow_1, total_loss_train=1.49e+3, kl_local_train=79.5]"
     ]
    },
    {
     "name": "stdout",
     "output_type": "stream",
     "text": [
      "\r",
      "Epoch 64/1000:   6%|▋         | 64/1000 [09:14<2:14:34,  8.63s/it, v_num=ow_1, total_loss_train=1.49e+3, kl_local_train=79.5]"
     ]
    },
    {
     "name": "stdout",
     "output_type": "stream",
     "text": [
      "\r",
      "Epoch 65/1000:   6%|▋         | 64/1000 [09:14<2:14:34,  8.63s/it, v_num=ow_1, total_loss_train=1.49e+3, kl_local_train=79.5]"
     ]
    },
    {
     "name": "stdout",
     "output_type": "stream",
     "text": [
      "\r",
      "Epoch 65/1000:   6%|▋         | 65/1000 [09:22<2:15:15,  8.68s/it, v_num=ow_1, total_loss_train=1.49e+3, kl_local_train=79.5]"
     ]
    },
    {
     "name": "stdout",
     "output_type": "stream",
     "text": [
      "\r",
      "Epoch 65/1000:   6%|▋         | 65/1000 [09:22<2:15:15,  8.68s/it, v_num=ow_1, total_loss_train=1.49e+3, kl_local_train=80.9]"
     ]
    },
    {
     "name": "stdout",
     "output_type": "stream",
     "text": [
      "\r",
      "Epoch 66/1000:   6%|▋         | 65/1000 [09:22<2:15:15,  8.68s/it, v_num=ow_1, total_loss_train=1.49e+3, kl_local_train=80.9]"
     ]
    },
    {
     "name": "stdout",
     "output_type": "stream",
     "text": [
      "\r",
      "Epoch 66/1000:   7%|▋         | 66/1000 [09:32<2:17:22,  8.82s/it, v_num=ow_1, total_loss_train=1.49e+3, kl_local_train=80.9]"
     ]
    },
    {
     "name": "stdout",
     "output_type": "stream",
     "text": [
      "\r",
      "Epoch 66/1000:   7%|▋         | 66/1000 [09:32<2:17:22,  8.82s/it, v_num=ow_1, total_loss_train=1.49e+3, kl_local_train=77.4]"
     ]
    },
    {
     "name": "stdout",
     "output_type": "stream",
     "text": [
      "\r",
      "Epoch 67/1000:   7%|▋         | 66/1000 [09:32<2:17:22,  8.82s/it, v_num=ow_1, total_loss_train=1.49e+3, kl_local_train=77.4]"
     ]
    },
    {
     "name": "stdout",
     "output_type": "stream",
     "text": [
      "\r",
      "Epoch 67/1000:   7%|▋         | 67/1000 [09:40<2:17:12,  8.82s/it, v_num=ow_1, total_loss_train=1.49e+3, kl_local_train=77.4]"
     ]
    },
    {
     "name": "stdout",
     "output_type": "stream",
     "text": [
      "\r",
      "Epoch 67/1000:   7%|▋         | 67/1000 [09:40<2:17:12,  8.82s/it, v_num=ow_1, total_loss_train=1.49e+3, kl_local_train=75.3]"
     ]
    },
    {
     "name": "stdout",
     "output_type": "stream",
     "text": [
      "\r",
      "Epoch 68/1000:   7%|▋         | 67/1000 [09:40<2:17:12,  8.82s/it, v_num=ow_1, total_loss_train=1.49e+3, kl_local_train=75.3]"
     ]
    },
    {
     "name": "stdout",
     "output_type": "stream",
     "text": [
      "\r",
      "Epoch 68/1000:   7%|▋         | 68/1000 [09:50<2:19:02,  8.95s/it, v_num=ow_1, total_loss_train=1.49e+3, kl_local_train=75.3]"
     ]
    },
    {
     "name": "stdout",
     "output_type": "stream",
     "text": [
      "\r",
      "Epoch 68/1000:   7%|▋         | 68/1000 [09:50<2:19:02,  8.95s/it, v_num=ow_1, total_loss_train=1.49e+3, kl_local_train=76.3]"
     ]
    },
    {
     "name": "stdout",
     "output_type": "stream",
     "text": [
      "\r",
      "Epoch 69/1000:   7%|▋         | 68/1000 [09:50<2:19:02,  8.95s/it, v_num=ow_1, total_loss_train=1.49e+3, kl_local_train=76.3]"
     ]
    },
    {
     "name": "stdout",
     "output_type": "stream",
     "text": [
      "\r",
      "Epoch 69/1000:   7%|▋         | 69/1000 [09:58<2:15:17,  8.72s/it, v_num=ow_1, total_loss_train=1.49e+3, kl_local_train=76.3]"
     ]
    },
    {
     "name": "stdout",
     "output_type": "stream",
     "text": [
      "\r",
      "Epoch 69/1000:   7%|▋         | 69/1000 [09:58<2:15:17,  8.72s/it, v_num=ow_1, total_loss_train=1.49e+3, kl_local_train=75.5]"
     ]
    },
    {
     "name": "stdout",
     "output_type": "stream",
     "text": [
      "\r",
      "Epoch 70/1000:   7%|▋         | 69/1000 [09:58<2:15:17,  8.72s/it, v_num=ow_1, total_loss_train=1.49e+3, kl_local_train=75.5]"
     ]
    },
    {
     "name": "stdout",
     "output_type": "stream",
     "text": [
      "\r",
      "Epoch 70/1000:   7%|▋         | 70/1000 [10:07<2:15:22,  8.73s/it, v_num=ow_1, total_loss_train=1.49e+3, kl_local_train=75.5]"
     ]
    },
    {
     "name": "stdout",
     "output_type": "stream",
     "text": [
      "\r",
      "Epoch 70/1000:   7%|▋         | 70/1000 [10:07<2:15:22,  8.73s/it, v_num=ow_1, total_loss_train=1.49e+3, kl_local_train=75.2]"
     ]
    },
    {
     "name": "stdout",
     "output_type": "stream",
     "text": [
      "\r",
      "Epoch 71/1000:   7%|▋         | 70/1000 [10:07<2:15:22,  8.73s/it, v_num=ow_1, total_loss_train=1.49e+3, kl_local_train=75.2]"
     ]
    },
    {
     "name": "stdout",
     "output_type": "stream",
     "text": [
      "\r",
      "Epoch 71/1000:   7%|▋         | 71/1000 [10:15<2:12:26,  8.55s/it, v_num=ow_1, total_loss_train=1.49e+3, kl_local_train=75.2]"
     ]
    },
    {
     "name": "stdout",
     "output_type": "stream",
     "text": [
      "\r",
      "Epoch 71/1000:   7%|▋         | 71/1000 [10:15<2:12:26,  8.55s/it, v_num=ow_1, total_loss_train=1.49e+3, kl_local_train=74.4]"
     ]
    },
    {
     "name": "stdout",
     "output_type": "stream",
     "text": [
      "\r",
      "Epoch 72/1000:   7%|▋         | 71/1000 [10:15<2:12:26,  8.55s/it, v_num=ow_1, total_loss_train=1.49e+3, kl_local_train=74.4]"
     ]
    },
    {
     "name": "stdout",
     "output_type": "stream",
     "text": [
      "\r",
      "Epoch 72/1000:   7%|▋         | 72/1000 [10:23<2:13:17,  8.62s/it, v_num=ow_1, total_loss_train=1.49e+3, kl_local_train=74.4]"
     ]
    },
    {
     "name": "stdout",
     "output_type": "stream",
     "text": [
      "\r",
      "Epoch 72/1000:   7%|▋         | 72/1000 [10:23<2:13:17,  8.62s/it, v_num=ow_1, total_loss_train=1.49e+3, kl_local_train=75.7]"
     ]
    },
    {
     "name": "stdout",
     "output_type": "stream",
     "text": [
      "\r",
      "Epoch 73/1000:   7%|▋         | 72/1000 [10:23<2:13:17,  8.62s/it, v_num=ow_1, total_loss_train=1.49e+3, kl_local_train=75.7]"
     ]
    },
    {
     "name": "stdout",
     "output_type": "stream",
     "text": [
      "\r",
      "Epoch 73/1000:   7%|▋         | 73/1000 [10:32<2:11:17,  8.50s/it, v_num=ow_1, total_loss_train=1.49e+3, kl_local_train=75.7]"
     ]
    },
    {
     "name": "stdout",
     "output_type": "stream",
     "text": [
      "\r",
      "Epoch 73/1000:   7%|▋         | 73/1000 [10:32<2:11:17,  8.50s/it, v_num=ow_1, total_loss_train=1.49e+3, kl_local_train=69.7]"
     ]
    },
    {
     "name": "stdout",
     "output_type": "stream",
     "text": [
      "\r",
      "Epoch 74/1000:   7%|▋         | 73/1000 [10:32<2:11:17,  8.50s/it, v_num=ow_1, total_loss_train=1.49e+3, kl_local_train=69.7]"
     ]
    },
    {
     "name": "stdout",
     "output_type": "stream",
     "text": [
      "\r",
      "Epoch 74/1000:   7%|▋         | 74/1000 [10:40<2:09:26,  8.39s/it, v_num=ow_1, total_loss_train=1.49e+3, kl_local_train=69.7]"
     ]
    },
    {
     "name": "stdout",
     "output_type": "stream",
     "text": [
      "\r",
      "Epoch 74/1000:   7%|▋         | 74/1000 [10:40<2:09:26,  8.39s/it, v_num=ow_1, total_loss_train=1.49e+3, kl_local_train=71.9]"
     ]
    },
    {
     "name": "stdout",
     "output_type": "stream",
     "text": [
      "\r",
      "Epoch 75/1000:   7%|▋         | 74/1000 [10:40<2:09:26,  8.39s/it, v_num=ow_1, total_loss_train=1.49e+3, kl_local_train=71.9]"
     ]
    },
    {
     "name": "stdout",
     "output_type": "stream",
     "text": [
      "\r",
      "Epoch 75/1000:   8%|▊         | 75/1000 [10:48<2:07:53,  8.30s/it, v_num=ow_1, total_loss_train=1.49e+3, kl_local_train=71.9]"
     ]
    },
    {
     "name": "stdout",
     "output_type": "stream",
     "text": [
      "\r",
      "Epoch 75/1000:   8%|▊         | 75/1000 [10:48<2:07:53,  8.30s/it, v_num=ow_1, total_loss_train=1.49e+3, kl_local_train=72.4]"
     ]
    },
    {
     "name": "stdout",
     "output_type": "stream",
     "text": [
      "\r",
      "Epoch 76/1000:   8%|▊         | 75/1000 [10:48<2:07:53,  8.30s/it, v_num=ow_1, total_loss_train=1.49e+3, kl_local_train=72.4]"
     ]
    },
    {
     "name": "stdout",
     "output_type": "stream",
     "text": [
      "\r",
      "Epoch 76/1000:   8%|▊         | 76/1000 [10:57<2:10:10,  8.45s/it, v_num=ow_1, total_loss_train=1.49e+3, kl_local_train=72.4]"
     ]
    },
    {
     "name": "stdout",
     "output_type": "stream",
     "text": [
      "\r",
      "Epoch 76/1000:   8%|▊         | 76/1000 [10:57<2:10:10,  8.45s/it, v_num=ow_1, total_loss_train=1.49e+3, kl_local_train=70.4]"
     ]
    },
    {
     "name": "stdout",
     "output_type": "stream",
     "text": [
      "\r",
      "Epoch 77/1000:   8%|▊         | 76/1000 [10:57<2:10:10,  8.45s/it, v_num=ow_1, total_loss_train=1.49e+3, kl_local_train=70.4]"
     ]
    },
    {
     "name": "stdout",
     "output_type": "stream",
     "text": [
      "\r",
      "Epoch 77/1000:   8%|▊         | 77/1000 [11:05<2:11:31,  8.55s/it, v_num=ow_1, total_loss_train=1.49e+3, kl_local_train=70.4]"
     ]
    },
    {
     "name": "stdout",
     "output_type": "stream",
     "text": [
      "\r",
      "Epoch 77/1000:   8%|▊         | 77/1000 [11:05<2:11:31,  8.55s/it, v_num=ow_1, total_loss_train=1.49e+3, kl_local_train=69.8]"
     ]
    },
    {
     "name": "stdout",
     "output_type": "stream",
     "text": [
      "\r",
      "Epoch 78/1000:   8%|▊         | 77/1000 [11:05<2:11:31,  8.55s/it, v_num=ow_1, total_loss_train=1.49e+3, kl_local_train=69.8]"
     ]
    },
    {
     "name": "stdout",
     "output_type": "stream",
     "text": [
      "\r",
      "Epoch 78/1000:   8%|▊         | 78/1000 [11:14<2:09:40,  8.44s/it, v_num=ow_1, total_loss_train=1.49e+3, kl_local_train=69.8]"
     ]
    },
    {
     "name": "stdout",
     "output_type": "stream",
     "text": [
      "\r",
      "Epoch 78/1000:   8%|▊         | 78/1000 [11:14<2:09:40,  8.44s/it, v_num=ow_1, total_loss_train=1.49e+3, kl_local_train=68.7]"
     ]
    },
    {
     "name": "stdout",
     "output_type": "stream",
     "text": [
      "\r",
      "Epoch 79/1000:   8%|▊         | 78/1000 [11:14<2:09:40,  8.44s/it, v_num=ow_1, total_loss_train=1.49e+3, kl_local_train=68.7]"
     ]
    },
    {
     "name": "stdout",
     "output_type": "stream",
     "text": [
      "\r",
      "Epoch 79/1000:   8%|▊         | 79/1000 [11:23<2:14:35,  8.77s/it, v_num=ow_1, total_loss_train=1.49e+3, kl_local_train=68.7]"
     ]
    },
    {
     "name": "stdout",
     "output_type": "stream",
     "text": [
      "\r",
      "Epoch 79/1000:   8%|▊         | 79/1000 [11:23<2:14:35,  8.77s/it, v_num=ow_1, total_loss_train=1.48e+3, kl_local_train=70]  "
     ]
    },
    {
     "name": "stdout",
     "output_type": "stream",
     "text": [
      "\r",
      "Epoch 80/1000:   8%|▊         | 79/1000 [11:23<2:14:35,  8.77s/it, v_num=ow_1, total_loss_train=1.48e+3, kl_local_train=70]"
     ]
    },
    {
     "name": "stdout",
     "output_type": "stream",
     "text": [
      "\r",
      "Epoch 80/1000:   8%|▊         | 80/1000 [11:31<2:11:49,  8.60s/it, v_num=ow_1, total_loss_train=1.48e+3, kl_local_train=70]"
     ]
    },
    {
     "name": "stdout",
     "output_type": "stream",
     "text": [
      "\r",
      "Epoch 80/1000:   8%|▊         | 80/1000 [11:31<2:11:49,  8.60s/it, v_num=ow_1, total_loss_train=1.48e+3, kl_local_train=69]"
     ]
    },
    {
     "name": "stdout",
     "output_type": "stream",
     "text": [
      "\r",
      "Epoch 81/1000:   8%|▊         | 80/1000 [11:31<2:11:49,  8.60s/it, v_num=ow_1, total_loss_train=1.48e+3, kl_local_train=69]"
     ]
    },
    {
     "name": "stdout",
     "output_type": "stream",
     "text": [
      "\r",
      "Epoch 81/1000:   8%|▊         | 81/1000 [11:40<2:10:40,  8.53s/it, v_num=ow_1, total_loss_train=1.48e+3, kl_local_train=69]"
     ]
    },
    {
     "name": "stdout",
     "output_type": "stream",
     "text": [
      "\r",
      "Epoch 81/1000:   8%|▊         | 81/1000 [11:40<2:10:40,  8.53s/it, v_num=ow_1, total_loss_train=1.48e+3, kl_local_train=67.4]"
     ]
    },
    {
     "name": "stdout",
     "output_type": "stream",
     "text": [
      "\r",
      "Epoch 82/1000:   8%|▊         | 81/1000 [11:40<2:10:40,  8.53s/it, v_num=ow_1, total_loss_train=1.48e+3, kl_local_train=67.4]"
     ]
    },
    {
     "name": "stdout",
     "output_type": "stream",
     "text": [
      "\r",
      "Epoch 82/1000:   8%|▊         | 82/1000 [11:48<2:09:10,  8.44s/it, v_num=ow_1, total_loss_train=1.48e+3, kl_local_train=67.4]"
     ]
    },
    {
     "name": "stdout",
     "output_type": "stream",
     "text": [
      "\r",
      "Epoch 82/1000:   8%|▊         | 82/1000 [11:48<2:09:10,  8.44s/it, v_num=ow_1, total_loss_train=1.48e+3, kl_local_train=66.1]"
     ]
    },
    {
     "name": "stdout",
     "output_type": "stream",
     "text": [
      "\r",
      "Epoch 83/1000:   8%|▊         | 82/1000 [11:48<2:09:10,  8.44s/it, v_num=ow_1, total_loss_train=1.48e+3, kl_local_train=66.1]"
     ]
    },
    {
     "name": "stdout",
     "output_type": "stream",
     "text": [
      "\r",
      "Epoch 83/1000:   8%|▊         | 83/1000 [11:56<2:07:40,  8.35s/it, v_num=ow_1, total_loss_train=1.48e+3, kl_local_train=66.1]"
     ]
    },
    {
     "name": "stdout",
     "output_type": "stream",
     "text": [
      "\r",
      "Epoch 83/1000:   8%|▊         | 83/1000 [11:56<2:07:40,  8.35s/it, v_num=ow_1, total_loss_train=1.48e+3, kl_local_train=67.4]"
     ]
    },
    {
     "name": "stdout",
     "output_type": "stream",
     "text": [
      "\r",
      "Epoch 84/1000:   8%|▊         | 83/1000 [11:56<2:07:40,  8.35s/it, v_num=ow_1, total_loss_train=1.48e+3, kl_local_train=67.4]"
     ]
    },
    {
     "name": "stdout",
     "output_type": "stream",
     "text": [
      "\r",
      "Epoch 84/1000:   8%|▊         | 84/1000 [12:05<2:09:37,  8.49s/it, v_num=ow_1, total_loss_train=1.48e+3, kl_local_train=67.4]"
     ]
    },
    {
     "name": "stdout",
     "output_type": "stream",
     "text": [
      "\r",
      "Epoch 84/1000:   8%|▊         | 84/1000 [12:05<2:09:37,  8.49s/it, v_num=ow_1, total_loss_train=1.48e+3, kl_local_train=67.3]"
     ]
    },
    {
     "name": "stdout",
     "output_type": "stream",
     "text": [
      "\r",
      "Epoch 85/1000:   8%|▊         | 84/1000 [12:05<2:09:37,  8.49s/it, v_num=ow_1, total_loss_train=1.48e+3, kl_local_train=67.3]"
     ]
    },
    {
     "name": "stdout",
     "output_type": "stream",
     "text": [
      "\r",
      "Epoch 85/1000:   8%|▊         | 85/1000 [12:13<2:07:42,  8.37s/it, v_num=ow_1, total_loss_train=1.48e+3, kl_local_train=67.3]"
     ]
    },
    {
     "name": "stdout",
     "output_type": "stream",
     "text": [
      "\r",
      "Epoch 85/1000:   8%|▊         | 85/1000 [12:13<2:07:42,  8.37s/it, v_num=ow_1, total_loss_train=1.48e+3, kl_local_train=66.7]"
     ]
    },
    {
     "name": "stdout",
     "output_type": "stream",
     "text": [
      "\r",
      "Epoch 86/1000:   8%|▊         | 85/1000 [12:13<2:07:42,  8.37s/it, v_num=ow_1, total_loss_train=1.48e+3, kl_local_train=66.7]"
     ]
    },
    {
     "name": "stdout",
     "output_type": "stream",
     "text": [
      "\r",
      "Epoch 86/1000:   9%|▊         | 86/1000 [12:22<2:09:56,  8.53s/it, v_num=ow_1, total_loss_train=1.48e+3, kl_local_train=66.7]"
     ]
    },
    {
     "name": "stdout",
     "output_type": "stream",
     "text": [
      "\r",
      "Epoch 86/1000:   9%|▊         | 86/1000 [12:22<2:09:56,  8.53s/it, v_num=ow_1, total_loss_train=1.48e+3, kl_local_train=65.4]"
     ]
    },
    {
     "name": "stdout",
     "output_type": "stream",
     "text": [
      "\r",
      "Epoch 87/1000:   9%|▊         | 86/1000 [12:22<2:09:56,  8.53s/it, v_num=ow_1, total_loss_train=1.48e+3, kl_local_train=65.4]"
     ]
    },
    {
     "name": "stdout",
     "output_type": "stream",
     "text": [
      "\r",
      "Epoch 87/1000:   9%|▊         | 87/1000 [12:30<2:07:09,  8.36s/it, v_num=ow_1, total_loss_train=1.48e+3, kl_local_train=65.4]"
     ]
    },
    {
     "name": "stdout",
     "output_type": "stream",
     "text": [
      "\r",
      "Epoch 87/1000:   9%|▊         | 87/1000 [12:30<2:07:09,  8.36s/it, v_num=ow_1, total_loss_train=1.48e+3, kl_local_train=63.4]"
     ]
    },
    {
     "name": "stdout",
     "output_type": "stream",
     "text": [
      "\r",
      "Epoch 88/1000:   9%|▊         | 87/1000 [12:30<2:07:09,  8.36s/it, v_num=ow_1, total_loss_train=1.48e+3, kl_local_train=63.4]"
     ]
    },
    {
     "name": "stdout",
     "output_type": "stream",
     "text": [
      "\r",
      "Epoch 88/1000:   9%|▉         | 88/1000 [12:38<2:05:03,  8.23s/it, v_num=ow_1, total_loss_train=1.48e+3, kl_local_train=63.4]"
     ]
    },
    {
     "name": "stdout",
     "output_type": "stream",
     "text": [
      "\r",
      "Epoch 88/1000:   9%|▉         | 88/1000 [12:38<2:05:03,  8.23s/it, v_num=ow_1, total_loss_train=1.48e+3, kl_local_train=65.2]"
     ]
    },
    {
     "name": "stdout",
     "output_type": "stream",
     "text": [
      "\r",
      "Epoch 89/1000:   9%|▉         | 88/1000 [12:38<2:05:03,  8.23s/it, v_num=ow_1, total_loss_train=1.48e+3, kl_local_train=65.2]"
     ]
    },
    {
     "name": "stdout",
     "output_type": "stream",
     "text": [
      "\r",
      "Epoch 89/1000:   9%|▉         | 89/1000 [12:46<2:03:34,  8.14s/it, v_num=ow_1, total_loss_train=1.48e+3, kl_local_train=65.2]"
     ]
    },
    {
     "name": "stdout",
     "output_type": "stream",
     "text": [
      "\r",
      "Epoch 89/1000:   9%|▉         | 89/1000 [12:46<2:03:34,  8.14s/it, v_num=ow_1, total_loss_train=1.48e+3, kl_local_train=65.5]"
     ]
    },
    {
     "name": "stdout",
     "output_type": "stream",
     "text": [
      "\r",
      "Epoch 90/1000:   9%|▉         | 89/1000 [12:46<2:03:34,  8.14s/it, v_num=ow_1, total_loss_train=1.48e+3, kl_local_train=65.5]"
     ]
    },
    {
     "name": "stdout",
     "output_type": "stream",
     "text": [
      "\r",
      "Epoch 90/1000:   9%|▉         | 90/1000 [12:54<2:03:59,  8.18s/it, v_num=ow_1, total_loss_train=1.48e+3, kl_local_train=65.5]"
     ]
    },
    {
     "name": "stdout",
     "output_type": "stream",
     "text": [
      "\r",
      "Epoch 90/1000:   9%|▉         | 90/1000 [12:54<2:03:59,  8.18s/it, v_num=ow_1, total_loss_train=1.48e+3, kl_local_train=63.4]"
     ]
    },
    {
     "name": "stdout",
     "output_type": "stream",
     "text": [
      "\r",
      "Epoch 91/1000:   9%|▉         | 90/1000 [12:54<2:03:59,  8.18s/it, v_num=ow_1, total_loss_train=1.48e+3, kl_local_train=63.4]"
     ]
    },
    {
     "name": "stdout",
     "output_type": "stream",
     "text": [
      "\r",
      "Epoch 91/1000:   9%|▉         | 91/1000 [13:02<2:03:56,  8.18s/it, v_num=ow_1, total_loss_train=1.48e+3, kl_local_train=63.4]"
     ]
    },
    {
     "name": "stdout",
     "output_type": "stream",
     "text": [
      "\r",
      "Epoch 91/1000:   9%|▉         | 91/1000 [13:02<2:03:56,  8.18s/it, v_num=ow_1, total_loss_train=1.48e+3, kl_local_train=64.9]"
     ]
    },
    {
     "name": "stdout",
     "output_type": "stream",
     "text": [
      "\r",
      "Epoch 92/1000:   9%|▉         | 91/1000 [13:02<2:03:56,  8.18s/it, v_num=ow_1, total_loss_train=1.48e+3, kl_local_train=64.9]"
     ]
    },
    {
     "name": "stdout",
     "output_type": "stream",
     "text": [
      "\r",
      "Epoch 92/1000:   9%|▉         | 92/1000 [13:11<2:06:57,  8.39s/it, v_num=ow_1, total_loss_train=1.48e+3, kl_local_train=64.9]"
     ]
    },
    {
     "name": "stdout",
     "output_type": "stream",
     "text": [
      "\r",
      "Epoch 92/1000:   9%|▉         | 92/1000 [13:11<2:06:57,  8.39s/it, v_num=ow_1, total_loss_train=1.48e+3, kl_local_train=63.1]"
     ]
    },
    {
     "name": "stdout",
     "output_type": "stream",
     "text": [
      "\r",
      "Epoch 93/1000:   9%|▉         | 92/1000 [13:11<2:06:57,  8.39s/it, v_num=ow_1, total_loss_train=1.48e+3, kl_local_train=63.1]"
     ]
    },
    {
     "name": "stdout",
     "output_type": "stream",
     "text": [
      "\r",
      "Epoch 93/1000:   9%|▉         | 93/1000 [13:19<2:06:45,  8.39s/it, v_num=ow_1, total_loss_train=1.48e+3, kl_local_train=63.1]"
     ]
    },
    {
     "name": "stdout",
     "output_type": "stream",
     "text": [
      "\r",
      "Epoch 93/1000:   9%|▉         | 93/1000 [13:19<2:06:45,  8.39s/it, v_num=ow_1, total_loss_train=1.48e+3, kl_local_train=62.8]"
     ]
    },
    {
     "name": "stdout",
     "output_type": "stream",
     "text": [
      "\r",
      "Epoch 94/1000:   9%|▉         | 93/1000 [13:19<2:06:45,  8.39s/it, v_num=ow_1, total_loss_train=1.48e+3, kl_local_train=62.8]"
     ]
    },
    {
     "name": "stdout",
     "output_type": "stream",
     "text": [
      "\r",
      "Epoch 94/1000:   9%|▉         | 94/1000 [13:28<2:09:09,  8.55s/it, v_num=ow_1, total_loss_train=1.48e+3, kl_local_train=62.8]"
     ]
    },
    {
     "name": "stdout",
     "output_type": "stream",
     "text": [
      "\r",
      "Epoch 94/1000:   9%|▉         | 94/1000 [13:28<2:09:09,  8.55s/it, v_num=ow_1, total_loss_train=1.48e+3, kl_local_train=62.9]"
     ]
    },
    {
     "name": "stdout",
     "output_type": "stream",
     "text": [
      "\r",
      "Epoch 95/1000:   9%|▉         | 94/1000 [13:28<2:09:09,  8.55s/it, v_num=ow_1, total_loss_train=1.48e+3, kl_local_train=62.9]"
     ]
    },
    {
     "name": "stdout",
     "output_type": "stream",
     "text": [
      "\r",
      "Epoch 95/1000:  10%|▉         | 95/1000 [13:37<2:10:33,  8.66s/it, v_num=ow_1, total_loss_train=1.48e+3, kl_local_train=62.9]"
     ]
    },
    {
     "name": "stdout",
     "output_type": "stream",
     "text": [
      "\r",
      "Epoch 95/1000:  10%|▉         | 95/1000 [13:37<2:10:33,  8.66s/it, v_num=ow_1, total_loss_train=1.47e+3, kl_local_train=62.1]"
     ]
    },
    {
     "name": "stdout",
     "output_type": "stream",
     "text": [
      "\r",
      "Epoch 96/1000:  10%|▉         | 95/1000 [13:37<2:10:33,  8.66s/it, v_num=ow_1, total_loss_train=1.47e+3, kl_local_train=62.1]"
     ]
    },
    {
     "name": "stdout",
     "output_type": "stream",
     "text": [
      "\r",
      "Epoch 96/1000:  10%|▉         | 96/1000 [13:46<2:11:29,  8.73s/it, v_num=ow_1, total_loss_train=1.47e+3, kl_local_train=62.1]"
     ]
    },
    {
     "name": "stdout",
     "output_type": "stream",
     "text": [
      "\r",
      "Epoch 96/1000:  10%|▉         | 96/1000 [13:46<2:11:29,  8.73s/it, v_num=ow_1, total_loss_train=1.47e+3, kl_local_train=63.4]"
     ]
    },
    {
     "name": "stdout",
     "output_type": "stream",
     "text": [
      "\r",
      "Epoch 97/1000:  10%|▉         | 96/1000 [13:46<2:11:29,  8.73s/it, v_num=ow_1, total_loss_train=1.47e+3, kl_local_train=63.4]"
     ]
    },
    {
     "name": "stdout",
     "output_type": "stream",
     "text": [
      "\r",
      "Epoch 97/1000:  10%|▉         | 97/1000 [13:55<2:12:10,  8.78s/it, v_num=ow_1, total_loss_train=1.47e+3, kl_local_train=63.4]"
     ]
    },
    {
     "name": "stdout",
     "output_type": "stream",
     "text": [
      "\r",
      "Epoch 97/1000:  10%|▉         | 97/1000 [13:55<2:12:10,  8.78s/it, v_num=ow_1, total_loss_train=1.47e+3, kl_local_train=60.8]"
     ]
    },
    {
     "name": "stdout",
     "output_type": "stream",
     "text": [
      "\r",
      "Epoch 98/1000:  10%|▉         | 97/1000 [13:55<2:12:10,  8.78s/it, v_num=ow_1, total_loss_train=1.47e+3, kl_local_train=60.8]"
     ]
    },
    {
     "name": "stdout",
     "output_type": "stream",
     "text": [
      "\r",
      "Epoch 98/1000:  10%|▉         | 98/1000 [14:03<2:09:41,  8.63s/it, v_num=ow_1, total_loss_train=1.47e+3, kl_local_train=60.8]"
     ]
    },
    {
     "name": "stdout",
     "output_type": "stream",
     "text": [
      "\r",
      "Epoch 98/1000:  10%|▉         | 98/1000 [14:03<2:09:41,  8.63s/it, v_num=ow_1, total_loss_train=1.47e+3, kl_local_train=61.2]"
     ]
    },
    {
     "name": "stdout",
     "output_type": "stream",
     "text": [
      "\r",
      "Epoch 99/1000:  10%|▉         | 98/1000 [14:03<2:09:41,  8.63s/it, v_num=ow_1, total_loss_train=1.47e+3, kl_local_train=61.2]"
     ]
    },
    {
     "name": "stdout",
     "output_type": "stream",
     "text": [
      "\r",
      "Epoch 99/1000:  10%|▉         | 99/1000 [14:12<2:10:37,  8.70s/it, v_num=ow_1, total_loss_train=1.47e+3, kl_local_train=61.2]"
     ]
    },
    {
     "name": "stdout",
     "output_type": "stream",
     "text": [
      "\r",
      "Epoch 99/1000:  10%|▉         | 99/1000 [14:12<2:10:37,  8.70s/it, v_num=ow_1, total_loss_train=1.47e+3, kl_local_train=63.1]"
     ]
    },
    {
     "name": "stdout",
     "output_type": "stream",
     "text": [
      "\r",
      "Epoch 100/1000:  10%|▉         | 99/1000 [14:12<2:10:37,  8.70s/it, v_num=ow_1, total_loss_train=1.47e+3, kl_local_train=63.1]"
     ]
    },
    {
     "name": "stdout",
     "output_type": "stream",
     "text": [
      "\r",
      "Epoch 100/1000:  10%|█         | 100/1000 [14:20<2:08:06,  8.54s/it, v_num=ow_1, total_loss_train=1.47e+3, kl_local_train=63.1]"
     ]
    },
    {
     "name": "stdout",
     "output_type": "stream",
     "text": [
      "\r",
      "Epoch 100/1000:  10%|█         | 100/1000 [14:20<2:08:06,  8.54s/it, v_num=ow_1, total_loss_train=1.47e+3, kl_local_train=62.2]"
     ]
    },
    {
     "name": "stdout",
     "output_type": "stream",
     "text": [
      "\r",
      "Epoch 101/1000:  10%|█         | 100/1000 [14:20<2:08:06,  8.54s/it, v_num=ow_1, total_loss_train=1.47e+3, kl_local_train=62.2]"
     ]
    },
    {
     "name": "stdout",
     "output_type": "stream",
     "text": [
      "\r",
      "Epoch 101/1000:  10%|█         | 101/1000 [14:29<2:06:45,  8.46s/it, v_num=ow_1, total_loss_train=1.47e+3, kl_local_train=62.2]"
     ]
    },
    {
     "name": "stdout",
     "output_type": "stream",
     "text": [
      "\r",
      "Epoch 101/1000:  10%|█         | 101/1000 [14:29<2:06:45,  8.46s/it, v_num=ow_1, total_loss_train=1.47e+3, kl_local_train=60.2]"
     ]
    },
    {
     "name": "stdout",
     "output_type": "stream",
     "text": [
      "\r",
      "Epoch 102/1000:  10%|█         | 101/1000 [14:29<2:06:45,  8.46s/it, v_num=ow_1, total_loss_train=1.47e+3, kl_local_train=60.2]"
     ]
    },
    {
     "name": "stdout",
     "output_type": "stream",
     "text": [
      "\r",
      "Epoch 102/1000:  10%|█         | 102/1000 [14:37<2:05:47,  8.40s/it, v_num=ow_1, total_loss_train=1.47e+3, kl_local_train=60.2]"
     ]
    },
    {
     "name": "stdout",
     "output_type": "stream",
     "text": [
      "\r",
      "Epoch 102/1000:  10%|█         | 102/1000 [14:37<2:05:47,  8.40s/it, v_num=ow_1, total_loss_train=1.47e+3, kl_local_train=61.5]"
     ]
    },
    {
     "name": "stdout",
     "output_type": "stream",
     "text": [
      "\r",
      "Epoch 103/1000:  10%|█         | 102/1000 [14:37<2:05:47,  8.40s/it, v_num=ow_1, total_loss_train=1.47e+3, kl_local_train=61.5]"
     ]
    },
    {
     "name": "stdout",
     "output_type": "stream",
     "text": [
      "\r",
      "Epoch 103/1000:  10%|█         | 103/1000 [14:47<2:12:09,  8.84s/it, v_num=ow_1, total_loss_train=1.47e+3, kl_local_train=61.5]"
     ]
    },
    {
     "name": "stdout",
     "output_type": "stream",
     "text": [
      "\r",
      "Epoch 103/1000:  10%|█         | 103/1000 [14:47<2:12:09,  8.84s/it, v_num=ow_1, total_loss_train=1.47e+3, kl_local_train=60.5]"
     ]
    },
    {
     "name": "stdout",
     "output_type": "stream",
     "text": [
      "\r",
      "Epoch 104/1000:  10%|█         | 103/1000 [14:47<2:12:09,  8.84s/it, v_num=ow_1, total_loss_train=1.47e+3, kl_local_train=60.5]"
     ]
    },
    {
     "name": "stdout",
     "output_type": "stream",
     "text": [
      "\r",
      "Epoch 104/1000:  10%|█         | 104/1000 [14:55<2:10:08,  8.72s/it, v_num=ow_1, total_loss_train=1.47e+3, kl_local_train=60.5]"
     ]
    },
    {
     "name": "stdout",
     "output_type": "stream",
     "text": [
      "\r",
      "Epoch 104/1000:  10%|█         | 104/1000 [14:55<2:10:08,  8.72s/it, v_num=ow_1, total_loss_train=1.47e+3, kl_local_train=61.2]"
     ]
    },
    {
     "name": "stdout",
     "output_type": "stream",
     "text": [
      "\r",
      "Epoch 105/1000:  10%|█         | 104/1000 [14:55<2:10:08,  8.72s/it, v_num=ow_1, total_loss_train=1.47e+3, kl_local_train=61.2]"
     ]
    },
    {
     "name": "stdout",
     "output_type": "stream",
     "text": [
      "\r",
      "Epoch 105/1000:  10%|█         | 105/1000 [15:04<2:08:28,  8.61s/it, v_num=ow_1, total_loss_train=1.47e+3, kl_local_train=61.2]"
     ]
    },
    {
     "name": "stdout",
     "output_type": "stream",
     "text": [
      "\r",
      "Epoch 105/1000:  10%|█         | 105/1000 [15:04<2:08:28,  8.61s/it, v_num=ow_1, total_loss_train=1.47e+3, kl_local_train=60.1]"
     ]
    },
    {
     "name": "stdout",
     "output_type": "stream",
     "text": [
      "\r",
      "Epoch 106/1000:  10%|█         | 105/1000 [15:04<2:08:28,  8.61s/it, v_num=ow_1, total_loss_train=1.47e+3, kl_local_train=60.1]"
     ]
    },
    {
     "name": "stdout",
     "output_type": "stream",
     "text": [
      "\r",
      "Epoch 106/1000:  11%|█         | 106/1000 [15:12<2:07:00,  8.52s/it, v_num=ow_1, total_loss_train=1.47e+3, kl_local_train=60.1]"
     ]
    },
    {
     "name": "stdout",
     "output_type": "stream",
     "text": [
      "\r",
      "Epoch 106/1000:  11%|█         | 106/1000 [15:12<2:07:00,  8.52s/it, v_num=ow_1, total_loss_train=1.47e+3, kl_local_train=60.3]"
     ]
    },
    {
     "name": "stdout",
     "output_type": "stream",
     "text": [
      "\r",
      "Epoch 107/1000:  11%|█         | 106/1000 [15:12<2:07:00,  8.52s/it, v_num=ow_1, total_loss_train=1.47e+3, kl_local_train=60.3]"
     ]
    },
    {
     "name": "stdout",
     "output_type": "stream",
     "text": [
      "\r",
      "Epoch 107/1000:  11%|█         | 107/1000 [15:20<2:05:48,  8.45s/it, v_num=ow_1, total_loss_train=1.47e+3, kl_local_train=60.3]"
     ]
    },
    {
     "name": "stdout",
     "output_type": "stream",
     "text": [
      "\r",
      "Epoch 107/1000:  11%|█         | 107/1000 [15:20<2:05:48,  8.45s/it, v_num=ow_1, total_loss_train=1.47e+3, kl_local_train=58.7]"
     ]
    },
    {
     "name": "stdout",
     "output_type": "stream",
     "text": [
      "\r",
      "Epoch 108/1000:  11%|█         | 107/1000 [15:20<2:05:48,  8.45s/it, v_num=ow_1, total_loss_train=1.47e+3, kl_local_train=58.7]"
     ]
    },
    {
     "name": "stdout",
     "output_type": "stream",
     "text": [
      "\r",
      "Epoch 108/1000:  11%|█         | 108/1000 [15:28<2:04:22,  8.37s/it, v_num=ow_1, total_loss_train=1.47e+3, kl_local_train=58.7]"
     ]
    },
    {
     "name": "stdout",
     "output_type": "stream",
     "text": [
      "\r",
      "Epoch 108/1000:  11%|█         | 108/1000 [15:28<2:04:22,  8.37s/it, v_num=ow_1, total_loss_train=1.47e+3, kl_local_train=58.8]"
     ]
    },
    {
     "name": "stdout",
     "output_type": "stream",
     "text": [
      "\r",
      "Epoch 109/1000:  11%|█         | 108/1000 [15:28<2:04:22,  8.37s/it, v_num=ow_1, total_loss_train=1.47e+3, kl_local_train=58.8]"
     ]
    },
    {
     "name": "stdout",
     "output_type": "stream",
     "text": [
      "\r",
      "Epoch 109/1000:  11%|█         | 109/1000 [15:37<2:03:56,  8.35s/it, v_num=ow_1, total_loss_train=1.47e+3, kl_local_train=58.8]"
     ]
    },
    {
     "name": "stdout",
     "output_type": "stream",
     "text": [
      "\r",
      "Epoch 109/1000:  11%|█         | 109/1000 [15:37<2:03:56,  8.35s/it, v_num=ow_1, total_loss_train=1.47e+3, kl_local_train=58.3]"
     ]
    },
    {
     "name": "stdout",
     "output_type": "stream",
     "text": [
      "\r",
      "Epoch 110/1000:  11%|█         | 109/1000 [15:37<2:03:56,  8.35s/it, v_num=ow_1, total_loss_train=1.47e+3, kl_local_train=58.3]"
     ]
    },
    {
     "name": "stdout",
     "output_type": "stream",
     "text": [
      "\r",
      "Epoch 110/1000:  11%|█         | 110/1000 [15:45<2:03:20,  8.32s/it, v_num=ow_1, total_loss_train=1.47e+3, kl_local_train=58.3]"
     ]
    },
    {
     "name": "stdout",
     "output_type": "stream",
     "text": [
      "\r",
      "Epoch 110/1000:  11%|█         | 110/1000 [15:45<2:03:20,  8.32s/it, v_num=ow_1, total_loss_train=1.47e+3, kl_local_train=57.5]"
     ]
    },
    {
     "name": "stdout",
     "output_type": "stream",
     "text": [
      "\r",
      "Epoch 111/1000:  11%|█         | 110/1000 [15:45<2:03:20,  8.32s/it, v_num=ow_1, total_loss_train=1.47e+3, kl_local_train=57.5]"
     ]
    },
    {
     "name": "stdout",
     "output_type": "stream",
     "text": [
      "\r",
      "Epoch 111/1000:  11%|█         | 111/1000 [15:55<2:09:54,  8.77s/it, v_num=ow_1, total_loss_train=1.47e+3, kl_local_train=57.5]"
     ]
    },
    {
     "name": "stdout",
     "output_type": "stream",
     "text": [
      "\r",
      "Epoch 111/1000:  11%|█         | 111/1000 [15:55<2:09:54,  8.77s/it, v_num=ow_1, total_loss_train=1.47e+3, kl_local_train=58.8]"
     ]
    },
    {
     "name": "stdout",
     "output_type": "stream",
     "text": [
      "\r",
      "Epoch 112/1000:  11%|█         | 111/1000 [15:55<2:09:54,  8.77s/it, v_num=ow_1, total_loss_train=1.47e+3, kl_local_train=58.8]"
     ]
    },
    {
     "name": "stdout",
     "output_type": "stream",
     "text": [
      "\r",
      "Epoch 112/1000:  11%|█         | 112/1000 [16:04<2:12:39,  8.96s/it, v_num=ow_1, total_loss_train=1.47e+3, kl_local_train=58.8]"
     ]
    },
    {
     "name": "stdout",
     "output_type": "stream",
     "text": [
      "\r",
      "Epoch 112/1000:  11%|█         | 112/1000 [16:04<2:12:39,  8.96s/it, v_num=ow_1, total_loss_train=1.47e+3, kl_local_train=58.6]"
     ]
    },
    {
     "name": "stdout",
     "output_type": "stream",
     "text": [
      "\r",
      "Epoch 113/1000:  11%|█         | 112/1000 [16:04<2:12:39,  8.96s/it, v_num=ow_1, total_loss_train=1.47e+3, kl_local_train=58.6]"
     ]
    },
    {
     "name": "stdout",
     "output_type": "stream",
     "text": [
      "\r",
      "Epoch 113/1000:  11%|█▏        | 113/1000 [16:12<2:09:14,  8.74s/it, v_num=ow_1, total_loss_train=1.47e+3, kl_local_train=58.6]"
     ]
    },
    {
     "name": "stdout",
     "output_type": "stream",
     "text": [
      "\r",
      "Epoch 113/1000:  11%|█▏        | 113/1000 [16:12<2:09:14,  8.74s/it, v_num=ow_1, total_loss_train=1.47e+3, kl_local_train=58.2]"
     ]
    },
    {
     "name": "stdout",
     "output_type": "stream",
     "text": [
      "\r",
      "Epoch 114/1000:  11%|█▏        | 113/1000 [16:12<2:09:14,  8.74s/it, v_num=ow_1, total_loss_train=1.47e+3, kl_local_train=58.2]"
     ]
    },
    {
     "name": "stdout",
     "output_type": "stream",
     "text": [
      "\r",
      "Epoch 114/1000:  11%|█▏        | 114/1000 [16:21<2:08:54,  8.73s/it, v_num=ow_1, total_loss_train=1.47e+3, kl_local_train=58.2]"
     ]
    },
    {
     "name": "stdout",
     "output_type": "stream",
     "text": [
      "\r",
      "Epoch 114/1000:  11%|█▏        | 114/1000 [16:21<2:08:54,  8.73s/it, v_num=ow_1, total_loss_train=1.47e+3, kl_local_train=58.3]"
     ]
    },
    {
     "name": "stdout",
     "output_type": "stream",
     "text": [
      "\r",
      "Epoch 115/1000:  11%|█▏        | 114/1000 [16:21<2:08:54,  8.73s/it, v_num=ow_1, total_loss_train=1.47e+3, kl_local_train=58.3]"
     ]
    },
    {
     "name": "stdout",
     "output_type": "stream",
     "text": [
      "\r",
      "Epoch 115/1000:  12%|█▏        | 115/1000 [16:30<2:09:38,  8.79s/it, v_num=ow_1, total_loss_train=1.47e+3, kl_local_train=58.3]"
     ]
    },
    {
     "name": "stdout",
     "output_type": "stream",
     "text": [
      "\r",
      "Epoch 115/1000:  12%|█▏        | 115/1000 [16:30<2:09:38,  8.79s/it, v_num=ow_1, total_loss_train=1.47e+3, kl_local_train=58.9]"
     ]
    },
    {
     "name": "stdout",
     "output_type": "stream",
     "text": [
      "\r",
      "Epoch 116/1000:  12%|█▏        | 115/1000 [16:30<2:09:38,  8.79s/it, v_num=ow_1, total_loss_train=1.47e+3, kl_local_train=58.9]"
     ]
    },
    {
     "name": "stdout",
     "output_type": "stream",
     "text": [
      "\r",
      "Epoch 116/1000:  12%|█▏        | 116/1000 [16:38<2:07:07,  8.63s/it, v_num=ow_1, total_loss_train=1.47e+3, kl_local_train=58.9]"
     ]
    },
    {
     "name": "stdout",
     "output_type": "stream",
     "text": [
      "\r",
      "Epoch 116/1000:  12%|█▏        | 116/1000 [16:38<2:07:07,  8.63s/it, v_num=ow_1, total_loss_train=1.47e+3, kl_local_train=57.4]"
     ]
    },
    {
     "name": "stdout",
     "output_type": "stream",
     "text": [
      "\r",
      "Epoch 117/1000:  12%|█▏        | 116/1000 [16:38<2:07:07,  8.63s/it, v_num=ow_1, total_loss_train=1.47e+3, kl_local_train=57.4]"
     ]
    },
    {
     "name": "stdout",
     "output_type": "stream",
     "text": [
      "\r",
      "Epoch 117/1000:  12%|█▏        | 117/1000 [16:47<2:08:48,  8.75s/it, v_num=ow_1, total_loss_train=1.47e+3, kl_local_train=57.4]"
     ]
    },
    {
     "name": "stdout",
     "output_type": "stream",
     "text": [
      "\r",
      "Epoch 117/1000:  12%|█▏        | 117/1000 [16:47<2:08:48,  8.75s/it, v_num=ow_1, total_loss_train=1.47e+3, kl_local_train=57.6]"
     ]
    },
    {
     "name": "stdout",
     "output_type": "stream",
     "text": [
      "\r",
      "Epoch 118/1000:  12%|█▏        | 117/1000 [16:47<2:08:48,  8.75s/it, v_num=ow_1, total_loss_train=1.47e+3, kl_local_train=57.6]"
     ]
    },
    {
     "name": "stdout",
     "output_type": "stream",
     "text": [
      "\r",
      "Epoch 118/1000:  12%|█▏        | 118/1000 [16:56<2:06:34,  8.61s/it, v_num=ow_1, total_loss_train=1.47e+3, kl_local_train=57.6]"
     ]
    },
    {
     "name": "stdout",
     "output_type": "stream",
     "text": [
      "\r",
      "Epoch 118/1000:  12%|█▏        | 118/1000 [16:56<2:06:34,  8.61s/it, v_num=ow_1, total_loss_train=1.46e+3, kl_local_train=57.4]"
     ]
    },
    {
     "name": "stdout",
     "output_type": "stream",
     "text": [
      "\r",
      "Epoch 119/1000:  12%|█▏        | 118/1000 [16:56<2:06:34,  8.61s/it, v_num=ow_1, total_loss_train=1.46e+3, kl_local_train=57.4]"
     ]
    },
    {
     "name": "stdout",
     "output_type": "stream",
     "text": [
      "\r",
      "Epoch 119/1000:  12%|█▏        | 119/1000 [17:04<2:07:32,  8.69s/it, v_num=ow_1, total_loss_train=1.46e+3, kl_local_train=57.4]"
     ]
    },
    {
     "name": "stdout",
     "output_type": "stream",
     "text": [
      "\r",
      "Epoch 119/1000:  12%|█▏        | 119/1000 [17:04<2:07:32,  8.69s/it, v_num=ow_1, total_loss_train=1.46e+3, kl_local_train=57.1]"
     ]
    },
    {
     "name": "stdout",
     "output_type": "stream",
     "text": [
      "\r",
      "Epoch 120/1000:  12%|█▏        | 119/1000 [17:04<2:07:32,  8.69s/it, v_num=ow_1, total_loss_train=1.46e+3, kl_local_train=57.1]"
     ]
    },
    {
     "name": "stdout",
     "output_type": "stream",
     "text": [
      "\r",
      "Epoch 120/1000:  12%|█▏        | 120/1000 [17:13<2:05:31,  8.56s/it, v_num=ow_1, total_loss_train=1.46e+3, kl_local_train=57.1]"
     ]
    },
    {
     "name": "stdout",
     "output_type": "stream",
     "text": [
      "\r",
      "Epoch 120/1000:  12%|█▏        | 120/1000 [17:13<2:05:31,  8.56s/it, v_num=ow_1, total_loss_train=1.46e+3, kl_local_train=56.4]"
     ]
    },
    {
     "name": "stdout",
     "output_type": "stream",
     "text": [
      "\r",
      "Epoch 121/1000:  12%|█▏        | 120/1000 [17:13<2:05:31,  8.56s/it, v_num=ow_1, total_loss_train=1.46e+3, kl_local_train=56.4]"
     ]
    },
    {
     "name": "stdout",
     "output_type": "stream",
     "text": [
      "\r",
      "Epoch 121/1000:  12%|█▏        | 121/1000 [17:22<2:10:42,  8.92s/it, v_num=ow_1, total_loss_train=1.46e+3, kl_local_train=56.4]"
     ]
    },
    {
     "name": "stdout",
     "output_type": "stream",
     "text": [
      "\r",
      "Epoch 121/1000:  12%|█▏        | 121/1000 [17:22<2:10:42,  8.92s/it, v_num=ow_1, total_loss_train=1.46e+3, kl_local_train=57.4]"
     ]
    },
    {
     "name": "stdout",
     "output_type": "stream",
     "text": [
      "\r",
      "Epoch 122/1000:  12%|█▏        | 121/1000 [17:22<2:10:42,  8.92s/it, v_num=ow_1, total_loss_train=1.46e+3, kl_local_train=57.4]"
     ]
    },
    {
     "name": "stdout",
     "output_type": "stream",
     "text": [
      "\r",
      "Epoch 122/1000:  12%|█▏        | 122/1000 [17:31<2:10:22,  8.91s/it, v_num=ow_1, total_loss_train=1.46e+3, kl_local_train=57.4]"
     ]
    },
    {
     "name": "stdout",
     "output_type": "stream",
     "text": [
      "\r",
      "Epoch 122/1000:  12%|█▏        | 122/1000 [17:31<2:10:22,  8.91s/it, v_num=ow_1, total_loss_train=1.46e+3, kl_local_train=57.3]"
     ]
    },
    {
     "name": "stdout",
     "output_type": "stream",
     "text": [
      "\r",
      "Epoch 123/1000:  12%|█▏        | 122/1000 [17:31<2:10:22,  8.91s/it, v_num=ow_1, total_loss_train=1.46e+3, kl_local_train=57.3]"
     ]
    },
    {
     "name": "stdout",
     "output_type": "stream",
     "text": [
      "\r",
      "Epoch 123/1000:  12%|█▏        | 123/1000 [17:40<2:09:59,  8.89s/it, v_num=ow_1, total_loss_train=1.46e+3, kl_local_train=57.3]"
     ]
    },
    {
     "name": "stdout",
     "output_type": "stream",
     "text": [
      "\r",
      "Epoch 123/1000:  12%|█▏        | 123/1000 [17:40<2:09:59,  8.89s/it, v_num=ow_1, total_loss_train=1.46e+3, kl_local_train=56.7]"
     ]
    },
    {
     "name": "stdout",
     "output_type": "stream",
     "text": [
      "\r",
      "Epoch 124/1000:  12%|█▏        | 123/1000 [17:40<2:09:59,  8.89s/it, v_num=ow_1, total_loss_train=1.46e+3, kl_local_train=56.7]"
     ]
    },
    {
     "name": "stdout",
     "output_type": "stream",
     "text": [
      "\r",
      "Epoch 124/1000:  12%|█▏        | 124/1000 [17:49<2:10:02,  8.91s/it, v_num=ow_1, total_loss_train=1.46e+3, kl_local_train=56.7]"
     ]
    },
    {
     "name": "stdout",
     "output_type": "stream",
     "text": [
      "\r",
      "Epoch 124/1000:  12%|█▏        | 124/1000 [17:49<2:10:02,  8.91s/it, v_num=ow_1, total_loss_train=1.46e+3, kl_local_train=56.6]"
     ]
    },
    {
     "name": "stdout",
     "output_type": "stream",
     "text": [
      "\r",
      "Epoch 125/1000:  12%|█▏        | 124/1000 [17:49<2:10:02,  8.91s/it, v_num=ow_1, total_loss_train=1.46e+3, kl_local_train=56.6]"
     ]
    },
    {
     "name": "stdout",
     "output_type": "stream",
     "text": [
      "\r",
      "Epoch 125/1000:  12%|█▎        | 125/1000 [17:58<2:07:39,  8.75s/it, v_num=ow_1, total_loss_train=1.46e+3, kl_local_train=56.6]"
     ]
    },
    {
     "name": "stdout",
     "output_type": "stream",
     "text": [
      "\r",
      "Epoch 125/1000:  12%|█▎        | 125/1000 [17:58<2:07:39,  8.75s/it, v_num=ow_1, total_loss_train=1.46e+3, kl_local_train=56.7]"
     ]
    },
    {
     "name": "stdout",
     "output_type": "stream",
     "text": [
      "\r",
      "Epoch 126/1000:  12%|█▎        | 125/1000 [17:58<2:07:39,  8.75s/it, v_num=ow_1, total_loss_train=1.46e+3, kl_local_train=56.7]"
     ]
    },
    {
     "name": "stdout",
     "output_type": "stream",
     "text": [
      "\r",
      "Epoch 126/1000:  13%|█▎        | 126/1000 [18:07<2:11:05,  9.00s/it, v_num=ow_1, total_loss_train=1.46e+3, kl_local_train=56.7]"
     ]
    },
    {
     "name": "stdout",
     "output_type": "stream",
     "text": [
      "\r",
      "Epoch 126/1000:  13%|█▎        | 126/1000 [18:07<2:11:05,  9.00s/it, v_num=ow_1, total_loss_train=1.46e+3, kl_local_train=56.7]"
     ]
    },
    {
     "name": "stdout",
     "output_type": "stream",
     "text": [
      "\r",
      "Epoch 127/1000:  13%|█▎        | 126/1000 [18:07<2:11:05,  9.00s/it, v_num=ow_1, total_loss_train=1.46e+3, kl_local_train=56.7]"
     ]
    },
    {
     "name": "stdout",
     "output_type": "stream",
     "text": [
      "\r",
      "Epoch 127/1000:  13%|█▎        | 127/1000 [18:17<2:16:50,  9.41s/it, v_num=ow_1, total_loss_train=1.46e+3, kl_local_train=56.7]"
     ]
    },
    {
     "name": "stdout",
     "output_type": "stream",
     "text": [
      "\r",
      "Epoch 127/1000:  13%|█▎        | 127/1000 [18:17<2:16:50,  9.41s/it, v_num=ow_1, total_loss_train=1.46e+3, kl_local_train=55.8]"
     ]
    },
    {
     "name": "stdout",
     "output_type": "stream",
     "text": [
      "\r",
      "Epoch 128/1000:  13%|█▎        | 127/1000 [18:17<2:16:50,  9.41s/it, v_num=ow_1, total_loss_train=1.46e+3, kl_local_train=55.8]"
     ]
    },
    {
     "name": "stdout",
     "output_type": "stream",
     "text": [
      "\r",
      "Epoch 128/1000:  13%|█▎        | 128/1000 [18:26<2:11:40,  9.06s/it, v_num=ow_1, total_loss_train=1.46e+3, kl_local_train=55.8]"
     ]
    },
    {
     "name": "stdout",
     "output_type": "stream",
     "text": [
      "\r",
      "Epoch 128/1000:  13%|█▎        | 128/1000 [18:26<2:11:40,  9.06s/it, v_num=ow_1, total_loss_train=1.46e+3, kl_local_train=56.9]"
     ]
    },
    {
     "name": "stdout",
     "output_type": "stream",
     "text": [
      "\r",
      "Epoch 129/1000:  13%|█▎        | 128/1000 [18:26<2:11:40,  9.06s/it, v_num=ow_1, total_loss_train=1.46e+3, kl_local_train=56.9]"
     ]
    },
    {
     "name": "stdout",
     "output_type": "stream",
     "text": [
      "\r",
      "Epoch 129/1000:  13%|█▎        | 129/1000 [18:35<2:10:23,  8.98s/it, v_num=ow_1, total_loss_train=1.46e+3, kl_local_train=56.9]"
     ]
    },
    {
     "name": "stdout",
     "output_type": "stream",
     "text": [
      "\r",
      "Epoch 129/1000:  13%|█▎        | 129/1000 [18:35<2:10:23,  8.98s/it, v_num=ow_1, total_loss_train=1.46e+3, kl_local_train=56.6]"
     ]
    },
    {
     "name": "stdout",
     "output_type": "stream",
     "text": [
      "\r",
      "Epoch 130/1000:  13%|█▎        | 129/1000 [18:35<2:10:23,  8.98s/it, v_num=ow_1, total_loss_train=1.46e+3, kl_local_train=56.6]"
     ]
    },
    {
     "name": "stdout",
     "output_type": "stream",
     "text": [
      "\r",
      "Epoch 130/1000:  13%|█▎        | 130/1000 [18:43<2:09:26,  8.93s/it, v_num=ow_1, total_loss_train=1.46e+3, kl_local_train=56.6]"
     ]
    },
    {
     "name": "stdout",
     "output_type": "stream",
     "text": [
      "\r",
      "Epoch 130/1000:  13%|█▎        | 130/1000 [18:43<2:09:26,  8.93s/it, v_num=ow_1, total_loss_train=1.46e+3, kl_local_train=56.2]"
     ]
    },
    {
     "name": "stdout",
     "output_type": "stream",
     "text": [
      "\r",
      "Epoch 131/1000:  13%|█▎        | 130/1000 [18:43<2:09:26,  8.93s/it, v_num=ow_1, total_loss_train=1.46e+3, kl_local_train=56.2]"
     ]
    },
    {
     "name": "stdout",
     "output_type": "stream",
     "text": [
      "\r",
      "Epoch 131/1000:  13%|█▎        | 131/1000 [18:52<2:08:41,  8.89s/it, v_num=ow_1, total_loss_train=1.46e+3, kl_local_train=56.2]"
     ]
    },
    {
     "name": "stdout",
     "output_type": "stream",
     "text": [
      "\r",
      "Epoch 131/1000:  13%|█▎        | 131/1000 [18:52<2:08:41,  8.89s/it, v_num=ow_1, total_loss_train=1.46e+3, kl_local_train=56.1]"
     ]
    },
    {
     "name": "stdout",
     "output_type": "stream",
     "text": [
      "\r",
      "Epoch 132/1000:  13%|█▎        | 131/1000 [18:52<2:08:41,  8.89s/it, v_num=ow_1, total_loss_train=1.46e+3, kl_local_train=56.1]"
     ]
    },
    {
     "name": "stdout",
     "output_type": "stream",
     "text": [
      "\r",
      "Epoch 132/1000:  13%|█▎        | 132/1000 [19:02<2:11:09,  9.07s/it, v_num=ow_1, total_loss_train=1.46e+3, kl_local_train=56.1]"
     ]
    },
    {
     "name": "stdout",
     "output_type": "stream",
     "text": [
      "\r",
      "Epoch 132/1000:  13%|█▎        | 132/1000 [19:02<2:11:09,  9.07s/it, v_num=ow_1, total_loss_train=1.46e+3, kl_local_train=55.7]"
     ]
    },
    {
     "name": "stdout",
     "output_type": "stream",
     "text": [
      "\r",
      "Epoch 133/1000:  13%|█▎        | 132/1000 [19:02<2:11:09,  9.07s/it, v_num=ow_1, total_loss_train=1.46e+3, kl_local_train=55.7]"
     ]
    },
    {
     "name": "stdout",
     "output_type": "stream",
     "text": [
      "\r",
      "Epoch 133/1000:  13%|█▎        | 133/1000 [19:10<2:07:06,  8.80s/it, v_num=ow_1, total_loss_train=1.46e+3, kl_local_train=55.7]"
     ]
    },
    {
     "name": "stdout",
     "output_type": "stream",
     "text": [
      "\r",
      "Epoch 133/1000:  13%|█▎        | 133/1000 [19:10<2:07:06,  8.80s/it, v_num=ow_1, total_loss_train=1.46e+3, kl_local_train=55.9]"
     ]
    },
    {
     "name": "stdout",
     "output_type": "stream",
     "text": [
      "\r",
      "Epoch 134/1000:  13%|█▎        | 133/1000 [19:10<2:07:06,  8.80s/it, v_num=ow_1, total_loss_train=1.46e+3, kl_local_train=55.9]"
     ]
    },
    {
     "name": "stdout",
     "output_type": "stream",
     "text": [
      "\r",
      "Epoch 134/1000:  13%|█▎        | 134/1000 [19:19<2:06:46,  8.78s/it, v_num=ow_1, total_loss_train=1.46e+3, kl_local_train=55.9]"
     ]
    },
    {
     "name": "stdout",
     "output_type": "stream",
     "text": [
      "\r",
      "Epoch 134/1000:  13%|█▎        | 134/1000 [19:19<2:06:46,  8.78s/it, v_num=ow_1, total_loss_train=1.46e+3, kl_local_train=55.9]"
     ]
    },
    {
     "name": "stdout",
     "output_type": "stream",
     "text": [
      "\r",
      "Epoch 135/1000:  13%|█▎        | 134/1000 [19:19<2:06:46,  8.78s/it, v_num=ow_1, total_loss_train=1.46e+3, kl_local_train=55.9]"
     ]
    },
    {
     "name": "stdout",
     "output_type": "stream",
     "text": [
      "\r",
      "Epoch 135/1000:  14%|█▎        | 135/1000 [19:27<2:06:48,  8.80s/it, v_num=ow_1, total_loss_train=1.46e+3, kl_local_train=55.9]"
     ]
    },
    {
     "name": "stdout",
     "output_type": "stream",
     "text": [
      "\r",
      "Epoch 135/1000:  14%|█▎        | 135/1000 [19:27<2:06:48,  8.80s/it, v_num=ow_1, total_loss_train=1.46e+3, kl_local_train=55.5]"
     ]
    },
    {
     "name": "stdout",
     "output_type": "stream",
     "text": [
      "\r",
      "Epoch 136/1000:  14%|█▎        | 135/1000 [19:27<2:06:48,  8.80s/it, v_num=ow_1, total_loss_train=1.46e+3, kl_local_train=55.5]"
     ]
    },
    {
     "name": "stdout",
     "output_type": "stream",
     "text": [
      "\r",
      "Epoch 136/1000:  14%|█▎        | 136/1000 [19:36<2:06:43,  8.80s/it, v_num=ow_1, total_loss_train=1.46e+3, kl_local_train=55.5]"
     ]
    },
    {
     "name": "stdout",
     "output_type": "stream",
     "text": [
      "\r",
      "Epoch 136/1000:  14%|█▎        | 136/1000 [19:36<2:06:43,  8.80s/it, v_num=ow_1, total_loss_train=1.46e+3, kl_local_train=54.9]"
     ]
    },
    {
     "name": "stdout",
     "output_type": "stream",
     "text": [
      "\r",
      "Epoch 137/1000:  14%|█▎        | 136/1000 [19:36<2:06:43,  8.80s/it, v_num=ow_1, total_loss_train=1.46e+3, kl_local_train=54.9]"
     ]
    },
    {
     "name": "stdout",
     "output_type": "stream",
     "text": [
      "\r",
      "Epoch 137/1000:  14%|█▎        | 137/1000 [19:45<2:06:33,  8.80s/it, v_num=ow_1, total_loss_train=1.46e+3, kl_local_train=54.9]"
     ]
    },
    {
     "name": "stdout",
     "output_type": "stream",
     "text": [
      "\r",
      "Epoch 137/1000:  14%|█▎        | 137/1000 [19:45<2:06:33,  8.80s/it, v_num=ow_1, total_loss_train=1.46e+3, kl_local_train=54.9]"
     ]
    },
    {
     "name": "stdout",
     "output_type": "stream",
     "text": [
      "\r",
      "Epoch 138/1000:  14%|█▎        | 137/1000 [19:45<2:06:33,  8.80s/it, v_num=ow_1, total_loss_train=1.46e+3, kl_local_train=54.9]"
     ]
    },
    {
     "name": "stdout",
     "output_type": "stream",
     "text": [
      "\r",
      "Epoch 138/1000:  14%|█▍        | 138/1000 [19:54<2:05:30,  8.74s/it, v_num=ow_1, total_loss_train=1.46e+3, kl_local_train=54.9]"
     ]
    },
    {
     "name": "stdout",
     "output_type": "stream",
     "text": [
      "\r",
      "Epoch 138/1000:  14%|█▍        | 138/1000 [19:54<2:05:30,  8.74s/it, v_num=ow_1, total_loss_train=1.46e+3, kl_local_train=54.5]"
     ]
    },
    {
     "name": "stdout",
     "output_type": "stream",
     "text": [
      "\r",
      "Epoch 139/1000:  14%|█▍        | 138/1000 [19:54<2:05:30,  8.74s/it, v_num=ow_1, total_loss_train=1.46e+3, kl_local_train=54.5]"
     ]
    },
    {
     "name": "stdout",
     "output_type": "stream",
     "text": [
      "\r",
      "Epoch 139/1000:  14%|█▍        | 139/1000 [20:02<2:03:21,  8.60s/it, v_num=ow_1, total_loss_train=1.46e+3, kl_local_train=54.5]"
     ]
    },
    {
     "name": "stdout",
     "output_type": "stream",
     "text": [
      "\r",
      "Epoch 139/1000:  14%|█▍        | 139/1000 [20:02<2:03:21,  8.60s/it, v_num=ow_1, total_loss_train=1.46e+3, kl_local_train=54.6]"
     ]
    },
    {
     "name": "stdout",
     "output_type": "stream",
     "text": [
      "\r",
      "Epoch 140/1000:  14%|█▍        | 139/1000 [20:02<2:03:21,  8.60s/it, v_num=ow_1, total_loss_train=1.46e+3, kl_local_train=54.6]"
     ]
    },
    {
     "name": "stdout",
     "output_type": "stream",
     "text": [
      "\r",
      "Epoch 140/1000:  14%|█▍        | 140/1000 [20:11<2:04:20,  8.67s/it, v_num=ow_1, total_loss_train=1.46e+3, kl_local_train=54.6]"
     ]
    },
    {
     "name": "stdout",
     "output_type": "stream",
     "text": [
      "\r",
      "Epoch 140/1000:  14%|█▍        | 140/1000 [20:11<2:04:20,  8.67s/it, v_num=ow_1, total_loss_train=1.46e+3, kl_local_train=55.2]"
     ]
    },
    {
     "name": "stdout",
     "output_type": "stream",
     "text": [
      "\r",
      "Epoch 141/1000:  14%|█▍        | 140/1000 [20:11<2:04:20,  8.67s/it, v_num=ow_1, total_loss_train=1.46e+3, kl_local_train=55.2]"
     ]
    },
    {
     "name": "stdout",
     "output_type": "stream",
     "text": [
      "\r",
      "Epoch 141/1000:  14%|█▍        | 141/1000 [20:19<2:04:33,  8.70s/it, v_num=ow_1, total_loss_train=1.46e+3, kl_local_train=55.2]"
     ]
    },
    {
     "name": "stdout",
     "output_type": "stream",
     "text": [
      "\r",
      "Epoch 141/1000:  14%|█▍        | 141/1000 [20:19<2:04:33,  8.70s/it, v_num=ow_1, total_loss_train=1.46e+3, kl_local_train=54.9]"
     ]
    },
    {
     "name": "stdout",
     "output_type": "stream",
     "text": [
      "\r",
      "Epoch 142/1000:  14%|█▍        | 141/1000 [20:19<2:04:33,  8.70s/it, v_num=ow_1, total_loss_train=1.46e+3, kl_local_train=54.9]"
     ]
    },
    {
     "name": "stdout",
     "output_type": "stream",
     "text": [
      "\r",
      "Epoch 142/1000:  14%|█▍        | 142/1000 [20:28<2:04:54,  8.74s/it, v_num=ow_1, total_loss_train=1.46e+3, kl_local_train=54.9]"
     ]
    },
    {
     "name": "stdout",
     "output_type": "stream",
     "text": [
      "\r",
      "Epoch 142/1000:  14%|█▍        | 142/1000 [20:28<2:04:54,  8.74s/it, v_num=ow_1, total_loss_train=1.46e+3, kl_local_train=54.4]"
     ]
    },
    {
     "name": "stdout",
     "output_type": "stream",
     "text": [
      "\r",
      "Epoch 143/1000:  14%|█▍        | 142/1000 [20:28<2:04:54,  8.74s/it, v_num=ow_1, total_loss_train=1.46e+3, kl_local_train=54.4]"
     ]
    },
    {
     "name": "stdout",
     "output_type": "stream",
     "text": [
      "\r",
      "Epoch 143/1000:  14%|█▍        | 143/1000 [20:37<2:05:13,  8.77s/it, v_num=ow_1, total_loss_train=1.46e+3, kl_local_train=54.4]"
     ]
    },
    {
     "name": "stdout",
     "output_type": "stream",
     "text": [
      "\r",
      "Epoch 143/1000:  14%|█▍        | 143/1000 [20:37<2:05:13,  8.77s/it, v_num=ow_1, total_loss_train=1.46e+3, kl_local_train=54.2]"
     ]
    },
    {
     "name": "stdout",
     "output_type": "stream",
     "text": [
      "\r",
      "Epoch 144/1000:  14%|█▍        | 143/1000 [20:37<2:05:13,  8.77s/it, v_num=ow_1, total_loss_train=1.46e+3, kl_local_train=54.2]"
     ]
    },
    {
     "name": "stdout",
     "output_type": "stream",
     "text": [
      "\r",
      "Epoch 144/1000:  14%|█▍        | 144/1000 [20:46<2:05:19,  8.78s/it, v_num=ow_1, total_loss_train=1.46e+3, kl_local_train=54.2]"
     ]
    },
    {
     "name": "stdout",
     "output_type": "stream",
     "text": [
      "\r",
      "Epoch 144/1000:  14%|█▍        | 144/1000 [20:46<2:05:19,  8.78s/it, v_num=ow_1, total_loss_train=1.46e+3, kl_local_train=53.8]"
     ]
    },
    {
     "name": "stdout",
     "output_type": "stream",
     "text": [
      "\r",
      "Epoch 145/1000:  14%|█▍        | 144/1000 [20:46<2:05:19,  8.78s/it, v_num=ow_1, total_loss_train=1.46e+3, kl_local_train=53.8]"
     ]
    },
    {
     "name": "stdout",
     "output_type": "stream",
     "text": [
      "\r",
      "Epoch 145/1000:  14%|█▍        | 145/1000 [20:55<2:05:17,  8.79s/it, v_num=ow_1, total_loss_train=1.46e+3, kl_local_train=53.8]"
     ]
    },
    {
     "name": "stdout",
     "output_type": "stream",
     "text": [
      "\r",
      "Epoch 145/1000:  14%|█▍        | 145/1000 [20:55<2:05:17,  8.79s/it, v_num=ow_1, total_loss_train=1.46e+3, kl_local_train=54.3]"
     ]
    },
    {
     "name": "stdout",
     "output_type": "stream",
     "text": [
      "\r",
      "Epoch 146/1000:  14%|█▍        | 145/1000 [20:55<2:05:17,  8.79s/it, v_num=ow_1, total_loss_train=1.46e+3, kl_local_train=54.3]"
     ]
    },
    {
     "name": "stdout",
     "output_type": "stream",
     "text": [
      "\r",
      "Epoch 146/1000:  15%|█▍        | 146/1000 [21:04<2:05:21,  8.81s/it, v_num=ow_1, total_loss_train=1.46e+3, kl_local_train=54.3]"
     ]
    },
    {
     "name": "stdout",
     "output_type": "stream",
     "text": [
      "\r",
      "Epoch 146/1000:  15%|█▍        | 146/1000 [21:04<2:05:21,  8.81s/it, v_num=ow_1, total_loss_train=1.46e+3, kl_local_train=53.7]"
     ]
    },
    {
     "name": "stdout",
     "output_type": "stream",
     "text": [
      "\r",
      "Epoch 147/1000:  15%|█▍        | 146/1000 [21:04<2:05:21,  8.81s/it, v_num=ow_1, total_loss_train=1.46e+3, kl_local_train=53.7]"
     ]
    },
    {
     "name": "stdout",
     "output_type": "stream",
     "text": [
      "\r",
      "Epoch 147/1000:  15%|█▍        | 147/1000 [21:12<2:05:15,  8.81s/it, v_num=ow_1, total_loss_train=1.46e+3, kl_local_train=53.7]"
     ]
    },
    {
     "name": "stdout",
     "output_type": "stream",
     "text": [
      "\r",
      "Epoch 147/1000:  15%|█▍        | 147/1000 [21:12<2:05:15,  8.81s/it, v_num=ow_1, total_loss_train=1.46e+3, kl_local_train=54.4]"
     ]
    },
    {
     "name": "stdout",
     "output_type": "stream",
     "text": [
      "\r",
      "Epoch 148/1000:  15%|█▍        | 147/1000 [21:12<2:05:15,  8.81s/it, v_num=ow_1, total_loss_train=1.46e+3, kl_local_train=54.4]"
     ]
    },
    {
     "name": "stdout",
     "output_type": "stream",
     "text": [
      "\r",
      "Epoch 148/1000:  15%|█▍        | 148/1000 [21:21<2:04:20,  8.76s/it, v_num=ow_1, total_loss_train=1.46e+3, kl_local_train=54.4]"
     ]
    },
    {
     "name": "stdout",
     "output_type": "stream",
     "text": [
      "\r",
      "Epoch 148/1000:  15%|█▍        | 148/1000 [21:21<2:04:20,  8.76s/it, v_num=ow_1, total_loss_train=1.46e+3, kl_local_train=54]  "
     ]
    },
    {
     "name": "stdout",
     "output_type": "stream",
     "text": [
      "\r",
      "Epoch 149/1000:  15%|█▍        | 148/1000 [21:21<2:04:20,  8.76s/it, v_num=ow_1, total_loss_train=1.46e+3, kl_local_train=54]"
     ]
    },
    {
     "name": "stdout",
     "output_type": "stream",
     "text": [
      "\r",
      "Epoch 149/1000:  15%|█▍        | 149/1000 [21:30<2:03:21,  8.70s/it, v_num=ow_1, total_loss_train=1.46e+3, kl_local_train=54]"
     ]
    },
    {
     "name": "stdout",
     "output_type": "stream",
     "text": [
      "\r",
      "Epoch 149/1000:  15%|█▍        | 149/1000 [21:30<2:03:21,  8.70s/it, v_num=ow_1, total_loss_train=1.46e+3, kl_local_train=54]"
     ]
    },
    {
     "name": "stdout",
     "output_type": "stream",
     "text": [
      "\r",
      "Epoch 150/1000:  15%|█▍        | 149/1000 [21:30<2:03:21,  8.70s/it, v_num=ow_1, total_loss_train=1.46e+3, kl_local_train=54]"
     ]
    },
    {
     "name": "stdout",
     "output_type": "stream",
     "text": [
      "\r",
      "Epoch 150/1000:  15%|█▌        | 150/1000 [21:38<2:01:00,  8.54s/it, v_num=ow_1, total_loss_train=1.46e+3, kl_local_train=54]"
     ]
    },
    {
     "name": "stdout",
     "output_type": "stream",
     "text": [
      "\r",
      "Epoch 150/1000:  15%|█▌        | 150/1000 [21:38<2:01:00,  8.54s/it, v_num=ow_1, total_loss_train=1.46e+3, kl_local_train=53.6]"
     ]
    },
    {
     "name": "stdout",
     "output_type": "stream",
     "text": [
      "\r",
      "Epoch 151/1000:  15%|█▌        | 150/1000 [21:38<2:01:00,  8.54s/it, v_num=ow_1, total_loss_train=1.46e+3, kl_local_train=53.6]"
     ]
    },
    {
     "name": "stdout",
     "output_type": "stream",
     "text": [
      "\r",
      "Epoch 151/1000:  15%|█▌        | 151/1000 [21:47<2:01:52,  8.61s/it, v_num=ow_1, total_loss_train=1.46e+3, kl_local_train=53.6]"
     ]
    },
    {
     "name": "stdout",
     "output_type": "stream",
     "text": [
      "\r",
      "Epoch 151/1000:  15%|█▌        | 151/1000 [21:47<2:01:52,  8.61s/it, v_num=ow_1, total_loss_train=1.46e+3, kl_local_train=53.3]"
     ]
    },
    {
     "name": "stdout",
     "output_type": "stream",
     "text": [
      "\r",
      "Epoch 152/1000:  15%|█▌        | 151/1000 [21:47<2:01:52,  8.61s/it, v_num=ow_1, total_loss_train=1.46e+3, kl_local_train=53.3]"
     ]
    },
    {
     "name": "stdout",
     "output_type": "stream",
     "text": [
      "\r",
      "Epoch 152/1000:  15%|█▌        | 152/1000 [21:55<2:02:33,  8.67s/it, v_num=ow_1, total_loss_train=1.46e+3, kl_local_train=53.3]"
     ]
    },
    {
     "name": "stdout",
     "output_type": "stream",
     "text": [
      "\r",
      "Epoch 152/1000:  15%|█▌        | 152/1000 [21:55<2:02:33,  8.67s/it, v_num=ow_1, total_loss_train=1.46e+3, kl_local_train=53.9]"
     ]
    },
    {
     "name": "stdout",
     "output_type": "stream",
     "text": [
      "\r",
      "Epoch 153/1000:  15%|█▌        | 152/1000 [21:55<2:02:33,  8.67s/it, v_num=ow_1, total_loss_train=1.46e+3, kl_local_train=53.9]"
     ]
    },
    {
     "name": "stdout",
     "output_type": "stream",
     "text": [
      "\r",
      "Epoch 153/1000:  15%|█▌        | 153/1000 [22:04<2:03:08,  8.72s/it, v_num=ow_1, total_loss_train=1.46e+3, kl_local_train=53.9]"
     ]
    },
    {
     "name": "stdout",
     "output_type": "stream",
     "text": [
      "\r",
      "Epoch 153/1000:  15%|█▌        | 153/1000 [22:04<2:03:08,  8.72s/it, v_num=ow_1, total_loss_train=1.46e+3, kl_local_train=53.6]"
     ]
    },
    {
     "name": "stdout",
     "output_type": "stream",
     "text": [
      "\r",
      "Epoch 154/1000:  15%|█▌        | 153/1000 [22:04<2:03:08,  8.72s/it, v_num=ow_1, total_loss_train=1.46e+3, kl_local_train=53.6]"
     ]
    },
    {
     "name": "stdout",
     "output_type": "stream",
     "text": [
      "\r",
      "Epoch 154/1000:  15%|█▌        | 154/1000 [22:13<2:02:21,  8.68s/it, v_num=ow_1, total_loss_train=1.46e+3, kl_local_train=53.6]"
     ]
    },
    {
     "name": "stdout",
     "output_type": "stream",
     "text": [
      "\r",
      "Epoch 154/1000:  15%|█▌        | 154/1000 [22:13<2:02:21,  8.68s/it, v_num=ow_1, total_loss_train=1.46e+3, kl_local_train=54]  "
     ]
    },
    {
     "name": "stdout",
     "output_type": "stream",
     "text": [
      "\r",
      "Epoch 155/1000:  15%|█▌        | 154/1000 [22:13<2:02:21,  8.68s/it, v_num=ow_1, total_loss_train=1.46e+3, kl_local_train=54]"
     ]
    },
    {
     "name": "stdout",
     "output_type": "stream",
     "text": [
      "\r",
      "Epoch 155/1000:  16%|█▌        | 155/1000 [22:22<2:02:52,  8.72s/it, v_num=ow_1, total_loss_train=1.46e+3, kl_local_train=54]"
     ]
    },
    {
     "name": "stdout",
     "output_type": "stream",
     "text": [
      "\r",
      "Epoch 155/1000:  16%|█▌        | 155/1000 [22:22<2:02:52,  8.72s/it, v_num=ow_1, total_loss_train=1.46e+3, kl_local_train=53.5]"
     ]
    },
    {
     "name": "stdout",
     "output_type": "stream",
     "text": [
      "\r",
      "Epoch 156/1000:  16%|█▌        | 155/1000 [22:22<2:02:52,  8.72s/it, v_num=ow_1, total_loss_train=1.46e+3, kl_local_train=53.5]"
     ]
    },
    {
     "name": "stdout",
     "output_type": "stream",
     "text": [
      "\r",
      "Epoch 156/1000:  16%|█▌        | 156/1000 [22:30<2:03:14,  8.76s/it, v_num=ow_1, total_loss_train=1.46e+3, kl_local_train=53.5]"
     ]
    },
    {
     "name": "stdout",
     "output_type": "stream",
     "text": [
      "\r",
      "Epoch 156/1000:  16%|█▌        | 156/1000 [22:30<2:03:14,  8.76s/it, v_num=ow_1, total_loss_train=1.46e+3, kl_local_train=52.5]"
     ]
    },
    {
     "name": "stdout",
     "output_type": "stream",
     "text": [
      "\r",
      "Epoch 157/1000:  16%|█▌        | 156/1000 [22:30<2:03:14,  8.76s/it, v_num=ow_1, total_loss_train=1.46e+3, kl_local_train=52.5]"
     ]
    },
    {
     "name": "stdout",
     "output_type": "stream",
     "text": [
      "\r",
      "Epoch 157/1000:  16%|█▌        | 157/1000 [22:39<2:03:24,  8.78s/it, v_num=ow_1, total_loss_train=1.46e+3, kl_local_train=52.5]"
     ]
    },
    {
     "name": "stdout",
     "output_type": "stream",
     "text": [
      "\r",
      "Epoch 157/1000:  16%|█▌        | 157/1000 [22:39<2:03:24,  8.78s/it, v_num=ow_1, total_loss_train=1.45e+3, kl_local_train=53.2]"
     ]
    },
    {
     "name": "stdout",
     "output_type": "stream",
     "text": [
      "\r",
      "Epoch 158/1000:  16%|█▌        | 157/1000 [22:39<2:03:24,  8.78s/it, v_num=ow_1, total_loss_train=1.45e+3, kl_local_train=53.2]"
     ]
    },
    {
     "name": "stdout",
     "output_type": "stream",
     "text": [
      "\r",
      "Epoch 158/1000:  16%|█▌        | 158/1000 [22:47<2:00:18,  8.57s/it, v_num=ow_1, total_loss_train=1.45e+3, kl_local_train=53.2]"
     ]
    },
    {
     "name": "stdout",
     "output_type": "stream",
     "text": [
      "\r",
      "Epoch 158/1000:  16%|█▌        | 158/1000 [22:47<2:00:18,  8.57s/it, v_num=ow_1, total_loss_train=1.46e+3, kl_local_train=53.5]"
     ]
    },
    {
     "name": "stdout",
     "output_type": "stream",
     "text": [
      "\r",
      "Epoch 159/1000:  16%|█▌        | 158/1000 [22:47<2:00:18,  8.57s/it, v_num=ow_1, total_loss_train=1.46e+3, kl_local_train=53.5]"
     ]
    },
    {
     "name": "stdout",
     "output_type": "stream",
     "text": [
      "\r",
      "Epoch 159/1000:  16%|█▌        | 159/1000 [22:56<1:58:20,  8.44s/it, v_num=ow_1, total_loss_train=1.46e+3, kl_local_train=53.5]"
     ]
    },
    {
     "name": "stdout",
     "output_type": "stream",
     "text": [
      "\r",
      "Epoch 159/1000:  16%|█▌        | 159/1000 [22:56<1:58:20,  8.44s/it, v_num=ow_1, total_loss_train=1.46e+3, kl_local_train=52.9]"
     ]
    },
    {
     "name": "stdout",
     "output_type": "stream",
     "text": [
      "\r",
      "Epoch 160/1000:  16%|█▌        | 159/1000 [22:56<1:58:20,  8.44s/it, v_num=ow_1, total_loss_train=1.46e+3, kl_local_train=52.9]"
     ]
    },
    {
     "name": "stdout",
     "output_type": "stream",
     "text": [
      "\r",
      "Epoch 160/1000:  16%|█▌        | 160/1000 [23:05<2:04:07,  8.87s/it, v_num=ow_1, total_loss_train=1.46e+3, kl_local_train=52.9]"
     ]
    },
    {
     "name": "stdout",
     "output_type": "stream",
     "text": [
      "\r",
      "Epoch 160/1000:  16%|█▌        | 160/1000 [23:05<2:04:07,  8.87s/it, v_num=ow_1, total_loss_train=1.45e+3, kl_local_train=53.3]"
     ]
    },
    {
     "name": "stdout",
     "output_type": "stream",
     "text": [
      "\r",
      "Epoch 161/1000:  16%|█▌        | 160/1000 [23:05<2:04:07,  8.87s/it, v_num=ow_1, total_loss_train=1.45e+3, kl_local_train=53.3]"
     ]
    },
    {
     "name": "stdout",
     "output_type": "stream",
     "text": [
      "\r",
      "Epoch 161/1000:  16%|█▌        | 161/1000 [23:14<2:04:15,  8.89s/it, v_num=ow_1, total_loss_train=1.45e+3, kl_local_train=53.3]"
     ]
    },
    {
     "name": "stdout",
     "output_type": "stream",
     "text": [
      "\r",
      "Epoch 161/1000:  16%|█▌        | 161/1000 [23:14<2:04:15,  8.89s/it, v_num=ow_1, total_loss_train=1.46e+3, kl_local_train=52.7]"
     ]
    },
    {
     "name": "stdout",
     "output_type": "stream",
     "text": [
      "\r",
      "Epoch 162/1000:  16%|█▌        | 161/1000 [23:14<2:04:15,  8.89s/it, v_num=ow_1, total_loss_train=1.46e+3, kl_local_train=52.7]"
     ]
    },
    {
     "name": "stdout",
     "output_type": "stream",
     "text": [
      "\r",
      "Epoch 162/1000:  16%|█▌        | 162/1000 [23:24<2:06:24,  9.05s/it, v_num=ow_1, total_loss_train=1.46e+3, kl_local_train=52.7]"
     ]
    },
    {
     "name": "stdout",
     "output_type": "stream",
     "text": [
      "\r",
      "Epoch 162/1000:  16%|█▌        | 162/1000 [23:24<2:06:24,  9.05s/it, v_num=ow_1, total_loss_train=1.46e+3, kl_local_train=53.3]"
     ]
    },
    {
     "name": "stdout",
     "output_type": "stream",
     "text": [
      "\r",
      "Epoch 163/1000:  16%|█▌        | 162/1000 [23:24<2:06:24,  9.05s/it, v_num=ow_1, total_loss_train=1.46e+3, kl_local_train=53.3]"
     ]
    },
    {
     "name": "stdout",
     "output_type": "stream",
     "text": [
      "\r",
      "Epoch 163/1000:  16%|█▋        | 163/1000 [23:32<2:03:16,  8.84s/it, v_num=ow_1, total_loss_train=1.46e+3, kl_local_train=53.3]"
     ]
    },
    {
     "name": "stdout",
     "output_type": "stream",
     "text": [
      "\r",
      "Epoch 163/1000:  16%|█▋        | 163/1000 [23:32<2:03:16,  8.84s/it, v_num=ow_1, total_loss_train=1.45e+3, kl_local_train=52.4]"
     ]
    },
    {
     "name": "stdout",
     "output_type": "stream",
     "text": [
      "\r",
      "Epoch 164/1000:  16%|█▋        | 163/1000 [23:32<2:03:16,  8.84s/it, v_num=ow_1, total_loss_train=1.45e+3, kl_local_train=52.4]"
     ]
    },
    {
     "name": "stdout",
     "output_type": "stream",
     "text": [
      "\r",
      "Epoch 164/1000:  16%|█▋        | 164/1000 [23:40<2:00:39,  8.66s/it, v_num=ow_1, total_loss_train=1.45e+3, kl_local_train=52.4]"
     ]
    },
    {
     "name": "stdout",
     "output_type": "stream",
     "text": [
      "\r",
      "Epoch 164/1000:  16%|█▋        | 164/1000 [23:40<2:00:39,  8.66s/it, v_num=ow_1, total_loss_train=1.46e+3, kl_local_train=51.9]"
     ]
    },
    {
     "name": "stdout",
     "output_type": "stream",
     "text": [
      "\r",
      "Epoch 165/1000:  16%|█▋        | 164/1000 [23:40<2:00:39,  8.66s/it, v_num=ow_1, total_loss_train=1.46e+3, kl_local_train=51.9]"
     ]
    },
    {
     "name": "stdout",
     "output_type": "stream",
     "text": [
      "\r",
      "Epoch 165/1000:  16%|█▋        | 165/1000 [23:49<1:58:54,  8.54s/it, v_num=ow_1, total_loss_train=1.46e+3, kl_local_train=51.9]"
     ]
    },
    {
     "name": "stdout",
     "output_type": "stream",
     "text": [
      "\r",
      "Epoch 165/1000:  16%|█▋        | 165/1000 [23:49<1:58:54,  8.54s/it, v_num=ow_1, total_loss_train=1.46e+3, kl_local_train=52.3]"
     ]
    },
    {
     "name": "stdout",
     "output_type": "stream",
     "text": [
      "\r",
      "Epoch 166/1000:  16%|█▋        | 165/1000 [23:49<1:58:54,  8.54s/it, v_num=ow_1, total_loss_train=1.46e+3, kl_local_train=52.3]"
     ]
    },
    {
     "name": "stdout",
     "output_type": "stream",
     "text": [
      "\r",
      "Epoch 166/1000:  17%|█▋        | 166/1000 [23:57<1:59:19,  8.58s/it, v_num=ow_1, total_loss_train=1.46e+3, kl_local_train=52.3]"
     ]
    },
    {
     "name": "stdout",
     "output_type": "stream",
     "text": [
      "\r",
      "Epoch 166/1000:  17%|█▋        | 166/1000 [23:57<1:59:19,  8.58s/it, v_num=ow_1, total_loss_train=1.45e+3, kl_local_train=52.3]"
     ]
    },
    {
     "name": "stdout",
     "output_type": "stream",
     "text": [
      "\r",
      "Epoch 167/1000:  17%|█▋        | 166/1000 [23:57<1:59:19,  8.58s/it, v_num=ow_1, total_loss_train=1.45e+3, kl_local_train=52.3]"
     ]
    },
    {
     "name": "stdout",
     "output_type": "stream",
     "text": [
      "\r",
      "Epoch 167/1000:  17%|█▋        | 167/1000 [24:05<1:57:27,  8.46s/it, v_num=ow_1, total_loss_train=1.45e+3, kl_local_train=52.3]"
     ]
    },
    {
     "name": "stdout",
     "output_type": "stream",
     "text": [
      "\r",
      "Epoch 167/1000:  17%|█▋        | 167/1000 [24:05<1:57:27,  8.46s/it, v_num=ow_1, total_loss_train=1.45e+3, kl_local_train=52]  "
     ]
    },
    {
     "name": "stdout",
     "output_type": "stream",
     "text": [
      "\r",
      "Epoch 168/1000:  17%|█▋        | 167/1000 [24:05<1:57:27,  8.46s/it, v_num=ow_1, total_loss_train=1.45e+3, kl_local_train=52]"
     ]
    },
    {
     "name": "stdout",
     "output_type": "stream",
     "text": [
      "\r",
      "Epoch 168/1000:  17%|█▋        | 168/1000 [24:14<1:56:35,  8.41s/it, v_num=ow_1, total_loss_train=1.45e+3, kl_local_train=52]"
     ]
    },
    {
     "name": "stdout",
     "output_type": "stream",
     "text": [
      "\r",
      "Epoch 168/1000:  17%|█▋        | 168/1000 [24:14<1:56:35,  8.41s/it, v_num=ow_1, total_loss_train=1.45e+3, kl_local_train=52.1]"
     ]
    },
    {
     "name": "stdout",
     "output_type": "stream",
     "text": [
      "\r",
      "Epoch 169/1000:  17%|█▋        | 168/1000 [24:14<1:56:35,  8.41s/it, v_num=ow_1, total_loss_train=1.45e+3, kl_local_train=52.1]"
     ]
    },
    {
     "name": "stdout",
     "output_type": "stream",
     "text": [
      "\r",
      "Epoch 169/1000:  17%|█▋        | 169/1000 [24:23<1:58:09,  8.53s/it, v_num=ow_1, total_loss_train=1.45e+3, kl_local_train=52.1]"
     ]
    },
    {
     "name": "stdout",
     "output_type": "stream",
     "text": [
      "\r",
      "Epoch 169/1000:  17%|█▋        | 169/1000 [24:23<1:58:09,  8.53s/it, v_num=ow_1, total_loss_train=1.45e+3, kl_local_train=52.1]"
     ]
    },
    {
     "name": "stdout",
     "output_type": "stream",
     "text": [
      "\r",
      "Epoch 170/1000:  17%|█▋        | 169/1000 [24:23<1:58:09,  8.53s/it, v_num=ow_1, total_loss_train=1.45e+3, kl_local_train=52.1]"
     ]
    },
    {
     "name": "stdout",
     "output_type": "stream",
     "text": [
      "\r",
      "Epoch 170/1000:  17%|█▋        | 170/1000 [24:32<2:02:05,  8.83s/it, v_num=ow_1, total_loss_train=1.45e+3, kl_local_train=52.1]"
     ]
    },
    {
     "name": "stdout",
     "output_type": "stream",
     "text": [
      "\r",
      "Epoch 170/1000:  17%|█▋        | 170/1000 [24:32<2:02:05,  8.83s/it, v_num=ow_1, total_loss_train=1.46e+3, kl_local_train=51.6]"
     ]
    },
    {
     "name": "stdout",
     "output_type": "stream",
     "text": [
      "\r",
      "Epoch 171/1000:  17%|█▋        | 170/1000 [24:32<2:02:05,  8.83s/it, v_num=ow_1, total_loss_train=1.46e+3, kl_local_train=51.6]"
     ]
    },
    {
     "name": "stdout",
     "output_type": "stream",
     "text": [
      "\r",
      "Epoch 171/1000:  17%|█▋        | 171/1000 [24:41<2:02:23,  8.86s/it, v_num=ow_1, total_loss_train=1.46e+3, kl_local_train=51.6]"
     ]
    },
    {
     "name": "stdout",
     "output_type": "stream",
     "text": [
      "\r",
      "Epoch 171/1000:  17%|█▋        | 171/1000 [24:41<2:02:23,  8.86s/it, v_num=ow_1, total_loss_train=1.45e+3, kl_local_train=51.3]"
     ]
    },
    {
     "name": "stdout",
     "output_type": "stream",
     "text": [
      "\r",
      "Epoch 172/1000:  17%|█▋        | 171/1000 [24:41<2:02:23,  8.86s/it, v_num=ow_1, total_loss_train=1.45e+3, kl_local_train=51.3]"
     ]
    },
    {
     "name": "stdout",
     "output_type": "stream",
     "text": [
      "\r",
      "Epoch 172/1000:  17%|█▋        | 172/1000 [24:49<1:59:24,  8.65s/it, v_num=ow_1, total_loss_train=1.45e+3, kl_local_train=51.3]"
     ]
    },
    {
     "name": "stdout",
     "output_type": "stream",
     "text": [
      "\r",
      "Epoch 172/1000:  17%|█▋        | 172/1000 [24:49<1:59:24,  8.65s/it, v_num=ow_1, total_loss_train=1.45e+3, kl_local_train=51.4]"
     ]
    },
    {
     "name": "stdout",
     "output_type": "stream",
     "text": [
      "\r",
      "Epoch 173/1000:  17%|█▋        | 172/1000 [24:49<1:59:24,  8.65s/it, v_num=ow_1, total_loss_train=1.45e+3, kl_local_train=51.4]"
     ]
    },
    {
     "name": "stdout",
     "output_type": "stream",
     "text": [
      "\r",
      "Epoch 173/1000:  17%|█▋        | 173/1000 [24:57<1:57:40,  8.54s/it, v_num=ow_1, total_loss_train=1.45e+3, kl_local_train=51.4]"
     ]
    },
    {
     "name": "stdout",
     "output_type": "stream",
     "text": [
      "\r",
      "Epoch 173/1000:  17%|█▋        | 173/1000 [24:57<1:57:40,  8.54s/it, v_num=ow_1, total_loss_train=1.45e+3, kl_local_train=51.7]"
     ]
    },
    {
     "name": "stdout",
     "output_type": "stream",
     "text": [
      "\r",
      "Epoch 174/1000:  17%|█▋        | 173/1000 [24:57<1:57:40,  8.54s/it, v_num=ow_1, total_loss_train=1.45e+3, kl_local_train=51.7]"
     ]
    },
    {
     "name": "stdout",
     "output_type": "stream",
     "text": [
      "\r",
      "Epoch 174/1000:  17%|█▋        | 174/1000 [25:06<1:56:50,  8.49s/it, v_num=ow_1, total_loss_train=1.45e+3, kl_local_train=51.7]"
     ]
    },
    {
     "name": "stdout",
     "output_type": "stream",
     "text": [
      "\r",
      "Epoch 174/1000:  17%|█▋        | 174/1000 [25:06<1:56:50,  8.49s/it, v_num=ow_1, total_loss_train=1.45e+3, kl_local_train=51.5]"
     ]
    },
    {
     "name": "stdout",
     "output_type": "stream",
     "text": [
      "\r",
      "Epoch 175/1000:  17%|█▋        | 174/1000 [25:06<1:56:50,  8.49s/it, v_num=ow_1, total_loss_train=1.45e+3, kl_local_train=51.5]"
     ]
    },
    {
     "name": "stdout",
     "output_type": "stream",
     "text": [
      "\r",
      "Epoch 175/1000:  18%|█▊        | 175/1000 [25:14<1:55:33,  8.40s/it, v_num=ow_1, total_loss_train=1.45e+3, kl_local_train=51.5]"
     ]
    },
    {
     "name": "stdout",
     "output_type": "stream",
     "text": [
      "\r",
      "Epoch 175/1000:  18%|█▊        | 175/1000 [25:14<1:55:33,  8.40s/it, v_num=ow_1, total_loss_train=1.45e+3, kl_local_train=51.4]"
     ]
    },
    {
     "name": "stdout",
     "output_type": "stream",
     "text": [
      "\r",
      "Epoch 176/1000:  18%|█▊        | 175/1000 [25:14<1:55:33,  8.40s/it, v_num=ow_1, total_loss_train=1.45e+3, kl_local_train=51.4]"
     ]
    },
    {
     "name": "stdout",
     "output_type": "stream",
     "text": [
      "\r",
      "Epoch 176/1000:  18%|█▊        | 176/1000 [25:23<1:56:36,  8.49s/it, v_num=ow_1, total_loss_train=1.45e+3, kl_local_train=51.4]"
     ]
    },
    {
     "name": "stdout",
     "output_type": "stream",
     "text": [
      "\r",
      "Epoch 176/1000:  18%|█▊        | 176/1000 [25:23<1:56:36,  8.49s/it, v_num=ow_1, total_loss_train=1.45e+3, kl_local_train=51.2]"
     ]
    },
    {
     "name": "stdout",
     "output_type": "stream",
     "text": [
      "\r",
      "Epoch 177/1000:  18%|█▊        | 176/1000 [25:23<1:56:36,  8.49s/it, v_num=ow_1, total_loss_train=1.45e+3, kl_local_train=51.2]"
     ]
    },
    {
     "name": "stdout",
     "output_type": "stream",
     "text": [
      "\r",
      "Epoch 177/1000:  18%|█▊        | 177/1000 [25:32<1:59:34,  8.72s/it, v_num=ow_1, total_loss_train=1.45e+3, kl_local_train=51.2]"
     ]
    },
    {
     "name": "stdout",
     "output_type": "stream",
     "text": [
      "\r",
      "Epoch 177/1000:  18%|█▊        | 177/1000 [25:32<1:59:34,  8.72s/it, v_num=ow_1, total_loss_train=1.45e+3, kl_local_train=51.2]"
     ]
    },
    {
     "name": "stdout",
     "output_type": "stream",
     "text": [
      "\r",
      "Epoch 178/1000:  18%|█▊        | 177/1000 [25:32<1:59:34,  8.72s/it, v_num=ow_1, total_loss_train=1.45e+3, kl_local_train=51.2]"
     ]
    },
    {
     "name": "stdout",
     "output_type": "stream",
     "text": [
      "\r",
      "Epoch 178/1000:  18%|█▊        | 178/1000 [25:40<1:58:02,  8.62s/it, v_num=ow_1, total_loss_train=1.45e+3, kl_local_train=51.2]"
     ]
    },
    {
     "name": "stdout",
     "output_type": "stream",
     "text": [
      "\r",
      "Epoch 178/1000:  18%|█▊        | 178/1000 [25:40<1:58:02,  8.62s/it, v_num=ow_1, total_loss_train=1.45e+3, kl_local_train=50.9]"
     ]
    },
    {
     "name": "stdout",
     "output_type": "stream",
     "text": [
      "\r",
      "Epoch 179/1000:  18%|█▊        | 178/1000 [25:40<1:58:02,  8.62s/it, v_num=ow_1, total_loss_train=1.45e+3, kl_local_train=50.9]"
     ]
    },
    {
     "name": "stdout",
     "output_type": "stream",
     "text": [
      "\r",
      "Epoch 179/1000:  18%|█▊        | 179/1000 [25:49<1:57:11,  8.56s/it, v_num=ow_1, total_loss_train=1.45e+3, kl_local_train=50.9]"
     ]
    },
    {
     "name": "stdout",
     "output_type": "stream",
     "text": [
      "\r",
      "Epoch 179/1000:  18%|█▊        | 179/1000 [25:49<1:57:11,  8.56s/it, v_num=ow_1, total_loss_train=1.45e+3, kl_local_train=50.5]"
     ]
    },
    {
     "name": "stdout",
     "output_type": "stream",
     "text": [
      "\r",
      "Epoch 180/1000:  18%|█▊        | 179/1000 [25:49<1:57:11,  8.56s/it, v_num=ow_1, total_loss_train=1.45e+3, kl_local_train=50.5]"
     ]
    },
    {
     "name": "stdout",
     "output_type": "stream",
     "text": [
      "\r",
      "Epoch 180/1000:  18%|█▊        | 180/1000 [25:58<1:57:44,  8.61s/it, v_num=ow_1, total_loss_train=1.45e+3, kl_local_train=50.5]"
     ]
    },
    {
     "name": "stdout",
     "output_type": "stream",
     "text": [
      "\r",
      "Epoch 180/1000:  18%|█▊        | 180/1000 [25:58<1:57:44,  8.61s/it, v_num=ow_1, total_loss_train=1.45e+3, kl_local_train=51.3]"
     ]
    },
    {
     "name": "stdout",
     "output_type": "stream",
     "text": [
      "\r",
      "Epoch 181/1000:  18%|█▊        | 180/1000 [25:58<1:57:44,  8.61s/it, v_num=ow_1, total_loss_train=1.45e+3, kl_local_train=51.3]"
     ]
    },
    {
     "name": "stdout",
     "output_type": "stream",
     "text": [
      "\r",
      "Epoch 181/1000:  18%|█▊        | 181/1000 [26:06<1:56:37,  8.54s/it, v_num=ow_1, total_loss_train=1.45e+3, kl_local_train=51.3]"
     ]
    },
    {
     "name": "stdout",
     "output_type": "stream",
     "text": [
      "\r",
      "Epoch 181/1000:  18%|█▊        | 181/1000 [26:06<1:56:37,  8.54s/it, v_num=ow_1, total_loss_train=1.45e+3, kl_local_train=50.8]"
     ]
    },
    {
     "name": "stdout",
     "output_type": "stream",
     "text": [
      "\r",
      "Epoch 182/1000:  18%|█▊        | 181/1000 [26:06<1:56:37,  8.54s/it, v_num=ow_1, total_loss_train=1.45e+3, kl_local_train=50.8]"
     ]
    },
    {
     "name": "stdout",
     "output_type": "stream",
     "text": [
      "\r",
      "Epoch 182/1000:  18%|█▊        | 182/1000 [26:15<1:59:09,  8.74s/it, v_num=ow_1, total_loss_train=1.45e+3, kl_local_train=50.8]"
     ]
    },
    {
     "name": "stdout",
     "output_type": "stream",
     "text": [
      "\r",
      "Epoch 182/1000:  18%|█▊        | 182/1000 [26:15<1:59:09,  8.74s/it, v_num=ow_1, total_loss_train=1.45e+3, kl_local_train=51.1]"
     ]
    },
    {
     "name": "stdout",
     "output_type": "stream",
     "text": [
      "\r",
      "Epoch 183/1000:  18%|█▊        | 182/1000 [26:15<1:59:09,  8.74s/it, v_num=ow_1, total_loss_train=1.45e+3, kl_local_train=51.1]"
     ]
    },
    {
     "name": "stdout",
     "output_type": "stream",
     "text": [
      "\r",
      "Epoch 183/1000:  18%|█▊        | 183/1000 [26:24<2:00:04,  8.82s/it, v_num=ow_1, total_loss_train=1.45e+3, kl_local_train=51.1]"
     ]
    },
    {
     "name": "stdout",
     "output_type": "stream",
     "text": [
      "\r",
      "Epoch 183/1000:  18%|█▊        | 183/1000 [26:24<2:00:04,  8.82s/it, v_num=ow_1, total_loss_train=1.45e+3, kl_local_train=51.2]"
     ]
    },
    {
     "name": "stdout",
     "output_type": "stream",
     "text": [
      "\r",
      "Epoch 184/1000:  18%|█▊        | 183/1000 [26:24<2:00:04,  8.82s/it, v_num=ow_1, total_loss_train=1.45e+3, kl_local_train=51.2]"
     ]
    },
    {
     "name": "stdout",
     "output_type": "stream",
     "text": [
      "\r",
      "Epoch 184/1000:  18%|█▊        | 184/1000 [26:32<1:58:06,  8.68s/it, v_num=ow_1, total_loss_train=1.45e+3, kl_local_train=51.2]"
     ]
    },
    {
     "name": "stdout",
     "output_type": "stream",
     "text": [
      "\r",
      "Epoch 184/1000:  18%|█▊        | 184/1000 [26:32<1:58:06,  8.68s/it, v_num=ow_1, total_loss_train=1.45e+3, kl_local_train=51.1]"
     ]
    },
    {
     "name": "stdout",
     "output_type": "stream",
     "text": [
      "\r",
      "Epoch 185/1000:  18%|█▊        | 184/1000 [26:32<1:58:06,  8.68s/it, v_num=ow_1, total_loss_train=1.45e+3, kl_local_train=51.1]"
     ]
    },
    {
     "name": "stdout",
     "output_type": "stream",
     "text": [
      "\r",
      "Epoch 185/1000:  18%|█▊        | 185/1000 [26:41<1:59:08,  8.77s/it, v_num=ow_1, total_loss_train=1.45e+3, kl_local_train=51.1]"
     ]
    },
    {
     "name": "stdout",
     "output_type": "stream",
     "text": [
      "\r",
      "Epoch 185/1000:  18%|█▊        | 185/1000 [26:41<1:59:08,  8.77s/it, v_num=ow_1, total_loss_train=1.45e+3, kl_local_train=50.8]"
     ]
    },
    {
     "name": "stdout",
     "output_type": "stream",
     "text": [
      "\r",
      "Epoch 186/1000:  18%|█▊        | 185/1000 [26:41<1:59:08,  8.77s/it, v_num=ow_1, total_loss_train=1.45e+3, kl_local_train=50.8]"
     ]
    },
    {
     "name": "stdout",
     "output_type": "stream",
     "text": [
      "\r",
      "Epoch 186/1000:  19%|█▊        | 186/1000 [26:50<1:59:46,  8.83s/it, v_num=ow_1, total_loss_train=1.45e+3, kl_local_train=50.8]"
     ]
    },
    {
     "name": "stdout",
     "output_type": "stream",
     "text": [
      "\r",
      "Epoch 186/1000:  19%|█▊        | 186/1000 [26:50<1:59:46,  8.83s/it, v_num=ow_1, total_loss_train=1.45e+3, kl_local_train=50.5]"
     ]
    },
    {
     "name": "stdout",
     "output_type": "stream",
     "text": [
      "\r",
      "Epoch 187/1000:  19%|█▊        | 186/1000 [26:50<1:59:46,  8.83s/it, v_num=ow_1, total_loss_train=1.45e+3, kl_local_train=50.5]"
     ]
    },
    {
     "name": "stdout",
     "output_type": "stream",
     "text": [
      "\r",
      "Epoch 187/1000:  19%|█▊        | 187/1000 [26:59<1:59:55,  8.85s/it, v_num=ow_1, total_loss_train=1.45e+3, kl_local_train=50.5]"
     ]
    },
    {
     "name": "stdout",
     "output_type": "stream",
     "text": [
      "\r",
      "Epoch 187/1000:  19%|█▊        | 187/1000 [26:59<1:59:55,  8.85s/it, v_num=ow_1, total_loss_train=1.45e+3, kl_local_train=50.5]"
     ]
    },
    {
     "name": "stdout",
     "output_type": "stream",
     "text": [
      "\r",
      "Epoch 188/1000:  19%|█▊        | 187/1000 [26:59<1:59:55,  8.85s/it, v_num=ow_1, total_loss_train=1.45e+3, kl_local_train=50.5]"
     ]
    },
    {
     "name": "stdout",
     "output_type": "stream",
     "text": [
      "\r",
      "Epoch 188/1000:  19%|█▉        | 188/1000 [27:08<2:00:11,  8.88s/it, v_num=ow_1, total_loss_train=1.45e+3, kl_local_train=50.5]"
     ]
    },
    {
     "name": "stdout",
     "output_type": "stream",
     "text": [
      "\r",
      "Epoch 188/1000:  19%|█▉        | 188/1000 [27:08<2:00:11,  8.88s/it, v_num=ow_1, total_loss_train=1.45e+3, kl_local_train=50.4]"
     ]
    },
    {
     "name": "stdout",
     "output_type": "stream",
     "text": [
      "\r",
      "Epoch 189/1000:  19%|█▉        | 188/1000 [27:08<2:00:11,  8.88s/it, v_num=ow_1, total_loss_train=1.45e+3, kl_local_train=50.4]"
     ]
    },
    {
     "name": "stdout",
     "output_type": "stream",
     "text": [
      "\r",
      "Epoch 189/1000:  19%|█▉        | 189/1000 [27:17<2:00:40,  8.93s/it, v_num=ow_1, total_loss_train=1.45e+3, kl_local_train=50.4]"
     ]
    },
    {
     "name": "stdout",
     "output_type": "stream",
     "text": [
      "\r",
      "Epoch 189/1000:  19%|█▉        | 189/1000 [27:17<2:00:40,  8.93s/it, v_num=ow_1, total_loss_train=1.45e+3, kl_local_train=50.2]"
     ]
    },
    {
     "name": "stdout",
     "output_type": "stream",
     "text": [
      "\r",
      "Epoch 190/1000:  19%|█▉        | 189/1000 [27:17<2:00:40,  8.93s/it, v_num=ow_1, total_loss_train=1.45e+3, kl_local_train=50.2]"
     ]
    },
    {
     "name": "stdout",
     "output_type": "stream",
     "text": [
      "\r",
      "Epoch 190/1000:  19%|█▉        | 190/1000 [27:26<1:57:54,  8.73s/it, v_num=ow_1, total_loss_train=1.45e+3, kl_local_train=50.2]"
     ]
    },
    {
     "name": "stdout",
     "output_type": "stream",
     "text": [
      "\r",
      "Epoch 190/1000:  19%|█▉        | 190/1000 [27:26<1:57:54,  8.73s/it, v_num=ow_1, total_loss_train=1.45e+3, kl_local_train=50.6]"
     ]
    },
    {
     "name": "stdout",
     "output_type": "stream",
     "text": [
      "\r",
      "Epoch 191/1000:  19%|█▉        | 190/1000 [27:26<1:57:54,  8.73s/it, v_num=ow_1, total_loss_train=1.45e+3, kl_local_train=50.6]"
     ]
    },
    {
     "name": "stdout",
     "output_type": "stream",
     "text": [
      "\r",
      "Epoch 191/1000:  19%|█▉        | 191/1000 [27:34<1:56:12,  8.62s/it, v_num=ow_1, total_loss_train=1.45e+3, kl_local_train=50.6]"
     ]
    },
    {
     "name": "stdout",
     "output_type": "stream",
     "text": [
      "\r",
      "Epoch 191/1000:  19%|█▉        | 191/1000 [27:34<1:56:12,  8.62s/it, v_num=ow_1, total_loss_train=1.45e+3, kl_local_train=50.6]"
     ]
    },
    {
     "name": "stdout",
     "output_type": "stream",
     "text": [
      "\r",
      "Epoch 192/1000:  19%|█▉        | 191/1000 [27:34<1:56:12,  8.62s/it, v_num=ow_1, total_loss_train=1.45e+3, kl_local_train=50.6]"
     ]
    },
    {
     "name": "stdout",
     "output_type": "stream",
     "text": [
      "\r",
      "Epoch 192/1000:  19%|█▉        | 192/1000 [27:43<1:57:45,  8.74s/it, v_num=ow_1, total_loss_train=1.45e+3, kl_local_train=50.6]"
     ]
    },
    {
     "name": "stdout",
     "output_type": "stream",
     "text": [
      "\r",
      "Epoch 192/1000:  19%|█▉        | 192/1000 [27:43<1:57:45,  8.74s/it, v_num=ow_1, total_loss_train=1.45e+3, kl_local_train=50.1]"
     ]
    },
    {
     "name": "stdout",
     "output_type": "stream",
     "text": [
      "\r",
      "Epoch 193/1000:  19%|█▉        | 192/1000 [27:43<1:57:45,  8.74s/it, v_num=ow_1, total_loss_train=1.45e+3, kl_local_train=50.1]"
     ]
    },
    {
     "name": "stdout",
     "output_type": "stream",
     "text": [
      "\r",
      "Epoch 193/1000:  19%|█▉        | 193/1000 [27:52<1:58:14,  8.79s/it, v_num=ow_1, total_loss_train=1.45e+3, kl_local_train=50.1]"
     ]
    },
    {
     "name": "stdout",
     "output_type": "stream",
     "text": [
      "\r",
      "Epoch 193/1000:  19%|█▉        | 193/1000 [27:52<1:58:14,  8.79s/it, v_num=ow_1, total_loss_train=1.45e+3, kl_local_train=49.7]"
     ]
    },
    {
     "name": "stdout",
     "output_type": "stream",
     "text": [
      "\r",
      "Epoch 194/1000:  19%|█▉        | 193/1000 [27:52<1:58:14,  8.79s/it, v_num=ow_1, total_loss_train=1.45e+3, kl_local_train=49.7]"
     ]
    },
    {
     "name": "stdout",
     "output_type": "stream",
     "text": [
      "\r",
      "Epoch 194/1000:  19%|█▉        | 194/1000 [28:01<1:58:26,  8.82s/it, v_num=ow_1, total_loss_train=1.45e+3, kl_local_train=49.7]"
     ]
    },
    {
     "name": "stdout",
     "output_type": "stream",
     "text": [
      "\r",
      "Epoch 194/1000:  19%|█▉        | 194/1000 [28:01<1:58:26,  8.82s/it, v_num=ow_1, total_loss_train=1.45e+3, kl_local_train=49.8]"
     ]
    },
    {
     "name": "stdout",
     "output_type": "stream",
     "text": [
      "\r",
      "Epoch 195/1000:  19%|█▉        | 194/1000 [28:01<1:58:26,  8.82s/it, v_num=ow_1, total_loss_train=1.45e+3, kl_local_train=49.8]"
     ]
    },
    {
     "name": "stdout",
     "output_type": "stream",
     "text": [
      "\r",
      "Epoch 195/1000:  20%|█▉        | 195/1000 [28:10<1:58:44,  8.85s/it, v_num=ow_1, total_loss_train=1.45e+3, kl_local_train=49.8]"
     ]
    },
    {
     "name": "stdout",
     "output_type": "stream",
     "text": [
      "\r",
      "Epoch 195/1000:  20%|█▉        | 195/1000 [28:10<1:58:44,  8.85s/it, v_num=ow_1, total_loss_train=1.45e+3, kl_local_train=49.9]"
     ]
    },
    {
     "name": "stdout",
     "output_type": "stream",
     "text": [
      "\r",
      "Epoch 196/1000:  20%|█▉        | 195/1000 [28:10<1:58:44,  8.85s/it, v_num=ow_1, total_loss_train=1.45e+3, kl_local_train=49.9]"
     ]
    },
    {
     "name": "stdout",
     "output_type": "stream",
     "text": [
      "\r",
      "Epoch 196/1000:  20%|█▉        | 196/1000 [28:18<1:58:26,  8.84s/it, v_num=ow_1, total_loss_train=1.45e+3, kl_local_train=49.9]"
     ]
    },
    {
     "name": "stdout",
     "output_type": "stream",
     "text": [
      "\r",
      "Epoch 196/1000:  20%|█▉        | 196/1000 [28:18<1:58:26,  8.84s/it, v_num=ow_1, total_loss_train=1.45e+3, kl_local_train=49.6]"
     ]
    },
    {
     "name": "stdout",
     "output_type": "stream",
     "text": [
      "\r",
      "Epoch 197/1000:  20%|█▉        | 196/1000 [28:18<1:58:26,  8.84s/it, v_num=ow_1, total_loss_train=1.45e+3, kl_local_train=49.6]"
     ]
    },
    {
     "name": "stdout",
     "output_type": "stream",
     "text": [
      "\r",
      "Epoch 197/1000:  20%|█▉        | 197/1000 [28:29<2:05:59,  9.41s/it, v_num=ow_1, total_loss_train=1.45e+3, kl_local_train=49.6]"
     ]
    },
    {
     "name": "stdout",
     "output_type": "stream",
     "text": [
      "\r",
      "Epoch 197/1000:  20%|█▉        | 197/1000 [28:29<2:05:59,  9.41s/it, v_num=ow_1, total_loss_train=1.45e+3, kl_local_train=49.6]"
     ]
    },
    {
     "name": "stdout",
     "output_type": "stream",
     "text": [
      "\r",
      "Epoch 198/1000:  20%|█▉        | 197/1000 [28:29<2:05:59,  9.41s/it, v_num=ow_1, total_loss_train=1.45e+3, kl_local_train=49.6]"
     ]
    },
    {
     "name": "stdout",
     "output_type": "stream",
     "text": [
      "\r",
      "Epoch 198/1000:  20%|█▉        | 198/1000 [28:37<2:00:16,  9.00s/it, v_num=ow_1, total_loss_train=1.45e+3, kl_local_train=49.6]"
     ]
    },
    {
     "name": "stdout",
     "output_type": "stream",
     "text": [
      "\r",
      "Epoch 198/1000:  20%|█▉        | 198/1000 [28:37<2:00:16,  9.00s/it, v_num=ow_1, total_loss_train=1.45e+3, kl_local_train=49.3]"
     ]
    },
    {
     "name": "stdout",
     "output_type": "stream",
     "text": [
      "\r",
      "Epoch 199/1000:  20%|█▉        | 198/1000 [28:37<2:00:16,  9.00s/it, v_num=ow_1, total_loss_train=1.45e+3, kl_local_train=49.3]"
     ]
    },
    {
     "name": "stdout",
     "output_type": "stream",
     "text": [
      "\r",
      "Epoch 199/1000:  20%|█▉        | 199/1000 [28:46<1:58:59,  8.91s/it, v_num=ow_1, total_loss_train=1.45e+3, kl_local_train=49.3]"
     ]
    },
    {
     "name": "stdout",
     "output_type": "stream",
     "text": [
      "\r",
      "Epoch 199/1000:  20%|█▉        | 199/1000 [28:46<1:58:59,  8.91s/it, v_num=ow_1, total_loss_train=1.45e+3, kl_local_train=49.6]"
     ]
    },
    {
     "name": "stdout",
     "output_type": "stream",
     "text": [
      "\r",
      "Epoch 200/1000:  20%|█▉        | 199/1000 [28:46<1:58:59,  8.91s/it, v_num=ow_1, total_loss_train=1.45e+3, kl_local_train=49.6]"
     ]
    },
    {
     "name": "stdout",
     "output_type": "stream",
     "text": [
      "\r",
      "Epoch 200/1000:  20%|██        | 200/1000 [28:55<2:00:42,  9.05s/it, v_num=ow_1, total_loss_train=1.45e+3, kl_local_train=49.6]"
     ]
    },
    {
     "name": "stdout",
     "output_type": "stream",
     "text": [
      "\r",
      "Epoch 200/1000:  20%|██        | 200/1000 [28:55<2:00:42,  9.05s/it, v_num=ow_1, total_loss_train=1.45e+3, kl_local_train=49.7]"
     ]
    },
    {
     "name": "stdout",
     "output_type": "stream",
     "text": [
      "\r",
      "Epoch 201/1000:  20%|██        | 200/1000 [28:55<2:00:42,  9.05s/it, v_num=ow_1, total_loss_train=1.45e+3, kl_local_train=49.7]"
     ]
    },
    {
     "name": "stdout",
     "output_type": "stream",
     "text": [
      "\r",
      "Epoch 201/1000:  20%|██        | 201/1000 [29:04<1:58:54,  8.93s/it, v_num=ow_1, total_loss_train=1.45e+3, kl_local_train=49.7]"
     ]
    },
    {
     "name": "stdout",
     "output_type": "stream",
     "text": [
      "\r",
      "Epoch 201/1000:  20%|██        | 201/1000 [29:04<1:58:54,  8.93s/it, v_num=ow_1, total_loss_train=1.45e+3, kl_local_train=49.4]"
     ]
    },
    {
     "name": "stdout",
     "output_type": "stream",
     "text": [
      "\r",
      "Epoch 202/1000:  20%|██        | 201/1000 [29:04<1:58:54,  8.93s/it, v_num=ow_1, total_loss_train=1.45e+3, kl_local_train=49.4]"
     ]
    },
    {
     "name": "stdout",
     "output_type": "stream",
     "text": [
      "\r",
      "Epoch 202/1000:  20%|██        | 202/1000 [29:12<1:54:50,  8.63s/it, v_num=ow_1, total_loss_train=1.45e+3, kl_local_train=49.4]"
     ]
    },
    {
     "name": "stdout",
     "output_type": "stream",
     "text": [
      "\r",
      "Epoch 202/1000:  20%|██        | 202/1000 [29:12<1:54:50,  8.63s/it, v_num=ow_1, total_loss_train=1.45e+3, kl_local_train=49.2]"
     ]
    },
    {
     "name": "stdout",
     "output_type": "stream",
     "text": [
      "\r",
      "Epoch 203/1000:  20%|██        | 202/1000 [29:12<1:54:50,  8.63s/it, v_num=ow_1, total_loss_train=1.45e+3, kl_local_train=49.2]"
     ]
    },
    {
     "name": "stdout",
     "output_type": "stream",
     "text": [
      "\r",
      "Epoch 203/1000:  20%|██        | 203/1000 [29:21<1:54:46,  8.64s/it, v_num=ow_1, total_loss_train=1.45e+3, kl_local_train=49.2]"
     ]
    },
    {
     "name": "stdout",
     "output_type": "stream",
     "text": [
      "\r",
      "Epoch 203/1000:  20%|██        | 203/1000 [29:21<1:54:46,  8.64s/it, v_num=ow_1, total_loss_train=1.45e+3, kl_local_train=49.1]"
     ]
    },
    {
     "name": "stdout",
     "output_type": "stream",
     "text": [
      "\r",
      "Epoch 204/1000:  20%|██        | 203/1000 [29:21<1:54:46,  8.64s/it, v_num=ow_1, total_loss_train=1.45e+3, kl_local_train=49.1]"
     ]
    },
    {
     "name": "stdout",
     "output_type": "stream",
     "text": [
      "\r",
      "Epoch 204/1000:  20%|██        | 204/1000 [29:29<1:55:05,  8.67s/it, v_num=ow_1, total_loss_train=1.45e+3, kl_local_train=49.1]"
     ]
    },
    {
     "name": "stdout",
     "output_type": "stream",
     "text": [
      "\r",
      "Epoch 204/1000:  20%|██        | 204/1000 [29:29<1:55:05,  8.67s/it, v_num=ow_1, total_loss_train=1.45e+3, kl_local_train=49.4]"
     ]
    },
    {
     "name": "stdout",
     "output_type": "stream",
     "text": [
      "\r",
      "Epoch 205/1000:  20%|██        | 204/1000 [29:29<1:55:05,  8.67s/it, v_num=ow_1, total_loss_train=1.45e+3, kl_local_train=49.4]"
     ]
    },
    {
     "name": "stdout",
     "output_type": "stream",
     "text": [
      "\r",
      "Epoch 205/1000:  20%|██        | 205/1000 [29:37<1:52:47,  8.51s/it, v_num=ow_1, total_loss_train=1.45e+3, kl_local_train=49.4]"
     ]
    },
    {
     "name": "stdout",
     "output_type": "stream",
     "text": [
      "\r",
      "Epoch 205/1000:  20%|██        | 205/1000 [29:37<1:52:47,  8.51s/it, v_num=ow_1, total_loss_train=1.45e+3, kl_local_train=49.3]"
     ]
    },
    {
     "name": "stdout",
     "output_type": "stream",
     "text": [
      "\r",
      "Epoch 206/1000:  20%|██        | 205/1000 [29:37<1:52:47,  8.51s/it, v_num=ow_1, total_loss_train=1.45e+3, kl_local_train=49.3]"
     ]
    },
    {
     "name": "stdout",
     "output_type": "stream",
     "text": [
      "\r",
      "Epoch 206/1000:  21%|██        | 206/1000 [29:46<1:50:50,  8.38s/it, v_num=ow_1, total_loss_train=1.45e+3, kl_local_train=49.3]"
     ]
    },
    {
     "name": "stdout",
     "output_type": "stream",
     "text": [
      "\r",
      "Epoch 206/1000:  21%|██        | 206/1000 [29:46<1:50:50,  8.38s/it, v_num=ow_1, total_loss_train=1.45e+3, kl_local_train=49.6]"
     ]
    },
    {
     "name": "stdout",
     "output_type": "stream",
     "text": [
      "\r",
      "Epoch 207/1000:  21%|██        | 206/1000 [29:46<1:50:50,  8.38s/it, v_num=ow_1, total_loss_train=1.45e+3, kl_local_train=49.6]"
     ]
    },
    {
     "name": "stdout",
     "output_type": "stream",
     "text": [
      "\r",
      "Epoch 207/1000:  21%|██        | 207/1000 [29:54<1:49:16,  8.27s/it, v_num=ow_1, total_loss_train=1.45e+3, kl_local_train=49.6]"
     ]
    },
    {
     "name": "stdout",
     "output_type": "stream",
     "text": [
      "\r",
      "Epoch 207/1000:  21%|██        | 207/1000 [29:54<1:49:16,  8.27s/it, v_num=ow_1, total_loss_train=1.45e+3, kl_local_train=49.2]"
     ]
    },
    {
     "name": "stdout",
     "output_type": "stream",
     "text": [
      "\r",
      "Epoch 208/1000:  21%|██        | 207/1000 [29:54<1:49:16,  8.27s/it, v_num=ow_1, total_loss_train=1.45e+3, kl_local_train=49.2]"
     ]
    },
    {
     "name": "stdout",
     "output_type": "stream",
     "text": [
      "\r",
      "Epoch 208/1000:  21%|██        | 208/1000 [30:02<1:48:59,  8.26s/it, v_num=ow_1, total_loss_train=1.45e+3, kl_local_train=49.2]"
     ]
    },
    {
     "name": "stdout",
     "output_type": "stream",
     "text": [
      "\r",
      "Epoch 208/1000:  21%|██        | 208/1000 [30:02<1:48:59,  8.26s/it, v_num=ow_1, total_loss_train=1.45e+3, kl_local_train=48.5]"
     ]
    },
    {
     "name": "stdout",
     "output_type": "stream",
     "text": [
      "\r",
      "Epoch 209/1000:  21%|██        | 208/1000 [30:02<1:48:59,  8.26s/it, v_num=ow_1, total_loss_train=1.45e+3, kl_local_train=48.5]"
     ]
    },
    {
     "name": "stdout",
     "output_type": "stream",
     "text": [
      "\r",
      "Epoch 209/1000:  21%|██        | 209/1000 [30:10<1:48:25,  8.22s/it, v_num=ow_1, total_loss_train=1.45e+3, kl_local_train=48.5]"
     ]
    },
    {
     "name": "stdout",
     "output_type": "stream",
     "text": [
      "\r",
      "Epoch 209/1000:  21%|██        | 209/1000 [30:10<1:48:25,  8.22s/it, v_num=ow_1, total_loss_train=1.45e+3, kl_local_train=48.8]"
     ]
    },
    {
     "name": "stdout",
     "output_type": "stream",
     "text": [
      "\r",
      "Epoch 210/1000:  21%|██        | 209/1000 [30:10<1:48:25,  8.22s/it, v_num=ow_1, total_loss_train=1.45e+3, kl_local_train=48.8]"
     ]
    },
    {
     "name": "stdout",
     "output_type": "stream",
     "text": [
      "\r",
      "Epoch 210/1000:  21%|██        | 210/1000 [30:19<1:50:34,  8.40s/it, v_num=ow_1, total_loss_train=1.45e+3, kl_local_train=48.8]"
     ]
    },
    {
     "name": "stdout",
     "output_type": "stream",
     "text": [
      "\r",
      "Epoch 210/1000:  21%|██        | 210/1000 [30:19<1:50:34,  8.40s/it, v_num=ow_1, total_loss_train=1.45e+3, kl_local_train=48.7]"
     ]
    },
    {
     "name": "stdout",
     "output_type": "stream",
     "text": [
      "\r",
      "Epoch 211/1000:  21%|██        | 210/1000 [30:19<1:50:34,  8.40s/it, v_num=ow_1, total_loss_train=1.45e+3, kl_local_train=48.7]"
     ]
    },
    {
     "name": "stdout",
     "output_type": "stream",
     "text": [
      "\r",
      "Epoch 211/1000:  21%|██        | 211/1000 [30:27<1:51:47,  8.50s/it, v_num=ow_1, total_loss_train=1.45e+3, kl_local_train=48.7]"
     ]
    },
    {
     "name": "stdout",
     "output_type": "stream",
     "text": [
      "\r",
      "Epoch 211/1000:  21%|██        | 211/1000 [30:27<1:51:47,  8.50s/it, v_num=ow_1, total_loss_train=1.45e+3, kl_local_train=48.5]"
     ]
    },
    {
     "name": "stdout",
     "output_type": "stream",
     "text": [
      "\r",
      "Epoch 212/1000:  21%|██        | 211/1000 [30:27<1:51:47,  8.50s/it, v_num=ow_1, total_loss_train=1.45e+3, kl_local_train=48.5]"
     ]
    },
    {
     "name": "stdout",
     "output_type": "stream",
     "text": [
      "\r",
      "Epoch 212/1000:  21%|██        | 212/1000 [30:36<1:52:39,  8.58s/it, v_num=ow_1, total_loss_train=1.45e+3, kl_local_train=48.5]"
     ]
    },
    {
     "name": "stdout",
     "output_type": "stream",
     "text": [
      "\r",
      "Epoch 212/1000:  21%|██        | 212/1000 [30:36<1:52:39,  8.58s/it, v_num=ow_1, total_loss_train=1.45e+3, kl_local_train=48.8]"
     ]
    },
    {
     "name": "stdout",
     "output_type": "stream",
     "text": [
      "\r",
      "Epoch 213/1000:  21%|██        | 212/1000 [30:36<1:52:39,  8.58s/it, v_num=ow_1, total_loss_train=1.45e+3, kl_local_train=48.8]"
     ]
    },
    {
     "name": "stdout",
     "output_type": "stream",
     "text": [
      "\r",
      "Epoch 213/1000:  21%|██▏       | 213/1000 [30:45<1:53:27,  8.65s/it, v_num=ow_1, total_loss_train=1.45e+3, kl_local_train=48.8]"
     ]
    },
    {
     "name": "stdout",
     "output_type": "stream",
     "text": [
      "\r",
      "Epoch 213/1000:  21%|██▏       | 213/1000 [30:45<1:53:27,  8.65s/it, v_num=ow_1, total_loss_train=1.45e+3, kl_local_train=48.6]"
     ]
    },
    {
     "name": "stdout",
     "output_type": "stream",
     "text": [
      "\r",
      "Epoch 214/1000:  21%|██▏       | 213/1000 [30:45<1:53:27,  8.65s/it, v_num=ow_1, total_loss_train=1.45e+3, kl_local_train=48.6]"
     ]
    },
    {
     "name": "stdout",
     "output_type": "stream",
     "text": [
      "\r",
      "Epoch 214/1000:  21%|██▏       | 214/1000 [30:53<1:51:03,  8.48s/it, v_num=ow_1, total_loss_train=1.45e+3, kl_local_train=48.6]"
     ]
    },
    {
     "name": "stdout",
     "output_type": "stream",
     "text": [
      "\r",
      "Epoch 214/1000:  21%|██▏       | 214/1000 [30:53<1:51:03,  8.48s/it, v_num=ow_1, total_loss_train=1.45e+3, kl_local_train=48.4]"
     ]
    },
    {
     "name": "stdout",
     "output_type": "stream",
     "text": [
      "\r",
      "Epoch 215/1000:  21%|██▏       | 214/1000 [30:53<1:51:03,  8.48s/it, v_num=ow_1, total_loss_train=1.45e+3, kl_local_train=48.4]"
     ]
    },
    {
     "name": "stdout",
     "output_type": "stream",
     "text": [
      "\r",
      "Epoch 215/1000:  22%|██▏       | 215/1000 [31:02<1:52:04,  8.57s/it, v_num=ow_1, total_loss_train=1.45e+3, kl_local_train=48.4]"
     ]
    },
    {
     "name": "stdout",
     "output_type": "stream",
     "text": [
      "\r",
      "Epoch 215/1000:  22%|██▏       | 215/1000 [31:02<1:52:04,  8.57s/it, v_num=ow_1, total_loss_train=1.45e+3, kl_local_train=48.4]"
     ]
    },
    {
     "name": "stdout",
     "output_type": "stream",
     "text": [
      "\r",
      "Epoch 216/1000:  22%|██▏       | 215/1000 [31:02<1:52:04,  8.57s/it, v_num=ow_1, total_loss_train=1.45e+3, kl_local_train=48.4]"
     ]
    },
    {
     "name": "stdout",
     "output_type": "stream",
     "text": [
      "\r",
      "Epoch 216/1000:  22%|██▏       | 216/1000 [31:10<1:50:13,  8.44s/it, v_num=ow_1, total_loss_train=1.45e+3, kl_local_train=48.4]"
     ]
    },
    {
     "name": "stdout",
     "output_type": "stream",
     "text": [
      "\r",
      "Epoch 216/1000:  22%|██▏       | 216/1000 [31:10<1:50:13,  8.44s/it, v_num=ow_1, total_loss_train=1.45e+3, kl_local_train=48.3]"
     ]
    },
    {
     "name": "stdout",
     "output_type": "stream",
     "text": [
      "\r",
      "Epoch 217/1000:  22%|██▏       | 216/1000 [31:10<1:50:13,  8.44s/it, v_num=ow_1, total_loss_train=1.45e+3, kl_local_train=48.3]"
     ]
    },
    {
     "name": "stdout",
     "output_type": "stream",
     "text": [
      "\r",
      "Epoch 217/1000:  22%|██▏       | 217/1000 [31:19<1:51:22,  8.53s/it, v_num=ow_1, total_loss_train=1.45e+3, kl_local_train=48.3]"
     ]
    },
    {
     "name": "stdout",
     "output_type": "stream",
     "text": [
      "\r",
      "Epoch 217/1000:  22%|██▏       | 217/1000 [31:19<1:51:22,  8.53s/it, v_num=ow_1, total_loss_train=1.45e+3, kl_local_train=48.2]"
     ]
    },
    {
     "name": "stdout",
     "output_type": "stream",
     "text": [
      "\r",
      "Epoch 218/1000:  22%|██▏       | 217/1000 [31:19<1:51:22,  8.53s/it, v_num=ow_1, total_loss_train=1.45e+3, kl_local_train=48.2]"
     ]
    },
    {
     "name": "stdout",
     "output_type": "stream",
     "text": [
      "\r",
      "Epoch 218/1000:  22%|██▏       | 218/1000 [31:28<1:55:44,  8.88s/it, v_num=ow_1, total_loss_train=1.45e+3, kl_local_train=48.2]"
     ]
    },
    {
     "name": "stdout",
     "output_type": "stream",
     "text": [
      "\r",
      "Epoch 218/1000:  22%|██▏       | 218/1000 [31:28<1:55:44,  8.88s/it, v_num=ow_1, total_loss_train=1.45e+3, kl_local_train=48.4]"
     ]
    },
    {
     "name": "stdout",
     "output_type": "stream",
     "text": [
      "\r",
      "Epoch 219/1000:  22%|██▏       | 218/1000 [31:28<1:55:44,  8.88s/it, v_num=ow_1, total_loss_train=1.45e+3, kl_local_train=48.4]"
     ]
    },
    {
     "name": "stdout",
     "output_type": "stream",
     "text": [
      "\r",
      "Epoch 219/1000:  22%|██▏       | 219/1000 [31:38<1:57:28,  9.03s/it, v_num=ow_1, total_loss_train=1.45e+3, kl_local_train=48.4]"
     ]
    },
    {
     "name": "stdout",
     "output_type": "stream",
     "text": [
      "\r",
      "Epoch 219/1000:  22%|██▏       | 219/1000 [31:38<1:57:28,  9.03s/it, v_num=ow_1, total_loss_train=1.45e+3, kl_local_train=48.1]"
     ]
    },
    {
     "name": "stdout",
     "output_type": "stream",
     "text": [
      "\r",
      "Epoch 220/1000:  22%|██▏       | 219/1000 [31:38<1:57:28,  9.03s/it, v_num=ow_1, total_loss_train=1.45e+3, kl_local_train=48.1]"
     ]
    },
    {
     "name": "stdout",
     "output_type": "stream",
     "text": [
      "\r",
      "Epoch 220/1000:  22%|██▏       | 220/1000 [31:47<1:56:12,  8.94s/it, v_num=ow_1, total_loss_train=1.45e+3, kl_local_train=48.1]"
     ]
    },
    {
     "name": "stdout",
     "output_type": "stream",
     "text": [
      "\r",
      "Epoch 220/1000:  22%|██▏       | 220/1000 [31:47<1:56:12,  8.94s/it, v_num=ow_1, total_loss_train=1.45e+3, kl_local_train=47.9]"
     ]
    },
    {
     "name": "stdout",
     "output_type": "stream",
     "text": [
      "\r",
      "Epoch 221/1000:  22%|██▏       | 220/1000 [31:47<1:56:12,  8.94s/it, v_num=ow_1, total_loss_train=1.45e+3, kl_local_train=47.9]"
     ]
    },
    {
     "name": "stdout",
     "output_type": "stream",
     "text": [
      "\r",
      "Epoch 221/1000:  22%|██▏       | 221/1000 [31:55<1:55:23,  8.89s/it, v_num=ow_1, total_loss_train=1.45e+3, kl_local_train=47.9]"
     ]
    },
    {
     "name": "stdout",
     "output_type": "stream",
     "text": [
      "\r",
      "Epoch 221/1000:  22%|██▏       | 221/1000 [31:55<1:55:23,  8.89s/it, v_num=ow_1, total_loss_train=1.45e+3, kl_local_train=47.8]"
     ]
    },
    {
     "name": "stdout",
     "output_type": "stream",
     "text": [
      "\r",
      "Epoch 222/1000:  22%|██▏       | 221/1000 [31:55<1:55:23,  8.89s/it, v_num=ow_1, total_loss_train=1.45e+3, kl_local_train=47.8]"
     ]
    },
    {
     "name": "stdout",
     "output_type": "stream",
     "text": [
      "\r",
      "Epoch 222/1000:  22%|██▏       | 222/1000 [32:03<1:51:55,  8.63s/it, v_num=ow_1, total_loss_train=1.45e+3, kl_local_train=47.8]"
     ]
    },
    {
     "name": "stdout",
     "output_type": "stream",
     "text": [
      "\r",
      "Epoch 222/1000:  22%|██▏       | 222/1000 [32:03<1:51:55,  8.63s/it, v_num=ow_1, total_loss_train=1.45e+3, kl_local_train=47.8]"
     ]
    },
    {
     "name": "stdout",
     "output_type": "stream",
     "text": [
      "\r",
      "Epoch 223/1000:  22%|██▏       | 222/1000 [32:03<1:51:55,  8.63s/it, v_num=ow_1, total_loss_train=1.45e+3, kl_local_train=47.8]"
     ]
    },
    {
     "name": "stdout",
     "output_type": "stream",
     "text": [
      "\r",
      "Epoch 223/1000:  22%|██▏       | 223/1000 [32:12<1:52:13,  8.67s/it, v_num=ow_1, total_loss_train=1.45e+3, kl_local_train=47.8]"
     ]
    },
    {
     "name": "stdout",
     "output_type": "stream",
     "text": [
      "\r",
      "Epoch 223/1000:  22%|██▏       | 223/1000 [32:12<1:52:13,  8.67s/it, v_num=ow_1, total_loss_train=1.45e+3, kl_local_train=47.7]"
     ]
    },
    {
     "name": "stdout",
     "output_type": "stream",
     "text": [
      "\r",
      "Epoch 224/1000:  22%|██▏       | 223/1000 [32:12<1:52:13,  8.67s/it, v_num=ow_1, total_loss_train=1.45e+3, kl_local_train=47.7]"
     ]
    },
    {
     "name": "stdout",
     "output_type": "stream",
     "text": [
      "\r",
      "Epoch 224/1000:  22%|██▏       | 224/1000 [32:21<1:52:20,  8.69s/it, v_num=ow_1, total_loss_train=1.45e+3, kl_local_train=47.7]"
     ]
    },
    {
     "name": "stdout",
     "output_type": "stream",
     "text": [
      "\r",
      "Epoch 224/1000:  22%|██▏       | 224/1000 [32:21<1:52:20,  8.69s/it, v_num=ow_1, total_loss_train=1.45e+3, kl_local_train=48.1]"
     ]
    },
    {
     "name": "stdout",
     "output_type": "stream",
     "text": [
      "\r",
      "Epoch 225/1000:  22%|██▏       | 224/1000 [32:21<1:52:20,  8.69s/it, v_num=ow_1, total_loss_train=1.45e+3, kl_local_train=48.1]"
     ]
    },
    {
     "name": "stdout",
     "output_type": "stream",
     "text": [
      "\r",
      "Epoch 225/1000:  22%|██▎       | 225/1000 [32:30<1:54:23,  8.86s/it, v_num=ow_1, total_loss_train=1.45e+3, kl_local_train=48.1]"
     ]
    },
    {
     "name": "stdout",
     "output_type": "stream",
     "text": [
      "\r",
      "Epoch 225/1000:  22%|██▎       | 225/1000 [32:30<1:54:23,  8.86s/it, v_num=ow_1, total_loss_train=1.45e+3, kl_local_train=47.5]"
     ]
    },
    {
     "name": "stdout",
     "output_type": "stream",
     "text": [
      "\r",
      "Epoch 226/1000:  22%|██▎       | 225/1000 [32:30<1:54:23,  8.86s/it, v_num=ow_1, total_loss_train=1.45e+3, kl_local_train=47.5]"
     ]
    },
    {
     "name": "stdout",
     "output_type": "stream",
     "text": [
      "\r",
      "Epoch 226/1000:  23%|██▎       | 226/1000 [32:38<1:51:39,  8.66s/it, v_num=ow_1, total_loss_train=1.45e+3, kl_local_train=47.5]"
     ]
    },
    {
     "name": "stdout",
     "output_type": "stream",
     "text": [
      "\r",
      "Epoch 226/1000:  23%|██▎       | 226/1000 [32:38<1:51:39,  8.66s/it, v_num=ow_1, total_loss_train=1.45e+3, kl_local_train=47.5]"
     ]
    },
    {
     "name": "stdout",
     "output_type": "stream",
     "text": [
      "\r",
      "Epoch 227/1000:  23%|██▎       | 226/1000 [32:38<1:51:39,  8.66s/it, v_num=ow_1, total_loss_train=1.45e+3, kl_local_train=47.5]"
     ]
    },
    {
     "name": "stdout",
     "output_type": "stream",
     "text": [
      "\r",
      "Epoch 227/1000:  23%|██▎       | 227/1000 [32:47<1:51:34,  8.66s/it, v_num=ow_1, total_loss_train=1.45e+3, kl_local_train=47.5]"
     ]
    },
    {
     "name": "stdout",
     "output_type": "stream",
     "text": [
      "\r",
      "Epoch 227/1000:  23%|██▎       | 227/1000 [32:47<1:51:34,  8.66s/it, v_num=ow_1, total_loss_train=1.45e+3, kl_local_train=47.4]"
     ]
    },
    {
     "name": "stdout",
     "output_type": "stream",
     "text": [
      "\r",
      "Epoch 228/1000:  23%|██▎       | 227/1000 [32:47<1:51:34,  8.66s/it, v_num=ow_1, total_loss_train=1.45e+3, kl_local_train=47.4]"
     ]
    },
    {
     "name": "stdout",
     "output_type": "stream",
     "text": [
      "\r",
      "Epoch 228/1000:  23%|██▎       | 228/1000 [32:56<1:51:45,  8.69s/it, v_num=ow_1, total_loss_train=1.45e+3, kl_local_train=47.4]"
     ]
    },
    {
     "name": "stdout",
     "output_type": "stream",
     "text": [
      "\r",
      "Epoch 228/1000:  23%|██▎       | 228/1000 [32:56<1:51:45,  8.69s/it, v_num=ow_1, total_loss_train=1.45e+3, kl_local_train=47.5]"
     ]
    },
    {
     "name": "stdout",
     "output_type": "stream",
     "text": [
      "\r",
      "Epoch 229/1000:  23%|██▎       | 228/1000 [32:56<1:51:45,  8.69s/it, v_num=ow_1, total_loss_train=1.45e+3, kl_local_train=47.5]"
     ]
    },
    {
     "name": "stdout",
     "output_type": "stream",
     "text": [
      "\r",
      "Epoch 229/1000:  23%|██▎       | 229/1000 [33:04<1:51:02,  8.64s/it, v_num=ow_1, total_loss_train=1.45e+3, kl_local_train=47.5]"
     ]
    },
    {
     "name": "stdout",
     "output_type": "stream",
     "text": [
      "\r",
      "Epoch 229/1000:  23%|██▎       | 229/1000 [33:04<1:51:02,  8.64s/it, v_num=ow_1, total_loss_train=1.45e+3, kl_local_train=47.1]"
     ]
    },
    {
     "name": "stdout",
     "output_type": "stream",
     "text": [
      "\r",
      "Epoch 230/1000:  23%|██▎       | 229/1000 [33:04<1:51:02,  8.64s/it, v_num=ow_1, total_loss_train=1.45e+3, kl_local_train=47.1]"
     ]
    },
    {
     "name": "stdout",
     "output_type": "stream",
     "text": [
      "\r",
      "Epoch 230/1000:  23%|██▎       | 230/1000 [33:13<1:51:43,  8.71s/it, v_num=ow_1, total_loss_train=1.45e+3, kl_local_train=47.1]"
     ]
    },
    {
     "name": "stdout",
     "output_type": "stream",
     "text": [
      "\r",
      "Epoch 230/1000:  23%|██▎       | 230/1000 [33:13<1:51:43,  8.71s/it, v_num=ow_1, total_loss_train=1.45e+3, kl_local_train=47.6]"
     ]
    },
    {
     "name": "stdout",
     "output_type": "stream",
     "text": [
      "\r",
      "Epoch 231/1000:  23%|██▎       | 230/1000 [33:13<1:51:43,  8.71s/it, v_num=ow_1, total_loss_train=1.45e+3, kl_local_train=47.6]"
     ]
    },
    {
     "name": "stdout",
     "output_type": "stream",
     "text": [
      "\r",
      "Epoch 231/1000:  23%|██▎       | 231/1000 [33:22<1:50:51,  8.65s/it, v_num=ow_1, total_loss_train=1.45e+3, kl_local_train=47.6]"
     ]
    },
    {
     "name": "stdout",
     "output_type": "stream",
     "text": [
      "\r",
      "Epoch 231/1000:  23%|██▎       | 231/1000 [33:22<1:50:51,  8.65s/it, v_num=ow_1, total_loss_train=1.45e+3, kl_local_train=47]  "
     ]
    },
    {
     "name": "stdout",
     "output_type": "stream",
     "text": [
      "\r",
      "Epoch 232/1000:  23%|██▎       | 231/1000 [33:22<1:50:51,  8.65s/it, v_num=ow_1, total_loss_train=1.45e+3, kl_local_train=47]"
     ]
    },
    {
     "name": "stdout",
     "output_type": "stream",
     "text": [
      "\r",
      "Epoch 232/1000:  23%|██▎       | 232/1000 [33:30<1:48:36,  8.49s/it, v_num=ow_1, total_loss_train=1.45e+3, kl_local_train=47]"
     ]
    },
    {
     "name": "stdout",
     "output_type": "stream",
     "text": [
      "\r",
      "Epoch 232/1000:  23%|██▎       | 232/1000 [33:30<1:48:36,  8.49s/it, v_num=ow_1, total_loss_train=1.45e+3, kl_local_train=47.1]"
     ]
    },
    {
     "name": "stdout",
     "output_type": "stream",
     "text": [
      "\r",
      "Epoch 233/1000:  23%|██▎       | 232/1000 [33:30<1:48:36,  8.49s/it, v_num=ow_1, total_loss_train=1.45e+3, kl_local_train=47.1]"
     ]
    },
    {
     "name": "stdout",
     "output_type": "stream",
     "text": [
      "\r",
      "Epoch 233/1000:  23%|██▎       | 233/1000 [33:39<1:49:48,  8.59s/it, v_num=ow_1, total_loss_train=1.45e+3, kl_local_train=47.1]"
     ]
    },
    {
     "name": "stdout",
     "output_type": "stream",
     "text": [
      "\r",
      "Epoch 233/1000:  23%|██▎       | 233/1000 [33:39<1:49:48,  8.59s/it, v_num=ow_1, total_loss_train=1.45e+3, kl_local_train=46.7]"
     ]
    },
    {
     "name": "stdout",
     "output_type": "stream",
     "text": [
      "\r",
      "Epoch 234/1000:  23%|██▎       | 233/1000 [33:39<1:49:48,  8.59s/it, v_num=ow_1, total_loss_train=1.45e+3, kl_local_train=46.7]"
     ]
    },
    {
     "name": "stdout",
     "output_type": "stream",
     "text": [
      "\r",
      "Epoch 234/1000:  23%|██▎       | 234/1000 [33:47<1:48:07,  8.47s/it, v_num=ow_1, total_loss_train=1.45e+3, kl_local_train=46.7]"
     ]
    },
    {
     "name": "stdout",
     "output_type": "stream",
     "text": [
      "\r",
      "Epoch 234/1000:  23%|██▎       | 234/1000 [33:47<1:48:07,  8.47s/it, v_num=ow_1, total_loss_train=1.45e+3, kl_local_train=46.9]"
     ]
    },
    {
     "name": "stdout",
     "output_type": "stream",
     "text": [
      "\r",
      "Epoch 235/1000:  23%|██▎       | 234/1000 [33:47<1:48:07,  8.47s/it, v_num=ow_1, total_loss_train=1.45e+3, kl_local_train=46.9]"
     ]
    },
    {
     "name": "stdout",
     "output_type": "stream",
     "text": [
      "\r",
      "Epoch 235/1000:  24%|██▎       | 235/1000 [33:56<1:49:14,  8.57s/it, v_num=ow_1, total_loss_train=1.45e+3, kl_local_train=46.9]"
     ]
    },
    {
     "name": "stdout",
     "output_type": "stream",
     "text": [
      "\r",
      "Epoch 235/1000:  24%|██▎       | 235/1000 [33:56<1:49:14,  8.57s/it, v_num=ow_1, total_loss_train=1.45e+3, kl_local_train=46.8]"
     ]
    },
    {
     "name": "stdout",
     "output_type": "stream",
     "text": [
      "\r",
      "Epoch 236/1000:  24%|██▎       | 235/1000 [33:56<1:49:14,  8.57s/it, v_num=ow_1, total_loss_train=1.45e+3, kl_local_train=46.8]"
     ]
    },
    {
     "name": "stdout",
     "output_type": "stream",
     "text": [
      "\r",
      "Epoch 236/1000:  24%|██▎       | 236/1000 [34:04<1:50:12,  8.65s/it, v_num=ow_1, total_loss_train=1.45e+3, kl_local_train=46.8]"
     ]
    },
    {
     "name": "stdout",
     "output_type": "stream",
     "text": [
      "\r",
      "Epoch 236/1000:  24%|██▎       | 236/1000 [34:04<1:50:12,  8.65s/it, v_num=ow_1, total_loss_train=1.45e+3, kl_local_train=46.7]"
     ]
    },
    {
     "name": "stdout",
     "output_type": "stream",
     "text": [
      "\r",
      "Epoch 237/1000:  24%|██▎       | 236/1000 [34:04<1:50:12,  8.65s/it, v_num=ow_1, total_loss_train=1.45e+3, kl_local_train=46.7]"
     ]
    },
    {
     "name": "stdout",
     "output_type": "stream",
     "text": [
      "\r",
      "Epoch 237/1000:  24%|██▎       | 237/1000 [34:13<1:50:47,  8.71s/it, v_num=ow_1, total_loss_train=1.45e+3, kl_local_train=46.7]"
     ]
    },
    {
     "name": "stdout",
     "output_type": "stream",
     "text": [
      "\r",
      "Epoch 237/1000:  24%|██▎       | 237/1000 [34:13<1:50:47,  8.71s/it, v_num=ow_1, total_loss_train=1.45e+3, kl_local_train=46.5]"
     ]
    },
    {
     "name": "stdout",
     "output_type": "stream",
     "text": [
      "\r",
      "Epoch 238/1000:  24%|██▎       | 237/1000 [34:13<1:50:47,  8.71s/it, v_num=ow_1, total_loss_train=1.45e+3, kl_local_train=46.5]"
     ]
    },
    {
     "name": "stdout",
     "output_type": "stream",
     "text": [
      "\r",
      "Epoch 238/1000:  24%|██▍       | 238/1000 [34:21<1:48:33,  8.55s/it, v_num=ow_1, total_loss_train=1.45e+3, kl_local_train=46.5]"
     ]
    },
    {
     "name": "stdout",
     "output_type": "stream",
     "text": [
      "\r",
      "Epoch 238/1000:  24%|██▍       | 238/1000 [34:21<1:48:33,  8.55s/it, v_num=ow_1, total_loss_train=1.45e+3, kl_local_train=46.4]"
     ]
    },
    {
     "name": "stdout",
     "output_type": "stream",
     "text": [
      "\r",
      "Epoch 239/1000:  24%|██▍       | 238/1000 [34:21<1:48:33,  8.55s/it, v_num=ow_1, total_loss_train=1.45e+3, kl_local_train=46.4]"
     ]
    },
    {
     "name": "stdout",
     "output_type": "stream",
     "text": [
      "\r",
      "Epoch 239/1000:  24%|██▍       | 239/1000 [34:31<1:52:04,  8.84s/it, v_num=ow_1, total_loss_train=1.45e+3, kl_local_train=46.4]"
     ]
    },
    {
     "name": "stdout",
     "output_type": "stream",
     "text": [
      "\r",
      "Epoch 239/1000:  24%|██▍       | 239/1000 [34:31<1:52:04,  8.84s/it, v_num=ow_1, total_loss_train=1.45e+3, kl_local_train=46.4]"
     ]
    },
    {
     "name": "stdout",
     "output_type": "stream",
     "text": [
      "\r",
      "Epoch 240/1000:  24%|██▍       | 239/1000 [34:31<1:52:04,  8.84s/it, v_num=ow_1, total_loss_train=1.45e+3, kl_local_train=46.4]"
     ]
    },
    {
     "name": "stdout",
     "output_type": "stream",
     "text": [
      "\r",
      "Epoch 240/1000:  24%|██▍       | 240/1000 [34:40<1:51:53,  8.83s/it, v_num=ow_1, total_loss_train=1.45e+3, kl_local_train=46.4]"
     ]
    },
    {
     "name": "stdout",
     "output_type": "stream",
     "text": [
      "\r",
      "Epoch 240/1000:  24%|██▍       | 240/1000 [34:40<1:51:53,  8.83s/it, v_num=ow_1, total_loss_train=1.45e+3, kl_local_train=46.2]"
     ]
    },
    {
     "name": "stdout",
     "output_type": "stream",
     "text": [
      "\r",
      "Epoch 241/1000:  24%|██▍       | 240/1000 [34:40<1:51:53,  8.83s/it, v_num=ow_1, total_loss_train=1.45e+3, kl_local_train=46.2]"
     ]
    },
    {
     "name": "stdout",
     "output_type": "stream",
     "text": [
      "\r",
      "Epoch 241/1000:  24%|██▍       | 241/1000 [34:49<1:53:16,  8.95s/it, v_num=ow_1, total_loss_train=1.45e+3, kl_local_train=46.2]"
     ]
    },
    {
     "name": "stdout",
     "output_type": "stream",
     "text": [
      "\r",
      "Epoch 241/1000:  24%|██▍       | 241/1000 [34:49<1:53:16,  8.95s/it, v_num=ow_1, total_loss_train=1.45e+3, kl_local_train=46.4]"
     ]
    },
    {
     "name": "stdout",
     "output_type": "stream",
     "text": [
      "\r",
      "Epoch 242/1000:  24%|██▍       | 241/1000 [34:49<1:53:16,  8.95s/it, v_num=ow_1, total_loss_train=1.45e+3, kl_local_train=46.4]"
     ]
    },
    {
     "name": "stdout",
     "output_type": "stream",
     "text": [
      "\r",
      "Epoch 242/1000:  24%|██▍       | 242/1000 [34:58<1:52:28,  8.90s/it, v_num=ow_1, total_loss_train=1.45e+3, kl_local_train=46.4]"
     ]
    },
    {
     "name": "stdout",
     "output_type": "stream",
     "text": [
      "\r",
      "Epoch 242/1000:  24%|██▍       | 242/1000 [34:58<1:52:28,  8.90s/it, v_num=ow_1, total_loss_train=1.45e+3, kl_local_train=46.5]"
     ]
    },
    {
     "name": "stdout",
     "output_type": "stream",
     "text": [
      "\r",
      "Epoch 243/1000:  24%|██▍       | 242/1000 [34:58<1:52:28,  8.90s/it, v_num=ow_1, total_loss_train=1.45e+3, kl_local_train=46.5]"
     ]
    },
    {
     "name": "stdout",
     "output_type": "stream",
     "text": [
      "\r",
      "Epoch 243/1000:  24%|██▍       | 243/1000 [35:07<1:52:26,  8.91s/it, v_num=ow_1, total_loss_train=1.45e+3, kl_local_train=46.5]"
     ]
    },
    {
     "name": "stdout",
     "output_type": "stream",
     "text": [
      "\r",
      "Epoch 243/1000:  24%|██▍       | 243/1000 [35:07<1:52:26,  8.91s/it, v_num=ow_1, total_loss_train=1.45e+3, kl_local_train=45.9]"
     ]
    },
    {
     "name": "stdout",
     "output_type": "stream",
     "text": [
      "\r",
      "Epoch 244/1000:  24%|██▍       | 243/1000 [35:07<1:52:26,  8.91s/it, v_num=ow_1, total_loss_train=1.45e+3, kl_local_train=45.9]"
     ]
    },
    {
     "name": "stdout",
     "output_type": "stream",
     "text": [
      "\r",
      "Epoch 244/1000:  24%|██▍       | 244/1000 [35:16<1:52:03,  8.89s/it, v_num=ow_1, total_loss_train=1.45e+3, kl_local_train=45.9]"
     ]
    },
    {
     "name": "stdout",
     "output_type": "stream",
     "text": [
      "\r",
      "Epoch 244/1000:  24%|██▍       | 244/1000 [35:16<1:52:03,  8.89s/it, v_num=ow_1, total_loss_train=1.45e+3, kl_local_train=46.2]"
     ]
    },
    {
     "name": "stdout",
     "output_type": "stream",
     "text": [
      "\r",
      "Epoch 245/1000:  24%|██▍       | 244/1000 [35:16<1:52:03,  8.89s/it, v_num=ow_1, total_loss_train=1.45e+3, kl_local_train=46.2]"
     ]
    },
    {
     "name": "stdout",
     "output_type": "stream",
     "text": [
      "\r",
      "Epoch 245/1000:  24%|██▍       | 245/1000 [35:25<1:53:09,  8.99s/it, v_num=ow_1, total_loss_train=1.45e+3, kl_local_train=46.2]"
     ]
    },
    {
     "name": "stdout",
     "output_type": "stream",
     "text": [
      "\r",
      "Epoch 245/1000:  24%|██▍       | 245/1000 [35:25<1:53:09,  8.99s/it, v_num=ow_1, total_loss_train=1.45e+3, kl_local_train=46.3]"
     ]
    },
    {
     "name": "stdout",
     "output_type": "stream",
     "text": [
      "\r",
      "Epoch 246/1000:  24%|██▍       | 245/1000 [35:25<1:53:09,  8.99s/it, v_num=ow_1, total_loss_train=1.45e+3, kl_local_train=46.3]"
     ]
    },
    {
     "name": "stdout",
     "output_type": "stream",
     "text": [
      "\r",
      "Epoch 246/1000:  25%|██▍       | 246/1000 [35:34<1:53:43,  9.05s/it, v_num=ow_1, total_loss_train=1.45e+3, kl_local_train=46.3]"
     ]
    },
    {
     "name": "stdout",
     "output_type": "stream",
     "text": [
      "\r",
      "Epoch 246/1000:  25%|██▍       | 246/1000 [35:34<1:53:43,  9.05s/it, v_num=ow_1, total_loss_train=1.45e+3, kl_local_train=45.8]"
     ]
    },
    {
     "name": "stdout",
     "output_type": "stream",
     "text": [
      "\r",
      "Epoch 247/1000:  25%|██▍       | 246/1000 [35:34<1:53:43,  9.05s/it, v_num=ow_1, total_loss_train=1.45e+3, kl_local_train=45.8]"
     ]
    },
    {
     "name": "stdout",
     "output_type": "stream",
     "text": [
      "\r",
      "Epoch 247/1000:  25%|██▍       | 247/1000 [35:43<1:55:19,  9.19s/it, v_num=ow_1, total_loss_train=1.45e+3, kl_local_train=45.8]"
     ]
    },
    {
     "name": "stdout",
     "output_type": "stream",
     "text": [
      "\r",
      "Epoch 247/1000:  25%|██▍       | 247/1000 [35:43<1:55:19,  9.19s/it, v_num=ow_1, total_loss_train=1.45e+3, kl_local_train=46]  "
     ]
    },
    {
     "name": "stdout",
     "output_type": "stream",
     "text": [
      "\r",
      "Epoch 248/1000:  25%|██▍       | 247/1000 [35:43<1:55:19,  9.19s/it, v_num=ow_1, total_loss_train=1.45e+3, kl_local_train=46]"
     ]
    },
    {
     "name": "stdout",
     "output_type": "stream",
     "text": [
      "\r",
      "Epoch 248/1000:  25%|██▍       | 248/1000 [35:52<1:53:41,  9.07s/it, v_num=ow_1, total_loss_train=1.45e+3, kl_local_train=46]"
     ]
    },
    {
     "name": "stdout",
     "output_type": "stream",
     "text": [
      "\r",
      "Epoch 248/1000:  25%|██▍       | 248/1000 [35:52<1:53:41,  9.07s/it, v_num=ow_1, total_loss_train=1.45e+3, kl_local_train=45.8]"
     ]
    },
    {
     "name": "stdout",
     "output_type": "stream",
     "text": [
      "\r",
      "Epoch 249/1000:  25%|██▍       | 248/1000 [35:52<1:53:41,  9.07s/it, v_num=ow_1, total_loss_train=1.45e+3, kl_local_train=45.8]"
     ]
    },
    {
     "name": "stdout",
     "output_type": "stream",
     "text": [
      "\r",
      "Epoch 249/1000:  25%|██▍       | 249/1000 [36:01<1:52:32,  8.99s/it, v_num=ow_1, total_loss_train=1.45e+3, kl_local_train=45.8]"
     ]
    },
    {
     "name": "stdout",
     "output_type": "stream",
     "text": [
      "\r",
      "Epoch 249/1000:  25%|██▍       | 249/1000 [36:01<1:52:32,  8.99s/it, v_num=ow_1, total_loss_train=1.45e+3, kl_local_train=45.8]"
     ]
    },
    {
     "name": "stdout",
     "output_type": "stream",
     "text": [
      "\r",
      "Epoch 250/1000:  25%|██▍       | 249/1000 [36:01<1:52:32,  8.99s/it, v_num=ow_1, total_loss_train=1.45e+3, kl_local_train=45.8]"
     ]
    },
    {
     "name": "stdout",
     "output_type": "stream",
     "text": [
      "\r",
      "Epoch 250/1000:  25%|██▌       | 250/1000 [36:10<1:51:29,  8.92s/it, v_num=ow_1, total_loss_train=1.45e+3, kl_local_train=45.8]"
     ]
    },
    {
     "name": "stdout",
     "output_type": "stream",
     "text": [
      "\r",
      "Epoch 250/1000:  25%|██▌       | 250/1000 [36:10<1:51:29,  8.92s/it, v_num=ow_1, total_loss_train=1.45e+3, kl_local_train=45.8]"
     ]
    },
    {
     "name": "stdout",
     "output_type": "stream",
     "text": [
      "\r",
      "Epoch 251/1000:  25%|██▌       | 250/1000 [36:10<1:51:29,  8.92s/it, v_num=ow_1, total_loss_train=1.45e+3, kl_local_train=45.8]"
     ]
    },
    {
     "name": "stdout",
     "output_type": "stream",
     "text": [
      "\r",
      "Epoch 251/1000:  25%|██▌       | 251/1000 [36:18<1:48:33,  8.70s/it, v_num=ow_1, total_loss_train=1.45e+3, kl_local_train=45.8]"
     ]
    },
    {
     "name": "stdout",
     "output_type": "stream",
     "text": [
      "\r",
      "Epoch 251/1000:  25%|██▌       | 251/1000 [36:18<1:48:33,  8.70s/it, v_num=ow_1, total_loss_train=1.45e+3, kl_local_train=45.8]"
     ]
    },
    {
     "name": "stdout",
     "output_type": "stream",
     "text": [
      "\r",
      "Epoch 252/1000:  25%|██▌       | 251/1000 [36:18<1:48:33,  8.70s/it, v_num=ow_1, total_loss_train=1.45e+3, kl_local_train=45.8]"
     ]
    },
    {
     "name": "stdout",
     "output_type": "stream",
     "text": [
      "\r",
      "Epoch 252/1000:  25%|██▌       | 252/1000 [36:27<1:48:59,  8.74s/it, v_num=ow_1, total_loss_train=1.45e+3, kl_local_train=45.8]"
     ]
    },
    {
     "name": "stdout",
     "output_type": "stream",
     "text": [
      "\r",
      "Epoch 252/1000:  25%|██▌       | 252/1000 [36:27<1:48:59,  8.74s/it, v_num=ow_1, total_loss_train=1.45e+3, kl_local_train=45.6]"
     ]
    },
    {
     "name": "stdout",
     "output_type": "stream",
     "text": [
      "\r",
      "Epoch 253/1000:  25%|██▌       | 252/1000 [36:27<1:48:59,  8.74s/it, v_num=ow_1, total_loss_train=1.45e+3, kl_local_train=45.6]"
     ]
    },
    {
     "name": "stdout",
     "output_type": "stream",
     "text": [
      "\r",
      "Epoch 253/1000:  25%|██▌       | 253/1000 [36:36<1:48:32,  8.72s/it, v_num=ow_1, total_loss_train=1.45e+3, kl_local_train=45.6]"
     ]
    },
    {
     "name": "stdout",
     "output_type": "stream",
     "text": [
      "\r",
      "Epoch 253/1000:  25%|██▌       | 253/1000 [36:36<1:48:32,  8.72s/it, v_num=ow_1, total_loss_train=1.45e+3, kl_local_train=45.4]"
     ]
    },
    {
     "name": "stdout",
     "output_type": "stream",
     "text": [
      "\r",
      "Epoch 254/1000:  25%|██▌       | 253/1000 [36:36<1:48:32,  8.72s/it, v_num=ow_1, total_loss_train=1.45e+3, kl_local_train=45.4]"
     ]
    },
    {
     "name": "stdout",
     "output_type": "stream",
     "text": [
      "\r",
      "Epoch 254/1000:  25%|██▌       | 254/1000 [36:44<1:48:58,  8.77s/it, v_num=ow_1, total_loss_train=1.45e+3, kl_local_train=45.4]"
     ]
    },
    {
     "name": "stdout",
     "output_type": "stream",
     "text": [
      "\r",
      "Epoch 254/1000:  25%|██▌       | 254/1000 [36:44<1:48:58,  8.77s/it, v_num=ow_1, total_loss_train=1.45e+3, kl_local_train=45.7]"
     ]
    },
    {
     "name": "stdout",
     "output_type": "stream",
     "text": [
      "\r",
      "Epoch 255/1000:  25%|██▌       | 254/1000 [36:44<1:48:58,  8.77s/it, v_num=ow_1, total_loss_train=1.45e+3, kl_local_train=45.7]"
     ]
    },
    {
     "name": "stdout",
     "output_type": "stream",
     "text": [
      "\r",
      "Epoch 255/1000:  26%|██▌       | 255/1000 [36:53<1:48:57,  8.77s/it, v_num=ow_1, total_loss_train=1.45e+3, kl_local_train=45.7]"
     ]
    },
    {
     "name": "stdout",
     "output_type": "stream",
     "text": [
      "\r",
      "Epoch 255/1000:  26%|██▌       | 255/1000 [36:53<1:48:57,  8.77s/it, v_num=ow_1, total_loss_train=1.45e+3, kl_local_train=45.5]"
     ]
    },
    {
     "name": "stdout",
     "output_type": "stream",
     "text": [
      "\r",
      "Epoch 256/1000:  26%|██▌       | 255/1000 [36:53<1:48:57,  8.77s/it, v_num=ow_1, total_loss_train=1.45e+3, kl_local_train=45.5]"
     ]
    },
    {
     "name": "stdout",
     "output_type": "stream",
     "text": [
      "\r",
      "Epoch 256/1000:  26%|██▌       | 256/1000 [37:02<1:49:42,  8.85s/it, v_num=ow_1, total_loss_train=1.45e+3, kl_local_train=45.5]"
     ]
    },
    {
     "name": "stdout",
     "output_type": "stream",
     "text": [
      "\r",
      "Epoch 256/1000:  26%|██▌       | 256/1000 [37:02<1:49:42,  8.85s/it, v_num=ow_1, total_loss_train=1.45e+3, kl_local_train=45.5]"
     ]
    },
    {
     "name": "stdout",
     "output_type": "stream",
     "text": [
      "\r",
      "Epoch 257/1000:  26%|██▌       | 256/1000 [37:02<1:49:42,  8.85s/it, v_num=ow_1, total_loss_train=1.45e+3, kl_local_train=45.5]"
     ]
    },
    {
     "name": "stdout",
     "output_type": "stream",
     "text": [
      "\r",
      "Epoch 257/1000:  26%|██▌       | 257/1000 [37:10<1:47:22,  8.67s/it, v_num=ow_1, total_loss_train=1.45e+3, kl_local_train=45.5]"
     ]
    },
    {
     "name": "stdout",
     "output_type": "stream",
     "text": [
      "\r",
      "Epoch 257/1000:  26%|██▌       | 257/1000 [37:10<1:47:22,  8.67s/it, v_num=ow_1, total_loss_train=1.45e+3, kl_local_train=45.6]"
     ]
    },
    {
     "name": "stdout",
     "output_type": "stream",
     "text": [
      "\r",
      "Epoch 258/1000:  26%|██▌       | 257/1000 [37:10<1:47:22,  8.67s/it, v_num=ow_1, total_loss_train=1.45e+3, kl_local_train=45.6]"
     ]
    },
    {
     "name": "stdout",
     "output_type": "stream",
     "text": [
      "\r",
      "Epoch 258/1000:  26%|██▌       | 258/1000 [37:19<1:45:45,  8.55s/it, v_num=ow_1, total_loss_train=1.45e+3, kl_local_train=45.6]"
     ]
    },
    {
     "name": "stdout",
     "output_type": "stream",
     "text": [
      "\r",
      "Epoch 258/1000:  26%|██▌       | 258/1000 [37:19<1:45:45,  8.55s/it, v_num=ow_1, total_loss_train=1.45e+3, kl_local_train=45.3]"
     ]
    },
    {
     "name": "stdout",
     "output_type": "stream",
     "text": [
      "\r",
      "Epoch 259/1000:  26%|██▌       | 258/1000 [37:19<1:45:45,  8.55s/it, v_num=ow_1, total_loss_train=1.45e+3, kl_local_train=45.3]"
     ]
    },
    {
     "name": "stdout",
     "output_type": "stream",
     "text": [
      "\r",
      "Epoch 259/1000:  26%|██▌       | 259/1000 [37:29<1:50:14,  8.93s/it, v_num=ow_1, total_loss_train=1.45e+3, kl_local_train=45.3]"
     ]
    },
    {
     "name": "stdout",
     "output_type": "stream",
     "text": [
      "\r",
      "Epoch 259/1000:  26%|██▌       | 259/1000 [37:29<1:50:14,  8.93s/it, v_num=ow_1, total_loss_train=1.45e+3, kl_local_train=44.9]"
     ]
    },
    {
     "name": "stdout",
     "output_type": "stream",
     "text": [
      "\r",
      "Epoch 260/1000:  26%|██▌       | 259/1000 [37:29<1:50:14,  8.93s/it, v_num=ow_1, total_loss_train=1.45e+3, kl_local_train=44.9]"
     ]
    },
    {
     "name": "stdout",
     "output_type": "stream",
     "text": [
      "\r",
      "Epoch 260/1000:  26%|██▌       | 260/1000 [37:37<1:49:56,  8.91s/it, v_num=ow_1, total_loss_train=1.45e+3, kl_local_train=44.9]"
     ]
    },
    {
     "name": "stdout",
     "output_type": "stream",
     "text": [
      "\r",
      "Epoch 260/1000:  26%|██▌       | 260/1000 [37:37<1:49:56,  8.91s/it, v_num=ow_1, total_loss_train=1.45e+3, kl_local_train=45.3]"
     ]
    },
    {
     "name": "stdout",
     "output_type": "stream",
     "text": [
      "\r",
      "Epoch 261/1000:  26%|██▌       | 260/1000 [37:37<1:49:56,  8.91s/it, v_num=ow_1, total_loss_train=1.45e+3, kl_local_train=45.3]"
     ]
    },
    {
     "name": "stdout",
     "output_type": "stream",
     "text": [
      "\r",
      "Epoch 261/1000:  26%|██▌       | 261/1000 [37:46<1:47:17,  8.71s/it, v_num=ow_1, total_loss_train=1.45e+3, kl_local_train=45.3]"
     ]
    },
    {
     "name": "stdout",
     "output_type": "stream",
     "text": [
      "\r",
      "Epoch 261/1000:  26%|██▌       | 261/1000 [37:46<1:47:17,  8.71s/it, v_num=ow_1, total_loss_train=1.45e+3, kl_local_train=45.2]"
     ]
    },
    {
     "name": "stdout",
     "output_type": "stream",
     "text": [
      "\r",
      "Epoch 262/1000:  26%|██▌       | 261/1000 [37:46<1:47:17,  8.71s/it, v_num=ow_1, total_loss_train=1.45e+3, kl_local_train=45.2]"
     ]
    },
    {
     "name": "stdout",
     "output_type": "stream",
     "text": [
      "\r",
      "Epoch 262/1000:  26%|██▌       | 262/1000 [37:54<1:47:26,  8.74s/it, v_num=ow_1, total_loss_train=1.45e+3, kl_local_train=45.2]"
     ]
    },
    {
     "name": "stdout",
     "output_type": "stream",
     "text": [
      "\r",
      "Epoch 262/1000:  26%|██▌       | 262/1000 [37:54<1:47:26,  8.74s/it, v_num=ow_1, total_loss_train=1.45e+3, kl_local_train=44.9]"
     ]
    },
    {
     "name": "stdout",
     "output_type": "stream",
     "text": [
      "\r",
      "Epoch 263/1000:  26%|██▌       | 262/1000 [37:54<1:47:26,  8.74s/it, v_num=ow_1, total_loss_train=1.45e+3, kl_local_train=44.9]"
     ]
    },
    {
     "name": "stdout",
     "output_type": "stream",
     "text": [
      "\r",
      "Epoch 263/1000:  26%|██▋       | 263/1000 [38:03<1:45:07,  8.56s/it, v_num=ow_1, total_loss_train=1.45e+3, kl_local_train=44.9]"
     ]
    },
    {
     "name": "stdout",
     "output_type": "stream",
     "text": [
      "\r",
      "Epoch 263/1000:  26%|██▋       | 263/1000 [38:03<1:45:07,  8.56s/it, v_num=ow_1, total_loss_train=1.45e+3, kl_local_train=45]  "
     ]
    },
    {
     "name": "stdout",
     "output_type": "stream",
     "text": [
      "\r",
      "Epoch 264/1000:  26%|██▋       | 263/1000 [38:03<1:45:07,  8.56s/it, v_num=ow_1, total_loss_train=1.45e+3, kl_local_train=45]"
     ]
    },
    {
     "name": "stdout",
     "output_type": "stream",
     "text": [
      "\r",
      "Epoch 264/1000:  26%|██▋       | 264/1000 [38:11<1:45:53,  8.63s/it, v_num=ow_1, total_loss_train=1.45e+3, kl_local_train=45]"
     ]
    },
    {
     "name": "stdout",
     "output_type": "stream",
     "text": [
      "\r",
      "Epoch 264/1000:  26%|██▋       | 264/1000 [38:11<1:45:53,  8.63s/it, v_num=ow_1, total_loss_train=1.45e+3, kl_local_train=44.7]"
     ]
    },
    {
     "name": "stdout",
     "output_type": "stream",
     "text": [
      "\r",
      "Epoch 265/1000:  26%|██▋       | 264/1000 [38:11<1:45:53,  8.63s/it, v_num=ow_1, total_loss_train=1.45e+3, kl_local_train=44.7]"
     ]
    },
    {
     "name": "stdout",
     "output_type": "stream",
     "text": [
      "\r",
      "Epoch 265/1000:  26%|██▋       | 265/1000 [38:20<1:46:20,  8.68s/it, v_num=ow_1, total_loss_train=1.45e+3, kl_local_train=44.7]"
     ]
    },
    {
     "name": "stdout",
     "output_type": "stream",
     "text": [
      "\r",
      "Epoch 265/1000:  26%|██▋       | 265/1000 [38:20<1:46:20,  8.68s/it, v_num=ow_1, total_loss_train=1.45e+3, kl_local_train=45.1]"
     ]
    },
    {
     "name": "stdout",
     "output_type": "stream",
     "text": [
      "\r",
      "Epoch 266/1000:  26%|██▋       | 265/1000 [38:20<1:46:20,  8.68s/it, v_num=ow_1, total_loss_train=1.45e+3, kl_local_train=45.1]"
     ]
    },
    {
     "name": "stdout",
     "output_type": "stream",
     "text": [
      "\r",
      "Epoch 266/1000:  27%|██▋       | 266/1000 [38:28<1:43:26,  8.46s/it, v_num=ow_1, total_loss_train=1.45e+3, kl_local_train=45.1]"
     ]
    },
    {
     "name": "stdout",
     "output_type": "stream",
     "text": [
      "\r",
      "Epoch 266/1000:  27%|██▋       | 266/1000 [38:28<1:43:26,  8.46s/it, v_num=ow_1, total_loss_train=1.45e+3, kl_local_train=44.5]"
     ]
    },
    {
     "name": "stdout",
     "output_type": "stream",
     "text": [
      "\r",
      "Epoch 267/1000:  27%|██▋       | 266/1000 [38:28<1:43:26,  8.46s/it, v_num=ow_1, total_loss_train=1.45e+3, kl_local_train=44.5]"
     ]
    },
    {
     "name": "stdout",
     "output_type": "stream",
     "text": [
      "\r",
      "Epoch 267/1000:  27%|██▋       | 267/1000 [38:37<1:44:01,  8.52s/it, v_num=ow_1, total_loss_train=1.45e+3, kl_local_train=44.5]"
     ]
    },
    {
     "name": "stdout",
     "output_type": "stream",
     "text": [
      "\r",
      "Epoch 267/1000:  27%|██▋       | 267/1000 [38:37<1:44:01,  8.52s/it, v_num=ow_1, total_loss_train=1.45e+3, kl_local_train=44.9]"
     ]
    },
    {
     "name": "stdout",
     "output_type": "stream",
     "text": [
      "\r",
      "Epoch 268/1000:  27%|██▋       | 267/1000 [38:37<1:44:01,  8.52s/it, v_num=ow_1, total_loss_train=1.45e+3, kl_local_train=44.9]"
     ]
    },
    {
     "name": "stdout",
     "output_type": "stream",
     "text": [
      "\r",
      "Epoch 268/1000:  27%|██▋       | 268/1000 [38:46<1:44:50,  8.59s/it, v_num=ow_1, total_loss_train=1.45e+3, kl_local_train=44.9]"
     ]
    },
    {
     "name": "stdout",
     "output_type": "stream",
     "text": [
      "\r",
      "Epoch 268/1000:  27%|██▋       | 268/1000 [38:46<1:44:50,  8.59s/it, v_num=ow_1, total_loss_train=1.45e+3, kl_local_train=44.4]"
     ]
    },
    {
     "name": "stdout",
     "output_type": "stream",
     "text": [
      "\r",
      "Epoch 269/1000:  27%|██▋       | 268/1000 [38:46<1:44:50,  8.59s/it, v_num=ow_1, total_loss_train=1.45e+3, kl_local_train=44.4]"
     ]
    },
    {
     "name": "stdout",
     "output_type": "stream",
     "text": [
      "\r",
      "Epoch 269/1000:  27%|██▋       | 269/1000 [38:54<1:45:00,  8.62s/it, v_num=ow_1, total_loss_train=1.45e+3, kl_local_train=44.4]"
     ]
    },
    {
     "name": "stdout",
     "output_type": "stream",
     "text": [
      "\r",
      "Epoch 269/1000:  27%|██▋       | 269/1000 [38:54<1:45:00,  8.62s/it, v_num=ow_1, total_loss_train=1.45e+3, kl_local_train=44.6]"
     ]
    },
    {
     "name": "stdout",
     "output_type": "stream",
     "text": [
      "\r",
      "Epoch 270/1000:  27%|██▋       | 269/1000 [38:54<1:45:00,  8.62s/it, v_num=ow_1, total_loss_train=1.45e+3, kl_local_train=44.6]"
     ]
    },
    {
     "name": "stdout",
     "output_type": "stream",
     "text": [
      "\r",
      "Epoch 270/1000:  27%|██▋       | 270/1000 [39:03<1:44:36,  8.60s/it, v_num=ow_1, total_loss_train=1.45e+3, kl_local_train=44.6]"
     ]
    },
    {
     "name": "stdout",
     "output_type": "stream",
     "text": [
      "\r",
      "Epoch 270/1000:  27%|██▋       | 270/1000 [39:03<1:44:36,  8.60s/it, v_num=ow_1, total_loss_train=1.45e+3, kl_local_train=44.2]"
     ]
    },
    {
     "name": "stdout",
     "output_type": "stream",
     "text": [
      "\r",
      "Epoch 271/1000:  27%|██▋       | 270/1000 [39:03<1:44:36,  8.60s/it, v_num=ow_1, total_loss_train=1.45e+3, kl_local_train=44.2]"
     ]
    },
    {
     "name": "stdout",
     "output_type": "stream",
     "text": [
      "\r",
      "Epoch 271/1000:  27%|██▋       | 271/1000 [39:11<1:43:35,  8.53s/it, v_num=ow_1, total_loss_train=1.45e+3, kl_local_train=44.2]"
     ]
    },
    {
     "name": "stdout",
     "output_type": "stream",
     "text": [
      "\r",
      "Epoch 271/1000:  27%|██▋       | 271/1000 [39:11<1:43:35,  8.53s/it, v_num=ow_1, total_loss_train=1.45e+3, kl_local_train=44.6]"
     ]
    },
    {
     "name": "stdout",
     "output_type": "stream",
     "text": [
      "\r",
      "Epoch 272/1000:  27%|██▋       | 271/1000 [39:11<1:43:35,  8.53s/it, v_num=ow_1, total_loss_train=1.45e+3, kl_local_train=44.6]"
     ]
    },
    {
     "name": "stdout",
     "output_type": "stream",
     "text": [
      "\r",
      "Epoch 272/1000:  27%|██▋       | 272/1000 [39:19<1:42:26,  8.44s/it, v_num=ow_1, total_loss_train=1.45e+3, kl_local_train=44.6]"
     ]
    },
    {
     "name": "stdout",
     "output_type": "stream",
     "text": [
      "\r",
      "Epoch 272/1000:  27%|██▋       | 272/1000 [39:19<1:42:26,  8.44s/it, v_num=ow_1, total_loss_train=1.45e+3, kl_local_train=44.6]"
     ]
    },
    {
     "name": "stdout",
     "output_type": "stream",
     "text": [
      "\r",
      "Epoch 273/1000:  27%|██▋       | 272/1000 [39:19<1:42:26,  8.44s/it, v_num=ow_1, total_loss_train=1.45e+3, kl_local_train=44.6]"
     ]
    },
    {
     "name": "stdout",
     "output_type": "stream",
     "text": [
      "\r",
      "Epoch 273/1000:  27%|██▋       | 273/1000 [39:27<1:39:43,  8.23s/it, v_num=ow_1, total_loss_train=1.45e+3, kl_local_train=44.6]"
     ]
    },
    {
     "name": "stdout",
     "output_type": "stream",
     "text": [
      "\r",
      "Epoch 273/1000:  27%|██▋       | 273/1000 [39:27<1:39:43,  8.23s/it, v_num=ow_1, total_loss_train=1.45e+3, kl_local_train=44.3]"
     ]
    },
    {
     "name": "stdout",
     "output_type": "stream",
     "text": [
      "\r",
      "Epoch 274/1000:  27%|██▋       | 273/1000 [39:27<1:39:43,  8.23s/it, v_num=ow_1, total_loss_train=1.45e+3, kl_local_train=44.3]"
     ]
    },
    {
     "name": "stdout",
     "output_type": "stream",
     "text": [
      "\r",
      "Epoch 274/1000:  27%|██▋       | 274/1000 [39:35<1:39:09,  8.20s/it, v_num=ow_1, total_loss_train=1.45e+3, kl_local_train=44.3]"
     ]
    },
    {
     "name": "stdout",
     "output_type": "stream",
     "text": [
      "\r",
      "Epoch 274/1000:  27%|██▋       | 274/1000 [39:35<1:39:09,  8.20s/it, v_num=ow_1, total_loss_train=1.45e+3, kl_local_train=44.2]"
     ]
    },
    {
     "name": "stdout",
     "output_type": "stream",
     "text": [
      "\r",
      "Epoch 275/1000:  27%|██▋       | 274/1000 [39:35<1:39:09,  8.20s/it, v_num=ow_1, total_loss_train=1.45e+3, kl_local_train=44.2]"
     ]
    },
    {
     "name": "stdout",
     "output_type": "stream",
     "text": [
      "\r",
      "Epoch 275/1000:  28%|██▊       | 275/1000 [39:43<1:36:50,  8.01s/it, v_num=ow_1, total_loss_train=1.45e+3, kl_local_train=44.2]"
     ]
    },
    {
     "name": "stdout",
     "output_type": "stream",
     "text": [
      "\r",
      "Epoch 275/1000:  28%|██▊       | 275/1000 [39:43<1:36:50,  8.01s/it, v_num=ow_1, total_loss_train=1.45e+3, kl_local_train=44.2]"
     ]
    },
    {
     "name": "stdout",
     "output_type": "stream",
     "text": [
      "\r",
      "Epoch 276/1000:  28%|██▊       | 275/1000 [39:43<1:36:50,  8.01s/it, v_num=ow_1, total_loss_train=1.45e+3, kl_local_train=44.2]"
     ]
    },
    {
     "name": "stdout",
     "output_type": "stream",
     "text": [
      "\r",
      "Epoch 276/1000:  28%|██▊       | 276/1000 [39:51<1:37:52,  8.11s/it, v_num=ow_1, total_loss_train=1.45e+3, kl_local_train=44.2]"
     ]
    },
    {
     "name": "stdout",
     "output_type": "stream",
     "text": [
      "\r",
      "Epoch 276/1000:  28%|██▊       | 276/1000 [39:51<1:37:52,  8.11s/it, v_num=ow_1, total_loss_train=1.45e+3, kl_local_train=44]  "
     ]
    },
    {
     "name": "stdout",
     "output_type": "stream",
     "text": [
      "\r",
      "Epoch 277/1000:  28%|██▊       | 276/1000 [39:51<1:37:52,  8.11s/it, v_num=ow_1, total_loss_train=1.45e+3, kl_local_train=44]"
     ]
    },
    {
     "name": "stdout",
     "output_type": "stream",
     "text": [
      "\r",
      "Epoch 277/1000:  28%|██▊       | 277/1000 [39:59<1:36:04,  7.97s/it, v_num=ow_1, total_loss_train=1.45e+3, kl_local_train=44]"
     ]
    },
    {
     "name": "stdout",
     "output_type": "stream",
     "text": [
      "\r",
      "Epoch 277/1000:  28%|██▊       | 277/1000 [39:59<1:36:04,  7.97s/it, v_num=ow_1, total_loss_train=1.45e+3, kl_local_train=43.8]"
     ]
    },
    {
     "name": "stdout",
     "output_type": "stream",
     "text": [
      "\r",
      "Epoch 278/1000:  28%|██▊       | 277/1000 [39:59<1:36:04,  7.97s/it, v_num=ow_1, total_loss_train=1.45e+3, kl_local_train=43.8]"
     ]
    },
    {
     "name": "stdout",
     "output_type": "stream",
     "text": [
      "\r",
      "Epoch 278/1000:  28%|██▊       | 278/1000 [40:07<1:37:48,  8.13s/it, v_num=ow_1, total_loss_train=1.45e+3, kl_local_train=43.8]"
     ]
    },
    {
     "name": "stdout",
     "output_type": "stream",
     "text": [
      "\r",
      "Epoch 278/1000:  28%|██▊       | 278/1000 [40:07<1:37:48,  8.13s/it, v_num=ow_1, total_loss_train=1.45e+3, kl_local_train=43.8]"
     ]
    },
    {
     "name": "stdout",
     "output_type": "stream",
     "text": [
      "\r",
      "Epoch 279/1000:  28%|██▊       | 278/1000 [40:07<1:37:48,  8.13s/it, v_num=ow_1, total_loss_train=1.45e+3, kl_local_train=43.8]"
     ]
    },
    {
     "name": "stdout",
     "output_type": "stream",
     "text": [
      "\r",
      "Epoch 279/1000:  28%|██▊       | 279/1000 [40:16<1:38:43,  8.22s/it, v_num=ow_1, total_loss_train=1.45e+3, kl_local_train=43.8]"
     ]
    },
    {
     "name": "stdout",
     "output_type": "stream",
     "text": [
      "\r",
      "Epoch 279/1000:  28%|██▊       | 279/1000 [40:16<1:38:43,  8.22s/it, v_num=ow_1, total_loss_train=1.45e+3, kl_local_train=44.1]"
     ]
    },
    {
     "name": "stdout",
     "output_type": "stream",
     "text": [
      "\r",
      "Epoch 280/1000:  28%|██▊       | 279/1000 [40:16<1:38:43,  8.22s/it, v_num=ow_1, total_loss_train=1.45e+3, kl_local_train=44.1]"
     ]
    },
    {
     "name": "stdout",
     "output_type": "stream",
     "text": [
      "\r",
      "Epoch 280/1000:  28%|██▊       | 280/1000 [40:24<1:39:30,  8.29s/it, v_num=ow_1, total_loss_train=1.45e+3, kl_local_train=44.1]"
     ]
    },
    {
     "name": "stdout",
     "output_type": "stream",
     "text": [
      "\r",
      "Epoch 280/1000:  28%|██▊       | 280/1000 [40:24<1:39:30,  8.29s/it, v_num=ow_1, total_loss_train=1.45e+3, kl_local_train=43.9]"
     ]
    },
    {
     "name": "stdout",
     "output_type": "stream",
     "text": [
      "\r",
      "Epoch 281/1000:  28%|██▊       | 280/1000 [40:24<1:39:30,  8.29s/it, v_num=ow_1, total_loss_train=1.45e+3, kl_local_train=43.9]"
     ]
    },
    {
     "name": "stdout",
     "output_type": "stream",
     "text": [
      "\r",
      "Epoch 281/1000:  28%|██▊       | 281/1000 [40:33<1:39:54,  8.34s/it, v_num=ow_1, total_loss_train=1.45e+3, kl_local_train=43.9]"
     ]
    },
    {
     "name": "stdout",
     "output_type": "stream",
     "text": [
      "\r",
      "Epoch 281/1000:  28%|██▊       | 281/1000 [40:33<1:39:54,  8.34s/it, v_num=ow_1, total_loss_train=1.45e+3, kl_local_train=43.9]"
     ]
    },
    {
     "name": "stdout",
     "output_type": "stream",
     "text": [
      "\r",
      "Epoch 282/1000:  28%|██▊       | 281/1000 [40:33<1:39:54,  8.34s/it, v_num=ow_1, total_loss_train=1.45e+3, kl_local_train=43.9]"
     ]
    },
    {
     "name": "stdout",
     "output_type": "stream",
     "text": [
      "\r",
      "Epoch 282/1000:  28%|██▊       | 282/1000 [40:41<1:40:21,  8.39s/it, v_num=ow_1, total_loss_train=1.45e+3, kl_local_train=43.9]"
     ]
    },
    {
     "name": "stdout",
     "output_type": "stream",
     "text": [
      "\r",
      "Epoch 282/1000:  28%|██▊       | 282/1000 [40:41<1:40:21,  8.39s/it, v_num=ow_1, total_loss_train=1.45e+3, kl_local_train=43.7]"
     ]
    },
    {
     "name": "stdout",
     "output_type": "stream",
     "text": [
      "\r",
      "Epoch 283/1000:  28%|██▊       | 282/1000 [40:41<1:40:21,  8.39s/it, v_num=ow_1, total_loss_train=1.45e+3, kl_local_train=43.7]"
     ]
    },
    {
     "name": "stdout",
     "output_type": "stream",
     "text": [
      "\r",
      "Epoch 283/1000:  28%|██▊       | 283/1000 [40:49<1:39:48,  8.35s/it, v_num=ow_1, total_loss_train=1.45e+3, kl_local_train=43.7]"
     ]
    },
    {
     "name": "stdout",
     "output_type": "stream",
     "text": [
      "\r",
      "Epoch 283/1000:  28%|██▊       | 283/1000 [40:49<1:39:48,  8.35s/it, v_num=ow_1, total_loss_train=1.45e+3, kl_local_train=43.6]"
     ]
    },
    {
     "name": "stdout",
     "output_type": "stream",
     "text": [
      "\r",
      "Epoch 284/1000:  28%|██▊       | 283/1000 [40:49<1:39:48,  8.35s/it, v_num=ow_1, total_loss_train=1.45e+3, kl_local_train=43.6]"
     ]
    },
    {
     "name": "stdout",
     "output_type": "stream",
     "text": [
      "\r",
      "Epoch 284/1000:  28%|██▊       | 284/1000 [40:58<1:39:57,  8.38s/it, v_num=ow_1, total_loss_train=1.45e+3, kl_local_train=43.6]"
     ]
    },
    {
     "name": "stdout",
     "output_type": "stream",
     "text": [
      "\r",
      "Epoch 284/1000:  28%|██▊       | 284/1000 [40:58<1:39:57,  8.38s/it, v_num=ow_1, total_loss_train=1.45e+3, kl_local_train=43.4]"
     ]
    },
    {
     "name": "stdout",
     "output_type": "stream",
     "text": [
      "\r",
      "Epoch 285/1000:  28%|██▊       | 284/1000 [40:58<1:39:57,  8.38s/it, v_num=ow_1, total_loss_train=1.45e+3, kl_local_train=43.4]"
     ]
    },
    {
     "name": "stdout",
     "output_type": "stream",
     "text": [
      "\r",
      "Epoch 285/1000:  28%|██▊       | 285/1000 [41:05<1:36:52,  8.13s/it, v_num=ow_1, total_loss_train=1.45e+3, kl_local_train=43.4]"
     ]
    },
    {
     "name": "stdout",
     "output_type": "stream",
     "text": [
      "\r",
      "Epoch 285/1000:  28%|██▊       | 285/1000 [41:05<1:36:52,  8.13s/it, v_num=ow_1, total_loss_train=1.45e+3, kl_local_train=43.4]"
     ]
    },
    {
     "name": "stdout",
     "output_type": "stream",
     "text": [
      "\r",
      "Epoch 286/1000:  28%|██▊       | 285/1000 [41:05<1:36:52,  8.13s/it, v_num=ow_1, total_loss_train=1.45e+3, kl_local_train=43.4]"
     ]
    },
    {
     "name": "stdout",
     "output_type": "stream",
     "text": [
      "\r",
      "Epoch 286/1000:  29%|██▊       | 286/1000 [41:14<1:38:40,  8.29s/it, v_num=ow_1, total_loss_train=1.45e+3, kl_local_train=43.4]"
     ]
    },
    {
     "name": "stdout",
     "output_type": "stream",
     "text": [
      "\r",
      "Epoch 286/1000:  29%|██▊       | 286/1000 [41:14<1:38:40,  8.29s/it, v_num=ow_1, total_loss_train=1.45e+3, kl_local_train=43.3]"
     ]
    },
    {
     "name": "stdout",
     "output_type": "stream",
     "text": [
      "\r",
      "Epoch 287/1000:  29%|██▊       | 286/1000 [41:14<1:38:40,  8.29s/it, v_num=ow_1, total_loss_train=1.45e+3, kl_local_train=43.3]"
     ]
    },
    {
     "name": "stdout",
     "output_type": "stream",
     "text": [
      "\r",
      "Epoch 287/1000:  29%|██▊       | 287/1000 [41:23<1:40:47,  8.48s/it, v_num=ow_1, total_loss_train=1.45e+3, kl_local_train=43.3]"
     ]
    },
    {
     "name": "stdout",
     "output_type": "stream",
     "text": [
      "\r",
      "Epoch 287/1000:  29%|██▊       | 287/1000 [41:23<1:40:47,  8.48s/it, v_num=ow_1, total_loss_train=1.45e+3, kl_local_train=43.5]"
     ]
    },
    {
     "name": "stdout",
     "output_type": "stream",
     "text": [
      "\r",
      "Epoch 288/1000:  29%|██▊       | 287/1000 [41:23<1:40:47,  8.48s/it, v_num=ow_1, total_loss_train=1.45e+3, kl_local_train=43.5]"
     ]
    },
    {
     "name": "stdout",
     "output_type": "stream",
     "text": [
      "\r",
      "Epoch 288/1000:  29%|██▉       | 288/1000 [41:31<1:38:14,  8.28s/it, v_num=ow_1, total_loss_train=1.45e+3, kl_local_train=43.5]"
     ]
    },
    {
     "name": "stdout",
     "output_type": "stream",
     "text": [
      "\r",
      "Epoch 288/1000:  29%|██▉       | 288/1000 [41:31<1:38:14,  8.28s/it, v_num=ow_1, total_loss_train=1.45e+3, kl_local_train=43.3]"
     ]
    },
    {
     "name": "stdout",
     "output_type": "stream",
     "text": [
      "\r",
      "Epoch 289/1000:  29%|██▉       | 288/1000 [41:31<1:38:14,  8.28s/it, v_num=ow_1, total_loss_train=1.45e+3, kl_local_train=43.3]"
     ]
    },
    {
     "name": "stdout",
     "output_type": "stream",
     "text": [
      "\r",
      "Epoch 289/1000:  29%|██▉       | 289/1000 [41:39<1:37:35,  8.24s/it, v_num=ow_1, total_loss_train=1.45e+3, kl_local_train=43.3]"
     ]
    },
    {
     "name": "stdout",
     "output_type": "stream",
     "text": [
      "\r",
      "Epoch 289/1000:  29%|██▉       | 289/1000 [41:39<1:37:35,  8.24s/it, v_num=ow_1, total_loss_train=1.45e+3, kl_local_train=43.3]"
     ]
    },
    {
     "name": "stdout",
     "output_type": "stream",
     "text": [
      "\r",
      "Epoch 290/1000:  29%|██▉       | 289/1000 [41:39<1:37:35,  8.24s/it, v_num=ow_1, total_loss_train=1.45e+3, kl_local_train=43.3]"
     ]
    },
    {
     "name": "stdout",
     "output_type": "stream",
     "text": [
      "\r",
      "Epoch 290/1000:  29%|██▉       | 290/1000 [41:47<1:35:42,  8.09s/it, v_num=ow_1, total_loss_train=1.45e+3, kl_local_train=43.3]"
     ]
    },
    {
     "name": "stdout",
     "output_type": "stream",
     "text": [
      "\r",
      "Epoch 290/1000:  29%|██▉       | 290/1000 [41:47<1:35:42,  8.09s/it, v_num=ow_1, total_loss_train=1.45e+3, kl_local_train=43.3]"
     ]
    },
    {
     "name": "stdout",
     "output_type": "stream",
     "text": [
      "\r",
      "Epoch 291/1000:  29%|██▉       | 290/1000 [41:47<1:35:42,  8.09s/it, v_num=ow_1, total_loss_train=1.45e+3, kl_local_train=43.3]"
     ]
    },
    {
     "name": "stdout",
     "output_type": "stream",
     "text": [
      "\r",
      "Epoch 291/1000:  29%|██▉       | 291/1000 [41:55<1:34:44,  8.02s/it, v_num=ow_1, total_loss_train=1.45e+3, kl_local_train=43.3]"
     ]
    },
    {
     "name": "stdout",
     "output_type": "stream",
     "text": [
      "\r",
      "Epoch 291/1000:  29%|██▉       | 291/1000 [41:55<1:34:44,  8.02s/it, v_num=ow_1, total_loss_train=1.45e+3, kl_local_train=43.1]"
     ]
    },
    {
     "name": "stdout",
     "output_type": "stream",
     "text": [
      "\r",
      "Epoch 292/1000:  29%|██▉       | 291/1000 [41:55<1:34:44,  8.02s/it, v_num=ow_1, total_loss_train=1.45e+3, kl_local_train=43.1]"
     ]
    },
    {
     "name": "stdout",
     "output_type": "stream",
     "text": [
      "\r",
      "Epoch 292/1000:  29%|██▉       | 292/1000 [42:03<1:35:33,  8.10s/it, v_num=ow_1, total_loss_train=1.45e+3, kl_local_train=43.1]"
     ]
    },
    {
     "name": "stdout",
     "output_type": "stream",
     "text": [
      "\r",
      "Epoch 292/1000:  29%|██▉       | 292/1000 [42:03<1:35:33,  8.10s/it, v_num=ow_1, total_loss_train=1.45e+3, kl_local_train=43.1]"
     ]
    },
    {
     "name": "stdout",
     "output_type": "stream",
     "text": [
      "\r",
      "Epoch 293/1000:  29%|██▉       | 292/1000 [42:03<1:35:33,  8.10s/it, v_num=ow_1, total_loss_train=1.45e+3, kl_local_train=43.1]"
     ]
    },
    {
     "name": "stdout",
     "output_type": "stream",
     "text": [
      "\r",
      "Epoch 293/1000:  29%|██▉       | 293/1000 [42:10<1:33:20,  7.92s/it, v_num=ow_1, total_loss_train=1.45e+3, kl_local_train=43.1]"
     ]
    },
    {
     "name": "stdout",
     "output_type": "stream",
     "text": [
      "\r",
      "Epoch 293/1000:  29%|██▉       | 293/1000 [42:10<1:33:20,  7.92s/it, v_num=ow_1, total_loss_train=1.45e+3, kl_local_train=43.2]"
     ]
    },
    {
     "name": "stdout",
     "output_type": "stream",
     "text": [
      "\r",
      "Epoch 294/1000:  29%|██▉       | 293/1000 [42:10<1:33:20,  7.92s/it, v_num=ow_1, total_loss_train=1.45e+3, kl_local_train=43.2]"
     ]
    },
    {
     "name": "stdout",
     "output_type": "stream",
     "text": [
      "\r",
      "Epoch 294/1000:  29%|██▉       | 294/1000 [42:18<1:33:49,  7.97s/it, v_num=ow_1, total_loss_train=1.45e+3, kl_local_train=43.2]"
     ]
    },
    {
     "name": "stdout",
     "output_type": "stream",
     "text": [
      "\r",
      "Epoch 294/1000:  29%|██▉       | 294/1000 [42:18<1:33:49,  7.97s/it, v_num=ow_1, total_loss_train=1.45e+3, kl_local_train=42.8]"
     ]
    },
    {
     "name": "stdout",
     "output_type": "stream",
     "text": [
      "\r",
      "Epoch 295/1000:  29%|██▉       | 294/1000 [42:18<1:33:49,  7.97s/it, v_num=ow_1, total_loss_train=1.45e+3, kl_local_train=42.8]"
     ]
    },
    {
     "name": "stdout",
     "output_type": "stream",
     "text": [
      "\r",
      "Epoch 295/1000:  30%|██▉       | 295/1000 [42:27<1:35:34,  8.13s/it, v_num=ow_1, total_loss_train=1.45e+3, kl_local_train=42.8]"
     ]
    },
    {
     "name": "stdout",
     "output_type": "stream",
     "text": [
      "\r",
      "Epoch 295/1000:  30%|██▉       | 295/1000 [42:27<1:35:34,  8.13s/it, v_num=ow_1, total_loss_train=1.45e+3, kl_local_train=42.6]"
     ]
    },
    {
     "name": "stdout",
     "output_type": "stream",
     "text": [
      "\r",
      "Epoch 296/1000:  30%|██▉       | 295/1000 [42:27<1:35:34,  8.13s/it, v_num=ow_1, total_loss_train=1.45e+3, kl_local_train=42.6]"
     ]
    },
    {
     "name": "stdout",
     "output_type": "stream",
     "text": [
      "\r",
      "Epoch 296/1000:  30%|██▉       | 296/1000 [42:35<1:33:26,  7.96s/it, v_num=ow_1, total_loss_train=1.45e+3, kl_local_train=42.6]"
     ]
    },
    {
     "name": "stdout",
     "output_type": "stream",
     "text": [
      "\r",
      "Epoch 296/1000:  30%|██▉       | 296/1000 [42:35<1:33:26,  7.96s/it, v_num=ow_1, total_loss_train=1.45e+3, kl_local_train=42.9]"
     ]
    },
    {
     "name": "stdout",
     "output_type": "stream",
     "text": [
      "\r",
      "Epoch 297/1000:  30%|██▉       | 296/1000 [42:35<1:33:26,  7.96s/it, v_num=ow_1, total_loss_train=1.45e+3, kl_local_train=42.9]"
     ]
    },
    {
     "name": "stdout",
     "output_type": "stream",
     "text": [
      "\r",
      "Epoch 297/1000:  30%|██▉       | 297/1000 [42:45<1:41:04,  8.63s/it, v_num=ow_1, total_loss_train=1.45e+3, kl_local_train=42.9]"
     ]
    },
    {
     "name": "stdout",
     "output_type": "stream",
     "text": [
      "\r",
      "Epoch 297/1000:  30%|██▉       | 297/1000 [42:45<1:41:04,  8.63s/it, v_num=ow_1, total_loss_train=1.45e+3, kl_local_train=42.7]"
     ]
    },
    {
     "name": "stdout",
     "output_type": "stream",
     "text": [
      "\r",
      "Epoch 298/1000:  30%|██▉       | 297/1000 [42:45<1:41:04,  8.63s/it, v_num=ow_1, total_loss_train=1.45e+3, kl_local_train=42.7]"
     ]
    },
    {
     "name": "stdout",
     "output_type": "stream",
     "text": [
      "\r",
      "Epoch 298/1000:  30%|██▉       | 298/1000 [42:53<1:40:21,  8.58s/it, v_num=ow_1, total_loss_train=1.45e+3, kl_local_train=42.7]"
     ]
    },
    {
     "name": "stdout",
     "output_type": "stream",
     "text": [
      "\r",
      "Epoch 298/1000:  30%|██▉       | 298/1000 [42:53<1:40:21,  8.58s/it, v_num=ow_1, total_loss_train=1.45e+3, kl_local_train=42.8]"
     ]
    },
    {
     "name": "stdout",
     "output_type": "stream",
     "text": [
      "\r",
      "Epoch 299/1000:  30%|██▉       | 298/1000 [42:53<1:40:21,  8.58s/it, v_num=ow_1, total_loss_train=1.45e+3, kl_local_train=42.8]"
     ]
    },
    {
     "name": "stdout",
     "output_type": "stream",
     "text": [
      "\r",
      "Epoch 299/1000:  30%|██▉       | 299/1000 [43:02<1:39:30,  8.52s/it, v_num=ow_1, total_loss_train=1.45e+3, kl_local_train=42.8]"
     ]
    },
    {
     "name": "stdout",
     "output_type": "stream",
     "text": [
      "\r",
      "Epoch 299/1000:  30%|██▉       | 299/1000 [43:02<1:39:30,  8.52s/it, v_num=ow_1, total_loss_train=1.45e+3, kl_local_train=42.5]"
     ]
    },
    {
     "name": "stdout",
     "output_type": "stream",
     "text": [
      "\r",
      "Epoch 300/1000:  30%|██▉       | 299/1000 [43:02<1:39:30,  8.52s/it, v_num=ow_1, total_loss_train=1.45e+3, kl_local_train=42.5]"
     ]
    },
    {
     "name": "stdout",
     "output_type": "stream",
     "text": [
      "\r",
      "Epoch 300/1000:  30%|███       | 300/1000 [43:10<1:38:02,  8.40s/it, v_num=ow_1, total_loss_train=1.45e+3, kl_local_train=42.5]"
     ]
    },
    {
     "name": "stdout",
     "output_type": "stream",
     "text": [
      "\r",
      "Epoch 300/1000:  30%|███       | 300/1000 [43:10<1:38:02,  8.40s/it, v_num=ow_1, total_loss_train=1.45e+3, kl_local_train=42.5]"
     ]
    },
    {
     "name": "stdout",
     "output_type": "stream",
     "text": [
      "\r",
      "Epoch 301/1000:  30%|███       | 300/1000 [43:10<1:38:02,  8.40s/it, v_num=ow_1, total_loss_train=1.45e+3, kl_local_train=42.5]"
     ]
    },
    {
     "name": "stdout",
     "output_type": "stream",
     "text": [
      "\r",
      "Epoch 301/1000:  30%|███       | 301/1000 [43:18<1:38:18,  8.44s/it, v_num=ow_1, total_loss_train=1.45e+3, kl_local_train=42.5]"
     ]
    },
    {
     "name": "stdout",
     "output_type": "stream",
     "text": [
      "\r",
      "Epoch 301/1000:  30%|███       | 301/1000 [43:18<1:38:18,  8.44s/it, v_num=ow_1, total_loss_train=1.45e+3, kl_local_train=42.6]"
     ]
    },
    {
     "name": "stdout",
     "output_type": "stream",
     "text": [
      "\r",
      "Epoch 302/1000:  30%|███       | 301/1000 [43:18<1:38:18,  8.44s/it, v_num=ow_1, total_loss_train=1.45e+3, kl_local_train=42.6]"
     ]
    },
    {
     "name": "stdout",
     "output_type": "stream",
     "text": [
      "\r",
      "Epoch 302/1000:  30%|███       | 302/1000 [43:26<1:37:02,  8.34s/it, v_num=ow_1, total_loss_train=1.45e+3, kl_local_train=42.6]"
     ]
    },
    {
     "name": "stdout",
     "output_type": "stream",
     "text": [
      "\r",
      "Epoch 302/1000:  30%|███       | 302/1000 [43:26<1:37:02,  8.34s/it, v_num=ow_1, total_loss_train=1.45e+3, kl_local_train=42.6]"
     ]
    },
    {
     "name": "stdout",
     "output_type": "stream",
     "text": [
      "\r",
      "Epoch 303/1000:  30%|███       | 302/1000 [43:26<1:37:02,  8.34s/it, v_num=ow_1, total_loss_train=1.45e+3, kl_local_train=42.6]"
     ]
    },
    {
     "name": "stdout",
     "output_type": "stream",
     "text": [
      "\r",
      "Epoch 303/1000:  30%|███       | 303/1000 [43:36<1:41:50,  8.77s/it, v_num=ow_1, total_loss_train=1.45e+3, kl_local_train=42.6]"
     ]
    },
    {
     "name": "stdout",
     "output_type": "stream",
     "text": [
      "\r",
      "Epoch 303/1000:  30%|███       | 303/1000 [43:36<1:41:50,  8.77s/it, v_num=ow_1, total_loss_train=1.45e+3, kl_local_train=42]  "
     ]
    },
    {
     "name": "stdout",
     "output_type": "stream",
     "text": [
      "\r",
      "Epoch 304/1000:  30%|███       | 303/1000 [43:36<1:41:50,  8.77s/it, v_num=ow_1, total_loss_train=1.45e+3, kl_local_train=42]"
     ]
    },
    {
     "name": "stdout",
     "output_type": "stream",
     "text": [
      "\r",
      "Epoch 304/1000:  30%|███       | 304/1000 [43:45<1:40:58,  8.71s/it, v_num=ow_1, total_loss_train=1.45e+3, kl_local_train=42]"
     ]
    },
    {
     "name": "stdout",
     "output_type": "stream",
     "text": [
      "\r",
      "Epoch 304/1000:  30%|███       | 304/1000 [43:45<1:40:58,  8.71s/it, v_num=ow_1, total_loss_train=1.45e+3, kl_local_train=42.2]"
     ]
    },
    {
     "name": "stdout",
     "output_type": "stream",
     "text": [
      "\r",
      "Epoch 305/1000:  30%|███       | 304/1000 [43:45<1:40:58,  8.71s/it, v_num=ow_1, total_loss_train=1.45e+3, kl_local_train=42.2]"
     ]
    },
    {
     "name": "stdout",
     "output_type": "stream",
     "text": [
      "\r",
      "Epoch 305/1000:  30%|███       | 305/1000 [43:53<1:40:40,  8.69s/it, v_num=ow_1, total_loss_train=1.45e+3, kl_local_train=42.2]"
     ]
    },
    {
     "name": "stdout",
     "output_type": "stream",
     "text": [
      "\r",
      "Epoch 305/1000:  30%|███       | 305/1000 [43:53<1:40:40,  8.69s/it, v_num=ow_1, total_loss_train=1.45e+3, kl_local_train=42.2]"
     ]
    },
    {
     "name": "stdout",
     "output_type": "stream",
     "text": [
      "\r",
      "Epoch 306/1000:  30%|███       | 305/1000 [43:53<1:40:40,  8.69s/it, v_num=ow_1, total_loss_train=1.45e+3, kl_local_train=42.2]"
     ]
    },
    {
     "name": "stdout",
     "output_type": "stream",
     "text": [
      "\r",
      "Epoch 306/1000:  31%|███       | 306/1000 [44:01<1:37:49,  8.46s/it, v_num=ow_1, total_loss_train=1.45e+3, kl_local_train=42.2]"
     ]
    },
    {
     "name": "stdout",
     "output_type": "stream",
     "text": [
      "\r",
      "Epoch 306/1000:  31%|███       | 306/1000 [44:01<1:37:49,  8.46s/it, v_num=ow_1, total_loss_train=1.45e+3, kl_local_train=42.1]"
     ]
    },
    {
     "name": "stdout",
     "output_type": "stream",
     "text": [
      "\r",
      "Epoch 307/1000:  31%|███       | 306/1000 [44:01<1:37:49,  8.46s/it, v_num=ow_1, total_loss_train=1.45e+3, kl_local_train=42.1]"
     ]
    },
    {
     "name": "stdout",
     "output_type": "stream",
     "text": [
      "\r",
      "Epoch 307/1000:  31%|███       | 307/1000 [44:09<1:33:52,  8.13s/it, v_num=ow_1, total_loss_train=1.45e+3, kl_local_train=42.1]"
     ]
    },
    {
     "name": "stdout",
     "output_type": "stream",
     "text": [
      "\r",
      "Epoch 307/1000:  31%|███       | 307/1000 [44:09<1:33:52,  8.13s/it, v_num=ow_1, total_loss_train=1.45e+3, kl_local_train=42.1]"
     ]
    },
    {
     "name": "stdout",
     "output_type": "stream",
     "text": [
      "\r",
      "Epoch 308/1000:  31%|███       | 307/1000 [44:09<1:33:52,  8.13s/it, v_num=ow_1, total_loss_train=1.45e+3, kl_local_train=42.1]"
     ]
    },
    {
     "name": "stdout",
     "output_type": "stream",
     "text": [
      "\r",
      "Epoch 308/1000:  31%|███       | 308/1000 [44:17<1:35:31,  8.28s/it, v_num=ow_1, total_loss_train=1.45e+3, kl_local_train=42.1]"
     ]
    },
    {
     "name": "stdout",
     "output_type": "stream",
     "text": [
      "\r",
      "Epoch 308/1000:  31%|███       | 308/1000 [44:17<1:35:31,  8.28s/it, v_num=ow_1, total_loss_train=1.45e+3, kl_local_train=42.1]"
     ]
    },
    {
     "name": "stdout",
     "output_type": "stream",
     "text": [
      "\r",
      "Epoch 309/1000:  31%|███       | 308/1000 [44:17<1:35:31,  8.28s/it, v_num=ow_1, total_loss_train=1.45e+3, kl_local_train=42.1]"
     ]
    },
    {
     "name": "stdout",
     "output_type": "stream",
     "text": [
      "\r",
      "Epoch 309/1000:  31%|███       | 309/1000 [44:25<1:33:19,  8.10s/it, v_num=ow_1, total_loss_train=1.45e+3, kl_local_train=42.1]"
     ]
    },
    {
     "name": "stdout",
     "output_type": "stream",
     "text": [
      "\r",
      "Epoch 309/1000:  31%|███       | 309/1000 [44:25<1:33:19,  8.10s/it, v_num=ow_1, total_loss_train=1.45e+3, kl_local_train=41.9]"
     ]
    },
    {
     "name": "stdout",
     "output_type": "stream",
     "text": [
      "\r",
      "Epoch 310/1000:  31%|███       | 309/1000 [44:25<1:33:19,  8.10s/it, v_num=ow_1, total_loss_train=1.45e+3, kl_local_train=41.9]"
     ]
    },
    {
     "name": "stdout",
     "output_type": "stream",
     "text": [
      "\r",
      "Epoch 310/1000:  31%|███       | 310/1000 [44:33<1:33:20,  8.12s/it, v_num=ow_1, total_loss_train=1.45e+3, kl_local_train=41.9]"
     ]
    },
    {
     "name": "stdout",
     "output_type": "stream",
     "text": [
      "\r",
      "Epoch 310/1000:  31%|███       | 310/1000 [44:33<1:33:20,  8.12s/it, v_num=ow_1, total_loss_train=1.45e+3, kl_local_train=41.8]"
     ]
    },
    {
     "name": "stdout",
     "output_type": "stream",
     "text": [
      "\r",
      "Epoch 311/1000:  31%|███       | 310/1000 [44:33<1:33:20,  8.12s/it, v_num=ow_1, total_loss_train=1.45e+3, kl_local_train=41.8]"
     ]
    },
    {
     "name": "stdout",
     "output_type": "stream",
     "text": [
      "\r",
      "Epoch 311/1000:  31%|███       | 311/1000 [44:41<1:33:48,  8.17s/it, v_num=ow_1, total_loss_train=1.45e+3, kl_local_train=41.8]"
     ]
    },
    {
     "name": "stdout",
     "output_type": "stream",
     "text": [
      "\r",
      "Epoch 311/1000:  31%|███       | 311/1000 [44:41<1:33:48,  8.17s/it, v_num=ow_1, total_loss_train=1.45e+3, kl_local_train=41.8]"
     ]
    },
    {
     "name": "stdout",
     "output_type": "stream",
     "text": [
      "\r",
      "Epoch 312/1000:  31%|███       | 311/1000 [44:41<1:33:48,  8.17s/it, v_num=ow_1, total_loss_train=1.45e+3, kl_local_train=41.8]"
     ]
    },
    {
     "name": "stdout",
     "output_type": "stream",
     "text": [
      "\r",
      "Epoch 312/1000:  31%|███       | 312/1000 [44:50<1:35:34,  8.33s/it, v_num=ow_1, total_loss_train=1.45e+3, kl_local_train=41.8]"
     ]
    },
    {
     "name": "stdout",
     "output_type": "stream",
     "text": [
      "\r",
      "Epoch 312/1000:  31%|███       | 312/1000 [44:50<1:35:34,  8.33s/it, v_num=ow_1, total_loss_train=1.45e+3, kl_local_train=41.8]"
     ]
    },
    {
     "name": "stdout",
     "output_type": "stream",
     "text": [
      "\r",
      "Epoch 313/1000:  31%|███       | 312/1000 [44:50<1:35:34,  8.33s/it, v_num=ow_1, total_loss_train=1.45e+3, kl_local_train=41.8]"
     ]
    },
    {
     "name": "stdout",
     "output_type": "stream",
     "text": [
      "\r",
      "Epoch 313/1000:  31%|███▏      | 313/1000 [44:59<1:35:59,  8.38s/it, v_num=ow_1, total_loss_train=1.45e+3, kl_local_train=41.8]"
     ]
    },
    {
     "name": "stdout",
     "output_type": "stream",
     "text": [
      "\r",
      "Epoch 313/1000:  31%|███▏      | 313/1000 [44:59<1:35:59,  8.38s/it, v_num=ow_1, total_loss_train=1.45e+3, kl_local_train=41.6]"
     ]
    },
    {
     "name": "stdout",
     "output_type": "stream",
     "text": [
      "\r",
      "Epoch 314/1000:  31%|███▏      | 313/1000 [44:59<1:35:59,  8.38s/it, v_num=ow_1, total_loss_train=1.45e+3, kl_local_train=41.6]"
     ]
    },
    {
     "name": "stdout",
     "output_type": "stream",
     "text": [
      "\r",
      "Epoch 314/1000:  31%|███▏      | 314/1000 [45:06<1:34:16,  8.25s/it, v_num=ow_1, total_loss_train=1.45e+3, kl_local_train=41.6]"
     ]
    },
    {
     "name": "stdout",
     "output_type": "stream",
     "text": [
      "\r",
      "Epoch 314/1000:  31%|███▏      | 314/1000 [45:06<1:34:16,  8.25s/it, v_num=ow_1, total_loss_train=1.46e+3, kl_local_train=41.7]"
     ]
    },
    {
     "name": "stdout",
     "output_type": "stream",
     "text": [
      "\r",
      "Epoch 315/1000:  31%|███▏      | 314/1000 [45:06<1:34:16,  8.25s/it, v_num=ow_1, total_loss_train=1.46e+3, kl_local_train=41.7]"
     ]
    },
    {
     "name": "stdout",
     "output_type": "stream",
     "text": [
      "\r",
      "Epoch 315/1000:  32%|███▏      | 315/1000 [45:15<1:36:14,  8.43s/it, v_num=ow_1, total_loss_train=1.46e+3, kl_local_train=41.7]"
     ]
    },
    {
     "name": "stdout",
     "output_type": "stream",
     "text": [
      "\r",
      "Epoch 315/1000:  32%|███▏      | 315/1000 [45:15<1:36:14,  8.43s/it, v_num=ow_1, total_loss_train=1.45e+3, kl_local_train=41.5]"
     ]
    },
    {
     "name": "stdout",
     "output_type": "stream",
     "text": [
      "\r",
      "Epoch 316/1000:  32%|███▏      | 315/1000 [45:15<1:36:14,  8.43s/it, v_num=ow_1, total_loss_train=1.45e+3, kl_local_train=41.5]"
     ]
    },
    {
     "name": "stdout",
     "output_type": "stream",
     "text": [
      "\r",
      "Epoch 316/1000:  32%|███▏      | 316/1000 [45:23<1:32:30,  8.11s/it, v_num=ow_1, total_loss_train=1.45e+3, kl_local_train=41.5]"
     ]
    },
    {
     "name": "stdout",
     "output_type": "stream",
     "text": [
      "\r",
      "Epoch 316/1000:  32%|███▏      | 316/1000 [45:23<1:32:30,  8.11s/it, v_num=ow_1, total_loss_train=1.45e+3, kl_local_train=41.5]"
     ]
    },
    {
     "name": "stdout",
     "output_type": "stream",
     "text": [
      "\r",
      "Epoch 317/1000:  32%|███▏      | 316/1000 [45:23<1:32:30,  8.11s/it, v_num=ow_1, total_loss_train=1.45e+3, kl_local_train=41.5]"
     ]
    },
    {
     "name": "stdout",
     "output_type": "stream",
     "text": [
      "\r",
      "Epoch 317/1000:  32%|███▏      | 317/1000 [45:31<1:34:35,  8.31s/it, v_num=ow_1, total_loss_train=1.45e+3, kl_local_train=41.5]"
     ]
    },
    {
     "name": "stdout",
     "output_type": "stream",
     "text": [
      "\r",
      "Epoch 317/1000:  32%|███▏      | 317/1000 [45:31<1:34:35,  8.31s/it, v_num=ow_1, total_loss_train=1.45e+3, kl_local_train=41.4]"
     ]
    },
    {
     "name": "stdout",
     "output_type": "stream",
     "text": [
      "\r",
      "Epoch 318/1000:  32%|███▏      | 317/1000 [45:31<1:34:35,  8.31s/it, v_num=ow_1, total_loss_train=1.45e+3, kl_local_train=41.4]"
     ]
    },
    {
     "name": "stdout",
     "output_type": "stream",
     "text": [
      "\r",
      "Epoch 318/1000:  32%|███▏      | 318/1000 [45:41<1:37:12,  8.55s/it, v_num=ow_1, total_loss_train=1.45e+3, kl_local_train=41.4]"
     ]
    },
    {
     "name": "stdout",
     "output_type": "stream",
     "text": [
      "\r",
      "Epoch 318/1000:  32%|███▏      | 318/1000 [45:41<1:37:12,  8.55s/it, v_num=ow_1, total_loss_train=1.46e+3, kl_local_train=41.6]"
     ]
    },
    {
     "name": "stdout",
     "output_type": "stream",
     "text": [
      "\r",
      "Epoch 319/1000:  32%|███▏      | 318/1000 [45:41<1:37:12,  8.55s/it, v_num=ow_1, total_loss_train=1.46e+3, kl_local_train=41.6]"
     ]
    },
    {
     "name": "stdout",
     "output_type": "stream",
     "text": [
      "\r",
      "Epoch 319/1000:  32%|███▏      | 319/1000 [45:49<1:37:46,  8.61s/it, v_num=ow_1, total_loss_train=1.46e+3, kl_local_train=41.6]"
     ]
    },
    {
     "name": "stdout",
     "output_type": "stream",
     "text": [
      "\r",
      "Epoch 319/1000:  32%|███▏      | 319/1000 [45:49<1:37:46,  8.61s/it, v_num=ow_1, total_loss_train=1.46e+3, kl_local_train=41.4]"
     ]
    },
    {
     "name": "stdout",
     "output_type": "stream",
     "text": [
      "\r",
      "Epoch 320/1000:  32%|███▏      | 319/1000 [45:49<1:37:46,  8.61s/it, v_num=ow_1, total_loss_train=1.46e+3, kl_local_train=41.4]"
     ]
    },
    {
     "name": "stdout",
     "output_type": "stream",
     "text": [
      "\r",
      "Epoch 320/1000:  32%|███▏      | 320/1000 [45:58<1:36:08,  8.48s/it, v_num=ow_1, total_loss_train=1.46e+3, kl_local_train=41.4]"
     ]
    },
    {
     "name": "stdout",
     "output_type": "stream",
     "text": [
      "\r",
      "Epoch 320/1000:  32%|███▏      | 320/1000 [45:58<1:36:08,  8.48s/it, v_num=ow_1, total_loss_train=1.45e+3, kl_local_train=41.5]"
     ]
    },
    {
     "name": "stdout",
     "output_type": "stream",
     "text": [
      "\r",
      "Epoch 321/1000:  32%|███▏      | 320/1000 [45:58<1:36:08,  8.48s/it, v_num=ow_1, total_loss_train=1.45e+3, kl_local_train=41.5]"
     ]
    },
    {
     "name": "stdout",
     "output_type": "stream",
     "text": [
      "\r",
      "Epoch 321/1000:  32%|███▏      | 321/1000 [46:06<1:35:53,  8.47s/it, v_num=ow_1, total_loss_train=1.45e+3, kl_local_train=41.5]"
     ]
    },
    {
     "name": "stdout",
     "output_type": "stream",
     "text": [
      "\r",
      "Epoch 321/1000:  32%|███▏      | 321/1000 [46:06<1:35:53,  8.47s/it, v_num=ow_1, total_loss_train=1.45e+3, kl_local_train=41.2]"
     ]
    },
    {
     "name": "stdout",
     "output_type": "stream",
     "text": [
      "\r",
      "Epoch 322/1000:  32%|███▏      | 321/1000 [46:06<1:35:53,  8.47s/it, v_num=ow_1, total_loss_train=1.45e+3, kl_local_train=41.2]"
     ]
    },
    {
     "name": "stdout",
     "output_type": "stream",
     "text": [
      "\r",
      "Epoch 322/1000:  32%|███▏      | 322/1000 [46:15<1:37:18,  8.61s/it, v_num=ow_1, total_loss_train=1.45e+3, kl_local_train=41.2]"
     ]
    },
    {
     "name": "stdout",
     "output_type": "stream",
     "text": [
      "\r",
      "Epoch 322/1000:  32%|███▏      | 322/1000 [46:15<1:37:18,  8.61s/it, v_num=ow_1, total_loss_train=1.45e+3, kl_local_train=41.4]"
     ]
    },
    {
     "name": "stdout",
     "output_type": "stream",
     "text": [
      "\r",
      "Epoch 323/1000:  32%|███▏      | 322/1000 [46:15<1:37:18,  8.61s/it, v_num=ow_1, total_loss_train=1.45e+3, kl_local_train=41.4]"
     ]
    },
    {
     "name": "stdout",
     "output_type": "stream",
     "text": [
      "\r",
      "Epoch 323/1000:  32%|███▏      | 323/1000 [46:24<1:37:29,  8.64s/it, v_num=ow_1, total_loss_train=1.45e+3, kl_local_train=41.4]"
     ]
    },
    {
     "name": "stdout",
     "output_type": "stream",
     "text": [
      "\r",
      "Epoch 323/1000:  32%|███▏      | 323/1000 [46:24<1:37:29,  8.64s/it, v_num=ow_1, total_loss_train=1.46e+3, kl_local_train=41.5]"
     ]
    },
    {
     "name": "stdout",
     "output_type": "stream",
     "text": [
      "\r",
      "Epoch 324/1000:  32%|███▏      | 323/1000 [46:24<1:37:29,  8.64s/it, v_num=ow_1, total_loss_train=1.46e+3, kl_local_train=41.5]"
     ]
    },
    {
     "name": "stdout",
     "output_type": "stream",
     "text": [
      "\r",
      "Epoch 324/1000:  32%|███▏      | 324/1000 [46:32<1:36:45,  8.59s/it, v_num=ow_1, total_loss_train=1.46e+3, kl_local_train=41.5]"
     ]
    },
    {
     "name": "stdout",
     "output_type": "stream",
     "text": [
      "\r",
      "Epoch 324/1000:  32%|███▏      | 324/1000 [46:32<1:36:45,  8.59s/it, v_num=ow_1, total_loss_train=1.46e+3, kl_local_train=41]  "
     ]
    },
    {
     "name": "stdout",
     "output_type": "stream",
     "text": [
      "\r",
      "Epoch 325/1000:  32%|███▏      | 324/1000 [46:32<1:36:45,  8.59s/it, v_num=ow_1, total_loss_train=1.46e+3, kl_local_train=41]"
     ]
    },
    {
     "name": "stdout",
     "output_type": "stream",
     "text": [
      "\r",
      "Epoch 325/1000:  32%|███▎      | 325/1000 [46:40<1:35:15,  8.47s/it, v_num=ow_1, total_loss_train=1.46e+3, kl_local_train=41]"
     ]
    },
    {
     "name": "stdout",
     "output_type": "stream",
     "text": [
      "\r",
      "Epoch 325/1000:  32%|███▎      | 325/1000 [46:40<1:35:15,  8.47s/it, v_num=ow_1, total_loss_train=1.45e+3, kl_local_train=41]"
     ]
    },
    {
     "name": "stdout",
     "output_type": "stream",
     "text": [
      "\r",
      "Epoch 326/1000:  32%|███▎      | 325/1000 [46:40<1:35:15,  8.47s/it, v_num=ow_1, total_loss_train=1.45e+3, kl_local_train=41]"
     ]
    },
    {
     "name": "stdout",
     "output_type": "stream",
     "text": [
      "\r",
      "Epoch 326/1000:  33%|███▎      | 326/1000 [46:49<1:34:23,  8.40s/it, v_num=ow_1, total_loss_train=1.45e+3, kl_local_train=41]"
     ]
    },
    {
     "name": "stdout",
     "output_type": "stream",
     "text": [
      "\r",
      "Epoch 326/1000:  33%|███▎      | 326/1000 [46:49<1:34:23,  8.40s/it, v_num=ow_1, total_loss_train=1.46e+3, kl_local_train=41]"
     ]
    },
    {
     "name": "stdout",
     "output_type": "stream",
     "text": [
      "\r",
      "Epoch 327/1000:  33%|███▎      | 326/1000 [46:49<1:34:23,  8.40s/it, v_num=ow_1, total_loss_train=1.46e+3, kl_local_train=41]"
     ]
    },
    {
     "name": "stdout",
     "output_type": "stream",
     "text": [
      "\r",
      "Epoch 327/1000:  33%|███▎      | 327/1000 [46:56<1:31:21,  8.14s/it, v_num=ow_1, total_loss_train=1.46e+3, kl_local_train=41]"
     ]
    },
    {
     "name": "stdout",
     "output_type": "stream",
     "text": [
      "\r",
      "Epoch 327/1000:  33%|███▎      | 327/1000 [46:56<1:31:21,  8.14s/it, v_num=ow_1, total_loss_train=1.46e+3, kl_local_train=40.8]"
     ]
    },
    {
     "name": "stdout",
     "output_type": "stream",
     "text": [
      "\r",
      "Epoch 328/1000:  33%|███▎      | 327/1000 [46:56<1:31:21,  8.14s/it, v_num=ow_1, total_loss_train=1.46e+3, kl_local_train=40.8]"
     ]
    },
    {
     "name": "stdout",
     "output_type": "stream",
     "text": [
      "\r",
      "Epoch 328/1000:  33%|███▎      | 328/1000 [47:05<1:32:41,  8.28s/it, v_num=ow_1, total_loss_train=1.46e+3, kl_local_train=40.8]"
     ]
    },
    {
     "name": "stdout",
     "output_type": "stream",
     "text": [
      "\r",
      "Epoch 328/1000:  33%|███▎      | 328/1000 [47:05<1:32:41,  8.28s/it, v_num=ow_1, total_loss_train=1.46e+3, kl_local_train=41]  "
     ]
    },
    {
     "name": "stdout",
     "output_type": "stream",
     "text": [
      "\r",
      "Epoch 329/1000:  33%|███▎      | 328/1000 [47:05<1:32:41,  8.28s/it, v_num=ow_1, total_loss_train=1.46e+3, kl_local_train=41]"
     ]
    },
    {
     "name": "stdout",
     "output_type": "stream",
     "text": [
      "\r",
      "Epoch 329/1000:  33%|███▎      | 329/1000 [47:13<1:33:52,  8.39s/it, v_num=ow_1, total_loss_train=1.46e+3, kl_local_train=41]"
     ]
    },
    {
     "name": "stdout",
     "output_type": "stream",
     "text": [
      "\r",
      "Epoch 329/1000:  33%|███▎      | 329/1000 [47:13<1:33:52,  8.39s/it, v_num=ow_1, total_loss_train=1.46e+3, kl_local_train=40.8]"
     ]
    },
    {
     "name": "stdout",
     "output_type": "stream",
     "text": [
      "\r",
      "Epoch 330/1000:  33%|███▎      | 329/1000 [47:13<1:33:52,  8.39s/it, v_num=ow_1, total_loss_train=1.46e+3, kl_local_train=40.8]"
     ]
    },
    {
     "name": "stdout",
     "output_type": "stream",
     "text": [
      "\r",
      "Epoch 330/1000:  33%|███▎      | 330/1000 [47:21<1:33:00,  8.33s/it, v_num=ow_1, total_loss_train=1.46e+3, kl_local_train=40.8]"
     ]
    },
    {
     "name": "stdout",
     "output_type": "stream",
     "text": [
      "\r",
      "Epoch 330/1000:  33%|███▎      | 330/1000 [47:21<1:33:00,  8.33s/it, v_num=ow_1, total_loss_train=1.46e+3, kl_local_train=41]  "
     ]
    },
    {
     "name": "stdout",
     "output_type": "stream",
     "text": [
      "\r",
      "Epoch 331/1000:  33%|███▎      | 330/1000 [47:21<1:33:00,  8.33s/it, v_num=ow_1, total_loss_train=1.46e+3, kl_local_train=41]"
     ]
    },
    {
     "name": "stdout",
     "output_type": "stream",
     "text": [
      "\r",
      "Epoch 331/1000:  33%|███▎      | 331/1000 [47:31<1:35:24,  8.56s/it, v_num=ow_1, total_loss_train=1.46e+3, kl_local_train=41]"
     ]
    },
    {
     "name": "stdout",
     "output_type": "stream",
     "text": [
      "\r",
      "Epoch 331/1000:  33%|███▎      | 331/1000 [47:31<1:35:24,  8.56s/it, v_num=ow_1, total_loss_train=1.46e+3, kl_local_train=40.7]"
     ]
    },
    {
     "name": "stdout",
     "output_type": "stream",
     "text": [
      "\r",
      "Epoch 332/1000:  33%|███▎      | 331/1000 [47:31<1:35:24,  8.56s/it, v_num=ow_1, total_loss_train=1.46e+3, kl_local_train=40.7]"
     ]
    },
    {
     "name": "stdout",
     "output_type": "stream",
     "text": [
      "\r",
      "Epoch 332/1000:  33%|███▎      | 332/1000 [47:39<1:34:11,  8.46s/it, v_num=ow_1, total_loss_train=1.46e+3, kl_local_train=40.7]"
     ]
    },
    {
     "name": "stdout",
     "output_type": "stream",
     "text": [
      "\r",
      "Epoch 332/1000:  33%|███▎      | 332/1000 [47:39<1:34:11,  8.46s/it, v_num=ow_1, total_loss_train=1.46e+3, kl_local_train=40.6]"
     ]
    },
    {
     "name": "stdout",
     "output_type": "stream",
     "text": [
      "\r",
      "Epoch 333/1000:  33%|███▎      | 332/1000 [47:39<1:34:11,  8.46s/it, v_num=ow_1, total_loss_train=1.46e+3, kl_local_train=40.6]"
     ]
    },
    {
     "name": "stdout",
     "output_type": "stream",
     "text": [
      "\r",
      "Epoch 333/1000:  33%|███▎      | 333/1000 [47:48<1:34:52,  8.53s/it, v_num=ow_1, total_loss_train=1.46e+3, kl_local_train=40.6]"
     ]
    },
    {
     "name": "stdout",
     "output_type": "stream",
     "text": [
      "\r",
      "Epoch 333/1000:  33%|███▎      | 333/1000 [47:48<1:34:52,  8.53s/it, v_num=ow_1, total_loss_train=1.46e+3, kl_local_train=40.5]"
     ]
    },
    {
     "name": "stdout",
     "output_type": "stream",
     "text": [
      "\r",
      "Epoch 334/1000:  33%|███▎      | 333/1000 [47:48<1:34:52,  8.53s/it, v_num=ow_1, total_loss_train=1.46e+3, kl_local_train=40.5]"
     ]
    },
    {
     "name": "stdout",
     "output_type": "stream",
     "text": [
      "\r",
      "Epoch 334/1000:  33%|███▎      | 334/1000 [47:56<1:33:19,  8.41s/it, v_num=ow_1, total_loss_train=1.46e+3, kl_local_train=40.5]"
     ]
    },
    {
     "name": "stdout",
     "output_type": "stream",
     "text": [
      "\r",
      "Epoch 334/1000:  33%|███▎      | 334/1000 [47:56<1:33:19,  8.41s/it, v_num=ow_1, total_loss_train=1.46e+3, kl_local_train=40.4]"
     ]
    },
    {
     "name": "stdout",
     "output_type": "stream",
     "text": [
      "\r",
      "Epoch 335/1000:  33%|███▎      | 334/1000 [47:56<1:33:19,  8.41s/it, v_num=ow_1, total_loss_train=1.46e+3, kl_local_train=40.4]"
     ]
    },
    {
     "name": "stdout",
     "output_type": "stream",
     "text": [
      "\r",
      "Epoch 335/1000:  34%|███▎      | 335/1000 [48:04<1:34:11,  8.50s/it, v_num=ow_1, total_loss_train=1.46e+3, kl_local_train=40.4]"
     ]
    },
    {
     "name": "stdout",
     "output_type": "stream",
     "text": [
      "\r",
      "Epoch 335/1000:  34%|███▎      | 335/1000 [48:04<1:34:11,  8.50s/it, v_num=ow_1, total_loss_train=1.46e+3, kl_local_train=40.5]"
     ]
    },
    {
     "name": "stdout",
     "output_type": "stream",
     "text": [
      "\r",
      "Epoch 336/1000:  34%|███▎      | 335/1000 [48:04<1:34:11,  8.50s/it, v_num=ow_1, total_loss_train=1.46e+3, kl_local_train=40.5]"
     ]
    },
    {
     "name": "stdout",
     "output_type": "stream",
     "text": [
      "\r",
      "Epoch 336/1000:  34%|███▎      | 336/1000 [48:13<1:33:53,  8.48s/it, v_num=ow_1, total_loss_train=1.46e+3, kl_local_train=40.5]"
     ]
    },
    {
     "name": "stdout",
     "output_type": "stream",
     "text": [
      "\r",
      "Epoch 336/1000:  34%|███▎      | 336/1000 [48:13<1:33:53,  8.48s/it, v_num=ow_1, total_loss_train=1.46e+3, kl_local_train=40.5]"
     ]
    },
    {
     "name": "stdout",
     "output_type": "stream",
     "text": [
      "\r",
      "Epoch 337/1000:  34%|███▎      | 336/1000 [48:13<1:33:53,  8.48s/it, v_num=ow_1, total_loss_train=1.46e+3, kl_local_train=40.5]"
     ]
    },
    {
     "name": "stdout",
     "output_type": "stream",
     "text": [
      "\r",
      "Epoch 337/1000:  34%|███▎      | 337/1000 [48:21<1:32:42,  8.39s/it, v_num=ow_1, total_loss_train=1.46e+3, kl_local_train=40.5]"
     ]
    },
    {
     "name": "stdout",
     "output_type": "stream",
     "text": [
      "\r",
      "Epoch 337/1000:  34%|███▎      | 337/1000 [48:21<1:32:42,  8.39s/it, v_num=ow_1, total_loss_train=1.46e+3, kl_local_train=40.3]"
     ]
    },
    {
     "name": "stdout",
     "output_type": "stream",
     "text": [
      "\r",
      "Epoch 338/1000:  34%|███▎      | 337/1000 [48:21<1:32:42,  8.39s/it, v_num=ow_1, total_loss_train=1.46e+3, kl_local_train=40.3]"
     ]
    },
    {
     "name": "stdout",
     "output_type": "stream",
     "text": [
      "\r",
      "Epoch 338/1000:  34%|███▍      | 338/1000 [48:28<1:29:41,  8.13s/it, v_num=ow_1, total_loss_train=1.46e+3, kl_local_train=40.3]"
     ]
    },
    {
     "name": "stdout",
     "output_type": "stream",
     "text": [
      "\r",
      "Epoch 338/1000:  34%|███▍      | 338/1000 [48:28<1:29:41,  8.13s/it, v_num=ow_1, total_loss_train=1.46e+3, kl_local_train=40.2]"
     ]
    },
    {
     "name": "stdout",
     "output_type": "stream",
     "text": [
      "\r",
      "Epoch 339/1000:  34%|███▍      | 338/1000 [48:28<1:29:41,  8.13s/it, v_num=ow_1, total_loss_train=1.46e+3, kl_local_train=40.2]"
     ]
    },
    {
     "name": "stdout",
     "output_type": "stream",
     "text": [
      "\r",
      "Epoch 339/1000:  34%|███▍      | 339/1000 [48:37<1:30:15,  8.19s/it, v_num=ow_1, total_loss_train=1.46e+3, kl_local_train=40.2]"
     ]
    },
    {
     "name": "stdout",
     "output_type": "stream",
     "text": [
      "\r",
      "Epoch 339/1000:  34%|███▍      | 339/1000 [48:37<1:30:15,  8.19s/it, v_num=ow_1, total_loss_train=1.46e+3, kl_local_train=40.1]"
     ]
    },
    {
     "name": "stdout",
     "output_type": "stream",
     "text": [
      "\r",
      "Epoch 340/1000:  34%|███▍      | 339/1000 [48:37<1:30:15,  8.19s/it, v_num=ow_1, total_loss_train=1.46e+3, kl_local_train=40.1]"
     ]
    },
    {
     "name": "stdout",
     "output_type": "stream",
     "text": [
      "\r",
      "Epoch 340/1000:  34%|███▍      | 340/1000 [48:46<1:31:48,  8.35s/it, v_num=ow_1, total_loss_train=1.46e+3, kl_local_train=40.1]"
     ]
    },
    {
     "name": "stdout",
     "output_type": "stream",
     "text": [
      "\r",
      "Epoch 340/1000:  34%|███▍      | 340/1000 [48:46<1:31:48,  8.35s/it, v_num=ow_1, total_loss_train=1.46e+3, kl_local_train=40.3]"
     ]
    },
    {
     "name": "stdout",
     "output_type": "stream",
     "text": [
      "\r",
      "Epoch 341/1000:  34%|███▍      | 340/1000 [48:46<1:31:48,  8.35s/it, v_num=ow_1, total_loss_train=1.46e+3, kl_local_train=40.3]"
     ]
    },
    {
     "name": "stdout",
     "output_type": "stream",
     "text": [
      "\r",
      "Epoch 341/1000:  34%|███▍      | 341/1000 [48:54<1:33:30,  8.51s/it, v_num=ow_1, total_loss_train=1.46e+3, kl_local_train=40.3]"
     ]
    },
    {
     "name": "stdout",
     "output_type": "stream",
     "text": [
      "\r",
      "Epoch 341/1000:  34%|███▍      | 341/1000 [48:54<1:33:30,  8.51s/it, v_num=ow_1, total_loss_train=1.46e+3, kl_local_train=39.9]"
     ]
    },
    {
     "name": "stdout",
     "output_type": "stream",
     "text": [
      "\r",
      "Epoch 342/1000:  34%|███▍      | 341/1000 [48:54<1:33:30,  8.51s/it, v_num=ow_1, total_loss_train=1.46e+3, kl_local_train=39.9]"
     ]
    },
    {
     "name": "stdout",
     "output_type": "stream",
     "text": [
      "\r",
      "Epoch 342/1000:  34%|███▍      | 342/1000 [49:04<1:36:16,  8.78s/it, v_num=ow_1, total_loss_train=1.46e+3, kl_local_train=39.9]"
     ]
    },
    {
     "name": "stdout",
     "output_type": "stream",
     "text": [
      "\r",
      "Epoch 342/1000:  34%|███▍      | 342/1000 [49:04<1:36:16,  8.78s/it, v_num=ow_1, total_loss_train=1.46e+3, kl_local_train=40]  "
     ]
    },
    {
     "name": "stdout",
     "output_type": "stream",
     "text": [
      "\r",
      "Epoch 343/1000:  34%|███▍      | 342/1000 [49:04<1:36:16,  8.78s/it, v_num=ow_1, total_loss_train=1.46e+3, kl_local_train=40]"
     ]
    },
    {
     "name": "stdout",
     "output_type": "stream",
     "text": [
      "\r",
      "Epoch 343/1000:  34%|███▍      | 343/1000 [49:12<1:34:16,  8.61s/it, v_num=ow_1, total_loss_train=1.46e+3, kl_local_train=40]"
     ]
    },
    {
     "name": "stdout",
     "output_type": "stream",
     "text": [
      "\r",
      "Epoch 343/1000:  34%|███▍      | 343/1000 [49:12<1:34:16,  8.61s/it, v_num=ow_1, total_loss_train=1.46e+3, kl_local_train=40]"
     ]
    },
    {
     "name": "stdout",
     "output_type": "stream",
     "text": [
      "\r",
      "Epoch 344/1000:  34%|███▍      | 343/1000 [49:12<1:34:16,  8.61s/it, v_num=ow_1, total_loss_train=1.46e+3, kl_local_train=40]"
     ]
    },
    {
     "name": "stdout",
     "output_type": "stream",
     "text": [
      "\r",
      "Epoch 344/1000:  34%|███▍      | 344/1000 [49:20<1:32:10,  8.43s/it, v_num=ow_1, total_loss_train=1.46e+3, kl_local_train=40]"
     ]
    },
    {
     "name": "stdout",
     "output_type": "stream",
     "text": [
      "\r",
      "Epoch 344/1000:  34%|███▍      | 344/1000 [49:20<1:32:10,  8.43s/it, v_num=ow_1, total_loss_train=1.46e+3, kl_local_train=40]"
     ]
    },
    {
     "name": "stdout",
     "output_type": "stream",
     "text": [
      "\r",
      "Epoch 345/1000:  34%|███▍      | 344/1000 [49:20<1:32:10,  8.43s/it, v_num=ow_1, total_loss_train=1.46e+3, kl_local_train=40]"
     ]
    },
    {
     "name": "stdout",
     "output_type": "stream",
     "text": [
      "\r",
      "Epoch 345/1000:  34%|███▍      | 345/1000 [49:29<1:34:24,  8.65s/it, v_num=ow_1, total_loss_train=1.46e+3, kl_local_train=40]"
     ]
    },
    {
     "name": "stdout",
     "output_type": "stream",
     "text": [
      "\r",
      "Epoch 345/1000:  34%|███▍      | 345/1000 [49:29<1:34:24,  8.65s/it, v_num=ow_1, total_loss_train=1.46e+3, kl_local_train=39.9]"
     ]
    },
    {
     "name": "stdout",
     "output_type": "stream",
     "text": [
      "\r",
      "Epoch 346/1000:  34%|███▍      | 345/1000 [49:29<1:34:24,  8.65s/it, v_num=ow_1, total_loss_train=1.46e+3, kl_local_train=39.9]"
     ]
    },
    {
     "name": "stdout",
     "output_type": "stream",
     "text": [
      "\r",
      "Epoch 346/1000:  35%|███▍      | 346/1000 [49:38<1:34:10,  8.64s/it, v_num=ow_1, total_loss_train=1.46e+3, kl_local_train=39.9]"
     ]
    },
    {
     "name": "stdout",
     "output_type": "stream",
     "text": [
      "\r",
      "Epoch 346/1000:  35%|███▍      | 346/1000 [49:38<1:34:10,  8.64s/it, v_num=ow_1, total_loss_train=1.46e+3, kl_local_train=39.6]"
     ]
    },
    {
     "name": "stdout",
     "output_type": "stream",
     "text": [
      "\r",
      "Epoch 347/1000:  35%|███▍      | 346/1000 [49:38<1:34:10,  8.64s/it, v_num=ow_1, total_loss_train=1.46e+3, kl_local_train=39.6]"
     ]
    },
    {
     "name": "stdout",
     "output_type": "stream",
     "text": [
      "\r",
      "Epoch 347/1000:  35%|███▍      | 347/1000 [49:47<1:37:20,  8.94s/it, v_num=ow_1, total_loss_train=1.46e+3, kl_local_train=39.6]"
     ]
    },
    {
     "name": "stdout",
     "output_type": "stream",
     "text": [
      "\r",
      "Epoch 347/1000:  35%|███▍      | 347/1000 [49:47<1:37:20,  8.94s/it, v_num=ow_1, total_loss_train=1.46e+3, kl_local_train=39.7]"
     ]
    },
    {
     "name": "stdout",
     "output_type": "stream",
     "text": [
      "\r",
      "Epoch 348/1000:  35%|███▍      | 347/1000 [49:47<1:37:20,  8.94s/it, v_num=ow_1, total_loss_train=1.46e+3, kl_local_train=39.7]"
     ]
    },
    {
     "name": "stdout",
     "output_type": "stream",
     "text": [
      "\r",
      "Epoch 348/1000:  35%|███▍      | 348/1000 [49:56<1:35:54,  8.83s/it, v_num=ow_1, total_loss_train=1.46e+3, kl_local_train=39.7]"
     ]
    },
    {
     "name": "stdout",
     "output_type": "stream",
     "text": [
      "\r",
      "Epoch 348/1000:  35%|███▍      | 348/1000 [49:56<1:35:54,  8.83s/it, v_num=ow_1, total_loss_train=1.46e+3, kl_local_train=39.7]"
     ]
    },
    {
     "name": "stdout",
     "output_type": "stream",
     "text": [
      "\r",
      "Epoch 349/1000:  35%|███▍      | 348/1000 [49:56<1:35:54,  8.83s/it, v_num=ow_1, total_loss_train=1.46e+3, kl_local_train=39.7]"
     ]
    },
    {
     "name": "stdout",
     "output_type": "stream",
     "text": [
      "\r",
      "Epoch 349/1000:  35%|███▍      | 349/1000 [50:05<1:35:11,  8.77s/it, v_num=ow_1, total_loss_train=1.46e+3, kl_local_train=39.7]"
     ]
    },
    {
     "name": "stdout",
     "output_type": "stream",
     "text": [
      "\r",
      "Epoch 349/1000:  35%|███▍      | 349/1000 [50:05<1:35:11,  8.77s/it, v_num=ow_1, total_loss_train=1.46e+3, kl_local_train=39.5]"
     ]
    },
    {
     "name": "stdout",
     "output_type": "stream",
     "text": [
      "\r",
      "Epoch 350/1000:  35%|███▍      | 349/1000 [50:05<1:35:11,  8.77s/it, v_num=ow_1, total_loss_train=1.46e+3, kl_local_train=39.5]"
     ]
    },
    {
     "name": "stdout",
     "output_type": "stream",
     "text": [
      "\r",
      "Epoch 350/1000:  35%|███▌      | 350/1000 [50:13<1:33:43,  8.65s/it, v_num=ow_1, total_loss_train=1.46e+3, kl_local_train=39.5]"
     ]
    },
    {
     "name": "stdout",
     "output_type": "stream",
     "text": [
      "\r",
      "Epoch 350/1000:  35%|███▌      | 350/1000 [50:13<1:33:43,  8.65s/it, v_num=ow_1, total_loss_train=1.46e+3, kl_local_train=39.7]"
     ]
    },
    {
     "name": "stdout",
     "output_type": "stream",
     "text": [
      "\r",
      "Epoch 351/1000:  35%|███▌      | 350/1000 [50:13<1:33:43,  8.65s/it, v_num=ow_1, total_loss_train=1.46e+3, kl_local_train=39.7]"
     ]
    },
    {
     "name": "stdout",
     "output_type": "stream",
     "text": [
      "\r",
      "Epoch 351/1000:  35%|███▌      | 351/1000 [50:21<1:32:05,  8.51s/it, v_num=ow_1, total_loss_train=1.46e+3, kl_local_train=39.7]"
     ]
    },
    {
     "name": "stdout",
     "output_type": "stream",
     "text": [
      "\r",
      "Epoch 351/1000:  35%|███▌      | 351/1000 [50:21<1:32:05,  8.51s/it, v_num=ow_1, total_loss_train=1.46e+3, kl_local_train=39.6]"
     ]
    },
    {
     "name": "stdout",
     "output_type": "stream",
     "text": [
      "\r",
      "Epoch 352/1000:  35%|███▌      | 351/1000 [50:21<1:32:05,  8.51s/it, v_num=ow_1, total_loss_train=1.46e+3, kl_local_train=39.6]"
     ]
    },
    {
     "name": "stdout",
     "output_type": "stream",
     "text": [
      "\r",
      "Epoch 352/1000:  35%|███▌      | 352/1000 [50:30<1:31:09,  8.44s/it, v_num=ow_1, total_loss_train=1.46e+3, kl_local_train=39.6]"
     ]
    },
    {
     "name": "stdout",
     "output_type": "stream",
     "text": [
      "\r",
      "Epoch 352/1000:  35%|███▌      | 352/1000 [50:30<1:31:09,  8.44s/it, v_num=ow_1, total_loss_train=1.46e+3, kl_local_train=39.6]"
     ]
    },
    {
     "name": "stdout",
     "output_type": "stream",
     "text": [
      "\r",
      "Epoch 353/1000:  35%|███▌      | 352/1000 [50:30<1:31:09,  8.44s/it, v_num=ow_1, total_loss_train=1.46e+3, kl_local_train=39.6]"
     ]
    },
    {
     "name": "stdout",
     "output_type": "stream",
     "text": [
      "\r",
      "Epoch 353/1000:  35%|███▌      | 353/1000 [50:38<1:30:59,  8.44s/it, v_num=ow_1, total_loss_train=1.46e+3, kl_local_train=39.6]"
     ]
    },
    {
     "name": "stdout",
     "output_type": "stream",
     "text": [
      "\r",
      "Epoch 353/1000:  35%|███▌      | 353/1000 [50:38<1:30:59,  8.44s/it, v_num=ow_1, total_loss_train=1.46e+3, kl_local_train=39.6]"
     ]
    },
    {
     "name": "stdout",
     "output_type": "stream",
     "text": [
      "\r",
      "Epoch 354/1000:  35%|███▌      | 353/1000 [50:38<1:30:59,  8.44s/it, v_num=ow_1, total_loss_train=1.46e+3, kl_local_train=39.6]"
     ]
    },
    {
     "name": "stdout",
     "output_type": "stream",
     "text": [
      "\r",
      "Epoch 354/1000:  35%|███▌      | 354/1000 [50:47<1:31:50,  8.53s/it, v_num=ow_1, total_loss_train=1.46e+3, kl_local_train=39.6]"
     ]
    },
    {
     "name": "stdout",
     "output_type": "stream",
     "text": [
      "\r",
      "Epoch 354/1000:  35%|███▌      | 354/1000 [50:47<1:31:50,  8.53s/it, v_num=ow_1, total_loss_train=1.46e+3, kl_local_train=39.4]"
     ]
    },
    {
     "name": "stdout",
     "output_type": "stream",
     "text": [
      "\r",
      "Epoch 355/1000:  35%|███▌      | 354/1000 [50:47<1:31:50,  8.53s/it, v_num=ow_1, total_loss_train=1.46e+3, kl_local_train=39.4]"
     ]
    },
    {
     "name": "stdout",
     "output_type": "stream",
     "text": [
      "\r",
      "Epoch 355/1000:  36%|███▌      | 355/1000 [50:55<1:32:23,  8.59s/it, v_num=ow_1, total_loss_train=1.46e+3, kl_local_train=39.4]"
     ]
    },
    {
     "name": "stdout",
     "output_type": "stream",
     "text": [
      "\r",
      "Epoch 355/1000:  36%|███▌      | 355/1000 [50:55<1:32:23,  8.59s/it, v_num=ow_1, total_loss_train=1.46e+3, kl_local_train=39.4]"
     ]
    },
    {
     "name": "stdout",
     "output_type": "stream",
     "text": [
      "\r",
      "Epoch 356/1000:  36%|███▌      | 355/1000 [50:55<1:32:23,  8.59s/it, v_num=ow_1, total_loss_train=1.46e+3, kl_local_train=39.4]"
     ]
    },
    {
     "name": "stdout",
     "output_type": "stream",
     "text": [
      "\r",
      "Epoch 356/1000:  36%|███▌      | 356/1000 [51:03<1:30:26,  8.43s/it, v_num=ow_1, total_loss_train=1.46e+3, kl_local_train=39.4]"
     ]
    },
    {
     "name": "stdout",
     "output_type": "stream",
     "text": [
      "\r",
      "Epoch 356/1000:  36%|███▌      | 356/1000 [51:03<1:30:26,  8.43s/it, v_num=ow_1, total_loss_train=1.46e+3, kl_local_train=39.4]"
     ]
    },
    {
     "name": "stdout",
     "output_type": "stream",
     "text": [
      "\r",
      "Epoch 357/1000:  36%|███▌      | 356/1000 [51:03<1:30:26,  8.43s/it, v_num=ow_1, total_loss_train=1.46e+3, kl_local_train=39.4]"
     ]
    },
    {
     "name": "stdout",
     "output_type": "stream",
     "text": [
      "\r",
      "Epoch 357/1000:  36%|███▌      | 357/1000 [51:11<1:27:23,  8.15s/it, v_num=ow_1, total_loss_train=1.46e+3, kl_local_train=39.4]"
     ]
    },
    {
     "name": "stdout",
     "output_type": "stream",
     "text": [
      "\r",
      "Epoch 357/1000:  36%|███▌      | 357/1000 [51:11<1:27:23,  8.15s/it, v_num=ow_1, total_loss_train=1.46e+3, kl_local_train=39.3]"
     ]
    },
    {
     "name": "stdout",
     "output_type": "stream",
     "text": [
      "\r",
      "Epoch 358/1000:  36%|███▌      | 357/1000 [51:11<1:27:23,  8.15s/it, v_num=ow_1, total_loss_train=1.46e+3, kl_local_train=39.3]"
     ]
    },
    {
     "name": "stdout",
     "output_type": "stream",
     "text": [
      "\r",
      "Epoch 358/1000:  36%|███▌      | 358/1000 [51:19<1:25:33,  8.00s/it, v_num=ow_1, total_loss_train=1.46e+3, kl_local_train=39.3]"
     ]
    },
    {
     "name": "stdout",
     "output_type": "stream",
     "text": [
      "\r",
      "Epoch 358/1000:  36%|███▌      | 358/1000 [51:19<1:25:33,  8.00s/it, v_num=ow_1, total_loss_train=1.46e+3, kl_local_train=39.4]"
     ]
    },
    {
     "name": "stdout",
     "output_type": "stream",
     "text": [
      "\r",
      "Epoch 359/1000:  36%|███▌      | 358/1000 [51:19<1:25:33,  8.00s/it, v_num=ow_1, total_loss_train=1.46e+3, kl_local_train=39.4]"
     ]
    },
    {
     "name": "stdout",
     "output_type": "stream",
     "text": [
      "\r",
      "Epoch 359/1000:  36%|███▌      | 359/1000 [51:27<1:25:43,  8.02s/it, v_num=ow_1, total_loss_train=1.46e+3, kl_local_train=39.4]"
     ]
    },
    {
     "name": "stdout",
     "output_type": "stream",
     "text": [
      "\r",
      "Epoch 359/1000:  36%|███▌      | 359/1000 [51:27<1:25:43,  8.02s/it, v_num=ow_1, total_loss_train=1.46e+3, kl_local_train=39.2]"
     ]
    },
    {
     "name": "stdout",
     "output_type": "stream",
     "text": [
      "\r",
      "Epoch 360/1000:  36%|███▌      | 359/1000 [51:27<1:25:43,  8.02s/it, v_num=ow_1, total_loss_train=1.46e+3, kl_local_train=39.2]"
     ]
    },
    {
     "name": "stdout",
     "output_type": "stream",
     "text": [
      "\r",
      "Epoch 360/1000:  36%|███▌      | 360/1000 [51:36<1:30:27,  8.48s/it, v_num=ow_1, total_loss_train=1.46e+3, kl_local_train=39.2]"
     ]
    },
    {
     "name": "stdout",
     "output_type": "stream",
     "text": [
      "\r",
      "Epoch 360/1000:  36%|███▌      | 360/1000 [51:36<1:30:27,  8.48s/it, v_num=ow_1, total_loss_train=1.46e+3, kl_local_train=39.2]"
     ]
    },
    {
     "name": "stdout",
     "output_type": "stream",
     "text": [
      "\r",
      "Epoch 361/1000:  36%|███▌      | 360/1000 [51:36<1:30:27,  8.48s/it, v_num=ow_1, total_loss_train=1.46e+3, kl_local_train=39.2]"
     ]
    },
    {
     "name": "stdout",
     "output_type": "stream",
     "text": [
      "\r",
      "Epoch 361/1000:  36%|███▌      | 361/1000 [51:45<1:30:35,  8.51s/it, v_num=ow_1, total_loss_train=1.46e+3, kl_local_train=39.2]"
     ]
    },
    {
     "name": "stdout",
     "output_type": "stream",
     "text": [
      "\r",
      "Epoch 361/1000:  36%|███▌      | 361/1000 [51:45<1:30:35,  8.51s/it, v_num=ow_1, total_loss_train=1.46e+3, kl_local_train=39.1]"
     ]
    },
    {
     "name": "stdout",
     "output_type": "stream",
     "text": [
      "\r",
      "Epoch 362/1000:  36%|███▌      | 361/1000 [51:45<1:30:35,  8.51s/it, v_num=ow_1, total_loss_train=1.46e+3, kl_local_train=39.1]"
     ]
    },
    {
     "name": "stdout",
     "output_type": "stream",
     "text": [
      "\r",
      "Epoch 362/1000:  36%|███▌      | 362/1000 [51:53<1:30:16,  8.49s/it, v_num=ow_1, total_loss_train=1.46e+3, kl_local_train=39.1]"
     ]
    },
    {
     "name": "stdout",
     "output_type": "stream",
     "text": [
      "\r",
      "Epoch 362/1000:  36%|███▌      | 362/1000 [51:53<1:30:16,  8.49s/it, v_num=ow_1, total_loss_train=1.46e+3, kl_local_train=39.1]"
     ]
    },
    {
     "name": "stdout",
     "output_type": "stream",
     "text": [
      "\r",
      "Epoch 363/1000:  36%|███▌      | 362/1000 [51:53<1:30:16,  8.49s/it, v_num=ow_1, total_loss_train=1.46e+3, kl_local_train=39.1]"
     ]
    },
    {
     "name": "stdout",
     "output_type": "stream",
     "text": [
      "\r",
      "Epoch 363/1000:  36%|███▋      | 363/1000 [52:01<1:28:11,  8.31s/it, v_num=ow_1, total_loss_train=1.46e+3, kl_local_train=39.1]"
     ]
    },
    {
     "name": "stdout",
     "output_type": "stream",
     "text": [
      "\r",
      "Epoch 363/1000:  36%|███▋      | 363/1000 [52:01<1:28:11,  8.31s/it, v_num=ow_1, total_loss_train=1.46e+3, kl_local_train=39]  "
     ]
    },
    {
     "name": "stdout",
     "output_type": "stream",
     "text": [
      "\r",
      "Epoch 364/1000:  36%|███▋      | 363/1000 [52:01<1:28:11,  8.31s/it, v_num=ow_1, total_loss_train=1.46e+3, kl_local_train=39]"
     ]
    },
    {
     "name": "stdout",
     "output_type": "stream",
     "text": [
      "\r",
      "Epoch 364/1000:  36%|███▋      | 364/1000 [52:09<1:27:05,  8.22s/it, v_num=ow_1, total_loss_train=1.46e+3, kl_local_train=39]"
     ]
    },
    {
     "name": "stdout",
     "output_type": "stream",
     "text": [
      "\r",
      "Epoch 364/1000:  36%|███▋      | 364/1000 [52:09<1:27:05,  8.22s/it, v_num=ow_1, total_loss_train=1.46e+3, kl_local_train=39.1]"
     ]
    },
    {
     "name": "stdout",
     "output_type": "stream",
     "text": [
      "\r",
      "Epoch 365/1000:  36%|███▋      | 364/1000 [52:09<1:27:05,  8.22s/it, v_num=ow_1, total_loss_train=1.46e+3, kl_local_train=39.1]"
     ]
    },
    {
     "name": "stdout",
     "output_type": "stream",
     "text": [
      "\r",
      "Epoch 365/1000:  36%|███▋      | 365/1000 [52:18<1:27:22,  8.26s/it, v_num=ow_1, total_loss_train=1.46e+3, kl_local_train=39.1]"
     ]
    },
    {
     "name": "stdout",
     "output_type": "stream",
     "text": [
      "\r",
      "Epoch 365/1000:  36%|███▋      | 365/1000 [52:18<1:27:22,  8.26s/it, v_num=ow_1, total_loss_train=1.46e+3, kl_local_train=39]  "
     ]
    },
    {
     "name": "stdout",
     "output_type": "stream",
     "text": [
      "\r",
      "Epoch 366/1000:  36%|███▋      | 365/1000 [52:18<1:27:22,  8.26s/it, v_num=ow_1, total_loss_train=1.46e+3, kl_local_train=39]"
     ]
    },
    {
     "name": "stdout",
     "output_type": "stream",
     "text": [
      "\r",
      "Epoch 366/1000:  37%|███▋      | 366/1000 [52:25<1:24:32,  8.00s/it, v_num=ow_1, total_loss_train=1.46e+3, kl_local_train=39]"
     ]
    },
    {
     "name": "stdout",
     "output_type": "stream",
     "text": [
      "\r",
      "Epoch 366/1000:  37%|███▋      | 366/1000 [52:25<1:24:32,  8.00s/it, v_num=ow_1, total_loss_train=1.46e+3, kl_local_train=38.7]"
     ]
    },
    {
     "name": "stdout",
     "output_type": "stream",
     "text": [
      "\r",
      "Epoch 367/1000:  37%|███▋      | 366/1000 [52:25<1:24:32,  8.00s/it, v_num=ow_1, total_loss_train=1.46e+3, kl_local_train=38.7]"
     ]
    },
    {
     "name": "stdout",
     "output_type": "stream",
     "text": [
      "\r",
      "Epoch 367/1000:  37%|███▋      | 367/1000 [52:33<1:24:48,  8.04s/it, v_num=ow_1, total_loss_train=1.46e+3, kl_local_train=38.7]"
     ]
    },
    {
     "name": "stdout",
     "output_type": "stream",
     "text": [
      "\r",
      "Epoch 367/1000:  37%|███▋      | 367/1000 [52:33<1:24:48,  8.04s/it, v_num=ow_1, total_loss_train=1.46e+3, kl_local_train=38.7]"
     ]
    },
    {
     "name": "stdout",
     "output_type": "stream",
     "text": [
      "\r",
      "Epoch 368/1000:  37%|███▋      | 367/1000 [52:33<1:24:48,  8.04s/it, v_num=ow_1, total_loss_train=1.46e+3, kl_local_train=38.7]"
     ]
    },
    {
     "name": "stdout",
     "output_type": "stream",
     "text": [
      "\r",
      "Epoch 368/1000:  37%|███▋      | 368/1000 [52:42<1:27:16,  8.29s/it, v_num=ow_1, total_loss_train=1.46e+3, kl_local_train=38.7]"
     ]
    },
    {
     "name": "stdout",
     "output_type": "stream",
     "text": [
      "\r",
      "Epoch 368/1000:  37%|███▋      | 368/1000 [52:42<1:27:16,  8.29s/it, v_num=ow_1, total_loss_train=1.46e+3, kl_local_train=38.6]"
     ]
    },
    {
     "name": "stdout",
     "output_type": "stream",
     "text": [
      "\r",
      "Epoch 369/1000:  37%|███▋      | 368/1000 [52:42<1:27:16,  8.29s/it, v_num=ow_1, total_loss_train=1.46e+3, kl_local_train=38.6]"
     ]
    },
    {
     "name": "stdout",
     "output_type": "stream",
     "text": [
      "\r",
      "Epoch 369/1000:  37%|███▋      | 369/1000 [52:50<1:28:07,  8.38s/it, v_num=ow_1, total_loss_train=1.46e+3, kl_local_train=38.6]"
     ]
    },
    {
     "name": "stdout",
     "output_type": "stream",
     "text": [
      "\r",
      "Epoch 369/1000:  37%|███▋      | 369/1000 [52:51<1:28:07,  8.38s/it, v_num=ow_1, total_loss_train=1.46e+3, kl_local_train=38.6]"
     ]
    },
    {
     "name": "stdout",
     "output_type": "stream",
     "text": [
      "\r",
      "Epoch 370/1000:  37%|███▋      | 369/1000 [52:51<1:28:07,  8.38s/it, v_num=ow_1, total_loss_train=1.46e+3, kl_local_train=38.6]"
     ]
    },
    {
     "name": "stdout",
     "output_type": "stream",
     "text": [
      "\r",
      "Epoch 370/1000:  37%|███▋      | 370/1000 [53:00<1:32:13,  8.78s/it, v_num=ow_1, total_loss_train=1.46e+3, kl_local_train=38.6]"
     ]
    },
    {
     "name": "stdout",
     "output_type": "stream",
     "text": [
      "\r",
      "Epoch 370/1000:  37%|███▋      | 370/1000 [53:00<1:32:13,  8.78s/it, v_num=ow_1, total_loss_train=1.46e+3, kl_local_train=38.6]"
     ]
    },
    {
     "name": "stdout",
     "output_type": "stream",
     "text": [
      "\r",
      "Epoch 371/1000:  37%|███▋      | 370/1000 [53:00<1:32:13,  8.78s/it, v_num=ow_1, total_loss_train=1.46e+3, kl_local_train=38.6]"
     ]
    },
    {
     "name": "stdout",
     "output_type": "stream",
     "text": [
      "\r",
      "Epoch 371/1000:  37%|███▋      | 371/1000 [53:09<1:31:46,  8.75s/it, v_num=ow_1, total_loss_train=1.46e+3, kl_local_train=38.6]"
     ]
    },
    {
     "name": "stdout",
     "output_type": "stream",
     "text": [
      "\r",
      "Epoch 371/1000:  37%|███▋      | 371/1000 [53:09<1:31:46,  8.75s/it, v_num=ow_1, total_loss_train=1.46e+3, kl_local_train=38.5]"
     ]
    },
    {
     "name": "stdout",
     "output_type": "stream",
     "text": [
      "\r",
      "Epoch 372/1000:  37%|███▋      | 371/1000 [53:09<1:31:46,  8.75s/it, v_num=ow_1, total_loss_train=1.46e+3, kl_local_train=38.5]"
     ]
    },
    {
     "name": "stdout",
     "output_type": "stream",
     "text": [
      "\r",
      "Epoch 372/1000:  37%|███▋      | 372/1000 [53:17<1:30:33,  8.65s/it, v_num=ow_1, total_loss_train=1.46e+3, kl_local_train=38.5]"
     ]
    },
    {
     "name": "stdout",
     "output_type": "stream",
     "text": [
      "\r",
      "Epoch 372/1000:  37%|███▋      | 372/1000 [53:17<1:30:33,  8.65s/it, v_num=ow_1, total_loss_train=1.46e+3, kl_local_train=38.6]"
     ]
    },
    {
     "name": "stdout",
     "output_type": "stream",
     "text": [
      "\r",
      "Epoch 373/1000:  37%|███▋      | 372/1000 [53:17<1:30:33,  8.65s/it, v_num=ow_1, total_loss_train=1.46e+3, kl_local_train=38.6]"
     ]
    },
    {
     "name": "stdout",
     "output_type": "stream",
     "text": [
      "\r",
      "Epoch 373/1000:  37%|███▋      | 373/1000 [53:26<1:29:19,  8.55s/it, v_num=ow_1, total_loss_train=1.46e+3, kl_local_train=38.6]"
     ]
    },
    {
     "name": "stdout",
     "output_type": "stream",
     "text": [
      "\r",
      "Epoch 373/1000:  37%|███▋      | 373/1000 [53:26<1:29:19,  8.55s/it, v_num=ow_1, total_loss_train=1.46e+3, kl_local_train=38.5]"
     ]
    },
    {
     "name": "stdout",
     "output_type": "stream",
     "text": [
      "\r",
      "Epoch 374/1000:  37%|███▋      | 373/1000 [53:26<1:29:19,  8.55s/it, v_num=ow_1, total_loss_train=1.46e+3, kl_local_train=38.5]"
     ]
    },
    {
     "name": "stdout",
     "output_type": "stream",
     "text": [
      "\r",
      "Epoch 374/1000:  37%|███▋      | 374/1000 [53:35<1:31:04,  8.73s/it, v_num=ow_1, total_loss_train=1.46e+3, kl_local_train=38.5]"
     ]
    },
    {
     "name": "stdout",
     "output_type": "stream",
     "text": [
      "\r",
      "Epoch 374/1000:  37%|███▋      | 374/1000 [53:35<1:31:04,  8.73s/it, v_num=ow_1, total_loss_train=1.46e+3, kl_local_train=38.6]"
     ]
    },
    {
     "name": "stdout",
     "output_type": "stream",
     "text": [
      "\r",
      "Epoch 375/1000:  37%|███▋      | 374/1000 [53:35<1:31:04,  8.73s/it, v_num=ow_1, total_loss_train=1.46e+3, kl_local_train=38.6]"
     ]
    },
    {
     "name": "stdout",
     "output_type": "stream",
     "text": [
      "\r",
      "Epoch 375/1000:  38%|███▊      | 375/1000 [53:43<1:29:19,  8.57s/it, v_num=ow_1, total_loss_train=1.46e+3, kl_local_train=38.6]"
     ]
    },
    {
     "name": "stdout",
     "output_type": "stream",
     "text": [
      "\r",
      "Epoch 375/1000:  38%|███▊      | 375/1000 [53:43<1:29:19,  8.57s/it, v_num=ow_1, total_loss_train=1.46e+3, kl_local_train=38.4]"
     ]
    },
    {
     "name": "stdout",
     "output_type": "stream",
     "text": [
      "\r",
      "Epoch 376/1000:  38%|███▊      | 375/1000 [53:43<1:29:19,  8.57s/it, v_num=ow_1, total_loss_train=1.46e+3, kl_local_train=38.4]"
     ]
    },
    {
     "name": "stdout",
     "output_type": "stream",
     "text": [
      "\r",
      "Epoch 376/1000:  38%|███▊      | 376/1000 [53:51<1:26:36,  8.33s/it, v_num=ow_1, total_loss_train=1.46e+3, kl_local_train=38.4]"
     ]
    },
    {
     "name": "stdout",
     "output_type": "stream",
     "text": [
      "\r",
      "Epoch 376/1000:  38%|███▊      | 376/1000 [53:51<1:26:36,  8.33s/it, v_num=ow_1, total_loss_train=1.46e+3, kl_local_train=38.3]"
     ]
    },
    {
     "name": "stdout",
     "output_type": "stream",
     "text": [
      "\r",
      "Epoch 377/1000:  38%|███▊      | 376/1000 [53:51<1:26:36,  8.33s/it, v_num=ow_1, total_loss_train=1.46e+3, kl_local_train=38.3]"
     ]
    },
    {
     "name": "stdout",
     "output_type": "stream",
     "text": [
      "\r",
      "Epoch 377/1000:  38%|███▊      | 377/1000 [54:00<1:28:20,  8.51s/it, v_num=ow_1, total_loss_train=1.46e+3, kl_local_train=38.3]"
     ]
    },
    {
     "name": "stdout",
     "output_type": "stream",
     "text": [
      "\r",
      "Epoch 377/1000:  38%|███▊      | 377/1000 [54:00<1:28:20,  8.51s/it, v_num=ow_1, total_loss_train=1.46e+3, kl_local_train=38.1]"
     ]
    },
    {
     "name": "stdout",
     "output_type": "stream",
     "text": [
      "\r",
      "Epoch 378/1000:  38%|███▊      | 377/1000 [54:00<1:28:20,  8.51s/it, v_num=ow_1, total_loss_train=1.46e+3, kl_local_train=38.1]"
     ]
    },
    {
     "name": "stdout",
     "output_type": "stream",
     "text": [
      "\r",
      "Epoch 378/1000:  38%|███▊      | 378/1000 [54:09<1:30:27,  8.73s/it, v_num=ow_1, total_loss_train=1.46e+3, kl_local_train=38.1]"
     ]
    },
    {
     "name": "stdout",
     "output_type": "stream",
     "text": [
      "\r",
      "Epoch 378/1000:  38%|███▊      | 378/1000 [54:09<1:30:27,  8.73s/it, v_num=ow_1, total_loss_train=1.46e+3, kl_local_train=38.2]"
     ]
    },
    {
     "name": "stdout",
     "output_type": "stream",
     "text": [
      "\r",
      "Epoch 379/1000:  38%|███▊      | 378/1000 [54:09<1:30:27,  8.73s/it, v_num=ow_1, total_loss_train=1.46e+3, kl_local_train=38.2]"
     ]
    },
    {
     "name": "stdout",
     "output_type": "stream",
     "text": [
      "\r",
      "Epoch 379/1000:  38%|███▊      | 379/1000 [54:18<1:31:27,  8.84s/it, v_num=ow_1, total_loss_train=1.46e+3, kl_local_train=38.2]"
     ]
    },
    {
     "name": "stdout",
     "output_type": "stream",
     "text": [
      "\r",
      "Epoch 379/1000:  38%|███▊      | 379/1000 [54:18<1:31:27,  8.84s/it, v_num=ow_1, total_loss_train=1.46e+3, kl_local_train=38.1]"
     ]
    },
    {
     "name": "stdout",
     "output_type": "stream",
     "text": [
      "\r",
      "Epoch 380/1000:  38%|███▊      | 379/1000 [54:18<1:31:27,  8.84s/it, v_num=ow_1, total_loss_train=1.46e+3, kl_local_train=38.1]"
     ]
    },
    {
     "name": "stdout",
     "output_type": "stream",
     "text": [
      "\r",
      "Epoch 380/1000:  38%|███▊      | 380/1000 [54:27<1:32:24,  8.94s/it, v_num=ow_1, total_loss_train=1.46e+3, kl_local_train=38.1]"
     ]
    },
    {
     "name": "stdout",
     "output_type": "stream",
     "text": [
      "\r",
      "Epoch 380/1000:  38%|███▊      | 380/1000 [54:27<1:32:24,  8.94s/it, v_num=ow_1, total_loss_train=1.46e+3, kl_local_train=38.2]"
     ]
    },
    {
     "name": "stdout",
     "output_type": "stream",
     "text": [
      "\r",
      "Epoch 381/1000:  38%|███▊      | 380/1000 [54:27<1:32:24,  8.94s/it, v_num=ow_1, total_loss_train=1.46e+3, kl_local_train=38.2]"
     ]
    },
    {
     "name": "stdout",
     "output_type": "stream",
     "text": [
      "\r",
      "Epoch 381/1000:  38%|███▊      | 381/1000 [54:38<1:36:56,  9.40s/it, v_num=ow_1, total_loss_train=1.46e+3, kl_local_train=38.2]"
     ]
    },
    {
     "name": "stdout",
     "output_type": "stream",
     "text": [
      "\r",
      "Epoch 381/1000:  38%|███▊      | 381/1000 [54:38<1:36:56,  9.40s/it, v_num=ow_1, total_loss_train=1.46e+3, kl_local_train=38.1]"
     ]
    },
    {
     "name": "stdout",
     "output_type": "stream",
     "text": [
      "\r",
      "Epoch 382/1000:  38%|███▊      | 381/1000 [54:38<1:36:56,  9.40s/it, v_num=ow_1, total_loss_train=1.46e+3, kl_local_train=38.1]"
     ]
    },
    {
     "name": "stdout",
     "output_type": "stream",
     "text": [
      "\r",
      "Epoch 382/1000:  38%|███▊      | 382/1000 [54:46<1:33:41,  9.10s/it, v_num=ow_1, total_loss_train=1.46e+3, kl_local_train=38.1]"
     ]
    },
    {
     "name": "stdout",
     "output_type": "stream",
     "text": [
      "\r",
      "Epoch 382/1000:  38%|███▊      | 382/1000 [54:46<1:33:41,  9.10s/it, v_num=ow_1, total_loss_train=1.46e+3, kl_local_train=38]  "
     ]
    },
    {
     "name": "stdout",
     "output_type": "stream",
     "text": [
      "\r",
      "Epoch 383/1000:  38%|███▊      | 382/1000 [54:46<1:33:41,  9.10s/it, v_num=ow_1, total_loss_train=1.46e+3, kl_local_train=38]"
     ]
    },
    {
     "name": "stdout",
     "output_type": "stream",
     "text": [
      "\r",
      "Epoch 383/1000:  38%|███▊      | 383/1000 [54:54<1:31:13,  8.87s/it, v_num=ow_1, total_loss_train=1.46e+3, kl_local_train=38]"
     ]
    },
    {
     "name": "stdout",
     "output_type": "stream",
     "text": [
      "\r",
      "Epoch 383/1000:  38%|███▊      | 383/1000 [54:54<1:31:13,  8.87s/it, v_num=ow_1, total_loss_train=1.46e+3, kl_local_train=37.8]"
     ]
    },
    {
     "name": "stdout",
     "output_type": "stream",
     "text": [
      "\r",
      "Epoch 384/1000:  38%|███▊      | 383/1000 [54:54<1:31:13,  8.87s/it, v_num=ow_1, total_loss_train=1.46e+3, kl_local_train=37.8]"
     ]
    },
    {
     "name": "stdout",
     "output_type": "stream",
     "text": [
      "\r",
      "Epoch 384/1000:  38%|███▊      | 384/1000 [55:03<1:29:10,  8.69s/it, v_num=ow_1, total_loss_train=1.46e+3, kl_local_train=37.8]"
     ]
    },
    {
     "name": "stdout",
     "output_type": "stream",
     "text": [
      "\r",
      "Epoch 384/1000:  38%|███▊      | 384/1000 [55:03<1:29:10,  8.69s/it, v_num=ow_1, total_loss_train=1.46e+3, kl_local_train=37.8]"
     ]
    },
    {
     "name": "stdout",
     "output_type": "stream",
     "text": [
      "\r",
      "Epoch 385/1000:  38%|███▊      | 384/1000 [55:03<1:29:10,  8.69s/it, v_num=ow_1, total_loss_train=1.46e+3, kl_local_train=37.8]"
     ]
    },
    {
     "name": "stdout",
     "output_type": "stream",
     "text": [
      "\r",
      "Epoch 385/1000:  38%|███▊      | 385/1000 [55:11<1:28:15,  8.61s/it, v_num=ow_1, total_loss_train=1.46e+3, kl_local_train=37.8]"
     ]
    },
    {
     "name": "stdout",
     "output_type": "stream",
     "text": [
      "\r",
      "Epoch 385/1000:  38%|███▊      | 385/1000 [55:11<1:28:15,  8.61s/it, v_num=ow_1, total_loss_train=1.46e+3, kl_local_train=37.9]"
     ]
    },
    {
     "name": "stdout",
     "output_type": "stream",
     "text": [
      "\r",
      "Epoch 386/1000:  38%|███▊      | 385/1000 [55:11<1:28:15,  8.61s/it, v_num=ow_1, total_loss_train=1.46e+3, kl_local_train=37.9]"
     ]
    },
    {
     "name": "stdout",
     "output_type": "stream",
     "text": [
      "\r",
      "Epoch 386/1000:  39%|███▊      | 386/1000 [55:19<1:27:07,  8.51s/it, v_num=ow_1, total_loss_train=1.46e+3, kl_local_train=37.9]"
     ]
    },
    {
     "name": "stdout",
     "output_type": "stream",
     "text": [
      "\r",
      "Epoch 386/1000:  39%|███▊      | 386/1000 [55:19<1:27:07,  8.51s/it, v_num=ow_1, total_loss_train=1.46e+3, kl_local_train=37.8]"
     ]
    },
    {
     "name": "stdout",
     "output_type": "stream",
     "text": [
      "\r",
      "Epoch 387/1000:  39%|███▊      | 386/1000 [55:19<1:27:07,  8.51s/it, v_num=ow_1, total_loss_train=1.46e+3, kl_local_train=37.8]"
     ]
    },
    {
     "name": "stdout",
     "output_type": "stream",
     "text": [
      "\r",
      "Epoch 387/1000:  39%|███▊      | 387/1000 [55:28<1:27:03,  8.52s/it, v_num=ow_1, total_loss_train=1.46e+3, kl_local_train=37.8]"
     ]
    },
    {
     "name": "stdout",
     "output_type": "stream",
     "text": [
      "\r",
      "Epoch 387/1000:  39%|███▊      | 387/1000 [55:28<1:27:03,  8.52s/it, v_num=ow_1, total_loss_train=1.46e+3, kl_local_train=37.7]"
     ]
    },
    {
     "name": "stdout",
     "output_type": "stream",
     "text": [
      "\r",
      "Epoch 388/1000:  39%|███▊      | 387/1000 [55:28<1:27:03,  8.52s/it, v_num=ow_1, total_loss_train=1.46e+3, kl_local_train=37.7]"
     ]
    },
    {
     "name": "stdout",
     "output_type": "stream",
     "text": [
      "\r",
      "Epoch 388/1000:  39%|███▉      | 388/1000 [55:37<1:27:34,  8.59s/it, v_num=ow_1, total_loss_train=1.46e+3, kl_local_train=37.7]"
     ]
    },
    {
     "name": "stdout",
     "output_type": "stream",
     "text": [
      "\r",
      "Epoch 388/1000:  39%|███▉      | 388/1000 [55:37<1:27:34,  8.59s/it, v_num=ow_1, total_loss_train=1.46e+3, kl_local_train=37.8]"
     ]
    },
    {
     "name": "stdout",
     "output_type": "stream",
     "text": [
      "\r",
      "Epoch 389/1000:  39%|███▉      | 388/1000 [55:37<1:27:34,  8.59s/it, v_num=ow_1, total_loss_train=1.46e+3, kl_local_train=37.8]"
     ]
    },
    {
     "name": "stdout",
     "output_type": "stream",
     "text": [
      "\r",
      "Epoch 389/1000:  39%|███▉      | 389/1000 [55:45<1:27:20,  8.58s/it, v_num=ow_1, total_loss_train=1.46e+3, kl_local_train=37.8]"
     ]
    },
    {
     "name": "stdout",
     "output_type": "stream",
     "text": [
      "\r",
      "Epoch 389/1000:  39%|███▉      | 389/1000 [55:45<1:27:20,  8.58s/it, v_num=ow_1, total_loss_train=1.46e+3, kl_local_train=37.6]"
     ]
    },
    {
     "name": "stdout",
     "output_type": "stream",
     "text": [
      "\r",
      "Epoch 390/1000:  39%|███▉      | 389/1000 [55:45<1:27:20,  8.58s/it, v_num=ow_1, total_loss_train=1.46e+3, kl_local_train=37.6]"
     ]
    },
    {
     "name": "stdout",
     "output_type": "stream",
     "text": [
      "\r",
      "Epoch 390/1000:  39%|███▉      | 390/1000 [55:53<1:25:20,  8.39s/it, v_num=ow_1, total_loss_train=1.46e+3, kl_local_train=37.6]"
     ]
    },
    {
     "name": "stdout",
     "output_type": "stream",
     "text": [
      "\r",
      "Epoch 390/1000:  39%|███▉      | 390/1000 [55:53<1:25:20,  8.39s/it, v_num=ow_1, total_loss_train=1.46e+3, kl_local_train=37.7]"
     ]
    },
    {
     "name": "stdout",
     "output_type": "stream",
     "text": [
      "\r",
      "Epoch 391/1000:  39%|███▉      | 390/1000 [55:53<1:25:20,  8.39s/it, v_num=ow_1, total_loss_train=1.46e+3, kl_local_train=37.7]"
     ]
    },
    {
     "name": "stdout",
     "output_type": "stream",
     "text": [
      "\r",
      "Epoch 391/1000:  39%|███▉      | 391/1000 [56:02<1:27:57,  8.67s/it, v_num=ow_1, total_loss_train=1.46e+3, kl_local_train=37.7]"
     ]
    },
    {
     "name": "stdout",
     "output_type": "stream",
     "text": [
      "\r",
      "Epoch 391/1000:  39%|███▉      | 391/1000 [56:02<1:27:57,  8.67s/it, v_num=ow_1, total_loss_train=1.46e+3, kl_local_train=37.5]"
     ]
    },
    {
     "name": "stdout",
     "output_type": "stream",
     "text": [
      "\r",
      "Epoch 392/1000:  39%|███▉      | 391/1000 [56:02<1:27:57,  8.67s/it, v_num=ow_1, total_loss_train=1.46e+3, kl_local_train=37.5]"
     ]
    },
    {
     "name": "stdout",
     "output_type": "stream",
     "text": [
      "\r",
      "Epoch 392/1000:  39%|███▉      | 392/1000 [56:11<1:27:05,  8.59s/it, v_num=ow_1, total_loss_train=1.46e+3, kl_local_train=37.5]"
     ]
    },
    {
     "name": "stdout",
     "output_type": "stream",
     "text": [
      "\r",
      "Epoch 392/1000:  39%|███▉      | 392/1000 [56:11<1:27:05,  8.59s/it, v_num=ow_1, total_loss_train=1.46e+3, kl_local_train=37.5]"
     ]
    },
    {
     "name": "stdout",
     "output_type": "stream",
     "text": [
      "\r",
      "Epoch 393/1000:  39%|███▉      | 392/1000 [56:11<1:27:05,  8.59s/it, v_num=ow_1, total_loss_train=1.46e+3, kl_local_train=37.5]"
     ]
    },
    {
     "name": "stdout",
     "output_type": "stream",
     "text": [
      "\r",
      "Epoch 393/1000:  39%|███▉      | 393/1000 [56:19<1:25:49,  8.48s/it, v_num=ow_1, total_loss_train=1.46e+3, kl_local_train=37.5]"
     ]
    },
    {
     "name": "stdout",
     "output_type": "stream",
     "text": [
      "\r",
      "Epoch 393/1000:  39%|███▉      | 393/1000 [56:19<1:25:49,  8.48s/it, v_num=ow_1, total_loss_train=1.46e+3, kl_local_train=37.6]"
     ]
    },
    {
     "name": "stdout",
     "output_type": "stream",
     "text": [
      "\r",
      "Epoch 394/1000:  39%|███▉      | 393/1000 [56:19<1:25:49,  8.48s/it, v_num=ow_1, total_loss_train=1.46e+3, kl_local_train=37.6]"
     ]
    },
    {
     "name": "stdout",
     "output_type": "stream",
     "text": [
      "\r",
      "Epoch 394/1000:  39%|███▉      | 394/1000 [56:27<1:23:02,  8.22s/it, v_num=ow_1, total_loss_train=1.46e+3, kl_local_train=37.6]"
     ]
    },
    {
     "name": "stdout",
     "output_type": "stream",
     "text": [
      "\r",
      "Epoch 394/1000:  39%|███▉      | 394/1000 [56:27<1:23:02,  8.22s/it, v_num=ow_1, total_loss_train=1.46e+3, kl_local_train=37.3]"
     ]
    },
    {
     "name": "stdout",
     "output_type": "stream",
     "text": [
      "\r",
      "Epoch 395/1000:  39%|███▉      | 394/1000 [56:27<1:23:02,  8.22s/it, v_num=ow_1, total_loss_train=1.46e+3, kl_local_train=37.3]"
     ]
    },
    {
     "name": "stdout",
     "output_type": "stream",
     "text": [
      "\r",
      "Epoch 395/1000:  40%|███▉      | 395/1000 [56:36<1:27:15,  8.65s/it, v_num=ow_1, total_loss_train=1.46e+3, kl_local_train=37.3]"
     ]
    },
    {
     "name": "stdout",
     "output_type": "stream",
     "text": [
      "\r",
      "Epoch 395/1000:  40%|███▉      | 395/1000 [56:36<1:27:15,  8.65s/it, v_num=ow_1, total_loss_train=1.46e+3, kl_local_train=37.3]"
     ]
    },
    {
     "name": "stdout",
     "output_type": "stream",
     "text": [
      "\r",
      "Epoch 396/1000:  40%|███▉      | 395/1000 [56:36<1:27:15,  8.65s/it, v_num=ow_1, total_loss_train=1.46e+3, kl_local_train=37.3]"
     ]
    },
    {
     "name": "stdout",
     "output_type": "stream",
     "text": [
      "\r",
      "Epoch 396/1000:  40%|███▉      | 396/1000 [56:45<1:27:27,  8.69s/it, v_num=ow_1, total_loss_train=1.46e+3, kl_local_train=37.3]"
     ]
    },
    {
     "name": "stdout",
     "output_type": "stream",
     "text": [
      "\r",
      "Epoch 396/1000:  40%|███▉      | 396/1000 [56:45<1:27:27,  8.69s/it, v_num=ow_1, total_loss_train=1.46e+3, kl_local_train=37.3]"
     ]
    },
    {
     "name": "stdout",
     "output_type": "stream",
     "text": [
      "\r",
      "Epoch 397/1000:  40%|███▉      | 396/1000 [56:45<1:27:27,  8.69s/it, v_num=ow_1, total_loss_train=1.46e+3, kl_local_train=37.3]"
     ]
    },
    {
     "name": "stdout",
     "output_type": "stream",
     "text": [
      "\r",
      "Epoch 397/1000:  40%|███▉      | 397/1000 [56:54<1:27:28,  8.70s/it, v_num=ow_1, total_loss_train=1.46e+3, kl_local_train=37.3]"
     ]
    },
    {
     "name": "stdout",
     "output_type": "stream",
     "text": [
      "\r",
      "Epoch 397/1000:  40%|███▉      | 397/1000 [56:54<1:27:28,  8.70s/it, v_num=ow_1, total_loss_train=1.46e+3, kl_local_train=37.2]"
     ]
    },
    {
     "name": "stdout",
     "output_type": "stream",
     "text": [
      "\r",
      "Epoch 398/1000:  40%|███▉      | 397/1000 [56:54<1:27:28,  8.70s/it, v_num=ow_1, total_loss_train=1.46e+3, kl_local_train=37.2]"
     ]
    },
    {
     "name": "stdout",
     "output_type": "stream",
     "text": [
      "\r",
      "Epoch 398/1000:  40%|███▉      | 398/1000 [57:03<1:27:31,  8.72s/it, v_num=ow_1, total_loss_train=1.46e+3, kl_local_train=37.2]"
     ]
    },
    {
     "name": "stdout",
     "output_type": "stream",
     "text": [
      "\r",
      "Epoch 398/1000:  40%|███▉      | 398/1000 [57:03<1:27:31,  8.72s/it, v_num=ow_1, total_loss_train=1.46e+3, kl_local_train=37.3]"
     ]
    },
    {
     "name": "stdout",
     "output_type": "stream",
     "text": [
      "\r",
      "Epoch 399/1000:  40%|███▉      | 398/1000 [57:03<1:27:31,  8.72s/it, v_num=ow_1, total_loss_train=1.46e+3, kl_local_train=37.3]"
     ]
    },
    {
     "name": "stdout",
     "output_type": "stream",
     "text": [
      "\r",
      "Epoch 399/1000:  40%|███▉      | 399/1000 [57:11<1:27:25,  8.73s/it, v_num=ow_1, total_loss_train=1.46e+3, kl_local_train=37.3]"
     ]
    },
    {
     "name": "stdout",
     "output_type": "stream",
     "text": [
      "\r",
      "Epoch 399/1000:  40%|███▉      | 399/1000 [57:11<1:27:25,  8.73s/it, v_num=ow_1, total_loss_train=1.46e+3, kl_local_train=37.1]"
     ]
    },
    {
     "name": "stdout",
     "output_type": "stream",
     "text": [
      "\r",
      "Epoch 400/1000:  40%|███▉      | 399/1000 [57:11<1:27:25,  8.73s/it, v_num=ow_1, total_loss_train=1.46e+3, kl_local_train=37.1]"
     ]
    },
    {
     "name": "stdout",
     "output_type": "stream",
     "text": [
      "\r",
      "Epoch 400/1000:  40%|████      | 400/1000 [57:19<1:25:18,  8.53s/it, v_num=ow_1, total_loss_train=1.46e+3, kl_local_train=37.1]"
     ]
    },
    {
     "name": "stdout",
     "output_type": "stream",
     "text": [
      "\r",
      "Epoch 400/1000:  40%|████      | 400/1000 [57:19<1:25:18,  8.53s/it, v_num=ow_1, total_loss_train=1.46e+3, kl_local_train=37]  "
     ]
    },
    {
     "name": "stdout",
     "output_type": "stream",
     "text": [
      "\r",
      "Epoch 401/1000:  40%|████      | 400/1000 [57:19<1:25:18,  8.53s/it, v_num=ow_1, total_loss_train=1.46e+3, kl_local_train=37]"
     ]
    },
    {
     "name": "stdout",
     "output_type": "stream",
     "text": [
      "\r",
      "Epoch 401/1000:  40%|████      | 401/1000 [57:27<1:23:22,  8.35s/it, v_num=ow_1, total_loss_train=1.46e+3, kl_local_train=37]"
     ]
    },
    {
     "name": "stdout",
     "output_type": "stream",
     "text": [
      "\r",
      "Epoch 401/1000:  40%|████      | 401/1000 [57:27<1:23:22,  8.35s/it, v_num=ow_1, total_loss_train=1.46e+3, kl_local_train=37.2]"
     ]
    },
    {
     "name": "stdout",
     "output_type": "stream",
     "text": [
      "\r",
      "Epoch 402/1000:  40%|████      | 401/1000 [57:27<1:23:22,  8.35s/it, v_num=ow_1, total_loss_train=1.46e+3, kl_local_train=37.2]"
     ]
    },
    {
     "name": "stdout",
     "output_type": "stream",
     "text": [
      "\r",
      "Epoch 402/1000:  40%|████      | 402/1000 [57:36<1:23:18,  8.36s/it, v_num=ow_1, total_loss_train=1.46e+3, kl_local_train=37.2]"
     ]
    },
    {
     "name": "stdout",
     "output_type": "stream",
     "text": [
      "\r",
      "Epoch 402/1000:  40%|████      | 402/1000 [57:36<1:23:18,  8.36s/it, v_num=ow_1, total_loss_train=1.46e+3, kl_local_train=37.2]"
     ]
    },
    {
     "name": "stdout",
     "output_type": "stream",
     "text": [
      "\r",
      "Epoch 403/1000:  40%|████      | 402/1000 [57:36<1:23:18,  8.36s/it, v_num=ow_1, total_loss_train=1.46e+3, kl_local_train=37.2]"
     ]
    },
    {
     "name": "stdout",
     "output_type": "stream",
     "text": [
      "\r",
      "Epoch 403/1000:  40%|████      | 403/1000 [57:45<1:26:57,  8.74s/it, v_num=ow_1, total_loss_train=1.46e+3, kl_local_train=37.2]"
     ]
    },
    {
     "name": "stdout",
     "output_type": "stream",
     "text": [
      "\r",
      "Epoch 403/1000:  40%|████      | 403/1000 [57:45<1:26:57,  8.74s/it, v_num=ow_1, total_loss_train=1.46e+3, kl_local_train=37.2]"
     ]
    },
    {
     "name": "stdout",
     "output_type": "stream",
     "text": [
      "\r",
      "Epoch 404/1000:  40%|████      | 403/1000 [57:45<1:26:57,  8.74s/it, v_num=ow_1, total_loss_train=1.46e+3, kl_local_train=37.2]"
     ]
    },
    {
     "name": "stdout",
     "output_type": "stream",
     "text": [
      "\r",
      "Epoch 404/1000:  40%|████      | 404/1000 [57:54<1:26:34,  8.71s/it, v_num=ow_1, total_loss_train=1.46e+3, kl_local_train=37.2]"
     ]
    },
    {
     "name": "stdout",
     "output_type": "stream",
     "text": [
      "\r",
      "Epoch 404/1000:  40%|████      | 404/1000 [57:54<1:26:34,  8.71s/it, v_num=ow_1, total_loss_train=1.46e+3, kl_local_train=37.1]"
     ]
    },
    {
     "name": "stdout",
     "output_type": "stream",
     "text": [
      "\r",
      "Epoch 405/1000:  40%|████      | 404/1000 [57:54<1:26:34,  8.71s/it, v_num=ow_1, total_loss_train=1.46e+3, kl_local_train=37.1]"
     ]
    },
    {
     "name": "stdout",
     "output_type": "stream",
     "text": [
      "\r",
      "Epoch 405/1000:  40%|████      | 405/1000 [58:02<1:24:37,  8.53s/it, v_num=ow_1, total_loss_train=1.46e+3, kl_local_train=37.1]"
     ]
    },
    {
     "name": "stdout",
     "output_type": "stream",
     "text": [
      "\r",
      "Epoch 405/1000:  40%|████      | 405/1000 [58:02<1:24:37,  8.53s/it, v_num=ow_1, total_loss_train=1.46e+3, kl_local_train=37]  "
     ]
    },
    {
     "name": "stdout",
     "output_type": "stream",
     "text": [
      "\r",
      "Epoch 406/1000:  40%|████      | 405/1000 [58:02<1:24:37,  8.53s/it, v_num=ow_1, total_loss_train=1.46e+3, kl_local_train=37]"
     ]
    },
    {
     "name": "stdout",
     "output_type": "stream",
     "text": [
      "\r",
      "Epoch 406/1000:  41%|████      | 406/1000 [58:11<1:26:33,  8.74s/it, v_num=ow_1, total_loss_train=1.46e+3, kl_local_train=37]"
     ]
    },
    {
     "name": "stdout",
     "output_type": "stream",
     "text": [
      "\r",
      "Epoch 406/1000:  41%|████      | 406/1000 [58:11<1:26:33,  8.74s/it, v_num=ow_1, total_loss_train=1.46e+3, kl_local_train=37]"
     ]
    },
    {
     "name": "stdout",
     "output_type": "stream",
     "text": [
      "\r",
      "Epoch 407/1000:  41%|████      | 406/1000 [58:11<1:26:33,  8.74s/it, v_num=ow_1, total_loss_train=1.46e+3, kl_local_train=37]"
     ]
    },
    {
     "name": "stdout",
     "output_type": "stream",
     "text": [
      "\r",
      "Epoch 407/1000:  41%|████      | 407/1000 [58:20<1:24:45,  8.58s/it, v_num=ow_1, total_loss_train=1.46e+3, kl_local_train=37]"
     ]
    },
    {
     "name": "stdout",
     "output_type": "stream",
     "text": [
      "\r",
      "Epoch 407/1000:  41%|████      | 407/1000 [58:20<1:24:45,  8.58s/it, v_num=ow_1, total_loss_train=1.46e+3, kl_local_train=37]"
     ]
    },
    {
     "name": "stdout",
     "output_type": "stream",
     "text": [
      "\r",
      "Epoch 408/1000:  41%|████      | 407/1000 [58:20<1:24:45,  8.58s/it, v_num=ow_1, total_loss_train=1.46e+3, kl_local_train=37]"
     ]
    },
    {
     "name": "stdout",
     "output_type": "stream",
     "text": [
      "\r",
      "Epoch 408/1000:  41%|████      | 408/1000 [58:28<1:23:20,  8.45s/it, v_num=ow_1, total_loss_train=1.46e+3, kl_local_train=37]"
     ]
    },
    {
     "name": "stdout",
     "output_type": "stream",
     "text": [
      "\r",
      "Epoch 408/1000:  41%|████      | 408/1000 [58:28<1:23:20,  8.45s/it, v_num=ow_1, total_loss_train=1.46e+3, kl_local_train=37.1]"
     ]
    },
    {
     "name": "stdout",
     "output_type": "stream",
     "text": [
      "\r",
      "Epoch 409/1000:  41%|████      | 408/1000 [58:28<1:23:20,  8.45s/it, v_num=ow_1, total_loss_train=1.46e+3, kl_local_train=37.1]"
     ]
    },
    {
     "name": "stdout",
     "output_type": "stream",
     "text": [
      "\r",
      "Epoch 409/1000:  41%|████      | 409/1000 [58:37<1:26:41,  8.80s/it, v_num=ow_1, total_loss_train=1.46e+3, kl_local_train=37.1]"
     ]
    },
    {
     "name": "stdout",
     "output_type": "stream",
     "text": [
      "\r",
      "Epoch 409/1000:  41%|████      | 409/1000 [58:37<1:26:41,  8.80s/it, v_num=ow_1, total_loss_train=1.46e+3, kl_local_train=37.1]"
     ]
    },
    {
     "name": "stdout",
     "output_type": "stream",
     "text": [
      "\r",
      "Epoch 410/1000:  41%|████      | 409/1000 [58:37<1:26:41,  8.80s/it, v_num=ow_1, total_loss_train=1.46e+3, kl_local_train=37.1]"
     ]
    },
    {
     "name": "stdout",
     "output_type": "stream",
     "text": [
      "\r",
      "Epoch 410/1000:  41%|████      | 410/1000 [58:47<1:28:29,  9.00s/it, v_num=ow_1, total_loss_train=1.46e+3, kl_local_train=37.1]"
     ]
    },
    {
     "name": "stdout",
     "output_type": "stream",
     "text": [
      "\r",
      "Epoch 410/1000:  41%|████      | 410/1000 [58:47<1:28:29,  9.00s/it, v_num=ow_1, total_loss_train=1.46e+3, kl_local_train=37.2]"
     ]
    },
    {
     "name": "stdout",
     "output_type": "stream",
     "text": [
      "\r",
      "Epoch 411/1000:  41%|████      | 410/1000 [58:47<1:28:29,  9.00s/it, v_num=ow_1, total_loss_train=1.46e+3, kl_local_train=37.2]"
     ]
    },
    {
     "name": "stdout",
     "output_type": "stream",
     "text": [
      "\r",
      "Epoch 411/1000:  41%|████      | 411/1000 [58:55<1:26:21,  8.80s/it, v_num=ow_1, total_loss_train=1.46e+3, kl_local_train=37.2]"
     ]
    },
    {
     "name": "stdout",
     "output_type": "stream",
     "text": [
      "\r",
      "Epoch 411/1000:  41%|████      | 411/1000 [58:55<1:26:21,  8.80s/it, v_num=ow_1, total_loss_train=1.46e+3, kl_local_train=37]  "
     ]
    },
    {
     "name": "stdout",
     "output_type": "stream",
     "text": [
      "\r",
      "Epoch 412/1000:  41%|████      | 411/1000 [58:55<1:26:21,  8.80s/it, v_num=ow_1, total_loss_train=1.46e+3, kl_local_train=37]"
     ]
    },
    {
     "name": "stdout",
     "output_type": "stream",
     "text": [
      "\r",
      "Epoch 412/1000:  41%|████      | 412/1000 [59:04<1:25:01,  8.68s/it, v_num=ow_1, total_loss_train=1.46e+3, kl_local_train=37]"
     ]
    },
    {
     "name": "stdout",
     "output_type": "stream",
     "text": [
      "\r",
      "Epoch 412/1000:  41%|████      | 412/1000 [59:04<1:25:01,  8.68s/it, v_num=ow_1, total_loss_train=1.46e+3, kl_local_train=37]"
     ]
    },
    {
     "name": "stdout",
     "output_type": "stream",
     "text": [
      "\r",
      "Epoch 413/1000:  41%|████      | 412/1000 [59:04<1:25:01,  8.68s/it, v_num=ow_1, total_loss_train=1.46e+3, kl_local_train=37]"
     ]
    },
    {
     "name": "stdout",
     "output_type": "stream",
     "text": [
      "\r",
      "Epoch 413/1000:  41%|████▏     | 413/1000 [59:12<1:24:25,  8.63s/it, v_num=ow_1, total_loss_train=1.46e+3, kl_local_train=37]"
     ]
    },
    {
     "name": "stdout",
     "output_type": "stream",
     "text": [
      "\r",
      "Epoch 413/1000:  41%|████▏     | 413/1000 [59:12<1:24:25,  8.63s/it, v_num=ow_1, total_loss_train=1.46e+3, kl_local_train=36.9]"
     ]
    },
    {
     "name": "stdout",
     "output_type": "stream",
     "text": [
      "\r",
      "Epoch 414/1000:  41%|████▏     | 413/1000 [59:12<1:24:25,  8.63s/it, v_num=ow_1, total_loss_train=1.46e+3, kl_local_train=36.9]"
     ]
    },
    {
     "name": "stdout",
     "output_type": "stream",
     "text": [
      "\r",
      "Epoch 414/1000:  41%|████▏     | 414/1000 [59:20<1:23:12,  8.52s/it, v_num=ow_1, total_loss_train=1.46e+3, kl_local_train=36.9]"
     ]
    },
    {
     "name": "stdout",
     "output_type": "stream",
     "text": [
      "\r",
      "Epoch 414/1000:  41%|████▏     | 414/1000 [59:20<1:23:12,  8.52s/it, v_num=ow_1, total_loss_train=1.46e+3, kl_local_train=37.1]"
     ]
    },
    {
     "name": "stdout",
     "output_type": "stream",
     "text": [
      "\r",
      "Epoch 415/1000:  41%|████▏     | 414/1000 [59:20<1:23:12,  8.52s/it, v_num=ow_1, total_loss_train=1.46e+3, kl_local_train=37.1]"
     ]
    },
    {
     "name": "stdout",
     "output_type": "stream",
     "text": [
      "\r",
      "Epoch 415/1000:  42%|████▏     | 415/1000 [59:29<1:22:18,  8.44s/it, v_num=ow_1, total_loss_train=1.46e+3, kl_local_train=37.1]"
     ]
    },
    {
     "name": "stdout",
     "output_type": "stream",
     "text": [
      "\r",
      "Epoch 415/1000:  42%|████▏     | 415/1000 [59:29<1:22:18,  8.44s/it, v_num=ow_1, total_loss_train=1.46e+3, kl_local_train=37.1]"
     ]
    },
    {
     "name": "stdout",
     "output_type": "stream",
     "text": [
      "\r",
      "Epoch 416/1000:  42%|████▏     | 415/1000 [59:29<1:22:18,  8.44s/it, v_num=ow_1, total_loss_train=1.46e+3, kl_local_train=37.1]"
     ]
    },
    {
     "name": "stdout",
     "output_type": "stream",
     "text": [
      "\r",
      "Epoch 416/1000:  42%|████▏     | 416/1000 [59:37<1:21:55,  8.42s/it, v_num=ow_1, total_loss_train=1.46e+3, kl_local_train=37.1]"
     ]
    },
    {
     "name": "stdout",
     "output_type": "stream",
     "text": [
      "\r",
      "Epoch 416/1000:  42%|████▏     | 416/1000 [59:37<1:21:55,  8.42s/it, v_num=ow_1, total_loss_train=1.46e+3, kl_local_train=37.2]"
     ]
    },
    {
     "name": "stdout",
     "output_type": "stream",
     "text": [
      "\r",
      "Epoch 417/1000:  42%|████▏     | 416/1000 [59:37<1:21:55,  8.42s/it, v_num=ow_1, total_loss_train=1.46e+3, kl_local_train=37.2]"
     ]
    },
    {
     "name": "stdout",
     "output_type": "stream",
     "text": [
      "\r",
      "Epoch 417/1000:  42%|████▏     | 417/1000 [59:45<1:20:04,  8.24s/it, v_num=ow_1, total_loss_train=1.46e+3, kl_local_train=37.2]"
     ]
    },
    {
     "name": "stdout",
     "output_type": "stream",
     "text": [
      "\r",
      "Epoch 417/1000:  42%|████▏     | 417/1000 [59:45<1:20:04,  8.24s/it, v_num=ow_1, total_loss_train=1.46e+3, kl_local_train=36.9]"
     ]
    },
    {
     "name": "stdout",
     "output_type": "stream",
     "text": [
      "\r",
      "Epoch 418/1000:  42%|████▏     | 417/1000 [59:45<1:20:04,  8.24s/it, v_num=ow_1, total_loss_train=1.46e+3, kl_local_train=36.9]"
     ]
    },
    {
     "name": "stdout",
     "output_type": "stream",
     "text": [
      "\r",
      "Epoch 418/1000:  42%|████▏     | 418/1000 [59:53<1:19:11,  8.16s/it, v_num=ow_1, total_loss_train=1.46e+3, kl_local_train=36.9]"
     ]
    },
    {
     "name": "stdout",
     "output_type": "stream",
     "text": [
      "\r",
      "Epoch 418/1000:  42%|████▏     | 418/1000 [59:53<1:19:11,  8.16s/it, v_num=ow_1, total_loss_train=1.46e+3, kl_local_train=37]  "
     ]
    },
    {
     "name": "stdout",
     "output_type": "stream",
     "text": [
      "\r",
      "Epoch 419/1000:  42%|████▏     | 418/1000 [59:53<1:19:11,  8.16s/it, v_num=ow_1, total_loss_train=1.46e+3, kl_local_train=37]"
     ]
    },
    {
     "name": "stdout",
     "output_type": "stream",
     "text": [
      "\r",
      "Epoch 419/1000:  42%|████▏     | 419/1000 [1:00:02<1:22:38,  8.53s/it, v_num=ow_1, total_loss_train=1.46e+3, kl_local_train=37]"
     ]
    },
    {
     "name": "stdout",
     "output_type": "stream",
     "text": [
      "\r",
      "Epoch 419/1000:  42%|████▏     | 419/1000 [1:00:02<1:22:38,  8.53s/it, v_num=ow_1, total_loss_train=1.46e+3, kl_local_train=37]"
     ]
    },
    {
     "name": "stdout",
     "output_type": "stream",
     "text": [
      "\r",
      "Epoch 420/1000:  42%|████▏     | 419/1000 [1:00:02<1:22:38,  8.53s/it, v_num=ow_1, total_loss_train=1.46e+3, kl_local_train=37]"
     ]
    },
    {
     "name": "stdout",
     "output_type": "stream",
     "text": [
      "\r",
      "Epoch 420/1000:  42%|████▏     | 420/1000 [1:00:12<1:27:01,  9.00s/it, v_num=ow_1, total_loss_train=1.46e+3, kl_local_train=37]"
     ]
    },
    {
     "name": "stdout",
     "output_type": "stream",
     "text": [
      "\r",
      "Epoch 420/1000:  42%|████▏     | 420/1000 [1:00:12<1:27:01,  9.00s/it, v_num=ow_1, total_loss_train=1.46e+3, kl_local_train=37]"
     ]
    },
    {
     "name": "stdout",
     "output_type": "stream",
     "text": [
      "\r",
      "Epoch 421/1000:  42%|████▏     | 420/1000 [1:00:12<1:27:01,  9.00s/it, v_num=ow_1, total_loss_train=1.46e+3, kl_local_train=37]"
     ]
    },
    {
     "name": "stdout",
     "output_type": "stream",
     "text": [
      "\r",
      "Epoch 421/1000:  42%|████▏     | 421/1000 [1:00:21<1:26:07,  8.93s/it, v_num=ow_1, total_loss_train=1.46e+3, kl_local_train=37]"
     ]
    },
    {
     "name": "stdout",
     "output_type": "stream",
     "text": [
      "\r",
      "Epoch 421/1000:  42%|████▏     | 421/1000 [1:00:21<1:26:07,  8.93s/it, v_num=ow_1, total_loss_train=1.46e+3, kl_local_train=37.2]"
     ]
    },
    {
     "name": "stdout",
     "output_type": "stream",
     "text": [
      "\r",
      "Epoch 422/1000:  42%|████▏     | 421/1000 [1:00:21<1:26:07,  8.93s/it, v_num=ow_1, total_loss_train=1.46e+3, kl_local_train=37.2]"
     ]
    },
    {
     "name": "stdout",
     "output_type": "stream",
     "text": [
      "\r",
      "Epoch 422/1000:  42%|████▏     | 422/1000 [1:00:29<1:23:01,  8.62s/it, v_num=ow_1, total_loss_train=1.46e+3, kl_local_train=37.2]"
     ]
    },
    {
     "name": "stdout",
     "output_type": "stream",
     "text": [
      "\r",
      "Epoch 422/1000:  42%|████▏     | 422/1000 [1:00:29<1:23:01,  8.62s/it, v_num=ow_1, total_loss_train=1.46e+3, kl_local_train=37.2]"
     ]
    },
    {
     "name": "stdout",
     "output_type": "stream",
     "text": [
      "\r",
      "Epoch 423/1000:  42%|████▏     | 422/1000 [1:00:29<1:23:01,  8.62s/it, v_num=ow_1, total_loss_train=1.46e+3, kl_local_train=37.2]"
     ]
    },
    {
     "name": "stdout",
     "output_type": "stream",
     "text": [
      "\r",
      "Epoch 423/1000:  42%|████▏     | 423/1000 [1:00:37<1:21:57,  8.52s/it, v_num=ow_1, total_loss_train=1.46e+3, kl_local_train=37.2]"
     ]
    },
    {
     "name": "stdout",
     "output_type": "stream",
     "text": [
      "\r",
      "Epoch 423/1000:  42%|████▏     | 423/1000 [1:00:37<1:21:57,  8.52s/it, v_num=ow_1, total_loss_train=1.46e+3, kl_local_train=37]  "
     ]
    },
    {
     "name": "stdout",
     "output_type": "stream",
     "text": [
      "\r",
      "Epoch 424/1000:  42%|████▏     | 423/1000 [1:00:37<1:21:57,  8.52s/it, v_num=ow_1, total_loss_train=1.46e+3, kl_local_train=37]"
     ]
    },
    {
     "name": "stdout",
     "output_type": "stream",
     "text": [
      "\r",
      "Epoch 424/1000:  42%|████▏     | 424/1000 [1:00:45<1:20:56,  8.43s/it, v_num=ow_1, total_loss_train=1.46e+3, kl_local_train=37]"
     ]
    },
    {
     "name": "stdout",
     "output_type": "stream",
     "text": [
      "\r",
      "Epoch 424/1000:  42%|████▏     | 424/1000 [1:00:45<1:20:56,  8.43s/it, v_num=ow_1, total_loss_train=1.46e+3, kl_local_train=37.1]"
     ]
    },
    {
     "name": "stdout",
     "output_type": "stream",
     "text": [
      "\r",
      "Epoch 425/1000:  42%|████▏     | 424/1000 [1:00:45<1:20:56,  8.43s/it, v_num=ow_1, total_loss_train=1.46e+3, kl_local_train=37.1]"
     ]
    },
    {
     "name": "stdout",
     "output_type": "stream",
     "text": [
      "\r",
      "Epoch 425/1000:  42%|████▎     | 425/1000 [1:00:54<1:20:07,  8.36s/it, v_num=ow_1, total_loss_train=1.46e+3, kl_local_train=37.1]"
     ]
    },
    {
     "name": "stdout",
     "output_type": "stream",
     "text": [
      "\r",
      "Epoch 425/1000:  42%|████▎     | 425/1000 [1:00:54<1:20:07,  8.36s/it, v_num=ow_1, total_loss_train=1.46e+3, kl_local_train=37.2]"
     ]
    },
    {
     "name": "stdout",
     "output_type": "stream",
     "text": [
      "\r",
      "Epoch 426/1000:  42%|████▎     | 425/1000 [1:00:54<1:20:07,  8.36s/it, v_num=ow_1, total_loss_train=1.46e+3, kl_local_train=37.2]"
     ]
    },
    {
     "name": "stdout",
     "output_type": "stream",
     "text": [
      "\r",
      "Epoch 426/1000:  43%|████▎     | 426/1000 [1:01:02<1:18:37,  8.22s/it, v_num=ow_1, total_loss_train=1.46e+3, kl_local_train=37.2]"
     ]
    },
    {
     "name": "stdout",
     "output_type": "stream",
     "text": [
      "\r",
      "Epoch 426/1000:  43%|████▎     | 426/1000 [1:01:02<1:18:37,  8.22s/it, v_num=ow_1, total_loss_train=1.46e+3, kl_local_train=36.9]"
     ]
    },
    {
     "name": "stdout",
     "output_type": "stream",
     "text": [
      "\r",
      "Epoch 427/1000:  43%|████▎     | 426/1000 [1:01:02<1:18:37,  8.22s/it, v_num=ow_1, total_loss_train=1.46e+3, kl_local_train=36.9]"
     ]
    },
    {
     "name": "stdout",
     "output_type": "stream",
     "text": [
      "\r",
      "Epoch 427/1000:  43%|████▎     | 427/1000 [1:01:10<1:18:23,  8.21s/it, v_num=ow_1, total_loss_train=1.46e+3, kl_local_train=36.9]"
     ]
    },
    {
     "name": "stdout",
     "output_type": "stream",
     "text": [
      "\r",
      "Epoch 427/1000:  43%|████▎     | 427/1000 [1:01:10<1:18:23,  8.21s/it, v_num=ow_1, total_loss_train=1.46e+3, kl_local_train=37.2]"
     ]
    },
    {
     "name": "stdout",
     "output_type": "stream",
     "text": [
      "\r",
      "Epoch 428/1000:  43%|████▎     | 427/1000 [1:01:10<1:18:23,  8.21s/it, v_num=ow_1, total_loss_train=1.46e+3, kl_local_train=37.2]"
     ]
    },
    {
     "name": "stdout",
     "output_type": "stream",
     "text": [
      "\r",
      "Epoch 428/1000:  43%|████▎     | 428/1000 [1:01:18<1:18:15,  8.21s/it, v_num=ow_1, total_loss_train=1.46e+3, kl_local_train=37.2]"
     ]
    },
    {
     "name": "stdout",
     "output_type": "stream",
     "text": [
      "\r",
      "Epoch 428/1000:  43%|████▎     | 428/1000 [1:01:18<1:18:15,  8.21s/it, v_num=ow_1, total_loss_train=1.46e+3, kl_local_train=36.9]"
     ]
    },
    {
     "name": "stdout",
     "output_type": "stream",
     "text": [
      "\r",
      "Epoch 429/1000:  43%|████▎     | 428/1000 [1:01:18<1:18:15,  8.21s/it, v_num=ow_1, total_loss_train=1.46e+3, kl_local_train=36.9]"
     ]
    },
    {
     "name": "stdout",
     "output_type": "stream",
     "text": [
      "\r",
      "Epoch 429/1000:  43%|████▎     | 429/1000 [1:01:26<1:18:41,  8.27s/it, v_num=ow_1, total_loss_train=1.46e+3, kl_local_train=36.9]"
     ]
    },
    {
     "name": "stdout",
     "output_type": "stream",
     "text": [
      "\r",
      "Epoch 429/1000:  43%|████▎     | 429/1000 [1:01:26<1:18:41,  8.27s/it, v_num=ow_1, total_loss_train=1.46e+3, kl_local_train=37.2]"
     ]
    },
    {
     "name": "stdout",
     "output_type": "stream",
     "text": [
      "\r",
      "Epoch 430/1000:  43%|████▎     | 429/1000 [1:01:26<1:18:41,  8.27s/it, v_num=ow_1, total_loss_train=1.46e+3, kl_local_train=37.2]"
     ]
    },
    {
     "name": "stdout",
     "output_type": "stream",
     "text": [
      "\r",
      "Epoch 430/1000:  43%|████▎     | 430/1000 [1:01:34<1:17:37,  8.17s/it, v_num=ow_1, total_loss_train=1.46e+3, kl_local_train=37.2]"
     ]
    },
    {
     "name": "stdout",
     "output_type": "stream",
     "text": [
      "\r",
      "Epoch 430/1000:  43%|████▎     | 430/1000 [1:01:34<1:17:37,  8.17s/it, v_num=ow_1, total_loss_train=1.46e+3, kl_local_train=37.1]"
     ]
    },
    {
     "name": "stdout",
     "output_type": "stream",
     "text": [
      "\r",
      "Epoch 431/1000:  43%|████▎     | 430/1000 [1:01:34<1:17:37,  8.17s/it, v_num=ow_1, total_loss_train=1.46e+3, kl_local_train=37.1]"
     ]
    },
    {
     "name": "stdout",
     "output_type": "stream",
     "text": [
      "\r",
      "Epoch 431/1000:  43%|████▎     | 431/1000 [1:01:43<1:19:01,  8.33s/it, v_num=ow_1, total_loss_train=1.46e+3, kl_local_train=37.1]"
     ]
    },
    {
     "name": "stdout",
     "output_type": "stream",
     "text": [
      "\r",
      "Epoch 431/1000:  43%|████▎     | 431/1000 [1:01:43<1:19:01,  8.33s/it, v_num=ow_1, total_loss_train=1.46e+3, kl_local_train=37.2]"
     ]
    },
    {
     "name": "stdout",
     "output_type": "stream",
     "text": [
      "\r",
      "Epoch 432/1000:  43%|████▎     | 431/1000 [1:01:43<1:19:01,  8.33s/it, v_num=ow_1, total_loss_train=1.46e+3, kl_local_train=37.2]"
     ]
    },
    {
     "name": "stdout",
     "output_type": "stream",
     "text": [
      "\r",
      "Epoch 432/1000:  43%|████▎     | 432/1000 [1:01:52<1:19:58,  8.45s/it, v_num=ow_1, total_loss_train=1.46e+3, kl_local_train=37.2]"
     ]
    },
    {
     "name": "stdout",
     "output_type": "stream",
     "text": [
      "\r",
      "Epoch 432/1000:  43%|████▎     | 432/1000 [1:01:52<1:19:58,  8.45s/it, v_num=ow_1, total_loss_train=1.46e+3, kl_local_train=37]  "
     ]
    },
    {
     "name": "stdout",
     "output_type": "stream",
     "text": [
      "\r",
      "Epoch 433/1000:  43%|████▎     | 432/1000 [1:01:52<1:19:58,  8.45s/it, v_num=ow_1, total_loss_train=1.46e+3, kl_local_train=37]"
     ]
    },
    {
     "name": "stdout",
     "output_type": "stream",
     "text": [
      "\r",
      "Epoch 433/1000:  43%|████▎     | 433/1000 [1:02:00<1:20:05,  8.48s/it, v_num=ow_1, total_loss_train=1.46e+3, kl_local_train=37]"
     ]
    },
    {
     "name": "stdout",
     "output_type": "stream",
     "text": [
      "\r",
      "Epoch 433/1000:  43%|████▎     | 433/1000 [1:02:00<1:20:05,  8.48s/it, v_num=ow_1, total_loss_train=1.46e+3, kl_local_train=37.1]"
     ]
    },
    {
     "name": "stdout",
     "output_type": "stream",
     "text": [
      "\r",
      "Epoch 434/1000:  43%|████▎     | 433/1000 [1:02:00<1:20:05,  8.48s/it, v_num=ow_1, total_loss_train=1.46e+3, kl_local_train=37.1]"
     ]
    },
    {
     "name": "stdout",
     "output_type": "stream",
     "text": [
      "\r",
      "Epoch 434/1000:  43%|████▎     | 434/1000 [1:02:09<1:21:51,  8.68s/it, v_num=ow_1, total_loss_train=1.46e+3, kl_local_train=37.1]"
     ]
    },
    {
     "name": "stdout",
     "output_type": "stream",
     "text": [
      "\r",
      "Epoch 434/1000:  43%|████▎     | 434/1000 [1:02:09<1:21:51,  8.68s/it, v_num=ow_1, total_loss_train=1.46e+3, kl_local_train=37.1]"
     ]
    },
    {
     "name": "stdout",
     "output_type": "stream",
     "text": [
      "\r",
      "Epoch 435/1000:  43%|████▎     | 434/1000 [1:02:09<1:21:51,  8.68s/it, v_num=ow_1, total_loss_train=1.46e+3, kl_local_train=37.1]"
     ]
    },
    {
     "name": "stdout",
     "output_type": "stream",
     "text": [
      "\r",
      "Epoch 435/1000:  44%|████▎     | 435/1000 [1:02:18<1:20:21,  8.53s/it, v_num=ow_1, total_loss_train=1.46e+3, kl_local_train=37.1]"
     ]
    },
    {
     "name": "stdout",
     "output_type": "stream",
     "text": [
      "\r",
      "Epoch 435/1000:  44%|████▎     | 435/1000 [1:02:18<1:20:21,  8.53s/it, v_num=ow_1, total_loss_train=1.46e+3, kl_local_train=37.1]"
     ]
    },
    {
     "name": "stdout",
     "output_type": "stream",
     "text": [
      "\r",
      "Epoch 436/1000:  44%|████▎     | 435/1000 [1:02:18<1:20:21,  8.53s/it, v_num=ow_1, total_loss_train=1.46e+3, kl_local_train=37.1]"
     ]
    },
    {
     "name": "stdout",
     "output_type": "stream",
     "text": [
      "\r",
      "Epoch 436/1000:  44%|████▎     | 436/1000 [1:02:26<1:19:01,  8.41s/it, v_num=ow_1, total_loss_train=1.46e+3, kl_local_train=37.1]"
     ]
    },
    {
     "name": "stdout",
     "output_type": "stream",
     "text": [
      "\r",
      "Epoch 436/1000:  44%|████▎     | 436/1000 [1:02:26<1:19:01,  8.41s/it, v_num=ow_1, total_loss_train=1.46e+3, kl_local_train=37]  "
     ]
    },
    {
     "name": "stdout",
     "output_type": "stream",
     "text": [
      "\r",
      "Epoch 437/1000:  44%|████▎     | 436/1000 [1:02:26<1:19:01,  8.41s/it, v_num=ow_1, total_loss_train=1.46e+3, kl_local_train=37]"
     ]
    },
    {
     "name": "stdout",
     "output_type": "stream",
     "text": [
      "\r",
      "Epoch 437/1000:  44%|████▎     | 437/1000 [1:02:33<1:15:44,  8.07s/it, v_num=ow_1, total_loss_train=1.46e+3, kl_local_train=37]"
     ]
    },
    {
     "name": "stdout",
     "output_type": "stream",
     "text": [
      "\r",
      "Epoch 437/1000:  44%|████▎     | 437/1000 [1:02:33<1:15:44,  8.07s/it, v_num=ow_1, total_loss_train=1.46e+3, kl_local_train=37.1]"
     ]
    },
    {
     "name": "stdout",
     "output_type": "stream",
     "text": [
      "\r",
      "Epoch 438/1000:  44%|████▎     | 437/1000 [1:02:33<1:15:44,  8.07s/it, v_num=ow_1, total_loss_train=1.46e+3, kl_local_train=37.1]"
     ]
    },
    {
     "name": "stdout",
     "output_type": "stream",
     "text": [
      "\r",
      "Epoch 438/1000:  44%|████▍     | 438/1000 [1:02:41<1:15:39,  8.08s/it, v_num=ow_1, total_loss_train=1.46e+3, kl_local_train=37.1]"
     ]
    },
    {
     "name": "stdout",
     "output_type": "stream",
     "text": [
      "\r",
      "Epoch 438/1000:  44%|████▍     | 438/1000 [1:02:41<1:15:39,  8.08s/it, v_num=ow_1, total_loss_train=1.46e+3, kl_local_train=37.1]"
     ]
    },
    {
     "name": "stdout",
     "output_type": "stream",
     "text": [
      "\r",
      "Epoch 439/1000:  44%|████▍     | 438/1000 [1:02:41<1:15:39,  8.08s/it, v_num=ow_1, total_loss_train=1.46e+3, kl_local_train=37.1]"
     ]
    },
    {
     "name": "stdout",
     "output_type": "stream",
     "text": [
      "\r",
      "Epoch 439/1000:  44%|████▍     | 439/1000 [1:02:50<1:18:35,  8.41s/it, v_num=ow_1, total_loss_train=1.46e+3, kl_local_train=37.1]"
     ]
    },
    {
     "name": "stdout",
     "output_type": "stream",
     "text": [
      "\r",
      "Epoch 439/1000:  44%|████▍     | 439/1000 [1:02:50<1:18:35,  8.41s/it, v_num=ow_1, total_loss_train=1.46e+3, kl_local_train=37.2]"
     ]
    },
    {
     "name": "stdout",
     "output_type": "stream",
     "text": [
      "\r",
      "Epoch 440/1000:  44%|████▍     | 439/1000 [1:02:50<1:18:35,  8.41s/it, v_num=ow_1, total_loss_train=1.46e+3, kl_local_train=37.2]"
     ]
    },
    {
     "name": "stdout",
     "output_type": "stream",
     "text": [
      "\r",
      "Epoch 440/1000:  44%|████▍     | 440/1000 [1:02:59<1:19:27,  8.51s/it, v_num=ow_1, total_loss_train=1.46e+3, kl_local_train=37.2]"
     ]
    },
    {
     "name": "stdout",
     "output_type": "stream",
     "text": [
      "\r",
      "Epoch 440/1000:  44%|████▍     | 440/1000 [1:02:59<1:19:27,  8.51s/it, v_num=ow_1, total_loss_train=1.46e+3, kl_local_train=37.1]"
     ]
    },
    {
     "name": "stdout",
     "output_type": "stream",
     "text": [
      "\r",
      "Epoch 441/1000:  44%|████▍     | 440/1000 [1:02:59<1:19:27,  8.51s/it, v_num=ow_1, total_loss_train=1.46e+3, kl_local_train=37.1]"
     ]
    },
    {
     "name": "stdout",
     "output_type": "stream",
     "text": [
      "\r",
      "Epoch 441/1000:  44%|████▍     | 441/1000 [1:03:08<1:19:41,  8.55s/it, v_num=ow_1, total_loss_train=1.46e+3, kl_local_train=37.1]"
     ]
    },
    {
     "name": "stdout",
     "output_type": "stream",
     "text": [
      "\r",
      "Epoch 441/1000:  44%|████▍     | 441/1000 [1:03:08<1:19:41,  8.55s/it, v_num=ow_1, total_loss_train=1.46e+3, kl_local_train=37]  "
     ]
    },
    {
     "name": "stdout",
     "output_type": "stream",
     "text": [
      "\r",
      "Epoch 442/1000:  44%|████▍     | 441/1000 [1:03:08<1:19:41,  8.55s/it, v_num=ow_1, total_loss_train=1.46e+3, kl_local_train=37]"
     ]
    },
    {
     "name": "stdout",
     "output_type": "stream",
     "text": [
      "\r",
      "Epoch 442/1000:  44%|████▍     | 442/1000 [1:03:15<1:17:28,  8.33s/it, v_num=ow_1, total_loss_train=1.46e+3, kl_local_train=37]"
     ]
    },
    {
     "name": "stdout",
     "output_type": "stream",
     "text": [
      "\r",
      "Epoch 442/1000:  44%|████▍     | 442/1000 [1:03:15<1:17:28,  8.33s/it, v_num=ow_1, total_loss_train=1.46e+3, kl_local_train=37.3]"
     ]
    },
    {
     "name": "stdout",
     "output_type": "stream",
     "text": [
      "\r",
      "Epoch 443/1000:  44%|████▍     | 442/1000 [1:03:15<1:17:28,  8.33s/it, v_num=ow_1, total_loss_train=1.46e+3, kl_local_train=37.3]"
     ]
    },
    {
     "name": "stdout",
     "output_type": "stream",
     "text": [
      "\r",
      "Epoch 443/1000:  44%|████▍     | 443/1000 [1:03:23<1:16:24,  8.23s/it, v_num=ow_1, total_loss_train=1.46e+3, kl_local_train=37.3]"
     ]
    },
    {
     "name": "stdout",
     "output_type": "stream",
     "text": [
      "\r",
      "Epoch 443/1000:  44%|████▍     | 443/1000 [1:03:23<1:16:24,  8.23s/it, v_num=ow_1, total_loss_train=1.46e+3, kl_local_train=37.1]"
     ]
    },
    {
     "name": "stdout",
     "output_type": "stream",
     "text": [
      "\r",
      "Epoch 444/1000:  44%|████▍     | 443/1000 [1:03:23<1:16:24,  8.23s/it, v_num=ow_1, total_loss_train=1.46e+3, kl_local_train=37.1]"
     ]
    },
    {
     "name": "stdout",
     "output_type": "stream",
     "text": [
      "\r",
      "Epoch 444/1000:  44%|████▍     | 444/1000 [1:03:32<1:17:31,  8.37s/it, v_num=ow_1, total_loss_train=1.46e+3, kl_local_train=37.1]"
     ]
    },
    {
     "name": "stdout",
     "output_type": "stream",
     "text": [
      "\r",
      "Epoch 444/1000:  44%|████▍     | 444/1000 [1:03:32<1:17:31,  8.37s/it, v_num=ow_1, total_loss_train=1.46e+3, kl_local_train=37.2]"
     ]
    },
    {
     "name": "stdout",
     "output_type": "stream",
     "text": [
      "\r",
      "Epoch 445/1000:  44%|████▍     | 444/1000 [1:03:32<1:17:31,  8.37s/it, v_num=ow_1, total_loss_train=1.46e+3, kl_local_train=37.2]"
     ]
    },
    {
     "name": "stdout",
     "output_type": "stream",
     "text": [
      "\r",
      "Epoch 445/1000:  44%|████▍     | 445/1000 [1:03:41<1:17:38,  8.39s/it, v_num=ow_1, total_loss_train=1.46e+3, kl_local_train=37.2]"
     ]
    },
    {
     "name": "stdout",
     "output_type": "stream",
     "text": [
      "\r",
      "Epoch 445/1000:  44%|████▍     | 445/1000 [1:03:41<1:17:38,  8.39s/it, v_num=ow_1, total_loss_train=1.46e+3, kl_local_train=37.2]"
     ]
    },
    {
     "name": "stdout",
     "output_type": "stream",
     "text": [
      "\r",
      "Epoch 446/1000:  44%|████▍     | 445/1000 [1:03:41<1:17:38,  8.39s/it, v_num=ow_1, total_loss_train=1.46e+3, kl_local_train=37.2]"
     ]
    },
    {
     "name": "stdout",
     "output_type": "stream",
     "text": [
      "\r",
      "Epoch 446/1000:  45%|████▍     | 446/1000 [1:03:48<1:15:48,  8.21s/it, v_num=ow_1, total_loss_train=1.46e+3, kl_local_train=37.2]"
     ]
    },
    {
     "name": "stdout",
     "output_type": "stream",
     "text": [
      "\r",
      "Epoch 446/1000:  45%|████▍     | 446/1000 [1:03:48<1:15:48,  8.21s/it, v_num=ow_1, total_loss_train=1.46e+3, kl_local_train=37.2]"
     ]
    },
    {
     "name": "stdout",
     "output_type": "stream",
     "text": [
      "\r",
      "Epoch 447/1000:  45%|████▍     | 446/1000 [1:03:48<1:15:48,  8.21s/it, v_num=ow_1, total_loss_train=1.46e+3, kl_local_train=37.2]"
     ]
    },
    {
     "name": "stdout",
     "output_type": "stream",
     "text": [
      "\r",
      "Epoch 447/1000:  45%|████▍     | 447/1000 [1:03:57<1:16:44,  8.33s/it, v_num=ow_1, total_loss_train=1.46e+3, kl_local_train=37.2]"
     ]
    },
    {
     "name": "stdout",
     "output_type": "stream",
     "text": [
      "\r",
      "Epoch 447/1000:  45%|████▍     | 447/1000 [1:03:57<1:16:44,  8.33s/it, v_num=ow_1, total_loss_train=1.46e+3, kl_local_train=37.1]"
     ]
    },
    {
     "name": "stdout",
     "output_type": "stream",
     "text": [
      "\r",
      "Epoch 448/1000:  45%|████▍     | 447/1000 [1:03:57<1:16:44,  8.33s/it, v_num=ow_1, total_loss_train=1.46e+3, kl_local_train=37.1]"
     ]
    },
    {
     "name": "stdout",
     "output_type": "stream",
     "text": [
      "\r",
      "Epoch 448/1000:  45%|████▍     | 448/1000 [1:04:04<1:14:21,  8.08s/it, v_num=ow_1, total_loss_train=1.46e+3, kl_local_train=37.1]"
     ]
    },
    {
     "name": "stdout",
     "output_type": "stream",
     "text": [
      "\r",
      "Epoch 448/1000:  45%|████▍     | 448/1000 [1:04:04<1:14:21,  8.08s/it, v_num=ow_1, total_loss_train=1.46e+3, kl_local_train=37.1]"
     ]
    },
    {
     "name": "stdout",
     "output_type": "stream",
     "text": [
      "\r",
      "Epoch 449/1000:  45%|████▍     | 448/1000 [1:04:04<1:14:21,  8.08s/it, v_num=ow_1, total_loss_train=1.46e+3, kl_local_train=37.1]"
     ]
    },
    {
     "name": "stdout",
     "output_type": "stream",
     "text": [
      "\r",
      "Epoch 449/1000:  45%|████▍     | 449/1000 [1:04:12<1:12:23,  7.88s/it, v_num=ow_1, total_loss_train=1.46e+3, kl_local_train=37.1]"
     ]
    },
    {
     "name": "stdout",
     "output_type": "stream",
     "text": [
      "\r",
      "Epoch 449/1000:  45%|████▍     | 449/1000 [1:04:12<1:12:23,  7.88s/it, v_num=ow_1, total_loss_train=1.46e+3, kl_local_train=37.1]"
     ]
    },
    {
     "name": "stdout",
     "output_type": "stream",
     "text": [
      "\r",
      "Epoch 450/1000:  45%|████▍     | 449/1000 [1:04:12<1:12:23,  7.88s/it, v_num=ow_1, total_loss_train=1.46e+3, kl_local_train=37.1]"
     ]
    },
    {
     "name": "stdout",
     "output_type": "stream",
     "text": [
      "\r",
      "Epoch 450/1000:  45%|████▌     | 450/1000 [1:04:20<1:13:11,  7.99s/it, v_num=ow_1, total_loss_train=1.46e+3, kl_local_train=37.1]"
     ]
    },
    {
     "name": "stdout",
     "output_type": "stream",
     "text": [
      "\r",
      "Epoch 450/1000:  45%|████▌     | 450/1000 [1:04:20<1:13:11,  7.99s/it, v_num=ow_1, total_loss_train=1.46e+3, kl_local_train=37.3]"
     ]
    },
    {
     "name": "stdout",
     "output_type": "stream",
     "text": [
      "\r",
      "Epoch 451/1000:  45%|████▌     | 450/1000 [1:04:20<1:13:11,  7.99s/it, v_num=ow_1, total_loss_train=1.46e+3, kl_local_train=37.3]"
     ]
    },
    {
     "name": "stdout",
     "output_type": "stream",
     "text": [
      "\r",
      "Epoch 451/1000:  45%|████▌     | 451/1000 [1:04:28<1:13:19,  8.01s/it, v_num=ow_1, total_loss_train=1.46e+3, kl_local_train=37.3]"
     ]
    },
    {
     "name": "stdout",
     "output_type": "stream",
     "text": [
      "\r",
      "Epoch 451/1000:  45%|████▌     | 451/1000 [1:04:28<1:13:19,  8.01s/it, v_num=ow_1, total_loss_train=1.46e+3, kl_local_train=37.1]"
     ]
    },
    {
     "name": "stdout",
     "output_type": "stream",
     "text": [
      "\r",
      "Epoch 452/1000:  45%|████▌     | 451/1000 [1:04:28<1:13:19,  8.01s/it, v_num=ow_1, total_loss_train=1.46e+3, kl_local_train=37.1]"
     ]
    },
    {
     "name": "stdout",
     "output_type": "stream",
     "text": [
      "\r",
      "Epoch 452/1000:  45%|████▌     | 452/1000 [1:04:37<1:15:54,  8.31s/it, v_num=ow_1, total_loss_train=1.46e+3, kl_local_train=37.1]"
     ]
    },
    {
     "name": "stdout",
     "output_type": "stream",
     "text": [
      "\r",
      "Epoch 452/1000:  45%|████▌     | 452/1000 [1:04:37<1:15:54,  8.31s/it, v_num=ow_1, total_loss_train=1.46e+3, kl_local_train=37.1]"
     ]
    },
    {
     "name": "stdout",
     "output_type": "stream",
     "text": [
      "\r",
      "Epoch 453/1000:  45%|████▌     | 452/1000 [1:04:37<1:15:54,  8.31s/it, v_num=ow_1, total_loss_train=1.46e+3, kl_local_train=37.1]"
     ]
    },
    {
     "name": "stdout",
     "output_type": "stream",
     "text": [
      "\r",
      "Epoch 453/1000:  45%|████▌     | 453/1000 [1:04:45<1:15:23,  8.27s/it, v_num=ow_1, total_loss_train=1.46e+3, kl_local_train=37.1]"
     ]
    },
    {
     "name": "stdout",
     "output_type": "stream",
     "text": [
      "\r",
      "Epoch 453/1000:  45%|████▌     | 453/1000 [1:04:45<1:15:23,  8.27s/it, v_num=ow_1, total_loss_train=1.46e+3, kl_local_train=37.2]"
     ]
    },
    {
     "name": "stdout",
     "output_type": "stream",
     "text": [
      "\r",
      "Epoch 454/1000:  45%|████▌     | 453/1000 [1:04:45<1:15:23,  8.27s/it, v_num=ow_1, total_loss_train=1.46e+3, kl_local_train=37.2]"
     ]
    },
    {
     "name": "stdout",
     "output_type": "stream",
     "text": [
      "\r",
      "Epoch 454/1000:  45%|████▌     | 454/1000 [1:04:54<1:15:11,  8.26s/it, v_num=ow_1, total_loss_train=1.46e+3, kl_local_train=37.2]"
     ]
    },
    {
     "name": "stdout",
     "output_type": "stream",
     "text": [
      "\r",
      "Epoch 454/1000:  45%|████▌     | 454/1000 [1:04:54<1:15:11,  8.26s/it, v_num=ow_1, total_loss_train=1.46e+3, kl_local_train=37.1]"
     ]
    },
    {
     "name": "stdout",
     "output_type": "stream",
     "text": [
      "\r",
      "Epoch 455/1000:  45%|████▌     | 454/1000 [1:04:54<1:15:11,  8.26s/it, v_num=ow_1, total_loss_train=1.46e+3, kl_local_train=37.1]"
     ]
    },
    {
     "name": "stdout",
     "output_type": "stream",
     "text": [
      "\r",
      "Epoch 455/1000:  46%|████▌     | 455/1000 [1:05:02<1:16:22,  8.41s/it, v_num=ow_1, total_loss_train=1.46e+3, kl_local_train=37.1]"
     ]
    },
    {
     "name": "stdout",
     "output_type": "stream",
     "text": [
      "\r",
      "Epoch 455/1000:  46%|████▌     | 455/1000 [1:05:02<1:16:22,  8.41s/it, v_num=ow_1, total_loss_train=1.46e+3, kl_local_train=37.1]"
     ]
    },
    {
     "name": "stdout",
     "output_type": "stream",
     "text": [
      "\r",
      "Epoch 456/1000:  46%|████▌     | 455/1000 [1:05:02<1:16:22,  8.41s/it, v_num=ow_1, total_loss_train=1.46e+3, kl_local_train=37.1]"
     ]
    },
    {
     "name": "stdout",
     "output_type": "stream",
     "text": [
      "\r",
      "Epoch 456/1000:  46%|████▌     | 456/1000 [1:05:11<1:16:36,  8.45s/it, v_num=ow_1, total_loss_train=1.46e+3, kl_local_train=37.1]"
     ]
    },
    {
     "name": "stdout",
     "output_type": "stream",
     "text": [
      "\r",
      "Epoch 456/1000:  46%|████▌     | 456/1000 [1:05:11<1:16:36,  8.45s/it, v_num=ow_1, total_loss_train=1.46e+3, kl_local_train=37]  "
     ]
    },
    {
     "name": "stdout",
     "output_type": "stream",
     "text": [
      "\r",
      "Epoch 457/1000:  46%|████▌     | 456/1000 [1:05:11<1:16:36,  8.45s/it, v_num=ow_1, total_loss_train=1.46e+3, kl_local_train=37]"
     ]
    },
    {
     "name": "stdout",
     "output_type": "stream",
     "text": [
      "\r",
      "Epoch 457/1000:  46%|████▌     | 457/1000 [1:05:19<1:15:25,  8.33s/it, v_num=ow_1, total_loss_train=1.46e+3, kl_local_train=37]"
     ]
    },
    {
     "name": "stdout",
     "output_type": "stream",
     "text": [
      "\r",
      "Epoch 457/1000:  46%|████▌     | 457/1000 [1:05:19<1:15:25,  8.33s/it, v_num=ow_1, total_loss_train=1.46e+3, kl_local_train=37.1]"
     ]
    },
    {
     "name": "stdout",
     "output_type": "stream",
     "text": [
      "\r",
      "Epoch 458/1000:  46%|████▌     | 457/1000 [1:05:19<1:15:25,  8.33s/it, v_num=ow_1, total_loss_train=1.46e+3, kl_local_train=37.1]"
     ]
    },
    {
     "name": "stdout",
     "output_type": "stream",
     "text": [
      "\r",
      "Epoch 458/1000:  46%|████▌     | 458/1000 [1:05:27<1:14:46,  8.28s/it, v_num=ow_1, total_loss_train=1.46e+3, kl_local_train=37.1]"
     ]
    },
    {
     "name": "stdout",
     "output_type": "stream",
     "text": [
      "\r",
      "Epoch 458/1000:  46%|████▌     | 458/1000 [1:05:27<1:14:46,  8.28s/it, v_num=ow_1, total_loss_train=1.46e+3, kl_local_train=37.2]"
     ]
    },
    {
     "name": "stdout",
     "output_type": "stream",
     "text": [
      "\r",
      "Epoch 459/1000:  46%|████▌     | 458/1000 [1:05:27<1:14:46,  8.28s/it, v_num=ow_1, total_loss_train=1.46e+3, kl_local_train=37.2]"
     ]
    },
    {
     "name": "stdout",
     "output_type": "stream",
     "text": [
      "\r",
      "Epoch 459/1000:  46%|████▌     | 459/1000 [1:05:36<1:15:37,  8.39s/it, v_num=ow_1, total_loss_train=1.46e+3, kl_local_train=37.2]"
     ]
    },
    {
     "name": "stdout",
     "output_type": "stream",
     "text": [
      "\r",
      "Epoch 459/1000:  46%|████▌     | 459/1000 [1:05:36<1:15:37,  8.39s/it, v_num=ow_1, total_loss_train=1.46e+3, kl_local_train=37.1]"
     ]
    },
    {
     "name": "stdout",
     "output_type": "stream",
     "text": [
      "\r",
      "Epoch 460/1000:  46%|████▌     | 459/1000 [1:05:36<1:15:37,  8.39s/it, v_num=ow_1, total_loss_train=1.46e+3, kl_local_train=37.1]"
     ]
    },
    {
     "name": "stdout",
     "output_type": "stream",
     "text": [
      "\r",
      "Epoch 460/1000:  46%|████▌     | 460/1000 [1:05:46<1:19:22,  8.82s/it, v_num=ow_1, total_loss_train=1.46e+3, kl_local_train=37.1]"
     ]
    },
    {
     "name": "stdout",
     "output_type": "stream",
     "text": [
      "\r",
      "Epoch 460/1000:  46%|████▌     | 460/1000 [1:05:46<1:19:22,  8.82s/it, v_num=ow_1, total_loss_train=1.46e+3, kl_local_train=37.2]"
     ]
    },
    {
     "name": "stdout",
     "output_type": "stream",
     "text": [
      "\r",
      "Epoch 461/1000:  46%|████▌     | 460/1000 [1:05:46<1:19:22,  8.82s/it, v_num=ow_1, total_loss_train=1.46e+3, kl_local_train=37.2]"
     ]
    },
    {
     "name": "stdout",
     "output_type": "stream",
     "text": [
      "\r",
      "Epoch 461/1000:  46%|████▌     | 461/1000 [1:05:54<1:17:39,  8.64s/it, v_num=ow_1, total_loss_train=1.46e+3, kl_local_train=37.2]"
     ]
    },
    {
     "name": "stdout",
     "output_type": "stream",
     "text": [
      "\r",
      "Epoch 461/1000:  46%|████▌     | 461/1000 [1:05:54<1:17:39,  8.64s/it, v_num=ow_1, total_loss_train=1.46e+3, kl_local_train=37.2]"
     ]
    },
    {
     "name": "stdout",
     "output_type": "stream",
     "text": [
      "\r",
      "Epoch 462/1000:  46%|████▌     | 461/1000 [1:05:54<1:17:39,  8.64s/it, v_num=ow_1, total_loss_train=1.46e+3, kl_local_train=37.2]"
     ]
    },
    {
     "name": "stdout",
     "output_type": "stream",
     "text": [
      "\r",
      "Epoch 462/1000:  46%|████▌     | 462/1000 [1:06:01<1:14:16,  8.28s/it, v_num=ow_1, total_loss_train=1.46e+3, kl_local_train=37.2]"
     ]
    },
    {
     "name": "stdout",
     "output_type": "stream",
     "text": [
      "\r",
      "Epoch 462/1000:  46%|████▌     | 462/1000 [1:06:01<1:14:16,  8.28s/it, v_num=ow_1, total_loss_train=1.46e+3, kl_local_train=37.2]"
     ]
    },
    {
     "name": "stdout",
     "output_type": "stream",
     "text": [
      "\r",
      "Epoch 463/1000:  46%|████▌     | 462/1000 [1:06:01<1:14:16,  8.28s/it, v_num=ow_1, total_loss_train=1.46e+3, kl_local_train=37.2]"
     ]
    },
    {
     "name": "stdout",
     "output_type": "stream",
     "text": [
      "\r",
      "Epoch 463/1000:  46%|████▋     | 463/1000 [1:06:09<1:13:47,  8.24s/it, v_num=ow_1, total_loss_train=1.46e+3, kl_local_train=37.2]"
     ]
    },
    {
     "name": "stdout",
     "output_type": "stream",
     "text": [
      "\r",
      "Epoch 463/1000:  46%|████▋     | 463/1000 [1:06:09<1:13:47,  8.24s/it, v_num=ow_1, total_loss_train=1.46e+3, kl_local_train=37]  "
     ]
    },
    {
     "name": "stdout",
     "output_type": "stream",
     "text": [
      "\r",
      "Epoch 464/1000:  46%|████▋     | 463/1000 [1:06:09<1:13:47,  8.24s/it, v_num=ow_1, total_loss_train=1.46e+3, kl_local_train=37]"
     ]
    },
    {
     "name": "stdout",
     "output_type": "stream",
     "text": [
      "\r",
      "Epoch 464/1000:  46%|████▋     | 464/1000 [1:06:18<1:15:28,  8.45s/it, v_num=ow_1, total_loss_train=1.46e+3, kl_local_train=37]"
     ]
    },
    {
     "name": "stdout",
     "output_type": "stream",
     "text": [
      "\r",
      "Epoch 464/1000:  46%|████▋     | 464/1000 [1:06:18<1:15:28,  8.45s/it, v_num=ow_1, total_loss_train=1.46e+3, kl_local_train=37.2]"
     ]
    },
    {
     "name": "stdout",
     "output_type": "stream",
     "text": [
      "\r",
      "Epoch 465/1000:  46%|████▋     | 464/1000 [1:06:18<1:15:28,  8.45s/it, v_num=ow_1, total_loss_train=1.46e+3, kl_local_train=37.2]"
     ]
    },
    {
     "name": "stdout",
     "output_type": "stream",
     "text": [
      "\r",
      "Epoch 465/1000:  46%|████▋     | 465/1000 [1:06:26<1:12:28,  8.13s/it, v_num=ow_1, total_loss_train=1.46e+3, kl_local_train=37.2]"
     ]
    },
    {
     "name": "stdout",
     "output_type": "stream",
     "text": [
      "\r",
      "Epoch 465/1000:  46%|████▋     | 465/1000 [1:06:26<1:12:28,  8.13s/it, v_num=ow_1, total_loss_train=1.46e+3, kl_local_train=37.2]"
     ]
    },
    {
     "name": "stdout",
     "output_type": "stream",
     "text": [
      "\r",
      "Epoch 466/1000:  46%|████▋     | 465/1000 [1:06:26<1:12:28,  8.13s/it, v_num=ow_1, total_loss_train=1.46e+3, kl_local_train=37.2]"
     ]
    },
    {
     "name": "stdout",
     "output_type": "stream",
     "text": [
      "\r",
      "Epoch 466/1000:  47%|████▋     | 466/1000 [1:06:34<1:12:59,  8.20s/it, v_num=ow_1, total_loss_train=1.46e+3, kl_local_train=37.2]"
     ]
    },
    {
     "name": "stdout",
     "output_type": "stream",
     "text": [
      "\r",
      "Epoch 466/1000:  47%|████▋     | 466/1000 [1:06:34<1:12:59,  8.20s/it, v_num=ow_1, total_loss_train=1.46e+3, kl_local_train=37.1]"
     ]
    },
    {
     "name": "stdout",
     "output_type": "stream",
     "text": [
      "\r",
      "Epoch 467/1000:  47%|████▋     | 466/1000 [1:06:34<1:12:59,  8.20s/it, v_num=ow_1, total_loss_train=1.46e+3, kl_local_train=37.1]"
     ]
    },
    {
     "name": "stdout",
     "output_type": "stream",
     "text": [
      "\r",
      "Epoch 467/1000:  47%|████▋     | 467/1000 [1:06:43<1:14:21,  8.37s/it, v_num=ow_1, total_loss_train=1.46e+3, kl_local_train=37.1]"
     ]
    },
    {
     "name": "stdout",
     "output_type": "stream",
     "text": [
      "\r",
      "Epoch 467/1000:  47%|████▋     | 467/1000 [1:06:43<1:14:21,  8.37s/it, v_num=ow_1, total_loss_train=1.46e+3, kl_local_train=37.2]"
     ]
    },
    {
     "name": "stdout",
     "output_type": "stream",
     "text": [
      "\r",
      "Epoch 468/1000:  47%|████▋     | 467/1000 [1:06:43<1:14:21,  8.37s/it, v_num=ow_1, total_loss_train=1.46e+3, kl_local_train=37.2]"
     ]
    },
    {
     "name": "stdout",
     "output_type": "stream",
     "text": [
      "\r",
      "Epoch 468/1000:  47%|████▋     | 468/1000 [1:06:52<1:15:05,  8.47s/it, v_num=ow_1, total_loss_train=1.46e+3, kl_local_train=37.2]"
     ]
    },
    {
     "name": "stdout",
     "output_type": "stream",
     "text": [
      "\r",
      "Epoch 468/1000:  47%|████▋     | 468/1000 [1:06:52<1:15:05,  8.47s/it, v_num=ow_1, total_loss_train=1.46e+3, kl_local_train=37.1]"
     ]
    },
    {
     "name": "stdout",
     "output_type": "stream",
     "text": [
      "\r",
      "Epoch 469/1000:  47%|████▋     | 468/1000 [1:06:52<1:15:05,  8.47s/it, v_num=ow_1, total_loss_train=1.46e+3, kl_local_train=37.1]"
     ]
    },
    {
     "name": "stdout",
     "output_type": "stream",
     "text": [
      "\r",
      "Epoch 469/1000:  47%|████▋     | 469/1000 [1:07:00<1:15:40,  8.55s/it, v_num=ow_1, total_loss_train=1.46e+3, kl_local_train=37.1]"
     ]
    },
    {
     "name": "stdout",
     "output_type": "stream",
     "text": [
      "\r",
      "Epoch 469/1000:  47%|████▋     | 469/1000 [1:07:00<1:15:40,  8.55s/it, v_num=ow_1, total_loss_train=1.46e+3, kl_local_train=37]  "
     ]
    },
    {
     "name": "stdout",
     "output_type": "stream",
     "text": [
      "\r",
      "Epoch 470/1000:  47%|████▋     | 469/1000 [1:07:00<1:15:40,  8.55s/it, v_num=ow_1, total_loss_train=1.46e+3, kl_local_train=37]"
     ]
    },
    {
     "name": "stdout",
     "output_type": "stream",
     "text": [
      "\r",
      "Epoch 470/1000:  47%|████▋     | 470/1000 [1:07:09<1:15:52,  8.59s/it, v_num=ow_1, total_loss_train=1.46e+3, kl_local_train=37]"
     ]
    },
    {
     "name": "stdout",
     "output_type": "stream",
     "text": [
      "\r",
      "Epoch 470/1000:  47%|████▋     | 470/1000 [1:07:09<1:15:52,  8.59s/it, v_num=ow_1, total_loss_train=1.46e+3, kl_local_train=37.2]"
     ]
    },
    {
     "name": "stdout",
     "output_type": "stream",
     "text": [
      "\r",
      "Epoch 471/1000:  47%|████▋     | 470/1000 [1:07:09<1:15:52,  8.59s/it, v_num=ow_1, total_loss_train=1.46e+3, kl_local_train=37.2]"
     ]
    },
    {
     "name": "stdout",
     "output_type": "stream",
     "text": [
      "\r",
      "Epoch 471/1000:  47%|████▋     | 471/1000 [1:07:17<1:14:46,  8.48s/it, v_num=ow_1, total_loss_train=1.46e+3, kl_local_train=37.2]"
     ]
    },
    {
     "name": "stdout",
     "output_type": "stream",
     "text": [
      "\r",
      "Epoch 471/1000:  47%|████▋     | 471/1000 [1:07:17<1:14:46,  8.48s/it, v_num=ow_1, total_loss_train=1.46e+3, kl_local_train=37.3]"
     ]
    },
    {
     "name": "stdout",
     "output_type": "stream",
     "text": [
      "\r",
      "Epoch 472/1000:  47%|████▋     | 471/1000 [1:07:17<1:14:46,  8.48s/it, v_num=ow_1, total_loss_train=1.46e+3, kl_local_train=37.3]"
     ]
    },
    {
     "name": "stdout",
     "output_type": "stream",
     "text": [
      "\r",
      "Epoch 472/1000:  47%|████▋     | 472/1000 [1:07:26<1:15:01,  8.53s/it, v_num=ow_1, total_loss_train=1.46e+3, kl_local_train=37.3]"
     ]
    },
    {
     "name": "stdout",
     "output_type": "stream",
     "text": [
      "\r",
      "Epoch 472/1000:  47%|████▋     | 472/1000 [1:07:26<1:15:01,  8.53s/it, v_num=ow_1, total_loss_train=1.46e+3, kl_local_train=37.1]"
     ]
    },
    {
     "name": "stdout",
     "output_type": "stream",
     "text": [
      "\r",
      "Epoch 473/1000:  47%|████▋     | 472/1000 [1:07:26<1:15:01,  8.53s/it, v_num=ow_1, total_loss_train=1.46e+3, kl_local_train=37.1]"
     ]
    },
    {
     "name": "stdout",
     "output_type": "stream",
     "text": [
      "\r",
      "Epoch 473/1000:  47%|████▋     | 473/1000 [1:07:34<1:15:09,  8.56s/it, v_num=ow_1, total_loss_train=1.46e+3, kl_local_train=37.1]"
     ]
    },
    {
     "name": "stdout",
     "output_type": "stream",
     "text": [
      "\r",
      "Epoch 473/1000:  47%|████▋     | 473/1000 [1:07:34<1:15:09,  8.56s/it, v_num=ow_1, total_loss_train=1.46e+3, kl_local_train=37.1]"
     ]
    },
    {
     "name": "stdout",
     "output_type": "stream",
     "text": [
      "\r",
      "Epoch 474/1000:  47%|████▋     | 473/1000 [1:07:34<1:15:09,  8.56s/it, v_num=ow_1, total_loss_train=1.46e+3, kl_local_train=37.1]"
     ]
    },
    {
     "name": "stdout",
     "output_type": "stream",
     "text": [
      "\r",
      "Epoch 474/1000:  47%|████▋     | 474/1000 [1:07:45<1:19:28,  9.06s/it, v_num=ow_1, total_loss_train=1.46e+3, kl_local_train=37.1]"
     ]
    },
    {
     "name": "stdout",
     "output_type": "stream",
     "text": [
      "\r",
      "Epoch 474/1000:  47%|████▋     | 474/1000 [1:07:45<1:19:28,  9.06s/it, v_num=ow_1, total_loss_train=1.46e+3, kl_local_train=37.3]"
     ]
    },
    {
     "name": "stdout",
     "output_type": "stream",
     "text": [
      "\r",
      "Epoch 475/1000:  47%|████▋     | 474/1000 [1:07:45<1:19:28,  9.06s/it, v_num=ow_1, total_loss_train=1.46e+3, kl_local_train=37.3]"
     ]
    },
    {
     "name": "stdout",
     "output_type": "stream",
     "text": [
      "\r",
      "Epoch 475/1000:  48%|████▊     | 475/1000 [1:07:53<1:16:02,  8.69s/it, v_num=ow_1, total_loss_train=1.46e+3, kl_local_train=37.3]"
     ]
    },
    {
     "name": "stdout",
     "output_type": "stream",
     "text": [
      "\r",
      "Epoch 475/1000:  48%|████▊     | 475/1000 [1:07:53<1:16:02,  8.69s/it, v_num=ow_1, total_loss_train=1.46e+3, kl_local_train=37]  "
     ]
    },
    {
     "name": "stdout",
     "output_type": "stream",
     "text": [
      "\r",
      "Epoch 476/1000:  48%|████▊     | 475/1000 [1:07:53<1:16:02,  8.69s/it, v_num=ow_1, total_loss_train=1.46e+3, kl_local_train=37]"
     ]
    },
    {
     "name": "stdout",
     "output_type": "stream",
     "text": [
      "\r",
      "Epoch 476/1000:  48%|████▊     | 476/1000 [1:08:01<1:14:58,  8.59s/it, v_num=ow_1, total_loss_train=1.46e+3, kl_local_train=37]"
     ]
    },
    {
     "name": "stdout",
     "output_type": "stream",
     "text": [
      "\r",
      "Epoch 476/1000:  48%|████▊     | 476/1000 [1:08:01<1:14:58,  8.59s/it, v_num=ow_1, total_loss_train=1.46e+3, kl_local_train=37.1]"
     ]
    },
    {
     "name": "stdout",
     "output_type": "stream",
     "text": [
      "\r",
      "Epoch 477/1000:  48%|████▊     | 476/1000 [1:08:01<1:14:58,  8.59s/it, v_num=ow_1, total_loss_train=1.46e+3, kl_local_train=37.1]"
     ]
    },
    {
     "name": "stdout",
     "output_type": "stream",
     "text": [
      "\r",
      "Epoch 477/1000:  48%|████▊     | 477/1000 [1:08:09<1:13:59,  8.49s/it, v_num=ow_1, total_loss_train=1.46e+3, kl_local_train=37.1]"
     ]
    },
    {
     "name": "stdout",
     "output_type": "stream",
     "text": [
      "\r",
      "Epoch 477/1000:  48%|████▊     | 477/1000 [1:08:09<1:13:59,  8.49s/it, v_num=ow_1, total_loss_train=1.46e+3, kl_local_train=37.3]"
     ]
    },
    {
     "name": "stdout",
     "output_type": "stream",
     "text": [
      "\r",
      "Epoch 478/1000:  48%|████▊     | 477/1000 [1:08:09<1:13:59,  8.49s/it, v_num=ow_1, total_loss_train=1.46e+3, kl_local_train=37.3]"
     ]
    },
    {
     "name": "stdout",
     "output_type": "stream",
     "text": [
      "\r",
      "Epoch 478/1000:  48%|████▊     | 478/1000 [1:08:17<1:12:53,  8.38s/it, v_num=ow_1, total_loss_train=1.46e+3, kl_local_train=37.3]"
     ]
    },
    {
     "name": "stdout",
     "output_type": "stream",
     "text": [
      "\r",
      "Epoch 478/1000:  48%|████▊     | 478/1000 [1:08:17<1:12:53,  8.38s/it, v_num=ow_1, total_loss_train=1.46e+3, kl_local_train=37.2]"
     ]
    },
    {
     "name": "stdout",
     "output_type": "stream",
     "text": [
      "\r",
      "Epoch 479/1000:  48%|████▊     | 478/1000 [1:08:17<1:12:53,  8.38s/it, v_num=ow_1, total_loss_train=1.46e+3, kl_local_train=37.2]"
     ]
    },
    {
     "name": "stdout",
     "output_type": "stream",
     "text": [
      "\r",
      "Epoch 479/1000:  48%|████▊     | 479/1000 [1:08:25<1:12:17,  8.33s/it, v_num=ow_1, total_loss_train=1.46e+3, kl_local_train=37.2]"
     ]
    },
    {
     "name": "stdout",
     "output_type": "stream",
     "text": [
      "\r",
      "Epoch 479/1000:  48%|████▊     | 479/1000 [1:08:25<1:12:17,  8.33s/it, v_num=ow_1, total_loss_train=1.46e+3, kl_local_train=37.2]"
     ]
    },
    {
     "name": "stdout",
     "output_type": "stream",
     "text": [
      "\r",
      "Epoch 480/1000:  48%|████▊     | 479/1000 [1:08:25<1:12:17,  8.33s/it, v_num=ow_1, total_loss_train=1.46e+3, kl_local_train=37.2]"
     ]
    },
    {
     "name": "stdout",
     "output_type": "stream",
     "text": [
      "\r",
      "Epoch 480/1000:  48%|████▊     | 480/1000 [1:08:33<1:10:44,  8.16s/it, v_num=ow_1, total_loss_train=1.46e+3, kl_local_train=37.2]"
     ]
    },
    {
     "name": "stdout",
     "output_type": "stream",
     "text": [
      "\r",
      "Epoch 480/1000:  48%|████▊     | 480/1000 [1:08:33<1:10:44,  8.16s/it, v_num=ow_1, total_loss_train=1.46e+3, kl_local_train=37.3]"
     ]
    },
    {
     "name": "stdout",
     "output_type": "stream",
     "text": [
      "\r",
      "Epoch 481/1000:  48%|████▊     | 480/1000 [1:08:33<1:10:44,  8.16s/it, v_num=ow_1, total_loss_train=1.46e+3, kl_local_train=37.3]"
     ]
    },
    {
     "name": "stdout",
     "output_type": "stream",
     "text": [
      "\r",
      "Epoch 481/1000:  48%|████▊     | 481/1000 [1:08:41<1:10:23,  8.14s/it, v_num=ow_1, total_loss_train=1.46e+3, kl_local_train=37.3]"
     ]
    },
    {
     "name": "stdout",
     "output_type": "stream",
     "text": [
      "\r",
      "Epoch 481/1000:  48%|████▊     | 481/1000 [1:08:41<1:10:23,  8.14s/it, v_num=ow_1, total_loss_train=1.46e+3, kl_local_train=37.3]"
     ]
    },
    {
     "name": "stdout",
     "output_type": "stream",
     "text": [
      "\r",
      "Epoch 482/1000:  48%|████▊     | 481/1000 [1:08:41<1:10:23,  8.14s/it, v_num=ow_1, total_loss_train=1.46e+3, kl_local_train=37.3]"
     ]
    },
    {
     "name": "stdout",
     "output_type": "stream",
     "text": [
      "\r",
      "Epoch 482/1000:  48%|████▊     | 482/1000 [1:08:50<1:10:19,  8.14s/it, v_num=ow_1, total_loss_train=1.46e+3, kl_local_train=37.3]"
     ]
    },
    {
     "name": "stdout",
     "output_type": "stream",
     "text": [
      "\r",
      "Epoch 482/1000:  48%|████▊     | 482/1000 [1:08:50<1:10:19,  8.14s/it, v_num=ow_1, total_loss_train=1.46e+3, kl_local_train=37.2]"
     ]
    },
    {
     "name": "stdout",
     "output_type": "stream",
     "text": [
      "\r",
      "Epoch 483/1000:  48%|████▊     | 482/1000 [1:08:50<1:10:19,  8.14s/it, v_num=ow_1, total_loss_train=1.46e+3, kl_local_train=37.2]"
     ]
    },
    {
     "name": "stdout",
     "output_type": "stream",
     "text": [
      "\r",
      "Epoch 483/1000:  48%|████▊     | 483/1000 [1:08:58<1:11:43,  8.32s/it, v_num=ow_1, total_loss_train=1.46e+3, kl_local_train=37.2]"
     ]
    },
    {
     "name": "stdout",
     "output_type": "stream",
     "text": [
      "\r",
      "Epoch 483/1000:  48%|████▊     | 483/1000 [1:08:58<1:11:43,  8.32s/it, v_num=ow_1, total_loss_train=1.46e+3, kl_local_train=37.2]"
     ]
    },
    {
     "name": "stdout",
     "output_type": "stream",
     "text": [
      "\r",
      "Epoch 484/1000:  48%|████▊     | 483/1000 [1:08:58<1:11:43,  8.32s/it, v_num=ow_1, total_loss_train=1.46e+3, kl_local_train=37.2]"
     ]
    },
    {
     "name": "stdout",
     "output_type": "stream",
     "text": [
      "\r",
      "Epoch 484/1000:  48%|████▊     | 484/1000 [1:09:07<1:12:31,  8.43s/it, v_num=ow_1, total_loss_train=1.46e+3, kl_local_train=37.2]"
     ]
    },
    {
     "name": "stdout",
     "output_type": "stream",
     "text": [
      "\r",
      "Epoch 484/1000:  48%|████▊     | 484/1000 [1:09:07<1:12:31,  8.43s/it, v_num=ow_1, total_loss_train=1.46e+3, kl_local_train=37.2]"
     ]
    },
    {
     "name": "stdout",
     "output_type": "stream",
     "text": [
      "\r",
      "Epoch 485/1000:  48%|████▊     | 484/1000 [1:09:07<1:12:31,  8.43s/it, v_num=ow_1, total_loss_train=1.46e+3, kl_local_train=37.2]"
     ]
    },
    {
     "name": "stdout",
     "output_type": "stream",
     "text": [
      "\r",
      "Epoch 485/1000:  48%|████▊     | 485/1000 [1:09:16<1:13:02,  8.51s/it, v_num=ow_1, total_loss_train=1.46e+3, kl_local_train=37.2]"
     ]
    },
    {
     "name": "stdout",
     "output_type": "stream",
     "text": [
      "\r",
      "Epoch 485/1000:  48%|████▊     | 485/1000 [1:09:16<1:13:02,  8.51s/it, v_num=ow_1, total_loss_train=1.46e+3, kl_local_train=37.1]"
     ]
    },
    {
     "name": "stdout",
     "output_type": "stream",
     "text": [
      "\r",
      "Epoch 486/1000:  48%|████▊     | 485/1000 [1:09:16<1:13:02,  8.51s/it, v_num=ow_1, total_loss_train=1.46e+3, kl_local_train=37.1]"
     ]
    },
    {
     "name": "stdout",
     "output_type": "stream",
     "text": [
      "\r",
      "Epoch 486/1000:  49%|████▊     | 486/1000 [1:09:24<1:13:26,  8.57s/it, v_num=ow_1, total_loss_train=1.46e+3, kl_local_train=37.1]"
     ]
    },
    {
     "name": "stdout",
     "output_type": "stream",
     "text": [
      "\r",
      "Epoch 486/1000:  49%|████▊     | 486/1000 [1:09:24<1:13:26,  8.57s/it, v_num=ow_1, total_loss_train=1.46e+3, kl_local_train=37.1]"
     ]
    },
    {
     "name": "stdout",
     "output_type": "stream",
     "text": [
      "\r",
      "Epoch 487/1000:  49%|████▊     | 486/1000 [1:09:24<1:13:26,  8.57s/it, v_num=ow_1, total_loss_train=1.46e+3, kl_local_train=37.1]"
     ]
    },
    {
     "name": "stdout",
     "output_type": "stream",
     "text": [
      "\r",
      "Epoch 487/1000:  49%|████▊     | 487/1000 [1:09:33<1:14:29,  8.71s/it, v_num=ow_1, total_loss_train=1.46e+3, kl_local_train=37.1]"
     ]
    },
    {
     "name": "stdout",
     "output_type": "stream",
     "text": [
      "\r",
      "Epoch 487/1000:  49%|████▊     | 487/1000 [1:09:33<1:14:29,  8.71s/it, v_num=ow_1, total_loss_train=1.46e+3, kl_local_train=37.2]"
     ]
    },
    {
     "name": "stdout",
     "output_type": "stream",
     "text": [
      "\r",
      "Epoch 488/1000:  49%|████▊     | 487/1000 [1:09:33<1:14:29,  8.71s/it, v_num=ow_1, total_loss_train=1.46e+3, kl_local_train=37.2]"
     ]
    },
    {
     "name": "stdout",
     "output_type": "stream",
     "text": [
      "\r",
      "Epoch 488/1000:  49%|████▉     | 488/1000 [1:09:42<1:14:30,  8.73s/it, v_num=ow_1, total_loss_train=1.46e+3, kl_local_train=37.2]"
     ]
    },
    {
     "name": "stdout",
     "output_type": "stream",
     "text": [
      "\r",
      "Epoch 488/1000:  49%|████▉     | 488/1000 [1:09:42<1:14:30,  8.73s/it, v_num=ow_1, total_loss_train=1.46e+3, kl_local_train=37.1]"
     ]
    },
    {
     "name": "stdout",
     "output_type": "stream",
     "text": [
      "\r",
      "Epoch 489/1000:  49%|████▉     | 488/1000 [1:09:42<1:14:30,  8.73s/it, v_num=ow_1, total_loss_train=1.46e+3, kl_local_train=37.1]"
     ]
    },
    {
     "name": "stdout",
     "output_type": "stream",
     "text": [
      "\r",
      "Epoch 489/1000:  49%|████▉     | 489/1000 [1:09:51<1:13:24,  8.62s/it, v_num=ow_1, total_loss_train=1.46e+3, kl_local_train=37.1]"
     ]
    },
    {
     "name": "stdout",
     "output_type": "stream",
     "text": [
      "\r",
      "Epoch 489/1000:  49%|████▉     | 489/1000 [1:09:51<1:13:24,  8.62s/it, v_num=ow_1, total_loss_train=1.46e+3, kl_local_train=37.2]"
     ]
    },
    {
     "name": "stdout",
     "output_type": "stream",
     "text": [
      "\r",
      "Epoch 490/1000:  49%|████▉     | 489/1000 [1:09:51<1:13:24,  8.62s/it, v_num=ow_1, total_loss_train=1.46e+3, kl_local_train=37.2]"
     ]
    },
    {
     "name": "stdout",
     "output_type": "stream",
     "text": [
      "\r",
      "Epoch 490/1000:  49%|████▉     | 490/1000 [1:10:00<1:14:34,  8.77s/it, v_num=ow_1, total_loss_train=1.46e+3, kl_local_train=37.2]"
     ]
    },
    {
     "name": "stdout",
     "output_type": "stream",
     "text": [
      "\r",
      "Epoch 490/1000:  49%|████▉     | 490/1000 [1:10:00<1:14:34,  8.77s/it, v_num=ow_1, total_loss_train=1.46e+3, kl_local_train=37.2]"
     ]
    },
    {
     "name": "stdout",
     "output_type": "stream",
     "text": [
      "\r",
      "Epoch 491/1000:  49%|████▉     | 490/1000 [1:10:00<1:14:34,  8.77s/it, v_num=ow_1, total_loss_train=1.46e+3, kl_local_train=37.2]"
     ]
    },
    {
     "name": "stdout",
     "output_type": "stream",
     "text": [
      "\r",
      "Epoch 491/1000:  49%|████▉     | 491/1000 [1:10:07<1:11:49,  8.47s/it, v_num=ow_1, total_loss_train=1.46e+3, kl_local_train=37.2]"
     ]
    },
    {
     "name": "stdout",
     "output_type": "stream",
     "text": [
      "\r",
      "Epoch 491/1000:  49%|████▉     | 491/1000 [1:10:07<1:11:49,  8.47s/it, v_num=ow_1, total_loss_train=1457.5, kl_local_train=37.4] "
     ]
    },
    {
     "name": "stdout",
     "output_type": "stream",
     "text": [
      "\r",
      "Epoch 492/1000:  49%|████▉     | 491/1000 [1:10:07<1:11:49,  8.47s/it, v_num=ow_1, total_loss_train=1457.5, kl_local_train=37.4]"
     ]
    },
    {
     "name": "stdout",
     "output_type": "stream",
     "text": [
      "\r",
      "Epoch 492/1000:  49%|████▉     | 492/1000 [1:10:16<1:11:06,  8.40s/it, v_num=ow_1, total_loss_train=1457.5, kl_local_train=37.4]"
     ]
    },
    {
     "name": "stdout",
     "output_type": "stream",
     "text": [
      "\r",
      "Epoch 492/1000:  49%|████▉     | 492/1000 [1:10:16<1:11:06,  8.40s/it, v_num=ow_1, total_loss_train=1.46e+3, kl_local_train=37.3]"
     ]
    },
    {
     "name": "stdout",
     "output_type": "stream",
     "text": [
      "\r",
      "Epoch 493/1000:  49%|████▉     | 492/1000 [1:10:16<1:11:06,  8.40s/it, v_num=ow_1, total_loss_train=1.46e+3, kl_local_train=37.3]"
     ]
    },
    {
     "name": "stdout",
     "output_type": "stream",
     "text": [
      "\r",
      "Epoch 493/1000:  49%|████▉     | 493/1000 [1:10:23<1:08:58,  8.16s/it, v_num=ow_1, total_loss_train=1.46e+3, kl_local_train=37.3]"
     ]
    },
    {
     "name": "stdout",
     "output_type": "stream",
     "text": [
      "\r",
      "Epoch 493/1000:  49%|████▉     | 493/1000 [1:10:23<1:08:58,  8.16s/it, v_num=ow_1, total_loss_train=1.46e+3, kl_local_train=37.3]"
     ]
    },
    {
     "name": "stdout",
     "output_type": "stream",
     "text": [
      "\r",
      "Epoch 494/1000:  49%|████▉     | 493/1000 [1:10:23<1:08:58,  8.16s/it, v_num=ow_1, total_loss_train=1.46e+3, kl_local_train=37.3]"
     ]
    },
    {
     "name": "stdout",
     "output_type": "stream",
     "text": [
      "\r",
      "Epoch 494/1000:  49%|████▉     | 494/1000 [1:10:32<1:09:13,  8.21s/it, v_num=ow_1, total_loss_train=1.46e+3, kl_local_train=37.3]"
     ]
    },
    {
     "name": "stdout",
     "output_type": "stream",
     "text": [
      "\r",
      "Epoch 494/1000:  49%|████▉     | 494/1000 [1:10:32<1:09:13,  8.21s/it, v_num=ow_1, total_loss_train=1.46e+3, kl_local_train=37.3]"
     ]
    },
    {
     "name": "stdout",
     "output_type": "stream",
     "text": [
      "\r",
      "Epoch 495/1000:  49%|████▉     | 494/1000 [1:10:32<1:09:13,  8.21s/it, v_num=ow_1, total_loss_train=1.46e+3, kl_local_train=37.3]"
     ]
    },
    {
     "name": "stdout",
     "output_type": "stream",
     "text": [
      "\r",
      "Epoch 495/1000:  50%|████▉     | 495/1000 [1:10:40<1:08:50,  8.18s/it, v_num=ow_1, total_loss_train=1.46e+3, kl_local_train=37.3]"
     ]
    },
    {
     "name": "stdout",
     "output_type": "stream",
     "text": [
      "\r",
      "Epoch 495/1000:  50%|████▉     | 495/1000 [1:10:40<1:08:50,  8.18s/it, v_num=ow_1, total_loss_train=1.46e+3, kl_local_train=37.2]"
     ]
    },
    {
     "name": "stdout",
     "output_type": "stream",
     "text": [
      "\r",
      "Epoch 496/1000:  50%|████▉     | 495/1000 [1:10:40<1:08:50,  8.18s/it, v_num=ow_1, total_loss_train=1.46e+3, kl_local_train=37.2]"
     ]
    },
    {
     "name": "stdout",
     "output_type": "stream",
     "text": [
      "\r",
      "Epoch 496/1000:  50%|████▉     | 496/1000 [1:10:48<1:10:01,  8.34s/it, v_num=ow_1, total_loss_train=1.46e+3, kl_local_train=37.2]"
     ]
    },
    {
     "name": "stdout",
     "output_type": "stream",
     "text": [
      "\r",
      "Epoch 496/1000:  50%|████▉     | 496/1000 [1:10:48<1:10:01,  8.34s/it, v_num=ow_1, total_loss_train=1.46e+3, kl_local_train=37.3]"
     ]
    },
    {
     "name": "stdout",
     "output_type": "stream",
     "text": [
      "\r",
      "Epoch 497/1000:  50%|████▉     | 496/1000 [1:10:48<1:10:01,  8.34s/it, v_num=ow_1, total_loss_train=1.46e+3, kl_local_train=37.3]"
     ]
    },
    {
     "name": "stdout",
     "output_type": "stream",
     "text": [
      "\r",
      "Epoch 497/1000:  50%|████▉     | 497/1000 [1:10:57<1:09:33,  8.30s/it, v_num=ow_1, total_loss_train=1.46e+3, kl_local_train=37.3]"
     ]
    },
    {
     "name": "stdout",
     "output_type": "stream",
     "text": [
      "\r",
      "Epoch 497/1000:  50%|████▉     | 497/1000 [1:10:57<1:09:33,  8.30s/it, v_num=ow_1, total_loss_train=1.46e+3, kl_local_train=37.3]"
     ]
    },
    {
     "name": "stdout",
     "output_type": "stream",
     "text": [
      "\r",
      "Epoch 498/1000:  50%|████▉     | 497/1000 [1:10:57<1:09:33,  8.30s/it, v_num=ow_1, total_loss_train=1.46e+3, kl_local_train=37.3]"
     ]
    },
    {
     "name": "stdout",
     "output_type": "stream",
     "text": [
      "\r",
      "Epoch 498/1000:  50%|████▉     | 498/1000 [1:11:05<1:10:32,  8.43s/it, v_num=ow_1, total_loss_train=1.46e+3, kl_local_train=37.3]"
     ]
    },
    {
     "name": "stdout",
     "output_type": "stream",
     "text": [
      "\r",
      "Epoch 498/1000:  50%|████▉     | 498/1000 [1:11:05<1:10:32,  8.43s/it, v_num=ow_1, total_loss_train=1.46e+3, kl_local_train=37.2]"
     ]
    },
    {
     "name": "stdout",
     "output_type": "stream",
     "text": [
      "\r",
      "Epoch 499/1000:  50%|████▉     | 498/1000 [1:11:05<1:10:32,  8.43s/it, v_num=ow_1, total_loss_train=1.46e+3, kl_local_train=37.2]"
     ]
    },
    {
     "name": "stdout",
     "output_type": "stream",
     "text": [
      "\r",
      "Epoch 499/1000:  50%|████▉     | 499/1000 [1:11:14<1:11:17,  8.54s/it, v_num=ow_1, total_loss_train=1.46e+3, kl_local_train=37.2]"
     ]
    },
    {
     "name": "stdout",
     "output_type": "stream",
     "text": [
      "\r",
      "Epoch 499/1000:  50%|████▉     | 499/1000 [1:11:14<1:11:17,  8.54s/it, v_num=ow_1, total_loss_train=1.46e+3, kl_local_train=37.3]"
     ]
    },
    {
     "name": "stdout",
     "output_type": "stream",
     "text": [
      "\r",
      "Epoch 500/1000:  50%|████▉     | 499/1000 [1:11:14<1:11:17,  8.54s/it, v_num=ow_1, total_loss_train=1.46e+3, kl_local_train=37.3]"
     ]
    },
    {
     "name": "stdout",
     "output_type": "stream",
     "text": [
      "\r",
      "Epoch 500/1000:  50%|█████     | 500/1000 [1:11:23<1:11:53,  8.63s/it, v_num=ow_1, total_loss_train=1.46e+3, kl_local_train=37.3]"
     ]
    },
    {
     "name": "stdout",
     "output_type": "stream",
     "text": [
      "\r",
      "Epoch 500/1000:  50%|█████     | 500/1000 [1:11:23<1:11:53,  8.63s/it, v_num=ow_1, total_loss_train=1.46e+3, kl_local_train=37.1]"
     ]
    },
    {
     "name": "stdout",
     "output_type": "stream",
     "text": [
      "\r",
      "Epoch 501/1000:  50%|█████     | 500/1000 [1:11:23<1:11:53,  8.63s/it, v_num=ow_1, total_loss_train=1.46e+3, kl_local_train=37.1]"
     ]
    },
    {
     "name": "stdout",
     "output_type": "stream",
     "text": [
      "\r",
      "Epoch 501/1000:  50%|█████     | 501/1000 [1:11:31<1:11:28,  8.59s/it, v_num=ow_1, total_loss_train=1.46e+3, kl_local_train=37.1]"
     ]
    },
    {
     "name": "stdout",
     "output_type": "stream",
     "text": [
      "\r",
      "Epoch 501/1000:  50%|█████     | 501/1000 [1:11:31<1:11:28,  8.59s/it, v_num=ow_1, total_loss_train=1.46e+3, kl_local_train=37.3]"
     ]
    },
    {
     "name": "stdout",
     "output_type": "stream",
     "text": [
      "\r",
      "Epoch 502/1000:  50%|█████     | 501/1000 [1:11:31<1:11:28,  8.59s/it, v_num=ow_1, total_loss_train=1.46e+3, kl_local_train=37.3]"
     ]
    },
    {
     "name": "stdout",
     "output_type": "stream",
     "text": [
      "\r",
      "Epoch 502/1000:  50%|█████     | 502/1000 [1:11:39<1:09:54,  8.42s/it, v_num=ow_1, total_loss_train=1.46e+3, kl_local_train=37.3]"
     ]
    },
    {
     "name": "stdout",
     "output_type": "stream",
     "text": [
      "\r",
      "Epoch 502/1000:  50%|█████     | 502/1000 [1:11:39<1:09:54,  8.42s/it, v_num=ow_1, total_loss_train=1.46e+3, kl_local_train=37.2]"
     ]
    },
    {
     "name": "stdout",
     "output_type": "stream",
     "text": [
      "\r",
      "Epoch 503/1000:  50%|█████     | 502/1000 [1:11:40<1:09:54,  8.42s/it, v_num=ow_1, total_loss_train=1.46e+3, kl_local_train=37.2]"
     ]
    },
    {
     "name": "stdout",
     "output_type": "stream",
     "text": [
      "\r",
      "Epoch 503/1000:  50%|█████     | 503/1000 [1:11:48<1:10:10,  8.47s/it, v_num=ow_1, total_loss_train=1.46e+3, kl_local_train=37.2]"
     ]
    },
    {
     "name": "stdout",
     "output_type": "stream",
     "text": [
      "\r",
      "Epoch 503/1000:  50%|█████     | 503/1000 [1:11:48<1:10:10,  8.47s/it, v_num=ow_1, total_loss_train=1.46e+3, kl_local_train=37.4]"
     ]
    },
    {
     "name": "stdout",
     "output_type": "stream",
     "text": [
      "\r",
      "Epoch 504/1000:  50%|█████     | 503/1000 [1:11:48<1:10:10,  8.47s/it, v_num=ow_1, total_loss_train=1.46e+3, kl_local_train=37.4]"
     ]
    },
    {
     "name": "stdout",
     "output_type": "stream",
     "text": [
      "\r",
      "Epoch 504/1000:  50%|█████     | 504/1000 [1:11:57<1:10:54,  8.58s/it, v_num=ow_1, total_loss_train=1.46e+3, kl_local_train=37.4]"
     ]
    },
    {
     "name": "stdout",
     "output_type": "stream",
     "text": [
      "\r",
      "Epoch 504/1000:  50%|█████     | 504/1000 [1:11:57<1:10:54,  8.58s/it, v_num=ow_1, total_loss_train=1.46e+3, kl_local_train=37.2]"
     ]
    },
    {
     "name": "stdout",
     "output_type": "stream",
     "text": [
      "\r",
      "Epoch 505/1000:  50%|█████     | 504/1000 [1:11:57<1:10:54,  8.58s/it, v_num=ow_1, total_loss_train=1.46e+3, kl_local_train=37.2]"
     ]
    },
    {
     "name": "stdout",
     "output_type": "stream",
     "text": [
      "\r",
      "Epoch 505/1000:  50%|█████     | 505/1000 [1:12:06<1:11:11,  8.63s/it, v_num=ow_1, total_loss_train=1.46e+3, kl_local_train=37.2]"
     ]
    },
    {
     "name": "stdout",
     "output_type": "stream",
     "text": [
      "\r",
      "Epoch 505/1000:  50%|█████     | 505/1000 [1:12:06<1:11:11,  8.63s/it, v_num=ow_1, total_loss_train=1.46e+3, kl_local_train=37.3]"
     ]
    },
    {
     "name": "stdout",
     "output_type": "stream",
     "text": [
      "\r",
      "Epoch 506/1000:  50%|█████     | 505/1000 [1:12:06<1:11:11,  8.63s/it, v_num=ow_1, total_loss_train=1.46e+3, kl_local_train=37.3]"
     ]
    },
    {
     "name": "stdout",
     "output_type": "stream",
     "text": [
      "\r",
      "Epoch 506/1000:  51%|█████     | 506/1000 [1:12:15<1:12:33,  8.81s/it, v_num=ow_1, total_loss_train=1.46e+3, kl_local_train=37.3]"
     ]
    },
    {
     "name": "stdout",
     "output_type": "stream",
     "text": [
      "\r",
      "Epoch 506/1000:  51%|█████     | 506/1000 [1:12:15<1:12:33,  8.81s/it, v_num=ow_1, total_loss_train=1.46e+3, kl_local_train=37.3]"
     ]
    },
    {
     "name": "stdout",
     "output_type": "stream",
     "text": [
      "\r",
      "Epoch 507/1000:  51%|█████     | 506/1000 [1:12:15<1:12:33,  8.81s/it, v_num=ow_1, total_loss_train=1.46e+3, kl_local_train=37.3]"
     ]
    },
    {
     "name": "stdout",
     "output_type": "stream",
     "text": [
      "\r",
      "Epoch 507/1000:  51%|█████     | 507/1000 [1:12:23<1:09:52,  8.50s/it, v_num=ow_1, total_loss_train=1.46e+3, kl_local_train=37.3]"
     ]
    },
    {
     "name": "stdout",
     "output_type": "stream",
     "text": [
      "\r",
      "Epoch 507/1000:  51%|█████     | 507/1000 [1:12:23<1:09:52,  8.50s/it, v_num=ow_1, total_loss_train=1.46e+3, kl_local_train=37.2]"
     ]
    },
    {
     "name": "stdout",
     "output_type": "stream",
     "text": [
      "\r",
      "Epoch 508/1000:  51%|█████     | 507/1000 [1:12:23<1:09:52,  8.50s/it, v_num=ow_1, total_loss_train=1.46e+3, kl_local_train=37.2]"
     ]
    },
    {
     "name": "stdout",
     "output_type": "stream",
     "text": [
      "\r",
      "Epoch 508/1000:  51%|█████     | 508/1000 [1:12:31<1:09:08,  8.43s/it, v_num=ow_1, total_loss_train=1.46e+3, kl_local_train=37.2]"
     ]
    },
    {
     "name": "stdout",
     "output_type": "stream",
     "text": [
      "\r",
      "Epoch 508/1000:  51%|█████     | 508/1000 [1:12:31<1:09:08,  8.43s/it, v_num=ow_1, total_loss_train=1.46e+3, kl_local_train=37.2]"
     ]
    },
    {
     "name": "stdout",
     "output_type": "stream",
     "text": [
      "\r",
      "Epoch 509/1000:  51%|█████     | 508/1000 [1:12:31<1:09:08,  8.43s/it, v_num=ow_1, total_loss_train=1.46e+3, kl_local_train=37.2]"
     ]
    },
    {
     "name": "stdout",
     "output_type": "stream",
     "text": [
      "\r",
      "Epoch 509/1000:  51%|█████     | 509/1000 [1:12:39<1:08:37,  8.39s/it, v_num=ow_1, total_loss_train=1.46e+3, kl_local_train=37.2]"
     ]
    },
    {
     "name": "stdout",
     "output_type": "stream",
     "text": [
      "\r",
      "Epoch 509/1000:  51%|█████     | 509/1000 [1:12:39<1:08:37,  8.39s/it, v_num=ow_1, total_loss_train=1.46e+3, kl_local_train=37.3]"
     ]
    },
    {
     "name": "stdout",
     "output_type": "stream",
     "text": [
      "\r",
      "Epoch 510/1000:  51%|█████     | 509/1000 [1:12:39<1:08:37,  8.39s/it, v_num=ow_1, total_loss_train=1.46e+3, kl_local_train=37.3]"
     ]
    },
    {
     "name": "stdout",
     "output_type": "stream",
     "text": [
      "\r",
      "Epoch 510/1000:  51%|█████     | 510/1000 [1:12:48<1:08:29,  8.39s/it, v_num=ow_1, total_loss_train=1.46e+3, kl_local_train=37.3]"
     ]
    },
    {
     "name": "stdout",
     "output_type": "stream",
     "text": [
      "\r",
      "Epoch 510/1000:  51%|█████     | 510/1000 [1:12:48<1:08:29,  8.39s/it, v_num=ow_1, total_loss_train=1.46e+3, kl_local_train=37.3]"
     ]
    },
    {
     "name": "stdout",
     "output_type": "stream",
     "text": [
      "\r",
      "Epoch 511/1000:  51%|█████     | 510/1000 [1:12:48<1:08:29,  8.39s/it, v_num=ow_1, total_loss_train=1.46e+3, kl_local_train=37.3]"
     ]
    },
    {
     "name": "stdout",
     "output_type": "stream",
     "text": [
      "\r",
      "Epoch 511/1000:  51%|█████     | 511/1000 [1:12:56<1:07:56,  8.34s/it, v_num=ow_1, total_loss_train=1.46e+3, kl_local_train=37.3]"
     ]
    },
    {
     "name": "stdout",
     "output_type": "stream",
     "text": [
      "\r",
      "Epoch 511/1000:  51%|█████     | 511/1000 [1:12:56<1:07:56,  8.34s/it, v_num=ow_1, total_loss_train=1.46e+3, kl_local_train=37.1]"
     ]
    },
    {
     "name": "stdout",
     "output_type": "stream",
     "text": [
      "\r",
      "Epoch 512/1000:  51%|█████     | 511/1000 [1:12:56<1:07:56,  8.34s/it, v_num=ow_1, total_loss_train=1.46e+3, kl_local_train=37.1]"
     ]
    },
    {
     "name": "stdout",
     "output_type": "stream",
     "text": [
      "\r",
      "Epoch 512/1000:  51%|█████     | 512/1000 [1:13:04<1:07:53,  8.35s/it, v_num=ow_1, total_loss_train=1.46e+3, kl_local_train=37.1]"
     ]
    },
    {
     "name": "stdout",
     "output_type": "stream",
     "text": [
      "\r",
      "Epoch 512/1000:  51%|█████     | 512/1000 [1:13:04<1:07:53,  8.35s/it, v_num=ow_1, total_loss_train=1.46e+3, kl_local_train=37.3]"
     ]
    },
    {
     "name": "stdout",
     "output_type": "stream",
     "text": [
      "\r",
      "Epoch 513/1000:  51%|█████     | 512/1000 [1:13:04<1:07:53,  8.35s/it, v_num=ow_1, total_loss_train=1.46e+3, kl_local_train=37.3]"
     ]
    },
    {
     "name": "stdout",
     "output_type": "stream",
     "text": [
      "\r",
      "Epoch 513/1000:  51%|█████▏    | 513/1000 [1:13:13<1:07:44,  8.35s/it, v_num=ow_1, total_loss_train=1.46e+3, kl_local_train=37.3]"
     ]
    },
    {
     "name": "stdout",
     "output_type": "stream",
     "text": [
      "\r",
      "Epoch 513/1000:  51%|█████▏    | 513/1000 [1:13:13<1:07:44,  8.35s/it, v_num=ow_1, total_loss_train=1.46e+3, kl_local_train=37.2]"
     ]
    },
    {
     "name": "stdout",
     "output_type": "stream",
     "text": [
      "\r",
      "Epoch 514/1000:  51%|█████▏    | 513/1000 [1:13:13<1:07:44,  8.35s/it, v_num=ow_1, total_loss_train=1.46e+3, kl_local_train=37.2]"
     ]
    },
    {
     "name": "stdout",
     "output_type": "stream",
     "text": [
      "\r",
      "Epoch 514/1000:  51%|█████▏    | 514/1000 [1:13:22<1:09:41,  8.60s/it, v_num=ow_1, total_loss_train=1.46e+3, kl_local_train=37.2]"
     ]
    },
    {
     "name": "stdout",
     "output_type": "stream",
     "text": [
      "\r",
      "Epoch 514/1000:  51%|█████▏    | 514/1000 [1:13:22<1:09:41,  8.60s/it, v_num=ow_1, total_loss_train=1.46e+3, kl_local_train=37.3]"
     ]
    },
    {
     "name": "stdout",
     "output_type": "stream",
     "text": [
      "\r",
      "Epoch 515/1000:  51%|█████▏    | 514/1000 [1:13:22<1:09:41,  8.60s/it, v_num=ow_1, total_loss_train=1.46e+3, kl_local_train=37.3]"
     ]
    },
    {
     "name": "stdout",
     "output_type": "stream",
     "text": [
      "\r",
      "Epoch 515/1000:  52%|█████▏    | 515/1000 [1:13:31<1:10:10,  8.68s/it, v_num=ow_1, total_loss_train=1.46e+3, kl_local_train=37.3]"
     ]
    },
    {
     "name": "stdout",
     "output_type": "stream",
     "text": [
      "\r",
      "Epoch 515/1000:  52%|█████▏    | 515/1000 [1:13:31<1:10:10,  8.68s/it, v_num=ow_1, total_loss_train=1.46e+3, kl_local_train=37.3]"
     ]
    },
    {
     "name": "stdout",
     "output_type": "stream",
     "text": [
      "\r",
      "Epoch 516/1000:  52%|█████▏    | 515/1000 [1:13:31<1:10:10,  8.68s/it, v_num=ow_1, total_loss_train=1.46e+3, kl_local_train=37.3]"
     ]
    },
    {
     "name": "stdout",
     "output_type": "stream",
     "text": [
      "\r",
      "Epoch 516/1000:  52%|█████▏    | 516/1000 [1:13:39<1:10:17,  8.71s/it, v_num=ow_1, total_loss_train=1.46e+3, kl_local_train=37.3]"
     ]
    },
    {
     "name": "stdout",
     "output_type": "stream",
     "text": [
      "\r",
      "Epoch 516/1000:  52%|█████▏    | 516/1000 [1:13:39<1:10:17,  8.71s/it, v_num=ow_1, total_loss_train=1.46e+3, kl_local_train=37.3]"
     ]
    },
    {
     "name": "stdout",
     "output_type": "stream",
     "text": [
      "\r",
      "Epoch 517/1000:  52%|█████▏    | 516/1000 [1:13:39<1:10:17,  8.71s/it, v_num=ow_1, total_loss_train=1.46e+3, kl_local_train=37.3]"
     ]
    },
    {
     "name": "stdout",
     "output_type": "stream",
     "text": [
      "\r",
      "Epoch 517/1000:  52%|█████▏    | 517/1000 [1:13:49<1:11:15,  8.85s/it, v_num=ow_1, total_loss_train=1.46e+3, kl_local_train=37.3]"
     ]
    },
    {
     "name": "stdout",
     "output_type": "stream",
     "text": [
      "\r",
      "Epoch 517/1000:  52%|█████▏    | 517/1000 [1:13:49<1:11:15,  8.85s/it, v_num=ow_1, total_loss_train=1.46e+3, kl_local_train=37.2]"
     ]
    },
    {
     "name": "stdout",
     "output_type": "stream",
     "text": [
      "\r",
      "Epoch 518/1000:  52%|█████▏    | 517/1000 [1:13:49<1:11:15,  8.85s/it, v_num=ow_1, total_loss_train=1.46e+3, kl_local_train=37.2]"
     ]
    },
    {
     "name": "stdout",
     "output_type": "stream",
     "text": [
      "\r",
      "Epoch 518/1000:  52%|█████▏    | 518/1000 [1:13:58<1:11:35,  8.91s/it, v_num=ow_1, total_loss_train=1.46e+3, kl_local_train=37.2]"
     ]
    },
    {
     "name": "stdout",
     "output_type": "stream",
     "text": [
      "\r",
      "Epoch 518/1000:  52%|█████▏    | 518/1000 [1:13:58<1:11:35,  8.91s/it, v_num=ow_1, total_loss_train=1.46e+3, kl_local_train=37.4]"
     ]
    },
    {
     "name": "stdout",
     "output_type": "stream",
     "text": [
      "\r",
      "Epoch 519/1000:  52%|█████▏    | 518/1000 [1:13:58<1:11:35,  8.91s/it, v_num=ow_1, total_loss_train=1.46e+3, kl_local_train=37.4]"
     ]
    },
    {
     "name": "stdout",
     "output_type": "stream",
     "text": [
      "\r",
      "Epoch 519/1000:  52%|█████▏    | 519/1000 [1:14:06<1:09:32,  8.68s/it, v_num=ow_1, total_loss_train=1.46e+3, kl_local_train=37.4]"
     ]
    },
    {
     "name": "stdout",
     "output_type": "stream",
     "text": [
      "\r",
      "Epoch 519/1000:  52%|█████▏    | 519/1000 [1:14:06<1:09:32,  8.68s/it, v_num=ow_1, total_loss_train=1.46e+3, kl_local_train=37.3]"
     ]
    },
    {
     "name": "stdout",
     "output_type": "stream",
     "text": [
      "\r",
      "Epoch 520/1000:  52%|█████▏    | 519/1000 [1:14:06<1:09:32,  8.68s/it, v_num=ow_1, total_loss_train=1.46e+3, kl_local_train=37.3]"
     ]
    },
    {
     "name": "stdout",
     "output_type": "stream",
     "text": [
      "\r",
      "Epoch 520/1000:  52%|█████▏    | 520/1000 [1:14:14<1:08:15,  8.53s/it, v_num=ow_1, total_loss_train=1.46e+3, kl_local_train=37.3]"
     ]
    },
    {
     "name": "stdout",
     "output_type": "stream",
     "text": [
      "\r",
      "Epoch 520/1000:  52%|█████▏    | 520/1000 [1:14:14<1:08:15,  8.53s/it, v_num=ow_1, total_loss_train=1.46e+3, kl_local_train=37.1]"
     ]
    },
    {
     "name": "stdout",
     "output_type": "stream",
     "text": [
      "\r",
      "Epoch 521/1000:  52%|█████▏    | 520/1000 [1:14:14<1:08:15,  8.53s/it, v_num=ow_1, total_loss_train=1.46e+3, kl_local_train=37.1]"
     ]
    },
    {
     "name": "stdout",
     "output_type": "stream",
     "text": [
      "\r",
      "Epoch 521/1000:  52%|█████▏    | 521/1000 [1:14:22<1:07:45,  8.49s/it, v_num=ow_1, total_loss_train=1.46e+3, kl_local_train=37.1]"
     ]
    },
    {
     "name": "stdout",
     "output_type": "stream",
     "text": [
      "\r",
      "Epoch 521/1000:  52%|█████▏    | 521/1000 [1:14:22<1:07:45,  8.49s/it, v_num=ow_1, total_loss_train=1.46e+3, kl_local_train=37.4]"
     ]
    },
    {
     "name": "stdout",
     "output_type": "stream",
     "text": [
      "\r",
      "Epoch 522/1000:  52%|█████▏    | 521/1000 [1:14:22<1:07:45,  8.49s/it, v_num=ow_1, total_loss_train=1.46e+3, kl_local_train=37.4]"
     ]
    },
    {
     "name": "stdout",
     "output_type": "stream",
     "text": [
      "\r",
      "Epoch 522/1000:  52%|█████▏    | 522/1000 [1:14:31<1:07:37,  8.49s/it, v_num=ow_1, total_loss_train=1.46e+3, kl_local_train=37.4]"
     ]
    },
    {
     "name": "stdout",
     "output_type": "stream",
     "text": [
      "\r",
      "Epoch 522/1000:  52%|█████▏    | 522/1000 [1:14:31<1:07:37,  8.49s/it, v_num=ow_1, total_loss_train=1.46e+3, kl_local_train=37.4]"
     ]
    },
    {
     "name": "stdout",
     "output_type": "stream",
     "text": [
      "\r",
      "Epoch 523/1000:  52%|█████▏    | 522/1000 [1:14:31<1:07:37,  8.49s/it, v_num=ow_1, total_loss_train=1.46e+3, kl_local_train=37.4]"
     ]
    },
    {
     "name": "stdout",
     "output_type": "stream",
     "text": [
      "\r",
      "Epoch 523/1000:  52%|█████▏    | 523/1000 [1:14:38<1:05:07,  8.19s/it, v_num=ow_1, total_loss_train=1.46e+3, kl_local_train=37.4]"
     ]
    },
    {
     "name": "stdout",
     "output_type": "stream",
     "text": [
      "\r",
      "Epoch 523/1000:  52%|█████▏    | 523/1000 [1:14:38<1:05:07,  8.19s/it, v_num=ow_1, total_loss_train=1.46e+3, kl_local_train=37.3]"
     ]
    },
    {
     "name": "stdout",
     "output_type": "stream",
     "text": [
      "\r",
      "Epoch 524/1000:  52%|█████▏    | 523/1000 [1:14:38<1:05:07,  8.19s/it, v_num=ow_1, total_loss_train=1.46e+3, kl_local_train=37.3]"
     ]
    },
    {
     "name": "stdout",
     "output_type": "stream",
     "text": [
      "\r",
      "Epoch 524/1000:  52%|█████▏    | 524/1000 [1:14:46<1:03:20,  7.98s/it, v_num=ow_1, total_loss_train=1.46e+3, kl_local_train=37.3]"
     ]
    },
    {
     "name": "stdout",
     "output_type": "stream",
     "text": [
      "\r",
      "Epoch 524/1000:  52%|█████▏    | 524/1000 [1:14:46<1:03:20,  7.98s/it, v_num=ow_1, total_loss_train=1.46e+3, kl_local_train=37.2]"
     ]
    },
    {
     "name": "stdout",
     "output_type": "stream",
     "text": [
      "\r",
      "Epoch 525/1000:  52%|█████▏    | 524/1000 [1:14:46<1:03:20,  7.98s/it, v_num=ow_1, total_loss_train=1.46e+3, kl_local_train=37.2]"
     ]
    },
    {
     "name": "stdout",
     "output_type": "stream",
     "text": [
      "\r",
      "Epoch 525/1000:  52%|█████▎    | 525/1000 [1:14:54<1:03:43,  8.05s/it, v_num=ow_1, total_loss_train=1.46e+3, kl_local_train=37.2]"
     ]
    },
    {
     "name": "stdout",
     "output_type": "stream",
     "text": [
      "\r",
      "Epoch 525/1000:  52%|█████▎    | 525/1000 [1:14:54<1:03:43,  8.05s/it, v_num=ow_1, total_loss_train=1.46e+3, kl_local_train=37.2]"
     ]
    },
    {
     "name": "stdout",
     "output_type": "stream",
     "text": [
      "\r",
      "Epoch 526/1000:  52%|█████▎    | 525/1000 [1:14:54<1:03:43,  8.05s/it, v_num=ow_1, total_loss_train=1.46e+3, kl_local_train=37.2]"
     ]
    },
    {
     "name": "stdout",
     "output_type": "stream",
     "text": [
      "\r",
      "Epoch 526/1000:  53%|█████▎    | 526/1000 [1:15:02<1:03:34,  8.05s/it, v_num=ow_1, total_loss_train=1.46e+3, kl_local_train=37.2]"
     ]
    },
    {
     "name": "stdout",
     "output_type": "stream",
     "text": [
      "\r",
      "Epoch 526/1000:  53%|█████▎    | 526/1000 [1:15:02<1:03:34,  8.05s/it, v_num=ow_1, total_loss_train=1.46e+3, kl_local_train=37.3]"
     ]
    },
    {
     "name": "stdout",
     "output_type": "stream",
     "text": [
      "\r",
      "Epoch 527/1000:  53%|█████▎    | 526/1000 [1:15:02<1:03:34,  8.05s/it, v_num=ow_1, total_loss_train=1.46e+3, kl_local_train=37.3]"
     ]
    },
    {
     "name": "stdout",
     "output_type": "stream",
     "text": [
      "\r",
      "Epoch 527/1000:  53%|█████▎    | 527/1000 [1:15:10<1:03:42,  8.08s/it, v_num=ow_1, total_loss_train=1.46e+3, kl_local_train=37.3]"
     ]
    },
    {
     "name": "stdout",
     "output_type": "stream",
     "text": [
      "\r",
      "Epoch 527/1000:  53%|█████▎    | 527/1000 [1:15:10<1:03:42,  8.08s/it, v_num=ow_1, total_loss_train=1.46e+3, kl_local_train=37.3]"
     ]
    },
    {
     "name": "stdout",
     "output_type": "stream",
     "text": [
      "\r",
      "Epoch 528/1000:  53%|█████▎    | 527/1000 [1:15:10<1:03:42,  8.08s/it, v_num=ow_1, total_loss_train=1.46e+3, kl_local_train=37.3]"
     ]
    },
    {
     "name": "stdout",
     "output_type": "stream",
     "text": [
      "\r",
      "Epoch 528/1000:  53%|█████▎    | 528/1000 [1:15:18<1:03:09,  8.03s/it, v_num=ow_1, total_loss_train=1.46e+3, kl_local_train=37.3]"
     ]
    },
    {
     "name": "stdout",
     "output_type": "stream",
     "text": [
      "\r",
      "Epoch 528/1000:  53%|█████▎    | 528/1000 [1:15:18<1:03:09,  8.03s/it, v_num=ow_1, total_loss_train=1.46e+3, kl_local_train=37.3]"
     ]
    },
    {
     "name": "stdout",
     "output_type": "stream",
     "text": [
      "\r",
      "Epoch 529/1000:  53%|█████▎    | 528/1000 [1:15:18<1:03:09,  8.03s/it, v_num=ow_1, total_loss_train=1.46e+3, kl_local_train=37.3]"
     ]
    },
    {
     "name": "stdout",
     "output_type": "stream",
     "text": [
      "\r",
      "Epoch 529/1000:  53%|█████▎    | 529/1000 [1:15:26<1:02:27,  7.96s/it, v_num=ow_1, total_loss_train=1.46e+3, kl_local_train=37.3]"
     ]
    },
    {
     "name": "stdout",
     "output_type": "stream",
     "text": [
      "\r",
      "Epoch 529/1000:  53%|█████▎    | 529/1000 [1:15:26<1:02:27,  7.96s/it, v_num=ow_1, total_loss_train=1.46e+3, kl_local_train=37.3]"
     ]
    },
    {
     "name": "stdout",
     "output_type": "stream",
     "text": [
      "\r",
      "Epoch 530/1000:  53%|█████▎    | 529/1000 [1:15:26<1:02:27,  7.96s/it, v_num=ow_1, total_loss_train=1.46e+3, kl_local_train=37.3]"
     ]
    },
    {
     "name": "stdout",
     "output_type": "stream",
     "text": [
      "\r",
      "Epoch 530/1000:  53%|█████▎    | 530/1000 [1:15:34<1:02:14,  7.95s/it, v_num=ow_1, total_loss_train=1.46e+3, kl_local_train=37.3]"
     ]
    },
    {
     "name": "stdout",
     "output_type": "stream",
     "text": [
      "\r",
      "Epoch 530/1000:  53%|█████▎    | 530/1000 [1:15:34<1:02:14,  7.95s/it, v_num=ow_1, total_loss_train=1.46e+3, kl_local_train=37.3]"
     ]
    },
    {
     "name": "stdout",
     "output_type": "stream",
     "text": [
      "\r",
      "Epoch 531/1000:  53%|█████▎    | 530/1000 [1:15:34<1:02:14,  7.95s/it, v_num=ow_1, total_loss_train=1.46e+3, kl_local_train=37.3]"
     ]
    },
    {
     "name": "stdout",
     "output_type": "stream",
     "text": [
      "\r",
      "Epoch 531/1000:  53%|█████▎    | 531/1000 [1:15:42<1:03:39,  8.14s/it, v_num=ow_1, total_loss_train=1.46e+3, kl_local_train=37.3]"
     ]
    },
    {
     "name": "stdout",
     "output_type": "stream",
     "text": [
      "\r",
      "Epoch 531/1000:  53%|█████▎    | 531/1000 [1:15:42<1:03:39,  8.14s/it, v_num=ow_1, total_loss_train=1.46e+3, kl_local_train=37.5]"
     ]
    },
    {
     "name": "stdout",
     "output_type": "stream",
     "text": [
      "\r",
      "Epoch 532/1000:  53%|█████▎    | 531/1000 [1:15:42<1:03:39,  8.14s/it, v_num=ow_1, total_loss_train=1.46e+3, kl_local_train=37.5]"
     ]
    },
    {
     "name": "stdout",
     "output_type": "stream",
     "text": [
      "\r",
      "Epoch 532/1000:  53%|█████▎    | 532/1000 [1:15:51<1:04:52,  8.32s/it, v_num=ow_1, total_loss_train=1.46e+3, kl_local_train=37.5]"
     ]
    },
    {
     "name": "stdout",
     "output_type": "stream",
     "text": [
      "\r",
      "Epoch 532/1000:  53%|█████▎    | 532/1000 [1:15:51<1:04:52,  8.32s/it, v_num=ow_1, total_loss_train=1.46e+3, kl_local_train=37.3]"
     ]
    },
    {
     "name": "stdout",
     "output_type": "stream",
     "text": [
      "\r",
      "Epoch 533/1000:  53%|█████▎    | 532/1000 [1:15:51<1:04:52,  8.32s/it, v_num=ow_1, total_loss_train=1.46e+3, kl_local_train=37.3]"
     ]
    },
    {
     "name": "stdout",
     "output_type": "stream",
     "text": [
      "\r",
      "Epoch 533/1000:  53%|█████▎    | 533/1000 [1:16:01<1:07:35,  8.68s/it, v_num=ow_1, total_loss_train=1.46e+3, kl_local_train=37.3]"
     ]
    },
    {
     "name": "stdout",
     "output_type": "stream",
     "text": [
      "\r",
      "Epoch 533/1000:  53%|█████▎    | 533/1000 [1:16:01<1:07:35,  8.68s/it, v_num=ow_1, total_loss_train=1.46e+3, kl_local_train=37.4]"
     ]
    },
    {
     "name": "stdout",
     "output_type": "stream",
     "text": [
      "\r",
      "Epoch 534/1000:  53%|█████▎    | 533/1000 [1:16:01<1:07:35,  8.68s/it, v_num=ow_1, total_loss_train=1.46e+3, kl_local_train=37.4]"
     ]
    },
    {
     "name": "stdout",
     "output_type": "stream",
     "text": [
      "\r",
      "Epoch 534/1000:  53%|█████▎    | 534/1000 [1:16:09<1:05:58,  8.49s/it, v_num=ow_1, total_loss_train=1.46e+3, kl_local_train=37.4]"
     ]
    },
    {
     "name": "stdout",
     "output_type": "stream",
     "text": [
      "\r",
      "Epoch 534/1000:  53%|█████▎    | 534/1000 [1:16:09<1:05:58,  8.49s/it, v_num=ow_1, total_loss_train=1.46e+3, kl_local_train=37.3]"
     ]
    },
    {
     "name": "stdout",
     "output_type": "stream",
     "text": [
      "\r",
      "Epoch 535/1000:  53%|█████▎    | 534/1000 [1:16:09<1:05:58,  8.49s/it, v_num=ow_1, total_loss_train=1.46e+3, kl_local_train=37.3]"
     ]
    },
    {
     "name": "stdout",
     "output_type": "stream",
     "text": [
      "\r",
      "Epoch 535/1000:  54%|█████▎    | 535/1000 [1:16:17<1:06:12,  8.54s/it, v_num=ow_1, total_loss_train=1.46e+3, kl_local_train=37.3]"
     ]
    },
    {
     "name": "stdout",
     "output_type": "stream",
     "text": [
      "\r",
      "Epoch 535/1000:  54%|█████▎    | 535/1000 [1:16:17<1:06:12,  8.54s/it, v_num=ow_1, total_loss_train=1.46e+3, kl_local_train=37.3]"
     ]
    },
    {
     "name": "stdout",
     "output_type": "stream",
     "text": [
      "\r",
      "Epoch 536/1000:  54%|█████▎    | 535/1000 [1:16:17<1:06:12,  8.54s/it, v_num=ow_1, total_loss_train=1.46e+3, kl_local_train=37.3]"
     ]
    },
    {
     "name": "stdout",
     "output_type": "stream",
     "text": [
      "\r",
      "Epoch 536/1000:  54%|█████▎    | 536/1000 [1:16:27<1:08:04,  8.80s/it, v_num=ow_1, total_loss_train=1.46e+3, kl_local_train=37.3]"
     ]
    },
    {
     "name": "stdout",
     "output_type": "stream",
     "text": [
      "\r",
      "Epoch 536/1000:  54%|█████▎    | 536/1000 [1:16:27<1:08:04,  8.80s/it, v_num=ow_1, total_loss_train=1.46e+3, kl_local_train=37.4]"
     ]
    },
    {
     "name": "stdout",
     "output_type": "stream",
     "text": [
      "\r",
      "Epoch 537/1000:  54%|█████▎    | 536/1000 [1:16:27<1:08:04,  8.80s/it, v_num=ow_1, total_loss_train=1.46e+3, kl_local_train=37.4]"
     ]
    },
    {
     "name": "stdout",
     "output_type": "stream",
     "text": [
      "\r",
      "Epoch 537/1000:  54%|█████▎    | 537/1000 [1:16:35<1:05:57,  8.55s/it, v_num=ow_1, total_loss_train=1.46e+3, kl_local_train=37.4]"
     ]
    },
    {
     "name": "stdout",
     "output_type": "stream",
     "text": [
      "\r",
      "Epoch 537/1000:  54%|█████▎    | 537/1000 [1:16:35<1:05:57,  8.55s/it, v_num=ow_1, total_loss_train=1.46e+3, kl_local_train=37.2]"
     ]
    },
    {
     "name": "stdout",
     "output_type": "stream",
     "text": [
      "\r",
      "Epoch 538/1000:  54%|█████▎    | 537/1000 [1:16:35<1:05:57,  8.55s/it, v_num=ow_1, total_loss_train=1.46e+3, kl_local_train=37.2]"
     ]
    },
    {
     "name": "stdout",
     "output_type": "stream",
     "text": [
      "\r",
      "Epoch 538/1000:  54%|█████▍    | 538/1000 [1:16:43<1:04:38,  8.40s/it, v_num=ow_1, total_loss_train=1.46e+3, kl_local_train=37.2]"
     ]
    },
    {
     "name": "stdout",
     "output_type": "stream",
     "text": [
      "\r",
      "Epoch 538/1000:  54%|█████▍    | 538/1000 [1:16:43<1:04:38,  8.40s/it, v_num=ow_1, total_loss_train=1.46e+3, kl_local_train=37.2]"
     ]
    },
    {
     "name": "stdout",
     "output_type": "stream",
     "text": [
      "\r",
      "Epoch 539/1000:  54%|█████▍    | 538/1000 [1:16:43<1:04:38,  8.40s/it, v_num=ow_1, total_loss_train=1.46e+3, kl_local_train=37.2]"
     ]
    },
    {
     "name": "stdout",
     "output_type": "stream",
     "text": [
      "\r",
      "Epoch 539/1000:  54%|█████▍    | 539/1000 [1:16:52<1:06:13,  8.62s/it, v_num=ow_1, total_loss_train=1.46e+3, kl_local_train=37.2]"
     ]
    },
    {
     "name": "stdout",
     "output_type": "stream",
     "text": [
      "\r",
      "Epoch 539/1000:  54%|█████▍    | 539/1000 [1:16:52<1:06:13,  8.62s/it, v_num=ow_1, total_loss_train=1.46e+3, kl_local_train=37.2]"
     ]
    },
    {
     "name": "stdout",
     "output_type": "stream",
     "text": [
      "\r",
      "Epoch 540/1000:  54%|█████▍    | 539/1000 [1:16:52<1:06:13,  8.62s/it, v_num=ow_1, total_loss_train=1.46e+3, kl_local_train=37.2]"
     ]
    },
    {
     "name": "stdout",
     "output_type": "stream",
     "text": [
      "\r",
      "Epoch 540/1000:  54%|█████▍    | 540/1000 [1:17:01<1:06:07,  8.62s/it, v_num=ow_1, total_loss_train=1.46e+3, kl_local_train=37.2]"
     ]
    },
    {
     "name": "stdout",
     "output_type": "stream",
     "text": [
      "\r",
      "Epoch 540/1000:  54%|█████▍    | 540/1000 [1:17:01<1:06:07,  8.62s/it, v_num=ow_1, total_loss_train=1.46e+3, kl_local_train=37.4]"
     ]
    },
    {
     "name": "stdout",
     "output_type": "stream",
     "text": [
      "\r",
      "Epoch 541/1000:  54%|█████▍    | 540/1000 [1:17:01<1:06:07,  8.62s/it, v_num=ow_1, total_loss_train=1.46e+3, kl_local_train=37.4]"
     ]
    },
    {
     "name": "stdout",
     "output_type": "stream",
     "text": [
      "\r",
      "Epoch 541/1000:  54%|█████▍    | 541/1000 [1:17:08<1:03:51,  8.35s/it, v_num=ow_1, total_loss_train=1.46e+3, kl_local_train=37.4]"
     ]
    },
    {
     "name": "stdout",
     "output_type": "stream",
     "text": [
      "\r",
      "Epoch 541/1000:  54%|█████▍    | 541/1000 [1:17:08<1:03:51,  8.35s/it, v_num=ow_1, total_loss_train=1.46e+3, kl_local_train=37.3]"
     ]
    },
    {
     "name": "stdout",
     "output_type": "stream",
     "text": [
      "\r",
      "Epoch 542/1000:  54%|█████▍    | 541/1000 [1:17:08<1:03:51,  8.35s/it, v_num=ow_1, total_loss_train=1.46e+3, kl_local_train=37.3]"
     ]
    },
    {
     "name": "stdout",
     "output_type": "stream",
     "text": [
      "\r",
      "Epoch 542/1000:  54%|█████▍    | 542/1000 [1:17:17<1:03:49,  8.36s/it, v_num=ow_1, total_loss_train=1.46e+3, kl_local_train=37.3]"
     ]
    },
    {
     "name": "stdout",
     "output_type": "stream",
     "text": [
      "\r",
      "Epoch 542/1000:  54%|█████▍    | 542/1000 [1:17:17<1:03:49,  8.36s/it, v_num=ow_1, total_loss_train=1.46e+3, kl_local_train=37.3]"
     ]
    },
    {
     "name": "stdout",
     "output_type": "stream",
     "text": [
      "\r",
      "Epoch 543/1000:  54%|█████▍    | 542/1000 [1:17:17<1:03:49,  8.36s/it, v_num=ow_1, total_loss_train=1.46e+3, kl_local_train=37.3]"
     ]
    },
    {
     "name": "stdout",
     "output_type": "stream",
     "text": [
      "\r",
      "Epoch 543/1000:  54%|█████▍    | 543/1000 [1:17:25<1:03:02,  8.28s/it, v_num=ow_1, total_loss_train=1.46e+3, kl_local_train=37.3]"
     ]
    },
    {
     "name": "stdout",
     "output_type": "stream",
     "text": [
      "\r",
      "Epoch 543/1000:  54%|█████▍    | 543/1000 [1:17:25<1:03:02,  8.28s/it, v_num=ow_1, total_loss_train=1.46e+3, kl_local_train=37.2]"
     ]
    },
    {
     "name": "stdout",
     "output_type": "stream",
     "text": [
      "\r",
      "Epoch 544/1000:  54%|█████▍    | 543/1000 [1:17:25<1:03:02,  8.28s/it, v_num=ow_1, total_loss_train=1.46e+3, kl_local_train=37.2]"
     ]
    },
    {
     "name": "stdout",
     "output_type": "stream",
     "text": [
      "\r",
      "Epoch 544/1000:  54%|█████▍    | 544/1000 [1:17:33<1:02:47,  8.26s/it, v_num=ow_1, total_loss_train=1.46e+3, kl_local_train=37.2]"
     ]
    },
    {
     "name": "stdout",
     "output_type": "stream",
     "text": [
      "\r",
      "Epoch 544/1000:  54%|█████▍    | 544/1000 [1:17:33<1:02:47,  8.26s/it, v_num=ow_1, total_loss_train=1.46e+3, kl_local_train=37.4]"
     ]
    },
    {
     "name": "stdout",
     "output_type": "stream",
     "text": [
      "\r",
      "Epoch 545/1000:  54%|█████▍    | 544/1000 [1:17:33<1:02:47,  8.26s/it, v_num=ow_1, total_loss_train=1.46e+3, kl_local_train=37.4]"
     ]
    },
    {
     "name": "stdout",
     "output_type": "stream",
     "text": [
      "\r",
      "Epoch 545/1000:  55%|█████▍    | 545/1000 [1:17:41<1:02:36,  8.26s/it, v_num=ow_1, total_loss_train=1.46e+3, kl_local_train=37.4]"
     ]
    },
    {
     "name": "stdout",
     "output_type": "stream",
     "text": [
      "\r",
      "Epoch 545/1000:  55%|█████▍    | 545/1000 [1:17:41<1:02:36,  8.26s/it, v_num=ow_1, total_loss_train=1.46e+3, kl_local_train=37.5]"
     ]
    },
    {
     "name": "stdout",
     "output_type": "stream",
     "text": [
      "\r",
      "Epoch 546/1000:  55%|█████▍    | 545/1000 [1:17:41<1:02:36,  8.26s/it, v_num=ow_1, total_loss_train=1.46e+3, kl_local_train=37.5]"
     ]
    },
    {
     "name": "stdout",
     "output_type": "stream",
     "text": [
      "\r",
      "Epoch 546/1000:  55%|█████▍    | 546/1000 [1:17:49<1:02:01,  8.20s/it, v_num=ow_1, total_loss_train=1.46e+3, kl_local_train=37.5]"
     ]
    },
    {
     "name": "stdout",
     "output_type": "stream",
     "text": [
      "\r",
      "Epoch 546/1000:  55%|█████▍    | 546/1000 [1:17:49<1:02:01,  8.20s/it, v_num=ow_1, total_loss_train=1.46e+3, kl_local_train=37.2]"
     ]
    },
    {
     "name": "stdout",
     "output_type": "stream",
     "text": [
      "\r",
      "Epoch 547/1000:  55%|█████▍    | 546/1000 [1:17:49<1:02:01,  8.20s/it, v_num=ow_1, total_loss_train=1.46e+3, kl_local_train=37.2]"
     ]
    },
    {
     "name": "stdout",
     "output_type": "stream",
     "text": [
      "\r",
      "Epoch 547/1000:  55%|█████▍    | 547/1000 [1:17:58<1:03:21,  8.39s/it, v_num=ow_1, total_loss_train=1.46e+3, kl_local_train=37.2]"
     ]
    },
    {
     "name": "stdout",
     "output_type": "stream",
     "text": [
      "\r",
      "Epoch 547/1000:  55%|█████▍    | 547/1000 [1:17:58<1:03:21,  8.39s/it, v_num=ow_1, total_loss_train=1.46e+3, kl_local_train=37.3]"
     ]
    },
    {
     "name": "stdout",
     "output_type": "stream",
     "text": [
      "\r",
      "Epoch 548/1000:  55%|█████▍    | 547/1000 [1:17:58<1:03:21,  8.39s/it, v_num=ow_1, total_loss_train=1.46e+3, kl_local_train=37.3]"
     ]
    },
    {
     "name": "stdout",
     "output_type": "stream",
     "text": [
      "\r",
      "Epoch 548/1000:  55%|█████▍    | 548/1000 [1:18:06<1:02:53,  8.35s/it, v_num=ow_1, total_loss_train=1.46e+3, kl_local_train=37.3]"
     ]
    },
    {
     "name": "stdout",
     "output_type": "stream",
     "text": [
      "\r",
      "Epoch 548/1000:  55%|█████▍    | 548/1000 [1:18:06<1:02:53,  8.35s/it, v_num=ow_1, total_loss_train=1.46e+3, kl_local_train=37.3]"
     ]
    },
    {
     "name": "stdout",
     "output_type": "stream",
     "text": [
      "\r",
      "Epoch 549/1000:  55%|█████▍    | 548/1000 [1:18:06<1:02:53,  8.35s/it, v_num=ow_1, total_loss_train=1.46e+3, kl_local_train=37.3]"
     ]
    },
    {
     "name": "stdout",
     "output_type": "stream",
     "text": [
      "\r",
      "Epoch 549/1000:  55%|█████▍    | 549/1000 [1:18:17<1:06:46,  8.88s/it, v_num=ow_1, total_loss_train=1.46e+3, kl_local_train=37.3]"
     ]
    },
    {
     "name": "stdout",
     "output_type": "stream",
     "text": [
      "\r",
      "Epoch 549/1000:  55%|█████▍    | 549/1000 [1:18:17<1:06:46,  8.88s/it, v_num=ow_1, total_loss_train=1.46e+3, kl_local_train=37.2]"
     ]
    },
    {
     "name": "stdout",
     "output_type": "stream",
     "text": [
      "\r",
      "Epoch 550/1000:  55%|█████▍    | 549/1000 [1:18:17<1:06:46,  8.88s/it, v_num=ow_1, total_loss_train=1.46e+3, kl_local_train=37.2]"
     ]
    },
    {
     "name": "stdout",
     "output_type": "stream",
     "text": [
      "\r",
      "Epoch 550/1000:  55%|█████▌    | 550/1000 [1:18:25<1:06:42,  8.89s/it, v_num=ow_1, total_loss_train=1.46e+3, kl_local_train=37.2]"
     ]
    },
    {
     "name": "stdout",
     "output_type": "stream",
     "text": [
      "\r",
      "Epoch 550/1000:  55%|█████▌    | 550/1000 [1:18:25<1:06:42,  8.89s/it, v_num=ow_1, total_loss_train=1.46e+3, kl_local_train=37.3]"
     ]
    },
    {
     "name": "stdout",
     "output_type": "stream",
     "text": [
      "\r",
      "Epoch 551/1000:  55%|█████▌    | 550/1000 [1:18:25<1:06:42,  8.89s/it, v_num=ow_1, total_loss_train=1.46e+3, kl_local_train=37.3]"
     ]
    },
    {
     "name": "stdout",
     "output_type": "stream",
     "text": [
      "\r",
      "Epoch 551/1000:  55%|█████▌    | 551/1000 [1:18:33<1:04:34,  8.63s/it, v_num=ow_1, total_loss_train=1.46e+3, kl_local_train=37.3]"
     ]
    },
    {
     "name": "stdout",
     "output_type": "stream",
     "text": [
      "\r",
      "Epoch 551/1000:  55%|█████▌    | 551/1000 [1:18:33<1:04:34,  8.63s/it, v_num=ow_1, total_loss_train=1.46e+3, kl_local_train=37.2]"
     ]
    },
    {
     "name": "stdout",
     "output_type": "stream",
     "text": [
      "\r",
      "Epoch 552/1000:  55%|█████▌    | 551/1000 [1:18:33<1:04:34,  8.63s/it, v_num=ow_1, total_loss_train=1.46e+3, kl_local_train=37.2]"
     ]
    },
    {
     "name": "stdout",
     "output_type": "stream",
     "text": [
      "\r",
      "Epoch 552/1000:  55%|█████▌    | 552/1000 [1:18:42<1:04:50,  8.68s/it, v_num=ow_1, total_loss_train=1.46e+3, kl_local_train=37.2]"
     ]
    },
    {
     "name": "stdout",
     "output_type": "stream",
     "text": [
      "\r",
      "Epoch 552/1000:  55%|█████▌    | 552/1000 [1:18:42<1:04:50,  8.68s/it, v_num=ow_1, total_loss_train=1.46e+3, kl_local_train=37.2]"
     ]
    },
    {
     "name": "stdout",
     "output_type": "stream",
     "text": [
      "\r",
      "Epoch 553/1000:  55%|█████▌    | 552/1000 [1:18:42<1:04:50,  8.68s/it, v_num=ow_1, total_loss_train=1.46e+3, kl_local_train=37.2]"
     ]
    },
    {
     "name": "stdout",
     "output_type": "stream",
     "text": [
      "\r",
      "Epoch 553/1000:  55%|█████▌    | 553/1000 [1:18:51<1:05:00,  8.73s/it, v_num=ow_1, total_loss_train=1.46e+3, kl_local_train=37.2]"
     ]
    },
    {
     "name": "stdout",
     "output_type": "stream",
     "text": [
      "\r",
      "Epoch 553/1000:  55%|█████▌    | 553/1000 [1:18:51<1:05:00,  8.73s/it, v_num=ow_1, total_loss_train=1.46e+3, kl_local_train=37.4]"
     ]
    },
    {
     "name": "stdout",
     "output_type": "stream",
     "text": [
      "\r",
      "Epoch 554/1000:  55%|█████▌    | 553/1000 [1:18:51<1:05:00,  8.73s/it, v_num=ow_1, total_loss_train=1.46e+3, kl_local_train=37.4]"
     ]
    },
    {
     "name": "stdout",
     "output_type": "stream",
     "text": [
      "\r",
      "Epoch 554/1000:  55%|█████▌    | 554/1000 [1:19:00<1:05:53,  8.86s/it, v_num=ow_1, total_loss_train=1.46e+3, kl_local_train=37.4]"
     ]
    },
    {
     "name": "stdout",
     "output_type": "stream",
     "text": [
      "\r",
      "Epoch 554/1000:  55%|█████▌    | 554/1000 [1:19:00<1:05:53,  8.86s/it, v_num=ow_1, total_loss_train=1.46e+3, kl_local_train=37.3]"
     ]
    },
    {
     "name": "stdout",
     "output_type": "stream",
     "text": [
      "\r",
      "Epoch 555/1000:  55%|█████▌    | 554/1000 [1:19:00<1:05:53,  8.86s/it, v_num=ow_1, total_loss_train=1.46e+3, kl_local_train=37.3]"
     ]
    },
    {
     "name": "stdout",
     "output_type": "stream",
     "text": [
      "\r",
      "Epoch 555/1000:  56%|█████▌    | 555/1000 [1:19:08<1:03:58,  8.63s/it, v_num=ow_1, total_loss_train=1.46e+3, kl_local_train=37.3]"
     ]
    },
    {
     "name": "stdout",
     "output_type": "stream",
     "text": [
      "\r",
      "Epoch 555/1000:  56%|█████▌    | 555/1000 [1:19:08<1:03:58,  8.63s/it, v_num=ow_1, total_loss_train=1.46e+3, kl_local_train=37.3]"
     ]
    },
    {
     "name": "stdout",
     "output_type": "stream",
     "text": [
      "\r",
      "Epoch 556/1000:  56%|█████▌    | 555/1000 [1:19:08<1:03:58,  8.63s/it, v_num=ow_1, total_loss_train=1.46e+3, kl_local_train=37.3]"
     ]
    },
    {
     "name": "stdout",
     "output_type": "stream",
     "text": [
      "\r",
      "Epoch 556/1000:  56%|█████▌    | 556/1000 [1:19:17<1:03:25,  8.57s/it, v_num=ow_1, total_loss_train=1.46e+3, kl_local_train=37.3]"
     ]
    },
    {
     "name": "stdout",
     "output_type": "stream",
     "text": [
      "\r",
      "Epoch 556/1000:  56%|█████▌    | 556/1000 [1:19:17<1:03:25,  8.57s/it, v_num=ow_1, total_loss_train=1.46e+3, kl_local_train=37.4]"
     ]
    },
    {
     "name": "stdout",
     "output_type": "stream",
     "text": [
      "\r",
      "Epoch 557/1000:  56%|█████▌    | 556/1000 [1:19:17<1:03:25,  8.57s/it, v_num=ow_1, total_loss_train=1.46e+3, kl_local_train=37.4]"
     ]
    },
    {
     "name": "stdout",
     "output_type": "stream",
     "text": [
      "\r",
      "Epoch 557/1000:  56%|█████▌    | 557/1000 [1:19:25<1:02:40,  8.49s/it, v_num=ow_1, total_loss_train=1.46e+3, kl_local_train=37.4]"
     ]
    },
    {
     "name": "stdout",
     "output_type": "stream",
     "text": [
      "\r",
      "Epoch 557/1000:  56%|█████▌    | 557/1000 [1:19:25<1:02:40,  8.49s/it, v_num=ow_1, total_loss_train=1.46e+3, kl_local_train=37.5]"
     ]
    },
    {
     "name": "stdout",
     "output_type": "stream",
     "text": [
      "\r",
      "Epoch 558/1000:  56%|█████▌    | 557/1000 [1:19:25<1:02:40,  8.49s/it, v_num=ow_1, total_loss_train=1.46e+3, kl_local_train=37.5]"
     ]
    },
    {
     "name": "stdout",
     "output_type": "stream",
     "text": [
      "\r",
      "Epoch 558/1000:  56%|█████▌    | 558/1000 [1:19:34<1:02:30,  8.49s/it, v_num=ow_1, total_loss_train=1.46e+3, kl_local_train=37.5]"
     ]
    },
    {
     "name": "stdout",
     "output_type": "stream",
     "text": [
      "\r",
      "Epoch 558/1000:  56%|█████▌    | 558/1000 [1:19:34<1:02:30,  8.49s/it, v_num=ow_1, total_loss_train=1.46e+3, kl_local_train=37.3]"
     ]
    },
    {
     "name": "stdout",
     "output_type": "stream",
     "text": [
      "\r",
      "Epoch 559/1000:  56%|█████▌    | 558/1000 [1:19:34<1:02:30,  8.49s/it, v_num=ow_1, total_loss_train=1.46e+3, kl_local_train=37.3]"
     ]
    },
    {
     "name": "stdout",
     "output_type": "stream",
     "text": [
      "\r",
      "Epoch 559/1000:  56%|█████▌    | 559/1000 [1:19:42<1:02:09,  8.46s/it, v_num=ow_1, total_loss_train=1.46e+3, kl_local_train=37.3]"
     ]
    },
    {
     "name": "stdout",
     "output_type": "stream",
     "text": [
      "\r",
      "Epoch 559/1000:  56%|█████▌    | 559/1000 [1:19:42<1:02:09,  8.46s/it, v_num=ow_1, total_loss_train=1.46e+3, kl_local_train=37.3]"
     ]
    },
    {
     "name": "stdout",
     "output_type": "stream",
     "text": [
      "\r",
      "Epoch 560/1000:  56%|█████▌    | 559/1000 [1:19:42<1:02:09,  8.46s/it, v_num=ow_1, total_loss_train=1.46e+3, kl_local_train=37.3]"
     ]
    },
    {
     "name": "stdout",
     "output_type": "stream",
     "text": [
      "\r",
      "Epoch 560/1000:  56%|█████▌    | 560/1000 [1:19:51<1:02:43,  8.55s/it, v_num=ow_1, total_loss_train=1.46e+3, kl_local_train=37.3]"
     ]
    },
    {
     "name": "stdout",
     "output_type": "stream",
     "text": [
      "\r",
      "Epoch 560/1000:  56%|█████▌    | 560/1000 [1:19:51<1:02:43,  8.55s/it, v_num=ow_1, total_loss_train=1.46e+3, kl_local_train=37.4]"
     ]
    },
    {
     "name": "stdout",
     "output_type": "stream",
     "text": [
      "\r",
      "Epoch 561/1000:  56%|█████▌    | 560/1000 [1:19:51<1:02:43,  8.55s/it, v_num=ow_1, total_loss_train=1.46e+3, kl_local_train=37.4]"
     ]
    },
    {
     "name": "stdout",
     "output_type": "stream",
     "text": [
      "\r",
      "Epoch 561/1000:  56%|█████▌    | 561/1000 [1:19:59<1:02:01,  8.48s/it, v_num=ow_1, total_loss_train=1.46e+3, kl_local_train=37.4]"
     ]
    },
    {
     "name": "stdout",
     "output_type": "stream",
     "text": [
      "\r",
      "Epoch 561/1000:  56%|█████▌    | 561/1000 [1:19:59<1:02:01,  8.48s/it, v_num=ow_1, total_loss_train=1.46e+3, kl_local_train=37.5]"
     ]
    },
    {
     "name": "stdout",
     "output_type": "stream",
     "text": [
      "\r",
      "Epoch 562/1000:  56%|█████▌    | 561/1000 [1:19:59<1:02:01,  8.48s/it, v_num=ow_1, total_loss_train=1.46e+3, kl_local_train=37.5]"
     ]
    },
    {
     "name": "stdout",
     "output_type": "stream",
     "text": [
      "\r",
      "Epoch 562/1000:  56%|█████▌    | 562/1000 [1:20:07<1:01:01,  8.36s/it, v_num=ow_1, total_loss_train=1.46e+3, kl_local_train=37.5]"
     ]
    },
    {
     "name": "stdout",
     "output_type": "stream",
     "text": [
      "\r",
      "Epoch 562/1000:  56%|█████▌    | 562/1000 [1:20:07<1:01:01,  8.36s/it, v_num=ow_1, total_loss_train=1.46e+3, kl_local_train=37.4]"
     ]
    },
    {
     "name": "stdout",
     "output_type": "stream",
     "text": [
      "\r",
      "Epoch 563/1000:  56%|█████▌    | 562/1000 [1:20:07<1:01:01,  8.36s/it, v_num=ow_1, total_loss_train=1.46e+3, kl_local_train=37.4]"
     ]
    },
    {
     "name": "stdout",
     "output_type": "stream",
     "text": [
      "\r",
      "Epoch 563/1000:  56%|█████▋    | 563/1000 [1:20:15<1:00:32,  8.31s/it, v_num=ow_1, total_loss_train=1.46e+3, kl_local_train=37.4]"
     ]
    },
    {
     "name": "stdout",
     "output_type": "stream",
     "text": [
      "\r",
      "Epoch 563/1000:  56%|█████▋    | 563/1000 [1:20:15<1:00:32,  8.31s/it, v_num=ow_1, total_loss_train=1.46e+3, kl_local_train=37.3]"
     ]
    },
    {
     "name": "stdout",
     "output_type": "stream",
     "text": [
      "\r",
      "Epoch 564/1000:  56%|█████▋    | 563/1000 [1:20:15<1:00:32,  8.31s/it, v_num=ow_1, total_loss_train=1.46e+3, kl_local_train=37.3]"
     ]
    },
    {
     "name": "stdout",
     "output_type": "stream",
     "text": [
      "\r",
      "Epoch 564/1000:  56%|█████▋    | 564/1000 [1:20:23<59:52,  8.24s/it, v_num=ow_1, total_loss_train=1.46e+3, kl_local_train=37.3]  "
     ]
    },
    {
     "name": "stdout",
     "output_type": "stream",
     "text": [
      "\r",
      "Epoch 564/1000:  56%|█████▋    | 564/1000 [1:20:23<59:52,  8.24s/it, v_num=ow_1, total_loss_train=1.46e+3, kl_local_train=37.2]"
     ]
    },
    {
     "name": "stdout",
     "output_type": "stream",
     "text": [
      "\r",
      "Epoch 565/1000:  56%|█████▋    | 564/1000 [1:20:23<59:52,  8.24s/it, v_num=ow_1, total_loss_train=1.46e+3, kl_local_train=37.2]"
     ]
    },
    {
     "name": "stdout",
     "output_type": "stream",
     "text": [
      "\r",
      "Epoch 565/1000:  56%|█████▋    | 565/1000 [1:20:32<59:37,  8.22s/it, v_num=ow_1, total_loss_train=1.46e+3, kl_local_train=37.2]"
     ]
    },
    {
     "name": "stdout",
     "output_type": "stream",
     "text": [
      "\r",
      "Epoch 565/1000:  56%|█████▋    | 565/1000 [1:20:32<59:37,  8.22s/it, v_num=ow_1, total_loss_train=1.46e+3, kl_local_train=37.4]"
     ]
    },
    {
     "name": "stdout",
     "output_type": "stream",
     "text": [
      "\r",
      "Epoch 566/1000:  56%|█████▋    | 565/1000 [1:20:32<59:37,  8.22s/it, v_num=ow_1, total_loss_train=1.46e+3, kl_local_train=37.4]"
     ]
    },
    {
     "name": "stdout",
     "output_type": "stream",
     "text": [
      "\r",
      "Epoch 566/1000:  57%|█████▋    | 566/1000 [1:20:40<59:06,  8.17s/it, v_num=ow_1, total_loss_train=1.46e+3, kl_local_train=37.4]"
     ]
    },
    {
     "name": "stdout",
     "output_type": "stream",
     "text": [
      "\r",
      "Epoch 566/1000:  57%|█████▋    | 566/1000 [1:20:40<59:06,  8.17s/it, v_num=ow_1, total_loss_train=1.46e+3, kl_local_train=37.4]"
     ]
    },
    {
     "name": "stdout",
     "output_type": "stream",
     "text": [
      "\r",
      "Epoch 567/1000:  57%|█████▋    | 566/1000 [1:20:40<59:06,  8.17s/it, v_num=ow_1, total_loss_train=1.46e+3, kl_local_train=37.4]"
     ]
    },
    {
     "name": "stdout",
     "output_type": "stream",
     "text": [
      "\r",
      "Epoch 567/1000:  57%|█████▋    | 567/1000 [1:20:49<1:02:21,  8.64s/it, v_num=ow_1, total_loss_train=1.46e+3, kl_local_train=37.4]"
     ]
    },
    {
     "name": "stdout",
     "output_type": "stream",
     "text": [
      "\r",
      "Epoch 567/1000:  57%|█████▋    | 567/1000 [1:20:49<1:02:21,  8.64s/it, v_num=ow_1, total_loss_train=1.46e+3, kl_local_train=37.5]"
     ]
    },
    {
     "name": "stdout",
     "output_type": "stream",
     "text": [
      "\r",
      "Epoch 568/1000:  57%|█████▋    | 567/1000 [1:20:49<1:02:21,  8.64s/it, v_num=ow_1, total_loss_train=1.46e+3, kl_local_train=37.5]"
     ]
    },
    {
     "name": "stdout",
     "output_type": "stream",
     "text": [
      "\r",
      "Epoch 568/1000:  57%|█████▋    | 568/1000 [1:20:58<1:02:24,  8.67s/it, v_num=ow_1, total_loss_train=1.46e+3, kl_local_train=37.5]"
     ]
    },
    {
     "name": "stdout",
     "output_type": "stream",
     "text": [
      "\r",
      "Epoch 568/1000:  57%|█████▋    | 568/1000 [1:20:58<1:02:24,  8.67s/it, v_num=ow_1, total_loss_train=1.46e+3, kl_local_train=37.5]"
     ]
    },
    {
     "name": "stdout",
     "output_type": "stream",
     "text": [
      "\r",
      "Epoch 569/1000:  57%|█████▋    | 568/1000 [1:20:58<1:02:24,  8.67s/it, v_num=ow_1, total_loss_train=1.46e+3, kl_local_train=37.5]"
     ]
    },
    {
     "name": "stdout",
     "output_type": "stream",
     "text": [
      "\r",
      "Epoch 569/1000:  57%|█████▋    | 569/1000 [1:21:09<1:06:17,  9.23s/it, v_num=ow_1, total_loss_train=1.46e+3, kl_local_train=37.5]"
     ]
    },
    {
     "name": "stdout",
     "output_type": "stream",
     "text": [
      "\r",
      "Epoch 569/1000:  57%|█████▋    | 569/1000 [1:21:09<1:06:17,  9.23s/it, v_num=ow_1, total_loss_train=1.46e+3, kl_local_train=37.4]"
     ]
    },
    {
     "name": "stdout",
     "output_type": "stream",
     "text": [
      "\r",
      "Epoch 570/1000:  57%|█████▋    | 569/1000 [1:21:09<1:06:17,  9.23s/it, v_num=ow_1, total_loss_train=1.46e+3, kl_local_train=37.4]"
     ]
    },
    {
     "name": "stdout",
     "output_type": "stream",
     "text": [
      "\r",
      "Epoch 570/1000:  57%|█████▋    | 570/1000 [1:21:18<1:05:25,  9.13s/it, v_num=ow_1, total_loss_train=1.46e+3, kl_local_train=37.4]"
     ]
    },
    {
     "name": "stdout",
     "output_type": "stream",
     "text": [
      "\r",
      "Epoch 570/1000:  57%|█████▋    | 570/1000 [1:21:18<1:05:25,  9.13s/it, v_num=ow_1, total_loss_train=1.46e+3, kl_local_train=37.4]"
     ]
    },
    {
     "name": "stdout",
     "output_type": "stream",
     "text": [
      "\r",
      "Epoch 571/1000:  57%|█████▋    | 570/1000 [1:21:18<1:05:25,  9.13s/it, v_num=ow_1, total_loss_train=1.46e+3, kl_local_train=37.4]"
     ]
    },
    {
     "name": "stdout",
     "output_type": "stream",
     "text": [
      "\r",
      "Epoch 571/1000:  57%|█████▋    | 571/1000 [1:21:26<1:04:27,  9.02s/it, v_num=ow_1, total_loss_train=1.46e+3, kl_local_train=37.4]"
     ]
    },
    {
     "name": "stdout",
     "output_type": "stream",
     "text": [
      "\r",
      "Epoch 571/1000:  57%|█████▋    | 571/1000 [1:21:26<1:04:27,  9.02s/it, v_num=ow_1, total_loss_train=1.46e+3, kl_local_train=37.5]"
     ]
    },
    {
     "name": "stdout",
     "output_type": "stream",
     "text": [
      "\r",
      "Epoch 572/1000:  57%|█████▋    | 571/1000 [1:21:26<1:04:27,  9.02s/it, v_num=ow_1, total_loss_train=1.46e+3, kl_local_train=37.5]"
     ]
    },
    {
     "name": "stdout",
     "output_type": "stream",
     "text": [
      "\r",
      "Epoch 572/1000:  57%|█████▋    | 572/1000 [1:21:35<1:03:49,  8.95s/it, v_num=ow_1, total_loss_train=1.46e+3, kl_local_train=37.5]"
     ]
    },
    {
     "name": "stdout",
     "output_type": "stream",
     "text": [
      "\r",
      "Epoch 572/1000:  57%|█████▋    | 572/1000 [1:21:35<1:03:49,  8.95s/it, v_num=ow_1, total_loss_train=1.46e+3, kl_local_train=37.4]"
     ]
    },
    {
     "name": "stdout",
     "output_type": "stream",
     "text": [
      "\r",
      "Epoch 573/1000:  57%|█████▋    | 572/1000 [1:21:35<1:03:49,  8.95s/it, v_num=ow_1, total_loss_train=1.46e+3, kl_local_train=37.4]"
     ]
    },
    {
     "name": "stdout",
     "output_type": "stream",
     "text": [
      "\r",
      "Epoch 573/1000:  57%|█████▋    | 573/1000 [1:21:43<1:02:09,  8.73s/it, v_num=ow_1, total_loss_train=1.46e+3, kl_local_train=37.4]"
     ]
    },
    {
     "name": "stdout",
     "output_type": "stream",
     "text": [
      "\r",
      "Epoch 573/1000:  57%|█████▋    | 573/1000 [1:21:43<1:02:09,  8.73s/it, v_num=ow_1, total_loss_train=1.46e+3, kl_local_train=37.3]"
     ]
    },
    {
     "name": "stdout",
     "output_type": "stream",
     "text": [
      "\r",
      "Epoch 574/1000:  57%|█████▋    | 573/1000 [1:21:43<1:02:09,  8.73s/it, v_num=ow_1, total_loss_train=1.46e+3, kl_local_train=37.3]"
     ]
    },
    {
     "name": "stdout",
     "output_type": "stream",
     "text": [
      "\r",
      "Epoch 574/1000:  57%|█████▋    | 574/1000 [1:21:52<1:02:54,  8.86s/it, v_num=ow_1, total_loss_train=1.46e+3, kl_local_train=37.3]"
     ]
    },
    {
     "name": "stdout",
     "output_type": "stream",
     "text": [
      "\r",
      "Epoch 574/1000:  57%|█████▋    | 574/1000 [1:21:52<1:02:54,  8.86s/it, v_num=ow_1, total_loss_train=1.46e+3, kl_local_train=37.4]"
     ]
    },
    {
     "name": "stdout",
     "output_type": "stream",
     "text": [
      "\r",
      "Epoch 575/1000:  57%|█████▋    | 574/1000 [1:21:52<1:02:54,  8.86s/it, v_num=ow_1, total_loss_train=1.46e+3, kl_local_train=37.4]"
     ]
    },
    {
     "name": "stdout",
     "output_type": "stream",
     "text": [
      "\r",
      "Epoch 575/1000:  57%|█████▊    | 575/1000 [1:22:01<1:02:26,  8.82s/it, v_num=ow_1, total_loss_train=1.46e+3, kl_local_train=37.4]"
     ]
    },
    {
     "name": "stdout",
     "output_type": "stream",
     "text": [
      "\r",
      "Epoch 575/1000:  57%|█████▊    | 575/1000 [1:22:01<1:02:26,  8.82s/it, v_num=ow_1, total_loss_train=1.46e+3, kl_local_train=37.4]"
     ]
    },
    {
     "name": "stdout",
     "output_type": "stream",
     "text": [
      "\r",
      "Epoch 576/1000:  57%|█████▊    | 575/1000 [1:22:01<1:02:26,  8.82s/it, v_num=ow_1, total_loss_train=1.46e+3, kl_local_train=37.4]"
     ]
    },
    {
     "name": "stdout",
     "output_type": "stream",
     "text": [
      "\r",
      "Epoch 576/1000:  58%|█████▊    | 576/1000 [1:22:11<1:04:01,  9.06s/it, v_num=ow_1, total_loss_train=1.46e+3, kl_local_train=37.4]"
     ]
    },
    {
     "name": "stdout",
     "output_type": "stream",
     "text": [
      "\r",
      "Epoch 576/1000:  58%|█████▊    | 576/1000 [1:22:11<1:04:01,  9.06s/it, v_num=ow_1, total_loss_train=1.46e+3, kl_local_train=37.4]"
     ]
    },
    {
     "name": "stdout",
     "output_type": "stream",
     "text": [
      "\r",
      "Epoch 577/1000:  58%|█████▊    | 576/1000 [1:22:11<1:04:01,  9.06s/it, v_num=ow_1, total_loss_train=1.46e+3, kl_local_train=37.4]"
     ]
    },
    {
     "name": "stdout",
     "output_type": "stream",
     "text": [
      "\r",
      "Epoch 577/1000:  58%|█████▊    | 577/1000 [1:22:19<1:02:15,  8.83s/it, v_num=ow_1, total_loss_train=1.46e+3, kl_local_train=37.4]"
     ]
    },
    {
     "name": "stdout",
     "output_type": "stream",
     "text": [
      "\r",
      "Epoch 577/1000:  58%|█████▊    | 577/1000 [1:22:19<1:02:15,  8.83s/it, v_num=ow_1, total_loss_train=1.46e+3, kl_local_train=37.4]"
     ]
    },
    {
     "name": "stdout",
     "output_type": "stream",
     "text": [
      "\r",
      "Epoch 578/1000:  58%|█████▊    | 577/1000 [1:22:19<1:02:15,  8.83s/it, v_num=ow_1, total_loss_train=1.46e+3, kl_local_train=37.4]"
     ]
    },
    {
     "name": "stdout",
     "output_type": "stream",
     "text": [
      "\r",
      "Epoch 578/1000:  58%|█████▊    | 578/1000 [1:22:27<1:01:06,  8.69s/it, v_num=ow_1, total_loss_train=1.46e+3, kl_local_train=37.4]"
     ]
    },
    {
     "name": "stdout",
     "output_type": "stream",
     "text": [
      "\r",
      "Epoch 578/1000:  58%|█████▊    | 578/1000 [1:22:27<1:01:06,  8.69s/it, v_num=ow_1, total_loss_train=1.46e+3, kl_local_train=37.5]"
     ]
    },
    {
     "name": "stdout",
     "output_type": "stream",
     "text": [
      "\r",
      "Epoch 579/1000:  58%|█████▊    | 578/1000 [1:22:27<1:01:06,  8.69s/it, v_num=ow_1, total_loss_train=1.46e+3, kl_local_train=37.5]"
     ]
    },
    {
     "name": "stdout",
     "output_type": "stream",
     "text": [
      "\r",
      "Epoch 579/1000:  58%|█████▊    | 579/1000 [1:22:36<1:00:11,  8.58s/it, v_num=ow_1, total_loss_train=1.46e+3, kl_local_train=37.5]"
     ]
    },
    {
     "name": "stdout",
     "output_type": "stream",
     "text": [
      "\r",
      "Epoch 579/1000:  58%|█████▊    | 579/1000 [1:22:36<1:00:11,  8.58s/it, v_num=ow_1, total_loss_train=1.46e+3, kl_local_train=37.4]"
     ]
    },
    {
     "name": "stdout",
     "output_type": "stream",
     "text": [
      "\r",
      "Epoch 580/1000:  58%|█████▊    | 579/1000 [1:22:36<1:00:11,  8.58s/it, v_num=ow_1, total_loss_train=1.46e+3, kl_local_train=37.4]"
     ]
    },
    {
     "name": "stdout",
     "output_type": "stream",
     "text": [
      "\r",
      "Epoch 580/1000:  58%|█████▊    | 580/1000 [1:22:44<59:28,  8.50s/it, v_num=ow_1, total_loss_train=1.46e+3, kl_local_train=37.4]  "
     ]
    },
    {
     "name": "stdout",
     "output_type": "stream",
     "text": [
      "\r",
      "Epoch 580/1000:  58%|█████▊    | 580/1000 [1:22:44<59:28,  8.50s/it, v_num=ow_1, total_loss_train=1.46e+3, kl_local_train=37.5]"
     ]
    },
    {
     "name": "stdout",
     "output_type": "stream",
     "text": [
      "\r",
      "Epoch 581/1000:  58%|█████▊    | 580/1000 [1:22:44<59:28,  8.50s/it, v_num=ow_1, total_loss_train=1.46e+3, kl_local_train=37.5]"
     ]
    },
    {
     "name": "stdout",
     "output_type": "stream",
     "text": [
      "\r",
      "Epoch 581/1000:  58%|█████▊    | 581/1000 [1:22:52<58:40,  8.40s/it, v_num=ow_1, total_loss_train=1.46e+3, kl_local_train=37.5]"
     ]
    },
    {
     "name": "stdout",
     "output_type": "stream",
     "text": [
      "\r",
      "Epoch 581/1000:  58%|█████▊    | 581/1000 [1:22:52<58:40,  8.40s/it, v_num=ow_1, total_loss_train=1.46e+3, kl_local_train=37.4]"
     ]
    },
    {
     "name": "stdout",
     "output_type": "stream",
     "text": [
      "\r",
      "Epoch 582/1000:  58%|█████▊    | 581/1000 [1:22:52<58:40,  8.40s/it, v_num=ow_1, total_loss_train=1.46e+3, kl_local_train=37.4]"
     ]
    },
    {
     "name": "stdout",
     "output_type": "stream",
     "text": [
      "\r",
      "Epoch 582/1000:  58%|█████▊    | 582/1000 [1:23:01<58:19,  8.37s/it, v_num=ow_1, total_loss_train=1.46e+3, kl_local_train=37.4]"
     ]
    },
    {
     "name": "stdout",
     "output_type": "stream",
     "text": [
      "\r",
      "Epoch 582/1000:  58%|█████▊    | 582/1000 [1:23:01<58:19,  8.37s/it, v_num=ow_1, total_loss_train=1.46e+3, kl_local_train=37.4]"
     ]
    },
    {
     "name": "stdout",
     "output_type": "stream",
     "text": [
      "\r",
      "Epoch 583/1000:  58%|█████▊    | 582/1000 [1:23:01<58:19,  8.37s/it, v_num=ow_1, total_loss_train=1.46e+3, kl_local_train=37.4]"
     ]
    },
    {
     "name": "stdout",
     "output_type": "stream",
     "text": [
      "\r",
      "Epoch 583/1000:  58%|█████▊    | 583/1000 [1:23:09<57:54,  8.33s/it, v_num=ow_1, total_loss_train=1.46e+3, kl_local_train=37.4]"
     ]
    },
    {
     "name": "stdout",
     "output_type": "stream",
     "text": [
      "\r",
      "Epoch 583/1000:  58%|█████▊    | 583/1000 [1:23:09<57:54,  8.33s/it, v_num=ow_1, total_loss_train=1.46e+3, kl_local_train=37.3]"
     ]
    },
    {
     "name": "stdout",
     "output_type": "stream",
     "text": [
      "\r",
      "Epoch 584/1000:  58%|█████▊    | 583/1000 [1:23:09<57:54,  8.33s/it, v_num=ow_1, total_loss_train=1.46e+3, kl_local_train=37.3]"
     ]
    },
    {
     "name": "stdout",
     "output_type": "stream",
     "text": [
      "\r",
      "Epoch 584/1000:  58%|█████▊    | 584/1000 [1:23:17<57:08,  8.24s/it, v_num=ow_1, total_loss_train=1.46e+3, kl_local_train=37.3]"
     ]
    },
    {
     "name": "stdout",
     "output_type": "stream",
     "text": [
      "\r",
      "Epoch 584/1000:  58%|█████▊    | 584/1000 [1:23:17<57:08,  8.24s/it, v_num=ow_1, total_loss_train=1.45e+3, kl_local_train=37.5]"
     ]
    },
    {
     "name": "stdout",
     "output_type": "stream",
     "text": [
      "\r",
      "Epoch 585/1000:  58%|█████▊    | 584/1000 [1:23:17<57:08,  8.24s/it, v_num=ow_1, total_loss_train=1.45e+3, kl_local_train=37.5]"
     ]
    },
    {
     "name": "stdout",
     "output_type": "stream",
     "text": [
      "\r",
      "Epoch 585/1000:  58%|█████▊    | 585/1000 [1:23:24<55:02,  7.96s/it, v_num=ow_1, total_loss_train=1.45e+3, kl_local_train=37.5]"
     ]
    },
    {
     "name": "stdout",
     "output_type": "stream",
     "text": [
      "\r",
      "Epoch 585/1000:  58%|█████▊    | 585/1000 [1:23:24<55:02,  7.96s/it, v_num=ow_1, total_loss_train=1.46e+3, kl_local_train=37.4]"
     ]
    },
    {
     "name": "stdout",
     "output_type": "stream",
     "text": [
      "\r",
      "Epoch 586/1000:  58%|█████▊    | 585/1000 [1:23:24<55:02,  7.96s/it, v_num=ow_1, total_loss_train=1.46e+3, kl_local_train=37.4]"
     ]
    },
    {
     "name": "stdout",
     "output_type": "stream",
     "text": [
      "\r",
      "Epoch 586/1000:  59%|█████▊    | 586/1000 [1:23:32<55:24,  8.03s/it, v_num=ow_1, total_loss_train=1.46e+3, kl_local_train=37.4]"
     ]
    },
    {
     "name": "stdout",
     "output_type": "stream",
     "text": [
      "\r",
      "Epoch 586/1000:  59%|█████▊    | 586/1000 [1:23:32<55:24,  8.03s/it, v_num=ow_1, total_loss_train=1.46e+3, kl_local_train=37.4]"
     ]
    },
    {
     "name": "stdout",
     "output_type": "stream",
     "text": [
      "\r",
      "Epoch 587/1000:  59%|█████▊    | 586/1000 [1:23:32<55:24,  8.03s/it, v_num=ow_1, total_loss_train=1.46e+3, kl_local_train=37.4]"
     ]
    },
    {
     "name": "stdout",
     "output_type": "stream",
     "text": [
      "\r",
      "Epoch 587/1000:  59%|█████▊    | 587/1000 [1:23:41<55:54,  8.12s/it, v_num=ow_1, total_loss_train=1.46e+3, kl_local_train=37.4]"
     ]
    },
    {
     "name": "stdout",
     "output_type": "stream",
     "text": [
      "\r",
      "Epoch 587/1000:  59%|█████▊    | 587/1000 [1:23:41<55:54,  8.12s/it, v_num=ow_1, total_loss_train=1.45e+3, kl_local_train=37.4]"
     ]
    },
    {
     "name": "stdout",
     "output_type": "stream",
     "text": [
      "\r",
      "Epoch 588/1000:  59%|█████▊    | 587/1000 [1:23:41<55:54,  8.12s/it, v_num=ow_1, total_loss_train=1.45e+3, kl_local_train=37.4]"
     ]
    },
    {
     "name": "stdout",
     "output_type": "stream",
     "text": [
      "\r",
      "Epoch 588/1000:  59%|█████▉    | 588/1000 [1:23:49<56:40,  8.25s/it, v_num=ow_1, total_loss_train=1.45e+3, kl_local_train=37.4]"
     ]
    },
    {
     "name": "stdout",
     "output_type": "stream",
     "text": [
      "\r",
      "Epoch 588/1000:  59%|█████▉    | 588/1000 [1:23:49<56:40,  8.25s/it, v_num=ow_1, total_loss_train=1.45e+3, kl_local_train=37.5]"
     ]
    },
    {
     "name": "stdout",
     "output_type": "stream",
     "text": [
      "\r",
      "Epoch 589/1000:  59%|█████▉    | 588/1000 [1:23:49<56:40,  8.25s/it, v_num=ow_1, total_loss_train=1.45e+3, kl_local_train=37.5]"
     ]
    },
    {
     "name": "stdout",
     "output_type": "stream",
     "text": [
      "\r",
      "Epoch 589/1000:  59%|█████▉    | 589/1000 [1:23:59<58:41,  8.57s/it, v_num=ow_1, total_loss_train=1.45e+3, kl_local_train=37.5]"
     ]
    },
    {
     "name": "stdout",
     "output_type": "stream",
     "text": [
      "\r",
      "Epoch 589/1000:  59%|█████▉    | 589/1000 [1:23:59<58:41,  8.57s/it, v_num=ow_1, total_loss_train=1.46e+3, kl_local_train=37.4]"
     ]
    },
    {
     "name": "stdout",
     "output_type": "stream",
     "text": [
      "\r",
      "Epoch 590/1000:  59%|█████▉    | 589/1000 [1:23:59<58:41,  8.57s/it, v_num=ow_1, total_loss_train=1.46e+3, kl_local_train=37.4]"
     ]
    },
    {
     "name": "stdout",
     "output_type": "stream",
     "text": [
      "\r",
      "Epoch 590/1000:  59%|█████▉    | 590/1000 [1:24:07<58:53,  8.62s/it, v_num=ow_1, total_loss_train=1.46e+3, kl_local_train=37.4]"
     ]
    },
    {
     "name": "stdout",
     "output_type": "stream",
     "text": [
      "\r",
      "Epoch 590/1000:  59%|█████▉    | 590/1000 [1:24:07<58:53,  8.62s/it, v_num=ow_1, total_loss_train=1.46e+3, kl_local_train=37.3]"
     ]
    },
    {
     "name": "stdout",
     "output_type": "stream",
     "text": [
      "\r",
      "Epoch 591/1000:  59%|█████▉    | 590/1000 [1:24:07<58:53,  8.62s/it, v_num=ow_1, total_loss_train=1.46e+3, kl_local_train=37.3]"
     ]
    },
    {
     "name": "stdout",
     "output_type": "stream",
     "text": [
      "\r",
      "Epoch 591/1000:  59%|█████▉    | 591/1000 [1:24:16<58:20,  8.56s/it, v_num=ow_1, total_loss_train=1.46e+3, kl_local_train=37.3]"
     ]
    },
    {
     "name": "stdout",
     "output_type": "stream",
     "text": [
      "\r",
      "Epoch 591/1000:  59%|█████▉    | 591/1000 [1:24:16<58:20,  8.56s/it, v_num=ow_1, total_loss_train=1.45e+3, kl_local_train=37.5]"
     ]
    },
    {
     "name": "stdout",
     "output_type": "stream",
     "text": [
      "\r",
      "Epoch 592/1000:  59%|█████▉    | 591/1000 [1:24:16<58:20,  8.56s/it, v_num=ow_1, total_loss_train=1.45e+3, kl_local_train=37.5]"
     ]
    },
    {
     "name": "stdout",
     "output_type": "stream",
     "text": [
      "\r",
      "Epoch 592/1000:  59%|█████▉    | 592/1000 [1:24:24<57:00,  8.38s/it, v_num=ow_1, total_loss_train=1.45e+3, kl_local_train=37.5]"
     ]
    },
    {
     "name": "stdout",
     "output_type": "stream",
     "text": [
      "\r",
      "Epoch 592/1000:  59%|█████▉    | 592/1000 [1:24:24<57:00,  8.38s/it, v_num=ow_1, total_loss_train=1.45e+3, kl_local_train=37.4]"
     ]
    },
    {
     "name": "stdout",
     "output_type": "stream",
     "text": [
      "\r",
      "Epoch 593/1000:  59%|█████▉    | 592/1000 [1:24:24<57:00,  8.38s/it, v_num=ow_1, total_loss_train=1.45e+3, kl_local_train=37.4]"
     ]
    },
    {
     "name": "stdout",
     "output_type": "stream",
     "text": [
      "\r",
      "Epoch 593/1000:  59%|█████▉    | 593/1000 [1:24:32<57:30,  8.48s/it, v_num=ow_1, total_loss_train=1.45e+3, kl_local_train=37.4]"
     ]
    },
    {
     "name": "stdout",
     "output_type": "stream",
     "text": [
      "\r",
      "Epoch 593/1000:  59%|█████▉    | 593/1000 [1:24:32<57:30,  8.48s/it, v_num=ow_1, total_loss_train=1.45e+3, kl_local_train=37.5]"
     ]
    },
    {
     "name": "stdout",
     "output_type": "stream",
     "text": [
      "\r",
      "Epoch 594/1000:  59%|█████▉    | 593/1000 [1:24:32<57:30,  8.48s/it, v_num=ow_1, total_loss_train=1.45e+3, kl_local_train=37.5]"
     ]
    },
    {
     "name": "stdout",
     "output_type": "stream",
     "text": [
      "\r",
      "Epoch 594/1000:  59%|█████▉    | 594/1000 [1:24:41<58:25,  8.63s/it, v_num=ow_1, total_loss_train=1.45e+3, kl_local_train=37.5]"
     ]
    },
    {
     "name": "stdout",
     "output_type": "stream",
     "text": [
      "\r",
      "Epoch 594/1000:  59%|█████▉    | 594/1000 [1:24:41<58:25,  8.63s/it, v_num=ow_1, total_loss_train=1.46e+3, kl_local_train=37.6]"
     ]
    },
    {
     "name": "stdout",
     "output_type": "stream",
     "text": [
      "\r",
      "Epoch 595/1000:  59%|█████▉    | 594/1000 [1:24:41<58:25,  8.63s/it, v_num=ow_1, total_loss_train=1.46e+3, kl_local_train=37.6]"
     ]
    },
    {
     "name": "stdout",
     "output_type": "stream",
     "text": [
      "\r",
      "Epoch 595/1000:  60%|█████▉    | 595/1000 [1:24:50<57:35,  8.53s/it, v_num=ow_1, total_loss_train=1.46e+3, kl_local_train=37.6]"
     ]
    },
    {
     "name": "stdout",
     "output_type": "stream",
     "text": [
      "\r",
      "Epoch 595/1000:  60%|█████▉    | 595/1000 [1:24:50<57:35,  8.53s/it, v_num=ow_1, total_loss_train=1.46e+3, kl_local_train=37.6]"
     ]
    },
    {
     "name": "stdout",
     "output_type": "stream",
     "text": [
      "\r",
      "Epoch 596/1000:  60%|█████▉    | 595/1000 [1:24:50<57:35,  8.53s/it, v_num=ow_1, total_loss_train=1.46e+3, kl_local_train=37.6]"
     ]
    },
    {
     "name": "stdout",
     "output_type": "stream",
     "text": [
      "\r",
      "Epoch 596/1000:  60%|█████▉    | 596/1000 [1:24:57<55:32,  8.25s/it, v_num=ow_1, total_loss_train=1.46e+3, kl_local_train=37.6]"
     ]
    },
    {
     "name": "stdout",
     "output_type": "stream",
     "text": [
      "\r",
      "Epoch 596/1000:  60%|█████▉    | 596/1000 [1:24:57<55:32,  8.25s/it, v_num=ow_1, total_loss_train=1.45e+3, kl_local_train=37.4]"
     ]
    },
    {
     "name": "stdout",
     "output_type": "stream",
     "text": [
      "\r",
      "Epoch 597/1000:  60%|█████▉    | 596/1000 [1:24:57<55:32,  8.25s/it, v_num=ow_1, total_loss_train=1.45e+3, kl_local_train=37.4]"
     ]
    },
    {
     "name": "stdout",
     "output_type": "stream",
     "text": [
      "\r",
      "Epoch 597/1000:  60%|█████▉    | 597/1000 [1:25:06<55:27,  8.26s/it, v_num=ow_1, total_loss_train=1.45e+3, kl_local_train=37.4]"
     ]
    },
    {
     "name": "stdout",
     "output_type": "stream",
     "text": [
      "\r",
      "Epoch 597/1000:  60%|█████▉    | 597/1000 [1:25:06<55:27,  8.26s/it, v_num=ow_1, total_loss_train=1.46e+3, kl_local_train=37.5]"
     ]
    },
    {
     "name": "stdout",
     "output_type": "stream",
     "text": [
      "\r",
      "Epoch 598/1000:  60%|█████▉    | 597/1000 [1:25:06<55:27,  8.26s/it, v_num=ow_1, total_loss_train=1.46e+3, kl_local_train=37.5]"
     ]
    },
    {
     "name": "stdout",
     "output_type": "stream",
     "text": [
      "\r",
      "Epoch 598/1000:  60%|█████▉    | 598/1000 [1:25:13<53:39,  8.01s/it, v_num=ow_1, total_loss_train=1.46e+3, kl_local_train=37.5]"
     ]
    },
    {
     "name": "stdout",
     "output_type": "stream",
     "text": [
      "\r",
      "Epoch 598/1000:  60%|█████▉    | 598/1000 [1:25:13<53:39,  8.01s/it, v_num=ow_1, total_loss_train=1.46e+3, kl_local_train=37.6]"
     ]
    },
    {
     "name": "stdout",
     "output_type": "stream",
     "text": [
      "\r",
      "Epoch 599/1000:  60%|█████▉    | 598/1000 [1:25:13<53:39,  8.01s/it, v_num=ow_1, total_loss_train=1.46e+3, kl_local_train=37.6]"
     ]
    },
    {
     "name": "stdout",
     "output_type": "stream",
     "text": [
      "\r",
      "Epoch 599/1000:  60%|█████▉    | 599/1000 [1:25:21<53:56,  8.07s/it, v_num=ow_1, total_loss_train=1.46e+3, kl_local_train=37.6]"
     ]
    },
    {
     "name": "stdout",
     "output_type": "stream",
     "text": [
      "\r",
      "Epoch 599/1000:  60%|█████▉    | 599/1000 [1:25:21<53:56,  8.07s/it, v_num=ow_1, total_loss_train=1.45e+3, kl_local_train=37.4]"
     ]
    },
    {
     "name": "stdout",
     "output_type": "stream",
     "text": [
      "\r",
      "Epoch 600/1000:  60%|█████▉    | 599/1000 [1:25:21<53:56,  8.07s/it, v_num=ow_1, total_loss_train=1.45e+3, kl_local_train=37.4]"
     ]
    },
    {
     "name": "stdout",
     "output_type": "stream",
     "text": [
      "\r",
      "Epoch 600/1000:  60%|██████    | 600/1000 [1:25:29<54:11,  8.13s/it, v_num=ow_1, total_loss_train=1.45e+3, kl_local_train=37.4]"
     ]
    },
    {
     "name": "stdout",
     "output_type": "stream",
     "text": [
      "\r",
      "Epoch 600/1000:  60%|██████    | 600/1000 [1:25:29<54:11,  8.13s/it, v_num=ow_1, total_loss_train=1.45e+3, kl_local_train=37.5]"
     ]
    },
    {
     "name": "stdout",
     "output_type": "stream",
     "text": [
      "\r",
      "Epoch 601/1000:  60%|██████    | 600/1000 [1:25:29<54:11,  8.13s/it, v_num=ow_1, total_loss_train=1.45e+3, kl_local_train=37.5]"
     ]
    },
    {
     "name": "stdout",
     "output_type": "stream",
     "text": [
      "\r",
      "Epoch 601/1000:  60%|██████    | 601/1000 [1:25:37<53:24,  8.03s/it, v_num=ow_1, total_loss_train=1.45e+3, kl_local_train=37.5]"
     ]
    },
    {
     "name": "stdout",
     "output_type": "stream",
     "text": [
      "\r",
      "Epoch 601/1000:  60%|██████    | 601/1000 [1:25:37<53:24,  8.03s/it, v_num=ow_1, total_loss_train=1.45e+3, kl_local_train=37.6]"
     ]
    },
    {
     "name": "stdout",
     "output_type": "stream",
     "text": [
      "\r",
      "Epoch 602/1000:  60%|██████    | 601/1000 [1:25:37<53:24,  8.03s/it, v_num=ow_1, total_loss_train=1.45e+3, kl_local_train=37.6]"
     ]
    },
    {
     "name": "stdout",
     "output_type": "stream",
     "text": [
      "\r",
      "Epoch 602/1000:  60%|██████    | 602/1000 [1:25:45<53:38,  8.09s/it, v_num=ow_1, total_loss_train=1.45e+3, kl_local_train=37.6]"
     ]
    },
    {
     "name": "stdout",
     "output_type": "stream",
     "text": [
      "\r",
      "Epoch 602/1000:  60%|██████    | 602/1000 [1:25:45<53:38,  8.09s/it, v_num=ow_1, total_loss_train=1.46e+3, kl_local_train=37.4]"
     ]
    },
    {
     "name": "stdout",
     "output_type": "stream",
     "text": [
      "\r",
      "Epoch 603/1000:  60%|██████    | 602/1000 [1:25:45<53:38,  8.09s/it, v_num=ow_1, total_loss_train=1.46e+3, kl_local_train=37.4]"
     ]
    },
    {
     "name": "stdout",
     "output_type": "stream",
     "text": [
      "\r",
      "Epoch 603/1000:  60%|██████    | 603/1000 [1:25:54<53:41,  8.11s/it, v_num=ow_1, total_loss_train=1.46e+3, kl_local_train=37.4]"
     ]
    },
    {
     "name": "stdout",
     "output_type": "stream",
     "text": [
      "\r",
      "Epoch 603/1000:  60%|██████    | 603/1000 [1:25:54<53:41,  8.11s/it, v_num=ow_1, total_loss_train=1.45e+3, kl_local_train=37.4]"
     ]
    },
    {
     "name": "stdout",
     "output_type": "stream",
     "text": [
      "\r",
      "Epoch 604/1000:  60%|██████    | 603/1000 [1:25:54<53:41,  8.11s/it, v_num=ow_1, total_loss_train=1.45e+3, kl_local_train=37.4]"
     ]
    },
    {
     "name": "stdout",
     "output_type": "stream",
     "text": [
      "\r",
      "Epoch 604/1000:  60%|██████    | 604/1000 [1:26:02<53:57,  8.18s/it, v_num=ow_1, total_loss_train=1.45e+3, kl_local_train=37.4]"
     ]
    },
    {
     "name": "stdout",
     "output_type": "stream",
     "text": [
      "\r",
      "Epoch 604/1000:  60%|██████    | 604/1000 [1:26:02<53:57,  8.18s/it, v_num=ow_1, total_loss_train=1.46e+3, kl_local_train=37.5]"
     ]
    },
    {
     "name": "stdout",
     "output_type": "stream",
     "text": [
      "\r",
      "Epoch 605/1000:  60%|██████    | 604/1000 [1:26:02<53:57,  8.18s/it, v_num=ow_1, total_loss_train=1.46e+3, kl_local_train=37.5]"
     ]
    },
    {
     "name": "stdout",
     "output_type": "stream",
     "text": [
      "\r",
      "Epoch 605/1000:  60%|██████    | 605/1000 [1:26:11<54:55,  8.34s/it, v_num=ow_1, total_loss_train=1.46e+3, kl_local_train=37.5]"
     ]
    },
    {
     "name": "stdout",
     "output_type": "stream",
     "text": [
      "\r",
      "Epoch 605/1000:  60%|██████    | 605/1000 [1:26:11<54:55,  8.34s/it, v_num=ow_1, total_loss_train=1.45e+3, kl_local_train=37.5]"
     ]
    },
    {
     "name": "stdout",
     "output_type": "stream",
     "text": [
      "\r",
      "Epoch 606/1000:  60%|██████    | 605/1000 [1:26:11<54:55,  8.34s/it, v_num=ow_1, total_loss_train=1.45e+3, kl_local_train=37.5]"
     ]
    },
    {
     "name": "stdout",
     "output_type": "stream",
     "text": [
      "\r",
      "Epoch 606/1000:  61%|██████    | 606/1000 [1:26:19<53:54,  8.21s/it, v_num=ow_1, total_loss_train=1.45e+3, kl_local_train=37.5]"
     ]
    },
    {
     "name": "stdout",
     "output_type": "stream",
     "text": [
      "\r",
      "Epoch 606/1000:  61%|██████    | 606/1000 [1:26:19<53:54,  8.21s/it, v_num=ow_1, total_loss_train=1.46e+3, kl_local_train=37.5]"
     ]
    },
    {
     "name": "stdout",
     "output_type": "stream",
     "text": [
      "\r",
      "Epoch 607/1000:  61%|██████    | 606/1000 [1:26:19<53:54,  8.21s/it, v_num=ow_1, total_loss_train=1.46e+3, kl_local_train=37.5]"
     ]
    },
    {
     "name": "stdout",
     "output_type": "stream",
     "text": [
      "\r",
      "Epoch 607/1000:  61%|██████    | 607/1000 [1:26:27<54:37,  8.34s/it, v_num=ow_1, total_loss_train=1.46e+3, kl_local_train=37.5]"
     ]
    },
    {
     "name": "stdout",
     "output_type": "stream",
     "text": [
      "\r",
      "Epoch 607/1000:  61%|██████    | 607/1000 [1:26:27<54:37,  8.34s/it, v_num=ow_1, total_loss_train=1.45e+3, kl_local_train=37.5]"
     ]
    },
    {
     "name": "stdout",
     "output_type": "stream",
     "text": [
      "\r",
      "Epoch 608/1000:  61%|██████    | 607/1000 [1:26:27<54:37,  8.34s/it, v_num=ow_1, total_loss_train=1.45e+3, kl_local_train=37.5]"
     ]
    },
    {
     "name": "stdout",
     "output_type": "stream",
     "text": [
      "\r",
      "Epoch 608/1000:  61%|██████    | 608/1000 [1:26:36<55:13,  8.45s/it, v_num=ow_1, total_loss_train=1.45e+3, kl_local_train=37.5]"
     ]
    },
    {
     "name": "stdout",
     "output_type": "stream",
     "text": [
      "\r",
      "Epoch 608/1000:  61%|██████    | 608/1000 [1:26:36<55:13,  8.45s/it, v_num=ow_1, total_loss_train=1.45e+3, kl_local_train=37.4]"
     ]
    },
    {
     "name": "stdout",
     "output_type": "stream",
     "text": [
      "\r",
      "Epoch 609/1000:  61%|██████    | 608/1000 [1:26:36<55:13,  8.45s/it, v_num=ow_1, total_loss_train=1.45e+3, kl_local_train=37.4]"
     ]
    },
    {
     "name": "stdout",
     "output_type": "stream",
     "text": [
      "\r",
      "Epoch 609/1000:  61%|██████    | 609/1000 [1:26:45<55:33,  8.53s/it, v_num=ow_1, total_loss_train=1.45e+3, kl_local_train=37.4]"
     ]
    },
    {
     "name": "stdout",
     "output_type": "stream",
     "text": [
      "\r",
      "Epoch 609/1000:  61%|██████    | 609/1000 [1:26:45<55:33,  8.53s/it, v_num=ow_1, total_loss_train=1.45e+3, kl_local_train=37.4]"
     ]
    },
    {
     "name": "stdout",
     "output_type": "stream",
     "text": [
      "\r",
      "Epoch 610/1000:  61%|██████    | 609/1000 [1:26:45<55:33,  8.53s/it, v_num=ow_1, total_loss_train=1.45e+3, kl_local_train=37.4]"
     ]
    },
    {
     "name": "stdout",
     "output_type": "stream",
     "text": [
      "\r",
      "Epoch 610/1000:  61%|██████    | 610/1000 [1:26:53<55:41,  8.57s/it, v_num=ow_1, total_loss_train=1.45e+3, kl_local_train=37.4]"
     ]
    },
    {
     "name": "stdout",
     "output_type": "stream",
     "text": [
      "\r",
      "Epoch 610/1000:  61%|██████    | 610/1000 [1:26:53<55:41,  8.57s/it, v_num=ow_1, total_loss_train=1.46e+3, kl_local_train=37.4]"
     ]
    },
    {
     "name": "stdout",
     "output_type": "stream",
     "text": [
      "\r",
      "Epoch 611/1000:  61%|██████    | 610/1000 [1:26:53<55:41,  8.57s/it, v_num=ow_1, total_loss_train=1.46e+3, kl_local_train=37.4]"
     ]
    },
    {
     "name": "stdout",
     "output_type": "stream",
     "text": [
      "\r",
      "Epoch 611/1000:  61%|██████    | 611/1000 [1:27:01<54:14,  8.37s/it, v_num=ow_1, total_loss_train=1.46e+3, kl_local_train=37.4]"
     ]
    },
    {
     "name": "stdout",
     "output_type": "stream",
     "text": [
      "\r",
      "Epoch 611/1000:  61%|██████    | 611/1000 [1:27:01<54:14,  8.37s/it, v_num=ow_1, total_loss_train=1.45e+3, kl_local_train=37.6]"
     ]
    },
    {
     "name": "stdout",
     "output_type": "stream",
     "text": [
      "\r",
      "Epoch 612/1000:  61%|██████    | 611/1000 [1:27:01<54:14,  8.37s/it, v_num=ow_1, total_loss_train=1.45e+3, kl_local_train=37.6]"
     ]
    },
    {
     "name": "stdout",
     "output_type": "stream",
     "text": [
      "\r",
      "Epoch 612/1000:  61%|██████    | 612/1000 [1:27:10<55:29,  8.58s/it, v_num=ow_1, total_loss_train=1.45e+3, kl_local_train=37.6]"
     ]
    },
    {
     "name": "stdout",
     "output_type": "stream",
     "text": [
      "\r",
      "Epoch 612/1000:  61%|██████    | 612/1000 [1:27:10<55:29,  8.58s/it, v_num=ow_1, total_loss_train=1.45e+3, kl_local_train=37.5]"
     ]
    },
    {
     "name": "stdout",
     "output_type": "stream",
     "text": [
      "\r",
      "Epoch 613/1000:  61%|██████    | 612/1000 [1:27:10<55:29,  8.58s/it, v_num=ow_1, total_loss_train=1.45e+3, kl_local_train=37.5]"
     ]
    },
    {
     "name": "stdout",
     "output_type": "stream",
     "text": [
      "\r",
      "Epoch 613/1000:  61%|██████▏   | 613/1000 [1:27:19<55:20,  8.58s/it, v_num=ow_1, total_loss_train=1.45e+3, kl_local_train=37.5]"
     ]
    },
    {
     "name": "stdout",
     "output_type": "stream",
     "text": [
      "\r",
      "Epoch 613/1000:  61%|██████▏   | 613/1000 [1:27:19<55:20,  8.58s/it, v_num=ow_1, total_loss_train=1.45e+3, kl_local_train=37.5]"
     ]
    },
    {
     "name": "stdout",
     "output_type": "stream",
     "text": [
      "\r",
      "Epoch 614/1000:  61%|██████▏   | 613/1000 [1:27:19<55:20,  8.58s/it, v_num=ow_1, total_loss_train=1.45e+3, kl_local_train=37.5]"
     ]
    },
    {
     "name": "stdout",
     "output_type": "stream",
     "text": [
      "\r",
      "Epoch 614/1000:  61%|██████▏   | 614/1000 [1:27:27<54:04,  8.41s/it, v_num=ow_1, total_loss_train=1.45e+3, kl_local_train=37.5]"
     ]
    },
    {
     "name": "stdout",
     "output_type": "stream",
     "text": [
      "\r",
      "Epoch 614/1000:  61%|██████▏   | 614/1000 [1:27:27<54:04,  8.41s/it, v_num=ow_1, total_loss_train=1.45e+3, kl_local_train=37.6]"
     ]
    },
    {
     "name": "stdout",
     "output_type": "stream",
     "text": [
      "\r",
      "Epoch 615/1000:  61%|██████▏   | 614/1000 [1:27:27<54:04,  8.41s/it, v_num=ow_1, total_loss_train=1.45e+3, kl_local_train=37.6]"
     ]
    },
    {
     "name": "stdout",
     "output_type": "stream",
     "text": [
      "\r",
      "Epoch 615/1000:  62%|██████▏   | 615/1000 [1:27:35<54:18,  8.46s/it, v_num=ow_1, total_loss_train=1.45e+3, kl_local_train=37.6]"
     ]
    },
    {
     "name": "stdout",
     "output_type": "stream",
     "text": [
      "\r",
      "Epoch 615/1000:  62%|██████▏   | 615/1000 [1:27:35<54:18,  8.46s/it, v_num=ow_1, total_loss_train=1.45e+3, kl_local_train=37.5]"
     ]
    },
    {
     "name": "stdout",
     "output_type": "stream",
     "text": [
      "\r",
      "Epoch 616/1000:  62%|██████▏   | 615/1000 [1:27:35<54:18,  8.46s/it, v_num=ow_1, total_loss_train=1.45e+3, kl_local_train=37.5]"
     ]
    },
    {
     "name": "stdout",
     "output_type": "stream",
     "text": [
      "\r",
      "Epoch 616/1000:  62%|██████▏   | 616/1000 [1:27:44<54:24,  8.50s/it, v_num=ow_1, total_loss_train=1.45e+3, kl_local_train=37.5]"
     ]
    },
    {
     "name": "stdout",
     "output_type": "stream",
     "text": [
      "\r",
      "Epoch 616/1000:  62%|██████▏   | 616/1000 [1:27:44<54:24,  8.50s/it, v_num=ow_1, total_loss_train=1.46e+3, kl_local_train=37.4]"
     ]
    },
    {
     "name": "stdout",
     "output_type": "stream",
     "text": [
      "\r",
      "Epoch 617/1000:  62%|██████▏   | 616/1000 [1:27:44<54:24,  8.50s/it, v_num=ow_1, total_loss_train=1.46e+3, kl_local_train=37.4]"
     ]
    },
    {
     "name": "stdout",
     "output_type": "stream",
     "text": [
      "\r",
      "Epoch 617/1000:  62%|██████▏   | 617/1000 [1:27:53<54:27,  8.53s/it, v_num=ow_1, total_loss_train=1.46e+3, kl_local_train=37.4]"
     ]
    },
    {
     "name": "stdout",
     "output_type": "stream",
     "text": [
      "\r",
      "Epoch 617/1000:  62%|██████▏   | 617/1000 [1:27:53<54:27,  8.53s/it, v_num=ow_1, total_loss_train=1.45e+3, kl_local_train=37.6]"
     ]
    },
    {
     "name": "stdout",
     "output_type": "stream",
     "text": [
      "\r",
      "Epoch 618/1000:  62%|██████▏   | 617/1000 [1:27:53<54:27,  8.53s/it, v_num=ow_1, total_loss_train=1.45e+3, kl_local_train=37.6]"
     ]
    },
    {
     "name": "stdout",
     "output_type": "stream",
     "text": [
      "\r",
      "Epoch 618/1000:  62%|██████▏   | 618/1000 [1:28:01<54:12,  8.51s/it, v_num=ow_1, total_loss_train=1.45e+3, kl_local_train=37.6]"
     ]
    },
    {
     "name": "stdout",
     "output_type": "stream",
     "text": [
      "\r",
      "Epoch 618/1000:  62%|██████▏   | 618/1000 [1:28:01<54:12,  8.51s/it, v_num=ow_1, total_loss_train=1.45e+3, kl_local_train=37.7]"
     ]
    },
    {
     "name": "stdout",
     "output_type": "stream",
     "text": [
      "\r",
      "Epoch 619/1000:  62%|██████▏   | 618/1000 [1:28:01<54:12,  8.51s/it, v_num=ow_1, total_loss_train=1.45e+3, kl_local_train=37.7]"
     ]
    },
    {
     "name": "stdout",
     "output_type": "stream",
     "text": [
      "\r",
      "Epoch 619/1000:  62%|██████▏   | 619/1000 [1:28:09<52:11,  8.22s/it, v_num=ow_1, total_loss_train=1.45e+3, kl_local_train=37.7]"
     ]
    },
    {
     "name": "stdout",
     "output_type": "stream",
     "text": [
      "\r",
      "Epoch 619/1000:  62%|██████▏   | 619/1000 [1:28:09<52:11,  8.22s/it, v_num=ow_1, total_loss_train=1.45e+3, kl_local_train=37.5]"
     ]
    },
    {
     "name": "stdout",
     "output_type": "stream",
     "text": [
      "\r",
      "Epoch 620/1000:  62%|██████▏   | 619/1000 [1:28:09<52:11,  8.22s/it, v_num=ow_1, total_loss_train=1.45e+3, kl_local_train=37.5]"
     ]
    },
    {
     "name": "stdout",
     "output_type": "stream",
     "text": [
      "\r",
      "Epoch 620/1000:  62%|██████▏   | 620/1000 [1:28:18<53:54,  8.51s/it, v_num=ow_1, total_loss_train=1.45e+3, kl_local_train=37.5]"
     ]
    },
    {
     "name": "stdout",
     "output_type": "stream",
     "text": [
      "\r",
      "Epoch 620/1000:  62%|██████▏   | 620/1000 [1:28:18<53:54,  8.51s/it, v_num=ow_1, total_loss_train=1.45e+3, kl_local_train=37.6]"
     ]
    },
    {
     "name": "stdout",
     "output_type": "stream",
     "text": [
      "\r",
      "Epoch 621/1000:  62%|██████▏   | 620/1000 [1:28:18<53:54,  8.51s/it, v_num=ow_1, total_loss_train=1.45e+3, kl_local_train=37.6]"
     ]
    },
    {
     "name": "stdout",
     "output_type": "stream",
     "text": [
      "\r",
      "Epoch 621/1000:  62%|██████▏   | 621/1000 [1:28:26<53:25,  8.46s/it, v_num=ow_1, total_loss_train=1.45e+3, kl_local_train=37.6]"
     ]
    },
    {
     "name": "stdout",
     "output_type": "stream",
     "text": [
      "\r",
      "Epoch 621/1000:  62%|██████▏   | 621/1000 [1:28:26<53:25,  8.46s/it, v_num=ow_1, total_loss_train=1.45e+3, kl_local_train=37.5]"
     ]
    },
    {
     "name": "stdout",
     "output_type": "stream",
     "text": [
      "\r",
      "Epoch 622/1000:  62%|██████▏   | 621/1000 [1:28:26<53:25,  8.46s/it, v_num=ow_1, total_loss_train=1.45e+3, kl_local_train=37.5]"
     ]
    },
    {
     "name": "stdout",
     "output_type": "stream",
     "text": [
      "\r",
      "Epoch 622/1000:  62%|██████▏   | 622/1000 [1:28:34<52:03,  8.26s/it, v_num=ow_1, total_loss_train=1.45e+3, kl_local_train=37.5]"
     ]
    },
    {
     "name": "stdout",
     "output_type": "stream",
     "text": [
      "\r",
      "Epoch 622/1000:  62%|██████▏   | 622/1000 [1:28:34<52:03,  8.26s/it, v_num=ow_1, total_loss_train=1.45e+3, kl_local_train=37.6]"
     ]
    },
    {
     "name": "stdout",
     "output_type": "stream",
     "text": [
      "\r",
      "Epoch 623/1000:  62%|██████▏   | 622/1000 [1:28:34<52:03,  8.26s/it, v_num=ow_1, total_loss_train=1.45e+3, kl_local_train=37.6]"
     ]
    },
    {
     "name": "stdout",
     "output_type": "stream",
     "text": [
      "\r",
      "Epoch 623/1000:  62%|██████▏   | 623/1000 [1:28:42<51:43,  8.23s/it, v_num=ow_1, total_loss_train=1.45e+3, kl_local_train=37.6]"
     ]
    },
    {
     "name": "stdout",
     "output_type": "stream",
     "text": [
      "\r",
      "Epoch 623/1000:  62%|██████▏   | 623/1000 [1:28:42<51:43,  8.23s/it, v_num=ow_1, total_loss_train=1.45e+3, kl_local_train=37.4]"
     ]
    },
    {
     "name": "stdout",
     "output_type": "stream",
     "text": [
      "\r",
      "Epoch 624/1000:  62%|██████▏   | 623/1000 [1:28:42<51:43,  8.23s/it, v_num=ow_1, total_loss_train=1.45e+3, kl_local_train=37.4]"
     ]
    },
    {
     "name": "stdout",
     "output_type": "stream",
     "text": [
      "\r",
      "Epoch 624/1000:  62%|██████▏   | 624/1000 [1:28:51<53:12,  8.49s/it, v_num=ow_1, total_loss_train=1.45e+3, kl_local_train=37.4]"
     ]
    },
    {
     "name": "stdout",
     "output_type": "stream",
     "text": [
      "\r",
      "Epoch 624/1000:  62%|██████▏   | 624/1000 [1:28:51<53:12,  8.49s/it, v_num=ow_1, total_loss_train=1.45e+3, kl_local_train=37.3]"
     ]
    },
    {
     "name": "stdout",
     "output_type": "stream",
     "text": [
      "\r",
      "Epoch 625/1000:  62%|██████▏   | 624/1000 [1:28:51<53:12,  8.49s/it, v_num=ow_1, total_loss_train=1.45e+3, kl_local_train=37.3]"
     ]
    },
    {
     "name": "stdout",
     "output_type": "stream",
     "text": [
      "\r",
      "Epoch 625/1000:  62%|██████▎   | 625/1000 [1:28:59<52:22,  8.38s/it, v_num=ow_1, total_loss_train=1.45e+3, kl_local_train=37.3]"
     ]
    },
    {
     "name": "stdout",
     "output_type": "stream",
     "text": [
      "\r",
      "Epoch 625/1000:  62%|██████▎   | 625/1000 [1:28:59<52:22,  8.38s/it, v_num=ow_1, total_loss_train=1.45e+3, kl_local_train=37.6]"
     ]
    },
    {
     "name": "stdout",
     "output_type": "stream",
     "text": [
      "\r",
      "Epoch 626/1000:  62%|██████▎   | 625/1000 [1:28:59<52:22,  8.38s/it, v_num=ow_1, total_loss_train=1.45e+3, kl_local_train=37.6]"
     ]
    },
    {
     "name": "stdout",
     "output_type": "stream",
     "text": [
      "\r",
      "Epoch 626/1000:  63%|██████▎   | 626/1000 [1:29:07<50:18,  8.07s/it, v_num=ow_1, total_loss_train=1.45e+3, kl_local_train=37.6]"
     ]
    },
    {
     "name": "stdout",
     "output_type": "stream",
     "text": [
      "\r",
      "Epoch 626/1000:  63%|██████▎   | 626/1000 [1:29:07<50:18,  8.07s/it, v_num=ow_1, total_loss_train=1.45e+3, kl_local_train=37.5]"
     ]
    },
    {
     "name": "stdout",
     "output_type": "stream",
     "text": [
      "\r",
      "Epoch 627/1000:  63%|██████▎   | 626/1000 [1:29:07<50:18,  8.07s/it, v_num=ow_1, total_loss_train=1.45e+3, kl_local_train=37.5]"
     ]
    },
    {
     "name": "stdout",
     "output_type": "stream",
     "text": [
      "\r",
      "Epoch 627/1000:  63%|██████▎   | 627/1000 [1:29:15<50:18,  8.09s/it, v_num=ow_1, total_loss_train=1.45e+3, kl_local_train=37.5]"
     ]
    },
    {
     "name": "stdout",
     "output_type": "stream",
     "text": [
      "\r",
      "Epoch 627/1000:  63%|██████▎   | 627/1000 [1:29:15<50:18,  8.09s/it, v_num=ow_1, total_loss_train=1.45e+3, kl_local_train=37.6]"
     ]
    },
    {
     "name": "stdout",
     "output_type": "stream",
     "text": [
      "\r",
      "Epoch 628/1000:  63%|██████▎   | 627/1000 [1:29:15<50:18,  8.09s/it, v_num=ow_1, total_loss_train=1.45e+3, kl_local_train=37.6]"
     ]
    },
    {
     "name": "stdout",
     "output_type": "stream",
     "text": [
      "\r",
      "Epoch 628/1000:  63%|██████▎   | 628/1000 [1:29:22<48:26,  7.81s/it, v_num=ow_1, total_loss_train=1.45e+3, kl_local_train=37.6]"
     ]
    },
    {
     "name": "stdout",
     "output_type": "stream",
     "text": [
      "\r",
      "Epoch 628/1000:  63%|██████▎   | 628/1000 [1:29:22<48:26,  7.81s/it, v_num=ow_1, total_loss_train=1.45e+3, kl_local_train=37.5]"
     ]
    },
    {
     "name": "stdout",
     "output_type": "stream",
     "text": [
      "\r",
      "Epoch 629/1000:  63%|██████▎   | 628/1000 [1:29:22<48:26,  7.81s/it, v_num=ow_1, total_loss_train=1.45e+3, kl_local_train=37.5]"
     ]
    },
    {
     "name": "stdout",
     "output_type": "stream",
     "text": [
      "\r",
      "Epoch 629/1000:  63%|██████▎   | 629/1000 [1:29:30<48:14,  7.80s/it, v_num=ow_1, total_loss_train=1.45e+3, kl_local_train=37.5]"
     ]
    },
    {
     "name": "stdout",
     "output_type": "stream",
     "text": [
      "\r",
      "Epoch 629/1000:  63%|██████▎   | 629/1000 [1:29:30<48:14,  7.80s/it, v_num=ow_1, total_loss_train=1.45e+3, kl_local_train=37.7]"
     ]
    },
    {
     "name": "stdout",
     "output_type": "stream",
     "text": [
      "\r",
      "Epoch 630/1000:  63%|██████▎   | 629/1000 [1:29:30<48:14,  7.80s/it, v_num=ow_1, total_loss_train=1.45e+3, kl_local_train=37.7]"
     ]
    },
    {
     "name": "stdout",
     "output_type": "stream",
     "text": [
      "\r",
      "Epoch 630/1000:  63%|██████▎   | 630/1000 [1:29:38<49:46,  8.07s/it, v_num=ow_1, total_loss_train=1.45e+3, kl_local_train=37.7]"
     ]
    },
    {
     "name": "stdout",
     "output_type": "stream",
     "text": [
      "\r",
      "Epoch 630/1000:  63%|██████▎   | 630/1000 [1:29:38<49:46,  8.07s/it, v_num=ow_1, total_loss_train=1.45e+3, kl_local_train=37.4]"
     ]
    },
    {
     "name": "stdout",
     "output_type": "stream",
     "text": [
      "\r",
      "Epoch 631/1000:  63%|██████▎   | 630/1000 [1:29:38<49:46,  8.07s/it, v_num=ow_1, total_loss_train=1.45e+3, kl_local_train=37.4]"
     ]
    },
    {
     "name": "stdout",
     "output_type": "stream",
     "text": [
      "\r",
      "Epoch 631/1000:  63%|██████▎   | 631/1000 [1:29:47<51:09,  8.32s/it, v_num=ow_1, total_loss_train=1.45e+3, kl_local_train=37.4]"
     ]
    },
    {
     "name": "stdout",
     "output_type": "stream",
     "text": [
      "\r",
      "Epoch 631/1000:  63%|██████▎   | 631/1000 [1:29:47<51:09,  8.32s/it, v_num=ow_1, total_loss_train=1.45e+3, kl_local_train=37.6]"
     ]
    },
    {
     "name": "stdout",
     "output_type": "stream",
     "text": [
      "\r",
      "Epoch 632/1000:  63%|██████▎   | 631/1000 [1:29:47<51:09,  8.32s/it, v_num=ow_1, total_loss_train=1.45e+3, kl_local_train=37.6]"
     ]
    },
    {
     "name": "stdout",
     "output_type": "stream",
     "text": [
      "\r",
      "Epoch 632/1000:  63%|██████▎   | 632/1000 [1:29:56<51:37,  8.42s/it, v_num=ow_1, total_loss_train=1.45e+3, kl_local_train=37.6]"
     ]
    },
    {
     "name": "stdout",
     "output_type": "stream",
     "text": [
      "\r",
      "Epoch 632/1000:  63%|██████▎   | 632/1000 [1:29:56<51:37,  8.42s/it, v_num=ow_1, total_loss_train=1.45e+3, kl_local_train=37.5]"
     ]
    },
    {
     "name": "stdout",
     "output_type": "stream",
     "text": [
      "\r",
      "Epoch 633/1000:  63%|██████▎   | 632/1000 [1:29:56<51:37,  8.42s/it, v_num=ow_1, total_loss_train=1.45e+3, kl_local_train=37.5]"
     ]
    },
    {
     "name": "stdout",
     "output_type": "stream",
     "text": [
      "\r",
      "Epoch 633/1000:  63%|██████▎   | 633/1000 [1:30:05<51:48,  8.47s/it, v_num=ow_1, total_loss_train=1.45e+3, kl_local_train=37.5]"
     ]
    },
    {
     "name": "stdout",
     "output_type": "stream",
     "text": [
      "\r",
      "Epoch 633/1000:  63%|██████▎   | 633/1000 [1:30:05<51:48,  8.47s/it, v_num=ow_1, total_loss_train=1.45e+3, kl_local_train=37.6]"
     ]
    },
    {
     "name": "stdout",
     "output_type": "stream",
     "text": [
      "\r",
      "Epoch 634/1000:  63%|██████▎   | 633/1000 [1:30:05<51:48,  8.47s/it, v_num=ow_1, total_loss_train=1.45e+3, kl_local_train=37.6]"
     ]
    },
    {
     "name": "stdout",
     "output_type": "stream",
     "text": [
      "\r",
      "Epoch 634/1000:  63%|██████▎   | 634/1000 [1:30:13<52:03,  8.54s/it, v_num=ow_1, total_loss_train=1.45e+3, kl_local_train=37.6]"
     ]
    },
    {
     "name": "stdout",
     "output_type": "stream",
     "text": [
      "\r",
      "Epoch 634/1000:  63%|██████▎   | 634/1000 [1:30:13<52:03,  8.54s/it, v_num=ow_1, total_loss_train=1.45e+3, kl_local_train=37.5]"
     ]
    },
    {
     "name": "stdout",
     "output_type": "stream",
     "text": [
      "\r",
      "Epoch 635/1000:  63%|██████▎   | 634/1000 [1:30:13<52:03,  8.54s/it, v_num=ow_1, total_loss_train=1.45e+3, kl_local_train=37.5]"
     ]
    },
    {
     "name": "stdout",
     "output_type": "stream",
     "text": [
      "\r",
      "Epoch 635/1000:  64%|██████▎   | 635/1000 [1:30:22<51:59,  8.55s/it, v_num=ow_1, total_loss_train=1.45e+3, kl_local_train=37.5]"
     ]
    },
    {
     "name": "stdout",
     "output_type": "stream",
     "text": [
      "\r",
      "Epoch 635/1000:  64%|██████▎   | 635/1000 [1:30:22<51:59,  8.55s/it, v_num=ow_1, total_loss_train=1.45e+3, kl_local_train=37.5]"
     ]
    },
    {
     "name": "stdout",
     "output_type": "stream",
     "text": [
      "\r",
      "Epoch 636/1000:  64%|██████▎   | 635/1000 [1:30:22<51:59,  8.55s/it, v_num=ow_1, total_loss_train=1.45e+3, kl_local_train=37.5]"
     ]
    },
    {
     "name": "stdout",
     "output_type": "stream",
     "text": [
      "\r",
      "Epoch 636/1000:  64%|██████▎   | 636/1000 [1:30:30<51:50,  8.55s/it, v_num=ow_1, total_loss_train=1.45e+3, kl_local_train=37.5]"
     ]
    },
    {
     "name": "stdout",
     "output_type": "stream",
     "text": [
      "\r",
      "Epoch 636/1000:  64%|██████▎   | 636/1000 [1:30:30<51:50,  8.55s/it, v_num=ow_1, total_loss_train=1.45e+3, kl_local_train=37.5]"
     ]
    },
    {
     "name": "stdout",
     "output_type": "stream",
     "text": [
      "\r",
      "Epoch 637/1000:  64%|██████▎   | 636/1000 [1:30:30<51:50,  8.55s/it, v_num=ow_1, total_loss_train=1.45e+3, kl_local_train=37.5]"
     ]
    },
    {
     "name": "stdout",
     "output_type": "stream",
     "text": [
      "\r",
      "Epoch 637/1000:  64%|██████▎   | 637/1000 [1:30:39<51:47,  8.56s/it, v_num=ow_1, total_loss_train=1.45e+3, kl_local_train=37.5]"
     ]
    },
    {
     "name": "stdout",
     "output_type": "stream",
     "text": [
      "\r",
      "Epoch 637/1000:  64%|██████▎   | 637/1000 [1:30:39<51:47,  8.56s/it, v_num=ow_1, total_loss_train=1.45e+3, kl_local_train=37.6]"
     ]
    },
    {
     "name": "stdout",
     "output_type": "stream",
     "text": [
      "\r",
      "Epoch 638/1000:  64%|██████▎   | 637/1000 [1:30:39<51:47,  8.56s/it, v_num=ow_1, total_loss_train=1.45e+3, kl_local_train=37.6]"
     ]
    },
    {
     "name": "stdout",
     "output_type": "stream",
     "text": [
      "\r",
      "Epoch 638/1000:  64%|██████▍   | 638/1000 [1:30:47<51:18,  8.51s/it, v_num=ow_1, total_loss_train=1.45e+3, kl_local_train=37.6]"
     ]
    },
    {
     "name": "stdout",
     "output_type": "stream",
     "text": [
      "\r",
      "Epoch 638/1000:  64%|██████▍   | 638/1000 [1:30:47<51:18,  8.51s/it, v_num=ow_1, total_loss_train=1.45e+3, kl_local_train=37.6]"
     ]
    },
    {
     "name": "stdout",
     "output_type": "stream",
     "text": [
      "\r",
      "Epoch 639/1000:  64%|██████▍   | 638/1000 [1:30:47<51:18,  8.51s/it, v_num=ow_1, total_loss_train=1.45e+3, kl_local_train=37.6]"
     ]
    },
    {
     "name": "stdout",
     "output_type": "stream",
     "text": [
      "\r",
      "Epoch 639/1000:  64%|██████▍   | 639/1000 [1:30:56<50:51,  8.45s/it, v_num=ow_1, total_loss_train=1.45e+3, kl_local_train=37.6]"
     ]
    },
    {
     "name": "stdout",
     "output_type": "stream",
     "text": [
      "\r",
      "Epoch 639/1000:  64%|██████▍   | 639/1000 [1:30:56<50:51,  8.45s/it, v_num=ow_1, total_loss_train=1.45e+3, kl_local_train=37.4]"
     ]
    },
    {
     "name": "stdout",
     "output_type": "stream",
     "text": [
      "\r",
      "Epoch 640/1000:  64%|██████▍   | 639/1000 [1:30:56<50:51,  8.45s/it, v_num=ow_1, total_loss_train=1.45e+3, kl_local_train=37.4]"
     ]
    },
    {
     "name": "stdout",
     "output_type": "stream",
     "text": [
      "\r",
      "Epoch 640/1000:  64%|██████▍   | 640/1000 [1:31:04<50:13,  8.37s/it, v_num=ow_1, total_loss_train=1.45e+3, kl_local_train=37.4]"
     ]
    },
    {
     "name": "stdout",
     "output_type": "stream",
     "text": [
      "\r",
      "Epoch 640/1000:  64%|██████▍   | 640/1000 [1:31:04<50:13,  8.37s/it, v_num=ow_1, total_loss_train=1.45e+3, kl_local_train=37.5]"
     ]
    },
    {
     "name": "stdout",
     "output_type": "stream",
     "text": [
      "\r",
      "Epoch 641/1000:  64%|██████▍   | 640/1000 [1:31:04<50:13,  8.37s/it, v_num=ow_1, total_loss_train=1.45e+3, kl_local_train=37.5]"
     ]
    },
    {
     "name": "stdout",
     "output_type": "stream",
     "text": [
      "\r",
      "Epoch 641/1000:  64%|██████▍   | 641/1000 [1:31:12<49:35,  8.29s/it, v_num=ow_1, total_loss_train=1.45e+3, kl_local_train=37.5]"
     ]
    },
    {
     "name": "stdout",
     "output_type": "stream",
     "text": [
      "\r",
      "Epoch 641/1000:  64%|██████▍   | 641/1000 [1:31:12<49:35,  8.29s/it, v_num=ow_1, total_loss_train=1.45e+3, kl_local_train=37.5]"
     ]
    },
    {
     "name": "stdout",
     "output_type": "stream",
     "text": [
      "\r",
      "Epoch 642/1000:  64%|██████▍   | 641/1000 [1:31:12<49:35,  8.29s/it, v_num=ow_1, total_loss_train=1.45e+3, kl_local_train=37.5]"
     ]
    },
    {
     "name": "stdout",
     "output_type": "stream",
     "text": [
      "\r",
      "Epoch 642/1000:  64%|██████▍   | 642/1000 [1:31:20<49:08,  8.24s/it, v_num=ow_1, total_loss_train=1.45e+3, kl_local_train=37.5]"
     ]
    },
    {
     "name": "stdout",
     "output_type": "stream",
     "text": [
      "\r",
      "Epoch 642/1000:  64%|██████▍   | 642/1000 [1:31:20<49:08,  8.24s/it, v_num=ow_1, total_loss_train=1.45e+3, kl_local_train=37.5]"
     ]
    },
    {
     "name": "stdout",
     "output_type": "stream",
     "text": [
      "\r",
      "Epoch 643/1000:  64%|██████▍   | 642/1000 [1:31:20<49:08,  8.24s/it, v_num=ow_1, total_loss_train=1.45e+3, kl_local_train=37.5]"
     ]
    },
    {
     "name": "stdout",
     "output_type": "stream",
     "text": [
      "\r",
      "Epoch 643/1000:  64%|██████▍   | 643/1000 [1:31:28<48:49,  8.21s/it, v_num=ow_1, total_loss_train=1.45e+3, kl_local_train=37.5]"
     ]
    },
    {
     "name": "stdout",
     "output_type": "stream",
     "text": [
      "\r",
      "Epoch 643/1000:  64%|██████▍   | 643/1000 [1:31:28<48:49,  8.21s/it, v_num=ow_1, total_loss_train=1.45e+3, kl_local_train=37.5]"
     ]
    },
    {
     "name": "stdout",
     "output_type": "stream",
     "text": [
      "\r",
      "Epoch 644/1000:  64%|██████▍   | 643/1000 [1:31:28<48:49,  8.21s/it, v_num=ow_1, total_loss_train=1.45e+3, kl_local_train=37.5]"
     ]
    },
    {
     "name": "stdout",
     "output_type": "stream",
     "text": [
      "\r",
      "Epoch 644/1000:  64%|██████▍   | 644/1000 [1:31:36<48:19,  8.14s/it, v_num=ow_1, total_loss_train=1.45e+3, kl_local_train=37.5]"
     ]
    },
    {
     "name": "stdout",
     "output_type": "stream",
     "text": [
      "\r",
      "Epoch 644/1000:  64%|██████▍   | 644/1000 [1:31:36<48:19,  8.14s/it, v_num=ow_1, total_loss_train=1.45e+3, kl_local_train=37.5]"
     ]
    },
    {
     "name": "stdout",
     "output_type": "stream",
     "text": [
      "\r",
      "Epoch 645/1000:  64%|██████▍   | 644/1000 [1:31:36<48:19,  8.14s/it, v_num=ow_1, total_loss_train=1.45e+3, kl_local_train=37.5]"
     ]
    },
    {
     "name": "stdout",
     "output_type": "stream",
     "text": [
      "\r",
      "Epoch 645/1000:  64%|██████▍   | 645/1000 [1:31:44<48:09,  8.14s/it, v_num=ow_1, total_loss_train=1.45e+3, kl_local_train=37.5]"
     ]
    },
    {
     "name": "stdout",
     "output_type": "stream",
     "text": [
      "\r",
      "Epoch 645/1000:  64%|██████▍   | 645/1000 [1:31:44<48:09,  8.14s/it, v_num=ow_1, total_loss_train=1.45e+3, kl_local_train=37.6]"
     ]
    },
    {
     "name": "stdout",
     "output_type": "stream",
     "text": [
      "\r",
      "Epoch 646/1000:  64%|██████▍   | 645/1000 [1:31:44<48:09,  8.14s/it, v_num=ow_1, total_loss_train=1.45e+3, kl_local_train=37.6]"
     ]
    },
    {
     "name": "stdout",
     "output_type": "stream",
     "text": [
      "\r",
      "Epoch 646/1000:  65%|██████▍   | 646/1000 [1:31:52<47:53,  8.12s/it, v_num=ow_1, total_loss_train=1.45e+3, kl_local_train=37.6]"
     ]
    },
    {
     "name": "stdout",
     "output_type": "stream",
     "text": [
      "\r",
      "Epoch 646/1000:  65%|██████▍   | 646/1000 [1:31:52<47:53,  8.12s/it, v_num=ow_1, total_loss_train=1.45e+3, kl_local_train=37.7]"
     ]
    },
    {
     "name": "stdout",
     "output_type": "stream",
     "text": [
      "\r",
      "Epoch 647/1000:  65%|██████▍   | 646/1000 [1:31:52<47:53,  8.12s/it, v_num=ow_1, total_loss_train=1.45e+3, kl_local_train=37.7]"
     ]
    },
    {
     "name": "stdout",
     "output_type": "stream",
     "text": [
      "\r",
      "Epoch 647/1000:  65%|██████▍   | 647/1000 [1:32:00<47:10,  8.02s/it, v_num=ow_1, total_loss_train=1.45e+3, kl_local_train=37.7]"
     ]
    },
    {
     "name": "stdout",
     "output_type": "stream",
     "text": [
      "\r",
      "Epoch 647/1000:  65%|██████▍   | 647/1000 [1:32:00<47:10,  8.02s/it, v_num=ow_1, total_loss_train=1.45e+3, kl_local_train=37.7]"
     ]
    },
    {
     "name": "stdout",
     "output_type": "stream",
     "text": [
      "\r",
      "Epoch 648/1000:  65%|██████▍   | 647/1000 [1:32:00<47:10,  8.02s/it, v_num=ow_1, total_loss_train=1.45e+3, kl_local_train=37.7]"
     ]
    },
    {
     "name": "stdout",
     "output_type": "stream",
     "text": [
      "\r",
      "Epoch 648/1000:  65%|██████▍   | 648/1000 [1:32:08<47:20,  8.07s/it, v_num=ow_1, total_loss_train=1.45e+3, kl_local_train=37.7]"
     ]
    },
    {
     "name": "stdout",
     "output_type": "stream",
     "text": [
      "\r",
      "Epoch 648/1000:  65%|██████▍   | 648/1000 [1:32:08<47:20,  8.07s/it, v_num=ow_1, total_loss_train=1.45e+3, kl_local_train=37.6]"
     ]
    },
    {
     "name": "stdout",
     "output_type": "stream",
     "text": [
      "\r",
      "Epoch 649/1000:  65%|██████▍   | 648/1000 [1:32:08<47:20,  8.07s/it, v_num=ow_1, total_loss_train=1.45e+3, kl_local_train=37.6]"
     ]
    },
    {
     "name": "stdout",
     "output_type": "stream",
     "text": [
      "\r",
      "Epoch 649/1000:  65%|██████▍   | 649/1000 [1:32:17<47:45,  8.16s/it, v_num=ow_1, total_loss_train=1.45e+3, kl_local_train=37.6]"
     ]
    },
    {
     "name": "stdout",
     "output_type": "stream",
     "text": [
      "\r",
      "Epoch 649/1000:  65%|██████▍   | 649/1000 [1:32:17<47:45,  8.16s/it, v_num=ow_1, total_loss_train=1.45e+3, kl_local_train=37.6]"
     ]
    },
    {
     "name": "stdout",
     "output_type": "stream",
     "text": [
      "\r",
      "Epoch 650/1000:  65%|██████▍   | 649/1000 [1:32:17<47:45,  8.16s/it, v_num=ow_1, total_loss_train=1.45e+3, kl_local_train=37.6]"
     ]
    },
    {
     "name": "stdout",
     "output_type": "stream",
     "text": [
      "\r",
      "Epoch 650/1000:  65%|██████▌   | 650/1000 [1:32:25<48:29,  8.31s/it, v_num=ow_1, total_loss_train=1.45e+3, kl_local_train=37.6]"
     ]
    },
    {
     "name": "stdout",
     "output_type": "stream",
     "text": [
      "\r",
      "Epoch 650/1000:  65%|██████▌   | 650/1000 [1:32:25<48:29,  8.31s/it, v_num=ow_1, total_loss_train=1.45e+3, kl_local_train=37.6]"
     ]
    },
    {
     "name": "stdout",
     "output_type": "stream",
     "text": [
      "\r",
      "Epoch 651/1000:  65%|██████▌   | 650/1000 [1:32:25<48:29,  8.31s/it, v_num=ow_1, total_loss_train=1.45e+3, kl_local_train=37.6]"
     ]
    },
    {
     "name": "stdout",
     "output_type": "stream",
     "text": [
      "\r",
      "Epoch 651/1000:  65%|██████▌   | 651/1000 [1:32:33<47:39,  8.19s/it, v_num=ow_1, total_loss_train=1.45e+3, kl_local_train=37.6]"
     ]
    },
    {
     "name": "stdout",
     "output_type": "stream",
     "text": [
      "\r",
      "Epoch 651/1000:  65%|██████▌   | 651/1000 [1:32:33<47:39,  8.19s/it, v_num=ow_1, total_loss_train=1.45e+3, kl_local_train=37.6]"
     ]
    },
    {
     "name": "stdout",
     "output_type": "stream",
     "text": [
      "\r",
      "Epoch 652/1000:  65%|██████▌   | 651/1000 [1:32:33<47:39,  8.19s/it, v_num=ow_1, total_loss_train=1.45e+3, kl_local_train=37.6]"
     ]
    },
    {
     "name": "stdout",
     "output_type": "stream",
     "text": [
      "\r",
      "Epoch 652/1000:  65%|██████▌   | 652/1000 [1:32:42<48:19,  8.33s/it, v_num=ow_1, total_loss_train=1.45e+3, kl_local_train=37.6]"
     ]
    },
    {
     "name": "stdout",
     "output_type": "stream",
     "text": [
      "\r",
      "Epoch 652/1000:  65%|██████▌   | 652/1000 [1:32:42<48:19,  8.33s/it, v_num=ow_1, total_loss_train=1.45e+3, kl_local_train=37.7]"
     ]
    },
    {
     "name": "stdout",
     "output_type": "stream",
     "text": [
      "\r",
      "Epoch 653/1000:  65%|██████▌   | 652/1000 [1:32:42<48:19,  8.33s/it, v_num=ow_1, total_loss_train=1.45e+3, kl_local_train=37.7]"
     ]
    },
    {
     "name": "stdout",
     "output_type": "stream",
     "text": [
      "\r",
      "Epoch 653/1000:  65%|██████▌   | 653/1000 [1:32:52<50:36,  8.75s/it, v_num=ow_1, total_loss_train=1.45e+3, kl_local_train=37.7]"
     ]
    },
    {
     "name": "stdout",
     "output_type": "stream",
     "text": [
      "\r",
      "Epoch 653/1000:  65%|██████▌   | 653/1000 [1:32:52<50:36,  8.75s/it, v_num=ow_1, total_loss_train=1.45e+3, kl_local_train=37.6]"
     ]
    },
    {
     "name": "stdout",
     "output_type": "stream",
     "text": [
      "\r",
      "Epoch 654/1000:  65%|██████▌   | 653/1000 [1:32:52<50:36,  8.75s/it, v_num=ow_1, total_loss_train=1.45e+3, kl_local_train=37.6]"
     ]
    },
    {
     "name": "stdout",
     "output_type": "stream",
     "text": [
      "\r",
      "Epoch 654/1000:  65%|██████▌   | 654/1000 [1:33:01<51:18,  8.90s/it, v_num=ow_1, total_loss_train=1.45e+3, kl_local_train=37.6]"
     ]
    },
    {
     "name": "stdout",
     "output_type": "stream",
     "text": [
      "\r",
      "Epoch 654/1000:  65%|██████▌   | 654/1000 [1:33:01<51:18,  8.90s/it, v_num=ow_1, total_loss_train=1.45e+3, kl_local_train=37.7]"
     ]
    },
    {
     "name": "stdout",
     "output_type": "stream",
     "text": [
      "\r",
      "Epoch 655/1000:  65%|██████▌   | 654/1000 [1:33:01<51:18,  8.90s/it, v_num=ow_1, total_loss_train=1.45e+3, kl_local_train=37.7]"
     ]
    },
    {
     "name": "stdout",
     "output_type": "stream",
     "text": [
      "\r",
      "Epoch 655/1000:  66%|██████▌   | 655/1000 [1:33:10<50:31,  8.79s/it, v_num=ow_1, total_loss_train=1.45e+3, kl_local_train=37.7]"
     ]
    },
    {
     "name": "stdout",
     "output_type": "stream",
     "text": [
      "\r",
      "Epoch 655/1000:  66%|██████▌   | 655/1000 [1:33:10<50:31,  8.79s/it, v_num=ow_1, total_loss_train=1.45e+3, kl_local_train=37.5]"
     ]
    },
    {
     "name": "stdout",
     "output_type": "stream",
     "text": [
      "\r",
      "Epoch 656/1000:  66%|██████▌   | 655/1000 [1:33:10<50:31,  8.79s/it, v_num=ow_1, total_loss_train=1.45e+3, kl_local_train=37.5]"
     ]
    },
    {
     "name": "stdout",
     "output_type": "stream",
     "text": [
      "\r",
      "Epoch 656/1000:  66%|██████▌   | 656/1000 [1:33:18<49:13,  8.59s/it, v_num=ow_1, total_loss_train=1.45e+3, kl_local_train=37.5]"
     ]
    },
    {
     "name": "stdout",
     "output_type": "stream",
     "text": [
      "\r",
      "Epoch 656/1000:  66%|██████▌   | 656/1000 [1:33:18<49:13,  8.59s/it, v_num=ow_1, total_loss_train=1.45e+3, kl_local_train=37.7]"
     ]
    },
    {
     "name": "stdout",
     "output_type": "stream",
     "text": [
      "\r",
      "Epoch 657/1000:  66%|██████▌   | 656/1000 [1:33:18<49:13,  8.59s/it, v_num=ow_1, total_loss_train=1.45e+3, kl_local_train=37.7]"
     ]
    },
    {
     "name": "stdout",
     "output_type": "stream",
     "text": [
      "\r",
      "Epoch 657/1000:  66%|██████▌   | 657/1000 [1:33:26<49:14,  8.61s/it, v_num=ow_1, total_loss_train=1.45e+3, kl_local_train=37.7]"
     ]
    },
    {
     "name": "stdout",
     "output_type": "stream",
     "text": [
      "\r",
      "Epoch 657/1000:  66%|██████▌   | 657/1000 [1:33:26<49:14,  8.61s/it, v_num=ow_1, total_loss_train=1.45e+3, kl_local_train=37.6]"
     ]
    },
    {
     "name": "stdout",
     "output_type": "stream",
     "text": [
      "\r",
      "Epoch 658/1000:  66%|██████▌   | 657/1000 [1:33:26<49:14,  8.61s/it, v_num=ow_1, total_loss_train=1.45e+3, kl_local_train=37.6]"
     ]
    },
    {
     "name": "stdout",
     "output_type": "stream",
     "text": [
      "\r",
      "Epoch 658/1000:  66%|██████▌   | 658/1000 [1:33:35<49:07,  8.62s/it, v_num=ow_1, total_loss_train=1.45e+3, kl_local_train=37.6]"
     ]
    },
    {
     "name": "stdout",
     "output_type": "stream",
     "text": [
      "\r",
      "Epoch 658/1000:  66%|██████▌   | 658/1000 [1:33:35<49:07,  8.62s/it, v_num=ow_1, total_loss_train=1.45e+3, kl_local_train=37.7]"
     ]
    },
    {
     "name": "stdout",
     "output_type": "stream",
     "text": [
      "\r",
      "Epoch 659/1000:  66%|██████▌   | 658/1000 [1:33:35<49:07,  8.62s/it, v_num=ow_1, total_loss_train=1.45e+3, kl_local_train=37.7]"
     ]
    },
    {
     "name": "stdout",
     "output_type": "stream",
     "text": [
      "\r",
      "Epoch 659/1000:  66%|██████▌   | 659/1000 [1:33:43<47:49,  8.41s/it, v_num=ow_1, total_loss_train=1.45e+3, kl_local_train=37.7]"
     ]
    },
    {
     "name": "stdout",
     "output_type": "stream",
     "text": [
      "\r",
      "Epoch 659/1000:  66%|██████▌   | 659/1000 [1:33:43<47:49,  8.41s/it, v_num=ow_1, total_loss_train=1.45e+3, kl_local_train=37.5]"
     ]
    },
    {
     "name": "stdout",
     "output_type": "stream",
     "text": [
      "\r",
      "Epoch 660/1000:  66%|██████▌   | 659/1000 [1:33:43<47:49,  8.41s/it, v_num=ow_1, total_loss_train=1.45e+3, kl_local_train=37.5]"
     ]
    },
    {
     "name": "stdout",
     "output_type": "stream",
     "text": [
      "\r",
      "Epoch 660/1000:  66%|██████▌   | 660/1000 [1:33:51<46:51,  8.27s/it, v_num=ow_1, total_loss_train=1.45e+3, kl_local_train=37.5]"
     ]
    },
    {
     "name": "stdout",
     "output_type": "stream",
     "text": [
      "\r",
      "Epoch 660/1000:  66%|██████▌   | 660/1000 [1:33:51<46:51,  8.27s/it, v_num=ow_1, total_loss_train=1.45e+3, kl_local_train=37.6]"
     ]
    },
    {
     "name": "stdout",
     "output_type": "stream",
     "text": [
      "\r",
      "Epoch 661/1000:  66%|██████▌   | 660/1000 [1:33:51<46:51,  8.27s/it, v_num=ow_1, total_loss_train=1.45e+3, kl_local_train=37.6]"
     ]
    },
    {
     "name": "stdout",
     "output_type": "stream",
     "text": [
      "\r",
      "Epoch 661/1000:  66%|██████▌   | 661/1000 [1:34:00<47:26,  8.40s/it, v_num=ow_1, total_loss_train=1.45e+3, kl_local_train=37.6]"
     ]
    },
    {
     "name": "stdout",
     "output_type": "stream",
     "text": [
      "\r",
      "Epoch 661/1000:  66%|██████▌   | 661/1000 [1:34:00<47:26,  8.40s/it, v_num=ow_1, total_loss_train=1.45e+3, kl_local_train=37.8]"
     ]
    },
    {
     "name": "stdout",
     "output_type": "stream",
     "text": [
      "\r",
      "Epoch 662/1000:  66%|██████▌   | 661/1000 [1:34:00<47:26,  8.40s/it, v_num=ow_1, total_loss_train=1.45e+3, kl_local_train=37.8]"
     ]
    },
    {
     "name": "stdout",
     "output_type": "stream",
     "text": [
      "\r",
      "Epoch 662/1000:  66%|██████▌   | 662/1000 [1:34:08<46:40,  8.28s/it, v_num=ow_1, total_loss_train=1.45e+3, kl_local_train=37.8]"
     ]
    },
    {
     "name": "stdout",
     "output_type": "stream",
     "text": [
      "\r",
      "Epoch 662/1000:  66%|██████▌   | 662/1000 [1:34:08<46:40,  8.28s/it, v_num=ow_1, total_loss_train=1.45e+3, kl_local_train=37.6]"
     ]
    },
    {
     "name": "stdout",
     "output_type": "stream",
     "text": [
      "\r",
      "Epoch 663/1000:  66%|██████▌   | 662/1000 [1:34:08<46:40,  8.28s/it, v_num=ow_1, total_loss_train=1.45e+3, kl_local_train=37.6]"
     ]
    },
    {
     "name": "stdout",
     "output_type": "stream",
     "text": [
      "\r",
      "Epoch 663/1000:  66%|██████▋   | 663/1000 [1:34:16<47:09,  8.40s/it, v_num=ow_1, total_loss_train=1.45e+3, kl_local_train=37.6]"
     ]
    },
    {
     "name": "stdout",
     "output_type": "stream",
     "text": [
      "\r",
      "Epoch 663/1000:  66%|██████▋   | 663/1000 [1:34:16<47:09,  8.40s/it, v_num=ow_1, total_loss_train=1.45e+3, kl_local_train=37.5]"
     ]
    },
    {
     "name": "stdout",
     "output_type": "stream",
     "text": [
      "\r",
      "Epoch 664/1000:  66%|██████▋   | 663/1000 [1:34:16<47:09,  8.40s/it, v_num=ow_1, total_loss_train=1.45e+3, kl_local_train=37.5]"
     ]
    },
    {
     "name": "stdout",
     "output_type": "stream",
     "text": [
      "\r",
      "Epoch 664/1000:  66%|██████▋   | 664/1000 [1:34:25<47:03,  8.40s/it, v_num=ow_1, total_loss_train=1.45e+3, kl_local_train=37.5]"
     ]
    },
    {
     "name": "stdout",
     "output_type": "stream",
     "text": [
      "\r",
      "Epoch 664/1000:  66%|██████▋   | 664/1000 [1:34:25<47:03,  8.40s/it, v_num=ow_1, total_loss_train=1.45e+3, kl_local_train=37.6]"
     ]
    },
    {
     "name": "stdout",
     "output_type": "stream",
     "text": [
      "\r",
      "Epoch 665/1000:  66%|██████▋   | 664/1000 [1:34:25<47:03,  8.40s/it, v_num=ow_1, total_loss_train=1.45e+3, kl_local_train=37.6]"
     ]
    },
    {
     "name": "stdout",
     "output_type": "stream",
     "text": [
      "\r",
      "Epoch 665/1000:  66%|██████▋   | 665/1000 [1:34:33<46:51,  8.39s/it, v_num=ow_1, total_loss_train=1.45e+3, kl_local_train=37.6]"
     ]
    },
    {
     "name": "stdout",
     "output_type": "stream",
     "text": [
      "\r",
      "Epoch 665/1000:  66%|██████▋   | 665/1000 [1:34:33<46:51,  8.39s/it, v_num=ow_1, total_loss_train=1.45e+3, kl_local_train=37.6]"
     ]
    },
    {
     "name": "stdout",
     "output_type": "stream",
     "text": [
      "\r",
      "Epoch 666/1000:  66%|██████▋   | 665/1000 [1:34:33<46:51,  8.39s/it, v_num=ow_1, total_loss_train=1.45e+3, kl_local_train=37.6]"
     ]
    },
    {
     "name": "stdout",
     "output_type": "stream",
     "text": [
      "\r",
      "Epoch 666/1000:  67%|██████▋   | 666/1000 [1:34:41<46:40,  8.38s/it, v_num=ow_1, total_loss_train=1.45e+3, kl_local_train=37.6]"
     ]
    },
    {
     "name": "stdout",
     "output_type": "stream",
     "text": [
      "\r",
      "Epoch 666/1000:  67%|██████▋   | 666/1000 [1:34:41<46:40,  8.38s/it, v_num=ow_1, total_loss_train=1.45e+3, kl_local_train=37.4]"
     ]
    },
    {
     "name": "stdout",
     "output_type": "stream",
     "text": [
      "\r",
      "Epoch 667/1000:  67%|██████▋   | 666/1000 [1:34:41<46:40,  8.38s/it, v_num=ow_1, total_loss_train=1.45e+3, kl_local_train=37.4]"
     ]
    },
    {
     "name": "stdout",
     "output_type": "stream",
     "text": [
      "\r",
      "Epoch 667/1000:  67%|██████▋   | 667/1000 [1:34:49<45:36,  8.22s/it, v_num=ow_1, total_loss_train=1.45e+3, kl_local_train=37.4]"
     ]
    },
    {
     "name": "stdout",
     "output_type": "stream",
     "text": [
      "\r",
      "Epoch 667/1000:  67%|██████▋   | 667/1000 [1:34:49<45:36,  8.22s/it, v_num=ow_1, total_loss_train=1.45e+3, kl_local_train=37.7]"
     ]
    },
    {
     "name": "stdout",
     "output_type": "stream",
     "text": [
      "\r",
      "Epoch 668/1000:  67%|██████▋   | 667/1000 [1:34:49<45:36,  8.22s/it, v_num=ow_1, total_loss_train=1.45e+3, kl_local_train=37.7]"
     ]
    },
    {
     "name": "stdout",
     "output_type": "stream",
     "text": [
      "\r",
      "Epoch 668/1000:  67%|██████▋   | 668/1000 [1:34:57<45:36,  8.24s/it, v_num=ow_1, total_loss_train=1.45e+3, kl_local_train=37.7]"
     ]
    },
    {
     "name": "stdout",
     "output_type": "stream",
     "text": [
      "\r",
      "Epoch 668/1000:  67%|██████▋   | 668/1000 [1:34:57<45:36,  8.24s/it, v_num=ow_1, total_loss_train=1.45e+3, kl_local_train=37.6]"
     ]
    },
    {
     "name": "stdout",
     "output_type": "stream",
     "text": [
      "\r",
      "Epoch 669/1000:  67%|██████▋   | 668/1000 [1:34:57<45:36,  8.24s/it, v_num=ow_1, total_loss_train=1.45e+3, kl_local_train=37.6]"
     ]
    },
    {
     "name": "stdout",
     "output_type": "stream",
     "text": [
      "\r",
      "Epoch 669/1000:  67%|██████▋   | 669/1000 [1:35:06<45:23,  8.23s/it, v_num=ow_1, total_loss_train=1.45e+3, kl_local_train=37.6]"
     ]
    },
    {
     "name": "stdout",
     "output_type": "stream",
     "text": [
      "\r",
      "Epoch 669/1000:  67%|██████▋   | 669/1000 [1:35:06<45:23,  8.23s/it, v_num=ow_1, total_loss_train=1.45e+3, kl_local_train=37.6]"
     ]
    },
    {
     "name": "stdout",
     "output_type": "stream",
     "text": [
      "\r",
      "Epoch 670/1000:  67%|██████▋   | 669/1000 [1:35:06<45:23,  8.23s/it, v_num=ow_1, total_loss_train=1.45e+3, kl_local_train=37.6]"
     ]
    },
    {
     "name": "stdout",
     "output_type": "stream",
     "text": [
      "\r",
      "Epoch 670/1000:  67%|██████▋   | 670/1000 [1:35:13<43:58,  8.00s/it, v_num=ow_1, total_loss_train=1.45e+3, kl_local_train=37.6]"
     ]
    },
    {
     "name": "stdout",
     "output_type": "stream",
     "text": [
      "\r",
      "Epoch 670/1000:  67%|██████▋   | 670/1000 [1:35:13<43:58,  8.00s/it, v_num=ow_1, total_loss_train=1.45e+3, kl_local_train=37.6]"
     ]
    },
    {
     "name": "stdout",
     "output_type": "stream",
     "text": [
      "\r",
      "Epoch 671/1000:  67%|██████▋   | 670/1000 [1:35:13<43:58,  8.00s/it, v_num=ow_1, total_loss_train=1.45e+3, kl_local_train=37.6]"
     ]
    },
    {
     "name": "stdout",
     "output_type": "stream",
     "text": [
      "\r",
      "Epoch 671/1000:  67%|██████▋   | 671/1000 [1:35:21<42:54,  7.83s/it, v_num=ow_1, total_loss_train=1.45e+3, kl_local_train=37.6]"
     ]
    },
    {
     "name": "stdout",
     "output_type": "stream",
     "text": [
      "\r",
      "Epoch 671/1000:  67%|██████▋   | 671/1000 [1:35:21<42:54,  7.83s/it, v_num=ow_1, total_loss_train=1.45e+3, kl_local_train=37.6]"
     ]
    },
    {
     "name": "stdout",
     "output_type": "stream",
     "text": [
      "\r",
      "Epoch 672/1000:  67%|██████▋   | 671/1000 [1:35:21<42:54,  7.83s/it, v_num=ow_1, total_loss_train=1.45e+3, kl_local_train=37.6]"
     ]
    },
    {
     "name": "stdout",
     "output_type": "stream",
     "text": [
      "\r",
      "Epoch 672/1000:  67%|██████▋   | 672/1000 [1:35:29<43:27,  7.95s/it, v_num=ow_1, total_loss_train=1.45e+3, kl_local_train=37.6]"
     ]
    },
    {
     "name": "stdout",
     "output_type": "stream",
     "text": [
      "\r",
      "Epoch 672/1000:  67%|██████▋   | 672/1000 [1:35:29<43:27,  7.95s/it, v_num=ow_1, total_loss_train=1.45e+3, kl_local_train=37.6]"
     ]
    },
    {
     "name": "stdout",
     "output_type": "stream",
     "text": [
      "\r",
      "Epoch 673/1000:  67%|██████▋   | 672/1000 [1:35:29<43:27,  7.95s/it, v_num=ow_1, total_loss_train=1.45e+3, kl_local_train=37.6]"
     ]
    },
    {
     "name": "stdout",
     "output_type": "stream",
     "text": [
      "\r",
      "Epoch 673/1000:  67%|██████▋   | 673/1000 [1:35:37<43:36,  8.00s/it, v_num=ow_1, total_loss_train=1.45e+3, kl_local_train=37.6]"
     ]
    },
    {
     "name": "stdout",
     "output_type": "stream",
     "text": [
      "\r",
      "Epoch 673/1000:  67%|██████▋   | 673/1000 [1:35:37<43:36,  8.00s/it, v_num=ow_1, total_loss_train=1.45e+3, kl_local_train=37.6]"
     ]
    },
    {
     "name": "stdout",
     "output_type": "stream",
     "text": [
      "\r",
      "Epoch 674/1000:  67%|██████▋   | 673/1000 [1:35:37<43:36,  8.00s/it, v_num=ow_1, total_loss_train=1.45e+3, kl_local_train=37.6]"
     ]
    },
    {
     "name": "stdout",
     "output_type": "stream",
     "text": [
      "\r",
      "Epoch 674/1000:  67%|██████▋   | 674/1000 [1:35:45<43:57,  8.09s/it, v_num=ow_1, total_loss_train=1.45e+3, kl_local_train=37.6]"
     ]
    },
    {
     "name": "stdout",
     "output_type": "stream",
     "text": [
      "\r",
      "Epoch 674/1000:  67%|██████▋   | 674/1000 [1:35:45<43:57,  8.09s/it, v_num=ow_1, total_loss_train=1.45e+3, kl_local_train=37.7]"
     ]
    },
    {
     "name": "stdout",
     "output_type": "stream",
     "text": [
      "\r",
      "Epoch 675/1000:  67%|██████▋   | 674/1000 [1:35:45<43:57,  8.09s/it, v_num=ow_1, total_loss_train=1.45e+3, kl_local_train=37.7]"
     ]
    },
    {
     "name": "stdout",
     "output_type": "stream",
     "text": [
      "\r",
      "Epoch 675/1000:  68%|██████▊   | 675/1000 [1:35:53<42:31,  7.85s/it, v_num=ow_1, total_loss_train=1.45e+3, kl_local_train=37.7]"
     ]
    },
    {
     "name": "stdout",
     "output_type": "stream",
     "text": [
      "\r",
      "Epoch 675/1000:  68%|██████▊   | 675/1000 [1:35:53<42:31,  7.85s/it, v_num=ow_1, total_loss_train=1.45e+3, kl_local_train=37.6]"
     ]
    },
    {
     "name": "stdout",
     "output_type": "stream",
     "text": [
      "\r",
      "Epoch 676/1000:  68%|██████▊   | 675/1000 [1:35:53<42:31,  7.85s/it, v_num=ow_1, total_loss_train=1.45e+3, kl_local_train=37.6]"
     ]
    },
    {
     "name": "stdout",
     "output_type": "stream",
     "text": [
      "\r",
      "Epoch 676/1000:  68%|██████▊   | 676/1000 [1:36:01<42:38,  7.90s/it, v_num=ow_1, total_loss_train=1.45e+3, kl_local_train=37.6]"
     ]
    },
    {
     "name": "stdout",
     "output_type": "stream",
     "text": [
      "\r",
      "Epoch 676/1000:  68%|██████▊   | 676/1000 [1:36:01<42:38,  7.90s/it, v_num=ow_1, total_loss_train=1.45e+3, kl_local_train=37.7]"
     ]
    },
    {
     "name": "stdout",
     "output_type": "stream",
     "text": [
      "\r",
      "Epoch 677/1000:  68%|██████▊   | 676/1000 [1:36:01<42:38,  7.90s/it, v_num=ow_1, total_loss_train=1.45e+3, kl_local_train=37.7]"
     ]
    },
    {
     "name": "stdout",
     "output_type": "stream",
     "text": [
      "\r",
      "Epoch 677/1000:  68%|██████▊   | 677/1000 [1:36:09<43:42,  8.12s/it, v_num=ow_1, total_loss_train=1.45e+3, kl_local_train=37.7]"
     ]
    },
    {
     "name": "stdout",
     "output_type": "stream",
     "text": [
      "\r",
      "Epoch 677/1000:  68%|██████▊   | 677/1000 [1:36:09<43:42,  8.12s/it, v_num=ow_1, total_loss_train=1.45e+3, kl_local_train=37.6]"
     ]
    },
    {
     "name": "stdout",
     "output_type": "stream",
     "text": [
      "\r",
      "Epoch 678/1000:  68%|██████▊   | 677/1000 [1:36:09<43:42,  8.12s/it, v_num=ow_1, total_loss_train=1.45e+3, kl_local_train=37.6]"
     ]
    },
    {
     "name": "stdout",
     "output_type": "stream",
     "text": [
      "\r",
      "Epoch 678/1000:  68%|██████▊   | 678/1000 [1:36:18<44:31,  8.30s/it, v_num=ow_1, total_loss_train=1.45e+3, kl_local_train=37.6]"
     ]
    },
    {
     "name": "stdout",
     "output_type": "stream",
     "text": [
      "\r",
      "Epoch 678/1000:  68%|██████▊   | 678/1000 [1:36:18<44:31,  8.30s/it, v_num=ow_1, total_loss_train=1.45e+3, kl_local_train=37.8]"
     ]
    },
    {
     "name": "stdout",
     "output_type": "stream",
     "text": [
      "\r",
      "Epoch 679/1000:  68%|██████▊   | 678/1000 [1:36:18<44:31,  8.30s/it, v_num=ow_1, total_loss_train=1.45e+3, kl_local_train=37.8]"
     ]
    },
    {
     "name": "stdout",
     "output_type": "stream",
     "text": [
      "\r",
      "Epoch 679/1000:  68%|██████▊   | 679/1000 [1:36:26<44:55,  8.40s/it, v_num=ow_1, total_loss_train=1.45e+3, kl_local_train=37.8]"
     ]
    },
    {
     "name": "stdout",
     "output_type": "stream",
     "text": [
      "\r",
      "Epoch 679/1000:  68%|██████▊   | 679/1000 [1:36:26<44:55,  8.40s/it, v_num=ow_1, total_loss_train=1.45e+3, kl_local_train=37.7]"
     ]
    },
    {
     "name": "stdout",
     "output_type": "stream",
     "text": [
      "\r",
      "Epoch 680/1000:  68%|██████▊   | 679/1000 [1:36:27<44:55,  8.40s/it, v_num=ow_1, total_loss_train=1.45e+3, kl_local_train=37.7]"
     ]
    },
    {
     "name": "stdout",
     "output_type": "stream",
     "text": [
      "\r",
      "Epoch 680/1000:  68%|██████▊   | 680/1000 [1:36:35<45:03,  8.45s/it, v_num=ow_1, total_loss_train=1.45e+3, kl_local_train=37.7]"
     ]
    },
    {
     "name": "stdout",
     "output_type": "stream",
     "text": [
      "\r",
      "Epoch 680/1000:  68%|██████▊   | 680/1000 [1:36:35<45:03,  8.45s/it, v_num=ow_1, total_loss_train=1.45e+3, kl_local_train=37.7]"
     ]
    },
    {
     "name": "stdout",
     "output_type": "stream",
     "text": [
      "\r",
      "Epoch 681/1000:  68%|██████▊   | 680/1000 [1:36:35<45:03,  8.45s/it, v_num=ow_1, total_loss_train=1.45e+3, kl_local_train=37.7]"
     ]
    },
    {
     "name": "stdout",
     "output_type": "stream",
     "text": [
      "\r",
      "Epoch 681/1000:  68%|██████▊   | 681/1000 [1:36:44<45:01,  8.47s/it, v_num=ow_1, total_loss_train=1.45e+3, kl_local_train=37.7]"
     ]
    },
    {
     "name": "stdout",
     "output_type": "stream",
     "text": [
      "\r",
      "Epoch 681/1000:  68%|██████▊   | 681/1000 [1:36:44<45:01,  8.47s/it, v_num=ow_1, total_loss_train=1.45e+3, kl_local_train=37.7]"
     ]
    },
    {
     "name": "stdout",
     "output_type": "stream",
     "text": [
      "\r",
      "Epoch 682/1000:  68%|██████▊   | 681/1000 [1:36:44<45:01,  8.47s/it, v_num=ow_1, total_loss_train=1.45e+3, kl_local_train=37.7]"
     ]
    },
    {
     "name": "stdout",
     "output_type": "stream",
     "text": [
      "\r",
      "Epoch 682/1000:  68%|██████▊   | 682/1000 [1:36:52<44:47,  8.45s/it, v_num=ow_1, total_loss_train=1.45e+3, kl_local_train=37.7]"
     ]
    },
    {
     "name": "stdout",
     "output_type": "stream",
     "text": [
      "\r",
      "Epoch 682/1000:  68%|██████▊   | 682/1000 [1:36:52<44:47,  8.45s/it, v_num=ow_1, total_loss_train=1.45e+3, kl_local_train=37.6]"
     ]
    },
    {
     "name": "stdout",
     "output_type": "stream",
     "text": [
      "\r",
      "Epoch 683/1000:  68%|██████▊   | 682/1000 [1:36:52<44:47,  8.45s/it, v_num=ow_1, total_loss_train=1.45e+3, kl_local_train=37.6]"
     ]
    },
    {
     "name": "stdout",
     "output_type": "stream",
     "text": [
      "\r",
      "Epoch 683/1000:  68%|██████▊   | 683/1000 [1:37:01<44:58,  8.51s/it, v_num=ow_1, total_loss_train=1.45e+3, kl_local_train=37.6]"
     ]
    },
    {
     "name": "stdout",
     "output_type": "stream",
     "text": [
      "\r",
      "Epoch 683/1000:  68%|██████▊   | 683/1000 [1:37:01<44:58,  8.51s/it, v_num=ow_1, total_loss_train=1.45e+3, kl_local_train=37.8]"
     ]
    },
    {
     "name": "stdout",
     "output_type": "stream",
     "text": [
      "\r",
      "Epoch 684/1000:  68%|██████▊   | 683/1000 [1:37:01<44:58,  8.51s/it, v_num=ow_1, total_loss_train=1.45e+3, kl_local_train=37.8]"
     ]
    },
    {
     "name": "stdout",
     "output_type": "stream",
     "text": [
      "\r",
      "Epoch 684/1000:  68%|██████▊   | 684/1000 [1:37:09<44:54,  8.53s/it, v_num=ow_1, total_loss_train=1.45e+3, kl_local_train=37.8]"
     ]
    },
    {
     "name": "stdout",
     "output_type": "stream",
     "text": [
      "\r",
      "Epoch 684/1000:  68%|██████▊   | 684/1000 [1:37:09<44:54,  8.53s/it, v_num=ow_1, total_loss_train=1.45e+3, kl_local_train=37.7]"
     ]
    },
    {
     "name": "stdout",
     "output_type": "stream",
     "text": [
      "\r",
      "Epoch 685/1000:  68%|██████▊   | 684/1000 [1:37:09<44:54,  8.53s/it, v_num=ow_1, total_loss_train=1.45e+3, kl_local_train=37.7]"
     ]
    },
    {
     "name": "stdout",
     "output_type": "stream",
     "text": [
      "\r",
      "Epoch 685/1000:  68%|██████▊   | 685/1000 [1:37:18<44:44,  8.52s/it, v_num=ow_1, total_loss_train=1.45e+3, kl_local_train=37.7]"
     ]
    },
    {
     "name": "stdout",
     "output_type": "stream",
     "text": [
      "\r",
      "Epoch 685/1000:  68%|██████▊   | 685/1000 [1:37:18<44:44,  8.52s/it, v_num=ow_1, total_loss_train=1.45e+3, kl_local_train=37.5]"
     ]
    },
    {
     "name": "stdout",
     "output_type": "stream",
     "text": [
      "\r",
      "Epoch 686/1000:  68%|██████▊   | 685/1000 [1:37:18<44:44,  8.52s/it, v_num=ow_1, total_loss_train=1.45e+3, kl_local_train=37.5]"
     ]
    },
    {
     "name": "stdout",
     "output_type": "stream",
     "text": [
      "\r",
      "Epoch 686/1000:  69%|██████▊   | 686/1000 [1:37:26<43:32,  8.32s/it, v_num=ow_1, total_loss_train=1.45e+3, kl_local_train=37.5]"
     ]
    },
    {
     "name": "stdout",
     "output_type": "stream",
     "text": [
      "\r",
      "Epoch 686/1000:  69%|██████▊   | 686/1000 [1:37:26<43:32,  8.32s/it, v_num=ow_1, total_loss_train=1.45e+3, kl_local_train=37.7]"
     ]
    },
    {
     "name": "stdout",
     "output_type": "stream",
     "text": [
      "\r",
      "Epoch 687/1000:  69%|██████▊   | 686/1000 [1:37:26<43:32,  8.32s/it, v_num=ow_1, total_loss_train=1.45e+3, kl_local_train=37.7]"
     ]
    },
    {
     "name": "stdout",
     "output_type": "stream",
     "text": [
      "\r",
      "Epoch 687/1000:  69%|██████▊   | 687/1000 [1:37:33<42:19,  8.11s/it, v_num=ow_1, total_loss_train=1.45e+3, kl_local_train=37.7]"
     ]
    },
    {
     "name": "stdout",
     "output_type": "stream",
     "text": [
      "\r",
      "Epoch 687/1000:  69%|██████▊   | 687/1000 [1:37:33<42:19,  8.11s/it, v_num=ow_1, total_loss_train=1.45e+3, kl_local_train=37.7]"
     ]
    },
    {
     "name": "stdout",
     "output_type": "stream",
     "text": [
      "\r",
      "Epoch 688/1000:  69%|██████▊   | 687/1000 [1:37:33<42:19,  8.11s/it, v_num=ow_1, total_loss_train=1.45e+3, kl_local_train=37.7]"
     ]
    },
    {
     "name": "stdout",
     "output_type": "stream",
     "text": [
      "\r",
      "Epoch 688/1000:  69%|██████▉   | 688/1000 [1:37:41<41:07,  7.91s/it, v_num=ow_1, total_loss_train=1.45e+3, kl_local_train=37.7]"
     ]
    },
    {
     "name": "stdout",
     "output_type": "stream",
     "text": [
      "\r",
      "Epoch 688/1000:  69%|██████▉   | 688/1000 [1:37:41<41:07,  7.91s/it, v_num=ow_1, total_loss_train=1.45e+3, kl_local_train=37.7]"
     ]
    },
    {
     "name": "stdout",
     "output_type": "stream",
     "text": [
      "\r",
      "Epoch 689/1000:  69%|██████▉   | 688/1000 [1:37:41<41:07,  7.91s/it, v_num=ow_1, total_loss_train=1.45e+3, kl_local_train=37.7]"
     ]
    },
    {
     "name": "stdout",
     "output_type": "stream",
     "text": [
      "\r",
      "Epoch 689/1000:  69%|██████▉   | 689/1000 [1:37:48<40:33,  7.83s/it, v_num=ow_1, total_loss_train=1.45e+3, kl_local_train=37.7]"
     ]
    },
    {
     "name": "stdout",
     "output_type": "stream",
     "text": [
      "\r",
      "Epoch 689/1000:  69%|██████▉   | 689/1000 [1:37:48<40:33,  7.83s/it, v_num=ow_1, total_loss_train=1.45e+3, kl_local_train=37.7]"
     ]
    },
    {
     "name": "stdout",
     "output_type": "stream",
     "text": [
      "\r",
      "Epoch 690/1000:  69%|██████▉   | 689/1000 [1:37:48<40:33,  7.83s/it, v_num=ow_1, total_loss_train=1.45e+3, kl_local_train=37.7]"
     ]
    },
    {
     "name": "stdout",
     "output_type": "stream",
     "text": [
      "\r",
      "Epoch 690/1000:  69%|██████▉   | 690/1000 [1:37:58<43:16,  8.38s/it, v_num=ow_1, total_loss_train=1.45e+3, kl_local_train=37.7]"
     ]
    },
    {
     "name": "stdout",
     "output_type": "stream",
     "text": [
      "\r",
      "Epoch 690/1000:  69%|██████▉   | 690/1000 [1:37:58<43:16,  8.38s/it, v_num=ow_1, total_loss_train=1.45e+3, kl_local_train=37.7]"
     ]
    },
    {
     "name": "stdout",
     "output_type": "stream",
     "text": [
      "\r",
      "Epoch 691/1000:  69%|██████▉   | 690/1000 [1:37:58<43:16,  8.38s/it, v_num=ow_1, total_loss_train=1.45e+3, kl_local_train=37.7]"
     ]
    },
    {
     "name": "stdout",
     "output_type": "stream",
     "text": [
      "\r",
      "Epoch 691/1000:  69%|██████▉   | 691/1000 [1:38:06<42:55,  8.33s/it, v_num=ow_1, total_loss_train=1.45e+3, kl_local_train=37.7]"
     ]
    },
    {
     "name": "stdout",
     "output_type": "stream",
     "text": [
      "\r",
      "Epoch 691/1000:  69%|██████▉   | 691/1000 [1:38:06<42:55,  8.33s/it, v_num=ow_1, total_loss_train=1.45e+3, kl_local_train=37.7]"
     ]
    },
    {
     "name": "stdout",
     "output_type": "stream",
     "text": [
      "\r",
      "Epoch 692/1000:  69%|██████▉   | 691/1000 [1:38:06<42:55,  8.33s/it, v_num=ow_1, total_loss_train=1.45e+3, kl_local_train=37.7]"
     ]
    },
    {
     "name": "stdout",
     "output_type": "stream",
     "text": [
      "\r",
      "Epoch 692/1000:  69%|██████▉   | 692/1000 [1:38:14<42:08,  8.21s/it, v_num=ow_1, total_loss_train=1.45e+3, kl_local_train=37.7]"
     ]
    },
    {
     "name": "stdout",
     "output_type": "stream",
     "text": [
      "\r",
      "Epoch 692/1000:  69%|██████▉   | 692/1000 [1:38:14<42:08,  8.21s/it, v_num=ow_1, total_loss_train=1.45e+3, kl_local_train=37.7]"
     ]
    },
    {
     "name": "stdout",
     "output_type": "stream",
     "text": [
      "\r",
      "Epoch 693/1000:  69%|██████▉   | 692/1000 [1:38:14<42:08,  8.21s/it, v_num=ow_1, total_loss_train=1.45e+3, kl_local_train=37.7]"
     ]
    },
    {
     "name": "stdout",
     "output_type": "stream",
     "text": [
      "\r",
      "Epoch 693/1000:  69%|██████▉   | 693/1000 [1:38:22<40:55,  8.00s/it, v_num=ow_1, total_loss_train=1.45e+3, kl_local_train=37.7]"
     ]
    },
    {
     "name": "stdout",
     "output_type": "stream",
     "text": [
      "\r",
      "Epoch 693/1000:  69%|██████▉   | 693/1000 [1:38:22<40:55,  8.00s/it, v_num=ow_1, total_loss_train=1.45e+3, kl_local_train=37.6]"
     ]
    },
    {
     "name": "stdout",
     "output_type": "stream",
     "text": [
      "\r",
      "Epoch 694/1000:  69%|██████▉   | 693/1000 [1:38:22<40:55,  8.00s/it, v_num=ow_1, total_loss_train=1.45e+3, kl_local_train=37.6]"
     ]
    },
    {
     "name": "stdout",
     "output_type": "stream",
     "text": [
      "\r",
      "Epoch 694/1000:  69%|██████▉   | 694/1000 [1:38:30<40:58,  8.03s/it, v_num=ow_1, total_loss_train=1.45e+3, kl_local_train=37.6]"
     ]
    },
    {
     "name": "stdout",
     "output_type": "stream",
     "text": [
      "\r",
      "Epoch 694/1000:  69%|██████▉   | 694/1000 [1:38:30<40:58,  8.03s/it, v_num=ow_1, total_loss_train=1.45e+3, kl_local_train=37.7]"
     ]
    },
    {
     "name": "stdout",
     "output_type": "stream",
     "text": [
      "\r",
      "Epoch 695/1000:  69%|██████▉   | 694/1000 [1:38:30<40:58,  8.03s/it, v_num=ow_1, total_loss_train=1.45e+3, kl_local_train=37.7]"
     ]
    },
    {
     "name": "stdout",
     "output_type": "stream",
     "text": [
      "\r",
      "Epoch 695/1000:  70%|██████▉   | 695/1000 [1:38:39<42:41,  8.40s/it, v_num=ow_1, total_loss_train=1.45e+3, kl_local_train=37.7]"
     ]
    },
    {
     "name": "stdout",
     "output_type": "stream",
     "text": [
      "\r",
      "Epoch 695/1000:  70%|██████▉   | 695/1000 [1:38:39<42:41,  8.40s/it, v_num=ow_1, total_loss_train=1.45e+3, kl_local_train=37.6]"
     ]
    },
    {
     "name": "stdout",
     "output_type": "stream",
     "text": [
      "\r",
      "Epoch 696/1000:  70%|██████▉   | 695/1000 [1:38:39<42:41,  8.40s/it, v_num=ow_1, total_loss_train=1.45e+3, kl_local_train=37.6]"
     ]
    },
    {
     "name": "stdout",
     "output_type": "stream",
     "text": [
      "\r",
      "Epoch 696/1000:  70%|██████▉   | 696/1000 [1:38:47<42:19,  8.35s/it, v_num=ow_1, total_loss_train=1.45e+3, kl_local_train=37.6]"
     ]
    },
    {
     "name": "stdout",
     "output_type": "stream",
     "text": [
      "\r",
      "Epoch 696/1000:  70%|██████▉   | 696/1000 [1:38:47<42:19,  8.35s/it, v_num=ow_1, total_loss_train=1.45e+3, kl_local_train=37.7]"
     ]
    },
    {
     "name": "stdout",
     "output_type": "stream",
     "text": [
      "\r",
      "Epoch 697/1000:  70%|██████▉   | 696/1000 [1:38:47<42:19,  8.35s/it, v_num=ow_1, total_loss_train=1.45e+3, kl_local_train=37.7]"
     ]
    },
    {
     "name": "stdout",
     "output_type": "stream",
     "text": [
      "\r",
      "Epoch 697/1000:  70%|██████▉   | 697/1000 [1:38:55<41:44,  8.26s/it, v_num=ow_1, total_loss_train=1.45e+3, kl_local_train=37.7]"
     ]
    },
    {
     "name": "stdout",
     "output_type": "stream",
     "text": [
      "\r",
      "Epoch 697/1000:  70%|██████▉   | 697/1000 [1:38:55<41:44,  8.26s/it, v_num=ow_1, total_loss_train=1.45e+3, kl_local_train=37.7]"
     ]
    },
    {
     "name": "stdout",
     "output_type": "stream",
     "text": [
      "\r",
      "Epoch 698/1000:  70%|██████▉   | 697/1000 [1:38:55<41:44,  8.26s/it, v_num=ow_1, total_loss_train=1.45e+3, kl_local_train=37.7]"
     ]
    },
    {
     "name": "stdout",
     "output_type": "stream",
     "text": [
      "\r",
      "Epoch 698/1000:  70%|██████▉   | 698/1000 [1:39:04<41:56,  8.33s/it, v_num=ow_1, total_loss_train=1.45e+3, kl_local_train=37.7]"
     ]
    },
    {
     "name": "stdout",
     "output_type": "stream",
     "text": [
      "\r",
      "Epoch 698/1000:  70%|██████▉   | 698/1000 [1:39:04<41:56,  8.33s/it, v_num=ow_1, total_loss_train=1.45e+3, kl_local_train=37.6]"
     ]
    },
    {
     "name": "stdout",
     "output_type": "stream",
     "text": [
      "\r",
      "Epoch 699/1000:  70%|██████▉   | 698/1000 [1:39:04<41:56,  8.33s/it, v_num=ow_1, total_loss_train=1.45e+3, kl_local_train=37.6]"
     ]
    },
    {
     "name": "stdout",
     "output_type": "stream",
     "text": [
      "\r",
      "Epoch 699/1000:  70%|██████▉   | 699/1000 [1:39:12<41:21,  8.25s/it, v_num=ow_1, total_loss_train=1.45e+3, kl_local_train=37.6]"
     ]
    },
    {
     "name": "stdout",
     "output_type": "stream",
     "text": [
      "\r",
      "Epoch 699/1000:  70%|██████▉   | 699/1000 [1:39:12<41:21,  8.25s/it, v_num=ow_1, total_loss_train=1.45e+3, kl_local_train=37.6]"
     ]
    },
    {
     "name": "stdout",
     "output_type": "stream",
     "text": [
      "\r",
      "Epoch 700/1000:  70%|██████▉   | 699/1000 [1:39:12<41:21,  8.25s/it, v_num=ow_1, total_loss_train=1.45e+3, kl_local_train=37.6]"
     ]
    },
    {
     "name": "stdout",
     "output_type": "stream",
     "text": [
      "\r",
      "Epoch 700/1000:  70%|███████   | 700/1000 [1:39:21<42:01,  8.40s/it, v_num=ow_1, total_loss_train=1.45e+3, kl_local_train=37.6]"
     ]
    },
    {
     "name": "stdout",
     "output_type": "stream",
     "text": [
      "\r",
      "Epoch 700/1000:  70%|███████   | 700/1000 [1:39:21<42:01,  8.40s/it, v_num=ow_1, total_loss_train=1.45e+3, kl_local_train=37.6]"
     ]
    },
    {
     "name": "stdout",
     "output_type": "stream",
     "text": [
      "\r",
      "Epoch 701/1000:  70%|███████   | 700/1000 [1:39:21<42:01,  8.40s/it, v_num=ow_1, total_loss_train=1.45e+3, kl_local_train=37.6]"
     ]
    },
    {
     "name": "stdout",
     "output_type": "stream",
     "text": [
      "\r",
      "Epoch 701/1000:  70%|███████   | 701/1000 [1:39:29<42:13,  8.47s/it, v_num=ow_1, total_loss_train=1.45e+3, kl_local_train=37.6]"
     ]
    },
    {
     "name": "stdout",
     "output_type": "stream",
     "text": [
      "\r",
      "Epoch 701/1000:  70%|███████   | 701/1000 [1:39:29<42:13,  8.47s/it, v_num=ow_1, total_loss_train=1.45e+3, kl_local_train=37.7]"
     ]
    },
    {
     "name": "stdout",
     "output_type": "stream",
     "text": [
      "\r",
      "Epoch 702/1000:  70%|███████   | 701/1000 [1:39:29<42:13,  8.47s/it, v_num=ow_1, total_loss_train=1.45e+3, kl_local_train=37.7]"
     ]
    },
    {
     "name": "stdout",
     "output_type": "stream",
     "text": [
      "\r",
      "Epoch 702/1000:  70%|███████   | 702/1000 [1:39:38<42:23,  8.53s/it, v_num=ow_1, total_loss_train=1.45e+3, kl_local_train=37.7]"
     ]
    },
    {
     "name": "stdout",
     "output_type": "stream",
     "text": [
      "\r",
      "Epoch 702/1000:  70%|███████   | 702/1000 [1:39:38<42:23,  8.53s/it, v_num=ow_1, total_loss_train=1.45e+3, kl_local_train=37.5]"
     ]
    },
    {
     "name": "stdout",
     "output_type": "stream",
     "text": [
      "\r",
      "Epoch 703/1000:  70%|███████   | 702/1000 [1:39:38<42:23,  8.53s/it, v_num=ow_1, total_loss_train=1.45e+3, kl_local_train=37.5]"
     ]
    },
    {
     "name": "stdout",
     "output_type": "stream",
     "text": [
      "\r",
      "Epoch 703/1000:  70%|███████   | 703/1000 [1:39:46<41:38,  8.41s/it, v_num=ow_1, total_loss_train=1.45e+3, kl_local_train=37.5]"
     ]
    },
    {
     "name": "stdout",
     "output_type": "stream",
     "text": [
      "\r",
      "Epoch 703/1000:  70%|███████   | 703/1000 [1:39:46<41:38,  8.41s/it, v_num=ow_1, total_loss_train=1.45e+3, kl_local_train=37.6]"
     ]
    },
    {
     "name": "stdout",
     "output_type": "stream",
     "text": [
      "\r",
      "Epoch 704/1000:  70%|███████   | 703/1000 [1:39:46<41:38,  8.41s/it, v_num=ow_1, total_loss_train=1.45e+3, kl_local_train=37.6]"
     ]
    },
    {
     "name": "stdout",
     "output_type": "stream",
     "text": [
      "\r",
      "Epoch 704/1000:  70%|███████   | 704/1000 [1:39:55<42:14,  8.56s/it, v_num=ow_1, total_loss_train=1.45e+3, kl_local_train=37.6]"
     ]
    },
    {
     "name": "stdout",
     "output_type": "stream",
     "text": [
      "\r",
      "Epoch 704/1000:  70%|███████   | 704/1000 [1:39:55<42:14,  8.56s/it, v_num=ow_1, total_loss_train=1.45e+3, kl_local_train=37.6]"
     ]
    },
    {
     "name": "stdout",
     "output_type": "stream",
     "text": [
      "\r",
      "Epoch 705/1000:  70%|███████   | 704/1000 [1:39:55<42:14,  8.56s/it, v_num=ow_1, total_loss_train=1.45e+3, kl_local_train=37.6]"
     ]
    },
    {
     "name": "stdout",
     "output_type": "stream",
     "text": [
      "\r",
      "Epoch 705/1000:  70%|███████   | 705/1000 [1:40:03<41:08,  8.37s/it, v_num=ow_1, total_loss_train=1.45e+3, kl_local_train=37.6]"
     ]
    },
    {
     "name": "stdout",
     "output_type": "stream",
     "text": [
      "\r",
      "Epoch 705/1000:  70%|███████   | 705/1000 [1:40:03<41:08,  8.37s/it, v_num=ow_1, total_loss_train=1.45e+3, kl_local_train=37.7]"
     ]
    },
    {
     "name": "stdout",
     "output_type": "stream",
     "text": [
      "\r",
      "Epoch 706/1000:  70%|███████   | 705/1000 [1:40:03<41:08,  8.37s/it, v_num=ow_1, total_loss_train=1.45e+3, kl_local_train=37.7]"
     ]
    },
    {
     "name": "stdout",
     "output_type": "stream",
     "text": [
      "\r",
      "Epoch 706/1000:  71%|███████   | 706/1000 [1:40:11<41:22,  8.44s/it, v_num=ow_1, total_loss_train=1.45e+3, kl_local_train=37.7]"
     ]
    },
    {
     "name": "stdout",
     "output_type": "stream",
     "text": [
      "\r",
      "Epoch 706/1000:  71%|███████   | 706/1000 [1:40:11<41:22,  8.44s/it, v_num=ow_1, total_loss_train=1.45e+3, kl_local_train=37.7]"
     ]
    },
    {
     "name": "stdout",
     "output_type": "stream",
     "text": [
      "\r",
      "Epoch 707/1000:  71%|███████   | 706/1000 [1:40:11<41:22,  8.44s/it, v_num=ow_1, total_loss_train=1.45e+3, kl_local_train=37.7]"
     ]
    },
    {
     "name": "stdout",
     "output_type": "stream",
     "text": [
      "\r",
      "Epoch 707/1000:  71%|███████   | 707/1000 [1:40:19<40:34,  8.31s/it, v_num=ow_1, total_loss_train=1.45e+3, kl_local_train=37.7]"
     ]
    },
    {
     "name": "stdout",
     "output_type": "stream",
     "text": [
      "\r",
      "Epoch 707/1000:  71%|███████   | 707/1000 [1:40:19<40:34,  8.31s/it, v_num=ow_1, total_loss_train=1.45e+3, kl_local_train=37.7]"
     ]
    },
    {
     "name": "stdout",
     "output_type": "stream",
     "text": [
      "\r",
      "Epoch 708/1000:  71%|███████   | 707/1000 [1:40:19<40:34,  8.31s/it, v_num=ow_1, total_loss_train=1.45e+3, kl_local_train=37.7]"
     ]
    },
    {
     "name": "stdout",
     "output_type": "stream",
     "text": [
      "\r",
      "Epoch 708/1000:  71%|███████   | 708/1000 [1:40:29<42:11,  8.67s/it, v_num=ow_1, total_loss_train=1.45e+3, kl_local_train=37.7]"
     ]
    },
    {
     "name": "stdout",
     "output_type": "stream",
     "text": [
      "\r",
      "Epoch 708/1000:  71%|███████   | 708/1000 [1:40:29<42:11,  8.67s/it, v_num=ow_1, total_loss_train=1.45e+3, kl_local_train=37.7]"
     ]
    },
    {
     "name": "stdout",
     "output_type": "stream",
     "text": [
      "\r",
      "Epoch 709/1000:  71%|███████   | 708/1000 [1:40:29<42:11,  8.67s/it, v_num=ow_1, total_loss_train=1.45e+3, kl_local_train=37.7]"
     ]
    },
    {
     "name": "stdout",
     "output_type": "stream",
     "text": [
      "\r",
      "Epoch 709/1000:  71%|███████   | 709/1000 [1:40:37<41:50,  8.63s/it, v_num=ow_1, total_loss_train=1.45e+3, kl_local_train=37.7]"
     ]
    },
    {
     "name": "stdout",
     "output_type": "stream",
     "text": [
      "\r",
      "Epoch 709/1000:  71%|███████   | 709/1000 [1:40:37<41:50,  8.63s/it, v_num=ow_1, total_loss_train=1.45e+3, kl_local_train=37.8]"
     ]
    },
    {
     "name": "stdout",
     "output_type": "stream",
     "text": [
      "\r",
      "Epoch 710/1000:  71%|███████   | 709/1000 [1:40:37<41:50,  8.63s/it, v_num=ow_1, total_loss_train=1.45e+3, kl_local_train=37.8]"
     ]
    },
    {
     "name": "stdout",
     "output_type": "stream",
     "text": [
      "\r",
      "Epoch 710/1000:  71%|███████   | 710/1000 [1:40:46<41:40,  8.62s/it, v_num=ow_1, total_loss_train=1.45e+3, kl_local_train=37.8]"
     ]
    },
    {
     "name": "stdout",
     "output_type": "stream",
     "text": [
      "\r",
      "Epoch 710/1000:  71%|███████   | 710/1000 [1:40:46<41:40,  8.62s/it, v_num=ow_1, total_loss_train=1.45e+3, kl_local_train=37.7]"
     ]
    },
    {
     "name": "stdout",
     "output_type": "stream",
     "text": [
      "\r",
      "Epoch 711/1000:  71%|███████   | 710/1000 [1:40:46<41:40,  8.62s/it, v_num=ow_1, total_loss_train=1.45e+3, kl_local_train=37.7]"
     ]
    },
    {
     "name": "stdout",
     "output_type": "stream",
     "text": [
      "\r",
      "Epoch 711/1000:  71%|███████   | 711/1000 [1:40:55<42:37,  8.85s/it, v_num=ow_1, total_loss_train=1.45e+3, kl_local_train=37.7]"
     ]
    },
    {
     "name": "stdout",
     "output_type": "stream",
     "text": [
      "\r",
      "Epoch 711/1000:  71%|███████   | 711/1000 [1:40:55<42:37,  8.85s/it, v_num=ow_1, total_loss_train=1.45e+3, kl_local_train=37.7]"
     ]
    },
    {
     "name": "stdout",
     "output_type": "stream",
     "text": [
      "\r",
      "Epoch 712/1000:  71%|███████   | 711/1000 [1:40:55<42:37,  8.85s/it, v_num=ow_1, total_loss_train=1.45e+3, kl_local_train=37.7]"
     ]
    },
    {
     "name": "stdout",
     "output_type": "stream",
     "text": [
      "\r",
      "Epoch 712/1000:  71%|███████   | 712/1000 [1:41:04<41:53,  8.73s/it, v_num=ow_1, total_loss_train=1.45e+3, kl_local_train=37.7]"
     ]
    },
    {
     "name": "stdout",
     "output_type": "stream",
     "text": [
      "\r",
      "Epoch 712/1000:  71%|███████   | 712/1000 [1:41:04<41:53,  8.73s/it, v_num=ow_1, total_loss_train=1.45e+3, kl_local_train=37.7]"
     ]
    },
    {
     "name": "stdout",
     "output_type": "stream",
     "text": [
      "\r",
      "Epoch 713/1000:  71%|███████   | 712/1000 [1:41:04<41:53,  8.73s/it, v_num=ow_1, total_loss_train=1.45e+3, kl_local_train=37.7]"
     ]
    },
    {
     "name": "stdout",
     "output_type": "stream",
     "text": [
      "\r",
      "Epoch 713/1000:  71%|███████▏  | 713/1000 [1:41:12<41:26,  8.66s/it, v_num=ow_1, total_loss_train=1.45e+3, kl_local_train=37.7]"
     ]
    },
    {
     "name": "stdout",
     "output_type": "stream",
     "text": [
      "\r",
      "Epoch 713/1000:  71%|███████▏  | 713/1000 [1:41:12<41:26,  8.66s/it, v_num=ow_1, total_loss_train=1.45e+3, kl_local_train=37.6]"
     ]
    },
    {
     "name": "stdout",
     "output_type": "stream",
     "text": [
      "\r",
      "Epoch 714/1000:  71%|███████▏  | 713/1000 [1:41:12<41:26,  8.66s/it, v_num=ow_1, total_loss_train=1.45e+3, kl_local_train=37.6]"
     ]
    },
    {
     "name": "stdout",
     "output_type": "stream",
     "text": [
      "\r",
      "Epoch 714/1000:  71%|███████▏  | 714/1000 [1:41:21<41:14,  8.65s/it, v_num=ow_1, total_loss_train=1.45e+3, kl_local_train=37.6]"
     ]
    },
    {
     "name": "stdout",
     "output_type": "stream",
     "text": [
      "\r",
      "Epoch 714/1000:  71%|███████▏  | 714/1000 [1:41:21<41:14,  8.65s/it, v_num=ow_1, total_loss_train=1.45e+3, kl_local_train=37.7]"
     ]
    },
    {
     "name": "stdout",
     "output_type": "stream",
     "text": [
      "\r",
      "Epoch 715/1000:  71%|███████▏  | 714/1000 [1:41:21<41:14,  8.65s/it, v_num=ow_1, total_loss_train=1.45e+3, kl_local_train=37.7]"
     ]
    },
    {
     "name": "stdout",
     "output_type": "stream",
     "text": [
      "\r",
      "Epoch 715/1000:  72%|███████▏  | 715/1000 [1:41:29<40:38,  8.56s/it, v_num=ow_1, total_loss_train=1.45e+3, kl_local_train=37.7]"
     ]
    },
    {
     "name": "stdout",
     "output_type": "stream",
     "text": [
      "\r",
      "Epoch 715/1000:  72%|███████▏  | 715/1000 [1:41:29<40:38,  8.56s/it, v_num=ow_1, total_loss_train=1.45e+3, kl_local_train=37.7]"
     ]
    },
    {
     "name": "stdout",
     "output_type": "stream",
     "text": [
      "\r",
      "Epoch 716/1000:  72%|███████▏  | 715/1000 [1:41:29<40:38,  8.56s/it, v_num=ow_1, total_loss_train=1.45e+3, kl_local_train=37.7]"
     ]
    },
    {
     "name": "stdout",
     "output_type": "stream",
     "text": [
      "\r",
      "Epoch 716/1000:  72%|███████▏  | 716/1000 [1:41:38<40:11,  8.49s/it, v_num=ow_1, total_loss_train=1.45e+3, kl_local_train=37.7]"
     ]
    },
    {
     "name": "stdout",
     "output_type": "stream",
     "text": [
      "\r",
      "Epoch 716/1000:  72%|███████▏  | 716/1000 [1:41:38<40:11,  8.49s/it, v_num=ow_1, total_loss_train=1.45e+3, kl_local_train=37.8]"
     ]
    },
    {
     "name": "stdout",
     "output_type": "stream",
     "text": [
      "\r",
      "Epoch 717/1000:  72%|███████▏  | 716/1000 [1:41:38<40:11,  8.49s/it, v_num=ow_1, total_loss_train=1.45e+3, kl_local_train=37.8]"
     ]
    },
    {
     "name": "stdout",
     "output_type": "stream",
     "text": [
      "\r",
      "Epoch 717/1000:  72%|███████▏  | 717/1000 [1:41:46<39:33,  8.39s/it, v_num=ow_1, total_loss_train=1.45e+3, kl_local_train=37.8]"
     ]
    },
    {
     "name": "stdout",
     "output_type": "stream",
     "text": [
      "\r",
      "Epoch 717/1000:  72%|███████▏  | 717/1000 [1:41:46<39:33,  8.39s/it, v_num=ow_1, total_loss_train=1.45e+3, kl_local_train=37.8]"
     ]
    },
    {
     "name": "stdout",
     "output_type": "stream",
     "text": [
      "\r",
      "Epoch 718/1000:  72%|███████▏  | 717/1000 [1:41:46<39:33,  8.39s/it, v_num=ow_1, total_loss_train=1.45e+3, kl_local_train=37.8]"
     ]
    },
    {
     "name": "stdout",
     "output_type": "stream",
     "text": [
      "\r",
      "Epoch 718/1000:  72%|███████▏  | 718/1000 [1:41:54<39:04,  8.31s/it, v_num=ow_1, total_loss_train=1.45e+3, kl_local_train=37.8]"
     ]
    },
    {
     "name": "stdout",
     "output_type": "stream",
     "text": [
      "\r",
      "Epoch 718/1000:  72%|███████▏  | 718/1000 [1:41:54<39:04,  8.31s/it, v_num=ow_1, total_loss_train=1.45e+3, kl_local_train=37.7]"
     ]
    },
    {
     "name": "stdout",
     "output_type": "stream",
     "text": [
      "\r",
      "Epoch 719/1000:  72%|███████▏  | 718/1000 [1:41:54<39:04,  8.31s/it, v_num=ow_1, total_loss_train=1.45e+3, kl_local_train=37.7]"
     ]
    },
    {
     "name": "stdout",
     "output_type": "stream",
     "text": [
      "\r",
      "Epoch 719/1000:  72%|███████▏  | 719/1000 [1:42:02<38:39,  8.25s/it, v_num=ow_1, total_loss_train=1.45e+3, kl_local_train=37.7]"
     ]
    },
    {
     "name": "stdout",
     "output_type": "stream",
     "text": [
      "\r",
      "Epoch 719/1000:  72%|███████▏  | 719/1000 [1:42:02<38:39,  8.25s/it, v_num=ow_1, total_loss_train=1.45e+3, kl_local_train=37.7]"
     ]
    },
    {
     "name": "stdout",
     "output_type": "stream",
     "text": [
      "\r",
      "Epoch 720/1000:  72%|███████▏  | 719/1000 [1:42:02<38:39,  8.25s/it, v_num=ow_1, total_loss_train=1.45e+3, kl_local_train=37.7]"
     ]
    },
    {
     "name": "stdout",
     "output_type": "stream",
     "text": [
      "\r",
      "Epoch 720/1000:  72%|███████▏  | 720/1000 [1:42:10<38:19,  8.21s/it, v_num=ow_1, total_loss_train=1.45e+3, kl_local_train=37.7]"
     ]
    },
    {
     "name": "stdout",
     "output_type": "stream",
     "text": [
      "\r",
      "Epoch 720/1000:  72%|███████▏  | 720/1000 [1:42:10<38:19,  8.21s/it, v_num=ow_1, total_loss_train=1.45e+3, kl_local_train=37.7]"
     ]
    },
    {
     "name": "stdout",
     "output_type": "stream",
     "text": [
      "\r",
      "Epoch 721/1000:  72%|███████▏  | 720/1000 [1:42:10<38:19,  8.21s/it, v_num=ow_1, total_loss_train=1.45e+3, kl_local_train=37.7]"
     ]
    },
    {
     "name": "stdout",
     "output_type": "stream",
     "text": [
      "\r",
      "Epoch 721/1000:  72%|███████▏  | 721/1000 [1:42:18<38:05,  8.19s/it, v_num=ow_1, total_loss_train=1.45e+3, kl_local_train=37.7]"
     ]
    },
    {
     "name": "stdout",
     "output_type": "stream",
     "text": [
      "\r",
      "Epoch 721/1000:  72%|███████▏  | 721/1000 [1:42:18<38:05,  8.19s/it, v_num=ow_1, total_loss_train=1.45e+3, kl_local_train=37.8]"
     ]
    },
    {
     "name": "stdout",
     "output_type": "stream",
     "text": [
      "\r",
      "Epoch 722/1000:  72%|███████▏  | 721/1000 [1:42:18<38:05,  8.19s/it, v_num=ow_1, total_loss_train=1.45e+3, kl_local_train=37.8]"
     ]
    },
    {
     "name": "stdout",
     "output_type": "stream",
     "text": [
      "\r",
      "Epoch 722/1000:  72%|███████▏  | 722/1000 [1:42:27<37:59,  8.20s/it, v_num=ow_1, total_loss_train=1.45e+3, kl_local_train=37.8]"
     ]
    },
    {
     "name": "stdout",
     "output_type": "stream",
     "text": [
      "\r",
      "Epoch 722/1000:  72%|███████▏  | 722/1000 [1:42:27<37:59,  8.20s/it, v_num=ow_1, total_loss_train=1.45e+3, kl_local_train=37.7]"
     ]
    },
    {
     "name": "stdout",
     "output_type": "stream",
     "text": [
      "\r",
      "Epoch 723/1000:  72%|███████▏  | 722/1000 [1:42:27<37:59,  8.20s/it, v_num=ow_1, total_loss_train=1.45e+3, kl_local_train=37.7]"
     ]
    },
    {
     "name": "stdout",
     "output_type": "stream",
     "text": [
      "\r",
      "Epoch 723/1000:  72%|███████▏  | 723/1000 [1:42:34<36:38,  7.94s/it, v_num=ow_1, total_loss_train=1.45e+3, kl_local_train=37.7]"
     ]
    },
    {
     "name": "stdout",
     "output_type": "stream",
     "text": [
      "\r",
      "Epoch 723/1000:  72%|███████▏  | 723/1000 [1:42:34<36:38,  7.94s/it, v_num=ow_1, total_loss_train=1.45e+3, kl_local_train=37.9]"
     ]
    },
    {
     "name": "stdout",
     "output_type": "stream",
     "text": [
      "\r",
      "Epoch 724/1000:  72%|███████▏  | 723/1000 [1:42:34<36:38,  7.94s/it, v_num=ow_1, total_loss_train=1.45e+3, kl_local_train=37.9]"
     ]
    },
    {
     "name": "stdout",
     "output_type": "stream",
     "text": [
      "\r",
      "Epoch 724/1000:  72%|███████▏  | 724/1000 [1:42:43<37:38,  8.18s/it, v_num=ow_1, total_loss_train=1.45e+3, kl_local_train=37.9]"
     ]
    },
    {
     "name": "stdout",
     "output_type": "stream",
     "text": [
      "\r",
      "Epoch 724/1000:  72%|███████▏  | 724/1000 [1:42:43<37:38,  8.18s/it, v_num=ow_1, total_loss_train=1.45e+3, kl_local_train=37.8]"
     ]
    },
    {
     "name": "stdout",
     "output_type": "stream",
     "text": [
      "\r",
      "Epoch 725/1000:  72%|███████▏  | 724/1000 [1:42:43<37:38,  8.18s/it, v_num=ow_1, total_loss_train=1.45e+3, kl_local_train=37.8]"
     ]
    },
    {
     "name": "stdout",
     "output_type": "stream",
     "text": [
      "\r",
      "Epoch 725/1000:  72%|███████▎  | 725/1000 [1:42:51<37:27,  8.17s/it, v_num=ow_1, total_loss_train=1.45e+3, kl_local_train=37.8]"
     ]
    },
    {
     "name": "stdout",
     "output_type": "stream",
     "text": [
      "\r",
      "Epoch 725/1000:  72%|███████▎  | 725/1000 [1:42:51<37:27,  8.17s/it, v_num=ow_1, total_loss_train=1.45e+3, kl_local_train=37.7]"
     ]
    },
    {
     "name": "stdout",
     "output_type": "stream",
     "text": [
      "\r",
      "Epoch 726/1000:  72%|███████▎  | 725/1000 [1:42:51<37:27,  8.17s/it, v_num=ow_1, total_loss_train=1.45e+3, kl_local_train=37.7]"
     ]
    },
    {
     "name": "stdout",
     "output_type": "stream",
     "text": [
      "\r",
      "Epoch 726/1000:  73%|███████▎  | 726/1000 [1:42:59<37:37,  8.24s/it, v_num=ow_1, total_loss_train=1.45e+3, kl_local_train=37.7]"
     ]
    },
    {
     "name": "stdout",
     "output_type": "stream",
     "text": [
      "\r",
      "Epoch 726/1000:  73%|███████▎  | 726/1000 [1:42:59<37:37,  8.24s/it, v_num=ow_1, total_loss_train=1.45e+3, kl_local_train=37.8]"
     ]
    },
    {
     "name": "stdout",
     "output_type": "stream",
     "text": [
      "\r",
      "Epoch 727/1000:  73%|███████▎  | 726/1000 [1:42:59<37:37,  8.24s/it, v_num=ow_1, total_loss_train=1.45e+3, kl_local_train=37.8]"
     ]
    },
    {
     "name": "stdout",
     "output_type": "stream",
     "text": [
      "\r",
      "Epoch 727/1000:  73%|███████▎  | 727/1000 [1:43:08<38:00,  8.35s/it, v_num=ow_1, total_loss_train=1.45e+3, kl_local_train=37.8]"
     ]
    },
    {
     "name": "stdout",
     "output_type": "stream",
     "text": [
      "\r",
      "Epoch 727/1000:  73%|███████▎  | 727/1000 [1:43:08<38:00,  8.35s/it, v_num=ow_1, total_loss_train=1.45e+3, kl_local_train=37.7]"
     ]
    },
    {
     "name": "stdout",
     "output_type": "stream",
     "text": [
      "\r",
      "Epoch 728/1000:  73%|███████▎  | 727/1000 [1:43:08<38:00,  8.35s/it, v_num=ow_1, total_loss_train=1.45e+3, kl_local_train=37.7]"
     ]
    },
    {
     "name": "stdout",
     "output_type": "stream",
     "text": [
      "\r",
      "Epoch 728/1000:  73%|███████▎  | 728/1000 [1:43:17<38:23,  8.47s/it, v_num=ow_1, total_loss_train=1.45e+3, kl_local_train=37.7]"
     ]
    },
    {
     "name": "stdout",
     "output_type": "stream",
     "text": [
      "\r",
      "Epoch 728/1000:  73%|███████▎  | 728/1000 [1:43:17<38:23,  8.47s/it, v_num=ow_1, total_loss_train=1.45e+3, kl_local_train=37.9]"
     ]
    },
    {
     "name": "stdout",
     "output_type": "stream",
     "text": [
      "\r",
      "Epoch 729/1000:  73%|███████▎  | 728/1000 [1:43:17<38:23,  8.47s/it, v_num=ow_1, total_loss_train=1.45e+3, kl_local_train=37.9]"
     ]
    },
    {
     "name": "stdout",
     "output_type": "stream",
     "text": [
      "\r",
      "Epoch 729/1000:  73%|███████▎  | 729/1000 [1:43:25<38:26,  8.51s/it, v_num=ow_1, total_loss_train=1.45e+3, kl_local_train=37.9]"
     ]
    },
    {
     "name": "stdout",
     "output_type": "stream",
     "text": [
      "\r",
      "Epoch 729/1000:  73%|███████▎  | 729/1000 [1:43:25<38:26,  8.51s/it, v_num=ow_1, total_loss_train=1.45e+3, kl_local_train=37.7]"
     ]
    },
    {
     "name": "stdout",
     "output_type": "stream",
     "text": [
      "\r",
      "Epoch 730/1000:  73%|███████▎  | 729/1000 [1:43:25<38:26,  8.51s/it, v_num=ow_1, total_loss_train=1.45e+3, kl_local_train=37.7]"
     ]
    },
    {
     "name": "stdout",
     "output_type": "stream",
     "text": [
      "\r",
      "Epoch 730/1000:  73%|███████▎  | 730/1000 [1:43:34<38:28,  8.55s/it, v_num=ow_1, total_loss_train=1.45e+3, kl_local_train=37.7]"
     ]
    },
    {
     "name": "stdout",
     "output_type": "stream",
     "text": [
      "\r",
      "Epoch 730/1000:  73%|███████▎  | 730/1000 [1:43:34<38:28,  8.55s/it, v_num=ow_1, total_loss_train=1.45e+3, kl_local_train=37.7]"
     ]
    },
    {
     "name": "stdout",
     "output_type": "stream",
     "text": [
      "\r",
      "Epoch 731/1000:  73%|███████▎  | 730/1000 [1:43:34<38:28,  8.55s/it, v_num=ow_1, total_loss_train=1.45e+3, kl_local_train=37.7]"
     ]
    },
    {
     "name": "stdout",
     "output_type": "stream",
     "text": [
      "\r",
      "Epoch 731/1000:  73%|███████▎  | 731/1000 [1:43:42<38:25,  8.57s/it, v_num=ow_1, total_loss_train=1.45e+3, kl_local_train=37.7]"
     ]
    },
    {
     "name": "stdout",
     "output_type": "stream",
     "text": [
      "\r",
      "Epoch 731/1000:  73%|███████▎  | 731/1000 [1:43:42<38:25,  8.57s/it, v_num=ow_1, total_loss_train=1.45e+3, kl_local_train=37.7]"
     ]
    },
    {
     "name": "stdout",
     "output_type": "stream",
     "text": [
      "\r",
      "Epoch 732/1000:  73%|███████▎  | 731/1000 [1:43:42<38:25,  8.57s/it, v_num=ow_1, total_loss_train=1.45e+3, kl_local_train=37.7]"
     ]
    },
    {
     "name": "stdout",
     "output_type": "stream",
     "text": [
      "\r",
      "Epoch 732/1000:  73%|███████▎  | 732/1000 [1:43:50<37:33,  8.41s/it, v_num=ow_1, total_loss_train=1.45e+3, kl_local_train=37.7]"
     ]
    },
    {
     "name": "stdout",
     "output_type": "stream",
     "text": [
      "\r",
      "Epoch 732/1000:  73%|███████▎  | 732/1000 [1:43:50<37:33,  8.41s/it, v_num=ow_1, total_loss_train=1.45e+3, kl_local_train=37.9]"
     ]
    },
    {
     "name": "stdout",
     "output_type": "stream",
     "text": [
      "\r",
      "Epoch 733/1000:  73%|███████▎  | 732/1000 [1:43:50<37:33,  8.41s/it, v_num=ow_1, total_loss_train=1.45e+3, kl_local_train=37.9]"
     ]
    },
    {
     "name": "stdout",
     "output_type": "stream",
     "text": [
      "\r",
      "Epoch 733/1000:  73%|███████▎  | 733/1000 [1:43:58<36:49,  8.27s/it, v_num=ow_1, total_loss_train=1.45e+3, kl_local_train=37.9]"
     ]
    },
    {
     "name": "stdout",
     "output_type": "stream",
     "text": [
      "\r",
      "Epoch 733/1000:  73%|███████▎  | 733/1000 [1:43:58<36:49,  8.27s/it, v_num=ow_1, total_loss_train=1.45e+3, kl_local_train=37.8]"
     ]
    },
    {
     "name": "stdout",
     "output_type": "stream",
     "text": [
      "\r",
      "Epoch 734/1000:  73%|███████▎  | 733/1000 [1:43:58<36:49,  8.27s/it, v_num=ow_1, total_loss_train=1.45e+3, kl_local_train=37.8]"
     ]
    },
    {
     "name": "stdout",
     "output_type": "stream",
     "text": [
      "\r",
      "Epoch 734/1000:  73%|███████▎  | 734/1000 [1:44:07<36:58,  8.34s/it, v_num=ow_1, total_loss_train=1.45e+3, kl_local_train=37.8]"
     ]
    },
    {
     "name": "stdout",
     "output_type": "stream",
     "text": [
      "\r",
      "Epoch 734/1000:  73%|███████▎  | 734/1000 [1:44:07<36:58,  8.34s/it, v_num=ow_1, total_loss_train=1.45e+3, kl_local_train=37.6]"
     ]
    },
    {
     "name": "stdout",
     "output_type": "stream",
     "text": [
      "\r",
      "Epoch 735/1000:  73%|███████▎  | 734/1000 [1:44:07<36:58,  8.34s/it, v_num=ow_1, total_loss_train=1.45e+3, kl_local_train=37.6]"
     ]
    },
    {
     "name": "stdout",
     "output_type": "stream",
     "text": [
      "\r",
      "Epoch 735/1000:  74%|███████▎  | 735/1000 [1:44:16<37:11,  8.42s/it, v_num=ow_1, total_loss_train=1.45e+3, kl_local_train=37.6]"
     ]
    },
    {
     "name": "stdout",
     "output_type": "stream",
     "text": [
      "\r",
      "Epoch 735/1000:  74%|███████▎  | 735/1000 [1:44:16<37:11,  8.42s/it, v_num=ow_1, total_loss_train=1.45e+3, kl_local_train=37.7]"
     ]
    },
    {
     "name": "stdout",
     "output_type": "stream",
     "text": [
      "\r",
      "Epoch 736/1000:  74%|███████▎  | 735/1000 [1:44:16<37:11,  8.42s/it, v_num=ow_1, total_loss_train=1.45e+3, kl_local_train=37.7]"
     ]
    },
    {
     "name": "stdout",
     "output_type": "stream",
     "text": [
      "\r",
      "Epoch 736/1000:  74%|███████▎  | 736/1000 [1:44:25<38:26,  8.74s/it, v_num=ow_1, total_loss_train=1.45e+3, kl_local_train=37.7]"
     ]
    },
    {
     "name": "stdout",
     "output_type": "stream",
     "text": [
      "\r",
      "Epoch 736/1000:  74%|███████▎  | 736/1000 [1:44:25<38:26,  8.74s/it, v_num=ow_1, total_loss_train=1.45e+3, kl_local_train=37.8]"
     ]
    },
    {
     "name": "stdout",
     "output_type": "stream",
     "text": [
      "\r",
      "Epoch 737/1000:  74%|███████▎  | 736/1000 [1:44:25<38:26,  8.74s/it, v_num=ow_1, total_loss_train=1.45e+3, kl_local_train=37.8]"
     ]
    },
    {
     "name": "stdout",
     "output_type": "stream",
     "text": [
      "\r",
      "Epoch 737/1000:  74%|███████▎  | 737/1000 [1:44:33<37:44,  8.61s/it, v_num=ow_1, total_loss_train=1.45e+3, kl_local_train=37.8]"
     ]
    },
    {
     "name": "stdout",
     "output_type": "stream",
     "text": [
      "\r",
      "Epoch 737/1000:  74%|███████▎  | 737/1000 [1:44:33<37:44,  8.61s/it, v_num=ow_1, total_loss_train=1.45e+3, kl_local_train=37.7]"
     ]
    },
    {
     "name": "stdout",
     "output_type": "stream",
     "text": [
      "\r",
      "Epoch 738/1000:  74%|███████▎  | 737/1000 [1:44:33<37:44,  8.61s/it, v_num=ow_1, total_loss_train=1.45e+3, kl_local_train=37.7]"
     ]
    },
    {
     "name": "stdout",
     "output_type": "stream",
     "text": [
      "\r",
      "Epoch 738/1000:  74%|███████▍  | 738/1000 [1:44:42<37:26,  8.58s/it, v_num=ow_1, total_loss_train=1.45e+3, kl_local_train=37.7]"
     ]
    },
    {
     "name": "stdout",
     "output_type": "stream",
     "text": [
      "\r",
      "Epoch 738/1000:  74%|███████▍  | 738/1000 [1:44:42<37:26,  8.58s/it, v_num=ow_1, total_loss_train=1.45e+3, kl_local_train=37.6]"
     ]
    },
    {
     "name": "stdout",
     "output_type": "stream",
     "text": [
      "\r",
      "Epoch 739/1000:  74%|███████▍  | 738/1000 [1:44:42<37:26,  8.58s/it, v_num=ow_1, total_loss_train=1.45e+3, kl_local_train=37.6]"
     ]
    },
    {
     "name": "stdout",
     "output_type": "stream",
     "text": [
      "\r",
      "Epoch 739/1000:  74%|███████▍  | 739/1000 [1:44:50<37:06,  8.53s/it, v_num=ow_1, total_loss_train=1.45e+3, kl_local_train=37.6]"
     ]
    },
    {
     "name": "stdout",
     "output_type": "stream",
     "text": [
      "\r",
      "Epoch 739/1000:  74%|███████▍  | 739/1000 [1:44:50<37:06,  8.53s/it, v_num=ow_1, total_loss_train=1.45e+3, kl_local_train=37.7]"
     ]
    },
    {
     "name": "stdout",
     "output_type": "stream",
     "text": [
      "\r",
      "Epoch 740/1000:  74%|███████▍  | 739/1000 [1:44:50<37:06,  8.53s/it, v_num=ow_1, total_loss_train=1.45e+3, kl_local_train=37.7]"
     ]
    },
    {
     "name": "stdout",
     "output_type": "stream",
     "text": [
      "\r",
      "Epoch 740/1000:  74%|███████▍  | 740/1000 [1:44:59<36:48,  8.49s/it, v_num=ow_1, total_loss_train=1.45e+3, kl_local_train=37.7]"
     ]
    },
    {
     "name": "stdout",
     "output_type": "stream",
     "text": [
      "\r",
      "Epoch 740/1000:  74%|███████▍  | 740/1000 [1:44:59<36:48,  8.49s/it, v_num=ow_1, total_loss_train=1.45e+3, kl_local_train=37.8]"
     ]
    },
    {
     "name": "stdout",
     "output_type": "stream",
     "text": [
      "\r",
      "Epoch 741/1000:  74%|███████▍  | 740/1000 [1:44:59<36:48,  8.49s/it, v_num=ow_1, total_loss_train=1.45e+3, kl_local_train=37.8]"
     ]
    },
    {
     "name": "stdout",
     "output_type": "stream",
     "text": [
      "\r",
      "Epoch 741/1000:  74%|███████▍  | 741/1000 [1:45:07<36:20,  8.42s/it, v_num=ow_1, total_loss_train=1.45e+3, kl_local_train=37.8]"
     ]
    },
    {
     "name": "stdout",
     "output_type": "stream",
     "text": [
      "\r",
      "Epoch 741/1000:  74%|███████▍  | 741/1000 [1:45:07<36:20,  8.42s/it, v_num=ow_1, total_loss_train=1.45e+3, kl_local_train=37.9]"
     ]
    },
    {
     "name": "stdout",
     "output_type": "stream",
     "text": [
      "\r",
      "Epoch 742/1000:  74%|███████▍  | 741/1000 [1:45:07<36:20,  8.42s/it, v_num=ow_1, total_loss_train=1.45e+3, kl_local_train=37.9]"
     ]
    },
    {
     "name": "stdout",
     "output_type": "stream",
     "text": [
      "\r",
      "Epoch 742/1000:  74%|███████▍  | 742/1000 [1:45:15<35:59,  8.37s/it, v_num=ow_1, total_loss_train=1.45e+3, kl_local_train=37.9]"
     ]
    },
    {
     "name": "stdout",
     "output_type": "stream",
     "text": [
      "\r",
      "Epoch 742/1000:  74%|███████▍  | 742/1000 [1:45:15<35:59,  8.37s/it, v_num=ow_1, total_loss_train=1.45e+3, kl_local_train=37.6]"
     ]
    },
    {
     "name": "stdout",
     "output_type": "stream",
     "text": [
      "\r",
      "Epoch 743/1000:  74%|███████▍  | 742/1000 [1:45:15<35:59,  8.37s/it, v_num=ow_1, total_loss_train=1.45e+3, kl_local_train=37.6]"
     ]
    },
    {
     "name": "stdout",
     "output_type": "stream",
     "text": [
      "\r",
      "Epoch 743/1000:  74%|███████▍  | 743/1000 [1:45:23<35:03,  8.19s/it, v_num=ow_1, total_loss_train=1.45e+3, kl_local_train=37.6]"
     ]
    },
    {
     "name": "stdout",
     "output_type": "stream",
     "text": [
      "\r",
      "Epoch 743/1000:  74%|███████▍  | 743/1000 [1:45:23<35:03,  8.19s/it, v_num=ow_1, total_loss_train=1.45e+3, kl_local_train=37.7]"
     ]
    },
    {
     "name": "stdout",
     "output_type": "stream",
     "text": [
      "\r",
      "Epoch 744/1000:  74%|███████▍  | 743/1000 [1:45:23<35:03,  8.19s/it, v_num=ow_1, total_loss_train=1.45e+3, kl_local_train=37.7]"
     ]
    },
    {
     "name": "stdout",
     "output_type": "stream",
     "text": [
      "\r",
      "Epoch 744/1000:  74%|███████▍  | 744/1000 [1:45:31<34:57,  8.19s/it, v_num=ow_1, total_loss_train=1.45e+3, kl_local_train=37.7]"
     ]
    },
    {
     "name": "stdout",
     "output_type": "stream",
     "text": [
      "\r",
      "Epoch 744/1000:  74%|███████▍  | 744/1000 [1:45:31<34:57,  8.19s/it, v_num=ow_1, total_loss_train=1.45e+3, kl_local_train=37.9]"
     ]
    },
    {
     "name": "stdout",
     "output_type": "stream",
     "text": [
      "\r",
      "Epoch 745/1000:  74%|███████▍  | 744/1000 [1:45:31<34:57,  8.19s/it, v_num=ow_1, total_loss_train=1.45e+3, kl_local_train=37.9]"
     ]
    },
    {
     "name": "stdout",
     "output_type": "stream",
     "text": [
      "\r",
      "Epoch 745/1000:  74%|███████▍  | 745/1000 [1:45:39<34:49,  8.19s/it, v_num=ow_1, total_loss_train=1.45e+3, kl_local_train=37.9]"
     ]
    },
    {
     "name": "stdout",
     "output_type": "stream",
     "text": [
      "\r",
      "Epoch 745/1000:  74%|███████▍  | 745/1000 [1:45:39<34:49,  8.19s/it, v_num=ow_1, total_loss_train=1.45e+3, kl_local_train=37.8]"
     ]
    },
    {
     "name": "stdout",
     "output_type": "stream",
     "text": [
      "\r",
      "Epoch 746/1000:  74%|███████▍  | 745/1000 [1:45:39<34:49,  8.19s/it, v_num=ow_1, total_loss_train=1.45e+3, kl_local_train=37.8]"
     ]
    },
    {
     "name": "stdout",
     "output_type": "stream",
     "text": [
      "\r",
      "Epoch 746/1000:  75%|███████▍  | 746/1000 [1:45:47<34:40,  8.19s/it, v_num=ow_1, total_loss_train=1.45e+3, kl_local_train=37.8]"
     ]
    },
    {
     "name": "stdout",
     "output_type": "stream",
     "text": [
      "\r",
      "Epoch 746/1000:  75%|███████▍  | 746/1000 [1:45:48<34:40,  8.19s/it, v_num=ow_1, total_loss_train=1.45e+3, kl_local_train=37.8]"
     ]
    },
    {
     "name": "stdout",
     "output_type": "stream",
     "text": [
      "\r",
      "Epoch 747/1000:  75%|███████▍  | 746/1000 [1:45:48<34:40,  8.19s/it, v_num=ow_1, total_loss_train=1.45e+3, kl_local_train=37.8]"
     ]
    },
    {
     "name": "stdout",
     "output_type": "stream",
     "text": [
      "\r",
      "Epoch 747/1000:  75%|███████▍  | 747/1000 [1:45:56<34:30,  8.18s/it, v_num=ow_1, total_loss_train=1.45e+3, kl_local_train=37.8]"
     ]
    },
    {
     "name": "stdout",
     "output_type": "stream",
     "text": [
      "\r",
      "Epoch 747/1000:  75%|███████▍  | 747/1000 [1:45:56<34:30,  8.18s/it, v_num=ow_1, total_loss_train=1.45e+3, kl_local_train=37.8]"
     ]
    },
    {
     "name": "stdout",
     "output_type": "stream",
     "text": [
      "\r",
      "Epoch 748/1000:  75%|███████▍  | 747/1000 [1:45:56<34:30,  8.18s/it, v_num=ow_1, total_loss_train=1.45e+3, kl_local_train=37.8]"
     ]
    },
    {
     "name": "stdout",
     "output_type": "stream",
     "text": [
      "\r",
      "Epoch 748/1000:  75%|███████▍  | 748/1000 [1:46:04<34:25,  8.20s/it, v_num=ow_1, total_loss_train=1.45e+3, kl_local_train=37.8]"
     ]
    },
    {
     "name": "stdout",
     "output_type": "stream",
     "text": [
      "\r",
      "Epoch 748/1000:  75%|███████▍  | 748/1000 [1:46:04<34:25,  8.20s/it, v_num=ow_1, total_loss_train=1.45e+3, kl_local_train=37.7]"
     ]
    },
    {
     "name": "stdout",
     "output_type": "stream",
     "text": [
      "\r",
      "Epoch 749/1000:  75%|███████▍  | 748/1000 [1:46:04<34:25,  8.20s/it, v_num=ow_1, total_loss_train=1.45e+3, kl_local_train=37.7]"
     ]
    },
    {
     "name": "stdout",
     "output_type": "stream",
     "text": [
      "\r",
      "Epoch 749/1000:  75%|███████▍  | 749/1000 [1:46:12<34:18,  8.20s/it, v_num=ow_1, total_loss_train=1.45e+3, kl_local_train=37.7]"
     ]
    },
    {
     "name": "stdout",
     "output_type": "stream",
     "text": [
      "\r",
      "Epoch 749/1000:  75%|███████▍  | 749/1000 [1:46:12<34:18,  8.20s/it, v_num=ow_1, total_loss_train=1.45e+3, kl_local_train=37.8]"
     ]
    },
    {
     "name": "stdout",
     "output_type": "stream",
     "text": [
      "\r",
      "Epoch 750/1000:  75%|███████▍  | 749/1000 [1:46:12<34:18,  8.20s/it, v_num=ow_1, total_loss_train=1.45e+3, kl_local_train=37.8]"
     ]
    },
    {
     "name": "stdout",
     "output_type": "stream",
     "text": [
      "\r",
      "Epoch 750/1000:  75%|███████▌  | 750/1000 [1:46:21<34:38,  8.31s/it, v_num=ow_1, total_loss_train=1.45e+3, kl_local_train=37.8]"
     ]
    },
    {
     "name": "stdout",
     "output_type": "stream",
     "text": [
      "\r",
      "Epoch 750/1000:  75%|███████▌  | 750/1000 [1:46:21<34:38,  8.31s/it, v_num=ow_1, total_loss_train=1.45e+3, kl_local_train=37.8]"
     ]
    },
    {
     "name": "stdout",
     "output_type": "stream",
     "text": [
      "\r",
      "Epoch 751/1000:  75%|███████▌  | 750/1000 [1:46:21<34:38,  8.31s/it, v_num=ow_1, total_loss_train=1.45e+3, kl_local_train=37.8]"
     ]
    },
    {
     "name": "stdout",
     "output_type": "stream",
     "text": [
      "\r",
      "Epoch 751/1000:  75%|███████▌  | 751/1000 [1:46:29<34:56,  8.42s/it, v_num=ow_1, total_loss_train=1.45e+3, kl_local_train=37.8]"
     ]
    },
    {
     "name": "stdout",
     "output_type": "stream",
     "text": [
      "\r",
      "Epoch 751/1000:  75%|███████▌  | 751/1000 [1:46:29<34:56,  8.42s/it, v_num=ow_1, total_loss_train=1.45e+3, kl_local_train=37.6]"
     ]
    },
    {
     "name": "stdout",
     "output_type": "stream",
     "text": [
      "\r",
      "Epoch 752/1000:  75%|███████▌  | 751/1000 [1:46:29<34:56,  8.42s/it, v_num=ow_1, total_loss_train=1.45e+3, kl_local_train=37.6]"
     ]
    },
    {
     "name": "stdout",
     "output_type": "stream",
     "text": [
      "\r",
      "Epoch 752/1000:  75%|███████▌  | 752/1000 [1:46:38<35:00,  8.47s/it, v_num=ow_1, total_loss_train=1.45e+3, kl_local_train=37.6]"
     ]
    },
    {
     "name": "stdout",
     "output_type": "stream",
     "text": [
      "\r",
      "Epoch 752/1000:  75%|███████▌  | 752/1000 [1:46:38<35:00,  8.47s/it, v_num=ow_1, total_loss_train=1.45e+3, kl_local_train=37.8]"
     ]
    },
    {
     "name": "stdout",
     "output_type": "stream",
     "text": [
      "\r",
      "Epoch 753/1000:  75%|███████▌  | 752/1000 [1:46:38<35:00,  8.47s/it, v_num=ow_1, total_loss_train=1.45e+3, kl_local_train=37.8]"
     ]
    },
    {
     "name": "stdout",
     "output_type": "stream",
     "text": [
      "\r",
      "Epoch 753/1000:  75%|███████▌  | 753/1000 [1:46:47<35:51,  8.71s/it, v_num=ow_1, total_loss_train=1.45e+3, kl_local_train=37.8]"
     ]
    },
    {
     "name": "stdout",
     "output_type": "stream",
     "text": [
      "\r",
      "Epoch 753/1000:  75%|███████▌  | 753/1000 [1:46:47<35:51,  8.71s/it, v_num=ow_1, total_loss_train=1.45e+3, kl_local_train=37.7]"
     ]
    },
    {
     "name": "stdout",
     "output_type": "stream",
     "text": [
      "\r",
      "Epoch 754/1000:  75%|███████▌  | 753/1000 [1:46:47<35:51,  8.71s/it, v_num=ow_1, total_loss_train=1.45e+3, kl_local_train=37.7]"
     ]
    },
    {
     "name": "stdout",
     "output_type": "stream",
     "text": [
      "\r",
      "Epoch 754/1000:  75%|███████▌  | 754/1000 [1:46:55<34:41,  8.46s/it, v_num=ow_1, total_loss_train=1.45e+3, kl_local_train=37.7]"
     ]
    },
    {
     "name": "stdout",
     "output_type": "stream",
     "text": [
      "\r",
      "Epoch 754/1000:  75%|███████▌  | 754/1000 [1:46:55<34:41,  8.46s/it, v_num=ow_1, total_loss_train=1.45e+3, kl_local_train=37.8]"
     ]
    },
    {
     "name": "stdout",
     "output_type": "stream",
     "text": [
      "\r",
      "Epoch 755/1000:  75%|███████▌  | 754/1000 [1:46:55<34:41,  8.46s/it, v_num=ow_1, total_loss_train=1.45e+3, kl_local_train=37.8]"
     ]
    },
    {
     "name": "stdout",
     "output_type": "stream",
     "text": [
      "\r",
      "Epoch 755/1000:  76%|███████▌  | 755/1000 [1:47:03<33:59,  8.32s/it, v_num=ow_1, total_loss_train=1.45e+3, kl_local_train=37.8]"
     ]
    },
    {
     "name": "stdout",
     "output_type": "stream",
     "text": [
      "\r",
      "Epoch 755/1000:  76%|███████▌  | 755/1000 [1:47:03<33:59,  8.32s/it, v_num=ow_1, total_loss_train=1.45e+3, kl_local_train=37.9]"
     ]
    },
    {
     "name": "stdout",
     "output_type": "stream",
     "text": [
      "\r",
      "Epoch 756/1000:  76%|███████▌  | 755/1000 [1:47:03<33:59,  8.32s/it, v_num=ow_1, total_loss_train=1.45e+3, kl_local_train=37.9]"
     ]
    },
    {
     "name": "stdout",
     "output_type": "stream",
     "text": [
      "\r",
      "Epoch 756/1000:  76%|███████▌  | 756/1000 [1:47:12<34:14,  8.42s/it, v_num=ow_1, total_loss_train=1.45e+3, kl_local_train=37.9]"
     ]
    },
    {
     "name": "stdout",
     "output_type": "stream",
     "text": [
      "\r",
      "Epoch 756/1000:  76%|███████▌  | 756/1000 [1:47:12<34:14,  8.42s/it, v_num=ow_1, total_loss_train=1.45e+3, kl_local_train=37.7]"
     ]
    },
    {
     "name": "stdout",
     "output_type": "stream",
     "text": [
      "\r",
      "Epoch 757/1000:  76%|███████▌  | 756/1000 [1:47:12<34:14,  8.42s/it, v_num=ow_1, total_loss_train=1.45e+3, kl_local_train=37.7]"
     ]
    },
    {
     "name": "stdout",
     "output_type": "stream",
     "text": [
      "\r",
      "Epoch 757/1000:  76%|███████▌  | 757/1000 [1:47:20<34:09,  8.44s/it, v_num=ow_1, total_loss_train=1.45e+3, kl_local_train=37.7]"
     ]
    },
    {
     "name": "stdout",
     "output_type": "stream",
     "text": [
      "\r",
      "Epoch 757/1000:  76%|███████▌  | 757/1000 [1:47:20<34:09,  8.44s/it, v_num=ow_1, total_loss_train=1.45e+3, kl_local_train=37.8]"
     ]
    },
    {
     "name": "stdout",
     "output_type": "stream",
     "text": [
      "\r",
      "Epoch 758/1000:  76%|███████▌  | 757/1000 [1:47:20<34:09,  8.44s/it, v_num=ow_1, total_loss_train=1.45e+3, kl_local_train=37.8]"
     ]
    },
    {
     "name": "stdout",
     "output_type": "stream",
     "text": [
      "\r",
      "Epoch 758/1000:  76%|███████▌  | 758/1000 [1:47:29<34:03,  8.45s/it, v_num=ow_1, total_loss_train=1.45e+3, kl_local_train=37.8]"
     ]
    },
    {
     "name": "stdout",
     "output_type": "stream",
     "text": [
      "\r",
      "Epoch 758/1000:  76%|███████▌  | 758/1000 [1:47:29<34:03,  8.45s/it, v_num=ow_1, total_loss_train=1.45e+3, kl_local_train=37.9]"
     ]
    },
    {
     "name": "stdout",
     "output_type": "stream",
     "text": [
      "\r",
      "Epoch 759/1000:  76%|███████▌  | 758/1000 [1:47:29<34:03,  8.45s/it, v_num=ow_1, total_loss_train=1.45e+3, kl_local_train=37.9]"
     ]
    },
    {
     "name": "stdout",
     "output_type": "stream",
     "text": [
      "\r",
      "Epoch 759/1000:  76%|███████▌  | 759/1000 [1:47:37<34:09,  8.50s/it, v_num=ow_1, total_loss_train=1.45e+3, kl_local_train=37.9]"
     ]
    },
    {
     "name": "stdout",
     "output_type": "stream",
     "text": [
      "\r",
      "Epoch 759/1000:  76%|███████▌  | 759/1000 [1:47:37<34:09,  8.50s/it, v_num=ow_1, total_loss_train=1.45e+3, kl_local_train=37.6]"
     ]
    },
    {
     "name": "stdout",
     "output_type": "stream",
     "text": [
      "\r",
      "Epoch 760/1000:  76%|███████▌  | 759/1000 [1:47:37<34:09,  8.50s/it, v_num=ow_1, total_loss_train=1.45e+3, kl_local_train=37.6]"
     ]
    },
    {
     "name": "stdout",
     "output_type": "stream",
     "text": [
      "\r",
      "Epoch 760/1000:  76%|███████▌  | 760/1000 [1:47:46<34:09,  8.54s/it, v_num=ow_1, total_loss_train=1.45e+3, kl_local_train=37.6]"
     ]
    },
    {
     "name": "stdout",
     "output_type": "stream",
     "text": [
      "\r",
      "Epoch 760/1000:  76%|███████▌  | 760/1000 [1:47:46<34:09,  8.54s/it, v_num=ow_1, total_loss_train=1.45e+3, kl_local_train=37.7]"
     ]
    },
    {
     "name": "stdout",
     "output_type": "stream",
     "text": [
      "\r",
      "Epoch 761/1000:  76%|███████▌  | 760/1000 [1:47:46<34:09,  8.54s/it, v_num=ow_1, total_loss_train=1.45e+3, kl_local_train=37.7]"
     ]
    },
    {
     "name": "stdout",
     "output_type": "stream",
     "text": [
      "\r",
      "Epoch 761/1000:  76%|███████▌  | 761/1000 [1:47:55<34:57,  8.78s/it, v_num=ow_1, total_loss_train=1.45e+3, kl_local_train=37.7]"
     ]
    },
    {
     "name": "stdout",
     "output_type": "stream",
     "text": [
      "\r",
      "Epoch 761/1000:  76%|███████▌  | 761/1000 [1:47:55<34:57,  8.78s/it, v_num=ow_1, total_loss_train=1.45e+3, kl_local_train=37.9]"
     ]
    },
    {
     "name": "stdout",
     "output_type": "stream",
     "text": [
      "\r",
      "Epoch 762/1000:  76%|███████▌  | 761/1000 [1:47:55<34:57,  8.78s/it, v_num=ow_1, total_loss_train=1.45e+3, kl_local_train=37.9]"
     ]
    },
    {
     "name": "stdout",
     "output_type": "stream",
     "text": [
      "\r",
      "Epoch 762/1000:  76%|███████▌  | 762/1000 [1:48:03<33:43,  8.50s/it, v_num=ow_1, total_loss_train=1.45e+3, kl_local_train=37.9]"
     ]
    },
    {
     "name": "stdout",
     "output_type": "stream",
     "text": [
      "\r",
      "Epoch 762/1000:  76%|███████▌  | 762/1000 [1:48:03<33:43,  8.50s/it, v_num=ow_1, total_loss_train=1.45e+3, kl_local_train=37.8]"
     ]
    },
    {
     "name": "stdout",
     "output_type": "stream",
     "text": [
      "\r",
      "Epoch 763/1000:  76%|███████▌  | 762/1000 [1:48:03<33:43,  8.50s/it, v_num=ow_1, total_loss_train=1.45e+3, kl_local_train=37.8]"
     ]
    },
    {
     "name": "stdout",
     "output_type": "stream",
     "text": [
      "\r",
      "Epoch 763/1000:  76%|███████▋  | 763/1000 [1:48:12<33:47,  8.55s/it, v_num=ow_1, total_loss_train=1.45e+3, kl_local_train=37.8]"
     ]
    },
    {
     "name": "stdout",
     "output_type": "stream",
     "text": [
      "\r",
      "Epoch 763/1000:  76%|███████▋  | 763/1000 [1:48:12<33:47,  8.55s/it, v_num=ow_1, total_loss_train=1.45e+3, kl_local_train=37.8]"
     ]
    },
    {
     "name": "stdout",
     "output_type": "stream",
     "text": [
      "\r",
      "Epoch 764/1000:  76%|███████▋  | 763/1000 [1:48:12<33:47,  8.55s/it, v_num=ow_1, total_loss_train=1.45e+3, kl_local_train=37.8]"
     ]
    },
    {
     "name": "stdout",
     "output_type": "stream",
     "text": [
      "\r",
      "Epoch 764/1000:  76%|███████▋  | 764/1000 [1:48:20<33:31,  8.52s/it, v_num=ow_1, total_loss_train=1.45e+3, kl_local_train=37.8]"
     ]
    },
    {
     "name": "stdout",
     "output_type": "stream",
     "text": [
      "\r",
      "Epoch 764/1000:  76%|███████▋  | 764/1000 [1:48:20<33:31,  8.52s/it, v_num=ow_1, total_loss_train=1.45e+3, kl_local_train=37.8]"
     ]
    },
    {
     "name": "stdout",
     "output_type": "stream",
     "text": [
      "\r",
      "Epoch 765/1000:  76%|███████▋  | 764/1000 [1:48:20<33:31,  8.52s/it, v_num=ow_1, total_loss_train=1.45e+3, kl_local_train=37.8]"
     ]
    },
    {
     "name": "stdout",
     "output_type": "stream",
     "text": [
      "\r",
      "Epoch 765/1000:  76%|███████▋  | 765/1000 [1:48:29<33:23,  8.52s/it, v_num=ow_1, total_loss_train=1.45e+3, kl_local_train=37.8]"
     ]
    },
    {
     "name": "stdout",
     "output_type": "stream",
     "text": [
      "\r",
      "Epoch 765/1000:  76%|███████▋  | 765/1000 [1:48:29<33:23,  8.52s/it, v_num=ow_1, total_loss_train=1.45e+3, kl_local_train=37.8]"
     ]
    },
    {
     "name": "stdout",
     "output_type": "stream",
     "text": [
      "\r",
      "Epoch 766/1000:  76%|███████▋  | 765/1000 [1:48:29<33:23,  8.52s/it, v_num=ow_1, total_loss_train=1.45e+3, kl_local_train=37.8]"
     ]
    },
    {
     "name": "stdout",
     "output_type": "stream",
     "text": [
      "\r",
      "Epoch 766/1000:  77%|███████▋  | 766/1000 [1:48:37<33:24,  8.56s/it, v_num=ow_1, total_loss_train=1.45e+3, kl_local_train=37.8]"
     ]
    },
    {
     "name": "stdout",
     "output_type": "stream",
     "text": [
      "\r",
      "Epoch 766/1000:  77%|███████▋  | 766/1000 [1:48:37<33:24,  8.56s/it, v_num=ow_1, total_loss_train=1.45e+3, kl_local_train=37.8]"
     ]
    },
    {
     "name": "stdout",
     "output_type": "stream",
     "text": [
      "\r",
      "Epoch 767/1000:  77%|███████▋  | 766/1000 [1:48:37<33:24,  8.56s/it, v_num=ow_1, total_loss_train=1.45e+3, kl_local_train=37.8]"
     ]
    },
    {
     "name": "stdout",
     "output_type": "stream",
     "text": [
      "\r",
      "Epoch 767/1000:  77%|███████▋  | 767/1000 [1:48:46<33:05,  8.52s/it, v_num=ow_1, total_loss_train=1.45e+3, kl_local_train=37.8]"
     ]
    },
    {
     "name": "stdout",
     "output_type": "stream",
     "text": [
      "\r",
      "Epoch 767/1000:  77%|███████▋  | 767/1000 [1:48:46<33:05,  8.52s/it, v_num=ow_1, total_loss_train=1.45e+3, kl_local_train=37.9]"
     ]
    },
    {
     "name": "stdout",
     "output_type": "stream",
     "text": [
      "\r",
      "Epoch 768/1000:  77%|███████▋  | 767/1000 [1:48:46<33:05,  8.52s/it, v_num=ow_1, total_loss_train=1.45e+3, kl_local_train=37.9]"
     ]
    },
    {
     "name": "stdout",
     "output_type": "stream",
     "text": [
      "\r",
      "Epoch 768/1000:  77%|███████▋  | 768/1000 [1:48:54<32:48,  8.49s/it, v_num=ow_1, total_loss_train=1.45e+3, kl_local_train=37.9]"
     ]
    },
    {
     "name": "stdout",
     "output_type": "stream",
     "text": [
      "\r",
      "Epoch 768/1000:  77%|███████▋  | 768/1000 [1:48:54<32:48,  8.49s/it, v_num=ow_1, total_loss_train=1.45e+3, kl_local_train=37.7]"
     ]
    },
    {
     "name": "stdout",
     "output_type": "stream",
     "text": [
      "\r",
      "Epoch 769/1000:  77%|███████▋  | 768/1000 [1:48:54<32:48,  8.49s/it, v_num=ow_1, total_loss_train=1.45e+3, kl_local_train=37.7]"
     ]
    },
    {
     "name": "stdout",
     "output_type": "stream",
     "text": [
      "\r",
      "Epoch 769/1000:  77%|███████▋  | 769/1000 [1:49:03<32:36,  8.47s/it, v_num=ow_1, total_loss_train=1.45e+3, kl_local_train=37.7]"
     ]
    },
    {
     "name": "stdout",
     "output_type": "stream",
     "text": [
      "\r",
      "Epoch 769/1000:  77%|███████▋  | 769/1000 [1:49:03<32:36,  8.47s/it, v_num=ow_1, total_loss_train=1.45e+3, kl_local_train=37.8]"
     ]
    },
    {
     "name": "stdout",
     "output_type": "stream",
     "text": [
      "\r",
      "Epoch 770/1000:  77%|███████▋  | 769/1000 [1:49:03<32:36,  8.47s/it, v_num=ow_1, total_loss_train=1.45e+3, kl_local_train=37.8]"
     ]
    },
    {
     "name": "stdout",
     "output_type": "stream",
     "text": [
      "\r",
      "Epoch 770/1000:  77%|███████▋  | 770/1000 [1:49:11<32:14,  8.41s/it, v_num=ow_1, total_loss_train=1.45e+3, kl_local_train=37.8]"
     ]
    },
    {
     "name": "stdout",
     "output_type": "stream",
     "text": [
      "\r",
      "Epoch 770/1000:  77%|███████▋  | 770/1000 [1:49:11<32:14,  8.41s/it, v_num=ow_1, total_loss_train=1.45e+3, kl_local_train=37.7]"
     ]
    },
    {
     "name": "stdout",
     "output_type": "stream",
     "text": [
      "\r",
      "Epoch 771/1000:  77%|███████▋  | 770/1000 [1:49:11<32:14,  8.41s/it, v_num=ow_1, total_loss_train=1.45e+3, kl_local_train=37.7]"
     ]
    },
    {
     "name": "stdout",
     "output_type": "stream",
     "text": [
      "\r",
      "Epoch 771/1000:  77%|███████▋  | 771/1000 [1:49:20<32:27,  8.51s/it, v_num=ow_1, total_loss_train=1.45e+3, kl_local_train=37.7]"
     ]
    },
    {
     "name": "stdout",
     "output_type": "stream",
     "text": [
      "\r",
      "Epoch 771/1000:  77%|███████▋  | 771/1000 [1:49:20<32:27,  8.51s/it, v_num=ow_1, total_loss_train=1.45e+3, kl_local_train=37.9]"
     ]
    },
    {
     "name": "stdout",
     "output_type": "stream",
     "text": [
      "\r",
      "Epoch 772/1000:  77%|███████▋  | 771/1000 [1:49:20<32:27,  8.51s/it, v_num=ow_1, total_loss_train=1.45e+3, kl_local_train=37.9]"
     ]
    },
    {
     "name": "stdout",
     "output_type": "stream",
     "text": [
      "\r",
      "Epoch 772/1000:  77%|███████▋  | 772/1000 [1:49:28<32:06,  8.45s/it, v_num=ow_1, total_loss_train=1.45e+3, kl_local_train=37.9]"
     ]
    },
    {
     "name": "stdout",
     "output_type": "stream",
     "text": [
      "\r",
      "Epoch 772/1000:  77%|███████▋  | 772/1000 [1:49:28<32:06,  8.45s/it, v_num=ow_1, total_loss_train=1.45e+3, kl_local_train=37.8]"
     ]
    },
    {
     "name": "stdout",
     "output_type": "stream",
     "text": [
      "\r",
      "Epoch 773/1000:  77%|███████▋  | 772/1000 [1:49:28<32:06,  8.45s/it, v_num=ow_1, total_loss_train=1.45e+3, kl_local_train=37.8]"
     ]
    },
    {
     "name": "stdout",
     "output_type": "stream",
     "text": [
      "\r",
      "Epoch 773/1000:  77%|███████▋  | 773/1000 [1:49:36<31:40,  8.37s/it, v_num=ow_1, total_loss_train=1.45e+3, kl_local_train=37.8]"
     ]
    },
    {
     "name": "stdout",
     "output_type": "stream",
     "text": [
      "\r",
      "Epoch 773/1000:  77%|███████▋  | 773/1000 [1:49:36<31:40,  8.37s/it, v_num=ow_1, total_loss_train=1.45e+3, kl_local_train=37.8]"
     ]
    },
    {
     "name": "stdout",
     "output_type": "stream",
     "text": [
      "\r",
      "Epoch 774/1000:  77%|███████▋  | 773/1000 [1:49:36<31:40,  8.37s/it, v_num=ow_1, total_loss_train=1.45e+3, kl_local_train=37.8]"
     ]
    },
    {
     "name": "stdout",
     "output_type": "stream",
     "text": [
      "\r",
      "Epoch 774/1000:  77%|███████▋  | 774/1000 [1:49:44<31:16,  8.30s/it, v_num=ow_1, total_loss_train=1.45e+3, kl_local_train=37.8]"
     ]
    },
    {
     "name": "stdout",
     "output_type": "stream",
     "text": [
      "\r",
      "Epoch 774/1000:  77%|███████▋  | 774/1000 [1:49:44<31:16,  8.30s/it, v_num=ow_1, total_loss_train=1.45e+3, kl_local_train=37.9]"
     ]
    },
    {
     "name": "stdout",
     "output_type": "stream",
     "text": [
      "\r",
      "Epoch 775/1000:  77%|███████▋  | 774/1000 [1:49:44<31:16,  8.30s/it, v_num=ow_1, total_loss_train=1.45e+3, kl_local_train=37.9]"
     ]
    },
    {
     "name": "stdout",
     "output_type": "stream",
     "text": [
      "\r",
      "Epoch 775/1000:  78%|███████▊  | 775/1000 [1:49:52<30:10,  8.05s/it, v_num=ow_1, total_loss_train=1.45e+3, kl_local_train=37.9]"
     ]
    },
    {
     "name": "stdout",
     "output_type": "stream",
     "text": [
      "\r",
      "Epoch 775/1000:  78%|███████▊  | 775/1000 [1:49:52<30:10,  8.05s/it, v_num=ow_1, total_loss_train=1.45e+3, kl_local_train=37.8]"
     ]
    },
    {
     "name": "stdout",
     "output_type": "stream",
     "text": [
      "\r",
      "Epoch 776/1000:  78%|███████▊  | 775/1000 [1:49:52<30:10,  8.05s/it, v_num=ow_1, total_loss_train=1.45e+3, kl_local_train=37.8]"
     ]
    },
    {
     "name": "stdout",
     "output_type": "stream",
     "text": [
      "\r",
      "Epoch 776/1000:  78%|███████▊  | 776/1000 [1:50:01<30:47,  8.25s/it, v_num=ow_1, total_loss_train=1.45e+3, kl_local_train=37.8]"
     ]
    },
    {
     "name": "stdout",
     "output_type": "stream",
     "text": [
      "\r",
      "Epoch 776/1000:  78%|███████▊  | 776/1000 [1:50:01<30:47,  8.25s/it, v_num=ow_1, total_loss_train=1.45e+3, kl_local_train=37.8]"
     ]
    },
    {
     "name": "stdout",
     "output_type": "stream",
     "text": [
      "\r",
      "Epoch 777/1000:  78%|███████▊  | 776/1000 [1:50:01<30:47,  8.25s/it, v_num=ow_1, total_loss_train=1.45e+3, kl_local_train=37.8]"
     ]
    },
    {
     "name": "stdout",
     "output_type": "stream",
     "text": [
      "\r",
      "Epoch 777/1000:  78%|███████▊  | 777/1000 [1:50:09<30:29,  8.20s/it, v_num=ow_1, total_loss_train=1.45e+3, kl_local_train=37.8]"
     ]
    },
    {
     "name": "stdout",
     "output_type": "stream",
     "text": [
      "\r",
      "Epoch 777/1000:  78%|███████▊  | 777/1000 [1:50:09<30:29,  8.20s/it, v_num=ow_1, total_loss_train=1.45e+3, kl_local_train=37.9]"
     ]
    },
    {
     "name": "stdout",
     "output_type": "stream",
     "text": [
      "\r",
      "Epoch 778/1000:  78%|███████▊  | 777/1000 [1:50:09<30:29,  8.20s/it, v_num=ow_1, total_loss_train=1.45e+3, kl_local_train=37.9]"
     ]
    },
    {
     "name": "stdout",
     "output_type": "stream",
     "text": [
      "\r",
      "Epoch 778/1000:  78%|███████▊  | 778/1000 [1:50:18<31:29,  8.51s/it, v_num=ow_1, total_loss_train=1.45e+3, kl_local_train=37.9]"
     ]
    },
    {
     "name": "stdout",
     "output_type": "stream",
     "text": [
      "\r",
      "Epoch 778/1000:  78%|███████▊  | 778/1000 [1:50:18<31:29,  8.51s/it, v_num=ow_1, total_loss_train=1.45e+3, kl_local_train=37.9]"
     ]
    },
    {
     "name": "stdout",
     "output_type": "stream",
     "text": [
      "\r",
      "Epoch 779/1000:  78%|███████▊  | 778/1000 [1:50:18<31:29,  8.51s/it, v_num=ow_1, total_loss_train=1.45e+3, kl_local_train=37.9]"
     ]
    },
    {
     "name": "stdout",
     "output_type": "stream",
     "text": [
      "\r",
      "Epoch 779/1000:  78%|███████▊  | 779/1000 [1:50:25<30:02,  8.15s/it, v_num=ow_1, total_loss_train=1.45e+3, kl_local_train=37.9]"
     ]
    },
    {
     "name": "stdout",
     "output_type": "stream",
     "text": [
      "\r",
      "Epoch 779/1000:  78%|███████▊  | 779/1000 [1:50:25<30:02,  8.15s/it, v_num=ow_1, total_loss_train=1.45e+3, kl_local_train=37.9]"
     ]
    },
    {
     "name": "stdout",
     "output_type": "stream",
     "text": [
      "\r",
      "Epoch 780/1000:  78%|███████▊  | 779/1000 [1:50:25<30:02,  8.15s/it, v_num=ow_1, total_loss_train=1.45e+3, kl_local_train=37.9]"
     ]
    },
    {
     "name": "stdout",
     "output_type": "stream",
     "text": [
      "\r",
      "Epoch 780/1000:  78%|███████▊  | 780/1000 [1:50:33<29:13,  7.97s/it, v_num=ow_1, total_loss_train=1.45e+3, kl_local_train=37.9]"
     ]
    },
    {
     "name": "stdout",
     "output_type": "stream",
     "text": [
      "\r",
      "Epoch 780/1000:  78%|███████▊  | 780/1000 [1:50:33<29:13,  7.97s/it, v_num=ow_1, total_loss_train=1.45e+3, kl_local_train=37.8]"
     ]
    },
    {
     "name": "stdout",
     "output_type": "stream",
     "text": [
      "\r",
      "Epoch 781/1000:  78%|███████▊  | 780/1000 [1:50:33<29:13,  7.97s/it, v_num=ow_1, total_loss_train=1.45e+3, kl_local_train=37.8]"
     ]
    },
    {
     "name": "stdout",
     "output_type": "stream",
     "text": [
      "\r",
      "Epoch 781/1000:  78%|███████▊  | 781/1000 [1:50:41<29:43,  8.15s/it, v_num=ow_1, total_loss_train=1.45e+3, kl_local_train=37.8]"
     ]
    },
    {
     "name": "stdout",
     "output_type": "stream",
     "text": [
      "\r",
      "Epoch 781/1000:  78%|███████▊  | 781/1000 [1:50:41<29:43,  8.15s/it, v_num=ow_1, total_loss_train=1.45e+3, kl_local_train=37.7]"
     ]
    },
    {
     "name": "stdout",
     "output_type": "stream",
     "text": [
      "\r",
      "Epoch 782/1000:  78%|███████▊  | 781/1000 [1:50:41<29:43,  8.15s/it, v_num=ow_1, total_loss_train=1.45e+3, kl_local_train=37.7]"
     ]
    },
    {
     "name": "stdout",
     "output_type": "stream",
     "text": [
      "\r",
      "Epoch 782/1000:  78%|███████▊  | 782/1000 [1:50:49<29:14,  8.05s/it, v_num=ow_1, total_loss_train=1.45e+3, kl_local_train=37.7]"
     ]
    },
    {
     "name": "stdout",
     "output_type": "stream",
     "text": [
      "\r",
      "Epoch 782/1000:  78%|███████▊  | 782/1000 [1:50:49<29:14,  8.05s/it, v_num=ow_1, total_loss_train=1.45e+3, kl_local_train=37.9]"
     ]
    },
    {
     "name": "stdout",
     "output_type": "stream",
     "text": [
      "\r",
      "Epoch 783/1000:  78%|███████▊  | 782/1000 [1:50:49<29:14,  8.05s/it, v_num=ow_1, total_loss_train=1.45e+3, kl_local_train=37.9]"
     ]
    },
    {
     "name": "stdout",
     "output_type": "stream",
     "text": [
      "\r",
      "Epoch 783/1000:  78%|███████▊  | 783/1000 [1:50:57<28:47,  7.96s/it, v_num=ow_1, total_loss_train=1.45e+3, kl_local_train=37.9]"
     ]
    },
    {
     "name": "stdout",
     "output_type": "stream",
     "text": [
      "\r",
      "Epoch 783/1000:  78%|███████▊  | 783/1000 [1:50:57<28:47,  7.96s/it, v_num=ow_1, total_loss_train=1.45e+3, kl_local_train=37.7]"
     ]
    },
    {
     "name": "stdout",
     "output_type": "stream",
     "text": [
      "\r",
      "Epoch 784/1000:  78%|███████▊  | 783/1000 [1:50:57<28:47,  7.96s/it, v_num=ow_1, total_loss_train=1.45e+3, kl_local_train=37.7]"
     ]
    },
    {
     "name": "stdout",
     "output_type": "stream",
     "text": [
      "\r",
      "Epoch 784/1000:  78%|███████▊  | 784/1000 [1:51:05<29:20,  8.15s/it, v_num=ow_1, total_loss_train=1.45e+3, kl_local_train=37.7]"
     ]
    },
    {
     "name": "stdout",
     "output_type": "stream",
     "text": [
      "\r",
      "Epoch 784/1000:  78%|███████▊  | 784/1000 [1:51:05<29:20,  8.15s/it, v_num=ow_1, total_loss_train=1.45e+3, kl_local_train=38]  "
     ]
    },
    {
     "name": "stdout",
     "output_type": "stream",
     "text": [
      "\r",
      "Epoch 785/1000:  78%|███████▊  | 784/1000 [1:51:05<29:20,  8.15s/it, v_num=ow_1, total_loss_train=1.45e+3, kl_local_train=38]"
     ]
    },
    {
     "name": "stdout",
     "output_type": "stream",
     "text": [
      "\r",
      "Epoch 785/1000:  78%|███████▊  | 785/1000 [1:51:14<29:36,  8.26s/it, v_num=ow_1, total_loss_train=1.45e+3, kl_local_train=38]"
     ]
    },
    {
     "name": "stdout",
     "output_type": "stream",
     "text": [
      "\r",
      "Epoch 785/1000:  78%|███████▊  | 785/1000 [1:51:14<29:36,  8.26s/it, v_num=ow_1, total_loss_train=1.45e+3, kl_local_train=37.8]"
     ]
    },
    {
     "name": "stdout",
     "output_type": "stream",
     "text": [
      "\r",
      "Epoch 786/1000:  78%|███████▊  | 785/1000 [1:51:14<29:36,  8.26s/it, v_num=ow_1, total_loss_train=1.45e+3, kl_local_train=37.8]"
     ]
    },
    {
     "name": "stdout",
     "output_type": "stream",
     "text": [
      "\r",
      "Epoch 786/1000:  79%|███████▊  | 786/1000 [1:51:23<30:47,  8.63s/it, v_num=ow_1, total_loss_train=1.45e+3, kl_local_train=37.8]"
     ]
    },
    {
     "name": "stdout",
     "output_type": "stream",
     "text": [
      "\r",
      "Epoch 786/1000:  79%|███████▊  | 786/1000 [1:51:23<30:47,  8.63s/it, v_num=ow_1, total_loss_train=1.45e+3, kl_local_train=38]  "
     ]
    },
    {
     "name": "stdout",
     "output_type": "stream",
     "text": [
      "\r",
      "Epoch 787/1000:  79%|███████▊  | 786/1000 [1:51:23<30:47,  8.63s/it, v_num=ow_1, total_loss_train=1.45e+3, kl_local_train=38]"
     ]
    },
    {
     "name": "stdout",
     "output_type": "stream",
     "text": [
      "\r",
      "Epoch 787/1000:  79%|███████▊  | 787/1000 [1:51:33<31:31,  8.88s/it, v_num=ow_1, total_loss_train=1.45e+3, kl_local_train=38]"
     ]
    },
    {
     "name": "stdout",
     "output_type": "stream",
     "text": [
      "\r",
      "Epoch 787/1000:  79%|███████▊  | 787/1000 [1:51:33<31:31,  8.88s/it, v_num=ow_1, total_loss_train=1.45e+3, kl_local_train=37.9]"
     ]
    },
    {
     "name": "stdout",
     "output_type": "stream",
     "text": [
      "\r",
      "Epoch 788/1000:  79%|███████▊  | 787/1000 [1:51:33<31:31,  8.88s/it, v_num=ow_1, total_loss_train=1.45e+3, kl_local_train=37.9]"
     ]
    },
    {
     "name": "stdout",
     "output_type": "stream",
     "text": [
      "\r",
      "Epoch 788/1000:  79%|███████▉  | 788/1000 [1:51:42<31:07,  8.81s/it, v_num=ow_1, total_loss_train=1.45e+3, kl_local_train=37.9]"
     ]
    },
    {
     "name": "stdout",
     "output_type": "stream",
     "text": [
      "\r",
      "Epoch 788/1000:  79%|███████▉  | 788/1000 [1:51:42<31:07,  8.81s/it, v_num=ow_1, total_loss_train=1.45e+3, kl_local_train=37.8]"
     ]
    },
    {
     "name": "stdout",
     "output_type": "stream",
     "text": [
      "\r",
      "Epoch 789/1000:  79%|███████▉  | 788/1000 [1:51:42<31:07,  8.81s/it, v_num=ow_1, total_loss_train=1.45e+3, kl_local_train=37.8]"
     ]
    },
    {
     "name": "stdout",
     "output_type": "stream",
     "text": [
      "\r",
      "Epoch 789/1000:  79%|███████▉  | 789/1000 [1:51:50<30:30,  8.68s/it, v_num=ow_1, total_loss_train=1.45e+3, kl_local_train=37.8]"
     ]
    },
    {
     "name": "stdout",
     "output_type": "stream",
     "text": [
      "\r",
      "Epoch 789/1000:  79%|███████▉  | 789/1000 [1:51:50<30:30,  8.68s/it, v_num=ow_1, total_loss_train=1.45e+3, kl_local_train=37.9]"
     ]
    },
    {
     "name": "stdout",
     "output_type": "stream",
     "text": [
      "\r",
      "Epoch 790/1000:  79%|███████▉  | 789/1000 [1:51:50<30:30,  8.68s/it, v_num=ow_1, total_loss_train=1.45e+3, kl_local_train=37.9]"
     ]
    },
    {
     "name": "stdout",
     "output_type": "stream",
     "text": [
      "\r",
      "Epoch 790/1000:  79%|███████▉  | 790/1000 [1:51:58<29:22,  8.39s/it, v_num=ow_1, total_loss_train=1.45e+3, kl_local_train=37.9]"
     ]
    },
    {
     "name": "stdout",
     "output_type": "stream",
     "text": [
      "\r",
      "Epoch 790/1000:  79%|███████▉  | 790/1000 [1:51:58<29:22,  8.39s/it, v_num=ow_1, total_loss_train=1.45e+3, kl_local_train=37.8]"
     ]
    },
    {
     "name": "stdout",
     "output_type": "stream",
     "text": [
      "\r",
      "Epoch 791/1000:  79%|███████▉  | 790/1000 [1:51:58<29:22,  8.39s/it, v_num=ow_1, total_loss_train=1.45e+3, kl_local_train=37.8]"
     ]
    },
    {
     "name": "stdout",
     "output_type": "stream",
     "text": [
      "\r",
      "Epoch 791/1000:  79%|███████▉  | 791/1000 [1:52:06<29:22,  8.43s/it, v_num=ow_1, total_loss_train=1.45e+3, kl_local_train=37.8]"
     ]
    },
    {
     "name": "stdout",
     "output_type": "stream",
     "text": [
      "\r",
      "Epoch 791/1000:  79%|███████▉  | 791/1000 [1:52:06<29:22,  8.43s/it, v_num=ow_1, total_loss_train=1.45e+3, kl_local_train=37.8]"
     ]
    },
    {
     "name": "stdout",
     "output_type": "stream",
     "text": [
      "\r",
      "Epoch 792/1000:  79%|███████▉  | 791/1000 [1:52:06<29:22,  8.43s/it, v_num=ow_1, total_loss_train=1.45e+3, kl_local_train=37.8]"
     ]
    },
    {
     "name": "stdout",
     "output_type": "stream",
     "text": [
      "\r",
      "Epoch 792/1000:  79%|███████▉  | 792/1000 [1:52:15<29:07,  8.40s/it, v_num=ow_1, total_loss_train=1.45e+3, kl_local_train=37.8]"
     ]
    },
    {
     "name": "stdout",
     "output_type": "stream",
     "text": [
      "\r",
      "Epoch 792/1000:  79%|███████▉  | 792/1000 [1:52:15<29:07,  8.40s/it, v_num=ow_1, total_loss_train=1.45e+3, kl_local_train=38]  "
     ]
    },
    {
     "name": "stdout",
     "output_type": "stream",
     "text": [
      "\r",
      "Epoch 793/1000:  79%|███████▉  | 792/1000 [1:52:15<29:07,  8.40s/it, v_num=ow_1, total_loss_train=1.45e+3, kl_local_train=38]"
     ]
    },
    {
     "name": "stdout",
     "output_type": "stream",
     "text": [
      "\r",
      "Epoch 793/1000:  79%|███████▉  | 793/1000 [1:52:23<28:48,  8.35s/it, v_num=ow_1, total_loss_train=1.45e+3, kl_local_train=38]"
     ]
    },
    {
     "name": "stdout",
     "output_type": "stream",
     "text": [
      "\r",
      "Epoch 793/1000:  79%|███████▉  | 793/1000 [1:52:23<28:48,  8.35s/it, v_num=ow_1, total_loss_train=1.45e+3, kl_local_train=38]"
     ]
    },
    {
     "name": "stdout",
     "output_type": "stream",
     "text": [
      "\r",
      "Epoch 794/1000:  79%|███████▉  | 793/1000 [1:52:23<28:48,  8.35s/it, v_num=ow_1, total_loss_train=1.45e+3, kl_local_train=38]"
     ]
    },
    {
     "name": "stdout",
     "output_type": "stream",
     "text": [
      "\r",
      "Epoch 794/1000:  79%|███████▉  | 794/1000 [1:52:31<28:36,  8.33s/it, v_num=ow_1, total_loss_train=1.45e+3, kl_local_train=38]"
     ]
    },
    {
     "name": "stdout",
     "output_type": "stream",
     "text": [
      "\r",
      "Epoch 794/1000:  79%|███████▉  | 794/1000 [1:52:31<28:36,  8.33s/it, v_num=ow_1, total_loss_train=1.45e+3, kl_local_train=37.7]"
     ]
    },
    {
     "name": "stdout",
     "output_type": "stream",
     "text": [
      "\r",
      "Epoch 795/1000:  79%|███████▉  | 794/1000 [1:52:31<28:36,  8.33s/it, v_num=ow_1, total_loss_train=1.45e+3, kl_local_train=37.7]"
     ]
    },
    {
     "name": "stdout",
     "output_type": "stream",
     "text": [
      "\r",
      "Epoch 795/1000:  80%|███████▉  | 795/1000 [1:52:39<27:56,  8.18s/it, v_num=ow_1, total_loss_train=1.45e+3, kl_local_train=37.7]"
     ]
    },
    {
     "name": "stdout",
     "output_type": "stream",
     "text": [
      "\r",
      "Epoch 795/1000:  80%|███████▉  | 795/1000 [1:52:39<27:56,  8.18s/it, v_num=ow_1, total_loss_train=1.45e+3, kl_local_train=37.8]"
     ]
    },
    {
     "name": "stdout",
     "output_type": "stream",
     "text": [
      "\r",
      "Epoch 796/1000:  80%|███████▉  | 795/1000 [1:52:39<27:56,  8.18s/it, v_num=ow_1, total_loss_train=1.45e+3, kl_local_train=37.8]"
     ]
    },
    {
     "name": "stdout",
     "output_type": "stream",
     "text": [
      "\r",
      "Epoch 796/1000:  80%|███████▉  | 796/1000 [1:52:46<27:02,  7.95s/it, v_num=ow_1, total_loss_train=1.45e+3, kl_local_train=37.8]"
     ]
    },
    {
     "name": "stdout",
     "output_type": "stream",
     "text": [
      "\r",
      "Epoch 796/1000:  80%|███████▉  | 796/1000 [1:52:46<27:02,  7.95s/it, v_num=ow_1, total_loss_train=1.45e+3, kl_local_train=37.9]"
     ]
    },
    {
     "name": "stdout",
     "output_type": "stream",
     "text": [
      "\r",
      "Epoch 797/1000:  80%|███████▉  | 796/1000 [1:52:46<27:02,  7.95s/it, v_num=ow_1, total_loss_train=1.45e+3, kl_local_train=37.9]"
     ]
    },
    {
     "name": "stdout",
     "output_type": "stream",
     "text": [
      "\r",
      "Epoch 797/1000:  80%|███████▉  | 797/1000 [1:52:54<27:01,  7.99s/it, v_num=ow_1, total_loss_train=1.45e+3, kl_local_train=37.9]"
     ]
    },
    {
     "name": "stdout",
     "output_type": "stream",
     "text": [
      "\r",
      "Epoch 797/1000:  80%|███████▉  | 797/1000 [1:52:54<27:01,  7.99s/it, v_num=ow_1, total_loss_train=1.45e+3, kl_local_train=37.9]"
     ]
    },
    {
     "name": "stdout",
     "output_type": "stream",
     "text": [
      "\r",
      "Epoch 798/1000:  80%|███████▉  | 797/1000 [1:52:54<27:01,  7.99s/it, v_num=ow_1, total_loss_train=1.45e+3, kl_local_train=37.9]"
     ]
    },
    {
     "name": "stdout",
     "output_type": "stream",
     "text": [
      "\r",
      "Epoch 798/1000:  80%|███████▉  | 798/1000 [1:53:02<26:56,  8.00s/it, v_num=ow_1, total_loss_train=1.45e+3, kl_local_train=37.9]"
     ]
    },
    {
     "name": "stdout",
     "output_type": "stream",
     "text": [
      "\r",
      "Epoch 798/1000:  80%|███████▉  | 798/1000 [1:53:02<26:56,  8.00s/it, v_num=ow_1, total_loss_train=1.45e+3, kl_local_train=37.9]"
     ]
    },
    {
     "name": "stdout",
     "output_type": "stream",
     "text": [
      "\r",
      "Epoch 799/1000:  80%|███████▉  | 798/1000 [1:53:02<26:56,  8.00s/it, v_num=ow_1, total_loss_train=1.45e+3, kl_local_train=37.9]"
     ]
    },
    {
     "name": "stdout",
     "output_type": "stream",
     "text": [
      "\r",
      "Epoch 799/1000:  80%|███████▉  | 799/1000 [1:53:10<26:51,  8.02s/it, v_num=ow_1, total_loss_train=1.45e+3, kl_local_train=37.9]"
     ]
    },
    {
     "name": "stdout",
     "output_type": "stream",
     "text": [
      "\r",
      "Epoch 799/1000:  80%|███████▉  | 799/1000 [1:53:10<26:51,  8.02s/it, v_num=ow_1, total_loss_train=1.45e+3, kl_local_train=37.9]"
     ]
    },
    {
     "name": "stdout",
     "output_type": "stream",
     "text": [
      "\r",
      "Epoch 800/1000:  80%|███████▉  | 799/1000 [1:53:10<26:51,  8.02s/it, v_num=ow_1, total_loss_train=1.45e+3, kl_local_train=37.9]"
     ]
    },
    {
     "name": "stdout",
     "output_type": "stream",
     "text": [
      "\r",
      "Epoch 800/1000:  80%|████████  | 800/1000 [1:53:18<26:44,  8.02s/it, v_num=ow_1, total_loss_train=1.45e+3, kl_local_train=37.9]"
     ]
    },
    {
     "name": "stdout",
     "output_type": "stream",
     "text": [
      "\r",
      "Epoch 800/1000:  80%|████████  | 800/1000 [1:53:18<26:44,  8.02s/it, v_num=ow_1, total_loss_train=1.45e+3, kl_local_train=37.9]"
     ]
    },
    {
     "name": "stdout",
     "output_type": "stream",
     "text": [
      "\r",
      "Epoch 801/1000:  80%|████████  | 800/1000 [1:53:18<26:44,  8.02s/it, v_num=ow_1, total_loss_train=1.45e+3, kl_local_train=37.9]"
     ]
    },
    {
     "name": "stdout",
     "output_type": "stream",
     "text": [
      "\r",
      "Epoch 801/1000:  80%|████████  | 801/1000 [1:53:26<25:51,  7.80s/it, v_num=ow_1, total_loss_train=1.45e+3, kl_local_train=37.9]"
     ]
    },
    {
     "name": "stdout",
     "output_type": "stream",
     "text": [
      "\r",
      "Epoch 801/1000:  80%|████████  | 801/1000 [1:53:26<25:51,  7.80s/it, v_num=ow_1, total_loss_train=1.45e+3, kl_local_train=37.9]"
     ]
    },
    {
     "name": "stdout",
     "output_type": "stream",
     "text": [
      "\r",
      "Epoch 802/1000:  80%|████████  | 801/1000 [1:53:26<25:51,  7.80s/it, v_num=ow_1, total_loss_train=1.45e+3, kl_local_train=37.9]"
     ]
    },
    {
     "name": "stdout",
     "output_type": "stream",
     "text": [
      "\r",
      "Epoch 802/1000:  80%|████████  | 802/1000 [1:53:34<25:57,  7.87s/it, v_num=ow_1, total_loss_train=1.45e+3, kl_local_train=37.9]"
     ]
    },
    {
     "name": "stdout",
     "output_type": "stream",
     "text": [
      "\r",
      "Epoch 802/1000:  80%|████████  | 802/1000 [1:53:34<25:57,  7.87s/it, v_num=ow_1, total_loss_train=1.45e+3, kl_local_train=37.9]"
     ]
    },
    {
     "name": "stdout",
     "output_type": "stream",
     "text": [
      "\r",
      "Epoch 803/1000:  80%|████████  | 802/1000 [1:53:34<25:57,  7.87s/it, v_num=ow_1, total_loss_train=1.45e+3, kl_local_train=37.9]"
     ]
    },
    {
     "name": "stdout",
     "output_type": "stream",
     "text": [
      "\r",
      "Epoch 803/1000:  80%|████████  | 803/1000 [1:53:42<25:55,  7.90s/it, v_num=ow_1, total_loss_train=1.45e+3, kl_local_train=37.9]"
     ]
    },
    {
     "name": "stdout",
     "output_type": "stream",
     "text": [
      "\r",
      "Epoch 803/1000:  80%|████████  | 803/1000 [1:53:42<25:55,  7.90s/it, v_num=ow_1, total_loss_train=1.45e+3, kl_local_train=37.9]"
     ]
    },
    {
     "name": "stdout",
     "output_type": "stream",
     "text": [
      "\r",
      "Epoch 804/1000:  80%|████████  | 803/1000 [1:53:42<25:55,  7.90s/it, v_num=ow_1, total_loss_train=1.45e+3, kl_local_train=37.9]"
     ]
    },
    {
     "name": "stdout",
     "output_type": "stream",
     "text": [
      "\r",
      "Epoch 804/1000:  80%|████████  | 804/1000 [1:53:50<25:56,  7.94s/it, v_num=ow_1, total_loss_train=1.45e+3, kl_local_train=37.9]"
     ]
    },
    {
     "name": "stdout",
     "output_type": "stream",
     "text": [
      "\r",
      "Epoch 804/1000:  80%|████████  | 804/1000 [1:53:50<25:56,  7.94s/it, v_num=ow_1, total_loss_train=1.45e+3, kl_local_train=38]  "
     ]
    },
    {
     "name": "stdout",
     "output_type": "stream",
     "text": [
      "\r",
      "Epoch 805/1000:  80%|████████  | 804/1000 [1:53:50<25:56,  7.94s/it, v_num=ow_1, total_loss_train=1.45e+3, kl_local_train=38]"
     ]
    },
    {
     "name": "stdout",
     "output_type": "stream",
     "text": [
      "\r",
      "Epoch 805/1000:  80%|████████  | 805/1000 [1:53:58<25:55,  7.98s/it, v_num=ow_1, total_loss_train=1.45e+3, kl_local_train=38]"
     ]
    },
    {
     "name": "stdout",
     "output_type": "stream",
     "text": [
      "\r",
      "Epoch 805/1000:  80%|████████  | 805/1000 [1:53:58<25:55,  7.98s/it, v_num=ow_1, total_loss_train=1.45e+3, kl_local_train=37.9]"
     ]
    },
    {
     "name": "stdout",
     "output_type": "stream",
     "text": [
      "\r",
      "Epoch 806/1000:  80%|████████  | 805/1000 [1:53:58<25:55,  7.98s/it, v_num=ow_1, total_loss_train=1.45e+3, kl_local_train=37.9]"
     ]
    },
    {
     "name": "stdout",
     "output_type": "stream",
     "text": [
      "\r",
      "Epoch 806/1000:  81%|████████  | 806/1000 [1:54:06<25:47,  7.98s/it, v_num=ow_1, total_loss_train=1.45e+3, kl_local_train=37.9]"
     ]
    },
    {
     "name": "stdout",
     "output_type": "stream",
     "text": [
      "\r",
      "Epoch 806/1000:  81%|████████  | 806/1000 [1:54:06<25:47,  7.98s/it, v_num=ow_1, total_loss_train=1.45e+3, kl_local_train=37.8]"
     ]
    },
    {
     "name": "stdout",
     "output_type": "stream",
     "text": [
      "\r",
      "Epoch 807/1000:  81%|████████  | 806/1000 [1:54:06<25:47,  7.98s/it, v_num=ow_1, total_loss_train=1.45e+3, kl_local_train=37.8]"
     ]
    },
    {
     "name": "stdout",
     "output_type": "stream",
     "text": [
      "\r",
      "Epoch 807/1000:  81%|████████  | 807/1000 [1:54:14<25:38,  7.97s/it, v_num=ow_1, total_loss_train=1.45e+3, kl_local_train=37.8]"
     ]
    },
    {
     "name": "stdout",
     "output_type": "stream",
     "text": [
      "\r",
      "Epoch 807/1000:  81%|████████  | 807/1000 [1:54:14<25:38,  7.97s/it, v_num=ow_1, total_loss_train=1.45e+3, kl_local_train=37.9]"
     ]
    },
    {
     "name": "stdout",
     "output_type": "stream",
     "text": [
      "\r",
      "Epoch 808/1000:  81%|████████  | 807/1000 [1:54:14<25:38,  7.97s/it, v_num=ow_1, total_loss_train=1.45e+3, kl_local_train=37.9]"
     ]
    },
    {
     "name": "stdout",
     "output_type": "stream",
     "text": [
      "\r",
      "Epoch 808/1000:  81%|████████  | 808/1000 [1:54:22<25:32,  7.98s/it, v_num=ow_1, total_loss_train=1.45e+3, kl_local_train=37.9]"
     ]
    },
    {
     "name": "stdout",
     "output_type": "stream",
     "text": [
      "\r",
      "Epoch 808/1000:  81%|████████  | 808/1000 [1:54:22<25:32,  7.98s/it, v_num=ow_1, total_loss_train=1.45e+3, kl_local_train=37.7]"
     ]
    },
    {
     "name": "stdout",
     "output_type": "stream",
     "text": [
      "\r",
      "Epoch 809/1000:  81%|████████  | 808/1000 [1:54:22<25:32,  7.98s/it, v_num=ow_1, total_loss_train=1.45e+3, kl_local_train=37.7]"
     ]
    },
    {
     "name": "stdout",
     "output_type": "stream",
     "text": [
      "\r",
      "Epoch 809/1000:  81%|████████  | 809/1000 [1:54:30<25:58,  8.16s/it, v_num=ow_1, total_loss_train=1.45e+3, kl_local_train=37.7]"
     ]
    },
    {
     "name": "stdout",
     "output_type": "stream",
     "text": [
      "\r",
      "Epoch 809/1000:  81%|████████  | 809/1000 [1:54:30<25:58,  8.16s/it, v_num=ow_1, total_loss_train=1.45e+3, kl_local_train=38]  "
     ]
    },
    {
     "name": "stdout",
     "output_type": "stream",
     "text": [
      "\r",
      "Epoch 810/1000:  81%|████████  | 809/1000 [1:54:30<25:58,  8.16s/it, v_num=ow_1, total_loss_train=1.45e+3, kl_local_train=38]"
     ]
    },
    {
     "name": "stdout",
     "output_type": "stream",
     "text": [
      "\r",
      "Epoch 810/1000:  81%|████████  | 810/1000 [1:54:39<26:01,  8.22s/it, v_num=ow_1, total_loss_train=1.45e+3, kl_local_train=38]"
     ]
    },
    {
     "name": "stdout",
     "output_type": "stream",
     "text": [
      "\r",
      "Epoch 810/1000:  81%|████████  | 810/1000 [1:54:39<26:01,  8.22s/it, v_num=ow_1, total_loss_train=1.45e+3, kl_local_train=37.9]"
     ]
    },
    {
     "name": "stdout",
     "output_type": "stream",
     "text": [
      "\r",
      "Epoch 811/1000:  81%|████████  | 810/1000 [1:54:39<26:01,  8.22s/it, v_num=ow_1, total_loss_train=1.45e+3, kl_local_train=37.9]"
     ]
    },
    {
     "name": "stdout",
     "output_type": "stream",
     "text": [
      "\r",
      "Epoch 811/1000:  81%|████████  | 811/1000 [1:54:48<26:28,  8.40s/it, v_num=ow_1, total_loss_train=1.45e+3, kl_local_train=37.9]"
     ]
    },
    {
     "name": "stdout",
     "output_type": "stream",
     "text": [
      "\r",
      "Epoch 811/1000:  81%|████████  | 811/1000 [1:54:48<26:28,  8.40s/it, v_num=ow_1, total_loss_train=1.45e+3, kl_local_train=38]  "
     ]
    },
    {
     "name": "stdout",
     "output_type": "stream",
     "text": [
      "\r",
      "Epoch 812/1000:  81%|████████  | 811/1000 [1:54:48<26:28,  8.40s/it, v_num=ow_1, total_loss_train=1.45e+3, kl_local_train=38]"
     ]
    },
    {
     "name": "stdout",
     "output_type": "stream",
     "text": [
      "\r",
      "Epoch 812/1000:  81%|████████  | 812/1000 [1:54:56<26:19,  8.40s/it, v_num=ow_1, total_loss_train=1.45e+3, kl_local_train=38]"
     ]
    },
    {
     "name": "stdout",
     "output_type": "stream",
     "text": [
      "\r",
      "Epoch 812/1000:  81%|████████  | 812/1000 [1:54:56<26:19,  8.40s/it, v_num=ow_1, total_loss_train=1.45e+3, kl_local_train=37.8]"
     ]
    },
    {
     "name": "stdout",
     "output_type": "stream",
     "text": [
      "\r",
      "Epoch 813/1000:  81%|████████  | 812/1000 [1:54:56<26:19,  8.40s/it, v_num=ow_1, total_loss_train=1.45e+3, kl_local_train=37.8]"
     ]
    },
    {
     "name": "stdout",
     "output_type": "stream",
     "text": [
      "\r",
      "Epoch 813/1000:  81%|████████▏ | 813/1000 [1:55:04<26:15,  8.43s/it, v_num=ow_1, total_loss_train=1.45e+3, kl_local_train=37.8]"
     ]
    },
    {
     "name": "stdout",
     "output_type": "stream",
     "text": [
      "\r",
      "Epoch 813/1000:  81%|████████▏ | 813/1000 [1:55:04<26:15,  8.43s/it, v_num=ow_1, total_loss_train=1.45e+3, kl_local_train=38]  "
     ]
    },
    {
     "name": "stdout",
     "output_type": "stream",
     "text": [
      "\r",
      "Epoch 814/1000:  81%|████████▏ | 813/1000 [1:55:04<26:15,  8.43s/it, v_num=ow_1, total_loss_train=1.45e+3, kl_local_train=38]"
     ]
    },
    {
     "name": "stdout",
     "output_type": "stream",
     "text": [
      "\r",
      "Epoch 814/1000:  81%|████████▏ | 814/1000 [1:55:14<27:17,  8.80s/it, v_num=ow_1, total_loss_train=1.45e+3, kl_local_train=38]"
     ]
    },
    {
     "name": "stdout",
     "output_type": "stream",
     "text": [
      "\r",
      "Epoch 814/1000:  81%|████████▏ | 814/1000 [1:55:14<27:17,  8.80s/it, v_num=ow_1, total_loss_train=1.45e+3, kl_local_train=38]"
     ]
    },
    {
     "name": "stdout",
     "output_type": "stream",
     "text": [
      "\r",
      "Epoch 815/1000:  81%|████████▏ | 814/1000 [1:55:14<27:17,  8.80s/it, v_num=ow_1, total_loss_train=1.45e+3, kl_local_train=38]"
     ]
    },
    {
     "name": "stdout",
     "output_type": "stream",
     "text": [
      "\r",
      "Epoch 815/1000:  82%|████████▏ | 815/1000 [1:55:24<27:49,  9.02s/it, v_num=ow_1, total_loss_train=1.45e+3, kl_local_train=38]"
     ]
    },
    {
     "name": "stdout",
     "output_type": "stream",
     "text": [
      "\r",
      "Epoch 815/1000:  82%|████████▏ | 815/1000 [1:55:24<27:49,  9.02s/it, v_num=ow_1, total_loss_train=1.45e+3, kl_local_train=37.9]"
     ]
    },
    {
     "name": "stdout",
     "output_type": "stream",
     "text": [
      "\r",
      "Epoch 816/1000:  82%|████████▏ | 815/1000 [1:55:24<27:49,  9.02s/it, v_num=ow_1, total_loss_train=1.45e+3, kl_local_train=37.9]"
     ]
    },
    {
     "name": "stdout",
     "output_type": "stream",
     "text": [
      "\r",
      "Epoch 816/1000:  82%|████████▏ | 816/1000 [1:55:32<26:56,  8.78s/it, v_num=ow_1, total_loss_train=1.45e+3, kl_local_train=37.9]"
     ]
    },
    {
     "name": "stdout",
     "output_type": "stream",
     "text": [
      "\r",
      "Epoch 816/1000:  82%|████████▏ | 816/1000 [1:55:32<26:56,  8.78s/it, v_num=ow_1, total_loss_train=1.45e+3, kl_local_train=37.9]"
     ]
    },
    {
     "name": "stdout",
     "output_type": "stream",
     "text": [
      "\r",
      "Epoch 817/1000:  82%|████████▏ | 816/1000 [1:55:32<26:56,  8.78s/it, v_num=ow_1, total_loss_train=1.45e+3, kl_local_train=37.9]"
     ]
    },
    {
     "name": "stdout",
     "output_type": "stream",
     "text": [
      "\r",
      "Epoch 817/1000:  82%|████████▏ | 817/1000 [1:55:41<27:12,  8.92s/it, v_num=ow_1, total_loss_train=1.45e+3, kl_local_train=37.9]"
     ]
    },
    {
     "name": "stdout",
     "output_type": "stream",
     "text": [
      "\r",
      "Epoch 817/1000:  82%|████████▏ | 817/1000 [1:55:41<27:12,  8.92s/it, v_num=ow_1, total_loss_train=1.45e+3, kl_local_train=37.8]"
     ]
    },
    {
     "name": "stdout",
     "output_type": "stream",
     "text": [
      "\r",
      "Epoch 818/1000:  82%|████████▏ | 817/1000 [1:55:41<27:12,  8.92s/it, v_num=ow_1, total_loss_train=1.45e+3, kl_local_train=37.8]"
     ]
    },
    {
     "name": "stdout",
     "output_type": "stream",
     "text": [
      "\r",
      "Epoch 818/1000:  82%|████████▏ | 818/1000 [1:55:50<26:44,  8.81s/it, v_num=ow_1, total_loss_train=1.45e+3, kl_local_train=37.8]"
     ]
    },
    {
     "name": "stdout",
     "output_type": "stream",
     "text": [
      "\r",
      "Epoch 818/1000:  82%|████████▏ | 818/1000 [1:55:50<26:44,  8.81s/it, v_num=ow_1, total_loss_train=1.45e+3, kl_local_train=37.7]"
     ]
    },
    {
     "name": "stdout",
     "output_type": "stream",
     "text": [
      "\r",
      "Epoch 819/1000:  82%|████████▏ | 818/1000 [1:55:50<26:44,  8.81s/it, v_num=ow_1, total_loss_train=1.45e+3, kl_local_train=37.7]"
     ]
    },
    {
     "name": "stdout",
     "output_type": "stream",
     "text": [
      "\r",
      "Epoch 819/1000:  82%|████████▏ | 819/1000 [1:55:59<27:11,  9.01s/it, v_num=ow_1, total_loss_train=1.45e+3, kl_local_train=37.7]"
     ]
    },
    {
     "name": "stdout",
     "output_type": "stream",
     "text": [
      "\r",
      "Epoch 819/1000:  82%|████████▏ | 819/1000 [1:55:59<27:11,  9.01s/it, v_num=ow_1, total_loss_train=1.45e+3, kl_local_train=37.8]"
     ]
    },
    {
     "name": "stdout",
     "output_type": "stream",
     "text": [
      "\r",
      "Epoch 820/1000:  82%|████████▏ | 819/1000 [1:55:59<27:11,  9.01s/it, v_num=ow_1, total_loss_train=1.45e+3, kl_local_train=37.8]"
     ]
    },
    {
     "name": "stdout",
     "output_type": "stream",
     "text": [
      "\r",
      "Epoch 820/1000:  82%|████████▏ | 820/1000 [1:56:07<26:01,  8.67s/it, v_num=ow_1, total_loss_train=1.45e+3, kl_local_train=37.8]"
     ]
    },
    {
     "name": "stdout",
     "output_type": "stream",
     "text": [
      "\r",
      "Epoch 820/1000:  82%|████████▏ | 820/1000 [1:56:07<26:01,  8.67s/it, v_num=ow_1, total_loss_train=1.45e+3, kl_local_train=38.1]"
     ]
    },
    {
     "name": "stdout",
     "output_type": "stream",
     "text": [
      "\r",
      "Epoch 821/1000:  82%|████████▏ | 820/1000 [1:56:07<26:01,  8.67s/it, v_num=ow_1, total_loss_train=1.45e+3, kl_local_train=38.1]"
     ]
    },
    {
     "name": "stdout",
     "output_type": "stream",
     "text": [
      "\r",
      "Epoch 821/1000:  82%|████████▏ | 821/1000 [1:56:16<25:48,  8.65s/it, v_num=ow_1, total_loss_train=1.45e+3, kl_local_train=38.1]"
     ]
    },
    {
     "name": "stdout",
     "output_type": "stream",
     "text": [
      "\r",
      "Epoch 821/1000:  82%|████████▏ | 821/1000 [1:56:16<25:48,  8.65s/it, v_num=ow_1, total_loss_train=1.45e+3, kl_local_train=37.8]"
     ]
    },
    {
     "name": "stdout",
     "output_type": "stream",
     "text": [
      "\r",
      "Epoch 822/1000:  82%|████████▏ | 821/1000 [1:56:16<25:48,  8.65s/it, v_num=ow_1, total_loss_train=1.45e+3, kl_local_train=37.8]"
     ]
    },
    {
     "name": "stdout",
     "output_type": "stream",
     "text": [
      "\r",
      "Epoch 822/1000:  82%|████████▏ | 822/1000 [1:56:24<25:35,  8.63s/it, v_num=ow_1, total_loss_train=1.45e+3, kl_local_train=37.8]"
     ]
    },
    {
     "name": "stdout",
     "output_type": "stream",
     "text": [
      "\r",
      "Epoch 822/1000:  82%|████████▏ | 822/1000 [1:56:24<25:35,  8.63s/it, v_num=ow_1, total_loss_train=1.45e+3, kl_local_train=37.9]"
     ]
    },
    {
     "name": "stdout",
     "output_type": "stream",
     "text": [
      "\r",
      "Epoch 823/1000:  82%|████████▏ | 822/1000 [1:56:24<25:35,  8.63s/it, v_num=ow_1, total_loss_train=1.45e+3, kl_local_train=37.9]"
     ]
    },
    {
     "name": "stdout",
     "output_type": "stream",
     "text": [
      "\r",
      "Epoch 823/1000:  82%|████████▏ | 823/1000 [1:56:33<25:21,  8.59s/it, v_num=ow_1, total_loss_train=1.45e+3, kl_local_train=37.9]"
     ]
    },
    {
     "name": "stdout",
     "output_type": "stream",
     "text": [
      "\r",
      "Epoch 823/1000:  82%|████████▏ | 823/1000 [1:56:33<25:21,  8.59s/it, v_num=ow_1, total_loss_train=1.45e+3, kl_local_train=37.9]"
     ]
    },
    {
     "name": "stdout",
     "output_type": "stream",
     "text": [
      "\r",
      "Epoch 824/1000:  82%|████████▏ | 823/1000 [1:56:33<25:21,  8.59s/it, v_num=ow_1, total_loss_train=1.45e+3, kl_local_train=37.9]"
     ]
    },
    {
     "name": "stdout",
     "output_type": "stream",
     "text": [
      "\r",
      "Epoch 824/1000:  82%|████████▏ | 824/1000 [1:56:41<25:04,  8.55s/it, v_num=ow_1, total_loss_train=1.45e+3, kl_local_train=37.9]"
     ]
    },
    {
     "name": "stdout",
     "output_type": "stream",
     "text": [
      "\r",
      "Epoch 824/1000:  82%|████████▏ | 824/1000 [1:56:41<25:04,  8.55s/it, v_num=ow_1, total_loss_train=1.45e+3, kl_local_train=37.8]"
     ]
    },
    {
     "name": "stdout",
     "output_type": "stream",
     "text": [
      "\r",
      "Epoch 825/1000:  82%|████████▏ | 824/1000 [1:56:41<25:04,  8.55s/it, v_num=ow_1, total_loss_train=1.45e+3, kl_local_train=37.8]"
     ]
    },
    {
     "name": "stdout",
     "output_type": "stream",
     "text": [
      "\r",
      "Epoch 825/1000:  82%|████████▎ | 825/1000 [1:56:49<24:31,  8.41s/it, v_num=ow_1, total_loss_train=1.45e+3, kl_local_train=37.8]"
     ]
    },
    {
     "name": "stdout",
     "output_type": "stream",
     "text": [
      "\r",
      "Epoch 825/1000:  82%|████████▎ | 825/1000 [1:56:49<24:31,  8.41s/it, v_num=ow_1, total_loss_train=1.45e+3, kl_local_train=37.9]"
     ]
    },
    {
     "name": "stdout",
     "output_type": "stream",
     "text": [
      "\r",
      "Epoch 826/1000:  82%|████████▎ | 825/1000 [1:56:49<24:31,  8.41s/it, v_num=ow_1, total_loss_train=1.45e+3, kl_local_train=37.9]"
     ]
    },
    {
     "name": "stdout",
     "output_type": "stream",
     "text": [
      "\r",
      "Epoch 826/1000:  83%|████████▎ | 826/1000 [1:56:57<23:35,  8.13s/it, v_num=ow_1, total_loss_train=1.45e+3, kl_local_train=37.9]"
     ]
    },
    {
     "name": "stdout",
     "output_type": "stream",
     "text": [
      "\r",
      "Epoch 826/1000:  83%|████████▎ | 826/1000 [1:56:57<23:35,  8.13s/it, v_num=ow_1, total_loss_train=1.45e+3, kl_local_train=37.9]"
     ]
    },
    {
     "name": "stdout",
     "output_type": "stream",
     "text": [
      "\r",
      "Epoch 827/1000:  83%|████████▎ | 826/1000 [1:56:57<23:35,  8.13s/it, v_num=ow_1, total_loss_train=1.45e+3, kl_local_train=37.9]"
     ]
    },
    {
     "name": "stdout",
     "output_type": "stream",
     "text": [
      "\r",
      "Epoch 827/1000:  83%|████████▎ | 827/1000 [1:57:05<23:22,  8.11s/it, v_num=ow_1, total_loss_train=1.45e+3, kl_local_train=37.9]"
     ]
    },
    {
     "name": "stdout",
     "output_type": "stream",
     "text": [
      "\r",
      "Epoch 827/1000:  83%|████████▎ | 827/1000 [1:57:05<23:22,  8.11s/it, v_num=ow_1, total_loss_train=1.45e+3, kl_local_train=37.9]"
     ]
    },
    {
     "name": "stdout",
     "output_type": "stream",
     "text": [
      "\r",
      "Epoch 828/1000:  83%|████████▎ | 827/1000 [1:57:05<23:22,  8.11s/it, v_num=ow_1, total_loss_train=1.45e+3, kl_local_train=37.9]"
     ]
    },
    {
     "name": "stdout",
     "output_type": "stream",
     "text": [
      "\r",
      "Epoch 828/1000:  83%|████████▎ | 828/1000 [1:57:14<24:10,  8.43s/it, v_num=ow_1, total_loss_train=1.45e+3, kl_local_train=37.9]"
     ]
    },
    {
     "name": "stdout",
     "output_type": "stream",
     "text": [
      "\r",
      "Epoch 828/1000:  83%|████████▎ | 828/1000 [1:57:14<24:10,  8.43s/it, v_num=ow_1, total_loss_train=1.45e+3, kl_local_train=37.9]"
     ]
    },
    {
     "name": "stdout",
     "output_type": "stream",
     "text": [
      "\r",
      "Epoch 829/1000:  83%|████████▎ | 828/1000 [1:57:14<24:10,  8.43s/it, v_num=ow_1, total_loss_train=1.45e+3, kl_local_train=37.9]"
     ]
    },
    {
     "name": "stdout",
     "output_type": "stream",
     "text": [
      "\r",
      "Epoch 829/1000:  83%|████████▎ | 829/1000 [1:57:22<23:49,  8.36s/it, v_num=ow_1, total_loss_train=1.45e+3, kl_local_train=37.9]"
     ]
    },
    {
     "name": "stdout",
     "output_type": "stream",
     "text": [
      "\r",
      "Epoch 829/1000:  83%|████████▎ | 829/1000 [1:57:22<23:49,  8.36s/it, v_num=ow_1, total_loss_train=1.45e+3, kl_local_train=38]  "
     ]
    },
    {
     "name": "stdout",
     "output_type": "stream",
     "text": [
      "\r",
      "Epoch 830/1000:  83%|████████▎ | 829/1000 [1:57:22<23:49,  8.36s/it, v_num=ow_1, total_loss_train=1.45e+3, kl_local_train=38]"
     ]
    },
    {
     "name": "stdout",
     "output_type": "stream",
     "text": [
      "\r",
      "Epoch 830/1000:  83%|████████▎ | 830/1000 [1:57:30<23:26,  8.28s/it, v_num=ow_1, total_loss_train=1.45e+3, kl_local_train=38]"
     ]
    },
    {
     "name": "stdout",
     "output_type": "stream",
     "text": [
      "\r",
      "Epoch 830/1000:  83%|████████▎ | 830/1000 [1:57:30<23:26,  8.28s/it, v_num=ow_1, total_loss_train=1.45e+3, kl_local_train=37.8]"
     ]
    },
    {
     "name": "stdout",
     "output_type": "stream",
     "text": [
      "\r",
      "Epoch 831/1000:  83%|████████▎ | 830/1000 [1:57:30<23:26,  8.28s/it, v_num=ow_1, total_loss_train=1.45e+3, kl_local_train=37.8]"
     ]
    },
    {
     "name": "stdout",
     "output_type": "stream",
     "text": [
      "\r",
      "Epoch 831/1000:  83%|████████▎ | 831/1000 [1:57:38<23:03,  8.19s/it, v_num=ow_1, total_loss_train=1.45e+3, kl_local_train=37.8]"
     ]
    },
    {
     "name": "stdout",
     "output_type": "stream",
     "text": [
      "\r",
      "Epoch 831/1000:  83%|████████▎ | 831/1000 [1:57:38<23:03,  8.19s/it, v_num=ow_1, total_loss_train=1.45e+3, kl_local_train=37.9]"
     ]
    },
    {
     "name": "stdout",
     "output_type": "stream",
     "text": [
      "\r",
      "Epoch 832/1000:  83%|████████▎ | 831/1000 [1:57:38<23:03,  8.19s/it, v_num=ow_1, total_loss_train=1.45e+3, kl_local_train=37.9]"
     ]
    },
    {
     "name": "stdout",
     "output_type": "stream",
     "text": [
      "\r",
      "Epoch 832/1000:  83%|████████▎ | 832/1000 [1:57:46<22:48,  8.14s/it, v_num=ow_1, total_loss_train=1.45e+3, kl_local_train=37.9]"
     ]
    },
    {
     "name": "stdout",
     "output_type": "stream",
     "text": [
      "\r",
      "Epoch 832/1000:  83%|████████▎ | 832/1000 [1:57:46<22:48,  8.14s/it, v_num=ow_1, total_loss_train=1.45e+3, kl_local_train=37.8]"
     ]
    },
    {
     "name": "stdout",
     "output_type": "stream",
     "text": [
      "\r",
      "Epoch 833/1000:  83%|████████▎ | 832/1000 [1:57:46<22:48,  8.14s/it, v_num=ow_1, total_loss_train=1.45e+3, kl_local_train=37.8]"
     ]
    },
    {
     "name": "stdout",
     "output_type": "stream",
     "text": [
      "\r",
      "Epoch 833/1000:  83%|████████▎ | 833/1000 [1:57:55<23:29,  8.44s/it, v_num=ow_1, total_loss_train=1.45e+3, kl_local_train=37.8]"
     ]
    },
    {
     "name": "stdout",
     "output_type": "stream",
     "text": [
      "\r",
      "Epoch 833/1000:  83%|████████▎ | 833/1000 [1:57:55<23:29,  8.44s/it, v_num=ow_1, total_loss_train=1.45e+3, kl_local_train=38]  "
     ]
    },
    {
     "name": "stdout",
     "output_type": "stream",
     "text": [
      "\r",
      "Epoch 834/1000:  83%|████████▎ | 833/1000 [1:57:55<23:29,  8.44s/it, v_num=ow_1, total_loss_train=1.45e+3, kl_local_train=38]"
     ]
    },
    {
     "name": "stdout",
     "output_type": "stream",
     "text": [
      "\r",
      "Epoch 834/1000:  83%|████████▎ | 834/1000 [1:58:03<22:28,  8.12s/it, v_num=ow_1, total_loss_train=1.45e+3, kl_local_train=38]"
     ]
    },
    {
     "name": "stdout",
     "output_type": "stream",
     "text": [
      "\r",
      "Epoch 834/1000:  83%|████████▎ | 834/1000 [1:58:03<22:28,  8.12s/it, v_num=ow_1, total_loss_train=1.45e+3, kl_local_train=38]"
     ]
    },
    {
     "name": "stdout",
     "output_type": "stream",
     "text": [
      "\r",
      "Epoch 835/1000:  83%|████████▎ | 834/1000 [1:58:03<22:28,  8.12s/it, v_num=ow_1, total_loss_train=1.45e+3, kl_local_train=38]"
     ]
    },
    {
     "name": "stdout",
     "output_type": "stream",
     "text": [
      "\r",
      "Epoch 835/1000:  84%|████████▎ | 835/1000 [1:58:11<22:15,  8.09s/it, v_num=ow_1, total_loss_train=1.45e+3, kl_local_train=38]"
     ]
    },
    {
     "name": "stdout",
     "output_type": "stream",
     "text": [
      "\r",
      "Epoch 835/1000:  84%|████████▎ | 835/1000 [1:58:11<22:15,  8.09s/it, v_num=ow_1, total_loss_train=1.45e+3, kl_local_train=37.8]"
     ]
    },
    {
     "name": "stdout",
     "output_type": "stream",
     "text": [
      "\r",
      "Epoch 836/1000:  84%|████████▎ | 835/1000 [1:58:11<22:15,  8.09s/it, v_num=ow_1, total_loss_train=1.45e+3, kl_local_train=37.8]"
     ]
    },
    {
     "name": "stdout",
     "output_type": "stream",
     "text": [
      "\r",
      "Epoch 836/1000:  84%|████████▎ | 836/1000 [1:58:19<22:04,  8.08s/it, v_num=ow_1, total_loss_train=1.45e+3, kl_local_train=37.8]"
     ]
    },
    {
     "name": "stdout",
     "output_type": "stream",
     "text": [
      "\r",
      "Epoch 836/1000:  84%|████████▎ | 836/1000 [1:58:19<22:04,  8.08s/it, v_num=ow_1, total_loss_train=1.45e+3, kl_local_train=37.9]"
     ]
    },
    {
     "name": "stdout",
     "output_type": "stream",
     "text": [
      "\r",
      "Epoch 837/1000:  84%|████████▎ | 836/1000 [1:58:19<22:04,  8.08s/it, v_num=ow_1, total_loss_train=1.45e+3, kl_local_train=37.9]"
     ]
    },
    {
     "name": "stdout",
     "output_type": "stream",
     "text": [
      "\r",
      "Epoch 837/1000:  84%|████████▎ | 837/1000 [1:58:27<21:55,  8.07s/it, v_num=ow_1, total_loss_train=1.45e+3, kl_local_train=37.9]"
     ]
    },
    {
     "name": "stdout",
     "output_type": "stream",
     "text": [
      "\r",
      "Epoch 837/1000:  84%|████████▎ | 837/1000 [1:58:27<21:55,  8.07s/it, v_num=ow_1, total_loss_train=1.45e+3, kl_local_train=37.9]"
     ]
    },
    {
     "name": "stdout",
     "output_type": "stream",
     "text": [
      "\r",
      "Epoch 838/1000:  84%|████████▎ | 837/1000 [1:58:27<21:55,  8.07s/it, v_num=ow_1, total_loss_train=1.45e+3, kl_local_train=37.9]"
     ]
    },
    {
     "name": "stdout",
     "output_type": "stream",
     "text": [
      "\r",
      "Epoch 838/1000:  84%|████████▍ | 838/1000 [1:58:35<21:45,  8.06s/it, v_num=ow_1, total_loss_train=1.45e+3, kl_local_train=37.9]"
     ]
    },
    {
     "name": "stdout",
     "output_type": "stream",
     "text": [
      "\r",
      "Epoch 838/1000:  84%|████████▍ | 838/1000 [1:58:35<21:45,  8.06s/it, v_num=ow_1, total_loss_train=1.45e+3, kl_local_train=38]  "
     ]
    },
    {
     "name": "stdout",
     "output_type": "stream",
     "text": [
      "\r",
      "Epoch 839/1000:  84%|████████▍ | 838/1000 [1:58:35<21:45,  8.06s/it, v_num=ow_1, total_loss_train=1.45e+3, kl_local_train=38]"
     ]
    },
    {
     "name": "stdout",
     "output_type": "stream",
     "text": [
      "\r",
      "Epoch 839/1000:  84%|████████▍ | 839/1000 [1:58:43<21:37,  8.06s/it, v_num=ow_1, total_loss_train=1.45e+3, kl_local_train=38]"
     ]
    },
    {
     "name": "stdout",
     "output_type": "stream",
     "text": [
      "\r",
      "Epoch 839/1000:  84%|████████▍ | 839/1000 [1:58:43<21:37,  8.06s/it, v_num=ow_1, total_loss_train=1.45e+3, kl_local_train=37.9]"
     ]
    },
    {
     "name": "stdout",
     "output_type": "stream",
     "text": [
      "\r",
      "Epoch 840/1000:  84%|████████▍ | 839/1000 [1:58:43<21:37,  8.06s/it, v_num=ow_1, total_loss_train=1.45e+3, kl_local_train=37.9]"
     ]
    },
    {
     "name": "stdout",
     "output_type": "stream",
     "text": [
      "\r",
      "Epoch 840/1000:  84%|████████▍ | 840/1000 [1:58:51<21:37,  8.11s/it, v_num=ow_1, total_loss_train=1.45e+3, kl_local_train=37.9]"
     ]
    },
    {
     "name": "stdout",
     "output_type": "stream",
     "text": [
      "\r",
      "Epoch 840/1000:  84%|████████▍ | 840/1000 [1:58:51<21:37,  8.11s/it, v_num=ow_1, total_loss_train=1.45e+3, kl_local_train=37.8]"
     ]
    },
    {
     "name": "stdout",
     "output_type": "stream",
     "text": [
      "\r",
      "Epoch 841/1000:  84%|████████▍ | 840/1000 [1:58:51<21:37,  8.11s/it, v_num=ow_1, total_loss_train=1.45e+3, kl_local_train=37.8]"
     ]
    },
    {
     "name": "stdout",
     "output_type": "stream",
     "text": [
      "\r",
      "Epoch 841/1000:  84%|████████▍ | 841/1000 [1:58:59<21:26,  8.09s/it, v_num=ow_1, total_loss_train=1.45e+3, kl_local_train=37.8]"
     ]
    },
    {
     "name": "stdout",
     "output_type": "stream",
     "text": [
      "\r",
      "Epoch 841/1000:  84%|████████▍ | 841/1000 [1:58:59<21:26,  8.09s/it, v_num=ow_1, total_loss_train=1.45e+3, kl_local_train=38]  "
     ]
    },
    {
     "name": "stdout",
     "output_type": "stream",
     "text": [
      "\r",
      "Epoch 842/1000:  84%|████████▍ | 841/1000 [1:58:59<21:26,  8.09s/it, v_num=ow_1, total_loss_train=1.45e+3, kl_local_train=38]"
     ]
    },
    {
     "name": "stdout",
     "output_type": "stream",
     "text": [
      "\r",
      "Epoch 842/1000:  84%|████████▍ | 842/1000 [1:59:08<21:41,  8.24s/it, v_num=ow_1, total_loss_train=1.45e+3, kl_local_train=38]"
     ]
    },
    {
     "name": "stdout",
     "output_type": "stream",
     "text": [
      "\r",
      "Epoch 842/1000:  84%|████████▍ | 842/1000 [1:59:08<21:41,  8.24s/it, v_num=ow_1, total_loss_train=1.45e+3, kl_local_train=37.9]"
     ]
    },
    {
     "name": "stdout",
     "output_type": "stream",
     "text": [
      "\r",
      "Epoch 843/1000:  84%|████████▍ | 842/1000 [1:59:08<21:41,  8.24s/it, v_num=ow_1, total_loss_train=1.45e+3, kl_local_train=37.9]"
     ]
    },
    {
     "name": "stdout",
     "output_type": "stream",
     "text": [
      "\r",
      "Epoch 843/1000:  84%|████████▍ | 843/1000 [1:59:17<22:24,  8.56s/it, v_num=ow_1, total_loss_train=1.45e+3, kl_local_train=37.9]"
     ]
    },
    {
     "name": "stdout",
     "output_type": "stream",
     "text": [
      "\r",
      "Epoch 843/1000:  84%|████████▍ | 843/1000 [1:59:17<22:24,  8.56s/it, v_num=ow_1, total_loss_train=1.45e+3, kl_local_train=37.9]"
     ]
    },
    {
     "name": "stdout",
     "output_type": "stream",
     "text": [
      "\r",
      "Epoch 844/1000:  84%|████████▍ | 843/1000 [1:59:17<22:24,  8.56s/it, v_num=ow_1, total_loss_train=1.45e+3, kl_local_train=37.9]"
     ]
    },
    {
     "name": "stdout",
     "output_type": "stream",
     "text": [
      "\r",
      "Epoch 844/1000:  84%|████████▍ | 844/1000 [1:59:26<22:17,  8.58s/it, v_num=ow_1, total_loss_train=1.45e+3, kl_local_train=37.9]"
     ]
    },
    {
     "name": "stdout",
     "output_type": "stream",
     "text": [
      "\r",
      "Epoch 844/1000:  84%|████████▍ | 844/1000 [1:59:26<22:17,  8.58s/it, v_num=ow_1, total_loss_train=1.45e+3, kl_local_train=37.9]"
     ]
    },
    {
     "name": "stdout",
     "output_type": "stream",
     "text": [
      "\r",
      "Epoch 845/1000:  84%|████████▍ | 844/1000 [1:59:26<22:17,  8.58s/it, v_num=ow_1, total_loss_train=1.45e+3, kl_local_train=37.9]"
     ]
    },
    {
     "name": "stdout",
     "output_type": "stream",
     "text": [
      "\r",
      "Epoch 845/1000:  84%|████████▍ | 845/1000 [1:59:34<21:59,  8.51s/it, v_num=ow_1, total_loss_train=1.45e+3, kl_local_train=37.9]"
     ]
    },
    {
     "name": "stdout",
     "output_type": "stream",
     "text": [
      "\r",
      "Epoch 845/1000:  84%|████████▍ | 845/1000 [1:59:34<21:59,  8.51s/it, v_num=ow_1, total_loss_train=1.45e+3, kl_local_train=38]  "
     ]
    },
    {
     "name": "stdout",
     "output_type": "stream",
     "text": [
      "\r",
      "Epoch 846/1000:  84%|████████▍ | 845/1000 [1:59:34<21:59,  8.51s/it, v_num=ow_1, total_loss_train=1.45e+3, kl_local_train=38]"
     ]
    },
    {
     "name": "stdout",
     "output_type": "stream",
     "text": [
      "\r",
      "Epoch 846/1000:  85%|████████▍ | 846/1000 [1:59:42<21:26,  8.35s/it, v_num=ow_1, total_loss_train=1.45e+3, kl_local_train=38]"
     ]
    },
    {
     "name": "stdout",
     "output_type": "stream",
     "text": [
      "\r",
      "Epoch 846/1000:  85%|████████▍ | 846/1000 [1:59:42<21:26,  8.35s/it, v_num=ow_1, total_loss_train=1.45e+3, kl_local_train=38]"
     ]
    },
    {
     "name": "stdout",
     "output_type": "stream",
     "text": [
      "\r",
      "Epoch 847/1000:  85%|████████▍ | 846/1000 [1:59:42<21:26,  8.35s/it, v_num=ow_1, total_loss_train=1.45e+3, kl_local_train=38]"
     ]
    },
    {
     "name": "stdout",
     "output_type": "stream",
     "text": [
      "\r",
      "Epoch 847/1000:  85%|████████▍ | 847/1000 [1:59:50<21:03,  8.26s/it, v_num=ow_1, total_loss_train=1.45e+3, kl_local_train=38]"
     ]
    },
    {
     "name": "stdout",
     "output_type": "stream",
     "text": [
      "\r",
      "Epoch 847/1000:  85%|████████▍ | 847/1000 [1:59:50<21:03,  8.26s/it, v_num=ow_1, total_loss_train=1.45e+3, kl_local_train=38]"
     ]
    },
    {
     "name": "stdout",
     "output_type": "stream",
     "text": [
      "\r",
      "Epoch 848/1000:  85%|████████▍ | 847/1000 [1:59:50<21:03,  8.26s/it, v_num=ow_1, total_loss_train=1.45e+3, kl_local_train=38]"
     ]
    },
    {
     "name": "stdout",
     "output_type": "stream",
     "text": [
      "\r",
      "Epoch 848/1000:  85%|████████▍ | 848/1000 [1:59:59<21:16,  8.40s/it, v_num=ow_1, total_loss_train=1.45e+3, kl_local_train=38]"
     ]
    },
    {
     "name": "stdout",
     "output_type": "stream",
     "text": [
      "\r",
      "Epoch 848/1000:  85%|████████▍ | 848/1000 [1:59:59<21:16,  8.40s/it, v_num=ow_1, total_loss_train=1.45e+3, kl_local_train=37.9]"
     ]
    },
    {
     "name": "stdout",
     "output_type": "stream",
     "text": [
      "\r",
      "Epoch 849/1000:  85%|████████▍ | 848/1000 [1:59:59<21:16,  8.40s/it, v_num=ow_1, total_loss_train=1.45e+3, kl_local_train=37.9]"
     ]
    },
    {
     "name": "stdout",
     "output_type": "stream",
     "text": [
      "\r",
      "Epoch 849/1000:  85%|████████▍ | 849/1000 [2:00:07<21:17,  8.46s/it, v_num=ow_1, total_loss_train=1.45e+3, kl_local_train=37.9]"
     ]
    },
    {
     "name": "stdout",
     "output_type": "stream",
     "text": [
      "\r",
      "Epoch 849/1000:  85%|████████▍ | 849/1000 [2:00:08<21:17,  8.46s/it, v_num=ow_1, total_loss_train=1.45e+3, kl_local_train=37.8]"
     ]
    },
    {
     "name": "stdout",
     "output_type": "stream",
     "text": [
      "\r",
      "Epoch 850/1000:  85%|████████▍ | 849/1000 [2:00:08<21:17,  8.46s/it, v_num=ow_1, total_loss_train=1.45e+3, kl_local_train=37.8]"
     ]
    },
    {
     "name": "stdout",
     "output_type": "stream",
     "text": [
      "\r",
      "Epoch 850/1000:  85%|████████▌ | 850/1000 [2:00:16<21:23,  8.56s/it, v_num=ow_1, total_loss_train=1.45e+3, kl_local_train=37.8]"
     ]
    },
    {
     "name": "stdout",
     "output_type": "stream",
     "text": [
      "\r",
      "Epoch 850/1000:  85%|████████▌ | 850/1000 [2:00:16<21:23,  8.56s/it, v_num=ow_1, total_loss_train=1.45e+3, kl_local_train=38]  "
     ]
    },
    {
     "name": "stdout",
     "output_type": "stream",
     "text": [
      "\r",
      "Epoch 851/1000:  85%|████████▌ | 850/1000 [2:00:16<21:23,  8.56s/it, v_num=ow_1, total_loss_train=1.45e+3, kl_local_train=38]"
     ]
    },
    {
     "name": "stdout",
     "output_type": "stream",
     "text": [
      "\r",
      "Epoch 851/1000:  85%|████████▌ | 851/1000 [2:00:25<21:20,  8.60s/it, v_num=ow_1, total_loss_train=1.45e+3, kl_local_train=38]"
     ]
    },
    {
     "name": "stdout",
     "output_type": "stream",
     "text": [
      "\r",
      "Epoch 851/1000:  85%|████████▌ | 851/1000 [2:00:25<21:20,  8.60s/it, v_num=ow_1, total_loss_train=1.45e+3, kl_local_train=37.9]"
     ]
    },
    {
     "name": "stdout",
     "output_type": "stream",
     "text": [
      "\r",
      "Epoch 852/1000:  85%|████████▌ | 851/1000 [2:00:25<21:20,  8.60s/it, v_num=ow_1, total_loss_train=1.45e+3, kl_local_train=37.9]"
     ]
    },
    {
     "name": "stdout",
     "output_type": "stream",
     "text": [
      "\r",
      "Epoch 852/1000:  85%|████████▌ | 852/1000 [2:00:34<21:20,  8.65s/it, v_num=ow_1, total_loss_train=1.45e+3, kl_local_train=37.9]"
     ]
    },
    {
     "name": "stdout",
     "output_type": "stream",
     "text": [
      "\r",
      "Epoch 852/1000:  85%|████████▌ | 852/1000 [2:00:34<21:20,  8.65s/it, v_num=ow_1, total_loss_train=1.45e+3, kl_local_train=37.8]"
     ]
    },
    {
     "name": "stdout",
     "output_type": "stream",
     "text": [
      "\r",
      "Epoch 853/1000:  85%|████████▌ | 852/1000 [2:00:34<21:20,  8.65s/it, v_num=ow_1, total_loss_train=1.45e+3, kl_local_train=37.8]"
     ]
    },
    {
     "name": "stdout",
     "output_type": "stream",
     "text": [
      "\r",
      "Epoch 853/1000:  85%|████████▌ | 853/1000 [2:00:42<21:00,  8.58s/it, v_num=ow_1, total_loss_train=1.45e+3, kl_local_train=37.8]"
     ]
    },
    {
     "name": "stdout",
     "output_type": "stream",
     "text": [
      "\r",
      "Epoch 853/1000:  85%|████████▌ | 853/1000 [2:00:42<21:00,  8.58s/it, v_num=ow_1, total_loss_train=1.45e+3, kl_local_train=37.9]"
     ]
    },
    {
     "name": "stdout",
     "output_type": "stream",
     "text": [
      "\r",
      "Epoch 854/1000:  85%|████████▌ | 853/1000 [2:00:42<21:00,  8.58s/it, v_num=ow_1, total_loss_train=1.45e+3, kl_local_train=37.9]"
     ]
    },
    {
     "name": "stdout",
     "output_type": "stream",
     "text": [
      "\r",
      "Epoch 854/1000:  85%|████████▌ | 854/1000 [2:00:50<20:06,  8.26s/it, v_num=ow_1, total_loss_train=1.45e+3, kl_local_train=37.9]"
     ]
    },
    {
     "name": "stdout",
     "output_type": "stream",
     "text": [
      "\r",
      "Epoch 854/1000:  85%|████████▌ | 854/1000 [2:00:50<20:06,  8.26s/it, v_num=ow_1, total_loss_train=1.45e+3, kl_local_train=38]  "
     ]
    },
    {
     "name": "stdout",
     "output_type": "stream",
     "text": [
      "\r",
      "Epoch 855/1000:  85%|████████▌ | 854/1000 [2:00:50<20:06,  8.26s/it, v_num=ow_1, total_loss_train=1.45e+3, kl_local_train=38]"
     ]
    },
    {
     "name": "stdout",
     "output_type": "stream",
     "text": [
      "\r",
      "Epoch 855/1000:  86%|████████▌ | 855/1000 [2:00:58<20:05,  8.32s/it, v_num=ow_1, total_loss_train=1.45e+3, kl_local_train=38]"
     ]
    },
    {
     "name": "stdout",
     "output_type": "stream",
     "text": [
      "\r",
      "Epoch 855/1000:  86%|████████▌ | 855/1000 [2:00:58<20:05,  8.32s/it, v_num=ow_1, total_loss_train=1.45e+3, kl_local_train=38]"
     ]
    },
    {
     "name": "stdout",
     "output_type": "stream",
     "text": [
      "\r",
      "Epoch 856/1000:  86%|████████▌ | 855/1000 [2:00:58<20:05,  8.32s/it, v_num=ow_1, total_loss_train=1.45e+3, kl_local_train=38]"
     ]
    },
    {
     "name": "stdout",
     "output_type": "stream",
     "text": [
      "\r",
      "Epoch 856/1000:  86%|████████▌ | 856/1000 [2:01:06<19:59,  8.33s/it, v_num=ow_1, total_loss_train=1.45e+3, kl_local_train=38]"
     ]
    },
    {
     "name": "stdout",
     "output_type": "stream",
     "text": [
      "\r",
      "Epoch 856/1000:  86%|████████▌ | 856/1000 [2:01:06<19:59,  8.33s/it, v_num=ow_1, total_loss_train=1.45e+3, kl_local_train=37.9]"
     ]
    },
    {
     "name": "stdout",
     "output_type": "stream",
     "text": [
      "\r",
      "Epoch 857/1000:  86%|████████▌ | 856/1000 [2:01:06<19:59,  8.33s/it, v_num=ow_1, total_loss_train=1.45e+3, kl_local_train=37.9]"
     ]
    },
    {
     "name": "stdout",
     "output_type": "stream",
     "text": [
      "\r",
      "Epoch 857/1000:  86%|████████▌ | 857/1000 [2:01:15<19:50,  8.32s/it, v_num=ow_1, total_loss_train=1.45e+3, kl_local_train=37.9]"
     ]
    },
    {
     "name": "stdout",
     "output_type": "stream",
     "text": [
      "\r",
      "Epoch 857/1000:  86%|████████▌ | 857/1000 [2:01:15<19:50,  8.32s/it, v_num=ow_1, total_loss_train=1.45e+3, kl_local_train=38.1]"
     ]
    },
    {
     "name": "stdout",
     "output_type": "stream",
     "text": [
      "\r",
      "Epoch 858/1000:  86%|████████▌ | 857/1000 [2:01:15<19:50,  8.32s/it, v_num=ow_1, total_loss_train=1.45e+3, kl_local_train=38.1]"
     ]
    },
    {
     "name": "stdout",
     "output_type": "stream",
     "text": [
      "\r",
      "Epoch 858/1000:  86%|████████▌ | 858/1000 [2:01:23<19:40,  8.31s/it, v_num=ow_1, total_loss_train=1.45e+3, kl_local_train=38.1]"
     ]
    },
    {
     "name": "stdout",
     "output_type": "stream",
     "text": [
      "\r",
      "Epoch 858/1000:  86%|████████▌ | 858/1000 [2:01:23<19:40,  8.31s/it, v_num=ow_1, total_loss_train=1.45e+3, kl_local_train=38]  "
     ]
    },
    {
     "name": "stdout",
     "output_type": "stream",
     "text": [
      "\r",
      "Epoch 859/1000:  86%|████████▌ | 858/1000 [2:01:23<19:40,  8.31s/it, v_num=ow_1, total_loss_train=1.45e+3, kl_local_train=38]"
     ]
    },
    {
     "name": "stdout",
     "output_type": "stream",
     "text": [
      "\r",
      "Epoch 859/1000:  86%|████████▌ | 859/1000 [2:01:31<19:34,  8.33s/it, v_num=ow_1, total_loss_train=1.45e+3, kl_local_train=38]"
     ]
    },
    {
     "name": "stdout",
     "output_type": "stream",
     "text": [
      "\r",
      "Epoch 859/1000:  86%|████████▌ | 859/1000 [2:01:31<19:34,  8.33s/it, v_num=ow_1, total_loss_train=1.45e+3, kl_local_train=37.9]"
     ]
    },
    {
     "name": "stdout",
     "output_type": "stream",
     "text": [
      "\r",
      "Epoch 860/1000:  86%|████████▌ | 859/1000 [2:01:31<19:34,  8.33s/it, v_num=ow_1, total_loss_train=1.45e+3, kl_local_train=37.9]"
     ]
    },
    {
     "name": "stdout",
     "output_type": "stream",
     "text": [
      "\r",
      "Epoch 860/1000:  86%|████████▌ | 860/1000 [2:01:39<18:57,  8.12s/it, v_num=ow_1, total_loss_train=1.45e+3, kl_local_train=37.9]"
     ]
    },
    {
     "name": "stdout",
     "output_type": "stream",
     "text": [
      "\r",
      "Epoch 860/1000:  86%|████████▌ | 860/1000 [2:01:39<18:57,  8.12s/it, v_num=ow_1, total_loss_train=1.45e+3, kl_local_train=38]  "
     ]
    },
    {
     "name": "stdout",
     "output_type": "stream",
     "text": [
      "\r",
      "Epoch 861/1000:  86%|████████▌ | 860/1000 [2:01:39<18:57,  8.12s/it, v_num=ow_1, total_loss_train=1.45e+3, kl_local_train=38]"
     ]
    },
    {
     "name": "stdout",
     "output_type": "stream",
     "text": [
      "\r",
      "Epoch 861/1000:  86%|████████▌ | 861/1000 [2:01:48<19:32,  8.43s/it, v_num=ow_1, total_loss_train=1.45e+3, kl_local_train=38]"
     ]
    },
    {
     "name": "stdout",
     "output_type": "stream",
     "text": [
      "\r",
      "Epoch 861/1000:  86%|████████▌ | 861/1000 [2:01:48<19:32,  8.43s/it, v_num=ow_1, total_loss_train=1.45e+3, kl_local_train=38]"
     ]
    },
    {
     "name": "stdout",
     "output_type": "stream",
     "text": [
      "\r",
      "Epoch 862/1000:  86%|████████▌ | 861/1000 [2:01:48<19:32,  8.43s/it, v_num=ow_1, total_loss_train=1.45e+3, kl_local_train=38]"
     ]
    },
    {
     "name": "stdout",
     "output_type": "stream",
     "text": [
      "\r",
      "Epoch 862/1000:  86%|████████▌ | 862/1000 [2:01:56<19:13,  8.36s/it, v_num=ow_1, total_loss_train=1.45e+3, kl_local_train=38]"
     ]
    },
    {
     "name": "stdout",
     "output_type": "stream",
     "text": [
      "\r",
      "Epoch 862/1000:  86%|████████▌ | 862/1000 [2:01:56<19:13,  8.36s/it, v_num=ow_1, total_loss_train=1.45e+3, kl_local_train=38]"
     ]
    },
    {
     "name": "stdout",
     "output_type": "stream",
     "text": [
      "\r",
      "Epoch 863/1000:  86%|████████▌ | 862/1000 [2:01:56<19:13,  8.36s/it, v_num=ow_1, total_loss_train=1.45e+3, kl_local_train=38]"
     ]
    },
    {
     "name": "stdout",
     "output_type": "stream",
     "text": [
      "\r",
      "Epoch 863/1000:  86%|████████▋ | 863/1000 [2:02:05<18:58,  8.31s/it, v_num=ow_1, total_loss_train=1.45e+3, kl_local_train=38]"
     ]
    },
    {
     "name": "stdout",
     "output_type": "stream",
     "text": [
      "\r",
      "Epoch 863/1000:  86%|████████▋ | 863/1000 [2:02:05<18:58,  8.31s/it, v_num=ow_1, total_loss_train=1.45e+3, kl_local_train=37.9]"
     ]
    },
    {
     "name": "stdout",
     "output_type": "stream",
     "text": [
      "\r",
      "Epoch 864/1000:  86%|████████▋ | 863/1000 [2:02:05<18:58,  8.31s/it, v_num=ow_1, total_loss_train=1.45e+3, kl_local_train=37.9]"
     ]
    },
    {
     "name": "stdout",
     "output_type": "stream",
     "text": [
      "\r",
      "Epoch 864/1000:  86%|████████▋ | 864/1000 [2:02:13<18:45,  8.27s/it, v_num=ow_1, total_loss_train=1.45e+3, kl_local_train=37.9]"
     ]
    },
    {
     "name": "stdout",
     "output_type": "stream",
     "text": [
      "\r",
      "Epoch 864/1000:  86%|████████▋ | 864/1000 [2:02:13<18:45,  8.27s/it, v_num=ow_1, total_loss_train=1.45e+3, kl_local_train=37.9]"
     ]
    },
    {
     "name": "stdout",
     "output_type": "stream",
     "text": [
      "\r",
      "Epoch 865/1000:  86%|████████▋ | 864/1000 [2:02:13<18:45,  8.27s/it, v_num=ow_1, total_loss_train=1.45e+3, kl_local_train=37.9]"
     ]
    },
    {
     "name": "stdout",
     "output_type": "stream",
     "text": [
      "\r",
      "Epoch 865/1000:  86%|████████▋ | 865/1000 [2:02:21<18:25,  8.19s/it, v_num=ow_1, total_loss_train=1.45e+3, kl_local_train=37.9]"
     ]
    },
    {
     "name": "stdout",
     "output_type": "stream",
     "text": [
      "\r",
      "Epoch 865/1000:  86%|████████▋ | 865/1000 [2:02:21<18:25,  8.19s/it, v_num=ow_1, total_loss_train=1.45e+3, kl_local_train=38.1]"
     ]
    },
    {
     "name": "stdout",
     "output_type": "stream",
     "text": [
      "\r",
      "Epoch 866/1000:  86%|████████▋ | 865/1000 [2:02:21<18:25,  8.19s/it, v_num=ow_1, total_loss_train=1.45e+3, kl_local_train=38.1]"
     ]
    },
    {
     "name": "stdout",
     "output_type": "stream",
     "text": [
      "\r",
      "Epoch 866/1000:  87%|████████▋ | 866/1000 [2:02:29<18:12,  8.15s/it, v_num=ow_1, total_loss_train=1.45e+3, kl_local_train=38.1]"
     ]
    },
    {
     "name": "stdout",
     "output_type": "stream",
     "text": [
      "\r",
      "Epoch 866/1000:  87%|████████▋ | 866/1000 [2:02:29<18:12,  8.15s/it, v_num=ow_1, total_loss_train=1.45e+3, kl_local_train=38]  "
     ]
    },
    {
     "name": "stdout",
     "output_type": "stream",
     "text": [
      "\r",
      "Epoch 867/1000:  87%|████████▋ | 866/1000 [2:02:29<18:12,  8.15s/it, v_num=ow_1, total_loss_train=1.45e+3, kl_local_train=38]"
     ]
    },
    {
     "name": "stdout",
     "output_type": "stream",
     "text": [
      "\r",
      "Epoch 867/1000:  87%|████████▋ | 867/1000 [2:02:36<17:42,  7.99s/it, v_num=ow_1, total_loss_train=1.45e+3, kl_local_train=38]"
     ]
    },
    {
     "name": "stdout",
     "output_type": "stream",
     "text": [
      "\r",
      "Epoch 867/1000:  87%|████████▋ | 867/1000 [2:02:36<17:42,  7.99s/it, v_num=ow_1, total_loss_train=1.45e+3, kl_local_train=37.9]"
     ]
    },
    {
     "name": "stdout",
     "output_type": "stream",
     "text": [
      "\r",
      "Epoch 868/1000:  87%|████████▋ | 867/1000 [2:02:36<17:42,  7.99s/it, v_num=ow_1, total_loss_train=1.45e+3, kl_local_train=37.9]"
     ]
    },
    {
     "name": "stdout",
     "output_type": "stream",
     "text": [
      "\r",
      "Epoch 868/1000:  87%|████████▋ | 868/1000 [2:02:45<17:44,  8.06s/it, v_num=ow_1, total_loss_train=1.45e+3, kl_local_train=37.9]"
     ]
    },
    {
     "name": "stdout",
     "output_type": "stream",
     "text": [
      "\r",
      "Epoch 868/1000:  87%|████████▋ | 868/1000 [2:02:45<17:44,  8.06s/it, v_num=ow_1, total_loss_train=1.45e+3, kl_local_train=38.1]"
     ]
    },
    {
     "name": "stdout",
     "output_type": "stream",
     "text": [
      "\r",
      "Epoch 869/1000:  87%|████████▋ | 868/1000 [2:02:45<17:44,  8.06s/it, v_num=ow_1, total_loss_train=1.45e+3, kl_local_train=38.1]"
     ]
    },
    {
     "name": "stdout",
     "output_type": "stream",
     "text": [
      "\r",
      "Epoch 869/1000:  87%|████████▋ | 869/1000 [2:02:53<17:58,  8.23s/it, v_num=ow_1, total_loss_train=1.45e+3, kl_local_train=38.1]"
     ]
    },
    {
     "name": "stdout",
     "output_type": "stream",
     "text": [
      "\r",
      "Epoch 869/1000:  87%|████████▋ | 869/1000 [2:02:53<17:58,  8.23s/it, v_num=ow_1, total_loss_train=1.45e+3, kl_local_train=38.1]"
     ]
    },
    {
     "name": "stdout",
     "output_type": "stream",
     "text": [
      "\r",
      "Epoch 870/1000:  87%|████████▋ | 869/1000 [2:02:53<17:58,  8.23s/it, v_num=ow_1, total_loss_train=1.45e+3, kl_local_train=38.1]"
     ]
    },
    {
     "name": "stdout",
     "output_type": "stream",
     "text": [
      "\r",
      "Epoch 870/1000:  87%|████████▋ | 870/1000 [2:03:02<18:03,  8.33s/it, v_num=ow_1, total_loss_train=1.45e+3, kl_local_train=38.1]"
     ]
    },
    {
     "name": "stdout",
     "output_type": "stream",
     "text": [
      "\r",
      "Epoch 870/1000:  87%|████████▋ | 870/1000 [2:03:02<18:03,  8.33s/it, v_num=ow_1, total_loss_train=1.45e+3, kl_local_train=38]  "
     ]
    },
    {
     "name": "stdout",
     "output_type": "stream",
     "text": [
      "\r",
      "Epoch 871/1000:  87%|████████▋ | 870/1000 [2:03:02<18:03,  8.33s/it, v_num=ow_1, total_loss_train=1.45e+3, kl_local_train=38]"
     ]
    },
    {
     "name": "stdout",
     "output_type": "stream",
     "text": [
      "\r",
      "Epoch 871/1000:  87%|████████▋ | 871/1000 [2:03:11<18:05,  8.41s/it, v_num=ow_1, total_loss_train=1.45e+3, kl_local_train=38]"
     ]
    },
    {
     "name": "stdout",
     "output_type": "stream",
     "text": [
      "\r",
      "Epoch 871/1000:  87%|████████▋ | 871/1000 [2:03:11<18:05,  8.41s/it, v_num=ow_1, total_loss_train=1.45e+3, kl_local_train=38]"
     ]
    },
    {
     "name": "stdout",
     "output_type": "stream",
     "text": [
      "\r",
      "Epoch 872/1000:  87%|████████▋ | 871/1000 [2:03:11<18:05,  8.41s/it, v_num=ow_1, total_loss_train=1.45e+3, kl_local_train=38]"
     ]
    },
    {
     "name": "stdout",
     "output_type": "stream",
     "text": [
      "\r",
      "Epoch 872/1000:  87%|████████▋ | 872/1000 [2:03:19<18:02,  8.46s/it, v_num=ow_1, total_loss_train=1.45e+3, kl_local_train=38]"
     ]
    },
    {
     "name": "stdout",
     "output_type": "stream",
     "text": [
      "\r",
      "Epoch 872/1000:  87%|████████▋ | 872/1000 [2:03:19<18:02,  8.46s/it, v_num=ow_1, total_loss_train=1.45e+3, kl_local_train=37.9]"
     ]
    },
    {
     "name": "stdout",
     "output_type": "stream",
     "text": [
      "\r",
      "Epoch 873/1000:  87%|████████▋ | 872/1000 [2:03:19<18:02,  8.46s/it, v_num=ow_1, total_loss_train=1.45e+3, kl_local_train=37.9]"
     ]
    },
    {
     "name": "stdout",
     "output_type": "stream",
     "text": [
      "\r",
      "Epoch 873/1000:  87%|████████▋ | 873/1000 [2:03:28<18:00,  8.51s/it, v_num=ow_1, total_loss_train=1.45e+3, kl_local_train=37.9]"
     ]
    },
    {
     "name": "stdout",
     "output_type": "stream",
     "text": [
      "\r",
      "Epoch 873/1000:  87%|████████▋ | 873/1000 [2:03:28<18:00,  8.51s/it, v_num=ow_1, total_loss_train=1.45e+3, kl_local_train=38]  "
     ]
    },
    {
     "name": "stdout",
     "output_type": "stream",
     "text": [
      "\r",
      "Epoch 874/1000:  87%|████████▋ | 873/1000 [2:03:28<18:00,  8.51s/it, v_num=ow_1, total_loss_train=1.45e+3, kl_local_train=38]"
     ]
    },
    {
     "name": "stdout",
     "output_type": "stream",
     "text": [
      "\r",
      "Epoch 874/1000:  87%|████████▋ | 874/1000 [2:03:36<17:55,  8.54s/it, v_num=ow_1, total_loss_train=1.45e+3, kl_local_train=38]"
     ]
    },
    {
     "name": "stdout",
     "output_type": "stream",
     "text": [
      "\r",
      "Epoch 874/1000:  87%|████████▋ | 874/1000 [2:03:36<17:55,  8.54s/it, v_num=ow_1, total_loss_train=1.45e+3, kl_local_train=38.1]"
     ]
    },
    {
     "name": "stdout",
     "output_type": "stream",
     "text": [
      "\r",
      "Epoch 875/1000:  87%|████████▋ | 874/1000 [2:03:36<17:55,  8.54s/it, v_num=ow_1, total_loss_train=1.45e+3, kl_local_train=38.1]"
     ]
    },
    {
     "name": "stdout",
     "output_type": "stream",
     "text": [
      "\r",
      "Epoch 875/1000:  88%|████████▊ | 875/1000 [2:03:45<17:48,  8.55s/it, v_num=ow_1, total_loss_train=1.45e+3, kl_local_train=38.1]"
     ]
    },
    {
     "name": "stdout",
     "output_type": "stream",
     "text": [
      "\r",
      "Epoch 875/1000:  88%|████████▊ | 875/1000 [2:03:45<17:48,  8.55s/it, v_num=ow_1, total_loss_train=1.45e+3, kl_local_train=37.9]"
     ]
    },
    {
     "name": "stdout",
     "output_type": "stream",
     "text": [
      "\r",
      "Epoch 876/1000:  88%|████████▊ | 875/1000 [2:03:45<17:48,  8.55s/it, v_num=ow_1, total_loss_train=1.45e+3, kl_local_train=37.9]"
     ]
    },
    {
     "name": "stdout",
     "output_type": "stream",
     "text": [
      "\r",
      "Epoch 876/1000:  88%|████████▊ | 876/1000 [2:03:53<17:34,  8.50s/it, v_num=ow_1, total_loss_train=1.45e+3, kl_local_train=37.9]"
     ]
    },
    {
     "name": "stdout",
     "output_type": "stream",
     "text": [
      "\r",
      "Epoch 876/1000:  88%|████████▊ | 876/1000 [2:03:53<17:34,  8.50s/it, v_num=ow_1, total_loss_train=1.45e+3, kl_local_train=38.1]"
     ]
    },
    {
     "name": "stdout",
     "output_type": "stream",
     "text": [
      "\r",
      "Epoch 877/1000:  88%|████████▊ | 876/1000 [2:03:53<17:34,  8.50s/it, v_num=ow_1, total_loss_train=1.45e+3, kl_local_train=38.1]"
     ]
    },
    {
     "name": "stdout",
     "output_type": "stream",
     "text": [
      "\r",
      "Epoch 877/1000:  88%|████████▊ | 877/1000 [2:04:01<17:06,  8.35s/it, v_num=ow_1, total_loss_train=1.45e+3, kl_local_train=38.1]"
     ]
    },
    {
     "name": "stdout",
     "output_type": "stream",
     "text": [
      "\r",
      "Epoch 877/1000:  88%|████████▊ | 877/1000 [2:04:01<17:06,  8.35s/it, v_num=ow_1, total_loss_train=1.45e+3, kl_local_train=37.9]"
     ]
    },
    {
     "name": "stdout",
     "output_type": "stream",
     "text": [
      "\r",
      "Epoch 878/1000:  88%|████████▊ | 877/1000 [2:04:01<17:06,  8.35s/it, v_num=ow_1, total_loss_train=1.45e+3, kl_local_train=37.9]"
     ]
    },
    {
     "name": "stdout",
     "output_type": "stream",
     "text": [
      "\r",
      "Epoch 878/1000:  88%|████████▊ | 878/1000 [2:04:10<17:07,  8.42s/it, v_num=ow_1, total_loss_train=1.45e+3, kl_local_train=37.9]"
     ]
    },
    {
     "name": "stdout",
     "output_type": "stream",
     "text": [
      "\r",
      "Epoch 878/1000:  88%|████████▊ | 878/1000 [2:04:10<17:07,  8.42s/it, v_num=ow_1, total_loss_train=1.45e+3, kl_local_train=38]  "
     ]
    },
    {
     "name": "stdout",
     "output_type": "stream",
     "text": [
      "\r",
      "Epoch 879/1000:  88%|████████▊ | 878/1000 [2:04:10<17:07,  8.42s/it, v_num=ow_1, total_loss_train=1.45e+3, kl_local_train=38]"
     ]
    },
    {
     "name": "stdout",
     "output_type": "stream",
     "text": [
      "\r",
      "Epoch 879/1000:  88%|████████▊ | 879/1000 [2:04:18<17:03,  8.46s/it, v_num=ow_1, total_loss_train=1.45e+3, kl_local_train=38]"
     ]
    },
    {
     "name": "stdout",
     "output_type": "stream",
     "text": [
      "\r",
      "Epoch 879/1000:  88%|████████▊ | 879/1000 [2:04:18<17:03,  8.46s/it, v_num=ow_1, total_loss_train=1.45e+3, kl_local_train=38]"
     ]
    },
    {
     "name": "stdout",
     "output_type": "stream",
     "text": [
      "\r",
      "Epoch 880/1000:  88%|████████▊ | 879/1000 [2:04:18<17:03,  8.46s/it, v_num=ow_1, total_loss_train=1.45e+3, kl_local_train=38]"
     ]
    },
    {
     "name": "stdout",
     "output_type": "stream",
     "text": [
      "\r",
      "Epoch 880/1000:  88%|████████▊ | 880/1000 [2:04:27<16:59,  8.49s/it, v_num=ow_1, total_loss_train=1.45e+3, kl_local_train=38]"
     ]
    },
    {
     "name": "stdout",
     "output_type": "stream",
     "text": [
      "\r",
      "Epoch 880/1000:  88%|████████▊ | 880/1000 [2:04:27<16:59,  8.49s/it, v_num=ow_1, total_loss_train=1.45e+3, kl_local_train=38]"
     ]
    },
    {
     "name": "stdout",
     "output_type": "stream",
     "text": [
      "\r",
      "Epoch 881/1000:  88%|████████▊ | 880/1000 [2:04:27<16:59,  8.49s/it, v_num=ow_1, total_loss_train=1.45e+3, kl_local_train=38]"
     ]
    },
    {
     "name": "stdout",
     "output_type": "stream",
     "text": [
      "\r",
      "Epoch 881/1000:  88%|████████▊ | 881/1000 [2:04:36<16:53,  8.52s/it, v_num=ow_1, total_loss_train=1.45e+3, kl_local_train=38]"
     ]
    },
    {
     "name": "stdout",
     "output_type": "stream",
     "text": [
      "\r",
      "Epoch 881/1000:  88%|████████▊ | 881/1000 [2:04:36<16:53,  8.52s/it, v_num=ow_1, total_loss_train=1.45e+3, kl_local_train=38]"
     ]
    },
    {
     "name": "stdout",
     "output_type": "stream",
     "text": [
      "\r",
      "Epoch 882/1000:  88%|████████▊ | 881/1000 [2:04:36<16:53,  8.52s/it, v_num=ow_1, total_loss_train=1.45e+3, kl_local_train=38]"
     ]
    },
    {
     "name": "stdout",
     "output_type": "stream",
     "text": [
      "\r",
      "Epoch 882/1000:  88%|████████▊ | 882/1000 [2:04:44<16:47,  8.54s/it, v_num=ow_1, total_loss_train=1.45e+3, kl_local_train=38]"
     ]
    },
    {
     "name": "stdout",
     "output_type": "stream",
     "text": [
      "\r",
      "Epoch 882/1000:  88%|████████▊ | 882/1000 [2:04:44<16:47,  8.54s/it, v_num=ow_1, total_loss_train=1.45e+3, kl_local_train=37.9]"
     ]
    },
    {
     "name": "stdout",
     "output_type": "stream",
     "text": [
      "\r",
      "Epoch 883/1000:  88%|████████▊ | 882/1000 [2:04:44<16:47,  8.54s/it, v_num=ow_1, total_loss_train=1.45e+3, kl_local_train=37.9]"
     ]
    },
    {
     "name": "stdout",
     "output_type": "stream",
     "text": [
      "\r",
      "Epoch 883/1000:  88%|████████▊ | 883/1000 [2:04:53<16:59,  8.71s/it, v_num=ow_1, total_loss_train=1.45e+3, kl_local_train=37.9]"
     ]
    },
    {
     "name": "stdout",
     "output_type": "stream",
     "text": [
      "\r",
      "Epoch 883/1000:  88%|████████▊ | 883/1000 [2:04:53<16:59,  8.71s/it, v_num=ow_1, total_loss_train=1.45e+3, kl_local_train=37.9]"
     ]
    },
    {
     "name": "stdout",
     "output_type": "stream",
     "text": [
      "\r",
      "Epoch 884/1000:  88%|████████▊ | 883/1000 [2:04:53<16:59,  8.71s/it, v_num=ow_1, total_loss_train=1.45e+3, kl_local_train=37.9]"
     ]
    },
    {
     "name": "stdout",
     "output_type": "stream",
     "text": [
      "\r",
      "Epoch 884/1000:  88%|████████▊ | 884/1000 [2:05:01<16:23,  8.48s/it, v_num=ow_1, total_loss_train=1.45e+3, kl_local_train=37.9]"
     ]
    },
    {
     "name": "stdout",
     "output_type": "stream",
     "text": [
      "\r",
      "Epoch 884/1000:  88%|████████▊ | 884/1000 [2:05:01<16:23,  8.48s/it, v_num=ow_1, total_loss_train=1.45e+3, kl_local_train=37.9]"
     ]
    },
    {
     "name": "stdout",
     "output_type": "stream",
     "text": [
      "\r",
      "Epoch 885/1000:  88%|████████▊ | 884/1000 [2:05:01<16:23,  8.48s/it, v_num=ow_1, total_loss_train=1.45e+3, kl_local_train=37.9]"
     ]
    },
    {
     "name": "stdout",
     "output_type": "stream",
     "text": [
      "\r",
      "Epoch 885/1000:  88%|████████▊ | 885/1000 [2:05:09<15:57,  8.32s/it, v_num=ow_1, total_loss_train=1.45e+3, kl_local_train=37.9]"
     ]
    },
    {
     "name": "stdout",
     "output_type": "stream",
     "text": [
      "\r",
      "Epoch 885/1000:  88%|████████▊ | 885/1000 [2:05:09<15:57,  8.32s/it, v_num=ow_1, total_loss_train=1.45e+3, kl_local_train=37.9]"
     ]
    },
    {
     "name": "stdout",
     "output_type": "stream",
     "text": [
      "\r",
      "Epoch 886/1000:  88%|████████▊ | 885/1000 [2:05:09<15:57,  8.32s/it, v_num=ow_1, total_loss_train=1.45e+3, kl_local_train=37.9]"
     ]
    },
    {
     "name": "stdout",
     "output_type": "stream",
     "text": [
      "\r",
      "Epoch 886/1000:  89%|████████▊ | 886/1000 [2:05:18<16:03,  8.45s/it, v_num=ow_1, total_loss_train=1.45e+3, kl_local_train=37.9]"
     ]
    },
    {
     "name": "stdout",
     "output_type": "stream",
     "text": [
      "\r",
      "Epoch 886/1000:  89%|████████▊ | 886/1000 [2:05:18<16:03,  8.45s/it, v_num=ow_1, total_loss_train=1.45e+3, kl_local_train=37.8]"
     ]
    },
    {
     "name": "stdout",
     "output_type": "stream",
     "text": [
      "\r",
      "Epoch 887/1000:  89%|████████▊ | 886/1000 [2:05:18<16:03,  8.45s/it, v_num=ow_1, total_loss_train=1.45e+3, kl_local_train=37.8]"
     ]
    },
    {
     "name": "stdout",
     "output_type": "stream",
     "text": [
      "\r",
      "Epoch 887/1000:  89%|████████▊ | 887/1000 [2:05:26<15:57,  8.47s/it, v_num=ow_1, total_loss_train=1.45e+3, kl_local_train=37.8]"
     ]
    },
    {
     "name": "stdout",
     "output_type": "stream",
     "text": [
      "\r",
      "Epoch 887/1000:  89%|████████▊ | 887/1000 [2:05:26<15:57,  8.47s/it, v_num=ow_1, total_loss_train=1.45e+3, kl_local_train=38]  "
     ]
    },
    {
     "name": "stdout",
     "output_type": "stream",
     "text": [
      "\r",
      "Epoch 888/1000:  89%|████████▊ | 887/1000 [2:05:26<15:57,  8.47s/it, v_num=ow_1, total_loss_train=1.45e+3, kl_local_train=38]"
     ]
    },
    {
     "name": "stdout",
     "output_type": "stream",
     "text": [
      "\r",
      "Epoch 888/1000:  89%|████████▉ | 888/1000 [2:05:34<15:23,  8.24s/it, v_num=ow_1, total_loss_train=1.45e+3, kl_local_train=38]"
     ]
    },
    {
     "name": "stdout",
     "output_type": "stream",
     "text": [
      "\r",
      "Epoch 888/1000:  89%|████████▉ | 888/1000 [2:05:34<15:23,  8.24s/it, v_num=ow_1, total_loss_train=1.45e+3, kl_local_train=37.9]"
     ]
    },
    {
     "name": "stdout",
     "output_type": "stream",
     "text": [
      "\r",
      "Epoch 889/1000:  89%|████████▉ | 888/1000 [2:05:34<15:23,  8.24s/it, v_num=ow_1, total_loss_train=1.45e+3, kl_local_train=37.9]"
     ]
    },
    {
     "name": "stdout",
     "output_type": "stream",
     "text": [
      "\r",
      "Epoch 889/1000:  89%|████████▉ | 889/1000 [2:05:42<15:16,  8.26s/it, v_num=ow_1, total_loss_train=1.45e+3, kl_local_train=37.9]"
     ]
    },
    {
     "name": "stdout",
     "output_type": "stream",
     "text": [
      "\r",
      "Epoch 889/1000:  89%|████████▉ | 889/1000 [2:05:42<15:16,  8.26s/it, v_num=ow_1, total_loss_train=1.45e+3, kl_local_train=38]  "
     ]
    },
    {
     "name": "stdout",
     "output_type": "stream",
     "text": [
      "\r",
      "Epoch 890/1000:  89%|████████▉ | 889/1000 [2:05:42<15:16,  8.26s/it, v_num=ow_1, total_loss_train=1.45e+3, kl_local_train=38]"
     ]
    },
    {
     "name": "stdout",
     "output_type": "stream",
     "text": [
      "\r",
      "Epoch 890/1000:  89%|████████▉ | 890/1000 [2:05:50<14:41,  8.01s/it, v_num=ow_1, total_loss_train=1.45e+3, kl_local_train=38]"
     ]
    },
    {
     "name": "stdout",
     "output_type": "stream",
     "text": [
      "\r",
      "Epoch 890/1000:  89%|████████▉ | 890/1000 [2:05:50<14:41,  8.01s/it, v_num=ow_1, total_loss_train=1.45e+3, kl_local_train=38]"
     ]
    },
    {
     "name": "stdout",
     "output_type": "stream",
     "text": [
      "\r",
      "Epoch 891/1000:  89%|████████▉ | 890/1000 [2:05:50<14:41,  8.01s/it, v_num=ow_1, total_loss_train=1.45e+3, kl_local_train=38]"
     ]
    },
    {
     "name": "stdout",
     "output_type": "stream",
     "text": [
      "\r",
      "Epoch 891/1000:  89%|████████▉ | 891/1000 [2:05:58<14:24,  7.94s/it, v_num=ow_1, total_loss_train=1.45e+3, kl_local_train=38]"
     ]
    },
    {
     "name": "stdout",
     "output_type": "stream",
     "text": [
      "\r",
      "Epoch 891/1000:  89%|████████▉ | 891/1000 [2:05:58<14:24,  7.94s/it, v_num=ow_1, total_loss_train=1.45e+3, kl_local_train=38]"
     ]
    },
    {
     "name": "stdout",
     "output_type": "stream",
     "text": [
      "\r",
      "Epoch 892/1000:  89%|████████▉ | 891/1000 [2:05:58<14:24,  7.94s/it, v_num=ow_1, total_loss_train=1.45e+3, kl_local_train=38]"
     ]
    },
    {
     "name": "stdout",
     "output_type": "stream",
     "text": [
      "\r",
      "Epoch 892/1000:  89%|████████▉ | 892/1000 [2:06:05<14:11,  7.89s/it, v_num=ow_1, total_loss_train=1.45e+3, kl_local_train=38]"
     ]
    },
    {
     "name": "stdout",
     "output_type": "stream",
     "text": [
      "\r",
      "Epoch 892/1000:  89%|████████▉ | 892/1000 [2:06:05<14:11,  7.89s/it, v_num=ow_1, total_loss_train=1.45e+3, kl_local_train=37.9]"
     ]
    },
    {
     "name": "stdout",
     "output_type": "stream",
     "text": [
      "\r",
      "Epoch 893/1000:  89%|████████▉ | 892/1000 [2:06:05<14:11,  7.89s/it, v_num=ow_1, total_loss_train=1.45e+3, kl_local_train=37.9]"
     ]
    },
    {
     "name": "stdout",
     "output_type": "stream",
     "text": [
      "\r",
      "Epoch 893/1000:  89%|████████▉ | 893/1000 [2:06:13<14:00,  7.86s/it, v_num=ow_1, total_loss_train=1.45e+3, kl_local_train=37.9]"
     ]
    },
    {
     "name": "stdout",
     "output_type": "stream",
     "text": [
      "\r",
      "Epoch 893/1000:  89%|████████▉ | 893/1000 [2:06:13<14:00,  7.86s/it, v_num=ow_1, total_loss_train=1.45e+3, kl_local_train=38]  "
     ]
    },
    {
     "name": "stdout",
     "output_type": "stream",
     "text": [
      "\r",
      "Epoch 894/1000:  89%|████████▉ | 893/1000 [2:06:13<14:00,  7.86s/it, v_num=ow_1, total_loss_train=1.45e+3, kl_local_train=38]"
     ]
    },
    {
     "name": "stdout",
     "output_type": "stream",
     "text": [
      "\r",
      "Epoch 894/1000:  89%|████████▉ | 894/1000 [2:06:23<14:42,  8.33s/it, v_num=ow_1, total_loss_train=1.45e+3, kl_local_train=38]"
     ]
    },
    {
     "name": "stdout",
     "output_type": "stream",
     "text": [
      "\r",
      "Epoch 894/1000:  89%|████████▉ | 894/1000 [2:06:23<14:42,  8.33s/it, v_num=ow_1, total_loss_train=1.45e+3, kl_local_train=38]"
     ]
    },
    {
     "name": "stdout",
     "output_type": "stream",
     "text": [
      "\r",
      "Epoch 895/1000:  89%|████████▉ | 894/1000 [2:06:23<14:42,  8.33s/it, v_num=ow_1, total_loss_train=1.45e+3, kl_local_train=38]"
     ]
    },
    {
     "name": "stdout",
     "output_type": "stream",
     "text": [
      "\r",
      "Epoch 895/1000:  90%|████████▉ | 895/1000 [2:06:31<14:33,  8.32s/it, v_num=ow_1, total_loss_train=1.45e+3, kl_local_train=38]"
     ]
    },
    {
     "name": "stdout",
     "output_type": "stream",
     "text": [
      "\r",
      "Epoch 895/1000:  90%|████████▉ | 895/1000 [2:06:31<14:33,  8.32s/it, v_num=ow_1, total_loss_train=1.45e+3, kl_local_train=37.9]"
     ]
    },
    {
     "name": "stdout",
     "output_type": "stream",
     "text": [
      "\r",
      "Epoch 896/1000:  90%|████████▉ | 895/1000 [2:06:31<14:33,  8.32s/it, v_num=ow_1, total_loss_train=1.45e+3, kl_local_train=37.9]"
     ]
    },
    {
     "name": "stdout",
     "output_type": "stream",
     "text": [
      "\r",
      "Epoch 896/1000:  90%|████████▉ | 896/1000 [2:06:40<14:55,  8.61s/it, v_num=ow_1, total_loss_train=1.45e+3, kl_local_train=37.9]"
     ]
    },
    {
     "name": "stdout",
     "output_type": "stream",
     "text": [
      "\r",
      "Epoch 896/1000:  90%|████████▉ | 896/1000 [2:06:40<14:55,  8.61s/it, v_num=ow_1, total_loss_train=1.45e+3, kl_local_train=37.9]"
     ]
    },
    {
     "name": "stdout",
     "output_type": "stream",
     "text": [
      "\r",
      "Epoch 897/1000:  90%|████████▉ | 896/1000 [2:06:40<14:55,  8.61s/it, v_num=ow_1, total_loss_train=1.45e+3, kl_local_train=37.9]"
     ]
    },
    {
     "name": "stdout",
     "output_type": "stream",
     "text": [
      "\r",
      "Epoch 897/1000:  90%|████████▉ | 897/1000 [2:06:49<14:45,  8.59s/it, v_num=ow_1, total_loss_train=1.45e+3, kl_local_train=37.9]"
     ]
    },
    {
     "name": "stdout",
     "output_type": "stream",
     "text": [
      "\r",
      "Epoch 897/1000:  90%|████████▉ | 897/1000 [2:06:49<14:45,  8.59s/it, v_num=ow_1, total_loss_train=1.45e+3, kl_local_train=38]  "
     ]
    },
    {
     "name": "stdout",
     "output_type": "stream",
     "text": [
      "\r",
      "Epoch 898/1000:  90%|████████▉ | 897/1000 [2:06:49<14:45,  8.59s/it, v_num=ow_1, total_loss_train=1.45e+3, kl_local_train=38]"
     ]
    },
    {
     "name": "stdout",
     "output_type": "stream",
     "text": [
      "\r",
      "Epoch 898/1000:  90%|████████▉ | 898/1000 [2:06:57<14:29,  8.53s/it, v_num=ow_1, total_loss_train=1.45e+3, kl_local_train=38]"
     ]
    },
    {
     "name": "stdout",
     "output_type": "stream",
     "text": [
      "\r",
      "Epoch 898/1000:  90%|████████▉ | 898/1000 [2:06:57<14:29,  8.53s/it, v_num=ow_1, total_loss_train=1.45e+3, kl_local_train=37.9]"
     ]
    },
    {
     "name": "stdout",
     "output_type": "stream",
     "text": [
      "\r",
      "Epoch 899/1000:  90%|████████▉ | 898/1000 [2:06:57<14:29,  8.53s/it, v_num=ow_1, total_loss_train=1.45e+3, kl_local_train=37.9]"
     ]
    },
    {
     "name": "stdout",
     "output_type": "stream",
     "text": [
      "\r",
      "Epoch 899/1000:  90%|████████▉ | 899/1000 [2:07:05<14:12,  8.45s/it, v_num=ow_1, total_loss_train=1.45e+3, kl_local_train=37.9]"
     ]
    },
    {
     "name": "stdout",
     "output_type": "stream",
     "text": [
      "\r",
      "Epoch 899/1000:  90%|████████▉ | 899/1000 [2:07:05<14:12,  8.45s/it, v_num=ow_1, total_loss_train=1.45e+3, kl_local_train=38]  "
     ]
    },
    {
     "name": "stdout",
     "output_type": "stream",
     "text": [
      "\r",
      "Epoch 900/1000:  90%|████████▉ | 899/1000 [2:07:05<14:12,  8.45s/it, v_num=ow_1, total_loss_train=1.45e+3, kl_local_train=38]"
     ]
    },
    {
     "name": "stdout",
     "output_type": "stream",
     "text": [
      "\r",
      "Epoch 900/1000:  90%|█████████ | 900/1000 [2:07:14<13:56,  8.37s/it, v_num=ow_1, total_loss_train=1.45e+3, kl_local_train=38]"
     ]
    },
    {
     "name": "stdout",
     "output_type": "stream",
     "text": [
      "\r",
      "Epoch 900/1000:  90%|█████████ | 900/1000 [2:07:14<13:56,  8.37s/it, v_num=ow_1, total_loss_train=1.45e+3, kl_local_train=37.9]"
     ]
    },
    {
     "name": "stdout",
     "output_type": "stream",
     "text": [
      "\r",
      "Epoch 901/1000:  90%|█████████ | 900/1000 [2:07:14<13:56,  8.37s/it, v_num=ow_1, total_loss_train=1.45e+3, kl_local_train=37.9]"
     ]
    },
    {
     "name": "stdout",
     "output_type": "stream",
     "text": [
      "\r",
      "Epoch 901/1000:  90%|█████████ | 901/1000 [2:07:22<13:40,  8.29s/it, v_num=ow_1, total_loss_train=1.45e+3, kl_local_train=37.9]"
     ]
    },
    {
     "name": "stdout",
     "output_type": "stream",
     "text": [
      "\r",
      "Epoch 901/1000:  90%|█████████ | 901/1000 [2:07:22<13:40,  8.29s/it, v_num=ow_1, total_loss_train=1.45e+3, kl_local_train=38]  "
     ]
    },
    {
     "name": "stdout",
     "output_type": "stream",
     "text": [
      "\r",
      "Epoch 902/1000:  90%|█████████ | 901/1000 [2:07:22<13:40,  8.29s/it, v_num=ow_1, total_loss_train=1.45e+3, kl_local_train=38]"
     ]
    },
    {
     "name": "stdout",
     "output_type": "stream",
     "text": [
      "\r",
      "Epoch 902/1000:  90%|█████████ | 902/1000 [2:07:29<13:05,  8.02s/it, v_num=ow_1, total_loss_train=1.45e+3, kl_local_train=38]"
     ]
    },
    {
     "name": "stdout",
     "output_type": "stream",
     "text": [
      "\r",
      "Epoch 902/1000:  90%|█████████ | 902/1000 [2:07:29<13:05,  8.02s/it, v_num=ow_1, total_loss_train=1.45e+3, kl_local_train=38]"
     ]
    },
    {
     "name": "stdout",
     "output_type": "stream",
     "text": [
      "\r",
      "Epoch 903/1000:  90%|█████████ | 902/1000 [2:07:29<13:05,  8.02s/it, v_num=ow_1, total_loss_train=1.45e+3, kl_local_train=38]"
     ]
    },
    {
     "name": "stdout",
     "output_type": "stream",
     "text": [
      "\r",
      "Epoch 903/1000:  90%|█████████ | 903/1000 [2:07:37<13:00,  8.04s/it, v_num=ow_1, total_loss_train=1.45e+3, kl_local_train=38]"
     ]
    },
    {
     "name": "stdout",
     "output_type": "stream",
     "text": [
      "\r",
      "Epoch 903/1000:  90%|█████████ | 903/1000 [2:07:37<13:00,  8.04s/it, v_num=ow_1, total_loss_train=1.45e+3, kl_local_train=38]"
     ]
    },
    {
     "name": "stdout",
     "output_type": "stream",
     "text": [
      "\r",
      "Epoch 904/1000:  90%|█████████ | 903/1000 [2:07:37<13:00,  8.04s/it, v_num=ow_1, total_loss_train=1.45e+3, kl_local_train=38]"
     ]
    },
    {
     "name": "stdout",
     "output_type": "stream",
     "text": [
      "\r",
      "Epoch 904/1000:  90%|█████████ | 904/1000 [2:07:45<12:55,  8.07s/it, v_num=ow_1, total_loss_train=1.45e+3, kl_local_train=38]"
     ]
    },
    {
     "name": "stdout",
     "output_type": "stream",
     "text": [
      "\r",
      "Epoch 904/1000:  90%|█████████ | 904/1000 [2:07:45<12:55,  8.07s/it, v_num=ow_1, total_loss_train=1.45e+3, kl_local_train=38.1]"
     ]
    },
    {
     "name": "stdout",
     "output_type": "stream",
     "text": [
      "\r",
      "Epoch 905/1000:  90%|█████████ | 904/1000 [2:07:45<12:55,  8.07s/it, v_num=ow_1, total_loss_train=1.45e+3, kl_local_train=38.1]"
     ]
    },
    {
     "name": "stdout",
     "output_type": "stream",
     "text": [
      "\r",
      "Epoch 905/1000:  90%|█████████ | 905/1000 [2:07:54<13:00,  8.22s/it, v_num=ow_1, total_loss_train=1.45e+3, kl_local_train=38.1]"
     ]
    },
    {
     "name": "stdout",
     "output_type": "stream",
     "text": [
      "\r",
      "Epoch 905/1000:  90%|█████████ | 905/1000 [2:07:54<13:00,  8.22s/it, v_num=ow_1, total_loss_train=1.45e+3, kl_local_train=37.9]"
     ]
    },
    {
     "name": "stdout",
     "output_type": "stream",
     "text": [
      "\r",
      "Epoch 906/1000:  90%|█████████ | 905/1000 [2:07:54<13:00,  8.22s/it, v_num=ow_1, total_loss_train=1.45e+3, kl_local_train=37.9]"
     ]
    },
    {
     "name": "stdout",
     "output_type": "stream",
     "text": [
      "\r",
      "Epoch 906/1000:  91%|█████████ | 906/1000 [2:08:02<12:48,  8.18s/it, v_num=ow_1, total_loss_train=1.45e+3, kl_local_train=37.9]"
     ]
    },
    {
     "name": "stdout",
     "output_type": "stream",
     "text": [
      "\r",
      "Epoch 906/1000:  91%|█████████ | 906/1000 [2:08:02<12:48,  8.18s/it, v_num=ow_1, total_loss_train=1.45e+3, kl_local_train=38]  "
     ]
    },
    {
     "name": "stdout",
     "output_type": "stream",
     "text": [
      "\r",
      "Epoch 907/1000:  91%|█████████ | 906/1000 [2:08:02<12:48,  8.18s/it, v_num=ow_1, total_loss_train=1.45e+3, kl_local_train=38]"
     ]
    },
    {
     "name": "stdout",
     "output_type": "stream",
     "text": [
      "\r",
      "Epoch 907/1000:  91%|█████████ | 907/1000 [2:08:10<12:33,  8.10s/it, v_num=ow_1, total_loss_train=1.45e+3, kl_local_train=38]"
     ]
    },
    {
     "name": "stdout",
     "output_type": "stream",
     "text": [
      "\r",
      "Epoch 907/1000:  91%|█████████ | 907/1000 [2:08:10<12:33,  8.10s/it, v_num=ow_1, total_loss_train=1.45e+3, kl_local_train=38]"
     ]
    },
    {
     "name": "stdout",
     "output_type": "stream",
     "text": [
      "\r",
      "Epoch 908/1000:  91%|█████████ | 907/1000 [2:08:10<12:33,  8.10s/it, v_num=ow_1, total_loss_train=1.45e+3, kl_local_train=38]"
     ]
    },
    {
     "name": "stdout",
     "output_type": "stream",
     "text": [
      "\r",
      "Epoch 908/1000:  91%|█████████ | 908/1000 [2:08:18<12:37,  8.23s/it, v_num=ow_1, total_loss_train=1.45e+3, kl_local_train=38]"
     ]
    },
    {
     "name": "stdout",
     "output_type": "stream",
     "text": [
      "\r",
      "Epoch 908/1000:  91%|█████████ | 908/1000 [2:08:18<12:37,  8.23s/it, v_num=ow_1, total_loss_train=1.45e+3, kl_local_train=38.1]"
     ]
    },
    {
     "name": "stdout",
     "output_type": "stream",
     "text": [
      "\r",
      "Epoch 909/1000:  91%|█████████ | 908/1000 [2:08:18<12:37,  8.23s/it, v_num=ow_1, total_loss_train=1.45e+3, kl_local_train=38.1]"
     ]
    },
    {
     "name": "stdout",
     "output_type": "stream",
     "text": [
      "\r",
      "Epoch 909/1000:  91%|█████████ | 909/1000 [2:08:27<12:32,  8.27s/it, v_num=ow_1, total_loss_train=1.45e+3, kl_local_train=38.1]"
     ]
    },
    {
     "name": "stdout",
     "output_type": "stream",
     "text": [
      "\r",
      "Epoch 909/1000:  91%|█████████ | 909/1000 [2:08:27<12:32,  8.27s/it, v_num=ow_1, total_loss_train=1.45e+3, kl_local_train=38.1]"
     ]
    },
    {
     "name": "stdout",
     "output_type": "stream",
     "text": [
      "\r",
      "Epoch 910/1000:  91%|█████████ | 909/1000 [2:08:27<12:32,  8.27s/it, v_num=ow_1, total_loss_train=1.45e+3, kl_local_train=38.1]"
     ]
    },
    {
     "name": "stdout",
     "output_type": "stream",
     "text": [
      "\r",
      "Epoch 910/1000:  91%|█████████ | 910/1000 [2:08:35<12:35,  8.39s/it, v_num=ow_1, total_loss_train=1.45e+3, kl_local_train=38.1]"
     ]
    },
    {
     "name": "stdout",
     "output_type": "stream",
     "text": [
      "\r",
      "Epoch 910/1000:  91%|█████████ | 910/1000 [2:08:35<12:35,  8.39s/it, v_num=ow_1, total_loss_train=1.45e+3, kl_local_train=38]  "
     ]
    },
    {
     "name": "stdout",
     "output_type": "stream",
     "text": [
      "\r",
      "Epoch 911/1000:  91%|█████████ | 910/1000 [2:08:35<12:35,  8.39s/it, v_num=ow_1, total_loss_train=1.45e+3, kl_local_train=38]"
     ]
    },
    {
     "name": "stdout",
     "output_type": "stream",
     "text": [
      "\r",
      "Epoch 911/1000:  91%|█████████ | 911/1000 [2:08:44<12:32,  8.45s/it, v_num=ow_1, total_loss_train=1.45e+3, kl_local_train=38]"
     ]
    },
    {
     "name": "stdout",
     "output_type": "stream",
     "text": [
      "\r",
      "Epoch 911/1000:  91%|█████████ | 911/1000 [2:08:44<12:32,  8.45s/it, v_num=ow_1, total_loss_train=1.45e+3, kl_local_train=38.1]"
     ]
    },
    {
     "name": "stdout",
     "output_type": "stream",
     "text": [
      "\r",
      "Epoch 912/1000:  91%|█████████ | 911/1000 [2:08:44<12:32,  8.45s/it, v_num=ow_1, total_loss_train=1.45e+3, kl_local_train=38.1]"
     ]
    },
    {
     "name": "stdout",
     "output_type": "stream",
     "text": [
      "\r",
      "Epoch 912/1000:  91%|█████████ | 912/1000 [2:08:53<12:30,  8.52s/it, v_num=ow_1, total_loss_train=1.45e+3, kl_local_train=38.1]"
     ]
    },
    {
     "name": "stdout",
     "output_type": "stream",
     "text": [
      "\r",
      "Epoch 912/1000:  91%|█████████ | 912/1000 [2:08:53<12:30,  8.52s/it, v_num=ow_1, total_loss_train=1.45e+3, kl_local_train=38.1]"
     ]
    },
    {
     "name": "stdout",
     "output_type": "stream",
     "text": [
      "\r",
      "Epoch 913/1000:  91%|█████████ | 912/1000 [2:08:53<12:30,  8.52s/it, v_num=ow_1, total_loss_train=1.45e+3, kl_local_train=38.1]"
     ]
    },
    {
     "name": "stdout",
     "output_type": "stream",
     "text": [
      "\r",
      "Epoch 913/1000:  91%|█████████▏| 913/1000 [2:09:01<12:27,  8.59s/it, v_num=ow_1, total_loss_train=1.45e+3, kl_local_train=38.1]"
     ]
    },
    {
     "name": "stdout",
     "output_type": "stream",
     "text": [
      "\r",
      "Epoch 913/1000:  91%|█████████▏| 913/1000 [2:09:01<12:27,  8.59s/it, v_num=ow_1, total_loss_train=1.45e+3, kl_local_train=38]  "
     ]
    },
    {
     "name": "stdout",
     "output_type": "stream",
     "text": [
      "\r",
      "Epoch 914/1000:  91%|█████████▏| 913/1000 [2:09:01<12:27,  8.59s/it, v_num=ow_1, total_loss_train=1.45e+3, kl_local_train=38]"
     ]
    },
    {
     "name": "stdout",
     "output_type": "stream",
     "text": [
      "\r",
      "Epoch 914/1000:  91%|█████████▏| 914/1000 [2:09:11<12:42,  8.87s/it, v_num=ow_1, total_loss_train=1.45e+3, kl_local_train=38]"
     ]
    },
    {
     "name": "stdout",
     "output_type": "stream",
     "text": [
      "\r",
      "Epoch 914/1000:  91%|█████████▏| 914/1000 [2:09:11<12:42,  8.87s/it, v_num=ow_1, total_loss_train=1.45e+3, kl_local_train=38.1]"
     ]
    },
    {
     "name": "stdout",
     "output_type": "stream",
     "text": [
      "\r",
      "Epoch 915/1000:  91%|█████████▏| 914/1000 [2:09:11<12:42,  8.87s/it, v_num=ow_1, total_loss_train=1.45e+3, kl_local_train=38.1]"
     ]
    },
    {
     "name": "stdout",
     "output_type": "stream",
     "text": [
      "\r",
      "Epoch 915/1000:  92%|█████████▏| 915/1000 [2:09:19<12:06,  8.55s/it, v_num=ow_1, total_loss_train=1.45e+3, kl_local_train=38.1]"
     ]
    },
    {
     "name": "stdout",
     "output_type": "stream",
     "text": [
      "\r",
      "Epoch 915/1000:  92%|█████████▏| 915/1000 [2:09:19<12:06,  8.55s/it, v_num=ow_1, total_loss_train=1.45e+3, kl_local_train=38.1]"
     ]
    },
    {
     "name": "stdout",
     "output_type": "stream",
     "text": [
      "\r",
      "Epoch 916/1000:  92%|█████████▏| 915/1000 [2:09:19<12:06,  8.55s/it, v_num=ow_1, total_loss_train=1.45e+3, kl_local_train=38.1]"
     ]
    },
    {
     "name": "stdout",
     "output_type": "stream",
     "text": [
      "\r",
      "Epoch 916/1000:  92%|█████████▏| 916/1000 [2:09:27<12:00,  8.57s/it, v_num=ow_1, total_loss_train=1.45e+3, kl_local_train=38.1]"
     ]
    },
    {
     "name": "stdout",
     "output_type": "stream",
     "text": [
      "\r",
      "Epoch 916/1000:  92%|█████████▏| 916/1000 [2:09:27<12:00,  8.57s/it, v_num=ow_1, total_loss_train=1.45e+3, kl_local_train=38]  "
     ]
    },
    {
     "name": "stdout",
     "output_type": "stream",
     "text": [
      "\r",
      "Epoch 917/1000:  92%|█████████▏| 916/1000 [2:09:27<12:00,  8.57s/it, v_num=ow_1, total_loss_train=1.45e+3, kl_local_train=38]"
     ]
    },
    {
     "name": "stdout",
     "output_type": "stream",
     "text": [
      "\r",
      "Epoch 917/1000:  92%|█████████▏| 917/1000 [2:09:35<11:36,  8.40s/it, v_num=ow_1, total_loss_train=1.45e+3, kl_local_train=38]"
     ]
    },
    {
     "name": "stdout",
     "output_type": "stream",
     "text": [
      "\r",
      "Epoch 917/1000:  92%|█████████▏| 917/1000 [2:09:35<11:36,  8.40s/it, v_num=ow_1, total_loss_train=1.45e+3, kl_local_train=38.1]"
     ]
    },
    {
     "name": "stdout",
     "output_type": "stream",
     "text": [
      "\r",
      "Epoch 918/1000:  92%|█████████▏| 917/1000 [2:09:35<11:36,  8.40s/it, v_num=ow_1, total_loss_train=1.45e+3, kl_local_train=38.1]"
     ]
    },
    {
     "name": "stdout",
     "output_type": "stream",
     "text": [
      "\r",
      "Epoch 918/1000:  92%|█████████▏| 918/1000 [2:09:45<11:55,  8.73s/it, v_num=ow_1, total_loss_train=1.45e+3, kl_local_train=38.1]"
     ]
    },
    {
     "name": "stdout",
     "output_type": "stream",
     "text": [
      "\r",
      "Epoch 918/1000:  92%|█████████▏| 918/1000 [2:09:45<11:55,  8.73s/it, v_num=ow_1, total_loss_train=1.45e+3, kl_local_train=38]  "
     ]
    },
    {
     "name": "stdout",
     "output_type": "stream",
     "text": [
      "\r",
      "Epoch 919/1000:  92%|█████████▏| 918/1000 [2:09:45<11:55,  8.73s/it, v_num=ow_1, total_loss_train=1.45e+3, kl_local_train=38]"
     ]
    },
    {
     "name": "stdout",
     "output_type": "stream",
     "text": [
      "\r",
      "Epoch 919/1000:  92%|█████████▏| 919/1000 [2:09:54<11:45,  8.71s/it, v_num=ow_1, total_loss_train=1.45e+3, kl_local_train=38]"
     ]
    },
    {
     "name": "stdout",
     "output_type": "stream",
     "text": [
      "\r",
      "Epoch 919/1000:  92%|█████████▏| 919/1000 [2:09:54<11:45,  8.71s/it, v_num=ow_1, total_loss_train=1.45e+3, kl_local_train=38]"
     ]
    },
    {
     "name": "stdout",
     "output_type": "stream",
     "text": [
      "\r",
      "Epoch 920/1000:  92%|█████████▏| 919/1000 [2:09:54<11:45,  8.71s/it, v_num=ow_1, total_loss_train=1.45e+3, kl_local_train=38]"
     ]
    },
    {
     "name": "stdout",
     "output_type": "stream",
     "text": [
      "\r",
      "Epoch 920/1000:  92%|█████████▏| 920/1000 [2:10:02<11:33,  8.67s/it, v_num=ow_1, total_loss_train=1.45e+3, kl_local_train=38]"
     ]
    },
    {
     "name": "stdout",
     "output_type": "stream",
     "text": [
      "\r",
      "Epoch 920/1000:  92%|█████████▏| 920/1000 [2:10:02<11:33,  8.67s/it, v_num=ow_1, total_loss_train=1.45e+3, kl_local_train=38]"
     ]
    },
    {
     "name": "stdout",
     "output_type": "stream",
     "text": [
      "\r",
      "Epoch 921/1000:  92%|█████████▏| 920/1000 [2:10:02<11:33,  8.67s/it, v_num=ow_1, total_loss_train=1.45e+3, kl_local_train=38]"
     ]
    },
    {
     "name": "stdout",
     "output_type": "stream",
     "text": [
      "\r",
      "Epoch 921/1000:  92%|█████████▏| 921/1000 [2:10:11<11:21,  8.62s/it, v_num=ow_1, total_loss_train=1.45e+3, kl_local_train=38]"
     ]
    },
    {
     "name": "stdout",
     "output_type": "stream",
     "text": [
      "\r",
      "Epoch 921/1000:  92%|█████████▏| 921/1000 [2:10:11<11:21,  8.62s/it, v_num=ow_1, total_loss_train=1.45e+3, kl_local_train=38]"
     ]
    },
    {
     "name": "stdout",
     "output_type": "stream",
     "text": [
      "\r",
      "Epoch 922/1000:  92%|█████████▏| 921/1000 [2:10:11<11:21,  8.62s/it, v_num=ow_1, total_loss_train=1.45e+3, kl_local_train=38]"
     ]
    },
    {
     "name": "stdout",
     "output_type": "stream",
     "text": [
      "\r",
      "Epoch 922/1000:  92%|█████████▏| 922/1000 [2:10:19<11:08,  8.57s/it, v_num=ow_1, total_loss_train=1.45e+3, kl_local_train=38]"
     ]
    },
    {
     "name": "stdout",
     "output_type": "stream",
     "text": [
      "\r",
      "Epoch 922/1000:  92%|█████████▏| 922/1000 [2:10:19<11:08,  8.57s/it, v_num=ow_1, total_loss_train=1.45e+3, kl_local_train=38]"
     ]
    },
    {
     "name": "stdout",
     "output_type": "stream",
     "text": [
      "\r",
      "Epoch 923/1000:  92%|█████████▏| 922/1000 [2:10:19<11:08,  8.57s/it, v_num=ow_1, total_loss_train=1.45e+3, kl_local_train=38]"
     ]
    },
    {
     "name": "stdout",
     "output_type": "stream",
     "text": [
      "\r",
      "Epoch 923/1000:  92%|█████████▏| 923/1000 [2:10:28<11:17,  8.80s/it, v_num=ow_1, total_loss_train=1.45e+3, kl_local_train=38]"
     ]
    },
    {
     "name": "stdout",
     "output_type": "stream",
     "text": [
      "\r",
      "Epoch 923/1000:  92%|█████████▏| 923/1000 [2:10:28<11:17,  8.80s/it, v_num=ow_1, total_loss_train=1.45e+3, kl_local_train=38.1]"
     ]
    },
    {
     "name": "stdout",
     "output_type": "stream",
     "text": [
      "\r",
      "Epoch 924/1000:  92%|█████████▏| 923/1000 [2:10:28<11:17,  8.80s/it, v_num=ow_1, total_loss_train=1.45e+3, kl_local_train=38.1]"
     ]
    },
    {
     "name": "stdout",
     "output_type": "stream",
     "text": [
      "\r",
      "Epoch 924/1000:  92%|█████████▏| 924/1000 [2:10:36<10:50,  8.56s/it, v_num=ow_1, total_loss_train=1.45e+3, kl_local_train=38.1]"
     ]
    },
    {
     "name": "stdout",
     "output_type": "stream",
     "text": [
      "\r",
      "Epoch 924/1000:  92%|█████████▏| 924/1000 [2:10:36<10:50,  8.56s/it, v_num=ow_1, total_loss_train=1.45e+3, kl_local_train=38]  "
     ]
    },
    {
     "name": "stdout",
     "output_type": "stream",
     "text": [
      "\r",
      "Epoch 925/1000:  92%|█████████▏| 924/1000 [2:10:36<10:50,  8.56s/it, v_num=ow_1, total_loss_train=1.45e+3, kl_local_train=38]"
     ]
    },
    {
     "name": "stdout",
     "output_type": "stream",
     "text": [
      "\r",
      "Epoch 925/1000:  92%|█████████▎| 925/1000 [2:10:45<10:41,  8.55s/it, v_num=ow_1, total_loss_train=1.45e+3, kl_local_train=38]"
     ]
    },
    {
     "name": "stdout",
     "output_type": "stream",
     "text": [
      "\r",
      "Epoch 925/1000:  92%|█████████▎| 925/1000 [2:10:45<10:41,  8.55s/it, v_num=ow_1, total_loss_train=1.45e+3, kl_local_train=38]"
     ]
    },
    {
     "name": "stdout",
     "output_type": "stream",
     "text": [
      "\r",
      "Epoch 926/1000:  92%|█████████▎| 925/1000 [2:10:45<10:41,  8.55s/it, v_num=ow_1, total_loss_train=1.45e+3, kl_local_train=38]"
     ]
    },
    {
     "name": "stdout",
     "output_type": "stream",
     "text": [
      "\r",
      "Epoch 926/1000:  93%|█████████▎| 926/1000 [2:10:53<10:26,  8.47s/it, v_num=ow_1, total_loss_train=1.45e+3, kl_local_train=38]"
     ]
    },
    {
     "name": "stdout",
     "output_type": "stream",
     "text": [
      "\r",
      "Epoch 926/1000:  93%|█████████▎| 926/1000 [2:10:53<10:26,  8.47s/it, v_num=ow_1, total_loss_train=1.45e+3, kl_local_train=37.9]"
     ]
    },
    {
     "name": "stdout",
     "output_type": "stream",
     "text": [
      "\r",
      "Epoch 927/1000:  93%|█████████▎| 926/1000 [2:10:53<10:26,  8.47s/it, v_num=ow_1, total_loss_train=1.45e+3, kl_local_train=37.9]"
     ]
    },
    {
     "name": "stdout",
     "output_type": "stream",
     "text": [
      "\r",
      "Epoch 927/1000:  93%|█████████▎| 927/1000 [2:11:02<10:31,  8.65s/it, v_num=ow_1, total_loss_train=1.45e+3, kl_local_train=37.9]"
     ]
    },
    {
     "name": "stdout",
     "output_type": "stream",
     "text": [
      "\r",
      "Epoch 927/1000:  93%|█████████▎| 927/1000 [2:11:02<10:31,  8.65s/it, v_num=ow_1, total_loss_train=1.45e+3, kl_local_train=38.1]"
     ]
    },
    {
     "name": "stdout",
     "output_type": "stream",
     "text": [
      "\r",
      "Epoch 928/1000:  93%|█████████▎| 927/1000 [2:11:02<10:31,  8.65s/it, v_num=ow_1, total_loss_train=1.45e+3, kl_local_train=38.1]"
     ]
    },
    {
     "name": "stdout",
     "output_type": "stream",
     "text": [
      "\r",
      "Epoch 928/1000:  93%|█████████▎| 928/1000 [2:11:10<09:58,  8.31s/it, v_num=ow_1, total_loss_train=1.45e+3, kl_local_train=38.1]"
     ]
    },
    {
     "name": "stdout",
     "output_type": "stream",
     "text": [
      "\r",
      "Epoch 928/1000:  93%|█████████▎| 928/1000 [2:11:10<09:58,  8.31s/it, v_num=ow_1, total_loss_train=1.45e+3, kl_local_train=38.1]"
     ]
    },
    {
     "name": "stdout",
     "output_type": "stream",
     "text": [
      "\r",
      "Epoch 929/1000:  93%|█████████▎| 928/1000 [2:11:10<09:58,  8.31s/it, v_num=ow_1, total_loss_train=1.45e+3, kl_local_train=38.1]"
     ]
    },
    {
     "name": "stdout",
     "output_type": "stream",
     "text": [
      "\r",
      "Epoch 929/1000:  93%|█████████▎| 929/1000 [2:11:17<09:29,  8.02s/it, v_num=ow_1, total_loss_train=1.45e+3, kl_local_train=38.1]"
     ]
    },
    {
     "name": "stdout",
     "output_type": "stream",
     "text": [
      "\r",
      "Epoch 929/1000:  93%|█████████▎| 929/1000 [2:11:17<09:29,  8.02s/it, v_num=ow_1, total_loss_train=1.45e+3, kl_local_train=38]  "
     ]
    },
    {
     "name": "stdout",
     "output_type": "stream",
     "text": [
      "\r",
      "Epoch 930/1000:  93%|█████████▎| 929/1000 [2:11:17<09:29,  8.02s/it, v_num=ow_1, total_loss_train=1.45e+3, kl_local_train=38]"
     ]
    },
    {
     "name": "stdout",
     "output_type": "stream",
     "text": [
      "\r",
      "Epoch 930/1000:  93%|█████████▎| 930/1000 [2:11:25<09:07,  7.82s/it, v_num=ow_1, total_loss_train=1.45e+3, kl_local_train=38]"
     ]
    },
    {
     "name": "stdout",
     "output_type": "stream",
     "text": [
      "\r",
      "Epoch 930/1000:  93%|█████████▎| 930/1000 [2:11:25<09:07,  7.82s/it, v_num=ow_1, total_loss_train=1.45e+3, kl_local_train=38.1]"
     ]
    },
    {
     "name": "stdout",
     "output_type": "stream",
     "text": [
      "\r",
      "Epoch 931/1000:  93%|█████████▎| 930/1000 [2:11:25<09:07,  7.82s/it, v_num=ow_1, total_loss_train=1.45e+3, kl_local_train=38.1]"
     ]
    },
    {
     "name": "stdout",
     "output_type": "stream",
     "text": [
      "\r",
      "Epoch 931/1000:  93%|█████████▎| 931/1000 [2:11:32<09:02,  7.86s/it, v_num=ow_1, total_loss_train=1.45e+3, kl_local_train=38.1]"
     ]
    },
    {
     "name": "stdout",
     "output_type": "stream",
     "text": [
      "\r",
      "Epoch 931/1000:  93%|█████████▎| 931/1000 [2:11:32<09:02,  7.86s/it, v_num=ow_1, total_loss_train=1.45e+3, kl_local_train=38]  "
     ]
    },
    {
     "name": "stdout",
     "output_type": "stream",
     "text": [
      "\r",
      "Epoch 932/1000:  93%|█████████▎| 931/1000 [2:11:32<09:02,  7.86s/it, v_num=ow_1, total_loss_train=1.45e+3, kl_local_train=38]"
     ]
    },
    {
     "name": "stdout",
     "output_type": "stream",
     "text": [
      "\r",
      "Epoch 932/1000:  93%|█████████▎| 932/1000 [2:11:40<08:45,  7.72s/it, v_num=ow_1, total_loss_train=1.45e+3, kl_local_train=38]"
     ]
    },
    {
     "name": "stdout",
     "output_type": "stream",
     "text": [
      "\r",
      "Epoch 932/1000:  93%|█████████▎| 932/1000 [2:11:40<08:45,  7.72s/it, v_num=ow_1, total_loss_train=1.45e+3, kl_local_train=37.9]"
     ]
    },
    {
     "name": "stdout",
     "output_type": "stream",
     "text": [
      "\r",
      "Epoch 933/1000:  93%|█████████▎| 932/1000 [2:11:40<08:45,  7.72s/it, v_num=ow_1, total_loss_train=1.45e+3, kl_local_train=37.9]"
     ]
    },
    {
     "name": "stdout",
     "output_type": "stream",
     "text": [
      "\r",
      "Epoch 933/1000:  93%|█████████▎| 933/1000 [2:11:48<08:46,  7.86s/it, v_num=ow_1, total_loss_train=1.45e+3, kl_local_train=37.9]"
     ]
    },
    {
     "name": "stdout",
     "output_type": "stream",
     "text": [
      "\r",
      "Epoch 933/1000:  93%|█████████▎| 933/1000 [2:11:48<08:46,  7.86s/it, v_num=ow_1, total_loss_train=1.45e+3, kl_local_train=38.1]"
     ]
    },
    {
     "name": "stdout",
     "output_type": "stream",
     "text": [
      "\r",
      "Epoch 934/1000:  93%|█████████▎| 933/1000 [2:11:48<08:46,  7.86s/it, v_num=ow_1, total_loss_train=1.45e+3, kl_local_train=38.1]"
     ]
    },
    {
     "name": "stdout",
     "output_type": "stream",
     "text": [
      "\r",
      "Epoch 934/1000:  93%|█████████▎| 934/1000 [2:11:56<08:43,  7.93s/it, v_num=ow_1, total_loss_train=1.45e+3, kl_local_train=38.1]"
     ]
    },
    {
     "name": "stdout",
     "output_type": "stream",
     "text": [
      "\r",
      "Epoch 934/1000:  93%|█████████▎| 934/1000 [2:11:56<08:43,  7.93s/it, v_num=ow_1, total_loss_train=1.45e+3, kl_local_train=38.1]"
     ]
    },
    {
     "name": "stdout",
     "output_type": "stream",
     "text": [
      "\r",
      "Epoch 935/1000:  93%|█████████▎| 934/1000 [2:11:56<08:43,  7.93s/it, v_num=ow_1, total_loss_train=1.45e+3, kl_local_train=38.1]"
     ]
    },
    {
     "name": "stdout",
     "output_type": "stream",
     "text": [
      "\r",
      "Epoch 935/1000:  94%|█████████▎| 935/1000 [2:12:05<08:51,  8.18s/it, v_num=ow_1, total_loss_train=1.45e+3, kl_local_train=38.1]"
     ]
    },
    {
     "name": "stdout",
     "output_type": "stream",
     "text": [
      "\r",
      "Epoch 935/1000:  94%|█████████▎| 935/1000 [2:12:05<08:51,  8.18s/it, v_num=ow_1, total_loss_train=1.45e+3, kl_local_train=38]  "
     ]
    },
    {
     "name": "stdout",
     "output_type": "stream",
     "text": [
      "\r",
      "Epoch 936/1000:  94%|█████████▎| 935/1000 [2:12:05<08:51,  8.18s/it, v_num=ow_1, total_loss_train=1.45e+3, kl_local_train=38]"
     ]
    },
    {
     "name": "stdout",
     "output_type": "stream",
     "text": [
      "\r",
      "Epoch 936/1000:  94%|█████████▎| 936/1000 [2:12:14<08:53,  8.34s/it, v_num=ow_1, total_loss_train=1.45e+3, kl_local_train=38]"
     ]
    },
    {
     "name": "stdout",
     "output_type": "stream",
     "text": [
      "\r",
      "Epoch 936/1000:  94%|█████████▎| 936/1000 [2:12:14<08:53,  8.34s/it, v_num=ow_1, total_loss_train=1.45e+3, kl_local_train=38]"
     ]
    },
    {
     "name": "stdout",
     "output_type": "stream",
     "text": [
      "\r",
      "Epoch 937/1000:  94%|█████████▎| 936/1000 [2:12:14<08:53,  8.34s/it, v_num=ow_1, total_loss_train=1.45e+3, kl_local_train=38]"
     ]
    },
    {
     "name": "stdout",
     "output_type": "stream",
     "text": [
      "\r",
      "Epoch 937/1000:  94%|█████████▎| 937/1000 [2:12:22<08:52,  8.45s/it, v_num=ow_1, total_loss_train=1.45e+3, kl_local_train=38]"
     ]
    },
    {
     "name": "stdout",
     "output_type": "stream",
     "text": [
      "\r",
      "Epoch 937/1000:  94%|█████████▎| 937/1000 [2:12:22<08:52,  8.45s/it, v_num=ow_1, total_loss_train=1.45e+3, kl_local_train=38.1]"
     ]
    },
    {
     "name": "stdout",
     "output_type": "stream",
     "text": [
      "\r",
      "Epoch 938/1000:  94%|█████████▎| 937/1000 [2:12:22<08:52,  8.45s/it, v_num=ow_1, total_loss_train=1.45e+3, kl_local_train=38.1]"
     ]
    },
    {
     "name": "stdout",
     "output_type": "stream",
     "text": [
      "\r",
      "Epoch 938/1000:  94%|█████████▍| 938/1000 [2:12:31<08:54,  8.62s/it, v_num=ow_1, total_loss_train=1.45e+3, kl_local_train=38.1]"
     ]
    },
    {
     "name": "stdout",
     "output_type": "stream",
     "text": [
      "\r",
      "Epoch 938/1000:  94%|█████████▍| 938/1000 [2:12:31<08:54,  8.62s/it, v_num=ow_1, total_loss_train=1.45e+3, kl_local_train=38]  "
     ]
    },
    {
     "name": "stdout",
     "output_type": "stream",
     "text": [
      "\r",
      "Epoch 939/1000:  94%|█████████▍| 938/1000 [2:12:31<08:54,  8.62s/it, v_num=ow_1, total_loss_train=1.45e+3, kl_local_train=38]"
     ]
    },
    {
     "name": "stdout",
     "output_type": "stream",
     "text": [
      "\r",
      "Epoch 939/1000:  94%|█████████▍| 939/1000 [2:12:40<08:43,  8.57s/it, v_num=ow_1, total_loss_train=1.45e+3, kl_local_train=38]"
     ]
    },
    {
     "name": "stdout",
     "output_type": "stream",
     "text": [
      "\r",
      "Epoch 939/1000:  94%|█████████▍| 939/1000 [2:12:40<08:43,  8.57s/it, v_num=ow_1, total_loss_train=1.45e+3, kl_local_train=38]"
     ]
    },
    {
     "name": "stdout",
     "output_type": "stream",
     "text": [
      "\r",
      "Epoch 940/1000:  94%|█████████▍| 939/1000 [2:12:40<08:43,  8.57s/it, v_num=ow_1, total_loss_train=1.45e+3, kl_local_train=38]"
     ]
    },
    {
     "name": "stdout",
     "output_type": "stream",
     "text": [
      "\r",
      "Epoch 940/1000:  94%|█████████▍| 940/1000 [2:12:49<08:36,  8.61s/it, v_num=ow_1, total_loss_train=1.45e+3, kl_local_train=38]"
     ]
    },
    {
     "name": "stdout",
     "output_type": "stream",
     "text": [
      "\r",
      "Epoch 940/1000:  94%|█████████▍| 940/1000 [2:12:49<08:36,  8.61s/it, v_num=ow_1, total_loss_train=1.45e+3, kl_local_train=38.1]"
     ]
    },
    {
     "name": "stdout",
     "output_type": "stream",
     "text": [
      "\r",
      "Epoch 941/1000:  94%|█████████▍| 940/1000 [2:12:49<08:36,  8.61s/it, v_num=ow_1, total_loss_train=1.45e+3, kl_local_train=38.1]"
     ]
    },
    {
     "name": "stdout",
     "output_type": "stream",
     "text": [
      "\r",
      "Epoch 941/1000:  94%|█████████▍| 941/1000 [2:12:57<08:30,  8.65s/it, v_num=ow_1, total_loss_train=1.45e+3, kl_local_train=38.1]"
     ]
    },
    {
     "name": "stdout",
     "output_type": "stream",
     "text": [
      "\r",
      "Epoch 941/1000:  94%|█████████▍| 941/1000 [2:12:57<08:30,  8.65s/it, v_num=ow_1, total_loss_train=1.45e+3, kl_local_train=38.1]"
     ]
    },
    {
     "name": "stdout",
     "output_type": "stream",
     "text": [
      "\r",
      "Epoch 942/1000:  94%|█████████▍| 941/1000 [2:12:57<08:30,  8.65s/it, v_num=ow_1, total_loss_train=1.45e+3, kl_local_train=38.1]"
     ]
    },
    {
     "name": "stdout",
     "output_type": "stream",
     "text": [
      "\r",
      "Epoch 942/1000:  94%|█████████▍| 942/1000 [2:13:06<08:21,  8.65s/it, v_num=ow_1, total_loss_train=1.45e+3, kl_local_train=38.1]"
     ]
    },
    {
     "name": "stdout",
     "output_type": "stream",
     "text": [
      "\r",
      "Epoch 942/1000:  94%|█████████▍| 942/1000 [2:13:06<08:21,  8.65s/it, v_num=ow_1, total_loss_train=1.45e+3, kl_local_train=38]  "
     ]
    },
    {
     "name": "stdout",
     "output_type": "stream",
     "text": [
      "\r",
      "Epoch 943/1000:  94%|█████████▍| 942/1000 [2:13:06<08:21,  8.65s/it, v_num=ow_1, total_loss_train=1.45e+3, kl_local_train=38]"
     ]
    },
    {
     "name": "stdout",
     "output_type": "stream",
     "text": [
      "\r",
      "Epoch 943/1000:  94%|█████████▍| 943/1000 [2:13:15<08:13,  8.66s/it, v_num=ow_1, total_loss_train=1.45e+3, kl_local_train=38]"
     ]
    },
    {
     "name": "stdout",
     "output_type": "stream",
     "text": [
      "\r",
      "Epoch 943/1000:  94%|█████████▍| 943/1000 [2:13:15<08:13,  8.66s/it, v_num=ow_1, total_loss_train=1.45e+3, kl_local_train=38.1]"
     ]
    },
    {
     "name": "stdout",
     "output_type": "stream",
     "text": [
      "\r",
      "Epoch 944/1000:  94%|█████████▍| 943/1000 [2:13:15<08:13,  8.66s/it, v_num=ow_1, total_loss_train=1.45e+3, kl_local_train=38.1]"
     ]
    },
    {
     "name": "stdout",
     "output_type": "stream",
     "text": [
      "\r",
      "Epoch 944/1000:  94%|█████████▍| 944/1000 [2:13:23<08:01,  8.60s/it, v_num=ow_1, total_loss_train=1.45e+3, kl_local_train=38.1]"
     ]
    },
    {
     "name": "stdout",
     "output_type": "stream",
     "text": [
      "\r",
      "Epoch 944/1000:  94%|█████████▍| 944/1000 [2:13:23<08:01,  8.60s/it, v_num=ow_1, total_loss_train=1.45e+3, kl_local_train=38.1]"
     ]
    },
    {
     "name": "stdout",
     "output_type": "stream",
     "text": [
      "\r",
      "Epoch 945/1000:  94%|█████████▍| 944/1000 [2:13:23<08:01,  8.60s/it, v_num=ow_1, total_loss_train=1.45e+3, kl_local_train=38.1]"
     ]
    },
    {
     "name": "stdout",
     "output_type": "stream",
     "text": [
      "\r",
      "Epoch 945/1000:  94%|█████████▍| 945/1000 [2:13:31<07:45,  8.46s/it, v_num=ow_1, total_loss_train=1.45e+3, kl_local_train=38.1]"
     ]
    },
    {
     "name": "stdout",
     "output_type": "stream",
     "text": [
      "\r",
      "Epoch 945/1000:  94%|█████████▍| 945/1000 [2:13:31<07:45,  8.46s/it, v_num=ow_1, total_loss_train=1.45e+3, kl_local_train=38.1]"
     ]
    },
    {
     "name": "stdout",
     "output_type": "stream",
     "text": [
      "\r",
      "Epoch 946/1000:  94%|█████████▍| 945/1000 [2:13:31<07:45,  8.46s/it, v_num=ow_1, total_loss_train=1.45e+3, kl_local_train=38.1]"
     ]
    },
    {
     "name": "stdout",
     "output_type": "stream",
     "text": [
      "\r",
      "Epoch 946/1000:  95%|█████████▍| 946/1000 [2:13:39<07:30,  8.34s/it, v_num=ow_1, total_loss_train=1.45e+3, kl_local_train=38.1]"
     ]
    },
    {
     "name": "stdout",
     "output_type": "stream",
     "text": [
      "\r",
      "Epoch 946/1000:  95%|█████████▍| 946/1000 [2:13:39<07:30,  8.34s/it, v_num=ow_1, total_loss_train=1.45e+3, kl_local_train=38.2]"
     ]
    },
    {
     "name": "stdout",
     "output_type": "stream",
     "text": [
      "\r",
      "Epoch 947/1000:  95%|█████████▍| 946/1000 [2:13:39<07:30,  8.34s/it, v_num=ow_1, total_loss_train=1.45e+3, kl_local_train=38.2]"
     ]
    },
    {
     "name": "stdout",
     "output_type": "stream",
     "text": [
      "\r",
      "Epoch 947/1000:  95%|█████████▍| 947/1000 [2:13:49<07:37,  8.63s/it, v_num=ow_1, total_loss_train=1.45e+3, kl_local_train=38.2]"
     ]
    },
    {
     "name": "stdout",
     "output_type": "stream",
     "text": [
      "\r",
      "Epoch 947/1000:  95%|█████████▍| 947/1000 [2:13:49<07:37,  8.63s/it, v_num=ow_1, total_loss_train=1.45e+3, kl_local_train=38.1]"
     ]
    },
    {
     "name": "stdout",
     "output_type": "stream",
     "text": [
      "\r",
      "Epoch 948/1000:  95%|█████████▍| 947/1000 [2:13:49<07:37,  8.63s/it, v_num=ow_1, total_loss_train=1.45e+3, kl_local_train=38.1]"
     ]
    },
    {
     "name": "stdout",
     "output_type": "stream",
     "text": [
      "\r",
      "Epoch 948/1000:  95%|█████████▍| 948/1000 [2:13:57<07:29,  8.64s/it, v_num=ow_1, total_loss_train=1.45e+3, kl_local_train=38.1]"
     ]
    },
    {
     "name": "stdout",
     "output_type": "stream",
     "text": [
      "\r",
      "Epoch 948/1000:  95%|█████████▍| 948/1000 [2:13:57<07:29,  8.64s/it, v_num=ow_1, total_loss_train=1.45e+3, kl_local_train=37.9]"
     ]
    },
    {
     "name": "stdout",
     "output_type": "stream",
     "text": [
      "\r",
      "Epoch 949/1000:  95%|█████████▍| 948/1000 [2:13:57<07:29,  8.64s/it, v_num=ow_1, total_loss_train=1.45e+3, kl_local_train=37.9]"
     ]
    },
    {
     "name": "stdout",
     "output_type": "stream",
     "text": [
      "\r",
      "Epoch 949/1000:  95%|█████████▍| 949/1000 [2:14:06<07:20,  8.65s/it, v_num=ow_1, total_loss_train=1.45e+3, kl_local_train=37.9]"
     ]
    },
    {
     "name": "stdout",
     "output_type": "stream",
     "text": [
      "\r",
      "Epoch 949/1000:  95%|█████████▍| 949/1000 [2:14:06<07:20,  8.65s/it, v_num=ow_1, total_loss_train=1.45e+3, kl_local_train=38.2]"
     ]
    },
    {
     "name": "stdout",
     "output_type": "stream",
     "text": [
      "\r",
      "Epoch 950/1000:  95%|█████████▍| 949/1000 [2:14:06<07:20,  8.65s/it, v_num=ow_1, total_loss_train=1.45e+3, kl_local_train=38.2]"
     ]
    },
    {
     "name": "stdout",
     "output_type": "stream",
     "text": [
      "\r",
      "Epoch 950/1000:  95%|█████████▌| 950/1000 [2:14:15<07:12,  8.64s/it, v_num=ow_1, total_loss_train=1.45e+3, kl_local_train=38.2]"
     ]
    },
    {
     "name": "stdout",
     "output_type": "stream",
     "text": [
      "\r",
      "Epoch 950/1000:  95%|█████████▌| 950/1000 [2:14:15<07:12,  8.64s/it, v_num=ow_1, total_loss_train=1.45e+3, kl_local_train=38.2]"
     ]
    },
    {
     "name": "stdout",
     "output_type": "stream",
     "text": [
      "\r",
      "Epoch 951/1000:  95%|█████████▌| 950/1000 [2:14:15<07:12,  8.64s/it, v_num=ow_1, total_loss_train=1.45e+3, kl_local_train=38.2]"
     ]
    },
    {
     "name": "stdout",
     "output_type": "stream",
     "text": [
      "\r",
      "Epoch 951/1000:  95%|█████████▌| 951/1000 [2:14:23<07:04,  8.66s/it, v_num=ow_1, total_loss_train=1.45e+3, kl_local_train=38.2]"
     ]
    },
    {
     "name": "stdout",
     "output_type": "stream",
     "text": [
      "\r",
      "Epoch 951/1000:  95%|█████████▌| 951/1000 [2:14:23<07:04,  8.66s/it, v_num=ow_1, total_loss_train=1.45e+3, kl_local_train=38.2]"
     ]
    },
    {
     "name": "stdout",
     "output_type": "stream",
     "text": [
      "\r",
      "Epoch 952/1000:  95%|█████████▌| 951/1000 [2:14:23<07:04,  8.66s/it, v_num=ow_1, total_loss_train=1.45e+3, kl_local_train=38.2]"
     ]
    },
    {
     "name": "stdout",
     "output_type": "stream",
     "text": [
      "\r",
      "Epoch 952/1000:  95%|█████████▌| 952/1000 [2:14:31<06:46,  8.46s/it, v_num=ow_1, total_loss_train=1.45e+3, kl_local_train=38.2]"
     ]
    },
    {
     "name": "stdout",
     "output_type": "stream",
     "text": [
      "\r",
      "Epoch 952/1000:  95%|█████████▌| 952/1000 [2:14:31<06:46,  8.46s/it, v_num=ow_1, total_loss_train=1.45e+3, kl_local_train=38.1]"
     ]
    },
    {
     "name": "stdout",
     "output_type": "stream",
     "text": [
      "\r",
      "Epoch 953/1000:  95%|█████████▌| 952/1000 [2:14:31<06:46,  8.46s/it, v_num=ow_1, total_loss_train=1.45e+3, kl_local_train=38.1]"
     ]
    },
    {
     "name": "stdout",
     "output_type": "stream",
     "text": [
      "\r",
      "Epoch 953/1000:  95%|█████████▌| 953/1000 [2:14:40<06:40,  8.52s/it, v_num=ow_1, total_loss_train=1.45e+3, kl_local_train=38.1]"
     ]
    },
    {
     "name": "stdout",
     "output_type": "stream",
     "text": [
      "\r",
      "Epoch 953/1000:  95%|█████████▌| 953/1000 [2:14:40<06:40,  8.52s/it, v_num=ow_1, total_loss_train=1.45e+3, kl_local_train=37.9]"
     ]
    },
    {
     "name": "stdout",
     "output_type": "stream",
     "text": [
      "\r",
      "Epoch 954/1000:  95%|█████████▌| 953/1000 [2:14:40<06:40,  8.52s/it, v_num=ow_1, total_loss_train=1.45e+3, kl_local_train=37.9]"
     ]
    },
    {
     "name": "stdout",
     "output_type": "stream",
     "text": [
      "\r",
      "Epoch 954/1000:  95%|█████████▌| 954/1000 [2:14:49<06:43,  8.78s/it, v_num=ow_1, total_loss_train=1.45e+3, kl_local_train=37.9]"
     ]
    },
    {
     "name": "stdout",
     "output_type": "stream",
     "text": [
      "\r",
      "Epoch 954/1000:  95%|█████████▌| 954/1000 [2:14:49<06:43,  8.78s/it, v_num=ow_1, total_loss_train=1.45e+3, kl_local_train=38]  "
     ]
    },
    {
     "name": "stdout",
     "output_type": "stream",
     "text": [
      "\r",
      "Epoch 955/1000:  95%|█████████▌| 954/1000 [2:14:49<06:43,  8.78s/it, v_num=ow_1, total_loss_train=1.45e+3, kl_local_train=38]"
     ]
    },
    {
     "name": "stdout",
     "output_type": "stream",
     "text": [
      "\r",
      "Epoch 955/1000:  96%|█████████▌| 955/1000 [2:14:59<06:45,  9.00s/it, v_num=ow_1, total_loss_train=1.45e+3, kl_local_train=38]"
     ]
    },
    {
     "name": "stdout",
     "output_type": "stream",
     "text": [
      "\r",
      "Epoch 955/1000:  96%|█████████▌| 955/1000 [2:14:59<06:45,  9.00s/it, v_num=ow_1, total_loss_train=1.45e+3, kl_local_train=38.1]"
     ]
    },
    {
     "name": "stdout",
     "output_type": "stream",
     "text": [
      "\r",
      "Epoch 956/1000:  96%|█████████▌| 955/1000 [2:14:59<06:45,  9.00s/it, v_num=ow_1, total_loss_train=1.45e+3, kl_local_train=38.1]"
     ]
    },
    {
     "name": "stdout",
     "output_type": "stream",
     "text": [
      "\r",
      "Epoch 956/1000:  96%|█████████▌| 956/1000 [2:15:07<06:29,  8.86s/it, v_num=ow_1, total_loss_train=1.45e+3, kl_local_train=38.1]"
     ]
    },
    {
     "name": "stdout",
     "output_type": "stream",
     "text": [
      "\r",
      "Epoch 956/1000:  96%|█████████▌| 956/1000 [2:15:07<06:29,  8.86s/it, v_num=ow_1, total_loss_train=1.45e+3, kl_local_train=38.1]"
     ]
    },
    {
     "name": "stdout",
     "output_type": "stream",
     "text": [
      "\r",
      "Epoch 957/1000:  96%|█████████▌| 956/1000 [2:15:07<06:29,  8.86s/it, v_num=ow_1, total_loss_train=1.45e+3, kl_local_train=38.1]"
     ]
    },
    {
     "name": "stdout",
     "output_type": "stream",
     "text": [
      "\r",
      "Epoch 957/1000:  96%|█████████▌| 957/1000 [2:15:16<06:19,  8.82s/it, v_num=ow_1, total_loss_train=1.45e+3, kl_local_train=38.1]"
     ]
    },
    {
     "name": "stdout",
     "output_type": "stream",
     "text": [
      "\r",
      "Epoch 957/1000:  96%|█████████▌| 957/1000 [2:15:16<06:19,  8.82s/it, v_num=ow_1, total_loss_train=1.45e+3, kl_local_train=38.1]"
     ]
    },
    {
     "name": "stdout",
     "output_type": "stream",
     "text": [
      "\r",
      "Epoch 958/1000:  96%|█████████▌| 957/1000 [2:15:16<06:19,  8.82s/it, v_num=ow_1, total_loss_train=1.45e+3, kl_local_train=38.1]"
     ]
    },
    {
     "name": "stdout",
     "output_type": "stream",
     "text": [
      "\r",
      "Epoch 958/1000:  96%|█████████▌| 958/1000 [2:15:25<06:07,  8.74s/it, v_num=ow_1, total_loss_train=1.45e+3, kl_local_train=38.1]"
     ]
    },
    {
     "name": "stdout",
     "output_type": "stream",
     "text": [
      "\r",
      "Epoch 958/1000:  96%|█████████▌| 958/1000 [2:15:25<06:07,  8.74s/it, v_num=ow_1, total_loss_train=1.45e+3, kl_local_train=38]  "
     ]
    },
    {
     "name": "stdout",
     "output_type": "stream",
     "text": [
      "\r",
      "Epoch 959/1000:  96%|█████████▌| 958/1000 [2:15:25<06:07,  8.74s/it, v_num=ow_1, total_loss_train=1.45e+3, kl_local_train=38]"
     ]
    },
    {
     "name": "stdout",
     "output_type": "stream",
     "text": [
      "\r",
      "Epoch 959/1000:  96%|█████████▌| 959/1000 [2:15:33<05:54,  8.65s/it, v_num=ow_1, total_loss_train=1.45e+3, kl_local_train=38]"
     ]
    },
    {
     "name": "stdout",
     "output_type": "stream",
     "text": [
      "\r",
      "Epoch 959/1000:  96%|█████████▌| 959/1000 [2:15:33<05:54,  8.65s/it, v_num=ow_1, total_loss_train=1.45e+3, kl_local_train=38.1]"
     ]
    },
    {
     "name": "stdout",
     "output_type": "stream",
     "text": [
      "\r",
      "Epoch 960/1000:  96%|█████████▌| 959/1000 [2:15:33<05:54,  8.65s/it, v_num=ow_1, total_loss_train=1.45e+3, kl_local_train=38.1]"
     ]
    },
    {
     "name": "stdout",
     "output_type": "stream",
     "text": [
      "\r",
      "Epoch 960/1000:  96%|█████████▌| 960/1000 [2:15:42<05:44,  8.61s/it, v_num=ow_1, total_loss_train=1.45e+3, kl_local_train=38.1]"
     ]
    },
    {
     "name": "stdout",
     "output_type": "stream",
     "text": [
      "\r",
      "Epoch 960/1000:  96%|█████████▌| 960/1000 [2:15:42<05:44,  8.61s/it, v_num=ow_1, total_loss_train=1.45e+3, kl_local_train=38.1]"
     ]
    },
    {
     "name": "stdout",
     "output_type": "stream",
     "text": [
      "\r",
      "Epoch 961/1000:  96%|█████████▌| 960/1000 [2:15:42<05:44,  8.61s/it, v_num=ow_1, total_loss_train=1.45e+3, kl_local_train=38.1]"
     ]
    },
    {
     "name": "stdout",
     "output_type": "stream",
     "text": [
      "\r",
      "Epoch 961/1000:  96%|█████████▌| 961/1000 [2:15:50<05:34,  8.59s/it, v_num=ow_1, total_loss_train=1.45e+3, kl_local_train=38.1]"
     ]
    },
    {
     "name": "stdout",
     "output_type": "stream",
     "text": [
      "\r",
      "Epoch 961/1000:  96%|█████████▌| 961/1000 [2:15:50<05:34,  8.59s/it, v_num=ow_1, total_loss_train=1.45e+3, kl_local_train=38.1]"
     ]
    },
    {
     "name": "stdout",
     "output_type": "stream",
     "text": [
      "\r",
      "Epoch 962/1000:  96%|█████████▌| 961/1000 [2:15:50<05:34,  8.59s/it, v_num=ow_1, total_loss_train=1.45e+3, kl_local_train=38.1]"
     ]
    },
    {
     "name": "stdout",
     "output_type": "stream",
     "text": [
      "\r",
      "Epoch 962/1000:  96%|█████████▌| 962/1000 [2:15:58<05:18,  8.39s/it, v_num=ow_1, total_loss_train=1.45e+3, kl_local_train=38.1]"
     ]
    },
    {
     "name": "stdout",
     "output_type": "stream",
     "text": [
      "\r",
      "Epoch 962/1000:  96%|█████████▌| 962/1000 [2:15:58<05:18,  8.39s/it, v_num=ow_1, total_loss_train=1.45e+3, kl_local_train=38.2]"
     ]
    },
    {
     "name": "stdout",
     "output_type": "stream",
     "text": [
      "\r",
      "Epoch 963/1000:  96%|█████████▌| 962/1000 [2:15:58<05:18,  8.39s/it, v_num=ow_1, total_loss_train=1.45e+3, kl_local_train=38.2]"
     ]
    },
    {
     "name": "stdout",
     "output_type": "stream",
     "text": [
      "\r",
      "Epoch 963/1000:  96%|█████████▋| 963/1000 [2:16:07<05:11,  8.43s/it, v_num=ow_1, total_loss_train=1.45e+3, kl_local_train=38.2]"
     ]
    },
    {
     "name": "stdout",
     "output_type": "stream",
     "text": [
      "\r",
      "Epoch 963/1000:  96%|█████████▋| 963/1000 [2:16:07<05:11,  8.43s/it, v_num=ow_1, total_loss_train=1.45e+3, kl_local_train=38.1]"
     ]
    },
    {
     "name": "stdout",
     "output_type": "stream",
     "text": [
      "\r",
      "Epoch 964/1000:  96%|█████████▋| 963/1000 [2:16:07<05:11,  8.43s/it, v_num=ow_1, total_loss_train=1.45e+3, kl_local_train=38.1]"
     ]
    },
    {
     "name": "stdout",
     "output_type": "stream",
     "text": [
      "\r",
      "Epoch 964/1000:  96%|█████████▋| 964/1000 [2:16:15<05:06,  8.51s/it, v_num=ow_1, total_loss_train=1.45e+3, kl_local_train=38.1]"
     ]
    },
    {
     "name": "stdout",
     "output_type": "stream",
     "text": [
      "\r",
      "Epoch 964/1000:  96%|█████████▋| 964/1000 [2:16:15<05:06,  8.51s/it, v_num=ow_1, total_loss_train=1.45e+3, kl_local_train=38.2]"
     ]
    },
    {
     "name": "stdout",
     "output_type": "stream",
     "text": [
      "\r",
      "Epoch 965/1000:  96%|█████████▋| 964/1000 [2:16:15<05:06,  8.51s/it, v_num=ow_1, total_loss_train=1.45e+3, kl_local_train=38.2]"
     ]
    },
    {
     "name": "stdout",
     "output_type": "stream",
     "text": [
      "\r",
      "Epoch 965/1000:  96%|█████████▋| 965/1000 [2:16:24<04:57,  8.49s/it, v_num=ow_1, total_loss_train=1.45e+3, kl_local_train=38.2]"
     ]
    },
    {
     "name": "stdout",
     "output_type": "stream",
     "text": [
      "\r",
      "Epoch 965/1000:  96%|█████████▋| 965/1000 [2:16:24<04:57,  8.49s/it, v_num=ow_1, total_loss_train=1.45e+3, kl_local_train=38.1]"
     ]
    },
    {
     "name": "stdout",
     "output_type": "stream",
     "text": [
      "\r",
      "Epoch 966/1000:  96%|█████████▋| 965/1000 [2:16:24<04:57,  8.49s/it, v_num=ow_1, total_loss_train=1.45e+3, kl_local_train=38.1]"
     ]
    },
    {
     "name": "stdout",
     "output_type": "stream",
     "text": [
      "\r",
      "Epoch 966/1000:  97%|█████████▋| 966/1000 [2:16:32<04:46,  8.43s/it, v_num=ow_1, total_loss_train=1.45e+3, kl_local_train=38.1]"
     ]
    },
    {
     "name": "stdout",
     "output_type": "stream",
     "text": [
      "\r",
      "Epoch 966/1000:  97%|█████████▋| 966/1000 [2:16:32<04:46,  8.43s/it, v_num=ow_1, total_loss_train=1.45e+3, kl_local_train=37.9]"
     ]
    },
    {
     "name": "stdout",
     "output_type": "stream",
     "text": [
      "\r",
      "Epoch 967/1000:  97%|█████████▋| 966/1000 [2:16:32<04:46,  8.43s/it, v_num=ow_1, total_loss_train=1.45e+3, kl_local_train=37.9]"
     ]
    },
    {
     "name": "stdout",
     "output_type": "stream",
     "text": [
      "\r",
      "Epoch 967/1000:  97%|█████████▋| 967/1000 [2:16:40<04:29,  8.18s/it, v_num=ow_1, total_loss_train=1.45e+3, kl_local_train=37.9]"
     ]
    },
    {
     "name": "stdout",
     "output_type": "stream",
     "text": [
      "\r",
      "Epoch 967/1000:  97%|█████████▋| 967/1000 [2:16:40<04:29,  8.18s/it, v_num=ow_1, total_loss_train=1.45e+3, kl_local_train=38.1]"
     ]
    },
    {
     "name": "stdout",
     "output_type": "stream",
     "text": [
      "\r",
      "Epoch 968/1000:  97%|█████████▋| 967/1000 [2:16:40<04:29,  8.18s/it, v_num=ow_1, total_loss_train=1.45e+3, kl_local_train=38.1]"
     ]
    },
    {
     "name": "stdout",
     "output_type": "stream",
     "text": [
      "\r",
      "Epoch 968/1000:  97%|█████████▋| 968/1000 [2:16:49<04:29,  8.42s/it, v_num=ow_1, total_loss_train=1.45e+3, kl_local_train=38.1]"
     ]
    },
    {
     "name": "stdout",
     "output_type": "stream",
     "text": [
      "\r",
      "Epoch 968/1000:  97%|█████████▋| 968/1000 [2:16:49<04:29,  8.42s/it, v_num=ow_1, total_loss_train=1.45e+3, kl_local_train=38.2]"
     ]
    },
    {
     "name": "stdout",
     "output_type": "stream",
     "text": [
      "\r",
      "Epoch 969/1000:  97%|█████████▋| 968/1000 [2:16:49<04:29,  8.42s/it, v_num=ow_1, total_loss_train=1.45e+3, kl_local_train=38.2]"
     ]
    },
    {
     "name": "stdout",
     "output_type": "stream",
     "text": [
      "\r",
      "Epoch 969/1000:  97%|█████████▋| 969/1000 [2:16:58<04:26,  8.59s/it, v_num=ow_1, total_loss_train=1.45e+3, kl_local_train=38.2]"
     ]
    },
    {
     "name": "stdout",
     "output_type": "stream",
     "text": [
      "\r",
      "Epoch 969/1000:  97%|█████████▋| 969/1000 [2:16:58<04:26,  8.59s/it, v_num=ow_1, total_loss_train=1.45e+3, kl_local_train=38.1]"
     ]
    },
    {
     "name": "stdout",
     "output_type": "stream",
     "text": [
      "\r",
      "Epoch 970/1000:  97%|█████████▋| 969/1000 [2:16:58<04:26,  8.59s/it, v_num=ow_1, total_loss_train=1.45e+3, kl_local_train=38.1]"
     ]
    },
    {
     "name": "stdout",
     "output_type": "stream",
     "text": [
      "\r",
      "Epoch 970/1000:  97%|█████████▋| 970/1000 [2:17:06<04:13,  8.46s/it, v_num=ow_1, total_loss_train=1.45e+3, kl_local_train=38.1]"
     ]
    },
    {
     "name": "stdout",
     "output_type": "stream",
     "text": [
      "\r",
      "Epoch 970/1000:  97%|█████████▋| 970/1000 [2:17:06<04:13,  8.46s/it, v_num=ow_1, total_loss_train=1.45e+3, kl_local_train=38.1]"
     ]
    },
    {
     "name": "stdout",
     "output_type": "stream",
     "text": [
      "\r",
      "Epoch 971/1000:  97%|█████████▋| 970/1000 [2:17:06<04:13,  8.46s/it, v_num=ow_1, total_loss_train=1.45e+3, kl_local_train=38.1]"
     ]
    },
    {
     "name": "stdout",
     "output_type": "stream",
     "text": [
      "\r",
      "Epoch 971/1000:  97%|█████████▋| 971/1000 [2:17:14<04:03,  8.38s/it, v_num=ow_1, total_loss_train=1.45e+3, kl_local_train=38.1]"
     ]
    },
    {
     "name": "stdout",
     "output_type": "stream",
     "text": [
      "\r",
      "Epoch 971/1000:  97%|█████████▋| 971/1000 [2:17:14<04:03,  8.38s/it, v_num=ow_1, total_loss_train=1.45e+3, kl_local_train=38]  "
     ]
    },
    {
     "name": "stdout",
     "output_type": "stream",
     "text": [
      "\r",
      "Epoch 972/1000:  97%|█████████▋| 971/1000 [2:17:14<04:03,  8.38s/it, v_num=ow_1, total_loss_train=1.45e+3, kl_local_train=38]"
     ]
    },
    {
     "name": "stdout",
     "output_type": "stream",
     "text": [
      "\r",
      "Epoch 972/1000:  97%|█████████▋| 972/1000 [2:17:22<03:48,  8.15s/it, v_num=ow_1, total_loss_train=1.45e+3, kl_local_train=38]"
     ]
    },
    {
     "name": "stdout",
     "output_type": "stream",
     "text": [
      "\r",
      "Epoch 972/1000:  97%|█████████▋| 972/1000 [2:17:22<03:48,  8.15s/it, v_num=ow_1, total_loss_train=1.45e+3, kl_local_train=38.2]"
     ]
    },
    {
     "name": "stdout",
     "output_type": "stream",
     "text": [
      "\r",
      "Epoch 973/1000:  97%|█████████▋| 972/1000 [2:17:22<03:48,  8.15s/it, v_num=ow_1, total_loss_train=1.45e+3, kl_local_train=38.2]"
     ]
    },
    {
     "name": "stdout",
     "output_type": "stream",
     "text": [
      "\r",
      "Epoch 973/1000:  97%|█████████▋| 973/1000 [2:17:30<03:39,  8.11s/it, v_num=ow_1, total_loss_train=1.45e+3, kl_local_train=38.2]"
     ]
    },
    {
     "name": "stdout",
     "output_type": "stream",
     "text": [
      "\r",
      "Epoch 973/1000:  97%|█████████▋| 973/1000 [2:17:30<03:39,  8.11s/it, v_num=ow_1, total_loss_train=1.45e+3, kl_local_train=38]  "
     ]
    },
    {
     "name": "stdout",
     "output_type": "stream",
     "text": [
      "\r",
      "Epoch 974/1000:  97%|█████████▋| 973/1000 [2:17:30<03:39,  8.11s/it, v_num=ow_1, total_loss_train=1.45e+3, kl_local_train=38]"
     ]
    },
    {
     "name": "stdout",
     "output_type": "stream",
     "text": [
      "\r",
      "Epoch 974/1000:  97%|█████████▋| 974/1000 [2:17:38<03:34,  8.26s/it, v_num=ow_1, total_loss_train=1.45e+3, kl_local_train=38]"
     ]
    },
    {
     "name": "stdout",
     "output_type": "stream",
     "text": [
      "\r",
      "Epoch 974/1000:  97%|█████████▋| 974/1000 [2:17:38<03:34,  8.26s/it, v_num=ow_1, total_loss_train=1.45e+3, kl_local_train=38.2]"
     ]
    },
    {
     "name": "stdout",
     "output_type": "stream",
     "text": [
      "\r",
      "Epoch 975/1000:  97%|█████████▋| 974/1000 [2:17:38<03:34,  8.26s/it, v_num=ow_1, total_loss_train=1.45e+3, kl_local_train=38.2]"
     ]
    },
    {
     "name": "stdout",
     "output_type": "stream",
     "text": [
      "\r",
      "Epoch 975/1000:  98%|█████████▊| 975/1000 [2:17:47<03:29,  8.39s/it, v_num=ow_1, total_loss_train=1.45e+3, kl_local_train=38.2]"
     ]
    },
    {
     "name": "stdout",
     "output_type": "stream",
     "text": [
      "\r",
      "Epoch 975/1000:  98%|█████████▊| 975/1000 [2:17:47<03:29,  8.39s/it, v_num=ow_1, total_loss_train=1.45e+3, kl_local_train=38]  "
     ]
    },
    {
     "name": "stdout",
     "output_type": "stream",
     "text": [
      "\r",
      "Epoch 976/1000:  98%|█████████▊| 975/1000 [2:17:47<03:29,  8.39s/it, v_num=ow_1, total_loss_train=1.45e+3, kl_local_train=38]"
     ]
    },
    {
     "name": "stdout",
     "output_type": "stream",
     "text": [
      "\r",
      "Epoch 976/1000:  98%|█████████▊| 976/1000 [2:17:57<03:33,  8.90s/it, v_num=ow_1, total_loss_train=1.45e+3, kl_local_train=38]"
     ]
    },
    {
     "name": "stdout",
     "output_type": "stream",
     "text": [
      "\r",
      "Epoch 976/1000:  98%|█████████▊| 976/1000 [2:17:57<03:33,  8.90s/it, v_num=ow_1, total_loss_train=1.45e+3, kl_local_train=38]"
     ]
    },
    {
     "name": "stdout",
     "output_type": "stream",
     "text": [
      "\r",
      "Epoch 977/1000:  98%|█████████▊| 976/1000 [2:17:57<03:33,  8.90s/it, v_num=ow_1, total_loss_train=1.45e+3, kl_local_train=38]"
     ]
    },
    {
     "name": "stdout",
     "output_type": "stream",
     "text": [
      "\r",
      "Epoch 977/1000:  98%|█████████▊| 977/1000 [2:18:05<03:19,  8.65s/it, v_num=ow_1, total_loss_train=1.45e+3, kl_local_train=38]"
     ]
    },
    {
     "name": "stdout",
     "output_type": "stream",
     "text": [
      "\r",
      "Epoch 977/1000:  98%|█████████▊| 977/1000 [2:18:05<03:19,  8.65s/it, v_num=ow_1, total_loss_train=1.45e+3, kl_local_train=38.1]"
     ]
    },
    {
     "name": "stdout",
     "output_type": "stream",
     "text": [
      "\r",
      "Epoch 978/1000:  98%|█████████▊| 977/1000 [2:18:05<03:19,  8.65s/it, v_num=ow_1, total_loss_train=1.45e+3, kl_local_train=38.1]"
     ]
    },
    {
     "name": "stdout",
     "output_type": "stream",
     "text": [
      "\r",
      "Epoch 978/1000:  98%|█████████▊| 978/1000 [2:18:14<03:10,  8.64s/it, v_num=ow_1, total_loss_train=1.45e+3, kl_local_train=38.1]"
     ]
    },
    {
     "name": "stdout",
     "output_type": "stream",
     "text": [
      "\r",
      "Epoch 978/1000:  98%|█████████▊| 978/1000 [2:18:14<03:10,  8.64s/it, v_num=ow_1, total_loss_train=1.45e+3, kl_local_train=38]  "
     ]
    },
    {
     "name": "stdout",
     "output_type": "stream",
     "text": [
      "\r",
      "Epoch 979/1000:  98%|█████████▊| 978/1000 [2:18:14<03:10,  8.64s/it, v_num=ow_1, total_loss_train=1.45e+3, kl_local_train=38]"
     ]
    },
    {
     "name": "stdout",
     "output_type": "stream",
     "text": [
      "\r",
      "Epoch 979/1000:  98%|█████████▊| 979/1000 [2:18:22<03:00,  8.62s/it, v_num=ow_1, total_loss_train=1.45e+3, kl_local_train=38]"
     ]
    },
    {
     "name": "stdout",
     "output_type": "stream",
     "text": [
      "\r",
      "Epoch 979/1000:  98%|█████████▊| 979/1000 [2:18:22<03:00,  8.62s/it, v_num=ow_1, total_loss_train=1.45e+3, kl_local_train=38.1]"
     ]
    },
    {
     "name": "stdout",
     "output_type": "stream",
     "text": [
      "\r",
      "Epoch 980/1000:  98%|█████████▊| 979/1000 [2:18:22<03:00,  8.62s/it, v_num=ow_1, total_loss_train=1.45e+3, kl_local_train=38.1]"
     ]
    },
    {
     "name": "stdout",
     "output_type": "stream",
     "text": [
      "\r",
      "Epoch 980/1000:  98%|█████████▊| 980/1000 [2:18:31<02:52,  8.63s/it, v_num=ow_1, total_loss_train=1.45e+3, kl_local_train=38.1]"
     ]
    },
    {
     "name": "stdout",
     "output_type": "stream",
     "text": [
      "\r",
      "Epoch 980/1000:  98%|█████████▊| 980/1000 [2:18:31<02:52,  8.63s/it, v_num=ow_1, total_loss_train=1.45e+3, kl_local_train=38.1]"
     ]
    },
    {
     "name": "stdout",
     "output_type": "stream",
     "text": [
      "\r",
      "Epoch 981/1000:  98%|█████████▊| 980/1000 [2:18:31<02:52,  8.63s/it, v_num=ow_1, total_loss_train=1.45e+3, kl_local_train=38.1]"
     ]
    },
    {
     "name": "stdout",
     "output_type": "stream",
     "text": [
      "\r",
      "Epoch 981/1000:  98%|█████████▊| 981/1000 [2:18:40<02:44,  8.65s/it, v_num=ow_1, total_loss_train=1.45e+3, kl_local_train=38.1]"
     ]
    },
    {
     "name": "stdout",
     "output_type": "stream",
     "text": [
      "\r",
      "Epoch 981/1000:  98%|█████████▊| 981/1000 [2:18:40<02:44,  8.65s/it, v_num=ow_1, total_loss_train=1.45e+3, kl_local_train=38]  "
     ]
    },
    {
     "name": "stdout",
     "output_type": "stream",
     "text": [
      "\r",
      "Epoch 982/1000:  98%|█████████▊| 981/1000 [2:18:40<02:44,  8.65s/it, v_num=ow_1, total_loss_train=1.45e+3, kl_local_train=38]"
     ]
    },
    {
     "name": "stdout",
     "output_type": "stream",
     "text": [
      "\r",
      "Epoch 982/1000:  98%|█████████▊| 982/1000 [2:18:48<02:35,  8.65s/it, v_num=ow_1, total_loss_train=1.45e+3, kl_local_train=38]"
     ]
    },
    {
     "name": "stdout",
     "output_type": "stream",
     "text": [
      "\r",
      "Epoch 982/1000:  98%|█████████▊| 982/1000 [2:18:48<02:35,  8.65s/it, v_num=ow_1, total_loss_train=1.45e+3, kl_local_train=38.1]"
     ]
    },
    {
     "name": "stdout",
     "output_type": "stream",
     "text": [
      "\r",
      "Epoch 983/1000:  98%|█████████▊| 982/1000 [2:18:48<02:35,  8.65s/it, v_num=ow_1, total_loss_train=1.45e+3, kl_local_train=38.1]"
     ]
    },
    {
     "name": "stdout",
     "output_type": "stream",
     "text": [
      "\r",
      "Epoch 983/1000:  98%|█████████▊| 983/1000 [2:18:57<02:26,  8.62s/it, v_num=ow_1, total_loss_train=1.45e+3, kl_local_train=38.1]"
     ]
    },
    {
     "name": "stdout",
     "output_type": "stream",
     "text": [
      "\r",
      "Epoch 983/1000:  98%|█████████▊| 983/1000 [2:18:57<02:26,  8.62s/it, v_num=ow_1, total_loss_train=1.45e+3, kl_local_train=38.1]"
     ]
    },
    {
     "name": "stdout",
     "output_type": "stream",
     "text": [
      "\r",
      "Epoch 984/1000:  98%|█████████▊| 983/1000 [2:18:57<02:26,  8.62s/it, v_num=ow_1, total_loss_train=1.45e+3, kl_local_train=38.1]"
     ]
    },
    {
     "name": "stdout",
     "output_type": "stream",
     "text": [
      "\r",
      "Epoch 984/1000:  98%|█████████▊| 984/1000 [2:19:05<02:18,  8.63s/it, v_num=ow_1, total_loss_train=1.45e+3, kl_local_train=38.1]"
     ]
    },
    {
     "name": "stdout",
     "output_type": "stream",
     "text": [
      "\r",
      "Epoch 984/1000:  98%|█████████▊| 984/1000 [2:19:05<02:18,  8.63s/it, v_num=ow_1, total_loss_train=1.45e+3, kl_local_train=38.2]"
     ]
    },
    {
     "name": "stdout",
     "output_type": "stream",
     "text": [
      "\r",
      "Epoch 985/1000:  98%|█████████▊| 984/1000 [2:19:05<02:18,  8.63s/it, v_num=ow_1, total_loss_train=1.45e+3, kl_local_train=38.2]"
     ]
    },
    {
     "name": "stdout",
     "output_type": "stream",
     "text": [
      "\r",
      "Epoch 985/1000:  98%|█████████▊| 985/1000 [2:19:15<02:12,  8.82s/it, v_num=ow_1, total_loss_train=1.45e+3, kl_local_train=38.2]"
     ]
    },
    {
     "name": "stdout",
     "output_type": "stream",
     "text": [
      "\r",
      "Epoch 985/1000:  98%|█████████▊| 985/1000 [2:19:15<02:12,  8.82s/it, v_num=ow_1, total_loss_train=1.45e+3, kl_local_train=38.2]"
     ]
    },
    {
     "name": "stdout",
     "output_type": "stream",
     "text": [
      "\r",
      "Epoch 986/1000:  98%|█████████▊| 985/1000 [2:19:15<02:12,  8.82s/it, v_num=ow_1, total_loss_train=1.45e+3, kl_local_train=38.2]"
     ]
    },
    {
     "name": "stdout",
     "output_type": "stream",
     "text": [
      "\r",
      "Epoch 986/1000:  99%|█████████▊| 986/1000 [2:19:23<02:02,  8.73s/it, v_num=ow_1, total_loss_train=1.45e+3, kl_local_train=38.2]"
     ]
    },
    {
     "name": "stdout",
     "output_type": "stream",
     "text": [
      "\r",
      "Epoch 986/1000:  99%|█████████▊| 986/1000 [2:19:23<02:02,  8.73s/it, v_num=ow_1, total_loss_train=1.45e+3, kl_local_train=38.1]"
     ]
    },
    {
     "name": "stdout",
     "output_type": "stream",
     "text": [
      "\r",
      "Epoch 987/1000:  99%|█████████▊| 986/1000 [2:19:23<02:02,  8.73s/it, v_num=ow_1, total_loss_train=1.45e+3, kl_local_train=38.1]"
     ]
    },
    {
     "name": "stdout",
     "output_type": "stream",
     "text": [
      "\r",
      "Epoch 987/1000:  99%|█████████▊| 987/1000 [2:19:32<01:52,  8.69s/it, v_num=ow_1, total_loss_train=1.45e+3, kl_local_train=38.1]"
     ]
    },
    {
     "name": "stdout",
     "output_type": "stream",
     "text": [
      "\r",
      "Epoch 987/1000:  99%|█████████▊| 987/1000 [2:19:32<01:52,  8.69s/it, v_num=ow_1, total_loss_train=1.45e+3, kl_local_train=38.1]"
     ]
    },
    {
     "name": "stdout",
     "output_type": "stream",
     "text": [
      "\r",
      "Epoch 988/1000:  99%|█████████▊| 987/1000 [2:19:32<01:52,  8.69s/it, v_num=ow_1, total_loss_train=1.45e+3, kl_local_train=38.1]"
     ]
    },
    {
     "name": "stdout",
     "output_type": "stream",
     "text": [
      "\r",
      "Epoch 988/1000:  99%|█████████▉| 988/1000 [2:19:40<01:42,  8.57s/it, v_num=ow_1, total_loss_train=1.45e+3, kl_local_train=38.1]"
     ]
    },
    {
     "name": "stdout",
     "output_type": "stream",
     "text": [
      "\r",
      "Epoch 988/1000:  99%|█████████▉| 988/1000 [2:19:40<01:42,  8.57s/it, v_num=ow_1, total_loss_train=1.45e+3, kl_local_train=38.2]"
     ]
    },
    {
     "name": "stdout",
     "output_type": "stream",
     "text": [
      "\r",
      "Epoch 989/1000:  99%|█████████▉| 988/1000 [2:19:40<01:42,  8.57s/it, v_num=ow_1, total_loss_train=1.45e+3, kl_local_train=38.2]"
     ]
    },
    {
     "name": "stdout",
     "output_type": "stream",
     "text": [
      "\r",
      "Epoch 989/1000:  99%|█████████▉| 989/1000 [2:19:49<01:33,  8.54s/it, v_num=ow_1, total_loss_train=1.45e+3, kl_local_train=38.2]"
     ]
    },
    {
     "name": "stdout",
     "output_type": "stream",
     "text": [
      "\r",
      "Epoch 989/1000:  99%|█████████▉| 989/1000 [2:19:49<01:33,  8.54s/it, v_num=ow_1, total_loss_train=1.45e+3, kl_local_train=38.1]"
     ]
    },
    {
     "name": "stdout",
     "output_type": "stream",
     "text": [
      "\r",
      "Epoch 990/1000:  99%|█████████▉| 989/1000 [2:19:49<01:33,  8.54s/it, v_num=ow_1, total_loss_train=1.45e+3, kl_local_train=38.1]"
     ]
    },
    {
     "name": "stdout",
     "output_type": "stream",
     "text": [
      "\r",
      "Epoch 990/1000:  99%|█████████▉| 990/1000 [2:19:56<01:23,  8.33s/it, v_num=ow_1, total_loss_train=1.45e+3, kl_local_train=38.1]"
     ]
    },
    {
     "name": "stdout",
     "output_type": "stream",
     "text": [
      "\r",
      "Epoch 990/1000:  99%|█████████▉| 990/1000 [2:19:56<01:23,  8.33s/it, v_num=ow_1, total_loss_train=1.45e+3, kl_local_train=38.2]"
     ]
    },
    {
     "name": "stdout",
     "output_type": "stream",
     "text": [
      "\r",
      "Epoch 991/1000:  99%|█████████▉| 990/1000 [2:19:56<01:23,  8.33s/it, v_num=ow_1, total_loss_train=1.45e+3, kl_local_train=38.2]"
     ]
    },
    {
     "name": "stdout",
     "output_type": "stream",
     "text": [
      "\r",
      "Epoch 991/1000:  99%|█████████▉| 991/1000 [2:20:05<01:17,  8.56s/it, v_num=ow_1, total_loss_train=1.45e+3, kl_local_train=38.2]"
     ]
    },
    {
     "name": "stdout",
     "output_type": "stream",
     "text": [
      "\r",
      "Epoch 991/1000:  99%|█████████▉| 991/1000 [2:20:05<01:17,  8.56s/it, v_num=ow_1, total_loss_train=1.45e+3, kl_local_train=38.2]"
     ]
    },
    {
     "name": "stdout",
     "output_type": "stream",
     "text": [
      "\r",
      "Epoch 992/1000:  99%|█████████▉| 991/1000 [2:20:05<01:17,  8.56s/it, v_num=ow_1, total_loss_train=1.45e+3, kl_local_train=38.2]"
     ]
    },
    {
     "name": "stdout",
     "output_type": "stream",
     "text": [
      "\r",
      "Epoch 992/1000:  99%|█████████▉| 992/1000 [2:20:14<01:08,  8.53s/it, v_num=ow_1, total_loss_train=1.45e+3, kl_local_train=38.2]"
     ]
    },
    {
     "name": "stdout",
     "output_type": "stream",
     "text": [
      "\r",
      "Epoch 992/1000:  99%|█████████▉| 992/1000 [2:20:14<01:08,  8.53s/it, v_num=ow_1, total_loss_train=1.45e+3, kl_local_train=38.1]"
     ]
    },
    {
     "name": "stdout",
     "output_type": "stream",
     "text": [
      "\r",
      "Epoch 993/1000:  99%|█████████▉| 992/1000 [2:20:14<01:08,  8.53s/it, v_num=ow_1, total_loss_train=1.45e+3, kl_local_train=38.1]"
     ]
    },
    {
     "name": "stdout",
     "output_type": "stream",
     "text": [
      "\r",
      "Epoch 993/1000:  99%|█████████▉| 993/1000 [2:20:22<00:59,  8.45s/it, v_num=ow_1, total_loss_train=1.45e+3, kl_local_train=38.1]"
     ]
    },
    {
     "name": "stdout",
     "output_type": "stream",
     "text": [
      "\r",
      "Epoch 993/1000:  99%|█████████▉| 993/1000 [2:20:22<00:59,  8.45s/it, v_num=ow_1, total_loss_train=1.45e+3, kl_local_train=38.1]"
     ]
    },
    {
     "name": "stdout",
     "output_type": "stream",
     "text": [
      "\r",
      "Epoch 994/1000:  99%|█████████▉| 993/1000 [2:20:22<00:59,  8.45s/it, v_num=ow_1, total_loss_train=1.45e+3, kl_local_train=38.1]"
     ]
    },
    {
     "name": "stdout",
     "output_type": "stream",
     "text": [
      "\r",
      "Epoch 994/1000:  99%|█████████▉| 994/1000 [2:20:30<00:49,  8.23s/it, v_num=ow_1, total_loss_train=1.45e+3, kl_local_train=38.1]"
     ]
    },
    {
     "name": "stdout",
     "output_type": "stream",
     "text": [
      "\r",
      "Epoch 994/1000:  99%|█████████▉| 994/1000 [2:20:30<00:49,  8.23s/it, v_num=ow_1, total_loss_train=1.45e+3, kl_local_train=38.1]"
     ]
    },
    {
     "name": "stdout",
     "output_type": "stream",
     "text": [
      "\r",
      "Epoch 995/1000:  99%|█████████▉| 994/1000 [2:20:30<00:49,  8.23s/it, v_num=ow_1, total_loss_train=1.45e+3, kl_local_train=38.1]"
     ]
    },
    {
     "name": "stdout",
     "output_type": "stream",
     "text": [
      "\r",
      "Epoch 995/1000: 100%|█████████▉| 995/1000 [2:20:38<00:41,  8.24s/it, v_num=ow_1, total_loss_train=1.45e+3, kl_local_train=38.1]"
     ]
    },
    {
     "name": "stdout",
     "output_type": "stream",
     "text": [
      "\r",
      "Epoch 995/1000: 100%|█████████▉| 995/1000 [2:20:38<00:41,  8.24s/it, v_num=ow_1, total_loss_train=1.45e+3, kl_local_train=38.1]"
     ]
    },
    {
     "name": "stdout",
     "output_type": "stream",
     "text": [
      "\r",
      "Epoch 996/1000: 100%|█████████▉| 995/1000 [2:20:38<00:41,  8.24s/it, v_num=ow_1, total_loss_train=1.45e+3, kl_local_train=38.1]"
     ]
    },
    {
     "name": "stdout",
     "output_type": "stream",
     "text": [
      "\r",
      "Epoch 996/1000: 100%|█████████▉| 996/1000 [2:20:47<00:33,  8.30s/it, v_num=ow_1, total_loss_train=1.45e+3, kl_local_train=38.1]"
     ]
    },
    {
     "name": "stdout",
     "output_type": "stream",
     "text": [
      "\r",
      "Epoch 996/1000: 100%|█████████▉| 996/1000 [2:20:47<00:33,  8.30s/it, v_num=ow_1, total_loss_train=1.45e+3, kl_local_train=38.1]"
     ]
    },
    {
     "name": "stdout",
     "output_type": "stream",
     "text": [
      "\r",
      "Epoch 997/1000: 100%|█████████▉| 996/1000 [2:20:47<00:33,  8.30s/it, v_num=ow_1, total_loss_train=1.45e+3, kl_local_train=38.1]"
     ]
    },
    {
     "name": "stdout",
     "output_type": "stream",
     "text": [
      "\r",
      "Epoch 997/1000: 100%|█████████▉| 997/1000 [2:20:54<00:24,  8.11s/it, v_num=ow_1, total_loss_train=1.45e+3, kl_local_train=38.1]"
     ]
    },
    {
     "name": "stdout",
     "output_type": "stream",
     "text": [
      "\r",
      "Epoch 997/1000: 100%|█████████▉| 997/1000 [2:20:54<00:24,  8.11s/it, v_num=ow_1, total_loss_train=1.45e+3, kl_local_train=38.2]"
     ]
    },
    {
     "name": "stdout",
     "output_type": "stream",
     "text": [
      "\r",
      "Epoch 998/1000: 100%|█████████▉| 997/1000 [2:20:54<00:24,  8.11s/it, v_num=ow_1, total_loss_train=1.45e+3, kl_local_train=38.2]"
     ]
    },
    {
     "name": "stdout",
     "output_type": "stream",
     "text": [
      "\r",
      "Epoch 998/1000: 100%|█████████▉| 998/1000 [2:21:04<00:17,  8.51s/it, v_num=ow_1, total_loss_train=1.45e+3, kl_local_train=38.2]"
     ]
    },
    {
     "name": "stdout",
     "output_type": "stream",
     "text": [
      "\r",
      "Epoch 998/1000: 100%|█████████▉| 998/1000 [2:21:04<00:17,  8.51s/it, v_num=ow_1, total_loss_train=1.45e+3, kl_local_train=38.1]"
     ]
    },
    {
     "name": "stdout",
     "output_type": "stream",
     "text": [
      "\r",
      "Epoch 999/1000: 100%|█████████▉| 998/1000 [2:21:04<00:17,  8.51s/it, v_num=ow_1, total_loss_train=1.45e+3, kl_local_train=38.1]"
     ]
    },
    {
     "name": "stdout",
     "output_type": "stream",
     "text": [
      "\r",
      "Epoch 999/1000: 100%|█████████▉| 999/1000 [2:21:12<00:08,  8.40s/it, v_num=ow_1, total_loss_train=1.45e+3, kl_local_train=38.1]"
     ]
    },
    {
     "name": "stdout",
     "output_type": "stream",
     "text": [
      "\r",
      "Epoch 999/1000: 100%|█████████▉| 999/1000 [2:21:12<00:08,  8.40s/it, v_num=ow_1, total_loss_train=1.45e+3, kl_local_train=38.1]"
     ]
    },
    {
     "name": "stdout",
     "output_type": "stream",
     "text": [
      "\r",
      "Epoch 1000/1000: 100%|█████████▉| 999/1000 [2:21:12<00:08,  8.40s/it, v_num=ow_1, total_loss_train=1.45e+3, kl_local_train=38.1]"
     ]
    },
    {
     "name": "stdout",
     "output_type": "stream",
     "text": [
      "\r",
      "Epoch 1000/1000: 100%|██████████| 1000/1000 [2:21:19<00:00,  8.08s/it, v_num=ow_1, total_loss_train=1.45e+3, kl_local_train=38.1]"
     ]
    },
    {
     "name": "stdout",
     "output_type": "stream",
     "text": [
      "\r",
      "Epoch 1000/1000: 100%|██████████| 1000/1000 [2:21:19<00:00,  8.08s/it, v_num=ow_1, total_loss_train=1.45e+3, kl_local_train=38.1]"
     ]
    },
    {
     "name": "stderr",
     "output_type": "stream",
     "text": [
      "`Trainer.fit` stopped: `max_epochs=1000` reached.\n"
     ]
    },
    {
     "name": "stdout",
     "output_type": "stream",
     "text": [
      "\r",
      "Epoch 1000/1000: 100%|██████████| 1000/1000 [2:21:19<00:00,  8.48s/it, v_num=ow_1, total_loss_train=1.45e+3, kl_local_train=38.1]"
     ]
    },
    {
     "name": "stdout",
     "output_type": "stream",
     "text": [
      "\n"
     ]
    },
    {
     "name": "stdout",
     "output_type": "stream",
     "text": [
      "W&B logger finalized successfully: \n",
      "Exit Code: 0\n",
      "\n"
     ]
    }
   ],
   "source": [
    "n_epochs_kl_warmup = 400\n",
    "\n",
    "model_params = dict(\n",
    "    n_hidden=512,\n",
    "    n_layers=3, \n",
    "    n_latent=(8 + 24 * len(disentenglement_targets_configurations)), \n",
    "    gene_likelihood = \"nb\",\n",
    "    use_batch_norm = \"none\",\n",
    "    use_layer_norm = \"both\",\n",
    "    dropout_rate = 0.1,\n",
    "    include_auxillary_loss = True,\n",
    "    deeply_inject_disentengled_latents = True,\n",
    "    encode_covariates=False,\n",
    "    beta_kl_weight=0.5\n",
    ")\n",
    "\n",
    "train_params = dict(\n",
    "    max_epochs=690,\n",
    "    train_size=0.8,\n",
    "    batch_size=512,\n",
    "    check_val_every_n_epoch=10,\n",
    "    learning_rate_monitor=True,\n",
    "    # early stopping:\n",
    "    early_stopping=True,\n",
    "    early_stopping_patience=150,\n",
    "    early_stopping_monitor=\"elbo_train\",\n",
    "    plan_kwargs = dict(\n",
    "        n_epochs_kl_warmup=n_epochs_kl_warmup,\n",
    "        lr=1e-3,\n",
    "        weight_decay=1e-6,\n",
    "        # optimizer=\"AdamW\"\n",
    "        # lr-scheduler:\n",
    "        reduce_lr_on_plateau=True,\n",
    "        lr_patience=100,\n",
    "        lr_scheduler_metric=\"elbo_train\",\n",
    "    )\n",
    ")\n",
    "\n",
    "dataset_params = dict(\n",
    "    layer=None, \n",
    "    labels_key=None,\n",
    "    batch_key=None,\n",
    "    categorical_covariate_keys=None,\n",
    "    disentenglement_targets_configurations=disentenglement_targets_configurations\n",
    ")\n",
    "\n",
    "tardis.MyModel.setup_anndata(adata, **dataset_params)\n",
    "dataset_params[\"adata_path\"] = adata_file_path\n",
    "dataset_params[\"adata\"] = os.path.split(adata_file_path)[1]\n",
    "\n",
    "tardis.MyModel.setup_wandb(\n",
    "    wandb_configurations=tardis.config.wandb,\n",
    "    hyperparams=dict(\n",
    "        model_params=model_params,\n",
    "        train_params=train_params,\n",
    "        dataset_params=dataset_params,\n",
    "    )\n",
    ")\n",
    "\n",
    "vae = tardis.MyModel(\n",
    "    adata,\n",
    "    **model_params\n",
    ")\n",
    "vae.train(**train_params)"
   ]
  },
  {
   "cell_type": "code",
   "execution_count": null,
   "metadata": {},
   "outputs": [],
   "source": [
    "dir_path = os.path.join(\n",
    "    tardis.config.io_directories[\"models\"],\n",
    "    \"norman_r2_v7_inject\"\n",
    ")\n",
    "\n",
    "vae.save(\n",
    "    dir_path,\n",
    "    overwrite=True,\n",
    ")"
   ]
  },
  {
   "cell_type": "code",
   "execution_count": null,
   "metadata": {},
   "outputs": [],
   "source": [
    "vae.get_reconstruction_r2_training(top_n=[])"
   ]
  },
  {
   "cell_type": "code",
   "execution_count": null,
   "metadata": {},
   "outputs": [],
   "source": [
    "vae.get_MI_normalized_training(\"condition\")"
   ]
  },
  {
   "cell_type": "markdown",
   "metadata": {},
   "source": [
    "# Visualization"
   ]
  },
  {
   "cell_type": "code",
   "execution_count": null,
   "metadata": {},
   "outputs": [],
   "source": [
    "from tardis._disentanglementmanager import DisentanglementManager as DM\n",
    "adata.obs[\"validation\"] = \"train\"\n",
    "adata.obs[\"validation\"].iloc[vae.validation_indices] = \"validation\""
   ]
  },
  {
   "cell_type": "code",
   "execution_count": null,
   "metadata": {},
   "outputs": [],
   "source": [
    "sublatent = DM.configurations.get_by_obs_key(\"condition\").reserved_latent_indices\n",
    "latent = ad.AnnData(X=vae.get_latent_representation()[:, sublatent], obs=adata.obs.copy())\n",
    "rsc.utils.anndata_to_GPU(latent)\n",
    "rsc.pp.neighbors(latent)\n",
    "rsc.tl.umap(latent)"
   ]
  },
  {
   "cell_type": "code",
   "execution_count": null,
   "metadata": {},
   "outputs": [],
   "source": [
    "def generate_random_colors(num_colors):\n",
    "    return [\"#\"+''.join([np.random.choice(list('0123456789ABCDEF')) for j in range(6)]) for i in range(num_colors)]\n",
    "unique_cell_types = latent.obs[\"condition\"].unique()\n",
    "# Generate random colors for each unique cell type\n",
    "random_colors = generate_random_colors(len(unique_cell_types))\n",
    "# Create a dictionary to map cell types to colors\n",
    "color_map = dict(zip(unique_cell_types, random_colors))\n",
    "\n",
    "with warnings.catch_warnings():\n",
    "    warnings.simplefilter(\"ignore\")\n",
    "    plt.figure(figsize=(20, 20))\n",
    "    sc.pl.umap(\n",
    "        latent, \n",
    "        color=[\"condition\", \"validation\"], \n",
    "        ncols=1,\n",
    "        size=8,\n",
    "        frameon=False,\n",
    "        palette=color_map,\n",
    "        legend_loc=\"on data\",\n",
    "        legend_fontsize=6,\n",
    "        legend_fontweight='bold',\n",
    "        ax=plt.gca(),\n",
    "    show=False\n",
    "    )\n",
    "plt.show()"
   ]
  },
  {
   "cell_type": "code",
   "execution_count": null,
   "metadata": {},
   "outputs": [],
   "source": [
    "sublatent = DM.configurations.unreserved_latent_indices\n",
    "latent = ad.AnnData(X=vae.get_latent_representation()[:, sublatent], obs=adata.obs.copy())\n",
    "rsc.utils.anndata_to_GPU(latent)\n",
    "rsc.pp.neighbors(latent)\n",
    "rsc.tl.umap(latent)"
   ]
  },
  {
   "cell_type": "code",
   "execution_count": null,
   "metadata": {},
   "outputs": [],
   "source": [
    "sc.pl.umap(\n",
    "    latent, \n",
    "    color=[\"condition\", \"validation\"], \n",
    "    ncols=2,\n",
    "    frameon=False,\n",
    "    legend_loc=None,\n",
    ")"
   ]
  },
  {
   "cell_type": "code",
   "execution_count": null,
   "metadata": {},
   "outputs": [],
   "source": []
  }
 ],
 "metadata": {
  "kernelspec": {
   "display_name": "Python 3 (ipykernel)",
   "language": "python",
   "name": "python3"
  },
  "language_info": {
   "codemirror_mode": {
    "name": "ipython",
    "version": 3
   },
   "file_extension": ".py",
   "mimetype": "text/x-python",
   "name": "python",
   "nbconvert_exporter": "python",
   "pygments_lexer": "ipython3",
   "version": "3.10.14"
  }
 },
 "nbformat": 4,
 "nbformat_minor": 4
}
