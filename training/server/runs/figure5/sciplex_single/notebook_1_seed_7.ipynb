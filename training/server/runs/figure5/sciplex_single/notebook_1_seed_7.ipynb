{
 "cells": [
  {
   "cell_type": "markdown",
   "id": "3caa2a27-8613-4d8d-bca4-6fd0b2845d32",
   "metadata": {},
   "source": [
    "# Sciplex Dose"
   ]
  },
  {
   "cell_type": "code",
   "execution_count": 1,
   "id": "11fa8042-968c-4056-b6c2-21d2a41e4a91",
   "metadata": {},
   "outputs": [],
   "source": [
    "ood_seed = 7"
   ]
  },
  {
   "cell_type": "code",
   "execution_count": 2,
   "id": "6a2d0b94-858b-45d5-bfe1-b075c0677c60",
   "metadata": {},
   "outputs": [],
   "source": [
    "num_ood = 1"
   ]
  },
  {
   "cell_type": "code",
   "execution_count": null,
   "id": "8ca5ab4d",
   "metadata": {},
   "outputs": [],
   "source": [
    "obs_key = \"condition\""
   ]
  },
  {
   "cell_type": "code",
   "execution_count": 3,
   "id": "d05ef01e-8441-415f-a6f7-0b6d8f4761d1",
   "metadata": {},
   "outputs": [],
   "source": [
    "import warnings\n",
    "import os\n",
    "import sys\n",
    "import gc\n",
    "import warnings"
   ]
  },
  {
   "cell_type": "code",
   "execution_count": 4,
   "id": "d0f4e5f2-a27e-491b-b544-6e7a585b4b32",
   "metadata": {},
   "outputs": [
    {
     "name": "stdout",
     "output_type": "stream",
     "text": [
      "CUDA used: False\n"
     ]
    }
   ],
   "source": [
    "import anndata as ad\n",
    "import scanpy as sc\n",
    "import copy\n",
    "import torch\n",
    "from pathlib import Path\n",
    "import networkx as nx\n",
    "from sklearn.neighbors import kneighbors_graph\n",
    "import numpy as np\n",
    "import scanpy as sc\n",
    "import pandas as pd\n",
    "import numpy as np\n",
    "import sklearn\n",
    "import scipy.stats\n",
    "from sklearn.dummy import DummyClassifier\n",
    "\n",
    "sys.path.append(\"/home/icb/kemal.inecik/work/codes/tardis\")\n",
    "import tardis\n",
    "from tardis._utils.functions import label_transfer\n",
    "tardis.config = tardis.config_server\n",
    "print(f\"CUDA used: {torch.cuda.is_available()}\")"
   ]
  },
  {
   "cell_type": "code",
   "execution_count": 5,
   "id": "7bf1c85f-50e2-42e6-b0e1-54c8d7891674",
   "metadata": {},
   "outputs": [],
   "source": [
    "%matplotlib inline\n",
    "%config InlineBackend.figure_format='retina'\n",
    "import matplotlib.pyplot as plt\n",
    "import seaborn as sns\n",
    "\n",
    "import pickle\n",
    "_rcparams_path = \"/home/icb/kemal.inecik/work/codes/tardis/training/local/figures/rcparams.pickle\"\n",
    "with open(_rcparams_path, 'rb') as file:\n",
    "    _rcparams = pickle.load(file)\n",
    "plt.rcParams.update(_rcparams)"
   ]
  },
  {
   "cell_type": "code",
   "execution_count": 6,
   "id": "de6a62d6-6e7e-416c-9aa9-e08448f1e30c",
   "metadata": {},
   "outputs": [
    {
     "data": {
      "text/plain": [
       "12"
      ]
     },
     "execution_count": 6,
     "metadata": {},
     "output_type": "execute_result"
    }
   ],
   "source": [
    "adata_file_path = os.path.join(tardis.config.io_directories[\"processed\"], \"cpa_GSM_new.h5ad\")\n",
    "assert os.path.isfile(adata_file_path), f\"File not already exist: `{adata_file_path}`\"\n",
    "adata = ad.read_h5ad(adata_file_path)\n",
    "\n",
    "adata.X = adata.layers[\"counts\"].copy()\n",
    "del adata.layers\n",
    "adata.obs.loc[adata.obs[\"dose\"] == \"0.0\", \"dose_val\"] = 0.0\n",
    "d = {i: ind for ind, i in enumerate(sorted(adata.obs[\"dose\"].astype(float).unique()))}\n",
    "adata.obs[\"dose_training\"] = [d[float(i)] for i in adata.obs[\"dose\"]]\n",
    "gc.collect()"
   ]
  },
  {
   "cell_type": "code",
   "execution_count": 7,
   "id": "c050a722-ca20-494c-a4ed-75f58c186d96",
   "metadata": {},
   "outputs": [
    {
     "data": {
      "text/plain": [
       "condition  dose \n",
       "BMS        0.0         0\n",
       "           0.1       654\n",
       "           0.5       542\n",
       "           1.0       344\n",
       "           5.0       193\n",
       "           10.0      153\n",
       "           50.0       34\n",
       "           100.0      19\n",
       "Dex        0.0         0\n",
       "           0.1       327\n",
       "           0.5       372\n",
       "           1.0       717\n",
       "           5.0       694\n",
       "           10.0      704\n",
       "           50.0      864\n",
       "           100.0     790\n",
       "Nutlin     0.0         0\n",
       "           0.1       419\n",
       "           0.5       359\n",
       "           1.0       567\n",
       "           5.0       486\n",
       "           10.0      657\n",
       "           50.0      265\n",
       "           100.0       7\n",
       "SAHA       0.0         0\n",
       "           0.1       561\n",
       "           0.5       519\n",
       "           1.0       543\n",
       "           5.0       417\n",
       "           10.0      426\n",
       "           50.0      604\n",
       "           100.0     419\n",
       "Vehicle    0.0      2155\n",
       "           0.1         0\n",
       "           0.5         0\n",
       "           1.0         0\n",
       "           5.0         0\n",
       "           10.0        0\n",
       "           50.0        0\n",
       "           100.0       0\n",
       "dtype: int64"
      ]
     },
     "execution_count": 7,
     "metadata": {},
     "output_type": "execute_result"
    }
   ],
   "source": [
    "df = adata.obs.groupby([\"condition\", \"dose\"]).size()\n",
    "df2 = adata.obs.groupby([\"condition\"]).size()\n",
    "availables = [(i, df[i]) for i in df.index if df[i] > 30 and df2[i[0]] > 200 and float(i[1])>4]\n",
    "df"
   ]
  },
  {
   "cell_type": "code",
   "execution_count": 8,
   "id": "47f5ccde-3026-4bc2-b8b2-b40afe57bc01",
   "metadata": {},
   "outputs": [
    {
     "data": {
      "text/plain": [
       "([(('BMS', '5.0'), 193),\n",
       "  (('BMS', '10.0'), 153),\n",
       "  (('BMS', '50.0'), 34),\n",
       "  (('Dex', '5.0'), 694),\n",
       "  (('Dex', '10.0'), 704),\n",
       "  (('Dex', '50.0'), 864),\n",
       "  (('Dex', '100.0'), 790),\n",
       "  (('Nutlin', '5.0'), 486),\n",
       "  (('Nutlin', '10.0'), 657),\n",
       "  (('Nutlin', '50.0'), 265),\n",
       "  (('SAHA', '5.0'), 417),\n",
       "  (('SAHA', '10.0'), 426),\n",
       "  (('SAHA', '50.0'), 604),\n",
       "  (('SAHA', '100.0'), 419)],\n",
       " 14)"
      ]
     },
     "execution_count": 8,
     "metadata": {},
     "output_type": "execute_result"
    }
   ],
   "source": [
    "availables, len(availables)"
   ]
  },
  {
   "cell_type": "code",
   "execution_count": 9,
   "id": "94ab9776-4e50-4995-9aa4-c4c04c60a1c3",
   "metadata": {},
   "outputs": [
    {
     "name": "stdout",
     "output_type": "stream",
     "text": [
      "(('BMS', '5.0'), 193)\n",
      "\n",
      "Removed datapoint: 193\n"
     ]
    }
   ],
   "source": [
    "def adata_ood_creator(adata, seed, size):\n",
    "    df = adata.obs.groupby([\"condition\", \"dose\"]).size()\n",
    "    df2 = adata.obs.groupby([\"condition\"]).size()\n",
    "    # availables = [(i, df[i]) for i in df.index if df[i] > 200 and df2[i[0]] > 100 and float(i[1])>4]\n",
    "    # rng = np.random.default_rng(seed=seed)\n",
    "    # random_choices = rng.choice(np.arange(len(availables)), size=size, replace=False)\n",
    "    # choices = [availables[i] for i in random_choices]\n",
    "    choices = [availables[ood_seed]]\n",
    "    for choice in choices:\n",
    "        print(choice)\n",
    "    choices_bool = np.vstack([(adata.obs[\"condition\"] == choice[0][0]) & (adata.obs[\"dose\"] == choice[0][1]) for choice in choices]).any(axis=0)\n",
    "    print(f\"\\nRemoved datapoint: {choices_bool.sum()}\")\n",
    "    return adata[~choices_bool, :].copy(), choices_bool\n",
    "\n",
    "adata, choices_bool = adata_ood_creator(adata, seed=ood_seed, size=num_ood)"
   ]
  },
  {
   "cell_type": "code",
   "execution_count": 10,
   "id": "8cb3d7bd-b684-427f-8cdc-be22859939ce",
   "metadata": {},
   "outputs": [
    {
     "data": {
      "text/plain": [
       "AnnData object with n_obs × n_vars = 14618 × 4999\n",
       "    obs: 'sample', 'size_factor', 'n.umi', 'hash_umis', 'pval', 'qval', 'top_to_second_best_ratio', 'top_oligo', 'drug', 'dose', 'vehicle', 'n_counts', 'log_counts', 'n_genes', 'mt_frac', 'product_dose', 'louvain', 'dose_val', 'cell_type', 'drug_dose_name', 'cov_drug_dose_name', 'condition', 'control', 'split', 'dose_training'\n",
       "    var: 'id', 'n_cells', 'highly_variable', 'means', 'dispersions', 'dispersions_norm'\n",
       "    uns: 'dose_colors', 'drug_colors', 'louvain', 'louvain_colors', 'neighbors', 'pca', 'product_dose_colors', 'rank_genes_groups_cov', 'umap', 'vehicle_colors'\n",
       "    obsm: 'X_pca', 'X_umap'\n",
       "    varm: 'PCs'\n",
       "    obsp: 'connectivities', 'distances'"
      ]
     },
     "execution_count": 10,
     "metadata": {},
     "output_type": "execute_result"
    }
   ],
   "source": [
    "adata"
   ]
  },
  {
   "cell_type": "code",
   "execution_count": 10,
   "id": "bbd35a92-2801-4b28-bc4e-b6c25122c30e",
   "metadata": {},
   "outputs": [],
   "source": [
    "dir_path = os.path.join(\n",
    "    tardis.config.io_directories[\"models\"],\n",
    "    f\"sciplex_cat_ood-seed_expression-{ood_seed}_size-{num_ood}_obs-{obs_key}\"\n",
    ")"
   ]
  },
  {
   "cell_type": "code",
   "execution_count": 11,
   "id": "70f0966b-1af6-49d3-abbe-0165e70fc35f",
   "metadata": {},
   "outputs": [],
   "source": [
    "# vae = tardis.MyModel.load(dir_path, adata=adata)"
   ]
  },
  {
   "cell_type": "code",
   "execution_count": 12,
   "id": "ae7aa0b0-3d05-4577-b71d-4a6d0f242bf7",
   "metadata": {},
   "outputs": [],
   "source": [
    "model_level_metrics = [\n",
    "    dict(\n",
    "        metric_identifier = \"metric_mi|dose_training\",\n",
    "        training_set = [\"train\", \"validation\"],\n",
    "        every_n_epoch = 5,\n",
    "        subsample = 1.0,\n",
    "        progress_bar = True,\n",
    "        metric_kwargs = dict(\n",
    "            variation = \"normalized\",\n",
    "            discretization_bins = 256,\n",
    "            latent_subset=None,\n",
    "            reduce=np.mean\n",
    "        )\n",
    "    ),\n",
    "    dict(\n",
    "        metric_identifier = \"metric_mi|condition\",\n",
    "        training_set = [\"train\", \"validation\"],\n",
    "        every_n_epoch = 5,\n",
    "        subsample = 1.0,\n",
    "        progress_bar = True,\n",
    "        metric_kwargs = dict(\n",
    "            variation = \"normalized\",\n",
    "            discretization_bins = 256,\n",
    "            latent_subset=None,\n",
    "            reduce=np.mean\n",
    "        )\n",
    "    )\n",
    "]"
   ]
  },
  {
   "cell_type": "code",
   "execution_count": 13,
   "id": "db44c948-8d6b-413a-bbf3-20ff81dc7665",
   "metadata": {},
   "outputs": [],
   "source": [
    "warmup_epoch_range = [6, 48]\n",
    "dtc_w1 = 100\n",
    "dtc_w2 = 10\n",
    "\n",
    "counteractive_minibatch_settings = dict(\n",
    "    method = \"categorical_random\",\n",
    "    method_kwargs = dict(\n",
    "        within_labels = False,\n",
    "        within_batch = False,\n",
    "        within_categorical_covs = None,\n",
    "        seed = \"forward\",\n",
    "    )\n",
    ")\n",
    "\n",
    "disentenglement_targets_configurations=[\n",
    "    dict(\n",
    "        obs_key = obs_key,\n",
    "        n_reserved_latent = 8,\n",
    "        counteractive_minibatch_settings = counteractive_minibatch_settings,\n",
    "        auxillary_losses = [\n",
    "            dict(\n",
    "                apply = True, \n",
    "                target_type=\"categorical\",\n",
    "                progress_bar = False,\n",
    "                weight = dtc_w1,\n",
    "                method = \"mse_z\", \n",
    "                latent_group = \"reserved\",\n",
    "                counteractive_example = \"negative\",\n",
    "                transformation = \"inverse\", \n",
    "                warmup_epoch_range=warmup_epoch_range,\n",
    "                method_kwargs = {}\n",
    "            ),\n",
    "            dict(\n",
    "                apply = True, \n",
    "                target_type=\"categorical\",\n",
    "                progress_bar = False,\n",
    "                weight = dtc_w2, \n",
    "                method = \"mse_z\", \n",
    "                latent_group = \"reserved\",\n",
    "                counteractive_example = \"positive\",\n",
    "                transformation = \"none\",\n",
    "                warmup_epoch_range=warmup_epoch_range,\n",
    "                method_kwargs = {}\n",
    "            ),\n",
    "            dict(\n",
    "                apply = True, \n",
    "                target_type=\"categorical\",\n",
    "                progress_bar = False,\n",
    "                weight = dtc_w2 * 1,\n",
    "                method = \"mse_z\", \n",
    "                latent_group = \"unreserved_complete\",\n",
    "                counteractive_example = \"negative\",\n",
    "                transformation = \"none\", \n",
    "                warmup_epoch_range=warmup_epoch_range,\n",
    "                method_kwargs = {}\n",
    "            ),\n",
    "            dict(\n",
    "                apply = True, \n",
    "                target_type=\"categorical\",\n",
    "                progress_bar = False,\n",
    "                weight = dtc_w1 * 1, \n",
    "                method = \"mse_z\", \n",
    "                latent_group = \"unreserved_complete\",\n",
    "                counteractive_example = \"positive\",\n",
    "                transformation = \"inverse\",\n",
    "                warmup_epoch_range=warmup_epoch_range,\n",
    "                method_kwargs = {}\n",
    "            ),\n",
    "        ]\n",
    "    ),\n",
    "]"
   ]
  },
  {
   "cell_type": "code",
   "execution_count": null,
   "id": "f96b8204-22ba-47d5-b17f-9fe263cc87f6",
   "metadata": {},
   "outputs": [
    {
     "name": "stderr",
     "output_type": "stream",
     "text": [
      "CUDA backend failed to initialize: Found cuDNN version 8700, but JAX was built against version 8907, which is newer. The copy of cuDNN that is installed must be at least as new as the version against which JAX was built. (Set TF_CPP_MIN_LOG_LEVEL=0 and rerun for more info.)\n"
     ]
    },
    {
     "name": "stdout",
     "output_type": "stream",
     "text": [
      "W&B logger initialized with the following parameters: \n",
      "Entity: inecik-academic\n",
      "Project: tardis_conference\n",
      "ID: 5lmf4qcu\n",
      "Name: forgotten-cruiser-191\n",
      "Tags: tardis, conference, figures, final\n",
      "Notes: Final runs for Tardis before conference.\n",
      "URL: https://wandb.ai/inecik-academic/tardis_conference/runs/5lmf4qcu\n",
      "Directory: /lustre/groups/ml01/workspace/kemal.inecik/wandb/run-20240504_222222-5lmf4qcu/files\n",
      "\n"
     ]
    },
    {
     "name": "stderr",
     "output_type": "stream",
     "text": [
      "GPU available: True (cuda), used: True\n",
      "TPU available: False, using: 0 TPU cores\n",
      "IPU available: False, using: 0 IPUs\n",
      "HPU available: False, using: 0 HPUs\n",
      "`Trainer(limit_train_batches=1.0)` was configured so 100% of the batches per epoch will be used..\n",
      "`Trainer(limit_val_batches=1.0)` was configured so 100% of the batches will be used..\n",
      "You are using a CUDA device ('NVIDIA A100-PCIE-40GB MIG 3g.20gb') that has Tensor Cores. To properly utilize them, you should set `torch.set_float32_matmul_precision('medium' | 'high')` which will trade-off precision for performance. For more details, read https://pytorch.org/docs/stable/generated/torch.set_float32_matmul_precision.html#torch.set_float32_matmul_precision\n",
      "LOCAL_RANK: 0 - CUDA_VISIBLE_DEVICES: [MIG-5f1dabc9-296d-5f69-a212-e7de5c7586cb]\n",
      "/home/icb/kemal.inecik/tools/apps/mamba/envs/tardis_env/lib/python3.10/site-packages/torch/optim/lr_scheduler.py:28: UserWarning: The verbose parameter is deprecated. Please use get_last_lr() to access the learning rate.\n",
      "  warnings.warn(\"The verbose parameter is deprecated. Please use get_last_lr() \"\n",
      "SLURM auto-requeueing enabled. Setting signal handlers.\n"
     ]
    },
    {
     "name": "stdout",
     "output_type": "stream",
     "text": [
      "Epoch 1/600:   0%|                                                                                                                                                                                                                                                                  | 0/600 [00:00<?, ?it/s]"
     ]
    },
    {
     "name": "stderr",
     "output_type": "stream",
     "text": [
      "/home/icb/kemal.inecik/work/codes/tardis/tardis/_counteractivegenerator.py:237: UserWarning: Possible group definition indices are calculated for `dose_training` for `training` set. Number of elements in each group: 1717,1541,1442,1730,1420,1058,1420,996\n",
      "  possible_indices = CachedPossibleGroupDefinitionIndices.get(\n",
      "/home/icb/kemal.inecik/work/codes/tardis/tardis/_counteractivegenerator.py:237: UserWarning: Possible group definition indices are calculated for `condition` for `training` set. Number of elements in each group: 1563,3574,1662,2808,1717\n",
      "  possible_indices = CachedPossibleGroupDefinitionIndices.get(\n",
      "/home/icb/kemal.inecik/work/codes/tardis/tardis/_counteractivegenerator.py:237: UserWarning: Possible group definition indices are calculated for `dose_training` for `validation` set. Number of elements in each group: 438,420,350,441,370,225,347,239\n",
      "  possible_indices = CachedPossibleGroupDefinitionIndices.get(\n",
      "/home/icb/kemal.inecik/work/codes/tardis/tardis/_counteractivegenerator.py:237: UserWarning: Possible group definition indices are calculated for `condition` for `validation` set. Number of elements in each group: 376,894,441,681,438\n",
      "  possible_indices = CachedPossibleGroupDefinitionIndices.get(\n"
     ]
    },
    {
     "name": "stdout",
     "output_type": "stream",
     "text": [
      "Epoch 343/600:  57%|██████████████████████████████████████████████████████████████████▋                                                  | 342/600 [32:31<22:20,  5.20s/it, v_num=cu_1, total_loss_train=2.22e+3, kl_local_train=90.4, metric_mi|dose_training_train=0.176, metric_mi|condition_train=0.193]"
     ]
    }
   ],
   "source": [
    "n_epochs_kl_warmup = 600\n",
    "\n",
    "model_params = dict(\n",
    "    n_hidden=512,\n",
    "    n_layers=3, \n",
    "    n_latent=(24 + 8 * len(disentenglement_targets_configurations)),\n",
    "    gene_likelihood = \"nb\",\n",
    "    use_batch_norm = \"none\",\n",
    "    use_layer_norm = \"both\",\n",
    "    dropout_rate = 0.25,\n",
    "    deeply_inject_disentengled_latents = True,\n",
    "    include_auxillary_loss = True,\n",
    "    beta_kl_weight = 0.5,\n",
    "    encode_covariates=True\n",
    ")\n",
    "\n",
    "train_params = dict(\n",
    "    max_epochs=600,\n",
    "    train_size=0.8,\n",
    "    batch_size=128,\n",
    "    check_val_every_n_epoch=10,\n",
    "    limit_train_batches=1.0, \n",
    "    limit_val_batches=1.0,\n",
    "    learning_rate_monitor=True,\n",
    "    # early stopping:\n",
    "    early_stopping=False,\n",
    "    early_stopping_patience=150,\n",
    "    early_stopping_monitor=\"elbo_train\",\n",
    "    plan_kwargs = dict(\n",
    "        n_epochs_kl_warmup=n_epochs_kl_warmup,\n",
    "        lr=1e-4,\n",
    "        weight_decay=1e-4,\n",
    "        optimizer=\"AdamW\",\n",
    "        # lr-scheduler:\n",
    "        reduce_lr_on_plateau=True,\n",
    "        lr_patience=100,\n",
    "        lr_scheduler_metric=\"elbo_train\",\n",
    "    )\n",
    ")\n",
    "\n",
    "dataset_params = dict(\n",
    "    layer=None, \n",
    "    labels_key=None,\n",
    "    batch_key=None,\n",
    "    categorical_covariate_keys=None,\n",
    "    disentenglement_targets_configurations=disentenglement_targets_configurations,\n",
    "    model_level_metrics=model_level_metrics,\n",
    "    model_level_metrics_helper_covariates=['condition', 'dose_training']\n",
    ")\n",
    "\n",
    "tardis.MyModel.setup_anndata(adata, **dataset_params)\n",
    "dataset_params[\"adata_path\"] = adata_file_path\n",
    "dataset_params[\"adata\"] = os.path.split(adata_file_path)[1]\n",
    "\n",
    "# tardis.MyModel.setup_wandb(\n",
    "#     wandb_configurations=tardis.config.wandb,\n",
    "#     hyperparams=dict(\n",
    "#         model_params=model_params,\n",
    "#         train_params=train_params,\n",
    "#         dataset_params=dataset_params,\n",
    "#     )\n",
    "# )\n",
    "\n",
    "vae = tardis.MyModel(\n",
    "    adata,\n",
    "    **model_params\n",
    ")\n",
    "vae.train(**train_params)"
   ]
  },
  {
   "cell_type": "code",
   "execution_count": null,
   "id": "0f4b2bc8-70f8-4b9a-ad2f-9d18b07e759e",
   "metadata": {},
   "outputs": [],
   "source": [
    "vae.save(\n",
    "    dir_path,\n",
    "    overwrite=True,\n",
    ")"
   ]
  },
  {
   "cell_type": "code",
   "execution_count": null,
   "id": "5a62da79-f24d-441c-ad7f-b20ac92de525",
   "metadata": {},
   "outputs": [],
   "source": [
    "adata.obs[\"validation\"] = \"train\"\n",
    "adata.obs[\"validation\"].iloc[vae.validation_indices] = \"validation\""
   ]
  },
  {
   "cell_type": "code",
   "execution_count": null,
   "id": "8fb8ef74-f233-49ed-8576-5d59d4607d5f",
   "metadata": {},
   "outputs": [],
   "source": [
    "vae.get_reconstruction_r2_training(top_n=[])"
   ]
  },
  {
   "cell_type": "code",
   "execution_count": null,
   "id": "bdde8817-ea36-453c-b7a0-67d544bdc0d0",
   "metadata": {},
   "outputs": [],
   "source": [
    "vae.get_MI_normalized_training(obs_key)"
   ]
  },
  {
   "cell_type": "code",
   "execution_count": null,
   "id": "41b278e6-2af4-4de7-b877-59b248d9bbd7",
   "metadata": {},
   "outputs": [],
   "source": [
    "vae.get_knn_purity_training(obs_key)"
   ]
  },
  {
   "cell_type": "code",
   "execution_count": null,
   "id": "636fba31-0e55-429a-9b84-97a34506459a",
   "metadata": {},
   "outputs": [],
   "source": [
    "latent = ad.AnnData(X=vae.get_latent_representation(), obs=adata.obs.copy())\n",
    "sc.pp.neighbors(latent)\n",
    "sc.tl.umap(latent)"
   ]
  },
  {
   "cell_type": "code",
   "execution_count": null,
   "id": "3aa31068-3f2d-44f4-9dff-d3da80b59b30",
   "metadata": {},
   "outputs": [],
   "source": [
    "with warnings.catch_warnings():\n",
    "    warnings.simplefilter(\"ignore\")\n",
    "    sc.pl.umap(\n",
    "        latent, \n",
    "        color=[\"dose\", \"condition\"], \n",
    "        ncols=2,\n",
    "        frameon=False,\n",
    "        color_map=\"inferno\",\n",
    "        legend_fontsize=\"xx-small\"\n",
    "    )"
   ]
  },
  {
   "cell_type": "code",
   "execution_count": null,
   "id": "19c96e3d-e9d2-490e-9351-21bde85487d3",
   "metadata": {},
   "outputs": [],
   "source": [
    "from tardis._disentanglementmanager import DisentanglementManager as DM"
   ]
  },
  {
   "cell_type": "code",
   "execution_count": null,
   "id": "8c30b320-945d-4c5b-9a58-7bc614beeead",
   "metadata": {},
   "outputs": [],
   "source": [
    "latent = ad.AnnData(X=vae.get_latent_representation()[:, DM.configurations.get_by_obs_key(obs_key).reserved_latent_indices], obs=adata.obs.copy())\n",
    "sc.pp.neighbors(latent)\n",
    "sc.tl.umap(latent)\n",
    "with warnings.catch_warnings():\n",
    "    warnings.simplefilter(\"ignore\")\n",
    "    sc.pl.umap(\n",
    "        latent, \n",
    "        color=[\"dose\", \"condition\", \"validation\"], \n",
    "        ncols=3,\n",
    "        frameon=False,\n",
    "        color_map=\"inferno\",\n",
    "        legend_fontsize=\"xx-small\"\n",
    "    )"
   ]
  },
  {
   "cell_type": "code",
   "execution_count": null,
   "id": "6d47494a-fa69-4262-9fc9-c5a3e3d5af36",
   "metadata": {},
   "outputs": [],
   "source": []
  }
 ],
 "metadata": {
  "kernelspec": {
   "display_name": "Python 3 (ipykernel)",
   "language": "python",
   "name": "python3"
  },
  "language_info": {
   "codemirror_mode": {
    "name": "ipython",
    "version": 3
   },
   "file_extension": ".py",
   "mimetype": "text/x-python",
   "name": "python",
   "nbconvert_exporter": "python",
   "pygments_lexer": "ipython3",
   "version": "3.10.14"
  }
 },
 "nbformat": 4,
 "nbformat_minor": 5
}
