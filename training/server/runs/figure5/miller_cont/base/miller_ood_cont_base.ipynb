{
 "cells": [
  {
   "cell_type": "markdown",
   "id": "3caa2a27-8613-4d8d-bca4-6fd0b2845d32",
   "metadata": {},
   "source": [
    "# Miller age"
   ]
  },
  {
   "cell_type": "code",
   "execution_count": null,
   "id": "11fa8042-968c-4056-b6c2-21d2a41e4a91",
   "metadata": {},
   "outputs": [],
   "source": [
    "ood_seed = 0"
   ]
  },
  {
   "cell_type": "code",
   "execution_count": null,
   "id": "e440d02d-5772-4ab6-8a66-e4538255a956",
   "metadata": {},
   "outputs": [],
   "source": [
    "num_ood = 1  # not functioning"
   ]
  },
  {
   "cell_type": "code",
   "execution_count": null,
   "id": "d05ef01e-8441-415f-a6f7-0b6d8f4761d1",
   "metadata": {},
   "outputs": [],
   "source": [
    "import warnings\n",
    "import os\n",
    "import sys\n",
    "import gc\n",
    "import warnings\n",
    "import anndata as ad\n",
    "import scanpy as sc\n",
    "import copy\n",
    "import torch\n",
    "from pathlib import Path\n",
    "import networkx as nx\n",
    "from sklearn.neighbors import kneighbors_graph\n",
    "import numpy as np\n",
    "import scanpy as sc\n",
    "import pandas as pd\n",
    "import numpy as np\n",
    "import scipy.stats\n",
    "import sklearn\n",
    "from sklearn.dummy import DummyClassifier\n",
    "\n",
    "sys.path.append(\"/home/icb/kemal.inecik/work/codes/tardis\")\n",
    "import tardis\n",
    "from tardis._utils.functions import label_transfer\n",
    "tardis.config = tardis.config_server\n",
    "print(f\"CUDA used: {torch.cuda.is_available()}\")"
   ]
  },
  {
   "cell_type": "code",
   "execution_count": null,
   "id": "7bf1c85f-50e2-42e6-b0e1-54c8d7891674",
   "metadata": {},
   "outputs": [],
   "source": [
    "%matplotlib inline\n",
    "%config InlineBackend.figure_format='retina'\n",
    "import matplotlib.pyplot as plt\n",
    "import seaborn as sns\n",
    "\n",
    "import pickle\n",
    "_rcparams_path = \"/home/icb/kemal.inecik/work/codes/tardis/training/local/figures/rcparams.pickle\"\n",
    "with open(_rcparams_path, 'rb') as file:\n",
    "    _rcparams = pickle.load(file)\n",
    "plt.rcParams.update(_rcparams)"
   ]
  },
  {
   "cell_type": "code",
   "execution_count": null,
   "id": "468dee11-f67f-4838-9bd8-c0822e9b310f",
   "metadata": {},
   "outputs": [],
   "source": [
    "adata_file_path = os.path.join(tardis.config.io_directories[\"processed\"], \"dataset_complete_Miller.h5ad\")\n",
    "assert os.path.isfile(adata_file_path), f\"File not already exist: `{adata_file_path}`\"\n",
    "adata = ad.read_h5ad(adata_file_path)\n",
    "adata.obs[\"age\"] = adata.obs[\"age\"].astype(\"str\").astype(\"category\")\n",
    "adata.obs[\"age_continuous\"] = adata.obs[\"age\"].astype(float)\n",
    "d = {i: ind for ind, i in enumerate(sorted(adata.obs[\"age\"].astype(float).unique()))}\n",
    "adata.obs[\"age_training\"] = [d[float(i)] for i in adata.obs[\"age\"]]\n",
    "\n",
    "df = adata.obs.groupby([\"cell_type\", \"age\"]).size()\n",
    "df2 = adata.obs.groupby([\"cell_type\"]).size()\n",
    "availables = [(i, df[i]) for i in df.index if df[i] > 100 and df2[i[0]] > 350]"
   ]
  },
  {
   "cell_type": "code",
   "execution_count": null,
   "id": "1b8c47ac-a9de-42aa-97f0-60c8a8e6a4e5",
   "metadata": {},
   "outputs": [],
   "source": [
    "adata.obs[['age_training', 'age']].value_counts()"
   ]
  },
  {
   "cell_type": "code",
   "execution_count": null,
   "id": "037fb223-7d1a-47fa-87e5-2fb58275af64",
   "metadata": {},
   "outputs": [],
   "source": [
    "df"
   ]
  },
  {
   "cell_type": "code",
   "execution_count": null,
   "id": "3d4da34c-707f-432e-b3a3-c01a6290a670",
   "metadata": {},
   "outputs": [],
   "source": [
    "availables"
   ]
  },
  {
   "cell_type": "code",
   "execution_count": null,
   "id": "94ab9776-4e50-4995-9aa4-c4c04c60a1c3",
   "metadata": {},
   "outputs": [],
   "source": [
    "def adata_ood_creator(adata, seed, size):\n",
    "    rng = np.random.default_rng(seed=seed)\n",
    "    # random_choices = rng.choice(np.arange(len(availables)), size=size, replace=False)\n",
    "    # choices = [availables[i] for i in random_choices]\n",
    "    choices = [availables[ood_seed]]\n",
    "    for choice in choices:\n",
    "        print(choice)\n",
    "    choices_bool = np.vstack([(adata.obs[\"cell_type\"] == choice[0][0]) & (adata.obs[\"age\"] == choice[0][1]) for choice in choices]).any(axis=0)\n",
    "    print(f\"\\nRemoved datapoint: {choices_bool.sum()}\")\n",
    "    return adata[~choices_bool, :].copy(), choices_bool\n",
    "\n",
    "adata, choices_bool = adata_ood_creator(adata, seed=ood_seed, size=num_ood)"
   ]
  },
  {
   "cell_type": "code",
   "execution_count": null,
   "id": "8cb3d7bd-b684-427f-8cdc-be22859939ce",
   "metadata": {},
   "outputs": [],
   "source": [
    "adata"
   ]
  },
  {
   "cell_type": "code",
   "execution_count": null,
   "id": "bbd35a92-2801-4b28-bc4e-b6c25122c30e",
   "metadata": {},
   "outputs": [],
   "source": [
    "dir_path = os.path.join(\n",
    "    tardis.config.io_directories[\"models\"],\n",
    "    f\"miller_ood_cont_expression-seed-{ood_seed}_size-{num_ood}\"\n",
    ")"
   ]
  },
  {
   "cell_type": "code",
   "execution_count": null,
   "id": "70f0966b-1af6-49d3-abbe-0165e70fc35f",
   "metadata": {},
   "outputs": [],
   "source": [
    "# vae = tardis.MyModel.load(dir_path, adata=adata)"
   ]
  },
  {
   "cell_type": "code",
   "execution_count": null,
   "id": "fb11176c",
   "metadata": {},
   "outputs": [],
   "source": [
    "(\n",
    "    adata.obs[\"integration_donor\"].nunique(),\n",
    "    adata.obs[\"integration_biological_unit\"].nunique(),\n",
    "    adata.obs[\"integration_sample_status\"].nunique(),\n",
    "    adata.obs[\"integration_library_platform_coarse\"].nunique(),\n",
    ") "
   ]
  },
  {
   "cell_type": "code",
   "execution_count": null,
   "id": "f96b8204-22ba-47d5-b17f-9fe263cc87f6",
   "metadata": {},
   "outputs": [],
   "source": [
    "warmup_epoch_range = [6, 48]\n",
    "\n",
    "counteractive_minibatch_settings = dict(\n",
    "    method = \"categorical_random\",\n",
    "    method_kwargs = dict(\n",
    "        within_labels = False,\n",
    "        within_batch = False,\n",
    "        within_categorical_covs = None,\n",
    "        seed = \"forward\",\n",
    "    )\n",
    ")\n",
    "\n",
    "tardis_loss_weight_1 = 100\n",
    "tardis_loss_weight_2 = 10\n",
    "\n",
    "disentenglement_targets_configurations=[\n",
    "    dict(\n",
    "        obs_key = \"age_training\",\n",
    "        n_reserved_latent = 8,\n",
    "        counteractive_minibatch_settings = counteractive_minibatch_settings,\n",
    "        auxillary_losses = [\n",
    "            dict(\n",
    "                apply = True, \n",
    "                target_type=\"pseudo_categorical\",\n",
    "                non_categorical_coefficient_method=\"squared_difference\",\n",
    "                progress_bar = True,\n",
    "                weight = tardis_loss_weight_1,\n",
    "                method = \"mse_z\", \n",
    "                latent_group = \"reserved\",\n",
    "                counteractive_example = \"negative\",\n",
    "                transformation = \"inverse\", \n",
    "                warmup_epoch_range=warmup_epoch_range,\n",
    "                method_kwargs = {}\n",
    "            ),\n",
    "            dict(\n",
    "                apply = True, \n",
    "                target_type=\"categorical\",\n",
    "                progress_bar = False,\n",
    "                weight = tardis_loss_weight_2, \n",
    "                method = \"mse_z\", \n",
    "                latent_group = \"reserved\",\n",
    "                counteractive_example = \"positive\",\n",
    "                transformation = \"none\",\n",
    "                warmup_epoch_range=warmup_epoch_range,\n",
    "                method_kwargs = {}\n",
    "            ),\n",
    "            dict(\n",
    "                apply = True, \n",
    "                target_type=\"categorical\",\n",
    "                progress_bar = False,\n",
    "                weight = tardis_loss_weight_2 * 1,\n",
    "                method = \"mse_z\", \n",
    "                latent_group = \"unreserved_complete\",\n",
    "                counteractive_example = \"negative\",\n",
    "                transformation = \"none\", \n",
    "                warmup_epoch_range=warmup_epoch_range,\n",
    "                method_kwargs = {}\n",
    "            ),\n",
    "            dict(\n",
    "                apply = True, \n",
    "                target_type=\"categorical\",\n",
    "                progress_bar = False,\n",
    "                weight = tardis_loss_weight_1 * 1, \n",
    "                method = \"mse_z\", \n",
    "                latent_group = \"unreserved_complete\",\n",
    "                counteractive_example = \"positive\",\n",
    "                transformation = \"inverse\",\n",
    "                warmup_epoch_range=warmup_epoch_range,\n",
    "                method_kwargs = {}\n",
    "            ),\n",
    "        ]\n",
    "    ),\n",
    "    dict(\n",
    "        obs_key = \"integration_donor\",\n",
    "        n_reserved_latent = 8,\n",
    "        counteractive_minibatch_settings = counteractive_minibatch_settings,\n",
    "        auxillary_losses = [\n",
    "            dict(\n",
    "                apply = True, \n",
    "                target_type=\"categorical\",\n",
    "                progress_bar = True,\n",
    "                weight = tardis_loss_weight_1,\n",
    "                method = \"mse_z\", \n",
    "                latent_group = \"reserved\",\n",
    "                counteractive_example = \"negative\",\n",
    "                transformation = \"inverse\", \n",
    "                warmup_epoch_range=warmup_epoch_range,\n",
    "                method_kwargs = {}\n",
    "            ),\n",
    "            dict(\n",
    "                apply = True, \n",
    "                target_type=\"categorical\",\n",
    "                progress_bar = False,\n",
    "                weight = tardis_loss_weight_2, \n",
    "                method = \"mse_z\", \n",
    "                latent_group = \"reserved\",\n",
    "                counteractive_example = \"positive\",\n",
    "                transformation = \"none\",\n",
    "                warmup_epoch_range=warmup_epoch_range,\n",
    "                method_kwargs = {}\n",
    "            ),\n",
    "            dict(\n",
    "                apply = True, \n",
    "                target_type=\"categorical\",\n",
    "                progress_bar = False,\n",
    "                weight = tardis_loss_weight_2 * 1,\n",
    "                method = \"mse_z\", \n",
    "                latent_group = \"unreserved_complete\",\n",
    "                counteractive_example = \"negative\",\n",
    "                transformation = \"none\", \n",
    "                warmup_epoch_range=warmup_epoch_range,\n",
    "                method_kwargs = {}\n",
    "            ),\n",
    "            dict(\n",
    "                apply = True, \n",
    "                target_type=\"categorical\",\n",
    "                progress_bar = False,\n",
    "                weight = tardis_loss_weight_1 * 1, \n",
    "                method = \"mse_z\", \n",
    "                latent_group = \"unreserved_complete\",\n",
    "                counteractive_example = \"positive\",\n",
    "                transformation = \"inverse\",\n",
    "                warmup_epoch_range=warmup_epoch_range,\n",
    "                method_kwargs = {}\n",
    "            ),\n",
    "        ]\n",
    "    )\n",
    "]\n"
   ]
  },
  {
   "cell_type": "code",
   "execution_count": null,
   "id": "2490b31c-3f22-47d8-8d35-b27c9cb19810",
   "metadata": {},
   "outputs": [
    {
     "name": "stdout",
     "output_type": "stream",
     "text": [
      "\r",
      "Epoch 3/600:   0%|          | 2/600 [00:08<41:20,  4.15s/it, v_num=p2_1, total_loss_train=1.03e+3, kl_local_train=27.6, tardis_age_0_train=33.1, tardis_integration_donor_0_train=31.4]"
     ]
    },
    {
     "name": "stdout",
     "output_type": "stream",
     "text": [
      "\r",
      "Epoch 3/600:   0%|          | 3/600 [00:12<40:28,  4.07s/it, v_num=p2_1, total_loss_train=1.03e+3, kl_local_train=27.6, tardis_age_0_train=33.1, tardis_integration_donor_0_train=31.4]"
     ]
    },
    {
     "name": "stdout",
     "output_type": "stream",
     "text": [
      "\r",
      "Epoch 3/600:   0%|          | 3/600 [00:12<40:28,  4.07s/it, v_num=p2_1, total_loss_train=981, kl_local_train=31.3, tardis_age_0_train=32.2, tardis_integration_donor_0_train=30.7]    "
     ]
    },
    {
     "name": "stdout",
     "output_type": "stream",
     "text": [
      "\r",
      "Epoch 4/600:   0%|          | 3/600 [00:12<40:28,  4.07s/it, v_num=p2_1, total_loss_train=981, kl_local_train=31.3, tardis_age_0_train=32.2, tardis_integration_donor_0_train=30.7]"
     ]
    },
    {
     "name": "stdout",
     "output_type": "stream",
     "text": [
      "\r",
      "Epoch 4/600:   1%|          | 4/600 [00:16<40:14,  4.05s/it, v_num=p2_1, total_loss_train=981, kl_local_train=31.3, tardis_age_0_train=32.2, tardis_integration_donor_0_train=30.7]"
     ]
    },
    {
     "name": "stdout",
     "output_type": "stream",
     "text": [
      "\r",
      "Epoch 4/600:   1%|          | 4/600 [00:16<40:14,  4.05s/it, v_num=p2_1, total_loss_train=958, kl_local_train=31.3, tardis_age_0_train=31.1, tardis_integration_donor_0_train=30.7]"
     ]
    },
    {
     "name": "stdout",
     "output_type": "stream",
     "text": [
      "\r",
      "Epoch 5/600:   1%|          | 4/600 [00:16<40:14,  4.05s/it, v_num=p2_1, total_loss_train=958, kl_local_train=31.3, tardis_age_0_train=31.1, tardis_integration_donor_0_train=30.7]"
     ]
    },
    {
     "name": "stdout",
     "output_type": "stream",
     "text": [
      "\r",
      "Epoch 5/600:   1%|          | 5/600 [00:20<39:53,  4.02s/it, v_num=p2_1, total_loss_train=958, kl_local_train=31.3, tardis_age_0_train=31.1, tardis_integration_donor_0_train=30.7]"
     ]
    },
    {
     "name": "stdout",
     "output_type": "stream",
     "text": [
      "\r",
      "Epoch 5/600:   1%|          | 5/600 [00:20<39:53,  4.02s/it, v_num=p2_1, total_loss_train=923, kl_local_train=40.9, tardis_age_0_train=31.1, tardis_integration_donor_0_train=32.2]"
     ]
    },
    {
     "name": "stdout",
     "output_type": "stream",
     "text": [
      "\r",
      "Epoch 6/600:   1%|          | 5/600 [00:20<39:53,  4.02s/it, v_num=p2_1, total_loss_train=923, kl_local_train=40.9, tardis_age_0_train=31.1, tardis_integration_donor_0_train=32.2]"
     ]
    },
    {
     "name": "stdout",
     "output_type": "stream",
     "text": [
      "\r",
      "Epoch 6/600:   1%|          | 6/600 [00:24<39:49,  4.02s/it, v_num=p2_1, total_loss_train=923, kl_local_train=40.9, tardis_age_0_train=31.1, tardis_integration_donor_0_train=32.2]"
     ]
    },
    {
     "name": "stdout",
     "output_type": "stream",
     "text": [
      "\r",
      "Epoch 6/600:   1%|          | 6/600 [00:24<39:49,  4.02s/it, v_num=p2_1, total_loss_train=896, kl_local_train=45.8, tardis_age_0_train=32, tardis_integration_donor_0_train=32.8]  "
     ]
    },
    {
     "name": "stdout",
     "output_type": "stream",
     "text": [
      "\r",
      "Epoch 7/600:   1%|          | 6/600 [00:24<39:49,  4.02s/it, v_num=p2_1, total_loss_train=896, kl_local_train=45.8, tardis_age_0_train=32, tardis_integration_donor_0_train=32.8]"
     ]
    },
    {
     "name": "stdout",
     "output_type": "stream",
     "text": [
      "\r",
      "Epoch 7/600:   1%|          | 7/600 [00:28<39:47,  4.03s/it, v_num=p2_1, total_loss_train=896, kl_local_train=45.8, tardis_age_0_train=32, tardis_integration_donor_0_train=32.8]"
     ]
    },
    {
     "name": "stdout",
     "output_type": "stream",
     "text": [
      "\r",
      "Epoch 7/600:   1%|          | 7/600 [00:28<39:47,  4.03s/it, v_num=p2_1, total_loss_train=881, kl_local_train=47.8, tardis_age_0_train=32.7, tardis_integration_donor_0_train=33.4]"
     ]
    },
    {
     "name": "stdout",
     "output_type": "stream",
     "text": [
      "\r",
      "Epoch 8/600:   1%|          | 7/600 [00:28<39:47,  4.03s/it, v_num=p2_1, total_loss_train=881, kl_local_train=47.8, tardis_age_0_train=32.7, tardis_integration_donor_0_train=33.4]"
     ]
    },
    {
     "name": "stdout",
     "output_type": "stream",
     "text": [
      "\r",
      "Epoch 8/600:   1%|▏         | 8/600 [00:32<39:52,  4.04s/it, v_num=p2_1, total_loss_train=881, kl_local_train=47.8, tardis_age_0_train=32.7, tardis_integration_donor_0_train=33.4]"
     ]
    },
    {
     "name": "stdout",
     "output_type": "stream",
     "text": [
      "\r",
      "Epoch 8/600:   1%|▏         | 8/600 [00:32<39:52,  4.04s/it, v_num=p2_1, total_loss_train=880, kl_local_train=44.5, tardis_age_0_train=34.6, tardis_integration_donor_0_train=34.5]"
     ]
    },
    {
     "name": "stdout",
     "output_type": "stream",
     "text": [
      "\r",
      "Epoch 9/600:   1%|▏         | 8/600 [00:32<39:52,  4.04s/it, v_num=p2_1, total_loss_train=880, kl_local_train=44.5, tardis_age_0_train=34.6, tardis_integration_donor_0_train=34.5]"
     ]
    },
    {
     "name": "stdout",
     "output_type": "stream",
     "text": [
      "\r",
      "Epoch 9/600:   2%|▏         | 9/600 [00:36<39:52,  4.05s/it, v_num=p2_1, total_loss_train=880, kl_local_train=44.5, tardis_age_0_train=34.6, tardis_integration_donor_0_train=34.5]"
     ]
    },
    {
     "name": "stdout",
     "output_type": "stream",
     "text": [
      "\r",
      "Epoch 9/600:   2%|▏         | 9/600 [00:36<39:52,  4.05s/it, v_num=p2_1, total_loss_train=880, kl_local_train=35.8, tardis_age_0_train=35.1, tardis_integration_donor_0_train=35.4]"
     ]
    },
    {
     "name": "stdout",
     "output_type": "stream",
     "text": [
      "\r",
      "Epoch 10/600:   2%|▏         | 9/600 [00:36<39:52,  4.05s/it, v_num=p2_1, total_loss_train=880, kl_local_train=35.8, tardis_age_0_train=35.1, tardis_integration_donor_0_train=35.4]"
     ]
    },
    {
     "name": "stdout",
     "output_type": "stream",
     "text": [
      "\r",
      "Epoch 10/600:   2%|▏         | 10/600 [00:40<39:52,  4.05s/it, v_num=p2_1, total_loss_train=880, kl_local_train=35.8, tardis_age_0_train=35.1, tardis_integration_donor_0_train=35.4]"
     ]
    },
    {
     "name": "stdout",
     "output_type": "stream",
     "text": [
      "\r",
      "Epoch 10/600:   2%|▏         | 10/600 [00:40<39:52,  4.05s/it, v_num=p2_1, total_loss_train=881, kl_local_train=32.4, tardis_age_0_train=34, tardis_integration_donor_0_train=33.5]  "
     ]
    },
    {
     "name": "stdout",
     "output_type": "stream",
     "text": [
      "\r",
      "Epoch 11/600:   2%|▏         | 10/600 [00:40<39:52,  4.05s/it, v_num=p2_1, total_loss_train=881, kl_local_train=32.4, tardis_age_0_train=34, tardis_integration_donor_0_train=33.5]"
     ]
    },
    {
     "name": "stdout",
     "output_type": "stream",
     "text": [
      "\r",
      "Epoch 11/600:   2%|▏         | 11/600 [00:44<39:44,  4.05s/it, v_num=p2_1, total_loss_train=881, kl_local_train=32.4, tardis_age_0_train=34, tardis_integration_donor_0_train=33.5]"
     ]
    },
    {
     "name": "stdout",
     "output_type": "stream",
     "text": [
      "\r",
      "Epoch 11/600:   2%|▏         | 11/600 [00:44<39:44,  4.05s/it, v_num=p2_1, total_loss_train=883, kl_local_train=34, tardis_age_0_train=32.1, tardis_integration_donor_0_train=30.4]"
     ]
    },
    {
     "name": "stdout",
     "output_type": "stream",
     "text": [
      "\r",
      "Epoch 12/600:   2%|▏         | 11/600 [00:44<39:44,  4.05s/it, v_num=p2_1, total_loss_train=883, kl_local_train=34, tardis_age_0_train=32.1, tardis_integration_donor_0_train=30.4]"
     ]
    },
    {
     "name": "stdout",
     "output_type": "stream",
     "text": [
      "\r",
      "Epoch 12/600:   2%|▏         | 12/600 [00:48<39:42,  4.05s/it, v_num=p2_1, total_loss_train=883, kl_local_train=34, tardis_age_0_train=32.1, tardis_integration_donor_0_train=30.4]"
     ]
    },
    {
     "name": "stdout",
     "output_type": "stream",
     "text": [
      "\r",
      "Epoch 12/600:   2%|▏         | 12/600 [00:48<39:42,  4.05s/it, v_num=p2_1, total_loss_train=884, kl_local_train=37.6, tardis_age_0_train=31.1, tardis_integration_donor_0_train=27.5]"
     ]
    },
    {
     "name": "stdout",
     "output_type": "stream",
     "text": [
      "\r",
      "Epoch 13/600:   2%|▏         | 12/600 [00:48<39:42,  4.05s/it, v_num=p2_1, total_loss_train=884, kl_local_train=37.6, tardis_age_0_train=31.1, tardis_integration_donor_0_train=27.5]"
     ]
    },
    {
     "name": "stdout",
     "output_type": "stream",
     "text": [
      "\r",
      "Epoch 13/600:   2%|▏         | 13/600 [00:52<39:29,  4.04s/it, v_num=p2_1, total_loss_train=884, kl_local_train=37.6, tardis_age_0_train=31.1, tardis_integration_donor_0_train=27.5]"
     ]
    },
    {
     "name": "stdout",
     "output_type": "stream",
     "text": [
      "\r",
      "Epoch 13/600:   2%|▏         | 13/600 [00:52<39:29,  4.04s/it, v_num=p2_1, total_loss_train=885, kl_local_train=41, tardis_age_0_train=31.1, tardis_integration_donor_0_train=26.2]  "
     ]
    },
    {
     "name": "stdout",
     "output_type": "stream",
     "text": [
      "\r",
      "Epoch 14/600:   2%|▏         | 13/600 [00:52<39:29,  4.04s/it, v_num=p2_1, total_loss_train=885, kl_local_train=41, tardis_age_0_train=31.1, tardis_integration_donor_0_train=26.2]"
     ]
    },
    {
     "name": "stdout",
     "output_type": "stream",
     "text": [
      "\r",
      "Epoch 14/600:   2%|▏         | 14/600 [00:56<39:13,  4.02s/it, v_num=p2_1, total_loss_train=885, kl_local_train=41, tardis_age_0_train=31.1, tardis_integration_donor_0_train=26.2]"
     ]
    },
    {
     "name": "stdout",
     "output_type": "stream",
     "text": [
      "\r",
      "Epoch 14/600:   2%|▏         | 14/600 [00:56<39:13,  4.02s/it, v_num=p2_1, total_loss_train=888, kl_local_train=42.7, tardis_age_0_train=31.2, tardis_integration_donor_0_train=26.2]"
     ]
    },
    {
     "name": "stdout",
     "output_type": "stream",
     "text": [
      "\r",
      "Epoch 15/600:   2%|▏         | 14/600 [00:56<39:13,  4.02s/it, v_num=p2_1, total_loss_train=888, kl_local_train=42.7, tardis_age_0_train=31.2, tardis_integration_donor_0_train=26.2]"
     ]
    },
    {
     "name": "stdout",
     "output_type": "stream",
     "text": [
      "\r",
      "Epoch 15/600:   2%|▎         | 15/600 [01:00<38:59,  4.00s/it, v_num=p2_1, total_loss_train=888, kl_local_train=42.7, tardis_age_0_train=31.2, tardis_integration_donor_0_train=26.2]"
     ]
    },
    {
     "name": "stdout",
     "output_type": "stream",
     "text": [
      "\r",
      "Epoch 15/600:   2%|▎         | 15/600 [01:00<38:59,  4.00s/it, v_num=p2_1, total_loss_train=890, kl_local_train=45.9, tardis_age_0_train=30.6, tardis_integration_donor_0_train=24.7]"
     ]
    },
    {
     "name": "stdout",
     "output_type": "stream",
     "text": [
      "\r",
      "Epoch 16/600:   2%|▎         | 15/600 [01:00<38:59,  4.00s/it, v_num=p2_1, total_loss_train=890, kl_local_train=45.9, tardis_age_0_train=30.6, tardis_integration_donor_0_train=24.7]"
     ]
    },
    {
     "name": "stdout",
     "output_type": "stream",
     "text": [
      "\r",
      "Epoch 16/600:   3%|▎         | 16/600 [01:04<38:43,  3.98s/it, v_num=p2_1, total_loss_train=890, kl_local_train=45.9, tardis_age_0_train=30.6, tardis_integration_donor_0_train=24.7]"
     ]
    },
    {
     "name": "stdout",
     "output_type": "stream",
     "text": [
      "\r",
      "Epoch 16/600:   3%|▎         | 16/600 [01:04<38:43,  3.98s/it, v_num=p2_1, total_loss_train=891, kl_local_train=47.9, tardis_age_0_train=30.6, tardis_integration_donor_0_train=23.6]"
     ]
    },
    {
     "name": "stdout",
     "output_type": "stream",
     "text": [
      "\r",
      "Epoch 17/600:   3%|▎         | 16/600 [01:04<38:43,  3.98s/it, v_num=p2_1, total_loss_train=891, kl_local_train=47.9, tardis_age_0_train=30.6, tardis_integration_donor_0_train=23.6]"
     ]
    },
    {
     "name": "stdout",
     "output_type": "stream",
     "text": [
      "\r",
      "Epoch 17/600:   3%|▎         | 17/600 [01:08<38:35,  3.97s/it, v_num=p2_1, total_loss_train=891, kl_local_train=47.9, tardis_age_0_train=30.6, tardis_integration_donor_0_train=23.6]"
     ]
    },
    {
     "name": "stdout",
     "output_type": "stream",
     "text": [
      "\r",
      "Epoch 17/600:   3%|▎         | 17/600 [01:08<38:35,  3.97s/it, v_num=p2_1, total_loss_train=893, kl_local_train=50.5, tardis_age_0_train=30.3, tardis_integration_donor_0_train=24.4]"
     ]
    },
    {
     "name": "stdout",
     "output_type": "stream",
     "text": [
      "\r",
      "Epoch 18/600:   3%|▎         | 17/600 [01:08<38:35,  3.97s/it, v_num=p2_1, total_loss_train=893, kl_local_train=50.5, tardis_age_0_train=30.3, tardis_integration_donor_0_train=24.4]"
     ]
    },
    {
     "name": "stdout",
     "output_type": "stream",
     "text": [
      "\r",
      "Epoch 18/600:   3%|▎         | 18/600 [01:12<38:27,  3.96s/it, v_num=p2_1, total_loss_train=893, kl_local_train=50.5, tardis_age_0_train=30.3, tardis_integration_donor_0_train=24.4]"
     ]
    },
    {
     "name": "stdout",
     "output_type": "stream",
     "text": [
      "\r",
      "Epoch 18/600:   3%|▎         | 18/600 [01:12<38:27,  3.96s/it, v_num=p2_1, total_loss_train=894, kl_local_train=54.7, tardis_age_0_train=29.2, tardis_integration_donor_0_train=23.1]"
     ]
    },
    {
     "name": "stdout",
     "output_type": "stream",
     "text": [
      "\r",
      "Epoch 19/600:   3%|▎         | 18/600 [01:12<38:27,  3.96s/it, v_num=p2_1, total_loss_train=894, kl_local_train=54.7, tardis_age_0_train=29.2, tardis_integration_donor_0_train=23.1]"
     ]
    },
    {
     "name": "stdout",
     "output_type": "stream",
     "text": [
      "\r",
      "Epoch 19/600:   3%|▎         | 19/600 [01:16<38:20,  3.96s/it, v_num=p2_1, total_loss_train=894, kl_local_train=54.7, tardis_age_0_train=29.2, tardis_integration_donor_0_train=23.1]"
     ]
    },
    {
     "name": "stdout",
     "output_type": "stream",
     "text": [
      "\r",
      "Epoch 19/600:   3%|▎         | 19/600 [01:16<38:20,  3.96s/it, v_num=p2_1, total_loss_train=895, kl_local_train=65.7, tardis_age_0_train=27.3, tardis_integration_donor_0_train=21.3]"
     ]
    },
    {
     "name": "stdout",
     "output_type": "stream",
     "text": [
      "\r",
      "Epoch 20/600:   3%|▎         | 19/600 [01:16<38:20,  3.96s/it, v_num=p2_1, total_loss_train=895, kl_local_train=65.7, tardis_age_0_train=27.3, tardis_integration_donor_0_train=21.3]"
     ]
    },
    {
     "name": "stdout",
     "output_type": "stream",
     "text": [
      "\r",
      "Epoch 20/600:   3%|▎         | 20/600 [01:20<38:14,  3.96s/it, v_num=p2_1, total_loss_train=895, kl_local_train=65.7, tardis_age_0_train=27.3, tardis_integration_donor_0_train=21.3]"
     ]
    },
    {
     "name": "stdout",
     "output_type": "stream",
     "text": [
      "\r",
      "Epoch 20/600:   3%|▎         | 20/600 [01:20<38:14,  3.96s/it, v_num=p2_1, total_loss_train=895, kl_local_train=73.9, tardis_age_0_train=25.7, tardis_integration_donor_0_train=20.9]"
     ]
    },
    {
     "name": "stdout",
     "output_type": "stream",
     "text": [
      "\r",
      "Epoch 21/600:   3%|▎         | 20/600 [01:20<38:14,  3.96s/it, v_num=p2_1, total_loss_train=895, kl_local_train=73.9, tardis_age_0_train=25.7, tardis_integration_donor_0_train=20.9]"
     ]
    },
    {
     "name": "stdout",
     "output_type": "stream",
     "text": [
      "\r",
      "Epoch 21/600:   4%|▎         | 21/600 [01:24<38:09,  3.95s/it, v_num=p2_1, total_loss_train=895, kl_local_train=73.9, tardis_age_0_train=25.7, tardis_integration_donor_0_train=20.9]"
     ]
    },
    {
     "name": "stdout",
     "output_type": "stream",
     "text": [
      "\r",
      "Epoch 21/600:   4%|▎         | 21/600 [01:24<38:09,  3.95s/it, v_num=p2_1, total_loss_train=895, kl_local_train=84.4, tardis_age_0_train=23.6, tardis_integration_donor_0_train=19.5]"
     ]
    },
    {
     "name": "stdout",
     "output_type": "stream",
     "text": [
      "\r",
      "Epoch 22/600:   4%|▎         | 21/600 [01:24<38:09,  3.95s/it, v_num=p2_1, total_loss_train=895, kl_local_train=84.4, tardis_age_0_train=23.6, tardis_integration_donor_0_train=19.5]"
     ]
    },
    {
     "name": "stdout",
     "output_type": "stream",
     "text": [
      "\r",
      "Epoch 22/600:   4%|▎         | 22/600 [01:28<37:59,  3.94s/it, v_num=p2_1, total_loss_train=895, kl_local_train=84.4, tardis_age_0_train=23.6, tardis_integration_donor_0_train=19.5]"
     ]
    },
    {
     "name": "stdout",
     "output_type": "stream",
     "text": [
      "\r",
      "Epoch 22/600:   4%|▎         | 22/600 [01:28<37:59,  3.94s/it, v_num=p2_1, total_loss_train=894, kl_local_train=94.5, tardis_age_0_train=21, tardis_integration_donor_0_train=18.2]  "
     ]
    },
    {
     "name": "stdout",
     "output_type": "stream",
     "text": [
      "\r",
      "Epoch 23/600:   4%|▎         | 22/600 [01:28<37:59,  3.94s/it, v_num=p2_1, total_loss_train=894, kl_local_train=94.5, tardis_age_0_train=21, tardis_integration_donor_0_train=18.2]"
     ]
    },
    {
     "name": "stdout",
     "output_type": "stream",
     "text": [
      "\r",
      "Epoch 23/600:   4%|▍         | 23/600 [01:32<37:52,  3.94s/it, v_num=p2_1, total_loss_train=894, kl_local_train=94.5, tardis_age_0_train=21, tardis_integration_donor_0_train=18.2]"
     ]
    },
    {
     "name": "stdout",
     "output_type": "stream",
     "text": [
      "\r",
      "Epoch 23/600:   4%|▍         | 23/600 [01:32<37:52,  3.94s/it, v_num=p2_1, total_loss_train=895, kl_local_train=107, tardis_age_0_train=19.7, tardis_integration_donor_0_train=17.6]"
     ]
    },
    {
     "name": "stdout",
     "output_type": "stream",
     "text": [
      "\r",
      "Epoch 24/600:   4%|▍         | 23/600 [01:32<37:52,  3.94s/it, v_num=p2_1, total_loss_train=895, kl_local_train=107, tardis_age_0_train=19.7, tardis_integration_donor_0_train=17.6]"
     ]
    },
    {
     "name": "stdout",
     "output_type": "stream",
     "text": [
      "\r",
      "Epoch 24/600:   4%|▍         | 24/600 [01:36<37:48,  3.94s/it, v_num=p2_1, total_loss_train=895, kl_local_train=107, tardis_age_0_train=19.7, tardis_integration_donor_0_train=17.6]"
     ]
    },
    {
     "name": "stdout",
     "output_type": "stream",
     "text": [
      "\r",
      "Epoch 24/600:   4%|▍         | 24/600 [01:36<37:48,  3.94s/it, v_num=p2_1, total_loss_train=896, kl_local_train=123, tardis_age_0_train=18.8, tardis_integration_donor_0_train=16.2]"
     ]
    },
    {
     "name": "stdout",
     "output_type": "stream",
     "text": [
      "\r",
      "Epoch 25/600:   4%|▍         | 24/600 [01:36<37:48,  3.94s/it, v_num=p2_1, total_loss_train=896, kl_local_train=123, tardis_age_0_train=18.8, tardis_integration_donor_0_train=16.2]"
     ]
    },
    {
     "name": "stdout",
     "output_type": "stream",
     "text": [
      "\r",
      "Epoch 25/600:   4%|▍         | 25/600 [01:40<37:45,  3.94s/it, v_num=p2_1, total_loss_train=896, kl_local_train=123, tardis_age_0_train=18.8, tardis_integration_donor_0_train=16.2]"
     ]
    },
    {
     "name": "stdout",
     "output_type": "stream",
     "text": [
      "\r",
      "Epoch 25/600:   4%|▍         | 25/600 [01:40<37:45,  3.94s/it, v_num=p2_1, total_loss_train=897, kl_local_train=144, tardis_age_0_train=17.3, tardis_integration_donor_0_train=15.6]"
     ]
    },
    {
     "name": "stdout",
     "output_type": "stream",
     "text": [
      "\r",
      "Epoch 26/600:   4%|▍         | 25/600 [01:40<37:45,  3.94s/it, v_num=p2_1, total_loss_train=897, kl_local_train=144, tardis_age_0_train=17.3, tardis_integration_donor_0_train=15.6]"
     ]
    },
    {
     "name": "stdout",
     "output_type": "stream",
     "text": [
      "\r",
      "Epoch 26/600:   4%|▍         | 26/600 [01:43<37:42,  3.94s/it, v_num=p2_1, total_loss_train=897, kl_local_train=144, tardis_age_0_train=17.3, tardis_integration_donor_0_train=15.6]"
     ]
    },
    {
     "name": "stdout",
     "output_type": "stream",
     "text": [
      "\r",
      "Epoch 26/600:   4%|▍         | 26/600 [01:43<37:42,  3.94s/it, v_num=p2_1, total_loss_train=897, kl_local_train=151, tardis_age_0_train=16.2, tardis_integration_donor_0_train=14.7]"
     ]
    },
    {
     "name": "stdout",
     "output_type": "stream",
     "text": [
      "\r",
      "Epoch 27/600:   4%|▍         | 26/600 [01:44<37:42,  3.94s/it, v_num=p2_1, total_loss_train=897, kl_local_train=151, tardis_age_0_train=16.2, tardis_integration_donor_0_train=14.7]"
     ]
    },
    {
     "name": "stdout",
     "output_type": "stream",
     "text": [
      "\r",
      "Epoch 27/600:   4%|▍         | 27/600 [01:47<37:35,  3.94s/it, v_num=p2_1, total_loss_train=897, kl_local_train=151, tardis_age_0_train=16.2, tardis_integration_donor_0_train=14.7]"
     ]
    },
    {
     "name": "stdout",
     "output_type": "stream",
     "text": [
      "\r",
      "Epoch 27/600:   4%|▍         | 27/600 [01:47<37:35,  3.94s/it, v_num=p2_1, total_loss_train=898, kl_local_train=166, tardis_age_0_train=14.6, tardis_integration_donor_0_train=14.2]"
     ]
    },
    {
     "name": "stdout",
     "output_type": "stream",
     "text": [
      "\r",
      "Epoch 28/600:   4%|▍         | 27/600 [01:47<37:35,  3.94s/it, v_num=p2_1, total_loss_train=898, kl_local_train=166, tardis_age_0_train=14.6, tardis_integration_donor_0_train=14.2]"
     ]
    },
    {
     "name": "stdout",
     "output_type": "stream",
     "text": [
      "\r",
      "Epoch 28/600:   5%|▍         | 28/600 [01:51<37:33,  3.94s/it, v_num=p2_1, total_loss_train=898, kl_local_train=166, tardis_age_0_train=14.6, tardis_integration_donor_0_train=14.2]"
     ]
    },
    {
     "name": "stdout",
     "output_type": "stream",
     "text": [
      "\r",
      "Epoch 28/600:   5%|▍         | 28/600 [01:51<37:33,  3.94s/it, v_num=p2_1, total_loss_train=900, kl_local_train=184, tardis_age_0_train=13.7, tardis_integration_donor_0_train=14.2]"
     ]
    },
    {
     "name": "stdout",
     "output_type": "stream",
     "text": [
      "\r",
      "Epoch 29/600:   5%|▍         | 28/600 [01:51<37:33,  3.94s/it, v_num=p2_1, total_loss_train=900, kl_local_train=184, tardis_age_0_train=13.7, tardis_integration_donor_0_train=14.2]"
     ]
    },
    {
     "name": "stdout",
     "output_type": "stream",
     "text": [
      "\r",
      "Epoch 29/600:   5%|▍         | 29/600 [01:55<37:29,  3.94s/it, v_num=p2_1, total_loss_train=900, kl_local_train=184, tardis_age_0_train=13.7, tardis_integration_donor_0_train=14.2]"
     ]
    },
    {
     "name": "stdout",
     "output_type": "stream",
     "text": [
      "\r",
      "Epoch 29/600:   5%|▍         | 29/600 [01:55<37:29,  3.94s/it, v_num=p2_1, total_loss_train=901, kl_local_train=197, tardis_age_0_train=12.6, tardis_integration_donor_0_train=13.5]"
     ]
    },
    {
     "name": "stdout",
     "output_type": "stream",
     "text": [
      "\r",
      "Epoch 30/600:   5%|▍         | 29/600 [01:55<37:29,  3.94s/it, v_num=p2_1, total_loss_train=901, kl_local_train=197, tardis_age_0_train=12.6, tardis_integration_donor_0_train=13.5]"
     ]
    },
    {
     "name": "stdout",
     "output_type": "stream",
     "text": [
      "\r",
      "Epoch 30/600:   5%|▌         | 30/600 [01:59<37:30,  3.95s/it, v_num=p2_1, total_loss_train=901, kl_local_train=197, tardis_age_0_train=12.6, tardis_integration_donor_0_train=13.5]"
     ]
    },
    {
     "name": "stdout",
     "output_type": "stream",
     "text": [
      "\r",
      "Epoch 30/600:   5%|▌         | 30/600 [01:59<37:30,  3.95s/it, v_num=p2_1, total_loss_train=902, kl_local_train=196, tardis_age_0_train=12, tardis_integration_donor_0_train=12.6]  "
     ]
    },
    {
     "name": "stdout",
     "output_type": "stream",
     "text": [
      "\r",
      "Epoch 31/600:   5%|▌         | 30/600 [01:59<37:30,  3.95s/it, v_num=p2_1, total_loss_train=902, kl_local_train=196, tardis_age_0_train=12, tardis_integration_donor_0_train=12.6]"
     ]
    },
    {
     "name": "stdout",
     "output_type": "stream",
     "text": [
      "\r",
      "Epoch 31/600:   5%|▌         | 31/600 [02:03<37:21,  3.94s/it, v_num=p2_1, total_loss_train=902, kl_local_train=196, tardis_age_0_train=12, tardis_integration_donor_0_train=12.6]"
     ]
    },
    {
     "name": "stdout",
     "output_type": "stream",
     "text": [
      "\r",
      "Epoch 31/600:   5%|▌         | 31/600 [02:03<37:21,  3.94s/it, v_num=p2_1, total_loss_train=903, kl_local_train=205, tardis_age_0_train=11.5, tardis_integration_donor_0_train=12.4]"
     ]
    },
    {
     "name": "stdout",
     "output_type": "stream",
     "text": [
      "\r",
      "Epoch 32/600:   5%|▌         | 31/600 [02:03<37:21,  3.94s/it, v_num=p2_1, total_loss_train=903, kl_local_train=205, tardis_age_0_train=11.5, tardis_integration_donor_0_train=12.4]"
     ]
    },
    {
     "name": "stdout",
     "output_type": "stream",
     "text": [
      "\r",
      "Epoch 32/600:   5%|▌         | 32/600 [02:07<37:19,  3.94s/it, v_num=p2_1, total_loss_train=903, kl_local_train=205, tardis_age_0_train=11.5, tardis_integration_donor_0_train=12.4]"
     ]
    },
    {
     "name": "stdout",
     "output_type": "stream",
     "text": [
      "\r",
      "Epoch 32/600:   5%|▌         | 32/600 [02:07<37:19,  3.94s/it, v_num=p2_1, total_loss_train=904, kl_local_train=205, tardis_age_0_train=10.1, tardis_integration_donor_0_train=11.7]"
     ]
    },
    {
     "name": "stdout",
     "output_type": "stream",
     "text": [
      "\r",
      "Epoch 33/600:   5%|▌         | 32/600 [02:07<37:19,  3.94s/it, v_num=p2_1, total_loss_train=904, kl_local_train=205, tardis_age_0_train=10.1, tardis_integration_donor_0_train=11.7]"
     ]
    },
    {
     "name": "stdout",
     "output_type": "stream",
     "text": [
      "\r",
      "Epoch 33/600:   6%|▌         | 33/600 [02:11<37:10,  3.93s/it, v_num=p2_1, total_loss_train=904, kl_local_train=205, tardis_age_0_train=10.1, tardis_integration_donor_0_train=11.7]"
     ]
    },
    {
     "name": "stdout",
     "output_type": "stream",
     "text": [
      "\r",
      "Epoch 33/600:   6%|▌         | 33/600 [02:11<37:10,  3.93s/it, v_num=p2_1, total_loss_train=905, kl_local_train=210, tardis_age_0_train=10.1, tardis_integration_donor_0_train=11.2]"
     ]
    },
    {
     "name": "stdout",
     "output_type": "stream",
     "text": [
      "\r",
      "Epoch 34/600:   6%|▌         | 33/600 [02:11<37:10,  3.93s/it, v_num=p2_1, total_loss_train=905, kl_local_train=210, tardis_age_0_train=10.1, tardis_integration_donor_0_train=11.2]"
     ]
    },
    {
     "name": "stdout",
     "output_type": "stream",
     "text": [
      "\r",
      "Epoch 34/600:   6%|▌         | 34/600 [02:15<37:01,  3.93s/it, v_num=p2_1, total_loss_train=905, kl_local_train=210, tardis_age_0_train=10.1, tardis_integration_donor_0_train=11.2]"
     ]
    },
    {
     "name": "stdout",
     "output_type": "stream",
     "text": [
      "\r",
      "Epoch 34/600:   6%|▌         | 34/600 [02:15<37:01,  3.93s/it, v_num=p2_1, total_loss_train=908, kl_local_train=215, tardis_age_0_train=9.88, tardis_integration_donor_0_train=11.2]"
     ]
    },
    {
     "name": "stdout",
     "output_type": "stream",
     "text": [
      "\r",
      "Epoch 35/600:   6%|▌         | 34/600 [02:15<37:01,  3.93s/it, v_num=p2_1, total_loss_train=908, kl_local_train=215, tardis_age_0_train=9.88, tardis_integration_donor_0_train=11.2]"
     ]
    },
    {
     "name": "stdout",
     "output_type": "stream",
     "text": [
      "\r",
      "Epoch 35/600:   6%|▌         | 35/600 [02:19<36:59,  3.93s/it, v_num=p2_1, total_loss_train=908, kl_local_train=215, tardis_age_0_train=9.88, tardis_integration_donor_0_train=11.2]"
     ]
    },
    {
     "name": "stdout",
     "output_type": "stream",
     "text": [
      "\r",
      "Epoch 35/600:   6%|▌         | 35/600 [02:19<36:59,  3.93s/it, v_num=p2_1, total_loss_train=909, kl_local_train=223, tardis_age_0_train=9.3, tardis_integration_donor_0_train=10.7] "
     ]
    },
    {
     "name": "stdout",
     "output_type": "stream",
     "text": [
      "\r",
      "Epoch 36/600:   6%|▌         | 35/600 [02:19<36:59,  3.93s/it, v_num=p2_1, total_loss_train=909, kl_local_train=223, tardis_age_0_train=9.3, tardis_integration_donor_0_train=10.7]"
     ]
    },
    {
     "name": "stdout",
     "output_type": "stream",
     "text": [
      "\r",
      "Epoch 36/600:   6%|▌         | 36/600 [02:23<36:50,  3.92s/it, v_num=p2_1, total_loss_train=909, kl_local_train=223, tardis_age_0_train=9.3, tardis_integration_donor_0_train=10.7]"
     ]
    },
    {
     "name": "stdout",
     "output_type": "stream",
     "text": [
      "\r",
      "Epoch 36/600:   6%|▌         | 36/600 [02:23<36:50,  3.92s/it, v_num=p2_1, total_loss_train=911, kl_local_train=225, tardis_age_0_train=8.78, tardis_integration_donor_0_train=10.7]"
     ]
    },
    {
     "name": "stdout",
     "output_type": "stream",
     "text": [
      "\r",
      "Epoch 37/600:   6%|▌         | 36/600 [02:23<36:50,  3.92s/it, v_num=p2_1, total_loss_train=911, kl_local_train=225, tardis_age_0_train=8.78, tardis_integration_donor_0_train=10.7]"
     ]
    },
    {
     "name": "stdout",
     "output_type": "stream",
     "text": [
      "\r",
      "Epoch 37/600:   6%|▌         | 37/600 [02:27<36:48,  3.92s/it, v_num=p2_1, total_loss_train=911, kl_local_train=225, tardis_age_0_train=8.78, tardis_integration_donor_0_train=10.7]"
     ]
    },
    {
     "name": "stdout",
     "output_type": "stream",
     "text": [
      "\r",
      "Epoch 37/600:   6%|▌         | 37/600 [02:27<36:48,  3.92s/it, v_num=p2_1, total_loss_train=913, kl_local_train=229, tardis_age_0_train=8.62, tardis_integration_donor_0_train=10.2]"
     ]
    },
    {
     "name": "stdout",
     "output_type": "stream",
     "text": [
      "\r",
      "Epoch 38/600:   6%|▌         | 37/600 [02:27<36:48,  3.92s/it, v_num=p2_1, total_loss_train=913, kl_local_train=229, tardis_age_0_train=8.62, tardis_integration_donor_0_train=10.2]"
     ]
    },
    {
     "name": "stdout",
     "output_type": "stream",
     "text": [
      "\r",
      "Epoch 38/600:   6%|▋         | 38/600 [02:31<36:39,  3.91s/it, v_num=p2_1, total_loss_train=913, kl_local_train=229, tardis_age_0_train=8.62, tardis_integration_donor_0_train=10.2]"
     ]
    },
    {
     "name": "stdout",
     "output_type": "stream",
     "text": [
      "\r",
      "Epoch 38/600:   6%|▋         | 38/600 [02:31<36:39,  3.91s/it, v_num=p2_1, total_loss_train=914, kl_local_train=222, tardis_age_0_train=8.17, tardis_integration_donor_0_train=10.1]"
     ]
    },
    {
     "name": "stdout",
     "output_type": "stream",
     "text": [
      "\r",
      "Epoch 39/600:   6%|▋         | 38/600 [02:31<36:39,  3.91s/it, v_num=p2_1, total_loss_train=914, kl_local_train=222, tardis_age_0_train=8.17, tardis_integration_donor_0_train=10.1]"
     ]
    },
    {
     "name": "stdout",
     "output_type": "stream",
     "text": [
      "\r",
      "Epoch 39/600:   6%|▋         | 39/600 [02:35<36:35,  3.91s/it, v_num=p2_1, total_loss_train=914, kl_local_train=222, tardis_age_0_train=8.17, tardis_integration_donor_0_train=10.1]"
     ]
    },
    {
     "name": "stdout",
     "output_type": "stream",
     "text": [
      "\r",
      "Epoch 39/600:   6%|▋         | 39/600 [02:35<36:35,  3.91s/it, v_num=p2_1, total_loss_train=917, kl_local_train=208, tardis_age_0_train=8.38, tardis_integration_donor_0_train=10.1]"
     ]
    },
    {
     "name": "stdout",
     "output_type": "stream",
     "text": [
      "\r",
      "Epoch 40/600:   6%|▋         | 39/600 [02:35<36:35,  3.91s/it, v_num=p2_1, total_loss_train=917, kl_local_train=208, tardis_age_0_train=8.38, tardis_integration_donor_0_train=10.1]"
     ]
    },
    {
     "name": "stdout",
     "output_type": "stream",
     "text": [
      "\r",
      "Epoch 40/600:   7%|▋         | 40/600 [02:38<36:37,  3.92s/it, v_num=p2_1, total_loss_train=917, kl_local_train=208, tardis_age_0_train=8.38, tardis_integration_donor_0_train=10.1]"
     ]
    },
    {
     "name": "stdout",
     "output_type": "stream",
     "text": [
      "\r",
      "Epoch 40/600:   7%|▋         | 40/600 [02:38<36:37,  3.92s/it, v_num=p2_1, total_loss_train=919, kl_local_train=203, tardis_age_0_train=8.23, tardis_integration_donor_0_train=9.84]"
     ]
    },
    {
     "name": "stdout",
     "output_type": "stream",
     "text": [
      "\r",
      "Epoch 41/600:   7%|▋         | 40/600 [02:38<36:37,  3.92s/it, v_num=p2_1, total_loss_train=919, kl_local_train=203, tardis_age_0_train=8.23, tardis_integration_donor_0_train=9.84]"
     ]
    },
    {
     "name": "stdout",
     "output_type": "stream",
     "text": [
      "\r",
      "Epoch 41/600:   7%|▋         | 41/600 [02:42<36:37,  3.93s/it, v_num=p2_1, total_loss_train=919, kl_local_train=203, tardis_age_0_train=8.23, tardis_integration_donor_0_train=9.84]"
     ]
    },
    {
     "name": "stdout",
     "output_type": "stream",
     "text": [
      "\r",
      "Epoch 41/600:   7%|▋         | 41/600 [02:42<36:37,  3.93s/it, v_num=p2_1, total_loss_train=921, kl_local_train=200, tardis_age_0_train=8.06, tardis_integration_donor_0_train=9.88]"
     ]
    },
    {
     "name": "stdout",
     "output_type": "stream",
     "text": [
      "\r",
      "Epoch 42/600:   7%|▋         | 41/600 [02:42<36:37,  3.93s/it, v_num=p2_1, total_loss_train=921, kl_local_train=200, tardis_age_0_train=8.06, tardis_integration_donor_0_train=9.88]"
     ]
    },
    {
     "name": "stdout",
     "output_type": "stream",
     "text": [
      "\r",
      "Epoch 42/600:   7%|▋         | 42/600 [02:46<36:38,  3.94s/it, v_num=p2_1, total_loss_train=921, kl_local_train=200, tardis_age_0_train=8.06, tardis_integration_donor_0_train=9.88]"
     ]
    },
    {
     "name": "stdout",
     "output_type": "stream",
     "text": [
      "\r",
      "Epoch 42/600:   7%|▋         | 42/600 [02:46<36:38,  3.94s/it, v_num=p2_1, total_loss_train=922, kl_local_train=198, tardis_age_0_train=7.41, tardis_integration_donor_0_train=9.16]"
     ]
    },
    {
     "name": "stdout",
     "output_type": "stream",
     "text": [
      "\r",
      "Epoch 43/600:   7%|▋         | 42/600 [02:46<36:38,  3.94s/it, v_num=p2_1, total_loss_train=922, kl_local_train=198, tardis_age_0_train=7.41, tardis_integration_donor_0_train=9.16]"
     ]
    },
    {
     "name": "stdout",
     "output_type": "stream",
     "text": [
      "\r",
      "Epoch 43/600:   7%|▋         | 43/600 [02:50<36:37,  3.94s/it, v_num=p2_1, total_loss_train=922, kl_local_train=198, tardis_age_0_train=7.41, tardis_integration_donor_0_train=9.16]"
     ]
    },
    {
     "name": "stdout",
     "output_type": "stream",
     "text": [
      "\r",
      "Epoch 43/600:   7%|▋         | 43/600 [02:50<36:37,  3.94s/it, v_num=p2_1, total_loss_train=925, kl_local_train=186, tardis_age_0_train=7.88, tardis_integration_donor_0_train=9.73]"
     ]
    },
    {
     "name": "stdout",
     "output_type": "stream",
     "text": [
      "\r",
      "Epoch 44/600:   7%|▋         | 43/600 [02:50<36:37,  3.94s/it, v_num=p2_1, total_loss_train=925, kl_local_train=186, tardis_age_0_train=7.88, tardis_integration_donor_0_train=9.73]"
     ]
    },
    {
     "name": "stdout",
     "output_type": "stream",
     "text": [
      "\r",
      "Epoch 44/600:   7%|▋         | 44/600 [02:54<36:37,  3.95s/it, v_num=p2_1, total_loss_train=925, kl_local_train=186, tardis_age_0_train=7.88, tardis_integration_donor_0_train=9.73]"
     ]
    },
    {
     "name": "stdout",
     "output_type": "stream",
     "text": [
      "\r",
      "Epoch 44/600:   7%|▋         | 44/600 [02:54<36:37,  3.95s/it, v_num=p2_1, total_loss_train=927, kl_local_train=190, tardis_age_0_train=7.39, tardis_integration_donor_0_train=9.15]"
     ]
    },
    {
     "name": "stdout",
     "output_type": "stream",
     "text": [
      "\r",
      "Epoch 45/600:   7%|▋         | 44/600 [02:54<36:37,  3.95s/it, v_num=p2_1, total_loss_train=927, kl_local_train=190, tardis_age_0_train=7.39, tardis_integration_donor_0_train=9.15]"
     ]
    },
    {
     "name": "stdout",
     "output_type": "stream",
     "text": [
      "\r",
      "Epoch 45/600:   8%|▊         | 45/600 [02:58<36:29,  3.95s/it, v_num=p2_1, total_loss_train=927, kl_local_train=190, tardis_age_0_train=7.39, tardis_integration_donor_0_train=9.15]"
     ]
    },
    {
     "name": "stdout",
     "output_type": "stream",
     "text": [
      "\r",
      "Epoch 45/600:   8%|▊         | 45/600 [02:58<36:29,  3.95s/it, v_num=p2_1, total_loss_train=929, kl_local_train=187, tardis_age_0_train=7.15, tardis_integration_donor_0_train=9.16]"
     ]
    },
    {
     "name": "stdout",
     "output_type": "stream",
     "text": [
      "\r",
      "Epoch 46/600:   8%|▊         | 45/600 [02:58<36:29,  3.95s/it, v_num=p2_1, total_loss_train=929, kl_local_train=187, tardis_age_0_train=7.15, tardis_integration_donor_0_train=9.16]"
     ]
    },
    {
     "name": "stdout",
     "output_type": "stream",
     "text": [
      "\r",
      "Epoch 46/600:   8%|▊         | 46/600 [03:02<36:22,  3.94s/it, v_num=p2_1, total_loss_train=929, kl_local_train=187, tardis_age_0_train=7.15, tardis_integration_donor_0_train=9.16]"
     ]
    },
    {
     "name": "stdout",
     "output_type": "stream",
     "text": [
      "\r",
      "Epoch 46/600:   8%|▊         | 46/600 [03:02<36:22,  3.94s/it, v_num=p2_1, total_loss_train=931, kl_local_train=181, tardis_age_0_train=7.12, tardis_integration_donor_0_train=9.18]"
     ]
    },
    {
     "name": "stdout",
     "output_type": "stream",
     "text": [
      "\r",
      "Epoch 47/600:   8%|▊         | 46/600 [03:02<36:22,  3.94s/it, v_num=p2_1, total_loss_train=931, kl_local_train=181, tardis_age_0_train=7.12, tardis_integration_donor_0_train=9.18]"
     ]
    },
    {
     "name": "stdout",
     "output_type": "stream",
     "text": [
      "\r",
      "Epoch 47/600:   8%|▊         | 47/600 [03:06<36:20,  3.94s/it, v_num=p2_1, total_loss_train=931, kl_local_train=181, tardis_age_0_train=7.12, tardis_integration_donor_0_train=9.18]"
     ]
    },
    {
     "name": "stdout",
     "output_type": "stream",
     "text": [
      "\r",
      "Epoch 47/600:   8%|▊         | 47/600 [03:06<36:20,  3.94s/it, v_num=p2_1, total_loss_train=933, kl_local_train=183, tardis_age_0_train=6.83, tardis_integration_donor_0_train=8.71]"
     ]
    },
    {
     "name": "stdout",
     "output_type": "stream",
     "text": [
      "\r",
      "Epoch 48/600:   8%|▊         | 47/600 [03:06<36:20,  3.94s/it, v_num=p2_1, total_loss_train=933, kl_local_train=183, tardis_age_0_train=6.83, tardis_integration_donor_0_train=8.71]"
     ]
    },
    {
     "name": "stdout",
     "output_type": "stream",
     "text": [
      "\r",
      "Epoch 48/600:   8%|▊         | 48/600 [03:10<36:16,  3.94s/it, v_num=p2_1, total_loss_train=933, kl_local_train=183, tardis_age_0_train=6.83, tardis_integration_donor_0_train=8.71]"
     ]
    },
    {
     "name": "stdout",
     "output_type": "stream",
     "text": [
      "\r",
      "Epoch 48/600:   8%|▊         | 48/600 [03:10<36:16,  3.94s/it, v_num=p2_1, total_loss_train=935, kl_local_train=184, tardis_age_0_train=6.58, tardis_integration_donor_0_train=8.49]"
     ]
    },
    {
     "name": "stdout",
     "output_type": "stream",
     "text": [
      "\r",
      "Epoch 49/600:   8%|▊         | 48/600 [03:10<36:16,  3.94s/it, v_num=p2_1, total_loss_train=935, kl_local_train=184, tardis_age_0_train=6.58, tardis_integration_donor_0_train=8.49]"
     ]
    },
    {
     "name": "stdout",
     "output_type": "stream",
     "text": [
      "\r",
      "Epoch 49/600:   8%|▊         | 49/600 [03:14<36:00,  3.92s/it, v_num=p2_1, total_loss_train=935, kl_local_train=184, tardis_age_0_train=6.58, tardis_integration_donor_0_train=8.49]"
     ]
    },
    {
     "name": "stdout",
     "output_type": "stream",
     "text": [
      "\r",
      "Epoch 49/600:   8%|▊         | 49/600 [03:14<36:00,  3.92s/it, v_num=p2_1, total_loss_train=937, kl_local_train=178, tardis_age_0_train=6.48, tardis_integration_donor_0_train=8.62]"
     ]
    },
    {
     "name": "stdout",
     "output_type": "stream",
     "text": [
      "\r",
      "Epoch 50/600:   8%|▊         | 49/600 [03:14<36:00,  3.92s/it, v_num=p2_1, total_loss_train=937, kl_local_train=178, tardis_age_0_train=6.48, tardis_integration_donor_0_train=8.62]"
     ]
    },
    {
     "name": "stdout",
     "output_type": "stream",
     "text": [
      "\r",
      "Epoch 50/600:   8%|▊         | 50/600 [03:18<35:54,  3.92s/it, v_num=p2_1, total_loss_train=937, kl_local_train=178, tardis_age_0_train=6.48, tardis_integration_donor_0_train=8.62]"
     ]
    },
    {
     "name": "stdout",
     "output_type": "stream",
     "text": [
      "\r",
      "Epoch 50/600:   8%|▊         | 50/600 [03:18<35:54,  3.92s/it, v_num=p2_1, total_loss_train=940, kl_local_train=179, tardis_age_0_train=6.47, tardis_integration_donor_0_train=8.46]"
     ]
    },
    {
     "name": "stdout",
     "output_type": "stream",
     "text": [
      "\r",
      "Epoch 51/600:   8%|▊         | 50/600 [03:18<35:54,  3.92s/it, v_num=p2_1, total_loss_train=940, kl_local_train=179, tardis_age_0_train=6.47, tardis_integration_donor_0_train=8.46]"
     ]
    },
    {
     "name": "stdout",
     "output_type": "stream",
     "text": [
      "\r",
      "Epoch 51/600:   8%|▊         | 51/600 [03:22<35:50,  3.92s/it, v_num=p2_1, total_loss_train=940, kl_local_train=179, tardis_age_0_train=6.47, tardis_integration_donor_0_train=8.46]"
     ]
    },
    {
     "name": "stdout",
     "output_type": "stream",
     "text": [
      "\r",
      "Epoch 51/600:   8%|▊         | 51/600 [03:22<35:50,  3.92s/it, v_num=p2_1, total_loss_train=939, kl_local_train=180, tardis_age_0_train=5.98, tardis_integration_donor_0_train=8.2] "
     ]
    },
    {
     "name": "stdout",
     "output_type": "stream",
     "text": [
      "\r",
      "Epoch 52/600:   8%|▊         | 51/600 [03:22<35:50,  3.92s/it, v_num=p2_1, total_loss_train=939, kl_local_train=180, tardis_age_0_train=5.98, tardis_integration_donor_0_train=8.2]"
     ]
    },
    {
     "name": "stdout",
     "output_type": "stream",
     "text": [
      "\r",
      "Epoch 52/600:   9%|▊         | 52/600 [03:26<35:46,  3.92s/it, v_num=p2_1, total_loss_train=939, kl_local_train=180, tardis_age_0_train=5.98, tardis_integration_donor_0_train=8.2]"
     ]
    },
    {
     "name": "stdout",
     "output_type": "stream",
     "text": [
      "\r",
      "Epoch 52/600:   9%|▊         | 52/600 [03:26<35:46,  3.92s/it, v_num=p2_1, total_loss_train=939, kl_local_train=186, tardis_age_0_train=5.94, tardis_integration_donor_0_train=8.1]"
     ]
    },
    {
     "name": "stdout",
     "output_type": "stream",
     "text": [
      "\r",
      "Epoch 53/600:   9%|▊         | 52/600 [03:26<35:46,  3.92s/it, v_num=p2_1, total_loss_train=939, kl_local_train=186, tardis_age_0_train=5.94, tardis_integration_donor_0_train=8.1]"
     ]
    },
    {
     "name": "stdout",
     "output_type": "stream",
     "text": [
      "\r",
      "Epoch 53/600:   9%|▉         | 53/600 [03:30<35:46,  3.92s/it, v_num=p2_1, total_loss_train=939, kl_local_train=186, tardis_age_0_train=5.94, tardis_integration_donor_0_train=8.1]"
     ]
    },
    {
     "name": "stdout",
     "output_type": "stream",
     "text": [
      "\r",
      "Epoch 53/600:   9%|▉         | 53/600 [03:30<35:46,  3.92s/it, v_num=p2_1, total_loss_train=938, kl_local_train=186, tardis_age_0_train=6.09, tardis_integration_donor_0_train=7.87]"
     ]
    },
    {
     "name": "stdout",
     "output_type": "stream",
     "text": [
      "\r",
      "Epoch 54/600:   9%|▉         | 53/600 [03:30<35:46,  3.92s/it, v_num=p2_1, total_loss_train=938, kl_local_train=186, tardis_age_0_train=6.09, tardis_integration_donor_0_train=7.87]"
     ]
    },
    {
     "name": "stdout",
     "output_type": "stream",
     "text": [
      "\r",
      "Epoch 54/600:   9%|▉         | 54/600 [03:34<35:46,  3.93s/it, v_num=p2_1, total_loss_train=938, kl_local_train=186, tardis_age_0_train=6.09, tardis_integration_donor_0_train=7.87]"
     ]
    },
    {
     "name": "stdout",
     "output_type": "stream",
     "text": [
      "\r",
      "Epoch 54/600:   9%|▉         | 54/600 [03:34<35:46,  3.93s/it, v_num=p2_1, total_loss_train=937, kl_local_train=186, tardis_age_0_train=5.99, tardis_integration_donor_0_train=7.83]"
     ]
    },
    {
     "name": "stdout",
     "output_type": "stream",
     "text": [
      "\r",
      "Epoch 55/600:   9%|▉         | 54/600 [03:34<35:46,  3.93s/it, v_num=p2_1, total_loss_train=937, kl_local_train=186, tardis_age_0_train=5.99, tardis_integration_donor_0_train=7.83]"
     ]
    },
    {
     "name": "stdout",
     "output_type": "stream",
     "text": [
      "\r",
      "Epoch 55/600:   9%|▉         | 55/600 [03:38<35:45,  3.94s/it, v_num=p2_1, total_loss_train=937, kl_local_train=186, tardis_age_0_train=5.99, tardis_integration_donor_0_train=7.83]"
     ]
    },
    {
     "name": "stdout",
     "output_type": "stream",
     "text": [
      "\r",
      "Epoch 55/600:   9%|▉         | 55/600 [03:38<35:45,  3.94s/it, v_num=p2_1, total_loss_train=936, kl_local_train=181, tardis_age_0_train=6.11, tardis_integration_donor_0_train=7.76]"
     ]
    },
    {
     "name": "stdout",
     "output_type": "stream",
     "text": [
      "\r",
      "Epoch 56/600:   9%|▉         | 55/600 [03:38<35:45,  3.94s/it, v_num=p2_1, total_loss_train=936, kl_local_train=181, tardis_age_0_train=6.11, tardis_integration_donor_0_train=7.76]"
     ]
    },
    {
     "name": "stdout",
     "output_type": "stream",
     "text": [
      "\r",
      "Epoch 56/600:   9%|▉         | 56/600 [03:41<35:47,  3.95s/it, v_num=p2_1, total_loss_train=936, kl_local_train=181, tardis_age_0_train=6.11, tardis_integration_donor_0_train=7.76]"
     ]
    },
    {
     "name": "stdout",
     "output_type": "stream",
     "text": [
      "\r",
      "Epoch 56/600:   9%|▉         | 56/600 [03:41<35:47,  3.95s/it, v_num=p2_1, total_loss_train=935, kl_local_train=171, tardis_age_0_train=6.1, tardis_integration_donor_0_train=7.91] "
     ]
    },
    {
     "name": "stdout",
     "output_type": "stream",
     "text": [
      "\r",
      "Epoch 57/600:   9%|▉         | 56/600 [03:41<35:47,  3.95s/it, v_num=p2_1, total_loss_train=935, kl_local_train=171, tardis_age_0_train=6.1, tardis_integration_donor_0_train=7.91]"
     ]
    },
    {
     "name": "stdout",
     "output_type": "stream",
     "text": [
      "\r",
      "Epoch 57/600:  10%|▉         | 57/600 [03:45<35:43,  3.95s/it, v_num=p2_1, total_loss_train=935, kl_local_train=171, tardis_age_0_train=6.1, tardis_integration_donor_0_train=7.91]"
     ]
    },
    {
     "name": "stdout",
     "output_type": "stream",
     "text": [
      "\r",
      "Epoch 57/600:  10%|▉         | 57/600 [03:45<35:43,  3.95s/it, v_num=p2_1, total_loss_train=935, kl_local_train=177, tardis_age_0_train=5.78, tardis_integration_donor_0_train=7.68]"
     ]
    },
    {
     "name": "stdout",
     "output_type": "stream",
     "text": [
      "\r",
      "Epoch 58/600:  10%|▉         | 57/600 [03:45<35:43,  3.95s/it, v_num=p2_1, total_loss_train=935, kl_local_train=177, tardis_age_0_train=5.78, tardis_integration_donor_0_train=7.68]"
     ]
    },
    {
     "name": "stdout",
     "output_type": "stream",
     "text": [
      "\r",
      "Epoch 58/600:  10%|▉         | 58/600 [03:49<35:43,  3.95s/it, v_num=p2_1, total_loss_train=935, kl_local_train=177, tardis_age_0_train=5.78, tardis_integration_donor_0_train=7.68]"
     ]
    },
    {
     "name": "stdout",
     "output_type": "stream",
     "text": [
      "\r",
      "Epoch 58/600:  10%|▉         | 58/600 [03:49<35:43,  3.95s/it, v_num=p2_1, total_loss_train=934, kl_local_train=172, tardis_age_0_train=5.86, tardis_integration_donor_0_train=7.85]"
     ]
    },
    {
     "name": "stdout",
     "output_type": "stream",
     "text": [
      "\r",
      "Epoch 59/600:  10%|▉         | 58/600 [03:49<35:43,  3.95s/it, v_num=p2_1, total_loss_train=934, kl_local_train=172, tardis_age_0_train=5.86, tardis_integration_donor_0_train=7.85]"
     ]
    },
    {
     "name": "stdout",
     "output_type": "stream",
     "text": [
      "\r",
      "Epoch 59/600:  10%|▉         | 59/600 [03:53<35:35,  3.95s/it, v_num=p2_1, total_loss_train=934, kl_local_train=172, tardis_age_0_train=5.86, tardis_integration_donor_0_train=7.85]"
     ]
    },
    {
     "name": "stdout",
     "output_type": "stream",
     "text": [
      "\r",
      "Epoch 59/600:  10%|▉         | 59/600 [03:53<35:35,  3.95s/it, v_num=p2_1, total_loss_train=933, kl_local_train=169, tardis_age_0_train=5.67, tardis_integration_donor_0_train=7.59]"
     ]
    },
    {
     "name": "stdout",
     "output_type": "stream",
     "text": [
      "\r",
      "Epoch 60/600:  10%|▉         | 59/600 [03:53<35:35,  3.95s/it, v_num=p2_1, total_loss_train=933, kl_local_train=169, tardis_age_0_train=5.67, tardis_integration_donor_0_train=7.59]"
     ]
    },
    {
     "name": "stdout",
     "output_type": "stream",
     "text": [
      "\r",
      "Epoch 60/600:  10%|█         | 60/600 [03:57<35:33,  3.95s/it, v_num=p2_1, total_loss_train=933, kl_local_train=169, tardis_age_0_train=5.67, tardis_integration_donor_0_train=7.59]"
     ]
    },
    {
     "name": "stdout",
     "output_type": "stream",
     "text": [
      "\r",
      "Epoch 60/600:  10%|█         | 60/600 [03:57<35:33,  3.95s/it, v_num=p2_1, total_loss_train=931, kl_local_train=161, tardis_age_0_train=5.8, tardis_integration_donor_0_train=7.38] "
     ]
    },
    {
     "name": "stdout",
     "output_type": "stream",
     "text": [
      "\r",
      "Epoch 61/600:  10%|█         | 60/600 [03:57<35:33,  3.95s/it, v_num=p2_1, total_loss_train=931, kl_local_train=161, tardis_age_0_train=5.8, tardis_integration_donor_0_train=7.38]"
     ]
    },
    {
     "name": "stdout",
     "output_type": "stream",
     "text": [
      "\r",
      "Epoch 61/600:  10%|█         | 61/600 [04:01<35:29,  3.95s/it, v_num=p2_1, total_loss_train=931, kl_local_train=161, tardis_age_0_train=5.8, tardis_integration_donor_0_train=7.38]"
     ]
    },
    {
     "name": "stdout",
     "output_type": "stream",
     "text": [
      "\r",
      "Epoch 61/600:  10%|█         | 61/600 [04:01<35:29,  3.95s/it, v_num=p2_1, total_loss_train=930, kl_local_train=159, tardis_age_0_train=5.5, tardis_integration_donor_0_train=7.42]"
     ]
    },
    {
     "name": "stdout",
     "output_type": "stream",
     "text": [
      "\r",
      "Epoch 62/600:  10%|█         | 61/600 [04:01<35:29,  3.95s/it, v_num=p2_1, total_loss_train=930, kl_local_train=159, tardis_age_0_train=5.5, tardis_integration_donor_0_train=7.42]"
     ]
    },
    {
     "name": "stdout",
     "output_type": "stream",
     "text": [
      "\r",
      "Epoch 62/600:  10%|█         | 62/600 [04:05<35:27,  3.95s/it, v_num=p2_1, total_loss_train=930, kl_local_train=159, tardis_age_0_train=5.5, tardis_integration_donor_0_train=7.42]"
     ]
    },
    {
     "name": "stdout",
     "output_type": "stream",
     "text": [
      "\r",
      "Epoch 62/600:  10%|█         | 62/600 [04:05<35:27,  3.95s/it, v_num=p2_1, total_loss_train=931, kl_local_train=159, tardis_age_0_train=5.72, tardis_integration_donor_0_train=7.65]"
     ]
    },
    {
     "name": "stdout",
     "output_type": "stream",
     "text": [
      "\r",
      "Epoch 63/600:  10%|█         | 62/600 [04:05<35:27,  3.95s/it, v_num=p2_1, total_loss_train=931, kl_local_train=159, tardis_age_0_train=5.72, tardis_integration_donor_0_train=7.65]"
     ]
    },
    {
     "name": "stdout",
     "output_type": "stream",
     "text": [
      "\r",
      "Epoch 63/600:  10%|█         | 63/600 [04:09<35:25,  3.96s/it, v_num=p2_1, total_loss_train=931, kl_local_train=159, tardis_age_0_train=5.72, tardis_integration_donor_0_train=7.65]"
     ]
    },
    {
     "name": "stdout",
     "output_type": "stream",
     "text": [
      "\r",
      "Epoch 63/600:  10%|█         | 63/600 [04:09<35:25,  3.96s/it, v_num=p2_1, total_loss_train=930, kl_local_train=158, tardis_age_0_train=5.51, tardis_integration_donor_0_train=7.4] "
     ]
    },
    {
     "name": "stdout",
     "output_type": "stream",
     "text": [
      "\r",
      "Epoch 64/600:  10%|█         | 63/600 [04:09<35:25,  3.96s/it, v_num=p2_1, total_loss_train=930, kl_local_train=158, tardis_age_0_train=5.51, tardis_integration_donor_0_train=7.4]"
     ]
    },
    {
     "name": "stdout",
     "output_type": "stream",
     "text": [
      "\r",
      "Epoch 64/600:  11%|█         | 64/600 [04:13<35:17,  3.95s/it, v_num=p2_1, total_loss_train=930, kl_local_train=158, tardis_age_0_train=5.51, tardis_integration_donor_0_train=7.4]"
     ]
    },
    {
     "name": "stdout",
     "output_type": "stream",
     "text": [
      "\r",
      "Epoch 64/600:  11%|█         | 64/600 [04:13<35:17,  3.95s/it, v_num=p2_1, total_loss_train=929, kl_local_train=159, tardis_age_0_train=5.59, tardis_integration_donor_0_train=7.26]"
     ]
    },
    {
     "name": "stdout",
     "output_type": "stream",
     "text": [
      "\r",
      "Epoch 65/600:  11%|█         | 64/600 [04:13<35:17,  3.95s/it, v_num=p2_1, total_loss_train=929, kl_local_train=159, tardis_age_0_train=5.59, tardis_integration_donor_0_train=7.26]"
     ]
    },
    {
     "name": "stdout",
     "output_type": "stream",
     "text": [
      "\r",
      "Epoch 65/600:  11%|█         | 65/600 [04:17<35:06,  3.94s/it, v_num=p2_1, total_loss_train=929, kl_local_train=159, tardis_age_0_train=5.59, tardis_integration_donor_0_train=7.26]"
     ]
    },
    {
     "name": "stdout",
     "output_type": "stream",
     "text": [
      "\r",
      "Epoch 65/600:  11%|█         | 65/600 [04:17<35:06,  3.94s/it, v_num=p2_1, total_loss_train=928, kl_local_train=152, tardis_age_0_train=5.61, tardis_integration_donor_0_train=7.2] "
     ]
    },
    {
     "name": "stdout",
     "output_type": "stream",
     "text": [
      "\r",
      "Epoch 66/600:  11%|█         | 65/600 [04:17<35:06,  3.94s/it, v_num=p2_1, total_loss_train=928, kl_local_train=152, tardis_age_0_train=5.61, tardis_integration_donor_0_train=7.2]"
     ]
    },
    {
     "name": "stdout",
     "output_type": "stream",
     "text": [
      "\r",
      "Epoch 66/600:  11%|█         | 66/600 [04:21<35:04,  3.94s/it, v_num=p2_1, total_loss_train=928, kl_local_train=152, tardis_age_0_train=5.61, tardis_integration_donor_0_train=7.2]"
     ]
    },
    {
     "name": "stdout",
     "output_type": "stream",
     "text": [
      "\r",
      "Epoch 66/600:  11%|█         | 66/600 [04:21<35:04,  3.94s/it, v_num=p2_1, total_loss_train=927, kl_local_train=152, tardis_age_0_train=5.6, tardis_integration_donor_0_train=7.02]"
     ]
    },
    {
     "name": "stdout",
     "output_type": "stream",
     "text": [
      "\r",
      "Epoch 67/600:  11%|█         | 66/600 [04:21<35:04,  3.94s/it, v_num=p2_1, total_loss_train=927, kl_local_train=152, tardis_age_0_train=5.6, tardis_integration_donor_0_train=7.02]"
     ]
    },
    {
     "name": "stdout",
     "output_type": "stream",
     "text": [
      "\r",
      "Epoch 67/600:  11%|█         | 67/600 [04:25<35:05,  3.95s/it, v_num=p2_1, total_loss_train=927, kl_local_train=152, tardis_age_0_train=5.6, tardis_integration_donor_0_train=7.02]"
     ]
    },
    {
     "name": "stdout",
     "output_type": "stream",
     "text": [
      "\r",
      "Epoch 67/600:  11%|█         | 67/600 [04:25<35:05,  3.95s/it, v_num=p2_1, total_loss_train=927, kl_local_train=148, tardis_age_0_train=5.72, tardis_integration_donor_0_train=7.16]"
     ]
    },
    {
     "name": "stdout",
     "output_type": "stream",
     "text": [
      "\r",
      "Epoch 68/600:  11%|█         | 67/600 [04:25<35:05,  3.95s/it, v_num=p2_1, total_loss_train=927, kl_local_train=148, tardis_age_0_train=5.72, tardis_integration_donor_0_train=7.16]"
     ]
    },
    {
     "name": "stdout",
     "output_type": "stream",
     "text": [
      "\r",
      "Epoch 68/600:  11%|█▏        | 68/600 [04:29<35:01,  3.95s/it, v_num=p2_1, total_loss_train=927, kl_local_train=148, tardis_age_0_train=5.72, tardis_integration_donor_0_train=7.16]"
     ]
    },
    {
     "name": "stdout",
     "output_type": "stream",
     "text": [
      "\r",
      "Epoch 68/600:  11%|█▏        | 68/600 [04:29<35:01,  3.95s/it, v_num=p2_1, total_loss_train=926, kl_local_train=140, tardis_age_0_train=5.71, tardis_integration_donor_0_train=7.23]"
     ]
    },
    {
     "name": "stdout",
     "output_type": "stream",
     "text": [
      "\r",
      "Epoch 69/600:  11%|█▏        | 68/600 [04:29<35:01,  3.95s/it, v_num=p2_1, total_loss_train=926, kl_local_train=140, tardis_age_0_train=5.71, tardis_integration_donor_0_train=7.23]"
     ]
    },
    {
     "name": "stdout",
     "output_type": "stream",
     "text": [
      "\r",
      "Epoch 69/600:  12%|█▏        | 69/600 [04:33<35:01,  3.96s/it, v_num=p2_1, total_loss_train=926, kl_local_train=140, tardis_age_0_train=5.71, tardis_integration_donor_0_train=7.23]"
     ]
    },
    {
     "name": "stdout",
     "output_type": "stream",
     "text": [
      "\r",
      "Epoch 69/600:  12%|█▏        | 69/600 [04:33<35:01,  3.96s/it, v_num=p2_1, total_loss_train=925, kl_local_train=142, tardis_age_0_train=5.62, tardis_integration_donor_0_train=7.18]"
     ]
    },
    {
     "name": "stdout",
     "output_type": "stream",
     "text": [
      "\r",
      "Epoch 70/600:  12%|█▏        | 69/600 [04:33<35:01,  3.96s/it, v_num=p2_1, total_loss_train=925, kl_local_train=142, tardis_age_0_train=5.62, tardis_integration_donor_0_train=7.18]"
     ]
    },
    {
     "name": "stdout",
     "output_type": "stream",
     "text": [
      "\r",
      "Epoch 70/600:  12%|█▏        | 70/600 [04:37<34:52,  3.95s/it, v_num=p2_1, total_loss_train=925, kl_local_train=142, tardis_age_0_train=5.62, tardis_integration_donor_0_train=7.18]"
     ]
    },
    {
     "name": "stdout",
     "output_type": "stream",
     "text": [
      "\r",
      "Epoch 70/600:  12%|█▏        | 70/600 [04:37<34:52,  3.95s/it, v_num=p2_1, total_loss_train=924, kl_local_train=147, tardis_age_0_train=5.44, tardis_integration_donor_0_train=6.87]"
     ]
    },
    {
     "name": "stdout",
     "output_type": "stream",
     "text": [
      "\r",
      "Epoch 71/600:  12%|█▏        | 70/600 [04:37<34:52,  3.95s/it, v_num=p2_1, total_loss_train=924, kl_local_train=147, tardis_age_0_train=5.44, tardis_integration_donor_0_train=6.87]"
     ]
    },
    {
     "name": "stdout",
     "output_type": "stream",
     "text": [
      "\r",
      "Epoch 71/600:  12%|█▏        | 71/600 [04:41<34:50,  3.95s/it, v_num=p2_1, total_loss_train=924, kl_local_train=147, tardis_age_0_train=5.44, tardis_integration_donor_0_train=6.87]"
     ]
    },
    {
     "name": "stdout",
     "output_type": "stream",
     "text": [
      "\r",
      "Epoch 71/600:  12%|█▏        | 71/600 [04:41<34:50,  3.95s/it, v_num=p2_1, total_loss_train=925, kl_local_train=144, tardis_age_0_train=5.55, tardis_integration_donor_0_train=7]   "
     ]
    },
    {
     "name": "stdout",
     "output_type": "stream",
     "text": [
      "\r",
      "Epoch 72/600:  12%|█▏        | 71/600 [04:41<34:50,  3.95s/it, v_num=p2_1, total_loss_train=925, kl_local_train=144, tardis_age_0_train=5.55, tardis_integration_donor_0_train=7]"
     ]
    },
    {
     "name": "stdout",
     "output_type": "stream",
     "text": [
      "\r",
      "Epoch 72/600:  12%|█▏        | 72/600 [04:45<34:52,  3.96s/it, v_num=p2_1, total_loss_train=925, kl_local_train=144, tardis_age_0_train=5.55, tardis_integration_donor_0_train=7]"
     ]
    },
    {
     "name": "stdout",
     "output_type": "stream",
     "text": [
      "\r",
      "Epoch 72/600:  12%|█▏        | 72/600 [04:45<34:52,  3.96s/it, v_num=p2_1, total_loss_train=924, kl_local_train=141, tardis_age_0_train=5.45, tardis_integration_donor_0_train=7.03]"
     ]
    },
    {
     "name": "stdout",
     "output_type": "stream",
     "text": [
      "\r",
      "Epoch 73/600:  12%|█▏        | 72/600 [04:45<34:52,  3.96s/it, v_num=p2_1, total_loss_train=924, kl_local_train=141, tardis_age_0_train=5.45, tardis_integration_donor_0_train=7.03]"
     ]
    },
    {
     "name": "stdout",
     "output_type": "stream",
     "text": [
      "\r",
      "Epoch 73/600:  12%|█▏        | 73/600 [04:49<34:56,  3.98s/it, v_num=p2_1, total_loss_train=924, kl_local_train=141, tardis_age_0_train=5.45, tardis_integration_donor_0_train=7.03]"
     ]
    },
    {
     "name": "stdout",
     "output_type": "stream",
     "text": [
      "\r",
      "Epoch 73/600:  12%|█▏        | 73/600 [04:49<34:56,  3.98s/it, v_num=p2_1, total_loss_train=924, kl_local_train=139, tardis_age_0_train=5.62, tardis_integration_donor_0_train=6.98]"
     ]
    },
    {
     "name": "stdout",
     "output_type": "stream",
     "text": [
      "\r",
      "Epoch 74/600:  12%|█▏        | 73/600 [04:49<34:56,  3.98s/it, v_num=p2_1, total_loss_train=924, kl_local_train=139, tardis_age_0_train=5.62, tardis_integration_donor_0_train=6.98]"
     ]
    },
    {
     "name": "stdout",
     "output_type": "stream",
     "text": [
      "\r",
      "Epoch 74/600:  12%|█▏        | 74/600 [04:53<34:49,  3.97s/it, v_num=p2_1, total_loss_train=924, kl_local_train=139, tardis_age_0_train=5.62, tardis_integration_donor_0_train=6.98]"
     ]
    },
    {
     "name": "stdout",
     "output_type": "stream",
     "text": [
      "\r",
      "Epoch 74/600:  12%|█▏        | 74/600 [04:53<34:49,  3.97s/it, v_num=p2_1, total_loss_train=923, kl_local_train=140, tardis_age_0_train=5.4, tardis_integration_donor_0_train=6.89] "
     ]
    },
    {
     "name": "stdout",
     "output_type": "stream",
     "text": [
      "\r",
      "Epoch 75/600:  12%|█▏        | 74/600 [04:53<34:49,  3.97s/it, v_num=p2_1, total_loss_train=923, kl_local_train=140, tardis_age_0_train=5.4, tardis_integration_donor_0_train=6.89]"
     ]
    },
    {
     "name": "stdout",
     "output_type": "stream",
     "text": [
      "\r",
      "Epoch 75/600:  12%|█▎        | 75/600 [04:57<34:46,  3.97s/it, v_num=p2_1, total_loss_train=923, kl_local_train=140, tardis_age_0_train=5.4, tardis_integration_donor_0_train=6.89]"
     ]
    },
    {
     "name": "stdout",
     "output_type": "stream",
     "text": [
      "\r",
      "Epoch 75/600:  12%|█▎        | 75/600 [04:57<34:46,  3.97s/it, v_num=p2_1, total_loss_train=922, kl_local_train=135, tardis_age_0_train=5.64, tardis_integration_donor_0_train=6.88]"
     ]
    },
    {
     "name": "stdout",
     "output_type": "stream",
     "text": [
      "\r",
      "Epoch 76/600:  12%|█▎        | 75/600 [04:57<34:46,  3.97s/it, v_num=p2_1, total_loss_train=922, kl_local_train=135, tardis_age_0_train=5.64, tardis_integration_donor_0_train=6.88]"
     ]
    },
    {
     "name": "stdout",
     "output_type": "stream",
     "text": [
      "\r",
      "Epoch 76/600:  13%|█▎        | 76/600 [05:01<34:46,  3.98s/it, v_num=p2_1, total_loss_train=922, kl_local_train=135, tardis_age_0_train=5.64, tardis_integration_donor_0_train=6.88]"
     ]
    },
    {
     "name": "stdout",
     "output_type": "stream",
     "text": [
      "\r",
      "Epoch 76/600:  13%|█▎        | 76/600 [05:01<34:46,  3.98s/it, v_num=p2_1, total_loss_train=922, kl_local_train=136, tardis_age_0_train=5.55, tardis_integration_donor_0_train=6.88]"
     ]
    },
    {
     "name": "stdout",
     "output_type": "stream",
     "text": [
      "\r",
      "Epoch 77/600:  13%|█▎        | 76/600 [05:01<34:46,  3.98s/it, v_num=p2_1, total_loss_train=922, kl_local_train=136, tardis_age_0_train=5.55, tardis_integration_donor_0_train=6.88]"
     ]
    },
    {
     "name": "stdout",
     "output_type": "stream",
     "text": [
      "\r",
      "Epoch 77/600:  13%|█▎        | 77/600 [05:05<35:28,  4.07s/it, v_num=p2_1, total_loss_train=922, kl_local_train=136, tardis_age_0_train=5.55, tardis_integration_donor_0_train=6.88]"
     ]
    },
    {
     "name": "stdout",
     "output_type": "stream",
     "text": [
      "\r",
      "Epoch 77/600:  13%|█▎        | 77/600 [05:05<35:28,  4.07s/it, v_num=p2_1, total_loss_train=921, kl_local_train=132, tardis_age_0_train=5.57, tardis_integration_donor_0_train=6.78]"
     ]
    },
    {
     "name": "stdout",
     "output_type": "stream",
     "text": [
      "\r",
      "Epoch 78/600:  13%|█▎        | 77/600 [05:05<35:28,  4.07s/it, v_num=p2_1, total_loss_train=921, kl_local_train=132, tardis_age_0_train=5.57, tardis_integration_donor_0_train=6.78]"
     ]
    },
    {
     "name": "stdout",
     "output_type": "stream",
     "text": [
      "\r",
      "Epoch 78/600:  13%|█▎        | 78/600 [05:09<35:08,  4.04s/it, v_num=p2_1, total_loss_train=921, kl_local_train=132, tardis_age_0_train=5.57, tardis_integration_donor_0_train=6.78]"
     ]
    },
    {
     "name": "stdout",
     "output_type": "stream",
     "text": [
      "\r",
      "Epoch 78/600:  13%|█▎        | 78/600 [05:09<35:08,  4.04s/it, v_num=p2_1, total_loss_train=921, kl_local_train=130, tardis_age_0_train=5.63, tardis_integration_donor_0_train=6.94]"
     ]
    },
    {
     "name": "stdout",
     "output_type": "stream",
     "text": [
      "\r",
      "Epoch 79/600:  13%|█▎        | 78/600 [05:09<35:08,  4.04s/it, v_num=p2_1, total_loss_train=921, kl_local_train=130, tardis_age_0_train=5.63, tardis_integration_donor_0_train=6.94]"
     ]
    },
    {
     "name": "stdout",
     "output_type": "stream",
     "text": [
      "\r",
      "Epoch 79/600:  13%|█▎        | 79/600 [05:13<34:50,  4.01s/it, v_num=p2_1, total_loss_train=921, kl_local_train=130, tardis_age_0_train=5.63, tardis_integration_donor_0_train=6.94]"
     ]
    },
    {
     "name": "stdout",
     "output_type": "stream",
     "text": [
      "\r",
      "Epoch 79/600:  13%|█▎        | 79/600 [05:13<34:50,  4.01s/it, v_num=p2_1, total_loss_train=920, kl_local_train=129, tardis_age_0_train=5.71, tardis_integration_donor_0_train=6.98]"
     ]
    },
    {
     "name": "stdout",
     "output_type": "stream",
     "text": [
      "\r",
      "Epoch 80/600:  13%|█▎        | 79/600 [05:13<34:50,  4.01s/it, v_num=p2_1, total_loss_train=920, kl_local_train=129, tardis_age_0_train=5.71, tardis_integration_donor_0_train=6.98]"
     ]
    },
    {
     "name": "stdout",
     "output_type": "stream",
     "text": [
      "\r",
      "Epoch 80/600:  13%|█▎        | 80/600 [05:17<34:32,  3.99s/it, v_num=p2_1, total_loss_train=920, kl_local_train=129, tardis_age_0_train=5.71, tardis_integration_donor_0_train=6.98]"
     ]
    },
    {
     "name": "stdout",
     "output_type": "stream",
     "text": [
      "\r",
      "Epoch 80/600:  13%|█▎        | 80/600 [05:17<34:32,  3.99s/it, v_num=p2_1, total_loss_train=920, kl_local_train=128, tardis_age_0_train=5.64, tardis_integration_donor_0_train=7.06]"
     ]
    },
    {
     "name": "stdout",
     "output_type": "stream",
     "text": [
      "\r",
      "Epoch 81/600:  13%|█▎        | 80/600 [05:17<34:32,  3.99s/it, v_num=p2_1, total_loss_train=920, kl_local_train=128, tardis_age_0_train=5.64, tardis_integration_donor_0_train=7.06]"
     ]
    },
    {
     "name": "stdout",
     "output_type": "stream",
     "text": [
      "\r",
      "Epoch 81/600:  14%|█▎        | 81/600 [05:21<34:19,  3.97s/it, v_num=p2_1, total_loss_train=920, kl_local_train=128, tardis_age_0_train=5.64, tardis_integration_donor_0_train=7.06]"
     ]
    },
    {
     "name": "stdout",
     "output_type": "stream",
     "text": [
      "\r",
      "Epoch 81/600:  14%|█▎        | 81/600 [05:21<34:19,  3.97s/it, v_num=p2_1, total_loss_train=920, kl_local_train=129, tardis_age_0_train=5.68, tardis_integration_donor_0_train=6.99]"
     ]
    },
    {
     "name": "stdout",
     "output_type": "stream",
     "text": [
      "\r",
      "Epoch 82/600:  14%|█▎        | 81/600 [05:21<34:19,  3.97s/it, v_num=p2_1, total_loss_train=920, kl_local_train=129, tardis_age_0_train=5.68, tardis_integration_donor_0_train=6.99]"
     ]
    },
    {
     "name": "stdout",
     "output_type": "stream",
     "text": [
      "\r",
      "Epoch 82/600:  14%|█▎        | 82/600 [05:25<34:08,  3.95s/it, v_num=p2_1, total_loss_train=920, kl_local_train=129, tardis_age_0_train=5.68, tardis_integration_donor_0_train=6.99]"
     ]
    },
    {
     "name": "stdout",
     "output_type": "stream",
     "text": [
      "\r",
      "Epoch 82/600:  14%|█▎        | 82/600 [05:25<34:08,  3.95s/it, v_num=p2_1, total_loss_train=920, kl_local_train=129, tardis_age_0_train=5.6, tardis_integration_donor_0_train=6.91] "
     ]
    },
    {
     "name": "stdout",
     "output_type": "stream",
     "text": [
      "\r",
      "Epoch 83/600:  14%|█▎        | 82/600 [05:25<34:08,  3.95s/it, v_num=p2_1, total_loss_train=920, kl_local_train=129, tardis_age_0_train=5.6, tardis_integration_donor_0_train=6.91]"
     ]
    },
    {
     "name": "stdout",
     "output_type": "stream",
     "text": [
      "\r",
      "Epoch 83/600:  14%|█▍        | 83/600 [05:29<34:24,  3.99s/it, v_num=p2_1, total_loss_train=920, kl_local_train=129, tardis_age_0_train=5.6, tardis_integration_donor_0_train=6.91]"
     ]
    },
    {
     "name": "stdout",
     "output_type": "stream",
     "text": [
      "\r",
      "Epoch 83/600:  14%|█▍        | 83/600 [05:29<34:24,  3.99s/it, v_num=p2_1, total_loss_train=919, kl_local_train=126, tardis_age_0_train=5.82, tardis_integration_donor_0_train=7.01]"
     ]
    },
    {
     "name": "stdout",
     "output_type": "stream",
     "text": [
      "\r",
      "Epoch 84/600:  14%|█▍        | 83/600 [05:29<34:24,  3.99s/it, v_num=p2_1, total_loss_train=919, kl_local_train=126, tardis_age_0_train=5.82, tardis_integration_donor_0_train=7.01]"
     ]
    },
    {
     "name": "stdout",
     "output_type": "stream",
     "text": [
      "\r",
      "Epoch 84/600:  14%|█▍        | 84/600 [05:33<34:11,  3.98s/it, v_num=p2_1, total_loss_train=919, kl_local_train=126, tardis_age_0_train=5.82, tardis_integration_donor_0_train=7.01]"
     ]
    },
    {
     "name": "stdout",
     "output_type": "stream",
     "text": [
      "\r",
      "Epoch 84/600:  14%|█▍        | 84/600 [05:33<34:11,  3.98s/it, v_num=p2_1, total_loss_train=919, kl_local_train=128, tardis_age_0_train=5.76, tardis_integration_donor_0_train=7.04]"
     ]
    },
    {
     "name": "stdout",
     "output_type": "stream",
     "text": [
      "\r",
      "Epoch 85/600:  14%|█▍        | 84/600 [05:33<34:11,  3.98s/it, v_num=p2_1, total_loss_train=919, kl_local_train=128, tardis_age_0_train=5.76, tardis_integration_donor_0_train=7.04]"
     ]
    },
    {
     "name": "stdout",
     "output_type": "stream",
     "text": [
      "\r",
      "Epoch 85/600:  14%|█▍        | 85/600 [05:37<34:01,  3.96s/it, v_num=p2_1, total_loss_train=919, kl_local_train=128, tardis_age_0_train=5.76, tardis_integration_donor_0_train=7.04]"
     ]
    },
    {
     "name": "stdout",
     "output_type": "stream",
     "text": [
      "\r",
      "Epoch 85/600:  14%|█▍        | 85/600 [05:37<34:01,  3.96s/it, v_num=p2_1, total_loss_train=919, kl_local_train=129, tardis_age_0_train=5.55, tardis_integration_donor_0_train=6.79]"
     ]
    },
    {
     "name": "stdout",
     "output_type": "stream",
     "text": [
      "\r",
      "Epoch 86/600:  14%|█▍        | 85/600 [05:37<34:01,  3.96s/it, v_num=p2_1, total_loss_train=919, kl_local_train=129, tardis_age_0_train=5.55, tardis_integration_donor_0_train=6.79]"
     ]
    },
    {
     "name": "stdout",
     "output_type": "stream",
     "text": [
      "\r",
      "Epoch 86/600:  14%|█▍        | 86/600 [05:41<33:51,  3.95s/it, v_num=p2_1, total_loss_train=919, kl_local_train=129, tardis_age_0_train=5.55, tardis_integration_donor_0_train=6.79]"
     ]
    },
    {
     "name": "stdout",
     "output_type": "stream",
     "text": [
      "\r",
      "Epoch 86/600:  14%|█▍        | 86/600 [05:41<33:51,  3.95s/it, v_num=p2_1, total_loss_train=918, kl_local_train=128, tardis_age_0_train=5.61, tardis_integration_donor_0_train=6.92]"
     ]
    },
    {
     "name": "stdout",
     "output_type": "stream",
     "text": [
      "\r",
      "Epoch 87/600:  14%|█▍        | 86/600 [05:41<33:51,  3.95s/it, v_num=p2_1, total_loss_train=918, kl_local_train=128, tardis_age_0_train=5.61, tardis_integration_donor_0_train=6.92]"
     ]
    },
    {
     "name": "stdout",
     "output_type": "stream",
     "text": [
      "\r",
      "Epoch 87/600:  14%|█▍        | 87/600 [05:45<33:50,  3.96s/it, v_num=p2_1, total_loss_train=918, kl_local_train=128, tardis_age_0_train=5.61, tardis_integration_donor_0_train=6.92]"
     ]
    },
    {
     "name": "stdout",
     "output_type": "stream",
     "text": [
      "\r",
      "Epoch 87/600:  14%|█▍        | 87/600 [05:45<33:50,  3.96s/it, v_num=p2_1, total_loss_train=918, kl_local_train=126, tardis_age_0_train=5.75, tardis_integration_donor_0_train=6.96]"
     ]
    },
    {
     "name": "stdout",
     "output_type": "stream",
     "text": [
      "\r",
      "Epoch 88/600:  14%|█▍        | 87/600 [05:45<33:50,  3.96s/it, v_num=p2_1, total_loss_train=918, kl_local_train=126, tardis_age_0_train=5.75, tardis_integration_donor_0_train=6.96]"
     ]
    },
    {
     "name": "stdout",
     "output_type": "stream",
     "text": [
      "\r",
      "Epoch 88/600:  15%|█▍        | 88/600 [05:48<33:42,  3.95s/it, v_num=p2_1, total_loss_train=918, kl_local_train=126, tardis_age_0_train=5.75, tardis_integration_donor_0_train=6.96]"
     ]
    },
    {
     "name": "stdout",
     "output_type": "stream",
     "text": [
      "\r",
      "Epoch 88/600:  15%|█▍        | 88/600 [05:48<33:42,  3.95s/it, v_num=p2_1, total_loss_train=918, kl_local_train=122, tardis_age_0_train=5.95, tardis_integration_donor_0_train=7.2] "
     ]
    },
    {
     "name": "stdout",
     "output_type": "stream",
     "text": [
      "\r",
      "Epoch 89/600:  15%|█▍        | 88/600 [05:48<33:42,  3.95s/it, v_num=p2_1, total_loss_train=918, kl_local_train=122, tardis_age_0_train=5.95, tardis_integration_donor_0_train=7.2]"
     ]
    },
    {
     "name": "stdout",
     "output_type": "stream",
     "text": [
      "\r",
      "Epoch 89/600:  15%|█▍        | 89/600 [05:52<33:35,  3.94s/it, v_num=p2_1, total_loss_train=918, kl_local_train=122, tardis_age_0_train=5.95, tardis_integration_donor_0_train=7.2]"
     ]
    },
    {
     "name": "stdout",
     "output_type": "stream",
     "text": [
      "\r",
      "Epoch 89/600:  15%|█▍        | 89/600 [05:52<33:35,  3.94s/it, v_num=p2_1, total_loss_train=917, kl_local_train=121, tardis_age_0_train=5.87, tardis_integration_donor_0_train=7.23]"
     ]
    },
    {
     "name": "stdout",
     "output_type": "stream",
     "text": [
      "\r",
      "Epoch 90/600:  15%|█▍        | 89/600 [05:52<33:35,  3.94s/it, v_num=p2_1, total_loss_train=917, kl_local_train=121, tardis_age_0_train=5.87, tardis_integration_donor_0_train=7.23]"
     ]
    },
    {
     "name": "stdout",
     "output_type": "stream",
     "text": [
      "\r",
      "Epoch 90/600:  15%|█▌        | 90/600 [05:56<33:30,  3.94s/it, v_num=p2_1, total_loss_train=917, kl_local_train=121, tardis_age_0_train=5.87, tardis_integration_donor_0_train=7.23]"
     ]
    },
    {
     "name": "stdout",
     "output_type": "stream",
     "text": [
      "\r",
      "Epoch 90/600:  15%|█▌        | 90/600 [05:56<33:30,  3.94s/it, v_num=p2_1, total_loss_train=916, kl_local_train=122, tardis_age_0_train=5.78, tardis_integration_donor_0_train=7.04]"
     ]
    },
    {
     "name": "stdout",
     "output_type": "stream",
     "text": [
      "\r",
      "Epoch 91/600:  15%|█▌        | 90/600 [05:56<33:30,  3.94s/it, v_num=p2_1, total_loss_train=916, kl_local_train=122, tardis_age_0_train=5.78, tardis_integration_donor_0_train=7.04]"
     ]
    },
    {
     "name": "stdout",
     "output_type": "stream",
     "text": [
      "\r",
      "Epoch 91/600:  15%|█▌        | 91/600 [06:00<33:28,  3.95s/it, v_num=p2_1, total_loss_train=916, kl_local_train=122, tardis_age_0_train=5.78, tardis_integration_donor_0_train=7.04]"
     ]
    },
    {
     "name": "stdout",
     "output_type": "stream",
     "text": [
      "\r",
      "Epoch 91/600:  15%|█▌        | 91/600 [06:00<33:28,  3.95s/it, v_num=p2_1, total_loss_train=916, kl_local_train=121, tardis_age_0_train=5.93, tardis_integration_donor_0_train=6.88]"
     ]
    },
    {
     "name": "stdout",
     "output_type": "stream",
     "text": [
      "\r",
      "Epoch 92/600:  15%|█▌        | 91/600 [06:00<33:28,  3.95s/it, v_num=p2_1, total_loss_train=916, kl_local_train=121, tardis_age_0_train=5.93, tardis_integration_donor_0_train=6.88]"
     ]
    },
    {
     "name": "stdout",
     "output_type": "stream",
     "text": [
      "\r",
      "Epoch 92/600:  15%|█▌        | 92/600 [06:04<33:25,  3.95s/it, v_num=p2_1, total_loss_train=916, kl_local_train=121, tardis_age_0_train=5.93, tardis_integration_donor_0_train=6.88]"
     ]
    },
    {
     "name": "stdout",
     "output_type": "stream",
     "text": [
      "\r",
      "Epoch 92/600:  15%|█▌        | 92/600 [06:04<33:25,  3.95s/it, v_num=p2_1, total_loss_train=916, kl_local_train=119, tardis_age_0_train=5.93, tardis_integration_donor_0_train=7.14]"
     ]
    },
    {
     "name": "stdout",
     "output_type": "stream",
     "text": [
      "\r",
      "Epoch 93/600:  15%|█▌        | 92/600 [06:04<33:25,  3.95s/it, v_num=p2_1, total_loss_train=916, kl_local_train=119, tardis_age_0_train=5.93, tardis_integration_donor_0_train=7.14]"
     ]
    },
    {
     "name": "stdout",
     "output_type": "stream",
     "text": [
      "\r",
      "Epoch 93/600:  16%|█▌        | 93/600 [06:08<33:24,  3.95s/it, v_num=p2_1, total_loss_train=916, kl_local_train=119, tardis_age_0_train=5.93, tardis_integration_donor_0_train=7.14]"
     ]
    },
    {
     "name": "stdout",
     "output_type": "stream",
     "text": [
      "\r",
      "Epoch 93/600:  16%|█▌        | 93/600 [06:08<33:24,  3.95s/it, v_num=p2_1, total_loss_train=915, kl_local_train=118, tardis_age_0_train=6.12, tardis_integration_donor_0_train=7.09]"
     ]
    },
    {
     "name": "stdout",
     "output_type": "stream",
     "text": [
      "\r",
      "Epoch 94/600:  16%|█▌        | 93/600 [06:08<33:24,  3.95s/it, v_num=p2_1, total_loss_train=915, kl_local_train=118, tardis_age_0_train=6.12, tardis_integration_donor_0_train=7.09]"
     ]
    },
    {
     "name": "stdout",
     "output_type": "stream",
     "text": [
      "\r",
      "Epoch 94/600:  16%|█▌        | 94/600 [06:12<33:19,  3.95s/it, v_num=p2_1, total_loss_train=915, kl_local_train=118, tardis_age_0_train=6.12, tardis_integration_donor_0_train=7.09]"
     ]
    },
    {
     "name": "stdout",
     "output_type": "stream",
     "text": [
      "\r",
      "Epoch 94/600:  16%|█▌        | 94/600 [06:12<33:19,  3.95s/it, v_num=p2_1, total_loss_train=915, kl_local_train=118, tardis_age_0_train=6.03, tardis_integration_donor_0_train=7.04]"
     ]
    },
    {
     "name": "stdout",
     "output_type": "stream",
     "text": [
      "\r",
      "Epoch 95/600:  16%|█▌        | 94/600 [06:12<33:19,  3.95s/it, v_num=p2_1, total_loss_train=915, kl_local_train=118, tardis_age_0_train=6.03, tardis_integration_donor_0_train=7.04]"
     ]
    },
    {
     "name": "stdout",
     "output_type": "stream",
     "text": [
      "\r",
      "Epoch 95/600:  16%|█▌        | 95/600 [06:16<33:21,  3.96s/it, v_num=p2_1, total_loss_train=915, kl_local_train=118, tardis_age_0_train=6.03, tardis_integration_donor_0_train=7.04]"
     ]
    },
    {
     "name": "stdout",
     "output_type": "stream",
     "text": [
      "\r",
      "Epoch 95/600:  16%|█▌        | 95/600 [06:16<33:21,  3.96s/it, v_num=p2_1, total_loss_train=915, kl_local_train=115, tardis_age_0_train=5.96, tardis_integration_donor_0_train=7.22]"
     ]
    },
    {
     "name": "stdout",
     "output_type": "stream",
     "text": [
      "\r",
      "Epoch 96/600:  16%|█▌        | 95/600 [06:16<33:21,  3.96s/it, v_num=p2_1, total_loss_train=915, kl_local_train=115, tardis_age_0_train=5.96, tardis_integration_donor_0_train=7.22]"
     ]
    },
    {
     "name": "stdout",
     "output_type": "stream",
     "text": [
      "\r",
      "Epoch 96/600:  16%|█▌        | 96/600 [06:20<33:16,  3.96s/it, v_num=p2_1, total_loss_train=915, kl_local_train=115, tardis_age_0_train=5.96, tardis_integration_donor_0_train=7.22]"
     ]
    },
    {
     "name": "stdout",
     "output_type": "stream",
     "text": [
      "\r",
      "Epoch 96/600:  16%|█▌        | 96/600 [06:20<33:16,  3.96s/it, v_num=p2_1, total_loss_train=914, kl_local_train=117, tardis_age_0_train=5.82, tardis_integration_donor_0_train=7.04]"
     ]
    },
    {
     "name": "stdout",
     "output_type": "stream",
     "text": [
      "\r",
      "Epoch 97/600:  16%|█▌        | 96/600 [06:20<33:16,  3.96s/it, v_num=p2_1, total_loss_train=914, kl_local_train=117, tardis_age_0_train=5.82, tardis_integration_donor_0_train=7.04]"
     ]
    },
    {
     "name": "stdout",
     "output_type": "stream",
     "text": [
      "\r",
      "Epoch 97/600:  16%|█▌        | 97/600 [06:24<33:10,  3.96s/it, v_num=p2_1, total_loss_train=914, kl_local_train=117, tardis_age_0_train=5.82, tardis_integration_donor_0_train=7.04]"
     ]
    },
    {
     "name": "stdout",
     "output_type": "stream",
     "text": [
      "\r",
      "Epoch 97/600:  16%|█▌        | 97/600 [06:24<33:10,  3.96s/it, v_num=p2_1, total_loss_train=914, kl_local_train=117, tardis_age_0_train=5.88, tardis_integration_donor_0_train=7.08]"
     ]
    },
    {
     "name": "stdout",
     "output_type": "stream",
     "text": [
      "\r",
      "Epoch 98/600:  16%|█▌        | 97/600 [06:24<33:10,  3.96s/it, v_num=p2_1, total_loss_train=914, kl_local_train=117, tardis_age_0_train=5.88, tardis_integration_donor_0_train=7.08]"
     ]
    },
    {
     "name": "stdout",
     "output_type": "stream",
     "text": [
      "\r",
      "Epoch 98/600:  16%|█▋        | 98/600 [06:28<33:06,  3.96s/it, v_num=p2_1, total_loss_train=914, kl_local_train=117, tardis_age_0_train=5.88, tardis_integration_donor_0_train=7.08]"
     ]
    },
    {
     "name": "stdout",
     "output_type": "stream",
     "text": [
      "\r",
      "Epoch 98/600:  16%|█▋        | 98/600 [06:28<33:06,  3.96s/it, v_num=p2_1, total_loss_train=914, kl_local_train=116, tardis_age_0_train=6.05, tardis_integration_donor_0_train=7.14]"
     ]
    },
    {
     "name": "stdout",
     "output_type": "stream",
     "text": [
      "\r",
      "Epoch 99/600:  16%|█▋        | 98/600 [06:28<33:06,  3.96s/it, v_num=p2_1, total_loss_train=914, kl_local_train=116, tardis_age_0_train=6.05, tardis_integration_donor_0_train=7.14]"
     ]
    },
    {
     "name": "stdout",
     "output_type": "stream",
     "text": [
      "\r",
      "Epoch 99/600:  16%|█▋        | 99/600 [06:32<33:01,  3.95s/it, v_num=p2_1, total_loss_train=914, kl_local_train=116, tardis_age_0_train=6.05, tardis_integration_donor_0_train=7.14]"
     ]
    },
    {
     "name": "stdout",
     "output_type": "stream",
     "text": [
      "\r",
      "Epoch 99/600:  16%|█▋        | 99/600 [06:32<33:01,  3.95s/it, v_num=p2_1, total_loss_train=914, kl_local_train=112, tardis_age_0_train=6.15, tardis_integration_donor_0_train=7.3] "
     ]
    },
    {
     "name": "stdout",
     "output_type": "stream",
     "text": [
      "\r",
      "Epoch 100/600:  16%|█▋        | 99/600 [06:32<33:01,  3.95s/it, v_num=p2_1, total_loss_train=914, kl_local_train=112, tardis_age_0_train=6.15, tardis_integration_donor_0_train=7.3]"
     ]
    },
    {
     "name": "stdout",
     "output_type": "stream",
     "text": [
      "\r",
      "Epoch 100/600:  17%|█▋        | 100/600 [06:36<33:00,  3.96s/it, v_num=p2_1, total_loss_train=914, kl_local_train=112, tardis_age_0_train=6.15, tardis_integration_donor_0_train=7.3]"
     ]
    },
    {
     "name": "stdout",
     "output_type": "stream",
     "text": [
      "\r",
      "Epoch 100/600:  17%|█▋        | 100/600 [06:36<33:00,  3.96s/it, v_num=p2_1, total_loss_train=913, kl_local_train=113, tardis_age_0_train=6.23, tardis_integration_donor_0_train=7.25]"
     ]
    },
    {
     "name": "stdout",
     "output_type": "stream",
     "text": [
      "\r",
      "Epoch 101/600:  17%|█▋        | 100/600 [06:36<33:00,  3.96s/it, v_num=p2_1, total_loss_train=913, kl_local_train=113, tardis_age_0_train=6.23, tardis_integration_donor_0_train=7.25]"
     ]
    },
    {
     "name": "stdout",
     "output_type": "stream",
     "text": [
      "\r",
      "Epoch 101/600:  17%|█▋        | 101/600 [06:40<32:58,  3.97s/it, v_num=p2_1, total_loss_train=913, kl_local_train=113, tardis_age_0_train=6.23, tardis_integration_donor_0_train=7.25]"
     ]
    },
    {
     "name": "stdout",
     "output_type": "stream",
     "text": [
      "\r",
      "Epoch 101/600:  17%|█▋        | 101/600 [06:40<32:58,  3.97s/it, v_num=p2_1, total_loss_train=913, kl_local_train=110, tardis_age_0_train=6.28, tardis_integration_donor_0_train=7.36]"
     ]
    },
    {
     "name": "stdout",
     "output_type": "stream",
     "text": [
      "\r",
      "Epoch 102/600:  17%|█▋        | 101/600 [06:40<32:58,  3.97s/it, v_num=p2_1, total_loss_train=913, kl_local_train=110, tardis_age_0_train=6.28, tardis_integration_donor_0_train=7.36]"
     ]
    },
    {
     "name": "stdout",
     "output_type": "stream",
     "text": [
      "\r",
      "Epoch 102/600:  17%|█▋        | 102/600 [06:44<32:53,  3.96s/it, v_num=p2_1, total_loss_train=913, kl_local_train=110, tardis_age_0_train=6.28, tardis_integration_donor_0_train=7.36]"
     ]
    },
    {
     "name": "stdout",
     "output_type": "stream",
     "text": [
      "\r",
      "Epoch 102/600:  17%|█▋        | 102/600 [06:44<32:53,  3.96s/it, v_num=p2_1, total_loss_train=913, kl_local_train=113, tardis_age_0_train=6.14, tardis_integration_donor_0_train=7.23]"
     ]
    },
    {
     "name": "stdout",
     "output_type": "stream",
     "text": [
      "\r",
      "Epoch 103/600:  17%|█▋        | 102/600 [06:44<32:53,  3.96s/it, v_num=p2_1, total_loss_train=913, kl_local_train=113, tardis_age_0_train=6.14, tardis_integration_donor_0_train=7.23]"
     ]
    },
    {
     "name": "stdout",
     "output_type": "stream",
     "text": [
      "\r",
      "Epoch 103/600:  17%|█▋        | 103/600 [06:48<32:49,  3.96s/it, v_num=p2_1, total_loss_train=913, kl_local_train=113, tardis_age_0_train=6.14, tardis_integration_donor_0_train=7.23]"
     ]
    },
    {
     "name": "stdout",
     "output_type": "stream",
     "text": [
      "\r",
      "Epoch 103/600:  17%|█▋        | 103/600 [06:48<32:49,  3.96s/it, v_num=p2_1, total_loss_train=913, kl_local_train=113, tardis_age_0_train=6.23, tardis_integration_donor_0_train=7.4] "
     ]
    },
    {
     "name": "stdout",
     "output_type": "stream",
     "text": [
      "\r",
      "Epoch 104/600:  17%|█▋        | 103/600 [06:48<32:49,  3.96s/it, v_num=p2_1, total_loss_train=913, kl_local_train=113, tardis_age_0_train=6.23, tardis_integration_donor_0_train=7.4]"
     ]
    },
    {
     "name": "stdout",
     "output_type": "stream",
     "text": [
      "\r",
      "Epoch 104/600:  17%|█▋        | 104/600 [06:52<32:47,  3.97s/it, v_num=p2_1, total_loss_train=913, kl_local_train=113, tardis_age_0_train=6.23, tardis_integration_donor_0_train=7.4]"
     ]
    },
    {
     "name": "stdout",
     "output_type": "stream",
     "text": [
      "\r",
      "Epoch 104/600:  17%|█▋        | 104/600 [06:52<32:47,  3.97s/it, v_num=p2_1, total_loss_train=913, kl_local_train=113, tardis_age_0_train=6.07, tardis_integration_donor_0_train=7.29]"
     ]
    },
    {
     "name": "stdout",
     "output_type": "stream",
     "text": [
      "\r",
      "Epoch 105/600:  17%|█▋        | 104/600 [06:52<32:47,  3.97s/it, v_num=p2_1, total_loss_train=913, kl_local_train=113, tardis_age_0_train=6.07, tardis_integration_donor_0_train=7.29]"
     ]
    },
    {
     "name": "stdout",
     "output_type": "stream",
     "text": [
      "\r",
      "Epoch 105/600:  18%|█▊        | 105/600 [06:56<32:38,  3.96s/it, v_num=p2_1, total_loss_train=913, kl_local_train=113, tardis_age_0_train=6.07, tardis_integration_donor_0_train=7.29]"
     ]
    },
    {
     "name": "stdout",
     "output_type": "stream",
     "text": [
      "\r",
      "Epoch 105/600:  18%|█▊        | 105/600 [06:56<32:38,  3.96s/it, v_num=p2_1, total_loss_train=912, kl_local_train=111, tardis_age_0_train=6.25, tardis_integration_donor_0_train=7.43]"
     ]
    },
    {
     "name": "stdout",
     "output_type": "stream",
     "text": [
      "\r",
      "Epoch 106/600:  18%|█▊        | 105/600 [06:56<32:38,  3.96s/it, v_num=p2_1, total_loss_train=912, kl_local_train=111, tardis_age_0_train=6.25, tardis_integration_donor_0_train=7.43]"
     ]
    },
    {
     "name": "stdout",
     "output_type": "stream",
     "text": [
      "\r",
      "Epoch 106/600:  18%|█▊        | 106/600 [07:00<32:35,  3.96s/it, v_num=p2_1, total_loss_train=912, kl_local_train=111, tardis_age_0_train=6.25, tardis_integration_donor_0_train=7.43]"
     ]
    },
    {
     "name": "stdout",
     "output_type": "stream",
     "text": [
      "\r",
      "Epoch 106/600:  18%|█▊        | 106/600 [07:00<32:35,  3.96s/it, v_num=p2_1, total_loss_train=912, kl_local_train=112, tardis_age_0_train=6.03, tardis_integration_donor_0_train=7.34]"
     ]
    },
    {
     "name": "stdout",
     "output_type": "stream",
     "text": [
      "\r",
      "Epoch 107/600:  18%|█▊        | 106/600 [07:00<32:35,  3.96s/it, v_num=p2_1, total_loss_train=912, kl_local_train=112, tardis_age_0_train=6.03, tardis_integration_donor_0_train=7.34]"
     ]
    },
    {
     "name": "stdout",
     "output_type": "stream",
     "text": [
      "\r",
      "Epoch 107/600:  18%|█▊        | 107/600 [07:04<32:31,  3.96s/it, v_num=p2_1, total_loss_train=912, kl_local_train=112, tardis_age_0_train=6.03, tardis_integration_donor_0_train=7.34]"
     ]
    },
    {
     "name": "stdout",
     "output_type": "stream",
     "text": [
      "\r",
      "Epoch 107/600:  18%|█▊        | 107/600 [07:04<32:31,  3.96s/it, v_num=p2_1, total_loss_train=912, kl_local_train=110, tardis_age_0_train=6.26, tardis_integration_donor_0_train=7.43]"
     ]
    },
    {
     "name": "stdout",
     "output_type": "stream",
     "text": [
      "\r",
      "Epoch 108/600:  18%|█▊        | 107/600 [07:04<32:31,  3.96s/it, v_num=p2_1, total_loss_train=912, kl_local_train=110, tardis_age_0_train=6.26, tardis_integration_donor_0_train=7.43]"
     ]
    },
    {
     "name": "stdout",
     "output_type": "stream",
     "text": [
      "\r",
      "Epoch 108/600:  18%|█▊        | 108/600 [07:08<32:25,  3.95s/it, v_num=p2_1, total_loss_train=912, kl_local_train=110, tardis_age_0_train=6.26, tardis_integration_donor_0_train=7.43]"
     ]
    },
    {
     "name": "stdout",
     "output_type": "stream",
     "text": [
      "\r",
      "Epoch 108/600:  18%|█▊        | 108/600 [07:08<32:25,  3.95s/it, v_num=p2_1, total_loss_train=912, kl_local_train=110, tardis_age_0_train=6.13, tardis_integration_donor_0_train=7.33]"
     ]
    },
    {
     "name": "stdout",
     "output_type": "stream",
     "text": [
      "\r",
      "Epoch 109/600:  18%|█▊        | 108/600 [07:08<32:25,  3.95s/it, v_num=p2_1, total_loss_train=912, kl_local_train=110, tardis_age_0_train=6.13, tardis_integration_donor_0_train=7.33]"
     ]
    },
    {
     "name": "stdout",
     "output_type": "stream",
     "text": [
      "\r",
      "Epoch 109/600:  18%|█▊        | 109/600 [07:12<32:23,  3.96s/it, v_num=p2_1, total_loss_train=912, kl_local_train=110, tardis_age_0_train=6.13, tardis_integration_donor_0_train=7.33]"
     ]
    },
    {
     "name": "stdout",
     "output_type": "stream",
     "text": [
      "\r",
      "Epoch 109/600:  18%|█▊        | 109/600 [07:12<32:23,  3.96s/it, v_num=p2_1, total_loss_train=911, kl_local_train=109, tardis_age_0_train=6.23, tardis_integration_donor_0_train=7.49]"
     ]
    },
    {
     "name": "stdout",
     "output_type": "stream",
     "text": [
      "\r",
      "Epoch 110/600:  18%|█▊        | 109/600 [07:12<32:23,  3.96s/it, v_num=p2_1, total_loss_train=911, kl_local_train=109, tardis_age_0_train=6.23, tardis_integration_donor_0_train=7.49]"
     ]
    },
    {
     "name": "stdout",
     "output_type": "stream",
     "text": [
      "\r",
      "Epoch 110/600:  18%|█▊        | 110/600 [07:16<32:21,  3.96s/it, v_num=p2_1, total_loss_train=911, kl_local_train=109, tardis_age_0_train=6.23, tardis_integration_donor_0_train=7.49]"
     ]
    },
    {
     "name": "stdout",
     "output_type": "stream",
     "text": [
      "\r",
      "Epoch 110/600:  18%|█▊        | 110/600 [07:16<32:21,  3.96s/it, v_num=p2_1, total_loss_train=911, kl_local_train=110, tardis_age_0_train=6.1, tardis_integration_donor_0_train=7.4]  "
     ]
    },
    {
     "name": "stdout",
     "output_type": "stream",
     "text": [
      "\r",
      "Epoch 111/600:  18%|█▊        | 110/600 [07:16<32:21,  3.96s/it, v_num=p2_1, total_loss_train=911, kl_local_train=110, tardis_age_0_train=6.1, tardis_integration_donor_0_train=7.4]"
     ]
    },
    {
     "name": "stdout",
     "output_type": "stream",
     "text": [
      "\r",
      "Epoch 111/600:  18%|█▊        | 111/600 [07:19<32:17,  3.96s/it, v_num=p2_1, total_loss_train=911, kl_local_train=110, tardis_age_0_train=6.1, tardis_integration_donor_0_train=7.4]"
     ]
    },
    {
     "name": "stdout",
     "output_type": "stream",
     "text": [
      "\r",
      "Epoch 111/600:  18%|█▊        | 111/600 [07:19<32:17,  3.96s/it, v_num=p2_1, total_loss_train=910, kl_local_train=108, tardis_age_0_train=6.17, tardis_integration_donor_0_train=7.51]"
     ]
    },
    {
     "name": "stdout",
     "output_type": "stream",
     "text": [
      "\r",
      "Epoch 112/600:  18%|█▊        | 111/600 [07:19<32:17,  3.96s/it, v_num=p2_1, total_loss_train=910, kl_local_train=108, tardis_age_0_train=6.17, tardis_integration_donor_0_train=7.51]"
     ]
    },
    {
     "name": "stdout",
     "output_type": "stream",
     "text": [
      "\r",
      "Epoch 112/600:  19%|█▊        | 112/600 [07:23<32:11,  3.96s/it, v_num=p2_1, total_loss_train=910, kl_local_train=108, tardis_age_0_train=6.17, tardis_integration_donor_0_train=7.51]"
     ]
    },
    {
     "name": "stdout",
     "output_type": "stream",
     "text": [
      "\r",
      "Epoch 112/600:  19%|█▊        | 112/600 [07:23<32:11,  3.96s/it, v_num=p2_1, total_loss_train=911, kl_local_train=106, tardis_age_0_train=6.36, tardis_integration_donor_0_train=7.62]"
     ]
    },
    {
     "name": "stdout",
     "output_type": "stream",
     "text": [
      "\r",
      "Epoch 113/600:  19%|█▊        | 112/600 [07:23<32:11,  3.96s/it, v_num=p2_1, total_loss_train=911, kl_local_train=106, tardis_age_0_train=6.36, tardis_integration_donor_0_train=7.62]"
     ]
    },
    {
     "name": "stdout",
     "output_type": "stream",
     "text": [
      "\r",
      "Epoch 113/600:  19%|█▉        | 113/600 [07:27<32:06,  3.96s/it, v_num=p2_1, total_loss_train=911, kl_local_train=106, tardis_age_0_train=6.36, tardis_integration_donor_0_train=7.62]"
     ]
    },
    {
     "name": "stdout",
     "output_type": "stream",
     "text": [
      "\r",
      "Epoch 113/600:  19%|█▉        | 113/600 [07:27<32:06,  3.96s/it, v_num=p2_1, total_loss_train=911, kl_local_train=106, tardis_age_0_train=6.35, tardis_integration_donor_0_train=7.64]"
     ]
    },
    {
     "name": "stdout",
     "output_type": "stream",
     "text": [
      "\r",
      "Epoch 114/600:  19%|█▉        | 113/600 [07:27<32:06,  3.96s/it, v_num=p2_1, total_loss_train=911, kl_local_train=106, tardis_age_0_train=6.35, tardis_integration_donor_0_train=7.64]"
     ]
    },
    {
     "name": "stdout",
     "output_type": "stream",
     "text": [
      "\r",
      "Epoch 114/600:  19%|█▉        | 114/600 [07:31<32:08,  3.97s/it, v_num=p2_1, total_loss_train=911, kl_local_train=106, tardis_age_0_train=6.35, tardis_integration_donor_0_train=7.64]"
     ]
    },
    {
     "name": "stdout",
     "output_type": "stream",
     "text": [
      "\r",
      "Epoch 114/600:  19%|█▉        | 114/600 [07:31<32:08,  3.97s/it, v_num=p2_1, total_loss_train=909, kl_local_train=108, tardis_age_0_train=6.24, tardis_integration_donor_0_train=7.33]"
     ]
    },
    {
     "name": "stdout",
     "output_type": "stream",
     "text": [
      "\r",
      "Epoch 115/600:  19%|█▉        | 114/600 [07:31<32:08,  3.97s/it, v_num=p2_1, total_loss_train=909, kl_local_train=108, tardis_age_0_train=6.24, tardis_integration_donor_0_train=7.33]"
     ]
    },
    {
     "name": "stdout",
     "output_type": "stream",
     "text": [
      "\r",
      "Epoch 115/600:  19%|█▉        | 115/600 [07:35<32:05,  3.97s/it, v_num=p2_1, total_loss_train=909, kl_local_train=108, tardis_age_0_train=6.24, tardis_integration_donor_0_train=7.33]"
     ]
    },
    {
     "name": "stdout",
     "output_type": "stream",
     "text": [
      "\r",
      "Epoch 115/600:  19%|█▉        | 115/600 [07:35<32:05,  3.97s/it, v_num=p2_1, total_loss_train=910, kl_local_train=107, tardis_age_0_train=6.44, tardis_integration_donor_0_train=7.46]"
     ]
    },
    {
     "name": "stdout",
     "output_type": "stream",
     "text": [
      "\r",
      "Epoch 116/600:  19%|█▉        | 115/600 [07:35<32:05,  3.97s/it, v_num=p2_1, total_loss_train=910, kl_local_train=107, tardis_age_0_train=6.44, tardis_integration_donor_0_train=7.46]"
     ]
    },
    {
     "name": "stdout",
     "output_type": "stream",
     "text": [
      "\r",
      "Epoch 116/600:  19%|█▉        | 116/600 [07:39<31:59,  3.97s/it, v_num=p2_1, total_loss_train=910, kl_local_train=107, tardis_age_0_train=6.44, tardis_integration_donor_0_train=7.46]"
     ]
    },
    {
     "name": "stdout",
     "output_type": "stream",
     "text": [
      "\r",
      "Epoch 116/600:  19%|█▉        | 116/600 [07:39<31:59,  3.97s/it, v_num=p2_1, total_loss_train=909, kl_local_train=105, tardis_age_0_train=6.45, tardis_integration_donor_0_train=7.55]"
     ]
    },
    {
     "name": "stdout",
     "output_type": "stream",
     "text": [
      "\r",
      "Epoch 117/600:  19%|█▉        | 116/600 [07:39<31:59,  3.97s/it, v_num=p2_1, total_loss_train=909, kl_local_train=105, tardis_age_0_train=6.45, tardis_integration_donor_0_train=7.55]"
     ]
    },
    {
     "name": "stdout",
     "output_type": "stream",
     "text": [
      "\r",
      "Epoch 117/600:  20%|█▉        | 117/600 [07:43<31:52,  3.96s/it, v_num=p2_1, total_loss_train=909, kl_local_train=105, tardis_age_0_train=6.45, tardis_integration_donor_0_train=7.55]"
     ]
    },
    {
     "name": "stdout",
     "output_type": "stream",
     "text": [
      "\r",
      "Epoch 117/600:  20%|█▉        | 117/600 [07:43<31:52,  3.96s/it, v_num=p2_1, total_loss_train=910, kl_local_train=104, tardis_age_0_train=6.51, tardis_integration_donor_0_train=7.77]"
     ]
    },
    {
     "name": "stdout",
     "output_type": "stream",
     "text": [
      "\r",
      "Epoch 118/600:  20%|█▉        | 117/600 [07:43<31:52,  3.96s/it, v_num=p2_1, total_loss_train=910, kl_local_train=104, tardis_age_0_train=6.51, tardis_integration_donor_0_train=7.77]"
     ]
    },
    {
     "name": "stdout",
     "output_type": "stream",
     "text": [
      "\r",
      "Epoch 118/600:  20%|█▉        | 118/600 [07:47<31:46,  3.96s/it, v_num=p2_1, total_loss_train=910, kl_local_train=104, tardis_age_0_train=6.51, tardis_integration_donor_0_train=7.77]"
     ]
    },
    {
     "name": "stdout",
     "output_type": "stream",
     "text": [
      "\r",
      "Epoch 118/600:  20%|█▉        | 118/600 [07:47<31:46,  3.96s/it, v_num=p2_1, total_loss_train=909, kl_local_train=105, tardis_age_0_train=6.46, tardis_integration_donor_0_train=7.67]"
     ]
    },
    {
     "name": "stdout",
     "output_type": "stream",
     "text": [
      "\r",
      "Epoch 119/600:  20%|█▉        | 118/600 [07:47<31:46,  3.96s/it, v_num=p2_1, total_loss_train=909, kl_local_train=105, tardis_age_0_train=6.46, tardis_integration_donor_0_train=7.67]"
     ]
    },
    {
     "name": "stdout",
     "output_type": "stream",
     "text": [
      "\r",
      "Epoch 119/600:  20%|█▉        | 119/600 [07:51<31:40,  3.95s/it, v_num=p2_1, total_loss_train=909, kl_local_train=105, tardis_age_0_train=6.46, tardis_integration_donor_0_train=7.67]"
     ]
    },
    {
     "name": "stdout",
     "output_type": "stream",
     "text": [
      "\r",
      "Epoch 119/600:  20%|█▉        | 119/600 [07:51<31:40,  3.95s/it, v_num=p2_1, total_loss_train=908, kl_local_train=105, tardis_age_0_train=6.46, tardis_integration_donor_0_train=7.66]"
     ]
    },
    {
     "name": "stdout",
     "output_type": "stream",
     "text": [
      "\r",
      "Epoch 120/600:  20%|█▉        | 119/600 [07:51<31:40,  3.95s/it, v_num=p2_1, total_loss_train=908, kl_local_train=105, tardis_age_0_train=6.46, tardis_integration_donor_0_train=7.66]"
     ]
    },
    {
     "name": "stdout",
     "output_type": "stream",
     "text": [
      "\r",
      "Epoch 120/600:  20%|██        | 120/600 [07:55<31:34,  3.95s/it, v_num=p2_1, total_loss_train=908, kl_local_train=105, tardis_age_0_train=6.46, tardis_integration_donor_0_train=7.66]"
     ]
    },
    {
     "name": "stdout",
     "output_type": "stream",
     "text": [
      "\r",
      "Epoch 120/600:  20%|██        | 120/600 [07:55<31:34,  3.95s/it, v_num=p2_1, total_loss_train=909, kl_local_train=103, tardis_age_0_train=6.57, tardis_integration_donor_0_train=7.76]"
     ]
    },
    {
     "name": "stdout",
     "output_type": "stream",
     "text": [
      "\r",
      "Epoch 121/600:  20%|██        | 120/600 [07:55<31:34,  3.95s/it, v_num=p2_1, total_loss_train=909, kl_local_train=103, tardis_age_0_train=6.57, tardis_integration_donor_0_train=7.76]"
     ]
    },
    {
     "name": "stdout",
     "output_type": "stream",
     "text": [
      "\r",
      "Epoch 121/600:  20%|██        | 121/600 [07:59<31:30,  3.95s/it, v_num=p2_1, total_loss_train=909, kl_local_train=103, tardis_age_0_train=6.57, tardis_integration_donor_0_train=7.76]"
     ]
    },
    {
     "name": "stdout",
     "output_type": "stream",
     "text": [
      "\r",
      "Epoch 121/600:  20%|██        | 121/600 [07:59<31:30,  3.95s/it, v_num=p2_1, total_loss_train=909, kl_local_train=104, tardis_age_0_train=6.51, tardis_integration_donor_0_train=7.78]"
     ]
    },
    {
     "name": "stdout",
     "output_type": "stream",
     "text": [
      "\r",
      "Epoch 122/600:  20%|██        | 121/600 [07:59<31:30,  3.95s/it, v_num=p2_1, total_loss_train=909, kl_local_train=104, tardis_age_0_train=6.51, tardis_integration_donor_0_train=7.78]"
     ]
    },
    {
     "name": "stdout",
     "output_type": "stream",
     "text": [
      "\r",
      "Epoch 122/600:  20%|██        | 122/600 [08:03<31:27,  3.95s/it, v_num=p2_1, total_loss_train=909, kl_local_train=104, tardis_age_0_train=6.51, tardis_integration_donor_0_train=7.78]"
     ]
    },
    {
     "name": "stdout",
     "output_type": "stream",
     "text": [
      "\r",
      "Epoch 122/600:  20%|██        | 122/600 [08:03<31:27,  3.95s/it, v_num=p2_1, total_loss_train=908, kl_local_train=102, tardis_age_0_train=6.65, tardis_integration_donor_0_train=7.76]"
     ]
    },
    {
     "name": "stdout",
     "output_type": "stream",
     "text": [
      "\r",
      "Epoch 123/600:  20%|██        | 122/600 [08:03<31:27,  3.95s/it, v_num=p2_1, total_loss_train=908, kl_local_train=102, tardis_age_0_train=6.65, tardis_integration_donor_0_train=7.76]"
     ]
    },
    {
     "name": "stdout",
     "output_type": "stream",
     "text": [
      "\r",
      "Epoch 123/600:  20%|██        | 123/600 [08:07<31:25,  3.95s/it, v_num=p2_1, total_loss_train=908, kl_local_train=102, tardis_age_0_train=6.65, tardis_integration_donor_0_train=7.76]"
     ]
    },
    {
     "name": "stdout",
     "output_type": "stream",
     "text": [
      "\r",
      "Epoch 123/600:  20%|██        | 123/600 [08:07<31:25,  3.95s/it, v_num=p2_1, total_loss_train=908, kl_local_train=102, tardis_age_0_train=6.5, tardis_integration_donor_0_train=7.92] "
     ]
    },
    {
     "name": "stdout",
     "output_type": "stream",
     "text": [
      "\r",
      "Epoch 124/600:  20%|██        | 123/600 [08:07<31:25,  3.95s/it, v_num=p2_1, total_loss_train=908, kl_local_train=102, tardis_age_0_train=6.5, tardis_integration_donor_0_train=7.92]"
     ]
    },
    {
     "name": "stdout",
     "output_type": "stream",
     "text": [
      "\r",
      "Epoch 124/600:  21%|██        | 124/600 [08:11<31:21,  3.95s/it, v_num=p2_1, total_loss_train=908, kl_local_train=102, tardis_age_0_train=6.5, tardis_integration_donor_0_train=7.92]"
     ]
    },
    {
     "name": "stdout",
     "output_type": "stream",
     "text": [
      "\r",
      "Epoch 124/600:  21%|██        | 124/600 [08:11<31:21,  3.95s/it, v_num=p2_1, total_loss_train=908, kl_local_train=101, tardis_age_0_train=6.62, tardis_integration_donor_0_train=7.77]"
     ]
    },
    {
     "name": "stdout",
     "output_type": "stream",
     "text": [
      "\r",
      "Epoch 125/600:  21%|██        | 124/600 [08:11<31:21,  3.95s/it, v_num=p2_1, total_loss_train=908, kl_local_train=101, tardis_age_0_train=6.62, tardis_integration_donor_0_train=7.77]"
     ]
    },
    {
     "name": "stdout",
     "output_type": "stream",
     "text": [
      "\r",
      "Epoch 125/600:  21%|██        | 125/600 [08:15<31:15,  3.95s/it, v_num=p2_1, total_loss_train=908, kl_local_train=101, tardis_age_0_train=6.62, tardis_integration_donor_0_train=7.77]"
     ]
    },
    {
     "name": "stdout",
     "output_type": "stream",
     "text": [
      "\r",
      "Epoch 125/600:  21%|██        | 125/600 [08:15<31:15,  3.95s/it, v_num=p2_1, total_loss_train=907, kl_local_train=99.9, tardis_age_0_train=6.65, tardis_integration_donor_0_train=7.83]"
     ]
    },
    {
     "name": "stdout",
     "output_type": "stream",
     "text": [
      "\r",
      "Epoch 126/600:  21%|██        | 125/600 [08:15<31:15,  3.95s/it, v_num=p2_1, total_loss_train=907, kl_local_train=99.9, tardis_age_0_train=6.65, tardis_integration_donor_0_train=7.83]"
     ]
    },
    {
     "name": "stdout",
     "output_type": "stream",
     "text": [
      "\r",
      "Epoch 126/600:  21%|██        | 126/600 [08:19<31:12,  3.95s/it, v_num=p2_1, total_loss_train=907, kl_local_train=99.9, tardis_age_0_train=6.65, tardis_integration_donor_0_train=7.83]"
     ]
    },
    {
     "name": "stdout",
     "output_type": "stream",
     "text": [
      "\r",
      "Epoch 126/600:  21%|██        | 126/600 [08:19<31:12,  3.95s/it, v_num=p2_1, total_loss_train=907, kl_local_train=99.9, tardis_age_0_train=6.7, tardis_integration_donor_0_train=7.91] "
     ]
    },
    {
     "name": "stdout",
     "output_type": "stream",
     "text": [
      "\r",
      "Epoch 127/600:  21%|██        | 126/600 [08:19<31:12,  3.95s/it, v_num=p2_1, total_loss_train=907, kl_local_train=99.9, tardis_age_0_train=6.7, tardis_integration_donor_0_train=7.91]"
     ]
    },
    {
     "name": "stdout",
     "output_type": "stream",
     "text": [
      "\r",
      "Epoch 127/600:  21%|██        | 127/600 [08:23<31:10,  3.95s/it, v_num=p2_1, total_loss_train=907, kl_local_train=99.9, tardis_age_0_train=6.7, tardis_integration_donor_0_train=7.91]"
     ]
    },
    {
     "name": "stdout",
     "output_type": "stream",
     "text": [
      "\r",
      "Epoch 127/600:  21%|██        | 127/600 [08:23<31:10,  3.95s/it, v_num=p2_1, total_loss_train=907, kl_local_train=102, tardis_age_0_train=6.56, tardis_integration_donor_0_train=7.87]"
     ]
    },
    {
     "name": "stdout",
     "output_type": "stream",
     "text": [
      "\r",
      "Epoch 128/600:  21%|██        | 127/600 [08:23<31:10,  3.95s/it, v_num=p2_1, total_loss_train=907, kl_local_train=102, tardis_age_0_train=6.56, tardis_integration_donor_0_train=7.87]"
     ]
    },
    {
     "name": "stdout",
     "output_type": "stream",
     "text": [
      "\r",
      "Epoch 128/600:  21%|██▏       | 128/600 [08:27<31:03,  3.95s/it, v_num=p2_1, total_loss_train=907, kl_local_train=102, tardis_age_0_train=6.56, tardis_integration_donor_0_train=7.87]"
     ]
    },
    {
     "name": "stdout",
     "output_type": "stream",
     "text": [
      "\r",
      "Epoch 128/600:  21%|██▏       | 128/600 [08:27<31:03,  3.95s/it, v_num=p2_1, total_loss_train=907, kl_local_train=101, tardis_age_0_train=6.52, tardis_integration_donor_0_train=7.91]"
     ]
    },
    {
     "name": "stdout",
     "output_type": "stream",
     "text": [
      "\r",
      "Epoch 129/600:  21%|██▏       | 128/600 [08:27<31:03,  3.95s/it, v_num=p2_1, total_loss_train=907, kl_local_train=101, tardis_age_0_train=6.52, tardis_integration_donor_0_train=7.91]"
     ]
    },
    {
     "name": "stdout",
     "output_type": "stream",
     "text": [
      "\r",
      "Epoch 129/600:  22%|██▏       | 129/600 [08:31<30:55,  3.94s/it, v_num=p2_1, total_loss_train=907, kl_local_train=101, tardis_age_0_train=6.52, tardis_integration_donor_0_train=7.91]"
     ]
    },
    {
     "name": "stdout",
     "output_type": "stream",
     "text": [
      "\r",
      "Epoch 129/600:  22%|██▏       | 129/600 [08:31<30:55,  3.94s/it, v_num=p2_1, total_loss_train=907, kl_local_train=99.1, tardis_age_0_train=6.71, tardis_integration_donor_0_train=7.95]"
     ]
    },
    {
     "name": "stdout",
     "output_type": "stream",
     "text": [
      "\r",
      "Epoch 130/600:  22%|██▏       | 129/600 [08:31<30:55,  3.94s/it, v_num=p2_1, total_loss_train=907, kl_local_train=99.1, tardis_age_0_train=6.71, tardis_integration_donor_0_train=7.95]"
     ]
    },
    {
     "name": "stdout",
     "output_type": "stream",
     "text": [
      "\r",
      "Epoch 130/600:  22%|██▏       | 130/600 [08:35<30:53,  3.94s/it, v_num=p2_1, total_loss_train=907, kl_local_train=99.1, tardis_age_0_train=6.71, tardis_integration_donor_0_train=7.95]"
     ]
    },
    {
     "name": "stdout",
     "output_type": "stream",
     "text": [
      "\r",
      "Epoch 130/600:  22%|██▏       | 130/600 [08:35<30:53,  3.94s/it, v_num=p2_1, total_loss_train=906, kl_local_train=99, tardis_age_0_train=6.68, tardis_integration_donor_0_train=7.87]  "
     ]
    },
    {
     "name": "stdout",
     "output_type": "stream",
     "text": [
      "\r",
      "Epoch 131/600:  22%|██▏       | 130/600 [08:35<30:53,  3.94s/it, v_num=p2_1, total_loss_train=906, kl_local_train=99, tardis_age_0_train=6.68, tardis_integration_donor_0_train=7.87]"
     ]
    },
    {
     "name": "stdout",
     "output_type": "stream",
     "text": [
      "\r",
      "Epoch 131/600:  22%|██▏       | 131/600 [08:39<30:52,  3.95s/it, v_num=p2_1, total_loss_train=906, kl_local_train=99, tardis_age_0_train=6.68, tardis_integration_donor_0_train=7.87]"
     ]
    },
    {
     "name": "stdout",
     "output_type": "stream",
     "text": [
      "\r",
      "Epoch 131/600:  22%|██▏       | 131/600 [08:39<30:52,  3.95s/it, v_num=p2_1, total_loss_train=906, kl_local_train=98.3, tardis_age_0_train=6.72, tardis_integration_donor_0_train=7.92]"
     ]
    },
    {
     "name": "stdout",
     "output_type": "stream",
     "text": [
      "\r",
      "Epoch 132/600:  22%|██▏       | 131/600 [08:39<30:52,  3.95s/it, v_num=p2_1, total_loss_train=906, kl_local_train=98.3, tardis_age_0_train=6.72, tardis_integration_donor_0_train=7.92]"
     ]
    },
    {
     "name": "stdout",
     "output_type": "stream",
     "text": [
      "\r",
      "Epoch 132/600:  22%|██▏       | 132/600 [08:42<30:44,  3.94s/it, v_num=p2_1, total_loss_train=906, kl_local_train=98.3, tardis_age_0_train=6.72, tardis_integration_donor_0_train=7.92]"
     ]
    },
    {
     "name": "stdout",
     "output_type": "stream",
     "text": [
      "\r",
      "Epoch 132/600:  22%|██▏       | 132/600 [08:42<30:44,  3.94s/it, v_num=p2_1, total_loss_train=906, kl_local_train=98.3, tardis_age_0_train=6.77, tardis_integration_donor_0_train=7.98]"
     ]
    },
    {
     "name": "stdout",
     "output_type": "stream",
     "text": [
      "\r",
      "Epoch 133/600:  22%|██▏       | 132/600 [08:42<30:44,  3.94s/it, v_num=p2_1, total_loss_train=906, kl_local_train=98.3, tardis_age_0_train=6.77, tardis_integration_donor_0_train=7.98]"
     ]
    },
    {
     "name": "stdout",
     "output_type": "stream",
     "text": [
      "\r",
      "Epoch 133/600:  22%|██▏       | 133/600 [08:46<30:39,  3.94s/it, v_num=p2_1, total_loss_train=906, kl_local_train=98.3, tardis_age_0_train=6.77, tardis_integration_donor_0_train=7.98]"
     ]
    },
    {
     "name": "stdout",
     "output_type": "stream",
     "text": [
      "\r",
      "Epoch 133/600:  22%|██▏       | 133/600 [08:46<30:39,  3.94s/it, v_num=p2_1, total_loss_train=906, kl_local_train=97.8, tardis_age_0_train=6.82, tardis_integration_donor_0_train=7.9] "
     ]
    },
    {
     "name": "stdout",
     "output_type": "stream",
     "text": [
      "\r",
      "Epoch 134/600:  22%|██▏       | 133/600 [08:46<30:39,  3.94s/it, v_num=p2_1, total_loss_train=906, kl_local_train=97.8, tardis_age_0_train=6.82, tardis_integration_donor_0_train=7.9]"
     ]
    },
    {
     "name": "stdout",
     "output_type": "stream",
     "text": [
      "\r",
      "Epoch 134/600:  22%|██▏       | 134/600 [08:50<30:34,  3.94s/it, v_num=p2_1, total_loss_train=906, kl_local_train=97.8, tardis_age_0_train=6.82, tardis_integration_donor_0_train=7.9]"
     ]
    },
    {
     "name": "stdout",
     "output_type": "stream",
     "text": [
      "\r",
      "Epoch 134/600:  22%|██▏       | 134/600 [08:50<30:34,  3.94s/it, v_num=p2_1, total_loss_train=906, kl_local_train=96.7, tardis_age_0_train=6.69, tardis_integration_donor_0_train=8.17]"
     ]
    },
    {
     "name": "stdout",
     "output_type": "stream",
     "text": [
      "\r",
      "Epoch 135/600:  22%|██▏       | 134/600 [08:50<30:34,  3.94s/it, v_num=p2_1, total_loss_train=906, kl_local_train=96.7, tardis_age_0_train=6.69, tardis_integration_donor_0_train=8.17]"
     ]
    },
    {
     "name": "stdout",
     "output_type": "stream",
     "text": [
      "\r",
      "Epoch 135/600:  22%|██▎       | 135/600 [08:54<30:28,  3.93s/it, v_num=p2_1, total_loss_train=906, kl_local_train=96.7, tardis_age_0_train=6.69, tardis_integration_donor_0_train=8.17]"
     ]
    },
    {
     "name": "stdout",
     "output_type": "stream",
     "text": [
      "\r",
      "Epoch 135/600:  22%|██▎       | 135/600 [08:54<30:28,  3.93s/it, v_num=p2_1, total_loss_train=905, kl_local_train=96.6, tardis_age_0_train=6.8, tardis_integration_donor_0_train=7.97] "
     ]
    },
    {
     "name": "stdout",
     "output_type": "stream",
     "text": [
      "\r",
      "Epoch 136/600:  22%|██▎       | 135/600 [08:54<30:28,  3.93s/it, v_num=p2_1, total_loss_train=905, kl_local_train=96.6, tardis_age_0_train=6.8, tardis_integration_donor_0_train=7.97]"
     ]
    },
    {
     "name": "stdout",
     "output_type": "stream",
     "text": [
      "\r",
      "Epoch 136/600:  23%|██▎       | 136/600 [08:58<30:30,  3.95s/it, v_num=p2_1, total_loss_train=905, kl_local_train=96.6, tardis_age_0_train=6.8, tardis_integration_donor_0_train=7.97]"
     ]
    },
    {
     "name": "stdout",
     "output_type": "stream",
     "text": [
      "\r",
      "Epoch 136/600:  23%|██▎       | 136/600 [08:58<30:30,  3.95s/it, v_num=p2_1, total_loss_train=905, kl_local_train=98.1, tardis_age_0_train=6.67, tardis_integration_donor_0_train=7.89]"
     ]
    },
    {
     "name": "stdout",
     "output_type": "stream",
     "text": [
      "\r",
      "Epoch 137/600:  23%|██▎       | 136/600 [08:58<30:30,  3.95s/it, v_num=p2_1, total_loss_train=905, kl_local_train=98.1, tardis_age_0_train=6.67, tardis_integration_donor_0_train=7.89]"
     ]
    },
    {
     "name": "stdout",
     "output_type": "stream",
     "text": [
      "\r",
      "Epoch 137/600:  23%|██▎       | 137/600 [09:02<30:27,  3.95s/it, v_num=p2_1, total_loss_train=905, kl_local_train=98.1, tardis_age_0_train=6.67, tardis_integration_donor_0_train=7.89]"
     ]
    },
    {
     "name": "stdout",
     "output_type": "stream",
     "text": [
      "\r",
      "Epoch 137/600:  23%|██▎       | 137/600 [09:02<30:27,  3.95s/it, v_num=p2_1, total_loss_train=905, kl_local_train=97.2, tardis_age_0_train=6.68, tardis_integration_donor_0_train=7.9] "
     ]
    },
    {
     "name": "stdout",
     "output_type": "stream",
     "text": [
      "\r",
      "Epoch 138/600:  23%|██▎       | 137/600 [09:02<30:27,  3.95s/it, v_num=p2_1, total_loss_train=905, kl_local_train=97.2, tardis_age_0_train=6.68, tardis_integration_donor_0_train=7.9]"
     ]
    },
    {
     "name": "stdout",
     "output_type": "stream",
     "text": [
      "\r",
      "Epoch 138/600:  23%|██▎       | 138/600 [09:06<30:22,  3.95s/it, v_num=p2_1, total_loss_train=905, kl_local_train=97.2, tardis_age_0_train=6.68, tardis_integration_donor_0_train=7.9]"
     ]
    },
    {
     "name": "stdout",
     "output_type": "stream",
     "text": [
      "\r",
      "Epoch 138/600:  23%|██▎       | 138/600 [09:06<30:22,  3.95s/it, v_num=p2_1, total_loss_train=905, kl_local_train=95.8, tardis_age_0_train=6.9, tardis_integration_donor_0_train=7.99]"
     ]
    },
    {
     "name": "stdout",
     "output_type": "stream",
     "text": [
      "\r",
      "Epoch 139/600:  23%|██▎       | 138/600 [09:06<30:22,  3.95s/it, v_num=p2_1, total_loss_train=905, kl_local_train=95.8, tardis_age_0_train=6.9, tardis_integration_donor_0_train=7.99]"
     ]
    },
    {
     "name": "stdout",
     "output_type": "stream",
     "text": [
      "\r",
      "Epoch 139/600:  23%|██▎       | 139/600 [09:10<30:19,  3.95s/it, v_num=p2_1, total_loss_train=905, kl_local_train=95.8, tardis_age_0_train=6.9, tardis_integration_donor_0_train=7.99]"
     ]
    },
    {
     "name": "stdout",
     "output_type": "stream",
     "text": [
      "\r",
      "Epoch 139/600:  23%|██▎       | 139/600 [09:10<30:19,  3.95s/it, v_num=p2_1, total_loss_train=904, kl_local_train=96.3, tardis_age_0_train=6.83, tardis_integration_donor_0_train=7.9]"
     ]
    },
    {
     "name": "stdout",
     "output_type": "stream",
     "text": [
      "\r",
      "Epoch 140/600:  23%|██▎       | 139/600 [09:10<30:19,  3.95s/it, v_num=p2_1, total_loss_train=904, kl_local_train=96.3, tardis_age_0_train=6.83, tardis_integration_donor_0_train=7.9]"
     ]
    },
    {
     "name": "stdout",
     "output_type": "stream",
     "text": [
      "\r",
      "Epoch 140/600:  23%|██▎       | 140/600 [09:14<30:17,  3.95s/it, v_num=p2_1, total_loss_train=904, kl_local_train=96.3, tardis_age_0_train=6.83, tardis_integration_donor_0_train=7.9]"
     ]
    },
    {
     "name": "stdout",
     "output_type": "stream",
     "text": [
      "\r",
      "Epoch 140/600:  23%|██▎       | 140/600 [09:14<30:17,  3.95s/it, v_num=p2_1, total_loss_train=904, kl_local_train=94.4, tardis_age_0_train=6.95, tardis_integration_donor_0_train=8.28]"
     ]
    },
    {
     "name": "stdout",
     "output_type": "stream",
     "text": [
      "\r",
      "Epoch 141/600:  23%|██▎       | 140/600 [09:14<30:17,  3.95s/it, v_num=p2_1, total_loss_train=904, kl_local_train=94.4, tardis_age_0_train=6.95, tardis_integration_donor_0_train=8.28]"
     ]
    },
    {
     "name": "stdout",
     "output_type": "stream",
     "text": [
      "\r",
      "Epoch 141/600:  24%|██▎       | 141/600 [09:18<30:12,  3.95s/it, v_num=p2_1, total_loss_train=904, kl_local_train=94.4, tardis_age_0_train=6.95, tardis_integration_donor_0_train=8.28]"
     ]
    },
    {
     "name": "stdout",
     "output_type": "stream",
     "text": [
      "\r",
      "Epoch 141/600:  24%|██▎       | 141/600 [09:18<30:12,  3.95s/it, v_num=p2_1, total_loss_train=905, kl_local_train=95.4, tardis_age_0_train=6.81, tardis_integration_donor_0_train=8.22]"
     ]
    },
    {
     "name": "stdout",
     "output_type": "stream",
     "text": [
      "\r",
      "Epoch 142/600:  24%|██▎       | 141/600 [09:18<30:12,  3.95s/it, v_num=p2_1, total_loss_train=905, kl_local_train=95.4, tardis_age_0_train=6.81, tardis_integration_donor_0_train=8.22]"
     ]
    },
    {
     "name": "stdout",
     "output_type": "stream",
     "text": [
      "\r",
      "Epoch 142/600:  24%|██▎       | 142/600 [09:22<30:04,  3.94s/it, v_num=p2_1, total_loss_train=905, kl_local_train=95.4, tardis_age_0_train=6.81, tardis_integration_donor_0_train=8.22]"
     ]
    },
    {
     "name": "stdout",
     "output_type": "stream",
     "text": [
      "\r",
      "Epoch 142/600:  24%|██▎       | 142/600 [09:22<30:04,  3.94s/it, v_num=p2_1, total_loss_train=904, kl_local_train=96.4, tardis_age_0_train=6.79, tardis_integration_donor_0_train=8.15]"
     ]
    },
    {
     "name": "stdout",
     "output_type": "stream",
     "text": [
      "\r",
      "Epoch 143/600:  24%|██▎       | 142/600 [09:22<30:04,  3.94s/it, v_num=p2_1, total_loss_train=904, kl_local_train=96.4, tardis_age_0_train=6.79, tardis_integration_donor_0_train=8.15]"
     ]
    },
    {
     "name": "stdout",
     "output_type": "stream",
     "text": [
      "\r",
      "Epoch 143/600:  24%|██▍       | 143/600 [09:26<29:58,  3.94s/it, v_num=p2_1, total_loss_train=904, kl_local_train=96.4, tardis_age_0_train=6.79, tardis_integration_donor_0_train=8.15]"
     ]
    },
    {
     "name": "stdout",
     "output_type": "stream",
     "text": [
      "\r",
      "Epoch 143/600:  24%|██▍       | 143/600 [09:26<29:58,  3.94s/it, v_num=p2_1, total_loss_train=903, kl_local_train=95.5, tardis_age_0_train=6.84, tardis_integration_donor_0_train=8.08]"
     ]
    },
    {
     "name": "stdout",
     "output_type": "stream",
     "text": [
      "\r",
      "Epoch 144/600:  24%|██▍       | 143/600 [09:26<29:58,  3.94s/it, v_num=p2_1, total_loss_train=903, kl_local_train=95.5, tardis_age_0_train=6.84, tardis_integration_donor_0_train=8.08]"
     ]
    },
    {
     "name": "stdout",
     "output_type": "stream",
     "text": [
      "\r",
      "Epoch 144/600:  24%|██▍       | 144/600 [09:30<29:57,  3.94s/it, v_num=p2_1, total_loss_train=903, kl_local_train=95.5, tardis_age_0_train=6.84, tardis_integration_donor_0_train=8.08]"
     ]
    },
    {
     "name": "stdout",
     "output_type": "stream",
     "text": [
      "\r",
      "Epoch 144/600:  24%|██▍       | 144/600 [09:30<29:57,  3.94s/it, v_num=p2_1, total_loss_train=903, kl_local_train=94.6, tardis_age_0_train=6.91, tardis_integration_donor_0_train=8.09]"
     ]
    },
    {
     "name": "stdout",
     "output_type": "stream",
     "text": [
      "\r",
      "Epoch 145/600:  24%|██▍       | 144/600 [09:30<29:57,  3.94s/it, v_num=p2_1, total_loss_train=903, kl_local_train=94.6, tardis_age_0_train=6.91, tardis_integration_donor_0_train=8.09]"
     ]
    },
    {
     "name": "stdout",
     "output_type": "stream",
     "text": [
      "\r",
      "Epoch 145/600:  24%|██▍       | 145/600 [09:34<29:54,  3.94s/it, v_num=p2_1, total_loss_train=903, kl_local_train=94.6, tardis_age_0_train=6.91, tardis_integration_donor_0_train=8.09]"
     ]
    },
    {
     "name": "stdout",
     "output_type": "stream",
     "text": [
      "\r",
      "Epoch 145/600:  24%|██▍       | 145/600 [09:34<29:54,  3.94s/it, v_num=p2_1, total_loss_train=903, kl_local_train=94.6, tardis_age_0_train=6.98, tardis_integration_donor_0_train=7.95]"
     ]
    },
    {
     "name": "stdout",
     "output_type": "stream",
     "text": [
      "\r",
      "Epoch 146/600:  24%|██▍       | 145/600 [09:34<29:54,  3.94s/it, v_num=p2_1, total_loss_train=903, kl_local_train=94.6, tardis_age_0_train=6.98, tardis_integration_donor_0_train=7.95]"
     ]
    },
    {
     "name": "stdout",
     "output_type": "stream",
     "text": [
      "\r",
      "Epoch 146/600:  24%|██▍       | 146/600 [09:38<29:47,  3.94s/it, v_num=p2_1, total_loss_train=903, kl_local_train=94.6, tardis_age_0_train=6.98, tardis_integration_donor_0_train=7.95]"
     ]
    },
    {
     "name": "stdout",
     "output_type": "stream",
     "text": [
      "\r",
      "Epoch 146/600:  24%|██▍       | 146/600 [09:38<29:47,  3.94s/it, v_num=p2_1, total_loss_train=903, kl_local_train=93.6, tardis_age_0_train=6.98, tardis_integration_donor_0_train=8.38]"
     ]
    },
    {
     "name": "stdout",
     "output_type": "stream",
     "text": [
      "\r",
      "Epoch 147/600:  24%|██▍       | 146/600 [09:38<29:47,  3.94s/it, v_num=p2_1, total_loss_train=903, kl_local_train=93.6, tardis_age_0_train=6.98, tardis_integration_donor_0_train=8.38]"
     ]
    },
    {
     "name": "stdout",
     "output_type": "stream",
     "text": [
      "\r",
      "Epoch 147/600:  24%|██▍       | 147/600 [09:42<29:46,  3.94s/it, v_num=p2_1, total_loss_train=903, kl_local_train=93.6, tardis_age_0_train=6.98, tardis_integration_donor_0_train=8.38]"
     ]
    },
    {
     "name": "stdout",
     "output_type": "stream",
     "text": [
      "\r",
      "Epoch 147/600:  24%|██▍       | 147/600 [09:42<29:46,  3.94s/it, v_num=p2_1, total_loss_train=903, kl_local_train=93, tardis_age_0_train=6.98, tardis_integration_donor_0_train=8.36]  "
     ]
    },
    {
     "name": "stdout",
     "output_type": "stream",
     "text": [
      "\r",
      "Epoch 148/600:  24%|██▍       | 147/600 [09:42<29:46,  3.94s/it, v_num=p2_1, total_loss_train=903, kl_local_train=93, tardis_age_0_train=6.98, tardis_integration_donor_0_train=8.36]"
     ]
    },
    {
     "name": "stdout",
     "output_type": "stream",
     "text": [
      "\r",
      "Epoch 148/600:  25%|██▍       | 148/600 [09:46<29:46,  3.95s/it, v_num=p2_1, total_loss_train=903, kl_local_train=93, tardis_age_0_train=6.98, tardis_integration_donor_0_train=8.36]"
     ]
    },
    {
     "name": "stdout",
     "output_type": "stream",
     "text": [
      "\r",
      "Epoch 148/600:  25%|██▍       | 148/600 [09:46<29:46,  3.95s/it, v_num=p2_1, total_loss_train=903, kl_local_train=93.2, tardis_age_0_train=6.96, tardis_integration_donor_0_train=8.12]"
     ]
    },
    {
     "name": "stdout",
     "output_type": "stream",
     "text": [
      "\r",
      "Epoch 149/600:  25%|██▍       | 148/600 [09:46<29:46,  3.95s/it, v_num=p2_1, total_loss_train=903, kl_local_train=93.2, tardis_age_0_train=6.96, tardis_integration_donor_0_train=8.12]"
     ]
    },
    {
     "name": "stdout",
     "output_type": "stream",
     "text": [
      "\r",
      "Epoch 149/600:  25%|██▍       | 149/600 [09:49<29:39,  3.95s/it, v_num=p2_1, total_loss_train=903, kl_local_train=93.2, tardis_age_0_train=6.96, tardis_integration_donor_0_train=8.12]"
     ]
    },
    {
     "name": "stdout",
     "output_type": "stream",
     "text": [
      "\r",
      "Epoch 149/600:  25%|██▍       | 149/600 [09:49<29:39,  3.95s/it, v_num=p2_1, total_loss_train=902, kl_local_train=92.4, tardis_age_0_train=6.87, tardis_integration_donor_0_train=8.16]"
     ]
    },
    {
     "name": "stdout",
     "output_type": "stream",
     "text": [
      "\r",
      "Epoch 150/600:  25%|██▍       | 149/600 [09:49<29:39,  3.95s/it, v_num=p2_1, total_loss_train=902, kl_local_train=92.4, tardis_age_0_train=6.87, tardis_integration_donor_0_train=8.16]"
     ]
    },
    {
     "name": "stdout",
     "output_type": "stream",
     "text": [
      "\r",
      "Epoch 150/600:  25%|██▌       | 150/600 [09:53<29:36,  3.95s/it, v_num=p2_1, total_loss_train=902, kl_local_train=92.4, tardis_age_0_train=6.87, tardis_integration_donor_0_train=8.16]"
     ]
    },
    {
     "name": "stdout",
     "output_type": "stream",
     "text": [
      "\r",
      "Epoch 150/600:  25%|██▌       | 150/600 [09:53<29:36,  3.95s/it, v_num=p2_1, total_loss_train=902, kl_local_train=91.8, tardis_age_0_train=7.06, tardis_integration_donor_0_train=8.17]"
     ]
    },
    {
     "name": "stdout",
     "output_type": "stream",
     "text": [
      "\r",
      "Epoch 151/600:  25%|██▌       | 150/600 [09:53<29:36,  3.95s/it, v_num=p2_1, total_loss_train=902, kl_local_train=91.8, tardis_age_0_train=7.06, tardis_integration_donor_0_train=8.17]"
     ]
    },
    {
     "name": "stdout",
     "output_type": "stream",
     "text": [
      "\r",
      "Epoch 151/600:  25%|██▌       | 151/600 [09:57<29:30,  3.94s/it, v_num=p2_1, total_loss_train=902, kl_local_train=91.8, tardis_age_0_train=7.06, tardis_integration_donor_0_train=8.17]"
     ]
    },
    {
     "name": "stdout",
     "output_type": "stream",
     "text": [
      "\r",
      "Epoch 151/600:  25%|██▌       | 151/600 [09:57<29:30,  3.94s/it, v_num=p2_1, total_loss_train=902, kl_local_train=91.9, tardis_age_0_train=6.99, tardis_integration_donor_0_train=8.32]"
     ]
    },
    {
     "name": "stdout",
     "output_type": "stream",
     "text": [
      "\r",
      "Epoch 152/600:  25%|██▌       | 151/600 [09:57<29:30,  3.94s/it, v_num=p2_1, total_loss_train=902, kl_local_train=91.9, tardis_age_0_train=6.99, tardis_integration_donor_0_train=8.32]"
     ]
    },
    {
     "name": "stdout",
     "output_type": "stream",
     "text": [
      "\r",
      "Epoch 152/600:  25%|██▌       | 152/600 [10:01<29:24,  3.94s/it, v_num=p2_1, total_loss_train=902, kl_local_train=91.9, tardis_age_0_train=6.99, tardis_integration_donor_0_train=8.32]"
     ]
    },
    {
     "name": "stdout",
     "output_type": "stream",
     "text": [
      "\r",
      "Epoch 152/600:  25%|██▌       | 152/600 [10:01<29:24,  3.94s/it, v_num=p2_1, total_loss_train=902, kl_local_train=91.2, tardis_age_0_train=7.08, tardis_integration_donor_0_train=8.43]"
     ]
    },
    {
     "name": "stdout",
     "output_type": "stream",
     "text": [
      "\r",
      "Epoch 153/600:  25%|██▌       | 152/600 [10:01<29:24,  3.94s/it, v_num=p2_1, total_loss_train=902, kl_local_train=91.2, tardis_age_0_train=7.08, tardis_integration_donor_0_train=8.43]"
     ]
    },
    {
     "name": "stdout",
     "output_type": "stream",
     "text": [
      "\r",
      "Epoch 153/600:  26%|██▌       | 153/600 [10:05<29:23,  3.95s/it, v_num=p2_1, total_loss_train=902, kl_local_train=91.2, tardis_age_0_train=7.08, tardis_integration_donor_0_train=8.43]"
     ]
    },
    {
     "name": "stdout",
     "output_type": "stream",
     "text": [
      "\r",
      "Epoch 153/600:  26%|██▌       | 153/600 [10:05<29:23,  3.95s/it, v_num=p2_1, total_loss_train=902, kl_local_train=90.9, tardis_age_0_train=7.01, tardis_integration_donor_0_train=8.4] "
     ]
    },
    {
     "name": "stdout",
     "output_type": "stream",
     "text": [
      "\r",
      "Epoch 154/600:  26%|██▌       | 153/600 [10:05<29:23,  3.95s/it, v_num=p2_1, total_loss_train=902, kl_local_train=90.9, tardis_age_0_train=7.01, tardis_integration_donor_0_train=8.4]"
     ]
    },
    {
     "name": "stdout",
     "output_type": "stream",
     "text": [
      "\r",
      "Epoch 154/600:  26%|██▌       | 154/600 [10:09<29:24,  3.96s/it, v_num=p2_1, total_loss_train=902, kl_local_train=90.9, tardis_age_0_train=7.01, tardis_integration_donor_0_train=8.4]"
     ]
    },
    {
     "name": "stdout",
     "output_type": "stream",
     "text": [
      "\r",
      "Epoch 154/600:  26%|██▌       | 154/600 [10:09<29:24,  3.96s/it, v_num=p2_1, total_loss_train=902, kl_local_train=90.6, tardis_age_0_train=7.15, tardis_integration_donor_0_train=8.41]"
     ]
    },
    {
     "name": "stdout",
     "output_type": "stream",
     "text": [
      "\r",
      "Epoch 155/600:  26%|██▌       | 154/600 [10:09<29:24,  3.96s/it, v_num=p2_1, total_loss_train=902, kl_local_train=90.6, tardis_age_0_train=7.15, tardis_integration_donor_0_train=8.41]"
     ]
    },
    {
     "name": "stdout",
     "output_type": "stream",
     "text": [
      "\r",
      "Epoch 155/600:  26%|██▌       | 155/600 [10:13<29:18,  3.95s/it, v_num=p2_1, total_loss_train=902, kl_local_train=90.6, tardis_age_0_train=7.15, tardis_integration_donor_0_train=8.41]"
     ]
    },
    {
     "name": "stdout",
     "output_type": "stream",
     "text": [
      "\r",
      "Epoch 155/600:  26%|██▌       | 155/600 [10:13<29:18,  3.95s/it, v_num=p2_1, total_loss_train=902, kl_local_train=90.6, tardis_age_0_train=7.28, tardis_integration_donor_0_train=8.37]"
     ]
    },
    {
     "name": "stdout",
     "output_type": "stream",
     "text": [
      "\r",
      "Epoch 156/600:  26%|██▌       | 155/600 [10:13<29:18,  3.95s/it, v_num=p2_1, total_loss_train=902, kl_local_train=90.6, tardis_age_0_train=7.28, tardis_integration_donor_0_train=8.37]"
     ]
    },
    {
     "name": "stdout",
     "output_type": "stream",
     "text": [
      "\r",
      "Epoch 156/600:  26%|██▌       | 156/600 [10:17<29:14,  3.95s/it, v_num=p2_1, total_loss_train=902, kl_local_train=90.6, tardis_age_0_train=7.28, tardis_integration_donor_0_train=8.37]"
     ]
    },
    {
     "name": "stdout",
     "output_type": "stream",
     "text": [
      "\r",
      "Epoch 156/600:  26%|██▌       | 156/600 [10:17<29:14,  3.95s/it, v_num=p2_1, total_loss_train=901, kl_local_train=90.6, tardis_age_0_train=7.14, tardis_integration_donor_0_train=8.34]"
     ]
    },
    {
     "name": "stdout",
     "output_type": "stream",
     "text": [
      "\r",
      "Epoch 157/600:  26%|██▌       | 156/600 [10:17<29:14,  3.95s/it, v_num=p2_1, total_loss_train=901, kl_local_train=90.6, tardis_age_0_train=7.14, tardis_integration_donor_0_train=8.34]"
     ]
    },
    {
     "name": "stdout",
     "output_type": "stream",
     "text": [
      "\r",
      "Epoch 157/600:  26%|██▌       | 157/600 [10:21<29:07,  3.94s/it, v_num=p2_1, total_loss_train=901, kl_local_train=90.6, tardis_age_0_train=7.14, tardis_integration_donor_0_train=8.34]"
     ]
    },
    {
     "name": "stdout",
     "output_type": "stream",
     "text": [
      "\r",
      "Epoch 157/600:  26%|██▌       | 157/600 [10:21<29:07,  3.94s/it, v_num=p2_1, total_loss_train=901, kl_local_train=90.8, tardis_age_0_train=7.14, tardis_integration_donor_0_train=8.3] "
     ]
    },
    {
     "name": "stdout",
     "output_type": "stream",
     "text": [
      "\r",
      "Epoch 158/600:  26%|██▌       | 157/600 [10:21<29:07,  3.94s/it, v_num=p2_1, total_loss_train=901, kl_local_train=90.8, tardis_age_0_train=7.14, tardis_integration_donor_0_train=8.3]"
     ]
    },
    {
     "name": "stdout",
     "output_type": "stream",
     "text": [
      "\r",
      "Epoch 158/600:  26%|██▋       | 158/600 [10:25<29:02,  3.94s/it, v_num=p2_1, total_loss_train=901, kl_local_train=90.8, tardis_age_0_train=7.14, tardis_integration_donor_0_train=8.3]"
     ]
    },
    {
     "name": "stdout",
     "output_type": "stream",
     "text": [
      "\r",
      "Epoch 158/600:  26%|██▋       | 158/600 [10:25<29:02,  3.94s/it, v_num=p2_1, total_loss_train=901, kl_local_train=90.4, tardis_age_0_train=7.12, tardis_integration_donor_0_train=8.41]"
     ]
    },
    {
     "name": "stdout",
     "output_type": "stream",
     "text": [
      "\r",
      "Epoch 159/600:  26%|██▋       | 158/600 [10:25<29:02,  3.94s/it, v_num=p2_1, total_loss_train=901, kl_local_train=90.4, tardis_age_0_train=7.12, tardis_integration_donor_0_train=8.41]"
     ]
    },
    {
     "name": "stdout",
     "output_type": "stream",
     "text": [
      "\r",
      "Epoch 159/600:  26%|██▋       | 159/600 [10:29<28:58,  3.94s/it, v_num=p2_1, total_loss_train=901, kl_local_train=90.4, tardis_age_0_train=7.12, tardis_integration_donor_0_train=8.41]"
     ]
    },
    {
     "name": "stdout",
     "output_type": "stream",
     "text": [
      "\r",
      "Epoch 159/600:  26%|██▋       | 159/600 [10:29<28:58,  3.94s/it, v_num=p2_1, total_loss_train=900, kl_local_train=89.4, tardis_age_0_train=7.2, tardis_integration_donor_0_train=8.55] "
     ]
    },
    {
     "name": "stdout",
     "output_type": "stream",
     "text": [
      "\r",
      "Epoch 160/600:  26%|██▋       | 159/600 [10:29<28:58,  3.94s/it, v_num=p2_1, total_loss_train=900, kl_local_train=89.4, tardis_age_0_train=7.2, tardis_integration_donor_0_train=8.55]"
     ]
    },
    {
     "name": "stdout",
     "output_type": "stream",
     "text": [
      "\r",
      "Epoch 160/600:  27%|██▋       | 160/600 [10:33<28:54,  3.94s/it, v_num=p2_1, total_loss_train=900, kl_local_train=89.4, tardis_age_0_train=7.2, tardis_integration_donor_0_train=8.55]"
     ]
    },
    {
     "name": "stdout",
     "output_type": "stream",
     "text": [
      "\r",
      "Epoch 160/600:  27%|██▋       | 160/600 [10:33<28:54,  3.94s/it, v_num=p2_1, total_loss_train=900, kl_local_train=89.5, tardis_age_0_train=7.13, tardis_integration_donor_0_train=8.48]"
     ]
    },
    {
     "name": "stdout",
     "output_type": "stream",
     "text": [
      "\r",
      "Epoch 161/600:  27%|██▋       | 160/600 [10:33<28:54,  3.94s/it, v_num=p2_1, total_loss_train=900, kl_local_train=89.5, tardis_age_0_train=7.13, tardis_integration_donor_0_train=8.48]"
     ]
    },
    {
     "name": "stdout",
     "output_type": "stream",
     "text": [
      "\r",
      "Epoch 161/600:  27%|██▋       | 161/600 [10:37<28:47,  3.94s/it, v_num=p2_1, total_loss_train=900, kl_local_train=89.5, tardis_age_0_train=7.13, tardis_integration_donor_0_train=8.48]"
     ]
    },
    {
     "name": "stdout",
     "output_type": "stream",
     "text": [
      "\r",
      "Epoch 161/600:  27%|██▋       | 161/600 [10:37<28:47,  3.94s/it, v_num=p2_1, total_loss_train=900, kl_local_train=88.9, tardis_age_0_train=7.2, tardis_integration_donor_0_train=8.47] "
     ]
    },
    {
     "name": "stdout",
     "output_type": "stream",
     "text": [
      "\r",
      "Epoch 162/600:  27%|██▋       | 161/600 [10:37<28:47,  3.94s/it, v_num=p2_1, total_loss_train=900, kl_local_train=88.9, tardis_age_0_train=7.2, tardis_integration_donor_0_train=8.47]"
     ]
    },
    {
     "name": "stdout",
     "output_type": "stream",
     "text": [
      "\r",
      "Epoch 162/600:  27%|██▋       | 162/600 [10:41<28:40,  3.93s/it, v_num=p2_1, total_loss_train=900, kl_local_train=88.9, tardis_age_0_train=7.2, tardis_integration_donor_0_train=8.47]"
     ]
    },
    {
     "name": "stdout",
     "output_type": "stream",
     "text": [
      "\r",
      "Epoch 162/600:  27%|██▋       | 162/600 [10:41<28:40,  3.93s/it, v_num=p2_1, total_loss_train=900, kl_local_train=88.7, tardis_age_0_train=7.16, tardis_integration_donor_0_train=8.49]"
     ]
    },
    {
     "name": "stdout",
     "output_type": "stream",
     "text": [
      "\r",
      "Epoch 163/600:  27%|██▋       | 162/600 [10:41<28:40,  3.93s/it, v_num=p2_1, total_loss_train=900, kl_local_train=88.7, tardis_age_0_train=7.16, tardis_integration_donor_0_train=8.49]"
     ]
    },
    {
     "name": "stdout",
     "output_type": "stream",
     "text": [
      "\r",
      "Epoch 163/600:  27%|██▋       | 163/600 [10:45<28:41,  3.94s/it, v_num=p2_1, total_loss_train=900, kl_local_train=88.7, tardis_age_0_train=7.16, tardis_integration_donor_0_train=8.49]"
     ]
    },
    {
     "name": "stdout",
     "output_type": "stream",
     "text": [
      "\r",
      "Epoch 163/600:  27%|██▋       | 163/600 [10:45<28:41,  3.94s/it, v_num=p2_1, total_loss_train=900, kl_local_train=87.7, tardis_age_0_train=7.26, tardis_integration_donor_0_train=8.71]"
     ]
    },
    {
     "name": "stdout",
     "output_type": "stream",
     "text": [
      "\r",
      "Epoch 164/600:  27%|██▋       | 163/600 [10:45<28:41,  3.94s/it, v_num=p2_1, total_loss_train=900, kl_local_train=87.7, tardis_age_0_train=7.26, tardis_integration_donor_0_train=8.71]"
     ]
    },
    {
     "name": "stdout",
     "output_type": "stream",
     "text": [
      "\r",
      "Epoch 164/600:  27%|██▋       | 164/600 [10:49<28:35,  3.93s/it, v_num=p2_1, total_loss_train=900, kl_local_train=87.7, tardis_age_0_train=7.26, tardis_integration_donor_0_train=8.71]"
     ]
    },
    {
     "name": "stdout",
     "output_type": "stream",
     "text": [
      "\r",
      "Epoch 164/600:  27%|██▋       | 164/600 [10:49<28:35,  3.93s/it, v_num=p2_1, total_loss_train=900, kl_local_train=88.4, tardis_age_0_train=7.16, tardis_integration_donor_0_train=8.59]"
     ]
    },
    {
     "name": "stdout",
     "output_type": "stream",
     "text": [
      "\r",
      "Epoch 165/600:  27%|██▋       | 164/600 [10:49<28:35,  3.93s/it, v_num=p2_1, total_loss_train=900, kl_local_train=88.4, tardis_age_0_train=7.16, tardis_integration_donor_0_train=8.59]"
     ]
    },
    {
     "name": "stdout",
     "output_type": "stream",
     "text": [
      "\r",
      "Epoch 165/600:  28%|██▊       | 165/600 [10:52<28:27,  3.93s/it, v_num=p2_1, total_loss_train=900, kl_local_train=88.4, tardis_age_0_train=7.16, tardis_integration_donor_0_train=8.59]"
     ]
    },
    {
     "name": "stdout",
     "output_type": "stream",
     "text": [
      "\r",
      "Epoch 165/600:  28%|██▊       | 165/600 [10:52<28:27,  3.93s/it, v_num=p2_1, total_loss_train=899, kl_local_train=87.4, tardis_age_0_train=7.33, tardis_integration_donor_0_train=8.63]"
     ]
    },
    {
     "name": "stdout",
     "output_type": "stream",
     "text": [
      "\r",
      "Epoch 166/600:  28%|██▊       | 165/600 [10:52<28:27,  3.93s/it, v_num=p2_1, total_loss_train=899, kl_local_train=87.4, tardis_age_0_train=7.33, tardis_integration_donor_0_train=8.63]"
     ]
    },
    {
     "name": "stdout",
     "output_type": "stream",
     "text": [
      "\r",
      "Epoch 166/600:  28%|██▊       | 166/600 [10:56<28:20,  3.92s/it, v_num=p2_1, total_loss_train=899, kl_local_train=87.4, tardis_age_0_train=7.33, tardis_integration_donor_0_train=8.63]"
     ]
    },
    {
     "name": "stdout",
     "output_type": "stream",
     "text": [
      "\r",
      "Epoch 166/600:  28%|██▊       | 166/600 [10:56<28:20,  3.92s/it, v_num=p2_1, total_loss_train=899, kl_local_train=86.7, tardis_age_0_train=7.33, tardis_integration_donor_0_train=8.68]"
     ]
    },
    {
     "name": "stdout",
     "output_type": "stream",
     "text": [
      "\r",
      "Epoch 167/600:  28%|██▊       | 166/600 [10:56<28:20,  3.92s/it, v_num=p2_1, total_loss_train=899, kl_local_train=86.7, tardis_age_0_train=7.33, tardis_integration_donor_0_train=8.68]"
     ]
    },
    {
     "name": "stdout",
     "output_type": "stream",
     "text": [
      "\r",
      "Epoch 167/600:  28%|██▊       | 167/600 [11:00<28:19,  3.93s/it, v_num=p2_1, total_loss_train=899, kl_local_train=86.7, tardis_age_0_train=7.33, tardis_integration_donor_0_train=8.68]"
     ]
    },
    {
     "name": "stdout",
     "output_type": "stream",
     "text": [
      "\r",
      "Epoch 167/600:  28%|██▊       | 167/600 [11:00<28:19,  3.93s/it, v_num=p2_1, total_loss_train=899, kl_local_train=86.8, tardis_age_0_train=7.3, tardis_integration_donor_0_train=8.57] "
     ]
    },
    {
     "name": "stdout",
     "output_type": "stream",
     "text": [
      "\r",
      "Epoch 168/600:  28%|██▊       | 167/600 [11:00<28:19,  3.93s/it, v_num=p2_1, total_loss_train=899, kl_local_train=86.8, tardis_age_0_train=7.3, tardis_integration_donor_0_train=8.57]"
     ]
    },
    {
     "name": "stdout",
     "output_type": "stream",
     "text": [
      "\r",
      "Epoch 168/600:  28%|██▊       | 168/600 [11:04<28:17,  3.93s/it, v_num=p2_1, total_loss_train=899, kl_local_train=86.8, tardis_age_0_train=7.3, tardis_integration_donor_0_train=8.57]"
     ]
    },
    {
     "name": "stdout",
     "output_type": "stream",
     "text": [
      "\r",
      "Epoch 168/600:  28%|██▊       | 168/600 [11:04<28:17,  3.93s/it, v_num=p2_1, total_loss_train=898, kl_local_train=85.7, tardis_age_0_train=7.47, tardis_integration_donor_0_train=8.66]"
     ]
    },
    {
     "name": "stdout",
     "output_type": "stream",
     "text": [
      "\r",
      "Epoch 169/600:  28%|██▊       | 168/600 [11:04<28:17,  3.93s/it, v_num=p2_1, total_loss_train=898, kl_local_train=85.7, tardis_age_0_train=7.47, tardis_integration_donor_0_train=8.66]"
     ]
    },
    {
     "name": "stdout",
     "output_type": "stream",
     "text": [
      "\r",
      "Epoch 169/600:  28%|██▊       | 169/600 [11:08<28:12,  3.93s/it, v_num=p2_1, total_loss_train=898, kl_local_train=85.7, tardis_age_0_train=7.47, tardis_integration_donor_0_train=8.66]"
     ]
    },
    {
     "name": "stdout",
     "output_type": "stream",
     "text": [
      "\r",
      "Epoch 169/600:  28%|██▊       | 169/600 [11:08<28:12,  3.93s/it, v_num=p2_1, total_loss_train=898, kl_local_train=86.1, tardis_age_0_train=7.26, tardis_integration_donor_0_train=8.64]"
     ]
    },
    {
     "name": "stdout",
     "output_type": "stream",
     "text": [
      "\r",
      "Epoch 170/600:  28%|██▊       | 169/600 [11:08<28:12,  3.93s/it, v_num=p2_1, total_loss_train=898, kl_local_train=86.1, tardis_age_0_train=7.26, tardis_integration_donor_0_train=8.64]"
     ]
    },
    {
     "name": "stdout",
     "output_type": "stream",
     "text": [
      "\r",
      "Epoch 170/600:  28%|██▊       | 170/600 [11:12<28:10,  3.93s/it, v_num=p2_1, total_loss_train=898, kl_local_train=86.1, tardis_age_0_train=7.26, tardis_integration_donor_0_train=8.64]"
     ]
    },
    {
     "name": "stdout",
     "output_type": "stream",
     "text": [
      "\r",
      "Epoch 170/600:  28%|██▊       | 170/600 [11:12<28:10,  3.93s/it, v_num=p2_1, total_loss_train=898, kl_local_train=86.5, tardis_age_0_train=7.4, tardis_integration_donor_0_train=8.61] "
     ]
    },
    {
     "name": "stdout",
     "output_type": "stream",
     "text": [
      "\r",
      "Epoch 171/600:  28%|██▊       | 170/600 [11:12<28:10,  3.93s/it, v_num=p2_1, total_loss_train=898, kl_local_train=86.5, tardis_age_0_train=7.4, tardis_integration_donor_0_train=8.61]"
     ]
    },
    {
     "name": "stdout",
     "output_type": "stream",
     "text": [
      "\r",
      "Epoch 171/600:  28%|██▊       | 171/600 [11:16<28:08,  3.94s/it, v_num=p2_1, total_loss_train=898, kl_local_train=86.5, tardis_age_0_train=7.4, tardis_integration_donor_0_train=8.61]"
     ]
    },
    {
     "name": "stdout",
     "output_type": "stream",
     "text": [
      "\r",
      "Epoch 171/600:  28%|██▊       | 171/600 [11:16<28:08,  3.94s/it, v_num=p2_1, total_loss_train=898, kl_local_train=85.9, tardis_age_0_train=7.37, tardis_integration_donor_0_train=8.56]"
     ]
    },
    {
     "name": "stdout",
     "output_type": "stream",
     "text": [
      "\r",
      "Epoch 172/600:  28%|██▊       | 171/600 [11:16<28:08,  3.94s/it, v_num=p2_1, total_loss_train=898, kl_local_train=85.9, tardis_age_0_train=7.37, tardis_integration_donor_0_train=8.56]"
     ]
    },
    {
     "name": "stdout",
     "output_type": "stream",
     "text": [
      "\r",
      "Epoch 172/600:  29%|██▊       | 172/600 [11:20<28:03,  3.93s/it, v_num=p2_1, total_loss_train=898, kl_local_train=85.9, tardis_age_0_train=7.37, tardis_integration_donor_0_train=8.56]"
     ]
    },
    {
     "name": "stdout",
     "output_type": "stream",
     "text": [
      "\r",
      "Epoch 172/600:  29%|██▊       | 172/600 [11:20<28:03,  3.93s/it, v_num=p2_1, total_loss_train=898, kl_local_train=85.5, tardis_age_0_train=7.42, tardis_integration_donor_0_train=8.65]"
     ]
    },
    {
     "name": "stdout",
     "output_type": "stream",
     "text": [
      "\r",
      "Epoch 173/600:  29%|██▊       | 172/600 [11:20<28:03,  3.93s/it, v_num=p2_1, total_loss_train=898, kl_local_train=85.5, tardis_age_0_train=7.42, tardis_integration_donor_0_train=8.65]"
     ]
    },
    {
     "name": "stdout",
     "output_type": "stream",
     "text": [
      "\r",
      "Epoch 173/600:  29%|██▉       | 173/600 [11:24<27:55,  3.92s/it, v_num=p2_1, total_loss_train=898, kl_local_train=85.5, tardis_age_0_train=7.42, tardis_integration_donor_0_train=8.65]"
     ]
    },
    {
     "name": "stdout",
     "output_type": "stream",
     "text": [
      "\r",
      "Epoch 173/600:  29%|██▉       | 173/600 [11:24<27:55,  3.92s/it, v_num=p2_1, total_loss_train=898, kl_local_train=84.7, tardis_age_0_train=7.58, tardis_integration_donor_0_train=8.78]"
     ]
    },
    {
     "name": "stdout",
     "output_type": "stream",
     "text": [
      "\r",
      "Epoch 174/600:  29%|██▉       | 173/600 [11:24<27:55,  3.92s/it, v_num=p2_1, total_loss_train=898, kl_local_train=84.7, tardis_age_0_train=7.58, tardis_integration_donor_0_train=8.78]"
     ]
    },
    {
     "name": "stdout",
     "output_type": "stream",
     "text": [
      "\r",
      "Epoch 174/600:  29%|██▉       | 174/600 [11:28<27:50,  3.92s/it, v_num=p2_1, total_loss_train=898, kl_local_train=84.7, tardis_age_0_train=7.58, tardis_integration_donor_0_train=8.78]"
     ]
    },
    {
     "name": "stdout",
     "output_type": "stream",
     "text": [
      "\r",
      "Epoch 174/600:  29%|██▉       | 174/600 [11:28<27:50,  3.92s/it, v_num=p2_1, total_loss_train=898, kl_local_train=84.2, tardis_age_0_train=7.53, tardis_integration_donor_0_train=8.76]"
     ]
    },
    {
     "name": "stdout",
     "output_type": "stream",
     "text": [
      "\r",
      "Epoch 175/600:  29%|██▉       | 174/600 [11:28<27:50,  3.92s/it, v_num=p2_1, total_loss_train=898, kl_local_train=84.2, tardis_age_0_train=7.53, tardis_integration_donor_0_train=8.76]"
     ]
    },
    {
     "name": "stdout",
     "output_type": "stream",
     "text": [
      "\r",
      "Epoch 175/600:  29%|██▉       | 175/600 [11:32<27:48,  3.93s/it, v_num=p2_1, total_loss_train=898, kl_local_train=84.2, tardis_age_0_train=7.53, tardis_integration_donor_0_train=8.76]"
     ]
    },
    {
     "name": "stdout",
     "output_type": "stream",
     "text": [
      "\r",
      "Epoch 175/600:  29%|██▉       | 175/600 [11:32<27:48,  3.93s/it, v_num=p2_1, total_loss_train=897, kl_local_train=84.3, tardis_age_0_train=7.52, tardis_integration_donor_0_train=8.66]"
     ]
    },
    {
     "name": "stdout",
     "output_type": "stream",
     "text": [
      "\r",
      "Epoch 176/600:  29%|██▉       | 175/600 [11:32<27:48,  3.93s/it, v_num=p2_1, total_loss_train=897, kl_local_train=84.3, tardis_age_0_train=7.52, tardis_integration_donor_0_train=8.66]"
     ]
    },
    {
     "name": "stdout",
     "output_type": "stream",
     "text": [
      "\r",
      "Epoch 176/600:  29%|██▉       | 176/600 [11:36<27:47,  3.93s/it, v_num=p2_1, total_loss_train=897, kl_local_train=84.3, tardis_age_0_train=7.52, tardis_integration_donor_0_train=8.66]"
     ]
    },
    {
     "name": "stdout",
     "output_type": "stream",
     "text": [
      "\r",
      "Epoch 176/600:  29%|██▉       | 176/600 [11:36<27:47,  3.93s/it, v_num=p2_1, total_loss_train=897, kl_local_train=84.7, tardis_age_0_train=7.47, tardis_integration_donor_0_train=8.68]"
     ]
    },
    {
     "name": "stdout",
     "output_type": "stream",
     "text": [
      "\r",
      "Epoch 177/600:  29%|██▉       | 176/600 [11:36<27:47,  3.93s/it, v_num=p2_1, total_loss_train=897, kl_local_train=84.7, tardis_age_0_train=7.47, tardis_integration_donor_0_train=8.68]"
     ]
    },
    {
     "name": "stdout",
     "output_type": "stream",
     "text": [
      "\r",
      "Epoch 177/600:  30%|██▉       | 177/600 [11:40<27:46,  3.94s/it, v_num=p2_1, total_loss_train=897, kl_local_train=84.7, tardis_age_0_train=7.47, tardis_integration_donor_0_train=8.68]"
     ]
    },
    {
     "name": "stdout",
     "output_type": "stream",
     "text": [
      "\r",
      "Epoch 177/600:  30%|██▉       | 177/600 [11:40<27:46,  3.94s/it, v_num=p2_1, total_loss_train=896, kl_local_train=83.7, tardis_age_0_train=7.59, tardis_integration_donor_0_train=8.68]"
     ]
    },
    {
     "name": "stdout",
     "output_type": "stream",
     "text": [
      "\r",
      "Epoch 178/600:  30%|██▉       | 177/600 [11:40<27:46,  3.94s/it, v_num=p2_1, total_loss_train=896, kl_local_train=83.7, tardis_age_0_train=7.59, tardis_integration_donor_0_train=8.68]"
     ]
    },
    {
     "name": "stdout",
     "output_type": "stream",
     "text": [
      "\r",
      "Epoch 178/600:  30%|██▉       | 178/600 [11:44<27:46,  3.95s/it, v_num=p2_1, total_loss_train=896, kl_local_train=83.7, tardis_age_0_train=7.59, tardis_integration_donor_0_train=8.68]"
     ]
    },
    {
     "name": "stdout",
     "output_type": "stream",
     "text": [
      "\r",
      "Epoch 178/600:  30%|██▉       | 178/600 [11:44<27:46,  3.95s/it, v_num=p2_1, total_loss_train=897, kl_local_train=82.7, tardis_age_0_train=7.76, tardis_integration_donor_0_train=8.81]"
     ]
    },
    {
     "name": "stdout",
     "output_type": "stream",
     "text": [
      "\r",
      "Epoch 179/600:  30%|██▉       | 178/600 [11:44<27:46,  3.95s/it, v_num=p2_1, total_loss_train=897, kl_local_train=82.7, tardis_age_0_train=7.76, tardis_integration_donor_0_train=8.81]"
     ]
    },
    {
     "name": "stdout",
     "output_type": "stream",
     "text": [
      "\r",
      "Epoch 179/600:  30%|██▉       | 179/600 [11:48<27:41,  3.95s/it, v_num=p2_1, total_loss_train=897, kl_local_train=82.7, tardis_age_0_train=7.76, tardis_integration_donor_0_train=8.81]"
     ]
    },
    {
     "name": "stdout",
     "output_type": "stream",
     "text": [
      "\r",
      "Epoch 179/600:  30%|██▉       | 179/600 [11:48<27:41,  3.95s/it, v_num=p2_1, total_loss_train=896, kl_local_train=82.9, tardis_age_0_train=7.59, tardis_integration_donor_0_train=8.76]"
     ]
    },
    {
     "name": "stdout",
     "output_type": "stream",
     "text": [
      "\r",
      "Epoch 180/600:  30%|██▉       | 179/600 [11:48<27:41,  3.95s/it, v_num=p2_1, total_loss_train=896, kl_local_train=82.9, tardis_age_0_train=7.59, tardis_integration_donor_0_train=8.76]"
     ]
    },
    {
     "name": "stdout",
     "output_type": "stream",
     "text": [
      "\r",
      "Epoch 180/600:  30%|███       | 180/600 [11:52<27:37,  3.95s/it, v_num=p2_1, total_loss_train=896, kl_local_train=82.9, tardis_age_0_train=7.59, tardis_integration_donor_0_train=8.76]"
     ]
    },
    {
     "name": "stdout",
     "output_type": "stream",
     "text": [
      "\r",
      "Epoch 180/600:  30%|███       | 180/600 [11:52<27:37,  3.95s/it, v_num=p2_1, total_loss_train=896, kl_local_train=83.1, tardis_age_0_train=7.52, tardis_integration_donor_0_train=8.86]"
     ]
    },
    {
     "name": "stdout",
     "output_type": "stream",
     "text": [
      "\r",
      "Epoch 181/600:  30%|███       | 180/600 [11:52<27:37,  3.95s/it, v_num=p2_1, total_loss_train=896, kl_local_train=83.1, tardis_age_0_train=7.52, tardis_integration_donor_0_train=8.86]"
     ]
    },
    {
     "name": "stdout",
     "output_type": "stream",
     "text": [
      "\r",
      "Epoch 181/600:  30%|███       | 181/600 [11:55<27:33,  3.95s/it, v_num=p2_1, total_loss_train=896, kl_local_train=83.1, tardis_age_0_train=7.52, tardis_integration_donor_0_train=8.86]"
     ]
    },
    {
     "name": "stdout",
     "output_type": "stream",
     "text": [
      "\r",
      "Epoch 181/600:  30%|███       | 181/600 [11:55<27:33,  3.95s/it, v_num=p2_1, total_loss_train=896, kl_local_train=82.4, tardis_age_0_train=7.68, tardis_integration_donor_0_train=8.93]"
     ]
    },
    {
     "name": "stdout",
     "output_type": "stream",
     "text": [
      "\r",
      "Epoch 182/600:  30%|███       | 181/600 [11:55<27:33,  3.95s/it, v_num=p2_1, total_loss_train=896, kl_local_train=82.4, tardis_age_0_train=7.68, tardis_integration_donor_0_train=8.93]"
     ]
    },
    {
     "name": "stdout",
     "output_type": "stream",
     "text": [
      "\r",
      "Epoch 182/600:  30%|███       | 182/600 [11:59<27:24,  3.93s/it, v_num=p2_1, total_loss_train=896, kl_local_train=82.4, tardis_age_0_train=7.68, tardis_integration_donor_0_train=8.93]"
     ]
    },
    {
     "name": "stdout",
     "output_type": "stream",
     "text": [
      "\r",
      "Epoch 182/600:  30%|███       | 182/600 [11:59<27:24,  3.93s/it, v_num=p2_1, total_loss_train=896, kl_local_train=83.1, tardis_age_0_train=7.46, tardis_integration_donor_0_train=8.68]"
     ]
    },
    {
     "name": "stdout",
     "output_type": "stream",
     "text": [
      "\r",
      "Epoch 183/600:  30%|███       | 182/600 [11:59<27:24,  3.93s/it, v_num=p2_1, total_loss_train=896, kl_local_train=83.1, tardis_age_0_train=7.46, tardis_integration_donor_0_train=8.68]"
     ]
    },
    {
     "name": "stdout",
     "output_type": "stream",
     "text": [
      "\r",
      "Epoch 183/600:  30%|███       | 183/600 [12:03<27:22,  3.94s/it, v_num=p2_1, total_loss_train=896, kl_local_train=83.1, tardis_age_0_train=7.46, tardis_integration_donor_0_train=8.68]"
     ]
    },
    {
     "name": "stdout",
     "output_type": "stream",
     "text": [
      "\r",
      "Epoch 183/600:  30%|███       | 183/600 [12:03<27:22,  3.94s/it, v_num=p2_1, total_loss_train=896, kl_local_train=81.7, tardis_age_0_train=7.76, tardis_integration_donor_0_train=9.05]"
     ]
    },
    {
     "name": "stdout",
     "output_type": "stream",
     "text": [
      "\r",
      "Epoch 184/600:  30%|███       | 183/600 [12:03<27:22,  3.94s/it, v_num=p2_1, total_loss_train=896, kl_local_train=81.7, tardis_age_0_train=7.76, tardis_integration_donor_0_train=9.05]"
     ]
    },
    {
     "name": "stdout",
     "output_type": "stream",
     "text": [
      "\r",
      "Epoch 184/600:  31%|███       | 184/600 [12:07<27:14,  3.93s/it, v_num=p2_1, total_loss_train=896, kl_local_train=81.7, tardis_age_0_train=7.76, tardis_integration_donor_0_train=9.05]"
     ]
    },
    {
     "name": "stdout",
     "output_type": "stream",
     "text": [
      "\r",
      "Epoch 184/600:  31%|███       | 184/600 [12:07<27:14,  3.93s/it, v_num=p2_1, total_loss_train=896, kl_local_train=82.2, tardis_age_0_train=7.65, tardis_integration_donor_0_train=8.98]"
     ]
    },
    {
     "name": "stdout",
     "output_type": "stream",
     "text": [
      "\r",
      "Epoch 185/600:  31%|███       | 184/600 [12:07<27:14,  3.93s/it, v_num=p2_1, total_loss_train=896, kl_local_train=82.2, tardis_age_0_train=7.65, tardis_integration_donor_0_train=8.98]"
     ]
    },
    {
     "name": "stdout",
     "output_type": "stream",
     "text": [
      "\r",
      "Epoch 185/600:  31%|███       | 185/600 [12:11<27:10,  3.93s/it, v_num=p2_1, total_loss_train=896, kl_local_train=82.2, tardis_age_0_train=7.65, tardis_integration_donor_0_train=8.98]"
     ]
    },
    {
     "name": "stdout",
     "output_type": "stream",
     "text": [
      "\r",
      "Epoch 185/600:  31%|███       | 185/600 [12:11<27:10,  3.93s/it, v_num=p2_1, total_loss_train=896, kl_local_train=81.4, tardis_age_0_train=7.71, tardis_integration_donor_0_train=9.01]"
     ]
    },
    {
     "name": "stdout",
     "output_type": "stream",
     "text": [
      "\r",
      "Epoch 186/600:  31%|███       | 185/600 [12:11<27:10,  3.93s/it, v_num=p2_1, total_loss_train=896, kl_local_train=81.4, tardis_age_0_train=7.71, tardis_integration_donor_0_train=9.01]"
     ]
    },
    {
     "name": "stdout",
     "output_type": "stream",
     "text": [
      "\r",
      "Epoch 186/600:  31%|███       | 186/600 [12:15<27:08,  3.93s/it, v_num=p2_1, total_loss_train=896, kl_local_train=81.4, tardis_age_0_train=7.71, tardis_integration_donor_0_train=9.01]"
     ]
    },
    {
     "name": "stdout",
     "output_type": "stream",
     "text": [
      "\r",
      "Epoch 186/600:  31%|███       | 186/600 [12:15<27:08,  3.93s/it, v_num=p2_1, total_loss_train=895, kl_local_train=81.6, tardis_age_0_train=7.6, tardis_integration_donor_0_train=8.9]  "
     ]
    },
    {
     "name": "stdout",
     "output_type": "stream",
     "text": [
      "\r",
      "Epoch 187/600:  31%|███       | 186/600 [12:15<27:08,  3.93s/it, v_num=p2_1, total_loss_train=895, kl_local_train=81.6, tardis_age_0_train=7.6, tardis_integration_donor_0_train=8.9]"
     ]
    },
    {
     "name": "stdout",
     "output_type": "stream",
     "text": [
      "\r",
      "Epoch 187/600:  31%|███       | 187/600 [12:19<27:01,  3.93s/it, v_num=p2_1, total_loss_train=895, kl_local_train=81.6, tardis_age_0_train=7.6, tardis_integration_donor_0_train=8.9]"
     ]
    },
    {
     "name": "stdout",
     "output_type": "stream",
     "text": [
      "\r",
      "Epoch 187/600:  31%|███       | 187/600 [12:19<27:01,  3.93s/it, v_num=p2_1, total_loss_train=895, kl_local_train=80.9, tardis_age_0_train=7.76, tardis_integration_donor_0_train=8.98]"
     ]
    },
    {
     "name": "stdout",
     "output_type": "stream",
     "text": [
      "\r",
      "Epoch 188/600:  31%|███       | 187/600 [12:19<27:01,  3.93s/it, v_num=p2_1, total_loss_train=895, kl_local_train=80.9, tardis_age_0_train=7.76, tardis_integration_donor_0_train=8.98]"
     ]
    },
    {
     "name": "stdout",
     "output_type": "stream",
     "text": [
      "\r",
      "Epoch 188/600:  31%|███▏      | 188/600 [12:23<26:55,  3.92s/it, v_num=p2_1, total_loss_train=895, kl_local_train=80.9, tardis_age_0_train=7.76, tardis_integration_donor_0_train=8.98]"
     ]
    },
    {
     "name": "stdout",
     "output_type": "stream",
     "text": [
      "\r",
      "Epoch 188/600:  31%|███▏      | 188/600 [12:23<26:55,  3.92s/it, v_num=p2_1, total_loss_train=895, kl_local_train=81.7, tardis_age_0_train=7.59, tardis_integration_donor_0_train=8.82]"
     ]
    },
    {
     "name": "stdout",
     "output_type": "stream",
     "text": [
      "\r",
      "Epoch 189/600:  31%|███▏      | 188/600 [12:23<26:55,  3.92s/it, v_num=p2_1, total_loss_train=895, kl_local_train=81.7, tardis_age_0_train=7.59, tardis_integration_donor_0_train=8.82]"
     ]
    },
    {
     "name": "stdout",
     "output_type": "stream",
     "text": [
      "\r",
      "Epoch 189/600:  32%|███▏      | 189/600 [12:27<26:55,  3.93s/it, v_num=p2_1, total_loss_train=895, kl_local_train=81.7, tardis_age_0_train=7.59, tardis_integration_donor_0_train=8.82]"
     ]
    },
    {
     "name": "stdout",
     "output_type": "stream",
     "text": [
      "\r",
      "Epoch 189/600:  32%|███▏      | 189/600 [12:27<26:55,  3.93s/it, v_num=p2_1, total_loss_train=894, kl_local_train=80.9, tardis_age_0_train=7.74, tardis_integration_donor_0_train=8.83]"
     ]
    },
    {
     "name": "stdout",
     "output_type": "stream",
     "text": [
      "\r",
      "Epoch 190/600:  32%|███▏      | 189/600 [12:27<26:55,  3.93s/it, v_num=p2_1, total_loss_train=894, kl_local_train=80.9, tardis_age_0_train=7.74, tardis_integration_donor_0_train=8.83]"
     ]
    },
    {
     "name": "stdout",
     "output_type": "stream",
     "text": [
      "\r",
      "Epoch 190/600:  32%|███▏      | 190/600 [12:31<26:49,  3.93s/it, v_num=p2_1, total_loss_train=894, kl_local_train=80.9, tardis_age_0_train=7.74, tardis_integration_donor_0_train=8.83]"
     ]
    },
    {
     "name": "stdout",
     "output_type": "stream",
     "text": [
      "\r",
      "Epoch 190/600:  32%|███▏      | 190/600 [12:31<26:49,  3.93s/it, v_num=p2_1, total_loss_train=895, kl_local_train=80.6, tardis_age_0_train=7.78, tardis_integration_donor_0_train=8.91]"
     ]
    },
    {
     "name": "stdout",
     "output_type": "stream",
     "text": [
      "\r",
      "Epoch 191/600:  32%|███▏      | 190/600 [12:31<26:49,  3.93s/it, v_num=p2_1, total_loss_train=895, kl_local_train=80.6, tardis_age_0_train=7.78, tardis_integration_donor_0_train=8.91]"
     ]
    },
    {
     "name": "stdout",
     "output_type": "stream",
     "text": [
      "\r",
      "Epoch 191/600:  32%|███▏      | 191/600 [12:35<26:42,  3.92s/it, v_num=p2_1, total_loss_train=895, kl_local_train=80.6, tardis_age_0_train=7.78, tardis_integration_donor_0_train=8.91]"
     ]
    },
    {
     "name": "stdout",
     "output_type": "stream",
     "text": [
      "\r",
      "Epoch 191/600:  32%|███▏      | 191/600 [12:35<26:42,  3.92s/it, v_num=p2_1, total_loss_train=894, kl_local_train=80.1, tardis_age_0_train=7.75, tardis_integration_donor_0_train=9.01]"
     ]
    },
    {
     "name": "stdout",
     "output_type": "stream",
     "text": [
      "\r",
      "Epoch 192/600:  32%|███▏      | 191/600 [12:35<26:42,  3.92s/it, v_num=p2_1, total_loss_train=894, kl_local_train=80.1, tardis_age_0_train=7.75, tardis_integration_donor_0_train=9.01]"
     ]
    },
    {
     "name": "stdout",
     "output_type": "stream",
     "text": [
      "\r",
      "Epoch 192/600:  32%|███▏      | 192/600 [12:39<26:39,  3.92s/it, v_num=p2_1, total_loss_train=894, kl_local_train=80.1, tardis_age_0_train=7.75, tardis_integration_donor_0_train=9.01]"
     ]
    },
    {
     "name": "stdout",
     "output_type": "stream",
     "text": [
      "\r",
      "Epoch 192/600:  32%|███▏      | 192/600 [12:39<26:39,  3.92s/it, v_num=p2_1, total_loss_train=894, kl_local_train=79.2, tardis_age_0_train=7.86, tardis_integration_donor_0_train=9.1] "
     ]
    },
    {
     "name": "stdout",
     "output_type": "stream",
     "text": [
      "\r",
      "Epoch 193/600:  32%|███▏      | 192/600 [12:39<26:39,  3.92s/it, v_num=p2_1, total_loss_train=894, kl_local_train=79.2, tardis_age_0_train=7.86, tardis_integration_donor_0_train=9.1]"
     ]
    },
    {
     "name": "stdout",
     "output_type": "stream",
     "text": [
      "\r",
      "Epoch 193/600:  32%|███▏      | 193/600 [12:43<26:37,  3.92s/it, v_num=p2_1, total_loss_train=894, kl_local_train=79.2, tardis_age_0_train=7.86, tardis_integration_donor_0_train=9.1]"
     ]
    },
    {
     "name": "stdout",
     "output_type": "stream",
     "text": [
      "\r",
      "Epoch 193/600:  32%|███▏      | 193/600 [12:43<26:37,  3.92s/it, v_num=p2_1, total_loss_train=894, kl_local_train=79.2, tardis_age_0_train=7.8, tardis_integration_donor_0_train=8.99]"
     ]
    },
    {
     "name": "stdout",
     "output_type": "stream",
     "text": [
      "\r",
      "Epoch 194/600:  32%|███▏      | 193/600 [12:43<26:37,  3.92s/it, v_num=p2_1, total_loss_train=894, kl_local_train=79.2, tardis_age_0_train=7.8, tardis_integration_donor_0_train=8.99]"
     ]
    },
    {
     "name": "stdout",
     "output_type": "stream",
     "text": [
      "\r",
      "Epoch 194/600:  32%|███▏      | 194/600 [12:46<26:34,  3.93s/it, v_num=p2_1, total_loss_train=894, kl_local_train=79.2, tardis_age_0_train=7.8, tardis_integration_donor_0_train=8.99]"
     ]
    },
    {
     "name": "stdout",
     "output_type": "stream",
     "text": [
      "\r",
      "Epoch 194/600:  32%|███▏      | 194/600 [12:46<26:34,  3.93s/it, v_num=p2_1, total_loss_train=894, kl_local_train=78.4, tardis_age_0_train=7.88, tardis_integration_donor_0_train=9.19]"
     ]
    },
    {
     "name": "stdout",
     "output_type": "stream",
     "text": [
      "\r",
      "Epoch 195/600:  32%|███▏      | 194/600 [12:46<26:34,  3.93s/it, v_num=p2_1, total_loss_train=894, kl_local_train=78.4, tardis_age_0_train=7.88, tardis_integration_donor_0_train=9.19]"
     ]
    },
    {
     "name": "stdout",
     "output_type": "stream",
     "text": [
      "\r",
      "Epoch 195/600:  32%|███▎      | 195/600 [12:50<26:35,  3.94s/it, v_num=p2_1, total_loss_train=894, kl_local_train=78.4, tardis_age_0_train=7.88, tardis_integration_donor_0_train=9.19]"
     ]
    },
    {
     "name": "stdout",
     "output_type": "stream",
     "text": [
      "\r",
      "Epoch 195/600:  32%|███▎      | 195/600 [12:50<26:35,  3.94s/it, v_num=p2_1, total_loss_train=894, kl_local_train=78.7, tardis_age_0_train=7.87, tardis_integration_donor_0_train=9.05]"
     ]
    },
    {
     "name": "stdout",
     "output_type": "stream",
     "text": [
      "\r",
      "Epoch 196/600:  32%|███▎      | 195/600 [12:50<26:35,  3.94s/it, v_num=p2_1, total_loss_train=894, kl_local_train=78.7, tardis_age_0_train=7.87, tardis_integration_donor_0_train=9.05]"
     ]
    },
    {
     "name": "stdout",
     "output_type": "stream",
     "text": [
      "\r",
      "Epoch 196/600:  33%|███▎      | 196/600 [12:54<26:32,  3.94s/it, v_num=p2_1, total_loss_train=894, kl_local_train=78.7, tardis_age_0_train=7.87, tardis_integration_donor_0_train=9.05]"
     ]
    },
    {
     "name": "stdout",
     "output_type": "stream",
     "text": [
      "\r",
      "Epoch 196/600:  33%|███▎      | 196/600 [12:54<26:32,  3.94s/it, v_num=p2_1, total_loss_train=893, kl_local_train=78.2, tardis_age_0_train=7.86, tardis_integration_donor_0_train=9.12]"
     ]
    },
    {
     "name": "stdout",
     "output_type": "stream",
     "text": [
      "\r",
      "Epoch 197/600:  33%|███▎      | 196/600 [12:54<26:32,  3.94s/it, v_num=p2_1, total_loss_train=893, kl_local_train=78.2, tardis_age_0_train=7.86, tardis_integration_donor_0_train=9.12]"
     ]
    },
    {
     "name": "stdout",
     "output_type": "stream",
     "text": [
      "\r",
      "Epoch 197/600:  33%|███▎      | 197/600 [12:58<26:27,  3.94s/it, v_num=p2_1, total_loss_train=893, kl_local_train=78.2, tardis_age_0_train=7.86, tardis_integration_donor_0_train=9.12]"
     ]
    },
    {
     "name": "stdout",
     "output_type": "stream",
     "text": [
      "\r",
      "Epoch 197/600:  33%|███▎      | 197/600 [12:58<26:27,  3.94s/it, v_num=p2_1, total_loss_train=893, kl_local_train=78.2, tardis_age_0_train=7.85, tardis_integration_donor_0_train=9.14]"
     ]
    },
    {
     "name": "stdout",
     "output_type": "stream",
     "text": [
      "\r",
      "Epoch 198/600:  33%|███▎      | 197/600 [12:58<26:27,  3.94s/it, v_num=p2_1, total_loss_train=893, kl_local_train=78.2, tardis_age_0_train=7.85, tardis_integration_donor_0_train=9.14]"
     ]
    },
    {
     "name": "stdout",
     "output_type": "stream",
     "text": [
      "\r",
      "Epoch 198/600:  33%|███▎      | 198/600 [13:02<26:24,  3.94s/it, v_num=p2_1, total_loss_train=893, kl_local_train=78.2, tardis_age_0_train=7.85, tardis_integration_donor_0_train=9.14]"
     ]
    },
    {
     "name": "stdout",
     "output_type": "stream",
     "text": [
      "\r",
      "Epoch 198/600:  33%|███▎      | 198/600 [13:02<26:24,  3.94s/it, v_num=p2_1, total_loss_train=893, kl_local_train=78.7, tardis_age_0_train=7.79, tardis_integration_donor_0_train=9.07]"
     ]
    },
    {
     "name": "stdout",
     "output_type": "stream",
     "text": [
      "\r",
      "Epoch 199/600:  33%|███▎      | 198/600 [13:02<26:24,  3.94s/it, v_num=p2_1, total_loss_train=893, kl_local_train=78.7, tardis_age_0_train=7.79, tardis_integration_donor_0_train=9.07]"
     ]
    },
    {
     "name": "stdout",
     "output_type": "stream",
     "text": [
      "\r",
      "Epoch 199/600:  33%|███▎      | 199/600 [13:06<26:20,  3.94s/it, v_num=p2_1, total_loss_train=893, kl_local_train=78.7, tardis_age_0_train=7.79, tardis_integration_donor_0_train=9.07]"
     ]
    },
    {
     "name": "stdout",
     "output_type": "stream",
     "text": [
      "\r",
      "Epoch 199/600:  33%|███▎      | 199/600 [13:06<26:20,  3.94s/it, v_num=p2_1, total_loss_train=893, kl_local_train=78.5, tardis_age_0_train=7.95, tardis_integration_donor_0_train=9.17]"
     ]
    },
    {
     "name": "stdout",
     "output_type": "stream",
     "text": [
      "\r",
      "Epoch 200/600:  33%|███▎      | 199/600 [13:06<26:20,  3.94s/it, v_num=p2_1, total_loss_train=893, kl_local_train=78.5, tardis_age_0_train=7.95, tardis_integration_donor_0_train=9.17]"
     ]
    },
    {
     "name": "stdout",
     "output_type": "stream",
     "text": [
      "\r",
      "Epoch 200/600:  33%|███▎      | 200/600 [13:10<26:17,  3.94s/it, v_num=p2_1, total_loss_train=893, kl_local_train=78.5, tardis_age_0_train=7.95, tardis_integration_donor_0_train=9.17]"
     ]
    },
    {
     "name": "stdout",
     "output_type": "stream",
     "text": [
      "\r",
      "Epoch 200/600:  33%|███▎      | 200/600 [13:10<26:17,  3.94s/it, v_num=p2_1, total_loss_train=893, kl_local_train=78.1, tardis_age_0_train=7.82, tardis_integration_donor_0_train=9.16]"
     ]
    },
    {
     "name": "stdout",
     "output_type": "stream",
     "text": [
      "\r",
      "Epoch 201/600:  33%|███▎      | 200/600 [13:10<26:17,  3.94s/it, v_num=p2_1, total_loss_train=893, kl_local_train=78.1, tardis_age_0_train=7.82, tardis_integration_donor_0_train=9.16]"
     ]
    },
    {
     "name": "stdout",
     "output_type": "stream",
     "text": [
      "\r",
      "Epoch 201/600:  34%|███▎      | 201/600 [13:14<26:16,  3.95s/it, v_num=p2_1, total_loss_train=893, kl_local_train=78.1, tardis_age_0_train=7.82, tardis_integration_donor_0_train=9.16]"
     ]
    },
    {
     "name": "stdout",
     "output_type": "stream",
     "text": [
      "\r",
      "Epoch 201/600:  34%|███▎      | 201/600 [13:14<26:16,  3.95s/it, v_num=p2_1, total_loss_train=892, kl_local_train=77.7, tardis_age_0_train=7.91, tardis_integration_donor_0_train=9.21]"
     ]
    },
    {
     "name": "stdout",
     "output_type": "stream",
     "text": [
      "\r",
      "Epoch 202/600:  34%|███▎      | 201/600 [13:14<26:16,  3.95s/it, v_num=p2_1, total_loss_train=892, kl_local_train=77.7, tardis_age_0_train=7.91, tardis_integration_donor_0_train=9.21]"
     ]
    },
    {
     "name": "stdout",
     "output_type": "stream",
     "text": [
      "\r",
      "Epoch 202/600:  34%|███▎      | 202/600 [13:18<26:15,  3.96s/it, v_num=p2_1, total_loss_train=892, kl_local_train=77.7, tardis_age_0_train=7.91, tardis_integration_donor_0_train=9.21]"
     ]
    },
    {
     "name": "stdout",
     "output_type": "stream",
     "text": [
      "\r",
      "Epoch 202/600:  34%|███▎      | 202/600 [13:18<26:15,  3.96s/it, v_num=p2_1, total_loss_train=892, kl_local_train=78, tardis_age_0_train=7.86, tardis_integration_donor_0_train=9.14]  "
     ]
    },
    {
     "name": "stdout",
     "output_type": "stream",
     "text": [
      "\r",
      "Epoch 203/600:  34%|███▎      | 202/600 [13:18<26:15,  3.96s/it, v_num=p2_1, total_loss_train=892, kl_local_train=78, tardis_age_0_train=7.86, tardis_integration_donor_0_train=9.14]"
     ]
    },
    {
     "name": "stdout",
     "output_type": "stream",
     "text": [
      "\r",
      "Epoch 203/600:  34%|███▍      | 203/600 [13:22<26:08,  3.95s/it, v_num=p2_1, total_loss_train=892, kl_local_train=78, tardis_age_0_train=7.86, tardis_integration_donor_0_train=9.14]"
     ]
    },
    {
     "name": "stdout",
     "output_type": "stream",
     "text": [
      "\r",
      "Epoch 203/600:  34%|███▍      | 203/600 [13:22<26:08,  3.95s/it, v_num=p2_1, total_loss_train=892, kl_local_train=76.5, tardis_age_0_train=8.02, tardis_integration_donor_0_train=9.29]"
     ]
    },
    {
     "name": "stdout",
     "output_type": "stream",
     "text": [
      "\r",
      "Epoch 204/600:  34%|███▍      | 203/600 [13:22<26:08,  3.95s/it, v_num=p2_1, total_loss_train=892, kl_local_train=76.5, tardis_age_0_train=8.02, tardis_integration_donor_0_train=9.29]"
     ]
    },
    {
     "name": "stdout",
     "output_type": "stream",
     "text": [
      "\r",
      "Epoch 204/600:  34%|███▍      | 204/600 [13:26<26:00,  3.94s/it, v_num=p2_1, total_loss_train=892, kl_local_train=76.5, tardis_age_0_train=8.02, tardis_integration_donor_0_train=9.29]"
     ]
    },
    {
     "name": "stdout",
     "output_type": "stream",
     "text": [
      "\r",
      "Epoch 204/600:  34%|███▍      | 204/600 [13:26<26:00,  3.94s/it, v_num=p2_1, total_loss_train=892, kl_local_train=77, tardis_age_0_train=8.01, tardis_integration_donor_0_train=9.24]  "
     ]
    },
    {
     "name": "stdout",
     "output_type": "stream",
     "text": [
      "\r",
      "Epoch 205/600:  34%|███▍      | 204/600 [13:26<26:00,  3.94s/it, v_num=p2_1, total_loss_train=892, kl_local_train=77, tardis_age_0_train=8.01, tardis_integration_donor_0_train=9.24]"
     ]
    },
    {
     "name": "stdout",
     "output_type": "stream",
     "text": [
      "\r",
      "Epoch 205/600:  34%|███▍      | 205/600 [13:30<25:55,  3.94s/it, v_num=p2_1, total_loss_train=892, kl_local_train=77, tardis_age_0_train=8.01, tardis_integration_donor_0_train=9.24]"
     ]
    },
    {
     "name": "stdout",
     "output_type": "stream",
     "text": [
      "\r",
      "Epoch 205/600:  34%|███▍      | 205/600 [13:30<25:55,  3.94s/it, v_num=p2_1, total_loss_train=892, kl_local_train=76.2, tardis_age_0_train=8.06, tardis_integration_donor_0_train=9.47]"
     ]
    },
    {
     "name": "stdout",
     "output_type": "stream",
     "text": [
      "\r",
      "Epoch 206/600:  34%|███▍      | 205/600 [13:30<25:55,  3.94s/it, v_num=p2_1, total_loss_train=892, kl_local_train=76.2, tardis_age_0_train=8.06, tardis_integration_donor_0_train=9.47]"
     ]
    },
    {
     "name": "stdout",
     "output_type": "stream",
     "text": [
      "\r",
      "Epoch 206/600:  34%|███▍      | 206/600 [13:34<25:47,  3.93s/it, v_num=p2_1, total_loss_train=892, kl_local_train=76.2, tardis_age_0_train=8.06, tardis_integration_donor_0_train=9.47]"
     ]
    },
    {
     "name": "stdout",
     "output_type": "stream",
     "text": [
      "\r",
      "Epoch 206/600:  34%|███▍      | 206/600 [13:34<25:47,  3.93s/it, v_num=p2_1, total_loss_train=892, kl_local_train=76.1, tardis_age_0_train=8.12, tardis_integration_donor_0_train=9.38]"
     ]
    },
    {
     "name": "stdout",
     "output_type": "stream",
     "text": [
      "\r",
      "Epoch 207/600:  34%|███▍      | 206/600 [13:34<25:47,  3.93s/it, v_num=p2_1, total_loss_train=892, kl_local_train=76.1, tardis_age_0_train=8.12, tardis_integration_donor_0_train=9.38]"
     ]
    },
    {
     "name": "stdout",
     "output_type": "stream",
     "text": [
      "\r",
      "Epoch 207/600:  34%|███▍      | 207/600 [13:38<25:44,  3.93s/it, v_num=p2_1, total_loss_train=892, kl_local_train=76.1, tardis_age_0_train=8.12, tardis_integration_donor_0_train=9.38]"
     ]
    },
    {
     "name": "stdout",
     "output_type": "stream",
     "text": [
      "\r",
      "Epoch 207/600:  34%|███▍      | 207/600 [13:38<25:44,  3.93s/it, v_num=p2_1, total_loss_train=891, kl_local_train=76.2, tardis_age_0_train=8.15, tardis_integration_donor_0_train=9.48]"
     ]
    },
    {
     "name": "stdout",
     "output_type": "stream",
     "text": [
      "\r",
      "Epoch 208/600:  34%|███▍      | 207/600 [13:38<25:44,  3.93s/it, v_num=p2_1, total_loss_train=891, kl_local_train=76.2, tardis_age_0_train=8.15, tardis_integration_donor_0_train=9.48]"
     ]
    },
    {
     "name": "stdout",
     "output_type": "stream",
     "text": [
      "\r",
      "Epoch 208/600:  35%|███▍      | 208/600 [13:42<25:41,  3.93s/it, v_num=p2_1, total_loss_train=891, kl_local_train=76.2, tardis_age_0_train=8.15, tardis_integration_donor_0_train=9.48]"
     ]
    },
    {
     "name": "stdout",
     "output_type": "stream",
     "text": [
      "\r",
      "Epoch 208/600:  35%|███▍      | 208/600 [13:42<25:41,  3.93s/it, v_num=p2_1, total_loss_train=891, kl_local_train=76.9, tardis_age_0_train=7.98, tardis_integration_donor_0_train=9.29]"
     ]
    },
    {
     "name": "stdout",
     "output_type": "stream",
     "text": [
      "\r",
      "Epoch 209/600:  35%|███▍      | 208/600 [13:42<25:41,  3.93s/it, v_num=p2_1, total_loss_train=891, kl_local_train=76.9, tardis_age_0_train=7.98, tardis_integration_donor_0_train=9.29]"
     ]
    },
    {
     "name": "stdout",
     "output_type": "stream",
     "text": [
      "\r",
      "Epoch 209/600:  35%|███▍      | 209/600 [13:46<25:38,  3.94s/it, v_num=p2_1, total_loss_train=891, kl_local_train=76.9, tardis_age_0_train=7.98, tardis_integration_donor_0_train=9.29]"
     ]
    },
    {
     "name": "stdout",
     "output_type": "stream",
     "text": [
      "\r",
      "Epoch 209/600:  35%|███▍      | 209/600 [13:46<25:38,  3.94s/it, v_num=p2_1, total_loss_train=891, kl_local_train=76.3, tardis_age_0_train=8.14, tardis_integration_donor_0_train=9.28]"
     ]
    },
    {
     "name": "stdout",
     "output_type": "stream",
     "text": [
      "\r",
      "Epoch 210/600:  35%|███▍      | 209/600 [13:46<25:38,  3.94s/it, v_num=p2_1, total_loss_train=891, kl_local_train=76.3, tardis_age_0_train=8.14, tardis_integration_donor_0_train=9.28]"
     ]
    },
    {
     "name": "stdout",
     "output_type": "stream",
     "text": [
      "\r",
      "Epoch 210/600:  35%|███▌      | 210/600 [13:50<25:32,  3.93s/it, v_num=p2_1, total_loss_train=891, kl_local_train=76.3, tardis_age_0_train=8.14, tardis_integration_donor_0_train=9.28]"
     ]
    },
    {
     "name": "stdout",
     "output_type": "stream",
     "text": [
      "\r",
      "Epoch 210/600:  35%|███▌      | 210/600 [13:50<25:32,  3.93s/it, v_num=p2_1, total_loss_train=891, kl_local_train=76.3, tardis_age_0_train=8.1, tardis_integration_donor_0_train=9.23] "
     ]
    },
    {
     "name": "stdout",
     "output_type": "stream",
     "text": [
      "\r",
      "Epoch 211/600:  35%|███▌      | 210/600 [13:50<25:32,  3.93s/it, v_num=p2_1, total_loss_train=891, kl_local_train=76.3, tardis_age_0_train=8.1, tardis_integration_donor_0_train=9.23]"
     ]
    },
    {
     "name": "stdout",
     "output_type": "stream",
     "text": [
      "\r",
      "Epoch 211/600:  35%|███▌      | 211/600 [13:53<25:27,  3.93s/it, v_num=p2_1, total_loss_train=891, kl_local_train=76.3, tardis_age_0_train=8.1, tardis_integration_donor_0_train=9.23]"
     ]
    },
    {
     "name": "stdout",
     "output_type": "stream",
     "text": [
      "\r",
      "Epoch 211/600:  35%|███▌      | 211/600 [13:53<25:27,  3.93s/it, v_num=p2_1, total_loss_train=891, kl_local_train=75.8, tardis_age_0_train=8.11, tardis_integration_donor_0_train=9.36]"
     ]
    },
    {
     "name": "stdout",
     "output_type": "stream",
     "text": [
      "\r",
      "Epoch 212/600:  35%|███▌      | 211/600 [13:53<25:27,  3.93s/it, v_num=p2_1, total_loss_train=891, kl_local_train=75.8, tardis_age_0_train=8.11, tardis_integration_donor_0_train=9.36]"
     ]
    },
    {
     "name": "stdout",
     "output_type": "stream",
     "text": [
      "\r",
      "Epoch 212/600:  35%|███▌      | 212/600 [13:57<25:26,  3.93s/it, v_num=p2_1, total_loss_train=891, kl_local_train=75.8, tardis_age_0_train=8.11, tardis_integration_donor_0_train=9.36]"
     ]
    },
    {
     "name": "stdout",
     "output_type": "stream",
     "text": [
      "\r",
      "Epoch 212/600:  35%|███▌      | 212/600 [13:57<25:26,  3.93s/it, v_num=p2_1, total_loss_train=891, kl_local_train=75.2, tardis_age_0_train=8.18, tardis_integration_donor_0_train=9.4] "
     ]
    },
    {
     "name": "stdout",
     "output_type": "stream",
     "text": [
      "\r",
      "Epoch 213/600:  35%|███▌      | 212/600 [13:57<25:26,  3.93s/it, v_num=p2_1, total_loss_train=891, kl_local_train=75.2, tardis_age_0_train=8.18, tardis_integration_donor_0_train=9.4]"
     ]
    },
    {
     "name": "stdout",
     "output_type": "stream",
     "text": [
      "\r",
      "Epoch 213/600:  36%|███▌      | 213/600 [14:01<25:28,  3.95s/it, v_num=p2_1, total_loss_train=891, kl_local_train=75.2, tardis_age_0_train=8.18, tardis_integration_donor_0_train=9.4]"
     ]
    },
    {
     "name": "stdout",
     "output_type": "stream",
     "text": [
      "\r",
      "Epoch 213/600:  36%|███▌      | 213/600 [14:01<25:28,  3.95s/it, v_num=p2_1, total_loss_train=890, kl_local_train=75.7, tardis_age_0_train=8.11, tardis_integration_donor_0_train=9.49]"
     ]
    },
    {
     "name": "stdout",
     "output_type": "stream",
     "text": [
      "\r",
      "Epoch 214/600:  36%|███▌      | 213/600 [14:01<25:28,  3.95s/it, v_num=p2_1, total_loss_train=890, kl_local_train=75.7, tardis_age_0_train=8.11, tardis_integration_donor_0_train=9.49]"
     ]
    },
    {
     "name": "stdout",
     "output_type": "stream",
     "text": [
      "\r",
      "Epoch 214/600:  36%|███▌      | 214/600 [14:05<25:24,  3.95s/it, v_num=p2_1, total_loss_train=890, kl_local_train=75.7, tardis_age_0_train=8.11, tardis_integration_donor_0_train=9.49]"
     ]
    },
    {
     "name": "stdout",
     "output_type": "stream",
     "text": [
      "\r",
      "Epoch 214/600:  36%|███▌      | 214/600 [14:05<25:24,  3.95s/it, v_num=p2_1, total_loss_train=890, kl_local_train=75.7, tardis_age_0_train=8.12, tardis_integration_donor_0_train=9.45]"
     ]
    },
    {
     "name": "stdout",
     "output_type": "stream",
     "text": [
      "\r",
      "Epoch 215/600:  36%|███▌      | 214/600 [14:05<25:24,  3.95s/it, v_num=p2_1, total_loss_train=890, kl_local_train=75.7, tardis_age_0_train=8.12, tardis_integration_donor_0_train=9.45]"
     ]
    },
    {
     "name": "stdout",
     "output_type": "stream",
     "text": [
      "\r",
      "Epoch 215/600:  36%|███▌      | 215/600 [14:09<25:23,  3.96s/it, v_num=p2_1, total_loss_train=890, kl_local_train=75.7, tardis_age_0_train=8.12, tardis_integration_donor_0_train=9.45]"
     ]
    },
    {
     "name": "stdout",
     "output_type": "stream",
     "text": [
      "\r",
      "Epoch 215/600:  36%|███▌      | 215/600 [14:09<25:23,  3.96s/it, v_num=p2_1, total_loss_train=890, kl_local_train=75.5, tardis_age_0_train=8.15, tardis_integration_donor_0_train=9.36]"
     ]
    },
    {
     "name": "stdout",
     "output_type": "stream",
     "text": [
      "\r",
      "Epoch 216/600:  36%|███▌      | 215/600 [14:09<25:23,  3.96s/it, v_num=p2_1, total_loss_train=890, kl_local_train=75.5, tardis_age_0_train=8.15, tardis_integration_donor_0_train=9.36]"
     ]
    },
    {
     "name": "stdout",
     "output_type": "stream",
     "text": [
      "\r",
      "Epoch 216/600:  36%|███▌      | 216/600 [14:13<25:18,  3.95s/it, v_num=p2_1, total_loss_train=890, kl_local_train=75.5, tardis_age_0_train=8.15, tardis_integration_donor_0_train=9.36]"
     ]
    },
    {
     "name": "stdout",
     "output_type": "stream",
     "text": [
      "\r",
      "Epoch 216/600:  36%|███▌      | 216/600 [14:13<25:18,  3.95s/it, v_num=p2_1, total_loss_train=890, kl_local_train=75.2, tardis_age_0_train=8.23, tardis_integration_donor_0_train=9.49]"
     ]
    },
    {
     "name": "stdout",
     "output_type": "stream",
     "text": [
      "\r",
      "Epoch 217/600:  36%|███▌      | 216/600 [14:13<25:18,  3.95s/it, v_num=p2_1, total_loss_train=890, kl_local_train=75.2, tardis_age_0_train=8.23, tardis_integration_donor_0_train=9.49]"
     ]
    },
    {
     "name": "stdout",
     "output_type": "stream",
     "text": [
      "\r",
      "Epoch 217/600:  36%|███▌      | 217/600 [14:17<25:12,  3.95s/it, v_num=p2_1, total_loss_train=890, kl_local_train=75.2, tardis_age_0_train=8.23, tardis_integration_donor_0_train=9.49]"
     ]
    },
    {
     "name": "stdout",
     "output_type": "stream",
     "text": [
      "\r",
      "Epoch 217/600:  36%|███▌      | 217/600 [14:17<25:12,  3.95s/it, v_num=p2_1, total_loss_train=890, kl_local_train=75, tardis_age_0_train=8.27, tardis_integration_donor_0_train=9.56]  "
     ]
    },
    {
     "name": "stdout",
     "output_type": "stream",
     "text": [
      "\r",
      "Epoch 218/600:  36%|███▌      | 217/600 [14:17<25:12,  3.95s/it, v_num=p2_1, total_loss_train=890, kl_local_train=75, tardis_age_0_train=8.27, tardis_integration_donor_0_train=9.56]"
     ]
    },
    {
     "name": "stdout",
     "output_type": "stream",
     "text": [
      "\r",
      "Epoch 218/600:  36%|███▋      | 218/600 [14:21<25:10,  3.95s/it, v_num=p2_1, total_loss_train=890, kl_local_train=75, tardis_age_0_train=8.27, tardis_integration_donor_0_train=9.56]"
     ]
    },
    {
     "name": "stdout",
     "output_type": "stream",
     "text": [
      "\r",
      "Epoch 218/600:  36%|███▋      | 218/600 [14:21<25:10,  3.95s/it, v_num=p2_1, total_loss_train=890, kl_local_train=74.3, tardis_age_0_train=8.4, tardis_integration_donor_0_train=9.54]"
     ]
    },
    {
     "name": "stdout",
     "output_type": "stream",
     "text": [
      "\r",
      "Epoch 219/600:  36%|███▋      | 218/600 [14:21<25:10,  3.95s/it, v_num=p2_1, total_loss_train=890, kl_local_train=74.3, tardis_age_0_train=8.4, tardis_integration_donor_0_train=9.54]"
     ]
    },
    {
     "name": "stdout",
     "output_type": "stream",
     "text": [
      "\r",
      "Epoch 219/600:  36%|███▋      | 219/600 [14:25<25:05,  3.95s/it, v_num=p2_1, total_loss_train=890, kl_local_train=74.3, tardis_age_0_train=8.4, tardis_integration_donor_0_train=9.54]"
     ]
    },
    {
     "name": "stdout",
     "output_type": "stream",
     "text": [
      "\r",
      "Epoch 219/600:  36%|███▋      | 219/600 [14:25<25:05,  3.95s/it, v_num=p2_1, total_loss_train=889, kl_local_train=74.5, tardis_age_0_train=8.23, tardis_integration_donor_0_train=9.53]"
     ]
    },
    {
     "name": "stdout",
     "output_type": "stream",
     "text": [
      "\r",
      "Epoch 220/600:  36%|███▋      | 219/600 [14:25<25:05,  3.95s/it, v_num=p2_1, total_loss_train=889, kl_local_train=74.5, tardis_age_0_train=8.23, tardis_integration_donor_0_train=9.53]"
     ]
    },
    {
     "name": "stdout",
     "output_type": "stream",
     "text": [
      "\r",
      "Epoch 220/600:  37%|███▋      | 220/600 [14:29<24:59,  3.95s/it, v_num=p2_1, total_loss_train=889, kl_local_train=74.5, tardis_age_0_train=8.23, tardis_integration_donor_0_train=9.53]"
     ]
    },
    {
     "name": "stdout",
     "output_type": "stream",
     "text": [
      "\r",
      "Epoch 220/600:  37%|███▋      | 220/600 [14:29<24:59,  3.95s/it, v_num=p2_1, total_loss_train=889, kl_local_train=74.1, tardis_age_0_train=8.29, tardis_integration_donor_0_train=9.68]"
     ]
    },
    {
     "name": "stdout",
     "output_type": "stream",
     "text": [
      "\r",
      "Epoch 221/600:  37%|███▋      | 220/600 [14:29<24:59,  3.95s/it, v_num=p2_1, total_loss_train=889, kl_local_train=74.1, tardis_age_0_train=8.29, tardis_integration_donor_0_train=9.68]"
     ]
    },
    {
     "name": "stdout",
     "output_type": "stream",
     "text": [
      "\r",
      "Epoch 221/600:  37%|███▋      | 221/600 [14:33<24:50,  3.93s/it, v_num=p2_1, total_loss_train=889, kl_local_train=74.1, tardis_age_0_train=8.29, tardis_integration_donor_0_train=9.68]"
     ]
    },
    {
     "name": "stdout",
     "output_type": "stream",
     "text": [
      "\r",
      "Epoch 221/600:  37%|███▋      | 221/600 [14:33<24:50,  3.93s/it, v_num=p2_1, total_loss_train=889, kl_local_train=74.1, tardis_age_0_train=8.35, tardis_integration_donor_0_train=9.5] "
     ]
    },
    {
     "name": "stdout",
     "output_type": "stream",
     "text": [
      "\r",
      "Epoch 222/600:  37%|███▋      | 221/600 [14:33<24:50,  3.93s/it, v_num=p2_1, total_loss_train=889, kl_local_train=74.1, tardis_age_0_train=8.35, tardis_integration_donor_0_train=9.5]"
     ]
    },
    {
     "name": "stdout",
     "output_type": "stream",
     "text": [
      "\r",
      "Epoch 222/600:  37%|███▋      | 222/600 [14:37<24:43,  3.93s/it, v_num=p2_1, total_loss_train=889, kl_local_train=74.1, tardis_age_0_train=8.35, tardis_integration_donor_0_train=9.5]"
     ]
    },
    {
     "name": "stdout",
     "output_type": "stream",
     "text": [
      "\r",
      "Epoch 222/600:  37%|███▋      | 222/600 [14:37<24:43,  3.93s/it, v_num=p2_1, total_loss_train=889, kl_local_train=74.1, tardis_age_0_train=8.33, tardis_integration_donor_0_train=9.55]"
     ]
    },
    {
     "name": "stdout",
     "output_type": "stream",
     "text": [
      "\r",
      "Epoch 223/600:  37%|███▋      | 222/600 [14:37<24:43,  3.93s/it, v_num=p2_1, total_loss_train=889, kl_local_train=74.1, tardis_age_0_train=8.33, tardis_integration_donor_0_train=9.55]"
     ]
    },
    {
     "name": "stdout",
     "output_type": "stream",
     "text": [
      "\r",
      "Epoch 223/600:  37%|███▋      | 223/600 [14:41<24:40,  3.93s/it, v_num=p2_1, total_loss_train=889, kl_local_train=74.1, tardis_age_0_train=8.33, tardis_integration_donor_0_train=9.55]"
     ]
    },
    {
     "name": "stdout",
     "output_type": "stream",
     "text": [
      "\r",
      "Epoch 223/600:  37%|███▋      | 223/600 [14:41<24:40,  3.93s/it, v_num=p2_1, total_loss_train=889, kl_local_train=73.7, tardis_age_0_train=8.42, tardis_integration_donor_0_train=9.59]"
     ]
    },
    {
     "name": "stdout",
     "output_type": "stream",
     "text": [
      "\r",
      "Epoch 224/600:  37%|███▋      | 223/600 [14:41<24:40,  3.93s/it, v_num=p2_1, total_loss_train=889, kl_local_train=73.7, tardis_age_0_train=8.42, tardis_integration_donor_0_train=9.59]"
     ]
    },
    {
     "name": "stdout",
     "output_type": "stream",
     "text": [
      "\r",
      "Epoch 224/600:  37%|███▋      | 224/600 [14:45<24:42,  3.94s/it, v_num=p2_1, total_loss_train=889, kl_local_train=73.7, tardis_age_0_train=8.42, tardis_integration_donor_0_train=9.59]"
     ]
    },
    {
     "name": "stdout",
     "output_type": "stream",
     "text": [
      "\r",
      "Epoch 224/600:  37%|███▋      | 224/600 [14:45<24:42,  3.94s/it, v_num=p2_1, total_loss_train=889, kl_local_train=72.5, tardis_age_0_train=8.54, tardis_integration_donor_0_train=9.88]"
     ]
    },
    {
     "name": "stdout",
     "output_type": "stream",
     "text": [
      "\r",
      "Epoch 225/600:  37%|███▋      | 224/600 [14:45<24:42,  3.94s/it, v_num=p2_1, total_loss_train=889, kl_local_train=72.5, tardis_age_0_train=8.54, tardis_integration_donor_0_train=9.88]"
     ]
    },
    {
     "name": "stdout",
     "output_type": "stream",
     "text": [
      "\r",
      "Epoch 225/600:  38%|███▊      | 225/600 [14:49<24:39,  3.95s/it, v_num=p2_1, total_loss_train=889, kl_local_train=72.5, tardis_age_0_train=8.54, tardis_integration_donor_0_train=9.88]"
     ]
    },
    {
     "name": "stdout",
     "output_type": "stream",
     "text": [
      "\r",
      "Epoch 225/600:  38%|███▊      | 225/600 [14:49<24:39,  3.95s/it, v_num=p2_1, total_loss_train=888, kl_local_train=73.5, tardis_age_0_train=8.38, tardis_integration_donor_0_train=9.63]"
     ]
    },
    {
     "name": "stdout",
     "output_type": "stream",
     "text": [
      "\r",
      "Epoch 226/600:  38%|███▊      | 225/600 [14:49<24:39,  3.95s/it, v_num=p2_1, total_loss_train=888, kl_local_train=73.5, tardis_age_0_train=8.38, tardis_integration_donor_0_train=9.63]"
     ]
    },
    {
     "name": "stdout",
     "output_type": "stream",
     "text": [
      "\r",
      "Epoch 226/600:  38%|███▊      | 226/600 [14:53<24:33,  3.94s/it, v_num=p2_1, total_loss_train=888, kl_local_train=73.5, tardis_age_0_train=8.38, tardis_integration_donor_0_train=9.63]"
     ]
    },
    {
     "name": "stdout",
     "output_type": "stream",
     "text": [
      "\r",
      "Epoch 226/600:  38%|███▊      | 226/600 [14:53<24:33,  3.94s/it, v_num=p2_1, total_loss_train=888, kl_local_train=73.6, tardis_age_0_train=8.41, tardis_integration_donor_0_train=9.62]"
     ]
    },
    {
     "name": "stdout",
     "output_type": "stream",
     "text": [
      "\r",
      "Epoch 227/600:  38%|███▊      | 226/600 [14:53<24:33,  3.94s/it, v_num=p2_1, total_loss_train=888, kl_local_train=73.6, tardis_age_0_train=8.41, tardis_integration_donor_0_train=9.62]"
     ]
    },
    {
     "name": "stdout",
     "output_type": "stream",
     "text": [
      "\r",
      "Epoch 227/600:  38%|███▊      | 227/600 [14:57<24:27,  3.93s/it, v_num=p2_1, total_loss_train=888, kl_local_train=73.6, tardis_age_0_train=8.41, tardis_integration_donor_0_train=9.62]"
     ]
    },
    {
     "name": "stdout",
     "output_type": "stream",
     "text": [
      "\r",
      "Epoch 227/600:  38%|███▊      | 227/600 [14:57<24:27,  3.93s/it, v_num=p2_1, total_loss_train=888, kl_local_train=73.5, tardis_age_0_train=8.27, tardis_integration_donor_0_train=9.69]"
     ]
    },
    {
     "name": "stdout",
     "output_type": "stream",
     "text": [
      "\r",
      "Epoch 228/600:  38%|███▊      | 227/600 [14:57<24:27,  3.93s/it, v_num=p2_1, total_loss_train=888, kl_local_train=73.5, tardis_age_0_train=8.27, tardis_integration_donor_0_train=9.69]"
     ]
    },
    {
     "name": "stdout",
     "output_type": "stream",
     "text": [
      "\r",
      "Epoch 228/600:  38%|███▊      | 228/600 [15:01<24:26,  3.94s/it, v_num=p2_1, total_loss_train=888, kl_local_train=73.5, tardis_age_0_train=8.27, tardis_integration_donor_0_train=9.69]"
     ]
    },
    {
     "name": "stdout",
     "output_type": "stream",
     "text": [
      "\r",
      "Epoch 228/600:  38%|███▊      | 228/600 [15:01<24:26,  3.94s/it, v_num=p2_1, total_loss_train=888, kl_local_train=73.9, tardis_age_0_train=8.43, tardis_integration_donor_0_train=9.71]"
     ]
    },
    {
     "name": "stdout",
     "output_type": "stream",
     "text": [
      "\r",
      "Epoch 229/600:  38%|███▊      | 228/600 [15:01<24:26,  3.94s/it, v_num=p2_1, total_loss_train=888, kl_local_train=73.9, tardis_age_0_train=8.43, tardis_integration_donor_0_train=9.71]"
     ]
    },
    {
     "name": "stdout",
     "output_type": "stream",
     "text": [
      "\r",
      "Epoch 229/600:  38%|███▊      | 229/600 [15:04<24:17,  3.93s/it, v_num=p2_1, total_loss_train=888, kl_local_train=73.9, tardis_age_0_train=8.43, tardis_integration_donor_0_train=9.71]"
     ]
    },
    {
     "name": "stdout",
     "output_type": "stream",
     "text": [
      "\r",
      "Epoch 229/600:  38%|███▊      | 229/600 [15:04<24:17,  3.93s/it, v_num=p2_1, total_loss_train=888, kl_local_train=73.8, tardis_age_0_train=8.39, tardis_integration_donor_0_train=9.52]"
     ]
    },
    {
     "name": "stdout",
     "output_type": "stream",
     "text": [
      "\r",
      "Epoch 230/600:  38%|███▊      | 229/600 [15:04<24:17,  3.93s/it, v_num=p2_1, total_loss_train=888, kl_local_train=73.8, tardis_age_0_train=8.39, tardis_integration_donor_0_train=9.52]"
     ]
    },
    {
     "name": "stdout",
     "output_type": "stream",
     "text": [
      "\r",
      "Epoch 230/600:  38%|███▊      | 230/600 [15:08<24:19,  3.94s/it, v_num=p2_1, total_loss_train=888, kl_local_train=73.8, tardis_age_0_train=8.39, tardis_integration_donor_0_train=9.52]"
     ]
    },
    {
     "name": "stdout",
     "output_type": "stream",
     "text": [
      "\r",
      "Epoch 230/600:  38%|███▊      | 230/600 [15:08<24:19,  3.94s/it, v_num=p2_1, total_loss_train=888, kl_local_train=72.9, tardis_age_0_train=8.53, tardis_integration_donor_0_train=9.66]"
     ]
    },
    {
     "name": "stdout",
     "output_type": "stream",
     "text": [
      "\r",
      "Epoch 231/600:  38%|███▊      | 230/600 [15:08<24:19,  3.94s/it, v_num=p2_1, total_loss_train=888, kl_local_train=72.9, tardis_age_0_train=8.53, tardis_integration_donor_0_train=9.66]"
     ]
    },
    {
     "name": "stdout",
     "output_type": "stream",
     "text": [
      "\r",
      "Epoch 231/600:  38%|███▊      | 231/600 [15:12<24:19,  3.95s/it, v_num=p2_1, total_loss_train=888, kl_local_train=72.9, tardis_age_0_train=8.53, tardis_integration_donor_0_train=9.66]"
     ]
    },
    {
     "name": "stdout",
     "output_type": "stream",
     "text": [
      "\r",
      "Epoch 231/600:  38%|███▊      | 231/600 [15:12<24:19,  3.95s/it, v_num=p2_1, total_loss_train=887, kl_local_train=72.8, tardis_age_0_train=8.4, tardis_integration_donor_0_train=9.72] "
     ]
    },
    {
     "name": "stdout",
     "output_type": "stream",
     "text": [
      "\r",
      "Epoch 232/600:  38%|███▊      | 231/600 [15:12<24:19,  3.95s/it, v_num=p2_1, total_loss_train=887, kl_local_train=72.8, tardis_age_0_train=8.4, tardis_integration_donor_0_train=9.72]"
     ]
    },
    {
     "name": "stdout",
     "output_type": "stream",
     "text": [
      "\r",
      "Epoch 232/600:  39%|███▊      | 232/600 [15:16<24:12,  3.95s/it, v_num=p2_1, total_loss_train=887, kl_local_train=72.8, tardis_age_0_train=8.4, tardis_integration_donor_0_train=9.72]"
     ]
    },
    {
     "name": "stdout",
     "output_type": "stream",
     "text": [
      "\r",
      "Epoch 232/600:  39%|███▊      | 232/600 [15:16<24:12,  3.95s/it, v_num=p2_1, total_loss_train=887, kl_local_train=73.6, tardis_age_0_train=8.32, tardis_integration_donor_0_train=9.63]"
     ]
    },
    {
     "name": "stdout",
     "output_type": "stream",
     "text": [
      "\r",
      "Epoch 233/600:  39%|███▊      | 232/600 [15:16<24:12,  3.95s/it, v_num=p2_1, total_loss_train=887, kl_local_train=73.6, tardis_age_0_train=8.32, tardis_integration_donor_0_train=9.63]"
     ]
    },
    {
     "name": "stdout",
     "output_type": "stream",
     "text": [
      "\r",
      "Epoch 233/600:  39%|███▉      | 233/600 [15:20<24:10,  3.95s/it, v_num=p2_1, total_loss_train=887, kl_local_train=73.6, tardis_age_0_train=8.32, tardis_integration_donor_0_train=9.63]"
     ]
    },
    {
     "name": "stdout",
     "output_type": "stream",
     "text": [
      "\r",
      "Epoch 233/600:  39%|███▉      | 233/600 [15:20<24:10,  3.95s/it, v_num=p2_1, total_loss_train=887, kl_local_train=72.6, tardis_age_0_train=8.44, tardis_integration_donor_0_train=9.85]"
     ]
    },
    {
     "name": "stdout",
     "output_type": "stream",
     "text": [
      "\r",
      "Epoch 234/600:  39%|███▉      | 233/600 [15:20<24:10,  3.95s/it, v_num=p2_1, total_loss_train=887, kl_local_train=72.6, tardis_age_0_train=8.44, tardis_integration_donor_0_train=9.85]"
     ]
    },
    {
     "name": "stdout",
     "output_type": "stream",
     "text": [
      "\r",
      "Epoch 234/600:  39%|███▉      | 234/600 [15:24<24:03,  3.94s/it, v_num=p2_1, total_loss_train=887, kl_local_train=72.6, tardis_age_0_train=8.44, tardis_integration_donor_0_train=9.85]"
     ]
    },
    {
     "name": "stdout",
     "output_type": "stream",
     "text": [
      "\r",
      "Epoch 234/600:  39%|███▉      | 234/600 [15:24<24:03,  3.94s/it, v_num=p2_1, total_loss_train=887, kl_local_train=72.2, tardis_age_0_train=8.62, tardis_integration_donor_0_train=9.95]"
     ]
    },
    {
     "name": "stdout",
     "output_type": "stream",
     "text": [
      "\r",
      "Epoch 235/600:  39%|███▉      | 234/600 [15:24<24:03,  3.94s/it, v_num=p2_1, total_loss_train=887, kl_local_train=72.2, tardis_age_0_train=8.62, tardis_integration_donor_0_train=9.95]"
     ]
    },
    {
     "name": "stdout",
     "output_type": "stream",
     "text": [
      "\r",
      "Epoch 235/600:  39%|███▉      | 235/600 [15:28<23:54,  3.93s/it, v_num=p2_1, total_loss_train=887, kl_local_train=72.2, tardis_age_0_train=8.62, tardis_integration_donor_0_train=9.95]"
     ]
    },
    {
     "name": "stdout",
     "output_type": "stream",
     "text": [
      "\r",
      "Epoch 235/600:  39%|███▉      | 235/600 [15:28<23:54,  3.93s/it, v_num=p2_1, total_loss_train=887, kl_local_train=72.7, tardis_age_0_train=8.56, tardis_integration_donor_0_train=9.83]"
     ]
    },
    {
     "name": "stdout",
     "output_type": "stream",
     "text": [
      "\r",
      "Epoch 236/600:  39%|███▉      | 235/600 [15:28<23:54,  3.93s/it, v_num=p2_1, total_loss_train=887, kl_local_train=72.7, tardis_age_0_train=8.56, tardis_integration_donor_0_train=9.83]"
     ]
    },
    {
     "name": "stdout",
     "output_type": "stream",
     "text": [
      "\r",
      "Epoch 236/600:  39%|███▉      | 236/600 [15:32<23:52,  3.93s/it, v_num=p2_1, total_loss_train=887, kl_local_train=72.7, tardis_age_0_train=8.56, tardis_integration_donor_0_train=9.83]"
     ]
    },
    {
     "name": "stdout",
     "output_type": "stream",
     "text": [
      "\r",
      "Epoch 236/600:  39%|███▉      | 236/600 [15:32<23:52,  3.93s/it, v_num=p2_1, total_loss_train=887, kl_local_train=72.5, tardis_age_0_train=8.61, tardis_integration_donor_0_train=9.91]"
     ]
    },
    {
     "name": "stdout",
     "output_type": "stream",
     "text": [
      "\r",
      "Epoch 237/600:  39%|███▉      | 236/600 [15:32<23:52,  3.93s/it, v_num=p2_1, total_loss_train=887, kl_local_train=72.5, tardis_age_0_train=8.61, tardis_integration_donor_0_train=9.91]"
     ]
    },
    {
     "name": "stdout",
     "output_type": "stream",
     "text": [
      "\r",
      "Epoch 237/600:  40%|███▉      | 237/600 [15:36<23:50,  3.94s/it, v_num=p2_1, total_loss_train=887, kl_local_train=72.5, tardis_age_0_train=8.61, tardis_integration_donor_0_train=9.91]"
     ]
    },
    {
     "name": "stdout",
     "output_type": "stream",
     "text": [
      "\r",
      "Epoch 237/600:  40%|███▉      | 237/600 [15:36<23:50,  3.94s/it, v_num=p2_1, total_loss_train=887, kl_local_train=72.3, tardis_age_0_train=8.65, tardis_integration_donor_0_train=9.98]"
     ]
    },
    {
     "name": "stdout",
     "output_type": "stream",
     "text": [
      "\r",
      "Epoch 238/600:  40%|███▉      | 237/600 [15:36<23:50,  3.94s/it, v_num=p2_1, total_loss_train=887, kl_local_train=72.3, tardis_age_0_train=8.65, tardis_integration_donor_0_train=9.98]"
     ]
    },
    {
     "name": "stdout",
     "output_type": "stream",
     "text": [
      "\r",
      "Epoch 238/600:  40%|███▉      | 238/600 [15:40<23:44,  3.93s/it, v_num=p2_1, total_loss_train=887, kl_local_train=72.3, tardis_age_0_train=8.65, tardis_integration_donor_0_train=9.98]"
     ]
    },
    {
     "name": "stdout",
     "output_type": "stream",
     "text": [
      "\r",
      "Epoch 238/600:  40%|███▉      | 238/600 [15:40<23:44,  3.93s/it, v_num=p2_1, total_loss_train=886, kl_local_train=72.7, tardis_age_0_train=8.53, tardis_integration_donor_0_train=9.82]"
     ]
    },
    {
     "name": "stdout",
     "output_type": "stream",
     "text": [
      "\r",
      "Epoch 239/600:  40%|███▉      | 238/600 [15:40<23:44,  3.93s/it, v_num=p2_1, total_loss_train=886, kl_local_train=72.7, tardis_age_0_train=8.53, tardis_integration_donor_0_train=9.82]"
     ]
    },
    {
     "name": "stdout",
     "output_type": "stream",
     "text": [
      "\r",
      "Epoch 239/600:  40%|███▉      | 239/600 [15:44<23:42,  3.94s/it, v_num=p2_1, total_loss_train=886, kl_local_train=72.7, tardis_age_0_train=8.53, tardis_integration_donor_0_train=9.82]"
     ]
    },
    {
     "name": "stdout",
     "output_type": "stream",
     "text": [
      "\r",
      "Epoch 239/600:  40%|███▉      | 239/600 [15:44<23:42,  3.94s/it, v_num=p2_1, total_loss_train=886, kl_local_train=72.2, tardis_age_0_train=8.51, tardis_integration_donor_0_train=9.95]"
     ]
    },
    {
     "name": "stdout",
     "output_type": "stream",
     "text": [
      "\r",
      "Epoch 240/600:  40%|███▉      | 239/600 [15:44<23:42,  3.94s/it, v_num=p2_1, total_loss_train=886, kl_local_train=72.2, tardis_age_0_train=8.51, tardis_integration_donor_0_train=9.95]"
     ]
    },
    {
     "name": "stdout",
     "output_type": "stream",
     "text": [
      "\r",
      "Epoch 240/600:  40%|████      | 240/600 [15:48<23:40,  3.94s/it, v_num=p2_1, total_loss_train=886, kl_local_train=72.2, tardis_age_0_train=8.51, tardis_integration_donor_0_train=9.95]"
     ]
    },
    {
     "name": "stdout",
     "output_type": "stream",
     "text": [
      "\r",
      "Epoch 240/600:  40%|████      | 240/600 [15:48<23:40,  3.94s/it, v_num=p2_1, total_loss_train=886, kl_local_train=72.1, tardis_age_0_train=8.6, tardis_integration_donor_0_train=9.94] "
     ]
    },
    {
     "name": "stdout",
     "output_type": "stream",
     "text": [
      "\r",
      "Epoch 241/600:  40%|████      | 240/600 [15:48<23:40,  3.94s/it, v_num=p2_1, total_loss_train=886, kl_local_train=72.1, tardis_age_0_train=8.6, tardis_integration_donor_0_train=9.94]"
     ]
    },
    {
     "name": "stdout",
     "output_type": "stream",
     "text": [
      "\r",
      "Epoch 241/600:  40%|████      | 241/600 [15:52<23:36,  3.94s/it, v_num=p2_1, total_loss_train=886, kl_local_train=72.1, tardis_age_0_train=8.6, tardis_integration_donor_0_train=9.94]"
     ]
    },
    {
     "name": "stdout",
     "output_type": "stream",
     "text": [
      "\r",
      "Epoch 241/600:  40%|████      | 241/600 [15:52<23:36,  3.94s/it, v_num=p2_1, total_loss_train=886, kl_local_train=72.2, tardis_age_0_train=8.71, tardis_integration_donor_0_train=10] "
     ]
    },
    {
     "name": "stdout",
     "output_type": "stream",
     "text": [
      "\r",
      "Epoch 242/600:  40%|████      | 241/600 [15:52<23:36,  3.94s/it, v_num=p2_1, total_loss_train=886, kl_local_train=72.2, tardis_age_0_train=8.71, tardis_integration_donor_0_train=10]"
     ]
    },
    {
     "name": "stdout",
     "output_type": "stream",
     "text": [
      "\r",
      "Epoch 242/600:  40%|████      | 242/600 [15:56<23:33,  3.95s/it, v_num=p2_1, total_loss_train=886, kl_local_train=72.2, tardis_age_0_train=8.71, tardis_integration_donor_0_train=10]"
     ]
    },
    {
     "name": "stdout",
     "output_type": "stream",
     "text": [
      "\r",
      "Epoch 242/600:  40%|████      | 242/600 [15:56<23:33,  3.95s/it, v_num=p2_1, total_loss_train=885, kl_local_train=71.6, tardis_age_0_train=8.7, tardis_integration_donor_0_train=10] "
     ]
    },
    {
     "name": "stdout",
     "output_type": "stream",
     "text": [
      "\r",
      "Epoch 243/600:  40%|████      | 242/600 [15:56<23:33,  3.95s/it, v_num=p2_1, total_loss_train=885, kl_local_train=71.6, tardis_age_0_train=8.7, tardis_integration_donor_0_train=10]"
     ]
    },
    {
     "name": "stdout",
     "output_type": "stream",
     "text": [
      "\r",
      "Epoch 243/600:  40%|████      | 243/600 [16:00<23:29,  3.95s/it, v_num=p2_1, total_loss_train=885, kl_local_train=71.6, tardis_age_0_train=8.7, tardis_integration_donor_0_train=10]"
     ]
    },
    {
     "name": "stdout",
     "output_type": "stream",
     "text": [
      "\r",
      "Epoch 243/600:  40%|████      | 243/600 [16:00<23:29,  3.95s/it, v_num=p2_1, total_loss_train=885, kl_local_train=72.4, tardis_age_0_train=8.59, tardis_integration_donor_0_train=9.9]"
     ]
    },
    {
     "name": "stdout",
     "output_type": "stream",
     "text": [
      "\r",
      "Epoch 244/600:  40%|████      | 243/600 [16:00<23:29,  3.95s/it, v_num=p2_1, total_loss_train=885, kl_local_train=72.4, tardis_age_0_train=8.59, tardis_integration_donor_0_train=9.9]"
     ]
    },
    {
     "name": "stdout",
     "output_type": "stream",
     "text": [
      "\r",
      "Epoch 244/600:  41%|████      | 244/600 [16:04<23:23,  3.94s/it, v_num=p2_1, total_loss_train=885, kl_local_train=72.4, tardis_age_0_train=8.59, tardis_integration_donor_0_train=9.9]"
     ]
    },
    {
     "name": "stdout",
     "output_type": "stream",
     "text": [
      "\r",
      "Epoch 244/600:  41%|████      | 244/600 [16:04<23:23,  3.94s/it, v_num=p2_1, total_loss_train=886, kl_local_train=71.4, tardis_age_0_train=8.77, tardis_integration_donor_0_train=10.1]"
     ]
    },
    {
     "name": "stdout",
     "output_type": "stream",
     "text": [
      "\r",
      "Epoch 245/600:  41%|████      | 244/600 [16:04<23:23,  3.94s/it, v_num=p2_1, total_loss_train=886, kl_local_train=71.4, tardis_age_0_train=8.77, tardis_integration_donor_0_train=10.1]"
     ]
    },
    {
     "name": "stdout",
     "output_type": "stream",
     "text": [
      "\r",
      "Epoch 245/600:  41%|████      | 245/600 [16:08<23:17,  3.94s/it, v_num=p2_1, total_loss_train=886, kl_local_train=71.4, tardis_age_0_train=8.77, tardis_integration_donor_0_train=10.1]"
     ]
    },
    {
     "name": "stdout",
     "output_type": "stream",
     "text": [
      "\r",
      "Epoch 245/600:  41%|████      | 245/600 [16:08<23:17,  3.94s/it, v_num=p2_1, total_loss_train=885, kl_local_train=70.7, tardis_age_0_train=8.69, tardis_integration_donor_0_train=10]  "
     ]
    },
    {
     "name": "stdout",
     "output_type": "stream",
     "text": [
      "\r",
      "Epoch 246/600:  41%|████      | 245/600 [16:08<23:17,  3.94s/it, v_num=p2_1, total_loss_train=885, kl_local_train=70.7, tardis_age_0_train=8.69, tardis_integration_donor_0_train=10]"
     ]
    },
    {
     "name": "stdout",
     "output_type": "stream",
     "text": [
      "\r",
      "Epoch 246/600:  41%|████      | 246/600 [16:11<23:11,  3.93s/it, v_num=p2_1, total_loss_train=885, kl_local_train=70.7, tardis_age_0_train=8.69, tardis_integration_donor_0_train=10]"
     ]
    },
    {
     "name": "stdout",
     "output_type": "stream",
     "text": [
      "\r",
      "Epoch 246/600:  41%|████      | 246/600 [16:11<23:11,  3.93s/it, v_num=p2_1, total_loss_train=885, kl_local_train=71.1, tardis_age_0_train=8.67, tardis_integration_donor_0_train=10.2]"
     ]
    },
    {
     "name": "stdout",
     "output_type": "stream",
     "text": [
      "\r",
      "Epoch 247/600:  41%|████      | 246/600 [16:11<23:11,  3.93s/it, v_num=p2_1, total_loss_train=885, kl_local_train=71.1, tardis_age_0_train=8.67, tardis_integration_donor_0_train=10.2]"
     ]
    },
    {
     "name": "stdout",
     "output_type": "stream",
     "text": [
      "\r",
      "Epoch 247/600:  41%|████      | 247/600 [16:15<23:12,  3.95s/it, v_num=p2_1, total_loss_train=885, kl_local_train=71.1, tardis_age_0_train=8.67, tardis_integration_donor_0_train=10.2]"
     ]
    },
    {
     "name": "stdout",
     "output_type": "stream",
     "text": [
      "\r",
      "Epoch 247/600:  41%|████      | 247/600 [16:15<23:12,  3.95s/it, v_num=p2_1, total_loss_train=885, kl_local_train=70.9, tardis_age_0_train=8.67, tardis_integration_donor_0_train=9.88]"
     ]
    },
    {
     "name": "stdout",
     "output_type": "stream",
     "text": [
      "\r",
      "Epoch 248/600:  41%|████      | 247/600 [16:15<23:12,  3.95s/it, v_num=p2_1, total_loss_train=885, kl_local_train=70.9, tardis_age_0_train=8.67, tardis_integration_donor_0_train=9.88]"
     ]
    },
    {
     "name": "stdout",
     "output_type": "stream",
     "text": [
      "\r",
      "Epoch 248/600:  41%|████▏     | 248/600 [16:19<23:09,  3.95s/it, v_num=p2_1, total_loss_train=885, kl_local_train=70.9, tardis_age_0_train=8.67, tardis_integration_donor_0_train=9.88]"
     ]
    },
    {
     "name": "stdout",
     "output_type": "stream",
     "text": [
      "\r",
      "Epoch 248/600:  41%|████▏     | 248/600 [16:19<23:09,  3.95s/it, v_num=p2_1, total_loss_train=885, kl_local_train=69.5, tardis_age_0_train=8.93, tardis_integration_donor_0_train=10.2]"
     ]
    },
    {
     "name": "stdout",
     "output_type": "stream",
     "text": [
      "\r",
      "Epoch 249/600:  41%|████▏     | 248/600 [16:19<23:09,  3.95s/it, v_num=p2_1, total_loss_train=885, kl_local_train=69.5, tardis_age_0_train=8.93, tardis_integration_donor_0_train=10.2]"
     ]
    },
    {
     "name": "stdout",
     "output_type": "stream",
     "text": [
      "\r",
      "Epoch 249/600:  42%|████▏     | 249/600 [16:23<23:06,  3.95s/it, v_num=p2_1, total_loss_train=885, kl_local_train=69.5, tardis_age_0_train=8.93, tardis_integration_donor_0_train=10.2]"
     ]
    },
    {
     "name": "stdout",
     "output_type": "stream",
     "text": [
      "\r",
      "Epoch 249/600:  42%|████▏     | 249/600 [16:23<23:06,  3.95s/it, v_num=p2_1, total_loss_train=884, kl_local_train=69.6, tardis_age_0_train=8.86, tardis_integration_donor_0_train=10.2]"
     ]
    },
    {
     "name": "stdout",
     "output_type": "stream",
     "text": [
      "\r",
      "Epoch 250/600:  42%|████▏     | 249/600 [16:23<23:06,  3.95s/it, v_num=p2_1, total_loss_train=884, kl_local_train=69.6, tardis_age_0_train=8.86, tardis_integration_donor_0_train=10.2]"
     ]
    },
    {
     "name": "stdout",
     "output_type": "stream",
     "text": [
      "\r",
      "Epoch 250/600:  42%|████▏     | 250/600 [16:27<23:00,  3.94s/it, v_num=p2_1, total_loss_train=884, kl_local_train=69.6, tardis_age_0_train=8.86, tardis_integration_donor_0_train=10.2]"
     ]
    },
    {
     "name": "stdout",
     "output_type": "stream",
     "text": [
      "\r",
      "Epoch 250/600:  42%|████▏     | 250/600 [16:27<23:00,  3.94s/it, v_num=p2_1, total_loss_train=884, kl_local_train=69.3, tardis_age_0_train=8.96, tardis_integration_donor_0_train=10.2]"
     ]
    },
    {
     "name": "stdout",
     "output_type": "stream",
     "text": [
      "\r",
      "Epoch 251/600:  42%|████▏     | 250/600 [16:27<23:00,  3.94s/it, v_num=p2_1, total_loss_train=884, kl_local_train=69.3, tardis_age_0_train=8.96, tardis_integration_donor_0_train=10.2]"
     ]
    },
    {
     "name": "stdout",
     "output_type": "stream",
     "text": [
      "\r",
      "Epoch 251/600:  42%|████▏     | 251/600 [16:31<22:59,  3.95s/it, v_num=p2_1, total_loss_train=884, kl_local_train=69.3, tardis_age_0_train=8.96, tardis_integration_donor_0_train=10.2]"
     ]
    },
    {
     "name": "stdout",
     "output_type": "stream",
     "text": [
      "\r",
      "Epoch 251/600:  42%|████▏     | 251/600 [16:31<22:59,  3.95s/it, v_num=p2_1, total_loss_train=884, kl_local_train=70.4, tardis_age_0_train=8.83, tardis_integration_donor_0_train=10.1]"
     ]
    },
    {
     "name": "stdout",
     "output_type": "stream",
     "text": [
      "\r",
      "Epoch 252/600:  42%|████▏     | 251/600 [16:31<22:59,  3.95s/it, v_num=p2_1, total_loss_train=884, kl_local_train=70.4, tardis_age_0_train=8.83, tardis_integration_donor_0_train=10.1]"
     ]
    },
    {
     "name": "stdout",
     "output_type": "stream",
     "text": [
      "\r",
      "Epoch 252/600:  42%|████▏     | 252/600 [16:35<22:55,  3.95s/it, v_num=p2_1, total_loss_train=884, kl_local_train=70.4, tardis_age_0_train=8.83, tardis_integration_donor_0_train=10.1]"
     ]
    },
    {
     "name": "stdout",
     "output_type": "stream",
     "text": [
      "\r",
      "Epoch 252/600:  42%|████▏     | 252/600 [16:35<22:55,  3.95s/it, v_num=p2_1, total_loss_train=884, kl_local_train=69.9, tardis_age_0_train=8.87, tardis_integration_donor_0_train=10.2]"
     ]
    },
    {
     "name": "stdout",
     "output_type": "stream",
     "text": [
      "\r",
      "Epoch 253/600:  42%|████▏     | 252/600 [16:35<22:55,  3.95s/it, v_num=p2_1, total_loss_train=884, kl_local_train=69.9, tardis_age_0_train=8.87, tardis_integration_donor_0_train=10.2]"
     ]
    },
    {
     "name": "stdout",
     "output_type": "stream",
     "text": [
      "\r",
      "Epoch 253/600:  42%|████▏     | 253/600 [16:39<22:49,  3.95s/it, v_num=p2_1, total_loss_train=884, kl_local_train=69.9, tardis_age_0_train=8.87, tardis_integration_donor_0_train=10.2]"
     ]
    },
    {
     "name": "stdout",
     "output_type": "stream",
     "text": [
      "\r",
      "Epoch 253/600:  42%|████▏     | 253/600 [16:39<22:49,  3.95s/it, v_num=p2_1, total_loss_train=884, kl_local_train=70, tardis_age_0_train=8.79, tardis_integration_donor_0_train=10.2]  "
     ]
    },
    {
     "name": "stdout",
     "output_type": "stream",
     "text": [
      "\r",
      "Epoch 254/600:  42%|████▏     | 253/600 [16:39<22:49,  3.95s/it, v_num=p2_1, total_loss_train=884, kl_local_train=70, tardis_age_0_train=8.79, tardis_integration_donor_0_train=10.2]"
     ]
    },
    {
     "name": "stdout",
     "output_type": "stream",
     "text": [
      "\r",
      "Epoch 254/600:  42%|████▏     | 254/600 [16:43<22:46,  3.95s/it, v_num=p2_1, total_loss_train=884, kl_local_train=70, tardis_age_0_train=8.79, tardis_integration_donor_0_train=10.2]"
     ]
    },
    {
     "name": "stdout",
     "output_type": "stream",
     "text": [
      "\r",
      "Epoch 254/600:  42%|████▏     | 254/600 [16:43<22:46,  3.95s/it, v_num=p2_1, total_loss_train=884, kl_local_train=69.3, tardis_age_0_train=8.89, tardis_integration_donor_0_train=10.4]"
     ]
    },
    {
     "name": "stdout",
     "output_type": "stream",
     "text": [
      "\r",
      "Epoch 255/600:  42%|████▏     | 254/600 [16:43<22:46,  3.95s/it, v_num=p2_1, total_loss_train=884, kl_local_train=69.3, tardis_age_0_train=8.89, tardis_integration_donor_0_train=10.4]"
     ]
    },
    {
     "name": "stdout",
     "output_type": "stream",
     "text": [
      "\r",
      "Epoch 255/600:  42%|████▎     | 255/600 [16:47<22:45,  3.96s/it, v_num=p2_1, total_loss_train=884, kl_local_train=69.3, tardis_age_0_train=8.89, tardis_integration_donor_0_train=10.4]"
     ]
    },
    {
     "name": "stdout",
     "output_type": "stream",
     "text": [
      "\r",
      "Epoch 255/600:  42%|████▎     | 255/600 [16:47<22:45,  3.96s/it, v_num=p2_1, total_loss_train=883, kl_local_train=69.8, tardis_age_0_train=8.79, tardis_integration_donor_0_train=10.2]"
     ]
    },
    {
     "name": "stdout",
     "output_type": "stream",
     "text": [
      "\r",
      "Epoch 256/600:  42%|████▎     | 255/600 [16:47<22:45,  3.96s/it, v_num=p2_1, total_loss_train=883, kl_local_train=69.8, tardis_age_0_train=8.79, tardis_integration_donor_0_train=10.2]"
     ]
    },
    {
     "name": "stdout",
     "output_type": "stream",
     "text": [
      "\r",
      "Epoch 256/600:  43%|████▎     | 256/600 [16:51<22:41,  3.96s/it, v_num=p2_1, total_loss_train=883, kl_local_train=69.8, tardis_age_0_train=8.79, tardis_integration_donor_0_train=10.2]"
     ]
    },
    {
     "name": "stdout",
     "output_type": "stream",
     "text": [
      "\r",
      "Epoch 256/600:  43%|████▎     | 256/600 [16:51<22:41,  3.96s/it, v_num=p2_1, total_loss_train=883, kl_local_train=70.3, tardis_age_0_train=8.83, tardis_integration_donor_0_train=10.3]"
     ]
    },
    {
     "name": "stdout",
     "output_type": "stream",
     "text": [
      "\r",
      "Epoch 257/600:  43%|████▎     | 256/600 [16:51<22:41,  3.96s/it, v_num=p2_1, total_loss_train=883, kl_local_train=70.3, tardis_age_0_train=8.83, tardis_integration_donor_0_train=10.3]"
     ]
    },
    {
     "name": "stdout",
     "output_type": "stream",
     "text": [
      "\r",
      "Epoch 257/600:  43%|████▎     | 257/600 [16:55<22:37,  3.96s/it, v_num=p2_1, total_loss_train=883, kl_local_train=70.3, tardis_age_0_train=8.83, tardis_integration_donor_0_train=10.3]"
     ]
    },
    {
     "name": "stdout",
     "output_type": "stream",
     "text": [
      "\r",
      "Epoch 257/600:  43%|████▎     | 257/600 [16:55<22:37,  3.96s/it, v_num=p2_1, total_loss_train=883, kl_local_train=69.9, tardis_age_0_train=8.84, tardis_integration_donor_0_train=10.3]"
     ]
    },
    {
     "name": "stdout",
     "output_type": "stream",
     "text": [
      "\r",
      "Epoch 258/600:  43%|████▎     | 257/600 [16:55<22:37,  3.96s/it, v_num=p2_1, total_loss_train=883, kl_local_train=69.9, tardis_age_0_train=8.84, tardis_integration_donor_0_train=10.3]"
     ]
    },
    {
     "name": "stdout",
     "output_type": "stream",
     "text": [
      "\r",
      "Epoch 258/600:  43%|████▎     | 258/600 [16:59<22:34,  3.96s/it, v_num=p2_1, total_loss_train=883, kl_local_train=69.9, tardis_age_0_train=8.84, tardis_integration_donor_0_train=10.3]"
     ]
    },
    {
     "name": "stdout",
     "output_type": "stream",
     "text": [
      "\r",
      "Epoch 258/600:  43%|████▎     | 258/600 [16:59<22:34,  3.96s/it, v_num=p2_1, total_loss_train=883, kl_local_train=69.5, tardis_age_0_train=9.03, tardis_integration_donor_0_train=10.4]"
     ]
    },
    {
     "name": "stdout",
     "output_type": "stream",
     "text": [
      "\r",
      "Epoch 259/600:  43%|████▎     | 258/600 [16:59<22:34,  3.96s/it, v_num=p2_1, total_loss_train=883, kl_local_train=69.5, tardis_age_0_train=9.03, tardis_integration_donor_0_train=10.4]"
     ]
    },
    {
     "name": "stdout",
     "output_type": "stream",
     "text": [
      "\r",
      "Epoch 259/600:  43%|████▎     | 259/600 [17:03<22:32,  3.97s/it, v_num=p2_1, total_loss_train=883, kl_local_train=69.5, tardis_age_0_train=9.03, tardis_integration_donor_0_train=10.4]"
     ]
    },
    {
     "name": "stdout",
     "output_type": "stream",
     "text": [
      "\r",
      "Epoch 259/600:  43%|████▎     | 259/600 [17:03<22:32,  3.97s/it, v_num=p2_1, total_loss_train=884, kl_local_train=69.9, tardis_age_0_train=8.86, tardis_integration_donor_0_train=10.4]"
     ]
    },
    {
     "name": "stdout",
     "output_type": "stream",
     "text": [
      "\r",
      "Epoch 260/600:  43%|████▎     | 259/600 [17:03<22:32,  3.97s/it, v_num=p2_1, total_loss_train=884, kl_local_train=69.9, tardis_age_0_train=8.86, tardis_integration_donor_0_train=10.4]"
     ]
    },
    {
     "name": "stdout",
     "output_type": "stream",
     "text": [
      "\r",
      "Epoch 260/600:  43%|████▎     | 260/600 [17:07<22:27,  3.96s/it, v_num=p2_1, total_loss_train=884, kl_local_train=69.9, tardis_age_0_train=8.86, tardis_integration_donor_0_train=10.4]"
     ]
    },
    {
     "name": "stdout",
     "output_type": "stream",
     "text": [
      "\r",
      "Epoch 260/600:  43%|████▎     | 260/600 [17:07<22:27,  3.96s/it, v_num=p2_1, total_loss_train=883, kl_local_train=69.4, tardis_age_0_train=8.97, tardis_integration_donor_0_train=10.4]"
     ]
    },
    {
     "name": "stdout",
     "output_type": "stream",
     "text": [
      "\r",
      "Epoch 261/600:  43%|████▎     | 260/600 [17:07<22:27,  3.96s/it, v_num=p2_1, total_loss_train=883, kl_local_train=69.4, tardis_age_0_train=8.97, tardis_integration_donor_0_train=10.4]"
     ]
    },
    {
     "name": "stdout",
     "output_type": "stream",
     "text": [
      "\r",
      "Epoch 261/600:  44%|████▎     | 261/600 [17:11<22:22,  3.96s/it, v_num=p2_1, total_loss_train=883, kl_local_train=69.4, tardis_age_0_train=8.97, tardis_integration_donor_0_train=10.4]"
     ]
    },
    {
     "name": "stdout",
     "output_type": "stream",
     "text": [
      "\r",
      "Epoch 261/600:  44%|████▎     | 261/600 [17:11<22:22,  3.96s/it, v_num=p2_1, total_loss_train=883, kl_local_train=69.6, tardis_age_0_train=8.95, tardis_integration_donor_0_train=10.2]"
     ]
    },
    {
     "name": "stdout",
     "output_type": "stream",
     "text": [
      "\r",
      "Epoch 262/600:  44%|████▎     | 261/600 [17:11<22:22,  3.96s/it, v_num=p2_1, total_loss_train=883, kl_local_train=69.6, tardis_age_0_train=8.95, tardis_integration_donor_0_train=10.2]"
     ]
    },
    {
     "name": "stdout",
     "output_type": "stream",
     "text": [
      "\r",
      "Epoch 262/600:  44%|████▎     | 262/600 [17:15<22:22,  3.97s/it, v_num=p2_1, total_loss_train=883, kl_local_train=69.6, tardis_age_0_train=8.95, tardis_integration_donor_0_train=10.2]"
     ]
    },
    {
     "name": "stdout",
     "output_type": "stream",
     "text": [
      "\r",
      "Epoch 262/600:  44%|████▎     | 262/600 [17:15<22:22,  3.97s/it, v_num=p2_1, total_loss_train=883, kl_local_train=68.8, tardis_age_0_train=8.89, tardis_integration_donor_0_train=10.4]"
     ]
    },
    {
     "name": "stdout",
     "output_type": "stream",
     "text": [
      "\r",
      "Epoch 263/600:  44%|████▎     | 262/600 [17:15<22:22,  3.97s/it, v_num=p2_1, total_loss_train=883, kl_local_train=68.8, tardis_age_0_train=8.89, tardis_integration_donor_0_train=10.4]"
     ]
    },
    {
     "name": "stdout",
     "output_type": "stream",
     "text": [
      "\r",
      "Epoch 263/600:  44%|████▍     | 263/600 [17:19<22:16,  3.97s/it, v_num=p2_1, total_loss_train=883, kl_local_train=68.8, tardis_age_0_train=8.89, tardis_integration_donor_0_train=10.4]"
     ]
    },
    {
     "name": "stdout",
     "output_type": "stream",
     "text": [
      "\r",
      "Epoch 263/600:  44%|████▍     | 263/600 [17:19<22:16,  3.97s/it, v_num=p2_1, total_loss_train=882, kl_local_train=69.3, tardis_age_0_train=9.03, tardis_integration_donor_0_train=10.5]"
     ]
    },
    {
     "name": "stdout",
     "output_type": "stream",
     "text": [
      "\r",
      "Epoch 264/600:  44%|████▍     | 263/600 [17:19<22:16,  3.97s/it, v_num=p2_1, total_loss_train=882, kl_local_train=69.3, tardis_age_0_train=9.03, tardis_integration_donor_0_train=10.5]"
     ]
    },
    {
     "name": "stdout",
     "output_type": "stream",
     "text": [
      "\r",
      "Epoch 264/600:  44%|████▍     | 264/600 [17:23<22:08,  3.96s/it, v_num=p2_1, total_loss_train=882, kl_local_train=69.3, tardis_age_0_train=9.03, tardis_integration_donor_0_train=10.5]"
     ]
    },
    {
     "name": "stdout",
     "output_type": "stream",
     "text": [
      "\r",
      "Epoch 264/600:  44%|████▍     | 264/600 [17:23<22:08,  3.96s/it, v_num=p2_1, total_loss_train=882, kl_local_train=69, tardis_age_0_train=9.03, tardis_integration_donor_0_train=10.4]  "
     ]
    },
    {
     "name": "stdout",
     "output_type": "stream",
     "text": [
      "\r",
      "Epoch 265/600:  44%|████▍     | 264/600 [17:23<22:08,  3.96s/it, v_num=p2_1, total_loss_train=882, kl_local_train=69, tardis_age_0_train=9.03, tardis_integration_donor_0_train=10.4]"
     ]
    },
    {
     "name": "stdout",
     "output_type": "stream",
     "text": [
      "\r",
      "Epoch 265/600:  44%|████▍     | 265/600 [17:27<22:05,  3.96s/it, v_num=p2_1, total_loss_train=882, kl_local_train=69, tardis_age_0_train=9.03, tardis_integration_donor_0_train=10.4]"
     ]
    },
    {
     "name": "stdout",
     "output_type": "stream",
     "text": [
      "\r",
      "Epoch 265/600:  44%|████▍     | 265/600 [17:27<22:05,  3.96s/it, v_num=p2_1, total_loss_train=882, kl_local_train=68.5, tardis_age_0_train=9.07, tardis_integration_donor_0_train=10.4]"
     ]
    },
    {
     "name": "stdout",
     "output_type": "stream",
     "text": [
      "\r",
      "Epoch 266/600:  44%|████▍     | 265/600 [17:27<22:05,  3.96s/it, v_num=p2_1, total_loss_train=882, kl_local_train=68.5, tardis_age_0_train=9.07, tardis_integration_donor_0_train=10.4]"
     ]
    },
    {
     "name": "stdout",
     "output_type": "stream",
     "text": [
      "\r",
      "Epoch 266/600:  44%|████▍     | 266/600 [17:31<21:59,  3.95s/it, v_num=p2_1, total_loss_train=882, kl_local_train=68.5, tardis_age_0_train=9.07, tardis_integration_donor_0_train=10.4]"
     ]
    },
    {
     "name": "stdout",
     "output_type": "stream",
     "text": [
      "\r",
      "Epoch 266/600:  44%|████▍     | 266/600 [17:31<21:59,  3.95s/it, v_num=p2_1, total_loss_train=882, kl_local_train=68.7, tardis_age_0_train=8.98, tardis_integration_donor_0_train=10.5]"
     ]
    },
    {
     "name": "stdout",
     "output_type": "stream",
     "text": [
      "\r",
      "Epoch 267/600:  44%|████▍     | 266/600 [17:31<21:59,  3.95s/it, v_num=p2_1, total_loss_train=882, kl_local_train=68.7, tardis_age_0_train=8.98, tardis_integration_donor_0_train=10.5]"
     ]
    },
    {
     "name": "stdout",
     "output_type": "stream",
     "text": [
      "\r",
      "Epoch 267/600:  44%|████▍     | 267/600 [17:35<21:53,  3.95s/it, v_num=p2_1, total_loss_train=882, kl_local_train=68.7, tardis_age_0_train=8.98, tardis_integration_donor_0_train=10.5]"
     ]
    },
    {
     "name": "stdout",
     "output_type": "stream",
     "text": [
      "\r",
      "Epoch 267/600:  44%|████▍     | 267/600 [17:35<21:53,  3.95s/it, v_num=p2_1, total_loss_train=882, kl_local_train=68.4, tardis_age_0_train=9.08, tardis_integration_donor_0_train=10.5]"
     ]
    },
    {
     "name": "stdout",
     "output_type": "stream",
     "text": [
      "\r",
      "Epoch 268/600:  44%|████▍     | 267/600 [17:35<21:53,  3.95s/it, v_num=p2_1, total_loss_train=882, kl_local_train=68.4, tardis_age_0_train=9.08, tardis_integration_donor_0_train=10.5]"
     ]
    },
    {
     "name": "stdout",
     "output_type": "stream",
     "text": [
      "\r",
      "Epoch 268/600:  45%|████▍     | 268/600 [17:38<21:48,  3.94s/it, v_num=p2_1, total_loss_train=882, kl_local_train=68.4, tardis_age_0_train=9.08, tardis_integration_donor_0_train=10.5]"
     ]
    },
    {
     "name": "stdout",
     "output_type": "stream",
     "text": [
      "\r",
      "Epoch 268/600:  45%|████▍     | 268/600 [17:38<21:48,  3.94s/it, v_num=p2_1, total_loss_train=882, kl_local_train=68.3, tardis_age_0_train=9.08, tardis_integration_donor_0_train=10.4]"
     ]
    },
    {
     "name": "stdout",
     "output_type": "stream",
     "text": [
      "\r",
      "Epoch 269/600:  45%|████▍     | 268/600 [17:38<21:48,  3.94s/it, v_num=p2_1, total_loss_train=882, kl_local_train=68.3, tardis_age_0_train=9.08, tardis_integration_donor_0_train=10.4]"
     ]
    },
    {
     "name": "stdout",
     "output_type": "stream",
     "text": [
      "\r",
      "Epoch 269/600:  45%|████▍     | 269/600 [17:42<21:43,  3.94s/it, v_num=p2_1, total_loss_train=882, kl_local_train=68.3, tardis_age_0_train=9.08, tardis_integration_donor_0_train=10.4]"
     ]
    },
    {
     "name": "stdout",
     "output_type": "stream",
     "text": [
      "\r",
      "Epoch 269/600:  45%|████▍     | 269/600 [17:42<21:43,  3.94s/it, v_num=p2_1, total_loss_train=882, kl_local_train=68.3, tardis_age_0_train=9.06, tardis_integration_donor_0_train=10.4]"
     ]
    },
    {
     "name": "stdout",
     "output_type": "stream",
     "text": [
      "\r",
      "Epoch 270/600:  45%|████▍     | 269/600 [17:42<21:43,  3.94s/it, v_num=p2_1, total_loss_train=882, kl_local_train=68.3, tardis_age_0_train=9.06, tardis_integration_donor_0_train=10.4]"
     ]
    },
    {
     "name": "stdout",
     "output_type": "stream",
     "text": [
      "\r",
      "Epoch 270/600:  45%|████▌     | 270/600 [17:46<21:42,  3.95s/it, v_num=p2_1, total_loss_train=882, kl_local_train=68.3, tardis_age_0_train=9.06, tardis_integration_donor_0_train=10.4]"
     ]
    },
    {
     "name": "stdout",
     "output_type": "stream",
     "text": [
      "\r",
      "Epoch 270/600:  45%|████▌     | 270/600 [17:46<21:42,  3.95s/it, v_num=p2_1, total_loss_train=881, kl_local_train=68.8, tardis_age_0_train=8.96, tardis_integration_donor_0_train=10.3]"
     ]
    },
    {
     "name": "stdout",
     "output_type": "stream",
     "text": [
      "\r",
      "Epoch 271/600:  45%|████▌     | 270/600 [17:46<21:42,  3.95s/it, v_num=p2_1, total_loss_train=881, kl_local_train=68.8, tardis_age_0_train=8.96, tardis_integration_donor_0_train=10.3]"
     ]
    },
    {
     "name": "stdout",
     "output_type": "stream",
     "text": [
      "\r",
      "Epoch 271/600:  45%|████▌     | 271/600 [17:50<21:41,  3.96s/it, v_num=p2_1, total_loss_train=881, kl_local_train=68.8, tardis_age_0_train=8.96, tardis_integration_donor_0_train=10.3]"
     ]
    },
    {
     "name": "stdout",
     "output_type": "stream",
     "text": [
      "\r",
      "Epoch 271/600:  45%|████▌     | 271/600 [17:50<21:41,  3.96s/it, v_num=p2_1, total_loss_train=882, kl_local_train=67.8, tardis_age_0_train=9.13, tardis_integration_donor_0_train=10.5]"
     ]
    },
    {
     "name": "stdout",
     "output_type": "stream",
     "text": [
      "\r",
      "Epoch 272/600:  45%|████▌     | 271/600 [17:50<21:41,  3.96s/it, v_num=p2_1, total_loss_train=882, kl_local_train=67.8, tardis_age_0_train=9.13, tardis_integration_donor_0_train=10.5]"
     ]
    },
    {
     "name": "stdout",
     "output_type": "stream",
     "text": [
      "\r",
      "Epoch 272/600:  45%|████▌     | 272/600 [17:54<21:36,  3.95s/it, v_num=p2_1, total_loss_train=882, kl_local_train=67.8, tardis_age_0_train=9.13, tardis_integration_donor_0_train=10.5]"
     ]
    },
    {
     "name": "stdout",
     "output_type": "stream",
     "text": [
      "\r",
      "Epoch 272/600:  45%|████▌     | 272/600 [17:54<21:36,  3.95s/it, v_num=p2_1, total_loss_train=881, kl_local_train=67.5, tardis_age_0_train=9.14, tardis_integration_donor_0_train=10.4]"
     ]
    },
    {
     "name": "stdout",
     "output_type": "stream",
     "text": [
      "\r",
      "Epoch 273/600:  45%|████▌     | 272/600 [17:54<21:36,  3.95s/it, v_num=p2_1, total_loss_train=881, kl_local_train=67.5, tardis_age_0_train=9.14, tardis_integration_donor_0_train=10.4]"
     ]
    },
    {
     "name": "stdout",
     "output_type": "stream",
     "text": [
      "\r",
      "Epoch 273/600:  46%|████▌     | 273/600 [17:58<21:32,  3.95s/it, v_num=p2_1, total_loss_train=881, kl_local_train=67.5, tardis_age_0_train=9.14, tardis_integration_donor_0_train=10.4]"
     ]
    },
    {
     "name": "stdout",
     "output_type": "stream",
     "text": [
      "\r",
      "Epoch 273/600:  46%|████▌     | 273/600 [17:58<21:32,  3.95s/it, v_num=p2_1, total_loss_train=881, kl_local_train=67.1, tardis_age_0_train=9.21, tardis_integration_donor_0_train=10.6]"
     ]
    },
    {
     "name": "stdout",
     "output_type": "stream",
     "text": [
      "\r",
      "Epoch 274/600:  46%|████▌     | 273/600 [17:58<21:32,  3.95s/it, v_num=p2_1, total_loss_train=881, kl_local_train=67.1, tardis_age_0_train=9.21, tardis_integration_donor_0_train=10.6]"
     ]
    },
    {
     "name": "stdout",
     "output_type": "stream",
     "text": [
      "\r",
      "Epoch 274/600:  46%|████▌     | 274/600 [18:02<21:30,  3.96s/it, v_num=p2_1, total_loss_train=881, kl_local_train=67.1, tardis_age_0_train=9.21, tardis_integration_donor_0_train=10.6]"
     ]
    },
    {
     "name": "stdout",
     "output_type": "stream",
     "text": [
      "\r",
      "Epoch 274/600:  46%|████▌     | 274/600 [18:02<21:30,  3.96s/it, v_num=p2_1, total_loss_train=880, kl_local_train=67.8, tardis_age_0_train=9.12, tardis_integration_donor_0_train=10.5]"
     ]
    },
    {
     "name": "stdout",
     "output_type": "stream",
     "text": [
      "\r",
      "Epoch 275/600:  46%|████▌     | 274/600 [18:02<21:30,  3.96s/it, v_num=p2_1, total_loss_train=880, kl_local_train=67.8, tardis_age_0_train=9.12, tardis_integration_donor_0_train=10.5]"
     ]
    },
    {
     "name": "stdout",
     "output_type": "stream",
     "text": [
      "\r",
      "Epoch 275/600:  46%|████▌     | 275/600 [18:06<21:24,  3.95s/it, v_num=p2_1, total_loss_train=880, kl_local_train=67.8, tardis_age_0_train=9.12, tardis_integration_donor_0_train=10.5]"
     ]
    },
    {
     "name": "stdout",
     "output_type": "stream",
     "text": [
      "\r",
      "Epoch 275/600:  46%|████▌     | 275/600 [18:06<21:24,  3.95s/it, v_num=p2_1, total_loss_train=881, kl_local_train=67.8, tardis_age_0_train=9.08, tardis_integration_donor_0_train=10.5]"
     ]
    },
    {
     "name": "stdout",
     "output_type": "stream",
     "text": [
      "\r",
      "Epoch 276/600:  46%|████▌     | 275/600 [18:06<21:24,  3.95s/it, v_num=p2_1, total_loss_train=881, kl_local_train=67.8, tardis_age_0_train=9.08, tardis_integration_donor_0_train=10.5]"
     ]
    },
    {
     "name": "stdout",
     "output_type": "stream",
     "text": [
      "\r",
      "Epoch 276/600:  46%|████▌     | 276/600 [18:10<21:15,  3.94s/it, v_num=p2_1, total_loss_train=881, kl_local_train=67.8, tardis_age_0_train=9.08, tardis_integration_donor_0_train=10.5]"
     ]
    },
    {
     "name": "stdout",
     "output_type": "stream",
     "text": [
      "\r",
      "Epoch 276/600:  46%|████▌     | 276/600 [18:10<21:15,  3.94s/it, v_num=p2_1, total_loss_train=880, kl_local_train=67, tardis_age_0_train=9.15, tardis_integration_donor_0_train=10.5]  "
     ]
    },
    {
     "name": "stdout",
     "output_type": "stream",
     "text": [
      "\r",
      "Epoch 277/600:  46%|████▌     | 276/600 [18:10<21:15,  3.94s/it, v_num=p2_1, total_loss_train=880, kl_local_train=67, tardis_age_0_train=9.15, tardis_integration_donor_0_train=10.5]"
     ]
    },
    {
     "name": "stdout",
     "output_type": "stream",
     "text": [
      "\r",
      "Epoch 277/600:  46%|████▌     | 277/600 [18:14<21:12,  3.94s/it, v_num=p2_1, total_loss_train=880, kl_local_train=67, tardis_age_0_train=9.15, tardis_integration_donor_0_train=10.5]"
     ]
    },
    {
     "name": "stdout",
     "output_type": "stream",
     "text": [
      "\r",
      "Epoch 277/600:  46%|████▌     | 277/600 [18:14<21:12,  3.94s/it, v_num=p2_1, total_loss_train=880, kl_local_train=67.3, tardis_age_0_train=9.1, tardis_integration_donor_0_train=10.6]"
     ]
    },
    {
     "name": "stdout",
     "output_type": "stream",
     "text": [
      "\r",
      "Epoch 278/600:  46%|████▌     | 277/600 [18:14<21:12,  3.94s/it, v_num=p2_1, total_loss_train=880, kl_local_train=67.3, tardis_age_0_train=9.1, tardis_integration_donor_0_train=10.6]"
     ]
    },
    {
     "name": "stdout",
     "output_type": "stream",
     "text": [
      "\r",
      "Epoch 278/600:  46%|████▋     | 278/600 [18:18<21:07,  3.94s/it, v_num=p2_1, total_loss_train=880, kl_local_train=67.3, tardis_age_0_train=9.1, tardis_integration_donor_0_train=10.6]"
     ]
    },
    {
     "name": "stdout",
     "output_type": "stream",
     "text": [
      "\r",
      "Epoch 278/600:  46%|████▋     | 278/600 [18:18<21:07,  3.94s/it, v_num=p2_1, total_loss_train=880, kl_local_train=67, tardis_age_0_train=9.33, tardis_integration_donor_0_train=10.5] "
     ]
    },
    {
     "name": "stdout",
     "output_type": "stream",
     "text": [
      "\r",
      "Epoch 279/600:  46%|████▋     | 278/600 [18:18<21:07,  3.94s/it, v_num=p2_1, total_loss_train=880, kl_local_train=67, tardis_age_0_train=9.33, tardis_integration_donor_0_train=10.5]"
     ]
    },
    {
     "name": "stdout",
     "output_type": "stream",
     "text": [
      "\r",
      "Epoch 279/600:  46%|████▋     | 279/600 [18:22<21:09,  3.96s/it, v_num=p2_1, total_loss_train=880, kl_local_train=67, tardis_age_0_train=9.33, tardis_integration_donor_0_train=10.5]"
     ]
    },
    {
     "name": "stdout",
     "output_type": "stream",
     "text": [
      "\r",
      "Epoch 279/600:  46%|████▋     | 279/600 [18:22<21:09,  3.96s/it, v_num=p2_1, total_loss_train=880, kl_local_train=67, tardis_age_0_train=9.23, tardis_integration_donor_0_train=10.5]"
     ]
    },
    {
     "name": "stdout",
     "output_type": "stream",
     "text": [
      "\r",
      "Epoch 280/600:  46%|████▋     | 279/600 [18:22<21:09,  3.96s/it, v_num=p2_1, total_loss_train=880, kl_local_train=67, tardis_age_0_train=9.23, tardis_integration_donor_0_train=10.5]"
     ]
    },
    {
     "name": "stdout",
     "output_type": "stream",
     "text": [
      "\r",
      "Epoch 280/600:  47%|████▋     | 280/600 [18:26<21:05,  3.95s/it, v_num=p2_1, total_loss_train=880, kl_local_train=67, tardis_age_0_train=9.23, tardis_integration_donor_0_train=10.5]"
     ]
    },
    {
     "name": "stdout",
     "output_type": "stream",
     "text": [
      "\r",
      "Epoch 280/600:  47%|████▋     | 280/600 [18:26<21:05,  3.95s/it, v_num=p2_1, total_loss_train=880, kl_local_train=66.4, tardis_age_0_train=9.33, tardis_integration_donor_0_train=10.6]"
     ]
    },
    {
     "name": "stdout",
     "output_type": "stream",
     "text": [
      "\r",
      "Epoch 281/600:  47%|████▋     | 280/600 [18:26<21:05,  3.95s/it, v_num=p2_1, total_loss_train=880, kl_local_train=66.4, tardis_age_0_train=9.33, tardis_integration_donor_0_train=10.6]"
     ]
    },
    {
     "name": "stdout",
     "output_type": "stream",
     "text": [
      "\r",
      "Epoch 281/600:  47%|████▋     | 281/600 [18:30<21:18,  4.01s/it, v_num=p2_1, total_loss_train=880, kl_local_train=66.4, tardis_age_0_train=9.33, tardis_integration_donor_0_train=10.6]"
     ]
    },
    {
     "name": "stdout",
     "output_type": "stream",
     "text": [
      "\r",
      "Epoch 281/600:  47%|████▋     | 281/600 [18:30<21:18,  4.01s/it, v_num=p2_1, total_loss_train=879, kl_local_train=67.7, tardis_age_0_train=9.15, tardis_integration_donor_0_train=10.5]"
     ]
    },
    {
     "name": "stdout",
     "output_type": "stream",
     "text": [
      "\r",
      "Epoch 282/600:  47%|████▋     | 281/600 [18:30<21:18,  4.01s/it, v_num=p2_1, total_loss_train=879, kl_local_train=67.7, tardis_age_0_train=9.15, tardis_integration_donor_0_train=10.5]"
     ]
    },
    {
     "name": "stdout",
     "output_type": "stream",
     "text": [
      "\r",
      "Epoch 282/600:  47%|████▋     | 282/600 [18:34<21:08,  3.99s/it, v_num=p2_1, total_loss_train=879, kl_local_train=67.7, tardis_age_0_train=9.15, tardis_integration_donor_0_train=10.5]"
     ]
    },
    {
     "name": "stdout",
     "output_type": "stream",
     "text": [
      "\r",
      "Epoch 282/600:  47%|████▋     | 282/600 [18:34<21:08,  3.99s/it, v_num=p2_1, total_loss_train=880, kl_local_train=66.3, tardis_age_0_train=9.26, tardis_integration_donor_0_train=10.9]"
     ]
    },
    {
     "name": "stdout",
     "output_type": "stream",
     "text": [
      "\r",
      "Epoch 283/600:  47%|████▋     | 282/600 [18:34<21:08,  3.99s/it, v_num=p2_1, total_loss_train=880, kl_local_train=66.3, tardis_age_0_train=9.26, tardis_integration_donor_0_train=10.9]"
     ]
    },
    {
     "name": "stdout",
     "output_type": "stream",
     "text": [
      "\r",
      "Epoch 283/600:  47%|████▋     | 283/600 [18:38<21:02,  3.98s/it, v_num=p2_1, total_loss_train=880, kl_local_train=66.3, tardis_age_0_train=9.26, tardis_integration_donor_0_train=10.9]"
     ]
    },
    {
     "name": "stdout",
     "output_type": "stream",
     "text": [
      "\r",
      "Epoch 283/600:  47%|████▋     | 283/600 [18:38<21:02,  3.98s/it, v_num=p2_1, total_loss_train=880, kl_local_train=66.9, tardis_age_0_train=9.24, tardis_integration_donor_0_train=10.6]"
     ]
    },
    {
     "name": "stdout",
     "output_type": "stream",
     "text": [
      "\r",
      "Epoch 284/600:  47%|████▋     | 283/600 [18:38<21:02,  3.98s/it, v_num=p2_1, total_loss_train=880, kl_local_train=66.9, tardis_age_0_train=9.24, tardis_integration_donor_0_train=10.6]"
     ]
    },
    {
     "name": "stdout",
     "output_type": "stream",
     "text": [
      "\r",
      "Epoch 284/600:  47%|████▋     | 284/600 [18:42<20:56,  3.98s/it, v_num=p2_1, total_loss_train=880, kl_local_train=66.9, tardis_age_0_train=9.24, tardis_integration_donor_0_train=10.6]"
     ]
    },
    {
     "name": "stdout",
     "output_type": "stream",
     "text": [
      "\r",
      "Epoch 284/600:  47%|████▋     | 284/600 [18:42<20:56,  3.98s/it, v_num=p2_1, total_loss_train=879, kl_local_train=66.6, tardis_age_0_train=9.31, tardis_integration_donor_0_train=10.9]"
     ]
    },
    {
     "name": "stdout",
     "output_type": "stream",
     "text": [
      "\r",
      "Epoch 285/600:  47%|████▋     | 284/600 [18:42<20:56,  3.98s/it, v_num=p2_1, total_loss_train=879, kl_local_train=66.6, tardis_age_0_train=9.31, tardis_integration_donor_0_train=10.9]"
     ]
    },
    {
     "name": "stdout",
     "output_type": "stream",
     "text": [
      "\r",
      "Epoch 285/600:  48%|████▊     | 285/600 [18:46<20:50,  3.97s/it, v_num=p2_1, total_loss_train=879, kl_local_train=66.6, tardis_age_0_train=9.31, tardis_integration_donor_0_train=10.9]"
     ]
    },
    {
     "name": "stdout",
     "output_type": "stream",
     "text": [
      "\r",
      "Epoch 285/600:  48%|████▊     | 285/600 [18:46<20:50,  3.97s/it, v_num=p2_1, total_loss_train=879, kl_local_train=66.3, tardis_age_0_train=9.41, tardis_integration_donor_0_train=11]  "
     ]
    },
    {
     "name": "stdout",
     "output_type": "stream",
     "text": [
      "\r",
      "Epoch 286/600:  48%|████▊     | 285/600 [18:46<20:50,  3.97s/it, v_num=p2_1, total_loss_train=879, kl_local_train=66.3, tardis_age_0_train=9.41, tardis_integration_donor_0_train=11]"
     ]
    },
    {
     "name": "stdout",
     "output_type": "stream",
     "text": [
      "\r",
      "Epoch 286/600:  48%|████▊     | 286/600 [18:50<20:45,  3.97s/it, v_num=p2_1, total_loss_train=879, kl_local_train=66.3, tardis_age_0_train=9.41, tardis_integration_donor_0_train=11]"
     ]
    },
    {
     "name": "stdout",
     "output_type": "stream",
     "text": [
      "\r",
      "Epoch 286/600:  48%|████▊     | 286/600 [18:50<20:45,  3.97s/it, v_num=p2_1, total_loss_train=879, kl_local_train=66.5, tardis_age_0_train=9.34, tardis_integration_donor_0_train=10.6]"
     ]
    },
    {
     "name": "stdout",
     "output_type": "stream",
     "text": [
      "\r",
      "Epoch 287/600:  48%|████▊     | 286/600 [18:50<20:45,  3.97s/it, v_num=p2_1, total_loss_train=879, kl_local_train=66.5, tardis_age_0_train=9.34, tardis_integration_donor_0_train=10.6]"
     ]
    },
    {
     "name": "stdout",
     "output_type": "stream",
     "text": [
      "\r",
      "Epoch 287/600:  48%|████▊     | 287/600 [18:54<20:36,  3.95s/it, v_num=p2_1, total_loss_train=879, kl_local_train=66.5, tardis_age_0_train=9.34, tardis_integration_donor_0_train=10.6]"
     ]
    },
    {
     "name": "stdout",
     "output_type": "stream",
     "text": [
      "\r",
      "Epoch 287/600:  48%|████▊     | 287/600 [18:54<20:36,  3.95s/it, v_num=p2_1, total_loss_train=879, kl_local_train=66, tardis_age_0_train=9.47, tardis_integration_donor_0_train=10.9]  "
     ]
    },
    {
     "name": "stdout",
     "output_type": "stream",
     "text": [
      "\r",
      "Epoch 288/600:  48%|████▊     | 287/600 [18:54<20:36,  3.95s/it, v_num=p2_1, total_loss_train=879, kl_local_train=66, tardis_age_0_train=9.47, tardis_integration_donor_0_train=10.9]"
     ]
    },
    {
     "name": "stdout",
     "output_type": "stream",
     "text": [
      "\r",
      "Epoch 288/600:  48%|████▊     | 288/600 [18:58<20:31,  3.95s/it, v_num=p2_1, total_loss_train=879, kl_local_train=66, tardis_age_0_train=9.47, tardis_integration_donor_0_train=10.9]"
     ]
    },
    {
     "name": "stdout",
     "output_type": "stream",
     "text": [
      "\r",
      "Epoch 288/600:  48%|████▊     | 288/600 [18:58<20:31,  3.95s/it, v_num=p2_1, total_loss_train=879, kl_local_train=66, tardis_age_0_train=9.34, tardis_integration_donor_0_train=10.9]"
     ]
    },
    {
     "name": "stdout",
     "output_type": "stream",
     "text": [
      "\r",
      "Epoch 289/600:  48%|████▊     | 288/600 [18:58<20:31,  3.95s/it, v_num=p2_1, total_loss_train=879, kl_local_train=66, tardis_age_0_train=9.34, tardis_integration_donor_0_train=10.9]"
     ]
    },
    {
     "name": "stdout",
     "output_type": "stream",
     "text": [
      "\r",
      "Epoch 289/600:  48%|████▊     | 289/600 [19:02<20:27,  3.95s/it, v_num=p2_1, total_loss_train=879, kl_local_train=66, tardis_age_0_train=9.34, tardis_integration_donor_0_train=10.9]"
     ]
    },
    {
     "name": "stdout",
     "output_type": "stream",
     "text": [
      "\r",
      "Epoch 289/600:  48%|████▊     | 289/600 [19:02<20:27,  3.95s/it, v_num=p2_1, total_loss_train=879, kl_local_train=65.9, tardis_age_0_train=9.45, tardis_integration_donor_0_train=10.9]"
     ]
    },
    {
     "name": "stdout",
     "output_type": "stream",
     "text": [
      "\r",
      "Epoch 290/600:  48%|████▊     | 289/600 [19:02<20:27,  3.95s/it, v_num=p2_1, total_loss_train=879, kl_local_train=65.9, tardis_age_0_train=9.45, tardis_integration_donor_0_train=10.9]"
     ]
    },
    {
     "name": "stdout",
     "output_type": "stream",
     "text": [
      "\r",
      "Epoch 290/600:  48%|████▊     | 290/600 [19:06<20:23,  3.95s/it, v_num=p2_1, total_loss_train=879, kl_local_train=65.9, tardis_age_0_train=9.45, tardis_integration_donor_0_train=10.9]"
     ]
    },
    {
     "name": "stdout",
     "output_type": "stream",
     "text": [
      "\r",
      "Epoch 290/600:  48%|████▊     | 290/600 [19:06<20:23,  3.95s/it, v_num=p2_1, total_loss_train=878, kl_local_train=66.2, tardis_age_0_train=9.28, tardis_integration_donor_0_train=10.9]"
     ]
    },
    {
     "name": "stdout",
     "output_type": "stream",
     "text": [
      "\r",
      "Epoch 291/600:  48%|████▊     | 290/600 [19:06<20:23,  3.95s/it, v_num=p2_1, total_loss_train=878, kl_local_train=66.2, tardis_age_0_train=9.28, tardis_integration_donor_0_train=10.9]"
     ]
    },
    {
     "name": "stdout",
     "output_type": "stream",
     "text": [
      "\r",
      "Epoch 291/600:  48%|████▊     | 291/600 [19:09<20:13,  3.93s/it, v_num=p2_1, total_loss_train=878, kl_local_train=66.2, tardis_age_0_train=9.28, tardis_integration_donor_0_train=10.9]"
     ]
    },
    {
     "name": "stdout",
     "output_type": "stream",
     "text": [
      "\r",
      "Epoch 291/600:  48%|████▊     | 291/600 [19:09<20:13,  3.93s/it, v_num=p2_1, total_loss_train=878, kl_local_train=65.8, tardis_age_0_train=9.45, tardis_integration_donor_0_train=10.9]"
     ]
    },
    {
     "name": "stdout",
     "output_type": "stream",
     "text": [
      "\r",
      "Epoch 292/600:  48%|████▊     | 291/600 [19:09<20:13,  3.93s/it, v_num=p2_1, total_loss_train=878, kl_local_train=65.8, tardis_age_0_train=9.45, tardis_integration_donor_0_train=10.9]"
     ]
    },
    {
     "name": "stdout",
     "output_type": "stream",
     "text": [
      "\r",
      "Epoch 292/600:  49%|████▊     | 292/600 [19:13<20:14,  3.94s/it, v_num=p2_1, total_loss_train=878, kl_local_train=65.8, tardis_age_0_train=9.45, tardis_integration_donor_0_train=10.9]"
     ]
    },
    {
     "name": "stdout",
     "output_type": "stream",
     "text": [
      "\r",
      "Epoch 292/600:  49%|████▊     | 292/600 [19:13<20:14,  3.94s/it, v_num=p2_1, total_loss_train=878, kl_local_train=65.4, tardis_age_0_train=9.59, tardis_integration_donor_0_train=11]  "
     ]
    },
    {
     "name": "stdout",
     "output_type": "stream",
     "text": [
      "\r",
      "Epoch 293/600:  49%|████▊     | 292/600 [19:13<20:14,  3.94s/it, v_num=p2_1, total_loss_train=878, kl_local_train=65.4, tardis_age_0_train=9.59, tardis_integration_donor_0_train=11]"
     ]
    },
    {
     "name": "stdout",
     "output_type": "stream",
     "text": [
      "\r",
      "Epoch 293/600:  49%|████▉     | 293/600 [19:17<20:11,  3.94s/it, v_num=p2_1, total_loss_train=878, kl_local_train=65.4, tardis_age_0_train=9.59, tardis_integration_donor_0_train=11]"
     ]
    },
    {
     "name": "stdout",
     "output_type": "stream",
     "text": [
      "\r",
      "Epoch 293/600:  49%|████▉     | 293/600 [19:17<20:11,  3.94s/it, v_num=p2_1, total_loss_train=878, kl_local_train=66.1, tardis_age_0_train=9.38, tardis_integration_donor_0_train=10.9]"
     ]
    },
    {
     "name": "stdout",
     "output_type": "stream",
     "text": [
      "\r",
      "Epoch 294/600:  49%|████▉     | 293/600 [19:17<20:11,  3.94s/it, v_num=p2_1, total_loss_train=878, kl_local_train=66.1, tardis_age_0_train=9.38, tardis_integration_donor_0_train=10.9]"
     ]
    },
    {
     "name": "stdout",
     "output_type": "stream",
     "text": [
      "\r",
      "Epoch 294/600:  49%|████▉     | 294/600 [19:21<20:06,  3.94s/it, v_num=p2_1, total_loss_train=878, kl_local_train=66.1, tardis_age_0_train=9.38, tardis_integration_donor_0_train=10.9]"
     ]
    },
    {
     "name": "stdout",
     "output_type": "stream",
     "text": [
      "\r",
      "Epoch 294/600:  49%|████▉     | 294/600 [19:21<20:06,  3.94s/it, v_num=p2_1, total_loss_train=878, kl_local_train=65.4, tardis_age_0_train=9.53, tardis_integration_donor_0_train=10.9]"
     ]
    },
    {
     "name": "stdout",
     "output_type": "stream",
     "text": [
      "\r",
      "Epoch 295/600:  49%|████▉     | 294/600 [19:21<20:06,  3.94s/it, v_num=p2_1, total_loss_train=878, kl_local_train=65.4, tardis_age_0_train=9.53, tardis_integration_donor_0_train=10.9]"
     ]
    },
    {
     "name": "stdout",
     "output_type": "stream",
     "text": [
      "\r",
      "Epoch 295/600:  49%|████▉     | 295/600 [19:25<20:01,  3.94s/it, v_num=p2_1, total_loss_train=878, kl_local_train=65.4, tardis_age_0_train=9.53, tardis_integration_donor_0_train=10.9]"
     ]
    },
    {
     "name": "stdout",
     "output_type": "stream",
     "text": [
      "\r",
      "Epoch 295/600:  49%|████▉     | 295/600 [19:25<20:01,  3.94s/it, v_num=p2_1, total_loss_train=877, kl_local_train=65.9, tardis_age_0_train=9.31, tardis_integration_donor_0_train=10.9]"
     ]
    },
    {
     "name": "stdout",
     "output_type": "stream",
     "text": [
      "\r",
      "Epoch 296/600:  49%|████▉     | 295/600 [19:25<20:01,  3.94s/it, v_num=p2_1, total_loss_train=877, kl_local_train=65.9, tardis_age_0_train=9.31, tardis_integration_donor_0_train=10.9]"
     ]
    },
    {
     "name": "stdout",
     "output_type": "stream",
     "text": [
      "\r",
      "Epoch 296/600:  49%|████▉     | 296/600 [19:29<19:56,  3.94s/it, v_num=p2_1, total_loss_train=877, kl_local_train=65.9, tardis_age_0_train=9.31, tardis_integration_donor_0_train=10.9]"
     ]
    },
    {
     "name": "stdout",
     "output_type": "stream",
     "text": [
      "\r",
      "Epoch 296/600:  49%|████▉     | 296/600 [19:29<19:56,  3.94s/it, v_num=p2_1, total_loss_train=878, kl_local_train=65.2, tardis_age_0_train=9.61, tardis_integration_donor_0_train=11]  "
     ]
    },
    {
     "name": "stdout",
     "output_type": "stream",
     "text": [
      "\r",
      "Epoch 297/600:  49%|████▉     | 296/600 [19:29<19:56,  3.94s/it, v_num=p2_1, total_loss_train=878, kl_local_train=65.2, tardis_age_0_train=9.61, tardis_integration_donor_0_train=11]"
     ]
    },
    {
     "name": "stdout",
     "output_type": "stream",
     "text": [
      "\r",
      "Epoch 297/600:  50%|████▉     | 297/600 [19:33<19:53,  3.94s/it, v_num=p2_1, total_loss_train=878, kl_local_train=65.2, tardis_age_0_train=9.61, tardis_integration_donor_0_train=11]"
     ]
    },
    {
     "name": "stdout",
     "output_type": "stream",
     "text": [
      "\r",
      "Epoch 297/600:  50%|████▉     | 297/600 [19:33<19:53,  3.94s/it, v_num=p2_1, total_loss_train=877, kl_local_train=65, tardis_age_0_train=9.64, tardis_integration_donor_0_train=11]  "
     ]
    },
    {
     "name": "stdout",
     "output_type": "stream",
     "text": [
      "\r",
      "Epoch 298/600:  50%|████▉     | 297/600 [19:33<19:53,  3.94s/it, v_num=p2_1, total_loss_train=877, kl_local_train=65, tardis_age_0_train=9.64, tardis_integration_donor_0_train=11]"
     ]
    },
    {
     "name": "stdout",
     "output_type": "stream",
     "text": [
      "\r",
      "Epoch 298/600:  50%|████▉     | 298/600 [19:37<19:51,  3.95s/it, v_num=p2_1, total_loss_train=877, kl_local_train=65, tardis_age_0_train=9.64, tardis_integration_donor_0_train=11]"
     ]
    },
    {
     "name": "stdout",
     "output_type": "stream",
     "text": [
      "\r",
      "Epoch 298/600:  50%|████▉     | 298/600 [19:37<19:51,  3.95s/it, v_num=p2_1, total_loss_train=877, kl_local_train=65.5, tardis_age_0_train=9.5, tardis_integration_donor_0_train=11]"
     ]
    },
    {
     "name": "stdout",
     "output_type": "stream",
     "text": [
      "\r",
      "Epoch 299/600:  50%|████▉     | 298/600 [19:37<19:51,  3.95s/it, v_num=p2_1, total_loss_train=877, kl_local_train=65.5, tardis_age_0_train=9.5, tardis_integration_donor_0_train=11]"
     ]
    },
    {
     "name": "stdout",
     "output_type": "stream",
     "text": [
      "\r",
      "Epoch 299/600:  50%|████▉     | 299/600 [19:41<19:45,  3.94s/it, v_num=p2_1, total_loss_train=877, kl_local_train=65.5, tardis_age_0_train=9.5, tardis_integration_donor_0_train=11]"
     ]
    },
    {
     "name": "stdout",
     "output_type": "stream",
     "text": [
      "\r",
      "Epoch 299/600:  50%|████▉     | 299/600 [19:41<19:45,  3.94s/it, v_num=p2_1, total_loss_train=877, kl_local_train=65.1, tardis_age_0_train=9.56, tardis_integration_donor_0_train=11.1]"
     ]
    },
    {
     "name": "stdout",
     "output_type": "stream",
     "text": [
      "\r",
      "Epoch 300/600:  50%|████▉     | 299/600 [19:41<19:45,  3.94s/it, v_num=p2_1, total_loss_train=877, kl_local_train=65.1, tardis_age_0_train=9.56, tardis_integration_donor_0_train=11.1]"
     ]
    },
    {
     "name": "stdout",
     "output_type": "stream",
     "text": [
      "\r",
      "Epoch 300/600:  50%|█████     | 300/600 [19:45<19:42,  3.94s/it, v_num=p2_1, total_loss_train=877, kl_local_train=65.1, tardis_age_0_train=9.56, tardis_integration_donor_0_train=11.1]"
     ]
    },
    {
     "name": "stdout",
     "output_type": "stream",
     "text": [
      "\r",
      "Epoch 300/600:  50%|█████     | 300/600 [19:45<19:42,  3.94s/it, v_num=p2_1, total_loss_train=877, kl_local_train=64.9, tardis_age_0_train=9.55, tardis_integration_donor_0_train=11]  "
     ]
    },
    {
     "name": "stdout",
     "output_type": "stream",
     "text": [
      "\r",
      "Epoch 301/600:  50%|█████     | 300/600 [19:45<19:42,  3.94s/it, v_num=p2_1, total_loss_train=877, kl_local_train=64.9, tardis_age_0_train=9.55, tardis_integration_donor_0_train=11]"
     ]
    },
    {
     "name": "stdout",
     "output_type": "stream",
     "text": [
      "\r",
      "Epoch 301/600:  50%|█████     | 301/600 [19:49<19:38,  3.94s/it, v_num=p2_1, total_loss_train=877, kl_local_train=64.9, tardis_age_0_train=9.55, tardis_integration_donor_0_train=11]"
     ]
    },
    {
     "name": "stdout",
     "output_type": "stream",
     "text": [
      "\r",
      "Epoch 301/600:  50%|█████     | 301/600 [19:49<19:38,  3.94s/it, v_num=p2_1, total_loss_train=877, kl_local_train=64.8, tardis_age_0_train=9.6, tardis_integration_donor_0_train=11] "
     ]
    },
    {
     "name": "stdout",
     "output_type": "stream",
     "text": [
      "\r",
      "Epoch 302/600:  50%|█████     | 301/600 [19:49<19:38,  3.94s/it, v_num=p2_1, total_loss_train=877, kl_local_train=64.8, tardis_age_0_train=9.6, tardis_integration_donor_0_train=11]"
     ]
    },
    {
     "name": "stdout",
     "output_type": "stream",
     "text": [
      "\r",
      "Epoch 302/600:  50%|█████     | 302/600 [19:53<19:33,  3.94s/it, v_num=p2_1, total_loss_train=877, kl_local_train=64.8, tardis_age_0_train=9.6, tardis_integration_donor_0_train=11]"
     ]
    },
    {
     "name": "stdout",
     "output_type": "stream",
     "text": [
      "\r",
      "Epoch 302/600:  50%|█████     | 302/600 [19:53<19:33,  3.94s/it, v_num=p2_1, total_loss_train=876, kl_local_train=64.7, tardis_age_0_train=9.61, tardis_integration_donor_0_train=11]"
     ]
    },
    {
     "name": "stdout",
     "output_type": "stream",
     "text": [
      "\r",
      "Epoch 303/600:  50%|█████     | 302/600 [19:53<19:33,  3.94s/it, v_num=p2_1, total_loss_train=876, kl_local_train=64.7, tardis_age_0_train=9.61, tardis_integration_donor_0_train=11]"
     ]
    },
    {
     "name": "stdout",
     "output_type": "stream",
     "text": [
      "\r",
      "Epoch 303/600:  50%|█████     | 303/600 [19:57<19:33,  3.95s/it, v_num=p2_1, total_loss_train=876, kl_local_train=64.7, tardis_age_0_train=9.61, tardis_integration_donor_0_train=11]"
     ]
    },
    {
     "name": "stdout",
     "output_type": "stream",
     "text": [
      "\r",
      "Epoch 303/600:  50%|█████     | 303/600 [19:57<19:33,  3.95s/it, v_num=p2_1, total_loss_train=876, kl_local_train=64.9, tardis_age_0_train=9.52, tardis_integration_donor_0_train=10.9]"
     ]
    },
    {
     "name": "stdout",
     "output_type": "stream",
     "text": [
      "\r",
      "Epoch 304/600:  50%|█████     | 303/600 [19:57<19:33,  3.95s/it, v_num=p2_1, total_loss_train=876, kl_local_train=64.9, tardis_age_0_train=9.52, tardis_integration_donor_0_train=10.9]"
     ]
    },
    {
     "name": "stdout",
     "output_type": "stream",
     "text": [
      "\r",
      "Epoch 304/600:  51%|█████     | 304/600 [20:01<19:28,  3.95s/it, v_num=p2_1, total_loss_train=876, kl_local_train=64.9, tardis_age_0_train=9.52, tardis_integration_donor_0_train=10.9]"
     ]
    },
    {
     "name": "stdout",
     "output_type": "stream",
     "text": [
      "\r",
      "Epoch 304/600:  51%|█████     | 304/600 [20:01<19:28,  3.95s/it, v_num=p2_1, total_loss_train=876, kl_local_train=64.8, tardis_age_0_train=9.5, tardis_integration_donor_0_train=11]   "
     ]
    },
    {
     "name": "stdout",
     "output_type": "stream",
     "text": [
      "\r",
      "Epoch 305/600:  51%|█████     | 304/600 [20:01<19:28,  3.95s/it, v_num=p2_1, total_loss_train=876, kl_local_train=64.8, tardis_age_0_train=9.5, tardis_integration_donor_0_train=11]"
     ]
    },
    {
     "name": "stdout",
     "output_type": "stream",
     "text": [
      "\r",
      "Epoch 305/600:  51%|█████     | 305/600 [20:05<19:26,  3.95s/it, v_num=p2_1, total_loss_train=876, kl_local_train=64.8, tardis_age_0_train=9.5, tardis_integration_donor_0_train=11]"
     ]
    },
    {
     "name": "stdout",
     "output_type": "stream",
     "text": [
      "\r",
      "Epoch 305/600:  51%|█████     | 305/600 [20:05<19:26,  3.95s/it, v_num=p2_1, total_loss_train=876, kl_local_train=64.2, tardis_age_0_train=9.55, tardis_integration_donor_0_train=11.1]"
     ]
    },
    {
     "name": "stdout",
     "output_type": "stream",
     "text": [
      "\r",
      "Epoch 306/600:  51%|█████     | 305/600 [20:05<19:26,  3.95s/it, v_num=p2_1, total_loss_train=876, kl_local_train=64.2, tardis_age_0_train=9.55, tardis_integration_donor_0_train=11.1]"
     ]
    },
    {
     "name": "stdout",
     "output_type": "stream",
     "text": [
      "\r",
      "Epoch 306/600:  51%|█████     | 306/600 [20:09<19:19,  3.94s/it, v_num=p2_1, total_loss_train=876, kl_local_train=64.2, tardis_age_0_train=9.55, tardis_integration_donor_0_train=11.1]"
     ]
    },
    {
     "name": "stdout",
     "output_type": "stream",
     "text": [
      "\r",
      "Epoch 306/600:  51%|█████     | 306/600 [20:09<19:19,  3.94s/it, v_num=p2_1, total_loss_train=876, kl_local_train=63.9, tardis_age_0_train=9.62, tardis_integration_donor_0_train=11.3]"
     ]
    },
    {
     "name": "stdout",
     "output_type": "stream",
     "text": [
      "\r",
      "Epoch 307/600:  51%|█████     | 306/600 [20:09<19:19,  3.94s/it, v_num=p2_1, total_loss_train=876, kl_local_train=63.9, tardis_age_0_train=9.62, tardis_integration_donor_0_train=11.3]"
     ]
    },
    {
     "name": "stdout",
     "output_type": "stream",
     "text": [
      "\r",
      "Epoch 307/600:  51%|█████     | 307/600 [20:13<19:15,  3.95s/it, v_num=p2_1, total_loss_train=876, kl_local_train=63.9, tardis_age_0_train=9.62, tardis_integration_donor_0_train=11.3]"
     ]
    },
    {
     "name": "stdout",
     "output_type": "stream",
     "text": [
      "\r",
      "Epoch 307/600:  51%|█████     | 307/600 [20:13<19:15,  3.95s/it, v_num=p2_1, total_loss_train=876, kl_local_train=64.3, tardis_age_0_train=9.69, tardis_integration_donor_0_train=11]  "
     ]
    },
    {
     "name": "stdout",
     "output_type": "stream",
     "text": [
      "\r",
      "Epoch 308/600:  51%|█████     | 307/600 [20:13<19:15,  3.95s/it, v_num=p2_1, total_loss_train=876, kl_local_train=64.3, tardis_age_0_train=9.69, tardis_integration_donor_0_train=11]"
     ]
    },
    {
     "name": "stdout",
     "output_type": "stream",
     "text": [
      "\r",
      "Epoch 308/600:  51%|█████▏    | 308/600 [20:17<19:12,  3.95s/it, v_num=p2_1, total_loss_train=876, kl_local_train=64.3, tardis_age_0_train=9.69, tardis_integration_donor_0_train=11]"
     ]
    },
    {
     "name": "stdout",
     "output_type": "stream",
     "text": [
      "\r",
      "Epoch 308/600:  51%|█████▏    | 308/600 [20:17<19:12,  3.95s/it, v_num=p2_1, total_loss_train=875, kl_local_train=63.6, tardis_age_0_train=9.75, tardis_integration_donor_0_train=11.1]"
     ]
    },
    {
     "name": "stdout",
     "output_type": "stream",
     "text": [
      "\r",
      "Epoch 309/600:  51%|█████▏    | 308/600 [20:17<19:12,  3.95s/it, v_num=p2_1, total_loss_train=875, kl_local_train=63.6, tardis_age_0_train=9.75, tardis_integration_donor_0_train=11.1]"
     ]
    },
    {
     "name": "stdout",
     "output_type": "stream",
     "text": [
      "\r",
      "Epoch 309/600:  52%|█████▏    | 309/600 [20:20<19:09,  3.95s/it, v_num=p2_1, total_loss_train=875, kl_local_train=63.6, tardis_age_0_train=9.75, tardis_integration_donor_0_train=11.1]"
     ]
    },
    {
     "name": "stdout",
     "output_type": "stream",
     "text": [
      "\r",
      "Epoch 309/600:  52%|█████▏    | 309/600 [20:20<19:09,  3.95s/it, v_num=p2_1, total_loss_train=875, kl_local_train=63.8, tardis_age_0_train=9.72, tardis_integration_donor_0_train=11.2]"
     ]
    },
    {
     "name": "stdout",
     "output_type": "stream",
     "text": [
      "\r",
      "Epoch 310/600:  52%|█████▏    | 309/600 [20:20<19:09,  3.95s/it, v_num=p2_1, total_loss_train=875, kl_local_train=63.8, tardis_age_0_train=9.72, tardis_integration_donor_0_train=11.2]"
     ]
    },
    {
     "name": "stdout",
     "output_type": "stream",
     "text": [
      "\r",
      "Epoch 310/600:  52%|█████▏    | 310/600 [20:24<19:07,  3.96s/it, v_num=p2_1, total_loss_train=875, kl_local_train=63.8, tardis_age_0_train=9.72, tardis_integration_donor_0_train=11.2]"
     ]
    },
    {
     "name": "stdout",
     "output_type": "stream",
     "text": [
      "\r",
      "Epoch 310/600:  52%|█████▏    | 310/600 [20:24<19:07,  3.96s/it, v_num=p2_1, total_loss_train=875, kl_local_train=64.7, tardis_age_0_train=9.57, tardis_integration_donor_0_train=11]  "
     ]
    },
    {
     "name": "stdout",
     "output_type": "stream",
     "text": [
      "\r",
      "Epoch 311/600:  52%|█████▏    | 310/600 [20:24<19:07,  3.96s/it, v_num=p2_1, total_loss_train=875, kl_local_train=64.7, tardis_age_0_train=9.57, tardis_integration_donor_0_train=11]"
     ]
    },
    {
     "name": "stdout",
     "output_type": "stream",
     "text": [
      "\r",
      "Epoch 311/600:  52%|█████▏    | 311/600 [20:28<19:03,  3.96s/it, v_num=p2_1, total_loss_train=875, kl_local_train=64.7, tardis_age_0_train=9.57, tardis_integration_donor_0_train=11]"
     ]
    },
    {
     "name": "stdout",
     "output_type": "stream",
     "text": [
      "\r",
      "Epoch 311/600:  52%|█████▏    | 311/600 [20:28<19:03,  3.96s/it, v_num=p2_1, total_loss_train=875, kl_local_train=64.3, tardis_age_0_train=9.66, tardis_integration_donor_0_train=11.2]"
     ]
    },
    {
     "name": "stdout",
     "output_type": "stream",
     "text": [
      "\r",
      "Epoch 312/600:  52%|█████▏    | 311/600 [20:28<19:03,  3.96s/it, v_num=p2_1, total_loss_train=875, kl_local_train=64.3, tardis_age_0_train=9.66, tardis_integration_donor_0_train=11.2]"
     ]
    },
    {
     "name": "stdout",
     "output_type": "stream",
     "text": [
      "\r",
      "Epoch 312/600:  52%|█████▏    | 312/600 [20:32<18:59,  3.96s/it, v_num=p2_1, total_loss_train=875, kl_local_train=64.3, tardis_age_0_train=9.66, tardis_integration_donor_0_train=11.2]"
     ]
    },
    {
     "name": "stdout",
     "output_type": "stream",
     "text": [
      "\r",
      "Epoch 312/600:  52%|█████▏    | 312/600 [20:32<18:59,  3.96s/it, v_num=p2_1, total_loss_train=875, kl_local_train=64.6, tardis_age_0_train=9.48, tardis_integration_donor_0_train=11.1]"
     ]
    },
    {
     "name": "stdout",
     "output_type": "stream",
     "text": [
      "\r",
      "Epoch 313/600:  52%|█████▏    | 312/600 [20:32<18:59,  3.96s/it, v_num=p2_1, total_loss_train=875, kl_local_train=64.6, tardis_age_0_train=9.48, tardis_integration_donor_0_train=11.1]"
     ]
    },
    {
     "name": "stdout",
     "output_type": "stream",
     "text": [
      "\r",
      "Epoch 313/600:  52%|█████▏    | 313/600 [20:36<18:54,  3.95s/it, v_num=p2_1, total_loss_train=875, kl_local_train=64.6, tardis_age_0_train=9.48, tardis_integration_donor_0_train=11.1]"
     ]
    },
    {
     "name": "stdout",
     "output_type": "stream",
     "text": [
      "\r",
      "Epoch 313/600:  52%|█████▏    | 313/600 [20:36<18:54,  3.95s/it, v_num=p2_1, total_loss_train=875, kl_local_train=64.1, tardis_age_0_train=9.67, tardis_integration_donor_0_train=11.2]"
     ]
    },
    {
     "name": "stdout",
     "output_type": "stream",
     "text": [
      "\r",
      "Epoch 314/600:  52%|█████▏    | 313/600 [20:36<18:54,  3.95s/it, v_num=p2_1, total_loss_train=875, kl_local_train=64.1, tardis_age_0_train=9.67, tardis_integration_donor_0_train=11.2]"
     ]
    },
    {
     "name": "stdout",
     "output_type": "stream",
     "text": [
      "\r",
      "Epoch 314/600:  52%|█████▏    | 314/600 [20:40<18:48,  3.94s/it, v_num=p2_1, total_loss_train=875, kl_local_train=64.1, tardis_age_0_train=9.67, tardis_integration_donor_0_train=11.2]"
     ]
    },
    {
     "name": "stdout",
     "output_type": "stream",
     "text": [
      "\r",
      "Epoch 314/600:  52%|█████▏    | 314/600 [20:40<18:48,  3.94s/it, v_num=p2_1, total_loss_train=875, kl_local_train=63.4, tardis_age_0_train=9.8, tardis_integration_donor_0_train=11.1] "
     ]
    },
    {
     "name": "stdout",
     "output_type": "stream",
     "text": [
      "\r",
      "Epoch 315/600:  52%|█████▏    | 314/600 [20:40<18:48,  3.94s/it, v_num=p2_1, total_loss_train=875, kl_local_train=63.4, tardis_age_0_train=9.8, tardis_integration_donor_0_train=11.1]"
     ]
    },
    {
     "name": "stdout",
     "output_type": "stream",
     "text": [
      "\r",
      "Epoch 315/600:  52%|█████▎    | 315/600 [20:44<18:45,  3.95s/it, v_num=p2_1, total_loss_train=875, kl_local_train=63.4, tardis_age_0_train=9.8, tardis_integration_donor_0_train=11.1]"
     ]
    },
    {
     "name": "stdout",
     "output_type": "stream",
     "text": [
      "\r",
      "Epoch 315/600:  52%|█████▎    | 315/600 [20:44<18:45,  3.95s/it, v_num=p2_1, total_loss_train=875, kl_local_train=63.4, tardis_age_0_train=9.75, tardis_integration_donor_0_train=11.3]"
     ]
    },
    {
     "name": "stdout",
     "output_type": "stream",
     "text": [
      "\r",
      "Epoch 316/600:  52%|█████▎    | 315/600 [20:44<18:45,  3.95s/it, v_num=p2_1, total_loss_train=875, kl_local_train=63.4, tardis_age_0_train=9.75, tardis_integration_donor_0_train=11.3]"
     ]
    },
    {
     "name": "stdout",
     "output_type": "stream",
     "text": [
      "\r",
      "Epoch 316/600:  53%|█████▎    | 316/600 [20:48<18:46,  3.97s/it, v_num=p2_1, total_loss_train=875, kl_local_train=63.4, tardis_age_0_train=9.75, tardis_integration_donor_0_train=11.3]"
     ]
    },
    {
     "name": "stdout",
     "output_type": "stream",
     "text": [
      "\r",
      "Epoch 316/600:  53%|█████▎    | 316/600 [20:48<18:46,  3.97s/it, v_num=p2_1, total_loss_train=874, kl_local_train=63.3, tardis_age_0_train=9.88, tardis_integration_donor_0_train=11.2]"
     ]
    },
    {
     "name": "stdout",
     "output_type": "stream",
     "text": [
      "\r",
      "Epoch 317/600:  53%|█████▎    | 316/600 [20:48<18:46,  3.97s/it, v_num=p2_1, total_loss_train=874, kl_local_train=63.3, tardis_age_0_train=9.88, tardis_integration_donor_0_train=11.2]"
     ]
    },
    {
     "name": "stdout",
     "output_type": "stream",
     "text": [
      "\r",
      "Epoch 317/600:  53%|█████▎    | 317/600 [20:52<18:39,  3.95s/it, v_num=p2_1, total_loss_train=874, kl_local_train=63.3, tardis_age_0_train=9.88, tardis_integration_donor_0_train=11.2]"
     ]
    },
    {
     "name": "stdout",
     "output_type": "stream",
     "text": [
      "\r",
      "Epoch 317/600:  53%|█████▎    | 317/600 [20:52<18:39,  3.95s/it, v_num=p2_1, total_loss_train=874, kl_local_train=63.1, tardis_age_0_train=9.95, tardis_integration_donor_0_train=11.3]"
     ]
    },
    {
     "name": "stdout",
     "output_type": "stream",
     "text": [
      "\r",
      "Epoch 318/600:  53%|█████▎    | 317/600 [20:52<18:39,  3.95s/it, v_num=p2_1, total_loss_train=874, kl_local_train=63.1, tardis_age_0_train=9.95, tardis_integration_donor_0_train=11.3]"
     ]
    },
    {
     "name": "stdout",
     "output_type": "stream",
     "text": [
      "\r",
      "Epoch 318/600:  53%|█████▎    | 318/600 [20:56<18:32,  3.94s/it, v_num=p2_1, total_loss_train=874, kl_local_train=63.1, tardis_age_0_train=9.95, tardis_integration_donor_0_train=11.3]"
     ]
    },
    {
     "name": "stdout",
     "output_type": "stream",
     "text": [
      "\r",
      "Epoch 318/600:  53%|█████▎    | 318/600 [20:56<18:32,  3.94s/it, v_num=p2_1, total_loss_train=874, kl_local_train=63.7, tardis_age_0_train=9.72, tardis_integration_donor_0_train=11.2]"
     ]
    },
    {
     "name": "stdout",
     "output_type": "stream",
     "text": [
      "\r",
      "Epoch 319/600:  53%|█████▎    | 318/600 [20:56<18:32,  3.94s/it, v_num=p2_1, total_loss_train=874, kl_local_train=63.7, tardis_age_0_train=9.72, tardis_integration_donor_0_train=11.2]"
     ]
    },
    {
     "name": "stdout",
     "output_type": "stream",
     "text": [
      "\r",
      "Epoch 319/600:  53%|█████▎    | 319/600 [21:00<18:29,  3.95s/it, v_num=p2_1, total_loss_train=874, kl_local_train=63.7, tardis_age_0_train=9.72, tardis_integration_donor_0_train=11.2]"
     ]
    },
    {
     "name": "stdout",
     "output_type": "stream",
     "text": [
      "\r",
      "Epoch 319/600:  53%|█████▎    | 319/600 [21:00<18:29,  3.95s/it, v_num=p2_1, total_loss_train=874, kl_local_train=63.5, tardis_age_0_train=9.81, tardis_integration_donor_0_train=11.3]"
     ]
    },
    {
     "name": "stdout",
     "output_type": "stream",
     "text": [
      "\r",
      "Epoch 320/600:  53%|█████▎    | 319/600 [21:00<18:29,  3.95s/it, v_num=p2_1, total_loss_train=874, kl_local_train=63.5, tardis_age_0_train=9.81, tardis_integration_donor_0_train=11.3]"
     ]
    },
    {
     "name": "stdout",
     "output_type": "stream",
     "text": [
      "\r",
      "Epoch 320/600:  53%|█████▎    | 320/600 [21:04<18:24,  3.94s/it, v_num=p2_1, total_loss_train=874, kl_local_train=63.5, tardis_age_0_train=9.81, tardis_integration_donor_0_train=11.3]"
     ]
    },
    {
     "name": "stdout",
     "output_type": "stream",
     "text": [
      "\r",
      "Epoch 320/600:  53%|█████▎    | 320/600 [21:04<18:24,  3.94s/it, v_num=p2_1, total_loss_train=874, kl_local_train=64, tardis_age_0_train=9.72, tardis_integration_donor_0_train=11.2]  "
     ]
    },
    {
     "name": "stdout",
     "output_type": "stream",
     "text": [
      "\r",
      "Epoch 321/600:  53%|█████▎    | 320/600 [21:04<18:24,  3.94s/it, v_num=p2_1, total_loss_train=874, kl_local_train=64, tardis_age_0_train=9.72, tardis_integration_donor_0_train=11.2]"
     ]
    },
    {
     "name": "stdout",
     "output_type": "stream",
     "text": [
      "\r",
      "Epoch 321/600:  54%|█████▎    | 321/600 [21:08<18:20,  3.94s/it, v_num=p2_1, total_loss_train=874, kl_local_train=64, tardis_age_0_train=9.72, tardis_integration_donor_0_train=11.2]"
     ]
    },
    {
     "name": "stdout",
     "output_type": "stream",
     "text": [
      "\r",
      "Epoch 321/600:  54%|█████▎    | 321/600 [21:08<18:20,  3.94s/it, v_num=p2_1, total_loss_train=874, kl_local_train=63.2, tardis_age_0_train=9.79, tardis_integration_donor_0_train=11.3]"
     ]
    },
    {
     "name": "stdout",
     "output_type": "stream",
     "text": [
      "\r",
      "Epoch 322/600:  54%|█████▎    | 321/600 [21:08<18:20,  3.94s/it, v_num=p2_1, total_loss_train=874, kl_local_train=63.2, tardis_age_0_train=9.79, tardis_integration_donor_0_train=11.3]"
     ]
    },
    {
     "name": "stdout",
     "output_type": "stream",
     "text": [
      "\r",
      "Epoch 322/600:  54%|█████▎    | 322/600 [21:12<18:16,  3.94s/it, v_num=p2_1, total_loss_train=874, kl_local_train=63.2, tardis_age_0_train=9.79, tardis_integration_donor_0_train=11.3]"
     ]
    },
    {
     "name": "stdout",
     "output_type": "stream",
     "text": [
      "\r",
      "Epoch 322/600:  54%|█████▎    | 322/600 [21:12<18:16,  3.94s/it, v_num=p2_1, total_loss_train=873, kl_local_train=62.7, tardis_age_0_train=9.81, tardis_integration_donor_0_train=11.3]"
     ]
    },
    {
     "name": "stdout",
     "output_type": "stream",
     "text": [
      "\r",
      "Epoch 323/600:  54%|█████▎    | 322/600 [21:12<18:16,  3.94s/it, v_num=p2_1, total_loss_train=873, kl_local_train=62.7, tardis_age_0_train=9.81, tardis_integration_donor_0_train=11.3]"
     ]
    },
    {
     "name": "stdout",
     "output_type": "stream",
     "text": [
      "\r",
      "Epoch 323/600:  54%|█████▍    | 323/600 [21:16<18:12,  3.94s/it, v_num=p2_1, total_loss_train=873, kl_local_train=62.7, tardis_age_0_train=9.81, tardis_integration_donor_0_train=11.3]"
     ]
    },
    {
     "name": "stdout",
     "output_type": "stream",
     "text": [
      "\r",
      "Epoch 323/600:  54%|█████▍    | 323/600 [21:16<18:12,  3.94s/it, v_num=p2_1, total_loss_train=873, kl_local_train=62.5, tardis_age_0_train=10, tardis_integration_donor_0_train=11.4]  "
     ]
    },
    {
     "name": "stdout",
     "output_type": "stream",
     "text": [
      "\r",
      "Epoch 324/600:  54%|█████▍    | 323/600 [21:16<18:12,  3.94s/it, v_num=p2_1, total_loss_train=873, kl_local_train=62.5, tardis_age_0_train=10, tardis_integration_donor_0_train=11.4]"
     ]
    },
    {
     "name": "stdout",
     "output_type": "stream",
     "text": [
      "\r",
      "Epoch 324/600:  54%|█████▍    | 324/600 [21:20<18:09,  3.95s/it, v_num=p2_1, total_loss_train=873, kl_local_train=62.5, tardis_age_0_train=10, tardis_integration_donor_0_train=11.4]"
     ]
    },
    {
     "name": "stdout",
     "output_type": "stream",
     "text": [
      "\r",
      "Epoch 324/600:  54%|█████▍    | 324/600 [21:20<18:09,  3.95s/it, v_num=p2_1, total_loss_train=873, kl_local_train=62.7, tardis_age_0_train=9.98, tardis_integration_donor_0_train=11.3]"
     ]
    },
    {
     "name": "stdout",
     "output_type": "stream",
     "text": [
      "\r",
      "Epoch 325/600:  54%|█████▍    | 324/600 [21:20<18:09,  3.95s/it, v_num=p2_1, total_loss_train=873, kl_local_train=62.7, tardis_age_0_train=9.98, tardis_integration_donor_0_train=11.3]"
     ]
    },
    {
     "name": "stdout",
     "output_type": "stream",
     "text": [
      "\r",
      "Epoch 325/600:  54%|█████▍    | 325/600 [21:24<18:01,  3.93s/it, v_num=p2_1, total_loss_train=873, kl_local_train=62.7, tardis_age_0_train=9.98, tardis_integration_donor_0_train=11.3]"
     ]
    },
    {
     "name": "stdout",
     "output_type": "stream",
     "text": [
      "\r",
      "Epoch 325/600:  54%|█████▍    | 325/600 [21:24<18:01,  3.93s/it, v_num=p2_1, total_loss_train=873, kl_local_train=62.9, tardis_age_0_train=9.82, tardis_integration_donor_0_train=11.4]"
     ]
    },
    {
     "name": "stdout",
     "output_type": "stream",
     "text": [
      "\r",
      "Epoch 326/600:  54%|█████▍    | 325/600 [21:24<18:01,  3.93s/it, v_num=p2_1, total_loss_train=873, kl_local_train=62.9, tardis_age_0_train=9.82, tardis_integration_donor_0_train=11.4]"
     ]
    },
    {
     "name": "stdout",
     "output_type": "stream",
     "text": [
      "\r",
      "Epoch 326/600:  54%|█████▍    | 326/600 [21:28<17:54,  3.92s/it, v_num=p2_1, total_loss_train=873, kl_local_train=62.9, tardis_age_0_train=9.82, tardis_integration_donor_0_train=11.4]"
     ]
    },
    {
     "name": "stdout",
     "output_type": "stream",
     "text": [
      "\r",
      "Epoch 326/600:  54%|█████▍    | 326/600 [21:28<17:54,  3.92s/it, v_num=p2_1, total_loss_train=873, kl_local_train=63.4, tardis_age_0_train=9.75, tardis_integration_donor_0_train=11.3]"
     ]
    },
    {
     "name": "stdout",
     "output_type": "stream",
     "text": [
      "\r",
      "Epoch 327/600:  54%|█████▍    | 326/600 [21:28<17:54,  3.92s/it, v_num=p2_1, total_loss_train=873, kl_local_train=63.4, tardis_age_0_train=9.75, tardis_integration_donor_0_train=11.3]"
     ]
    },
    {
     "name": "stdout",
     "output_type": "stream",
     "text": [
      "\r",
      "Epoch 327/600:  55%|█████▍    | 327/600 [21:31<17:51,  3.93s/it, v_num=p2_1, total_loss_train=873, kl_local_train=63.4, tardis_age_0_train=9.75, tardis_integration_donor_0_train=11.3]"
     ]
    },
    {
     "name": "stdout",
     "output_type": "stream",
     "text": [
      "\r",
      "Epoch 327/600:  55%|█████▍    | 327/600 [21:31<17:51,  3.93s/it, v_num=p2_1, total_loss_train=873, kl_local_train=62.9, tardis_age_0_train=9.96, tardis_integration_donor_0_train=11.6]"
     ]
    },
    {
     "name": "stdout",
     "output_type": "stream",
     "text": [
      "\r",
      "Epoch 328/600:  55%|█████▍    | 327/600 [21:31<17:51,  3.93s/it, v_num=p2_1, total_loss_train=873, kl_local_train=62.9, tardis_age_0_train=9.96, tardis_integration_donor_0_train=11.6]"
     ]
    },
    {
     "name": "stdout",
     "output_type": "stream",
     "text": [
      "\r",
      "Epoch 328/600:  55%|█████▍    | 328/600 [21:35<17:48,  3.93s/it, v_num=p2_1, total_loss_train=873, kl_local_train=62.9, tardis_age_0_train=9.96, tardis_integration_donor_0_train=11.6]"
     ]
    },
    {
     "name": "stdout",
     "output_type": "stream",
     "text": [
      "\r",
      "Epoch 328/600:  55%|█████▍    | 328/600 [21:35<17:48,  3.93s/it, v_num=p2_1, total_loss_train=873, kl_local_train=62.8, tardis_age_0_train=10, tardis_integration_donor_0_train=11.6]  "
     ]
    },
    {
     "name": "stdout",
     "output_type": "stream",
     "text": [
      "\r",
      "Epoch 329/600:  55%|█████▍    | 328/600 [21:35<17:48,  3.93s/it, v_num=p2_1, total_loss_train=873, kl_local_train=62.8, tardis_age_0_train=10, tardis_integration_donor_0_train=11.6]"
     ]
    },
    {
     "name": "stdout",
     "output_type": "stream",
     "text": [
      "\r",
      "Epoch 329/600:  55%|█████▍    | 329/600 [21:39<17:44,  3.93s/it, v_num=p2_1, total_loss_train=873, kl_local_train=62.8, tardis_age_0_train=10, tardis_integration_donor_0_train=11.6]"
     ]
    },
    {
     "name": "stdout",
     "output_type": "stream",
     "text": [
      "\r",
      "Epoch 329/600:  55%|█████▍    | 329/600 [21:39<17:44,  3.93s/it, v_num=p2_1, total_loss_train=873, kl_local_train=62.3, tardis_age_0_train=10.1, tardis_integration_donor_0_train=11.5]"
     ]
    },
    {
     "name": "stdout",
     "output_type": "stream",
     "text": [
      "\r",
      "Epoch 330/600:  55%|█████▍    | 329/600 [21:39<17:44,  3.93s/it, v_num=p2_1, total_loss_train=873, kl_local_train=62.3, tardis_age_0_train=10.1, tardis_integration_donor_0_train=11.5]"
     ]
    },
    {
     "name": "stdout",
     "output_type": "stream",
     "text": [
      "\r",
      "Epoch 330/600:  55%|█████▌    | 330/600 [21:43<17:40,  3.93s/it, v_num=p2_1, total_loss_train=873, kl_local_train=62.3, tardis_age_0_train=10.1, tardis_integration_donor_0_train=11.5]"
     ]
    },
    {
     "name": "stdout",
     "output_type": "stream",
     "text": [
      "\r",
      "Epoch 330/600:  55%|█████▌    | 330/600 [21:43<17:40,  3.93s/it, v_num=p2_1, total_loss_train=873, kl_local_train=62.5, tardis_age_0_train=10.1, tardis_integration_donor_0_train=11.6]"
     ]
    },
    {
     "name": "stdout",
     "output_type": "stream",
     "text": [
      "\r",
      "Epoch 331/600:  55%|█████▌    | 330/600 [21:43<17:40,  3.93s/it, v_num=p2_1, total_loss_train=873, kl_local_train=62.5, tardis_age_0_train=10.1, tardis_integration_donor_0_train=11.6]"
     ]
    },
    {
     "name": "stdout",
     "output_type": "stream",
     "text": [
      "\r",
      "Epoch 331/600:  55%|█████▌    | 331/600 [21:47<17:36,  3.93s/it, v_num=p2_1, total_loss_train=873, kl_local_train=62.5, tardis_age_0_train=10.1, tardis_integration_donor_0_train=11.6]"
     ]
    },
    {
     "name": "stdout",
     "output_type": "stream",
     "text": [
      "\r",
      "Epoch 331/600:  55%|█████▌    | 331/600 [21:47<17:36,  3.93s/it, v_num=p2_1, total_loss_train=872, kl_local_train=62.3, tardis_age_0_train=9.88, tardis_integration_donor_0_train=11.5]"
     ]
    },
    {
     "name": "stdout",
     "output_type": "stream",
     "text": [
      "\r",
      "Epoch 332/600:  55%|█████▌    | 331/600 [21:47<17:36,  3.93s/it, v_num=p2_1, total_loss_train=872, kl_local_train=62.3, tardis_age_0_train=9.88, tardis_integration_donor_0_train=11.5]"
     ]
    },
    {
     "name": "stdout",
     "output_type": "stream",
     "text": [
      "\r",
      "Epoch 332/600:  55%|█████▌    | 332/600 [21:51<17:31,  3.92s/it, v_num=p2_1, total_loss_train=872, kl_local_train=62.3, tardis_age_0_train=9.88, tardis_integration_donor_0_train=11.5]"
     ]
    },
    {
     "name": "stdout",
     "output_type": "stream",
     "text": [
      "\r",
      "Epoch 332/600:  55%|█████▌    | 332/600 [21:51<17:31,  3.92s/it, v_num=p2_1, total_loss_train=872, kl_local_train=62.3, tardis_age_0_train=10, tardis_integration_donor_0_train=11.6]  "
     ]
    },
    {
     "name": "stdout",
     "output_type": "stream",
     "text": [
      "\r",
      "Epoch 333/600:  55%|█████▌    | 332/600 [21:51<17:31,  3.92s/it, v_num=p2_1, total_loss_train=872, kl_local_train=62.3, tardis_age_0_train=10, tardis_integration_donor_0_train=11.6]"
     ]
    },
    {
     "name": "stdout",
     "output_type": "stream",
     "text": [
      "\r",
      "Epoch 333/600:  56%|█████▌    | 333/600 [21:55<17:28,  3.93s/it, v_num=p2_1, total_loss_train=872, kl_local_train=62.3, tardis_age_0_train=10, tardis_integration_donor_0_train=11.6]"
     ]
    },
    {
     "name": "stdout",
     "output_type": "stream",
     "text": [
      "\r",
      "Epoch 333/600:  56%|█████▌    | 333/600 [21:55<17:28,  3.93s/it, v_num=p2_1, total_loss_train=872, kl_local_train=62.1, tardis_age_0_train=10, tardis_integration_donor_0_train=11.7]"
     ]
    },
    {
     "name": "stdout",
     "output_type": "stream",
     "text": [
      "\r",
      "Epoch 334/600:  56%|█████▌    | 333/600 [21:55<17:28,  3.93s/it, v_num=p2_1, total_loss_train=872, kl_local_train=62.1, tardis_age_0_train=10, tardis_integration_donor_0_train=11.7]"
     ]
    },
    {
     "name": "stdout",
     "output_type": "stream",
     "text": [
      "\r",
      "Epoch 334/600:  56%|█████▌    | 334/600 [21:59<17:25,  3.93s/it, v_num=p2_1, total_loss_train=872, kl_local_train=62.1, tardis_age_0_train=10, tardis_integration_donor_0_train=11.7]"
     ]
    },
    {
     "name": "stdout",
     "output_type": "stream",
     "text": [
      "\r",
      "Epoch 334/600:  56%|█████▌    | 334/600 [21:59<17:25,  3.93s/it, v_num=p2_1, total_loss_train=872, kl_local_train=62.1, tardis_age_0_train=9.99, tardis_integration_donor_0_train=11.6]"
     ]
    },
    {
     "name": "stdout",
     "output_type": "stream",
     "text": [
      "\r",
      "Epoch 335/600:  56%|█████▌    | 334/600 [21:59<17:25,  3.93s/it, v_num=p2_1, total_loss_train=872, kl_local_train=62.1, tardis_age_0_train=9.99, tardis_integration_donor_0_train=11.6]"
     ]
    },
    {
     "name": "stdout",
     "output_type": "stream",
     "text": [
      "\r",
      "Epoch 335/600:  56%|█████▌    | 335/600 [22:03<17:21,  3.93s/it, v_num=p2_1, total_loss_train=872, kl_local_train=62.1, tardis_age_0_train=9.99, tardis_integration_donor_0_train=11.6]"
     ]
    },
    {
     "name": "stdout",
     "output_type": "stream",
     "text": [
      "\r",
      "Epoch 335/600:  56%|█████▌    | 335/600 [22:03<17:21,  3.93s/it, v_num=p2_1, total_loss_train=872, kl_local_train=62, tardis_age_0_train=9.96, tardis_integration_donor_0_train=11.6]  "
     ]
    },
    {
     "name": "stdout",
     "output_type": "stream",
     "text": [
      "\r",
      "Epoch 336/600:  56%|█████▌    | 335/600 [22:03<17:21,  3.93s/it, v_num=p2_1, total_loss_train=872, kl_local_train=62, tardis_age_0_train=9.96, tardis_integration_donor_0_train=11.6]"
     ]
    },
    {
     "name": "stdout",
     "output_type": "stream",
     "text": [
      "\r",
      "Epoch 336/600:  56%|█████▌    | 336/600 [22:07<17:16,  3.93s/it, v_num=p2_1, total_loss_train=872, kl_local_train=62, tardis_age_0_train=9.96, tardis_integration_donor_0_train=11.6]"
     ]
    },
    {
     "name": "stdout",
     "output_type": "stream",
     "text": [
      "\r",
      "Epoch 336/600:  56%|█████▌    | 336/600 [22:07<17:16,  3.93s/it, v_num=p2_1, total_loss_train=871, kl_local_train=62.2, tardis_age_0_train=9.96, tardis_integration_donor_0_train=11.5]"
     ]
    },
    {
     "name": "stdout",
     "output_type": "stream",
     "text": [
      "\r",
      "Epoch 337/600:  56%|█████▌    | 336/600 [22:07<17:16,  3.93s/it, v_num=p2_1, total_loss_train=871, kl_local_train=62.2, tardis_age_0_train=9.96, tardis_integration_donor_0_train=11.5]"
     ]
    },
    {
     "name": "stdout",
     "output_type": "stream",
     "text": [
      "\r",
      "Epoch 337/600:  56%|█████▌    | 337/600 [22:11<17:15,  3.94s/it, v_num=p2_1, total_loss_train=871, kl_local_train=62.2, tardis_age_0_train=9.96, tardis_integration_donor_0_train=11.5]"
     ]
    },
    {
     "name": "stdout",
     "output_type": "stream",
     "text": [
      "\r",
      "Epoch 337/600:  56%|█████▌    | 337/600 [22:11<17:15,  3.94s/it, v_num=p2_1, total_loss_train=871, kl_local_train=61.8, tardis_age_0_train=10.1, tardis_integration_donor_0_train=11.7]"
     ]
    },
    {
     "name": "stdout",
     "output_type": "stream",
     "text": [
      "\r",
      "Epoch 338/600:  56%|█████▌    | 337/600 [22:11<17:15,  3.94s/it, v_num=p2_1, total_loss_train=871, kl_local_train=61.8, tardis_age_0_train=10.1, tardis_integration_donor_0_train=11.7]"
     ]
    },
    {
     "name": "stdout",
     "output_type": "stream",
     "text": [
      "\r",
      "Epoch 338/600:  56%|█████▋    | 338/600 [22:15<17:09,  3.93s/it, v_num=p2_1, total_loss_train=871, kl_local_train=61.8, tardis_age_0_train=10.1, tardis_integration_donor_0_train=11.7]"
     ]
    },
    {
     "name": "stdout",
     "output_type": "stream",
     "text": [
      "\r",
      "Epoch 338/600:  56%|█████▋    | 338/600 [22:15<17:09,  3.93s/it, v_num=p2_1, total_loss_train=871, kl_local_train=62, tardis_age_0_train=10, tardis_integration_donor_0_train=11.5]    "
     ]
    },
    {
     "name": "stdout",
     "output_type": "stream",
     "text": [
      "\r",
      "Epoch 339/600:  56%|█████▋    | 338/600 [22:15<17:09,  3.93s/it, v_num=p2_1, total_loss_train=871, kl_local_train=62, tardis_age_0_train=10, tardis_integration_donor_0_train=11.5]"
     ]
    },
    {
     "name": "stdout",
     "output_type": "stream",
     "text": [
      "\r",
      "Epoch 339/600:  56%|█████▋    | 339/600 [22:19<17:07,  3.94s/it, v_num=p2_1, total_loss_train=871, kl_local_train=62, tardis_age_0_train=10, tardis_integration_donor_0_train=11.5]"
     ]
    },
    {
     "name": "stdout",
     "output_type": "stream",
     "text": [
      "\r",
      "Epoch 339/600:  56%|█████▋    | 339/600 [22:19<17:07,  3.94s/it, v_num=p2_1, total_loss_train=871, kl_local_train=62, tardis_age_0_train=10, tardis_integration_donor_0_train=11.6]"
     ]
    },
    {
     "name": "stdout",
     "output_type": "stream",
     "text": [
      "\r",
      "Epoch 340/600:  56%|█████▋    | 339/600 [22:19<17:07,  3.94s/it, v_num=p2_1, total_loss_train=871, kl_local_train=62, tardis_age_0_train=10, tardis_integration_donor_0_train=11.6]"
     ]
    },
    {
     "name": "stdout",
     "output_type": "stream",
     "text": [
      "\r",
      "Epoch 340/600:  57%|█████▋    | 340/600 [22:23<17:04,  3.94s/it, v_num=p2_1, total_loss_train=871, kl_local_train=62, tardis_age_0_train=10, tardis_integration_donor_0_train=11.6]"
     ]
    },
    {
     "name": "stdout",
     "output_type": "stream",
     "text": [
      "\r",
      "Epoch 340/600:  57%|█████▋    | 340/600 [22:23<17:04,  3.94s/it, v_num=p2_1, total_loss_train=871, kl_local_train=61.9, tardis_age_0_train=10.1, tardis_integration_donor_0_train=11.5]"
     ]
    },
    {
     "name": "stdout",
     "output_type": "stream",
     "text": [
      "\r",
      "Epoch 341/600:  57%|█████▋    | 340/600 [22:23<17:04,  3.94s/it, v_num=p2_1, total_loss_train=871, kl_local_train=61.9, tardis_age_0_train=10.1, tardis_integration_donor_0_train=11.5]"
     ]
    },
    {
     "name": "stdout",
     "output_type": "stream",
     "text": [
      "\r",
      "Epoch 341/600:  57%|█████▋    | 341/600 [22:27<16:59,  3.94s/it, v_num=p2_1, total_loss_train=871, kl_local_train=61.9, tardis_age_0_train=10.1, tardis_integration_donor_0_train=11.5]"
     ]
    },
    {
     "name": "stdout",
     "output_type": "stream",
     "text": [
      "\r",
      "Epoch 341/600:  57%|█████▋    | 341/600 [22:27<16:59,  3.94s/it, v_num=p2_1, total_loss_train=870, kl_local_train=62, tardis_age_0_train=10.1, tardis_integration_donor_0_train=11.6]  "
     ]
    },
    {
     "name": "stdout",
     "output_type": "stream",
     "text": [
      "\r",
      "Epoch 342/600:  57%|█████▋    | 341/600 [22:27<16:59,  3.94s/it, v_num=p2_1, total_loss_train=870, kl_local_train=62, tardis_age_0_train=10.1, tardis_integration_donor_0_train=11.6]"
     ]
    },
    {
     "name": "stdout",
     "output_type": "stream",
     "text": [
      "\r",
      "Epoch 342/600:  57%|█████▋    | 342/600 [22:30<16:55,  3.94s/it, v_num=p2_1, total_loss_train=870, kl_local_train=62, tardis_age_0_train=10.1, tardis_integration_donor_0_train=11.6]"
     ]
    },
    {
     "name": "stdout",
     "output_type": "stream",
     "text": [
      "\r",
      "Epoch 342/600:  57%|█████▋    | 342/600 [22:30<16:55,  3.94s/it, v_num=p2_1, total_loss_train=871, kl_local_train=61.7, tardis_age_0_train=10.1, tardis_integration_donor_0_train=11.7]"
     ]
    },
    {
     "name": "stdout",
     "output_type": "stream",
     "text": [
      "\r",
      "Epoch 343/600:  57%|█████▋    | 342/600 [22:30<16:55,  3.94s/it, v_num=p2_1, total_loss_train=871, kl_local_train=61.7, tardis_age_0_train=10.1, tardis_integration_donor_0_train=11.7]"
     ]
    },
    {
     "name": "stdout",
     "output_type": "stream",
     "text": [
      "\r",
      "Epoch 343/600:  57%|█████▋    | 343/600 [22:34<16:51,  3.94s/it, v_num=p2_1, total_loss_train=871, kl_local_train=61.7, tardis_age_0_train=10.1, tardis_integration_donor_0_train=11.7]"
     ]
    },
    {
     "name": "stdout",
     "output_type": "stream",
     "text": [
      "\r",
      "Epoch 343/600:  57%|█████▋    | 343/600 [22:34<16:51,  3.94s/it, v_num=p2_1, total_loss_train=871, kl_local_train=62, tardis_age_0_train=10.1, tardis_integration_donor_0_train=11.7]  "
     ]
    },
    {
     "name": "stdout",
     "output_type": "stream",
     "text": [
      "\r",
      "Epoch 344/600:  57%|█████▋    | 343/600 [22:34<16:51,  3.94s/it, v_num=p2_1, total_loss_train=871, kl_local_train=62, tardis_age_0_train=10.1, tardis_integration_donor_0_train=11.7]"
     ]
    },
    {
     "name": "stdout",
     "output_type": "stream",
     "text": [
      "\r",
      "Epoch 344/600:  57%|█████▋    | 344/600 [22:38<16:47,  3.94s/it, v_num=p2_1, total_loss_train=871, kl_local_train=62, tardis_age_0_train=10.1, tardis_integration_donor_0_train=11.7]"
     ]
    },
    {
     "name": "stdout",
     "output_type": "stream",
     "text": [
      "\r",
      "Epoch 344/600:  57%|█████▋    | 344/600 [22:38<16:47,  3.94s/it, v_num=p2_1, total_loss_train=870, kl_local_train=61.6, tardis_age_0_train=10.2, tardis_integration_donor_0_train=11.8]"
     ]
    },
    {
     "name": "stdout",
     "output_type": "stream",
     "text": [
      "\r",
      "Epoch 345/600:  57%|█████▋    | 344/600 [22:38<16:47,  3.94s/it, v_num=p2_1, total_loss_train=870, kl_local_train=61.6, tardis_age_0_train=10.2, tardis_integration_donor_0_train=11.8]"
     ]
    },
    {
     "name": "stdout",
     "output_type": "stream",
     "text": [
      "\r",
      "Epoch 345/600:  57%|█████▊    | 345/600 [22:42<16:44,  3.94s/it, v_num=p2_1, total_loss_train=870, kl_local_train=61.6, tardis_age_0_train=10.2, tardis_integration_donor_0_train=11.8]"
     ]
    },
    {
     "name": "stdout",
     "output_type": "stream",
     "text": [
      "\r",
      "Epoch 345/600:  57%|█████▊    | 345/600 [22:42<16:44,  3.94s/it, v_num=p2_1, total_loss_train=870, kl_local_train=61.5, tardis_age_0_train=10.1, tardis_integration_donor_0_train=11.8]"
     ]
    },
    {
     "name": "stdout",
     "output_type": "stream",
     "text": [
      "\r",
      "Epoch 346/600:  57%|█████▊    | 345/600 [22:42<16:44,  3.94s/it, v_num=p2_1, total_loss_train=870, kl_local_train=61.5, tardis_age_0_train=10.1, tardis_integration_donor_0_train=11.8]"
     ]
    },
    {
     "name": "stdout",
     "output_type": "stream",
     "text": [
      "\r",
      "Epoch 346/600:  58%|█████▊    | 346/600 [22:46<16:41,  3.94s/it, v_num=p2_1, total_loss_train=870, kl_local_train=61.5, tardis_age_0_train=10.1, tardis_integration_donor_0_train=11.8]"
     ]
    },
    {
     "name": "stdout",
     "output_type": "stream",
     "text": [
      "\r",
      "Epoch 346/600:  58%|█████▊    | 346/600 [22:46<16:41,  3.94s/it, v_num=p2_1, total_loss_train=870, kl_local_train=61.2, tardis_age_0_train=10.2, tardis_integration_donor_0_train=11.7]"
     ]
    },
    {
     "name": "stdout",
     "output_type": "stream",
     "text": [
      "\r",
      "Epoch 347/600:  58%|█████▊    | 346/600 [22:46<16:41,  3.94s/it, v_num=p2_1, total_loss_train=870, kl_local_train=61.2, tardis_age_0_train=10.2, tardis_integration_donor_0_train=11.7]"
     ]
    },
    {
     "name": "stdout",
     "output_type": "stream",
     "text": [
      "\r",
      "Epoch 347/600:  58%|█████▊    | 347/600 [22:50<16:36,  3.94s/it, v_num=p2_1, total_loss_train=870, kl_local_train=61.2, tardis_age_0_train=10.2, tardis_integration_donor_0_train=11.7]"
     ]
    },
    {
     "name": "stdout",
     "output_type": "stream",
     "text": [
      "\r",
      "Epoch 347/600:  58%|█████▊    | 347/600 [22:50<16:36,  3.94s/it, v_num=p2_1, total_loss_train=870, kl_local_train=60.7, tardis_age_0_train=10.5, tardis_integration_donor_0_train=11.8]"
     ]
    },
    {
     "name": "stdout",
     "output_type": "stream",
     "text": [
      "\r",
      "Epoch 348/600:  58%|█████▊    | 347/600 [22:50<16:36,  3.94s/it, v_num=p2_1, total_loss_train=870, kl_local_train=60.7, tardis_age_0_train=10.5, tardis_integration_donor_0_train=11.8]"
     ]
    },
    {
     "name": "stdout",
     "output_type": "stream",
     "text": [
      "\r",
      "Epoch 348/600:  58%|█████▊    | 348/600 [22:54<16:31,  3.94s/it, v_num=p2_1, total_loss_train=870, kl_local_train=60.7, tardis_age_0_train=10.5, tardis_integration_donor_0_train=11.8]"
     ]
    },
    {
     "name": "stdout",
     "output_type": "stream",
     "text": [
      "\r",
      "Epoch 348/600:  58%|█████▊    | 348/600 [22:54<16:31,  3.94s/it, v_num=p2_1, total_loss_train=870, kl_local_train=60.9, tardis_age_0_train=10.3, tardis_integration_donor_0_train=11.8]"
     ]
    },
    {
     "name": "stdout",
     "output_type": "stream",
     "text": [
      "\r",
      "Epoch 349/600:  58%|█████▊    | 348/600 [22:54<16:31,  3.94s/it, v_num=p2_1, total_loss_train=870, kl_local_train=60.9, tardis_age_0_train=10.3, tardis_integration_donor_0_train=11.8]"
     ]
    },
    {
     "name": "stdout",
     "output_type": "stream",
     "text": [
      "\r",
      "Epoch 349/600:  58%|█████▊    | 349/600 [22:58<16:29,  3.94s/it, v_num=p2_1, total_loss_train=870, kl_local_train=60.9, tardis_age_0_train=10.3, tardis_integration_donor_0_train=11.8]"
     ]
    },
    {
     "name": "stdout",
     "output_type": "stream",
     "text": [
      "\r",
      "Epoch 349/600:  58%|█████▊    | 349/600 [22:58<16:29,  3.94s/it, v_num=p2_1, total_loss_train=870, kl_local_train=61.1, tardis_age_0_train=10.2, tardis_integration_donor_0_train=11.8]"
     ]
    },
    {
     "name": "stdout",
     "output_type": "stream",
     "text": [
      "\r",
      "Epoch 350/600:  58%|█████▊    | 349/600 [22:58<16:29,  3.94s/it, v_num=p2_1, total_loss_train=870, kl_local_train=61.1, tardis_age_0_train=10.2, tardis_integration_donor_0_train=11.8]"
     ]
    },
    {
     "name": "stdout",
     "output_type": "stream",
     "text": [
      "\r",
      "Epoch 350/600:  58%|█████▊    | 350/600 [23:02<16:24,  3.94s/it, v_num=p2_1, total_loss_train=870, kl_local_train=61.1, tardis_age_0_train=10.2, tardis_integration_donor_0_train=11.8]"
     ]
    },
    {
     "name": "stdout",
     "output_type": "stream",
     "text": [
      "\r",
      "Epoch 350/600:  58%|█████▊    | 350/600 [23:02<16:24,  3.94s/it, v_num=p2_1, total_loss_train=869, kl_local_train=61.1, tardis_age_0_train=10.2, tardis_integration_donor_0_train=11.8]"
     ]
    },
    {
     "name": "stdout",
     "output_type": "stream",
     "text": [
      "\r",
      "Epoch 351/600:  58%|█████▊    | 350/600 [23:02<16:24,  3.94s/it, v_num=p2_1, total_loss_train=869, kl_local_train=61.1, tardis_age_0_train=10.2, tardis_integration_donor_0_train=11.8]"
     ]
    },
    {
     "name": "stdout",
     "output_type": "stream",
     "text": [
      "\r",
      "Epoch 351/600:  58%|█████▊    | 351/600 [23:06<16:21,  3.94s/it, v_num=p2_1, total_loss_train=869, kl_local_train=61.1, tardis_age_0_train=10.2, tardis_integration_donor_0_train=11.8]"
     ]
    },
    {
     "name": "stdout",
     "output_type": "stream",
     "text": [
      "\r",
      "Epoch 351/600:  58%|█████▊    | 351/600 [23:06<16:21,  3.94s/it, v_num=p2_1, total_loss_train=869, kl_local_train=60.4, tardis_age_0_train=10.2, tardis_integration_donor_0_train=11.9]"
     ]
    },
    {
     "name": "stdout",
     "output_type": "stream",
     "text": [
      "\r",
      "Epoch 352/600:  58%|█████▊    | 351/600 [23:06<16:21,  3.94s/it, v_num=p2_1, total_loss_train=869, kl_local_train=60.4, tardis_age_0_train=10.2, tardis_integration_donor_0_train=11.9]"
     ]
    },
    {
     "name": "stdout",
     "output_type": "stream",
     "text": [
      "\r",
      "Epoch 352/600:  59%|█████▊    | 352/600 [23:10<16:17,  3.94s/it, v_num=p2_1, total_loss_train=869, kl_local_train=60.4, tardis_age_0_train=10.2, tardis_integration_donor_0_train=11.9]"
     ]
    },
    {
     "name": "stdout",
     "output_type": "stream",
     "text": [
      "\r",
      "Epoch 352/600:  59%|█████▊    | 352/600 [23:10<16:17,  3.94s/it, v_num=p2_1, total_loss_train=869, kl_local_train=61.2, tardis_age_0_train=10.2, tardis_integration_donor_0_train=11.8]"
     ]
    },
    {
     "name": "stdout",
     "output_type": "stream",
     "text": [
      "\r",
      "Epoch 353/600:  59%|█████▊    | 352/600 [23:10<16:17,  3.94s/it, v_num=p2_1, total_loss_train=869, kl_local_train=61.2, tardis_age_0_train=10.2, tardis_integration_donor_0_train=11.8]"
     ]
    },
    {
     "name": "stdout",
     "output_type": "stream",
     "text": [
      "\r",
      "Epoch 353/600:  59%|█████▉    | 353/600 [23:14<16:15,  3.95s/it, v_num=p2_1, total_loss_train=869, kl_local_train=61.2, tardis_age_0_train=10.2, tardis_integration_donor_0_train=11.8]"
     ]
    },
    {
     "name": "stdout",
     "output_type": "stream",
     "text": [
      "\r",
      "Epoch 353/600:  59%|█████▉    | 353/600 [23:14<16:15,  3.95s/it, v_num=p2_1, total_loss_train=869, kl_local_train=61, tardis_age_0_train=10.2, tardis_integration_donor_0_train=11.7]  "
     ]
    },
    {
     "name": "stdout",
     "output_type": "stream",
     "text": [
      "\r",
      "Epoch 354/600:  59%|█████▉    | 353/600 [23:14<16:15,  3.95s/it, v_num=p2_1, total_loss_train=869, kl_local_train=61, tardis_age_0_train=10.2, tardis_integration_donor_0_train=11.7]"
     ]
    },
    {
     "name": "stdout",
     "output_type": "stream",
     "text": [
      "\r",
      "Epoch 354/600:  59%|█████▉    | 354/600 [23:18<16:12,  3.95s/it, v_num=p2_1, total_loss_train=869, kl_local_train=61, tardis_age_0_train=10.2, tardis_integration_donor_0_train=11.7]"
     ]
    },
    {
     "name": "stdout",
     "output_type": "stream",
     "text": [
      "\r",
      "Epoch 354/600:  59%|█████▉    | 354/600 [23:18<16:12,  3.95s/it, v_num=p2_1, total_loss_train=869, kl_local_train=61.2, tardis_age_0_train=10.3, tardis_integration_donor_0_train=11.7]"
     ]
    },
    {
     "name": "stdout",
     "output_type": "stream",
     "text": [
      "\r",
      "Epoch 355/600:  59%|█████▉    | 354/600 [23:18<16:12,  3.95s/it, v_num=p2_1, total_loss_train=869, kl_local_train=61.2, tardis_age_0_train=10.3, tardis_integration_donor_0_train=11.7]"
     ]
    },
    {
     "name": "stdout",
     "output_type": "stream",
     "text": [
      "\r",
      "Epoch 355/600:  59%|█████▉    | 355/600 [23:22<16:08,  3.95s/it, v_num=p2_1, total_loss_train=869, kl_local_train=61.2, tardis_age_0_train=10.3, tardis_integration_donor_0_train=11.7]"
     ]
    },
    {
     "name": "stdout",
     "output_type": "stream",
     "text": [
      "\r",
      "Epoch 355/600:  59%|█████▉    | 355/600 [23:22<16:08,  3.95s/it, v_num=p2_1, total_loss_train=869, kl_local_train=60.4, tardis_age_0_train=10.4, tardis_integration_donor_0_train=12]  "
     ]
    },
    {
     "name": "stdout",
     "output_type": "stream",
     "text": [
      "\r",
      "Epoch 356/600:  59%|█████▉    | 355/600 [23:22<16:08,  3.95s/it, v_num=p2_1, total_loss_train=869, kl_local_train=60.4, tardis_age_0_train=10.4, tardis_integration_donor_0_train=12]"
     ]
    },
    {
     "name": "stdout",
     "output_type": "stream",
     "text": [
      "\r",
      "Epoch 356/600:  59%|█████▉    | 356/600 [23:26<16:07,  3.97s/it, v_num=p2_1, total_loss_train=869, kl_local_train=60.4, tardis_age_0_train=10.4, tardis_integration_donor_0_train=12]"
     ]
    },
    {
     "name": "stdout",
     "output_type": "stream",
     "text": [
      "\r",
      "Epoch 356/600:  59%|█████▉    | 356/600 [23:26<16:07,  3.97s/it, v_num=p2_1, total_loss_train=868, kl_local_train=60.5, tardis_age_0_train=10.3, tardis_integration_donor_0_train=11.8]"
     ]
    },
    {
     "name": "stdout",
     "output_type": "stream",
     "text": [
      "\r",
      "Epoch 357/600:  59%|█████▉    | 356/600 [23:26<16:07,  3.97s/it, v_num=p2_1, total_loss_train=868, kl_local_train=60.5, tardis_age_0_train=10.3, tardis_integration_donor_0_train=11.8]"
     ]
    },
    {
     "name": "stdout",
     "output_type": "stream",
     "text": [
      "\r",
      "Epoch 357/600:  60%|█████▉    | 357/600 [23:30<16:13,  4.01s/it, v_num=p2_1, total_loss_train=868, kl_local_train=60.5, tardis_age_0_train=10.3, tardis_integration_donor_0_train=11.8]"
     ]
    },
    {
     "name": "stdout",
     "output_type": "stream",
     "text": [
      "\r",
      "Epoch 357/600:  60%|█████▉    | 357/600 [23:30<16:13,  4.01s/it, v_num=p2_1, total_loss_train=869, kl_local_train=60.1, tardis_age_0_train=10.3, tardis_integration_donor_0_train=11.9]"
     ]
    },
    {
     "name": "stdout",
     "output_type": "stream",
     "text": [
      "\r",
      "Epoch 358/600:  60%|█████▉    | 357/600 [23:30<16:13,  4.01s/it, v_num=p2_1, total_loss_train=869, kl_local_train=60.1, tardis_age_0_train=10.3, tardis_integration_donor_0_train=11.9]"
     ]
    },
    {
     "name": "stdout",
     "output_type": "stream",
     "text": [
      "\r",
      "Epoch 358/600:  60%|█████▉    | 358/600 [23:34<16:12,  4.02s/it, v_num=p2_1, total_loss_train=869, kl_local_train=60.1, tardis_age_0_train=10.3, tardis_integration_donor_0_train=11.9]"
     ]
    },
    {
     "name": "stdout",
     "output_type": "stream",
     "text": [
      "\r",
      "Epoch 358/600:  60%|█████▉    | 358/600 [23:34<16:12,  4.02s/it, v_num=p2_1, total_loss_train=869, kl_local_train=60.4, tardis_age_0_train=10.3, tardis_integration_donor_0_train=11.7]"
     ]
    },
    {
     "name": "stdout",
     "output_type": "stream",
     "text": [
      "\r",
      "Epoch 359/600:  60%|█████▉    | 358/600 [23:34<16:12,  4.02s/it, v_num=p2_1, total_loss_train=869, kl_local_train=60.4, tardis_age_0_train=10.3, tardis_integration_donor_0_train=11.7]"
     ]
    },
    {
     "name": "stdout",
     "output_type": "stream",
     "text": [
      "\r",
      "Epoch 359/600:  60%|█████▉    | 359/600 [23:38<16:03,  4.00s/it, v_num=p2_1, total_loss_train=869, kl_local_train=60.4, tardis_age_0_train=10.3, tardis_integration_donor_0_train=11.7]"
     ]
    },
    {
     "name": "stdout",
     "output_type": "stream",
     "text": [
      "\r",
      "Epoch 359/600:  60%|█████▉    | 359/600 [23:38<16:03,  4.00s/it, v_num=p2_1, total_loss_train=868, kl_local_train=59.8, tardis_age_0_train=10.3, tardis_integration_donor_0_train=11.9]"
     ]
    },
    {
     "name": "stdout",
     "output_type": "stream",
     "text": [
      "\r",
      "Epoch 360/600:  60%|█████▉    | 359/600 [23:38<16:03,  4.00s/it, v_num=p2_1, total_loss_train=868, kl_local_train=59.8, tardis_age_0_train=10.3, tardis_integration_donor_0_train=11.9]"
     ]
    },
    {
     "name": "stdout",
     "output_type": "stream",
     "text": [
      "\r",
      "Epoch 360/600:  60%|██████    | 360/600 [23:42<15:56,  3.98s/it, v_num=p2_1, total_loss_train=868, kl_local_train=59.8, tardis_age_0_train=10.3, tardis_integration_donor_0_train=11.9]"
     ]
    },
    {
     "name": "stdout",
     "output_type": "stream",
     "text": [
      "\r",
      "Epoch 360/600:  60%|██████    | 360/600 [23:42<15:56,  3.98s/it, v_num=p2_1, total_loss_train=868, kl_local_train=60.6, tardis_age_0_train=10.3, tardis_integration_donor_0_train=11.8]"
     ]
    },
    {
     "name": "stdout",
     "output_type": "stream",
     "text": [
      "\r",
      "Epoch 361/600:  60%|██████    | 360/600 [23:42<15:56,  3.98s/it, v_num=p2_1, total_loss_train=868, kl_local_train=60.6, tardis_age_0_train=10.3, tardis_integration_donor_0_train=11.8]"
     ]
    },
    {
     "name": "stdout",
     "output_type": "stream",
     "text": [
      "\r",
      "Epoch 361/600:  60%|██████    | 361/600 [23:46<15:49,  3.97s/it, v_num=p2_1, total_loss_train=868, kl_local_train=60.6, tardis_age_0_train=10.3, tardis_integration_donor_0_train=11.8]"
     ]
    },
    {
     "name": "stdout",
     "output_type": "stream",
     "text": [
      "\r",
      "Epoch 361/600:  60%|██████    | 361/600 [23:46<15:49,  3.97s/it, v_num=p2_1, total_loss_train=868, kl_local_train=59.9, tardis_age_0_train=10.5, tardis_integration_donor_0_train=12]  "
     ]
    },
    {
     "name": "stdout",
     "output_type": "stream",
     "text": [
      "\r",
      "Epoch 362/600:  60%|██████    | 361/600 [23:46<15:49,  3.97s/it, v_num=p2_1, total_loss_train=868, kl_local_train=59.9, tardis_age_0_train=10.5, tardis_integration_donor_0_train=12]"
     ]
    },
    {
     "name": "stdout",
     "output_type": "stream",
     "text": [
      "\r",
      "Epoch 362/600:  60%|██████    | 362/600 [23:50<15:45,  3.97s/it, v_num=p2_1, total_loss_train=868, kl_local_train=59.9, tardis_age_0_train=10.5, tardis_integration_donor_0_train=12]"
     ]
    },
    {
     "name": "stdout",
     "output_type": "stream",
     "text": [
      "\r",
      "Epoch 362/600:  60%|██████    | 362/600 [23:50<15:45,  3.97s/it, v_num=p2_1, total_loss_train=868, kl_local_train=60.2, tardis_age_0_train=10.4, tardis_integration_donor_0_train=12]"
     ]
    },
    {
     "name": "stdout",
     "output_type": "stream",
     "text": [
      "\r",
      "Epoch 363/600:  60%|██████    | 362/600 [23:50<15:45,  3.97s/it, v_num=p2_1, total_loss_train=868, kl_local_train=60.2, tardis_age_0_train=10.4, tardis_integration_donor_0_train=12]"
     ]
    },
    {
     "name": "stdout",
     "output_type": "stream",
     "text": [
      "\r",
      "Epoch 363/600:  60%|██████    | 363/600 [23:54<15:39,  3.96s/it, v_num=p2_1, total_loss_train=868, kl_local_train=60.2, tardis_age_0_train=10.4, tardis_integration_donor_0_train=12]"
     ]
    },
    {
     "name": "stdout",
     "output_type": "stream",
     "text": [
      "\r",
      "Epoch 363/600:  60%|██████    | 363/600 [23:54<15:39,  3.96s/it, v_num=p2_1, total_loss_train=868, kl_local_train=60.4, tardis_age_0_train=10.4, tardis_integration_donor_0_train=12]"
     ]
    },
    {
     "name": "stdout",
     "output_type": "stream",
     "text": [
      "\r",
      "Epoch 364/600:  60%|██████    | 363/600 [23:54<15:39,  3.96s/it, v_num=p2_1, total_loss_train=868, kl_local_train=60.4, tardis_age_0_train=10.4, tardis_integration_donor_0_train=12]"
     ]
    },
    {
     "name": "stdout",
     "output_type": "stream",
     "text": [
      "\r",
      "Epoch 364/600:  61%|██████    | 364/600 [23:58<15:31,  3.95s/it, v_num=p2_1, total_loss_train=868, kl_local_train=60.4, tardis_age_0_train=10.4, tardis_integration_donor_0_train=12]"
     ]
    },
    {
     "name": "stdout",
     "output_type": "stream",
     "text": [
      "\r",
      "Epoch 364/600:  61%|██████    | 364/600 [23:58<15:31,  3.95s/it, v_num=p2_1, total_loss_train=867, kl_local_train=60, tardis_age_0_train=10.5, tardis_integration_donor_0_train=11.8]"
     ]
    },
    {
     "name": "stdout",
     "output_type": "stream",
     "text": [
      "\r",
      "Epoch 365/600:  61%|██████    | 364/600 [23:58<15:31,  3.95s/it, v_num=p2_1, total_loss_train=867, kl_local_train=60, tardis_age_0_train=10.5, tardis_integration_donor_0_train=11.8]"
     ]
    },
    {
     "name": "stdout",
     "output_type": "stream",
     "text": [
      "\r",
      "Epoch 365/600:  61%|██████    | 365/600 [24:02<15:28,  3.95s/it, v_num=p2_1, total_loss_train=867, kl_local_train=60, tardis_age_0_train=10.5, tardis_integration_donor_0_train=11.8]"
     ]
    },
    {
     "name": "stdout",
     "output_type": "stream",
     "text": [
      "\r",
      "Epoch 365/600:  61%|██████    | 365/600 [24:02<15:28,  3.95s/it, v_num=p2_1, total_loss_train=868, kl_local_train=59.9, tardis_age_0_train=10.4, tardis_integration_donor_0_train=12]"
     ]
    },
    {
     "name": "stdout",
     "output_type": "stream",
     "text": [
      "\r",
      "Epoch 366/600:  61%|██████    | 365/600 [24:02<15:28,  3.95s/it, v_num=p2_1, total_loss_train=868, kl_local_train=59.9, tardis_age_0_train=10.4, tardis_integration_donor_0_train=12]"
     ]
    },
    {
     "name": "stdout",
     "output_type": "stream",
     "text": [
      "\r",
      "Epoch 366/600:  61%|██████    | 366/600 [24:05<15:24,  3.95s/it, v_num=p2_1, total_loss_train=868, kl_local_train=59.9, tardis_age_0_train=10.4, tardis_integration_donor_0_train=12]"
     ]
    },
    {
     "name": "stdout",
     "output_type": "stream",
     "text": [
      "\r",
      "Epoch 366/600:  61%|██████    | 366/600 [24:05<15:24,  3.95s/it, v_num=p2_1, total_loss_train=868, kl_local_train=59.9, tardis_age_0_train=10.4, tardis_integration_donor_0_train=11.9]"
     ]
    },
    {
     "name": "stdout",
     "output_type": "stream",
     "text": [
      "\r",
      "Epoch 367/600:  61%|██████    | 366/600 [24:05<15:24,  3.95s/it, v_num=p2_1, total_loss_train=868, kl_local_train=59.9, tardis_age_0_train=10.4, tardis_integration_donor_0_train=11.9]"
     ]
    },
    {
     "name": "stdout",
     "output_type": "stream",
     "text": [
      "\r",
      "Epoch 367/600:  61%|██████    | 367/600 [24:09<15:19,  3.95s/it, v_num=p2_1, total_loss_train=868, kl_local_train=59.9, tardis_age_0_train=10.4, tardis_integration_donor_0_train=11.9]"
     ]
    },
    {
     "name": "stdout",
     "output_type": "stream",
     "text": [
      "\r",
      "Epoch 367/600:  61%|██████    | 367/600 [24:09<15:19,  3.95s/it, v_num=p2_1, total_loss_train=867, kl_local_train=59.9, tardis_age_0_train=10.4, tardis_integration_donor_0_train=11.9]"
     ]
    },
    {
     "name": "stdout",
     "output_type": "stream",
     "text": [
      "\r",
      "Epoch 368/600:  61%|██████    | 367/600 [24:09<15:19,  3.95s/it, v_num=p2_1, total_loss_train=867, kl_local_train=59.9, tardis_age_0_train=10.4, tardis_integration_donor_0_train=11.9]"
     ]
    },
    {
     "name": "stdout",
     "output_type": "stream",
     "text": [
      "\r",
      "Epoch 368/600:  61%|██████▏   | 368/600 [24:13<15:15,  3.95s/it, v_num=p2_1, total_loss_train=867, kl_local_train=59.9, tardis_age_0_train=10.4, tardis_integration_donor_0_train=11.9]"
     ]
    },
    {
     "name": "stdout",
     "output_type": "stream",
     "text": [
      "\r",
      "Epoch 368/600:  61%|██████▏   | 368/600 [24:13<15:15,  3.95s/it, v_num=p2_1, total_loss_train=867, kl_local_train=60.2, tardis_age_0_train=10.5, tardis_integration_donor_0_train=12]  "
     ]
    },
    {
     "name": "stdout",
     "output_type": "stream",
     "text": [
      "\r",
      "Epoch 369/600:  61%|██████▏   | 368/600 [24:13<15:15,  3.95s/it, v_num=p2_1, total_loss_train=867, kl_local_train=60.2, tardis_age_0_train=10.5, tardis_integration_donor_0_train=12]"
     ]
    },
    {
     "name": "stdout",
     "output_type": "stream",
     "text": [
      "\r",
      "Epoch 369/600:  62%|██████▏   | 369/600 [24:17<15:15,  3.96s/it, v_num=p2_1, total_loss_train=867, kl_local_train=60.2, tardis_age_0_train=10.5, tardis_integration_donor_0_train=12]"
     ]
    },
    {
     "name": "stdout",
     "output_type": "stream",
     "text": [
      "\r",
      "Epoch 369/600:  62%|██████▏   | 369/600 [24:17<15:15,  3.96s/it, v_num=p2_1, total_loss_train=867, kl_local_train=60, tardis_age_0_train=10.4, tardis_integration_donor_0_train=11.9]"
     ]
    },
    {
     "name": "stdout",
     "output_type": "stream",
     "text": [
      "\r",
      "Epoch 370/600:  62%|██████▏   | 369/600 [24:17<15:15,  3.96s/it, v_num=p2_1, total_loss_train=867, kl_local_train=60, tardis_age_0_train=10.4, tardis_integration_donor_0_train=11.9]"
     ]
    },
    {
     "name": "stdout",
     "output_type": "stream",
     "text": [
      "\r",
      "Epoch 370/600:  62%|██████▏   | 370/600 [24:21<15:08,  3.95s/it, v_num=p2_1, total_loss_train=867, kl_local_train=60, tardis_age_0_train=10.4, tardis_integration_donor_0_train=11.9]"
     ]
    },
    {
     "name": "stdout",
     "output_type": "stream",
     "text": [
      "\r",
      "Epoch 370/600:  62%|██████▏   | 370/600 [24:21<15:08,  3.95s/it, v_num=p2_1, total_loss_train=867, kl_local_train=59.4, tardis_age_0_train=10.7, tardis_integration_donor_0_train=12.1]"
     ]
    },
    {
     "name": "stdout",
     "output_type": "stream",
     "text": [
      "\r",
      "Epoch 371/600:  62%|██████▏   | 370/600 [24:21<15:08,  3.95s/it, v_num=p2_1, total_loss_train=867, kl_local_train=59.4, tardis_age_0_train=10.7, tardis_integration_donor_0_train=12.1]"
     ]
    },
    {
     "name": "stdout",
     "output_type": "stream",
     "text": [
      "\r",
      "Epoch 371/600:  62%|██████▏   | 371/600 [24:25<15:04,  3.95s/it, v_num=p2_1, total_loss_train=867, kl_local_train=59.4, tardis_age_0_train=10.7, tardis_integration_donor_0_train=12.1]"
     ]
    },
    {
     "name": "stdout",
     "output_type": "stream",
     "text": [
      "\r",
      "Epoch 371/600:  62%|██████▏   | 371/600 [24:25<15:04,  3.95s/it, v_num=p2_1, total_loss_train=866, kl_local_train=59.4, tardis_age_0_train=10.6, tardis_integration_donor_0_train=12.1]"
     ]
    },
    {
     "name": "stdout",
     "output_type": "stream",
     "text": [
      "\r",
      "Epoch 372/600:  62%|██████▏   | 371/600 [24:25<15:04,  3.95s/it, v_num=p2_1, total_loss_train=866, kl_local_train=59.4, tardis_age_0_train=10.6, tardis_integration_donor_0_train=12.1]"
     ]
    },
    {
     "name": "stdout",
     "output_type": "stream",
     "text": [
      "\r",
      "Epoch 372/600:  62%|██████▏   | 372/600 [24:29<15:00,  3.95s/it, v_num=p2_1, total_loss_train=866, kl_local_train=59.4, tardis_age_0_train=10.6, tardis_integration_donor_0_train=12.1]"
     ]
    },
    {
     "name": "stdout",
     "output_type": "stream",
     "text": [
      "\r",
      "Epoch 372/600:  62%|██████▏   | 372/600 [24:29<15:00,  3.95s/it, v_num=p2_1, total_loss_train=867, kl_local_train=59.1, tardis_age_0_train=10.6, tardis_integration_donor_0_train=12.2]"
     ]
    },
    {
     "name": "stdout",
     "output_type": "stream",
     "text": [
      "\r",
      "Epoch 373/600:  62%|██████▏   | 372/600 [24:29<15:00,  3.95s/it, v_num=p2_1, total_loss_train=867, kl_local_train=59.1, tardis_age_0_train=10.6, tardis_integration_donor_0_train=12.2]"
     ]
    },
    {
     "name": "stdout",
     "output_type": "stream",
     "text": [
      "\r",
      "Epoch 373/600:  62%|██████▏   | 373/600 [24:33<14:57,  3.96s/it, v_num=p2_1, total_loss_train=867, kl_local_train=59.1, tardis_age_0_train=10.6, tardis_integration_donor_0_train=12.2]"
     ]
    },
    {
     "name": "stdout",
     "output_type": "stream",
     "text": [
      "\r",
      "Epoch 373/600:  62%|██████▏   | 373/600 [24:33<14:57,  3.96s/it, v_num=p2_1, total_loss_train=867, kl_local_train=59.1, tardis_age_0_train=10.5, tardis_integration_donor_0_train=12.1]"
     ]
    },
    {
     "name": "stdout",
     "output_type": "stream",
     "text": [
      "\r",
      "Epoch 374/600:  62%|██████▏   | 373/600 [24:33<14:57,  3.96s/it, v_num=p2_1, total_loss_train=867, kl_local_train=59.1, tardis_age_0_train=10.5, tardis_integration_donor_0_train=12.1]"
     ]
    },
    {
     "name": "stdout",
     "output_type": "stream",
     "text": [
      "\r",
      "Epoch 374/600:  62%|██████▏   | 374/600 [24:37<14:54,  3.96s/it, v_num=p2_1, total_loss_train=867, kl_local_train=59.1, tardis_age_0_train=10.5, tardis_integration_donor_0_train=12.1]"
     ]
    },
    {
     "name": "stdout",
     "output_type": "stream",
     "text": [
      "\r",
      "Epoch 374/600:  62%|██████▏   | 374/600 [24:37<14:54,  3.96s/it, v_num=p2_1, total_loss_train=866, kl_local_train=59.2, tardis_age_0_train=10.7, tardis_integration_donor_0_train=12.3]"
     ]
    },
    {
     "name": "stdout",
     "output_type": "stream",
     "text": [
      "\r",
      "Epoch 375/600:  62%|██████▏   | 374/600 [24:37<14:54,  3.96s/it, v_num=p2_1, total_loss_train=866, kl_local_train=59.2, tardis_age_0_train=10.7, tardis_integration_donor_0_train=12.3]"
     ]
    },
    {
     "name": "stdout",
     "output_type": "stream",
     "text": [
      "\r",
      "Epoch 375/600:  62%|██████▎   | 375/600 [24:41<14:49,  3.95s/it, v_num=p2_1, total_loss_train=866, kl_local_train=59.2, tardis_age_0_train=10.7, tardis_integration_donor_0_train=12.3]"
     ]
    },
    {
     "name": "stdout",
     "output_type": "stream",
     "text": [
      "\r",
      "Epoch 375/600:  62%|██████▎   | 375/600 [24:41<14:49,  3.95s/it, v_num=p2_1, total_loss_train=866, kl_local_train=59.2, tardis_age_0_train=10.6, tardis_integration_donor_0_train=12.1]"
     ]
    },
    {
     "name": "stdout",
     "output_type": "stream",
     "text": [
      "\r",
      "Epoch 376/600:  62%|██████▎   | 375/600 [24:41<14:49,  3.95s/it, v_num=p2_1, total_loss_train=866, kl_local_train=59.2, tardis_age_0_train=10.6, tardis_integration_donor_0_train=12.1]"
     ]
    },
    {
     "name": "stdout",
     "output_type": "stream",
     "text": [
      "\r",
      "Epoch 376/600:  63%|██████▎   | 376/600 [24:45<14:43,  3.95s/it, v_num=p2_1, total_loss_train=866, kl_local_train=59.2, tardis_age_0_train=10.6, tardis_integration_donor_0_train=12.1]"
     ]
    },
    {
     "name": "stdout",
     "output_type": "stream",
     "text": [
      "\r",
      "Epoch 376/600:  63%|██████▎   | 376/600 [24:45<14:43,  3.95s/it, v_num=p2_1, total_loss_train=866, kl_local_train=59, tardis_age_0_train=10.7, tardis_integration_donor_0_train=12.3]  "
     ]
    },
    {
     "name": "stdout",
     "output_type": "stream",
     "text": [
      "\r",
      "Epoch 377/600:  63%|██████▎   | 376/600 [24:45<14:43,  3.95s/it, v_num=p2_1, total_loss_train=866, kl_local_train=59, tardis_age_0_train=10.7, tardis_integration_donor_0_train=12.3]"
     ]
    },
    {
     "name": "stdout",
     "output_type": "stream",
     "text": [
      "\r",
      "Epoch 377/600:  63%|██████▎   | 377/600 [24:49<14:39,  3.94s/it, v_num=p2_1, total_loss_train=866, kl_local_train=59, tardis_age_0_train=10.7, tardis_integration_donor_0_train=12.3]"
     ]
    },
    {
     "name": "stdout",
     "output_type": "stream",
     "text": [
      "\r",
      "Epoch 377/600:  63%|██████▎   | 377/600 [24:49<14:39,  3.94s/it, v_num=p2_1, total_loss_train=866, kl_local_train=58.8, tardis_age_0_train=10.6, tardis_integration_donor_0_train=12.1]"
     ]
    },
    {
     "name": "stdout",
     "output_type": "stream",
     "text": [
      "\r",
      "Epoch 378/600:  63%|██████▎   | 377/600 [24:49<14:39,  3.94s/it, v_num=p2_1, total_loss_train=866, kl_local_train=58.8, tardis_age_0_train=10.6, tardis_integration_donor_0_train=12.1]"
     ]
    },
    {
     "name": "stdout",
     "output_type": "stream",
     "text": [
      "\r",
      "Epoch 378/600:  63%|██████▎   | 378/600 [24:53<14:39,  3.96s/it, v_num=p2_1, total_loss_train=866, kl_local_train=58.8, tardis_age_0_train=10.6, tardis_integration_donor_0_train=12.1]"
     ]
    },
    {
     "name": "stdout",
     "output_type": "stream",
     "text": [
      "\r",
      "Epoch 378/600:  63%|██████▎   | 378/600 [24:53<14:39,  3.96s/it, v_num=p2_1, total_loss_train=866, kl_local_train=58.2, tardis_age_0_train=10.7, tardis_integration_donor_0_train=12.3]"
     ]
    },
    {
     "name": "stdout",
     "output_type": "stream",
     "text": [
      "\r",
      "Epoch 379/600:  63%|██████▎   | 378/600 [24:53<14:39,  3.96s/it, v_num=p2_1, total_loss_train=866, kl_local_train=58.2, tardis_age_0_train=10.7, tardis_integration_donor_0_train=12.3]"
     ]
    },
    {
     "name": "stdout",
     "output_type": "stream",
     "text": [
      "\r",
      "Epoch 379/600:  63%|██████▎   | 379/600 [24:57<14:34,  3.96s/it, v_num=p2_1, total_loss_train=866, kl_local_train=58.2, tardis_age_0_train=10.7, tardis_integration_donor_0_train=12.3]"
     ]
    },
    {
     "name": "stdout",
     "output_type": "stream",
     "text": [
      "\r",
      "Epoch 379/600:  63%|██████▎   | 379/600 [24:57<14:34,  3.96s/it, v_num=p2_1, total_loss_train=865, kl_local_train=58.9, tardis_age_0_train=10.7, tardis_integration_donor_0_train=12.2]"
     ]
    },
    {
     "name": "stdout",
     "output_type": "stream",
     "text": [
      "\r",
      "Epoch 380/600:  63%|██████▎   | 379/600 [24:57<14:34,  3.96s/it, v_num=p2_1, total_loss_train=865, kl_local_train=58.9, tardis_age_0_train=10.7, tardis_integration_donor_0_train=12.2]"
     ]
    },
    {
     "name": "stdout",
     "output_type": "stream",
     "text": [
      "\r",
      "Epoch 380/600:  63%|██████▎   | 380/600 [25:01<14:29,  3.95s/it, v_num=p2_1, total_loss_train=865, kl_local_train=58.9, tardis_age_0_train=10.7, tardis_integration_donor_0_train=12.2]"
     ]
    },
    {
     "name": "stdout",
     "output_type": "stream",
     "text": [
      "\r",
      "Epoch 380/600:  63%|██████▎   | 380/600 [25:01<14:29,  3.95s/it, v_num=p2_1, total_loss_train=865, kl_local_train=58.5, tardis_age_0_train=10.7, tardis_integration_donor_0_train=12.2]"
     ]
    },
    {
     "name": "stdout",
     "output_type": "stream",
     "text": [
      "\r",
      "Epoch 381/600:  63%|██████▎   | 380/600 [25:01<14:29,  3.95s/it, v_num=p2_1, total_loss_train=865, kl_local_train=58.5, tardis_age_0_train=10.7, tardis_integration_donor_0_train=12.2]"
     ]
    },
    {
     "name": "stdout",
     "output_type": "stream",
     "text": [
      "\r",
      "Epoch 381/600:  64%|██████▎   | 381/600 [25:05<14:24,  3.95s/it, v_num=p2_1, total_loss_train=865, kl_local_train=58.5, tardis_age_0_train=10.7, tardis_integration_donor_0_train=12.2]"
     ]
    },
    {
     "name": "stdout",
     "output_type": "stream",
     "text": [
      "\r",
      "Epoch 381/600:  64%|██████▎   | 381/600 [25:05<14:24,  3.95s/it, v_num=p2_1, total_loss_train=865, kl_local_train=58.2, tardis_age_0_train=10.9, tardis_integration_donor_0_train=12.4]"
     ]
    },
    {
     "name": "stdout",
     "output_type": "stream",
     "text": [
      "\r",
      "Epoch 382/600:  64%|██████▎   | 381/600 [25:05<14:24,  3.95s/it, v_num=p2_1, total_loss_train=865, kl_local_train=58.2, tardis_age_0_train=10.9, tardis_integration_donor_0_train=12.4]"
     ]
    },
    {
     "name": "stdout",
     "output_type": "stream",
     "text": [
      "\r",
      "Epoch 382/600:  64%|██████▎   | 382/600 [25:09<14:20,  3.95s/it, v_num=p2_1, total_loss_train=865, kl_local_train=58.2, tardis_age_0_train=10.9, tardis_integration_donor_0_train=12.4]"
     ]
    },
    {
     "name": "stdout",
     "output_type": "stream",
     "text": [
      "\r",
      "Epoch 382/600:  64%|██████▎   | 382/600 [25:09<14:20,  3.95s/it, v_num=p2_1, total_loss_train=865, kl_local_train=58.7, tardis_age_0_train=10.7, tardis_integration_donor_0_train=12.2]"
     ]
    },
    {
     "name": "stdout",
     "output_type": "stream",
     "text": [
      "\r",
      "Epoch 383/600:  64%|██████▎   | 382/600 [25:09<14:20,  3.95s/it, v_num=p2_1, total_loss_train=865, kl_local_train=58.7, tardis_age_0_train=10.7, tardis_integration_donor_0_train=12.2]"
     ]
    },
    {
     "name": "stdout",
     "output_type": "stream",
     "text": [
      "\r",
      "Epoch 383/600:  64%|██████▍   | 383/600 [25:13<14:17,  3.95s/it, v_num=p2_1, total_loss_train=865, kl_local_train=58.7, tardis_age_0_train=10.7, tardis_integration_donor_0_train=12.2]"
     ]
    },
    {
     "name": "stdout",
     "output_type": "stream",
     "text": [
      "\r",
      "Epoch 383/600:  64%|██████▍   | 383/600 [25:13<14:17,  3.95s/it, v_num=p2_1, total_loss_train=865, kl_local_train=58.8, tardis_age_0_train=10.7, tardis_integration_donor_0_train=12.2]"
     ]
    },
    {
     "name": "stdout",
     "output_type": "stream",
     "text": [
      "\r",
      "Epoch 384/600:  64%|██████▍   | 383/600 [25:13<14:17,  3.95s/it, v_num=p2_1, total_loss_train=865, kl_local_train=58.8, tardis_age_0_train=10.7, tardis_integration_donor_0_train=12.2]"
     ]
    },
    {
     "name": "stdout",
     "output_type": "stream",
     "text": [
      "\r",
      "Epoch 384/600:  64%|██████▍   | 384/600 [25:17<14:13,  3.95s/it, v_num=p2_1, total_loss_train=865, kl_local_train=58.8, tardis_age_0_train=10.7, tardis_integration_donor_0_train=12.2]"
     ]
    },
    {
     "name": "stdout",
     "output_type": "stream",
     "text": [
      "\r",
      "Epoch 384/600:  64%|██████▍   | 384/600 [25:17<14:13,  3.95s/it, v_num=p2_1, total_loss_train=865, kl_local_train=58.6, tardis_age_0_train=10.7, tardis_integration_donor_0_train=12.5]"
     ]
    },
    {
     "name": "stdout",
     "output_type": "stream",
     "text": [
      "\r",
      "Epoch 385/600:  64%|██████▍   | 384/600 [25:17<14:13,  3.95s/it, v_num=p2_1, total_loss_train=865, kl_local_train=58.6, tardis_age_0_train=10.7, tardis_integration_donor_0_train=12.5]"
     ]
    },
    {
     "name": "stdout",
     "output_type": "stream",
     "text": [
      "\r",
      "Epoch 385/600:  64%|██████▍   | 385/600 [25:21<14:08,  3.95s/it, v_num=p2_1, total_loss_train=865, kl_local_train=58.6, tardis_age_0_train=10.7, tardis_integration_donor_0_train=12.5]"
     ]
    },
    {
     "name": "stdout",
     "output_type": "stream",
     "text": [
      "\r",
      "Epoch 385/600:  64%|██████▍   | 385/600 [25:21<14:08,  3.95s/it, v_num=p2_1, total_loss_train=865, kl_local_train=58.6, tardis_age_0_train=10.9, tardis_integration_donor_0_train=12.3]"
     ]
    },
    {
     "name": "stdout",
     "output_type": "stream",
     "text": [
      "\r",
      "Epoch 386/600:  64%|██████▍   | 385/600 [25:21<14:08,  3.95s/it, v_num=p2_1, total_loss_train=865, kl_local_train=58.6, tardis_age_0_train=10.9, tardis_integration_donor_0_train=12.3]"
     ]
    },
    {
     "name": "stdout",
     "output_type": "stream",
     "text": [
      "\r",
      "Epoch 386/600:  64%|██████▍   | 386/600 [25:24<14:04,  3.95s/it, v_num=p2_1, total_loss_train=865, kl_local_train=58.6, tardis_age_0_train=10.9, tardis_integration_donor_0_train=12.3]"
     ]
    },
    {
     "name": "stdout",
     "output_type": "stream",
     "text": [
      "\r",
      "Epoch 386/600:  64%|██████▍   | 386/600 [25:24<14:04,  3.95s/it, v_num=p2_1, total_loss_train=865, kl_local_train=59.4, tardis_age_0_train=10.7, tardis_integration_donor_0_train=12.2]"
     ]
    },
    {
     "name": "stdout",
     "output_type": "stream",
     "text": [
      "\r",
      "Epoch 387/600:  64%|██████▍   | 386/600 [25:24<14:04,  3.95s/it, v_num=p2_1, total_loss_train=865, kl_local_train=59.4, tardis_age_0_train=10.7, tardis_integration_donor_0_train=12.2]"
     ]
    },
    {
     "name": "stdout",
     "output_type": "stream",
     "text": [
      "\r",
      "Epoch 387/600:  64%|██████▍   | 387/600 [25:28<13:58,  3.94s/it, v_num=p2_1, total_loss_train=865, kl_local_train=59.4, tardis_age_0_train=10.7, tardis_integration_donor_0_train=12.2]"
     ]
    },
    {
     "name": "stdout",
     "output_type": "stream",
     "text": [
      "\r",
      "Epoch 387/600:  64%|██████▍   | 387/600 [25:28<13:58,  3.94s/it, v_num=p2_1, total_loss_train=865, kl_local_train=58.6, tardis_age_0_train=10.8, tardis_integration_donor_0_train=12.2]"
     ]
    },
    {
     "name": "stdout",
     "output_type": "stream",
     "text": [
      "\r",
      "Epoch 388/600:  64%|██████▍   | 387/600 [25:28<13:58,  3.94s/it, v_num=p2_1, total_loss_train=865, kl_local_train=58.6, tardis_age_0_train=10.8, tardis_integration_donor_0_train=12.2]"
     ]
    },
    {
     "name": "stdout",
     "output_type": "stream",
     "text": [
      "\r",
      "Epoch 388/600:  65%|██████▍   | 388/600 [25:32<13:56,  3.95s/it, v_num=p2_1, total_loss_train=865, kl_local_train=58.6, tardis_age_0_train=10.8, tardis_integration_donor_0_train=12.2]"
     ]
    },
    {
     "name": "stdout",
     "output_type": "stream",
     "text": [
      "\r",
      "Epoch 388/600:  65%|██████▍   | 388/600 [25:32<13:56,  3.95s/it, v_num=p2_1, total_loss_train=865, kl_local_train=58.7, tardis_age_0_train=10.8, tardis_integration_donor_0_train=12.2]"
     ]
    },
    {
     "name": "stdout",
     "output_type": "stream",
     "text": [
      "\r",
      "Epoch 389/600:  65%|██████▍   | 388/600 [25:32<13:56,  3.95s/it, v_num=p2_1, total_loss_train=865, kl_local_train=58.7, tardis_age_0_train=10.8, tardis_integration_donor_0_train=12.2]"
     ]
    },
    {
     "name": "stdout",
     "output_type": "stream",
     "text": [
      "\r",
      "Epoch 389/600:  65%|██████▍   | 389/600 [25:36<13:51,  3.94s/it, v_num=p2_1, total_loss_train=865, kl_local_train=58.7, tardis_age_0_train=10.8, tardis_integration_donor_0_train=12.2]"
     ]
    },
    {
     "name": "stdout",
     "output_type": "stream",
     "text": [
      "\r",
      "Epoch 389/600:  65%|██████▍   | 389/600 [25:36<13:51,  3.94s/it, v_num=p2_1, total_loss_train=864, kl_local_train=58.5, tardis_age_0_train=10.6, tardis_integration_donor_0_train=12.2]"
     ]
    },
    {
     "name": "stdout",
     "output_type": "stream",
     "text": [
      "\r",
      "Epoch 390/600:  65%|██████▍   | 389/600 [25:36<13:51,  3.94s/it, v_num=p2_1, total_loss_train=864, kl_local_train=58.5, tardis_age_0_train=10.6, tardis_integration_donor_0_train=12.2]"
     ]
    },
    {
     "name": "stdout",
     "output_type": "stream",
     "text": [
      "\r",
      "Epoch 390/600:  65%|██████▌   | 390/600 [25:40<13:48,  3.94s/it, v_num=p2_1, total_loss_train=864, kl_local_train=58.5, tardis_age_0_train=10.6, tardis_integration_donor_0_train=12.2]"
     ]
    },
    {
     "name": "stdout",
     "output_type": "stream",
     "text": [
      "\r",
      "Epoch 390/600:  65%|██████▌   | 390/600 [25:40<13:48,  3.94s/it, v_num=p2_1, total_loss_train=864, kl_local_train=57.9, tardis_age_0_train=10.8, tardis_integration_donor_0_train=12.5]"
     ]
    },
    {
     "name": "stdout",
     "output_type": "stream",
     "text": [
      "\r",
      "Epoch 391/600:  65%|██████▌   | 390/600 [25:40<13:48,  3.94s/it, v_num=p2_1, total_loss_train=864, kl_local_train=57.9, tardis_age_0_train=10.8, tardis_integration_donor_0_train=12.5]"
     ]
    },
    {
     "name": "stdout",
     "output_type": "stream",
     "text": [
      "\r",
      "Epoch 391/600:  65%|██████▌   | 391/600 [25:44<13:45,  3.95s/it, v_num=p2_1, total_loss_train=864, kl_local_train=57.9, tardis_age_0_train=10.8, tardis_integration_donor_0_train=12.5]"
     ]
    },
    {
     "name": "stdout",
     "output_type": "stream",
     "text": [
      "\r",
      "Epoch 391/600:  65%|██████▌   | 391/600 [25:44<13:45,  3.95s/it, v_num=p2_1, total_loss_train=864, kl_local_train=58.2, tardis_age_0_train=10.9, tardis_integration_donor_0_train=12.4]"
     ]
    },
    {
     "name": "stdout",
     "output_type": "stream",
     "text": [
      "\r",
      "Epoch 392/600:  65%|██████▌   | 391/600 [25:44<13:45,  3.95s/it, v_num=p2_1, total_loss_train=864, kl_local_train=58.2, tardis_age_0_train=10.9, tardis_integration_donor_0_train=12.4]"
     ]
    },
    {
     "name": "stdout",
     "output_type": "stream",
     "text": [
      "\r",
      "Epoch 392/600:  65%|██████▌   | 392/600 [25:48<13:41,  3.95s/it, v_num=p2_1, total_loss_train=864, kl_local_train=58.2, tardis_age_0_train=10.9, tardis_integration_donor_0_train=12.4]"
     ]
    },
    {
     "name": "stdout",
     "output_type": "stream",
     "text": [
      "\r",
      "Epoch 392/600:  65%|██████▌   | 392/600 [25:48<13:41,  3.95s/it, v_num=p2_1, total_loss_train=864, kl_local_train=58.4, tardis_age_0_train=10.8, tardis_integration_donor_0_train=12.3]"
     ]
    },
    {
     "name": "stdout",
     "output_type": "stream",
     "text": [
      "\r",
      "Epoch 393/600:  65%|██████▌   | 392/600 [25:48<13:41,  3.95s/it, v_num=p2_1, total_loss_train=864, kl_local_train=58.4, tardis_age_0_train=10.8, tardis_integration_donor_0_train=12.3]"
     ]
    },
    {
     "name": "stdout",
     "output_type": "stream",
     "text": [
      "\r",
      "Epoch 393/600:  66%|██████▌   | 393/600 [25:52<13:35,  3.94s/it, v_num=p2_1, total_loss_train=864, kl_local_train=58.4, tardis_age_0_train=10.8, tardis_integration_donor_0_train=12.3]"
     ]
    },
    {
     "name": "stdout",
     "output_type": "stream",
     "text": [
      "\r",
      "Epoch 393/600:  66%|██████▌   | 393/600 [25:52<13:35,  3.94s/it, v_num=p2_1, total_loss_train=864, kl_local_train=58.5, tardis_age_0_train=10.7, tardis_integration_donor_0_train=12.3]"
     ]
    },
    {
     "name": "stdout",
     "output_type": "stream",
     "text": [
      "\r",
      "Epoch 394/600:  66%|██████▌   | 393/600 [25:52<13:35,  3.94s/it, v_num=p2_1, total_loss_train=864, kl_local_train=58.5, tardis_age_0_train=10.7, tardis_integration_donor_0_train=12.3]"
     ]
    },
    {
     "name": "stdout",
     "output_type": "stream",
     "text": [
      "\r",
      "Epoch 394/600:  66%|██████▌   | 394/600 [25:56<13:31,  3.94s/it, v_num=p2_1, total_loss_train=864, kl_local_train=58.5, tardis_age_0_train=10.7, tardis_integration_donor_0_train=12.3]"
     ]
    },
    {
     "name": "stdout",
     "output_type": "stream",
     "text": [
      "\r",
      "Epoch 394/600:  66%|██████▌   | 394/600 [25:56<13:31,  3.94s/it, v_num=p2_1, total_loss_train=864, kl_local_train=57.7, tardis_age_0_train=10.8, tardis_integration_donor_0_train=12.5]"
     ]
    },
    {
     "name": "stdout",
     "output_type": "stream",
     "text": [
      "\r",
      "Epoch 395/600:  66%|██████▌   | 394/600 [25:56<13:31,  3.94s/it, v_num=p2_1, total_loss_train=864, kl_local_train=57.7, tardis_age_0_train=10.8, tardis_integration_donor_0_train=12.5]"
     ]
    },
    {
     "name": "stdout",
     "output_type": "stream",
     "text": [
      "\r",
      "Epoch 395/600:  66%|██████▌   | 395/600 [26:00<13:27,  3.94s/it, v_num=p2_1, total_loss_train=864, kl_local_train=57.7, tardis_age_0_train=10.8, tardis_integration_donor_0_train=12.5]"
     ]
    },
    {
     "name": "stdout",
     "output_type": "stream",
     "text": [
      "\r",
      "Epoch 395/600:  66%|██████▌   | 395/600 [26:00<13:27,  3.94s/it, v_num=p2_1, total_loss_train=863, kl_local_train=57.6, tardis_age_0_train=10.8, tardis_integration_donor_0_train=12.3]"
     ]
    },
    {
     "name": "stdout",
     "output_type": "stream",
     "text": [
      "\r",
      "Epoch 396/600:  66%|██████▌   | 395/600 [26:00<13:27,  3.94s/it, v_num=p2_1, total_loss_train=863, kl_local_train=57.6, tardis_age_0_train=10.8, tardis_integration_donor_0_train=12.3]"
     ]
    },
    {
     "name": "stdout",
     "output_type": "stream",
     "text": [
      "\r",
      "Epoch 396/600:  66%|██████▌   | 396/600 [26:04<13:23,  3.94s/it, v_num=p2_1, total_loss_train=863, kl_local_train=57.6, tardis_age_0_train=10.8, tardis_integration_donor_0_train=12.3]"
     ]
    },
    {
     "name": "stdout",
     "output_type": "stream",
     "text": [
      "\r",
      "Epoch 396/600:  66%|██████▌   | 396/600 [26:04<13:23,  3.94s/it, v_num=p2_1, total_loss_train=863, kl_local_train=57.6, tardis_age_0_train=10.8, tardis_integration_donor_0_train=12.4]"
     ]
    },
    {
     "name": "stdout",
     "output_type": "stream",
     "text": [
      "\r",
      "Epoch 397/600:  66%|██████▌   | 396/600 [26:04<13:23,  3.94s/it, v_num=p2_1, total_loss_train=863, kl_local_train=57.6, tardis_age_0_train=10.8, tardis_integration_donor_0_train=12.4]"
     ]
    },
    {
     "name": "stdout",
     "output_type": "stream",
     "text": [
      "\r",
      "Epoch 397/600:  66%|██████▌   | 397/600 [26:08<13:19,  3.94s/it, v_num=p2_1, total_loss_train=863, kl_local_train=57.6, tardis_age_0_train=10.8, tardis_integration_donor_0_train=12.4]"
     ]
    },
    {
     "name": "stdout",
     "output_type": "stream",
     "text": [
      "\r",
      "Epoch 397/600:  66%|██████▌   | 397/600 [26:08<13:19,  3.94s/it, v_num=p2_1, total_loss_train=863, kl_local_train=57.5, tardis_age_0_train=10.7, tardis_integration_donor_0_train=12.6]"
     ]
    },
    {
     "name": "stdout",
     "output_type": "stream",
     "text": [
      "\r",
      "Epoch 398/600:  66%|██████▌   | 397/600 [26:08<13:19,  3.94s/it, v_num=p2_1, total_loss_train=863, kl_local_train=57.5, tardis_age_0_train=10.7, tardis_integration_donor_0_train=12.6]"
     ]
    },
    {
     "name": "stdout",
     "output_type": "stream",
     "text": [
      "\r",
      "Epoch 398/600:  66%|██████▋   | 398/600 [26:12<13:13,  3.93s/it, v_num=p2_1, total_loss_train=863, kl_local_train=57.5, tardis_age_0_train=10.7, tardis_integration_donor_0_train=12.6]"
     ]
    },
    {
     "name": "stdout",
     "output_type": "stream",
     "text": [
      "\r",
      "Epoch 398/600:  66%|██████▋   | 398/600 [26:12<13:13,  3.93s/it, v_num=p2_1, total_loss_train=863, kl_local_train=57.7, tardis_age_0_train=11, tardis_integration_donor_0_train=12.4]  "
     ]
    },
    {
     "name": "stdout",
     "output_type": "stream",
     "text": [
      "\r",
      "Epoch 399/600:  66%|██████▋   | 398/600 [26:12<13:13,  3.93s/it, v_num=p2_1, total_loss_train=863, kl_local_train=57.7, tardis_age_0_train=11, tardis_integration_donor_0_train=12.4]"
     ]
    },
    {
     "name": "stdout",
     "output_type": "stream",
     "text": [
      "\r",
      "Epoch 399/600:  66%|██████▋   | 399/600 [26:16<13:11,  3.94s/it, v_num=p2_1, total_loss_train=863, kl_local_train=57.7, tardis_age_0_train=11, tardis_integration_donor_0_train=12.4]"
     ]
    },
    {
     "name": "stdout",
     "output_type": "stream",
     "text": [
      "\r",
      "Epoch 399/600:  66%|██████▋   | 399/600 [26:16<13:11,  3.94s/it, v_num=p2_1, total_loss_train=863, kl_local_train=57.4, tardis_age_0_train=10.9, tardis_integration_donor_0_train=12.5]"
     ]
    },
    {
     "name": "stdout",
     "output_type": "stream",
     "text": [
      "\r",
      "Epoch 400/600:  66%|██████▋   | 399/600 [26:16<13:11,  3.94s/it, v_num=p2_1, total_loss_train=863, kl_local_train=57.4, tardis_age_0_train=10.9, tardis_integration_donor_0_train=12.5]"
     ]
    },
    {
     "name": "stdout",
     "output_type": "stream",
     "text": [
      "\r",
      "Epoch 400/600:  67%|██████▋   | 400/600 [26:20<13:08,  3.94s/it, v_num=p2_1, total_loss_train=863, kl_local_train=57.4, tardis_age_0_train=10.9, tardis_integration_donor_0_train=12.5]"
     ]
    },
    {
     "name": "stdout",
     "output_type": "stream",
     "text": [
      "\r",
      "Epoch 400/600:  67%|██████▋   | 400/600 [26:20<13:08,  3.94s/it, v_num=p2_1, total_loss_train=862, kl_local_train=57.1, tardis_age_0_train=10.9, tardis_integration_donor_0_train=12.4]"
     ]
    },
    {
     "name": "stdout",
     "output_type": "stream",
     "text": [
      "\r",
      "Epoch 401/600:  67%|██████▋   | 400/600 [26:20<13:08,  3.94s/it, v_num=p2_1, total_loss_train=862, kl_local_train=57.1, tardis_age_0_train=10.9, tardis_integration_donor_0_train=12.4]"
     ]
    },
    {
     "name": "stdout",
     "output_type": "stream",
     "text": [
      "\r",
      "Epoch 401/600:  67%|██████▋   | 401/600 [26:24<13:05,  3.95s/it, v_num=p2_1, total_loss_train=862, kl_local_train=57.1, tardis_age_0_train=10.9, tardis_integration_donor_0_train=12.4]"
     ]
    },
    {
     "name": "stdout",
     "output_type": "stream",
     "text": [
      "\r",
      "Epoch 401/600:  67%|██████▋   | 401/600 [26:24<13:05,  3.95s/it, v_num=p2_1, total_loss_train=863, kl_local_train=56.9, tardis_age_0_train=11.1, tardis_integration_donor_0_train=12.6]"
     ]
    },
    {
     "name": "stdout",
     "output_type": "stream",
     "text": [
      "\r",
      "Epoch 402/600:  67%|██████▋   | 401/600 [26:24<13:05,  3.95s/it, v_num=p2_1, total_loss_train=863, kl_local_train=56.9, tardis_age_0_train=11.1, tardis_integration_donor_0_train=12.6]"
     ]
    },
    {
     "name": "stdout",
     "output_type": "stream",
     "text": [
      "\r",
      "Epoch 402/600:  67%|██████▋   | 402/600 [26:28<13:00,  3.94s/it, v_num=p2_1, total_loss_train=863, kl_local_train=56.9, tardis_age_0_train=11.1, tardis_integration_donor_0_train=12.6]"
     ]
    },
    {
     "name": "stdout",
     "output_type": "stream",
     "text": [
      "\r",
      "Epoch 402/600:  67%|██████▋   | 402/600 [26:28<13:00,  3.94s/it, v_num=p2_1, total_loss_train=863, kl_local_train=57.4, tardis_age_0_train=10.9, tardis_integration_donor_0_train=12.5]"
     ]
    },
    {
     "name": "stdout",
     "output_type": "stream",
     "text": [
      "\r",
      "Epoch 403/600:  67%|██████▋   | 402/600 [26:28<13:00,  3.94s/it, v_num=p2_1, total_loss_train=863, kl_local_train=57.4, tardis_age_0_train=10.9, tardis_integration_donor_0_train=12.5]"
     ]
    },
    {
     "name": "stdout",
     "output_type": "stream",
     "text": [
      "\r",
      "Epoch 403/600:  67%|██████▋   | 403/600 [26:31<12:56,  3.94s/it, v_num=p2_1, total_loss_train=863, kl_local_train=57.4, tardis_age_0_train=10.9, tardis_integration_donor_0_train=12.5]"
     ]
    },
    {
     "name": "stdout",
     "output_type": "stream",
     "text": [
      "\r",
      "Epoch 403/600:  67%|██████▋   | 403/600 [26:31<12:56,  3.94s/it, v_num=p2_1, total_loss_train=862, kl_local_train=57.2, tardis_age_0_train=11, tardis_integration_donor_0_train=12.6]  "
     ]
    },
    {
     "name": "stdout",
     "output_type": "stream",
     "text": [
      "\r",
      "Epoch 404/600:  67%|██████▋   | 403/600 [26:31<12:56,  3.94s/it, v_num=p2_1, total_loss_train=862, kl_local_train=57.2, tardis_age_0_train=11, tardis_integration_donor_0_train=12.6]"
     ]
    },
    {
     "name": "stdout",
     "output_type": "stream",
     "text": [
      "\r",
      "Epoch 404/600:  67%|██████▋   | 404/600 [26:35<12:51,  3.94s/it, v_num=p2_1, total_loss_train=862, kl_local_train=57.2, tardis_age_0_train=11, tardis_integration_donor_0_train=12.6]"
     ]
    },
    {
     "name": "stdout",
     "output_type": "stream",
     "text": [
      "\r",
      "Epoch 404/600:  67%|██████▋   | 404/600 [26:35<12:51,  3.94s/it, v_num=p2_1, total_loss_train=862, kl_local_train=57.1, tardis_age_0_train=11, tardis_integration_donor_0_train=12.4]"
     ]
    },
    {
     "name": "stdout",
     "output_type": "stream",
     "text": [
      "\r",
      "Epoch 405/600:  67%|██████▋   | 404/600 [26:35<12:51,  3.94s/it, v_num=p2_1, total_loss_train=862, kl_local_train=57.1, tardis_age_0_train=11, tardis_integration_donor_0_train=12.4]"
     ]
    },
    {
     "name": "stdout",
     "output_type": "stream",
     "text": [
      "\r",
      "Epoch 405/600:  68%|██████▊   | 405/600 [26:39<12:47,  3.94s/it, v_num=p2_1, total_loss_train=862, kl_local_train=57.1, tardis_age_0_train=11, tardis_integration_donor_0_train=12.4]"
     ]
    },
    {
     "name": "stdout",
     "output_type": "stream",
     "text": [
      "\r",
      "Epoch 405/600:  68%|██████▊   | 405/600 [26:39<12:47,  3.94s/it, v_num=p2_1, total_loss_train=862, kl_local_train=57.3, tardis_age_0_train=11, tardis_integration_donor_0_train=12.6]"
     ]
    },
    {
     "name": "stdout",
     "output_type": "stream",
     "text": [
      "\r",
      "Epoch 406/600:  68%|██████▊   | 405/600 [26:39<12:47,  3.94s/it, v_num=p2_1, total_loss_train=862, kl_local_train=57.3, tardis_age_0_train=11, tardis_integration_donor_0_train=12.6]"
     ]
    },
    {
     "name": "stdout",
     "output_type": "stream",
     "text": [
      "\r",
      "Epoch 406/600:  68%|██████▊   | 406/600 [26:43<12:45,  3.94s/it, v_num=p2_1, total_loss_train=862, kl_local_train=57.3, tardis_age_0_train=11, tardis_integration_donor_0_train=12.6]"
     ]
    },
    {
     "name": "stdout",
     "output_type": "stream",
     "text": [
      "\r",
      "Epoch 406/600:  68%|██████▊   | 406/600 [26:43<12:45,  3.94s/it, v_num=p2_1, total_loss_train=862, kl_local_train=57.3, tardis_age_0_train=10.9, tardis_integration_donor_0_train=12.6]"
     ]
    },
    {
     "name": "stdout",
     "output_type": "stream",
     "text": [
      "\r",
      "Epoch 407/600:  68%|██████▊   | 406/600 [26:43<12:45,  3.94s/it, v_num=p2_1, total_loss_train=862, kl_local_train=57.3, tardis_age_0_train=10.9, tardis_integration_donor_0_train=12.6]"
     ]
    },
    {
     "name": "stdout",
     "output_type": "stream",
     "text": [
      "\r",
      "Epoch 407/600:  68%|██████▊   | 407/600 [26:47<12:39,  3.94s/it, v_num=p2_1, total_loss_train=862, kl_local_train=57.3, tardis_age_0_train=10.9, tardis_integration_donor_0_train=12.6]"
     ]
    },
    {
     "name": "stdout",
     "output_type": "stream",
     "text": [
      "\r",
      "Epoch 407/600:  68%|██████▊   | 407/600 [26:47<12:39,  3.94s/it, v_num=p2_1, total_loss_train=862, kl_local_train=57.1, tardis_age_0_train=11.1, tardis_integration_donor_0_train=12.7]"
     ]
    },
    {
     "name": "stdout",
     "output_type": "stream",
     "text": [
      "\r",
      "Epoch 408/600:  68%|██████▊   | 407/600 [26:47<12:39,  3.94s/it, v_num=p2_1, total_loss_train=862, kl_local_train=57.1, tardis_age_0_train=11.1, tardis_integration_donor_0_train=12.7]"
     ]
    },
    {
     "name": "stdout",
     "output_type": "stream",
     "text": [
      "\r",
      "Epoch 408/600:  68%|██████▊   | 408/600 [26:51<12:35,  3.94s/it, v_num=p2_1, total_loss_train=862, kl_local_train=57.1, tardis_age_0_train=11.1, tardis_integration_donor_0_train=12.7]"
     ]
    },
    {
     "name": "stdout",
     "output_type": "stream",
     "text": [
      "\r",
      "Epoch 408/600:  68%|██████▊   | 408/600 [26:51<12:35,  3.94s/it, v_num=p2_1, total_loss_train=862, kl_local_train=56.9, tardis_age_0_train=11, tardis_integration_donor_0_train=12.7]  "
     ]
    },
    {
     "name": "stdout",
     "output_type": "stream",
     "text": [
      "\r",
      "Epoch 409/600:  68%|██████▊   | 408/600 [26:51<12:35,  3.94s/it, v_num=p2_1, total_loss_train=862, kl_local_train=56.9, tardis_age_0_train=11, tardis_integration_donor_0_train=12.7]"
     ]
    },
    {
     "name": "stdout",
     "output_type": "stream",
     "text": [
      "\r",
      "Epoch 409/600:  68%|██████▊   | 409/600 [26:55<12:30,  3.93s/it, v_num=p2_1, total_loss_train=862, kl_local_train=56.9, tardis_age_0_train=11, tardis_integration_donor_0_train=12.7]"
     ]
    },
    {
     "name": "stdout",
     "output_type": "stream",
     "text": [
      "\r",
      "Epoch 409/600:  68%|██████▊   | 409/600 [26:55<12:30,  3.93s/it, v_num=p2_1, total_loss_train=863, kl_local_train=57.2, tardis_age_0_train=10.9, tardis_integration_donor_0_train=12.8]"
     ]
    },
    {
     "name": "stdout",
     "output_type": "stream",
     "text": [
      "\r",
      "Epoch 410/600:  68%|██████▊   | 409/600 [26:55<12:30,  3.93s/it, v_num=p2_1, total_loss_train=863, kl_local_train=57.2, tardis_age_0_train=10.9, tardis_integration_donor_0_train=12.8]"
     ]
    },
    {
     "name": "stdout",
     "output_type": "stream",
     "text": [
      "\r",
      "Epoch 410/600:  68%|██████▊   | 410/600 [26:59<12:28,  3.94s/it, v_num=p2_1, total_loss_train=863, kl_local_train=57.2, tardis_age_0_train=10.9, tardis_integration_donor_0_train=12.8]"
     ]
    },
    {
     "name": "stdout",
     "output_type": "stream",
     "text": [
      "\r",
      "Epoch 410/600:  68%|██████▊   | 410/600 [26:59<12:28,  3.94s/it, v_num=p2_1, total_loss_train=862, kl_local_train=56.8, tardis_age_0_train=11, tardis_integration_donor_0_train=12.6]  "
     ]
    },
    {
     "name": "stdout",
     "output_type": "stream",
     "text": [
      "\r",
      "Epoch 411/600:  68%|██████▊   | 410/600 [26:59<12:28,  3.94s/it, v_num=p2_1, total_loss_train=862, kl_local_train=56.8, tardis_age_0_train=11, tardis_integration_donor_0_train=12.6]"
     ]
    },
    {
     "name": "stdout",
     "output_type": "stream",
     "text": [
      "\r",
      "Epoch 411/600:  68%|██████▊   | 411/600 [27:03<12:25,  3.94s/it, v_num=p2_1, total_loss_train=862, kl_local_train=56.8, tardis_age_0_train=11, tardis_integration_donor_0_train=12.6]"
     ]
    },
    {
     "name": "stdout",
     "output_type": "stream",
     "text": [
      "\r",
      "Epoch 411/600:  68%|██████▊   | 411/600 [27:03<12:25,  3.94s/it, v_num=p2_1, total_loss_train=862, kl_local_train=57, tardis_age_0_train=11.1, tardis_integration_donor_0_train=12.7]"
     ]
    },
    {
     "name": "stdout",
     "output_type": "stream",
     "text": [
      "\r",
      "Epoch 412/600:  68%|██████▊   | 411/600 [27:03<12:25,  3.94s/it, v_num=p2_1, total_loss_train=862, kl_local_train=57, tardis_age_0_train=11.1, tardis_integration_donor_0_train=12.7]"
     ]
    },
    {
     "name": "stdout",
     "output_type": "stream",
     "text": [
      "\r",
      "Epoch 412/600:  69%|██████▊   | 412/600 [27:07<12:21,  3.95s/it, v_num=p2_1, total_loss_train=862, kl_local_train=57, tardis_age_0_train=11.1, tardis_integration_donor_0_train=12.7]"
     ]
    },
    {
     "name": "stdout",
     "output_type": "stream",
     "text": [
      "\r",
      "Epoch 412/600:  69%|██████▊   | 412/600 [27:07<12:21,  3.95s/it, v_num=p2_1, total_loss_train=862, kl_local_train=57, tardis_age_0_train=11, tardis_integration_donor_0_train=12.7]  "
     ]
    },
    {
     "name": "stdout",
     "output_type": "stream",
     "text": [
      "\r",
      "Epoch 413/600:  69%|██████▊   | 412/600 [27:07<12:21,  3.95s/it, v_num=p2_1, total_loss_train=862, kl_local_train=57, tardis_age_0_train=11, tardis_integration_donor_0_train=12.7]"
     ]
    },
    {
     "name": "stdout",
     "output_type": "stream",
     "text": [
      "\r",
      "Epoch 413/600:  69%|██████▉   | 413/600 [27:11<12:14,  3.93s/it, v_num=p2_1, total_loss_train=862, kl_local_train=57, tardis_age_0_train=11, tardis_integration_donor_0_train=12.7]"
     ]
    },
    {
     "name": "stdout",
     "output_type": "stream",
     "text": [
      "\r",
      "Epoch 413/600:  69%|██████▉   | 413/600 [27:11<12:14,  3.93s/it, v_num=p2_1, total_loss_train=861, kl_local_train=56.4, tardis_age_0_train=11.1, tardis_integration_donor_0_train=12.8]"
     ]
    },
    {
     "name": "stdout",
     "output_type": "stream",
     "text": [
      "\r",
      "Epoch 414/600:  69%|██████▉   | 413/600 [27:11<12:14,  3.93s/it, v_num=p2_1, total_loss_train=861, kl_local_train=56.4, tardis_age_0_train=11.1, tardis_integration_donor_0_train=12.8]"
     ]
    },
    {
     "name": "stdout",
     "output_type": "stream",
     "text": [
      "\r",
      "Epoch 414/600:  69%|██████▉   | 414/600 [27:15<12:10,  3.93s/it, v_num=p2_1, total_loss_train=861, kl_local_train=56.4, tardis_age_0_train=11.1, tardis_integration_donor_0_train=12.8]"
     ]
    },
    {
     "name": "stdout",
     "output_type": "stream",
     "text": [
      "\r",
      "Epoch 414/600:  69%|██████▉   | 414/600 [27:15<12:10,  3.93s/it, v_num=p2_1, total_loss_train=861, kl_local_train=56.4, tardis_age_0_train=11.1, tardis_integration_donor_0_train=12.8]"
     ]
    },
    {
     "name": "stdout",
     "output_type": "stream",
     "text": [
      "\r",
      "Epoch 415/600:  69%|██████▉   | 414/600 [27:15<12:10,  3.93s/it, v_num=p2_1, total_loss_train=861, kl_local_train=56.4, tardis_age_0_train=11.1, tardis_integration_donor_0_train=12.8]"
     ]
    },
    {
     "name": "stdout",
     "output_type": "stream",
     "text": [
      "\r",
      "Epoch 415/600:  69%|██████▉   | 415/600 [27:19<12:09,  3.94s/it, v_num=p2_1, total_loss_train=861, kl_local_train=56.4, tardis_age_0_train=11.1, tardis_integration_donor_0_train=12.8]"
     ]
    },
    {
     "name": "stdout",
     "output_type": "stream",
     "text": [
      "\r",
      "Epoch 415/600:  69%|██████▉   | 415/600 [27:19<12:09,  3.94s/it, v_num=p2_1, total_loss_train=861, kl_local_train=56.4, tardis_age_0_train=11.1, tardis_integration_donor_0_train=12.7]"
     ]
    },
    {
     "name": "stdout",
     "output_type": "stream",
     "text": [
      "\r",
      "Epoch 416/600:  69%|██████▉   | 415/600 [27:19<12:09,  3.94s/it, v_num=p2_1, total_loss_train=861, kl_local_train=56.4, tardis_age_0_train=11.1, tardis_integration_donor_0_train=12.7]"
     ]
    },
    {
     "name": "stdout",
     "output_type": "stream",
     "text": [
      "\r",
      "Epoch 416/600:  69%|██████▉   | 416/600 [27:23<12:08,  3.96s/it, v_num=p2_1, total_loss_train=861, kl_local_train=56.4, tardis_age_0_train=11.1, tardis_integration_donor_0_train=12.7]"
     ]
    },
    {
     "name": "stdout",
     "output_type": "stream",
     "text": [
      "\r",
      "Epoch 416/600:  69%|██████▉   | 416/600 [27:23<12:08,  3.96s/it, v_num=p2_1, total_loss_train=861, kl_local_train=56.4, tardis_age_0_train=10.9, tardis_integration_donor_0_train=12.7]"
     ]
    },
    {
     "name": "stdout",
     "output_type": "stream",
     "text": [
      "\r",
      "Epoch 417/600:  69%|██████▉   | 416/600 [27:23<12:08,  3.96s/it, v_num=p2_1, total_loss_train=861, kl_local_train=56.4, tardis_age_0_train=10.9, tardis_integration_donor_0_train=12.7]"
     ]
    },
    {
     "name": "stdout",
     "output_type": "stream",
     "text": [
      "\r",
      "Epoch 417/600:  70%|██████▉   | 417/600 [27:27<12:03,  3.95s/it, v_num=p2_1, total_loss_train=861, kl_local_train=56.4, tardis_age_0_train=10.9, tardis_integration_donor_0_train=12.7]"
     ]
    },
    {
     "name": "stdout",
     "output_type": "stream",
     "text": [
      "\r",
      "Epoch 417/600:  70%|██████▉   | 417/600 [27:27<12:03,  3.95s/it, v_num=p2_1, total_loss_train=860, kl_local_train=57, tardis_age_0_train=10.9, tardis_integration_donor_0_train=12.7]  "
     ]
    },
    {
     "name": "stdout",
     "output_type": "stream",
     "text": [
      "\r",
      "Epoch 418/600:  70%|██████▉   | 417/600 [27:27<12:03,  3.95s/it, v_num=p2_1, total_loss_train=860, kl_local_train=57, tardis_age_0_train=10.9, tardis_integration_donor_0_train=12.7]"
     ]
    },
    {
     "name": "stdout",
     "output_type": "stream",
     "text": [
      "\r",
      "Epoch 418/600:  70%|██████▉   | 418/600 [27:31<12:00,  3.96s/it, v_num=p2_1, total_loss_train=860, kl_local_train=57, tardis_age_0_train=10.9, tardis_integration_donor_0_train=12.7]"
     ]
    },
    {
     "name": "stdout",
     "output_type": "stream",
     "text": [
      "\r",
      "Epoch 418/600:  70%|██████▉   | 418/600 [27:31<12:00,  3.96s/it, v_num=p2_1, total_loss_train=861, kl_local_train=56.6, tardis_age_0_train=11.1, tardis_integration_donor_0_train=12.8]"
     ]
    },
    {
     "name": "stdout",
     "output_type": "stream",
     "text": [
      "\r",
      "Epoch 419/600:  70%|██████▉   | 418/600 [27:31<12:00,  3.96s/it, v_num=p2_1, total_loss_train=861, kl_local_train=56.6, tardis_age_0_train=11.1, tardis_integration_donor_0_train=12.8]"
     ]
    },
    {
     "name": "stdout",
     "output_type": "stream",
     "text": [
      "\r",
      "Epoch 419/600:  70%|██████▉   | 419/600 [27:35<11:55,  3.95s/it, v_num=p2_1, total_loss_train=861, kl_local_train=56.6, tardis_age_0_train=11.1, tardis_integration_donor_0_train=12.8]"
     ]
    },
    {
     "name": "stdout",
     "output_type": "stream",
     "text": [
      "\r",
      "Epoch 419/600:  70%|██████▉   | 419/600 [27:35<11:55,  3.95s/it, v_num=p2_1, total_loss_train=861, kl_local_train=56.7, tardis_age_0_train=11, tardis_integration_donor_0_train=12.6]  "
     ]
    },
    {
     "name": "stdout",
     "output_type": "stream",
     "text": [
      "\r",
      "Epoch 420/600:  70%|██████▉   | 419/600 [27:35<11:55,  3.95s/it, v_num=p2_1, total_loss_train=861, kl_local_train=56.7, tardis_age_0_train=11, tardis_integration_donor_0_train=12.6]"
     ]
    },
    {
     "name": "stdout",
     "output_type": "stream",
     "text": [
      "\r",
      "Epoch 420/600:  70%|███████   | 420/600 [27:38<11:50,  3.95s/it, v_num=p2_1, total_loss_train=861, kl_local_train=56.7, tardis_age_0_train=11, tardis_integration_donor_0_train=12.6]"
     ]
    },
    {
     "name": "stdout",
     "output_type": "stream",
     "text": [
      "\r",
      "Epoch 420/600:  70%|███████   | 420/600 [27:38<11:50,  3.95s/it, v_num=p2_1, total_loss_train=860, kl_local_train=56.3, tardis_age_0_train=11.2, tardis_integration_donor_0_train=12.6]"
     ]
    },
    {
     "name": "stdout",
     "output_type": "stream",
     "text": [
      "\r",
      "Epoch 421/600:  70%|███████   | 420/600 [27:38<11:50,  3.95s/it, v_num=p2_1, total_loss_train=860, kl_local_train=56.3, tardis_age_0_train=11.2, tardis_integration_donor_0_train=12.6]"
     ]
    },
    {
     "name": "stdout",
     "output_type": "stream",
     "text": [
      "\r",
      "Epoch 421/600:  70%|███████   | 421/600 [27:42<11:46,  3.94s/it, v_num=p2_1, total_loss_train=860, kl_local_train=56.3, tardis_age_0_train=11.2, tardis_integration_donor_0_train=12.6]"
     ]
    },
    {
     "name": "stdout",
     "output_type": "stream",
     "text": [
      "\r",
      "Epoch 421/600:  70%|███████   | 421/600 [27:42<11:46,  3.94s/it, v_num=p2_1, total_loss_train=860, kl_local_train=56.1, tardis_age_0_train=11.2, tardis_integration_donor_0_train=12.7]"
     ]
    },
    {
     "name": "stdout",
     "output_type": "stream",
     "text": [
      "\r",
      "Epoch 422/600:  70%|███████   | 421/600 [27:42<11:46,  3.94s/it, v_num=p2_1, total_loss_train=860, kl_local_train=56.1, tardis_age_0_train=11.2, tardis_integration_donor_0_train=12.7]"
     ]
    },
    {
     "name": "stdout",
     "output_type": "stream",
     "text": [
      "\r",
      "Epoch 422/600:  70%|███████   | 422/600 [27:46<11:43,  3.95s/it, v_num=p2_1, total_loss_train=860, kl_local_train=56.1, tardis_age_0_train=11.2, tardis_integration_donor_0_train=12.7]"
     ]
    },
    {
     "name": "stdout",
     "output_type": "stream",
     "text": [
      "\r",
      "Epoch 422/600:  70%|███████   | 422/600 [27:46<11:43,  3.95s/it, v_num=p2_1, total_loss_train=860, kl_local_train=55.8, tardis_age_0_train=11.2, tardis_integration_donor_0_train=12.9]"
     ]
    },
    {
     "name": "stdout",
     "output_type": "stream",
     "text": [
      "\r",
      "Epoch 423/600:  70%|███████   | 422/600 [27:46<11:43,  3.95s/it, v_num=p2_1, total_loss_train=860, kl_local_train=55.8, tardis_age_0_train=11.2, tardis_integration_donor_0_train=12.9]"
     ]
    },
    {
     "name": "stdout",
     "output_type": "stream",
     "text": [
      "\r",
      "Epoch 423/600:  70%|███████   | 423/600 [27:50<11:40,  3.96s/it, v_num=p2_1, total_loss_train=860, kl_local_train=55.8, tardis_age_0_train=11.2, tardis_integration_donor_0_train=12.9]"
     ]
    },
    {
     "name": "stdout",
     "output_type": "stream",
     "text": [
      "\r",
      "Epoch 423/600:  70%|███████   | 423/600 [27:50<11:40,  3.96s/it, v_num=p2_1, total_loss_train=860, kl_local_train=55.8, tardis_age_0_train=11.1, tardis_integration_donor_0_train=12.9]"
     ]
    },
    {
     "name": "stdout",
     "output_type": "stream",
     "text": [
      "\r",
      "Epoch 424/600:  70%|███████   | 423/600 [27:50<11:40,  3.96s/it, v_num=p2_1, total_loss_train=860, kl_local_train=55.8, tardis_age_0_train=11.1, tardis_integration_donor_0_train=12.9]"
     ]
    },
    {
     "name": "stdout",
     "output_type": "stream",
     "text": [
      "\r",
      "Epoch 424/600:  71%|███████   | 424/600 [27:54<11:38,  3.97s/it, v_num=p2_1, total_loss_train=860, kl_local_train=55.8, tardis_age_0_train=11.1, tardis_integration_donor_0_train=12.9]"
     ]
    },
    {
     "name": "stdout",
     "output_type": "stream",
     "text": [
      "\r",
      "Epoch 424/600:  71%|███████   | 424/600 [27:54<11:38,  3.97s/it, v_num=p2_1, total_loss_train=859, kl_local_train=56.4, tardis_age_0_train=11, tardis_integration_donor_0_train=12.7]  "
     ]
    },
    {
     "name": "stdout",
     "output_type": "stream",
     "text": [
      "\r",
      "Epoch 425/600:  71%|███████   | 424/600 [27:54<11:38,  3.97s/it, v_num=p2_1, total_loss_train=859, kl_local_train=56.4, tardis_age_0_train=11, tardis_integration_donor_0_train=12.7]"
     ]
    },
    {
     "name": "stdout",
     "output_type": "stream",
     "text": [
      "\r",
      "Epoch 425/600:  71%|███████   | 425/600 [27:58<11:32,  3.96s/it, v_num=p2_1, total_loss_train=859, kl_local_train=56.4, tardis_age_0_train=11, tardis_integration_donor_0_train=12.7]"
     ]
    },
    {
     "name": "stdout",
     "output_type": "stream",
     "text": [
      "\r",
      "Epoch 425/600:  71%|███████   | 425/600 [27:58<11:32,  3.96s/it, v_num=p2_1, total_loss_train=859, kl_local_train=55.5, tardis_age_0_train=11.2, tardis_integration_donor_0_train=12.9]"
     ]
    },
    {
     "name": "stdout",
     "output_type": "stream",
     "text": [
      "\r",
      "Epoch 426/600:  71%|███████   | 425/600 [27:58<11:32,  3.96s/it, v_num=p2_1, total_loss_train=859, kl_local_train=55.5, tardis_age_0_train=11.2, tardis_integration_donor_0_train=12.9]"
     ]
    },
    {
     "name": "stdout",
     "output_type": "stream",
     "text": [
      "\r",
      "Epoch 426/600:  71%|███████   | 426/600 [28:02<11:28,  3.95s/it, v_num=p2_1, total_loss_train=859, kl_local_train=55.5, tardis_age_0_train=11.2, tardis_integration_donor_0_train=12.9]"
     ]
    },
    {
     "name": "stdout",
     "output_type": "stream",
     "text": [
      "\r",
      "Epoch 426/600:  71%|███████   | 426/600 [28:02<11:28,  3.95s/it, v_num=p2_1, total_loss_train=859, kl_local_train=55.6, tardis_age_0_train=11.2, tardis_integration_donor_0_train=12.7]"
     ]
    },
    {
     "name": "stdout",
     "output_type": "stream",
     "text": [
      "\r",
      "Epoch 427/600:  71%|███████   | 426/600 [28:02<11:28,  3.95s/it, v_num=p2_1, total_loss_train=859, kl_local_train=55.6, tardis_age_0_train=11.2, tardis_integration_donor_0_train=12.7]"
     ]
    },
    {
     "name": "stdout",
     "output_type": "stream",
     "text": [
      "\r",
      "Epoch 427/600:  71%|███████   | 427/600 [28:06<11:22,  3.95s/it, v_num=p2_1, total_loss_train=859, kl_local_train=55.6, tardis_age_0_train=11.2, tardis_integration_donor_0_train=12.7]"
     ]
    },
    {
     "name": "stdout",
     "output_type": "stream",
     "text": [
      "\r",
      "Epoch 427/600:  71%|███████   | 427/600 [28:06<11:22,  3.95s/it, v_num=p2_1, total_loss_train=860, kl_local_train=55.7, tardis_age_0_train=11.3, tardis_integration_donor_0_train=12.9]"
     ]
    },
    {
     "name": "stdout",
     "output_type": "stream",
     "text": [
      "\r",
      "Epoch 428/600:  71%|███████   | 427/600 [28:06<11:22,  3.95s/it, v_num=p2_1, total_loss_train=860, kl_local_train=55.7, tardis_age_0_train=11.3, tardis_integration_donor_0_train=12.9]"
     ]
    },
    {
     "name": "stdout",
     "output_type": "stream",
     "text": [
      "\r",
      "Epoch 428/600:  71%|███████▏  | 428/600 [28:10<11:18,  3.94s/it, v_num=p2_1, total_loss_train=860, kl_local_train=55.7, tardis_age_0_train=11.3, tardis_integration_donor_0_train=12.9]"
     ]
    },
    {
     "name": "stdout",
     "output_type": "stream",
     "text": [
      "\r",
      "Epoch 428/600:  71%|███████▏  | 428/600 [28:10<11:18,  3.94s/it, v_num=p2_1, total_loss_train=859, kl_local_train=55.8, tardis_age_0_train=11.3, tardis_integration_donor_0_train=12.8]"
     ]
    },
    {
     "name": "stdout",
     "output_type": "stream",
     "text": [
      "\r",
      "Epoch 429/600:  71%|███████▏  | 428/600 [28:10<11:18,  3.94s/it, v_num=p2_1, total_loss_train=859, kl_local_train=55.8, tardis_age_0_train=11.3, tardis_integration_donor_0_train=12.8]"
     ]
    },
    {
     "name": "stdout",
     "output_type": "stream",
     "text": [
      "\r",
      "Epoch 429/600:  72%|███████▏  | 429/600 [28:14<11:14,  3.95s/it, v_num=p2_1, total_loss_train=859, kl_local_train=55.8, tardis_age_0_train=11.3, tardis_integration_donor_0_train=12.8]"
     ]
    },
    {
     "name": "stdout",
     "output_type": "stream",
     "text": [
      "\r",
      "Epoch 429/600:  72%|███████▏  | 429/600 [28:14<11:14,  3.95s/it, v_num=p2_1, total_loss_train=860, kl_local_train=55.4, tardis_age_0_train=11.4, tardis_integration_donor_0_train=13.1]"
     ]
    },
    {
     "name": "stdout",
     "output_type": "stream",
     "text": [
      "\r",
      "Epoch 430/600:  72%|███████▏  | 429/600 [28:14<11:14,  3.95s/it, v_num=p2_1, total_loss_train=860, kl_local_train=55.4, tardis_age_0_train=11.4, tardis_integration_donor_0_train=13.1]"
     ]
    },
    {
     "name": "stdout",
     "output_type": "stream",
     "text": [
      "\r",
      "Epoch 430/600:  72%|███████▏  | 430/600 [28:18<11:11,  3.95s/it, v_num=p2_1, total_loss_train=860, kl_local_train=55.4, tardis_age_0_train=11.4, tardis_integration_donor_0_train=13.1]"
     ]
    },
    {
     "name": "stdout",
     "output_type": "stream",
     "text": [
      "\r",
      "Epoch 430/600:  72%|███████▏  | 430/600 [28:18<11:11,  3.95s/it, v_num=p2_1, total_loss_train=859, kl_local_train=55.2, tardis_age_0_train=11.3, tardis_integration_donor_0_train=13.1]"
     ]
    },
    {
     "name": "stdout",
     "output_type": "stream",
     "text": [
      "\r",
      "Epoch 431/600:  72%|███████▏  | 430/600 [28:18<11:11,  3.95s/it, v_num=p2_1, total_loss_train=859, kl_local_train=55.2, tardis_age_0_train=11.3, tardis_integration_donor_0_train=13.1]"
     ]
    },
    {
     "name": "stdout",
     "output_type": "stream",
     "text": [
      "\r",
      "Epoch 431/600:  72%|███████▏  | 431/600 [28:22<11:07,  3.95s/it, v_num=p2_1, total_loss_train=859, kl_local_train=55.2, tardis_age_0_train=11.3, tardis_integration_donor_0_train=13.1]"
     ]
    },
    {
     "name": "stdout",
     "output_type": "stream",
     "text": [
      "\r",
      "Epoch 431/600:  72%|███████▏  | 431/600 [28:22<11:07,  3.95s/it, v_num=p2_1, total_loss_train=859, kl_local_train=55.5, tardis_age_0_train=11.1, tardis_integration_donor_0_train=13]  "
     ]
    },
    {
     "name": "stdout",
     "output_type": "stream",
     "text": [
      "\r",
      "Epoch 432/600:  72%|███████▏  | 431/600 [28:22<11:07,  3.95s/it, v_num=p2_1, total_loss_train=859, kl_local_train=55.5, tardis_age_0_train=11.1, tardis_integration_donor_0_train=13]"
     ]
    },
    {
     "name": "stdout",
     "output_type": "stream",
     "text": [
      "\r",
      "Epoch 432/600:  72%|███████▏  | 432/600 [28:26<11:02,  3.94s/it, v_num=p2_1, total_loss_train=859, kl_local_train=55.5, tardis_age_0_train=11.1, tardis_integration_donor_0_train=13]"
     ]
    },
    {
     "name": "stdout",
     "output_type": "stream",
     "text": [
      "\r",
      "Epoch 432/600:  72%|███████▏  | 432/600 [28:26<11:02,  3.94s/it, v_num=p2_1, total_loss_train=859, kl_local_train=55.2, tardis_age_0_train=11.4, tardis_integration_donor_0_train=13.1]"
     ]
    },
    {
     "name": "stdout",
     "output_type": "stream",
     "text": [
      "\r",
      "Epoch 433/600:  72%|███████▏  | 432/600 [28:26<11:02,  3.94s/it, v_num=p2_1, total_loss_train=859, kl_local_train=55.2, tardis_age_0_train=11.4, tardis_integration_donor_0_train=13.1]"
     ]
    },
    {
     "name": "stdout",
     "output_type": "stream",
     "text": [
      "\r",
      "Epoch 433/600:  72%|███████▏  | 433/600 [28:30<11:00,  3.96s/it, v_num=p2_1, total_loss_train=859, kl_local_train=55.2, tardis_age_0_train=11.4, tardis_integration_donor_0_train=13.1]"
     ]
    },
    {
     "name": "stdout",
     "output_type": "stream",
     "text": [
      "\r",
      "Epoch 433/600:  72%|███████▏  | 433/600 [28:30<11:00,  3.96s/it, v_num=p2_1, total_loss_train=859, kl_local_train=55.7, tardis_age_0_train=11.3, tardis_integration_donor_0_train=12.9]"
     ]
    },
    {
     "name": "stdout",
     "output_type": "stream",
     "text": [
      "\r",
      "Epoch 434/600:  72%|███████▏  | 433/600 [28:30<11:00,  3.96s/it, v_num=p2_1, total_loss_train=859, kl_local_train=55.7, tardis_age_0_train=11.3, tardis_integration_donor_0_train=12.9]"
     ]
    },
    {
     "name": "stdout",
     "output_type": "stream",
     "text": [
      "\r",
      "Epoch 434/600:  72%|███████▏  | 434/600 [28:34<10:58,  3.97s/it, v_num=p2_1, total_loss_train=859, kl_local_train=55.7, tardis_age_0_train=11.3, tardis_integration_donor_0_train=12.9]"
     ]
    },
    {
     "name": "stdout",
     "output_type": "stream",
     "text": [
      "\r",
      "Epoch 434/600:  72%|███████▏  | 434/600 [28:34<10:58,  3.97s/it, v_num=p2_1, total_loss_train=858, kl_local_train=55.3, tardis_age_0_train=11.3, tardis_integration_donor_0_train=12.8]"
     ]
    },
    {
     "name": "stdout",
     "output_type": "stream",
     "text": [
      "\r",
      "Epoch 435/600:  72%|███████▏  | 434/600 [28:34<10:58,  3.97s/it, v_num=p2_1, total_loss_train=858, kl_local_train=55.3, tardis_age_0_train=11.3, tardis_integration_donor_0_train=12.8]"
     ]
    },
    {
     "name": "stdout",
     "output_type": "stream",
     "text": [
      "\r",
      "Epoch 435/600:  72%|███████▎  | 435/600 [28:38<11:00,  4.00s/it, v_num=p2_1, total_loss_train=858, kl_local_train=55.3, tardis_age_0_train=11.3, tardis_integration_donor_0_train=12.8]"
     ]
    },
    {
     "name": "stdout",
     "output_type": "stream",
     "text": [
      "\r",
      "Epoch 435/600:  72%|███████▎  | 435/600 [28:38<11:00,  4.00s/it, v_num=p2_1, total_loss_train=859, kl_local_train=54.9, tardis_age_0_train=11.5, tardis_integration_donor_0_train=13.1]"
     ]
    },
    {
     "name": "stdout",
     "output_type": "stream",
     "text": [
      "\r",
      "Epoch 436/600:  72%|███████▎  | 435/600 [28:38<11:00,  4.00s/it, v_num=p2_1, total_loss_train=859, kl_local_train=54.9, tardis_age_0_train=11.5, tardis_integration_donor_0_train=13.1]"
     ]
    },
    {
     "name": "stdout",
     "output_type": "stream",
     "text": [
      "\r",
      "Epoch 436/600:  73%|███████▎  | 436/600 [28:42<10:53,  3.99s/it, v_num=p2_1, total_loss_train=859, kl_local_train=54.9, tardis_age_0_train=11.5, tardis_integration_donor_0_train=13.1]"
     ]
    },
    {
     "name": "stdout",
     "output_type": "stream",
     "text": [
      "\r",
      "Epoch 436/600:  73%|███████▎  | 436/600 [28:42<10:53,  3.99s/it, v_num=p2_1, total_loss_train=858, kl_local_train=55.2, tardis_age_0_train=11.4, tardis_integration_donor_0_train=13]  "
     ]
    },
    {
     "name": "stdout",
     "output_type": "stream",
     "text": [
      "\r",
      "Epoch 437/600:  73%|███████▎  | 436/600 [28:42<10:53,  3.99s/it, v_num=p2_1, total_loss_train=858, kl_local_train=55.2, tardis_age_0_train=11.4, tardis_integration_donor_0_train=13]"
     ]
    },
    {
     "name": "stdout",
     "output_type": "stream",
     "text": [
      "\r",
      "Epoch 437/600:  73%|███████▎  | 437/600 [28:46<10:48,  3.98s/it, v_num=p2_1, total_loss_train=858, kl_local_train=55.2, tardis_age_0_train=11.4, tardis_integration_donor_0_train=13]"
     ]
    },
    {
     "name": "stdout",
     "output_type": "stream",
     "text": [
      "\r",
      "Epoch 437/600:  73%|███████▎  | 437/600 [28:46<10:48,  3.98s/it, v_num=p2_1, total_loss_train=858, kl_local_train=55.2, tardis_age_0_train=11.4, tardis_integration_donor_0_train=12.9]"
     ]
    },
    {
     "name": "stdout",
     "output_type": "stream",
     "text": [
      "\r",
      "Epoch 438/600:  73%|███████▎  | 437/600 [28:46<10:48,  3.98s/it, v_num=p2_1, total_loss_train=858, kl_local_train=55.2, tardis_age_0_train=11.4, tardis_integration_donor_0_train=12.9]"
     ]
    },
    {
     "name": "stdout",
     "output_type": "stream",
     "text": [
      "\r",
      "Epoch 438/600:  73%|███████▎  | 438/600 [28:50<10:43,  3.97s/it, v_num=p2_1, total_loss_train=858, kl_local_train=55.2, tardis_age_0_train=11.4, tardis_integration_donor_0_train=12.9]"
     ]
    },
    {
     "name": "stdout",
     "output_type": "stream",
     "text": [
      "\r",
      "Epoch 438/600:  73%|███████▎  | 438/600 [28:50<10:43,  3.97s/it, v_num=p2_1, total_loss_train=858, kl_local_train=55.2, tardis_age_0_train=11.1, tardis_integration_donor_0_train=13]  "
     ]
    },
    {
     "name": "stdout",
     "output_type": "stream",
     "text": [
      "\r",
      "Epoch 439/600:  73%|███████▎  | 438/600 [28:50<10:43,  3.97s/it, v_num=p2_1, total_loss_train=858, kl_local_train=55.2, tardis_age_0_train=11.1, tardis_integration_donor_0_train=13]"
     ]
    },
    {
     "name": "stdout",
     "output_type": "stream",
     "text": [
      "\r",
      "Epoch 439/600:  73%|███████▎  | 439/600 [28:54<10:37,  3.96s/it, v_num=p2_1, total_loss_train=858, kl_local_train=55.2, tardis_age_0_train=11.1, tardis_integration_donor_0_train=13]"
     ]
    },
    {
     "name": "stdout",
     "output_type": "stream",
     "text": [
      "\r",
      "Epoch 439/600:  73%|███████▎  | 439/600 [28:54<10:37,  3.96s/it, v_num=p2_1, total_loss_train=857, kl_local_train=55.3, tardis_age_0_train=11.1, tardis_integration_donor_0_train=12.8]"
     ]
    },
    {
     "name": "stdout",
     "output_type": "stream",
     "text": [
      "\r",
      "Epoch 440/600:  73%|███████▎  | 439/600 [28:54<10:37,  3.96s/it, v_num=p2_1, total_loss_train=857, kl_local_train=55.3, tardis_age_0_train=11.1, tardis_integration_donor_0_train=12.8]"
     ]
    },
    {
     "name": "stdout",
     "output_type": "stream",
     "text": [
      "\r",
      "Epoch 440/600:  73%|███████▎  | 440/600 [28:58<10:32,  3.95s/it, v_num=p2_1, total_loss_train=857, kl_local_train=55.3, tardis_age_0_train=11.1, tardis_integration_donor_0_train=12.8]"
     ]
    },
    {
     "name": "stdout",
     "output_type": "stream",
     "text": [
      "\r",
      "Epoch 440/600:  73%|███████▎  | 440/600 [28:58<10:32,  3.95s/it, v_num=p2_1, total_loss_train=858, kl_local_train=54.8, tardis_age_0_train=11.4, tardis_integration_donor_0_train=12.9]"
     ]
    },
    {
     "name": "stdout",
     "output_type": "stream",
     "text": [
      "\r",
      "Epoch 441/600:  73%|███████▎  | 440/600 [28:58<10:32,  3.95s/it, v_num=p2_1, total_loss_train=858, kl_local_train=54.8, tardis_age_0_train=11.4, tardis_integration_donor_0_train=12.9]"
     ]
    },
    {
     "name": "stdout",
     "output_type": "stream",
     "text": [
      "\r",
      "Epoch 441/600:  74%|███████▎  | 441/600 [29:02<10:26,  3.94s/it, v_num=p2_1, total_loss_train=858, kl_local_train=54.8, tardis_age_0_train=11.4, tardis_integration_donor_0_train=12.9]"
     ]
    },
    {
     "name": "stdout",
     "output_type": "stream",
     "text": [
      "\r",
      "Epoch 441/600:  74%|███████▎  | 441/600 [29:02<10:26,  3.94s/it, v_num=p2_1, total_loss_train=858, kl_local_train=55.1, tardis_age_0_train=11.4, tardis_integration_donor_0_train=13]  "
     ]
    },
    {
     "name": "stdout",
     "output_type": "stream",
     "text": [
      "\r",
      "Epoch 442/600:  74%|███████▎  | 441/600 [29:02<10:26,  3.94s/it, v_num=p2_1, total_loss_train=858, kl_local_train=55.1, tardis_age_0_train=11.4, tardis_integration_donor_0_train=13]"
     ]
    },
    {
     "name": "stdout",
     "output_type": "stream",
     "text": [
      "\r",
      "Epoch 442/600:  74%|███████▎  | 442/600 [29:06<10:21,  3.93s/it, v_num=p2_1, total_loss_train=858, kl_local_train=55.1, tardis_age_0_train=11.4, tardis_integration_donor_0_train=13]"
     ]
    },
    {
     "name": "stdout",
     "output_type": "stream",
     "text": [
      "\r",
      "Epoch 442/600:  74%|███████▎  | 442/600 [29:06<10:21,  3.93s/it, v_num=p2_1, total_loss_train=858, kl_local_train=54.7, tardis_age_0_train=11.4, tardis_integration_donor_0_train=12.9]"
     ]
    },
    {
     "name": "stdout",
     "output_type": "stream",
     "text": [
      "\r",
      "Epoch 443/600:  74%|███████▎  | 442/600 [29:06<10:21,  3.93s/it, v_num=p2_1, total_loss_train=858, kl_local_train=54.7, tardis_age_0_train=11.4, tardis_integration_donor_0_train=12.9]"
     ]
    },
    {
     "name": "stdout",
     "output_type": "stream",
     "text": [
      "\r",
      "Epoch 443/600:  74%|███████▍  | 443/600 [29:09<10:17,  3.93s/it, v_num=p2_1, total_loss_train=858, kl_local_train=54.7, tardis_age_0_train=11.4, tardis_integration_donor_0_train=12.9]"
     ]
    },
    {
     "name": "stdout",
     "output_type": "stream",
     "text": [
      "\r",
      "Epoch 443/600:  74%|███████▍  | 443/600 [29:09<10:17,  3.93s/it, v_num=p2_1, total_loss_train=858, kl_local_train=54.7, tardis_age_0_train=11.6, tardis_integration_donor_0_train=13.3]"
     ]
    },
    {
     "name": "stdout",
     "output_type": "stream",
     "text": [
      "\r",
      "Epoch 444/600:  74%|███████▍  | 443/600 [29:09<10:17,  3.93s/it, v_num=p2_1, total_loss_train=858, kl_local_train=54.7, tardis_age_0_train=11.6, tardis_integration_donor_0_train=13.3]"
     ]
    },
    {
     "name": "stdout",
     "output_type": "stream",
     "text": [
      "\r",
      "Epoch 444/600:  74%|███████▍  | 444/600 [29:13<10:12,  3.93s/it, v_num=p2_1, total_loss_train=858, kl_local_train=54.7, tardis_age_0_train=11.6, tardis_integration_donor_0_train=13.3]"
     ]
    },
    {
     "name": "stdout",
     "output_type": "stream",
     "text": [
      "\r",
      "Epoch 444/600:  74%|███████▍  | 444/600 [29:13<10:12,  3.93s/it, v_num=p2_1, total_loss_train=858, kl_local_train=54.7, tardis_age_0_train=11.4, tardis_integration_donor_0_train=13.2]"
     ]
    },
    {
     "name": "stdout",
     "output_type": "stream",
     "text": [
      "\r",
      "Epoch 445/600:  74%|███████▍  | 444/600 [29:13<10:12,  3.93s/it, v_num=p2_1, total_loss_train=858, kl_local_train=54.7, tardis_age_0_train=11.4, tardis_integration_donor_0_train=13.2]"
     ]
    },
    {
     "name": "stdout",
     "output_type": "stream",
     "text": [
      "\r",
      "Epoch 445/600:  74%|███████▍  | 445/600 [29:17<10:09,  3.93s/it, v_num=p2_1, total_loss_train=858, kl_local_train=54.7, tardis_age_0_train=11.4, tardis_integration_donor_0_train=13.2]"
     ]
    },
    {
     "name": "stdout",
     "output_type": "stream",
     "text": [
      "\r",
      "Epoch 445/600:  74%|███████▍  | 445/600 [29:17<10:09,  3.93s/it, v_num=p2_1, total_loss_train=858, kl_local_train=54.5, tardis_age_0_train=11.5, tardis_integration_donor_0_train=13.2]"
     ]
    },
    {
     "name": "stdout",
     "output_type": "stream",
     "text": [
      "\r",
      "Epoch 446/600:  74%|███████▍  | 445/600 [29:17<10:09,  3.93s/it, v_num=p2_1, total_loss_train=858, kl_local_train=54.5, tardis_age_0_train=11.5, tardis_integration_donor_0_train=13.2]"
     ]
    },
    {
     "name": "stdout",
     "output_type": "stream",
     "text": [
      "\r",
      "Epoch 446/600:  74%|███████▍  | 446/600 [29:21<10:04,  3.93s/it, v_num=p2_1, total_loss_train=858, kl_local_train=54.5, tardis_age_0_train=11.5, tardis_integration_donor_0_train=13.2]"
     ]
    },
    {
     "name": "stdout",
     "output_type": "stream",
     "text": [
      "\r",
      "Epoch 446/600:  74%|███████▍  | 446/600 [29:21<10:04,  3.93s/it, v_num=p2_1, total_loss_train=857, kl_local_train=54.8, tardis_age_0_train=11.3, tardis_integration_donor_0_train=13.1]"
     ]
    },
    {
     "name": "stdout",
     "output_type": "stream",
     "text": [
      "\r",
      "Epoch 447/600:  74%|███████▍  | 446/600 [29:21<10:04,  3.93s/it, v_num=p2_1, total_loss_train=857, kl_local_train=54.8, tardis_age_0_train=11.3, tardis_integration_donor_0_train=13.1]"
     ]
    },
    {
     "name": "stdout",
     "output_type": "stream",
     "text": [
      "\r",
      "Epoch 447/600:  74%|███████▍  | 447/600 [29:25<10:02,  3.94s/it, v_num=p2_1, total_loss_train=857, kl_local_train=54.8, tardis_age_0_train=11.3, tardis_integration_donor_0_train=13.1]"
     ]
    },
    {
     "name": "stdout",
     "output_type": "stream",
     "text": [
      "\r",
      "Epoch 447/600:  74%|███████▍  | 447/600 [29:25<10:02,  3.94s/it, v_num=p2_1, total_loss_train=857, kl_local_train=54.4, tardis_age_0_train=11.4, tardis_integration_donor_0_train=13]  "
     ]
    },
    {
     "name": "stdout",
     "output_type": "stream",
     "text": [
      "\r",
      "Epoch 448/600:  74%|███████▍  | 447/600 [29:25<10:02,  3.94s/it, v_num=p2_1, total_loss_train=857, kl_local_train=54.4, tardis_age_0_train=11.4, tardis_integration_donor_0_train=13]"
     ]
    },
    {
     "name": "stdout",
     "output_type": "stream",
     "text": [
      "\r",
      "Epoch 448/600:  75%|███████▍  | 448/600 [29:29<09:58,  3.94s/it, v_num=p2_1, total_loss_train=857, kl_local_train=54.4, tardis_age_0_train=11.4, tardis_integration_donor_0_train=13]"
     ]
    },
    {
     "name": "stdout",
     "output_type": "stream",
     "text": [
      "\r",
      "Epoch 448/600:  75%|███████▍  | 448/600 [29:29<09:58,  3.94s/it, v_num=p2_1, total_loss_train=857, kl_local_train=54.5, tardis_age_0_train=11.3, tardis_integration_donor_0_train=13.1]"
     ]
    },
    {
     "name": "stdout",
     "output_type": "stream",
     "text": [
      "\r",
      "Epoch 449/600:  75%|███████▍  | 448/600 [29:29<09:58,  3.94s/it, v_num=p2_1, total_loss_train=857, kl_local_train=54.5, tardis_age_0_train=11.3, tardis_integration_donor_0_train=13.1]"
     ]
    },
    {
     "name": "stdout",
     "output_type": "stream",
     "text": [
      "\r",
      "Epoch 449/600:  75%|███████▍  | 449/600 [29:33<09:53,  3.93s/it, v_num=p2_1, total_loss_train=857, kl_local_train=54.5, tardis_age_0_train=11.3, tardis_integration_donor_0_train=13.1]"
     ]
    },
    {
     "name": "stdout",
     "output_type": "stream",
     "text": [
      "\r",
      "Epoch 449/600:  75%|███████▍  | 449/600 [29:33<09:53,  3.93s/it, v_num=p2_1, total_loss_train=857, kl_local_train=54.5, tardis_age_0_train=11.4, tardis_integration_donor_0_train=13.2]"
     ]
    },
    {
     "name": "stdout",
     "output_type": "stream",
     "text": [
      "\r",
      "Epoch 450/600:  75%|███████▍  | 449/600 [29:33<09:53,  3.93s/it, v_num=p2_1, total_loss_train=857, kl_local_train=54.5, tardis_age_0_train=11.4, tardis_integration_donor_0_train=13.2]"
     ]
    },
    {
     "name": "stdout",
     "output_type": "stream",
     "text": [
      "\r",
      "Epoch 450/600:  75%|███████▌  | 450/600 [29:37<09:50,  3.94s/it, v_num=p2_1, total_loss_train=857, kl_local_train=54.5, tardis_age_0_train=11.4, tardis_integration_donor_0_train=13.2]"
     ]
    },
    {
     "name": "stdout",
     "output_type": "stream",
     "text": [
      "\r",
      "Epoch 450/600:  75%|███████▌  | 450/600 [29:37<09:50,  3.94s/it, v_num=p2_1, total_loss_train=856, kl_local_train=54.2, tardis_age_0_train=11.5, tardis_integration_donor_0_train=13.2]"
     ]
    },
    {
     "name": "stdout",
     "output_type": "stream",
     "text": [
      "\r",
      "Epoch 451/600:  75%|███████▌  | 450/600 [29:37<09:50,  3.94s/it, v_num=p2_1, total_loss_train=856, kl_local_train=54.2, tardis_age_0_train=11.5, tardis_integration_donor_0_train=13.2]"
     ]
    },
    {
     "name": "stdout",
     "output_type": "stream",
     "text": [
      "\r",
      "Epoch 451/600:  75%|███████▌  | 451/600 [29:41<09:45,  3.93s/it, v_num=p2_1, total_loss_train=856, kl_local_train=54.2, tardis_age_0_train=11.5, tardis_integration_donor_0_train=13.2]"
     ]
    },
    {
     "name": "stdout",
     "output_type": "stream",
     "text": [
      "\r",
      "Epoch 451/600:  75%|███████▌  | 451/600 [29:41<09:45,  3.93s/it, v_num=p2_1, total_loss_train=857, kl_local_train=54.6, tardis_age_0_train=11.4, tardis_integration_donor_0_train=13]  "
     ]
    },
    {
     "name": "stdout",
     "output_type": "stream",
     "text": [
      "\r",
      "Epoch 452/600:  75%|███████▌  | 451/600 [29:41<09:45,  3.93s/it, v_num=p2_1, total_loss_train=857, kl_local_train=54.6, tardis_age_0_train=11.4, tardis_integration_donor_0_train=13]"
     ]
    },
    {
     "name": "stdout",
     "output_type": "stream",
     "text": [
      "\r",
      "Epoch 452/600:  75%|███████▌  | 452/600 [29:45<09:42,  3.93s/it, v_num=p2_1, total_loss_train=857, kl_local_train=54.6, tardis_age_0_train=11.4, tardis_integration_donor_0_train=13]"
     ]
    },
    {
     "name": "stdout",
     "output_type": "stream",
     "text": [
      "\r",
      "Epoch 452/600:  75%|███████▌  | 452/600 [29:45<09:42,  3.93s/it, v_num=p2_1, total_loss_train=857, kl_local_train=54.9, tardis_age_0_train=11.5, tardis_integration_donor_0_train=13]"
     ]
    },
    {
     "name": "stdout",
     "output_type": "stream",
     "text": [
      "\r",
      "Epoch 453/600:  75%|███████▌  | 452/600 [29:45<09:42,  3.93s/it, v_num=p2_1, total_loss_train=857, kl_local_train=54.9, tardis_age_0_train=11.5, tardis_integration_donor_0_train=13]"
     ]
    },
    {
     "name": "stdout",
     "output_type": "stream",
     "text": [
      "\r",
      "Epoch 453/600:  76%|███████▌  | 453/600 [29:49<09:39,  3.94s/it, v_num=p2_1, total_loss_train=857, kl_local_train=54.9, tardis_age_0_train=11.5, tardis_integration_donor_0_train=13]"
     ]
    },
    {
     "name": "stdout",
     "output_type": "stream",
     "text": [
      "\r",
      "Epoch 453/600:  76%|███████▌  | 453/600 [29:49<09:39,  3.94s/it, v_num=p2_1, total_loss_train=857, kl_local_train=54.3, tardis_age_0_train=11.6, tardis_integration_donor_0_train=13.3]"
     ]
    },
    {
     "name": "stdout",
     "output_type": "stream",
     "text": [
      "\r",
      "Epoch 454/600:  76%|███████▌  | 453/600 [29:49<09:39,  3.94s/it, v_num=p2_1, total_loss_train=857, kl_local_train=54.3, tardis_age_0_train=11.6, tardis_integration_donor_0_train=13.3]"
     ]
    },
    {
     "name": "stdout",
     "output_type": "stream",
     "text": [
      "\r",
      "Epoch 454/600:  76%|███████▌  | 454/600 [29:53<09:36,  3.95s/it, v_num=p2_1, total_loss_train=857, kl_local_train=54.3, tardis_age_0_train=11.6, tardis_integration_donor_0_train=13.3]"
     ]
    },
    {
     "name": "stdout",
     "output_type": "stream",
     "text": [
      "\r",
      "Epoch 454/600:  76%|███████▌  | 454/600 [29:53<09:36,  3.95s/it, v_num=p2_1, total_loss_train=856, kl_local_train=54.5, tardis_age_0_train=11.4, tardis_integration_donor_0_train=13.1]"
     ]
    },
    {
     "name": "stdout",
     "output_type": "stream",
     "text": [
      "\r",
      "Epoch 455/600:  76%|███████▌  | 454/600 [29:53<09:36,  3.95s/it, v_num=p2_1, total_loss_train=856, kl_local_train=54.5, tardis_age_0_train=11.4, tardis_integration_donor_0_train=13.1]"
     ]
    },
    {
     "name": "stdout",
     "output_type": "stream",
     "text": [
      "\r",
      "Epoch 455/600:  76%|███████▌  | 455/600 [29:57<09:31,  3.94s/it, v_num=p2_1, total_loss_train=856, kl_local_train=54.5, tardis_age_0_train=11.4, tardis_integration_donor_0_train=13.1]"
     ]
    },
    {
     "name": "stdout",
     "output_type": "stream",
     "text": [
      "\r",
      "Epoch 455/600:  76%|███████▌  | 455/600 [29:57<09:31,  3.94s/it, v_num=p2_1, total_loss_train=856, kl_local_train=53.9, tardis_age_0_train=11.6, tardis_integration_donor_0_train=13.2]"
     ]
    },
    {
     "name": "stdout",
     "output_type": "stream",
     "text": [
      "\r",
      "Epoch 456/600:  76%|███████▌  | 455/600 [29:57<09:31,  3.94s/it, v_num=p2_1, total_loss_train=856, kl_local_train=53.9, tardis_age_0_train=11.6, tardis_integration_donor_0_train=13.2]"
     ]
    },
    {
     "name": "stdout",
     "output_type": "stream",
     "text": [
      "\r",
      "Epoch 456/600:  76%|███████▌  | 456/600 [30:01<09:27,  3.94s/it, v_num=p2_1, total_loss_train=856, kl_local_train=53.9, tardis_age_0_train=11.6, tardis_integration_donor_0_train=13.2]"
     ]
    },
    {
     "name": "stdout",
     "output_type": "stream",
     "text": [
      "\r",
      "Epoch 456/600:  76%|███████▌  | 456/600 [30:01<09:27,  3.94s/it, v_num=p2_1, total_loss_train=856, kl_local_train=54.3, tardis_age_0_train=11.4, tardis_integration_donor_0_train=13.2]"
     ]
    },
    {
     "name": "stdout",
     "output_type": "stream",
     "text": [
      "\r",
      "Epoch 457/600:  76%|███████▌  | 456/600 [30:01<09:27,  3.94s/it, v_num=p2_1, total_loss_train=856, kl_local_train=54.3, tardis_age_0_train=11.4, tardis_integration_donor_0_train=13.2]"
     ]
    },
    {
     "name": "stdout",
     "output_type": "stream",
     "text": [
      "\r",
      "Epoch 457/600:  76%|███████▌  | 457/600 [30:05<09:23,  3.94s/it, v_num=p2_1, total_loss_train=856, kl_local_train=54.3, tardis_age_0_train=11.4, tardis_integration_donor_0_train=13.2]"
     ]
    },
    {
     "name": "stdout",
     "output_type": "stream",
     "text": [
      "\r",
      "Epoch 457/600:  76%|███████▌  | 457/600 [30:05<09:23,  3.94s/it, v_num=p2_1, total_loss_train=856, kl_local_train=54.1, tardis_age_0_train=11.5, tardis_integration_donor_0_train=13.2]"
     ]
    },
    {
     "name": "stdout",
     "output_type": "stream",
     "text": [
      "\r",
      "Epoch 458/600:  76%|███████▌  | 457/600 [30:05<09:23,  3.94s/it, v_num=p2_1, total_loss_train=856, kl_local_train=54.1, tardis_age_0_train=11.5, tardis_integration_donor_0_train=13.2]"
     ]
    },
    {
     "name": "stdout",
     "output_type": "stream",
     "text": [
      "\r",
      "Epoch 458/600:  76%|███████▋  | 458/600 [30:08<09:18,  3.93s/it, v_num=p2_1, total_loss_train=856, kl_local_train=54.1, tardis_age_0_train=11.5, tardis_integration_donor_0_train=13.2]"
     ]
    },
    {
     "name": "stdout",
     "output_type": "stream",
     "text": [
      "\r",
      "Epoch 458/600:  76%|███████▋  | 458/600 [30:09<09:18,  3.93s/it, v_num=p2_1, total_loss_train=856, kl_local_train=54, tardis_age_0_train=11.5, tardis_integration_donor_0_train=13.2]  "
     ]
    },
    {
     "name": "stdout",
     "output_type": "stream",
     "text": [
      "\r",
      "Epoch 459/600:  76%|███████▋  | 458/600 [30:09<09:18,  3.93s/it, v_num=p2_1, total_loss_train=856, kl_local_train=54, tardis_age_0_train=11.5, tardis_integration_donor_0_train=13.2]"
     ]
    },
    {
     "name": "stdout",
     "output_type": "stream",
     "text": [
      "\r",
      "Epoch 459/600:  76%|███████▋  | 459/600 [30:12<09:15,  3.94s/it, v_num=p2_1, total_loss_train=856, kl_local_train=54, tardis_age_0_train=11.5, tardis_integration_donor_0_train=13.2]"
     ]
    },
    {
     "name": "stdout",
     "output_type": "stream",
     "text": [
      "\r",
      "Epoch 459/600:  76%|███████▋  | 459/600 [30:12<09:15,  3.94s/it, v_num=p2_1, total_loss_train=856, kl_local_train=53.7, tardis_age_0_train=11.5, tardis_integration_donor_0_train=13.3]"
     ]
    },
    {
     "name": "stdout",
     "output_type": "stream",
     "text": [
      "\r",
      "Epoch 460/600:  76%|███████▋  | 459/600 [30:12<09:15,  3.94s/it, v_num=p2_1, total_loss_train=856, kl_local_train=53.7, tardis_age_0_train=11.5, tardis_integration_donor_0_train=13.3]"
     ]
    },
    {
     "name": "stdout",
     "output_type": "stream",
     "text": [
      "\r",
      "Epoch 460/600:  77%|███████▋  | 460/600 [30:16<09:11,  3.94s/it, v_num=p2_1, total_loss_train=856, kl_local_train=53.7, tardis_age_0_train=11.5, tardis_integration_donor_0_train=13.3]"
     ]
    },
    {
     "name": "stdout",
     "output_type": "stream",
     "text": [
      "\r",
      "Epoch 460/600:  77%|███████▋  | 460/600 [30:16<09:11,  3.94s/it, v_num=p2_1, total_loss_train=856, kl_local_train=53.6, tardis_age_0_train=11.5, tardis_integration_donor_0_train=13.4]"
     ]
    },
    {
     "name": "stdout",
     "output_type": "stream",
     "text": [
      "\r",
      "Epoch 461/600:  77%|███████▋  | 460/600 [30:16<09:11,  3.94s/it, v_num=p2_1, total_loss_train=856, kl_local_train=53.6, tardis_age_0_train=11.5, tardis_integration_donor_0_train=13.4]"
     ]
    },
    {
     "name": "stdout",
     "output_type": "stream",
     "text": [
      "\r",
      "Epoch 461/600:  77%|███████▋  | 461/600 [30:20<09:06,  3.93s/it, v_num=p2_1, total_loss_train=856, kl_local_train=53.6, tardis_age_0_train=11.5, tardis_integration_donor_0_train=13.4]"
     ]
    },
    {
     "name": "stdout",
     "output_type": "stream",
     "text": [
      "\r",
      "Epoch 461/600:  77%|███████▋  | 461/600 [30:20<09:06,  3.93s/it, v_num=p2_1, total_loss_train=856, kl_local_train=53.7, tardis_age_0_train=11.6, tardis_integration_donor_0_train=13.3]"
     ]
    },
    {
     "name": "stdout",
     "output_type": "stream",
     "text": [
      "\r",
      "Epoch 462/600:  77%|███████▋  | 461/600 [30:20<09:06,  3.93s/it, v_num=p2_1, total_loss_train=856, kl_local_train=53.7, tardis_age_0_train=11.6, tardis_integration_donor_0_train=13.3]"
     ]
    },
    {
     "name": "stdout",
     "output_type": "stream",
     "text": [
      "\r",
      "Epoch 462/600:  77%|███████▋  | 462/600 [30:24<09:03,  3.94s/it, v_num=p2_1, total_loss_train=856, kl_local_train=53.7, tardis_age_0_train=11.6, tardis_integration_donor_0_train=13.3]"
     ]
    },
    {
     "name": "stdout",
     "output_type": "stream",
     "text": [
      "\r",
      "Epoch 462/600:  77%|███████▋  | 462/600 [30:24<09:03,  3.94s/it, v_num=p2_1, total_loss_train=856, kl_local_train=53.9, tardis_age_0_train=11.5, tardis_integration_donor_0_train=13.4]"
     ]
    },
    {
     "name": "stdout",
     "output_type": "stream",
     "text": [
      "\r",
      "Epoch 463/600:  77%|███████▋  | 462/600 [30:24<09:03,  3.94s/it, v_num=p2_1, total_loss_train=856, kl_local_train=53.9, tardis_age_0_train=11.5, tardis_integration_donor_0_train=13.4]"
     ]
    },
    {
     "name": "stdout",
     "output_type": "stream",
     "text": [
      "\r",
      "Epoch 463/600:  77%|███████▋  | 463/600 [30:28<08:59,  3.94s/it, v_num=p2_1, total_loss_train=856, kl_local_train=53.9, tardis_age_0_train=11.5, tardis_integration_donor_0_train=13.4]"
     ]
    },
    {
     "name": "stdout",
     "output_type": "stream",
     "text": [
      "\r",
      "Epoch 463/600:  77%|███████▋  | 463/600 [30:28<08:59,  3.94s/it, v_num=p2_1, total_loss_train=855, kl_local_train=53.6, tardis_age_0_train=11.4, tardis_integration_donor_0_train=13.4]"
     ]
    },
    {
     "name": "stdout",
     "output_type": "stream",
     "text": [
      "\r",
      "Epoch 464/600:  77%|███████▋  | 463/600 [30:28<08:59,  3.94s/it, v_num=p2_1, total_loss_train=855, kl_local_train=53.6, tardis_age_0_train=11.4, tardis_integration_donor_0_train=13.4]"
     ]
    },
    {
     "name": "stdout",
     "output_type": "stream",
     "text": [
      "\r",
      "Epoch 464/600:  77%|███████▋  | 464/600 [30:32<08:58,  3.96s/it, v_num=p2_1, total_loss_train=855, kl_local_train=53.6, tardis_age_0_train=11.4, tardis_integration_donor_0_train=13.4]"
     ]
    },
    {
     "name": "stdout",
     "output_type": "stream",
     "text": [
      "\r",
      "Epoch 464/600:  77%|███████▋  | 464/600 [30:32<08:58,  3.96s/it, v_num=p2_1, total_loss_train=855, kl_local_train=53.3, tardis_age_0_train=11.6, tardis_integration_donor_0_train=13.4]"
     ]
    },
    {
     "name": "stdout",
     "output_type": "stream",
     "text": [
      "\r",
      "Epoch 465/600:  77%|███████▋  | 464/600 [30:32<08:58,  3.96s/it, v_num=p2_1, total_loss_train=855, kl_local_train=53.3, tardis_age_0_train=11.6, tardis_integration_donor_0_train=13.4]"
     ]
    },
    {
     "name": "stdout",
     "output_type": "stream",
     "text": [
      "\r",
      "Epoch 465/600:  78%|███████▊  | 465/600 [30:36<08:54,  3.96s/it, v_num=p2_1, total_loss_train=855, kl_local_train=53.3, tardis_age_0_train=11.6, tardis_integration_donor_0_train=13.4]"
     ]
    },
    {
     "name": "stdout",
     "output_type": "stream",
     "text": [
      "\r",
      "Epoch 465/600:  78%|███████▊  | 465/600 [30:36<08:54,  3.96s/it, v_num=p2_1, total_loss_train=856, kl_local_train=53.6, tardis_age_0_train=11.7, tardis_integration_donor_0_train=13.4]"
     ]
    },
    {
     "name": "stdout",
     "output_type": "stream",
     "text": [
      "\r",
      "Epoch 466/600:  78%|███████▊  | 465/600 [30:36<08:54,  3.96s/it, v_num=p2_1, total_loss_train=856, kl_local_train=53.6, tardis_age_0_train=11.7, tardis_integration_donor_0_train=13.4]"
     ]
    },
    {
     "name": "stdout",
     "output_type": "stream",
     "text": [
      "\r",
      "Epoch 466/600:  78%|███████▊  | 466/600 [30:40<08:49,  3.95s/it, v_num=p2_1, total_loss_train=856, kl_local_train=53.6, tardis_age_0_train=11.7, tardis_integration_donor_0_train=13.4]"
     ]
    },
    {
     "name": "stdout",
     "output_type": "stream",
     "text": [
      "\r",
      "Epoch 466/600:  78%|███████▊  | 466/600 [30:40<08:49,  3.95s/it, v_num=p2_1, total_loss_train=855, kl_local_train=53.6, tardis_age_0_train=11.6, tardis_integration_donor_0_train=13.3]"
     ]
    },
    {
     "name": "stdout",
     "output_type": "stream",
     "text": [
      "\r",
      "Epoch 467/600:  78%|███████▊  | 466/600 [30:40<08:49,  3.95s/it, v_num=p2_1, total_loss_train=855, kl_local_train=53.6, tardis_age_0_train=11.6, tardis_integration_donor_0_train=13.3]"
     ]
    },
    {
     "name": "stdout",
     "output_type": "stream",
     "text": [
      "\r",
      "Epoch 467/600:  78%|███████▊  | 467/600 [30:44<08:45,  3.95s/it, v_num=p2_1, total_loss_train=855, kl_local_train=53.6, tardis_age_0_train=11.6, tardis_integration_donor_0_train=13.3]"
     ]
    },
    {
     "name": "stdout",
     "output_type": "stream",
     "text": [
      "\r",
      "Epoch 467/600:  78%|███████▊  | 467/600 [30:44<08:45,  3.95s/it, v_num=p2_1, total_loss_train=855, kl_local_train=53.8, tardis_age_0_train=11.7, tardis_integration_donor_0_train=13.4]"
     ]
    },
    {
     "name": "stdout",
     "output_type": "stream",
     "text": [
      "\r",
      "Epoch 468/600:  78%|███████▊  | 467/600 [30:44<08:45,  3.95s/it, v_num=p2_1, total_loss_train=855, kl_local_train=53.8, tardis_age_0_train=11.7, tardis_integration_donor_0_train=13.4]"
     ]
    },
    {
     "name": "stdout",
     "output_type": "stream",
     "text": [
      "\r",
      "Epoch 468/600:  78%|███████▊  | 468/600 [30:48<08:41,  3.95s/it, v_num=p2_1, total_loss_train=855, kl_local_train=53.8, tardis_age_0_train=11.7, tardis_integration_donor_0_train=13.4]"
     ]
    },
    {
     "name": "stdout",
     "output_type": "stream",
     "text": [
      "\r",
      "Epoch 468/600:  78%|███████▊  | 468/600 [30:48<08:41,  3.95s/it, v_num=p2_1, total_loss_train=855, kl_local_train=53.7, tardis_age_0_train=11.5, tardis_integration_donor_0_train=13.2]"
     ]
    },
    {
     "name": "stdout",
     "output_type": "stream",
     "text": [
      "\r",
      "Epoch 469/600:  78%|███████▊  | 468/600 [30:48<08:41,  3.95s/it, v_num=p2_1, total_loss_train=855, kl_local_train=53.7, tardis_age_0_train=11.5, tardis_integration_donor_0_train=13.2]"
     ]
    },
    {
     "name": "stdout",
     "output_type": "stream",
     "text": [
      "\r",
      "Epoch 469/600:  78%|███████▊  | 469/600 [30:52<08:36,  3.94s/it, v_num=p2_1, total_loss_train=855, kl_local_train=53.7, tardis_age_0_train=11.5, tardis_integration_donor_0_train=13.2]"
     ]
    },
    {
     "name": "stdout",
     "output_type": "stream",
     "text": [
      "\r",
      "Epoch 469/600:  78%|███████▊  | 469/600 [30:52<08:36,  3.94s/it, v_num=p2_1, total_loss_train=855, kl_local_train=53.1, tardis_age_0_train=11.6, tardis_integration_donor_0_train=13.3]"
     ]
    },
    {
     "name": "stdout",
     "output_type": "stream",
     "text": [
      "\r",
      "Epoch 470/600:  78%|███████▊  | 469/600 [30:52<08:36,  3.94s/it, v_num=p2_1, total_loss_train=855, kl_local_train=53.1, tardis_age_0_train=11.6, tardis_integration_donor_0_train=13.3]"
     ]
    },
    {
     "name": "stdout",
     "output_type": "stream",
     "text": [
      "\r",
      "Epoch 470/600:  78%|███████▊  | 470/600 [30:56<08:32,  3.95s/it, v_num=p2_1, total_loss_train=855, kl_local_train=53.1, tardis_age_0_train=11.6, tardis_integration_donor_0_train=13.3]"
     ]
    },
    {
     "name": "stdout",
     "output_type": "stream",
     "text": [
      "\r",
      "Epoch 470/600:  78%|███████▊  | 470/600 [30:56<08:32,  3.95s/it, v_num=p2_1, total_loss_train=855, kl_local_train=53, tardis_age_0_train=11.8, tardis_integration_donor_0_train=13.4]  "
     ]
    },
    {
     "name": "stdout",
     "output_type": "stream",
     "text": [
      "\r",
      "Epoch 471/600:  78%|███████▊  | 470/600 [30:56<08:32,  3.95s/it, v_num=p2_1, total_loss_train=855, kl_local_train=53, tardis_age_0_train=11.8, tardis_integration_donor_0_train=13.4]"
     ]
    },
    {
     "name": "stdout",
     "output_type": "stream",
     "text": [
      "\r",
      "Epoch 471/600:  78%|███████▊  | 471/600 [31:00<08:29,  3.95s/it, v_num=p2_1, total_loss_train=855, kl_local_train=53, tardis_age_0_train=11.8, tardis_integration_donor_0_train=13.4]"
     ]
    },
    {
     "name": "stdout",
     "output_type": "stream",
     "text": [
      "\r",
      "Epoch 471/600:  78%|███████▊  | 471/600 [31:00<08:29,  3.95s/it, v_num=p2_1, total_loss_train=855, kl_local_train=53.4, tardis_age_0_train=11.6, tardis_integration_donor_0_train=13.6]"
     ]
    },
    {
     "name": "stdout",
     "output_type": "stream",
     "text": [
      "\r",
      "Epoch 472/600:  78%|███████▊  | 471/600 [31:00<08:29,  3.95s/it, v_num=p2_1, total_loss_train=855, kl_local_train=53.4, tardis_age_0_train=11.6, tardis_integration_donor_0_train=13.6]"
     ]
    },
    {
     "name": "stdout",
     "output_type": "stream",
     "text": [
      "\r",
      "Epoch 472/600:  79%|███████▊  | 472/600 [31:04<08:24,  3.94s/it, v_num=p2_1, total_loss_train=855, kl_local_train=53.4, tardis_age_0_train=11.6, tardis_integration_donor_0_train=13.6]"
     ]
    },
    {
     "name": "stdout",
     "output_type": "stream",
     "text": [
      "\r",
      "Epoch 472/600:  79%|███████▊  | 472/600 [31:04<08:24,  3.94s/it, v_num=p2_1, total_loss_train=854, kl_local_train=53.4, tardis_age_0_train=11.6, tardis_integration_donor_0_train=13.5]"
     ]
    },
    {
     "name": "stdout",
     "output_type": "stream",
     "text": [
      "\r",
      "Epoch 473/600:  79%|███████▊  | 472/600 [31:04<08:24,  3.94s/it, v_num=p2_1, total_loss_train=854, kl_local_train=53.4, tardis_age_0_train=11.6, tardis_integration_donor_0_train=13.5]"
     ]
    },
    {
     "name": "stdout",
     "output_type": "stream",
     "text": [
      "\r",
      "Epoch 473/600:  79%|███████▉  | 473/600 [31:08<08:21,  3.95s/it, v_num=p2_1, total_loss_train=854, kl_local_train=53.4, tardis_age_0_train=11.6, tardis_integration_donor_0_train=13.5]"
     ]
    },
    {
     "name": "stdout",
     "output_type": "stream",
     "text": [
      "\r",
      "Epoch 473/600:  79%|███████▉  | 473/600 [31:08<08:21,  3.95s/it, v_num=p2_1, total_loss_train=854, kl_local_train=53.2, tardis_age_0_train=11.6, tardis_integration_donor_0_train=13.6]"
     ]
    },
    {
     "name": "stdout",
     "output_type": "stream",
     "text": [
      "\r",
      "Epoch 474/600:  79%|███████▉  | 473/600 [31:08<08:21,  3.95s/it, v_num=p2_1, total_loss_train=854, kl_local_train=53.2, tardis_age_0_train=11.6, tardis_integration_donor_0_train=13.6]"
     ]
    },
    {
     "name": "stdout",
     "output_type": "stream",
     "text": [
      "\r",
      "Epoch 474/600:  79%|███████▉  | 474/600 [31:12<08:17,  3.95s/it, v_num=p2_1, total_loss_train=854, kl_local_train=53.2, tardis_age_0_train=11.6, tardis_integration_donor_0_train=13.6]"
     ]
    },
    {
     "name": "stdout",
     "output_type": "stream",
     "text": [
      "\r",
      "Epoch 474/600:  79%|███████▉  | 474/600 [31:12<08:17,  3.95s/it, v_num=p2_1, total_loss_train=854, kl_local_train=53.6, tardis_age_0_train=11.4, tardis_integration_donor_0_train=13.2]"
     ]
    },
    {
     "name": "stdout",
     "output_type": "stream",
     "text": [
      "\r",
      "Epoch 475/600:  79%|███████▉  | 474/600 [31:12<08:17,  3.95s/it, v_num=p2_1, total_loss_train=854, kl_local_train=53.6, tardis_age_0_train=11.4, tardis_integration_donor_0_train=13.2]"
     ]
    },
    {
     "name": "stdout",
     "output_type": "stream",
     "text": [
      "\r",
      "Epoch 475/600:  79%|███████▉  | 475/600 [31:16<08:13,  3.95s/it, v_num=p2_1, total_loss_train=854, kl_local_train=53.6, tardis_age_0_train=11.4, tardis_integration_donor_0_train=13.2]"
     ]
    },
    {
     "name": "stdout",
     "output_type": "stream",
     "text": [
      "\r",
      "Epoch 475/600:  79%|███████▉  | 475/600 [31:16<08:13,  3.95s/it, v_num=p2_1, total_loss_train=854, kl_local_train=53.2, tardis_age_0_train=11.7, tardis_integration_donor_0_train=13.5]"
     ]
    },
    {
     "name": "stdout",
     "output_type": "stream",
     "text": [
      "\r",
      "Epoch 476/600:  79%|███████▉  | 475/600 [31:16<08:13,  3.95s/it, v_num=p2_1, total_loss_train=854, kl_local_train=53.2, tardis_age_0_train=11.7, tardis_integration_donor_0_train=13.5]"
     ]
    },
    {
     "name": "stdout",
     "output_type": "stream",
     "text": [
      "\r",
      "Epoch 476/600:  79%|███████▉  | 476/600 [31:20<08:10,  3.96s/it, v_num=p2_1, total_loss_train=854, kl_local_train=53.2, tardis_age_0_train=11.7, tardis_integration_donor_0_train=13.5]"
     ]
    },
    {
     "name": "stdout",
     "output_type": "stream",
     "text": [
      "\r",
      "Epoch 476/600:  79%|███████▉  | 476/600 [31:20<08:10,  3.96s/it, v_num=p2_1, total_loss_train=854, kl_local_train=52.7, tardis_age_0_train=11.7, tardis_integration_donor_0_train=13.5]"
     ]
    },
    {
     "name": "stdout",
     "output_type": "stream",
     "text": [
      "\r",
      "Epoch 477/600:  79%|███████▉  | 476/600 [31:20<08:10,  3.96s/it, v_num=p2_1, total_loss_train=854, kl_local_train=52.7, tardis_age_0_train=11.7, tardis_integration_donor_0_train=13.5]"
     ]
    },
    {
     "name": "stdout",
     "output_type": "stream",
     "text": [
      "\r",
      "Epoch 477/600:  80%|███████▉  | 477/600 [31:24<08:05,  3.95s/it, v_num=p2_1, total_loss_train=854, kl_local_train=52.7, tardis_age_0_train=11.7, tardis_integration_donor_0_train=13.5]"
     ]
    },
    {
     "name": "stdout",
     "output_type": "stream",
     "text": [
      "\r",
      "Epoch 477/600:  80%|███████▉  | 477/600 [31:24<08:05,  3.95s/it, v_num=p2_1, total_loss_train=854, kl_local_train=52.9, tardis_age_0_train=11.8, tardis_integration_donor_0_train=13.5]"
     ]
    },
    {
     "name": "stdout",
     "output_type": "stream",
     "text": [
      "\r",
      "Epoch 478/600:  80%|███████▉  | 477/600 [31:24<08:05,  3.95s/it, v_num=p2_1, total_loss_train=854, kl_local_train=52.9, tardis_age_0_train=11.8, tardis_integration_donor_0_train=13.5]"
     ]
    },
    {
     "name": "stdout",
     "output_type": "stream",
     "text": [
      "\r",
      "Epoch 478/600:  80%|███████▉  | 478/600 [31:27<08:00,  3.93s/it, v_num=p2_1, total_loss_train=854, kl_local_train=52.9, tardis_age_0_train=11.8, tardis_integration_donor_0_train=13.5]"
     ]
    },
    {
     "name": "stdout",
     "output_type": "stream",
     "text": [
      "\r",
      "Epoch 478/600:  80%|███████▉  | 478/600 [31:27<08:00,  3.93s/it, v_num=p2_1, total_loss_train=854, kl_local_train=53.3, tardis_age_0_train=11.7, tardis_integration_donor_0_train=13.4]"
     ]
    },
    {
     "name": "stdout",
     "output_type": "stream",
     "text": [
      "\r",
      "Epoch 479/600:  80%|███████▉  | 478/600 [31:27<08:00,  3.93s/it, v_num=p2_1, total_loss_train=854, kl_local_train=53.3, tardis_age_0_train=11.7, tardis_integration_donor_0_train=13.4]"
     ]
    },
    {
     "name": "stdout",
     "output_type": "stream",
     "text": [
      "\r",
      "Epoch 479/600:  80%|███████▉  | 479/600 [31:31<07:55,  3.93s/it, v_num=p2_1, total_loss_train=854, kl_local_train=53.3, tardis_age_0_train=11.7, tardis_integration_donor_0_train=13.4]"
     ]
    },
    {
     "name": "stdout",
     "output_type": "stream",
     "text": [
      "\r",
      "Epoch 479/600:  80%|███████▉  | 479/600 [31:31<07:55,  3.93s/it, v_num=p2_1, total_loss_train=854, kl_local_train=52.9, tardis_age_0_train=11.8, tardis_integration_donor_0_train=13.6]"
     ]
    },
    {
     "name": "stdout",
     "output_type": "stream",
     "text": [
      "\r",
      "Epoch 480/600:  80%|███████▉  | 479/600 [31:31<07:55,  3.93s/it, v_num=p2_1, total_loss_train=854, kl_local_train=52.9, tardis_age_0_train=11.8, tardis_integration_donor_0_train=13.6]"
     ]
    },
    {
     "name": "stdout",
     "output_type": "stream",
     "text": [
      "\r",
      "Epoch 480/600:  80%|████████  | 480/600 [31:35<07:52,  3.94s/it, v_num=p2_1, total_loss_train=854, kl_local_train=52.9, tardis_age_0_train=11.8, tardis_integration_donor_0_train=13.6]"
     ]
    },
    {
     "name": "stdout",
     "output_type": "stream",
     "text": [
      "\r",
      "Epoch 480/600:  80%|████████  | 480/600 [31:35<07:52,  3.94s/it, v_num=p2_1, total_loss_train=853, kl_local_train=53.3, tardis_age_0_train=11.7, tardis_integration_donor_0_train=13.6]"
     ]
    },
    {
     "name": "stdout",
     "output_type": "stream",
     "text": [
      "\r",
      "Epoch 481/600:  80%|████████  | 480/600 [31:35<07:52,  3.94s/it, v_num=p2_1, total_loss_train=853, kl_local_train=53.3, tardis_age_0_train=11.7, tardis_integration_donor_0_train=13.6]"
     ]
    },
    {
     "name": "stdout",
     "output_type": "stream",
     "text": [
      "\r",
      "Epoch 481/600:  80%|████████  | 481/600 [31:39<07:47,  3.93s/it, v_num=p2_1, total_loss_train=853, kl_local_train=53.3, tardis_age_0_train=11.7, tardis_integration_donor_0_train=13.6]"
     ]
    },
    {
     "name": "stdout",
     "output_type": "stream",
     "text": [
      "\r",
      "Epoch 481/600:  80%|████████  | 481/600 [31:39<07:47,  3.93s/it, v_num=p2_1, total_loss_train=853, kl_local_train=53, tardis_age_0_train=11.7, tardis_integration_donor_0_train=13.4]  "
     ]
    },
    {
     "name": "stdout",
     "output_type": "stream",
     "text": [
      "\r",
      "Epoch 482/600:  80%|████████  | 481/600 [31:39<07:47,  3.93s/it, v_num=p2_1, total_loss_train=853, kl_local_train=53, tardis_age_0_train=11.7, tardis_integration_donor_0_train=13.4]"
     ]
    },
    {
     "name": "stdout",
     "output_type": "stream",
     "text": [
      "\r",
      "Epoch 482/600:  80%|████████  | 482/600 [31:43<07:43,  3.93s/it, v_num=p2_1, total_loss_train=853, kl_local_train=53, tardis_age_0_train=11.7, tardis_integration_donor_0_train=13.4]"
     ]
    },
    {
     "name": "stdout",
     "output_type": "stream",
     "text": [
      "\r",
      "Epoch 482/600:  80%|████████  | 482/600 [31:43<07:43,  3.93s/it, v_num=p2_1, total_loss_train=853, kl_local_train=52.5, tardis_age_0_train=11.8, tardis_integration_donor_0_train=13.7]"
     ]
    },
    {
     "name": "stdout",
     "output_type": "stream",
     "text": [
      "\r",
      "Epoch 483/600:  80%|████████  | 482/600 [31:43<07:43,  3.93s/it, v_num=p2_1, total_loss_train=853, kl_local_train=52.5, tardis_age_0_train=11.8, tardis_integration_donor_0_train=13.7]"
     ]
    },
    {
     "name": "stdout",
     "output_type": "stream",
     "text": [
      "\r",
      "Epoch 483/600:  80%|████████  | 483/600 [31:47<07:39,  3.93s/it, v_num=p2_1, total_loss_train=853, kl_local_train=52.5, tardis_age_0_train=11.8, tardis_integration_donor_0_train=13.7]"
     ]
    },
    {
     "name": "stdout",
     "output_type": "stream",
     "text": [
      "\r",
      "Epoch 483/600:  80%|████████  | 483/600 [31:47<07:39,  3.93s/it, v_num=p2_1, total_loss_train=853, kl_local_train=52.8, tardis_age_0_train=11.6, tardis_integration_donor_0_train=13.3]"
     ]
    },
    {
     "name": "stdout",
     "output_type": "stream",
     "text": [
      "\r",
      "Epoch 484/600:  80%|████████  | 483/600 [31:47<07:39,  3.93s/it, v_num=p2_1, total_loss_train=853, kl_local_train=52.8, tardis_age_0_train=11.6, tardis_integration_donor_0_train=13.3]"
     ]
    },
    {
     "name": "stdout",
     "output_type": "stream",
     "text": [
      "\r",
      "Epoch 484/600:  81%|████████  | 484/600 [31:51<07:34,  3.92s/it, v_num=p2_1, total_loss_train=853, kl_local_train=52.8, tardis_age_0_train=11.6, tardis_integration_donor_0_train=13.3]"
     ]
    },
    {
     "name": "stdout",
     "output_type": "stream",
     "text": [
      "\r",
      "Epoch 484/600:  81%|████████  | 484/600 [31:51<07:34,  3.92s/it, v_num=p2_1, total_loss_train=853, kl_local_train=52.4, tardis_age_0_train=11.8, tardis_integration_donor_0_train=13.7]"
     ]
    },
    {
     "name": "stdout",
     "output_type": "stream",
     "text": [
      "\r",
      "Epoch 485/600:  81%|████████  | 484/600 [31:51<07:34,  3.92s/it, v_num=p2_1, total_loss_train=853, kl_local_train=52.4, tardis_age_0_train=11.8, tardis_integration_donor_0_train=13.7]"
     ]
    },
    {
     "name": "stdout",
     "output_type": "stream",
     "text": [
      "\r",
      "Epoch 485/600:  81%|████████  | 485/600 [31:55<07:30,  3.92s/it, v_num=p2_1, total_loss_train=853, kl_local_train=52.4, tardis_age_0_train=11.8, tardis_integration_donor_0_train=13.7]"
     ]
    },
    {
     "name": "stdout",
     "output_type": "stream",
     "text": [
      "\r",
      "Epoch 485/600:  81%|████████  | 485/600 [31:55<07:30,  3.92s/it, v_num=p2_1, total_loss_train=853, kl_local_train=52.7, tardis_age_0_train=12, tardis_integration_donor_0_train=13.6]  "
     ]
    },
    {
     "name": "stdout",
     "output_type": "stream",
     "text": [
      "\r",
      "Epoch 486/600:  81%|████████  | 485/600 [31:55<07:30,  3.92s/it, v_num=p2_1, total_loss_train=853, kl_local_train=52.7, tardis_age_0_train=12, tardis_integration_donor_0_train=13.6]"
     ]
    },
    {
     "name": "stdout",
     "output_type": "stream",
     "text": [
      "\r",
      "Epoch 486/600:  81%|████████  | 486/600 [31:59<07:27,  3.92s/it, v_num=p2_1, total_loss_train=853, kl_local_train=52.7, tardis_age_0_train=12, tardis_integration_donor_0_train=13.6]"
     ]
    },
    {
     "name": "stdout",
     "output_type": "stream",
     "text": [
      "\r",
      "Epoch 486/600:  81%|████████  | 486/600 [31:59<07:27,  3.92s/it, v_num=p2_1, total_loss_train=853, kl_local_train=52.7, tardis_age_0_train=11.7, tardis_integration_donor_0_train=13.6]"
     ]
    },
    {
     "name": "stdout",
     "output_type": "stream",
     "text": [
      "\r",
      "Epoch 487/600:  81%|████████  | 486/600 [31:59<07:27,  3.92s/it, v_num=p2_1, total_loss_train=853, kl_local_train=52.7, tardis_age_0_train=11.7, tardis_integration_donor_0_train=13.6]"
     ]
    },
    {
     "name": "stdout",
     "output_type": "stream",
     "text": [
      "\r",
      "Epoch 487/600:  81%|████████  | 487/600 [32:03<07:23,  3.92s/it, v_num=p2_1, total_loss_train=853, kl_local_train=52.7, tardis_age_0_train=11.7, tardis_integration_donor_0_train=13.6]"
     ]
    },
    {
     "name": "stdout",
     "output_type": "stream",
     "text": [
      "\r",
      "Epoch 487/600:  81%|████████  | 487/600 [32:03<07:23,  3.92s/it, v_num=p2_1, total_loss_train=853, kl_local_train=52.2, tardis_age_0_train=11.7, tardis_integration_donor_0_train=13.7]"
     ]
    },
    {
     "name": "stdout",
     "output_type": "stream",
     "text": [
      "\r",
      "Epoch 488/600:  81%|████████  | 487/600 [32:03<07:23,  3.92s/it, v_num=p2_1, total_loss_train=853, kl_local_train=52.2, tardis_age_0_train=11.7, tardis_integration_donor_0_train=13.7]"
     ]
    },
    {
     "name": "stdout",
     "output_type": "stream",
     "text": [
      "\r",
      "Epoch 488/600:  81%|████████▏ | 488/600 [32:07<07:18,  3.92s/it, v_num=p2_1, total_loss_train=853, kl_local_train=52.2, tardis_age_0_train=11.7, tardis_integration_donor_0_train=13.7]"
     ]
    },
    {
     "name": "stdout",
     "output_type": "stream",
     "text": [
      "\r",
      "Epoch 488/600:  81%|████████▏ | 488/600 [32:07<07:18,  3.92s/it, v_num=p2_1, total_loss_train=852, kl_local_train=52.3, tardis_age_0_train=11.8, tardis_integration_donor_0_train=13.6]"
     ]
    },
    {
     "name": "stdout",
     "output_type": "stream",
     "text": [
      "\r",
      "Epoch 489/600:  81%|████████▏ | 488/600 [32:07<07:18,  3.92s/it, v_num=p2_1, total_loss_train=852, kl_local_train=52.3, tardis_age_0_train=11.8, tardis_integration_donor_0_train=13.6]"
     ]
    },
    {
     "name": "stdout",
     "output_type": "stream",
     "text": [
      "\r",
      "Epoch 489/600:  82%|████████▏ | 489/600 [32:11<07:15,  3.92s/it, v_num=p2_1, total_loss_train=852, kl_local_train=52.3, tardis_age_0_train=11.8, tardis_integration_donor_0_train=13.6]"
     ]
    },
    {
     "name": "stdout",
     "output_type": "stream",
     "text": [
      "\r",
      "Epoch 489/600:  82%|████████▏ | 489/600 [32:11<07:15,  3.92s/it, v_num=p2_1, total_loss_train=853, kl_local_train=52.5, tardis_age_0_train=11.8, tardis_integration_donor_0_train=13.8]"
     ]
    },
    {
     "name": "stdout",
     "output_type": "stream",
     "text": [
      "\r",
      "Epoch 490/600:  82%|████████▏ | 489/600 [32:11<07:15,  3.92s/it, v_num=p2_1, total_loss_train=853, kl_local_train=52.5, tardis_age_0_train=11.8, tardis_integration_donor_0_train=13.8]"
     ]
    },
    {
     "name": "stdout",
     "output_type": "stream",
     "text": [
      "\r",
      "Epoch 490/600:  82%|████████▏ | 490/600 [32:15<07:12,  3.93s/it, v_num=p2_1, total_loss_train=853, kl_local_train=52.5, tardis_age_0_train=11.8, tardis_integration_donor_0_train=13.8]"
     ]
    },
    {
     "name": "stdout",
     "output_type": "stream",
     "text": [
      "\r",
      "Epoch 490/600:  82%|████████▏ | 490/600 [32:15<07:12,  3.93s/it, v_num=p2_1, total_loss_train=853, kl_local_train=52.3, tardis_age_0_train=11.9, tardis_integration_donor_0_train=13.8]"
     ]
    },
    {
     "name": "stdout",
     "output_type": "stream",
     "text": [
      "\r",
      "Epoch 491/600:  82%|████████▏ | 490/600 [32:15<07:12,  3.93s/it, v_num=p2_1, total_loss_train=853, kl_local_train=52.3, tardis_age_0_train=11.9, tardis_integration_donor_0_train=13.8]"
     ]
    },
    {
     "name": "stdout",
     "output_type": "stream",
     "text": [
      "\r",
      "Epoch 491/600:  82%|████████▏ | 491/600 [32:18<07:06,  3.92s/it, v_num=p2_1, total_loss_train=853, kl_local_train=52.3, tardis_age_0_train=11.9, tardis_integration_donor_0_train=13.8]"
     ]
    },
    {
     "name": "stdout",
     "output_type": "stream",
     "text": [
      "\r",
      "Epoch 491/600:  82%|████████▏ | 491/600 [32:18<07:06,  3.92s/it, v_num=p2_1, total_loss_train=852, kl_local_train=52.5, tardis_age_0_train=11.8, tardis_integration_donor_0_train=13.6]"
     ]
    },
    {
     "name": "stdout",
     "output_type": "stream",
     "text": [
      "\r",
      "Epoch 492/600:  82%|████████▏ | 491/600 [32:18<07:06,  3.92s/it, v_num=p2_1, total_loss_train=852, kl_local_train=52.5, tardis_age_0_train=11.8, tardis_integration_donor_0_train=13.6]"
     ]
    },
    {
     "name": "stdout",
     "output_type": "stream",
     "text": [
      "\r",
      "Epoch 492/600:  82%|████████▏ | 492/600 [32:22<07:03,  3.92s/it, v_num=p2_1, total_loss_train=852, kl_local_train=52.5, tardis_age_0_train=11.8, tardis_integration_donor_0_train=13.6]"
     ]
    },
    {
     "name": "stdout",
     "output_type": "stream",
     "text": [
      "\r",
      "Epoch 492/600:  82%|████████▏ | 492/600 [32:22<07:03,  3.92s/it, v_num=p2_1, total_loss_train=853, kl_local_train=52.6, tardis_age_0_train=12, tardis_integration_donor_0_train=13.8]  "
     ]
    },
    {
     "name": "stdout",
     "output_type": "stream",
     "text": [
      "\r",
      "Epoch 493/600:  82%|████████▏ | 492/600 [32:22<07:03,  3.92s/it, v_num=p2_1, total_loss_train=853, kl_local_train=52.6, tardis_age_0_train=12, tardis_integration_donor_0_train=13.8]"
     ]
    },
    {
     "name": "stdout",
     "output_type": "stream",
     "text": [
      "\r",
      "Epoch 493/600:  82%|████████▏ | 493/600 [32:26<06:59,  3.92s/it, v_num=p2_1, total_loss_train=853, kl_local_train=52.6, tardis_age_0_train=12, tardis_integration_donor_0_train=13.8]"
     ]
    },
    {
     "name": "stdout",
     "output_type": "stream",
     "text": [
      "\r",
      "Epoch 493/600:  82%|████████▏ | 493/600 [32:26<06:59,  3.92s/it, v_num=p2_1, total_loss_train=852, kl_local_train=52.7, tardis_age_0_train=11.9, tardis_integration_donor_0_train=13.6]"
     ]
    },
    {
     "name": "stdout",
     "output_type": "stream",
     "text": [
      "\r",
      "Epoch 494/600:  82%|████████▏ | 493/600 [32:26<06:59,  3.92s/it, v_num=p2_1, total_loss_train=852, kl_local_train=52.7, tardis_age_0_train=11.9, tardis_integration_donor_0_train=13.6]"
     ]
    },
    {
     "name": "stdout",
     "output_type": "stream",
     "text": [
      "\r",
      "Epoch 494/600:  82%|████████▏ | 494/600 [32:30<06:56,  3.93s/it, v_num=p2_1, total_loss_train=852, kl_local_train=52.7, tardis_age_0_train=11.9, tardis_integration_donor_0_train=13.6]"
     ]
    },
    {
     "name": "stdout",
     "output_type": "stream",
     "text": [
      "\r",
      "Epoch 494/600:  82%|████████▏ | 494/600 [32:30<06:56,  3.93s/it, v_num=p2_1, total_loss_train=852, kl_local_train=52.4, tardis_age_0_train=11.8, tardis_integration_donor_0_train=13.7]"
     ]
    },
    {
     "name": "stdout",
     "output_type": "stream",
     "text": [
      "\r",
      "Epoch 495/600:  82%|████████▏ | 494/600 [32:30<06:56,  3.93s/it, v_num=p2_1, total_loss_train=852, kl_local_train=52.4, tardis_age_0_train=11.8, tardis_integration_donor_0_train=13.7]"
     ]
    },
    {
     "name": "stdout",
     "output_type": "stream",
     "text": [
      "\r",
      "Epoch 495/600:  82%|████████▎ | 495/600 [32:34<06:52,  3.93s/it, v_num=p2_1, total_loss_train=852, kl_local_train=52.4, tardis_age_0_train=11.8, tardis_integration_donor_0_train=13.7]"
     ]
    },
    {
     "name": "stdout",
     "output_type": "stream",
     "text": [
      "\r",
      "Epoch 495/600:  82%|████████▎ | 495/600 [32:34<06:52,  3.93s/it, v_num=p2_1, total_loss_train=852, kl_local_train=51.9, tardis_age_0_train=12.1, tardis_integration_donor_0_train=13.8]"
     ]
    },
    {
     "name": "stdout",
     "output_type": "stream",
     "text": [
      "\r",
      "Epoch 496/600:  82%|████████▎ | 495/600 [32:34<06:52,  3.93s/it, v_num=p2_1, total_loss_train=852, kl_local_train=51.9, tardis_age_0_train=12.1, tardis_integration_donor_0_train=13.8]"
     ]
    },
    {
     "name": "stdout",
     "output_type": "stream",
     "text": [
      "\r",
      "Epoch 496/600:  83%|████████▎ | 496/600 [32:38<06:48,  3.92s/it, v_num=p2_1, total_loss_train=852, kl_local_train=51.9, tardis_age_0_train=12.1, tardis_integration_donor_0_train=13.8]"
     ]
    },
    {
     "name": "stdout",
     "output_type": "stream",
     "text": [
      "\r",
      "Epoch 496/600:  83%|████████▎ | 496/600 [32:38<06:48,  3.92s/it, v_num=p2_1, total_loss_train=852, kl_local_train=52.3, tardis_age_0_train=12, tardis_integration_donor_0_train=13.9]  "
     ]
    },
    {
     "name": "stdout",
     "output_type": "stream",
     "text": [
      "\r",
      "Epoch 497/600:  83%|████████▎ | 496/600 [32:38<06:48,  3.92s/it, v_num=p2_1, total_loss_train=852, kl_local_train=52.3, tardis_age_0_train=12, tardis_integration_donor_0_train=13.9]"
     ]
    },
    {
     "name": "stdout",
     "output_type": "stream",
     "text": [
      "\r",
      "Epoch 497/600:  83%|████████▎ | 497/600 [32:42<06:43,  3.92s/it, v_num=p2_1, total_loss_train=852, kl_local_train=52.3, tardis_age_0_train=12, tardis_integration_donor_0_train=13.9]"
     ]
    },
    {
     "name": "stdout",
     "output_type": "stream",
     "text": [
      "\r",
      "Epoch 497/600:  83%|████████▎ | 497/600 [32:42<06:43,  3.92s/it, v_num=p2_1, total_loss_train=851, kl_local_train=52.1, tardis_age_0_train=11.9, tardis_integration_donor_0_train=13.8]"
     ]
    },
    {
     "name": "stdout",
     "output_type": "stream",
     "text": [
      "\r",
      "Epoch 498/600:  83%|████████▎ | 497/600 [32:42<06:43,  3.92s/it, v_num=p2_1, total_loss_train=851, kl_local_train=52.1, tardis_age_0_train=11.9, tardis_integration_donor_0_train=13.8]"
     ]
    },
    {
     "name": "stdout",
     "output_type": "stream",
     "text": [
      "\r",
      "Epoch 498/600:  83%|████████▎ | 498/600 [32:46<06:40,  3.92s/it, v_num=p2_1, total_loss_train=851, kl_local_train=52.1, tardis_age_0_train=11.9, tardis_integration_donor_0_train=13.8]"
     ]
    },
    {
     "name": "stdout",
     "output_type": "stream",
     "text": [
      "\r",
      "Epoch 498/600:  83%|████████▎ | 498/600 [32:46<06:40,  3.92s/it, v_num=p2_1, total_loss_train=852, kl_local_train=51.9, tardis_age_0_train=12, tardis_integration_donor_0_train=13.8]  "
     ]
    },
    {
     "name": "stdout",
     "output_type": "stream",
     "text": [
      "\r",
      "Epoch 499/600:  83%|████████▎ | 498/600 [32:46<06:40,  3.92s/it, v_num=p2_1, total_loss_train=852, kl_local_train=51.9, tardis_age_0_train=12, tardis_integration_donor_0_train=13.8]"
     ]
    },
    {
     "name": "stdout",
     "output_type": "stream",
     "text": [
      "\r",
      "Epoch 499/600:  83%|████████▎ | 499/600 [32:50<06:36,  3.92s/it, v_num=p2_1, total_loss_train=852, kl_local_train=51.9, tardis_age_0_train=12, tardis_integration_donor_0_train=13.8]"
     ]
    },
    {
     "name": "stdout",
     "output_type": "stream",
     "text": [
      "\r",
      "Epoch 499/600:  83%|████████▎ | 499/600 [32:50<06:36,  3.92s/it, v_num=p2_1, total_loss_train=852, kl_local_train=52.1, tardis_age_0_train=11.9, tardis_integration_donor_0_train=13.7]"
     ]
    },
    {
     "name": "stdout",
     "output_type": "stream",
     "text": [
      "\r",
      "Epoch 500/600:  83%|████████▎ | 499/600 [32:50<06:36,  3.92s/it, v_num=p2_1, total_loss_train=852, kl_local_train=52.1, tardis_age_0_train=11.9, tardis_integration_donor_0_train=13.7]"
     ]
    },
    {
     "name": "stdout",
     "output_type": "stream",
     "text": [
      "\r",
      "Epoch 500/600:  83%|████████▎ | 500/600 [32:54<06:32,  3.92s/it, v_num=p2_1, total_loss_train=852, kl_local_train=52.1, tardis_age_0_train=11.9, tardis_integration_donor_0_train=13.7]"
     ]
    },
    {
     "name": "stdout",
     "output_type": "stream",
     "text": [
      "\r",
      "Epoch 500/600:  83%|████████▎ | 500/600 [32:54<06:32,  3.92s/it, v_num=p2_1, total_loss_train=851, kl_local_train=52, tardis_age_0_train=12, tardis_integration_donor_0_train=13.9]    "
     ]
    },
    {
     "name": "stdout",
     "output_type": "stream",
     "text": [
      "\r",
      "Epoch 501/600:  83%|████████▎ | 500/600 [32:54<06:32,  3.92s/it, v_num=p2_1, total_loss_train=851, kl_local_train=52, tardis_age_0_train=12, tardis_integration_donor_0_train=13.9]"
     ]
    },
    {
     "name": "stdout",
     "output_type": "stream",
     "text": [
      "\r",
      "Epoch 501/600:  84%|████████▎ | 501/600 [32:58<06:28,  3.92s/it, v_num=p2_1, total_loss_train=851, kl_local_train=52, tardis_age_0_train=12, tardis_integration_donor_0_train=13.9]"
     ]
    },
    {
     "name": "stdout",
     "output_type": "stream",
     "text": [
      "\r",
      "Epoch 501/600:  84%|████████▎ | 501/600 [32:58<06:28,  3.92s/it, v_num=p2_1, total_loss_train=851, kl_local_train=52.1, tardis_age_0_train=12.1, tardis_integration_donor_0_train=13.9]"
     ]
    },
    {
     "name": "stdout",
     "output_type": "stream",
     "text": [
      "\r",
      "Epoch 502/600:  84%|████████▎ | 501/600 [32:58<06:28,  3.92s/it, v_num=p2_1, total_loss_train=851, kl_local_train=52.1, tardis_age_0_train=12.1, tardis_integration_donor_0_train=13.9]"
     ]
    },
    {
     "name": "stdout",
     "output_type": "stream",
     "text": [
      "\r",
      "Epoch 502/600:  84%|████████▎ | 502/600 [33:02<06:22,  3.91s/it, v_num=p2_1, total_loss_train=851, kl_local_train=52.1, tardis_age_0_train=12.1, tardis_integration_donor_0_train=13.9]"
     ]
    },
    {
     "name": "stdout",
     "output_type": "stream",
     "text": [
      "\r",
      "Epoch 502/600:  84%|████████▎ | 502/600 [33:02<06:22,  3.91s/it, v_num=p2_1, total_loss_train=851, kl_local_train=52, tardis_age_0_train=12, tardis_integration_donor_0_train=13.9]    "
     ]
    },
    {
     "name": "stdout",
     "output_type": "stream",
     "text": [
      "\r",
      "Epoch 503/600:  84%|████████▎ | 502/600 [33:02<06:22,  3.91s/it, v_num=p2_1, total_loss_train=851, kl_local_train=52, tardis_age_0_train=12, tardis_integration_donor_0_train=13.9]"
     ]
    },
    {
     "name": "stdout",
     "output_type": "stream",
     "text": [
      "\r",
      "Epoch 503/600:  84%|████████▍ | 503/600 [33:05<06:19,  3.92s/it, v_num=p2_1, total_loss_train=851, kl_local_train=52, tardis_age_0_train=12, tardis_integration_donor_0_train=13.9]"
     ]
    },
    {
     "name": "stdout",
     "output_type": "stream",
     "text": [
      "\r",
      "Epoch 503/600:  84%|████████▍ | 503/600 [33:05<06:19,  3.92s/it, v_num=p2_1, total_loss_train=852, kl_local_train=52.1, tardis_age_0_train=11.9, tardis_integration_donor_0_train=13.9]"
     ]
    },
    {
     "name": "stdout",
     "output_type": "stream",
     "text": [
      "\r",
      "Epoch 504/600:  84%|████████▍ | 503/600 [33:05<06:19,  3.92s/it, v_num=p2_1, total_loss_train=852, kl_local_train=52.1, tardis_age_0_train=11.9, tardis_integration_donor_0_train=13.9]"
     ]
    },
    {
     "name": "stdout",
     "output_type": "stream",
     "text": [
      "\r",
      "Epoch 504/600:  84%|████████▍ | 504/600 [33:09<06:15,  3.91s/it, v_num=p2_1, total_loss_train=852, kl_local_train=52.1, tardis_age_0_train=11.9, tardis_integration_donor_0_train=13.9]"
     ]
    },
    {
     "name": "stdout",
     "output_type": "stream",
     "text": [
      "\r",
      "Epoch 504/600:  84%|████████▍ | 504/600 [33:09<06:15,  3.91s/it, v_num=p2_1, total_loss_train=851, kl_local_train=51.9, tardis_age_0_train=12.2, tardis_integration_donor_0_train=14.1]"
     ]
    },
    {
     "name": "stdout",
     "output_type": "stream",
     "text": [
      "\r",
      "Epoch 505/600:  84%|████████▍ | 504/600 [33:09<06:15,  3.91s/it, v_num=p2_1, total_loss_train=851, kl_local_train=51.9, tardis_age_0_train=12.2, tardis_integration_donor_0_train=14.1]"
     ]
    },
    {
     "name": "stdout",
     "output_type": "stream",
     "text": [
      "\r",
      "Epoch 505/600:  84%|████████▍ | 505/600 [33:13<06:12,  3.93s/it, v_num=p2_1, total_loss_train=851, kl_local_train=51.9, tardis_age_0_train=12.2, tardis_integration_donor_0_train=14.1]"
     ]
    },
    {
     "name": "stdout",
     "output_type": "stream",
     "text": [
      "\r",
      "Epoch 505/600:  84%|████████▍ | 505/600 [33:13<06:12,  3.93s/it, v_num=p2_1, total_loss_train=850, kl_local_train=52.4, tardis_age_0_train=11.9, tardis_integration_donor_0_train=13.7]"
     ]
    },
    {
     "name": "stdout",
     "output_type": "stream",
     "text": [
      "\r",
      "Epoch 506/600:  84%|████████▍ | 505/600 [33:13<06:12,  3.93s/it, v_num=p2_1, total_loss_train=850, kl_local_train=52.4, tardis_age_0_train=11.9, tardis_integration_donor_0_train=13.7]"
     ]
    },
    {
     "name": "stdout",
     "output_type": "stream",
     "text": [
      "\r",
      "Epoch 506/600:  84%|████████▍ | 506/600 [33:17<06:09,  3.93s/it, v_num=p2_1, total_loss_train=850, kl_local_train=52.4, tardis_age_0_train=11.9, tardis_integration_donor_0_train=13.7]"
     ]
    },
    {
     "name": "stdout",
     "output_type": "stream",
     "text": [
      "\r",
      "Epoch 506/600:  84%|████████▍ | 506/600 [33:17<06:09,  3.93s/it, v_num=p2_1, total_loss_train=851, kl_local_train=51.9, tardis_age_0_train=11.9, tardis_integration_donor_0_train=13.7]"
     ]
    },
    {
     "name": "stdout",
     "output_type": "stream",
     "text": [
      "\r",
      "Epoch 507/600:  84%|████████▍ | 506/600 [33:17<06:09,  3.93s/it, v_num=p2_1, total_loss_train=851, kl_local_train=51.9, tardis_age_0_train=11.9, tardis_integration_donor_0_train=13.7]"
     ]
    },
    {
     "name": "stdout",
     "output_type": "stream",
     "text": [
      "\r",
      "Epoch 507/600:  84%|████████▍ | 507/600 [33:21<06:05,  3.93s/it, v_num=p2_1, total_loss_train=851, kl_local_train=51.9, tardis_age_0_train=11.9, tardis_integration_donor_0_train=13.7]"
     ]
    },
    {
     "name": "stdout",
     "output_type": "stream",
     "text": [
      "\r",
      "Epoch 507/600:  84%|████████▍ | 507/600 [33:21<06:05,  3.93s/it, v_num=p2_1, total_loss_train=851, kl_local_train=51.4, tardis_age_0_train=12.1, tardis_integration_donor_0_train=14.1]"
     ]
    },
    {
     "name": "stdout",
     "output_type": "stream",
     "text": [
      "\r",
      "Epoch 508/600:  84%|████████▍ | 507/600 [33:21<06:05,  3.93s/it, v_num=p2_1, total_loss_train=851, kl_local_train=51.4, tardis_age_0_train=12.1, tardis_integration_donor_0_train=14.1]"
     ]
    },
    {
     "name": "stdout",
     "output_type": "stream",
     "text": [
      "\r",
      "Epoch 508/600:  85%|████████▍ | 508/600 [33:25<06:01,  3.93s/it, v_num=p2_1, total_loss_train=851, kl_local_train=51.4, tardis_age_0_train=12.1, tardis_integration_donor_0_train=14.1]"
     ]
    },
    {
     "name": "stdout",
     "output_type": "stream",
     "text": [
      "\r",
      "Epoch 508/600:  85%|████████▍ | 508/600 [33:25<06:01,  3.93s/it, v_num=p2_1, total_loss_train=851, kl_local_train=51.3, tardis_age_0_train=11.9, tardis_integration_donor_0_train=13.9]"
     ]
    },
    {
     "name": "stdout",
     "output_type": "stream",
     "text": [
      "\r",
      "Epoch 509/600:  85%|████████▍ | 508/600 [33:25<06:01,  3.93s/it, v_num=p2_1, total_loss_train=851, kl_local_train=51.3, tardis_age_0_train=11.9, tardis_integration_donor_0_train=13.9]"
     ]
    },
    {
     "name": "stdout",
     "output_type": "stream",
     "text": [
      "\r",
      "Epoch 509/600:  85%|████████▍ | 509/600 [33:29<05:59,  3.95s/it, v_num=p2_1, total_loss_train=851, kl_local_train=51.3, tardis_age_0_train=11.9, tardis_integration_donor_0_train=13.9]"
     ]
    },
    {
     "name": "stdout",
     "output_type": "stream",
     "text": [
      "\r",
      "Epoch 509/600:  85%|████████▍ | 509/600 [33:29<05:59,  3.95s/it, v_num=p2_1, total_loss_train=850, kl_local_train=51.5, tardis_age_0_train=12.1, tardis_integration_donor_0_train=14.1]"
     ]
    },
    {
     "name": "stdout",
     "output_type": "stream",
     "text": [
      "\r",
      "Epoch 510/600:  85%|████████▍ | 509/600 [33:29<05:59,  3.95s/it, v_num=p2_1, total_loss_train=850, kl_local_train=51.5, tardis_age_0_train=12.1, tardis_integration_donor_0_train=14.1]"
     ]
    },
    {
     "name": "stdout",
     "output_type": "stream",
     "text": [
      "\r",
      "Epoch 510/600:  85%|████████▌ | 510/600 [33:33<05:55,  3.95s/it, v_num=p2_1, total_loss_train=850, kl_local_train=51.5, tardis_age_0_train=12.1, tardis_integration_donor_0_train=14.1]"
     ]
    },
    {
     "name": "stdout",
     "output_type": "stream",
     "text": [
      "\r",
      "Epoch 510/600:  85%|████████▌ | 510/600 [33:33<05:55,  3.95s/it, v_num=p2_1, total_loss_train=850, kl_local_train=52, tardis_age_0_train=11.9, tardis_integration_donor_0_train=13.9]  "
     ]
    },
    {
     "name": "stdout",
     "output_type": "stream",
     "text": [
      "\r",
      "Epoch 511/600:  85%|████████▌ | 510/600 [33:33<05:55,  3.95s/it, v_num=p2_1, total_loss_train=850, kl_local_train=52, tardis_age_0_train=11.9, tardis_integration_donor_0_train=13.9]"
     ]
    },
    {
     "name": "stdout",
     "output_type": "stream",
     "text": [
      "\r",
      "Epoch 511/600:  85%|████████▌ | 511/600 [33:37<05:51,  3.94s/it, v_num=p2_1, total_loss_train=850, kl_local_train=52, tardis_age_0_train=11.9, tardis_integration_donor_0_train=13.9]"
     ]
    },
    {
     "name": "stdout",
     "output_type": "stream",
     "text": [
      "\r",
      "Epoch 511/600:  85%|████████▌ | 511/600 [33:37<05:51,  3.94s/it, v_num=p2_1, total_loss_train=850, kl_local_train=51.7, tardis_age_0_train=12, tardis_integration_donor_0_train=13.9]"
     ]
    },
    {
     "name": "stdout",
     "output_type": "stream",
     "text": [
      "\r",
      "Epoch 512/600:  85%|████████▌ | 511/600 [33:37<05:51,  3.94s/it, v_num=p2_1, total_loss_train=850, kl_local_train=51.7, tardis_age_0_train=12, tardis_integration_donor_0_train=13.9]"
     ]
    },
    {
     "name": "stdout",
     "output_type": "stream",
     "text": [
      "\r",
      "Epoch 512/600:  85%|████████▌ | 512/600 [33:41<05:47,  3.95s/it, v_num=p2_1, total_loss_train=850, kl_local_train=51.7, tardis_age_0_train=12, tardis_integration_donor_0_train=13.9]"
     ]
    },
    {
     "name": "stdout",
     "output_type": "stream",
     "text": [
      "\r",
      "Epoch 512/600:  85%|████████▌ | 512/600 [33:41<05:47,  3.95s/it, v_num=p2_1, total_loss_train=850, kl_local_train=51.4, tardis_age_0_train=11.9, tardis_integration_donor_0_train=14]"
     ]
    },
    {
     "name": "stdout",
     "output_type": "stream",
     "text": [
      "\r",
      "Epoch 513/600:  85%|████████▌ | 512/600 [33:41<05:47,  3.95s/it, v_num=p2_1, total_loss_train=850, kl_local_train=51.4, tardis_age_0_train=11.9, tardis_integration_donor_0_train=14]"
     ]
    },
    {
     "name": "stdout",
     "output_type": "stream",
     "text": [
      "\r",
      "Epoch 513/600:  86%|████████▌ | 513/600 [33:45<05:47,  4.00s/it, v_num=p2_1, total_loss_train=850, kl_local_train=51.4, tardis_age_0_train=11.9, tardis_integration_donor_0_train=14]"
     ]
    },
    {
     "name": "stdout",
     "output_type": "stream",
     "text": [
      "\r",
      "Epoch 513/600:  86%|████████▌ | 513/600 [33:45<05:47,  4.00s/it, v_num=p2_1, total_loss_train=850, kl_local_train=51.3, tardis_age_0_train=12.2, tardis_integration_donor_0_train=14]"
     ]
    },
    {
     "name": "stdout",
     "output_type": "stream",
     "text": [
      "\r",
      "Epoch 514/600:  86%|████████▌ | 513/600 [33:45<05:47,  4.00s/it, v_num=p2_1, total_loss_train=850, kl_local_train=51.3, tardis_age_0_train=12.2, tardis_integration_donor_0_train=14]"
     ]
    },
    {
     "name": "stdout",
     "output_type": "stream",
     "text": [
      "\r",
      "Epoch 514/600:  86%|████████▌ | 514/600 [33:49<05:42,  3.98s/it, v_num=p2_1, total_loss_train=850, kl_local_train=51.3, tardis_age_0_train=12.2, tardis_integration_donor_0_train=14]"
     ]
    },
    {
     "name": "stdout",
     "output_type": "stream",
     "text": [
      "\r",
      "Epoch 514/600:  86%|████████▌ | 514/600 [33:49<05:42,  3.98s/it, v_num=p2_1, total_loss_train=850, kl_local_train=51.6, tardis_age_0_train=12, tardis_integration_donor_0_train=13.9]"
     ]
    },
    {
     "name": "stdout",
     "output_type": "stream",
     "text": [
      "\r",
      "Epoch 515/600:  86%|████████▌ | 514/600 [33:49<05:42,  3.98s/it, v_num=p2_1, total_loss_train=850, kl_local_train=51.6, tardis_age_0_train=12, tardis_integration_donor_0_train=13.9]"
     ]
    },
    {
     "name": "stdout",
     "output_type": "stream",
     "text": [
      "\r",
      "Epoch 515/600:  86%|████████▌ | 515/600 [33:53<05:38,  3.98s/it, v_num=p2_1, total_loss_train=850, kl_local_train=51.6, tardis_age_0_train=12, tardis_integration_donor_0_train=13.9]"
     ]
    },
    {
     "name": "stdout",
     "output_type": "stream",
     "text": [
      "\r",
      "Epoch 515/600:  86%|████████▌ | 515/600 [33:53<05:38,  3.98s/it, v_num=p2_1, total_loss_train=850, kl_local_train=51.2, tardis_age_0_train=12.1, tardis_integration_donor_0_train=14]"
     ]
    },
    {
     "name": "stdout",
     "output_type": "stream",
     "text": [
      "\r",
      "Epoch 516/600:  86%|████████▌ | 515/600 [33:53<05:38,  3.98s/it, v_num=p2_1, total_loss_train=850, kl_local_train=51.2, tardis_age_0_train=12.1, tardis_integration_donor_0_train=14]"
     ]
    },
    {
     "name": "stdout",
     "output_type": "stream",
     "text": [
      "\r",
      "Epoch 516/600:  86%|████████▌ | 516/600 [33:57<05:33,  3.97s/it, v_num=p2_1, total_loss_train=850, kl_local_train=51.2, tardis_age_0_train=12.1, tardis_integration_donor_0_train=14]"
     ]
    },
    {
     "name": "stdout",
     "output_type": "stream",
     "text": [
      "\r",
      "Epoch 516/600:  86%|████████▌ | 516/600 [33:57<05:33,  3.97s/it, v_num=p2_1, total_loss_train=850, kl_local_train=51.3, tardis_age_0_train=12.1, tardis_integration_donor_0_train=14]"
     ]
    },
    {
     "name": "stdout",
     "output_type": "stream",
     "text": [
      "\r",
      "Epoch 517/600:  86%|████████▌ | 516/600 [33:57<05:33,  3.97s/it, v_num=p2_1, total_loss_train=850, kl_local_train=51.3, tardis_age_0_train=12.1, tardis_integration_donor_0_train=14]"
     ]
    },
    {
     "name": "stdout",
     "output_type": "stream",
     "text": [
      "\r",
      "Epoch 517/600:  86%|████████▌ | 517/600 [34:01<05:28,  3.96s/it, v_num=p2_1, total_loss_train=850, kl_local_train=51.3, tardis_age_0_train=12.1, tardis_integration_donor_0_train=14]"
     ]
    },
    {
     "name": "stdout",
     "output_type": "stream",
     "text": [
      "\r",
      "Epoch 517/600:  86%|████████▌ | 517/600 [34:01<05:28,  3.96s/it, v_num=p2_1, total_loss_train=850, kl_local_train=50.9, tardis_age_0_train=12, tardis_integration_donor_0_train=14.1]"
     ]
    },
    {
     "name": "stdout",
     "output_type": "stream",
     "text": [
      "\r",
      "Epoch 518/600:  86%|████████▌ | 517/600 [34:01<05:28,  3.96s/it, v_num=p2_1, total_loss_train=850, kl_local_train=50.9, tardis_age_0_train=12, tardis_integration_donor_0_train=14.1]"
     ]
    },
    {
     "name": "stdout",
     "output_type": "stream",
     "text": [
      "\r",
      "Epoch 518/600:  86%|████████▋ | 518/600 [34:05<05:23,  3.94s/it, v_num=p2_1, total_loss_train=850, kl_local_train=50.9, tardis_age_0_train=12, tardis_integration_donor_0_train=14.1]"
     ]
    },
    {
     "name": "stdout",
     "output_type": "stream",
     "text": [
      "\r",
      "Epoch 518/600:  86%|████████▋ | 518/600 [34:05<05:23,  3.94s/it, v_num=p2_1, total_loss_train=849, kl_local_train=50.8, tardis_age_0_train=12.3, tardis_integration_donor_0_train=14]"
     ]
    },
    {
     "name": "stdout",
     "output_type": "stream",
     "text": [
      "\r",
      "Epoch 519/600:  86%|████████▋ | 518/600 [34:05<05:23,  3.94s/it, v_num=p2_1, total_loss_train=849, kl_local_train=50.8, tardis_age_0_train=12.3, tardis_integration_donor_0_train=14]"
     ]
    },
    {
     "name": "stdout",
     "output_type": "stream",
     "text": [
      "\r",
      "Epoch 519/600:  86%|████████▋ | 519/600 [34:09<05:19,  3.94s/it, v_num=p2_1, total_loss_train=849, kl_local_train=50.8, tardis_age_0_train=12.3, tardis_integration_donor_0_train=14]"
     ]
    },
    {
     "name": "stdout",
     "output_type": "stream",
     "text": [
      "\r",
      "Epoch 519/600:  86%|████████▋ | 519/600 [34:09<05:19,  3.94s/it, v_num=p2_1, total_loss_train=850, kl_local_train=51, tardis_age_0_train=12.2, tardis_integration_donor_0_train=14.1]"
     ]
    },
    {
     "name": "stdout",
     "output_type": "stream",
     "text": [
      "\r",
      "Epoch 520/600:  86%|████████▋ | 519/600 [34:09<05:19,  3.94s/it, v_num=p2_1, total_loss_train=850, kl_local_train=51, tardis_age_0_train=12.2, tardis_integration_donor_0_train=14.1]"
     ]
    },
    {
     "name": "stdout",
     "output_type": "stream",
     "text": [
      "\r",
      "Epoch 520/600:  87%|████████▋ | 520/600 [34:13<05:15,  3.95s/it, v_num=p2_1, total_loss_train=850, kl_local_train=51, tardis_age_0_train=12.2, tardis_integration_donor_0_train=14.1]"
     ]
    },
    {
     "name": "stdout",
     "output_type": "stream",
     "text": [
      "\r",
      "Epoch 520/600:  87%|████████▋ | 520/600 [34:13<05:15,  3.95s/it, v_num=p2_1, total_loss_train=849, kl_local_train=51.3, tardis_age_0_train=12.1, tardis_integration_donor_0_train=13.9]"
     ]
    },
    {
     "name": "stdout",
     "output_type": "stream",
     "text": [
      "\r",
      "Epoch 521/600:  87%|████████▋ | 520/600 [34:13<05:15,  3.95s/it, v_num=p2_1, total_loss_train=849, kl_local_train=51.3, tardis_age_0_train=12.1, tardis_integration_donor_0_train=13.9]"
     ]
    },
    {
     "name": "stdout",
     "output_type": "stream",
     "text": [
      "\r",
      "Epoch 521/600:  87%|████████▋ | 521/600 [34:17<05:11,  3.94s/it, v_num=p2_1, total_loss_train=849, kl_local_train=51.3, tardis_age_0_train=12.1, tardis_integration_donor_0_train=13.9]"
     ]
    },
    {
     "name": "stdout",
     "output_type": "stream",
     "text": [
      "\r",
      "Epoch 521/600:  87%|████████▋ | 521/600 [34:17<05:11,  3.94s/it, v_num=p2_1, total_loss_train=849, kl_local_train=51.2, tardis_age_0_train=12.2, tardis_integration_donor_0_train=14.2]"
     ]
    },
    {
     "name": "stdout",
     "output_type": "stream",
     "text": [
      "\r",
      "Epoch 522/600:  87%|████████▋ | 521/600 [34:17<05:11,  3.94s/it, v_num=p2_1, total_loss_train=849, kl_local_train=51.2, tardis_age_0_train=12.2, tardis_integration_donor_0_train=14.2]"
     ]
    },
    {
     "name": "stdout",
     "output_type": "stream",
     "text": [
      "\r",
      "Epoch 522/600:  87%|████████▋ | 522/600 [34:21<05:06,  3.93s/it, v_num=p2_1, total_loss_train=849, kl_local_train=51.2, tardis_age_0_train=12.2, tardis_integration_donor_0_train=14.2]"
     ]
    },
    {
     "name": "stdout",
     "output_type": "stream",
     "text": [
      "\r",
      "Epoch 522/600:  87%|████████▋ | 522/600 [34:21<05:06,  3.93s/it, v_num=p2_1, total_loss_train=849, kl_local_train=51.4, tardis_age_0_train=12.1, tardis_integration_donor_0_train=14]  "
     ]
    },
    {
     "name": "stdout",
     "output_type": "stream",
     "text": [
      "\r",
      "Epoch 523/600:  87%|████████▋ | 522/600 [34:21<05:06,  3.93s/it, v_num=p2_1, total_loss_train=849, kl_local_train=51.4, tardis_age_0_train=12.1, tardis_integration_donor_0_train=14]"
     ]
    },
    {
     "name": "stdout",
     "output_type": "stream",
     "text": [
      "\r",
      "Epoch 523/600:  87%|████████▋ | 523/600 [34:24<05:02,  3.92s/it, v_num=p2_1, total_loss_train=849, kl_local_train=51.4, tardis_age_0_train=12.1, tardis_integration_donor_0_train=14]"
     ]
    },
    {
     "name": "stdout",
     "output_type": "stream",
     "text": [
      "\r",
      "Epoch 523/600:  87%|████████▋ | 523/600 [34:24<05:02,  3.92s/it, v_num=p2_1, total_loss_train=849, kl_local_train=51.1, tardis_age_0_train=12.2, tardis_integration_donor_0_train=13.8]"
     ]
    },
    {
     "name": "stdout",
     "output_type": "stream",
     "text": [
      "\r",
      "Epoch 524/600:  87%|████████▋ | 523/600 [34:24<05:02,  3.92s/it, v_num=p2_1, total_loss_train=849, kl_local_train=51.1, tardis_age_0_train=12.2, tardis_integration_donor_0_train=13.8]"
     ]
    },
    {
     "name": "stdout",
     "output_type": "stream",
     "text": [
      "\r",
      "Epoch 524/600:  87%|████████▋ | 524/600 [34:28<04:58,  3.92s/it, v_num=p2_1, total_loss_train=849, kl_local_train=51.1, tardis_age_0_train=12.2, tardis_integration_donor_0_train=13.8]"
     ]
    },
    {
     "name": "stdout",
     "output_type": "stream",
     "text": [
      "\r",
      "Epoch 524/600:  87%|████████▋ | 524/600 [34:28<04:58,  3.92s/it, v_num=p2_1, total_loss_train=849, kl_local_train=51.1, tardis_age_0_train=12.2, tardis_integration_donor_0_train=14.1]"
     ]
    },
    {
     "name": "stdout",
     "output_type": "stream",
     "text": [
      "\r",
      "Epoch 525/600:  87%|████████▋ | 524/600 [34:28<04:58,  3.92s/it, v_num=p2_1, total_loss_train=849, kl_local_train=51.1, tardis_age_0_train=12.2, tardis_integration_donor_0_train=14.1]"
     ]
    },
    {
     "name": "stdout",
     "output_type": "stream",
     "text": [
      "\r",
      "Epoch 525/600:  88%|████████▊ | 525/600 [34:32<04:55,  3.94s/it, v_num=p2_1, total_loss_train=849, kl_local_train=51.1, tardis_age_0_train=12.2, tardis_integration_donor_0_train=14.1]"
     ]
    },
    {
     "name": "stdout",
     "output_type": "stream",
     "text": [
      "\r",
      "Epoch 525/600:  88%|████████▊ | 525/600 [34:32<04:55,  3.94s/it, v_num=p2_1, total_loss_train=849, kl_local_train=50.8, tardis_age_0_train=12.1, tardis_integration_donor_0_train=14.2]"
     ]
    },
    {
     "name": "stdout",
     "output_type": "stream",
     "text": [
      "\r",
      "Epoch 526/600:  88%|████████▊ | 525/600 [34:32<04:55,  3.94s/it, v_num=p2_1, total_loss_train=849, kl_local_train=50.8, tardis_age_0_train=12.1, tardis_integration_donor_0_train=14.2]"
     ]
    },
    {
     "name": "stdout",
     "output_type": "stream",
     "text": [
      "\r",
      "Epoch 526/600:  88%|████████▊ | 526/600 [34:36<04:50,  3.93s/it, v_num=p2_1, total_loss_train=849, kl_local_train=50.8, tardis_age_0_train=12.1, tardis_integration_donor_0_train=14.2]"
     ]
    },
    {
     "name": "stdout",
     "output_type": "stream",
     "text": [
      "\r",
      "Epoch 526/600:  88%|████████▊ | 526/600 [34:36<04:50,  3.93s/it, v_num=p2_1, total_loss_train=848, kl_local_train=50.8, tardis_age_0_train=12.1, tardis_integration_donor_0_train=14.1]"
     ]
    },
    {
     "name": "stdout",
     "output_type": "stream",
     "text": [
      "\r",
      "Epoch 527/600:  88%|████████▊ | 526/600 [34:36<04:50,  3.93s/it, v_num=p2_1, total_loss_train=848, kl_local_train=50.8, tardis_age_0_train=12.1, tardis_integration_donor_0_train=14.1]"
     ]
    },
    {
     "name": "stdout",
     "output_type": "stream",
     "text": [
      "\r",
      "Epoch 527/600:  88%|████████▊ | 527/600 [34:40<04:46,  3.93s/it, v_num=p2_1, total_loss_train=848, kl_local_train=50.8, tardis_age_0_train=12.1, tardis_integration_donor_0_train=14.1]"
     ]
    },
    {
     "name": "stdout",
     "output_type": "stream",
     "text": [
      "\r",
      "Epoch 527/600:  88%|████████▊ | 527/600 [34:40<04:46,  3.93s/it, v_num=p2_1, total_loss_train=849, kl_local_train=50.6, tardis_age_0_train=12.2, tardis_integration_donor_0_train=14]  "
     ]
    },
    {
     "name": "stdout",
     "output_type": "stream",
     "text": [
      "\r",
      "Epoch 528/600:  88%|████████▊ | 527/600 [34:40<04:46,  3.93s/it, v_num=p2_1, total_loss_train=849, kl_local_train=50.6, tardis_age_0_train=12.2, tardis_integration_donor_0_train=14]"
     ]
    },
    {
     "name": "stdout",
     "output_type": "stream",
     "text": [
      "\r",
      "Epoch 528/600:  88%|████████▊ | 528/600 [34:44<04:43,  3.93s/it, v_num=p2_1, total_loss_train=849, kl_local_train=50.6, tardis_age_0_train=12.2, tardis_integration_donor_0_train=14]"
     ]
    },
    {
     "name": "stdout",
     "output_type": "stream",
     "text": [
      "\r",
      "Epoch 528/600:  88%|████████▊ | 528/600 [34:44<04:43,  3.93s/it, v_num=p2_1, total_loss_train=848, kl_local_train=50.6, tardis_age_0_train=12.3, tardis_integration_donor_0_train=14.3]"
     ]
    },
    {
     "name": "stdout",
     "output_type": "stream",
     "text": [
      "\r",
      "Epoch 529/600:  88%|████████▊ | 528/600 [34:44<04:43,  3.93s/it, v_num=p2_1, total_loss_train=848, kl_local_train=50.6, tardis_age_0_train=12.3, tardis_integration_donor_0_train=14.3]"
     ]
    },
    {
     "name": "stdout",
     "output_type": "stream",
     "text": [
      "\r",
      "Epoch 529/600:  88%|████████▊ | 529/600 [34:48<04:38,  3.93s/it, v_num=p2_1, total_loss_train=848, kl_local_train=50.6, tardis_age_0_train=12.3, tardis_integration_donor_0_train=14.3]"
     ]
    },
    {
     "name": "stdout",
     "output_type": "stream",
     "text": [
      "\r",
      "Epoch 529/600:  88%|████████▊ | 529/600 [34:48<04:38,  3.93s/it, v_num=p2_1, total_loss_train=849, kl_local_train=50.6, tardis_age_0_train=12.3, tardis_integration_donor_0_train=14.3]"
     ]
    },
    {
     "name": "stdout",
     "output_type": "stream",
     "text": [
      "\r",
      "Epoch 530/600:  88%|████████▊ | 529/600 [34:48<04:38,  3.93s/it, v_num=p2_1, total_loss_train=849, kl_local_train=50.6, tardis_age_0_train=12.3, tardis_integration_donor_0_train=14.3]"
     ]
    },
    {
     "name": "stdout",
     "output_type": "stream",
     "text": [
      "\r",
      "Epoch 530/600:  88%|████████▊ | 530/600 [34:52<04:34,  3.92s/it, v_num=p2_1, total_loss_train=849, kl_local_train=50.6, tardis_age_0_train=12.3, tardis_integration_donor_0_train=14.3]"
     ]
    },
    {
     "name": "stdout",
     "output_type": "stream",
     "text": [
      "\r",
      "Epoch 530/600:  88%|████████▊ | 530/600 [34:52<04:34,  3.92s/it, v_num=p2_1, total_loss_train=848, kl_local_train=50.8, tardis_age_0_train=12.3, tardis_integration_donor_0_train=14.1]"
     ]
    },
    {
     "name": "stdout",
     "output_type": "stream",
     "text": [
      "\r",
      "Epoch 531/600:  88%|████████▊ | 530/600 [34:52<04:34,  3.92s/it, v_num=p2_1, total_loss_train=848, kl_local_train=50.8, tardis_age_0_train=12.3, tardis_integration_donor_0_train=14.1]"
     ]
    },
    {
     "name": "stdout",
     "output_type": "stream",
     "text": [
      "\r",
      "Epoch 531/600:  88%|████████▊ | 531/600 [34:56<04:30,  3.93s/it, v_num=p2_1, total_loss_train=848, kl_local_train=50.8, tardis_age_0_train=12.3, tardis_integration_donor_0_train=14.1]"
     ]
    },
    {
     "name": "stdout",
     "output_type": "stream",
     "text": [
      "\r",
      "Epoch 531/600:  88%|████████▊ | 531/600 [34:56<04:30,  3.93s/it, v_num=p2_1, total_loss_train=848, kl_local_train=50.7, tardis_age_0_train=12.2, tardis_integration_donor_0_train=14.2]"
     ]
    },
    {
     "name": "stdout",
     "output_type": "stream",
     "text": [
      "\r",
      "Epoch 532/600:  88%|████████▊ | 531/600 [34:56<04:30,  3.93s/it, v_num=p2_1, total_loss_train=848, kl_local_train=50.7, tardis_age_0_train=12.2, tardis_integration_donor_0_train=14.2]"
     ]
    },
    {
     "name": "stdout",
     "output_type": "stream",
     "text": [
      "\r",
      "Epoch 532/600:  89%|████████▊ | 532/600 [35:00<04:27,  3.93s/it, v_num=p2_1, total_loss_train=848, kl_local_train=50.7, tardis_age_0_train=12.2, tardis_integration_donor_0_train=14.2]"
     ]
    },
    {
     "name": "stdout",
     "output_type": "stream",
     "text": [
      "\r",
      "Epoch 532/600:  89%|████████▊ | 532/600 [35:00<04:27,  3.93s/it, v_num=p2_1, total_loss_train=848, kl_local_train=50.6, tardis_age_0_train=12.2, tardis_integration_donor_0_train=14.2]"
     ]
    },
    {
     "name": "stdout",
     "output_type": "stream",
     "text": [
      "\r",
      "Epoch 533/600:  89%|████████▊ | 532/600 [35:00<04:27,  3.93s/it, v_num=p2_1, total_loss_train=848, kl_local_train=50.6, tardis_age_0_train=12.2, tardis_integration_donor_0_train=14.2]"
     ]
    },
    {
     "name": "stdout",
     "output_type": "stream",
     "text": [
      "\r",
      "Epoch 533/600:  89%|████████▉ | 533/600 [35:04<04:22,  3.92s/it, v_num=p2_1, total_loss_train=848, kl_local_train=50.6, tardis_age_0_train=12.2, tardis_integration_donor_0_train=14.2]"
     ]
    },
    {
     "name": "stdout",
     "output_type": "stream",
     "text": [
      "\r",
      "Epoch 533/600:  89%|████████▉ | 533/600 [35:04<04:22,  3.92s/it, v_num=p2_1, total_loss_train=848, kl_local_train=50.2, tardis_age_0_train=12.4, tardis_integration_donor_0_train=14.2]"
     ]
    },
    {
     "name": "stdout",
     "output_type": "stream",
     "text": [
      "\r",
      "Epoch 534/600:  89%|████████▉ | 533/600 [35:04<04:22,  3.92s/it, v_num=p2_1, total_loss_train=848, kl_local_train=50.2, tardis_age_0_train=12.4, tardis_integration_donor_0_train=14.2]"
     ]
    },
    {
     "name": "stdout",
     "output_type": "stream",
     "text": [
      "\r",
      "Epoch 534/600:  89%|████████▉ | 534/600 [35:08<04:18,  3.92s/it, v_num=p2_1, total_loss_train=848, kl_local_train=50.2, tardis_age_0_train=12.4, tardis_integration_donor_0_train=14.2]"
     ]
    },
    {
     "name": "stdout",
     "output_type": "stream",
     "text": [
      "\r",
      "Epoch 534/600:  89%|████████▉ | 534/600 [35:08<04:18,  3.92s/it, v_num=p2_1, total_loss_train=848, kl_local_train=50.2, tardis_age_0_train=12.4, tardis_integration_donor_0_train=14.4]"
     ]
    },
    {
     "name": "stdout",
     "output_type": "stream",
     "text": [
      "\r",
      "Epoch 535/600:  89%|████████▉ | 534/600 [35:08<04:18,  3.92s/it, v_num=p2_1, total_loss_train=848, kl_local_train=50.2, tardis_age_0_train=12.4, tardis_integration_donor_0_train=14.4]"
     ]
    },
    {
     "name": "stdout",
     "output_type": "stream",
     "text": [
      "\r",
      "Epoch 535/600:  89%|████████▉ | 535/600 [35:12<04:14,  3.92s/it, v_num=p2_1, total_loss_train=848, kl_local_train=50.2, tardis_age_0_train=12.4, tardis_integration_donor_0_train=14.4]"
     ]
    },
    {
     "name": "stdout",
     "output_type": "stream",
     "text": [
      "\r",
      "Epoch 535/600:  89%|████████▉ | 535/600 [35:12<04:14,  3.92s/it, v_num=p2_1, total_loss_train=848, kl_local_train=50.6, tardis_age_0_train=12.3, tardis_integration_donor_0_train=14.3]"
     ]
    },
    {
     "name": "stdout",
     "output_type": "stream",
     "text": [
      "\r",
      "Epoch 536/600:  89%|████████▉ | 535/600 [35:12<04:14,  3.92s/it, v_num=p2_1, total_loss_train=848, kl_local_train=50.6, tardis_age_0_train=12.3, tardis_integration_donor_0_train=14.3]"
     ]
    },
    {
     "name": "stdout",
     "output_type": "stream",
     "text": [
      "\r",
      "Epoch 536/600:  89%|████████▉ | 536/600 [35:15<04:11,  3.92s/it, v_num=p2_1, total_loss_train=848, kl_local_train=50.6, tardis_age_0_train=12.3, tardis_integration_donor_0_train=14.3]"
     ]
    },
    {
     "name": "stdout",
     "output_type": "stream",
     "text": [
      "\r",
      "Epoch 536/600:  89%|████████▉ | 536/600 [35:15<04:11,  3.92s/it, v_num=p2_1, total_loss_train=848, kl_local_train=50.8, tardis_age_0_train=12.2, tardis_integration_donor_0_train=14.2]"
     ]
    },
    {
     "name": "stdout",
     "output_type": "stream",
     "text": [
      "\r",
      "Epoch 537/600:  89%|████████▉ | 536/600 [35:15<04:11,  3.92s/it, v_num=p2_1, total_loss_train=848, kl_local_train=50.8, tardis_age_0_train=12.2, tardis_integration_donor_0_train=14.2]"
     ]
    },
    {
     "name": "stdout",
     "output_type": "stream",
     "text": [
      "\r",
      "Epoch 537/600:  90%|████████▉ | 537/600 [35:19<04:07,  3.93s/it, v_num=p2_1, total_loss_train=848, kl_local_train=50.8, tardis_age_0_train=12.2, tardis_integration_donor_0_train=14.2]"
     ]
    },
    {
     "name": "stdout",
     "output_type": "stream",
     "text": [
      "\r",
      "Epoch 537/600:  90%|████████▉ | 537/600 [35:19<04:07,  3.93s/it, v_num=p2_1, total_loss_train=847, kl_local_train=50.1, tardis_age_0_train=12.4, tardis_integration_donor_0_train=14.3]"
     ]
    },
    {
     "name": "stdout",
     "output_type": "stream",
     "text": [
      "\r",
      "Epoch 538/600:  90%|████████▉ | 537/600 [35:19<04:07,  3.93s/it, v_num=p2_1, total_loss_train=847, kl_local_train=50.1, tardis_age_0_train=12.4, tardis_integration_donor_0_train=14.3]"
     ]
    },
    {
     "name": "stdout",
     "output_type": "stream",
     "text": [
      "\r",
      "Epoch 538/600:  90%|████████▉ | 538/600 [35:23<04:03,  3.93s/it, v_num=p2_1, total_loss_train=847, kl_local_train=50.1, tardis_age_0_train=12.4, tardis_integration_donor_0_train=14.3]"
     ]
    },
    {
     "name": "stdout",
     "output_type": "stream",
     "text": [
      "\r",
      "Epoch 538/600:  90%|████████▉ | 538/600 [35:23<04:03,  3.93s/it, v_num=p2_1, total_loss_train=848, kl_local_train=50.2, tardis_age_0_train=12.4, tardis_integration_donor_0_train=14.3]"
     ]
    },
    {
     "name": "stdout",
     "output_type": "stream",
     "text": [
      "\r",
      "Epoch 539/600:  90%|████████▉ | 538/600 [35:23<04:03,  3.93s/it, v_num=p2_1, total_loss_train=848, kl_local_train=50.2, tardis_age_0_train=12.4, tardis_integration_donor_0_train=14.3]"
     ]
    },
    {
     "name": "stdout",
     "output_type": "stream",
     "text": [
      "\r",
      "Epoch 539/600:  90%|████████▉ | 539/600 [35:27<03:58,  3.91s/it, v_num=p2_1, total_loss_train=848, kl_local_train=50.2, tardis_age_0_train=12.4, tardis_integration_donor_0_train=14.3]"
     ]
    },
    {
     "name": "stdout",
     "output_type": "stream",
     "text": [
      "\r",
      "Epoch 539/600:  90%|████████▉ | 539/600 [35:27<03:58,  3.91s/it, v_num=p2_1, total_loss_train=848, kl_local_train=50.3, tardis_age_0_train=12.4, tardis_integration_donor_0_train=14.3]"
     ]
    },
    {
     "name": "stdout",
     "output_type": "stream",
     "text": [
      "\r",
      "Epoch 540/600:  90%|████████▉ | 539/600 [35:27<03:58,  3.91s/it, v_num=p2_1, total_loss_train=848, kl_local_train=50.3, tardis_age_0_train=12.4, tardis_integration_donor_0_train=14.3]"
     ]
    },
    {
     "name": "stdout",
     "output_type": "stream",
     "text": [
      "\r",
      "Epoch 540/600:  90%|█████████ | 540/600 [35:31<03:54,  3.91s/it, v_num=p2_1, total_loss_train=848, kl_local_train=50.3, tardis_age_0_train=12.4, tardis_integration_donor_0_train=14.3]"
     ]
    },
    {
     "name": "stdout",
     "output_type": "stream",
     "text": [
      "\r",
      "Epoch 540/600:  90%|█████████ | 540/600 [35:31<03:54,  3.91s/it, v_num=p2_1, total_loss_train=847, kl_local_train=50.2, tardis_age_0_train=12.3, tardis_integration_donor_0_train=14.4]"
     ]
    },
    {
     "name": "stdout",
     "output_type": "stream",
     "text": [
      "\r",
      "Epoch 541/600:  90%|█████████ | 540/600 [35:31<03:54,  3.91s/it, v_num=p2_1, total_loss_train=847, kl_local_train=50.2, tardis_age_0_train=12.3, tardis_integration_donor_0_train=14.4]"
     ]
    },
    {
     "name": "stdout",
     "output_type": "stream",
     "text": [
      "\r",
      "Epoch 541/600:  90%|█████████ | 541/600 [35:35<03:51,  3.92s/it, v_num=p2_1, total_loss_train=847, kl_local_train=50.2, tardis_age_0_train=12.3, tardis_integration_donor_0_train=14.4]"
     ]
    },
    {
     "name": "stdout",
     "output_type": "stream",
     "text": [
      "\r",
      "Epoch 541/600:  90%|█████████ | 541/600 [35:35<03:51,  3.92s/it, v_num=p2_1, total_loss_train=847, kl_local_train=50.2, tardis_age_0_train=12.4, tardis_integration_donor_0_train=14.4]"
     ]
    },
    {
     "name": "stdout",
     "output_type": "stream",
     "text": [
      "\r",
      "Epoch 542/600:  90%|█████████ | 541/600 [35:35<03:51,  3.92s/it, v_num=p2_1, total_loss_train=847, kl_local_train=50.2, tardis_age_0_train=12.4, tardis_integration_donor_0_train=14.4]"
     ]
    },
    {
     "name": "stdout",
     "output_type": "stream",
     "text": [
      "\r",
      "Epoch 542/600:  90%|█████████ | 542/600 [35:39<03:48,  3.93s/it, v_num=p2_1, total_loss_train=847, kl_local_train=50.2, tardis_age_0_train=12.4, tardis_integration_donor_0_train=14.4]"
     ]
    },
    {
     "name": "stdout",
     "output_type": "stream",
     "text": [
      "\r",
      "Epoch 542/600:  90%|█████████ | 542/600 [35:39<03:48,  3.93s/it, v_num=p2_1, total_loss_train=847, kl_local_train=50.1, tardis_age_0_train=12.3, tardis_integration_donor_0_train=14.1]"
     ]
    },
    {
     "name": "stdout",
     "output_type": "stream",
     "text": [
      "\r",
      "Epoch 543/600:  90%|█████████ | 542/600 [35:39<03:48,  3.93s/it, v_num=p2_1, total_loss_train=847, kl_local_train=50.1, tardis_age_0_train=12.3, tardis_integration_donor_0_train=14.1]"
     ]
    },
    {
     "name": "stdout",
     "output_type": "stream",
     "text": [
      "\r",
      "Epoch 543/600:  90%|█████████ | 543/600 [35:43<03:44,  3.93s/it, v_num=p2_1, total_loss_train=847, kl_local_train=50.1, tardis_age_0_train=12.3, tardis_integration_donor_0_train=14.1]"
     ]
    },
    {
     "name": "stdout",
     "output_type": "stream",
     "text": [
      "\r",
      "Epoch 543/600:  90%|█████████ | 543/600 [35:43<03:44,  3.93s/it, v_num=p2_1, total_loss_train=847, kl_local_train=49.9, tardis_age_0_train=12.4, tardis_integration_donor_0_train=14.3]"
     ]
    },
    {
     "name": "stdout",
     "output_type": "stream",
     "text": [
      "\r",
      "Epoch 544/600:  90%|█████████ | 543/600 [35:43<03:44,  3.93s/it, v_num=p2_1, total_loss_train=847, kl_local_train=49.9, tardis_age_0_train=12.4, tardis_integration_donor_0_train=14.3]"
     ]
    },
    {
     "name": "stdout",
     "output_type": "stream",
     "text": [
      "\r",
      "Epoch 544/600:  91%|█████████ | 544/600 [35:47<03:40,  3.93s/it, v_num=p2_1, total_loss_train=847, kl_local_train=49.9, tardis_age_0_train=12.4, tardis_integration_donor_0_train=14.3]"
     ]
    },
    {
     "name": "stdout",
     "output_type": "stream",
     "text": [
      "\r",
      "Epoch 544/600:  91%|█████████ | 544/600 [35:47<03:40,  3.93s/it, v_num=p2_1, total_loss_train=847, kl_local_train=50.2, tardis_age_0_train=12.4, tardis_integration_donor_0_train=14.4]"
     ]
    },
    {
     "name": "stdout",
     "output_type": "stream",
     "text": [
      "\r",
      "Epoch 545/600:  91%|█████████ | 544/600 [35:47<03:40,  3.93s/it, v_num=p2_1, total_loss_train=847, kl_local_train=50.2, tardis_age_0_train=12.4, tardis_integration_donor_0_train=14.4]"
     ]
    },
    {
     "name": "stdout",
     "output_type": "stream",
     "text": [
      "\r",
      "Epoch 545/600:  91%|█████████ | 545/600 [35:51<03:36,  3.93s/it, v_num=p2_1, total_loss_train=847, kl_local_train=50.2, tardis_age_0_train=12.4, tardis_integration_donor_0_train=14.4]"
     ]
    },
    {
     "name": "stdout",
     "output_type": "stream",
     "text": [
      "\r",
      "Epoch 545/600:  91%|█████████ | 545/600 [35:51<03:36,  3.93s/it, v_num=p2_1, total_loss_train=847, kl_local_train=50, tardis_age_0_train=12.5, tardis_integration_donor_0_train=14.4]  "
     ]
    },
    {
     "name": "stdout",
     "output_type": "stream",
     "text": [
      "\r",
      "Epoch 546/600:  91%|█████████ | 545/600 [35:51<03:36,  3.93s/it, v_num=p2_1, total_loss_train=847, kl_local_train=50, tardis_age_0_train=12.5, tardis_integration_donor_0_train=14.4]"
     ]
    },
    {
     "name": "stdout",
     "output_type": "stream",
     "text": [
      "\r",
      "Epoch 546/600:  91%|█████████ | 546/600 [35:55<03:31,  3.92s/it, v_num=p2_1, total_loss_train=847, kl_local_train=50, tardis_age_0_train=12.5, tardis_integration_donor_0_train=14.4]"
     ]
    },
    {
     "name": "stdout",
     "output_type": "stream",
     "text": [
      "\r",
      "Epoch 546/600:  91%|█████████ | 546/600 [35:55<03:31,  3.92s/it, v_num=p2_1, total_loss_train=847, kl_local_train=50, tardis_age_0_train=12.3, tardis_integration_donor_0_train=14.4]"
     ]
    },
    {
     "name": "stdout",
     "output_type": "stream",
     "text": [
      "\r",
      "Epoch 547/600:  91%|█████████ | 546/600 [35:55<03:31,  3.92s/it, v_num=p2_1, total_loss_train=847, kl_local_train=50, tardis_age_0_train=12.3, tardis_integration_donor_0_train=14.4]"
     ]
    },
    {
     "name": "stdout",
     "output_type": "stream",
     "text": [
      "\r",
      "Epoch 547/600:  91%|█████████ | 547/600 [35:59<03:29,  3.94s/it, v_num=p2_1, total_loss_train=847, kl_local_train=50, tardis_age_0_train=12.3, tardis_integration_donor_0_train=14.4]"
     ]
    },
    {
     "name": "stdout",
     "output_type": "stream",
     "text": [
      "\r",
      "Epoch 547/600:  91%|█████████ | 547/600 [35:59<03:29,  3.94s/it, v_num=p2_1, total_loss_train=847, kl_local_train=49.7, tardis_age_0_train=12.4, tardis_integration_donor_0_train=14.6]"
     ]
    },
    {
     "name": "stdout",
     "output_type": "stream",
     "text": [
      "\r",
      "Epoch 548/600:  91%|█████████ | 547/600 [35:59<03:29,  3.94s/it, v_num=p2_1, total_loss_train=847, kl_local_train=49.7, tardis_age_0_train=12.4, tardis_integration_donor_0_train=14.6]"
     ]
    },
    {
     "name": "stdout",
     "output_type": "stream",
     "text": [
      "\r",
      "Epoch 548/600:  91%|█████████▏| 548/600 [36:03<03:24,  3.94s/it, v_num=p2_1, total_loss_train=847, kl_local_train=49.7, tardis_age_0_train=12.4, tardis_integration_donor_0_train=14.6]"
     ]
    },
    {
     "name": "stdout",
     "output_type": "stream",
     "text": [
      "\r",
      "Epoch 548/600:  91%|█████████▏| 548/600 [36:03<03:24,  3.94s/it, v_num=p2_1, total_loss_train=846, kl_local_train=49.6, tardis_age_0_train=12.6, tardis_integration_donor_0_train=14.4]"
     ]
    },
    {
     "name": "stdout",
     "output_type": "stream",
     "text": [
      "\r",
      "Epoch 549/600:  91%|█████████▏| 548/600 [36:03<03:24,  3.94s/it, v_num=p2_1, total_loss_train=846, kl_local_train=49.6, tardis_age_0_train=12.6, tardis_integration_donor_0_train=14.4]"
     ]
    },
    {
     "name": "stdout",
     "output_type": "stream",
     "text": [
      "\r",
      "Epoch 549/600:  92%|█████████▏| 549/600 [36:07<03:20,  3.94s/it, v_num=p2_1, total_loss_train=846, kl_local_train=49.6, tardis_age_0_train=12.6, tardis_integration_donor_0_train=14.4]"
     ]
    },
    {
     "name": "stdout",
     "output_type": "stream",
     "text": [
      "\r",
      "Epoch 549/600:  92%|█████████▏| 549/600 [36:07<03:20,  3.94s/it, v_num=p2_1, total_loss_train=847, kl_local_train=50, tardis_age_0_train=12.5, tardis_integration_donor_0_train=14.4]  "
     ]
    },
    {
     "name": "stdout",
     "output_type": "stream",
     "text": [
      "\r",
      "Epoch 550/600:  92%|█████████▏| 549/600 [36:07<03:20,  3.94s/it, v_num=p2_1, total_loss_train=847, kl_local_train=50, tardis_age_0_train=12.5, tardis_integration_donor_0_train=14.4]"
     ]
    },
    {
     "name": "stdout",
     "output_type": "stream",
     "text": [
      "\r",
      "Epoch 550/600:  92%|█████████▏| 550/600 [36:11<03:17,  3.94s/it, v_num=p2_1, total_loss_train=847, kl_local_train=50, tardis_age_0_train=12.5, tardis_integration_donor_0_train=14.4]"
     ]
    },
    {
     "name": "stdout",
     "output_type": "stream",
     "text": [
      "\r",
      "Epoch 550/600:  92%|█████████▏| 550/600 [36:11<03:17,  3.94s/it, v_num=p2_1, total_loss_train=847, kl_local_train=49.8, tardis_age_0_train=12.6, tardis_integration_donor_0_train=14.6]"
     ]
    },
    {
     "name": "stdout",
     "output_type": "stream",
     "text": [
      "\r",
      "Epoch 551/600:  92%|█████████▏| 550/600 [36:11<03:17,  3.94s/it, v_num=p2_1, total_loss_train=847, kl_local_train=49.8, tardis_age_0_train=12.6, tardis_integration_donor_0_train=14.6]"
     ]
    },
    {
     "name": "stdout",
     "output_type": "stream",
     "text": [
      "\r",
      "Epoch 551/600:  92%|█████████▏| 551/600 [36:14<03:13,  3.94s/it, v_num=p2_1, total_loss_train=847, kl_local_train=49.8, tardis_age_0_train=12.6, tardis_integration_donor_0_train=14.6]"
     ]
    },
    {
     "name": "stdout",
     "output_type": "stream",
     "text": [
      "\r",
      "Epoch 551/600:  92%|█████████▏| 551/600 [36:14<03:13,  3.94s/it, v_num=p2_1, total_loss_train=846, kl_local_train=50.2, tardis_age_0_train=12.5, tardis_integration_donor_0_train=14.3]"
     ]
    },
    {
     "name": "stdout",
     "output_type": "stream",
     "text": [
      "\r",
      "Epoch 552/600:  92%|█████████▏| 551/600 [36:14<03:13,  3.94s/it, v_num=p2_1, total_loss_train=846, kl_local_train=50.2, tardis_age_0_train=12.5, tardis_integration_donor_0_train=14.3]"
     ]
    },
    {
     "name": "stdout",
     "output_type": "stream",
     "text": [
      "\r",
      "Epoch 552/600:  92%|█████████▏| 552/600 [36:18<03:09,  3.94s/it, v_num=p2_1, total_loss_train=846, kl_local_train=50.2, tardis_age_0_train=12.5, tardis_integration_donor_0_train=14.3]"
     ]
    },
    {
     "name": "stdout",
     "output_type": "stream",
     "text": [
      "\r",
      "Epoch 552/600:  92%|█████████▏| 552/600 [36:18<03:09,  3.94s/it, v_num=p2_1, total_loss_train=846, kl_local_train=49.8, tardis_age_0_train=12.6, tardis_integration_donor_0_train=14.5]"
     ]
    },
    {
     "name": "stdout",
     "output_type": "stream",
     "text": [
      "\r",
      "Epoch 553/600:  92%|█████████▏| 552/600 [36:18<03:09,  3.94s/it, v_num=p2_1, total_loss_train=846, kl_local_train=49.8, tardis_age_0_train=12.6, tardis_integration_donor_0_train=14.5]"
     ]
    },
    {
     "name": "stdout",
     "output_type": "stream",
     "text": [
      "\r",
      "Epoch 553/600:  92%|█████████▏| 553/600 [36:22<03:05,  3.94s/it, v_num=p2_1, total_loss_train=846, kl_local_train=49.8, tardis_age_0_train=12.6, tardis_integration_donor_0_train=14.5]"
     ]
    },
    {
     "name": "stdout",
     "output_type": "stream",
     "text": [
      "\r",
      "Epoch 553/600:  92%|█████████▏| 553/600 [36:22<03:05,  3.94s/it, v_num=p2_1, total_loss_train=846, kl_local_train=49.8, tardis_age_0_train=12.6, tardis_integration_donor_0_train=14.4]"
     ]
    },
    {
     "name": "stdout",
     "output_type": "stream",
     "text": [
      "\r",
      "Epoch 554/600:  92%|█████████▏| 553/600 [36:22<03:05,  3.94s/it, v_num=p2_1, total_loss_train=846, kl_local_train=49.8, tardis_age_0_train=12.6, tardis_integration_donor_0_train=14.4]"
     ]
    },
    {
     "name": "stdout",
     "output_type": "stream",
     "text": [
      "\r",
      "Epoch 554/600:  92%|█████████▏| 554/600 [36:26<03:00,  3.93s/it, v_num=p2_1, total_loss_train=846, kl_local_train=49.8, tardis_age_0_train=12.6, tardis_integration_donor_0_train=14.4]"
     ]
    },
    {
     "name": "stdout",
     "output_type": "stream",
     "text": [
      "\r",
      "Epoch 554/600:  92%|█████████▏| 554/600 [36:26<03:00,  3.93s/it, v_num=p2_1, total_loss_train=846, kl_local_train=49.4, tardis_age_0_train=12.5, tardis_integration_donor_0_train=14.5]"
     ]
    },
    {
     "name": "stdout",
     "output_type": "stream",
     "text": [
      "\r",
      "Epoch 555/600:  92%|█████████▏| 554/600 [36:26<03:00,  3.93s/it, v_num=p2_1, total_loss_train=846, kl_local_train=49.4, tardis_age_0_train=12.5, tardis_integration_donor_0_train=14.5]"
     ]
    },
    {
     "name": "stdout",
     "output_type": "stream",
     "text": [
      "\r",
      "Epoch 555/600:  92%|█████████▎| 555/600 [36:30<02:57,  3.94s/it, v_num=p2_1, total_loss_train=846, kl_local_train=49.4, tardis_age_0_train=12.5, tardis_integration_donor_0_train=14.5]"
     ]
    },
    {
     "name": "stdout",
     "output_type": "stream",
     "text": [
      "\r",
      "Epoch 555/600:  92%|█████████▎| 555/600 [36:30<02:57,  3.94s/it, v_num=p2_1, total_loss_train=846, kl_local_train=49.5, tardis_age_0_train=12.5, tardis_integration_donor_0_train=14.5]"
     ]
    },
    {
     "name": "stdout",
     "output_type": "stream",
     "text": [
      "\r",
      "Epoch 556/600:  92%|█████████▎| 555/600 [36:30<02:57,  3.94s/it, v_num=p2_1, total_loss_train=846, kl_local_train=49.5, tardis_age_0_train=12.5, tardis_integration_donor_0_train=14.5]"
     ]
    },
    {
     "name": "stdout",
     "output_type": "stream",
     "text": [
      "\r",
      "Epoch 556/600:  93%|█████████▎| 556/600 [36:34<02:52,  3.93s/it, v_num=p2_1, total_loss_train=846, kl_local_train=49.5, tardis_age_0_train=12.5, tardis_integration_donor_0_train=14.5]"
     ]
    },
    {
     "name": "stdout",
     "output_type": "stream",
     "text": [
      "\r",
      "Epoch 556/600:  93%|█████████▎| 556/600 [36:34<02:52,  3.93s/it, v_num=p2_1, total_loss_train=845, kl_local_train=49.4, tardis_age_0_train=12.6, tardis_integration_donor_0_train=14.6]"
     ]
    },
    {
     "name": "stdout",
     "output_type": "stream",
     "text": [
      "\r",
      "Epoch 557/600:  93%|█████████▎| 556/600 [36:34<02:52,  3.93s/it, v_num=p2_1, total_loss_train=845, kl_local_train=49.4, tardis_age_0_train=12.6, tardis_integration_donor_0_train=14.6]"
     ]
    },
    {
     "name": "stdout",
     "output_type": "stream",
     "text": [
      "\r",
      "Epoch 557/600:  93%|█████████▎| 557/600 [36:38<02:49,  3.93s/it, v_num=p2_1, total_loss_train=845, kl_local_train=49.4, tardis_age_0_train=12.6, tardis_integration_donor_0_train=14.6]"
     ]
    },
    {
     "name": "stdout",
     "output_type": "stream",
     "text": [
      "\r",
      "Epoch 557/600:  93%|█████████▎| 557/600 [36:38<02:49,  3.93s/it, v_num=p2_1, total_loss_train=845, kl_local_train=49.3, tardis_age_0_train=12.6, tardis_integration_donor_0_train=14.4]"
     ]
    },
    {
     "name": "stdout",
     "output_type": "stream",
     "text": [
      "\r",
      "Epoch 558/600:  93%|█████████▎| 557/600 [36:38<02:49,  3.93s/it, v_num=p2_1, total_loss_train=845, kl_local_train=49.3, tardis_age_0_train=12.6, tardis_integration_donor_0_train=14.4]"
     ]
    },
    {
     "name": "stdout",
     "output_type": "stream",
     "text": [
      "\r",
      "Epoch 558/600:  93%|█████████▎| 558/600 [36:42<02:45,  3.93s/it, v_num=p2_1, total_loss_train=845, kl_local_train=49.3, tardis_age_0_train=12.6, tardis_integration_donor_0_train=14.4]"
     ]
    },
    {
     "name": "stdout",
     "output_type": "stream",
     "text": [
      "\r",
      "Epoch 558/600:  93%|█████████▎| 558/600 [36:42<02:45,  3.93s/it, v_num=p2_1, total_loss_train=846, kl_local_train=49.4, tardis_age_0_train=12.6, tardis_integration_donor_0_train=14.7]"
     ]
    },
    {
     "name": "stdout",
     "output_type": "stream",
     "text": [
      "\r",
      "Epoch 559/600:  93%|█████████▎| 558/600 [36:42<02:45,  3.93s/it, v_num=p2_1, total_loss_train=846, kl_local_train=49.4, tardis_age_0_train=12.6, tardis_integration_donor_0_train=14.7]"
     ]
    },
    {
     "name": "stdout",
     "output_type": "stream",
     "text": [
      "\r",
      "Epoch 559/600:  93%|█████████▎| 559/600 [36:46<02:41,  3.93s/it, v_num=p2_1, total_loss_train=846, kl_local_train=49.4, tardis_age_0_train=12.6, tardis_integration_donor_0_train=14.7]"
     ]
    },
    {
     "name": "stdout",
     "output_type": "stream",
     "text": [
      "\r",
      "Epoch 559/600:  93%|█████████▎| 559/600 [36:46<02:41,  3.93s/it, v_num=p2_1, total_loss_train=846, kl_local_train=49.2, tardis_age_0_train=12.6, tardis_integration_donor_0_train=14.6]"
     ]
    },
    {
     "name": "stdout",
     "output_type": "stream",
     "text": [
      "\r",
      "Epoch 560/600:  93%|█████████▎| 559/600 [36:46<02:41,  3.93s/it, v_num=p2_1, total_loss_train=846, kl_local_train=49.2, tardis_age_0_train=12.6, tardis_integration_donor_0_train=14.6]"
     ]
    },
    {
     "name": "stdout",
     "output_type": "stream",
     "text": [
      "\r",
      "Epoch 560/600:  93%|█████████▎| 560/600 [36:50<02:37,  3.93s/it, v_num=p2_1, total_loss_train=846, kl_local_train=49.2, tardis_age_0_train=12.6, tardis_integration_donor_0_train=14.6]"
     ]
    },
    {
     "name": "stdout",
     "output_type": "stream",
     "text": [
      "\r",
      "Epoch 560/600:  93%|█████████▎| 560/600 [36:50<02:37,  3.93s/it, v_num=p2_1, total_loss_train=845, kl_local_train=49.3, tardis_age_0_train=12.6, tardis_integration_donor_0_train=14.6]"
     ]
    },
    {
     "name": "stdout",
     "output_type": "stream",
     "text": [
      "\r",
      "Epoch 561/600:  93%|█████████▎| 560/600 [36:50<02:37,  3.93s/it, v_num=p2_1, total_loss_train=845, kl_local_train=49.3, tardis_age_0_train=12.6, tardis_integration_donor_0_train=14.6]"
     ]
    },
    {
     "name": "stdout",
     "output_type": "stream",
     "text": [
      "\r",
      "Epoch 561/600:  94%|█████████▎| 561/600 [36:54<02:33,  3.92s/it, v_num=p2_1, total_loss_train=845, kl_local_train=49.3, tardis_age_0_train=12.6, tardis_integration_donor_0_train=14.6]"
     ]
    },
    {
     "name": "stdout",
     "output_type": "stream",
     "text": [
      "\r",
      "Epoch 561/600:  94%|█████████▎| 561/600 [36:54<02:33,  3.92s/it, v_num=p2_1, total_loss_train=845, kl_local_train=49.4, tardis_age_0_train=12.6, tardis_integration_donor_0_train=14.5]"
     ]
    },
    {
     "name": "stdout",
     "output_type": "stream",
     "text": [
      "\r",
      "Epoch 562/600:  94%|█████████▎| 561/600 [36:54<02:33,  3.92s/it, v_num=p2_1, total_loss_train=845, kl_local_train=49.4, tardis_age_0_train=12.6, tardis_integration_donor_0_train=14.5]"
     ]
    },
    {
     "name": "stdout",
     "output_type": "stream",
     "text": [
      "\r",
      "Epoch 562/600:  94%|█████████▎| 562/600 [36:58<02:29,  3.92s/it, v_num=p2_1, total_loss_train=845, kl_local_train=49.4, tardis_age_0_train=12.6, tardis_integration_donor_0_train=14.5]"
     ]
    },
    {
     "name": "stdout",
     "output_type": "stream",
     "text": [
      "\r",
      "Epoch 562/600:  94%|█████████▎| 562/600 [36:58<02:29,  3.92s/it, v_num=p2_1, total_loss_train=845, kl_local_train=49.4, tardis_age_0_train=12.6, tardis_integration_donor_0_train=14.4]"
     ]
    },
    {
     "name": "stdout",
     "output_type": "stream",
     "text": [
      "\r",
      "Epoch 563/600:  94%|█████████▎| 562/600 [36:58<02:29,  3.92s/it, v_num=p2_1, total_loss_train=845, kl_local_train=49.4, tardis_age_0_train=12.6, tardis_integration_donor_0_train=14.4]"
     ]
    },
    {
     "name": "stdout",
     "output_type": "stream",
     "text": [
      "\r",
      "Epoch 563/600:  94%|█████████▍| 563/600 [37:02<02:25,  3.92s/it, v_num=p2_1, total_loss_train=845, kl_local_train=49.4, tardis_age_0_train=12.6, tardis_integration_donor_0_train=14.4]"
     ]
    },
    {
     "name": "stdout",
     "output_type": "stream",
     "text": [
      "\r",
      "Epoch 563/600:  94%|█████████▍| 563/600 [37:02<02:25,  3.92s/it, v_num=p2_1, total_loss_train=845, kl_local_train=49.4, tardis_age_0_train=12.5, tardis_integration_donor_0_train=14.6]"
     ]
    },
    {
     "name": "stdout",
     "output_type": "stream",
     "text": [
      "\r",
      "Epoch 564/600:  94%|█████████▍| 563/600 [37:02<02:25,  3.92s/it, v_num=p2_1, total_loss_train=845, kl_local_train=49.4, tardis_age_0_train=12.5, tardis_integration_donor_0_train=14.6]"
     ]
    },
    {
     "name": "stdout",
     "output_type": "stream",
     "text": [
      "\r",
      "Epoch 564/600:  94%|█████████▍| 564/600 [37:06<02:21,  3.92s/it, v_num=p2_1, total_loss_train=845, kl_local_train=49.4, tardis_age_0_train=12.5, tardis_integration_donor_0_train=14.6]"
     ]
    },
    {
     "name": "stdout",
     "output_type": "stream",
     "text": [
      "\r",
      "Epoch 564/600:  94%|█████████▍| 564/600 [37:06<02:21,  3.92s/it, v_num=p2_1, total_loss_train=844, kl_local_train=49.1, tardis_age_0_train=12.7, tardis_integration_donor_0_train=14.6]"
     ]
    },
    {
     "name": "stdout",
     "output_type": "stream",
     "text": [
      "\r",
      "Epoch 565/600:  94%|█████████▍| 564/600 [37:06<02:21,  3.92s/it, v_num=p2_1, total_loss_train=844, kl_local_train=49.1, tardis_age_0_train=12.7, tardis_integration_donor_0_train=14.6]"
     ]
    },
    {
     "name": "stdout",
     "output_type": "stream",
     "text": [
      "\r",
      "Epoch 565/600:  94%|█████████▍| 565/600 [37:09<02:17,  3.92s/it, v_num=p2_1, total_loss_train=844, kl_local_train=49.1, tardis_age_0_train=12.7, tardis_integration_donor_0_train=14.6]"
     ]
    },
    {
     "name": "stdout",
     "output_type": "stream",
     "text": [
      "\r",
      "Epoch 565/600:  94%|█████████▍| 565/600 [37:09<02:17,  3.92s/it, v_num=p2_1, total_loss_train=845, kl_local_train=49.4, tardis_age_0_train=12.5, tardis_integration_donor_0_train=14.4]"
     ]
    },
    {
     "name": "stdout",
     "output_type": "stream",
     "text": [
      "\r",
      "Epoch 566/600:  94%|█████████▍| 565/600 [37:09<02:17,  3.92s/it, v_num=p2_1, total_loss_train=845, kl_local_train=49.4, tardis_age_0_train=12.5, tardis_integration_donor_0_train=14.4]"
     ]
    },
    {
     "name": "stdout",
     "output_type": "stream",
     "text": [
      "\r",
      "Epoch 566/600:  94%|█████████▍| 566/600 [37:13<02:13,  3.93s/it, v_num=p2_1, total_loss_train=845, kl_local_train=49.4, tardis_age_0_train=12.5, tardis_integration_donor_0_train=14.4]"
     ]
    },
    {
     "name": "stdout",
     "output_type": "stream",
     "text": [
      "\r",
      "Epoch 566/600:  94%|█████████▍| 566/600 [37:13<02:13,  3.93s/it, v_num=p2_1, total_loss_train=845, kl_local_train=49.3, tardis_age_0_train=12.5, tardis_integration_donor_0_train=14.7]"
     ]
    },
    {
     "name": "stdout",
     "output_type": "stream",
     "text": [
      "\r",
      "Epoch 567/600:  94%|█████████▍| 566/600 [37:13<02:13,  3.93s/it, v_num=p2_1, total_loss_train=845, kl_local_train=49.3, tardis_age_0_train=12.5, tardis_integration_donor_0_train=14.7]"
     ]
    },
    {
     "name": "stdout",
     "output_type": "stream",
     "text": [
      "\r",
      "Epoch 567/600:  94%|█████████▍| 567/600 [37:17<02:09,  3.93s/it, v_num=p2_1, total_loss_train=845, kl_local_train=49.3, tardis_age_0_train=12.5, tardis_integration_donor_0_train=14.7]"
     ]
    },
    {
     "name": "stdout",
     "output_type": "stream",
     "text": [
      "\r",
      "Epoch 567/600:  94%|█████████▍| 567/600 [37:17<02:09,  3.93s/it, v_num=p2_1, total_loss_train=845, kl_local_train=49.4, tardis_age_0_train=12.6, tardis_integration_donor_0_train=14.7]"
     ]
    },
    {
     "name": "stdout",
     "output_type": "stream",
     "text": [
      "\r",
      "Epoch 568/600:  94%|█████████▍| 567/600 [37:17<02:09,  3.93s/it, v_num=p2_1, total_loss_train=845, kl_local_train=49.4, tardis_age_0_train=12.6, tardis_integration_donor_0_train=14.7]"
     ]
    },
    {
     "name": "stdout",
     "output_type": "stream",
     "text": [
      "\r",
      "Epoch 568/600:  95%|█████████▍| 568/600 [37:21<02:05,  3.93s/it, v_num=p2_1, total_loss_train=845, kl_local_train=49.4, tardis_age_0_train=12.6, tardis_integration_donor_0_train=14.7]"
     ]
    },
    {
     "name": "stdout",
     "output_type": "stream",
     "text": [
      "\r",
      "Epoch 568/600:  95%|█████████▍| 568/600 [37:21<02:05,  3.93s/it, v_num=p2_1, total_loss_train=844, kl_local_train=49.4, tardis_age_0_train=12.5, tardis_integration_donor_0_train=14.7]"
     ]
    },
    {
     "name": "stdout",
     "output_type": "stream",
     "text": [
      "\r",
      "Epoch 569/600:  95%|█████████▍| 568/600 [37:21<02:05,  3.93s/it, v_num=p2_1, total_loss_train=844, kl_local_train=49.4, tardis_age_0_train=12.5, tardis_integration_donor_0_train=14.7]"
     ]
    },
    {
     "name": "stdout",
     "output_type": "stream",
     "text": [
      "\r",
      "Epoch 569/600:  95%|█████████▍| 569/600 [37:25<02:01,  3.92s/it, v_num=p2_1, total_loss_train=844, kl_local_train=49.4, tardis_age_0_train=12.5, tardis_integration_donor_0_train=14.7]"
     ]
    },
    {
     "name": "stdout",
     "output_type": "stream",
     "text": [
      "\r",
      "Epoch 569/600:  95%|█████████▍| 569/600 [37:25<02:01,  3.92s/it, v_num=p2_1, total_loss_train=845, kl_local_train=49.3, tardis_age_0_train=12.6, tardis_integration_donor_0_train=14.5]"
     ]
    },
    {
     "name": "stdout",
     "output_type": "stream",
     "text": [
      "\r",
      "Epoch 570/600:  95%|█████████▍| 569/600 [37:25<02:01,  3.92s/it, v_num=p2_1, total_loss_train=845, kl_local_train=49.3, tardis_age_0_train=12.6, tardis_integration_donor_0_train=14.5]"
     ]
    },
    {
     "name": "stdout",
     "output_type": "stream",
     "text": [
      "\r",
      "Epoch 570/600:  95%|█████████▌| 570/600 [37:29<01:57,  3.92s/it, v_num=p2_1, total_loss_train=845, kl_local_train=49.3, tardis_age_0_train=12.6, tardis_integration_donor_0_train=14.5]"
     ]
    },
    {
     "name": "stdout",
     "output_type": "stream",
     "text": [
      "\r",
      "Epoch 570/600:  95%|█████████▌| 570/600 [37:29<01:57,  3.92s/it, v_num=p2_1, total_loss_train=845, kl_local_train=49.2, tardis_age_0_train=12.7, tardis_integration_donor_0_train=14.7]"
     ]
    },
    {
     "name": "stdout",
     "output_type": "stream",
     "text": [
      "\r",
      "Epoch 571/600:  95%|█████████▌| 570/600 [37:29<01:57,  3.92s/it, v_num=p2_1, total_loss_train=845, kl_local_train=49.2, tardis_age_0_train=12.7, tardis_integration_donor_0_train=14.7]"
     ]
    },
    {
     "name": "stdout",
     "output_type": "stream",
     "text": [
      "\r",
      "Epoch 571/600:  95%|█████████▌| 571/600 [37:33<01:53,  3.92s/it, v_num=p2_1, total_loss_train=845, kl_local_train=49.2, tardis_age_0_train=12.7, tardis_integration_donor_0_train=14.7]"
     ]
    },
    {
     "name": "stdout",
     "output_type": "stream",
     "text": [
      "\r",
      "Epoch 571/600:  95%|█████████▌| 571/600 [37:33<01:53,  3.92s/it, v_num=p2_1, total_loss_train=845, kl_local_train=49.1, tardis_age_0_train=12.8, tardis_integration_donor_0_train=14.7]"
     ]
    },
    {
     "name": "stdout",
     "output_type": "stream",
     "text": [
      "\r",
      "Epoch 572/600:  95%|█████████▌| 571/600 [37:33<01:53,  3.92s/it, v_num=p2_1, total_loss_train=845, kl_local_train=49.1, tardis_age_0_train=12.8, tardis_integration_donor_0_train=14.7]"
     ]
    },
    {
     "name": "stdout",
     "output_type": "stream",
     "text": [
      "\r",
      "Epoch 572/600:  95%|█████████▌| 572/600 [37:37<01:49,  3.91s/it, v_num=p2_1, total_loss_train=845, kl_local_train=49.1, tardis_age_0_train=12.8, tardis_integration_donor_0_train=14.7]"
     ]
    },
    {
     "name": "stdout",
     "output_type": "stream",
     "text": [
      "\r",
      "Epoch 572/600:  95%|█████████▌| 572/600 [37:37<01:49,  3.91s/it, v_num=p2_1, total_loss_train=844, kl_local_train=48.7, tardis_age_0_train=12.8, tardis_integration_donor_0_train=14.9]"
     ]
    },
    {
     "name": "stdout",
     "output_type": "stream",
     "text": [
      "\r",
      "Epoch 573/600:  95%|█████████▌| 572/600 [37:37<01:49,  3.91s/it, v_num=p2_1, total_loss_train=844, kl_local_train=48.7, tardis_age_0_train=12.8, tardis_integration_donor_0_train=14.9]"
     ]
    },
    {
     "name": "stdout",
     "output_type": "stream",
     "text": [
      "\r",
      "Epoch 573/600:  96%|█████████▌| 573/600 [37:41<01:45,  3.91s/it, v_num=p2_1, total_loss_train=844, kl_local_train=48.7, tardis_age_0_train=12.8, tardis_integration_donor_0_train=14.9]"
     ]
    },
    {
     "name": "stdout",
     "output_type": "stream",
     "text": [
      "\r",
      "Epoch 573/600:  96%|█████████▌| 573/600 [37:41<01:45,  3.91s/it, v_num=p2_1, total_loss_train=844, kl_local_train=48.9, tardis_age_0_train=12.7, tardis_integration_donor_0_train=14.7]"
     ]
    },
    {
     "name": "stdout",
     "output_type": "stream",
     "text": [
      "\r",
      "Epoch 574/600:  96%|█████████▌| 573/600 [37:41<01:45,  3.91s/it, v_num=p2_1, total_loss_train=844, kl_local_train=48.9, tardis_age_0_train=12.7, tardis_integration_donor_0_train=14.7]"
     ]
    },
    {
     "name": "stdout",
     "output_type": "stream",
     "text": [
      "\r",
      "Epoch 574/600:  96%|█████████▌| 574/600 [37:45<01:41,  3.92s/it, v_num=p2_1, total_loss_train=844, kl_local_train=48.9, tardis_age_0_train=12.7, tardis_integration_donor_0_train=14.7]"
     ]
    },
    {
     "name": "stdout",
     "output_type": "stream",
     "text": [
      "\r",
      "Epoch 574/600:  96%|█████████▌| 574/600 [37:45<01:41,  3.92s/it, v_num=p2_1, total_loss_train=844, kl_local_train=48.8, tardis_age_0_train=12.7, tardis_integration_donor_0_train=14.6]"
     ]
    },
    {
     "name": "stdout",
     "output_type": "stream",
     "text": [
      "\r",
      "Epoch 575/600:  96%|█████████▌| 574/600 [37:45<01:41,  3.92s/it, v_num=p2_1, total_loss_train=844, kl_local_train=48.8, tardis_age_0_train=12.7, tardis_integration_donor_0_train=14.6]"
     ]
    },
    {
     "name": "stdout",
     "output_type": "stream",
     "text": [
      "\r",
      "Epoch 575/600:  96%|█████████▌| 575/600 [37:49<01:38,  3.93s/it, v_num=p2_1, total_loss_train=844, kl_local_train=48.8, tardis_age_0_train=12.7, tardis_integration_donor_0_train=14.6]"
     ]
    },
    {
     "name": "stdout",
     "output_type": "stream",
     "text": [
      "\r",
      "Epoch 575/600:  96%|█████████▌| 575/600 [37:49<01:38,  3.93s/it, v_num=p2_1, total_loss_train=844, kl_local_train=48.9, tardis_age_0_train=12.6, tardis_integration_donor_0_train=14.7]"
     ]
    },
    {
     "name": "stdout",
     "output_type": "stream",
     "text": [
      "\r",
      "Epoch 576/600:  96%|█████████▌| 575/600 [37:49<01:38,  3.93s/it, v_num=p2_1, total_loss_train=844, kl_local_train=48.9, tardis_age_0_train=12.6, tardis_integration_donor_0_train=14.7]"
     ]
    },
    {
     "name": "stdout",
     "output_type": "stream",
     "text": [
      "\r",
      "Epoch 576/600:  96%|█████████▌| 576/600 [37:53<01:34,  3.93s/it, v_num=p2_1, total_loss_train=844, kl_local_train=48.9, tardis_age_0_train=12.6, tardis_integration_donor_0_train=14.7]"
     ]
    },
    {
     "name": "stdout",
     "output_type": "stream",
     "text": [
      "\r",
      "Epoch 576/600:  96%|█████████▌| 576/600 [37:53<01:34,  3.93s/it, v_num=p2_1, total_loss_train=844, kl_local_train=48.6, tardis_age_0_train=12.8, tardis_integration_donor_0_train=14.9]"
     ]
    },
    {
     "name": "stdout",
     "output_type": "stream",
     "text": [
      "\r",
      "Epoch 577/600:  96%|█████████▌| 576/600 [37:53<01:34,  3.93s/it, v_num=p2_1, total_loss_train=844, kl_local_train=48.6, tardis_age_0_train=12.8, tardis_integration_donor_0_train=14.9]"
     ]
    },
    {
     "name": "stdout",
     "output_type": "stream",
     "text": [
      "\r",
      "Epoch 577/600:  96%|█████████▌| 577/600 [37:57<01:30,  3.93s/it, v_num=p2_1, total_loss_train=844, kl_local_train=48.6, tardis_age_0_train=12.8, tardis_integration_donor_0_train=14.9]"
     ]
    },
    {
     "name": "stdout",
     "output_type": "stream",
     "text": [
      "\r",
      "Epoch 577/600:  96%|█████████▌| 577/600 [37:57<01:30,  3.93s/it, v_num=p2_1, total_loss_train=844, kl_local_train=48.9, tardis_age_0_train=12.8, tardis_integration_donor_0_train=14.8]"
     ]
    },
    {
     "name": "stdout",
     "output_type": "stream",
     "text": [
      "\r",
      "Epoch 578/600:  96%|█████████▌| 577/600 [37:57<01:30,  3.93s/it, v_num=p2_1, total_loss_train=844, kl_local_train=48.9, tardis_age_0_train=12.8, tardis_integration_donor_0_train=14.8]"
     ]
    },
    {
     "name": "stdout",
     "output_type": "stream",
     "text": [
      "\r",
      "Epoch 578/600:  96%|█████████▋| 578/600 [38:00<01:26,  3.93s/it, v_num=p2_1, total_loss_train=844, kl_local_train=48.9, tardis_age_0_train=12.8, tardis_integration_donor_0_train=14.8]"
     ]
    },
    {
     "name": "stdout",
     "output_type": "stream",
     "text": [
      "\r",
      "Epoch 578/600:  96%|█████████▋| 578/600 [38:00<01:26,  3.93s/it, v_num=p2_1, total_loss_train=843, kl_local_train=48.8, tardis_age_0_train=12.6, tardis_integration_donor_0_train=14.7]"
     ]
    },
    {
     "name": "stdout",
     "output_type": "stream",
     "text": [
      "\r",
      "Epoch 579/600:  96%|█████████▋| 578/600 [38:00<01:26,  3.93s/it, v_num=p2_1, total_loss_train=843, kl_local_train=48.8, tardis_age_0_train=12.6, tardis_integration_donor_0_train=14.7]"
     ]
    },
    {
     "name": "stdout",
     "output_type": "stream",
     "text": [
      "\r",
      "Epoch 579/600:  96%|█████████▋| 579/600 [38:04<01:22,  3.93s/it, v_num=p2_1, total_loss_train=843, kl_local_train=48.8, tardis_age_0_train=12.6, tardis_integration_donor_0_train=14.7]"
     ]
    },
    {
     "name": "stdout",
     "output_type": "stream",
     "text": [
      "\r",
      "Epoch 579/600:  96%|█████████▋| 579/600 [38:04<01:22,  3.93s/it, v_num=p2_1, total_loss_train=843, kl_local_train=48.6, tardis_age_0_train=12.7, tardis_integration_donor_0_train=14.9]"
     ]
    },
    {
     "name": "stdout",
     "output_type": "stream",
     "text": [
      "\r",
      "Epoch 580/600:  96%|█████████▋| 579/600 [38:04<01:22,  3.93s/it, v_num=p2_1, total_loss_train=843, kl_local_train=48.6, tardis_age_0_train=12.7, tardis_integration_donor_0_train=14.9]"
     ]
    },
    {
     "name": "stdout",
     "output_type": "stream",
     "text": [
      "\r",
      "Epoch 580/600:  97%|█████████▋| 580/600 [38:08<01:18,  3.94s/it, v_num=p2_1, total_loss_train=843, kl_local_train=48.6, tardis_age_0_train=12.7, tardis_integration_donor_0_train=14.9]"
     ]
    },
    {
     "name": "stdout",
     "output_type": "stream",
     "text": [
      "\r",
      "Epoch 580/600:  97%|█████████▋| 580/600 [38:08<01:18,  3.94s/it, v_num=p2_1, total_loss_train=843, kl_local_train=48, tardis_age_0_train=13, tardis_integration_donor_0_train=14.9]    "
     ]
    },
    {
     "name": "stdout",
     "output_type": "stream",
     "text": [
      "\r",
      "Epoch 581/600:  97%|█████████▋| 580/600 [38:08<01:18,  3.94s/it, v_num=p2_1, total_loss_train=843, kl_local_train=48, tardis_age_0_train=13, tardis_integration_donor_0_train=14.9]"
     ]
    },
    {
     "name": "stdout",
     "output_type": "stream",
     "text": [
      "\r",
      "Epoch 581/600:  97%|█████████▋| 581/600 [38:12<01:14,  3.94s/it, v_num=p2_1, total_loss_train=843, kl_local_train=48, tardis_age_0_train=13, tardis_integration_donor_0_train=14.9]"
     ]
    },
    {
     "name": "stdout",
     "output_type": "stream",
     "text": [
      "\r",
      "Epoch 581/600:  97%|█████████▋| 581/600 [38:12<01:14,  3.94s/it, v_num=p2_1, total_loss_train=843, kl_local_train=48.3, tardis_age_0_train=12.8, tardis_integration_donor_0_train=15]"
     ]
    },
    {
     "name": "stdout",
     "output_type": "stream",
     "text": [
      "\r",
      "Epoch 582/600:  97%|█████████▋| 581/600 [38:12<01:14,  3.94s/it, v_num=p2_1, total_loss_train=843, kl_local_train=48.3, tardis_age_0_train=12.8, tardis_integration_donor_0_train=15]"
     ]
    },
    {
     "name": "stdout",
     "output_type": "stream",
     "text": [
      "\r",
      "Epoch 582/600:  97%|█████████▋| 582/600 [38:16<01:11,  3.95s/it, v_num=p2_1, total_loss_train=843, kl_local_train=48.3, tardis_age_0_train=12.8, tardis_integration_donor_0_train=15]"
     ]
    },
    {
     "name": "stdout",
     "output_type": "stream",
     "text": [
      "\r",
      "Epoch 582/600:  97%|█████████▋| 582/600 [38:16<01:11,  3.95s/it, v_num=p2_1, total_loss_train=843, kl_local_train=48.5, tardis_age_0_train=12.8, tardis_integration_donor_0_train=14.7]"
     ]
    },
    {
     "name": "stdout",
     "output_type": "stream",
     "text": [
      "\r",
      "Epoch 583/600:  97%|█████████▋| 582/600 [38:16<01:11,  3.95s/it, v_num=p2_1, total_loss_train=843, kl_local_train=48.5, tardis_age_0_train=12.8, tardis_integration_donor_0_train=14.7]"
     ]
    },
    {
     "name": "stdout",
     "output_type": "stream",
     "text": [
      "\r",
      "Epoch 583/600:  97%|█████████▋| 583/600 [38:20<01:06,  3.94s/it, v_num=p2_1, total_loss_train=843, kl_local_train=48.5, tardis_age_0_train=12.8, tardis_integration_donor_0_train=14.7]"
     ]
    },
    {
     "name": "stdout",
     "output_type": "stream",
     "text": [
      "\r",
      "Epoch 583/600:  97%|█████████▋| 583/600 [38:20<01:06,  3.94s/it, v_num=p2_1, total_loss_train=843, kl_local_train=48.5, tardis_age_0_train=12.8, tardis_integration_donor_0_train=14.7]"
     ]
    },
    {
     "name": "stdout",
     "output_type": "stream",
     "text": [
      "\r",
      "Epoch 584/600:  97%|█████████▋| 583/600 [38:20<01:06,  3.94s/it, v_num=p2_1, total_loss_train=843, kl_local_train=48.5, tardis_age_0_train=12.8, tardis_integration_donor_0_train=14.7]"
     ]
    },
    {
     "name": "stdout",
     "output_type": "stream",
     "text": [
      "\r",
      "Epoch 584/600:  97%|█████████▋| 584/600 [38:24<01:02,  3.93s/it, v_num=p2_1, total_loss_train=843, kl_local_train=48.5, tardis_age_0_train=12.8, tardis_integration_donor_0_train=14.7]"
     ]
    },
    {
     "name": "stdout",
     "output_type": "stream",
     "text": [
      "\r",
      "Epoch 584/600:  97%|█████████▋| 584/600 [38:24<01:02,  3.93s/it, v_num=p2_1, total_loss_train=843, kl_local_train=48.8, tardis_age_0_train=12.7, tardis_integration_donor_0_train=14.7]"
     ]
    },
    {
     "name": "stdout",
     "output_type": "stream",
     "text": [
      "\r",
      "Epoch 585/600:  97%|█████████▋| 584/600 [38:24<01:02,  3.93s/it, v_num=p2_1, total_loss_train=843, kl_local_train=48.8, tardis_age_0_train=12.7, tardis_integration_donor_0_train=14.7]"
     ]
    },
    {
     "name": "stdout",
     "output_type": "stream",
     "text": [
      "\r",
      "Epoch 585/600:  98%|█████████▊| 585/600 [38:28<00:59,  3.94s/it, v_num=p2_1, total_loss_train=843, kl_local_train=48.8, tardis_age_0_train=12.7, tardis_integration_donor_0_train=14.7]"
     ]
    },
    {
     "name": "stdout",
     "output_type": "stream",
     "text": [
      "\r",
      "Epoch 585/600:  98%|█████████▊| 585/600 [38:28<00:59,  3.94s/it, v_num=p2_1, total_loss_train=843, kl_local_train=48.4, tardis_age_0_train=12.9, tardis_integration_donor_0_train=14.9]"
     ]
    },
    {
     "name": "stdout",
     "output_type": "stream",
     "text": [
      "\r",
      "Epoch 586/600:  98%|█████████▊| 585/600 [38:28<00:59,  3.94s/it, v_num=p2_1, total_loss_train=843, kl_local_train=48.4, tardis_age_0_train=12.9, tardis_integration_donor_0_train=14.9]"
     ]
    },
    {
     "name": "stdout",
     "output_type": "stream",
     "text": [
      "\r",
      "Epoch 586/600:  98%|█████████▊| 586/600 [38:32<00:55,  3.94s/it, v_num=p2_1, total_loss_train=843, kl_local_train=48.4, tardis_age_0_train=12.9, tardis_integration_donor_0_train=14.9]"
     ]
    },
    {
     "name": "stdout",
     "output_type": "stream",
     "text": [
      "\r",
      "Epoch 586/600:  98%|█████████▊| 586/600 [38:32<00:55,  3.94s/it, v_num=p2_1, total_loss_train=843, kl_local_train=48.6, tardis_age_0_train=12.8, tardis_integration_donor_0_train=14.8]"
     ]
    },
    {
     "name": "stdout",
     "output_type": "stream",
     "text": [
      "\r",
      "Epoch 587/600:  98%|█████████▊| 586/600 [38:32<00:55,  3.94s/it, v_num=p2_1, total_loss_train=843, kl_local_train=48.6, tardis_age_0_train=12.8, tardis_integration_donor_0_train=14.8]"
     ]
    },
    {
     "name": "stdout",
     "output_type": "stream",
     "text": [
      "\r",
      "Epoch 587/600:  98%|█████████▊| 587/600 [38:36<00:51,  3.93s/it, v_num=p2_1, total_loss_train=843, kl_local_train=48.6, tardis_age_0_train=12.8, tardis_integration_donor_0_train=14.8]"
     ]
    },
    {
     "name": "stdout",
     "output_type": "stream",
     "text": [
      "\r",
      "Epoch 587/600:  98%|█████████▊| 587/600 [38:36<00:51,  3.93s/it, v_num=p2_1, total_loss_train=843, kl_local_train=48, tardis_age_0_train=13.1, tardis_integration_donor_0_train=15]    "
     ]
    },
    {
     "name": "stdout",
     "output_type": "stream",
     "text": [
      "\r",
      "Epoch 588/600:  98%|█████████▊| 587/600 [38:36<00:51,  3.93s/it, v_num=p2_1, total_loss_train=843, kl_local_train=48, tardis_age_0_train=13.1, tardis_integration_donor_0_train=15]"
     ]
    },
    {
     "name": "stdout",
     "output_type": "stream",
     "text": [
      "\r",
      "Epoch 588/600:  98%|█████████▊| 588/600 [38:40<00:47,  3.93s/it, v_num=p2_1, total_loss_train=843, kl_local_train=48, tardis_age_0_train=13.1, tardis_integration_donor_0_train=15]"
     ]
    },
    {
     "name": "stdout",
     "output_type": "stream",
     "text": [
      "\r",
      "Epoch 588/600:  98%|█████████▊| 588/600 [38:40<00:47,  3.93s/it, v_num=p2_1, total_loss_train=843, kl_local_train=48, tardis_age_0_train=12.9, tardis_integration_donor_0_train=15]"
     ]
    },
    {
     "name": "stdout",
     "output_type": "stream",
     "text": [
      "\r",
      "Epoch 589/600:  98%|█████████▊| 588/600 [38:40<00:47,  3.93s/it, v_num=p2_1, total_loss_train=843, kl_local_train=48, tardis_age_0_train=12.9, tardis_integration_donor_0_train=15]"
     ]
    },
    {
     "name": "stdout",
     "output_type": "stream",
     "text": [
      "\r",
      "Epoch 589/600:  98%|█████████▊| 589/600 [38:44<00:43,  3.93s/it, v_num=p2_1, total_loss_train=843, kl_local_train=48, tardis_age_0_train=12.9, tardis_integration_donor_0_train=15]"
     ]
    },
    {
     "name": "stdout",
     "output_type": "stream",
     "text": [
      "\r",
      "Epoch 589/600:  98%|█████████▊| 589/600 [38:44<00:43,  3.93s/it, v_num=p2_1, total_loss_train=843, kl_local_train=48.6, tardis_age_0_train=12.9, tardis_integration_donor_0_train=14.7]"
     ]
    },
    {
     "name": "stdout",
     "output_type": "stream",
     "text": [
      "\r",
      "Epoch 590/600:  98%|█████████▊| 589/600 [38:44<00:43,  3.93s/it, v_num=p2_1, total_loss_train=843, kl_local_train=48.6, tardis_age_0_train=12.9, tardis_integration_donor_0_train=14.7]"
     ]
    },
    {
     "name": "stdout",
     "output_type": "stream",
     "text": [
      "\r",
      "Epoch 590/600:  98%|█████████▊| 590/600 [38:48<00:39,  3.94s/it, v_num=p2_1, total_loss_train=843, kl_local_train=48.6, tardis_age_0_train=12.9, tardis_integration_donor_0_train=14.7]"
     ]
    },
    {
     "name": "stdout",
     "output_type": "stream",
     "text": [
      "\r",
      "Epoch 590/600:  98%|█████████▊| 590/600 [38:48<00:39,  3.94s/it, v_num=p2_1, total_loss_train=843, kl_local_train=48.5, tardis_age_0_train=13, tardis_integration_donor_0_train=15]    "
     ]
    },
    {
     "name": "stdout",
     "output_type": "stream",
     "text": [
      "\r",
      "Epoch 591/600:  98%|█████████▊| 590/600 [38:48<00:39,  3.94s/it, v_num=p2_1, total_loss_train=843, kl_local_train=48.5, tardis_age_0_train=13, tardis_integration_donor_0_train=15]"
     ]
    },
    {
     "name": "stdout",
     "output_type": "stream",
     "text": [
      "\r",
      "Epoch 591/600:  98%|█████████▊| 591/600 [38:52<00:35,  3.99s/it, v_num=p2_1, total_loss_train=843, kl_local_train=48.5, tardis_age_0_train=13, tardis_integration_donor_0_train=15]"
     ]
    },
    {
     "name": "stdout",
     "output_type": "stream",
     "text": [
      "\r",
      "Epoch 591/600:  98%|█████████▊| 591/600 [38:52<00:35,  3.99s/it, v_num=p2_1, total_loss_train=843, kl_local_train=48.3, tardis_age_0_train=13, tardis_integration_donor_0_train=15]"
     ]
    },
    {
     "name": "stdout",
     "output_type": "stream",
     "text": [
      "\r",
      "Epoch 592/600:  98%|█████████▊| 591/600 [38:52<00:35,  3.99s/it, v_num=p2_1, total_loss_train=843, kl_local_train=48.3, tardis_age_0_train=13, tardis_integration_donor_0_train=15]"
     ]
    },
    {
     "name": "stdout",
     "output_type": "stream",
     "text": [
      "\r",
      "Epoch 592/600:  99%|█████████▊| 592/600 [38:56<00:31,  3.97s/it, v_num=p2_1, total_loss_train=843, kl_local_train=48.3, tardis_age_0_train=13, tardis_integration_donor_0_train=15]"
     ]
    },
    {
     "name": "stdout",
     "output_type": "stream",
     "text": [
      "\r",
      "Epoch 592/600:  99%|█████████▊| 592/600 [38:56<00:31,  3.97s/it, v_num=p2_1, total_loss_train=842, kl_local_train=48.3, tardis_age_0_train=12.8, tardis_integration_donor_0_train=14.8]"
     ]
    },
    {
     "name": "stdout",
     "output_type": "stream",
     "text": [
      "\r",
      "Epoch 593/600:  99%|█████████▊| 592/600 [38:56<00:31,  3.97s/it, v_num=p2_1, total_loss_train=842, kl_local_train=48.3, tardis_age_0_train=12.8, tardis_integration_donor_0_train=14.8]"
     ]
    },
    {
     "name": "stdout",
     "output_type": "stream",
     "text": [
      "\r",
      "Epoch 593/600:  99%|█████████▉| 593/600 [39:00<00:27,  3.97s/it, v_num=p2_1, total_loss_train=842, kl_local_train=48.3, tardis_age_0_train=12.8, tardis_integration_donor_0_train=14.8]"
     ]
    },
    {
     "name": "stdout",
     "output_type": "stream",
     "text": [
      "\r",
      "Epoch 593/600:  99%|█████████▉| 593/600 [39:00<00:27,  3.97s/it, v_num=p2_1, total_loss_train=842, kl_local_train=47.9, tardis_age_0_train=13.1, tardis_integration_donor_0_train=15]  "
     ]
    },
    {
     "name": "stdout",
     "output_type": "stream",
     "text": [
      "\r",
      "Epoch 594/600:  99%|█████████▉| 593/600 [39:00<00:27,  3.97s/it, v_num=p2_1, total_loss_train=842, kl_local_train=47.9, tardis_age_0_train=13.1, tardis_integration_donor_0_train=15]"
     ]
    },
    {
     "name": "stdout",
     "output_type": "stream",
     "text": [
      "\r",
      "Epoch 594/600:  99%|█████████▉| 594/600 [39:04<00:23,  3.96s/it, v_num=p2_1, total_loss_train=842, kl_local_train=47.9, tardis_age_0_train=13.1, tardis_integration_donor_0_train=15]"
     ]
    },
    {
     "name": "stdout",
     "output_type": "stream",
     "text": [
      "\r",
      "Epoch 594/600:  99%|█████████▉| 594/600 [39:04<00:23,  3.96s/it, v_num=p2_1, total_loss_train=842, kl_local_train=48.1, tardis_age_0_train=13.1, tardis_integration_donor_0_train=14.9]"
     ]
    },
    {
     "name": "stdout",
     "output_type": "stream",
     "text": [
      "\r",
      "Epoch 595/600:  99%|█████████▉| 594/600 [39:04<00:23,  3.96s/it, v_num=p2_1, total_loss_train=842, kl_local_train=48.1, tardis_age_0_train=13.1, tardis_integration_donor_0_train=14.9]"
     ]
    },
    {
     "name": "stdout",
     "output_type": "stream",
     "text": [
      "\r",
      "Epoch 595/600:  99%|█████████▉| 595/600 [39:08<00:19,  3.94s/it, v_num=p2_1, total_loss_train=842, kl_local_train=48.1, tardis_age_0_train=13.1, tardis_integration_donor_0_train=14.9]"
     ]
    },
    {
     "name": "stdout",
     "output_type": "stream",
     "text": [
      "\r",
      "Epoch 595/600:  99%|█████████▉| 595/600 [39:08<00:19,  3.94s/it, v_num=p2_1, total_loss_train=842, kl_local_train=48.2, tardis_age_0_train=13, tardis_integration_donor_0_train=15]    "
     ]
    },
    {
     "name": "stdout",
     "output_type": "stream",
     "text": [
      "\r",
      "Epoch 596/600:  99%|█████████▉| 595/600 [39:08<00:19,  3.94s/it, v_num=p2_1, total_loss_train=842, kl_local_train=48.2, tardis_age_0_train=13, tardis_integration_donor_0_train=15]"
     ]
    },
    {
     "name": "stdout",
     "output_type": "stream",
     "text": [
      "\r",
      "Epoch 596/600:  99%|█████████▉| 596/600 [39:11<00:15,  3.93s/it, v_num=p2_1, total_loss_train=842, kl_local_train=48.2, tardis_age_0_train=13, tardis_integration_donor_0_train=15]"
     ]
    },
    {
     "name": "stdout",
     "output_type": "stream",
     "text": [
      "\r",
      "Epoch 596/600:  99%|█████████▉| 596/600 [39:11<00:15,  3.93s/it, v_num=p2_1, total_loss_train=841, kl_local_train=48.2, tardis_age_0_train=12.9, tardis_integration_donor_0_train=14.9]"
     ]
    },
    {
     "name": "stdout",
     "output_type": "stream",
     "text": [
      "\r",
      "Epoch 597/600:  99%|█████████▉| 596/600 [39:11<00:15,  3.93s/it, v_num=p2_1, total_loss_train=841, kl_local_train=48.2, tardis_age_0_train=12.9, tardis_integration_donor_0_train=14.9]"
     ]
    },
    {
     "name": "stdout",
     "output_type": "stream",
     "text": [
      "\r",
      "Epoch 597/600: 100%|█████████▉| 597/600 [39:15<00:11,  3.94s/it, v_num=p2_1, total_loss_train=841, kl_local_train=48.2, tardis_age_0_train=12.9, tardis_integration_donor_0_train=14.9]"
     ]
    },
    {
     "name": "stdout",
     "output_type": "stream",
     "text": [
      "\r",
      "Epoch 597/600: 100%|█████████▉| 597/600 [39:15<00:11,  3.94s/it, v_num=p2_1, total_loss_train=842, kl_local_train=48.1, tardis_age_0_train=13, tardis_integration_donor_0_train=15]    "
     ]
    },
    {
     "name": "stdout",
     "output_type": "stream",
     "text": [
      "\r",
      "Epoch 598/600: 100%|█████████▉| 597/600 [39:15<00:11,  3.94s/it, v_num=p2_1, total_loss_train=842, kl_local_train=48.1, tardis_age_0_train=13, tardis_integration_donor_0_train=15]"
     ]
    },
    {
     "name": "stdout",
     "output_type": "stream",
     "text": [
      "\r",
      "Epoch 598/600: 100%|█████████▉| 598/600 [39:19<00:07,  3.95s/it, v_num=p2_1, total_loss_train=842, kl_local_train=48.1, tardis_age_0_train=13, tardis_integration_donor_0_train=15]"
     ]
    },
    {
     "name": "stdout",
     "output_type": "stream",
     "text": [
      "\r",
      "Epoch 598/600: 100%|█████████▉| 598/600 [39:19<00:07,  3.95s/it, v_num=p2_1, total_loss_train=842, kl_local_train=48.1, tardis_age_0_train=13, tardis_integration_donor_0_train=15.1]"
     ]
    },
    {
     "name": "stdout",
     "output_type": "stream",
     "text": [
      "\r",
      "Epoch 599/600: 100%|█████████▉| 598/600 [39:19<00:07,  3.95s/it, v_num=p2_1, total_loss_train=842, kl_local_train=48.1, tardis_age_0_train=13, tardis_integration_donor_0_train=15.1]"
     ]
    },
    {
     "name": "stdout",
     "output_type": "stream",
     "text": [
      "\r",
      "Epoch 599/600: 100%|█████████▉| 599/600 [39:23<00:03,  3.94s/it, v_num=p2_1, total_loss_train=842, kl_local_train=48.1, tardis_age_0_train=13, tardis_integration_donor_0_train=15.1]"
     ]
    },
    {
     "name": "stdout",
     "output_type": "stream",
     "text": [
      "\r",
      "Epoch 599/600: 100%|█████████▉| 599/600 [39:23<00:03,  3.94s/it, v_num=p2_1, total_loss_train=841, kl_local_train=48.2, tardis_age_0_train=12.9, tardis_integration_donor_0_train=15.2]"
     ]
    },
    {
     "name": "stdout",
     "output_type": "stream",
     "text": [
      "\r",
      "Epoch 600/600: 100%|█████████▉| 599/600 [39:23<00:03,  3.94s/it, v_num=p2_1, total_loss_train=841, kl_local_train=48.2, tardis_age_0_train=12.9, tardis_integration_donor_0_train=15.2]"
     ]
    },
    {
     "name": "stdout",
     "output_type": "stream",
     "text": [
      "\r",
      "Epoch 600/600: 100%|██████████| 600/600 [39:27<00:00,  3.93s/it, v_num=p2_1, total_loss_train=841, kl_local_train=48.2, tardis_age_0_train=12.9, tardis_integration_donor_0_train=15.2]"
     ]
    },
    {
     "name": "stdout",
     "output_type": "stream",
     "text": [
      "\r",
      "Epoch 600/600: 100%|██████████| 600/600 [39:27<00:00,  3.93s/it, v_num=p2_1, total_loss_train=841, kl_local_train=48, tardis_age_0_train=12.9, tardis_integration_donor_0_train=14.9]  "
     ]
    },
    {
     "name": "stderr",
     "output_type": "stream",
     "text": [
      "`Trainer.fit` stopped: `max_epochs=600` reached.\n"
     ]
    },
    {
     "name": "stdout",
     "output_type": "stream",
     "text": [
      "\r",
      "Epoch 600/600: 100%|██████████| 600/600 [39:27<00:00,  3.95s/it, v_num=p2_1, total_loss_train=841, kl_local_train=48, tardis_age_0_train=12.9, tardis_integration_donor_0_train=14.9]"
     ]
    },
    {
     "name": "stdout",
     "output_type": "stream",
     "text": [
      "\n"
     ]
    },
    {
     "name": "stdout",
     "output_type": "stream",
     "text": [
      "W&B logger finalized successfully: \n",
      "Exit Code: 0\n",
      "\n"
     ]
    }
   ],
   "source": [
    "n_epochs_kl_warmup = 600\n",
    "\n",
    "model_params = dict(\n",
    "    n_hidden=512,\n",
    "    n_layers=3, \n",
    "    n_latent=(24 + 8 * len(disentenglement_targets_configurations)), \n",
    "    gene_likelihood = \"nb\",\n",
    "    use_batch_norm = \"none\",\n",
    "    use_layer_norm = \"both\",\n",
    "    dropout_rate = 0.25,\n",
    "    deeply_inject_disentengled_latents = True,\n",
    "    include_auxillary_loss = True,\n",
    "    beta_kl_weight = 0.5,\n",
    "    encode_covariates=True,\n",
    ")\n",
    "\n",
    "train_params = dict(\n",
    "    max_epochs=600,\n",
    "    train_size=0.8,\n",
    "    batch_size=128,\n",
    "    check_val_every_n_epoch=10,\n",
    "    limit_train_batches=1.0, \n",
    "    limit_val_batches=1.0,\n",
    "    learning_rate_monitor=True,\n",
    "    # early stopping:\n",
    "    early_stopping=False,\n",
    "    early_stopping_patience=150,\n",
    "    early_stopping_monitor=\"elbo_train\",\n",
    "    plan_kwargs = dict(\n",
    "        n_epochs_kl_warmup=n_epochs_kl_warmup,\n",
    "        lr=1e-4,\n",
    "        weight_decay=1e-4,\n",
    "        optimizer=\"AdamW\",\n",
    "        # lr-scheduler:\n",
    "        reduce_lr_on_plateau=True,\n",
    "        lr_patience=100,\n",
    "        lr_scheduler_metric=\"elbo_train\",\n",
    "    )\n",
    ")\n",
    "\n",
    "dataset_params = dict(\n",
    "    layer=None, \n",
    "    labels_key=\"cell_type\",\n",
    "    batch_key=None,\n",
    "    categorical_covariate_keys=None,\n",
    "    disentenglement_targets_configurations=disentenglement_targets_configurations,\n",
    ")\n",
    "\n",
    "tardis.MyModel.setup_anndata(adata, **dataset_params)\n",
    "dataset_params[\"adata_path\"] = adata_file_path\n",
    "dataset_params[\"adata\"] = os.path.split(adata_file_path)[1]\n",
    "\n",
    "tardis.MyModel.setup_wandb(\n",
    "    wandb_configurations=tardis.config.wandb,\n",
    "    hyperparams=dict(\n",
    "        model_params=model_params,\n",
    "        train_params=train_params,\n",
    "        dataset_params=dataset_params,\n",
    "    )\n",
    ")\n",
    "\n",
    "vae = tardis.MyModel(\n",
    "    adata,\n",
    "    **model_params\n",
    ")\n",
    "vae.train(**train_params)"
   ]
  },
  {
   "cell_type": "code",
   "execution_count": null,
   "id": "aa39520a-27f2-4fe5-a951-0ed92125deac",
   "metadata": {},
   "outputs": [],
   "source": [
    "vae.save(\n",
    "    dir_path,\n",
    "    overwrite=True,\n",
    ")"
   ]
  },
  {
   "cell_type": "code",
   "execution_count": null,
   "id": "45216c0c",
   "metadata": {},
   "outputs": [],
   "source": [
    "from tardis._disentanglementmanager import DisentanglementManager as DM"
   ]
  },
  {
   "cell_type": "code",
   "execution_count": null,
   "id": "a2b8fce7",
   "metadata": {},
   "outputs": [],
   "source": [
    "vae.get_MI_normalized_training(\"age_training\")"
   ]
  },
  {
   "cell_type": "code",
   "execution_count": null,
   "id": "8ff3f83e",
   "metadata": {},
   "outputs": [],
   "source": [
    "vae.get_MI_normalized_training(\"integration_donor\")"
   ]
  },
  {
   "cell_type": "code",
   "execution_count": null,
   "id": "e58080de",
   "metadata": {},
   "outputs": [],
   "source": [
    "vae.get_knn_purity_training(\"age_training\")"
   ]
  },
  {
   "cell_type": "code",
   "execution_count": null,
   "id": "c76ee287",
   "metadata": {},
   "outputs": [],
   "source": [
    "vae.get_knn_purity_training(\"integration_donor\")"
   ]
  },
  {
   "cell_type": "code",
   "execution_count": null,
   "id": "e211fc8e",
   "metadata": {},
   "outputs": [],
   "source": [
    "vae.get_reconstruction_r2_training(batch_size=256)"
   ]
  },
  {
   "cell_type": "code",
   "execution_count": null,
   "id": "f0ab6797-bc42-411f-a84e-49d866b7b4c7",
   "metadata": {},
   "outputs": [],
   "source": [
    "adata.obs[\"validation\"] = \"train\"\n",
    "adata.obs[\"validation\"].iloc[vae.validation_indices] = \"validation\""
   ]
  },
  {
   "cell_type": "code",
   "execution_count": null,
   "id": "814fbd31",
   "metadata": {},
   "outputs": [],
   "source": []
  },
  {
   "cell_type": "code",
   "execution_count": null,
   "id": "679f3f8f-051a-44f5-a4d5-7ef14e1dd574",
   "metadata": {},
   "outputs": [],
   "source": [
    "latent = ad.AnnData(X=vae.get_latent_representation(), obs=adata.obs.copy())\n",
    "sc.pp.neighbors(latent)\n",
    "sc.tl.umap(latent)"
   ]
  },
  {
   "cell_type": "code",
   "execution_count": null,
   "id": "3aa31068-3f2d-44f4-9dff-d3da80b59b30",
   "metadata": {},
   "outputs": [],
   "source": [
    "with warnings.catch_warnings():\n",
    "    warnings.simplefilter(\"ignore\")\n",
    "    sc.pl.umap(\n",
    "        latent, \n",
    "        color=[\"age\", \"integration_donor\", \"sex\", \"validation\"], \n",
    "        ncols=3,\n",
    "        frameon=False,\n",
    "        color_map=\"inferno\",\n",
    "        legend_fontsize=\"xx-small\"\n",
    "    )"
   ]
  },
  {
   "cell_type": "code",
   "execution_count": null,
   "id": "180c59f1",
   "metadata": {},
   "outputs": [],
   "source": [
    "from tardis._disentanglementmanager import DisentanglementManager as DM"
   ]
  },
  {
   "cell_type": "code",
   "execution_count": null,
   "id": "a444f732",
   "metadata": {},
   "outputs": [],
   "source": [
    "latent = ad.AnnData(X=vae.get_latent_representation()[:, DM.configurations.get_by_obs_key(\"age_training\").reserved_latent_indices], obs=adata.obs.copy())\n",
    "sc.pp.neighbors(latent)\n",
    "sc.tl.umap(latent)\n",
    "with warnings.catch_warnings():\n",
    "    warnings.simplefilter(\"ignore\")\n",
    "    sc.pl.umap(\n",
    "        latent, \n",
    "        color=[\"age\", \"integration_donor\", \"sex\", \"validation\"], \n",
    "        ncols=3,\n",
    "        frameon=False,\n",
    "        color_map=\"inferno\",\n",
    "        legend_fontsize=\"xx-small\"\n",
    "    )"
   ]
  },
  {
   "cell_type": "code",
   "execution_count": null,
   "id": "c334dd40",
   "metadata": {},
   "outputs": [],
   "source": [
    "latent = ad.AnnData(X=vae.get_latent_representation()[:, DM.configurations.get_by_obs_key(\"integration_donor\").reserved_latent_indices], obs=adata.obs.copy())\n",
    "sc.pp.neighbors(latent)\n",
    "sc.tl.umap(latent)\n",
    "with warnings.catch_warnings():\n",
    "    warnings.simplefilter(\"ignore\")\n",
    "    sc.pl.umap(\n",
    "        latent, \n",
    "        color=[\"age\", \"integration_donor\", \"sex\", \"validation\"], \n",
    "        ncols=3,\n",
    "        frameon=False,\n",
    "        color_map=\"inferno\",\n",
    "        legend_fontsize=\"xx-small\"\n",
    "    )"
   ]
  },
  {
   "cell_type": "code",
   "execution_count": null,
   "id": "c46136f3-5c49-4dbb-80ef-75591570deac",
   "metadata": {},
   "outputs": [],
   "source": [
    "adata_main = ad.read_h5ad(adata_file_path)\n",
    "adata_main.obs[\"age\"] = adata_main.obs[\"age\"].astype(\"str\").astype(\"category\")\n",
    "adata_main.obs[\"age_continuous\"] = adata_main.obs[\"age\"].astype(float)\n",
    "d = {i: ind for ind, i in enumerate(sorted(adata_main.obs[\"age\"].astype(float).unique()))}\n",
    "adata_main.obs[\"age_training\"] = [d[float(i)] for i in adata_main.obs[\"age\"]]\n",
    "\n",
    "adata_main.obs[\"ood\"] = choices_bool.astype(int).astype(str)\n",
    "adata_main.obs[\"ood\"] = adata_main.obs[\"ood\"].astype(\"category\")\n",
    "\n",
    "adata_ood = adata_main[adata_main.obs[\"ood\"] == \"1\"].copy()"
   ]
  },
  {
   "cell_type": "code",
   "execution_count": null,
   "id": "7033224f",
   "metadata": {},
   "outputs": [],
   "source": [
    "# latent_main = ad.AnnData(X=vae.get_latent_representation(adata_main)[:, DM.configurations.get_by_obs_key(\"age\").reserved_latent_indices], obs=adata_main.obs.copy())\n",
    "latent_main = ad.AnnData(X=vae.get_latent_representation(adata_main), obs=adata_main.obs.copy())\n",
    "sc.pp.neighbors(latent_main, n_neighbors = 30)\n",
    "sc.tl.umap(latent_main)"
   ]
  },
  {
   "cell_type": "code",
   "execution_count": null,
   "id": "80a0fcdf",
   "metadata": {},
   "outputs": [],
   "source": [
    "with warnings.catch_warnings():\n",
    "    warnings.simplefilter(\"ignore\")\n",
    "    sc.pl.umap(\n",
    "        latent_main, \n",
    "        color=[\"age\", \"integration_donor\", \"sex\", \"ood\"], \n",
    "        ncols=3,\n",
    "        frameon=False,\n",
    "        color_map=\"inferno\",\n",
    "        legend_fontsize=\"xx-small\"\n",
    "    )"
   ]
  },
  {
   "cell_type": "code",
   "execution_count": null,
   "id": "26a1628c-70fc-4870-a53d-c460a201aa95",
   "metadata": {},
   "outputs": [],
   "source": []
  },
  {
   "cell_type": "code",
   "execution_count": null,
   "id": "91d1cff9-93ab-4117-aebb-c762b422da13",
   "metadata": {},
   "outputs": [],
   "source": []
  }
 ],
 "metadata": {
  "kernelspec": {
   "display_name": "Python 3 (ipykernel)",
   "language": "python",
   "name": "python3"
  },
  "language_info": {
   "codemirror_mode": {
    "name": "ipython",
    "version": 3
   },
   "file_extension": ".py",
   "mimetype": "text/x-python",
   "name": "python",
   "nbconvert_exporter": "python",
   "pygments_lexer": "ipython3",
   "version": "3.10.14"
  }
 },
 "nbformat": 4,
 "nbformat_minor": 5
}
