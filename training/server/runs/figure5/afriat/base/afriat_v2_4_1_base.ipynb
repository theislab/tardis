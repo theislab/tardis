{
 "cells": [
  {
   "cell_type": "markdown",
   "id": "7a174ddf-1bac-4261-a2df-155cc7e8fc31",
   "metadata": {},
   "source": [
    "# Afriat"
   ]
  },
  {
   "cell_type": "code",
   "execution_count": null,
   "id": "7a7250a1-6fea-49a7-8ba0-31ebb28ecdc1",
   "metadata": {},
   "outputs": [],
   "source": [
    "ood_seed = 0"
   ]
  },
  {
   "cell_type": "code",
   "execution_count": null,
   "id": "afc61f45-489c-4e5a-8d55-53c29dfff459",
   "metadata": {},
   "outputs": [],
   "source": [
    "num_ood = 1  # not functioning"
   ]
  },
  {
   "cell_type": "code",
   "execution_count": null,
   "id": "0d362b42-a27d-486f-9c83-f52a59bfc6a5",
   "metadata": {},
   "outputs": [],
   "source": [
    "import warnings\n",
    "import os\n",
    "import sys\n",
    "import gc\n",
    "import warnings\n",
    "import anndata as ad\n",
    "import scanpy as sc\n",
    "import copy\n",
    "import torch\n",
    "from pathlib import Path\n",
    "import networkx as nx\n",
    "from sklearn.neighbors import kneighbors_graph\n",
    "import numpy as np\n",
    "import scanpy as sc\n",
    "import pandas as pd\n",
    "import numpy as np\n",
    "import scipy.stats\n",
    "import sklearn\n",
    "from sklearn.dummy import DummyClassifier\n",
    "\n",
    "sys.path.append(\"/home/icb/kemal.inecik/work/codes/tardis\")\n",
    "import tardis\n",
    "from tardis._utils.functions import label_transfer\n",
    "tardis.config = tardis.config_server\n",
    "print(f\"CUDA used: {torch.cuda.is_available()}\")"
   ]
  },
  {
   "cell_type": "code",
   "execution_count": null,
   "id": "f0a8fa63-54f9-4cc9-aa2c-e2f1ce8ec9e8",
   "metadata": {},
   "outputs": [],
   "source": [
    "%matplotlib inline\n",
    "%config InlineBackend.figure_format='retina'\n",
    "import matplotlib.pyplot as plt\n",
    "import seaborn as sns\n",
    "\n",
    "import pickle\n",
    "_rcparams_path = \"/home/icb/kemal.inecik/work/codes/tardis/training/local/figures/rcparams.pickle\"\n",
    "with open(_rcparams_path, 'rb') as file:\n",
    "    _rcparams = pickle.load(file)\n",
    "plt.rcParams.update(_rcparams)"
   ]
  },
  {
   "cell_type": "code",
   "execution_count": null,
   "id": "ea9ee642-93ef-4cbc-b83c-5e9f16122b7d",
   "metadata": {},
   "outputs": [],
   "source": [
    "adata_file_path = os.path.join(tardis.config.io_directories[\"processed\"], \"biolord_afriat.h5ad\")\n",
    "assert os.path.isfile(adata_file_path), f\"File not already exist: `{adata_file_path}`\"\n",
    "adata = ad.read_h5ad(adata_file_path)\n",
    "adata"
   ]
  },
  {
   "cell_type": "code",
   "execution_count": null,
   "id": "bedadaf8-3014-4ff6-9a4e-f2899715bb49",
   "metadata": {},
   "outputs": [],
   "source": [
    "df = adata.obs.groupby(['time_cat', 'zone', 'status_control']).size()\n",
    "availables = list(df[df>100].index)\n",
    "availables, len(availables)"
   ]
  },
  {
   "cell_type": "code",
   "execution_count": null,
   "id": "609872ea-10d4-4d84-9300-e58a1b7f10ff",
   "metadata": {},
   "outputs": [],
   "source": [
    "def adata_ood_creator(adata, seed, size):\n",
    "    rng = np.random.default_rng(seed=seed)\n",
    "    # random_choices = rng.choice(np.arange(len(availables)), size=size, replace=False)\n",
    "    # choices = [availables[i] for i in random_choices]\n",
    "    choices = [availables[ood_seed]]\n",
    "    for choice in choices:\n",
    "        print(choice)\n",
    "    choices_bool = np.vstack([(adata.obs[\"time_cat\"] == choice[0]) & (adata.obs[\"zone\"] == choice[1]) & (adata.obs[\"status_control\"] == choice[2]) for choice in choices]).any(axis=0)\n",
    "    print(f\"\\nRemoved datapoint: {choices_bool.sum()}\")\n",
    "    return adata[~choices_bool, :].copy(), choices_bool\n",
    "\n",
    "adata, choices_bool = adata_ood_creator(adata, seed=ood_seed, size=num_ood)"
   ]
  },
  {
   "cell_type": "code",
   "execution_count": null,
   "id": "c43333cc-9e19-469f-8452-11ff5ee08db9",
   "metadata": {},
   "outputs": [],
   "source": [
    "warmup_epoch_range = [6, 48]\n",
    "dtc_w1 = 100\n",
    "dtc_w2 = 10\n",
    "\n",
    "counteractive_minibatch_settings = dict(\n",
    "    method = \"categorical_random\",\n",
    "    method_kwargs = dict(\n",
    "        within_labels = False,\n",
    "        within_batch = False,\n",
    "        within_categorical_covs = None,\n",
    "        seed = \"forward\",\n",
    "    )\n",
    ")\n",
    "\n",
    "disentenglement_targets_configurations=[\n",
    "    dict(\n",
    "        obs_key = \"status_control\",\n",
    "        n_reserved_latent = 8,\n",
    "        counteractive_minibatch_settings = counteractive_minibatch_settings,\n",
    "        auxillary_losses = [\n",
    "            dict(\n",
    "                apply = True, \n",
    "                target_type=\"categorical\",\n",
    "                progress_bar = False,\n",
    "                weight = dtc_w1,\n",
    "                method = \"mse_z\", \n",
    "                latent_group = \"reserved\",\n",
    "                counteractive_example = \"negative\",\n",
    "                transformation = \"inverse\", \n",
    "                warmup_epoch_range=warmup_epoch_range,\n",
    "                method_kwargs = {}\n",
    "            ),\n",
    "            dict(\n",
    "                apply = True, \n",
    "                target_type=\"categorical\",\n",
    "                progress_bar = False,\n",
    "                weight = dtc_w2, \n",
    "                method = \"mse_z\", \n",
    "                latent_group = \"reserved\",\n",
    "                counteractive_example = \"positive\",\n",
    "                transformation = \"none\",\n",
    "                warmup_epoch_range=warmup_epoch_range,\n",
    "                method_kwargs = {}\n",
    "            ),\n",
    "            dict(\n",
    "                apply = True, \n",
    "                target_type=\"categorical\",\n",
    "                progress_bar = False,\n",
    "                weight = dtc_w2 * 1,\n",
    "                method = \"mse_z\", \n",
    "                latent_group = \"unreserved_complete\",\n",
    "                counteractive_example = \"negative\",\n",
    "                transformation = \"none\", \n",
    "                warmup_epoch_range=warmup_epoch_range,\n",
    "                method_kwargs = {}\n",
    "            ),\n",
    "            dict(\n",
    "                apply = True, \n",
    "                target_type=\"categorical\",\n",
    "                progress_bar = False,\n",
    "                weight = dtc_w1 * 1, \n",
    "                method = \"mse_z\", \n",
    "                latent_group = \"unreserved_complete\",\n",
    "                counteractive_example = \"positive\",\n",
    "                transformation = \"inverse\",\n",
    "                warmup_epoch_range=warmup_epoch_range,\n",
    "                method_kwargs = {}\n",
    "            ),\n",
    "        ]\n",
    "    ),\n",
    "    dict(\n",
    "        obs_key = \"time_cat\",\n",
    "        n_reserved_latent = 8,\n",
    "        counteractive_minibatch_settings = counteractive_minibatch_settings,\n",
    "        auxillary_losses = [\n",
    "            dict(\n",
    "                apply = True, \n",
    "                target_type=\"categorical\",\n",
    "                progress_bar = False,\n",
    "                weight = dtc_w1,\n",
    "                method = \"mse_z\", \n",
    "                latent_group = \"reserved\",\n",
    "                counteractive_example = \"negative\",\n",
    "                transformation = \"inverse\", \n",
    "                warmup_epoch_range=warmup_epoch_range,\n",
    "                method_kwargs = {}\n",
    "            ),\n",
    "            dict(\n",
    "                apply = True, \n",
    "                target_type=\"categorical\",\n",
    "                progress_bar = False,\n",
    "                weight = dtc_w2, \n",
    "                method = \"mse_z\", \n",
    "                latent_group = \"reserved\",\n",
    "                counteractive_example = \"positive\",\n",
    "                transformation = \"none\",\n",
    "                warmup_epoch_range=warmup_epoch_range,\n",
    "                method_kwargs = {}\n",
    "            ),\n",
    "            dict(\n",
    "                apply = True, \n",
    "                target_type=\"categorical\",\n",
    "                progress_bar = False,\n",
    "                weight = dtc_w2 * 1,\n",
    "                method = \"mse_z\", \n",
    "                latent_group = \"unreserved_complete\",\n",
    "                counteractive_example = \"negative\",\n",
    "                transformation = \"none\", \n",
    "                warmup_epoch_range=warmup_epoch_range,\n",
    "                method_kwargs = {}\n",
    "            ),\n",
    "            dict(\n",
    "                apply = True, \n",
    "                target_type=\"categorical\",\n",
    "                progress_bar = False,\n",
    "                weight = dtc_w1 * 1, \n",
    "                method = \"mse_z\", \n",
    "                latent_group = \"unreserved_complete\",\n",
    "                counteractive_example = \"positive\",\n",
    "                transformation = \"inverse\",\n",
    "                warmup_epoch_range=warmup_epoch_range,\n",
    "                method_kwargs = {}\n",
    "            ),\n",
    "        ]\n",
    "    ),\n",
    "    dict(\n",
    "        obs_key = \"zone\",\n",
    "        n_reserved_latent = 8,\n",
    "        counteractive_minibatch_settings = counteractive_minibatch_settings,\n",
    "        auxillary_losses = [\n",
    "            dict(\n",
    "                apply = True, \n",
    "                target_type=\"categorical\",\n",
    "                progress_bar = False,\n",
    "                weight = dtc_w1,\n",
    "                method = \"mse_z\", \n",
    "                latent_group = \"reserved\",\n",
    "                counteractive_example = \"negative\",\n",
    "                transformation = \"inverse\", \n",
    "                warmup_epoch_range=warmup_epoch_range,\n",
    "                method_kwargs = {}\n",
    "            ),\n",
    "            dict(\n",
    "                apply = True, \n",
    "                target_type=\"categorical\",\n",
    "                progress_bar = False,\n",
    "                weight = dtc_w2, \n",
    "                method = \"mse_z\", \n",
    "                latent_group = \"reserved\",\n",
    "                counteractive_example = \"positive\",\n",
    "                transformation = \"none\",\n",
    "                warmup_epoch_range=warmup_epoch_range,\n",
    "                method_kwargs = {}\n",
    "            ),\n",
    "            dict(\n",
    "                apply = True, \n",
    "                target_type=\"categorical\",\n",
    "                progress_bar = False,\n",
    "                weight = dtc_w2 * 1,\n",
    "                method = \"mse_z\", \n",
    "                latent_group = \"unreserved_complete\",\n",
    "                counteractive_example = \"negative\",\n",
    "                transformation = \"none\", \n",
    "                warmup_epoch_range=warmup_epoch_range,\n",
    "                method_kwargs = {}\n",
    "            ),\n",
    "            dict(\n",
    "                apply = True, \n",
    "                target_type=\"categorical\",\n",
    "                progress_bar = False,\n",
    "                weight = dtc_w1 * 1, \n",
    "                method = \"mse_z\", \n",
    "                latent_group = \"unreserved_complete\",\n",
    "                counteractive_example = \"positive\",\n",
    "                transformation = \"inverse\",\n",
    "                warmup_epoch_range=warmup_epoch_range,\n",
    "                method_kwargs = {}\n",
    "            ),\n",
    "        ]\n",
    "    )\n",
    "]"
   ]
  },
  {
   "cell_type": "code",
   "execution_count": null,
   "id": "af1962de-51e8-453c-907a-b338c1f82f88",
   "metadata": {},
   "outputs": [
    {
     "name": "stdout",
     "output_type": "stream",
     "text": [
      "\r",
      "Epoch 5/600:   1%|          | 5/600 [01:04<2:07:44, 12.88s/it, v_num=rp_1, total_loss_train=3.22e+3, kl_local_train=82.1]"
     ]
    },
    {
     "name": "stdout",
     "output_type": "stream",
     "text": [
      "\r",
      "Epoch 5/600:   1%|          | 5/600 [01:04<2:07:44, 12.88s/it, v_num=rp_1, total_loss_train=3.22e+3, kl_local_train=76.3]"
     ]
    },
    {
     "name": "stdout",
     "output_type": "stream",
     "text": [
      "\r",
      "Epoch 6/600:   1%|          | 5/600 [01:06<2:07:44, 12.88s/it, v_num=rp_1, total_loss_train=3.22e+3, kl_local_train=76.3]"
     ]
    },
    {
     "name": "stdout",
     "output_type": "stream",
     "text": [
      "\r",
      "Epoch 6/600:   1%|          | 6/600 [01:19<2:13:41, 13.50s/it, v_num=rp_1, total_loss_train=3.22e+3, kl_local_train=76.3]"
     ]
    },
    {
     "name": "stdout",
     "output_type": "stream",
     "text": [
      "\r",
      "Epoch 6/600:   1%|          | 6/600 [01:19<2:13:41, 13.50s/it, v_num=rp_1, total_loss_train=3.22e+3, kl_local_train=67.6, metric_mi|status_control_train=0.0182, metric_mi|zone_train=0.00749, metric_mi|time_cat_train=0.0122, metric_mi|mouse_train=0.0349]"
     ]
    },
    {
     "name": "stdout",
     "output_type": "stream",
     "text": [
      "\r",
      "Epoch 7/600:   1%|          | 6/600 [01:19<2:13:41, 13.50s/it, v_num=rp_1, total_loss_train=3.22e+3, kl_local_train=67.6, metric_mi|status_control_train=0.0182, metric_mi|zone_train=0.00749, metric_mi|time_cat_train=0.0122, metric_mi|mouse_train=0.0349]"
     ]
    },
    {
     "name": "stdout",
     "output_type": "stream",
     "text": [
      "\r",
      "Epoch 7/600:   1%|          | 7/600 [01:32<2:13:39, 13.52s/it, v_num=rp_1, total_loss_train=3.22e+3, kl_local_train=67.6, metric_mi|status_control_train=0.0182, metric_mi|zone_train=0.00749, metric_mi|time_cat_train=0.0122, metric_mi|mouse_train=0.0349]"
     ]
    },
    {
     "name": "stdout",
     "output_type": "stream",
     "text": [
      "\r",
      "Epoch 7/600:   1%|          | 7/600 [01:32<2:13:39, 13.52s/it, v_num=rp_1, total_loss_train=3.22e+3, kl_local_train=56.6, metric_mi|status_control_train=0.0182, metric_mi|zone_train=0.00749, metric_mi|time_cat_train=0.0122, metric_mi|mouse_train=0.0349]"
     ]
    },
    {
     "name": "stdout",
     "output_type": "stream",
     "text": [
      "\r",
      "Epoch 8/600:   1%|          | 7/600 [01:32<2:13:39, 13.52s/it, v_num=rp_1, total_loss_train=3.22e+3, kl_local_train=56.6, metric_mi|status_control_train=0.0182, metric_mi|zone_train=0.00749, metric_mi|time_cat_train=0.0122, metric_mi|mouse_train=0.0349]"
     ]
    },
    {
     "name": "stdout",
     "output_type": "stream",
     "text": [
      "\r",
      "Epoch 8/600:   1%|▏         | 8/600 [01:46<2:11:58, 13.38s/it, v_num=rp_1, total_loss_train=3.22e+3, kl_local_train=56.6, metric_mi|status_control_train=0.0182, metric_mi|zone_train=0.00749, metric_mi|time_cat_train=0.0122, metric_mi|mouse_train=0.0349]"
     ]
    },
    {
     "name": "stdout",
     "output_type": "stream",
     "text": [
      "\r",
      "Epoch 8/600:   1%|▏         | 8/600 [01:46<2:11:58, 13.38s/it, v_num=rp_1, total_loss_train=3.23e+3, kl_local_train=39.7, metric_mi|status_control_train=0.0182, metric_mi|zone_train=0.00749, metric_mi|time_cat_train=0.0122, metric_mi|mouse_train=0.0349]"
     ]
    },
    {
     "name": "stdout",
     "output_type": "stream",
     "text": [
      "\r",
      "Epoch 9/600:   1%|▏         | 8/600 [01:46<2:11:58, 13.38s/it, v_num=rp_1, total_loss_train=3.23e+3, kl_local_train=39.7, metric_mi|status_control_train=0.0182, metric_mi|zone_train=0.00749, metric_mi|time_cat_train=0.0122, metric_mi|mouse_train=0.0349]"
     ]
    },
    {
     "name": "stdout",
     "output_type": "stream",
     "text": [
      "\r",
      "Epoch 9/600:   2%|▏         | 9/600 [01:59<2:11:20, 13.33s/it, v_num=rp_1, total_loss_train=3.23e+3, kl_local_train=39.7, metric_mi|status_control_train=0.0182, metric_mi|zone_train=0.00749, metric_mi|time_cat_train=0.0122, metric_mi|mouse_train=0.0349]"
     ]
    },
    {
     "name": "stdout",
     "output_type": "stream",
     "text": [
      "\r",
      "Epoch 9/600:   2%|▏         | 9/600 [01:59<2:11:20, 13.33s/it, v_num=rp_1, total_loss_train=3.23e+3, kl_local_train=30, metric_mi|status_control_train=0.0182, metric_mi|zone_train=0.00749, metric_mi|time_cat_train=0.0122, metric_mi|mouse_train=0.0349]  "
     ]
    },
    {
     "name": "stdout",
     "output_type": "stream",
     "text": [
      "\r",
      "Epoch 10/600:   2%|▏         | 9/600 [01:59<2:11:20, 13.33s/it, v_num=rp_1, total_loss_train=3.23e+3, kl_local_train=30, metric_mi|status_control_train=0.0182, metric_mi|zone_train=0.00749, metric_mi|time_cat_train=0.0122, metric_mi|mouse_train=0.0349]"
     ]
    },
    {
     "name": "stdout",
     "output_type": "stream",
     "text": [
      "\r",
      "Epoch 10/600:   2%|▏         | 10/600 [02:12<2:10:38, 13.29s/it, v_num=rp_1, total_loss_train=3.23e+3, kl_local_train=30, metric_mi|status_control_train=0.0182, metric_mi|zone_train=0.00749, metric_mi|time_cat_train=0.0122, metric_mi|mouse_train=0.0349]"
     ]
    },
    {
     "name": "stdout",
     "output_type": "stream",
     "text": [
      "\r",
      "Epoch 10/600:   2%|▏         | 10/600 [02:12<2:10:38, 13.29s/it, v_num=rp_1, total_loss_train=3.23e+3, kl_local_train=59.2, metric_mi|status_control_train=0.0182, metric_mi|zone_train=0.00749, metric_mi|time_cat_train=0.0122, metric_mi|mouse_train=0.0349]"
     ]
    },
    {
     "name": "stdout",
     "output_type": "stream",
     "text": [
      "\r",
      "Epoch 11/600:   2%|▏         | 10/600 [02:13<2:10:38, 13.29s/it, v_num=rp_1, total_loss_train=3.23e+3, kl_local_train=59.2, metric_mi|status_control_train=0.0182, metric_mi|zone_train=0.00749, metric_mi|time_cat_train=0.0122, metric_mi|mouse_train=0.0349]"
     ]
    },
    {
     "name": "stdout",
     "output_type": "stream",
     "text": [
      "\r",
      "Epoch 11/600:   2%|▏         | 11/600 [02:26<2:13:11, 13.57s/it, v_num=rp_1, total_loss_train=3.23e+3, kl_local_train=59.2, metric_mi|status_control_train=0.0182, metric_mi|zone_train=0.00749, metric_mi|time_cat_train=0.0122, metric_mi|mouse_train=0.0349]"
     ]
    },
    {
     "name": "stdout",
     "output_type": "stream",
     "text": [
      "\r",
      "Epoch 11/600:   2%|▏         | 11/600 [02:26<2:13:11, 13.57s/it, v_num=rp_1, total_loss_train=3.22e+3, kl_local_train=138, metric_mi|status_control_train=0.0213, metric_mi|zone_train=0.0921, metric_mi|time_cat_train=0.0166, metric_mi|mouse_train=0.04]    "
     ]
    },
    {
     "name": "stdout",
     "output_type": "stream",
     "text": [
      "\r",
      "Epoch 12/600:   2%|▏         | 11/600 [02:26<2:13:11, 13.57s/it, v_num=rp_1, total_loss_train=3.22e+3, kl_local_train=138, metric_mi|status_control_train=0.0213, metric_mi|zone_train=0.0921, metric_mi|time_cat_train=0.0166, metric_mi|mouse_train=0.04]"
     ]
    },
    {
     "name": "stdout",
     "output_type": "stream",
     "text": [
      "\r",
      "Epoch 12/600:   2%|▏         | 12/600 [02:39<2:10:36, 13.33s/it, v_num=rp_1, total_loss_train=3.22e+3, kl_local_train=138, metric_mi|status_control_train=0.0213, metric_mi|zone_train=0.0921, metric_mi|time_cat_train=0.0166, metric_mi|mouse_train=0.04]"
     ]
    },
    {
     "name": "stdout",
     "output_type": "stream",
     "text": [
      "\r",
      "Epoch 12/600:   2%|▏         | 12/600 [02:39<2:10:36, 13.33s/it, v_num=rp_1, total_loss_train=3.22e+3, kl_local_train=196, metric_mi|status_control_train=0.0213, metric_mi|zone_train=0.0921, metric_mi|time_cat_train=0.0166, metric_mi|mouse_train=0.04]"
     ]
    },
    {
     "name": "stdout",
     "output_type": "stream",
     "text": [
      "\r",
      "Epoch 13/600:   2%|▏         | 12/600 [02:39<2:10:36, 13.33s/it, v_num=rp_1, total_loss_train=3.22e+3, kl_local_train=196, metric_mi|status_control_train=0.0213, metric_mi|zone_train=0.0921, metric_mi|time_cat_train=0.0166, metric_mi|mouse_train=0.04]"
     ]
    },
    {
     "name": "stdout",
     "output_type": "stream",
     "text": [
      "\r",
      "Epoch 13/600:   2%|▏         | 13/600 [02:52<2:08:39, 13.15s/it, v_num=rp_1, total_loss_train=3.22e+3, kl_local_train=196, metric_mi|status_control_train=0.0213, metric_mi|zone_train=0.0921, metric_mi|time_cat_train=0.0166, metric_mi|mouse_train=0.04]"
     ]
    },
    {
     "name": "stdout",
     "output_type": "stream",
     "text": [
      "\r",
      "Epoch 13/600:   2%|▏         | 13/600 [02:52<2:08:39, 13.15s/it, v_num=rp_1, total_loss_train=3.22e+3, kl_local_train=213, metric_mi|status_control_train=0.0213, metric_mi|zone_train=0.0921, metric_mi|time_cat_train=0.0166, metric_mi|mouse_train=0.04]"
     ]
    },
    {
     "name": "stdout",
     "output_type": "stream",
     "text": [
      "\r",
      "Epoch 14/600:   2%|▏         | 13/600 [02:52<2:08:39, 13.15s/it, v_num=rp_1, total_loss_train=3.22e+3, kl_local_train=213, metric_mi|status_control_train=0.0213, metric_mi|zone_train=0.0921, metric_mi|time_cat_train=0.0166, metric_mi|mouse_train=0.04]"
     ]
    },
    {
     "name": "stdout",
     "output_type": "stream",
     "text": [
      "\r",
      "Epoch 14/600:   2%|▏         | 14/600 [03:04<2:06:28, 12.95s/it, v_num=rp_1, total_loss_train=3.22e+3, kl_local_train=213, metric_mi|status_control_train=0.0213, metric_mi|zone_train=0.0921, metric_mi|time_cat_train=0.0166, metric_mi|mouse_train=0.04]"
     ]
    },
    {
     "name": "stdout",
     "output_type": "stream",
     "text": [
      "\r",
      "Epoch 14/600:   2%|▏         | 14/600 [03:04<2:06:28, 12.95s/it, v_num=rp_1, total_loss_train=3.21e+3, kl_local_train=211, metric_mi|status_control_train=0.0213, metric_mi|zone_train=0.0921, metric_mi|time_cat_train=0.0166, metric_mi|mouse_train=0.04]"
     ]
    },
    {
     "name": "stdout",
     "output_type": "stream",
     "text": [
      "\r",
      "Epoch 15/600:   2%|▏         | 14/600 [03:04<2:06:28, 12.95s/it, v_num=rp_1, total_loss_train=3.21e+3, kl_local_train=211, metric_mi|status_control_train=0.0213, metric_mi|zone_train=0.0921, metric_mi|time_cat_train=0.0166, metric_mi|mouse_train=0.04]"
     ]
    },
    {
     "name": "stdout",
     "output_type": "stream",
     "text": [
      "\r",
      "Epoch 15/600:   2%|▎         | 15/600 [03:17<2:05:38, 12.89s/it, v_num=rp_1, total_loss_train=3.21e+3, kl_local_train=211, metric_mi|status_control_train=0.0213, metric_mi|zone_train=0.0921, metric_mi|time_cat_train=0.0166, metric_mi|mouse_train=0.04]"
     ]
    },
    {
     "name": "stdout",
     "output_type": "stream",
     "text": [
      "\r",
      "Epoch 15/600:   2%|▎         | 15/600 [03:17<2:05:38, 12.89s/it, v_num=rp_1, total_loss_train=3.21e+3, kl_local_train=164, metric_mi|status_control_train=0.0213, metric_mi|zone_train=0.0921, metric_mi|time_cat_train=0.0166, metric_mi|mouse_train=0.04]"
     ]
    },
    {
     "name": "stdout",
     "output_type": "stream",
     "text": [
      "\r",
      "Epoch 16/600:   2%|▎         | 15/600 [03:18<2:05:38, 12.89s/it, v_num=rp_1, total_loss_train=3.21e+3, kl_local_train=164, metric_mi|status_control_train=0.0213, metric_mi|zone_train=0.0921, metric_mi|time_cat_train=0.0166, metric_mi|mouse_train=0.04]"
     ]
    },
    {
     "name": "stdout",
     "output_type": "stream",
     "text": [
      "\r",
      "Epoch 16/600:   3%|▎         | 16/600 [03:31<2:09:21, 13.29s/it, v_num=rp_1, total_loss_train=3.21e+3, kl_local_train=164, metric_mi|status_control_train=0.0213, metric_mi|zone_train=0.0921, metric_mi|time_cat_train=0.0166, metric_mi|mouse_train=0.04]"
     ]
    },
    {
     "name": "stdout",
     "output_type": "stream",
     "text": [
      "\r",
      "Epoch 16/600:   3%|▎         | 16/600 [03:31<2:09:21, 13.29s/it, v_num=rp_1, total_loss_train=3.21e+3, kl_local_train=164, metric_mi|status_control_train=0.0364, metric_mi|zone_train=0.183, metric_mi|time_cat_train=0.0614, metric_mi|mouse_train=0.078]"
     ]
    },
    {
     "name": "stdout",
     "output_type": "stream",
     "text": [
      "\r",
      "Epoch 17/600:   3%|▎         | 16/600 [03:31<2:09:21, 13.29s/it, v_num=rp_1, total_loss_train=3.21e+3, kl_local_train=164, metric_mi|status_control_train=0.0364, metric_mi|zone_train=0.183, metric_mi|time_cat_train=0.0614, metric_mi|mouse_train=0.078]"
     ]
    },
    {
     "name": "stdout",
     "output_type": "stream",
     "text": [
      "\r",
      "Epoch 17/600:   3%|▎         | 17/600 [03:44<2:07:52, 13.16s/it, v_num=rp_1, total_loss_train=3.21e+3, kl_local_train=164, metric_mi|status_control_train=0.0364, metric_mi|zone_train=0.183, metric_mi|time_cat_train=0.0614, metric_mi|mouse_train=0.078]"
     ]
    },
    {
     "name": "stdout",
     "output_type": "stream",
     "text": [
      "\r",
      "Epoch 17/600:   3%|▎         | 17/600 [03:44<2:07:52, 13.16s/it, v_num=rp_1, total_loss_train=3.21e+3, kl_local_train=199, metric_mi|status_control_train=0.0364, metric_mi|zone_train=0.183, metric_mi|time_cat_train=0.0614, metric_mi|mouse_train=0.078]"
     ]
    },
    {
     "name": "stdout",
     "output_type": "stream",
     "text": [
      "\r",
      "Epoch 18/600:   3%|▎         | 17/600 [03:44<2:07:52, 13.16s/it, v_num=rp_1, total_loss_train=3.21e+3, kl_local_train=199, metric_mi|status_control_train=0.0364, metric_mi|zone_train=0.183, metric_mi|time_cat_train=0.0614, metric_mi|mouse_train=0.078]"
     ]
    },
    {
     "name": "stdout",
     "output_type": "stream",
     "text": [
      "\r",
      "Epoch 18/600:   3%|▎         | 18/600 [03:57<2:06:49, 13.07s/it, v_num=rp_1, total_loss_train=3.21e+3, kl_local_train=199, metric_mi|status_control_train=0.0364, metric_mi|zone_train=0.183, metric_mi|time_cat_train=0.0614, metric_mi|mouse_train=0.078]"
     ]
    },
    {
     "name": "stdout",
     "output_type": "stream",
     "text": [
      "\r",
      "Epoch 18/600:   3%|▎         | 18/600 [03:57<2:06:49, 13.07s/it, v_num=rp_1, total_loss_train=3.21e+3, kl_local_train=207, metric_mi|status_control_train=0.0364, metric_mi|zone_train=0.183, metric_mi|time_cat_train=0.0614, metric_mi|mouse_train=0.078]"
     ]
    },
    {
     "name": "stdout",
     "output_type": "stream",
     "text": [
      "\r",
      "Epoch 19/600:   3%|▎         | 18/600 [03:57<2:06:49, 13.07s/it, v_num=rp_1, total_loss_train=3.21e+3, kl_local_train=207, metric_mi|status_control_train=0.0364, metric_mi|zone_train=0.183, metric_mi|time_cat_train=0.0614, metric_mi|mouse_train=0.078]"
     ]
    },
    {
     "name": "stdout",
     "output_type": "stream",
     "text": [
      "\r",
      "Epoch 19/600:   3%|▎         | 19/600 [04:10<2:06:03, 13.02s/it, v_num=rp_1, total_loss_train=3.21e+3, kl_local_train=207, metric_mi|status_control_train=0.0364, metric_mi|zone_train=0.183, metric_mi|time_cat_train=0.0614, metric_mi|mouse_train=0.078]"
     ]
    },
    {
     "name": "stdout",
     "output_type": "stream",
     "text": [
      "\r",
      "Epoch 19/600:   3%|▎         | 19/600 [04:10<2:06:03, 13.02s/it, v_num=rp_1, total_loss_train=3.2e+3, kl_local_train=197, metric_mi|status_control_train=0.0364, metric_mi|zone_train=0.183, metric_mi|time_cat_train=0.0614, metric_mi|mouse_train=0.078] "
     ]
    },
    {
     "name": "stdout",
     "output_type": "stream",
     "text": [
      "\r",
      "Epoch 20/600:   3%|▎         | 19/600 [04:10<2:06:03, 13.02s/it, v_num=rp_1, total_loss_train=3.2e+3, kl_local_train=197, metric_mi|status_control_train=0.0364, metric_mi|zone_train=0.183, metric_mi|time_cat_train=0.0614, metric_mi|mouse_train=0.078]"
     ]
    },
    {
     "name": "stdout",
     "output_type": "stream",
     "text": [
      "\r",
      "Epoch 20/600:   3%|▎         | 20/600 [04:23<2:05:42, 13.00s/it, v_num=rp_1, total_loss_train=3.2e+3, kl_local_train=197, metric_mi|status_control_train=0.0364, metric_mi|zone_train=0.183, metric_mi|time_cat_train=0.0614, metric_mi|mouse_train=0.078]"
     ]
    },
    {
     "name": "stdout",
     "output_type": "stream",
     "text": [
      "\r",
      "Epoch 20/600:   3%|▎         | 20/600 [04:23<2:05:42, 13.00s/it, v_num=rp_1, total_loss_train=3.2e+3, kl_local_train=185, metric_mi|status_control_train=0.0364, metric_mi|zone_train=0.183, metric_mi|time_cat_train=0.0614, metric_mi|mouse_train=0.078]"
     ]
    },
    {
     "name": "stdout",
     "output_type": "stream",
     "text": [
      "\r",
      "Epoch 21/600:   3%|▎         | 20/600 [04:24<2:05:42, 13.00s/it, v_num=rp_1, total_loss_train=3.2e+3, kl_local_train=185, metric_mi|status_control_train=0.0364, metric_mi|zone_train=0.183, metric_mi|time_cat_train=0.0614, metric_mi|mouse_train=0.078]"
     ]
    },
    {
     "name": "stdout",
     "output_type": "stream",
     "text": [
      "\r",
      "Epoch 21/600:   4%|▎         | 21/600 [04:37<2:09:05, 13.38s/it, v_num=rp_1, total_loss_train=3.2e+3, kl_local_train=185, metric_mi|status_control_train=0.0364, metric_mi|zone_train=0.183, metric_mi|time_cat_train=0.0614, metric_mi|mouse_train=0.078]"
     ]
    },
    {
     "name": "stdout",
     "output_type": "stream",
     "text": [
      "\r",
      "Epoch 21/600:   4%|▎         | 21/600 [04:37<2:09:05, 13.38s/it, v_num=rp_1, total_loss_train=3.2e+3, kl_local_train=175, metric_mi|status_control_train=0.216, metric_mi|zone_train=0.182, metric_mi|time_cat_train=0.155, metric_mi|mouse_train=0.133]  "
     ]
    },
    {
     "name": "stdout",
     "output_type": "stream",
     "text": [
      "\r",
      "Epoch 22/600:   4%|▎         | 21/600 [04:37<2:09:05, 13.38s/it, v_num=rp_1, total_loss_train=3.2e+3, kl_local_train=175, metric_mi|status_control_train=0.216, metric_mi|zone_train=0.182, metric_mi|time_cat_train=0.155, metric_mi|mouse_train=0.133]"
     ]
    },
    {
     "name": "stdout",
     "output_type": "stream",
     "text": [
      "\r",
      "Epoch 22/600:   4%|▎         | 22/600 [04:50<2:07:21, 13.22s/it, v_num=rp_1, total_loss_train=3.2e+3, kl_local_train=175, metric_mi|status_control_train=0.216, metric_mi|zone_train=0.182, metric_mi|time_cat_train=0.155, metric_mi|mouse_train=0.133]"
     ]
    },
    {
     "name": "stdout",
     "output_type": "stream",
     "text": [
      "\r",
      "Epoch 22/600:   4%|▎         | 22/600 [04:50<2:07:21, 13.22s/it, v_num=rp_1, total_loss_train=3.2e+3, kl_local_train=176, metric_mi|status_control_train=0.216, metric_mi|zone_train=0.182, metric_mi|time_cat_train=0.155, metric_mi|mouse_train=0.133]"
     ]
    },
    {
     "name": "stdout",
     "output_type": "stream",
     "text": [
      "\r",
      "Epoch 23/600:   4%|▎         | 22/600 [04:50<2:07:21, 13.22s/it, v_num=rp_1, total_loss_train=3.2e+3, kl_local_train=176, metric_mi|status_control_train=0.216, metric_mi|zone_train=0.182, metric_mi|time_cat_train=0.155, metric_mi|mouse_train=0.133]"
     ]
    },
    {
     "name": "stdout",
     "output_type": "stream",
     "text": [
      "\r",
      "Epoch 23/600:   4%|▍         | 23/600 [05:02<2:04:52, 12.99s/it, v_num=rp_1, total_loss_train=3.2e+3, kl_local_train=176, metric_mi|status_control_train=0.216, metric_mi|zone_train=0.182, metric_mi|time_cat_train=0.155, metric_mi|mouse_train=0.133]"
     ]
    },
    {
     "name": "stdout",
     "output_type": "stream",
     "text": [
      "\r",
      "Epoch 23/600:   4%|▍         | 23/600 [05:02<2:04:52, 12.99s/it, v_num=rp_1, total_loss_train=3.19e+3, kl_local_train=176, metric_mi|status_control_train=0.216, metric_mi|zone_train=0.182, metric_mi|time_cat_train=0.155, metric_mi|mouse_train=0.133]"
     ]
    },
    {
     "name": "stdout",
     "output_type": "stream",
     "text": [
      "\r",
      "Epoch 24/600:   4%|▍         | 23/600 [05:02<2:04:52, 12.99s/it, v_num=rp_1, total_loss_train=3.19e+3, kl_local_train=176, metric_mi|status_control_train=0.216, metric_mi|zone_train=0.182, metric_mi|time_cat_train=0.155, metric_mi|mouse_train=0.133]"
     ]
    },
    {
     "name": "stdout",
     "output_type": "stream",
     "text": [
      "\r",
      "Epoch 24/600:   4%|▍         | 24/600 [05:15<2:04:10, 12.93s/it, v_num=rp_1, total_loss_train=3.19e+3, kl_local_train=176, metric_mi|status_control_train=0.216, metric_mi|zone_train=0.182, metric_mi|time_cat_train=0.155, metric_mi|mouse_train=0.133]"
     ]
    },
    {
     "name": "stdout",
     "output_type": "stream",
     "text": [
      "\r",
      "Epoch 24/600:   4%|▍         | 24/600 [05:15<2:04:10, 12.93s/it, v_num=rp_1, total_loss_train=3.19e+3, kl_local_train=171, metric_mi|status_control_train=0.216, metric_mi|zone_train=0.182, metric_mi|time_cat_train=0.155, metric_mi|mouse_train=0.133]"
     ]
    },
    {
     "name": "stdout",
     "output_type": "stream",
     "text": [
      "\r",
      "Epoch 25/600:   4%|▍         | 24/600 [05:15<2:04:10, 12.93s/it, v_num=rp_1, total_loss_train=3.19e+3, kl_local_train=171, metric_mi|status_control_train=0.216, metric_mi|zone_train=0.182, metric_mi|time_cat_train=0.155, metric_mi|mouse_train=0.133]"
     ]
    },
    {
     "name": "stdout",
     "output_type": "stream",
     "text": [
      "\r",
      "Epoch 25/600:   4%|▍         | 25/600 [05:28<2:03:38, 12.90s/it, v_num=rp_1, total_loss_train=3.19e+3, kl_local_train=171, metric_mi|status_control_train=0.216, metric_mi|zone_train=0.182, metric_mi|time_cat_train=0.155, metric_mi|mouse_train=0.133]"
     ]
    },
    {
     "name": "stdout",
     "output_type": "stream",
     "text": [
      "\r",
      "Epoch 25/600:   4%|▍         | 25/600 [05:28<2:03:38, 12.90s/it, v_num=rp_1, total_loss_train=3.19e+3, kl_local_train=172, metric_mi|status_control_train=0.216, metric_mi|zone_train=0.182, metric_mi|time_cat_train=0.155, metric_mi|mouse_train=0.133]"
     ]
    },
    {
     "name": "stdout",
     "output_type": "stream",
     "text": [
      "\r",
      "Epoch 26/600:   4%|▍         | 25/600 [05:29<2:03:38, 12.90s/it, v_num=rp_1, total_loss_train=3.19e+3, kl_local_train=172, metric_mi|status_control_train=0.216, metric_mi|zone_train=0.182, metric_mi|time_cat_train=0.155, metric_mi|mouse_train=0.133]"
     ]
    },
    {
     "name": "stdout",
     "output_type": "stream",
     "text": [
      "\r",
      "Epoch 26/600:   4%|▍         | 26/600 [05:42<2:07:13, 13.30s/it, v_num=rp_1, total_loss_train=3.19e+3, kl_local_train=172, metric_mi|status_control_train=0.216, metric_mi|zone_train=0.182, metric_mi|time_cat_train=0.155, metric_mi|mouse_train=0.133]"
     ]
    },
    {
     "name": "stdout",
     "output_type": "stream",
     "text": [
      "\r",
      "Epoch 26/600:   4%|▍         | 26/600 [05:42<2:07:13, 13.30s/it, v_num=rp_1, total_loss_train=3.19e+3, kl_local_train=173, metric_mi|status_control_train=0.231, metric_mi|zone_train=0.181, metric_mi|time_cat_train=0.174, metric_mi|mouse_train=0.148]"
     ]
    },
    {
     "name": "stdout",
     "output_type": "stream",
     "text": [
      "\r",
      "Epoch 27/600:   4%|▍         | 26/600 [05:42<2:07:13, 13.30s/it, v_num=rp_1, total_loss_train=3.19e+3, kl_local_train=173, metric_mi|status_control_train=0.231, metric_mi|zone_train=0.181, metric_mi|time_cat_train=0.174, metric_mi|mouse_train=0.148]"
     ]
    },
    {
     "name": "stdout",
     "output_type": "stream",
     "text": [
      "\r",
      "Epoch 27/600:   4%|▍         | 27/600 [05:55<2:05:50, 13.18s/it, v_num=rp_1, total_loss_train=3.19e+3, kl_local_train=173, metric_mi|status_control_train=0.231, metric_mi|zone_train=0.181, metric_mi|time_cat_train=0.174, metric_mi|mouse_train=0.148]"
     ]
    },
    {
     "name": "stdout",
     "output_type": "stream",
     "text": [
      "\r",
      "Epoch 27/600:   4%|▍         | 27/600 [05:55<2:05:50, 13.18s/it, v_num=rp_1, total_loss_train=3.2e+3, kl_local_train=172, metric_mi|status_control_train=0.231, metric_mi|zone_train=0.181, metric_mi|time_cat_train=0.174, metric_mi|mouse_train=0.148] "
     ]
    },
    {
     "name": "stdout",
     "output_type": "stream",
     "text": [
      "\r",
      "Epoch 28/600:   4%|▍         | 27/600 [05:55<2:05:50, 13.18s/it, v_num=rp_1, total_loss_train=3.2e+3, kl_local_train=172, metric_mi|status_control_train=0.231, metric_mi|zone_train=0.181, metric_mi|time_cat_train=0.174, metric_mi|mouse_train=0.148]"
     ]
    },
    {
     "name": "stdout",
     "output_type": "stream",
     "text": [
      "\r",
      "Epoch 28/600:   5%|▍         | 28/600 [06:08<2:04:34, 13.07s/it, v_num=rp_1, total_loss_train=3.2e+3, kl_local_train=172, metric_mi|status_control_train=0.231, metric_mi|zone_train=0.181, metric_mi|time_cat_train=0.174, metric_mi|mouse_train=0.148]"
     ]
    },
    {
     "name": "stdout",
     "output_type": "stream",
     "text": [
      "\r",
      "Epoch 28/600:   5%|▍         | 28/600 [06:08<2:04:34, 13.07s/it, v_num=rp_1, total_loss_train=3.2e+3, kl_local_train=169, metric_mi|status_control_train=0.231, metric_mi|zone_train=0.181, metric_mi|time_cat_train=0.174, metric_mi|mouse_train=0.148]"
     ]
    },
    {
     "name": "stdout",
     "output_type": "stream",
     "text": [
      "\r",
      "Epoch 29/600:   5%|▍         | 28/600 [06:08<2:04:34, 13.07s/it, v_num=rp_1, total_loss_train=3.2e+3, kl_local_train=169, metric_mi|status_control_train=0.231, metric_mi|zone_train=0.181, metric_mi|time_cat_train=0.174, metric_mi|mouse_train=0.148]"
     ]
    },
    {
     "name": "stdout",
     "output_type": "stream",
     "text": [
      "\r",
      "Epoch 29/600:   5%|▍         | 29/600 [06:20<2:02:35, 12.88s/it, v_num=rp_1, total_loss_train=3.2e+3, kl_local_train=169, metric_mi|status_control_train=0.231, metric_mi|zone_train=0.181, metric_mi|time_cat_train=0.174, metric_mi|mouse_train=0.148]"
     ]
    },
    {
     "name": "stdout",
     "output_type": "stream",
     "text": [
      "\r",
      "Epoch 29/600:   5%|▍         | 29/600 [06:20<2:02:35, 12.88s/it, v_num=rp_1, total_loss_train=3.2e+3, kl_local_train=167, metric_mi|status_control_train=0.231, metric_mi|zone_train=0.181, metric_mi|time_cat_train=0.174, metric_mi|mouse_train=0.148]"
     ]
    },
    {
     "name": "stdout",
     "output_type": "stream",
     "text": [
      "\r",
      "Epoch 30/600:   5%|▍         | 29/600 [06:20<2:02:35, 12.88s/it, v_num=rp_1, total_loss_train=3.2e+3, kl_local_train=167, metric_mi|status_control_train=0.231, metric_mi|zone_train=0.181, metric_mi|time_cat_train=0.174, metric_mi|mouse_train=0.148]"
     ]
    },
    {
     "name": "stdout",
     "output_type": "stream",
     "text": [
      "\r",
      "Epoch 30/600:   5%|▌         | 30/600 [06:33<2:02:51, 12.93s/it, v_num=rp_1, total_loss_train=3.2e+3, kl_local_train=167, metric_mi|status_control_train=0.231, metric_mi|zone_train=0.181, metric_mi|time_cat_train=0.174, metric_mi|mouse_train=0.148]"
     ]
    },
    {
     "name": "stdout",
     "output_type": "stream",
     "text": [
      "\r",
      "Epoch 30/600:   5%|▌         | 30/600 [06:33<2:02:51, 12.93s/it, v_num=rp_1, total_loss_train=3.2e+3, kl_local_train=167, metric_mi|status_control_train=0.231, metric_mi|zone_train=0.181, metric_mi|time_cat_train=0.174, metric_mi|mouse_train=0.148]"
     ]
    },
    {
     "name": "stdout",
     "output_type": "stream",
     "text": [
      "\r",
      "Epoch 31/600:   5%|▌         | 30/600 [06:35<2:02:51, 12.93s/it, v_num=rp_1, total_loss_train=3.2e+3, kl_local_train=167, metric_mi|status_control_train=0.231, metric_mi|zone_train=0.181, metric_mi|time_cat_train=0.174, metric_mi|mouse_train=0.148]"
     ]
    },
    {
     "name": "stdout",
     "output_type": "stream",
     "text": [
      "\r",
      "Epoch 31/600:   5%|▌         | 31/600 [06:47<2:05:26, 13.23s/it, v_num=rp_1, total_loss_train=3.2e+3, kl_local_train=167, metric_mi|status_control_train=0.231, metric_mi|zone_train=0.181, metric_mi|time_cat_train=0.174, metric_mi|mouse_train=0.148]"
     ]
    },
    {
     "name": "stdout",
     "output_type": "stream",
     "text": [
      "\r",
      "Epoch 31/600:   5%|▌         | 31/600 [06:47<2:05:26, 13.23s/it, v_num=rp_1, total_loss_train=3.2e+3, kl_local_train=166, metric_mi|status_control_train=0.235, metric_mi|zone_train=0.181, metric_mi|time_cat_train=0.175, metric_mi|mouse_train=0.149]"
     ]
    },
    {
     "name": "stdout",
     "output_type": "stream",
     "text": [
      "\r",
      "Epoch 32/600:   5%|▌         | 31/600 [06:47<2:05:26, 13.23s/it, v_num=rp_1, total_loss_train=3.2e+3, kl_local_train=166, metric_mi|status_control_train=0.235, metric_mi|zone_train=0.181, metric_mi|time_cat_train=0.175, metric_mi|mouse_train=0.149]"
     ]
    },
    {
     "name": "stdout",
     "output_type": "stream",
     "text": [
      "\r",
      "Epoch 32/600:   5%|▌         | 32/600 [07:00<2:04:15, 13.13s/it, v_num=rp_1, total_loss_train=3.2e+3, kl_local_train=166, metric_mi|status_control_train=0.235, metric_mi|zone_train=0.181, metric_mi|time_cat_train=0.175, metric_mi|mouse_train=0.149]"
     ]
    },
    {
     "name": "stdout",
     "output_type": "stream",
     "text": [
      "\r",
      "Epoch 32/600:   5%|▌         | 32/600 [07:00<2:04:15, 13.13s/it, v_num=rp_1, total_loss_train=3.2e+3, kl_local_train=163, metric_mi|status_control_train=0.235, metric_mi|zone_train=0.181, metric_mi|time_cat_train=0.175, metric_mi|mouse_train=0.149]"
     ]
    },
    {
     "name": "stdout",
     "output_type": "stream",
     "text": [
      "\r",
      "Epoch 33/600:   5%|▌         | 32/600 [07:00<2:04:15, 13.13s/it, v_num=rp_1, total_loss_train=3.2e+3, kl_local_train=163, metric_mi|status_control_train=0.235, metric_mi|zone_train=0.181, metric_mi|time_cat_train=0.175, metric_mi|mouse_train=0.149]"
     ]
    },
    {
     "name": "stdout",
     "output_type": "stream",
     "text": [
      "\r",
      "Epoch 33/600:   6%|▌         | 33/600 [07:13<2:03:19, 13.05s/it, v_num=rp_1, total_loss_train=3.2e+3, kl_local_train=163, metric_mi|status_control_train=0.235, metric_mi|zone_train=0.181, metric_mi|time_cat_train=0.175, metric_mi|mouse_train=0.149]"
     ]
    },
    {
     "name": "stdout",
     "output_type": "stream",
     "text": [
      "\r",
      "Epoch 33/600:   6%|▌         | 33/600 [07:13<2:03:19, 13.05s/it, v_num=rp_1, total_loss_train=3.21e+3, kl_local_train=163, metric_mi|status_control_train=0.235, metric_mi|zone_train=0.181, metric_mi|time_cat_train=0.175, metric_mi|mouse_train=0.149]"
     ]
    },
    {
     "name": "stdout",
     "output_type": "stream",
     "text": [
      "\r",
      "Epoch 34/600:   6%|▌         | 33/600 [07:13<2:03:19, 13.05s/it, v_num=rp_1, total_loss_train=3.21e+3, kl_local_train=163, metric_mi|status_control_train=0.235, metric_mi|zone_train=0.181, metric_mi|time_cat_train=0.175, metric_mi|mouse_train=0.149]"
     ]
    },
    {
     "name": "stdout",
     "output_type": "stream",
     "text": [
      "\r",
      "Epoch 34/600:   6%|▌         | 34/600 [07:26<2:02:44, 13.01s/it, v_num=rp_1, total_loss_train=3.21e+3, kl_local_train=163, metric_mi|status_control_train=0.235, metric_mi|zone_train=0.181, metric_mi|time_cat_train=0.175, metric_mi|mouse_train=0.149]"
     ]
    },
    {
     "name": "stdout",
     "output_type": "stream",
     "text": [
      "\r",
      "Epoch 34/600:   6%|▌         | 34/600 [07:26<2:02:44, 13.01s/it, v_num=rp_1, total_loss_train=3.21e+3, kl_local_train=165, metric_mi|status_control_train=0.235, metric_mi|zone_train=0.181, metric_mi|time_cat_train=0.175, metric_mi|mouse_train=0.149]"
     ]
    },
    {
     "name": "stdout",
     "output_type": "stream",
     "text": [
      "\r",
      "Epoch 35/600:   6%|▌         | 34/600 [07:26<2:02:44, 13.01s/it, v_num=rp_1, total_loss_train=3.21e+3, kl_local_train=165, metric_mi|status_control_train=0.235, metric_mi|zone_train=0.181, metric_mi|time_cat_train=0.175, metric_mi|mouse_train=0.149]"
     ]
    },
    {
     "name": "stdout",
     "output_type": "stream",
     "text": [
      "\r",
      "Epoch 35/600:   6%|▌         | 35/600 [07:39<2:02:12, 12.98s/it, v_num=rp_1, total_loss_train=3.21e+3, kl_local_train=165, metric_mi|status_control_train=0.235, metric_mi|zone_train=0.181, metric_mi|time_cat_train=0.175, metric_mi|mouse_train=0.149]"
     ]
    },
    {
     "name": "stdout",
     "output_type": "stream",
     "text": [
      "\r",
      "Epoch 35/600:   6%|▌         | 35/600 [07:39<2:02:12, 12.98s/it, v_num=rp_1, total_loss_train=3.21e+3, kl_local_train=163, metric_mi|status_control_train=0.235, metric_mi|zone_train=0.181, metric_mi|time_cat_train=0.175, metric_mi|mouse_train=0.149]"
     ]
    },
    {
     "name": "stdout",
     "output_type": "stream",
     "text": [
      "\r",
      "Epoch 36/600:   6%|▌         | 35/600 [07:40<2:02:12, 12.98s/it, v_num=rp_1, total_loss_train=3.21e+3, kl_local_train=163, metric_mi|status_control_train=0.235, metric_mi|zone_train=0.181, metric_mi|time_cat_train=0.175, metric_mi|mouse_train=0.149]"
     ]
    },
    {
     "name": "stdout",
     "output_type": "stream",
     "text": [
      "\r",
      "Epoch 36/600:   6%|▌         | 36/600 [07:53<2:04:38, 13.26s/it, v_num=rp_1, total_loss_train=3.21e+3, kl_local_train=163, metric_mi|status_control_train=0.235, metric_mi|zone_train=0.181, metric_mi|time_cat_train=0.175, metric_mi|mouse_train=0.149]"
     ]
    },
    {
     "name": "stdout",
     "output_type": "stream",
     "text": [
      "\r",
      "Epoch 36/600:   6%|▌         | 36/600 [07:53<2:04:38, 13.26s/it, v_num=rp_1, total_loss_train=3.21e+3, kl_local_train=164, metric_mi|status_control_train=0.239, metric_mi|zone_train=0.181, metric_mi|time_cat_train=0.179, metric_mi|mouse_train=0.152]"
     ]
    },
    {
     "name": "stdout",
     "output_type": "stream",
     "text": [
      "\r",
      "Epoch 37/600:   6%|▌         | 36/600 [07:53<2:04:38, 13.26s/it, v_num=rp_1, total_loss_train=3.21e+3, kl_local_train=164, metric_mi|status_control_train=0.239, metric_mi|zone_train=0.181, metric_mi|time_cat_train=0.179, metric_mi|mouse_train=0.152]"
     ]
    },
    {
     "name": "stdout",
     "output_type": "stream",
     "text": [
      "\r",
      "Epoch 37/600:   6%|▌         | 37/600 [08:06<2:03:14, 13.13s/it, v_num=rp_1, total_loss_train=3.21e+3, kl_local_train=164, metric_mi|status_control_train=0.239, metric_mi|zone_train=0.181, metric_mi|time_cat_train=0.179, metric_mi|mouse_train=0.152]"
     ]
    },
    {
     "name": "stdout",
     "output_type": "stream",
     "text": [
      "\r",
      "Epoch 37/600:   6%|▌         | 37/600 [08:06<2:03:14, 13.13s/it, v_num=rp_1, total_loss_train=3.21e+3, kl_local_train=162, metric_mi|status_control_train=0.239, metric_mi|zone_train=0.181, metric_mi|time_cat_train=0.179, metric_mi|mouse_train=0.152]"
     ]
    },
    {
     "name": "stdout",
     "output_type": "stream",
     "text": [
      "\r",
      "Epoch 38/600:   6%|▌         | 37/600 [08:06<2:03:14, 13.13s/it, v_num=rp_1, total_loss_train=3.21e+3, kl_local_train=162, metric_mi|status_control_train=0.239, metric_mi|zone_train=0.181, metric_mi|time_cat_train=0.179, metric_mi|mouse_train=0.152]"
     ]
    },
    {
     "name": "stdout",
     "output_type": "stream",
     "text": [
      "\r",
      "Epoch 38/600:   6%|▋         | 38/600 [08:18<2:02:17, 13.06s/it, v_num=rp_1, total_loss_train=3.21e+3, kl_local_train=162, metric_mi|status_control_train=0.239, metric_mi|zone_train=0.181, metric_mi|time_cat_train=0.179, metric_mi|mouse_train=0.152]"
     ]
    },
    {
     "name": "stdout",
     "output_type": "stream",
     "text": [
      "\r",
      "Epoch 38/600:   6%|▋         | 38/600 [08:18<2:02:17, 13.06s/it, v_num=rp_1, total_loss_train=3.22e+3, kl_local_train=159, metric_mi|status_control_train=0.239, metric_mi|zone_train=0.181, metric_mi|time_cat_train=0.179, metric_mi|mouse_train=0.152]"
     ]
    },
    {
     "name": "stdout",
     "output_type": "stream",
     "text": [
      "\r",
      "Epoch 39/600:   6%|▋         | 38/600 [08:18<2:02:17, 13.06s/it, v_num=rp_1, total_loss_train=3.22e+3, kl_local_train=159, metric_mi|status_control_train=0.239, metric_mi|zone_train=0.181, metric_mi|time_cat_train=0.179, metric_mi|mouse_train=0.152]"
     ]
    },
    {
     "name": "stdout",
     "output_type": "stream",
     "text": [
      "\r",
      "Epoch 39/600:   6%|▋         | 39/600 [08:31<2:01:31, 13.00s/it, v_num=rp_1, total_loss_train=3.22e+3, kl_local_train=159, metric_mi|status_control_train=0.239, metric_mi|zone_train=0.181, metric_mi|time_cat_train=0.179, metric_mi|mouse_train=0.152]"
     ]
    },
    {
     "name": "stdout",
     "output_type": "stream",
     "text": [
      "\r",
      "Epoch 39/600:   6%|▋         | 39/600 [08:31<2:01:31, 13.00s/it, v_num=rp_1, total_loss_train=3.22e+3, kl_local_train=160, metric_mi|status_control_train=0.239, metric_mi|zone_train=0.181, metric_mi|time_cat_train=0.179, metric_mi|mouse_train=0.152]"
     ]
    },
    {
     "name": "stdout",
     "output_type": "stream",
     "text": [
      "\r",
      "Epoch 40/600:   6%|▋         | 39/600 [08:31<2:01:31, 13.00s/it, v_num=rp_1, total_loss_train=3.22e+3, kl_local_train=160, metric_mi|status_control_train=0.239, metric_mi|zone_train=0.181, metric_mi|time_cat_train=0.179, metric_mi|mouse_train=0.152]"
     ]
    },
    {
     "name": "stdout",
     "output_type": "stream",
     "text": [
      "\r",
      "Epoch 40/600:   7%|▋         | 40/600 [08:44<2:01:07, 12.98s/it, v_num=rp_1, total_loss_train=3.22e+3, kl_local_train=160, metric_mi|status_control_train=0.239, metric_mi|zone_train=0.181, metric_mi|time_cat_train=0.179, metric_mi|mouse_train=0.152]"
     ]
    },
    {
     "name": "stdout",
     "output_type": "stream",
     "text": [
      "\r",
      "Epoch 40/600:   7%|▋         | 40/600 [08:44<2:01:07, 12.98s/it, v_num=rp_1, total_loss_train=3.22e+3, kl_local_train=160, metric_mi|status_control_train=0.239, metric_mi|zone_train=0.181, metric_mi|time_cat_train=0.179, metric_mi|mouse_train=0.152]"
     ]
    },
    {
     "name": "stdout",
     "output_type": "stream",
     "text": [
      "\r",
      "Epoch 41/600:   7%|▋         | 40/600 [08:46<2:01:07, 12.98s/it, v_num=rp_1, total_loss_train=3.22e+3, kl_local_train=160, metric_mi|status_control_train=0.239, metric_mi|zone_train=0.181, metric_mi|time_cat_train=0.179, metric_mi|mouse_train=0.152]"
     ]
    },
    {
     "name": "stdout",
     "output_type": "stream",
     "text": [
      "\r",
      "Epoch 41/600:   7%|▋         | 41/600 [08:58<2:04:26, 13.36s/it, v_num=rp_1, total_loss_train=3.22e+3, kl_local_train=160, metric_mi|status_control_train=0.239, metric_mi|zone_train=0.181, metric_mi|time_cat_train=0.179, metric_mi|mouse_train=0.152]"
     ]
    },
    {
     "name": "stdout",
     "output_type": "stream",
     "text": [
      "\r",
      "Epoch 41/600:   7%|▋         | 41/600 [08:58<2:04:26, 13.36s/it, v_num=rp_1, total_loss_train=3.22e+3, kl_local_train=163, metric_mi|status_control_train=0.242, metric_mi|zone_train=0.181, metric_mi|time_cat_train=0.184, metric_mi|mouse_train=0.154]"
     ]
    },
    {
     "name": "stdout",
     "output_type": "stream",
     "text": [
      "\r",
      "Epoch 42/600:   7%|▋         | 41/600 [08:59<2:04:26, 13.36s/it, v_num=rp_1, total_loss_train=3.22e+3, kl_local_train=163, metric_mi|status_control_train=0.242, metric_mi|zone_train=0.181, metric_mi|time_cat_train=0.184, metric_mi|mouse_train=0.154]"
     ]
    },
    {
     "name": "stdout",
     "output_type": "stream",
     "text": [
      "\r",
      "Epoch 42/600:   7%|▋         | 42/600 [09:11<2:03:06, 13.24s/it, v_num=rp_1, total_loss_train=3.22e+3, kl_local_train=163, metric_mi|status_control_train=0.242, metric_mi|zone_train=0.181, metric_mi|time_cat_train=0.184, metric_mi|mouse_train=0.154]"
     ]
    },
    {
     "name": "stdout",
     "output_type": "stream",
     "text": [
      "\r",
      "Epoch 42/600:   7%|▋         | 42/600 [09:11<2:03:06, 13.24s/it, v_num=rp_1, total_loss_train=3.22e+3, kl_local_train=159, metric_mi|status_control_train=0.242, metric_mi|zone_train=0.181, metric_mi|time_cat_train=0.184, metric_mi|mouse_train=0.154]"
     ]
    },
    {
     "name": "stdout",
     "output_type": "stream",
     "text": [
      "\r",
      "Epoch 43/600:   7%|▋         | 42/600 [09:11<2:03:06, 13.24s/it, v_num=rp_1, total_loss_train=3.22e+3, kl_local_train=159, metric_mi|status_control_train=0.242, metric_mi|zone_train=0.181, metric_mi|time_cat_train=0.184, metric_mi|mouse_train=0.154]"
     ]
    },
    {
     "name": "stdout",
     "output_type": "stream",
     "text": [
      "\r",
      "Epoch 43/600:   7%|▋         | 43/600 [09:24<2:02:06, 13.15s/it, v_num=rp_1, total_loss_train=3.22e+3, kl_local_train=159, metric_mi|status_control_train=0.242, metric_mi|zone_train=0.181, metric_mi|time_cat_train=0.184, metric_mi|mouse_train=0.154]"
     ]
    },
    {
     "name": "stdout",
     "output_type": "stream",
     "text": [
      "\r",
      "Epoch 43/600:   7%|▋         | 43/600 [09:24<2:02:06, 13.15s/it, v_num=rp_1, total_loss_train=3.23e+3, kl_local_train=162, metric_mi|status_control_train=0.242, metric_mi|zone_train=0.181, metric_mi|time_cat_train=0.184, metric_mi|mouse_train=0.154]"
     ]
    },
    {
     "name": "stdout",
     "output_type": "stream",
     "text": [
      "\r",
      "Epoch 44/600:   7%|▋         | 43/600 [09:24<2:02:06, 13.15s/it, v_num=rp_1, total_loss_train=3.23e+3, kl_local_train=162, metric_mi|status_control_train=0.242, metric_mi|zone_train=0.181, metric_mi|time_cat_train=0.184, metric_mi|mouse_train=0.154]"
     ]
    },
    {
     "name": "stdout",
     "output_type": "stream",
     "text": [
      "\r",
      "Epoch 44/600:   7%|▋         | 44/600 [09:37<2:01:14, 13.08s/it, v_num=rp_1, total_loss_train=3.23e+3, kl_local_train=162, metric_mi|status_control_train=0.242, metric_mi|zone_train=0.181, metric_mi|time_cat_train=0.184, metric_mi|mouse_train=0.154]"
     ]
    },
    {
     "name": "stdout",
     "output_type": "stream",
     "text": [
      "\r",
      "Epoch 44/600:   7%|▋         | 44/600 [09:37<2:01:14, 13.08s/it, v_num=rp_1, total_loss_train=3.23e+3, kl_local_train=160, metric_mi|status_control_train=0.242, metric_mi|zone_train=0.181, metric_mi|time_cat_train=0.184, metric_mi|mouse_train=0.154]"
     ]
    },
    {
     "name": "stdout",
     "output_type": "stream",
     "text": [
      "\r",
      "Epoch 45/600:   7%|▋         | 44/600 [09:37<2:01:14, 13.08s/it, v_num=rp_1, total_loss_train=3.23e+3, kl_local_train=160, metric_mi|status_control_train=0.242, metric_mi|zone_train=0.181, metric_mi|time_cat_train=0.184, metric_mi|mouse_train=0.154]"
     ]
    },
    {
     "name": "stdout",
     "output_type": "stream",
     "text": [
      "\r",
      "Epoch 45/600:   8%|▊         | 45/600 [09:50<2:00:02, 12.98s/it, v_num=rp_1, total_loss_train=3.23e+3, kl_local_train=160, metric_mi|status_control_train=0.242, metric_mi|zone_train=0.181, metric_mi|time_cat_train=0.184, metric_mi|mouse_train=0.154]"
     ]
    },
    {
     "name": "stdout",
     "output_type": "stream",
     "text": [
      "\r",
      "Epoch 45/600:   8%|▊         | 45/600 [09:50<2:00:02, 12.98s/it, v_num=rp_1, total_loss_train=3.23e+3, kl_local_train=162, metric_mi|status_control_train=0.242, metric_mi|zone_train=0.181, metric_mi|time_cat_train=0.184, metric_mi|mouse_train=0.154]"
     ]
    },
    {
     "name": "stdout",
     "output_type": "stream",
     "text": [
      "\r",
      "Epoch 46/600:   8%|▊         | 45/600 [09:52<2:00:02, 12.98s/it, v_num=rp_1, total_loss_train=3.23e+3, kl_local_train=162, metric_mi|status_control_train=0.242, metric_mi|zone_train=0.181, metric_mi|time_cat_train=0.184, metric_mi|mouse_train=0.154]"
     ]
    },
    {
     "name": "stdout",
     "output_type": "stream",
     "text": [
      "\r",
      "Epoch 46/600:   8%|▊         | 46/600 [10:04<2:03:35, 13.39s/it, v_num=rp_1, total_loss_train=3.23e+3, kl_local_train=162, metric_mi|status_control_train=0.242, metric_mi|zone_train=0.181, metric_mi|time_cat_train=0.184, metric_mi|mouse_train=0.154]"
     ]
    },
    {
     "name": "stdout",
     "output_type": "stream",
     "text": [
      "\r",
      "Epoch 46/600:   8%|▊         | 46/600 [10:04<2:03:35, 13.39s/it, v_num=rp_1, total_loss_train=3.23e+3, kl_local_train=162, metric_mi|status_control_train=0.21, metric_mi|zone_train=0.18, metric_mi|time_cat_train=0.169, metric_mi|mouse_train=0.145]  "
     ]
    },
    {
     "name": "stdout",
     "output_type": "stream",
     "text": [
      "\r",
      "Epoch 47/600:   8%|▊         | 46/600 [10:04<2:03:35, 13.39s/it, v_num=rp_1, total_loss_train=3.23e+3, kl_local_train=162, metric_mi|status_control_train=0.21, metric_mi|zone_train=0.18, metric_mi|time_cat_train=0.169, metric_mi|mouse_train=0.145]"
     ]
    },
    {
     "name": "stdout",
     "output_type": "stream",
     "text": [
      "\r",
      "Epoch 47/600:   8%|▊         | 47/600 [10:17<2:01:15, 13.16s/it, v_num=rp_1, total_loss_train=3.23e+3, kl_local_train=162, metric_mi|status_control_train=0.21, metric_mi|zone_train=0.18, metric_mi|time_cat_train=0.169, metric_mi|mouse_train=0.145]"
     ]
    },
    {
     "name": "stdout",
     "output_type": "stream",
     "text": [
      "\r",
      "Epoch 47/600:   8%|▊         | 47/600 [10:17<2:01:15, 13.16s/it, v_num=rp_1, total_loss_train=3.24e+3, kl_local_train=166, metric_mi|status_control_train=0.21, metric_mi|zone_train=0.18, metric_mi|time_cat_train=0.169, metric_mi|mouse_train=0.145]"
     ]
    },
    {
     "name": "stdout",
     "output_type": "stream",
     "text": [
      "\r",
      "Epoch 48/600:   8%|▊         | 47/600 [10:17<2:01:15, 13.16s/it, v_num=rp_1, total_loss_train=3.24e+3, kl_local_train=166, metric_mi|status_control_train=0.21, metric_mi|zone_train=0.18, metric_mi|time_cat_train=0.169, metric_mi|mouse_train=0.145]"
     ]
    },
    {
     "name": "stdout",
     "output_type": "stream",
     "text": [
      "\r",
      "Epoch 48/600:   8%|▊         | 48/600 [10:30<2:00:22, 13.08s/it, v_num=rp_1, total_loss_train=3.24e+3, kl_local_train=166, metric_mi|status_control_train=0.21, metric_mi|zone_train=0.18, metric_mi|time_cat_train=0.169, metric_mi|mouse_train=0.145]"
     ]
    },
    {
     "name": "stdout",
     "output_type": "stream",
     "text": [
      "\r",
      "Epoch 48/600:   8%|▊         | 48/600 [10:30<2:00:22, 13.08s/it, v_num=rp_1, total_loss_train=3.24e+3, kl_local_train=163, metric_mi|status_control_train=0.21, metric_mi|zone_train=0.18, metric_mi|time_cat_train=0.169, metric_mi|mouse_train=0.145]"
     ]
    },
    {
     "name": "stdout",
     "output_type": "stream",
     "text": [
      "\r",
      "Epoch 49/600:   8%|▊         | 48/600 [10:30<2:00:22, 13.08s/it, v_num=rp_1, total_loss_train=3.24e+3, kl_local_train=163, metric_mi|status_control_train=0.21, metric_mi|zone_train=0.18, metric_mi|time_cat_train=0.169, metric_mi|mouse_train=0.145]"
     ]
    },
    {
     "name": "stdout",
     "output_type": "stream",
     "text": [
      "\r",
      "Epoch 49/600:   8%|▊         | 49/600 [10:43<1:59:39, 13.03s/it, v_num=rp_1, total_loss_train=3.24e+3, kl_local_train=163, metric_mi|status_control_train=0.21, metric_mi|zone_train=0.18, metric_mi|time_cat_train=0.169, metric_mi|mouse_train=0.145]"
     ]
    },
    {
     "name": "stdout",
     "output_type": "stream",
     "text": [
      "\r",
      "Epoch 49/600:   8%|▊         | 49/600 [10:43<1:59:39, 13.03s/it, v_num=rp_1, total_loss_train=3.24e+3, kl_local_train=165, metric_mi|status_control_train=0.21, metric_mi|zone_train=0.18, metric_mi|time_cat_train=0.169, metric_mi|mouse_train=0.145]"
     ]
    },
    {
     "name": "stdout",
     "output_type": "stream",
     "text": [
      "\r",
      "Epoch 50/600:   8%|▊         | 49/600 [10:43<1:59:39, 13.03s/it, v_num=rp_1, total_loss_train=3.24e+3, kl_local_train=165, metric_mi|status_control_train=0.21, metric_mi|zone_train=0.18, metric_mi|time_cat_train=0.169, metric_mi|mouse_train=0.145]"
     ]
    },
    {
     "name": "stdout",
     "output_type": "stream",
     "text": [
      "\r",
      "Epoch 50/600:   8%|▊         | 50/600 [10:56<1:59:13, 13.01s/it, v_num=rp_1, total_loss_train=3.24e+3, kl_local_train=165, metric_mi|status_control_train=0.21, metric_mi|zone_train=0.18, metric_mi|time_cat_train=0.169, metric_mi|mouse_train=0.145]"
     ]
    },
    {
     "name": "stdout",
     "output_type": "stream",
     "text": [
      "\r",
      "Epoch 50/600:   8%|▊         | 50/600 [10:56<1:59:13, 13.01s/it, v_num=rp_1, total_loss_train=3.24e+3, kl_local_train=167, metric_mi|status_control_train=0.21, metric_mi|zone_train=0.18, metric_mi|time_cat_train=0.169, metric_mi|mouse_train=0.145]"
     ]
    },
    {
     "name": "stdout",
     "output_type": "stream",
     "text": [
      "\r",
      "Epoch 51/600:   8%|▊         | 50/600 [10:57<1:59:13, 13.01s/it, v_num=rp_1, total_loss_train=3.24e+3, kl_local_train=167, metric_mi|status_control_train=0.21, metric_mi|zone_train=0.18, metric_mi|time_cat_train=0.169, metric_mi|mouse_train=0.145]"
     ]
    },
    {
     "name": "stdout",
     "output_type": "stream",
     "text": [
      "\r",
      "Epoch 51/600:   8%|▊         | 51/600 [11:10<2:02:31, 13.39s/it, v_num=rp_1, total_loss_train=3.24e+3, kl_local_train=167, metric_mi|status_control_train=0.21, metric_mi|zone_train=0.18, metric_mi|time_cat_train=0.169, metric_mi|mouse_train=0.145]"
     ]
    },
    {
     "name": "stdout",
     "output_type": "stream",
     "text": [
      "\r",
      "Epoch 51/600:   8%|▊         | 51/600 [11:10<2:02:31, 13.39s/it, v_num=rp_1, total_loss_train=3.24e+3, kl_local_train=165, metric_mi|status_control_train=0.241, metric_mi|zone_train=0.181, metric_mi|time_cat_train=0.185, metric_mi|mouse_train=0.154]"
     ]
    },
    {
     "name": "stdout",
     "output_type": "stream",
     "text": [
      "\r",
      "Epoch 52/600:   8%|▊         | 51/600 [11:10<2:02:31, 13.39s/it, v_num=rp_1, total_loss_train=3.24e+3, kl_local_train=165, metric_mi|status_control_train=0.241, metric_mi|zone_train=0.181, metric_mi|time_cat_train=0.185, metric_mi|mouse_train=0.154]"
     ]
    },
    {
     "name": "stdout",
     "output_type": "stream",
     "text": [
      "\r",
      "Epoch 52/600:   9%|▊         | 52/600 [11:23<2:01:06, 13.26s/it, v_num=rp_1, total_loss_train=3.24e+3, kl_local_train=165, metric_mi|status_control_train=0.241, metric_mi|zone_train=0.181, metric_mi|time_cat_train=0.185, metric_mi|mouse_train=0.154]"
     ]
    },
    {
     "name": "stdout",
     "output_type": "stream",
     "text": [
      "\r",
      "Epoch 52/600:   9%|▊         | 52/600 [11:23<2:01:06, 13.26s/it, v_num=rp_1, total_loss_train=3.24e+3, kl_local_train=164, metric_mi|status_control_train=0.241, metric_mi|zone_train=0.181, metric_mi|time_cat_train=0.185, metric_mi|mouse_train=0.154]"
     ]
    },
    {
     "name": "stdout",
     "output_type": "stream",
     "text": [
      "\r",
      "Epoch 53/600:   9%|▊         | 52/600 [11:23<2:01:06, 13.26s/it, v_num=rp_1, total_loss_train=3.24e+3, kl_local_train=164, metric_mi|status_control_train=0.241, metric_mi|zone_train=0.181, metric_mi|time_cat_train=0.185, metric_mi|mouse_train=0.154]"
     ]
    },
    {
     "name": "stdout",
     "output_type": "stream",
     "text": [
      "\r",
      "Epoch 53/600:   9%|▉         | 53/600 [11:36<1:59:48, 13.14s/it, v_num=rp_1, total_loss_train=3.24e+3, kl_local_train=164, metric_mi|status_control_train=0.241, metric_mi|zone_train=0.181, metric_mi|time_cat_train=0.185, metric_mi|mouse_train=0.154]"
     ]
    },
    {
     "name": "stdout",
     "output_type": "stream",
     "text": [
      "\r",
      "Epoch 53/600:   9%|▉         | 53/600 [11:36<1:59:48, 13.14s/it, v_num=rp_1, total_loss_train=3.24e+3, kl_local_train=163, metric_mi|status_control_train=0.241, metric_mi|zone_train=0.181, metric_mi|time_cat_train=0.185, metric_mi|mouse_train=0.154]"
     ]
    },
    {
     "name": "stdout",
     "output_type": "stream",
     "text": [
      "\r",
      "Epoch 54/600:   9%|▉         | 53/600 [11:36<1:59:48, 13.14s/it, v_num=rp_1, total_loss_train=3.24e+3, kl_local_train=163, metric_mi|status_control_train=0.241, metric_mi|zone_train=0.181, metric_mi|time_cat_train=0.185, metric_mi|mouse_train=0.154]"
     ]
    },
    {
     "name": "stdout",
     "output_type": "stream",
     "text": [
      "\r",
      "Epoch 54/600:   9%|▉         | 54/600 [11:49<1:58:59, 13.08s/it, v_num=rp_1, total_loss_train=3.24e+3, kl_local_train=163, metric_mi|status_control_train=0.241, metric_mi|zone_train=0.181, metric_mi|time_cat_train=0.185, metric_mi|mouse_train=0.154]"
     ]
    },
    {
     "name": "stdout",
     "output_type": "stream",
     "text": [
      "\r",
      "Epoch 54/600:   9%|▉         | 54/600 [11:49<1:58:59, 13.08s/it, v_num=rp_1, total_loss_train=3.24e+3, kl_local_train=162, metric_mi|status_control_train=0.241, metric_mi|zone_train=0.181, metric_mi|time_cat_train=0.185, metric_mi|mouse_train=0.154]"
     ]
    },
    {
     "name": "stdout",
     "output_type": "stream",
     "text": [
      "\r",
      "Epoch 55/600:   9%|▉         | 54/600 [11:49<1:58:59, 13.08s/it, v_num=rp_1, total_loss_train=3.24e+3, kl_local_train=162, metric_mi|status_control_train=0.241, metric_mi|zone_train=0.181, metric_mi|time_cat_train=0.185, metric_mi|mouse_train=0.154]"
     ]
    },
    {
     "name": "stdout",
     "output_type": "stream",
     "text": [
      "\r",
      "Epoch 55/600:   9%|▉         | 55/600 [12:01<1:57:40, 12.96s/it, v_num=rp_1, total_loss_train=3.24e+3, kl_local_train=162, metric_mi|status_control_train=0.241, metric_mi|zone_train=0.181, metric_mi|time_cat_train=0.185, metric_mi|mouse_train=0.154]"
     ]
    },
    {
     "name": "stdout",
     "output_type": "stream",
     "text": [
      "\r",
      "Epoch 55/600:   9%|▉         | 55/600 [12:01<1:57:40, 12.96s/it, v_num=rp_1, total_loss_train=3.23e+3, kl_local_train=160, metric_mi|status_control_train=0.241, metric_mi|zone_train=0.181, metric_mi|time_cat_train=0.185, metric_mi|mouse_train=0.154]"
     ]
    },
    {
     "name": "stdout",
     "output_type": "stream",
     "text": [
      "\r",
      "Epoch 56/600:   9%|▉         | 55/600 [12:03<1:57:40, 12.96s/it, v_num=rp_1, total_loss_train=3.23e+3, kl_local_train=160, metric_mi|status_control_train=0.241, metric_mi|zone_train=0.181, metric_mi|time_cat_train=0.185, metric_mi|mouse_train=0.154]"
     ]
    },
    {
     "name": "stdout",
     "output_type": "stream",
     "text": [
      "\r",
      "Epoch 56/600:   9%|▉         | 56/600 [12:16<2:00:24, 13.28s/it, v_num=rp_1, total_loss_train=3.23e+3, kl_local_train=160, metric_mi|status_control_train=0.241, metric_mi|zone_train=0.181, metric_mi|time_cat_train=0.185, metric_mi|mouse_train=0.154]"
     ]
    },
    {
     "name": "stdout",
     "output_type": "stream",
     "text": [
      "\r",
      "Epoch 56/600:   9%|▉         | 56/600 [12:16<2:00:24, 13.28s/it, v_num=rp_1, total_loss_train=3.23e+3, kl_local_train=159, metric_mi|status_control_train=0.243, metric_mi|zone_train=0.18, metric_mi|time_cat_train=0.186, metric_mi|mouse_train=0.154] "
     ]
    },
    {
     "name": "stdout",
     "output_type": "stream",
     "text": [
      "\r",
      "Epoch 57/600:   9%|▉         | 56/600 [12:16<2:00:24, 13.28s/it, v_num=rp_1, total_loss_train=3.23e+3, kl_local_train=159, metric_mi|status_control_train=0.243, metric_mi|zone_train=0.18, metric_mi|time_cat_train=0.186, metric_mi|mouse_train=0.154]"
     ]
    },
    {
     "name": "stdout",
     "output_type": "stream",
     "text": [
      "\r",
      "Epoch 57/600:  10%|▉         | 57/600 [12:28<1:59:08, 13.16s/it, v_num=rp_1, total_loss_train=3.23e+3, kl_local_train=159, metric_mi|status_control_train=0.243, metric_mi|zone_train=0.18, metric_mi|time_cat_train=0.186, metric_mi|mouse_train=0.154]"
     ]
    },
    {
     "name": "stdout",
     "output_type": "stream",
     "text": [
      "\r",
      "Epoch 57/600:  10%|▉         | 57/600 [12:28<1:59:08, 13.16s/it, v_num=rp_1, total_loss_train=3.23e+3, kl_local_train=158, metric_mi|status_control_train=0.243, metric_mi|zone_train=0.18, metric_mi|time_cat_train=0.186, metric_mi|mouse_train=0.154]"
     ]
    },
    {
     "name": "stdout",
     "output_type": "stream",
     "text": [
      "\r",
      "Epoch 58/600:  10%|▉         | 57/600 [12:28<1:59:08, 13.16s/it, v_num=rp_1, total_loss_train=3.23e+3, kl_local_train=158, metric_mi|status_control_train=0.243, metric_mi|zone_train=0.18, metric_mi|time_cat_train=0.186, metric_mi|mouse_train=0.154]"
     ]
    },
    {
     "name": "stdout",
     "output_type": "stream",
     "text": [
      "\r",
      "Epoch 58/600:  10%|▉         | 58/600 [12:41<1:58:11, 13.08s/it, v_num=rp_1, total_loss_train=3.23e+3, kl_local_train=158, metric_mi|status_control_train=0.243, metric_mi|zone_train=0.18, metric_mi|time_cat_train=0.186, metric_mi|mouse_train=0.154]"
     ]
    },
    {
     "name": "stdout",
     "output_type": "stream",
     "text": [
      "\r",
      "Epoch 58/600:  10%|▉         | 58/600 [12:41<1:58:11, 13.08s/it, v_num=rp_1, total_loss_train=3.23e+3, kl_local_train=159, metric_mi|status_control_train=0.243, metric_mi|zone_train=0.18, metric_mi|time_cat_train=0.186, metric_mi|mouse_train=0.154]"
     ]
    },
    {
     "name": "stdout",
     "output_type": "stream",
     "text": [
      "\r",
      "Epoch 59/600:  10%|▉         | 58/600 [12:41<1:58:11, 13.08s/it, v_num=rp_1, total_loss_train=3.23e+3, kl_local_train=159, metric_mi|status_control_train=0.243, metric_mi|zone_train=0.18, metric_mi|time_cat_train=0.186, metric_mi|mouse_train=0.154]"
     ]
    },
    {
     "name": "stdout",
     "output_type": "stream",
     "text": [
      "\r",
      "Epoch 59/600:  10%|▉         | 59/600 [12:54<1:57:31, 13.04s/it, v_num=rp_1, total_loss_train=3.23e+3, kl_local_train=159, metric_mi|status_control_train=0.243, metric_mi|zone_train=0.18, metric_mi|time_cat_train=0.186, metric_mi|mouse_train=0.154]"
     ]
    },
    {
     "name": "stdout",
     "output_type": "stream",
     "text": [
      "\r",
      "Epoch 59/600:  10%|▉         | 59/600 [12:54<1:57:31, 13.04s/it, v_num=rp_1, total_loss_train=3.23e+3, kl_local_train=155, metric_mi|status_control_train=0.243, metric_mi|zone_train=0.18, metric_mi|time_cat_train=0.186, metric_mi|mouse_train=0.154]"
     ]
    },
    {
     "name": "stdout",
     "output_type": "stream",
     "text": [
      "\r",
      "Epoch 60/600:  10%|▉         | 59/600 [12:54<1:57:31, 13.04s/it, v_num=rp_1, total_loss_train=3.23e+3, kl_local_train=155, metric_mi|status_control_train=0.243, metric_mi|zone_train=0.18, metric_mi|time_cat_train=0.186, metric_mi|mouse_train=0.154]"
     ]
    },
    {
     "name": "stdout",
     "output_type": "stream",
     "text": [
      "\r",
      "Epoch 60/600:  10%|█         | 60/600 [13:07<1:56:49, 12.98s/it, v_num=rp_1, total_loss_train=3.23e+3, kl_local_train=155, metric_mi|status_control_train=0.243, metric_mi|zone_train=0.18, metric_mi|time_cat_train=0.186, metric_mi|mouse_train=0.154]"
     ]
    },
    {
     "name": "stdout",
     "output_type": "stream",
     "text": [
      "\r",
      "Epoch 60/600:  10%|█         | 60/600 [13:07<1:56:49, 12.98s/it, v_num=rp_1, total_loss_train=3.23e+3, kl_local_train=156, metric_mi|status_control_train=0.243, metric_mi|zone_train=0.18, metric_mi|time_cat_train=0.186, metric_mi|mouse_train=0.154]"
     ]
    },
    {
     "name": "stdout",
     "output_type": "stream",
     "text": [
      "\r",
      "Epoch 61/600:  10%|█         | 60/600 [13:08<1:56:49, 12.98s/it, v_num=rp_1, total_loss_train=3.23e+3, kl_local_train=156, metric_mi|status_control_train=0.243, metric_mi|zone_train=0.18, metric_mi|time_cat_train=0.186, metric_mi|mouse_train=0.154]"
     ]
    },
    {
     "name": "stdout",
     "output_type": "stream",
     "text": [
      "\r",
      "Epoch 61/600:  10%|█         | 61/600 [13:21<2:00:04, 13.37s/it, v_num=rp_1, total_loss_train=3.23e+3, kl_local_train=156, metric_mi|status_control_train=0.243, metric_mi|zone_train=0.18, metric_mi|time_cat_train=0.186, metric_mi|mouse_train=0.154]"
     ]
    },
    {
     "name": "stdout",
     "output_type": "stream",
     "text": [
      "\r",
      "Epoch 61/600:  10%|█         | 61/600 [13:21<2:00:04, 13.37s/it, v_num=rp_1, total_loss_train=3.23e+3, kl_local_train=157, metric_mi|status_control_train=0.235, metric_mi|zone_train=0.18, metric_mi|time_cat_train=0.182, metric_mi|mouse_train=0.152]"
     ]
    },
    {
     "name": "stdout",
     "output_type": "stream",
     "text": [
      "\r",
      "Epoch 62/600:  10%|█         | 61/600 [13:21<2:00:04, 13.37s/it, v_num=rp_1, total_loss_train=3.23e+3, kl_local_train=157, metric_mi|status_control_train=0.235, metric_mi|zone_train=0.18, metric_mi|time_cat_train=0.182, metric_mi|mouse_train=0.152]"
     ]
    },
    {
     "name": "stdout",
     "output_type": "stream",
     "text": [
      "\r",
      "Epoch 62/600:  10%|█         | 62/600 [13:34<1:58:34, 13.22s/it, v_num=rp_1, total_loss_train=3.23e+3, kl_local_train=157, metric_mi|status_control_train=0.235, metric_mi|zone_train=0.18, metric_mi|time_cat_train=0.182, metric_mi|mouse_train=0.152]"
     ]
    },
    {
     "name": "stdout",
     "output_type": "stream",
     "text": [
      "\r",
      "Epoch 62/600:  10%|█         | 62/600 [13:34<1:58:34, 13.22s/it, v_num=rp_1, total_loss_train=3.22e+3, kl_local_train=156, metric_mi|status_control_train=0.235, metric_mi|zone_train=0.18, metric_mi|time_cat_train=0.182, metric_mi|mouse_train=0.152]"
     ]
    },
    {
     "name": "stdout",
     "output_type": "stream",
     "text": [
      "\r",
      "Epoch 63/600:  10%|█         | 62/600 [13:34<1:58:34, 13.22s/it, v_num=rp_1, total_loss_train=3.22e+3, kl_local_train=156, metric_mi|status_control_train=0.235, metric_mi|zone_train=0.18, metric_mi|time_cat_train=0.182, metric_mi|mouse_train=0.152]"
     ]
    },
    {
     "name": "stdout",
     "output_type": "stream",
     "text": [
      "\r",
      "Epoch 63/600:  10%|█         | 63/600 [13:47<1:56:52, 13.06s/it, v_num=rp_1, total_loss_train=3.22e+3, kl_local_train=156, metric_mi|status_control_train=0.235, metric_mi|zone_train=0.18, metric_mi|time_cat_train=0.182, metric_mi|mouse_train=0.152]"
     ]
    },
    {
     "name": "stdout",
     "output_type": "stream",
     "text": [
      "\r",
      "Epoch 63/600:  10%|█         | 63/600 [13:47<1:56:52, 13.06s/it, v_num=rp_1, total_loss_train=3.22e+3, kl_local_train=153, metric_mi|status_control_train=0.235, metric_mi|zone_train=0.18, metric_mi|time_cat_train=0.182, metric_mi|mouse_train=0.152]"
     ]
    },
    {
     "name": "stdout",
     "output_type": "stream",
     "text": [
      "\r",
      "Epoch 64/600:  10%|█         | 63/600 [13:47<1:56:52, 13.06s/it, v_num=rp_1, total_loss_train=3.22e+3, kl_local_train=153, metric_mi|status_control_train=0.235, metric_mi|zone_train=0.18, metric_mi|time_cat_train=0.182, metric_mi|mouse_train=0.152]"
     ]
    },
    {
     "name": "stdout",
     "output_type": "stream",
     "text": [
      "\r",
      "Epoch 64/600:  11%|█         | 64/600 [14:00<1:56:59, 13.10s/it, v_num=rp_1, total_loss_train=3.22e+3, kl_local_train=153, metric_mi|status_control_train=0.235, metric_mi|zone_train=0.18, metric_mi|time_cat_train=0.182, metric_mi|mouse_train=0.152]"
     ]
    },
    {
     "name": "stdout",
     "output_type": "stream",
     "text": [
      "\r",
      "Epoch 64/600:  11%|█         | 64/600 [14:00<1:56:59, 13.10s/it, v_num=rp_1, total_loss_train=3.22e+3, kl_local_train=151, metric_mi|status_control_train=0.235, metric_mi|zone_train=0.18, metric_mi|time_cat_train=0.182, metric_mi|mouse_train=0.152]"
     ]
    },
    {
     "name": "stdout",
     "output_type": "stream",
     "text": [
      "\r",
      "Epoch 65/600:  11%|█         | 64/600 [14:00<1:56:59, 13.10s/it, v_num=rp_1, total_loss_train=3.22e+3, kl_local_train=151, metric_mi|status_control_train=0.235, metric_mi|zone_train=0.18, metric_mi|time_cat_train=0.182, metric_mi|mouse_train=0.152]"
     ]
    },
    {
     "name": "stdout",
     "output_type": "stream",
     "text": [
      "\r",
      "Epoch 65/600:  11%|█         | 65/600 [14:13<1:55:10, 12.92s/it, v_num=rp_1, total_loss_train=3.22e+3, kl_local_train=151, metric_mi|status_control_train=0.235, metric_mi|zone_train=0.18, metric_mi|time_cat_train=0.182, metric_mi|mouse_train=0.152]"
     ]
    },
    {
     "name": "stdout",
     "output_type": "stream",
     "text": [
      "\r",
      "Epoch 65/600:  11%|█         | 65/600 [14:13<1:55:10, 12.92s/it, v_num=rp_1, total_loss_train=3.22e+3, kl_local_train=152, metric_mi|status_control_train=0.235, metric_mi|zone_train=0.18, metric_mi|time_cat_train=0.182, metric_mi|mouse_train=0.152]"
     ]
    },
    {
     "name": "stdout",
     "output_type": "stream",
     "text": [
      "\r",
      "Epoch 66/600:  11%|█         | 65/600 [14:14<1:55:10, 12.92s/it, v_num=rp_1, total_loss_train=3.22e+3, kl_local_train=152, metric_mi|status_control_train=0.235, metric_mi|zone_train=0.18, metric_mi|time_cat_train=0.182, metric_mi|mouse_train=0.152]"
     ]
    },
    {
     "name": "stdout",
     "output_type": "stream",
     "text": [
      "\r",
      "Epoch 66/600:  11%|█         | 66/600 [14:27<1:58:36, 13.33s/it, v_num=rp_1, total_loss_train=3.22e+3, kl_local_train=152, metric_mi|status_control_train=0.235, metric_mi|zone_train=0.18, metric_mi|time_cat_train=0.182, metric_mi|mouse_train=0.152]"
     ]
    },
    {
     "name": "stdout",
     "output_type": "stream",
     "text": [
      "\r",
      "Epoch 66/600:  11%|█         | 66/600 [14:27<1:58:36, 13.33s/it, v_num=rp_1, total_loss_train=3.22e+3, kl_local_train=153, metric_mi|status_control_train=0.228, metric_mi|zone_train=0.18, metric_mi|time_cat_train=0.181, metric_mi|mouse_train=0.151]"
     ]
    },
    {
     "name": "stdout",
     "output_type": "stream",
     "text": [
      "\r",
      "Epoch 67/600:  11%|█         | 66/600 [14:27<1:58:36, 13.33s/it, v_num=rp_1, total_loss_train=3.22e+3, kl_local_train=153, metric_mi|status_control_train=0.228, metric_mi|zone_train=0.18, metric_mi|time_cat_train=0.181, metric_mi|mouse_train=0.151]"
     ]
    },
    {
     "name": "stdout",
     "output_type": "stream",
     "text": [
      "\r",
      "Epoch 67/600:  11%|█         | 67/600 [14:40<1:57:22, 13.21s/it, v_num=rp_1, total_loss_train=3.22e+3, kl_local_train=153, metric_mi|status_control_train=0.228, metric_mi|zone_train=0.18, metric_mi|time_cat_train=0.181, metric_mi|mouse_train=0.151]"
     ]
    },
    {
     "name": "stdout",
     "output_type": "stream",
     "text": [
      "\r",
      "Epoch 67/600:  11%|█         | 67/600 [14:40<1:57:22, 13.21s/it, v_num=rp_1, total_loss_train=3.22e+3, kl_local_train=152, metric_mi|status_control_train=0.228, metric_mi|zone_train=0.18, metric_mi|time_cat_train=0.181, metric_mi|mouse_train=0.151]"
     ]
    },
    {
     "name": "stdout",
     "output_type": "stream",
     "text": [
      "\r",
      "Epoch 68/600:  11%|█         | 67/600 [14:40<1:57:22, 13.21s/it, v_num=rp_1, total_loss_train=3.22e+3, kl_local_train=152, metric_mi|status_control_train=0.228, metric_mi|zone_train=0.18, metric_mi|time_cat_train=0.181, metric_mi|mouse_train=0.151]"
     ]
    },
    {
     "name": "stdout",
     "output_type": "stream",
     "text": [
      "\r",
      "Epoch 68/600:  11%|█▏        | 68/600 [14:53<1:56:30, 13.14s/it, v_num=rp_1, total_loss_train=3.22e+3, kl_local_train=152, metric_mi|status_control_train=0.228, metric_mi|zone_train=0.18, metric_mi|time_cat_train=0.181, metric_mi|mouse_train=0.151]"
     ]
    },
    {
     "name": "stdout",
     "output_type": "stream",
     "text": [
      "\r",
      "Epoch 68/600:  11%|█▏        | 68/600 [14:53<1:56:30, 13.14s/it, v_num=rp_1, total_loss_train=3.22e+3, kl_local_train=150, metric_mi|status_control_train=0.228, metric_mi|zone_train=0.18, metric_mi|time_cat_train=0.181, metric_mi|mouse_train=0.151]"
     ]
    },
    {
     "name": "stdout",
     "output_type": "stream",
     "text": [
      "\r",
      "Epoch 69/600:  11%|█▏        | 68/600 [14:53<1:56:30, 13.14s/it, v_num=rp_1, total_loss_train=3.22e+3, kl_local_train=150, metric_mi|status_control_train=0.228, metric_mi|zone_train=0.18, metric_mi|time_cat_train=0.181, metric_mi|mouse_train=0.151]"
     ]
    },
    {
     "name": "stdout",
     "output_type": "stream",
     "text": [
      "\r",
      "Epoch 69/600:  12%|█▏        | 69/600 [15:06<1:55:39, 13.07s/it, v_num=rp_1, total_loss_train=3.22e+3, kl_local_train=150, metric_mi|status_control_train=0.228, metric_mi|zone_train=0.18, metric_mi|time_cat_train=0.181, metric_mi|mouse_train=0.151]"
     ]
    },
    {
     "name": "stdout",
     "output_type": "stream",
     "text": [
      "\r",
      "Epoch 69/600:  12%|█▏        | 69/600 [15:06<1:55:39, 13.07s/it, v_num=rp_1, total_loss_train=3.21e+3, kl_local_train=151, metric_mi|status_control_train=0.228, metric_mi|zone_train=0.18, metric_mi|time_cat_train=0.181, metric_mi|mouse_train=0.151]"
     ]
    },
    {
     "name": "stdout",
     "output_type": "stream",
     "text": [
      "\r",
      "Epoch 70/600:  12%|█▏        | 69/600 [15:06<1:55:39, 13.07s/it, v_num=rp_1, total_loss_train=3.21e+3, kl_local_train=151, metric_mi|status_control_train=0.228, metric_mi|zone_train=0.18, metric_mi|time_cat_train=0.181, metric_mi|mouse_train=0.151]"
     ]
    },
    {
     "name": "stdout",
     "output_type": "stream",
     "text": [
      "\r",
      "Epoch 70/600:  12%|█▏        | 70/600 [15:19<1:55:26, 13.07s/it, v_num=rp_1, total_loss_train=3.21e+3, kl_local_train=151, metric_mi|status_control_train=0.228, metric_mi|zone_train=0.18, metric_mi|time_cat_train=0.181, metric_mi|mouse_train=0.151]"
     ]
    },
    {
     "name": "stdout",
     "output_type": "stream",
     "text": [
      "\r",
      "Epoch 70/600:  12%|█▏        | 70/600 [15:19<1:55:26, 13.07s/it, v_num=rp_1, total_loss_train=3.21e+3, kl_local_train=152, metric_mi|status_control_train=0.228, metric_mi|zone_train=0.18, metric_mi|time_cat_train=0.181, metric_mi|mouse_train=0.151]"
     ]
    },
    {
     "name": "stdout",
     "output_type": "stream",
     "text": [
      "\r",
      "Epoch 71/600:  12%|█▏        | 70/600 [15:20<1:55:26, 13.07s/it, v_num=rp_1, total_loss_train=3.21e+3, kl_local_train=152, metric_mi|status_control_train=0.228, metric_mi|zone_train=0.18, metric_mi|time_cat_train=0.181, metric_mi|mouse_train=0.151]"
     ]
    },
    {
     "name": "stdout",
     "output_type": "stream",
     "text": [
      "\r",
      "Epoch 71/600:  12%|█▏        | 71/600 [15:33<1:57:34, 13.34s/it, v_num=rp_1, total_loss_train=3.21e+3, kl_local_train=152, metric_mi|status_control_train=0.228, metric_mi|zone_train=0.18, metric_mi|time_cat_train=0.181, metric_mi|mouse_train=0.151]"
     ]
    },
    {
     "name": "stdout",
     "output_type": "stream",
     "text": [
      "\r",
      "Epoch 71/600:  12%|█▏        | 71/600 [15:33<1:57:34, 13.34s/it, v_num=rp_1, total_loss_train=3.21e+3, kl_local_train=150, metric_mi|status_control_train=0.224, metric_mi|zone_train=0.18, metric_mi|time_cat_train=0.187, metric_mi|mouse_train=0.154]"
     ]
    },
    {
     "name": "stdout",
     "output_type": "stream",
     "text": [
      "\r",
      "Epoch 72/600:  12%|█▏        | 71/600 [15:33<1:57:34, 13.34s/it, v_num=rp_1, total_loss_train=3.21e+3, kl_local_train=150, metric_mi|status_control_train=0.224, metric_mi|zone_train=0.18, metric_mi|time_cat_train=0.187, metric_mi|mouse_train=0.154]"
     ]
    },
    {
     "name": "stdout",
     "output_type": "stream",
     "text": [
      "\r",
      "Epoch 72/600:  12%|█▏        | 72/600 [15:45<1:54:24, 13.00s/it, v_num=rp_1, total_loss_train=3.21e+3, kl_local_train=150, metric_mi|status_control_train=0.224, metric_mi|zone_train=0.18, metric_mi|time_cat_train=0.187, metric_mi|mouse_train=0.154]"
     ]
    },
    {
     "name": "stdout",
     "output_type": "stream",
     "text": [
      "\r",
      "Epoch 72/600:  12%|█▏        | 72/600 [15:45<1:54:24, 13.00s/it, v_num=rp_1, total_loss_train=3.21e+3, kl_local_train=149, metric_mi|status_control_train=0.224, metric_mi|zone_train=0.18, metric_mi|time_cat_train=0.187, metric_mi|mouse_train=0.154]"
     ]
    },
    {
     "name": "stdout",
     "output_type": "stream",
     "text": [
      "\r",
      "Epoch 73/600:  12%|█▏        | 72/600 [15:45<1:54:24, 13.00s/it, v_num=rp_1, total_loss_train=3.21e+3, kl_local_train=149, metric_mi|status_control_train=0.224, metric_mi|zone_train=0.18, metric_mi|time_cat_train=0.187, metric_mi|mouse_train=0.154]"
     ]
    },
    {
     "name": "stdout",
     "output_type": "stream",
     "text": [
      "\r",
      "Epoch 73/600:  12%|█▏        | 73/600 [15:58<1:52:59, 12.86s/it, v_num=rp_1, total_loss_train=3.21e+3, kl_local_train=149, metric_mi|status_control_train=0.224, metric_mi|zone_train=0.18, metric_mi|time_cat_train=0.187, metric_mi|mouse_train=0.154]"
     ]
    },
    {
     "name": "stdout",
     "output_type": "stream",
     "text": [
      "\r",
      "Epoch 73/600:  12%|█▏        | 73/600 [15:58<1:52:59, 12.86s/it, v_num=rp_1, total_loss_train=3.21e+3, kl_local_train=148, metric_mi|status_control_train=0.224, metric_mi|zone_train=0.18, metric_mi|time_cat_train=0.187, metric_mi|mouse_train=0.154]"
     ]
    },
    {
     "name": "stdout",
     "output_type": "stream",
     "text": [
      "\r",
      "Epoch 74/600:  12%|█▏        | 73/600 [15:58<1:52:59, 12.86s/it, v_num=rp_1, total_loss_train=3.21e+3, kl_local_train=148, metric_mi|status_control_train=0.224, metric_mi|zone_train=0.18, metric_mi|time_cat_train=0.187, metric_mi|mouse_train=0.154]"
     ]
    },
    {
     "name": "stdout",
     "output_type": "stream",
     "text": [
      "\r",
      "Epoch 74/600:  12%|█▏        | 74/600 [16:10<1:51:58, 12.77s/it, v_num=rp_1, total_loss_train=3.21e+3, kl_local_train=148, metric_mi|status_control_train=0.224, metric_mi|zone_train=0.18, metric_mi|time_cat_train=0.187, metric_mi|mouse_train=0.154]"
     ]
    },
    {
     "name": "stdout",
     "output_type": "stream",
     "text": [
      "\r",
      "Epoch 74/600:  12%|█▏        | 74/600 [16:10<1:51:58, 12.77s/it, v_num=rp_1, total_loss_train=3.21e+3, kl_local_train=146, metric_mi|status_control_train=0.224, metric_mi|zone_train=0.18, metric_mi|time_cat_train=0.187, metric_mi|mouse_train=0.154]"
     ]
    },
    {
     "name": "stdout",
     "output_type": "stream",
     "text": [
      "\r",
      "Epoch 75/600:  12%|█▏        | 74/600 [16:10<1:51:58, 12.77s/it, v_num=rp_1, total_loss_train=3.21e+3, kl_local_train=146, metric_mi|status_control_train=0.224, metric_mi|zone_train=0.18, metric_mi|time_cat_train=0.187, metric_mi|mouse_train=0.154]"
     ]
    },
    {
     "name": "stdout",
     "output_type": "stream",
     "text": [
      "\r",
      "Epoch 75/600:  12%|█▎        | 75/600 [16:23<1:51:25, 12.73s/it, v_num=rp_1, total_loss_train=3.21e+3, kl_local_train=146, metric_mi|status_control_train=0.224, metric_mi|zone_train=0.18, metric_mi|time_cat_train=0.187, metric_mi|mouse_train=0.154]"
     ]
    },
    {
     "name": "stdout",
     "output_type": "stream",
     "text": [
      "\r",
      "Epoch 75/600:  12%|█▎        | 75/600 [16:23<1:51:25, 12.73s/it, v_num=rp_1, total_loss_train=3.21e+3, kl_local_train=145, metric_mi|status_control_train=0.224, metric_mi|zone_train=0.18, metric_mi|time_cat_train=0.187, metric_mi|mouse_train=0.154]"
     ]
    },
    {
     "name": "stdout",
     "output_type": "stream",
     "text": [
      "\r",
      "Epoch 76/600:  12%|█▎        | 75/600 [16:24<1:51:25, 12.73s/it, v_num=rp_1, total_loss_train=3.21e+3, kl_local_train=145, metric_mi|status_control_train=0.224, metric_mi|zone_train=0.18, metric_mi|time_cat_train=0.187, metric_mi|mouse_train=0.154]"
     ]
    },
    {
     "name": "stdout",
     "output_type": "stream",
     "text": [
      "\r",
      "Epoch 76/600:  13%|█▎        | 76/600 [16:37<1:54:22, 13.10s/it, v_num=rp_1, total_loss_train=3.21e+3, kl_local_train=145, metric_mi|status_control_train=0.224, metric_mi|zone_train=0.18, metric_mi|time_cat_train=0.187, metric_mi|mouse_train=0.154]"
     ]
    },
    {
     "name": "stdout",
     "output_type": "stream",
     "text": [
      "\r",
      "Epoch 76/600:  13%|█▎        | 76/600 [16:37<1:54:22, 13.10s/it, v_num=rp_1, total_loss_train=3.21e+3, kl_local_train=144, metric_mi|status_control_train=0.225, metric_mi|zone_train=0.18, metric_mi|time_cat_train=0.186, metric_mi|mouse_train=0.153]"
     ]
    },
    {
     "name": "stdout",
     "output_type": "stream",
     "text": [
      "\r",
      "Epoch 77/600:  13%|█▎        | 76/600 [16:37<1:54:22, 13.10s/it, v_num=rp_1, total_loss_train=3.21e+3, kl_local_train=144, metric_mi|status_control_train=0.225, metric_mi|zone_train=0.18, metric_mi|time_cat_train=0.186, metric_mi|mouse_train=0.153]"
     ]
    },
    {
     "name": "stdout",
     "output_type": "stream",
     "text": [
      "\r",
      "Epoch 77/600:  13%|█▎        | 77/600 [16:49<1:52:49, 12.94s/it, v_num=rp_1, total_loss_train=3.21e+3, kl_local_train=144, metric_mi|status_control_train=0.225, metric_mi|zone_train=0.18, metric_mi|time_cat_train=0.186, metric_mi|mouse_train=0.153]"
     ]
    },
    {
     "name": "stdout",
     "output_type": "stream",
     "text": [
      "\r",
      "Epoch 77/600:  13%|█▎        | 77/600 [16:49<1:52:49, 12.94s/it, v_num=rp_1, total_loss_train=3.2e+3, kl_local_train=142, metric_mi|status_control_train=0.225, metric_mi|zone_train=0.18, metric_mi|time_cat_train=0.186, metric_mi|mouse_train=0.153] "
     ]
    },
    {
     "name": "stdout",
     "output_type": "stream",
     "text": [
      "\r",
      "Epoch 78/600:  13%|█▎        | 77/600 [16:49<1:52:49, 12.94s/it, v_num=rp_1, total_loss_train=3.2e+3, kl_local_train=142, metric_mi|status_control_train=0.225, metric_mi|zone_train=0.18, metric_mi|time_cat_train=0.186, metric_mi|mouse_train=0.153]"
     ]
    },
    {
     "name": "stdout",
     "output_type": "stream",
     "text": [
      "\r",
      "Epoch 78/600:  13%|█▎        | 78/600 [17:02<1:51:27, 12.81s/it, v_num=rp_1, total_loss_train=3.2e+3, kl_local_train=142, metric_mi|status_control_train=0.225, metric_mi|zone_train=0.18, metric_mi|time_cat_train=0.186, metric_mi|mouse_train=0.153]"
     ]
    },
    {
     "name": "stdout",
     "output_type": "stream",
     "text": [
      "\r",
      "Epoch 78/600:  13%|█▎        | 78/600 [17:02<1:51:27, 12.81s/it, v_num=rp_1, total_loss_train=3.2e+3, kl_local_train=143, metric_mi|status_control_train=0.225, metric_mi|zone_train=0.18, metric_mi|time_cat_train=0.186, metric_mi|mouse_train=0.153]"
     ]
    },
    {
     "name": "stdout",
     "output_type": "stream",
     "text": [
      "\r",
      "Epoch 79/600:  13%|█▎        | 78/600 [17:02<1:51:27, 12.81s/it, v_num=rp_1, total_loss_train=3.2e+3, kl_local_train=143, metric_mi|status_control_train=0.225, metric_mi|zone_train=0.18, metric_mi|time_cat_train=0.186, metric_mi|mouse_train=0.153]"
     ]
    },
    {
     "name": "stdout",
     "output_type": "stream",
     "text": [
      "\r",
      "Epoch 79/600:  13%|█▎        | 79/600 [17:14<1:49:34, 12.62s/it, v_num=rp_1, total_loss_train=3.2e+3, kl_local_train=143, metric_mi|status_control_train=0.225, metric_mi|zone_train=0.18, metric_mi|time_cat_train=0.186, metric_mi|mouse_train=0.153]"
     ]
    },
    {
     "name": "stdout",
     "output_type": "stream",
     "text": [
      "\r",
      "Epoch 79/600:  13%|█▎        | 79/600 [17:14<1:49:34, 12.62s/it, v_num=rp_1, total_loss_train=3.2e+3, kl_local_train=141, metric_mi|status_control_train=0.225, metric_mi|zone_train=0.18, metric_mi|time_cat_train=0.186, metric_mi|mouse_train=0.153]"
     ]
    },
    {
     "name": "stdout",
     "output_type": "stream",
     "text": [
      "\r",
      "Epoch 80/600:  13%|█▎        | 79/600 [17:14<1:49:34, 12.62s/it, v_num=rp_1, total_loss_train=3.2e+3, kl_local_train=141, metric_mi|status_control_train=0.225, metric_mi|zone_train=0.18, metric_mi|time_cat_train=0.186, metric_mi|mouse_train=0.153]"
     ]
    },
    {
     "name": "stdout",
     "output_type": "stream",
     "text": [
      "\r",
      "Epoch 80/600:  13%|█▎        | 80/600 [17:27<1:49:28, 12.63s/it, v_num=rp_1, total_loss_train=3.2e+3, kl_local_train=141, metric_mi|status_control_train=0.225, metric_mi|zone_train=0.18, metric_mi|time_cat_train=0.186, metric_mi|mouse_train=0.153]"
     ]
    },
    {
     "name": "stdout",
     "output_type": "stream",
     "text": [
      "\r",
      "Epoch 80/600:  13%|█▎        | 80/600 [17:27<1:49:28, 12.63s/it, v_num=rp_1, total_loss_train=3.2e+3, kl_local_train=141, metric_mi|status_control_train=0.225, metric_mi|zone_train=0.18, metric_mi|time_cat_train=0.186, metric_mi|mouse_train=0.153]"
     ]
    },
    {
     "name": "stdout",
     "output_type": "stream",
     "text": [
      "\r",
      "Epoch 81/600:  13%|█▎        | 80/600 [17:28<1:49:28, 12.63s/it, v_num=rp_1, total_loss_train=3.2e+3, kl_local_train=141, metric_mi|status_control_train=0.225, metric_mi|zone_train=0.18, metric_mi|time_cat_train=0.186, metric_mi|mouse_train=0.153]"
     ]
    },
    {
     "name": "stdout",
     "output_type": "stream",
     "text": [
      "\r",
      "Epoch 81/600:  14%|█▎        | 81/600 [17:41<1:52:37, 13.02s/it, v_num=rp_1, total_loss_train=3.2e+3, kl_local_train=141, metric_mi|status_control_train=0.225, metric_mi|zone_train=0.18, metric_mi|time_cat_train=0.186, metric_mi|mouse_train=0.153]"
     ]
    },
    {
     "name": "stdout",
     "output_type": "stream",
     "text": [
      "\r",
      "Epoch 81/600:  14%|█▎        | 81/600 [17:41<1:52:37, 13.02s/it, v_num=rp_1, total_loss_train=3.2e+3, kl_local_train=139, metric_mi|status_control_train=0.233, metric_mi|zone_train=0.18, metric_mi|time_cat_train=0.188, metric_mi|mouse_train=0.154]"
     ]
    },
    {
     "name": "stdout",
     "output_type": "stream",
     "text": [
      "\r",
      "Epoch 82/600:  14%|█▎        | 81/600 [17:41<1:52:37, 13.02s/it, v_num=rp_1, total_loss_train=3.2e+3, kl_local_train=139, metric_mi|status_control_train=0.233, metric_mi|zone_train=0.18, metric_mi|time_cat_train=0.188, metric_mi|mouse_train=0.154]"
     ]
    },
    {
     "name": "stdout",
     "output_type": "stream",
     "text": [
      "\r",
      "Epoch 82/600:  14%|█▎        | 82/600 [17:53<1:51:17, 12.89s/it, v_num=rp_1, total_loss_train=3.2e+3, kl_local_train=139, metric_mi|status_control_train=0.233, metric_mi|zone_train=0.18, metric_mi|time_cat_train=0.188, metric_mi|mouse_train=0.154]"
     ]
    },
    {
     "name": "stdout",
     "output_type": "stream",
     "text": [
      "\r",
      "Epoch 82/600:  14%|█▎        | 82/600 [17:53<1:51:17, 12.89s/it, v_num=rp_1, total_loss_train=3.2e+3, kl_local_train=141, metric_mi|status_control_train=0.233, metric_mi|zone_train=0.18, metric_mi|time_cat_train=0.188, metric_mi|mouse_train=0.154]"
     ]
    },
    {
     "name": "stdout",
     "output_type": "stream",
     "text": [
      "\r",
      "Epoch 83/600:  14%|█▎        | 82/600 [17:53<1:51:17, 12.89s/it, v_num=rp_1, total_loss_train=3.2e+3, kl_local_train=141, metric_mi|status_control_train=0.233, metric_mi|zone_train=0.18, metric_mi|time_cat_train=0.188, metric_mi|mouse_train=0.154]"
     ]
    },
    {
     "name": "stdout",
     "output_type": "stream",
     "text": [
      "\r",
      "Epoch 83/600:  14%|█▍        | 83/600 [18:06<1:50:12, 12.79s/it, v_num=rp_1, total_loss_train=3.2e+3, kl_local_train=141, metric_mi|status_control_train=0.233, metric_mi|zone_train=0.18, metric_mi|time_cat_train=0.188, metric_mi|mouse_train=0.154]"
     ]
    },
    {
     "name": "stdout",
     "output_type": "stream",
     "text": [
      "\r",
      "Epoch 83/600:  14%|█▍        | 83/600 [18:06<1:50:12, 12.79s/it, v_num=rp_1, total_loss_train=3.2e+3, kl_local_train=140, metric_mi|status_control_train=0.233, metric_mi|zone_train=0.18, metric_mi|time_cat_train=0.188, metric_mi|mouse_train=0.154]"
     ]
    },
    {
     "name": "stdout",
     "output_type": "stream",
     "text": [
      "\r",
      "Epoch 84/600:  14%|█▍        | 83/600 [18:06<1:50:12, 12.79s/it, v_num=rp_1, total_loss_train=3.2e+3, kl_local_train=140, metric_mi|status_control_train=0.233, metric_mi|zone_train=0.18, metric_mi|time_cat_train=0.188, metric_mi|mouse_train=0.154]"
     ]
    },
    {
     "name": "stdout",
     "output_type": "stream",
     "text": [
      "\r",
      "Epoch 84/600:  14%|█▍        | 84/600 [18:18<1:48:27, 12.61s/it, v_num=rp_1, total_loss_train=3.2e+3, kl_local_train=140, metric_mi|status_control_train=0.233, metric_mi|zone_train=0.18, metric_mi|time_cat_train=0.188, metric_mi|mouse_train=0.154]"
     ]
    },
    {
     "name": "stdout",
     "output_type": "stream",
     "text": [
      "\r",
      "Epoch 84/600:  14%|█▍        | 84/600 [18:18<1:48:27, 12.61s/it, v_num=rp_1, total_loss_train=3.2e+3, kl_local_train=138, metric_mi|status_control_train=0.233, metric_mi|zone_train=0.18, metric_mi|time_cat_train=0.188, metric_mi|mouse_train=0.154]"
     ]
    },
    {
     "name": "stdout",
     "output_type": "stream",
     "text": [
      "\r",
      "Epoch 85/600:  14%|█▍        | 84/600 [18:18<1:48:27, 12.61s/it, v_num=rp_1, total_loss_train=3.2e+3, kl_local_train=138, metric_mi|status_control_train=0.233, metric_mi|zone_train=0.18, metric_mi|time_cat_train=0.188, metric_mi|mouse_train=0.154]"
     ]
    },
    {
     "name": "stdout",
     "output_type": "stream",
     "text": [
      "\r",
      "Epoch 85/600:  14%|█▍        | 85/600 [18:30<1:48:14, 12.61s/it, v_num=rp_1, total_loss_train=3.2e+3, kl_local_train=138, metric_mi|status_control_train=0.233, metric_mi|zone_train=0.18, metric_mi|time_cat_train=0.188, metric_mi|mouse_train=0.154]"
     ]
    },
    {
     "name": "stdout",
     "output_type": "stream",
     "text": [
      "\r",
      "Epoch 85/600:  14%|█▍        | 85/600 [18:30<1:48:14, 12.61s/it, v_num=rp_1, total_loss_train=3.19e+3, kl_local_train=139, metric_mi|status_control_train=0.233, metric_mi|zone_train=0.18, metric_mi|time_cat_train=0.188, metric_mi|mouse_train=0.154]"
     ]
    },
    {
     "name": "stdout",
     "output_type": "stream",
     "text": [
      "\r",
      "Epoch 86/600:  14%|█▍        | 85/600 [18:32<1:48:14, 12.61s/it, v_num=rp_1, total_loss_train=3.19e+3, kl_local_train=139, metric_mi|status_control_train=0.233, metric_mi|zone_train=0.18, metric_mi|time_cat_train=0.188, metric_mi|mouse_train=0.154]"
     ]
    },
    {
     "name": "stdout",
     "output_type": "stream",
     "text": [
      "\r",
      "Epoch 86/600:  14%|█▍        | 86/600 [18:44<1:51:24, 13.00s/it, v_num=rp_1, total_loss_train=3.19e+3, kl_local_train=139, metric_mi|status_control_train=0.233, metric_mi|zone_train=0.18, metric_mi|time_cat_train=0.188, metric_mi|mouse_train=0.154]"
     ]
    },
    {
     "name": "stdout",
     "output_type": "stream",
     "text": [
      "\r",
      "Epoch 86/600:  14%|█▍        | 86/600 [18:44<1:51:24, 13.00s/it, v_num=rp_1, total_loss_train=3.19e+3, kl_local_train=138, metric_mi|status_control_train=0.232, metric_mi|zone_train=0.18, metric_mi|time_cat_train=0.189, metric_mi|mouse_train=0.154]"
     ]
    },
    {
     "name": "stdout",
     "output_type": "stream",
     "text": [
      "\r",
      "Epoch 87/600:  14%|█▍        | 86/600 [18:44<1:51:24, 13.00s/it, v_num=rp_1, total_loss_train=3.19e+3, kl_local_train=138, metric_mi|status_control_train=0.232, metric_mi|zone_train=0.18, metric_mi|time_cat_train=0.189, metric_mi|mouse_train=0.154]"
     ]
    },
    {
     "name": "stdout",
     "output_type": "stream",
     "text": [
      "\r",
      "Epoch 87/600:  14%|█▍        | 87/600 [18:57<1:50:07, 12.88s/it, v_num=rp_1, total_loss_train=3.19e+3, kl_local_train=138, metric_mi|status_control_train=0.232, metric_mi|zone_train=0.18, metric_mi|time_cat_train=0.189, metric_mi|mouse_train=0.154]"
     ]
    },
    {
     "name": "stdout",
     "output_type": "stream",
     "text": [
      "\r",
      "Epoch 87/600:  14%|█▍        | 87/600 [18:57<1:50:07, 12.88s/it, v_num=rp_1, total_loss_train=3.19e+3, kl_local_train=136, metric_mi|status_control_train=0.232, metric_mi|zone_train=0.18, metric_mi|time_cat_train=0.189, metric_mi|mouse_train=0.154]"
     ]
    },
    {
     "name": "stdout",
     "output_type": "stream",
     "text": [
      "\r",
      "Epoch 88/600:  14%|█▍        | 87/600 [18:57<1:50:07, 12.88s/it, v_num=rp_1, total_loss_train=3.19e+3, kl_local_train=136, metric_mi|status_control_train=0.232, metric_mi|zone_train=0.18, metric_mi|time_cat_train=0.189, metric_mi|mouse_train=0.154]"
     ]
    },
    {
     "name": "stdout",
     "output_type": "stream",
     "text": [
      "\r",
      "Epoch 88/600:  15%|█▍        | 88/600 [19:10<1:49:03, 12.78s/it, v_num=rp_1, total_loss_train=3.19e+3, kl_local_train=136, metric_mi|status_control_train=0.232, metric_mi|zone_train=0.18, metric_mi|time_cat_train=0.189, metric_mi|mouse_train=0.154]"
     ]
    },
    {
     "name": "stdout",
     "output_type": "stream",
     "text": [
      "\r",
      "Epoch 88/600:  15%|█▍        | 88/600 [19:10<1:49:03, 12.78s/it, v_num=rp_1, total_loss_train=3.19e+3, kl_local_train=135, metric_mi|status_control_train=0.232, metric_mi|zone_train=0.18, metric_mi|time_cat_train=0.189, metric_mi|mouse_train=0.154]"
     ]
    },
    {
     "name": "stdout",
     "output_type": "stream",
     "text": [
      "\r",
      "Epoch 89/600:  15%|█▍        | 88/600 [19:10<1:49:03, 12.78s/it, v_num=rp_1, total_loss_train=3.19e+3, kl_local_train=135, metric_mi|status_control_train=0.232, metric_mi|zone_train=0.18, metric_mi|time_cat_train=0.189, metric_mi|mouse_train=0.154]"
     ]
    },
    {
     "name": "stdout",
     "output_type": "stream",
     "text": [
      "\r",
      "Epoch 89/600:  15%|█▍        | 89/600 [19:22<1:48:31, 12.74s/it, v_num=rp_1, total_loss_train=3.19e+3, kl_local_train=135, metric_mi|status_control_train=0.232, metric_mi|zone_train=0.18, metric_mi|time_cat_train=0.189, metric_mi|mouse_train=0.154]"
     ]
    },
    {
     "name": "stdout",
     "output_type": "stream",
     "text": [
      "\r",
      "Epoch 89/600:  15%|█▍        | 89/600 [19:22<1:48:31, 12.74s/it, v_num=rp_1, total_loss_train=3.19e+3, kl_local_train=136, metric_mi|status_control_train=0.232, metric_mi|zone_train=0.18, metric_mi|time_cat_train=0.189, metric_mi|mouse_train=0.154]"
     ]
    },
    {
     "name": "stdout",
     "output_type": "stream",
     "text": [
      "\r",
      "Epoch 90/600:  15%|█▍        | 89/600 [19:22<1:48:31, 12.74s/it, v_num=rp_1, total_loss_train=3.19e+3, kl_local_train=136, metric_mi|status_control_train=0.232, metric_mi|zone_train=0.18, metric_mi|time_cat_train=0.189, metric_mi|mouse_train=0.154]"
     ]
    },
    {
     "name": "stdout",
     "output_type": "stream",
     "text": [
      "\r",
      "Epoch 90/600:  15%|█▌        | 90/600 [19:35<1:47:55, 12.70s/it, v_num=rp_1, total_loss_train=3.19e+3, kl_local_train=136, metric_mi|status_control_train=0.232, metric_mi|zone_train=0.18, metric_mi|time_cat_train=0.189, metric_mi|mouse_train=0.154]"
     ]
    },
    {
     "name": "stdout",
     "output_type": "stream",
     "text": [
      "\r",
      "Epoch 90/600:  15%|█▌        | 90/600 [19:35<1:47:55, 12.70s/it, v_num=rp_1, total_loss_train=3.19e+3, kl_local_train=136, metric_mi|status_control_train=0.232, metric_mi|zone_train=0.18, metric_mi|time_cat_train=0.189, metric_mi|mouse_train=0.154]"
     ]
    },
    {
     "name": "stdout",
     "output_type": "stream",
     "text": [
      "\r",
      "Epoch 91/600:  15%|█▌        | 90/600 [19:36<1:47:55, 12.70s/it, v_num=rp_1, total_loss_train=3.19e+3, kl_local_train=136, metric_mi|status_control_train=0.232, metric_mi|zone_train=0.18, metric_mi|time_cat_train=0.189, metric_mi|mouse_train=0.154]"
     ]
    },
    {
     "name": "stdout",
     "output_type": "stream",
     "text": [
      "\r",
      "Epoch 91/600:  15%|█▌        | 91/600 [19:48<1:50:04, 12.98s/it, v_num=rp_1, total_loss_train=3.19e+3, kl_local_train=136, metric_mi|status_control_train=0.232, metric_mi|zone_train=0.18, metric_mi|time_cat_train=0.189, metric_mi|mouse_train=0.154]"
     ]
    },
    {
     "name": "stdout",
     "output_type": "stream",
     "text": [
      "\r",
      "Epoch 91/600:  15%|█▌        | 91/600 [19:48<1:50:04, 12.98s/it, v_num=rp_1, total_loss_train=3.19e+3, kl_local_train=137, metric_mi|status_control_train=0.231, metric_mi|zone_train=0.18, metric_mi|time_cat_train=0.187, metric_mi|mouse_train=0.153]"
     ]
    },
    {
     "name": "stdout",
     "output_type": "stream",
     "text": [
      "\r",
      "Epoch 92/600:  15%|█▌        | 91/600 [19:48<1:50:04, 12.98s/it, v_num=rp_1, total_loss_train=3.19e+3, kl_local_train=137, metric_mi|status_control_train=0.231, metric_mi|zone_train=0.18, metric_mi|time_cat_train=0.187, metric_mi|mouse_train=0.153]"
     ]
    },
    {
     "name": "stdout",
     "output_type": "stream",
     "text": [
      "\r",
      "Epoch 92/600:  15%|█▌        | 92/600 [20:01<1:48:45, 12.85s/it, v_num=rp_1, total_loss_train=3.19e+3, kl_local_train=137, metric_mi|status_control_train=0.231, metric_mi|zone_train=0.18, metric_mi|time_cat_train=0.187, metric_mi|mouse_train=0.153]"
     ]
    },
    {
     "name": "stdout",
     "output_type": "stream",
     "text": [
      "\r",
      "Epoch 92/600:  15%|█▌        | 92/600 [20:01<1:48:45, 12.85s/it, v_num=rp_1, total_loss_train=3.19e+3, kl_local_train=134, metric_mi|status_control_train=0.231, metric_mi|zone_train=0.18, metric_mi|time_cat_train=0.187, metric_mi|mouse_train=0.153]"
     ]
    },
    {
     "name": "stdout",
     "output_type": "stream",
     "text": [
      "\r",
      "Epoch 93/600:  15%|█▌        | 92/600 [20:01<1:48:45, 12.85s/it, v_num=rp_1, total_loss_train=3.19e+3, kl_local_train=134, metric_mi|status_control_train=0.231, metric_mi|zone_train=0.18, metric_mi|time_cat_train=0.187, metric_mi|mouse_train=0.153]"
     ]
    },
    {
     "name": "stdout",
     "output_type": "stream",
     "text": [
      "\r",
      "Epoch 93/600:  16%|█▌        | 93/600 [20:13<1:47:51, 12.76s/it, v_num=rp_1, total_loss_train=3.19e+3, kl_local_train=134, metric_mi|status_control_train=0.231, metric_mi|zone_train=0.18, metric_mi|time_cat_train=0.187, metric_mi|mouse_train=0.153]"
     ]
    },
    {
     "name": "stdout",
     "output_type": "stream",
     "text": [
      "\r",
      "Epoch 93/600:  16%|█▌        | 93/600 [20:13<1:47:51, 12.76s/it, v_num=rp_1, total_loss_train=3.19e+3, kl_local_train=133, metric_mi|status_control_train=0.231, metric_mi|zone_train=0.18, metric_mi|time_cat_train=0.187, metric_mi|mouse_train=0.153]"
     ]
    },
    {
     "name": "stdout",
     "output_type": "stream",
     "text": [
      "\r",
      "Epoch 94/600:  16%|█▌        | 93/600 [20:14<1:47:51, 12.76s/it, v_num=rp_1, total_loss_train=3.19e+3, kl_local_train=133, metric_mi|status_control_train=0.231, metric_mi|zone_train=0.18, metric_mi|time_cat_train=0.187, metric_mi|mouse_train=0.153]"
     ]
    },
    {
     "name": "stdout",
     "output_type": "stream",
     "text": [
      "\r",
      "Epoch 94/600:  16%|█▌        | 94/600 [20:26<1:47:26, 12.74s/it, v_num=rp_1, total_loss_train=3.19e+3, kl_local_train=133, metric_mi|status_control_train=0.231, metric_mi|zone_train=0.18, metric_mi|time_cat_train=0.187, metric_mi|mouse_train=0.153]"
     ]
    },
    {
     "name": "stdout",
     "output_type": "stream",
     "text": [
      "\r",
      "Epoch 94/600:  16%|█▌        | 94/600 [20:26<1:47:26, 12.74s/it, v_num=rp_1, total_loss_train=3.18e+3, kl_local_train=134, metric_mi|status_control_train=0.231, metric_mi|zone_train=0.18, metric_mi|time_cat_train=0.187, metric_mi|mouse_train=0.153]"
     ]
    },
    {
     "name": "stdout",
     "output_type": "stream",
     "text": [
      "\r",
      "Epoch 95/600:  16%|█▌        | 94/600 [20:26<1:47:26, 12.74s/it, v_num=rp_1, total_loss_train=3.18e+3, kl_local_train=134, metric_mi|status_control_train=0.231, metric_mi|zone_train=0.18, metric_mi|time_cat_train=0.187, metric_mi|mouse_train=0.153]"
     ]
    },
    {
     "name": "stdout",
     "output_type": "stream",
     "text": [
      "\r",
      "Epoch 95/600:  16%|█▌        | 95/600 [20:39<1:46:56, 12.71s/it, v_num=rp_1, total_loss_train=3.18e+3, kl_local_train=134, metric_mi|status_control_train=0.231, metric_mi|zone_train=0.18, metric_mi|time_cat_train=0.187, metric_mi|mouse_train=0.153]"
     ]
    },
    {
     "name": "stdout",
     "output_type": "stream",
     "text": [
      "\r",
      "Epoch 95/600:  16%|█▌        | 95/600 [20:39<1:46:56, 12.71s/it, v_num=rp_1, total_loss_train=3.18e+3, kl_local_train=134, metric_mi|status_control_train=0.231, metric_mi|zone_train=0.18, metric_mi|time_cat_train=0.187, metric_mi|mouse_train=0.153]"
     ]
    },
    {
     "name": "stdout",
     "output_type": "stream",
     "text": [
      "\r",
      "Epoch 96/600:  16%|█▌        | 95/600 [20:40<1:46:56, 12.71s/it, v_num=rp_1, total_loss_train=3.18e+3, kl_local_train=134, metric_mi|status_control_train=0.231, metric_mi|zone_train=0.18, metric_mi|time_cat_train=0.187, metric_mi|mouse_train=0.153]"
     ]
    },
    {
     "name": "stdout",
     "output_type": "stream",
     "text": [
      "\r",
      "Epoch 96/600:  16%|█▌        | 96/600 [20:53<1:50:00, 13.10s/it, v_num=rp_1, total_loss_train=3.18e+3, kl_local_train=134, metric_mi|status_control_train=0.231, metric_mi|zone_train=0.18, metric_mi|time_cat_train=0.187, metric_mi|mouse_train=0.153]"
     ]
    },
    {
     "name": "stdout",
     "output_type": "stream",
     "text": [
      "\r",
      "Epoch 96/600:  16%|█▌        | 96/600 [20:53<1:50:00, 13.10s/it, v_num=rp_1, total_loss_train=3.18e+3, kl_local_train=133, metric_mi|status_control_train=0.228, metric_mi|zone_train=0.18, metric_mi|time_cat_train=0.184, metric_mi|mouse_train=0.151]"
     ]
    },
    {
     "name": "stdout",
     "output_type": "stream",
     "text": [
      "\r",
      "Epoch 97/600:  16%|█▌        | 96/600 [20:53<1:50:00, 13.10s/it, v_num=rp_1, total_loss_train=3.18e+3, kl_local_train=133, metric_mi|status_control_train=0.228, metric_mi|zone_train=0.18, metric_mi|time_cat_train=0.184, metric_mi|mouse_train=0.151]"
     ]
    },
    {
     "name": "stdout",
     "output_type": "stream",
     "text": [
      "\r",
      "Epoch 97/600:  16%|█▌        | 97/600 [21:05<1:47:33, 12.83s/it, v_num=rp_1, total_loss_train=3.18e+3, kl_local_train=133, metric_mi|status_control_train=0.228, metric_mi|zone_train=0.18, metric_mi|time_cat_train=0.184, metric_mi|mouse_train=0.151]"
     ]
    },
    {
     "name": "stdout",
     "output_type": "stream",
     "text": [
      "\r",
      "Epoch 97/600:  16%|█▌        | 97/600 [21:05<1:47:33, 12.83s/it, v_num=rp_1, total_loss_train=3.18e+3, kl_local_train=132, metric_mi|status_control_train=0.228, metric_mi|zone_train=0.18, metric_mi|time_cat_train=0.184, metric_mi|mouse_train=0.151]"
     ]
    },
    {
     "name": "stdout",
     "output_type": "stream",
     "text": [
      "\r",
      "Epoch 98/600:  16%|█▌        | 97/600 [21:05<1:47:33, 12.83s/it, v_num=rp_1, total_loss_train=3.18e+3, kl_local_train=132, metric_mi|status_control_train=0.228, metric_mi|zone_train=0.18, metric_mi|time_cat_train=0.184, metric_mi|mouse_train=0.151]"
     ]
    },
    {
     "name": "stdout",
     "output_type": "stream",
     "text": [
      "\r",
      "Epoch 98/600:  16%|█▋        | 98/600 [21:18<1:46:43, 12.76s/it, v_num=rp_1, total_loss_train=3.18e+3, kl_local_train=132, metric_mi|status_control_train=0.228, metric_mi|zone_train=0.18, metric_mi|time_cat_train=0.184, metric_mi|mouse_train=0.151]"
     ]
    },
    {
     "name": "stdout",
     "output_type": "stream",
     "text": [
      "\r",
      "Epoch 98/600:  16%|█▋        | 98/600 [21:18<1:46:43, 12.76s/it, v_num=rp_1, total_loss_train=3.18e+3, kl_local_train=132, metric_mi|status_control_train=0.228, metric_mi|zone_train=0.18, metric_mi|time_cat_train=0.184, metric_mi|mouse_train=0.151]"
     ]
    },
    {
     "name": "stdout",
     "output_type": "stream",
     "text": [
      "\r",
      "Epoch 99/600:  16%|█▋        | 98/600 [21:18<1:46:43, 12.76s/it, v_num=rp_1, total_loss_train=3.18e+3, kl_local_train=132, metric_mi|status_control_train=0.228, metric_mi|zone_train=0.18, metric_mi|time_cat_train=0.184, metric_mi|mouse_train=0.151]"
     ]
    },
    {
     "name": "stdout",
     "output_type": "stream",
     "text": [
      "\r",
      "Epoch 99/600:  16%|█▋        | 99/600 [21:30<1:46:03, 12.70s/it, v_num=rp_1, total_loss_train=3.18e+3, kl_local_train=132, metric_mi|status_control_train=0.228, metric_mi|zone_train=0.18, metric_mi|time_cat_train=0.184, metric_mi|mouse_train=0.151]"
     ]
    },
    {
     "name": "stdout",
     "output_type": "stream",
     "text": [
      "\r",
      "Epoch 99/600:  16%|█▋        | 99/600 [21:30<1:46:03, 12.70s/it, v_num=rp_1, total_loss_train=3.18e+3, kl_local_train=134, metric_mi|status_control_train=0.228, metric_mi|zone_train=0.18, metric_mi|time_cat_train=0.184, metric_mi|mouse_train=0.151]"
     ]
    },
    {
     "name": "stdout",
     "output_type": "stream",
     "text": [
      "\r",
      "Epoch 100/600:  16%|█▋        | 99/600 [21:30<1:46:03, 12.70s/it, v_num=rp_1, total_loss_train=3.18e+3, kl_local_train=134, metric_mi|status_control_train=0.228, metric_mi|zone_train=0.18, metric_mi|time_cat_train=0.184, metric_mi|mouse_train=0.151]"
     ]
    },
    {
     "name": "stdout",
     "output_type": "stream",
     "text": [
      "\r",
      "Epoch 100/600:  17%|█▋        | 100/600 [21:43<1:45:35, 12.67s/it, v_num=rp_1, total_loss_train=3.18e+3, kl_local_train=134, metric_mi|status_control_train=0.228, metric_mi|zone_train=0.18, metric_mi|time_cat_train=0.184, metric_mi|mouse_train=0.151]"
     ]
    },
    {
     "name": "stdout",
     "output_type": "stream",
     "text": [
      "\r",
      "Epoch 100/600:  17%|█▋        | 100/600 [21:43<1:45:35, 12.67s/it, v_num=rp_1, total_loss_train=3.18e+3, kl_local_train=132, metric_mi|status_control_train=0.228, metric_mi|zone_train=0.18, metric_mi|time_cat_train=0.184, metric_mi|mouse_train=0.151]"
     ]
    },
    {
     "name": "stdout",
     "output_type": "stream",
     "text": [
      "\r",
      "Epoch 101/600:  17%|█▋        | 100/600 [21:44<1:45:35, 12.67s/it, v_num=rp_1, total_loss_train=3.18e+3, kl_local_train=132, metric_mi|status_control_train=0.228, metric_mi|zone_train=0.18, metric_mi|time_cat_train=0.184, metric_mi|mouse_train=0.151]"
     ]
    },
    {
     "name": "stdout",
     "output_type": "stream",
     "text": [
      "\r",
      "Epoch 101/600:  17%|█▋        | 101/600 [21:57<1:48:21, 13.03s/it, v_num=rp_1, total_loss_train=3.18e+3, kl_local_train=132, metric_mi|status_control_train=0.228, metric_mi|zone_train=0.18, metric_mi|time_cat_train=0.184, metric_mi|mouse_train=0.151]"
     ]
    },
    {
     "name": "stdout",
     "output_type": "stream",
     "text": [
      "\r",
      "Epoch 101/600:  17%|█▋        | 101/600 [21:57<1:48:21, 13.03s/it, v_num=rp_1, total_loss_train=3.18e+3, kl_local_train=131, metric_mi|status_control_train=0.235, metric_mi|zone_train=0.18, metric_mi|time_cat_train=0.191, metric_mi|mouse_train=0.155]"
     ]
    },
    {
     "name": "stdout",
     "output_type": "stream",
     "text": [
      "\r",
      "Epoch 102/600:  17%|█▋        | 101/600 [21:57<1:48:21, 13.03s/it, v_num=rp_1, total_loss_train=3.18e+3, kl_local_train=131, metric_mi|status_control_train=0.235, metric_mi|zone_train=0.18, metric_mi|time_cat_train=0.191, metric_mi|mouse_train=0.155]"
     ]
    },
    {
     "name": "stdout",
     "output_type": "stream",
     "text": [
      "\r",
      "Epoch 102/600:  17%|█▋        | 102/600 [22:09<1:46:06, 12.78s/it, v_num=rp_1, total_loss_train=3.18e+3, kl_local_train=131, metric_mi|status_control_train=0.235, metric_mi|zone_train=0.18, metric_mi|time_cat_train=0.191, metric_mi|mouse_train=0.155]"
     ]
    },
    {
     "name": "stdout",
     "output_type": "stream",
     "text": [
      "\r",
      "Epoch 102/600:  17%|█▋        | 102/600 [22:09<1:46:06, 12.78s/it, v_num=rp_1, total_loss_train=3.18e+3, kl_local_train=131, metric_mi|status_control_train=0.235, metric_mi|zone_train=0.18, metric_mi|time_cat_train=0.191, metric_mi|mouse_train=0.155]"
     ]
    },
    {
     "name": "stdout",
     "output_type": "stream",
     "text": [
      "\r",
      "Epoch 103/600:  17%|█▋        | 102/600 [22:09<1:46:06, 12.78s/it, v_num=rp_1, total_loss_train=3.18e+3, kl_local_train=131, metric_mi|status_control_train=0.235, metric_mi|zone_train=0.18, metric_mi|time_cat_train=0.191, metric_mi|mouse_train=0.155]"
     ]
    },
    {
     "name": "stdout",
     "output_type": "stream",
     "text": [
      "\r",
      "Epoch 103/600:  17%|█▋        | 103/600 [22:21<1:45:20, 12.72s/it, v_num=rp_1, total_loss_train=3.18e+3, kl_local_train=131, metric_mi|status_control_train=0.235, metric_mi|zone_train=0.18, metric_mi|time_cat_train=0.191, metric_mi|mouse_train=0.155]"
     ]
    },
    {
     "name": "stdout",
     "output_type": "stream",
     "text": [
      "\r",
      "Epoch 103/600:  17%|█▋        | 103/600 [22:21<1:45:20, 12.72s/it, v_num=rp_1, total_loss_train=3.18e+3, kl_local_train=129, metric_mi|status_control_train=0.235, metric_mi|zone_train=0.18, metric_mi|time_cat_train=0.191, metric_mi|mouse_train=0.155]"
     ]
    },
    {
     "name": "stdout",
     "output_type": "stream",
     "text": [
      "\r",
      "Epoch 104/600:  17%|█▋        | 103/600 [22:21<1:45:20, 12.72s/it, v_num=rp_1, total_loss_train=3.18e+3, kl_local_train=129, metric_mi|status_control_train=0.235, metric_mi|zone_train=0.18, metric_mi|time_cat_train=0.191, metric_mi|mouse_train=0.155]"
     ]
    },
    {
     "name": "stdout",
     "output_type": "stream",
     "text": [
      "\r",
      "Epoch 104/600:  17%|█▋        | 104/600 [22:34<1:44:41, 12.66s/it, v_num=rp_1, total_loss_train=3.18e+3, kl_local_train=129, metric_mi|status_control_train=0.235, metric_mi|zone_train=0.18, metric_mi|time_cat_train=0.191, metric_mi|mouse_train=0.155]"
     ]
    },
    {
     "name": "stdout",
     "output_type": "stream",
     "text": [
      "\r",
      "Epoch 104/600:  17%|█▋        | 104/600 [22:34<1:44:41, 12.66s/it, v_num=rp_1, total_loss_train=3.17e+3, kl_local_train=128, metric_mi|status_control_train=0.235, metric_mi|zone_train=0.18, metric_mi|time_cat_train=0.191, metric_mi|mouse_train=0.155]"
     ]
    },
    {
     "name": "stdout",
     "output_type": "stream",
     "text": [
      "\r",
      "Epoch 105/600:  17%|█▋        | 104/600 [22:34<1:44:41, 12.66s/it, v_num=rp_1, total_loss_train=3.17e+3, kl_local_train=128, metric_mi|status_control_train=0.235, metric_mi|zone_train=0.18, metric_mi|time_cat_train=0.191, metric_mi|mouse_train=0.155]"
     ]
    },
    {
     "name": "stdout",
     "output_type": "stream",
     "text": [
      "\r",
      "Epoch 105/600:  18%|█▊        | 105/600 [22:47<1:44:14, 12.64s/it, v_num=rp_1, total_loss_train=3.17e+3, kl_local_train=128, metric_mi|status_control_train=0.235, metric_mi|zone_train=0.18, metric_mi|time_cat_train=0.191, metric_mi|mouse_train=0.155]"
     ]
    },
    {
     "name": "stdout",
     "output_type": "stream",
     "text": [
      "\r",
      "Epoch 105/600:  18%|█▊        | 105/600 [22:47<1:44:14, 12.64s/it, v_num=rp_1, total_loss_train=3.17e+3, kl_local_train=129, metric_mi|status_control_train=0.235, metric_mi|zone_train=0.18, metric_mi|time_cat_train=0.191, metric_mi|mouse_train=0.155]"
     ]
    },
    {
     "name": "stdout",
     "output_type": "stream",
     "text": [
      "\r",
      "Epoch 106/600:  18%|█▊        | 105/600 [22:48<1:44:14, 12.64s/it, v_num=rp_1, total_loss_train=3.17e+3, kl_local_train=129, metric_mi|status_control_train=0.235, metric_mi|zone_train=0.18, metric_mi|time_cat_train=0.191, metric_mi|mouse_train=0.155]"
     ]
    },
    {
     "name": "stdout",
     "output_type": "stream",
     "text": [
      "\r",
      "Epoch 106/600:  18%|█▊        | 106/600 [23:00<1:47:13, 13.02s/it, v_num=rp_1, total_loss_train=3.17e+3, kl_local_train=129, metric_mi|status_control_train=0.235, metric_mi|zone_train=0.18, metric_mi|time_cat_train=0.191, metric_mi|mouse_train=0.155]"
     ]
    },
    {
     "name": "stdout",
     "output_type": "stream",
     "text": [
      "\r",
      "Epoch 106/600:  18%|█▊        | 106/600 [23:00<1:47:13, 13.02s/it, v_num=rp_1, total_loss_train=3.17e+3, kl_local_train=128, metric_mi|status_control_train=0.237, metric_mi|zone_train=0.18, metric_mi|time_cat_train=0.188, metric_mi|mouse_train=0.153]"
     ]
    },
    {
     "name": "stdout",
     "output_type": "stream",
     "text": [
      "\r",
      "Epoch 107/600:  18%|█▊        | 106/600 [23:00<1:47:13, 13.02s/it, v_num=rp_1, total_loss_train=3.17e+3, kl_local_train=128, metric_mi|status_control_train=0.237, metric_mi|zone_train=0.18, metric_mi|time_cat_train=0.188, metric_mi|mouse_train=0.153]"
     ]
    },
    {
     "name": "stdout",
     "output_type": "stream",
     "text": [
      "\r",
      "Epoch 107/600:  18%|█▊        | 107/600 [23:13<1:46:04, 12.91s/it, v_num=rp_1, total_loss_train=3.17e+3, kl_local_train=128, metric_mi|status_control_train=0.237, metric_mi|zone_train=0.18, metric_mi|time_cat_train=0.188, metric_mi|mouse_train=0.153]"
     ]
    },
    {
     "name": "stdout",
     "output_type": "stream",
     "text": [
      "\r",
      "Epoch 107/600:  18%|█▊        | 107/600 [23:13<1:46:04, 12.91s/it, v_num=rp_1, total_loss_train=3.17e+3, kl_local_train=128, metric_mi|status_control_train=0.237, metric_mi|zone_train=0.18, metric_mi|time_cat_train=0.188, metric_mi|mouse_train=0.153]"
     ]
    },
    {
     "name": "stdout",
     "output_type": "stream",
     "text": [
      "\r",
      "Epoch 108/600:  18%|█▊        | 107/600 [23:13<1:46:04, 12.91s/it, v_num=rp_1, total_loss_train=3.17e+3, kl_local_train=128, metric_mi|status_control_train=0.237, metric_mi|zone_train=0.18, metric_mi|time_cat_train=0.188, metric_mi|mouse_train=0.153]"
     ]
    },
    {
     "name": "stdout",
     "output_type": "stream",
     "text": [
      "\r",
      "Epoch 108/600:  18%|█▊        | 108/600 [23:26<1:45:06, 12.82s/it, v_num=rp_1, total_loss_train=3.17e+3, kl_local_train=128, metric_mi|status_control_train=0.237, metric_mi|zone_train=0.18, metric_mi|time_cat_train=0.188, metric_mi|mouse_train=0.153]"
     ]
    },
    {
     "name": "stdout",
     "output_type": "stream",
     "text": [
      "\r",
      "Epoch 108/600:  18%|█▊        | 108/600 [23:26<1:45:06, 12.82s/it, v_num=rp_1, total_loss_train=3.17e+3, kl_local_train=127, metric_mi|status_control_train=0.237, metric_mi|zone_train=0.18, metric_mi|time_cat_train=0.188, metric_mi|mouse_train=0.153]"
     ]
    },
    {
     "name": "stdout",
     "output_type": "stream",
     "text": [
      "\r",
      "Epoch 109/600:  18%|█▊        | 108/600 [23:26<1:45:06, 12.82s/it, v_num=rp_1, total_loss_train=3.17e+3, kl_local_train=127, metric_mi|status_control_train=0.237, metric_mi|zone_train=0.18, metric_mi|time_cat_train=0.188, metric_mi|mouse_train=0.153]"
     ]
    },
    {
     "name": "stdout",
     "output_type": "stream",
     "text": [
      "\r",
      "Epoch 109/600:  18%|█▊        | 109/600 [23:38<1:44:17, 12.74s/it, v_num=rp_1, total_loss_train=3.17e+3, kl_local_train=127, metric_mi|status_control_train=0.237, metric_mi|zone_train=0.18, metric_mi|time_cat_train=0.188, metric_mi|mouse_train=0.153]"
     ]
    },
    {
     "name": "stdout",
     "output_type": "stream",
     "text": [
      "\r",
      "Epoch 109/600:  18%|█▊        | 109/600 [23:38<1:44:17, 12.74s/it, v_num=rp_1, total_loss_train=3.17e+3, kl_local_train=126, metric_mi|status_control_train=0.237, metric_mi|zone_train=0.18, metric_mi|time_cat_train=0.188, metric_mi|mouse_train=0.153]"
     ]
    },
    {
     "name": "stdout",
     "output_type": "stream",
     "text": [
      "\r",
      "Epoch 110/600:  18%|█▊        | 109/600 [23:38<1:44:17, 12.74s/it, v_num=rp_1, total_loss_train=3.17e+3, kl_local_train=126, metric_mi|status_control_train=0.237, metric_mi|zone_train=0.18, metric_mi|time_cat_train=0.188, metric_mi|mouse_train=0.153]"
     ]
    },
    {
     "name": "stdout",
     "output_type": "stream",
     "text": [
      "\r",
      "Epoch 110/600:  18%|█▊        | 110/600 [23:51<1:42:56, 12.60s/it, v_num=rp_1, total_loss_train=3.17e+3, kl_local_train=126, metric_mi|status_control_train=0.237, metric_mi|zone_train=0.18, metric_mi|time_cat_train=0.188, metric_mi|mouse_train=0.153]"
     ]
    },
    {
     "name": "stdout",
     "output_type": "stream",
     "text": [
      "\r",
      "Epoch 110/600:  18%|█▊        | 110/600 [23:51<1:42:56, 12.60s/it, v_num=rp_1, total_loss_train=3.17e+3, kl_local_train=126, metric_mi|status_control_train=0.237, metric_mi|zone_train=0.18, metric_mi|time_cat_train=0.188, metric_mi|mouse_train=0.153]"
     ]
    },
    {
     "name": "stdout",
     "output_type": "stream",
     "text": [
      "\r",
      "Epoch 111/600:  18%|█▊        | 110/600 [23:52<1:42:56, 12.60s/it, v_num=rp_1, total_loss_train=3.17e+3, kl_local_train=126, metric_mi|status_control_train=0.237, metric_mi|zone_train=0.18, metric_mi|time_cat_train=0.188, metric_mi|mouse_train=0.153]"
     ]
    },
    {
     "name": "stdout",
     "output_type": "stream",
     "text": [
      "\r",
      "Epoch 111/600:  18%|█▊        | 111/600 [24:05<1:46:25, 13.06s/it, v_num=rp_1, total_loss_train=3.17e+3, kl_local_train=126, metric_mi|status_control_train=0.237, metric_mi|zone_train=0.18, metric_mi|time_cat_train=0.188, metric_mi|mouse_train=0.153]"
     ]
    },
    {
     "name": "stdout",
     "output_type": "stream",
     "text": [
      "\r",
      "Epoch 111/600:  18%|█▊        | 111/600 [24:05<1:46:25, 13.06s/it, v_num=rp_1, total_loss_train=3.17e+3, kl_local_train=125, metric_mi|status_control_train=0.219, metric_mi|zone_train=0.18, metric_mi|time_cat_train=0.178, metric_mi|mouse_train=0.147]"
     ]
    },
    {
     "name": "stdout",
     "output_type": "stream",
     "text": [
      "\r",
      "Epoch 112/600:  18%|█▊        | 111/600 [24:05<1:46:25, 13.06s/it, v_num=rp_1, total_loss_train=3.17e+3, kl_local_train=125, metric_mi|status_control_train=0.219, metric_mi|zone_train=0.18, metric_mi|time_cat_train=0.178, metric_mi|mouse_train=0.147]"
     ]
    },
    {
     "name": "stdout",
     "output_type": "stream",
     "text": [
      "\r",
      "Epoch 112/600:  19%|█▊        | 112/600 [24:17<1:45:29, 12.97s/it, v_num=rp_1, total_loss_train=3.17e+3, kl_local_train=125, metric_mi|status_control_train=0.219, metric_mi|zone_train=0.18, metric_mi|time_cat_train=0.178, metric_mi|mouse_train=0.147]"
     ]
    },
    {
     "name": "stdout",
     "output_type": "stream",
     "text": [
      "\r",
      "Epoch 112/600:  19%|█▊        | 112/600 [24:17<1:45:29, 12.97s/it, v_num=rp_1, total_loss_train=3.17e+3, kl_local_train=125, metric_mi|status_control_train=0.219, metric_mi|zone_train=0.18, metric_mi|time_cat_train=0.178, metric_mi|mouse_train=0.147]"
     ]
    },
    {
     "name": "stdout",
     "output_type": "stream",
     "text": [
      "\r",
      "Epoch 113/600:  19%|█▊        | 112/600 [24:17<1:45:29, 12.97s/it, v_num=rp_1, total_loss_train=3.17e+3, kl_local_train=125, metric_mi|status_control_train=0.219, metric_mi|zone_train=0.18, metric_mi|time_cat_train=0.178, metric_mi|mouse_train=0.147]"
     ]
    },
    {
     "name": "stdout",
     "output_type": "stream",
     "text": [
      "\r",
      "Epoch 113/600:  19%|█▉        | 113/600 [24:30<1:45:01, 12.94s/it, v_num=rp_1, total_loss_train=3.17e+3, kl_local_train=125, metric_mi|status_control_train=0.219, metric_mi|zone_train=0.18, metric_mi|time_cat_train=0.178, metric_mi|mouse_train=0.147]"
     ]
    },
    {
     "name": "stdout",
     "output_type": "stream",
     "text": [
      "\r",
      "Epoch 113/600:  19%|█▉        | 113/600 [24:30<1:45:01, 12.94s/it, v_num=rp_1, total_loss_train=3.17e+3, kl_local_train=125, metric_mi|status_control_train=0.219, metric_mi|zone_train=0.18, metric_mi|time_cat_train=0.178, metric_mi|mouse_train=0.147]"
     ]
    },
    {
     "name": "stdout",
     "output_type": "stream",
     "text": [
      "\r",
      "Epoch 114/600:  19%|█▉        | 113/600 [24:30<1:45:01, 12.94s/it, v_num=rp_1, total_loss_train=3.17e+3, kl_local_train=125, metric_mi|status_control_train=0.219, metric_mi|zone_train=0.18, metric_mi|time_cat_train=0.178, metric_mi|mouse_train=0.147]"
     ]
    },
    {
     "name": "stdout",
     "output_type": "stream",
     "text": [
      "\r",
      "Epoch 114/600:  19%|█▉        | 114/600 [24:43<1:43:54, 12.83s/it, v_num=rp_1, total_loss_train=3.17e+3, kl_local_train=125, metric_mi|status_control_train=0.219, metric_mi|zone_train=0.18, metric_mi|time_cat_train=0.178, metric_mi|mouse_train=0.147]"
     ]
    },
    {
     "name": "stdout",
     "output_type": "stream",
     "text": [
      "\r",
      "Epoch 114/600:  19%|█▉        | 114/600 [24:43<1:43:54, 12.83s/it, v_num=rp_1, total_loss_train=3.17e+3, kl_local_train=125, metric_mi|status_control_train=0.219, metric_mi|zone_train=0.18, metric_mi|time_cat_train=0.178, metric_mi|mouse_train=0.147]"
     ]
    },
    {
     "name": "stdout",
     "output_type": "stream",
     "text": [
      "\r",
      "Epoch 115/600:  19%|█▉        | 114/600 [24:43<1:43:54, 12.83s/it, v_num=rp_1, total_loss_train=3.17e+3, kl_local_train=125, metric_mi|status_control_train=0.219, metric_mi|zone_train=0.18, metric_mi|time_cat_train=0.178, metric_mi|mouse_train=0.147]"
     ]
    },
    {
     "name": "stdout",
     "output_type": "stream",
     "text": [
      "\r",
      "Epoch 115/600:  19%|█▉        | 115/600 [24:56<1:43:18, 12.78s/it, v_num=rp_1, total_loss_train=3.17e+3, kl_local_train=125, metric_mi|status_control_train=0.219, metric_mi|zone_train=0.18, metric_mi|time_cat_train=0.178, metric_mi|mouse_train=0.147]"
     ]
    },
    {
     "name": "stdout",
     "output_type": "stream",
     "text": [
      "\r",
      "Epoch 115/600:  19%|█▉        | 115/600 [24:56<1:43:18, 12.78s/it, v_num=rp_1, total_loss_train=3.16e+3, kl_local_train=124, metric_mi|status_control_train=0.219, metric_mi|zone_train=0.18, metric_mi|time_cat_train=0.178, metric_mi|mouse_train=0.147]"
     ]
    },
    {
     "name": "stdout",
     "output_type": "stream",
     "text": [
      "\r",
      "Epoch 116/600:  19%|█▉        | 115/600 [24:57<1:43:18, 12.78s/it, v_num=rp_1, total_loss_train=3.16e+3, kl_local_train=124, metric_mi|status_control_train=0.219, metric_mi|zone_train=0.18, metric_mi|time_cat_train=0.178, metric_mi|mouse_train=0.147]"
     ]
    },
    {
     "name": "stdout",
     "output_type": "stream",
     "text": [
      "\r",
      "Epoch 116/600:  19%|█▉        | 116/600 [25:09<1:45:46, 13.11s/it, v_num=rp_1, total_loss_train=3.16e+3, kl_local_train=124, metric_mi|status_control_train=0.219, metric_mi|zone_train=0.18, metric_mi|time_cat_train=0.178, metric_mi|mouse_train=0.147]"
     ]
    },
    {
     "name": "stdout",
     "output_type": "stream",
     "text": [
      "\r",
      "Epoch 116/600:  19%|█▉        | 116/600 [25:09<1:45:46, 13.11s/it, v_num=rp_1, total_loss_train=3.16e+3, kl_local_train=125, metric_mi|status_control_train=0.233, metric_mi|zone_train=0.18, metric_mi|time_cat_train=0.184, metric_mi|mouse_train=0.15] "
     ]
    },
    {
     "name": "stdout",
     "output_type": "stream",
     "text": [
      "\r",
      "Epoch 117/600:  19%|█▉        | 116/600 [25:09<1:45:46, 13.11s/it, v_num=rp_1, total_loss_train=3.16e+3, kl_local_train=125, metric_mi|status_control_train=0.233, metric_mi|zone_train=0.18, metric_mi|time_cat_train=0.184, metric_mi|mouse_train=0.15]"
     ]
    },
    {
     "name": "stdout",
     "output_type": "stream",
     "text": [
      "\r",
      "Epoch 117/600:  20%|█▉        | 117/600 [25:22<1:43:20, 12.84s/it, v_num=rp_1, total_loss_train=3.16e+3, kl_local_train=125, metric_mi|status_control_train=0.233, metric_mi|zone_train=0.18, metric_mi|time_cat_train=0.184, metric_mi|mouse_train=0.15]"
     ]
    },
    {
     "name": "stdout",
     "output_type": "stream",
     "text": [
      "\r",
      "Epoch 117/600:  20%|█▉        | 117/600 [25:22<1:43:20, 12.84s/it, v_num=rp_1, total_loss_train=3.16e+3, kl_local_train=124, metric_mi|status_control_train=0.233, metric_mi|zone_train=0.18, metric_mi|time_cat_train=0.184, metric_mi|mouse_train=0.15]"
     ]
    },
    {
     "name": "stdout",
     "output_type": "stream",
     "text": [
      "\r",
      "Epoch 118/600:  20%|█▉        | 117/600 [25:22<1:43:20, 12.84s/it, v_num=rp_1, total_loss_train=3.16e+3, kl_local_train=124, metric_mi|status_control_train=0.233, metric_mi|zone_train=0.18, metric_mi|time_cat_train=0.184, metric_mi|mouse_train=0.15]"
     ]
    },
    {
     "name": "stdout",
     "output_type": "stream",
     "text": [
      "\r",
      "Epoch 118/600:  20%|█▉        | 118/600 [25:34<1:42:46, 12.79s/it, v_num=rp_1, total_loss_train=3.16e+3, kl_local_train=124, metric_mi|status_control_train=0.233, metric_mi|zone_train=0.18, metric_mi|time_cat_train=0.184, metric_mi|mouse_train=0.15]"
     ]
    },
    {
     "name": "stdout",
     "output_type": "stream",
     "text": [
      "\r",
      "Epoch 118/600:  20%|█▉        | 118/600 [25:34<1:42:46, 12.79s/it, v_num=rp_1, total_loss_train=3.16e+3, kl_local_train=122, metric_mi|status_control_train=0.233, metric_mi|zone_train=0.18, metric_mi|time_cat_train=0.184, metric_mi|mouse_train=0.15]"
     ]
    },
    {
     "name": "stdout",
     "output_type": "stream",
     "text": [
      "\r",
      "Epoch 119/600:  20%|█▉        | 118/600 [25:34<1:42:46, 12.79s/it, v_num=rp_1, total_loss_train=3.16e+3, kl_local_train=122, metric_mi|status_control_train=0.233, metric_mi|zone_train=0.18, metric_mi|time_cat_train=0.184, metric_mi|mouse_train=0.15]"
     ]
    },
    {
     "name": "stdout",
     "output_type": "stream",
     "text": [
      "\r",
      "Epoch 119/600:  20%|█▉        | 119/600 [25:47<1:42:05, 12.74s/it, v_num=rp_1, total_loss_train=3.16e+3, kl_local_train=122, metric_mi|status_control_train=0.233, metric_mi|zone_train=0.18, metric_mi|time_cat_train=0.184, metric_mi|mouse_train=0.15]"
     ]
    },
    {
     "name": "stdout",
     "output_type": "stream",
     "text": [
      "\r",
      "Epoch 119/600:  20%|█▉        | 119/600 [25:47<1:42:05, 12.74s/it, v_num=rp_1, total_loss_train=3.16e+3, kl_local_train=123, metric_mi|status_control_train=0.233, metric_mi|zone_train=0.18, metric_mi|time_cat_train=0.184, metric_mi|mouse_train=0.15]"
     ]
    },
    {
     "name": "stdout",
     "output_type": "stream",
     "text": [
      "\r",
      "Epoch 120/600:  20%|█▉        | 119/600 [25:47<1:42:05, 12.74s/it, v_num=rp_1, total_loss_train=3.16e+3, kl_local_train=123, metric_mi|status_control_train=0.233, metric_mi|zone_train=0.18, metric_mi|time_cat_train=0.184, metric_mi|mouse_train=0.15]"
     ]
    },
    {
     "name": "stdout",
     "output_type": "stream",
     "text": [
      "\r",
      "Epoch 120/600:  20%|██        | 120/600 [26:00<1:41:50, 12.73s/it, v_num=rp_1, total_loss_train=3.16e+3, kl_local_train=123, metric_mi|status_control_train=0.233, metric_mi|zone_train=0.18, metric_mi|time_cat_train=0.184, metric_mi|mouse_train=0.15]"
     ]
    },
    {
     "name": "stdout",
     "output_type": "stream",
     "text": [
      "\r",
      "Epoch 120/600:  20%|██        | 120/600 [26:00<1:41:50, 12.73s/it, v_num=rp_1, total_loss_train=3.16e+3, kl_local_train=123, metric_mi|status_control_train=0.233, metric_mi|zone_train=0.18, metric_mi|time_cat_train=0.184, metric_mi|mouse_train=0.15]"
     ]
    },
    {
     "name": "stdout",
     "output_type": "stream",
     "text": [
      "\r",
      "Epoch 121/600:  20%|██        | 120/600 [26:01<1:41:50, 12.73s/it, v_num=rp_1, total_loss_train=3.16e+3, kl_local_train=123, metric_mi|status_control_train=0.233, metric_mi|zone_train=0.18, metric_mi|time_cat_train=0.184, metric_mi|mouse_train=0.15]"
     ]
    },
    {
     "name": "stdout",
     "output_type": "stream",
     "text": [
      "\r",
      "Epoch 121/600:  20%|██        | 121/600 [26:14<1:44:25, 13.08s/it, v_num=rp_1, total_loss_train=3.16e+3, kl_local_train=123, metric_mi|status_control_train=0.233, metric_mi|zone_train=0.18, metric_mi|time_cat_train=0.184, metric_mi|mouse_train=0.15]"
     ]
    },
    {
     "name": "stdout",
     "output_type": "stream",
     "text": [
      "\r",
      "Epoch 121/600:  20%|██        | 121/600 [26:14<1:44:25, 13.08s/it, v_num=rp_1, total_loss_train=3.16e+3, kl_local_train=121, metric_mi|status_control_train=0.236, metric_mi|zone_train=0.179, metric_mi|time_cat_train=0.185, metric_mi|mouse_train=0.151]"
     ]
    },
    {
     "name": "stdout",
     "output_type": "stream",
     "text": [
      "\r",
      "Epoch 122/600:  20%|██        | 121/600 [26:14<1:44:25, 13.08s/it, v_num=rp_1, total_loss_train=3.16e+3, kl_local_train=121, metric_mi|status_control_train=0.236, metric_mi|zone_train=0.179, metric_mi|time_cat_train=0.185, metric_mi|mouse_train=0.151]"
     ]
    },
    {
     "name": "stdout",
     "output_type": "stream",
     "text": [
      "\r",
      "Epoch 122/600:  20%|██        | 122/600 [26:26<1:42:59, 12.93s/it, v_num=rp_1, total_loss_train=3.16e+3, kl_local_train=121, metric_mi|status_control_train=0.236, metric_mi|zone_train=0.179, metric_mi|time_cat_train=0.185, metric_mi|mouse_train=0.151]"
     ]
    },
    {
     "name": "stdout",
     "output_type": "stream",
     "text": [
      "\r",
      "Epoch 122/600:  20%|██        | 122/600 [26:26<1:42:59, 12.93s/it, v_num=rp_1, total_loss_train=3.16e+3, kl_local_train=122, metric_mi|status_control_train=0.236, metric_mi|zone_train=0.179, metric_mi|time_cat_train=0.185, metric_mi|mouse_train=0.151]"
     ]
    },
    {
     "name": "stdout",
     "output_type": "stream",
     "text": [
      "\r",
      "Epoch 123/600:  20%|██        | 122/600 [26:26<1:42:59, 12.93s/it, v_num=rp_1, total_loss_train=3.16e+3, kl_local_train=122, metric_mi|status_control_train=0.236, metric_mi|zone_train=0.179, metric_mi|time_cat_train=0.185, metric_mi|mouse_train=0.151]"
     ]
    },
    {
     "name": "stdout",
     "output_type": "stream",
     "text": [
      "\r",
      "Epoch 123/600:  20%|██        | 123/600 [26:39<1:41:56, 12.82s/it, v_num=rp_1, total_loss_train=3.16e+3, kl_local_train=122, metric_mi|status_control_train=0.236, metric_mi|zone_train=0.179, metric_mi|time_cat_train=0.185, metric_mi|mouse_train=0.151]"
     ]
    },
    {
     "name": "stdout",
     "output_type": "stream",
     "text": [
      "\r",
      "Epoch 123/600:  20%|██        | 123/600 [26:39<1:41:56, 12.82s/it, v_num=rp_1, total_loss_train=3.16e+3, kl_local_train=122, metric_mi|status_control_train=0.236, metric_mi|zone_train=0.179, metric_mi|time_cat_train=0.185, metric_mi|mouse_train=0.151]"
     ]
    },
    {
     "name": "stdout",
     "output_type": "stream",
     "text": [
      "\r",
      "Epoch 124/600:  20%|██        | 123/600 [26:39<1:41:56, 12.82s/it, v_num=rp_1, total_loss_train=3.16e+3, kl_local_train=122, metric_mi|status_control_train=0.236, metric_mi|zone_train=0.179, metric_mi|time_cat_train=0.185, metric_mi|mouse_train=0.151]"
     ]
    },
    {
     "name": "stdout",
     "output_type": "stream",
     "text": [
      "\r",
      "Epoch 124/600:  21%|██        | 124/600 [26:51<1:40:19, 12.65s/it, v_num=rp_1, total_loss_train=3.16e+3, kl_local_train=122, metric_mi|status_control_train=0.236, metric_mi|zone_train=0.179, metric_mi|time_cat_train=0.185, metric_mi|mouse_train=0.151]"
     ]
    },
    {
     "name": "stdout",
     "output_type": "stream",
     "text": [
      "\r",
      "Epoch 124/600:  21%|██        | 124/600 [26:51<1:40:19, 12.65s/it, v_num=rp_1, total_loss_train=3.16e+3, kl_local_train=121, metric_mi|status_control_train=0.236, metric_mi|zone_train=0.179, metric_mi|time_cat_train=0.185, metric_mi|mouse_train=0.151]"
     ]
    },
    {
     "name": "stdout",
     "output_type": "stream",
     "text": [
      "\r",
      "Epoch 125/600:  21%|██        | 124/600 [26:51<1:40:19, 12.65s/it, v_num=rp_1, total_loss_train=3.16e+3, kl_local_train=121, metric_mi|status_control_train=0.236, metric_mi|zone_train=0.179, metric_mi|time_cat_train=0.185, metric_mi|mouse_train=0.151]"
     ]
    },
    {
     "name": "stdout",
     "output_type": "stream",
     "text": [
      "\r",
      "Epoch 125/600:  21%|██        | 125/600 [27:04<1:40:09, 12.65s/it, v_num=rp_1, total_loss_train=3.16e+3, kl_local_train=121, metric_mi|status_control_train=0.236, metric_mi|zone_train=0.179, metric_mi|time_cat_train=0.185, metric_mi|mouse_train=0.151]"
     ]
    },
    {
     "name": "stdout",
     "output_type": "stream",
     "text": [
      "\r",
      "Epoch 125/600:  21%|██        | 125/600 [27:04<1:40:09, 12.65s/it, v_num=rp_1, total_loss_train=3.16e+3, kl_local_train=121, metric_mi|status_control_train=0.236, metric_mi|zone_train=0.179, metric_mi|time_cat_train=0.185, metric_mi|mouse_train=0.151]"
     ]
    },
    {
     "name": "stdout",
     "output_type": "stream",
     "text": [
      "\r",
      "Epoch 126/600:  21%|██        | 125/600 [27:05<1:40:09, 12.65s/it, v_num=rp_1, total_loss_train=3.16e+3, kl_local_train=121, metric_mi|status_control_train=0.236, metric_mi|zone_train=0.179, metric_mi|time_cat_train=0.185, metric_mi|mouse_train=0.151]"
     ]
    },
    {
     "name": "stdout",
     "output_type": "stream",
     "text": [
      "\r",
      "Epoch 126/600:  21%|██        | 126/600 [27:18<1:42:59, 13.04s/it, v_num=rp_1, total_loss_train=3.16e+3, kl_local_train=121, metric_mi|status_control_train=0.236, metric_mi|zone_train=0.179, metric_mi|time_cat_train=0.185, metric_mi|mouse_train=0.151]"
     ]
    },
    {
     "name": "stdout",
     "output_type": "stream",
     "text": [
      "\r",
      "Epoch 126/600:  21%|██        | 126/600 [27:18<1:42:59, 13.04s/it, v_num=rp_1, total_loss_train=3.16e+3, kl_local_train=119, metric_mi|status_control_train=0.226, metric_mi|zone_train=0.179, metric_mi|time_cat_train=0.189, metric_mi|mouse_train=0.153]"
     ]
    },
    {
     "name": "stdout",
     "output_type": "stream",
     "text": [
      "\r",
      "Epoch 127/600:  21%|██        | 126/600 [27:18<1:42:59, 13.04s/it, v_num=rp_1, total_loss_train=3.16e+3, kl_local_train=119, metric_mi|status_control_train=0.226, metric_mi|zone_train=0.179, metric_mi|time_cat_train=0.189, metric_mi|mouse_train=0.153]"
     ]
    },
    {
     "name": "stdout",
     "output_type": "stream",
     "text": [
      "\r",
      "Epoch 127/600:  21%|██        | 127/600 [27:30<1:41:49, 12.92s/it, v_num=rp_1, total_loss_train=3.16e+3, kl_local_train=119, metric_mi|status_control_train=0.226, metric_mi|zone_train=0.179, metric_mi|time_cat_train=0.189, metric_mi|mouse_train=0.153]"
     ]
    },
    {
     "name": "stdout",
     "output_type": "stream",
     "text": [
      "\r",
      "Epoch 127/600:  21%|██        | 127/600 [27:30<1:41:49, 12.92s/it, v_num=rp_1, total_loss_train=3.15e+3, kl_local_train=119, metric_mi|status_control_train=0.226, metric_mi|zone_train=0.179, metric_mi|time_cat_train=0.189, metric_mi|mouse_train=0.153]"
     ]
    },
    {
     "name": "stdout",
     "output_type": "stream",
     "text": [
      "\r",
      "Epoch 128/600:  21%|██        | 127/600 [27:30<1:41:49, 12.92s/it, v_num=rp_1, total_loss_train=3.15e+3, kl_local_train=119, metric_mi|status_control_train=0.226, metric_mi|zone_train=0.179, metric_mi|time_cat_train=0.189, metric_mi|mouse_train=0.153]"
     ]
    },
    {
     "name": "stdout",
     "output_type": "stream",
     "text": [
      "\r",
      "Epoch 128/600:  21%|██▏       | 128/600 [27:43<1:40:40, 12.80s/it, v_num=rp_1, total_loss_train=3.15e+3, kl_local_train=119, metric_mi|status_control_train=0.226, metric_mi|zone_train=0.179, metric_mi|time_cat_train=0.189, metric_mi|mouse_train=0.153]"
     ]
    },
    {
     "name": "stdout",
     "output_type": "stream",
     "text": [
      "\r",
      "Epoch 128/600:  21%|██▏       | 128/600 [27:43<1:40:40, 12.80s/it, v_num=rp_1, total_loss_train=3.15e+3, kl_local_train=119, metric_mi|status_control_train=0.226, metric_mi|zone_train=0.179, metric_mi|time_cat_train=0.189, metric_mi|mouse_train=0.153]"
     ]
    },
    {
     "name": "stdout",
     "output_type": "stream",
     "text": [
      "\r",
      "Epoch 129/600:  21%|██▏       | 128/600 [27:43<1:40:40, 12.80s/it, v_num=rp_1, total_loss_train=3.15e+3, kl_local_train=119, metric_mi|status_control_train=0.226, metric_mi|zone_train=0.179, metric_mi|time_cat_train=0.189, metric_mi|mouse_train=0.153]"
     ]
    },
    {
     "name": "stdout",
     "output_type": "stream",
     "text": [
      "\r",
      "Epoch 129/600:  22%|██▏       | 129/600 [27:55<1:39:56, 12.73s/it, v_num=rp_1, total_loss_train=3.15e+3, kl_local_train=119, metric_mi|status_control_train=0.226, metric_mi|zone_train=0.179, metric_mi|time_cat_train=0.189, metric_mi|mouse_train=0.153]"
     ]
    },
    {
     "name": "stdout",
     "output_type": "stream",
     "text": [
      "\r",
      "Epoch 129/600:  22%|██▏       | 129/600 [27:55<1:39:56, 12.73s/it, v_num=rp_1, total_loss_train=3.15e+3, kl_local_train=118, metric_mi|status_control_train=0.226, metric_mi|zone_train=0.179, metric_mi|time_cat_train=0.189, metric_mi|mouse_train=0.153]"
     ]
    },
    {
     "name": "stdout",
     "output_type": "stream",
     "text": [
      "\r",
      "Epoch 130/600:  22%|██▏       | 129/600 [27:55<1:39:56, 12.73s/it, v_num=rp_1, total_loss_train=3.15e+3, kl_local_train=118, metric_mi|status_control_train=0.226, metric_mi|zone_train=0.179, metric_mi|time_cat_train=0.189, metric_mi|mouse_train=0.153]"
     ]
    },
    {
     "name": "stdout",
     "output_type": "stream",
     "text": [
      "\r",
      "Epoch 130/600:  22%|██▏       | 130/600 [28:08<1:39:15, 12.67s/it, v_num=rp_1, total_loss_train=3.15e+3, kl_local_train=118, metric_mi|status_control_train=0.226, metric_mi|zone_train=0.179, metric_mi|time_cat_train=0.189, metric_mi|mouse_train=0.153]"
     ]
    },
    {
     "name": "stdout",
     "output_type": "stream",
     "text": [
      "\r",
      "Epoch 130/600:  22%|██▏       | 130/600 [28:08<1:39:15, 12.67s/it, v_num=rp_1, total_loss_train=3.15e+3, kl_local_train=119, metric_mi|status_control_train=0.226, metric_mi|zone_train=0.179, metric_mi|time_cat_train=0.189, metric_mi|mouse_train=0.153]"
     ]
    },
    {
     "name": "stdout",
     "output_type": "stream",
     "text": [
      "\r",
      "Epoch 131/600:  22%|██▏       | 130/600 [28:09<1:39:15, 12.67s/it, v_num=rp_1, total_loss_train=3.15e+3, kl_local_train=119, metric_mi|status_control_train=0.226, metric_mi|zone_train=0.179, metric_mi|time_cat_train=0.189, metric_mi|mouse_train=0.153]"
     ]
    },
    {
     "name": "stdout",
     "output_type": "stream",
     "text": [
      "\r",
      "Epoch 131/600:  22%|██▏       | 131/600 [28:22<1:42:01, 13.05s/it, v_num=rp_1, total_loss_train=3.15e+3, kl_local_train=119, metric_mi|status_control_train=0.226, metric_mi|zone_train=0.179, metric_mi|time_cat_train=0.189, metric_mi|mouse_train=0.153]"
     ]
    },
    {
     "name": "stdout",
     "output_type": "stream",
     "text": [
      "\r",
      "Epoch 131/600:  22%|██▏       | 131/600 [28:22<1:42:01, 13.05s/it, v_num=rp_1, total_loss_train=3.15e+3, kl_local_train=119, metric_mi|status_control_train=0.221, metric_mi|zone_train=0.18, metric_mi|time_cat_train=0.188, metric_mi|mouse_train=0.151] "
     ]
    },
    {
     "name": "stdout",
     "output_type": "stream",
     "text": [
      "\r",
      "Epoch 132/600:  22%|██▏       | 131/600 [28:22<1:42:01, 13.05s/it, v_num=rp_1, total_loss_train=3.15e+3, kl_local_train=119, metric_mi|status_control_train=0.221, metric_mi|zone_train=0.18, metric_mi|time_cat_train=0.188, metric_mi|mouse_train=0.151]"
     ]
    },
    {
     "name": "stdout",
     "output_type": "stream",
     "text": [
      "\r",
      "Epoch 132/600:  22%|██▏       | 132/600 [28:34<1:40:35, 12.90s/it, v_num=rp_1, total_loss_train=3.15e+3, kl_local_train=119, metric_mi|status_control_train=0.221, metric_mi|zone_train=0.18, metric_mi|time_cat_train=0.188, metric_mi|mouse_train=0.151]"
     ]
    },
    {
     "name": "stdout",
     "output_type": "stream",
     "text": [
      "\r",
      "Epoch 132/600:  22%|██▏       | 132/600 [28:34<1:40:35, 12.90s/it, v_num=rp_1, total_loss_train=3.15e+3, kl_local_train=119, metric_mi|status_control_train=0.221, metric_mi|zone_train=0.18, metric_mi|time_cat_train=0.188, metric_mi|mouse_train=0.151]"
     ]
    },
    {
     "name": "stdout",
     "output_type": "stream",
     "text": [
      "\r",
      "Epoch 133/600:  22%|██▏       | 132/600 [28:34<1:40:35, 12.90s/it, v_num=rp_1, total_loss_train=3.15e+3, kl_local_train=119, metric_mi|status_control_train=0.221, metric_mi|zone_train=0.18, metric_mi|time_cat_train=0.188, metric_mi|mouse_train=0.151]"
     ]
    },
    {
     "name": "stdout",
     "output_type": "stream",
     "text": [
      "\r",
      "Epoch 133/600:  22%|██▏       | 133/600 [28:46<1:38:45, 12.69s/it, v_num=rp_1, total_loss_train=3.15e+3, kl_local_train=119, metric_mi|status_control_train=0.221, metric_mi|zone_train=0.18, metric_mi|time_cat_train=0.188, metric_mi|mouse_train=0.151]"
     ]
    },
    {
     "name": "stdout",
     "output_type": "stream",
     "text": [
      "\r",
      "Epoch 133/600:  22%|██▏       | 133/600 [28:46<1:38:45, 12.69s/it, v_num=rp_1, total_loss_train=3.15e+3, kl_local_train=117, metric_mi|status_control_train=0.221, metric_mi|zone_train=0.18, metric_mi|time_cat_train=0.188, metric_mi|mouse_train=0.151]"
     ]
    },
    {
     "name": "stdout",
     "output_type": "stream",
     "text": [
      "\r",
      "Epoch 134/600:  22%|██▏       | 133/600 [28:46<1:38:45, 12.69s/it, v_num=rp_1, total_loss_train=3.15e+3, kl_local_train=117, metric_mi|status_control_train=0.221, metric_mi|zone_train=0.18, metric_mi|time_cat_train=0.188, metric_mi|mouse_train=0.151]"
     ]
    },
    {
     "name": "stdout",
     "output_type": "stream",
     "text": [
      "\r",
      "Epoch 134/600:  22%|██▏       | 134/600 [28:59<1:38:18, 12.66s/it, v_num=rp_1, total_loss_train=3.15e+3, kl_local_train=117, metric_mi|status_control_train=0.221, metric_mi|zone_train=0.18, metric_mi|time_cat_train=0.188, metric_mi|mouse_train=0.151]"
     ]
    },
    {
     "name": "stdout",
     "output_type": "stream",
     "text": [
      "\r",
      "Epoch 134/600:  22%|██▏       | 134/600 [28:59<1:38:18, 12.66s/it, v_num=rp_1, total_loss_train=3.15e+3, kl_local_train=118, metric_mi|status_control_train=0.221, metric_mi|zone_train=0.18, metric_mi|time_cat_train=0.188, metric_mi|mouse_train=0.151]"
     ]
    },
    {
     "name": "stdout",
     "output_type": "stream",
     "text": [
      "\r",
      "Epoch 135/600:  22%|██▏       | 134/600 [28:59<1:38:18, 12.66s/it, v_num=rp_1, total_loss_train=3.15e+3, kl_local_train=118, metric_mi|status_control_train=0.221, metric_mi|zone_train=0.18, metric_mi|time_cat_train=0.188, metric_mi|mouse_train=0.151]"
     ]
    },
    {
     "name": "stdout",
     "output_type": "stream",
     "text": [
      "\r",
      "Epoch 135/600:  22%|██▎       | 135/600 [29:12<1:37:47, 12.62s/it, v_num=rp_1, total_loss_train=3.15e+3, kl_local_train=118, metric_mi|status_control_train=0.221, metric_mi|zone_train=0.18, metric_mi|time_cat_train=0.188, metric_mi|mouse_train=0.151]"
     ]
    },
    {
     "name": "stdout",
     "output_type": "stream",
     "text": [
      "\r",
      "Epoch 135/600:  22%|██▎       | 135/600 [29:12<1:37:47, 12.62s/it, v_num=rp_1, total_loss_train=3.15e+3, kl_local_train=117, metric_mi|status_control_train=0.221, metric_mi|zone_train=0.18, metric_mi|time_cat_train=0.188, metric_mi|mouse_train=0.151]"
     ]
    },
    {
     "name": "stdout",
     "output_type": "stream",
     "text": [
      "\r",
      "Epoch 136/600:  22%|██▎       | 135/600 [29:13<1:37:47, 12.62s/it, v_num=rp_1, total_loss_train=3.15e+3, kl_local_train=117, metric_mi|status_control_train=0.221, metric_mi|zone_train=0.18, metric_mi|time_cat_train=0.188, metric_mi|mouse_train=0.151]"
     ]
    },
    {
     "name": "stdout",
     "output_type": "stream",
     "text": [
      "\r",
      "Epoch 136/600:  23%|██▎       | 136/600 [29:26<1:40:44, 13.03s/it, v_num=rp_1, total_loss_train=3.15e+3, kl_local_train=117, metric_mi|status_control_train=0.221, metric_mi|zone_train=0.18, metric_mi|time_cat_train=0.188, metric_mi|mouse_train=0.151]"
     ]
    },
    {
     "name": "stdout",
     "output_type": "stream",
     "text": [
      "\r",
      "Epoch 136/600:  23%|██▎       | 136/600 [29:26<1:40:44, 13.03s/it, v_num=rp_1, total_loss_train=3.15e+3, kl_local_train=116, metric_mi|status_control_train=0.224, metric_mi|zone_train=0.179, metric_mi|time_cat_train=0.183, metric_mi|mouse_train=0.149]"
     ]
    },
    {
     "name": "stdout",
     "output_type": "stream",
     "text": [
      "\r",
      "Epoch 137/600:  23%|██▎       | 136/600 [29:26<1:40:44, 13.03s/it, v_num=rp_1, total_loss_train=3.15e+3, kl_local_train=116, metric_mi|status_control_train=0.224, metric_mi|zone_train=0.179, metric_mi|time_cat_train=0.183, metric_mi|mouse_train=0.149]"
     ]
    },
    {
     "name": "stdout",
     "output_type": "stream",
     "text": [
      "\r",
      "Epoch 137/600:  23%|██▎       | 137/600 [29:38<1:39:32, 12.90s/it, v_num=rp_1, total_loss_train=3.15e+3, kl_local_train=116, metric_mi|status_control_train=0.224, metric_mi|zone_train=0.179, metric_mi|time_cat_train=0.183, metric_mi|mouse_train=0.149]"
     ]
    },
    {
     "name": "stdout",
     "output_type": "stream",
     "text": [
      "\r",
      "Epoch 137/600:  23%|██▎       | 137/600 [29:38<1:39:32, 12.90s/it, v_num=rp_1, total_loss_train=3.15e+3, kl_local_train=117, metric_mi|status_control_train=0.224, metric_mi|zone_train=0.179, metric_mi|time_cat_train=0.183, metric_mi|mouse_train=0.149]"
     ]
    },
    {
     "name": "stdout",
     "output_type": "stream",
     "text": [
      "\r",
      "Epoch 138/600:  23%|██▎       | 137/600 [29:38<1:39:32, 12.90s/it, v_num=rp_1, total_loss_train=3.15e+3, kl_local_train=117, metric_mi|status_control_train=0.224, metric_mi|zone_train=0.179, metric_mi|time_cat_train=0.183, metric_mi|mouse_train=0.149]"
     ]
    },
    {
     "name": "stdout",
     "output_type": "stream",
     "text": [
      "\r",
      "Epoch 138/600:  23%|██▎       | 138/600 [29:51<1:38:29, 12.79s/it, v_num=rp_1, total_loss_train=3.15e+3, kl_local_train=117, metric_mi|status_control_train=0.224, metric_mi|zone_train=0.179, metric_mi|time_cat_train=0.183, metric_mi|mouse_train=0.149]"
     ]
    },
    {
     "name": "stdout",
     "output_type": "stream",
     "text": [
      "\r",
      "Epoch 138/600:  23%|██▎       | 138/600 [29:51<1:38:29, 12.79s/it, v_num=rp_1, total_loss_train=3.15e+3, kl_local_train=115, metric_mi|status_control_train=0.224, metric_mi|zone_train=0.179, metric_mi|time_cat_train=0.183, metric_mi|mouse_train=0.149]"
     ]
    },
    {
     "name": "stdout",
     "output_type": "stream",
     "text": [
      "\r",
      "Epoch 139/600:  23%|██▎       | 138/600 [29:51<1:38:29, 12.79s/it, v_num=rp_1, total_loss_train=3.15e+3, kl_local_train=115, metric_mi|status_control_train=0.224, metric_mi|zone_train=0.179, metric_mi|time_cat_train=0.183, metric_mi|mouse_train=0.149]"
     ]
    },
    {
     "name": "stdout",
     "output_type": "stream",
     "text": [
      "\r",
      "Epoch 139/600:  23%|██▎       | 139/600 [30:03<1:37:44, 12.72s/it, v_num=rp_1, total_loss_train=3.15e+3, kl_local_train=115, metric_mi|status_control_train=0.224, metric_mi|zone_train=0.179, metric_mi|time_cat_train=0.183, metric_mi|mouse_train=0.149]"
     ]
    },
    {
     "name": "stdout",
     "output_type": "stream",
     "text": [
      "\r",
      "Epoch 139/600:  23%|██▎       | 139/600 [30:03<1:37:44, 12.72s/it, v_num=rp_1, total_loss_train=3.15e+3, kl_local_train=115, metric_mi|status_control_train=0.224, metric_mi|zone_train=0.179, metric_mi|time_cat_train=0.183, metric_mi|mouse_train=0.149]"
     ]
    },
    {
     "name": "stdout",
     "output_type": "stream",
     "text": [
      "\r",
      "Epoch 140/600:  23%|██▎       | 139/600 [30:03<1:37:44, 12.72s/it, v_num=rp_1, total_loss_train=3.15e+3, kl_local_train=115, metric_mi|status_control_train=0.224, metric_mi|zone_train=0.179, metric_mi|time_cat_train=0.183, metric_mi|mouse_train=0.149]"
     ]
    },
    {
     "name": "stdout",
     "output_type": "stream",
     "text": [
      "\r",
      "Epoch 140/600:  23%|██▎       | 140/600 [30:16<1:36:57, 12.65s/it, v_num=rp_1, total_loss_train=3.15e+3, kl_local_train=115, metric_mi|status_control_train=0.224, metric_mi|zone_train=0.179, metric_mi|time_cat_train=0.183, metric_mi|mouse_train=0.149]"
     ]
    },
    {
     "name": "stdout",
     "output_type": "stream",
     "text": [
      "\r",
      "Epoch 140/600:  23%|██▎       | 140/600 [30:16<1:36:57, 12.65s/it, v_num=rp_1, total_loss_train=3.14e+3, kl_local_train=115, metric_mi|status_control_train=0.224, metric_mi|zone_train=0.179, metric_mi|time_cat_train=0.183, metric_mi|mouse_train=0.149]"
     ]
    },
    {
     "name": "stdout",
     "output_type": "stream",
     "text": [
      "\r",
      "Epoch 141/600:  23%|██▎       | 140/600 [30:17<1:36:57, 12.65s/it, v_num=rp_1, total_loss_train=3.14e+3, kl_local_train=115, metric_mi|status_control_train=0.224, metric_mi|zone_train=0.179, metric_mi|time_cat_train=0.183, metric_mi|mouse_train=0.149]"
     ]
    },
    {
     "name": "stdout",
     "output_type": "stream",
     "text": [
      "\r",
      "Epoch 141/600:  24%|██▎       | 141/600 [30:30<1:39:23, 12.99s/it, v_num=rp_1, total_loss_train=3.14e+3, kl_local_train=115, metric_mi|status_control_train=0.224, metric_mi|zone_train=0.179, metric_mi|time_cat_train=0.183, metric_mi|mouse_train=0.149]"
     ]
    },
    {
     "name": "stdout",
     "output_type": "stream",
     "text": [
      "\r",
      "Epoch 141/600:  24%|██▎       | 141/600 [30:30<1:39:23, 12.99s/it, v_num=rp_1, total_loss_train=3.14e+3, kl_local_train=115, metric_mi|status_control_train=0.226, metric_mi|zone_train=0.179, metric_mi|time_cat_train=0.182, metric_mi|mouse_train=0.148]"
     ]
    },
    {
     "name": "stdout",
     "output_type": "stream",
     "text": [
      "\r",
      "Epoch 142/600:  24%|██▎       | 141/600 [30:30<1:39:23, 12.99s/it, v_num=rp_1, total_loss_train=3.14e+3, kl_local_train=115, metric_mi|status_control_train=0.226, metric_mi|zone_train=0.179, metric_mi|time_cat_train=0.182, metric_mi|mouse_train=0.148]"
     ]
    },
    {
     "name": "stdout",
     "output_type": "stream",
     "text": [
      "\r",
      "Epoch 142/600:  24%|██▎       | 142/600 [30:42<1:38:48, 12.94s/it, v_num=rp_1, total_loss_train=3.14e+3, kl_local_train=115, metric_mi|status_control_train=0.226, metric_mi|zone_train=0.179, metric_mi|time_cat_train=0.182, metric_mi|mouse_train=0.148]"
     ]
    },
    {
     "name": "stdout",
     "output_type": "stream",
     "text": [
      "\r",
      "Epoch 142/600:  24%|██▎       | 142/600 [30:42<1:38:48, 12.94s/it, v_num=rp_1, total_loss_train=3.14e+3, kl_local_train=114, metric_mi|status_control_train=0.226, metric_mi|zone_train=0.179, metric_mi|time_cat_train=0.182, metric_mi|mouse_train=0.148]"
     ]
    },
    {
     "name": "stdout",
     "output_type": "stream",
     "text": [
      "\r",
      "Epoch 143/600:  24%|██▎       | 142/600 [30:42<1:38:48, 12.94s/it, v_num=rp_1, total_loss_train=3.14e+3, kl_local_train=114, metric_mi|status_control_train=0.226, metric_mi|zone_train=0.179, metric_mi|time_cat_train=0.182, metric_mi|mouse_train=0.148]"
     ]
    },
    {
     "name": "stdout",
     "output_type": "stream",
     "text": [
      "\r",
      "Epoch 143/600:  24%|██▍       | 143/600 [30:55<1:37:40, 12.82s/it, v_num=rp_1, total_loss_train=3.14e+3, kl_local_train=114, metric_mi|status_control_train=0.226, metric_mi|zone_train=0.179, metric_mi|time_cat_train=0.182, metric_mi|mouse_train=0.148]"
     ]
    },
    {
     "name": "stdout",
     "output_type": "stream",
     "text": [
      "\r",
      "Epoch 143/600:  24%|██▍       | 143/600 [30:55<1:37:40, 12.82s/it, v_num=rp_1, total_loss_train=3.14e+3, kl_local_train=115, metric_mi|status_control_train=0.226, metric_mi|zone_train=0.179, metric_mi|time_cat_train=0.182, metric_mi|mouse_train=0.148]"
     ]
    },
    {
     "name": "stdout",
     "output_type": "stream",
     "text": [
      "\r",
      "Epoch 144/600:  24%|██▍       | 143/600 [30:55<1:37:40, 12.82s/it, v_num=rp_1, total_loss_train=3.14e+3, kl_local_train=115, metric_mi|status_control_train=0.226, metric_mi|zone_train=0.179, metric_mi|time_cat_train=0.182, metric_mi|mouse_train=0.148]"
     ]
    },
    {
     "name": "stdout",
     "output_type": "stream",
     "text": [
      "\r",
      "Epoch 144/600:  24%|██▍       | 144/600 [31:07<1:35:21, 12.55s/it, v_num=rp_1, total_loss_train=3.14e+3, kl_local_train=115, metric_mi|status_control_train=0.226, metric_mi|zone_train=0.179, metric_mi|time_cat_train=0.182, metric_mi|mouse_train=0.148]"
     ]
    },
    {
     "name": "stdout",
     "output_type": "stream",
     "text": [
      "\r",
      "Epoch 144/600:  24%|██▍       | 144/600 [31:07<1:35:21, 12.55s/it, v_num=rp_1, total_loss_train=3.14e+3, kl_local_train=113, metric_mi|status_control_train=0.226, metric_mi|zone_train=0.179, metric_mi|time_cat_train=0.182, metric_mi|mouse_train=0.148]"
     ]
    },
    {
     "name": "stdout",
     "output_type": "stream",
     "text": [
      "\r",
      "Epoch 145/600:  24%|██▍       | 144/600 [31:07<1:35:21, 12.55s/it, v_num=rp_1, total_loss_train=3.14e+3, kl_local_train=113, metric_mi|status_control_train=0.226, metric_mi|zone_train=0.179, metric_mi|time_cat_train=0.182, metric_mi|mouse_train=0.148]"
     ]
    },
    {
     "name": "stdout",
     "output_type": "stream",
     "text": [
      "\r",
      "Epoch 145/600:  24%|██▍       | 145/600 [31:19<1:33:19, 12.31s/it, v_num=rp_1, total_loss_train=3.14e+3, kl_local_train=113, metric_mi|status_control_train=0.226, metric_mi|zone_train=0.179, metric_mi|time_cat_train=0.182, metric_mi|mouse_train=0.148]"
     ]
    },
    {
     "name": "stdout",
     "output_type": "stream",
     "text": [
      "\r",
      "Epoch 145/600:  24%|██▍       | 145/600 [31:19<1:33:19, 12.31s/it, v_num=rp_1, total_loss_train=3.14e+3, kl_local_train=113, metric_mi|status_control_train=0.226, metric_mi|zone_train=0.179, metric_mi|time_cat_train=0.182, metric_mi|mouse_train=0.148]"
     ]
    },
    {
     "name": "stdout",
     "output_type": "stream",
     "text": [
      "\r",
      "Epoch 146/600:  24%|██▍       | 145/600 [31:20<1:33:19, 12.31s/it, v_num=rp_1, total_loss_train=3.14e+3, kl_local_train=113, metric_mi|status_control_train=0.226, metric_mi|zone_train=0.179, metric_mi|time_cat_train=0.182, metric_mi|mouse_train=0.148]"
     ]
    },
    {
     "name": "stdout",
     "output_type": "stream",
     "text": [
      "\r",
      "Epoch 146/600:  24%|██▍       | 146/600 [31:32<1:34:49, 12.53s/it, v_num=rp_1, total_loss_train=3.14e+3, kl_local_train=113, metric_mi|status_control_train=0.226, metric_mi|zone_train=0.179, metric_mi|time_cat_train=0.182, metric_mi|mouse_train=0.148]"
     ]
    },
    {
     "name": "stdout",
     "output_type": "stream",
     "text": [
      "\r",
      "Epoch 146/600:  24%|██▍       | 146/600 [31:32<1:34:49, 12.53s/it, v_num=rp_1, total_loss_train=3.14e+3, kl_local_train=112, metric_mi|status_control_train=0.23, metric_mi|zone_train=0.179, metric_mi|time_cat_train=0.177, metric_mi|mouse_train=0.145] "
     ]
    },
    {
     "name": "stdout",
     "output_type": "stream",
     "text": [
      "\r",
      "Epoch 147/600:  24%|██▍       | 146/600 [31:32<1:34:49, 12.53s/it, v_num=rp_1, total_loss_train=3.14e+3, kl_local_train=112, metric_mi|status_control_train=0.23, metric_mi|zone_train=0.179, metric_mi|time_cat_train=0.177, metric_mi|mouse_train=0.145]"
     ]
    },
    {
     "name": "stdout",
     "output_type": "stream",
     "text": [
      "\r",
      "Epoch 147/600:  24%|██▍       | 147/600 [31:43<1:32:55, 12.31s/it, v_num=rp_1, total_loss_train=3.14e+3, kl_local_train=112, metric_mi|status_control_train=0.23, metric_mi|zone_train=0.179, metric_mi|time_cat_train=0.177, metric_mi|mouse_train=0.145]"
     ]
    },
    {
     "name": "stdout",
     "output_type": "stream",
     "text": [
      "\r",
      "Epoch 147/600:  24%|██▍       | 147/600 [31:43<1:32:55, 12.31s/it, v_num=rp_1, total_loss_train=3.14e+3, kl_local_train=114, metric_mi|status_control_train=0.23, metric_mi|zone_train=0.179, metric_mi|time_cat_train=0.177, metric_mi|mouse_train=0.145]"
     ]
    },
    {
     "name": "stdout",
     "output_type": "stream",
     "text": [
      "\r",
      "Epoch 148/600:  24%|██▍       | 147/600 [31:43<1:32:55, 12.31s/it, v_num=rp_1, total_loss_train=3.14e+3, kl_local_train=114, metric_mi|status_control_train=0.23, metric_mi|zone_train=0.179, metric_mi|time_cat_train=0.177, metric_mi|mouse_train=0.145]"
     ]
    },
    {
     "name": "stdout",
     "output_type": "stream",
     "text": [
      "\r",
      "Epoch 148/600:  25%|██▍       | 148/600 [31:55<1:31:30, 12.15s/it, v_num=rp_1, total_loss_train=3.14e+3, kl_local_train=114, metric_mi|status_control_train=0.23, metric_mi|zone_train=0.179, metric_mi|time_cat_train=0.177, metric_mi|mouse_train=0.145]"
     ]
    },
    {
     "name": "stdout",
     "output_type": "stream",
     "text": [
      "\r",
      "Epoch 148/600:  25%|██▍       | 148/600 [31:55<1:31:30, 12.15s/it, v_num=rp_1, total_loss_train=3.14e+3, kl_local_train=114, metric_mi|status_control_train=0.23, metric_mi|zone_train=0.179, metric_mi|time_cat_train=0.177, metric_mi|mouse_train=0.145]"
     ]
    },
    {
     "name": "stdout",
     "output_type": "stream",
     "text": [
      "\r",
      "Epoch 149/600:  25%|██▍       | 148/600 [31:55<1:31:30, 12.15s/it, v_num=rp_1, total_loss_train=3.14e+3, kl_local_train=114, metric_mi|status_control_train=0.23, metric_mi|zone_train=0.179, metric_mi|time_cat_train=0.177, metric_mi|mouse_train=0.145]"
     ]
    },
    {
     "name": "stdout",
     "output_type": "stream",
     "text": [
      "\r",
      "Epoch 149/600:  25%|██▍       | 149/600 [32:07<1:30:27, 12.03s/it, v_num=rp_1, total_loss_train=3.14e+3, kl_local_train=114, metric_mi|status_control_train=0.23, metric_mi|zone_train=0.179, metric_mi|time_cat_train=0.177, metric_mi|mouse_train=0.145]"
     ]
    },
    {
     "name": "stdout",
     "output_type": "stream",
     "text": [
      "\r",
      "Epoch 149/600:  25%|██▍       | 149/600 [32:07<1:30:27, 12.03s/it, v_num=rp_1, total_loss_train=3.14e+3, kl_local_train=113, metric_mi|status_control_train=0.23, metric_mi|zone_train=0.179, metric_mi|time_cat_train=0.177, metric_mi|mouse_train=0.145]"
     ]
    },
    {
     "name": "stdout",
     "output_type": "stream",
     "text": [
      "\r",
      "Epoch 150/600:  25%|██▍       | 149/600 [32:07<1:30:27, 12.03s/it, v_num=rp_1, total_loss_train=3.14e+3, kl_local_train=113, metric_mi|status_control_train=0.23, metric_mi|zone_train=0.179, metric_mi|time_cat_train=0.177, metric_mi|mouse_train=0.145]"
     ]
    },
    {
     "name": "stdout",
     "output_type": "stream",
     "text": [
      "\r",
      "Epoch 150/600:  25%|██▌       | 150/600 [32:19<1:29:42, 11.96s/it, v_num=rp_1, total_loss_train=3.14e+3, kl_local_train=113, metric_mi|status_control_train=0.23, metric_mi|zone_train=0.179, metric_mi|time_cat_train=0.177, metric_mi|mouse_train=0.145]"
     ]
    },
    {
     "name": "stdout",
     "output_type": "stream",
     "text": [
      "\r",
      "Epoch 150/600:  25%|██▌       | 150/600 [32:19<1:29:42, 11.96s/it, v_num=rp_1, total_loss_train=3.14e+3, kl_local_train=112, metric_mi|status_control_train=0.23, metric_mi|zone_train=0.179, metric_mi|time_cat_train=0.177, metric_mi|mouse_train=0.145]"
     ]
    },
    {
     "name": "stdout",
     "output_type": "stream",
     "text": [
      "\r",
      "Epoch 151/600:  25%|██▌       | 150/600 [32:20<1:29:42, 11.96s/it, v_num=rp_1, total_loss_train=3.14e+3, kl_local_train=112, metric_mi|status_control_train=0.23, metric_mi|zone_train=0.179, metric_mi|time_cat_train=0.177, metric_mi|mouse_train=0.145]"
     ]
    },
    {
     "name": "stdout",
     "output_type": "stream",
     "text": [
      "\r",
      "Epoch 151/600:  25%|██▌       | 151/600 [32:32<1:31:58, 12.29s/it, v_num=rp_1, total_loss_train=3.14e+3, kl_local_train=112, metric_mi|status_control_train=0.23, metric_mi|zone_train=0.179, metric_mi|time_cat_train=0.177, metric_mi|mouse_train=0.145]"
     ]
    },
    {
     "name": "stdout",
     "output_type": "stream",
     "text": [
      "\r",
      "Epoch 151/600:  25%|██▌       | 151/600 [32:32<1:31:58, 12.29s/it, v_num=rp_1, total_loss_train=3.14e+3, kl_local_train=112, metric_mi|status_control_train=0.226, metric_mi|zone_train=0.179, metric_mi|time_cat_train=0.174, metric_mi|mouse_train=0.143]"
     ]
    },
    {
     "name": "stdout",
     "output_type": "stream",
     "text": [
      "\r",
      "Epoch 152/600:  25%|██▌       | 151/600 [32:32<1:31:58, 12.29s/it, v_num=rp_1, total_loss_train=3.14e+3, kl_local_train=112, metric_mi|status_control_train=0.226, metric_mi|zone_train=0.179, metric_mi|time_cat_train=0.174, metric_mi|mouse_train=0.143]"
     ]
    },
    {
     "name": "stdout",
     "output_type": "stream",
     "text": [
      "\r",
      "Epoch 152/600:  25%|██▌       | 152/600 [32:44<1:30:57, 12.18s/it, v_num=rp_1, total_loss_train=3.14e+3, kl_local_train=112, metric_mi|status_control_train=0.226, metric_mi|zone_train=0.179, metric_mi|time_cat_train=0.174, metric_mi|mouse_train=0.143]"
     ]
    },
    {
     "name": "stdout",
     "output_type": "stream",
     "text": [
      "\r",
      "Epoch 152/600:  25%|██▌       | 152/600 [32:44<1:30:57, 12.18s/it, v_num=rp_1, total_loss_train=3.14e+3, kl_local_train=111, metric_mi|status_control_train=0.226, metric_mi|zone_train=0.179, metric_mi|time_cat_train=0.174, metric_mi|mouse_train=0.143]"
     ]
    },
    {
     "name": "stdout",
     "output_type": "stream",
     "text": [
      "\r",
      "Epoch 153/600:  25%|██▌       | 152/600 [32:44<1:30:57, 12.18s/it, v_num=rp_1, total_loss_train=3.14e+3, kl_local_train=111, metric_mi|status_control_train=0.226, metric_mi|zone_train=0.179, metric_mi|time_cat_train=0.174, metric_mi|mouse_train=0.143]"
     ]
    },
    {
     "name": "stdout",
     "output_type": "stream",
     "text": [
      "\r",
      "Epoch 153/600:  26%|██▌       | 153/600 [32:56<1:31:36, 12.30s/it, v_num=rp_1, total_loss_train=3.14e+3, kl_local_train=111, metric_mi|status_control_train=0.226, metric_mi|zone_train=0.179, metric_mi|time_cat_train=0.174, metric_mi|mouse_train=0.143]"
     ]
    },
    {
     "name": "stdout",
     "output_type": "stream",
     "text": [
      "\r",
      "Epoch 153/600:  26%|██▌       | 153/600 [32:56<1:31:36, 12.30s/it, v_num=rp_1, total_loss_train=3.14e+3, kl_local_train=112, metric_mi|status_control_train=0.226, metric_mi|zone_train=0.179, metric_mi|time_cat_train=0.174, metric_mi|mouse_train=0.143]"
     ]
    },
    {
     "name": "stdout",
     "output_type": "stream",
     "text": [
      "\r",
      "Epoch 154/600:  26%|██▌       | 153/600 [32:56<1:31:36, 12.30s/it, v_num=rp_1, total_loss_train=3.14e+3, kl_local_train=112, metric_mi|status_control_train=0.226, metric_mi|zone_train=0.179, metric_mi|time_cat_train=0.174, metric_mi|mouse_train=0.143]"
     ]
    },
    {
     "name": "stdout",
     "output_type": "stream",
     "text": [
      "\r",
      "Epoch 154/600:  26%|██▌       | 154/600 [33:09<1:32:06, 12.39s/it, v_num=rp_1, total_loss_train=3.14e+3, kl_local_train=112, metric_mi|status_control_train=0.226, metric_mi|zone_train=0.179, metric_mi|time_cat_train=0.174, metric_mi|mouse_train=0.143]"
     ]
    },
    {
     "name": "stdout",
     "output_type": "stream",
     "text": [
      "\r",
      "Epoch 154/600:  26%|██▌       | 154/600 [33:09<1:32:06, 12.39s/it, v_num=rp_1, total_loss_train=3.14e+3, kl_local_train=112, metric_mi|status_control_train=0.226, metric_mi|zone_train=0.179, metric_mi|time_cat_train=0.174, metric_mi|mouse_train=0.143]"
     ]
    },
    {
     "name": "stdout",
     "output_type": "stream",
     "text": [
      "\r",
      "Epoch 155/600:  26%|██▌       | 154/600 [33:09<1:32:06, 12.39s/it, v_num=rp_1, total_loss_train=3.14e+3, kl_local_train=112, metric_mi|status_control_train=0.226, metric_mi|zone_train=0.179, metric_mi|time_cat_train=0.174, metric_mi|mouse_train=0.143]"
     ]
    },
    {
     "name": "stdout",
     "output_type": "stream",
     "text": [
      "\r",
      "Epoch 155/600:  26%|██▌       | 155/600 [33:21<1:32:20, 12.45s/it, v_num=rp_1, total_loss_train=3.14e+3, kl_local_train=112, metric_mi|status_control_train=0.226, metric_mi|zone_train=0.179, metric_mi|time_cat_train=0.174, metric_mi|mouse_train=0.143]"
     ]
    },
    {
     "name": "stdout",
     "output_type": "stream",
     "text": [
      "\r",
      "Epoch 155/600:  26%|██▌       | 155/600 [33:21<1:32:20, 12.45s/it, v_num=rp_1, total_loss_train=3.13e+3, kl_local_train=112, metric_mi|status_control_train=0.226, metric_mi|zone_train=0.179, metric_mi|time_cat_train=0.174, metric_mi|mouse_train=0.143]"
     ]
    },
    {
     "name": "stdout",
     "output_type": "stream",
     "text": [
      "\r",
      "Epoch 156/600:  26%|██▌       | 155/600 [33:23<1:32:20, 12.45s/it, v_num=rp_1, total_loss_train=3.13e+3, kl_local_train=112, metric_mi|status_control_train=0.226, metric_mi|zone_train=0.179, metric_mi|time_cat_train=0.174, metric_mi|mouse_train=0.143]"
     ]
    },
    {
     "name": "stdout",
     "output_type": "stream",
     "text": [
      "\r",
      "Epoch 156/600:  26%|██▌       | 156/600 [33:35<1:35:26, 12.90s/it, v_num=rp_1, total_loss_train=3.13e+3, kl_local_train=112, metric_mi|status_control_train=0.226, metric_mi|zone_train=0.179, metric_mi|time_cat_train=0.174, metric_mi|mouse_train=0.143]"
     ]
    },
    {
     "name": "stdout",
     "output_type": "stream",
     "text": [
      "\r",
      "Epoch 156/600:  26%|██▌       | 156/600 [33:35<1:35:26, 12.90s/it, v_num=rp_1, total_loss_train=3.13e+3, kl_local_train=112, metric_mi|status_control_train=0.232, metric_mi|zone_train=0.179, metric_mi|time_cat_train=0.178, metric_mi|mouse_train=0.145]"
     ]
    },
    {
     "name": "stdout",
     "output_type": "stream",
     "text": [
      "\r",
      "Epoch 157/600:  26%|██▌       | 156/600 [33:35<1:35:26, 12.90s/it, v_num=rp_1, total_loss_train=3.13e+3, kl_local_train=112, metric_mi|status_control_train=0.232, metric_mi|zone_train=0.179, metric_mi|time_cat_train=0.178, metric_mi|mouse_train=0.145]"
     ]
    },
    {
     "name": "stdout",
     "output_type": "stream",
     "text": [
      "\r",
      "Epoch 157/600:  26%|██▌       | 157/600 [33:48<1:34:20, 12.78s/it, v_num=rp_1, total_loss_train=3.13e+3, kl_local_train=112, metric_mi|status_control_train=0.232, metric_mi|zone_train=0.179, metric_mi|time_cat_train=0.178, metric_mi|mouse_train=0.145]"
     ]
    },
    {
     "name": "stdout",
     "output_type": "stream",
     "text": [
      "\r",
      "Epoch 157/600:  26%|██▌       | 157/600 [33:48<1:34:20, 12.78s/it, v_num=rp_1, total_loss_train=3.13e+3, kl_local_train=111, metric_mi|status_control_train=0.232, metric_mi|zone_train=0.179, metric_mi|time_cat_train=0.178, metric_mi|mouse_train=0.145]"
     ]
    },
    {
     "name": "stdout",
     "output_type": "stream",
     "text": [
      "\r",
      "Epoch 158/600:  26%|██▌       | 157/600 [33:48<1:34:20, 12.78s/it, v_num=rp_1, total_loss_train=3.13e+3, kl_local_train=111, metric_mi|status_control_train=0.232, metric_mi|zone_train=0.179, metric_mi|time_cat_train=0.178, metric_mi|mouse_train=0.145]"
     ]
    },
    {
     "name": "stdout",
     "output_type": "stream",
     "text": [
      "\r",
      "Epoch 158/600:  26%|██▋       | 158/600 [34:00<1:33:11, 12.65s/it, v_num=rp_1, total_loss_train=3.13e+3, kl_local_train=111, metric_mi|status_control_train=0.232, metric_mi|zone_train=0.179, metric_mi|time_cat_train=0.178, metric_mi|mouse_train=0.145]"
     ]
    },
    {
     "name": "stdout",
     "output_type": "stream",
     "text": [
      "\r",
      "Epoch 158/600:  26%|██▋       | 158/600 [34:00<1:33:11, 12.65s/it, v_num=rp_1, total_loss_train=3.13e+3, kl_local_train=111, metric_mi|status_control_train=0.232, metric_mi|zone_train=0.179, metric_mi|time_cat_train=0.178, metric_mi|mouse_train=0.145]"
     ]
    },
    {
     "name": "stdout",
     "output_type": "stream",
     "text": [
      "\r",
      "Epoch 159/600:  26%|██▋       | 158/600 [34:00<1:33:11, 12.65s/it, v_num=rp_1, total_loss_train=3.13e+3, kl_local_train=111, metric_mi|status_control_train=0.232, metric_mi|zone_train=0.179, metric_mi|time_cat_train=0.178, metric_mi|mouse_train=0.145]"
     ]
    },
    {
     "name": "stdout",
     "output_type": "stream",
     "text": [
      "\r",
      "Epoch 159/600:  26%|██▋       | 159/600 [34:13<1:32:55, 12.64s/it, v_num=rp_1, total_loss_train=3.13e+3, kl_local_train=111, metric_mi|status_control_train=0.232, metric_mi|zone_train=0.179, metric_mi|time_cat_train=0.178, metric_mi|mouse_train=0.145]"
     ]
    },
    {
     "name": "stdout",
     "output_type": "stream",
     "text": [
      "\r",
      "Epoch 159/600:  26%|██▋       | 159/600 [34:13<1:32:55, 12.64s/it, v_num=rp_1, total_loss_train=3.13e+3, kl_local_train=111, metric_mi|status_control_train=0.232, metric_mi|zone_train=0.179, metric_mi|time_cat_train=0.178, metric_mi|mouse_train=0.145]"
     ]
    },
    {
     "name": "stdout",
     "output_type": "stream",
     "text": [
      "\r",
      "Epoch 160/600:  26%|██▋       | 159/600 [34:13<1:32:55, 12.64s/it, v_num=rp_1, total_loss_train=3.13e+3, kl_local_train=111, metric_mi|status_control_train=0.232, metric_mi|zone_train=0.179, metric_mi|time_cat_train=0.178, metric_mi|mouse_train=0.145]"
     ]
    },
    {
     "name": "stdout",
     "output_type": "stream",
     "text": [
      "\r",
      "Epoch 160/600:  27%|██▋       | 160/600 [34:26<1:32:54, 12.67s/it, v_num=rp_1, total_loss_train=3.13e+3, kl_local_train=111, metric_mi|status_control_train=0.232, metric_mi|zone_train=0.179, metric_mi|time_cat_train=0.178, metric_mi|mouse_train=0.145]"
     ]
    },
    {
     "name": "stdout",
     "output_type": "stream",
     "text": [
      "\r",
      "Epoch 160/600:  27%|██▋       | 160/600 [34:26<1:32:54, 12.67s/it, v_num=rp_1, total_loss_train=3.13e+3, kl_local_train=110, metric_mi|status_control_train=0.232, metric_mi|zone_train=0.179, metric_mi|time_cat_train=0.178, metric_mi|mouse_train=0.145]"
     ]
    },
    {
     "name": "stdout",
     "output_type": "stream",
     "text": [
      "\r",
      "Epoch 161/600:  27%|██▋       | 160/600 [34:27<1:32:54, 12.67s/it, v_num=rp_1, total_loss_train=3.13e+3, kl_local_train=110, metric_mi|status_control_train=0.232, metric_mi|zone_train=0.179, metric_mi|time_cat_train=0.178, metric_mi|mouse_train=0.145]"
     ]
    },
    {
     "name": "stdout",
     "output_type": "stream",
     "text": [
      "\r",
      "Epoch 161/600:  27%|██▋       | 161/600 [34:40<1:35:49, 13.10s/it, v_num=rp_1, total_loss_train=3.13e+3, kl_local_train=110, metric_mi|status_control_train=0.232, metric_mi|zone_train=0.179, metric_mi|time_cat_train=0.178, metric_mi|mouse_train=0.145]"
     ]
    },
    {
     "name": "stdout",
     "output_type": "stream",
     "text": [
      "\r",
      "Epoch 161/600:  27%|██▋       | 161/600 [34:40<1:35:49, 13.10s/it, v_num=rp_1, total_loss_train=3.13e+3, kl_local_train=110, metric_mi|status_control_train=0.208, metric_mi|zone_train=0.179, metric_mi|time_cat_train=0.172, metric_mi|mouse_train=0.142]"
     ]
    },
    {
     "name": "stdout",
     "output_type": "stream",
     "text": [
      "\r",
      "Epoch 162/600:  27%|██▋       | 161/600 [34:40<1:35:49, 13.10s/it, v_num=rp_1, total_loss_train=3.13e+3, kl_local_train=110, metric_mi|status_control_train=0.208, metric_mi|zone_train=0.179, metric_mi|time_cat_train=0.172, metric_mi|mouse_train=0.142]"
     ]
    },
    {
     "name": "stdout",
     "output_type": "stream",
     "text": [
      "\r",
      "Epoch 162/600:  27%|██▋       | 162/600 [34:52<1:34:35, 12.96s/it, v_num=rp_1, total_loss_train=3.13e+3, kl_local_train=110, metric_mi|status_control_train=0.208, metric_mi|zone_train=0.179, metric_mi|time_cat_train=0.172, metric_mi|mouse_train=0.142]"
     ]
    },
    {
     "name": "stdout",
     "output_type": "stream",
     "text": [
      "\r",
      "Epoch 162/600:  27%|██▋       | 162/600 [34:52<1:34:35, 12.96s/it, v_num=rp_1, total_loss_train=3.13e+3, kl_local_train=110, metric_mi|status_control_train=0.208, metric_mi|zone_train=0.179, metric_mi|time_cat_train=0.172, metric_mi|mouse_train=0.142]"
     ]
    },
    {
     "name": "stdout",
     "output_type": "stream",
     "text": [
      "\r",
      "Epoch 163/600:  27%|██▋       | 162/600 [34:52<1:34:35, 12.96s/it, v_num=rp_1, total_loss_train=3.13e+3, kl_local_train=110, metric_mi|status_control_train=0.208, metric_mi|zone_train=0.179, metric_mi|time_cat_train=0.172, metric_mi|mouse_train=0.142]"
     ]
    },
    {
     "name": "stdout",
     "output_type": "stream",
     "text": [
      "\r",
      "Epoch 163/600:  27%|██▋       | 163/600 [35:05<1:33:39, 12.86s/it, v_num=rp_1, total_loss_train=3.13e+3, kl_local_train=110, metric_mi|status_control_train=0.208, metric_mi|zone_train=0.179, metric_mi|time_cat_train=0.172, metric_mi|mouse_train=0.142]"
     ]
    },
    {
     "name": "stdout",
     "output_type": "stream",
     "text": [
      "\r",
      "Epoch 163/600:  27%|██▋       | 163/600 [35:05<1:33:39, 12.86s/it, v_num=rp_1, total_loss_train=3.13e+3, kl_local_train=110, metric_mi|status_control_train=0.208, metric_mi|zone_train=0.179, metric_mi|time_cat_train=0.172, metric_mi|mouse_train=0.142]"
     ]
    },
    {
     "name": "stdout",
     "output_type": "stream",
     "text": [
      "\r",
      "Epoch 164/600:  27%|██▋       | 163/600 [35:05<1:33:39, 12.86s/it, v_num=rp_1, total_loss_train=3.13e+3, kl_local_train=110, metric_mi|status_control_train=0.208, metric_mi|zone_train=0.179, metric_mi|time_cat_train=0.172, metric_mi|mouse_train=0.142]"
     ]
    },
    {
     "name": "stdout",
     "output_type": "stream",
     "text": [
      "\r",
      "Epoch 164/600:  27%|██▋       | 164/600 [35:18<1:33:15, 12.83s/it, v_num=rp_1, total_loss_train=3.13e+3, kl_local_train=110, metric_mi|status_control_train=0.208, metric_mi|zone_train=0.179, metric_mi|time_cat_train=0.172, metric_mi|mouse_train=0.142]"
     ]
    },
    {
     "name": "stdout",
     "output_type": "stream",
     "text": [
      "\r",
      "Epoch 164/600:  27%|██▋       | 164/600 [35:18<1:33:15, 12.83s/it, v_num=rp_1, total_loss_train=3.13e+3, kl_local_train=109, metric_mi|status_control_train=0.208, metric_mi|zone_train=0.179, metric_mi|time_cat_train=0.172, metric_mi|mouse_train=0.142]"
     ]
    },
    {
     "name": "stdout",
     "output_type": "stream",
     "text": [
      "\r",
      "Epoch 165/600:  27%|██▋       | 164/600 [35:18<1:33:15, 12.83s/it, v_num=rp_1, total_loss_train=3.13e+3, kl_local_train=109, metric_mi|status_control_train=0.208, metric_mi|zone_train=0.179, metric_mi|time_cat_train=0.172, metric_mi|mouse_train=0.142]"
     ]
    },
    {
     "name": "stdout",
     "output_type": "stream",
     "text": [
      "\r",
      "Epoch 165/600:  28%|██▊       | 165/600 [35:31<1:33:09, 12.85s/it, v_num=rp_1, total_loss_train=3.13e+3, kl_local_train=109, metric_mi|status_control_train=0.208, metric_mi|zone_train=0.179, metric_mi|time_cat_train=0.172, metric_mi|mouse_train=0.142]"
     ]
    },
    {
     "name": "stdout",
     "output_type": "stream",
     "text": [
      "\r",
      "Epoch 165/600:  28%|██▊       | 165/600 [35:31<1:33:09, 12.85s/it, v_num=rp_1, total_loss_train=3.13e+3, kl_local_train=110, metric_mi|status_control_train=0.208, metric_mi|zone_train=0.179, metric_mi|time_cat_train=0.172, metric_mi|mouse_train=0.142]"
     ]
    },
    {
     "name": "stdout",
     "output_type": "stream",
     "text": [
      "\r",
      "Epoch 166/600:  28%|██▊       | 165/600 [35:32<1:33:09, 12.85s/it, v_num=rp_1, total_loss_train=3.13e+3, kl_local_train=110, metric_mi|status_control_train=0.208, metric_mi|zone_train=0.179, metric_mi|time_cat_train=0.172, metric_mi|mouse_train=0.142]"
     ]
    },
    {
     "name": "stdout",
     "output_type": "stream",
     "text": [
      "\r",
      "Epoch 166/600:  28%|██▊       | 166/600 [35:45<1:36:15, 13.31s/it, v_num=rp_1, total_loss_train=3.13e+3, kl_local_train=110, metric_mi|status_control_train=0.208, metric_mi|zone_train=0.179, metric_mi|time_cat_train=0.172, metric_mi|mouse_train=0.142]"
     ]
    },
    {
     "name": "stdout",
     "output_type": "stream",
     "text": [
      "\r",
      "Epoch 166/600:  28%|██▊       | 166/600 [35:45<1:36:15, 13.31s/it, v_num=rp_1, total_loss_train=3.13e+3, kl_local_train=109, metric_mi|status_control_train=0.228, metric_mi|zone_train=0.179, metric_mi|time_cat_train=0.175, metric_mi|mouse_train=0.143]"
     ]
    },
    {
     "name": "stdout",
     "output_type": "stream",
     "text": [
      "\r",
      "Epoch 167/600:  28%|██▊       | 166/600 [35:45<1:36:15, 13.31s/it, v_num=rp_1, total_loss_train=3.13e+3, kl_local_train=109, metric_mi|status_control_train=0.228, metric_mi|zone_train=0.179, metric_mi|time_cat_train=0.175, metric_mi|mouse_train=0.143]"
     ]
    },
    {
     "name": "stdout",
     "output_type": "stream",
     "text": [
      "\r",
      "Epoch 167/600:  28%|██▊       | 167/600 [35:58<1:35:18, 13.21s/it, v_num=rp_1, total_loss_train=3.13e+3, kl_local_train=109, metric_mi|status_control_train=0.228, metric_mi|zone_train=0.179, metric_mi|time_cat_train=0.175, metric_mi|mouse_train=0.143]"
     ]
    },
    {
     "name": "stdout",
     "output_type": "stream",
     "text": [
      "\r",
      "Epoch 167/600:  28%|██▊       | 167/600 [35:58<1:35:18, 13.21s/it, v_num=rp_1, total_loss_train=3.13e+3, kl_local_train=109, metric_mi|status_control_train=0.228, metric_mi|zone_train=0.179, metric_mi|time_cat_train=0.175, metric_mi|mouse_train=0.143]"
     ]
    },
    {
     "name": "stdout",
     "output_type": "stream",
     "text": [
      "\r",
      "Epoch 168/600:  28%|██▊       | 167/600 [35:58<1:35:18, 13.21s/it, v_num=rp_1, total_loss_train=3.13e+3, kl_local_train=109, metric_mi|status_control_train=0.228, metric_mi|zone_train=0.179, metric_mi|time_cat_train=0.175, metric_mi|mouse_train=0.143]"
     ]
    },
    {
     "name": "stdout",
     "output_type": "stream",
     "text": [
      "\r",
      "Epoch 168/600:  28%|██▊       | 168/600 [36:11<1:34:45, 13.16s/it, v_num=rp_1, total_loss_train=3.13e+3, kl_local_train=109, metric_mi|status_control_train=0.228, metric_mi|zone_train=0.179, metric_mi|time_cat_train=0.175, metric_mi|mouse_train=0.143]"
     ]
    },
    {
     "name": "stdout",
     "output_type": "stream",
     "text": [
      "\r",
      "Epoch 168/600:  28%|██▊       | 168/600 [36:11<1:34:45, 13.16s/it, v_num=rp_1, total_loss_train=3.13e+3, kl_local_train=108, metric_mi|status_control_train=0.228, metric_mi|zone_train=0.179, metric_mi|time_cat_train=0.175, metric_mi|mouse_train=0.143]"
     ]
    },
    {
     "name": "stdout",
     "output_type": "stream",
     "text": [
      "\r",
      "Epoch 169/600:  28%|██▊       | 168/600 [36:11<1:34:45, 13.16s/it, v_num=rp_1, total_loss_train=3.13e+3, kl_local_train=108, metric_mi|status_control_train=0.228, metric_mi|zone_train=0.179, metric_mi|time_cat_train=0.175, metric_mi|mouse_train=0.143]"
     ]
    },
    {
     "name": "stdout",
     "output_type": "stream",
     "text": [
      "\r",
      "Epoch 169/600:  28%|██▊       | 169/600 [36:24<1:34:14, 13.12s/it, v_num=rp_1, total_loss_train=3.13e+3, kl_local_train=108, metric_mi|status_control_train=0.228, metric_mi|zone_train=0.179, metric_mi|time_cat_train=0.175, metric_mi|mouse_train=0.143]"
     ]
    },
    {
     "name": "stdout",
     "output_type": "stream",
     "text": [
      "\r",
      "Epoch 169/600:  28%|██▊       | 169/600 [36:24<1:34:14, 13.12s/it, v_num=rp_1, total_loss_train=3.13e+3, kl_local_train=109, metric_mi|status_control_train=0.228, metric_mi|zone_train=0.179, metric_mi|time_cat_train=0.175, metric_mi|mouse_train=0.143]"
     ]
    },
    {
     "name": "stdout",
     "output_type": "stream",
     "text": [
      "\r",
      "Epoch 170/600:  28%|██▊       | 169/600 [36:24<1:34:14, 13.12s/it, v_num=rp_1, total_loss_train=3.13e+3, kl_local_train=109, metric_mi|status_control_train=0.228, metric_mi|zone_train=0.179, metric_mi|time_cat_train=0.175, metric_mi|mouse_train=0.143]"
     ]
    },
    {
     "name": "stdout",
     "output_type": "stream",
     "text": [
      "\r",
      "Epoch 170/600:  28%|██▊       | 170/600 [36:37<1:33:37, 13.06s/it, v_num=rp_1, total_loss_train=3.13e+3, kl_local_train=109, metric_mi|status_control_train=0.228, metric_mi|zone_train=0.179, metric_mi|time_cat_train=0.175, metric_mi|mouse_train=0.143]"
     ]
    },
    {
     "name": "stdout",
     "output_type": "stream",
     "text": [
      "\r",
      "Epoch 170/600:  28%|██▊       | 170/600 [36:37<1:33:37, 13.06s/it, v_num=rp_1, total_loss_train=3.13e+3, kl_local_train=108, metric_mi|status_control_train=0.228, metric_mi|zone_train=0.179, metric_mi|time_cat_train=0.175, metric_mi|mouse_train=0.143]"
     ]
    },
    {
     "name": "stdout",
     "output_type": "stream",
     "text": [
      "\r",
      "Epoch 171/600:  28%|██▊       | 170/600 [36:38<1:33:37, 13.06s/it, v_num=rp_1, total_loss_train=3.13e+3, kl_local_train=108, metric_mi|status_control_train=0.228, metric_mi|zone_train=0.179, metric_mi|time_cat_train=0.175, metric_mi|mouse_train=0.143]"
     ]
    },
    {
     "name": "stdout",
     "output_type": "stream",
     "text": [
      "\r",
      "Epoch 171/600:  28%|██▊       | 171/600 [36:51<1:35:58, 13.42s/it, v_num=rp_1, total_loss_train=3.13e+3, kl_local_train=108, metric_mi|status_control_train=0.228, metric_mi|zone_train=0.179, metric_mi|time_cat_train=0.175, metric_mi|mouse_train=0.143]"
     ]
    },
    {
     "name": "stdout",
     "output_type": "stream",
     "text": [
      "\r",
      "Epoch 171/600:  28%|██▊       | 171/600 [36:51<1:35:58, 13.42s/it, v_num=rp_1, total_loss_train=3.12e+3, kl_local_train=107, metric_mi|status_control_train=0.23, metric_mi|zone_train=0.179, metric_mi|time_cat_train=0.178, metric_mi|mouse_train=0.145] "
     ]
    },
    {
     "name": "stdout",
     "output_type": "stream",
     "text": [
      "\r",
      "Epoch 172/600:  28%|██▊       | 171/600 [36:51<1:35:58, 13.42s/it, v_num=rp_1, total_loss_train=3.12e+3, kl_local_train=107, metric_mi|status_control_train=0.23, metric_mi|zone_train=0.179, metric_mi|time_cat_train=0.178, metric_mi|mouse_train=0.145]"
     ]
    },
    {
     "name": "stdout",
     "output_type": "stream",
     "text": [
      "\r",
      "Epoch 172/600:  29%|██▊       | 172/600 [37:04<1:34:41, 13.27s/it, v_num=rp_1, total_loss_train=3.12e+3, kl_local_train=107, metric_mi|status_control_train=0.23, metric_mi|zone_train=0.179, metric_mi|time_cat_train=0.178, metric_mi|mouse_train=0.145]"
     ]
    },
    {
     "name": "stdout",
     "output_type": "stream",
     "text": [
      "\r",
      "Epoch 172/600:  29%|██▊       | 172/600 [37:04<1:34:41, 13.27s/it, v_num=rp_1, total_loss_train=3.12e+3, kl_local_train=107, metric_mi|status_control_train=0.23, metric_mi|zone_train=0.179, metric_mi|time_cat_train=0.178, metric_mi|mouse_train=0.145]"
     ]
    },
    {
     "name": "stdout",
     "output_type": "stream",
     "text": [
      "\r",
      "Epoch 173/600:  29%|██▊       | 172/600 [37:04<1:34:41, 13.27s/it, v_num=rp_1, total_loss_train=3.12e+3, kl_local_train=107, metric_mi|status_control_train=0.23, metric_mi|zone_train=0.179, metric_mi|time_cat_train=0.178, metric_mi|mouse_train=0.145]"
     ]
    },
    {
     "name": "stdout",
     "output_type": "stream",
     "text": [
      "\r",
      "Epoch 173/600:  29%|██▉       | 173/600 [37:17<1:33:43, 13.17s/it, v_num=rp_1, total_loss_train=3.12e+3, kl_local_train=107, metric_mi|status_control_train=0.23, metric_mi|zone_train=0.179, metric_mi|time_cat_train=0.178, metric_mi|mouse_train=0.145]"
     ]
    },
    {
     "name": "stdout",
     "output_type": "stream",
     "text": [
      "\r",
      "Epoch 173/600:  29%|██▉       | 173/600 [37:17<1:33:43, 13.17s/it, v_num=rp_1, total_loss_train=3.12e+3, kl_local_train=106, metric_mi|status_control_train=0.23, metric_mi|zone_train=0.179, metric_mi|time_cat_train=0.178, metric_mi|mouse_train=0.145]"
     ]
    },
    {
     "name": "stdout",
     "output_type": "stream",
     "text": [
      "\r",
      "Epoch 174/600:  29%|██▉       | 173/600 [37:17<1:33:43, 13.17s/it, v_num=rp_1, total_loss_train=3.12e+3, kl_local_train=106, metric_mi|status_control_train=0.23, metric_mi|zone_train=0.179, metric_mi|time_cat_train=0.178, metric_mi|mouse_train=0.145]"
     ]
    },
    {
     "name": "stdout",
     "output_type": "stream",
     "text": [
      "\r",
      "Epoch 174/600:  29%|██▉       | 174/600 [37:30<1:32:58, 13.10s/it, v_num=rp_1, total_loss_train=3.12e+3, kl_local_train=106, metric_mi|status_control_train=0.23, metric_mi|zone_train=0.179, metric_mi|time_cat_train=0.178, metric_mi|mouse_train=0.145]"
     ]
    },
    {
     "name": "stdout",
     "output_type": "stream",
     "text": [
      "\r",
      "Epoch 174/600:  29%|██▉       | 174/600 [37:30<1:32:58, 13.10s/it, v_num=rp_1, total_loss_train=3.12e+3, kl_local_train=107, metric_mi|status_control_train=0.23, metric_mi|zone_train=0.179, metric_mi|time_cat_train=0.178, metric_mi|mouse_train=0.145]"
     ]
    },
    {
     "name": "stdout",
     "output_type": "stream",
     "text": [
      "\r",
      "Epoch 175/600:  29%|██▉       | 174/600 [37:30<1:32:58, 13.10s/it, v_num=rp_1, total_loss_train=3.12e+3, kl_local_train=107, metric_mi|status_control_train=0.23, metric_mi|zone_train=0.179, metric_mi|time_cat_train=0.178, metric_mi|mouse_train=0.145]"
     ]
    },
    {
     "name": "stdout",
     "output_type": "stream",
     "text": [
      "\r",
      "Epoch 175/600:  29%|██▉       | 175/600 [37:43<1:32:26, 13.05s/it, v_num=rp_1, total_loss_train=3.12e+3, kl_local_train=107, metric_mi|status_control_train=0.23, metric_mi|zone_train=0.179, metric_mi|time_cat_train=0.178, metric_mi|mouse_train=0.145]"
     ]
    },
    {
     "name": "stdout",
     "output_type": "stream",
     "text": [
      "\r",
      "Epoch 175/600:  29%|██▉       | 175/600 [37:43<1:32:26, 13.05s/it, v_num=rp_1, total_loss_train=3.12e+3, kl_local_train=107, metric_mi|status_control_train=0.23, metric_mi|zone_train=0.179, metric_mi|time_cat_train=0.178, metric_mi|mouse_train=0.145]"
     ]
    },
    {
     "name": "stdout",
     "output_type": "stream",
     "text": [
      "\r",
      "Epoch 176/600:  29%|██▉       | 175/600 [37:44<1:32:26, 13.05s/it, v_num=rp_1, total_loss_train=3.12e+3, kl_local_train=107, metric_mi|status_control_train=0.23, metric_mi|zone_train=0.179, metric_mi|time_cat_train=0.178, metric_mi|mouse_train=0.145]"
     ]
    },
    {
     "name": "stdout",
     "output_type": "stream",
     "text": [
      "\r",
      "Epoch 176/600:  29%|██▉       | 176/600 [37:57<1:34:42, 13.40s/it, v_num=rp_1, total_loss_train=3.12e+3, kl_local_train=107, metric_mi|status_control_train=0.23, metric_mi|zone_train=0.179, metric_mi|time_cat_train=0.178, metric_mi|mouse_train=0.145]"
     ]
    },
    {
     "name": "stdout",
     "output_type": "stream",
     "text": [
      "\r",
      "Epoch 176/600:  29%|██▉       | 176/600 [37:57<1:34:42, 13.40s/it, v_num=rp_1, total_loss_train=3.12e+3, kl_local_train=107, metric_mi|status_control_train=0.229, metric_mi|zone_train=0.18, metric_mi|time_cat_train=0.18, metric_mi|mouse_train=0.146] "
     ]
    },
    {
     "name": "stdout",
     "output_type": "stream",
     "text": [
      "\r",
      "Epoch 177/600:  29%|██▉       | 176/600 [37:57<1:34:42, 13.40s/it, v_num=rp_1, total_loss_train=3.12e+3, kl_local_train=107, metric_mi|status_control_train=0.229, metric_mi|zone_train=0.18, metric_mi|time_cat_train=0.18, metric_mi|mouse_train=0.146]"
     ]
    },
    {
     "name": "stdout",
     "output_type": "stream",
     "text": [
      "\r",
      "Epoch 177/600:  30%|██▉       | 177/600 [38:10<1:33:29, 13.26s/it, v_num=rp_1, total_loss_train=3.12e+3, kl_local_train=107, metric_mi|status_control_train=0.229, metric_mi|zone_train=0.18, metric_mi|time_cat_train=0.18, metric_mi|mouse_train=0.146]"
     ]
    },
    {
     "name": "stdout",
     "output_type": "stream",
     "text": [
      "\r",
      "Epoch 177/600:  30%|██▉       | 177/600 [38:10<1:33:29, 13.26s/it, v_num=rp_1, total_loss_train=3.12e+3, kl_local_train=107, metric_mi|status_control_train=0.229, metric_mi|zone_train=0.18, metric_mi|time_cat_train=0.18, metric_mi|mouse_train=0.146]"
     ]
    },
    {
     "name": "stdout",
     "output_type": "stream",
     "text": [
      "\r",
      "Epoch 178/600:  30%|██▉       | 177/600 [38:10<1:33:29, 13.26s/it, v_num=rp_1, total_loss_train=3.12e+3, kl_local_train=107, metric_mi|status_control_train=0.229, metric_mi|zone_train=0.18, metric_mi|time_cat_train=0.18, metric_mi|mouse_train=0.146]"
     ]
    },
    {
     "name": "stdout",
     "output_type": "stream",
     "text": [
      "\r",
      "Epoch 178/600:  30%|██▉       | 178/600 [38:23<1:32:34, 13.16s/it, v_num=rp_1, total_loss_train=3.12e+3, kl_local_train=107, metric_mi|status_control_train=0.229, metric_mi|zone_train=0.18, metric_mi|time_cat_train=0.18, metric_mi|mouse_train=0.146]"
     ]
    },
    {
     "name": "stdout",
     "output_type": "stream",
     "text": [
      "\r",
      "Epoch 178/600:  30%|██▉       | 178/600 [38:23<1:32:34, 13.16s/it, v_num=rp_1, total_loss_train=3.12e+3, kl_local_train=106, metric_mi|status_control_train=0.229, metric_mi|zone_train=0.18, metric_mi|time_cat_train=0.18, metric_mi|mouse_train=0.146]"
     ]
    },
    {
     "name": "stdout",
     "output_type": "stream",
     "text": [
      "\r",
      "Epoch 179/600:  30%|██▉       | 178/600 [38:23<1:32:34, 13.16s/it, v_num=rp_1, total_loss_train=3.12e+3, kl_local_train=106, metric_mi|status_control_train=0.229, metric_mi|zone_train=0.18, metric_mi|time_cat_train=0.18, metric_mi|mouse_train=0.146]"
     ]
    },
    {
     "name": "stdout",
     "output_type": "stream",
     "text": [
      "\r",
      "Epoch 179/600:  30%|██▉       | 179/600 [38:36<1:31:43, 13.07s/it, v_num=rp_1, total_loss_train=3.12e+3, kl_local_train=106, metric_mi|status_control_train=0.229, metric_mi|zone_train=0.18, metric_mi|time_cat_train=0.18, metric_mi|mouse_train=0.146]"
     ]
    },
    {
     "name": "stdout",
     "output_type": "stream",
     "text": [
      "\r",
      "Epoch 179/600:  30%|██▉       | 179/600 [38:36<1:31:43, 13.07s/it, v_num=rp_1, total_loss_train=3.12e+3, kl_local_train=106, metric_mi|status_control_train=0.229, metric_mi|zone_train=0.18, metric_mi|time_cat_train=0.18, metric_mi|mouse_train=0.146]"
     ]
    },
    {
     "name": "stdout",
     "output_type": "stream",
     "text": [
      "\r",
      "Epoch 180/600:  30%|██▉       | 179/600 [38:36<1:31:43, 13.07s/it, v_num=rp_1, total_loss_train=3.12e+3, kl_local_train=106, metric_mi|status_control_train=0.229, metric_mi|zone_train=0.18, metric_mi|time_cat_train=0.18, metric_mi|mouse_train=0.146]"
     ]
    },
    {
     "name": "stdout",
     "output_type": "stream",
     "text": [
      "\r",
      "Epoch 180/600:  30%|███       | 180/600 [38:49<1:30:33, 12.94s/it, v_num=rp_1, total_loss_train=3.12e+3, kl_local_train=106, metric_mi|status_control_train=0.229, metric_mi|zone_train=0.18, metric_mi|time_cat_train=0.18, metric_mi|mouse_train=0.146]"
     ]
    },
    {
     "name": "stdout",
     "output_type": "stream",
     "text": [
      "\r",
      "Epoch 180/600:  30%|███       | 180/600 [38:49<1:30:33, 12.94s/it, v_num=rp_1, total_loss_train=3.12e+3, kl_local_train=106, metric_mi|status_control_train=0.229, metric_mi|zone_train=0.18, metric_mi|time_cat_train=0.18, metric_mi|mouse_train=0.146]"
     ]
    },
    {
     "name": "stdout",
     "output_type": "stream",
     "text": [
      "\r",
      "Epoch 181/600:  30%|███       | 180/600 [38:50<1:30:33, 12.94s/it, v_num=rp_1, total_loss_train=3.12e+3, kl_local_train=106, metric_mi|status_control_train=0.229, metric_mi|zone_train=0.18, metric_mi|time_cat_train=0.18, metric_mi|mouse_train=0.146]"
     ]
    },
    {
     "name": "stdout",
     "output_type": "stream",
     "text": [
      "\r",
      "Epoch 181/600:  30%|███       | 181/600 [39:03<1:33:34, 13.40s/it, v_num=rp_1, total_loss_train=3.12e+3, kl_local_train=106, metric_mi|status_control_train=0.229, metric_mi|zone_train=0.18, metric_mi|time_cat_train=0.18, metric_mi|mouse_train=0.146]"
     ]
    },
    {
     "name": "stdout",
     "output_type": "stream",
     "text": [
      "\r",
      "Epoch 181/600:  30%|███       | 181/600 [39:03<1:33:34, 13.40s/it, v_num=rp_1, total_loss_train=3.12e+3, kl_local_train=106, metric_mi|status_control_train=0.208, metric_mi|zone_train=0.179, metric_mi|time_cat_train=0.172, metric_mi|mouse_train=0.141]"
     ]
    },
    {
     "name": "stdout",
     "output_type": "stream",
     "text": [
      "\r",
      "Epoch 182/600:  30%|███       | 181/600 [39:03<1:33:34, 13.40s/it, v_num=rp_1, total_loss_train=3.12e+3, kl_local_train=106, metric_mi|status_control_train=0.208, metric_mi|zone_train=0.179, metric_mi|time_cat_train=0.172, metric_mi|mouse_train=0.141]"
     ]
    },
    {
     "name": "stdout",
     "output_type": "stream",
     "text": [
      "\r",
      "Epoch 182/600:  30%|███       | 182/600 [39:16<1:32:07, 13.22s/it, v_num=rp_1, total_loss_train=3.12e+3, kl_local_train=106, metric_mi|status_control_train=0.208, metric_mi|zone_train=0.179, metric_mi|time_cat_train=0.172, metric_mi|mouse_train=0.141]"
     ]
    },
    {
     "name": "stdout",
     "output_type": "stream",
     "text": [
      "\r",
      "Epoch 182/600:  30%|███       | 182/600 [39:16<1:32:07, 13.22s/it, v_num=rp_1, total_loss_train=3.12e+3, kl_local_train=106, metric_mi|status_control_train=0.208, metric_mi|zone_train=0.179, metric_mi|time_cat_train=0.172, metric_mi|mouse_train=0.141]"
     ]
    },
    {
     "name": "stdout",
     "output_type": "stream",
     "text": [
      "\r",
      "Epoch 183/600:  30%|███       | 182/600 [39:16<1:32:07, 13.22s/it, v_num=rp_1, total_loss_train=3.12e+3, kl_local_train=106, metric_mi|status_control_train=0.208, metric_mi|zone_train=0.179, metric_mi|time_cat_train=0.172, metric_mi|mouse_train=0.141]"
     ]
    },
    {
     "name": "stdout",
     "output_type": "stream",
     "text": [
      "\r",
      "Epoch 183/600:  30%|███       | 183/600 [39:29<1:30:57, 13.09s/it, v_num=rp_1, total_loss_train=3.12e+3, kl_local_train=106, metric_mi|status_control_train=0.208, metric_mi|zone_train=0.179, metric_mi|time_cat_train=0.172, metric_mi|mouse_train=0.141]"
     ]
    },
    {
     "name": "stdout",
     "output_type": "stream",
     "text": [
      "\r",
      "Epoch 183/600:  30%|███       | 183/600 [39:29<1:30:57, 13.09s/it, v_num=rp_1, total_loss_train=3.12e+3, kl_local_train=105, metric_mi|status_control_train=0.208, metric_mi|zone_train=0.179, metric_mi|time_cat_train=0.172, metric_mi|mouse_train=0.141]"
     ]
    },
    {
     "name": "stdout",
     "output_type": "stream",
     "text": [
      "\r",
      "Epoch 184/600:  30%|███       | 183/600 [39:29<1:30:57, 13.09s/it, v_num=rp_1, total_loss_train=3.12e+3, kl_local_train=105, metric_mi|status_control_train=0.208, metric_mi|zone_train=0.179, metric_mi|time_cat_train=0.172, metric_mi|mouse_train=0.141]"
     ]
    },
    {
     "name": "stdout",
     "output_type": "stream",
     "text": [
      "\r",
      "Epoch 184/600:  31%|███       | 184/600 [39:41<1:29:22, 12.89s/it, v_num=rp_1, total_loss_train=3.12e+3, kl_local_train=105, metric_mi|status_control_train=0.208, metric_mi|zone_train=0.179, metric_mi|time_cat_train=0.172, metric_mi|mouse_train=0.141]"
     ]
    },
    {
     "name": "stdout",
     "output_type": "stream",
     "text": [
      "\r",
      "Epoch 184/600:  31%|███       | 184/600 [39:41<1:29:22, 12.89s/it, v_num=rp_1, total_loss_train=3.12e+3, kl_local_train=105, metric_mi|status_control_train=0.208, metric_mi|zone_train=0.179, metric_mi|time_cat_train=0.172, metric_mi|mouse_train=0.141]"
     ]
    },
    {
     "name": "stdout",
     "output_type": "stream",
     "text": [
      "\r",
      "Epoch 185/600:  31%|███       | 184/600 [39:41<1:29:22, 12.89s/it, v_num=rp_1, total_loss_train=3.12e+3, kl_local_train=105, metric_mi|status_control_train=0.208, metric_mi|zone_train=0.179, metric_mi|time_cat_train=0.172, metric_mi|mouse_train=0.141]"
     ]
    },
    {
     "name": "stdout",
     "output_type": "stream",
     "text": [
      "\r",
      "Epoch 185/600:  31%|███       | 185/600 [39:54<1:29:43, 12.97s/it, v_num=rp_1, total_loss_train=3.12e+3, kl_local_train=105, metric_mi|status_control_train=0.208, metric_mi|zone_train=0.179, metric_mi|time_cat_train=0.172, metric_mi|mouse_train=0.141]"
     ]
    },
    {
     "name": "stdout",
     "output_type": "stream",
     "text": [
      "\r",
      "Epoch 185/600:  31%|███       | 185/600 [39:54<1:29:43, 12.97s/it, v_num=rp_1, total_loss_train=3.12e+3, kl_local_train=104, metric_mi|status_control_train=0.208, metric_mi|zone_train=0.179, metric_mi|time_cat_train=0.172, metric_mi|mouse_train=0.141]"
     ]
    },
    {
     "name": "stdout",
     "output_type": "stream",
     "text": [
      "\r",
      "Epoch 186/600:  31%|███       | 185/600 [39:56<1:29:43, 12.97s/it, v_num=rp_1, total_loss_train=3.12e+3, kl_local_train=104, metric_mi|status_control_train=0.208, metric_mi|zone_train=0.179, metric_mi|time_cat_train=0.172, metric_mi|mouse_train=0.141]"
     ]
    },
    {
     "name": "stdout",
     "output_type": "stream",
     "text": [
      "\r",
      "Epoch 186/600:  31%|███       | 186/600 [40:08<1:31:50, 13.31s/it, v_num=rp_1, total_loss_train=3.12e+3, kl_local_train=104, metric_mi|status_control_train=0.208, metric_mi|zone_train=0.179, metric_mi|time_cat_train=0.172, metric_mi|mouse_train=0.141]"
     ]
    },
    {
     "name": "stdout",
     "output_type": "stream",
     "text": [
      "\r",
      "Epoch 186/600:  31%|███       | 186/600 [40:08<1:31:50, 13.31s/it, v_num=rp_1, total_loss_train=3.12e+3, kl_local_train=104, metric_mi|status_control_train=0.215, metric_mi|zone_train=0.179, metric_mi|time_cat_train=0.171, metric_mi|mouse_train=0.14] "
     ]
    },
    {
     "name": "stdout",
     "output_type": "stream",
     "text": [
      "\r",
      "Epoch 187/600:  31%|███       | 186/600 [40:08<1:31:50, 13.31s/it, v_num=rp_1, total_loss_train=3.12e+3, kl_local_train=104, metric_mi|status_control_train=0.215, metric_mi|zone_train=0.179, metric_mi|time_cat_train=0.171, metric_mi|mouse_train=0.14]"
     ]
    },
    {
     "name": "stdout",
     "output_type": "stream",
     "text": [
      "\r",
      "Epoch 187/600:  31%|███       | 187/600 [40:21<1:30:01, 13.08s/it, v_num=rp_1, total_loss_train=3.12e+3, kl_local_train=104, metric_mi|status_control_train=0.215, metric_mi|zone_train=0.179, metric_mi|time_cat_train=0.171, metric_mi|mouse_train=0.14]"
     ]
    },
    {
     "name": "stdout",
     "output_type": "stream",
     "text": [
      "\r",
      "Epoch 187/600:  31%|███       | 187/600 [40:21<1:30:01, 13.08s/it, v_num=rp_1, total_loss_train=3.12e+3, kl_local_train=104, metric_mi|status_control_train=0.215, metric_mi|zone_train=0.179, metric_mi|time_cat_train=0.171, metric_mi|mouse_train=0.14]"
     ]
    },
    {
     "name": "stdout",
     "output_type": "stream",
     "text": [
      "\r",
      "Epoch 188/600:  31%|███       | 187/600 [40:21<1:30:01, 13.08s/it, v_num=rp_1, total_loss_train=3.12e+3, kl_local_train=104, metric_mi|status_control_train=0.215, metric_mi|zone_train=0.179, metric_mi|time_cat_train=0.171, metric_mi|mouse_train=0.14]"
     ]
    },
    {
     "name": "stdout",
     "output_type": "stream",
     "text": [
      "\r",
      "Epoch 188/600:  31%|███▏      | 188/600 [40:34<1:29:49, 13.08s/it, v_num=rp_1, total_loss_train=3.12e+3, kl_local_train=104, metric_mi|status_control_train=0.215, metric_mi|zone_train=0.179, metric_mi|time_cat_train=0.171, metric_mi|mouse_train=0.14]"
     ]
    },
    {
     "name": "stdout",
     "output_type": "stream",
     "text": [
      "\r",
      "Epoch 188/600:  31%|███▏      | 188/600 [40:34<1:29:49, 13.08s/it, v_num=rp_1, total_loss_train=3.12e+3, kl_local_train=104, metric_mi|status_control_train=0.215, metric_mi|zone_train=0.179, metric_mi|time_cat_train=0.171, metric_mi|mouse_train=0.14]"
     ]
    },
    {
     "name": "stdout",
     "output_type": "stream",
     "text": [
      "\r",
      "Epoch 189/600:  31%|███▏      | 188/600 [40:34<1:29:49, 13.08s/it, v_num=rp_1, total_loss_train=3.12e+3, kl_local_train=104, metric_mi|status_control_train=0.215, metric_mi|zone_train=0.179, metric_mi|time_cat_train=0.171, metric_mi|mouse_train=0.14]"
     ]
    },
    {
     "name": "stdout",
     "output_type": "stream",
     "text": [
      "\r",
      "Epoch 189/600:  32%|███▏      | 189/600 [40:47<1:29:23, 13.05s/it, v_num=rp_1, total_loss_train=3.12e+3, kl_local_train=104, metric_mi|status_control_train=0.215, metric_mi|zone_train=0.179, metric_mi|time_cat_train=0.171, metric_mi|mouse_train=0.14]"
     ]
    },
    {
     "name": "stdout",
     "output_type": "stream",
     "text": [
      "\r",
      "Epoch 189/600:  32%|███▏      | 189/600 [40:47<1:29:23, 13.05s/it, v_num=rp_1, total_loss_train=3.11e+3, kl_local_train=104, metric_mi|status_control_train=0.215, metric_mi|zone_train=0.179, metric_mi|time_cat_train=0.171, metric_mi|mouse_train=0.14]"
     ]
    },
    {
     "name": "stdout",
     "output_type": "stream",
     "text": [
      "\r",
      "Epoch 190/600:  32%|███▏      | 189/600 [40:47<1:29:23, 13.05s/it, v_num=rp_1, total_loss_train=3.11e+3, kl_local_train=104, metric_mi|status_control_train=0.215, metric_mi|zone_train=0.179, metric_mi|time_cat_train=0.171, metric_mi|mouse_train=0.14]"
     ]
    },
    {
     "name": "stdout",
     "output_type": "stream",
     "text": [
      "\r",
      "Epoch 190/600:  32%|███▏      | 190/600 [40:59<1:27:52, 12.86s/it, v_num=rp_1, total_loss_train=3.11e+3, kl_local_train=104, metric_mi|status_control_train=0.215, metric_mi|zone_train=0.179, metric_mi|time_cat_train=0.171, metric_mi|mouse_train=0.14]"
     ]
    },
    {
     "name": "stdout",
     "output_type": "stream",
     "text": [
      "\r",
      "Epoch 190/600:  32%|███▏      | 190/600 [40:59<1:27:52, 12.86s/it, v_num=rp_1, total_loss_train=3.11e+3, kl_local_train=103, metric_mi|status_control_train=0.215, metric_mi|zone_train=0.179, metric_mi|time_cat_train=0.171, metric_mi|mouse_train=0.14]"
     ]
    },
    {
     "name": "stdout",
     "output_type": "stream",
     "text": [
      "\r",
      "Epoch 191/600:  32%|███▏      | 190/600 [41:01<1:27:52, 12.86s/it, v_num=rp_1, total_loss_train=3.11e+3, kl_local_train=103, metric_mi|status_control_train=0.215, metric_mi|zone_train=0.179, metric_mi|time_cat_train=0.171, metric_mi|mouse_train=0.14]"
     ]
    },
    {
     "name": "stdout",
     "output_type": "stream",
     "text": [
      "\r",
      "Epoch 191/600:  32%|███▏      | 191/600 [41:14<1:31:07, 13.37s/it, v_num=rp_1, total_loss_train=3.11e+3, kl_local_train=103, metric_mi|status_control_train=0.215, metric_mi|zone_train=0.179, metric_mi|time_cat_train=0.171, metric_mi|mouse_train=0.14]"
     ]
    },
    {
     "name": "stdout",
     "output_type": "stream",
     "text": [
      "\r",
      "Epoch 191/600:  32%|███▏      | 191/600 [41:14<1:31:07, 13.37s/it, v_num=rp_1, total_loss_train=3.11e+3, kl_local_train=103, metric_mi|status_control_train=0.233, metric_mi|zone_train=0.178, metric_mi|time_cat_train=0.173, metric_mi|mouse_train=0.141]"
     ]
    },
    {
     "name": "stdout",
     "output_type": "stream",
     "text": [
      "\r",
      "Epoch 192/600:  32%|███▏      | 191/600 [41:14<1:31:07, 13.37s/it, v_num=rp_1, total_loss_train=3.11e+3, kl_local_train=103, metric_mi|status_control_train=0.233, metric_mi|zone_train=0.178, metric_mi|time_cat_train=0.173, metric_mi|mouse_train=0.141]"
     ]
    },
    {
     "name": "stdout",
     "output_type": "stream",
     "text": [
      "\r",
      "Epoch 192/600:  32%|███▏      | 192/600 [41:27<1:30:14, 13.27s/it, v_num=rp_1, total_loss_train=3.11e+3, kl_local_train=103, metric_mi|status_control_train=0.233, metric_mi|zone_train=0.178, metric_mi|time_cat_train=0.173, metric_mi|mouse_train=0.141]"
     ]
    },
    {
     "name": "stdout",
     "output_type": "stream",
     "text": [
      "\r",
      "Epoch 192/600:  32%|███▏      | 192/600 [41:27<1:30:14, 13.27s/it, v_num=rp_1, total_loss_train=3.11e+3, kl_local_train=103, metric_mi|status_control_train=0.233, metric_mi|zone_train=0.178, metric_mi|time_cat_train=0.173, metric_mi|mouse_train=0.141]"
     ]
    },
    {
     "name": "stdout",
     "output_type": "stream",
     "text": [
      "\r",
      "Epoch 193/600:  32%|███▏      | 192/600 [41:27<1:30:14, 13.27s/it, v_num=rp_1, total_loss_train=3.11e+3, kl_local_train=103, metric_mi|status_control_train=0.233, metric_mi|zone_train=0.178, metric_mi|time_cat_train=0.173, metric_mi|mouse_train=0.141]"
     ]
    },
    {
     "name": "stdout",
     "output_type": "stream",
     "text": [
      "\r",
      "Epoch 193/600:  32%|███▏      | 193/600 [41:40<1:29:45, 13.23s/it, v_num=rp_1, total_loss_train=3.11e+3, kl_local_train=103, metric_mi|status_control_train=0.233, metric_mi|zone_train=0.178, metric_mi|time_cat_train=0.173, metric_mi|mouse_train=0.141]"
     ]
    },
    {
     "name": "stdout",
     "output_type": "stream",
     "text": [
      "\r",
      "Epoch 193/600:  32%|███▏      | 193/600 [41:40<1:29:45, 13.23s/it, v_num=rp_1, total_loss_train=3.11e+3, kl_local_train=103, metric_mi|status_control_train=0.233, metric_mi|zone_train=0.178, metric_mi|time_cat_train=0.173, metric_mi|mouse_train=0.141]"
     ]
    },
    {
     "name": "stdout",
     "output_type": "stream",
     "text": [
      "\r",
      "Epoch 194/600:  32%|███▏      | 193/600 [41:40<1:29:45, 13.23s/it, v_num=rp_1, total_loss_train=3.11e+3, kl_local_train=103, metric_mi|status_control_train=0.233, metric_mi|zone_train=0.178, metric_mi|time_cat_train=0.173, metric_mi|mouse_train=0.141]"
     ]
    },
    {
     "name": "stdout",
     "output_type": "stream",
     "text": [
      "\r",
      "Epoch 194/600:  32%|███▏      | 194/600 [41:53<1:29:29, 13.22s/it, v_num=rp_1, total_loss_train=3.11e+3, kl_local_train=103, metric_mi|status_control_train=0.233, metric_mi|zone_train=0.178, metric_mi|time_cat_train=0.173, metric_mi|mouse_train=0.141]"
     ]
    },
    {
     "name": "stdout",
     "output_type": "stream",
     "text": [
      "\r",
      "Epoch 194/600:  32%|███▏      | 194/600 [41:53<1:29:29, 13.22s/it, v_num=rp_1, total_loss_train=3.11e+3, kl_local_train=103, metric_mi|status_control_train=0.233, metric_mi|zone_train=0.178, metric_mi|time_cat_train=0.173, metric_mi|mouse_train=0.141]"
     ]
    },
    {
     "name": "stdout",
     "output_type": "stream",
     "text": [
      "\r",
      "Epoch 195/600:  32%|███▏      | 194/600 [41:53<1:29:29, 13.22s/it, v_num=rp_1, total_loss_train=3.11e+3, kl_local_train=103, metric_mi|status_control_train=0.233, metric_mi|zone_train=0.178, metric_mi|time_cat_train=0.173, metric_mi|mouse_train=0.141]"
     ]
    },
    {
     "name": "stdout",
     "output_type": "stream",
     "text": [
      "\r",
      "Epoch 195/600:  32%|███▎      | 195/600 [42:06<1:28:59, 13.18s/it, v_num=rp_1, total_loss_train=3.11e+3, kl_local_train=103, metric_mi|status_control_train=0.233, metric_mi|zone_train=0.178, metric_mi|time_cat_train=0.173, metric_mi|mouse_train=0.141]"
     ]
    },
    {
     "name": "stdout",
     "output_type": "stream",
     "text": [
      "\r",
      "Epoch 195/600:  32%|███▎      | 195/600 [42:06<1:28:59, 13.18s/it, v_num=rp_1, total_loss_train=3.11e+3, kl_local_train=103, metric_mi|status_control_train=0.233, metric_mi|zone_train=0.178, metric_mi|time_cat_train=0.173, metric_mi|mouse_train=0.141]"
     ]
    },
    {
     "name": "stdout",
     "output_type": "stream",
     "text": [
      "\r",
      "Epoch 196/600:  32%|███▎      | 195/600 [42:08<1:28:59, 13.18s/it, v_num=rp_1, total_loss_train=3.11e+3, kl_local_train=103, metric_mi|status_control_train=0.233, metric_mi|zone_train=0.178, metric_mi|time_cat_train=0.173, metric_mi|mouse_train=0.141]"
     ]
    },
    {
     "name": "stdout",
     "output_type": "stream",
     "text": [
      "\r",
      "Epoch 196/600:  33%|███▎      | 196/600 [42:21<1:31:17, 13.56s/it, v_num=rp_1, total_loss_train=3.11e+3, kl_local_train=103, metric_mi|status_control_train=0.233, metric_mi|zone_train=0.178, metric_mi|time_cat_train=0.173, metric_mi|mouse_train=0.141]"
     ]
    },
    {
     "name": "stdout",
     "output_type": "stream",
     "text": [
      "\r",
      "Epoch 196/600:  33%|███▎      | 196/600 [42:21<1:31:17, 13.56s/it, v_num=rp_1, total_loss_train=3.11e+3, kl_local_train=103, metric_mi|status_control_train=0.228, metric_mi|zone_train=0.178, metric_mi|time_cat_train=0.167, metric_mi|mouse_train=0.138]"
     ]
    },
    {
     "name": "stdout",
     "output_type": "stream",
     "text": [
      "\r",
      "Epoch 197/600:  33%|███▎      | 196/600 [42:21<1:31:17, 13.56s/it, v_num=rp_1, total_loss_train=3.11e+3, kl_local_train=103, metric_mi|status_control_train=0.228, metric_mi|zone_train=0.178, metric_mi|time_cat_train=0.167, metric_mi|mouse_train=0.138]"
     ]
    },
    {
     "name": "stdout",
     "output_type": "stream",
     "text": [
      "\r",
      "Epoch 197/600:  33%|███▎      | 197/600 [42:34<1:30:15, 13.44s/it, v_num=rp_1, total_loss_train=3.11e+3, kl_local_train=103, metric_mi|status_control_train=0.228, metric_mi|zone_train=0.178, metric_mi|time_cat_train=0.167, metric_mi|mouse_train=0.138]"
     ]
    },
    {
     "name": "stdout",
     "output_type": "stream",
     "text": [
      "\r",
      "Epoch 197/600:  33%|███▎      | 197/600 [42:34<1:30:15, 13.44s/it, v_num=rp_1, total_loss_train=3.11e+3, kl_local_train=102, metric_mi|status_control_train=0.228, metric_mi|zone_train=0.178, metric_mi|time_cat_train=0.167, metric_mi|mouse_train=0.138]"
     ]
    },
    {
     "name": "stdout",
     "output_type": "stream",
     "text": [
      "\r",
      "Epoch 198/600:  33%|███▎      | 197/600 [42:34<1:30:15, 13.44s/it, v_num=rp_1, total_loss_train=3.11e+3, kl_local_train=102, metric_mi|status_control_train=0.228, metric_mi|zone_train=0.178, metric_mi|time_cat_train=0.167, metric_mi|mouse_train=0.138]"
     ]
    },
    {
     "name": "stdout",
     "output_type": "stream",
     "text": [
      "\r",
      "Epoch 198/600:  33%|███▎      | 198/600 [42:47<1:29:24, 13.35s/it, v_num=rp_1, total_loss_train=3.11e+3, kl_local_train=102, metric_mi|status_control_train=0.228, metric_mi|zone_train=0.178, metric_mi|time_cat_train=0.167, metric_mi|mouse_train=0.138]"
     ]
    },
    {
     "name": "stdout",
     "output_type": "stream",
     "text": [
      "\r",
      "Epoch 198/600:  33%|███▎      | 198/600 [42:47<1:29:24, 13.35s/it, v_num=rp_1, total_loss_train=3.11e+3, kl_local_train=102, metric_mi|status_control_train=0.228, metric_mi|zone_train=0.178, metric_mi|time_cat_train=0.167, metric_mi|mouse_train=0.138]"
     ]
    },
    {
     "name": "stdout",
     "output_type": "stream",
     "text": [
      "\r",
      "Epoch 199/600:  33%|███▎      | 198/600 [42:47<1:29:24, 13.35s/it, v_num=rp_1, total_loss_train=3.11e+3, kl_local_train=102, metric_mi|status_control_train=0.228, metric_mi|zone_train=0.178, metric_mi|time_cat_train=0.167, metric_mi|mouse_train=0.138]"
     ]
    },
    {
     "name": "stdout",
     "output_type": "stream",
     "text": [
      "\r",
      "Epoch 199/600:  33%|███▎      | 199/600 [43:00<1:28:46, 13.28s/it, v_num=rp_1, total_loss_train=3.11e+3, kl_local_train=102, metric_mi|status_control_train=0.228, metric_mi|zone_train=0.178, metric_mi|time_cat_train=0.167, metric_mi|mouse_train=0.138]"
     ]
    },
    {
     "name": "stdout",
     "output_type": "stream",
     "text": [
      "\r",
      "Epoch 199/600:  33%|███▎      | 199/600 [43:00<1:28:46, 13.28s/it, v_num=rp_1, total_loss_train=3.11e+3, kl_local_train=102, metric_mi|status_control_train=0.228, metric_mi|zone_train=0.178, metric_mi|time_cat_train=0.167, metric_mi|mouse_train=0.138]"
     ]
    },
    {
     "name": "stdout",
     "output_type": "stream",
     "text": [
      "\r",
      "Epoch 200/600:  33%|███▎      | 199/600 [43:00<1:28:46, 13.28s/it, v_num=rp_1, total_loss_train=3.11e+3, kl_local_train=102, metric_mi|status_control_train=0.228, metric_mi|zone_train=0.178, metric_mi|time_cat_train=0.167, metric_mi|mouse_train=0.138]"
     ]
    },
    {
     "name": "stdout",
     "output_type": "stream",
     "text": [
      "\r",
      "Epoch 200/600:  33%|███▎      | 200/600 [43:14<1:28:47, 13.32s/it, v_num=rp_1, total_loss_train=3.11e+3, kl_local_train=102, metric_mi|status_control_train=0.228, metric_mi|zone_train=0.178, metric_mi|time_cat_train=0.167, metric_mi|mouse_train=0.138]"
     ]
    },
    {
     "name": "stdout",
     "output_type": "stream",
     "text": [
      "\r",
      "Epoch 200/600:  33%|███▎      | 200/600 [43:14<1:28:47, 13.32s/it, v_num=rp_1, total_loss_train=3.11e+3, kl_local_train=102, metric_mi|status_control_train=0.228, metric_mi|zone_train=0.178, metric_mi|time_cat_train=0.167, metric_mi|mouse_train=0.138]"
     ]
    },
    {
     "name": "stdout",
     "output_type": "stream",
     "text": [
      "\r",
      "Epoch 201/600:  33%|███▎      | 200/600 [43:15<1:28:47, 13.32s/it, v_num=rp_1, total_loss_train=3.11e+3, kl_local_train=102, metric_mi|status_control_train=0.228, metric_mi|zone_train=0.178, metric_mi|time_cat_train=0.167, metric_mi|mouse_train=0.138]"
     ]
    },
    {
     "name": "stdout",
     "output_type": "stream",
     "text": [
      "\r",
      "Epoch 201/600:  34%|███▎      | 201/600 [43:28<1:30:20, 13.59s/it, v_num=rp_1, total_loss_train=3.11e+3, kl_local_train=102, metric_mi|status_control_train=0.228, metric_mi|zone_train=0.178, metric_mi|time_cat_train=0.167, metric_mi|mouse_train=0.138]"
     ]
    },
    {
     "name": "stdout",
     "output_type": "stream",
     "text": [
      "\r",
      "Epoch 201/600:  34%|███▎      | 201/600 [43:28<1:30:20, 13.59s/it, v_num=rp_1, total_loss_train=3.11e+3, kl_local_train=102, metric_mi|status_control_train=0.216, metric_mi|zone_train=0.177, metric_mi|time_cat_train=0.16, metric_mi|mouse_train=0.134] "
     ]
    },
    {
     "name": "stdout",
     "output_type": "stream",
     "text": [
      "\r",
      "Epoch 202/600:  34%|███▎      | 201/600 [43:28<1:30:20, 13.59s/it, v_num=rp_1, total_loss_train=3.11e+3, kl_local_train=102, metric_mi|status_control_train=0.216, metric_mi|zone_train=0.177, metric_mi|time_cat_train=0.16, metric_mi|mouse_train=0.134]"
     ]
    },
    {
     "name": "stdout",
     "output_type": "stream",
     "text": [
      "\r",
      "Epoch 202/600:  34%|███▎      | 202/600 [43:41<1:28:41, 13.37s/it, v_num=rp_1, total_loss_train=3.11e+3, kl_local_train=102, metric_mi|status_control_train=0.216, metric_mi|zone_train=0.177, metric_mi|time_cat_train=0.16, metric_mi|mouse_train=0.134]"
     ]
    },
    {
     "name": "stdout",
     "output_type": "stream",
     "text": [
      "\r",
      "Epoch 202/600:  34%|███▎      | 202/600 [43:41<1:28:41, 13.37s/it, v_num=rp_1, total_loss_train=3.11e+3, kl_local_train=101, metric_mi|status_control_train=0.216, metric_mi|zone_train=0.177, metric_mi|time_cat_train=0.16, metric_mi|mouse_train=0.134]"
     ]
    },
    {
     "name": "stdout",
     "output_type": "stream",
     "text": [
      "\r",
      "Epoch 203/600:  34%|███▎      | 202/600 [43:41<1:28:41, 13.37s/it, v_num=rp_1, total_loss_train=3.11e+3, kl_local_train=101, metric_mi|status_control_train=0.216, metric_mi|zone_train=0.177, metric_mi|time_cat_train=0.16, metric_mi|mouse_train=0.134]"
     ]
    },
    {
     "name": "stdout",
     "output_type": "stream",
     "text": [
      "\r",
      "Epoch 203/600:  34%|███▍      | 203/600 [43:54<1:27:31, 13.23s/it, v_num=rp_1, total_loss_train=3.11e+3, kl_local_train=101, metric_mi|status_control_train=0.216, metric_mi|zone_train=0.177, metric_mi|time_cat_train=0.16, metric_mi|mouse_train=0.134]"
     ]
    },
    {
     "name": "stdout",
     "output_type": "stream",
     "text": [
      "\r",
      "Epoch 203/600:  34%|███▍      | 203/600 [43:54<1:27:31, 13.23s/it, v_num=rp_1, total_loss_train=3.11e+3, kl_local_train=102, metric_mi|status_control_train=0.216, metric_mi|zone_train=0.177, metric_mi|time_cat_train=0.16, metric_mi|mouse_train=0.134]"
     ]
    },
    {
     "name": "stdout",
     "output_type": "stream",
     "text": [
      "\r",
      "Epoch 204/600:  34%|███▍      | 203/600 [43:54<1:27:31, 13.23s/it, v_num=rp_1, total_loss_train=3.11e+3, kl_local_train=102, metric_mi|status_control_train=0.216, metric_mi|zone_train=0.177, metric_mi|time_cat_train=0.16, metric_mi|mouse_train=0.134]"
     ]
    },
    {
     "name": "stdout",
     "output_type": "stream",
     "text": [
      "\r",
      "Epoch 204/600:  34%|███▍      | 204/600 [44:06<1:26:28, 13.10s/it, v_num=rp_1, total_loss_train=3.11e+3, kl_local_train=102, metric_mi|status_control_train=0.216, metric_mi|zone_train=0.177, metric_mi|time_cat_train=0.16, metric_mi|mouse_train=0.134]"
     ]
    },
    {
     "name": "stdout",
     "output_type": "stream",
     "text": [
      "\r",
      "Epoch 204/600:  34%|███▍      | 204/600 [44:06<1:26:28, 13.10s/it, v_num=rp_1, total_loss_train=3.11e+3, kl_local_train=101, metric_mi|status_control_train=0.216, metric_mi|zone_train=0.177, metric_mi|time_cat_train=0.16, metric_mi|mouse_train=0.134]"
     ]
    },
    {
     "name": "stdout",
     "output_type": "stream",
     "text": [
      "\r",
      "Epoch 205/600:  34%|███▍      | 204/600 [44:06<1:26:28, 13.10s/it, v_num=rp_1, total_loss_train=3.11e+3, kl_local_train=101, metric_mi|status_control_train=0.216, metric_mi|zone_train=0.177, metric_mi|time_cat_train=0.16, metric_mi|mouse_train=0.134]"
     ]
    },
    {
     "name": "stdout",
     "output_type": "stream",
     "text": [
      "\r",
      "Epoch 205/600:  34%|███▍      | 205/600 [44:19<1:25:59, 13.06s/it, v_num=rp_1, total_loss_train=3.11e+3, kl_local_train=101, metric_mi|status_control_train=0.216, metric_mi|zone_train=0.177, metric_mi|time_cat_train=0.16, metric_mi|mouse_train=0.134]"
     ]
    },
    {
     "name": "stdout",
     "output_type": "stream",
     "text": [
      "\r",
      "Epoch 205/600:  34%|███▍      | 205/600 [44:19<1:25:59, 13.06s/it, v_num=rp_1, total_loss_train=3.11e+3, kl_local_train=101, metric_mi|status_control_train=0.216, metric_mi|zone_train=0.177, metric_mi|time_cat_train=0.16, metric_mi|mouse_train=0.134]"
     ]
    },
    {
     "name": "stdout",
     "output_type": "stream",
     "text": [
      "\r",
      "Epoch 206/600:  34%|███▍      | 205/600 [44:21<1:25:59, 13.06s/it, v_num=rp_1, total_loss_train=3.11e+3, kl_local_train=101, metric_mi|status_control_train=0.216, metric_mi|zone_train=0.177, metric_mi|time_cat_train=0.16, metric_mi|mouse_train=0.134]"
     ]
    },
    {
     "name": "stdout",
     "output_type": "stream",
     "text": [
      "\r",
      "Epoch 206/600:  34%|███▍      | 206/600 [44:34<1:27:56, 13.39s/it, v_num=rp_1, total_loss_train=3.11e+3, kl_local_train=101, metric_mi|status_control_train=0.216, metric_mi|zone_train=0.177, metric_mi|time_cat_train=0.16, metric_mi|mouse_train=0.134]"
     ]
    },
    {
     "name": "stdout",
     "output_type": "stream",
     "text": [
      "\r",
      "Epoch 206/600:  34%|███▍      | 206/600 [44:34<1:27:56, 13.39s/it, v_num=rp_1, total_loss_train=3.11e+3, kl_local_train=100, metric_mi|status_control_train=0.212, metric_mi|zone_train=0.178, metric_mi|time_cat_train=0.162, metric_mi|mouse_train=0.134]"
     ]
    },
    {
     "name": "stdout",
     "output_type": "stream",
     "text": [
      "\r",
      "Epoch 207/600:  34%|███▍      | 206/600 [44:34<1:27:56, 13.39s/it, v_num=rp_1, total_loss_train=3.11e+3, kl_local_train=100, metric_mi|status_control_train=0.212, metric_mi|zone_train=0.178, metric_mi|time_cat_train=0.162, metric_mi|mouse_train=0.134]"
     ]
    },
    {
     "name": "stdout",
     "output_type": "stream",
     "text": [
      "\r",
      "Epoch 207/600:  34%|███▍      | 207/600 [44:46<1:25:54, 13.11s/it, v_num=rp_1, total_loss_train=3.11e+3, kl_local_train=100, metric_mi|status_control_train=0.212, metric_mi|zone_train=0.178, metric_mi|time_cat_train=0.162, metric_mi|mouse_train=0.134]"
     ]
    },
    {
     "name": "stdout",
     "output_type": "stream",
     "text": [
      "\r",
      "Epoch 207/600:  34%|███▍      | 207/600 [44:46<1:25:54, 13.11s/it, v_num=rp_1, total_loss_train=3.11e+3, kl_local_train=100, metric_mi|status_control_train=0.212, metric_mi|zone_train=0.178, metric_mi|time_cat_train=0.162, metric_mi|mouse_train=0.134]"
     ]
    },
    {
     "name": "stdout",
     "output_type": "stream",
     "text": [
      "\r",
      "Epoch 208/600:  34%|███▍      | 207/600 [44:46<1:25:54, 13.11s/it, v_num=rp_1, total_loss_train=3.11e+3, kl_local_train=100, metric_mi|status_control_train=0.212, metric_mi|zone_train=0.178, metric_mi|time_cat_train=0.162, metric_mi|mouse_train=0.134]"
     ]
    },
    {
     "name": "stdout",
     "output_type": "stream",
     "text": [
      "\r",
      "Epoch 208/600:  35%|███▍      | 208/600 [44:59<1:25:09, 13.04s/it, v_num=rp_1, total_loss_train=3.11e+3, kl_local_train=100, metric_mi|status_control_train=0.212, metric_mi|zone_train=0.178, metric_mi|time_cat_train=0.162, metric_mi|mouse_train=0.134]"
     ]
    },
    {
     "name": "stdout",
     "output_type": "stream",
     "text": [
      "\r",
      "Epoch 208/600:  35%|███▍      | 208/600 [44:59<1:25:09, 13.04s/it, v_num=rp_1, total_loss_train=3.11e+3, kl_local_train=100, metric_mi|status_control_train=0.212, metric_mi|zone_train=0.178, metric_mi|time_cat_train=0.162, metric_mi|mouse_train=0.134]"
     ]
    },
    {
     "name": "stdout",
     "output_type": "stream",
     "text": [
      "\r",
      "Epoch 209/600:  35%|███▍      | 208/600 [44:59<1:25:09, 13.04s/it, v_num=rp_1, total_loss_train=3.11e+3, kl_local_train=100, metric_mi|status_control_train=0.212, metric_mi|zone_train=0.178, metric_mi|time_cat_train=0.162, metric_mi|mouse_train=0.134]"
     ]
    },
    {
     "name": "stdout",
     "output_type": "stream",
     "text": [
      "\r",
      "Epoch 209/600:  35%|███▍      | 209/600 [45:12<1:24:37, 12.99s/it, v_num=rp_1, total_loss_train=3.11e+3, kl_local_train=100, metric_mi|status_control_train=0.212, metric_mi|zone_train=0.178, metric_mi|time_cat_train=0.162, metric_mi|mouse_train=0.134]"
     ]
    },
    {
     "name": "stdout",
     "output_type": "stream",
     "text": [
      "\r",
      "Epoch 209/600:  35%|███▍      | 209/600 [45:12<1:24:37, 12.99s/it, v_num=rp_1, total_loss_train=3.11e+3, kl_local_train=100, metric_mi|status_control_train=0.212, metric_mi|zone_train=0.178, metric_mi|time_cat_train=0.162, metric_mi|mouse_train=0.134]"
     ]
    },
    {
     "name": "stdout",
     "output_type": "stream",
     "text": [
      "\r",
      "Epoch 210/600:  35%|███▍      | 209/600 [45:12<1:24:37, 12.99s/it, v_num=rp_1, total_loss_train=3.11e+3, kl_local_train=100, metric_mi|status_control_train=0.212, metric_mi|zone_train=0.178, metric_mi|time_cat_train=0.162, metric_mi|mouse_train=0.134]"
     ]
    },
    {
     "name": "stdout",
     "output_type": "stream",
     "text": [
      "\r",
      "Epoch 210/600:  35%|███▌      | 210/600 [45:25<1:24:04, 12.93s/it, v_num=rp_1, total_loss_train=3.11e+3, kl_local_train=100, metric_mi|status_control_train=0.212, metric_mi|zone_train=0.178, metric_mi|time_cat_train=0.162, metric_mi|mouse_train=0.134]"
     ]
    },
    {
     "name": "stdout",
     "output_type": "stream",
     "text": [
      "\r",
      "Epoch 210/600:  35%|███▌      | 210/600 [45:25<1:24:04, 12.93s/it, v_num=rp_1, total_loss_train=3.11e+3, kl_local_train=99.6, metric_mi|status_control_train=0.212, metric_mi|zone_train=0.178, metric_mi|time_cat_train=0.162, metric_mi|mouse_train=0.134]"
     ]
    },
    {
     "name": "stdout",
     "output_type": "stream",
     "text": [
      "\r",
      "Epoch 211/600:  35%|███▌      | 210/600 [45:26<1:24:04, 12.93s/it, v_num=rp_1, total_loss_train=3.11e+3, kl_local_train=99.6, metric_mi|status_control_train=0.212, metric_mi|zone_train=0.178, metric_mi|time_cat_train=0.162, metric_mi|mouse_train=0.134]"
     ]
    },
    {
     "name": "stdout",
     "output_type": "stream",
     "text": [
      "\r",
      "Epoch 211/600:  35%|███▌      | 211/600 [45:39<1:26:16, 13.31s/it, v_num=rp_1, total_loss_train=3.11e+3, kl_local_train=99.6, metric_mi|status_control_train=0.212, metric_mi|zone_train=0.178, metric_mi|time_cat_train=0.162, metric_mi|mouse_train=0.134]"
     ]
    },
    {
     "name": "stdout",
     "output_type": "stream",
     "text": [
      "\r",
      "Epoch 211/600:  35%|███▌      | 211/600 [45:39<1:26:16, 13.31s/it, v_num=rp_1, total_loss_train=3.1e+3, kl_local_train=99.7, metric_mi|status_control_train=0.213, metric_mi|zone_train=0.177, metric_mi|time_cat_train=0.162, metric_mi|mouse_train=0.135] "
     ]
    },
    {
     "name": "stdout",
     "output_type": "stream",
     "text": [
      "\r",
      "Epoch 212/600:  35%|███▌      | 211/600 [45:39<1:26:16, 13.31s/it, v_num=rp_1, total_loss_train=3.1e+3, kl_local_train=99.7, metric_mi|status_control_train=0.213, metric_mi|zone_train=0.177, metric_mi|time_cat_train=0.162, metric_mi|mouse_train=0.135]"
     ]
    },
    {
     "name": "stdout",
     "output_type": "stream",
     "text": [
      "\r",
      "Epoch 212/600:  35%|███▌      | 212/600 [45:54<1:29:35, 13.85s/it, v_num=rp_1, total_loss_train=3.1e+3, kl_local_train=99.7, metric_mi|status_control_train=0.213, metric_mi|zone_train=0.177, metric_mi|time_cat_train=0.162, metric_mi|mouse_train=0.135]"
     ]
    },
    {
     "name": "stdout",
     "output_type": "stream",
     "text": [
      "\r",
      "Epoch 212/600:  35%|███▌      | 212/600 [45:54<1:29:35, 13.85s/it, v_num=rp_1, total_loss_train=3.1e+3, kl_local_train=99.2, metric_mi|status_control_train=0.213, metric_mi|zone_train=0.177, metric_mi|time_cat_train=0.162, metric_mi|mouse_train=0.135]"
     ]
    },
    {
     "name": "stdout",
     "output_type": "stream",
     "text": [
      "\r",
      "Epoch 213/600:  35%|███▌      | 212/600 [45:54<1:29:35, 13.85s/it, v_num=rp_1, total_loss_train=3.1e+3, kl_local_train=99.2, metric_mi|status_control_train=0.213, metric_mi|zone_train=0.177, metric_mi|time_cat_train=0.162, metric_mi|mouse_train=0.135]"
     ]
    },
    {
     "name": "stdout",
     "output_type": "stream",
     "text": [
      "\r",
      "Epoch 213/600:  36%|███▌      | 213/600 [46:09<1:31:56, 14.26s/it, v_num=rp_1, total_loss_train=3.1e+3, kl_local_train=99.2, metric_mi|status_control_train=0.213, metric_mi|zone_train=0.177, metric_mi|time_cat_train=0.162, metric_mi|mouse_train=0.135]"
     ]
    },
    {
     "name": "stdout",
     "output_type": "stream",
     "text": [
      "\r",
      "Epoch 213/600:  36%|███▌      | 213/600 [46:09<1:31:56, 14.26s/it, v_num=rp_1, total_loss_train=3.1e+3, kl_local_train=99.5, metric_mi|status_control_train=0.213, metric_mi|zone_train=0.177, metric_mi|time_cat_train=0.162, metric_mi|mouse_train=0.135]"
     ]
    },
    {
     "name": "stdout",
     "output_type": "stream",
     "text": [
      "\r",
      "Epoch 214/600:  36%|███▌      | 213/600 [46:09<1:31:56, 14.26s/it, v_num=rp_1, total_loss_train=3.1e+3, kl_local_train=99.5, metric_mi|status_control_train=0.213, metric_mi|zone_train=0.177, metric_mi|time_cat_train=0.162, metric_mi|mouse_train=0.135]"
     ]
    },
    {
     "name": "stdout",
     "output_type": "stream",
     "text": [
      "\r",
      "Epoch 214/600:  36%|███▌      | 214/600 [46:25<1:34:08, 14.63s/it, v_num=rp_1, total_loss_train=3.1e+3, kl_local_train=99.5, metric_mi|status_control_train=0.213, metric_mi|zone_train=0.177, metric_mi|time_cat_train=0.162, metric_mi|mouse_train=0.135]"
     ]
    },
    {
     "name": "stdout",
     "output_type": "stream",
     "text": [
      "\r",
      "Epoch 214/600:  36%|███▌      | 214/600 [46:25<1:34:08, 14.63s/it, v_num=rp_1, total_loss_train=3.1e+3, kl_local_train=99.5, metric_mi|status_control_train=0.213, metric_mi|zone_train=0.177, metric_mi|time_cat_train=0.162, metric_mi|mouse_train=0.135]"
     ]
    },
    {
     "name": "stdout",
     "output_type": "stream",
     "text": [
      "\r",
      "Epoch 215/600:  36%|███▌      | 214/600 [46:25<1:34:08, 14.63s/it, v_num=rp_1, total_loss_train=3.1e+3, kl_local_train=99.5, metric_mi|status_control_train=0.213, metric_mi|zone_train=0.177, metric_mi|time_cat_train=0.162, metric_mi|mouse_train=0.135]"
     ]
    },
    {
     "name": "stdout",
     "output_type": "stream",
     "text": [
      "\r",
      "Epoch 215/600:  36%|███▌      | 215/600 [46:39<1:34:31, 14.73s/it, v_num=rp_1, total_loss_train=3.1e+3, kl_local_train=99.5, metric_mi|status_control_train=0.213, metric_mi|zone_train=0.177, metric_mi|time_cat_train=0.162, metric_mi|mouse_train=0.135]"
     ]
    },
    {
     "name": "stdout",
     "output_type": "stream",
     "text": [
      "\r",
      "Epoch 215/600:  36%|███▌      | 215/600 [46:40<1:34:31, 14.73s/it, v_num=rp_1, total_loss_train=3.1e+3, kl_local_train=99.4, metric_mi|status_control_train=0.213, metric_mi|zone_train=0.177, metric_mi|time_cat_train=0.162, metric_mi|mouse_train=0.135]"
     ]
    },
    {
     "name": "stdout",
     "output_type": "stream",
     "text": [
      "\r",
      "Epoch 216/600:  36%|███▌      | 215/600 [46:41<1:34:31, 14.73s/it, v_num=rp_1, total_loss_train=3.1e+3, kl_local_train=99.4, metric_mi|status_control_train=0.213, metric_mi|zone_train=0.177, metric_mi|time_cat_train=0.162, metric_mi|mouse_train=0.135]"
     ]
    },
    {
     "name": "stdout",
     "output_type": "stream",
     "text": [
      "\r",
      "Epoch 216/600:  36%|███▌      | 216/600 [46:56<1:37:55, 15.30s/it, v_num=rp_1, total_loss_train=3.1e+3, kl_local_train=99.4, metric_mi|status_control_train=0.213, metric_mi|zone_train=0.177, metric_mi|time_cat_train=0.162, metric_mi|mouse_train=0.135]"
     ]
    },
    {
     "name": "stdout",
     "output_type": "stream",
     "text": [
      "\r",
      "Epoch 216/600:  36%|███▌      | 216/600 [46:56<1:37:55, 15.30s/it, v_num=rp_1, total_loss_train=3.1e+3, kl_local_train=98.9, metric_mi|status_control_train=0.214, metric_mi|zone_train=0.177, metric_mi|time_cat_train=0.156, metric_mi|mouse_train=0.131]"
     ]
    },
    {
     "name": "stdout",
     "output_type": "stream",
     "text": [
      "\r",
      "Epoch 217/600:  36%|███▌      | 216/600 [46:56<1:37:55, 15.30s/it, v_num=rp_1, total_loss_train=3.1e+3, kl_local_train=98.9, metric_mi|status_control_train=0.214, metric_mi|zone_train=0.177, metric_mi|time_cat_train=0.156, metric_mi|mouse_train=0.131]"
     ]
    },
    {
     "name": "stdout",
     "output_type": "stream",
     "text": [
      "\r",
      "Epoch 217/600:  36%|███▌      | 217/600 [47:11<1:37:25, 15.26s/it, v_num=rp_1, total_loss_train=3.1e+3, kl_local_train=98.9, metric_mi|status_control_train=0.214, metric_mi|zone_train=0.177, metric_mi|time_cat_train=0.156, metric_mi|mouse_train=0.131]"
     ]
    },
    {
     "name": "stdout",
     "output_type": "stream",
     "text": [
      "\r",
      "Epoch 217/600:  36%|███▌      | 217/600 [47:11<1:37:25, 15.26s/it, v_num=rp_1, total_loss_train=3.1e+3, kl_local_train=98.6, metric_mi|status_control_train=0.214, metric_mi|zone_train=0.177, metric_mi|time_cat_train=0.156, metric_mi|mouse_train=0.131]"
     ]
    },
    {
     "name": "stdout",
     "output_type": "stream",
     "text": [
      "\r",
      "Epoch 218/600:  36%|███▌      | 217/600 [47:11<1:37:25, 15.26s/it, v_num=rp_1, total_loss_train=3.1e+3, kl_local_train=98.6, metric_mi|status_control_train=0.214, metric_mi|zone_train=0.177, metric_mi|time_cat_train=0.156, metric_mi|mouse_train=0.131]"
     ]
    },
    {
     "name": "stdout",
     "output_type": "stream",
     "text": [
      "\r",
      "Epoch 218/600:  36%|███▋      | 218/600 [47:26<1:36:54, 15.22s/it, v_num=rp_1, total_loss_train=3.1e+3, kl_local_train=98.6, metric_mi|status_control_train=0.214, metric_mi|zone_train=0.177, metric_mi|time_cat_train=0.156, metric_mi|mouse_train=0.131]"
     ]
    },
    {
     "name": "stdout",
     "output_type": "stream",
     "text": [
      "\r",
      "Epoch 218/600:  36%|███▋      | 218/600 [47:26<1:36:54, 15.22s/it, v_num=rp_1, total_loss_train=3.1e+3, kl_local_train=98.4, metric_mi|status_control_train=0.214, metric_mi|zone_train=0.177, metric_mi|time_cat_train=0.156, metric_mi|mouse_train=0.131]"
     ]
    },
    {
     "name": "stdout",
     "output_type": "stream",
     "text": [
      "\r",
      "Epoch 219/600:  36%|███▋      | 218/600 [47:26<1:36:54, 15.22s/it, v_num=rp_1, total_loss_train=3.1e+3, kl_local_train=98.4, metric_mi|status_control_train=0.214, metric_mi|zone_train=0.177, metric_mi|time_cat_train=0.156, metric_mi|mouse_train=0.131]"
     ]
    },
    {
     "name": "stdout",
     "output_type": "stream",
     "text": [
      "\r",
      "Epoch 219/600:  36%|███▋      | 219/600 [47:42<1:36:30, 15.20s/it, v_num=rp_1, total_loss_train=3.1e+3, kl_local_train=98.4, metric_mi|status_control_train=0.214, metric_mi|zone_train=0.177, metric_mi|time_cat_train=0.156, metric_mi|mouse_train=0.131]"
     ]
    },
    {
     "name": "stdout",
     "output_type": "stream",
     "text": [
      "\r",
      "Epoch 219/600:  36%|███▋      | 219/600 [47:42<1:36:30, 15.20s/it, v_num=rp_1, total_loss_train=3.1e+3, kl_local_train=99, metric_mi|status_control_train=0.214, metric_mi|zone_train=0.177, metric_mi|time_cat_train=0.156, metric_mi|mouse_train=0.131]  "
     ]
    },
    {
     "name": "stdout",
     "output_type": "stream",
     "text": [
      "\r",
      "Epoch 220/600:  36%|███▋      | 219/600 [47:42<1:36:30, 15.20s/it, v_num=rp_1, total_loss_train=3.1e+3, kl_local_train=99, metric_mi|status_control_train=0.214, metric_mi|zone_train=0.177, metric_mi|time_cat_train=0.156, metric_mi|mouse_train=0.131]"
     ]
    },
    {
     "name": "stdout",
     "output_type": "stream",
     "text": [
      "\r",
      "Epoch 220/600:  37%|███▋      | 220/600 [47:57<1:36:24, 15.22s/it, v_num=rp_1, total_loss_train=3.1e+3, kl_local_train=99, metric_mi|status_control_train=0.214, metric_mi|zone_train=0.177, metric_mi|time_cat_train=0.156, metric_mi|mouse_train=0.131]"
     ]
    },
    {
     "name": "stdout",
     "output_type": "stream",
     "text": [
      "\r",
      "Epoch 220/600:  37%|███▋      | 220/600 [47:57<1:36:24, 15.22s/it, v_num=rp_1, total_loss_train=3.1e+3, kl_local_train=98.3, metric_mi|status_control_train=0.214, metric_mi|zone_train=0.177, metric_mi|time_cat_train=0.156, metric_mi|mouse_train=0.131]"
     ]
    },
    {
     "name": "stdout",
     "output_type": "stream",
     "text": [
      "\r",
      "Epoch 221/600:  37%|███▋      | 220/600 [47:58<1:36:24, 15.22s/it, v_num=rp_1, total_loss_train=3.1e+3, kl_local_train=98.3, metric_mi|status_control_train=0.214, metric_mi|zone_train=0.177, metric_mi|time_cat_train=0.156, metric_mi|mouse_train=0.131]"
     ]
    },
    {
     "name": "stdout",
     "output_type": "stream",
     "text": [
      "\r",
      "Epoch 221/600:  37%|███▋      | 221/600 [48:14<1:38:54, 15.66s/it, v_num=rp_1, total_loss_train=3.1e+3, kl_local_train=98.3, metric_mi|status_control_train=0.214, metric_mi|zone_train=0.177, metric_mi|time_cat_train=0.156, metric_mi|mouse_train=0.131]"
     ]
    },
    {
     "name": "stdout",
     "output_type": "stream",
     "text": [
      "\r",
      "Epoch 221/600:  37%|███▋      | 221/600 [48:14<1:38:54, 15.66s/it, v_num=rp_1, total_loss_train=3.1e+3, kl_local_train=98.3, metric_mi|status_control_train=0.214, metric_mi|zone_train=0.177, metric_mi|time_cat_train=0.16, metric_mi|mouse_train=0.133] "
     ]
    },
    {
     "name": "stdout",
     "output_type": "stream",
     "text": [
      "\r",
      "Epoch 222/600:  37%|███▋      | 221/600 [48:14<1:38:54, 15.66s/it, v_num=rp_1, total_loss_train=3.1e+3, kl_local_train=98.3, metric_mi|status_control_train=0.214, metric_mi|zone_train=0.177, metric_mi|time_cat_train=0.16, metric_mi|mouse_train=0.133]"
     ]
    },
    {
     "name": "stdout",
     "output_type": "stream",
     "text": [
      "\r",
      "Epoch 222/600:  37%|███▋      | 222/600 [48:29<1:38:02, 15.56s/it, v_num=rp_1, total_loss_train=3.1e+3, kl_local_train=98.3, metric_mi|status_control_train=0.214, metric_mi|zone_train=0.177, metric_mi|time_cat_train=0.16, metric_mi|mouse_train=0.133]"
     ]
    },
    {
     "name": "stdout",
     "output_type": "stream",
     "text": [
      "\r",
      "Epoch 222/600:  37%|███▋      | 222/600 [48:29<1:38:02, 15.56s/it, v_num=rp_1, total_loss_train=3.1e+3, kl_local_train=98, metric_mi|status_control_train=0.214, metric_mi|zone_train=0.177, metric_mi|time_cat_train=0.16, metric_mi|mouse_train=0.133]  "
     ]
    },
    {
     "name": "stdout",
     "output_type": "stream",
     "text": [
      "\r",
      "Epoch 223/600:  37%|███▋      | 222/600 [48:29<1:38:02, 15.56s/it, v_num=rp_1, total_loss_train=3.1e+3, kl_local_train=98, metric_mi|status_control_train=0.214, metric_mi|zone_train=0.177, metric_mi|time_cat_train=0.16, metric_mi|mouse_train=0.133]"
     ]
    },
    {
     "name": "stdout",
     "output_type": "stream",
     "text": [
      "\r",
      "Epoch 223/600:  37%|███▋      | 223/600 [48:44<1:37:12, 15.47s/it, v_num=rp_1, total_loss_train=3.1e+3, kl_local_train=98, metric_mi|status_control_train=0.214, metric_mi|zone_train=0.177, metric_mi|time_cat_train=0.16, metric_mi|mouse_train=0.133]"
     ]
    },
    {
     "name": "stdout",
     "output_type": "stream",
     "text": [
      "\r",
      "Epoch 223/600:  37%|███▋      | 223/600 [48:44<1:37:12, 15.47s/it, v_num=rp_1, total_loss_train=3.1e+3, kl_local_train=98.1, metric_mi|status_control_train=0.214, metric_mi|zone_train=0.177, metric_mi|time_cat_train=0.16, metric_mi|mouse_train=0.133]"
     ]
    },
    {
     "name": "stdout",
     "output_type": "stream",
     "text": [
      "\r",
      "Epoch 224/600:  37%|███▋      | 223/600 [48:44<1:37:12, 15.47s/it, v_num=rp_1, total_loss_train=3.1e+3, kl_local_train=98.1, metric_mi|status_control_train=0.214, metric_mi|zone_train=0.177, metric_mi|time_cat_train=0.16, metric_mi|mouse_train=0.133]"
     ]
    },
    {
     "name": "stdout",
     "output_type": "stream",
     "text": [
      "\r",
      "Epoch 224/600:  37%|███▋      | 224/600 [48:59<1:36:25, 15.39s/it, v_num=rp_1, total_loss_train=3.1e+3, kl_local_train=98.1, metric_mi|status_control_train=0.214, metric_mi|zone_train=0.177, metric_mi|time_cat_train=0.16, metric_mi|mouse_train=0.133]"
     ]
    },
    {
     "name": "stdout",
     "output_type": "stream",
     "text": [
      "\r",
      "Epoch 224/600:  37%|███▋      | 224/600 [48:59<1:36:25, 15.39s/it, v_num=rp_1, total_loss_train=3.1e+3, kl_local_train=97.7, metric_mi|status_control_train=0.214, metric_mi|zone_train=0.177, metric_mi|time_cat_train=0.16, metric_mi|mouse_train=0.133]"
     ]
    },
    {
     "name": "stdout",
     "output_type": "stream",
     "text": [
      "\r",
      "Epoch 225/600:  37%|███▋      | 224/600 [48:59<1:36:25, 15.39s/it, v_num=rp_1, total_loss_train=3.1e+3, kl_local_train=97.7, metric_mi|status_control_train=0.214, metric_mi|zone_train=0.177, metric_mi|time_cat_train=0.16, metric_mi|mouse_train=0.133]"
     ]
    },
    {
     "name": "stdout",
     "output_type": "stream",
     "text": [
      "\r",
      "Epoch 225/600:  38%|███▊      | 225/600 [49:15<1:35:54, 15.35s/it, v_num=rp_1, total_loss_train=3.1e+3, kl_local_train=97.7, metric_mi|status_control_train=0.214, metric_mi|zone_train=0.177, metric_mi|time_cat_train=0.16, metric_mi|mouse_train=0.133]"
     ]
    },
    {
     "name": "stdout",
     "output_type": "stream",
     "text": [
      "\r",
      "Epoch 225/600:  38%|███▊      | 225/600 [49:15<1:35:54, 15.35s/it, v_num=rp_1, total_loss_train=3.1e+3, kl_local_train=97.7, metric_mi|status_control_train=0.214, metric_mi|zone_train=0.177, metric_mi|time_cat_train=0.16, metric_mi|mouse_train=0.133]"
     ]
    },
    {
     "name": "stdout",
     "output_type": "stream",
     "text": [
      "\r",
      "Epoch 226/600:  38%|███▊      | 225/600 [49:16<1:35:54, 15.35s/it, v_num=rp_1, total_loss_train=3.1e+3, kl_local_train=97.7, metric_mi|status_control_train=0.214, metric_mi|zone_train=0.177, metric_mi|time_cat_train=0.16, metric_mi|mouse_train=0.133]"
     ]
    },
    {
     "name": "stdout",
     "output_type": "stream",
     "text": [
      "\r",
      "Epoch 226/600:  38%|███▊      | 226/600 [49:31<1:37:47, 15.69s/it, v_num=rp_1, total_loss_train=3.1e+3, kl_local_train=97.7, metric_mi|status_control_train=0.214, metric_mi|zone_train=0.177, metric_mi|time_cat_train=0.16, metric_mi|mouse_train=0.133]"
     ]
    },
    {
     "name": "stdout",
     "output_type": "stream",
     "text": [
      "\r",
      "Epoch 226/600:  38%|███▊      | 226/600 [49:31<1:37:47, 15.69s/it, v_num=rp_1, total_loss_train=3.1e+3, kl_local_train=97.3, metric_mi|status_control_train=0.208, metric_mi|zone_train=0.177, metric_mi|time_cat_train=0.164, metric_mi|mouse_train=0.136]"
     ]
    },
    {
     "name": "stdout",
     "output_type": "stream",
     "text": [
      "\r",
      "Epoch 227/600:  38%|███▊      | 226/600 [49:31<1:37:47, 15.69s/it, v_num=rp_1, total_loss_train=3.1e+3, kl_local_train=97.3, metric_mi|status_control_train=0.208, metric_mi|zone_train=0.177, metric_mi|time_cat_train=0.164, metric_mi|mouse_train=0.136]"
     ]
    },
    {
     "name": "stdout",
     "output_type": "stream",
     "text": [
      "\r",
      "Epoch 227/600:  38%|███▊      | 227/600 [49:47<1:37:13, 15.64s/it, v_num=rp_1, total_loss_train=3.1e+3, kl_local_train=97.3, metric_mi|status_control_train=0.208, metric_mi|zone_train=0.177, metric_mi|time_cat_train=0.164, metric_mi|mouse_train=0.136]"
     ]
    },
    {
     "name": "stdout",
     "output_type": "stream",
     "text": [
      "\r",
      "Epoch 227/600:  38%|███▊      | 227/600 [49:47<1:37:13, 15.64s/it, v_num=rp_1, total_loss_train=3.1e+3, kl_local_train=97.5, metric_mi|status_control_train=0.208, metric_mi|zone_train=0.177, metric_mi|time_cat_train=0.164, metric_mi|mouse_train=0.136]"
     ]
    },
    {
     "name": "stdout",
     "output_type": "stream",
     "text": [
      "\r",
      "Epoch 228/600:  38%|███▊      | 227/600 [49:47<1:37:13, 15.64s/it, v_num=rp_1, total_loss_train=3.1e+3, kl_local_train=97.5, metric_mi|status_control_train=0.208, metric_mi|zone_train=0.177, metric_mi|time_cat_train=0.164, metric_mi|mouse_train=0.136]"
     ]
    },
    {
     "name": "stdout",
     "output_type": "stream",
     "text": [
      "\r",
      "Epoch 228/600:  38%|███▊      | 228/600 [50:00<1:32:06, 14.86s/it, v_num=rp_1, total_loss_train=3.1e+3, kl_local_train=97.5, metric_mi|status_control_train=0.208, metric_mi|zone_train=0.177, metric_mi|time_cat_train=0.164, metric_mi|mouse_train=0.136]"
     ]
    },
    {
     "name": "stdout",
     "output_type": "stream",
     "text": [
      "\r",
      "Epoch 228/600:  38%|███▊      | 228/600 [50:00<1:32:06, 14.86s/it, v_num=rp_1, total_loss_train=3.1e+3, kl_local_train=97.7, metric_mi|status_control_train=0.208, metric_mi|zone_train=0.177, metric_mi|time_cat_train=0.164, metric_mi|mouse_train=0.136]"
     ]
    },
    {
     "name": "stdout",
     "output_type": "stream",
     "text": [
      "\r",
      "Epoch 229/600:  38%|███▊      | 228/600 [50:00<1:32:06, 14.86s/it, v_num=rp_1, total_loss_train=3.1e+3, kl_local_train=97.7, metric_mi|status_control_train=0.208, metric_mi|zone_train=0.177, metric_mi|time_cat_train=0.164, metric_mi|mouse_train=0.136]"
     ]
    },
    {
     "name": "stdout",
     "output_type": "stream",
     "text": [
      "\r",
      "Epoch 229/600:  38%|███▊      | 229/600 [50:12<1:28:13, 14.27s/it, v_num=rp_1, total_loss_train=3.1e+3, kl_local_train=97.7, metric_mi|status_control_train=0.208, metric_mi|zone_train=0.177, metric_mi|time_cat_train=0.164, metric_mi|mouse_train=0.136]"
     ]
    },
    {
     "name": "stdout",
     "output_type": "stream",
     "text": [
      "\r",
      "Epoch 229/600:  38%|███▊      | 229/600 [50:12<1:28:13, 14.27s/it, v_num=rp_1, total_loss_train=3.1e+3, kl_local_train=96.9, metric_mi|status_control_train=0.208, metric_mi|zone_train=0.177, metric_mi|time_cat_train=0.164, metric_mi|mouse_train=0.136]"
     ]
    },
    {
     "name": "stdout",
     "output_type": "stream",
     "text": [
      "\r",
      "Epoch 230/600:  38%|███▊      | 229/600 [50:13<1:28:13, 14.27s/it, v_num=rp_1, total_loss_train=3.1e+3, kl_local_train=96.9, metric_mi|status_control_train=0.208, metric_mi|zone_train=0.177, metric_mi|time_cat_train=0.164, metric_mi|mouse_train=0.136]"
     ]
    },
    {
     "name": "stdout",
     "output_type": "stream",
     "text": [
      "\r",
      "Epoch 230/600:  38%|███▊      | 230/600 [50:25<1:25:20, 13.84s/it, v_num=rp_1, total_loss_train=3.1e+3, kl_local_train=96.9, metric_mi|status_control_train=0.208, metric_mi|zone_train=0.177, metric_mi|time_cat_train=0.164, metric_mi|mouse_train=0.136]"
     ]
    },
    {
     "name": "stdout",
     "output_type": "stream",
     "text": [
      "\r",
      "Epoch 230/600:  38%|███▊      | 230/600 [50:25<1:25:20, 13.84s/it, v_num=rp_1, total_loss_train=3.1e+3, kl_local_train=96.5, metric_mi|status_control_train=0.208, metric_mi|zone_train=0.177, metric_mi|time_cat_train=0.164, metric_mi|mouse_train=0.136]"
     ]
    },
    {
     "name": "stdout",
     "output_type": "stream",
     "text": [
      "\r",
      "Epoch 231/600:  38%|███▊      | 230/600 [50:27<1:25:20, 13.84s/it, v_num=rp_1, total_loss_train=3.1e+3, kl_local_train=96.5, metric_mi|status_control_train=0.208, metric_mi|zone_train=0.177, metric_mi|time_cat_train=0.164, metric_mi|mouse_train=0.136]"
     ]
    },
    {
     "name": "stdout",
     "output_type": "stream",
     "text": [
      "\r",
      "Epoch 231/600:  38%|███▊      | 231/600 [50:40<1:25:51, 13.96s/it, v_num=rp_1, total_loss_train=3.1e+3, kl_local_train=96.5, metric_mi|status_control_train=0.208, metric_mi|zone_train=0.177, metric_mi|time_cat_train=0.164, metric_mi|mouse_train=0.136]"
     ]
    },
    {
     "name": "stdout",
     "output_type": "stream",
     "text": [
      "\r",
      "Epoch 231/600:  38%|███▊      | 231/600 [50:40<1:25:51, 13.96s/it, v_num=rp_1, total_loss_train=3.1e+3, kl_local_train=96.4, metric_mi|status_control_train=0.208, metric_mi|zone_train=0.178, metric_mi|time_cat_train=0.165, metric_mi|mouse_train=0.136]"
     ]
    },
    {
     "name": "stdout",
     "output_type": "stream",
     "text": [
      "\r",
      "Epoch 232/600:  38%|███▊      | 231/600 [50:40<1:25:51, 13.96s/it, v_num=rp_1, total_loss_train=3.1e+3, kl_local_train=96.4, metric_mi|status_control_train=0.208, metric_mi|zone_train=0.178, metric_mi|time_cat_train=0.165, metric_mi|mouse_train=0.136]"
     ]
    },
    {
     "name": "stdout",
     "output_type": "stream",
     "text": [
      "\r",
      "Epoch 232/600:  39%|███▊      | 232/600 [50:53<1:23:47, 13.66s/it, v_num=rp_1, total_loss_train=3.1e+3, kl_local_train=96.4, metric_mi|status_control_train=0.208, metric_mi|zone_train=0.178, metric_mi|time_cat_train=0.165, metric_mi|mouse_train=0.136]"
     ]
    },
    {
     "name": "stdout",
     "output_type": "stream",
     "text": [
      "\r",
      "Epoch 232/600:  39%|███▊      | 232/600 [50:53<1:23:47, 13.66s/it, v_num=rp_1, total_loss_train=3.1e+3, kl_local_train=96.1, metric_mi|status_control_train=0.208, metric_mi|zone_train=0.178, metric_mi|time_cat_train=0.165, metric_mi|mouse_train=0.136]"
     ]
    },
    {
     "name": "stdout",
     "output_type": "stream",
     "text": [
      "\r",
      "Epoch 233/600:  39%|███▊      | 232/600 [50:53<1:23:47, 13.66s/it, v_num=rp_1, total_loss_train=3.1e+3, kl_local_train=96.1, metric_mi|status_control_train=0.208, metric_mi|zone_train=0.178, metric_mi|time_cat_train=0.165, metric_mi|mouse_train=0.136]"
     ]
    },
    {
     "name": "stdout",
     "output_type": "stream",
     "text": [
      "\r",
      "Epoch 233/600:  39%|███▉      | 233/600 [51:05<1:22:12, 13.44s/it, v_num=rp_1, total_loss_train=3.1e+3, kl_local_train=96.1, metric_mi|status_control_train=0.208, metric_mi|zone_train=0.178, metric_mi|time_cat_train=0.165, metric_mi|mouse_train=0.136]"
     ]
    },
    {
     "name": "stdout",
     "output_type": "stream",
     "text": [
      "\r",
      "Epoch 233/600:  39%|███▉      | 233/600 [51:05<1:22:12, 13.44s/it, v_num=rp_1, total_loss_train=3.1e+3, kl_local_train=96.6, metric_mi|status_control_train=0.208, metric_mi|zone_train=0.178, metric_mi|time_cat_train=0.165, metric_mi|mouse_train=0.136]"
     ]
    },
    {
     "name": "stdout",
     "output_type": "stream",
     "text": [
      "\r",
      "Epoch 234/600:  39%|███▉      | 233/600 [51:05<1:22:12, 13.44s/it, v_num=rp_1, total_loss_train=3.1e+3, kl_local_train=96.6, metric_mi|status_control_train=0.208, metric_mi|zone_train=0.178, metric_mi|time_cat_train=0.165, metric_mi|mouse_train=0.136]"
     ]
    },
    {
     "name": "stdout",
     "output_type": "stream",
     "text": [
      "\r",
      "Epoch 234/600:  39%|███▉      | 234/600 [51:18<1:20:52, 13.26s/it, v_num=rp_1, total_loss_train=3.1e+3, kl_local_train=96.6, metric_mi|status_control_train=0.208, metric_mi|zone_train=0.178, metric_mi|time_cat_train=0.165, metric_mi|mouse_train=0.136]"
     ]
    },
    {
     "name": "stdout",
     "output_type": "stream",
     "text": [
      "\r",
      "Epoch 234/600:  39%|███▉      | 234/600 [51:18<1:20:52, 13.26s/it, v_num=rp_1, total_loss_train=3.1e+3, kl_local_train=96.7, metric_mi|status_control_train=0.208, metric_mi|zone_train=0.178, metric_mi|time_cat_train=0.165, metric_mi|mouse_train=0.136]"
     ]
    },
    {
     "name": "stdout",
     "output_type": "stream",
     "text": [
      "\r",
      "Epoch 235/600:  39%|███▉      | 234/600 [51:18<1:20:52, 13.26s/it, v_num=rp_1, total_loss_train=3.1e+3, kl_local_train=96.7, metric_mi|status_control_train=0.208, metric_mi|zone_train=0.178, metric_mi|time_cat_train=0.165, metric_mi|mouse_train=0.136]"
     ]
    },
    {
     "name": "stdout",
     "output_type": "stream",
     "text": [
      "\r",
      "Epoch 235/600:  39%|███▉      | 235/600 [51:31<1:19:47, 13.12s/it, v_num=rp_1, total_loss_train=3.1e+3, kl_local_train=96.7, metric_mi|status_control_train=0.208, metric_mi|zone_train=0.178, metric_mi|time_cat_train=0.165, metric_mi|mouse_train=0.136]"
     ]
    },
    {
     "name": "stdout",
     "output_type": "stream",
     "text": [
      "\r",
      "Epoch 235/600:  39%|███▉      | 235/600 [51:31<1:19:47, 13.12s/it, v_num=rp_1, total_loss_train=3.1e+3, kl_local_train=96.5, metric_mi|status_control_train=0.208, metric_mi|zone_train=0.178, metric_mi|time_cat_train=0.165, metric_mi|mouse_train=0.136]"
     ]
    },
    {
     "name": "stdout",
     "output_type": "stream",
     "text": [
      "\r",
      "Epoch 236/600:  39%|███▉      | 235/600 [51:32<1:19:47, 13.12s/it, v_num=rp_1, total_loss_train=3.1e+3, kl_local_train=96.5, metric_mi|status_control_train=0.208, metric_mi|zone_train=0.178, metric_mi|time_cat_train=0.165, metric_mi|mouse_train=0.136]"
     ]
    },
    {
     "name": "stdout",
     "output_type": "stream",
     "text": [
      "\r",
      "Epoch 236/600:  39%|███▉      | 236/600 [51:45<1:21:29, 13.43s/it, v_num=rp_1, total_loss_train=3.1e+3, kl_local_train=96.5, metric_mi|status_control_train=0.208, metric_mi|zone_train=0.178, metric_mi|time_cat_train=0.165, metric_mi|mouse_train=0.136]"
     ]
    },
    {
     "name": "stdout",
     "output_type": "stream",
     "text": [
      "\r",
      "Epoch 236/600:  39%|███▉      | 236/600 [51:45<1:21:29, 13.43s/it, v_num=rp_1, total_loss_train=3.1e+3, kl_local_train=96.6, metric_mi|status_control_train=0.214, metric_mi|zone_train=0.178, metric_mi|time_cat_train=0.17, metric_mi|mouse_train=0.139] "
     ]
    },
    {
     "name": "stdout",
     "output_type": "stream",
     "text": [
      "\r",
      "Epoch 237/600:  39%|███▉      | 236/600 [51:45<1:21:29, 13.43s/it, v_num=rp_1, total_loss_train=3.1e+3, kl_local_train=96.6, metric_mi|status_control_train=0.214, metric_mi|zone_train=0.178, metric_mi|time_cat_train=0.17, metric_mi|mouse_train=0.139]"
     ]
    },
    {
     "name": "stdout",
     "output_type": "stream",
     "text": [
      "\r",
      "Epoch 237/600:  40%|███▉      | 237/600 [51:58<1:19:35, 13.15s/it, v_num=rp_1, total_loss_train=3.1e+3, kl_local_train=96.6, metric_mi|status_control_train=0.214, metric_mi|zone_train=0.178, metric_mi|time_cat_train=0.17, metric_mi|mouse_train=0.139]"
     ]
    },
    {
     "name": "stdout",
     "output_type": "stream",
     "text": [
      "\r",
      "Epoch 237/600:  40%|███▉      | 237/600 [51:58<1:19:35, 13.15s/it, v_num=rp_1, total_loss_train=3.1e+3, kl_local_train=95.7, metric_mi|status_control_train=0.214, metric_mi|zone_train=0.178, metric_mi|time_cat_train=0.17, metric_mi|mouse_train=0.139]"
     ]
    },
    {
     "name": "stdout",
     "output_type": "stream",
     "text": [
      "\r",
      "Epoch 238/600:  40%|███▉      | 237/600 [51:58<1:19:35, 13.15s/it, v_num=rp_1, total_loss_train=3.1e+3, kl_local_train=95.7, metric_mi|status_control_train=0.214, metric_mi|zone_train=0.178, metric_mi|time_cat_train=0.17, metric_mi|mouse_train=0.139]"
     ]
    },
    {
     "name": "stdout",
     "output_type": "stream",
     "text": [
      "\r",
      "Epoch 238/600:  40%|███▉      | 238/600 [52:11<1:18:52, 13.07s/it, v_num=rp_1, total_loss_train=3.1e+3, kl_local_train=95.7, metric_mi|status_control_train=0.214, metric_mi|zone_train=0.178, metric_mi|time_cat_train=0.17, metric_mi|mouse_train=0.139]"
     ]
    },
    {
     "name": "stdout",
     "output_type": "stream",
     "text": [
      "\r",
      "Epoch 238/600:  40%|███▉      | 238/600 [52:11<1:18:52, 13.07s/it, v_num=rp_1, total_loss_train=3.1e+3, kl_local_train=95.5, metric_mi|status_control_train=0.214, metric_mi|zone_train=0.178, metric_mi|time_cat_train=0.17, metric_mi|mouse_train=0.139]"
     ]
    },
    {
     "name": "stdout",
     "output_type": "stream",
     "text": [
      "\r",
      "Epoch 239/600:  40%|███▉      | 238/600 [52:11<1:18:52, 13.07s/it, v_num=rp_1, total_loss_train=3.1e+3, kl_local_train=95.5, metric_mi|status_control_train=0.214, metric_mi|zone_train=0.178, metric_mi|time_cat_train=0.17, metric_mi|mouse_train=0.139]"
     ]
    },
    {
     "name": "stdout",
     "output_type": "stream",
     "text": [
      "\r",
      "Epoch 239/600:  40%|███▉      | 239/600 [52:23<1:18:10, 12.99s/it, v_num=rp_1, total_loss_train=3.1e+3, kl_local_train=95.5, metric_mi|status_control_train=0.214, metric_mi|zone_train=0.178, metric_mi|time_cat_train=0.17, metric_mi|mouse_train=0.139]"
     ]
    },
    {
     "name": "stdout",
     "output_type": "stream",
     "text": [
      "\r",
      "Epoch 239/600:  40%|███▉      | 239/600 [52:23<1:18:10, 12.99s/it, v_num=rp_1, total_loss_train=3.09e+3, kl_local_train=95.6, metric_mi|status_control_train=0.214, metric_mi|zone_train=0.178, metric_mi|time_cat_train=0.17, metric_mi|mouse_train=0.139]"
     ]
    },
    {
     "name": "stdout",
     "output_type": "stream",
     "text": [
      "\r",
      "Epoch 240/600:  40%|███▉      | 239/600 [52:23<1:18:10, 12.99s/it, v_num=rp_1, total_loss_train=3.09e+3, kl_local_train=95.6, metric_mi|status_control_train=0.214, metric_mi|zone_train=0.178, metric_mi|time_cat_train=0.17, metric_mi|mouse_train=0.139]"
     ]
    },
    {
     "name": "stdout",
     "output_type": "stream",
     "text": [
      "\r",
      "Epoch 240/600:  40%|████      | 240/600 [52:36<1:17:39, 12.94s/it, v_num=rp_1, total_loss_train=3.09e+3, kl_local_train=95.6, metric_mi|status_control_train=0.214, metric_mi|zone_train=0.178, metric_mi|time_cat_train=0.17, metric_mi|mouse_train=0.139]"
     ]
    },
    {
     "name": "stdout",
     "output_type": "stream",
     "text": [
      "\r",
      "Epoch 240/600:  40%|████      | 240/600 [52:36<1:17:39, 12.94s/it, v_num=rp_1, total_loss_train=3.09e+3, kl_local_train=95.5, metric_mi|status_control_train=0.214, metric_mi|zone_train=0.178, metric_mi|time_cat_train=0.17, metric_mi|mouse_train=0.139]"
     ]
    },
    {
     "name": "stdout",
     "output_type": "stream",
     "text": [
      "\r",
      "Epoch 241/600:  40%|████      | 240/600 [52:38<1:17:39, 12.94s/it, v_num=rp_1, total_loss_train=3.09e+3, kl_local_train=95.5, metric_mi|status_control_train=0.214, metric_mi|zone_train=0.178, metric_mi|time_cat_train=0.17, metric_mi|mouse_train=0.139]"
     ]
    },
    {
     "name": "stdout",
     "output_type": "stream",
     "text": [
      "\r",
      "Epoch 241/600:  40%|████      | 241/600 [52:50<1:19:36, 13.30s/it, v_num=rp_1, total_loss_train=3.09e+3, kl_local_train=95.5, metric_mi|status_control_train=0.214, metric_mi|zone_train=0.178, metric_mi|time_cat_train=0.17, metric_mi|mouse_train=0.139]"
     ]
    },
    {
     "name": "stdout",
     "output_type": "stream",
     "text": [
      "\r",
      "Epoch 241/600:  40%|████      | 241/600 [52:50<1:19:36, 13.30s/it, v_num=rp_1, total_loss_train=3.09e+3, kl_local_train=95.8, metric_mi|status_control_train=0.224, metric_mi|zone_train=0.178, metric_mi|time_cat_train=0.172, metric_mi|mouse_train=0.14]"
     ]
    },
    {
     "name": "stdout",
     "output_type": "stream",
     "text": [
      "\r",
      "Epoch 242/600:  40%|████      | 241/600 [52:50<1:19:36, 13.30s/it, v_num=rp_1, total_loss_train=3.09e+3, kl_local_train=95.8, metric_mi|status_control_train=0.224, metric_mi|zone_train=0.178, metric_mi|time_cat_train=0.172, metric_mi|mouse_train=0.14]"
     ]
    },
    {
     "name": "stdout",
     "output_type": "stream",
     "text": [
      "\r",
      "Epoch 242/600:  40%|████      | 242/600 [53:03<1:18:43, 13.19s/it, v_num=rp_1, total_loss_train=3.09e+3, kl_local_train=95.8, metric_mi|status_control_train=0.224, metric_mi|zone_train=0.178, metric_mi|time_cat_train=0.172, metric_mi|mouse_train=0.14]"
     ]
    },
    {
     "name": "stdout",
     "output_type": "stream",
     "text": [
      "\r",
      "Epoch 242/600:  40%|████      | 242/600 [53:03<1:18:43, 13.19s/it, v_num=rp_1, total_loss_train=3.09e+3, kl_local_train=94.8, metric_mi|status_control_train=0.224, metric_mi|zone_train=0.178, metric_mi|time_cat_train=0.172, metric_mi|mouse_train=0.14]"
     ]
    },
    {
     "name": "stdout",
     "output_type": "stream",
     "text": [
      "\r",
      "Epoch 243/600:  40%|████      | 242/600 [53:03<1:18:43, 13.19s/it, v_num=rp_1, total_loss_train=3.09e+3, kl_local_train=94.8, metric_mi|status_control_train=0.224, metric_mi|zone_train=0.178, metric_mi|time_cat_train=0.172, metric_mi|mouse_train=0.14]"
     ]
    },
    {
     "name": "stdout",
     "output_type": "stream",
     "text": [
      "\r",
      "Epoch 243/600:  40%|████      | 243/600 [53:16<1:18:02, 13.11s/it, v_num=rp_1, total_loss_train=3.09e+3, kl_local_train=94.8, metric_mi|status_control_train=0.224, metric_mi|zone_train=0.178, metric_mi|time_cat_train=0.172, metric_mi|mouse_train=0.14]"
     ]
    },
    {
     "name": "stdout",
     "output_type": "stream",
     "text": [
      "\r",
      "Epoch 243/600:  40%|████      | 243/600 [53:16<1:18:02, 13.11s/it, v_num=rp_1, total_loss_train=3.09e+3, kl_local_train=95.3, metric_mi|status_control_train=0.224, metric_mi|zone_train=0.178, metric_mi|time_cat_train=0.172, metric_mi|mouse_train=0.14]"
     ]
    },
    {
     "name": "stdout",
     "output_type": "stream",
     "text": [
      "\r",
      "Epoch 244/600:  40%|████      | 243/600 [53:16<1:18:02, 13.11s/it, v_num=rp_1, total_loss_train=3.09e+3, kl_local_train=95.3, metric_mi|status_control_train=0.224, metric_mi|zone_train=0.178, metric_mi|time_cat_train=0.172, metric_mi|mouse_train=0.14]"
     ]
    },
    {
     "name": "stdout",
     "output_type": "stream",
     "text": [
      "\r",
      "Epoch 244/600:  41%|████      | 244/600 [53:29<1:17:28, 13.06s/it, v_num=rp_1, total_loss_train=3.09e+3, kl_local_train=95.3, metric_mi|status_control_train=0.224, metric_mi|zone_train=0.178, metric_mi|time_cat_train=0.172, metric_mi|mouse_train=0.14]"
     ]
    },
    {
     "name": "stdout",
     "output_type": "stream",
     "text": [
      "\r",
      "Epoch 244/600:  41%|████      | 244/600 [53:29<1:17:28, 13.06s/it, v_num=rp_1, total_loss_train=3.09e+3, kl_local_train=95.2, metric_mi|status_control_train=0.224, metric_mi|zone_train=0.178, metric_mi|time_cat_train=0.172, metric_mi|mouse_train=0.14]"
     ]
    },
    {
     "name": "stdout",
     "output_type": "stream",
     "text": [
      "\r",
      "Epoch 245/600:  41%|████      | 244/600 [53:29<1:17:28, 13.06s/it, v_num=rp_1, total_loss_train=3.09e+3, kl_local_train=95.2, metric_mi|status_control_train=0.224, metric_mi|zone_train=0.178, metric_mi|time_cat_train=0.172, metric_mi|mouse_train=0.14]"
     ]
    },
    {
     "name": "stdout",
     "output_type": "stream",
     "text": [
      "\r",
      "Epoch 245/600:  41%|████      | 245/600 [53:42<1:16:57, 13.01s/it, v_num=rp_1, total_loss_train=3.09e+3, kl_local_train=95.2, metric_mi|status_control_train=0.224, metric_mi|zone_train=0.178, metric_mi|time_cat_train=0.172, metric_mi|mouse_train=0.14]"
     ]
    },
    {
     "name": "stdout",
     "output_type": "stream",
     "text": [
      "\r",
      "Epoch 245/600:  41%|████      | 245/600 [53:42<1:16:57, 13.01s/it, v_num=rp_1, total_loss_train=3.09e+3, kl_local_train=94.6, metric_mi|status_control_train=0.224, metric_mi|zone_train=0.178, metric_mi|time_cat_train=0.172, metric_mi|mouse_train=0.14]"
     ]
    },
    {
     "name": "stdout",
     "output_type": "stream",
     "text": [
      "\r",
      "Epoch 246/600:  41%|████      | 245/600 [53:43<1:16:57, 13.01s/it, v_num=rp_1, total_loss_train=3.09e+3, kl_local_train=94.6, metric_mi|status_control_train=0.224, metric_mi|zone_train=0.178, metric_mi|time_cat_train=0.172, metric_mi|mouse_train=0.14]"
     ]
    },
    {
     "name": "stdout",
     "output_type": "stream",
     "text": [
      "\r",
      "Epoch 246/600:  41%|████      | 246/600 [53:56<1:18:52, 13.37s/it, v_num=rp_1, total_loss_train=3.09e+3, kl_local_train=94.6, metric_mi|status_control_train=0.224, metric_mi|zone_train=0.178, metric_mi|time_cat_train=0.172, metric_mi|mouse_train=0.14]"
     ]
    },
    {
     "name": "stdout",
     "output_type": "stream",
     "text": [
      "\r",
      "Epoch 246/600:  41%|████      | 246/600 [53:56<1:18:52, 13.37s/it, v_num=rp_1, total_loss_train=3.09e+3, kl_local_train=94.9, metric_mi|status_control_train=0.218, metric_mi|zone_train=0.177, metric_mi|time_cat_train=0.163, metric_mi|mouse_train=0.135]"
     ]
    },
    {
     "name": "stdout",
     "output_type": "stream",
     "text": [
      "\r",
      "Epoch 247/600:  41%|████      | 246/600 [53:56<1:18:52, 13.37s/it, v_num=rp_1, total_loss_train=3.09e+3, kl_local_train=94.9, metric_mi|status_control_train=0.218, metric_mi|zone_train=0.177, metric_mi|time_cat_train=0.163, metric_mi|mouse_train=0.135]"
     ]
    },
    {
     "name": "stdout",
     "output_type": "stream",
     "text": [
      "\r",
      "Epoch 247/600:  41%|████      | 247/600 [54:09<1:17:15, 13.13s/it, v_num=rp_1, total_loss_train=3.09e+3, kl_local_train=94.9, metric_mi|status_control_train=0.218, metric_mi|zone_train=0.177, metric_mi|time_cat_train=0.163, metric_mi|mouse_train=0.135]"
     ]
    },
    {
     "name": "stdout",
     "output_type": "stream",
     "text": [
      "\r",
      "Epoch 247/600:  41%|████      | 247/600 [54:09<1:17:15, 13.13s/it, v_num=rp_1, total_loss_train=3.09e+3, kl_local_train=94.4, metric_mi|status_control_train=0.218, metric_mi|zone_train=0.177, metric_mi|time_cat_train=0.163, metric_mi|mouse_train=0.135]"
     ]
    },
    {
     "name": "stdout",
     "output_type": "stream",
     "text": [
      "\r",
      "Epoch 248/600:  41%|████      | 247/600 [54:09<1:17:15, 13.13s/it, v_num=rp_1, total_loss_train=3.09e+3, kl_local_train=94.4, metric_mi|status_control_train=0.218, metric_mi|zone_train=0.177, metric_mi|time_cat_train=0.163, metric_mi|mouse_train=0.135]"
     ]
    },
    {
     "name": "stdout",
     "output_type": "stream",
     "text": [
      "\r",
      "Epoch 248/600:  41%|████▏     | 248/600 [54:22<1:16:23, 13.02s/it, v_num=rp_1, total_loss_train=3.09e+3, kl_local_train=94.4, metric_mi|status_control_train=0.218, metric_mi|zone_train=0.177, metric_mi|time_cat_train=0.163, metric_mi|mouse_train=0.135]"
     ]
    },
    {
     "name": "stdout",
     "output_type": "stream",
     "text": [
      "\r",
      "Epoch 248/600:  41%|████▏     | 248/600 [54:22<1:16:23, 13.02s/it, v_num=rp_1, total_loss_train=3.09e+3, kl_local_train=94.2, metric_mi|status_control_train=0.218, metric_mi|zone_train=0.177, metric_mi|time_cat_train=0.163, metric_mi|mouse_train=0.135]"
     ]
    },
    {
     "name": "stdout",
     "output_type": "stream",
     "text": [
      "\r",
      "Epoch 249/600:  41%|████▏     | 248/600 [54:22<1:16:23, 13.02s/it, v_num=rp_1, total_loss_train=3.09e+3, kl_local_train=94.2, metric_mi|status_control_train=0.218, metric_mi|zone_train=0.177, metric_mi|time_cat_train=0.163, metric_mi|mouse_train=0.135]"
     ]
    },
    {
     "name": "stdout",
     "output_type": "stream",
     "text": [
      "\r",
      "Epoch 249/600:  42%|████▏     | 249/600 [54:35<1:16:18, 13.04s/it, v_num=rp_1, total_loss_train=3.09e+3, kl_local_train=94.2, metric_mi|status_control_train=0.218, metric_mi|zone_train=0.177, metric_mi|time_cat_train=0.163, metric_mi|mouse_train=0.135]"
     ]
    },
    {
     "name": "stdout",
     "output_type": "stream",
     "text": [
      "\r",
      "Epoch 249/600:  42%|████▏     | 249/600 [54:35<1:16:18, 13.04s/it, v_num=rp_1, total_loss_train=3.09e+3, kl_local_train=94.2, metric_mi|status_control_train=0.218, metric_mi|zone_train=0.177, metric_mi|time_cat_train=0.163, metric_mi|mouse_train=0.135]"
     ]
    },
    {
     "name": "stdout",
     "output_type": "stream",
     "text": [
      "\r",
      "Epoch 250/600:  42%|████▏     | 249/600 [54:35<1:16:18, 13.04s/it, v_num=rp_1, total_loss_train=3.09e+3, kl_local_train=94.2, metric_mi|status_control_train=0.218, metric_mi|zone_train=0.177, metric_mi|time_cat_train=0.163, metric_mi|mouse_train=0.135]"
     ]
    },
    {
     "name": "stdout",
     "output_type": "stream",
     "text": [
      "\r",
      "Epoch 250/600:  42%|████▏     | 250/600 [54:47<1:15:14, 12.90s/it, v_num=rp_1, total_loss_train=3.09e+3, kl_local_train=94.2, metric_mi|status_control_train=0.218, metric_mi|zone_train=0.177, metric_mi|time_cat_train=0.163, metric_mi|mouse_train=0.135]"
     ]
    },
    {
     "name": "stdout",
     "output_type": "stream",
     "text": [
      "\r",
      "Epoch 250/600:  42%|████▏     | 250/600 [54:47<1:15:14, 12.90s/it, v_num=rp_1, total_loss_train=3.09e+3, kl_local_train=93.6, metric_mi|status_control_train=0.218, metric_mi|zone_train=0.177, metric_mi|time_cat_train=0.163, metric_mi|mouse_train=0.135]"
     ]
    },
    {
     "name": "stdout",
     "output_type": "stream",
     "text": [
      "\r",
      "Epoch 251/600:  42%|████▏     | 250/600 [54:49<1:15:14, 12.90s/it, v_num=rp_1, total_loss_train=3.09e+3, kl_local_train=93.6, metric_mi|status_control_train=0.218, metric_mi|zone_train=0.177, metric_mi|time_cat_train=0.163, metric_mi|mouse_train=0.135]"
     ]
    },
    {
     "name": "stdout",
     "output_type": "stream",
     "text": [
      "\r",
      "Epoch 251/600:  42%|████▏     | 251/600 [55:02<1:17:24, 13.31s/it, v_num=rp_1, total_loss_train=3.09e+3, kl_local_train=93.6, metric_mi|status_control_train=0.218, metric_mi|zone_train=0.177, metric_mi|time_cat_train=0.163, metric_mi|mouse_train=0.135]"
     ]
    },
    {
     "name": "stdout",
     "output_type": "stream",
     "text": [
      "\r",
      "Epoch 251/600:  42%|████▏     | 251/600 [55:02<1:17:24, 13.31s/it, v_num=rp_1, total_loss_train=3.09e+3, kl_local_train=94.1, metric_mi|status_control_train=0.221, metric_mi|zone_train=0.177, metric_mi|time_cat_train=0.167, metric_mi|mouse_train=0.137]"
     ]
    },
    {
     "name": "stdout",
     "output_type": "stream",
     "text": [
      "\r",
      "Epoch 252/600:  42%|████▏     | 251/600 [55:02<1:17:24, 13.31s/it, v_num=rp_1, total_loss_train=3.09e+3, kl_local_train=94.1, metric_mi|status_control_train=0.221, metric_mi|zone_train=0.177, metric_mi|time_cat_train=0.167, metric_mi|mouse_train=0.137]"
     ]
    },
    {
     "name": "stdout",
     "output_type": "stream",
     "text": [
      "\r",
      "Epoch 252/600:  42%|████▏     | 252/600 [55:14<1:16:27, 13.18s/it, v_num=rp_1, total_loss_train=3.09e+3, kl_local_train=94.1, metric_mi|status_control_train=0.221, metric_mi|zone_train=0.177, metric_mi|time_cat_train=0.167, metric_mi|mouse_train=0.137]"
     ]
    },
    {
     "name": "stdout",
     "output_type": "stream",
     "text": [
      "\r",
      "Epoch 252/600:  42%|████▏     | 252/600 [55:14<1:16:27, 13.18s/it, v_num=rp_1, total_loss_train=3.09e+3, kl_local_train=92.8, metric_mi|status_control_train=0.221, metric_mi|zone_train=0.177, metric_mi|time_cat_train=0.167, metric_mi|mouse_train=0.137]"
     ]
    },
    {
     "name": "stdout",
     "output_type": "stream",
     "text": [
      "\r",
      "Epoch 253/600:  42%|████▏     | 252/600 [55:14<1:16:27, 13.18s/it, v_num=rp_1, total_loss_train=3.09e+3, kl_local_train=92.8, metric_mi|status_control_train=0.221, metric_mi|zone_train=0.177, metric_mi|time_cat_train=0.167, metric_mi|mouse_train=0.137]"
     ]
    },
    {
     "name": "stdout",
     "output_type": "stream",
     "text": [
      "\r",
      "Epoch 253/600:  42%|████▏     | 253/600 [55:27<1:15:45, 13.10s/it, v_num=rp_1, total_loss_train=3.09e+3, kl_local_train=92.8, metric_mi|status_control_train=0.221, metric_mi|zone_train=0.177, metric_mi|time_cat_train=0.167, metric_mi|mouse_train=0.137]"
     ]
    },
    {
     "name": "stdout",
     "output_type": "stream",
     "text": [
      "\r",
      "Epoch 253/600:  42%|████▏     | 253/600 [55:27<1:15:45, 13.10s/it, v_num=rp_1, total_loss_train=3.09e+3, kl_local_train=93.1, metric_mi|status_control_train=0.221, metric_mi|zone_train=0.177, metric_mi|time_cat_train=0.167, metric_mi|mouse_train=0.137]"
     ]
    },
    {
     "name": "stdout",
     "output_type": "stream",
     "text": [
      "\r",
      "Epoch 254/600:  42%|████▏     | 253/600 [55:27<1:15:45, 13.10s/it, v_num=rp_1, total_loss_train=3.09e+3, kl_local_train=93.1, metric_mi|status_control_train=0.221, metric_mi|zone_train=0.177, metric_mi|time_cat_train=0.167, metric_mi|mouse_train=0.137]"
     ]
    },
    {
     "name": "stdout",
     "output_type": "stream",
     "text": [
      "\r",
      "Epoch 254/600:  42%|████▏     | 254/600 [55:40<1:15:14, 13.05s/it, v_num=rp_1, total_loss_train=3.09e+3, kl_local_train=93.1, metric_mi|status_control_train=0.221, metric_mi|zone_train=0.177, metric_mi|time_cat_train=0.167, metric_mi|mouse_train=0.137]"
     ]
    },
    {
     "name": "stdout",
     "output_type": "stream",
     "text": [
      "\r",
      "Epoch 254/600:  42%|████▏     | 254/600 [55:40<1:15:14, 13.05s/it, v_num=rp_1, total_loss_train=3.09e+3, kl_local_train=93.3, metric_mi|status_control_train=0.221, metric_mi|zone_train=0.177, metric_mi|time_cat_train=0.167, metric_mi|mouse_train=0.137]"
     ]
    },
    {
     "name": "stdout",
     "output_type": "stream",
     "text": [
      "\r",
      "Epoch 255/600:  42%|████▏     | 254/600 [55:40<1:15:14, 13.05s/it, v_num=rp_1, total_loss_train=3.09e+3, kl_local_train=93.3, metric_mi|status_control_train=0.221, metric_mi|zone_train=0.177, metric_mi|time_cat_train=0.167, metric_mi|mouse_train=0.137]"
     ]
    },
    {
     "name": "stdout",
     "output_type": "stream",
     "text": [
      "\r",
      "Epoch 255/600:  42%|████▎     | 255/600 [55:53<1:15:02, 13.05s/it, v_num=rp_1, total_loss_train=3.09e+3, kl_local_train=93.3, metric_mi|status_control_train=0.221, metric_mi|zone_train=0.177, metric_mi|time_cat_train=0.167, metric_mi|mouse_train=0.137]"
     ]
    },
    {
     "name": "stdout",
     "output_type": "stream",
     "text": [
      "\r",
      "Epoch 255/600:  42%|████▎     | 255/600 [55:53<1:15:02, 13.05s/it, v_num=rp_1, total_loss_train=3.09e+3, kl_local_train=92.7, metric_mi|status_control_train=0.221, metric_mi|zone_train=0.177, metric_mi|time_cat_train=0.167, metric_mi|mouse_train=0.137]"
     ]
    },
    {
     "name": "stdout",
     "output_type": "stream",
     "text": [
      "\r",
      "Epoch 256/600:  42%|████▎     | 255/600 [55:55<1:15:02, 13.05s/it, v_num=rp_1, total_loss_train=3.09e+3, kl_local_train=92.7, metric_mi|status_control_train=0.221, metric_mi|zone_train=0.177, metric_mi|time_cat_train=0.167, metric_mi|mouse_train=0.137]"
     ]
    },
    {
     "name": "stdout",
     "output_type": "stream",
     "text": [
      "\r",
      "Epoch 256/600:  43%|████▎     | 256/600 [56:08<1:16:50, 13.40s/it, v_num=rp_1, total_loss_train=3.09e+3, kl_local_train=92.7, metric_mi|status_control_train=0.221, metric_mi|zone_train=0.177, metric_mi|time_cat_train=0.167, metric_mi|mouse_train=0.137]"
     ]
    },
    {
     "name": "stdout",
     "output_type": "stream",
     "text": [
      "\r",
      "Epoch 256/600:  43%|████▎     | 256/600 [56:08<1:16:50, 13.40s/it, v_num=rp_1, total_loss_train=3.09e+3, kl_local_train=92.7, metric_mi|status_control_train=0.209, metric_mi|zone_train=0.178, metric_mi|time_cat_train=0.166, metric_mi|mouse_train=0.137]"
     ]
    },
    {
     "name": "stdout",
     "output_type": "stream",
     "text": [
      "\r",
      "Epoch 257/600:  43%|████▎     | 256/600 [56:08<1:16:50, 13.40s/it, v_num=rp_1, total_loss_train=3.09e+3, kl_local_train=92.7, metric_mi|status_control_train=0.209, metric_mi|zone_train=0.178, metric_mi|time_cat_train=0.166, metric_mi|mouse_train=0.137]"
     ]
    },
    {
     "name": "stdout",
     "output_type": "stream",
     "text": [
      "\r",
      "Epoch 257/600:  43%|████▎     | 257/600 [56:20<1:15:44, 13.25s/it, v_num=rp_1, total_loss_train=3.09e+3, kl_local_train=92.7, metric_mi|status_control_train=0.209, metric_mi|zone_train=0.178, metric_mi|time_cat_train=0.166, metric_mi|mouse_train=0.137]"
     ]
    },
    {
     "name": "stdout",
     "output_type": "stream",
     "text": [
      "\r",
      "Epoch 257/600:  43%|████▎     | 257/600 [56:20<1:15:44, 13.25s/it, v_num=rp_1, total_loss_train=3.09e+3, kl_local_train=92.8, metric_mi|status_control_train=0.209, metric_mi|zone_train=0.178, metric_mi|time_cat_train=0.166, metric_mi|mouse_train=0.137]"
     ]
    },
    {
     "name": "stdout",
     "output_type": "stream",
     "text": [
      "\r",
      "Epoch 258/600:  43%|████▎     | 257/600 [56:20<1:15:44, 13.25s/it, v_num=rp_1, total_loss_train=3.09e+3, kl_local_train=92.8, metric_mi|status_control_train=0.209, metric_mi|zone_train=0.178, metric_mi|time_cat_train=0.166, metric_mi|mouse_train=0.137]"
     ]
    },
    {
     "name": "stdout",
     "output_type": "stream",
     "text": [
      "\r",
      "Epoch 258/600:  43%|████▎     | 258/600 [56:33<1:14:50, 13.13s/it, v_num=rp_1, total_loss_train=3.09e+3, kl_local_train=92.8, metric_mi|status_control_train=0.209, metric_mi|zone_train=0.178, metric_mi|time_cat_train=0.166, metric_mi|mouse_train=0.137]"
     ]
    },
    {
     "name": "stdout",
     "output_type": "stream",
     "text": [
      "\r",
      "Epoch 258/600:  43%|████▎     | 258/600 [56:33<1:14:50, 13.13s/it, v_num=rp_1, total_loss_train=3.09e+3, kl_local_train=92.3, metric_mi|status_control_train=0.209, metric_mi|zone_train=0.178, metric_mi|time_cat_train=0.166, metric_mi|mouse_train=0.137]"
     ]
    },
    {
     "name": "stdout",
     "output_type": "stream",
     "text": [
      "\r",
      "Epoch 259/600:  43%|████▎     | 258/600 [56:33<1:14:50, 13.13s/it, v_num=rp_1, total_loss_train=3.09e+3, kl_local_train=92.3, metric_mi|status_control_train=0.209, metric_mi|zone_train=0.178, metric_mi|time_cat_train=0.166, metric_mi|mouse_train=0.137]"
     ]
    },
    {
     "name": "stdout",
     "output_type": "stream",
     "text": [
      "\r",
      "Epoch 259/600:  43%|████▎     | 259/600 [56:46<1:14:10, 13.05s/it, v_num=rp_1, total_loss_train=3.09e+3, kl_local_train=92.3, metric_mi|status_control_train=0.209, metric_mi|zone_train=0.178, metric_mi|time_cat_train=0.166, metric_mi|mouse_train=0.137]"
     ]
    },
    {
     "name": "stdout",
     "output_type": "stream",
     "text": [
      "\r",
      "Epoch 259/600:  43%|████▎     | 259/600 [56:46<1:14:10, 13.05s/it, v_num=rp_1, total_loss_train=3.09e+3, kl_local_train=92.2, metric_mi|status_control_train=0.209, metric_mi|zone_train=0.178, metric_mi|time_cat_train=0.166, metric_mi|mouse_train=0.137]"
     ]
    },
    {
     "name": "stdout",
     "output_type": "stream",
     "text": [
      "\r",
      "Epoch 260/600:  43%|████▎     | 259/600 [56:46<1:14:10, 13.05s/it, v_num=rp_1, total_loss_train=3.09e+3, kl_local_train=92.2, metric_mi|status_control_train=0.209, metric_mi|zone_train=0.178, metric_mi|time_cat_train=0.166, metric_mi|mouse_train=0.137]"
     ]
    },
    {
     "name": "stdout",
     "output_type": "stream",
     "text": [
      "\r",
      "Epoch 260/600:  43%|████▎     | 260/600 [56:59<1:13:32, 12.98s/it, v_num=rp_1, total_loss_train=3.09e+3, kl_local_train=92.2, metric_mi|status_control_train=0.209, metric_mi|zone_train=0.178, metric_mi|time_cat_train=0.166, metric_mi|mouse_train=0.137]"
     ]
    },
    {
     "name": "stdout",
     "output_type": "stream",
     "text": [
      "\r",
      "Epoch 260/600:  43%|████▎     | 260/600 [56:59<1:13:32, 12.98s/it, v_num=rp_1, total_loss_train=3.09e+3, kl_local_train=92.3, metric_mi|status_control_train=0.209, metric_mi|zone_train=0.178, metric_mi|time_cat_train=0.166, metric_mi|mouse_train=0.137]"
     ]
    },
    {
     "name": "stdout",
     "output_type": "stream",
     "text": [
      "\r",
      "Epoch 261/600:  43%|████▎     | 260/600 [57:00<1:13:32, 12.98s/it, v_num=rp_1, total_loss_train=3.09e+3, kl_local_train=92.3, metric_mi|status_control_train=0.209, metric_mi|zone_train=0.178, metric_mi|time_cat_train=0.166, metric_mi|mouse_train=0.137]"
     ]
    },
    {
     "name": "stdout",
     "output_type": "stream",
     "text": [
      "\r",
      "Epoch 261/600:  44%|████▎     | 261/600 [57:13<1:15:25, 13.35s/it, v_num=rp_1, total_loss_train=3.09e+3, kl_local_train=92.3, metric_mi|status_control_train=0.209, metric_mi|zone_train=0.178, metric_mi|time_cat_train=0.166, metric_mi|mouse_train=0.137]"
     ]
    },
    {
     "name": "stdout",
     "output_type": "stream",
     "text": [
      "\r",
      "Epoch 261/600:  44%|████▎     | 261/600 [57:13<1:15:25, 13.35s/it, v_num=rp_1, total_loss_train=3.09e+3, kl_local_train=92.1, metric_mi|status_control_train=0.212, metric_mi|zone_train=0.178, metric_mi|time_cat_train=0.166, metric_mi|mouse_train=0.136]"
     ]
    },
    {
     "name": "stdout",
     "output_type": "stream",
     "text": [
      "\r",
      "Epoch 262/600:  44%|████▎     | 261/600 [57:13<1:15:25, 13.35s/it, v_num=rp_1, total_loss_train=3.09e+3, kl_local_train=92.1, metric_mi|status_control_train=0.212, metric_mi|zone_train=0.178, metric_mi|time_cat_train=0.166, metric_mi|mouse_train=0.136]"
     ]
    },
    {
     "name": "stdout",
     "output_type": "stream",
     "text": [
      "\r",
      "Epoch 262/600:  44%|████▎     | 262/600 [57:26<1:13:50, 13.11s/it, v_num=rp_1, total_loss_train=3.09e+3, kl_local_train=92.1, metric_mi|status_control_train=0.212, metric_mi|zone_train=0.178, metric_mi|time_cat_train=0.166, metric_mi|mouse_train=0.136]"
     ]
    },
    {
     "name": "stdout",
     "output_type": "stream",
     "text": [
      "\r",
      "Epoch 262/600:  44%|████▎     | 262/600 [57:26<1:13:50, 13.11s/it, v_num=rp_1, total_loss_train=3.09e+3, kl_local_train=91.7, metric_mi|status_control_train=0.212, metric_mi|zone_train=0.178, metric_mi|time_cat_train=0.166, metric_mi|mouse_train=0.136]"
     ]
    },
    {
     "name": "stdout",
     "output_type": "stream",
     "text": [
      "\r",
      "Epoch 263/600:  44%|████▎     | 262/600 [57:26<1:13:50, 13.11s/it, v_num=rp_1, total_loss_train=3.09e+3, kl_local_train=91.7, metric_mi|status_control_train=0.212, metric_mi|zone_train=0.178, metric_mi|time_cat_train=0.166, metric_mi|mouse_train=0.136]"
     ]
    },
    {
     "name": "stdout",
     "output_type": "stream",
     "text": [
      "\r",
      "Epoch 263/600:  44%|████▍     | 263/600 [57:39<1:13:04, 13.01s/it, v_num=rp_1, total_loss_train=3.09e+3, kl_local_train=91.7, metric_mi|status_control_train=0.212, metric_mi|zone_train=0.178, metric_mi|time_cat_train=0.166, metric_mi|mouse_train=0.136]"
     ]
    },
    {
     "name": "stdout",
     "output_type": "stream",
     "text": [
      "\r",
      "Epoch 263/600:  44%|████▍     | 263/600 [57:39<1:13:04, 13.01s/it, v_num=rp_1, total_loss_train=3.09e+3, kl_local_train=91.7, metric_mi|status_control_train=0.212, metric_mi|zone_train=0.178, metric_mi|time_cat_train=0.166, metric_mi|mouse_train=0.136]"
     ]
    },
    {
     "name": "stdout",
     "output_type": "stream",
     "text": [
      "\r",
      "Epoch 264/600:  44%|████▍     | 263/600 [57:39<1:13:04, 13.01s/it, v_num=rp_1, total_loss_train=3.09e+3, kl_local_train=91.7, metric_mi|status_control_train=0.212, metric_mi|zone_train=0.178, metric_mi|time_cat_train=0.166, metric_mi|mouse_train=0.136]"
     ]
    },
    {
     "name": "stdout",
     "output_type": "stream",
     "text": [
      "\r",
      "Epoch 264/600:  44%|████▍     | 264/600 [57:51<1:12:42, 12.98s/it, v_num=rp_1, total_loss_train=3.09e+3, kl_local_train=91.7, metric_mi|status_control_train=0.212, metric_mi|zone_train=0.178, metric_mi|time_cat_train=0.166, metric_mi|mouse_train=0.136]"
     ]
    },
    {
     "name": "stdout",
     "output_type": "stream",
     "text": [
      "\r",
      "Epoch 264/600:  44%|████▍     | 264/600 [57:51<1:12:42, 12.98s/it, v_num=rp_1, total_loss_train=3.09e+3, kl_local_train=91.5, metric_mi|status_control_train=0.212, metric_mi|zone_train=0.178, metric_mi|time_cat_train=0.166, metric_mi|mouse_train=0.136]"
     ]
    },
    {
     "name": "stdout",
     "output_type": "stream",
     "text": [
      "\r",
      "Epoch 265/600:  44%|████▍     | 264/600 [57:51<1:12:42, 12.98s/it, v_num=rp_1, total_loss_train=3.09e+3, kl_local_train=91.5, metric_mi|status_control_train=0.212, metric_mi|zone_train=0.178, metric_mi|time_cat_train=0.166, metric_mi|mouse_train=0.136]"
     ]
    },
    {
     "name": "stdout",
     "output_type": "stream",
     "text": [
      "\r",
      "Epoch 265/600:  44%|████▍     | 265/600 [58:04<1:12:18, 12.95s/it, v_num=rp_1, total_loss_train=3.09e+3, kl_local_train=91.5, metric_mi|status_control_train=0.212, metric_mi|zone_train=0.178, metric_mi|time_cat_train=0.166, metric_mi|mouse_train=0.136]"
     ]
    },
    {
     "name": "stdout",
     "output_type": "stream",
     "text": [
      "\r",
      "Epoch 265/600:  44%|████▍     | 265/600 [58:04<1:12:18, 12.95s/it, v_num=rp_1, total_loss_train=3.09e+3, kl_local_train=91.6, metric_mi|status_control_train=0.212, metric_mi|zone_train=0.178, metric_mi|time_cat_train=0.166, metric_mi|mouse_train=0.136]"
     ]
    },
    {
     "name": "stdout",
     "output_type": "stream",
     "text": [
      "\r",
      "Epoch 266/600:  44%|████▍     | 265/600 [58:06<1:12:18, 12.95s/it, v_num=rp_1, total_loss_train=3.09e+3, kl_local_train=91.6, metric_mi|status_control_train=0.212, metric_mi|zone_train=0.178, metric_mi|time_cat_train=0.166, metric_mi|mouse_train=0.136]"
     ]
    },
    {
     "name": "stdout",
     "output_type": "stream",
     "text": [
      "\r",
      "Epoch 266/600:  44%|████▍     | 266/600 [58:19<1:14:17, 13.35s/it, v_num=rp_1, total_loss_train=3.09e+3, kl_local_train=91.6, metric_mi|status_control_train=0.212, metric_mi|zone_train=0.178, metric_mi|time_cat_train=0.166, metric_mi|mouse_train=0.136]"
     ]
    },
    {
     "name": "stdout",
     "output_type": "stream",
     "text": [
      "\r",
      "Epoch 266/600:  44%|████▍     | 266/600 [58:19<1:14:17, 13.35s/it, v_num=rp_1, total_loss_train=3.09e+3, kl_local_train=91.5, metric_mi|status_control_train=0.21, metric_mi|zone_train=0.178, metric_mi|time_cat_train=0.17, metric_mi|mouse_train=0.139]  "
     ]
    },
    {
     "name": "stdout",
     "output_type": "stream",
     "text": [
      "\r",
      "Epoch 267/600:  44%|████▍     | 266/600 [58:19<1:14:17, 13.35s/it, v_num=rp_1, total_loss_train=3.09e+3, kl_local_train=91.5, metric_mi|status_control_train=0.21, metric_mi|zone_train=0.178, metric_mi|time_cat_train=0.17, metric_mi|mouse_train=0.139]"
     ]
    },
    {
     "name": "stdout",
     "output_type": "stream",
     "text": [
      "\r",
      "Epoch 267/600:  44%|████▍     | 267/600 [58:32<1:13:20, 13.21s/it, v_num=rp_1, total_loss_train=3.09e+3, kl_local_train=91.5, metric_mi|status_control_train=0.21, metric_mi|zone_train=0.178, metric_mi|time_cat_train=0.17, metric_mi|mouse_train=0.139]"
     ]
    },
    {
     "name": "stdout",
     "output_type": "stream",
     "text": [
      "\r",
      "Epoch 267/600:  44%|████▍     | 267/600 [58:32<1:13:20, 13.21s/it, v_num=rp_1, total_loss_train=3.09e+3, kl_local_train=91.2, metric_mi|status_control_train=0.21, metric_mi|zone_train=0.178, metric_mi|time_cat_train=0.17, metric_mi|mouse_train=0.139]"
     ]
    },
    {
     "name": "stdout",
     "output_type": "stream",
     "text": [
      "\r",
      "Epoch 268/600:  44%|████▍     | 267/600 [58:32<1:13:20, 13.21s/it, v_num=rp_1, total_loss_train=3.09e+3, kl_local_train=91.2, metric_mi|status_control_train=0.21, metric_mi|zone_train=0.178, metric_mi|time_cat_train=0.17, metric_mi|mouse_train=0.139]"
     ]
    },
    {
     "name": "stdout",
     "output_type": "stream",
     "text": [
      "\r",
      "Epoch 268/600:  45%|████▍     | 268/600 [58:44<1:12:36, 13.12s/it, v_num=rp_1, total_loss_train=3.09e+3, kl_local_train=91.2, metric_mi|status_control_train=0.21, metric_mi|zone_train=0.178, metric_mi|time_cat_train=0.17, metric_mi|mouse_train=0.139]"
     ]
    },
    {
     "name": "stdout",
     "output_type": "stream",
     "text": [
      "\r",
      "Epoch 268/600:  45%|████▍     | 268/600 [58:44<1:12:36, 13.12s/it, v_num=rp_1, total_loss_train=3.09e+3, kl_local_train=91.4, metric_mi|status_control_train=0.21, metric_mi|zone_train=0.178, metric_mi|time_cat_train=0.17, metric_mi|mouse_train=0.139]"
     ]
    },
    {
     "name": "stdout",
     "output_type": "stream",
     "text": [
      "\r",
      "Epoch 269/600:  45%|████▍     | 268/600 [58:44<1:12:36, 13.12s/it, v_num=rp_1, total_loss_train=3.09e+3, kl_local_train=91.4, metric_mi|status_control_train=0.21, metric_mi|zone_train=0.178, metric_mi|time_cat_train=0.17, metric_mi|mouse_train=0.139]"
     ]
    },
    {
     "name": "stdout",
     "output_type": "stream",
     "text": [
      "\r",
      "Epoch 269/600:  45%|████▍     | 269/600 [58:57<1:12:01, 13.05s/it, v_num=rp_1, total_loss_train=3.09e+3, kl_local_train=91.4, metric_mi|status_control_train=0.21, metric_mi|zone_train=0.178, metric_mi|time_cat_train=0.17, metric_mi|mouse_train=0.139]"
     ]
    },
    {
     "name": "stdout",
     "output_type": "stream",
     "text": [
      "\r",
      "Epoch 269/600:  45%|████▍     | 269/600 [58:57<1:12:01, 13.05s/it, v_num=rp_1, total_loss_train=3.09e+3, kl_local_train=91.1, metric_mi|status_control_train=0.21, metric_mi|zone_train=0.178, metric_mi|time_cat_train=0.17, metric_mi|mouse_train=0.139]"
     ]
    },
    {
     "name": "stdout",
     "output_type": "stream",
     "text": [
      "\r",
      "Epoch 270/600:  45%|████▍     | 269/600 [58:57<1:12:01, 13.05s/it, v_num=rp_1, total_loss_train=3.09e+3, kl_local_train=91.1, metric_mi|status_control_train=0.21, metric_mi|zone_train=0.178, metric_mi|time_cat_train=0.17, metric_mi|mouse_train=0.139]"
     ]
    },
    {
     "name": "stdout",
     "output_type": "stream",
     "text": [
      "\r",
      "Epoch 270/600:  45%|████▌     | 270/600 [59:10<1:11:26, 12.99s/it, v_num=rp_1, total_loss_train=3.09e+3, kl_local_train=91.1, metric_mi|status_control_train=0.21, metric_mi|zone_train=0.178, metric_mi|time_cat_train=0.17, metric_mi|mouse_train=0.139]"
     ]
    },
    {
     "name": "stdout",
     "output_type": "stream",
     "text": [
      "\r",
      "Epoch 270/600:  45%|████▌     | 270/600 [59:10<1:11:26, 12.99s/it, v_num=rp_1, total_loss_train=3.09e+3, kl_local_train=90.6, metric_mi|status_control_train=0.21, metric_mi|zone_train=0.178, metric_mi|time_cat_train=0.17, metric_mi|mouse_train=0.139]"
     ]
    },
    {
     "name": "stdout",
     "output_type": "stream",
     "text": [
      "\r",
      "Epoch 271/600:  45%|████▌     | 270/600 [59:12<1:11:26, 12.99s/it, v_num=rp_1, total_loss_train=3.09e+3, kl_local_train=90.6, metric_mi|status_control_train=0.21, metric_mi|zone_train=0.178, metric_mi|time_cat_train=0.17, metric_mi|mouse_train=0.139]"
     ]
    },
    {
     "name": "stdout",
     "output_type": "stream",
     "text": [
      "\r",
      "Epoch 271/600:  45%|████▌     | 271/600 [59:24<1:13:11, 13.35s/it, v_num=rp_1, total_loss_train=3.09e+3, kl_local_train=90.6, metric_mi|status_control_train=0.21, metric_mi|zone_train=0.178, metric_mi|time_cat_train=0.17, metric_mi|mouse_train=0.139]"
     ]
    },
    {
     "name": "stdout",
     "output_type": "stream",
     "text": [
      "\r",
      "Epoch 271/600:  45%|████▌     | 271/600 [59:24<1:13:11, 13.35s/it, v_num=rp_1, total_loss_train=3.09e+3, kl_local_train=91.1, metric_mi|status_control_train=0.212, metric_mi|zone_train=0.179, metric_mi|time_cat_train=0.169, metric_mi|mouse_train=0.138]"
     ]
    },
    {
     "name": "stdout",
     "output_type": "stream",
     "text": [
      "\r",
      "Epoch 272/600:  45%|████▌     | 271/600 [59:24<1:13:11, 13.35s/it, v_num=rp_1, total_loss_train=3.09e+3, kl_local_train=91.1, metric_mi|status_control_train=0.212, metric_mi|zone_train=0.179, metric_mi|time_cat_train=0.169, metric_mi|mouse_train=0.138]"
     ]
    },
    {
     "name": "stdout",
     "output_type": "stream",
     "text": [
      "\r",
      "Epoch 272/600:  45%|████▌     | 272/600 [59:37<1:12:15, 13.22s/it, v_num=rp_1, total_loss_train=3.09e+3, kl_local_train=91.1, metric_mi|status_control_train=0.212, metric_mi|zone_train=0.179, metric_mi|time_cat_train=0.169, metric_mi|mouse_train=0.138]"
     ]
    },
    {
     "name": "stdout",
     "output_type": "stream",
     "text": [
      "\r",
      "Epoch 272/600:  45%|████▌     | 272/600 [59:37<1:12:15, 13.22s/it, v_num=rp_1, total_loss_train=3.09e+3, kl_local_train=90.4, metric_mi|status_control_train=0.212, metric_mi|zone_train=0.179, metric_mi|time_cat_train=0.169, metric_mi|mouse_train=0.138]"
     ]
    },
    {
     "name": "stdout",
     "output_type": "stream",
     "text": [
      "\r",
      "Epoch 273/600:  45%|████▌     | 272/600 [59:37<1:12:15, 13.22s/it, v_num=rp_1, total_loss_train=3.09e+3, kl_local_train=90.4, metric_mi|status_control_train=0.212, metric_mi|zone_train=0.179, metric_mi|time_cat_train=0.169, metric_mi|mouse_train=0.138]"
     ]
    },
    {
     "name": "stdout",
     "output_type": "stream",
     "text": [
      "\r",
      "Epoch 273/600:  46%|████▌     | 273/600 [59:50<1:11:25, 13.11s/it, v_num=rp_1, total_loss_train=3.09e+3, kl_local_train=90.4, metric_mi|status_control_train=0.212, metric_mi|zone_train=0.179, metric_mi|time_cat_train=0.169, metric_mi|mouse_train=0.138]"
     ]
    },
    {
     "name": "stdout",
     "output_type": "stream",
     "text": [
      "\r",
      "Epoch 273/600:  46%|████▌     | 273/600 [59:50<1:11:25, 13.11s/it, v_num=rp_1, total_loss_train=3.09e+3, kl_local_train=90.2, metric_mi|status_control_train=0.212, metric_mi|zone_train=0.179, metric_mi|time_cat_train=0.169, metric_mi|mouse_train=0.138]"
     ]
    },
    {
     "name": "stdout",
     "output_type": "stream",
     "text": [
      "\r",
      "Epoch 274/600:  46%|████▌     | 273/600 [59:50<1:11:25, 13.11s/it, v_num=rp_1, total_loss_train=3.09e+3, kl_local_train=90.2, metric_mi|status_control_train=0.212, metric_mi|zone_train=0.179, metric_mi|time_cat_train=0.169, metric_mi|mouse_train=0.138]"
     ]
    },
    {
     "name": "stdout",
     "output_type": "stream",
     "text": [
      "\r",
      "Epoch 274/600:  46%|████▌     | 274/600 [1:00:03<1:10:14, 12.93s/it, v_num=rp_1, total_loss_train=3.09e+3, kl_local_train=90.2, metric_mi|status_control_train=0.212, metric_mi|zone_train=0.179, metric_mi|time_cat_train=0.169, metric_mi|mouse_train=0.138]"
     ]
    },
    {
     "name": "stdout",
     "output_type": "stream",
     "text": [
      "\r",
      "Epoch 274/600:  46%|████▌     | 274/600 [1:00:03<1:10:14, 12.93s/it, v_num=rp_1, total_loss_train=3.09e+3, kl_local_train=90.3, metric_mi|status_control_train=0.212, metric_mi|zone_train=0.179, metric_mi|time_cat_train=0.169, metric_mi|mouse_train=0.138]"
     ]
    },
    {
     "name": "stdout",
     "output_type": "stream",
     "text": [
      "\r",
      "Epoch 275/600:  46%|████▌     | 274/600 [1:00:03<1:10:14, 12.93s/it, v_num=rp_1, total_loss_train=3.09e+3, kl_local_train=90.3, metric_mi|status_control_train=0.212, metric_mi|zone_train=0.179, metric_mi|time_cat_train=0.169, metric_mi|mouse_train=0.138]"
     ]
    },
    {
     "name": "stdout",
     "output_type": "stream",
     "text": [
      "\r",
      "Epoch 275/600:  46%|████▌     | 275/600 [1:00:16<1:10:01, 12.93s/it, v_num=rp_1, total_loss_train=3.09e+3, kl_local_train=90.3, metric_mi|status_control_train=0.212, metric_mi|zone_train=0.179, metric_mi|time_cat_train=0.169, metric_mi|mouse_train=0.138]"
     ]
    },
    {
     "name": "stdout",
     "output_type": "stream",
     "text": [
      "\r",
      "Epoch 275/600:  46%|████▌     | 275/600 [1:00:16<1:10:01, 12.93s/it, v_num=rp_1, total_loss_train=3.09e+3, kl_local_train=90.2, metric_mi|status_control_train=0.212, metric_mi|zone_train=0.179, metric_mi|time_cat_train=0.169, metric_mi|mouse_train=0.138]"
     ]
    },
    {
     "name": "stdout",
     "output_type": "stream",
     "text": [
      "\r",
      "Epoch 276/600:  46%|████▌     | 275/600 [1:00:17<1:10:01, 12.93s/it, v_num=rp_1, total_loss_train=3.09e+3, kl_local_train=90.2, metric_mi|status_control_train=0.212, metric_mi|zone_train=0.179, metric_mi|time_cat_train=0.169, metric_mi|mouse_train=0.138]"
     ]
    },
    {
     "name": "stdout",
     "output_type": "stream",
     "text": [
      "\r",
      "Epoch 276/600:  46%|████▌     | 276/600 [1:00:30<1:11:47, 13.30s/it, v_num=rp_1, total_loss_train=3.09e+3, kl_local_train=90.2, metric_mi|status_control_train=0.212, metric_mi|zone_train=0.179, metric_mi|time_cat_train=0.169, metric_mi|mouse_train=0.138]"
     ]
    },
    {
     "name": "stdout",
     "output_type": "stream",
     "text": [
      "\r",
      "Epoch 276/600:  46%|████▌     | 276/600 [1:00:30<1:11:47, 13.30s/it, v_num=rp_1, total_loss_train=3.08e+3, kl_local_train=90.2, metric_mi|status_control_train=0.221, metric_mi|zone_train=0.178, metric_mi|time_cat_train=0.171, metric_mi|mouse_train=0.139]"
     ]
    },
    {
     "name": "stdout",
     "output_type": "stream",
     "text": [
      "\r",
      "Epoch 277/600:  46%|████▌     | 276/600 [1:00:30<1:11:47, 13.30s/it, v_num=rp_1, total_loss_train=3.08e+3, kl_local_train=90.2, metric_mi|status_control_train=0.221, metric_mi|zone_train=0.178, metric_mi|time_cat_train=0.171, metric_mi|mouse_train=0.139]"
     ]
    },
    {
     "name": "stdout",
     "output_type": "stream",
     "text": [
      "\r",
      "Epoch 277/600:  46%|████▌     | 277/600 [1:00:43<1:10:55, 13.17s/it, v_num=rp_1, total_loss_train=3.08e+3, kl_local_train=90.2, metric_mi|status_control_train=0.221, metric_mi|zone_train=0.178, metric_mi|time_cat_train=0.171, metric_mi|mouse_train=0.139]"
     ]
    },
    {
     "name": "stdout",
     "output_type": "stream",
     "text": [
      "\r",
      "Epoch 277/600:  46%|████▌     | 277/600 [1:00:43<1:10:55, 13.17s/it, v_num=rp_1, total_loss_train=3.08e+3, kl_local_train=89.9, metric_mi|status_control_train=0.221, metric_mi|zone_train=0.178, metric_mi|time_cat_train=0.171, metric_mi|mouse_train=0.139]"
     ]
    },
    {
     "name": "stdout",
     "output_type": "stream",
     "text": [
      "\r",
      "Epoch 278/600:  46%|████▌     | 277/600 [1:00:43<1:10:55, 13.17s/it, v_num=rp_1, total_loss_train=3.08e+3, kl_local_train=89.9, metric_mi|status_control_train=0.221, metric_mi|zone_train=0.178, metric_mi|time_cat_train=0.171, metric_mi|mouse_train=0.139]"
     ]
    },
    {
     "name": "stdout",
     "output_type": "stream",
     "text": [
      "\r",
      "Epoch 278/600:  46%|████▋     | 278/600 [1:00:55<1:10:01, 13.05s/it, v_num=rp_1, total_loss_train=3.08e+3, kl_local_train=89.9, metric_mi|status_control_train=0.221, metric_mi|zone_train=0.178, metric_mi|time_cat_train=0.171, metric_mi|mouse_train=0.139]"
     ]
    },
    {
     "name": "stdout",
     "output_type": "stream",
     "text": [
      "\r",
      "Epoch 278/600:  46%|████▋     | 278/600 [1:00:55<1:10:01, 13.05s/it, v_num=rp_1, total_loss_train=3.08e+3, kl_local_train=89.6, metric_mi|status_control_train=0.221, metric_mi|zone_train=0.178, metric_mi|time_cat_train=0.171, metric_mi|mouse_train=0.139]"
     ]
    },
    {
     "name": "stdout",
     "output_type": "stream",
     "text": [
      "\r",
      "Epoch 279/600:  46%|████▋     | 278/600 [1:00:55<1:10:01, 13.05s/it, v_num=rp_1, total_loss_train=3.08e+3, kl_local_train=89.6, metric_mi|status_control_train=0.221, metric_mi|zone_train=0.178, metric_mi|time_cat_train=0.171, metric_mi|mouse_train=0.139]"
     ]
    },
    {
     "name": "stdout",
     "output_type": "stream",
     "text": [
      "\r",
      "Epoch 279/600:  46%|████▋     | 279/600 [1:01:07<1:08:15, 12.76s/it, v_num=rp_1, total_loss_train=3.08e+3, kl_local_train=89.6, metric_mi|status_control_train=0.221, metric_mi|zone_train=0.178, metric_mi|time_cat_train=0.171, metric_mi|mouse_train=0.139]"
     ]
    },
    {
     "name": "stdout",
     "output_type": "stream",
     "text": [
      "\r",
      "Epoch 279/600:  46%|████▋     | 279/600 [1:01:07<1:08:15, 12.76s/it, v_num=rp_1, total_loss_train=3.08e+3, kl_local_train=89.8, metric_mi|status_control_train=0.221, metric_mi|zone_train=0.178, metric_mi|time_cat_train=0.171, metric_mi|mouse_train=0.139]"
     ]
    },
    {
     "name": "stdout",
     "output_type": "stream",
     "text": [
      "\r",
      "Epoch 280/600:  46%|████▋     | 279/600 [1:01:07<1:08:15, 12.76s/it, v_num=rp_1, total_loss_train=3.08e+3, kl_local_train=89.8, metric_mi|status_control_train=0.221, metric_mi|zone_train=0.178, metric_mi|time_cat_train=0.171, metric_mi|mouse_train=0.139]"
     ]
    },
    {
     "name": "stdout",
     "output_type": "stream",
     "text": [
      "\r",
      "Epoch 280/600:  47%|████▋     | 280/600 [1:01:19<1:06:51, 12.54s/it, v_num=rp_1, total_loss_train=3.08e+3, kl_local_train=89.8, metric_mi|status_control_train=0.221, metric_mi|zone_train=0.178, metric_mi|time_cat_train=0.171, metric_mi|mouse_train=0.139]"
     ]
    },
    {
     "name": "stdout",
     "output_type": "stream",
     "text": [
      "\r",
      "Epoch 280/600:  47%|████▋     | 280/600 [1:01:19<1:06:51, 12.54s/it, v_num=rp_1, total_loss_train=3.08e+3, kl_local_train=89.5, metric_mi|status_control_train=0.221, metric_mi|zone_train=0.178, metric_mi|time_cat_train=0.171, metric_mi|mouse_train=0.139]"
     ]
    },
    {
     "name": "stdout",
     "output_type": "stream",
     "text": [
      "\r",
      "Epoch 281/600:  47%|████▋     | 280/600 [1:01:21<1:06:51, 12.54s/it, v_num=rp_1, total_loss_train=3.08e+3, kl_local_train=89.5, metric_mi|status_control_train=0.221, metric_mi|zone_train=0.178, metric_mi|time_cat_train=0.171, metric_mi|mouse_train=0.139]"
     ]
    },
    {
     "name": "stdout",
     "output_type": "stream",
     "text": [
      "\r",
      "Epoch 281/600:  47%|████▋     | 281/600 [1:01:33<1:07:55, 12.77s/it, v_num=rp_1, total_loss_train=3.08e+3, kl_local_train=89.5, metric_mi|status_control_train=0.221, metric_mi|zone_train=0.178, metric_mi|time_cat_train=0.171, metric_mi|mouse_train=0.139]"
     ]
    },
    {
     "name": "stdout",
     "output_type": "stream",
     "text": [
      "\r",
      "Epoch 281/600:  47%|████▋     | 281/600 [1:01:33<1:07:55, 12.77s/it, v_num=rp_1, total_loss_train=3.08e+3, kl_local_train=89.7, metric_mi|status_control_train=0.208, metric_mi|zone_train=0.178, metric_mi|time_cat_train=0.163, metric_mi|mouse_train=0.135]"
     ]
    },
    {
     "name": "stdout",
     "output_type": "stream",
     "text": [
      "\r",
      "Epoch 282/600:  47%|████▋     | 281/600 [1:01:33<1:07:55, 12.77s/it, v_num=rp_1, total_loss_train=3.08e+3, kl_local_train=89.7, metric_mi|status_control_train=0.208, metric_mi|zone_train=0.178, metric_mi|time_cat_train=0.163, metric_mi|mouse_train=0.135]"
     ]
    },
    {
     "name": "stdout",
     "output_type": "stream",
     "text": [
      "\r",
      "Epoch 282/600:  47%|████▋     | 282/600 [1:01:45<1:06:34, 12.56s/it, v_num=rp_1, total_loss_train=3.08e+3, kl_local_train=89.7, metric_mi|status_control_train=0.208, metric_mi|zone_train=0.178, metric_mi|time_cat_train=0.163, metric_mi|mouse_train=0.135]"
     ]
    },
    {
     "name": "stdout",
     "output_type": "stream",
     "text": [
      "\r",
      "Epoch 282/600:  47%|████▋     | 282/600 [1:01:45<1:06:34, 12.56s/it, v_num=rp_1, total_loss_train=3.08e+3, kl_local_train=89.7, metric_mi|status_control_train=0.208, metric_mi|zone_train=0.178, metric_mi|time_cat_train=0.163, metric_mi|mouse_train=0.135]"
     ]
    },
    {
     "name": "stdout",
     "output_type": "stream",
     "text": [
      "\r",
      "Epoch 283/600:  47%|████▋     | 282/600 [1:01:45<1:06:34, 12.56s/it, v_num=rp_1, total_loss_train=3.08e+3, kl_local_train=89.7, metric_mi|status_control_train=0.208, metric_mi|zone_train=0.178, metric_mi|time_cat_train=0.163, metric_mi|mouse_train=0.135]"
     ]
    },
    {
     "name": "stdout",
     "output_type": "stream",
     "text": [
      "\r",
      "Epoch 283/600:  47%|████▋     | 283/600 [1:01:57<1:05:30, 12.40s/it, v_num=rp_1, total_loss_train=3.08e+3, kl_local_train=89.7, metric_mi|status_control_train=0.208, metric_mi|zone_train=0.178, metric_mi|time_cat_train=0.163, metric_mi|mouse_train=0.135]"
     ]
    },
    {
     "name": "stdout",
     "output_type": "stream",
     "text": [
      "\r",
      "Epoch 283/600:  47%|████▋     | 283/600 [1:01:57<1:05:30, 12.40s/it, v_num=rp_1, total_loss_train=3.08e+3, kl_local_train=89, metric_mi|status_control_train=0.208, metric_mi|zone_train=0.178, metric_mi|time_cat_train=0.163, metric_mi|mouse_train=0.135]  "
     ]
    },
    {
     "name": "stdout",
     "output_type": "stream",
     "text": [
      "\r",
      "Epoch 284/600:  47%|████▋     | 283/600 [1:01:57<1:05:30, 12.40s/it, v_num=rp_1, total_loss_train=3.08e+3, kl_local_train=89, metric_mi|status_control_train=0.208, metric_mi|zone_train=0.178, metric_mi|time_cat_train=0.163, metric_mi|mouse_train=0.135]"
     ]
    },
    {
     "name": "stdout",
     "output_type": "stream",
     "text": [
      "\r",
      "Epoch 284/600:  47%|████▋     | 284/600 [1:02:09<1:04:44, 12.29s/it, v_num=rp_1, total_loss_train=3.08e+3, kl_local_train=89, metric_mi|status_control_train=0.208, metric_mi|zone_train=0.178, metric_mi|time_cat_train=0.163, metric_mi|mouse_train=0.135]"
     ]
    },
    {
     "name": "stdout",
     "output_type": "stream",
     "text": [
      "\r",
      "Epoch 284/600:  47%|████▋     | 284/600 [1:02:09<1:04:44, 12.29s/it, v_num=rp_1, total_loss_train=3.08e+3, kl_local_train=89.4, metric_mi|status_control_train=0.208, metric_mi|zone_train=0.178, metric_mi|time_cat_train=0.163, metric_mi|mouse_train=0.135]"
     ]
    },
    {
     "name": "stdout",
     "output_type": "stream",
     "text": [
      "\r",
      "Epoch 285/600:  47%|████▋     | 284/600 [1:02:09<1:04:44, 12.29s/it, v_num=rp_1, total_loss_train=3.08e+3, kl_local_train=89.4, metric_mi|status_control_train=0.208, metric_mi|zone_train=0.178, metric_mi|time_cat_train=0.163, metric_mi|mouse_train=0.135]"
     ]
    },
    {
     "name": "stdout",
     "output_type": "stream",
     "text": [
      "\r",
      "Epoch 285/600:  48%|████▊     | 285/600 [1:02:21<1:04:03, 12.20s/it, v_num=rp_1, total_loss_train=3.08e+3, kl_local_train=89.4, metric_mi|status_control_train=0.208, metric_mi|zone_train=0.178, metric_mi|time_cat_train=0.163, metric_mi|mouse_train=0.135]"
     ]
    },
    {
     "name": "stdout",
     "output_type": "stream",
     "text": [
      "\r",
      "Epoch 285/600:  48%|████▊     | 285/600 [1:02:21<1:04:03, 12.20s/it, v_num=rp_1, total_loss_train=3.08e+3, kl_local_train=89.7, metric_mi|status_control_train=0.208, metric_mi|zone_train=0.178, metric_mi|time_cat_train=0.163, metric_mi|mouse_train=0.135]"
     ]
    },
    {
     "name": "stdout",
     "output_type": "stream",
     "text": [
      "\r",
      "Epoch 286/600:  48%|████▊     | 285/600 [1:02:22<1:04:03, 12.20s/it, v_num=rp_1, total_loss_train=3.08e+3, kl_local_train=89.7, metric_mi|status_control_train=0.208, metric_mi|zone_train=0.178, metric_mi|time_cat_train=0.163, metric_mi|mouse_train=0.135]"
     ]
    },
    {
     "name": "stdout",
     "output_type": "stream",
     "text": [
      "\r",
      "Epoch 286/600:  48%|████▊     | 286/600 [1:02:34<1:05:38, 12.54s/it, v_num=rp_1, total_loss_train=3.08e+3, kl_local_train=89.7, metric_mi|status_control_train=0.208, metric_mi|zone_train=0.178, metric_mi|time_cat_train=0.163, metric_mi|mouse_train=0.135]"
     ]
    },
    {
     "name": "stdout",
     "output_type": "stream",
     "text": [
      "\r",
      "Epoch 286/600:  48%|████▊     | 286/600 [1:02:34<1:05:38, 12.54s/it, v_num=rp_1, total_loss_train=3.08e+3, kl_local_train=88.7, metric_mi|status_control_train=0.208, metric_mi|zone_train=0.178, metric_mi|time_cat_train=0.165, metric_mi|mouse_train=0.136]"
     ]
    },
    {
     "name": "stdout",
     "output_type": "stream",
     "text": [
      "\r",
      "Epoch 287/600:  48%|████▊     | 286/600 [1:02:34<1:05:38, 12.54s/it, v_num=rp_1, total_loss_train=3.08e+3, kl_local_train=88.7, metric_mi|status_control_train=0.208, metric_mi|zone_train=0.178, metric_mi|time_cat_train=0.165, metric_mi|mouse_train=0.136]"
     ]
    },
    {
     "name": "stdout",
     "output_type": "stream",
     "text": [
      "\r",
      "Epoch 287/600:  48%|████▊     | 287/600 [1:02:47<1:05:22, 12.53s/it, v_num=rp_1, total_loss_train=3.08e+3, kl_local_train=88.7, metric_mi|status_control_train=0.208, metric_mi|zone_train=0.178, metric_mi|time_cat_train=0.165, metric_mi|mouse_train=0.136]"
     ]
    },
    {
     "name": "stdout",
     "output_type": "stream",
     "text": [
      "\r",
      "Epoch 287/600:  48%|████▊     | 287/600 [1:02:47<1:05:22, 12.53s/it, v_num=rp_1, total_loss_train=3.08e+3, kl_local_train=89.5, metric_mi|status_control_train=0.208, metric_mi|zone_train=0.178, metric_mi|time_cat_train=0.165, metric_mi|mouse_train=0.136]"
     ]
    },
    {
     "name": "stdout",
     "output_type": "stream",
     "text": [
      "\r",
      "Epoch 288/600:  48%|████▊     | 287/600 [1:02:47<1:05:22, 12.53s/it, v_num=rp_1, total_loss_train=3.08e+3, kl_local_train=89.5, metric_mi|status_control_train=0.208, metric_mi|zone_train=0.178, metric_mi|time_cat_train=0.165, metric_mi|mouse_train=0.136]"
     ]
    },
    {
     "name": "stdout",
     "output_type": "stream",
     "text": [
      "\r",
      "Epoch 288/600:  48%|████▊     | 288/600 [1:03:00<1:05:56, 12.68s/it, v_num=rp_1, total_loss_train=3.08e+3, kl_local_train=89.5, metric_mi|status_control_train=0.208, metric_mi|zone_train=0.178, metric_mi|time_cat_train=0.165, metric_mi|mouse_train=0.136]"
     ]
    },
    {
     "name": "stdout",
     "output_type": "stream",
     "text": [
      "\r",
      "Epoch 288/600:  48%|████▊     | 288/600 [1:03:00<1:05:56, 12.68s/it, v_num=rp_1, total_loss_train=3.08e+3, kl_local_train=88.8, metric_mi|status_control_train=0.208, metric_mi|zone_train=0.178, metric_mi|time_cat_train=0.165, metric_mi|mouse_train=0.136]"
     ]
    },
    {
     "name": "stdout",
     "output_type": "stream",
     "text": [
      "\r",
      "Epoch 289/600:  48%|████▊     | 288/600 [1:03:00<1:05:56, 12.68s/it, v_num=rp_1, total_loss_train=3.08e+3, kl_local_train=88.8, metric_mi|status_control_train=0.208, metric_mi|zone_train=0.178, metric_mi|time_cat_train=0.165, metric_mi|mouse_train=0.136]"
     ]
    },
    {
     "name": "stdout",
     "output_type": "stream",
     "text": [
      "\r",
      "Epoch 289/600:  48%|████▊     | 289/600 [1:03:13<1:06:09, 12.76s/it, v_num=rp_1, total_loss_train=3.08e+3, kl_local_train=88.8, metric_mi|status_control_train=0.208, metric_mi|zone_train=0.178, metric_mi|time_cat_train=0.165, metric_mi|mouse_train=0.136]"
     ]
    },
    {
     "name": "stdout",
     "output_type": "stream",
     "text": [
      "\r",
      "Epoch 289/600:  48%|████▊     | 289/600 [1:03:13<1:06:09, 12.76s/it, v_num=rp_1, total_loss_train=3.08e+3, kl_local_train=88.6, metric_mi|status_control_train=0.208, metric_mi|zone_train=0.178, metric_mi|time_cat_train=0.165, metric_mi|mouse_train=0.136]"
     ]
    },
    {
     "name": "stdout",
     "output_type": "stream",
     "text": [
      "\r",
      "Epoch 290/600:  48%|████▊     | 289/600 [1:03:13<1:06:09, 12.76s/it, v_num=rp_1, total_loss_train=3.08e+3, kl_local_train=88.6, metric_mi|status_control_train=0.208, metric_mi|zone_train=0.178, metric_mi|time_cat_train=0.165, metric_mi|mouse_train=0.136]"
     ]
    },
    {
     "name": "stdout",
     "output_type": "stream",
     "text": [
      "\r",
      "Epoch 290/600:  48%|████▊     | 290/600 [1:03:25<1:05:29, 12.67s/it, v_num=rp_1, total_loss_train=3.08e+3, kl_local_train=88.6, metric_mi|status_control_train=0.208, metric_mi|zone_train=0.178, metric_mi|time_cat_train=0.165, metric_mi|mouse_train=0.136]"
     ]
    },
    {
     "name": "stdout",
     "output_type": "stream",
     "text": [
      "\r",
      "Epoch 290/600:  48%|████▊     | 290/600 [1:03:25<1:05:29, 12.67s/it, v_num=rp_1, total_loss_train=3.08e+3, kl_local_train=88.8, metric_mi|status_control_train=0.208, metric_mi|zone_train=0.178, metric_mi|time_cat_train=0.165, metric_mi|mouse_train=0.136]"
     ]
    },
    {
     "name": "stdout",
     "output_type": "stream",
     "text": [
      "\r",
      "Epoch 291/600:  48%|████▊     | 290/600 [1:03:27<1:05:29, 12.67s/it, v_num=rp_1, total_loss_train=3.08e+3, kl_local_train=88.8, metric_mi|status_control_train=0.208, metric_mi|zone_train=0.178, metric_mi|time_cat_train=0.165, metric_mi|mouse_train=0.136]"
     ]
    },
    {
     "name": "stdout",
     "output_type": "stream",
     "text": [
      "\r",
      "Epoch 291/600:  48%|████▊     | 291/600 [1:03:39<1:07:42, 13.15s/it, v_num=rp_1, total_loss_train=3.08e+3, kl_local_train=88.8, metric_mi|status_control_train=0.208, metric_mi|zone_train=0.178, metric_mi|time_cat_train=0.165, metric_mi|mouse_train=0.136]"
     ]
    },
    {
     "name": "stdout",
     "output_type": "stream",
     "text": [
      "\r",
      "Epoch 291/600:  48%|████▊     | 291/600 [1:03:39<1:07:42, 13.15s/it, v_num=rp_1, total_loss_train=3.08e+3, kl_local_train=88.6, metric_mi|status_control_train=0.217, metric_mi|zone_train=0.179, metric_mi|time_cat_train=0.167, metric_mi|mouse_train=0.137]"
     ]
    },
    {
     "name": "stdout",
     "output_type": "stream",
     "text": [
      "\r",
      "Epoch 292/600:  48%|████▊     | 291/600 [1:03:39<1:07:42, 13.15s/it, v_num=rp_1, total_loss_train=3.08e+3, kl_local_train=88.6, metric_mi|status_control_train=0.217, metric_mi|zone_train=0.179, metric_mi|time_cat_train=0.167, metric_mi|mouse_train=0.137]"
     ]
    },
    {
     "name": "stdout",
     "output_type": "stream",
     "text": [
      "\r",
      "Epoch 292/600:  49%|████▊     | 292/600 [1:03:52<1:06:55, 13.04s/it, v_num=rp_1, total_loss_train=3.08e+3, kl_local_train=88.6, metric_mi|status_control_train=0.217, metric_mi|zone_train=0.179, metric_mi|time_cat_train=0.167, metric_mi|mouse_train=0.137]"
     ]
    },
    {
     "name": "stdout",
     "output_type": "stream",
     "text": [
      "\r",
      "Epoch 292/600:  49%|████▊     | 292/600 [1:03:52<1:06:55, 13.04s/it, v_num=rp_1, total_loss_train=3.08e+3, kl_local_train=88.3, metric_mi|status_control_train=0.217, metric_mi|zone_train=0.179, metric_mi|time_cat_train=0.167, metric_mi|mouse_train=0.137]"
     ]
    },
    {
     "name": "stdout",
     "output_type": "stream",
     "text": [
      "\r",
      "Epoch 293/600:  49%|████▊     | 292/600 [1:03:52<1:06:55, 13.04s/it, v_num=rp_1, total_loss_train=3.08e+3, kl_local_train=88.3, metric_mi|status_control_train=0.217, metric_mi|zone_train=0.179, metric_mi|time_cat_train=0.167, metric_mi|mouse_train=0.137]"
     ]
    },
    {
     "name": "stdout",
     "output_type": "stream",
     "text": [
      "\r",
      "Epoch 293/600:  49%|████▉     | 293/600 [1:04:05<1:06:29, 13.00s/it, v_num=rp_1, total_loss_train=3.08e+3, kl_local_train=88.3, metric_mi|status_control_train=0.217, metric_mi|zone_train=0.179, metric_mi|time_cat_train=0.167, metric_mi|mouse_train=0.137]"
     ]
    },
    {
     "name": "stdout",
     "output_type": "stream",
     "text": [
      "\r",
      "Epoch 293/600:  49%|████▉     | 293/600 [1:04:05<1:06:29, 13.00s/it, v_num=rp_1, total_loss_train=3.08e+3, kl_local_train=88.3, metric_mi|status_control_train=0.217, metric_mi|zone_train=0.179, metric_mi|time_cat_train=0.167, metric_mi|mouse_train=0.137]"
     ]
    },
    {
     "name": "stdout",
     "output_type": "stream",
     "text": [
      "\r",
      "Epoch 294/600:  49%|████▉     | 293/600 [1:04:05<1:06:29, 13.00s/it, v_num=rp_1, total_loss_train=3.08e+3, kl_local_train=88.3, metric_mi|status_control_train=0.217, metric_mi|zone_train=0.179, metric_mi|time_cat_train=0.167, metric_mi|mouse_train=0.137]"
     ]
    },
    {
     "name": "stdout",
     "output_type": "stream",
     "text": [
      "\r",
      "Epoch 294/600:  49%|████▉     | 294/600 [1:04:18<1:06:02, 12.95s/it, v_num=rp_1, total_loss_train=3.08e+3, kl_local_train=88.3, metric_mi|status_control_train=0.217, metric_mi|zone_train=0.179, metric_mi|time_cat_train=0.167, metric_mi|mouse_train=0.137]"
     ]
    },
    {
     "name": "stdout",
     "output_type": "stream",
     "text": [
      "\r",
      "Epoch 294/600:  49%|████▉     | 294/600 [1:04:18<1:06:02, 12.95s/it, v_num=rp_1, total_loss_train=3.08e+3, kl_local_train=88.5, metric_mi|status_control_train=0.217, metric_mi|zone_train=0.179, metric_mi|time_cat_train=0.167, metric_mi|mouse_train=0.137]"
     ]
    },
    {
     "name": "stdout",
     "output_type": "stream",
     "text": [
      "\r",
      "Epoch 295/600:  49%|████▉     | 294/600 [1:04:18<1:06:02, 12.95s/it, v_num=rp_1, total_loss_train=3.08e+3, kl_local_train=88.5, metric_mi|status_control_train=0.217, metric_mi|zone_train=0.179, metric_mi|time_cat_train=0.167, metric_mi|mouse_train=0.137]"
     ]
    },
    {
     "name": "stdout",
     "output_type": "stream",
     "text": [
      "\r",
      "Epoch 295/600:  49%|████▉     | 295/600 [1:04:31<1:05:43, 12.93s/it, v_num=rp_1, total_loss_train=3.08e+3, kl_local_train=88.5, metric_mi|status_control_train=0.217, metric_mi|zone_train=0.179, metric_mi|time_cat_train=0.167, metric_mi|mouse_train=0.137]"
     ]
    },
    {
     "name": "stdout",
     "output_type": "stream",
     "text": [
      "\r",
      "Epoch 295/600:  49%|████▉     | 295/600 [1:04:31<1:05:43, 12.93s/it, v_num=rp_1, total_loss_train=3.08e+3, kl_local_train=88, metric_mi|status_control_train=0.217, metric_mi|zone_train=0.179, metric_mi|time_cat_train=0.167, metric_mi|mouse_train=0.137]  "
     ]
    },
    {
     "name": "stdout",
     "output_type": "stream",
     "text": [
      "\r",
      "Epoch 296/600:  49%|████▉     | 295/600 [1:04:32<1:05:43, 12.93s/it, v_num=rp_1, total_loss_train=3.08e+3, kl_local_train=88, metric_mi|status_control_train=0.217, metric_mi|zone_train=0.179, metric_mi|time_cat_train=0.167, metric_mi|mouse_train=0.137]"
     ]
    },
    {
     "name": "stdout",
     "output_type": "stream",
     "text": [
      "\r",
      "Epoch 296/600:  49%|████▉     | 296/600 [1:04:45<1:07:28, 13.32s/it, v_num=rp_1, total_loss_train=3.08e+3, kl_local_train=88, metric_mi|status_control_train=0.217, metric_mi|zone_train=0.179, metric_mi|time_cat_train=0.167, metric_mi|mouse_train=0.137]"
     ]
    },
    {
     "name": "stdout",
     "output_type": "stream",
     "text": [
      "\r",
      "Epoch 296/600:  49%|████▉     | 296/600 [1:04:45<1:07:28, 13.32s/it, v_num=rp_1, total_loss_train=3.08e+3, kl_local_train=87.4, metric_mi|status_control_train=0.229, metric_mi|zone_train=0.178, metric_mi|time_cat_train=0.166, metric_mi|mouse_train=0.136]"
     ]
    },
    {
     "name": "stdout",
     "output_type": "stream",
     "text": [
      "\r",
      "Epoch 297/600:  49%|████▉     | 296/600 [1:04:45<1:07:28, 13.32s/it, v_num=rp_1, total_loss_train=3.08e+3, kl_local_train=87.4, metric_mi|status_control_train=0.229, metric_mi|zone_train=0.178, metric_mi|time_cat_train=0.166, metric_mi|mouse_train=0.136]"
     ]
    },
    {
     "name": "stdout",
     "output_type": "stream",
     "text": [
      "\r",
      "Epoch 297/600:  50%|████▉     | 297/600 [1:04:58<1:07:03, 13.28s/it, v_num=rp_1, total_loss_train=3.08e+3, kl_local_train=87.4, metric_mi|status_control_train=0.229, metric_mi|zone_train=0.178, metric_mi|time_cat_train=0.166, metric_mi|mouse_train=0.136]"
     ]
    },
    {
     "name": "stdout",
     "output_type": "stream",
     "text": [
      "\r",
      "Epoch 297/600:  50%|████▉     | 297/600 [1:04:58<1:07:03, 13.28s/it, v_num=rp_1, total_loss_train=3.08e+3, kl_local_train=87.7, metric_mi|status_control_train=0.229, metric_mi|zone_train=0.178, metric_mi|time_cat_train=0.166, metric_mi|mouse_train=0.136]"
     ]
    },
    {
     "name": "stdout",
     "output_type": "stream",
     "text": [
      "\r",
      "Epoch 298/600:  50%|████▉     | 297/600 [1:04:58<1:07:03, 13.28s/it, v_num=rp_1, total_loss_train=3.08e+3, kl_local_train=87.7, metric_mi|status_control_train=0.229, metric_mi|zone_train=0.178, metric_mi|time_cat_train=0.166, metric_mi|mouse_train=0.136]"
     ]
    },
    {
     "name": "stdout",
     "output_type": "stream",
     "text": [
      "\r",
      "Epoch 298/600:  50%|████▉     | 298/600 [1:05:11<1:06:11, 13.15s/it, v_num=rp_1, total_loss_train=3.08e+3, kl_local_train=87.7, metric_mi|status_control_train=0.229, metric_mi|zone_train=0.178, metric_mi|time_cat_train=0.166, metric_mi|mouse_train=0.136]"
     ]
    },
    {
     "name": "stdout",
     "output_type": "stream",
     "text": [
      "\r",
      "Epoch 298/600:  50%|████▉     | 298/600 [1:05:11<1:06:11, 13.15s/it, v_num=rp_1, total_loss_train=3.08e+3, kl_local_train=87.7, metric_mi|status_control_train=0.229, metric_mi|zone_train=0.178, metric_mi|time_cat_train=0.166, metric_mi|mouse_train=0.136]"
     ]
    },
    {
     "name": "stdout",
     "output_type": "stream",
     "text": [
      "\r",
      "Epoch 299/600:  50%|████▉     | 298/600 [1:05:11<1:06:11, 13.15s/it, v_num=rp_1, total_loss_train=3.08e+3, kl_local_train=87.7, metric_mi|status_control_train=0.229, metric_mi|zone_train=0.178, metric_mi|time_cat_train=0.166, metric_mi|mouse_train=0.136]"
     ]
    },
    {
     "name": "stdout",
     "output_type": "stream",
     "text": [
      "\r",
      "Epoch 299/600:  50%|████▉     | 299/600 [1:05:24<1:05:35, 13.08s/it, v_num=rp_1, total_loss_train=3.08e+3, kl_local_train=87.7, metric_mi|status_control_train=0.229, metric_mi|zone_train=0.178, metric_mi|time_cat_train=0.166, metric_mi|mouse_train=0.136]"
     ]
    },
    {
     "name": "stdout",
     "output_type": "stream",
     "text": [
      "\r",
      "Epoch 299/600:  50%|████▉     | 299/600 [1:05:24<1:05:35, 13.08s/it, v_num=rp_1, total_loss_train=3.08e+3, kl_local_train=88, metric_mi|status_control_train=0.229, metric_mi|zone_train=0.178, metric_mi|time_cat_train=0.166, metric_mi|mouse_train=0.136]  "
     ]
    },
    {
     "name": "stdout",
     "output_type": "stream",
     "text": [
      "\r",
      "Epoch 300/600:  50%|████▉     | 299/600 [1:05:24<1:05:35, 13.08s/it, v_num=rp_1, total_loss_train=3.08e+3, kl_local_train=88, metric_mi|status_control_train=0.229, metric_mi|zone_train=0.178, metric_mi|time_cat_train=0.166, metric_mi|mouse_train=0.136]"
     ]
    },
    {
     "name": "stdout",
     "output_type": "stream",
     "text": [
      "\r",
      "Epoch 300/600:  50%|█████     | 300/600 [1:05:37<1:04:53, 12.98s/it, v_num=rp_1, total_loss_train=3.08e+3, kl_local_train=88, metric_mi|status_control_train=0.229, metric_mi|zone_train=0.178, metric_mi|time_cat_train=0.166, metric_mi|mouse_train=0.136]"
     ]
    },
    {
     "name": "stdout",
     "output_type": "stream",
     "text": [
      "\r",
      "Epoch 300/600:  50%|█████     | 300/600 [1:05:37<1:04:53, 12.98s/it, v_num=rp_1, total_loss_train=3.08e+3, kl_local_train=87.7, metric_mi|status_control_train=0.229, metric_mi|zone_train=0.178, metric_mi|time_cat_train=0.166, metric_mi|mouse_train=0.136]"
     ]
    },
    {
     "name": "stdout",
     "output_type": "stream",
     "text": [
      "\r",
      "Epoch 301/600:  50%|█████     | 300/600 [1:05:38<1:04:53, 12.98s/it, v_num=rp_1, total_loss_train=3.08e+3, kl_local_train=87.7, metric_mi|status_control_train=0.229, metric_mi|zone_train=0.178, metric_mi|time_cat_train=0.166, metric_mi|mouse_train=0.136]"
     ]
    },
    {
     "name": "stdout",
     "output_type": "stream",
     "text": [
      "\r",
      "Epoch 301/600:  50%|█████     | 301/600 [1:05:51<1:06:31, 13.35s/it, v_num=rp_1, total_loss_train=3.08e+3, kl_local_train=87.7, metric_mi|status_control_train=0.229, metric_mi|zone_train=0.178, metric_mi|time_cat_train=0.166, metric_mi|mouse_train=0.136]"
     ]
    },
    {
     "name": "stdout",
     "output_type": "stream",
     "text": [
      "\r",
      "Epoch 301/600:  50%|█████     | 301/600 [1:05:51<1:06:31, 13.35s/it, v_num=rp_1, total_loss_train=3.08e+3, kl_local_train=87.7, metric_mi|status_control_train=0.204, metric_mi|zone_train=0.178, metric_mi|time_cat_train=0.154, metric_mi|mouse_train=0.13] "
     ]
    },
    {
     "name": "stdout",
     "output_type": "stream",
     "text": [
      "\r",
      "Epoch 302/600:  50%|█████     | 301/600 [1:05:51<1:06:31, 13.35s/it, v_num=rp_1, total_loss_train=3.08e+3, kl_local_train=87.7, metric_mi|status_control_train=0.204, metric_mi|zone_train=0.178, metric_mi|time_cat_train=0.154, metric_mi|mouse_train=0.13]"
     ]
    },
    {
     "name": "stdout",
     "output_type": "stream",
     "text": [
      "\r",
      "Epoch 302/600:  50%|█████     | 302/600 [1:06:04<1:05:35, 13.21s/it, v_num=rp_1, total_loss_train=3.08e+3, kl_local_train=87.7, metric_mi|status_control_train=0.204, metric_mi|zone_train=0.178, metric_mi|time_cat_train=0.154, metric_mi|mouse_train=0.13]"
     ]
    },
    {
     "name": "stdout",
     "output_type": "stream",
     "text": [
      "\r",
      "Epoch 302/600:  50%|█████     | 302/600 [1:06:04<1:05:35, 13.21s/it, v_num=rp_1, total_loss_train=3.08e+3, kl_local_train=87, metric_mi|status_control_train=0.204, metric_mi|zone_train=0.178, metric_mi|time_cat_train=0.154, metric_mi|mouse_train=0.13]  "
     ]
    },
    {
     "name": "stdout",
     "output_type": "stream",
     "text": [
      "\r",
      "Epoch 303/600:  50%|█████     | 302/600 [1:06:04<1:05:35, 13.21s/it, v_num=rp_1, total_loss_train=3.08e+3, kl_local_train=87, metric_mi|status_control_train=0.204, metric_mi|zone_train=0.178, metric_mi|time_cat_train=0.154, metric_mi|mouse_train=0.13]"
     ]
    },
    {
     "name": "stdout",
     "output_type": "stream",
     "text": [
      "\r",
      "Epoch 303/600:  50%|█████     | 303/600 [1:06:17<1:04:50, 13.10s/it, v_num=rp_1, total_loss_train=3.08e+3, kl_local_train=87, metric_mi|status_control_train=0.204, metric_mi|zone_train=0.178, metric_mi|time_cat_train=0.154, metric_mi|mouse_train=0.13]"
     ]
    },
    {
     "name": "stdout",
     "output_type": "stream",
     "text": [
      "\r",
      "Epoch 303/600:  50%|█████     | 303/600 [1:06:17<1:04:50, 13.10s/it, v_num=rp_1, total_loss_train=3.08e+3, kl_local_train=87, metric_mi|status_control_train=0.204, metric_mi|zone_train=0.178, metric_mi|time_cat_train=0.154, metric_mi|mouse_train=0.13]"
     ]
    },
    {
     "name": "stdout",
     "output_type": "stream",
     "text": [
      "\r",
      "Epoch 304/600:  50%|█████     | 303/600 [1:06:17<1:04:50, 13.10s/it, v_num=rp_1, total_loss_train=3.08e+3, kl_local_train=87, metric_mi|status_control_train=0.204, metric_mi|zone_train=0.178, metric_mi|time_cat_train=0.154, metric_mi|mouse_train=0.13]"
     ]
    },
    {
     "name": "stdout",
     "output_type": "stream",
     "text": [
      "\r",
      "Epoch 304/600:  51%|█████     | 304/600 [1:06:29<1:03:44, 12.92s/it, v_num=rp_1, total_loss_train=3.08e+3, kl_local_train=87, metric_mi|status_control_train=0.204, metric_mi|zone_train=0.178, metric_mi|time_cat_train=0.154, metric_mi|mouse_train=0.13]"
     ]
    },
    {
     "name": "stdout",
     "output_type": "stream",
     "text": [
      "\r",
      "Epoch 304/600:  51%|█████     | 304/600 [1:06:29<1:03:44, 12.92s/it, v_num=rp_1, total_loss_train=3.08e+3, kl_local_train=87.5, metric_mi|status_control_train=0.204, metric_mi|zone_train=0.178, metric_mi|time_cat_train=0.154, metric_mi|mouse_train=0.13]"
     ]
    },
    {
     "name": "stdout",
     "output_type": "stream",
     "text": [
      "\r",
      "Epoch 305/600:  51%|█████     | 304/600 [1:06:29<1:03:44, 12.92s/it, v_num=rp_1, total_loss_train=3.08e+3, kl_local_train=87.5, metric_mi|status_control_train=0.204, metric_mi|zone_train=0.178, metric_mi|time_cat_train=0.154, metric_mi|mouse_train=0.13]"
     ]
    },
    {
     "name": "stdout",
     "output_type": "stream",
     "text": [
      "\r",
      "Epoch 305/600:  51%|█████     | 305/600 [1:06:42<1:03:24, 12.90s/it, v_num=rp_1, total_loss_train=3.08e+3, kl_local_train=87.5, metric_mi|status_control_train=0.204, metric_mi|zone_train=0.178, metric_mi|time_cat_train=0.154, metric_mi|mouse_train=0.13]"
     ]
    },
    {
     "name": "stdout",
     "output_type": "stream",
     "text": [
      "\r",
      "Epoch 305/600:  51%|█████     | 305/600 [1:06:42<1:03:24, 12.90s/it, v_num=rp_1, total_loss_train=3.08e+3, kl_local_train=87.2, metric_mi|status_control_train=0.204, metric_mi|zone_train=0.178, metric_mi|time_cat_train=0.154, metric_mi|mouse_train=0.13]"
     ]
    },
    {
     "name": "stdout",
     "output_type": "stream",
     "text": [
      "\r",
      "Epoch 306/600:  51%|█████     | 305/600 [1:06:43<1:03:24, 12.90s/it, v_num=rp_1, total_loss_train=3.08e+3, kl_local_train=87.2, metric_mi|status_control_train=0.204, metric_mi|zone_train=0.178, metric_mi|time_cat_train=0.154, metric_mi|mouse_train=0.13]"
     ]
    },
    {
     "name": "stdout",
     "output_type": "stream",
     "text": [
      "\r",
      "Epoch 306/600:  51%|█████     | 306/600 [1:06:56<1:05:08, 13.30s/it, v_num=rp_1, total_loss_train=3.08e+3, kl_local_train=87.2, metric_mi|status_control_train=0.204, metric_mi|zone_train=0.178, metric_mi|time_cat_train=0.154, metric_mi|mouse_train=0.13]"
     ]
    },
    {
     "name": "stdout",
     "output_type": "stream",
     "text": [
      "\r",
      "Epoch 306/600:  51%|█████     | 306/600 [1:06:56<1:05:08, 13.30s/it, v_num=rp_1, total_loss_train=3.08e+3, kl_local_train=87.3, metric_mi|status_control_train=0.201, metric_mi|zone_train=0.177, metric_mi|time_cat_train=0.155, metric_mi|mouse_train=0.13]"
     ]
    },
    {
     "name": "stdout",
     "output_type": "stream",
     "text": [
      "\r",
      "Epoch 307/600:  51%|█████     | 306/600 [1:06:56<1:05:08, 13.30s/it, v_num=rp_1, total_loss_train=3.08e+3, kl_local_train=87.3, metric_mi|status_control_train=0.201, metric_mi|zone_train=0.177, metric_mi|time_cat_train=0.155, metric_mi|mouse_train=0.13]"
     ]
    },
    {
     "name": "stdout",
     "output_type": "stream",
     "text": [
      "\r",
      "Epoch 307/600:  51%|█████     | 307/600 [1:07:09<1:04:21, 13.18s/it, v_num=rp_1, total_loss_train=3.08e+3, kl_local_train=87.3, metric_mi|status_control_train=0.201, metric_mi|zone_train=0.177, metric_mi|time_cat_train=0.155, metric_mi|mouse_train=0.13]"
     ]
    },
    {
     "name": "stdout",
     "output_type": "stream",
     "text": [
      "\r",
      "Epoch 307/600:  51%|█████     | 307/600 [1:07:09<1:04:21, 13.18s/it, v_num=rp_1, total_loss_train=3.08e+3, kl_local_train=87, metric_mi|status_control_train=0.201, metric_mi|zone_train=0.177, metric_mi|time_cat_train=0.155, metric_mi|mouse_train=0.13]  "
     ]
    },
    {
     "name": "stdout",
     "output_type": "stream",
     "text": [
      "\r",
      "Epoch 308/600:  51%|█████     | 307/600 [1:07:09<1:04:21, 13.18s/it, v_num=rp_1, total_loss_train=3.08e+3, kl_local_train=87, metric_mi|status_control_train=0.201, metric_mi|zone_train=0.177, metric_mi|time_cat_train=0.155, metric_mi|mouse_train=0.13]"
     ]
    },
    {
     "name": "stdout",
     "output_type": "stream",
     "text": [
      "\r",
      "Epoch 308/600:  51%|█████▏    | 308/600 [1:07:22<1:03:42, 13.09s/it, v_num=rp_1, total_loss_train=3.08e+3, kl_local_train=87, metric_mi|status_control_train=0.201, metric_mi|zone_train=0.177, metric_mi|time_cat_train=0.155, metric_mi|mouse_train=0.13]"
     ]
    },
    {
     "name": "stdout",
     "output_type": "stream",
     "text": [
      "\r",
      "Epoch 308/600:  51%|█████▏    | 308/600 [1:07:22<1:03:42, 13.09s/it, v_num=rp_1, total_loss_train=3.08e+3, kl_local_train=86.4, metric_mi|status_control_train=0.201, metric_mi|zone_train=0.177, metric_mi|time_cat_train=0.155, metric_mi|mouse_train=0.13]"
     ]
    },
    {
     "name": "stdout",
     "output_type": "stream",
     "text": [
      "\r",
      "Epoch 309/600:  51%|█████▏    | 308/600 [1:07:22<1:03:42, 13.09s/it, v_num=rp_1, total_loss_train=3.08e+3, kl_local_train=86.4, metric_mi|status_control_train=0.201, metric_mi|zone_train=0.177, metric_mi|time_cat_train=0.155, metric_mi|mouse_train=0.13]"
     ]
    },
    {
     "name": "stdout",
     "output_type": "stream",
     "text": [
      "\r",
      "Epoch 309/600:  52%|█████▏    | 309/600 [1:07:35<1:03:12, 13.03s/it, v_num=rp_1, total_loss_train=3.08e+3, kl_local_train=86.4, metric_mi|status_control_train=0.201, metric_mi|zone_train=0.177, metric_mi|time_cat_train=0.155, metric_mi|mouse_train=0.13]"
     ]
    },
    {
     "name": "stdout",
     "output_type": "stream",
     "text": [
      "\r",
      "Epoch 309/600:  52%|█████▏    | 309/600 [1:07:35<1:03:12, 13.03s/it, v_num=rp_1, total_loss_train=3.08e+3, kl_local_train=86.3, metric_mi|status_control_train=0.201, metric_mi|zone_train=0.177, metric_mi|time_cat_train=0.155, metric_mi|mouse_train=0.13]"
     ]
    },
    {
     "name": "stdout",
     "output_type": "stream",
     "text": [
      "\r",
      "Epoch 310/600:  52%|█████▏    | 309/600 [1:07:35<1:03:12, 13.03s/it, v_num=rp_1, total_loss_train=3.08e+3, kl_local_train=86.3, metric_mi|status_control_train=0.201, metric_mi|zone_train=0.177, metric_mi|time_cat_train=0.155, metric_mi|mouse_train=0.13]"
     ]
    },
    {
     "name": "stdout",
     "output_type": "stream",
     "text": [
      "\r",
      "Epoch 310/600:  52%|█████▏    | 310/600 [1:07:48<1:02:51, 13.00s/it, v_num=rp_1, total_loss_train=3.08e+3, kl_local_train=86.3, metric_mi|status_control_train=0.201, metric_mi|zone_train=0.177, metric_mi|time_cat_train=0.155, metric_mi|mouse_train=0.13]"
     ]
    },
    {
     "name": "stdout",
     "output_type": "stream",
     "text": [
      "\r",
      "Epoch 310/600:  52%|█████▏    | 310/600 [1:07:48<1:02:51, 13.00s/it, v_num=rp_1, total_loss_train=3.08e+3, kl_local_train=86.4, metric_mi|status_control_train=0.201, metric_mi|zone_train=0.177, metric_mi|time_cat_train=0.155, metric_mi|mouse_train=0.13]"
     ]
    },
    {
     "name": "stdout",
     "output_type": "stream",
     "text": [
      "\r",
      "Epoch 311/600:  52%|█████▏    | 310/600 [1:07:49<1:02:51, 13.00s/it, v_num=rp_1, total_loss_train=3.08e+3, kl_local_train=86.4, metric_mi|status_control_train=0.201, metric_mi|zone_train=0.177, metric_mi|time_cat_train=0.155, metric_mi|mouse_train=0.13]"
     ]
    },
    {
     "name": "stdout",
     "output_type": "stream",
     "text": [
      "\r",
      "Epoch 311/600:  52%|█████▏    | 311/600 [1:08:02<1:04:53, 13.47s/it, v_num=rp_1, total_loss_train=3.08e+3, kl_local_train=86.4, metric_mi|status_control_train=0.201, metric_mi|zone_train=0.177, metric_mi|time_cat_train=0.155, metric_mi|mouse_train=0.13]"
     ]
    },
    {
     "name": "stdout",
     "output_type": "stream",
     "text": [
      "\r",
      "Epoch 311/600:  52%|█████▏    | 311/600 [1:08:02<1:04:53, 13.47s/it, v_num=rp_1, total_loss_train=3.08e+3, kl_local_train=86.2, metric_mi|status_control_train=0.213, metric_mi|zone_train=0.177, metric_mi|time_cat_train=0.161, metric_mi|mouse_train=0.134]"
     ]
    },
    {
     "name": "stdout",
     "output_type": "stream",
     "text": [
      "\r",
      "Epoch 312/600:  52%|█████▏    | 311/600 [1:08:02<1:04:53, 13.47s/it, v_num=rp_1, total_loss_train=3.08e+3, kl_local_train=86.2, metric_mi|status_control_train=0.213, metric_mi|zone_train=0.177, metric_mi|time_cat_train=0.161, metric_mi|mouse_train=0.134]"
     ]
    },
    {
     "name": "stdout",
     "output_type": "stream",
     "text": [
      "\r",
      "Epoch 312/600:  52%|█████▏    | 312/600 [1:08:15<1:03:47, 13.29s/it, v_num=rp_1, total_loss_train=3.08e+3, kl_local_train=86.2, metric_mi|status_control_train=0.213, metric_mi|zone_train=0.177, metric_mi|time_cat_train=0.161, metric_mi|mouse_train=0.134]"
     ]
    },
    {
     "name": "stdout",
     "output_type": "stream",
     "text": [
      "\r",
      "Epoch 312/600:  52%|█████▏    | 312/600 [1:08:15<1:03:47, 13.29s/it, v_num=rp_1, total_loss_train=3.08e+3, kl_local_train=85.9, metric_mi|status_control_train=0.213, metric_mi|zone_train=0.177, metric_mi|time_cat_train=0.161, metric_mi|mouse_train=0.134]"
     ]
    },
    {
     "name": "stdout",
     "output_type": "stream",
     "text": [
      "\r",
      "Epoch 313/600:  52%|█████▏    | 312/600 [1:08:15<1:03:47, 13.29s/it, v_num=rp_1, total_loss_train=3.08e+3, kl_local_train=85.9, metric_mi|status_control_train=0.213, metric_mi|zone_train=0.177, metric_mi|time_cat_train=0.161, metric_mi|mouse_train=0.134]"
     ]
    },
    {
     "name": "stdout",
     "output_type": "stream",
     "text": [
      "\r",
      "Epoch 313/600:  52%|█████▏    | 313/600 [1:08:28<1:02:57, 13.16s/it, v_num=rp_1, total_loss_train=3.08e+3, kl_local_train=85.9, metric_mi|status_control_train=0.213, metric_mi|zone_train=0.177, metric_mi|time_cat_train=0.161, metric_mi|mouse_train=0.134]"
     ]
    },
    {
     "name": "stdout",
     "output_type": "stream",
     "text": [
      "\r",
      "Epoch 313/600:  52%|█████▏    | 313/600 [1:08:28<1:02:57, 13.16s/it, v_num=rp_1, total_loss_train=3.08e+3, kl_local_train=86.2, metric_mi|status_control_train=0.213, metric_mi|zone_train=0.177, metric_mi|time_cat_train=0.161, metric_mi|mouse_train=0.134]"
     ]
    },
    {
     "name": "stdout",
     "output_type": "stream",
     "text": [
      "\r",
      "Epoch 314/600:  52%|█████▏    | 313/600 [1:08:28<1:02:57, 13.16s/it, v_num=rp_1, total_loss_train=3.08e+3, kl_local_train=86.2, metric_mi|status_control_train=0.213, metric_mi|zone_train=0.177, metric_mi|time_cat_train=0.161, metric_mi|mouse_train=0.134]"
     ]
    },
    {
     "name": "stdout",
     "output_type": "stream",
     "text": [
      "\r",
      "Epoch 314/600:  52%|█████▏    | 314/600 [1:08:41<1:01:50, 12.97s/it, v_num=rp_1, total_loss_train=3.08e+3, kl_local_train=86.2, metric_mi|status_control_train=0.213, metric_mi|zone_train=0.177, metric_mi|time_cat_train=0.161, metric_mi|mouse_train=0.134]"
     ]
    },
    {
     "name": "stdout",
     "output_type": "stream",
     "text": [
      "\r",
      "Epoch 314/600:  52%|█████▏    | 314/600 [1:08:41<1:01:50, 12.97s/it, v_num=rp_1, total_loss_train=3.08e+3, kl_local_train=85.9, metric_mi|status_control_train=0.213, metric_mi|zone_train=0.177, metric_mi|time_cat_train=0.161, metric_mi|mouse_train=0.134]"
     ]
    },
    {
     "name": "stdout",
     "output_type": "stream",
     "text": [
      "\r",
      "Epoch 315/600:  52%|█████▏    | 314/600 [1:08:41<1:01:50, 12.97s/it, v_num=rp_1, total_loss_train=3.08e+3, kl_local_train=85.9, metric_mi|status_control_train=0.213, metric_mi|zone_train=0.177, metric_mi|time_cat_train=0.161, metric_mi|mouse_train=0.134]"
     ]
    },
    {
     "name": "stdout",
     "output_type": "stream",
     "text": [
      "\r",
      "Epoch 315/600:  52%|█████▎    | 315/600 [1:08:54<1:01:51, 13.02s/it, v_num=rp_1, total_loss_train=3.08e+3, kl_local_train=85.9, metric_mi|status_control_train=0.213, metric_mi|zone_train=0.177, metric_mi|time_cat_train=0.161, metric_mi|mouse_train=0.134]"
     ]
    },
    {
     "name": "stdout",
     "output_type": "stream",
     "text": [
      "\r",
      "Epoch 315/600:  52%|█████▎    | 315/600 [1:08:54<1:01:51, 13.02s/it, v_num=rp_1, total_loss_train=3.08e+3, kl_local_train=85.6, metric_mi|status_control_train=0.213, metric_mi|zone_train=0.177, metric_mi|time_cat_train=0.161, metric_mi|mouse_train=0.134]"
     ]
    },
    {
     "name": "stdout",
     "output_type": "stream",
     "text": [
      "\r",
      "Epoch 316/600:  52%|█████▎    | 315/600 [1:08:55<1:01:51, 13.02s/it, v_num=rp_1, total_loss_train=3.08e+3, kl_local_train=85.6, metric_mi|status_control_train=0.213, metric_mi|zone_train=0.177, metric_mi|time_cat_train=0.161, metric_mi|mouse_train=0.134]"
     ]
    },
    {
     "name": "stdout",
     "output_type": "stream",
     "text": [
      "\r",
      "Epoch 316/600:  53%|█████▎    | 316/600 [1:09:08<1:03:21, 13.39s/it, v_num=rp_1, total_loss_train=3.08e+3, kl_local_train=85.6, metric_mi|status_control_train=0.213, metric_mi|zone_train=0.177, metric_mi|time_cat_train=0.161, metric_mi|mouse_train=0.134]"
     ]
    },
    {
     "name": "stdout",
     "output_type": "stream",
     "text": [
      "\r",
      "Epoch 316/600:  53%|█████▎    | 316/600 [1:09:08<1:03:21, 13.39s/it, v_num=rp_1, total_loss_train=3.08e+3, kl_local_train=86, metric_mi|status_control_train=0.21, metric_mi|zone_train=0.178, metric_mi|time_cat_train=0.164, metric_mi|mouse_train=0.135]   "
     ]
    },
    {
     "name": "stdout",
     "output_type": "stream",
     "text": [
      "\r",
      "Epoch 317/600:  53%|█████▎    | 316/600 [1:09:08<1:03:21, 13.39s/it, v_num=rp_1, total_loss_train=3.08e+3, kl_local_train=86, metric_mi|status_control_train=0.21, metric_mi|zone_train=0.178, metric_mi|time_cat_train=0.164, metric_mi|mouse_train=0.135]"
     ]
    },
    {
     "name": "stdout",
     "output_type": "stream",
     "text": [
      "\r",
      "Epoch 317/600:  53%|█████▎    | 317/600 [1:09:21<1:02:22, 13.22s/it, v_num=rp_1, total_loss_train=3.08e+3, kl_local_train=86, metric_mi|status_control_train=0.21, metric_mi|zone_train=0.178, metric_mi|time_cat_train=0.164, metric_mi|mouse_train=0.135]"
     ]
    },
    {
     "name": "stdout",
     "output_type": "stream",
     "text": [
      "\r",
      "Epoch 317/600:  53%|█████▎    | 317/600 [1:09:21<1:02:22, 13.22s/it, v_num=rp_1, total_loss_train=3.08e+3, kl_local_train=86.4, metric_mi|status_control_train=0.21, metric_mi|zone_train=0.178, metric_mi|time_cat_train=0.164, metric_mi|mouse_train=0.135]"
     ]
    },
    {
     "name": "stdout",
     "output_type": "stream",
     "text": [
      "\r",
      "Epoch 318/600:  53%|█████▎    | 317/600 [1:09:21<1:02:22, 13.22s/it, v_num=rp_1, total_loss_train=3.08e+3, kl_local_train=86.4, metric_mi|status_control_train=0.21, metric_mi|zone_train=0.178, metric_mi|time_cat_train=0.164, metric_mi|mouse_train=0.135]"
     ]
    },
    {
     "name": "stdout",
     "output_type": "stream",
     "text": [
      "\r",
      "Epoch 318/600:  53%|█████▎    | 318/600 [1:09:34<1:01:41, 13.12s/it, v_num=rp_1, total_loss_train=3.08e+3, kl_local_train=86.4, metric_mi|status_control_train=0.21, metric_mi|zone_train=0.178, metric_mi|time_cat_train=0.164, metric_mi|mouse_train=0.135]"
     ]
    },
    {
     "name": "stdout",
     "output_type": "stream",
     "text": [
      "\r",
      "Epoch 318/600:  53%|█████▎    | 318/600 [1:09:34<1:01:41, 13.12s/it, v_num=rp_1, total_loss_train=3.08e+3, kl_local_train=85.6, metric_mi|status_control_train=0.21, metric_mi|zone_train=0.178, metric_mi|time_cat_train=0.164, metric_mi|mouse_train=0.135]"
     ]
    },
    {
     "name": "stdout",
     "output_type": "stream",
     "text": [
      "\r",
      "Epoch 319/600:  53%|█████▎    | 318/600 [1:09:34<1:01:41, 13.12s/it, v_num=rp_1, total_loss_train=3.08e+3, kl_local_train=85.6, metric_mi|status_control_train=0.21, metric_mi|zone_train=0.178, metric_mi|time_cat_train=0.164, metric_mi|mouse_train=0.135]"
     ]
    },
    {
     "name": "stdout",
     "output_type": "stream",
     "text": [
      "\r",
      "Epoch 319/600:  53%|█████▎    | 319/600 [1:09:47<1:01:09, 13.06s/it, v_num=rp_1, total_loss_train=3.08e+3, kl_local_train=85.6, metric_mi|status_control_train=0.21, metric_mi|zone_train=0.178, metric_mi|time_cat_train=0.164, metric_mi|mouse_train=0.135]"
     ]
    },
    {
     "name": "stdout",
     "output_type": "stream",
     "text": [
      "\r",
      "Epoch 319/600:  53%|█████▎    | 319/600 [1:09:47<1:01:09, 13.06s/it, v_num=rp_1, total_loss_train=3.08e+3, kl_local_train=85.4, metric_mi|status_control_train=0.21, metric_mi|zone_train=0.178, metric_mi|time_cat_train=0.164, metric_mi|mouse_train=0.135]"
     ]
    },
    {
     "name": "stdout",
     "output_type": "stream",
     "text": [
      "\r",
      "Epoch 320/600:  53%|█████▎    | 319/600 [1:09:47<1:01:09, 13.06s/it, v_num=rp_1, total_loss_train=3.08e+3, kl_local_train=85.4, metric_mi|status_control_train=0.21, metric_mi|zone_train=0.178, metric_mi|time_cat_train=0.164, metric_mi|mouse_train=0.135]"
     ]
    },
    {
     "name": "stdout",
     "output_type": "stream",
     "text": [
      "\r",
      "Epoch 320/600:  53%|█████▎    | 320/600 [1:10:00<1:00:36, 12.99s/it, v_num=rp_1, total_loss_train=3.08e+3, kl_local_train=85.4, metric_mi|status_control_train=0.21, metric_mi|zone_train=0.178, metric_mi|time_cat_train=0.164, metric_mi|mouse_train=0.135]"
     ]
    },
    {
     "name": "stdout",
     "output_type": "stream",
     "text": [
      "\r",
      "Epoch 320/600:  53%|█████▎    | 320/600 [1:10:00<1:00:36, 12.99s/it, v_num=rp_1, total_loss_train=3.08e+3, kl_local_train=85.6, metric_mi|status_control_train=0.21, metric_mi|zone_train=0.178, metric_mi|time_cat_train=0.164, metric_mi|mouse_train=0.135]"
     ]
    },
    {
     "name": "stdout",
     "output_type": "stream",
     "text": [
      "\r",
      "Epoch 321/600:  53%|█████▎    | 320/600 [1:10:01<1:00:36, 12.99s/it, v_num=rp_1, total_loss_train=3.08e+3, kl_local_train=85.6, metric_mi|status_control_train=0.21, metric_mi|zone_train=0.178, metric_mi|time_cat_train=0.164, metric_mi|mouse_train=0.135]"
     ]
    },
    {
     "name": "stdout",
     "output_type": "stream",
     "text": [
      "\r",
      "Epoch 321/600:  54%|█████▎    | 321/600 [1:10:14<1:02:06, 13.36s/it, v_num=rp_1, total_loss_train=3.08e+3, kl_local_train=85.6, metric_mi|status_control_train=0.21, metric_mi|zone_train=0.178, metric_mi|time_cat_train=0.164, metric_mi|mouse_train=0.135]"
     ]
    },
    {
     "name": "stdout",
     "output_type": "stream",
     "text": [
      "\r",
      "Epoch 321/600:  54%|█████▎    | 321/600 [1:10:14<1:02:06, 13.36s/it, v_num=rp_1, total_loss_train=3.08e+3, kl_local_train=85.2, metric_mi|status_control_train=0.195, metric_mi|zone_train=0.178, metric_mi|time_cat_train=0.164, metric_mi|mouse_train=0.135]"
     ]
    },
    {
     "name": "stdout",
     "output_type": "stream",
     "text": [
      "\r",
      "Epoch 322/600:  54%|█████▎    | 321/600 [1:10:14<1:02:06, 13.36s/it, v_num=rp_1, total_loss_train=3.08e+3, kl_local_train=85.2, metric_mi|status_control_train=0.195, metric_mi|zone_train=0.178, metric_mi|time_cat_train=0.164, metric_mi|mouse_train=0.135]"
     ]
    },
    {
     "name": "stdout",
     "output_type": "stream",
     "text": [
      "\r",
      "Epoch 322/600:  54%|█████▎    | 322/600 [1:10:27<1:01:18, 13.23s/it, v_num=rp_1, total_loss_train=3.08e+3, kl_local_train=85.2, metric_mi|status_control_train=0.195, metric_mi|zone_train=0.178, metric_mi|time_cat_train=0.164, metric_mi|mouse_train=0.135]"
     ]
    },
    {
     "name": "stdout",
     "output_type": "stream",
     "text": [
      "\r",
      "Epoch 322/600:  54%|█████▎    | 322/600 [1:10:27<1:01:18, 13.23s/it, v_num=rp_1, total_loss_train=3.08e+3, kl_local_train=85.2, metric_mi|status_control_train=0.195, metric_mi|zone_train=0.178, metric_mi|time_cat_train=0.164, metric_mi|mouse_train=0.135]"
     ]
    },
    {
     "name": "stdout",
     "output_type": "stream",
     "text": [
      "\r",
      "Epoch 323/600:  54%|█████▎    | 322/600 [1:10:27<1:01:18, 13.23s/it, v_num=rp_1, total_loss_train=3.08e+3, kl_local_train=85.2, metric_mi|status_control_train=0.195, metric_mi|zone_train=0.178, metric_mi|time_cat_train=0.164, metric_mi|mouse_train=0.135]"
     ]
    },
    {
     "name": "stdout",
     "output_type": "stream",
     "text": [
      "\r",
      "Epoch 323/600:  54%|█████▍    | 323/600 [1:10:40<1:00:34, 13.12s/it, v_num=rp_1, total_loss_train=3.08e+3, kl_local_train=85.2, metric_mi|status_control_train=0.195, metric_mi|zone_train=0.178, metric_mi|time_cat_train=0.164, metric_mi|mouse_train=0.135]"
     ]
    },
    {
     "name": "stdout",
     "output_type": "stream",
     "text": [
      "\r",
      "Epoch 323/600:  54%|█████▍    | 323/600 [1:10:40<1:00:34, 13.12s/it, v_num=rp_1, total_loss_train=3.08e+3, kl_local_train=85.1, metric_mi|status_control_train=0.195, metric_mi|zone_train=0.178, metric_mi|time_cat_train=0.164, metric_mi|mouse_train=0.135]"
     ]
    },
    {
     "name": "stdout",
     "output_type": "stream",
     "text": [
      "\r",
      "Epoch 324/600:  54%|█████▍    | 323/600 [1:10:40<1:00:34, 13.12s/it, v_num=rp_1, total_loss_train=3.08e+3, kl_local_train=85.1, metric_mi|status_control_train=0.195, metric_mi|zone_train=0.178, metric_mi|time_cat_train=0.164, metric_mi|mouse_train=0.135]"
     ]
    },
    {
     "name": "stdout",
     "output_type": "stream",
     "text": [
      "\r",
      "Epoch 324/600:  54%|█████▍    | 324/600 [1:10:52<1:00:01, 13.05s/it, v_num=rp_1, total_loss_train=3.08e+3, kl_local_train=85.1, metric_mi|status_control_train=0.195, metric_mi|zone_train=0.178, metric_mi|time_cat_train=0.164, metric_mi|mouse_train=0.135]"
     ]
    },
    {
     "name": "stdout",
     "output_type": "stream",
     "text": [
      "\r",
      "Epoch 324/600:  54%|█████▍    | 324/600 [1:10:52<1:00:01, 13.05s/it, v_num=rp_1, total_loss_train=3.08e+3, kl_local_train=85.2, metric_mi|status_control_train=0.195, metric_mi|zone_train=0.178, metric_mi|time_cat_train=0.164, metric_mi|mouse_train=0.135]"
     ]
    },
    {
     "name": "stdout",
     "output_type": "stream",
     "text": [
      "\r",
      "Epoch 325/600:  54%|█████▍    | 324/600 [1:10:52<1:00:01, 13.05s/it, v_num=rp_1, total_loss_train=3.08e+3, kl_local_train=85.2, metric_mi|status_control_train=0.195, metric_mi|zone_train=0.178, metric_mi|time_cat_train=0.164, metric_mi|mouse_train=0.135]"
     ]
    },
    {
     "name": "stdout",
     "output_type": "stream",
     "text": [
      "\r",
      "Epoch 325/600:  54%|█████▍    | 325/600 [1:11:05<59:33, 13.00s/it, v_num=rp_1, total_loss_train=3.08e+3, kl_local_train=85.2, metric_mi|status_control_train=0.195, metric_mi|zone_train=0.178, metric_mi|time_cat_train=0.164, metric_mi|mouse_train=0.135]  "
     ]
    },
    {
     "name": "stdout",
     "output_type": "stream",
     "text": [
      "\r",
      "Epoch 325/600:  54%|█████▍    | 325/600 [1:11:05<59:33, 13.00s/it, v_num=rp_1, total_loss_train=3.08e+3, kl_local_train=85, metric_mi|status_control_train=0.195, metric_mi|zone_train=0.178, metric_mi|time_cat_train=0.164, metric_mi|mouse_train=0.135]  "
     ]
    },
    {
     "name": "stdout",
     "output_type": "stream",
     "text": [
      "\r",
      "Epoch 326/600:  54%|█████▍    | 325/600 [1:11:07<59:33, 13.00s/it, v_num=rp_1, total_loss_train=3.08e+3, kl_local_train=85, metric_mi|status_control_train=0.195, metric_mi|zone_train=0.178, metric_mi|time_cat_train=0.164, metric_mi|mouse_train=0.135]"
     ]
    },
    {
     "name": "stdout",
     "output_type": "stream",
     "text": [
      "\r",
      "Epoch 326/600:  54%|█████▍    | 326/600 [1:11:20<1:01:03, 13.37s/it, v_num=rp_1, total_loss_train=3.08e+3, kl_local_train=85, metric_mi|status_control_train=0.195, metric_mi|zone_train=0.178, metric_mi|time_cat_train=0.164, metric_mi|mouse_train=0.135]"
     ]
    },
    {
     "name": "stdout",
     "output_type": "stream",
     "text": [
      "\r",
      "Epoch 326/600:  54%|█████▍    | 326/600 [1:11:20<1:01:03, 13.37s/it, v_num=rp_1, total_loss_train=3.08e+3, kl_local_train=85, metric_mi|status_control_train=0.189, metric_mi|zone_train=0.177, metric_mi|time_cat_train=0.161, metric_mi|mouse_train=0.133]"
     ]
    },
    {
     "name": "stdout",
     "output_type": "stream",
     "text": [
      "\r",
      "Epoch 327/600:  54%|█████▍    | 326/600 [1:11:20<1:01:03, 13.37s/it, v_num=rp_1, total_loss_train=3.08e+3, kl_local_train=85, metric_mi|status_control_train=0.189, metric_mi|zone_train=0.177, metric_mi|time_cat_train=0.161, metric_mi|mouse_train=0.133]"
     ]
    },
    {
     "name": "stdout",
     "output_type": "stream",
     "text": [
      "\r",
      "Epoch 327/600:  55%|█████▍    | 327/600 [1:11:32<1:00:11, 13.23s/it, v_num=rp_1, total_loss_train=3.08e+3, kl_local_train=85, metric_mi|status_control_train=0.189, metric_mi|zone_train=0.177, metric_mi|time_cat_train=0.161, metric_mi|mouse_train=0.133]"
     ]
    },
    {
     "name": "stdout",
     "output_type": "stream",
     "text": [
      "\r",
      "Epoch 327/600:  55%|█████▍    | 327/600 [1:11:32<1:00:11, 13.23s/it, v_num=rp_1, total_loss_train=3.08e+3, kl_local_train=84.7, metric_mi|status_control_train=0.189, metric_mi|zone_train=0.177, metric_mi|time_cat_train=0.161, metric_mi|mouse_train=0.133]"
     ]
    },
    {
     "name": "stdout",
     "output_type": "stream",
     "text": [
      "\r",
      "Epoch 328/600:  55%|█████▍    | 327/600 [1:11:32<1:00:11, 13.23s/it, v_num=rp_1, total_loss_train=3.08e+3, kl_local_train=84.7, metric_mi|status_control_train=0.189, metric_mi|zone_train=0.177, metric_mi|time_cat_train=0.161, metric_mi|mouse_train=0.133]"
     ]
    },
    {
     "name": "stdout",
     "output_type": "stream",
     "text": [
      "\r",
      "Epoch 328/600:  55%|█████▍    | 328/600 [1:11:45<59:30, 13.13s/it, v_num=rp_1, total_loss_train=3.08e+3, kl_local_train=84.7, metric_mi|status_control_train=0.189, metric_mi|zone_train=0.177, metric_mi|time_cat_train=0.161, metric_mi|mouse_train=0.133]  "
     ]
    },
    {
     "name": "stdout",
     "output_type": "stream",
     "text": [
      "\r",
      "Epoch 328/600:  55%|█████▍    | 328/600 [1:11:45<59:30, 13.13s/it, v_num=rp_1, total_loss_train=3.08e+3, kl_local_train=84.2, metric_mi|status_control_train=0.189, metric_mi|zone_train=0.177, metric_mi|time_cat_train=0.161, metric_mi|mouse_train=0.133]"
     ]
    },
    {
     "name": "stdout",
     "output_type": "stream",
     "text": [
      "\r",
      "Epoch 329/600:  55%|█████▍    | 328/600 [1:11:45<59:30, 13.13s/it, v_num=rp_1, total_loss_train=3.08e+3, kl_local_train=84.2, metric_mi|status_control_train=0.189, metric_mi|zone_train=0.177, metric_mi|time_cat_train=0.161, metric_mi|mouse_train=0.133]"
     ]
    },
    {
     "name": "stdout",
     "output_type": "stream",
     "text": [
      "\r",
      "Epoch 329/600:  55%|█████▍    | 329/600 [1:11:58<58:59, 13.06s/it, v_num=rp_1, total_loss_train=3.08e+3, kl_local_train=84.2, metric_mi|status_control_train=0.189, metric_mi|zone_train=0.177, metric_mi|time_cat_train=0.161, metric_mi|mouse_train=0.133]"
     ]
    },
    {
     "name": "stdout",
     "output_type": "stream",
     "text": [
      "\r",
      "Epoch 329/600:  55%|█████▍    | 329/600 [1:11:58<58:59, 13.06s/it, v_num=rp_1, total_loss_train=3.08e+3, kl_local_train=84.4, metric_mi|status_control_train=0.189, metric_mi|zone_train=0.177, metric_mi|time_cat_train=0.161, metric_mi|mouse_train=0.133]"
     ]
    },
    {
     "name": "stdout",
     "output_type": "stream",
     "text": [
      "\r",
      "Epoch 330/600:  55%|█████▍    | 329/600 [1:11:58<58:59, 13.06s/it, v_num=rp_1, total_loss_train=3.08e+3, kl_local_train=84.4, metric_mi|status_control_train=0.189, metric_mi|zone_train=0.177, metric_mi|time_cat_train=0.161, metric_mi|mouse_train=0.133]"
     ]
    },
    {
     "name": "stdout",
     "output_type": "stream",
     "text": [
      "\r",
      "Epoch 330/600:  55%|█████▌    | 330/600 [1:12:11<58:24, 12.98s/it, v_num=rp_1, total_loss_train=3.08e+3, kl_local_train=84.4, metric_mi|status_control_train=0.189, metric_mi|zone_train=0.177, metric_mi|time_cat_train=0.161, metric_mi|mouse_train=0.133]"
     ]
    },
    {
     "name": "stdout",
     "output_type": "stream",
     "text": [
      "\r",
      "Epoch 330/600:  55%|█████▌    | 330/600 [1:12:11<58:24, 12.98s/it, v_num=rp_1, total_loss_train=3.08e+3, kl_local_train=84.2, metric_mi|status_control_train=0.189, metric_mi|zone_train=0.177, metric_mi|time_cat_train=0.161, metric_mi|mouse_train=0.133]"
     ]
    },
    {
     "name": "stdout",
     "output_type": "stream",
     "text": [
      "\r",
      "Epoch 331/600:  55%|█████▌    | 330/600 [1:12:12<58:24, 12.98s/it, v_num=rp_1, total_loss_train=3.08e+3, kl_local_train=84.2, metric_mi|status_control_train=0.189, metric_mi|zone_train=0.177, metric_mi|time_cat_train=0.161, metric_mi|mouse_train=0.133]"
     ]
    },
    {
     "name": "stdout",
     "output_type": "stream",
     "text": [
      "\r",
      "Epoch 331/600:  55%|█████▌    | 331/600 [1:12:25<59:53, 13.36s/it, v_num=rp_1, total_loss_train=3.08e+3, kl_local_train=84.2, metric_mi|status_control_train=0.189, metric_mi|zone_train=0.177, metric_mi|time_cat_train=0.161, metric_mi|mouse_train=0.133]"
     ]
    },
    {
     "name": "stdout",
     "output_type": "stream",
     "text": [
      "\r",
      "Epoch 331/600:  55%|█████▌    | 331/600 [1:12:25<59:53, 13.36s/it, v_num=rp_1, total_loss_train=3.08e+3, kl_local_train=84.3, metric_mi|status_control_train=0.192, metric_mi|zone_train=0.177, metric_mi|time_cat_train=0.159, metric_mi|mouse_train=0.131]"
     ]
    },
    {
     "name": "stdout",
     "output_type": "stream",
     "text": [
      "\r",
      "Epoch 332/600:  55%|█████▌    | 331/600 [1:12:25<59:53, 13.36s/it, v_num=rp_1, total_loss_train=3.08e+3, kl_local_train=84.3, metric_mi|status_control_train=0.192, metric_mi|zone_train=0.177, metric_mi|time_cat_train=0.159, metric_mi|mouse_train=0.131]"
     ]
    },
    {
     "name": "stdout",
     "output_type": "stream",
     "text": [
      "\r",
      "Epoch 332/600:  55%|█████▌    | 332/600 [1:12:38<59:04, 13.23s/it, v_num=rp_1, total_loss_train=3.08e+3, kl_local_train=84.3, metric_mi|status_control_train=0.192, metric_mi|zone_train=0.177, metric_mi|time_cat_train=0.159, metric_mi|mouse_train=0.131]"
     ]
    },
    {
     "name": "stdout",
     "output_type": "stream",
     "text": [
      "\r",
      "Epoch 332/600:  55%|█████▌    | 332/600 [1:12:38<59:04, 13.23s/it, v_num=rp_1, total_loss_train=3.07e+3, kl_local_train=84.6, metric_mi|status_control_train=0.192, metric_mi|zone_train=0.177, metric_mi|time_cat_train=0.159, metric_mi|mouse_train=0.131]"
     ]
    },
    {
     "name": "stdout",
     "output_type": "stream",
     "text": [
      "\r",
      "Epoch 333/600:  55%|█████▌    | 332/600 [1:12:38<59:04, 13.23s/it, v_num=rp_1, total_loss_train=3.07e+3, kl_local_train=84.6, metric_mi|status_control_train=0.192, metric_mi|zone_train=0.177, metric_mi|time_cat_train=0.159, metric_mi|mouse_train=0.131]"
     ]
    },
    {
     "name": "stdout",
     "output_type": "stream",
     "text": [
      "\r",
      "Epoch 333/600:  56%|█████▌    | 333/600 [1:12:51<58:41, 13.19s/it, v_num=rp_1, total_loss_train=3.07e+3, kl_local_train=84.6, metric_mi|status_control_train=0.192, metric_mi|zone_train=0.177, metric_mi|time_cat_train=0.159, metric_mi|mouse_train=0.131]"
     ]
    },
    {
     "name": "stdout",
     "output_type": "stream",
     "text": [
      "\r",
      "Epoch 333/600:  56%|█████▌    | 333/600 [1:12:51<58:41, 13.19s/it, v_num=rp_1, total_loss_train=3.07e+3, kl_local_train=84.6, metric_mi|status_control_train=0.192, metric_mi|zone_train=0.177, metric_mi|time_cat_train=0.159, metric_mi|mouse_train=0.131]"
     ]
    },
    {
     "name": "stdout",
     "output_type": "stream",
     "text": [
      "\r",
      "Epoch 334/600:  56%|█████▌    | 333/600 [1:12:51<58:41, 13.19s/it, v_num=rp_1, total_loss_train=3.07e+3, kl_local_train=84.6, metric_mi|status_control_train=0.192, metric_mi|zone_train=0.177, metric_mi|time_cat_train=0.159, metric_mi|mouse_train=0.131]"
     ]
    },
    {
     "name": "stdout",
     "output_type": "stream",
     "text": [
      "\r",
      "Epoch 334/600:  56%|█████▌    | 334/600 [1:13:04<58:01, 13.09s/it, v_num=rp_1, total_loss_train=3.07e+3, kl_local_train=84.6, metric_mi|status_control_train=0.192, metric_mi|zone_train=0.177, metric_mi|time_cat_train=0.159, metric_mi|mouse_train=0.131]"
     ]
    },
    {
     "name": "stdout",
     "output_type": "stream",
     "text": [
      "\r",
      "Epoch 334/600:  56%|█████▌    | 334/600 [1:13:04<58:01, 13.09s/it, v_num=rp_1, total_loss_train=3.07e+3, kl_local_train=83.8, metric_mi|status_control_train=0.192, metric_mi|zone_train=0.177, metric_mi|time_cat_train=0.159, metric_mi|mouse_train=0.131]"
     ]
    },
    {
     "name": "stdout",
     "output_type": "stream",
     "text": [
      "\r",
      "Epoch 335/600:  56%|█████▌    | 334/600 [1:13:04<58:01, 13.09s/it, v_num=rp_1, total_loss_train=3.07e+3, kl_local_train=83.8, metric_mi|status_control_train=0.192, metric_mi|zone_train=0.177, metric_mi|time_cat_train=0.159, metric_mi|mouse_train=0.131]"
     ]
    },
    {
     "name": "stdout",
     "output_type": "stream",
     "text": [
      "\r",
      "Epoch 335/600:  56%|█████▌    | 335/600 [1:13:17<57:32, 13.03s/it, v_num=rp_1, total_loss_train=3.07e+3, kl_local_train=83.8, metric_mi|status_control_train=0.192, metric_mi|zone_train=0.177, metric_mi|time_cat_train=0.159, metric_mi|mouse_train=0.131]"
     ]
    },
    {
     "name": "stdout",
     "output_type": "stream",
     "text": [
      "\r",
      "Epoch 335/600:  56%|█████▌    | 335/600 [1:13:17<57:32, 13.03s/it, v_num=rp_1, total_loss_train=3.07e+3, kl_local_train=83.9, metric_mi|status_control_train=0.192, metric_mi|zone_train=0.177, metric_mi|time_cat_train=0.159, metric_mi|mouse_train=0.131]"
     ]
    },
    {
     "name": "stdout",
     "output_type": "stream",
     "text": [
      "\r",
      "Epoch 336/600:  56%|█████▌    | 335/600 [1:13:18<57:32, 13.03s/it, v_num=rp_1, total_loss_train=3.07e+3, kl_local_train=83.9, metric_mi|status_control_train=0.192, metric_mi|zone_train=0.177, metric_mi|time_cat_train=0.159, metric_mi|mouse_train=0.131]"
     ]
    },
    {
     "name": "stdout",
     "output_type": "stream",
     "text": [
      "\r",
      "Epoch 336/600:  56%|█████▌    | 336/600 [1:13:31<58:59, 13.41s/it, v_num=rp_1, total_loss_train=3.07e+3, kl_local_train=83.9, metric_mi|status_control_train=0.192, metric_mi|zone_train=0.177, metric_mi|time_cat_train=0.159, metric_mi|mouse_train=0.131]"
     ]
    },
    {
     "name": "stdout",
     "output_type": "stream",
     "text": [
      "\r",
      "Epoch 336/600:  56%|█████▌    | 336/600 [1:13:31<58:59, 13.41s/it, v_num=rp_1, total_loss_train=3.07e+3, kl_local_train=83.9, metric_mi|status_control_train=0.201, metric_mi|zone_train=0.178, metric_mi|time_cat_train=0.162, metric_mi|mouse_train=0.133]"
     ]
    },
    {
     "name": "stdout",
     "output_type": "stream",
     "text": [
      "\r",
      "Epoch 337/600:  56%|█████▌    | 336/600 [1:13:31<58:59, 13.41s/it, v_num=rp_1, total_loss_train=3.07e+3, kl_local_train=83.9, metric_mi|status_control_train=0.201, metric_mi|zone_train=0.178, metric_mi|time_cat_train=0.162, metric_mi|mouse_train=0.133]"
     ]
    },
    {
     "name": "stdout",
     "output_type": "stream",
     "text": [
      "\r",
      "Epoch 337/600:  56%|█████▌    | 337/600 [1:13:44<58:07, 13.26s/it, v_num=rp_1, total_loss_train=3.07e+3, kl_local_train=83.9, metric_mi|status_control_train=0.201, metric_mi|zone_train=0.178, metric_mi|time_cat_train=0.162, metric_mi|mouse_train=0.133]"
     ]
    },
    {
     "name": "stdout",
     "output_type": "stream",
     "text": [
      "\r",
      "Epoch 337/600:  56%|█████▌    | 337/600 [1:13:44<58:07, 13.26s/it, v_num=rp_1, total_loss_train=3.07e+3, kl_local_train=83.8, metric_mi|status_control_train=0.201, metric_mi|zone_train=0.178, metric_mi|time_cat_train=0.162, metric_mi|mouse_train=0.133]"
     ]
    },
    {
     "name": "stdout",
     "output_type": "stream",
     "text": [
      "\r",
      "Epoch 338/600:  56%|█████▌    | 337/600 [1:13:44<58:07, 13.26s/it, v_num=rp_1, total_loss_train=3.07e+3, kl_local_train=83.8, metric_mi|status_control_train=0.201, metric_mi|zone_train=0.178, metric_mi|time_cat_train=0.162, metric_mi|mouse_train=0.133]"
     ]
    },
    {
     "name": "stdout",
     "output_type": "stream",
     "text": [
      "\r",
      "Epoch 338/600:  56%|█████▋    | 338/600 [1:13:57<57:23, 13.14s/it, v_num=rp_1, total_loss_train=3.07e+3, kl_local_train=83.8, metric_mi|status_control_train=0.201, metric_mi|zone_train=0.178, metric_mi|time_cat_train=0.162, metric_mi|mouse_train=0.133]"
     ]
    },
    {
     "name": "stdout",
     "output_type": "stream",
     "text": [
      "\r",
      "Epoch 338/600:  56%|█████▋    | 338/600 [1:13:57<57:23, 13.14s/it, v_num=rp_1, total_loss_train=3.07e+3, kl_local_train=82.4, metric_mi|status_control_train=0.201, metric_mi|zone_train=0.178, metric_mi|time_cat_train=0.162, metric_mi|mouse_train=0.133]"
     ]
    },
    {
     "name": "stdout",
     "output_type": "stream",
     "text": [
      "\r",
      "Epoch 339/600:  56%|█████▋    | 338/600 [1:13:57<57:23, 13.14s/it, v_num=rp_1, total_loss_train=3.07e+3, kl_local_train=82.4, metric_mi|status_control_train=0.201, metric_mi|zone_train=0.178, metric_mi|time_cat_train=0.162, metric_mi|mouse_train=0.133]"
     ]
    },
    {
     "name": "stdout",
     "output_type": "stream",
     "text": [
      "\r",
      "Epoch 339/600:  56%|█████▋    | 339/600 [1:14:10<56:47, 13.06s/it, v_num=rp_1, total_loss_train=3.07e+3, kl_local_train=82.4, metric_mi|status_control_train=0.201, metric_mi|zone_train=0.178, metric_mi|time_cat_train=0.162, metric_mi|mouse_train=0.133]"
     ]
    },
    {
     "name": "stdout",
     "output_type": "stream",
     "text": [
      "\r",
      "Epoch 339/600:  56%|█████▋    | 339/600 [1:14:10<56:47, 13.06s/it, v_num=rp_1, total_loss_train=3.07e+3, kl_local_train=83.7, metric_mi|status_control_train=0.201, metric_mi|zone_train=0.178, metric_mi|time_cat_train=0.162, metric_mi|mouse_train=0.133]"
     ]
    },
    {
     "name": "stdout",
     "output_type": "stream",
     "text": [
      "\r",
      "Epoch 340/600:  56%|█████▋    | 339/600 [1:14:10<56:47, 13.06s/it, v_num=rp_1, total_loss_train=3.07e+3, kl_local_train=83.7, metric_mi|status_control_train=0.201, metric_mi|zone_train=0.178, metric_mi|time_cat_train=0.162, metric_mi|mouse_train=0.133]"
     ]
    },
    {
     "name": "stdout",
     "output_type": "stream",
     "text": [
      "\r",
      "Epoch 340/600:  57%|█████▋    | 340/600 [1:14:23<56:21, 13.00s/it, v_num=rp_1, total_loss_train=3.07e+3, kl_local_train=83.7, metric_mi|status_control_train=0.201, metric_mi|zone_train=0.178, metric_mi|time_cat_train=0.162, metric_mi|mouse_train=0.133]"
     ]
    },
    {
     "name": "stdout",
     "output_type": "stream",
     "text": [
      "\r",
      "Epoch 340/600:  57%|█████▋    | 340/600 [1:14:23<56:21, 13.00s/it, v_num=rp_1, total_loss_train=3.07e+3, kl_local_train=83.4, metric_mi|status_control_train=0.201, metric_mi|zone_train=0.178, metric_mi|time_cat_train=0.162, metric_mi|mouse_train=0.133]"
     ]
    },
    {
     "name": "stdout",
     "output_type": "stream",
     "text": [
      "\r",
      "Epoch 341/600:  57%|█████▋    | 340/600 [1:14:24<56:21, 13.00s/it, v_num=rp_1, total_loss_train=3.07e+3, kl_local_train=83.4, metric_mi|status_control_train=0.201, metric_mi|zone_train=0.178, metric_mi|time_cat_train=0.162, metric_mi|mouse_train=0.133]"
     ]
    },
    {
     "name": "stdout",
     "output_type": "stream",
     "text": [
      "\r",
      "Epoch 341/600:  57%|█████▋    | 341/600 [1:14:37<57:40, 13.36s/it, v_num=rp_1, total_loss_train=3.07e+3, kl_local_train=83.4, metric_mi|status_control_train=0.201, metric_mi|zone_train=0.178, metric_mi|time_cat_train=0.162, metric_mi|mouse_train=0.133]"
     ]
    },
    {
     "name": "stdout",
     "output_type": "stream",
     "text": [
      "\r",
      "Epoch 341/600:  57%|█████▋    | 341/600 [1:14:37<57:40, 13.36s/it, v_num=rp_1, total_loss_train=3.07e+3, kl_local_train=83.5, metric_mi|status_control_train=0.209, metric_mi|zone_train=0.178, metric_mi|time_cat_train=0.161, metric_mi|mouse_train=0.133]"
     ]
    },
    {
     "name": "stdout",
     "output_type": "stream",
     "text": [
      "\r",
      "Epoch 342/600:  57%|█████▋    | 341/600 [1:14:37<57:40, 13.36s/it, v_num=rp_1, total_loss_train=3.07e+3, kl_local_train=83.5, metric_mi|status_control_train=0.209, metric_mi|zone_train=0.178, metric_mi|time_cat_train=0.161, metric_mi|mouse_train=0.133]"
     ]
    },
    {
     "name": "stdout",
     "output_type": "stream",
     "text": [
      "\r",
      "Epoch 342/600:  57%|█████▋    | 342/600 [1:14:50<56:52, 13.23s/it, v_num=rp_1, total_loss_train=3.07e+3, kl_local_train=83.5, metric_mi|status_control_train=0.209, metric_mi|zone_train=0.178, metric_mi|time_cat_train=0.161, metric_mi|mouse_train=0.133]"
     ]
    },
    {
     "name": "stdout",
     "output_type": "stream",
     "text": [
      "\r",
      "Epoch 342/600:  57%|█████▋    | 342/600 [1:14:50<56:52, 13.23s/it, v_num=rp_1, total_loss_train=3.07e+3, kl_local_train=83.1, metric_mi|status_control_train=0.209, metric_mi|zone_train=0.178, metric_mi|time_cat_train=0.161, metric_mi|mouse_train=0.133]"
     ]
    },
    {
     "name": "stdout",
     "output_type": "stream",
     "text": [
      "\r",
      "Epoch 343/600:  57%|█████▋    | 342/600 [1:14:50<56:52, 13.23s/it, v_num=rp_1, total_loss_train=3.07e+3, kl_local_train=83.1, metric_mi|status_control_train=0.209, metric_mi|zone_train=0.178, metric_mi|time_cat_train=0.161, metric_mi|mouse_train=0.133]"
     ]
    },
    {
     "name": "stdout",
     "output_type": "stream",
     "text": [
      "\r",
      "Epoch 343/600:  57%|█████▋    | 343/600 [1:15:03<56:11, 13.12s/it, v_num=rp_1, total_loss_train=3.07e+3, kl_local_train=83.1, metric_mi|status_control_train=0.209, metric_mi|zone_train=0.178, metric_mi|time_cat_train=0.161, metric_mi|mouse_train=0.133]"
     ]
    },
    {
     "name": "stdout",
     "output_type": "stream",
     "text": [
      "\r",
      "Epoch 343/600:  57%|█████▋    | 343/600 [1:15:03<56:11, 13.12s/it, v_num=rp_1, total_loss_train=3.07e+3, kl_local_train=82.9, metric_mi|status_control_train=0.209, metric_mi|zone_train=0.178, metric_mi|time_cat_train=0.161, metric_mi|mouse_train=0.133]"
     ]
    },
    {
     "name": "stdout",
     "output_type": "stream",
     "text": [
      "\r",
      "Epoch 344/600:  57%|█████▋    | 343/600 [1:15:03<56:11, 13.12s/it, v_num=rp_1, total_loss_train=3.07e+3, kl_local_train=82.9, metric_mi|status_control_train=0.209, metric_mi|zone_train=0.178, metric_mi|time_cat_train=0.161, metric_mi|mouse_train=0.133]"
     ]
    },
    {
     "name": "stdout",
     "output_type": "stream",
     "text": [
      "\r",
      "Epoch 344/600:  57%|█████▋    | 344/600 [1:15:16<55:43, 13.06s/it, v_num=rp_1, total_loss_train=3.07e+3, kl_local_train=82.9, metric_mi|status_control_train=0.209, metric_mi|zone_train=0.178, metric_mi|time_cat_train=0.161, metric_mi|mouse_train=0.133]"
     ]
    },
    {
     "name": "stdout",
     "output_type": "stream",
     "text": [
      "\r",
      "Epoch 344/600:  57%|█████▋    | 344/600 [1:15:16<55:43, 13.06s/it, v_num=rp_1, total_loss_train=3.07e+3, kl_local_train=83, metric_mi|status_control_train=0.209, metric_mi|zone_train=0.178, metric_mi|time_cat_train=0.161, metric_mi|mouse_train=0.133]  "
     ]
    },
    {
     "name": "stdout",
     "output_type": "stream",
     "text": [
      "\r",
      "Epoch 345/600:  57%|█████▋    | 344/600 [1:15:16<55:43, 13.06s/it, v_num=rp_1, total_loss_train=3.07e+3, kl_local_train=83, metric_mi|status_control_train=0.209, metric_mi|zone_train=0.178, metric_mi|time_cat_train=0.161, metric_mi|mouse_train=0.133]"
     ]
    },
    {
     "name": "stdout",
     "output_type": "stream",
     "text": [
      "\r",
      "Epoch 345/600:  57%|█████▊    | 345/600 [1:15:29<55:18, 13.01s/it, v_num=rp_1, total_loss_train=3.07e+3, kl_local_train=83, metric_mi|status_control_train=0.209, metric_mi|zone_train=0.178, metric_mi|time_cat_train=0.161, metric_mi|mouse_train=0.133]"
     ]
    },
    {
     "name": "stdout",
     "output_type": "stream",
     "text": [
      "\r",
      "Epoch 345/600:  57%|█████▊    | 345/600 [1:15:29<55:18, 13.01s/it, v_num=rp_1, total_loss_train=3.07e+3, kl_local_train=82.9, metric_mi|status_control_train=0.209, metric_mi|zone_train=0.178, metric_mi|time_cat_train=0.161, metric_mi|mouse_train=0.133]"
     ]
    },
    {
     "name": "stdout",
     "output_type": "stream",
     "text": [
      "\r",
      "Epoch 346/600:  57%|█████▊    | 345/600 [1:15:30<55:18, 13.01s/it, v_num=rp_1, total_loss_train=3.07e+3, kl_local_train=82.9, metric_mi|status_control_train=0.209, metric_mi|zone_train=0.178, metric_mi|time_cat_train=0.161, metric_mi|mouse_train=0.133]"
     ]
    },
    {
     "name": "stdout",
     "output_type": "stream",
     "text": [
      "\r",
      "Epoch 346/600:  58%|█████▊    | 346/600 [1:15:43<56:41, 13.39s/it, v_num=rp_1, total_loss_train=3.07e+3, kl_local_train=82.9, metric_mi|status_control_train=0.209, metric_mi|zone_train=0.178, metric_mi|time_cat_train=0.161, metric_mi|mouse_train=0.133]"
     ]
    },
    {
     "name": "stdout",
     "output_type": "stream",
     "text": [
      "\r",
      "Epoch 346/600:  58%|█████▊    | 346/600 [1:15:43<56:41, 13.39s/it, v_num=rp_1, total_loss_train=3.07e+3, kl_local_train=82.6, metric_mi|status_control_train=0.199, metric_mi|zone_train=0.178, metric_mi|time_cat_train=0.156, metric_mi|mouse_train=0.13] "
     ]
    },
    {
     "name": "stdout",
     "output_type": "stream",
     "text": [
      "\r",
      "Epoch 347/600:  58%|█████▊    | 346/600 [1:15:43<56:41, 13.39s/it, v_num=rp_1, total_loss_train=3.07e+3, kl_local_train=82.6, metric_mi|status_control_train=0.199, metric_mi|zone_train=0.178, metric_mi|time_cat_train=0.156, metric_mi|mouse_train=0.13]"
     ]
    },
    {
     "name": "stdout",
     "output_type": "stream",
     "text": [
      "\r",
      "Epoch 347/600:  58%|█████▊    | 347/600 [1:15:56<55:49, 13.24s/it, v_num=rp_1, total_loss_train=3.07e+3, kl_local_train=82.6, metric_mi|status_control_train=0.199, metric_mi|zone_train=0.178, metric_mi|time_cat_train=0.156, metric_mi|mouse_train=0.13]"
     ]
    },
    {
     "name": "stdout",
     "output_type": "stream",
     "text": [
      "\r",
      "Epoch 347/600:  58%|█████▊    | 347/600 [1:15:56<55:49, 13.24s/it, v_num=rp_1, total_loss_train=3.07e+3, kl_local_train=82.7, metric_mi|status_control_train=0.199, metric_mi|zone_train=0.178, metric_mi|time_cat_train=0.156, metric_mi|mouse_train=0.13]"
     ]
    },
    {
     "name": "stdout",
     "output_type": "stream",
     "text": [
      "\r",
      "Epoch 348/600:  58%|█████▊    | 347/600 [1:15:56<55:49, 13.24s/it, v_num=rp_1, total_loss_train=3.07e+3, kl_local_train=82.7, metric_mi|status_control_train=0.199, metric_mi|zone_train=0.178, metric_mi|time_cat_train=0.156, metric_mi|mouse_train=0.13]"
     ]
    },
    {
     "name": "stdout",
     "output_type": "stream",
     "text": [
      "\r",
      "Epoch 348/600:  58%|█████▊    | 348/600 [1:16:09<55:15, 13.16s/it, v_num=rp_1, total_loss_train=3.07e+3, kl_local_train=82.7, metric_mi|status_control_train=0.199, metric_mi|zone_train=0.178, metric_mi|time_cat_train=0.156, metric_mi|mouse_train=0.13]"
     ]
    },
    {
     "name": "stdout",
     "output_type": "stream",
     "text": [
      "\r",
      "Epoch 348/600:  58%|█████▊    | 348/600 [1:16:09<55:15, 13.16s/it, v_num=rp_1, total_loss_train=3.07e+3, kl_local_train=82.8, metric_mi|status_control_train=0.199, metric_mi|zone_train=0.178, metric_mi|time_cat_train=0.156, metric_mi|mouse_train=0.13]"
     ]
    },
    {
     "name": "stdout",
     "output_type": "stream",
     "text": [
      "\r",
      "Epoch 349/600:  58%|█████▊    | 348/600 [1:16:09<55:15, 13.16s/it, v_num=rp_1, total_loss_train=3.07e+3, kl_local_train=82.8, metric_mi|status_control_train=0.199, metric_mi|zone_train=0.178, metric_mi|time_cat_train=0.156, metric_mi|mouse_train=0.13]"
     ]
    },
    {
     "name": "stdout",
     "output_type": "stream",
     "text": [
      "\r",
      "Epoch 349/600:  58%|█████▊    | 349/600 [1:16:22<54:41, 13.07s/it, v_num=rp_1, total_loss_train=3.07e+3, kl_local_train=82.8, metric_mi|status_control_train=0.199, metric_mi|zone_train=0.178, metric_mi|time_cat_train=0.156, metric_mi|mouse_train=0.13]"
     ]
    },
    {
     "name": "stdout",
     "output_type": "stream",
     "text": [
      "\r",
      "Epoch 349/600:  58%|█████▊    | 349/600 [1:16:22<54:41, 13.07s/it, v_num=rp_1, total_loss_train=3.07e+3, kl_local_train=82.8, metric_mi|status_control_train=0.199, metric_mi|zone_train=0.178, metric_mi|time_cat_train=0.156, metric_mi|mouse_train=0.13]"
     ]
    },
    {
     "name": "stdout",
     "output_type": "stream",
     "text": [
      "\r",
      "Epoch 350/600:  58%|█████▊    | 349/600 [1:16:22<54:41, 13.07s/it, v_num=rp_1, total_loss_train=3.07e+3, kl_local_train=82.8, metric_mi|status_control_train=0.199, metric_mi|zone_train=0.178, metric_mi|time_cat_train=0.156, metric_mi|mouse_train=0.13]"
     ]
    },
    {
     "name": "stdout",
     "output_type": "stream",
     "text": [
      "\r",
      "Epoch 350/600:  58%|█████▊    | 350/600 [1:16:35<54:20, 13.04s/it, v_num=rp_1, total_loss_train=3.07e+3, kl_local_train=82.8, metric_mi|status_control_train=0.199, metric_mi|zone_train=0.178, metric_mi|time_cat_train=0.156, metric_mi|mouse_train=0.13]"
     ]
    },
    {
     "name": "stdout",
     "output_type": "stream",
     "text": [
      "\r",
      "Epoch 350/600:  58%|█████▊    | 350/600 [1:16:35<54:20, 13.04s/it, v_num=rp_1, total_loss_train=3.07e+3, kl_local_train=82.4, metric_mi|status_control_train=0.199, metric_mi|zone_train=0.178, metric_mi|time_cat_train=0.156, metric_mi|mouse_train=0.13]"
     ]
    },
    {
     "name": "stdout",
     "output_type": "stream",
     "text": [
      "\r",
      "Epoch 351/600:  58%|█████▊    | 350/600 [1:16:36<54:20, 13.04s/it, v_num=rp_1, total_loss_train=3.07e+3, kl_local_train=82.4, metric_mi|status_control_train=0.199, metric_mi|zone_train=0.178, metric_mi|time_cat_train=0.156, metric_mi|mouse_train=0.13]"
     ]
    },
    {
     "name": "stdout",
     "output_type": "stream",
     "text": [
      "\r",
      "Epoch 351/600:  58%|█████▊    | 351/600 [1:16:49<55:39, 13.41s/it, v_num=rp_1, total_loss_train=3.07e+3, kl_local_train=82.4, metric_mi|status_control_train=0.199, metric_mi|zone_train=0.178, metric_mi|time_cat_train=0.156, metric_mi|mouse_train=0.13]"
     ]
    },
    {
     "name": "stdout",
     "output_type": "stream",
     "text": [
      "\r",
      "Epoch 351/600:  58%|█████▊    | 351/600 [1:16:49<55:39, 13.41s/it, v_num=rp_1, total_loss_train=3.07e+3, kl_local_train=83.1, metric_mi|status_control_train=0.183, metric_mi|zone_train=0.178, metric_mi|time_cat_train=0.154, metric_mi|mouse_train=0.129]"
     ]
    },
    {
     "name": "stdout",
     "output_type": "stream",
     "text": [
      "\r",
      "Epoch 352/600:  58%|█████▊    | 351/600 [1:16:49<55:39, 13.41s/it, v_num=rp_1, total_loss_train=3.07e+3, kl_local_train=83.1, metric_mi|status_control_train=0.183, metric_mi|zone_train=0.178, metric_mi|time_cat_train=0.154, metric_mi|mouse_train=0.129]"
     ]
    },
    {
     "name": "stdout",
     "output_type": "stream",
     "text": [
      "\r",
      "Epoch 352/600:  59%|█████▊    | 352/600 [1:17:02<54:48, 13.26s/it, v_num=rp_1, total_loss_train=3.07e+3, kl_local_train=83.1, metric_mi|status_control_train=0.183, metric_mi|zone_train=0.178, metric_mi|time_cat_train=0.154, metric_mi|mouse_train=0.129]"
     ]
    },
    {
     "name": "stdout",
     "output_type": "stream",
     "text": [
      "\r",
      "Epoch 352/600:  59%|█████▊    | 352/600 [1:17:02<54:48, 13.26s/it, v_num=rp_1, total_loss_train=3.07e+3, kl_local_train=82.5, metric_mi|status_control_train=0.183, metric_mi|zone_train=0.178, metric_mi|time_cat_train=0.154, metric_mi|mouse_train=0.129]"
     ]
    },
    {
     "name": "stdout",
     "output_type": "stream",
     "text": [
      "\r",
      "Epoch 353/600:  59%|█████▊    | 352/600 [1:17:02<54:48, 13.26s/it, v_num=rp_1, total_loss_train=3.07e+3, kl_local_train=82.5, metric_mi|status_control_train=0.183, metric_mi|zone_train=0.178, metric_mi|time_cat_train=0.154, metric_mi|mouse_train=0.129]"
     ]
    },
    {
     "name": "stdout",
     "output_type": "stream",
     "text": [
      "\r",
      "Epoch 353/600:  59%|█████▉    | 353/600 [1:17:15<54:05, 13.14s/it, v_num=rp_1, total_loss_train=3.07e+3, kl_local_train=82.5, metric_mi|status_control_train=0.183, metric_mi|zone_train=0.178, metric_mi|time_cat_train=0.154, metric_mi|mouse_train=0.129]"
     ]
    },
    {
     "name": "stdout",
     "output_type": "stream",
     "text": [
      "\r",
      "Epoch 353/600:  59%|█████▉    | 353/600 [1:17:15<54:05, 13.14s/it, v_num=rp_1, total_loss_train=3.07e+3, kl_local_train=82, metric_mi|status_control_train=0.183, metric_mi|zone_train=0.178, metric_mi|time_cat_train=0.154, metric_mi|mouse_train=0.129]  "
     ]
    },
    {
     "name": "stdout",
     "output_type": "stream",
     "text": [
      "\r",
      "Epoch 354/600:  59%|█████▉    | 353/600 [1:17:15<54:05, 13.14s/it, v_num=rp_1, total_loss_train=3.07e+3, kl_local_train=82, metric_mi|status_control_train=0.183, metric_mi|zone_train=0.178, metric_mi|time_cat_train=0.154, metric_mi|mouse_train=0.129]"
     ]
    },
    {
     "name": "stdout",
     "output_type": "stream",
     "text": [
      "\r",
      "Epoch 354/600:  59%|█████▉    | 354/600 [1:17:28<53:35, 13.07s/it, v_num=rp_1, total_loss_train=3.07e+3, kl_local_train=82, metric_mi|status_control_train=0.183, metric_mi|zone_train=0.178, metric_mi|time_cat_train=0.154, metric_mi|mouse_train=0.129]"
     ]
    },
    {
     "name": "stdout",
     "output_type": "stream",
     "text": [
      "\r",
      "Epoch 354/600:  59%|█████▉    | 354/600 [1:17:28<53:35, 13.07s/it, v_num=rp_1, total_loss_train=3.07e+3, kl_local_train=82.5, metric_mi|status_control_train=0.183, metric_mi|zone_train=0.178, metric_mi|time_cat_train=0.154, metric_mi|mouse_train=0.129]"
     ]
    },
    {
     "name": "stdout",
     "output_type": "stream",
     "text": [
      "\r",
      "Epoch 355/600:  59%|█████▉    | 354/600 [1:17:28<53:35, 13.07s/it, v_num=rp_1, total_loss_train=3.07e+3, kl_local_train=82.5, metric_mi|status_control_train=0.183, metric_mi|zone_train=0.178, metric_mi|time_cat_train=0.154, metric_mi|mouse_train=0.129]"
     ]
    },
    {
     "name": "stdout",
     "output_type": "stream",
     "text": [
      "\r",
      "Epoch 355/600:  59%|█████▉    | 355/600 [1:17:41<53:10, 13.02s/it, v_num=rp_1, total_loss_train=3.07e+3, kl_local_train=82.5, metric_mi|status_control_train=0.183, metric_mi|zone_train=0.178, metric_mi|time_cat_train=0.154, metric_mi|mouse_train=0.129]"
     ]
    },
    {
     "name": "stdout",
     "output_type": "stream",
     "text": [
      "\r",
      "Epoch 355/600:  59%|█████▉    | 355/600 [1:17:41<53:10, 13.02s/it, v_num=rp_1, total_loss_train=3.07e+3, kl_local_train=81.8, metric_mi|status_control_train=0.183, metric_mi|zone_train=0.178, metric_mi|time_cat_train=0.154, metric_mi|mouse_train=0.129]"
     ]
    },
    {
     "name": "stdout",
     "output_type": "stream",
     "text": [
      "\r",
      "Epoch 356/600:  59%|█████▉    | 355/600 [1:17:42<53:10, 13.02s/it, v_num=rp_1, total_loss_train=3.07e+3, kl_local_train=81.8, metric_mi|status_control_train=0.183, metric_mi|zone_train=0.178, metric_mi|time_cat_train=0.154, metric_mi|mouse_train=0.129]"
     ]
    },
    {
     "name": "stdout",
     "output_type": "stream",
     "text": [
      "\r",
      "Epoch 356/600:  59%|█████▉    | 356/600 [1:17:55<54:41, 13.45s/it, v_num=rp_1, total_loss_train=3.07e+3, kl_local_train=81.8, metric_mi|status_control_train=0.183, metric_mi|zone_train=0.178, metric_mi|time_cat_train=0.154, metric_mi|mouse_train=0.129]"
     ]
    },
    {
     "name": "stdout",
     "output_type": "stream",
     "text": [
      "\r",
      "Epoch 356/600:  59%|█████▉    | 356/600 [1:17:55<54:41, 13.45s/it, v_num=rp_1, total_loss_train=3.07e+3, kl_local_train=82.2, metric_mi|status_control_train=0.195, metric_mi|zone_train=0.178, metric_mi|time_cat_train=0.153, metric_mi|mouse_train=0.128]"
     ]
    },
    {
     "name": "stdout",
     "output_type": "stream",
     "text": [
      "\r",
      "Epoch 357/600:  59%|█████▉    | 356/600 [1:17:55<54:41, 13.45s/it, v_num=rp_1, total_loss_train=3.07e+3, kl_local_train=82.2, metric_mi|status_control_train=0.195, metric_mi|zone_train=0.178, metric_mi|time_cat_train=0.153, metric_mi|mouse_train=0.128]"
     ]
    },
    {
     "name": "stdout",
     "output_type": "stream",
     "text": [
      "\r",
      "Epoch 357/600:  60%|█████▉    | 357/600 [1:18:08<54:04, 13.35s/it, v_num=rp_1, total_loss_train=3.07e+3, kl_local_train=82.2, metric_mi|status_control_train=0.195, metric_mi|zone_train=0.178, metric_mi|time_cat_train=0.153, metric_mi|mouse_train=0.128]"
     ]
    },
    {
     "name": "stdout",
     "output_type": "stream",
     "text": [
      "\r",
      "Epoch 357/600:  60%|█████▉    | 357/600 [1:18:08<54:04, 13.35s/it, v_num=rp_1, total_loss_train=3.07e+3, kl_local_train=81.7, metric_mi|status_control_train=0.195, metric_mi|zone_train=0.178, metric_mi|time_cat_train=0.153, metric_mi|mouse_train=0.128]"
     ]
    },
    {
     "name": "stdout",
     "output_type": "stream",
     "text": [
      "\r",
      "Epoch 358/600:  60%|█████▉    | 357/600 [1:18:08<54:04, 13.35s/it, v_num=rp_1, total_loss_train=3.07e+3, kl_local_train=81.7, metric_mi|status_control_train=0.195, metric_mi|zone_train=0.178, metric_mi|time_cat_train=0.153, metric_mi|mouse_train=0.128]"
     ]
    },
    {
     "name": "stdout",
     "output_type": "stream",
     "text": [
      "\r",
      "Epoch 358/600:  60%|█████▉    | 358/600 [1:18:21<53:15, 13.20s/it, v_num=rp_1, total_loss_train=3.07e+3, kl_local_train=81.7, metric_mi|status_control_train=0.195, metric_mi|zone_train=0.178, metric_mi|time_cat_train=0.153, metric_mi|mouse_train=0.128]"
     ]
    },
    {
     "name": "stdout",
     "output_type": "stream",
     "text": [
      "\r",
      "Epoch 358/600:  60%|█████▉    | 358/600 [1:18:21<53:15, 13.20s/it, v_num=rp_1, total_loss_train=3.07e+3, kl_local_train=81.3, metric_mi|status_control_train=0.195, metric_mi|zone_train=0.178, metric_mi|time_cat_train=0.153, metric_mi|mouse_train=0.128]"
     ]
    },
    {
     "name": "stdout",
     "output_type": "stream",
     "text": [
      "\r",
      "Epoch 359/600:  60%|█████▉    | 358/600 [1:18:21<53:15, 13.20s/it, v_num=rp_1, total_loss_train=3.07e+3, kl_local_train=81.3, metric_mi|status_control_train=0.195, metric_mi|zone_train=0.178, metric_mi|time_cat_train=0.153, metric_mi|mouse_train=0.128]"
     ]
    },
    {
     "name": "stdout",
     "output_type": "stream",
     "text": [
      "\r",
      "Epoch 359/600:  60%|█████▉    | 359/600 [1:18:34<52:36, 13.10s/it, v_num=rp_1, total_loss_train=3.07e+3, kl_local_train=81.3, metric_mi|status_control_train=0.195, metric_mi|zone_train=0.178, metric_mi|time_cat_train=0.153, metric_mi|mouse_train=0.128]"
     ]
    },
    {
     "name": "stdout",
     "output_type": "stream",
     "text": [
      "\r",
      "Epoch 359/600:  60%|█████▉    | 359/600 [1:18:34<52:36, 13.10s/it, v_num=rp_1, total_loss_train=3.07e+3, kl_local_train=81.4, metric_mi|status_control_train=0.195, metric_mi|zone_train=0.178, metric_mi|time_cat_train=0.153, metric_mi|mouse_train=0.128]"
     ]
    },
    {
     "name": "stdout",
     "output_type": "stream",
     "text": [
      "\r",
      "Epoch 360/600:  60%|█████▉    | 359/600 [1:18:34<52:36, 13.10s/it, v_num=rp_1, total_loss_train=3.07e+3, kl_local_train=81.4, metric_mi|status_control_train=0.195, metric_mi|zone_train=0.178, metric_mi|time_cat_train=0.153, metric_mi|mouse_train=0.128]"
     ]
    },
    {
     "name": "stdout",
     "output_type": "stream",
     "text": [
      "\r",
      "Epoch 360/600:  60%|██████    | 360/600 [1:18:47<52:10, 13.05s/it, v_num=rp_1, total_loss_train=3.07e+3, kl_local_train=81.4, metric_mi|status_control_train=0.195, metric_mi|zone_train=0.178, metric_mi|time_cat_train=0.153, metric_mi|mouse_train=0.128]"
     ]
    },
    {
     "name": "stdout",
     "output_type": "stream",
     "text": [
      "\r",
      "Epoch 360/600:  60%|██████    | 360/600 [1:18:47<52:10, 13.05s/it, v_num=rp_1, total_loss_train=3.07e+3, kl_local_train=81.4, metric_mi|status_control_train=0.195, metric_mi|zone_train=0.178, metric_mi|time_cat_train=0.153, metric_mi|mouse_train=0.128]"
     ]
    },
    {
     "name": "stdout",
     "output_type": "stream",
     "text": [
      "\r",
      "Epoch 361/600:  60%|██████    | 360/600 [1:18:48<52:10, 13.05s/it, v_num=rp_1, total_loss_train=3.07e+3, kl_local_train=81.4, metric_mi|status_control_train=0.195, metric_mi|zone_train=0.178, metric_mi|time_cat_train=0.153, metric_mi|mouse_train=0.128]"
     ]
    },
    {
     "name": "stdout",
     "output_type": "stream",
     "text": [
      "\r",
      "Epoch 361/600:  60%|██████    | 361/600 [1:19:01<53:21, 13.40s/it, v_num=rp_1, total_loss_train=3.07e+3, kl_local_train=81.4, metric_mi|status_control_train=0.195, metric_mi|zone_train=0.178, metric_mi|time_cat_train=0.153, metric_mi|mouse_train=0.128]"
     ]
    },
    {
     "name": "stdout",
     "output_type": "stream",
     "text": [
      "\r",
      "Epoch 361/600:  60%|██████    | 361/600 [1:19:01<53:21, 13.40s/it, v_num=rp_1, total_loss_train=3.07e+3, kl_local_train=81.5, metric_mi|status_control_train=0.205, metric_mi|zone_train=0.178, metric_mi|time_cat_train=0.158, metric_mi|mouse_train=0.131]"
     ]
    },
    {
     "name": "stdout",
     "output_type": "stream",
     "text": [
      "\r",
      "Epoch 362/600:  60%|██████    | 361/600 [1:19:01<53:21, 13.40s/it, v_num=rp_1, total_loss_train=3.07e+3, kl_local_train=81.5, metric_mi|status_control_train=0.205, metric_mi|zone_train=0.178, metric_mi|time_cat_train=0.158, metric_mi|mouse_train=0.131]"
     ]
    },
    {
     "name": "stdout",
     "output_type": "stream",
     "text": [
      "\r",
      "Epoch 362/600:  60%|██████    | 362/600 [1:19:14<52:33, 13.25s/it, v_num=rp_1, total_loss_train=3.07e+3, kl_local_train=81.5, metric_mi|status_control_train=0.205, metric_mi|zone_train=0.178, metric_mi|time_cat_train=0.158, metric_mi|mouse_train=0.131]"
     ]
    },
    {
     "name": "stdout",
     "output_type": "stream",
     "text": [
      "\r",
      "Epoch 362/600:  60%|██████    | 362/600 [1:19:14<52:33, 13.25s/it, v_num=rp_1, total_loss_train=3.07e+3, kl_local_train=81.3, metric_mi|status_control_train=0.205, metric_mi|zone_train=0.178, metric_mi|time_cat_train=0.158, metric_mi|mouse_train=0.131]"
     ]
    },
    {
     "name": "stdout",
     "output_type": "stream",
     "text": [
      "\r",
      "Epoch 363/600:  60%|██████    | 362/600 [1:19:14<52:33, 13.25s/it, v_num=rp_1, total_loss_train=3.07e+3, kl_local_train=81.3, metric_mi|status_control_train=0.205, metric_mi|zone_train=0.178, metric_mi|time_cat_train=0.158, metric_mi|mouse_train=0.131]"
     ]
    },
    {
     "name": "stdout",
     "output_type": "stream",
     "text": [
      "\r",
      "Epoch 363/600:  60%|██████    | 363/600 [1:19:27<51:53, 13.14s/it, v_num=rp_1, total_loss_train=3.07e+3, kl_local_train=81.3, metric_mi|status_control_train=0.205, metric_mi|zone_train=0.178, metric_mi|time_cat_train=0.158, metric_mi|mouse_train=0.131]"
     ]
    },
    {
     "name": "stdout",
     "output_type": "stream",
     "text": [
      "\r",
      "Epoch 363/600:  60%|██████    | 363/600 [1:19:27<51:53, 13.14s/it, v_num=rp_1, total_loss_train=3.07e+3, kl_local_train=81.1, metric_mi|status_control_train=0.205, metric_mi|zone_train=0.178, metric_mi|time_cat_train=0.158, metric_mi|mouse_train=0.131]"
     ]
    },
    {
     "name": "stdout",
     "output_type": "stream",
     "text": [
      "\r",
      "Epoch 364/600:  60%|██████    | 363/600 [1:19:27<51:53, 13.14s/it, v_num=rp_1, total_loss_train=3.07e+3, kl_local_train=81.1, metric_mi|status_control_train=0.205, metric_mi|zone_train=0.178, metric_mi|time_cat_train=0.158, metric_mi|mouse_train=0.131]"
     ]
    },
    {
     "name": "stdout",
     "output_type": "stream",
     "text": [
      "\r",
      "Epoch 364/600:  61%|██████    | 364/600 [1:19:40<51:21, 13.06s/it, v_num=rp_1, total_loss_train=3.07e+3, kl_local_train=81.1, metric_mi|status_control_train=0.205, metric_mi|zone_train=0.178, metric_mi|time_cat_train=0.158, metric_mi|mouse_train=0.131]"
     ]
    },
    {
     "name": "stdout",
     "output_type": "stream",
     "text": [
      "\r",
      "Epoch 364/600:  61%|██████    | 364/600 [1:19:40<51:21, 13.06s/it, v_num=rp_1, total_loss_train=3.07e+3, kl_local_train=81.1, metric_mi|status_control_train=0.205, metric_mi|zone_train=0.178, metric_mi|time_cat_train=0.158, metric_mi|mouse_train=0.131]"
     ]
    },
    {
     "name": "stdout",
     "output_type": "stream",
     "text": [
      "\r",
      "Epoch 365/600:  61%|██████    | 364/600 [1:19:40<51:21, 13.06s/it, v_num=rp_1, total_loss_train=3.07e+3, kl_local_train=81.1, metric_mi|status_control_train=0.205, metric_mi|zone_train=0.178, metric_mi|time_cat_train=0.158, metric_mi|mouse_train=0.131]"
     ]
    },
    {
     "name": "stdout",
     "output_type": "stream",
     "text": [
      "\r",
      "Epoch 365/600:  61%|██████    | 365/600 [1:19:53<51:02, 13.03s/it, v_num=rp_1, total_loss_train=3.07e+3, kl_local_train=81.1, metric_mi|status_control_train=0.205, metric_mi|zone_train=0.178, metric_mi|time_cat_train=0.158, metric_mi|mouse_train=0.131]"
     ]
    },
    {
     "name": "stdout",
     "output_type": "stream",
     "text": [
      "\r",
      "Epoch 365/600:  61%|██████    | 365/600 [1:19:53<51:02, 13.03s/it, v_num=rp_1, total_loss_train=3.07e+3, kl_local_train=81.2, metric_mi|status_control_train=0.205, metric_mi|zone_train=0.178, metric_mi|time_cat_train=0.158, metric_mi|mouse_train=0.131]"
     ]
    },
    {
     "name": "stdout",
     "output_type": "stream",
     "text": [
      "\r",
      "Epoch 366/600:  61%|██████    | 365/600 [1:19:54<51:02, 13.03s/it, v_num=rp_1, total_loss_train=3.07e+3, kl_local_train=81.2, metric_mi|status_control_train=0.205, metric_mi|zone_train=0.178, metric_mi|time_cat_train=0.158, metric_mi|mouse_train=0.131]"
     ]
    },
    {
     "name": "stdout",
     "output_type": "stream",
     "text": [
      "\r",
      "Epoch 366/600:  61%|██████    | 366/600 [1:20:07<52:12, 13.39s/it, v_num=rp_1, total_loss_train=3.07e+3, kl_local_train=81.2, metric_mi|status_control_train=0.205, metric_mi|zone_train=0.178, metric_mi|time_cat_train=0.158, metric_mi|mouse_train=0.131]"
     ]
    },
    {
     "name": "stdout",
     "output_type": "stream",
     "text": [
      "\r",
      "Epoch 366/600:  61%|██████    | 366/600 [1:20:07<52:12, 13.39s/it, v_num=rp_1, total_loss_train=3.07e+3, kl_local_train=80.6, metric_mi|status_control_train=0.197, metric_mi|zone_train=0.178, metric_mi|time_cat_train=0.159, metric_mi|mouse_train=0.132]"
     ]
    },
    {
     "name": "stdout",
     "output_type": "stream",
     "text": [
      "\r",
      "Epoch 367/600:  61%|██████    | 366/600 [1:20:07<52:12, 13.39s/it, v_num=rp_1, total_loss_train=3.07e+3, kl_local_train=80.6, metric_mi|status_control_train=0.197, metric_mi|zone_train=0.178, metric_mi|time_cat_train=0.159, metric_mi|mouse_train=0.132]"
     ]
    },
    {
     "name": "stdout",
     "output_type": "stream",
     "text": [
      "\r",
      "Epoch 367/600:  61%|██████    | 367/600 [1:20:20<51:27, 13.25s/it, v_num=rp_1, total_loss_train=3.07e+3, kl_local_train=80.6, metric_mi|status_control_train=0.197, metric_mi|zone_train=0.178, metric_mi|time_cat_train=0.159, metric_mi|mouse_train=0.132]"
     ]
    },
    {
     "name": "stdout",
     "output_type": "stream",
     "text": [
      "\r",
      "Epoch 367/600:  61%|██████    | 367/600 [1:20:20<51:27, 13.25s/it, v_num=rp_1, total_loss_train=3.07e+3, kl_local_train=80.8, metric_mi|status_control_train=0.197, metric_mi|zone_train=0.178, metric_mi|time_cat_train=0.159, metric_mi|mouse_train=0.132]"
     ]
    },
    {
     "name": "stdout",
     "output_type": "stream",
     "text": [
      "\r",
      "Epoch 368/600:  61%|██████    | 367/600 [1:20:20<51:27, 13.25s/it, v_num=rp_1, total_loss_train=3.07e+3, kl_local_train=80.8, metric_mi|status_control_train=0.197, metric_mi|zone_train=0.178, metric_mi|time_cat_train=0.159, metric_mi|mouse_train=0.132]"
     ]
    },
    {
     "name": "stdout",
     "output_type": "stream",
     "text": [
      "\r",
      "Epoch 368/600:  61%|██████▏   | 368/600 [1:20:33<50:44, 13.12s/it, v_num=rp_1, total_loss_train=3.07e+3, kl_local_train=80.8, metric_mi|status_control_train=0.197, metric_mi|zone_train=0.178, metric_mi|time_cat_train=0.159, metric_mi|mouse_train=0.132]"
     ]
    },
    {
     "name": "stdout",
     "output_type": "stream",
     "text": [
      "\r",
      "Epoch 368/600:  61%|██████▏   | 368/600 [1:20:33<50:44, 13.12s/it, v_num=rp_1, total_loss_train=3.07e+3, kl_local_train=80.7, metric_mi|status_control_train=0.197, metric_mi|zone_train=0.178, metric_mi|time_cat_train=0.159, metric_mi|mouse_train=0.132]"
     ]
    },
    {
     "name": "stdout",
     "output_type": "stream",
     "text": [
      "\r",
      "Epoch 369/600:  61%|██████▏   | 368/600 [1:20:33<50:44, 13.12s/it, v_num=rp_1, total_loss_train=3.07e+3, kl_local_train=80.7, metric_mi|status_control_train=0.197, metric_mi|zone_train=0.178, metric_mi|time_cat_train=0.159, metric_mi|mouse_train=0.132]"
     ]
    },
    {
     "name": "stdout",
     "output_type": "stream",
     "text": [
      "\r",
      "Epoch 369/600:  62%|██████▏   | 369/600 [1:20:45<50:16, 13.06s/it, v_num=rp_1, total_loss_train=3.07e+3, kl_local_train=80.7, metric_mi|status_control_train=0.197, metric_mi|zone_train=0.178, metric_mi|time_cat_train=0.159, metric_mi|mouse_train=0.132]"
     ]
    },
    {
     "name": "stdout",
     "output_type": "stream",
     "text": [
      "\r",
      "Epoch 369/600:  62%|██████▏   | 369/600 [1:20:45<50:16, 13.06s/it, v_num=rp_1, total_loss_train=3.07e+3, kl_local_train=80.9, metric_mi|status_control_train=0.197, metric_mi|zone_train=0.178, metric_mi|time_cat_train=0.159, metric_mi|mouse_train=0.132]"
     ]
    },
    {
     "name": "stdout",
     "output_type": "stream",
     "text": [
      "\r",
      "Epoch 370/600:  62%|██████▏   | 369/600 [1:20:45<50:16, 13.06s/it, v_num=rp_1, total_loss_train=3.07e+3, kl_local_train=80.9, metric_mi|status_control_train=0.197, metric_mi|zone_train=0.178, metric_mi|time_cat_train=0.159, metric_mi|mouse_train=0.132]"
     ]
    },
    {
     "name": "stdout",
     "output_type": "stream",
     "text": [
      "\r",
      "Epoch 370/600:  62%|██████▏   | 370/600 [1:20:58<49:46, 12.98s/it, v_num=rp_1, total_loss_train=3.07e+3, kl_local_train=80.9, metric_mi|status_control_train=0.197, metric_mi|zone_train=0.178, metric_mi|time_cat_train=0.159, metric_mi|mouse_train=0.132]"
     ]
    },
    {
     "name": "stdout",
     "output_type": "stream",
     "text": [
      "\r",
      "Epoch 370/600:  62%|██████▏   | 370/600 [1:20:58<49:46, 12.98s/it, v_num=rp_1, total_loss_train=3.07e+3, kl_local_train=80.3, metric_mi|status_control_train=0.197, metric_mi|zone_train=0.178, metric_mi|time_cat_train=0.159, metric_mi|mouse_train=0.132]"
     ]
    },
    {
     "name": "stdout",
     "output_type": "stream",
     "text": [
      "\r",
      "Epoch 371/600:  62%|██████▏   | 370/600 [1:21:00<49:46, 12.98s/it, v_num=rp_1, total_loss_train=3.07e+3, kl_local_train=80.3, metric_mi|status_control_train=0.197, metric_mi|zone_train=0.178, metric_mi|time_cat_train=0.159, metric_mi|mouse_train=0.132]"
     ]
    },
    {
     "name": "stdout",
     "output_type": "stream",
     "text": [
      "\r",
      "Epoch 371/600:  62%|██████▏   | 371/600 [1:21:12<50:59, 13.36s/it, v_num=rp_1, total_loss_train=3.07e+3, kl_local_train=80.3, metric_mi|status_control_train=0.197, metric_mi|zone_train=0.178, metric_mi|time_cat_train=0.159, metric_mi|mouse_train=0.132]"
     ]
    },
    {
     "name": "stdout",
     "output_type": "stream",
     "text": [
      "\r",
      "Epoch 371/600:  62%|██████▏   | 371/600 [1:21:12<50:59, 13.36s/it, v_num=rp_1, total_loss_train=3.07e+3, kl_local_train=80.8, metric_mi|status_control_train=0.173, metric_mi|zone_train=0.177, metric_mi|time_cat_train=0.15, metric_mi|mouse_train=0.126] "
     ]
    },
    {
     "name": "stdout",
     "output_type": "stream",
     "text": [
      "\r",
      "Epoch 372/600:  62%|██████▏   | 371/600 [1:21:12<50:59, 13.36s/it, v_num=rp_1, total_loss_train=3.07e+3, kl_local_train=80.8, metric_mi|status_control_train=0.173, metric_mi|zone_train=0.177, metric_mi|time_cat_train=0.15, metric_mi|mouse_train=0.126]"
     ]
    },
    {
     "name": "stdout",
     "output_type": "stream",
     "text": [
      "\r",
      "Epoch 372/600:  62%|██████▏   | 372/600 [1:21:25<50:16, 13.23s/it, v_num=rp_1, total_loss_train=3.07e+3, kl_local_train=80.8, metric_mi|status_control_train=0.173, metric_mi|zone_train=0.177, metric_mi|time_cat_train=0.15, metric_mi|mouse_train=0.126]"
     ]
    },
    {
     "name": "stdout",
     "output_type": "stream",
     "text": [
      "\r",
      "Epoch 372/600:  62%|██████▏   | 372/600 [1:21:25<50:16, 13.23s/it, v_num=rp_1, total_loss_train=3.07e+3, kl_local_train=80.4, metric_mi|status_control_train=0.173, metric_mi|zone_train=0.177, metric_mi|time_cat_train=0.15, metric_mi|mouse_train=0.126]"
     ]
    },
    {
     "name": "stdout",
     "output_type": "stream",
     "text": [
      "\r",
      "Epoch 373/600:  62%|██████▏   | 372/600 [1:21:25<50:16, 13.23s/it, v_num=rp_1, total_loss_train=3.07e+3, kl_local_train=80.4, metric_mi|status_control_train=0.173, metric_mi|zone_train=0.177, metric_mi|time_cat_train=0.15, metric_mi|mouse_train=0.126]"
     ]
    },
    {
     "name": "stdout",
     "output_type": "stream",
     "text": [
      "\r",
      "Epoch 373/600:  62%|██████▏   | 373/600 [1:21:38<49:40, 13.13s/it, v_num=rp_1, total_loss_train=3.07e+3, kl_local_train=80.4, metric_mi|status_control_train=0.173, metric_mi|zone_train=0.177, metric_mi|time_cat_train=0.15, metric_mi|mouse_train=0.126]"
     ]
    },
    {
     "name": "stdout",
     "output_type": "stream",
     "text": [
      "\r",
      "Epoch 373/600:  62%|██████▏   | 373/600 [1:21:38<49:40, 13.13s/it, v_num=rp_1, total_loss_train=3.07e+3, kl_local_train=80.7, metric_mi|status_control_train=0.173, metric_mi|zone_train=0.177, metric_mi|time_cat_train=0.15, metric_mi|mouse_train=0.126]"
     ]
    },
    {
     "name": "stdout",
     "output_type": "stream",
     "text": [
      "\r",
      "Epoch 374/600:  62%|██████▏   | 373/600 [1:21:38<49:40, 13.13s/it, v_num=rp_1, total_loss_train=3.07e+3, kl_local_train=80.7, metric_mi|status_control_train=0.173, metric_mi|zone_train=0.177, metric_mi|time_cat_train=0.15, metric_mi|mouse_train=0.126]"
     ]
    },
    {
     "name": "stdout",
     "output_type": "stream",
     "text": [
      "\r",
      "Epoch 374/600:  62%|██████▏   | 374/600 [1:21:51<49:10, 13.06s/it, v_num=rp_1, total_loss_train=3.07e+3, kl_local_train=80.7, metric_mi|status_control_train=0.173, metric_mi|zone_train=0.177, metric_mi|time_cat_train=0.15, metric_mi|mouse_train=0.126]"
     ]
    },
    {
     "name": "stdout",
     "output_type": "stream",
     "text": [
      "\r",
      "Epoch 374/600:  62%|██████▏   | 374/600 [1:21:51<49:10, 13.06s/it, v_num=rp_1, total_loss_train=3.07e+3, kl_local_train=80.1, metric_mi|status_control_train=0.173, metric_mi|zone_train=0.177, metric_mi|time_cat_train=0.15, metric_mi|mouse_train=0.126]"
     ]
    },
    {
     "name": "stdout",
     "output_type": "stream",
     "text": [
      "\r",
      "Epoch 375/600:  62%|██████▏   | 374/600 [1:21:51<49:10, 13.06s/it, v_num=rp_1, total_loss_train=3.07e+3, kl_local_train=80.1, metric_mi|status_control_train=0.173, metric_mi|zone_train=0.177, metric_mi|time_cat_train=0.15, metric_mi|mouse_train=0.126]"
     ]
    },
    {
     "name": "stdout",
     "output_type": "stream",
     "text": [
      "\r",
      "Epoch 375/600:  62%|██████▎   | 375/600 [1:22:04<48:45, 13.00s/it, v_num=rp_1, total_loss_train=3.07e+3, kl_local_train=80.1, metric_mi|status_control_train=0.173, metric_mi|zone_train=0.177, metric_mi|time_cat_train=0.15, metric_mi|mouse_train=0.126]"
     ]
    },
    {
     "name": "stdout",
     "output_type": "stream",
     "text": [
      "\r",
      "Epoch 375/600:  62%|██████▎   | 375/600 [1:22:04<48:45, 13.00s/it, v_num=rp_1, total_loss_train=3.07e+3, kl_local_train=79.9, metric_mi|status_control_train=0.173, metric_mi|zone_train=0.177, metric_mi|time_cat_train=0.15, metric_mi|mouse_train=0.126]"
     ]
    },
    {
     "name": "stdout",
     "output_type": "stream",
     "text": [
      "\r",
      "Epoch 376/600:  62%|██████▎   | 375/600 [1:22:05<48:45, 13.00s/it, v_num=rp_1, total_loss_train=3.07e+3, kl_local_train=79.9, metric_mi|status_control_train=0.173, metric_mi|zone_train=0.177, metric_mi|time_cat_train=0.15, metric_mi|mouse_train=0.126]"
     ]
    },
    {
     "name": "stdout",
     "output_type": "stream",
     "text": [
      "\r",
      "Epoch 376/600:  63%|██████▎   | 376/600 [1:22:18<49:55, 13.37s/it, v_num=rp_1, total_loss_train=3.07e+3, kl_local_train=79.9, metric_mi|status_control_train=0.173, metric_mi|zone_train=0.177, metric_mi|time_cat_train=0.15, metric_mi|mouse_train=0.126]"
     ]
    },
    {
     "name": "stdout",
     "output_type": "stream",
     "text": [
      "\r",
      "Epoch 376/600:  63%|██████▎   | 376/600 [1:22:18<49:55, 13.37s/it, v_num=rp_1, total_loss_train=3.07e+3, kl_local_train=80.2, metric_mi|status_control_train=0.189, metric_mi|zone_train=0.177, metric_mi|time_cat_train=0.158, metric_mi|mouse_train=0.131]"
     ]
    },
    {
     "name": "stdout",
     "output_type": "stream",
     "text": [
      "\r",
      "Epoch 377/600:  63%|██████▎   | 376/600 [1:22:18<49:55, 13.37s/it, v_num=rp_1, total_loss_train=3.07e+3, kl_local_train=80.2, metric_mi|status_control_train=0.189, metric_mi|zone_train=0.177, metric_mi|time_cat_train=0.158, metric_mi|mouse_train=0.131]"
     ]
    },
    {
     "name": "stdout",
     "output_type": "stream",
     "text": [
      "\r",
      "Epoch 377/600:  63%|██████▎   | 377/600 [1:22:31<49:06, 13.21s/it, v_num=rp_1, total_loss_train=3.07e+3, kl_local_train=80.2, metric_mi|status_control_train=0.189, metric_mi|zone_train=0.177, metric_mi|time_cat_train=0.158, metric_mi|mouse_train=0.131]"
     ]
    },
    {
     "name": "stdout",
     "output_type": "stream",
     "text": [
      "\r",
      "Epoch 377/600:  63%|██████▎   | 377/600 [1:22:31<49:06, 13.21s/it, v_num=rp_1, total_loss_train=3.07e+3, kl_local_train=79.7, metric_mi|status_control_train=0.189, metric_mi|zone_train=0.177, metric_mi|time_cat_train=0.158, metric_mi|mouse_train=0.131]"
     ]
    },
    {
     "name": "stdout",
     "output_type": "stream",
     "text": [
      "\r",
      "Epoch 378/600:  63%|██████▎   | 377/600 [1:22:31<49:06, 13.21s/it, v_num=rp_1, total_loss_train=3.07e+3, kl_local_train=79.7, metric_mi|status_control_train=0.189, metric_mi|zone_train=0.177, metric_mi|time_cat_train=0.158, metric_mi|mouse_train=0.131]"
     ]
    },
    {
     "name": "stdout",
     "output_type": "stream",
     "text": [
      "\r",
      "Epoch 378/600:  63%|██████▎   | 378/600 [1:22:44<48:26, 13.09s/it, v_num=rp_1, total_loss_train=3.07e+3, kl_local_train=79.7, metric_mi|status_control_train=0.189, metric_mi|zone_train=0.177, metric_mi|time_cat_train=0.158, metric_mi|mouse_train=0.131]"
     ]
    },
    {
     "name": "stdout",
     "output_type": "stream",
     "text": [
      "\r",
      "Epoch 378/600:  63%|██████▎   | 378/600 [1:22:44<48:26, 13.09s/it, v_num=rp_1, total_loss_train=3.07e+3, kl_local_train=79.8, metric_mi|status_control_train=0.189, metric_mi|zone_train=0.177, metric_mi|time_cat_train=0.158, metric_mi|mouse_train=0.131]"
     ]
    },
    {
     "name": "stdout",
     "output_type": "stream",
     "text": [
      "\r",
      "Epoch 379/600:  63%|██████▎   | 378/600 [1:22:44<48:26, 13.09s/it, v_num=rp_1, total_loss_train=3.07e+3, kl_local_train=79.8, metric_mi|status_control_train=0.189, metric_mi|zone_train=0.177, metric_mi|time_cat_train=0.158, metric_mi|mouse_train=0.131]"
     ]
    },
    {
     "name": "stdout",
     "output_type": "stream",
     "text": [
      "\r",
      "Epoch 379/600:  63%|██████▎   | 379/600 [1:22:57<47:56, 13.01s/it, v_num=rp_1, total_loss_train=3.07e+3, kl_local_train=79.8, metric_mi|status_control_train=0.189, metric_mi|zone_train=0.177, metric_mi|time_cat_train=0.158, metric_mi|mouse_train=0.131]"
     ]
    },
    {
     "name": "stdout",
     "output_type": "stream",
     "text": [
      "\r",
      "Epoch 379/600:  63%|██████▎   | 379/600 [1:22:57<47:56, 13.01s/it, v_num=rp_1, total_loss_train=3.07e+3, kl_local_train=79.6, metric_mi|status_control_train=0.189, metric_mi|zone_train=0.177, metric_mi|time_cat_train=0.158, metric_mi|mouse_train=0.131]"
     ]
    },
    {
     "name": "stdout",
     "output_type": "stream",
     "text": [
      "\r",
      "Epoch 380/600:  63%|██████▎   | 379/600 [1:22:57<47:56, 13.01s/it, v_num=rp_1, total_loss_train=3.07e+3, kl_local_train=79.6, metric_mi|status_control_train=0.189, metric_mi|zone_train=0.177, metric_mi|time_cat_train=0.158, metric_mi|mouse_train=0.131]"
     ]
    },
    {
     "name": "stdout",
     "output_type": "stream",
     "text": [
      "\r",
      "Epoch 380/600:  63%|██████▎   | 380/600 [1:23:10<47:37, 12.99s/it, v_num=rp_1, total_loss_train=3.07e+3, kl_local_train=79.6, metric_mi|status_control_train=0.189, metric_mi|zone_train=0.177, metric_mi|time_cat_train=0.158, metric_mi|mouse_train=0.131]"
     ]
    },
    {
     "name": "stdout",
     "output_type": "stream",
     "text": [
      "\r",
      "Epoch 380/600:  63%|██████▎   | 380/600 [1:23:10<47:37, 12.99s/it, v_num=rp_1, total_loss_train=3.07e+3, kl_local_train=79.8, metric_mi|status_control_train=0.189, metric_mi|zone_train=0.177, metric_mi|time_cat_train=0.158, metric_mi|mouse_train=0.131]"
     ]
    },
    {
     "name": "stdout",
     "output_type": "stream",
     "text": [
      "\r",
      "Epoch 381/600:  63%|██████▎   | 380/600 [1:23:11<47:37, 12.99s/it, v_num=rp_1, total_loss_train=3.07e+3, kl_local_train=79.8, metric_mi|status_control_train=0.189, metric_mi|zone_train=0.177, metric_mi|time_cat_train=0.158, metric_mi|mouse_train=0.131]"
     ]
    },
    {
     "name": "stdout",
     "output_type": "stream",
     "text": [
      "\r",
      "Epoch 381/600:  64%|██████▎   | 381/600 [1:23:24<48:49, 13.38s/it, v_num=rp_1, total_loss_train=3.07e+3, kl_local_train=79.8, metric_mi|status_control_train=0.189, metric_mi|zone_train=0.177, metric_mi|time_cat_train=0.158, metric_mi|mouse_train=0.131]"
     ]
    },
    {
     "name": "stdout",
     "output_type": "stream",
     "text": [
      "\r",
      "Epoch 381/600:  64%|██████▎   | 381/600 [1:23:24<48:49, 13.38s/it, v_num=rp_1, total_loss_train=3.07e+3, kl_local_train=80.1, metric_mi|status_control_train=0.204, metric_mi|zone_train=0.177, metric_mi|time_cat_train=0.163, metric_mi|mouse_train=0.134]"
     ]
    },
    {
     "name": "stdout",
     "output_type": "stream",
     "text": [
      "\r",
      "Epoch 382/600:  64%|██████▎   | 381/600 [1:23:24<48:49, 13.38s/it, v_num=rp_1, total_loss_train=3.07e+3, kl_local_train=80.1, metric_mi|status_control_train=0.204, metric_mi|zone_train=0.177, metric_mi|time_cat_train=0.163, metric_mi|mouse_train=0.134]"
     ]
    },
    {
     "name": "stdout",
     "output_type": "stream",
     "text": [
      "\r",
      "Epoch 382/600:  64%|██████▎   | 382/600 [1:23:37<48:06, 13.24s/it, v_num=rp_1, total_loss_train=3.07e+3, kl_local_train=80.1, metric_mi|status_control_train=0.204, metric_mi|zone_train=0.177, metric_mi|time_cat_train=0.163, metric_mi|mouse_train=0.134]"
     ]
    },
    {
     "name": "stdout",
     "output_type": "stream",
     "text": [
      "\r",
      "Epoch 382/600:  64%|██████▎   | 382/600 [1:23:37<48:06, 13.24s/it, v_num=rp_1, total_loss_train=3.07e+3, kl_local_train=79.3, metric_mi|status_control_train=0.204, metric_mi|zone_train=0.177, metric_mi|time_cat_train=0.163, metric_mi|mouse_train=0.134]"
     ]
    },
    {
     "name": "stdout",
     "output_type": "stream",
     "text": [
      "\r",
      "Epoch 383/600:  64%|██████▎   | 382/600 [1:23:37<48:06, 13.24s/it, v_num=rp_1, total_loss_train=3.07e+3, kl_local_train=79.3, metric_mi|status_control_train=0.204, metric_mi|zone_train=0.177, metric_mi|time_cat_train=0.163, metric_mi|mouse_train=0.134]"
     ]
    },
    {
     "name": "stdout",
     "output_type": "stream",
     "text": [
      "\r",
      "Epoch 383/600:  64%|██████▍   | 383/600 [1:23:50<47:32, 13.14s/it, v_num=rp_1, total_loss_train=3.07e+3, kl_local_train=79.3, metric_mi|status_control_train=0.204, metric_mi|zone_train=0.177, metric_mi|time_cat_train=0.163, metric_mi|mouse_train=0.134]"
     ]
    },
    {
     "name": "stdout",
     "output_type": "stream",
     "text": [
      "\r",
      "Epoch 383/600:  64%|██████▍   | 383/600 [1:23:50<47:32, 13.14s/it, v_num=rp_1, total_loss_train=3.07e+3, kl_local_train=79.4, metric_mi|status_control_train=0.204, metric_mi|zone_train=0.177, metric_mi|time_cat_train=0.163, metric_mi|mouse_train=0.134]"
     ]
    },
    {
     "name": "stdout",
     "output_type": "stream",
     "text": [
      "\r",
      "Epoch 384/600:  64%|██████▍   | 383/600 [1:23:50<47:32, 13.14s/it, v_num=rp_1, total_loss_train=3.07e+3, kl_local_train=79.4, metric_mi|status_control_train=0.204, metric_mi|zone_train=0.177, metric_mi|time_cat_train=0.163, metric_mi|mouse_train=0.134]"
     ]
    },
    {
     "name": "stdout",
     "output_type": "stream",
     "text": [
      "\r",
      "Epoch 384/600:  64%|██████▍   | 384/600 [1:24:03<46:59, 13.05s/it, v_num=rp_1, total_loss_train=3.07e+3, kl_local_train=79.4, metric_mi|status_control_train=0.204, metric_mi|zone_train=0.177, metric_mi|time_cat_train=0.163, metric_mi|mouse_train=0.134]"
     ]
    },
    {
     "name": "stdout",
     "output_type": "stream",
     "text": [
      "\r",
      "Epoch 384/600:  64%|██████▍   | 384/600 [1:24:03<46:59, 13.05s/it, v_num=rp_1, total_loss_train=3.07e+3, kl_local_train=79.1, metric_mi|status_control_train=0.204, metric_mi|zone_train=0.177, metric_mi|time_cat_train=0.163, metric_mi|mouse_train=0.134]"
     ]
    },
    {
     "name": "stdout",
     "output_type": "stream",
     "text": [
      "\r",
      "Epoch 385/600:  64%|██████▍   | 384/600 [1:24:03<46:59, 13.05s/it, v_num=rp_1, total_loss_train=3.07e+3, kl_local_train=79.1, metric_mi|status_control_train=0.204, metric_mi|zone_train=0.177, metric_mi|time_cat_train=0.163, metric_mi|mouse_train=0.134]"
     ]
    },
    {
     "name": "stdout",
     "output_type": "stream",
     "text": [
      "\r",
      "Epoch 385/600:  64%|██████▍   | 385/600 [1:24:16<46:41, 13.03s/it, v_num=rp_1, total_loss_train=3.07e+3, kl_local_train=79.1, metric_mi|status_control_train=0.204, metric_mi|zone_train=0.177, metric_mi|time_cat_train=0.163, metric_mi|mouse_train=0.134]"
     ]
    },
    {
     "name": "stdout",
     "output_type": "stream",
     "text": [
      "\r",
      "Epoch 385/600:  64%|██████▍   | 385/600 [1:24:16<46:41, 13.03s/it, v_num=rp_1, total_loss_train=3.07e+3, kl_local_train=79.1, metric_mi|status_control_train=0.204, metric_mi|zone_train=0.177, metric_mi|time_cat_train=0.163, metric_mi|mouse_train=0.134]"
     ]
    },
    {
     "name": "stdout",
     "output_type": "stream",
     "text": [
      "\r",
      "Epoch 386/600:  64%|██████▍   | 385/600 [1:24:17<46:41, 13.03s/it, v_num=rp_1, total_loss_train=3.07e+3, kl_local_train=79.1, metric_mi|status_control_train=0.204, metric_mi|zone_train=0.177, metric_mi|time_cat_train=0.163, metric_mi|mouse_train=0.134]"
     ]
    },
    {
     "name": "stdout",
     "output_type": "stream",
     "text": [
      "\r",
      "Epoch 386/600:  64%|██████▍   | 386/600 [1:24:30<47:46, 13.39s/it, v_num=rp_1, total_loss_train=3.07e+3, kl_local_train=79.1, metric_mi|status_control_train=0.204, metric_mi|zone_train=0.177, metric_mi|time_cat_train=0.163, metric_mi|mouse_train=0.134]"
     ]
    },
    {
     "name": "stdout",
     "output_type": "stream",
     "text": [
      "\r",
      "Epoch 386/600:  64%|██████▍   | 386/600 [1:24:30<47:46, 13.39s/it, v_num=rp_1, total_loss_train=3.07e+3, kl_local_train=78.8, metric_mi|status_control_train=0.206, metric_mi|zone_train=0.177, metric_mi|time_cat_train=0.16, metric_mi|mouse_train=0.132] "
     ]
    },
    {
     "name": "stdout",
     "output_type": "stream",
     "text": [
      "\r",
      "Epoch 387/600:  64%|██████▍   | 386/600 [1:24:30<47:46, 13.39s/it, v_num=rp_1, total_loss_train=3.07e+3, kl_local_train=78.8, metric_mi|status_control_train=0.206, metric_mi|zone_train=0.177, metric_mi|time_cat_train=0.16, metric_mi|mouse_train=0.132]"
     ]
    },
    {
     "name": "stdout",
     "output_type": "stream",
     "text": [
      "\r",
      "Epoch 387/600:  64%|██████▍   | 387/600 [1:24:43<47:06, 13.27s/it, v_num=rp_1, total_loss_train=3.07e+3, kl_local_train=78.8, metric_mi|status_control_train=0.206, metric_mi|zone_train=0.177, metric_mi|time_cat_train=0.16, metric_mi|mouse_train=0.132]"
     ]
    },
    {
     "name": "stdout",
     "output_type": "stream",
     "text": [
      "\r",
      "Epoch 387/600:  64%|██████▍   | 387/600 [1:24:43<47:06, 13.27s/it, v_num=rp_1, total_loss_train=3.07e+3, kl_local_train=79, metric_mi|status_control_train=0.206, metric_mi|zone_train=0.177, metric_mi|time_cat_train=0.16, metric_mi|mouse_train=0.132]  "
     ]
    },
    {
     "name": "stdout",
     "output_type": "stream",
     "text": [
      "\r",
      "Epoch 388/600:  64%|██████▍   | 387/600 [1:24:43<47:06, 13.27s/it, v_num=rp_1, total_loss_train=3.07e+3, kl_local_train=79, metric_mi|status_control_train=0.206, metric_mi|zone_train=0.177, metric_mi|time_cat_train=0.16, metric_mi|mouse_train=0.132]"
     ]
    },
    {
     "name": "stdout",
     "output_type": "stream",
     "text": [
      "\r",
      "Epoch 388/600:  65%|██████▍   | 388/600 [1:24:56<46:35, 13.19s/it, v_num=rp_1, total_loss_train=3.07e+3, kl_local_train=79, metric_mi|status_control_train=0.206, metric_mi|zone_train=0.177, metric_mi|time_cat_train=0.16, metric_mi|mouse_train=0.132]"
     ]
    },
    {
     "name": "stdout",
     "output_type": "stream",
     "text": [
      "\r",
      "Epoch 388/600:  65%|██████▍   | 388/600 [1:24:56<46:35, 13.19s/it, v_num=rp_1, total_loss_train=3.07e+3, kl_local_train=78.7, metric_mi|status_control_train=0.206, metric_mi|zone_train=0.177, metric_mi|time_cat_train=0.16, metric_mi|mouse_train=0.132]"
     ]
    },
    {
     "name": "stdout",
     "output_type": "stream",
     "text": [
      "\r",
      "Epoch 389/600:  65%|██████▍   | 388/600 [1:24:56<46:35, 13.19s/it, v_num=rp_1, total_loss_train=3.07e+3, kl_local_train=78.7, metric_mi|status_control_train=0.206, metric_mi|zone_train=0.177, metric_mi|time_cat_train=0.16, metric_mi|mouse_train=0.132]"
     ]
    },
    {
     "name": "stdout",
     "output_type": "stream",
     "text": [
      "\r",
      "Epoch 389/600:  65%|██████▍   | 389/600 [1:25:09<46:04, 13.10s/it, v_num=rp_1, total_loss_train=3.07e+3, kl_local_train=78.7, metric_mi|status_control_train=0.206, metric_mi|zone_train=0.177, metric_mi|time_cat_train=0.16, metric_mi|mouse_train=0.132]"
     ]
    },
    {
     "name": "stdout",
     "output_type": "stream",
     "text": [
      "\r",
      "Epoch 389/600:  65%|██████▍   | 389/600 [1:25:09<46:04, 13.10s/it, v_num=rp_1, total_loss_train=3.07e+3, kl_local_train=79.4, metric_mi|status_control_train=0.206, metric_mi|zone_train=0.177, metric_mi|time_cat_train=0.16, metric_mi|mouse_train=0.132]"
     ]
    },
    {
     "name": "stdout",
     "output_type": "stream",
     "text": [
      "\r",
      "Epoch 390/600:  65%|██████▍   | 389/600 [1:25:09<46:04, 13.10s/it, v_num=rp_1, total_loss_train=3.07e+3, kl_local_train=79.4, metric_mi|status_control_train=0.206, metric_mi|zone_train=0.177, metric_mi|time_cat_train=0.16, metric_mi|mouse_train=0.132]"
     ]
    },
    {
     "name": "stdout",
     "output_type": "stream",
     "text": [
      "\r",
      "Epoch 390/600:  65%|██████▌   | 390/600 [1:25:22<45:34, 13.02s/it, v_num=rp_1, total_loss_train=3.07e+3, kl_local_train=79.4, metric_mi|status_control_train=0.206, metric_mi|zone_train=0.177, metric_mi|time_cat_train=0.16, metric_mi|mouse_train=0.132]"
     ]
    },
    {
     "name": "stdout",
     "output_type": "stream",
     "text": [
      "\r",
      "Epoch 390/600:  65%|██████▌   | 390/600 [1:25:22<45:34, 13.02s/it, v_num=rp_1, total_loss_train=3.07e+3, kl_local_train=79, metric_mi|status_control_train=0.206, metric_mi|zone_train=0.177, metric_mi|time_cat_train=0.16, metric_mi|mouse_train=0.132]  "
     ]
    },
    {
     "name": "stdout",
     "output_type": "stream",
     "text": [
      "\r",
      "Epoch 391/600:  65%|██████▌   | 390/600 [1:25:23<45:34, 13.02s/it, v_num=rp_1, total_loss_train=3.07e+3, kl_local_train=79, metric_mi|status_control_train=0.206, metric_mi|zone_train=0.177, metric_mi|time_cat_train=0.16, metric_mi|mouse_train=0.132]"
     ]
    },
    {
     "name": "stdout",
     "output_type": "stream",
     "text": [
      "\r",
      "Epoch 391/600:  65%|██████▌   | 391/600 [1:25:36<46:49, 13.44s/it, v_num=rp_1, total_loss_train=3.07e+3, kl_local_train=79, metric_mi|status_control_train=0.206, metric_mi|zone_train=0.177, metric_mi|time_cat_train=0.16, metric_mi|mouse_train=0.132]"
     ]
    },
    {
     "name": "stdout",
     "output_type": "stream",
     "text": [
      "\r",
      "Epoch 391/600:  65%|██████▌   | 391/600 [1:25:36<46:49, 13.44s/it, v_num=rp_1, total_loss_train=3.07e+3, kl_local_train=79.1, metric_mi|status_control_train=0.188, metric_mi|zone_train=0.177, metric_mi|time_cat_train=0.149, metric_mi|mouse_train=0.126]"
     ]
    },
    {
     "name": "stdout",
     "output_type": "stream",
     "text": [
      "\r",
      "Epoch 392/600:  65%|██████▌   | 391/600 [1:25:36<46:49, 13.44s/it, v_num=rp_1, total_loss_train=3.07e+3, kl_local_train=79.1, metric_mi|status_control_train=0.188, metric_mi|zone_train=0.177, metric_mi|time_cat_train=0.149, metric_mi|mouse_train=0.126]"
     ]
    },
    {
     "name": "stdout",
     "output_type": "stream",
     "text": [
      "\r",
      "Epoch 392/600:  65%|██████▌   | 392/600 [1:25:49<45:43, 13.19s/it, v_num=rp_1, total_loss_train=3.07e+3, kl_local_train=79.1, metric_mi|status_control_train=0.188, metric_mi|zone_train=0.177, metric_mi|time_cat_train=0.149, metric_mi|mouse_train=0.126]"
     ]
    },
    {
     "name": "stdout",
     "output_type": "stream",
     "text": [
      "\r",
      "Epoch 392/600:  65%|██████▌   | 392/600 [1:25:49<45:43, 13.19s/it, v_num=rp_1, total_loss_train=3.07e+3, kl_local_train=78.9, metric_mi|status_control_train=0.188, metric_mi|zone_train=0.177, metric_mi|time_cat_train=0.149, metric_mi|mouse_train=0.126]"
     ]
    },
    {
     "name": "stdout",
     "output_type": "stream",
     "text": [
      "\r",
      "Epoch 393/600:  65%|██████▌   | 392/600 [1:25:49<45:43, 13.19s/it, v_num=rp_1, total_loss_train=3.07e+3, kl_local_train=78.9, metric_mi|status_control_train=0.188, metric_mi|zone_train=0.177, metric_mi|time_cat_train=0.149, metric_mi|mouse_train=0.126]"
     ]
    },
    {
     "name": "stdout",
     "output_type": "stream",
     "text": [
      "\r",
      "Epoch 393/600:  66%|██████▌   | 393/600 [1:26:02<45:34, 13.21s/it, v_num=rp_1, total_loss_train=3.07e+3, kl_local_train=78.9, metric_mi|status_control_train=0.188, metric_mi|zone_train=0.177, metric_mi|time_cat_train=0.149, metric_mi|mouse_train=0.126]"
     ]
    },
    {
     "name": "stdout",
     "output_type": "stream",
     "text": [
      "\r",
      "Epoch 393/600:  66%|██████▌   | 393/600 [1:26:02<45:34, 13.21s/it, v_num=rp_1, total_loss_train=3.07e+3, kl_local_train=78.6, metric_mi|status_control_train=0.188, metric_mi|zone_train=0.177, metric_mi|time_cat_train=0.149, metric_mi|mouse_train=0.126]"
     ]
    },
    {
     "name": "stdout",
     "output_type": "stream",
     "text": [
      "\r",
      "Epoch 394/600:  66%|██████▌   | 393/600 [1:26:02<45:34, 13.21s/it, v_num=rp_1, total_loss_train=3.07e+3, kl_local_train=78.6, metric_mi|status_control_train=0.188, metric_mi|zone_train=0.177, metric_mi|time_cat_train=0.149, metric_mi|mouse_train=0.126]"
     ]
    },
    {
     "name": "stdout",
     "output_type": "stream",
     "text": [
      "\r",
      "Epoch 394/600:  66%|██████▌   | 394/600 [1:26:14<44:39, 13.01s/it, v_num=rp_1, total_loss_train=3.07e+3, kl_local_train=78.6, metric_mi|status_control_train=0.188, metric_mi|zone_train=0.177, metric_mi|time_cat_train=0.149, metric_mi|mouse_train=0.126]"
     ]
    },
    {
     "name": "stdout",
     "output_type": "stream",
     "text": [
      "\r",
      "Epoch 394/600:  66%|██████▌   | 394/600 [1:26:14<44:39, 13.01s/it, v_num=rp_1, total_loss_train=3.07e+3, kl_local_train=78.6, metric_mi|status_control_train=0.188, metric_mi|zone_train=0.177, metric_mi|time_cat_train=0.149, metric_mi|mouse_train=0.126]"
     ]
    },
    {
     "name": "stdout",
     "output_type": "stream",
     "text": [
      "\r",
      "Epoch 395/600:  66%|██████▌   | 394/600 [1:26:14<44:39, 13.01s/it, v_num=rp_1, total_loss_train=3.07e+3, kl_local_train=78.6, metric_mi|status_control_train=0.188, metric_mi|zone_train=0.177, metric_mi|time_cat_train=0.149, metric_mi|mouse_train=0.126]"
     ]
    },
    {
     "name": "stdout",
     "output_type": "stream",
     "text": [
      "\r",
      "Epoch 395/600:  66%|██████▌   | 395/600 [1:26:27<44:17, 12.96s/it, v_num=rp_1, total_loss_train=3.07e+3, kl_local_train=78.6, metric_mi|status_control_train=0.188, metric_mi|zone_train=0.177, metric_mi|time_cat_train=0.149, metric_mi|mouse_train=0.126]"
     ]
    },
    {
     "name": "stdout",
     "output_type": "stream",
     "text": [
      "\r",
      "Epoch 395/600:  66%|██████▌   | 395/600 [1:26:27<44:17, 12.96s/it, v_num=rp_1, total_loss_train=3.07e+3, kl_local_train=78.9, metric_mi|status_control_train=0.188, metric_mi|zone_train=0.177, metric_mi|time_cat_train=0.149, metric_mi|mouse_train=0.126]"
     ]
    },
    {
     "name": "stdout",
     "output_type": "stream",
     "text": [
      "\r",
      "Epoch 396/600:  66%|██████▌   | 395/600 [1:26:29<44:17, 12.96s/it, v_num=rp_1, total_loss_train=3.07e+3, kl_local_train=78.9, metric_mi|status_control_train=0.188, metric_mi|zone_train=0.177, metric_mi|time_cat_train=0.149, metric_mi|mouse_train=0.126]"
     ]
    },
    {
     "name": "stdout",
     "output_type": "stream",
     "text": [
      "\r",
      "Epoch 396/600:  66%|██████▌   | 396/600 [1:26:41<45:19, 13.33s/it, v_num=rp_1, total_loss_train=3.07e+3, kl_local_train=78.9, metric_mi|status_control_train=0.188, metric_mi|zone_train=0.177, metric_mi|time_cat_train=0.149, metric_mi|mouse_train=0.126]"
     ]
    },
    {
     "name": "stdout",
     "output_type": "stream",
     "text": [
      "\r",
      "Epoch 396/600:  66%|██████▌   | 396/600 [1:26:41<45:19, 13.33s/it, v_num=rp_1, total_loss_train=3.07e+3, kl_local_train=78.4, metric_mi|status_control_train=0.186, metric_mi|zone_train=0.177, metric_mi|time_cat_train=0.149, metric_mi|mouse_train=0.126]"
     ]
    },
    {
     "name": "stdout",
     "output_type": "stream",
     "text": [
      "\r",
      "Epoch 397/600:  66%|██████▌   | 396/600 [1:26:41<45:19, 13.33s/it, v_num=rp_1, total_loss_train=3.07e+3, kl_local_train=78.4, metric_mi|status_control_train=0.186, metric_mi|zone_train=0.177, metric_mi|time_cat_train=0.149, metric_mi|mouse_train=0.126]"
     ]
    },
    {
     "name": "stdout",
     "output_type": "stream",
     "text": [
      "\r",
      "Epoch 397/600:  66%|██████▌   | 397/600 [1:26:54<44:41, 13.21s/it, v_num=rp_1, total_loss_train=3.07e+3, kl_local_train=78.4, metric_mi|status_control_train=0.186, metric_mi|zone_train=0.177, metric_mi|time_cat_train=0.149, metric_mi|mouse_train=0.126]"
     ]
    },
    {
     "name": "stdout",
     "output_type": "stream",
     "text": [
      "\r",
      "Epoch 397/600:  66%|██████▌   | 397/600 [1:26:54<44:41, 13.21s/it, v_num=rp_1, total_loss_train=3.07e+3, kl_local_train=78, metric_mi|status_control_train=0.186, metric_mi|zone_train=0.177, metric_mi|time_cat_train=0.149, metric_mi|mouse_train=0.126]  "
     ]
    },
    {
     "name": "stdout",
     "output_type": "stream",
     "text": [
      "\r",
      "Epoch 398/600:  66%|██████▌   | 397/600 [1:26:54<44:41, 13.21s/it, v_num=rp_1, total_loss_train=3.07e+3, kl_local_train=78, metric_mi|status_control_train=0.186, metric_mi|zone_train=0.177, metric_mi|time_cat_train=0.149, metric_mi|mouse_train=0.126]"
     ]
    },
    {
     "name": "stdout",
     "output_type": "stream",
     "text": [
      "\r",
      "Epoch 398/600:  66%|██████▋   | 398/600 [1:27:07<44:13, 13.14s/it, v_num=rp_1, total_loss_train=3.07e+3, kl_local_train=78, metric_mi|status_control_train=0.186, metric_mi|zone_train=0.177, metric_mi|time_cat_train=0.149, metric_mi|mouse_train=0.126]"
     ]
    },
    {
     "name": "stdout",
     "output_type": "stream",
     "text": [
      "\r",
      "Epoch 398/600:  66%|██████▋   | 398/600 [1:27:07<44:13, 13.14s/it, v_num=rp_1, total_loss_train=3.07e+3, kl_local_train=78.2, metric_mi|status_control_train=0.186, metric_mi|zone_train=0.177, metric_mi|time_cat_train=0.149, metric_mi|mouse_train=0.126]"
     ]
    },
    {
     "name": "stdout",
     "output_type": "stream",
     "text": [
      "\r",
      "Epoch 399/600:  66%|██████▋   | 398/600 [1:27:07<44:13, 13.14s/it, v_num=rp_1, total_loss_train=3.07e+3, kl_local_train=78.2, metric_mi|status_control_train=0.186, metric_mi|zone_train=0.177, metric_mi|time_cat_train=0.149, metric_mi|mouse_train=0.126]"
     ]
    },
    {
     "name": "stdout",
     "output_type": "stream",
     "text": [
      "\r",
      "Epoch 399/600:  66%|██████▋   | 399/600 [1:27:20<43:49, 13.08s/it, v_num=rp_1, total_loss_train=3.07e+3, kl_local_train=78.2, metric_mi|status_control_train=0.186, metric_mi|zone_train=0.177, metric_mi|time_cat_train=0.149, metric_mi|mouse_train=0.126]"
     ]
    },
    {
     "name": "stdout",
     "output_type": "stream",
     "text": [
      "\r",
      "Epoch 399/600:  66%|██████▋   | 399/600 [1:27:20<43:49, 13.08s/it, v_num=rp_1, total_loss_train=3.07e+3, kl_local_train=78, metric_mi|status_control_train=0.186, metric_mi|zone_train=0.177, metric_mi|time_cat_train=0.149, metric_mi|mouse_train=0.126]  "
     ]
    },
    {
     "name": "stdout",
     "output_type": "stream",
     "text": [
      "\r",
      "Epoch 400/600:  66%|██████▋   | 399/600 [1:27:20<43:49, 13.08s/it, v_num=rp_1, total_loss_train=3.07e+3, kl_local_train=78, metric_mi|status_control_train=0.186, metric_mi|zone_train=0.177, metric_mi|time_cat_train=0.149, metric_mi|mouse_train=0.126]"
     ]
    },
    {
     "name": "stdout",
     "output_type": "stream",
     "text": [
      "\r",
      "Epoch 400/600:  67%|██████▋   | 400/600 [1:27:33<43:19, 13.00s/it, v_num=rp_1, total_loss_train=3.07e+3, kl_local_train=78, metric_mi|status_control_train=0.186, metric_mi|zone_train=0.177, metric_mi|time_cat_train=0.149, metric_mi|mouse_train=0.126]"
     ]
    },
    {
     "name": "stdout",
     "output_type": "stream",
     "text": [
      "\r",
      "Epoch 400/600:  67%|██████▋   | 400/600 [1:27:33<43:19, 13.00s/it, v_num=rp_1, total_loss_train=3.07e+3, kl_local_train=77.9, metric_mi|status_control_train=0.186, metric_mi|zone_train=0.177, metric_mi|time_cat_train=0.149, metric_mi|mouse_train=0.126]"
     ]
    },
    {
     "name": "stdout",
     "output_type": "stream",
     "text": [
      "\r",
      "Epoch 401/600:  67%|██████▋   | 400/600 [1:27:34<43:19, 13.00s/it, v_num=rp_1, total_loss_train=3.07e+3, kl_local_train=77.9, metric_mi|status_control_train=0.186, metric_mi|zone_train=0.177, metric_mi|time_cat_train=0.149, metric_mi|mouse_train=0.126]"
     ]
    },
    {
     "name": "stdout",
     "output_type": "stream",
     "text": [
      "\r",
      "Epoch 401/600:  67%|██████▋   | 401/600 [1:27:47<44:22, 13.38s/it, v_num=rp_1, total_loss_train=3.07e+3, kl_local_train=77.9, metric_mi|status_control_train=0.186, metric_mi|zone_train=0.177, metric_mi|time_cat_train=0.149, metric_mi|mouse_train=0.126]"
     ]
    },
    {
     "name": "stdout",
     "output_type": "stream",
     "text": [
      "\r",
      "Epoch 401/600:  67%|██████▋   | 401/600 [1:27:47<44:22, 13.38s/it, v_num=rp_1, total_loss_train=3.07e+3, kl_local_train=77.9, metric_mi|status_control_train=0.203, metric_mi|zone_train=0.177, metric_mi|time_cat_train=0.152, metric_mi|mouse_train=0.128]"
     ]
    },
    {
     "name": "stdout",
     "output_type": "stream",
     "text": [
      "\r",
      "Epoch 402/600:  67%|██████▋   | 401/600 [1:27:47<44:22, 13.38s/it, v_num=rp_1, total_loss_train=3.07e+3, kl_local_train=77.9, metric_mi|status_control_train=0.203, metric_mi|zone_train=0.177, metric_mi|time_cat_train=0.152, metric_mi|mouse_train=0.128]"
     ]
    },
    {
     "name": "stdout",
     "output_type": "stream",
     "text": [
      "\r",
      "Epoch 402/600:  67%|██████▋   | 402/600 [1:28:00<43:38, 13.23s/it, v_num=rp_1, total_loss_train=3.07e+3, kl_local_train=77.9, metric_mi|status_control_train=0.203, metric_mi|zone_train=0.177, metric_mi|time_cat_train=0.152, metric_mi|mouse_train=0.128]"
     ]
    },
    {
     "name": "stdout",
     "output_type": "stream",
     "text": [
      "\r",
      "Epoch 402/600:  67%|██████▋   | 402/600 [1:28:00<43:38, 13.23s/it, v_num=rp_1, total_loss_train=3.07e+3, kl_local_train=78.3, metric_mi|status_control_train=0.203, metric_mi|zone_train=0.177, metric_mi|time_cat_train=0.152, metric_mi|mouse_train=0.128]"
     ]
    },
    {
     "name": "stdout",
     "output_type": "stream",
     "text": [
      "\r",
      "Epoch 403/600:  67%|██████▋   | 402/600 [1:28:00<43:38, 13.23s/it, v_num=rp_1, total_loss_train=3.07e+3, kl_local_train=78.3, metric_mi|status_control_train=0.203, metric_mi|zone_train=0.177, metric_mi|time_cat_train=0.152, metric_mi|mouse_train=0.128]"
     ]
    },
    {
     "name": "stdout",
     "output_type": "stream",
     "text": [
      "\r",
      "Epoch 403/600:  67%|██████▋   | 403/600 [1:28:13<43:11, 13.16s/it, v_num=rp_1, total_loss_train=3.07e+3, kl_local_train=78.3, metric_mi|status_control_train=0.203, metric_mi|zone_train=0.177, metric_mi|time_cat_train=0.152, metric_mi|mouse_train=0.128]"
     ]
    },
    {
     "name": "stdout",
     "output_type": "stream",
     "text": [
      "\r",
      "Epoch 403/600:  67%|██████▋   | 403/600 [1:28:13<43:11, 13.16s/it, v_num=rp_1, total_loss_train=3.07e+3, kl_local_train=77.8, metric_mi|status_control_train=0.203, metric_mi|zone_train=0.177, metric_mi|time_cat_train=0.152, metric_mi|mouse_train=0.128]"
     ]
    },
    {
     "name": "stdout",
     "output_type": "stream",
     "text": [
      "\r",
      "Epoch 404/600:  67%|██████▋   | 403/600 [1:28:13<43:11, 13.16s/it, v_num=rp_1, total_loss_train=3.07e+3, kl_local_train=77.8, metric_mi|status_control_train=0.203, metric_mi|zone_train=0.177, metric_mi|time_cat_train=0.152, metric_mi|mouse_train=0.128]"
     ]
    },
    {
     "name": "stdout",
     "output_type": "stream",
     "text": [
      "\r",
      "Epoch 404/600:  67%|██████▋   | 404/600 [1:28:26<42:42, 13.07s/it, v_num=rp_1, total_loss_train=3.07e+3, kl_local_train=77.8, metric_mi|status_control_train=0.203, metric_mi|zone_train=0.177, metric_mi|time_cat_train=0.152, metric_mi|mouse_train=0.128]"
     ]
    },
    {
     "name": "stdout",
     "output_type": "stream",
     "text": [
      "\r",
      "Epoch 404/600:  67%|██████▋   | 404/600 [1:28:26<42:42, 13.07s/it, v_num=rp_1, total_loss_train=3.07e+3, kl_local_train=77.8, metric_mi|status_control_train=0.203, metric_mi|zone_train=0.177, metric_mi|time_cat_train=0.152, metric_mi|mouse_train=0.128]"
     ]
    },
    {
     "name": "stdout",
     "output_type": "stream",
     "text": [
      "\r",
      "Epoch 405/600:  67%|██████▋   | 404/600 [1:28:26<42:42, 13.07s/it, v_num=rp_1, total_loss_train=3.07e+3, kl_local_train=77.8, metric_mi|status_control_train=0.203, metric_mi|zone_train=0.177, metric_mi|time_cat_train=0.152, metric_mi|mouse_train=0.128]"
     ]
    },
    {
     "name": "stdout",
     "output_type": "stream",
     "text": [
      "\r",
      "Epoch 405/600:  68%|██████▊   | 405/600 [1:28:39<42:07, 12.96s/it, v_num=rp_1, total_loss_train=3.07e+3, kl_local_train=77.8, metric_mi|status_control_train=0.203, metric_mi|zone_train=0.177, metric_mi|time_cat_train=0.152, metric_mi|mouse_train=0.128]"
     ]
    },
    {
     "name": "stdout",
     "output_type": "stream",
     "text": [
      "\r",
      "Epoch 405/600:  68%|██████▊   | 405/600 [1:28:39<42:07, 12.96s/it, v_num=rp_1, total_loss_train=3.07e+3, kl_local_train=77.9, metric_mi|status_control_train=0.203, metric_mi|zone_train=0.177, metric_mi|time_cat_train=0.152, metric_mi|mouse_train=0.128]"
     ]
    },
    {
     "name": "stdout",
     "output_type": "stream",
     "text": [
      "\r",
      "Epoch 406/600:  68%|██████▊   | 405/600 [1:28:40<42:07, 12.96s/it, v_num=rp_1, total_loss_train=3.07e+3, kl_local_train=77.9, metric_mi|status_control_train=0.203, metric_mi|zone_train=0.177, metric_mi|time_cat_train=0.152, metric_mi|mouse_train=0.128]"
     ]
    },
    {
     "name": "stdout",
     "output_type": "stream",
     "text": [
      "\r",
      "Epoch 406/600:  68%|██████▊   | 406/600 [1:28:53<43:12, 13.37s/it, v_num=rp_1, total_loss_train=3.07e+3, kl_local_train=77.9, metric_mi|status_control_train=0.203, metric_mi|zone_train=0.177, metric_mi|time_cat_train=0.152, metric_mi|mouse_train=0.128]"
     ]
    },
    {
     "name": "stdout",
     "output_type": "stream",
     "text": [
      "\r",
      "Epoch 406/600:  68%|██████▊   | 406/600 [1:28:53<43:12, 13.37s/it, v_num=rp_1, total_loss_train=3.07e+3, kl_local_train=77.8, metric_mi|status_control_train=0.204, metric_mi|zone_train=0.178, metric_mi|time_cat_train=0.151, metric_mi|mouse_train=0.127]"
     ]
    },
    {
     "name": "stdout",
     "output_type": "stream",
     "text": [
      "\r",
      "Epoch 407/600:  68%|██████▊   | 406/600 [1:28:53<43:12, 13.37s/it, v_num=rp_1, total_loss_train=3.07e+3, kl_local_train=77.8, metric_mi|status_control_train=0.204, metric_mi|zone_train=0.178, metric_mi|time_cat_train=0.151, metric_mi|mouse_train=0.127]"
     ]
    },
    {
     "name": "stdout",
     "output_type": "stream",
     "text": [
      "\r",
      "Epoch 407/600:  68%|██████▊   | 407/600 [1:29:05<41:53, 13.02s/it, v_num=rp_1, total_loss_train=3.07e+3, kl_local_train=77.8, metric_mi|status_control_train=0.204, metric_mi|zone_train=0.178, metric_mi|time_cat_train=0.151, metric_mi|mouse_train=0.127]"
     ]
    },
    {
     "name": "stdout",
     "output_type": "stream",
     "text": [
      "\r",
      "Epoch 407/600:  68%|██████▊   | 407/600 [1:29:05<41:53, 13.02s/it, v_num=rp_1, total_loss_train=3.07e+3, kl_local_train=77.5, metric_mi|status_control_train=0.204, metric_mi|zone_train=0.178, metric_mi|time_cat_train=0.151, metric_mi|mouse_train=0.127]"
     ]
    },
    {
     "name": "stdout",
     "output_type": "stream",
     "text": [
      "\r",
      "Epoch 408/600:  68%|██████▊   | 407/600 [1:29:05<41:53, 13.02s/it, v_num=rp_1, total_loss_train=3.07e+3, kl_local_train=77.5, metric_mi|status_control_train=0.204, metric_mi|zone_train=0.178, metric_mi|time_cat_train=0.151, metric_mi|mouse_train=0.127]"
     ]
    },
    {
     "name": "stdout",
     "output_type": "stream",
     "text": [
      "\r",
      "Epoch 408/600:  68%|██████▊   | 408/600 [1:29:17<40:42, 12.72s/it, v_num=rp_1, total_loss_train=3.07e+3, kl_local_train=77.5, metric_mi|status_control_train=0.204, metric_mi|zone_train=0.178, metric_mi|time_cat_train=0.151, metric_mi|mouse_train=0.127]"
     ]
    },
    {
     "name": "stdout",
     "output_type": "stream",
     "text": [
      "\r",
      "Epoch 408/600:  68%|██████▊   | 408/600 [1:29:17<40:42, 12.72s/it, v_num=rp_1, total_loss_train=3.07e+3, kl_local_train=77.8, metric_mi|status_control_train=0.204, metric_mi|zone_train=0.178, metric_mi|time_cat_train=0.151, metric_mi|mouse_train=0.127]"
     ]
    },
    {
     "name": "stdout",
     "output_type": "stream",
     "text": [
      "\r",
      "Epoch 409/600:  68%|██████▊   | 408/600 [1:29:17<40:42, 12.72s/it, v_num=rp_1, total_loss_train=3.07e+3, kl_local_train=77.8, metric_mi|status_control_train=0.204, metric_mi|zone_train=0.178, metric_mi|time_cat_train=0.151, metric_mi|mouse_train=0.127]"
     ]
    },
    {
     "name": "stdout",
     "output_type": "stream",
     "text": [
      "\r",
      "Epoch 409/600:  68%|██████▊   | 409/600 [1:29:29<39:49, 12.51s/it, v_num=rp_1, total_loss_train=3.07e+3, kl_local_train=77.8, metric_mi|status_control_train=0.204, metric_mi|zone_train=0.178, metric_mi|time_cat_train=0.151, metric_mi|mouse_train=0.127]"
     ]
    },
    {
     "name": "stdout",
     "output_type": "stream",
     "text": [
      "\r",
      "Epoch 409/600:  68%|██████▊   | 409/600 [1:29:29<39:49, 12.51s/it, v_num=rp_1, total_loss_train=3.07e+3, kl_local_train=77.4, metric_mi|status_control_train=0.204, metric_mi|zone_train=0.178, metric_mi|time_cat_train=0.151, metric_mi|mouse_train=0.127]"
     ]
    },
    {
     "name": "stdout",
     "output_type": "stream",
     "text": [
      "\r",
      "Epoch 410/600:  68%|██████▊   | 409/600 [1:29:29<39:49, 12.51s/it, v_num=rp_1, total_loss_train=3.07e+3, kl_local_train=77.4, metric_mi|status_control_train=0.204, metric_mi|zone_train=0.178, metric_mi|time_cat_train=0.151, metric_mi|mouse_train=0.127]"
     ]
    },
    {
     "name": "stdout",
     "output_type": "stream",
     "text": [
      "\r",
      "Epoch 410/600:  68%|██████▊   | 410/600 [1:29:41<39:12, 12.38s/it, v_num=rp_1, total_loss_train=3.07e+3, kl_local_train=77.4, metric_mi|status_control_train=0.204, metric_mi|zone_train=0.178, metric_mi|time_cat_train=0.151, metric_mi|mouse_train=0.127]"
     ]
    },
    {
     "name": "stdout",
     "output_type": "stream",
     "text": [
      "\r",
      "Epoch 410/600:  68%|██████▊   | 410/600 [1:29:41<39:12, 12.38s/it, v_num=rp_1, total_loss_train=3.07e+3, kl_local_train=77.1, metric_mi|status_control_train=0.204, metric_mi|zone_train=0.178, metric_mi|time_cat_train=0.151, metric_mi|mouse_train=0.127]"
     ]
    },
    {
     "name": "stdout",
     "output_type": "stream",
     "text": [
      "\r",
      "Epoch 411/600:  68%|██████▊   | 410/600 [1:29:43<39:12, 12.38s/it, v_num=rp_1, total_loss_train=3.07e+3, kl_local_train=77.1, metric_mi|status_control_train=0.204, metric_mi|zone_train=0.178, metric_mi|time_cat_train=0.151, metric_mi|mouse_train=0.127]"
     ]
    },
    {
     "name": "stdout",
     "output_type": "stream",
     "text": [
      "\r",
      "Epoch 411/600:  68%|██████▊   | 411/600 [1:29:55<39:53, 12.66s/it, v_num=rp_1, total_loss_train=3.07e+3, kl_local_train=77.1, metric_mi|status_control_train=0.204, metric_mi|zone_train=0.178, metric_mi|time_cat_train=0.151, metric_mi|mouse_train=0.127]"
     ]
    },
    {
     "name": "stdout",
     "output_type": "stream",
     "text": [
      "\r",
      "Epoch 411/600:  68%|██████▊   | 411/600 [1:29:55<39:53, 12.66s/it, v_num=rp_1, total_loss_train=3.07e+3, kl_local_train=77.1, metric_mi|status_control_train=0.182, metric_mi|zone_train=0.177, metric_mi|time_cat_train=0.146, metric_mi|mouse_train=0.124]"
     ]
    },
    {
     "name": "stdout",
     "output_type": "stream",
     "text": [
      "\r",
      "Epoch 412/600:  68%|██████▊   | 411/600 [1:29:55<39:53, 12.66s/it, v_num=rp_1, total_loss_train=3.07e+3, kl_local_train=77.1, metric_mi|status_control_train=0.182, metric_mi|zone_train=0.177, metric_mi|time_cat_train=0.146, metric_mi|mouse_train=0.124]"
     ]
    },
    {
     "name": "stdout",
     "output_type": "stream",
     "text": [
      "\r",
      "Epoch 412/600:  69%|██████▊   | 412/600 [1:30:07<39:05, 12.48s/it, v_num=rp_1, total_loss_train=3.07e+3, kl_local_train=77.1, metric_mi|status_control_train=0.182, metric_mi|zone_train=0.177, metric_mi|time_cat_train=0.146, metric_mi|mouse_train=0.124]"
     ]
    },
    {
     "name": "stdout",
     "output_type": "stream",
     "text": [
      "\r",
      "Epoch 412/600:  69%|██████▊   | 412/600 [1:30:07<39:05, 12.48s/it, v_num=rp_1, total_loss_train=3.07e+3, kl_local_train=77.1, metric_mi|status_control_train=0.182, metric_mi|zone_train=0.177, metric_mi|time_cat_train=0.146, metric_mi|mouse_train=0.124]"
     ]
    },
    {
     "name": "stdout",
     "output_type": "stream",
     "text": [
      "\r",
      "Epoch 413/600:  69%|██████▊   | 412/600 [1:30:07<39:05, 12.48s/it, v_num=rp_1, total_loss_train=3.07e+3, kl_local_train=77.1, metric_mi|status_control_train=0.182, metric_mi|zone_train=0.177, metric_mi|time_cat_train=0.146, metric_mi|mouse_train=0.124]"
     ]
    },
    {
     "name": "stdout",
     "output_type": "stream",
     "text": [
      "\r",
      "Epoch 413/600:  69%|██████▉   | 413/600 [1:30:19<38:28, 12.34s/it, v_num=rp_1, total_loss_train=3.07e+3, kl_local_train=77.1, metric_mi|status_control_train=0.182, metric_mi|zone_train=0.177, metric_mi|time_cat_train=0.146, metric_mi|mouse_train=0.124]"
     ]
    },
    {
     "name": "stdout",
     "output_type": "stream",
     "text": [
      "\r",
      "Epoch 413/600:  69%|██████▉   | 413/600 [1:30:19<38:28, 12.34s/it, v_num=rp_1, total_loss_train=3.07e+3, kl_local_train=76.9, metric_mi|status_control_train=0.182, metric_mi|zone_train=0.177, metric_mi|time_cat_train=0.146, metric_mi|mouse_train=0.124]"
     ]
    },
    {
     "name": "stdout",
     "output_type": "stream",
     "text": [
      "\r",
      "Epoch 414/600:  69%|██████▉   | 413/600 [1:30:19<38:28, 12.34s/it, v_num=rp_1, total_loss_train=3.07e+3, kl_local_train=76.9, metric_mi|status_control_train=0.182, metric_mi|zone_train=0.177, metric_mi|time_cat_train=0.146, metric_mi|mouse_train=0.124]"
     ]
    },
    {
     "name": "stdout",
     "output_type": "stream",
     "text": [
      "\r",
      "Epoch 414/600:  69%|██████▉   | 414/600 [1:30:31<37:57, 12.25s/it, v_num=rp_1, total_loss_train=3.07e+3, kl_local_train=76.9, metric_mi|status_control_train=0.182, metric_mi|zone_train=0.177, metric_mi|time_cat_train=0.146, metric_mi|mouse_train=0.124]"
     ]
    },
    {
     "name": "stdout",
     "output_type": "stream",
     "text": [
      "\r",
      "Epoch 414/600:  69%|██████▉   | 414/600 [1:30:31<37:57, 12.25s/it, v_num=rp_1, total_loss_train=3.07e+3, kl_local_train=76.8, metric_mi|status_control_train=0.182, metric_mi|zone_train=0.177, metric_mi|time_cat_train=0.146, metric_mi|mouse_train=0.124]"
     ]
    },
    {
     "name": "stdout",
     "output_type": "stream",
     "text": [
      "\r",
      "Epoch 415/600:  69%|██████▉   | 414/600 [1:30:31<37:57, 12.25s/it, v_num=rp_1, total_loss_train=3.07e+3, kl_local_train=76.8, metric_mi|status_control_train=0.182, metric_mi|zone_train=0.177, metric_mi|time_cat_train=0.146, metric_mi|mouse_train=0.124]"
     ]
    },
    {
     "name": "stdout",
     "output_type": "stream",
     "text": [
      "\r",
      "Epoch 415/600:  69%|██████▉   | 415/600 [1:30:43<37:45, 12.24s/it, v_num=rp_1, total_loss_train=3.07e+3, kl_local_train=76.8, metric_mi|status_control_train=0.182, metric_mi|zone_train=0.177, metric_mi|time_cat_train=0.146, metric_mi|mouse_train=0.124]"
     ]
    },
    {
     "name": "stdout",
     "output_type": "stream",
     "text": [
      "\r",
      "Epoch 415/600:  69%|██████▉   | 415/600 [1:30:43<37:45, 12.24s/it, v_num=rp_1, total_loss_train=3.07e+3, kl_local_train=76.7, metric_mi|status_control_train=0.182, metric_mi|zone_train=0.177, metric_mi|time_cat_train=0.146, metric_mi|mouse_train=0.124]"
     ]
    },
    {
     "name": "stdout",
     "output_type": "stream",
     "text": [
      "\r",
      "Epoch 416/600:  69%|██████▉   | 415/600 [1:30:44<37:45, 12.24s/it, v_num=rp_1, total_loss_train=3.07e+3, kl_local_train=76.7, metric_mi|status_control_train=0.182, metric_mi|zone_train=0.177, metric_mi|time_cat_train=0.146, metric_mi|mouse_train=0.124]"
     ]
    },
    {
     "name": "stdout",
     "output_type": "stream",
     "text": [
      "\r",
      "Epoch 416/600:  69%|██████▉   | 416/600 [1:30:57<39:27, 12.87s/it, v_num=rp_1, total_loss_train=3.07e+3, kl_local_train=76.7, metric_mi|status_control_train=0.182, metric_mi|zone_train=0.177, metric_mi|time_cat_train=0.146, metric_mi|mouse_train=0.124]"
     ]
    },
    {
     "name": "stdout",
     "output_type": "stream",
     "text": [
      "\r",
      "Epoch 416/600:  69%|██████▉   | 416/600 [1:30:57<39:27, 12.87s/it, v_num=rp_1, total_loss_train=3.07e+3, kl_local_train=76.6, metric_mi|status_control_train=0.163, metric_mi|zone_train=0.177, metric_mi|time_cat_train=0.136, metric_mi|mouse_train=0.118]"
     ]
    },
    {
     "name": "stdout",
     "output_type": "stream",
     "text": [
      "\r",
      "Epoch 417/600:  69%|██████▉   | 416/600 [1:30:57<39:27, 12.87s/it, v_num=rp_1, total_loss_train=3.07e+3, kl_local_train=76.6, metric_mi|status_control_train=0.163, metric_mi|zone_train=0.177, metric_mi|time_cat_train=0.136, metric_mi|mouse_train=0.118]"
     ]
    },
    {
     "name": "stdout",
     "output_type": "stream",
     "text": [
      "\r",
      "Epoch 417/600:  70%|██████▉   | 417/600 [1:31:10<39:17, 12.88s/it, v_num=rp_1, total_loss_train=3.07e+3, kl_local_train=76.6, metric_mi|status_control_train=0.163, metric_mi|zone_train=0.177, metric_mi|time_cat_train=0.136, metric_mi|mouse_train=0.118]"
     ]
    },
    {
     "name": "stdout",
     "output_type": "stream",
     "text": [
      "\r",
      "Epoch 417/600:  70%|██████▉   | 417/600 [1:31:10<39:17, 12.88s/it, v_num=rp_1, total_loss_train=3.07e+3, kl_local_train=76.9, metric_mi|status_control_train=0.163, metric_mi|zone_train=0.177, metric_mi|time_cat_train=0.136, metric_mi|mouse_train=0.118]"
     ]
    },
    {
     "name": "stdout",
     "output_type": "stream",
     "text": [
      "\r",
      "Epoch 418/600:  70%|██████▉   | 417/600 [1:31:10<39:17, 12.88s/it, v_num=rp_1, total_loss_train=3.07e+3, kl_local_train=76.9, metric_mi|status_control_train=0.163, metric_mi|zone_train=0.177, metric_mi|time_cat_train=0.136, metric_mi|mouse_train=0.118]"
     ]
    },
    {
     "name": "stdout",
     "output_type": "stream",
     "text": [
      "\r",
      "Epoch 418/600:  70%|██████▉   | 418/600 [1:31:23<38:47, 12.79s/it, v_num=rp_1, total_loss_train=3.07e+3, kl_local_train=76.9, metric_mi|status_control_train=0.163, metric_mi|zone_train=0.177, metric_mi|time_cat_train=0.136, metric_mi|mouse_train=0.118]"
     ]
    },
    {
     "name": "stdout",
     "output_type": "stream",
     "text": [
      "\r",
      "Epoch 418/600:  70%|██████▉   | 418/600 [1:31:23<38:47, 12.79s/it, v_num=rp_1, total_loss_train=3.07e+3, kl_local_train=76.6, metric_mi|status_control_train=0.163, metric_mi|zone_train=0.177, metric_mi|time_cat_train=0.136, metric_mi|mouse_train=0.118]"
     ]
    },
    {
     "name": "stdout",
     "output_type": "stream",
     "text": [
      "\r",
      "Epoch 419/600:  70%|██████▉   | 418/600 [1:31:23<38:47, 12.79s/it, v_num=rp_1, total_loss_train=3.07e+3, kl_local_train=76.6, metric_mi|status_control_train=0.163, metric_mi|zone_train=0.177, metric_mi|time_cat_train=0.136, metric_mi|mouse_train=0.118]"
     ]
    },
    {
     "name": "stdout",
     "output_type": "stream",
     "text": [
      "\r",
      "Epoch 419/600:  70%|██████▉   | 419/600 [1:31:36<38:46, 12.85s/it, v_num=rp_1, total_loss_train=3.07e+3, kl_local_train=76.6, metric_mi|status_control_train=0.163, metric_mi|zone_train=0.177, metric_mi|time_cat_train=0.136, metric_mi|mouse_train=0.118]"
     ]
    },
    {
     "name": "stdout",
     "output_type": "stream",
     "text": [
      "\r",
      "Epoch 419/600:  70%|██████▉   | 419/600 [1:31:36<38:46, 12.85s/it, v_num=rp_1, total_loss_train=3.07e+3, kl_local_train=76.4, metric_mi|status_control_train=0.163, metric_mi|zone_train=0.177, metric_mi|time_cat_train=0.136, metric_mi|mouse_train=0.118]"
     ]
    },
    {
     "name": "stdout",
     "output_type": "stream",
     "text": [
      "\r",
      "Epoch 420/600:  70%|██████▉   | 419/600 [1:31:36<38:46, 12.85s/it, v_num=rp_1, total_loss_train=3.07e+3, kl_local_train=76.4, metric_mi|status_control_train=0.163, metric_mi|zone_train=0.177, metric_mi|time_cat_train=0.136, metric_mi|mouse_train=0.118]"
     ]
    },
    {
     "name": "stdout",
     "output_type": "stream",
     "text": [
      "\r",
      "Epoch 420/600:  70%|███████   | 420/600 [1:31:49<38:43, 12.91s/it, v_num=rp_1, total_loss_train=3.07e+3, kl_local_train=76.4, metric_mi|status_control_train=0.163, metric_mi|zone_train=0.177, metric_mi|time_cat_train=0.136, metric_mi|mouse_train=0.118]"
     ]
    },
    {
     "name": "stdout",
     "output_type": "stream",
     "text": [
      "\r",
      "Epoch 420/600:  70%|███████   | 420/600 [1:31:49<38:43, 12.91s/it, v_num=rp_1, total_loss_train=3.07e+3, kl_local_train=76.5, metric_mi|status_control_train=0.163, metric_mi|zone_train=0.177, metric_mi|time_cat_train=0.136, metric_mi|mouse_train=0.118]"
     ]
    },
    {
     "name": "stdout",
     "output_type": "stream",
     "text": [
      "\r",
      "Epoch 421/600:  70%|███████   | 420/600 [1:31:50<38:43, 12.91s/it, v_num=rp_1, total_loss_train=3.07e+3, kl_local_train=76.5, metric_mi|status_control_train=0.163, metric_mi|zone_train=0.177, metric_mi|time_cat_train=0.136, metric_mi|mouse_train=0.118]"
     ]
    },
    {
     "name": "stdout",
     "output_type": "stream",
     "text": [
      "\r",
      "Epoch 421/600:  70%|███████   | 421/600 [1:32:03<39:49, 13.35s/it, v_num=rp_1, total_loss_train=3.07e+3, kl_local_train=76.5, metric_mi|status_control_train=0.163, metric_mi|zone_train=0.177, metric_mi|time_cat_train=0.136, metric_mi|mouse_train=0.118]"
     ]
    },
    {
     "name": "stdout",
     "output_type": "stream",
     "text": [
      "\r",
      "Epoch 421/600:  70%|███████   | 421/600 [1:32:03<39:49, 13.35s/it, v_num=rp_1, total_loss_train=3.07e+3, kl_local_train=76.2, metric_mi|status_control_train=0.19, metric_mi|zone_train=0.177, metric_mi|time_cat_train=0.143, metric_mi|mouse_train=0.122] "
     ]
    },
    {
     "name": "stdout",
     "output_type": "stream",
     "text": [
      "\r",
      "Epoch 422/600:  70%|███████   | 421/600 [1:32:03<39:49, 13.35s/it, v_num=rp_1, total_loss_train=3.07e+3, kl_local_train=76.2, metric_mi|status_control_train=0.19, metric_mi|zone_train=0.177, metric_mi|time_cat_train=0.143, metric_mi|mouse_train=0.122]"
     ]
    },
    {
     "name": "stdout",
     "output_type": "stream",
     "text": [
      "\r",
      "Epoch 422/600:  70%|███████   | 422/600 [1:32:16<38:55, 13.12s/it, v_num=rp_1, total_loss_train=3.07e+3, kl_local_train=76.2, metric_mi|status_control_train=0.19, metric_mi|zone_train=0.177, metric_mi|time_cat_train=0.143, metric_mi|mouse_train=0.122]"
     ]
    },
    {
     "name": "stdout",
     "output_type": "stream",
     "text": [
      "\r",
      "Epoch 422/600:  70%|███████   | 422/600 [1:32:16<38:55, 13.12s/it, v_num=rp_1, total_loss_train=3.07e+3, kl_local_train=76.2, metric_mi|status_control_train=0.19, metric_mi|zone_train=0.177, metric_mi|time_cat_train=0.143, metric_mi|mouse_train=0.122]"
     ]
    },
    {
     "name": "stdout",
     "output_type": "stream",
     "text": [
      "\r",
      "Epoch 423/600:  70%|███████   | 422/600 [1:32:16<38:55, 13.12s/it, v_num=rp_1, total_loss_train=3.07e+3, kl_local_train=76.2, metric_mi|status_control_train=0.19, metric_mi|zone_train=0.177, metric_mi|time_cat_train=0.143, metric_mi|mouse_train=0.122]"
     ]
    },
    {
     "name": "stdout",
     "output_type": "stream",
     "text": [
      "\r",
      "Epoch 423/600:  70%|███████   | 423/600 [1:32:29<38:32, 13.07s/it, v_num=rp_1, total_loss_train=3.07e+3, kl_local_train=76.2, metric_mi|status_control_train=0.19, metric_mi|zone_train=0.177, metric_mi|time_cat_train=0.143, metric_mi|mouse_train=0.122]"
     ]
    },
    {
     "name": "stdout",
     "output_type": "stream",
     "text": [
      "\r",
      "Epoch 423/600:  70%|███████   | 423/600 [1:32:29<38:32, 13.07s/it, v_num=rp_1, total_loss_train=3.07e+3, kl_local_train=76.5, metric_mi|status_control_train=0.19, metric_mi|zone_train=0.177, metric_mi|time_cat_train=0.143, metric_mi|mouse_train=0.122]"
     ]
    },
    {
     "name": "stdout",
     "output_type": "stream",
     "text": [
      "\r",
      "Epoch 424/600:  70%|███████   | 423/600 [1:32:29<38:32, 13.07s/it, v_num=rp_1, total_loss_train=3.07e+3, kl_local_train=76.5, metric_mi|status_control_train=0.19, metric_mi|zone_train=0.177, metric_mi|time_cat_train=0.143, metric_mi|mouse_train=0.122]"
     ]
    },
    {
     "name": "stdout",
     "output_type": "stream",
     "text": [
      "\r",
      "Epoch 424/600:  71%|███████   | 424/600 [1:32:42<38:12, 13.03s/it, v_num=rp_1, total_loss_train=3.07e+3, kl_local_train=76.5, metric_mi|status_control_train=0.19, metric_mi|zone_train=0.177, metric_mi|time_cat_train=0.143, metric_mi|mouse_train=0.122]"
     ]
    },
    {
     "name": "stdout",
     "output_type": "stream",
     "text": [
      "\r",
      "Epoch 424/600:  71%|███████   | 424/600 [1:32:42<38:12, 13.03s/it, v_num=rp_1, total_loss_train=3.07e+3, kl_local_train=76.2, metric_mi|status_control_train=0.19, metric_mi|zone_train=0.177, metric_mi|time_cat_train=0.143, metric_mi|mouse_train=0.122]"
     ]
    },
    {
     "name": "stdout",
     "output_type": "stream",
     "text": [
      "\r",
      "Epoch 425/600:  71%|███████   | 424/600 [1:32:42<38:12, 13.03s/it, v_num=rp_1, total_loss_train=3.07e+3, kl_local_train=76.2, metric_mi|status_control_train=0.19, metric_mi|zone_train=0.177, metric_mi|time_cat_train=0.143, metric_mi|mouse_train=0.122]"
     ]
    },
    {
     "name": "stdout",
     "output_type": "stream",
     "text": [
      "\r",
      "Epoch 425/600:  71%|███████   | 425/600 [1:32:55<37:52, 12.99s/it, v_num=rp_1, total_loss_train=3.07e+3, kl_local_train=76.2, metric_mi|status_control_train=0.19, metric_mi|zone_train=0.177, metric_mi|time_cat_train=0.143, metric_mi|mouse_train=0.122]"
     ]
    },
    {
     "name": "stdout",
     "output_type": "stream",
     "text": [
      "\r",
      "Epoch 425/600:  71%|███████   | 425/600 [1:32:55<37:52, 12.99s/it, v_num=rp_1, total_loss_train=3.07e+3, kl_local_train=75.9, metric_mi|status_control_train=0.19, metric_mi|zone_train=0.177, metric_mi|time_cat_train=0.143, metric_mi|mouse_train=0.122]"
     ]
    },
    {
     "name": "stdout",
     "output_type": "stream",
     "text": [
      "\r",
      "Epoch 426/600:  71%|███████   | 425/600 [1:32:56<37:52, 12.99s/it, v_num=rp_1, total_loss_train=3.07e+3, kl_local_train=75.9, metric_mi|status_control_train=0.19, metric_mi|zone_train=0.177, metric_mi|time_cat_train=0.143, metric_mi|mouse_train=0.122]"
     ]
    },
    {
     "name": "stdout",
     "output_type": "stream",
     "text": [
      "\r",
      "Epoch 426/600:  71%|███████   | 426/600 [1:33:09<38:45, 13.36s/it, v_num=rp_1, total_loss_train=3.07e+3, kl_local_train=75.9, metric_mi|status_control_train=0.19, metric_mi|zone_train=0.177, metric_mi|time_cat_train=0.143, metric_mi|mouse_train=0.122]"
     ]
    },
    {
     "name": "stdout",
     "output_type": "stream",
     "text": [
      "\r",
      "Epoch 426/600:  71%|███████   | 426/600 [1:33:09<38:45, 13.36s/it, v_num=rp_1, total_loss_train=3.07e+3, kl_local_train=75.9, metric_mi|status_control_train=0.2, metric_mi|zone_train=0.177, metric_mi|time_cat_train=0.149, metric_mi|mouse_train=0.126] "
     ]
    },
    {
     "name": "stdout",
     "output_type": "stream",
     "text": [
      "\r",
      "Epoch 427/600:  71%|███████   | 426/600 [1:33:09<38:45, 13.36s/it, v_num=rp_1, total_loss_train=3.07e+3, kl_local_train=75.9, metric_mi|status_control_train=0.2, metric_mi|zone_train=0.177, metric_mi|time_cat_train=0.149, metric_mi|mouse_train=0.126]"
     ]
    },
    {
     "name": "stdout",
     "output_type": "stream",
     "text": [
      "\r",
      "Epoch 427/600:  71%|███████   | 427/600 [1:33:22<38:09, 13.23s/it, v_num=rp_1, total_loss_train=3.07e+3, kl_local_train=75.9, metric_mi|status_control_train=0.2, metric_mi|zone_train=0.177, metric_mi|time_cat_train=0.149, metric_mi|mouse_train=0.126]"
     ]
    },
    {
     "name": "stdout",
     "output_type": "stream",
     "text": [
      "\r",
      "Epoch 427/600:  71%|███████   | 427/600 [1:33:22<38:09, 13.23s/it, v_num=rp_1, total_loss_train=3.07e+3, kl_local_train=75.7, metric_mi|status_control_train=0.2, metric_mi|zone_train=0.177, metric_mi|time_cat_train=0.149, metric_mi|mouse_train=0.126]"
     ]
    },
    {
     "name": "stdout",
     "output_type": "stream",
     "text": [
      "\r",
      "Epoch 428/600:  71%|███████   | 427/600 [1:33:22<38:09, 13.23s/it, v_num=rp_1, total_loss_train=3.07e+3, kl_local_train=75.7, metric_mi|status_control_train=0.2, metric_mi|zone_train=0.177, metric_mi|time_cat_train=0.149, metric_mi|mouse_train=0.126]"
     ]
    },
    {
     "name": "stdout",
     "output_type": "stream",
     "text": [
      "\r",
      "Epoch 428/600:  71%|███████▏  | 428/600 [1:33:35<37:38, 13.13s/it, v_num=rp_1, total_loss_train=3.07e+3, kl_local_train=75.7, metric_mi|status_control_train=0.2, metric_mi|zone_train=0.177, metric_mi|time_cat_train=0.149, metric_mi|mouse_train=0.126]"
     ]
    },
    {
     "name": "stdout",
     "output_type": "stream",
     "text": [
      "\r",
      "Epoch 428/600:  71%|███████▏  | 428/600 [1:33:35<37:38, 13.13s/it, v_num=rp_1, total_loss_train=3.07e+3, kl_local_train=75.7, metric_mi|status_control_train=0.2, metric_mi|zone_train=0.177, metric_mi|time_cat_train=0.149, metric_mi|mouse_train=0.126]"
     ]
    },
    {
     "name": "stdout",
     "output_type": "stream",
     "text": [
      "\r",
      "Epoch 429/600:  71%|███████▏  | 428/600 [1:33:35<37:38, 13.13s/it, v_num=rp_1, total_loss_train=3.07e+3, kl_local_train=75.7, metric_mi|status_control_train=0.2, metric_mi|zone_train=0.177, metric_mi|time_cat_train=0.149, metric_mi|mouse_train=0.126]"
     ]
    },
    {
     "name": "stdout",
     "output_type": "stream",
     "text": [
      "\r",
      "Epoch 429/600:  72%|███████▏  | 429/600 [1:33:48<37:14, 13.07s/it, v_num=rp_1, total_loss_train=3.07e+3, kl_local_train=75.7, metric_mi|status_control_train=0.2, metric_mi|zone_train=0.177, metric_mi|time_cat_train=0.149, metric_mi|mouse_train=0.126]"
     ]
    },
    {
     "name": "stdout",
     "output_type": "stream",
     "text": [
      "\r",
      "Epoch 429/600:  72%|███████▏  | 429/600 [1:33:48<37:14, 13.07s/it, v_num=rp_1, total_loss_train=3.07e+3, kl_local_train=75.6, metric_mi|status_control_train=0.2, metric_mi|zone_train=0.177, metric_mi|time_cat_train=0.149, metric_mi|mouse_train=0.126]"
     ]
    },
    {
     "name": "stdout",
     "output_type": "stream",
     "text": [
      "\r",
      "Epoch 430/600:  72%|███████▏  | 429/600 [1:33:48<37:14, 13.07s/it, v_num=rp_1, total_loss_train=3.07e+3, kl_local_train=75.6, metric_mi|status_control_train=0.2, metric_mi|zone_train=0.177, metric_mi|time_cat_train=0.149, metric_mi|mouse_train=0.126]"
     ]
    },
    {
     "name": "stdout",
     "output_type": "stream",
     "text": [
      "\r",
      "Epoch 430/600:  72%|███████▏  | 430/600 [1:34:01<36:52, 13.02s/it, v_num=rp_1, total_loss_train=3.07e+3, kl_local_train=75.6, metric_mi|status_control_train=0.2, metric_mi|zone_train=0.177, metric_mi|time_cat_train=0.149, metric_mi|mouse_train=0.126]"
     ]
    },
    {
     "name": "stdout",
     "output_type": "stream",
     "text": [
      "\r",
      "Epoch 430/600:  72%|███████▏  | 430/600 [1:34:01<36:52, 13.02s/it, v_num=rp_1, total_loss_train=3.07e+3, kl_local_train=75.5, metric_mi|status_control_train=0.2, metric_mi|zone_train=0.177, metric_mi|time_cat_train=0.149, metric_mi|mouse_train=0.126]"
     ]
    },
    {
     "name": "stdout",
     "output_type": "stream",
     "text": [
      "\r",
      "Epoch 431/600:  72%|███████▏  | 430/600 [1:34:02<36:52, 13.02s/it, v_num=rp_1, total_loss_train=3.07e+3, kl_local_train=75.5, metric_mi|status_control_train=0.2, metric_mi|zone_train=0.177, metric_mi|time_cat_train=0.149, metric_mi|mouse_train=0.126]"
     ]
    },
    {
     "name": "stdout",
     "output_type": "stream",
     "text": [
      "\r",
      "Epoch 431/600:  72%|███████▏  | 431/600 [1:34:15<37:42, 13.39s/it, v_num=rp_1, total_loss_train=3.07e+3, kl_local_train=75.5, metric_mi|status_control_train=0.2, metric_mi|zone_train=0.177, metric_mi|time_cat_train=0.149, metric_mi|mouse_train=0.126]"
     ]
    },
    {
     "name": "stdout",
     "output_type": "stream",
     "text": [
      "\r",
      "Epoch 431/600:  72%|███████▏  | 431/600 [1:34:15<37:42, 13.39s/it, v_num=rp_1, total_loss_train=3.07e+3, kl_local_train=75.5, metric_mi|status_control_train=0.189, metric_mi|zone_train=0.177, metric_mi|time_cat_train=0.147, metric_mi|mouse_train=0.125]"
     ]
    },
    {
     "name": "stdout",
     "output_type": "stream",
     "text": [
      "\r",
      "Epoch 432/600:  72%|███████▏  | 431/600 [1:34:15<37:42, 13.39s/it, v_num=rp_1, total_loss_train=3.07e+3, kl_local_train=75.5, metric_mi|status_control_train=0.189, metric_mi|zone_train=0.177, metric_mi|time_cat_train=0.147, metric_mi|mouse_train=0.125]"
     ]
    },
    {
     "name": "stdout",
     "output_type": "stream",
     "text": [
      "\r",
      "Epoch 432/600:  72%|███████▏  | 432/600 [1:34:28<37:06, 13.25s/it, v_num=rp_1, total_loss_train=3.07e+3, kl_local_train=75.5, metric_mi|status_control_train=0.189, metric_mi|zone_train=0.177, metric_mi|time_cat_train=0.147, metric_mi|mouse_train=0.125]"
     ]
    },
    {
     "name": "stdout",
     "output_type": "stream",
     "text": [
      "\r",
      "Epoch 432/600:  72%|███████▏  | 432/600 [1:34:28<37:06, 13.25s/it, v_num=rp_1, total_loss_train=3.07e+3, kl_local_train=75.6, metric_mi|status_control_train=0.189, metric_mi|zone_train=0.177, metric_mi|time_cat_train=0.147, metric_mi|mouse_train=0.125]"
     ]
    },
    {
     "name": "stdout",
     "output_type": "stream",
     "text": [
      "\r",
      "Epoch 433/600:  72%|███████▏  | 432/600 [1:34:28<37:06, 13.25s/it, v_num=rp_1, total_loss_train=3.07e+3, kl_local_train=75.6, metric_mi|status_control_train=0.189, metric_mi|zone_train=0.177, metric_mi|time_cat_train=0.147, metric_mi|mouse_train=0.125]"
     ]
    },
    {
     "name": "stdout",
     "output_type": "stream",
     "text": [
      "\r",
      "Epoch 433/600:  72%|███████▏  | 433/600 [1:34:40<36:17, 13.04s/it, v_num=rp_1, total_loss_train=3.07e+3, kl_local_train=75.6, metric_mi|status_control_train=0.189, metric_mi|zone_train=0.177, metric_mi|time_cat_train=0.147, metric_mi|mouse_train=0.125]"
     ]
    },
    {
     "name": "stdout",
     "output_type": "stream",
     "text": [
      "\r",
      "Epoch 433/600:  72%|███████▏  | 433/600 [1:34:40<36:17, 13.04s/it, v_num=rp_1, total_loss_train=3.07e+3, kl_local_train=75.6, metric_mi|status_control_train=0.189, metric_mi|zone_train=0.177, metric_mi|time_cat_train=0.147, metric_mi|mouse_train=0.125]"
     ]
    },
    {
     "name": "stdout",
     "output_type": "stream",
     "text": [
      "\r",
      "Epoch 434/600:  72%|███████▏  | 433/600 [1:34:40<36:17, 13.04s/it, v_num=rp_1, total_loss_train=3.07e+3, kl_local_train=75.6, metric_mi|status_control_train=0.189, metric_mi|zone_train=0.177, metric_mi|time_cat_train=0.147, metric_mi|mouse_train=0.125]"
     ]
    },
    {
     "name": "stdout",
     "output_type": "stream",
     "text": [
      "\r",
      "Epoch 434/600:  72%|███████▏  | 434/600 [1:34:53<35:58, 13.01s/it, v_num=rp_1, total_loss_train=3.07e+3, kl_local_train=75.6, metric_mi|status_control_train=0.189, metric_mi|zone_train=0.177, metric_mi|time_cat_train=0.147, metric_mi|mouse_train=0.125]"
     ]
    },
    {
     "name": "stdout",
     "output_type": "stream",
     "text": [
      "\r",
      "Epoch 434/600:  72%|███████▏  | 434/600 [1:34:53<35:58, 13.01s/it, v_num=rp_1, total_loss_train=3.07e+3, kl_local_train=75.3, metric_mi|status_control_train=0.189, metric_mi|zone_train=0.177, metric_mi|time_cat_train=0.147, metric_mi|mouse_train=0.125]"
     ]
    },
    {
     "name": "stdout",
     "output_type": "stream",
     "text": [
      "\r",
      "Epoch 435/600:  72%|███████▏  | 434/600 [1:34:53<35:58, 13.01s/it, v_num=rp_1, total_loss_train=3.07e+3, kl_local_train=75.3, metric_mi|status_control_train=0.189, metric_mi|zone_train=0.177, metric_mi|time_cat_train=0.147, metric_mi|mouse_train=0.125]"
     ]
    },
    {
     "name": "stdout",
     "output_type": "stream",
     "text": [
      "\r",
      "Epoch 435/600:  72%|███████▎  | 435/600 [1:35:06<35:39, 12.97s/it, v_num=rp_1, total_loss_train=3.07e+3, kl_local_train=75.3, metric_mi|status_control_train=0.189, metric_mi|zone_train=0.177, metric_mi|time_cat_train=0.147, metric_mi|mouse_train=0.125]"
     ]
    },
    {
     "name": "stdout",
     "output_type": "stream",
     "text": [
      "\r",
      "Epoch 435/600:  72%|███████▎  | 435/600 [1:35:06<35:39, 12.97s/it, v_num=rp_1, total_loss_train=3.07e+3, kl_local_train=75.4, metric_mi|status_control_train=0.189, metric_mi|zone_train=0.177, metric_mi|time_cat_train=0.147, metric_mi|mouse_train=0.125]"
     ]
    },
    {
     "name": "stdout",
     "output_type": "stream",
     "text": [
      "\r",
      "Epoch 436/600:  72%|███████▎  | 435/600 [1:35:08<35:39, 12.97s/it, v_num=rp_1, total_loss_train=3.07e+3, kl_local_train=75.4, metric_mi|status_control_train=0.189, metric_mi|zone_train=0.177, metric_mi|time_cat_train=0.147, metric_mi|mouse_train=0.125]"
     ]
    },
    {
     "name": "stdout",
     "output_type": "stream",
     "text": [
      "\r",
      "Epoch 436/600:  73%|███████▎  | 436/600 [1:35:20<36:29, 13.35s/it, v_num=rp_1, total_loss_train=3.07e+3, kl_local_train=75.4, metric_mi|status_control_train=0.189, metric_mi|zone_train=0.177, metric_mi|time_cat_train=0.147, metric_mi|mouse_train=0.125]"
     ]
    },
    {
     "name": "stdout",
     "output_type": "stream",
     "text": [
      "\r",
      "Epoch 436/600:  73%|███████▎  | 436/600 [1:35:20<36:29, 13.35s/it, v_num=rp_1, total_loss_train=3.07e+3, kl_local_train=75, metric_mi|status_control_train=0.173, metric_mi|zone_train=0.177, metric_mi|time_cat_train=0.146, metric_mi|mouse_train=0.124]  "
     ]
    },
    {
     "name": "stdout",
     "output_type": "stream",
     "text": [
      "\r",
      "Epoch 437/600:  73%|███████▎  | 436/600 [1:35:20<36:29, 13.35s/it, v_num=rp_1, total_loss_train=3.07e+3, kl_local_train=75, metric_mi|status_control_train=0.173, metric_mi|zone_train=0.177, metric_mi|time_cat_train=0.146, metric_mi|mouse_train=0.124]"
     ]
    },
    {
     "name": "stdout",
     "output_type": "stream",
     "text": [
      "\r",
      "Epoch 437/600:  73%|███████▎  | 437/600 [1:35:33<35:55, 13.22s/it, v_num=rp_1, total_loss_train=3.07e+3, kl_local_train=75, metric_mi|status_control_train=0.173, metric_mi|zone_train=0.177, metric_mi|time_cat_train=0.146, metric_mi|mouse_train=0.124]"
     ]
    },
    {
     "name": "stdout",
     "output_type": "stream",
     "text": [
      "\r",
      "Epoch 437/600:  73%|███████▎  | 437/600 [1:35:33<35:55, 13.22s/it, v_num=rp_1, total_loss_train=3.07e+3, kl_local_train=75.1, metric_mi|status_control_train=0.173, metric_mi|zone_train=0.177, metric_mi|time_cat_train=0.146, metric_mi|mouse_train=0.124]"
     ]
    },
    {
     "name": "stdout",
     "output_type": "stream",
     "text": [
      "\r",
      "Epoch 438/600:  73%|███████▎  | 437/600 [1:35:33<35:55, 13.22s/it, v_num=rp_1, total_loss_train=3.07e+3, kl_local_train=75.1, metric_mi|status_control_train=0.173, metric_mi|zone_train=0.177, metric_mi|time_cat_train=0.146, metric_mi|mouse_train=0.124]"
     ]
    },
    {
     "name": "stdout",
     "output_type": "stream",
     "text": [
      "\r",
      "Epoch 438/600:  73%|███████▎  | 438/600 [1:35:46<35:29, 13.14s/it, v_num=rp_1, total_loss_train=3.07e+3, kl_local_train=75.1, metric_mi|status_control_train=0.173, metric_mi|zone_train=0.177, metric_mi|time_cat_train=0.146, metric_mi|mouse_train=0.124]"
     ]
    },
    {
     "name": "stdout",
     "output_type": "stream",
     "text": [
      "\r",
      "Epoch 438/600:  73%|███████▎  | 438/600 [1:35:46<35:29, 13.14s/it, v_num=rp_1, total_loss_train=3.07e+3, kl_local_train=74.7, metric_mi|status_control_train=0.173, metric_mi|zone_train=0.177, metric_mi|time_cat_train=0.146, metric_mi|mouse_train=0.124]"
     ]
    },
    {
     "name": "stdout",
     "output_type": "stream",
     "text": [
      "\r",
      "Epoch 439/600:  73%|███████▎  | 438/600 [1:35:46<35:29, 13.14s/it, v_num=rp_1, total_loss_train=3.07e+3, kl_local_train=74.7, metric_mi|status_control_train=0.173, metric_mi|zone_train=0.177, metric_mi|time_cat_train=0.146, metric_mi|mouse_train=0.124]"
     ]
    },
    {
     "name": "stdout",
     "output_type": "stream",
     "text": [
      "\r",
      "Epoch 439/600:  73%|███████▎  | 439/600 [1:35:59<35:05, 13.08s/it, v_num=rp_1, total_loss_train=3.07e+3, kl_local_train=74.7, metric_mi|status_control_train=0.173, metric_mi|zone_train=0.177, metric_mi|time_cat_train=0.146, metric_mi|mouse_train=0.124]"
     ]
    },
    {
     "name": "stdout",
     "output_type": "stream",
     "text": [
      "\r",
      "Epoch 439/600:  73%|███████▎  | 439/600 [1:35:59<35:05, 13.08s/it, v_num=rp_1, total_loss_train=3.07e+3, kl_local_train=75.1, metric_mi|status_control_train=0.173, metric_mi|zone_train=0.177, metric_mi|time_cat_train=0.146, metric_mi|mouse_train=0.124]"
     ]
    },
    {
     "name": "stdout",
     "output_type": "stream",
     "text": [
      "\r",
      "Epoch 440/600:  73%|███████▎  | 439/600 [1:35:59<35:05, 13.08s/it, v_num=rp_1, total_loss_train=3.07e+3, kl_local_train=75.1, metric_mi|status_control_train=0.173, metric_mi|zone_train=0.177, metric_mi|time_cat_train=0.146, metric_mi|mouse_train=0.124]"
     ]
    },
    {
     "name": "stdout",
     "output_type": "stream",
     "text": [
      "\r",
      "Epoch 440/600:  73%|███████▎  | 440/600 [1:36:12<34:25, 12.91s/it, v_num=rp_1, total_loss_train=3.07e+3, kl_local_train=75.1, metric_mi|status_control_train=0.173, metric_mi|zone_train=0.177, metric_mi|time_cat_train=0.146, metric_mi|mouse_train=0.124]"
     ]
    },
    {
     "name": "stdout",
     "output_type": "stream",
     "text": [
      "\r",
      "Epoch 440/600:  73%|███████▎  | 440/600 [1:36:12<34:25, 12.91s/it, v_num=rp_1, total_loss_train=3.07e+3, kl_local_train=75, metric_mi|status_control_train=0.173, metric_mi|zone_train=0.177, metric_mi|time_cat_train=0.146, metric_mi|mouse_train=0.124]  "
     ]
    },
    {
     "name": "stdout",
     "output_type": "stream",
     "text": [
      "\r",
      "Epoch 441/600:  73%|███████▎  | 440/600 [1:36:13<34:25, 12.91s/it, v_num=rp_1, total_loss_train=3.07e+3, kl_local_train=75, metric_mi|status_control_train=0.173, metric_mi|zone_train=0.177, metric_mi|time_cat_train=0.146, metric_mi|mouse_train=0.124]"
     ]
    },
    {
     "name": "stdout",
     "output_type": "stream",
     "text": [
      "\r",
      "Epoch 441/600:  74%|███████▎  | 441/600 [1:36:26<35:16, 13.31s/it, v_num=rp_1, total_loss_train=3.07e+3, kl_local_train=75, metric_mi|status_control_train=0.173, metric_mi|zone_train=0.177, metric_mi|time_cat_train=0.146, metric_mi|mouse_train=0.124]"
     ]
    },
    {
     "name": "stdout",
     "output_type": "stream",
     "text": [
      "\r",
      "Epoch 441/600:  74%|███████▎  | 441/600 [1:36:26<35:16, 13.31s/it, v_num=rp_1, total_loss_train=3.07e+3, kl_local_train=75.1, metric_mi|status_control_train=0.188, metric_mi|zone_train=0.177, metric_mi|time_cat_train=0.143, metric_mi|mouse_train=0.122]"
     ]
    },
    {
     "name": "stdout",
     "output_type": "stream",
     "text": [
      "\r",
      "Epoch 442/600:  74%|███████▎  | 441/600 [1:36:26<35:16, 13.31s/it, v_num=rp_1, total_loss_train=3.07e+3, kl_local_train=75.1, metric_mi|status_control_train=0.188, metric_mi|zone_train=0.177, metric_mi|time_cat_train=0.143, metric_mi|mouse_train=0.122]"
     ]
    },
    {
     "name": "stdout",
     "output_type": "stream",
     "text": [
      "\r",
      "Epoch 442/600:  74%|███████▎  | 442/600 [1:36:39<34:32, 13.12s/it, v_num=rp_1, total_loss_train=3.07e+3, kl_local_train=75.1, metric_mi|status_control_train=0.188, metric_mi|zone_train=0.177, metric_mi|time_cat_train=0.143, metric_mi|mouse_train=0.122]"
     ]
    },
    {
     "name": "stdout",
     "output_type": "stream",
     "text": [
      "\r",
      "Epoch 442/600:  74%|███████▎  | 442/600 [1:36:39<34:32, 13.12s/it, v_num=rp_1, total_loss_train=3.07e+3, kl_local_train=74.7, metric_mi|status_control_train=0.188, metric_mi|zone_train=0.177, metric_mi|time_cat_train=0.143, metric_mi|mouse_train=0.122]"
     ]
    },
    {
     "name": "stdout",
     "output_type": "stream",
     "text": [
      "\r",
      "Epoch 443/600:  74%|███████▎  | 442/600 [1:36:39<34:32, 13.12s/it, v_num=rp_1, total_loss_train=3.07e+3, kl_local_train=74.7, metric_mi|status_control_train=0.188, metric_mi|zone_train=0.177, metric_mi|time_cat_train=0.143, metric_mi|mouse_train=0.122]"
     ]
    },
    {
     "name": "stdout",
     "output_type": "stream",
     "text": [
      "\r",
      "Epoch 443/600:  74%|███████▍  | 443/600 [1:36:51<34:07, 13.04s/it, v_num=rp_1, total_loss_train=3.07e+3, kl_local_train=74.7, metric_mi|status_control_train=0.188, metric_mi|zone_train=0.177, metric_mi|time_cat_train=0.143, metric_mi|mouse_train=0.122]"
     ]
    },
    {
     "name": "stdout",
     "output_type": "stream",
     "text": [
      "\r",
      "Epoch 443/600:  74%|███████▍  | 443/600 [1:36:51<34:07, 13.04s/it, v_num=rp_1, total_loss_train=3.07e+3, kl_local_train=74.3, metric_mi|status_control_train=0.188, metric_mi|zone_train=0.177, metric_mi|time_cat_train=0.143, metric_mi|mouse_train=0.122]"
     ]
    },
    {
     "name": "stdout",
     "output_type": "stream",
     "text": [
      "\r",
      "Epoch 444/600:  74%|███████▍  | 443/600 [1:36:51<34:07, 13.04s/it, v_num=rp_1, total_loss_train=3.07e+3, kl_local_train=74.3, metric_mi|status_control_train=0.188, metric_mi|zone_train=0.177, metric_mi|time_cat_train=0.143, metric_mi|mouse_train=0.122]"
     ]
    },
    {
     "name": "stdout",
     "output_type": "stream",
     "text": [
      "\r",
      "Epoch 444/600:  74%|███████▍  | 444/600 [1:37:04<33:46, 12.99s/it, v_num=rp_1, total_loss_train=3.07e+3, kl_local_train=74.3, metric_mi|status_control_train=0.188, metric_mi|zone_train=0.177, metric_mi|time_cat_train=0.143, metric_mi|mouse_train=0.122]"
     ]
    },
    {
     "name": "stdout",
     "output_type": "stream",
     "text": [
      "\r",
      "Epoch 444/600:  74%|███████▍  | 444/600 [1:37:04<33:46, 12.99s/it, v_num=rp_1, total_loss_train=3.07e+3, kl_local_train=74.6, metric_mi|status_control_train=0.188, metric_mi|zone_train=0.177, metric_mi|time_cat_train=0.143, metric_mi|mouse_train=0.122]"
     ]
    },
    {
     "name": "stdout",
     "output_type": "stream",
     "text": [
      "\r",
      "Epoch 445/600:  74%|███████▍  | 444/600 [1:37:04<33:46, 12.99s/it, v_num=rp_1, total_loss_train=3.07e+3, kl_local_train=74.6, metric_mi|status_control_train=0.188, metric_mi|zone_train=0.177, metric_mi|time_cat_train=0.143, metric_mi|mouse_train=0.122]"
     ]
    },
    {
     "name": "stdout",
     "output_type": "stream",
     "text": [
      "\r",
      "Epoch 445/600:  74%|███████▍  | 445/600 [1:37:17<33:28, 12.96s/it, v_num=rp_1, total_loss_train=3.07e+3, kl_local_train=74.6, metric_mi|status_control_train=0.188, metric_mi|zone_train=0.177, metric_mi|time_cat_train=0.143, metric_mi|mouse_train=0.122]"
     ]
    },
    {
     "name": "stdout",
     "output_type": "stream",
     "text": [
      "\r",
      "Epoch 445/600:  74%|███████▍  | 445/600 [1:37:17<33:28, 12.96s/it, v_num=rp_1, total_loss_train=3.07e+3, kl_local_train=74.8, metric_mi|status_control_train=0.188, metric_mi|zone_train=0.177, metric_mi|time_cat_train=0.143, metric_mi|mouse_train=0.122]"
     ]
    },
    {
     "name": "stdout",
     "output_type": "stream",
     "text": [
      "\r",
      "Epoch 446/600:  74%|███████▍  | 445/600 [1:37:19<33:28, 12.96s/it, v_num=rp_1, total_loss_train=3.07e+3, kl_local_train=74.8, metric_mi|status_control_train=0.188, metric_mi|zone_train=0.177, metric_mi|time_cat_train=0.143, metric_mi|mouse_train=0.122]"
     ]
    },
    {
     "name": "stdout",
     "output_type": "stream",
     "text": [
      "\r",
      "Epoch 446/600:  74%|███████▍  | 446/600 [1:37:31<34:13, 13.33s/it, v_num=rp_1, total_loss_train=3.07e+3, kl_local_train=74.8, metric_mi|status_control_train=0.188, metric_mi|zone_train=0.177, metric_mi|time_cat_train=0.143, metric_mi|mouse_train=0.122]"
     ]
    },
    {
     "name": "stdout",
     "output_type": "stream",
     "text": [
      "\r",
      "Epoch 446/600:  74%|███████▍  | 446/600 [1:37:31<34:13, 13.33s/it, v_num=rp_1, total_loss_train=3.07e+3, kl_local_train=74.5, metric_mi|status_control_train=0.197, metric_mi|zone_train=0.177, metric_mi|time_cat_train=0.14, metric_mi|mouse_train=0.121] "
     ]
    },
    {
     "name": "stdout",
     "output_type": "stream",
     "text": [
      "\r",
      "Epoch 447/600:  74%|███████▍  | 446/600 [1:37:31<34:13, 13.33s/it, v_num=rp_1, total_loss_train=3.07e+3, kl_local_train=74.5, metric_mi|status_control_train=0.197, metric_mi|zone_train=0.177, metric_mi|time_cat_train=0.14, metric_mi|mouse_train=0.121]"
     ]
    },
    {
     "name": "stdout",
     "output_type": "stream",
     "text": [
      "\r",
      "Epoch 447/600:  74%|███████▍  | 447/600 [1:37:44<33:39, 13.20s/it, v_num=rp_1, total_loss_train=3.07e+3, kl_local_train=74.5, metric_mi|status_control_train=0.197, metric_mi|zone_train=0.177, metric_mi|time_cat_train=0.14, metric_mi|mouse_train=0.121]"
     ]
    },
    {
     "name": "stdout",
     "output_type": "stream",
     "text": [
      "\r",
      "Epoch 447/600:  74%|███████▍  | 447/600 [1:37:44<33:39, 13.20s/it, v_num=rp_1, total_loss_train=3.07e+3, kl_local_train=74.5, metric_mi|status_control_train=0.197, metric_mi|zone_train=0.177, metric_mi|time_cat_train=0.14, metric_mi|mouse_train=0.121]"
     ]
    },
    {
     "name": "stdout",
     "output_type": "stream",
     "text": [
      "\r",
      "Epoch 448/600:  74%|███████▍  | 447/600 [1:37:44<33:39, 13.20s/it, v_num=rp_1, total_loss_train=3.07e+3, kl_local_train=74.5, metric_mi|status_control_train=0.197, metric_mi|zone_train=0.177, metric_mi|time_cat_train=0.14, metric_mi|mouse_train=0.121]"
     ]
    },
    {
     "name": "stdout",
     "output_type": "stream",
     "text": [
      "\r",
      "Epoch 448/600:  75%|███████▍  | 448/600 [1:37:57<33:11, 13.11s/it, v_num=rp_1, total_loss_train=3.07e+3, kl_local_train=74.5, metric_mi|status_control_train=0.197, metric_mi|zone_train=0.177, metric_mi|time_cat_train=0.14, metric_mi|mouse_train=0.121]"
     ]
    },
    {
     "name": "stdout",
     "output_type": "stream",
     "text": [
      "\r",
      "Epoch 448/600:  75%|███████▍  | 448/600 [1:37:57<33:11, 13.11s/it, v_num=rp_1, total_loss_train=3.07e+3, kl_local_train=74.3, metric_mi|status_control_train=0.197, metric_mi|zone_train=0.177, metric_mi|time_cat_train=0.14, metric_mi|mouse_train=0.121]"
     ]
    },
    {
     "name": "stdout",
     "output_type": "stream",
     "text": [
      "\r",
      "Epoch 449/600:  75%|███████▍  | 448/600 [1:37:57<33:11, 13.11s/it, v_num=rp_1, total_loss_train=3.07e+3, kl_local_train=74.3, metric_mi|status_control_train=0.197, metric_mi|zone_train=0.177, metric_mi|time_cat_train=0.14, metric_mi|mouse_train=0.121]"
     ]
    },
    {
     "name": "stdout",
     "output_type": "stream",
     "text": [
      "\r",
      "Epoch 449/600:  75%|███████▍  | 449/600 [1:38:10<32:50, 13.05s/it, v_num=rp_1, total_loss_train=3.07e+3, kl_local_train=74.3, metric_mi|status_control_train=0.197, metric_mi|zone_train=0.177, metric_mi|time_cat_train=0.14, metric_mi|mouse_train=0.121]"
     ]
    },
    {
     "name": "stdout",
     "output_type": "stream",
     "text": [
      "\r",
      "Epoch 449/600:  75%|███████▍  | 449/600 [1:38:10<32:50, 13.05s/it, v_num=rp_1, total_loss_train=3.07e+3, kl_local_train=74.5, metric_mi|status_control_train=0.197, metric_mi|zone_train=0.177, metric_mi|time_cat_train=0.14, metric_mi|mouse_train=0.121]"
     ]
    },
    {
     "name": "stdout",
     "output_type": "stream",
     "text": [
      "\r",
      "Epoch 450/600:  75%|███████▍  | 449/600 [1:38:10<32:50, 13.05s/it, v_num=rp_1, total_loss_train=3.07e+3, kl_local_train=74.5, metric_mi|status_control_train=0.197, metric_mi|zone_train=0.177, metric_mi|time_cat_train=0.14, metric_mi|mouse_train=0.121]"
     ]
    },
    {
     "name": "stdout",
     "output_type": "stream",
     "text": [
      "\r",
      "Epoch 450/600:  75%|███████▌  | 450/600 [1:38:23<32:18, 12.92s/it, v_num=rp_1, total_loss_train=3.07e+3, kl_local_train=74.5, metric_mi|status_control_train=0.197, metric_mi|zone_train=0.177, metric_mi|time_cat_train=0.14, metric_mi|mouse_train=0.121]"
     ]
    },
    {
     "name": "stdout",
     "output_type": "stream",
     "text": [
      "\r",
      "Epoch 450/600:  75%|███████▌  | 450/600 [1:38:23<32:18, 12.92s/it, v_num=rp_1, total_loss_train=3.07e+3, kl_local_train=74.5, metric_mi|status_control_train=0.197, metric_mi|zone_train=0.177, metric_mi|time_cat_train=0.14, metric_mi|mouse_train=0.121]"
     ]
    },
    {
     "name": "stdout",
     "output_type": "stream",
     "text": [
      "\r",
      "Epoch 451/600:  75%|███████▌  | 450/600 [1:38:24<32:18, 12.92s/it, v_num=rp_1, total_loss_train=3.07e+3, kl_local_train=74.5, metric_mi|status_control_train=0.197, metric_mi|zone_train=0.177, metric_mi|time_cat_train=0.14, metric_mi|mouse_train=0.121]"
     ]
    },
    {
     "name": "stdout",
     "output_type": "stream",
     "text": [
      "\r",
      "Epoch 451/600:  75%|███████▌  | 451/600 [1:38:37<32:51, 13.23s/it, v_num=rp_1, total_loss_train=3.07e+3, kl_local_train=74.5, metric_mi|status_control_train=0.197, metric_mi|zone_train=0.177, metric_mi|time_cat_train=0.14, metric_mi|mouse_train=0.121]"
     ]
    },
    {
     "name": "stdout",
     "output_type": "stream",
     "text": [
      "\r",
      "Epoch 451/600:  75%|███████▌  | 451/600 [1:38:37<32:51, 13.23s/it, v_num=rp_1, total_loss_train=3.07e+3, kl_local_train=74, metric_mi|status_control_train=0.188, metric_mi|zone_train=0.176, metric_mi|time_cat_train=0.133, metric_mi|mouse_train=0.117] "
     ]
    },
    {
     "name": "stdout",
     "output_type": "stream",
     "text": [
      "\r",
      "Epoch 452/600:  75%|███████▌  | 451/600 [1:38:37<32:51, 13.23s/it, v_num=rp_1, total_loss_train=3.07e+3, kl_local_train=74, metric_mi|status_control_train=0.188, metric_mi|zone_train=0.176, metric_mi|time_cat_train=0.133, metric_mi|mouse_train=0.117]"
     ]
    },
    {
     "name": "stdout",
     "output_type": "stream",
     "text": [
      "\r",
      "Epoch 452/600:  75%|███████▌  | 452/600 [1:38:50<32:23, 13.13s/it, v_num=rp_1, total_loss_train=3.07e+3, kl_local_train=74, metric_mi|status_control_train=0.188, metric_mi|zone_train=0.176, metric_mi|time_cat_train=0.133, metric_mi|mouse_train=0.117]"
     ]
    },
    {
     "name": "stdout",
     "output_type": "stream",
     "text": [
      "\r",
      "Epoch 452/600:  75%|███████▌  | 452/600 [1:38:50<32:23, 13.13s/it, v_num=rp_1, total_loss_train=3.07e+3, kl_local_train=74.1, metric_mi|status_control_train=0.188, metric_mi|zone_train=0.176, metric_mi|time_cat_train=0.133, metric_mi|mouse_train=0.117]"
     ]
    },
    {
     "name": "stdout",
     "output_type": "stream",
     "text": [
      "\r",
      "Epoch 453/600:  75%|███████▌  | 452/600 [1:38:50<32:23, 13.13s/it, v_num=rp_1, total_loss_train=3.07e+3, kl_local_train=74.1, metric_mi|status_control_train=0.188, metric_mi|zone_train=0.176, metric_mi|time_cat_train=0.133, metric_mi|mouse_train=0.117]"
     ]
    },
    {
     "name": "stdout",
     "output_type": "stream",
     "text": [
      "\r",
      "Epoch 453/600:  76%|███████▌  | 453/600 [1:39:02<31:58, 13.05s/it, v_num=rp_1, total_loss_train=3.07e+3, kl_local_train=74.1, metric_mi|status_control_train=0.188, metric_mi|zone_train=0.176, metric_mi|time_cat_train=0.133, metric_mi|mouse_train=0.117]"
     ]
    },
    {
     "name": "stdout",
     "output_type": "stream",
     "text": [
      "\r",
      "Epoch 453/600:  76%|███████▌  | 453/600 [1:39:02<31:58, 13.05s/it, v_num=rp_1, total_loss_train=3.07e+3, kl_local_train=73.9, metric_mi|status_control_train=0.188, metric_mi|zone_train=0.176, metric_mi|time_cat_train=0.133, metric_mi|mouse_train=0.117]"
     ]
    },
    {
     "name": "stdout",
     "output_type": "stream",
     "text": [
      "\r",
      "Epoch 454/600:  76%|███████▌  | 453/600 [1:39:02<31:58, 13.05s/it, v_num=rp_1, total_loss_train=3.07e+3, kl_local_train=73.9, metric_mi|status_control_train=0.188, metric_mi|zone_train=0.176, metric_mi|time_cat_train=0.133, metric_mi|mouse_train=0.117]"
     ]
    },
    {
     "name": "stdout",
     "output_type": "stream",
     "text": [
      "\r",
      "Epoch 454/600:  76%|███████▌  | 454/600 [1:39:15<31:36, 12.99s/it, v_num=rp_1, total_loss_train=3.07e+3, kl_local_train=73.9, metric_mi|status_control_train=0.188, metric_mi|zone_train=0.176, metric_mi|time_cat_train=0.133, metric_mi|mouse_train=0.117]"
     ]
    },
    {
     "name": "stdout",
     "output_type": "stream",
     "text": [
      "\r",
      "Epoch 454/600:  76%|███████▌  | 454/600 [1:39:15<31:36, 12.99s/it, v_num=rp_1, total_loss_train=3.07e+3, kl_local_train=73.7, metric_mi|status_control_train=0.188, metric_mi|zone_train=0.176, metric_mi|time_cat_train=0.133, metric_mi|mouse_train=0.117]"
     ]
    },
    {
     "name": "stdout",
     "output_type": "stream",
     "text": [
      "\r",
      "Epoch 455/600:  76%|███████▌  | 454/600 [1:39:15<31:36, 12.99s/it, v_num=rp_1, total_loss_train=3.07e+3, kl_local_train=73.7, metric_mi|status_control_train=0.188, metric_mi|zone_train=0.176, metric_mi|time_cat_train=0.133, metric_mi|mouse_train=0.117]"
     ]
    },
    {
     "name": "stdout",
     "output_type": "stream",
     "text": [
      "\r",
      "Epoch 455/600:  76%|███████▌  | 455/600 [1:39:28<31:15, 12.93s/it, v_num=rp_1, total_loss_train=3.07e+3, kl_local_train=73.7, metric_mi|status_control_train=0.188, metric_mi|zone_train=0.176, metric_mi|time_cat_train=0.133, metric_mi|mouse_train=0.117]"
     ]
    },
    {
     "name": "stdout",
     "output_type": "stream",
     "text": [
      "\r",
      "Epoch 455/600:  76%|███████▌  | 455/600 [1:39:28<31:15, 12.93s/it, v_num=rp_1, total_loss_train=3.07e+3, kl_local_train=73.8, metric_mi|status_control_train=0.188, metric_mi|zone_train=0.176, metric_mi|time_cat_train=0.133, metric_mi|mouse_train=0.117]"
     ]
    },
    {
     "name": "stdout",
     "output_type": "stream",
     "text": [
      "\r",
      "Epoch 456/600:  76%|███████▌  | 455/600 [1:39:29<31:15, 12.93s/it, v_num=rp_1, total_loss_train=3.07e+3, kl_local_train=73.8, metric_mi|status_control_train=0.188, metric_mi|zone_train=0.176, metric_mi|time_cat_train=0.133, metric_mi|mouse_train=0.117]"
     ]
    },
    {
     "name": "stdout",
     "output_type": "stream",
     "text": [
      "\r",
      "Epoch 456/600:  76%|███████▌  | 456/600 [1:39:42<31:58, 13.32s/it, v_num=rp_1, total_loss_train=3.07e+3, kl_local_train=73.8, metric_mi|status_control_train=0.188, metric_mi|zone_train=0.176, metric_mi|time_cat_train=0.133, metric_mi|mouse_train=0.117]"
     ]
    },
    {
     "name": "stdout",
     "output_type": "stream",
     "text": [
      "\r",
      "Epoch 456/600:  76%|███████▌  | 456/600 [1:39:42<31:58, 13.32s/it, v_num=rp_1, total_loss_train=3.07e+3, kl_local_train=74.3, metric_mi|status_control_train=0.176, metric_mi|zone_train=0.175, metric_mi|time_cat_train=0.129, metric_mi|mouse_train=0.114]"
     ]
    },
    {
     "name": "stdout",
     "output_type": "stream",
     "text": [
      "\r",
      "Epoch 457/600:  76%|███████▌  | 456/600 [1:39:42<31:58, 13.32s/it, v_num=rp_1, total_loss_train=3.07e+3, kl_local_train=74.3, metric_mi|status_control_train=0.176, metric_mi|zone_train=0.175, metric_mi|time_cat_train=0.129, metric_mi|mouse_train=0.114]"
     ]
    },
    {
     "name": "stdout",
     "output_type": "stream",
     "text": [
      "\r",
      "Epoch 457/600:  76%|███████▌  | 457/600 [1:39:55<31:24, 13.18s/it, v_num=rp_1, total_loss_train=3.07e+3, kl_local_train=74.3, metric_mi|status_control_train=0.176, metric_mi|zone_train=0.175, metric_mi|time_cat_train=0.129, metric_mi|mouse_train=0.114]"
     ]
    },
    {
     "name": "stdout",
     "output_type": "stream",
     "text": [
      "\r",
      "Epoch 457/600:  76%|███████▌  | 457/600 [1:39:55<31:24, 13.18s/it, v_num=rp_1, total_loss_train=3.07e+3, kl_local_train=73.7, metric_mi|status_control_train=0.176, metric_mi|zone_train=0.175, metric_mi|time_cat_train=0.129, metric_mi|mouse_train=0.114]"
     ]
    },
    {
     "name": "stdout",
     "output_type": "stream",
     "text": [
      "\r",
      "Epoch 458/600:  76%|███████▌  | 457/600 [1:39:55<31:24, 13.18s/it, v_num=rp_1, total_loss_train=3.07e+3, kl_local_train=73.7, metric_mi|status_control_train=0.176, metric_mi|zone_train=0.175, metric_mi|time_cat_train=0.129, metric_mi|mouse_train=0.114]"
     ]
    },
    {
     "name": "stdout",
     "output_type": "stream",
     "text": [
      "\r",
      "Epoch 458/600:  76%|███████▋  | 458/600 [1:40:08<30:57, 13.08s/it, v_num=rp_1, total_loss_train=3.07e+3, kl_local_train=73.7, metric_mi|status_control_train=0.176, metric_mi|zone_train=0.175, metric_mi|time_cat_train=0.129, metric_mi|mouse_train=0.114]"
     ]
    },
    {
     "name": "stdout",
     "output_type": "stream",
     "text": [
      "\r",
      "Epoch 458/600:  76%|███████▋  | 458/600 [1:40:08<30:57, 13.08s/it, v_num=rp_1, total_loss_train=3.07e+3, kl_local_train=73.6, metric_mi|status_control_train=0.176, metric_mi|zone_train=0.175, metric_mi|time_cat_train=0.129, metric_mi|mouse_train=0.114]"
     ]
    },
    {
     "name": "stdout",
     "output_type": "stream",
     "text": [
      "\r",
      "Epoch 459/600:  76%|███████▋  | 458/600 [1:40:08<30:57, 13.08s/it, v_num=rp_1, total_loss_train=3.07e+3, kl_local_train=73.6, metric_mi|status_control_train=0.176, metric_mi|zone_train=0.175, metric_mi|time_cat_train=0.129, metric_mi|mouse_train=0.114]"
     ]
    },
    {
     "name": "stdout",
     "output_type": "stream",
     "text": [
      "\r",
      "Epoch 459/600:  76%|███████▋  | 459/600 [1:40:21<30:33, 13.01s/it, v_num=rp_1, total_loss_train=3.07e+3, kl_local_train=73.6, metric_mi|status_control_train=0.176, metric_mi|zone_train=0.175, metric_mi|time_cat_train=0.129, metric_mi|mouse_train=0.114]"
     ]
    },
    {
     "name": "stdout",
     "output_type": "stream",
     "text": [
      "\r",
      "Epoch 459/600:  76%|███████▋  | 459/600 [1:40:21<30:33, 13.01s/it, v_num=rp_1, total_loss_train=3.07e+3, kl_local_train=73.7, metric_mi|status_control_train=0.176, metric_mi|zone_train=0.175, metric_mi|time_cat_train=0.129, metric_mi|mouse_train=0.114]"
     ]
    },
    {
     "name": "stdout",
     "output_type": "stream",
     "text": [
      "\r",
      "Epoch 460/600:  76%|███████▋  | 459/600 [1:40:21<30:33, 13.01s/it, v_num=rp_1, total_loss_train=3.07e+3, kl_local_train=73.7, metric_mi|status_control_train=0.176, metric_mi|zone_train=0.175, metric_mi|time_cat_train=0.129, metric_mi|mouse_train=0.114]"
     ]
    },
    {
     "name": "stdout",
     "output_type": "stream",
     "text": [
      "\r",
      "Epoch 460/600:  77%|███████▋  | 460/600 [1:40:33<29:57, 12.84s/it, v_num=rp_1, total_loss_train=3.07e+3, kl_local_train=73.7, metric_mi|status_control_train=0.176, metric_mi|zone_train=0.175, metric_mi|time_cat_train=0.129, metric_mi|mouse_train=0.114]"
     ]
    },
    {
     "name": "stdout",
     "output_type": "stream",
     "text": [
      "\r",
      "Epoch 460/600:  77%|███████▋  | 460/600 [1:40:33<29:57, 12.84s/it, v_num=rp_1, total_loss_train=3.07e+3, kl_local_train=73.1, metric_mi|status_control_train=0.176, metric_mi|zone_train=0.175, metric_mi|time_cat_train=0.129, metric_mi|mouse_train=0.114]"
     ]
    },
    {
     "name": "stdout",
     "output_type": "stream",
     "text": [
      "\r",
      "Epoch 461/600:  77%|███████▋  | 460/600 [1:40:35<29:57, 12.84s/it, v_num=rp_1, total_loss_train=3.07e+3, kl_local_train=73.1, metric_mi|status_control_train=0.176, metric_mi|zone_train=0.175, metric_mi|time_cat_train=0.129, metric_mi|mouse_train=0.114]"
     ]
    },
    {
     "name": "stdout",
     "output_type": "stream",
     "text": [
      "\r",
      "Epoch 461/600:  77%|███████▋  | 461/600 [1:40:48<30:41, 13.25s/it, v_num=rp_1, total_loss_train=3.07e+3, kl_local_train=73.1, metric_mi|status_control_train=0.176, metric_mi|zone_train=0.175, metric_mi|time_cat_train=0.129, metric_mi|mouse_train=0.114]"
     ]
    },
    {
     "name": "stdout",
     "output_type": "stream",
     "text": [
      "\r",
      "Epoch 461/600:  77%|███████▋  | 461/600 [1:40:48<30:41, 13.25s/it, v_num=rp_1, total_loss_train=3.07e+3, kl_local_train=73.7, metric_mi|status_control_train=0.178, metric_mi|zone_train=0.176, metric_mi|time_cat_train=0.137, metric_mi|mouse_train=0.119]"
     ]
    },
    {
     "name": "stdout",
     "output_type": "stream",
     "text": [
      "\r",
      "Epoch 462/600:  77%|███████▋  | 461/600 [1:40:48<30:41, 13.25s/it, v_num=rp_1, total_loss_train=3.07e+3, kl_local_train=73.7, metric_mi|status_control_train=0.178, metric_mi|zone_train=0.176, metric_mi|time_cat_train=0.137, metric_mi|mouse_train=0.119]"
     ]
    },
    {
     "name": "stdout",
     "output_type": "stream",
     "text": [
      "\r",
      "Epoch 462/600:  77%|███████▋  | 462/600 [1:41:00<30:11, 13.13s/it, v_num=rp_1, total_loss_train=3.07e+3, kl_local_train=73.7, metric_mi|status_control_train=0.178, metric_mi|zone_train=0.176, metric_mi|time_cat_train=0.137, metric_mi|mouse_train=0.119]"
     ]
    },
    {
     "name": "stdout",
     "output_type": "stream",
     "text": [
      "\r",
      "Epoch 462/600:  77%|███████▋  | 462/600 [1:41:00<30:11, 13.13s/it, v_num=rp_1, total_loss_train=3.07e+3, kl_local_train=73.4, metric_mi|status_control_train=0.178, metric_mi|zone_train=0.176, metric_mi|time_cat_train=0.137, metric_mi|mouse_train=0.119]"
     ]
    },
    {
     "name": "stdout",
     "output_type": "stream",
     "text": [
      "\r",
      "Epoch 463/600:  77%|███████▋  | 462/600 [1:41:00<30:11, 13.13s/it, v_num=rp_1, total_loss_train=3.07e+3, kl_local_train=73.4, metric_mi|status_control_train=0.178, metric_mi|zone_train=0.176, metric_mi|time_cat_train=0.137, metric_mi|mouse_train=0.119]"
     ]
    },
    {
     "name": "stdout",
     "output_type": "stream",
     "text": [
      "\r",
      "Epoch 463/600:  77%|███████▋  | 463/600 [1:41:13<29:48, 13.05s/it, v_num=rp_1, total_loss_train=3.07e+3, kl_local_train=73.4, metric_mi|status_control_train=0.178, metric_mi|zone_train=0.176, metric_mi|time_cat_train=0.137, metric_mi|mouse_train=0.119]"
     ]
    },
    {
     "name": "stdout",
     "output_type": "stream",
     "text": [
      "\r",
      "Epoch 463/600:  77%|███████▋  | 463/600 [1:41:13<29:48, 13.05s/it, v_num=rp_1, total_loss_train=3.07e+3, kl_local_train=73.5, metric_mi|status_control_train=0.178, metric_mi|zone_train=0.176, metric_mi|time_cat_train=0.137, metric_mi|mouse_train=0.119]"
     ]
    },
    {
     "name": "stdout",
     "output_type": "stream",
     "text": [
      "\r",
      "Epoch 464/600:  77%|███████▋  | 463/600 [1:41:13<29:48, 13.05s/it, v_num=rp_1, total_loss_train=3.07e+3, kl_local_train=73.5, metric_mi|status_control_train=0.178, metric_mi|zone_train=0.176, metric_mi|time_cat_train=0.137, metric_mi|mouse_train=0.119]"
     ]
    },
    {
     "name": "stdout",
     "output_type": "stream",
     "text": [
      "\r",
      "Epoch 464/600:  77%|███████▋  | 464/600 [1:41:26<29:27, 13.00s/it, v_num=rp_1, total_loss_train=3.07e+3, kl_local_train=73.5, metric_mi|status_control_train=0.178, metric_mi|zone_train=0.176, metric_mi|time_cat_train=0.137, metric_mi|mouse_train=0.119]"
     ]
    },
    {
     "name": "stdout",
     "output_type": "stream",
     "text": [
      "\r",
      "Epoch 464/600:  77%|███████▋  | 464/600 [1:41:26<29:27, 13.00s/it, v_num=rp_1, total_loss_train=3.07e+3, kl_local_train=73.1, metric_mi|status_control_train=0.178, metric_mi|zone_train=0.176, metric_mi|time_cat_train=0.137, metric_mi|mouse_train=0.119]"
     ]
    },
    {
     "name": "stdout",
     "output_type": "stream",
     "text": [
      "\r",
      "Epoch 465/600:  77%|███████▋  | 464/600 [1:41:26<29:27, 13.00s/it, v_num=rp_1, total_loss_train=3.07e+3, kl_local_train=73.1, metric_mi|status_control_train=0.178, metric_mi|zone_train=0.176, metric_mi|time_cat_train=0.137, metric_mi|mouse_train=0.119]"
     ]
    },
    {
     "name": "stdout",
     "output_type": "stream",
     "text": [
      "\r",
      "Epoch 465/600:  78%|███████▊  | 465/600 [1:41:39<29:06, 12.94s/it, v_num=rp_1, total_loss_train=3.07e+3, kl_local_train=73.1, metric_mi|status_control_train=0.178, metric_mi|zone_train=0.176, metric_mi|time_cat_train=0.137, metric_mi|mouse_train=0.119]"
     ]
    },
    {
     "name": "stdout",
     "output_type": "stream",
     "text": [
      "\r",
      "Epoch 465/600:  78%|███████▊  | 465/600 [1:41:39<29:06, 12.94s/it, v_num=rp_1, total_loss_train=3.07e+3, kl_local_train=73.1, metric_mi|status_control_train=0.178, metric_mi|zone_train=0.176, metric_mi|time_cat_train=0.137, metric_mi|mouse_train=0.119]"
     ]
    },
    {
     "name": "stdout",
     "output_type": "stream",
     "text": [
      "\r",
      "Epoch 466/600:  78%|███████▊  | 465/600 [1:41:40<29:06, 12.94s/it, v_num=rp_1, total_loss_train=3.07e+3, kl_local_train=73.1, metric_mi|status_control_train=0.178, metric_mi|zone_train=0.176, metric_mi|time_cat_train=0.137, metric_mi|mouse_train=0.119]"
     ]
    },
    {
     "name": "stdout",
     "output_type": "stream",
     "text": [
      "\r",
      "Epoch 466/600:  78%|███████▊  | 466/600 [1:41:53<29:46, 13.33s/it, v_num=rp_1, total_loss_train=3.07e+3, kl_local_train=73.1, metric_mi|status_control_train=0.178, metric_mi|zone_train=0.176, metric_mi|time_cat_train=0.137, metric_mi|mouse_train=0.119]"
     ]
    },
    {
     "name": "stdout",
     "output_type": "stream",
     "text": [
      "\r",
      "Epoch 466/600:  78%|███████▊  | 466/600 [1:41:53<29:46, 13.33s/it, v_num=rp_1, total_loss_train=3.07e+3, kl_local_train=73.3, metric_mi|status_control_train=0.179, metric_mi|zone_train=0.176, metric_mi|time_cat_train=0.14, metric_mi|mouse_train=0.12]  "
     ]
    },
    {
     "name": "stdout",
     "output_type": "stream",
     "text": [
      "\r",
      "Epoch 467/600:  78%|███████▊  | 466/600 [1:41:53<29:46, 13.33s/it, v_num=rp_1, total_loss_train=3.07e+3, kl_local_train=73.3, metric_mi|status_control_train=0.179, metric_mi|zone_train=0.176, metric_mi|time_cat_train=0.14, metric_mi|mouse_train=0.12]"
     ]
    },
    {
     "name": "stdout",
     "output_type": "stream",
     "text": [
      "\r",
      "Epoch 467/600:  78%|███████▊  | 467/600 [1:42:06<29:00, 13.09s/it, v_num=rp_1, total_loss_train=3.07e+3, kl_local_train=73.3, metric_mi|status_control_train=0.179, metric_mi|zone_train=0.176, metric_mi|time_cat_train=0.14, metric_mi|mouse_train=0.12]"
     ]
    },
    {
     "name": "stdout",
     "output_type": "stream",
     "text": [
      "\r",
      "Epoch 467/600:  78%|███████▊  | 467/600 [1:42:06<29:00, 13.09s/it, v_num=rp_1, total_loss_train=3.07e+3, kl_local_train=73.4, metric_mi|status_control_train=0.179, metric_mi|zone_train=0.176, metric_mi|time_cat_train=0.14, metric_mi|mouse_train=0.12]"
     ]
    },
    {
     "name": "stdout",
     "output_type": "stream",
     "text": [
      "\r",
      "Epoch 468/600:  78%|███████▊  | 467/600 [1:42:06<29:00, 13.09s/it, v_num=rp_1, total_loss_train=3.07e+3, kl_local_train=73.4, metric_mi|status_control_train=0.179, metric_mi|zone_train=0.176, metric_mi|time_cat_train=0.14, metric_mi|mouse_train=0.12]"
     ]
    },
    {
     "name": "stdout",
     "output_type": "stream",
     "text": [
      "\r",
      "Epoch 468/600:  78%|███████▊  | 468/600 [1:42:19<28:39, 13.03s/it, v_num=rp_1, total_loss_train=3.07e+3, kl_local_train=73.4, metric_mi|status_control_train=0.179, metric_mi|zone_train=0.176, metric_mi|time_cat_train=0.14, metric_mi|mouse_train=0.12]"
     ]
    },
    {
     "name": "stdout",
     "output_type": "stream",
     "text": [
      "\r",
      "Epoch 468/600:  78%|███████▊  | 468/600 [1:42:19<28:39, 13.03s/it, v_num=rp_1, total_loss_train=3.07e+3, kl_local_train=73, metric_mi|status_control_train=0.179, metric_mi|zone_train=0.176, metric_mi|time_cat_train=0.14, metric_mi|mouse_train=0.12]  "
     ]
    },
    {
     "name": "stdout",
     "output_type": "stream",
     "text": [
      "\r",
      "Epoch 469/600:  78%|███████▊  | 468/600 [1:42:19<28:39, 13.03s/it, v_num=rp_1, total_loss_train=3.07e+3, kl_local_train=73, metric_mi|status_control_train=0.179, metric_mi|zone_train=0.176, metric_mi|time_cat_train=0.14, metric_mi|mouse_train=0.12]"
     ]
    },
    {
     "name": "stdout",
     "output_type": "stream",
     "text": [
      "\r",
      "Epoch 469/600:  78%|███████▊  | 469/600 [1:42:31<28:21, 12.99s/it, v_num=rp_1, total_loss_train=3.07e+3, kl_local_train=73, metric_mi|status_control_train=0.179, metric_mi|zone_train=0.176, metric_mi|time_cat_train=0.14, metric_mi|mouse_train=0.12]"
     ]
    },
    {
     "name": "stdout",
     "output_type": "stream",
     "text": [
      "\r",
      "Epoch 469/600:  78%|███████▊  | 469/600 [1:42:31<28:21, 12.99s/it, v_num=rp_1, total_loss_train=3.07e+3, kl_local_train=72.9, metric_mi|status_control_train=0.179, metric_mi|zone_train=0.176, metric_mi|time_cat_train=0.14, metric_mi|mouse_train=0.12]"
     ]
    },
    {
     "name": "stdout",
     "output_type": "stream",
     "text": [
      "\r",
      "Epoch 470/600:  78%|███████▊  | 469/600 [1:42:32<28:21, 12.99s/it, v_num=rp_1, total_loss_train=3.07e+3, kl_local_train=72.9, metric_mi|status_control_train=0.179, metric_mi|zone_train=0.176, metric_mi|time_cat_train=0.14, metric_mi|mouse_train=0.12]"
     ]
    },
    {
     "name": "stdout",
     "output_type": "stream",
     "text": [
      "\r",
      "Epoch 470/600:  78%|███████▊  | 470/600 [1:42:44<28:03, 12.95s/it, v_num=rp_1, total_loss_train=3.07e+3, kl_local_train=72.9, metric_mi|status_control_train=0.179, metric_mi|zone_train=0.176, metric_mi|time_cat_train=0.14, metric_mi|mouse_train=0.12]"
     ]
    },
    {
     "name": "stdout",
     "output_type": "stream",
     "text": [
      "\r",
      "Epoch 470/600:  78%|███████▊  | 470/600 [1:42:44<28:03, 12.95s/it, v_num=rp_1, total_loss_train=3.06e+3, kl_local_train=72.4, metric_mi|status_control_train=0.179, metric_mi|zone_train=0.176, metric_mi|time_cat_train=0.14, metric_mi|mouse_train=0.12]"
     ]
    },
    {
     "name": "stdout",
     "output_type": "stream",
     "text": [
      "\r",
      "Epoch 471/600:  78%|███████▊  | 470/600 [1:42:46<28:03, 12.95s/it, v_num=rp_1, total_loss_train=3.06e+3, kl_local_train=72.4, metric_mi|status_control_train=0.179, metric_mi|zone_train=0.176, metric_mi|time_cat_train=0.14, metric_mi|mouse_train=0.12]"
     ]
    },
    {
     "name": "stdout",
     "output_type": "stream",
     "text": [
      "\r",
      "Epoch 471/600:  78%|███████▊  | 471/600 [1:42:59<28:38, 13.32s/it, v_num=rp_1, total_loss_train=3.06e+3, kl_local_train=72.4, metric_mi|status_control_train=0.179, metric_mi|zone_train=0.176, metric_mi|time_cat_train=0.14, metric_mi|mouse_train=0.12]"
     ]
    },
    {
     "name": "stdout",
     "output_type": "stream",
     "text": [
      "\r",
      "Epoch 471/600:  78%|███████▊  | 471/600 [1:42:59<28:38, 13.32s/it, v_num=rp_1, total_loss_train=3.07e+3, kl_local_train=72.5, metric_mi|status_control_train=0.17, metric_mi|zone_train=0.175, metric_mi|time_cat_train=0.135, metric_mi|mouse_train=0.117]"
     ]
    },
    {
     "name": "stdout",
     "output_type": "stream",
     "text": [
      "\r",
      "Epoch 472/600:  78%|███████▊  | 471/600 [1:42:59<28:38, 13.32s/it, v_num=rp_1, total_loss_train=3.07e+3, kl_local_train=72.5, metric_mi|status_control_train=0.17, metric_mi|zone_train=0.175, metric_mi|time_cat_train=0.135, metric_mi|mouse_train=0.117]"
     ]
    },
    {
     "name": "stdout",
     "output_type": "stream",
     "text": [
      "\r",
      "Epoch 472/600:  79%|███████▊  | 472/600 [1:43:11<28:08, 13.19s/it, v_num=rp_1, total_loss_train=3.07e+3, kl_local_train=72.5, metric_mi|status_control_train=0.17, metric_mi|zone_train=0.175, metric_mi|time_cat_train=0.135, metric_mi|mouse_train=0.117]"
     ]
    },
    {
     "name": "stdout",
     "output_type": "stream",
     "text": [
      "\r",
      "Epoch 472/600:  79%|███████▊  | 472/600 [1:43:11<28:08, 13.19s/it, v_num=rp_1, total_loss_train=3.06e+3, kl_local_train=72.8, metric_mi|status_control_train=0.17, metric_mi|zone_train=0.175, metric_mi|time_cat_train=0.135, metric_mi|mouse_train=0.117]"
     ]
    },
    {
     "name": "stdout",
     "output_type": "stream",
     "text": [
      "\r",
      "Epoch 473/600:  79%|███████▊  | 472/600 [1:43:11<28:08, 13.19s/it, v_num=rp_1, total_loss_train=3.06e+3, kl_local_train=72.8, metric_mi|status_control_train=0.17, metric_mi|zone_train=0.175, metric_mi|time_cat_train=0.135, metric_mi|mouse_train=0.117]"
     ]
    },
    {
     "name": "stdout",
     "output_type": "stream",
     "text": [
      "\r",
      "Epoch 473/600:  79%|███████▉  | 473/600 [1:43:24<27:48, 13.14s/it, v_num=rp_1, total_loss_train=3.06e+3, kl_local_train=72.8, metric_mi|status_control_train=0.17, metric_mi|zone_train=0.175, metric_mi|time_cat_train=0.135, metric_mi|mouse_train=0.117]"
     ]
    },
    {
     "name": "stdout",
     "output_type": "stream",
     "text": [
      "\r",
      "Epoch 473/600:  79%|███████▉  | 473/600 [1:43:24<27:48, 13.14s/it, v_num=rp_1, total_loss_train=3.07e+3, kl_local_train=72.6, metric_mi|status_control_train=0.17, metric_mi|zone_train=0.175, metric_mi|time_cat_train=0.135, metric_mi|mouse_train=0.117]"
     ]
    },
    {
     "name": "stdout",
     "output_type": "stream",
     "text": [
      "\r",
      "Epoch 474/600:  79%|███████▉  | 473/600 [1:43:24<27:48, 13.14s/it, v_num=rp_1, total_loss_train=3.07e+3, kl_local_train=72.6, metric_mi|status_control_train=0.17, metric_mi|zone_train=0.175, metric_mi|time_cat_train=0.135, metric_mi|mouse_train=0.117]"
     ]
    },
    {
     "name": "stdout",
     "output_type": "stream",
     "text": [
      "\r",
      "Epoch 474/600:  79%|███████▉  | 474/600 [1:43:37<27:26, 13.07s/it, v_num=rp_1, total_loss_train=3.07e+3, kl_local_train=72.6, metric_mi|status_control_train=0.17, metric_mi|zone_train=0.175, metric_mi|time_cat_train=0.135, metric_mi|mouse_train=0.117]"
     ]
    },
    {
     "name": "stdout",
     "output_type": "stream",
     "text": [
      "\r",
      "Epoch 474/600:  79%|███████▉  | 474/600 [1:43:37<27:26, 13.07s/it, v_num=rp_1, total_loss_train=3.07e+3, kl_local_train=72.6, metric_mi|status_control_train=0.17, metric_mi|zone_train=0.175, metric_mi|time_cat_train=0.135, metric_mi|mouse_train=0.117]"
     ]
    },
    {
     "name": "stdout",
     "output_type": "stream",
     "text": [
      "\r",
      "Epoch 475/600:  79%|███████▉  | 474/600 [1:43:37<27:26, 13.07s/it, v_num=rp_1, total_loss_train=3.07e+3, kl_local_train=72.6, metric_mi|status_control_train=0.17, metric_mi|zone_train=0.175, metric_mi|time_cat_train=0.135, metric_mi|mouse_train=0.117]"
     ]
    },
    {
     "name": "stdout",
     "output_type": "stream",
     "text": [
      "\r",
      "Epoch 475/600:  79%|███████▉  | 475/600 [1:43:50<27:02, 12.98s/it, v_num=rp_1, total_loss_train=3.07e+3, kl_local_train=72.6, metric_mi|status_control_train=0.17, metric_mi|zone_train=0.175, metric_mi|time_cat_train=0.135, metric_mi|mouse_train=0.117]"
     ]
    },
    {
     "name": "stdout",
     "output_type": "stream",
     "text": [
      "\r",
      "Epoch 475/600:  79%|███████▉  | 475/600 [1:43:50<27:02, 12.98s/it, v_num=rp_1, total_loss_train=3.07e+3, kl_local_train=72.6, metric_mi|status_control_train=0.17, metric_mi|zone_train=0.175, metric_mi|time_cat_train=0.135, metric_mi|mouse_train=0.117]"
     ]
    },
    {
     "name": "stdout",
     "output_type": "stream",
     "text": [
      "\r",
      "Epoch 476/600:  79%|███████▉  | 475/600 [1:43:51<27:02, 12.98s/it, v_num=rp_1, total_loss_train=3.07e+3, kl_local_train=72.6, metric_mi|status_control_train=0.17, metric_mi|zone_train=0.175, metric_mi|time_cat_train=0.135, metric_mi|mouse_train=0.117]"
     ]
    },
    {
     "name": "stdout",
     "output_type": "stream",
     "text": [
      "\r",
      "Epoch 476/600:  79%|███████▉  | 476/600 [1:44:04<27:36, 13.36s/it, v_num=rp_1, total_loss_train=3.07e+3, kl_local_train=72.6, metric_mi|status_control_train=0.17, metric_mi|zone_train=0.175, metric_mi|time_cat_train=0.135, metric_mi|mouse_train=0.117]"
     ]
    },
    {
     "name": "stdout",
     "output_type": "stream",
     "text": [
      "\r",
      "Epoch 476/600:  79%|███████▉  | 476/600 [1:44:04<27:36, 13.36s/it, v_num=rp_1, total_loss_train=3.07e+3, kl_local_train=72.7, metric_mi|status_control_train=0.174, metric_mi|zone_train=0.175, metric_mi|time_cat_train=0.133, metric_mi|mouse_train=0.116]"
     ]
    },
    {
     "name": "stdout",
     "output_type": "stream",
     "text": [
      "\r",
      "Epoch 477/600:  79%|███████▉  | 476/600 [1:44:04<27:36, 13.36s/it, v_num=rp_1, total_loss_train=3.07e+3, kl_local_train=72.7, metric_mi|status_control_train=0.174, metric_mi|zone_train=0.175, metric_mi|time_cat_train=0.133, metric_mi|mouse_train=0.116]"
     ]
    },
    {
     "name": "stdout",
     "output_type": "stream",
     "text": [
      "\r",
      "Epoch 477/600:  80%|███████▉  | 477/600 [1:44:17<27:04, 13.21s/it, v_num=rp_1, total_loss_train=3.07e+3, kl_local_train=72.7, metric_mi|status_control_train=0.174, metric_mi|zone_train=0.175, metric_mi|time_cat_train=0.133, metric_mi|mouse_train=0.116]"
     ]
    },
    {
     "name": "stdout",
     "output_type": "stream",
     "text": [
      "\r",
      "Epoch 477/600:  80%|███████▉  | 477/600 [1:44:17<27:04, 13.21s/it, v_num=rp_1, total_loss_train=3.07e+3, kl_local_train=72.5, metric_mi|status_control_train=0.174, metric_mi|zone_train=0.175, metric_mi|time_cat_train=0.133, metric_mi|mouse_train=0.116]"
     ]
    },
    {
     "name": "stdout",
     "output_type": "stream",
     "text": [
      "\r",
      "Epoch 478/600:  80%|███████▉  | 477/600 [1:44:17<27:04, 13.21s/it, v_num=rp_1, total_loss_train=3.07e+3, kl_local_train=72.5, metric_mi|status_control_train=0.174, metric_mi|zone_train=0.175, metric_mi|time_cat_train=0.133, metric_mi|mouse_train=0.116]"
     ]
    },
    {
     "name": "stdout",
     "output_type": "stream",
     "text": [
      "\r",
      "Epoch 478/600:  80%|███████▉  | 478/600 [1:44:30<26:39, 13.11s/it, v_num=rp_1, total_loss_train=3.07e+3, kl_local_train=72.5, metric_mi|status_control_train=0.174, metric_mi|zone_train=0.175, metric_mi|time_cat_train=0.133, metric_mi|mouse_train=0.116]"
     ]
    },
    {
     "name": "stdout",
     "output_type": "stream",
     "text": [
      "\r",
      "Epoch 478/600:  80%|███████▉  | 478/600 [1:44:30<26:39, 13.11s/it, v_num=rp_1, total_loss_train=3.06e+3, kl_local_train=72.4, metric_mi|status_control_train=0.174, metric_mi|zone_train=0.175, metric_mi|time_cat_train=0.133, metric_mi|mouse_train=0.116]"
     ]
    },
    {
     "name": "stdout",
     "output_type": "stream",
     "text": [
      "\r",
      "Epoch 479/600:  80%|███████▉  | 478/600 [1:44:30<26:39, 13.11s/it, v_num=rp_1, total_loss_train=3.06e+3, kl_local_train=72.4, metric_mi|status_control_train=0.174, metric_mi|zone_train=0.175, metric_mi|time_cat_train=0.133, metric_mi|mouse_train=0.116]"
     ]
    },
    {
     "name": "stdout",
     "output_type": "stream",
     "text": [
      "\r",
      "Epoch 479/600:  80%|███████▉  | 479/600 [1:44:43<26:16, 13.03s/it, v_num=rp_1, total_loss_train=3.06e+3, kl_local_train=72.4, metric_mi|status_control_train=0.174, metric_mi|zone_train=0.175, metric_mi|time_cat_train=0.133, metric_mi|mouse_train=0.116]"
     ]
    },
    {
     "name": "stdout",
     "output_type": "stream",
     "text": [
      "\r",
      "Epoch 479/600:  80%|███████▉  | 479/600 [1:44:43<26:16, 13.03s/it, v_num=rp_1, total_loss_train=3.06e+3, kl_local_train=72.6, metric_mi|status_control_train=0.174, metric_mi|zone_train=0.175, metric_mi|time_cat_train=0.133, metric_mi|mouse_train=0.116]"
     ]
    },
    {
     "name": "stdout",
     "output_type": "stream",
     "text": [
      "\r",
      "Epoch 480/600:  80%|███████▉  | 479/600 [1:44:43<26:16, 13.03s/it, v_num=rp_1, total_loss_train=3.06e+3, kl_local_train=72.6, metric_mi|status_control_train=0.174, metric_mi|zone_train=0.175, metric_mi|time_cat_train=0.133, metric_mi|mouse_train=0.116]"
     ]
    },
    {
     "name": "stdout",
     "output_type": "stream",
     "text": [
      "\r",
      "Epoch 480/600:  80%|████████  | 480/600 [1:44:56<25:57, 12.98s/it, v_num=rp_1, total_loss_train=3.06e+3, kl_local_train=72.6, metric_mi|status_control_train=0.174, metric_mi|zone_train=0.175, metric_mi|time_cat_train=0.133, metric_mi|mouse_train=0.116]"
     ]
    },
    {
     "name": "stdout",
     "output_type": "stream",
     "text": [
      "\r",
      "Epoch 480/600:  80%|████████  | 480/600 [1:44:56<25:57, 12.98s/it, v_num=rp_1, total_loss_train=3.06e+3, kl_local_train=71.9, metric_mi|status_control_train=0.174, metric_mi|zone_train=0.175, metric_mi|time_cat_train=0.133, metric_mi|mouse_train=0.116]"
     ]
    },
    {
     "name": "stdout",
     "output_type": "stream",
     "text": [
      "\r",
      "Epoch 481/600:  80%|████████  | 480/600 [1:44:57<25:57, 12.98s/it, v_num=rp_1, total_loss_train=3.06e+3, kl_local_train=71.9, metric_mi|status_control_train=0.174, metric_mi|zone_train=0.175, metric_mi|time_cat_train=0.133, metric_mi|mouse_train=0.116]"
     ]
    },
    {
     "name": "stdout",
     "output_type": "stream",
     "text": [
      "\r",
      "Epoch 481/600:  80%|████████  | 481/600 [1:45:10<26:29, 13.36s/it, v_num=rp_1, total_loss_train=3.06e+3, kl_local_train=71.9, metric_mi|status_control_train=0.174, metric_mi|zone_train=0.175, metric_mi|time_cat_train=0.133, metric_mi|mouse_train=0.116]"
     ]
    },
    {
     "name": "stdout",
     "output_type": "stream",
     "text": [
      "\r",
      "Epoch 481/600:  80%|████████  | 481/600 [1:45:10<26:29, 13.36s/it, v_num=rp_1, total_loss_train=3.06e+3, kl_local_train=72.3, metric_mi|status_control_train=0.178, metric_mi|zone_train=0.175, metric_mi|time_cat_train=0.131, metric_mi|mouse_train=0.115]"
     ]
    },
    {
     "name": "stdout",
     "output_type": "stream",
     "text": [
      "\r",
      "Epoch 482/600:  80%|████████  | 481/600 [1:45:10<26:29, 13.36s/it, v_num=rp_1, total_loss_train=3.06e+3, kl_local_train=72.3, metric_mi|status_control_train=0.178, metric_mi|zone_train=0.175, metric_mi|time_cat_train=0.131, metric_mi|mouse_train=0.115]"
     ]
    },
    {
     "name": "stdout",
     "output_type": "stream",
     "text": [
      "\r",
      "Epoch 482/600:  80%|████████  | 482/600 [1:45:23<25:58, 13.21s/it, v_num=rp_1, total_loss_train=3.06e+3, kl_local_train=72.3, metric_mi|status_control_train=0.178, metric_mi|zone_train=0.175, metric_mi|time_cat_train=0.131, metric_mi|mouse_train=0.115]"
     ]
    },
    {
     "name": "stdout",
     "output_type": "stream",
     "text": [
      "\r",
      "Epoch 482/600:  80%|████████  | 482/600 [1:45:23<25:58, 13.21s/it, v_num=rp_1, total_loss_train=3.06e+3, kl_local_train=72, metric_mi|status_control_train=0.178, metric_mi|zone_train=0.175, metric_mi|time_cat_train=0.131, metric_mi|mouse_train=0.115]  "
     ]
    },
    {
     "name": "stdout",
     "output_type": "stream",
     "text": [
      "\r",
      "Epoch 483/600:  80%|████████  | 482/600 [1:45:23<25:58, 13.21s/it, v_num=rp_1, total_loss_train=3.06e+3, kl_local_train=72, metric_mi|status_control_train=0.178, metric_mi|zone_train=0.175, metric_mi|time_cat_train=0.131, metric_mi|mouse_train=0.115]"
     ]
    },
    {
     "name": "stdout",
     "output_type": "stream",
     "text": [
      "\r",
      "Epoch 483/600:  80%|████████  | 483/600 [1:45:36<25:33, 13.10s/it, v_num=rp_1, total_loss_train=3.06e+3, kl_local_train=72, metric_mi|status_control_train=0.178, metric_mi|zone_train=0.175, metric_mi|time_cat_train=0.131, metric_mi|mouse_train=0.115]"
     ]
    },
    {
     "name": "stdout",
     "output_type": "stream",
     "text": [
      "\r",
      "Epoch 483/600:  80%|████████  | 483/600 [1:45:36<25:33, 13.10s/it, v_num=rp_1, total_loss_train=3.06e+3, kl_local_train=72.1, metric_mi|status_control_train=0.178, metric_mi|zone_train=0.175, metric_mi|time_cat_train=0.131, metric_mi|mouse_train=0.115]"
     ]
    },
    {
     "name": "stdout",
     "output_type": "stream",
     "text": [
      "\r",
      "Epoch 484/600:  80%|████████  | 483/600 [1:45:36<25:33, 13.10s/it, v_num=rp_1, total_loss_train=3.06e+3, kl_local_train=72.1, metric_mi|status_control_train=0.178, metric_mi|zone_train=0.175, metric_mi|time_cat_train=0.131, metric_mi|mouse_train=0.115]"
     ]
    },
    {
     "name": "stdout",
     "output_type": "stream",
     "text": [
      "\r",
      "Epoch 484/600:  81%|████████  | 484/600 [1:45:49<25:12, 13.04s/it, v_num=rp_1, total_loss_train=3.06e+3, kl_local_train=72.1, metric_mi|status_control_train=0.178, metric_mi|zone_train=0.175, metric_mi|time_cat_train=0.131, metric_mi|mouse_train=0.115]"
     ]
    },
    {
     "name": "stdout",
     "output_type": "stream",
     "text": [
      "\r",
      "Epoch 484/600:  81%|████████  | 484/600 [1:45:49<25:12, 13.04s/it, v_num=rp_1, total_loss_train=3.06e+3, kl_local_train=72.1, metric_mi|status_control_train=0.178, metric_mi|zone_train=0.175, metric_mi|time_cat_train=0.131, metric_mi|mouse_train=0.115]"
     ]
    },
    {
     "name": "stdout",
     "output_type": "stream",
     "text": [
      "\r",
      "Epoch 485/600:  81%|████████  | 484/600 [1:45:49<25:12, 13.04s/it, v_num=rp_1, total_loss_train=3.06e+3, kl_local_train=72.1, metric_mi|status_control_train=0.178, metric_mi|zone_train=0.175, metric_mi|time_cat_train=0.131, metric_mi|mouse_train=0.115]"
     ]
    },
    {
     "name": "stdout",
     "output_type": "stream",
     "text": [
      "\r",
      "Epoch 485/600:  81%|████████  | 485/600 [1:46:02<24:53, 12.99s/it, v_num=rp_1, total_loss_train=3.06e+3, kl_local_train=72.1, metric_mi|status_control_train=0.178, metric_mi|zone_train=0.175, metric_mi|time_cat_train=0.131, metric_mi|mouse_train=0.115]"
     ]
    },
    {
     "name": "stdout",
     "output_type": "stream",
     "text": [
      "\r",
      "Epoch 485/600:  81%|████████  | 485/600 [1:46:02<24:53, 12.99s/it, v_num=rp_1, total_loss_train=3.06e+3, kl_local_train=71.9, metric_mi|status_control_train=0.178, metric_mi|zone_train=0.175, metric_mi|time_cat_train=0.131, metric_mi|mouse_train=0.115]"
     ]
    },
    {
     "name": "stdout",
     "output_type": "stream",
     "text": [
      "\r",
      "Epoch 486/600:  81%|████████  | 485/600 [1:46:03<24:53, 12.99s/it, v_num=rp_1, total_loss_train=3.06e+3, kl_local_train=71.9, metric_mi|status_control_train=0.178, metric_mi|zone_train=0.175, metric_mi|time_cat_train=0.131, metric_mi|mouse_train=0.115]"
     ]
    },
    {
     "name": "stdout",
     "output_type": "stream",
     "text": [
      "\r",
      "Epoch 486/600:  81%|████████  | 486/600 [1:46:16<25:22, 13.35s/it, v_num=rp_1, total_loss_train=3.06e+3, kl_local_train=71.9, metric_mi|status_control_train=0.178, metric_mi|zone_train=0.175, metric_mi|time_cat_train=0.131, metric_mi|mouse_train=0.115]"
     ]
    },
    {
     "name": "stdout",
     "output_type": "stream",
     "text": [
      "\r",
      "Epoch 486/600:  81%|████████  | 486/600 [1:46:16<25:22, 13.35s/it, v_num=rp_1, total_loss_train=3.06e+3, kl_local_train=71.8, metric_mi|status_control_train=0.176, metric_mi|zone_train=0.175, metric_mi|time_cat_train=0.131, metric_mi|mouse_train=0.115]"
     ]
    },
    {
     "name": "stdout",
     "output_type": "stream",
     "text": [
      "\r",
      "Epoch 487/600:  81%|████████  | 486/600 [1:46:16<25:22, 13.35s/it, v_num=rp_1, total_loss_train=3.06e+3, kl_local_train=71.8, metric_mi|status_control_train=0.176, metric_mi|zone_train=0.175, metric_mi|time_cat_train=0.131, metric_mi|mouse_train=0.115]"
     ]
    },
    {
     "name": "stdout",
     "output_type": "stream",
     "text": [
      "\r",
      "Epoch 487/600:  81%|████████  | 487/600 [1:46:29<24:52, 13.21s/it, v_num=rp_1, total_loss_train=3.06e+3, kl_local_train=71.8, metric_mi|status_control_train=0.176, metric_mi|zone_train=0.175, metric_mi|time_cat_train=0.131, metric_mi|mouse_train=0.115]"
     ]
    },
    {
     "name": "stdout",
     "output_type": "stream",
     "text": [
      "\r",
      "Epoch 487/600:  81%|████████  | 487/600 [1:46:29<24:52, 13.21s/it, v_num=rp_1, total_loss_train=3.06e+3, kl_local_train=71.8, metric_mi|status_control_train=0.176, metric_mi|zone_train=0.175, metric_mi|time_cat_train=0.131, metric_mi|mouse_train=0.115]"
     ]
    },
    {
     "name": "stdout",
     "output_type": "stream",
     "text": [
      "\r",
      "Epoch 488/600:  81%|████████  | 487/600 [1:46:29<24:52, 13.21s/it, v_num=rp_1, total_loss_train=3.06e+3, kl_local_train=71.8, metric_mi|status_control_train=0.176, metric_mi|zone_train=0.175, metric_mi|time_cat_train=0.131, metric_mi|mouse_train=0.115]"
     ]
    },
    {
     "name": "stdout",
     "output_type": "stream",
     "text": [
      "\r",
      "Epoch 488/600:  81%|████████▏ | 488/600 [1:46:41<24:17, 13.01s/it, v_num=rp_1, total_loss_train=3.06e+3, kl_local_train=71.8, metric_mi|status_control_train=0.176, metric_mi|zone_train=0.175, metric_mi|time_cat_train=0.131, metric_mi|mouse_train=0.115]"
     ]
    },
    {
     "name": "stdout",
     "output_type": "stream",
     "text": [
      "\r",
      "Epoch 488/600:  81%|████████▏ | 488/600 [1:46:41<24:17, 13.01s/it, v_num=rp_1, total_loss_train=3.06e+3, kl_local_train=72, metric_mi|status_control_train=0.176, metric_mi|zone_train=0.175, metric_mi|time_cat_train=0.131, metric_mi|mouse_train=0.115]  "
     ]
    },
    {
     "name": "stdout",
     "output_type": "stream",
     "text": [
      "\r",
      "Epoch 489/600:  81%|████████▏ | 488/600 [1:46:41<24:17, 13.01s/it, v_num=rp_1, total_loss_train=3.06e+3, kl_local_train=72, metric_mi|status_control_train=0.176, metric_mi|zone_train=0.175, metric_mi|time_cat_train=0.131, metric_mi|mouse_train=0.115]"
     ]
    },
    {
     "name": "stdout",
     "output_type": "stream",
     "text": [
      "\r",
      "Epoch 489/600:  82%|████████▏ | 489/600 [1:46:54<24:01, 12.98s/it, v_num=rp_1, total_loss_train=3.06e+3, kl_local_train=72, metric_mi|status_control_train=0.176, metric_mi|zone_train=0.175, metric_mi|time_cat_train=0.131, metric_mi|mouse_train=0.115]"
     ]
    },
    {
     "name": "stdout",
     "output_type": "stream",
     "text": [
      "\r",
      "Epoch 489/600:  82%|████████▏ | 489/600 [1:46:54<24:01, 12.98s/it, v_num=rp_1, total_loss_train=3.06e+3, kl_local_train=71.7, metric_mi|status_control_train=0.176, metric_mi|zone_train=0.175, metric_mi|time_cat_train=0.131, metric_mi|mouse_train=0.115]"
     ]
    },
    {
     "name": "stdout",
     "output_type": "stream",
     "text": [
      "\r",
      "Epoch 490/600:  82%|████████▏ | 489/600 [1:46:54<24:01, 12.98s/it, v_num=rp_1, total_loss_train=3.06e+3, kl_local_train=71.7, metric_mi|status_control_train=0.176, metric_mi|zone_train=0.175, metric_mi|time_cat_train=0.131, metric_mi|mouse_train=0.115]"
     ]
    },
    {
     "name": "stdout",
     "output_type": "stream",
     "text": [
      "\r",
      "Epoch 490/600:  82%|████████▏ | 490/600 [1:47:07<23:44, 12.95s/it, v_num=rp_1, total_loss_train=3.06e+3, kl_local_train=71.7, metric_mi|status_control_train=0.176, metric_mi|zone_train=0.175, metric_mi|time_cat_train=0.131, metric_mi|mouse_train=0.115]"
     ]
    },
    {
     "name": "stdout",
     "output_type": "stream",
     "text": [
      "\r",
      "Epoch 490/600:  82%|████████▏ | 490/600 [1:47:07<23:44, 12.95s/it, v_num=rp_1, total_loss_train=3.06e+3, kl_local_train=71.4, metric_mi|status_control_train=0.176, metric_mi|zone_train=0.175, metric_mi|time_cat_train=0.131, metric_mi|mouse_train=0.115]"
     ]
    },
    {
     "name": "stdout",
     "output_type": "stream",
     "text": [
      "\r",
      "Epoch 491/600:  82%|████████▏ | 490/600 [1:47:08<23:44, 12.95s/it, v_num=rp_1, total_loss_train=3.06e+3, kl_local_train=71.4, metric_mi|status_control_train=0.176, metric_mi|zone_train=0.175, metric_mi|time_cat_train=0.131, metric_mi|mouse_train=0.115]"
     ]
    },
    {
     "name": "stdout",
     "output_type": "stream",
     "text": [
      "\r",
      "Epoch 491/600:  82%|████████▏ | 491/600 [1:47:21<24:14, 13.34s/it, v_num=rp_1, total_loss_train=3.06e+3, kl_local_train=71.4, metric_mi|status_control_train=0.176, metric_mi|zone_train=0.175, metric_mi|time_cat_train=0.131, metric_mi|mouse_train=0.115]"
     ]
    },
    {
     "name": "stdout",
     "output_type": "stream",
     "text": [
      "\r",
      "Epoch 491/600:  82%|████████▏ | 491/600 [1:47:21<24:14, 13.34s/it, v_num=rp_1, total_loss_train=3.06e+3, kl_local_train=71.8, metric_mi|status_control_train=0.177, metric_mi|zone_train=0.175, metric_mi|time_cat_train=0.133, metric_mi|mouse_train=0.116]"
     ]
    },
    {
     "name": "stdout",
     "output_type": "stream",
     "text": [
      "\r",
      "Epoch 492/600:  82%|████████▏ | 491/600 [1:47:21<24:14, 13.34s/it, v_num=rp_1, total_loss_train=3.06e+3, kl_local_train=71.8, metric_mi|status_control_train=0.177, metric_mi|zone_train=0.175, metric_mi|time_cat_train=0.133, metric_mi|mouse_train=0.116]"
     ]
    },
    {
     "name": "stdout",
     "output_type": "stream",
     "text": [
      "\r",
      "Epoch 492/600:  82%|████████▏ | 492/600 [1:47:34<23:47, 13.21s/it, v_num=rp_1, total_loss_train=3.06e+3, kl_local_train=71.8, metric_mi|status_control_train=0.177, metric_mi|zone_train=0.175, metric_mi|time_cat_train=0.133, metric_mi|mouse_train=0.116]"
     ]
    },
    {
     "name": "stdout",
     "output_type": "stream",
     "text": [
      "\r",
      "Epoch 492/600:  82%|████████▏ | 492/600 [1:47:34<23:47, 13.21s/it, v_num=rp_1, total_loss_train=3.06e+3, kl_local_train=71.4, metric_mi|status_control_train=0.177, metric_mi|zone_train=0.175, metric_mi|time_cat_train=0.133, metric_mi|mouse_train=0.116]"
     ]
    },
    {
     "name": "stdout",
     "output_type": "stream",
     "text": [
      "\r",
      "Epoch 493/600:  82%|████████▏ | 492/600 [1:47:34<23:47, 13.21s/it, v_num=rp_1, total_loss_train=3.06e+3, kl_local_train=71.4, metric_mi|status_control_train=0.177, metric_mi|zone_train=0.175, metric_mi|time_cat_train=0.133, metric_mi|mouse_train=0.116]"
     ]
    },
    {
     "name": "stdout",
     "output_type": "stream",
     "text": [
      "\r",
      "Epoch 493/600:  82%|████████▏ | 493/600 [1:47:47<23:19, 13.08s/it, v_num=rp_1, total_loss_train=3.06e+3, kl_local_train=71.4, metric_mi|status_control_train=0.177, metric_mi|zone_train=0.175, metric_mi|time_cat_train=0.133, metric_mi|mouse_train=0.116]"
     ]
    },
    {
     "name": "stdout",
     "output_type": "stream",
     "text": [
      "\r",
      "Epoch 493/600:  82%|████████▏ | 493/600 [1:47:47<23:19, 13.08s/it, v_num=rp_1, total_loss_train=3.06e+3, kl_local_train=71.4, metric_mi|status_control_train=0.177, metric_mi|zone_train=0.175, metric_mi|time_cat_train=0.133, metric_mi|mouse_train=0.116]"
     ]
    },
    {
     "name": "stdout",
     "output_type": "stream",
     "text": [
      "\r",
      "Epoch 494/600:  82%|████████▏ | 493/600 [1:47:47<23:19, 13.08s/it, v_num=rp_1, total_loss_train=3.06e+3, kl_local_train=71.4, metric_mi|status_control_train=0.177, metric_mi|zone_train=0.175, metric_mi|time_cat_train=0.133, metric_mi|mouse_train=0.116]"
     ]
    },
    {
     "name": "stdout",
     "output_type": "stream",
     "text": [
      "\r",
      "Epoch 494/600:  82%|████████▏ | 494/600 [1:47:59<22:48, 12.91s/it, v_num=rp_1, total_loss_train=3.06e+3, kl_local_train=71.4, metric_mi|status_control_train=0.177, metric_mi|zone_train=0.175, metric_mi|time_cat_train=0.133, metric_mi|mouse_train=0.116]"
     ]
    },
    {
     "name": "stdout",
     "output_type": "stream",
     "text": [
      "\r",
      "Epoch 494/600:  82%|████████▏ | 494/600 [1:47:59<22:48, 12.91s/it, v_num=rp_1, total_loss_train=3.06e+3, kl_local_train=71.3, metric_mi|status_control_train=0.177, metric_mi|zone_train=0.175, metric_mi|time_cat_train=0.133, metric_mi|mouse_train=0.116]"
     ]
    },
    {
     "name": "stdout",
     "output_type": "stream",
     "text": [
      "\r",
      "Epoch 495/600:  82%|████████▏ | 494/600 [1:47:59<22:48, 12.91s/it, v_num=rp_1, total_loss_train=3.06e+3, kl_local_train=71.3, metric_mi|status_control_train=0.177, metric_mi|zone_train=0.175, metric_mi|time_cat_train=0.133, metric_mi|mouse_train=0.116]"
     ]
    },
    {
     "name": "stdout",
     "output_type": "stream",
     "text": [
      "\r",
      "Epoch 495/600:  82%|████████▎ | 495/600 [1:48:12<22:20, 12.77s/it, v_num=rp_1, total_loss_train=3.06e+3, kl_local_train=71.3, metric_mi|status_control_train=0.177, metric_mi|zone_train=0.175, metric_mi|time_cat_train=0.133, metric_mi|mouse_train=0.116]"
     ]
    },
    {
     "name": "stdout",
     "output_type": "stream",
     "text": [
      "\r",
      "Epoch 495/600:  82%|████████▎ | 495/600 [1:48:12<22:20, 12.77s/it, v_num=rp_1, total_loss_train=3.06e+3, kl_local_train=71.4, metric_mi|status_control_train=0.177, metric_mi|zone_train=0.175, metric_mi|time_cat_train=0.133, metric_mi|mouse_train=0.116]"
     ]
    },
    {
     "name": "stdout",
     "output_type": "stream",
     "text": [
      "\r",
      "Epoch 496/600:  82%|████████▎ | 495/600 [1:48:13<22:20, 12.77s/it, v_num=rp_1, total_loss_train=3.06e+3, kl_local_train=71.4, metric_mi|status_control_train=0.177, metric_mi|zone_train=0.175, metric_mi|time_cat_train=0.133, metric_mi|mouse_train=0.116]"
     ]
    },
    {
     "name": "stdout",
     "output_type": "stream",
     "text": [
      "\r",
      "Epoch 496/600:  83%|████████▎ | 496/600 [1:48:26<22:40, 13.08s/it, v_num=rp_1, total_loss_train=3.06e+3, kl_local_train=71.4, metric_mi|status_control_train=0.177, metric_mi|zone_train=0.175, metric_mi|time_cat_train=0.133, metric_mi|mouse_train=0.116]"
     ]
    },
    {
     "name": "stdout",
     "output_type": "stream",
     "text": [
      "\r",
      "Epoch 496/600:  83%|████████▎ | 496/600 [1:48:26<22:40, 13.08s/it, v_num=rp_1, total_loss_train=3.06e+3, kl_local_train=71.1, metric_mi|status_control_train=0.177, metric_mi|zone_train=0.176, metric_mi|time_cat_train=0.133, metric_mi|mouse_train=0.116]"
     ]
    },
    {
     "name": "stdout",
     "output_type": "stream",
     "text": [
      "\r",
      "Epoch 497/600:  83%|████████▎ | 496/600 [1:48:26<22:40, 13.08s/it, v_num=rp_1, total_loss_train=3.06e+3, kl_local_train=71.1, metric_mi|status_control_train=0.177, metric_mi|zone_train=0.176, metric_mi|time_cat_train=0.133, metric_mi|mouse_train=0.116]"
     ]
    },
    {
     "name": "stdout",
     "output_type": "stream",
     "text": [
      "\r",
      "Epoch 497/600:  83%|████████▎ | 497/600 [1:48:38<22:12, 12.94s/it, v_num=rp_1, total_loss_train=3.06e+3, kl_local_train=71.1, metric_mi|status_control_train=0.177, metric_mi|zone_train=0.176, metric_mi|time_cat_train=0.133, metric_mi|mouse_train=0.116]"
     ]
    },
    {
     "name": "stdout",
     "output_type": "stream",
     "text": [
      "\r",
      "Epoch 497/600:  83%|████████▎ | 497/600 [1:48:38<22:12, 12.94s/it, v_num=rp_1, total_loss_train=3.06e+3, kl_local_train=70.9, metric_mi|status_control_train=0.177, metric_mi|zone_train=0.176, metric_mi|time_cat_train=0.133, metric_mi|mouse_train=0.116]"
     ]
    },
    {
     "name": "stdout",
     "output_type": "stream",
     "text": [
      "\r",
      "Epoch 498/600:  83%|████████▎ | 497/600 [1:48:38<22:12, 12.94s/it, v_num=rp_1, total_loss_train=3.06e+3, kl_local_train=70.9, metric_mi|status_control_train=0.177, metric_mi|zone_train=0.176, metric_mi|time_cat_train=0.133, metric_mi|mouse_train=0.116]"
     ]
    },
    {
     "name": "stdout",
     "output_type": "stream",
     "text": [
      "\r",
      "Epoch 498/600:  83%|████████▎ | 498/600 [1:48:51<21:47, 12.82s/it, v_num=rp_1, total_loss_train=3.06e+3, kl_local_train=70.9, metric_mi|status_control_train=0.177, metric_mi|zone_train=0.176, metric_mi|time_cat_train=0.133, metric_mi|mouse_train=0.116]"
     ]
    },
    {
     "name": "stdout",
     "output_type": "stream",
     "text": [
      "\r",
      "Epoch 498/600:  83%|████████▎ | 498/600 [1:48:51<21:47, 12.82s/it, v_num=rp_1, total_loss_train=3.06e+3, kl_local_train=71, metric_mi|status_control_train=0.177, metric_mi|zone_train=0.176, metric_mi|time_cat_train=0.133, metric_mi|mouse_train=0.116]  "
     ]
    },
    {
     "name": "stdout",
     "output_type": "stream",
     "text": [
      "\r",
      "Epoch 499/600:  83%|████████▎ | 498/600 [1:48:51<21:47, 12.82s/it, v_num=rp_1, total_loss_train=3.06e+3, kl_local_train=71, metric_mi|status_control_train=0.177, metric_mi|zone_train=0.176, metric_mi|time_cat_train=0.133, metric_mi|mouse_train=0.116]"
     ]
    },
    {
     "name": "stdout",
     "output_type": "stream",
     "text": [
      "\r",
      "Epoch 499/600:  83%|████████▎ | 499/600 [1:49:03<21:27, 12.74s/it, v_num=rp_1, total_loss_train=3.06e+3, kl_local_train=71, metric_mi|status_control_train=0.177, metric_mi|zone_train=0.176, metric_mi|time_cat_train=0.133, metric_mi|mouse_train=0.116]"
     ]
    },
    {
     "name": "stdout",
     "output_type": "stream",
     "text": [
      "\r",
      "Epoch 499/600:  83%|████████▎ | 499/600 [1:49:03<21:27, 12.74s/it, v_num=rp_1, total_loss_train=3.06e+3, kl_local_train=70.8, metric_mi|status_control_train=0.177, metric_mi|zone_train=0.176, metric_mi|time_cat_train=0.133, metric_mi|mouse_train=0.116]"
     ]
    },
    {
     "name": "stdout",
     "output_type": "stream",
     "text": [
      "\r",
      "Epoch 500/600:  83%|████████▎ | 499/600 [1:49:03<21:27, 12.74s/it, v_num=rp_1, total_loss_train=3.06e+3, kl_local_train=70.8, metric_mi|status_control_train=0.177, metric_mi|zone_train=0.176, metric_mi|time_cat_train=0.133, metric_mi|mouse_train=0.116]"
     ]
    },
    {
     "name": "stdout",
     "output_type": "stream",
     "text": [
      "\r",
      "Epoch 500/600:  83%|████████▎ | 500/600 [1:49:16<21:07, 12.68s/it, v_num=rp_1, total_loss_train=3.06e+3, kl_local_train=70.8, metric_mi|status_control_train=0.177, metric_mi|zone_train=0.176, metric_mi|time_cat_train=0.133, metric_mi|mouse_train=0.116]"
     ]
    },
    {
     "name": "stdout",
     "output_type": "stream",
     "text": [
      "\r",
      "Epoch 500/600:  83%|████████▎ | 500/600 [1:49:16<21:07, 12.68s/it, v_num=rp_1, total_loss_train=3.06e+3, kl_local_train=71.1, metric_mi|status_control_train=0.177, metric_mi|zone_train=0.176, metric_mi|time_cat_train=0.133, metric_mi|mouse_train=0.116]"
     ]
    },
    {
     "name": "stdout",
     "output_type": "stream",
     "text": [
      "\r",
      "Epoch 501/600:  83%|████████▎ | 500/600 [1:49:17<21:07, 12.68s/it, v_num=rp_1, total_loss_train=3.06e+3, kl_local_train=71.1, metric_mi|status_control_train=0.177, metric_mi|zone_train=0.176, metric_mi|time_cat_train=0.133, metric_mi|mouse_train=0.116]"
     ]
    },
    {
     "name": "stdout",
     "output_type": "stream",
     "text": [
      "\r",
      "Epoch 501/600:  84%|████████▎ | 501/600 [1:49:29<21:20, 12.94s/it, v_num=rp_1, total_loss_train=3.06e+3, kl_local_train=71.1, metric_mi|status_control_train=0.177, metric_mi|zone_train=0.176, metric_mi|time_cat_train=0.133, metric_mi|mouse_train=0.116]"
     ]
    },
    {
     "name": "stdout",
     "output_type": "stream",
     "text": [
      "\r",
      "Epoch 501/600:  84%|████████▎ | 501/600 [1:49:29<21:20, 12.94s/it, v_num=rp_1, total_loss_train=3.06e+3, kl_local_train=70.9, metric_mi|status_control_train=0.172, metric_mi|zone_train=0.176, metric_mi|time_cat_train=0.131, metric_mi|mouse_train=0.115]"
     ]
    },
    {
     "name": "stdout",
     "output_type": "stream",
     "text": [
      "\r",
      "Epoch 502/600:  84%|████████▎ | 501/600 [1:49:29<21:20, 12.94s/it, v_num=rp_1, total_loss_train=3.06e+3, kl_local_train=70.9, metric_mi|status_control_train=0.172, metric_mi|zone_train=0.176, metric_mi|time_cat_train=0.131, metric_mi|mouse_train=0.115]"
     ]
    },
    {
     "name": "stdout",
     "output_type": "stream",
     "text": [
      "\r",
      "Epoch 502/600:  84%|████████▎ | 502/600 [1:49:42<20:57, 12.83s/it, v_num=rp_1, total_loss_train=3.06e+3, kl_local_train=70.9, metric_mi|status_control_train=0.172, metric_mi|zone_train=0.176, metric_mi|time_cat_train=0.131, metric_mi|mouse_train=0.115]"
     ]
    },
    {
     "name": "stdout",
     "output_type": "stream",
     "text": [
      "\r",
      "Epoch 502/600:  84%|████████▎ | 502/600 [1:49:42<20:57, 12.83s/it, v_num=rp_1, total_loss_train=3.06e+3, kl_local_train=70.8, metric_mi|status_control_train=0.172, metric_mi|zone_train=0.176, metric_mi|time_cat_train=0.131, metric_mi|mouse_train=0.115]"
     ]
    },
    {
     "name": "stdout",
     "output_type": "stream",
     "text": [
      "\r",
      "Epoch 503/600:  84%|████████▎ | 502/600 [1:49:42<20:57, 12.83s/it, v_num=rp_1, total_loss_train=3.06e+3, kl_local_train=70.8, metric_mi|status_control_train=0.172, metric_mi|zone_train=0.176, metric_mi|time_cat_train=0.131, metric_mi|mouse_train=0.115]"
     ]
    },
    {
     "name": "stdout",
     "output_type": "stream",
     "text": [
      "\r",
      "Epoch 503/600:  84%|████████▍ | 503/600 [1:49:55<20:37, 12.76s/it, v_num=rp_1, total_loss_train=3.06e+3, kl_local_train=70.8, metric_mi|status_control_train=0.172, metric_mi|zone_train=0.176, metric_mi|time_cat_train=0.131, metric_mi|mouse_train=0.115]"
     ]
    },
    {
     "name": "stdout",
     "output_type": "stream",
     "text": [
      "\r",
      "Epoch 503/600:  84%|████████▍ | 503/600 [1:49:55<20:37, 12.76s/it, v_num=rp_1, total_loss_train=3.06e+3, kl_local_train=70.7, metric_mi|status_control_train=0.172, metric_mi|zone_train=0.176, metric_mi|time_cat_train=0.131, metric_mi|mouse_train=0.115]"
     ]
    },
    {
     "name": "stdout",
     "output_type": "stream",
     "text": [
      "\r",
      "Epoch 504/600:  84%|████████▍ | 503/600 [1:49:55<20:37, 12.76s/it, v_num=rp_1, total_loss_train=3.06e+3, kl_local_train=70.7, metric_mi|status_control_train=0.172, metric_mi|zone_train=0.176, metric_mi|time_cat_train=0.131, metric_mi|mouse_train=0.115]"
     ]
    },
    {
     "name": "stdout",
     "output_type": "stream",
     "text": [
      "\r",
      "Epoch 504/600:  84%|████████▍ | 504/600 [1:50:07<20:19, 12.70s/it, v_num=rp_1, total_loss_train=3.06e+3, kl_local_train=70.7, metric_mi|status_control_train=0.172, metric_mi|zone_train=0.176, metric_mi|time_cat_train=0.131, metric_mi|mouse_train=0.115]"
     ]
    },
    {
     "name": "stdout",
     "output_type": "stream",
     "text": [
      "\r",
      "Epoch 504/600:  84%|████████▍ | 504/600 [1:50:07<20:19, 12.70s/it, v_num=rp_1, total_loss_train=3.06e+3, kl_local_train=70.7, metric_mi|status_control_train=0.172, metric_mi|zone_train=0.176, metric_mi|time_cat_train=0.131, metric_mi|mouse_train=0.115]"
     ]
    },
    {
     "name": "stdout",
     "output_type": "stream",
     "text": [
      "\r",
      "Epoch 505/600:  84%|████████▍ | 504/600 [1:50:07<20:19, 12.70s/it, v_num=rp_1, total_loss_train=3.06e+3, kl_local_train=70.7, metric_mi|status_control_train=0.172, metric_mi|zone_train=0.176, metric_mi|time_cat_train=0.131, metric_mi|mouse_train=0.115]"
     ]
    },
    {
     "name": "stdout",
     "output_type": "stream",
     "text": [
      "\r",
      "Epoch 505/600:  84%|████████▍ | 505/600 [1:50:20<20:00, 12.64s/it, v_num=rp_1, total_loss_train=3.06e+3, kl_local_train=70.7, metric_mi|status_control_train=0.172, metric_mi|zone_train=0.176, metric_mi|time_cat_train=0.131, metric_mi|mouse_train=0.115]"
     ]
    },
    {
     "name": "stdout",
     "output_type": "stream",
     "text": [
      "\r",
      "Epoch 505/600:  84%|████████▍ | 505/600 [1:50:20<20:00, 12.64s/it, v_num=rp_1, total_loss_train=3.06e+3, kl_local_train=70.2, metric_mi|status_control_train=0.172, metric_mi|zone_train=0.176, metric_mi|time_cat_train=0.131, metric_mi|mouse_train=0.115]"
     ]
    },
    {
     "name": "stdout",
     "output_type": "stream",
     "text": [
      "\r",
      "Epoch 506/600:  84%|████████▍ | 505/600 [1:50:21<20:00, 12.64s/it, v_num=rp_1, total_loss_train=3.06e+3, kl_local_train=70.2, metric_mi|status_control_train=0.172, metric_mi|zone_train=0.176, metric_mi|time_cat_train=0.131, metric_mi|mouse_train=0.115]"
     ]
    },
    {
     "name": "stdout",
     "output_type": "stream",
     "text": [
      "\r",
      "Epoch 506/600:  84%|████████▍ | 506/600 [1:50:34<20:23, 13.01s/it, v_num=rp_1, total_loss_train=3.06e+3, kl_local_train=70.2, metric_mi|status_control_train=0.172, metric_mi|zone_train=0.176, metric_mi|time_cat_train=0.131, metric_mi|mouse_train=0.115]"
     ]
    },
    {
     "name": "stdout",
     "output_type": "stream",
     "text": [
      "\r",
      "Epoch 506/600:  84%|████████▍ | 506/600 [1:50:34<20:23, 13.01s/it, v_num=rp_1, total_loss_train=3.06e+3, kl_local_train=70.5, metric_mi|status_control_train=0.184, metric_mi|zone_train=0.176, metric_mi|time_cat_train=0.134, metric_mi|mouse_train=0.117]"
     ]
    },
    {
     "name": "stdout",
     "output_type": "stream",
     "text": [
      "\r",
      "Epoch 507/600:  84%|████████▍ | 506/600 [1:50:34<20:23, 13.01s/it, v_num=rp_1, total_loss_train=3.06e+3, kl_local_train=70.5, metric_mi|status_control_train=0.184, metric_mi|zone_train=0.176, metric_mi|time_cat_train=0.134, metric_mi|mouse_train=0.117]"
     ]
    },
    {
     "name": "stdout",
     "output_type": "stream",
     "text": [
      "\r",
      "Epoch 507/600:  84%|████████▍ | 507/600 [1:50:46<19:56, 12.87s/it, v_num=rp_1, total_loss_train=3.06e+3, kl_local_train=70.5, metric_mi|status_control_train=0.184, metric_mi|zone_train=0.176, metric_mi|time_cat_train=0.134, metric_mi|mouse_train=0.117]"
     ]
    },
    {
     "name": "stdout",
     "output_type": "stream",
     "text": [
      "\r",
      "Epoch 507/600:  84%|████████▍ | 507/600 [1:50:46<19:56, 12.87s/it, v_num=rp_1, total_loss_train=3.06e+3, kl_local_train=70.4, metric_mi|status_control_train=0.184, metric_mi|zone_train=0.176, metric_mi|time_cat_train=0.134, metric_mi|mouse_train=0.117]"
     ]
    },
    {
     "name": "stdout",
     "output_type": "stream",
     "text": [
      "\r",
      "Epoch 508/600:  84%|████████▍ | 507/600 [1:50:46<19:56, 12.87s/it, v_num=rp_1, total_loss_train=3.06e+3, kl_local_train=70.4, metric_mi|status_control_train=0.184, metric_mi|zone_train=0.176, metric_mi|time_cat_train=0.134, metric_mi|mouse_train=0.117]"
     ]
    },
    {
     "name": "stdout",
     "output_type": "stream",
     "text": [
      "\r",
      "Epoch 508/600:  85%|████████▍ | 508/600 [1:50:59<19:35, 12.77s/it, v_num=rp_1, total_loss_train=3.06e+3, kl_local_train=70.4, metric_mi|status_control_train=0.184, metric_mi|zone_train=0.176, metric_mi|time_cat_train=0.134, metric_mi|mouse_train=0.117]"
     ]
    },
    {
     "name": "stdout",
     "output_type": "stream",
     "text": [
      "\r",
      "Epoch 508/600:  85%|████████▍ | 508/600 [1:50:59<19:35, 12.77s/it, v_num=rp_1, total_loss_train=3.06e+3, kl_local_train=70.5, metric_mi|status_control_train=0.184, metric_mi|zone_train=0.176, metric_mi|time_cat_train=0.134, metric_mi|mouse_train=0.117]"
     ]
    },
    {
     "name": "stdout",
     "output_type": "stream",
     "text": [
      "\r",
      "Epoch 509/600:  85%|████████▍ | 508/600 [1:50:59<19:35, 12.77s/it, v_num=rp_1, total_loss_train=3.06e+3, kl_local_train=70.5, metric_mi|status_control_train=0.184, metric_mi|zone_train=0.176, metric_mi|time_cat_train=0.134, metric_mi|mouse_train=0.117]"
     ]
    },
    {
     "name": "stdout",
     "output_type": "stream",
     "text": [
      "\r",
      "Epoch 509/600:  85%|████████▍ | 509/600 [1:51:11<19:16, 12.70s/it, v_num=rp_1, total_loss_train=3.06e+3, kl_local_train=70.5, metric_mi|status_control_train=0.184, metric_mi|zone_train=0.176, metric_mi|time_cat_train=0.134, metric_mi|mouse_train=0.117]"
     ]
    },
    {
     "name": "stdout",
     "output_type": "stream",
     "text": [
      "\r",
      "Epoch 509/600:  85%|████████▍ | 509/600 [1:51:11<19:16, 12.70s/it, v_num=rp_1, total_loss_train=3.06e+3, kl_local_train=70.2, metric_mi|status_control_train=0.184, metric_mi|zone_train=0.176, metric_mi|time_cat_train=0.134, metric_mi|mouse_train=0.117]"
     ]
    },
    {
     "name": "stdout",
     "output_type": "stream",
     "text": [
      "\r",
      "Epoch 510/600:  85%|████████▍ | 509/600 [1:51:11<19:16, 12.70s/it, v_num=rp_1, total_loss_train=3.06e+3, kl_local_train=70.2, metric_mi|status_control_train=0.184, metric_mi|zone_train=0.176, metric_mi|time_cat_train=0.134, metric_mi|mouse_train=0.117]"
     ]
    },
    {
     "name": "stdout",
     "output_type": "stream",
     "text": [
      "\r",
      "Epoch 510/600:  85%|████████▌ | 510/600 [1:51:24<18:59, 12.66s/it, v_num=rp_1, total_loss_train=3.06e+3, kl_local_train=70.2, metric_mi|status_control_train=0.184, metric_mi|zone_train=0.176, metric_mi|time_cat_train=0.134, metric_mi|mouse_train=0.117]"
     ]
    },
    {
     "name": "stdout",
     "output_type": "stream",
     "text": [
      "\r",
      "Epoch 510/600:  85%|████████▌ | 510/600 [1:51:24<18:59, 12.66s/it, v_num=rp_1, total_loss_train=3.06e+3, kl_local_train=70.5, metric_mi|status_control_train=0.184, metric_mi|zone_train=0.176, metric_mi|time_cat_train=0.134, metric_mi|mouse_train=0.117]"
     ]
    },
    {
     "name": "stdout",
     "output_type": "stream",
     "text": [
      "\r",
      "Epoch 511/600:  85%|████████▌ | 510/600 [1:51:25<18:59, 12.66s/it, v_num=rp_1, total_loss_train=3.06e+3, kl_local_train=70.5, metric_mi|status_control_train=0.184, metric_mi|zone_train=0.176, metric_mi|time_cat_train=0.134, metric_mi|mouse_train=0.117]"
     ]
    },
    {
     "name": "stdout",
     "output_type": "stream",
     "text": [
      "\r",
      "Epoch 511/600:  85%|████████▌ | 511/600 [1:51:38<19:19, 13.02s/it, v_num=rp_1, total_loss_train=3.06e+3, kl_local_train=70.5, metric_mi|status_control_train=0.184, metric_mi|zone_train=0.176, metric_mi|time_cat_train=0.134, metric_mi|mouse_train=0.117]"
     ]
    },
    {
     "name": "stdout",
     "output_type": "stream",
     "text": [
      "\r",
      "Epoch 511/600:  85%|████████▌ | 511/600 [1:51:38<19:19, 13.02s/it, v_num=rp_1, total_loss_train=3.06e+3, kl_local_train=70.1, metric_mi|status_control_train=0.187, metric_mi|zone_train=0.175, metric_mi|time_cat_train=0.139, metric_mi|mouse_train=0.12] "
     ]
    },
    {
     "name": "stdout",
     "output_type": "stream",
     "text": [
      "\r",
      "Epoch 512/600:  85%|████████▌ | 511/600 [1:51:38<19:19, 13.02s/it, v_num=rp_1, total_loss_train=3.06e+3, kl_local_train=70.1, metric_mi|status_control_train=0.187, metric_mi|zone_train=0.175, metric_mi|time_cat_train=0.139, metric_mi|mouse_train=0.12]"
     ]
    },
    {
     "name": "stdout",
     "output_type": "stream",
     "text": [
      "\r",
      "Epoch 512/600:  85%|████████▌ | 512/600 [1:51:50<18:53, 12.88s/it, v_num=rp_1, total_loss_train=3.06e+3, kl_local_train=70.1, metric_mi|status_control_train=0.187, metric_mi|zone_train=0.175, metric_mi|time_cat_train=0.139, metric_mi|mouse_train=0.12]"
     ]
    },
    {
     "name": "stdout",
     "output_type": "stream",
     "text": [
      "\r",
      "Epoch 512/600:  85%|████████▌ | 512/600 [1:51:50<18:53, 12.88s/it, v_num=rp_1, total_loss_train=3.06e+3, kl_local_train=69.9, metric_mi|status_control_train=0.187, metric_mi|zone_train=0.175, metric_mi|time_cat_train=0.139, metric_mi|mouse_train=0.12]"
     ]
    },
    {
     "name": "stdout",
     "output_type": "stream",
     "text": [
      "\r",
      "Epoch 513/600:  85%|████████▌ | 512/600 [1:51:50<18:53, 12.88s/it, v_num=rp_1, total_loss_train=3.06e+3, kl_local_train=69.9, metric_mi|status_control_train=0.187, metric_mi|zone_train=0.175, metric_mi|time_cat_train=0.139, metric_mi|mouse_train=0.12]"
     ]
    },
    {
     "name": "stdout",
     "output_type": "stream",
     "text": [
      "\r",
      "Epoch 513/600:  86%|████████▌ | 513/600 [1:52:03<18:29, 12.75s/it, v_num=rp_1, total_loss_train=3.06e+3, kl_local_train=69.9, metric_mi|status_control_train=0.187, metric_mi|zone_train=0.175, metric_mi|time_cat_train=0.139, metric_mi|mouse_train=0.12]"
     ]
    },
    {
     "name": "stdout",
     "output_type": "stream",
     "text": [
      "\r",
      "Epoch 513/600:  86%|████████▌ | 513/600 [1:52:03<18:29, 12.75s/it, v_num=rp_1, total_loss_train=3.06e+3, kl_local_train=70.3, metric_mi|status_control_train=0.187, metric_mi|zone_train=0.175, metric_mi|time_cat_train=0.139, metric_mi|mouse_train=0.12]"
     ]
    },
    {
     "name": "stdout",
     "output_type": "stream",
     "text": [
      "\r",
      "Epoch 514/600:  86%|████████▌ | 513/600 [1:52:03<18:29, 12.75s/it, v_num=rp_1, total_loss_train=3.06e+3, kl_local_train=70.3, metric_mi|status_control_train=0.187, metric_mi|zone_train=0.175, metric_mi|time_cat_train=0.139, metric_mi|mouse_train=0.12]"
     ]
    },
    {
     "name": "stdout",
     "output_type": "stream",
     "text": [
      "\r",
      "Epoch 514/600:  86%|████████▌ | 514/600 [1:52:15<18:02, 12.59s/it, v_num=rp_1, total_loss_train=3.06e+3, kl_local_train=70.3, metric_mi|status_control_train=0.187, metric_mi|zone_train=0.175, metric_mi|time_cat_train=0.139, metric_mi|mouse_train=0.12]"
     ]
    },
    {
     "name": "stdout",
     "output_type": "stream",
     "text": [
      "\r",
      "Epoch 514/600:  86%|████████▌ | 514/600 [1:52:15<18:02, 12.59s/it, v_num=rp_1, total_loss_train=3.06e+3, kl_local_train=70.3, metric_mi|status_control_train=0.187, metric_mi|zone_train=0.175, metric_mi|time_cat_train=0.139, metric_mi|mouse_train=0.12]"
     ]
    },
    {
     "name": "stdout",
     "output_type": "stream",
     "text": [
      "\r",
      "Epoch 515/600:  86%|████████▌ | 514/600 [1:52:15<18:02, 12.59s/it, v_num=rp_1, total_loss_train=3.06e+3, kl_local_train=70.3, metric_mi|status_control_train=0.187, metric_mi|zone_train=0.175, metric_mi|time_cat_train=0.139, metric_mi|mouse_train=0.12]"
     ]
    },
    {
     "name": "stdout",
     "output_type": "stream",
     "text": [
      "\r",
      "Epoch 515/600:  86%|████████▌ | 515/600 [1:52:27<17:47, 12.56s/it, v_num=rp_1, total_loss_train=3.06e+3, kl_local_train=70.3, metric_mi|status_control_train=0.187, metric_mi|zone_train=0.175, metric_mi|time_cat_train=0.139, metric_mi|mouse_train=0.12]"
     ]
    },
    {
     "name": "stdout",
     "output_type": "stream",
     "text": [
      "\r",
      "Epoch 515/600:  86%|████████▌ | 515/600 [1:52:27<17:47, 12.56s/it, v_num=rp_1, total_loss_train=3.06e+3, kl_local_train=70.1, metric_mi|status_control_train=0.187, metric_mi|zone_train=0.175, metric_mi|time_cat_train=0.139, metric_mi|mouse_train=0.12]"
     ]
    },
    {
     "name": "stdout",
     "output_type": "stream",
     "text": [
      "\r",
      "Epoch 516/600:  86%|████████▌ | 515/600 [1:52:29<17:47, 12.56s/it, v_num=rp_1, total_loss_train=3.06e+3, kl_local_train=70.1, metric_mi|status_control_train=0.187, metric_mi|zone_train=0.175, metric_mi|time_cat_train=0.139, metric_mi|mouse_train=0.12]"
     ]
    },
    {
     "name": "stdout",
     "output_type": "stream",
     "text": [
      "\r",
      "Epoch 516/600:  86%|████████▌ | 516/600 [1:52:41<18:07, 12.94s/it, v_num=rp_1, total_loss_train=3.06e+3, kl_local_train=70.1, metric_mi|status_control_train=0.187, metric_mi|zone_train=0.175, metric_mi|time_cat_train=0.139, metric_mi|mouse_train=0.12]"
     ]
    },
    {
     "name": "stdout",
     "output_type": "stream",
     "text": [
      "\r",
      "Epoch 516/600:  86%|████████▌ | 516/600 [1:52:41<18:07, 12.94s/it, v_num=rp_1, total_loss_train=3.06e+3, kl_local_train=69.9, metric_mi|status_control_train=0.184, metric_mi|zone_train=0.176, metric_mi|time_cat_train=0.142, metric_mi|mouse_train=0.122]"
     ]
    },
    {
     "name": "stdout",
     "output_type": "stream",
     "text": [
      "\r",
      "Epoch 517/600:  86%|████████▌ | 516/600 [1:52:41<18:07, 12.94s/it, v_num=rp_1, total_loss_train=3.06e+3, kl_local_train=69.9, metric_mi|status_control_train=0.184, metric_mi|zone_train=0.176, metric_mi|time_cat_train=0.142, metric_mi|mouse_train=0.122]"
     ]
    },
    {
     "name": "stdout",
     "output_type": "stream",
     "text": [
      "\r",
      "Epoch 517/600:  86%|████████▌ | 517/600 [1:52:54<17:44, 12.83s/it, v_num=rp_1, total_loss_train=3.06e+3, kl_local_train=69.9, metric_mi|status_control_train=0.184, metric_mi|zone_train=0.176, metric_mi|time_cat_train=0.142, metric_mi|mouse_train=0.122]"
     ]
    },
    {
     "name": "stdout",
     "output_type": "stream",
     "text": [
      "\r",
      "Epoch 517/600:  86%|████████▌ | 517/600 [1:52:54<17:44, 12.83s/it, v_num=rp_1, total_loss_train=3.06e+3, kl_local_train=70.2, metric_mi|status_control_train=0.184, metric_mi|zone_train=0.176, metric_mi|time_cat_train=0.142, metric_mi|mouse_train=0.122]"
     ]
    },
    {
     "name": "stdout",
     "output_type": "stream",
     "text": [
      "\r",
      "Epoch 518/600:  86%|████████▌ | 517/600 [1:52:54<17:44, 12.83s/it, v_num=rp_1, total_loss_train=3.06e+3, kl_local_train=70.2, metric_mi|status_control_train=0.184, metric_mi|zone_train=0.176, metric_mi|time_cat_train=0.142, metric_mi|mouse_train=0.122]"
     ]
    },
    {
     "name": "stdout",
     "output_type": "stream",
     "text": [
      "\r",
      "Epoch 518/600:  86%|████████▋ | 518/600 [1:53:06<17:20, 12.69s/it, v_num=rp_1, total_loss_train=3.06e+3, kl_local_train=70.2, metric_mi|status_control_train=0.184, metric_mi|zone_train=0.176, metric_mi|time_cat_train=0.142, metric_mi|mouse_train=0.122]"
     ]
    },
    {
     "name": "stdout",
     "output_type": "stream",
     "text": [
      "\r",
      "Epoch 518/600:  86%|████████▋ | 518/600 [1:53:06<17:20, 12.69s/it, v_num=rp_1, total_loss_train=3.06e+3, kl_local_train=69.8, metric_mi|status_control_train=0.184, metric_mi|zone_train=0.176, metric_mi|time_cat_train=0.142, metric_mi|mouse_train=0.122]"
     ]
    },
    {
     "name": "stdout",
     "output_type": "stream",
     "text": [
      "\r",
      "Epoch 519/600:  86%|████████▋ | 518/600 [1:53:06<17:20, 12.69s/it, v_num=rp_1, total_loss_train=3.06e+3, kl_local_train=69.8, metric_mi|status_control_train=0.184, metric_mi|zone_train=0.176, metric_mi|time_cat_train=0.142, metric_mi|mouse_train=0.122]"
     ]
    },
    {
     "name": "stdout",
     "output_type": "stream",
     "text": [
      "\r",
      "Epoch 519/600:  86%|████████▋ | 519/600 [1:53:19<17:09, 12.72s/it, v_num=rp_1, total_loss_train=3.06e+3, kl_local_train=69.8, metric_mi|status_control_train=0.184, metric_mi|zone_train=0.176, metric_mi|time_cat_train=0.142, metric_mi|mouse_train=0.122]"
     ]
    },
    {
     "name": "stdout",
     "output_type": "stream",
     "text": [
      "\r",
      "Epoch 519/600:  86%|████████▋ | 519/600 [1:53:19<17:09, 12.72s/it, v_num=rp_1, total_loss_train=3.06e+3, kl_local_train=70.1, metric_mi|status_control_train=0.184, metric_mi|zone_train=0.176, metric_mi|time_cat_train=0.142, metric_mi|mouse_train=0.122]"
     ]
    },
    {
     "name": "stdout",
     "output_type": "stream",
     "text": [
      "\r",
      "Epoch 520/600:  86%|████████▋ | 519/600 [1:53:19<17:09, 12.72s/it, v_num=rp_1, total_loss_train=3.06e+3, kl_local_train=70.1, metric_mi|status_control_train=0.184, metric_mi|zone_train=0.176, metric_mi|time_cat_train=0.142, metric_mi|mouse_train=0.122]"
     ]
    },
    {
     "name": "stdout",
     "output_type": "stream",
     "text": [
      "\r",
      "Epoch 520/600:  87%|████████▋ | 520/600 [1:53:31<16:43, 12.54s/it, v_num=rp_1, total_loss_train=3.06e+3, kl_local_train=70.1, metric_mi|status_control_train=0.184, metric_mi|zone_train=0.176, metric_mi|time_cat_train=0.142, metric_mi|mouse_train=0.122]"
     ]
    },
    {
     "name": "stdout",
     "output_type": "stream",
     "text": [
      "\r",
      "Epoch 520/600:  87%|████████▋ | 520/600 [1:53:31<16:43, 12.54s/it, v_num=rp_1, total_loss_train=3.06e+3, kl_local_train=69.6, metric_mi|status_control_train=0.184, metric_mi|zone_train=0.176, metric_mi|time_cat_train=0.142, metric_mi|mouse_train=0.122]"
     ]
    },
    {
     "name": "stdout",
     "output_type": "stream",
     "text": [
      "\r",
      "Epoch 521/600:  87%|████████▋ | 520/600 [1:53:32<16:43, 12.54s/it, v_num=rp_1, total_loss_train=3.06e+3, kl_local_train=69.6, metric_mi|status_control_train=0.184, metric_mi|zone_train=0.176, metric_mi|time_cat_train=0.142, metric_mi|mouse_train=0.122]"
     ]
    },
    {
     "name": "stdout",
     "output_type": "stream",
     "text": [
      "\r",
      "Epoch 521/600:  87%|████████▋ | 521/600 [1:53:45<17:03, 12.96s/it, v_num=rp_1, total_loss_train=3.06e+3, kl_local_train=69.6, metric_mi|status_control_train=0.184, metric_mi|zone_train=0.176, metric_mi|time_cat_train=0.142, metric_mi|mouse_train=0.122]"
     ]
    },
    {
     "name": "stdout",
     "output_type": "stream",
     "text": [
      "\r",
      "Epoch 521/600:  87%|████████▋ | 521/600 [1:53:45<17:03, 12.96s/it, v_num=rp_1, total_loss_train=3.06e+3, kl_local_train=69.6, metric_mi|status_control_train=0.187, metric_mi|zone_train=0.175, metric_mi|time_cat_train=0.143, metric_mi|mouse_train=0.122]"
     ]
    },
    {
     "name": "stdout",
     "output_type": "stream",
     "text": [
      "\r",
      "Epoch 522/600:  87%|████████▋ | 521/600 [1:53:45<17:03, 12.96s/it, v_num=rp_1, total_loss_train=3.06e+3, kl_local_train=69.6, metric_mi|status_control_train=0.187, metric_mi|zone_train=0.175, metric_mi|time_cat_train=0.143, metric_mi|mouse_train=0.122]"
     ]
    },
    {
     "name": "stdout",
     "output_type": "stream",
     "text": [
      "\r",
      "Epoch 522/600:  87%|████████▋ | 522/600 [1:53:57<16:40, 12.83s/it, v_num=rp_1, total_loss_train=3.06e+3, kl_local_train=69.6, metric_mi|status_control_train=0.187, metric_mi|zone_train=0.175, metric_mi|time_cat_train=0.143, metric_mi|mouse_train=0.122]"
     ]
    },
    {
     "name": "stdout",
     "output_type": "stream",
     "text": [
      "\r",
      "Epoch 522/600:  87%|████████▋ | 522/600 [1:53:57<16:40, 12.83s/it, v_num=rp_1, total_loss_train=3.06e+3, kl_local_train=69.4, metric_mi|status_control_train=0.187, metric_mi|zone_train=0.175, metric_mi|time_cat_train=0.143, metric_mi|mouse_train=0.122]"
     ]
    },
    {
     "name": "stdout",
     "output_type": "stream",
     "text": [
      "\r",
      "Epoch 523/600:  87%|████████▋ | 522/600 [1:53:57<16:40, 12.83s/it, v_num=rp_1, total_loss_train=3.06e+3, kl_local_train=69.4, metric_mi|status_control_train=0.187, metric_mi|zone_train=0.175, metric_mi|time_cat_train=0.143, metric_mi|mouse_train=0.122]"
     ]
    },
    {
     "name": "stdout",
     "output_type": "stream",
     "text": [
      "\r",
      "Epoch 523/600:  87%|████████▋ | 523/600 [1:54:10<16:21, 12.74s/it, v_num=rp_1, total_loss_train=3.06e+3, kl_local_train=69.4, metric_mi|status_control_train=0.187, metric_mi|zone_train=0.175, metric_mi|time_cat_train=0.143, metric_mi|mouse_train=0.122]"
     ]
    },
    {
     "name": "stdout",
     "output_type": "stream",
     "text": [
      "\r",
      "Epoch 523/600:  87%|████████▋ | 523/600 [1:54:10<16:21, 12.74s/it, v_num=rp_1, total_loss_train=3.06e+3, kl_local_train=69.6, metric_mi|status_control_train=0.187, metric_mi|zone_train=0.175, metric_mi|time_cat_train=0.143, metric_mi|mouse_train=0.122]"
     ]
    },
    {
     "name": "stdout",
     "output_type": "stream",
     "text": [
      "\r",
      "Epoch 524/600:  87%|████████▋ | 523/600 [1:54:10<16:21, 12.74s/it, v_num=rp_1, total_loss_train=3.06e+3, kl_local_train=69.6, metric_mi|status_control_train=0.187, metric_mi|zone_train=0.175, metric_mi|time_cat_train=0.143, metric_mi|mouse_train=0.122]"
     ]
    },
    {
     "name": "stdout",
     "output_type": "stream",
     "text": [
      "\r",
      "Epoch 524/600:  87%|████████▋ | 524/600 [1:54:22<16:02, 12.67s/it, v_num=rp_1, total_loss_train=3.06e+3, kl_local_train=69.6, metric_mi|status_control_train=0.187, metric_mi|zone_train=0.175, metric_mi|time_cat_train=0.143, metric_mi|mouse_train=0.122]"
     ]
    },
    {
     "name": "stdout",
     "output_type": "stream",
     "text": [
      "\r",
      "Epoch 524/600:  87%|████████▋ | 524/600 [1:54:22<16:02, 12.67s/it, v_num=rp_1, total_loss_train=3.06e+3, kl_local_train=69.3, metric_mi|status_control_train=0.187, metric_mi|zone_train=0.175, metric_mi|time_cat_train=0.143, metric_mi|mouse_train=0.122]"
     ]
    },
    {
     "name": "stdout",
     "output_type": "stream",
     "text": [
      "\r",
      "Epoch 525/600:  87%|████████▋ | 524/600 [1:54:22<16:02, 12.67s/it, v_num=rp_1, total_loss_train=3.06e+3, kl_local_train=69.3, metric_mi|status_control_train=0.187, metric_mi|zone_train=0.175, metric_mi|time_cat_train=0.143, metric_mi|mouse_train=0.122]"
     ]
    },
    {
     "name": "stdout",
     "output_type": "stream",
     "text": [
      "\r",
      "Epoch 525/600:  88%|████████▊ | 525/600 [1:54:35<15:46, 12.62s/it, v_num=rp_1, total_loss_train=3.06e+3, kl_local_train=69.3, metric_mi|status_control_train=0.187, metric_mi|zone_train=0.175, metric_mi|time_cat_train=0.143, metric_mi|mouse_train=0.122]"
     ]
    },
    {
     "name": "stdout",
     "output_type": "stream",
     "text": [
      "\r",
      "Epoch 525/600:  88%|████████▊ | 525/600 [1:54:35<15:46, 12.62s/it, v_num=rp_1, total_loss_train=3.06e+3, kl_local_train=69.6, metric_mi|status_control_train=0.187, metric_mi|zone_train=0.175, metric_mi|time_cat_train=0.143, metric_mi|mouse_train=0.122]"
     ]
    },
    {
     "name": "stdout",
     "output_type": "stream",
     "text": [
      "\r",
      "Epoch 526/600:  88%|████████▊ | 525/600 [1:54:36<15:46, 12.62s/it, v_num=rp_1, total_loss_train=3.06e+3, kl_local_train=69.6, metric_mi|status_control_train=0.187, metric_mi|zone_train=0.175, metric_mi|time_cat_train=0.143, metric_mi|mouse_train=0.122]"
     ]
    },
    {
     "name": "stdout",
     "output_type": "stream",
     "text": [
      "\r",
      "Epoch 526/600:  88%|████████▊ | 526/600 [1:54:49<15:58, 12.96s/it, v_num=rp_1, total_loss_train=3.06e+3, kl_local_train=69.6, metric_mi|status_control_train=0.187, metric_mi|zone_train=0.175, metric_mi|time_cat_train=0.143, metric_mi|mouse_train=0.122]"
     ]
    },
    {
     "name": "stdout",
     "output_type": "stream",
     "text": [
      "\r",
      "Epoch 526/600:  88%|████████▊ | 526/600 [1:54:49<15:58, 12.96s/it, v_num=rp_1, total_loss_train=3.06e+3, kl_local_train=69.5, metric_mi|status_control_train=0.184, metric_mi|zone_train=0.176, metric_mi|time_cat_train=0.146, metric_mi|mouse_train=0.124]"
     ]
    },
    {
     "name": "stdout",
     "output_type": "stream",
     "text": [
      "\r",
      "Epoch 527/600:  88%|████████▊ | 526/600 [1:54:49<15:58, 12.96s/it, v_num=rp_1, total_loss_train=3.06e+3, kl_local_train=69.5, metric_mi|status_control_train=0.184, metric_mi|zone_train=0.176, metric_mi|time_cat_train=0.146, metric_mi|mouse_train=0.124]"
     ]
    },
    {
     "name": "stdout",
     "output_type": "stream",
     "text": [
      "\r",
      "Epoch 527/600:  88%|████████▊ | 527/600 [1:55:01<15:35, 12.82s/it, v_num=rp_1, total_loss_train=3.06e+3, kl_local_train=69.5, metric_mi|status_control_train=0.184, metric_mi|zone_train=0.176, metric_mi|time_cat_train=0.146, metric_mi|mouse_train=0.124]"
     ]
    },
    {
     "name": "stdout",
     "output_type": "stream",
     "text": [
      "\r",
      "Epoch 527/600:  88%|████████▊ | 527/600 [1:55:01<15:35, 12.82s/it, v_num=rp_1, total_loss_train=3.06e+3, kl_local_train=69.2, metric_mi|status_control_train=0.184, metric_mi|zone_train=0.176, metric_mi|time_cat_train=0.146, metric_mi|mouse_train=0.124]"
     ]
    },
    {
     "name": "stdout",
     "output_type": "stream",
     "text": [
      "\r",
      "Epoch 528/600:  88%|████████▊ | 527/600 [1:55:01<15:35, 12.82s/it, v_num=rp_1, total_loss_train=3.06e+3, kl_local_train=69.2, metric_mi|status_control_train=0.184, metric_mi|zone_train=0.176, metric_mi|time_cat_train=0.146, metric_mi|mouse_train=0.124]"
     ]
    },
    {
     "name": "stdout",
     "output_type": "stream",
     "text": [
      "\r",
      "Epoch 528/600:  88%|████████▊ | 528/600 [1:55:14<15:16, 12.72s/it, v_num=rp_1, total_loss_train=3.06e+3, kl_local_train=69.2, metric_mi|status_control_train=0.184, metric_mi|zone_train=0.176, metric_mi|time_cat_train=0.146, metric_mi|mouse_train=0.124]"
     ]
    },
    {
     "name": "stdout",
     "output_type": "stream",
     "text": [
      "\r",
      "Epoch 528/600:  88%|████████▊ | 528/600 [1:55:14<15:16, 12.72s/it, v_num=rp_1, total_loss_train=3.06e+3, kl_local_train=69.4, metric_mi|status_control_train=0.184, metric_mi|zone_train=0.176, metric_mi|time_cat_train=0.146, metric_mi|mouse_train=0.124]"
     ]
    },
    {
     "name": "stdout",
     "output_type": "stream",
     "text": [
      "\r",
      "Epoch 529/600:  88%|████████▊ | 528/600 [1:55:14<15:16, 12.72s/it, v_num=rp_1, total_loss_train=3.06e+3, kl_local_train=69.4, metric_mi|status_control_train=0.184, metric_mi|zone_train=0.176, metric_mi|time_cat_train=0.146, metric_mi|mouse_train=0.124]"
     ]
    },
    {
     "name": "stdout",
     "output_type": "stream",
     "text": [
      "\r",
      "Epoch 529/600:  88%|████████▊ | 529/600 [1:55:26<14:58, 12.66s/it, v_num=rp_1, total_loss_train=3.06e+3, kl_local_train=69.4, metric_mi|status_control_train=0.184, metric_mi|zone_train=0.176, metric_mi|time_cat_train=0.146, metric_mi|mouse_train=0.124]"
     ]
    },
    {
     "name": "stdout",
     "output_type": "stream",
     "text": [
      "\r",
      "Epoch 529/600:  88%|████████▊ | 529/600 [1:55:26<14:58, 12.66s/it, v_num=rp_1, total_loss_train=3.06e+3, kl_local_train=69.4, metric_mi|status_control_train=0.184, metric_mi|zone_train=0.176, metric_mi|time_cat_train=0.146, metric_mi|mouse_train=0.124]"
     ]
    },
    {
     "name": "stdout",
     "output_type": "stream",
     "text": [
      "\r",
      "Epoch 530/600:  88%|████████▊ | 529/600 [1:55:26<14:58, 12.66s/it, v_num=rp_1, total_loss_train=3.06e+3, kl_local_train=69.4, metric_mi|status_control_train=0.184, metric_mi|zone_train=0.176, metric_mi|time_cat_train=0.146, metric_mi|mouse_train=0.124]"
     ]
    },
    {
     "name": "stdout",
     "output_type": "stream",
     "text": [
      "\r",
      "Epoch 530/600:  88%|████████▊ | 530/600 [1:55:39<14:43, 12.62s/it, v_num=rp_1, total_loss_train=3.06e+3, kl_local_train=69.4, metric_mi|status_control_train=0.184, metric_mi|zone_train=0.176, metric_mi|time_cat_train=0.146, metric_mi|mouse_train=0.124]"
     ]
    },
    {
     "name": "stdout",
     "output_type": "stream",
     "text": [
      "\r",
      "Epoch 530/600:  88%|████████▊ | 530/600 [1:55:39<14:43, 12.62s/it, v_num=rp_1, total_loss_train=3.06e+3, kl_local_train=69.1, metric_mi|status_control_train=0.184, metric_mi|zone_train=0.176, metric_mi|time_cat_train=0.146, metric_mi|mouse_train=0.124]"
     ]
    },
    {
     "name": "stdout",
     "output_type": "stream",
     "text": [
      "\r",
      "Epoch 531/600:  88%|████████▊ | 530/600 [1:55:40<14:43, 12.62s/it, v_num=rp_1, total_loss_train=3.06e+3, kl_local_train=69.1, metric_mi|status_control_train=0.184, metric_mi|zone_train=0.176, metric_mi|time_cat_train=0.146, metric_mi|mouse_train=0.124]"
     ]
    },
    {
     "name": "stdout",
     "output_type": "stream",
     "text": [
      "\r",
      "Epoch 531/600:  88%|████████▊ | 531/600 [1:55:53<14:54, 12.96s/it, v_num=rp_1, total_loss_train=3.06e+3, kl_local_train=69.1, metric_mi|status_control_train=0.184, metric_mi|zone_train=0.176, metric_mi|time_cat_train=0.146, metric_mi|mouse_train=0.124]"
     ]
    },
    {
     "name": "stdout",
     "output_type": "stream",
     "text": [
      "\r",
      "Epoch 531/600:  88%|████████▊ | 531/600 [1:55:53<14:54, 12.96s/it, v_num=rp_1, total_loss_train=3.06e+3, kl_local_train=69.3, metric_mi|status_control_train=0.179, metric_mi|zone_train=0.175, metric_mi|time_cat_train=0.141, metric_mi|mouse_train=0.121]"
     ]
    },
    {
     "name": "stdout",
     "output_type": "stream",
     "text": [
      "\r",
      "Epoch 532/600:  88%|████████▊ | 531/600 [1:55:53<14:54, 12.96s/it, v_num=rp_1, total_loss_train=3.06e+3, kl_local_train=69.3, metric_mi|status_control_train=0.179, metric_mi|zone_train=0.175, metric_mi|time_cat_train=0.141, metric_mi|mouse_train=0.121]"
     ]
    },
    {
     "name": "stdout",
     "output_type": "stream",
     "text": [
      "\r",
      "Epoch 532/600:  89%|████████▊ | 532/600 [1:56:05<14:31, 12.82s/it, v_num=rp_1, total_loss_train=3.06e+3, kl_local_train=69.3, metric_mi|status_control_train=0.179, metric_mi|zone_train=0.175, metric_mi|time_cat_train=0.141, metric_mi|mouse_train=0.121]"
     ]
    },
    {
     "name": "stdout",
     "output_type": "stream",
     "text": [
      "\r",
      "Epoch 532/600:  89%|████████▊ | 532/600 [1:56:05<14:31, 12.82s/it, v_num=rp_1, total_loss_train=3.06e+3, kl_local_train=69.2, metric_mi|status_control_train=0.179, metric_mi|zone_train=0.175, metric_mi|time_cat_train=0.141, metric_mi|mouse_train=0.121]"
     ]
    },
    {
     "name": "stdout",
     "output_type": "stream",
     "text": [
      "\r",
      "Epoch 533/600:  89%|████████▊ | 532/600 [1:56:05<14:31, 12.82s/it, v_num=rp_1, total_loss_train=3.06e+3, kl_local_train=69.2, metric_mi|status_control_train=0.179, metric_mi|zone_train=0.175, metric_mi|time_cat_train=0.141, metric_mi|mouse_train=0.121]"
     ]
    },
    {
     "name": "stdout",
     "output_type": "stream",
     "text": [
      "\r",
      "Epoch 533/600:  89%|████████▉ | 533/600 [1:56:18<14:15, 12.77s/it, v_num=rp_1, total_loss_train=3.06e+3, kl_local_train=69.2, metric_mi|status_control_train=0.179, metric_mi|zone_train=0.175, metric_mi|time_cat_train=0.141, metric_mi|mouse_train=0.121]"
     ]
    },
    {
     "name": "stdout",
     "output_type": "stream",
     "text": [
      "\r",
      "Epoch 533/600:  89%|████████▉ | 533/600 [1:56:18<14:15, 12.77s/it, v_num=rp_1, total_loss_train=3.06e+3, kl_local_train=69.2, metric_mi|status_control_train=0.179, metric_mi|zone_train=0.175, metric_mi|time_cat_train=0.141, metric_mi|mouse_train=0.121]"
     ]
    },
    {
     "name": "stdout",
     "output_type": "stream",
     "text": [
      "\r",
      "Epoch 534/600:  89%|████████▉ | 533/600 [1:56:18<14:15, 12.77s/it, v_num=rp_1, total_loss_train=3.06e+3, kl_local_train=69.2, metric_mi|status_control_train=0.179, metric_mi|zone_train=0.175, metric_mi|time_cat_train=0.141, metric_mi|mouse_train=0.121]"
     ]
    },
    {
     "name": "stdout",
     "output_type": "stream",
     "text": [
      "\r",
      "Epoch 534/600:  89%|████████▉ | 534/600 [1:56:30<14:00, 12.73s/it, v_num=rp_1, total_loss_train=3.06e+3, kl_local_train=69.2, metric_mi|status_control_train=0.179, metric_mi|zone_train=0.175, metric_mi|time_cat_train=0.141, metric_mi|mouse_train=0.121]"
     ]
    },
    {
     "name": "stdout",
     "output_type": "stream",
     "text": [
      "\r",
      "Epoch 534/600:  89%|████████▉ | 534/600 [1:56:30<14:00, 12.73s/it, v_num=rp_1, total_loss_train=3.06e+3, kl_local_train=68.9, metric_mi|status_control_train=0.179, metric_mi|zone_train=0.175, metric_mi|time_cat_train=0.141, metric_mi|mouse_train=0.121]"
     ]
    },
    {
     "name": "stdout",
     "output_type": "stream",
     "text": [
      "\r",
      "Epoch 535/600:  89%|████████▉ | 534/600 [1:56:30<14:00, 12.73s/it, v_num=rp_1, total_loss_train=3.06e+3, kl_local_train=68.9, metric_mi|status_control_train=0.179, metric_mi|zone_train=0.175, metric_mi|time_cat_train=0.141, metric_mi|mouse_train=0.121]"
     ]
    },
    {
     "name": "stdout",
     "output_type": "stream",
     "text": [
      "\r",
      "Epoch 535/600:  89%|████████▉ | 535/600 [1:56:43<13:40, 12.62s/it, v_num=rp_1, total_loss_train=3.06e+3, kl_local_train=68.9, metric_mi|status_control_train=0.179, metric_mi|zone_train=0.175, metric_mi|time_cat_train=0.141, metric_mi|mouse_train=0.121]"
     ]
    },
    {
     "name": "stdout",
     "output_type": "stream",
     "text": [
      "\r",
      "Epoch 535/600:  89%|████████▉ | 535/600 [1:56:43<13:40, 12.62s/it, v_num=rp_1, total_loss_train=3.06e+3, kl_local_train=68.9, metric_mi|status_control_train=0.179, metric_mi|zone_train=0.175, metric_mi|time_cat_train=0.141, metric_mi|mouse_train=0.121]"
     ]
    },
    {
     "name": "stdout",
     "output_type": "stream",
     "text": [
      "\r",
      "Epoch 536/600:  89%|████████▉ | 535/600 [1:56:44<13:40, 12.62s/it, v_num=rp_1, total_loss_train=3.06e+3, kl_local_train=68.9, metric_mi|status_control_train=0.179, metric_mi|zone_train=0.175, metric_mi|time_cat_train=0.141, metric_mi|mouse_train=0.121]"
     ]
    },
    {
     "name": "stdout",
     "output_type": "stream",
     "text": [
      "\r",
      "Epoch 536/600:  89%|████████▉ | 536/600 [1:56:57<13:55, 13.05s/it, v_num=rp_1, total_loss_train=3.06e+3, kl_local_train=68.9, metric_mi|status_control_train=0.179, metric_mi|zone_train=0.175, metric_mi|time_cat_train=0.141, metric_mi|mouse_train=0.121]"
     ]
    },
    {
     "name": "stdout",
     "output_type": "stream",
     "text": [
      "\r",
      "Epoch 536/600:  89%|████████▉ | 536/600 [1:56:57<13:55, 13.05s/it, v_num=rp_1, total_loss_train=3.06e+3, kl_local_train=68.7, metric_mi|status_control_train=0.189, metric_mi|zone_train=0.175, metric_mi|time_cat_train=0.144, metric_mi|mouse_train=0.123]"
     ]
    },
    {
     "name": "stdout",
     "output_type": "stream",
     "text": [
      "\r",
      "Epoch 537/600:  89%|████████▉ | 536/600 [1:56:57<13:55, 13.05s/it, v_num=rp_1, total_loss_train=3.06e+3, kl_local_train=68.7, metric_mi|status_control_train=0.189, metric_mi|zone_train=0.175, metric_mi|time_cat_train=0.144, metric_mi|mouse_train=0.123]"
     ]
    },
    {
     "name": "stdout",
     "output_type": "stream",
     "text": [
      "\r",
      "Epoch 537/600:  90%|████████▉ | 537/600 [1:57:09<13:29, 12.85s/it, v_num=rp_1, total_loss_train=3.06e+3, kl_local_train=68.7, metric_mi|status_control_train=0.189, metric_mi|zone_train=0.175, metric_mi|time_cat_train=0.144, metric_mi|mouse_train=0.123]"
     ]
    },
    {
     "name": "stdout",
     "output_type": "stream",
     "text": [
      "\r",
      "Epoch 537/600:  90%|████████▉ | 537/600 [1:57:09<13:29, 12.85s/it, v_num=rp_1, total_loss_train=3.06e+3, kl_local_train=68.6, metric_mi|status_control_train=0.189, metric_mi|zone_train=0.175, metric_mi|time_cat_train=0.144, metric_mi|mouse_train=0.123]"
     ]
    },
    {
     "name": "stdout",
     "output_type": "stream",
     "text": [
      "\r",
      "Epoch 538/600:  90%|████████▉ | 537/600 [1:57:09<13:29, 12.85s/it, v_num=rp_1, total_loss_train=3.06e+3, kl_local_train=68.6, metric_mi|status_control_train=0.189, metric_mi|zone_train=0.175, metric_mi|time_cat_train=0.144, metric_mi|mouse_train=0.123]"
     ]
    },
    {
     "name": "stdout",
     "output_type": "stream",
     "text": [
      "\r",
      "Epoch 538/600:  90%|████████▉ | 538/600 [1:57:22<13:11, 12.76s/it, v_num=rp_1, total_loss_train=3.06e+3, kl_local_train=68.6, metric_mi|status_control_train=0.189, metric_mi|zone_train=0.175, metric_mi|time_cat_train=0.144, metric_mi|mouse_train=0.123]"
     ]
    },
    {
     "name": "stdout",
     "output_type": "stream",
     "text": [
      "\r",
      "Epoch 538/600:  90%|████████▉ | 538/600 [1:57:22<13:11, 12.76s/it, v_num=rp_1, total_loss_train=3.06e+3, kl_local_train=68.7, metric_mi|status_control_train=0.189, metric_mi|zone_train=0.175, metric_mi|time_cat_train=0.144, metric_mi|mouse_train=0.123]"
     ]
    },
    {
     "name": "stdout",
     "output_type": "stream",
     "text": [
      "\r",
      "Epoch 539/600:  90%|████████▉ | 538/600 [1:57:22<13:11, 12.76s/it, v_num=rp_1, total_loss_train=3.06e+3, kl_local_train=68.7, metric_mi|status_control_train=0.189, metric_mi|zone_train=0.175, metric_mi|time_cat_train=0.144, metric_mi|mouse_train=0.123]"
     ]
    },
    {
     "name": "stdout",
     "output_type": "stream",
     "text": [
      "\r",
      "Epoch 539/600:  90%|████████▉ | 539/600 [1:57:34<12:53, 12.67s/it, v_num=rp_1, total_loss_train=3.06e+3, kl_local_train=68.7, metric_mi|status_control_train=0.189, metric_mi|zone_train=0.175, metric_mi|time_cat_train=0.144, metric_mi|mouse_train=0.123]"
     ]
    },
    {
     "name": "stdout",
     "output_type": "stream",
     "text": [
      "\r",
      "Epoch 539/600:  90%|████████▉ | 539/600 [1:57:34<12:53, 12.67s/it, v_num=rp_1, total_loss_train=3.06e+3, kl_local_train=68.6, metric_mi|status_control_train=0.189, metric_mi|zone_train=0.175, metric_mi|time_cat_train=0.144, metric_mi|mouse_train=0.123]"
     ]
    },
    {
     "name": "stdout",
     "output_type": "stream",
     "text": [
      "\r",
      "Epoch 540/600:  90%|████████▉ | 539/600 [1:57:34<12:53, 12.67s/it, v_num=rp_1, total_loss_train=3.06e+3, kl_local_train=68.6, metric_mi|status_control_train=0.189, metric_mi|zone_train=0.175, metric_mi|time_cat_train=0.144, metric_mi|mouse_train=0.123]"
     ]
    },
    {
     "name": "stdout",
     "output_type": "stream",
     "text": [
      "\r",
      "Epoch 540/600:  90%|█████████ | 540/600 [1:57:47<12:38, 12.65s/it, v_num=rp_1, total_loss_train=3.06e+3, kl_local_train=68.6, metric_mi|status_control_train=0.189, metric_mi|zone_train=0.175, metric_mi|time_cat_train=0.144, metric_mi|mouse_train=0.123]"
     ]
    },
    {
     "name": "stdout",
     "output_type": "stream",
     "text": [
      "\r",
      "Epoch 540/600:  90%|█████████ | 540/600 [1:57:47<12:38, 12.65s/it, v_num=rp_1, total_loss_train=3.06e+3, kl_local_train=68.6, metric_mi|status_control_train=0.189, metric_mi|zone_train=0.175, metric_mi|time_cat_train=0.144, metric_mi|mouse_train=0.123]"
     ]
    },
    {
     "name": "stdout",
     "output_type": "stream",
     "text": [
      "\r",
      "Epoch 541/600:  90%|█████████ | 540/600 [1:57:48<12:38, 12.65s/it, v_num=rp_1, total_loss_train=3.06e+3, kl_local_train=68.6, metric_mi|status_control_train=0.189, metric_mi|zone_train=0.175, metric_mi|time_cat_train=0.144, metric_mi|mouse_train=0.123]"
     ]
    },
    {
     "name": "stdout",
     "output_type": "stream",
     "text": [
      "\r",
      "Epoch 541/600:  90%|█████████ | 541/600 [1:58:00<12:46, 12.98s/it, v_num=rp_1, total_loss_train=3.06e+3, kl_local_train=68.6, metric_mi|status_control_train=0.189, metric_mi|zone_train=0.175, metric_mi|time_cat_train=0.144, metric_mi|mouse_train=0.123]"
     ]
    },
    {
     "name": "stdout",
     "output_type": "stream",
     "text": [
      "\r",
      "Epoch 541/600:  90%|█████████ | 541/600 [1:58:00<12:46, 12.98s/it, v_num=rp_1, total_loss_train=3.06e+3, kl_local_train=68.5, metric_mi|status_control_train=0.186, metric_mi|zone_train=0.176, metric_mi|time_cat_train=0.141, metric_mi|mouse_train=0.121]"
     ]
    },
    {
     "name": "stdout",
     "output_type": "stream",
     "text": [
      "\r",
      "Epoch 542/600:  90%|█████████ | 541/600 [1:58:00<12:46, 12.98s/it, v_num=rp_1, total_loss_train=3.06e+3, kl_local_train=68.5, metric_mi|status_control_train=0.186, metric_mi|zone_train=0.176, metric_mi|time_cat_train=0.141, metric_mi|mouse_train=0.121]"
     ]
    },
    {
     "name": "stdout",
     "output_type": "stream",
     "text": [
      "\r",
      "Epoch 542/600:  90%|█████████ | 542/600 [1:58:13<12:24, 12.83s/it, v_num=rp_1, total_loss_train=3.06e+3, kl_local_train=68.5, metric_mi|status_control_train=0.186, metric_mi|zone_train=0.176, metric_mi|time_cat_train=0.141, metric_mi|mouse_train=0.121]"
     ]
    },
    {
     "name": "stdout",
     "output_type": "stream",
     "text": [
      "\r",
      "Epoch 542/600:  90%|█████████ | 542/600 [1:58:13<12:24, 12.83s/it, v_num=rp_1, total_loss_train=3.06e+3, kl_local_train=68.3, metric_mi|status_control_train=0.186, metric_mi|zone_train=0.176, metric_mi|time_cat_train=0.141, metric_mi|mouse_train=0.121]"
     ]
    },
    {
     "name": "stdout",
     "output_type": "stream",
     "text": [
      "\r",
      "Epoch 543/600:  90%|█████████ | 542/600 [1:58:13<12:24, 12.83s/it, v_num=rp_1, total_loss_train=3.06e+3, kl_local_train=68.3, metric_mi|status_control_train=0.186, metric_mi|zone_train=0.176, metric_mi|time_cat_train=0.141, metric_mi|mouse_train=0.121]"
     ]
    },
    {
     "name": "stdout",
     "output_type": "stream",
     "text": [
      "\r",
      "Epoch 543/600:  90%|█████████ | 543/600 [1:58:25<12:05, 12.73s/it, v_num=rp_1, total_loss_train=3.06e+3, kl_local_train=68.3, metric_mi|status_control_train=0.186, metric_mi|zone_train=0.176, metric_mi|time_cat_train=0.141, metric_mi|mouse_train=0.121]"
     ]
    },
    {
     "name": "stdout",
     "output_type": "stream",
     "text": [
      "\r",
      "Epoch 543/600:  90%|█████████ | 543/600 [1:58:25<12:05, 12.73s/it, v_num=rp_1, total_loss_train=3.06e+3, kl_local_train=68.3, metric_mi|status_control_train=0.186, metric_mi|zone_train=0.176, metric_mi|time_cat_train=0.141, metric_mi|mouse_train=0.121]"
     ]
    },
    {
     "name": "stdout",
     "output_type": "stream",
     "text": [
      "\r",
      "Epoch 544/600:  90%|█████████ | 543/600 [1:58:25<12:05, 12.73s/it, v_num=rp_1, total_loss_train=3.06e+3, kl_local_train=68.3, metric_mi|status_control_train=0.186, metric_mi|zone_train=0.176, metric_mi|time_cat_train=0.141, metric_mi|mouse_train=0.121]"
     ]
    },
    {
     "name": "stdout",
     "output_type": "stream",
     "text": [
      "\r",
      "Epoch 544/600:  91%|█████████ | 544/600 [1:58:38<11:49, 12.66s/it, v_num=rp_1, total_loss_train=3.06e+3, kl_local_train=68.3, metric_mi|status_control_train=0.186, metric_mi|zone_train=0.176, metric_mi|time_cat_train=0.141, metric_mi|mouse_train=0.121]"
     ]
    },
    {
     "name": "stdout",
     "output_type": "stream",
     "text": [
      "\r",
      "Epoch 544/600:  91%|█████████ | 544/600 [1:58:38<11:49, 12.66s/it, v_num=rp_1, total_loss_train=3.06e+3, kl_local_train=68.3, metric_mi|status_control_train=0.186, metric_mi|zone_train=0.176, metric_mi|time_cat_train=0.141, metric_mi|mouse_train=0.121]"
     ]
    },
    {
     "name": "stdout",
     "output_type": "stream",
     "text": [
      "\r",
      "Epoch 545/600:  91%|█████████ | 544/600 [1:58:38<11:49, 12.66s/it, v_num=rp_1, total_loss_train=3.06e+3, kl_local_train=68.3, metric_mi|status_control_train=0.186, metric_mi|zone_train=0.176, metric_mi|time_cat_train=0.141, metric_mi|mouse_train=0.121]"
     ]
    },
    {
     "name": "stdout",
     "output_type": "stream",
     "text": [
      "\r",
      "Epoch 545/600:  91%|█████████ | 545/600 [1:58:51<11:34, 12.64s/it, v_num=rp_1, total_loss_train=3.06e+3, kl_local_train=68.3, metric_mi|status_control_train=0.186, metric_mi|zone_train=0.176, metric_mi|time_cat_train=0.141, metric_mi|mouse_train=0.121]"
     ]
    },
    {
     "name": "stdout",
     "output_type": "stream",
     "text": [
      "\r",
      "Epoch 545/600:  91%|█████████ | 545/600 [1:58:51<11:34, 12.64s/it, v_num=rp_1, total_loss_train=3.06e+3, kl_local_train=68.2, metric_mi|status_control_train=0.186, metric_mi|zone_train=0.176, metric_mi|time_cat_train=0.141, metric_mi|mouse_train=0.121]"
     ]
    },
    {
     "name": "stdout",
     "output_type": "stream",
     "text": [
      "\r",
      "Epoch 546/600:  91%|█████████ | 545/600 [1:58:52<11:34, 12.64s/it, v_num=rp_1, total_loss_train=3.06e+3, kl_local_train=68.2, metric_mi|status_control_train=0.186, metric_mi|zone_train=0.176, metric_mi|time_cat_train=0.141, metric_mi|mouse_train=0.121]"
     ]
    },
    {
     "name": "stdout",
     "output_type": "stream",
     "text": [
      "\r",
      "Epoch 546/600:  91%|█████████ | 546/600 [1:59:04<11:29, 12.77s/it, v_num=rp_1, total_loss_train=3.06e+3, kl_local_train=68.2, metric_mi|status_control_train=0.186, metric_mi|zone_train=0.176, metric_mi|time_cat_train=0.141, metric_mi|mouse_train=0.121]"
     ]
    },
    {
     "name": "stdout",
     "output_type": "stream",
     "text": [
      "\r",
      "Epoch 546/600:  91%|█████████ | 546/600 [1:59:04<11:29, 12.77s/it, v_num=rp_1, total_loss_train=3.06e+3, kl_local_train=68.2, metric_mi|status_control_train=0.172, metric_mi|zone_train=0.175, metric_mi|time_cat_train=0.136, metric_mi|mouse_train=0.118]"
     ]
    },
    {
     "name": "stdout",
     "output_type": "stream",
     "text": [
      "\r",
      "Epoch 547/600:  91%|█████████ | 546/600 [1:59:04<11:29, 12.77s/it, v_num=rp_1, total_loss_train=3.06e+3, kl_local_train=68.2, metric_mi|status_control_train=0.172, metric_mi|zone_train=0.175, metric_mi|time_cat_train=0.136, metric_mi|mouse_train=0.118]"
     ]
    },
    {
     "name": "stdout",
     "output_type": "stream",
     "text": [
      "\r",
      "Epoch 547/600:  91%|█████████ | 547/600 [1:59:15<11:00, 12.46s/it, v_num=rp_1, total_loss_train=3.06e+3, kl_local_train=68.2, metric_mi|status_control_train=0.172, metric_mi|zone_train=0.175, metric_mi|time_cat_train=0.136, metric_mi|mouse_train=0.118]"
     ]
    },
    {
     "name": "stdout",
     "output_type": "stream",
     "text": [
      "\r",
      "Epoch 547/600:  91%|█████████ | 547/600 [1:59:15<11:00, 12.46s/it, v_num=rp_1, total_loss_train=3.06e+3, kl_local_train=68.2, metric_mi|status_control_train=0.172, metric_mi|zone_train=0.175, metric_mi|time_cat_train=0.136, metric_mi|mouse_train=0.118]"
     ]
    },
    {
     "name": "stdout",
     "output_type": "stream",
     "text": [
      "\r",
      "Epoch 548/600:  91%|█████████ | 547/600 [1:59:15<11:00, 12.46s/it, v_num=rp_1, total_loss_train=3.06e+3, kl_local_train=68.2, metric_mi|status_control_train=0.172, metric_mi|zone_train=0.175, metric_mi|time_cat_train=0.136, metric_mi|mouse_train=0.118]"
     ]
    },
    {
     "name": "stdout",
     "output_type": "stream",
     "text": [
      "\r",
      "Epoch 548/600:  91%|█████████▏| 548/600 [1:59:27<10:36, 12.24s/it, v_num=rp_1, total_loss_train=3.06e+3, kl_local_train=68.2, metric_mi|status_control_train=0.172, metric_mi|zone_train=0.175, metric_mi|time_cat_train=0.136, metric_mi|mouse_train=0.118]"
     ]
    },
    {
     "name": "stdout",
     "output_type": "stream",
     "text": [
      "\r",
      "Epoch 548/600:  91%|█████████▏| 548/600 [1:59:27<10:36, 12.24s/it, v_num=rp_1, total_loss_train=3.06e+3, kl_local_train=68, metric_mi|status_control_train=0.172, metric_mi|zone_train=0.175, metric_mi|time_cat_train=0.136, metric_mi|mouse_train=0.118]  "
     ]
    },
    {
     "name": "stdout",
     "output_type": "stream",
     "text": [
      "\r",
      "Epoch 549/600:  91%|█████████▏| 548/600 [1:59:27<10:36, 12.24s/it, v_num=rp_1, total_loss_train=3.06e+3, kl_local_train=68, metric_mi|status_control_train=0.172, metric_mi|zone_train=0.175, metric_mi|time_cat_train=0.136, metric_mi|mouse_train=0.118]"
     ]
    },
    {
     "name": "stdout",
     "output_type": "stream",
     "text": [
      "\r",
      "Epoch 549/600:  92%|█████████▏| 549/600 [1:59:39<10:16, 12.09s/it, v_num=rp_1, total_loss_train=3.06e+3, kl_local_train=68, metric_mi|status_control_train=0.172, metric_mi|zone_train=0.175, metric_mi|time_cat_train=0.136, metric_mi|mouse_train=0.118]"
     ]
    },
    {
     "name": "stdout",
     "output_type": "stream",
     "text": [
      "\r",
      "Epoch 549/600:  92%|█████████▏| 549/600 [1:59:39<10:16, 12.09s/it, v_num=rp_1, total_loss_train=3.06e+3, kl_local_train=68, metric_mi|status_control_train=0.172, metric_mi|zone_train=0.175, metric_mi|time_cat_train=0.136, metric_mi|mouse_train=0.118]"
     ]
    },
    {
     "name": "stdout",
     "output_type": "stream",
     "text": [
      "\r",
      "Epoch 550/600:  92%|█████████▏| 549/600 [1:59:39<10:16, 12.09s/it, v_num=rp_1, total_loss_train=3.06e+3, kl_local_train=68, metric_mi|status_control_train=0.172, metric_mi|zone_train=0.175, metric_mi|time_cat_train=0.136, metric_mi|mouse_train=0.118]"
     ]
    },
    {
     "name": "stdout",
     "output_type": "stream",
     "text": [
      "\r",
      "Epoch 550/600:  92%|█████████▏| 550/600 [1:59:51<09:59, 11.99s/it, v_num=rp_1, total_loss_train=3.06e+3, kl_local_train=68, metric_mi|status_control_train=0.172, metric_mi|zone_train=0.175, metric_mi|time_cat_train=0.136, metric_mi|mouse_train=0.118]"
     ]
    },
    {
     "name": "stdout",
     "output_type": "stream",
     "text": [
      "\r",
      "Epoch 550/600:  92%|█████████▏| 550/600 [1:59:51<09:59, 11.99s/it, v_num=rp_1, total_loss_train=3.06e+3, kl_local_train=68.1, metric_mi|status_control_train=0.172, metric_mi|zone_train=0.175, metric_mi|time_cat_train=0.136, metric_mi|mouse_train=0.118]"
     ]
    },
    {
     "name": "stdout",
     "output_type": "stream",
     "text": [
      "\r",
      "Epoch 551/600:  92%|█████████▏| 550/600 [1:59:52<09:59, 11.99s/it, v_num=rp_1, total_loss_train=3.06e+3, kl_local_train=68.1, metric_mi|status_control_train=0.172, metric_mi|zone_train=0.175, metric_mi|time_cat_train=0.136, metric_mi|mouse_train=0.118]"
     ]
    },
    {
     "name": "stdout",
     "output_type": "stream",
     "text": [
      "\r",
      "Epoch 551/600:  92%|█████████▏| 551/600 [2:00:04<10:02, 12.29s/it, v_num=rp_1, total_loss_train=3.06e+3, kl_local_train=68.1, metric_mi|status_control_train=0.172, metric_mi|zone_train=0.175, metric_mi|time_cat_train=0.136, metric_mi|mouse_train=0.118]"
     ]
    },
    {
     "name": "stdout",
     "output_type": "stream",
     "text": [
      "\r",
      "Epoch 551/600:  92%|█████████▏| 551/600 [2:00:04<10:02, 12.29s/it, v_num=rp_1, total_loss_train=3.06e+3, kl_local_train=67.8, metric_mi|status_control_train=0.18, metric_mi|zone_train=0.175, metric_mi|time_cat_train=0.14, metric_mi|mouse_train=0.12]   "
     ]
    },
    {
     "name": "stdout",
     "output_type": "stream",
     "text": [
      "\r",
      "Epoch 552/600:  92%|█████████▏| 551/600 [2:00:04<10:02, 12.29s/it, v_num=rp_1, total_loss_train=3.06e+3, kl_local_train=67.8, metric_mi|status_control_train=0.18, metric_mi|zone_train=0.175, metric_mi|time_cat_train=0.14, metric_mi|mouse_train=0.12]"
     ]
    },
    {
     "name": "stdout",
     "output_type": "stream",
     "text": [
      "\r",
      "Epoch 552/600:  92%|█████████▏| 552/600 [2:00:15<09:41, 12.12s/it, v_num=rp_1, total_loss_train=3.06e+3, kl_local_train=67.8, metric_mi|status_control_train=0.18, metric_mi|zone_train=0.175, metric_mi|time_cat_train=0.14, metric_mi|mouse_train=0.12]"
     ]
    },
    {
     "name": "stdout",
     "output_type": "stream",
     "text": [
      "\r",
      "Epoch 552/600:  92%|█████████▏| 552/600 [2:00:15<09:41, 12.12s/it, v_num=rp_1, total_loss_train=3.06e+3, kl_local_train=68.1, metric_mi|status_control_train=0.18, metric_mi|zone_train=0.175, metric_mi|time_cat_train=0.14, metric_mi|mouse_train=0.12]"
     ]
    },
    {
     "name": "stdout",
     "output_type": "stream",
     "text": [
      "\r",
      "Epoch 553/600:  92%|█████████▏| 552/600 [2:00:15<09:41, 12.12s/it, v_num=rp_1, total_loss_train=3.06e+3, kl_local_train=68.1, metric_mi|status_control_train=0.18, metric_mi|zone_train=0.175, metric_mi|time_cat_train=0.14, metric_mi|mouse_train=0.12]"
     ]
    },
    {
     "name": "stdout",
     "output_type": "stream",
     "text": [
      "\r",
      "Epoch 553/600:  92%|█████████▏| 553/600 [2:00:27<09:24, 12.01s/it, v_num=rp_1, total_loss_train=3.06e+3, kl_local_train=68.1, metric_mi|status_control_train=0.18, metric_mi|zone_train=0.175, metric_mi|time_cat_train=0.14, metric_mi|mouse_train=0.12]"
     ]
    },
    {
     "name": "stdout",
     "output_type": "stream",
     "text": [
      "\r",
      "Epoch 553/600:  92%|█████████▏| 553/600 [2:00:27<09:24, 12.01s/it, v_num=rp_1, total_loss_train=3.06e+3, kl_local_train=67.8, metric_mi|status_control_train=0.18, metric_mi|zone_train=0.175, metric_mi|time_cat_train=0.14, metric_mi|mouse_train=0.12]"
     ]
    },
    {
     "name": "stdout",
     "output_type": "stream",
     "text": [
      "\r",
      "Epoch 554/600:  92%|█████████▏| 553/600 [2:00:27<09:24, 12.01s/it, v_num=rp_1, total_loss_train=3.06e+3, kl_local_train=67.8, metric_mi|status_control_train=0.18, metric_mi|zone_train=0.175, metric_mi|time_cat_train=0.14, metric_mi|mouse_train=0.12]"
     ]
    },
    {
     "name": "stdout",
     "output_type": "stream",
     "text": [
      "\r",
      "Epoch 554/600:  92%|█████████▏| 554/600 [2:00:39<09:11, 11.99s/it, v_num=rp_1, total_loss_train=3.06e+3, kl_local_train=67.8, metric_mi|status_control_train=0.18, metric_mi|zone_train=0.175, metric_mi|time_cat_train=0.14, metric_mi|mouse_train=0.12]"
     ]
    },
    {
     "name": "stdout",
     "output_type": "stream",
     "text": [
      "\r",
      "Epoch 554/600:  92%|█████████▏| 554/600 [2:00:39<09:11, 11.99s/it, v_num=rp_1, total_loss_train=3.06e+3, kl_local_train=67.8, metric_mi|status_control_train=0.18, metric_mi|zone_train=0.175, metric_mi|time_cat_train=0.14, metric_mi|mouse_train=0.12]"
     ]
    },
    {
     "name": "stdout",
     "output_type": "stream",
     "text": [
      "\r",
      "Epoch 555/600:  92%|█████████▏| 554/600 [2:00:39<09:11, 11.99s/it, v_num=rp_1, total_loss_train=3.06e+3, kl_local_train=67.8, metric_mi|status_control_train=0.18, metric_mi|zone_train=0.175, metric_mi|time_cat_train=0.14, metric_mi|mouse_train=0.12]"
     ]
    },
    {
     "name": "stdout",
     "output_type": "stream",
     "text": [
      "\r",
      "Epoch 555/600:  92%|█████████▎| 555/600 [2:00:52<09:06, 12.15s/it, v_num=rp_1, total_loss_train=3.06e+3, kl_local_train=67.8, metric_mi|status_control_train=0.18, metric_mi|zone_train=0.175, metric_mi|time_cat_train=0.14, metric_mi|mouse_train=0.12]"
     ]
    },
    {
     "name": "stdout",
     "output_type": "stream",
     "text": [
      "\r",
      "Epoch 555/600:  92%|█████████▎| 555/600 [2:00:52<09:06, 12.15s/it, v_num=rp_1, total_loss_train=3.06e+3, kl_local_train=67.8, metric_mi|status_control_train=0.18, metric_mi|zone_train=0.175, metric_mi|time_cat_train=0.14, metric_mi|mouse_train=0.12]"
     ]
    },
    {
     "name": "stdout",
     "output_type": "stream",
     "text": [
      "\r",
      "Epoch 556/600:  92%|█████████▎| 555/600 [2:00:53<09:06, 12.15s/it, v_num=rp_1, total_loss_train=3.06e+3, kl_local_train=67.8, metric_mi|status_control_train=0.18, metric_mi|zone_train=0.175, metric_mi|time_cat_train=0.14, metric_mi|mouse_train=0.12]"
     ]
    },
    {
     "name": "stdout",
     "output_type": "stream",
     "text": [
      "\r",
      "Epoch 556/600:  93%|█████████▎| 556/600 [2:01:05<09:17, 12.67s/it, v_num=rp_1, total_loss_train=3.06e+3, kl_local_train=67.8, metric_mi|status_control_train=0.18, metric_mi|zone_train=0.175, metric_mi|time_cat_train=0.14, metric_mi|mouse_train=0.12]"
     ]
    },
    {
     "name": "stdout",
     "output_type": "stream",
     "text": [
      "\r",
      "Epoch 556/600:  93%|█████████▎| 556/600 [2:01:05<09:17, 12.67s/it, v_num=rp_1, total_loss_train=3.06e+3, kl_local_train=67.6, metric_mi|status_control_train=0.188, metric_mi|zone_train=0.176, metric_mi|time_cat_train=0.145, metric_mi|mouse_train=0.123]"
     ]
    },
    {
     "name": "stdout",
     "output_type": "stream",
     "text": [
      "\r",
      "Epoch 557/600:  93%|█████████▎| 556/600 [2:01:05<09:17, 12.67s/it, v_num=rp_1, total_loss_train=3.06e+3, kl_local_train=67.6, metric_mi|status_control_train=0.188, metric_mi|zone_train=0.176, metric_mi|time_cat_train=0.145, metric_mi|mouse_train=0.123]"
     ]
    },
    {
     "name": "stdout",
     "output_type": "stream",
     "text": [
      "\r",
      "Epoch 557/600:  93%|█████████▎| 557/600 [2:01:18<08:59, 12.55s/it, v_num=rp_1, total_loss_train=3.06e+3, kl_local_train=67.6, metric_mi|status_control_train=0.188, metric_mi|zone_train=0.176, metric_mi|time_cat_train=0.145, metric_mi|mouse_train=0.123]"
     ]
    },
    {
     "name": "stdout",
     "output_type": "stream",
     "text": [
      "\r",
      "Epoch 557/600:  93%|█████████▎| 557/600 [2:01:18<08:59, 12.55s/it, v_num=rp_1, total_loss_train=3.06e+3, kl_local_train=67.6, metric_mi|status_control_train=0.188, metric_mi|zone_train=0.176, metric_mi|time_cat_train=0.145, metric_mi|mouse_train=0.123]"
     ]
    },
    {
     "name": "stdout",
     "output_type": "stream",
     "text": [
      "\r",
      "Epoch 558/600:  93%|█████████▎| 557/600 [2:01:18<08:59, 12.55s/it, v_num=rp_1, total_loss_train=3.06e+3, kl_local_train=67.6, metric_mi|status_control_train=0.188, metric_mi|zone_train=0.176, metric_mi|time_cat_train=0.145, metric_mi|mouse_train=0.123]"
     ]
    },
    {
     "name": "stdout",
     "output_type": "stream",
     "text": [
      "\r",
      "Epoch 558/600:  93%|█████████▎| 558/600 [2:01:30<08:48, 12.58s/it, v_num=rp_1, total_loss_train=3.06e+3, kl_local_train=67.6, metric_mi|status_control_train=0.188, metric_mi|zone_train=0.176, metric_mi|time_cat_train=0.145, metric_mi|mouse_train=0.123]"
     ]
    },
    {
     "name": "stdout",
     "output_type": "stream",
     "text": [
      "\r",
      "Epoch 558/600:  93%|█████████▎| 558/600 [2:01:30<08:48, 12.58s/it, v_num=rp_1, total_loss_train=3.06e+3, kl_local_train=67.8, metric_mi|status_control_train=0.188, metric_mi|zone_train=0.176, metric_mi|time_cat_train=0.145, metric_mi|mouse_train=0.123]"
     ]
    },
    {
     "name": "stdout",
     "output_type": "stream",
     "text": [
      "\r",
      "Epoch 559/600:  93%|█████████▎| 558/600 [2:01:30<08:48, 12.58s/it, v_num=rp_1, total_loss_train=3.06e+3, kl_local_train=67.8, metric_mi|status_control_train=0.188, metric_mi|zone_train=0.176, metric_mi|time_cat_train=0.145, metric_mi|mouse_train=0.123]"
     ]
    },
    {
     "name": "stdout",
     "output_type": "stream",
     "text": [
      "\r",
      "Epoch 559/600:  93%|█████████▎| 559/600 [2:01:43<08:36, 12.59s/it, v_num=rp_1, total_loss_train=3.06e+3, kl_local_train=67.8, metric_mi|status_control_train=0.188, metric_mi|zone_train=0.176, metric_mi|time_cat_train=0.145, metric_mi|mouse_train=0.123]"
     ]
    },
    {
     "name": "stdout",
     "output_type": "stream",
     "text": [
      "\r",
      "Epoch 559/600:  93%|█████████▎| 559/600 [2:01:43<08:36, 12.59s/it, v_num=rp_1, total_loss_train=3.06e+3, kl_local_train=67.5, metric_mi|status_control_train=0.188, metric_mi|zone_train=0.176, metric_mi|time_cat_train=0.145, metric_mi|mouse_train=0.123]"
     ]
    },
    {
     "name": "stdout",
     "output_type": "stream",
     "text": [
      "\r",
      "Epoch 560/600:  93%|█████████▎| 559/600 [2:01:43<08:36, 12.59s/it, v_num=rp_1, total_loss_train=3.06e+3, kl_local_train=67.5, metric_mi|status_control_train=0.188, metric_mi|zone_train=0.176, metric_mi|time_cat_train=0.145, metric_mi|mouse_train=0.123]"
     ]
    },
    {
     "name": "stdout",
     "output_type": "stream",
     "text": [
      "\r",
      "Epoch 560/600:  93%|█████████▎| 560/600 [2:01:56<08:25, 12.63s/it, v_num=rp_1, total_loss_train=3.06e+3, kl_local_train=67.5, metric_mi|status_control_train=0.188, metric_mi|zone_train=0.176, metric_mi|time_cat_train=0.145, metric_mi|mouse_train=0.123]"
     ]
    },
    {
     "name": "stdout",
     "output_type": "stream",
     "text": [
      "\r",
      "Epoch 560/600:  93%|█████████▎| 560/600 [2:01:56<08:25, 12.63s/it, v_num=rp_1, total_loss_train=3.06e+3, kl_local_train=67.6, metric_mi|status_control_train=0.188, metric_mi|zone_train=0.176, metric_mi|time_cat_train=0.145, metric_mi|mouse_train=0.123]"
     ]
    },
    {
     "name": "stdout",
     "output_type": "stream",
     "text": [
      "\r",
      "Epoch 561/600:  93%|█████████▎| 560/600 [2:01:57<08:25, 12.63s/it, v_num=rp_1, total_loss_train=3.06e+3, kl_local_train=67.6, metric_mi|status_control_train=0.188, metric_mi|zone_train=0.176, metric_mi|time_cat_train=0.145, metric_mi|mouse_train=0.123]"
     ]
    },
    {
     "name": "stdout",
     "output_type": "stream",
     "text": [
      "\r",
      "Epoch 561/600:  94%|█████████▎| 561/600 [2:02:10<08:28, 13.03s/it, v_num=rp_1, total_loss_train=3.06e+3, kl_local_train=67.6, metric_mi|status_control_train=0.188, metric_mi|zone_train=0.176, metric_mi|time_cat_train=0.145, metric_mi|mouse_train=0.123]"
     ]
    },
    {
     "name": "stdout",
     "output_type": "stream",
     "text": [
      "\r",
      "Epoch 561/600:  94%|█████████▎| 561/600 [2:02:10<08:28, 13.03s/it, v_num=rp_1, total_loss_train=3.06e+3, kl_local_train=67.5, metric_mi|status_control_train=0.173, metric_mi|zone_train=0.175, metric_mi|time_cat_train=0.138, metric_mi|mouse_train=0.119]"
     ]
    },
    {
     "name": "stdout",
     "output_type": "stream",
     "text": [
      "\r",
      "Epoch 562/600:  94%|█████████▎| 561/600 [2:02:10<08:28, 13.03s/it, v_num=rp_1, total_loss_train=3.06e+3, kl_local_train=67.5, metric_mi|status_control_train=0.173, metric_mi|zone_train=0.175, metric_mi|time_cat_train=0.138, metric_mi|mouse_train=0.119]"
     ]
    },
    {
     "name": "stdout",
     "output_type": "stream",
     "text": [
      "\r",
      "Epoch 562/600:  94%|█████████▎| 562/600 [2:02:22<08:06, 12.80s/it, v_num=rp_1, total_loss_train=3.06e+3, kl_local_train=67.5, metric_mi|status_control_train=0.173, metric_mi|zone_train=0.175, metric_mi|time_cat_train=0.138, metric_mi|mouse_train=0.119]"
     ]
    },
    {
     "name": "stdout",
     "output_type": "stream",
     "text": [
      "\r",
      "Epoch 562/600:  94%|█████████▎| 562/600 [2:02:22<08:06, 12.80s/it, v_num=rp_1, total_loss_train=3.06e+3, kl_local_train=67.6, metric_mi|status_control_train=0.173, metric_mi|zone_train=0.175, metric_mi|time_cat_train=0.138, metric_mi|mouse_train=0.119]"
     ]
    },
    {
     "name": "stdout",
     "output_type": "stream",
     "text": [
      "\r",
      "Epoch 563/600:  94%|█████████▎| 562/600 [2:02:22<08:06, 12.80s/it, v_num=rp_1, total_loss_train=3.06e+3, kl_local_train=67.6, metric_mi|status_control_train=0.173, metric_mi|zone_train=0.175, metric_mi|time_cat_train=0.138, metric_mi|mouse_train=0.119]"
     ]
    },
    {
     "name": "stdout",
     "output_type": "stream",
     "text": [
      "\r",
      "Epoch 563/600:  94%|█████████▍| 563/600 [2:02:35<07:52, 12.77s/it, v_num=rp_1, total_loss_train=3.06e+3, kl_local_train=67.6, metric_mi|status_control_train=0.173, metric_mi|zone_train=0.175, metric_mi|time_cat_train=0.138, metric_mi|mouse_train=0.119]"
     ]
    },
    {
     "name": "stdout",
     "output_type": "stream",
     "text": [
      "\r",
      "Epoch 563/600:  94%|█████████▍| 563/600 [2:02:35<07:52, 12.77s/it, v_num=rp_1, total_loss_train=3.06e+3, kl_local_train=67.3, metric_mi|status_control_train=0.173, metric_mi|zone_train=0.175, metric_mi|time_cat_train=0.138, metric_mi|mouse_train=0.119]"
     ]
    },
    {
     "name": "stdout",
     "output_type": "stream",
     "text": [
      "\r",
      "Epoch 564/600:  94%|█████████▍| 563/600 [2:02:35<07:52, 12.77s/it, v_num=rp_1, total_loss_train=3.06e+3, kl_local_train=67.3, metric_mi|status_control_train=0.173, metric_mi|zone_train=0.175, metric_mi|time_cat_train=0.138, metric_mi|mouse_train=0.119]"
     ]
    },
    {
     "name": "stdout",
     "output_type": "stream",
     "text": [
      "\r",
      "Epoch 564/600:  94%|█████████▍| 564/600 [2:02:47<07:37, 12.72s/it, v_num=rp_1, total_loss_train=3.06e+3, kl_local_train=67.3, metric_mi|status_control_train=0.173, metric_mi|zone_train=0.175, metric_mi|time_cat_train=0.138, metric_mi|mouse_train=0.119]"
     ]
    },
    {
     "name": "stdout",
     "output_type": "stream",
     "text": [
      "\r",
      "Epoch 564/600:  94%|█████████▍| 564/600 [2:02:47<07:37, 12.72s/it, v_num=rp_1, total_loss_train=3.06e+3, kl_local_train=67.4, metric_mi|status_control_train=0.173, metric_mi|zone_train=0.175, metric_mi|time_cat_train=0.138, metric_mi|mouse_train=0.119]"
     ]
    },
    {
     "name": "stdout",
     "output_type": "stream",
     "text": [
      "\r",
      "Epoch 565/600:  94%|█████████▍| 564/600 [2:02:47<07:37, 12.72s/it, v_num=rp_1, total_loss_train=3.06e+3, kl_local_train=67.4, metric_mi|status_control_train=0.173, metric_mi|zone_train=0.175, metric_mi|time_cat_train=0.138, metric_mi|mouse_train=0.119]"
     ]
    },
    {
     "name": "stdout",
     "output_type": "stream",
     "text": [
      "\r",
      "Epoch 565/600:  94%|█████████▍| 565/600 [2:03:00<07:23, 12.67s/it, v_num=rp_1, total_loss_train=3.06e+3, kl_local_train=67.4, metric_mi|status_control_train=0.173, metric_mi|zone_train=0.175, metric_mi|time_cat_train=0.138, metric_mi|mouse_train=0.119]"
     ]
    },
    {
     "name": "stdout",
     "output_type": "stream",
     "text": [
      "\r",
      "Epoch 565/600:  94%|█████████▍| 565/600 [2:03:00<07:23, 12.67s/it, v_num=rp_1, total_loss_train=3.06e+3, kl_local_train=67.2, metric_mi|status_control_train=0.173, metric_mi|zone_train=0.175, metric_mi|time_cat_train=0.138, metric_mi|mouse_train=0.119]"
     ]
    },
    {
     "name": "stdout",
     "output_type": "stream",
     "text": [
      "\r",
      "Epoch 566/600:  94%|█████████▍| 565/600 [2:03:01<07:23, 12.67s/it, v_num=rp_1, total_loss_train=3.06e+3, kl_local_train=67.2, metric_mi|status_control_train=0.173, metric_mi|zone_train=0.175, metric_mi|time_cat_train=0.138, metric_mi|mouse_train=0.119]"
     ]
    },
    {
     "name": "stdout",
     "output_type": "stream",
     "text": [
      "\r",
      "Epoch 566/600:  94%|█████████▍| 566/600 [2:03:14<07:24, 13.07s/it, v_num=rp_1, total_loss_train=3.06e+3, kl_local_train=67.2, metric_mi|status_control_train=0.173, metric_mi|zone_train=0.175, metric_mi|time_cat_train=0.138, metric_mi|mouse_train=0.119]"
     ]
    },
    {
     "name": "stdout",
     "output_type": "stream",
     "text": [
      "\r",
      "Epoch 566/600:  94%|█████████▍| 566/600 [2:03:14<07:24, 13.07s/it, v_num=rp_1, total_loss_train=3.06e+3, kl_local_train=66.9, metric_mi|status_control_train=0.168, metric_mi|zone_train=0.175, metric_mi|time_cat_train=0.129, metric_mi|mouse_train=0.114]"
     ]
    },
    {
     "name": "stdout",
     "output_type": "stream",
     "text": [
      "\r",
      "Epoch 567/600:  94%|█████████▍| 566/600 [2:03:14<07:24, 13.07s/it, v_num=rp_1, total_loss_train=3.06e+3, kl_local_train=66.9, metric_mi|status_control_train=0.168, metric_mi|zone_train=0.175, metric_mi|time_cat_train=0.129, metric_mi|mouse_train=0.114]"
     ]
    },
    {
     "name": "stdout",
     "output_type": "stream",
     "text": [
      "\r",
      "Epoch 567/600:  94%|█████████▍| 567/600 [2:03:26<07:07, 12.94s/it, v_num=rp_1, total_loss_train=3.06e+3, kl_local_train=66.9, metric_mi|status_control_train=0.168, metric_mi|zone_train=0.175, metric_mi|time_cat_train=0.129, metric_mi|mouse_train=0.114]"
     ]
    },
    {
     "name": "stdout",
     "output_type": "stream",
     "text": [
      "\r",
      "Epoch 567/600:  94%|█████████▍| 567/600 [2:03:26<07:07, 12.94s/it, v_num=rp_1, total_loss_train=3.06e+3, kl_local_train=67.2, metric_mi|status_control_train=0.168, metric_mi|zone_train=0.175, metric_mi|time_cat_train=0.129, metric_mi|mouse_train=0.114]"
     ]
    },
    {
     "name": "stdout",
     "output_type": "stream",
     "text": [
      "\r",
      "Epoch 568/600:  94%|█████████▍| 567/600 [2:03:26<07:07, 12.94s/it, v_num=rp_1, total_loss_train=3.06e+3, kl_local_train=67.2, metric_mi|status_control_train=0.168, metric_mi|zone_train=0.175, metric_mi|time_cat_train=0.129, metric_mi|mouse_train=0.114]"
     ]
    },
    {
     "name": "stdout",
     "output_type": "stream",
     "text": [
      "\r",
      "Epoch 568/600:  95%|█████████▍| 568/600 [2:03:39<06:50, 12.84s/it, v_num=rp_1, total_loss_train=3.06e+3, kl_local_train=67.2, metric_mi|status_control_train=0.168, metric_mi|zone_train=0.175, metric_mi|time_cat_train=0.129, metric_mi|mouse_train=0.114]"
     ]
    },
    {
     "name": "stdout",
     "output_type": "stream",
     "text": [
      "\r",
      "Epoch 568/600:  95%|█████████▍| 568/600 [2:03:39<06:50, 12.84s/it, v_num=rp_1, total_loss_train=3.06e+3, kl_local_train=66.9, metric_mi|status_control_train=0.168, metric_mi|zone_train=0.175, metric_mi|time_cat_train=0.129, metric_mi|mouse_train=0.114]"
     ]
    },
    {
     "name": "stdout",
     "output_type": "stream",
     "text": [
      "\r",
      "Epoch 569/600:  95%|█████████▍| 568/600 [2:03:39<06:50, 12.84s/it, v_num=rp_1, total_loss_train=3.06e+3, kl_local_train=66.9, metric_mi|status_control_train=0.168, metric_mi|zone_train=0.175, metric_mi|time_cat_train=0.129, metric_mi|mouse_train=0.114]"
     ]
    },
    {
     "name": "stdout",
     "output_type": "stream",
     "text": [
      "\r",
      "Epoch 569/600:  95%|█████████▍| 569/600 [2:03:51<06:32, 12.67s/it, v_num=rp_1, total_loss_train=3.06e+3, kl_local_train=66.9, metric_mi|status_control_train=0.168, metric_mi|zone_train=0.175, metric_mi|time_cat_train=0.129, metric_mi|mouse_train=0.114]"
     ]
    },
    {
     "name": "stdout",
     "output_type": "stream",
     "text": [
      "\r",
      "Epoch 569/600:  95%|█████████▍| 569/600 [2:03:51<06:32, 12.67s/it, v_num=rp_1, total_loss_train=3.06e+3, kl_local_train=66.9, metric_mi|status_control_train=0.168, metric_mi|zone_train=0.175, metric_mi|time_cat_train=0.129, metric_mi|mouse_train=0.114]"
     ]
    },
    {
     "name": "stdout",
     "output_type": "stream",
     "text": [
      "\r",
      "Epoch 570/600:  95%|█████████▍| 569/600 [2:03:51<06:32, 12.67s/it, v_num=rp_1, total_loss_train=3.06e+3, kl_local_train=66.9, metric_mi|status_control_train=0.168, metric_mi|zone_train=0.175, metric_mi|time_cat_train=0.129, metric_mi|mouse_train=0.114]"
     ]
    },
    {
     "name": "stdout",
     "output_type": "stream",
     "text": [
      "\r",
      "Epoch 570/600:  95%|█████████▌| 570/600 [2:04:04<06:20, 12.69s/it, v_num=rp_1, total_loss_train=3.06e+3, kl_local_train=66.9, metric_mi|status_control_train=0.168, metric_mi|zone_train=0.175, metric_mi|time_cat_train=0.129, metric_mi|mouse_train=0.114]"
     ]
    },
    {
     "name": "stdout",
     "output_type": "stream",
     "text": [
      "\r",
      "Epoch 570/600:  95%|█████████▌| 570/600 [2:04:04<06:20, 12.69s/it, v_num=rp_1, total_loss_train=3.06e+3, kl_local_train=66.7, metric_mi|status_control_train=0.168, metric_mi|zone_train=0.175, metric_mi|time_cat_train=0.129, metric_mi|mouse_train=0.114]"
     ]
    },
    {
     "name": "stdout",
     "output_type": "stream",
     "text": [
      "\r",
      "Epoch 571/600:  95%|█████████▌| 570/600 [2:04:05<06:20, 12.69s/it, v_num=rp_1, total_loss_train=3.06e+3, kl_local_train=66.7, metric_mi|status_control_train=0.168, metric_mi|zone_train=0.175, metric_mi|time_cat_train=0.129, metric_mi|mouse_train=0.114]"
     ]
    },
    {
     "name": "stdout",
     "output_type": "stream",
     "text": [
      "\r",
      "Epoch 571/600:  95%|█████████▌| 571/600 [2:04:18<06:18, 13.06s/it, v_num=rp_1, total_loss_train=3.06e+3, kl_local_train=66.7, metric_mi|status_control_train=0.168, metric_mi|zone_train=0.175, metric_mi|time_cat_train=0.129, metric_mi|mouse_train=0.114]"
     ]
    },
    {
     "name": "stdout",
     "output_type": "stream",
     "text": [
      "\r",
      "Epoch 571/600:  95%|█████████▌| 571/600 [2:04:18<06:18, 13.06s/it, v_num=rp_1, total_loss_train=3.06e+3, kl_local_train=66.7, metric_mi|status_control_train=0.188, metric_mi|zone_train=0.175, metric_mi|time_cat_train=0.136, metric_mi|mouse_train=0.118]"
     ]
    },
    {
     "name": "stdout",
     "output_type": "stream",
     "text": [
      "\r",
      "Epoch 572/600:  95%|█████████▌| 571/600 [2:04:18<06:18, 13.06s/it, v_num=rp_1, total_loss_train=3.06e+3, kl_local_train=66.7, metric_mi|status_control_train=0.188, metric_mi|zone_train=0.175, metric_mi|time_cat_train=0.136, metric_mi|mouse_train=0.118]"
     ]
    },
    {
     "name": "stdout",
     "output_type": "stream",
     "text": [
      "\r",
      "Epoch 572/600:  95%|█████████▌| 572/600 [2:04:31<06:02, 12.94s/it, v_num=rp_1, total_loss_train=3.06e+3, kl_local_train=66.7, metric_mi|status_control_train=0.188, metric_mi|zone_train=0.175, metric_mi|time_cat_train=0.136, metric_mi|mouse_train=0.118]"
     ]
    },
    {
     "name": "stdout",
     "output_type": "stream",
     "text": [
      "\r",
      "Epoch 572/600:  95%|█████████▌| 572/600 [2:04:31<06:02, 12.94s/it, v_num=rp_1, total_loss_train=3.06e+3, kl_local_train=66.7, metric_mi|status_control_train=0.188, metric_mi|zone_train=0.175, metric_mi|time_cat_train=0.136, metric_mi|mouse_train=0.118]"
     ]
    },
    {
     "name": "stdout",
     "output_type": "stream",
     "text": [
      "\r",
      "Epoch 573/600:  95%|█████████▌| 572/600 [2:04:31<06:02, 12.94s/it, v_num=rp_1, total_loss_train=3.06e+3, kl_local_train=66.7, metric_mi|status_control_train=0.188, metric_mi|zone_train=0.175, metric_mi|time_cat_train=0.136, metric_mi|mouse_train=0.118]"
     ]
    },
    {
     "name": "stdout",
     "output_type": "stream",
     "text": [
      "\r",
      "Epoch 573/600:  96%|█████████▌| 573/600 [2:04:43<05:47, 12.87s/it, v_num=rp_1, total_loss_train=3.06e+3, kl_local_train=66.7, metric_mi|status_control_train=0.188, metric_mi|zone_train=0.175, metric_mi|time_cat_train=0.136, metric_mi|mouse_train=0.118]"
     ]
    },
    {
     "name": "stdout",
     "output_type": "stream",
     "text": [
      "\r",
      "Epoch 573/600:  96%|█████████▌| 573/600 [2:04:43<05:47, 12.87s/it, v_num=rp_1, total_loss_train=3.06e+3, kl_local_train=66.7, metric_mi|status_control_train=0.188, metric_mi|zone_train=0.175, metric_mi|time_cat_train=0.136, metric_mi|mouse_train=0.118]"
     ]
    },
    {
     "name": "stdout",
     "output_type": "stream",
     "text": [
      "\r",
      "Epoch 574/600:  96%|█████████▌| 573/600 [2:04:43<05:47, 12.87s/it, v_num=rp_1, total_loss_train=3.06e+3, kl_local_train=66.7, metric_mi|status_control_train=0.188, metric_mi|zone_train=0.175, metric_mi|time_cat_train=0.136, metric_mi|mouse_train=0.118]"
     ]
    },
    {
     "name": "stdout",
     "output_type": "stream",
     "text": [
      "\r",
      "Epoch 574/600:  96%|█████████▌| 574/600 [2:04:56<05:32, 12.81s/it, v_num=rp_1, total_loss_train=3.06e+3, kl_local_train=66.7, metric_mi|status_control_train=0.188, metric_mi|zone_train=0.175, metric_mi|time_cat_train=0.136, metric_mi|mouse_train=0.118]"
     ]
    },
    {
     "name": "stdout",
     "output_type": "stream",
     "text": [
      "\r",
      "Epoch 574/600:  96%|█████████▌| 574/600 [2:04:56<05:32, 12.81s/it, v_num=rp_1, total_loss_train=3.06e+3, kl_local_train=66.6, metric_mi|status_control_train=0.188, metric_mi|zone_train=0.175, metric_mi|time_cat_train=0.136, metric_mi|mouse_train=0.118]"
     ]
    },
    {
     "name": "stdout",
     "output_type": "stream",
     "text": [
      "\r",
      "Epoch 575/600:  96%|█████████▌| 574/600 [2:04:56<05:32, 12.81s/it, v_num=rp_1, total_loss_train=3.06e+3, kl_local_train=66.6, metric_mi|status_control_train=0.188, metric_mi|zone_train=0.175, metric_mi|time_cat_train=0.136, metric_mi|mouse_train=0.118]"
     ]
    },
    {
     "name": "stdout",
     "output_type": "stream",
     "text": [
      "\r",
      "Epoch 575/600:  96%|█████████▌| 575/600 [2:05:09<05:18, 12.75s/it, v_num=rp_1, total_loss_train=3.06e+3, kl_local_train=66.6, metric_mi|status_control_train=0.188, metric_mi|zone_train=0.175, metric_mi|time_cat_train=0.136, metric_mi|mouse_train=0.118]"
     ]
    },
    {
     "name": "stdout",
     "output_type": "stream",
     "text": [
      "\r",
      "Epoch 575/600:  96%|█████████▌| 575/600 [2:05:09<05:18, 12.75s/it, v_num=rp_1, total_loss_train=3.06e+3, kl_local_train=66.7, metric_mi|status_control_train=0.188, metric_mi|zone_train=0.175, metric_mi|time_cat_train=0.136, metric_mi|mouse_train=0.118]"
     ]
    },
    {
     "name": "stdout",
     "output_type": "stream",
     "text": [
      "\r",
      "Epoch 576/600:  96%|█████████▌| 575/600 [2:05:10<05:18, 12.75s/it, v_num=rp_1, total_loss_train=3.06e+3, kl_local_train=66.7, metric_mi|status_control_train=0.188, metric_mi|zone_train=0.175, metric_mi|time_cat_train=0.136, metric_mi|mouse_train=0.118]"
     ]
    },
    {
     "name": "stdout",
     "output_type": "stream",
     "text": [
      "\r",
      "Epoch 576/600:  96%|█████████▌| 576/600 [2:05:22<05:12, 13.01s/it, v_num=rp_1, total_loss_train=3.06e+3, kl_local_train=66.7, metric_mi|status_control_train=0.188, metric_mi|zone_train=0.175, metric_mi|time_cat_train=0.136, metric_mi|mouse_train=0.118]"
     ]
    },
    {
     "name": "stdout",
     "output_type": "stream",
     "text": [
      "\r",
      "Epoch 576/600:  96%|█████████▌| 576/600 [2:05:22<05:12, 13.01s/it, v_num=rp_1, total_loss_train=3.06e+3, kl_local_train=66.5, metric_mi|status_control_train=0.184, metric_mi|zone_train=0.175, metric_mi|time_cat_train=0.139, metric_mi|mouse_train=0.12] "
     ]
    },
    {
     "name": "stdout",
     "output_type": "stream",
     "text": [
      "\r",
      "Epoch 577/600:  96%|█████████▌| 576/600 [2:05:22<05:12, 13.01s/it, v_num=rp_1, total_loss_train=3.06e+3, kl_local_train=66.5, metric_mi|status_control_train=0.184, metric_mi|zone_train=0.175, metric_mi|time_cat_train=0.139, metric_mi|mouse_train=0.12]"
     ]
    },
    {
     "name": "stdout",
     "output_type": "stream",
     "text": [
      "\r",
      "Epoch 577/600:  96%|█████████▌| 577/600 [2:05:35<04:56, 12.91s/it, v_num=rp_1, total_loss_train=3.06e+3, kl_local_train=66.5, metric_mi|status_control_train=0.184, metric_mi|zone_train=0.175, metric_mi|time_cat_train=0.139, metric_mi|mouse_train=0.12]"
     ]
    },
    {
     "name": "stdout",
     "output_type": "stream",
     "text": [
      "\r",
      "Epoch 577/600:  96%|█████████▌| 577/600 [2:05:35<04:56, 12.91s/it, v_num=rp_1, total_loss_train=3.06e+3, kl_local_train=66.6, metric_mi|status_control_train=0.184, metric_mi|zone_train=0.175, metric_mi|time_cat_train=0.139, metric_mi|mouse_train=0.12]"
     ]
    },
    {
     "name": "stdout",
     "output_type": "stream",
     "text": [
      "\r",
      "Epoch 578/600:  96%|█████████▌| 577/600 [2:05:35<04:56, 12.91s/it, v_num=rp_1, total_loss_train=3.06e+3, kl_local_train=66.6, metric_mi|status_control_train=0.184, metric_mi|zone_train=0.175, metric_mi|time_cat_train=0.139, metric_mi|mouse_train=0.12]"
     ]
    },
    {
     "name": "stdout",
     "output_type": "stream",
     "text": [
      "\r",
      "Epoch 578/600:  96%|█████████▋| 578/600 [2:05:48<04:42, 12.84s/it, v_num=rp_1, total_loss_train=3.06e+3, kl_local_train=66.6, metric_mi|status_control_train=0.184, metric_mi|zone_train=0.175, metric_mi|time_cat_train=0.139, metric_mi|mouse_train=0.12]"
     ]
    },
    {
     "name": "stdout",
     "output_type": "stream",
     "text": [
      "\r",
      "Epoch 578/600:  96%|█████████▋| 578/600 [2:05:48<04:42, 12.84s/it, v_num=rp_1, total_loss_train=3.06e+3, kl_local_train=66.6, metric_mi|status_control_train=0.184, metric_mi|zone_train=0.175, metric_mi|time_cat_train=0.139, metric_mi|mouse_train=0.12]"
     ]
    },
    {
     "name": "stdout",
     "output_type": "stream",
     "text": [
      "\r",
      "Epoch 579/600:  96%|█████████▋| 578/600 [2:05:48<04:42, 12.84s/it, v_num=rp_1, total_loss_train=3.06e+3, kl_local_train=66.6, metric_mi|status_control_train=0.184, metric_mi|zone_train=0.175, metric_mi|time_cat_train=0.139, metric_mi|mouse_train=0.12]"
     ]
    },
    {
     "name": "stdout",
     "output_type": "stream",
     "text": [
      "\r",
      "Epoch 579/600:  96%|█████████▋| 579/600 [2:06:00<04:27, 12.76s/it, v_num=rp_1, total_loss_train=3.06e+3, kl_local_train=66.6, metric_mi|status_control_train=0.184, metric_mi|zone_train=0.175, metric_mi|time_cat_train=0.139, metric_mi|mouse_train=0.12]"
     ]
    },
    {
     "name": "stdout",
     "output_type": "stream",
     "text": [
      "\r",
      "Epoch 579/600:  96%|█████████▋| 579/600 [2:06:00<04:27, 12.76s/it, v_num=rp_1, total_loss_train=3.06e+3, kl_local_train=66.4, metric_mi|status_control_train=0.184, metric_mi|zone_train=0.175, metric_mi|time_cat_train=0.139, metric_mi|mouse_train=0.12]"
     ]
    },
    {
     "name": "stdout",
     "output_type": "stream",
     "text": [
      "\r",
      "Epoch 580/600:  96%|█████████▋| 579/600 [2:06:00<04:27, 12.76s/it, v_num=rp_1, total_loss_train=3.06e+3, kl_local_train=66.4, metric_mi|status_control_train=0.184, metric_mi|zone_train=0.175, metric_mi|time_cat_train=0.139, metric_mi|mouse_train=0.12]"
     ]
    },
    {
     "name": "stdout",
     "output_type": "stream",
     "text": [
      "\r",
      "Epoch 580/600:  97%|█████████▋| 580/600 [2:06:13<04:14, 12.72s/it, v_num=rp_1, total_loss_train=3.06e+3, kl_local_train=66.4, metric_mi|status_control_train=0.184, metric_mi|zone_train=0.175, metric_mi|time_cat_train=0.139, metric_mi|mouse_train=0.12]"
     ]
    },
    {
     "name": "stdout",
     "output_type": "stream",
     "text": [
      "\r",
      "Epoch 580/600:  97%|█████████▋| 580/600 [2:06:13<04:14, 12.72s/it, v_num=rp_1, total_loss_train=3.06e+3, kl_local_train=66.4, metric_mi|status_control_train=0.184, metric_mi|zone_train=0.175, metric_mi|time_cat_train=0.139, metric_mi|mouse_train=0.12]"
     ]
    },
    {
     "name": "stdout",
     "output_type": "stream",
     "text": [
      "\r",
      "Epoch 581/600:  97%|█████████▋| 580/600 [2:06:14<04:14, 12.72s/it, v_num=rp_1, total_loss_train=3.06e+3, kl_local_train=66.4, metric_mi|status_control_train=0.184, metric_mi|zone_train=0.175, metric_mi|time_cat_train=0.139, metric_mi|mouse_train=0.12]"
     ]
    },
    {
     "name": "stdout",
     "output_type": "stream",
     "text": [
      "\r",
      "Epoch 581/600:  97%|█████████▋| 581/600 [2:06:27<04:08, 13.06s/it, v_num=rp_1, total_loss_train=3.06e+3, kl_local_train=66.4, metric_mi|status_control_train=0.184, metric_mi|zone_train=0.175, metric_mi|time_cat_train=0.139, metric_mi|mouse_train=0.12]"
     ]
    },
    {
     "name": "stdout",
     "output_type": "stream",
     "text": [
      "\r",
      "Epoch 581/600:  97%|█████████▋| 581/600 [2:06:27<04:08, 13.06s/it, v_num=rp_1, total_loss_train=3.06e+3, kl_local_train=66.3, metric_mi|status_control_train=0.163, metric_mi|zone_train=0.175, metric_mi|time_cat_train=0.137, metric_mi|mouse_train=0.118]"
     ]
    },
    {
     "name": "stdout",
     "output_type": "stream",
     "text": [
      "\r",
      "Epoch 582/600:  97%|█████████▋| 581/600 [2:06:27<04:08, 13.06s/it, v_num=rp_1, total_loss_train=3.06e+3, kl_local_train=66.3, metric_mi|status_control_train=0.163, metric_mi|zone_train=0.175, metric_mi|time_cat_train=0.137, metric_mi|mouse_train=0.118]"
     ]
    },
    {
     "name": "stdout",
     "output_type": "stream",
     "text": [
      "\r",
      "Epoch 582/600:  97%|█████████▋| 582/600 [2:06:39<03:52, 12.90s/it, v_num=rp_1, total_loss_train=3.06e+3, kl_local_train=66.3, metric_mi|status_control_train=0.163, metric_mi|zone_train=0.175, metric_mi|time_cat_train=0.137, metric_mi|mouse_train=0.118]"
     ]
    },
    {
     "name": "stdout",
     "output_type": "stream",
     "text": [
      "\r",
      "Epoch 582/600:  97%|█████████▋| 582/600 [2:06:39<03:52, 12.90s/it, v_num=rp_1, total_loss_train=3.06e+3, kl_local_train=66.1, metric_mi|status_control_train=0.163, metric_mi|zone_train=0.175, metric_mi|time_cat_train=0.137, metric_mi|mouse_train=0.118]"
     ]
    },
    {
     "name": "stdout",
     "output_type": "stream",
     "text": [
      "\r",
      "Epoch 583/600:  97%|█████████▋| 582/600 [2:06:39<03:52, 12.90s/it, v_num=rp_1, total_loss_train=3.06e+3, kl_local_train=66.1, metric_mi|status_control_train=0.163, metric_mi|zone_train=0.175, metric_mi|time_cat_train=0.137, metric_mi|mouse_train=0.118]"
     ]
    },
    {
     "name": "stdout",
     "output_type": "stream",
     "text": [
      "\r",
      "Epoch 583/600:  97%|█████████▋| 583/600 [2:06:52<03:37, 12.78s/it, v_num=rp_1, total_loss_train=3.06e+3, kl_local_train=66.1, metric_mi|status_control_train=0.163, metric_mi|zone_train=0.175, metric_mi|time_cat_train=0.137, metric_mi|mouse_train=0.118]"
     ]
    },
    {
     "name": "stdout",
     "output_type": "stream",
     "text": [
      "\r",
      "Epoch 583/600:  97%|█████████▋| 583/600 [2:06:52<03:37, 12.78s/it, v_num=rp_1, total_loss_train=3.06e+3, kl_local_train=66.1, metric_mi|status_control_train=0.163, metric_mi|zone_train=0.175, metric_mi|time_cat_train=0.137, metric_mi|mouse_train=0.118]"
     ]
    },
    {
     "name": "stdout",
     "output_type": "stream",
     "text": [
      "\r",
      "Epoch 584/600:  97%|█████████▋| 583/600 [2:06:52<03:37, 12.78s/it, v_num=rp_1, total_loss_train=3.06e+3, kl_local_train=66.1, metric_mi|status_control_train=0.163, metric_mi|zone_train=0.175, metric_mi|time_cat_train=0.137, metric_mi|mouse_train=0.118]"
     ]
    },
    {
     "name": "stdout",
     "output_type": "stream",
     "text": [
      "\r",
      "Epoch 584/600:  97%|█████████▋| 584/600 [2:07:04<03:23, 12.70s/it, v_num=rp_1, total_loss_train=3.06e+3, kl_local_train=66.1, metric_mi|status_control_train=0.163, metric_mi|zone_train=0.175, metric_mi|time_cat_train=0.137, metric_mi|mouse_train=0.118]"
     ]
    },
    {
     "name": "stdout",
     "output_type": "stream",
     "text": [
      "\r",
      "Epoch 584/600:  97%|█████████▋| 584/600 [2:07:04<03:23, 12.70s/it, v_num=rp_1, total_loss_train=3.06e+3, kl_local_train=66.3, metric_mi|status_control_train=0.163, metric_mi|zone_train=0.175, metric_mi|time_cat_train=0.137, metric_mi|mouse_train=0.118]"
     ]
    },
    {
     "name": "stdout",
     "output_type": "stream",
     "text": [
      "\r",
      "Epoch 585/600:  97%|█████████▋| 584/600 [2:07:04<03:23, 12.70s/it, v_num=rp_1, total_loss_train=3.06e+3, kl_local_train=66.3, metric_mi|status_control_train=0.163, metric_mi|zone_train=0.175, metric_mi|time_cat_train=0.137, metric_mi|mouse_train=0.118]"
     ]
    },
    {
     "name": "stdout",
     "output_type": "stream",
     "text": [
      "\r",
      "Epoch 585/600:  98%|█████████▊| 585/600 [2:07:16<03:08, 12.56s/it, v_num=rp_1, total_loss_train=3.06e+3, kl_local_train=66.3, metric_mi|status_control_train=0.163, metric_mi|zone_train=0.175, metric_mi|time_cat_train=0.137, metric_mi|mouse_train=0.118]"
     ]
    },
    {
     "name": "stdout",
     "output_type": "stream",
     "text": [
      "\r",
      "Epoch 585/600:  98%|█████████▊| 585/600 [2:07:16<03:08, 12.56s/it, v_num=rp_1, total_loss_train=3.06e+3, kl_local_train=66.2, metric_mi|status_control_train=0.163, metric_mi|zone_train=0.175, metric_mi|time_cat_train=0.137, metric_mi|mouse_train=0.118]"
     ]
    },
    {
     "name": "stdout",
     "output_type": "stream",
     "text": [
      "\r",
      "Epoch 586/600:  98%|█████████▊| 585/600 [2:07:18<03:08, 12.56s/it, v_num=rp_1, total_loss_train=3.06e+3, kl_local_train=66.2, metric_mi|status_control_train=0.163, metric_mi|zone_train=0.175, metric_mi|time_cat_train=0.137, metric_mi|mouse_train=0.118]"
     ]
    },
    {
     "name": "stdout",
     "output_type": "stream",
     "text": [
      "\r",
      "Epoch 586/600:  98%|█████████▊| 586/600 [2:07:30<03:02, 13.03s/it, v_num=rp_1, total_loss_train=3.06e+3, kl_local_train=66.2, metric_mi|status_control_train=0.163, metric_mi|zone_train=0.175, metric_mi|time_cat_train=0.137, metric_mi|mouse_train=0.118]"
     ]
    },
    {
     "name": "stdout",
     "output_type": "stream",
     "text": [
      "\r",
      "Epoch 586/600:  98%|█████████▊| 586/600 [2:07:31<03:02, 13.03s/it, v_num=rp_1, total_loss_train=3.06e+3, kl_local_train=66.2, metric_mi|status_control_train=0.168, metric_mi|zone_train=0.175, metric_mi|time_cat_train=0.136, metric_mi|mouse_train=0.118]"
     ]
    },
    {
     "name": "stdout",
     "output_type": "stream",
     "text": [
      "\r",
      "Epoch 587/600:  98%|█████████▊| 586/600 [2:07:31<03:02, 13.03s/it, v_num=rp_1, total_loss_train=3.06e+3, kl_local_train=66.2, metric_mi|status_control_train=0.168, metric_mi|zone_train=0.175, metric_mi|time_cat_train=0.136, metric_mi|mouse_train=0.118]"
     ]
    },
    {
     "name": "stdout",
     "output_type": "stream",
     "text": [
      "\r",
      "Epoch 587/600:  98%|█████████▊| 587/600 [2:07:43<02:47, 12.89s/it, v_num=rp_1, total_loss_train=3.06e+3, kl_local_train=66.2, metric_mi|status_control_train=0.168, metric_mi|zone_train=0.175, metric_mi|time_cat_train=0.136, metric_mi|mouse_train=0.118]"
     ]
    },
    {
     "name": "stdout",
     "output_type": "stream",
     "text": [
      "\r",
      "Epoch 587/600:  98%|█████████▊| 587/600 [2:07:43<02:47, 12.89s/it, v_num=rp_1, total_loss_train=3.06e+3, kl_local_train=65.8, metric_mi|status_control_train=0.168, metric_mi|zone_train=0.175, metric_mi|time_cat_train=0.136, metric_mi|mouse_train=0.118]"
     ]
    },
    {
     "name": "stdout",
     "output_type": "stream",
     "text": [
      "\r",
      "Epoch 588/600:  98%|█████████▊| 587/600 [2:07:43<02:47, 12.89s/it, v_num=rp_1, total_loss_train=3.06e+3, kl_local_train=65.8, metric_mi|status_control_train=0.168, metric_mi|zone_train=0.175, metric_mi|time_cat_train=0.136, metric_mi|mouse_train=0.118]"
     ]
    },
    {
     "name": "stdout",
     "output_type": "stream",
     "text": [
      "\r",
      "Epoch 588/600:  98%|█████████▊| 588/600 [2:07:56<02:35, 12.97s/it, v_num=rp_1, total_loss_train=3.06e+3, kl_local_train=65.8, metric_mi|status_control_train=0.168, metric_mi|zone_train=0.175, metric_mi|time_cat_train=0.136, metric_mi|mouse_train=0.118]"
     ]
    },
    {
     "name": "stdout",
     "output_type": "stream",
     "text": [
      "\r",
      "Epoch 588/600:  98%|█████████▊| 588/600 [2:07:56<02:35, 12.97s/it, v_num=rp_1, total_loss_train=3.06e+3, kl_local_train=66, metric_mi|status_control_train=0.168, metric_mi|zone_train=0.175, metric_mi|time_cat_train=0.136, metric_mi|mouse_train=0.118]  "
     ]
    },
    {
     "name": "stdout",
     "output_type": "stream",
     "text": [
      "\r",
      "Epoch 589/600:  98%|█████████▊| 588/600 [2:07:56<02:35, 12.97s/it, v_num=rp_1, total_loss_train=3.06e+3, kl_local_train=66, metric_mi|status_control_train=0.168, metric_mi|zone_train=0.175, metric_mi|time_cat_train=0.136, metric_mi|mouse_train=0.118]"
     ]
    },
    {
     "name": "stdout",
     "output_type": "stream",
     "text": [
      "\r",
      "Epoch 589/600:  98%|█████████▊| 589/600 [2:08:09<02:21, 12.87s/it, v_num=rp_1, total_loss_train=3.06e+3, kl_local_train=66, metric_mi|status_control_train=0.168, metric_mi|zone_train=0.175, metric_mi|time_cat_train=0.136, metric_mi|mouse_train=0.118]"
     ]
    },
    {
     "name": "stdout",
     "output_type": "stream",
     "text": [
      "\r",
      "Epoch 589/600:  98%|█████████▊| 589/600 [2:08:09<02:21, 12.87s/it, v_num=rp_1, total_loss_train=3.06e+3, kl_local_train=65.9, metric_mi|status_control_train=0.168, metric_mi|zone_train=0.175, metric_mi|time_cat_train=0.136, metric_mi|mouse_train=0.118]"
     ]
    },
    {
     "name": "stdout",
     "output_type": "stream",
     "text": [
      "\r",
      "Epoch 590/600:  98%|█████████▊| 589/600 [2:08:09<02:21, 12.87s/it, v_num=rp_1, total_loss_train=3.06e+3, kl_local_train=65.9, metric_mi|status_control_train=0.168, metric_mi|zone_train=0.175, metric_mi|time_cat_train=0.136, metric_mi|mouse_train=0.118]"
     ]
    },
    {
     "name": "stdout",
     "output_type": "stream",
     "text": [
      "\r",
      "Epoch 590/600:  98%|█████████▊| 590/600 [2:08:22<02:09, 12.98s/it, v_num=rp_1, total_loss_train=3.06e+3, kl_local_train=65.9, metric_mi|status_control_train=0.168, metric_mi|zone_train=0.175, metric_mi|time_cat_train=0.136, metric_mi|mouse_train=0.118]"
     ]
    },
    {
     "name": "stdout",
     "output_type": "stream",
     "text": [
      "\r",
      "Epoch 590/600:  98%|█████████▊| 590/600 [2:08:22<02:09, 12.98s/it, v_num=rp_1, total_loss_train=3.06e+3, kl_local_train=65.8, metric_mi|status_control_train=0.168, metric_mi|zone_train=0.175, metric_mi|time_cat_train=0.136, metric_mi|mouse_train=0.118]"
     ]
    },
    {
     "name": "stdout",
     "output_type": "stream",
     "text": [
      "\r",
      "Epoch 591/600:  98%|█████████▊| 590/600 [2:08:23<02:09, 12.98s/it, v_num=rp_1, total_loss_train=3.06e+3, kl_local_train=65.8, metric_mi|status_control_train=0.168, metric_mi|zone_train=0.175, metric_mi|time_cat_train=0.136, metric_mi|mouse_train=0.118]"
     ]
    },
    {
     "name": "stdout",
     "output_type": "stream",
     "text": [
      "\r",
      "Epoch 591/600:  98%|█████████▊| 591/600 [2:08:37<02:00, 13.43s/it, v_num=rp_1, total_loss_train=3.06e+3, kl_local_train=65.8, metric_mi|status_control_train=0.168, metric_mi|zone_train=0.175, metric_mi|time_cat_train=0.136, metric_mi|mouse_train=0.118]"
     ]
    },
    {
     "name": "stdout",
     "output_type": "stream",
     "text": [
      "\r",
      "Epoch 591/600:  98%|█████████▊| 591/600 [2:08:37<02:00, 13.43s/it, v_num=rp_1, total_loss_train=3.06e+3, kl_local_train=65.9, metric_mi|status_control_train=0.186, metric_mi|zone_train=0.175, metric_mi|time_cat_train=0.137, metric_mi|mouse_train=0.118]"
     ]
    },
    {
     "name": "stdout",
     "output_type": "stream",
     "text": [
      "\r",
      "Epoch 592/600:  98%|█████████▊| 591/600 [2:08:37<02:00, 13.43s/it, v_num=rp_1, total_loss_train=3.06e+3, kl_local_train=65.9, metric_mi|status_control_train=0.186, metric_mi|zone_train=0.175, metric_mi|time_cat_train=0.137, metric_mi|mouse_train=0.118]"
     ]
    },
    {
     "name": "stdout",
     "output_type": "stream",
     "text": [
      "\r",
      "Epoch 592/600:  99%|█████████▊| 592/600 [2:08:49<01:46, 13.26s/it, v_num=rp_1, total_loss_train=3.06e+3, kl_local_train=65.9, metric_mi|status_control_train=0.186, metric_mi|zone_train=0.175, metric_mi|time_cat_train=0.137, metric_mi|mouse_train=0.118]"
     ]
    },
    {
     "name": "stdout",
     "output_type": "stream",
     "text": [
      "\r",
      "Epoch 592/600:  99%|█████████▊| 592/600 [2:08:49<01:46, 13.26s/it, v_num=rp_1, total_loss_train=3.06e+3, kl_local_train=66, metric_mi|status_control_train=0.186, metric_mi|zone_train=0.175, metric_mi|time_cat_train=0.137, metric_mi|mouse_train=0.118]  "
     ]
    },
    {
     "name": "stdout",
     "output_type": "stream",
     "text": [
      "\r",
      "Epoch 593/600:  99%|█████████▊| 592/600 [2:08:49<01:46, 13.26s/it, v_num=rp_1, total_loss_train=3.06e+3, kl_local_train=66, metric_mi|status_control_train=0.186, metric_mi|zone_train=0.175, metric_mi|time_cat_train=0.137, metric_mi|mouse_train=0.118]"
     ]
    },
    {
     "name": "stdout",
     "output_type": "stream",
     "text": [
      "\r",
      "Epoch 593/600:  99%|█████████▉| 593/600 [2:09:02<01:31, 13.13s/it, v_num=rp_1, total_loss_train=3.06e+3, kl_local_train=66, metric_mi|status_control_train=0.186, metric_mi|zone_train=0.175, metric_mi|time_cat_train=0.137, metric_mi|mouse_train=0.118]"
     ]
    },
    {
     "name": "stdout",
     "output_type": "stream",
     "text": [
      "\r",
      "Epoch 593/600:  99%|█████████▉| 593/600 [2:09:02<01:31, 13.13s/it, v_num=rp_1, total_loss_train=3.06e+3, kl_local_train=65.7, metric_mi|status_control_train=0.186, metric_mi|zone_train=0.175, metric_mi|time_cat_train=0.137, metric_mi|mouse_train=0.118]"
     ]
    },
    {
     "name": "stdout",
     "output_type": "stream",
     "text": [
      "\r",
      "Epoch 594/600:  99%|█████████▉| 593/600 [2:09:02<01:31, 13.13s/it, v_num=rp_1, total_loss_train=3.06e+3, kl_local_train=65.7, metric_mi|status_control_train=0.186, metric_mi|zone_train=0.175, metric_mi|time_cat_train=0.137, metric_mi|mouse_train=0.118]"
     ]
    },
    {
     "name": "stdout",
     "output_type": "stream",
     "text": [
      "\r",
      "Epoch 594/600:  99%|█████████▉| 594/600 [2:09:15<01:18, 13.05s/it, v_num=rp_1, total_loss_train=3.06e+3, kl_local_train=65.7, metric_mi|status_control_train=0.186, metric_mi|zone_train=0.175, metric_mi|time_cat_train=0.137, metric_mi|mouse_train=0.118]"
     ]
    },
    {
     "name": "stdout",
     "output_type": "stream",
     "text": [
      "\r",
      "Epoch 594/600:  99%|█████████▉| 594/600 [2:09:15<01:18, 13.05s/it, v_num=rp_1, total_loss_train=3.06e+3, kl_local_train=65.7, metric_mi|status_control_train=0.186, metric_mi|zone_train=0.175, metric_mi|time_cat_train=0.137, metric_mi|mouse_train=0.118]"
     ]
    },
    {
     "name": "stdout",
     "output_type": "stream",
     "text": [
      "\r",
      "Epoch 595/600:  99%|█████████▉| 594/600 [2:09:15<01:18, 13.05s/it, v_num=rp_1, total_loss_train=3.06e+3, kl_local_train=65.7, metric_mi|status_control_train=0.186, metric_mi|zone_train=0.175, metric_mi|time_cat_train=0.137, metric_mi|mouse_train=0.118]"
     ]
    },
    {
     "name": "stdout",
     "output_type": "stream",
     "text": [
      "\r",
      "Epoch 595/600:  99%|█████████▉| 595/600 [2:09:28<01:04, 12.99s/it, v_num=rp_1, total_loss_train=3.06e+3, kl_local_train=65.7, metric_mi|status_control_train=0.186, metric_mi|zone_train=0.175, metric_mi|time_cat_train=0.137, metric_mi|mouse_train=0.118]"
     ]
    },
    {
     "name": "stdout",
     "output_type": "stream",
     "text": [
      "\r",
      "Epoch 595/600:  99%|█████████▉| 595/600 [2:09:28<01:04, 12.99s/it, v_num=rp_1, total_loss_train=3.06e+3, kl_local_train=65.7, metric_mi|status_control_train=0.186, metric_mi|zone_train=0.175, metric_mi|time_cat_train=0.137, metric_mi|mouse_train=0.118]"
     ]
    },
    {
     "name": "stdout",
     "output_type": "stream",
     "text": [
      "\r",
      "Epoch 596/600:  99%|█████████▉| 595/600 [2:09:29<01:04, 12.99s/it, v_num=rp_1, total_loss_train=3.06e+3, kl_local_train=65.7, metric_mi|status_control_train=0.186, metric_mi|zone_train=0.175, metric_mi|time_cat_train=0.137, metric_mi|mouse_train=0.118]"
     ]
    },
    {
     "name": "stdout",
     "output_type": "stream",
     "text": [
      "\r",
      "Epoch 596/600:  99%|█████████▉| 596/600 [2:09:42<00:53, 13.32s/it, v_num=rp_1, total_loss_train=3.06e+3, kl_local_train=65.7, metric_mi|status_control_train=0.186, metric_mi|zone_train=0.175, metric_mi|time_cat_train=0.137, metric_mi|mouse_train=0.118]"
     ]
    },
    {
     "name": "stdout",
     "output_type": "stream",
     "text": [
      "\r",
      "Epoch 596/600:  99%|█████████▉| 596/600 [2:09:42<00:53, 13.32s/it, v_num=rp_1, total_loss_train=3.06e+3, kl_local_train=65.9, metric_mi|status_control_train=0.172, metric_mi|zone_train=0.175, metric_mi|time_cat_train=0.131, metric_mi|mouse_train=0.115]"
     ]
    },
    {
     "name": "stdout",
     "output_type": "stream",
     "text": [
      "\r",
      "Epoch 597/600:  99%|█████████▉| 596/600 [2:09:42<00:53, 13.32s/it, v_num=rp_1, total_loss_train=3.06e+3, kl_local_train=65.9, metric_mi|status_control_train=0.172, metric_mi|zone_train=0.175, metric_mi|time_cat_train=0.131, metric_mi|mouse_train=0.115]"
     ]
    },
    {
     "name": "stdout",
     "output_type": "stream",
     "text": [
      "\r",
      "Epoch 597/600: 100%|█████████▉| 597/600 [2:09:55<00:39, 13.16s/it, v_num=rp_1, total_loss_train=3.06e+3, kl_local_train=65.9, metric_mi|status_control_train=0.172, metric_mi|zone_train=0.175, metric_mi|time_cat_train=0.131, metric_mi|mouse_train=0.115]"
     ]
    },
    {
     "name": "stdout",
     "output_type": "stream",
     "text": [
      "\r",
      "Epoch 597/600: 100%|█████████▉| 597/600 [2:09:55<00:39, 13.16s/it, v_num=rp_1, total_loss_train=3.06e+3, kl_local_train=65.6, metric_mi|status_control_train=0.172, metric_mi|zone_train=0.175, metric_mi|time_cat_train=0.131, metric_mi|mouse_train=0.115]"
     ]
    },
    {
     "name": "stdout",
     "output_type": "stream",
     "text": [
      "\r",
      "Epoch 598/600: 100%|█████████▉| 597/600 [2:09:55<00:39, 13.16s/it, v_num=rp_1, total_loss_train=3.06e+3, kl_local_train=65.6, metric_mi|status_control_train=0.172, metric_mi|zone_train=0.175, metric_mi|time_cat_train=0.131, metric_mi|mouse_train=0.115]"
     ]
    },
    {
     "name": "stdout",
     "output_type": "stream",
     "text": [
      "\r",
      "Epoch 598/600: 100%|█████████▉| 598/600 [2:10:08<00:26, 13.07s/it, v_num=rp_1, total_loss_train=3.06e+3, kl_local_train=65.6, metric_mi|status_control_train=0.172, metric_mi|zone_train=0.175, metric_mi|time_cat_train=0.131, metric_mi|mouse_train=0.115]"
     ]
    },
    {
     "name": "stdout",
     "output_type": "stream",
     "text": [
      "\r",
      "Epoch 598/600: 100%|█████████▉| 598/600 [2:10:08<00:26, 13.07s/it, v_num=rp_1, total_loss_train=3.06e+3, kl_local_train=65.5, metric_mi|status_control_train=0.172, metric_mi|zone_train=0.175, metric_mi|time_cat_train=0.131, metric_mi|mouse_train=0.115]"
     ]
    },
    {
     "name": "stdout",
     "output_type": "stream",
     "text": [
      "\r",
      "Epoch 599/600: 100%|█████████▉| 598/600 [2:10:08<00:26, 13.07s/it, v_num=rp_1, total_loss_train=3.06e+3, kl_local_train=65.5, metric_mi|status_control_train=0.172, metric_mi|zone_train=0.175, metric_mi|time_cat_train=0.131, metric_mi|mouse_train=0.115]"
     ]
    },
    {
     "name": "stdout",
     "output_type": "stream",
     "text": [
      "\r",
      "Epoch 599/600: 100%|█████████▉| 599/600 [2:10:20<00:12, 12.98s/it, v_num=rp_1, total_loss_train=3.06e+3, kl_local_train=65.5, metric_mi|status_control_train=0.172, metric_mi|zone_train=0.175, metric_mi|time_cat_train=0.131, metric_mi|mouse_train=0.115]"
     ]
    },
    {
     "name": "stdout",
     "output_type": "stream",
     "text": [
      "\r",
      "Epoch 599/600: 100%|█████████▉| 599/600 [2:10:20<00:12, 12.98s/it, v_num=rp_1, total_loss_train=3.06e+3, kl_local_train=65.5, metric_mi|status_control_train=0.172, metric_mi|zone_train=0.175, metric_mi|time_cat_train=0.131, metric_mi|mouse_train=0.115]"
     ]
    },
    {
     "name": "stdout",
     "output_type": "stream",
     "text": [
      "\r",
      "Epoch 600/600: 100%|█████████▉| 599/600 [2:10:20<00:12, 12.98s/it, v_num=rp_1, total_loss_train=3.06e+3, kl_local_train=65.5, metric_mi|status_control_train=0.172, metric_mi|zone_train=0.175, metric_mi|time_cat_train=0.131, metric_mi|mouse_train=0.115]"
     ]
    },
    {
     "name": "stdout",
     "output_type": "stream",
     "text": [
      "\r",
      "Epoch 600/600: 100%|██████████| 600/600 [2:10:33<00:00, 12.87s/it, v_num=rp_1, total_loss_train=3.06e+3, kl_local_train=65.5, metric_mi|status_control_train=0.172, metric_mi|zone_train=0.175, metric_mi|time_cat_train=0.131, metric_mi|mouse_train=0.115]"
     ]
    },
    {
     "name": "stdout",
     "output_type": "stream",
     "text": [
      "\r",
      "Epoch 600/600: 100%|██████████| 600/600 [2:10:33<00:00, 12.87s/it, v_num=rp_1, total_loss_train=3.06e+3, kl_local_train=65.3, metric_mi|status_control_train=0.172, metric_mi|zone_train=0.175, metric_mi|time_cat_train=0.131, metric_mi|mouse_train=0.115]"
     ]
    },
    {
     "name": "stderr",
     "output_type": "stream",
     "text": [
      "`Trainer.fit` stopped: `max_epochs=600` reached.\n"
     ]
    },
    {
     "name": "stdout",
     "output_type": "stream",
     "text": [
      "\r",
      "Epoch 600/600: 100%|██████████| 600/600 [2:10:35<00:00, 13.06s/it, v_num=rp_1, total_loss_train=3.06e+3, kl_local_train=65.3, metric_mi|status_control_train=0.172, metric_mi|zone_train=0.175, metric_mi|time_cat_train=0.131, metric_mi|mouse_train=0.115]"
     ]
    },
    {
     "name": "stdout",
     "output_type": "stream",
     "text": [
      "\n"
     ]
    },
    {
     "name": "stdout",
     "output_type": "stream",
     "text": [
      "W&B logger finalized successfully: \n",
      "Exit Code: 0\n",
      "\n"
     ]
    }
   ],
   "source": [
    "n_epochs_kl_warmup = 600\n",
    "\n",
    "model_params = dict(\n",
    "    n_hidden=512,\n",
    "    n_layers=3, \n",
    "    n_latent=(24 + 8 * len(disentenglement_targets_configurations)),\n",
    "    gene_likelihood = \"nb\",\n",
    "    use_batch_norm = \"none\",\n",
    "    use_layer_norm = \"both\",\n",
    "    dropout_rate = 0.25,\n",
    "    deeply_inject_disentengled_latents = True,\n",
    "    include_auxillary_loss = True,\n",
    "    beta_kl_weight = 0.5,\n",
    "    encode_covariates = True,\n",
    ")\n",
    "\n",
    "train_params = dict(\n",
    "    max_epochs=600,\n",
    "    train_size=0.8,\n",
    "    batch_size=128,\n",
    "    check_val_every_n_epoch=10,\n",
    "    limit_train_batches=1.0, \n",
    "    limit_val_batches=1.0,\n",
    "    learning_rate_monitor=True,\n",
    "    # early stopping:\n",
    "    early_stopping=False,\n",
    "    early_stopping_patience=150,\n",
    "    early_stopping_monitor=\"elbo_train\",\n",
    "    plan_kwargs = dict(\n",
    "        n_epochs_kl_warmup=n_epochs_kl_warmup,\n",
    "        lr=1e-4,\n",
    "        weight_decay=1e-4,\n",
    "        optimizer=\"AdamW\",\n",
    "        # lr-scheduler:\n",
    "        reduce_lr_on_plateau=True,\n",
    "        lr_patience=100,\n",
    "        lr_scheduler_metric=\"elbo_train\",\n",
    "    )\n",
    ")\n",
    "\n",
    "dataset_params = dict(\n",
    "    layer=None, \n",
    "    labels_key=None,\n",
    "    batch_key=None,\n",
    "    categorical_covariate_keys=None,\n",
    "    disentenglement_targets_configurations=disentenglement_targets_configurations,\n",
    "    model_level_metrics=None,\n",
    "    model_level_metrics_helper_covariates=None\n",
    ")\n",
    "\n",
    "tardis.MyModel.setup_anndata(adata, **dataset_params)\n",
    "dataset_params[\"adata_path\"] = adata_file_path\n",
    "dataset_params[\"adata\"] = os.path.split(adata_file_path)[1]\n",
    "\n",
    "tardis.MyModel.setup_wandb(\n",
    "    wandb_configurations=tardis.config.wandb,\n",
    "    hyperparams=dict(\n",
    "        model_params=model_params,\n",
    "        train_params=train_params,\n",
    "        dataset_params=dataset_params,\n",
    "    )\n",
    ")\n",
    "\n",
    "vae = tardis.MyModel(\n",
    "    adata,\n",
    "    **model_params\n",
    ")\n",
    "vae.train(**train_params)"
   ]
  },
  {
   "cell_type": "code",
   "execution_count": null,
   "id": "0999ed7b-36ad-4992-a496-c824126b3fe0",
   "metadata": {},
   "outputs": [],
   "source": [
    "dir_path = os.path.join(\n",
    "    tardis.config.io_directories[\"models\"],\n",
    "    f\"afriat_v2_4_1_ood_expression-seed-{ood_seed}_size-{num_ood}\"\n",
    ")\n",
    "\n",
    "vae.save(\n",
    "    dir_path,\n",
    "    overwrite=True,\n",
    ")"
   ]
  },
  {
   "cell_type": "code",
   "execution_count": null,
   "id": "0fc4f365-b7a0-4c4d-92b9-993c53327048",
   "metadata": {},
   "outputs": [],
   "source": [
    "vae.get_reconstruction_r2_training(top_n=[])"
   ]
  },
  {
   "cell_type": "code",
   "execution_count": null,
   "id": "6d9b0307-9421-490b-8024-0c6bda8c18e3",
   "metadata": {},
   "outputs": [],
   "source": [
    "adata.obs[\"validation\"] = \"train\"\n",
    "adata.obs[\"validation\"].iloc[vae.validation_indices] = \"validation\""
   ]
  },
  {
   "cell_type": "code",
   "execution_count": null,
   "id": "ccd6d863-6767-4d28-b837-3c0315ba9fa5",
   "metadata": {},
   "outputs": [],
   "source": [
    "from tardis._disentanglementmanager import DisentanglementManager as DM"
   ]
  },
  {
   "cell_type": "code",
   "execution_count": null,
   "id": "22710fb8-6c76-4e95-8290-6eff478ad7c9",
   "metadata": {},
   "outputs": [],
   "source": [
    "latent = ad.AnnData(X=vae.get_latent_representation(), obs=adata.obs.copy())\n",
    "sc.pp.neighbors(latent)\n",
    "sc.tl.umap(latent)\n",
    "\n",
    "with warnings.catch_warnings():\n",
    "    warnings.simplefilter(\"ignore\")\n",
    "    sc.pl.umap(\n",
    "        latent, \n",
    "        color=['mouse', 'experiment', 'time_cat', 'zone', 'status_control', \"validation\"], \n",
    "        ncols=3,\n",
    "        frameon=False,\n",
    "        legend_fontsize=\"xx-small\"\n",
    "    )"
   ]
  },
  {
   "cell_type": "markdown",
   "id": "59950781-b667-4c08-9ecd-49d0619e868b",
   "metadata": {},
   "source": [
    "## Preds"
   ]
  },
  {
   "cell_type": "code",
   "execution_count": null,
   "id": "9f4ebef9-43af-4b22-b738-a98ba49ae91b",
   "metadata": {},
   "outputs": [],
   "source": [
    "adata_main = ad.read_h5ad(adata_file_path)\n",
    "adata_main.obs[\"ood\"] = choices_bool.astype(int).astype(str)\n",
    "adata_main.obs[\"ood\"] = adata_main.obs[\"ood\"].astype(\"category\")\n",
    "\n",
    "adata_ood = adata_main[adata_main.obs[\"ood\"] == \"1\"].copy()"
   ]
  },
  {
   "cell_type": "code",
   "execution_count": null,
   "id": "bbd39704-55c3-4632-89de-fbe83eb5b0eb",
   "metadata": {},
   "outputs": [],
   "source": [
    "# latent_main = ad.AnnData(X=vae.get_latent_representation(adata_main)[:, DM.configurations.get_by_obs_key(\"age\").reserved_latent_indices], obs=adata_main.obs.copy())\n",
    "latent_main = ad.AnnData(X=vae.get_latent_representation(adata_main), obs=adata_main.obs.copy())\n",
    "sc.pp.neighbors(latent_main)\n",
    "sc.tl.umap(latent_main)"
   ]
  },
  {
   "cell_type": "code",
   "execution_count": null,
   "id": "670232e0-8d4e-4ce6-bc14-cb03124231e4",
   "metadata": {},
   "outputs": [],
   "source": [
    "with warnings.catch_warnings():\n",
    "    warnings.simplefilter(\"ignore\")\n",
    "    sc.pl.umap(\n",
    "        latent_main, \n",
    "        color=['mouse', 'experiment', 'time_cat', 'zone', 'status_control', \"ood\"], \n",
    "        ncols=3,\n",
    "        frameon=False,\n",
    "        legend_fontsize=\"xx-small\"\n",
    "    )"
   ]
  },
  {
   "cell_type": "code",
   "execution_count": null,
   "id": "dedd3acc-4445-40aa-b1af-9b07779d3c35",
   "metadata": {},
   "outputs": [],
   "source": [
    "k = \"status_control\"\n",
    "\n",
    "latent = ad.AnnData(X=vae.get_latent_representation(adata)[:, DM.configurations.get_by_obs_key(k).reserved_latent_indices], obs=adata.obs.copy())\n",
    "sc.pp.neighbors(latent)\n",
    "\n",
    "latent_ood = ad.AnnData(X=vae.get_latent_representation(adata_ood)[:, DM.configurations.get_by_obs_key(k).reserved_latent_indices], obs=adata_ood.obs.copy())\n",
    "sc.pp.neighbors(latent_ood)\n",
    "sc.tl.umap(latent_ood)\n",
    "\n",
    "label_transfer(latent, latent_ood, cluster_list=[k], neighbors_count=30)\n",
    "predicted = latent_ood.obs[f\"transf_{k}\"].astype(str).values\n",
    "true = latent_ood.obs[k].astype(str).values\n",
    "\n",
    "metrics = {}\n",
    "metrics['accuracy'] = sklearn.metrics.accuracy_score(true, predicted)\n",
    "metrics['precision_macro'] = sklearn.metrics.precision_score(true, predicted, average='macro', zero_division=0)\n",
    "metrics['recall_macro'] = sklearn.metrics.recall_score(true, predicted, average='macro', zero_division=0)\n",
    "metrics['f1_score_macro'] = sklearn.metrics.f1_score(true, predicted, average='macro', zero_division=0)\n",
    "metrics['precision_micro'] = sklearn.metrics.precision_score(true, predicted, average='micro', zero_division=0)\n",
    "metrics['recall_micro'] = sklearn.metrics.recall_score(true, predicted, average='micro', zero_division=0)\n",
    "metrics['f1_score_micro'] = sklearn.metrics.f1_score(true, predicted, average='micro', zero_division=0)\n",
    "metrics['precision_weighted'] = sklearn.metrics.precision_score(true, predicted, average='weighted', zero_division=0)\n",
    "metrics['recall_weighted'] = sklearn.metrics.recall_score(true, predicted, average='weighted', zero_division=0)\n",
    "metrics['f1_score_weighted'] = sklearn.metrics.f1_score(true, predicted, average='weighted', zero_division=0)\n",
    "metrics['confusion_matrix'] = sklearn.metrics.confusion_matrix(true, predicted)\n",
    "\n",
    "t = latent_main.obs[k].astype(str).to_numpy().copy()\n",
    "dummy_clf = DummyClassifier(strategy=\"most_frequent\")\n",
    "dummy_clf.fit(t.reshape(-1, 1), t)\n",
    "dummy_predictions = dummy_clf.predict(t.reshape(-1, 1))\n",
    "print(\"Baseline Accuracy:\", sklearn.metrics.accuracy_score(t, dummy_predictions))\n",
    "print(\"F1 Weighted:\", sklearn.metrics.f1_score(t, dummy_predictions, average='weighted', zero_division=0))\n",
    "print()\n",
    "t = latent_main.obs[k].astype(str).to_numpy().copy()\n",
    "dummy_clf = DummyClassifier(strategy=\"stratified\")\n",
    "dummy_clf.fit(t.reshape(-1, 1), t)\n",
    "dummy_predictions = dummy_clf.predict(t.reshape(-1, 1))\n",
    "print(\"Baseline Accuracy:\", sklearn.metrics.accuracy_score(t, dummy_predictions))\n",
    "print(\"F1 Weighted:\", sklearn.metrics.f1_score(t, dummy_predictions, average='weighted', zero_division=0))\n",
    "print()\n",
    "metrics"
   ]
  },
  {
   "cell_type": "code",
   "execution_count": null,
   "id": "e779e8e4-8ba6-46f6-b3a9-e05a75c99807",
   "metadata": {},
   "outputs": [],
   "source": [
    "with warnings.catch_warnings():\n",
    "    warnings.simplefilter(\"ignore\")\n",
    "    sc.pl.umap(\n",
    "        latent_ood, \n",
    "        color=[k, f\"transf_{k}\", f\"transf_{k}_unc\"], \n",
    "        ncols=4,\n",
    "        frameon=False,\n",
    "        color_map=\"inferno\",\n",
    "        legend_fontsize=\"xx-small\"\n",
    "    )"
   ]
  },
  {
   "cell_type": "code",
   "execution_count": null,
   "id": "bf5898bd-d83d-4f2d-b066-e10b8d59a568",
   "metadata": {},
   "outputs": [],
   "source": [
    "k = \"status_control\"\n",
    "\n",
    "latent = ad.AnnData(X=vae.get_latent_representation(adata), obs=adata.obs.copy())\n",
    "sc.pp.neighbors(latent)\n",
    "\n",
    "latent_ood = ad.AnnData(X=vae.get_latent_representation(adata_ood), obs=adata_ood.obs.copy())\n",
    "sc.pp.neighbors(latent_ood)\n",
    "sc.tl.umap(latent_ood)\n",
    "\n",
    "label_transfer(latent, latent_ood, cluster_list=[k], neighbors_count=30)\n",
    "predicted = latent_ood.obs[f\"transf_{k}\"].astype(str).values\n",
    "true = latent_ood.obs[k].astype(str).values\n",
    "\n",
    "metrics = {}\n",
    "metrics['accuracy'] = sklearn.metrics.accuracy_score(true, predicted)\n",
    "metrics['precision_macro'] = sklearn.metrics.precision_score(true, predicted, average='macro', zero_division=0)\n",
    "metrics['recall_macro'] = sklearn.metrics.recall_score(true, predicted, average='macro', zero_division=0)\n",
    "metrics['f1_score_macro'] = sklearn.metrics.f1_score(true, predicted, average='macro', zero_division=0)\n",
    "metrics['precision_micro'] = sklearn.metrics.precision_score(true, predicted, average='micro', zero_division=0)\n",
    "metrics['recall_micro'] = sklearn.metrics.recall_score(true, predicted, average='micro', zero_division=0)\n",
    "metrics['f1_score_micro'] = sklearn.metrics.f1_score(true, predicted, average='micro', zero_division=0)\n",
    "metrics['precision_weighted'] = sklearn.metrics.precision_score(true, predicted, average='weighted', zero_division=0)\n",
    "metrics['recall_weighted'] = sklearn.metrics.recall_score(true, predicted, average='weighted', zero_division=0)\n",
    "metrics['f1_score_weighted'] = sklearn.metrics.f1_score(true, predicted, average='weighted', zero_division=0)\n",
    "metrics['confusion_matrix'] = sklearn.metrics.confusion_matrix(true, predicted)\n",
    "\n",
    "t = latent_main.obs[k].astype(str).to_numpy().copy()\n",
    "dummy_clf = DummyClassifier(strategy=\"most_frequent\")\n",
    "dummy_clf.fit(t.reshape(-1, 1), t)\n",
    "dummy_predictions = dummy_clf.predict(t.reshape(-1, 1))\n",
    "print(\"Baseline Accuracy:\", sklearn.metrics.accuracy_score(t, dummy_predictions))\n",
    "print(\"F1 Weighted:\", sklearn.metrics.f1_score(t, dummy_predictions, average='weighted', zero_division=0))\n",
    "print()\n",
    "t = latent_main.obs[k].astype(str).to_numpy().copy()\n",
    "dummy_clf = DummyClassifier(strategy=\"stratified\")\n",
    "dummy_clf.fit(t.reshape(-1, 1), t)\n",
    "dummy_predictions = dummy_clf.predict(t.reshape(-1, 1))\n",
    "print(\"Baseline Accuracy:\", sklearn.metrics.accuracy_score(t, dummy_predictions))\n",
    "print(\"F1 Weighted:\", sklearn.metrics.f1_score(t, dummy_predictions, average='weighted', zero_division=0))\n",
    "print()\n",
    "metrics"
   ]
  },
  {
   "cell_type": "code",
   "execution_count": null,
   "id": "1eb8af5d-e22b-4bc6-9377-17b1191572fc",
   "metadata": {},
   "outputs": [],
   "source": []
  },
  {
   "cell_type": "code",
   "execution_count": null,
   "id": "3175bdd1-82df-4e8d-a9d6-a3e8151991d9",
   "metadata": {},
   "outputs": [],
   "source": []
  },
  {
   "cell_type": "code",
   "execution_count": null,
   "id": "a028a417-d401-4937-b9a5-eac752916e55",
   "metadata": {},
   "outputs": [],
   "source": []
  }
 ],
 "metadata": {
  "kernelspec": {
   "display_name": "Python 3 (ipykernel)",
   "language": "python",
   "name": "python3"
  },
  "language_info": {
   "codemirror_mode": {
    "name": "ipython",
    "version": 3
   },
   "file_extension": ".py",
   "mimetype": "text/x-python",
   "name": "python",
   "nbconvert_exporter": "python",
   "pygments_lexer": "ipython3",
   "version": "3.10.14"
  }
 },
 "nbformat": 4,
 "nbformat_minor": 5
}
