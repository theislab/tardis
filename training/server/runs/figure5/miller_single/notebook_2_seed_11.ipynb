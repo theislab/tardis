{
 "cells": [
  {
   "cell_type": "markdown",
   "id": "3caa2a27-8613-4d8d-bca4-6fd0b2845d32",
   "metadata": {},
   "source": [
    "# Miller age"
   ]
  },
  {
   "cell_type": "code",
   "execution_count": null,
   "id": "11fa8042-968c-4056-b6c2-21d2a41e4a91",
   "metadata": {},
   "outputs": [],
   "source": [
    "ood_seed = 11"
   ]
  },
  {
   "cell_type": "code",
   "execution_count": null,
   "id": "bf8c640b-1de3-4d28-a3ab-3dd5b54f91c5",
   "metadata": {},
   "outputs": [],
   "source": [
    "num_ood = 1  # not functioning"
   ]
  },
  {
   "cell_type": "code",
   "execution_count": null,
   "id": "b10ebc29",
   "metadata": {},
   "outputs": [],
   "source": [
    "obs_key = \"age\""
   ]
  },
  {
   "cell_type": "code",
   "execution_count": null,
   "id": "d05ef01e-8441-415f-a6f7-0b6d8f4761d1",
   "metadata": {},
   "outputs": [],
   "source": [
    "import warnings\n",
    "import os\n",
    "import sys\n",
    "import gc\n",
    "import warnings\n",
    "import anndata as ad\n",
    "import scanpy as sc\n",
    "import copy\n",
    "import torch\n",
    "from pathlib import Path\n",
    "import networkx as nx\n",
    "from sklearn.neighbors import kneighbors_graph\n",
    "import numpy as np\n",
    "import scanpy as sc\n",
    "import pandas as pd\n",
    "import numpy as np\n",
    "import scipy.stats\n",
    "import sklearn\n",
    "from sklearn.dummy import DummyClassifier\n",
    "\n",
    "sys.path.append(\"/home/icb/kemal.inecik/work/codes/tardis\")\n",
    "import tardis\n",
    "from tardis._utils.functions import label_transfer\n",
    "tardis.config = tardis.config_server\n",
    "print(f\"CUDA used: {torch.cuda.is_available()}\")"
   ]
  },
  {
   "cell_type": "code",
   "execution_count": null,
   "id": "7bf1c85f-50e2-42e6-b0e1-54c8d7891674",
   "metadata": {},
   "outputs": [],
   "source": [
    "%matplotlib inline\n",
    "%config InlineBackend.figure_format='retina'\n",
    "import matplotlib.pyplot as plt\n",
    "import seaborn as sns\n",
    "\n",
    "import pickle\n",
    "_rcparams_path = \"/home/icb/kemal.inecik/work/codes/tardis/training/local/figures/rcparams.pickle\"\n",
    "with open(_rcparams_path, 'rb') as file:\n",
    "    _rcparams = pickle.load(file)\n",
    "plt.rcParams.update(_rcparams)"
   ]
  },
  {
   "cell_type": "code",
   "execution_count": null,
   "id": "468dee11-f67f-4838-9bd8-c0822e9b310f",
   "metadata": {},
   "outputs": [],
   "source": [
    "adata_file_path = os.path.join(tardis.config.io_directories[\"processed\"], \"dataset_complete_Miller.h5ad\")\n",
    "assert os.path.isfile(adata_file_path), f\"File not already exist: `{adata_file_path}`\"\n",
    "adata = ad.read_h5ad(adata_file_path)\n",
    "adata.obs[\"age\"] = adata.obs[\"age\"].astype(\"str\").astype(\"category\")\n",
    "\n",
    "adata.obs[\"age\"] = adata.obs[\"age\"].astype(\"str\").astype(\"category\")\n",
    "adata.obs[\"age_continuous\"] = adata.obs[\"age\"].astype(float)\n",
    "df = adata.obs.groupby([\"cell_type\", \"age\"]).size()\n",
    "df2 = adata.obs.groupby([\"cell_type\"]).size()\n",
    "availables = [(i, df[i]) for i in df.index if df[i] > 100 and df2[i[0]] > 350]"
   ]
  },
  {
   "cell_type": "code",
   "execution_count": null,
   "id": "037fb223-7d1a-47fa-87e5-2fb58275af64",
   "metadata": {},
   "outputs": [],
   "source": [
    "df"
   ]
  },
  {
   "cell_type": "code",
   "execution_count": null,
   "id": "3d4da34c-707f-432e-b3a3-c01a6290a670",
   "metadata": {},
   "outputs": [],
   "source": [
    "availables, len(availables)"
   ]
  },
  {
   "cell_type": "code",
   "execution_count": null,
   "id": "94ab9776-4e50-4995-9aa4-c4c04c60a1c3",
   "metadata": {},
   "outputs": [],
   "source": [
    "def adata_ood_creator(adata, seed, size):\n",
    "    rng = np.random.default_rng(seed=seed)\n",
    "    # random_choices = rng.choice(np.arange(len(availables)), size=size, replace=False)\n",
    "    # choices = [availables[i] for i in random_choices]\n",
    "    choices = [availables[ood_seed]]\n",
    "    for choice in choices:\n",
    "        print(choice)\n",
    "    choices_bool = np.vstack([(adata.obs[\"cell_type\"] == choice[0][0]) & (adata.obs[\"age\"] == choice[0][1]) for choice in choices]).any(axis=0)\n",
    "    print(f\"\\nRemoved datapoint: {choices_bool.sum()}\")\n",
    "    return adata[~choices_bool, :].copy(), choices_bool\n",
    "\n",
    "adata, choices_bool = adata_ood_creator(adata, seed=ood_seed, size=num_ood)"
   ]
  },
  {
   "cell_type": "code",
   "execution_count": null,
   "id": "8cb3d7bd-b684-427f-8cdc-be22859939ce",
   "metadata": {},
   "outputs": [],
   "source": [
    "adata"
   ]
  },
  {
   "cell_type": "code",
   "execution_count": null,
   "id": "bbd35a92-2801-4b28-bc4e-b6c25122c30e",
   "metadata": {},
   "outputs": [],
   "source": [
    "dir_path = os.path.join(\n",
    "    tardis.config.io_directories[\"models\"],\n",
    "    f\"miller_ood_expression-seed-{ood_seed}_size-{num_ood}_obs-{obs_key}\"\n",
    ")"
   ]
  },
  {
   "cell_type": "code",
   "execution_count": null,
   "id": "70f0966b-1af6-49d3-abbe-0165e70fc35f",
   "metadata": {},
   "outputs": [],
   "source": [
    "# vae = tardis.MyModel.load(dir_path, adata=adata)"
   ]
  },
  {
   "cell_type": "code",
   "execution_count": null,
   "id": "fb11176c",
   "metadata": {},
   "outputs": [],
   "source": [
    "(\n",
    "    adata.obs[\"integration_donor\"].nunique(),\n",
    "    adata.obs[\"integration_biological_unit\"].nunique(),\n",
    "    adata.obs[\"integration_sample_status\"].nunique(),\n",
    "    adata.obs[\"integration_library_platform_coarse\"].nunique(),\n",
    ") "
   ]
  },
  {
   "cell_type": "code",
   "execution_count": null,
   "id": "f96b8204-22ba-47d5-b17f-9fe263cc87f6",
   "metadata": {},
   "outputs": [],
   "source": [
    "warmup_epoch_range = [6, 48]\n",
    "\n",
    "counteractive_minibatch_settings = dict(\n",
    "    method = \"categorical_random\",\n",
    "    method_kwargs = dict(\n",
    "        within_labels = False,\n",
    "        within_batch = False,\n",
    "        within_categorical_covs = None,\n",
    "        seed = \"forward\",\n",
    "    )\n",
    ")\n",
    "\n",
    "tardis_loss_weight_1 = 100\n",
    "tardis_loss_weight_2 = 10\n",
    "\n",
    "disentenglement_targets_configurations=[\n",
    "    dict(\n",
    "        obs_key = obs_key,\n",
    "        n_reserved_latent = 8,\n",
    "        counteractive_minibatch_settings = counteractive_minibatch_settings,\n",
    "        auxillary_losses = [\n",
    "            dict(\n",
    "                apply = True, \n",
    "                target_type=\"categorical\",\n",
    "                progress_bar = True,\n",
    "                weight = tardis_loss_weight_1,\n",
    "                method = \"mse_z\", \n",
    "                latent_group = \"reserved\",\n",
    "                counteractive_example = \"negative\",\n",
    "                transformation = \"inverse\", \n",
    "                warmup_epoch_range=warmup_epoch_range,\n",
    "                method_kwargs = {}\n",
    "            ),\n",
    "            dict(\n",
    "                apply = True, \n",
    "                target_type=\"categorical\",\n",
    "                progress_bar = False,\n",
    "                weight = tardis_loss_weight_2, \n",
    "                method = \"mse_z\", \n",
    "                latent_group = \"reserved\",\n",
    "                counteractive_example = \"positive\",\n",
    "                transformation = \"none\",\n",
    "                warmup_epoch_range=warmup_epoch_range,\n",
    "                method_kwargs = {}\n",
    "            ),\n",
    "            dict(\n",
    "                apply = True, \n",
    "                target_type=\"categorical\",\n",
    "                progress_bar = False,\n",
    "                weight = tardis_loss_weight_2 * 1,\n",
    "                method = \"mse_z\", \n",
    "                latent_group = \"unreserved_complete\",\n",
    "                counteractive_example = \"negative\",\n",
    "                transformation = \"none\", \n",
    "                warmup_epoch_range=warmup_epoch_range,\n",
    "                method_kwargs = {}\n",
    "            ),\n",
    "            dict(\n",
    "                apply = True, \n",
    "                target_type=\"categorical\",\n",
    "                progress_bar = False,\n",
    "                weight = tardis_loss_weight_1 * 1, \n",
    "                method = \"mse_z\", \n",
    "                latent_group = \"unreserved_complete\",\n",
    "                counteractive_example = \"positive\",\n",
    "                transformation = \"inverse\",\n",
    "                warmup_epoch_range=warmup_epoch_range,\n",
    "                method_kwargs = {}\n",
    "            ),\n",
    "        ]\n",
    "    ),\n",
    "]\n"
   ]
  },
  {
   "cell_type": "code",
   "execution_count": null,
   "id": "2490b31c-3f22-47d8-8d35-b27c9cb19810",
   "metadata": {},
   "outputs": [],
   "source": [
    "n_epochs_kl_warmup = 600\n",
    "\n",
    "model_params = dict(\n",
    "    n_hidden=512,\n",
    "    n_layers=3, \n",
    "    n_latent=(24 + 8 * len(disentenglement_targets_configurations)), \n",
    "    gene_likelihood = \"nb\",\n",
    "    use_batch_norm = \"none\",\n",
    "    use_layer_norm = \"both\",\n",
    "    dropout_rate = 0.25,\n",
    "    deeply_inject_disentengled_latents = True,\n",
    "    include_auxillary_loss = True,\n",
    "    beta_kl_weight = 0.5,\n",
    "    encode_covariates=True,\n",
    ")\n",
    "\n",
    "train_params = dict(\n",
    "    max_epochs=600,\n",
    "    train_size=0.8,\n",
    "    batch_size=128,\n",
    "    check_val_every_n_epoch=10,\n",
    "    limit_train_batches=1.0, \n",
    "    limit_val_batches=1.0,\n",
    "    learning_rate_monitor=True,\n",
    "    # early stopping:\n",
    "    early_stopping=False,\n",
    "    early_stopping_patience=150,\n",
    "    early_stopping_monitor=\"elbo_train\",\n",
    "    plan_kwargs = dict(\n",
    "        n_epochs_kl_warmup=n_epochs_kl_warmup,\n",
    "        lr=1e-4,\n",
    "        weight_decay=1e-4,\n",
    "        optimizer=\"AdamW\",\n",
    "        # lr-scheduler:\n",
    "        reduce_lr_on_plateau=True,\n",
    "        lr_patience=100,\n",
    "        lr_scheduler_metric=\"elbo_train\",\n",
    "    )\n",
    ")\n",
    "\n",
    "dataset_params = dict(\n",
    "    layer=None, \n",
    "    labels_key=\"cell_type\",\n",
    "    batch_key=None,\n",
    "    categorical_covariate_keys=None,\n",
    "    disentenglement_targets_configurations=disentenglement_targets_configurations,\n",
    ")\n",
    "\n",
    "tardis.MyModel.setup_anndata(adata, **dataset_params)\n",
    "dataset_params[\"adata_path\"] = adata_file_path\n",
    "dataset_params[\"adata\"] = os.path.split(adata_file_path)[1]\n",
    "\n",
    "tardis.MyModel.setup_wandb(\n",
    "    wandb_configurations=tardis.config.wandb,\n",
    "    hyperparams=dict(\n",
    "        model_params=model_params,\n",
    "        train_params=train_params,\n",
    "        dataset_params=dataset_params,\n",
    "    )\n",
    ")\n",
    "\n",
    "vae = tardis.MyModel(\n",
    "    adata,\n",
    "    **model_params\n",
    ")\n",
    "vae.train(**train_params)"
   ]
  },
  {
   "cell_type": "code",
   "execution_count": null,
   "id": "aa39520a-27f2-4fe5-a951-0ed92125deac",
   "metadata": {},
   "outputs": [],
   "source": [
    "vae.save(\n",
    "    dir_path,\n",
    "    overwrite=True,\n",
    ")"
   ]
  },
  {
   "cell_type": "code",
   "execution_count": null,
   "id": "45216c0c",
   "metadata": {},
   "outputs": [],
   "source": [
    "from tardis._disentanglementmanager import DisentanglementManager as DM"
   ]
  },
  {
   "cell_type": "code",
   "execution_count": null,
   "id": "a2b8fce7",
   "metadata": {},
   "outputs": [],
   "source": [
    "vae.get_MI_normalized_training(obs_key)"
   ]
  },
  {
   "cell_type": "code",
   "execution_count": null,
   "id": "e58080de",
   "metadata": {},
   "outputs": [],
   "source": [
    "vae.get_knn_purity_training(obs_key)"
   ]
  },
  {
   "cell_type": "code",
   "execution_count": null,
   "id": "e211fc8e",
   "metadata": {},
   "outputs": [],
   "source": [
    "vae.get_reconstruction_r2_training(batch_size=256)"
   ]
  },
  {
   "cell_type": "code",
   "execution_count": null,
   "id": "94a03c6e",
   "metadata": {},
   "outputs": [],
   "source": [
    "# Convert string to integers\n",
    "adata.obs['age_continuous'] = adata.obs['age'].astype(float)\n",
    "adata.obs['age_training'] = adata.obs['age_continuous'].rank(method='dense').astype(int)"
   ]
  },
  {
   "cell_type": "code",
   "execution_count": null,
   "id": "f0ab6797-bc42-411f-a84e-49d866b7b4c7",
   "metadata": {},
   "outputs": [],
   "source": [
    "adata.obs[\"validation\"] = \"train\"\n",
    "adata.obs[\"validation\"].iloc[vae.validation_indices] = \"validation\""
   ]
  },
  {
   "cell_type": "code",
   "execution_count": null,
   "id": "814fbd31",
   "metadata": {},
   "outputs": [],
   "source": [
    "adata.obs[['age_training', 'age']].value_counts()"
   ]
  },
  {
   "cell_type": "code",
   "execution_count": null,
   "id": "679f3f8f-051a-44f5-a4d5-7ef14e1dd574",
   "metadata": {},
   "outputs": [],
   "source": [
    "latent = ad.AnnData(X=vae.get_latent_representation(), obs=adata.obs.copy())\n",
    "sc.pp.neighbors(latent)\n",
    "sc.tl.umap(latent)"
   ]
  },
  {
   "cell_type": "code",
   "execution_count": null,
   "id": "3aa31068-3f2d-44f4-9dff-d3da80b59b30",
   "metadata": {},
   "outputs": [],
   "source": [
    "with warnings.catch_warnings():\n",
    "    warnings.simplefilter(\"ignore\")\n",
    "    sc.pl.umap(\n",
    "        latent, \n",
    "        color=[\"age\", \"integration_donor\", \"sex\", \"validation\"], \n",
    "        ncols=3,\n",
    "        frameon=False,\n",
    "        color_map=\"inferno\",\n",
    "        legend_fontsize=\"xx-small\"\n",
    "    )"
   ]
  },
  {
   "cell_type": "code",
   "execution_count": null,
   "id": "180c59f1",
   "metadata": {},
   "outputs": [],
   "source": [
    "from tardis._disentanglementmanager import DisentanglementManager as DM"
   ]
  },
  {
   "cell_type": "code",
   "execution_count": null,
   "id": "a444f732",
   "metadata": {},
   "outputs": [],
   "source": [
    "latent = ad.AnnData(X=vae.get_latent_representation()[:, DM.configurations.get_by_obs_key(obs_key).reserved_latent_indices], obs=adata.obs.copy())\n",
    "sc.pp.neighbors(latent)\n",
    "sc.tl.umap(latent)\n",
    "with warnings.catch_warnings():\n",
    "    warnings.simplefilter(\"ignore\")\n",
    "    sc.pl.umap(\n",
    "        latent, \n",
    "        color=[\"age\", \"integration_donor\", \"sex\", \"validation\"], \n",
    "        ncols=3,\n",
    "        frameon=False,\n",
    "        color_map=\"inferno\",\n",
    "        legend_fontsize=\"xx-small\"\n",
    "    )"
   ]
  },
  {
   "cell_type": "code",
   "execution_count": null,
   "id": "c46136f3-5c49-4dbb-80ef-75591570deac",
   "metadata": {},
   "outputs": [],
   "source": [
    "adata_main = ad.read_h5ad(adata_file_path)\n",
    "adata_main.obs[\"age\"] = adata_main.obs[\"age\"].astype(\"str\").astype(\"category\")\n",
    "adata_main.obs[\"ood\"] = choices_bool.astype(int).astype(str)\n",
    "adata_main.obs[\"ood\"] = adata_main.obs[\"ood\"].astype(\"category\")\n",
    "\n",
    "adata_ood = adata_main[adata_main.obs[\"ood\"] == \"1\"].copy()"
   ]
  },
  {
   "cell_type": "code",
   "execution_count": null,
   "id": "7033224f",
   "metadata": {},
   "outputs": [],
   "source": [
    "# latent_main = ad.AnnData(X=vae.get_latent_representation(adata_main)[:, DM.configurations.get_by_obs_key(\"age\").reserved_latent_indices], obs=adata_main.obs.copy())\n",
    "latent_main = ad.AnnData(X=vae.get_latent_representation(adata_main), obs=adata_main.obs.copy())\n",
    "sc.pp.neighbors(latent_main, n_neighbors = 30)\n",
    "sc.tl.umap(latent_main)"
   ]
  },
  {
   "cell_type": "code",
   "execution_count": null,
   "id": "80a0fcdf",
   "metadata": {},
   "outputs": [],
   "source": [
    "with warnings.catch_warnings():\n",
    "    warnings.simplefilter(\"ignore\")\n",
    "    sc.pl.umap(\n",
    "        latent_main, \n",
    "        color=[\"age\", \"integration_donor\", \"sex\", \"ood\"], \n",
    "        ncols=3,\n",
    "        frameon=False,\n",
    "        color_map=\"inferno\",\n",
    "        legend_fontsize=\"xx-small\"\n",
    "    )"
   ]
  },
  {
   "cell_type": "code",
   "execution_count": null,
   "id": "26a1628c-70fc-4870-a53d-c460a201aa95",
   "metadata": {},
   "outputs": [],
   "source": []
  },
  {
   "cell_type": "code",
   "execution_count": null,
   "id": "91d1cff9-93ab-4117-aebb-c762b422da13",
   "metadata": {},
   "outputs": [],
   "source": []
  }
 ],
 "metadata": {
  "kernelspec": {
   "display_name": "Python 3 (ipykernel)",
   "language": "python",
   "name": "python3"
  },
  "language_info": {
   "codemirror_mode": {
    "name": "ipython",
    "version": 3
   },
   "file_extension": ".py",
   "mimetype": "text/x-python",
   "name": "python",
   "nbconvert_exporter": "python",
   "pygments_lexer": "ipython3",
   "version": "3.10.14"
  }
 },
 "nbformat": 4,
 "nbformat_minor": 5
}
