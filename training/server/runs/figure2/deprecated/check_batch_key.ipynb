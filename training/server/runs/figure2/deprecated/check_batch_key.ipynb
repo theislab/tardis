{
 "cells": [
  {
   "cell_type": "markdown",
   "id": "437e7cd4-38f5-4e1f-ab66-fa36ff557e62",
   "metadata": {},
   "source": [
    "# Check batch key"
   ]
  },
  {
   "cell_type": "code",
   "execution_count": 2,
   "id": "de09efa0-740e-4f71-a85f-c3e094562d8e",
   "metadata": {},
   "outputs": [
    {
     "name": "stdout",
     "output_type": "stream",
     "text": [
      "CUDA used: True\n"
     ]
    }
   ],
   "source": [
    "import warnings\n",
    "import os\n",
    "import sys\n",
    "import gc\n",
    "import warnings\n",
    "import anndata as ad\n",
    "import scanpy as sc\n",
    "import copy\n",
    "import torch\n",
    "from pathlib import Path\n",
    "import networkx as nx\n",
    "from sklearn.neighbors import kneighbors_graph\n",
    "import numpy as np\n",
    "import scanpy as sc\n",
    "import pandas as pd\n",
    "import numpy as np\n",
    "import scipy.stats\n",
    "\n",
    "sys.path.append(\"/home/icb/kemal.inecik/work/codes/tardis\")\n",
    "import tardis\n",
    "tardis.config = tardis.config_server\n",
    "print(f\"CUDA used: {torch.cuda.is_available()}\")"
   ]
  },
  {
   "cell_type": "code",
   "execution_count": 3,
   "id": "56436522-6587-40bf-b327-5345beae7083",
   "metadata": {},
   "outputs": [],
   "source": [
    "%matplotlib inline\n",
    "%config InlineBackend.figure_format='retina'\n",
    "import matplotlib.pyplot as plt\n",
    "import seaborn as sns\n",
    "\n",
    "import pickle\n",
    "_rcparams_path = \"/home/icb/kemal.inecik/work/codes/tardis/training/local/figures/rcparams.pickle\"\n",
    "with open(_rcparams_path, 'rb') as file:\n",
    "    _rcparams = pickle.load(file)\n",
    "plt.rcParams.update(_rcparams)"
   ]
  },
  {
   "cell_type": "code",
   "execution_count": 33,
   "id": "eaa01aee-b29a-4e58-9c9c-3952ad6a4414",
   "metadata": {},
   "outputs": [],
   "source": [
    "choosen_global_cofounders = dict()"
   ]
  },
  {
   "cell_type": "markdown",
   "id": "3a7c4d5a-1f95-4964-8b9b-14dc28900f2e",
   "metadata": {},
   "source": [
    "## Miller"
   ]
  },
  {
   "cell_type": "code",
   "execution_count": 34,
   "id": "de916a24-18d9-4d77-9a23-e558c6c97261",
   "metadata": {},
   "outputs": [
    {
     "data": {
      "text/plain": [
       "integration_donor  integration_biological_unit  integration_sample_status  integration_library_platform_coarse\n",
       "S1_Miller_et_al    Cell                         Fresh                      3GEX                                    326\n",
       "S2_Miller_et_al    Cell                         Fresh                      3GEX                                    381\n",
       "S3_Miller_et_al    Cell                         Fresh                      3GEX                                    683\n",
       "S4_Miller_et_al    Cell                         Fresh                      3GEX                                    306\n",
       "S5_Miller_et_al    Cell                         Fresh                      3GEX                                   1935\n",
       "S6_Miller_et_al    Cell                         Fresh                      3GEX                                   1866\n",
       "S7_Miller_et_al    Cell                         Fresh                      3GEX                                   1139\n",
       "S8_Miller_et_al    Cell                         Fresh                      3GEX                                    769\n",
       "dtype: int64"
      ]
     },
     "execution_count": 34,
     "metadata": {},
     "output_type": "execute_result"
    }
   ],
   "source": [
    "dataset = \"Miller\"\n",
    "adata_file_path = os.path.join(tardis.config.io_directories[\"processed\"], f\"dataset_complete_{dataset}.h5ad\")\n",
    "assert os.path.isfile(adata_file_path), f\"File not already exist: `{adata_file_path}`\"\n",
    "adata = ad.read_h5ad(adata_file_path, backed='r')\n",
    "adata.obs.groupby(['integration_donor', 'integration_biological_unit', 'integration_sample_status', 'integration_library_platform_coarse']).size()"
   ]
  },
  {
   "cell_type": "code",
   "execution_count": 35,
   "id": "bb2cde62-207f-4fd1-9f27-1588e5555b73",
   "metadata": {},
   "outputs": [],
   "source": [
    "choosen_global_cofounders[dataset] = [\"integration_donor\"]"
   ]
  },
  {
   "cell_type": "markdown",
   "id": "58d48866-73ef-4b48-a946-1a19dede0414",
   "metadata": {},
   "source": [
    "## Braun"
   ]
  },
  {
   "cell_type": "code",
   "execution_count": 36,
   "id": "420bdf1b-b806-4e16-9703-ccd6364214c0",
   "metadata": {},
   "outputs": [
    {
     "data": {
      "text/plain": [
       "integration_donor     integration_biological_unit  integration_sample_status  integration_library_platform_coarse\n",
       "BRC2006_Braun_et_al   Cell                         Fresh                      3GEX                                    47021\n",
       "BRC2021_Braun_et_al   Cell                         Fresh                      3GEX                                    13718\n",
       "BRC2057_Braun_et_al   Cell                         Fresh                      3GEX                                    31456\n",
       "BRC2061_Braun_et_al   Cell                         Fresh                      3GEX                                   128294\n",
       "BRC2073_Braun_et_al   Cell                         Fresh                      3GEX                                    24790\n",
       "BRC2106A_Braun_et_al  Cell                         Fresh                      3GEX                                    61996\n",
       "BRC2110_Braun_et_al   Cell                         Fresh                      3GEX                                    60345\n",
       "BRC2114_Braun_et_al   Cell                         Fresh                      3GEX                                    76439\n",
       "BRC2147_Braun_et_al   Cell                         Fresh                      3GEX                                    79580\n",
       "BRC2191_Braun_et_al   Cell                         Fresh                      3GEX                                   158541\n",
       "XDD:313_Braun_et_al   Cell                         Fresh                      3GEX                                    50605\n",
       "XDD:326_Braun_et_al   Cell                         Fresh                      3GEX                                    22198\n",
       "XDD:334_Braun_et_al   Cell                         Fresh                      3GEX                                    65511\n",
       "XDD:342_Braun_et_al   Cell                         Fresh                      3GEX                                    68360\n",
       "XDD:348_Braun_et_al   Cell                         Fresh                      3GEX                                    62751\n",
       "XDD:351_Braun_et_al   Cell                         Fresh                      3GEX                                    86075\n",
       "XDD:358_Braun_et_al   Cell                         Fresh                      3GEX                                   102454\n",
       "XDD:359_Braun_et_al   Cell                         Fresh                      3GEX                                    38865\n",
       "XDD:385_Braun_et_al   Cell                         Fresh                      3GEX                                    77334\n",
       "XDD:395_Braun_et_al   Cell                         Fresh                      3GEX                                    85990\n",
       "XDD:398_Braun_et_al   Cell                         Fresh                      3GEX                                    17653\n",
       "XDD:400_Braun_et_al   Cell                         Fresh                      3GEX                                    59667\n",
       "XHU:292_Braun_et_al   Cell                         Fresh                      3GEX                                    28452\n",
       "XHU:297_Braun_et_al   Cell                         Fresh                      3GEX                                    88790\n",
       "XHU:305_Braun_et_al   Cell                         Fresh                      3GEX                                    38793\n",
       "XHU:307_Braun_et_al   Cell                         Fresh                      3GEX                                    85820\n",
       "dtype: int64"
      ]
     },
     "execution_count": 36,
     "metadata": {},
     "output_type": "execute_result"
    }
   ],
   "source": [
    "dataset = \"Braun\"\n",
    "adata_file_path = os.path.join(tardis.config.io_directories[\"processed\"], f\"dataset_complete_{dataset}.h5ad\")\n",
    "assert os.path.isfile(adata_file_path), f\"File not already exist: `{adata_file_path}`\"\n",
    "adata = ad.read_h5ad(adata_file_path, backed='r')\n",
    "adata.obs.groupby(['integration_donor', 'integration_biological_unit', 'integration_sample_status', 'integration_library_platform_coarse']).size()"
   ]
  },
  {
   "cell_type": "code",
   "execution_count": 37,
   "id": "5a132ff8-05a5-478a-b678-4fa79d5a1139",
   "metadata": {},
   "outputs": [],
   "source": [
    "choosen_global_cofounders[dataset] = [\"integration_donor\"]"
   ]
  },
  {
   "cell_type": "markdown",
   "id": "6ee25eb7-b6fa-4fdf-89f0-7d712808cf84",
   "metadata": {},
   "source": [
    "## Suo"
   ]
  },
  {
   "cell_type": "code",
   "execution_count": 38,
   "id": "e853d58e-06ba-4f05-8abf-f8260cf7d1eb",
   "metadata": {},
   "outputs": [
    {
     "data": {
      "text/plain": [
       "integration_donor  integration_biological_unit  integration_sample_status  integration_library_platform_coarse\n",
       "F19_Suo_et_al      Cell                         Fresh                      3GEX                                    5272\n",
       "                                                                           5GEX                                       0\n",
       "F21_Suo_et_al      Cell                         Fresh                      3GEX                                   32833\n",
       "                                                                           5GEX                                       0\n",
       "F22_Suo_et_al      Cell                         Fresh                      3GEX                                   15123\n",
       "                                                                           5GEX                                       0\n",
       "F23_Suo_et_al      Cell                         Fresh                      3GEX                                   22415\n",
       "                                                                           5GEX                                       0\n",
       "F29_Suo_et_al      Cell                         Fresh                      3GEX                                   27035\n",
       "                                                                           5GEX                                   18896\n",
       "F30_Suo_et_al      Cell                         Fresh                      3GEX                                   36640\n",
       "                                                                           5GEX                                   17878\n",
       "F32_Suo_et_al      Cell                         Fresh                      3GEX                                   24207\n",
       "                                                                           5GEX                                    3901\n",
       "F33_Suo_et_al      Cell                         Fresh                      3GEX                                   38506\n",
       "                                                                           5GEX                                       0\n",
       "F34_Suo_et_al      Cell                         Fresh                      3GEX                                   34373\n",
       "                                                                           5GEX                                    4761\n",
       "F35_Suo_et_al      Cell                         Fresh                      3GEX                                   20451\n",
       "                                                                           5GEX                                       0\n",
       "F37_Suo_et_al      Cell                         Fresh                      3GEX                                   12728\n",
       "                                                                           5GEX                                       0\n",
       "F38_Suo_et_al      Cell                         Fresh                      3GEX                                   37866\n",
       "                                                                           5GEX                                    8654\n",
       "F41_Suo_et_al      Cell                         Fresh                      3GEX                                   28459\n",
       "                                                                           5GEX                                   20704\n",
       "F45_Suo_et_al      Cell                         Fresh                      3GEX                                   38683\n",
       "                                                                           5GEX                                   39505\n",
       "F50_Suo_et_al      Cell                         Fresh                      3GEX                                       0\n",
       "                                                                           5GEX                                   49799\n",
       "F51_Suo_et_al      Cell                         Fresh                      3GEX                                       0\n",
       "                                                                           5GEX                                   84844\n",
       "F61_Suo_et_al      Cell                         Fresh                      3GEX                                       0\n",
       "                                                                           5GEX                                   74417\n",
       "F64_Suo_et_al      Cell                         Fresh                      3GEX                                       0\n",
       "                                                                           5GEX                                    7597\n",
       "F66_Suo_et_al      Cell                         Fresh                      3GEX                                   13744\n",
       "                                                                           5GEX                                       0\n",
       "F67_Suo_et_al      Cell                         Fresh                      3GEX                                    8706\n",
       "                                                                           5GEX                                   18662\n",
       "F69_Suo_et_al      Cell                         Fresh                      3GEX                                       0\n",
       "                                                                           5GEX                                   17505\n",
       "F71_Suo_et_al      Cell                         Fresh                      3GEX                                       0\n",
       "                                                                           5GEX                                   21402\n",
       "F72_Suo_et_al      Cell                         Fresh                      3GEX                                       0\n",
       "                                                                           5GEX                                   21824\n",
       "F73_Suo_et_al      Cell                         Fresh                      3GEX                                       0\n",
       "                                                                           5GEX                                   26093\n",
       "F78_Suo_et_al      Cell                         Fresh                      3GEX                                       0\n",
       "                                                                           5GEX                                    8439\n",
       "dtype: int64"
      ]
     },
     "execution_count": 38,
     "metadata": {},
     "output_type": "execute_result"
    }
   ],
   "source": [
    "dataset = \"Suo\"\n",
    "adata_file_path = os.path.join(tardis.config.io_directories[\"processed\"], f\"dataset_complete_{dataset}.h5ad\")\n",
    "assert os.path.isfile(adata_file_path), f\"File not already exist: `{adata_file_path}`\"\n",
    "adata = ad.read_h5ad(adata_file_path, backed='r')\n",
    "adata.obs.groupby(['integration_donor', 'integration_biological_unit', 'integration_sample_status', 'integration_library_platform_coarse']).size()"
   ]
  },
  {
   "cell_type": "code",
   "execution_count": 39,
   "id": "c194d955-f709-42fb-98b8-0fe6de5b9d1d",
   "metadata": {},
   "outputs": [],
   "source": [
    "choosen_global_cofounders[dataset] = [\"integration_donor\", \"integration_library_platform_coarse\"]"
   ]
  },
  {
   "cell_type": "markdown",
   "id": "1d98ad6e-b98e-4deb-aad0-1627d9f26a73",
   "metadata": {},
   "source": [
    "## He"
   ]
  },
  {
   "cell_type": "code",
   "execution_count": 40,
   "id": "7176b863-e37d-4ffd-a883-535e4bfcb13c",
   "metadata": {},
   "outputs": [
    {
     "data": {
      "text/plain": [
       "integration_donor   integration_biological_unit  integration_sample_status  integration_library_platform_coarse\n",
       "BRC2188_He_et_al    Cell                         Fresh                      5GEX                                    4203\n",
       "BRC2192_He_et_al    Cell                         Fresh                      5GEX                                    4784\n",
       "HDBR14804_He_et_al  Cell                         Fresh                      5GEX                                    2271\n",
       "HDBR14808_He_et_al  Cell                         Fresh                      5GEX                                    2139\n",
       "HDBR14853_He_et_al  Cell                         Fresh                      5GEX                                    4570\n",
       "HDBR14854_He_et_al  Cell                         Fresh                      5GEX                                    2666\n",
       "HDBR15167_He_et_al  Cell                         Fresh                      5GEX                                    4802\n",
       "HDBR15168_He_et_al  Cell                         Fresh                      5GEX                                    9903\n",
       "HDBR15219_He_et_al  Cell                         Fresh                      5GEX                                   11017\n",
       "HDBR15233_He_et_al  Cell                         Fresh                      5GEX                                    7487\n",
       "HDBR15279_He_et_al  Cell                         Fresh                      5GEX                                    8279\n",
       "HDBR15280_He_et_al  Cell                         Fresh                      5GEX                                    9529\n",
       "dtype: int64"
      ]
     },
     "execution_count": 40,
     "metadata": {},
     "output_type": "execute_result"
    }
   ],
   "source": [
    "dataset = \"He\"\n",
    "adata_file_path = os.path.join(tardis.config.io_directories[\"processed\"], f\"dataset_complete_{dataset}.h5ad\")\n",
    "assert os.path.isfile(adata_file_path), f\"File not already exist: `{adata_file_path}`\"\n",
    "adata = ad.read_h5ad(adata_file_path, backed='r')\n",
    "adata.obs.groupby(['integration_donor', 'integration_biological_unit', 'integration_sample_status', 'integration_library_platform_coarse']).size()"
   ]
  },
  {
   "cell_type": "code",
   "execution_count": 41,
   "id": "57b8ba36-310f-4e80-9cc2-c7906e7ac825",
   "metadata": {},
   "outputs": [],
   "source": [
    "choosen_global_cofounders[dataset] = [\"integration_donor\"]"
   ]
  },
  {
   "cell_type": "markdown",
   "id": "a8431d1f-05bc-4eaf-9d57-5fb402b62613",
   "metadata": {},
   "source": [
    "## Garcia"
   ]
  },
  {
   "cell_type": "code",
   "execution_count": 42,
   "id": "56044d2b-aa2e-4375-85bc-00d4d8b7798c",
   "metadata": {},
   "outputs": [
    {
     "data": {
      "text/plain": [
       "integration_donor   integration_biological_unit  integration_sample_status  integration_library_platform_coarse\n",
       "F100_Garcia_et_al   Cell                         Fresh                      5GEX                                    1579\n",
       "                                                 Frozen                     5GEX                                       0\n",
       "F122_Garcia_et_al   Cell                         Fresh                      5GEX                                   15166\n",
       "                                                 Frozen                     5GEX                                       0\n",
       "F123_Garcia_et_al   Cell                         Fresh                      5GEX                                     311\n",
       "                                                 Frozen                     5GEX                                       0\n",
       "F126_Garcia_et_al   Cell                         Fresh                      5GEX                                     980\n",
       "                                                 Frozen                     5GEX                                       0\n",
       "F133_Garcia_et_al   Cell                         Fresh                      5GEX                                   12216\n",
       "                                                 Frozen                     5GEX                                       0\n",
       "F81_Garcia_et_al    Cell                         Fresh                      5GEX                                    8616\n",
       "                                                 Frozen                     5GEX                                       0\n",
       "F83_Garcia_et_al    Cell                         Fresh                      5GEX                                   11371\n",
       "                                                 Frozen                     5GEX                                       0\n",
       "F84_Garcia_et_al    Cell                         Fresh                      5GEX                                    2507\n",
       "                                                 Frozen                     5GEX                                       0\n",
       "F86_Garcia_et_al    Cell                         Fresh                      5GEX                                    2440\n",
       "                                                 Frozen                     5GEX                                       0\n",
       "F87_Garcia_et_al    Cell                         Fresh                      5GEX                                    1511\n",
       "                                                 Frozen                     5GEX                                       0\n",
       "F88_Garcia_et_al    Cell                         Fresh                      5GEX                                   11497\n",
       "                                                 Frozen                     5GEX                                       0\n",
       "F89_Garcia_et_al    Cell                         Fresh                      5GEX                                     912\n",
       "                                                 Frozen                     5GEX                                       0\n",
       "F91_Garcia_et_al    Cell                         Fresh                      5GEX                                    3281\n",
       "                                                 Frozen                     5GEX                                       0\n",
       "F93_Garcia_et_al    Cell                         Fresh                      5GEX                                    1872\n",
       "                                                 Frozen                     5GEX                                       0\n",
       "F94_Garcia_et_al    Cell                         Fresh                      5GEX                                    1424\n",
       "                                                 Frozen                     5GEX                                       0\n",
       "F96_Garcia_et_al    Cell                         Fresh                      5GEX                                    2998\n",
       "                                                 Frozen                     5GEX                                       0\n",
       "F99_Garcia_et_al    Cell                         Fresh                      5GEX                                    4822\n",
       "                                                 Frozen                     5GEX                                       0\n",
       "Hrv10_Garcia_et_al  Cell                         Fresh                      5GEX                                    1760\n",
       "                                                 Frozen                     5GEX                                       0\n",
       "Hrv11_Garcia_et_al  Cell                         Fresh                      5GEX                                     733\n",
       "                                                 Frozen                     5GEX                                       0\n",
       "Hrv12_Garcia_et_al  Cell                         Fresh                      5GEX                                     606\n",
       "                                                 Frozen                     5GEX                                       0\n",
       "Hrv13_Garcia_et_al  Cell                         Fresh                      5GEX                                    1213\n",
       "                                                 Frozen                     5GEX                                       0\n",
       "Hrv15_Garcia_et_al  Cell                         Fresh                      5GEX                                     197\n",
       "                                                 Frozen                     5GEX                                       0\n",
       "Hrv16_Garcia_et_al  Cell                         Fresh                      5GEX                                      88\n",
       "                                                 Frozen                     5GEX                                       0\n",
       "Hrv17_Garcia_et_al  Cell                         Fresh                      5GEX                                    1580\n",
       "                                                 Frozen                     5GEX                                       0\n",
       "Hrv18_Garcia_et_al  Cell                         Fresh                      5GEX                                    1786\n",
       "                                                 Frozen                     5GEX                                       0\n",
       "Hrv21_Garcia_et_al  Cell                         Fresh                      5GEX                                    3273\n",
       "                                                 Frozen                     5GEX                                       0\n",
       "Hrv25_Garcia_et_al  Cell                         Fresh                      5GEX                                       0\n",
       "                                                 Frozen                     5GEX                                    6376\n",
       "Hrv27_Garcia_et_al  Cell                         Fresh                      5GEX                                    5162\n",
       "                                                 Frozen                     5GEX                                       0\n",
       "Hrv30_Garcia_et_al  Cell                         Fresh                      5GEX                                    8298\n",
       "                                                 Frozen                     5GEX                                       0\n",
       "Hrv31_Garcia_et_al  Cell                         Fresh                      5GEX                                       0\n",
       "                                                 Frozen                     5GEX                                     320\n",
       "Hrv32_Garcia_et_al  Cell                         Fresh                      5GEX                                    7346\n",
       "                                                 Frozen                     5GEX                                       0\n",
       "Hrv33_Garcia_et_al  Cell                         Fresh                      5GEX                                    5323\n",
       "                                                 Frozen                     5GEX                                       0\n",
       "Hrv34_Garcia_et_al  Cell                         Fresh                      5GEX                                    9652\n",
       "                                                 Frozen                     5GEX                                       0\n",
       "Hrv37_Garcia_et_al  Cell                         Fresh                      5GEX                                   11874\n",
       "                                                 Frozen                     5GEX                                       0\n",
       "Hrv39_Garcia_et_al  Cell                         Fresh                      5GEX                                       0\n",
       "                                                 Frozen                     5GEX                                    2222\n",
       "Hrv3_Garcia_et_al   Cell                         Fresh                      5GEX                                    2293\n",
       "                                                 Frozen                     5GEX                                       0\n",
       "Hrv40_Garcia_et_al  Cell                         Fresh                      5GEX                                    3577\n",
       "                                                 Frozen                     5GEX                                       0\n",
       "Hrv41_Garcia_et_al  Cell                         Fresh                      5GEX                                       0\n",
       "                                                 Frozen                     5GEX                                    3039\n",
       "Hrv47_Garcia_et_al  Cell                         Fresh                      5GEX                                       0\n",
       "                                                 Frozen                     5GEX                                      54\n",
       "Hrv49_Garcia_et_al  Cell                         Fresh                      5GEX                                    5137\n",
       "                                                 Frozen                     5GEX                                       0\n",
       "Hrv51_Garcia_et_al  Cell                         Fresh                      5GEX                                    3281\n",
       "                                                 Frozen                     5GEX                                       0\n",
       "Hrv54_Garcia_et_al  Cell                         Fresh                      5GEX                                    4812\n",
       "                                                 Frozen                     5GEX                                       0\n",
       "Hrv55_Garcia_et_al  Cell                         Fresh                      5GEX                                    7573\n",
       "                                                 Frozen                     5GEX                                       0\n",
       "Hrv57_Garcia_et_al  Cell                         Fresh                      5GEX                                     576\n",
       "                                                 Frozen                     5GEX                                       0\n",
       "Hrv58_Garcia_et_al  Cell                         Fresh                      5GEX                                    4355\n",
       "                                                 Frozen                     5GEX                                       0\n",
       "Hrv59_Garcia_et_al  Cell                         Fresh                      5GEX                                    1139\n",
       "                                                 Frozen                     5GEX                                       0\n",
       "Hrv85_Garcia_et_al  Cell                         Fresh                      5GEX                                    3896\n",
       "                                                 Frozen                     5GEX                                       0\n",
       "Hrv86_Garcia_et_al  Cell                         Fresh                      5GEX                                    7262\n",
       "                                                 Frozen                     5GEX                                       0\n",
       "Hrv91_Garcia_et_al  Cell                         Fresh                      5GEX                                    3056\n",
       "                                                 Frozen                     5GEX                                       0\n",
       "Hrv92_Garcia_et_al  Cell                         Fresh                      5GEX                                    6830\n",
       "                                                 Frozen                     5GEX                                       0\n",
       "Hrv93_Garcia_et_al  Cell                         Fresh                      5GEX                                    5282\n",
       "                                                 Frozen                     5GEX                                       0\n",
       "Hrv99_Garcia_et_al  Cell                         Fresh                      5GEX                                    6257\n",
       "                                                 Frozen                     5GEX                                       0\n",
       "dtype: int64"
      ]
     },
     "metadata": {},
     "output_type": "display_data"
    }
   ],
   "source": [
    "dataset = \"Garcia\"\n",
    "adata_file_path = os.path.join(tardis.config.io_directories[\"processed\"], f\"dataset_complete_{dataset}.h5ad\")\n",
    "assert os.path.isfile(adata_file_path), f\"File not already exist: `{adata_file_path}`\"\n",
    "adata = ad.read_h5ad(adata_file_path, backed='r')\n",
    "with pd.option_context('display.max_rows', None):\n",
    "    display(adata.obs.groupby(['integration_donor', 'integration_biological_unit', 'integration_sample_status', 'integration_library_platform_coarse']).size())"
   ]
  },
  {
   "cell_type": "code",
   "execution_count": 43,
   "id": "373571fa-db02-48e6-9ca0-6c5ae0c6846d",
   "metadata": {},
   "outputs": [],
   "source": [
    "choosen_global_cofounders[dataset] = [\"integration_donor\", \"integration_sample_status\"]"
   ]
  },
  {
   "cell_type": "markdown",
   "id": "d18e3f92-38a3-40d6-89d0-9e84bd38c076",
   "metadata": {},
   "source": [
    "## Kanemaru"
   ]
  },
  {
   "cell_type": "code",
   "execution_count": 44,
   "id": "1ee8963f-c585-42e3-914e-f572007dd6f7",
   "metadata": {},
   "outputs": [
    {
     "data": {
      "text/plain": [
       "integration_biological_unit  integration_sample_status  integration_library_platform_coarse\n",
       "Cell                         Fresh                      3GEX                                       0\n",
       "                                                        5GEX                                   45333\n",
       "                             Frozen                     3GEX                                       0\n",
       "                                                        5GEX                                       0\n",
       "Nuclei                       Fresh                      3GEX                                       0\n",
       "                                                        5GEX                                       0\n",
       "                             Frozen                     3GEX                                   86303\n",
       "                                                        5GEX                                       0\n",
       "dtype: int64"
      ]
     },
     "metadata": {},
     "output_type": "display_data"
    }
   ],
   "source": [
    "dataset = \"Kanemaru\"\n",
    "adata_file_path = os.path.join(tardis.config.io_directories[\"processed\"], f\"dataset_complete_{dataset}.h5ad\")\n",
    "assert os.path.isfile(adata_file_path), f\"File not already exist: `{adata_file_path}`\"\n",
    "adata = ad.read_h5ad(adata_file_path, backed='r')\n",
    "with pd.option_context('display.max_rows', None):\n",
    "    display(adata.obs.groupby(['integration_biological_unit', 'integration_sample_status', 'integration_library_platform_coarse']).size())"
   ]
  },
  {
   "cell_type": "code",
   "execution_count": 45,
   "id": "3e473766-aea3-449f-9027-9c14683b4937",
   "metadata": {},
   "outputs": [
    {
     "data": {
      "text/plain": [
       "integration_donor     integration_biological_unit\n",
       "C82_Kanemaru_et_al    Cell                               0\n",
       "                      Nuclei                           583\n",
       "C85_Kanemaru_et_al    Cell                               0\n",
       "                      Nuclei                          2676\n",
       "C86_Kanemaru_et_al    Cell                            5728\n",
       "                      Nuclei                             0\n",
       "C87_Kanemaru_et_al    Cell                               0\n",
       "                      Nuclei                          4349\n",
       "C92_Kanemaru_et_al    Cell                               0\n",
       "                      Nuclei                         14400\n",
       "C94_Kanemaru_et_al    Cell                           12415\n",
       "                      Nuclei                             0\n",
       "C97_Kanemaru_et_al    Cell                            9637\n",
       "                      Nuclei                             0\n",
       "C98_Kanemaru_et_al    Cell                               0\n",
       "                      Nuclei                          2919\n",
       "C99_Kanemaru_et_al    Cell                           17553\n",
       "                      Nuclei                             0\n",
       "Hst33_Kanemaru_et_al  Cell                               0\n",
       "                      Nuclei                         61376\n",
       "dtype: int64"
      ]
     },
     "metadata": {},
     "output_type": "display_data"
    }
   ],
   "source": [
    "with pd.option_context('display.max_rows', None):\n",
    "    display(adata.obs.groupby(['integration_donor', 'integration_biological_unit']).size())"
   ]
  },
  {
   "cell_type": "code",
   "execution_count": 46,
   "id": "7650f682-b3e5-402c-be35-571ea858a65d",
   "metadata": {},
   "outputs": [],
   "source": [
    "choosen_global_cofounders[dataset] = [\"integration_donor\", \"integration_biological_unit\"]"
   ]
  },
  {
   "cell_type": "markdown",
   "id": "70019217-69be-4a46-b7d7-859326256771",
   "metadata": {},
   "source": [
    "# Decisisons"
   ]
  },
  {
   "cell_type": "code",
   "execution_count": 47,
   "id": "92e4679e-901a-41a5-b058-775fa5e50b3f",
   "metadata": {},
   "outputs": [
    {
     "data": {
      "text/plain": [
       "{'Miller': ['integration_donor'],\n",
       " 'Braun': ['integration_donor'],\n",
       " 'Suo': ['integration_donor', 'integration_library_platform_coarse'],\n",
       " 'He': ['integration_donor'],\n",
       " 'Garcia': ['integration_donor', 'integration_sample_status'],\n",
       " 'Kanemaru': ['integration_donor', 'integration_biological_unit']}"
      ]
     },
     "execution_count": 47,
     "metadata": {},
     "output_type": "execute_result"
    }
   ],
   "source": [
    "choosen_global_cofounders"
   ]
  },
  {
   "cell_type": "code",
   "execution_count": null,
   "id": "a6a5888e-1aa5-4658-91f1-18210f7a3201",
   "metadata": {},
   "outputs": [],
   "source": []
  },
  {
   "cell_type": "code",
   "execution_count": null,
   "id": "863f24a6-c603-4aac-84a9-918c76714215",
   "metadata": {},
   "outputs": [],
   "source": []
  }
 ],
 "metadata": {
  "kernelspec": {
   "display_name": "Python 3 (ipykernel)",
   "language": "python",
   "name": "python3"
  },
  "language_info": {
   "codemirror_mode": {
    "name": "ipython",
    "version": 3
   },
   "file_extension": ".py",
   "mimetype": "text/x-python",
   "name": "python",
   "nbconvert_exporter": "python",
   "pygments_lexer": "ipython3",
   "version": "3.10.14"
  }
 },
 "nbformat": 4,
 "nbformat_minor": 5
}
