{
 "cells": [
  {
   "cell_type": "markdown",
   "id": "087548a2-37ff-43e0-93d6-1038826ac1c5",
   "metadata": {},
   "source": [
    "### invae training"
   ]
  },
  {
   "cell_type": "code",
   "execution_count": null,
   "id": "777f715f-e124-48af-aebb-188ac365f45e",
   "metadata": {},
   "outputs": [],
   "source": [
    "1"
   ]
  },
  {
   "cell_type": "code",
   "execution_count": null,
   "id": "36f6c317-524c-42e9-8ddb-83f14a73b823",
   "metadata": {},
   "outputs": [],
   "source": [
    "from inVAE import FinVAE, NFinVAE"
   ]
  },
  {
   "cell_type": "code",
   "execution_count": null,
   "id": "f7c40b87-4361-4bd5-b397-446a1ba98111",
   "metadata": {},
   "outputs": [],
   "source": []
  },
  {
   "cell_type": "code",
   "execution_count": null,
   "id": "a8f374c7-5414-46d9-91cd-3a6e8e1165be",
   "metadata": {},
   "outputs": [],
   "source": [
    "import warnings\n",
    "import os\n",
    "import sys\n",
    "import gc\n",
    "import warnings\n",
    "\n",
    "import anndata as ad\n",
    "import scanpy as sc\n",
    "import copy\n",
    "import torch\n",
    "from pathlib import Path\n",
    "import networkx as nx\n",
    "from sklearn.neighbors import kneighbors_graph\n",
    "import numpy as np\n",
    "import scanpy as sc\n",
    "import pandas as pd\n",
    "import numpy as np\n",
    "import scipy.stats\n",
    "\n",
    "adata_file_path = os.path.join(\"/home/icb/kemal.inecik/lustre_workspace/tardis_data/processed\", \"dataset_complete_Suo.h5ad\")\n",
    "assert os.path.isfile(adata_file_path), f\"File not already exist: `{adata_file_path}`\"\n",
    "adata = ad.read_h5ad(adata_file_path)\n",
    "adata.X = adata.X.astype(np.float32)\n",
    "print(adata_file_path, flush=True)\n",
    "print(adata, flush=True)\n",
    "\n",
    "def create_random_mask(shape, ratio_true, seed=None):\n",
    "    rng = np.random.default_rng(seed)\n",
    "    random_floats = rng.random(shape)\n",
    "    mask = random_floats < ratio_true\n",
    "    return mask"
   ]
  },
  {
   "cell_type": "code",
   "execution_count": null,
   "id": "4564eb12-cbb6-4acd-b0fb-dabf903a61fe",
   "metadata": {},
   "outputs": [],
   "source": [
    "print(f\"CUDA: {torch.cuda.is_available()}\", flush=True)"
   ]
  },
  {
   "cell_type": "code",
   "execution_count": null,
   "id": "3b10a7a2-b9d9-42f1-8de1-dacae3d64dfe",
   "metadata": {},
   "outputs": [],
   "source": [
    "adata_train_bool = create_random_mask(adata.shape[0], ratio_true=0.8, seed=0)\n",
    "adata_train = adata[adata_train_bool].copy()\n",
    "adata_valid = adata[~adata_train_bool].copy()"
   ]
  },
  {
   "cell_type": "code",
   "execution_count": null,
   "id": "76e17183-d8b9-4a8c-a49c-2fe1457b12f1",
   "metadata": {},
   "outputs": [],
   "source": [
    "inv_covar_keys = {\n",
    "    'cont': [],\n",
    "    'cat': []\n",
    "}\n",
    "\n",
    "spur_covar_keys = {\n",
    "    'cont': [],\n",
    "    'cat': ['organ', 'integration_donor', 'integration_library_platform_coarse'] #set to the keys in the adata\n",
    "}\n",
    "\n",
    "model = FinVAE(\n",
    "    adata = adata_train,\n",
    "    layer = None,\n",
    "    inv_covar_keys = inv_covar_keys,\n",
    "    spur_covar_keys = spur_covar_keys,\n",
    "    device=\"cuda\"\n",
    ")"
   ]
  },
  {
   "cell_type": "code",
   "execution_count": null,
   "id": "ec11fecc-aeeb-46b0-98ed-651ce01b096a",
   "metadata": {},
   "outputs": [],
   "source": [
    "with warnings.catch_warnings():\n",
    "    warnings.simplefilter(\"ignore\")\n",
    "    model.train(n_epochs=1, lr_train=0.001, weight_decay=0.0001, \n",
    "                log_freq=1, print_every_n_epochs=1, log_dir=os.path.join(os.getcwd(), \"invae.log\"))"
   ]
  },
  {
   "cell_type": "code",
   "execution_count": null,
   "id": "7d392748-1f73-4759-9a94-4eae50044996",
   "metadata": {},
   "outputs": [],
   "source": [
    "model.save(os.path.join(os.getcwd(), \"invae.pt\")))"
   ]
  },
  {
   "cell_type": "code",
   "execution_count": null,
   "id": "b2a06e0d-6ad3-4d05-854e-d84fe2fac72a",
   "metadata": {},
   "outputs": [],
   "source": []
  }
 ],
 "metadata": {
  "kernelspec": {
   "display_name": "cpa",
   "language": "python",
   "name": "cpa"
  },
  "language_info": {
   "codemirror_mode": {
    "name": "ipython",
    "version": 3
   },
   "file_extension": ".py",
   "mimetype": "text/x-python",
   "name": "python",
   "nbconvert_exporter": "python",
   "pygments_lexer": "ipython3",
   "version": "3.9.19"
  }
 },
 "nbformat": 4,
 "nbformat_minor": 5
}
