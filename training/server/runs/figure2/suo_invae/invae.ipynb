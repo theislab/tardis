{
 "cells": [
  {
   "cell_type": "markdown",
   "id": "087548a2-37ff-43e0-93d6-1038826ac1c5",
   "metadata": {},
   "source": [
    "### invae training"
   ]
  },
  {
   "cell_type": "code",
   "execution_count": 1,
   "id": "777f715f-e124-48af-aebb-188ac365f45e",
   "metadata": {},
   "outputs": [
    {
     "data": {
      "text/plain": [
       "1"
      ]
     },
     "execution_count": 1,
     "metadata": {},
     "output_type": "execute_result"
    }
   ],
   "source": [
    "1"
   ]
  },
  {
   "cell_type": "code",
   "execution_count": 2,
   "id": "36f6c317-524c-42e9-8ddb-83f14a73b823",
   "metadata": {},
   "outputs": [
    {
     "name": "stderr",
     "output_type": "stream",
     "text": [
      "/home/icb/kemal.inecik/tools/apps/mamba/envs/cpa/lib/python3.9/site-packages/tqdm/auto.py:21: TqdmWarning: IProgress not found. Please update jupyter and ipywidgets. See https://ipywidgets.readthedocs.io/en/stable/user_install.html\n",
      "  from .autonotebook import tqdm as notebook_tqdm\n"
     ]
    }
   ],
   "source": [
    "from inVAE import FinVAE, NFinVAE"
   ]
  },
  {
   "cell_type": "code",
   "execution_count": null,
   "id": "f7c40b87-4361-4bd5-b397-446a1ba98111",
   "metadata": {},
   "outputs": [],
   "source": []
  },
  {
   "cell_type": "code",
   "execution_count": 3,
   "id": "a8f374c7-5414-46d9-91cd-3a6e8e1165be",
   "metadata": {},
   "outputs": [
    {
     "name": "stdout",
     "output_type": "stream",
     "text": [
      "/home/icb/kemal.inecik/lustre_workspace/tardis_data/processed/dataset_complete_Suo.h5ad\n",
      "AnnData object with n_obs × n_vars = 841922 × 8192\n",
      "    obs: 'sample_ID', 'organ', 'age', 'cell_type', 'sex', 'sex_inferred', 'concatenated_integration_covariates', 'integration_donor', 'integration_biological_unit', 'integration_sample_status', 'integration_library_platform_coarse', 'n_genes'\n",
      "    uns: 'rank_genes_groups'\n",
      "    obsm: 'Unintegrated', 'X_pca', 'harmony'\n"
     ]
    }
   ],
   "source": [
    "import warnings\n",
    "import os\n",
    "import sys\n",
    "import gc\n",
    "import warnings\n",
    "\n",
    "import anndata as ad\n",
    "import scanpy as sc\n",
    "import copy\n",
    "import torch\n",
    "from pathlib import Path\n",
    "import networkx as nx\n",
    "from sklearn.neighbors import kneighbors_graph\n",
    "import numpy as np\n",
    "import scanpy as sc\n",
    "import pandas as pd\n",
    "import joblib\n",
    "import numpy as np\n",
    "import scipy.stats\n",
    "\n",
    "adata_file_path = os.path.join(\"/home/icb/kemal.inecik/lustre_workspace/tardis_data/processed\", \"dataset_complete_Suo.h5ad\")\n",
    "assert os.path.isfile(adata_file_path), f\"File not already exist: `{adata_file_path}`\"\n",
    "adata = ad.read_h5ad(adata_file_path)\n",
    "adata.X = adata.X.astype(np.float32)\n",
    "print(adata_file_path, flush=True)\n",
    "print(adata, flush=True)\n",
    "\n",
    "def create_random_mask(shape, ratio_true, seed=None):\n",
    "    rng = np.random.default_rng(seed)\n",
    "    random_floats = rng.random(shape)\n",
    "    mask = random_floats < ratio_true\n",
    "    return mask"
   ]
  },
  {
   "cell_type": "code",
   "execution_count": 4,
   "id": "4564eb12-cbb6-4acd-b0fb-dabf903a61fe",
   "metadata": {},
   "outputs": [
    {
     "name": "stdout",
     "output_type": "stream",
     "text": [
      "CUDA: False\n"
     ]
    }
   ],
   "source": [
    "print(f\"CUDA: {torch.cuda.is_available()}\", flush=True)"
   ]
  },
  {
   "cell_type": "code",
   "execution_count": 5,
   "id": "3b10a7a2-b9d9-42f1-8de1-dacae3d64dfe",
   "metadata": {},
   "outputs": [],
   "source": [
    "adata_train_bool = create_random_mask(adata.shape[0], ratio_true=0.8, seed=0)\n",
    "adata_train = adata[adata_train_bool].copy()\n",
    "adata_valid = adata[~adata_train_bool].copy()"
   ]
  },
  {
   "cell_type": "code",
   "execution_count": 7,
   "id": "76e17183-d8b9-4a8c-a49c-2fe1457b12f1",
   "metadata": {},
   "outputs": [
    {
     "name": "stdout",
     "output_type": "stream",
     "text": [
      "Layer is None, check if you want to specify the layer of adata!\n",
      "Data loading done!\n"
     ]
    },
    {
     "name": "stderr",
     "output_type": "stream",
     "text": [
      "/home/icb/kemal.inecik/tools/apps/mamba/envs/cpa/lib/python3.9/site-packages/anndata/experimental/multi_files/_anncollection.py:210: FutureWarning: Series.__getitem__ treating keys as positions is deprecated. In a future version, integer keys will always be treated as labels (consistent with DataFrame behavior). To access a value by position, use `ser.iloc[pos]`\n",
      "  arrs.append(arr[idx])\n",
      "/home/icb/kemal.inecik/tools/apps/mamba/envs/cpa/lib/python3.9/site-packages/anndata/experimental/multi_files/_anncollection.py:210: FutureWarning: Series.__getitem__ treating keys as positions is deprecated. In a future version, integer keys will always be treated as labels (consistent with DataFrame behavior). To access a value by position, use `ser.iloc[pos]`\n",
      "  arrs.append(arr[idx])\n",
      "/home/icb/kemal.inecik/tools/apps/mamba/envs/cpa/lib/python3.9/site-packages/anndata/experimental/multi_files/_anncollection.py:210: FutureWarning: Series.__getitem__ treating keys as positions is deprecated. In a future version, integer keys will always be treated as labels (consistent with DataFrame behavior). To access a value by position, use `ser.iloc[pos]`\n",
      "  arrs.append(arr[idx])\n"
     ]
    },
    {
     "name": "stdout",
     "output_type": "stream",
     "text": [
      "The covariates for the invariant prior are None. Defaulting to N(0,1) for that prior.\n"
     ]
    }
   ],
   "source": [
    "inv_covar_keys = {\n",
    "    'cont': [],\n",
    "    'cat': []\n",
    "}\n",
    "\n",
    "spur_covar_keys = {\n",
    "    'cont': [],\n",
    "    'cat': ['organ', 'integration_donor', 'integration_library_platform_coarse'] #set to the keys in the adata\n",
    "}\n",
    "\n",
    "model = FinVAE(\n",
    "    adata = adata_train,\n",
    "    layer = None,\n",
    "    inv_covar_keys = inv_covar_keys,\n",
    "    spur_covar_keys = spur_covar_keys,\n",
    "    device=\"cpu\"\n",
    ")"
   ]
  },
  {
   "cell_type": "code",
   "execution_count": 8,
   "id": "ec11fecc-aeeb-46b0-98ed-651ce01b096a",
   "metadata": {},
   "outputs": [
    {
     "name": "stdout",
     "output_type": "stream",
     "text": [
      "Starting training of model:\n",
      "\tepoch 1/1 took 4253.61s; loss: 483.62\n",
      "Training done!\n"
     ]
    }
   ],
   "source": [
    "with warnings.catch_warnings():\n",
    "    warnings.simplefilter(\"ignore\")\n",
    "    model.train(n_epochs=1, lr_train=0.001, weight_decay=0.0001, \n",
    "                log_freq=1, print_every_n_epochs=1, log_dir=os.path.join(os.getcwd(), \"invae.log\"))"
   ]
  },
  {
   "cell_type": "code",
   "execution_count": null,
   "id": "7d392748-1f73-4759-9a94-4eae50044996",
   "metadata": {},
   "outputs": [],
   "source": [
    "model.save(\"/home/icb/kemal.inecik/lustre_workspace/tardis_data/models/invae_1.pt\")"
   ]
  },
  {
   "cell_type": "code",
   "execution_count": 9,
   "id": "acd3ed44-9562-47c2-b5eb-d38f6a0c8458",
   "metadata": {},
   "outputs": [
    {
     "name": "stdout",
     "output_type": "stream",
     "text": [
      "Calculating latent representation of passed adata by trying to transfer setup from the adata the model was trained on!\n"
     ]
    },
    {
     "name": "stderr",
     "output_type": "stream",
     "text": [
      "/home/icb/kemal.inecik/tools/apps/mamba/envs/cpa/lib/python3.9/site-packages/anndata/experimental/multi_files/_anncollection.py:210: FutureWarning: Series.__getitem__ treating keys as positions is deprecated. In a future version, integer keys will always be treated as labels (consistent with DataFrame behavior). To access a value by position, use `ser.iloc[pos]`\n",
      "  arrs.append(arr[idx])\n",
      "/home/icb/kemal.inecik/tools/apps/mamba/envs/cpa/lib/python3.9/site-packages/anndata/experimental/multi_files/_anncollection.py:210: FutureWarning: Series.__getitem__ treating keys as positions is deprecated. In a future version, integer keys will always be treated as labels (consistent with DataFrame behavior). To access a value by position, use `ser.iloc[pos]`\n",
      "  arrs.append(arr[idx])\n",
      "/home/icb/kemal.inecik/tools/apps/mamba/envs/cpa/lib/python3.9/site-packages/anndata/experimental/multi_files/_anncollection.py:210: FutureWarning: Series.__getitem__ treating keys as positions is deprecated. In a future version, integer keys will always be treated as labels (consistent with DataFrame behavior). To access a value by position, use `ser.iloc[pos]`\n",
      "  arrs.append(arr[idx])\n"
     ]
    }
   ],
   "source": [
    "invariant = model.get_latent_representation(adata, latent_type='invariant')"
   ]
  },
  {
   "cell_type": "code",
   "execution_count": 10,
   "id": "d542d543-b395-4ad9-9f93-0bdb6fabb685",
   "metadata": {},
   "outputs": [
    {
     "name": "stdout",
     "output_type": "stream",
     "text": [
      "Calculating latent representation of passed adata by trying to transfer setup from the adata the model was trained on!\n"
     ]
    },
    {
     "name": "stderr",
     "output_type": "stream",
     "text": [
      "/home/icb/kemal.inecik/tools/apps/mamba/envs/cpa/lib/python3.9/site-packages/anndata/experimental/multi_files/_anncollection.py:210: FutureWarning: Series.__getitem__ treating keys as positions is deprecated. In a future version, integer keys will always be treated as labels (consistent with DataFrame behavior). To access a value by position, use `ser.iloc[pos]`\n",
      "  arrs.append(arr[idx])\n",
      "/home/icb/kemal.inecik/tools/apps/mamba/envs/cpa/lib/python3.9/site-packages/anndata/experimental/multi_files/_anncollection.py:210: FutureWarning: Series.__getitem__ treating keys as positions is deprecated. In a future version, integer keys will always be treated as labels (consistent with DataFrame behavior). To access a value by position, use `ser.iloc[pos]`\n",
      "  arrs.append(arr[idx])\n",
      "/home/icb/kemal.inecik/tools/apps/mamba/envs/cpa/lib/python3.9/site-packages/anndata/experimental/multi_files/_anncollection.py:210: FutureWarning: Series.__getitem__ treating keys as positions is deprecated. In a future version, integer keys will always be treated as labels (consistent with DataFrame behavior). To access a value by position, use `ser.iloc[pos]`\n",
      "  arrs.append(arr[idx])\n"
     ]
    }
   ],
   "source": [
    "spurious = model.get_latent_representation(adata, latent_type='spurious')"
   ]
  },
  {
   "cell_type": "code",
   "execution_count": 13,
   "id": "4fe45b16-ccda-4cad-b923-06e8d5610ea7",
   "metadata": {},
   "outputs": [
    {
     "data": {
      "text/plain": [
       "(841922, 9)"
      ]
     },
     "execution_count": 13,
     "metadata": {},
     "output_type": "execute_result"
    }
   ],
   "source": [
    "invariant.shape"
   ]
  },
  {
   "cell_type": "code",
   "execution_count": 14,
   "id": "2f284e48-9536-499d-ab9b-5d57c2365cb3",
   "metadata": {},
   "outputs": [
    {
     "data": {
      "text/plain": [
       "(841922, 1)"
      ]
     },
     "execution_count": 14,
     "metadata": {},
     "output_type": "execute_result"
    }
   ],
   "source": [
    "spurious.shape"
   ]
  },
  {
   "cell_type": "code",
   "execution_count": 16,
   "id": "b35120ed-687e-4b0e-baa2-ae2ca5eaff18",
   "metadata": {},
   "outputs": [
    {
     "data": {
      "text/plain": [
       "['/home/icb/kemal.inecik/lustre_workspace/tardis_data/processed/spurious.joblib']"
      ]
     },
     "execution_count": 16,
     "metadata": {},
     "output_type": "execute_result"
    }
   ],
   "source": [
    "joblib.dump(invariant, \"/home/icb/kemal.inecik/lustre_workspace/tardis_data/processed/inveriant.joblib\")\n",
    "joblib.dump(spurious, \"/home/icb/kemal.inecik/lustre_workspace/tardis_data/processed/spurious.joblib\")"
   ]
  },
  {
   "cell_type": "code",
   "execution_count": 21,
   "id": "06690e3a-5706-49cd-9737-709c7d82351a",
   "metadata": {},
   "outputs": [],
   "source": [
    "a = joblib.load(\"/home/icb/kemal.inecik/lustre_workspace/tardis_data/processed/inveriant.joblib\")\n",
    "b = joblib.load(\"/home/icb/kemal.inecik/lustre_workspace/tardis_data/processed/spurious.joblib\")"
   ]
  },
  {
   "cell_type": "code",
   "execution_count": 22,
   "id": "27d2920e-982e-4fba-bab8-41d245a40333",
   "metadata": {},
   "outputs": [
    {
     "data": {
      "text/plain": [
       "array([[ 1.6351789 ,  0.21473171, -1.192861  , ..., -0.36038458,\n",
       "        -0.8183836 ,  0.2914055 ],\n",
       "       [ 0.7872124 ,  0.07463333,  1.6079642 , ..., -0.61626107,\n",
       "        -0.03099874, -1.2699432 ],\n",
       "       [ 0.4563352 ,  0.15015881, -0.14327045, ..., -0.06415468,\n",
       "        -1.907887  , -0.16704145],\n",
       "       ...,\n",
       "       [ 0.47114274, -0.8212458 , -0.04396553, ...,  0.09544043,\n",
       "         0.5473186 , -0.19      ],\n",
       "       [-0.49919507, -1.1582355 , -0.19781184, ..., -0.88468754,\n",
       "         0.24713337,  0.4063162 ],\n",
       "       [ 1.0077268 , -0.9353548 ,  0.5519111 , ..., -0.49778685,\n",
       "         0.3943866 ,  1.5031106 ]], dtype=float32)"
      ]
     },
     "execution_count": 22,
     "metadata": {},
     "output_type": "execute_result"
    }
   ],
   "source": [
    "a"
   ]
  },
  {
   "cell_type": "code",
   "execution_count": null,
   "id": "706e3df4-b461-4559-95ce-178292a3c8c1",
   "metadata": {},
   "outputs": [],
   "source": []
  }
 ],
 "metadata": {
  "kernelspec": {
   "display_name": "cpa",
   "language": "python",
   "name": "cpa"
  },
  "language_info": {
   "codemirror_mode": {
    "name": "ipython",
    "version": 3
   },
   "file_extension": ".py",
   "mimetype": "text/x-python",
   "name": "python",
   "nbconvert_exporter": "python",
   "pygments_lexer": "ipython3",
   "version": "3.9.19"
  }
 },
 "nbformat": 4,
 "nbformat_minor": 5
}
