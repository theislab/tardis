{
 "cells": [
  {
   "cell_type": "markdown",
   "id": "3caa2a27-8613-4d8d-bca4-6fd0b2845d32",
   "metadata": {},
   "source": [
    "# Miller age"
   ]
  },
  {
   "cell_type": "code",
   "execution_count": null,
   "id": "11fa8042-968c-4056-b6c2-21d2a41e4a91",
   "metadata": {},
   "outputs": [],
   "source": [
    "ood_seed = 0"
   ]
  },
  {
   "cell_type": "code",
   "execution_count": null,
   "id": "bf8c640b-1de3-4d28-a3ab-3dd5b54f91c5",
   "metadata": {},
   "outputs": [],
   "source": [
    "num_ood = 1  # not functioning"
   ]
  },
  {
   "cell_type": "code",
   "execution_count": null,
   "id": "d05ef01e-8441-415f-a6f7-0b6d8f4761d1",
   "metadata": {},
   "outputs": [],
   "source": [
    "import warnings\n",
    "import os\n",
    "import sys\n",
    "import gc\n",
    "import warnings\n",
    "import anndata as ad\n",
    "import scanpy as sc\n",
    "import copy\n",
    "import torch\n",
    "from pathlib import Path\n",
    "import networkx as nx\n",
    "from sklearn.neighbors import kneighbors_graph\n",
    "import numpy as np\n",
    "import scanpy as sc\n",
    "import pandas as pd\n",
    "import numpy as np\n",
    "import scipy.stats\n",
    "import sklearn\n",
    "from sklearn.dummy import DummyClassifier\n",
    "\n",
    "sys.path.append(\"/home/icb/kemal.inecik/work/codes/tardis\")\n",
    "import tardis\n",
    "from tardis._utils.functions import label_transfer\n",
    "tardis.config = tardis.config_server\n",
    "print(f\"CUDA used: {torch.cuda.is_available()}\")"
   ]
  },
  {
   "cell_type": "code",
   "execution_count": null,
   "id": "7bf1c85f-50e2-42e6-b0e1-54c8d7891674",
   "metadata": {},
   "outputs": [],
   "source": [
    "%matplotlib inline\n",
    "%config InlineBackend.figure_format='retina'\n",
    "import matplotlib.pyplot as plt\n",
    "import seaborn as sns\n",
    "\n",
    "import pickle\n",
    "_rcparams_path = \"/home/icb/kemal.inecik/work/codes/tardis/training/local/figures/rcparams.pickle\"\n",
    "with open(_rcparams_path, 'rb') as file:\n",
    "    _rcparams = pickle.load(file)\n",
    "plt.rcParams.update(_rcparams)"
   ]
  },
  {
   "cell_type": "code",
   "execution_count": null,
   "id": "468dee11-f67f-4838-9bd8-c0822e9b310f",
   "metadata": {},
   "outputs": [],
   "source": [
    "adata_file_path = os.path.join(tardis.config.io_directories[\"processed\"], \"dataset_complete_Miller.h5ad\")\n",
    "assert os.path.isfile(adata_file_path), f\"File not already exist: `{adata_file_path}`\"\n",
    "adata = ad.read_h5ad(adata_file_path)\n",
    "adata.obs[\"age\"] = adata.obs[\"age\"].astype(\"str\").astype(\"category\")\n",
    "\n",
    "adata.obs[\"age\"] = adata.obs[\"age\"].astype(\"str\").astype(\"category\")\n",
    "adata.obs[\"age_continuous\"] = adata.obs[\"age\"].astype(float)\n",
    "df = adata.obs.groupby([\"cell_type\", \"age\"]).size()\n",
    "df2 = adata.obs.groupby([\"cell_type\"]).size()\n",
    "availables = [(i, df[i]) for i in df.index if df[i] > 100 and df2[i[0]] > 350]"
   ]
  },
  {
   "cell_type": "code",
   "execution_count": null,
   "id": "037fb223-7d1a-47fa-87e5-2fb58275af64",
   "metadata": {},
   "outputs": [],
   "source": [
    "df"
   ]
  },
  {
   "cell_type": "code",
   "execution_count": null,
   "id": "3d4da34c-707f-432e-b3a3-c01a6290a670",
   "metadata": {},
   "outputs": [],
   "source": [
    "availables, len(availables)"
   ]
  },
  {
   "cell_type": "code",
   "execution_count": null,
   "id": "94ab9776-4e50-4995-9aa4-c4c04c60a1c3",
   "metadata": {},
   "outputs": [],
   "source": [
    "def adata_ood_creator(adata, seed, size):\n",
    "    rng = np.random.default_rng(seed=seed)\n",
    "    # random_choices = rng.choice(np.arange(len(availables)), size=size, replace=False)\n",
    "    # choices = [availables[i] for i in random_choices]\n",
    "    choices = [availables[ood_seed]]\n",
    "    for choice in choices:\n",
    "        print(choice)\n",
    "    choices_bool = np.vstack([(adata.obs[\"cell_type\"] == choice[0][0]) & (adata.obs[\"age\"] == choice[0][1]) for choice in choices]).any(axis=0)\n",
    "    print(f\"\\nRemoved datapoint: {choices_bool.sum()}\")\n",
    "    return adata[~choices_bool, :].copy(), choices_bool\n",
    "\n",
    "adata, choices_bool = adata_ood_creator(adata, seed=ood_seed, size=num_ood)"
   ]
  },
  {
   "cell_type": "code",
   "execution_count": null,
   "id": "8cb3d7bd-b684-427f-8cdc-be22859939ce",
   "metadata": {},
   "outputs": [],
   "source": [
    "adata"
   ]
  },
  {
   "cell_type": "code",
   "execution_count": null,
   "id": "bbd35a92-2801-4b28-bc4e-b6c25122c30e",
   "metadata": {},
   "outputs": [],
   "source": [
    "dir_path = os.path.join(\n",
    "    tardis.config.io_directories[\"models\"],\n",
    "    f\"miller_ood-seed-{ood_seed}_size-{num_ood}\"\n",
    ")"
   ]
  },
  {
   "cell_type": "code",
   "execution_count": null,
   "id": "70f0966b-1af6-49d3-abbe-0165e70fc35f",
   "metadata": {},
   "outputs": [],
   "source": [
    "# vae = tardis.MyModel.load(dir_path, adata=adata)"
   ]
  },
  {
   "cell_type": "code",
   "execution_count": null,
   "id": "fb11176c",
   "metadata": {},
   "outputs": [],
   "source": [
    "(\n",
    "    adata.obs[\"integration_donor\"].nunique(),\n",
    "    adata.obs[\"integration_biological_unit\"].nunique(),\n",
    "    adata.obs[\"integration_sample_status\"].nunique(),\n",
    "    adata.obs[\"integration_library_platform_coarse\"].nunique(),\n",
    ") "
   ]
  },
  {
   "cell_type": "code",
   "execution_count": null,
   "id": "f96b8204-22ba-47d5-b17f-9fe263cc87f6",
   "metadata": {},
   "outputs": [],
   "source": [
    "warmup_epoch_range = [6, 48]\n",
    "\n",
    "counteractive_minibatch_settings = dict(\n",
    "    method = \"categorical_random\",\n",
    "    method_kwargs = dict(\n",
    "        within_labels = False,\n",
    "        within_batch = False,\n",
    "        within_categorical_covs = None,\n",
    "        seed = \"forward\",\n",
    "    )\n",
    ")\n",
    "\n",
    "tardis_loss_weight_1 = 100\n",
    "tardis_loss_weight_2 = 10\n",
    "\n",
    "disentenglement_targets_configurations=[\n",
    "    dict(\n",
    "        obs_key = \"age\",\n",
    "        n_reserved_latent = 8,\n",
    "        counteractive_minibatch_settings = counteractive_minibatch_settings,\n",
    "        auxillary_losses = [\n",
    "            dict(\n",
    "                apply = True, \n",
    "                target_type=\"categorical\",\n",
    "                progress_bar = True,\n",
    "                weight = tardis_loss_weight_1,\n",
    "                method = \"mse_z\", \n",
    "                latent_group = \"reserved\",\n",
    "                counteractive_example = \"negative\",\n",
    "                transformation = \"inverse\", \n",
    "                warmup_epoch_range=warmup_epoch_range,\n",
    "                method_kwargs = {}\n",
    "            ),\n",
    "            dict(\n",
    "                apply = True, \n",
    "                target_type=\"categorical\",\n",
    "                progress_bar = False,\n",
    "                weight = tardis_loss_weight_2, \n",
    "                method = \"mse_z\", \n",
    "                latent_group = \"reserved\",\n",
    "                counteractive_example = \"positive\",\n",
    "                transformation = \"none\",\n",
    "                warmup_epoch_range=warmup_epoch_range,\n",
    "                method_kwargs = {}\n",
    "            ),\n",
    "            dict(\n",
    "                apply = True, \n",
    "                target_type=\"categorical\",\n",
    "                progress_bar = False,\n",
    "                weight = tardis_loss_weight_2 * 1,\n",
    "                method = \"mse_z\", \n",
    "                latent_group = \"unreserved_complete\",\n",
    "                counteractive_example = \"negative\",\n",
    "                transformation = \"none\", \n",
    "                warmup_epoch_range=warmup_epoch_range,\n",
    "                method_kwargs = {}\n",
    "            ),\n",
    "            dict(\n",
    "                apply = True, \n",
    "                target_type=\"categorical\",\n",
    "                progress_bar = False,\n",
    "                weight = tardis_loss_weight_1 * 1, \n",
    "                method = \"mse_z\", \n",
    "                latent_group = \"unreserved_complete\",\n",
    "                counteractive_example = \"positive\",\n",
    "                transformation = \"inverse\",\n",
    "                warmup_epoch_range=warmup_epoch_range,\n",
    "                method_kwargs = {}\n",
    "            ),\n",
    "        ]\n",
    "    ),\n",
    "    dict(\n",
    "        obs_key = \"integration_donor\",\n",
    "        n_reserved_latent = 8,\n",
    "        counteractive_minibatch_settings = counteractive_minibatch_settings,\n",
    "        auxillary_losses = [\n",
    "            dict(\n",
    "                apply = True, \n",
    "                target_type=\"categorical\",\n",
    "                progress_bar = True,\n",
    "                weight = tardis_loss_weight_1,\n",
    "                method = \"mse_z\", \n",
    "                latent_group = \"reserved\",\n",
    "                counteractive_example = \"negative\",\n",
    "                transformation = \"inverse\", \n",
    "                warmup_epoch_range=warmup_epoch_range,\n",
    "                method_kwargs = {}\n",
    "            ),\n",
    "            dict(\n",
    "                apply = True, \n",
    "                target_type=\"categorical\",\n",
    "                progress_bar = False,\n",
    "                weight = tardis_loss_weight_2, \n",
    "                method = \"mse_z\", \n",
    "                latent_group = \"reserved\",\n",
    "                counteractive_example = \"positive\",\n",
    "                transformation = \"none\",\n",
    "                warmup_epoch_range=warmup_epoch_range,\n",
    "                method_kwargs = {}\n",
    "            ),\n",
    "            dict(\n",
    "                apply = True, \n",
    "                target_type=\"categorical\",\n",
    "                progress_bar = False,\n",
    "                weight = tardis_loss_weight_2 * 1,\n",
    "                method = \"mse_z\", \n",
    "                latent_group = \"unreserved_complete\",\n",
    "                counteractive_example = \"negative\",\n",
    "                transformation = \"none\", \n",
    "                warmup_epoch_range=warmup_epoch_range,\n",
    "                method_kwargs = {}\n",
    "            ),\n",
    "            dict(\n",
    "                apply = True, \n",
    "                target_type=\"categorical\",\n",
    "                progress_bar = False,\n",
    "                weight = tardis_loss_weight_1 * 1, \n",
    "                method = \"mse_z\", \n",
    "                latent_group = \"unreserved_complete\",\n",
    "                counteractive_example = \"positive\",\n",
    "                transformation = \"inverse\",\n",
    "                warmup_epoch_range=warmup_epoch_range,\n",
    "                method_kwargs = {}\n",
    "            ),\n",
    "        ]\n",
    "    )\n",
    "]\n"
   ]
  },
  {
   "cell_type": "code",
   "execution_count": null,
   "id": "2490b31c-3f22-47d8-8d35-b27c9cb19810",
   "metadata": {},
   "outputs": [
    {
     "name": "stderr",
     "output_type": "stream",
     "text": [
      "`Trainer(limit_val_batches=1.0)` was configured so 100% of the batches will be used..\n"
     ]
    },
    {
     "name": "stderr",
     "output_type": "stream",
     "text": [
      "/home/icb/kemal.inecik/tools/apps/mamba/envs/tardis_env/lib/python3.10/site-packages/lightning/fabric/plugins/environments/slurm.py:168: The `srun` command is available on your system but is not used. HINT: If your intention is to run Lightning on SLURM, prepend your python command with `srun` like so: srun python /home/icb/kemal.inecik/tools/apps/mamba/envs/tardis_ ...\n",
      "/home/icb/kemal.inecik/tools/apps/mamba/envs/tardis_env/lib/python3.10/site-packages/torch/optim/lr_scheduler.py:28: UserWarning: The verbose parameter is deprecated. Please use get_last_lr() to access the learning rate.\n",
      "  warnings.warn(\"The verbose parameter is deprecated. Please use get_last_lr() \"\n"
     ]
    },
    {
     "name": "stdout",
     "output_type": "stream",
     "text": [
      "\r",
      "Training:   0%|          | 0/600 [00:00<?, ?it/s]"
     ]
    },
    {
     "name": "stdout",
     "output_type": "stream",
     "text": [
      "\r",
      "Epoch 1/600:   0%|          | 0/600 [00:00<?, ?it/s]"
     ]
    },
    {
     "name": "stderr",
     "output_type": "stream",
     "text": [
      "/home/icb/kemal.inecik/work/codes/tardis/tardis/_counteractivegenerator.py:237: UserWarning: Possible group definition indices are calculated for `age` for `training` set. Number of elements in each group: 432,2335,2395,627\n",
      "  possible_indices = CachedPossibleGroupDefinitionIndices.get(\n",
      "/home/icb/kemal.inecik/work/codes/tardis/tardis/_counteractivegenerator.py:237: UserWarning: Possible group definition indices are calculated for `integration_donor` for `training` set. Number of elements in each group: 171,261,541,250,1544,1497,898,627\n",
      "  possible_indices = CachedPossibleGroupDefinitionIndices.get(\n"
     ]
    },
    {
     "name": "stderr",
     "output_type": "stream",
     "text": [
      "/home/icb/kemal.inecik/work/codes/tardis/tardis/_counteractivegenerator.py:237: UserWarning: Possible group definition indices are calculated for `age` for `validation` set. Number of elements in each group: 106,589,610,142\n",
      "  possible_indices = CachedPossibleGroupDefinitionIndices.get(\n",
      "/home/icb/kemal.inecik/work/codes/tardis/tardis/_counteractivegenerator.py:237: UserWarning: Possible group definition indices are calculated for `integration_donor` for `validation` set. Number of elements in each group: 49,57,142,56,391,369,241,142\n",
      "  possible_indices = CachedPossibleGroupDefinitionIndices.get(\n"
     ]
    },
    {
     "name": "stdout",
     "output_type": "stream",
     "text": [
      "\r",
      "Epoch 1/600:   0%|          | 1/600 [00:04<47:06,  4.72s/it]"
     ]
    },
    {
     "name": "stdout",
     "output_type": "stream",
     "text": [
      "\r",
      "Epoch 1/600:   0%|          | 1/600 [00:04<47:06,  4.72s/it, v_num=bl_1, total_loss_train=1.2e+3, kl_local_train=11.4, tardis_age_0_train=32.5, tardis_integration_donor_0_train=35]"
     ]
    },
    {
     "name": "stdout",
     "output_type": "stream",
     "text": [
      "\r",
      "Epoch 2/600:   0%|          | 1/600 [00:04<47:06,  4.72s/it, v_num=bl_1, total_loss_train=1.2e+3, kl_local_train=11.4, tardis_age_0_train=32.5, tardis_integration_donor_0_train=35]"
     ]
    },
    {
     "name": "stdout",
     "output_type": "stream",
     "text": [
      "\r",
      "Epoch 2/600:   0%|          | 2/600 [00:08<43:37,  4.38s/it, v_num=bl_1, total_loss_train=1.2e+3, kl_local_train=11.4, tardis_age_0_train=32.5, tardis_integration_donor_0_train=35]"
     ]
    },
    {
     "name": "stdout",
     "output_type": "stream",
     "text": [
      "\r",
      "Epoch 2/600:   0%|          | 2/600 [00:08<43:37,  4.38s/it, v_num=bl_1, total_loss_train=1.04e+3, kl_local_train=29.8, tardis_age_0_train=33.7, tardis_integration_donor_0_train=36.5]"
     ]
    },
    {
     "name": "stdout",
     "output_type": "stream",
     "text": [
      "\r",
      "Epoch 3/600:   0%|          | 2/600 [00:08<43:37,  4.38s/it, v_num=bl_1, total_loss_train=1.04e+3, kl_local_train=29.8, tardis_age_0_train=33.7, tardis_integration_donor_0_train=36.5]"
     ]
    },
    {
     "name": "stdout",
     "output_type": "stream",
     "text": [
      "\r",
      "Epoch 3/600:   0%|          | 3/600 [00:13<42:50,  4.31s/it, v_num=bl_1, total_loss_train=1.04e+3, kl_local_train=29.8, tardis_age_0_train=33.7, tardis_integration_donor_0_train=36.5]"
     ]
    },
    {
     "name": "stdout",
     "output_type": "stream",
     "text": [
      "\r",
      "Epoch 3/600:   0%|          | 3/600 [00:13<42:50,  4.31s/it, v_num=bl_1, total_loss_train=1e+3, kl_local_train=31, tardis_age_0_train=34.3, tardis_integration_donor_0_train=36.2]     "
     ]
    },
    {
     "name": "stdout",
     "output_type": "stream",
     "text": [
      "\r",
      "Epoch 4/600:   0%|          | 3/600 [00:13<42:50,  4.31s/it, v_num=bl_1, total_loss_train=1e+3, kl_local_train=31, tardis_age_0_train=34.3, tardis_integration_donor_0_train=36.2]"
     ]
    },
    {
     "name": "stdout",
     "output_type": "stream",
     "text": [
      "\r",
      "Epoch 4/600:   1%|          | 4/600 [00:17<42:47,  4.31s/it, v_num=bl_1, total_loss_train=1e+3, kl_local_train=31, tardis_age_0_train=34.3, tardis_integration_donor_0_train=36.2]"
     ]
    },
    {
     "name": "stdout",
     "output_type": "stream",
     "text": [
      "\r",
      "Epoch 4/600:   1%|          | 4/600 [00:17<42:47,  4.31s/it, v_num=bl_1, total_loss_train=978, kl_local_train=32.5, tardis_age_0_train=32.6, tardis_integration_donor_0_train=33.9]"
     ]
    },
    {
     "name": "stdout",
     "output_type": "stream",
     "text": [
      "\r",
      "Epoch 5/600:   1%|          | 4/600 [00:17<42:47,  4.31s/it, v_num=bl_1, total_loss_train=978, kl_local_train=32.5, tardis_age_0_train=32.6, tardis_integration_donor_0_train=33.9]"
     ]
    },
    {
     "name": "stdout",
     "output_type": "stream",
     "text": [
      "\r",
      "Epoch 5/600:   1%|          | 5/600 [00:21<42:36,  4.30s/it, v_num=bl_1, total_loss_train=978, kl_local_train=32.5, tardis_age_0_train=32.6, tardis_integration_donor_0_train=33.9]"
     ]
    },
    {
     "name": "stdout",
     "output_type": "stream",
     "text": [
      "\r",
      "Epoch 5/600:   1%|          | 5/600 [00:21<42:36,  4.30s/it, v_num=bl_1, total_loss_train=945, kl_local_train=39.8, tardis_age_0_train=32.3, tardis_integration_donor_0_train=33.7]"
     ]
    },
    {
     "name": "stdout",
     "output_type": "stream",
     "text": [
      "\r",
      "Epoch 6/600:   1%|          | 5/600 [00:21<42:36,  4.30s/it, v_num=bl_1, total_loss_train=945, kl_local_train=39.8, tardis_age_0_train=32.3, tardis_integration_donor_0_train=33.7]"
     ]
    },
    {
     "name": "stdout",
     "output_type": "stream",
     "text": [
      "\r",
      "Epoch 6/600:   1%|          | 6/600 [00:25<42:22,  4.28s/it, v_num=bl_1, total_loss_train=945, kl_local_train=39.8, tardis_age_0_train=32.3, tardis_integration_donor_0_train=33.7]"
     ]
    },
    {
     "name": "stdout",
     "output_type": "stream",
     "text": [
      "\r",
      "Epoch 6/600:   1%|          | 6/600 [00:25<42:22,  4.28s/it, v_num=bl_1, total_loss_train=920, kl_local_train=43, tardis_age_0_train=31.9, tardis_integration_donor_0_train=34.3]  "
     ]
    },
    {
     "name": "stdout",
     "output_type": "stream",
     "text": [
      "\r",
      "Epoch 7/600:   1%|          | 6/600 [00:25<42:22,  4.28s/it, v_num=bl_1, total_loss_train=920, kl_local_train=43, tardis_age_0_train=31.9, tardis_integration_donor_0_train=34.3]"
     ]
    },
    {
     "name": "stdout",
     "output_type": "stream",
     "text": [
      "\r",
      "Epoch 7/600:   1%|          | 7/600 [00:30<42:16,  4.28s/it, v_num=bl_1, total_loss_train=920, kl_local_train=43, tardis_age_0_train=31.9, tardis_integration_donor_0_train=34.3]"
     ]
    },
    {
     "name": "stdout",
     "output_type": "stream",
     "text": [
      "\r",
      "Epoch 7/600:   1%|          | 7/600 [00:30<42:16,  4.28s/it, v_num=bl_1, total_loss_train=903, kl_local_train=44.5, tardis_age_0_train=32.4, tardis_integration_donor_0_train=34.7]"
     ]
    },
    {
     "name": "stdout",
     "output_type": "stream",
     "text": [
      "\r",
      "Epoch 8/600:   1%|          | 7/600 [00:30<42:16,  4.28s/it, v_num=bl_1, total_loss_train=903, kl_local_train=44.5, tardis_age_0_train=32.4, tardis_integration_donor_0_train=34.7]"
     ]
    },
    {
     "name": "stdout",
     "output_type": "stream",
     "text": [
      "\r",
      "Epoch 8/600:   1%|▏         | 8/600 [00:34<42:08,  4.27s/it, v_num=bl_1, total_loss_train=903, kl_local_train=44.5, tardis_age_0_train=32.4, tardis_integration_donor_0_train=34.7]"
     ]
    },
    {
     "name": "stdout",
     "output_type": "stream",
     "text": [
      "\r",
      "Epoch 8/600:   1%|▏         | 8/600 [00:34<42:08,  4.27s/it, v_num=bl_1, total_loss_train=900, kl_local_train=42.2, tardis_age_0_train=34.5, tardis_integration_donor_0_train=35.2]"
     ]
    },
    {
     "name": "stdout",
     "output_type": "stream",
     "text": [
      "\r",
      "Epoch 9/600:   1%|▏         | 8/600 [00:34<42:08,  4.27s/it, v_num=bl_1, total_loss_train=900, kl_local_train=42.2, tardis_age_0_train=34.5, tardis_integration_donor_0_train=35.2]"
     ]
    },
    {
     "name": "stdout",
     "output_type": "stream",
     "text": [
      "\r",
      "Epoch 9/600:   2%|▏         | 9/600 [00:38<42:08,  4.28s/it, v_num=bl_1, total_loss_train=900, kl_local_train=42.2, tardis_age_0_train=34.5, tardis_integration_donor_0_train=35.2]"
     ]
    },
    {
     "name": "stdout",
     "output_type": "stream",
     "text": [
      "\r",
      "Epoch 9/600:   2%|▏         | 9/600 [00:38<42:08,  4.28s/it, v_num=bl_1, total_loss_train=899, kl_local_train=36.3, tardis_age_0_train=35.3, tardis_integration_donor_0_train=34.7]"
     ]
    },
    {
     "name": "stdout",
     "output_type": "stream",
     "text": [
      "\r",
      "Epoch 10/600:   2%|▏         | 9/600 [00:38<42:08,  4.28s/it, v_num=bl_1, total_loss_train=899, kl_local_train=36.3, tardis_age_0_train=35.3, tardis_integration_donor_0_train=34.7]"
     ]
    },
    {
     "name": "stdout",
     "output_type": "stream",
     "text": [
      "\r",
      "Epoch 10/600:   2%|▏         | 10/600 [00:42<41:58,  4.27s/it, v_num=bl_1, total_loss_train=899, kl_local_train=36.3, tardis_age_0_train=35.3, tardis_integration_donor_0_train=34.7]"
     ]
    },
    {
     "name": "stdout",
     "output_type": "stream",
     "text": [
      "\r",
      "Epoch 10/600:   2%|▏         | 10/600 [00:42<41:58,  4.27s/it, v_num=bl_1, total_loss_train=898, kl_local_train=34.2, tardis_age_0_train=34.4, tardis_integration_donor_0_train=32.8]"
     ]
    },
    {
     "name": "stdout",
     "output_type": "stream",
     "text": [
      "\r",
      "Epoch 11/600:   2%|▏         | 10/600 [00:42<41:58,  4.27s/it, v_num=bl_1, total_loss_train=898, kl_local_train=34.2, tardis_age_0_train=34.4, tardis_integration_donor_0_train=32.8]"
     ]
    },
    {
     "name": "stdout",
     "output_type": "stream",
     "text": [
      "\r",
      "Epoch 11/600:   2%|▏         | 11/600 [00:47<41:50,  4.26s/it, v_num=bl_1, total_loss_train=898, kl_local_train=34.2, tardis_age_0_train=34.4, tardis_integration_donor_0_train=32.8]"
     ]
    },
    {
     "name": "stdout",
     "output_type": "stream",
     "text": [
      "\r",
      "Epoch 11/600:   2%|▏         | 11/600 [00:47<41:50,  4.26s/it, v_num=bl_1, total_loss_train=897, kl_local_train=37.6, tardis_age_0_train=33.2, tardis_integration_donor_0_train=29.7]"
     ]
    },
    {
     "name": "stdout",
     "output_type": "stream",
     "text": [
      "\r",
      "Epoch 12/600:   2%|▏         | 11/600 [00:47<41:50,  4.26s/it, v_num=bl_1, total_loss_train=897, kl_local_train=37.6, tardis_age_0_train=33.2, tardis_integration_donor_0_train=29.7]"
     ]
    },
    {
     "name": "stdout",
     "output_type": "stream",
     "text": [
      "\r",
      "Epoch 12/600:   2%|▏         | 12/600 [00:51<41:47,  4.26s/it, v_num=bl_1, total_loss_train=897, kl_local_train=37.6, tardis_age_0_train=33.2, tardis_integration_donor_0_train=29.7]"
     ]
    },
    {
     "name": "stdout",
     "output_type": "stream",
     "text": [
      "\r",
      "Epoch 12/600:   2%|▏         | 12/600 [00:51<41:47,  4.26s/it, v_num=bl_1, total_loss_train=897, kl_local_train=42, tardis_age_0_train=32.5, tardis_integration_donor_0_train=28]    "
     ]
    },
    {
     "name": "stdout",
     "output_type": "stream",
     "text": [
      "\r",
      "Epoch 13/600:   2%|▏         | 12/600 [00:51<41:47,  4.26s/it, v_num=bl_1, total_loss_train=897, kl_local_train=42, tardis_age_0_train=32.5, tardis_integration_donor_0_train=28]"
     ]
    },
    {
     "name": "stdout",
     "output_type": "stream",
     "text": [
      "\r",
      "Epoch 13/600:   2%|▏         | 13/600 [00:55<41:40,  4.26s/it, v_num=bl_1, total_loss_train=897, kl_local_train=42, tardis_age_0_train=32.5, tardis_integration_donor_0_train=28]"
     ]
    },
    {
     "name": "stdout",
     "output_type": "stream",
     "text": [
      "\r",
      "Epoch 13/600:   2%|▏         | 13/600 [00:55<41:40,  4.26s/it, v_num=bl_1, total_loss_train=896, kl_local_train=46.4, tardis_age_0_train=32.4, tardis_integration_donor_0_train=27.2]"
     ]
    },
    {
     "name": "stdout",
     "output_type": "stream",
     "text": [
      "\r",
      "Epoch 14/600:   2%|▏         | 13/600 [00:55<41:40,  4.26s/it, v_num=bl_1, total_loss_train=896, kl_local_train=46.4, tardis_age_0_train=32.4, tardis_integration_donor_0_train=27.2]"
     ]
    },
    {
     "name": "stdout",
     "output_type": "stream",
     "text": [
      "\r",
      "Epoch 14/600:   2%|▏         | 14/600 [00:59<41:23,  4.24s/it, v_num=bl_1, total_loss_train=896, kl_local_train=46.4, tardis_age_0_train=32.4, tardis_integration_donor_0_train=27.2]"
     ]
    },
    {
     "name": "stdout",
     "output_type": "stream",
     "text": [
      "\r",
      "Epoch 14/600:   2%|▏         | 14/600 [00:59<41:23,  4.24s/it, v_num=bl_1, total_loss_train=896, kl_local_train=51.6, tardis_age_0_train=31.6, tardis_integration_donor_0_train=25.7]"
     ]
    },
    {
     "name": "stdout",
     "output_type": "stream",
     "text": [
      "\r",
      "Epoch 15/600:   2%|▏         | 14/600 [00:59<41:23,  4.24s/it, v_num=bl_1, total_loss_train=896, kl_local_train=51.6, tardis_age_0_train=31.6, tardis_integration_donor_0_train=25.7]"
     ]
    },
    {
     "name": "stdout",
     "output_type": "stream",
     "text": [
      "\r",
      "Epoch 15/600:   2%|▎         | 15/600 [01:04<41:23,  4.25s/it, v_num=bl_1, total_loss_train=896, kl_local_train=51.6, tardis_age_0_train=31.6, tardis_integration_donor_0_train=25.7]"
     ]
    },
    {
     "name": "stdout",
     "output_type": "stream",
     "text": [
      "\r",
      "Epoch 15/600:   2%|▎         | 15/600 [01:04<41:23,  4.25s/it, v_num=bl_1, total_loss_train=897, kl_local_train=57.3, tardis_age_0_train=31.5, tardis_integration_donor_0_train=24.9]"
     ]
    },
    {
     "name": "stdout",
     "output_type": "stream",
     "text": [
      "\r",
      "Epoch 16/600:   2%|▎         | 15/600 [01:04<41:23,  4.25s/it, v_num=bl_1, total_loss_train=897, kl_local_train=57.3, tardis_age_0_train=31.5, tardis_integration_donor_0_train=24.9]"
     ]
    },
    {
     "name": "stdout",
     "output_type": "stream",
     "text": [
      "\r",
      "Epoch 16/600:   3%|▎         | 16/600 [01:08<41:21,  4.25s/it, v_num=bl_1, total_loss_train=897, kl_local_train=57.3, tardis_age_0_train=31.5, tardis_integration_donor_0_train=24.9]"
     ]
    },
    {
     "name": "stdout",
     "output_type": "stream",
     "text": [
      "\r",
      "Epoch 16/600:   3%|▎         | 16/600 [01:08<41:21,  4.25s/it, v_num=bl_1, total_loss_train=897, kl_local_train=63.1, tardis_age_0_train=30.9, tardis_integration_donor_0_train=23.8]"
     ]
    },
    {
     "name": "stdout",
     "output_type": "stream",
     "text": [
      "\r",
      "Epoch 17/600:   3%|▎         | 16/600 [01:08<41:21,  4.25s/it, v_num=bl_1, total_loss_train=897, kl_local_train=63.1, tardis_age_0_train=30.9, tardis_integration_donor_0_train=23.8]"
     ]
    },
    {
     "name": "stdout",
     "output_type": "stream",
     "text": [
      "\r",
      "Epoch 17/600:   3%|▎         | 17/600 [01:12<41:17,  4.25s/it, v_num=bl_1, total_loss_train=897, kl_local_train=63.1, tardis_age_0_train=30.9, tardis_integration_donor_0_train=23.8]"
     ]
    },
    {
     "name": "stdout",
     "output_type": "stream",
     "text": [
      "\r",
      "Epoch 17/600:   3%|▎         | 17/600 [01:12<41:17,  4.25s/it, v_num=bl_1, total_loss_train=898, kl_local_train=66.2, tardis_age_0_train=29.6, tardis_integration_donor_0_train=23.2]"
     ]
    },
    {
     "name": "stdout",
     "output_type": "stream",
     "text": [
      "\r",
      "Epoch 18/600:   3%|▎         | 17/600 [01:12<41:17,  4.25s/it, v_num=bl_1, total_loss_train=898, kl_local_train=66.2, tardis_age_0_train=29.6, tardis_integration_donor_0_train=23.2]"
     ]
    },
    {
     "name": "stdout",
     "output_type": "stream",
     "text": [
      "\r",
      "Epoch 18/600:   3%|▎         | 18/600 [01:16<41:13,  4.25s/it, v_num=bl_1, total_loss_train=898, kl_local_train=66.2, tardis_age_0_train=29.6, tardis_integration_donor_0_train=23.2]"
     ]
    },
    {
     "name": "stdout",
     "output_type": "stream",
     "text": [
      "\r",
      "Epoch 18/600:   3%|▎         | 18/600 [01:16<41:13,  4.25s/it, v_num=bl_1, total_loss_train=900, kl_local_train=73.8, tardis_age_0_train=29.2, tardis_integration_donor_0_train=22.3]"
     ]
    },
    {
     "name": "stdout",
     "output_type": "stream",
     "text": [
      "\r",
      "Epoch 19/600:   3%|▎         | 18/600 [01:16<41:13,  4.25s/it, v_num=bl_1, total_loss_train=900, kl_local_train=73.8, tardis_age_0_train=29.2, tardis_integration_donor_0_train=22.3]"
     ]
    },
    {
     "name": "stdout",
     "output_type": "stream",
     "text": [
      "\r",
      "Epoch 19/600:   3%|▎         | 19/600 [01:21<41:01,  4.24s/it, v_num=bl_1, total_loss_train=900, kl_local_train=73.8, tardis_age_0_train=29.2, tardis_integration_donor_0_train=22.3]"
     ]
    },
    {
     "name": "stdout",
     "output_type": "stream",
     "text": [
      "\r",
      "Epoch 19/600:   3%|▎         | 19/600 [01:21<41:01,  4.24s/it, v_num=bl_1, total_loss_train=902, kl_local_train=85.9, tardis_age_0_train=28, tardis_integration_donor_0_train=21.8]  "
     ]
    },
    {
     "name": "stdout",
     "output_type": "stream",
     "text": [
      "\r",
      "Epoch 20/600:   3%|▎         | 19/600 [01:21<41:01,  4.24s/it, v_num=bl_1, total_loss_train=902, kl_local_train=85.9, tardis_age_0_train=28, tardis_integration_donor_0_train=21.8]"
     ]
    },
    {
     "name": "stdout",
     "output_type": "stream",
     "text": [
      "\r",
      "Epoch 20/600:   3%|▎         | 20/600 [01:25<41:04,  4.25s/it, v_num=bl_1, total_loss_train=902, kl_local_train=85.9, tardis_age_0_train=28, tardis_integration_donor_0_train=21.8]"
     ]
    },
    {
     "name": "stdout",
     "output_type": "stream",
     "text": [
      "\r",
      "Epoch 20/600:   3%|▎         | 20/600 [01:25<41:04,  4.25s/it, v_num=bl_1, total_loss_train=902, kl_local_train=96.9, tardis_age_0_train=25.7, tardis_integration_donor_0_train=20]"
     ]
    },
    {
     "name": "stdout",
     "output_type": "stream",
     "text": [
      "\r",
      "Epoch 21/600:   3%|▎         | 20/600 [01:25<41:04,  4.25s/it, v_num=bl_1, total_loss_train=902, kl_local_train=96.9, tardis_age_0_train=25.7, tardis_integration_donor_0_train=20]"
     ]
    },
    {
     "name": "stdout",
     "output_type": "stream",
     "text": [
      "\r",
      "Epoch 21/600:   4%|▎         | 21/600 [01:29<41:03,  4.26s/it, v_num=bl_1, total_loss_train=902, kl_local_train=96.9, tardis_age_0_train=25.7, tardis_integration_donor_0_train=20]"
     ]
    },
    {
     "name": "stdout",
     "output_type": "stream",
     "text": [
      "\r",
      "Epoch 21/600:   4%|▎         | 21/600 [01:29<41:03,  4.26s/it, v_num=bl_1, total_loss_train=903, kl_local_train=106, tardis_age_0_train=23.2, tardis_integration_donor_0_train=18.9]"
     ]
    },
    {
     "name": "stdout",
     "output_type": "stream",
     "text": [
      "\r",
      "Epoch 22/600:   4%|▎         | 21/600 [01:29<41:03,  4.26s/it, v_num=bl_1, total_loss_train=903, kl_local_train=106, tardis_age_0_train=23.2, tardis_integration_donor_0_train=18.9]"
     ]
    },
    {
     "name": "stdout",
     "output_type": "stream",
     "text": [
      "\r",
      "Epoch 22/600:   4%|▎         | 22/600 [01:33<41:01,  4.26s/it, v_num=bl_1, total_loss_train=903, kl_local_train=106, tardis_age_0_train=23.2, tardis_integration_donor_0_train=18.9]"
     ]
    },
    {
     "name": "stdout",
     "output_type": "stream",
     "text": [
      "\r",
      "Epoch 22/600:   4%|▎         | 22/600 [01:33<41:01,  4.26s/it, v_num=bl_1, total_loss_train=904, kl_local_train=117, tardis_age_0_train=20.8, tardis_integration_donor_0_train=17.6]"
     ]
    },
    {
     "name": "stdout",
     "output_type": "stream",
     "text": [
      "\r",
      "Epoch 23/600:   4%|▎         | 22/600 [01:33<41:01,  4.26s/it, v_num=bl_1, total_loss_train=904, kl_local_train=117, tardis_age_0_train=20.8, tardis_integration_donor_0_train=17.6]"
     ]
    },
    {
     "name": "stdout",
     "output_type": "stream",
     "text": [
      "\r",
      "Epoch 23/600:   4%|▍         | 23/600 [01:38<40:57,  4.26s/it, v_num=bl_1, total_loss_train=904, kl_local_train=117, tardis_age_0_train=20.8, tardis_integration_donor_0_train=17.6]"
     ]
    },
    {
     "name": "stdout",
     "output_type": "stream",
     "text": [
      "\r",
      "Epoch 23/600:   4%|▍         | 23/600 [01:38<40:57,  4.26s/it, v_num=bl_1, total_loss_train=904, kl_local_train=126, tardis_age_0_train=18.3, tardis_integration_donor_0_train=16.3]"
     ]
    },
    {
     "name": "stdout",
     "output_type": "stream",
     "text": [
      "\r",
      "Epoch 24/600:   4%|▍         | 23/600 [01:38<40:57,  4.26s/it, v_num=bl_1, total_loss_train=904, kl_local_train=126, tardis_age_0_train=18.3, tardis_integration_donor_0_train=16.3]"
     ]
    },
    {
     "name": "stdout",
     "output_type": "stream",
     "text": [
      "\r",
      "Epoch 24/600:   4%|▍         | 24/600 [01:42<40:50,  4.26s/it, v_num=bl_1, total_loss_train=904, kl_local_train=126, tardis_age_0_train=18.3, tardis_integration_donor_0_train=16.3]"
     ]
    },
    {
     "name": "stdout",
     "output_type": "stream",
     "text": [
      "\r",
      "Epoch 24/600:   4%|▍         | 24/600 [01:42<40:50,  4.26s/it, v_num=bl_1, total_loss_train=906, kl_local_train=142, tardis_age_0_train=16.9, tardis_integration_donor_0_train=15.9]"
     ]
    },
    {
     "name": "stdout",
     "output_type": "stream",
     "text": [
      "\r",
      "Epoch 25/600:   4%|▍         | 24/600 [01:42<40:50,  4.26s/it, v_num=bl_1, total_loss_train=906, kl_local_train=142, tardis_age_0_train=16.9, tardis_integration_donor_0_train=15.9]"
     ]
    },
    {
     "name": "stdout",
     "output_type": "stream",
     "text": [
      "\r",
      "Epoch 25/600:   4%|▍         | 25/600 [01:46<40:45,  4.25s/it, v_num=bl_1, total_loss_train=906, kl_local_train=142, tardis_age_0_train=16.9, tardis_integration_donor_0_train=15.9]"
     ]
    },
    {
     "name": "stdout",
     "output_type": "stream",
     "text": [
      "\r",
      "Epoch 25/600:   4%|▍         | 25/600 [01:46<40:45,  4.25s/it, v_num=bl_1, total_loss_train=906, kl_local_train=158, tardis_age_0_train=15.4, tardis_integration_donor_0_train=14.9]"
     ]
    },
    {
     "name": "stdout",
     "output_type": "stream",
     "text": [
      "\r",
      "Epoch 26/600:   4%|▍         | 25/600 [01:46<40:45,  4.25s/it, v_num=bl_1, total_loss_train=906, kl_local_train=158, tardis_age_0_train=15.4, tardis_integration_donor_0_train=14.9]"
     ]
    },
    {
     "name": "stdout",
     "output_type": "stream",
     "text": [
      "\r",
      "Epoch 26/600:   4%|▍         | 26/600 [01:51<40:48,  4.27s/it, v_num=bl_1, total_loss_train=906, kl_local_train=158, tardis_age_0_train=15.4, tardis_integration_donor_0_train=14.9]"
     ]
    },
    {
     "name": "stdout",
     "output_type": "stream",
     "text": [
      "\r",
      "Epoch 26/600:   4%|▍         | 26/600 [01:51<40:48,  4.27s/it, v_num=bl_1, total_loss_train=908, kl_local_train=168, tardis_age_0_train=14.3, tardis_integration_donor_0_train=14.5]"
     ]
    },
    {
     "name": "stdout",
     "output_type": "stream",
     "text": [
      "\r",
      "Epoch 27/600:   4%|▍         | 26/600 [01:51<40:48,  4.27s/it, v_num=bl_1, total_loss_train=908, kl_local_train=168, tardis_age_0_train=14.3, tardis_integration_donor_0_train=14.5]"
     ]
    },
    {
     "name": "stdout",
     "output_type": "stream",
     "text": [
      "\r",
      "Epoch 27/600:   4%|▍         | 27/600 [01:55<40:46,  4.27s/it, v_num=bl_1, total_loss_train=908, kl_local_train=168, tardis_age_0_train=14.3, tardis_integration_donor_0_train=14.5]"
     ]
    },
    {
     "name": "stdout",
     "output_type": "stream",
     "text": [
      "\r",
      "Epoch 27/600:   4%|▍         | 27/600 [01:55<40:46,  4.27s/it, v_num=bl_1, total_loss_train=910, kl_local_train=183, tardis_age_0_train=13.8, tardis_integration_donor_0_train=13.6]"
     ]
    },
    {
     "name": "stdout",
     "output_type": "stream",
     "text": [
      "\r",
      "Epoch 28/600:   4%|▍         | 27/600 [01:55<40:46,  4.27s/it, v_num=bl_1, total_loss_train=910, kl_local_train=183, tardis_age_0_train=13.8, tardis_integration_donor_0_train=13.6]"
     ]
    },
    {
     "name": "stdout",
     "output_type": "stream",
     "text": [
      "\r",
      "Epoch 28/600:   5%|▍         | 28/600 [01:59<40:44,  4.27s/it, v_num=bl_1, total_loss_train=910, kl_local_train=183, tardis_age_0_train=13.8, tardis_integration_donor_0_train=13.6]"
     ]
    },
    {
     "name": "stdout",
     "output_type": "stream",
     "text": [
      "\r",
      "Epoch 28/600:   5%|▍         | 28/600 [01:59<40:44,  4.27s/it, v_num=bl_1, total_loss_train=912, kl_local_train=192, tardis_age_0_train=13, tardis_integration_donor_0_train=13.6]  "
     ]
    },
    {
     "name": "stdout",
     "output_type": "stream",
     "text": [
      "\r",
      "Epoch 29/600:   5%|▍         | 28/600 [01:59<40:44,  4.27s/it, v_num=bl_1, total_loss_train=912, kl_local_train=192, tardis_age_0_train=13, tardis_integration_donor_0_train=13.6]"
     ]
    },
    {
     "name": "stdout",
     "output_type": "stream",
     "text": [
      "\r",
      "Epoch 29/600:   5%|▍         | 29/600 [02:03<40:36,  4.27s/it, v_num=bl_1, total_loss_train=912, kl_local_train=192, tardis_age_0_train=13, tardis_integration_donor_0_train=13.6]"
     ]
    },
    {
     "name": "stdout",
     "output_type": "stream",
     "text": [
      "\r",
      "Epoch 29/600:   5%|▍         | 29/600 [02:03<40:36,  4.27s/it, v_num=bl_1, total_loss_train=913, kl_local_train=199, tardis_age_0_train=12, tardis_integration_donor_0_train=12.8]"
     ]
    },
    {
     "name": "stdout",
     "output_type": "stream",
     "text": [
      "\r",
      "Epoch 30/600:   5%|▍         | 29/600 [02:03<40:36,  4.27s/it, v_num=bl_1, total_loss_train=913, kl_local_train=199, tardis_age_0_train=12, tardis_integration_donor_0_train=12.8]"
     ]
    },
    {
     "name": "stdout",
     "output_type": "stream",
     "text": [
      "\r",
      "Epoch 30/600:   5%|▌         | 30/600 [02:08<40:30,  4.26s/it, v_num=bl_1, total_loss_train=913, kl_local_train=199, tardis_age_0_train=12, tardis_integration_donor_0_train=12.8]"
     ]
    },
    {
     "name": "stdout",
     "output_type": "stream",
     "text": [
      "\r",
      "Epoch 30/600:   5%|▌         | 30/600 [02:08<40:30,  4.26s/it, v_num=bl_1, total_loss_train=915, kl_local_train=203, tardis_age_0_train=11.6, tardis_integration_donor_0_train=12.7]"
     ]
    },
    {
     "name": "stdout",
     "output_type": "stream",
     "text": [
      "\r",
      "Epoch 31/600:   5%|▌         | 30/600 [02:08<40:30,  4.26s/it, v_num=bl_1, total_loss_train=915, kl_local_train=203, tardis_age_0_train=11.6, tardis_integration_donor_0_train=12.7]"
     ]
    },
    {
     "name": "stdout",
     "output_type": "stream",
     "text": [
      "\r",
      "Epoch 31/600:   5%|▌         | 31/600 [02:12<40:20,  4.25s/it, v_num=bl_1, total_loss_train=915, kl_local_train=203, tardis_age_0_train=11.6, tardis_integration_donor_0_train=12.7]"
     ]
    },
    {
     "name": "stdout",
     "output_type": "stream",
     "text": [
      "\r",
      "Epoch 31/600:   5%|▌         | 31/600 [02:12<40:20,  4.25s/it, v_num=bl_1, total_loss_train=917, kl_local_train=204, tardis_age_0_train=10.9, tardis_integration_donor_0_train=12.4]"
     ]
    },
    {
     "name": "stdout",
     "output_type": "stream",
     "text": [
      "\r",
      "Epoch 32/600:   5%|▌         | 31/600 [02:12<40:20,  4.25s/it, v_num=bl_1, total_loss_train=917, kl_local_train=204, tardis_age_0_train=10.9, tardis_integration_donor_0_train=12.4]"
     ]
    },
    {
     "name": "stdout",
     "output_type": "stream",
     "text": [
      "\r",
      "Epoch 32/600:   5%|▌         | 32/600 [02:16<40:12,  4.25s/it, v_num=bl_1, total_loss_train=917, kl_local_train=204, tardis_age_0_train=10.9, tardis_integration_donor_0_train=12.4]"
     ]
    },
    {
     "name": "stdout",
     "output_type": "stream",
     "text": [
      "\r",
      "Epoch 32/600:   5%|▌         | 32/600 [02:16<40:12,  4.25s/it, v_num=bl_1, total_loss_train=919, kl_local_train=206, tardis_age_0_train=10, tardis_integration_donor_0_train=11.7]  "
     ]
    },
    {
     "name": "stdout",
     "output_type": "stream",
     "text": [
      "\r",
      "Epoch 33/600:   5%|▌         | 32/600 [02:16<40:12,  4.25s/it, v_num=bl_1, total_loss_train=919, kl_local_train=206, tardis_age_0_train=10, tardis_integration_donor_0_train=11.7]"
     ]
    },
    {
     "name": "stdout",
     "output_type": "stream",
     "text": [
      "\r",
      "Epoch 33/600:   6%|▌         | 33/600 [02:20<40:11,  4.25s/it, v_num=bl_1, total_loss_train=919, kl_local_train=206, tardis_age_0_train=10, tardis_integration_donor_0_train=11.7]"
     ]
    },
    {
     "name": "stdout",
     "output_type": "stream",
     "text": [
      "\r",
      "Epoch 33/600:   6%|▌         | 33/600 [02:20<40:11,  4.25s/it, v_num=bl_1, total_loss_train=920, kl_local_train=213, tardis_age_0_train=9.67, tardis_integration_donor_0_train=11.5]"
     ]
    },
    {
     "name": "stdout",
     "output_type": "stream",
     "text": [
      "\r",
      "Epoch 34/600:   6%|▌         | 33/600 [02:20<40:11,  4.25s/it, v_num=bl_1, total_loss_train=920, kl_local_train=213, tardis_age_0_train=9.67, tardis_integration_donor_0_train=11.5]"
     ]
    },
    {
     "name": "stdout",
     "output_type": "stream",
     "text": [
      "\r",
      "Epoch 34/600:   6%|▌         | 34/600 [02:25<40:10,  4.26s/it, v_num=bl_1, total_loss_train=920, kl_local_train=213, tardis_age_0_train=9.67, tardis_integration_donor_0_train=11.5]"
     ]
    },
    {
     "name": "stdout",
     "output_type": "stream",
     "text": [
      "\r",
      "Epoch 34/600:   6%|▌         | 34/600 [02:25<40:10,  4.26s/it, v_num=bl_1, total_loss_train=922, kl_local_train=221, tardis_age_0_train=9.19, tardis_integration_donor_0_train=11.1]"
     ]
    },
    {
     "name": "stdout",
     "output_type": "stream",
     "text": [
      "\r",
      "Epoch 35/600:   6%|▌         | 34/600 [02:25<40:10,  4.26s/it, v_num=bl_1, total_loss_train=922, kl_local_train=221, tardis_age_0_train=9.19, tardis_integration_donor_0_train=11.1]"
     ]
    },
    {
     "name": "stdout",
     "output_type": "stream",
     "text": [
      "\r",
      "Epoch 35/600:   6%|▌         | 35/600 [02:29<40:18,  4.28s/it, v_num=bl_1, total_loss_train=922, kl_local_train=221, tardis_age_0_train=9.19, tardis_integration_donor_0_train=11.1]"
     ]
    },
    {
     "name": "stdout",
     "output_type": "stream",
     "text": [
      "\r",
      "Epoch 35/600:   6%|▌         | 35/600 [02:29<40:18,  4.28s/it, v_num=bl_1, total_loss_train=924, kl_local_train=218, tardis_age_0_train=9.07, tardis_integration_donor_0_train=11.1]"
     ]
    },
    {
     "name": "stdout",
     "output_type": "stream",
     "text": [
      "\r",
      "Epoch 36/600:   6%|▌         | 35/600 [02:29<40:18,  4.28s/it, v_num=bl_1, total_loss_train=924, kl_local_train=218, tardis_age_0_train=9.07, tardis_integration_donor_0_train=11.1]"
     ]
    },
    {
     "name": "stdout",
     "output_type": "stream",
     "text": [
      "\r",
      "Epoch 36/600:   6%|▌         | 36/600 [02:33<40:14,  4.28s/it, v_num=bl_1, total_loss_train=924, kl_local_train=218, tardis_age_0_train=9.07, tardis_integration_donor_0_train=11.1]"
     ]
    },
    {
     "name": "stdout",
     "output_type": "stream",
     "text": [
      "\r",
      "Epoch 36/600:   6%|▌         | 36/600 [02:33<40:14,  4.28s/it, v_num=bl_1, total_loss_train=926, kl_local_train=221, tardis_age_0_train=8.59, tardis_integration_donor_0_train=10.3]"
     ]
    },
    {
     "name": "stdout",
     "output_type": "stream",
     "text": [
      "\r",
      "Epoch 37/600:   6%|▌         | 36/600 [02:33<40:14,  4.28s/it, v_num=bl_1, total_loss_train=926, kl_local_train=221, tardis_age_0_train=8.59, tardis_integration_donor_0_train=10.3]"
     ]
    },
    {
     "name": "stdout",
     "output_type": "stream",
     "text": [
      "\r",
      "Epoch 37/600:   6%|▌         | 37/600 [02:37<40:08,  4.28s/it, v_num=bl_1, total_loss_train=926, kl_local_train=221, tardis_age_0_train=8.59, tardis_integration_donor_0_train=10.3]"
     ]
    },
    {
     "name": "stdout",
     "output_type": "stream",
     "text": [
      "\r",
      "Epoch 37/600:   6%|▌         | 37/600 [02:37<40:08,  4.28s/it, v_num=bl_1, total_loss_train=928, kl_local_train=228, tardis_age_0_train=8.64, tardis_integration_donor_0_train=10.5]"
     ]
    },
    {
     "name": "stdout",
     "output_type": "stream",
     "text": [
      "\r",
      "Epoch 38/600:   6%|▌         | 37/600 [02:38<40:08,  4.28s/it, v_num=bl_1, total_loss_train=928, kl_local_train=228, tardis_age_0_train=8.64, tardis_integration_donor_0_train=10.5]"
     ]
    },
    {
     "name": "stdout",
     "output_type": "stream",
     "text": [
      "\r",
      "Epoch 38/600:   6%|▋         | 38/600 [02:42<39:59,  4.27s/it, v_num=bl_1, total_loss_train=928, kl_local_train=228, tardis_age_0_train=8.64, tardis_integration_donor_0_train=10.5]"
     ]
    },
    {
     "name": "stdout",
     "output_type": "stream",
     "text": [
      "\r",
      "Epoch 38/600:   6%|▋         | 38/600 [02:42<39:59,  4.27s/it, v_num=bl_1, total_loss_train=931, kl_local_train=242, tardis_age_0_train=7.96, tardis_integration_donor_0_train=9.69]"
     ]
    },
    {
     "name": "stdout",
     "output_type": "stream",
     "text": [
      "\r",
      "Epoch 39/600:   6%|▋         | 38/600 [02:42<39:59,  4.27s/it, v_num=bl_1, total_loss_train=931, kl_local_train=242, tardis_age_0_train=7.96, tardis_integration_donor_0_train=9.69]"
     ]
    },
    {
     "name": "stdout",
     "output_type": "stream",
     "text": [
      "\r",
      "Epoch 39/600:   6%|▋         | 39/600 [02:46<39:54,  4.27s/it, v_num=bl_1, total_loss_train=931, kl_local_train=242, tardis_age_0_train=7.96, tardis_integration_donor_0_train=9.69]"
     ]
    },
    {
     "name": "stdout",
     "output_type": "stream",
     "text": [
      "\r",
      "Epoch 39/600:   6%|▋         | 39/600 [02:46<39:54,  4.27s/it, v_num=bl_1, total_loss_train=932, kl_local_train=231, tardis_age_0_train=7.95, tardis_integration_donor_0_train=9.86]"
     ]
    },
    {
     "name": "stdout",
     "output_type": "stream",
     "text": [
      "\r",
      "Epoch 40/600:   6%|▋         | 39/600 [02:46<39:54,  4.27s/it, v_num=bl_1, total_loss_train=932, kl_local_train=231, tardis_age_0_train=7.95, tardis_integration_donor_0_train=9.86]"
     ]
    },
    {
     "name": "stdout",
     "output_type": "stream",
     "text": [
      "\r",
      "Epoch 40/600:   7%|▋         | 40/600 [02:50<39:59,  4.28s/it, v_num=bl_1, total_loss_train=932, kl_local_train=231, tardis_age_0_train=7.95, tardis_integration_donor_0_train=9.86]"
     ]
    },
    {
     "name": "stdout",
     "output_type": "stream",
     "text": [
      "\r",
      "Epoch 40/600:   7%|▋         | 40/600 [02:50<39:59,  4.28s/it, v_num=bl_1, total_loss_train=934, kl_local_train=236, tardis_age_0_train=7.78, tardis_integration_donor_0_train=9.17]"
     ]
    },
    {
     "name": "stdout",
     "output_type": "stream",
     "text": [
      "\r",
      "Epoch 41/600:   7%|▋         | 40/600 [02:50<39:59,  4.28s/it, v_num=bl_1, total_loss_train=934, kl_local_train=236, tardis_age_0_train=7.78, tardis_integration_donor_0_train=9.17]"
     ]
    },
    {
     "name": "stdout",
     "output_type": "stream",
     "text": [
      "\r",
      "Epoch 41/600:   7%|▋         | 41/600 [02:55<39:49,  4.27s/it, v_num=bl_1, total_loss_train=934, kl_local_train=236, tardis_age_0_train=7.78, tardis_integration_donor_0_train=9.17]"
     ]
    },
    {
     "name": "stdout",
     "output_type": "stream",
     "text": [
      "\r",
      "Epoch 41/600:   7%|▋         | 41/600 [02:55<39:49,  4.27s/it, v_num=bl_1, total_loss_train=936, kl_local_train=228, tardis_age_0_train=7.57, tardis_integration_donor_0_train=9.26]"
     ]
    },
    {
     "name": "stdout",
     "output_type": "stream",
     "text": [
      "\r",
      "Epoch 42/600:   7%|▋         | 41/600 [02:55<39:49,  4.27s/it, v_num=bl_1, total_loss_train=936, kl_local_train=228, tardis_age_0_train=7.57, tardis_integration_donor_0_train=9.26]"
     ]
    },
    {
     "name": "stdout",
     "output_type": "stream",
     "text": [
      "\r",
      "Epoch 42/600:   7%|▋         | 42/600 [02:59<39:45,  4.28s/it, v_num=bl_1, total_loss_train=936, kl_local_train=228, tardis_age_0_train=7.57, tardis_integration_donor_0_train=9.26]"
     ]
    },
    {
     "name": "stdout",
     "output_type": "stream",
     "text": [
      "\r",
      "Epoch 42/600:   7%|▋         | 42/600 [02:59<39:45,  4.28s/it, v_num=bl_1, total_loss_train=939, kl_local_train=224, tardis_age_0_train=7.64, tardis_integration_donor_0_train=9.04]"
     ]
    },
    {
     "name": "stdout",
     "output_type": "stream",
     "text": [
      "\r",
      "Epoch 43/600:   7%|▋         | 42/600 [02:59<39:45,  4.28s/it, v_num=bl_1, total_loss_train=939, kl_local_train=224, tardis_age_0_train=7.64, tardis_integration_donor_0_train=9.04]"
     ]
    },
    {
     "name": "stdout",
     "output_type": "stream",
     "text": [
      "\r",
      "Epoch 43/600:   7%|▋         | 43/600 [03:03<39:33,  4.26s/it, v_num=bl_1, total_loss_train=939, kl_local_train=224, tardis_age_0_train=7.64, tardis_integration_donor_0_train=9.04]"
     ]
    },
    {
     "name": "stdout",
     "output_type": "stream",
     "text": [
      "\r",
      "Epoch 43/600:   7%|▋         | 43/600 [03:03<39:33,  4.26s/it, v_num=bl_1, total_loss_train=941, kl_local_train=216, tardis_age_0_train=7.86, tardis_integration_donor_0_train=8.94]"
     ]
    },
    {
     "name": "stdout",
     "output_type": "stream",
     "text": [
      "\r",
      "Epoch 44/600:   7%|▋         | 43/600 [03:03<39:33,  4.26s/it, v_num=bl_1, total_loss_train=941, kl_local_train=216, tardis_age_0_train=7.86, tardis_integration_donor_0_train=8.94]"
     ]
    },
    {
     "name": "stdout",
     "output_type": "stream",
     "text": [
      "\r",
      "Epoch 44/600:   7%|▋         | 44/600 [03:07<39:32,  4.27s/it, v_num=bl_1, total_loss_train=941, kl_local_train=216, tardis_age_0_train=7.86, tardis_integration_donor_0_train=8.94]"
     ]
    },
    {
     "name": "stdout",
     "output_type": "stream",
     "text": [
      "\r",
      "Epoch 44/600:   7%|▋         | 44/600 [03:07<39:32,  4.27s/it, v_num=bl_1, total_loss_train=943, kl_local_train=220, tardis_age_0_train=7.66, tardis_integration_donor_0_train=8.56]"
     ]
    },
    {
     "name": "stdout",
     "output_type": "stream",
     "text": [
      "\r",
      "Epoch 45/600:   7%|▋         | 44/600 [03:07<39:32,  4.27s/it, v_num=bl_1, total_loss_train=943, kl_local_train=220, tardis_age_0_train=7.66, tardis_integration_donor_0_train=8.56]"
     ]
    },
    {
     "name": "stdout",
     "output_type": "stream",
     "text": [
      "\r",
      "Epoch 45/600:   8%|▊         | 45/600 [03:12<39:24,  4.26s/it, v_num=bl_1, total_loss_train=943, kl_local_train=220, tardis_age_0_train=7.66, tardis_integration_donor_0_train=8.56]"
     ]
    },
    {
     "name": "stdout",
     "output_type": "stream",
     "text": [
      "\r",
      "Epoch 45/600:   8%|▊         | 45/600 [03:12<39:24,  4.26s/it, v_num=bl_1, total_loss_train=945, kl_local_train=228, tardis_age_0_train=7.24, tardis_integration_donor_0_train=8.44]"
     ]
    },
    {
     "name": "stdout",
     "output_type": "stream",
     "text": [
      "\r",
      "Epoch 46/600:   8%|▊         | 45/600 [03:12<39:24,  4.26s/it, v_num=bl_1, total_loss_train=945, kl_local_train=228, tardis_age_0_train=7.24, tardis_integration_donor_0_train=8.44]"
     ]
    },
    {
     "name": "stdout",
     "output_type": "stream",
     "text": [
      "\r",
      "Epoch 46/600:   8%|▊         | 46/600 [03:16<39:18,  4.26s/it, v_num=bl_1, total_loss_train=945, kl_local_train=228, tardis_age_0_train=7.24, tardis_integration_donor_0_train=8.44]"
     ]
    },
    {
     "name": "stdout",
     "output_type": "stream",
     "text": [
      "\r",
      "Epoch 46/600:   8%|▊         | 46/600 [03:16<39:18,  4.26s/it, v_num=bl_1, total_loss_train=947, kl_local_train=220, tardis_age_0_train=6.93, tardis_integration_donor_0_train=8.34]"
     ]
    },
    {
     "name": "stdout",
     "output_type": "stream",
     "text": [
      "\r",
      "Epoch 47/600:   8%|▊         | 46/600 [03:16<39:18,  4.26s/it, v_num=bl_1, total_loss_train=947, kl_local_train=220, tardis_age_0_train=6.93, tardis_integration_donor_0_train=8.34]"
     ]
    },
    {
     "name": "stdout",
     "output_type": "stream",
     "text": [
      "\r",
      "Epoch 47/600:   8%|▊         | 47/600 [03:20<39:13,  4.26s/it, v_num=bl_1, total_loss_train=947, kl_local_train=220, tardis_age_0_train=6.93, tardis_integration_donor_0_train=8.34]"
     ]
    },
    {
     "name": "stdout",
     "output_type": "stream",
     "text": [
      "\r",
      "Epoch 47/600:   8%|▊         | 47/600 [03:20<39:13,  4.26s/it, v_num=bl_1, total_loss_train=950, kl_local_train=221, tardis_age_0_train=6.92, tardis_integration_donor_0_train=8.1] "
     ]
    },
    {
     "name": "stdout",
     "output_type": "stream",
     "text": [
      "\r",
      "Epoch 48/600:   8%|▊         | 47/600 [03:20<39:13,  4.26s/it, v_num=bl_1, total_loss_train=950, kl_local_train=221, tardis_age_0_train=6.92, tardis_integration_donor_0_train=8.1]"
     ]
    },
    {
     "name": "stdout",
     "output_type": "stream",
     "text": [
      "\r",
      "Epoch 48/600:   8%|▊         | 48/600 [03:24<39:09,  4.26s/it, v_num=bl_1, total_loss_train=950, kl_local_train=221, tardis_age_0_train=6.92, tardis_integration_donor_0_train=8.1]"
     ]
    },
    {
     "name": "stdout",
     "output_type": "stream",
     "text": [
      "\r",
      "Epoch 48/600:   8%|▊         | 48/600 [03:24<39:09,  4.26s/it, v_num=bl_1, total_loss_train=952, kl_local_train=217, tardis_age_0_train=6.75, tardis_integration_donor_0_train=7.81]"
     ]
    },
    {
     "name": "stdout",
     "output_type": "stream",
     "text": [
      "\r",
      "Epoch 49/600:   8%|▊         | 48/600 [03:24<39:09,  4.26s/it, v_num=bl_1, total_loss_train=952, kl_local_train=217, tardis_age_0_train=6.75, tardis_integration_donor_0_train=7.81]"
     ]
    },
    {
     "name": "stdout",
     "output_type": "stream",
     "text": [
      "\r",
      "Epoch 49/600:   8%|▊         | 49/600 [03:29<39:09,  4.26s/it, v_num=bl_1, total_loss_train=952, kl_local_train=217, tardis_age_0_train=6.75, tardis_integration_donor_0_train=7.81]"
     ]
    },
    {
     "name": "stdout",
     "output_type": "stream",
     "text": [
      "\r",
      "Epoch 49/600:   8%|▊         | 49/600 [03:29<39:09,  4.26s/it, v_num=bl_1, total_loss_train=954, kl_local_train=204, tardis_age_0_train=6.6, tardis_integration_donor_0_train=7.62] "
     ]
    },
    {
     "name": "stdout",
     "output_type": "stream",
     "text": [
      "\r",
      "Epoch 50/600:   8%|▊         | 49/600 [03:29<39:09,  4.26s/it, v_num=bl_1, total_loss_train=954, kl_local_train=204, tardis_age_0_train=6.6, tardis_integration_donor_0_train=7.62]"
     ]
    },
    {
     "name": "stdout",
     "output_type": "stream",
     "text": [
      "\r",
      "Epoch 50/600:   8%|▊         | 50/600 [03:33<39:07,  4.27s/it, v_num=bl_1, total_loss_train=954, kl_local_train=204, tardis_age_0_train=6.6, tardis_integration_donor_0_train=7.62]"
     ]
    },
    {
     "name": "stdout",
     "output_type": "stream",
     "text": [
      "\r",
      "Epoch 50/600:   8%|▊         | 50/600 [03:33<39:07,  4.27s/it, v_num=bl_1, total_loss_train=955, kl_local_train=193, tardis_age_0_train=6.83, tardis_integration_donor_0_train=7.56]"
     ]
    },
    {
     "name": "stdout",
     "output_type": "stream",
     "text": [
      "\r",
      "Epoch 51/600:   8%|▊         | 50/600 [03:33<39:07,  4.27s/it, v_num=bl_1, total_loss_train=955, kl_local_train=193, tardis_age_0_train=6.83, tardis_integration_donor_0_train=7.56]"
     ]
    },
    {
     "name": "stdout",
     "output_type": "stream",
     "text": [
      "\r",
      "Epoch 51/600:   8%|▊         | 51/600 [03:37<39:02,  4.27s/it, v_num=bl_1, total_loss_train=955, kl_local_train=193, tardis_age_0_train=6.83, tardis_integration_donor_0_train=7.56]"
     ]
    },
    {
     "name": "stdout",
     "output_type": "stream",
     "text": [
      "\r",
      "Epoch 51/600:   8%|▊         | 51/600 [03:37<39:02,  4.27s/it, v_num=bl_1, total_loss_train=955, kl_local_train=194, tardis_age_0_train=6.74, tardis_integration_donor_0_train=7.78]"
     ]
    },
    {
     "name": "stdout",
     "output_type": "stream",
     "text": [
      "\r",
      "Epoch 52/600:   8%|▊         | 51/600 [03:37<39:02,  4.27s/it, v_num=bl_1, total_loss_train=955, kl_local_train=194, tardis_age_0_train=6.74, tardis_integration_donor_0_train=7.78]"
     ]
    },
    {
     "name": "stdout",
     "output_type": "stream",
     "text": [
      "\r",
      "Epoch 52/600:   9%|▊         | 52/600 [03:42<39:05,  4.28s/it, v_num=bl_1, total_loss_train=955, kl_local_train=194, tardis_age_0_train=6.74, tardis_integration_donor_0_train=7.78]"
     ]
    },
    {
     "name": "stdout",
     "output_type": "stream",
     "text": [
      "\r",
      "Epoch 52/600:   9%|▊         | 52/600 [03:42<39:05,  4.28s/it, v_num=bl_1, total_loss_train=954, kl_local_train=193, tardis_age_0_train=6.57, tardis_integration_donor_0_train=7.55]"
     ]
    },
    {
     "name": "stdout",
     "output_type": "stream",
     "text": [
      "\r",
      "Epoch 53/600:   9%|▊         | 52/600 [03:42<39:05,  4.28s/it, v_num=bl_1, total_loss_train=954, kl_local_train=193, tardis_age_0_train=6.57, tardis_integration_donor_0_train=7.55]"
     ]
    },
    {
     "name": "stdout",
     "output_type": "stream",
     "text": [
      "\r",
      "Epoch 53/600:   9%|▉         | 53/600 [03:46<38:58,  4.27s/it, v_num=bl_1, total_loss_train=954, kl_local_train=193, tardis_age_0_train=6.57, tardis_integration_donor_0_train=7.55]"
     ]
    },
    {
     "name": "stdout",
     "output_type": "stream",
     "text": [
      "\r",
      "Epoch 53/600:   9%|▉         | 53/600 [03:46<38:58,  4.27s/it, v_num=bl_1, total_loss_train=953, kl_local_train=194, tardis_age_0_train=6.3, tardis_integration_donor_0_train=7.41] "
     ]
    },
    {
     "name": "stdout",
     "output_type": "stream",
     "text": [
      "\r",
      "Epoch 54/600:   9%|▉         | 53/600 [03:46<38:58,  4.27s/it, v_num=bl_1, total_loss_train=953, kl_local_train=194, tardis_age_0_train=6.3, tardis_integration_donor_0_train=7.41]"
     ]
    },
    {
     "name": "stdout",
     "output_type": "stream",
     "text": [
      "\r",
      "Epoch 54/600:   9%|▉         | 54/600 [03:50<38:50,  4.27s/it, v_num=bl_1, total_loss_train=953, kl_local_train=194, tardis_age_0_train=6.3, tardis_integration_donor_0_train=7.41]"
     ]
    },
    {
     "name": "stdout",
     "output_type": "stream",
     "text": [
      "\r",
      "Epoch 54/600:   9%|▉         | 54/600 [03:50<38:50,  4.27s/it, v_num=bl_1, total_loss_train=953, kl_local_train=196, tardis_age_0_train=6.39, tardis_integration_donor_0_train=7.28]"
     ]
    },
    {
     "name": "stdout",
     "output_type": "stream",
     "text": [
      "\r",
      "Epoch 55/600:   9%|▉         | 54/600 [03:50<38:50,  4.27s/it, v_num=bl_1, total_loss_train=953, kl_local_train=196, tardis_age_0_train=6.39, tardis_integration_donor_0_train=7.28]"
     ]
    },
    {
     "name": "stdout",
     "output_type": "stream",
     "text": [
      "\r",
      "Epoch 55/600:   9%|▉         | 55/600 [03:54<38:49,  4.27s/it, v_num=bl_1, total_loss_train=953, kl_local_train=196, tardis_age_0_train=6.39, tardis_integration_donor_0_train=7.28]"
     ]
    },
    {
     "name": "stdout",
     "output_type": "stream",
     "text": [
      "\r",
      "Epoch 55/600:   9%|▉         | 55/600 [03:54<38:49,  4.27s/it, v_num=bl_1, total_loss_train=951, kl_local_train=192, tardis_age_0_train=6.54, tardis_integration_donor_0_train=7.18]"
     ]
    },
    {
     "name": "stdout",
     "output_type": "stream",
     "text": [
      "\r",
      "Epoch 56/600:   9%|▉         | 55/600 [03:54<38:49,  4.27s/it, v_num=bl_1, total_loss_train=951, kl_local_train=192, tardis_age_0_train=6.54, tardis_integration_donor_0_train=7.18]"
     ]
    },
    {
     "name": "stdout",
     "output_type": "stream",
     "text": [
      "\r",
      "Epoch 56/600:   9%|▉         | 56/600 [03:59<38:43,  4.27s/it, v_num=bl_1, total_loss_train=951, kl_local_train=192, tardis_age_0_train=6.54, tardis_integration_donor_0_train=7.18]"
     ]
    },
    {
     "name": "stdout",
     "output_type": "stream",
     "text": [
      "\r",
      "Epoch 56/600:   9%|▉         | 56/600 [03:59<38:43,  4.27s/it, v_num=bl_1, total_loss_train=950, kl_local_train=179, tardis_age_0_train=6.47, tardis_integration_donor_0_train=6.8] "
     ]
    },
    {
     "name": "stdout",
     "output_type": "stream",
     "text": [
      "\r",
      "Epoch 57/600:   9%|▉         | 56/600 [03:59<38:43,  4.27s/it, v_num=bl_1, total_loss_train=950, kl_local_train=179, tardis_age_0_train=6.47, tardis_integration_donor_0_train=6.8]"
     ]
    },
    {
     "name": "stdout",
     "output_type": "stream",
     "text": [
      "\r",
      "Epoch 57/600:  10%|▉         | 57/600 [04:03<38:36,  4.27s/it, v_num=bl_1, total_loss_train=950, kl_local_train=179, tardis_age_0_train=6.47, tardis_integration_donor_0_train=6.8]"
     ]
    },
    {
     "name": "stdout",
     "output_type": "stream",
     "text": [
      "\r",
      "Epoch 57/600:  10%|▉         | 57/600 [04:03<38:36,  4.27s/it, v_num=bl_1, total_loss_train=949, kl_local_train=176, tardis_age_0_train=6.52, tardis_integration_donor_0_train=7.1]"
     ]
    },
    {
     "name": "stdout",
     "output_type": "stream",
     "text": [
      "\r",
      "Epoch 58/600:  10%|▉         | 57/600 [04:03<38:36,  4.27s/it, v_num=bl_1, total_loss_train=949, kl_local_train=176, tardis_age_0_train=6.52, tardis_integration_donor_0_train=7.1]"
     ]
    },
    {
     "name": "stdout",
     "output_type": "stream",
     "text": [
      "\r",
      "Epoch 58/600:  10%|▉         | 58/600 [04:07<38:17,  4.24s/it, v_num=bl_1, total_loss_train=949, kl_local_train=176, tardis_age_0_train=6.52, tardis_integration_donor_0_train=7.1]"
     ]
    },
    {
     "name": "stdout",
     "output_type": "stream",
     "text": [
      "\r",
      "Epoch 58/600:  10%|▉         | 58/600 [04:07<38:17,  4.24s/it, v_num=bl_1, total_loss_train=949, kl_local_train=171, tardis_age_0_train=6.38, tardis_integration_donor_0_train=7.11]"
     ]
    },
    {
     "name": "stdout",
     "output_type": "stream",
     "text": [
      "\r",
      "Epoch 59/600:  10%|▉         | 58/600 [04:07<38:17,  4.24s/it, v_num=bl_1, total_loss_train=949, kl_local_train=171, tardis_age_0_train=6.38, tardis_integration_donor_0_train=7.11]"
     ]
    },
    {
     "name": "stdout",
     "output_type": "stream",
     "text": [
      "\r",
      "Epoch 59/600:  10%|▉         | 59/600 [04:11<38:01,  4.22s/it, v_num=bl_1, total_loss_train=949, kl_local_train=171, tardis_age_0_train=6.38, tardis_integration_donor_0_train=7.11]"
     ]
    },
    {
     "name": "stdout",
     "output_type": "stream",
     "text": [
      "\r",
      "Epoch 59/600:  10%|▉         | 59/600 [04:11<38:01,  4.22s/it, v_num=bl_1, total_loss_train=949, kl_local_train=171, tardis_age_0_train=6.54, tardis_integration_donor_0_train=7.06]"
     ]
    },
    {
     "name": "stdout",
     "output_type": "stream",
     "text": [
      "\r",
      "Epoch 60/600:  10%|▉         | 59/600 [04:11<38:01,  4.22s/it, v_num=bl_1, total_loss_train=949, kl_local_train=171, tardis_age_0_train=6.54, tardis_integration_donor_0_train=7.06]"
     ]
    },
    {
     "name": "stdout",
     "output_type": "stream",
     "text": [
      "\r",
      "Epoch 60/600:  10%|█         | 60/600 [04:15<37:50,  4.21s/it, v_num=bl_1, total_loss_train=949, kl_local_train=171, tardis_age_0_train=6.54, tardis_integration_donor_0_train=7.06]"
     ]
    },
    {
     "name": "stdout",
     "output_type": "stream",
     "text": [
      "\r",
      "Epoch 60/600:  10%|█         | 60/600 [04:15<37:50,  4.21s/it, v_num=bl_1, total_loss_train=947, kl_local_train=171, tardis_age_0_train=6.29, tardis_integration_donor_0_train=6.81]"
     ]
    },
    {
     "name": "stdout",
     "output_type": "stream",
     "text": [
      "\r",
      "Epoch 61/600:  10%|█         | 60/600 [04:15<37:50,  4.21s/it, v_num=bl_1, total_loss_train=947, kl_local_train=171, tardis_age_0_train=6.29, tardis_integration_donor_0_train=6.81]"
     ]
    },
    {
     "name": "stdout",
     "output_type": "stream",
     "text": [
      "\r",
      "Epoch 61/600:  10%|█         | 61/600 [04:19<37:38,  4.19s/it, v_num=bl_1, total_loss_train=947, kl_local_train=171, tardis_age_0_train=6.29, tardis_integration_donor_0_train=6.81]"
     ]
    },
    {
     "name": "stdout",
     "output_type": "stream",
     "text": [
      "\r",
      "Epoch 61/600:  10%|█         | 61/600 [04:19<37:38,  4.19s/it, v_num=bl_1, total_loss_train=947, kl_local_train=168, tardis_age_0_train=6.35, tardis_integration_donor_0_train=7]   "
     ]
    },
    {
     "name": "stdout",
     "output_type": "stream",
     "text": [
      "\r",
      "Epoch 62/600:  10%|█         | 61/600 [04:20<37:38,  4.19s/it, v_num=bl_1, total_loss_train=947, kl_local_train=168, tardis_age_0_train=6.35, tardis_integration_donor_0_train=7]"
     ]
    },
    {
     "name": "stdout",
     "output_type": "stream",
     "text": [
      "\r",
      "Epoch 62/600:  10%|█         | 62/600 [04:24<37:27,  4.18s/it, v_num=bl_1, total_loss_train=947, kl_local_train=168, tardis_age_0_train=6.35, tardis_integration_donor_0_train=7]"
     ]
    },
    {
     "name": "stdout",
     "output_type": "stream",
     "text": [
      "\r",
      "Epoch 62/600:  10%|█         | 62/600 [04:24<37:27,  4.18s/it, v_num=bl_1, total_loss_train=946, kl_local_train=165, tardis_age_0_train=6.47, tardis_integration_donor_0_train=6.87]"
     ]
    },
    {
     "name": "stdout",
     "output_type": "stream",
     "text": [
      "\r",
      "Epoch 63/600:  10%|█         | 62/600 [04:24<37:27,  4.18s/it, v_num=bl_1, total_loss_train=946, kl_local_train=165, tardis_age_0_train=6.47, tardis_integration_donor_0_train=6.87]"
     ]
    },
    {
     "name": "stdout",
     "output_type": "stream",
     "text": [
      "\r",
      "Epoch 63/600:  10%|█         | 63/600 [04:28<37:31,  4.19s/it, v_num=bl_1, total_loss_train=946, kl_local_train=165, tardis_age_0_train=6.47, tardis_integration_donor_0_train=6.87]"
     ]
    },
    {
     "name": "stdout",
     "output_type": "stream",
     "text": [
      "\r",
      "Epoch 63/600:  10%|█         | 63/600 [04:28<37:31,  4.19s/it, v_num=bl_1, total_loss_train=945, kl_local_train=163, tardis_age_0_train=6.21, tardis_integration_donor_0_train=6.83]"
     ]
    },
    {
     "name": "stdout",
     "output_type": "stream",
     "text": [
      "\r",
      "Epoch 64/600:  10%|█         | 63/600 [04:28<37:31,  4.19s/it, v_num=bl_1, total_loss_train=945, kl_local_train=163, tardis_age_0_train=6.21, tardis_integration_donor_0_train=6.83]"
     ]
    },
    {
     "name": "stdout",
     "output_type": "stream",
     "text": [
      "\r",
      "Epoch 64/600:  11%|█         | 64/600 [04:32<37:23,  4.19s/it, v_num=bl_1, total_loss_train=945, kl_local_train=163, tardis_age_0_train=6.21, tardis_integration_donor_0_train=6.83]"
     ]
    },
    {
     "name": "stdout",
     "output_type": "stream",
     "text": [
      "\r",
      "Epoch 64/600:  11%|█         | 64/600 [04:32<37:23,  4.19s/it, v_num=bl_1, total_loss_train=944, kl_local_train=163, tardis_age_0_train=6.31, tardis_integration_donor_0_train=6.99]"
     ]
    },
    {
     "name": "stdout",
     "output_type": "stream",
     "text": [
      "\r",
      "Epoch 65/600:  11%|█         | 64/600 [04:32<37:23,  4.19s/it, v_num=bl_1, total_loss_train=944, kl_local_train=163, tardis_age_0_train=6.31, tardis_integration_donor_0_train=6.99]"
     ]
    },
    {
     "name": "stdout",
     "output_type": "stream",
     "text": [
      "\r",
      "Epoch 65/600:  11%|█         | 65/600 [04:36<37:19,  4.19s/it, v_num=bl_1, total_loss_train=944, kl_local_train=163, tardis_age_0_train=6.31, tardis_integration_donor_0_train=6.99]"
     ]
    },
    {
     "name": "stdout",
     "output_type": "stream",
     "text": [
      "\r",
      "Epoch 65/600:  11%|█         | 65/600 [04:36<37:19,  4.19s/it, v_num=bl_1, total_loss_train=944, kl_local_train=158, tardis_age_0_train=6.34, tardis_integration_donor_0_train=6.9] "
     ]
    },
    {
     "name": "stdout",
     "output_type": "stream",
     "text": [
      "\r",
      "Epoch 66/600:  11%|█         | 65/600 [04:36<37:19,  4.19s/it, v_num=bl_1, total_loss_train=944, kl_local_train=158, tardis_age_0_train=6.34, tardis_integration_donor_0_train=6.9]"
     ]
    },
    {
     "name": "stdout",
     "output_type": "stream",
     "text": [
      "\r",
      "Epoch 66/600:  11%|█         | 66/600 [04:40<37:07,  4.17s/it, v_num=bl_1, total_loss_train=944, kl_local_train=158, tardis_age_0_train=6.34, tardis_integration_donor_0_train=6.9]"
     ]
    },
    {
     "name": "stdout",
     "output_type": "stream",
     "text": [
      "\r",
      "Epoch 66/600:  11%|█         | 66/600 [04:40<37:07,  4.17s/it, v_num=bl_1, total_loss_train=944, kl_local_train=153, tardis_age_0_train=6.46, tardis_integration_donor_0_train=6.69]"
     ]
    },
    {
     "name": "stdout",
     "output_type": "stream",
     "text": [
      "\r",
      "Epoch 67/600:  11%|█         | 66/600 [04:40<37:07,  4.17s/it, v_num=bl_1, total_loss_train=944, kl_local_train=153, tardis_age_0_train=6.46, tardis_integration_donor_0_train=6.69]"
     ]
    },
    {
     "name": "stdout",
     "output_type": "stream",
     "text": [
      "\r",
      "Epoch 67/600:  11%|█         | 67/600 [04:45<37:06,  4.18s/it, v_num=bl_1, total_loss_train=944, kl_local_train=153, tardis_age_0_train=6.46, tardis_integration_donor_0_train=6.69]"
     ]
    },
    {
     "name": "stdout",
     "output_type": "stream",
     "text": [
      "\r",
      "Epoch 67/600:  11%|█         | 67/600 [04:45<37:06,  4.18s/it, v_num=bl_1, total_loss_train=943, kl_local_train=155, tardis_age_0_train=6.26, tardis_integration_donor_0_train=6.68]"
     ]
    },
    {
     "name": "stdout",
     "output_type": "stream",
     "text": [
      "\r",
      "Epoch 68/600:  11%|█         | 67/600 [04:45<37:06,  4.18s/it, v_num=bl_1, total_loss_train=943, kl_local_train=155, tardis_age_0_train=6.26, tardis_integration_donor_0_train=6.68]"
     ]
    },
    {
     "name": "stdout",
     "output_type": "stream",
     "text": [
      "\r",
      "Epoch 68/600:  11%|█▏        | 68/600 [04:49<37:05,  4.18s/it, v_num=bl_1, total_loss_train=943, kl_local_train=155, tardis_age_0_train=6.26, tardis_integration_donor_0_train=6.68]"
     ]
    },
    {
     "name": "stdout",
     "output_type": "stream",
     "text": [
      "\r",
      "Epoch 68/600:  11%|█▏        | 68/600 [04:49<37:05,  4.18s/it, v_num=bl_1, total_loss_train=942, kl_local_train=153, tardis_age_0_train=6.21, tardis_integration_donor_0_train=6.57]"
     ]
    },
    {
     "name": "stdout",
     "output_type": "stream",
     "text": [
      "\r",
      "Epoch 69/600:  11%|█▏        | 68/600 [04:49<37:05,  4.18s/it, v_num=bl_1, total_loss_train=942, kl_local_train=153, tardis_age_0_train=6.21, tardis_integration_donor_0_train=6.57]"
     ]
    },
    {
     "name": "stdout",
     "output_type": "stream",
     "text": [
      "\r",
      "Epoch 69/600:  12%|█▏        | 69/600 [04:53<37:11,  4.20s/it, v_num=bl_1, total_loss_train=942, kl_local_train=153, tardis_age_0_train=6.21, tardis_integration_donor_0_train=6.57]"
     ]
    },
    {
     "name": "stdout",
     "output_type": "stream",
     "text": [
      "\r",
      "Epoch 69/600:  12%|█▏        | 69/600 [04:53<37:11,  4.20s/it, v_num=bl_1, total_loss_train=942, kl_local_train=149, tardis_age_0_train=6.47, tardis_integration_donor_0_train=6.79]"
     ]
    },
    {
     "name": "stdout",
     "output_type": "stream",
     "text": [
      "\r",
      "Epoch 70/600:  12%|█▏        | 69/600 [04:53<37:11,  4.20s/it, v_num=bl_1, total_loss_train=942, kl_local_train=149, tardis_age_0_train=6.47, tardis_integration_donor_0_train=6.79]"
     ]
    },
    {
     "name": "stdout",
     "output_type": "stream",
     "text": [
      "\r",
      "Epoch 70/600:  12%|█▏        | 70/600 [04:57<36:56,  4.18s/it, v_num=bl_1, total_loss_train=942, kl_local_train=149, tardis_age_0_train=6.47, tardis_integration_donor_0_train=6.79]"
     ]
    },
    {
     "name": "stdout",
     "output_type": "stream",
     "text": [
      "\r",
      "Epoch 70/600:  12%|█▏        | 70/600 [04:57<36:56,  4.18s/it, v_num=bl_1, total_loss_train=941, kl_local_train=145, tardis_age_0_train=6.52, tardis_integration_donor_0_train=7.01]"
     ]
    },
    {
     "name": "stdout",
     "output_type": "stream",
     "text": [
      "\r",
      "Epoch 71/600:  12%|█▏        | 70/600 [04:57<36:56,  4.18s/it, v_num=bl_1, total_loss_train=941, kl_local_train=145, tardis_age_0_train=6.52, tardis_integration_donor_0_train=7.01]"
     ]
    },
    {
     "name": "stdout",
     "output_type": "stream",
     "text": [
      "\r",
      "Epoch 71/600:  12%|█▏        | 71/600 [05:01<36:50,  4.18s/it, v_num=bl_1, total_loss_train=941, kl_local_train=145, tardis_age_0_train=6.52, tardis_integration_donor_0_train=7.01]"
     ]
    },
    {
     "name": "stdout",
     "output_type": "stream",
     "text": [
      "\r",
      "Epoch 71/600:  12%|█▏        | 71/600 [05:01<36:50,  4.18s/it, v_num=bl_1, total_loss_train=941, kl_local_train=146, tardis_age_0_train=6.33, tardis_integration_donor_0_train=6.95]"
     ]
    },
    {
     "name": "stdout",
     "output_type": "stream",
     "text": [
      "\r",
      "Epoch 72/600:  12%|█▏        | 71/600 [05:01<36:50,  4.18s/it, v_num=bl_1, total_loss_train=941, kl_local_train=146, tardis_age_0_train=6.33, tardis_integration_donor_0_train=6.95]"
     ]
    },
    {
     "name": "stdout",
     "output_type": "stream",
     "text": [
      "\r",
      "Epoch 72/600:  12%|█▏        | 72/600 [05:06<36:49,  4.18s/it, v_num=bl_1, total_loss_train=941, kl_local_train=146, tardis_age_0_train=6.33, tardis_integration_donor_0_train=6.95]"
     ]
    },
    {
     "name": "stdout",
     "output_type": "stream",
     "text": [
      "\r",
      "Epoch 72/600:  12%|█▏        | 72/600 [05:06<36:49,  4.18s/it, v_num=bl_1, total_loss_train=941, kl_local_train=147, tardis_age_0_train=6.29, tardis_integration_donor_0_train=6.7] "
     ]
    },
    {
     "name": "stdout",
     "output_type": "stream",
     "text": [
      "\r",
      "Epoch 73/600:  12%|█▏        | 72/600 [05:06<36:49,  4.18s/it, v_num=bl_1, total_loss_train=941, kl_local_train=147, tardis_age_0_train=6.29, tardis_integration_donor_0_train=6.7]"
     ]
    },
    {
     "name": "stdout",
     "output_type": "stream",
     "text": [
      "\r",
      "Epoch 73/600:  12%|█▏        | 73/600 [05:10<36:37,  4.17s/it, v_num=bl_1, total_loss_train=941, kl_local_train=147, tardis_age_0_train=6.29, tardis_integration_donor_0_train=6.7]"
     ]
    },
    {
     "name": "stdout",
     "output_type": "stream",
     "text": [
      "\r",
      "Epoch 73/600:  12%|█▏        | 73/600 [05:10<36:37,  4.17s/it, v_num=bl_1, total_loss_train=940, kl_local_train=146, tardis_age_0_train=6.28, tardis_integration_donor_0_train=6.71]"
     ]
    },
    {
     "name": "stdout",
     "output_type": "stream",
     "text": [
      "\r",
      "Epoch 74/600:  12%|█▏        | 73/600 [05:10<36:37,  4.17s/it, v_num=bl_1, total_loss_train=940, kl_local_train=146, tardis_age_0_train=6.28, tardis_integration_donor_0_train=6.71]"
     ]
    },
    {
     "name": "stdout",
     "output_type": "stream",
     "text": [
      "\r",
      "Epoch 74/600:  12%|█▏        | 74/600 [05:14<36:23,  4.15s/it, v_num=bl_1, total_loss_train=940, kl_local_train=146, tardis_age_0_train=6.28, tardis_integration_donor_0_train=6.71]"
     ]
    },
    {
     "name": "stdout",
     "output_type": "stream",
     "text": [
      "\r",
      "Epoch 74/600:  12%|█▏        | 74/600 [05:14<36:23,  4.15s/it, v_num=bl_1, total_loss_train=940, kl_local_train=144, tardis_age_0_train=6.36, tardis_integration_donor_0_train=6.76]"
     ]
    },
    {
     "name": "stdout",
     "output_type": "stream",
     "text": [
      "\r",
      "Epoch 75/600:  12%|█▏        | 74/600 [05:14<36:23,  4.15s/it, v_num=bl_1, total_loss_train=940, kl_local_train=144, tardis_age_0_train=6.36, tardis_integration_donor_0_train=6.76]"
     ]
    },
    {
     "name": "stdout",
     "output_type": "stream",
     "text": [
      "\r",
      "Epoch 75/600:  12%|█▎        | 75/600 [05:18<36:21,  4.15s/it, v_num=bl_1, total_loss_train=940, kl_local_train=144, tardis_age_0_train=6.36, tardis_integration_donor_0_train=6.76]"
     ]
    },
    {
     "name": "stdout",
     "output_type": "stream",
     "text": [
      "\r",
      "Epoch 75/600:  12%|█▎        | 75/600 [05:18<36:21,  4.15s/it, v_num=bl_1, total_loss_train=939, kl_local_train=142, tardis_age_0_train=6.33, tardis_integration_donor_0_train=6.84]"
     ]
    },
    {
     "name": "stdout",
     "output_type": "stream",
     "text": [
      "\r",
      "Epoch 76/600:  12%|█▎        | 75/600 [05:18<36:21,  4.15s/it, v_num=bl_1, total_loss_train=939, kl_local_train=142, tardis_age_0_train=6.33, tardis_integration_donor_0_train=6.84]"
     ]
    },
    {
     "name": "stdout",
     "output_type": "stream",
     "text": [
      "\r",
      "Epoch 76/600:  13%|█▎        | 76/600 [05:22<36:18,  4.16s/it, v_num=bl_1, total_loss_train=939, kl_local_train=142, tardis_age_0_train=6.33, tardis_integration_donor_0_train=6.84]"
     ]
    },
    {
     "name": "stdout",
     "output_type": "stream",
     "text": [
      "\r",
      "Epoch 76/600:  13%|█▎        | 76/600 [05:22<36:18,  4.16s/it, v_num=bl_1, total_loss_train=939, kl_local_train=143, tardis_age_0_train=6.24, tardis_integration_donor_0_train=6.82]"
     ]
    },
    {
     "name": "stdout",
     "output_type": "stream",
     "text": [
      "\r",
      "Epoch 77/600:  13%|█▎        | 76/600 [05:22<36:18,  4.16s/it, v_num=bl_1, total_loss_train=939, kl_local_train=143, tardis_age_0_train=6.24, tardis_integration_donor_0_train=6.82]"
     ]
    },
    {
     "name": "stdout",
     "output_type": "stream",
     "text": [
      "\r",
      "Epoch 77/600:  13%|█▎        | 77/600 [05:26<36:17,  4.16s/it, v_num=bl_1, total_loss_train=939, kl_local_train=143, tardis_age_0_train=6.24, tardis_integration_donor_0_train=6.82]"
     ]
    },
    {
     "name": "stdout",
     "output_type": "stream",
     "text": [
      "\r",
      "Epoch 77/600:  13%|█▎        | 77/600 [05:26<36:17,  4.16s/it, v_num=bl_1, total_loss_train=939, kl_local_train=142, tardis_age_0_train=6.22, tardis_integration_donor_0_train=7.04]"
     ]
    },
    {
     "name": "stdout",
     "output_type": "stream",
     "text": [
      "\r",
      "Epoch 78/600:  13%|█▎        | 77/600 [05:26<36:17,  4.16s/it, v_num=bl_1, total_loss_train=939, kl_local_train=142, tardis_age_0_train=6.22, tardis_integration_donor_0_train=7.04]"
     ]
    },
    {
     "name": "stdout",
     "output_type": "stream",
     "text": [
      "\r",
      "Epoch 78/600:  13%|█▎        | 78/600 [05:30<36:13,  4.16s/it, v_num=bl_1, total_loss_train=939, kl_local_train=142, tardis_age_0_train=6.22, tardis_integration_donor_0_train=7.04]"
     ]
    },
    {
     "name": "stdout",
     "output_type": "stream",
     "text": [
      "\r",
      "Epoch 78/600:  13%|█▎        | 78/600 [05:30<36:13,  4.16s/it, v_num=bl_1, total_loss_train=938, kl_local_train=142, tardis_age_0_train=6.17, tardis_integration_donor_0_train=6.8] "
     ]
    },
    {
     "name": "stdout",
     "output_type": "stream",
     "text": [
      "\r",
      "Epoch 79/600:  13%|█▎        | 78/600 [05:30<36:13,  4.16s/it, v_num=bl_1, total_loss_train=938, kl_local_train=142, tardis_age_0_train=6.17, tardis_integration_donor_0_train=6.8]"
     ]
    },
    {
     "name": "stdout",
     "output_type": "stream",
     "text": [
      "\r",
      "Epoch 79/600:  13%|█▎        | 79/600 [05:35<36:04,  4.16s/it, v_num=bl_1, total_loss_train=938, kl_local_train=142, tardis_age_0_train=6.17, tardis_integration_donor_0_train=6.8]"
     ]
    },
    {
     "name": "stdout",
     "output_type": "stream",
     "text": [
      "\r",
      "Epoch 79/600:  13%|█▎        | 79/600 [05:35<36:04,  4.16s/it, v_num=bl_1, total_loss_train=938, kl_local_train=141, tardis_age_0_train=6.22, tardis_integration_donor_0_train=6.85]"
     ]
    },
    {
     "name": "stdout",
     "output_type": "stream",
     "text": [
      "\r",
      "Epoch 80/600:  13%|█▎        | 79/600 [05:35<36:04,  4.16s/it, v_num=bl_1, total_loss_train=938, kl_local_train=141, tardis_age_0_train=6.22, tardis_integration_donor_0_train=6.85]"
     ]
    },
    {
     "name": "stdout",
     "output_type": "stream",
     "text": [
      "\r",
      "Epoch 80/600:  13%|█▎        | 80/600 [05:39<35:56,  4.15s/it, v_num=bl_1, total_loss_train=938, kl_local_train=141, tardis_age_0_train=6.22, tardis_integration_donor_0_train=6.85]"
     ]
    },
    {
     "name": "stdout",
     "output_type": "stream",
     "text": [
      "\r",
      "Epoch 80/600:  13%|█▎        | 80/600 [05:39<35:56,  4.15s/it, v_num=bl_1, total_loss_train=937, kl_local_train=140, tardis_age_0_train=6.23, tardis_integration_donor_0_train=6.83]"
     ]
    },
    {
     "name": "stdout",
     "output_type": "stream",
     "text": [
      "\r",
      "Epoch 81/600:  13%|█▎        | 80/600 [05:39<35:56,  4.15s/it, v_num=bl_1, total_loss_train=937, kl_local_train=140, tardis_age_0_train=6.23, tardis_integration_donor_0_train=6.83]"
     ]
    },
    {
     "name": "stdout",
     "output_type": "stream",
     "text": [
      "\r",
      "Epoch 81/600:  14%|█▎        | 81/600 [05:43<35:53,  4.15s/it, v_num=bl_1, total_loss_train=937, kl_local_train=140, tardis_age_0_train=6.23, tardis_integration_donor_0_train=6.83]"
     ]
    },
    {
     "name": "stdout",
     "output_type": "stream",
     "text": [
      "\r",
      "Epoch 81/600:  14%|█▎        | 81/600 [05:43<35:53,  4.15s/it, v_num=bl_1, total_loss_train=937, kl_local_train=138, tardis_age_0_train=6.28, tardis_integration_donor_0_train=6.84]"
     ]
    },
    {
     "name": "stdout",
     "output_type": "stream",
     "text": [
      "\r",
      "Epoch 82/600:  14%|█▎        | 81/600 [05:43<35:53,  4.15s/it, v_num=bl_1, total_loss_train=937, kl_local_train=138, tardis_age_0_train=6.28, tardis_integration_donor_0_train=6.84]"
     ]
    },
    {
     "name": "stdout",
     "output_type": "stream",
     "text": [
      "\r",
      "Epoch 82/600:  14%|█▎        | 82/600 [05:47<35:48,  4.15s/it, v_num=bl_1, total_loss_train=937, kl_local_train=138, tardis_age_0_train=6.28, tardis_integration_donor_0_train=6.84]"
     ]
    },
    {
     "name": "stdout",
     "output_type": "stream",
     "text": [
      "\r",
      "Epoch 82/600:  14%|█▎        | 82/600 [05:47<35:48,  4.15s/it, v_num=bl_1, total_loss_train=937, kl_local_train=138, tardis_age_0_train=6.12, tardis_integration_donor_0_train=7.14]"
     ]
    },
    {
     "name": "stdout",
     "output_type": "stream",
     "text": [
      "\r",
      "Epoch 83/600:  14%|█▎        | 82/600 [05:47<35:48,  4.15s/it, v_num=bl_1, total_loss_train=937, kl_local_train=138, tardis_age_0_train=6.12, tardis_integration_donor_0_train=7.14]"
     ]
    },
    {
     "name": "stdout",
     "output_type": "stream",
     "text": [
      "\r",
      "Epoch 83/600:  14%|█▍        | 83/600 [05:51<35:41,  4.14s/it, v_num=bl_1, total_loss_train=937, kl_local_train=138, tardis_age_0_train=6.12, tardis_integration_donor_0_train=7.14]"
     ]
    },
    {
     "name": "stdout",
     "output_type": "stream",
     "text": [
      "\r",
      "Epoch 83/600:  14%|█▍        | 83/600 [05:51<35:41,  4.14s/it, v_num=bl_1, total_loss_train=936, kl_local_train=136, tardis_age_0_train=6.15, tardis_integration_donor_0_train=7.13]"
     ]
    },
    {
     "name": "stdout",
     "output_type": "stream",
     "text": [
      "\r",
      "Epoch 84/600:  14%|█▍        | 83/600 [05:51<35:41,  4.14s/it, v_num=bl_1, total_loss_train=936, kl_local_train=136, tardis_age_0_train=6.15, tardis_integration_donor_0_train=7.13]"
     ]
    },
    {
     "name": "stdout",
     "output_type": "stream",
     "text": [
      "\r",
      "Epoch 84/600:  14%|█▍        | 84/600 [05:55<35:36,  4.14s/it, v_num=bl_1, total_loss_train=936, kl_local_train=136, tardis_age_0_train=6.15, tardis_integration_donor_0_train=7.13]"
     ]
    },
    {
     "name": "stdout",
     "output_type": "stream",
     "text": [
      "\r",
      "Epoch 84/600:  14%|█▍        | 84/600 [05:55<35:36,  4.14s/it, v_num=bl_1, total_loss_train=936, kl_local_train=137, tardis_age_0_train=6.19, tardis_integration_donor_0_train=7.05]"
     ]
    },
    {
     "name": "stdout",
     "output_type": "stream",
     "text": [
      "\r",
      "Epoch 85/600:  14%|█▍        | 84/600 [05:55<35:36,  4.14s/it, v_num=bl_1, total_loss_train=936, kl_local_train=137, tardis_age_0_train=6.19, tardis_integration_donor_0_train=7.05]"
     ]
    },
    {
     "name": "stdout",
     "output_type": "stream",
     "text": [
      "\r",
      "Epoch 85/600:  14%|█▍        | 85/600 [05:59<35:28,  4.13s/it, v_num=bl_1, total_loss_train=936, kl_local_train=137, tardis_age_0_train=6.19, tardis_integration_donor_0_train=7.05]"
     ]
    },
    {
     "name": "stdout",
     "output_type": "stream",
     "text": [
      "\r",
      "Epoch 85/600:  14%|█▍        | 85/600 [05:59<35:28,  4.13s/it, v_num=bl_1, total_loss_train=936, kl_local_train=136, tardis_age_0_train=5.98, tardis_integration_donor_0_train=6.98]"
     ]
    },
    {
     "name": "stdout",
     "output_type": "stream",
     "text": [
      "\r",
      "Epoch 86/600:  14%|█▍        | 85/600 [05:59<35:28,  4.13s/it, v_num=bl_1, total_loss_train=936, kl_local_train=136, tardis_age_0_train=5.98, tardis_integration_donor_0_train=6.98]"
     ]
    },
    {
     "name": "stdout",
     "output_type": "stream",
     "text": [
      "\r",
      "Epoch 86/600:  14%|█▍        | 86/600 [06:04<35:32,  4.15s/it, v_num=bl_1, total_loss_train=936, kl_local_train=136, tardis_age_0_train=5.98, tardis_integration_donor_0_train=6.98]"
     ]
    },
    {
     "name": "stdout",
     "output_type": "stream",
     "text": [
      "\r",
      "Epoch 86/600:  14%|█▍        | 86/600 [06:04<35:32,  4.15s/it, v_num=bl_1, total_loss_train=935, kl_local_train=134, tardis_age_0_train=6.07, tardis_integration_donor_0_train=7]   "
     ]
    },
    {
     "name": "stdout",
     "output_type": "stream",
     "text": [
      "\r",
      "Epoch 87/600:  14%|█▍        | 86/600 [06:04<35:32,  4.15s/it, v_num=bl_1, total_loss_train=935, kl_local_train=134, tardis_age_0_train=6.07, tardis_integration_donor_0_train=7]"
     ]
    },
    {
     "name": "stdout",
     "output_type": "stream",
     "text": [
      "\r",
      "Epoch 87/600:  14%|█▍        | 87/600 [06:08<35:25,  4.14s/it, v_num=bl_1, total_loss_train=935, kl_local_train=134, tardis_age_0_train=6.07, tardis_integration_donor_0_train=7]"
     ]
    },
    {
     "name": "stdout",
     "output_type": "stream",
     "text": [
      "\r",
      "Epoch 87/600:  14%|█▍        | 87/600 [06:08<35:25,  4.14s/it, v_num=bl_1, total_loss_train=935, kl_local_train=134, tardis_age_0_train=6.11, tardis_integration_donor_0_train=6.99]"
     ]
    },
    {
     "name": "stdout",
     "output_type": "stream",
     "text": [
      "\r",
      "Epoch 88/600:  14%|█▍        | 87/600 [06:08<35:25,  4.14s/it, v_num=bl_1, total_loss_train=935, kl_local_train=134, tardis_age_0_train=6.11, tardis_integration_donor_0_train=6.99]"
     ]
    },
    {
     "name": "stdout",
     "output_type": "stream",
     "text": [
      "\r",
      "Epoch 88/600:  15%|█▍        | 88/600 [06:12<35:17,  4.14s/it, v_num=bl_1, total_loss_train=935, kl_local_train=134, tardis_age_0_train=6.11, tardis_integration_donor_0_train=6.99]"
     ]
    },
    {
     "name": "stdout",
     "output_type": "stream",
     "text": [
      "\r",
      "Epoch 88/600:  15%|█▍        | 88/600 [06:12<35:17,  4.14s/it, v_num=bl_1, total_loss_train=935, kl_local_train=134, tardis_age_0_train=6.12, tardis_integration_donor_0_train=7.02]"
     ]
    },
    {
     "name": "stdout",
     "output_type": "stream",
     "text": [
      "\r",
      "Epoch 89/600:  15%|█▍        | 88/600 [06:12<35:17,  4.14s/it, v_num=bl_1, total_loss_train=935, kl_local_train=134, tardis_age_0_train=6.12, tardis_integration_donor_0_train=7.02]"
     ]
    },
    {
     "name": "stdout",
     "output_type": "stream",
     "text": [
      "\r",
      "Epoch 89/600:  15%|█▍        | 89/600 [06:16<35:13,  4.14s/it, v_num=bl_1, total_loss_train=935, kl_local_train=134, tardis_age_0_train=6.12, tardis_integration_donor_0_train=7.02]"
     ]
    },
    {
     "name": "stdout",
     "output_type": "stream",
     "text": [
      "\r",
      "Epoch 89/600:  15%|█▍        | 89/600 [06:16<35:13,  4.14s/it, v_num=bl_1, total_loss_train=934, kl_local_train=133, tardis_age_0_train=6.19, tardis_integration_donor_0_train=6.97]"
     ]
    },
    {
     "name": "stdout",
     "output_type": "stream",
     "text": [
      "\r",
      "Epoch 90/600:  15%|█▍        | 89/600 [06:16<35:13,  4.14s/it, v_num=bl_1, total_loss_train=934, kl_local_train=133, tardis_age_0_train=6.19, tardis_integration_donor_0_train=6.97]"
     ]
    },
    {
     "name": "stdout",
     "output_type": "stream",
     "text": [
      "\r",
      "Epoch 90/600:  15%|█▌        | 90/600 [06:20<35:16,  4.15s/it, v_num=bl_1, total_loss_train=934, kl_local_train=133, tardis_age_0_train=6.19, tardis_integration_donor_0_train=6.97]"
     ]
    },
    {
     "name": "stdout",
     "output_type": "stream",
     "text": [
      "\r",
      "Epoch 90/600:  15%|█▌        | 90/600 [06:20<35:16,  4.15s/it, v_num=bl_1, total_loss_train=934, kl_local_train=132, tardis_age_0_train=6.06, tardis_integration_donor_0_train=6.87]"
     ]
    },
    {
     "name": "stdout",
     "output_type": "stream",
     "text": [
      "\r",
      "Epoch 91/600:  15%|█▌        | 90/600 [06:20<35:16,  4.15s/it, v_num=bl_1, total_loss_train=934, kl_local_train=132, tardis_age_0_train=6.06, tardis_integration_donor_0_train=6.87]"
     ]
    },
    {
     "name": "stdout",
     "output_type": "stream",
     "text": [
      "\r",
      "Epoch 91/600:  15%|█▌        | 91/600 [06:24<35:22,  4.17s/it, v_num=bl_1, total_loss_train=934, kl_local_train=132, tardis_age_0_train=6.06, tardis_integration_donor_0_train=6.87]"
     ]
    },
    {
     "name": "stdout",
     "output_type": "stream",
     "text": [
      "\r",
      "Epoch 91/600:  15%|█▌        | 91/600 [06:24<35:22,  4.17s/it, v_num=bl_1, total_loss_train=934, kl_local_train=128, tardis_age_0_train=6.06, tardis_integration_donor_0_train=6.97]"
     ]
    },
    {
     "name": "stdout",
     "output_type": "stream",
     "text": [
      "\r",
      "Epoch 92/600:  15%|█▌        | 91/600 [06:24<35:22,  4.17s/it, v_num=bl_1, total_loss_train=934, kl_local_train=128, tardis_age_0_train=6.06, tardis_integration_donor_0_train=6.97]"
     ]
    },
    {
     "name": "stdout",
     "output_type": "stream",
     "text": [
      "\r",
      "Epoch 92/600:  15%|█▌        | 92/600 [06:29<35:25,  4.18s/it, v_num=bl_1, total_loss_train=934, kl_local_train=128, tardis_age_0_train=6.06, tardis_integration_donor_0_train=6.97]"
     ]
    },
    {
     "name": "stdout",
     "output_type": "stream",
     "text": [
      "\r",
      "Epoch 92/600:  15%|█▌        | 92/600 [06:29<35:25,  4.18s/it, v_num=bl_1, total_loss_train=933, kl_local_train=127, tardis_age_0_train=6.07, tardis_integration_donor_0_train=7.13]"
     ]
    },
    {
     "name": "stdout",
     "output_type": "stream",
     "text": [
      "\r",
      "Epoch 93/600:  15%|█▌        | 92/600 [06:29<35:25,  4.18s/it, v_num=bl_1, total_loss_train=933, kl_local_train=127, tardis_age_0_train=6.07, tardis_integration_donor_0_train=7.13]"
     ]
    },
    {
     "name": "stdout",
     "output_type": "stream",
     "text": [
      "\r",
      "Epoch 93/600:  16%|█▌        | 93/600 [06:33<35:08,  4.16s/it, v_num=bl_1, total_loss_train=933, kl_local_train=127, tardis_age_0_train=6.07, tardis_integration_donor_0_train=7.13]"
     ]
    },
    {
     "name": "stdout",
     "output_type": "stream",
     "text": [
      "\r",
      "Epoch 93/600:  16%|█▌        | 93/600 [06:33<35:08,  4.16s/it, v_num=bl_1, total_loss_train=933, kl_local_train=126, tardis_age_0_train=6.2, tardis_integration_donor_0_train=7.21] "
     ]
    },
    {
     "name": "stdout",
     "output_type": "stream",
     "text": [
      "\r",
      "Epoch 94/600:  16%|█▌        | 93/600 [06:33<35:08,  4.16s/it, v_num=bl_1, total_loss_train=933, kl_local_train=126, tardis_age_0_train=6.2, tardis_integration_donor_0_train=7.21]"
     ]
    },
    {
     "name": "stdout",
     "output_type": "stream",
     "text": [
      "\r",
      "Epoch 94/600:  16%|█▌        | 94/600 [06:37<34:59,  4.15s/it, v_num=bl_1, total_loss_train=933, kl_local_train=126, tardis_age_0_train=6.2, tardis_integration_donor_0_train=7.21]"
     ]
    },
    {
     "name": "stdout",
     "output_type": "stream",
     "text": [
      "\r",
      "Epoch 94/600:  16%|█▌        | 94/600 [06:37<34:59,  4.15s/it, v_num=bl_1, total_loss_train=932, kl_local_train=128, tardis_age_0_train=6.11, tardis_integration_donor_0_train=7.09]"
     ]
    },
    {
     "name": "stdout",
     "output_type": "stream",
     "text": [
      "\r",
      "Epoch 95/600:  16%|█▌        | 94/600 [06:37<34:59,  4.15s/it, v_num=bl_1, total_loss_train=932, kl_local_train=128, tardis_age_0_train=6.11, tardis_integration_donor_0_train=7.09]"
     ]
    },
    {
     "name": "stdout",
     "output_type": "stream",
     "text": [
      "\r",
      "Epoch 95/600:  16%|█▌        | 95/600 [06:41<34:51,  4.14s/it, v_num=bl_1, total_loss_train=932, kl_local_train=128, tardis_age_0_train=6.11, tardis_integration_donor_0_train=7.09]"
     ]
    },
    {
     "name": "stdout",
     "output_type": "stream",
     "text": [
      "\r",
      "Epoch 95/600:  16%|█▌        | 95/600 [06:41<34:51,  4.14s/it, v_num=bl_1, total_loss_train=933, kl_local_train=130, tardis_age_0_train=6.19, tardis_integration_donor_0_train=7.18]"
     ]
    },
    {
     "name": "stdout",
     "output_type": "stream",
     "text": [
      "\r",
      "Epoch 96/600:  16%|█▌        | 95/600 [06:41<34:51,  4.14s/it, v_num=bl_1, total_loss_train=933, kl_local_train=130, tardis_age_0_train=6.19, tardis_integration_donor_0_train=7.18]"
     ]
    },
    {
     "name": "stdout",
     "output_type": "stream",
     "text": [
      "\r",
      "Epoch 96/600:  16%|█▌        | 96/600 [06:45<34:44,  4.14s/it, v_num=bl_1, total_loss_train=933, kl_local_train=130, tardis_age_0_train=6.19, tardis_integration_donor_0_train=7.18]"
     ]
    },
    {
     "name": "stdout",
     "output_type": "stream",
     "text": [
      "\r",
      "Epoch 96/600:  16%|█▌        | 96/600 [06:45<34:44,  4.14s/it, v_num=bl_1, total_loss_train=932, kl_local_train=129, tardis_age_0_train=6.04, tardis_integration_donor_0_train=7.14]"
     ]
    },
    {
     "name": "stdout",
     "output_type": "stream",
     "text": [
      "\r",
      "Epoch 97/600:  16%|█▌        | 96/600 [06:45<34:44,  4.14s/it, v_num=bl_1, total_loss_train=932, kl_local_train=129, tardis_age_0_train=6.04, tardis_integration_donor_0_train=7.14]"
     ]
    },
    {
     "name": "stdout",
     "output_type": "stream",
     "text": [
      "\r",
      "Epoch 97/600:  16%|█▌        | 97/600 [06:49<34:42,  4.14s/it, v_num=bl_1, total_loss_train=932, kl_local_train=129, tardis_age_0_train=6.04, tardis_integration_donor_0_train=7.14]"
     ]
    },
    {
     "name": "stdout",
     "output_type": "stream",
     "text": [
      "\r",
      "Epoch 97/600:  16%|█▌        | 97/600 [06:49<34:42,  4.14s/it, v_num=bl_1, total_loss_train=932, kl_local_train=127, tardis_age_0_train=6.22, tardis_integration_donor_0_train=7.07]"
     ]
    },
    {
     "name": "stdout",
     "output_type": "stream",
     "text": [
      "\r",
      "Epoch 98/600:  16%|█▌        | 97/600 [06:49<34:42,  4.14s/it, v_num=bl_1, total_loss_train=932, kl_local_train=127, tardis_age_0_train=6.22, tardis_integration_donor_0_train=7.07]"
     ]
    },
    {
     "name": "stdout",
     "output_type": "stream",
     "text": [
      "\r",
      "Epoch 98/600:  16%|█▋        | 98/600 [06:53<34:40,  4.14s/it, v_num=bl_1, total_loss_train=932, kl_local_train=127, tardis_age_0_train=6.22, tardis_integration_donor_0_train=7.07]"
     ]
    },
    {
     "name": "stdout",
     "output_type": "stream",
     "text": [
      "\r",
      "Epoch 98/600:  16%|█▋        | 98/600 [06:53<34:40,  4.14s/it, v_num=bl_1, total_loss_train=932, kl_local_train=129, tardis_age_0_train=6.14, tardis_integration_donor_0_train=7.25]"
     ]
    },
    {
     "name": "stdout",
     "output_type": "stream",
     "text": [
      "\r",
      "Epoch 99/600:  16%|█▋        | 98/600 [06:53<34:40,  4.14s/it, v_num=bl_1, total_loss_train=932, kl_local_train=129, tardis_age_0_train=6.14, tardis_integration_donor_0_train=7.25]"
     ]
    },
    {
     "name": "stdout",
     "output_type": "stream",
     "text": [
      "\r",
      "Epoch 99/600:  16%|█▋        | 99/600 [06:57<34:32,  4.14s/it, v_num=bl_1, total_loss_train=932, kl_local_train=129, tardis_age_0_train=6.14, tardis_integration_donor_0_train=7.25]"
     ]
    },
    {
     "name": "stdout",
     "output_type": "stream",
     "text": [
      "\r",
      "Epoch 99/600:  16%|█▋        | 99/600 [06:57<34:32,  4.14s/it, v_num=bl_1, total_loss_train=931, kl_local_train=127, tardis_age_0_train=5.99, tardis_integration_donor_0_train=7.25]"
     ]
    },
    {
     "name": "stdout",
     "output_type": "stream",
     "text": [
      "\r",
      "Epoch 100/600:  16%|█▋        | 99/600 [06:57<34:32,  4.14s/it, v_num=bl_1, total_loss_train=931, kl_local_train=127, tardis_age_0_train=5.99, tardis_integration_donor_0_train=7.25]"
     ]
    },
    {
     "name": "stdout",
     "output_type": "stream",
     "text": [
      "\r",
      "Epoch 100/600:  17%|█▋        | 100/600 [07:02<34:57,  4.20s/it, v_num=bl_1, total_loss_train=931, kl_local_train=127, tardis_age_0_train=5.99, tardis_integration_donor_0_train=7.25]"
     ]
    },
    {
     "name": "stdout",
     "output_type": "stream",
     "text": [
      "\r",
      "Epoch 100/600:  17%|█▋        | 100/600 [07:02<34:57,  4.20s/it, v_num=bl_1, total_loss_train=932, kl_local_train=126, tardis_age_0_train=6.14, tardis_integration_donor_0_train=7.24]"
     ]
    },
    {
     "name": "stdout",
     "output_type": "stream",
     "text": [
      "\r",
      "Epoch 101/600:  17%|█▋        | 100/600 [07:02<34:57,  4.20s/it, v_num=bl_1, total_loss_train=932, kl_local_train=126, tardis_age_0_train=6.14, tardis_integration_donor_0_train=7.24]"
     ]
    },
    {
     "name": "stdout",
     "output_type": "stream",
     "text": [
      "\r",
      "Epoch 101/600:  17%|█▋        | 101/600 [07:06<34:41,  4.17s/it, v_num=bl_1, total_loss_train=932, kl_local_train=126, tardis_age_0_train=6.14, tardis_integration_donor_0_train=7.24]"
     ]
    },
    {
     "name": "stdout",
     "output_type": "stream",
     "text": [
      "\r",
      "Epoch 101/600:  17%|█▋        | 101/600 [07:06<34:41,  4.17s/it, v_num=bl_1, total_loss_train=930, kl_local_train=122, tardis_age_0_train=6.16, tardis_integration_donor_0_train=7.29]"
     ]
    },
    {
     "name": "stdout",
     "output_type": "stream",
     "text": [
      "\r",
      "Epoch 102/600:  17%|█▋        | 101/600 [07:06<34:41,  4.17s/it, v_num=bl_1, total_loss_train=930, kl_local_train=122, tardis_age_0_train=6.16, tardis_integration_donor_0_train=7.29]"
     ]
    },
    {
     "name": "stdout",
     "output_type": "stream",
     "text": [
      "\r",
      "Epoch 102/600:  17%|█▋        | 102/600 [07:10<34:27,  4.15s/it, v_num=bl_1, total_loss_train=930, kl_local_train=122, tardis_age_0_train=6.16, tardis_integration_donor_0_train=7.29]"
     ]
    },
    {
     "name": "stdout",
     "output_type": "stream",
     "text": [
      "\r",
      "Epoch 102/600:  17%|█▋        | 102/600 [07:10<34:27,  4.15s/it, v_num=bl_1, total_loss_train=930, kl_local_train=122, tardis_age_0_train=6.24, tardis_integration_donor_0_train=7.31]"
     ]
    },
    {
     "name": "stdout",
     "output_type": "stream",
     "text": [
      "\r",
      "Epoch 103/600:  17%|█▋        | 102/600 [07:10<34:27,  4.15s/it, v_num=bl_1, total_loss_train=930, kl_local_train=122, tardis_age_0_train=6.24, tardis_integration_donor_0_train=7.31]"
     ]
    },
    {
     "name": "stdout",
     "output_type": "stream",
     "text": [
      "\r",
      "Epoch 103/600:  17%|█▋        | 103/600 [07:14<34:16,  4.14s/it, v_num=bl_1, total_loss_train=930, kl_local_train=122, tardis_age_0_train=6.24, tardis_integration_donor_0_train=7.31]"
     ]
    },
    {
     "name": "stdout",
     "output_type": "stream",
     "text": [
      "\r",
      "Epoch 103/600:  17%|█▋        | 103/600 [07:14<34:16,  4.14s/it, v_num=bl_1, total_loss_train=930, kl_local_train=121, tardis_age_0_train=6.24, tardis_integration_donor_0_train=7.22]"
     ]
    },
    {
     "name": "stdout",
     "output_type": "stream",
     "text": [
      "\r",
      "Epoch 104/600:  17%|█▋        | 103/600 [07:14<34:16,  4.14s/it, v_num=bl_1, total_loss_train=930, kl_local_train=121, tardis_age_0_train=6.24, tardis_integration_donor_0_train=7.22]"
     ]
    },
    {
     "name": "stdout",
     "output_type": "stream",
     "text": [
      "\r",
      "Epoch 104/600:  17%|█▋        | 104/600 [07:18<34:11,  4.14s/it, v_num=bl_1, total_loss_train=930, kl_local_train=121, tardis_age_0_train=6.24, tardis_integration_donor_0_train=7.22]"
     ]
    },
    {
     "name": "stdout",
     "output_type": "stream",
     "text": [
      "\r",
      "Epoch 104/600:  17%|█▋        | 104/600 [07:18<34:11,  4.14s/it, v_num=bl_1, total_loss_train=930, kl_local_train=120, tardis_age_0_train=6.14, tardis_integration_donor_0_train=7.37]"
     ]
    },
    {
     "name": "stdout",
     "output_type": "stream",
     "text": [
      "\r",
      "Epoch 105/600:  17%|█▋        | 104/600 [07:18<34:11,  4.14s/it, v_num=bl_1, total_loss_train=930, kl_local_train=120, tardis_age_0_train=6.14, tardis_integration_donor_0_train=7.37]"
     ]
    },
    {
     "name": "stdout",
     "output_type": "stream",
     "text": [
      "\r",
      "Epoch 105/600:  18%|█▊        | 105/600 [07:22<34:02,  4.13s/it, v_num=bl_1, total_loss_train=930, kl_local_train=120, tardis_age_0_train=6.14, tardis_integration_donor_0_train=7.37]"
     ]
    },
    {
     "name": "stdout",
     "output_type": "stream",
     "text": [
      "\r",
      "Epoch 105/600:  18%|█▊        | 105/600 [07:22<34:02,  4.13s/it, v_num=bl_1, total_loss_train=929, kl_local_train=122, tardis_age_0_train=6.19, tardis_integration_donor_0_train=7.18]"
     ]
    },
    {
     "name": "stdout",
     "output_type": "stream",
     "text": [
      "\r",
      "Epoch 106/600:  18%|█▊        | 105/600 [07:22<34:02,  4.13s/it, v_num=bl_1, total_loss_train=929, kl_local_train=122, tardis_age_0_train=6.19, tardis_integration_donor_0_train=7.18]"
     ]
    },
    {
     "name": "stdout",
     "output_type": "stream",
     "text": [
      "\r",
      "Epoch 106/600:  18%|█▊        | 106/600 [07:26<34:02,  4.13s/it, v_num=bl_1, total_loss_train=929, kl_local_train=122, tardis_age_0_train=6.19, tardis_integration_donor_0_train=7.18]"
     ]
    },
    {
     "name": "stdout",
     "output_type": "stream",
     "text": [
      "\r",
      "Epoch 106/600:  18%|█▊        | 106/600 [07:26<34:02,  4.13s/it, v_num=bl_1, total_loss_train=929, kl_local_train=121, tardis_age_0_train=6.36, tardis_integration_donor_0_train=7.4] "
     ]
    },
    {
     "name": "stdout",
     "output_type": "stream",
     "text": [
      "\r",
      "Epoch 107/600:  18%|█▊        | 106/600 [07:27<34:02,  4.13s/it, v_num=bl_1, total_loss_train=929, kl_local_train=121, tardis_age_0_train=6.36, tardis_integration_donor_0_train=7.4]"
     ]
    },
    {
     "name": "stdout",
     "output_type": "stream",
     "text": [
      "\r",
      "Epoch 107/600:  18%|█▊        | 107/600 [07:31<33:56,  4.13s/it, v_num=bl_1, total_loss_train=929, kl_local_train=121, tardis_age_0_train=6.36, tardis_integration_donor_0_train=7.4]"
     ]
    },
    {
     "name": "stdout",
     "output_type": "stream",
     "text": [
      "\r",
      "Epoch 107/600:  18%|█▊        | 107/600 [07:31<33:56,  4.13s/it, v_num=bl_1, total_loss_train=929, kl_local_train=121, tardis_age_0_train=6.3, tardis_integration_donor_0_train=7.32]"
     ]
    },
    {
     "name": "stdout",
     "output_type": "stream",
     "text": [
      "\r",
      "Epoch 108/600:  18%|█▊        | 107/600 [07:31<33:56,  4.13s/it, v_num=bl_1, total_loss_train=929, kl_local_train=121, tardis_age_0_train=6.3, tardis_integration_donor_0_train=7.32]"
     ]
    },
    {
     "name": "stdout",
     "output_type": "stream",
     "text": [
      "\r",
      "Epoch 108/600:  18%|█▊        | 108/600 [07:35<33:48,  4.12s/it, v_num=bl_1, total_loss_train=929, kl_local_train=121, tardis_age_0_train=6.3, tardis_integration_donor_0_train=7.32]"
     ]
    },
    {
     "name": "stdout",
     "output_type": "stream",
     "text": [
      "\r",
      "Epoch 108/600:  18%|█▊        | 108/600 [07:35<33:48,  4.12s/it, v_num=bl_1, total_loss_train=929, kl_local_train=120, tardis_age_0_train=6.22, tardis_integration_donor_0_train=7.38]"
     ]
    },
    {
     "name": "stdout",
     "output_type": "stream",
     "text": [
      "\r",
      "Epoch 109/600:  18%|█▊        | 108/600 [07:35<33:48,  4.12s/it, v_num=bl_1, total_loss_train=929, kl_local_train=120, tardis_age_0_train=6.22, tardis_integration_donor_0_train=7.38]"
     ]
    },
    {
     "name": "stdout",
     "output_type": "stream",
     "text": [
      "\r",
      "Epoch 109/600:  18%|█▊        | 109/600 [07:39<33:43,  4.12s/it, v_num=bl_1, total_loss_train=929, kl_local_train=120, tardis_age_0_train=6.22, tardis_integration_donor_0_train=7.38]"
     ]
    },
    {
     "name": "stdout",
     "output_type": "stream",
     "text": [
      "\r",
      "Epoch 109/600:  18%|█▊        | 109/600 [07:39<33:43,  4.12s/it, v_num=bl_1, total_loss_train=928, kl_local_train=121, tardis_age_0_train=6.3, tardis_integration_donor_0_train=7.37] "
     ]
    },
    {
     "name": "stdout",
     "output_type": "stream",
     "text": [
      "\r",
      "Epoch 110/600:  18%|█▊        | 109/600 [07:39<33:43,  4.12s/it, v_num=bl_1, total_loss_train=928, kl_local_train=121, tardis_age_0_train=6.3, tardis_integration_donor_0_train=7.37]"
     ]
    },
    {
     "name": "stdout",
     "output_type": "stream",
     "text": [
      "\r",
      "Epoch 110/600:  18%|█▊        | 110/600 [07:43<33:34,  4.11s/it, v_num=bl_1, total_loss_train=928, kl_local_train=121, tardis_age_0_train=6.3, tardis_integration_donor_0_train=7.37]"
     ]
    },
    {
     "name": "stdout",
     "output_type": "stream",
     "text": [
      "\r",
      "Epoch 110/600:  18%|█▊        | 110/600 [07:43<33:34,  4.11s/it, v_num=bl_1, total_loss_train=929, kl_local_train=120, tardis_age_0_train=6.21, tardis_integration_donor_0_train=7.39]"
     ]
    },
    {
     "name": "stdout",
     "output_type": "stream",
     "text": [
      "\r",
      "Epoch 111/600:  18%|█▊        | 110/600 [07:43<33:34,  4.11s/it, v_num=bl_1, total_loss_train=929, kl_local_train=120, tardis_age_0_train=6.21, tardis_integration_donor_0_train=7.39]"
     ]
    },
    {
     "name": "stdout",
     "output_type": "stream",
     "text": [
      "\r",
      "Epoch 111/600:  18%|█▊        | 111/600 [07:47<33:32,  4.12s/it, v_num=bl_1, total_loss_train=929, kl_local_train=120, tardis_age_0_train=6.21, tardis_integration_donor_0_train=7.39]"
     ]
    },
    {
     "name": "stdout",
     "output_type": "stream",
     "text": [
      "\r",
      "Epoch 111/600:  18%|█▊        | 111/600 [07:47<33:32,  4.12s/it, v_num=bl_1, total_loss_train=928, kl_local_train=120, tardis_age_0_train=6.41, tardis_integration_donor_0_train=7.38]"
     ]
    },
    {
     "name": "stdout",
     "output_type": "stream",
     "text": [
      "\r",
      "Epoch 112/600:  18%|█▊        | 111/600 [07:47<33:32,  4.12s/it, v_num=bl_1, total_loss_train=928, kl_local_train=120, tardis_age_0_train=6.41, tardis_integration_donor_0_train=7.38]"
     ]
    },
    {
     "name": "stdout",
     "output_type": "stream",
     "text": [
      "\r",
      "Epoch 112/600:  19%|█▊        | 112/600 [07:51<33:31,  4.12s/it, v_num=bl_1, total_loss_train=928, kl_local_train=120, tardis_age_0_train=6.41, tardis_integration_donor_0_train=7.38]"
     ]
    },
    {
     "name": "stdout",
     "output_type": "stream",
     "text": [
      "\r",
      "Epoch 112/600:  19%|█▊        | 112/600 [07:51<33:31,  4.12s/it, v_num=bl_1, total_loss_train=928, kl_local_train=119, tardis_age_0_train=6.26, tardis_integration_donor_0_train=7.3] "
     ]
    },
    {
     "name": "stdout",
     "output_type": "stream",
     "text": [
      "\r",
      "Epoch 113/600:  19%|█▊        | 112/600 [07:51<33:31,  4.12s/it, v_num=bl_1, total_loss_train=928, kl_local_train=119, tardis_age_0_train=6.26, tardis_integration_donor_0_train=7.3]"
     ]
    },
    {
     "name": "stdout",
     "output_type": "stream",
     "text": [
      "\r",
      "Epoch 113/600:  19%|█▉        | 113/600 [07:55<33:25,  4.12s/it, v_num=bl_1, total_loss_train=928, kl_local_train=119, tardis_age_0_train=6.26, tardis_integration_donor_0_train=7.3]"
     ]
    },
    {
     "name": "stdout",
     "output_type": "stream",
     "text": [
      "\r",
      "Epoch 113/600:  19%|█▉        | 113/600 [07:55<33:25,  4.12s/it, v_num=bl_1, total_loss_train=928, kl_local_train=115, tardis_age_0_train=6.45, tardis_integration_donor_0_train=7.66]"
     ]
    },
    {
     "name": "stdout",
     "output_type": "stream",
     "text": [
      "\r",
      "Epoch 114/600:  19%|█▉        | 113/600 [07:55<33:25,  4.12s/it, v_num=bl_1, total_loss_train=928, kl_local_train=115, tardis_age_0_train=6.45, tardis_integration_donor_0_train=7.66]"
     ]
    },
    {
     "name": "stdout",
     "output_type": "stream",
     "text": [
      "\r",
      "Epoch 114/600:  19%|█▉        | 114/600 [07:59<33:26,  4.13s/it, v_num=bl_1, total_loss_train=928, kl_local_train=115, tardis_age_0_train=6.45, tardis_integration_donor_0_train=7.66]"
     ]
    },
    {
     "name": "stdout",
     "output_type": "stream",
     "text": [
      "\r",
      "Epoch 114/600:  19%|█▉        | 114/600 [07:59<33:26,  4.13s/it, v_num=bl_1, total_loss_train=928, kl_local_train=115, tardis_age_0_train=6.37, tardis_integration_donor_0_train=7.61]"
     ]
    },
    {
     "name": "stdout",
     "output_type": "stream",
     "text": [
      "\r",
      "Epoch 115/600:  19%|█▉        | 114/600 [07:59<33:26,  4.13s/it, v_num=bl_1, total_loss_train=928, kl_local_train=115, tardis_age_0_train=6.37, tardis_integration_donor_0_train=7.61]"
     ]
    },
    {
     "name": "stdout",
     "output_type": "stream",
     "text": [
      "\r",
      "Epoch 115/600:  19%|█▉        | 115/600 [08:04<33:19,  4.12s/it, v_num=bl_1, total_loss_train=928, kl_local_train=115, tardis_age_0_train=6.37, tardis_integration_donor_0_train=7.61]"
     ]
    },
    {
     "name": "stdout",
     "output_type": "stream",
     "text": [
      "\r",
      "Epoch 115/600:  19%|█▉        | 115/600 [08:04<33:19,  4.12s/it, v_num=bl_1, total_loss_train=928, kl_local_train=115, tardis_age_0_train=6.41, tardis_integration_donor_0_train=7.64]"
     ]
    },
    {
     "name": "stdout",
     "output_type": "stream",
     "text": [
      "\r",
      "Epoch 116/600:  19%|█▉        | 115/600 [08:04<33:19,  4.12s/it, v_num=bl_1, total_loss_train=928, kl_local_train=115, tardis_age_0_train=6.41, tardis_integration_donor_0_train=7.64]"
     ]
    },
    {
     "name": "stdout",
     "output_type": "stream",
     "text": [
      "\r",
      "Epoch 116/600:  19%|█▉        | 116/600 [08:08<33:20,  4.13s/it, v_num=bl_1, total_loss_train=928, kl_local_train=115, tardis_age_0_train=6.41, tardis_integration_donor_0_train=7.64]"
     ]
    },
    {
     "name": "stdout",
     "output_type": "stream",
     "text": [
      "\r",
      "Epoch 116/600:  19%|█▉        | 116/600 [08:08<33:20,  4.13s/it, v_num=bl_1, total_loss_train=927, kl_local_train=116, tardis_age_0_train=6.4, tardis_integration_donor_0_train=7.67] "
     ]
    },
    {
     "name": "stdout",
     "output_type": "stream",
     "text": [
      "\r",
      "Epoch 117/600:  19%|█▉        | 116/600 [08:08<33:20,  4.13s/it, v_num=bl_1, total_loss_train=927, kl_local_train=116, tardis_age_0_train=6.4, tardis_integration_donor_0_train=7.67]"
     ]
    },
    {
     "name": "stdout",
     "output_type": "stream",
     "text": [
      "\r",
      "Epoch 117/600:  20%|█▉        | 117/600 [08:12<33:15,  4.13s/it, v_num=bl_1, total_loss_train=927, kl_local_train=116, tardis_age_0_train=6.4, tardis_integration_donor_0_train=7.67]"
     ]
    },
    {
     "name": "stdout",
     "output_type": "stream",
     "text": [
      "\r",
      "Epoch 117/600:  20%|█▉        | 117/600 [08:12<33:15,  4.13s/it, v_num=bl_1, total_loss_train=927, kl_local_train=116, tardis_age_0_train=6.36, tardis_integration_donor_0_train=7.47]"
     ]
    },
    {
     "name": "stdout",
     "output_type": "stream",
     "text": [
      "\r",
      "Epoch 118/600:  20%|█▉        | 117/600 [08:12<33:15,  4.13s/it, v_num=bl_1, total_loss_train=927, kl_local_train=116, tardis_age_0_train=6.36, tardis_integration_donor_0_train=7.47]"
     ]
    },
    {
     "name": "stdout",
     "output_type": "stream",
     "text": [
      "\r",
      "Epoch 118/600:  20%|█▉        | 118/600 [08:16<33:15,  4.14s/it, v_num=bl_1, total_loss_train=927, kl_local_train=116, tardis_age_0_train=6.36, tardis_integration_donor_0_train=7.47]"
     ]
    },
    {
     "name": "stdout",
     "output_type": "stream",
     "text": [
      "\r",
      "Epoch 118/600:  20%|█▉        | 118/600 [08:16<33:15,  4.14s/it, v_num=bl_1, total_loss_train=927, kl_local_train=115, tardis_age_0_train=6.58, tardis_integration_donor_0_train=7.55]"
     ]
    },
    {
     "name": "stdout",
     "output_type": "stream",
     "text": [
      "\r",
      "Epoch 119/600:  20%|█▉        | 118/600 [08:16<33:15,  4.14s/it, v_num=bl_1, total_loss_train=927, kl_local_train=115, tardis_age_0_train=6.58, tardis_integration_donor_0_train=7.55]"
     ]
    },
    {
     "name": "stdout",
     "output_type": "stream",
     "text": [
      "\r",
      "Epoch 119/600:  20%|█▉        | 119/600 [08:20<33:11,  4.14s/it, v_num=bl_1, total_loss_train=927, kl_local_train=115, tardis_age_0_train=6.58, tardis_integration_donor_0_train=7.55]"
     ]
    },
    {
     "name": "stdout",
     "output_type": "stream",
     "text": [
      "\r",
      "Epoch 119/600:  20%|█▉        | 119/600 [08:20<33:11,  4.14s/it, v_num=bl_1, total_loss_train=926, kl_local_train=114, tardis_age_0_train=6.47, tardis_integration_donor_0_train=7.48]"
     ]
    },
    {
     "name": "stdout",
     "output_type": "stream",
     "text": [
      "\r",
      "Epoch 120/600:  20%|█▉        | 119/600 [08:20<33:11,  4.14s/it, v_num=bl_1, total_loss_train=926, kl_local_train=114, tardis_age_0_train=6.47, tardis_integration_donor_0_train=7.48]"
     ]
    },
    {
     "name": "stdout",
     "output_type": "stream",
     "text": [
      "\r",
      "Epoch 120/600:  20%|██        | 120/600 [08:24<33:08,  4.14s/it, v_num=bl_1, total_loss_train=926, kl_local_train=114, tardis_age_0_train=6.47, tardis_integration_donor_0_train=7.48]"
     ]
    },
    {
     "name": "stdout",
     "output_type": "stream",
     "text": [
      "\r",
      "Epoch 120/600:  20%|██        | 120/600 [08:24<33:08,  4.14s/it, v_num=bl_1, total_loss_train=926, kl_local_train=115, tardis_age_0_train=6.36, tardis_integration_donor_0_train=7.59]"
     ]
    },
    {
     "name": "stdout",
     "output_type": "stream",
     "text": [
      "\r",
      "Epoch 121/600:  20%|██        | 120/600 [08:24<33:08,  4.14s/it, v_num=bl_1, total_loss_train=926, kl_local_train=115, tardis_age_0_train=6.36, tardis_integration_donor_0_train=7.59]"
     ]
    },
    {
     "name": "stdout",
     "output_type": "stream",
     "text": [
      "\r",
      "Epoch 121/600:  20%|██        | 121/600 [08:28<32:59,  4.13s/it, v_num=bl_1, total_loss_train=926, kl_local_train=115, tardis_age_0_train=6.36, tardis_integration_donor_0_train=7.59]"
     ]
    },
    {
     "name": "stdout",
     "output_type": "stream",
     "text": [
      "\r",
      "Epoch 121/600:  20%|██        | 121/600 [08:28<32:59,  4.13s/it, v_num=bl_1, total_loss_train=925, kl_local_train=114, tardis_age_0_train=6.5, tardis_integration_donor_0_train=7.53] "
     ]
    },
    {
     "name": "stdout",
     "output_type": "stream",
     "text": [
      "\r",
      "Epoch 122/600:  20%|██        | 121/600 [08:28<32:59,  4.13s/it, v_num=bl_1, total_loss_train=925, kl_local_train=114, tardis_age_0_train=6.5, tardis_integration_donor_0_train=7.53]"
     ]
    },
    {
     "name": "stdout",
     "output_type": "stream",
     "text": [
      "\r",
      "Epoch 122/600:  20%|██        | 122/600 [08:33<32:56,  4.14s/it, v_num=bl_1, total_loss_train=925, kl_local_train=114, tardis_age_0_train=6.5, tardis_integration_donor_0_train=7.53]"
     ]
    },
    {
     "name": "stdout",
     "output_type": "stream",
     "text": [
      "\r",
      "Epoch 122/600:  20%|██        | 122/600 [08:33<32:56,  4.14s/it, v_num=bl_1, total_loss_train=925, kl_local_train=112, tardis_age_0_train=6.54, tardis_integration_donor_0_train=7.68]"
     ]
    },
    {
     "name": "stdout",
     "output_type": "stream",
     "text": [
      "\r",
      "Epoch 123/600:  20%|██        | 122/600 [08:33<32:56,  4.14s/it, v_num=bl_1, total_loss_train=925, kl_local_train=112, tardis_age_0_train=6.54, tardis_integration_donor_0_train=7.68]"
     ]
    },
    {
     "name": "stdout",
     "output_type": "stream",
     "text": [
      "\r",
      "Epoch 123/600:  20%|██        | 123/600 [08:37<32:50,  4.13s/it, v_num=bl_1, total_loss_train=925, kl_local_train=112, tardis_age_0_train=6.54, tardis_integration_donor_0_train=7.68]"
     ]
    },
    {
     "name": "stdout",
     "output_type": "stream",
     "text": [
      "\r",
      "Epoch 123/600:  20%|██        | 123/600 [08:37<32:50,  4.13s/it, v_num=bl_1, total_loss_train=925, kl_local_train=111, tardis_age_0_train=6.51, tardis_integration_donor_0_train=7.81]"
     ]
    },
    {
     "name": "stdout",
     "output_type": "stream",
     "text": [
      "\r",
      "Epoch 124/600:  20%|██        | 123/600 [08:37<32:50,  4.13s/it, v_num=bl_1, total_loss_train=925, kl_local_train=111, tardis_age_0_train=6.51, tardis_integration_donor_0_train=7.81]"
     ]
    },
    {
     "name": "stdout",
     "output_type": "stream",
     "text": [
      "\r",
      "Epoch 124/600:  21%|██        | 124/600 [08:41<32:46,  4.13s/it, v_num=bl_1, total_loss_train=925, kl_local_train=111, tardis_age_0_train=6.51, tardis_integration_donor_0_train=7.81]"
     ]
    },
    {
     "name": "stdout",
     "output_type": "stream",
     "text": [
      "\r",
      "Epoch 124/600:  21%|██        | 124/600 [08:41<32:46,  4.13s/it, v_num=bl_1, total_loss_train=925, kl_local_train=111, tardis_age_0_train=6.59, tardis_integration_donor_0_train=7.86]"
     ]
    },
    {
     "name": "stdout",
     "output_type": "stream",
     "text": [
      "\r",
      "Epoch 125/600:  21%|██        | 124/600 [08:41<32:46,  4.13s/it, v_num=bl_1, total_loss_train=925, kl_local_train=111, tardis_age_0_train=6.59, tardis_integration_donor_0_train=7.86]"
     ]
    },
    {
     "name": "stdout",
     "output_type": "stream",
     "text": [
      "\r",
      "Epoch 125/600:  21%|██        | 125/600 [08:45<32:39,  4.12s/it, v_num=bl_1, total_loss_train=925, kl_local_train=111, tardis_age_0_train=6.59, tardis_integration_donor_0_train=7.86]"
     ]
    },
    {
     "name": "stdout",
     "output_type": "stream",
     "text": [
      "\r",
      "Epoch 125/600:  21%|██        | 125/600 [08:45<32:39,  4.12s/it, v_num=bl_1, total_loss_train=925, kl_local_train=112, tardis_age_0_train=6.54, tardis_integration_donor_0_train=7.69]"
     ]
    },
    {
     "name": "stdout",
     "output_type": "stream",
     "text": [
      "\r",
      "Epoch 126/600:  21%|██        | 125/600 [08:45<32:39,  4.12s/it, v_num=bl_1, total_loss_train=925, kl_local_train=112, tardis_age_0_train=6.54, tardis_integration_donor_0_train=7.69]"
     ]
    },
    {
     "name": "stdout",
     "output_type": "stream",
     "text": [
      "\r",
      "Epoch 126/600:  21%|██        | 126/600 [08:49<32:36,  4.13s/it, v_num=bl_1, total_loss_train=925, kl_local_train=112, tardis_age_0_train=6.54, tardis_integration_donor_0_train=7.69]"
     ]
    },
    {
     "name": "stdout",
     "output_type": "stream",
     "text": [
      "\r",
      "Epoch 126/600:  21%|██        | 126/600 [08:49<32:36,  4.13s/it, v_num=bl_1, total_loss_train=924, kl_local_train=111, tardis_age_0_train=6.47, tardis_integration_donor_0_train=7.79]"
     ]
    },
    {
     "name": "stdout",
     "output_type": "stream",
     "text": [
      "\r",
      "Epoch 127/600:  21%|██        | 126/600 [08:49<32:36,  4.13s/it, v_num=bl_1, total_loss_train=924, kl_local_train=111, tardis_age_0_train=6.47, tardis_integration_donor_0_train=7.79]"
     ]
    },
    {
     "name": "stdout",
     "output_type": "stream",
     "text": [
      "\r",
      "Epoch 127/600:  21%|██        | 127/600 [08:53<32:35,  4.13s/it, v_num=bl_1, total_loss_train=924, kl_local_train=111, tardis_age_0_train=6.47, tardis_integration_donor_0_train=7.79]"
     ]
    },
    {
     "name": "stdout",
     "output_type": "stream",
     "text": [
      "\r",
      "Epoch 127/600:  21%|██        | 127/600 [08:53<32:35,  4.13s/it, v_num=bl_1, total_loss_train=924, kl_local_train=110, tardis_age_0_train=6.47, tardis_integration_donor_0_train=7.75]"
     ]
    },
    {
     "name": "stdout",
     "output_type": "stream",
     "text": [
      "\r",
      "Epoch 128/600:  21%|██        | 127/600 [08:53<32:35,  4.13s/it, v_num=bl_1, total_loss_train=924, kl_local_train=110, tardis_age_0_train=6.47, tardis_integration_donor_0_train=7.75]"
     ]
    },
    {
     "name": "stdout",
     "output_type": "stream",
     "text": [
      "\r",
      "Epoch 128/600:  21%|██▏       | 128/600 [08:57<32:30,  4.13s/it, v_num=bl_1, total_loss_train=924, kl_local_train=110, tardis_age_0_train=6.47, tardis_integration_donor_0_train=7.75]"
     ]
    },
    {
     "name": "stdout",
     "output_type": "stream",
     "text": [
      "\r",
      "Epoch 128/600:  21%|██▏       | 128/600 [08:57<32:30,  4.13s/it, v_num=bl_1, total_loss_train=924, kl_local_train=108, tardis_age_0_train=6.68, tardis_integration_donor_0_train=7.69]"
     ]
    },
    {
     "name": "stdout",
     "output_type": "stream",
     "text": [
      "\r",
      "Epoch 129/600:  21%|██▏       | 128/600 [08:57<32:30,  4.13s/it, v_num=bl_1, total_loss_train=924, kl_local_train=108, tardis_age_0_train=6.68, tardis_integration_donor_0_train=7.69]"
     ]
    },
    {
     "name": "stdout",
     "output_type": "stream",
     "text": [
      "\r",
      "Epoch 129/600:  22%|██▏       | 129/600 [09:01<32:29,  4.14s/it, v_num=bl_1, total_loss_train=924, kl_local_train=108, tardis_age_0_train=6.68, tardis_integration_donor_0_train=7.69]"
     ]
    },
    {
     "name": "stdout",
     "output_type": "stream",
     "text": [
      "\r",
      "Epoch 129/600:  22%|██▏       | 129/600 [09:01<32:29,  4.14s/it, v_num=bl_1, total_loss_train=924, kl_local_train=110, tardis_age_0_train=6.6, tardis_integration_donor_0_train=7.78] "
     ]
    },
    {
     "name": "stdout",
     "output_type": "stream",
     "text": [
      "\r",
      "Epoch 130/600:  22%|██▏       | 129/600 [09:01<32:29,  4.14s/it, v_num=bl_1, total_loss_train=924, kl_local_train=110, tardis_age_0_train=6.6, tardis_integration_donor_0_train=7.78]"
     ]
    },
    {
     "name": "stdout",
     "output_type": "stream",
     "text": [
      "\r",
      "Epoch 130/600:  22%|██▏       | 130/600 [09:06<32:23,  4.13s/it, v_num=bl_1, total_loss_train=924, kl_local_train=110, tardis_age_0_train=6.6, tardis_integration_donor_0_train=7.78]"
     ]
    },
    {
     "name": "stdout",
     "output_type": "stream",
     "text": [
      "\r",
      "Epoch 130/600:  22%|██▏       | 130/600 [09:06<32:23,  4.13s/it, v_num=bl_1, total_loss_train=924, kl_local_train=110, tardis_age_0_train=6.43, tardis_integration_donor_0_train=7.63]"
     ]
    },
    {
     "name": "stdout",
     "output_type": "stream",
     "text": [
      "\r",
      "Epoch 131/600:  22%|██▏       | 130/600 [09:06<32:23,  4.13s/it, v_num=bl_1, total_loss_train=924, kl_local_train=110, tardis_age_0_train=6.43, tardis_integration_donor_0_train=7.63]"
     ]
    },
    {
     "name": "stdout",
     "output_type": "stream",
     "text": [
      "\r",
      "Epoch 131/600:  22%|██▏       | 131/600 [09:10<32:17,  4.13s/it, v_num=bl_1, total_loss_train=924, kl_local_train=110, tardis_age_0_train=6.43, tardis_integration_donor_0_train=7.63]"
     ]
    },
    {
     "name": "stdout",
     "output_type": "stream",
     "text": [
      "\r",
      "Epoch 131/600:  22%|██▏       | 131/600 [09:10<32:17,  4.13s/it, v_num=bl_1, total_loss_train=923, kl_local_train=109, tardis_age_0_train=6.62, tardis_integration_donor_0_train=7.85]"
     ]
    },
    {
     "name": "stdout",
     "output_type": "stream",
     "text": [
      "\r",
      "Epoch 132/600:  22%|██▏       | 131/600 [09:10<32:17,  4.13s/it, v_num=bl_1, total_loss_train=923, kl_local_train=109, tardis_age_0_train=6.62, tardis_integration_donor_0_train=7.85]"
     ]
    },
    {
     "name": "stdout",
     "output_type": "stream",
     "text": [
      "\r",
      "Epoch 132/600:  22%|██▏       | 132/600 [09:14<32:12,  4.13s/it, v_num=bl_1, total_loss_train=923, kl_local_train=109, tardis_age_0_train=6.62, tardis_integration_donor_0_train=7.85]"
     ]
    },
    {
     "name": "stdout",
     "output_type": "stream",
     "text": [
      "\r",
      "Epoch 132/600:  22%|██▏       | 132/600 [09:14<32:12,  4.13s/it, v_num=bl_1, total_loss_train=923, kl_local_train=109, tardis_age_0_train=6.53, tardis_integration_donor_0_train=7.86]"
     ]
    },
    {
     "name": "stdout",
     "output_type": "stream",
     "text": [
      "\r",
      "Epoch 133/600:  22%|██▏       | 132/600 [09:14<32:12,  4.13s/it, v_num=bl_1, total_loss_train=923, kl_local_train=109, tardis_age_0_train=6.53, tardis_integration_donor_0_train=7.86]"
     ]
    },
    {
     "name": "stdout",
     "output_type": "stream",
     "text": [
      "\r",
      "Epoch 133/600:  22%|██▏       | 133/600 [09:18<32:08,  4.13s/it, v_num=bl_1, total_loss_train=923, kl_local_train=109, tardis_age_0_train=6.53, tardis_integration_donor_0_train=7.86]"
     ]
    },
    {
     "name": "stdout",
     "output_type": "stream",
     "text": [
      "\r",
      "Epoch 133/600:  22%|██▏       | 133/600 [09:18<32:08,  4.13s/it, v_num=bl_1, total_loss_train=923, kl_local_train=109, tardis_age_0_train=6.64, tardis_integration_donor_0_train=7.71]"
     ]
    },
    {
     "name": "stdout",
     "output_type": "stream",
     "text": [
      "\r",
      "Epoch 134/600:  22%|██▏       | 133/600 [09:18<32:08,  4.13s/it, v_num=bl_1, total_loss_train=923, kl_local_train=109, tardis_age_0_train=6.64, tardis_integration_donor_0_train=7.71]"
     ]
    },
    {
     "name": "stdout",
     "output_type": "stream",
     "text": [
      "\r",
      "Epoch 134/600:  22%|██▏       | 134/600 [09:22<32:04,  4.13s/it, v_num=bl_1, total_loss_train=923, kl_local_train=109, tardis_age_0_train=6.64, tardis_integration_donor_0_train=7.71]"
     ]
    },
    {
     "name": "stdout",
     "output_type": "stream",
     "text": [
      "\r",
      "Epoch 134/600:  22%|██▏       | 134/600 [09:22<32:04,  4.13s/it, v_num=bl_1, total_loss_train=923, kl_local_train=108, tardis_age_0_train=6.63, tardis_integration_donor_0_train=8.05]"
     ]
    },
    {
     "name": "stdout",
     "output_type": "stream",
     "text": [
      "\r",
      "Epoch 135/600:  22%|██▏       | 134/600 [09:22<32:04,  4.13s/it, v_num=bl_1, total_loss_train=923, kl_local_train=108, tardis_age_0_train=6.63, tardis_integration_donor_0_train=8.05]"
     ]
    },
    {
     "name": "stdout",
     "output_type": "stream",
     "text": [
      "\r",
      "Epoch 135/600:  22%|██▎       | 135/600 [09:26<32:01,  4.13s/it, v_num=bl_1, total_loss_train=923, kl_local_train=108, tardis_age_0_train=6.63, tardis_integration_donor_0_train=8.05]"
     ]
    },
    {
     "name": "stdout",
     "output_type": "stream",
     "text": [
      "\r",
      "Epoch 135/600:  22%|██▎       | 135/600 [09:26<32:01,  4.13s/it, v_num=bl_1, total_loss_train=923, kl_local_train=108, tardis_age_0_train=6.71, tardis_integration_donor_0_train=7.98]"
     ]
    },
    {
     "name": "stdout",
     "output_type": "stream",
     "text": [
      "\r",
      "Epoch 136/600:  22%|██▎       | 135/600 [09:26<32:01,  4.13s/it, v_num=bl_1, total_loss_train=923, kl_local_train=108, tardis_age_0_train=6.71, tardis_integration_donor_0_train=7.98]"
     ]
    },
    {
     "name": "stdout",
     "output_type": "stream",
     "text": [
      "\r",
      "Epoch 136/600:  23%|██▎       | 136/600 [09:30<32:07,  4.15s/it, v_num=bl_1, total_loss_train=923, kl_local_train=108, tardis_age_0_train=6.71, tardis_integration_donor_0_train=7.98]"
     ]
    },
    {
     "name": "stdout",
     "output_type": "stream",
     "text": [
      "\r",
      "Epoch 136/600:  23%|██▎       | 136/600 [09:30<32:07,  4.15s/it, v_num=bl_1, total_loss_train=923, kl_local_train=109, tardis_age_0_train=6.73, tardis_integration_donor_0_train=7.8] "
     ]
    },
    {
     "name": "stdout",
     "output_type": "stream",
     "text": [
      "\r",
      "Epoch 137/600:  23%|██▎       | 136/600 [09:30<32:07,  4.15s/it, v_num=bl_1, total_loss_train=923, kl_local_train=109, tardis_age_0_train=6.73, tardis_integration_donor_0_train=7.8]"
     ]
    },
    {
     "name": "stdout",
     "output_type": "stream",
     "text": [
      "\r",
      "Epoch 137/600:  23%|██▎       | 137/600 [09:35<32:00,  4.15s/it, v_num=bl_1, total_loss_train=923, kl_local_train=109, tardis_age_0_train=6.73, tardis_integration_donor_0_train=7.8]"
     ]
    },
    {
     "name": "stdout",
     "output_type": "stream",
     "text": [
      "\r",
      "Epoch 137/600:  23%|██▎       | 137/600 [09:35<32:00,  4.15s/it, v_num=bl_1, total_loss_train=922, kl_local_train=107, tardis_age_0_train=6.72, tardis_integration_donor_0_train=7.82]"
     ]
    },
    {
     "name": "stdout",
     "output_type": "stream",
     "text": [
      "\r",
      "Epoch 138/600:  23%|██▎       | 137/600 [09:35<32:00,  4.15s/it, v_num=bl_1, total_loss_train=922, kl_local_train=107, tardis_age_0_train=6.72, tardis_integration_donor_0_train=7.82]"
     ]
    },
    {
     "name": "stdout",
     "output_type": "stream",
     "text": [
      "\r",
      "Epoch 138/600:  23%|██▎       | 138/600 [09:39<32:19,  4.20s/it, v_num=bl_1, total_loss_train=922, kl_local_train=107, tardis_age_0_train=6.72, tardis_integration_donor_0_train=7.82]"
     ]
    },
    {
     "name": "stdout",
     "output_type": "stream",
     "text": [
      "\r",
      "Epoch 138/600:  23%|██▎       | 138/600 [09:39<32:19,  4.20s/it, v_num=bl_1, total_loss_train=922, kl_local_train=105, tardis_age_0_train=6.74, tardis_integration_donor_0_train=8.11]"
     ]
    },
    {
     "name": "stdout",
     "output_type": "stream",
     "text": [
      "\r",
      "Epoch 139/600:  23%|██▎       | 138/600 [09:39<32:19,  4.20s/it, v_num=bl_1, total_loss_train=922, kl_local_train=105, tardis_age_0_train=6.74, tardis_integration_donor_0_train=8.11]"
     ]
    },
    {
     "name": "stdout",
     "output_type": "stream",
     "text": [
      "\r",
      "Epoch 139/600:  23%|██▎       | 139/600 [09:43<32:09,  4.19s/it, v_num=bl_1, total_loss_train=922, kl_local_train=105, tardis_age_0_train=6.74, tardis_integration_donor_0_train=8.11]"
     ]
    },
    {
     "name": "stdout",
     "output_type": "stream",
     "text": [
      "\r",
      "Epoch 139/600:  23%|██▎       | 139/600 [09:43<32:09,  4.19s/it, v_num=bl_1, total_loss_train=922, kl_local_train=105, tardis_age_0_train=6.8, tardis_integration_donor_0_train=8.04] "
     ]
    },
    {
     "name": "stdout",
     "output_type": "stream",
     "text": [
      "\r",
      "Epoch 140/600:  23%|██▎       | 139/600 [09:43<32:09,  4.19s/it, v_num=bl_1, total_loss_train=922, kl_local_train=105, tardis_age_0_train=6.8, tardis_integration_donor_0_train=8.04]"
     ]
    },
    {
     "name": "stdout",
     "output_type": "stream",
     "text": [
      "\r",
      "Epoch 140/600:  23%|██▎       | 140/600 [09:47<31:54,  4.16s/it, v_num=bl_1, total_loss_train=922, kl_local_train=105, tardis_age_0_train=6.8, tardis_integration_donor_0_train=8.04]"
     ]
    },
    {
     "name": "stdout",
     "output_type": "stream",
     "text": [
      "\r",
      "Epoch 140/600:  23%|██▎       | 140/600 [09:47<31:54,  4.16s/it, v_num=bl_1, total_loss_train=922, kl_local_train=106, tardis_age_0_train=6.65, tardis_integration_donor_0_train=8.06]"
     ]
    },
    {
     "name": "stdout",
     "output_type": "stream",
     "text": [
      "\r",
      "Epoch 141/600:  23%|██▎       | 140/600 [09:47<31:54,  4.16s/it, v_num=bl_1, total_loss_train=922, kl_local_train=106, tardis_age_0_train=6.65, tardis_integration_donor_0_train=8.06]"
     ]
    },
    {
     "name": "stdout",
     "output_type": "stream",
     "text": [
      "\r",
      "Epoch 141/600:  24%|██▎       | 141/600 [09:51<31:52,  4.17s/it, v_num=bl_1, total_loss_train=922, kl_local_train=106, tardis_age_0_train=6.65, tardis_integration_donor_0_train=8.06]"
     ]
    },
    {
     "name": "stdout",
     "output_type": "stream",
     "text": [
      "\r",
      "Epoch 141/600:  24%|██▎       | 141/600 [09:51<31:52,  4.17s/it, v_num=bl_1, total_loss_train=921, kl_local_train=105, tardis_age_0_train=6.76, tardis_integration_donor_0_train=8.07]"
     ]
    },
    {
     "name": "stdout",
     "output_type": "stream",
     "text": [
      "\r",
      "Epoch 142/600:  24%|██▎       | 141/600 [09:51<31:52,  4.17s/it, v_num=bl_1, total_loss_train=921, kl_local_train=105, tardis_age_0_train=6.76, tardis_integration_donor_0_train=8.07]"
     ]
    },
    {
     "name": "stdout",
     "output_type": "stream",
     "text": [
      "\r",
      "Epoch 142/600:  24%|██▎       | 142/600 [09:55<31:44,  4.16s/it, v_num=bl_1, total_loss_train=921, kl_local_train=105, tardis_age_0_train=6.76, tardis_integration_donor_0_train=8.07]"
     ]
    },
    {
     "name": "stdout",
     "output_type": "stream",
     "text": [
      "\r",
      "Epoch 142/600:  24%|██▎       | 142/600 [09:55<31:44,  4.16s/it, v_num=bl_1, total_loss_train=921, kl_local_train=103, tardis_age_0_train=6.89, tardis_integration_donor_0_train=8.24]"
     ]
    },
    {
     "name": "stdout",
     "output_type": "stream",
     "text": [
      "\r",
      "Epoch 143/600:  24%|██▎       | 142/600 [09:55<31:44,  4.16s/it, v_num=bl_1, total_loss_train=921, kl_local_train=103, tardis_age_0_train=6.89, tardis_integration_donor_0_train=8.24]"
     ]
    },
    {
     "name": "stdout",
     "output_type": "stream",
     "text": [
      "\r",
      "Epoch 143/600:  24%|██▍       | 143/600 [10:00<31:36,  4.15s/it, v_num=bl_1, total_loss_train=921, kl_local_train=103, tardis_age_0_train=6.89, tardis_integration_donor_0_train=8.24]"
     ]
    },
    {
     "name": "stdout",
     "output_type": "stream",
     "text": [
      "\r",
      "Epoch 143/600:  24%|██▍       | 143/600 [10:00<31:36,  4.15s/it, v_num=bl_1, total_loss_train=921, kl_local_train=105, tardis_age_0_train=6.76, tardis_integration_donor_0_train=8.07]"
     ]
    },
    {
     "name": "stdout",
     "output_type": "stream",
     "text": [
      "\r",
      "Epoch 144/600:  24%|██▍       | 143/600 [10:00<31:36,  4.15s/it, v_num=bl_1, total_loss_train=921, kl_local_train=105, tardis_age_0_train=6.76, tardis_integration_donor_0_train=8.07]"
     ]
    },
    {
     "name": "stdout",
     "output_type": "stream",
     "text": [
      "\r",
      "Epoch 144/600:  24%|██▍       | 144/600 [10:04<31:35,  4.16s/it, v_num=bl_1, total_loss_train=921, kl_local_train=105, tardis_age_0_train=6.76, tardis_integration_donor_0_train=8.07]"
     ]
    },
    {
     "name": "stdout",
     "output_type": "stream",
     "text": [
      "\r",
      "Epoch 144/600:  24%|██▍       | 144/600 [10:04<31:35,  4.16s/it, v_num=bl_1, total_loss_train=920, kl_local_train=105, tardis_age_0_train=6.81, tardis_integration_donor_0_train=7.95]"
     ]
    },
    {
     "name": "stdout",
     "output_type": "stream",
     "text": [
      "\r",
      "Epoch 145/600:  24%|██▍       | 144/600 [10:04<31:35,  4.16s/it, v_num=bl_1, total_loss_train=920, kl_local_train=105, tardis_age_0_train=6.81, tardis_integration_donor_0_train=7.95]"
     ]
    },
    {
     "name": "stdout",
     "output_type": "stream",
     "text": [
      "\r",
      "Epoch 145/600:  24%|██▍       | 145/600 [10:08<31:28,  4.15s/it, v_num=bl_1, total_loss_train=920, kl_local_train=105, tardis_age_0_train=6.81, tardis_integration_donor_0_train=7.95]"
     ]
    },
    {
     "name": "stdout",
     "output_type": "stream",
     "text": [
      "\r",
      "Epoch 145/600:  24%|██▍       | 145/600 [10:08<31:28,  4.15s/it, v_num=bl_1, total_loss_train=920, kl_local_train=104, tardis_age_0_train=6.75, tardis_integration_donor_0_train=8]   "
     ]
    },
    {
     "name": "stdout",
     "output_type": "stream",
     "text": [
      "\r",
      "Epoch 146/600:  24%|██▍       | 145/600 [10:08<31:28,  4.15s/it, v_num=bl_1, total_loss_train=920, kl_local_train=104, tardis_age_0_train=6.75, tardis_integration_donor_0_train=8]"
     ]
    },
    {
     "name": "stdout",
     "output_type": "stream",
     "text": [
      "\r",
      "Epoch 146/600:  24%|██▍       | 146/600 [10:12<31:21,  4.14s/it, v_num=bl_1, total_loss_train=920, kl_local_train=104, tardis_age_0_train=6.75, tardis_integration_donor_0_train=8]"
     ]
    },
    {
     "name": "stdout",
     "output_type": "stream",
     "text": [
      "\r",
      "Epoch 146/600:  24%|██▍       | 146/600 [10:12<31:21,  4.14s/it, v_num=bl_1, total_loss_train=920, kl_local_train=104, tardis_age_0_train=6.81, tardis_integration_donor_0_train=8.04]"
     ]
    },
    {
     "name": "stdout",
     "output_type": "stream",
     "text": [
      "\r",
      "Epoch 147/600:  24%|██▍       | 146/600 [10:12<31:21,  4.14s/it, v_num=bl_1, total_loss_train=920, kl_local_train=104, tardis_age_0_train=6.81, tardis_integration_donor_0_train=8.04]"
     ]
    },
    {
     "name": "stdout",
     "output_type": "stream",
     "text": [
      "\r",
      "Epoch 147/600:  24%|██▍       | 147/600 [10:16<31:18,  4.15s/it, v_num=bl_1, total_loss_train=920, kl_local_train=104, tardis_age_0_train=6.81, tardis_integration_donor_0_train=8.04]"
     ]
    },
    {
     "name": "stdout",
     "output_type": "stream",
     "text": [
      "\r",
      "Epoch 147/600:  24%|██▍       | 147/600 [10:16<31:18,  4.15s/it, v_num=bl_1, total_loss_train=920, kl_local_train=103, tardis_age_0_train=7.04, tardis_integration_donor_0_train=8.28]"
     ]
    },
    {
     "name": "stdout",
     "output_type": "stream",
     "text": [
      "\r",
      "Epoch 148/600:  24%|██▍       | 147/600 [10:16<31:18,  4.15s/it, v_num=bl_1, total_loss_train=920, kl_local_train=103, tardis_age_0_train=7.04, tardis_integration_donor_0_train=8.28]"
     ]
    },
    {
     "name": "stdout",
     "output_type": "stream",
     "text": [
      "\r",
      "Epoch 148/600:  25%|██▍       | 148/600 [10:20<31:09,  4.14s/it, v_num=bl_1, total_loss_train=920, kl_local_train=103, tardis_age_0_train=7.04, tardis_integration_donor_0_train=8.28]"
     ]
    },
    {
     "name": "stdout",
     "output_type": "stream",
     "text": [
      "\r",
      "Epoch 148/600:  25%|██▍       | 148/600 [10:20<31:09,  4.14s/it, v_num=bl_1, total_loss_train=920, kl_local_train=103, tardis_age_0_train=6.9, tardis_integration_donor_0_train=8.12] "
     ]
    },
    {
     "name": "stdout",
     "output_type": "stream",
     "text": [
      "\r",
      "Epoch 149/600:  25%|██▍       | 148/600 [10:20<31:09,  4.14s/it, v_num=bl_1, total_loss_train=920, kl_local_train=103, tardis_age_0_train=6.9, tardis_integration_donor_0_train=8.12]"
     ]
    },
    {
     "name": "stdout",
     "output_type": "stream",
     "text": [
      "\r",
      "Epoch 149/600:  25%|██▍       | 149/600 [10:25<31:16,  4.16s/it, v_num=bl_1, total_loss_train=920, kl_local_train=103, tardis_age_0_train=6.9, tardis_integration_donor_0_train=8.12]"
     ]
    },
    {
     "name": "stdout",
     "output_type": "stream",
     "text": [
      "\r",
      "Epoch 149/600:  25%|██▍       | 149/600 [10:25<31:16,  4.16s/it, v_num=bl_1, total_loss_train=920, kl_local_train=104, tardis_age_0_train=6.9, tardis_integration_donor_0_train=8.23]"
     ]
    },
    {
     "name": "stdout",
     "output_type": "stream",
     "text": [
      "\r",
      "Epoch 150/600:  25%|██▍       | 149/600 [10:25<31:16,  4.16s/it, v_num=bl_1, total_loss_train=920, kl_local_train=104, tardis_age_0_train=6.9, tardis_integration_donor_0_train=8.23]"
     ]
    },
    {
     "name": "stdout",
     "output_type": "stream",
     "text": [
      "\r",
      "Epoch 150/600:  25%|██▌       | 150/600 [10:29<31:22,  4.18s/it, v_num=bl_1, total_loss_train=920, kl_local_train=104, tardis_age_0_train=6.9, tardis_integration_donor_0_train=8.23]"
     ]
    },
    {
     "name": "stdout",
     "output_type": "stream",
     "text": [
      "\r",
      "Epoch 150/600:  25%|██▌       | 150/600 [10:29<31:22,  4.18s/it, v_num=bl_1, total_loss_train=920, kl_local_train=103, tardis_age_0_train=6.94, tardis_integration_donor_0_train=8.19]"
     ]
    },
    {
     "name": "stdout",
     "output_type": "stream",
     "text": [
      "\r",
      "Epoch 151/600:  25%|██▌       | 150/600 [10:29<31:22,  4.18s/it, v_num=bl_1, total_loss_train=920, kl_local_train=103, tardis_age_0_train=6.94, tardis_integration_donor_0_train=8.19]"
     ]
    },
    {
     "name": "stdout",
     "output_type": "stream",
     "text": [
      "\r",
      "Epoch 151/600:  25%|██▌       | 151/600 [10:33<31:28,  4.21s/it, v_num=bl_1, total_loss_train=920, kl_local_train=103, tardis_age_0_train=6.94, tardis_integration_donor_0_train=8.19]"
     ]
    },
    {
     "name": "stdout",
     "output_type": "stream",
     "text": [
      "\r",
      "Epoch 151/600:  25%|██▌       | 151/600 [10:33<31:28,  4.21s/it, v_num=bl_1, total_loss_train=919, kl_local_train=103, tardis_age_0_train=6.94, tardis_integration_donor_0_train=8.29]"
     ]
    },
    {
     "name": "stdout",
     "output_type": "stream",
     "text": [
      "\r",
      "Epoch 152/600:  25%|██▌       | 151/600 [10:33<31:28,  4.21s/it, v_num=bl_1, total_loss_train=919, kl_local_train=103, tardis_age_0_train=6.94, tardis_integration_donor_0_train=8.29]"
     ]
    },
    {
     "name": "stdout",
     "output_type": "stream",
     "text": [
      "\r",
      "Epoch 152/600:  25%|██▌       | 152/600 [10:37<31:15,  4.19s/it, v_num=bl_1, total_loss_train=919, kl_local_train=103, tardis_age_0_train=6.94, tardis_integration_donor_0_train=8.29]"
     ]
    },
    {
     "name": "stdout",
     "output_type": "stream",
     "text": [
      "\r",
      "Epoch 152/600:  25%|██▌       | 152/600 [10:37<31:15,  4.19s/it, v_num=bl_1, total_loss_train=919, kl_local_train=101, tardis_age_0_train=7.1, tardis_integration_donor_0_train=8.24] "
     ]
    },
    {
     "name": "stdout",
     "output_type": "stream",
     "text": [
      "\r",
      "Epoch 153/600:  25%|██▌       | 152/600 [10:37<31:15,  4.19s/it, v_num=bl_1, total_loss_train=919, kl_local_train=101, tardis_age_0_train=7.1, tardis_integration_donor_0_train=8.24]"
     ]
    },
    {
     "name": "stdout",
     "output_type": "stream",
     "text": [
      "\r",
      "Epoch 153/600:  26%|██▌       | 153/600 [10:41<31:01,  4.16s/it, v_num=bl_1, total_loss_train=919, kl_local_train=101, tardis_age_0_train=7.1, tardis_integration_donor_0_train=8.24]"
     ]
    },
    {
     "name": "stdout",
     "output_type": "stream",
     "text": [
      "\r",
      "Epoch 153/600:  26%|██▌       | 153/600 [10:41<31:01,  4.16s/it, v_num=bl_1, total_loss_train=919, kl_local_train=101, tardis_age_0_train=7, tardis_integration_donor_0_train=8.25]  "
     ]
    },
    {
     "name": "stdout",
     "output_type": "stream",
     "text": [
      "\r",
      "Epoch 154/600:  26%|██▌       | 153/600 [10:41<31:01,  4.16s/it, v_num=bl_1, total_loss_train=919, kl_local_train=101, tardis_age_0_train=7, tardis_integration_donor_0_train=8.25]"
     ]
    },
    {
     "name": "stdout",
     "output_type": "stream",
     "text": [
      "\r",
      "Epoch 154/600:  26%|██▌       | 154/600 [10:45<31:02,  4.18s/it, v_num=bl_1, total_loss_train=919, kl_local_train=101, tardis_age_0_train=7, tardis_integration_donor_0_train=8.25]"
     ]
    },
    {
     "name": "stdout",
     "output_type": "stream",
     "text": [
      "\r",
      "Epoch 154/600:  26%|██▌       | 154/600 [10:45<31:02,  4.18s/it, v_num=bl_1, total_loss_train=919, kl_local_train=101, tardis_age_0_train=7.06, tardis_integration_donor_0_train=8.32]"
     ]
    },
    {
     "name": "stdout",
     "output_type": "stream",
     "text": [
      "\r",
      "Epoch 155/600:  26%|██▌       | 154/600 [10:45<31:02,  4.18s/it, v_num=bl_1, total_loss_train=919, kl_local_train=101, tardis_age_0_train=7.06, tardis_integration_donor_0_train=8.32]"
     ]
    },
    {
     "name": "stdout",
     "output_type": "stream",
     "text": [
      "\r",
      "Epoch 155/600:  26%|██▌       | 155/600 [10:50<30:51,  4.16s/it, v_num=bl_1, total_loss_train=919, kl_local_train=101, tardis_age_0_train=7.06, tardis_integration_donor_0_train=8.32]"
     ]
    },
    {
     "name": "stdout",
     "output_type": "stream",
     "text": [
      "\r",
      "Epoch 155/600:  26%|██▌       | 155/600 [10:50<30:51,  4.16s/it, v_num=bl_1, total_loss_train=919, kl_local_train=102, tardis_age_0_train=7.06, tardis_integration_donor_0_train=8.23]"
     ]
    },
    {
     "name": "stdout",
     "output_type": "stream",
     "text": [
      "\r",
      "Epoch 156/600:  26%|██▌       | 155/600 [10:50<30:51,  4.16s/it, v_num=bl_1, total_loss_train=919, kl_local_train=102, tardis_age_0_train=7.06, tardis_integration_donor_0_train=8.23]"
     ]
    },
    {
     "name": "stdout",
     "output_type": "stream",
     "text": [
      "\r",
      "Epoch 156/600:  26%|██▌       | 156/600 [10:54<30:43,  4.15s/it, v_num=bl_1, total_loss_train=919, kl_local_train=102, tardis_age_0_train=7.06, tardis_integration_donor_0_train=8.23]"
     ]
    },
    {
     "name": "stdout",
     "output_type": "stream",
     "text": [
      "\r",
      "Epoch 156/600:  26%|██▌       | 156/600 [10:54<30:43,  4.15s/it, v_num=bl_1, total_loss_train=918, kl_local_train=101, tardis_age_0_train=7, tardis_integration_donor_0_train=8.28]   "
     ]
    },
    {
     "name": "stdout",
     "output_type": "stream",
     "text": [
      "\r",
      "Epoch 157/600:  26%|██▌       | 156/600 [10:54<30:43,  4.15s/it, v_num=bl_1, total_loss_train=918, kl_local_train=101, tardis_age_0_train=7, tardis_integration_donor_0_train=8.28]"
     ]
    },
    {
     "name": "stdout",
     "output_type": "stream",
     "text": [
      "\r",
      "Epoch 157/600:  26%|██▌       | 157/600 [10:58<30:38,  4.15s/it, v_num=bl_1, total_loss_train=918, kl_local_train=101, tardis_age_0_train=7, tardis_integration_donor_0_train=8.28]"
     ]
    },
    {
     "name": "stdout",
     "output_type": "stream",
     "text": [
      "\r",
      "Epoch 157/600:  26%|██▌       | 157/600 [10:58<30:38,  4.15s/it, v_num=bl_1, total_loss_train=918, kl_local_train=99.7, tardis_age_0_train=7.08, tardis_integration_donor_0_train=8.41]"
     ]
    },
    {
     "name": "stdout",
     "output_type": "stream",
     "text": [
      "\r",
      "Epoch 158/600:  26%|██▌       | 157/600 [10:58<30:38,  4.15s/it, v_num=bl_1, total_loss_train=918, kl_local_train=99.7, tardis_age_0_train=7.08, tardis_integration_donor_0_train=8.41]"
     ]
    },
    {
     "name": "stdout",
     "output_type": "stream",
     "text": [
      "\r",
      "Epoch 158/600:  26%|██▋       | 158/600 [11:02<30:30,  4.14s/it, v_num=bl_1, total_loss_train=918, kl_local_train=99.7, tardis_age_0_train=7.08, tardis_integration_donor_0_train=8.41]"
     ]
    },
    {
     "name": "stdout",
     "output_type": "stream",
     "text": [
      "\r",
      "Epoch 158/600:  26%|██▋       | 158/600 [11:02<30:30,  4.14s/it, v_num=bl_1, total_loss_train=917, kl_local_train=99, tardis_age_0_train=7.04, tardis_integration_donor_0_train=8.28]  "
     ]
    },
    {
     "name": "stdout",
     "output_type": "stream",
     "text": [
      "\r",
      "Epoch 159/600:  26%|██▋       | 158/600 [11:02<30:30,  4.14s/it, v_num=bl_1, total_loss_train=917, kl_local_train=99, tardis_age_0_train=7.04, tardis_integration_donor_0_train=8.28]"
     ]
    },
    {
     "name": "stdout",
     "output_type": "stream",
     "text": [
      "\r",
      "Epoch 159/600:  26%|██▋       | 159/600 [11:06<30:25,  4.14s/it, v_num=bl_1, total_loss_train=917, kl_local_train=99, tardis_age_0_train=7.04, tardis_integration_donor_0_train=8.28]"
     ]
    },
    {
     "name": "stdout",
     "output_type": "stream",
     "text": [
      "\r",
      "Epoch 159/600:  26%|██▋       | 159/600 [11:06<30:25,  4.14s/it, v_num=bl_1, total_loss_train=917, kl_local_train=97.8, tardis_age_0_train=7.12, tardis_integration_donor_0_train=8.28]"
     ]
    },
    {
     "name": "stdout",
     "output_type": "stream",
     "text": [
      "\r",
      "Epoch 160/600:  26%|██▋       | 159/600 [11:06<30:25,  4.14s/it, v_num=bl_1, total_loss_train=917, kl_local_train=97.8, tardis_age_0_train=7.12, tardis_integration_donor_0_train=8.28]"
     ]
    },
    {
     "name": "stdout",
     "output_type": "stream",
     "text": [
      "\r",
      "Epoch 160/600:  27%|██▋       | 160/600 [11:10<30:25,  4.15s/it, v_num=bl_1, total_loss_train=917, kl_local_train=97.8, tardis_age_0_train=7.12, tardis_integration_donor_0_train=8.28]"
     ]
    },
    {
     "name": "stdout",
     "output_type": "stream",
     "text": [
      "\r",
      "Epoch 160/600:  27%|██▋       | 160/600 [11:10<30:25,  4.15s/it, v_num=bl_1, total_loss_train=917, kl_local_train=98.4, tardis_age_0_train=7.09, tardis_integration_donor_0_train=8.42]"
     ]
    },
    {
     "name": "stdout",
     "output_type": "stream",
     "text": [
      "\r",
      "Epoch 161/600:  27%|██▋       | 160/600 [11:10<30:25,  4.15s/it, v_num=bl_1, total_loss_train=917, kl_local_train=98.4, tardis_age_0_train=7.09, tardis_integration_donor_0_train=8.42]"
     ]
    },
    {
     "name": "stdout",
     "output_type": "stream",
     "text": [
      "\r",
      "Epoch 161/600:  27%|██▋       | 161/600 [11:14<30:20,  4.15s/it, v_num=bl_1, total_loss_train=917, kl_local_train=98.4, tardis_age_0_train=7.09, tardis_integration_donor_0_train=8.42]"
     ]
    },
    {
     "name": "stdout",
     "output_type": "stream",
     "text": [
      "\r",
      "Epoch 161/600:  27%|██▋       | 161/600 [11:14<30:20,  4.15s/it, v_num=bl_1, total_loss_train=917, kl_local_train=98.5, tardis_age_0_train=7.25, tardis_integration_donor_0_train=8.48]"
     ]
    },
    {
     "name": "stdout",
     "output_type": "stream",
     "text": [
      "\r",
      "Epoch 162/600:  27%|██▋       | 161/600 [11:14<30:20,  4.15s/it, v_num=bl_1, total_loss_train=917, kl_local_train=98.5, tardis_age_0_train=7.25, tardis_integration_donor_0_train=8.48]"
     ]
    },
    {
     "name": "stdout",
     "output_type": "stream",
     "text": [
      "\r",
      "Epoch 162/600:  27%|██▋       | 162/600 [11:19<30:12,  4.14s/it, v_num=bl_1, total_loss_train=917, kl_local_train=98.5, tardis_age_0_train=7.25, tardis_integration_donor_0_train=8.48]"
     ]
    },
    {
     "name": "stdout",
     "output_type": "stream",
     "text": [
      "\r",
      "Epoch 162/600:  27%|██▋       | 162/600 [11:19<30:12,  4.14s/it, v_num=bl_1, total_loss_train=917, kl_local_train=97.3, tardis_age_0_train=7.22, tardis_integration_donor_0_train=8.6] "
     ]
    },
    {
     "name": "stdout",
     "output_type": "stream",
     "text": [
      "\r",
      "Epoch 163/600:  27%|██▋       | 162/600 [11:19<30:12,  4.14s/it, v_num=bl_1, total_loss_train=917, kl_local_train=97.3, tardis_age_0_train=7.22, tardis_integration_donor_0_train=8.6]"
     ]
    },
    {
     "name": "stdout",
     "output_type": "stream",
     "text": [
      "\r",
      "Epoch 163/600:  27%|██▋       | 163/600 [11:23<30:04,  4.13s/it, v_num=bl_1, total_loss_train=917, kl_local_train=97.3, tardis_age_0_train=7.22, tardis_integration_donor_0_train=8.6]"
     ]
    },
    {
     "name": "stdout",
     "output_type": "stream",
     "text": [
      "\r",
      "Epoch 163/600:  27%|██▋       | 163/600 [11:23<30:04,  4.13s/it, v_num=bl_1, total_loss_train=917, kl_local_train=96.6, tardis_age_0_train=7.35, tardis_integration_donor_0_train=8.65]"
     ]
    },
    {
     "name": "stdout",
     "output_type": "stream",
     "text": [
      "\r",
      "Epoch 164/600:  27%|██▋       | 163/600 [11:23<30:04,  4.13s/it, v_num=bl_1, total_loss_train=917, kl_local_train=96.6, tardis_age_0_train=7.35, tardis_integration_donor_0_train=8.65]"
     ]
    },
    {
     "name": "stdout",
     "output_type": "stream",
     "text": [
      "\r",
      "Epoch 164/600:  27%|██▋       | 164/600 [11:27<29:58,  4.12s/it, v_num=bl_1, total_loss_train=917, kl_local_train=96.6, tardis_age_0_train=7.35, tardis_integration_donor_0_train=8.65]"
     ]
    },
    {
     "name": "stdout",
     "output_type": "stream",
     "text": [
      "\r",
      "Epoch 164/600:  27%|██▋       | 164/600 [11:27<29:58,  4.12s/it, v_num=bl_1, total_loss_train=917, kl_local_train=97.5, tardis_age_0_train=7.35, tardis_integration_donor_0_train=8.58]"
     ]
    },
    {
     "name": "stdout",
     "output_type": "stream",
     "text": [
      "\r",
      "Epoch 165/600:  27%|██▋       | 164/600 [11:27<29:58,  4.12s/it, v_num=bl_1, total_loss_train=917, kl_local_train=97.5, tardis_age_0_train=7.35, tardis_integration_donor_0_train=8.58]"
     ]
    },
    {
     "name": "stdout",
     "output_type": "stream",
     "text": [
      "\r",
      "Epoch 165/600:  28%|██▊       | 165/600 [11:31<30:05,  4.15s/it, v_num=bl_1, total_loss_train=917, kl_local_train=97.5, tardis_age_0_train=7.35, tardis_integration_donor_0_train=8.58]"
     ]
    },
    {
     "name": "stdout",
     "output_type": "stream",
     "text": [
      "\r",
      "Epoch 165/600:  28%|██▊       | 165/600 [11:31<30:05,  4.15s/it, v_num=bl_1, total_loss_train=916, kl_local_train=97.8, tardis_age_0_train=7.26, tardis_integration_donor_0_train=8.59]"
     ]
    },
    {
     "name": "stdout",
     "output_type": "stream",
     "text": [
      "\r",
      "Epoch 166/600:  28%|██▊       | 165/600 [11:31<30:05,  4.15s/it, v_num=bl_1, total_loss_train=916, kl_local_train=97.8, tardis_age_0_train=7.26, tardis_integration_donor_0_train=8.59]"
     ]
    },
    {
     "name": "stdout",
     "output_type": "stream",
     "text": [
      "\r",
      "Epoch 166/600:  28%|██▊       | 166/600 [11:35<30:16,  4.18s/it, v_num=bl_1, total_loss_train=916, kl_local_train=97.8, tardis_age_0_train=7.26, tardis_integration_donor_0_train=8.59]"
     ]
    },
    {
     "name": "stdout",
     "output_type": "stream",
     "text": [
      "\r",
      "Epoch 166/600:  28%|██▊       | 166/600 [11:35<30:16,  4.18s/it, v_num=bl_1, total_loss_train=916, kl_local_train=97.5, tardis_age_0_train=7.33, tardis_integration_donor_0_train=8.56]"
     ]
    },
    {
     "name": "stdout",
     "output_type": "stream",
     "text": [
      "\r",
      "Epoch 167/600:  28%|██▊       | 166/600 [11:35<30:16,  4.18s/it, v_num=bl_1, total_loss_train=916, kl_local_train=97.5, tardis_age_0_train=7.33, tardis_integration_donor_0_train=8.56]"
     ]
    },
    {
     "name": "stdout",
     "output_type": "stream",
     "text": [
      "\r",
      "Epoch 167/600:  28%|██▊       | 167/600 [11:40<30:19,  4.20s/it, v_num=bl_1, total_loss_train=916, kl_local_train=97.5, tardis_age_0_train=7.33, tardis_integration_donor_0_train=8.56]"
     ]
    },
    {
     "name": "stdout",
     "output_type": "stream",
     "text": [
      "\r",
      "Epoch 167/600:  28%|██▊       | 167/600 [11:40<30:19,  4.20s/it, v_num=bl_1, total_loss_train=916, kl_local_train=96.4, tardis_age_0_train=7.3, tardis_integration_donor_0_train=8.52] "
     ]
    },
    {
     "name": "stdout",
     "output_type": "stream",
     "text": [
      "\r",
      "Epoch 168/600:  28%|██▊       | 167/600 [11:40<30:19,  4.20s/it, v_num=bl_1, total_loss_train=916, kl_local_train=96.4, tardis_age_0_train=7.3, tardis_integration_donor_0_train=8.52]"
     ]
    },
    {
     "name": "stdout",
     "output_type": "stream",
     "text": [
      "\r",
      "Epoch 168/600:  28%|██▊       | 168/600 [11:44<30:22,  4.22s/it, v_num=bl_1, total_loss_train=916, kl_local_train=96.4, tardis_age_0_train=7.3, tardis_integration_donor_0_train=8.52]"
     ]
    },
    {
     "name": "stdout",
     "output_type": "stream",
     "text": [
      "\r",
      "Epoch 168/600:  28%|██▊       | 168/600 [11:44<30:22,  4.22s/it, v_num=bl_1, total_loss_train=915, kl_local_train=96.1, tardis_age_0_train=7.26, tardis_integration_donor_0_train=8.55]"
     ]
    },
    {
     "name": "stdout",
     "output_type": "stream",
     "text": [
      "\r",
      "Epoch 169/600:  28%|██▊       | 168/600 [11:44<30:22,  4.22s/it, v_num=bl_1, total_loss_train=915, kl_local_train=96.1, tardis_age_0_train=7.26, tardis_integration_donor_0_train=8.55]"
     ]
    },
    {
     "name": "stdout",
     "output_type": "stream",
     "text": [
      "\r",
      "Epoch 169/600:  28%|██▊       | 169/600 [11:48<30:20,  4.22s/it, v_num=bl_1, total_loss_train=915, kl_local_train=96.1, tardis_age_0_train=7.26, tardis_integration_donor_0_train=8.55]"
     ]
    },
    {
     "name": "stdout",
     "output_type": "stream",
     "text": [
      "\r",
      "Epoch 169/600:  28%|██▊       | 169/600 [11:48<30:20,  4.22s/it, v_num=bl_1, total_loss_train=916, kl_local_train=95.3, tardis_age_0_train=7.5, tardis_integration_donor_0_train=8.65] "
     ]
    },
    {
     "name": "stdout",
     "output_type": "stream",
     "text": [
      "\r",
      "Epoch 170/600:  28%|██▊       | 169/600 [11:48<30:20,  4.22s/it, v_num=bl_1, total_loss_train=916, kl_local_train=95.3, tardis_age_0_train=7.5, tardis_integration_donor_0_train=8.65]"
     ]
    },
    {
     "name": "stdout",
     "output_type": "stream",
     "text": [
      "\r",
      "Epoch 170/600:  28%|██▊       | 170/600 [11:52<30:16,  4.23s/it, v_num=bl_1, total_loss_train=916, kl_local_train=95.3, tardis_age_0_train=7.5, tardis_integration_donor_0_train=8.65]"
     ]
    },
    {
     "name": "stdout",
     "output_type": "stream",
     "text": [
      "\r",
      "Epoch 170/600:  28%|██▊       | 170/600 [11:52<30:16,  4.23s/it, v_num=bl_1, total_loss_train=916, kl_local_train=95.7, tardis_age_0_train=7.38, tardis_integration_donor_0_train=8.69]"
     ]
    },
    {
     "name": "stdout",
     "output_type": "stream",
     "text": [
      "\r",
      "Epoch 171/600:  28%|██▊       | 170/600 [11:52<30:16,  4.23s/it, v_num=bl_1, total_loss_train=916, kl_local_train=95.7, tardis_age_0_train=7.38, tardis_integration_donor_0_train=8.69]"
     ]
    },
    {
     "name": "stdout",
     "output_type": "stream",
     "text": [
      "\r",
      "Epoch 171/600:  28%|██▊       | 171/600 [11:56<30:14,  4.23s/it, v_num=bl_1, total_loss_train=916, kl_local_train=95.7, tardis_age_0_train=7.38, tardis_integration_donor_0_train=8.69]"
     ]
    },
    {
     "name": "stdout",
     "output_type": "stream",
     "text": [
      "\r",
      "Epoch 171/600:  28%|██▊       | 171/600 [11:56<30:14,  4.23s/it, v_num=bl_1, total_loss_train=915, kl_local_train=95.7, tardis_age_0_train=7.3, tardis_integration_donor_0_train=8.68] "
     ]
    },
    {
     "name": "stdout",
     "output_type": "stream",
     "text": [
      "\r",
      "Epoch 172/600:  28%|██▊       | 171/600 [11:56<30:14,  4.23s/it, v_num=bl_1, total_loss_train=915, kl_local_train=95.7, tardis_age_0_train=7.3, tardis_integration_donor_0_train=8.68]"
     ]
    },
    {
     "name": "stdout",
     "output_type": "stream",
     "text": [
      "\r",
      "Epoch 172/600:  29%|██▊       | 172/600 [12:01<30:07,  4.22s/it, v_num=bl_1, total_loss_train=915, kl_local_train=95.7, tardis_age_0_train=7.3, tardis_integration_donor_0_train=8.68]"
     ]
    },
    {
     "name": "stdout",
     "output_type": "stream",
     "text": [
      "\r",
      "Epoch 172/600:  29%|██▊       | 172/600 [12:01<30:07,  4.22s/it, v_num=bl_1, total_loss_train=915, kl_local_train=94.5, tardis_age_0_train=7.35, tardis_integration_donor_0_train=8.66]"
     ]
    },
    {
     "name": "stdout",
     "output_type": "stream",
     "text": [
      "\r",
      "Epoch 173/600:  29%|██▊       | 172/600 [12:01<30:07,  4.22s/it, v_num=bl_1, total_loss_train=915, kl_local_train=94.5, tardis_age_0_train=7.35, tardis_integration_donor_0_train=8.66]"
     ]
    },
    {
     "name": "stdout",
     "output_type": "stream",
     "text": [
      "\r",
      "Epoch 173/600:  29%|██▉       | 173/600 [12:05<30:07,  4.23s/it, v_num=bl_1, total_loss_train=915, kl_local_train=94.5, tardis_age_0_train=7.35, tardis_integration_donor_0_train=8.66]"
     ]
    },
    {
     "name": "stdout",
     "output_type": "stream",
     "text": [
      "\r",
      "Epoch 173/600:  29%|██▉       | 173/600 [12:05<30:07,  4.23s/it, v_num=bl_1, total_loss_train=915, kl_local_train=93.6, tardis_age_0_train=7.41, tardis_integration_donor_0_train=8.68]"
     ]
    },
    {
     "name": "stdout",
     "output_type": "stream",
     "text": [
      "\r",
      "Epoch 174/600:  29%|██▉       | 173/600 [12:05<30:07,  4.23s/it, v_num=bl_1, total_loss_train=915, kl_local_train=93.6, tardis_age_0_train=7.41, tardis_integration_donor_0_train=8.68]"
     ]
    },
    {
     "name": "stdout",
     "output_type": "stream",
     "text": [
      "\r",
      "Epoch 174/600:  29%|██▉       | 174/600 [12:09<30:05,  4.24s/it, v_num=bl_1, total_loss_train=915, kl_local_train=93.6, tardis_age_0_train=7.41, tardis_integration_donor_0_train=8.68]"
     ]
    },
    {
     "name": "stdout",
     "output_type": "stream",
     "text": [
      "\r",
      "Epoch 174/600:  29%|██▉       | 174/600 [12:09<30:05,  4.24s/it, v_num=bl_1, total_loss_train=915, kl_local_train=93.8, tardis_age_0_train=7.45, tardis_integration_donor_0_train=8.82]"
     ]
    },
    {
     "name": "stdout",
     "output_type": "stream",
     "text": [
      "\r",
      "Epoch 175/600:  29%|██▉       | 174/600 [12:09<30:05,  4.24s/it, v_num=bl_1, total_loss_train=915, kl_local_train=93.8, tardis_age_0_train=7.45, tardis_integration_donor_0_train=8.82]"
     ]
    },
    {
     "name": "stdout",
     "output_type": "stream",
     "text": [
      "\r",
      "Epoch 175/600:  29%|██▉       | 175/600 [12:13<29:58,  4.23s/it, v_num=bl_1, total_loss_train=915, kl_local_train=93.8, tardis_age_0_train=7.45, tardis_integration_donor_0_train=8.82]"
     ]
    },
    {
     "name": "stdout",
     "output_type": "stream",
     "text": [
      "\r",
      "Epoch 175/600:  29%|██▉       | 175/600 [12:13<29:58,  4.23s/it, v_num=bl_1, total_loss_train=914, kl_local_train=94.8, tardis_age_0_train=7.25, tardis_integration_donor_0_train=8.57]"
     ]
    },
    {
     "name": "stdout",
     "output_type": "stream",
     "text": [
      "\r",
      "Epoch 176/600:  29%|██▉       | 175/600 [12:13<29:58,  4.23s/it, v_num=bl_1, total_loss_train=914, kl_local_train=94.8, tardis_age_0_train=7.25, tardis_integration_donor_0_train=8.57]"
     ]
    },
    {
     "name": "stdout",
     "output_type": "stream",
     "text": [
      "\r",
      "Epoch 176/600:  29%|██▉       | 176/600 [12:18<29:42,  4.20s/it, v_num=bl_1, total_loss_train=914, kl_local_train=94.8, tardis_age_0_train=7.25, tardis_integration_donor_0_train=8.57]"
     ]
    },
    {
     "name": "stdout",
     "output_type": "stream",
     "text": [
      "\r",
      "Epoch 176/600:  29%|██▉       | 176/600 [12:18<29:42,  4.20s/it, v_num=bl_1, total_loss_train=914, kl_local_train=93.7, tardis_age_0_train=7.46, tardis_integration_donor_0_train=8.74]"
     ]
    },
    {
     "name": "stdout",
     "output_type": "stream",
     "text": [
      "\r",
      "Epoch 177/600:  29%|██▉       | 176/600 [12:18<29:42,  4.20s/it, v_num=bl_1, total_loss_train=914, kl_local_train=93.7, tardis_age_0_train=7.46, tardis_integration_donor_0_train=8.74]"
     ]
    },
    {
     "name": "stdout",
     "output_type": "stream",
     "text": [
      "\r",
      "Epoch 177/600:  30%|██▉       | 177/600 [12:22<29:35,  4.20s/it, v_num=bl_1, total_loss_train=914, kl_local_train=93.7, tardis_age_0_train=7.46, tardis_integration_donor_0_train=8.74]"
     ]
    },
    {
     "name": "stdout",
     "output_type": "stream",
     "text": [
      "\r",
      "Epoch 177/600:  30%|██▉       | 177/600 [12:22<29:35,  4.20s/it, v_num=bl_1, total_loss_train=914, kl_local_train=93, tardis_age_0_train=7.42, tardis_integration_donor_0_train=8.81]  "
     ]
    },
    {
     "name": "stdout",
     "output_type": "stream",
     "text": [
      "\r",
      "Epoch 178/600:  30%|██▉       | 177/600 [12:22<29:35,  4.20s/it, v_num=bl_1, total_loss_train=914, kl_local_train=93, tardis_age_0_train=7.42, tardis_integration_donor_0_train=8.81]"
     ]
    },
    {
     "name": "stdout",
     "output_type": "stream",
     "text": [
      "\r",
      "Epoch 178/600:  30%|██▉       | 178/600 [12:26<29:21,  4.17s/it, v_num=bl_1, total_loss_train=914, kl_local_train=93, tardis_age_0_train=7.42, tardis_integration_donor_0_train=8.81]"
     ]
    },
    {
     "name": "stdout",
     "output_type": "stream",
     "text": [
      "\r",
      "Epoch 178/600:  30%|██▉       | 178/600 [12:26<29:21,  4.17s/it, v_num=bl_1, total_loss_train=914, kl_local_train=93.3, tardis_age_0_train=7.48, tardis_integration_donor_0_train=8.85]"
     ]
    },
    {
     "name": "stdout",
     "output_type": "stream",
     "text": [
      "\r",
      "Epoch 179/600:  30%|██▉       | 178/600 [12:26<29:21,  4.17s/it, v_num=bl_1, total_loss_train=914, kl_local_train=93.3, tardis_age_0_train=7.48, tardis_integration_donor_0_train=8.85]"
     ]
    },
    {
     "name": "stdout",
     "output_type": "stream",
     "text": [
      "\r",
      "Epoch 179/600:  30%|██▉       | 179/600 [12:30<29:16,  4.17s/it, v_num=bl_1, total_loss_train=914, kl_local_train=93.3, tardis_age_0_train=7.48, tardis_integration_donor_0_train=8.85]"
     ]
    },
    {
     "name": "stdout",
     "output_type": "stream",
     "text": [
      "\r",
      "Epoch 179/600:  30%|██▉       | 179/600 [12:30<29:16,  4.17s/it, v_num=bl_1, total_loss_train=914, kl_local_train=93.1, tardis_age_0_train=7.47, tardis_integration_donor_0_train=8.72]"
     ]
    },
    {
     "name": "stdout",
     "output_type": "stream",
     "text": [
      "\r",
      "Epoch 180/600:  30%|██▉       | 179/600 [12:30<29:16,  4.17s/it, v_num=bl_1, total_loss_train=914, kl_local_train=93.1, tardis_age_0_train=7.47, tardis_integration_donor_0_train=8.72]"
     ]
    },
    {
     "name": "stdout",
     "output_type": "stream",
     "text": [
      "\r",
      "Epoch 180/600:  30%|███       | 180/600 [12:34<29:06,  4.16s/it, v_num=bl_1, total_loss_train=914, kl_local_train=93.1, tardis_age_0_train=7.47, tardis_integration_donor_0_train=8.72]"
     ]
    },
    {
     "name": "stdout",
     "output_type": "stream",
     "text": [
      "\r",
      "Epoch 180/600:  30%|███       | 180/600 [12:34<29:06,  4.16s/it, v_num=bl_1, total_loss_train=914, kl_local_train=91.9, tardis_age_0_train=7.63, tardis_integration_donor_0_train=8.75]"
     ]
    },
    {
     "name": "stdout",
     "output_type": "stream",
     "text": [
      "\r",
      "Epoch 181/600:  30%|███       | 180/600 [12:34<29:06,  4.16s/it, v_num=bl_1, total_loss_train=914, kl_local_train=91.9, tardis_age_0_train=7.63, tardis_integration_donor_0_train=8.75]"
     ]
    },
    {
     "name": "stdout",
     "output_type": "stream",
     "text": [
      "\r",
      "Epoch 181/600:  30%|███       | 181/600 [12:38<28:56,  4.14s/it, v_num=bl_1, total_loss_train=914, kl_local_train=91.9, tardis_age_0_train=7.63, tardis_integration_donor_0_train=8.75]"
     ]
    },
    {
     "name": "stdout",
     "output_type": "stream",
     "text": [
      "\r",
      "Epoch 181/600:  30%|███       | 181/600 [12:38<28:56,  4.14s/it, v_num=bl_1, total_loss_train=914, kl_local_train=91.8, tardis_age_0_train=7.58, tardis_integration_donor_0_train=8.97]"
     ]
    },
    {
     "name": "stdout",
     "output_type": "stream",
     "text": [
      "\r",
      "Epoch 182/600:  30%|███       | 181/600 [12:38<28:56,  4.14s/it, v_num=bl_1, total_loss_train=914, kl_local_train=91.8, tardis_age_0_train=7.58, tardis_integration_donor_0_train=8.97]"
     ]
    },
    {
     "name": "stdout",
     "output_type": "stream",
     "text": [
      "\r",
      "Epoch 182/600:  30%|███       | 182/600 [12:42<28:54,  4.15s/it, v_num=bl_1, total_loss_train=914, kl_local_train=91.8, tardis_age_0_train=7.58, tardis_integration_donor_0_train=8.97]"
     ]
    },
    {
     "name": "stdout",
     "output_type": "stream",
     "text": [
      "\r",
      "Epoch 182/600:  30%|███       | 182/600 [12:42<28:54,  4.15s/it, v_num=bl_1, total_loss_train=913, kl_local_train=91, tardis_age_0_train=7.61, tardis_integration_donor_0_train=8.85]  "
     ]
    },
    {
     "name": "stdout",
     "output_type": "stream",
     "text": [
      "\r",
      "Epoch 183/600:  30%|███       | 182/600 [12:42<28:54,  4.15s/it, v_num=bl_1, total_loss_train=913, kl_local_train=91, tardis_age_0_train=7.61, tardis_integration_donor_0_train=8.85]"
     ]
    },
    {
     "name": "stdout",
     "output_type": "stream",
     "text": [
      "\r",
      "Epoch 183/600:  30%|███       | 183/600 [12:47<28:47,  4.14s/it, v_num=bl_1, total_loss_train=913, kl_local_train=91, tardis_age_0_train=7.61, tardis_integration_donor_0_train=8.85]"
     ]
    },
    {
     "name": "stdout",
     "output_type": "stream",
     "text": [
      "\r",
      "Epoch 183/600:  30%|███       | 183/600 [12:47<28:47,  4.14s/it, v_num=bl_1, total_loss_train=913, kl_local_train=90.2, tardis_age_0_train=7.7, tardis_integration_donor_0_train=9]  "
     ]
    },
    {
     "name": "stdout",
     "output_type": "stream",
     "text": [
      "\r",
      "Epoch 184/600:  30%|███       | 183/600 [12:47<28:47,  4.14s/it, v_num=bl_1, total_loss_train=913, kl_local_train=90.2, tardis_age_0_train=7.7, tardis_integration_donor_0_train=9]"
     ]
    },
    {
     "name": "stdout",
     "output_type": "stream",
     "text": [
      "\r",
      "Epoch 184/600:  31%|███       | 184/600 [12:51<28:46,  4.15s/it, v_num=bl_1, total_loss_train=913, kl_local_train=90.2, tardis_age_0_train=7.7, tardis_integration_donor_0_train=9]"
     ]
    },
    {
     "name": "stdout",
     "output_type": "stream",
     "text": [
      "\r",
      "Epoch 184/600:  31%|███       | 184/600 [12:51<28:46,  4.15s/it, v_num=bl_1, total_loss_train=913, kl_local_train=90.4, tardis_age_0_train=7.78, tardis_integration_donor_0_train=8.93]"
     ]
    },
    {
     "name": "stdout",
     "output_type": "stream",
     "text": [
      "\r",
      "Epoch 185/600:  31%|███       | 184/600 [12:51<28:46,  4.15s/it, v_num=bl_1, total_loss_train=913, kl_local_train=90.4, tardis_age_0_train=7.78, tardis_integration_donor_0_train=8.93]"
     ]
    },
    {
     "name": "stdout",
     "output_type": "stream",
     "text": [
      "\r",
      "Epoch 185/600:  31%|███       | 185/600 [12:55<28:36,  4.14s/it, v_num=bl_1, total_loss_train=913, kl_local_train=90.4, tardis_age_0_train=7.78, tardis_integration_donor_0_train=8.93]"
     ]
    },
    {
     "name": "stdout",
     "output_type": "stream",
     "text": [
      "\r",
      "Epoch 185/600:  31%|███       | 185/600 [12:55<28:36,  4.14s/it, v_num=bl_1, total_loss_train=912, kl_local_train=89.7, tardis_age_0_train=7.74, tardis_integration_donor_0_train=8.99]"
     ]
    },
    {
     "name": "stdout",
     "output_type": "stream",
     "text": [
      "\r",
      "Epoch 186/600:  31%|███       | 185/600 [12:55<28:36,  4.14s/it, v_num=bl_1, total_loss_train=912, kl_local_train=89.7, tardis_age_0_train=7.74, tardis_integration_donor_0_train=8.99]"
     ]
    },
    {
     "name": "stdout",
     "output_type": "stream",
     "text": [
      "\r",
      "Epoch 186/600:  31%|███       | 186/600 [12:59<28:58,  4.20s/it, v_num=bl_1, total_loss_train=912, kl_local_train=89.7, tardis_age_0_train=7.74, tardis_integration_donor_0_train=8.99]"
     ]
    },
    {
     "name": "stdout",
     "output_type": "stream",
     "text": [
      "\r",
      "Epoch 186/600:  31%|███       | 186/600 [12:59<28:58,  4.20s/it, v_num=bl_1, total_loss_train=912, kl_local_train=88.6, tardis_age_0_train=7.89, tardis_integration_donor_0_train=9.1] "
     ]
    },
    {
     "name": "stdout",
     "output_type": "stream",
     "text": [
      "\r",
      "Epoch 187/600:  31%|███       | 186/600 [12:59<28:58,  4.20s/it, v_num=bl_1, total_loss_train=912, kl_local_train=88.6, tardis_age_0_train=7.89, tardis_integration_donor_0_train=9.1]"
     ]
    },
    {
     "name": "stdout",
     "output_type": "stream",
     "text": [
      "\r",
      "Epoch 187/600:  31%|███       | 187/600 [13:04<29:21,  4.26s/it, v_num=bl_1, total_loss_train=912, kl_local_train=88.6, tardis_age_0_train=7.89, tardis_integration_donor_0_train=9.1]"
     ]
    },
    {
     "name": "stdout",
     "output_type": "stream",
     "text": [
      "\r",
      "Epoch 187/600:  31%|███       | 187/600 [13:04<29:21,  4.26s/it, v_num=bl_1, total_loss_train=912, kl_local_train=88.7, tardis_age_0_train=7.71, tardis_integration_donor_0_train=9.03]"
     ]
    },
    {
     "name": "stdout",
     "output_type": "stream",
     "text": [
      "\r",
      "Epoch 188/600:  31%|███       | 187/600 [13:04<29:21,  4.26s/it, v_num=bl_1, total_loss_train=912, kl_local_train=88.7, tardis_age_0_train=7.71, tardis_integration_donor_0_train=9.03]"
     ]
    },
    {
     "name": "stdout",
     "output_type": "stream",
     "text": [
      "\r",
      "Epoch 188/600:  31%|███▏      | 188/600 [13:08<29:34,  4.31s/it, v_num=bl_1, total_loss_train=912, kl_local_train=88.7, tardis_age_0_train=7.71, tardis_integration_donor_0_train=9.03]"
     ]
    },
    {
     "name": "stdout",
     "output_type": "stream",
     "text": [
      "\r",
      "Epoch 188/600:  31%|███▏      | 188/600 [13:08<29:34,  4.31s/it, v_num=bl_1, total_loss_train=911, kl_local_train=89.2, tardis_age_0_train=7.68, tardis_integration_donor_0_train=9.06]"
     ]
    },
    {
     "name": "stdout",
     "output_type": "stream",
     "text": [
      "\r",
      "Epoch 189/600:  31%|███▏      | 188/600 [13:08<29:34,  4.31s/it, v_num=bl_1, total_loss_train=911, kl_local_train=89.2, tardis_age_0_train=7.68, tardis_integration_donor_0_train=9.06]"
     ]
    },
    {
     "name": "stdout",
     "output_type": "stream",
     "text": [
      "\r",
      "Epoch 189/600:  32%|███▏      | 189/600 [13:13<30:34,  4.46s/it, v_num=bl_1, total_loss_train=911, kl_local_train=89.2, tardis_age_0_train=7.68, tardis_integration_donor_0_train=9.06]"
     ]
    },
    {
     "name": "stdout",
     "output_type": "stream",
     "text": [
      "\r",
      "Epoch 189/600:  32%|███▏      | 189/600 [13:13<30:34,  4.46s/it, v_num=bl_1, total_loss_train=911, kl_local_train=88.3, tardis_age_0_train=7.81, tardis_integration_donor_0_train=9.16]"
     ]
    },
    {
     "name": "stdout",
     "output_type": "stream",
     "text": [
      "\r",
      "Epoch 190/600:  32%|███▏      | 189/600 [13:13<30:34,  4.46s/it, v_num=bl_1, total_loss_train=911, kl_local_train=88.3, tardis_age_0_train=7.81, tardis_integration_donor_0_train=9.16]"
     ]
    },
    {
     "name": "stdout",
     "output_type": "stream",
     "text": [
      "\r",
      "Epoch 190/600:  32%|███▏      | 190/600 [13:17<30:25,  4.45s/it, v_num=bl_1, total_loss_train=911, kl_local_train=88.3, tardis_age_0_train=7.81, tardis_integration_donor_0_train=9.16]"
     ]
    },
    {
     "name": "stdout",
     "output_type": "stream",
     "text": [
      "\r",
      "Epoch 190/600:  32%|███▏      | 190/600 [13:17<30:25,  4.45s/it, v_num=bl_1, total_loss_train=911, kl_local_train=88.3, tardis_age_0_train=7.68, tardis_integration_donor_0_train=8.96]"
     ]
    },
    {
     "name": "stdout",
     "output_type": "stream",
     "text": [
      "\r",
      "Epoch 191/600:  32%|███▏      | 190/600 [13:17<30:25,  4.45s/it, v_num=bl_1, total_loss_train=911, kl_local_train=88.3, tardis_age_0_train=7.68, tardis_integration_donor_0_train=8.96]"
     ]
    },
    {
     "name": "stdout",
     "output_type": "stream",
     "text": [
      "\r",
      "Epoch 191/600:  32%|███▏      | 191/600 [13:22<30:13,  4.43s/it, v_num=bl_1, total_loss_train=911, kl_local_train=88.3, tardis_age_0_train=7.68, tardis_integration_donor_0_train=8.96]"
     ]
    },
    {
     "name": "stdout",
     "output_type": "stream",
     "text": [
      "\r",
      "Epoch 191/600:  32%|███▏      | 191/600 [13:22<30:13,  4.43s/it, v_num=bl_1, total_loss_train=911, kl_local_train=88.6, tardis_age_0_train=7.75, tardis_integration_donor_0_train=9.05]"
     ]
    },
    {
     "name": "stdout",
     "output_type": "stream",
     "text": [
      "\r",
      "Epoch 192/600:  32%|███▏      | 191/600 [13:22<30:13,  4.43s/it, v_num=bl_1, total_loss_train=911, kl_local_train=88.6, tardis_age_0_train=7.75, tardis_integration_donor_0_train=9.05]"
     ]
    },
    {
     "name": "stdout",
     "output_type": "stream",
     "text": [
      "\r",
      "Epoch 192/600:  32%|███▏      | 192/600 [13:26<30:40,  4.51s/it, v_num=bl_1, total_loss_train=911, kl_local_train=88.6, tardis_age_0_train=7.75, tardis_integration_donor_0_train=9.05]"
     ]
    },
    {
     "name": "stdout",
     "output_type": "stream",
     "text": [
      "\r",
      "Epoch 192/600:  32%|███▏      | 192/600 [13:26<30:40,  4.51s/it, v_num=bl_1, total_loss_train=911, kl_local_train=87.6, tardis_age_0_train=7.79, tardis_integration_donor_0_train=9.04]"
     ]
    },
    {
     "name": "stdout",
     "output_type": "stream",
     "text": [
      "\r",
      "Epoch 193/600:  32%|███▏      | 192/600 [13:26<30:40,  4.51s/it, v_num=bl_1, total_loss_train=911, kl_local_train=87.6, tardis_age_0_train=7.79, tardis_integration_donor_0_train=9.04]"
     ]
    },
    {
     "name": "stdout",
     "output_type": "stream",
     "text": [
      "\r",
      "Epoch 193/600:  32%|███▏      | 193/600 [13:31<30:23,  4.48s/it, v_num=bl_1, total_loss_train=911, kl_local_train=87.6, tardis_age_0_train=7.79, tardis_integration_donor_0_train=9.04]"
     ]
    },
    {
     "name": "stdout",
     "output_type": "stream",
     "text": [
      "\r",
      "Epoch 193/600:  32%|███▏      | 193/600 [13:31<30:23,  4.48s/it, v_num=bl_1, total_loss_train=911, kl_local_train=86.8, tardis_age_0_train=7.99, tardis_integration_donor_0_train=9.14]"
     ]
    },
    {
     "name": "stdout",
     "output_type": "stream",
     "text": [
      "\r",
      "Epoch 194/600:  32%|███▏      | 193/600 [13:31<30:23,  4.48s/it, v_num=bl_1, total_loss_train=911, kl_local_train=86.8, tardis_age_0_train=7.99, tardis_integration_donor_0_train=9.14]"
     ]
    },
    {
     "name": "stdout",
     "output_type": "stream",
     "text": [
      "\r",
      "Epoch 194/600:  32%|███▏      | 194/600 [13:35<30:08,  4.46s/it, v_num=bl_1, total_loss_train=911, kl_local_train=86.8, tardis_age_0_train=7.99, tardis_integration_donor_0_train=9.14]"
     ]
    },
    {
     "name": "stdout",
     "output_type": "stream",
     "text": [
      "\r",
      "Epoch 194/600:  32%|███▏      | 194/600 [13:35<30:08,  4.46s/it, v_num=bl_1, total_loss_train=911, kl_local_train=87.2, tardis_age_0_train=7.85, tardis_integration_donor_0_train=9.22]"
     ]
    },
    {
     "name": "stdout",
     "output_type": "stream",
     "text": [
      "\r",
      "Epoch 195/600:  32%|███▏      | 194/600 [13:35<30:08,  4.46s/it, v_num=bl_1, total_loss_train=911, kl_local_train=87.2, tardis_age_0_train=7.85, tardis_integration_donor_0_train=9.22]"
     ]
    },
    {
     "name": "stdout",
     "output_type": "stream",
     "text": [
      "\r",
      "Epoch 195/600:  32%|███▎      | 195/600 [13:40<30:29,  4.52s/it, v_num=bl_1, total_loss_train=911, kl_local_train=87.2, tardis_age_0_train=7.85, tardis_integration_donor_0_train=9.22]"
     ]
    },
    {
     "name": "stdout",
     "output_type": "stream",
     "text": [
      "\r",
      "Epoch 195/600:  32%|███▎      | 195/600 [13:40<30:29,  4.52s/it, v_num=bl_1, total_loss_train=911, kl_local_train=87, tardis_age_0_train=7.99, tardis_integration_donor_0_train=9.14]  "
     ]
    },
    {
     "name": "stdout",
     "output_type": "stream",
     "text": [
      "\r",
      "Epoch 196/600:  32%|███▎      | 195/600 [13:40<30:29,  4.52s/it, v_num=bl_1, total_loss_train=911, kl_local_train=87, tardis_age_0_train=7.99, tardis_integration_donor_0_train=9.14]"
     ]
    },
    {
     "name": "stdout",
     "output_type": "stream",
     "text": [
      "\r",
      "Epoch 196/600:  33%|███▎      | 196/600 [13:44<30:12,  4.49s/it, v_num=bl_1, total_loss_train=911, kl_local_train=87, tardis_age_0_train=7.99, tardis_integration_donor_0_train=9.14]"
     ]
    },
    {
     "name": "stdout",
     "output_type": "stream",
     "text": [
      "\r",
      "Epoch 196/600:  33%|███▎      | 196/600 [13:44<30:12,  4.49s/it, v_num=bl_1, total_loss_train=910, kl_local_train=86.5, tardis_age_0_train=7.92, tardis_integration_donor_0_train=9.31]"
     ]
    },
    {
     "name": "stdout",
     "output_type": "stream",
     "text": [
      "\r",
      "Epoch 197/600:  33%|███▎      | 196/600 [13:44<30:12,  4.49s/it, v_num=bl_1, total_loss_train=910, kl_local_train=86.5, tardis_age_0_train=7.92, tardis_integration_donor_0_train=9.31]"
     ]
    },
    {
     "name": "stdout",
     "output_type": "stream",
     "text": [
      "\r",
      "Epoch 197/600:  33%|███▎      | 197/600 [13:49<29:59,  4.47s/it, v_num=bl_1, total_loss_train=910, kl_local_train=86.5, tardis_age_0_train=7.92, tardis_integration_donor_0_train=9.31]"
     ]
    },
    {
     "name": "stdout",
     "output_type": "stream",
     "text": [
      "\r",
      "Epoch 197/600:  33%|███▎      | 197/600 [13:49<29:59,  4.47s/it, v_num=bl_1, total_loss_train=910, kl_local_train=86.6, tardis_age_0_train=7.96, tardis_integration_donor_0_train=9.21]"
     ]
    },
    {
     "name": "stdout",
     "output_type": "stream",
     "text": [
      "\r",
      "Epoch 198/600:  33%|███▎      | 197/600 [13:49<29:59,  4.47s/it, v_num=bl_1, total_loss_train=910, kl_local_train=86.6, tardis_age_0_train=7.96, tardis_integration_donor_0_train=9.21]"
     ]
    },
    {
     "name": "stdout",
     "output_type": "stream",
     "text": [
      "\r",
      "Epoch 198/600:  33%|███▎      | 198/600 [13:53<30:20,  4.53s/it, v_num=bl_1, total_loss_train=910, kl_local_train=86.6, tardis_age_0_train=7.96, tardis_integration_donor_0_train=9.21]"
     ]
    },
    {
     "name": "stdout",
     "output_type": "stream",
     "text": [
      "\r",
      "Epoch 198/600:  33%|███▎      | 198/600 [13:53<30:20,  4.53s/it, v_num=bl_1, total_loss_train=910, kl_local_train=86, tardis_age_0_train=8.04, tardis_integration_donor_0_train=9.3]   "
     ]
    },
    {
     "name": "stdout",
     "output_type": "stream",
     "text": [
      "\r",
      "Epoch 199/600:  33%|███▎      | 198/600 [13:53<30:20,  4.53s/it, v_num=bl_1, total_loss_train=910, kl_local_train=86, tardis_age_0_train=8.04, tardis_integration_donor_0_train=9.3]"
     ]
    },
    {
     "name": "stdout",
     "output_type": "stream",
     "text": [
      "\r",
      "Epoch 199/600:  33%|███▎      | 199/600 [13:58<30:00,  4.49s/it, v_num=bl_1, total_loss_train=910, kl_local_train=86, tardis_age_0_train=8.04, tardis_integration_donor_0_train=9.3]"
     ]
    },
    {
     "name": "stdout",
     "output_type": "stream",
     "text": [
      "\r",
      "Epoch 199/600:  33%|███▎      | 199/600 [13:58<30:00,  4.49s/it, v_num=bl_1, total_loss_train=910, kl_local_train=86.5, tardis_age_0_train=8.17, tardis_integration_donor_0_train=9.2]"
     ]
    },
    {
     "name": "stdout",
     "output_type": "stream",
     "text": [
      "\r",
      "Epoch 200/600:  33%|███▎      | 199/600 [13:58<30:00,  4.49s/it, v_num=bl_1, total_loss_train=910, kl_local_train=86.5, tardis_age_0_train=8.17, tardis_integration_donor_0_train=9.2]"
     ]
    },
    {
     "name": "stdout",
     "output_type": "stream",
     "text": [
      "\r",
      "Epoch 200/600:  33%|███▎      | 200/600 [14:02<29:46,  4.47s/it, v_num=bl_1, total_loss_train=910, kl_local_train=86.5, tardis_age_0_train=8.17, tardis_integration_donor_0_train=9.2]"
     ]
    },
    {
     "name": "stdout",
     "output_type": "stream",
     "text": [
      "\r",
      "Epoch 200/600:  33%|███▎      | 200/600 [14:02<29:46,  4.47s/it, v_num=bl_1, total_loss_train=910, kl_local_train=86.5, tardis_age_0_train=7.98, tardis_integration_donor_0_train=9.3]"
     ]
    },
    {
     "name": "stdout",
     "output_type": "stream",
     "text": [
      "\r",
      "Epoch 201/600:  33%|███▎      | 200/600 [14:02<29:46,  4.47s/it, v_num=bl_1, total_loss_train=910, kl_local_train=86.5, tardis_age_0_train=7.98, tardis_integration_donor_0_train=9.3]"
     ]
    },
    {
     "name": "stdout",
     "output_type": "stream",
     "text": [
      "\r",
      "Epoch 201/600:  34%|███▎      | 201/600 [14:07<29:34,  4.45s/it, v_num=bl_1, total_loss_train=910, kl_local_train=86.5, tardis_age_0_train=7.98, tardis_integration_donor_0_train=9.3]"
     ]
    },
    {
     "name": "stdout",
     "output_type": "stream",
     "text": [
      "\r",
      "Epoch 201/600:  34%|███▎      | 201/600 [14:07<29:34,  4.45s/it, v_num=bl_1, total_loss_train=910, kl_local_train=85.8, tardis_age_0_train=8.03, tardis_integration_donor_0_train=9.19]"
     ]
    },
    {
     "name": "stdout",
     "output_type": "stream",
     "text": [
      "\r",
      "Epoch 202/600:  34%|███▎      | 201/600 [14:07<29:34,  4.45s/it, v_num=bl_1, total_loss_train=910, kl_local_train=85.8, tardis_age_0_train=8.03, tardis_integration_donor_0_train=9.19]"
     ]
    },
    {
     "name": "stdout",
     "output_type": "stream",
     "text": [
      "\r",
      "Epoch 202/600:  34%|███▎      | 202/600 [14:11<29:53,  4.51s/it, v_num=bl_1, total_loss_train=910, kl_local_train=85.8, tardis_age_0_train=8.03, tardis_integration_donor_0_train=9.19]"
     ]
    },
    {
     "name": "stdout",
     "output_type": "stream",
     "text": [
      "\r",
      "Epoch 202/600:  34%|███▎      | 202/600 [14:11<29:53,  4.51s/it, v_num=bl_1, total_loss_train=909, kl_local_train=84.8, tardis_age_0_train=8.12, tardis_integration_donor_0_train=9.31]"
     ]
    },
    {
     "name": "stdout",
     "output_type": "stream",
     "text": [
      "\r",
      "Epoch 203/600:  34%|███▎      | 202/600 [14:11<29:53,  4.51s/it, v_num=bl_1, total_loss_train=909, kl_local_train=84.8, tardis_age_0_train=8.12, tardis_integration_donor_0_train=9.31]"
     ]
    },
    {
     "name": "stdout",
     "output_type": "stream",
     "text": [
      "\r",
      "Epoch 203/600:  34%|███▍      | 203/600 [14:16<29:36,  4.47s/it, v_num=bl_1, total_loss_train=909, kl_local_train=84.8, tardis_age_0_train=8.12, tardis_integration_donor_0_train=9.31]"
     ]
    },
    {
     "name": "stdout",
     "output_type": "stream",
     "text": [
      "\r",
      "Epoch 203/600:  34%|███▍      | 203/600 [14:16<29:36,  4.47s/it, v_num=bl_1, total_loss_train=909, kl_local_train=85.3, tardis_age_0_train=8.12, tardis_integration_donor_0_train=9.31]"
     ]
    },
    {
     "name": "stdout",
     "output_type": "stream",
     "text": [
      "\r",
      "Epoch 204/600:  34%|███▍      | 203/600 [14:16<29:36,  4.47s/it, v_num=bl_1, total_loss_train=909, kl_local_train=85.3, tardis_age_0_train=8.12, tardis_integration_donor_0_train=9.31]"
     ]
    },
    {
     "name": "stdout",
     "output_type": "stream",
     "text": [
      "\r",
      "Epoch 204/600:  34%|███▍      | 204/600 [14:20<29:24,  4.46s/it, v_num=bl_1, total_loss_train=909, kl_local_train=85.3, tardis_age_0_train=8.12, tardis_integration_donor_0_train=9.31]"
     ]
    },
    {
     "name": "stdout",
     "output_type": "stream",
     "text": [
      "\r",
      "Epoch 204/600:  34%|███▍      | 204/600 [14:20<29:24,  4.46s/it, v_num=bl_1, total_loss_train=909, kl_local_train=86.3, tardis_age_0_train=7.99, tardis_integration_donor_0_train=9.39]"
     ]
    },
    {
     "name": "stdout",
     "output_type": "stream",
     "text": [
      "\r",
      "Epoch 205/600:  34%|███▍      | 204/600 [14:20<29:24,  4.46s/it, v_num=bl_1, total_loss_train=909, kl_local_train=86.3, tardis_age_0_train=7.99, tardis_integration_donor_0_train=9.39]"
     ]
    },
    {
     "name": "stdout",
     "output_type": "stream",
     "text": [
      "\r",
      "Epoch 205/600:  34%|███▍      | 205/600 [14:25<29:40,  4.51s/it, v_num=bl_1, total_loss_train=909, kl_local_train=86.3, tardis_age_0_train=7.99, tardis_integration_donor_0_train=9.39]"
     ]
    },
    {
     "name": "stdout",
     "output_type": "stream",
     "text": [
      "\r",
      "Epoch 205/600:  34%|███▍      | 205/600 [14:25<29:40,  4.51s/it, v_num=bl_1, total_loss_train=909, kl_local_train=84.6, tardis_age_0_train=8.02, tardis_integration_donor_0_train=9.5] "
     ]
    },
    {
     "name": "stdout",
     "output_type": "stream",
     "text": [
      "\r",
      "Epoch 206/600:  34%|███▍      | 205/600 [14:25<29:40,  4.51s/it, v_num=bl_1, total_loss_train=909, kl_local_train=84.6, tardis_age_0_train=8.02, tardis_integration_donor_0_train=9.5]"
     ]
    },
    {
     "name": "stdout",
     "output_type": "stream",
     "text": [
      "\r",
      "Epoch 206/600:  34%|███▍      | 206/600 [14:29<29:27,  4.49s/it, v_num=bl_1, total_loss_train=909, kl_local_train=84.6, tardis_age_0_train=8.02, tardis_integration_donor_0_train=9.5]"
     ]
    },
    {
     "name": "stdout",
     "output_type": "stream",
     "text": [
      "\r",
      "Epoch 206/600:  34%|███▍      | 206/600 [14:29<29:27,  4.49s/it, v_num=bl_1, total_loss_train=908, kl_local_train=85.1, tardis_age_0_train=7.98, tardis_integration_donor_0_train=9.35]"
     ]
    },
    {
     "name": "stdout",
     "output_type": "stream",
     "text": [
      "\r",
      "Epoch 207/600:  34%|███▍      | 206/600 [14:29<29:27,  4.49s/it, v_num=bl_1, total_loss_train=908, kl_local_train=85.1, tardis_age_0_train=7.98, tardis_integration_donor_0_train=9.35]"
     ]
    },
    {
     "name": "stdout",
     "output_type": "stream",
     "text": [
      "\r",
      "Epoch 207/600:  34%|███▍      | 207/600 [14:33<29:10,  4.45s/it, v_num=bl_1, total_loss_train=908, kl_local_train=85.1, tardis_age_0_train=7.98, tardis_integration_donor_0_train=9.35]"
     ]
    },
    {
     "name": "stdout",
     "output_type": "stream",
     "text": [
      "\r",
      "Epoch 207/600:  34%|███▍      | 207/600 [14:33<29:10,  4.45s/it, v_num=bl_1, total_loss_train=908, kl_local_train=85.6, tardis_age_0_train=8.01, tardis_integration_donor_0_train=9.41]"
     ]
    },
    {
     "name": "stdout",
     "output_type": "stream",
     "text": [
      "\r",
      "Epoch 208/600:  34%|███▍      | 207/600 [14:33<29:10,  4.45s/it, v_num=bl_1, total_loss_train=908, kl_local_train=85.6, tardis_age_0_train=8.01, tardis_integration_donor_0_train=9.41]"
     ]
    },
    {
     "name": "stdout",
     "output_type": "stream",
     "text": [
      "\r",
      "Epoch 208/600:  35%|███▍      | 208/600 [14:38<29:55,  4.58s/it, v_num=bl_1, total_loss_train=908, kl_local_train=85.6, tardis_age_0_train=8.01, tardis_integration_donor_0_train=9.41]"
     ]
    },
    {
     "name": "stdout",
     "output_type": "stream",
     "text": [
      "\r",
      "Epoch 208/600:  35%|███▍      | 208/600 [14:38<29:55,  4.58s/it, v_num=bl_1, total_loss_train=908, kl_local_train=84.5, tardis_age_0_train=8.04, tardis_integration_donor_0_train=9.38]"
     ]
    },
    {
     "name": "stdout",
     "output_type": "stream",
     "text": [
      "\r",
      "Epoch 209/600:  35%|███▍      | 208/600 [14:38<29:55,  4.58s/it, v_num=bl_1, total_loss_train=908, kl_local_train=84.5, tardis_age_0_train=8.04, tardis_integration_donor_0_train=9.38]"
     ]
    },
    {
     "name": "stdout",
     "output_type": "stream",
     "text": [
      "\r",
      "Epoch 209/600:  35%|███▍      | 209/600 [14:43<29:37,  4.55s/it, v_num=bl_1, total_loss_train=908, kl_local_train=84.5, tardis_age_0_train=8.04, tardis_integration_donor_0_train=9.38]"
     ]
    },
    {
     "name": "stdout",
     "output_type": "stream",
     "text": [
      "\r",
      "Epoch 209/600:  35%|███▍      | 209/600 [14:43<29:37,  4.55s/it, v_num=bl_1, total_loss_train=908, kl_local_train=84.1, tardis_age_0_train=8.04, tardis_integration_donor_0_train=9.46]"
     ]
    },
    {
     "name": "stdout",
     "output_type": "stream",
     "text": [
      "\r",
      "Epoch 210/600:  35%|███▍      | 209/600 [14:43<29:37,  4.55s/it, v_num=bl_1, total_loss_train=908, kl_local_train=84.1, tardis_age_0_train=8.04, tardis_integration_donor_0_train=9.46]"
     ]
    },
    {
     "name": "stdout",
     "output_type": "stream",
     "text": [
      "\r",
      "Epoch 210/600:  35%|███▌      | 210/600 [14:47<29:15,  4.50s/it, v_num=bl_1, total_loss_train=908, kl_local_train=84.1, tardis_age_0_train=8.04, tardis_integration_donor_0_train=9.46]"
     ]
    },
    {
     "name": "stdout",
     "output_type": "stream",
     "text": [
      "\r",
      "Epoch 210/600:  35%|███▌      | 210/600 [14:47<29:15,  4.50s/it, v_num=bl_1, total_loss_train=908, kl_local_train=84.3, tardis_age_0_train=8.09, tardis_integration_donor_0_train=9.46]"
     ]
    },
    {
     "name": "stdout",
     "output_type": "stream",
     "text": [
      "\r",
      "Epoch 211/600:  35%|███▌      | 210/600 [14:47<29:15,  4.50s/it, v_num=bl_1, total_loss_train=908, kl_local_train=84.3, tardis_age_0_train=8.09, tardis_integration_donor_0_train=9.46]"
     ]
    },
    {
     "name": "stdout",
     "output_type": "stream",
     "text": [
      "\r",
      "Epoch 211/600:  35%|███▌      | 211/600 [14:52<29:25,  4.54s/it, v_num=bl_1, total_loss_train=908, kl_local_train=84.3, tardis_age_0_train=8.09, tardis_integration_donor_0_train=9.46]"
     ]
    },
    {
     "name": "stdout",
     "output_type": "stream",
     "text": [
      "\r",
      "Epoch 211/600:  35%|███▌      | 211/600 [14:52<29:25,  4.54s/it, v_num=bl_1, total_loss_train=908, kl_local_train=83.6, tardis_age_0_train=8.19, tardis_integration_donor_0_train=9.6] "
     ]
    },
    {
     "name": "stdout",
     "output_type": "stream",
     "text": [
      "\r",
      "Epoch 212/600:  35%|███▌      | 211/600 [14:52<29:25,  4.54s/it, v_num=bl_1, total_loss_train=908, kl_local_train=83.6, tardis_age_0_train=8.19, tardis_integration_donor_0_train=9.6]"
     ]
    },
    {
     "name": "stdout",
     "output_type": "stream",
     "text": [
      "\r",
      "Epoch 212/600:  35%|███▌      | 212/600 [14:56<29:02,  4.49s/it, v_num=bl_1, total_loss_train=908, kl_local_train=83.6, tardis_age_0_train=8.19, tardis_integration_donor_0_train=9.6]"
     ]
    },
    {
     "name": "stdout",
     "output_type": "stream",
     "text": [
      "\r",
      "Epoch 212/600:  35%|███▌      | 212/600 [14:56<29:02,  4.49s/it, v_num=bl_1, total_loss_train=908, kl_local_train=82.8, tardis_age_0_train=8.24, tardis_integration_donor_0_train=9.6]"
     ]
    },
    {
     "name": "stdout",
     "output_type": "stream",
     "text": [
      "\r",
      "Epoch 213/600:  35%|███▌      | 212/600 [14:56<29:02,  4.49s/it, v_num=bl_1, total_loss_train=908, kl_local_train=82.8, tardis_age_0_train=8.24, tardis_integration_donor_0_train=9.6]"
     ]
    },
    {
     "name": "stdout",
     "output_type": "stream",
     "text": [
      "\r",
      "Epoch 213/600:  36%|███▌      | 213/600 [15:01<28:43,  4.45s/it, v_num=bl_1, total_loss_train=908, kl_local_train=82.8, tardis_age_0_train=8.24, tardis_integration_donor_0_train=9.6]"
     ]
    },
    {
     "name": "stdout",
     "output_type": "stream",
     "text": [
      "\r",
      "Epoch 213/600:  36%|███▌      | 213/600 [15:01<28:43,  4.45s/it, v_num=bl_1, total_loss_train=907, kl_local_train=83, tardis_age_0_train=8.11, tardis_integration_donor_0_train=9.56] "
     ]
    },
    {
     "name": "stdout",
     "output_type": "stream",
     "text": [
      "\r",
      "Epoch 214/600:  36%|███▌      | 213/600 [15:01<28:43,  4.45s/it, v_num=bl_1, total_loss_train=907, kl_local_train=83, tardis_age_0_train=8.11, tardis_integration_donor_0_train=9.56]"
     ]
    },
    {
     "name": "stdout",
     "output_type": "stream",
     "text": [
      "\r",
      "Epoch 214/600:  36%|███▌      | 214/600 [15:05<28:26,  4.42s/it, v_num=bl_1, total_loss_train=907, kl_local_train=83, tardis_age_0_train=8.11, tardis_integration_donor_0_train=9.56]"
     ]
    },
    {
     "name": "stdout",
     "output_type": "stream",
     "text": [
      "\r",
      "Epoch 214/600:  36%|███▌      | 214/600 [15:05<28:26,  4.42s/it, v_num=bl_1, total_loss_train=907, kl_local_train=82, tardis_age_0_train=8.22, tardis_integration_donor_0_train=9.57]"
     ]
    },
    {
     "name": "stdout",
     "output_type": "stream",
     "text": [
      "\r",
      "Epoch 215/600:  36%|███▌      | 214/600 [15:05<28:26,  4.42s/it, v_num=bl_1, total_loss_train=907, kl_local_train=82, tardis_age_0_train=8.22, tardis_integration_donor_0_train=9.57]"
     ]
    },
    {
     "name": "stdout",
     "output_type": "stream",
     "text": [
      "\r",
      "Epoch 215/600:  36%|███▌      | 215/600 [15:10<28:49,  4.49s/it, v_num=bl_1, total_loss_train=907, kl_local_train=82, tardis_age_0_train=8.22, tardis_integration_donor_0_train=9.57]"
     ]
    },
    {
     "name": "stdout",
     "output_type": "stream",
     "text": [
      "\r",
      "Epoch 215/600:  36%|███▌      | 215/600 [15:10<28:49,  4.49s/it, v_num=bl_1, total_loss_train=907, kl_local_train=81.3, tardis_age_0_train=8.29, tardis_integration_donor_0_train=9.79]"
     ]
    },
    {
     "name": "stdout",
     "output_type": "stream",
     "text": [
      "\r",
      "Epoch 216/600:  36%|███▌      | 215/600 [15:10<28:49,  4.49s/it, v_num=bl_1, total_loss_train=907, kl_local_train=81.3, tardis_age_0_train=8.29, tardis_integration_donor_0_train=9.79]"
     ]
    },
    {
     "name": "stdout",
     "output_type": "stream",
     "text": [
      "\r",
      "Epoch 216/600:  36%|███▌      | 216/600 [15:14<28:27,  4.45s/it, v_num=bl_1, total_loss_train=907, kl_local_train=81.3, tardis_age_0_train=8.29, tardis_integration_donor_0_train=9.79]"
     ]
    },
    {
     "name": "stdout",
     "output_type": "stream",
     "text": [
      "\r",
      "Epoch 216/600:  36%|███▌      | 216/600 [15:14<28:27,  4.45s/it, v_num=bl_1, total_loss_train=907, kl_local_train=82, tardis_age_0_train=8.36, tardis_integration_donor_0_train=9.6]   "
     ]
    },
    {
     "name": "stdout",
     "output_type": "stream",
     "text": [
      "\r",
      "Epoch 217/600:  36%|███▌      | 216/600 [15:14<28:27,  4.45s/it, v_num=bl_1, total_loss_train=907, kl_local_train=82, tardis_age_0_train=8.36, tardis_integration_donor_0_train=9.6]"
     ]
    },
    {
     "name": "stdout",
     "output_type": "stream",
     "text": [
      "\r",
      "Epoch 217/600:  36%|███▌      | 217/600 [15:18<28:14,  4.42s/it, v_num=bl_1, total_loss_train=907, kl_local_train=82, tardis_age_0_train=8.36, tardis_integration_donor_0_train=9.6]"
     ]
    },
    {
     "name": "stdout",
     "output_type": "stream",
     "text": [
      "\r",
      "Epoch 217/600:  36%|███▌      | 217/600 [15:18<28:14,  4.42s/it, v_num=bl_1, total_loss_train=906, kl_local_train=81.1, tardis_age_0_train=8.21, tardis_integration_donor_0_train=9.62]"
     ]
    },
    {
     "name": "stdout",
     "output_type": "stream",
     "text": [
      "\r",
      "Epoch 218/600:  36%|███▌      | 217/600 [15:18<28:14,  4.42s/it, v_num=bl_1, total_loss_train=906, kl_local_train=81.1, tardis_age_0_train=8.21, tardis_integration_donor_0_train=9.62]"
     ]
    },
    {
     "name": "stdout",
     "output_type": "stream",
     "text": [
      "\r",
      "Epoch 218/600:  36%|███▋      | 218/600 [15:23<28:31,  4.48s/it, v_num=bl_1, total_loss_train=906, kl_local_train=81.1, tardis_age_0_train=8.21, tardis_integration_donor_0_train=9.62]"
     ]
    },
    {
     "name": "stdout",
     "output_type": "stream",
     "text": [
      "\r",
      "Epoch 218/600:  36%|███▋      | 218/600 [15:23<28:31,  4.48s/it, v_num=bl_1, total_loss_train=907, kl_local_train=80.4, tardis_age_0_train=8.39, tardis_integration_donor_0_train=9.82]"
     ]
    },
    {
     "name": "stdout",
     "output_type": "stream",
     "text": [
      "\r",
      "Epoch 219/600:  36%|███▋      | 218/600 [15:23<28:31,  4.48s/it, v_num=bl_1, total_loss_train=907, kl_local_train=80.4, tardis_age_0_train=8.39, tardis_integration_donor_0_train=9.82]"
     ]
    },
    {
     "name": "stdout",
     "output_type": "stream",
     "text": [
      "\r",
      "Epoch 219/600:  36%|███▋      | 219/600 [15:27<28:05,  4.42s/it, v_num=bl_1, total_loss_train=907, kl_local_train=80.4, tardis_age_0_train=8.39, tardis_integration_donor_0_train=9.82]"
     ]
    },
    {
     "name": "stdout",
     "output_type": "stream",
     "text": [
      "\r",
      "Epoch 219/600:  36%|███▋      | 219/600 [15:27<28:05,  4.42s/it, v_num=bl_1, total_loss_train=906, kl_local_train=81.3, tardis_age_0_train=8.24, tardis_integration_donor_0_train=9.66]"
     ]
    },
    {
     "name": "stdout",
     "output_type": "stream",
     "text": [
      "\r",
      "Epoch 220/600:  36%|███▋      | 219/600 [15:27<28:05,  4.42s/it, v_num=bl_1, total_loss_train=906, kl_local_train=81.3, tardis_age_0_train=8.24, tardis_integration_donor_0_train=9.66]"
     ]
    },
    {
     "name": "stdout",
     "output_type": "stream",
     "text": [
      "\r",
      "Epoch 220/600:  37%|███▋      | 220/600 [15:31<27:52,  4.40s/it, v_num=bl_1, total_loss_train=906, kl_local_train=81.3, tardis_age_0_train=8.24, tardis_integration_donor_0_train=9.66]"
     ]
    },
    {
     "name": "stdout",
     "output_type": "stream",
     "text": [
      "\r",
      "Epoch 220/600:  37%|███▋      | 220/600 [15:31<27:52,  4.40s/it, v_num=bl_1, total_loss_train=906, kl_local_train=81.1, tardis_age_0_train=8.36, tardis_integration_donor_0_train=9.64]"
     ]
    },
    {
     "name": "stdout",
     "output_type": "stream",
     "text": [
      "\r",
      "Epoch 221/600:  37%|███▋      | 220/600 [15:31<27:52,  4.40s/it, v_num=bl_1, total_loss_train=906, kl_local_train=81.1, tardis_age_0_train=8.36, tardis_integration_donor_0_train=9.64]"
     ]
    },
    {
     "name": "stdout",
     "output_type": "stream",
     "text": [
      "\r",
      "Epoch 221/600:  37%|███▋      | 221/600 [15:36<27:40,  4.38s/it, v_num=bl_1, total_loss_train=906, kl_local_train=81.1, tardis_age_0_train=8.36, tardis_integration_donor_0_train=9.64]"
     ]
    },
    {
     "name": "stdout",
     "output_type": "stream",
     "text": [
      "\r",
      "Epoch 221/600:  37%|███▋      | 221/600 [15:36<27:40,  4.38s/it, v_num=bl_1, total_loss_train=906, kl_local_train=80.5, tardis_age_0_train=8.41, tardis_integration_donor_0_train=9.74]"
     ]
    },
    {
     "name": "stdout",
     "output_type": "stream",
     "text": [
      "\r",
      "Epoch 222/600:  37%|███▋      | 221/600 [15:36<27:40,  4.38s/it, v_num=bl_1, total_loss_train=906, kl_local_train=80.5, tardis_age_0_train=8.41, tardis_integration_donor_0_train=9.74]"
     ]
    },
    {
     "name": "stdout",
     "output_type": "stream",
     "text": [
      "\r",
      "Epoch 222/600:  37%|███▋      | 222/600 [15:40<27:31,  4.37s/it, v_num=bl_1, total_loss_train=906, kl_local_train=80.5, tardis_age_0_train=8.41, tardis_integration_donor_0_train=9.74]"
     ]
    },
    {
     "name": "stdout",
     "output_type": "stream",
     "text": [
      "\r",
      "Epoch 222/600:  37%|███▋      | 222/600 [15:40<27:31,  4.37s/it, v_num=bl_1, total_loss_train=906, kl_local_train=80.2, tardis_age_0_train=8.44, tardis_integration_donor_0_train=9.78]"
     ]
    },
    {
     "name": "stdout",
     "output_type": "stream",
     "text": [
      "\r",
      "Epoch 223/600:  37%|███▋      | 222/600 [15:40<27:31,  4.37s/it, v_num=bl_1, total_loss_train=906, kl_local_train=80.2, tardis_age_0_train=8.44, tardis_integration_donor_0_train=9.78]"
     ]
    },
    {
     "name": "stdout",
     "output_type": "stream",
     "text": [
      "\r",
      "Epoch 223/600:  37%|███▋      | 223/600 [15:45<28:00,  4.46s/it, v_num=bl_1, total_loss_train=906, kl_local_train=80.2, tardis_age_0_train=8.44, tardis_integration_donor_0_train=9.78]"
     ]
    },
    {
     "name": "stdout",
     "output_type": "stream",
     "text": [
      "\r",
      "Epoch 223/600:  37%|███▋      | 223/600 [15:45<28:00,  4.46s/it, v_num=bl_1, total_loss_train=905, kl_local_train=80, tardis_age_0_train=8.48, tardis_integration_donor_0_train=9.77]  "
     ]
    },
    {
     "name": "stdout",
     "output_type": "stream",
     "text": [
      "\r",
      "Epoch 224/600:  37%|███▋      | 223/600 [15:45<28:00,  4.46s/it, v_num=bl_1, total_loss_train=905, kl_local_train=80, tardis_age_0_train=8.48, tardis_integration_donor_0_train=9.77]"
     ]
    },
    {
     "name": "stdout",
     "output_type": "stream",
     "text": [
      "\r",
      "Epoch 224/600:  37%|███▋      | 224/600 [15:49<27:45,  4.43s/it, v_num=bl_1, total_loss_train=905, kl_local_train=80, tardis_age_0_train=8.48, tardis_integration_donor_0_train=9.77]"
     ]
    },
    {
     "name": "stdout",
     "output_type": "stream",
     "text": [
      "\r",
      "Epoch 224/600:  37%|███▋      | 224/600 [15:49<27:45,  4.43s/it, v_num=bl_1, total_loss_train=905, kl_local_train=80.4, tardis_age_0_train=8.49, tardis_integration_donor_0_train=9.68]"
     ]
    },
    {
     "name": "stdout",
     "output_type": "stream",
     "text": [
      "\r",
      "Epoch 225/600:  37%|███▋      | 224/600 [15:49<27:45,  4.43s/it, v_num=bl_1, total_loss_train=905, kl_local_train=80.4, tardis_age_0_train=8.49, tardis_integration_donor_0_train=9.68]"
     ]
    },
    {
     "name": "stdout",
     "output_type": "stream",
     "text": [
      "\r",
      "Epoch 225/600:  38%|███▊      | 225/600 [15:54<27:40,  4.43s/it, v_num=bl_1, total_loss_train=905, kl_local_train=80.4, tardis_age_0_train=8.49, tardis_integration_donor_0_train=9.68]"
     ]
    },
    {
     "name": "stdout",
     "output_type": "stream",
     "text": [
      "\r",
      "Epoch 225/600:  38%|███▊      | 225/600 [15:54<27:40,  4.43s/it, v_num=bl_1, total_loss_train=905, kl_local_train=80.5, tardis_age_0_train=8.39, tardis_integration_donor_0_train=9.71]"
     ]
    },
    {
     "name": "stdout",
     "output_type": "stream",
     "text": [
      "\r",
      "Epoch 226/600:  38%|███▊      | 225/600 [15:54<27:40,  4.43s/it, v_num=bl_1, total_loss_train=905, kl_local_train=80.5, tardis_age_0_train=8.39, tardis_integration_donor_0_train=9.71]"
     ]
    },
    {
     "name": "stdout",
     "output_type": "stream",
     "text": [
      "\r",
      "Epoch 226/600:  38%|███▊      | 226/600 [15:58<27:57,  4.48s/it, v_num=bl_1, total_loss_train=905, kl_local_train=80.5, tardis_age_0_train=8.39, tardis_integration_donor_0_train=9.71]"
     ]
    },
    {
     "name": "stdout",
     "output_type": "stream",
     "text": [
      "\r",
      "Epoch 226/600:  38%|███▊      | 226/600 [15:58<27:57,  4.48s/it, v_num=bl_1, total_loss_train=905, kl_local_train=80.9, tardis_age_0_train=8.46, tardis_integration_donor_0_train=9.69]"
     ]
    },
    {
     "name": "stdout",
     "output_type": "stream",
     "text": [
      "\r",
      "Epoch 227/600:  38%|███▊      | 226/600 [15:58<27:57,  4.48s/it, v_num=bl_1, total_loss_train=905, kl_local_train=80.9, tardis_age_0_train=8.46, tardis_integration_donor_0_train=9.69]"
     ]
    },
    {
     "name": "stdout",
     "output_type": "stream",
     "text": [
      "\r",
      "Epoch 227/600:  38%|███▊      | 227/600 [16:03<27:40,  4.45s/it, v_num=bl_1, total_loss_train=905, kl_local_train=80.9, tardis_age_0_train=8.46, tardis_integration_donor_0_train=9.69]"
     ]
    },
    {
     "name": "stdout",
     "output_type": "stream",
     "text": [
      "\r",
      "Epoch 227/600:  38%|███▊      | 227/600 [16:03<27:40,  4.45s/it, v_num=bl_1, total_loss_train=905, kl_local_train=80.6, tardis_age_0_train=8.46, tardis_integration_donor_0_train=9.81]"
     ]
    },
    {
     "name": "stdout",
     "output_type": "stream",
     "text": [
      "\r",
      "Epoch 228/600:  38%|███▊      | 227/600 [16:03<27:40,  4.45s/it, v_num=bl_1, total_loss_train=905, kl_local_train=80.6, tardis_age_0_train=8.46, tardis_integration_donor_0_train=9.81]"
     ]
    },
    {
     "name": "stdout",
     "output_type": "stream",
     "text": [
      "\r",
      "Epoch 228/600:  38%|███▊      | 228/600 [16:07<27:30,  4.44s/it, v_num=bl_1, total_loss_train=905, kl_local_train=80.6, tardis_age_0_train=8.46, tardis_integration_donor_0_train=9.81]"
     ]
    },
    {
     "name": "stdout",
     "output_type": "stream",
     "text": [
      "\r",
      "Epoch 228/600:  38%|███▊      | 228/600 [16:07<27:30,  4.44s/it, v_num=bl_1, total_loss_train=904, kl_local_train=80.6, tardis_age_0_train=8.36, tardis_integration_donor_0_train=9.6] "
     ]
    },
    {
     "name": "stdout",
     "output_type": "stream",
     "text": [
      "\r",
      "Epoch 229/600:  38%|███▊      | 228/600 [16:07<27:30,  4.44s/it, v_num=bl_1, total_loss_train=904, kl_local_train=80.6, tardis_age_0_train=8.36, tardis_integration_donor_0_train=9.6]"
     ]
    },
    {
     "name": "stdout",
     "output_type": "stream",
     "text": [
      "\r",
      "Epoch 229/600:  38%|███▊      | 229/600 [16:11<27:17,  4.41s/it, v_num=bl_1, total_loss_train=904, kl_local_train=80.6, tardis_age_0_train=8.36, tardis_integration_donor_0_train=9.6]"
     ]
    },
    {
     "name": "stdout",
     "output_type": "stream",
     "text": [
      "\r",
      "Epoch 229/600:  38%|███▊      | 229/600 [16:11<27:17,  4.41s/it, v_num=bl_1, total_loss_train=905, kl_local_train=79.7, tardis_age_0_train=8.67, tardis_integration_donor_0_train=9.84]"
     ]
    },
    {
     "name": "stdout",
     "output_type": "stream",
     "text": [
      "\r",
      "Epoch 230/600:  38%|███▊      | 229/600 [16:11<27:17,  4.41s/it, v_num=bl_1, total_loss_train=905, kl_local_train=79.7, tardis_age_0_train=8.67, tardis_integration_donor_0_train=9.84]"
     ]
    },
    {
     "name": "stdout",
     "output_type": "stream",
     "text": [
      "\r",
      "Epoch 230/600:  38%|███▊      | 230/600 [16:16<27:37,  4.48s/it, v_num=bl_1, total_loss_train=905, kl_local_train=79.7, tardis_age_0_train=8.67, tardis_integration_donor_0_train=9.84]"
     ]
    },
    {
     "name": "stdout",
     "output_type": "stream",
     "text": [
      "\r",
      "Epoch 230/600:  38%|███▊      | 230/600 [16:16<27:37,  4.48s/it, v_num=bl_1, total_loss_train=904, kl_local_train=79.5, tardis_age_0_train=8.56, tardis_integration_donor_0_train=9.89]"
     ]
    },
    {
     "name": "stdout",
     "output_type": "stream",
     "text": [
      "\r",
      "Epoch 231/600:  38%|███▊      | 230/600 [16:16<27:37,  4.48s/it, v_num=bl_1, total_loss_train=904, kl_local_train=79.5, tardis_age_0_train=8.56, tardis_integration_donor_0_train=9.89]"
     ]
    },
    {
     "name": "stdout",
     "output_type": "stream",
     "text": [
      "\r",
      "Epoch 231/600:  38%|███▊      | 231/600 [16:20<27:27,  4.46s/it, v_num=bl_1, total_loss_train=904, kl_local_train=79.5, tardis_age_0_train=8.56, tardis_integration_donor_0_train=9.89]"
     ]
    },
    {
     "name": "stdout",
     "output_type": "stream",
     "text": [
      "\r",
      "Epoch 231/600:  38%|███▊      | 231/600 [16:20<27:27,  4.46s/it, v_num=bl_1, total_loss_train=904, kl_local_train=79.4, tardis_age_0_train=8.47, tardis_integration_donor_0_train=9.93]"
     ]
    },
    {
     "name": "stdout",
     "output_type": "stream",
     "text": [
      "\r",
      "Epoch 232/600:  38%|███▊      | 231/600 [16:20<27:27,  4.46s/it, v_num=bl_1, total_loss_train=904, kl_local_train=79.4, tardis_age_0_train=8.47, tardis_integration_donor_0_train=9.93]"
     ]
    },
    {
     "name": "stdout",
     "output_type": "stream",
     "text": [
      "\r",
      "Epoch 232/600:  39%|███▊      | 232/600 [16:25<27:13,  4.44s/it, v_num=bl_1, total_loss_train=904, kl_local_train=79.4, tardis_age_0_train=8.47, tardis_integration_donor_0_train=9.93]"
     ]
    },
    {
     "name": "stdout",
     "output_type": "stream",
     "text": [
      "\r",
      "Epoch 232/600:  39%|███▊      | 232/600 [16:25<27:13,  4.44s/it, v_num=bl_1, total_loss_train=904, kl_local_train=78.7, tardis_age_0_train=8.67, tardis_integration_donor_0_train=9.91]"
     ]
    },
    {
     "name": "stdout",
     "output_type": "stream",
     "text": [
      "\r",
      "Epoch 233/600:  39%|███▊      | 232/600 [16:25<27:13,  4.44s/it, v_num=bl_1, total_loss_train=904, kl_local_train=78.7, tardis_age_0_train=8.67, tardis_integration_donor_0_train=9.91]"
     ]
    },
    {
     "name": "stdout",
     "output_type": "stream",
     "text": [
      "\r",
      "Epoch 233/600:  39%|███▉      | 233/600 [16:29<27:30,  4.50s/it, v_num=bl_1, total_loss_train=904, kl_local_train=78.7, tardis_age_0_train=8.67, tardis_integration_donor_0_train=9.91]"
     ]
    },
    {
     "name": "stdout",
     "output_type": "stream",
     "text": [
      "\r",
      "Epoch 233/600:  39%|███▉      | 233/600 [16:29<27:30,  4.50s/it, v_num=bl_1, total_loss_train=903, kl_local_train=77.9, tardis_age_0_train=8.65, tardis_integration_donor_0_train=9.94]"
     ]
    },
    {
     "name": "stdout",
     "output_type": "stream",
     "text": [
      "\r",
      "Epoch 234/600:  39%|███▉      | 233/600 [16:29<27:30,  4.50s/it, v_num=bl_1, total_loss_train=903, kl_local_train=77.9, tardis_age_0_train=8.65, tardis_integration_donor_0_train=9.94]"
     ]
    },
    {
     "name": "stdout",
     "output_type": "stream",
     "text": [
      "\r",
      "Epoch 234/600:  39%|███▉      | 234/600 [16:34<27:47,  4.56s/it, v_num=bl_1, total_loss_train=903, kl_local_train=77.9, tardis_age_0_train=8.65, tardis_integration_donor_0_train=9.94]"
     ]
    },
    {
     "name": "stdout",
     "output_type": "stream",
     "text": [
      "\r",
      "Epoch 234/600:  39%|███▉      | 234/600 [16:34<27:47,  4.56s/it, v_num=bl_1, total_loss_train=903, kl_local_train=78.1, tardis_age_0_train=8.54, tardis_integration_donor_0_train=9.92]"
     ]
    },
    {
     "name": "stdout",
     "output_type": "stream",
     "text": [
      "\r",
      "Epoch 235/600:  39%|███▉      | 234/600 [16:34<27:47,  4.56s/it, v_num=bl_1, total_loss_train=903, kl_local_train=78.1, tardis_age_0_train=8.54, tardis_integration_donor_0_train=9.92]"
     ]
    },
    {
     "name": "stdout",
     "output_type": "stream",
     "text": [
      "\r",
      "Epoch 235/600:  39%|███▉      | 235/600 [16:39<27:26,  4.51s/it, v_num=bl_1, total_loss_train=903, kl_local_train=78.1, tardis_age_0_train=8.54, tardis_integration_donor_0_train=9.92]"
     ]
    },
    {
     "name": "stdout",
     "output_type": "stream",
     "text": [
      "\r",
      "Epoch 235/600:  39%|███▉      | 235/600 [16:39<27:26,  4.51s/it, v_num=bl_1, total_loss_train=904, kl_local_train=78, tardis_age_0_train=8.73, tardis_integration_donor_0_train=9.89]  "
     ]
    },
    {
     "name": "stdout",
     "output_type": "stream",
     "text": [
      "\r",
      "Epoch 236/600:  39%|███▉      | 235/600 [16:39<27:26,  4.51s/it, v_num=bl_1, total_loss_train=904, kl_local_train=78, tardis_age_0_train=8.73, tardis_integration_donor_0_train=9.89]"
     ]
    },
    {
     "name": "stdout",
     "output_type": "stream",
     "text": [
      "\r",
      "Epoch 236/600:  39%|███▉      | 236/600 [16:43<27:13,  4.49s/it, v_num=bl_1, total_loss_train=904, kl_local_train=78, tardis_age_0_train=8.73, tardis_integration_donor_0_train=9.89]"
     ]
    },
    {
     "name": "stdout",
     "output_type": "stream",
     "text": [
      "\r",
      "Epoch 236/600:  39%|███▉      | 236/600 [16:43<27:13,  4.49s/it, v_num=bl_1, total_loss_train=903, kl_local_train=78.3, tardis_age_0_train=8.69, tardis_integration_donor_0_train=9.9]"
     ]
    },
    {
     "name": "stdout",
     "output_type": "stream",
     "text": [
      "\r",
      "Epoch 237/600:  39%|███▉      | 236/600 [16:43<27:13,  4.49s/it, v_num=bl_1, total_loss_train=903, kl_local_train=78.3, tardis_age_0_train=8.69, tardis_integration_donor_0_train=9.9]"
     ]
    },
    {
     "name": "stdout",
     "output_type": "stream",
     "text": [
      "\r",
      "Epoch 237/600:  40%|███▉      | 237/600 [16:48<27:28,  4.54s/it, v_num=bl_1, total_loss_train=903, kl_local_train=78.3, tardis_age_0_train=8.69, tardis_integration_donor_0_train=9.9]"
     ]
    },
    {
     "name": "stdout",
     "output_type": "stream",
     "text": [
      "\r",
      "Epoch 237/600:  40%|███▉      | 237/600 [16:48<27:28,  4.54s/it, v_num=bl_1, total_loss_train=903, kl_local_train=77.6, tardis_age_0_train=8.71, tardis_integration_donor_0_train=10.1]"
     ]
    },
    {
     "name": "stdout",
     "output_type": "stream",
     "text": [
      "\r",
      "Epoch 238/600:  40%|███▉      | 237/600 [16:48<27:28,  4.54s/it, v_num=bl_1, total_loss_train=903, kl_local_train=77.6, tardis_age_0_train=8.71, tardis_integration_donor_0_train=10.1]"
     ]
    },
    {
     "name": "stdout",
     "output_type": "stream",
     "text": [
      "\r",
      "Epoch 238/600:  40%|███▉      | 238/600 [16:52<27:10,  4.51s/it, v_num=bl_1, total_loss_train=903, kl_local_train=77.6, tardis_age_0_train=8.71, tardis_integration_donor_0_train=10.1]"
     ]
    },
    {
     "name": "stdout",
     "output_type": "stream",
     "text": [
      "\r",
      "Epoch 238/600:  40%|███▉      | 238/600 [16:52<27:10,  4.51s/it, v_num=bl_1, total_loss_train=903, kl_local_train=77.8, tardis_age_0_train=8.78, tardis_integration_donor_0_train=10]  "
     ]
    },
    {
     "name": "stdout",
     "output_type": "stream",
     "text": [
      "\r",
      "Epoch 239/600:  40%|███▉      | 238/600 [16:52<27:10,  4.51s/it, v_num=bl_1, total_loss_train=903, kl_local_train=77.8, tardis_age_0_train=8.78, tardis_integration_donor_0_train=10]"
     ]
    },
    {
     "name": "stdout",
     "output_type": "stream",
     "text": [
      "\r",
      "Epoch 239/600:  40%|███▉      | 239/600 [16:56<26:54,  4.47s/it, v_num=bl_1, total_loss_train=903, kl_local_train=77.8, tardis_age_0_train=8.78, tardis_integration_donor_0_train=10]"
     ]
    },
    {
     "name": "stdout",
     "output_type": "stream",
     "text": [
      "\r",
      "Epoch 239/600:  40%|███▉      | 239/600 [16:56<26:54,  4.47s/it, v_num=bl_1, total_loss_train=903, kl_local_train=78, tardis_age_0_train=8.6, tardis_integration_donor_0_train=10]   "
     ]
    },
    {
     "name": "stdout",
     "output_type": "stream",
     "text": [
      "\r",
      "Epoch 240/600:  40%|███▉      | 239/600 [16:56<26:54,  4.47s/it, v_num=bl_1, total_loss_train=903, kl_local_train=78, tardis_age_0_train=8.6, tardis_integration_donor_0_train=10]"
     ]
    },
    {
     "name": "stdout",
     "output_type": "stream",
     "text": [
      "\r",
      "Epoch 240/600:  40%|████      | 240/600 [17:01<27:09,  4.53s/it, v_num=bl_1, total_loss_train=903, kl_local_train=78, tardis_age_0_train=8.6, tardis_integration_donor_0_train=10]"
     ]
    },
    {
     "name": "stdout",
     "output_type": "stream",
     "text": [
      "\r",
      "Epoch 240/600:  40%|████      | 240/600 [17:01<27:09,  4.53s/it, v_num=bl_1, total_loss_train=902, kl_local_train=77.4, tardis_age_0_train=8.68, tardis_integration_donor_0_train=10.1]"
     ]
    },
    {
     "name": "stdout",
     "output_type": "stream",
     "text": [
      "\r",
      "Epoch 241/600:  40%|████      | 240/600 [17:01<27:09,  4.53s/it, v_num=bl_1, total_loss_train=902, kl_local_train=77.4, tardis_age_0_train=8.68, tardis_integration_donor_0_train=10.1]"
     ]
    },
    {
     "name": "stdout",
     "output_type": "stream",
     "text": [
      "\r",
      "Epoch 241/600:  40%|████      | 241/600 [17:05<26:49,  4.48s/it, v_num=bl_1, total_loss_train=902, kl_local_train=77.4, tardis_age_0_train=8.68, tardis_integration_donor_0_train=10.1]"
     ]
    },
    {
     "name": "stdout",
     "output_type": "stream",
     "text": [
      "\r",
      "Epoch 241/600:  40%|████      | 241/600 [17:05<26:49,  4.48s/it, v_num=bl_1, total_loss_train=902, kl_local_train=77.6, tardis_age_0_train=8.67, tardis_integration_donor_0_train=10]  "
     ]
    },
    {
     "name": "stdout",
     "output_type": "stream",
     "text": [
      "\r",
      "Epoch 242/600:  40%|████      | 241/600 [17:05<26:49,  4.48s/it, v_num=bl_1, total_loss_train=902, kl_local_train=77.6, tardis_age_0_train=8.67, tardis_integration_donor_0_train=10]"
     ]
    },
    {
     "name": "stdout",
     "output_type": "stream",
     "text": [
      "\r",
      "Epoch 242/600:  40%|████      | 242/600 [17:10<26:31,  4.45s/it, v_num=bl_1, total_loss_train=902, kl_local_train=77.6, tardis_age_0_train=8.67, tardis_integration_donor_0_train=10]"
     ]
    },
    {
     "name": "stdout",
     "output_type": "stream",
     "text": [
      "\r",
      "Epoch 242/600:  40%|████      | 242/600 [17:10<26:31,  4.45s/it, v_num=bl_1, total_loss_train=902, kl_local_train=76.2, tardis_age_0_train=8.76, tardis_integration_donor_0_train=10.2]"
     ]
    },
    {
     "name": "stdout",
     "output_type": "stream",
     "text": [
      "\r",
      "Epoch 243/600:  40%|████      | 242/600 [17:10<26:31,  4.45s/it, v_num=bl_1, total_loss_train=902, kl_local_train=76.2, tardis_age_0_train=8.76, tardis_integration_donor_0_train=10.2]"
     ]
    },
    {
     "name": "stdout",
     "output_type": "stream",
     "text": [
      "\r",
      "Epoch 243/600:  40%|████      | 243/600 [17:14<26:20,  4.43s/it, v_num=bl_1, total_loss_train=902, kl_local_train=76.2, tardis_age_0_train=8.76, tardis_integration_donor_0_train=10.2]"
     ]
    },
    {
     "name": "stdout",
     "output_type": "stream",
     "text": [
      "\r",
      "Epoch 243/600:  40%|████      | 243/600 [17:14<26:20,  4.43s/it, v_num=bl_1, total_loss_train=902, kl_local_train=76.9, tardis_age_0_train=8.68, tardis_integration_donor_0_train=10]  "
     ]
    },
    {
     "name": "stdout",
     "output_type": "stream",
     "text": [
      "\r",
      "Epoch 244/600:  40%|████      | 243/600 [17:14<26:20,  4.43s/it, v_num=bl_1, total_loss_train=902, kl_local_train=76.9, tardis_age_0_train=8.68, tardis_integration_donor_0_train=10]"
     ]
    },
    {
     "name": "stdout",
     "output_type": "stream",
     "text": [
      "\r",
      "Epoch 244/600:  41%|████      | 244/600 [17:19<26:43,  4.50s/it, v_num=bl_1, total_loss_train=902, kl_local_train=76.9, tardis_age_0_train=8.68, tardis_integration_donor_0_train=10]"
     ]
    },
    {
     "name": "stdout",
     "output_type": "stream",
     "text": [
      "\r",
      "Epoch 244/600:  41%|████      | 244/600 [17:19<26:43,  4.50s/it, v_num=bl_1, total_loss_train=902, kl_local_train=76.8, tardis_age_0_train=8.74, tardis_integration_donor_0_train=10.2]"
     ]
    },
    {
     "name": "stdout",
     "output_type": "stream",
     "text": [
      "\r",
      "Epoch 245/600:  41%|████      | 244/600 [17:19<26:43,  4.50s/it, v_num=bl_1, total_loss_train=902, kl_local_train=76.8, tardis_age_0_train=8.74, tardis_integration_donor_0_train=10.2]"
     ]
    },
    {
     "name": "stdout",
     "output_type": "stream",
     "text": [
      "\r",
      "Epoch 245/600:  41%|████      | 245/600 [17:23<26:27,  4.47s/it, v_num=bl_1, total_loss_train=902, kl_local_train=76.8, tardis_age_0_train=8.74, tardis_integration_donor_0_train=10.2]"
     ]
    },
    {
     "name": "stdout",
     "output_type": "stream",
     "text": [
      "\r",
      "Epoch 245/600:  41%|████      | 245/600 [17:23<26:27,  4.47s/it, v_num=bl_1, total_loss_train=901, kl_local_train=76.3, tardis_age_0_train=8.74, tardis_integration_donor_0_train=10]  "
     ]
    },
    {
     "name": "stdout",
     "output_type": "stream",
     "text": [
      "\r",
      "Epoch 246/600:  41%|████      | 245/600 [17:23<26:27,  4.47s/it, v_num=bl_1, total_loss_train=901, kl_local_train=76.3, tardis_age_0_train=8.74, tardis_integration_donor_0_train=10]"
     ]
    },
    {
     "name": "stdout",
     "output_type": "stream",
     "text": [
      "\r",
      "Epoch 246/600:  41%|████      | 246/600 [17:28<26:16,  4.45s/it, v_num=bl_1, total_loss_train=901, kl_local_train=76.3, tardis_age_0_train=8.74, tardis_integration_donor_0_train=10]"
     ]
    },
    {
     "name": "stdout",
     "output_type": "stream",
     "text": [
      "\r",
      "Epoch 246/600:  41%|████      | 246/600 [17:28<26:16,  4.45s/it, v_num=bl_1, total_loss_train=901, kl_local_train=76, tardis_age_0_train=8.91, tardis_integration_donor_0_train=10.2]"
     ]
    },
    {
     "name": "stdout",
     "output_type": "stream",
     "text": [
      "\r",
      "Epoch 247/600:  41%|████      | 246/600 [17:28<26:16,  4.45s/it, v_num=bl_1, total_loss_train=901, kl_local_train=76, tardis_age_0_train=8.91, tardis_integration_donor_0_train=10.2]"
     ]
    },
    {
     "name": "stdout",
     "output_type": "stream",
     "text": [
      "\r",
      "Epoch 247/600:  41%|████      | 247/600 [17:32<26:28,  4.50s/it, v_num=bl_1, total_loss_train=901, kl_local_train=76, tardis_age_0_train=8.91, tardis_integration_donor_0_train=10.2]"
     ]
    },
    {
     "name": "stdout",
     "output_type": "stream",
     "text": [
      "\r",
      "Epoch 247/600:  41%|████      | 247/600 [17:32<26:28,  4.50s/it, v_num=bl_1, total_loss_train=901, kl_local_train=76.6, tardis_age_0_train=8.74, tardis_integration_donor_0_train=10.2]"
     ]
    },
    {
     "name": "stdout",
     "output_type": "stream",
     "text": [
      "\r",
      "Epoch 248/600:  41%|████      | 247/600 [17:32<26:28,  4.50s/it, v_num=bl_1, total_loss_train=901, kl_local_train=76.6, tardis_age_0_train=8.74, tardis_integration_donor_0_train=10.2]"
     ]
    },
    {
     "name": "stdout",
     "output_type": "stream",
     "text": [
      "\r",
      "Epoch 248/600:  41%|████▏     | 248/600 [17:37<26:13,  4.47s/it, v_num=bl_1, total_loss_train=901, kl_local_train=76.6, tardis_age_0_train=8.74, tardis_integration_donor_0_train=10.2]"
     ]
    },
    {
     "name": "stdout",
     "output_type": "stream",
     "text": [
      "\r",
      "Epoch 248/600:  41%|████▏     | 248/600 [17:37<26:13,  4.47s/it, v_num=bl_1, total_loss_train=901, kl_local_train=76.3, tardis_age_0_train=8.7, tardis_integration_donor_0_train=10.2] "
     ]
    },
    {
     "name": "stdout",
     "output_type": "stream",
     "text": [
      "\r",
      "Epoch 249/600:  41%|████▏     | 248/600 [17:37<26:13,  4.47s/it, v_num=bl_1, total_loss_train=901, kl_local_train=76.3, tardis_age_0_train=8.7, tardis_integration_donor_0_train=10.2]"
     ]
    },
    {
     "name": "stdout",
     "output_type": "stream",
     "text": [
      "\r",
      "Epoch 249/600:  42%|████▏     | 249/600 [17:41<26:03,  4.46s/it, v_num=bl_1, total_loss_train=901, kl_local_train=76.3, tardis_age_0_train=8.7, tardis_integration_donor_0_train=10.2]"
     ]
    },
    {
     "name": "stdout",
     "output_type": "stream",
     "text": [
      "\r",
      "Epoch 249/600:  42%|████▏     | 249/600 [17:41<26:03,  4.46s/it, v_num=bl_1, total_loss_train=901, kl_local_train=75.4, tardis_age_0_train=8.89, tardis_integration_donor_0_train=10.3]"
     ]
    },
    {
     "name": "stdout",
     "output_type": "stream",
     "text": [
      "\r",
      "Epoch 250/600:  42%|████▏     | 249/600 [17:41<26:03,  4.46s/it, v_num=bl_1, total_loss_train=901, kl_local_train=75.4, tardis_age_0_train=8.89, tardis_integration_donor_0_train=10.3]"
     ]
    },
    {
     "name": "stdout",
     "output_type": "stream",
     "text": [
      "\r",
      "Epoch 250/600:  42%|████▏     | 250/600 [17:46<26:13,  4.50s/it, v_num=bl_1, total_loss_train=901, kl_local_train=75.4, tardis_age_0_train=8.89, tardis_integration_donor_0_train=10.3]"
     ]
    },
    {
     "name": "stdout",
     "output_type": "stream",
     "text": [
      "\r",
      "Epoch 250/600:  42%|████▏     | 250/600 [17:46<26:13,  4.50s/it, v_num=bl_1, total_loss_train=901, kl_local_train=76.3, tardis_age_0_train=8.73, tardis_integration_donor_0_train=10.1]"
     ]
    },
    {
     "name": "stdout",
     "output_type": "stream",
     "text": [
      "\r",
      "Epoch 251/600:  42%|████▏     | 250/600 [17:46<26:13,  4.50s/it, v_num=bl_1, total_loss_train=901, kl_local_train=76.3, tardis_age_0_train=8.73, tardis_integration_donor_0_train=10.1]"
     ]
    },
    {
     "name": "stdout",
     "output_type": "stream",
     "text": [
      "\r",
      "Epoch 251/600:  42%|████▏     | 251/600 [17:50<25:57,  4.46s/it, v_num=bl_1, total_loss_train=901, kl_local_train=76.3, tardis_age_0_train=8.73, tardis_integration_donor_0_train=10.1]"
     ]
    },
    {
     "name": "stdout",
     "output_type": "stream",
     "text": [
      "\r",
      "Epoch 251/600:  42%|████▏     | 251/600 [17:50<25:57,  4.46s/it, v_num=bl_1, total_loss_train=900, kl_local_train=76.2, tardis_age_0_train=8.78, tardis_integration_donor_0_train=10.2]"
     ]
    },
    {
     "name": "stdout",
     "output_type": "stream",
     "text": [
      "\r",
      "Epoch 252/600:  42%|████▏     | 251/600 [17:50<25:57,  4.46s/it, v_num=bl_1, total_loss_train=900, kl_local_train=76.2, tardis_age_0_train=8.78, tardis_integration_donor_0_train=10.2]"
     ]
    },
    {
     "name": "stdout",
     "output_type": "stream",
     "text": [
      "\r",
      "Epoch 252/600:  42%|████▏     | 252/600 [17:54<25:40,  4.43s/it, v_num=bl_1, total_loss_train=900, kl_local_train=76.2, tardis_age_0_train=8.78, tardis_integration_donor_0_train=10.2]"
     ]
    },
    {
     "name": "stdout",
     "output_type": "stream",
     "text": [
      "\r",
      "Epoch 252/600:  42%|████▏     | 252/600 [17:54<25:40,  4.43s/it, v_num=bl_1, total_loss_train=900, kl_local_train=75.9, tardis_age_0_train=8.94, tardis_integration_donor_0_train=10.1]"
     ]
    },
    {
     "name": "stdout",
     "output_type": "stream",
     "text": [
      "\r",
      "Epoch 253/600:  42%|████▏     | 252/600 [17:54<25:40,  4.43s/it, v_num=bl_1, total_loss_train=900, kl_local_train=75.9, tardis_age_0_train=8.94, tardis_integration_donor_0_train=10.1]"
     ]
    },
    {
     "name": "stdout",
     "output_type": "stream",
     "text": [
      "\r",
      "Epoch 253/600:  42%|████▏     | 253/600 [17:59<25:36,  4.43s/it, v_num=bl_1, total_loss_train=900, kl_local_train=75.9, tardis_age_0_train=8.94, tardis_integration_donor_0_train=10.1]"
     ]
    },
    {
     "name": "stdout",
     "output_type": "stream",
     "text": [
      "\r",
      "Epoch 253/600:  42%|████▏     | 253/600 [17:59<25:36,  4.43s/it, v_num=bl_1, total_loss_train=900, kl_local_train=74.8, tardis_age_0_train=8.99, tardis_integration_donor_0_train=10.3]"
     ]
    },
    {
     "name": "stdout",
     "output_type": "stream",
     "text": [
      "\r",
      "Epoch 254/600:  42%|████▏     | 253/600 [17:59<25:36,  4.43s/it, v_num=bl_1, total_loss_train=900, kl_local_train=74.8, tardis_age_0_train=8.99, tardis_integration_donor_0_train=10.3]"
     ]
    },
    {
     "name": "stdout",
     "output_type": "stream",
     "text": [
      "\r",
      "Epoch 254/600:  42%|████▏     | 254/600 [18:03<25:45,  4.47s/it, v_num=bl_1, total_loss_train=900, kl_local_train=74.8, tardis_age_0_train=8.99, tardis_integration_donor_0_train=10.3]"
     ]
    },
    {
     "name": "stdout",
     "output_type": "stream",
     "text": [
      "\r",
      "Epoch 254/600:  42%|████▏     | 254/600 [18:03<25:45,  4.47s/it, v_num=bl_1, total_loss_train=900, kl_local_train=75.5, tardis_age_0_train=8.8, tardis_integration_donor_0_train=10.3] "
     ]
    },
    {
     "name": "stdout",
     "output_type": "stream",
     "text": [
      "\r",
      "Epoch 255/600:  42%|████▏     | 254/600 [18:03<25:45,  4.47s/it, v_num=bl_1, total_loss_train=900, kl_local_train=75.5, tardis_age_0_train=8.8, tardis_integration_donor_0_train=10.3]"
     ]
    },
    {
     "name": "stdout",
     "output_type": "stream",
     "text": [
      "\r",
      "Epoch 255/600:  42%|████▎     | 255/600 [18:08<25:31,  4.44s/it, v_num=bl_1, total_loss_train=900, kl_local_train=75.5, tardis_age_0_train=8.8, tardis_integration_donor_0_train=10.3]"
     ]
    },
    {
     "name": "stdout",
     "output_type": "stream",
     "text": [
      "\r",
      "Epoch 255/600:  42%|████▎     | 255/600 [18:08<25:31,  4.44s/it, v_num=bl_1, total_loss_train=900, kl_local_train=75.1, tardis_age_0_train=9.04, tardis_integration_donor_0_train=10.5]"
     ]
    },
    {
     "name": "stdout",
     "output_type": "stream",
     "text": [
      "\r",
      "Epoch 256/600:  42%|████▎     | 255/600 [18:08<25:31,  4.44s/it, v_num=bl_1, total_loss_train=900, kl_local_train=75.1, tardis_age_0_train=9.04, tardis_integration_donor_0_train=10.5]"
     ]
    },
    {
     "name": "stdout",
     "output_type": "stream",
     "text": [
      "\r",
      "Epoch 256/600:  43%|████▎     | 256/600 [18:12<25:19,  4.42s/it, v_num=bl_1, total_loss_train=900, kl_local_train=75.1, tardis_age_0_train=9.04, tardis_integration_donor_0_train=10.5]"
     ]
    },
    {
     "name": "stdout",
     "output_type": "stream",
     "text": [
      "\r",
      "Epoch 256/600:  43%|████▎     | 256/600 [18:12<25:19,  4.42s/it, v_num=bl_1, total_loss_train=899, kl_local_train=75, tardis_age_0_train=8.93, tardis_integration_donor_0_train=10.3]  "
     ]
    },
    {
     "name": "stdout",
     "output_type": "stream",
     "text": [
      "\r",
      "Epoch 257/600:  43%|████▎     | 256/600 [18:12<25:19,  4.42s/it, v_num=bl_1, total_loss_train=899, kl_local_train=75, tardis_age_0_train=8.93, tardis_integration_donor_0_train=10.3]"
     ]
    },
    {
     "name": "stdout",
     "output_type": "stream",
     "text": [
      "\r",
      "Epoch 257/600:  43%|████▎     | 257/600 [18:17<25:15,  4.42s/it, v_num=bl_1, total_loss_train=899, kl_local_train=75, tardis_age_0_train=8.93, tardis_integration_donor_0_train=10.3]"
     ]
    },
    {
     "name": "stdout",
     "output_type": "stream",
     "text": [
      "\r",
      "Epoch 257/600:  43%|████▎     | 257/600 [18:17<25:15,  4.42s/it, v_num=bl_1, total_loss_train=899, kl_local_train=74.5, tardis_age_0_train=9, tardis_integration_donor_0_train=10.3] "
     ]
    },
    {
     "name": "stdout",
     "output_type": "stream",
     "text": [
      "\r",
      "Epoch 258/600:  43%|████▎     | 257/600 [18:17<25:15,  4.42s/it, v_num=bl_1, total_loss_train=899, kl_local_train=74.5, tardis_age_0_train=9, tardis_integration_donor_0_train=10.3]"
     ]
    },
    {
     "name": "stdout",
     "output_type": "stream",
     "text": [
      "\r",
      "Epoch 258/600:  43%|████▎     | 258/600 [18:21<25:29,  4.47s/it, v_num=bl_1, total_loss_train=899, kl_local_train=74.5, tardis_age_0_train=9, tardis_integration_donor_0_train=10.3]"
     ]
    },
    {
     "name": "stdout",
     "output_type": "stream",
     "text": [
      "\r",
      "Epoch 258/600:  43%|████▎     | 258/600 [18:21<25:29,  4.47s/it, v_num=bl_1, total_loss_train=899, kl_local_train=74, tardis_age_0_train=9.03, tardis_integration_donor_0_train=10.5]"
     ]
    },
    {
     "name": "stdout",
     "output_type": "stream",
     "text": [
      "\r",
      "Epoch 259/600:  43%|████▎     | 258/600 [18:21<25:29,  4.47s/it, v_num=bl_1, total_loss_train=899, kl_local_train=74, tardis_age_0_train=9.03, tardis_integration_donor_0_train=10.5]"
     ]
    },
    {
     "name": "stdout",
     "output_type": "stream",
     "text": [
      "\r",
      "Epoch 259/600:  43%|████▎     | 259/600 [18:26<25:14,  4.44s/it, v_num=bl_1, total_loss_train=899, kl_local_train=74, tardis_age_0_train=9.03, tardis_integration_donor_0_train=10.5]"
     ]
    },
    {
     "name": "stdout",
     "output_type": "stream",
     "text": [
      "\r",
      "Epoch 259/600:  43%|████▎     | 259/600 [18:26<25:14,  4.44s/it, v_num=bl_1, total_loss_train=899, kl_local_train=74.6, tardis_age_0_train=9.11, tardis_integration_donor_0_train=10.4]"
     ]
    },
    {
     "name": "stdout",
     "output_type": "stream",
     "text": [
      "\r",
      "Epoch 260/600:  43%|████▎     | 259/600 [18:26<25:14,  4.44s/it, v_num=bl_1, total_loss_train=899, kl_local_train=74.6, tardis_age_0_train=9.11, tardis_integration_donor_0_train=10.4]"
     ]
    },
    {
     "name": "stdout",
     "output_type": "stream",
     "text": [
      "\r",
      "Epoch 260/600:  43%|████▎     | 260/600 [18:30<25:07,  4.43s/it, v_num=bl_1, total_loss_train=899, kl_local_train=74.6, tardis_age_0_train=9.11, tardis_integration_donor_0_train=10.4]"
     ]
    },
    {
     "name": "stdout",
     "output_type": "stream",
     "text": [
      "\r",
      "Epoch 260/600:  43%|████▎     | 260/600 [18:30<25:07,  4.43s/it, v_num=bl_1, total_loss_train=899, kl_local_train=74.4, tardis_age_0_train=8.96, tardis_integration_donor_0_train=10.5]"
     ]
    },
    {
     "name": "stdout",
     "output_type": "stream",
     "text": [
      "\r",
      "Epoch 261/600:  43%|████▎     | 260/600 [18:30<25:07,  4.43s/it, v_num=bl_1, total_loss_train=899, kl_local_train=74.4, tardis_age_0_train=8.96, tardis_integration_donor_0_train=10.5]"
     ]
    },
    {
     "name": "stdout",
     "output_type": "stream",
     "text": [
      "\r",
      "Epoch 261/600:  44%|████▎     | 261/600 [18:35<25:32,  4.52s/it, v_num=bl_1, total_loss_train=899, kl_local_train=74.4, tardis_age_0_train=8.96, tardis_integration_donor_0_train=10.5]"
     ]
    },
    {
     "name": "stdout",
     "output_type": "stream",
     "text": [
      "\r",
      "Epoch 261/600:  44%|████▎     | 261/600 [18:35<25:32,  4.52s/it, v_num=bl_1, total_loss_train=899, kl_local_train=74.4, tardis_age_0_train=9, tardis_integration_donor_0_train=10.4]   "
     ]
    },
    {
     "name": "stdout",
     "output_type": "stream",
     "text": [
      "\r",
      "Epoch 262/600:  44%|████▎     | 261/600 [18:35<25:32,  4.52s/it, v_num=bl_1, total_loss_train=899, kl_local_train=74.4, tardis_age_0_train=9, tardis_integration_donor_0_train=10.4]"
     ]
    },
    {
     "name": "stdout",
     "output_type": "stream",
     "text": [
      "\r",
      "Epoch 262/600:  44%|████▎     | 262/600 [18:39<25:10,  4.47s/it, v_num=bl_1, total_loss_train=899, kl_local_train=74.4, tardis_age_0_train=9, tardis_integration_donor_0_train=10.4]"
     ]
    },
    {
     "name": "stdout",
     "output_type": "stream",
     "text": [
      "\r",
      "Epoch 262/600:  44%|████▎     | 262/600 [18:39<25:10,  4.47s/it, v_num=bl_1, total_loss_train=898, kl_local_train=74.4, tardis_age_0_train=8.9, tardis_integration_donor_0_train=10.3]"
     ]
    },
    {
     "name": "stdout",
     "output_type": "stream",
     "text": [
      "\r",
      "Epoch 263/600:  44%|████▎     | 262/600 [18:39<25:10,  4.47s/it, v_num=bl_1, total_loss_train=898, kl_local_train=74.4, tardis_age_0_train=8.9, tardis_integration_donor_0_train=10.3]"
     ]
    },
    {
     "name": "stdout",
     "output_type": "stream",
     "text": [
      "\r",
      "Epoch 263/600:  44%|████▍     | 263/600 [18:43<24:55,  4.44s/it, v_num=bl_1, total_loss_train=898, kl_local_train=74.4, tardis_age_0_train=8.9, tardis_integration_donor_0_train=10.3]"
     ]
    },
    {
     "name": "stdout",
     "output_type": "stream",
     "text": [
      "\r",
      "Epoch 263/600:  44%|████▍     | 263/600 [18:43<24:55,  4.44s/it, v_num=bl_1, total_loss_train=898, kl_local_train=73.9, tardis_age_0_train=9.05, tardis_integration_donor_0_train=10.4]"
     ]
    },
    {
     "name": "stdout",
     "output_type": "stream",
     "text": [
      "\r",
      "Epoch 264/600:  44%|████▍     | 263/600 [18:43<24:55,  4.44s/it, v_num=bl_1, total_loss_train=898, kl_local_train=73.9, tardis_age_0_train=9.05, tardis_integration_donor_0_train=10.4]"
     ]
    },
    {
     "name": "stdout",
     "output_type": "stream",
     "text": [
      "\r",
      "Epoch 264/600:  44%|████▍     | 264/600 [18:48<24:42,  4.41s/it, v_num=bl_1, total_loss_train=898, kl_local_train=73.9, tardis_age_0_train=9.05, tardis_integration_donor_0_train=10.4]"
     ]
    },
    {
     "name": "stdout",
     "output_type": "stream",
     "text": [
      "\r",
      "Epoch 264/600:  44%|████▍     | 264/600 [18:48<24:42,  4.41s/it, v_num=bl_1, total_loss_train=898, kl_local_train=73.4, tardis_age_0_train=9.09, tardis_integration_donor_0_train=10.4]"
     ]
    },
    {
     "name": "stdout",
     "output_type": "stream",
     "text": [
      "\r",
      "Epoch 265/600:  44%|████▍     | 264/600 [18:48<24:42,  4.41s/it, v_num=bl_1, total_loss_train=898, kl_local_train=73.4, tardis_age_0_train=9.09, tardis_integration_donor_0_train=10.4]"
     ]
    },
    {
     "name": "stdout",
     "output_type": "stream",
     "text": [
      "\r",
      "Epoch 265/600:  44%|████▍     | 265/600 [18:52<25:04,  4.49s/it, v_num=bl_1, total_loss_train=898, kl_local_train=73.4, tardis_age_0_train=9.09, tardis_integration_donor_0_train=10.4]"
     ]
    },
    {
     "name": "stdout",
     "output_type": "stream",
     "text": [
      "\r",
      "Epoch 265/600:  44%|████▍     | 265/600 [18:52<25:04,  4.49s/it, v_num=bl_1, total_loss_train=898, kl_local_train=73.3, tardis_age_0_train=9.19, tardis_integration_donor_0_train=10.5]"
     ]
    },
    {
     "name": "stdout",
     "output_type": "stream",
     "text": [
      "\r",
      "Epoch 266/600:  44%|████▍     | 265/600 [18:52<25:04,  4.49s/it, v_num=bl_1, total_loss_train=898, kl_local_train=73.3, tardis_age_0_train=9.19, tardis_integration_donor_0_train=10.5]"
     ]
    },
    {
     "name": "stdout",
     "output_type": "stream",
     "text": [
      "\r",
      "Epoch 266/600:  44%|████▍     | 266/600 [18:57<24:47,  4.45s/it, v_num=bl_1, total_loss_train=898, kl_local_train=73.3, tardis_age_0_train=9.19, tardis_integration_donor_0_train=10.5]"
     ]
    },
    {
     "name": "stdout",
     "output_type": "stream",
     "text": [
      "\r",
      "Epoch 266/600:  44%|████▍     | 266/600 [18:57<24:47,  4.45s/it, v_num=bl_1, total_loss_train=898, kl_local_train=73.4, tardis_age_0_train=9.19, tardis_integration_donor_0_train=10.6]"
     ]
    },
    {
     "name": "stdout",
     "output_type": "stream",
     "text": [
      "\r",
      "Epoch 267/600:  44%|████▍     | 266/600 [18:57<24:47,  4.45s/it, v_num=bl_1, total_loss_train=898, kl_local_train=73.4, tardis_age_0_train=9.19, tardis_integration_donor_0_train=10.6]"
     ]
    },
    {
     "name": "stdout",
     "output_type": "stream",
     "text": [
      "\r",
      "Epoch 267/600:  44%|████▍     | 267/600 [19:01<24:36,  4.43s/it, v_num=bl_1, total_loss_train=898, kl_local_train=73.4, tardis_age_0_train=9.19, tardis_integration_donor_0_train=10.6]"
     ]
    },
    {
     "name": "stdout",
     "output_type": "stream",
     "text": [
      "\r",
      "Epoch 267/600:  44%|████▍     | 267/600 [19:01<24:36,  4.43s/it, v_num=bl_1, total_loss_train=898, kl_local_train=74, tardis_age_0_train=9.14, tardis_integration_donor_0_train=10.6]  "
     ]
    },
    {
     "name": "stdout",
     "output_type": "stream",
     "text": [
      "\r",
      "Epoch 268/600:  44%|████▍     | 267/600 [19:01<24:36,  4.43s/it, v_num=bl_1, total_loss_train=898, kl_local_train=74, tardis_age_0_train=9.14, tardis_integration_donor_0_train=10.6]"
     ]
    },
    {
     "name": "stdout",
     "output_type": "stream",
     "text": [
      "\r",
      "Epoch 268/600:  45%|████▍     | 268/600 [19:06<24:51,  4.49s/it, v_num=bl_1, total_loss_train=898, kl_local_train=74, tardis_age_0_train=9.14, tardis_integration_donor_0_train=10.6]"
     ]
    },
    {
     "name": "stdout",
     "output_type": "stream",
     "text": [
      "\r",
      "Epoch 268/600:  45%|████▍     | 268/600 [19:06<24:51,  4.49s/it, v_num=bl_1, total_loss_train=898, kl_local_train=74, tardis_age_0_train=9.04, tardis_integration_donor_0_train=10.5]"
     ]
    },
    {
     "name": "stdout",
     "output_type": "stream",
     "text": [
      "\r",
      "Epoch 269/600:  45%|████▍     | 268/600 [19:06<24:51,  4.49s/it, v_num=bl_1, total_loss_train=898, kl_local_train=74, tardis_age_0_train=9.04, tardis_integration_donor_0_train=10.5]"
     ]
    },
    {
     "name": "stdout",
     "output_type": "stream",
     "text": [
      "\r",
      "Epoch 269/600:  45%|████▍     | 269/600 [19:10<24:36,  4.46s/it, v_num=bl_1, total_loss_train=898, kl_local_train=74, tardis_age_0_train=9.04, tardis_integration_donor_0_train=10.5]"
     ]
    },
    {
     "name": "stdout",
     "output_type": "stream",
     "text": [
      "\r",
      "Epoch 269/600:  45%|████▍     | 269/600 [19:10<24:36,  4.46s/it, v_num=bl_1, total_loss_train=898, kl_local_train=74.2, tardis_age_0_train=9.06, tardis_integration_donor_0_train=10.5]"
     ]
    },
    {
     "name": "stdout",
     "output_type": "stream",
     "text": [
      "\r",
      "Epoch 270/600:  45%|████▍     | 269/600 [19:10<24:36,  4.46s/it, v_num=bl_1, total_loss_train=898, kl_local_train=74.2, tardis_age_0_train=9.06, tardis_integration_donor_0_train=10.5]"
     ]
    },
    {
     "name": "stdout",
     "output_type": "stream",
     "text": [
      "\r",
      "Epoch 270/600:  45%|████▌     | 270/600 [19:15<24:23,  4.44s/it, v_num=bl_1, total_loss_train=898, kl_local_train=74.2, tardis_age_0_train=9.06, tardis_integration_donor_0_train=10.5]"
     ]
    },
    {
     "name": "stdout",
     "output_type": "stream",
     "text": [
      "\r",
      "Epoch 270/600:  45%|████▌     | 270/600 [19:15<24:23,  4.44s/it, v_num=bl_1, total_loss_train=898, kl_local_train=73.7, tardis_age_0_train=9.14, tardis_integration_donor_0_train=10.5]"
     ]
    },
    {
     "name": "stdout",
     "output_type": "stream",
     "text": [
      "\r",
      "Epoch 271/600:  45%|████▌     | 270/600 [19:15<24:23,  4.44s/it, v_num=bl_1, total_loss_train=898, kl_local_train=73.7, tardis_age_0_train=9.14, tardis_integration_donor_0_train=10.5]"
     ]
    },
    {
     "name": "stdout",
     "output_type": "stream",
     "text": [
      "\r",
      "Epoch 271/600:  45%|████▌     | 271/600 [19:19<24:13,  4.42s/it, v_num=bl_1, total_loss_train=898, kl_local_train=73.7, tardis_age_0_train=9.14, tardis_integration_donor_0_train=10.5]"
     ]
    },
    {
     "name": "stdout",
     "output_type": "stream",
     "text": [
      "\r",
      "Epoch 271/600:  45%|████▌     | 271/600 [19:19<24:13,  4.42s/it, v_num=bl_1, total_loss_train=897, kl_local_train=73.8, tardis_age_0_train=9.21, tardis_integration_donor_0_train=10.6]"
     ]
    },
    {
     "name": "stdout",
     "output_type": "stream",
     "text": [
      "\r",
      "Epoch 272/600:  45%|████▌     | 271/600 [19:19<24:13,  4.42s/it, v_num=bl_1, total_loss_train=897, kl_local_train=73.8, tardis_age_0_train=9.21, tardis_integration_donor_0_train=10.6]"
     ]
    },
    {
     "name": "stdout",
     "output_type": "stream",
     "text": [
      "\r",
      "Epoch 272/600:  45%|████▌     | 272/600 [19:24<24:33,  4.49s/it, v_num=bl_1, total_loss_train=897, kl_local_train=73.8, tardis_age_0_train=9.21, tardis_integration_donor_0_train=10.6]"
     ]
    },
    {
     "name": "stdout",
     "output_type": "stream",
     "text": [
      "\r",
      "Epoch 272/600:  45%|████▌     | 272/600 [19:24<24:33,  4.49s/it, v_num=bl_1, total_loss_train=897, kl_local_train=73.3, tardis_age_0_train=9.17, tardis_integration_donor_0_train=10.6]"
     ]
    },
    {
     "name": "stdout",
     "output_type": "stream",
     "text": [
      "\r",
      "Epoch 273/600:  45%|████▌     | 272/600 [19:24<24:33,  4.49s/it, v_num=bl_1, total_loss_train=897, kl_local_train=73.3, tardis_age_0_train=9.17, tardis_integration_donor_0_train=10.6]"
     ]
    },
    {
     "name": "stdout",
     "output_type": "stream",
     "text": [
      "\r",
      "Epoch 273/600:  46%|████▌     | 273/600 [19:28<24:18,  4.46s/it, v_num=bl_1, total_loss_train=897, kl_local_train=73.3, tardis_age_0_train=9.17, tardis_integration_donor_0_train=10.6]"
     ]
    },
    {
     "name": "stdout",
     "output_type": "stream",
     "text": [
      "\r",
      "Epoch 273/600:  46%|████▌     | 273/600 [19:28<24:18,  4.46s/it, v_num=bl_1, total_loss_train=897, kl_local_train=73.1, tardis_age_0_train=9.18, tardis_integration_donor_0_train=10.6]"
     ]
    },
    {
     "name": "stdout",
     "output_type": "stream",
     "text": [
      "\r",
      "Epoch 274/600:  46%|████▌     | 273/600 [19:28<24:18,  4.46s/it, v_num=bl_1, total_loss_train=897, kl_local_train=73.1, tardis_age_0_train=9.18, tardis_integration_donor_0_train=10.6]"
     ]
    },
    {
     "name": "stdout",
     "output_type": "stream",
     "text": [
      "\r",
      "Epoch 274/600:  46%|████▌     | 274/600 [19:32<24:05,  4.43s/it, v_num=bl_1, total_loss_train=897, kl_local_train=73.1, tardis_age_0_train=9.18, tardis_integration_donor_0_train=10.6]"
     ]
    },
    {
     "name": "stdout",
     "output_type": "stream",
     "text": [
      "\r",
      "Epoch 274/600:  46%|████▌     | 274/600 [19:32<24:05,  4.43s/it, v_num=bl_1, total_loss_train=896, kl_local_train=73.3, tardis_age_0_train=9.15, tardis_integration_donor_0_train=10.6]"
     ]
    },
    {
     "name": "stdout",
     "output_type": "stream",
     "text": [
      "\r",
      "Epoch 275/600:  46%|████▌     | 274/600 [19:32<24:05,  4.43s/it, v_num=bl_1, total_loss_train=896, kl_local_train=73.3, tardis_age_0_train=9.15, tardis_integration_donor_0_train=10.6]"
     ]
    },
    {
     "name": "stdout",
     "output_type": "stream",
     "text": [
      "\r",
      "Epoch 275/600:  46%|████▌     | 275/600 [19:37<24:21,  4.50s/it, v_num=bl_1, total_loss_train=896, kl_local_train=73.3, tardis_age_0_train=9.15, tardis_integration_donor_0_train=10.6]"
     ]
    },
    {
     "name": "stdout",
     "output_type": "stream",
     "text": [
      "\r",
      "Epoch 275/600:  46%|████▌     | 275/600 [19:37<24:21,  4.50s/it, v_num=bl_1, total_loss_train=897, kl_local_train=72.7, tardis_age_0_train=9.29, tardis_integration_donor_0_train=10.8]"
     ]
    },
    {
     "name": "stdout",
     "output_type": "stream",
     "text": [
      "\r",
      "Epoch 276/600:  46%|████▌     | 275/600 [19:37<24:21,  4.50s/it, v_num=bl_1, total_loss_train=897, kl_local_train=72.7, tardis_age_0_train=9.29, tardis_integration_donor_0_train=10.8]"
     ]
    },
    {
     "name": "stdout",
     "output_type": "stream",
     "text": [
      "\r",
      "Epoch 276/600:  46%|████▌     | 276/600 [19:41<24:04,  4.46s/it, v_num=bl_1, total_loss_train=897, kl_local_train=72.7, tardis_age_0_train=9.29, tardis_integration_donor_0_train=10.8]"
     ]
    },
    {
     "name": "stdout",
     "output_type": "stream",
     "text": [
      "\r",
      "Epoch 276/600:  46%|████▌     | 276/600 [19:41<24:04,  4.46s/it, v_num=bl_1, total_loss_train=896, kl_local_train=72.9, tardis_age_0_train=9.29, tardis_integration_donor_0_train=10.8]"
     ]
    },
    {
     "name": "stdout",
     "output_type": "stream",
     "text": [
      "\r",
      "Epoch 277/600:  46%|████▌     | 276/600 [19:41<24:04,  4.46s/it, v_num=bl_1, total_loss_train=896, kl_local_train=72.9, tardis_age_0_train=9.29, tardis_integration_donor_0_train=10.8]"
     ]
    },
    {
     "name": "stdout",
     "output_type": "stream",
     "text": [
      "\r",
      "Epoch 277/600:  46%|████▌     | 277/600 [19:46<24:07,  4.48s/it, v_num=bl_1, total_loss_train=896, kl_local_train=72.9, tardis_age_0_train=9.29, tardis_integration_donor_0_train=10.8]"
     ]
    },
    {
     "name": "stdout",
     "output_type": "stream",
     "text": [
      "\r",
      "Epoch 277/600:  46%|████▌     | 277/600 [19:46<24:07,  4.48s/it, v_num=bl_1, total_loss_train=896, kl_local_train=72.4, tardis_age_0_train=9.28, tardis_integration_donor_0_train=10.7]"
     ]
    },
    {
     "name": "stdout",
     "output_type": "stream",
     "text": [
      "\r",
      "Epoch 278/600:  46%|████▌     | 277/600 [19:46<24:07,  4.48s/it, v_num=bl_1, total_loss_train=896, kl_local_train=72.4, tardis_age_0_train=9.28, tardis_integration_donor_0_train=10.7]"
     ]
    },
    {
     "name": "stdout",
     "output_type": "stream",
     "text": [
      "\r",
      "Epoch 278/600:  46%|████▋     | 278/600 [19:50<23:56,  4.46s/it, v_num=bl_1, total_loss_train=896, kl_local_train=72.4, tardis_age_0_train=9.28, tardis_integration_donor_0_train=10.7]"
     ]
    },
    {
     "name": "stdout",
     "output_type": "stream",
     "text": [
      "\r",
      "Epoch 278/600:  46%|████▋     | 278/600 [19:50<23:56,  4.46s/it, v_num=bl_1, total_loss_train=896, kl_local_train=72.3, tardis_age_0_train=9.24, tardis_integration_donor_0_train=10.7]"
     ]
    },
    {
     "name": "stdout",
     "output_type": "stream",
     "text": [
      "\r",
      "Epoch 279/600:  46%|████▋     | 278/600 [19:50<23:56,  4.46s/it, v_num=bl_1, total_loss_train=896, kl_local_train=72.3, tardis_age_0_train=9.24, tardis_integration_donor_0_train=10.7]"
     ]
    },
    {
     "name": "stdout",
     "output_type": "stream",
     "text": [
      "\r",
      "Epoch 279/600:  46%|████▋     | 279/600 [19:55<24:14,  4.53s/it, v_num=bl_1, total_loss_train=896, kl_local_train=72.3, tardis_age_0_train=9.24, tardis_integration_donor_0_train=10.7]"
     ]
    },
    {
     "name": "stdout",
     "output_type": "stream",
     "text": [
      "\r",
      "Epoch 279/600:  46%|████▋     | 279/600 [19:55<24:14,  4.53s/it, v_num=bl_1, total_loss_train=896, kl_local_train=72.7, tardis_age_0_train=9.11, tardis_integration_donor_0_train=10.8]"
     ]
    },
    {
     "name": "stdout",
     "output_type": "stream",
     "text": [
      "\r",
      "Epoch 280/600:  46%|████▋     | 279/600 [19:55<24:14,  4.53s/it, v_num=bl_1, total_loss_train=896, kl_local_train=72.7, tardis_age_0_train=9.11, tardis_integration_donor_0_train=10.8]"
     ]
    },
    {
     "name": "stdout",
     "output_type": "stream",
     "text": [
      "\r",
      "Epoch 280/600:  47%|████▋     | 280/600 [19:59<23:53,  4.48s/it, v_num=bl_1, total_loss_train=896, kl_local_train=72.7, tardis_age_0_train=9.11, tardis_integration_donor_0_train=10.8]"
     ]
    },
    {
     "name": "stdout",
     "output_type": "stream",
     "text": [
      "\r",
      "Epoch 280/600:  47%|████▋     | 280/600 [19:59<23:53,  4.48s/it, v_num=bl_1, total_loss_train=896, kl_local_train=72.1, tardis_age_0_train=9.28, tardis_integration_donor_0_train=10.7]"
     ]
    },
    {
     "name": "stdout",
     "output_type": "stream",
     "text": [
      "\r",
      "Epoch 281/600:  47%|████▋     | 280/600 [19:59<23:53,  4.48s/it, v_num=bl_1, total_loss_train=896, kl_local_train=72.1, tardis_age_0_train=9.28, tardis_integration_donor_0_train=10.7]"
     ]
    },
    {
     "name": "stdout",
     "output_type": "stream",
     "text": [
      "\r",
      "Epoch 281/600:  47%|████▋     | 281/600 [20:04<23:41,  4.46s/it, v_num=bl_1, total_loss_train=896, kl_local_train=72.1, tardis_age_0_train=9.28, tardis_integration_donor_0_train=10.7]"
     ]
    },
    {
     "name": "stdout",
     "output_type": "stream",
     "text": [
      "\r",
      "Epoch 281/600:  47%|████▋     | 281/600 [20:04<23:41,  4.46s/it, v_num=bl_1, total_loss_train=896, kl_local_train=72.1, tardis_age_0_train=9.4, tardis_integration_donor_0_train=10.8] "
     ]
    },
    {
     "name": "stdout",
     "output_type": "stream",
     "text": [
      "\r",
      "Epoch 282/600:  47%|████▋     | 281/600 [20:04<23:41,  4.46s/it, v_num=bl_1, total_loss_train=896, kl_local_train=72.1, tardis_age_0_train=9.4, tardis_integration_donor_0_train=10.8]"
     ]
    },
    {
     "name": "stdout",
     "output_type": "stream",
     "text": [
      "\r",
      "Epoch 282/600:  47%|████▋     | 282/600 [20:08<23:48,  4.49s/it, v_num=bl_1, total_loss_train=896, kl_local_train=72.1, tardis_age_0_train=9.4, tardis_integration_donor_0_train=10.8]"
     ]
    },
    {
     "name": "stdout",
     "output_type": "stream",
     "text": [
      "\r",
      "Epoch 282/600:  47%|████▋     | 282/600 [20:08<23:48,  4.49s/it, v_num=bl_1, total_loss_train=895, kl_local_train=72.2, tardis_age_0_train=9.3, tardis_integration_donor_0_train=10.9]"
     ]
    },
    {
     "name": "stdout",
     "output_type": "stream",
     "text": [
      "\r",
      "Epoch 283/600:  47%|████▋     | 282/600 [20:08<23:48,  4.49s/it, v_num=bl_1, total_loss_train=895, kl_local_train=72.2, tardis_age_0_train=9.3, tardis_integration_donor_0_train=10.9]"
     ]
    },
    {
     "name": "stdout",
     "output_type": "stream",
     "text": [
      "\r",
      "Epoch 283/600:  47%|████▋     | 283/600 [20:13<23:34,  4.46s/it, v_num=bl_1, total_loss_train=895, kl_local_train=72.2, tardis_age_0_train=9.3, tardis_integration_donor_0_train=10.9]"
     ]
    },
    {
     "name": "stdout",
     "output_type": "stream",
     "text": [
      "\r",
      "Epoch 283/600:  47%|████▋     | 283/600 [20:13<23:34,  4.46s/it, v_num=bl_1, total_loss_train=896, kl_local_train=72.2, tardis_age_0_train=9.35, tardis_integration_donor_0_train=10.7]"
     ]
    },
    {
     "name": "stdout",
     "output_type": "stream",
     "text": [
      "\r",
      "Epoch 284/600:  47%|████▋     | 283/600 [20:13<23:34,  4.46s/it, v_num=bl_1, total_loss_train=896, kl_local_train=72.2, tardis_age_0_train=9.35, tardis_integration_donor_0_train=10.7]"
     ]
    },
    {
     "name": "stdout",
     "output_type": "stream",
     "text": [
      "\r",
      "Epoch 284/600:  47%|████▋     | 284/600 [20:17<23:25,  4.45s/it, v_num=bl_1, total_loss_train=896, kl_local_train=72.2, tardis_age_0_train=9.35, tardis_integration_donor_0_train=10.7]"
     ]
    },
    {
     "name": "stdout",
     "output_type": "stream",
     "text": [
      "\r",
      "Epoch 284/600:  47%|████▋     | 284/600 [20:17<23:25,  4.45s/it, v_num=bl_1, total_loss_train=895, kl_local_train=71.8, tardis_age_0_train=9.28, tardis_integration_donor_0_train=10.8]"
     ]
    },
    {
     "name": "stdout",
     "output_type": "stream",
     "text": [
      "\r",
      "Epoch 285/600:  47%|████▋     | 284/600 [20:17<23:25,  4.45s/it, v_num=bl_1, total_loss_train=895, kl_local_train=71.8, tardis_age_0_train=9.28, tardis_integration_donor_0_train=10.8]"
     ]
    },
    {
     "name": "stdout",
     "output_type": "stream",
     "text": [
      "\r",
      "Epoch 285/600:  48%|████▊     | 285/600 [20:22<23:21,  4.45s/it, v_num=bl_1, total_loss_train=895, kl_local_train=71.8, tardis_age_0_train=9.28, tardis_integration_donor_0_train=10.8]"
     ]
    },
    {
     "name": "stdout",
     "output_type": "stream",
     "text": [
      "\r",
      "Epoch 285/600:  48%|████▊     | 285/600 [20:22<23:21,  4.45s/it, v_num=bl_1, total_loss_train=894, kl_local_train=71.4, tardis_age_0_train=9.46, tardis_integration_donor_0_train=10.8]"
     ]
    },
    {
     "name": "stdout",
     "output_type": "stream",
     "text": [
      "\r",
      "Epoch 286/600:  48%|████▊     | 285/600 [20:22<23:21,  4.45s/it, v_num=bl_1, total_loss_train=894, kl_local_train=71.4, tardis_age_0_train=9.46, tardis_integration_donor_0_train=10.8]"
     ]
    },
    {
     "name": "stdout",
     "output_type": "stream",
     "text": [
      "\r",
      "Epoch 286/600:  48%|████▊     | 286/600 [20:26<23:27,  4.48s/it, v_num=bl_1, total_loss_train=894, kl_local_train=71.4, tardis_age_0_train=9.46, tardis_integration_donor_0_train=10.8]"
     ]
    },
    {
     "name": "stdout",
     "output_type": "stream",
     "text": [
      "\r",
      "Epoch 286/600:  48%|████▊     | 286/600 [20:26<23:27,  4.48s/it, v_num=bl_1, total_loss_train=895, kl_local_train=71.5, tardis_age_0_train=9.39, tardis_integration_donor_0_train=10.9]"
     ]
    },
    {
     "name": "stdout",
     "output_type": "stream",
     "text": [
      "\r",
      "Epoch 287/600:  48%|████▊     | 286/600 [20:26<23:27,  4.48s/it, v_num=bl_1, total_loss_train=895, kl_local_train=71.5, tardis_age_0_train=9.39, tardis_integration_donor_0_train=10.9]"
     ]
    },
    {
     "name": "stdout",
     "output_type": "stream",
     "text": [
      "\r",
      "Epoch 287/600:  48%|████▊     | 287/600 [20:31<23:13,  4.45s/it, v_num=bl_1, total_loss_train=895, kl_local_train=71.5, tardis_age_0_train=9.39, tardis_integration_donor_0_train=10.9]"
     ]
    },
    {
     "name": "stdout",
     "output_type": "stream",
     "text": [
      "\r",
      "Epoch 287/600:  48%|████▊     | 287/600 [20:31<23:13,  4.45s/it, v_num=bl_1, total_loss_train=894, kl_local_train=71.6, tardis_age_0_train=9.31, tardis_integration_donor_0_train=10.9]"
     ]
    },
    {
     "name": "stdout",
     "output_type": "stream",
     "text": [
      "\r",
      "Epoch 288/600:  48%|████▊     | 287/600 [20:31<23:13,  4.45s/it, v_num=bl_1, total_loss_train=894, kl_local_train=71.6, tardis_age_0_train=9.31, tardis_integration_donor_0_train=10.9]"
     ]
    },
    {
     "name": "stdout",
     "output_type": "stream",
     "text": [
      "\r",
      "Epoch 288/600:  48%|████▊     | 288/600 [20:35<23:31,  4.52s/it, v_num=bl_1, total_loss_train=894, kl_local_train=71.6, tardis_age_0_train=9.31, tardis_integration_donor_0_train=10.9]"
     ]
    },
    {
     "name": "stdout",
     "output_type": "stream",
     "text": [
      "\r",
      "Epoch 288/600:  48%|████▊     | 288/600 [20:35<23:31,  4.52s/it, v_num=bl_1, total_loss_train=894, kl_local_train=71.6, tardis_age_0_train=9.32, tardis_integration_donor_0_train=10.8]"
     ]
    },
    {
     "name": "stdout",
     "output_type": "stream",
     "text": [
      "\r",
      "Epoch 289/600:  48%|████▊     | 288/600 [20:35<23:31,  4.52s/it, v_num=bl_1, total_loss_train=894, kl_local_train=71.6, tardis_age_0_train=9.32, tardis_integration_donor_0_train=10.8]"
     ]
    },
    {
     "name": "stdout",
     "output_type": "stream",
     "text": [
      "\r",
      "Epoch 289/600:  48%|████▊     | 289/600 [20:40<23:11,  4.47s/it, v_num=bl_1, total_loss_train=894, kl_local_train=71.6, tardis_age_0_train=9.32, tardis_integration_donor_0_train=10.8]"
     ]
    },
    {
     "name": "stdout",
     "output_type": "stream",
     "text": [
      "\r",
      "Epoch 289/600:  48%|████▊     | 289/600 [20:40<23:11,  4.47s/it, v_num=bl_1, total_loss_train=894, kl_local_train=71.6, tardis_age_0_train=9.34, tardis_integration_donor_0_train=10.7]"
     ]
    },
    {
     "name": "stdout",
     "output_type": "stream",
     "text": [
      "\r",
      "Epoch 290/600:  48%|████▊     | 289/600 [20:40<23:11,  4.47s/it, v_num=bl_1, total_loss_train=894, kl_local_train=71.6, tardis_age_0_train=9.34, tardis_integration_donor_0_train=10.7]"
     ]
    },
    {
     "name": "stdout",
     "output_type": "stream",
     "text": [
      "\r",
      "Epoch 290/600:  48%|████▊     | 290/600 [20:44<22:58,  4.45s/it, v_num=bl_1, total_loss_train=894, kl_local_train=71.6, tardis_age_0_train=9.34, tardis_integration_donor_0_train=10.7]"
     ]
    },
    {
     "name": "stdout",
     "output_type": "stream",
     "text": [
      "\r",
      "Epoch 290/600:  48%|████▊     | 290/600 [20:44<22:58,  4.45s/it, v_num=bl_1, total_loss_train=894, kl_local_train=71.3, tardis_age_0_train=9.36, tardis_integration_donor_0_train=10.8]"
     ]
    },
    {
     "name": "stdout",
     "output_type": "stream",
     "text": [
      "\r",
      "Epoch 291/600:  48%|████▊     | 290/600 [20:44<22:58,  4.45s/it, v_num=bl_1, total_loss_train=894, kl_local_train=71.3, tardis_age_0_train=9.36, tardis_integration_donor_0_train=10.8]"
     ]
    },
    {
     "name": "stdout",
     "output_type": "stream",
     "text": [
      "\r",
      "Epoch 291/600:  48%|████▊     | 291/600 [20:48<22:46,  4.42s/it, v_num=bl_1, total_loss_train=894, kl_local_train=71.3, tardis_age_0_train=9.36, tardis_integration_donor_0_train=10.8]"
     ]
    },
    {
     "name": "stdout",
     "output_type": "stream",
     "text": [
      "\r",
      "Epoch 291/600:  48%|████▊     | 291/600 [20:48<22:46,  4.42s/it, v_num=bl_1, total_loss_train=894, kl_local_train=71.5, tardis_age_0_train=9.38, tardis_integration_donor_0_train=10.8]"
     ]
    },
    {
     "name": "stdout",
     "output_type": "stream",
     "text": [
      "\r",
      "Epoch 292/600:  48%|████▊     | 291/600 [20:48<22:46,  4.42s/it, v_num=bl_1, total_loss_train=894, kl_local_train=71.5, tardis_age_0_train=9.38, tardis_integration_donor_0_train=10.8]"
     ]
    },
    {
     "name": "stdout",
     "output_type": "stream",
     "text": [
      "\r",
      "Epoch 292/600:  49%|████▊     | 292/600 [20:53<22:40,  4.42s/it, v_num=bl_1, total_loss_train=894, kl_local_train=71.5, tardis_age_0_train=9.38, tardis_integration_donor_0_train=10.8]"
     ]
    },
    {
     "name": "stdout",
     "output_type": "stream",
     "text": [
      "\r",
      "Epoch 292/600:  49%|████▊     | 292/600 [20:53<22:40,  4.42s/it, v_num=bl_1, total_loss_train=894, kl_local_train=71.1, tardis_age_0_train=9.55, tardis_integration_donor_0_train=11]  "
     ]
    },
    {
     "name": "stdout",
     "output_type": "stream",
     "text": [
      "\r",
      "Epoch 293/600:  49%|████▊     | 292/600 [20:53<22:40,  4.42s/it, v_num=bl_1, total_loss_train=894, kl_local_train=71.1, tardis_age_0_train=9.55, tardis_integration_donor_0_train=11]"
     ]
    },
    {
     "name": "stdout",
     "output_type": "stream",
     "text": [
      "\r",
      "Epoch 293/600:  49%|████▉     | 293/600 [20:58<23:05,  4.51s/it, v_num=bl_1, total_loss_train=894, kl_local_train=71.1, tardis_age_0_train=9.55, tardis_integration_donor_0_train=11]"
     ]
    },
    {
     "name": "stdout",
     "output_type": "stream",
     "text": [
      "\r",
      "Epoch 293/600:  49%|████▉     | 293/600 [20:58<23:05,  4.51s/it, v_num=bl_1, total_loss_train=893, kl_local_train=70.8, tardis_age_0_train=9.5, tardis_integration_donor_0_train=10.9]"
     ]
    },
    {
     "name": "stdout",
     "output_type": "stream",
     "text": [
      "\r",
      "Epoch 294/600:  49%|████▉     | 293/600 [20:58<23:05,  4.51s/it, v_num=bl_1, total_loss_train=893, kl_local_train=70.8, tardis_age_0_train=9.5, tardis_integration_donor_0_train=10.9]"
     ]
    },
    {
     "name": "stdout",
     "output_type": "stream",
     "text": [
      "\r",
      "Epoch 294/600:  49%|████▉     | 294/600 [21:02<22:47,  4.47s/it, v_num=bl_1, total_loss_train=893, kl_local_train=70.8, tardis_age_0_train=9.5, tardis_integration_donor_0_train=10.9]"
     ]
    },
    {
     "name": "stdout",
     "output_type": "stream",
     "text": [
      "\r",
      "Epoch 294/600:  49%|████▉     | 294/600 [21:02<22:47,  4.47s/it, v_num=bl_1, total_loss_train=893, kl_local_train=71.5, tardis_age_0_train=9.32, tardis_integration_donor_0_train=10.9]"
     ]
    },
    {
     "name": "stdout",
     "output_type": "stream",
     "text": [
      "\r",
      "Epoch 295/600:  49%|████▉     | 294/600 [21:02<22:47,  4.47s/it, v_num=bl_1, total_loss_train=893, kl_local_train=71.5, tardis_age_0_train=9.32, tardis_integration_donor_0_train=10.9]"
     ]
    },
    {
     "name": "stdout",
     "output_type": "stream",
     "text": [
      "\r",
      "Epoch 295/600:  49%|████▉     | 295/600 [21:06<22:39,  4.46s/it, v_num=bl_1, total_loss_train=893, kl_local_train=71.5, tardis_age_0_train=9.32, tardis_integration_donor_0_train=10.9]"
     ]
    },
    {
     "name": "stdout",
     "output_type": "stream",
     "text": [
      "\r",
      "Epoch 295/600:  49%|████▉     | 295/600 [21:06<22:39,  4.46s/it, v_num=bl_1, total_loss_train=894, kl_local_train=71, tardis_age_0_train=9.59, tardis_integration_donor_0_train=11.1]  "
     ]
    },
    {
     "name": "stdout",
     "output_type": "stream",
     "text": [
      "\r",
      "Epoch 296/600:  49%|████▉     | 295/600 [21:06<22:39,  4.46s/it, v_num=bl_1, total_loss_train=894, kl_local_train=71, tardis_age_0_train=9.59, tardis_integration_donor_0_train=11.1]"
     ]
    },
    {
     "name": "stdout",
     "output_type": "stream",
     "text": [
      "\r",
      "Epoch 296/600:  49%|████▉     | 296/600 [21:11<22:45,  4.49s/it, v_num=bl_1, total_loss_train=894, kl_local_train=71, tardis_age_0_train=9.59, tardis_integration_donor_0_train=11.1]"
     ]
    },
    {
     "name": "stdout",
     "output_type": "stream",
     "text": [
      "\r",
      "Epoch 296/600:  49%|████▉     | 296/600 [21:11<22:45,  4.49s/it, v_num=bl_1, total_loss_train=893, kl_local_train=70.9, tardis_age_0_train=9.52, tardis_integration_donor_0_train=11.2]"
     ]
    },
    {
     "name": "stdout",
     "output_type": "stream",
     "text": [
      "\r",
      "Epoch 297/600:  49%|████▉     | 296/600 [21:11<22:45,  4.49s/it, v_num=bl_1, total_loss_train=893, kl_local_train=70.9, tardis_age_0_train=9.52, tardis_integration_donor_0_train=11.2]"
     ]
    },
    {
     "name": "stdout",
     "output_type": "stream",
     "text": [
      "\r",
      "Epoch 297/600:  50%|████▉     | 297/600 [21:15<22:24,  4.44s/it, v_num=bl_1, total_loss_train=893, kl_local_train=70.9, tardis_age_0_train=9.52, tardis_integration_donor_0_train=11.2]"
     ]
    },
    {
     "name": "stdout",
     "output_type": "stream",
     "text": [
      "\r",
      "Epoch 297/600:  50%|████▉     | 297/600 [21:15<22:24,  4.44s/it, v_num=bl_1, total_loss_train=893, kl_local_train=70.6, tardis_age_0_train=9.62, tardis_integration_donor_0_train=11]  "
     ]
    },
    {
     "name": "stdout",
     "output_type": "stream",
     "text": [
      "\r",
      "Epoch 298/600:  50%|████▉     | 297/600 [21:15<22:24,  4.44s/it, v_num=bl_1, total_loss_train=893, kl_local_train=70.6, tardis_age_0_train=9.62, tardis_integration_donor_0_train=11]"
     ]
    },
    {
     "name": "stdout",
     "output_type": "stream",
     "text": [
      "\r",
      "Epoch 298/600:  50%|████▉     | 298/600 [21:20<22:12,  4.41s/it, v_num=bl_1, total_loss_train=893, kl_local_train=70.6, tardis_age_0_train=9.62, tardis_integration_donor_0_train=11]"
     ]
    },
    {
     "name": "stdout",
     "output_type": "stream",
     "text": [
      "\r",
      "Epoch 298/600:  50%|████▉     | 298/600 [21:20<22:12,  4.41s/it, v_num=bl_1, total_loss_train=893, kl_local_train=70.5, tardis_age_0_train=9.67, tardis_integration_donor_0_train=10.9]"
     ]
    },
    {
     "name": "stdout",
     "output_type": "stream",
     "text": [
      "\r",
      "Epoch 299/600:  50%|████▉     | 298/600 [21:20<22:12,  4.41s/it, v_num=bl_1, total_loss_train=893, kl_local_train=70.5, tardis_age_0_train=9.67, tardis_integration_donor_0_train=10.9]"
     ]
    },
    {
     "name": "stdout",
     "output_type": "stream",
     "text": [
      "\r",
      "Epoch 299/600:  50%|████▉     | 299/600 [21:24<22:04,  4.40s/it, v_num=bl_1, total_loss_train=893, kl_local_train=70.5, tardis_age_0_train=9.67, tardis_integration_donor_0_train=10.9]"
     ]
    },
    {
     "name": "stdout",
     "output_type": "stream",
     "text": [
      "\r",
      "Epoch 299/600:  50%|████▉     | 299/600 [21:24<22:04,  4.40s/it, v_num=bl_1, total_loss_train=892, kl_local_train=70.6, tardis_age_0_train=9.61, tardis_integration_donor_0_train=11]  "
     ]
    },
    {
     "name": "stdout",
     "output_type": "stream",
     "text": [
      "\r",
      "Epoch 300/600:  50%|████▉     | 299/600 [21:24<22:04,  4.40s/it, v_num=bl_1, total_loss_train=892, kl_local_train=70.6, tardis_age_0_train=9.61, tardis_integration_donor_0_train=11]"
     ]
    },
    {
     "name": "stdout",
     "output_type": "stream",
     "text": [
      "\r",
      "Epoch 300/600:  50%|█████     | 300/600 [21:28<22:08,  4.43s/it, v_num=bl_1, total_loss_train=892, kl_local_train=70.6, tardis_age_0_train=9.61, tardis_integration_donor_0_train=11]"
     ]
    },
    {
     "name": "stdout",
     "output_type": "stream",
     "text": [
      "\r",
      "Epoch 300/600:  50%|█████     | 300/600 [21:28<22:08,  4.43s/it, v_num=bl_1, total_loss_train=893, kl_local_train=70.1, tardis_age_0_train=9.61, tardis_integration_donor_0_train=11.1]"
     ]
    },
    {
     "name": "stdout",
     "output_type": "stream",
     "text": [
      "\r",
      "Epoch 301/600:  50%|█████     | 300/600 [21:28<22:08,  4.43s/it, v_num=bl_1, total_loss_train=893, kl_local_train=70.1, tardis_age_0_train=9.61, tardis_integration_donor_0_train=11.1]"
     ]
    },
    {
     "name": "stdout",
     "output_type": "stream",
     "text": [
      "\r",
      "Epoch 301/600:  50%|█████     | 301/600 [21:33<22:17,  4.47s/it, v_num=bl_1, total_loss_train=893, kl_local_train=70.1, tardis_age_0_train=9.61, tardis_integration_donor_0_train=11.1]"
     ]
    },
    {
     "name": "stdout",
     "output_type": "stream",
     "text": [
      "\r",
      "Epoch 301/600:  50%|█████     | 301/600 [21:33<22:17,  4.47s/it, v_num=bl_1, total_loss_train=892, kl_local_train=70.2, tardis_age_0_train=9.56, tardis_integration_donor_0_train=11.1]"
     ]
    },
    {
     "name": "stdout",
     "output_type": "stream",
     "text": [
      "\r",
      "Epoch 302/600:  50%|█████     | 301/600 [21:33<22:17,  4.47s/it, v_num=bl_1, total_loss_train=892, kl_local_train=70.2, tardis_age_0_train=9.56, tardis_integration_donor_0_train=11.1]"
     ]
    },
    {
     "name": "stdout",
     "output_type": "stream",
     "text": [
      "\r",
      "Epoch 302/600:  50%|█████     | 302/600 [21:37<22:05,  4.45s/it, v_num=bl_1, total_loss_train=892, kl_local_train=70.2, tardis_age_0_train=9.56, tardis_integration_donor_0_train=11.1]"
     ]
    },
    {
     "name": "stdout",
     "output_type": "stream",
     "text": [
      "\r",
      "Epoch 302/600:  50%|█████     | 302/600 [21:37<22:05,  4.45s/it, v_num=bl_1, total_loss_train=892, kl_local_train=69.9, tardis_age_0_train=9.6, tardis_integration_donor_0_train=11]   "
     ]
    },
    {
     "name": "stdout",
     "output_type": "stream",
     "text": [
      "\r",
      "Epoch 303/600:  50%|█████     | 302/600 [21:37<22:05,  4.45s/it, v_num=bl_1, total_loss_train=892, kl_local_train=69.9, tardis_age_0_train=9.6, tardis_integration_donor_0_train=11]"
     ]
    },
    {
     "name": "stdout",
     "output_type": "stream",
     "text": [
      "\r",
      "Epoch 303/600:  50%|█████     | 303/600 [21:42<21:59,  4.44s/it, v_num=bl_1, total_loss_train=892, kl_local_train=69.9, tardis_age_0_train=9.6, tardis_integration_donor_0_train=11]"
     ]
    },
    {
     "name": "stdout",
     "output_type": "stream",
     "text": [
      "\r",
      "Epoch 303/600:  50%|█████     | 303/600 [21:42<21:59,  4.44s/it, v_num=bl_1, total_loss_train=892, kl_local_train=69.6, tardis_age_0_train=9.61, tardis_integration_donor_0_train=11]"
     ]
    },
    {
     "name": "stdout",
     "output_type": "stream",
     "text": [
      "\r",
      "Epoch 304/600:  50%|█████     | 303/600 [21:42<21:59,  4.44s/it, v_num=bl_1, total_loss_train=892, kl_local_train=69.6, tardis_age_0_train=9.61, tardis_integration_donor_0_train=11]"
     ]
    },
    {
     "name": "stdout",
     "output_type": "stream",
     "text": [
      "\r",
      "Epoch 304/600:  51%|█████     | 304/600 [21:46<22:12,  4.50s/it, v_num=bl_1, total_loss_train=892, kl_local_train=69.6, tardis_age_0_train=9.61, tardis_integration_donor_0_train=11]"
     ]
    },
    {
     "name": "stdout",
     "output_type": "stream",
     "text": [
      "\r",
      "Epoch 304/600:  51%|█████     | 304/600 [21:46<22:12,  4.50s/it, v_num=bl_1, total_loss_train=892, kl_local_train=69.1, tardis_age_0_train=9.75, tardis_integration_donor_0_train=11]"
     ]
    },
    {
     "name": "stdout",
     "output_type": "stream",
     "text": [
      "\r",
      "Epoch 305/600:  51%|█████     | 304/600 [21:46<22:12,  4.50s/it, v_num=bl_1, total_loss_train=892, kl_local_train=69.1, tardis_age_0_train=9.75, tardis_integration_donor_0_train=11]"
     ]
    },
    {
     "name": "stdout",
     "output_type": "stream",
     "text": [
      "\r",
      "Epoch 305/600:  51%|█████     | 305/600 [21:51<21:51,  4.44s/it, v_num=bl_1, total_loss_train=892, kl_local_train=69.1, tardis_age_0_train=9.75, tardis_integration_donor_0_train=11]"
     ]
    },
    {
     "name": "stdout",
     "output_type": "stream",
     "text": [
      "\r",
      "Epoch 305/600:  51%|█████     | 305/600 [21:51<21:51,  4.44s/it, v_num=bl_1, total_loss_train=892, kl_local_train=69.4, tardis_age_0_train=9.7, tardis_integration_donor_0_train=11] "
     ]
    },
    {
     "name": "stdout",
     "output_type": "stream",
     "text": [
      "\r",
      "Epoch 306/600:  51%|█████     | 305/600 [21:51<21:51,  4.44s/it, v_num=bl_1, total_loss_train=892, kl_local_train=69.4, tardis_age_0_train=9.7, tardis_integration_donor_0_train=11]"
     ]
    },
    {
     "name": "stdout",
     "output_type": "stream",
     "text": [
      "\r",
      "Epoch 306/600:  51%|█████     | 306/600 [21:55<21:43,  4.43s/it, v_num=bl_1, total_loss_train=892, kl_local_train=69.4, tardis_age_0_train=9.7, tardis_integration_donor_0_train=11]"
     ]
    },
    {
     "name": "stdout",
     "output_type": "stream",
     "text": [
      "\r",
      "Epoch 306/600:  51%|█████     | 306/600 [21:55<21:43,  4.43s/it, v_num=bl_1, total_loss_train=892, kl_local_train=68.9, tardis_age_0_train=9.76, tardis_integration_donor_0_train=11.2]"
     ]
    },
    {
     "name": "stdout",
     "output_type": "stream",
     "text": [
      "\r",
      "Epoch 307/600:  51%|█████     | 306/600 [21:55<21:43,  4.43s/it, v_num=bl_1, total_loss_train=892, kl_local_train=68.9, tardis_age_0_train=9.76, tardis_integration_donor_0_train=11.2]"
     ]
    },
    {
     "name": "stdout",
     "output_type": "stream",
     "text": [
      "\r",
      "Epoch 307/600:  51%|█████     | 307/600 [22:00<21:36,  4.42s/it, v_num=bl_1, total_loss_train=892, kl_local_train=68.9, tardis_age_0_train=9.76, tardis_integration_donor_0_train=11.2]"
     ]
    },
    {
     "name": "stdout",
     "output_type": "stream",
     "text": [
      "\r",
      "Epoch 307/600:  51%|█████     | 307/600 [22:00<21:36,  4.42s/it, v_num=bl_1, total_loss_train=891, kl_local_train=69.6, tardis_age_0_train=9.78, tardis_integration_donor_0_train=11.2]"
     ]
    },
    {
     "name": "stdout",
     "output_type": "stream",
     "text": [
      "\r",
      "Epoch 308/600:  51%|█████     | 307/600 [22:00<21:36,  4.42s/it, v_num=bl_1, total_loss_train=891, kl_local_train=69.6, tardis_age_0_train=9.78, tardis_integration_donor_0_train=11.2]"
     ]
    },
    {
     "name": "stdout",
     "output_type": "stream",
     "text": [
      "\r",
      "Epoch 308/600:  51%|█████▏    | 308/600 [22:04<21:48,  4.48s/it, v_num=bl_1, total_loss_train=891, kl_local_train=69.6, tardis_age_0_train=9.78, tardis_integration_donor_0_train=11.2]"
     ]
    },
    {
     "name": "stdout",
     "output_type": "stream",
     "text": [
      "\r",
      "Epoch 308/600:  51%|█████▏    | 308/600 [22:04<21:48,  4.48s/it, v_num=bl_1, total_loss_train=892, kl_local_train=69.1, tardis_age_0_train=9.85, tardis_integration_donor_0_train=11.2]"
     ]
    },
    {
     "name": "stdout",
     "output_type": "stream",
     "text": [
      "\r",
      "Epoch 309/600:  51%|█████▏    | 308/600 [22:04<21:48,  4.48s/it, v_num=bl_1, total_loss_train=892, kl_local_train=69.1, tardis_age_0_train=9.85, tardis_integration_donor_0_train=11.2]"
     ]
    },
    {
     "name": "stdout",
     "output_type": "stream",
     "text": [
      "\r",
      "Epoch 309/600:  52%|█████▏    | 309/600 [22:09<21:36,  4.45s/it, v_num=bl_1, total_loss_train=892, kl_local_train=69.1, tardis_age_0_train=9.85, tardis_integration_donor_0_train=11.2]"
     ]
    },
    {
     "name": "stdout",
     "output_type": "stream",
     "text": [
      "\r",
      "Epoch 309/600:  52%|█████▏    | 309/600 [22:09<21:36,  4.45s/it, v_num=bl_1, total_loss_train=891, kl_local_train=69.7, tardis_age_0_train=9.69, tardis_integration_donor_0_train=11.1]"
     ]
    },
    {
     "name": "stdout",
     "output_type": "stream",
     "text": [
      "\r",
      "Epoch 310/600:  52%|█████▏    | 309/600 [22:09<21:36,  4.45s/it, v_num=bl_1, total_loss_train=891, kl_local_train=69.7, tardis_age_0_train=9.69, tardis_integration_donor_0_train=11.1]"
     ]
    },
    {
     "name": "stdout",
     "output_type": "stream",
     "text": [
      "\r",
      "Epoch 310/600:  52%|█████▏    | 310/600 [22:13<21:21,  4.42s/it, v_num=bl_1, total_loss_train=891, kl_local_train=69.7, tardis_age_0_train=9.69, tardis_integration_donor_0_train=11.1]"
     ]
    },
    {
     "name": "stdout",
     "output_type": "stream",
     "text": [
      "\r",
      "Epoch 310/600:  52%|█████▏    | 310/600 [22:13<21:21,  4.42s/it, v_num=bl_1, total_loss_train=891, kl_local_train=69.8, tardis_age_0_train=9.77, tardis_integration_donor_0_train=11.3]"
     ]
    },
    {
     "name": "stdout",
     "output_type": "stream",
     "text": [
      "\r",
      "Epoch 311/600:  52%|█████▏    | 310/600 [22:13<21:21,  4.42s/it, v_num=bl_1, total_loss_train=891, kl_local_train=69.8, tardis_age_0_train=9.77, tardis_integration_donor_0_train=11.3]"
     ]
    },
    {
     "name": "stdout",
     "output_type": "stream",
     "text": [
      "\r",
      "Epoch 311/600:  52%|█████▏    | 311/600 [22:17<21:14,  4.41s/it, v_num=bl_1, total_loss_train=891, kl_local_train=69.8, tardis_age_0_train=9.77, tardis_integration_donor_0_train=11.3]"
     ]
    },
    {
     "name": "stdout",
     "output_type": "stream",
     "text": [
      "\r",
      "Epoch 311/600:  52%|█████▏    | 311/600 [22:17<21:14,  4.41s/it, v_num=bl_1, total_loss_train=891, kl_local_train=69.3, tardis_age_0_train=9.78, tardis_integration_donor_0_train=11.2]"
     ]
    },
    {
     "name": "stdout",
     "output_type": "stream",
     "text": [
      "\r",
      "Epoch 312/600:  52%|█████▏    | 311/600 [22:17<21:14,  4.41s/it, v_num=bl_1, total_loss_train=891, kl_local_train=69.3, tardis_age_0_train=9.78, tardis_integration_donor_0_train=11.2]"
     ]
    },
    {
     "name": "stdout",
     "output_type": "stream",
     "text": [
      "\r",
      "Epoch 312/600:  52%|█████▏    | 312/600 [22:22<21:21,  4.45s/it, v_num=bl_1, total_loss_train=891, kl_local_train=69.3, tardis_age_0_train=9.78, tardis_integration_donor_0_train=11.2]"
     ]
    },
    {
     "name": "stdout",
     "output_type": "stream",
     "text": [
      "\r",
      "Epoch 312/600:  52%|█████▏    | 312/600 [22:22<21:21,  4.45s/it, v_num=bl_1, total_loss_train=891, kl_local_train=68.9, tardis_age_0_train=9.9, tardis_integration_donor_0_train=11.3] "
     ]
    },
    {
     "name": "stdout",
     "output_type": "stream",
     "text": [
      "\r",
      "Epoch 313/600:  52%|█████▏    | 312/600 [22:22<21:21,  4.45s/it, v_num=bl_1, total_loss_train=891, kl_local_train=68.9, tardis_age_0_train=9.9, tardis_integration_donor_0_train=11.3]"
     ]
    },
    {
     "name": "stdout",
     "output_type": "stream",
     "text": [
      "\r",
      "Epoch 313/600:  52%|█████▏    | 313/600 [22:26<21:08,  4.42s/it, v_num=bl_1, total_loss_train=891, kl_local_train=68.9, tardis_age_0_train=9.9, tardis_integration_donor_0_train=11.3]"
     ]
    },
    {
     "name": "stdout",
     "output_type": "stream",
     "text": [
      "\r",
      "Epoch 313/600:  52%|█████▏    | 313/600 [22:26<21:08,  4.42s/it, v_num=bl_1, total_loss_train=890, kl_local_train=68.7, tardis_age_0_train=9.85, tardis_integration_donor_0_train=11.2]"
     ]
    },
    {
     "name": "stdout",
     "output_type": "stream",
     "text": [
      "\r",
      "Epoch 314/600:  52%|█████▏    | 313/600 [22:26<21:08,  4.42s/it, v_num=bl_1, total_loss_train=890, kl_local_train=68.7, tardis_age_0_train=9.85, tardis_integration_donor_0_train=11.2]"
     ]
    },
    {
     "name": "stdout",
     "output_type": "stream",
     "text": [
      "\r",
      "Epoch 314/600:  52%|█████▏    | 314/600 [22:31<21:00,  4.41s/it, v_num=bl_1, total_loss_train=890, kl_local_train=68.7, tardis_age_0_train=9.85, tardis_integration_donor_0_train=11.2]"
     ]
    },
    {
     "name": "stdout",
     "output_type": "stream",
     "text": [
      "\r",
      "Epoch 314/600:  52%|█████▏    | 314/600 [22:31<21:00,  4.41s/it, v_num=bl_1, total_loss_train=890, kl_local_train=68.6, tardis_age_0_train=9.77, tardis_integration_donor_0_train=11.3]"
     ]
    },
    {
     "name": "stdout",
     "output_type": "stream",
     "text": [
      "\r",
      "Epoch 315/600:  52%|█████▏    | 314/600 [22:31<21:00,  4.41s/it, v_num=bl_1, total_loss_train=890, kl_local_train=68.6, tardis_age_0_train=9.77, tardis_integration_donor_0_train=11.3]"
     ]
    },
    {
     "name": "stdout",
     "output_type": "stream",
     "text": [
      "\r",
      "Epoch 315/600:  52%|█████▎    | 315/600 [22:35<20:56,  4.41s/it, v_num=bl_1, total_loss_train=890, kl_local_train=68.6, tardis_age_0_train=9.77, tardis_integration_donor_0_train=11.3]"
     ]
    },
    {
     "name": "stdout",
     "output_type": "stream",
     "text": [
      "\r",
      "Epoch 315/600:  52%|█████▎    | 315/600 [22:35<20:56,  4.41s/it, v_num=bl_1, total_loss_train=890, kl_local_train=68.2, tardis_age_0_train=9.97, tardis_integration_donor_0_train=11.2]"
     ]
    },
    {
     "name": "stdout",
     "output_type": "stream",
     "text": [
      "\r",
      "Epoch 316/600:  52%|█████▎    | 315/600 [22:35<20:56,  4.41s/it, v_num=bl_1, total_loss_train=890, kl_local_train=68.2, tardis_age_0_train=9.97, tardis_integration_donor_0_train=11.2]"
     ]
    },
    {
     "name": "stdout",
     "output_type": "stream",
     "text": [
      "\r",
      "Epoch 316/600:  53%|█████▎    | 316/600 [22:40<21:16,  4.49s/it, v_num=bl_1, total_loss_train=890, kl_local_train=68.2, tardis_age_0_train=9.97, tardis_integration_donor_0_train=11.2]"
     ]
    },
    {
     "name": "stdout",
     "output_type": "stream",
     "text": [
      "\r",
      "Epoch 316/600:  53%|█████▎    | 316/600 [22:40<21:16,  4.49s/it, v_num=bl_1, total_loss_train=890, kl_local_train=68.8, tardis_age_0_train=9.81, tardis_integration_donor_0_train=11.2]"
     ]
    },
    {
     "name": "stdout",
     "output_type": "stream",
     "text": [
      "\r",
      "Epoch 317/600:  53%|█████▎    | 316/600 [22:40<21:16,  4.49s/it, v_num=bl_1, total_loss_train=890, kl_local_train=68.8, tardis_age_0_train=9.81, tardis_integration_donor_0_train=11.2]"
     ]
    },
    {
     "name": "stdout",
     "output_type": "stream",
     "text": [
      "\r",
      "Epoch 317/600:  53%|█████▎    | 317/600 [22:44<21:03,  4.47s/it, v_num=bl_1, total_loss_train=890, kl_local_train=68.8, tardis_age_0_train=9.81, tardis_integration_donor_0_train=11.2]"
     ]
    },
    {
     "name": "stdout",
     "output_type": "stream",
     "text": [
      "\r",
      "Epoch 317/600:  53%|█████▎    | 317/600 [22:44<21:03,  4.47s/it, v_num=bl_1, total_loss_train=890, kl_local_train=68.9, tardis_age_0_train=9.84, tardis_integration_donor_0_train=11.3]"
     ]
    },
    {
     "name": "stdout",
     "output_type": "stream",
     "text": [
      "\r",
      "Epoch 318/600:  53%|█████▎    | 317/600 [22:44<21:03,  4.47s/it, v_num=bl_1, total_loss_train=890, kl_local_train=68.9, tardis_age_0_train=9.84, tardis_integration_donor_0_train=11.3]"
     ]
    },
    {
     "name": "stdout",
     "output_type": "stream",
     "text": [
      "\r",
      "Epoch 318/600:  53%|█████▎    | 318/600 [22:48<20:51,  4.44s/it, v_num=bl_1, total_loss_train=890, kl_local_train=68.9, tardis_age_0_train=9.84, tardis_integration_donor_0_train=11.3]"
     ]
    },
    {
     "name": "stdout",
     "output_type": "stream",
     "text": [
      "\r",
      "Epoch 318/600:  53%|█████▎    | 318/600 [22:48<20:51,  4.44s/it, v_num=bl_1, total_loss_train=889, kl_local_train=68.5, tardis_age_0_train=9.82, tardis_integration_donor_0_train=11.4]"
     ]
    },
    {
     "name": "stdout",
     "output_type": "stream",
     "text": [
      "\r",
      "Epoch 319/600:  53%|█████▎    | 318/600 [22:48<20:51,  4.44s/it, v_num=bl_1, total_loss_train=889, kl_local_train=68.5, tardis_age_0_train=9.82, tardis_integration_donor_0_train=11.4]"
     ]
    },
    {
     "name": "stdout",
     "output_type": "stream",
     "text": [
      "\r",
      "Epoch 319/600:  53%|█████▎    | 319/600 [22:53<21:18,  4.55s/it, v_num=bl_1, total_loss_train=889, kl_local_train=68.5, tardis_age_0_train=9.82, tardis_integration_donor_0_train=11.4]"
     ]
    },
    {
     "name": "stdout",
     "output_type": "stream",
     "text": [
      "\r",
      "Epoch 319/600:  53%|█████▎    | 319/600 [22:53<21:18,  4.55s/it, v_num=bl_1, total_loss_train=889, kl_local_train=68.6, tardis_age_0_train=9.75, tardis_integration_donor_0_train=11.3]"
     ]
    },
    {
     "name": "stdout",
     "output_type": "stream",
     "text": [
      "\r",
      "Epoch 320/600:  53%|█████▎    | 319/600 [22:53<21:18,  4.55s/it, v_num=bl_1, total_loss_train=889, kl_local_train=68.6, tardis_age_0_train=9.75, tardis_integration_donor_0_train=11.3]"
     ]
    },
    {
     "name": "stdout",
     "output_type": "stream",
     "text": [
      "\r",
      "Epoch 320/600:  53%|█████▎    | 320/600 [22:58<21:08,  4.53s/it, v_num=bl_1, total_loss_train=889, kl_local_train=68.6, tardis_age_0_train=9.75, tardis_integration_donor_0_train=11.3]"
     ]
    },
    {
     "name": "stdout",
     "output_type": "stream",
     "text": [
      "\r",
      "Epoch 320/600:  53%|█████▎    | 320/600 [22:58<21:08,  4.53s/it, v_num=bl_1, total_loss_train=890, kl_local_train=68.7, tardis_age_0_train=9.8, tardis_integration_donor_0_train=11.3] "
     ]
    },
    {
     "name": "stdout",
     "output_type": "stream",
     "text": [
      "\r",
      "Epoch 321/600:  53%|█████▎    | 320/600 [22:58<21:08,  4.53s/it, v_num=bl_1, total_loss_train=890, kl_local_train=68.7, tardis_age_0_train=9.8, tardis_integration_donor_0_train=11.3]"
     ]
    },
    {
     "name": "stdout",
     "output_type": "stream",
     "text": [
      "\r",
      "Epoch 321/600:  54%|█████▎    | 321/600 [23:02<20:50,  4.48s/it, v_num=bl_1, total_loss_train=890, kl_local_train=68.7, tardis_age_0_train=9.8, tardis_integration_donor_0_train=11.3]"
     ]
    },
    {
     "name": "stdout",
     "output_type": "stream",
     "text": [
      "\r",
      "Epoch 321/600:  54%|█████▎    | 321/600 [23:02<20:50,  4.48s/it, v_num=bl_1, total_loss_train=889, kl_local_train=68, tardis_age_0_train=9.91, tardis_integration_donor_0_train=11.4] "
     ]
    },
    {
     "name": "stdout",
     "output_type": "stream",
     "text": [
      "\r",
      "Epoch 322/600:  54%|█████▎    | 321/600 [23:02<20:50,  4.48s/it, v_num=bl_1, total_loss_train=889, kl_local_train=68, tardis_age_0_train=9.91, tardis_integration_donor_0_train=11.4]"
     ]
    },
    {
     "name": "stdout",
     "output_type": "stream",
     "text": [
      "\r",
      "Epoch 322/600:  54%|█████▎    | 322/600 [23:07<20:43,  4.47s/it, v_num=bl_1, total_loss_train=889, kl_local_train=68, tardis_age_0_train=9.91, tardis_integration_donor_0_train=11.4]"
     ]
    },
    {
     "name": "stdout",
     "output_type": "stream",
     "text": [
      "\r",
      "Epoch 322/600:  54%|█████▎    | 322/600 [23:07<20:43,  4.47s/it, v_num=bl_1, total_loss_train=889, kl_local_train=68.1, tardis_age_0_train=9.91, tardis_integration_donor_0_train=11.3]"
     ]
    },
    {
     "name": "stdout",
     "output_type": "stream",
     "text": [
      "\r",
      "Epoch 323/600:  54%|█████▎    | 322/600 [23:07<20:43,  4.47s/it, v_num=bl_1, total_loss_train=889, kl_local_train=68.1, tardis_age_0_train=9.91, tardis_integration_donor_0_train=11.3]"
     ]
    },
    {
     "name": "stdout",
     "output_type": "stream",
     "text": [
      "\r",
      "Epoch 323/600:  54%|█████▍    | 323/600 [23:11<21:02,  4.56s/it, v_num=bl_1, total_loss_train=889, kl_local_train=68.1, tardis_age_0_train=9.91, tardis_integration_donor_0_train=11.3]"
     ]
    },
    {
     "name": "stdout",
     "output_type": "stream",
     "text": [
      "\r",
      "Epoch 323/600:  54%|█████▍    | 323/600 [23:11<21:02,  4.56s/it, v_num=bl_1, total_loss_train=890, kl_local_train=68.2, tardis_age_0_train=9.94, tardis_integration_donor_0_train=11.5]"
     ]
    },
    {
     "name": "stdout",
     "output_type": "stream",
     "text": [
      "\r",
      "Epoch 324/600:  54%|█████▍    | 323/600 [23:11<21:02,  4.56s/it, v_num=bl_1, total_loss_train=890, kl_local_train=68.2, tardis_age_0_train=9.94, tardis_integration_donor_0_train=11.5]"
     ]
    },
    {
     "name": "stdout",
     "output_type": "stream",
     "text": [
      "\r",
      "Epoch 324/600:  54%|█████▍    | 324/600 [23:16<20:45,  4.51s/it, v_num=bl_1, total_loss_train=890, kl_local_train=68.2, tardis_age_0_train=9.94, tardis_integration_donor_0_train=11.5]"
     ]
    },
    {
     "name": "stdout",
     "output_type": "stream",
     "text": [
      "\r",
      "Epoch 324/600:  54%|█████▍    | 324/600 [23:16<20:45,  4.51s/it, v_num=bl_1, total_loss_train=889, kl_local_train=68, tardis_age_0_train=10, tardis_integration_donor_0_train=11.5]    "
     ]
    },
    {
     "name": "stdout",
     "output_type": "stream",
     "text": [
      "\r",
      "Epoch 325/600:  54%|█████▍    | 324/600 [23:16<20:45,  4.51s/it, v_num=bl_1, total_loss_train=889, kl_local_train=68, tardis_age_0_train=10, tardis_integration_donor_0_train=11.5]"
     ]
    },
    {
     "name": "stdout",
     "output_type": "stream",
     "text": [
      "\r",
      "Epoch 325/600:  54%|█████▍    | 325/600 [23:20<20:29,  4.47s/it, v_num=bl_1, total_loss_train=889, kl_local_train=68, tardis_age_0_train=10, tardis_integration_donor_0_train=11.5]"
     ]
    },
    {
     "name": "stdout",
     "output_type": "stream",
     "text": [
      "\r",
      "Epoch 325/600:  54%|█████▍    | 325/600 [23:20<20:29,  4.47s/it, v_num=bl_1, total_loss_train=889, kl_local_train=68, tardis_age_0_train=10.1, tardis_integration_donor_0_train=11.7]"
     ]
    },
    {
     "name": "stdout",
     "output_type": "stream",
     "text": [
      "\r",
      "Epoch 326/600:  54%|█████▍    | 325/600 [23:20<20:29,  4.47s/it, v_num=bl_1, total_loss_train=889, kl_local_train=68, tardis_age_0_train=10.1, tardis_integration_donor_0_train=11.7]"
     ]
    },
    {
     "name": "stdout",
     "output_type": "stream",
     "text": [
      "\r",
      "Epoch 326/600:  54%|█████▍    | 326/600 [23:25<20:52,  4.57s/it, v_num=bl_1, total_loss_train=889, kl_local_train=68, tardis_age_0_train=10.1, tardis_integration_donor_0_train=11.7]"
     ]
    },
    {
     "name": "stdout",
     "output_type": "stream",
     "text": [
      "\r",
      "Epoch 326/600:  54%|█████▍    | 326/600 [23:25<20:52,  4.57s/it, v_num=bl_1, total_loss_train=889, kl_local_train=67.3, tardis_age_0_train=10.1, tardis_integration_donor_0_train=11.5]"
     ]
    },
    {
     "name": "stdout",
     "output_type": "stream",
     "text": [
      "\r",
      "Epoch 327/600:  54%|█████▍    | 326/600 [23:25<20:52,  4.57s/it, v_num=bl_1, total_loss_train=889, kl_local_train=67.3, tardis_age_0_train=10.1, tardis_integration_donor_0_train=11.5]"
     ]
    },
    {
     "name": "stdout",
     "output_type": "stream",
     "text": [
      "\r",
      "Epoch 327/600:  55%|█████▍    | 327/600 [23:29<20:36,  4.53s/it, v_num=bl_1, total_loss_train=889, kl_local_train=67.3, tardis_age_0_train=10.1, tardis_integration_donor_0_train=11.5]"
     ]
    },
    {
     "name": "stdout",
     "output_type": "stream",
     "text": [
      "\r",
      "Epoch 327/600:  55%|█████▍    | 327/600 [23:29<20:36,  4.53s/it, v_num=bl_1, total_loss_train=888, kl_local_train=67.3, tardis_age_0_train=10, tardis_integration_donor_0_train=11.6]  "
     ]
    },
    {
     "name": "stdout",
     "output_type": "stream",
     "text": [
      "\r",
      "Epoch 328/600:  55%|█████▍    | 327/600 [23:29<20:36,  4.53s/it, v_num=bl_1, total_loss_train=888, kl_local_train=67.3, tardis_age_0_train=10, tardis_integration_donor_0_train=11.6]"
     ]
    },
    {
     "name": "stdout",
     "output_type": "stream",
     "text": [
      "\r",
      "Epoch 328/600:  55%|█████▍    | 328/600 [23:34<20:23,  4.50s/it, v_num=bl_1, total_loss_train=888, kl_local_train=67.3, tardis_age_0_train=10, tardis_integration_donor_0_train=11.6]"
     ]
    },
    {
     "name": "stdout",
     "output_type": "stream",
     "text": [
      "\r",
      "Epoch 328/600:  55%|█████▍    | 328/600 [23:34<20:23,  4.50s/it, v_num=bl_1, total_loss_train=888, kl_local_train=67.3, tardis_age_0_train=9.93, tardis_integration_donor_0_train=11.5]"
     ]
    },
    {
     "name": "stdout",
     "output_type": "stream",
     "text": [
      "\r",
      "Epoch 329/600:  55%|█████▍    | 328/600 [23:34<20:23,  4.50s/it, v_num=bl_1, total_loss_train=888, kl_local_train=67.3, tardis_age_0_train=9.93, tardis_integration_donor_0_train=11.5]"
     ]
    },
    {
     "name": "stdout",
     "output_type": "stream",
     "text": [
      "\r",
      "Epoch 329/600:  55%|█████▍    | 329/600 [23:38<20:14,  4.48s/it, v_num=bl_1, total_loss_train=888, kl_local_train=67.3, tardis_age_0_train=9.93, tardis_integration_donor_0_train=11.5]"
     ]
    },
    {
     "name": "stdout",
     "output_type": "stream",
     "text": [
      "\r",
      "Epoch 329/600:  55%|█████▍    | 329/600 [23:38<20:14,  4.48s/it, v_num=bl_1, total_loss_train=888, kl_local_train=67.4, tardis_age_0_train=10.1, tardis_integration_donor_0_train=11.4]"
     ]
    },
    {
     "name": "stdout",
     "output_type": "stream",
     "text": [
      "\r",
      "Epoch 330/600:  55%|█████▍    | 329/600 [23:38<20:14,  4.48s/it, v_num=bl_1, total_loss_train=888, kl_local_train=67.4, tardis_age_0_train=10.1, tardis_integration_donor_0_train=11.4]"
     ]
    },
    {
     "name": "stdout",
     "output_type": "stream",
     "text": [
      "\r",
      "Epoch 330/600:  55%|█████▌    | 330/600 [23:43<20:46,  4.62s/it, v_num=bl_1, total_loss_train=888, kl_local_train=67.4, tardis_age_0_train=10.1, tardis_integration_donor_0_train=11.4]"
     ]
    },
    {
     "name": "stdout",
     "output_type": "stream",
     "text": [
      "\r",
      "Epoch 330/600:  55%|█████▌    | 330/600 [23:43<20:46,  4.62s/it, v_num=bl_1, total_loss_train=888, kl_local_train=67.1, tardis_age_0_train=10.2, tardis_integration_donor_0_train=11.7]"
     ]
    },
    {
     "name": "stdout",
     "output_type": "stream",
     "text": [
      "\r",
      "Epoch 331/600:  55%|█████▌    | 330/600 [23:43<20:46,  4.62s/it, v_num=bl_1, total_loss_train=888, kl_local_train=67.1, tardis_age_0_train=10.2, tardis_integration_donor_0_train=11.7]"
     ]
    },
    {
     "name": "stdout",
     "output_type": "stream",
     "text": [
      "\r",
      "Epoch 331/600:  55%|█████▌    | 331/600 [23:48<20:25,  4.56s/it, v_num=bl_1, total_loss_train=888, kl_local_train=67.1, tardis_age_0_train=10.2, tardis_integration_donor_0_train=11.7]"
     ]
    },
    {
     "name": "stdout",
     "output_type": "stream",
     "text": [
      "\r",
      "Epoch 331/600:  55%|█████▌    | 331/600 [23:48<20:25,  4.56s/it, v_num=bl_1, total_loss_train=888, kl_local_train=67.4, tardis_age_0_train=10, tardis_integration_donor_0_train=11.7]  "
     ]
    },
    {
     "name": "stdout",
     "output_type": "stream",
     "text": [
      "\r",
      "Epoch 332/600:  55%|█████▌    | 331/600 [23:48<20:25,  4.56s/it, v_num=bl_1, total_loss_train=888, kl_local_train=67.4, tardis_age_0_train=10, tardis_integration_donor_0_train=11.7]"
     ]
    },
    {
     "name": "stdout",
     "output_type": "stream",
     "text": [
      "\r",
      "Epoch 332/600:  55%|█████▌    | 332/600 [23:52<20:21,  4.56s/it, v_num=bl_1, total_loss_train=888, kl_local_train=67.4, tardis_age_0_train=10, tardis_integration_donor_0_train=11.7]"
     ]
    },
    {
     "name": "stdout",
     "output_type": "stream",
     "text": [
      "\r",
      "Epoch 332/600:  55%|█████▌    | 332/600 [23:52<20:21,  4.56s/it, v_num=bl_1, total_loss_train=888, kl_local_train=67.4, tardis_age_0_train=10.1, tardis_integration_donor_0_train=11.6]"
     ]
    },
    {
     "name": "stdout",
     "output_type": "stream",
     "text": [
      "\r",
      "Epoch 333/600:  55%|█████▌    | 332/600 [23:52<20:21,  4.56s/it, v_num=bl_1, total_loss_train=888, kl_local_train=67.4, tardis_age_0_train=10.1, tardis_integration_donor_0_train=11.6]"
     ]
    },
    {
     "name": "stdout",
     "output_type": "stream",
     "text": [
      "\r",
      "Epoch 333/600:  56%|█████▌    | 333/600 [23:57<20:19,  4.57s/it, v_num=bl_1, total_loss_train=888, kl_local_train=67.4, tardis_age_0_train=10.1, tardis_integration_donor_0_train=11.6]"
     ]
    },
    {
     "name": "stdout",
     "output_type": "stream",
     "text": [
      "\r",
      "Epoch 333/600:  56%|█████▌    | 333/600 [23:57<20:19,  4.57s/it, v_num=bl_1, total_loss_train=887, kl_local_train=67.5, tardis_age_0_train=10, tardis_integration_donor_0_train=11.5]  "
     ]
    },
    {
     "name": "stdout",
     "output_type": "stream",
     "text": [
      "\r",
      "Epoch 334/600:  56%|█████▌    | 333/600 [23:57<20:19,  4.57s/it, v_num=bl_1, total_loss_train=887, kl_local_train=67.5, tardis_age_0_train=10, tardis_integration_donor_0_train=11.5]"
     ]
    },
    {
     "name": "stdout",
     "output_type": "stream",
     "text": [
      "\r",
      "Epoch 334/600:  56%|█████▌    | 334/600 [24:01<20:00,  4.51s/it, v_num=bl_1, total_loss_train=887, kl_local_train=67.5, tardis_age_0_train=10, tardis_integration_donor_0_train=11.5]"
     ]
    },
    {
     "name": "stdout",
     "output_type": "stream",
     "text": [
      "\r",
      "Epoch 334/600:  56%|█████▌    | 334/600 [24:01<20:00,  4.51s/it, v_num=bl_1, total_loss_train=887, kl_local_train=67.5, tardis_age_0_train=10, tardis_integration_donor_0_train=11.7]"
     ]
    },
    {
     "name": "stdout",
     "output_type": "stream",
     "text": [
      "\r",
      "Epoch 335/600:  56%|█████▌    | 334/600 [24:01<20:00,  4.51s/it, v_num=bl_1, total_loss_train=887, kl_local_train=67.5, tardis_age_0_train=10, tardis_integration_donor_0_train=11.7]"
     ]
    },
    {
     "name": "stdout",
     "output_type": "stream",
     "text": [
      "\r",
      "Epoch 335/600:  56%|█████▌    | 335/600 [24:06<19:45,  4.47s/it, v_num=bl_1, total_loss_train=887, kl_local_train=67.5, tardis_age_0_train=10, tardis_integration_donor_0_train=11.7]"
     ]
    },
    {
     "name": "stdout",
     "output_type": "stream",
     "text": [
      "\r",
      "Epoch 335/600:  56%|█████▌    | 335/600 [24:06<19:45,  4.47s/it, v_num=bl_1, total_loss_train=887, kl_local_train=67.3, tardis_age_0_train=10.1, tardis_integration_donor_0_train=11.7]"
     ]
    },
    {
     "name": "stdout",
     "output_type": "stream",
     "text": [
      "\r",
      "Epoch 336/600:  56%|█████▌    | 335/600 [24:06<19:45,  4.47s/it, v_num=bl_1, total_loss_train=887, kl_local_train=67.3, tardis_age_0_train=10.1, tardis_integration_donor_0_train=11.7]"
     ]
    },
    {
     "name": "stdout",
     "output_type": "stream",
     "text": [
      "\r",
      "Epoch 336/600:  56%|█████▌    | 336/600 [24:10<20:01,  4.55s/it, v_num=bl_1, total_loss_train=887, kl_local_train=67.3, tardis_age_0_train=10.1, tardis_integration_donor_0_train=11.7]"
     ]
    },
    {
     "name": "stdout",
     "output_type": "stream",
     "text": [
      "\r",
      "Epoch 336/600:  56%|█████▌    | 336/600 [24:10<20:01,  4.55s/it, v_num=bl_1, total_loss_train=887, kl_local_train=66.9, tardis_age_0_train=10.1, tardis_integration_donor_0_train=11.7]"
     ]
    },
    {
     "name": "stdout",
     "output_type": "stream",
     "text": [
      "\r",
      "Epoch 337/600:  56%|█████▌    | 336/600 [24:10<20:01,  4.55s/it, v_num=bl_1, total_loss_train=887, kl_local_train=66.9, tardis_age_0_train=10.1, tardis_integration_donor_0_train=11.7]"
     ]
    },
    {
     "name": "stdout",
     "output_type": "stream",
     "text": [
      "\r",
      "Epoch 337/600:  56%|█████▌    | 337/600 [24:15<19:44,  4.50s/it, v_num=bl_1, total_loss_train=887, kl_local_train=66.9, tardis_age_0_train=10.1, tardis_integration_donor_0_train=11.7]"
     ]
    },
    {
     "name": "stdout",
     "output_type": "stream",
     "text": [
      "\r",
      "Epoch 337/600:  56%|█████▌    | 337/600 [24:15<19:44,  4.50s/it, v_num=bl_1, total_loss_train=887, kl_local_train=66.8, tardis_age_0_train=10.1, tardis_integration_donor_0_train=11.6]"
     ]
    },
    {
     "name": "stdout",
     "output_type": "stream",
     "text": [
      "\r",
      "Epoch 338/600:  56%|█████▌    | 337/600 [24:15<19:44,  4.50s/it, v_num=bl_1, total_loss_train=887, kl_local_train=66.8, tardis_age_0_train=10.1, tardis_integration_donor_0_train=11.6]"
     ]
    },
    {
     "name": "stdout",
     "output_type": "stream",
     "text": [
      "\r",
      "Epoch 338/600:  56%|█████▋    | 338/600 [24:19<19:31,  4.47s/it, v_num=bl_1, total_loss_train=887, kl_local_train=66.8, tardis_age_0_train=10.1, tardis_integration_donor_0_train=11.6]"
     ]
    },
    {
     "name": "stdout",
     "output_type": "stream",
     "text": [
      "\r",
      "Epoch 338/600:  56%|█████▋    | 338/600 [24:19<19:31,  4.47s/it, v_num=bl_1, total_loss_train=886, kl_local_train=66.4, tardis_age_0_train=10.1, tardis_integration_donor_0_train=11.5]"
     ]
    },
    {
     "name": "stdout",
     "output_type": "stream",
     "text": [
      "\r",
      "Epoch 339/600:  56%|█████▋    | 338/600 [24:19<19:31,  4.47s/it, v_num=bl_1, total_loss_train=886, kl_local_train=66.4, tardis_age_0_train=10.1, tardis_integration_donor_0_train=11.5]"
     ]
    },
    {
     "name": "stdout",
     "output_type": "stream",
     "text": [
      "\r",
      "Epoch 339/600:  56%|█████▋    | 339/600 [24:24<19:51,  4.56s/it, v_num=bl_1, total_loss_train=886, kl_local_train=66.4, tardis_age_0_train=10.1, tardis_integration_donor_0_train=11.5]"
     ]
    },
    {
     "name": "stdout",
     "output_type": "stream",
     "text": [
      "\r",
      "Epoch 339/600:  56%|█████▋    | 339/600 [24:24<19:51,  4.56s/it, v_num=bl_1, total_loss_train=887, kl_local_train=66.2, tardis_age_0_train=10.2, tardis_integration_donor_0_train=11.8]"
     ]
    },
    {
     "name": "stdout",
     "output_type": "stream",
     "text": [
      "\r",
      "Epoch 340/600:  56%|█████▋    | 339/600 [24:24<19:51,  4.56s/it, v_num=bl_1, total_loss_train=887, kl_local_train=66.2, tardis_age_0_train=10.2, tardis_integration_donor_0_train=11.8]"
     ]
    },
    {
     "name": "stdout",
     "output_type": "stream",
     "text": [
      "\r",
      "Epoch 340/600:  57%|█████▋    | 340/600 [24:28<19:32,  4.51s/it, v_num=bl_1, total_loss_train=887, kl_local_train=66.2, tardis_age_0_train=10.2, tardis_integration_donor_0_train=11.8]"
     ]
    },
    {
     "name": "stdout",
     "output_type": "stream",
     "text": [
      "\r",
      "Epoch 340/600:  57%|█████▋    | 340/600 [24:28<19:32,  4.51s/it, v_num=bl_1, total_loss_train=887, kl_local_train=67.1, tardis_age_0_train=10.2, tardis_integration_donor_0_train=11.6]"
     ]
    },
    {
     "name": "stdout",
     "output_type": "stream",
     "text": [
      "\r",
      "Epoch 341/600:  57%|█████▋    | 340/600 [24:28<19:32,  4.51s/it, v_num=bl_1, total_loss_train=887, kl_local_train=67.1, tardis_age_0_train=10.2, tardis_integration_donor_0_train=11.6]"
     ]
    },
    {
     "name": "stdout",
     "output_type": "stream",
     "text": [
      "\r",
      "Epoch 341/600:  57%|█████▋    | 341/600 [24:33<19:21,  4.48s/it, v_num=bl_1, total_loss_train=887, kl_local_train=67.1, tardis_age_0_train=10.2, tardis_integration_donor_0_train=11.6]"
     ]
    },
    {
     "name": "stdout",
     "output_type": "stream",
     "text": [
      "\r",
      "Epoch 341/600:  57%|█████▋    | 341/600 [24:33<19:21,  4.48s/it, v_num=bl_1, total_loss_train=886, kl_local_train=66.7, tardis_age_0_train=10.2, tardis_integration_donor_0_train=11.8]"
     ]
    },
    {
     "name": "stdout",
     "output_type": "stream",
     "text": [
      "\r",
      "Epoch 342/600:  57%|█████▋    | 341/600 [24:33<19:21,  4.48s/it, v_num=bl_1, total_loss_train=886, kl_local_train=66.7, tardis_age_0_train=10.2, tardis_integration_donor_0_train=11.8]"
     ]
    },
    {
     "name": "stdout",
     "output_type": "stream",
     "text": [
      "\r",
      "Epoch 342/600:  57%|█████▋    | 342/600 [24:37<19:39,  4.57s/it, v_num=bl_1, total_loss_train=886, kl_local_train=66.7, tardis_age_0_train=10.2, tardis_integration_donor_0_train=11.8]"
     ]
    },
    {
     "name": "stdout",
     "output_type": "stream",
     "text": [
      "\r",
      "Epoch 342/600:  57%|█████▋    | 342/600 [24:37<19:39,  4.57s/it, v_num=bl_1, total_loss_train=886, kl_local_train=66.7, tardis_age_0_train=10.3, tardis_integration_donor_0_train=11.9]"
     ]
    },
    {
     "name": "stdout",
     "output_type": "stream",
     "text": [
      "\r",
      "Epoch 343/600:  57%|█████▋    | 342/600 [24:37<19:39,  4.57s/it, v_num=bl_1, total_loss_train=886, kl_local_train=66.7, tardis_age_0_train=10.3, tardis_integration_donor_0_train=11.9]"
     ]
    },
    {
     "name": "stdout",
     "output_type": "stream",
     "text": [
      "\r",
      "Epoch 343/600:  57%|█████▋    | 343/600 [24:42<19:20,  4.52s/it, v_num=bl_1, total_loss_train=886, kl_local_train=66.7, tardis_age_0_train=10.3, tardis_integration_donor_0_train=11.9]"
     ]
    },
    {
     "name": "stdout",
     "output_type": "stream",
     "text": [
      "\r",
      "Epoch 343/600:  57%|█████▋    | 343/600 [24:42<19:20,  4.52s/it, v_num=bl_1, total_loss_train=886, kl_local_train=66.3, tardis_age_0_train=10.3, tardis_integration_donor_0_train=11.9]"
     ]
    },
    {
     "name": "stdout",
     "output_type": "stream",
     "text": [
      "\r",
      "Epoch 344/600:  57%|█████▋    | 343/600 [24:42<19:20,  4.52s/it, v_num=bl_1, total_loss_train=886, kl_local_train=66.3, tardis_age_0_train=10.3, tardis_integration_donor_0_train=11.9]"
     ]
    },
    {
     "name": "stdout",
     "output_type": "stream",
     "text": [
      "\r",
      "Epoch 344/600:  57%|█████▋    | 344/600 [24:46<19:23,  4.55s/it, v_num=bl_1, total_loss_train=886, kl_local_train=66.3, tardis_age_0_train=10.3, tardis_integration_donor_0_train=11.9]"
     ]
    },
    {
     "name": "stdout",
     "output_type": "stream",
     "text": [
      "\r",
      "Epoch 344/600:  57%|█████▋    | 344/600 [24:46<19:23,  4.55s/it, v_num=bl_1, total_loss_train=886, kl_local_train=66.7, tardis_age_0_train=10.1, tardis_integration_donor_0_train=11.8]"
     ]
    },
    {
     "name": "stdout",
     "output_type": "stream",
     "text": [
      "\r",
      "Epoch 345/600:  57%|█████▋    | 344/600 [24:46<19:23,  4.55s/it, v_num=bl_1, total_loss_train=886, kl_local_train=66.7, tardis_age_0_train=10.1, tardis_integration_donor_0_train=11.8]"
     ]
    },
    {
     "name": "stdout",
     "output_type": "stream",
     "text": [
      "\r",
      "Epoch 345/600:  57%|█████▊    | 345/600 [24:51<19:33,  4.60s/it, v_num=bl_1, total_loss_train=886, kl_local_train=66.7, tardis_age_0_train=10.1, tardis_integration_donor_0_train=11.8]"
     ]
    },
    {
     "name": "stdout",
     "output_type": "stream",
     "text": [
      "\r",
      "Epoch 345/600:  57%|█████▊    | 345/600 [24:51<19:33,  4.60s/it, v_num=bl_1, total_loss_train=886, kl_local_train=65.9, tardis_age_0_train=10.4, tardis_integration_donor_0_train=11.9]"
     ]
    },
    {
     "name": "stdout",
     "output_type": "stream",
     "text": [
      "\r",
      "Epoch 346/600:  57%|█████▊    | 345/600 [24:51<19:33,  4.60s/it, v_num=bl_1, total_loss_train=886, kl_local_train=65.9, tardis_age_0_train=10.4, tardis_integration_donor_0_train=11.9]"
     ]
    },
    {
     "name": "stdout",
     "output_type": "stream",
     "text": [
      "\r",
      "Epoch 346/600:  58%|█████▊    | 346/600 [24:56<19:18,  4.56s/it, v_num=bl_1, total_loss_train=886, kl_local_train=65.9, tardis_age_0_train=10.4, tardis_integration_donor_0_train=11.9]"
     ]
    },
    {
     "name": "stdout",
     "output_type": "stream",
     "text": [
      "\r",
      "Epoch 346/600:  58%|█████▊    | 346/600 [24:56<19:18,  4.56s/it, v_num=bl_1, total_loss_train=886, kl_local_train=66.1, tardis_age_0_train=10.3, tardis_integration_donor_0_train=11.8]"
     ]
    },
    {
     "name": "stdout",
     "output_type": "stream",
     "text": [
      "\r",
      "Epoch 347/600:  58%|█████▊    | 346/600 [24:56<19:18,  4.56s/it, v_num=bl_1, total_loss_train=886, kl_local_train=66.1, tardis_age_0_train=10.3, tardis_integration_donor_0_train=11.8]"
     ]
    },
    {
     "name": "stdout",
     "output_type": "stream",
     "text": [
      "\r",
      "Epoch 347/600:  58%|█████▊    | 347/600 [25:00<19:02,  4.52s/it, v_num=bl_1, total_loss_train=886, kl_local_train=66.1, tardis_age_0_train=10.3, tardis_integration_donor_0_train=11.8]"
     ]
    },
    {
     "name": "stdout",
     "output_type": "stream",
     "text": [
      "\r",
      "Epoch 347/600:  58%|█████▊    | 347/600 [25:00<19:02,  4.52s/it, v_num=bl_1, total_loss_train=885, kl_local_train=65.5, tardis_age_0_train=10.4, tardis_integration_donor_0_train=11.9]"
     ]
    },
    {
     "name": "stdout",
     "output_type": "stream",
     "text": [
      "\r",
      "Epoch 348/600:  58%|█████▊    | 347/600 [25:00<19:02,  4.52s/it, v_num=bl_1, total_loss_train=885, kl_local_train=65.5, tardis_age_0_train=10.4, tardis_integration_donor_0_train=11.9]"
     ]
    },
    {
     "name": "stdout",
     "output_type": "stream",
     "text": [
      "\r",
      "Epoch 348/600:  58%|█████▊    | 348/600 [25:05<19:21,  4.61s/it, v_num=bl_1, total_loss_train=885, kl_local_train=65.5, tardis_age_0_train=10.4, tardis_integration_donor_0_train=11.9]"
     ]
    },
    {
     "name": "stdout",
     "output_type": "stream",
     "text": [
      "\r",
      "Epoch 348/600:  58%|█████▊    | 348/600 [25:05<19:21,  4.61s/it, v_num=bl_1, total_loss_train=886, kl_local_train=65.3, tardis_age_0_train=10.5, tardis_integration_donor_0_train=11.9]"
     ]
    },
    {
     "name": "stdout",
     "output_type": "stream",
     "text": [
      "\r",
      "Epoch 349/600:  58%|█████▊    | 348/600 [25:05<19:21,  4.61s/it, v_num=bl_1, total_loss_train=886, kl_local_train=65.3, tardis_age_0_train=10.5, tardis_integration_donor_0_train=11.9]"
     ]
    },
    {
     "name": "stdout",
     "output_type": "stream",
     "text": [
      "\r",
      "Epoch 349/600:  58%|█████▊    | 349/600 [25:09<19:02,  4.55s/it, v_num=bl_1, total_loss_train=886, kl_local_train=65.3, tardis_age_0_train=10.5, tardis_integration_donor_0_train=11.9]"
     ]
    },
    {
     "name": "stdout",
     "output_type": "stream",
     "text": [
      "\r",
      "Epoch 349/600:  58%|█████▊    | 349/600 [25:09<19:02,  4.55s/it, v_num=bl_1, total_loss_train=885, kl_local_train=65.8, tardis_age_0_train=10.3, tardis_integration_donor_0_train=12]  "
     ]
    },
    {
     "name": "stdout",
     "output_type": "stream",
     "text": [
      "\r",
      "Epoch 350/600:  58%|█████▊    | 349/600 [25:09<19:02,  4.55s/it, v_num=bl_1, total_loss_train=885, kl_local_train=65.8, tardis_age_0_train=10.3, tardis_integration_donor_0_train=12]"
     ]
    },
    {
     "name": "stdout",
     "output_type": "stream",
     "text": [
      "\r",
      "Epoch 350/600:  58%|█████▊    | 350/600 [25:14<18:47,  4.51s/it, v_num=bl_1, total_loss_train=885, kl_local_train=65.8, tardis_age_0_train=10.3, tardis_integration_donor_0_train=12]"
     ]
    },
    {
     "name": "stdout",
     "output_type": "stream",
     "text": [
      "\r",
      "Epoch 350/600:  58%|█████▊    | 350/600 [25:14<18:47,  4.51s/it, v_num=bl_1, total_loss_train=885, kl_local_train=66, tardis_age_0_train=10.2, tardis_integration_donor_0_train=11.7]"
     ]
    },
    {
     "name": "stdout",
     "output_type": "stream",
     "text": [
      "\r",
      "Epoch 351/600:  58%|█████▊    | 350/600 [25:14<18:47,  4.51s/it, v_num=bl_1, total_loss_train=885, kl_local_train=66, tardis_age_0_train=10.2, tardis_integration_donor_0_train=11.7]"
     ]
    },
    {
     "name": "stdout",
     "output_type": "stream",
     "text": [
      "\r",
      "Epoch 351/600:  58%|█████▊    | 351/600 [25:18<19:00,  4.58s/it, v_num=bl_1, total_loss_train=885, kl_local_train=66, tardis_age_0_train=10.2, tardis_integration_donor_0_train=11.7]"
     ]
    },
    {
     "name": "stdout",
     "output_type": "stream",
     "text": [
      "\r",
      "Epoch 351/600:  58%|█████▊    | 351/600 [25:18<19:00,  4.58s/it, v_num=bl_1, total_loss_train=885, kl_local_train=65.3, tardis_age_0_train=10.4, tardis_integration_donor_0_train=12]"
     ]
    },
    {
     "name": "stdout",
     "output_type": "stream",
     "text": [
      "\r",
      "Epoch 352/600:  58%|█████▊    | 351/600 [25:18<19:00,  4.58s/it, v_num=bl_1, total_loss_train=885, kl_local_train=65.3, tardis_age_0_train=10.4, tardis_integration_donor_0_train=12]"
     ]
    },
    {
     "name": "stdout",
     "output_type": "stream",
     "text": [
      "\r",
      "Epoch 352/600:  59%|█████▊    | 352/600 [25:23<18:47,  4.55s/it, v_num=bl_1, total_loss_train=885, kl_local_train=65.3, tardis_age_0_train=10.4, tardis_integration_donor_0_train=12]"
     ]
    },
    {
     "name": "stdout",
     "output_type": "stream",
     "text": [
      "\r",
      "Epoch 352/600:  59%|█████▊    | 352/600 [25:23<18:47,  4.55s/it, v_num=bl_1, total_loss_train=885, kl_local_train=65.3, tardis_age_0_train=10.3, tardis_integration_donor_0_train=11.8]"
     ]
    },
    {
     "name": "stdout",
     "output_type": "stream",
     "text": [
      "\r",
      "Epoch 353/600:  59%|█████▊    | 352/600 [25:23<18:47,  4.55s/it, v_num=bl_1, total_loss_train=885, kl_local_train=65.3, tardis_age_0_train=10.3, tardis_integration_donor_0_train=11.8]"
     ]
    },
    {
     "name": "stdout",
     "output_type": "stream",
     "text": [
      "\r",
      "Epoch 353/600:  59%|█████▉    | 353/600 [25:27<18:33,  4.51s/it, v_num=bl_1, total_loss_train=885, kl_local_train=65.3, tardis_age_0_train=10.3, tardis_integration_donor_0_train=11.8]"
     ]
    },
    {
     "name": "stdout",
     "output_type": "stream",
     "text": [
      "\r",
      "Epoch 353/600:  59%|█████▉    | 353/600 [25:27<18:33,  4.51s/it, v_num=bl_1, total_loss_train=885, kl_local_train=65.2, tardis_age_0_train=10.3, tardis_integration_donor_0_train=11.9]"
     ]
    },
    {
     "name": "stdout",
     "output_type": "stream",
     "text": [
      "\r",
      "Epoch 354/600:  59%|█████▉    | 353/600 [25:27<18:33,  4.51s/it, v_num=bl_1, total_loss_train=885, kl_local_train=65.2, tardis_age_0_train=10.3, tardis_integration_donor_0_train=11.9]"
     ]
    },
    {
     "name": "stdout",
     "output_type": "stream",
     "text": [
      "\r",
      "Epoch 354/600:  59%|█████▉    | 354/600 [25:32<18:20,  4.47s/it, v_num=bl_1, total_loss_train=885, kl_local_train=65.2, tardis_age_0_train=10.3, tardis_integration_donor_0_train=11.9]"
     ]
    },
    {
     "name": "stdout",
     "output_type": "stream",
     "text": [
      "\r",
      "Epoch 354/600:  59%|█████▉    | 354/600 [25:32<18:20,  4.47s/it, v_num=bl_1, total_loss_train=884, kl_local_train=64.9, tardis_age_0_train=10.4, tardis_integration_donor_0_train=11.9]"
     ]
    },
    {
     "name": "stdout",
     "output_type": "stream",
     "text": [
      "\r",
      "Epoch 355/600:  59%|█████▉    | 354/600 [25:32<18:20,  4.47s/it, v_num=bl_1, total_loss_train=884, kl_local_train=64.9, tardis_age_0_train=10.4, tardis_integration_donor_0_train=11.9]"
     ]
    },
    {
     "name": "stdout",
     "output_type": "stream",
     "text": [
      "\r",
      "Epoch 355/600:  59%|█████▉    | 355/600 [25:37<18:47,  4.60s/it, v_num=bl_1, total_loss_train=884, kl_local_train=64.9, tardis_age_0_train=10.4, tardis_integration_donor_0_train=11.9]"
     ]
    },
    {
     "name": "stdout",
     "output_type": "stream",
     "text": [
      "\r",
      "Epoch 355/600:  59%|█████▉    | 355/600 [25:37<18:47,  4.60s/it, v_num=bl_1, total_loss_train=885, kl_local_train=65.4, tardis_age_0_train=10.5, tardis_integration_donor_0_train=12.1]"
     ]
    },
    {
     "name": "stdout",
     "output_type": "stream",
     "text": [
      "\r",
      "Epoch 356/600:  59%|█████▉    | 355/600 [25:37<18:47,  4.60s/it, v_num=bl_1, total_loss_train=885, kl_local_train=65.4, tardis_age_0_train=10.5, tardis_integration_donor_0_train=12.1]"
     ]
    },
    {
     "name": "stdout",
     "output_type": "stream",
     "text": [
      "\r",
      "Epoch 356/600:  59%|█████▉    | 356/600 [25:41<18:30,  4.55s/it, v_num=bl_1, total_loss_train=885, kl_local_train=65.4, tardis_age_0_train=10.5, tardis_integration_donor_0_train=12.1]"
     ]
    },
    {
     "name": "stdout",
     "output_type": "stream",
     "text": [
      "\r",
      "Epoch 356/600:  59%|█████▉    | 356/600 [25:41<18:30,  4.55s/it, v_num=bl_1, total_loss_train=884, kl_local_train=65.2, tardis_age_0_train=10.5, tardis_integration_donor_0_train=12]  "
     ]
    },
    {
     "name": "stdout",
     "output_type": "stream",
     "text": [
      "\r",
      "Epoch 357/600:  59%|█████▉    | 356/600 [25:41<18:30,  4.55s/it, v_num=bl_1, total_loss_train=884, kl_local_train=65.2, tardis_age_0_train=10.5, tardis_integration_donor_0_train=12]"
     ]
    },
    {
     "name": "stdout",
     "output_type": "stream",
     "text": [
      "\r",
      "Epoch 357/600:  60%|█████▉    | 357/600 [25:45<18:15,  4.51s/it, v_num=bl_1, total_loss_train=884, kl_local_train=65.2, tardis_age_0_train=10.5, tardis_integration_donor_0_train=12]"
     ]
    },
    {
     "name": "stdout",
     "output_type": "stream",
     "text": [
      "\r",
      "Epoch 357/600:  60%|█████▉    | 357/600 [25:45<18:15,  4.51s/it, v_num=bl_1, total_loss_train=884, kl_local_train=65.4, tardis_age_0_train=10.3, tardis_integration_donor_0_train=11.8]"
     ]
    },
    {
     "name": "stdout",
     "output_type": "stream",
     "text": [
      "\r",
      "Epoch 358/600:  60%|█████▉    | 357/600 [25:45<18:15,  4.51s/it, v_num=bl_1, total_loss_train=884, kl_local_train=65.4, tardis_age_0_train=10.3, tardis_integration_donor_0_train=11.8]"
     ]
    },
    {
     "name": "stdout",
     "output_type": "stream",
     "text": [
      "\r",
      "Epoch 358/600:  60%|█████▉    | 358/600 [25:50<18:29,  4.58s/it, v_num=bl_1, total_loss_train=884, kl_local_train=65.4, tardis_age_0_train=10.3, tardis_integration_donor_0_train=11.8]"
     ]
    },
    {
     "name": "stdout",
     "output_type": "stream",
     "text": [
      "\r",
      "Epoch 358/600:  60%|█████▉    | 358/600 [25:50<18:29,  4.58s/it, v_num=bl_1, total_loss_train=884, kl_local_train=64.7, tardis_age_0_train=10.4, tardis_integration_donor_0_train=11.9]"
     ]
    },
    {
     "name": "stdout",
     "output_type": "stream",
     "text": [
      "\r",
      "Epoch 359/600:  60%|█████▉    | 358/600 [25:50<18:29,  4.58s/it, v_num=bl_1, total_loss_train=884, kl_local_train=64.7, tardis_age_0_train=10.4, tardis_integration_donor_0_train=11.9]"
     ]
    },
    {
     "name": "stdout",
     "output_type": "stream",
     "text": [
      "\r",
      "Epoch 359/600:  60%|█████▉    | 359/600 [25:55<18:13,  4.54s/it, v_num=bl_1, total_loss_train=884, kl_local_train=64.7, tardis_age_0_train=10.4, tardis_integration_donor_0_train=11.9]"
     ]
    },
    {
     "name": "stdout",
     "output_type": "stream",
     "text": [
      "\r",
      "Epoch 359/600:  60%|█████▉    | 359/600 [25:55<18:13,  4.54s/it, v_num=bl_1, total_loss_train=884, kl_local_train=64.8, tardis_age_0_train=10.6, tardis_integration_donor_0_train=12]  "
     ]
    },
    {
     "name": "stdout",
     "output_type": "stream",
     "text": [
      "\r",
      "Epoch 360/600:  60%|█████▉    | 359/600 [25:55<18:13,  4.54s/it, v_num=bl_1, total_loss_train=884, kl_local_train=64.8, tardis_age_0_train=10.6, tardis_integration_donor_0_train=12]"
     ]
    },
    {
     "name": "stdout",
     "output_type": "stream",
     "text": [
      "\r",
      "Epoch 360/600:  60%|██████    | 360/600 [25:59<18:01,  4.50s/it, v_num=bl_1, total_loss_train=884, kl_local_train=64.8, tardis_age_0_train=10.6, tardis_integration_donor_0_train=12]"
     ]
    },
    {
     "name": "stdout",
     "output_type": "stream",
     "text": [
      "\r",
      "Epoch 360/600:  60%|██████    | 360/600 [25:59<18:01,  4.50s/it, v_num=bl_1, total_loss_train=884, kl_local_train=64.7, tardis_age_0_train=10.6, tardis_integration_donor_0_train=12.2]"
     ]
    },
    {
     "name": "stdout",
     "output_type": "stream",
     "text": [
      "\r",
      "Epoch 361/600:  60%|██████    | 360/600 [25:59<18:01,  4.50s/it, v_num=bl_1, total_loss_train=884, kl_local_train=64.7, tardis_age_0_train=10.6, tardis_integration_donor_0_train=12.2]"
     ]
    },
    {
     "name": "stdout",
     "output_type": "stream",
     "text": [
      "\r",
      "Epoch 361/600:  60%|██████    | 361/600 [26:03<17:50,  4.48s/it, v_num=bl_1, total_loss_train=884, kl_local_train=64.7, tardis_age_0_train=10.6, tardis_integration_donor_0_train=12.2]"
     ]
    },
    {
     "name": "stdout",
     "output_type": "stream",
     "text": [
      "\r",
      "Epoch 361/600:  60%|██████    | 361/600 [26:03<17:50,  4.48s/it, v_num=bl_1, total_loss_train=884, kl_local_train=65, tardis_age_0_train=10.5, tardis_integration_donor_0_train=12]    "
     ]
    },
    {
     "name": "stdout",
     "output_type": "stream",
     "text": [
      "\r",
      "Epoch 362/600:  60%|██████    | 361/600 [26:03<17:50,  4.48s/it, v_num=bl_1, total_loss_train=884, kl_local_train=65, tardis_age_0_train=10.5, tardis_integration_donor_0_train=12]"
     ]
    },
    {
     "name": "stdout",
     "output_type": "stream",
     "text": [
      "\r",
      "Epoch 362/600:  60%|██████    | 362/600 [26:08<18:15,  4.60s/it, v_num=bl_1, total_loss_train=884, kl_local_train=65, tardis_age_0_train=10.5, tardis_integration_donor_0_train=12]"
     ]
    },
    {
     "name": "stdout",
     "output_type": "stream",
     "text": [
      "\r",
      "Epoch 362/600:  60%|██████    | 362/600 [26:08<18:15,  4.60s/it, v_num=bl_1, total_loss_train=883, kl_local_train=65, tardis_age_0_train=10.4, tardis_integration_donor_0_train=11.9]"
     ]
    },
    {
     "name": "stdout",
     "output_type": "stream",
     "text": [
      "\r",
      "Epoch 363/600:  60%|██████    | 362/600 [26:08<18:15,  4.60s/it, v_num=bl_1, total_loss_train=883, kl_local_train=65, tardis_age_0_train=10.4, tardis_integration_donor_0_train=11.9]"
     ]
    },
    {
     "name": "stdout",
     "output_type": "stream",
     "text": [
      "\r",
      "Epoch 363/600:  60%|██████    | 363/600 [26:13<17:56,  4.54s/it, v_num=bl_1, total_loss_train=883, kl_local_train=65, tardis_age_0_train=10.4, tardis_integration_donor_0_train=11.9]"
     ]
    },
    {
     "name": "stdout",
     "output_type": "stream",
     "text": [
      "\r",
      "Epoch 363/600:  60%|██████    | 363/600 [26:13<17:56,  4.54s/it, v_num=bl_1, total_loss_train=883, kl_local_train=64.9, tardis_age_0_train=10.5, tardis_integration_donor_0_train=12]"
     ]
    },
    {
     "name": "stdout",
     "output_type": "stream",
     "text": [
      "\r",
      "Epoch 364/600:  60%|██████    | 363/600 [26:13<17:56,  4.54s/it, v_num=bl_1, total_loss_train=883, kl_local_train=64.9, tardis_age_0_train=10.5, tardis_integration_donor_0_train=12]"
     ]
    },
    {
     "name": "stdout",
     "output_type": "stream",
     "text": [
      "\r",
      "Epoch 364/600:  61%|██████    | 364/600 [26:17<17:41,  4.50s/it, v_num=bl_1, total_loss_train=883, kl_local_train=64.9, tardis_age_0_train=10.5, tardis_integration_donor_0_train=12]"
     ]
    },
    {
     "name": "stdout",
     "output_type": "stream",
     "text": [
      "\r",
      "Epoch 364/600:  61%|██████    | 364/600 [26:17<17:41,  4.50s/it, v_num=bl_1, total_loss_train=883, kl_local_train=65.2, tardis_age_0_train=10.4, tardis_integration_donor_0_train=12.1]"
     ]
    },
    {
     "name": "stdout",
     "output_type": "stream",
     "text": [
      "\r",
      "Epoch 365/600:  61%|██████    | 364/600 [26:17<17:41,  4.50s/it, v_num=bl_1, total_loss_train=883, kl_local_train=65.2, tardis_age_0_train=10.4, tardis_integration_donor_0_train=12.1]"
     ]
    },
    {
     "name": "stdout",
     "output_type": "stream",
     "text": [
      "\r",
      "Epoch 365/600:  61%|██████    | 365/600 [26:22<17:59,  4.59s/it, v_num=bl_1, total_loss_train=883, kl_local_train=65.2, tardis_age_0_train=10.4, tardis_integration_donor_0_train=12.1]"
     ]
    },
    {
     "name": "stdout",
     "output_type": "stream",
     "text": [
      "\r",
      "Epoch 365/600:  61%|██████    | 365/600 [26:22<17:59,  4.59s/it, v_num=bl_1, total_loss_train=883, kl_local_train=64.9, tardis_age_0_train=10.5, tardis_integration_donor_0_train=11.9]"
     ]
    },
    {
     "name": "stdout",
     "output_type": "stream",
     "text": [
      "\r",
      "Epoch 366/600:  61%|██████    | 365/600 [26:22<17:59,  4.59s/it, v_num=bl_1, total_loss_train=883, kl_local_train=64.9, tardis_age_0_train=10.5, tardis_integration_donor_0_train=11.9]"
     ]
    },
    {
     "name": "stdout",
     "output_type": "stream",
     "text": [
      "\r",
      "Epoch 366/600:  61%|██████    | 366/600 [26:26<17:41,  4.54s/it, v_num=bl_1, total_loss_train=883, kl_local_train=64.9, tardis_age_0_train=10.5, tardis_integration_donor_0_train=11.9]"
     ]
    },
    {
     "name": "stdout",
     "output_type": "stream",
     "text": [
      "\r",
      "Epoch 366/600:  61%|██████    | 366/600 [26:26<17:41,  4.54s/it, v_num=bl_1, total_loss_train=883, kl_local_train=64.7, tardis_age_0_train=10.5, tardis_integration_donor_0_train=12]  "
     ]
    },
    {
     "name": "stdout",
     "output_type": "stream",
     "text": [
      "\r",
      "Epoch 367/600:  61%|██████    | 366/600 [26:26<17:41,  4.54s/it, v_num=bl_1, total_loss_train=883, kl_local_train=64.7, tardis_age_0_train=10.5, tardis_integration_donor_0_train=12]"
     ]
    },
    {
     "name": "stdout",
     "output_type": "stream",
     "text": [
      "\r",
      "Epoch 367/600:  61%|██████    | 367/600 [26:31<17:26,  4.49s/it, v_num=bl_1, total_loss_train=883, kl_local_train=64.7, tardis_age_0_train=10.5, tardis_integration_donor_0_train=12]"
     ]
    },
    {
     "name": "stdout",
     "output_type": "stream",
     "text": [
      "\r",
      "Epoch 367/600:  61%|██████    | 367/600 [26:31<17:26,  4.49s/it, v_num=bl_1, total_loss_train=883, kl_local_train=64.5, tardis_age_0_train=10.6, tardis_integration_donor_0_train=12.1]"
     ]
    },
    {
     "name": "stdout",
     "output_type": "stream",
     "text": [
      "\r",
      "Epoch 368/600:  61%|██████    | 367/600 [26:31<17:26,  4.49s/it, v_num=bl_1, total_loss_train=883, kl_local_train=64.5, tardis_age_0_train=10.6, tardis_integration_donor_0_train=12.1]"
     ]
    },
    {
     "name": "stdout",
     "output_type": "stream",
     "text": [
      "\r",
      "Epoch 368/600:  61%|██████▏   | 368/600 [26:35<17:11,  4.45s/it, v_num=bl_1, total_loss_train=883, kl_local_train=64.5, tardis_age_0_train=10.6, tardis_integration_donor_0_train=12.1]"
     ]
    },
    {
     "name": "stdout",
     "output_type": "stream",
     "text": [
      "\r",
      "Epoch 368/600:  61%|██████▏   | 368/600 [26:35<17:11,  4.45s/it, v_num=bl_1, total_loss_train=883, kl_local_train=64.1, tardis_age_0_train=10.5, tardis_integration_donor_0_train=12.2]"
     ]
    },
    {
     "name": "stdout",
     "output_type": "stream",
     "text": [
      "\r",
      "Epoch 369/600:  61%|██████▏   | 368/600 [26:35<17:11,  4.45s/it, v_num=bl_1, total_loss_train=883, kl_local_train=64.1, tardis_age_0_train=10.5, tardis_integration_donor_0_train=12.2]"
     ]
    },
    {
     "name": "stdout",
     "output_type": "stream",
     "text": [
      "\r",
      "Epoch 369/600:  62%|██████▏   | 369/600 [26:40<17:41,  4.59s/it, v_num=bl_1, total_loss_train=883, kl_local_train=64.1, tardis_age_0_train=10.5, tardis_integration_donor_0_train=12.2]"
     ]
    },
    {
     "name": "stdout",
     "output_type": "stream",
     "text": [
      "\r",
      "Epoch 369/600:  62%|██████▏   | 369/600 [26:40<17:41,  4.59s/it, v_num=bl_1, total_loss_train=883, kl_local_train=64.2, tardis_age_0_train=10.7, tardis_integration_donor_0_train=12.1]"
     ]
    },
    {
     "name": "stdout",
     "output_type": "stream",
     "text": [
      "\r",
      "Epoch 370/600:  62%|██████▏   | 369/600 [26:40<17:41,  4.59s/it, v_num=bl_1, total_loss_train=883, kl_local_train=64.2, tardis_age_0_train=10.7, tardis_integration_donor_0_train=12.1]"
     ]
    },
    {
     "name": "stdout",
     "output_type": "stream",
     "text": [
      "\r",
      "Epoch 370/600:  62%|██████▏   | 370/600 [26:44<17:20,  4.52s/it, v_num=bl_1, total_loss_train=883, kl_local_train=64.2, tardis_age_0_train=10.7, tardis_integration_donor_0_train=12.1]"
     ]
    },
    {
     "name": "stdout",
     "output_type": "stream",
     "text": [
      "\r",
      "Epoch 370/600:  62%|██████▏   | 370/600 [26:44<17:20,  4.52s/it, v_num=bl_1, total_loss_train=882, kl_local_train=64.4, tardis_age_0_train=10.6, tardis_integration_donor_0_train=12.2]"
     ]
    },
    {
     "name": "stdout",
     "output_type": "stream",
     "text": [
      "\r",
      "Epoch 371/600:  62%|██████▏   | 370/600 [26:44<17:20,  4.52s/it, v_num=bl_1, total_loss_train=882, kl_local_train=64.4, tardis_age_0_train=10.6, tardis_integration_donor_0_train=12.2]"
     ]
    },
    {
     "name": "stdout",
     "output_type": "stream",
     "text": [
      "\r",
      "Epoch 371/600:  62%|██████▏   | 371/600 [26:49<17:06,  4.48s/it, v_num=bl_1, total_loss_train=882, kl_local_train=64.4, tardis_age_0_train=10.6, tardis_integration_donor_0_train=12.2]"
     ]
    },
    {
     "name": "stdout",
     "output_type": "stream",
     "text": [
      "\r",
      "Epoch 371/600:  62%|██████▏   | 371/600 [26:49<17:06,  4.48s/it, v_num=bl_1, total_loss_train=882, kl_local_train=63.9, tardis_age_0_train=10.6, tardis_integration_donor_0_train=12.2]"
     ]
    },
    {
     "name": "stdout",
     "output_type": "stream",
     "text": [
      "\r",
      "Epoch 372/600:  62%|██████▏   | 371/600 [26:49<17:06,  4.48s/it, v_num=bl_1, total_loss_train=882, kl_local_train=63.9, tardis_age_0_train=10.6, tardis_integration_donor_0_train=12.2]"
     ]
    },
    {
     "name": "stdout",
     "output_type": "stream",
     "text": [
      "\r",
      "Epoch 372/600:  62%|██████▏   | 372/600 [26:53<17:16,  4.55s/it, v_num=bl_1, total_loss_train=882, kl_local_train=63.9, tardis_age_0_train=10.6, tardis_integration_donor_0_train=12.2]"
     ]
    },
    {
     "name": "stdout",
     "output_type": "stream",
     "text": [
      "\r",
      "Epoch 372/600:  62%|██████▏   | 372/600 [26:53<17:16,  4.55s/it, v_num=bl_1, total_loss_train=882, kl_local_train=63.7, tardis_age_0_train=10.5, tardis_integration_donor_0_train=12.2]"
     ]
    },
    {
     "name": "stdout",
     "output_type": "stream",
     "text": [
      "\r",
      "Epoch 373/600:  62%|██████▏   | 372/600 [26:53<17:16,  4.55s/it, v_num=bl_1, total_loss_train=882, kl_local_train=63.7, tardis_age_0_train=10.5, tardis_integration_donor_0_train=12.2]"
     ]
    },
    {
     "name": "stdout",
     "output_type": "stream",
     "text": [
      "\r",
      "Epoch 373/600:  62%|██████▏   | 373/600 [26:58<17:02,  4.51s/it, v_num=bl_1, total_loss_train=882, kl_local_train=63.7, tardis_age_0_train=10.5, tardis_integration_donor_0_train=12.2]"
     ]
    },
    {
     "name": "stdout",
     "output_type": "stream",
     "text": [
      "\r",
      "Epoch 373/600:  62%|██████▏   | 373/600 [26:58<17:02,  4.51s/it, v_num=bl_1, total_loss_train=882, kl_local_train=63.7, tardis_age_0_train=10.7, tardis_integration_donor_0_train=12.3]"
     ]
    },
    {
     "name": "stdout",
     "output_type": "stream",
     "text": [
      "\r",
      "Epoch 374/600:  62%|██████▏   | 373/600 [26:58<17:02,  4.51s/it, v_num=bl_1, total_loss_train=882, kl_local_train=63.7, tardis_age_0_train=10.7, tardis_integration_donor_0_train=12.3]"
     ]
    },
    {
     "name": "stdout",
     "output_type": "stream",
     "text": [
      "\r",
      "Epoch 374/600:  62%|██████▏   | 374/600 [27:02<16:54,  4.49s/it, v_num=bl_1, total_loss_train=882, kl_local_train=63.7, tardis_age_0_train=10.7, tardis_integration_donor_0_train=12.3]"
     ]
    },
    {
     "name": "stdout",
     "output_type": "stream",
     "text": [
      "\r",
      "Epoch 374/600:  62%|██████▏   | 374/600 [27:02<16:54,  4.49s/it, v_num=bl_1, total_loss_train=882, kl_local_train=63.5, tardis_age_0_train=10.7, tardis_integration_donor_0_train=12.3]"
     ]
    },
    {
     "name": "stdout",
     "output_type": "stream",
     "text": [
      "\r",
      "Epoch 375/600:  62%|██████▏   | 374/600 [27:02<16:54,  4.49s/it, v_num=bl_1, total_loss_train=882, kl_local_train=63.5, tardis_age_0_train=10.7, tardis_integration_donor_0_train=12.3]"
     ]
    },
    {
     "name": "stdout",
     "output_type": "stream",
     "text": [
      "\r",
      "Epoch 375/600:  62%|██████▎   | 375/600 [27:07<17:07,  4.57s/it, v_num=bl_1, total_loss_train=882, kl_local_train=63.5, tardis_age_0_train=10.7, tardis_integration_donor_0_train=12.3]"
     ]
    },
    {
     "name": "stdout",
     "output_type": "stream",
     "text": [
      "\r",
      "Epoch 375/600:  62%|██████▎   | 375/600 [27:07<17:07,  4.57s/it, v_num=bl_1, total_loss_train=882, kl_local_train=63.3, tardis_age_0_train=10.7, tardis_integration_donor_0_train=12.3]"
     ]
    },
    {
     "name": "stdout",
     "output_type": "stream",
     "text": [
      "\r",
      "Epoch 376/600:  62%|██████▎   | 375/600 [27:07<17:07,  4.57s/it, v_num=bl_1, total_loss_train=882, kl_local_train=63.3, tardis_age_0_train=10.7, tardis_integration_donor_0_train=12.3]"
     ]
    },
    {
     "name": "stdout",
     "output_type": "stream",
     "text": [
      "\r",
      "Epoch 376/600:  63%|██████▎   | 376/600 [27:11<16:50,  4.51s/it, v_num=bl_1, total_loss_train=882, kl_local_train=63.3, tardis_age_0_train=10.7, tardis_integration_donor_0_train=12.3]"
     ]
    },
    {
     "name": "stdout",
     "output_type": "stream",
     "text": [
      "\r",
      "Epoch 376/600:  63%|██████▎   | 376/600 [27:11<16:50,  4.51s/it, v_num=bl_1, total_loss_train=882, kl_local_train=63.7, tardis_age_0_train=10.6, tardis_integration_donor_0_train=12.3]"
     ]
    },
    {
     "name": "stdout",
     "output_type": "stream",
     "text": [
      "\r",
      "Epoch 377/600:  63%|██████▎   | 376/600 [27:11<16:50,  4.51s/it, v_num=bl_1, total_loss_train=882, kl_local_train=63.7, tardis_age_0_train=10.6, tardis_integration_donor_0_train=12.3]"
     ]
    },
    {
     "name": "stdout",
     "output_type": "stream",
     "text": [
      "\r",
      "Epoch 377/600:  63%|██████▎   | 377/600 [27:16<16:37,  4.47s/it, v_num=bl_1, total_loss_train=882, kl_local_train=63.7, tardis_age_0_train=10.6, tardis_integration_donor_0_train=12.3]"
     ]
    },
    {
     "name": "stdout",
     "output_type": "stream",
     "text": [
      "\r",
      "Epoch 377/600:  63%|██████▎   | 377/600 [27:16<16:37,  4.47s/it, v_num=bl_1, total_loss_train=881, kl_local_train=63.4, tardis_age_0_train=10.7, tardis_integration_donor_0_train=12.3]"
     ]
    },
    {
     "name": "stdout",
     "output_type": "stream",
     "text": [
      "\r",
      "Epoch 378/600:  63%|██████▎   | 377/600 [27:16<16:37,  4.47s/it, v_num=bl_1, total_loss_train=881, kl_local_train=63.4, tardis_age_0_train=10.7, tardis_integration_donor_0_train=12.3]"
     ]
    },
    {
     "name": "stdout",
     "output_type": "stream",
     "text": [
      "\r",
      "Epoch 378/600:  63%|██████▎   | 378/600 [27:20<16:34,  4.48s/it, v_num=bl_1, total_loss_train=881, kl_local_train=63.4, tardis_age_0_train=10.7, tardis_integration_donor_0_train=12.3]"
     ]
    },
    {
     "name": "stdout",
     "output_type": "stream",
     "text": [
      "\r",
      "Epoch 378/600:  63%|██████▎   | 378/600 [27:20<16:34,  4.48s/it, v_num=bl_1, total_loss_train=882, kl_local_train=63, tardis_age_0_train=10.8, tardis_integration_donor_0_train=12.2]  "
     ]
    },
    {
     "name": "stdout",
     "output_type": "stream",
     "text": [
      "\r",
      "Epoch 379/600:  63%|██████▎   | 378/600 [27:20<16:34,  4.48s/it, v_num=bl_1, total_loss_train=882, kl_local_train=63, tardis_age_0_train=10.8, tardis_integration_donor_0_train=12.2]"
     ]
    },
    {
     "name": "stdout",
     "output_type": "stream",
     "text": [
      "\r",
      "Epoch 379/600:  63%|██████▎   | 379/600 [27:25<16:40,  4.53s/it, v_num=bl_1, total_loss_train=882, kl_local_train=63, tardis_age_0_train=10.8, tardis_integration_donor_0_train=12.2]"
     ]
    },
    {
     "name": "stdout",
     "output_type": "stream",
     "text": [
      "\r",
      "Epoch 379/600:  63%|██████▎   | 379/600 [27:25<16:40,  4.53s/it, v_num=bl_1, total_loss_train=882, kl_local_train=63.2, tardis_age_0_train=10.8, tardis_integration_donor_0_train=12.4]"
     ]
    },
    {
     "name": "stdout",
     "output_type": "stream",
     "text": [
      "\r",
      "Epoch 380/600:  63%|██████▎   | 379/600 [27:25<16:40,  4.53s/it, v_num=bl_1, total_loss_train=882, kl_local_train=63.2, tardis_age_0_train=10.8, tardis_integration_donor_0_train=12.4]"
     ]
    },
    {
     "name": "stdout",
     "output_type": "stream",
     "text": [
      "\r",
      "Epoch 380/600:  63%|██████▎   | 380/600 [27:29<16:28,  4.49s/it, v_num=bl_1, total_loss_train=882, kl_local_train=63.2, tardis_age_0_train=10.8, tardis_integration_donor_0_train=12.4]"
     ]
    },
    {
     "name": "stdout",
     "output_type": "stream",
     "text": [
      "\r",
      "Epoch 380/600:  63%|██████▎   | 380/600 [27:29<16:28,  4.49s/it, v_num=bl_1, total_loss_train=881, kl_local_train=63.2, tardis_age_0_train=10.8, tardis_integration_donor_0_train=12.4]"
     ]
    },
    {
     "name": "stdout",
     "output_type": "stream",
     "text": [
      "\r",
      "Epoch 381/600:  63%|██████▎   | 380/600 [27:29<16:28,  4.49s/it, v_num=bl_1, total_loss_train=881, kl_local_train=63.2, tardis_age_0_train=10.8, tardis_integration_donor_0_train=12.4]"
     ]
    },
    {
     "name": "stdout",
     "output_type": "stream",
     "text": [
      "\r",
      "Epoch 381/600:  64%|██████▎   | 381/600 [27:34<16:16,  4.46s/it, v_num=bl_1, total_loss_train=881, kl_local_train=63.2, tardis_age_0_train=10.8, tardis_integration_donor_0_train=12.4]"
     ]
    },
    {
     "name": "stdout",
     "output_type": "stream",
     "text": [
      "\r",
      "Epoch 381/600:  64%|██████▎   | 381/600 [27:34<16:16,  4.46s/it, v_num=bl_1, total_loss_train=881, kl_local_train=63, tardis_age_0_train=10.8, tardis_integration_donor_0_train=12.2]  "
     ]
    },
    {
     "name": "stdout",
     "output_type": "stream",
     "text": [
      "\r",
      "Epoch 382/600:  64%|██████▎   | 381/600 [27:34<16:16,  4.46s/it, v_num=bl_1, total_loss_train=881, kl_local_train=63, tardis_age_0_train=10.8, tardis_integration_donor_0_train=12.2]"
     ]
    },
    {
     "name": "stdout",
     "output_type": "stream",
     "text": [
      "\r",
      "Epoch 382/600:  64%|██████▎   | 382/600 [27:38<16:28,  4.54s/it, v_num=bl_1, total_loss_train=881, kl_local_train=63, tardis_age_0_train=10.8, tardis_integration_donor_0_train=12.2]"
     ]
    },
    {
     "name": "stdout",
     "output_type": "stream",
     "text": [
      "\r",
      "Epoch 382/600:  64%|██████▎   | 382/600 [27:38<16:28,  4.54s/it, v_num=bl_1, total_loss_train=881, kl_local_train=62.7, tardis_age_0_train=10.9, tardis_integration_donor_0_train=12.5]"
     ]
    },
    {
     "name": "stdout",
     "output_type": "stream",
     "text": [
      "\r",
      "Epoch 383/600:  64%|██████▎   | 382/600 [27:39<16:28,  4.54s/it, v_num=bl_1, total_loss_train=881, kl_local_train=62.7, tardis_age_0_train=10.9, tardis_integration_donor_0_train=12.5]"
     ]
    },
    {
     "name": "stdout",
     "output_type": "stream",
     "text": [
      "\r",
      "Epoch 383/600:  64%|██████▍   | 383/600 [27:43<16:12,  4.48s/it, v_num=bl_1, total_loss_train=881, kl_local_train=62.7, tardis_age_0_train=10.9, tardis_integration_donor_0_train=12.5]"
     ]
    },
    {
     "name": "stdout",
     "output_type": "stream",
     "text": [
      "\r",
      "Epoch 383/600:  64%|██████▍   | 383/600 [27:43<16:12,  4.48s/it, v_num=bl_1, total_loss_train=881, kl_local_train=63.2, tardis_age_0_train=10.8, tardis_integration_donor_0_train=12.3]"
     ]
    },
    {
     "name": "stdout",
     "output_type": "stream",
     "text": [
      "\r",
      "Epoch 384/600:  64%|██████▍   | 383/600 [27:43<16:12,  4.48s/it, v_num=bl_1, total_loss_train=881, kl_local_train=63.2, tardis_age_0_train=10.8, tardis_integration_donor_0_train=12.3]"
     ]
    },
    {
     "name": "stdout",
     "output_type": "stream",
     "text": [
      "\r",
      "Epoch 384/600:  64%|██████▍   | 384/600 [27:47<16:05,  4.47s/it, v_num=bl_1, total_loss_train=881, kl_local_train=63.2, tardis_age_0_train=10.8, tardis_integration_donor_0_train=12.3]"
     ]
    },
    {
     "name": "stdout",
     "output_type": "stream",
     "text": [
      "\r",
      "Epoch 384/600:  64%|██████▍   | 384/600 [27:47<16:05,  4.47s/it, v_num=bl_1, total_loss_train=880, kl_local_train=63.2, tardis_age_0_train=10.7, tardis_integration_donor_0_train=12.2]"
     ]
    },
    {
     "name": "stdout",
     "output_type": "stream",
     "text": [
      "\r",
      "Epoch 385/600:  64%|██████▍   | 384/600 [27:47<16:05,  4.47s/it, v_num=bl_1, total_loss_train=880, kl_local_train=63.2, tardis_age_0_train=10.7, tardis_integration_donor_0_train=12.2]"
     ]
    },
    {
     "name": "stdout",
     "output_type": "stream",
     "text": [
      "\r",
      "Epoch 385/600:  64%|██████▍   | 385/600 [27:52<15:57,  4.46s/it, v_num=bl_1, total_loss_train=880, kl_local_train=63.2, tardis_age_0_train=10.7, tardis_integration_donor_0_train=12.2]"
     ]
    },
    {
     "name": "stdout",
     "output_type": "stream",
     "text": [
      "\r",
      "Epoch 385/600:  64%|██████▍   | 385/600 [27:52<15:57,  4.46s/it, v_num=bl_1, total_loss_train=880, kl_local_train=63.1, tardis_age_0_train=10.9, tardis_integration_donor_0_train=12.2]"
     ]
    },
    {
     "name": "stdout",
     "output_type": "stream",
     "text": [
      "\r",
      "Epoch 386/600:  64%|██████▍   | 385/600 [27:52<15:57,  4.46s/it, v_num=bl_1, total_loss_train=880, kl_local_train=63.1, tardis_age_0_train=10.9, tardis_integration_donor_0_train=12.2]"
     ]
    },
    {
     "name": "stdout",
     "output_type": "stream",
     "text": [
      "\r",
      "Epoch 386/600:  64%|██████▍   | 386/600 [27:56<16:08,  4.52s/it, v_num=bl_1, total_loss_train=880, kl_local_train=63.1, tardis_age_0_train=10.9, tardis_integration_donor_0_train=12.2]"
     ]
    },
    {
     "name": "stdout",
     "output_type": "stream",
     "text": [
      "\r",
      "Epoch 386/600:  64%|██████▍   | 386/600 [27:56<16:08,  4.52s/it, v_num=bl_1, total_loss_train=880, kl_local_train=63.1, tardis_age_0_train=10.8, tardis_integration_donor_0_train=12.2]"
     ]
    },
    {
     "name": "stdout",
     "output_type": "stream",
     "text": [
      "\r",
      "Epoch 387/600:  64%|██████▍   | 386/600 [27:56<16:08,  4.52s/it, v_num=bl_1, total_loss_train=880, kl_local_train=63.1, tardis_age_0_train=10.8, tardis_integration_donor_0_train=12.2]"
     ]
    },
    {
     "name": "stdout",
     "output_type": "stream",
     "text": [
      "\r",
      "Epoch 387/600:  64%|██████▍   | 387/600 [28:01<15:55,  4.48s/it, v_num=bl_1, total_loss_train=880, kl_local_train=63.1, tardis_age_0_train=10.8, tardis_integration_donor_0_train=12.2]"
     ]
    },
    {
     "name": "stdout",
     "output_type": "stream",
     "text": [
      "\r",
      "Epoch 387/600:  64%|██████▍   | 387/600 [28:01<15:55,  4.48s/it, v_num=bl_1, total_loss_train=880, kl_local_train=63, tardis_age_0_train=10.6, tardis_integration_donor_0_train=12.4]  "
     ]
    },
    {
     "name": "stdout",
     "output_type": "stream",
     "text": [
      "\r",
      "Epoch 388/600:  64%|██████▍   | 387/600 [28:01<15:55,  4.48s/it, v_num=bl_1, total_loss_train=880, kl_local_train=63, tardis_age_0_train=10.6, tardis_integration_donor_0_train=12.4]"
     ]
    },
    {
     "name": "stdout",
     "output_type": "stream",
     "text": [
      "\r",
      "Epoch 388/600:  65%|██████▍   | 388/600 [28:05<15:44,  4.45s/it, v_num=bl_1, total_loss_train=880, kl_local_train=63, tardis_age_0_train=10.6, tardis_integration_donor_0_train=12.4]"
     ]
    },
    {
     "name": "stdout",
     "output_type": "stream",
     "text": [
      "\r",
      "Epoch 388/600:  65%|██████▍   | 388/600 [28:05<15:44,  4.45s/it, v_num=bl_1, total_loss_train=879, kl_local_train=62.7, tardis_age_0_train=10.8, tardis_integration_donor_0_train=12.3]"
     ]
    },
    {
     "name": "stdout",
     "output_type": "stream",
     "text": [
      "\r",
      "Epoch 389/600:  65%|██████▍   | 388/600 [28:05<15:44,  4.45s/it, v_num=bl_1, total_loss_train=879, kl_local_train=62.7, tardis_age_0_train=10.8, tardis_integration_donor_0_train=12.3]"
     ]
    },
    {
     "name": "stdout",
     "output_type": "stream",
     "text": [
      "\r",
      "Epoch 389/600:  65%|██████▍   | 389/600 [28:10<15:37,  4.44s/it, v_num=bl_1, total_loss_train=879, kl_local_train=62.7, tardis_age_0_train=10.8, tardis_integration_donor_0_train=12.3]"
     ]
    },
    {
     "name": "stdout",
     "output_type": "stream",
     "text": [
      "\r",
      "Epoch 389/600:  65%|██████▍   | 389/600 [28:10<15:37,  4.44s/it, v_num=bl_1, total_loss_train=879, kl_local_train=62.8, tardis_age_0_train=10.8, tardis_integration_donor_0_train=12.3]"
     ]
    },
    {
     "name": "stdout",
     "output_type": "stream",
     "text": [
      "\r",
      "Epoch 390/600:  65%|██████▍   | 389/600 [28:10<15:37,  4.44s/it, v_num=bl_1, total_loss_train=879, kl_local_train=62.8, tardis_age_0_train=10.8, tardis_integration_donor_0_train=12.3]"
     ]
    },
    {
     "name": "stdout",
     "output_type": "stream",
     "text": [
      "\r",
      "Epoch 390/600:  65%|██████▌   | 390/600 [28:14<15:53,  4.54s/it, v_num=bl_1, total_loss_train=879, kl_local_train=62.8, tardis_age_0_train=10.8, tardis_integration_donor_0_train=12.3]"
     ]
    },
    {
     "name": "stdout",
     "output_type": "stream",
     "text": [
      "\r",
      "Epoch 390/600:  65%|██████▌   | 390/600 [28:14<15:53,  4.54s/it, v_num=bl_1, total_loss_train=880, kl_local_train=63, tardis_age_0_train=10.7, tardis_integration_donor_0_train=12.3]  "
     ]
    },
    {
     "name": "stdout",
     "output_type": "stream",
     "text": [
      "\r",
      "Epoch 391/600:  65%|██████▌   | 390/600 [28:14<15:53,  4.54s/it, v_num=bl_1, total_loss_train=880, kl_local_train=63, tardis_age_0_train=10.7, tardis_integration_donor_0_train=12.3]"
     ]
    },
    {
     "name": "stdout",
     "output_type": "stream",
     "text": [
      "\r",
      "Epoch 391/600:  65%|██████▌   | 391/600 [28:19<15:40,  4.50s/it, v_num=bl_1, total_loss_train=880, kl_local_train=63, tardis_age_0_train=10.7, tardis_integration_donor_0_train=12.3]"
     ]
    },
    {
     "name": "stdout",
     "output_type": "stream",
     "text": [
      "\r",
      "Epoch 391/600:  65%|██████▌   | 391/600 [28:19<15:40,  4.50s/it, v_num=bl_1, total_loss_train=880, kl_local_train=62.8, tardis_age_0_train=10.9, tardis_integration_donor_0_train=12.5]"
     ]
    },
    {
     "name": "stdout",
     "output_type": "stream",
     "text": [
      "\r",
      "Epoch 392/600:  65%|██████▌   | 391/600 [28:19<15:40,  4.50s/it, v_num=bl_1, total_loss_train=880, kl_local_train=62.8, tardis_age_0_train=10.9, tardis_integration_donor_0_train=12.5]"
     ]
    },
    {
     "name": "stdout",
     "output_type": "stream",
     "text": [
      "\r",
      "Epoch 392/600:  65%|██████▌   | 392/600 [28:23<15:32,  4.48s/it, v_num=bl_1, total_loss_train=880, kl_local_train=62.8, tardis_age_0_train=10.9, tardis_integration_donor_0_train=12.5]"
     ]
    },
    {
     "name": "stdout",
     "output_type": "stream",
     "text": [
      "\r",
      "Epoch 392/600:  65%|██████▌   | 392/600 [28:23<15:32,  4.48s/it, v_num=bl_1, total_loss_train=879, kl_local_train=62.6, tardis_age_0_train=10.9, tardis_integration_donor_0_train=12.4]"
     ]
    },
    {
     "name": "stdout",
     "output_type": "stream",
     "text": [
      "\r",
      "Epoch 393/600:  65%|██████▌   | 392/600 [28:23<15:32,  4.48s/it, v_num=bl_1, total_loss_train=879, kl_local_train=62.6, tardis_age_0_train=10.9, tardis_integration_donor_0_train=12.4]"
     ]
    },
    {
     "name": "stdout",
     "output_type": "stream",
     "text": [
      "\r",
      "Epoch 393/600:  66%|██████▌   | 393/600 [28:28<15:41,  4.55s/it, v_num=bl_1, total_loss_train=879, kl_local_train=62.6, tardis_age_0_train=10.9, tardis_integration_donor_0_train=12.4]"
     ]
    },
    {
     "name": "stdout",
     "output_type": "stream",
     "text": [
      "\r",
      "Epoch 393/600:  66%|██████▌   | 393/600 [28:28<15:41,  4.55s/it, v_num=bl_1, total_loss_train=880, kl_local_train=62.5, tardis_age_0_train=11, tardis_integration_donor_0_train=12.4]  "
     ]
    },
    {
     "name": "stdout",
     "output_type": "stream",
     "text": [
      "\r",
      "Epoch 394/600:  66%|██████▌   | 393/600 [28:28<15:41,  4.55s/it, v_num=bl_1, total_loss_train=880, kl_local_train=62.5, tardis_age_0_train=11, tardis_integration_donor_0_train=12.4]"
     ]
    },
    {
     "name": "stdout",
     "output_type": "stream",
     "text": [
      "\r",
      "Epoch 394/600:  66%|██████▌   | 394/600 [28:32<15:28,  4.51s/it, v_num=bl_1, total_loss_train=880, kl_local_train=62.5, tardis_age_0_train=11, tardis_integration_donor_0_train=12.4]"
     ]
    },
    {
     "name": "stdout",
     "output_type": "stream",
     "text": [
      "\r",
      "Epoch 394/600:  66%|██████▌   | 394/600 [28:32<15:28,  4.51s/it, v_num=bl_1, total_loss_train=879, kl_local_train=62.7, tardis_age_0_train=11, tardis_integration_donor_0_train=12.4]"
     ]
    },
    {
     "name": "stdout",
     "output_type": "stream",
     "text": [
      "\r",
      "Epoch 395/600:  66%|██████▌   | 394/600 [28:32<15:28,  4.51s/it, v_num=bl_1, total_loss_train=879, kl_local_train=62.7, tardis_age_0_train=11, tardis_integration_donor_0_train=12.4]"
     ]
    },
    {
     "name": "stdout",
     "output_type": "stream",
     "text": [
      "\r",
      "Epoch 395/600:  66%|██████▌   | 395/600 [28:37<15:18,  4.48s/it, v_num=bl_1, total_loss_train=879, kl_local_train=62.7, tardis_age_0_train=11, tardis_integration_donor_0_train=12.4]"
     ]
    },
    {
     "name": "stdout",
     "output_type": "stream",
     "text": [
      "\r",
      "Epoch 395/600:  66%|██████▌   | 395/600 [28:37<15:18,  4.48s/it, v_num=bl_1, total_loss_train=879, kl_local_train=62.1, tardis_age_0_train=11, tardis_integration_donor_0_train=12.5]"
     ]
    },
    {
     "name": "stdout",
     "output_type": "stream",
     "text": [
      "\r",
      "Epoch 396/600:  66%|██████▌   | 395/600 [28:37<15:18,  4.48s/it, v_num=bl_1, total_loss_train=879, kl_local_train=62.1, tardis_age_0_train=11, tardis_integration_donor_0_train=12.5]"
     ]
    },
    {
     "name": "stdout",
     "output_type": "stream",
     "text": [
      "\r",
      "Epoch 396/600:  66%|██████▌   | 396/600 [28:42<15:44,  4.63s/it, v_num=bl_1, total_loss_train=879, kl_local_train=62.1, tardis_age_0_train=11, tardis_integration_donor_0_train=12.5]"
     ]
    },
    {
     "name": "stdout",
     "output_type": "stream",
     "text": [
      "\r",
      "Epoch 396/600:  66%|██████▌   | 396/600 [28:42<15:44,  4.63s/it, v_num=bl_1, total_loss_train=879, kl_local_train=62.3, tardis_age_0_train=10.9, tardis_integration_donor_0_train=12.4]"
     ]
    },
    {
     "name": "stdout",
     "output_type": "stream",
     "text": [
      "\r",
      "Epoch 397/600:  66%|██████▌   | 396/600 [28:42<15:44,  4.63s/it, v_num=bl_1, total_loss_train=879, kl_local_train=62.3, tardis_age_0_train=10.9, tardis_integration_donor_0_train=12.4]"
     ]
    },
    {
     "name": "stdout",
     "output_type": "stream",
     "text": [
      "\r",
      "Epoch 397/600:  66%|██████▌   | 397/600 [28:46<15:27,  4.57s/it, v_num=bl_1, total_loss_train=879, kl_local_train=62.3, tardis_age_0_train=10.9, tardis_integration_donor_0_train=12.4]"
     ]
    },
    {
     "name": "stdout",
     "output_type": "stream",
     "text": [
      "\r",
      "Epoch 397/600:  66%|██████▌   | 397/600 [28:46<15:27,  4.57s/it, v_num=bl_1, total_loss_train=879, kl_local_train=62.3, tardis_age_0_train=11, tardis_integration_donor_0_train=12.6]  "
     ]
    },
    {
     "name": "stdout",
     "output_type": "stream",
     "text": [
      "\r",
      "Epoch 398/600:  66%|██████▌   | 397/600 [28:46<15:27,  4.57s/it, v_num=bl_1, total_loss_train=879, kl_local_train=62.3, tardis_age_0_train=11, tardis_integration_donor_0_train=12.6]"
     ]
    },
    {
     "name": "stdout",
     "output_type": "stream",
     "text": [
      "\r",
      "Epoch 398/600:  66%|██████▋   | 398/600 [28:51<15:11,  4.51s/it, v_num=bl_1, total_loss_train=879, kl_local_train=62.3, tardis_age_0_train=11, tardis_integration_donor_0_train=12.6]"
     ]
    },
    {
     "name": "stdout",
     "output_type": "stream",
     "text": [
      "\r",
      "Epoch 398/600:  66%|██████▋   | 398/600 [28:51<15:11,  4.51s/it, v_num=bl_1, total_loss_train=879, kl_local_train=62.2, tardis_age_0_train=11.1, tardis_integration_donor_0_train=12.5]"
     ]
    },
    {
     "name": "stdout",
     "output_type": "stream",
     "text": [
      "\r",
      "Epoch 399/600:  66%|██████▋   | 398/600 [28:51<15:11,  4.51s/it, v_num=bl_1, total_loss_train=879, kl_local_train=62.2, tardis_age_0_train=11.1, tardis_integration_donor_0_train=12.5]"
     ]
    },
    {
     "name": "stdout",
     "output_type": "stream",
     "text": [
      "\r",
      "Epoch 399/600:  66%|██████▋   | 399/600 [28:55<15:19,  4.57s/it, v_num=bl_1, total_loss_train=879, kl_local_train=62.2, tardis_age_0_train=11.1, tardis_integration_donor_0_train=12.5]"
     ]
    },
    {
     "name": "stdout",
     "output_type": "stream",
     "text": [
      "\r",
      "Epoch 399/600:  66%|██████▋   | 399/600 [28:55<15:19,  4.57s/it, v_num=bl_1, total_loss_train=879, kl_local_train=62.1, tardis_age_0_train=11, tardis_integration_donor_0_train=12.5]  "
     ]
    },
    {
     "name": "stdout",
     "output_type": "stream",
     "text": [
      "\r",
      "Epoch 400/600:  66%|██████▋   | 399/600 [28:55<15:19,  4.57s/it, v_num=bl_1, total_loss_train=879, kl_local_train=62.1, tardis_age_0_train=11, tardis_integration_donor_0_train=12.5]"
     ]
    },
    {
     "name": "stdout",
     "output_type": "stream",
     "text": [
      "\r",
      "Epoch 400/600:  67%|██████▋   | 400/600 [29:00<15:03,  4.52s/it, v_num=bl_1, total_loss_train=879, kl_local_train=62.1, tardis_age_0_train=11, tardis_integration_donor_0_train=12.5]"
     ]
    },
    {
     "name": "stdout",
     "output_type": "stream",
     "text": [
      "\r",
      "Epoch 400/600:  67%|██████▋   | 400/600 [29:00<15:03,  4.52s/it, v_num=bl_1, total_loss_train=878, kl_local_train=61.8, tardis_age_0_train=11, tardis_integration_donor_0_train=12.6]"
     ]
    },
    {
     "name": "stdout",
     "output_type": "stream",
     "text": [
      "\r",
      "Epoch 401/600:  67%|██████▋   | 400/600 [29:00<15:03,  4.52s/it, v_num=bl_1, total_loss_train=878, kl_local_train=61.8, tardis_age_0_train=11, tardis_integration_donor_0_train=12.6]"
     ]
    },
    {
     "name": "stdout",
     "output_type": "stream",
     "text": [
      "\r",
      "Epoch 401/600:  67%|██████▋   | 401/600 [29:04<14:53,  4.49s/it, v_num=bl_1, total_loss_train=878, kl_local_train=61.8, tardis_age_0_train=11, tardis_integration_donor_0_train=12.6]"
     ]
    },
    {
     "name": "stdout",
     "output_type": "stream",
     "text": [
      "\r",
      "Epoch 401/600:  67%|██████▋   | 401/600 [29:04<14:53,  4.49s/it, v_num=bl_1, total_loss_train=878, kl_local_train=62.2, tardis_age_0_train=10.9, tardis_integration_donor_0_train=12.4]"
     ]
    },
    {
     "name": "stdout",
     "output_type": "stream",
     "text": [
      "\r",
      "Epoch 402/600:  67%|██████▋   | 401/600 [29:04<14:53,  4.49s/it, v_num=bl_1, total_loss_train=878, kl_local_train=62.2, tardis_age_0_train=10.9, tardis_integration_donor_0_train=12.4]"
     ]
    },
    {
     "name": "stdout",
     "output_type": "stream",
     "text": [
      "\r",
      "Epoch 402/600:  67%|██████▋   | 402/600 [29:09<14:57,  4.53s/it, v_num=bl_1, total_loss_train=878, kl_local_train=62.2, tardis_age_0_train=10.9, tardis_integration_donor_0_train=12.4]"
     ]
    },
    {
     "name": "stdout",
     "output_type": "stream",
     "text": [
      "\r",
      "Epoch 402/600:  67%|██████▋   | 402/600 [29:09<14:57,  4.53s/it, v_num=bl_1, total_loss_train=878, kl_local_train=61.7, tardis_age_0_train=11.1, tardis_integration_donor_0_train=12.6]"
     ]
    },
    {
     "name": "stdout",
     "output_type": "stream",
     "text": [
      "\r",
      "Epoch 403/600:  67%|██████▋   | 402/600 [29:09<14:57,  4.53s/it, v_num=bl_1, total_loss_train=878, kl_local_train=61.7, tardis_age_0_train=11.1, tardis_integration_donor_0_train=12.6]"
     ]
    },
    {
     "name": "stdout",
     "output_type": "stream",
     "text": [
      "\r",
      "Epoch 403/600:  67%|██████▋   | 403/600 [29:13<14:49,  4.51s/it, v_num=bl_1, total_loss_train=878, kl_local_train=61.7, tardis_age_0_train=11.1, tardis_integration_donor_0_train=12.6]"
     ]
    },
    {
     "name": "stdout",
     "output_type": "stream",
     "text": [
      "\r",
      "Epoch 403/600:  67%|██████▋   | 403/600 [29:13<14:49,  4.51s/it, v_num=bl_1, total_loss_train=878, kl_local_train=61.8, tardis_age_0_train=11, tardis_integration_donor_0_train=12.6]  "
     ]
    },
    {
     "name": "stdout",
     "output_type": "stream",
     "text": [
      "\r",
      "Epoch 404/600:  67%|██████▋   | 403/600 [29:13<14:49,  4.51s/it, v_num=bl_1, total_loss_train=878, kl_local_train=61.8, tardis_age_0_train=11, tardis_integration_donor_0_train=12.6]"
     ]
    },
    {
     "name": "stdout",
     "output_type": "stream",
     "text": [
      "\r",
      "Epoch 404/600:  67%|██████▋   | 404/600 [29:18<14:40,  4.49s/it, v_num=bl_1, total_loss_train=878, kl_local_train=61.8, tardis_age_0_train=11, tardis_integration_donor_0_train=12.6]"
     ]
    },
    {
     "name": "stdout",
     "output_type": "stream",
     "text": [
      "\r",
      "Epoch 404/600:  67%|██████▋   | 404/600 [29:18<14:40,  4.49s/it, v_num=bl_1, total_loss_train=878, kl_local_train=61.9, tardis_age_0_train=11, tardis_integration_donor_0_train=12.6]"
     ]
    },
    {
     "name": "stdout",
     "output_type": "stream",
     "text": [
      "\r",
      "Epoch 405/600:  67%|██████▋   | 404/600 [29:18<14:40,  4.49s/it, v_num=bl_1, total_loss_train=878, kl_local_train=61.9, tardis_age_0_train=11, tardis_integration_donor_0_train=12.6]"
     ]
    },
    {
     "name": "stdout",
     "output_type": "stream",
     "text": [
      "\r",
      "Epoch 405/600:  68%|██████▊   | 405/600 [29:22<14:32,  4.47s/it, v_num=bl_1, total_loss_train=878, kl_local_train=61.9, tardis_age_0_train=11, tardis_integration_donor_0_train=12.6]"
     ]
    },
    {
     "name": "stdout",
     "output_type": "stream",
     "text": [
      "\r",
      "Epoch 405/600:  68%|██████▊   | 405/600 [29:22<14:32,  4.47s/it, v_num=bl_1, total_loss_train=878, kl_local_train=61.5, tardis_age_0_train=11.2, tardis_integration_donor_0_train=12.5]"
     ]
    },
    {
     "name": "stdout",
     "output_type": "stream",
     "text": [
      "\r",
      "Epoch 406/600:  68%|██████▊   | 405/600 [29:22<14:32,  4.47s/it, v_num=bl_1, total_loss_train=878, kl_local_train=61.5, tardis_age_0_train=11.2, tardis_integration_donor_0_train=12.5]"
     ]
    },
    {
     "name": "stdout",
     "output_type": "stream",
     "text": [
      "\r",
      "Epoch 406/600:  68%|██████▊   | 406/600 [29:27<14:51,  4.60s/it, v_num=bl_1, total_loss_train=878, kl_local_train=61.5, tardis_age_0_train=11.2, tardis_integration_donor_0_train=12.5]"
     ]
    },
    {
     "name": "stdout",
     "output_type": "stream",
     "text": [
      "\r",
      "Epoch 406/600:  68%|██████▊   | 406/600 [29:27<14:51,  4.60s/it, v_num=bl_1, total_loss_train=878, kl_local_train=61.8, tardis_age_0_train=11.1, tardis_integration_donor_0_train=12.7]"
     ]
    },
    {
     "name": "stdout",
     "output_type": "stream",
     "text": [
      "\r",
      "Epoch 407/600:  68%|██████▊   | 406/600 [29:27<14:51,  4.60s/it, v_num=bl_1, total_loss_train=878, kl_local_train=61.8, tardis_age_0_train=11.1, tardis_integration_donor_0_train=12.7]"
     ]
    },
    {
     "name": "stdout",
     "output_type": "stream",
     "text": [
      "\r",
      "Epoch 407/600:  68%|██████▊   | 407/600 [29:31<14:35,  4.54s/it, v_num=bl_1, total_loss_train=878, kl_local_train=61.8, tardis_age_0_train=11.1, tardis_integration_donor_0_train=12.7]"
     ]
    },
    {
     "name": "stdout",
     "output_type": "stream",
     "text": [
      "\r",
      "Epoch 407/600:  68%|██████▊   | 407/600 [29:31<14:35,  4.54s/it, v_num=bl_1, total_loss_train=878, kl_local_train=61.7, tardis_age_0_train=11.1, tardis_integration_donor_0_train=12.6]"
     ]
    },
    {
     "name": "stdout",
     "output_type": "stream",
     "text": [
      "\r",
      "Epoch 408/600:  68%|██████▊   | 407/600 [29:31<14:35,  4.54s/it, v_num=bl_1, total_loss_train=878, kl_local_train=61.7, tardis_age_0_train=11.1, tardis_integration_donor_0_train=12.6]"
     ]
    },
    {
     "name": "stdout",
     "output_type": "stream",
     "text": [
      "\r",
      "Epoch 408/600:  68%|██████▊   | 408/600 [29:36<14:22,  4.49s/it, v_num=bl_1, total_loss_train=878, kl_local_train=61.7, tardis_age_0_train=11.1, tardis_integration_donor_0_train=12.6]"
     ]
    },
    {
     "name": "stdout",
     "output_type": "stream",
     "text": [
      "\r",
      "Epoch 408/600:  68%|██████▊   | 408/600 [29:36<14:22,  4.49s/it, v_num=bl_1, total_loss_train=877, kl_local_train=61.1, tardis_age_0_train=11, tardis_integration_donor_0_train=12.6]  "
     ]
    },
    {
     "name": "stdout",
     "output_type": "stream",
     "text": [
      "\r",
      "Epoch 409/600:  68%|██████▊   | 408/600 [29:36<14:22,  4.49s/it, v_num=bl_1, total_loss_train=877, kl_local_train=61.1, tardis_age_0_train=11, tardis_integration_donor_0_train=12.6]"
     ]
    },
    {
     "name": "stdout",
     "output_type": "stream",
     "text": [
      "\r",
      "Epoch 409/600:  68%|██████▊   | 409/600 [29:40<14:12,  4.46s/it, v_num=bl_1, total_loss_train=877, kl_local_train=61.1, tardis_age_0_train=11, tardis_integration_donor_0_train=12.6]"
     ]
    },
    {
     "name": "stdout",
     "output_type": "stream",
     "text": [
      "\r",
      "Epoch 409/600:  68%|██████▊   | 409/600 [29:40<14:12,  4.46s/it, v_num=bl_1, total_loss_train=877, kl_local_train=61.3, tardis_age_0_train=11.1, tardis_integration_donor_0_train=12.6]"
     ]
    },
    {
     "name": "stdout",
     "output_type": "stream",
     "text": [
      "\r",
      "Epoch 410/600:  68%|██████▊   | 409/600 [29:40<14:12,  4.46s/it, v_num=bl_1, total_loss_train=877, kl_local_train=61.3, tardis_age_0_train=11.1, tardis_integration_donor_0_train=12.6]"
     ]
    },
    {
     "name": "stdout",
     "output_type": "stream",
     "text": [
      "\r",
      "Epoch 410/600:  68%|██████▊   | 410/600 [29:45<14:23,  4.55s/it, v_num=bl_1, total_loss_train=877, kl_local_train=61.3, tardis_age_0_train=11.1, tardis_integration_donor_0_train=12.6]"
     ]
    },
    {
     "name": "stdout",
     "output_type": "stream",
     "text": [
      "\r",
      "Epoch 410/600:  68%|██████▊   | 410/600 [29:45<14:23,  4.55s/it, v_num=bl_1, total_loss_train=877, kl_local_train=61.6, tardis_age_0_train=11, tardis_integration_donor_0_train=12.6]  "
     ]
    },
    {
     "name": "stdout",
     "output_type": "stream",
     "text": [
      "\r",
      "Epoch 411/600:  68%|██████▊   | 410/600 [29:45<14:23,  4.55s/it, v_num=bl_1, total_loss_train=877, kl_local_train=61.6, tardis_age_0_train=11, tardis_integration_donor_0_train=12.6]"
     ]
    },
    {
     "name": "stdout",
     "output_type": "stream",
     "text": [
      "\r",
      "Epoch 411/600:  68%|██████▊   | 411/600 [29:49<14:13,  4.51s/it, v_num=bl_1, total_loss_train=877, kl_local_train=61.6, tardis_age_0_train=11, tardis_integration_donor_0_train=12.6]"
     ]
    },
    {
     "name": "stdout",
     "output_type": "stream",
     "text": [
      "\r",
      "Epoch 411/600:  68%|██████▊   | 411/600 [29:49<14:13,  4.51s/it, v_num=bl_1, total_loss_train=877, kl_local_train=61.2, tardis_age_0_train=11.1, tardis_integration_donor_0_train=12.6]"
     ]
    },
    {
     "name": "stdout",
     "output_type": "stream",
     "text": [
      "\r",
      "Epoch 412/600:  68%|██████▊   | 411/600 [29:49<14:13,  4.51s/it, v_num=bl_1, total_loss_train=877, kl_local_train=61.2, tardis_age_0_train=11.1, tardis_integration_donor_0_train=12.6]"
     ]
    },
    {
     "name": "stdout",
     "output_type": "stream",
     "text": [
      "\r",
      "Epoch 412/600:  69%|██████▊   | 412/600 [29:54<14:02,  4.48s/it, v_num=bl_1, total_loss_train=877, kl_local_train=61.2, tardis_age_0_train=11.1, tardis_integration_donor_0_train=12.6]"
     ]
    },
    {
     "name": "stdout",
     "output_type": "stream",
     "text": [
      "\r",
      "Epoch 412/600:  69%|██████▊   | 412/600 [29:54<14:02,  4.48s/it, v_num=bl_1, total_loss_train=877, kl_local_train=61.1, tardis_age_0_train=11, tardis_integration_donor_0_train=12.8]  "
     ]
    },
    {
     "name": "stdout",
     "output_type": "stream",
     "text": [
      "\r",
      "Epoch 413/600:  69%|██████▊   | 412/600 [29:54<14:02,  4.48s/it, v_num=bl_1, total_loss_train=877, kl_local_train=61.1, tardis_age_0_train=11, tardis_integration_donor_0_train=12.8]"
     ]
    },
    {
     "name": "stdout",
     "output_type": "stream",
     "text": [
      "\r",
      "Epoch 413/600:  69%|██████▉   | 413/600 [29:58<14:13,  4.56s/it, v_num=bl_1, total_loss_train=877, kl_local_train=61.1, tardis_age_0_train=11, tardis_integration_donor_0_train=12.8]"
     ]
    },
    {
     "name": "stdout",
     "output_type": "stream",
     "text": [
      "\r",
      "Epoch 413/600:  69%|██████▉   | 413/600 [29:58<14:13,  4.56s/it, v_num=bl_1, total_loss_train=876, kl_local_train=60.9, tardis_age_0_train=11.1, tardis_integration_donor_0_train=12.6]"
     ]
    },
    {
     "name": "stdout",
     "output_type": "stream",
     "text": [
      "\r",
      "Epoch 414/600:  69%|██████▉   | 413/600 [29:58<14:13,  4.56s/it, v_num=bl_1, total_loss_train=876, kl_local_train=60.9, tardis_age_0_train=11.1, tardis_integration_donor_0_train=12.6]"
     ]
    },
    {
     "name": "stdout",
     "output_type": "stream",
     "text": [
      "\r",
      "Epoch 414/600:  69%|██████▉   | 414/600 [30:03<14:01,  4.53s/it, v_num=bl_1, total_loss_train=876, kl_local_train=60.9, tardis_age_0_train=11.1, tardis_integration_donor_0_train=12.6]"
     ]
    },
    {
     "name": "stdout",
     "output_type": "stream",
     "text": [
      "\r",
      "Epoch 414/600:  69%|██████▉   | 414/600 [30:03<14:01,  4.53s/it, v_num=bl_1, total_loss_train=876, kl_local_train=60.9, tardis_age_0_train=11.2, tardis_integration_donor_0_train=12.7]"
     ]
    },
    {
     "name": "stdout",
     "output_type": "stream",
     "text": [
      "\r",
      "Epoch 415/600:  69%|██████▉   | 414/600 [30:03<14:01,  4.53s/it, v_num=bl_1, total_loss_train=876, kl_local_train=60.9, tardis_age_0_train=11.2, tardis_integration_donor_0_train=12.7]"
     ]
    },
    {
     "name": "stdout",
     "output_type": "stream",
     "text": [
      "\r",
      "Epoch 415/600:  69%|██████▉   | 415/600 [30:07<13:49,  4.48s/it, v_num=bl_1, total_loss_train=876, kl_local_train=60.9, tardis_age_0_train=11.2, tardis_integration_donor_0_train=12.7]"
     ]
    },
    {
     "name": "stdout",
     "output_type": "stream",
     "text": [
      "\r",
      "Epoch 415/600:  69%|██████▉   | 415/600 [30:07<13:49,  4.48s/it, v_num=bl_1, total_loss_train=877, kl_local_train=61.3, tardis_age_0_train=11.2, tardis_integration_donor_0_train=12.7]"
     ]
    },
    {
     "name": "stdout",
     "output_type": "stream",
     "text": [
      "\r",
      "Epoch 416/600:  69%|██████▉   | 415/600 [30:07<13:49,  4.48s/it, v_num=bl_1, total_loss_train=877, kl_local_train=61.3, tardis_age_0_train=11.2, tardis_integration_donor_0_train=12.7]"
     ]
    },
    {
     "name": "stdout",
     "output_type": "stream",
     "text": [
      "\r",
      "Epoch 416/600:  69%|██████▉   | 416/600 [30:12<13:39,  4.45s/it, v_num=bl_1, total_loss_train=877, kl_local_train=61.3, tardis_age_0_train=11.2, tardis_integration_donor_0_train=12.7]"
     ]
    },
    {
     "name": "stdout",
     "output_type": "stream",
     "text": [
      "\r",
      "Epoch 416/600:  69%|██████▉   | 416/600 [30:12<13:39,  4.45s/it, v_num=bl_1, total_loss_train=876, kl_local_train=60.7, tardis_age_0_train=11.2, tardis_integration_donor_0_train=12.6]"
     ]
    },
    {
     "name": "stdout",
     "output_type": "stream",
     "text": [
      "\r",
      "Epoch 417/600:  69%|██████▉   | 416/600 [30:12<13:39,  4.45s/it, v_num=bl_1, total_loss_train=876, kl_local_train=60.7, tardis_age_0_train=11.2, tardis_integration_donor_0_train=12.6]"
     ]
    },
    {
     "name": "stdout",
     "output_type": "stream",
     "text": [
      "\r",
      "Epoch 417/600:  70%|██████▉   | 417/600 [30:16<13:43,  4.50s/it, v_num=bl_1, total_loss_train=876, kl_local_train=60.7, tardis_age_0_train=11.2, tardis_integration_donor_0_train=12.6]"
     ]
    },
    {
     "name": "stdout",
     "output_type": "stream",
     "text": [
      "\r",
      "Epoch 417/600:  70%|██████▉   | 417/600 [30:16<13:43,  4.50s/it, v_num=bl_1, total_loss_train=876, kl_local_train=60.6, tardis_age_0_train=11.2, tardis_integration_donor_0_train=12.6]"
     ]
    },
    {
     "name": "stdout",
     "output_type": "stream",
     "text": [
      "\r",
      "Epoch 418/600:  70%|██████▉   | 417/600 [30:16<13:43,  4.50s/it, v_num=bl_1, total_loss_train=876, kl_local_train=60.6, tardis_age_0_train=11.2, tardis_integration_donor_0_train=12.6]"
     ]
    },
    {
     "name": "stdout",
     "output_type": "stream",
     "text": [
      "\r",
      "Epoch 418/600:  70%|██████▉   | 418/600 [30:21<13:31,  4.46s/it, v_num=bl_1, total_loss_train=876, kl_local_train=60.6, tardis_age_0_train=11.2, tardis_integration_donor_0_train=12.6]"
     ]
    },
    {
     "name": "stdout",
     "output_type": "stream",
     "text": [
      "\r",
      "Epoch 418/600:  70%|██████▉   | 418/600 [30:21<13:31,  4.46s/it, v_num=bl_1, total_loss_train=876, kl_local_train=60.9, tardis_age_0_train=11.3, tardis_integration_donor_0_train=12.9]"
     ]
    },
    {
     "name": "stdout",
     "output_type": "stream",
     "text": [
      "\r",
      "Epoch 419/600:  70%|██████▉   | 418/600 [30:21<13:31,  4.46s/it, v_num=bl_1, total_loss_train=876, kl_local_train=60.9, tardis_age_0_train=11.3, tardis_integration_donor_0_train=12.9]"
     ]
    },
    {
     "name": "stdout",
     "output_type": "stream",
     "text": [
      "\r",
      "Epoch 419/600:  70%|██████▉   | 419/600 [30:25<13:22,  4.43s/it, v_num=bl_1, total_loss_train=876, kl_local_train=60.9, tardis_age_0_train=11.3, tardis_integration_donor_0_train=12.9]"
     ]
    },
    {
     "name": "stdout",
     "output_type": "stream",
     "text": [
      "\r",
      "Epoch 419/600:  70%|██████▉   | 419/600 [30:25<13:22,  4.43s/it, v_num=bl_1, total_loss_train=876, kl_local_train=60.6, tardis_age_0_train=11.3, tardis_integration_donor_0_train=12.8]"
     ]
    },
    {
     "name": "stdout",
     "output_type": "stream",
     "text": [
      "\r",
      "Epoch 420/600:  70%|██████▉   | 419/600 [30:25<13:22,  4.43s/it, v_num=bl_1, total_loss_train=876, kl_local_train=60.6, tardis_age_0_train=11.3, tardis_integration_donor_0_train=12.8]"
     ]
    },
    {
     "name": "stdout",
     "output_type": "stream",
     "text": [
      "\r",
      "Epoch 420/600:  70%|███████   | 420/600 [30:30<13:29,  4.50s/it, v_num=bl_1, total_loss_train=876, kl_local_train=60.6, tardis_age_0_train=11.3, tardis_integration_donor_0_train=12.8]"
     ]
    },
    {
     "name": "stdout",
     "output_type": "stream",
     "text": [
      "\r",
      "Epoch 420/600:  70%|███████   | 420/600 [30:30<13:29,  4.50s/it, v_num=bl_1, total_loss_train=876, kl_local_train=60.7, tardis_age_0_train=11.2, tardis_integration_donor_0_train=12.7]"
     ]
    },
    {
     "name": "stdout",
     "output_type": "stream",
     "text": [
      "\r",
      "Epoch 421/600:  70%|███████   | 420/600 [30:30<13:29,  4.50s/it, v_num=bl_1, total_loss_train=876, kl_local_train=60.7, tardis_age_0_train=11.2, tardis_integration_donor_0_train=12.7]"
     ]
    },
    {
     "name": "stdout",
     "output_type": "stream",
     "text": [
      "\r",
      "Epoch 421/600:  70%|███████   | 421/600 [30:34<13:18,  4.46s/it, v_num=bl_1, total_loss_train=876, kl_local_train=60.7, tardis_age_0_train=11.2, tardis_integration_donor_0_train=12.7]"
     ]
    },
    {
     "name": "stdout",
     "output_type": "stream",
     "text": [
      "\r",
      "Epoch 421/600:  70%|███████   | 421/600 [30:34<13:18,  4.46s/it, v_num=bl_1, total_loss_train=876, kl_local_train=60.8, tardis_age_0_train=11.3, tardis_integration_donor_0_train=12.8]"
     ]
    },
    {
     "name": "stdout",
     "output_type": "stream",
     "text": [
      "\r",
      "Epoch 422/600:  70%|███████   | 421/600 [30:34<13:18,  4.46s/it, v_num=bl_1, total_loss_train=876, kl_local_train=60.8, tardis_age_0_train=11.3, tardis_integration_donor_0_train=12.8]"
     ]
    },
    {
     "name": "stdout",
     "output_type": "stream",
     "text": [
      "\r",
      "Epoch 422/600:  70%|███████   | 422/600 [30:38<13:09,  4.44s/it, v_num=bl_1, total_loss_train=876, kl_local_train=60.8, tardis_age_0_train=11.3, tardis_integration_donor_0_train=12.8]"
     ]
    },
    {
     "name": "stdout",
     "output_type": "stream",
     "text": [
      "\r",
      "Epoch 422/600:  70%|███████   | 422/600 [30:38<13:09,  4.44s/it, v_num=bl_1, total_loss_train=876, kl_local_train=60.8, tardis_age_0_train=11.4, tardis_integration_donor_0_train=12.8]"
     ]
    },
    {
     "name": "stdout",
     "output_type": "stream",
     "text": [
      "\r",
      "Epoch 423/600:  70%|███████   | 422/600 [30:38<13:09,  4.44s/it, v_num=bl_1, total_loss_train=876, kl_local_train=60.8, tardis_age_0_train=11.4, tardis_integration_donor_0_train=12.8]"
     ]
    },
    {
     "name": "stdout",
     "output_type": "stream",
     "text": [
      "\r",
      "Epoch 423/600:  70%|███████   | 423/600 [30:43<13:04,  4.43s/it, v_num=bl_1, total_loss_train=876, kl_local_train=60.8, tardis_age_0_train=11.4, tardis_integration_donor_0_train=12.8]"
     ]
    },
    {
     "name": "stdout",
     "output_type": "stream",
     "text": [
      "\r",
      "Epoch 423/600:  70%|███████   | 423/600 [30:43<13:04,  4.43s/it, v_num=bl_1, total_loss_train=875, kl_local_train=60.4, tardis_age_0_train=11.4, tardis_integration_donor_0_train=12.8]"
     ]
    },
    {
     "name": "stdout",
     "output_type": "stream",
     "text": [
      "\r",
      "Epoch 424/600:  70%|███████   | 423/600 [30:43<13:04,  4.43s/it, v_num=bl_1, total_loss_train=875, kl_local_train=60.4, tardis_age_0_train=11.4, tardis_integration_donor_0_train=12.8]"
     ]
    },
    {
     "name": "stdout",
     "output_type": "stream",
     "text": [
      "\r",
      "Epoch 424/600:  71%|███████   | 424/600 [30:47<13:13,  4.51s/it, v_num=bl_1, total_loss_train=875, kl_local_train=60.4, tardis_age_0_train=11.4, tardis_integration_donor_0_train=12.8]"
     ]
    },
    {
     "name": "stdout",
     "output_type": "stream",
     "text": [
      "\r",
      "Epoch 424/600:  71%|███████   | 424/600 [30:47<13:13,  4.51s/it, v_num=bl_1, total_loss_train=875, kl_local_train=60.5, tardis_age_0_train=11.3, tardis_integration_donor_0_train=12.9]"
     ]
    },
    {
     "name": "stdout",
     "output_type": "stream",
     "text": [
      "\r",
      "Epoch 425/600:  71%|███████   | 424/600 [30:47<13:13,  4.51s/it, v_num=bl_1, total_loss_train=875, kl_local_train=60.5, tardis_age_0_train=11.3, tardis_integration_donor_0_train=12.9]"
     ]
    },
    {
     "name": "stdout",
     "output_type": "stream",
     "text": [
      "\r",
      "Epoch 425/600:  71%|███████   | 425/600 [30:52<13:03,  4.48s/it, v_num=bl_1, total_loss_train=875, kl_local_train=60.5, tardis_age_0_train=11.3, tardis_integration_donor_0_train=12.9]"
     ]
    },
    {
     "name": "stdout",
     "output_type": "stream",
     "text": [
      "\r",
      "Epoch 425/600:  71%|███████   | 425/600 [30:52<13:03,  4.48s/it, v_num=bl_1, total_loss_train=875, kl_local_train=60.5, tardis_age_0_train=11.2, tardis_integration_donor_0_train=12.8]"
     ]
    },
    {
     "name": "stdout",
     "output_type": "stream",
     "text": [
      "\r",
      "Epoch 426/600:  71%|███████   | 425/600 [30:52<13:03,  4.48s/it, v_num=bl_1, total_loss_train=875, kl_local_train=60.5, tardis_age_0_train=11.2, tardis_integration_donor_0_train=12.8]"
     ]
    },
    {
     "name": "stdout",
     "output_type": "stream",
     "text": [
      "\r",
      "Epoch 426/600:  71%|███████   | 426/600 [30:56<12:53,  4.45s/it, v_num=bl_1, total_loss_train=875, kl_local_train=60.5, tardis_age_0_train=11.2, tardis_integration_donor_0_train=12.8]"
     ]
    },
    {
     "name": "stdout",
     "output_type": "stream",
     "text": [
      "\r",
      "Epoch 426/600:  71%|███████   | 426/600 [30:56<12:53,  4.45s/it, v_num=bl_1, total_loss_train=875, kl_local_train=60.3, tardis_age_0_train=11.2, tardis_integration_donor_0_train=12.8]"
     ]
    },
    {
     "name": "stdout",
     "output_type": "stream",
     "text": [
      "\r",
      "Epoch 427/600:  71%|███████   | 426/600 [30:56<12:53,  4.45s/it, v_num=bl_1, total_loss_train=875, kl_local_train=60.3, tardis_age_0_train=11.2, tardis_integration_donor_0_train=12.8]"
     ]
    },
    {
     "name": "stdout",
     "output_type": "stream",
     "text": [
      "\r",
      "Epoch 427/600:  71%|███████   | 427/600 [31:01<13:03,  4.53s/it, v_num=bl_1, total_loss_train=875, kl_local_train=60.3, tardis_age_0_train=11.2, tardis_integration_donor_0_train=12.8]"
     ]
    },
    {
     "name": "stdout",
     "output_type": "stream",
     "text": [
      "\r",
      "Epoch 427/600:  71%|███████   | 427/600 [31:01<13:03,  4.53s/it, v_num=bl_1, total_loss_train=874, kl_local_train=59.8, tardis_age_0_train=11.1, tardis_integration_donor_0_train=12.9]"
     ]
    },
    {
     "name": "stdout",
     "output_type": "stream",
     "text": [
      "\r",
      "Epoch 428/600:  71%|███████   | 427/600 [31:01<13:03,  4.53s/it, v_num=bl_1, total_loss_train=874, kl_local_train=59.8, tardis_age_0_train=11.1, tardis_integration_donor_0_train=12.9]"
     ]
    },
    {
     "name": "stdout",
     "output_type": "stream",
     "text": [
      "\r",
      "Epoch 428/600:  71%|███████▏  | 428/600 [31:05<12:49,  4.47s/it, v_num=bl_1, total_loss_train=874, kl_local_train=59.8, tardis_age_0_train=11.1, tardis_integration_donor_0_train=12.9]"
     ]
    },
    {
     "name": "stdout",
     "output_type": "stream",
     "text": [
      "\r",
      "Epoch 428/600:  71%|███████▏  | 428/600 [31:05<12:49,  4.47s/it, v_num=bl_1, total_loss_train=874, kl_local_train=60, tardis_age_0_train=11.2, tardis_integration_donor_0_train=12.6]  "
     ]
    },
    {
     "name": "stdout",
     "output_type": "stream",
     "text": [
      "\r",
      "Epoch 429/600:  71%|███████▏  | 428/600 [31:05<12:49,  4.47s/it, v_num=bl_1, total_loss_train=874, kl_local_train=60, tardis_age_0_train=11.2, tardis_integration_donor_0_train=12.6]"
     ]
    },
    {
     "name": "stdout",
     "output_type": "stream",
     "text": [
      "\r",
      "Epoch 429/600:  72%|███████▏  | 429/600 [31:10<12:39,  4.44s/it, v_num=bl_1, total_loss_train=874, kl_local_train=60, tardis_age_0_train=11.2, tardis_integration_donor_0_train=12.6]"
     ]
    },
    {
     "name": "stdout",
     "output_type": "stream",
     "text": [
      "\r",
      "Epoch 429/600:  72%|███████▏  | 429/600 [31:10<12:39,  4.44s/it, v_num=bl_1, total_loss_train=875, kl_local_train=59.9, tardis_age_0_train=11.4, tardis_integration_donor_0_train=12.9]"
     ]
    },
    {
     "name": "stdout",
     "output_type": "stream",
     "text": [
      "\r",
      "Epoch 430/600:  72%|███████▏  | 429/600 [31:10<12:39,  4.44s/it, v_num=bl_1, total_loss_train=875, kl_local_train=59.9, tardis_age_0_train=11.4, tardis_integration_donor_0_train=12.9]"
     ]
    },
    {
     "name": "stdout",
     "output_type": "stream",
     "text": [
      "\r",
      "Epoch 430/600:  72%|███████▏  | 430/600 [31:14<12:33,  4.43s/it, v_num=bl_1, total_loss_train=875, kl_local_train=59.9, tardis_age_0_train=11.4, tardis_integration_donor_0_train=12.9]"
     ]
    },
    {
     "name": "stdout",
     "output_type": "stream",
     "text": [
      "\r",
      "Epoch 430/600:  72%|███████▏  | 430/600 [31:14<12:33,  4.43s/it, v_num=bl_1, total_loss_train=875, kl_local_train=60.2, tardis_age_0_train=11.4, tardis_integration_donor_0_train=13]  "
     ]
    },
    {
     "name": "stdout",
     "output_type": "stream",
     "text": [
      "\r",
      "Epoch 431/600:  72%|███████▏  | 430/600 [31:14<12:33,  4.43s/it, v_num=bl_1, total_loss_train=875, kl_local_train=60.2, tardis_age_0_train=11.4, tardis_integration_donor_0_train=13]"
     ]
    },
    {
     "name": "stdout",
     "output_type": "stream",
     "text": [
      "\r",
      "Epoch 431/600:  72%|███████▏  | 431/600 [31:19<12:46,  4.53s/it, v_num=bl_1, total_loss_train=875, kl_local_train=60.2, tardis_age_0_train=11.4, tardis_integration_donor_0_train=13]"
     ]
    },
    {
     "name": "stdout",
     "output_type": "stream",
     "text": [
      "\r",
      "Epoch 431/600:  72%|███████▏  | 431/600 [31:19<12:46,  4.53s/it, v_num=bl_1, total_loss_train=874, kl_local_train=59.8, tardis_age_0_train=11.4, tardis_integration_donor_0_train=13]"
     ]
    },
    {
     "name": "stdout",
     "output_type": "stream",
     "text": [
      "\r",
      "Epoch 432/600:  72%|███████▏  | 431/600 [31:19<12:46,  4.53s/it, v_num=bl_1, total_loss_train=874, kl_local_train=59.8, tardis_age_0_train=11.4, tardis_integration_donor_0_train=13]"
     ]
    },
    {
     "name": "stdout",
     "output_type": "stream",
     "text": [
      "\r",
      "Epoch 432/600:  72%|███████▏  | 432/600 [31:23<12:35,  4.50s/it, v_num=bl_1, total_loss_train=874, kl_local_train=59.8, tardis_age_0_train=11.4, tardis_integration_donor_0_train=13]"
     ]
    },
    {
     "name": "stdout",
     "output_type": "stream",
     "text": [
      "\r",
      "Epoch 432/600:  72%|███████▏  | 432/600 [31:23<12:35,  4.50s/it, v_num=bl_1, total_loss_train=874, kl_local_train=59.7, tardis_age_0_train=11.4, tardis_integration_donor_0_train=12.9]"
     ]
    },
    {
     "name": "stdout",
     "output_type": "stream",
     "text": [
      "\r",
      "Epoch 433/600:  72%|███████▏  | 432/600 [31:23<12:35,  4.50s/it, v_num=bl_1, total_loss_train=874, kl_local_train=59.7, tardis_age_0_train=11.4, tardis_integration_donor_0_train=12.9]"
     ]
    },
    {
     "name": "stdout",
     "output_type": "stream",
     "text": [
      "\r",
      "Epoch 433/600:  72%|███████▏  | 433/600 [31:28<12:25,  4.46s/it, v_num=bl_1, total_loss_train=874, kl_local_train=59.7, tardis_age_0_train=11.4, tardis_integration_donor_0_train=12.9]"
     ]
    },
    {
     "name": "stdout",
     "output_type": "stream",
     "text": [
      "\r",
      "Epoch 433/600:  72%|███████▏  | 433/600 [31:28<12:25,  4.46s/it, v_num=bl_1, total_loss_train=874, kl_local_train=59.6, tardis_age_0_train=11.3, tardis_integration_donor_0_train=12.9]"
     ]
    },
    {
     "name": "stdout",
     "output_type": "stream",
     "text": [
      "\r",
      "Epoch 434/600:  72%|███████▏  | 433/600 [31:28<12:25,  4.46s/it, v_num=bl_1, total_loss_train=874, kl_local_train=59.6, tardis_age_0_train=11.3, tardis_integration_donor_0_train=12.9]"
     ]
    },
    {
     "name": "stdout",
     "output_type": "stream",
     "text": [
      "\r",
      "Epoch 434/600:  72%|███████▏  | 434/600 [31:33<12:41,  4.59s/it, v_num=bl_1, total_loss_train=874, kl_local_train=59.6, tardis_age_0_train=11.3, tardis_integration_donor_0_train=12.9]"
     ]
    },
    {
     "name": "stdout",
     "output_type": "stream",
     "text": [
      "\r",
      "Epoch 434/600:  72%|███████▏  | 434/600 [31:33<12:41,  4.59s/it, v_num=bl_1, total_loss_train=874, kl_local_train=59.8, tardis_age_0_train=11.3, tardis_integration_donor_0_train=13]  "
     ]
    },
    {
     "name": "stdout",
     "output_type": "stream",
     "text": [
      "\r",
      "Epoch 435/600:  72%|███████▏  | 434/600 [31:33<12:41,  4.59s/it, v_num=bl_1, total_loss_train=874, kl_local_train=59.8, tardis_age_0_train=11.3, tardis_integration_donor_0_train=13]"
     ]
    },
    {
     "name": "stdout",
     "output_type": "stream",
     "text": [
      "\r",
      "Epoch 435/600:  72%|███████▎  | 435/600 [31:37<12:26,  4.53s/it, v_num=bl_1, total_loss_train=874, kl_local_train=59.8, tardis_age_0_train=11.3, tardis_integration_donor_0_train=13]"
     ]
    },
    {
     "name": "stdout",
     "output_type": "stream",
     "text": [
      "\r",
      "Epoch 435/600:  72%|███████▎  | 435/600 [31:37<12:26,  4.53s/it, v_num=bl_1, total_loss_train=874, kl_local_train=59.8, tardis_age_0_train=11.3, tardis_integration_donor_0_train=13]"
     ]
    },
    {
     "name": "stdout",
     "output_type": "stream",
     "text": [
      "\r",
      "Epoch 436/600:  72%|███████▎  | 435/600 [31:37<12:26,  4.53s/it, v_num=bl_1, total_loss_train=874, kl_local_train=59.8, tardis_age_0_train=11.3, tardis_integration_donor_0_train=13]"
     ]
    },
    {
     "name": "stdout",
     "output_type": "stream",
     "text": [
      "\r",
      "Epoch 436/600:  73%|███████▎  | 436/600 [31:41<12:14,  4.48s/it, v_num=bl_1, total_loss_train=874, kl_local_train=59.8, tardis_age_0_train=11.3, tardis_integration_donor_0_train=13]"
     ]
    },
    {
     "name": "stdout",
     "output_type": "stream",
     "text": [
      "\r",
      "Epoch 436/600:  73%|███████▎  | 436/600 [31:41<12:14,  4.48s/it, v_num=bl_1, total_loss_train=874, kl_local_train=59.5, tardis_age_0_train=11.4, tardis_integration_donor_0_train=13.1]"
     ]
    },
    {
     "name": "stdout",
     "output_type": "stream",
     "text": [
      "\r",
      "Epoch 437/600:  73%|███████▎  | 436/600 [31:41<12:14,  4.48s/it, v_num=bl_1, total_loss_train=874, kl_local_train=59.5, tardis_age_0_train=11.4, tardis_integration_donor_0_train=13.1]"
     ]
    },
    {
     "name": "stdout",
     "output_type": "stream",
     "text": [
      "\r",
      "Epoch 437/600:  73%|███████▎  | 437/600 [31:46<12:07,  4.46s/it, v_num=bl_1, total_loss_train=874, kl_local_train=59.5, tardis_age_0_train=11.4, tardis_integration_donor_0_train=13.1]"
     ]
    },
    {
     "name": "stdout",
     "output_type": "stream",
     "text": [
      "\r",
      "Epoch 437/600:  73%|███████▎  | 437/600 [31:46<12:07,  4.46s/it, v_num=bl_1, total_loss_train=874, kl_local_train=59.9, tardis_age_0_train=11.4, tardis_integration_donor_0_train=13.1]"
     ]
    },
    {
     "name": "stdout",
     "output_type": "stream",
     "text": [
      "\r",
      "Epoch 438/600:  73%|███████▎  | 437/600 [31:46<12:07,  4.46s/it, v_num=bl_1, total_loss_train=874, kl_local_train=59.9, tardis_age_0_train=11.4, tardis_integration_donor_0_train=13.1]"
     ]
    },
    {
     "name": "stdout",
     "output_type": "stream",
     "text": [
      "\r",
      "Epoch 438/600:  73%|███████▎  | 438/600 [31:50<12:12,  4.52s/it, v_num=bl_1, total_loss_train=874, kl_local_train=59.9, tardis_age_0_train=11.4, tardis_integration_donor_0_train=13.1]"
     ]
    },
    {
     "name": "stdout",
     "output_type": "stream",
     "text": [
      "\r",
      "Epoch 438/600:  73%|███████▎  | 438/600 [31:50<12:12,  4.52s/it, v_num=bl_1, total_loss_train=873, kl_local_train=59.5, tardis_age_0_train=11.4, tardis_integration_donor_0_train=12.9]"
     ]
    },
    {
     "name": "stdout",
     "output_type": "stream",
     "text": [
      "\r",
      "Epoch 439/600:  73%|███████▎  | 438/600 [31:50<12:12,  4.52s/it, v_num=bl_1, total_loss_train=873, kl_local_train=59.5, tardis_age_0_train=11.4, tardis_integration_donor_0_train=12.9]"
     ]
    },
    {
     "name": "stdout",
     "output_type": "stream",
     "text": [
      "\r",
      "Epoch 439/600:  73%|███████▎  | 439/600 [31:55<12:00,  4.48s/it, v_num=bl_1, total_loss_train=873, kl_local_train=59.5, tardis_age_0_train=11.4, tardis_integration_donor_0_train=12.9]"
     ]
    },
    {
     "name": "stdout",
     "output_type": "stream",
     "text": [
      "\r",
      "Epoch 439/600:  73%|███████▎  | 439/600 [31:55<12:00,  4.48s/it, v_num=bl_1, total_loss_train=873, kl_local_train=59.6, tardis_age_0_train=11.5, tardis_integration_donor_0_train=13]  "
     ]
    },
    {
     "name": "stdout",
     "output_type": "stream",
     "text": [
      "\r",
      "Epoch 440/600:  73%|███████▎  | 439/600 [31:55<12:00,  4.48s/it, v_num=bl_1, total_loss_train=873, kl_local_train=59.6, tardis_age_0_train=11.5, tardis_integration_donor_0_train=13]"
     ]
    },
    {
     "name": "stdout",
     "output_type": "stream",
     "text": [
      "\r",
      "Epoch 440/600:  73%|███████▎  | 440/600 [31:59<11:52,  4.45s/it, v_num=bl_1, total_loss_train=873, kl_local_train=59.6, tardis_age_0_train=11.5, tardis_integration_donor_0_train=13]"
     ]
    },
    {
     "name": "stdout",
     "output_type": "stream",
     "text": [
      "\r",
      "Epoch 440/600:  73%|███████▎  | 440/600 [31:59<11:52,  4.45s/it, v_num=bl_1, total_loss_train=873, kl_local_train=59.4, tardis_age_0_train=11.4, tardis_integration_donor_0_train=13.1]"
     ]
    },
    {
     "name": "stdout",
     "output_type": "stream",
     "text": [
      "\r",
      "Epoch 441/600:  73%|███████▎  | 440/600 [31:59<11:52,  4.45s/it, v_num=bl_1, total_loss_train=873, kl_local_train=59.4, tardis_age_0_train=11.4, tardis_integration_donor_0_train=13.1]"
     ]
    },
    {
     "name": "stdout",
     "output_type": "stream",
     "text": [
      "\r",
      "Epoch 441/600:  74%|███████▎  | 441/600 [32:04<11:55,  4.50s/it, v_num=bl_1, total_loss_train=873, kl_local_train=59.4, tardis_age_0_train=11.4, tardis_integration_donor_0_train=13.1]"
     ]
    },
    {
     "name": "stdout",
     "output_type": "stream",
     "text": [
      "\r",
      "Epoch 441/600:  74%|███████▎  | 441/600 [32:04<11:55,  4.50s/it, v_num=bl_1, total_loss_train=873, kl_local_train=59.6, tardis_age_0_train=11.4, tardis_integration_donor_0_train=13.2]"
     ]
    },
    {
     "name": "stdout",
     "output_type": "stream",
     "text": [
      "\r",
      "Epoch 442/600:  74%|███████▎  | 441/600 [32:04<11:55,  4.50s/it, v_num=bl_1, total_loss_train=873, kl_local_train=59.6, tardis_age_0_train=11.4, tardis_integration_donor_0_train=13.2]"
     ]
    },
    {
     "name": "stdout",
     "output_type": "stream",
     "text": [
      "\r",
      "Epoch 442/600:  74%|███████▎  | 442/600 [32:08<11:45,  4.46s/it, v_num=bl_1, total_loss_train=873, kl_local_train=59.6, tardis_age_0_train=11.4, tardis_integration_donor_0_train=13.2]"
     ]
    },
    {
     "name": "stdout",
     "output_type": "stream",
     "text": [
      "\r",
      "Epoch 442/600:  74%|███████▎  | 442/600 [32:08<11:45,  4.46s/it, v_num=bl_1, total_loss_train=874, kl_local_train=59.1, tardis_age_0_train=11.5, tardis_integration_donor_0_train=13.2]"
     ]
    },
    {
     "name": "stdout",
     "output_type": "stream",
     "text": [
      "\r",
      "Epoch 443/600:  74%|███████▎  | 442/600 [32:08<11:45,  4.46s/it, v_num=bl_1, total_loss_train=874, kl_local_train=59.1, tardis_age_0_train=11.5, tardis_integration_donor_0_train=13.2]"
     ]
    },
    {
     "name": "stdout",
     "output_type": "stream",
     "text": [
      "\r",
      "Epoch 443/600:  74%|███████▍  | 443/600 [32:13<11:38,  4.45s/it, v_num=bl_1, total_loss_train=874, kl_local_train=59.1, tardis_age_0_train=11.5, tardis_integration_donor_0_train=13.2]"
     ]
    },
    {
     "name": "stdout",
     "output_type": "stream",
     "text": [
      "\r",
      "Epoch 443/600:  74%|███████▍  | 443/600 [32:13<11:38,  4.45s/it, v_num=bl_1, total_loss_train=873, kl_local_train=59.4, tardis_age_0_train=11.4, tardis_integration_donor_0_train=13.2]"
     ]
    },
    {
     "name": "stdout",
     "output_type": "stream",
     "text": [
      "\r",
      "Epoch 444/600:  74%|███████▍  | 443/600 [32:13<11:38,  4.45s/it, v_num=bl_1, total_loss_train=873, kl_local_train=59.4, tardis_age_0_train=11.4, tardis_integration_donor_0_train=13.2]"
     ]
    },
    {
     "name": "stdout",
     "output_type": "stream",
     "text": [
      "\r",
      "Epoch 444/600:  74%|███████▍  | 444/600 [32:17<11:33,  4.45s/it, v_num=bl_1, total_loss_train=873, kl_local_train=59.4, tardis_age_0_train=11.4, tardis_integration_donor_0_train=13.2]"
     ]
    },
    {
     "name": "stdout",
     "output_type": "stream",
     "text": [
      "\r",
      "Epoch 444/600:  74%|███████▍  | 444/600 [32:17<11:33,  4.45s/it, v_num=bl_1, total_loss_train=873, kl_local_train=59.5, tardis_age_0_train=11.3, tardis_integration_donor_0_train=13.1]"
     ]
    },
    {
     "name": "stdout",
     "output_type": "stream",
     "text": [
      "\r",
      "Epoch 445/600:  74%|███████▍  | 444/600 [32:17<11:33,  4.45s/it, v_num=bl_1, total_loss_train=873, kl_local_train=59.5, tardis_age_0_train=11.3, tardis_integration_donor_0_train=13.1]"
     ]
    },
    {
     "name": "stdout",
     "output_type": "stream",
     "text": [
      "\r",
      "Epoch 445/600:  74%|███████▍  | 445/600 [32:22<11:43,  4.54s/it, v_num=bl_1, total_loss_train=873, kl_local_train=59.5, tardis_age_0_train=11.3, tardis_integration_donor_0_train=13.1]"
     ]
    },
    {
     "name": "stdout",
     "output_type": "stream",
     "text": [
      "\r",
      "Epoch 445/600:  74%|███████▍  | 445/600 [32:22<11:43,  4.54s/it, v_num=bl_1, total_loss_train=872, kl_local_train=58.9, tardis_age_0_train=11.4, tardis_integration_donor_0_train=13.1]"
     ]
    },
    {
     "name": "stdout",
     "output_type": "stream",
     "text": [
      "\r",
      "Epoch 446/600:  74%|███████▍  | 445/600 [32:22<11:43,  4.54s/it, v_num=bl_1, total_loss_train=872, kl_local_train=58.9, tardis_age_0_train=11.4, tardis_integration_donor_0_train=13.1]"
     ]
    },
    {
     "name": "stdout",
     "output_type": "stream",
     "text": [
      "\r",
      "Epoch 446/600:  74%|███████▍  | 446/600 [32:26<11:31,  4.49s/it, v_num=bl_1, total_loss_train=872, kl_local_train=58.9, tardis_age_0_train=11.4, tardis_integration_donor_0_train=13.1]"
     ]
    },
    {
     "name": "stdout",
     "output_type": "stream",
     "text": [
      "\r",
      "Epoch 446/600:  74%|███████▍  | 446/600 [32:26<11:31,  4.49s/it, v_num=bl_1, total_loss_train=872, kl_local_train=59, tardis_age_0_train=11.4, tardis_integration_donor_0_train=13.1]  "
     ]
    },
    {
     "name": "stdout",
     "output_type": "stream",
     "text": [
      "\r",
      "Epoch 447/600:  74%|███████▍  | 446/600 [32:26<11:31,  4.49s/it, v_num=bl_1, total_loss_train=872, kl_local_train=59, tardis_age_0_train=11.4, tardis_integration_donor_0_train=13.1]"
     ]
    },
    {
     "name": "stdout",
     "output_type": "stream",
     "text": [
      "\r",
      "Epoch 447/600:  74%|███████▍  | 447/600 [32:31<11:23,  4.47s/it, v_num=bl_1, total_loss_train=872, kl_local_train=59, tardis_age_0_train=11.4, tardis_integration_donor_0_train=13.1]"
     ]
    },
    {
     "name": "stdout",
     "output_type": "stream",
     "text": [
      "\r",
      "Epoch 447/600:  74%|███████▍  | 447/600 [32:31<11:23,  4.47s/it, v_num=bl_1, total_loss_train=872, kl_local_train=59.2, tardis_age_0_train=11.5, tardis_integration_donor_0_train=13.1]"
     ]
    },
    {
     "name": "stdout",
     "output_type": "stream",
     "text": [
      "\r",
      "Epoch 448/600:  74%|███████▍  | 447/600 [32:31<11:23,  4.47s/it, v_num=bl_1, total_loss_train=872, kl_local_train=59.2, tardis_age_0_train=11.5, tardis_integration_donor_0_train=13.1]"
     ]
    },
    {
     "name": "stdout",
     "output_type": "stream",
     "text": [
      "\r",
      "Epoch 448/600:  75%|███████▍  | 448/600 [32:35<11:17,  4.46s/it, v_num=bl_1, total_loss_train=872, kl_local_train=59.2, tardis_age_0_train=11.5, tardis_integration_donor_0_train=13.1]"
     ]
    },
    {
     "name": "stdout",
     "output_type": "stream",
     "text": [
      "\r",
      "Epoch 448/600:  75%|███████▍  | 448/600 [32:35<11:17,  4.46s/it, v_num=bl_1, total_loss_train=872, kl_local_train=59.2, tardis_age_0_train=11.5, tardis_integration_donor_0_train=13.1]"
     ]
    },
    {
     "name": "stdout",
     "output_type": "stream",
     "text": [
      "\r",
      "Epoch 449/600:  75%|███████▍  | 448/600 [32:35<11:17,  4.46s/it, v_num=bl_1, total_loss_train=872, kl_local_train=59.2, tardis_age_0_train=11.5, tardis_integration_donor_0_train=13.1]"
     ]
    },
    {
     "name": "stdout",
     "output_type": "stream",
     "text": [
      "\r",
      "Epoch 449/600:  75%|███████▍  | 449/600 [32:40<11:30,  4.58s/it, v_num=bl_1, total_loss_train=872, kl_local_train=59.2, tardis_age_0_train=11.5, tardis_integration_donor_0_train=13.1]"
     ]
    },
    {
     "name": "stdout",
     "output_type": "stream",
     "text": [
      "\r",
      "Epoch 449/600:  75%|███████▍  | 449/600 [32:40<11:30,  4.58s/it, v_num=bl_1, total_loss_train=872, kl_local_train=59, tardis_age_0_train=11.5, tardis_integration_donor_0_train=13.1]  "
     ]
    },
    {
     "name": "stdout",
     "output_type": "stream",
     "text": [
      "\r",
      "Epoch 450/600:  75%|███████▍  | 449/600 [32:40<11:30,  4.58s/it, v_num=bl_1, total_loss_train=872, kl_local_train=59, tardis_age_0_train=11.5, tardis_integration_donor_0_train=13.1]"
     ]
    },
    {
     "name": "stdout",
     "output_type": "stream",
     "text": [
      "\r",
      "Epoch 450/600:  75%|███████▌  | 450/600 [32:44<11:19,  4.53s/it, v_num=bl_1, total_loss_train=872, kl_local_train=59, tardis_age_0_train=11.5, tardis_integration_donor_0_train=13.1]"
     ]
    },
    {
     "name": "stdout",
     "output_type": "stream",
     "text": [
      "\r",
      "Epoch 450/600:  75%|███████▌  | 450/600 [32:44<11:19,  4.53s/it, v_num=bl_1, total_loss_train=872, kl_local_train=58.7, tardis_age_0_train=11.5, tardis_integration_donor_0_train=13.2]"
     ]
    },
    {
     "name": "stdout",
     "output_type": "stream",
     "text": [
      "\r",
      "Epoch 451/600:  75%|███████▌  | 450/600 [32:44<11:19,  4.53s/it, v_num=bl_1, total_loss_train=872, kl_local_train=58.7, tardis_age_0_train=11.5, tardis_integration_donor_0_train=13.2]"
     ]
    },
    {
     "name": "stdout",
     "output_type": "stream",
     "text": [
      "\r",
      "Epoch 451/600:  75%|███████▌  | 451/600 [32:49<11:09,  4.50s/it, v_num=bl_1, total_loss_train=872, kl_local_train=58.7, tardis_age_0_train=11.5, tardis_integration_donor_0_train=13.2]"
     ]
    },
    {
     "name": "stdout",
     "output_type": "stream",
     "text": [
      "\r",
      "Epoch 451/600:  75%|███████▌  | 451/600 [32:49<11:09,  4.50s/it, v_num=bl_1, total_loss_train=872, kl_local_train=58.9, tardis_age_0_train=11.4, tardis_integration_donor_0_train=13.3]"
     ]
    },
    {
     "name": "stdout",
     "output_type": "stream",
     "text": [
      "\r",
      "Epoch 452/600:  75%|███████▌  | 451/600 [32:49<11:09,  4.50s/it, v_num=bl_1, total_loss_train=872, kl_local_train=58.9, tardis_age_0_train=11.4, tardis_integration_donor_0_train=13.3]"
     ]
    },
    {
     "name": "stdout",
     "output_type": "stream",
     "text": [
      "\r",
      "Epoch 452/600:  75%|███████▌  | 452/600 [32:53<11:11,  4.54s/it, v_num=bl_1, total_loss_train=872, kl_local_train=58.9, tardis_age_0_train=11.4, tardis_integration_donor_0_train=13.3]"
     ]
    },
    {
     "name": "stdout",
     "output_type": "stream",
     "text": [
      "\r",
      "Epoch 452/600:  75%|███████▌  | 452/600 [32:53<11:11,  4.54s/it, v_num=bl_1, total_loss_train=872, kl_local_train=58.9, tardis_age_0_train=11.6, tardis_integration_donor_0_train=13.3]"
     ]
    },
    {
     "name": "stdout",
     "output_type": "stream",
     "text": [
      "\r",
      "Epoch 453/600:  75%|███████▌  | 452/600 [32:53<11:11,  4.54s/it, v_num=bl_1, total_loss_train=872, kl_local_train=58.9, tardis_age_0_train=11.6, tardis_integration_donor_0_train=13.3]"
     ]
    },
    {
     "name": "stdout",
     "output_type": "stream",
     "text": [
      "\r",
      "Epoch 453/600:  76%|███████▌  | 453/600 [32:58<11:00,  4.49s/it, v_num=bl_1, total_loss_train=872, kl_local_train=58.9, tardis_age_0_train=11.6, tardis_integration_donor_0_train=13.3]"
     ]
    },
    {
     "name": "stdout",
     "output_type": "stream",
     "text": [
      "\r",
      "Epoch 453/600:  76%|███████▌  | 453/600 [32:58<11:00,  4.49s/it, v_num=bl_1, total_loss_train=872, kl_local_train=58.6, tardis_age_0_train=11.6, tardis_integration_donor_0_train=13.3]"
     ]
    },
    {
     "name": "stdout",
     "output_type": "stream",
     "text": [
      "\r",
      "Epoch 454/600:  76%|███████▌  | 453/600 [32:58<11:00,  4.49s/it, v_num=bl_1, total_loss_train=872, kl_local_train=58.6, tardis_age_0_train=11.6, tardis_integration_donor_0_train=13.3]"
     ]
    },
    {
     "name": "stdout",
     "output_type": "stream",
     "text": [
      "\r",
      "Epoch 454/600:  76%|███████▌  | 454/600 [33:02<10:50,  4.46s/it, v_num=bl_1, total_loss_train=872, kl_local_train=58.6, tardis_age_0_train=11.6, tardis_integration_donor_0_train=13.3]"
     ]
    },
    {
     "name": "stdout",
     "output_type": "stream",
     "text": [
      "\r",
      "Epoch 454/600:  76%|███████▌  | 454/600 [33:02<10:50,  4.46s/it, v_num=bl_1, total_loss_train=872, kl_local_train=58.5, tardis_age_0_train=11.7, tardis_integration_donor_0_train=13.5]"
     ]
    },
    {
     "name": "stdout",
     "output_type": "stream",
     "text": [
      "\r",
      "Epoch 455/600:  76%|███████▌  | 454/600 [33:02<10:50,  4.46s/it, v_num=bl_1, total_loss_train=872, kl_local_train=58.5, tardis_age_0_train=11.7, tardis_integration_donor_0_train=13.5]"
     ]
    },
    {
     "name": "stdout",
     "output_type": "stream",
     "text": [
      "\r",
      "Epoch 455/600:  76%|███████▌  | 455/600 [33:06<10:45,  4.45s/it, v_num=bl_1, total_loss_train=872, kl_local_train=58.5, tardis_age_0_train=11.7, tardis_integration_donor_0_train=13.5]"
     ]
    },
    {
     "name": "stdout",
     "output_type": "stream",
     "text": [
      "\r",
      "Epoch 455/600:  76%|███████▌  | 455/600 [33:06<10:45,  4.45s/it, v_num=bl_1, total_loss_train=871, kl_local_train=58.8, tardis_age_0_train=11.5, tardis_integration_donor_0_train=13.2]"
     ]
    },
    {
     "name": "stdout",
     "output_type": "stream",
     "text": [
      "\r",
      "Epoch 456/600:  76%|███████▌  | 455/600 [33:07<10:45,  4.45s/it, v_num=bl_1, total_loss_train=871, kl_local_train=58.8, tardis_age_0_train=11.5, tardis_integration_donor_0_train=13.2]"
     ]
    },
    {
     "name": "stdout",
     "output_type": "stream",
     "text": [
      "\r",
      "Epoch 456/600:  76%|███████▌  | 456/600 [33:11<10:54,  4.55s/it, v_num=bl_1, total_loss_train=871, kl_local_train=58.8, tardis_age_0_train=11.5, tardis_integration_donor_0_train=13.2]"
     ]
    },
    {
     "name": "stdout",
     "output_type": "stream",
     "text": [
      "\r",
      "Epoch 456/600:  76%|███████▌  | 456/600 [33:11<10:54,  4.55s/it, v_num=bl_1, total_loss_train=871, kl_local_train=58.5, tardis_age_0_train=11.5, tardis_integration_donor_0_train=13.2]"
     ]
    },
    {
     "name": "stdout",
     "output_type": "stream",
     "text": [
      "\r",
      "Epoch 457/600:  76%|███████▌  | 456/600 [33:11<10:54,  4.55s/it, v_num=bl_1, total_loss_train=871, kl_local_train=58.5, tardis_age_0_train=11.5, tardis_integration_donor_0_train=13.2]"
     ]
    },
    {
     "name": "stdout",
     "output_type": "stream",
     "text": [
      "\r",
      "Epoch 457/600:  76%|███████▌  | 457/600 [33:16<10:44,  4.51s/it, v_num=bl_1, total_loss_train=871, kl_local_train=58.5, tardis_age_0_train=11.5, tardis_integration_donor_0_train=13.2]"
     ]
    },
    {
     "name": "stdout",
     "output_type": "stream",
     "text": [
      "\r",
      "Epoch 457/600:  76%|███████▌  | 457/600 [33:16<10:44,  4.51s/it, v_num=bl_1, total_loss_train=872, kl_local_train=58.3, tardis_age_0_train=11.6, tardis_integration_donor_0_train=13.4]"
     ]
    },
    {
     "name": "stdout",
     "output_type": "stream",
     "text": [
      "\r",
      "Epoch 458/600:  76%|███████▌  | 457/600 [33:16<10:44,  4.51s/it, v_num=bl_1, total_loss_train=872, kl_local_train=58.3, tardis_age_0_train=11.6, tardis_integration_donor_0_train=13.4]"
     ]
    },
    {
     "name": "stdout",
     "output_type": "stream",
     "text": [
      "\r",
      "Epoch 458/600:  76%|███████▋  | 458/600 [33:20<10:33,  4.46s/it, v_num=bl_1, total_loss_train=872, kl_local_train=58.3, tardis_age_0_train=11.6, tardis_integration_donor_0_train=13.4]"
     ]
    },
    {
     "name": "stdout",
     "output_type": "stream",
     "text": [
      "\r",
      "Epoch 458/600:  76%|███████▋  | 458/600 [33:20<10:33,  4.46s/it, v_num=bl_1, total_loss_train=871, kl_local_train=58.3, tardis_age_0_train=11.7, tardis_integration_donor_0_train=13.4]"
     ]
    },
    {
     "name": "stdout",
     "output_type": "stream",
     "text": [
      "\r",
      "Epoch 459/600:  76%|███████▋  | 458/600 [33:20<10:33,  4.46s/it, v_num=bl_1, total_loss_train=871, kl_local_train=58.3, tardis_age_0_train=11.7, tardis_integration_donor_0_train=13.4]"
     ]
    },
    {
     "name": "stdout",
     "output_type": "stream",
     "text": [
      "\r",
      "Epoch 459/600:  76%|███████▋  | 459/600 [33:24<10:26,  4.44s/it, v_num=bl_1, total_loss_train=871, kl_local_train=58.3, tardis_age_0_train=11.7, tardis_integration_donor_0_train=13.4]"
     ]
    },
    {
     "name": "stdout",
     "output_type": "stream",
     "text": [
      "\r",
      "Epoch 459/600:  76%|███████▋  | 459/600 [33:24<10:26,  4.44s/it, v_num=bl_1, total_loss_train=871, kl_local_train=58.1, tardis_age_0_train=11.7, tardis_integration_donor_0_train=13.2]"
     ]
    },
    {
     "name": "stdout",
     "output_type": "stream",
     "text": [
      "\r",
      "Epoch 460/600:  76%|███████▋  | 459/600 [33:24<10:26,  4.44s/it, v_num=bl_1, total_loss_train=871, kl_local_train=58.1, tardis_age_0_train=11.7, tardis_integration_donor_0_train=13.2]"
     ]
    },
    {
     "name": "stdout",
     "output_type": "stream",
     "text": [
      "\r",
      "Epoch 460/600:  77%|███████▋  | 460/600 [33:29<10:32,  4.52s/it, v_num=bl_1, total_loss_train=871, kl_local_train=58.1, tardis_age_0_train=11.7, tardis_integration_donor_0_train=13.2]"
     ]
    },
    {
     "name": "stdout",
     "output_type": "stream",
     "text": [
      "\r",
      "Epoch 460/600:  77%|███████▋  | 460/600 [33:29<10:32,  4.52s/it, v_num=bl_1, total_loss_train=871, kl_local_train=58, tardis_age_0_train=11.7, tardis_integration_donor_0_train=13.3]  "
     ]
    },
    {
     "name": "stdout",
     "output_type": "stream",
     "text": [
      "\r",
      "Epoch 461/600:  77%|███████▋  | 460/600 [33:29<10:32,  4.52s/it, v_num=bl_1, total_loss_train=871, kl_local_train=58, tardis_age_0_train=11.7, tardis_integration_donor_0_train=13.3]"
     ]
    },
    {
     "name": "stdout",
     "output_type": "stream",
     "text": [
      "\r",
      "Epoch 461/600:  77%|███████▋  | 461/600 [33:34<10:24,  4.49s/it, v_num=bl_1, total_loss_train=871, kl_local_train=58, tardis_age_0_train=11.7, tardis_integration_donor_0_train=13.3]"
     ]
    },
    {
     "name": "stdout",
     "output_type": "stream",
     "text": [
      "\r",
      "Epoch 461/600:  77%|███████▋  | 461/600 [33:34<10:24,  4.49s/it, v_num=bl_1, total_loss_train=871, kl_local_train=58.1, tardis_age_0_train=11.6, tardis_integration_donor_0_train=13.3]"
     ]
    },
    {
     "name": "stdout",
     "output_type": "stream",
     "text": [
      "\r",
      "Epoch 462/600:  77%|███████▋  | 461/600 [33:34<10:24,  4.49s/it, v_num=bl_1, total_loss_train=871, kl_local_train=58.1, tardis_age_0_train=11.6, tardis_integration_donor_0_train=13.3]"
     ]
    },
    {
     "name": "stdout",
     "output_type": "stream",
     "text": [
      "\r",
      "Epoch 462/600:  77%|███████▋  | 462/600 [33:38<10:15,  4.46s/it, v_num=bl_1, total_loss_train=871, kl_local_train=58.1, tardis_age_0_train=11.6, tardis_integration_donor_0_train=13.3]"
     ]
    },
    {
     "name": "stdout",
     "output_type": "stream",
     "text": [
      "\r",
      "Epoch 462/600:  77%|███████▋  | 462/600 [33:38<10:15,  4.46s/it, v_num=bl_1, total_loss_train=871, kl_local_train=57.9, tardis_age_0_train=11.7, tardis_integration_donor_0_train=13.3]"
     ]
    },
    {
     "name": "stdout",
     "output_type": "stream",
     "text": [
      "\r",
      "Epoch 463/600:  77%|███████▋  | 462/600 [33:38<10:15,  4.46s/it, v_num=bl_1, total_loss_train=871, kl_local_train=57.9, tardis_age_0_train=11.7, tardis_integration_donor_0_train=13.3]"
     ]
    },
    {
     "name": "stdout",
     "output_type": "stream",
     "text": [
      "\r",
      "Epoch 463/600:  77%|███████▋  | 463/600 [33:43<10:20,  4.53s/it, v_num=bl_1, total_loss_train=871, kl_local_train=57.9, tardis_age_0_train=11.7, tardis_integration_donor_0_train=13.3]"
     ]
    },
    {
     "name": "stdout",
     "output_type": "stream",
     "text": [
      "\r",
      "Epoch 463/600:  77%|███████▋  | 463/600 [33:43<10:20,  4.53s/it, v_num=bl_1, total_loss_train=871, kl_local_train=58.3, tardis_age_0_train=11.7, tardis_integration_donor_0_train=13.4]"
     ]
    },
    {
     "name": "stdout",
     "output_type": "stream",
     "text": [
      "\r",
      "Epoch 464/600:  77%|███████▋  | 463/600 [33:43<10:20,  4.53s/it, v_num=bl_1, total_loss_train=871, kl_local_train=58.3, tardis_age_0_train=11.7, tardis_integration_donor_0_train=13.4]"
     ]
    },
    {
     "name": "stdout",
     "output_type": "stream",
     "text": [
      "\r",
      "Epoch 464/600:  77%|███████▋  | 464/600 [33:47<10:10,  4.49s/it, v_num=bl_1, total_loss_train=871, kl_local_train=58.3, tardis_age_0_train=11.7, tardis_integration_donor_0_train=13.4]"
     ]
    },
    {
     "name": "stdout",
     "output_type": "stream",
     "text": [
      "\r",
      "Epoch 464/600:  77%|███████▋  | 464/600 [33:47<10:10,  4.49s/it, v_num=bl_1, total_loss_train=870, kl_local_train=58.1, tardis_age_0_train=11.6, tardis_integration_donor_0_train=13.6]"
     ]
    },
    {
     "name": "stdout",
     "output_type": "stream",
     "text": [
      "\r",
      "Epoch 465/600:  77%|███████▋  | 464/600 [33:47<10:10,  4.49s/it, v_num=bl_1, total_loss_train=870, kl_local_train=58.1, tardis_age_0_train=11.6, tardis_integration_donor_0_train=13.6]"
     ]
    },
    {
     "name": "stdout",
     "output_type": "stream",
     "text": [
      "\r",
      "Epoch 465/600:  78%|███████▊  | 465/600 [33:51<10:02,  4.46s/it, v_num=bl_1, total_loss_train=870, kl_local_train=58.1, tardis_age_0_train=11.6, tardis_integration_donor_0_train=13.6]"
     ]
    },
    {
     "name": "stdout",
     "output_type": "stream",
     "text": [
      "\r",
      "Epoch 465/600:  78%|███████▊  | 465/600 [33:51<10:02,  4.46s/it, v_num=bl_1, total_loss_train=870, kl_local_train=58.3, tardis_age_0_train=11.6, tardis_integration_donor_0_train=13.4]"
     ]
    },
    {
     "name": "stdout",
     "output_type": "stream",
     "text": [
      "\r",
      "Epoch 466/600:  78%|███████▊  | 465/600 [33:51<10:02,  4.46s/it, v_num=bl_1, total_loss_train=870, kl_local_train=58.3, tardis_age_0_train=11.6, tardis_integration_donor_0_train=13.4]"
     ]
    },
    {
     "name": "stdout",
     "output_type": "stream",
     "text": [
      "\r",
      "Epoch 466/600:  78%|███████▊  | 466/600 [33:56<09:54,  4.44s/it, v_num=bl_1, total_loss_train=870, kl_local_train=58.3, tardis_age_0_train=11.6, tardis_integration_donor_0_train=13.4]"
     ]
    },
    {
     "name": "stdout",
     "output_type": "stream",
     "text": [
      "\r",
      "Epoch 466/600:  78%|███████▊  | 466/600 [33:56<09:54,  4.44s/it, v_num=bl_1, total_loss_train=870, kl_local_train=58.3, tardis_age_0_train=11.7, tardis_integration_donor_0_train=13.3]"
     ]
    },
    {
     "name": "stdout",
     "output_type": "stream",
     "text": [
      "\r",
      "Epoch 467/600:  78%|███████▊  | 466/600 [33:56<09:54,  4.44s/it, v_num=bl_1, total_loss_train=870, kl_local_train=58.3, tardis_age_0_train=11.7, tardis_integration_donor_0_train=13.3]"
     ]
    },
    {
     "name": "stdout",
     "output_type": "stream",
     "text": [
      "\r",
      "Epoch 467/600:  78%|███████▊  | 467/600 [34:00<09:57,  4.50s/it, v_num=bl_1, total_loss_train=870, kl_local_train=58.3, tardis_age_0_train=11.7, tardis_integration_donor_0_train=13.3]"
     ]
    },
    {
     "name": "stdout",
     "output_type": "stream",
     "text": [
      "\r",
      "Epoch 467/600:  78%|███████▊  | 467/600 [34:00<09:57,  4.50s/it, v_num=bl_1, total_loss_train=870, kl_local_train=57.9, tardis_age_0_train=11.8, tardis_integration_donor_0_train=13.6]"
     ]
    },
    {
     "name": "stdout",
     "output_type": "stream",
     "text": [
      "\r",
      "Epoch 468/600:  78%|███████▊  | 467/600 [34:00<09:57,  4.50s/it, v_num=bl_1, total_loss_train=870, kl_local_train=57.9, tardis_age_0_train=11.8, tardis_integration_donor_0_train=13.6]"
     ]
    },
    {
     "name": "stdout",
     "output_type": "stream",
     "text": [
      "\r",
      "Epoch 468/600:  78%|███████▊  | 468/600 [34:05<09:47,  4.45s/it, v_num=bl_1, total_loss_train=870, kl_local_train=57.9, tardis_age_0_train=11.8, tardis_integration_donor_0_train=13.6]"
     ]
    },
    {
     "name": "stdout",
     "output_type": "stream",
     "text": [
      "\r",
      "Epoch 468/600:  78%|███████▊  | 468/600 [34:05<09:47,  4.45s/it, v_num=bl_1, total_loss_train=870, kl_local_train=58.1, tardis_age_0_train=11.7, tardis_integration_donor_0_train=13.2]"
     ]
    },
    {
     "name": "stdout",
     "output_type": "stream",
     "text": [
      "\r",
      "Epoch 469/600:  78%|███████▊  | 468/600 [34:05<09:47,  4.45s/it, v_num=bl_1, total_loss_train=870, kl_local_train=58.1, tardis_age_0_train=11.7, tardis_integration_donor_0_train=13.2]"
     ]
    },
    {
     "name": "stdout",
     "output_type": "stream",
     "text": [
      "\r",
      "Epoch 469/600:  78%|███████▊  | 469/600 [34:09<09:40,  4.43s/it, v_num=bl_1, total_loss_train=870, kl_local_train=58.1, tardis_age_0_train=11.7, tardis_integration_donor_0_train=13.2]"
     ]
    },
    {
     "name": "stdout",
     "output_type": "stream",
     "text": [
      "\r",
      "Epoch 469/600:  78%|███████▊  | 469/600 [34:09<09:40,  4.43s/it, v_num=bl_1, total_loss_train=870, kl_local_train=58.2, tardis_age_0_train=11.7, tardis_integration_donor_0_train=13.4]"
     ]
    },
    {
     "name": "stdout",
     "output_type": "stream",
     "text": [
      "\r",
      "Epoch 470/600:  78%|███████▊  | 469/600 [34:09<09:40,  4.43s/it, v_num=bl_1, total_loss_train=870, kl_local_train=58.2, tardis_age_0_train=11.7, tardis_integration_donor_0_train=13.4]"
     ]
    },
    {
     "name": "stdout",
     "output_type": "stream",
     "text": [
      "\r",
      "Epoch 470/600:  78%|███████▊  | 470/600 [34:14<09:43,  4.49s/it, v_num=bl_1, total_loss_train=870, kl_local_train=58.2, tardis_age_0_train=11.7, tardis_integration_donor_0_train=13.4]"
     ]
    },
    {
     "name": "stdout",
     "output_type": "stream",
     "text": [
      "\r",
      "Epoch 470/600:  78%|███████▊  | 470/600 [34:14<09:43,  4.49s/it, v_num=bl_1, total_loss_train=869, kl_local_train=57.8, tardis_age_0_train=11.7, tardis_integration_donor_0_train=13.5]"
     ]
    },
    {
     "name": "stdout",
     "output_type": "stream",
     "text": [
      "\r",
      "Epoch 471/600:  78%|███████▊  | 470/600 [34:14<09:43,  4.49s/it, v_num=bl_1, total_loss_train=869, kl_local_train=57.8, tardis_age_0_train=11.7, tardis_integration_donor_0_train=13.5]"
     ]
    },
    {
     "name": "stdout",
     "output_type": "stream",
     "text": [
      "\r",
      "Epoch 471/600:  78%|███████▊  | 471/600 [34:18<09:34,  4.45s/it, v_num=bl_1, total_loss_train=869, kl_local_train=57.8, tardis_age_0_train=11.7, tardis_integration_donor_0_train=13.5]"
     ]
    },
    {
     "name": "stdout",
     "output_type": "stream",
     "text": [
      "\r",
      "Epoch 471/600:  78%|███████▊  | 471/600 [34:18<09:34,  4.45s/it, v_num=bl_1, total_loss_train=870, kl_local_train=57.4, tardis_age_0_train=11.8, tardis_integration_donor_0_train=13.5]"
     ]
    },
    {
     "name": "stdout",
     "output_type": "stream",
     "text": [
      "\r",
      "Epoch 472/600:  78%|███████▊  | 471/600 [34:18<09:34,  4.45s/it, v_num=bl_1, total_loss_train=870, kl_local_train=57.4, tardis_age_0_train=11.8, tardis_integration_donor_0_train=13.5]"
     ]
    },
    {
     "name": "stdout",
     "output_type": "stream",
     "text": [
      "\r",
      "Epoch 472/600:  79%|███████▊  | 472/600 [34:23<09:27,  4.43s/it, v_num=bl_1, total_loss_train=870, kl_local_train=57.4, tardis_age_0_train=11.8, tardis_integration_donor_0_train=13.5]"
     ]
    },
    {
     "name": "stdout",
     "output_type": "stream",
     "text": [
      "\r",
      "Epoch 472/600:  79%|███████▊  | 472/600 [34:23<09:27,  4.43s/it, v_num=bl_1, total_loss_train=869, kl_local_train=57.6, tardis_age_0_train=11.8, tardis_integration_donor_0_train=13.4]"
     ]
    },
    {
     "name": "stdout",
     "output_type": "stream",
     "text": [
      "\r",
      "Epoch 473/600:  79%|███████▊  | 472/600 [34:23<09:27,  4.43s/it, v_num=bl_1, total_loss_train=869, kl_local_train=57.6, tardis_age_0_train=11.8, tardis_integration_donor_0_train=13.4]"
     ]
    },
    {
     "name": "stdout",
     "output_type": "stream",
     "text": [
      "\r",
      "Epoch 473/600:  79%|███████▉  | 473/600 [34:27<09:30,  4.49s/it, v_num=bl_1, total_loss_train=869, kl_local_train=57.6, tardis_age_0_train=11.8, tardis_integration_donor_0_train=13.4]"
     ]
    },
    {
     "name": "stdout",
     "output_type": "stream",
     "text": [
      "\r",
      "Epoch 473/600:  79%|███████▉  | 473/600 [34:27<09:30,  4.49s/it, v_num=bl_1, total_loss_train=869, kl_local_train=57.2, tardis_age_0_train=11.7, tardis_integration_donor_0_train=13.4]"
     ]
    },
    {
     "name": "stdout",
     "output_type": "stream",
     "text": [
      "\r",
      "Epoch 474/600:  79%|███████▉  | 473/600 [34:27<09:30,  4.49s/it, v_num=bl_1, total_loss_train=869, kl_local_train=57.2, tardis_age_0_train=11.7, tardis_integration_donor_0_train=13.4]"
     ]
    },
    {
     "name": "stdout",
     "output_type": "stream",
     "text": [
      "\r",
      "Epoch 474/600:  79%|███████▉  | 474/600 [34:32<09:21,  4.46s/it, v_num=bl_1, total_loss_train=869, kl_local_train=57.2, tardis_age_0_train=11.7, tardis_integration_donor_0_train=13.4]"
     ]
    },
    {
     "name": "stdout",
     "output_type": "stream",
     "text": [
      "\r",
      "Epoch 474/600:  79%|███████▉  | 474/600 [34:32<09:21,  4.46s/it, v_num=bl_1, total_loss_train=869, kl_local_train=57.4, tardis_age_0_train=11.8, tardis_integration_donor_0_train=13.5]"
     ]
    },
    {
     "name": "stdout",
     "output_type": "stream",
     "text": [
      "\r",
      "Epoch 475/600:  79%|███████▉  | 474/600 [34:32<09:21,  4.46s/it, v_num=bl_1, total_loss_train=869, kl_local_train=57.4, tardis_age_0_train=11.8, tardis_integration_donor_0_train=13.5]"
     ]
    },
    {
     "name": "stdout",
     "output_type": "stream",
     "text": [
      "\r",
      "Epoch 475/600:  79%|███████▉  | 475/600 [34:36<09:14,  4.43s/it, v_num=bl_1, total_loss_train=869, kl_local_train=57.4, tardis_age_0_train=11.8, tardis_integration_donor_0_train=13.5]"
     ]
    },
    {
     "name": "stdout",
     "output_type": "stream",
     "text": [
      "\r",
      "Epoch 475/600:  79%|███████▉  | 475/600 [34:36<09:14,  4.43s/it, v_num=bl_1, total_loss_train=869, kl_local_train=57.8, tardis_age_0_train=11.7, tardis_integration_donor_0_train=13.5]"
     ]
    },
    {
     "name": "stdout",
     "output_type": "stream",
     "text": [
      "\r",
      "Epoch 476/600:  79%|███████▉  | 475/600 [34:36<09:14,  4.43s/it, v_num=bl_1, total_loss_train=869, kl_local_train=57.8, tardis_age_0_train=11.7, tardis_integration_donor_0_train=13.5]"
     ]
    },
    {
     "name": "stdout",
     "output_type": "stream",
     "text": [
      "\r",
      "Epoch 476/600:  79%|███████▉  | 476/600 [34:41<09:18,  4.51s/it, v_num=bl_1, total_loss_train=869, kl_local_train=57.8, tardis_age_0_train=11.7, tardis_integration_donor_0_train=13.5]"
     ]
    },
    {
     "name": "stdout",
     "output_type": "stream",
     "text": [
      "\r",
      "Epoch 476/600:  79%|███████▉  | 476/600 [34:41<09:18,  4.51s/it, v_num=bl_1, total_loss_train=869, kl_local_train=57.5, tardis_age_0_train=11.9, tardis_integration_donor_0_train=13.6]"
     ]
    },
    {
     "name": "stdout",
     "output_type": "stream",
     "text": [
      "\r",
      "Epoch 477/600:  79%|███████▉  | 476/600 [34:41<09:18,  4.51s/it, v_num=bl_1, total_loss_train=869, kl_local_train=57.5, tardis_age_0_train=11.9, tardis_integration_donor_0_train=13.6]"
     ]
    },
    {
     "name": "stdout",
     "output_type": "stream",
     "text": [
      "\r",
      "Epoch 477/600:  80%|███████▉  | 477/600 [34:45<09:10,  4.48s/it, v_num=bl_1, total_loss_train=869, kl_local_train=57.5, tardis_age_0_train=11.9, tardis_integration_donor_0_train=13.6]"
     ]
    },
    {
     "name": "stdout",
     "output_type": "stream",
     "text": [
      "\r",
      "Epoch 477/600:  80%|███████▉  | 477/600 [34:45<09:10,  4.48s/it, v_num=bl_1, total_loss_train=869, kl_local_train=57.5, tardis_age_0_train=11.8, tardis_integration_donor_0_train=13.4]"
     ]
    },
    {
     "name": "stdout",
     "output_type": "stream",
     "text": [
      "\r",
      "Epoch 478/600:  80%|███████▉  | 477/600 [34:45<09:10,  4.48s/it, v_num=bl_1, total_loss_train=869, kl_local_train=57.5, tardis_age_0_train=11.8, tardis_integration_donor_0_train=13.4]"
     ]
    },
    {
     "name": "stdout",
     "output_type": "stream",
     "text": [
      "\r",
      "Epoch 478/600:  80%|███████▉  | 478/600 [34:49<09:02,  4.45s/it, v_num=bl_1, total_loss_train=869, kl_local_train=57.5, tardis_age_0_train=11.8, tardis_integration_donor_0_train=13.4]"
     ]
    },
    {
     "name": "stdout",
     "output_type": "stream",
     "text": [
      "\r",
      "Epoch 478/600:  80%|███████▉  | 478/600 [34:49<09:02,  4.45s/it, v_num=bl_1, total_loss_train=869, kl_local_train=57.4, tardis_age_0_train=11.8, tardis_integration_donor_0_train=13.5]"
     ]
    },
    {
     "name": "stdout",
     "output_type": "stream",
     "text": [
      "\r",
      "Epoch 479/600:  80%|███████▉  | 478/600 [34:49<09:02,  4.45s/it, v_num=bl_1, total_loss_train=869, kl_local_train=57.4, tardis_age_0_train=11.8, tardis_integration_donor_0_train=13.5]"
     ]
    },
    {
     "name": "stdout",
     "output_type": "stream",
     "text": [
      "\r",
      "Epoch 479/600:  80%|███████▉  | 479/600 [34:54<09:07,  4.52s/it, v_num=bl_1, total_loss_train=869, kl_local_train=57.4, tardis_age_0_train=11.8, tardis_integration_donor_0_train=13.5]"
     ]
    },
    {
     "name": "stdout",
     "output_type": "stream",
     "text": [
      "\r",
      "Epoch 479/600:  80%|███████▉  | 479/600 [34:54<09:07,  4.52s/it, v_num=bl_1, total_loss_train=869, kl_local_train=57.5, tardis_age_0_train=11.8, tardis_integration_donor_0_train=13.5]"
     ]
    },
    {
     "name": "stdout",
     "output_type": "stream",
     "text": [
      "\r",
      "Epoch 480/600:  80%|███████▉  | 479/600 [34:54<09:07,  4.52s/it, v_num=bl_1, total_loss_train=869, kl_local_train=57.5, tardis_age_0_train=11.8, tardis_integration_donor_0_train=13.5]"
     ]
    },
    {
     "name": "stdout",
     "output_type": "stream",
     "text": [
      "\r",
      "Epoch 480/600:  80%|████████  | 480/600 [34:58<08:57,  4.48s/it, v_num=bl_1, total_loss_train=869, kl_local_train=57.5, tardis_age_0_train=11.8, tardis_integration_donor_0_train=13.5]"
     ]
    },
    {
     "name": "stdout",
     "output_type": "stream",
     "text": [
      "\r",
      "Epoch 480/600:  80%|████████  | 480/600 [34:58<08:57,  4.48s/it, v_num=bl_1, total_loss_train=869, kl_local_train=57.4, tardis_age_0_train=12, tardis_integration_donor_0_train=13.7]  "
     ]
    },
    {
     "name": "stdout",
     "output_type": "stream",
     "text": [
      "\r",
      "Epoch 481/600:  80%|████████  | 480/600 [34:58<08:57,  4.48s/it, v_num=bl_1, total_loss_train=869, kl_local_train=57.4, tardis_age_0_train=12, tardis_integration_donor_0_train=13.7]"
     ]
    },
    {
     "name": "stdout",
     "output_type": "stream",
     "text": [
      "\r",
      "Epoch 481/600:  80%|████████  | 481/600 [35:03<08:52,  4.48s/it, v_num=bl_1, total_loss_train=869, kl_local_train=57.4, tardis_age_0_train=12, tardis_integration_donor_0_train=13.7]"
     ]
    },
    {
     "name": "stdout",
     "output_type": "stream",
     "text": [
      "\r",
      "Epoch 481/600:  80%|████████  | 481/600 [35:03<08:52,  4.48s/it, v_num=bl_1, total_loss_train=869, kl_local_train=57.5, tardis_age_0_train=12, tardis_integration_donor_0_train=13.7]"
     ]
    },
    {
     "name": "stdout",
     "output_type": "stream",
     "text": [
      "\r",
      "Epoch 482/600:  80%|████████  | 481/600 [35:03<08:52,  4.48s/it, v_num=bl_1, total_loss_train=869, kl_local_train=57.5, tardis_age_0_train=12, tardis_integration_donor_0_train=13.7]"
     ]
    },
    {
     "name": "stdout",
     "output_type": "stream",
     "text": [
      "\r",
      "Epoch 482/600:  80%|████████  | 482/600 [35:07<08:49,  4.48s/it, v_num=bl_1, total_loss_train=869, kl_local_train=57.5, tardis_age_0_train=12, tardis_integration_donor_0_train=13.7]"
     ]
    },
    {
     "name": "stdout",
     "output_type": "stream",
     "text": [
      "\r",
      "Epoch 482/600:  80%|████████  | 482/600 [35:07<08:49,  4.48s/it, v_num=bl_1, total_loss_train=868, kl_local_train=57.5, tardis_age_0_train=11.7, tardis_integration_donor_0_train=13.6]"
     ]
    },
    {
     "name": "stdout",
     "output_type": "stream",
     "text": [
      "\r",
      "Epoch 483/600:  80%|████████  | 482/600 [35:07<08:49,  4.48s/it, v_num=bl_1, total_loss_train=868, kl_local_train=57.5, tardis_age_0_train=11.7, tardis_integration_donor_0_train=13.6]"
     ]
    },
    {
     "name": "stdout",
     "output_type": "stream",
     "text": [
      "\r",
      "Epoch 483/600:  80%|████████  | 483/600 [35:12<08:40,  4.45s/it, v_num=bl_1, total_loss_train=868, kl_local_train=57.5, tardis_age_0_train=11.7, tardis_integration_donor_0_train=13.6]"
     ]
    },
    {
     "name": "stdout",
     "output_type": "stream",
     "text": [
      "\r",
      "Epoch 483/600:  80%|████████  | 483/600 [35:12<08:40,  4.45s/it, v_num=bl_1, total_loss_train=868, kl_local_train=57.1, tardis_age_0_train=11.8, tardis_integration_donor_0_train=13.6]"
     ]
    },
    {
     "name": "stdout",
     "output_type": "stream",
     "text": [
      "\r",
      "Epoch 484/600:  80%|████████  | 483/600 [35:12<08:40,  4.45s/it, v_num=bl_1, total_loss_train=868, kl_local_train=57.1, tardis_age_0_train=11.8, tardis_integration_donor_0_train=13.6]"
     ]
    },
    {
     "name": "stdout",
     "output_type": "stream",
     "text": [
      "\r",
      "Epoch 484/600:  81%|████████  | 484/600 [35:16<08:34,  4.43s/it, v_num=bl_1, total_loss_train=868, kl_local_train=57.1, tardis_age_0_train=11.8, tardis_integration_donor_0_train=13.6]"
     ]
    },
    {
     "name": "stdout",
     "output_type": "stream",
     "text": [
      "\r",
      "Epoch 484/600:  81%|████████  | 484/600 [35:16<08:34,  4.43s/it, v_num=bl_1, total_loss_train=868, kl_local_train=56.9, tardis_age_0_train=12, tardis_integration_donor_0_train=13.6]  "
     ]
    },
    {
     "name": "stdout",
     "output_type": "stream",
     "text": [
      "\r",
      "Epoch 485/600:  81%|████████  | 484/600 [35:16<08:34,  4.43s/it, v_num=bl_1, total_loss_train=868, kl_local_train=56.9, tardis_age_0_train=12, tardis_integration_donor_0_train=13.6]"
     ]
    },
    {
     "name": "stdout",
     "output_type": "stream",
     "text": [
      "\r",
      "Epoch 485/600:  81%|████████  | 485/600 [35:21<08:35,  4.49s/it, v_num=bl_1, total_loss_train=868, kl_local_train=56.9, tardis_age_0_train=12, tardis_integration_donor_0_train=13.6]"
     ]
    },
    {
     "name": "stdout",
     "output_type": "stream",
     "text": [
      "\r",
      "Epoch 485/600:  81%|████████  | 485/600 [35:21<08:35,  4.49s/it, v_num=bl_1, total_loss_train=868, kl_local_train=56.9, tardis_age_0_train=11.9, tardis_integration_donor_0_train=13.7]"
     ]
    },
    {
     "name": "stdout",
     "output_type": "stream",
     "text": [
      "\r",
      "Epoch 486/600:  81%|████████  | 485/600 [35:21<08:35,  4.49s/it, v_num=bl_1, total_loss_train=868, kl_local_train=56.9, tardis_age_0_train=11.9, tardis_integration_donor_0_train=13.7]"
     ]
    },
    {
     "name": "stdout",
     "output_type": "stream",
     "text": [
      "\r",
      "Epoch 486/600:  81%|████████  | 486/600 [35:25<08:26,  4.44s/it, v_num=bl_1, total_loss_train=868, kl_local_train=56.9, tardis_age_0_train=11.9, tardis_integration_donor_0_train=13.7]"
     ]
    },
    {
     "name": "stdout",
     "output_type": "stream",
     "text": [
      "\r",
      "Epoch 486/600:  81%|████████  | 486/600 [35:25<08:26,  4.44s/it, v_num=bl_1, total_loss_train=868, kl_local_train=57.3, tardis_age_0_train=11.8, tardis_integration_donor_0_train=13.6]"
     ]
    },
    {
     "name": "stdout",
     "output_type": "stream",
     "text": [
      "\r",
      "Epoch 487/600:  81%|████████  | 486/600 [35:25<08:26,  4.44s/it, v_num=bl_1, total_loss_train=868, kl_local_train=57.3, tardis_age_0_train=11.8, tardis_integration_donor_0_train=13.6]"
     ]
    },
    {
     "name": "stdout",
     "output_type": "stream",
     "text": [
      "\r",
      "Epoch 487/600:  81%|████████  | 487/600 [35:30<08:20,  4.43s/it, v_num=bl_1, total_loss_train=868, kl_local_train=57.3, tardis_age_0_train=11.8, tardis_integration_donor_0_train=13.6]"
     ]
    },
    {
     "name": "stdout",
     "output_type": "stream",
     "text": [
      "\r",
      "Epoch 487/600:  81%|████████  | 487/600 [35:30<08:20,  4.43s/it, v_num=bl_1, total_loss_train=868, kl_local_train=57, tardis_age_0_train=11.9, tardis_integration_donor_0_train=13.8]  "
     ]
    },
    {
     "name": "stdout",
     "output_type": "stream",
     "text": [
      "\r",
      "Epoch 488/600:  81%|████████  | 487/600 [35:30<08:20,  4.43s/it, v_num=bl_1, total_loss_train=868, kl_local_train=57, tardis_age_0_train=11.9, tardis_integration_donor_0_train=13.8]"
     ]
    },
    {
     "name": "stdout",
     "output_type": "stream",
     "text": [
      "\r",
      "Epoch 488/600:  81%|████████▏ | 488/600 [35:34<08:19,  4.46s/it, v_num=bl_1, total_loss_train=868, kl_local_train=57, tardis_age_0_train=11.9, tardis_integration_donor_0_train=13.8]"
     ]
    },
    {
     "name": "stdout",
     "output_type": "stream",
     "text": [
      "\r",
      "Epoch 488/600:  81%|████████▏ | 488/600 [35:34<08:19,  4.46s/it, v_num=bl_1, total_loss_train=867, kl_local_train=56.7, tardis_age_0_train=11.9, tardis_integration_donor_0_train=13.6]"
     ]
    },
    {
     "name": "stdout",
     "output_type": "stream",
     "text": [
      "\r",
      "Epoch 489/600:  81%|████████▏ | 488/600 [35:34<08:19,  4.46s/it, v_num=bl_1, total_loss_train=867, kl_local_train=56.7, tardis_age_0_train=11.9, tardis_integration_donor_0_train=13.6]"
     ]
    },
    {
     "name": "stdout",
     "output_type": "stream",
     "text": [
      "\r",
      "Epoch 489/600:  82%|████████▏ | 489/600 [35:38<08:12,  4.44s/it, v_num=bl_1, total_loss_train=867, kl_local_train=56.7, tardis_age_0_train=11.9, tardis_integration_donor_0_train=13.6]"
     ]
    },
    {
     "name": "stdout",
     "output_type": "stream",
     "text": [
      "\r",
      "Epoch 489/600:  82%|████████▏ | 489/600 [35:39<08:12,  4.44s/it, v_num=bl_1, total_loss_train=867, kl_local_train=56.7, tardis_age_0_train=11.9, tardis_integration_donor_0_train=13.8]"
     ]
    },
    {
     "name": "stdout",
     "output_type": "stream",
     "text": [
      "\r",
      "Epoch 490/600:  82%|████████▏ | 489/600 [35:39<08:12,  4.44s/it, v_num=bl_1, total_loss_train=867, kl_local_train=56.7, tardis_age_0_train=11.9, tardis_integration_donor_0_train=13.8]"
     ]
    },
    {
     "name": "stdout",
     "output_type": "stream",
     "text": [
      "\r",
      "Epoch 490/600:  82%|████████▏ | 490/600 [35:43<08:07,  4.43s/it, v_num=bl_1, total_loss_train=867, kl_local_train=56.7, tardis_age_0_train=11.9, tardis_integration_donor_0_train=13.8]"
     ]
    },
    {
     "name": "stdout",
     "output_type": "stream",
     "text": [
      "\r",
      "Epoch 490/600:  82%|████████▏ | 490/600 [35:43<08:07,  4.43s/it, v_num=bl_1, total_loss_train=867, kl_local_train=56.8, tardis_age_0_train=11.9, tardis_integration_donor_0_train=13.6]"
     ]
    },
    {
     "name": "stdout",
     "output_type": "stream",
     "text": [
      "\r",
      "Epoch 491/600:  82%|████████▏ | 490/600 [35:43<08:07,  4.43s/it, v_num=bl_1, total_loss_train=867, kl_local_train=56.8, tardis_age_0_train=11.9, tardis_integration_donor_0_train=13.6]"
     ]
    },
    {
     "name": "stdout",
     "output_type": "stream",
     "text": [
      "\r",
      "Epoch 491/600:  82%|████████▏ | 491/600 [35:48<08:08,  4.48s/it, v_num=bl_1, total_loss_train=867, kl_local_train=56.8, tardis_age_0_train=11.9, tardis_integration_donor_0_train=13.6]"
     ]
    },
    {
     "name": "stdout",
     "output_type": "stream",
     "text": [
      "\r",
      "Epoch 491/600:  82%|████████▏ | 491/600 [35:48<08:08,  4.48s/it, v_num=bl_1, total_loss_train=867, kl_local_train=56.7, tardis_age_0_train=11.9, tardis_integration_donor_0_train=13.7]"
     ]
    },
    {
     "name": "stdout",
     "output_type": "stream",
     "text": [
      "\r",
      "Epoch 492/600:  82%|████████▏ | 491/600 [35:48<08:08,  4.48s/it, v_num=bl_1, total_loss_train=867, kl_local_train=56.7, tardis_age_0_train=11.9, tardis_integration_donor_0_train=13.7]"
     ]
    },
    {
     "name": "stdout",
     "output_type": "stream",
     "text": [
      "\r",
      "Epoch 492/600:  82%|████████▏ | 492/600 [35:52<08:00,  4.45s/it, v_num=bl_1, total_loss_train=867, kl_local_train=56.7, tardis_age_0_train=11.9, tardis_integration_donor_0_train=13.7]"
     ]
    },
    {
     "name": "stdout",
     "output_type": "stream",
     "text": [
      "\r",
      "Epoch 492/600:  82%|████████▏ | 492/600 [35:52<08:00,  4.45s/it, v_num=bl_1, total_loss_train=867, kl_local_train=56.7, tardis_age_0_train=11.9, tardis_integration_donor_0_train=13.8]"
     ]
    },
    {
     "name": "stdout",
     "output_type": "stream",
     "text": [
      "\r",
      "Epoch 493/600:  82%|████████▏ | 492/600 [35:52<08:00,  4.45s/it, v_num=bl_1, total_loss_train=867, kl_local_train=56.7, tardis_age_0_train=11.9, tardis_integration_donor_0_train=13.8]"
     ]
    },
    {
     "name": "stdout",
     "output_type": "stream",
     "text": [
      "\r",
      "Epoch 493/600:  82%|████████▏ | 493/600 [35:56<07:53,  4.43s/it, v_num=bl_1, total_loss_train=867, kl_local_train=56.7, tardis_age_0_train=11.9, tardis_integration_donor_0_train=13.8]"
     ]
    },
    {
     "name": "stdout",
     "output_type": "stream",
     "text": [
      "\r",
      "Epoch 493/600:  82%|████████▏ | 493/600 [35:56<07:53,  4.43s/it, v_num=bl_1, total_loss_train=867, kl_local_train=56.9, tardis_age_0_train=11.9, tardis_integration_donor_0_train=13.7]"
     ]
    },
    {
     "name": "stdout",
     "output_type": "stream",
     "text": [
      "\r",
      "Epoch 494/600:  82%|████████▏ | 493/600 [35:56<07:53,  4.43s/it, v_num=bl_1, total_loss_train=867, kl_local_train=56.9, tardis_age_0_train=11.9, tardis_integration_donor_0_train=13.7]"
     ]
    },
    {
     "name": "stdout",
     "output_type": "stream",
     "text": [
      "\r",
      "Epoch 494/600:  82%|████████▏ | 494/600 [36:01<07:55,  4.49s/it, v_num=bl_1, total_loss_train=867, kl_local_train=56.9, tardis_age_0_train=11.9, tardis_integration_donor_0_train=13.7]"
     ]
    },
    {
     "name": "stdout",
     "output_type": "stream",
     "text": [
      "\r",
      "Epoch 494/600:  82%|████████▏ | 494/600 [36:01<07:55,  4.49s/it, v_num=bl_1, total_loss_train=866, kl_local_train=56.7, tardis_age_0_train=11.9, tardis_integration_donor_0_train=13.7]"
     ]
    },
    {
     "name": "stdout",
     "output_type": "stream",
     "text": [
      "\r",
      "Epoch 495/600:  82%|████████▏ | 494/600 [36:01<07:55,  4.49s/it, v_num=bl_1, total_loss_train=866, kl_local_train=56.7, tardis_age_0_train=11.9, tardis_integration_donor_0_train=13.7]"
     ]
    },
    {
     "name": "stdout",
     "output_type": "stream",
     "text": [
      "\r",
      "Epoch 495/600:  82%|████████▎ | 495/600 [36:05<07:48,  4.46s/it, v_num=bl_1, total_loss_train=866, kl_local_train=56.7, tardis_age_0_train=11.9, tardis_integration_donor_0_train=13.7]"
     ]
    },
    {
     "name": "stdout",
     "output_type": "stream",
     "text": [
      "\r",
      "Epoch 495/600:  82%|████████▎ | 495/600 [36:05<07:48,  4.46s/it, v_num=bl_1, total_loss_train=866, kl_local_train=56.5, tardis_age_0_train=11.9, tardis_integration_donor_0_train=13.7]"
     ]
    },
    {
     "name": "stdout",
     "output_type": "stream",
     "text": [
      "\r",
      "Epoch 496/600:  82%|████████▎ | 495/600 [36:05<07:48,  4.46s/it, v_num=bl_1, total_loss_train=866, kl_local_train=56.5, tardis_age_0_train=11.9, tardis_integration_donor_0_train=13.7]"
     ]
    },
    {
     "name": "stdout",
     "output_type": "stream",
     "text": [
      "\r",
      "Epoch 496/600:  83%|████████▎ | 496/600 [36:10<07:40,  4.43s/it, v_num=bl_1, total_loss_train=866, kl_local_train=56.5, tardis_age_0_train=11.9, tardis_integration_donor_0_train=13.7]"
     ]
    },
    {
     "name": "stdout",
     "output_type": "stream",
     "text": [
      "\r",
      "Epoch 496/600:  83%|████████▎ | 496/600 [36:10<07:40,  4.43s/it, v_num=bl_1, total_loss_train=867, kl_local_train=56.4, tardis_age_0_train=11.9, tardis_integration_donor_0_train=13.9]"
     ]
    },
    {
     "name": "stdout",
     "output_type": "stream",
     "text": [
      "\r",
      "Epoch 497/600:  83%|████████▎ | 496/600 [36:10<07:40,  4.43s/it, v_num=bl_1, total_loss_train=867, kl_local_train=56.4, tardis_age_0_train=11.9, tardis_integration_donor_0_train=13.9]"
     ]
    },
    {
     "name": "stdout",
     "output_type": "stream",
     "text": [
      "\r",
      "Epoch 497/600:  83%|████████▎ | 497/600 [36:14<07:35,  4.43s/it, v_num=bl_1, total_loss_train=867, kl_local_train=56.4, tardis_age_0_train=11.9, tardis_integration_donor_0_train=13.9]"
     ]
    },
    {
     "name": "stdout",
     "output_type": "stream",
     "text": [
      "\r",
      "Epoch 497/600:  83%|████████▎ | 497/600 [36:14<07:35,  4.43s/it, v_num=bl_1, total_loss_train=867, kl_local_train=56, tardis_age_0_train=12.1, tardis_integration_donor_0_train=14]    "
     ]
    },
    {
     "name": "stdout",
     "output_type": "stream",
     "text": [
      "\r",
      "Epoch 498/600:  83%|████████▎ | 497/600 [36:14<07:35,  4.43s/it, v_num=bl_1, total_loss_train=867, kl_local_train=56, tardis_age_0_train=12.1, tardis_integration_donor_0_train=14]"
     ]
    },
    {
     "name": "stdout",
     "output_type": "stream",
     "text": [
      "\r",
      "Epoch 498/600:  83%|████████▎ | 498/600 [36:19<07:33,  4.45s/it, v_num=bl_1, total_loss_train=867, kl_local_train=56, tardis_age_0_train=12.1, tardis_integration_donor_0_train=14]"
     ]
    },
    {
     "name": "stdout",
     "output_type": "stream",
     "text": [
      "\r",
      "Epoch 498/600:  83%|████████▎ | 498/600 [36:19<07:33,  4.45s/it, v_num=bl_1, total_loss_train=866, kl_local_train=56.5, tardis_age_0_train=12, tardis_integration_donor_0_train=13.9]"
     ]
    },
    {
     "name": "stdout",
     "output_type": "stream",
     "text": [
      "\r",
      "Epoch 499/600:  83%|████████▎ | 498/600 [36:19<07:33,  4.45s/it, v_num=bl_1, total_loss_train=866, kl_local_train=56.5, tardis_age_0_train=12, tardis_integration_donor_0_train=13.9]"
     ]
    },
    {
     "name": "stdout",
     "output_type": "stream",
     "text": [
      "\r",
      "Epoch 499/600:  83%|████████▎ | 499/600 [36:23<07:28,  4.44s/it, v_num=bl_1, total_loss_train=866, kl_local_train=56.5, tardis_age_0_train=12, tardis_integration_donor_0_train=13.9]"
     ]
    },
    {
     "name": "stdout",
     "output_type": "stream",
     "text": [
      "\r",
      "Epoch 499/600:  83%|████████▎ | 499/600 [36:23<07:28,  4.44s/it, v_num=bl_1, total_loss_train=866, kl_local_train=56.4, tardis_age_0_train=12.1, tardis_integration_donor_0_train=13.6]"
     ]
    },
    {
     "name": "stdout",
     "output_type": "stream",
     "text": [
      "\r",
      "Epoch 500/600:  83%|████████▎ | 499/600 [36:23<07:28,  4.44s/it, v_num=bl_1, total_loss_train=866, kl_local_train=56.4, tardis_age_0_train=12.1, tardis_integration_donor_0_train=13.6]"
     ]
    },
    {
     "name": "stdout",
     "output_type": "stream",
     "text": [
      "\r",
      "Epoch 500/600:  83%|████████▎ | 500/600 [36:28<07:27,  4.47s/it, v_num=bl_1, total_loss_train=866, kl_local_train=56.4, tardis_age_0_train=12.1, tardis_integration_donor_0_train=13.6]"
     ]
    },
    {
     "name": "stdout",
     "output_type": "stream",
     "text": [
      "\r",
      "Epoch 500/600:  83%|████████▎ | 500/600 [36:28<07:27,  4.47s/it, v_num=bl_1, total_loss_train=866, kl_local_train=56.6, tardis_age_0_train=12, tardis_integration_donor_0_train=13.6]  "
     ]
    },
    {
     "name": "stdout",
     "output_type": "stream",
     "text": [
      "\r",
      "Epoch 501/600:  83%|████████▎ | 500/600 [36:28<07:27,  4.47s/it, v_num=bl_1, total_loss_train=866, kl_local_train=56.6, tardis_age_0_train=12, tardis_integration_donor_0_train=13.6]"
     ]
    },
    {
     "name": "stdout",
     "output_type": "stream",
     "text": [
      "\r",
      "Epoch 501/600:  84%|████████▎ | 501/600 [36:32<07:19,  4.44s/it, v_num=bl_1, total_loss_train=866, kl_local_train=56.6, tardis_age_0_train=12, tardis_integration_donor_0_train=13.6]"
     ]
    },
    {
     "name": "stdout",
     "output_type": "stream",
     "text": [
      "\r",
      "Epoch 501/600:  84%|████████▎ | 501/600 [36:32<07:19,  4.44s/it, v_num=bl_1, total_loss_train=866, kl_local_train=56.4, tardis_age_0_train=12.1, tardis_integration_donor_0_train=13.8]"
     ]
    },
    {
     "name": "stdout",
     "output_type": "stream",
     "text": [
      "\r",
      "Epoch 502/600:  84%|████████▎ | 501/600 [36:32<07:19,  4.44s/it, v_num=bl_1, total_loss_train=866, kl_local_train=56.4, tardis_age_0_train=12.1, tardis_integration_donor_0_train=13.8]"
     ]
    },
    {
     "name": "stdout",
     "output_type": "stream",
     "text": [
      "\r",
      "Epoch 502/600:  84%|████████▎ | 502/600 [36:36<07:14,  4.43s/it, v_num=bl_1, total_loss_train=866, kl_local_train=56.4, tardis_age_0_train=12.1, tardis_integration_donor_0_train=13.8]"
     ]
    },
    {
     "name": "stdout",
     "output_type": "stream",
     "text": [
      "\r",
      "Epoch 502/600:  84%|████████▎ | 502/600 [36:36<07:14,  4.43s/it, v_num=bl_1, total_loss_train=866, kl_local_train=56.3, tardis_age_0_train=12, tardis_integration_donor_0_train=13.9]  "
     ]
    },
    {
     "name": "stdout",
     "output_type": "stream",
     "text": [
      "\r",
      "Epoch 503/600:  84%|████████▎ | 502/600 [36:36<07:14,  4.43s/it, v_num=bl_1, total_loss_train=866, kl_local_train=56.3, tardis_age_0_train=12, tardis_integration_donor_0_train=13.9]"
     ]
    },
    {
     "name": "stdout",
     "output_type": "stream",
     "text": [
      "\r",
      "Epoch 503/600:  84%|████████▍ | 503/600 [36:41<07:15,  4.49s/it, v_num=bl_1, total_loss_train=866, kl_local_train=56.3, tardis_age_0_train=12, tardis_integration_donor_0_train=13.9]"
     ]
    },
    {
     "name": "stdout",
     "output_type": "stream",
     "text": [
      "\r",
      "Epoch 503/600:  84%|████████▍ | 503/600 [36:41<07:15,  4.49s/it, v_num=bl_1, total_loss_train=866, kl_local_train=56.4, tardis_age_0_train=12, tardis_integration_donor_0_train=13.7]"
     ]
    },
    {
     "name": "stdout",
     "output_type": "stream",
     "text": [
      "\r",
      "Epoch 504/600:  84%|████████▍ | 503/600 [36:41<07:15,  4.49s/it, v_num=bl_1, total_loss_train=866, kl_local_train=56.4, tardis_age_0_train=12, tardis_integration_donor_0_train=13.7]"
     ]
    },
    {
     "name": "stdout",
     "output_type": "stream",
     "text": [
      "\r",
      "Epoch 504/600:  84%|████████▍ | 504/600 [36:45<07:06,  4.44s/it, v_num=bl_1, total_loss_train=866, kl_local_train=56.4, tardis_age_0_train=12, tardis_integration_donor_0_train=13.7]"
     ]
    },
    {
     "name": "stdout",
     "output_type": "stream",
     "text": [
      "\r",
      "Epoch 504/600:  84%|████████▍ | 504/600 [36:45<07:06,  4.44s/it, v_num=bl_1, total_loss_train=865, kl_local_train=56.4, tardis_age_0_train=11.9, tardis_integration_donor_0_train=13.8]"
     ]
    },
    {
     "name": "stdout",
     "output_type": "stream",
     "text": [
      "\r",
      "Epoch 505/600:  84%|████████▍ | 504/600 [36:45<07:06,  4.44s/it, v_num=bl_1, total_loss_train=865, kl_local_train=56.4, tardis_age_0_train=11.9, tardis_integration_donor_0_train=13.8]"
     ]
    },
    {
     "name": "stdout",
     "output_type": "stream",
     "text": [
      "\r",
      "Epoch 505/600:  84%|████████▍ | 505/600 [36:50<07:00,  4.43s/it, v_num=bl_1, total_loss_train=865, kl_local_train=56.4, tardis_age_0_train=11.9, tardis_integration_donor_0_train=13.8]"
     ]
    },
    {
     "name": "stdout",
     "output_type": "stream",
     "text": [
      "\r",
      "Epoch 505/600:  84%|████████▍ | 505/600 [36:50<07:00,  4.43s/it, v_num=bl_1, total_loss_train=866, kl_local_train=55.9, tardis_age_0_train=12.2, tardis_integration_donor_0_train=14]  "
     ]
    },
    {
     "name": "stdout",
     "output_type": "stream",
     "text": [
      "\r",
      "Epoch 506/600:  84%|████████▍ | 505/600 [36:50<07:00,  4.43s/it, v_num=bl_1, total_loss_train=866, kl_local_train=55.9, tardis_age_0_train=12.2, tardis_integration_donor_0_train=14]"
     ]
    },
    {
     "name": "stdout",
     "output_type": "stream",
     "text": [
      "\r",
      "Epoch 506/600:  84%|████████▍ | 506/600 [36:54<07:02,  4.49s/it, v_num=bl_1, total_loss_train=866, kl_local_train=55.9, tardis_age_0_train=12.2, tardis_integration_donor_0_train=14]"
     ]
    },
    {
     "name": "stdout",
     "output_type": "stream",
     "text": [
      "\r",
      "Epoch 506/600:  84%|████████▍ | 506/600 [36:54<07:02,  4.49s/it, v_num=bl_1, total_loss_train=866, kl_local_train=56.3, tardis_age_0_train=12.2, tardis_integration_donor_0_train=13.9]"
     ]
    },
    {
     "name": "stdout",
     "output_type": "stream",
     "text": [
      "\r",
      "Epoch 507/600:  84%|████████▍ | 506/600 [36:54<07:02,  4.49s/it, v_num=bl_1, total_loss_train=866, kl_local_train=56.3, tardis_age_0_train=12.2, tardis_integration_donor_0_train=13.9]"
     ]
    },
    {
     "name": "stdout",
     "output_type": "stream",
     "text": [
      "\r",
      "Epoch 507/600:  84%|████████▍ | 507/600 [36:59<06:54,  4.46s/it, v_num=bl_1, total_loss_train=866, kl_local_train=56.3, tardis_age_0_train=12.2, tardis_integration_donor_0_train=13.9]"
     ]
    },
    {
     "name": "stdout",
     "output_type": "stream",
     "text": [
      "\r",
      "Epoch 507/600:  84%|████████▍ | 507/600 [36:59<06:54,  4.46s/it, v_num=bl_1, total_loss_train=865, kl_local_train=56.5, tardis_age_0_train=12.2, tardis_integration_donor_0_train=13.8]"
     ]
    },
    {
     "name": "stdout",
     "output_type": "stream",
     "text": [
      "\r",
      "Epoch 508/600:  84%|████████▍ | 507/600 [36:59<06:54,  4.46s/it, v_num=bl_1, total_loss_train=865, kl_local_train=56.5, tardis_age_0_train=12.2, tardis_integration_donor_0_train=13.8]"
     ]
    },
    {
     "name": "stdout",
     "output_type": "stream",
     "text": [
      "\r",
      "Epoch 508/600:  85%|████████▍ | 508/600 [37:03<06:49,  4.45s/it, v_num=bl_1, total_loss_train=865, kl_local_train=56.5, tardis_age_0_train=12.2, tardis_integration_donor_0_train=13.8]"
     ]
    },
    {
     "name": "stdout",
     "output_type": "stream",
     "text": [
      "\r",
      "Epoch 508/600:  85%|████████▍ | 508/600 [37:03<06:49,  4.45s/it, v_num=bl_1, total_loss_train=866, kl_local_train=55.7, tardis_age_0_train=12.2, tardis_integration_donor_0_train=14]  "
     ]
    },
    {
     "name": "stdout",
     "output_type": "stream",
     "text": [
      "\r",
      "Epoch 509/600:  85%|████████▍ | 508/600 [37:03<06:49,  4.45s/it, v_num=bl_1, total_loss_train=866, kl_local_train=55.7, tardis_age_0_train=12.2, tardis_integration_donor_0_train=14]"
     ]
    },
    {
     "name": "stdout",
     "output_type": "stream",
     "text": [
      "\r",
      "Epoch 509/600:  85%|████████▍ | 509/600 [37:08<06:48,  4.49s/it, v_num=bl_1, total_loss_train=866, kl_local_train=55.7, tardis_age_0_train=12.2, tardis_integration_donor_0_train=14]"
     ]
    },
    {
     "name": "stdout",
     "output_type": "stream",
     "text": [
      "\r",
      "Epoch 509/600:  85%|████████▍ | 509/600 [37:08<06:48,  4.49s/it, v_num=bl_1, total_loss_train=866, kl_local_train=56, tardis_age_0_train=12.2, tardis_integration_donor_0_train=14]  "
     ]
    },
    {
     "name": "stdout",
     "output_type": "stream",
     "text": [
      "\r",
      "Epoch 510/600:  85%|████████▍ | 509/600 [37:08<06:48,  4.49s/it, v_num=bl_1, total_loss_train=866, kl_local_train=56, tardis_age_0_train=12.2, tardis_integration_donor_0_train=14]"
     ]
    },
    {
     "name": "stdout",
     "output_type": "stream",
     "text": [
      "\r",
      "Epoch 510/600:  85%|████████▌ | 510/600 [37:12<06:40,  4.45s/it, v_num=bl_1, total_loss_train=866, kl_local_train=56, tardis_age_0_train=12.2, tardis_integration_donor_0_train=14]"
     ]
    },
    {
     "name": "stdout",
     "output_type": "stream",
     "text": [
      "\r",
      "Epoch 510/600:  85%|████████▌ | 510/600 [37:12<06:40,  4.45s/it, v_num=bl_1, total_loss_train=865, kl_local_train=55.9, tardis_age_0_train=12.1, tardis_integration_donor_0_train=13.9]"
     ]
    },
    {
     "name": "stdout",
     "output_type": "stream",
     "text": [
      "\r",
      "Epoch 511/600:  85%|████████▌ | 510/600 [37:12<06:40,  4.45s/it, v_num=bl_1, total_loss_train=865, kl_local_train=55.9, tardis_age_0_train=12.1, tardis_integration_donor_0_train=13.9]"
     ]
    },
    {
     "name": "stdout",
     "output_type": "stream",
     "text": [
      "\r",
      "Epoch 511/600:  85%|████████▌ | 511/600 [37:17<06:38,  4.48s/it, v_num=bl_1, total_loss_train=865, kl_local_train=55.9, tardis_age_0_train=12.1, tardis_integration_donor_0_train=13.9]"
     ]
    },
    {
     "name": "stdout",
     "output_type": "stream",
     "text": [
      "\r",
      "Epoch 511/600:  85%|████████▌ | 511/600 [37:17<06:38,  4.48s/it, v_num=bl_1, total_loss_train=865, kl_local_train=55.9, tardis_age_0_train=12.3, tardis_integration_donor_0_train=14]  "
     ]
    },
    {
     "name": "stdout",
     "output_type": "stream",
     "text": [
      "\r",
      "Epoch 512/600:  85%|████████▌ | 511/600 [37:17<06:38,  4.48s/it, v_num=bl_1, total_loss_train=865, kl_local_train=55.9, tardis_age_0_train=12.3, tardis_integration_donor_0_train=14]"
     ]
    },
    {
     "name": "stdout",
     "output_type": "stream",
     "text": [
      "\r",
      "Epoch 512/600:  85%|████████▌ | 512/600 [37:21<06:30,  4.44s/it, v_num=bl_1, total_loss_train=865, kl_local_train=55.9, tardis_age_0_train=12.3, tardis_integration_donor_0_train=14]"
     ]
    },
    {
     "name": "stdout",
     "output_type": "stream",
     "text": [
      "\r",
      "Epoch 512/600:  85%|████████▌ | 512/600 [37:21<06:30,  4.44s/it, v_num=bl_1, total_loss_train=865, kl_local_train=56.3, tardis_age_0_train=12.2, tardis_integration_donor_0_train=14]"
     ]
    },
    {
     "name": "stdout",
     "output_type": "stream",
     "text": [
      "\r",
      "Epoch 513/600:  85%|████████▌ | 512/600 [37:21<06:30,  4.44s/it, v_num=bl_1, total_loss_train=865, kl_local_train=56.3, tardis_age_0_train=12.2, tardis_integration_donor_0_train=14]"
     ]
    },
    {
     "name": "stdout",
     "output_type": "stream",
     "text": [
      "\r",
      "Epoch 513/600:  86%|████████▌ | 513/600 [37:25<06:24,  4.42s/it, v_num=bl_1, total_loss_train=865, kl_local_train=56.3, tardis_age_0_train=12.2, tardis_integration_donor_0_train=14]"
     ]
    },
    {
     "name": "stdout",
     "output_type": "stream",
     "text": [
      "\r",
      "Epoch 513/600:  86%|████████▌ | 513/600 [37:25<06:24,  4.42s/it, v_num=bl_1, total_loss_train=865, kl_local_train=55.8, tardis_age_0_train=12.2, tardis_integration_donor_0_train=14.1]"
     ]
    },
    {
     "name": "stdout",
     "output_type": "stream",
     "text": [
      "\r",
      "Epoch 514/600:  86%|████████▌ | 513/600 [37:25<06:24,  4.42s/it, v_num=bl_1, total_loss_train=865, kl_local_train=55.8, tardis_age_0_train=12.2, tardis_integration_donor_0_train=14.1]"
     ]
    },
    {
     "name": "stdout",
     "output_type": "stream",
     "text": [
      "\r",
      "Epoch 514/600:  86%|████████▌ | 514/600 [37:30<06:21,  4.44s/it, v_num=bl_1, total_loss_train=865, kl_local_train=55.8, tardis_age_0_train=12.2, tardis_integration_donor_0_train=14.1]"
     ]
    },
    {
     "name": "stdout",
     "output_type": "stream",
     "text": [
      "\r",
      "Epoch 514/600:  86%|████████▌ | 514/600 [37:30<06:21,  4.44s/it, v_num=bl_1, total_loss_train=865, kl_local_train=55.5, tardis_age_0_train=12.4, tardis_integration_donor_0_train=14]  "
     ]
    },
    {
     "name": "stdout",
     "output_type": "stream",
     "text": [
      "\r",
      "Epoch 515/600:  86%|████████▌ | 514/600 [37:30<06:21,  4.44s/it, v_num=bl_1, total_loss_train=865, kl_local_train=55.5, tardis_age_0_train=12.4, tardis_integration_donor_0_train=14]"
     ]
    },
    {
     "name": "stdout",
     "output_type": "stream",
     "text": [
      "\r",
      "Epoch 515/600:  86%|████████▌ | 515/600 [37:34<06:18,  4.46s/it, v_num=bl_1, total_loss_train=865, kl_local_train=55.5, tardis_age_0_train=12.4, tardis_integration_donor_0_train=14]"
     ]
    },
    {
     "name": "stdout",
     "output_type": "stream",
     "text": [
      "\r",
      "Epoch 515/600:  86%|████████▌ | 515/600 [37:34<06:18,  4.46s/it, v_num=bl_1, total_loss_train=865, kl_local_train=56.1, tardis_age_0_train=12.2, tardis_integration_donor_0_train=14.1]"
     ]
    },
    {
     "name": "stdout",
     "output_type": "stream",
     "text": [
      "\r",
      "Epoch 516/600:  86%|████████▌ | 515/600 [37:34<06:18,  4.46s/it, v_num=bl_1, total_loss_train=865, kl_local_train=56.1, tardis_age_0_train=12.2, tardis_integration_donor_0_train=14.1]"
     ]
    },
    {
     "name": "stdout",
     "output_type": "stream",
     "text": [
      "\r",
      "Epoch 516/600:  86%|████████▌ | 516/600 [37:39<06:12,  4.43s/it, v_num=bl_1, total_loss_train=865, kl_local_train=56.1, tardis_age_0_train=12.2, tardis_integration_donor_0_train=14.1]"
     ]
    },
    {
     "name": "stdout",
     "output_type": "stream",
     "text": [
      "\r",
      "Epoch 516/600:  86%|████████▌ | 516/600 [37:39<06:12,  4.43s/it, v_num=bl_1, total_loss_train=865, kl_local_train=55.7, tardis_age_0_train=12.3, tardis_integration_donor_0_train=14.1]"
     ]
    },
    {
     "name": "stdout",
     "output_type": "stream",
     "text": [
      "\r",
      "Epoch 517/600:  86%|████████▌ | 516/600 [37:39<06:12,  4.43s/it, v_num=bl_1, total_loss_train=865, kl_local_train=55.7, tardis_age_0_train=12.3, tardis_integration_donor_0_train=14.1]"
     ]
    },
    {
     "name": "stdout",
     "output_type": "stream",
     "text": [
      "\r",
      "Epoch 517/600:  86%|████████▌ | 517/600 [37:43<06:07,  4.42s/it, v_num=bl_1, total_loss_train=865, kl_local_train=55.7, tardis_age_0_train=12.3, tardis_integration_donor_0_train=14.1]"
     ]
    },
    {
     "name": "stdout",
     "output_type": "stream",
     "text": [
      "\r",
      "Epoch 517/600:  86%|████████▌ | 517/600 [37:43<06:07,  4.42s/it, v_num=bl_1, total_loss_train=865, kl_local_train=55.7, tardis_age_0_train=12.1, tardis_integration_donor_0_train=14.1]"
     ]
    },
    {
     "name": "stdout",
     "output_type": "stream",
     "text": [
      "\r",
      "Epoch 518/600:  86%|████████▌ | 517/600 [37:43<06:07,  4.42s/it, v_num=bl_1, total_loss_train=865, kl_local_train=55.7, tardis_age_0_train=12.1, tardis_integration_donor_0_train=14.1]"
     ]
    },
    {
     "name": "stdout",
     "output_type": "stream",
     "text": [
      "\r",
      "Epoch 518/600:  86%|████████▋ | 518/600 [37:48<06:06,  4.47s/it, v_num=bl_1, total_loss_train=865, kl_local_train=55.7, tardis_age_0_train=12.1, tardis_integration_donor_0_train=14.1]"
     ]
    },
    {
     "name": "stdout",
     "output_type": "stream",
     "text": [
      "\r",
      "Epoch 518/600:  86%|████████▋ | 518/600 [37:48<06:06,  4.47s/it, v_num=bl_1, total_loss_train=865, kl_local_train=55.6, tardis_age_0_train=12.1, tardis_integration_donor_0_train=14.1]"
     ]
    },
    {
     "name": "stdout",
     "output_type": "stream",
     "text": [
      "\r",
      "Epoch 519/600:  86%|████████▋ | 518/600 [37:48<06:06,  4.47s/it, v_num=bl_1, total_loss_train=865, kl_local_train=55.6, tardis_age_0_train=12.1, tardis_integration_donor_0_train=14.1]"
     ]
    },
    {
     "name": "stdout",
     "output_type": "stream",
     "text": [
      "\r",
      "Epoch 519/600:  86%|████████▋ | 519/600 [37:52<05:59,  4.44s/it, v_num=bl_1, total_loss_train=865, kl_local_train=55.6, tardis_age_0_train=12.1, tardis_integration_donor_0_train=14.1]"
     ]
    },
    {
     "name": "stdout",
     "output_type": "stream",
     "text": [
      "\r",
      "Epoch 519/600:  86%|████████▋ | 519/600 [37:52<05:59,  4.44s/it, v_num=bl_1, total_loss_train=864, kl_local_train=55.3, tardis_age_0_train=12.2, tardis_integration_donor_0_train=14.1]"
     ]
    },
    {
     "name": "stdout",
     "output_type": "stream",
     "text": [
      "\r",
      "Epoch 520/600:  86%|████████▋ | 519/600 [37:52<05:59,  4.44s/it, v_num=bl_1, total_loss_train=864, kl_local_train=55.3, tardis_age_0_train=12.2, tardis_integration_donor_0_train=14.1]"
     ]
    },
    {
     "name": "stdout",
     "output_type": "stream",
     "text": [
      "\r",
      "Epoch 520/600:  87%|████████▋ | 520/600 [37:56<05:53,  4.42s/it, v_num=bl_1, total_loss_train=864, kl_local_train=55.3, tardis_age_0_train=12.2, tardis_integration_donor_0_train=14.1]"
     ]
    },
    {
     "name": "stdout",
     "output_type": "stream",
     "text": [
      "\r",
      "Epoch 520/600:  87%|████████▋ | 520/600 [37:56<05:53,  4.42s/it, v_num=bl_1, total_loss_train=865, kl_local_train=55.3, tardis_age_0_train=12.3, tardis_integration_donor_0_train=14.4]"
     ]
    },
    {
     "name": "stdout",
     "output_type": "stream",
     "text": [
      "\r",
      "Epoch 521/600:  87%|████████▋ | 520/600 [37:56<05:53,  4.42s/it, v_num=bl_1, total_loss_train=865, kl_local_train=55.3, tardis_age_0_train=12.3, tardis_integration_donor_0_train=14.4]"
     ]
    },
    {
     "name": "stdout",
     "output_type": "stream",
     "text": [
      "\r",
      "Epoch 521/600:  87%|████████▋ | 521/600 [38:01<05:53,  4.48s/it, v_num=bl_1, total_loss_train=865, kl_local_train=55.3, tardis_age_0_train=12.3, tardis_integration_donor_0_train=14.4]"
     ]
    },
    {
     "name": "stdout",
     "output_type": "stream",
     "text": [
      "\r",
      "Epoch 521/600:  87%|████████▋ | 521/600 [38:01<05:53,  4.48s/it, v_num=bl_1, total_loss_train=864, kl_local_train=55.3, tardis_age_0_train=12.3, tardis_integration_donor_0_train=14.3]"
     ]
    },
    {
     "name": "stdout",
     "output_type": "stream",
     "text": [
      "\r",
      "Epoch 522/600:  87%|████████▋ | 521/600 [38:01<05:53,  4.48s/it, v_num=bl_1, total_loss_train=864, kl_local_train=55.3, tardis_age_0_train=12.3, tardis_integration_donor_0_train=14.3]"
     ]
    },
    {
     "name": "stdout",
     "output_type": "stream",
     "text": [
      "\r",
      "Epoch 522/600:  87%|████████▋ | 522/600 [38:05<05:45,  4.43s/it, v_num=bl_1, total_loss_train=864, kl_local_train=55.3, tardis_age_0_train=12.3, tardis_integration_donor_0_train=14.3]"
     ]
    },
    {
     "name": "stdout",
     "output_type": "stream",
     "text": [
      "\r",
      "Epoch 522/600:  87%|████████▋ | 522/600 [38:05<05:45,  4.43s/it, v_num=bl_1, total_loss_train=864, kl_local_train=55.6, tardis_age_0_train=12.1, tardis_integration_donor_0_train=14.1]"
     ]
    },
    {
     "name": "stdout",
     "output_type": "stream",
     "text": [
      "\r",
      "Epoch 523/600:  87%|████████▋ | 522/600 [38:05<05:45,  4.43s/it, v_num=bl_1, total_loss_train=864, kl_local_train=55.6, tardis_age_0_train=12.1, tardis_integration_donor_0_train=14.1]"
     ]
    },
    {
     "name": "stdout",
     "output_type": "stream",
     "text": [
      "\r",
      "Epoch 523/600:  87%|████████▋ | 523/600 [38:10<05:40,  4.42s/it, v_num=bl_1, total_loss_train=864, kl_local_train=55.6, tardis_age_0_train=12.1, tardis_integration_donor_0_train=14.1]"
     ]
    },
    {
     "name": "stdout",
     "output_type": "stream",
     "text": [
      "\r",
      "Epoch 523/600:  87%|████████▋ | 523/600 [38:10<05:40,  4.42s/it, v_num=bl_1, total_loss_train=864, kl_local_train=55.1, tardis_age_0_train=12.2, tardis_integration_donor_0_train=14.2]"
     ]
    },
    {
     "name": "stdout",
     "output_type": "stream",
     "text": [
      "\r",
      "Epoch 524/600:  87%|████████▋ | 523/600 [38:10<05:40,  4.42s/it, v_num=bl_1, total_loss_train=864, kl_local_train=55.1, tardis_age_0_train=12.2, tardis_integration_donor_0_train=14.2]"
     ]
    },
    {
     "name": "stdout",
     "output_type": "stream",
     "text": [
      "\r",
      "Epoch 524/600:  87%|████████▋ | 524/600 [38:14<05:40,  4.48s/it, v_num=bl_1, total_loss_train=864, kl_local_train=55.1, tardis_age_0_train=12.2, tardis_integration_donor_0_train=14.2]"
     ]
    },
    {
     "name": "stdout",
     "output_type": "stream",
     "text": [
      "\r",
      "Epoch 524/600:  87%|████████▋ | 524/600 [38:14<05:40,  4.48s/it, v_num=bl_1, total_loss_train=863, kl_local_train=54.9, tardis_age_0_train=12.4, tardis_integration_donor_0_train=14.2]"
     ]
    },
    {
     "name": "stdout",
     "output_type": "stream",
     "text": [
      "\r",
      "Epoch 525/600:  87%|████████▋ | 524/600 [38:14<05:40,  4.48s/it, v_num=bl_1, total_loss_train=863, kl_local_train=54.9, tardis_age_0_train=12.4, tardis_integration_donor_0_train=14.2]"
     ]
    },
    {
     "name": "stdout",
     "output_type": "stream",
     "text": [
      "\r",
      "Epoch 525/600:  88%|████████▊ | 525/600 [38:19<05:33,  4.45s/it, v_num=bl_1, total_loss_train=863, kl_local_train=54.9, tardis_age_0_train=12.4, tardis_integration_donor_0_train=14.2]"
     ]
    },
    {
     "name": "stdout",
     "output_type": "stream",
     "text": [
      "\r",
      "Epoch 525/600:  88%|████████▊ | 525/600 [38:19<05:33,  4.45s/it, v_num=bl_1, total_loss_train=864, kl_local_train=55.3, tardis_age_0_train=12.3, tardis_integration_donor_0_train=14.1]"
     ]
    },
    {
     "name": "stdout",
     "output_type": "stream",
     "text": [
      "\r",
      "Epoch 526/600:  88%|████████▊ | 525/600 [38:19<05:33,  4.45s/it, v_num=bl_1, total_loss_train=864, kl_local_train=55.3, tardis_age_0_train=12.3, tardis_integration_donor_0_train=14.1]"
     ]
    },
    {
     "name": "stdout",
     "output_type": "stream",
     "text": [
      "\r",
      "Epoch 526/600:  88%|████████▊ | 526/600 [38:23<05:27,  4.43s/it, v_num=bl_1, total_loss_train=864, kl_local_train=55.3, tardis_age_0_train=12.3, tardis_integration_donor_0_train=14.1]"
     ]
    },
    {
     "name": "stdout",
     "output_type": "stream",
     "text": [
      "\r",
      "Epoch 526/600:  88%|████████▊ | 526/600 [38:23<05:27,  4.43s/it, v_num=bl_1, total_loss_train=864, kl_local_train=55.5, tardis_age_0_train=12.3, tardis_integration_donor_0_train=14.1]"
     ]
    },
    {
     "name": "stdout",
     "output_type": "stream",
     "text": [
      "\r",
      "Epoch 527/600:  88%|████████▊ | 526/600 [38:23<05:27,  4.43s/it, v_num=bl_1, total_loss_train=864, kl_local_train=55.5, tardis_age_0_train=12.3, tardis_integration_donor_0_train=14.1]"
     ]
    },
    {
     "name": "stdout",
     "output_type": "stream",
     "text": [
      "\r",
      "Epoch 527/600:  88%|████████▊ | 527/600 [38:28<05:28,  4.49s/it, v_num=bl_1, total_loss_train=864, kl_local_train=55.5, tardis_age_0_train=12.3, tardis_integration_donor_0_train=14.1]"
     ]
    },
    {
     "name": "stdout",
     "output_type": "stream",
     "text": [
      "\r",
      "Epoch 527/600:  88%|████████▊ | 527/600 [38:28<05:28,  4.49s/it, v_num=bl_1, total_loss_train=864, kl_local_train=55.1, tardis_age_0_train=12.3, tardis_integration_donor_0_train=14.4]"
     ]
    },
    {
     "name": "stdout",
     "output_type": "stream",
     "text": [
      "\r",
      "Epoch 528/600:  88%|████████▊ | 527/600 [38:28<05:28,  4.49s/it, v_num=bl_1, total_loss_train=864, kl_local_train=55.1, tardis_age_0_train=12.3, tardis_integration_donor_0_train=14.4]"
     ]
    },
    {
     "name": "stdout",
     "output_type": "stream",
     "text": [
      "\r",
      "Epoch 528/600:  88%|████████▊ | 528/600 [38:32<05:20,  4.45s/it, v_num=bl_1, total_loss_train=864, kl_local_train=55.1, tardis_age_0_train=12.3, tardis_integration_donor_0_train=14.4]"
     ]
    },
    {
     "name": "stdout",
     "output_type": "stream",
     "text": [
      "\r",
      "Epoch 528/600:  88%|████████▊ | 528/600 [38:32<05:20,  4.45s/it, v_num=bl_1, total_loss_train=863, kl_local_train=55.1, tardis_age_0_train=12.5, tardis_integration_donor_0_train=14.2]"
     ]
    },
    {
     "name": "stdout",
     "output_type": "stream",
     "text": [
      "\r",
      "Epoch 529/600:  88%|████████▊ | 528/600 [38:32<05:20,  4.45s/it, v_num=bl_1, total_loss_train=863, kl_local_train=55.1, tardis_age_0_train=12.5, tardis_integration_donor_0_train=14.2]"
     ]
    },
    {
     "name": "stdout",
     "output_type": "stream",
     "text": [
      "\r",
      "Epoch 529/600:  88%|████████▊ | 529/600 [38:37<05:18,  4.49s/it, v_num=bl_1, total_loss_train=863, kl_local_train=55.1, tardis_age_0_train=12.5, tardis_integration_donor_0_train=14.2]"
     ]
    },
    {
     "name": "stdout",
     "output_type": "stream",
     "text": [
      "\r",
      "Epoch 529/600:  88%|████████▊ | 529/600 [38:37<05:18,  4.49s/it, v_num=bl_1, total_loss_train=863, kl_local_train=55, tardis_age_0_train=12.4, tardis_integration_donor_0_train=14.2]  "
     ]
    },
    {
     "name": "stdout",
     "output_type": "stream",
     "text": [
      "\r",
      "Epoch 530/600:  88%|████████▊ | 529/600 [38:37<05:18,  4.49s/it, v_num=bl_1, total_loss_train=863, kl_local_train=55, tardis_age_0_train=12.4, tardis_integration_donor_0_train=14.2]"
     ]
    },
    {
     "name": "stdout",
     "output_type": "stream",
     "text": [
      "\r",
      "Epoch 530/600:  88%|████████▊ | 530/600 [38:41<05:11,  4.45s/it, v_num=bl_1, total_loss_train=863, kl_local_train=55, tardis_age_0_train=12.4, tardis_integration_donor_0_train=14.2]"
     ]
    },
    {
     "name": "stdout",
     "output_type": "stream",
     "text": [
      "\r",
      "Epoch 530/600:  88%|████████▊ | 530/600 [38:41<05:11,  4.45s/it, v_num=bl_1, total_loss_train=862, kl_local_train=55.2, tardis_age_0_train=12.3, tardis_integration_donor_0_train=14.1]"
     ]
    },
    {
     "name": "stdout",
     "output_type": "stream",
     "text": [
      "\r",
      "Epoch 531/600:  88%|████████▊ | 530/600 [38:41<05:11,  4.45s/it, v_num=bl_1, total_loss_train=862, kl_local_train=55.2, tardis_age_0_train=12.3, tardis_integration_donor_0_train=14.1]"
     ]
    },
    {
     "name": "stdout",
     "output_type": "stream",
     "text": [
      "\r",
      "Epoch 531/600:  88%|████████▊ | 531/600 [38:45<05:04,  4.41s/it, v_num=bl_1, total_loss_train=862, kl_local_train=55.2, tardis_age_0_train=12.3, tardis_integration_donor_0_train=14.1]"
     ]
    },
    {
     "name": "stdout",
     "output_type": "stream",
     "text": [
      "\r",
      "Epoch 531/600:  88%|████████▊ | 531/600 [38:45<05:04,  4.41s/it, v_num=bl_1, total_loss_train=863, kl_local_train=54.9, tardis_age_0_train=12.3, tardis_integration_donor_0_train=14.2]"
     ]
    },
    {
     "name": "stdout",
     "output_type": "stream",
     "text": [
      "\r",
      "Epoch 532/600:  88%|████████▊ | 531/600 [38:45<05:04,  4.41s/it, v_num=bl_1, total_loss_train=863, kl_local_train=54.9, tardis_age_0_train=12.3, tardis_integration_donor_0_train=14.2]"
     ]
    },
    {
     "name": "stdout",
     "output_type": "stream",
     "text": [
      "\r",
      "Epoch 532/600:  89%|████████▊ | 532/600 [38:50<04:59,  4.41s/it, v_num=bl_1, total_loss_train=863, kl_local_train=54.9, tardis_age_0_train=12.3, tardis_integration_donor_0_train=14.2]"
     ]
    },
    {
     "name": "stdout",
     "output_type": "stream",
     "text": [
      "\r",
      "Epoch 532/600:  89%|████████▊ | 532/600 [38:50<04:59,  4.41s/it, v_num=bl_1, total_loss_train=863, kl_local_train=54.7, tardis_age_0_train=12.4, tardis_integration_donor_0_train=14.3]"
     ]
    },
    {
     "name": "stdout",
     "output_type": "stream",
     "text": [
      "\r",
      "Epoch 533/600:  89%|████████▊ | 532/600 [38:50<04:59,  4.41s/it, v_num=bl_1, total_loss_train=863, kl_local_train=54.7, tardis_age_0_train=12.4, tardis_integration_donor_0_train=14.3]"
     ]
    },
    {
     "name": "stdout",
     "output_type": "stream",
     "text": [
      "\r",
      "Epoch 533/600:  89%|████████▉ | 533/600 [38:54<04:59,  4.47s/it, v_num=bl_1, total_loss_train=863, kl_local_train=54.7, tardis_age_0_train=12.4, tardis_integration_donor_0_train=14.3]"
     ]
    },
    {
     "name": "stdout",
     "output_type": "stream",
     "text": [
      "\r",
      "Epoch 533/600:  89%|████████▉ | 533/600 [38:54<04:59,  4.47s/it, v_num=bl_1, total_loss_train=862, kl_local_train=54.7, tardis_age_0_train=12.4, tardis_integration_donor_0_train=14.1]"
     ]
    },
    {
     "name": "stdout",
     "output_type": "stream",
     "text": [
      "\r",
      "Epoch 534/600:  89%|████████▉ | 533/600 [38:54<04:59,  4.47s/it, v_num=bl_1, total_loss_train=862, kl_local_train=54.7, tardis_age_0_train=12.4, tardis_integration_donor_0_train=14.1]"
     ]
    },
    {
     "name": "stdout",
     "output_type": "stream",
     "text": [
      "\r",
      "Epoch 534/600:  89%|████████▉ | 534/600 [38:59<04:53,  4.45s/it, v_num=bl_1, total_loss_train=862, kl_local_train=54.7, tardis_age_0_train=12.4, tardis_integration_donor_0_train=14.1]"
     ]
    },
    {
     "name": "stdout",
     "output_type": "stream",
     "text": [
      "\r",
      "Epoch 534/600:  89%|████████▉ | 534/600 [38:59<04:53,  4.45s/it, v_num=bl_1, total_loss_train=862, kl_local_train=54.9, tardis_age_0_train=12.4, tardis_integration_donor_0_train=14.3]"
     ]
    },
    {
     "name": "stdout",
     "output_type": "stream",
     "text": [
      "\r",
      "Epoch 535/600:  89%|████████▉ | 534/600 [38:59<04:53,  4.45s/it, v_num=bl_1, total_loss_train=862, kl_local_train=54.9, tardis_age_0_train=12.4, tardis_integration_donor_0_train=14.3]"
     ]
    },
    {
     "name": "stdout",
     "output_type": "stream",
     "text": [
      "\r",
      "Epoch 535/600:  89%|████████▉ | 535/600 [39:03<04:47,  4.43s/it, v_num=bl_1, total_loss_train=862, kl_local_train=54.9, tardis_age_0_train=12.4, tardis_integration_donor_0_train=14.3]"
     ]
    },
    {
     "name": "stdout",
     "output_type": "stream",
     "text": [
      "\r",
      "Epoch 535/600:  89%|████████▉ | 535/600 [39:03<04:47,  4.43s/it, v_num=bl_1, total_loss_train=862, kl_local_train=54.7, tardis_age_0_train=12.3, tardis_integration_donor_0_train=14.1]"
     ]
    },
    {
     "name": "stdout",
     "output_type": "stream",
     "text": [
      "\r",
      "Epoch 536/600:  89%|████████▉ | 535/600 [39:03<04:47,  4.43s/it, v_num=bl_1, total_loss_train=862, kl_local_train=54.7, tardis_age_0_train=12.3, tardis_integration_donor_0_train=14.1]"
     ]
    },
    {
     "name": "stdout",
     "output_type": "stream",
     "text": [
      "\r",
      "Epoch 536/600:  89%|████████▉ | 536/600 [39:08<04:49,  4.53s/it, v_num=bl_1, total_loss_train=862, kl_local_train=54.7, tardis_age_0_train=12.3, tardis_integration_donor_0_train=14.1]"
     ]
    },
    {
     "name": "stdout",
     "output_type": "stream",
     "text": [
      "\r",
      "Epoch 536/600:  89%|████████▉ | 536/600 [39:08<04:49,  4.53s/it, v_num=bl_1, total_loss_train=862, kl_local_train=54.5, tardis_age_0_train=12.2, tardis_integration_donor_0_train=14.3]"
     ]
    },
    {
     "name": "stdout",
     "output_type": "stream",
     "text": [
      "\r",
      "Epoch 537/600:  89%|████████▉ | 536/600 [39:08<04:49,  4.53s/it, v_num=bl_1, total_loss_train=862, kl_local_train=54.5, tardis_age_0_train=12.2, tardis_integration_donor_0_train=14.3]"
     ]
    },
    {
     "name": "stdout",
     "output_type": "stream",
     "text": [
      "\r",
      "Epoch 537/600:  90%|████████▉ | 537/600 [39:12<04:42,  4.49s/it, v_num=bl_1, total_loss_train=862, kl_local_train=54.5, tardis_age_0_train=12.2, tardis_integration_donor_0_train=14.3]"
     ]
    },
    {
     "name": "stdout",
     "output_type": "stream",
     "text": [
      "\r",
      "Epoch 537/600:  90%|████████▉ | 537/600 [39:12<04:42,  4.49s/it, v_num=bl_1, total_loss_train=862, kl_local_train=54.4, tardis_age_0_train=12.5, tardis_integration_donor_0_train=14.4]"
     ]
    },
    {
     "name": "stdout",
     "output_type": "stream",
     "text": [
      "\r",
      "Epoch 538/600:  90%|████████▉ | 537/600 [39:12<04:42,  4.49s/it, v_num=bl_1, total_loss_train=862, kl_local_train=54.4, tardis_age_0_train=12.5, tardis_integration_donor_0_train=14.4]"
     ]
    },
    {
     "name": "stdout",
     "output_type": "stream",
     "text": [
      "\r",
      "Epoch 538/600:  90%|████████▉ | 538/600 [39:17<04:36,  4.45s/it, v_num=bl_1, total_loss_train=862, kl_local_train=54.4, tardis_age_0_train=12.5, tardis_integration_donor_0_train=14.4]"
     ]
    },
    {
     "name": "stdout",
     "output_type": "stream",
     "text": [
      "\r",
      "Epoch 538/600:  90%|████████▉ | 538/600 [39:17<04:36,  4.45s/it, v_num=bl_1, total_loss_train=862, kl_local_train=54.2, tardis_age_0_train=12.4, tardis_integration_donor_0_train=14.4]"
     ]
    },
    {
     "name": "stdout",
     "output_type": "stream",
     "text": [
      "\r",
      "Epoch 539/600:  90%|████████▉ | 538/600 [39:17<04:36,  4.45s/it, v_num=bl_1, total_loss_train=862, kl_local_train=54.2, tardis_age_0_train=12.4, tardis_integration_donor_0_train=14.4]"
     ]
    },
    {
     "name": "stdout",
     "output_type": "stream",
     "text": [
      "\r",
      "Epoch 539/600:  90%|████████▉ | 539/600 [39:21<04:32,  4.46s/it, v_num=bl_1, total_loss_train=862, kl_local_train=54.2, tardis_age_0_train=12.4, tardis_integration_donor_0_train=14.4]"
     ]
    },
    {
     "name": "stdout",
     "output_type": "stream",
     "text": [
      "\r",
      "Epoch 539/600:  90%|████████▉ | 539/600 [39:21<04:32,  4.46s/it, v_num=bl_1, total_loss_train=862, kl_local_train=54.4, tardis_age_0_train=12.4, tardis_integration_donor_0_train=14.4]"
     ]
    },
    {
     "name": "stdout",
     "output_type": "stream",
     "text": [
      "\r",
      "Epoch 540/600:  90%|████████▉ | 539/600 [39:21<04:32,  4.46s/it, v_num=bl_1, total_loss_train=862, kl_local_train=54.4, tardis_age_0_train=12.4, tardis_integration_donor_0_train=14.4]"
     ]
    },
    {
     "name": "stdout",
     "output_type": "stream",
     "text": [
      "\r",
      "Epoch 540/600:  90%|█████████ | 540/600 [39:26<04:27,  4.47s/it, v_num=bl_1, total_loss_train=862, kl_local_train=54.4, tardis_age_0_train=12.4, tardis_integration_donor_0_train=14.4]"
     ]
    },
    {
     "name": "stdout",
     "output_type": "stream",
     "text": [
      "\r",
      "Epoch 540/600:  90%|█████████ | 540/600 [39:26<04:27,  4.47s/it, v_num=bl_1, total_loss_train=862, kl_local_train=54.8, tardis_age_0_train=12.3, tardis_integration_donor_0_train=14.3]"
     ]
    },
    {
     "name": "stdout",
     "output_type": "stream",
     "text": [
      "\r",
      "Epoch 541/600:  90%|█████████ | 540/600 [39:26<04:27,  4.47s/it, v_num=bl_1, total_loss_train=862, kl_local_train=54.8, tardis_age_0_train=12.3, tardis_integration_donor_0_train=14.3]"
     ]
    },
    {
     "name": "stdout",
     "output_type": "stream",
     "text": [
      "\r",
      "Epoch 541/600:  90%|█████████ | 541/600 [39:30<04:21,  4.44s/it, v_num=bl_1, total_loss_train=862, kl_local_train=54.8, tardis_age_0_train=12.3, tardis_integration_donor_0_train=14.3]"
     ]
    },
    {
     "name": "stdout",
     "output_type": "stream",
     "text": [
      "\r",
      "Epoch 541/600:  90%|█████████ | 541/600 [39:30<04:21,  4.44s/it, v_num=bl_1, total_loss_train=861, kl_local_train=54.8, tardis_age_0_train=12.4, tardis_integration_donor_0_train=14.2]"
     ]
    },
    {
     "name": "stdout",
     "output_type": "stream",
     "text": [
      "\r",
      "Epoch 542/600:  90%|█████████ | 541/600 [39:30<04:21,  4.44s/it, v_num=bl_1, total_loss_train=861, kl_local_train=54.8, tardis_age_0_train=12.4, tardis_integration_donor_0_train=14.2]"
     ]
    },
    {
     "name": "stdout",
     "output_type": "stream",
     "text": [
      "\r",
      "Epoch 542/600:  90%|█████████ | 542/600 [39:35<04:18,  4.45s/it, v_num=bl_1, total_loss_train=861, kl_local_train=54.8, tardis_age_0_train=12.4, tardis_integration_donor_0_train=14.2]"
     ]
    },
    {
     "name": "stdout",
     "output_type": "stream",
     "text": [
      "\r",
      "Epoch 542/600:  90%|█████████ | 542/600 [39:35<04:18,  4.45s/it, v_num=bl_1, total_loss_train=862, kl_local_train=54.6, tardis_age_0_train=12.5, tardis_integration_donor_0_train=14.4]"
     ]
    },
    {
     "name": "stdout",
     "output_type": "stream",
     "text": [
      "\r",
      "Epoch 543/600:  90%|█████████ | 542/600 [39:35<04:18,  4.45s/it, v_num=bl_1, total_loss_train=862, kl_local_train=54.6, tardis_age_0_train=12.5, tardis_integration_donor_0_train=14.4]"
     ]
    },
    {
     "name": "stdout",
     "output_type": "stream",
     "text": [
      "\r",
      "Epoch 543/600:  90%|█████████ | 543/600 [39:39<04:14,  4.46s/it, v_num=bl_1, total_loss_train=862, kl_local_train=54.6, tardis_age_0_train=12.5, tardis_integration_donor_0_train=14.4]"
     ]
    },
    {
     "name": "stdout",
     "output_type": "stream",
     "text": [
      "\r",
      "Epoch 543/600:  90%|█████████ | 543/600 [39:39<04:14,  4.46s/it, v_num=bl_1, total_loss_train=861, kl_local_train=54.5, tardis_age_0_train=12.4, tardis_integration_donor_0_train=14.3]"
     ]
    },
    {
     "name": "stdout",
     "output_type": "stream",
     "text": [
      "\r",
      "Epoch 544/600:  90%|█████████ | 543/600 [39:39<04:14,  4.46s/it, v_num=bl_1, total_loss_train=861, kl_local_train=54.5, tardis_age_0_train=12.4, tardis_integration_donor_0_train=14.3]"
     ]
    },
    {
     "name": "stdout",
     "output_type": "stream",
     "text": [
      "\r",
      "Epoch 544/600:  91%|█████████ | 544/600 [39:43<04:08,  4.44s/it, v_num=bl_1, total_loss_train=861, kl_local_train=54.5, tardis_age_0_train=12.4, tardis_integration_donor_0_train=14.3]"
     ]
    },
    {
     "name": "stdout",
     "output_type": "stream",
     "text": [
      "\r",
      "Epoch 544/600:  91%|█████████ | 544/600 [39:43<04:08,  4.44s/it, v_num=bl_1, total_loss_train=861, kl_local_train=54.6, tardis_age_0_train=12.3, tardis_integration_donor_0_train=14.2]"
     ]
    },
    {
     "name": "stdout",
     "output_type": "stream",
     "text": [
      "\r",
      "Epoch 545/600:  91%|█████████ | 544/600 [39:43<04:08,  4.44s/it, v_num=bl_1, total_loss_train=861, kl_local_train=54.6, tardis_age_0_train=12.3, tardis_integration_donor_0_train=14.2]"
     ]
    },
    {
     "name": "stdout",
     "output_type": "stream",
     "text": [
      "\r",
      "Epoch 545/600:  91%|█████████ | 545/600 [39:48<04:04,  4.44s/it, v_num=bl_1, total_loss_train=861, kl_local_train=54.6, tardis_age_0_train=12.3, tardis_integration_donor_0_train=14.2]"
     ]
    },
    {
     "name": "stdout",
     "output_type": "stream",
     "text": [
      "\r",
      "Epoch 545/600:  91%|█████████ | 545/600 [39:48<04:04,  4.44s/it, v_num=bl_1, total_loss_train=861, kl_local_train=54.6, tardis_age_0_train=12.2, tardis_integration_donor_0_train=14.3]"
     ]
    },
    {
     "name": "stdout",
     "output_type": "stream",
     "text": [
      "\r",
      "Epoch 546/600:  91%|█████████ | 545/600 [39:48<04:04,  4.44s/it, v_num=bl_1, total_loss_train=861, kl_local_train=54.6, tardis_age_0_train=12.2, tardis_integration_donor_0_train=14.3]"
     ]
    },
    {
     "name": "stdout",
     "output_type": "stream",
     "text": [
      "\r",
      "Epoch 546/600:  91%|█████████ | 546/600 [39:52<04:02,  4.49s/it, v_num=bl_1, total_loss_train=861, kl_local_train=54.6, tardis_age_0_train=12.2, tardis_integration_donor_0_train=14.3]"
     ]
    },
    {
     "name": "stdout",
     "output_type": "stream",
     "text": [
      "\r",
      "Epoch 546/600:  91%|█████████ | 546/600 [39:52<04:02,  4.49s/it, v_num=bl_1, total_loss_train=861, kl_local_train=54.1, tardis_age_0_train=12.5, tardis_integration_donor_0_train=14.4]"
     ]
    },
    {
     "name": "stdout",
     "output_type": "stream",
     "text": [
      "\r",
      "Epoch 547/600:  91%|█████████ | 546/600 [39:52<04:02,  4.49s/it, v_num=bl_1, total_loss_train=861, kl_local_train=54.1, tardis_age_0_train=12.5, tardis_integration_donor_0_train=14.4]"
     ]
    },
    {
     "name": "stdout",
     "output_type": "stream",
     "text": [
      "\r",
      "Epoch 547/600:  91%|█████████ | 547/600 [39:57<03:56,  4.45s/it, v_num=bl_1, total_loss_train=861, kl_local_train=54.1, tardis_age_0_train=12.5, tardis_integration_donor_0_train=14.4]"
     ]
    },
    {
     "name": "stdout",
     "output_type": "stream",
     "text": [
      "\r",
      "Epoch 547/600:  91%|█████████ | 547/600 [39:57<03:56,  4.45s/it, v_num=bl_1, total_loss_train=861, kl_local_train=54.4, tardis_age_0_train=12.5, tardis_integration_donor_0_train=14.4]"
     ]
    },
    {
     "name": "stdout",
     "output_type": "stream",
     "text": [
      "\r",
      "Epoch 548/600:  91%|█████████ | 547/600 [39:57<03:56,  4.45s/it, v_num=bl_1, total_loss_train=861, kl_local_train=54.4, tardis_age_0_train=12.5, tardis_integration_donor_0_train=14.4]"
     ]
    },
    {
     "name": "stdout",
     "output_type": "stream",
     "text": [
      "\r",
      "Epoch 548/600:  91%|█████████▏| 548/600 [40:01<03:51,  4.44s/it, v_num=bl_1, total_loss_train=861, kl_local_train=54.4, tardis_age_0_train=12.5, tardis_integration_donor_0_train=14.4]"
     ]
    },
    {
     "name": "stdout",
     "output_type": "stream",
     "text": [
      "\r",
      "Epoch 548/600:  91%|█████████▏| 548/600 [40:01<03:51,  4.44s/it, v_num=bl_1, total_loss_train=861, kl_local_train=53.9, tardis_age_0_train=12.5, tardis_integration_donor_0_train=14.4]"
     ]
    },
    {
     "name": "stdout",
     "output_type": "stream",
     "text": [
      "\r",
      "Epoch 549/600:  91%|█████████▏| 548/600 [40:01<03:51,  4.44s/it, v_num=bl_1, total_loss_train=861, kl_local_train=53.9, tardis_age_0_train=12.5, tardis_integration_donor_0_train=14.4]"
     ]
    },
    {
     "name": "stdout",
     "output_type": "stream",
     "text": [
      "\r",
      "Epoch 549/600:  92%|█████████▏| 549/600 [40:06<03:49,  4.51s/it, v_num=bl_1, total_loss_train=861, kl_local_train=53.9, tardis_age_0_train=12.5, tardis_integration_donor_0_train=14.4]"
     ]
    },
    {
     "name": "stdout",
     "output_type": "stream",
     "text": [
      "\r",
      "Epoch 549/600:  92%|█████████▏| 549/600 [40:06<03:49,  4.51s/it, v_num=bl_1, total_loss_train=861, kl_local_train=54, tardis_age_0_train=12.5, tardis_integration_donor_0_train=14.5]  "
     ]
    },
    {
     "name": "stdout",
     "output_type": "stream",
     "text": [
      "\r",
      "Epoch 550/600:  92%|█████████▏| 549/600 [40:06<03:49,  4.51s/it, v_num=bl_1, total_loss_train=861, kl_local_train=54, tardis_age_0_train=12.5, tardis_integration_donor_0_train=14.5]"
     ]
    },
    {
     "name": "stdout",
     "output_type": "stream",
     "text": [
      "\r",
      "Epoch 550/600:  92%|█████████▏| 550/600 [40:10<03:43,  4.47s/it, v_num=bl_1, total_loss_train=861, kl_local_train=54, tardis_age_0_train=12.5, tardis_integration_donor_0_train=14.5]"
     ]
    },
    {
     "name": "stdout",
     "output_type": "stream",
     "text": [
      "\r",
      "Epoch 550/600:  92%|█████████▏| 550/600 [40:10<03:43,  4.47s/it, v_num=bl_1, total_loss_train=861, kl_local_train=54.2, tardis_age_0_train=12.4, tardis_integration_donor_0_train=14.5]"
     ]
    },
    {
     "name": "stdout",
     "output_type": "stream",
     "text": [
      "\r",
      "Epoch 551/600:  92%|█████████▏| 550/600 [40:10<03:43,  4.47s/it, v_num=bl_1, total_loss_train=861, kl_local_train=54.2, tardis_age_0_train=12.4, tardis_integration_donor_0_train=14.5]"
     ]
    },
    {
     "name": "stdout",
     "output_type": "stream",
     "text": [
      "\r",
      "Epoch 551/600:  92%|█████████▏| 551/600 [40:15<03:38,  4.45s/it, v_num=bl_1, total_loss_train=861, kl_local_train=54.2, tardis_age_0_train=12.4, tardis_integration_donor_0_train=14.5]"
     ]
    },
    {
     "name": "stdout",
     "output_type": "stream",
     "text": [
      "\r",
      "Epoch 551/600:  92%|█████████▏| 551/600 [40:15<03:38,  4.45s/it, v_num=bl_1, total_loss_train=861, kl_local_train=54.2, tardis_age_0_train=12.5, tardis_integration_donor_0_train=14.4]"
     ]
    },
    {
     "name": "stdout",
     "output_type": "stream",
     "text": [
      "\r",
      "Epoch 552/600:  92%|█████████▏| 551/600 [40:15<03:38,  4.45s/it, v_num=bl_1, total_loss_train=861, kl_local_train=54.2, tardis_age_0_train=12.5, tardis_integration_donor_0_train=14.4]"
     ]
    },
    {
     "name": "stdout",
     "output_type": "stream",
     "text": [
      "\r",
      "Epoch 552/600:  92%|█████████▏| 552/600 [40:19<03:35,  4.50s/it, v_num=bl_1, total_loss_train=861, kl_local_train=54.2, tardis_age_0_train=12.5, tardis_integration_donor_0_train=14.4]"
     ]
    },
    {
     "name": "stdout",
     "output_type": "stream",
     "text": [
      "\r",
      "Epoch 552/600:  92%|█████████▏| 552/600 [40:19<03:35,  4.50s/it, v_num=bl_1, total_loss_train=861, kl_local_train=54.4, tardis_age_0_train=12.6, tardis_integration_donor_0_train=14.5]"
     ]
    },
    {
     "name": "stdout",
     "output_type": "stream",
     "text": [
      "\r",
      "Epoch 553/600:  92%|█████████▏| 552/600 [40:19<03:35,  4.50s/it, v_num=bl_1, total_loss_train=861, kl_local_train=54.4, tardis_age_0_train=12.6, tardis_integration_donor_0_train=14.5]"
     ]
    },
    {
     "name": "stdout",
     "output_type": "stream",
     "text": [
      "\r",
      "Epoch 553/600:  92%|█████████▏| 553/600 [40:24<03:30,  4.47s/it, v_num=bl_1, total_loss_train=861, kl_local_train=54.4, tardis_age_0_train=12.6, tardis_integration_donor_0_train=14.5]"
     ]
    },
    {
     "name": "stdout",
     "output_type": "stream",
     "text": [
      "\r",
      "Epoch 553/600:  92%|█████████▏| 553/600 [40:24<03:30,  4.47s/it, v_num=bl_1, total_loss_train=861, kl_local_train=54, tardis_age_0_train=12.6, tardis_integration_donor_0_train=14.6]  "
     ]
    },
    {
     "name": "stdout",
     "output_type": "stream",
     "text": [
      "\r",
      "Epoch 554/600:  92%|█████████▏| 553/600 [40:24<03:30,  4.47s/it, v_num=bl_1, total_loss_train=861, kl_local_train=54, tardis_age_0_train=12.6, tardis_integration_donor_0_train=14.6]"
     ]
    },
    {
     "name": "stdout",
     "output_type": "stream",
     "text": [
      "\r",
      "Epoch 554/600:  92%|█████████▏| 554/600 [40:28<03:27,  4.52s/it, v_num=bl_1, total_loss_train=861, kl_local_train=54, tardis_age_0_train=12.6, tardis_integration_donor_0_train=14.6]"
     ]
    },
    {
     "name": "stdout",
     "output_type": "stream",
     "text": [
      "\r",
      "Epoch 554/600:  92%|█████████▏| 554/600 [40:28<03:27,  4.52s/it, v_num=bl_1, total_loss_train=861, kl_local_train=54.3, tardis_age_0_train=12.7, tardis_integration_donor_0_train=14.7]"
     ]
    },
    {
     "name": "stdout",
     "output_type": "stream",
     "text": [
      "\r",
      "Epoch 555/600:  92%|█████████▏| 554/600 [40:28<03:27,  4.52s/it, v_num=bl_1, total_loss_train=861, kl_local_train=54.3, tardis_age_0_train=12.7, tardis_integration_donor_0_train=14.7]"
     ]
    },
    {
     "name": "stdout",
     "output_type": "stream",
     "text": [
      "\r",
      "Epoch 555/600:  92%|█████████▎| 555/600 [40:33<03:21,  4.47s/it, v_num=bl_1, total_loss_train=861, kl_local_train=54.3, tardis_age_0_train=12.7, tardis_integration_donor_0_train=14.7]"
     ]
    },
    {
     "name": "stdout",
     "output_type": "stream",
     "text": [
      "\r",
      "Epoch 555/600:  92%|█████████▎| 555/600 [40:33<03:21,  4.47s/it, v_num=bl_1, total_loss_train=860, kl_local_train=54, tardis_age_0_train=12.7, tardis_integration_donor_0_train=14.5]  "
     ]
    },
    {
     "name": "stdout",
     "output_type": "stream",
     "text": [
      "\r",
      "Epoch 556/600:  92%|█████████▎| 555/600 [40:33<03:21,  4.47s/it, v_num=bl_1, total_loss_train=860, kl_local_train=54, tardis_age_0_train=12.7, tardis_integration_donor_0_train=14.5]"
     ]
    },
    {
     "name": "stdout",
     "output_type": "stream",
     "text": [
      "\r",
      "Epoch 556/600:  93%|█████████▎| 556/600 [40:37<03:15,  4.44s/it, v_num=bl_1, total_loss_train=860, kl_local_train=54, tardis_age_0_train=12.7, tardis_integration_donor_0_train=14.5]"
     ]
    },
    {
     "name": "stdout",
     "output_type": "stream",
     "text": [
      "\r",
      "Epoch 556/600:  93%|█████████▎| 556/600 [40:37<03:15,  4.44s/it, v_num=bl_1, total_loss_train=860, kl_local_train=53.6, tardis_age_0_train=12.7, tardis_integration_donor_0_train=14.6]"
     ]
    },
    {
     "name": "stdout",
     "output_type": "stream",
     "text": [
      "\r",
      "Epoch 557/600:  93%|█████████▎| 556/600 [40:37<03:15,  4.44s/it, v_num=bl_1, total_loss_train=860, kl_local_train=53.6, tardis_age_0_train=12.7, tardis_integration_donor_0_train=14.6]"
     ]
    },
    {
     "name": "stdout",
     "output_type": "stream",
     "text": [
      "\r",
      "Epoch 557/600:  93%|█████████▎| 557/600 [40:41<03:09,  4.41s/it, v_num=bl_1, total_loss_train=860, kl_local_train=53.6, tardis_age_0_train=12.7, tardis_integration_donor_0_train=14.6]"
     ]
    },
    {
     "name": "stdout",
     "output_type": "stream",
     "text": [
      "\r",
      "Epoch 557/600:  93%|█████████▎| 557/600 [40:41<03:09,  4.41s/it, v_num=bl_1, total_loss_train=861, kl_local_train=53.7, tardis_age_0_train=12.7, tardis_integration_donor_0_train=14.6]"
     ]
    },
    {
     "name": "stdout",
     "output_type": "stream",
     "text": [
      "\r",
      "Epoch 558/600:  93%|█████████▎| 557/600 [40:41<03:09,  4.41s/it, v_num=bl_1, total_loss_train=861, kl_local_train=53.7, tardis_age_0_train=12.7, tardis_integration_donor_0_train=14.6]"
     ]
    },
    {
     "name": "stdout",
     "output_type": "stream",
     "text": [
      "\r",
      "Epoch 558/600:  93%|█████████▎| 558/600 [40:46<03:07,  4.47s/it, v_num=bl_1, total_loss_train=861, kl_local_train=53.7, tardis_age_0_train=12.7, tardis_integration_donor_0_train=14.6]"
     ]
    },
    {
     "name": "stdout",
     "output_type": "stream",
     "text": [
      "\r",
      "Epoch 558/600:  93%|█████████▎| 558/600 [40:46<03:07,  4.47s/it, v_num=bl_1, total_loss_train=860, kl_local_train=53.6, tardis_age_0_train=12.7, tardis_integration_donor_0_train=14.6]"
     ]
    },
    {
     "name": "stdout",
     "output_type": "stream",
     "text": [
      "\r",
      "Epoch 559/600:  93%|█████████▎| 558/600 [40:46<03:07,  4.47s/it, v_num=bl_1, total_loss_train=860, kl_local_train=53.6, tardis_age_0_train=12.7, tardis_integration_donor_0_train=14.6]"
     ]
    },
    {
     "name": "stdout",
     "output_type": "stream",
     "text": [
      "\r",
      "Epoch 559/600:  93%|█████████▎| 559/600 [40:50<03:02,  4.44s/it, v_num=bl_1, total_loss_train=860, kl_local_train=53.6, tardis_age_0_train=12.7, tardis_integration_donor_0_train=14.6]"
     ]
    },
    {
     "name": "stdout",
     "output_type": "stream",
     "text": [
      "\r",
      "Epoch 559/600:  93%|█████████▎| 559/600 [40:50<03:02,  4.44s/it, v_num=bl_1, total_loss_train=860, kl_local_train=54, tardis_age_0_train=12.6, tardis_integration_donor_0_train=14.5]  "
     ]
    },
    {
     "name": "stdout",
     "output_type": "stream",
     "text": [
      "\r",
      "Epoch 560/600:  93%|█████████▎| 559/600 [40:50<03:02,  4.44s/it, v_num=bl_1, total_loss_train=860, kl_local_train=54, tardis_age_0_train=12.6, tardis_integration_donor_0_train=14.5]"
     ]
    },
    {
     "name": "stdout",
     "output_type": "stream",
     "text": [
      "\r",
      "Epoch 560/600:  93%|█████████▎| 560/600 [40:55<02:59,  4.49s/it, v_num=bl_1, total_loss_train=860, kl_local_train=54, tardis_age_0_train=12.6, tardis_integration_donor_0_train=14.5]"
     ]
    },
    {
     "name": "stdout",
     "output_type": "stream",
     "text": [
      "\r",
      "Epoch 560/600:  93%|█████████▎| 560/600 [40:55<02:59,  4.49s/it, v_num=bl_1, total_loss_train=860, kl_local_train=54, tardis_age_0_train=12.7, tardis_integration_donor_0_train=14.6]"
     ]
    },
    {
     "name": "stdout",
     "output_type": "stream",
     "text": [
      "\r",
      "Epoch 561/600:  93%|█████████▎| 560/600 [40:55<02:59,  4.49s/it, v_num=bl_1, total_loss_train=860, kl_local_train=54, tardis_age_0_train=12.7, tardis_integration_donor_0_train=14.6]"
     ]
    },
    {
     "name": "stdout",
     "output_type": "stream",
     "text": [
      "\r",
      "Epoch 561/600:  94%|█████████▎| 561/600 [40:59<02:53,  4.45s/it, v_num=bl_1, total_loss_train=860, kl_local_train=54, tardis_age_0_train=12.7, tardis_integration_donor_0_train=14.6]"
     ]
    },
    {
     "name": "stdout",
     "output_type": "stream",
     "text": [
      "\r",
      "Epoch 561/600:  94%|█████████▎| 561/600 [40:59<02:53,  4.45s/it, v_num=bl_1, total_loss_train=860, kl_local_train=53.7, tardis_age_0_train=12.7, tardis_integration_donor_0_train=14.7]"
     ]
    },
    {
     "name": "stdout",
     "output_type": "stream",
     "text": [
      "\r",
      "Epoch 562/600:  94%|█████████▎| 561/600 [40:59<02:53,  4.45s/it, v_num=bl_1, total_loss_train=860, kl_local_train=53.7, tardis_age_0_train=12.7, tardis_integration_donor_0_train=14.7]"
     ]
    },
    {
     "name": "stdout",
     "output_type": "stream",
     "text": [
      "\r",
      "Epoch 562/600:  94%|█████████▎| 562/600 [41:04<02:48,  4.44s/it, v_num=bl_1, total_loss_train=860, kl_local_train=53.7, tardis_age_0_train=12.7, tardis_integration_donor_0_train=14.7]"
     ]
    },
    {
     "name": "stdout",
     "output_type": "stream",
     "text": [
      "\r",
      "Epoch 562/600:  94%|█████████▎| 562/600 [41:04<02:48,  4.44s/it, v_num=bl_1, total_loss_train=860, kl_local_train=53.6, tardis_age_0_train=12.7, tardis_integration_donor_0_train=14.4]"
     ]
    },
    {
     "name": "stdout",
     "output_type": "stream",
     "text": [
      "\r",
      "Epoch 563/600:  94%|█████████▎| 562/600 [41:04<02:48,  4.44s/it, v_num=bl_1, total_loss_train=860, kl_local_train=53.6, tardis_age_0_train=12.7, tardis_integration_donor_0_train=14.4]"
     ]
    },
    {
     "name": "stdout",
     "output_type": "stream",
     "text": [
      "\r",
      "Epoch 563/600:  94%|█████████▍| 563/600 [41:08<02:43,  4.41s/it, v_num=bl_1, total_loss_train=860, kl_local_train=53.6, tardis_age_0_train=12.7, tardis_integration_donor_0_train=14.4]"
     ]
    },
    {
     "name": "stdout",
     "output_type": "stream",
     "text": [
      "\r",
      "Epoch 563/600:  94%|█████████▍| 563/600 [41:08<02:43,  4.41s/it, v_num=bl_1, total_loss_train=859, kl_local_train=53.2, tardis_age_0_train=12.7, tardis_integration_donor_0_train=14.6]"
     ]
    },
    {
     "name": "stdout",
     "output_type": "stream",
     "text": [
      "\r",
      "Epoch 564/600:  94%|█████████▍| 563/600 [41:08<02:43,  4.41s/it, v_num=bl_1, total_loss_train=859, kl_local_train=53.2, tardis_age_0_train=12.7, tardis_integration_donor_0_train=14.6]"
     ]
    },
    {
     "name": "stdout",
     "output_type": "stream",
     "text": [
      "\r",
      "Epoch 564/600:  94%|█████████▍| 564/600 [41:13<02:41,  4.47s/it, v_num=bl_1, total_loss_train=859, kl_local_train=53.2, tardis_age_0_train=12.7, tardis_integration_donor_0_train=14.6]"
     ]
    },
    {
     "name": "stdout",
     "output_type": "stream",
     "text": [
      "\r",
      "Epoch 564/600:  94%|█████████▍| 564/600 [41:13<02:41,  4.47s/it, v_num=bl_1, total_loss_train=860, kl_local_train=53.6, tardis_age_0_train=12.8, tardis_integration_donor_0_train=14.6]"
     ]
    },
    {
     "name": "stdout",
     "output_type": "stream",
     "text": [
      "\r",
      "Epoch 565/600:  94%|█████████▍| 564/600 [41:13<02:41,  4.47s/it, v_num=bl_1, total_loss_train=860, kl_local_train=53.6, tardis_age_0_train=12.8, tardis_integration_donor_0_train=14.6]"
     ]
    },
    {
     "name": "stdout",
     "output_type": "stream",
     "text": [
      "\r",
      "Epoch 565/600:  94%|█████████▍| 565/600 [41:17<02:35,  4.44s/it, v_num=bl_1, total_loss_train=860, kl_local_train=53.6, tardis_age_0_train=12.8, tardis_integration_donor_0_train=14.6]"
     ]
    },
    {
     "name": "stdout",
     "output_type": "stream",
     "text": [
      "\r",
      "Epoch 565/600:  94%|█████████▍| 565/600 [41:17<02:35,  4.44s/it, v_num=bl_1, total_loss_train=860, kl_local_train=53.4, tardis_age_0_train=12.9, tardis_integration_donor_0_train=14.6]"
     ]
    },
    {
     "name": "stdout",
     "output_type": "stream",
     "text": [
      "\r",
      "Epoch 566/600:  94%|█████████▍| 565/600 [41:17<02:35,  4.44s/it, v_num=bl_1, total_loss_train=860, kl_local_train=53.4, tardis_age_0_train=12.9, tardis_integration_donor_0_train=14.6]"
     ]
    },
    {
     "name": "stdout",
     "output_type": "stream",
     "text": [
      "\r",
      "Epoch 566/600:  94%|█████████▍| 566/600 [41:21<02:30,  4.42s/it, v_num=bl_1, total_loss_train=860, kl_local_train=53.4, tardis_age_0_train=12.9, tardis_integration_donor_0_train=14.6]"
     ]
    },
    {
     "name": "stdout",
     "output_type": "stream",
     "text": [
      "\r",
      "Epoch 566/600:  94%|█████████▍| 566/600 [41:21<02:30,  4.42s/it, v_num=bl_1, total_loss_train=860, kl_local_train=53.9, tardis_age_0_train=12.8, tardis_integration_donor_0_train=14.6]"
     ]
    },
    {
     "name": "stdout",
     "output_type": "stream",
     "text": [
      "\r",
      "Epoch 567/600:  94%|█████████▍| 566/600 [41:21<02:30,  4.42s/it, v_num=bl_1, total_loss_train=860, kl_local_train=53.9, tardis_age_0_train=12.8, tardis_integration_donor_0_train=14.6]"
     ]
    },
    {
     "name": "stdout",
     "output_type": "stream",
     "text": [
      "\r",
      "Epoch 567/600:  94%|█████████▍| 567/600 [41:26<02:27,  4.46s/it, v_num=bl_1, total_loss_train=860, kl_local_train=53.9, tardis_age_0_train=12.8, tardis_integration_donor_0_train=14.6]"
     ]
    },
    {
     "name": "stdout",
     "output_type": "stream",
     "text": [
      "\r",
      "Epoch 567/600:  94%|█████████▍| 567/600 [41:26<02:27,  4.46s/it, v_num=bl_1, total_loss_train=860, kl_local_train=53.7, tardis_age_0_train=12.8, tardis_integration_donor_0_train=14.9]"
     ]
    },
    {
     "name": "stdout",
     "output_type": "stream",
     "text": [
      "\r",
      "Epoch 568/600:  94%|█████████▍| 567/600 [41:26<02:27,  4.46s/it, v_num=bl_1, total_loss_train=860, kl_local_train=53.7, tardis_age_0_train=12.8, tardis_integration_donor_0_train=14.9]"
     ]
    },
    {
     "name": "stdout",
     "output_type": "stream",
     "text": [
      "\r",
      "Epoch 568/600:  95%|█████████▍| 568/600 [41:30<02:21,  4.43s/it, v_num=bl_1, total_loss_train=860, kl_local_train=53.7, tardis_age_0_train=12.8, tardis_integration_donor_0_train=14.9]"
     ]
    },
    {
     "name": "stdout",
     "output_type": "stream",
     "text": [
      "\r",
      "Epoch 568/600:  95%|█████████▍| 568/600 [41:30<02:21,  4.43s/it, v_num=bl_1, total_loss_train=860, kl_local_train=53.7, tardis_age_0_train=12.8, tardis_integration_donor_0_train=14.8]"
     ]
    },
    {
     "name": "stdout",
     "output_type": "stream",
     "text": [
      "\r",
      "Epoch 569/600:  95%|█████████▍| 568/600 [41:30<02:21,  4.43s/it, v_num=bl_1, total_loss_train=860, kl_local_train=53.7, tardis_age_0_train=12.8, tardis_integration_donor_0_train=14.8]"
     ]
    },
    {
     "name": "stdout",
     "output_type": "stream",
     "text": [
      "\r",
      "Epoch 569/600:  95%|█████████▍| 569/600 [41:35<02:16,  4.42s/it, v_num=bl_1, total_loss_train=860, kl_local_train=53.7, tardis_age_0_train=12.8, tardis_integration_donor_0_train=14.8]"
     ]
    },
    {
     "name": "stdout",
     "output_type": "stream",
     "text": [
      "\r",
      "Epoch 569/600:  95%|█████████▍| 569/600 [41:35<02:16,  4.42s/it, v_num=bl_1, total_loss_train=858, kl_local_train=53.1, tardis_age_0_train=12.7, tardis_integration_donor_0_train=14.5]"
     ]
    },
    {
     "name": "stdout",
     "output_type": "stream",
     "text": [
      "\r",
      "Epoch 570/600:  95%|█████████▍| 569/600 [41:35<02:16,  4.42s/it, v_num=bl_1, total_loss_train=858, kl_local_train=53.1, tardis_age_0_train=12.7, tardis_integration_donor_0_train=14.5]"
     ]
    },
    {
     "name": "stdout",
     "output_type": "stream",
     "text": [
      "\r",
      "Epoch 570/600:  95%|█████████▌| 570/600 [41:39<02:12,  4.43s/it, v_num=bl_1, total_loss_train=858, kl_local_train=53.1, tardis_age_0_train=12.7, tardis_integration_donor_0_train=14.5]"
     ]
    },
    {
     "name": "stdout",
     "output_type": "stream",
     "text": [
      "\r",
      "Epoch 570/600:  95%|█████████▌| 570/600 [41:39<02:12,  4.43s/it, v_num=bl_1, total_loss_train=859, kl_local_train=53.2, tardis_age_0_train=12.7, tardis_integration_donor_0_train=14.8]"
     ]
    },
    {
     "name": "stdout",
     "output_type": "stream",
     "text": [
      "\r",
      "Epoch 571/600:  95%|█████████▌| 570/600 [41:39<02:12,  4.43s/it, v_num=bl_1, total_loss_train=859, kl_local_train=53.2, tardis_age_0_train=12.7, tardis_integration_donor_0_train=14.8]"
     ]
    },
    {
     "name": "stdout",
     "output_type": "stream",
     "text": [
      "\r",
      "Epoch 571/600:  95%|█████████▌| 571/600 [41:44<02:09,  4.45s/it, v_num=bl_1, total_loss_train=859, kl_local_train=53.2, tardis_age_0_train=12.7, tardis_integration_donor_0_train=14.8]"
     ]
    },
    {
     "name": "stdout",
     "output_type": "stream",
     "text": [
      "\r",
      "Epoch 571/600:  95%|█████████▌| 571/600 [41:44<02:09,  4.45s/it, v_num=bl_1, total_loss_train=859, kl_local_train=53.3, tardis_age_0_train=12.7, tardis_integration_donor_0_train=14.9]"
     ]
    },
    {
     "name": "stdout",
     "output_type": "stream",
     "text": [
      "\r",
      "Epoch 572/600:  95%|█████████▌| 571/600 [41:44<02:09,  4.45s/it, v_num=bl_1, total_loss_train=859, kl_local_train=53.3, tardis_age_0_train=12.7, tardis_integration_donor_0_train=14.9]"
     ]
    },
    {
     "name": "stdout",
     "output_type": "stream",
     "text": [
      "\r",
      "Epoch 572/600:  95%|█████████▌| 572/600 [41:48<02:04,  4.44s/it, v_num=bl_1, total_loss_train=859, kl_local_train=53.3, tardis_age_0_train=12.7, tardis_integration_donor_0_train=14.9]"
     ]
    },
    {
     "name": "stdout",
     "output_type": "stream",
     "text": [
      "\r",
      "Epoch 572/600:  95%|█████████▌| 572/600 [41:48<02:04,  4.44s/it, v_num=bl_1, total_loss_train=859, kl_local_train=53.7, tardis_age_0_train=12.9, tardis_integration_donor_0_train=14.7]"
     ]
    },
    {
     "name": "stdout",
     "output_type": "stream",
     "text": [
      "\r",
      "Epoch 573/600:  95%|█████████▌| 572/600 [41:48<02:04,  4.44s/it, v_num=bl_1, total_loss_train=859, kl_local_train=53.7, tardis_age_0_train=12.9, tardis_integration_donor_0_train=14.7]"
     ]
    },
    {
     "name": "stdout",
     "output_type": "stream",
     "text": [
      "\r",
      "Epoch 573/600:  96%|█████████▌| 573/600 [41:52<01:59,  4.42s/it, v_num=bl_1, total_loss_train=859, kl_local_train=53.7, tardis_age_0_train=12.9, tardis_integration_donor_0_train=14.7]"
     ]
    },
    {
     "name": "stdout",
     "output_type": "stream",
     "text": [
      "\r",
      "Epoch 573/600:  96%|█████████▌| 573/600 [41:53<01:59,  4.42s/it, v_num=bl_1, total_loss_train=858, kl_local_train=53.3, tardis_age_0_train=12.8, tardis_integration_donor_0_train=14.8]"
     ]
    },
    {
     "name": "stdout",
     "output_type": "stream",
     "text": [
      "\r",
      "Epoch 574/600:  96%|█████████▌| 573/600 [41:53<01:59,  4.42s/it, v_num=bl_1, total_loss_train=858, kl_local_train=53.3, tardis_age_0_train=12.8, tardis_integration_donor_0_train=14.8]"
     ]
    },
    {
     "name": "stdout",
     "output_type": "stream",
     "text": [
      "\r",
      "Epoch 574/600:  96%|█████████▌| 574/600 [41:57<01:55,  4.45s/it, v_num=bl_1, total_loss_train=858, kl_local_train=53.3, tardis_age_0_train=12.8, tardis_integration_donor_0_train=14.8]"
     ]
    },
    {
     "name": "stdout",
     "output_type": "stream",
     "text": [
      "\r",
      "Epoch 574/600:  96%|█████████▌| 574/600 [41:57<01:55,  4.45s/it, v_num=bl_1, total_loss_train=859, kl_local_train=53.2, tardis_age_0_train=13.1, tardis_integration_donor_0_train=14.7]"
     ]
    },
    {
     "name": "stdout",
     "output_type": "stream",
     "text": [
      "\r",
      "Epoch 575/600:  96%|█████████▌| 574/600 [41:57<01:55,  4.45s/it, v_num=bl_1, total_loss_train=859, kl_local_train=53.2, tardis_age_0_train=13.1, tardis_integration_donor_0_train=14.7]"
     ]
    },
    {
     "name": "stdout",
     "output_type": "stream",
     "text": [
      "\r",
      "Epoch 575/600:  96%|█████████▌| 575/600 [42:01<01:50,  4.42s/it, v_num=bl_1, total_loss_train=859, kl_local_train=53.2, tardis_age_0_train=13.1, tardis_integration_donor_0_train=14.7]"
     ]
    },
    {
     "name": "stdout",
     "output_type": "stream",
     "text": [
      "\r",
      "Epoch 575/600:  96%|█████████▌| 575/600 [42:01<01:50,  4.42s/it, v_num=bl_1, total_loss_train=858, kl_local_train=53.3, tardis_age_0_train=12.8, tardis_integration_donor_0_train=14.7]"
     ]
    },
    {
     "name": "stdout",
     "output_type": "stream",
     "text": [
      "\r",
      "Epoch 576/600:  96%|█████████▌| 575/600 [42:01<01:50,  4.42s/it, v_num=bl_1, total_loss_train=858, kl_local_train=53.3, tardis_age_0_train=12.8, tardis_integration_donor_0_train=14.7]"
     ]
    },
    {
     "name": "stdout",
     "output_type": "stream",
     "text": [
      "\r",
      "Epoch 576/600:  96%|█████████▌| 576/600 [42:06<01:46,  4.42s/it, v_num=bl_1, total_loss_train=858, kl_local_train=53.3, tardis_age_0_train=12.8, tardis_integration_donor_0_train=14.7]"
     ]
    },
    {
     "name": "stdout",
     "output_type": "stream",
     "text": [
      "\r",
      "Epoch 576/600:  96%|█████████▌| 576/600 [42:06<01:46,  4.42s/it, v_num=bl_1, total_loss_train=858, kl_local_train=53.4, tardis_age_0_train=12.9, tardis_integration_donor_0_train=14.7]"
     ]
    },
    {
     "name": "stdout",
     "output_type": "stream",
     "text": [
      "\r",
      "Epoch 577/600:  96%|█████████▌| 576/600 [42:06<01:46,  4.42s/it, v_num=bl_1, total_loss_train=858, kl_local_train=53.4, tardis_age_0_train=12.9, tardis_integration_donor_0_train=14.7]"
     ]
    },
    {
     "name": "stdout",
     "output_type": "stream",
     "text": [
      "\r",
      "Epoch 577/600:  96%|█████████▌| 577/600 [42:10<01:42,  4.47s/it, v_num=bl_1, total_loss_train=858, kl_local_train=53.4, tardis_age_0_train=12.9, tardis_integration_donor_0_train=14.7]"
     ]
    },
    {
     "name": "stdout",
     "output_type": "stream",
     "text": [
      "\r",
      "Epoch 577/600:  96%|█████████▌| 577/600 [42:10<01:42,  4.47s/it, v_num=bl_1, total_loss_train=858, kl_local_train=53.3, tardis_age_0_train=12.8, tardis_integration_donor_0_train=14.6]"
     ]
    },
    {
     "name": "stdout",
     "output_type": "stream",
     "text": [
      "\r",
      "Epoch 578/600:  96%|█████████▌| 577/600 [42:10<01:42,  4.47s/it, v_num=bl_1, total_loss_train=858, kl_local_train=53.3, tardis_age_0_train=12.8, tardis_integration_donor_0_train=14.6]"
     ]
    },
    {
     "name": "stdout",
     "output_type": "stream",
     "text": [
      "\r",
      "Epoch 578/600:  96%|█████████▋| 578/600 [42:15<01:37,  4.44s/it, v_num=bl_1, total_loss_train=858, kl_local_train=53.3, tardis_age_0_train=12.8, tardis_integration_donor_0_train=14.6]"
     ]
    },
    {
     "name": "stdout",
     "output_type": "stream",
     "text": [
      "\r",
      "Epoch 578/600:  96%|█████████▋| 578/600 [42:15<01:37,  4.44s/it, v_num=bl_1, total_loss_train=858, kl_local_train=52.7, tardis_age_0_train=12.8, tardis_integration_donor_0_train=14.7]"
     ]
    },
    {
     "name": "stdout",
     "output_type": "stream",
     "text": [
      "\r",
      "Epoch 579/600:  96%|█████████▋| 578/600 [42:15<01:37,  4.44s/it, v_num=bl_1, total_loss_train=858, kl_local_train=52.7, tardis_age_0_train=12.8, tardis_integration_donor_0_train=14.7]"
     ]
    },
    {
     "name": "stdout",
     "output_type": "stream",
     "text": [
      "\r",
      "Epoch 579/600:  96%|█████████▋| 579/600 [42:19<01:33,  4.45s/it, v_num=bl_1, total_loss_train=858, kl_local_train=52.7, tardis_age_0_train=12.8, tardis_integration_donor_0_train=14.7]"
     ]
    },
    {
     "name": "stdout",
     "output_type": "stream",
     "text": [
      "\r",
      "Epoch 579/600:  96%|█████████▋| 579/600 [42:19<01:33,  4.45s/it, v_num=bl_1, total_loss_train=858, kl_local_train=52.6, tardis_age_0_train=13, tardis_integration_donor_0_train=14.9]  "
     ]
    },
    {
     "name": "stdout",
     "output_type": "stream",
     "text": [
      "\r",
      "Epoch 580/600:  96%|█████████▋| 579/600 [42:19<01:33,  4.45s/it, v_num=bl_1, total_loss_train=858, kl_local_train=52.6, tardis_age_0_train=13, tardis_integration_donor_0_train=14.9]"
     ]
    },
    {
     "name": "stdout",
     "output_type": "stream",
     "text": [
      "\r",
      "Epoch 580/600:  97%|█████████▋| 580/600 [42:24<01:29,  4.45s/it, v_num=bl_1, total_loss_train=858, kl_local_train=52.6, tardis_age_0_train=13, tardis_integration_donor_0_train=14.9]"
     ]
    },
    {
     "name": "stdout",
     "output_type": "stream",
     "text": [
      "\r",
      "Epoch 580/600:  97%|█████████▋| 580/600 [42:24<01:29,  4.45s/it, v_num=bl_1, total_loss_train=859, kl_local_train=53.1, tardis_age_0_train=12.9, tardis_integration_donor_0_train=14.9]"
     ]
    },
    {
     "name": "stdout",
     "output_type": "stream",
     "text": [
      "\r",
      "Epoch 581/600:  97%|█████████▋| 580/600 [42:24<01:29,  4.45s/it, v_num=bl_1, total_loss_train=859, kl_local_train=53.1, tardis_age_0_train=12.9, tardis_integration_donor_0_train=14.9]"
     ]
    },
    {
     "name": "stdout",
     "output_type": "stream",
     "text": [
      "\r",
      "Epoch 581/600:  97%|█████████▋| 581/600 [42:28<01:24,  4.43s/it, v_num=bl_1, total_loss_train=859, kl_local_train=53.1, tardis_age_0_train=12.9, tardis_integration_donor_0_train=14.9]"
     ]
    },
    {
     "name": "stdout",
     "output_type": "stream",
     "text": [
      "\r",
      "Epoch 581/600:  97%|█████████▋| 581/600 [42:28<01:24,  4.43s/it, v_num=bl_1, total_loss_train=858, kl_local_train=52.8, tardis_age_0_train=13, tardis_integration_donor_0_train=14.9]  "
     ]
    },
    {
     "name": "stdout",
     "output_type": "stream",
     "text": [
      "\r",
      "Epoch 582/600:  97%|█████████▋| 581/600 [42:28<01:24,  4.43s/it, v_num=bl_1, total_loss_train=858, kl_local_train=52.8, tardis_age_0_train=13, tardis_integration_donor_0_train=14.9]"
     ]
    },
    {
     "name": "stdout",
     "output_type": "stream",
     "text": [
      "\r",
      "Epoch 582/600:  97%|█████████▋| 582/600 [42:32<01:19,  4.42s/it, v_num=bl_1, total_loss_train=858, kl_local_train=52.8, tardis_age_0_train=13, tardis_integration_donor_0_train=14.9]"
     ]
    },
    {
     "name": "stdout",
     "output_type": "stream",
     "text": [
      "\r",
      "Epoch 582/600:  97%|█████████▋| 582/600 [42:32<01:19,  4.42s/it, v_num=bl_1, total_loss_train=858, kl_local_train=53, tardis_age_0_train=12.9, tardis_integration_donor_0_train=14.9]"
     ]
    },
    {
     "name": "stdout",
     "output_type": "stream",
     "text": [
      "\r",
      "Epoch 583/600:  97%|█████████▋| 582/600 [42:32<01:19,  4.42s/it, v_num=bl_1, total_loss_train=858, kl_local_train=53, tardis_age_0_train=12.9, tardis_integration_donor_0_train=14.9]"
     ]
    },
    {
     "name": "stdout",
     "output_type": "stream",
     "text": [
      "\r",
      "Epoch 583/600:  97%|█████████▋| 583/600 [42:37<01:15,  4.47s/it, v_num=bl_1, total_loss_train=858, kl_local_train=53, tardis_age_0_train=12.9, tardis_integration_donor_0_train=14.9]"
     ]
    },
    {
     "name": "stdout",
     "output_type": "stream",
     "text": [
      "\r",
      "Epoch 583/600:  97%|█████████▋| 583/600 [42:37<01:15,  4.47s/it, v_num=bl_1, total_loss_train=858, kl_local_train=52.9, tardis_age_0_train=12.9, tardis_integration_donor_0_train=14.8]"
     ]
    },
    {
     "name": "stdout",
     "output_type": "stream",
     "text": [
      "\r",
      "Epoch 584/600:  97%|█████████▋| 583/600 [42:37<01:15,  4.47s/it, v_num=bl_1, total_loss_train=858, kl_local_train=52.9, tardis_age_0_train=12.9, tardis_integration_donor_0_train=14.8]"
     ]
    },
    {
     "name": "stdout",
     "output_type": "stream",
     "text": [
      "\r",
      "Epoch 584/600:  97%|█████████▋| 584/600 [42:41<01:11,  4.44s/it, v_num=bl_1, total_loss_train=858, kl_local_train=52.9, tardis_age_0_train=12.9, tardis_integration_donor_0_train=14.8]"
     ]
    },
    {
     "name": "stdout",
     "output_type": "stream",
     "text": [
      "\r",
      "Epoch 584/600:  97%|█████████▋| 584/600 [42:41<01:11,  4.44s/it, v_num=bl_1, total_loss_train=857, kl_local_train=52.9, tardis_age_0_train=12.8, tardis_integration_donor_0_train=14.8]"
     ]
    },
    {
     "name": "stdout",
     "output_type": "stream",
     "text": [
      "\r",
      "Epoch 585/600:  97%|█████████▋| 584/600 [42:41<01:11,  4.44s/it, v_num=bl_1, total_loss_train=857, kl_local_train=52.9, tardis_age_0_train=12.8, tardis_integration_donor_0_train=14.8]"
     ]
    },
    {
     "name": "stdout",
     "output_type": "stream",
     "text": [
      "\r",
      "Epoch 585/600:  98%|█████████▊| 585/600 [42:46<01:06,  4.47s/it, v_num=bl_1, total_loss_train=857, kl_local_train=52.9, tardis_age_0_train=12.8, tardis_integration_donor_0_train=14.8]"
     ]
    },
    {
     "name": "stdout",
     "output_type": "stream",
     "text": [
      "\r",
      "Epoch 585/600:  98%|█████████▊| 585/600 [42:46<01:06,  4.47s/it, v_num=bl_1, total_loss_train=857, kl_local_train=52.8, tardis_age_0_train=12.9, tardis_integration_donor_0_train=14.9]"
     ]
    },
    {
     "name": "stdout",
     "output_type": "stream",
     "text": [
      "\r",
      "Epoch 586/600:  98%|█████████▊| 585/600 [42:46<01:06,  4.47s/it, v_num=bl_1, total_loss_train=857, kl_local_train=52.8, tardis_age_0_train=12.9, tardis_integration_donor_0_train=14.9]"
     ]
    },
    {
     "name": "stdout",
     "output_type": "stream",
     "text": [
      "\r",
      "Epoch 586/600:  98%|█████████▊| 586/600 [42:50<01:01,  4.40s/it, v_num=bl_1, total_loss_train=857, kl_local_train=52.8, tardis_age_0_train=12.9, tardis_integration_donor_0_train=14.9]"
     ]
    },
    {
     "name": "stdout",
     "output_type": "stream",
     "text": [
      "\r",
      "Epoch 586/600:  98%|█████████▊| 586/600 [42:50<01:01,  4.40s/it, v_num=bl_1, total_loss_train=858, kl_local_train=52.6, tardis_age_0_train=13.1, tardis_integration_donor_0_train=15.1]"
     ]
    },
    {
     "name": "stdout",
     "output_type": "stream",
     "text": [
      "\r",
      "Epoch 587/600:  98%|█████████▊| 586/600 [42:50<01:01,  4.40s/it, v_num=bl_1, total_loss_train=858, kl_local_train=52.6, tardis_age_0_train=13.1, tardis_integration_donor_0_train=15.1]"
     ]
    },
    {
     "name": "stdout",
     "output_type": "stream",
     "text": [
      "\r",
      "Epoch 587/600:  98%|█████████▊| 587/600 [42:54<00:55,  4.31s/it, v_num=bl_1, total_loss_train=858, kl_local_train=52.6, tardis_age_0_train=13.1, tardis_integration_donor_0_train=15.1]"
     ]
    },
    {
     "name": "stdout",
     "output_type": "stream",
     "text": [
      "\r",
      "Epoch 587/600:  98%|█████████▊| 587/600 [42:54<00:55,  4.31s/it, v_num=bl_1, total_loss_train=857, kl_local_train=52.6, tardis_age_0_train=12.8, tardis_integration_donor_0_train=14.9]"
     ]
    },
    {
     "name": "stdout",
     "output_type": "stream",
     "text": [
      "\r",
      "Epoch 588/600:  98%|█████████▊| 587/600 [42:54<00:55,  4.31s/it, v_num=bl_1, total_loss_train=857, kl_local_train=52.6, tardis_age_0_train=12.8, tardis_integration_donor_0_train=14.9]"
     ]
    },
    {
     "name": "stdout",
     "output_type": "stream",
     "text": [
      "\r",
      "Epoch 588/600:  98%|█████████▊| 588/600 [42:58<00:50,  4.24s/it, v_num=bl_1, total_loss_train=857, kl_local_train=52.6, tardis_age_0_train=12.8, tardis_integration_donor_0_train=14.9]"
     ]
    },
    {
     "name": "stdout",
     "output_type": "stream",
     "text": [
      "\r",
      "Epoch 588/600:  98%|█████████▊| 588/600 [42:58<00:50,  4.24s/it, v_num=bl_1, total_loss_train=857, kl_local_train=52.4, tardis_age_0_train=12.9, tardis_integration_donor_0_train=15]  "
     ]
    },
    {
     "name": "stdout",
     "output_type": "stream",
     "text": [
      "\r",
      "Epoch 589/600:  98%|█████████▊| 588/600 [42:58<00:50,  4.24s/it, v_num=bl_1, total_loss_train=857, kl_local_train=52.4, tardis_age_0_train=12.9, tardis_integration_donor_0_train=15]"
     ]
    },
    {
     "name": "stdout",
     "output_type": "stream",
     "text": [
      "\r",
      "Epoch 589/600:  98%|█████████▊| 589/600 [43:02<00:46,  4.18s/it, v_num=bl_1, total_loss_train=857, kl_local_train=52.4, tardis_age_0_train=12.9, tardis_integration_donor_0_train=15]"
     ]
    },
    {
     "name": "stdout",
     "output_type": "stream",
     "text": [
      "\r",
      "Epoch 589/600:  98%|█████████▊| 589/600 [43:02<00:46,  4.18s/it, v_num=bl_1, total_loss_train=857, kl_local_train=52.6, tardis_age_0_train=12.9, tardis_integration_donor_0_train=14.8]"
     ]
    },
    {
     "name": "stdout",
     "output_type": "stream",
     "text": [
      "\r",
      "Epoch 590/600:  98%|█████████▊| 589/600 [43:02<00:46,  4.18s/it, v_num=bl_1, total_loss_train=857, kl_local_train=52.6, tardis_age_0_train=12.9, tardis_integration_donor_0_train=14.8]"
     ]
    },
    {
     "name": "stdout",
     "output_type": "stream",
     "text": [
      "\r",
      "Epoch 590/600:  98%|█████████▊| 590/600 [43:06<00:41,  4.15s/it, v_num=bl_1, total_loss_train=857, kl_local_train=52.6, tardis_age_0_train=12.9, tardis_integration_donor_0_train=14.8]"
     ]
    },
    {
     "name": "stdout",
     "output_type": "stream",
     "text": [
      "\r",
      "Epoch 590/600:  98%|█████████▊| 590/600 [43:06<00:41,  4.15s/it, v_num=bl_1, total_loss_train=857, kl_local_train=52.3, tardis_age_0_train=13, tardis_integration_donor_0_train=15]    "
     ]
    },
    {
     "name": "stdout",
     "output_type": "stream",
     "text": [
      "\r",
      "Epoch 591/600:  98%|█████████▊| 590/600 [43:06<00:41,  4.15s/it, v_num=bl_1, total_loss_train=857, kl_local_train=52.3, tardis_age_0_train=13, tardis_integration_donor_0_train=15]"
     ]
    },
    {
     "name": "stdout",
     "output_type": "stream",
     "text": [
      "\r",
      "Epoch 591/600:  98%|█████████▊| 591/600 [43:11<00:37,  4.14s/it, v_num=bl_1, total_loss_train=857, kl_local_train=52.3, tardis_age_0_train=13, tardis_integration_donor_0_train=15]"
     ]
    },
    {
     "name": "stdout",
     "output_type": "stream",
     "text": [
      "\r",
      "Epoch 591/600:  98%|█████████▊| 591/600 [43:11<00:37,  4.14s/it, v_num=bl_1, total_loss_train=857, kl_local_train=52.8, tardis_age_0_train=13, tardis_integration_donor_0_train=15]"
     ]
    },
    {
     "name": "stdout",
     "output_type": "stream",
     "text": [
      "\r",
      "Epoch 592/600:  98%|█████████▊| 591/600 [43:11<00:37,  4.14s/it, v_num=bl_1, total_loss_train=857, kl_local_train=52.8, tardis_age_0_train=13, tardis_integration_donor_0_train=15]"
     ]
    },
    {
     "name": "stdout",
     "output_type": "stream",
     "text": [
      "\r",
      "Epoch 592/600:  99%|█████████▊| 592/600 [43:15<00:32,  4.12s/it, v_num=bl_1, total_loss_train=857, kl_local_train=52.8, tardis_age_0_train=13, tardis_integration_donor_0_train=15]"
     ]
    },
    {
     "name": "stdout",
     "output_type": "stream",
     "text": [
      "\r",
      "Epoch 592/600:  99%|█████████▊| 592/600 [43:15<00:32,  4.12s/it, v_num=bl_1, total_loss_train=857, kl_local_train=52.5, tardis_age_0_train=13, tardis_integration_donor_0_train=14.9]"
     ]
    },
    {
     "name": "stdout",
     "output_type": "stream",
     "text": [
      "\r",
      "Epoch 593/600:  99%|█████████▊| 592/600 [43:15<00:32,  4.12s/it, v_num=bl_1, total_loss_train=857, kl_local_train=52.5, tardis_age_0_train=13, tardis_integration_donor_0_train=14.9]"
     ]
    },
    {
     "name": "stdout",
     "output_type": "stream",
     "text": [
      "\r",
      "Epoch 593/600:  99%|█████████▉| 593/600 [43:19<00:28,  4.11s/it, v_num=bl_1, total_loss_train=857, kl_local_train=52.5, tardis_age_0_train=13, tardis_integration_donor_0_train=14.9]"
     ]
    },
    {
     "name": "stdout",
     "output_type": "stream",
     "text": [
      "\r",
      "Epoch 593/600:  99%|█████████▉| 593/600 [43:19<00:28,  4.11s/it, v_num=bl_1, total_loss_train=856, kl_local_train=52.3, tardis_age_0_train=13, tardis_integration_donor_0_train=15.1]"
     ]
    },
    {
     "name": "stdout",
     "output_type": "stream",
     "text": [
      "\r",
      "Epoch 594/600:  99%|█████████▉| 593/600 [43:19<00:28,  4.11s/it, v_num=bl_1, total_loss_train=856, kl_local_train=52.3, tardis_age_0_train=13, tardis_integration_donor_0_train=15.1]"
     ]
    },
    {
     "name": "stdout",
     "output_type": "stream",
     "text": [
      "\r",
      "Epoch 594/600:  99%|█████████▉| 594/600 [43:23<00:24,  4.10s/it, v_num=bl_1, total_loss_train=856, kl_local_train=52.3, tardis_age_0_train=13, tardis_integration_donor_0_train=15.1]"
     ]
    },
    {
     "name": "stdout",
     "output_type": "stream",
     "text": [
      "\r",
      "Epoch 594/600:  99%|█████████▉| 594/600 [43:23<00:24,  4.10s/it, v_num=bl_1, total_loss_train=857, kl_local_train=52.4, tardis_age_0_train=13, tardis_integration_donor_0_train=15.1]"
     ]
    },
    {
     "name": "stdout",
     "output_type": "stream",
     "text": [
      "\r",
      "Epoch 595/600:  99%|█████████▉| 594/600 [43:23<00:24,  4.10s/it, v_num=bl_1, total_loss_train=857, kl_local_train=52.4, tardis_age_0_train=13, tardis_integration_donor_0_train=15.1]"
     ]
    },
    {
     "name": "stdout",
     "output_type": "stream",
     "text": [
      "\r",
      "Epoch 595/600:  99%|█████████▉| 595/600 [43:27<00:20,  4.09s/it, v_num=bl_1, total_loss_train=857, kl_local_train=52.4, tardis_age_0_train=13, tardis_integration_donor_0_train=15.1]"
     ]
    },
    {
     "name": "stdout",
     "output_type": "stream",
     "text": [
      "\r",
      "Epoch 595/600:  99%|█████████▉| 595/600 [43:27<00:20,  4.09s/it, v_num=bl_1, total_loss_train=856, kl_local_train=52.2, tardis_age_0_train=13.2, tardis_integration_donor_0_train=15]"
     ]
    },
    {
     "name": "stdout",
     "output_type": "stream",
     "text": [
      "\r",
      "Epoch 596/600:  99%|█████████▉| 595/600 [43:27<00:20,  4.09s/it, v_num=bl_1, total_loss_train=856, kl_local_train=52.2, tardis_age_0_train=13.2, tardis_integration_donor_0_train=15]"
     ]
    },
    {
     "name": "stdout",
     "output_type": "stream",
     "text": [
      "\r",
      "Epoch 596/600:  99%|█████████▉| 596/600 [43:31<00:16,  4.10s/it, v_num=bl_1, total_loss_train=856, kl_local_train=52.2, tardis_age_0_train=13.2, tardis_integration_donor_0_train=15]"
     ]
    },
    {
     "name": "stdout",
     "output_type": "stream",
     "text": [
      "\r",
      "Epoch 596/600:  99%|█████████▉| 596/600 [43:31<00:16,  4.10s/it, v_num=bl_1, total_loss_train=857, kl_local_train=52.3, tardis_age_0_train=13.1, tardis_integration_donor_0_train=15.2]"
     ]
    },
    {
     "name": "stdout",
     "output_type": "stream",
     "text": [
      "\r",
      "Epoch 597/600:  99%|█████████▉| 596/600 [43:31<00:16,  4.10s/it, v_num=bl_1, total_loss_train=857, kl_local_train=52.3, tardis_age_0_train=13.1, tardis_integration_donor_0_train=15.2]"
     ]
    },
    {
     "name": "stdout",
     "output_type": "stream",
     "text": [
      "\r",
      "Epoch 597/600: 100%|█████████▉| 597/600 [43:35<00:12,  4.10s/it, v_num=bl_1, total_loss_train=857, kl_local_train=52.3, tardis_age_0_train=13.1, tardis_integration_donor_0_train=15.2]"
     ]
    },
    {
     "name": "stdout",
     "output_type": "stream",
     "text": [
      "\r",
      "Epoch 597/600: 100%|█████████▉| 597/600 [43:35<00:12,  4.10s/it, v_num=bl_1, total_loss_train=856, kl_local_train=52.2, tardis_age_0_train=13.1, tardis_integration_donor_0_train=15.1]"
     ]
    },
    {
     "name": "stdout",
     "output_type": "stream",
     "text": [
      "\r",
      "Epoch 598/600: 100%|█████████▉| 597/600 [43:35<00:12,  4.10s/it, v_num=bl_1, total_loss_train=856, kl_local_train=52.2, tardis_age_0_train=13.1, tardis_integration_donor_0_train=15.1]"
     ]
    },
    {
     "name": "stdout",
     "output_type": "stream",
     "text": [
      "\r",
      "Epoch 598/600: 100%|█████████▉| 598/600 [43:39<00:08,  4.08s/it, v_num=bl_1, total_loss_train=856, kl_local_train=52.2, tardis_age_0_train=13.1, tardis_integration_donor_0_train=15.1]"
     ]
    },
    {
     "name": "stdout",
     "output_type": "stream",
     "text": [
      "\r",
      "Epoch 598/600: 100%|█████████▉| 598/600 [43:39<00:08,  4.08s/it, v_num=bl_1, total_loss_train=856, kl_local_train=52.3, tardis_age_0_train=13, tardis_integration_donor_0_train=15.1]  "
     ]
    },
    {
     "name": "stdout",
     "output_type": "stream",
     "text": [
      "\r",
      "Epoch 599/600: 100%|█████████▉| 598/600 [43:39<00:08,  4.08s/it, v_num=bl_1, total_loss_train=856, kl_local_train=52.3, tardis_age_0_train=13, tardis_integration_donor_0_train=15.1]"
     ]
    },
    {
     "name": "stdout",
     "output_type": "stream",
     "text": [
      "\r",
      "Epoch 599/600: 100%|█████████▉| 599/600 [43:43<00:04,  4.09s/it, v_num=bl_1, total_loss_train=856, kl_local_train=52.3, tardis_age_0_train=13, tardis_integration_donor_0_train=15.1]"
     ]
    },
    {
     "name": "stdout",
     "output_type": "stream",
     "text": [
      "\r",
      "Epoch 599/600: 100%|█████████▉| 599/600 [43:43<00:04,  4.09s/it, v_num=bl_1, total_loss_train=856, kl_local_train=52.2, tardis_age_0_train=13.1, tardis_integration_donor_0_train=15.1]"
     ]
    },
    {
     "name": "stdout",
     "output_type": "stream",
     "text": [
      "\r",
      "Epoch 600/600: 100%|█████████▉| 599/600 [43:43<00:04,  4.09s/it, v_num=bl_1, total_loss_train=856, kl_local_train=52.2, tardis_age_0_train=13.1, tardis_integration_donor_0_train=15.1]"
     ]
    },
    {
     "name": "stdout",
     "output_type": "stream",
     "text": [
      "\r",
      "Epoch 600/600: 100%|██████████| 600/600 [43:47<00:00,  4.09s/it, v_num=bl_1, total_loss_train=856, kl_local_train=52.2, tardis_age_0_train=13.1, tardis_integration_donor_0_train=15.1]"
     ]
    },
    {
     "name": "stdout",
     "output_type": "stream",
     "text": [
      "\r",
      "Epoch 600/600: 100%|██████████| 600/600 [43:47<00:00,  4.09s/it, v_num=bl_1, total_loss_train=856, kl_local_train=52.3, tardis_age_0_train=13.1, tardis_integration_donor_0_train=15.1]"
     ]
    },
    {
     "name": "stderr",
     "output_type": "stream",
     "text": [
      "`Trainer.fit` stopped: `max_epochs=600` reached.\n"
     ]
    },
    {
     "name": "stdout",
     "output_type": "stream",
     "text": [
      "\r",
      "Epoch 600/600: 100%|██████████| 600/600 [43:47<00:00,  4.38s/it, v_num=bl_1, total_loss_train=856, kl_local_train=52.3, tardis_age_0_train=13.1, tardis_integration_donor_0_train=15.1]"
     ]
    },
    {
     "name": "stdout",
     "output_type": "stream",
     "text": [
      "\n"
     ]
    },
    {
     "name": "stdout",
     "output_type": "stream",
     "text": [
      "W&B logger finalized successfully: \n",
      "Exit Code: 0\n",
      "\n"
     ]
    }
   ],
   "source": [
    "n_epochs_kl_warmup = 600\n",
    "\n",
    "model_params = dict(\n",
    "    n_hidden=512,\n",
    "    n_layers=3, \n",
    "    n_latent=(24 + 8 * len(disentenglement_targets_configurations)), \n",
    "    gene_likelihood = \"nb\",\n",
    "    use_batch_norm = \"none\",\n",
    "    use_layer_norm = \"both\",\n",
    "    dropout_rate = 0.25,\n",
    "    deeply_inject_disentengled_latents = True,\n",
    "    include_auxillary_loss = True,\n",
    "    beta_kl_weight = 0.5,\n",
    "    encode_covariates=False,\n",
    ")\n",
    "\n",
    "train_params = dict(\n",
    "    max_epochs=600,\n",
    "    train_size=0.8,\n",
    "    batch_size=128,\n",
    "    check_val_every_n_epoch=10,\n",
    "    limit_train_batches=1.0, \n",
    "    limit_val_batches=1.0,\n",
    "    learning_rate_monitor=True,\n",
    "    # early stopping:\n",
    "    early_stopping=False,\n",
    "    early_stopping_patience=150,\n",
    "    early_stopping_monitor=\"elbo_train\",\n",
    "    plan_kwargs = dict(\n",
    "        n_epochs_kl_warmup=n_epochs_kl_warmup,\n",
    "        lr=1e-4,\n",
    "        weight_decay=1e-4,\n",
    "        optimizer=\"AdamW\",\n",
    "        # lr-scheduler:\n",
    "        reduce_lr_on_plateau=True,\n",
    "        lr_patience=100,\n",
    "        lr_scheduler_metric=\"elbo_train\",\n",
    "    )\n",
    ")\n",
    "\n",
    "dataset_params = dict(\n",
    "    layer=None, \n",
    "    labels_key=\"cell_type\",\n",
    "    batch_key=None,\n",
    "    categorical_covariate_keys=None,\n",
    "    disentenglement_targets_configurations=disentenglement_targets_configurations,\n",
    ")\n",
    "\n",
    "tardis.MyModel.setup_anndata(adata, **dataset_params)\n",
    "dataset_params[\"adata_path\"] = adata_file_path\n",
    "dataset_params[\"adata\"] = os.path.split(adata_file_path)[1]\n",
    "\n",
    "tardis.MyModel.setup_wandb(\n",
    "    wandb_configurations=tardis.config.wandb,\n",
    "    hyperparams=dict(\n",
    "        model_params=model_params,\n",
    "        train_params=train_params,\n",
    "        dataset_params=dataset_params,\n",
    "    )\n",
    ")\n",
    "\n",
    "vae = tardis.MyModel(\n",
    "    adata,\n",
    "    **model_params\n",
    ")\n",
    "vae.train(**train_params)"
   ]
  },
  {
   "cell_type": "code",
   "execution_count": null,
   "id": "aa39520a-27f2-4fe5-a951-0ed92125deac",
   "metadata": {},
   "outputs": [],
   "source": [
    "vae.save(\n",
    "    dir_path,\n",
    "    overwrite=True,\n",
    ")"
   ]
  },
  {
   "cell_type": "code",
   "execution_count": null,
   "id": "45216c0c",
   "metadata": {},
   "outputs": [],
   "source": [
    "from tardis._disentanglementmanager import DisentanglementManager as DM"
   ]
  },
  {
   "cell_type": "code",
   "execution_count": null,
   "id": "a2b8fce7",
   "metadata": {},
   "outputs": [],
   "source": [
    "vae.get_MI_normalized_training(\"age\")"
   ]
  },
  {
   "cell_type": "code",
   "execution_count": null,
   "id": "8ff3f83e",
   "metadata": {},
   "outputs": [],
   "source": [
    "vae.get_MI_normalized_training(\"integration_donor\")"
   ]
  },
  {
   "cell_type": "code",
   "execution_count": null,
   "id": "e58080de",
   "metadata": {},
   "outputs": [],
   "source": [
    "vae.get_knn_purity_training(\"age\")"
   ]
  },
  {
   "cell_type": "code",
   "execution_count": null,
   "id": "c76ee287",
   "metadata": {},
   "outputs": [],
   "source": [
    "vae.get_knn_purity_training(\"integration_donor\")"
   ]
  },
  {
   "cell_type": "code",
   "execution_count": null,
   "id": "e211fc8e",
   "metadata": {},
   "outputs": [],
   "source": [
    "vae.get_reconstruction_r2_training(batch_size=256)"
   ]
  },
  {
   "cell_type": "code",
   "execution_count": null,
   "id": "94a03c6e",
   "metadata": {},
   "outputs": [],
   "source": [
    "# Convert string to integers\n",
    "adata.obs['age_continuous'] = adata.obs['age'].astype(float)\n",
    "adata.obs['age_training'] = adata.obs['age_continuous'].rank(method='dense').astype(int)"
   ]
  },
  {
   "cell_type": "code",
   "execution_count": null,
   "id": "f0ab6797-bc42-411f-a84e-49d866b7b4c7",
   "metadata": {},
   "outputs": [],
   "source": [
    "adata.obs[\"validation\"] = \"train\"\n",
    "adata.obs[\"validation\"].iloc[vae.validation_indices] = \"validation\""
   ]
  },
  {
   "cell_type": "code",
   "execution_count": null,
   "id": "814fbd31",
   "metadata": {},
   "outputs": [],
   "source": [
    "adata.obs[['age_training', 'age']].value_counts()"
   ]
  },
  {
   "cell_type": "code",
   "execution_count": null,
   "id": "679f3f8f-051a-44f5-a4d5-7ef14e1dd574",
   "metadata": {},
   "outputs": [],
   "source": [
    "latent = ad.AnnData(X=vae.get_latent_representation(), obs=adata.obs.copy())\n",
    "sc.pp.neighbors(latent)\n",
    "sc.tl.umap(latent)"
   ]
  },
  {
   "cell_type": "code",
   "execution_count": null,
   "id": "3aa31068-3f2d-44f4-9dff-d3da80b59b30",
   "metadata": {},
   "outputs": [],
   "source": [
    "with warnings.catch_warnings():\n",
    "    warnings.simplefilter(\"ignore\")\n",
    "    sc.pl.umap(\n",
    "        latent, \n",
    "        color=[\"age\", \"integration_donor\", \"sex\", \"validation\"], \n",
    "        ncols=3,\n",
    "        frameon=False,\n",
    "        color_map=\"inferno\",\n",
    "        legend_fontsize=\"xx-small\"\n",
    "    )"
   ]
  },
  {
   "cell_type": "code",
   "execution_count": null,
   "id": "180c59f1",
   "metadata": {},
   "outputs": [],
   "source": [
    "from tardis._disentanglementmanager import DisentanglementManager as DM"
   ]
  },
  {
   "cell_type": "code",
   "execution_count": null,
   "id": "a444f732",
   "metadata": {},
   "outputs": [],
   "source": [
    "latent = ad.AnnData(X=vae.get_latent_representation()[:, DM.configurations.get_by_obs_key(\"age\").reserved_latent_indices], obs=adata.obs.copy())\n",
    "sc.pp.neighbors(latent)\n",
    "sc.tl.umap(latent)\n",
    "with warnings.catch_warnings():\n",
    "    warnings.simplefilter(\"ignore\")\n",
    "    sc.pl.umap(\n",
    "        latent, \n",
    "        color=[\"age\", \"integration_donor\", \"sex\", \"validation\"], \n",
    "        ncols=3,\n",
    "        frameon=False,\n",
    "        color_map=\"inferno\",\n",
    "        legend_fontsize=\"xx-small\"\n",
    "    )"
   ]
  },
  {
   "cell_type": "code",
   "execution_count": null,
   "id": "c334dd40",
   "metadata": {},
   "outputs": [],
   "source": [
    "latent = ad.AnnData(X=vae.get_latent_representation()[:, DM.configurations.get_by_obs_key(\"integration_donor\").reserved_latent_indices], obs=adata.obs.copy())\n",
    "sc.pp.neighbors(latent)\n",
    "sc.tl.umap(latent)\n",
    "with warnings.catch_warnings():\n",
    "    warnings.simplefilter(\"ignore\")\n",
    "    sc.pl.umap(\n",
    "        latent, \n",
    "        color=[\"age\", \"integration_donor\", \"sex\", \"validation\"], \n",
    "        ncols=3,\n",
    "        frameon=False,\n",
    "        color_map=\"inferno\",\n",
    "        legend_fontsize=\"xx-small\"\n",
    "    )"
   ]
  },
  {
   "cell_type": "code",
   "execution_count": null,
   "id": "c46136f3-5c49-4dbb-80ef-75591570deac",
   "metadata": {},
   "outputs": [],
   "source": [
    "adata_main = ad.read_h5ad(adata_file_path)\n",
    "adata_main.obs[\"age\"] = adata_main.obs[\"age\"].astype(\"str\").astype(\"category\")\n",
    "adata_main.obs[\"ood\"] = choices_bool.astype(int).astype(str)\n",
    "adata_main.obs[\"ood\"] = adata_main.obs[\"ood\"].astype(\"category\")\n",
    "\n",
    "adata_ood = adata_main[adata_main.obs[\"ood\"] == \"1\"].copy()"
   ]
  },
  {
   "cell_type": "code",
   "execution_count": null,
   "id": "7033224f",
   "metadata": {},
   "outputs": [],
   "source": [
    "# latent_main = ad.AnnData(X=vae.get_latent_representation(adata_main)[:, DM.configurations.get_by_obs_key(\"age\").reserved_latent_indices], obs=adata_main.obs.copy())\n",
    "latent_main = ad.AnnData(X=vae.get_latent_representation(adata_main), obs=adata_main.obs.copy())\n",
    "sc.pp.neighbors(latent_main, n_neighbors = 30)\n",
    "sc.tl.umap(latent_main)"
   ]
  },
  {
   "cell_type": "code",
   "execution_count": null,
   "id": "80a0fcdf",
   "metadata": {},
   "outputs": [],
   "source": [
    "with warnings.catch_warnings():\n",
    "    warnings.simplefilter(\"ignore\")\n",
    "    sc.pl.umap(\n",
    "        latent_main, \n",
    "        color=[\"age\", \"integration_donor\", \"sex\", \"ood\"], \n",
    "        ncols=3,\n",
    "        frameon=False,\n",
    "        color_map=\"inferno\",\n",
    "        legend_fontsize=\"xx-small\"\n",
    "    )"
   ]
  },
  {
   "cell_type": "code",
   "execution_count": null,
   "id": "0e622238-530c-4aec-ba85-e6ca5644ea2c",
   "metadata": {},
   "outputs": [
    {
     "data": {
      "text/plain": [
       "{'accuracy': 0.7928994082840237,\n",
       " 'precision_macro': 0.3333333333333333,\n",
       " 'recall_macro': 0.26429980276134124,\n",
       " 'f1_score_macro': 0.29482948294829486,\n",
       " 'precision_micro': 0.7928994082840237,\n",
       " 'recall_micro': 0.7928994082840237,\n",
       " 'f1_score_micro': 0.7928994082840237,\n",
       " 'precision_weighted': 1.0,\n",
       " 'recall_weighted': 0.7928994082840237,\n",
       " 'f1_score_weighted': 0.8844884488448845,\n",
       " 'confusion_matrix': array([[134,  30,   5],\n",
       "        [  0,   0,   0],\n",
       "        [  0,   0,   0]])}"
      ]
     },
     "execution_count": 32,
     "metadata": {},
     "output_type": "execute_result"
    }
   ],
   "source": [
    "k = \"age\"\n",
    "\n",
    "latent = ad.AnnData(X=vae.get_latent_representation(adata)[:, DM.configurations.get_by_obs_key(k).reserved_latent_indices], obs=adata.obs.copy())\n",
    "sc.pp.neighbors(latent)\n",
    "latent_ood = ad.AnnData(X=vae.get_latent_representation(adata_ood)[:, DM.configurations.get_by_obs_key(k).reserved_latent_indices], obs=adata_ood.obs.copy())\n",
    "sc.pp.neighbors(latent_ood)\n",
    "sc.tl.umap(latent_ood)\n",
    "label_transfer(latent, latent_ood, cluster_list=[k], neighbors_count=30)\n",
    "predicted = latent_ood.obs[f\"transf_{k}\"].astype(str).values\n",
    "true = latent_ood.obs[k].astype(str).values\n",
    "\n",
    "metrics = {}\n",
    "metrics['accuracy'] = sklearn.metrics.accuracy_score(true, predicted)\n",
    "metrics['precision_macro'] = sklearn.metrics.precision_score(true, predicted, average='macro', zero_division=0)\n",
    "metrics['recall_macro'] = sklearn.metrics.recall_score(true, predicted, average='macro', zero_division=0)\n",
    "metrics['f1_score_macro'] = sklearn.metrics.f1_score(true, predicted, average='macro', zero_division=0)\n",
    "metrics['precision_micro'] = sklearn.metrics.precision_score(true, predicted, average='micro', zero_division=0)\n",
    "metrics['recall_micro'] = sklearn.metrics.recall_score(true, predicted, average='micro', zero_division=0)\n",
    "metrics['f1_score_micro'] = sklearn.metrics.f1_score(true, predicted, average='micro', zero_division=0)\n",
    "metrics['precision_weighted'] = sklearn.metrics.precision_score(true, predicted, average='weighted', zero_division=0)\n",
    "metrics['recall_weighted'] = sklearn.metrics.recall_score(true, predicted, average='weighted', zero_division=0)\n",
    "metrics['f1_score_weighted'] = sklearn.metrics.f1_score(true, predicted, average='weighted', zero_division=0)\n",
    "metrics['confusion_matrix'] = sklearn.metrics.confusion_matrix(true, predicted)\n",
    "\n",
    "t = latent_main.obs[k].astype(str).to_numpy().copy()\n",
    "dummy_clf = DummyClassifier(strategy=\"most_frequent\")\n",
    "dummy_clf.fit(t.reshape(-1, 1), t)\n",
    "dummy_predictions = dummy_clf.predict(t.reshape(-1, 1))\n",
    "print(\"Baseline Accuracy:\", sklearn.metrics.accuracy_score(t, dummy_predictions))\n",
    "print(\"F1 Weighted:\", sklearn.metrics.f1_score(t, dummy_predictions, average='weighted', zero_division=0))\n",
    "print()\n",
    "t = latent_main.obs[k].astype(str).to_numpy().copy()\n",
    "dummy_clf = DummyClassifier(strategy=\"stratified\")\n",
    "dummy_clf.fit(t.reshape(-1, 1), t)\n",
    "dummy_predictions = dummy_clf.predict(t.reshape(-1, 1))\n",
    "print(\"Baseline Accuracy:\", sklearn.metrics.accuracy_score(t, dummy_predictions))\n",
    "print(\"F1 Weighted:\", sklearn.metrics.f1_score(t, dummy_predictions, average='weighted', zero_division=0))\n",
    "print()\n",
    "metrics"
   ]
  },
  {
   "cell_type": "code",
   "execution_count": null,
   "id": "2f5b0b51-98b9-4b95-bb13-6d3c5710de9f",
   "metadata": {},
   "outputs": [],
   "source": [
    "with warnings.catch_warnings():\n",
    "    warnings.simplefilter(\"ignore\")\n",
    "    sc.pl.umap(\n",
    "        latent_ood, \n",
    "        color=[k, f\"transf_{k}\", f\"transf_{k}_unc\", \"cell_type\"], \n",
    "        ncols=4,\n",
    "        frameon=False,\n",
    "        color_map=\"inferno\",\n",
    "        legend_fontsize=\"xx-small\"\n",
    "    )"
   ]
  },
  {
   "cell_type": "code",
   "execution_count": null,
   "id": "95dace57",
   "metadata": {},
   "outputs": [],
   "source": [
    "k = \"integration_donor\"\n",
    "\n",
    "latent = ad.AnnData(X=vae.get_latent_representation(adata)[:, DM.configurations.get_by_obs_key(k).reserved_latent_indices], obs=adata.obs.copy())\n",
    "sc.pp.neighbors(latent)\n",
    "latent_ood = ad.AnnData(X=vae.get_latent_representation(adata_ood)[:, DM.configurations.get_by_obs_key(k).reserved_latent_indices], obs=adata_ood.obs.copy())\n",
    "sc.pp.neighbors(latent_ood)\n",
    "sc.tl.umap(latent_ood)\n",
    "label_transfer(latent, latent_ood, cluster_list=[k], neighbors_count=30)\n",
    "predicted = latent_ood.obs[f\"transf_{k}\"].astype(str).values\n",
    "true = latent_ood.obs[k].astype(str).values\n",
    "\n",
    "metrics = {}\n",
    "metrics['accuracy'] = sklearn.metrics.accuracy_score(true, predicted)\n",
    "metrics['precision_macro'] = sklearn.metrics.precision_score(true, predicted, average='macro', zero_division=0)\n",
    "metrics['recall_macro'] = sklearn.metrics.recall_score(true, predicted, average='macro', zero_division=0)\n",
    "metrics['f1_score_macro'] = sklearn.metrics.f1_score(true, predicted, average='macro', zero_division=0)\n",
    "metrics['precision_micro'] = sklearn.metrics.precision_score(true, predicted, average='micro', zero_division=0)\n",
    "metrics['recall_micro'] = sklearn.metrics.recall_score(true, predicted, average='micro', zero_division=0)\n",
    "metrics['f1_score_micro'] = sklearn.metrics.f1_score(true, predicted, average='micro', zero_division=0)\n",
    "metrics['precision_weighted'] = sklearn.metrics.precision_score(true, predicted, average='weighted', zero_division=0)\n",
    "metrics['recall_weighted'] = sklearn.metrics.recall_score(true, predicted, average='weighted', zero_division=0)\n",
    "metrics['f1_score_weighted'] = sklearn.metrics.f1_score(true, predicted, average='weighted', zero_division=0)\n",
    "metrics['confusion_matrix'] = sklearn.metrics.confusion_matrix(true, predicted)\n",
    "\n",
    "t = latent_main.obs[k].astype(str).to_numpy().copy()\n",
    "dummy_clf = DummyClassifier(strategy=\"most_frequent\")\n",
    "dummy_clf.fit(t.reshape(-1, 1), t)\n",
    "dummy_predictions = dummy_clf.predict(t.reshape(-1, 1))\n",
    "print(\"Baseline Accuracy:\", sklearn.metrics.accuracy_score(t, dummy_predictions))\n",
    "print(\"F1 Weighted:\", sklearn.metrics.f1_score(t, dummy_predictions, average='weighted', zero_division=0))\n",
    "print()\n",
    "t = latent_main.obs[k].astype(str).to_numpy().copy()\n",
    "dummy_clf = DummyClassifier(strategy=\"stratified\")\n",
    "dummy_clf.fit(t.reshape(-1, 1), t)\n",
    "dummy_predictions = dummy_clf.predict(t.reshape(-1, 1))\n",
    "print(\"Baseline Accuracy:\", sklearn.metrics.accuracy_score(t, dummy_predictions))\n",
    "print(\"F1 Weighted:\", sklearn.metrics.f1_score(t, dummy_predictions, average='weighted', zero_division=0))\n",
    "print()\n",
    "metrics"
   ]
  },
  {
   "cell_type": "code",
   "execution_count": null,
   "id": "887d3c8c",
   "metadata": {},
   "outputs": [],
   "source": [
    "with warnings.catch_warnings():\n",
    "    warnings.simplefilter(\"ignore\")\n",
    "    sc.pl.umap(\n",
    "        latent_ood, \n",
    "        color=[k, f\"transf_{k}\", f\"transf_{k}_unc\", \"cell_type\"], \n",
    "        ncols=4,\n",
    "        frameon=False,\n",
    "        color_map=\"inferno\",\n",
    "        legend_fontsize=\"xx-small\"\n",
    "    )"
   ]
  },
  {
   "cell_type": "code",
   "execution_count": null,
   "id": "26a1628c-70fc-4870-a53d-c460a201aa95",
   "metadata": {},
   "outputs": [],
   "source": []
  },
  {
   "cell_type": "code",
   "execution_count": null,
   "id": "91d1cff9-93ab-4117-aebb-c762b422da13",
   "metadata": {},
   "outputs": [],
   "source": []
  }
 ],
 "metadata": {
  "kernelspec": {
   "display_name": "Python 3 (ipykernel)",
   "language": "python",
   "name": "python3"
  },
  "language_info": {
   "codemirror_mode": {
    "name": "ipython",
    "version": 3
   },
   "file_extension": ".py",
   "mimetype": "text/x-python",
   "name": "python",
   "nbconvert_exporter": "python",
   "pygments_lexer": "ipython3",
   "version": "3.10.14"
  }
 },
 "nbformat": 4,
 "nbformat_minor": 5
}
