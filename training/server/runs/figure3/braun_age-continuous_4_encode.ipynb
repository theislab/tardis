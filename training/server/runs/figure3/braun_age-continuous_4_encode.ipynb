{
 "cells": [
  {
   "cell_type": "markdown",
   "id": "7a174ddf-1bac-4261-a2df-155cc7e8fc31",
   "metadata": {},
   "source": [
    "# Suo"
   ]
  },
  {
   "cell_type": "code",
   "execution_count": null,
   "id": "bd13e0f4-b441-4653-bf08-f2812d58f844",
   "metadata": {},
   "outputs": [],
   "source": [
    "import warnings\n",
    "import os\n",
    "import sys\n",
    "import gc\n",
    "import warnings"
   ]
  },
  {
   "cell_type": "code",
   "execution_count": null,
   "id": "0d362b42-a27d-486f-9c83-f52a59bfc6a5",
   "metadata": {},
   "outputs": [],
   "source": [
    "import anndata as ad\n",
    "import scanpy as sc\n",
    "import copy\n",
    "import torch\n",
    "from pathlib import Path\n",
    "import networkx as nx\n",
    "from sklearn.neighbors import kneighbors_graph\n",
    "import rapids_singlecell as rsc\n",
    "import numpy as np\n",
    "import scanpy as sc\n",
    "import pandas as pd\n",
    "import numpy as np\n",
    "import scipy.stats\n",
    "\n",
    "sys.path.append(\"/home/icb/kemal.inecik/work/codes/tardis\")\n",
    "import tardis\n",
    "tardis.config = tardis.config_server"
   ]
  },
  {
   "cell_type": "code",
   "execution_count": null,
   "id": "6e834108-5b88-402d-94c9-c8002c7a927a",
   "metadata": {},
   "outputs": [],
   "source": [
    "print(f\"CUDA used: {torch.cuda.is_available()}\")"
   ]
  },
  {
   "cell_type": "code",
   "execution_count": null,
   "id": "f0a8fa63-54f9-4cc9-aa2c-e2f1ce8ec9e8",
   "metadata": {},
   "outputs": [],
   "source": [
    "%matplotlib inline\n",
    "%config InlineBackend.figure_format='retina'\n",
    "import matplotlib.pyplot as plt\n",
    "import seaborn as sns\n",
    "\n",
    "import pickle\n",
    "_rcparams_path = \"/home/icb/kemal.inecik/work/codes/tardis/training/local/figures/rcparams.pickle\"\n",
    "with open(_rcparams_path, 'rb') as file:\n",
    "    _rcparams = pickle.load(file)\n",
    "plt.rcParams.update(_rcparams)"
   ]
  },
  {
   "cell_type": "code",
   "execution_count": null,
   "id": "ea9ee642-93ef-4cbc-b83c-5e9f16122b7d",
   "metadata": {},
   "outputs": [
    {
     "name": "stdout",
     "output_type": "stream",
     "text": [
      "AnnData object with n_obs × n_vars = 73697 × 8192\n",
      "    obs: 'sample_ID', 'organ', 'age', 'cell_type', 'sex', 'sex_inferred', 'concatenated_integration_covariates', 'integration_donor', 'integration_biological_unit', 'integration_sample_status', 'integration_library_platform_coarse', 'n_genes', 'age_categorical'\n",
      "    uns: 'rank_genes_groups'\n",
      "    obsm: 'Unintegrated', 'X_pca', 'harmony'\n"
     ]
    }
   ],
   "source": [
    "adata_file_path = os.path.join(tardis.config.io_directories[\"processed\"], \"dataset_complete_Braun_age.h5ad\")\n",
    "assert os.path.isfile(adata_file_path), f\"File not already exist: `{adata_file_path}`\"\n",
    "adata = ad.read_h5ad(adata_file_path)\n",
    "adata.obs[\"age\"] = adata.obs[\"age\"].astype(float)\n",
    "adata.obs[\"age_categorical\"] = adata.obs[\"age\"].astype(str)\n",
    "d = {i: ind for ind, i in enumerate(sorted(adata.obs[\"age\"].astype(float).unique()))}\n",
    "adata.obs[\"age_training\"] = [d[float(i)] for i in adata.obs[\"age\"]]\n",
    "print(adata_file_path, flush=True)\n",
    "print(adata, flush=True)"
   ]
  },
  {
   "cell_type": "code",
   "execution_count": null,
   "id": "fd461c79",
   "metadata": {},
   "outputs": [],
   "source": [
    "model_level_metrics = [\n",
    "    dict(\n",
    "        metric_identifier = \"metric_mi|age_categorical\",\n",
    "        training_set = [\"train\", \"validation\"],\n",
    "        every_n_epoch = 5,\n",
    "        subsample = 0.25,\n",
    "        progress_bar = True,\n",
    "        metric_kwargs = dict(\n",
    "            variation = \"normalized\",\n",
    "            discretization_bins = 512,\n",
    "            latent_subset=None,\n",
    "            reduce=np.mean\n",
    "        )\n",
    "    )\n",
    "]"
   ]
  },
  {
   "cell_type": "code",
   "execution_count": null,
   "id": "c43333cc-9e19-469f-8452-11ff5ee08db9",
   "metadata": {},
   "outputs": [],
   "source": [
    "warmup_epoch_range = [6, 48]\n",
    "dtc_w1 = 100\n",
    "dtc_w2 = 10\n",
    "\n",
    "counteractive_minibatch_settings = dict(\n",
    "    method = \"categorical_random\",\n",
    "    method_kwargs = dict(\n",
    "        within_labels = False,\n",
    "        within_batch = False,\n",
    "        within_categorical_covs = None,\n",
    "        seed = \"forward\",\n",
    "    )\n",
    ")\n",
    "\n",
    "disentenglement_targets_configurations=[\n",
    "    dict(\n",
    "        obs_key = \"age_training\",\n",
    "        n_reserved_latent = 8,\n",
    "        counteractive_minibatch_settings = counteractive_minibatch_settings,\n",
    "        auxillary_losses = [\n",
    "            dict(\n",
    "                apply = True, \n",
    "                target_type=\"pseudo_categorical\",\n",
    "                non_categorical_coefficient_method=\"squared_difference\",\n",
    "                progress_bar = False,\n",
    "                weight = dtc_w1,\n",
    "                method = \"mse_z\", \n",
    "                latent_group = \"reserved\",\n",
    "                counteractive_example = \"negative\",\n",
    "                transformation = \"inverse\", \n",
    "                warmup_epoch_range=warmup_epoch_range,\n",
    "                method_kwargs = {}\n",
    "            ),\n",
    "            dict(\n",
    "                apply = True, \n",
    "                target_type=\"categorical\",\n",
    "                progress_bar = False,\n",
    "                weight = dtc_w2, \n",
    "                method = \"mse_z\", \n",
    "                latent_group = \"reserved\",\n",
    "                counteractive_example = \"positive\",\n",
    "                transformation = \"none\",\n",
    "                warmup_epoch_range=warmup_epoch_range,\n",
    "                method_kwargs = {}\n",
    "            ),\n",
    "            dict(\n",
    "                apply = True, \n",
    "                target_type=\"categorical\",\n",
    "                progress_bar = False,\n",
    "                weight = dtc_w2 * 1,\n",
    "                method = \"mse_z\", \n",
    "                latent_group = \"unreserved_complete\",\n",
    "                counteractive_example = \"negative\",\n",
    "                transformation = \"none\", \n",
    "                warmup_epoch_range=warmup_epoch_range,\n",
    "                method_kwargs = {}\n",
    "            ),\n",
    "            dict(\n",
    "                apply = True, \n",
    "                target_type=\"categorical\",\n",
    "                progress_bar = False,\n",
    "                weight = dtc_w1 * 1, \n",
    "                method = \"mse_z\", \n",
    "                latent_group = \"unreserved_complete\",\n",
    "                counteractive_example = \"positive\",\n",
    "                transformation = \"inverse\",\n",
    "                warmup_epoch_range=warmup_epoch_range,\n",
    "                method_kwargs = {}\n",
    "            ),\n",
    "        ]\n",
    "    )\n",
    "]"
   ]
  },
  {
   "cell_type": "code",
   "execution_count": null,
   "id": "af1962de-51e8-453c-907a-b338c1f82f88",
   "metadata": {
    "scrolled": true
   },
   "outputs": [
    {
     "name": "stderr",
     "output_type": "stream",
     "text": [
      "`Trainer(limit_val_batches=1.0)` was configured so 100% of the batches will be used..\n"
     ]
    },
    {
     "name": "stderr",
     "output_type": "stream",
     "text": [
      "/home/icb/kemal.inecik/tools/apps/mamba/envs/tardis_env/lib/python3.10/site-packages/lightning/fabric/plugins/environments/slurm.py:168: The `srun` command is available on your system but is not used. HINT: If your intention is to run Lightning on SLURM, prepend your python command with `srun` like so: srun python /home/icb/kemal.inecik/tools/apps/mamba/envs/tardis_ ...\n",
      "/home/icb/kemal.inecik/tools/apps/mamba/envs/tardis_env/lib/python3.10/site-packages/torch/optim/lr_scheduler.py:28: UserWarning: The verbose parameter is deprecated. Please use get_last_lr() to access the learning rate.\n",
      "  warnings.warn(\"The verbose parameter is deprecated. Please use get_last_lr() \"\n"
     ]
    },
    {
     "name": "stdout",
     "output_type": "stream",
     "text": [
      "\r\n",
      "Training:   0%|          | 0/600 [00:00<?, ?it/s]"
     ]
    },
    {
     "name": "stdout",
     "output_type": "stream",
     "text": [
      "\r\n",
      "Epoch 1/600:   0%|          | 0/600 [00:00<?, ?it/s]"
     ]
    },
    {
     "name": "stderr",
     "output_type": "stream",
     "text": [
      "/home/icb/kemal.inecik/work/codes/tardis/tardis/_counteractivegenerator.py:237: UserWarning: Possible group definition indices are calculated for `age_categorical` for `training` set. Number of elements in each group: 4795,7526,5776,6703,15222,18936\n",
      "  possible_indices = CachedPossibleGroupDefinitionIndices.get(\n"
     ]
    },
    {
     "name": "stderr",
     "output_type": "stream",
     "text": [
      "/home/icb/kemal.inecik/work/codes/tardis/tardis/_counteractivegenerator.py:237: UserWarning: Possible group definition indices are calculated for `age_categorical` for `validation` set. Number of elements in each group: 1218,1918,1543,1641,3743,4676\n",
      "  possible_indices = CachedPossibleGroupDefinitionIndices.get(\n"
     ]
    },
    {
     "name": "stdout",
     "output_type": "stream",
     "text": [
      "\r\n",
      "Epoch 1/600:   0%|          | 1/600 [01:00<10:04:17, 60.53s/it]"
     ]
    },
    {
     "name": "stdout",
     "output_type": "stream",
     "text": [
      "\r\n",
      "Epoch 1/600:   0%|          | 1/600 [01:00<10:04:17, 60.53s/it, v_num=7x_1, total_loss_train=628, kl_local_train=29.9]"
     ]
    },
    {
     "name": "stdout",
     "output_type": "stream",
     "text": [
      "\r\n",
      "Epoch 2/600:   0%|          | 1/600 [01:00<10:04:17, 60.53s/it, v_num=7x_1, total_loss_train=628, kl_local_train=29.9]"
     ]
    },
    {
     "name": "stdout",
     "output_type": "stream",
     "text": [
      "\r\n",
      "Epoch 2/600:   0%|          | 2/600 [01:58<9:47:20, 58.93s/it, v_num=7x_1, total_loss_train=628, kl_local_train=29.9] "
     ]
    },
    {
     "name": "stdout",
     "output_type": "stream",
     "text": [
      "\r\n",
      "Epoch 2/600:   0%|          | 2/600 [01:58<9:47:20, 58.93s/it, v_num=7x_1, total_loss_train=479, kl_local_train=56.2]"
     ]
    },
    {
     "name": "stdout",
     "output_type": "stream",
     "text": [
      "\r\n",
      "Epoch 3/600:   0%|          | 2/600 [01:58<9:47:20, 58.93s/it, v_num=7x_1, total_loss_train=479, kl_local_train=56.2]"
     ]
    },
    {
     "name": "stdout",
     "output_type": "stream",
     "text": [
      "\r\n",
      "Epoch 3/600:   0%|          | 3/600 [02:56<9:43:14, 58.62s/it, v_num=7x_1, total_loss_train=479, kl_local_train=56.2]"
     ]
    },
    {
     "name": "stdout",
     "output_type": "stream",
     "text": [
      "\r\n",
      "Epoch 3/600:   0%|          | 3/600 [02:56<9:43:14, 58.62s/it, v_num=7x_1, total_loss_train=454, kl_local_train=67.1]"
     ]
    },
    {
     "name": "stdout",
     "output_type": "stream",
     "text": [
      "\r\n",
      "Epoch 4/600:   0%|          | 3/600 [02:56<9:43:14, 58.62s/it, v_num=7x_1, total_loss_train=454, kl_local_train=67.1]"
     ]
    },
    {
     "name": "stdout",
     "output_type": "stream",
     "text": [
      "\r\n",
      "Epoch 4/600:   1%|          | 4/600 [03:54<9:39:58, 58.39s/it, v_num=7x_1, total_loss_train=454, kl_local_train=67.1]"
     ]
    },
    {
     "name": "stdout",
     "output_type": "stream",
     "text": [
      "\r\n",
      "Epoch 4/600:   1%|          | 4/600 [03:54<9:39:58, 58.39s/it, v_num=7x_1, total_loss_train=444, kl_local_train=72.1]"
     ]
    },
    {
     "name": "stdout",
     "output_type": "stream",
     "text": [
      "\r\n",
      "Epoch 5/600:   1%|          | 4/600 [03:54<9:39:58, 58.39s/it, v_num=7x_1, total_loss_train=444, kl_local_train=72.1]"
     ]
    },
    {
     "name": "stdout",
     "output_type": "stream",
     "text": [
      "\r\n",
      "Epoch 5/600:   1%|          | 5/600 [04:53<9:39:30, 58.44s/it, v_num=7x_1, total_loss_train=444, kl_local_train=72.1]"
     ]
    },
    {
     "name": "stdout",
     "output_type": "stream",
     "text": [
      "\r\n",
      "Epoch 5/600:   1%|          | 5/600 [04:53<9:39:30, 58.44s/it, v_num=7x_1, total_loss_train=439, kl_local_train=74.1]"
     ]
    },
    {
     "name": "stdout",
     "output_type": "stream",
     "text": [
      "\r\n",
      "Epoch 6/600:   1%|          | 5/600 [04:53<9:39:30, 58.44s/it, v_num=7x_1, total_loss_train=439, kl_local_train=74.1]"
     ]
    },
    {
     "name": "stdout",
     "output_type": "stream",
     "text": [
      "\r\n",
      "Epoch 6/600:   1%|          | 6/600 [05:46<9:20:01, 56.57s/it, v_num=7x_1, total_loss_train=439, kl_local_train=74.1]"
     ]
    },
    {
     "name": "stdout",
     "output_type": "stream",
     "text": [
      "\r\n",
      "Epoch 6/600:   1%|          | 6/600 [05:46<9:20:01, 56.57s/it, v_num=7x_1, total_loss_train=436, kl_local_train=73.8, metric_mi|age_categorical_train=0.0677]"
     ]
    },
    {
     "name": "stdout",
     "output_type": "stream",
     "text": [
      "\r\n",
      "Epoch 7/600:   1%|          | 6/600 [05:46<9:20:01, 56.57s/it, v_num=7x_1, total_loss_train=436, kl_local_train=73.8, metric_mi|age_categorical_train=0.0677]"
     ]
    },
    {
     "name": "stdout",
     "output_type": "stream",
     "text": [
      "\r\n",
      "Epoch 7/600:   1%|          | 7/600 [06:38<9:04:15, 55.07s/it, v_num=7x_1, total_loss_train=436, kl_local_train=73.8, metric_mi|age_categorical_train=0.0677]"
     ]
    },
    {
     "name": "stdout",
     "output_type": "stream",
     "text": [
      "\r\n",
      "Epoch 7/600:   1%|          | 7/600 [06:38<9:04:15, 55.07s/it, v_num=7x_1, total_loss_train=433, kl_local_train=72.8, metric_mi|age_categorical_train=0.0677]"
     ]
    },
    {
     "name": "stdout",
     "output_type": "stream",
     "text": [
      "\r\n",
      "Epoch 8/600:   1%|          | 7/600 [06:38<9:04:15, 55.07s/it, v_num=7x_1, total_loss_train=433, kl_local_train=72.8, metric_mi|age_categorical_train=0.0677]"
     ]
    },
    {
     "name": "stdout",
     "output_type": "stream",
     "text": [
      "\r\n",
      "Epoch 8/600:   1%|▏         | 8/600 [07:30<8:54:26, 54.17s/it, v_num=7x_1, total_loss_train=433, kl_local_train=72.8, metric_mi|age_categorical_train=0.0677]"
     ]
    },
    {
     "name": "stdout",
     "output_type": "stream",
     "text": [
      "\r\n",
      "Epoch 8/600:   1%|▏         | 8/600 [07:30<8:54:26, 54.17s/it, v_num=7x_1, total_loss_train=445, kl_local_train=84.4, metric_mi|age_categorical_train=0.0677]"
     ]
    },
    {
     "name": "stdout",
     "output_type": "stream",
     "text": [
      "\r\n",
      "Epoch 9/600:   1%|▏         | 8/600 [07:30<8:54:26, 54.17s/it, v_num=7x_1, total_loss_train=445, kl_local_train=84.4, metric_mi|age_categorical_train=0.0677]"
     ]
    },
    {
     "name": "stdout",
     "output_type": "stream",
     "text": [
      "\r\n",
      "Epoch 9/600:   2%|▏         | 9/600 [08:22<8:48:27, 53.65s/it, v_num=7x_1, total_loss_train=445, kl_local_train=84.4, metric_mi|age_categorical_train=0.0677]"
     ]
    },
    {
     "name": "stdout",
     "output_type": "stream",
     "text": [
      "\r\n",
      "Epoch 9/600:   2%|▏         | 9/600 [08:22<8:48:27, 53.65s/it, v_num=7x_1, total_loss_train=454, kl_local_train=73.1, metric_mi|age_categorical_train=0.0677]"
     ]
    },
    {
     "name": "stdout",
     "output_type": "stream",
     "text": [
      "\r\n",
      "Epoch 10/600:   2%|▏         | 9/600 [08:22<8:48:27, 53.65s/it, v_num=7x_1, total_loss_train=454, kl_local_train=73.1, metric_mi|age_categorical_train=0.0677]"
     ]
    },
    {
     "name": "stdout",
     "output_type": "stream",
     "text": [
      "\r\n",
      "Epoch 10/600:   2%|▏         | 10/600 [09:15<8:46:04, 53.50s/it, v_num=7x_1, total_loss_train=454, kl_local_train=73.1, metric_mi|age_categorical_train=0.0677]"
     ]
    },
    {
     "name": "stdout",
     "output_type": "stream",
     "text": [
      "\r\n",
      "Epoch 10/600:   2%|▏         | 10/600 [09:15<8:46:04, 53.50s/it, v_num=7x_1, total_loss_train=462, kl_local_train=66.2, metric_mi|age_categorical_train=0.0677]"
     ]
    },
    {
     "name": "stdout",
     "output_type": "stream",
     "text": [
      "\r\n",
      "Epoch 11/600:   2%|▏         | 10/600 [09:16<8:46:04, 53.50s/it, v_num=7x_1, total_loss_train=462, kl_local_train=66.2, metric_mi|age_categorical_train=0.0677]"
     ]
    },
    {
     "name": "stdout",
     "output_type": "stream",
     "text": [
      "\r\n",
      "Epoch 11/600:   2%|▏         | 11/600 [10:09<8:44:15, 53.40s/it, v_num=7x_1, total_loss_train=462, kl_local_train=66.2, metric_mi|age_categorical_train=0.0677]"
     ]
    },
    {
     "name": "stdout",
     "output_type": "stream",
     "text": [
      "\r\n",
      "Epoch 11/600:   2%|▏         | 11/600 [10:09<8:44:15, 53.40s/it, v_num=7x_1, total_loss_train=471, kl_local_train=63.2, metric_mi|age_categorical_train=0.0679]"
     ]
    },
    {
     "name": "stdout",
     "output_type": "stream",
     "text": [
      "\r\n",
      "Epoch 12/600:   2%|▏         | 11/600 [10:09<8:44:15, 53.40s/it, v_num=7x_1, total_loss_train=471, kl_local_train=63.2, metric_mi|age_categorical_train=0.0679]"
     ]
    },
    {
     "name": "stdout",
     "output_type": "stream",
     "text": [
      "\r\n",
      "Epoch 12/600:   2%|▏         | 12/600 [11:01<8:40:56, 53.16s/it, v_num=7x_1, total_loss_train=471, kl_local_train=63.2, metric_mi|age_categorical_train=0.0679]"
     ]
    },
    {
     "name": "stdout",
     "output_type": "stream",
     "text": [
      "\r\n",
      "Epoch 12/600:   2%|▏         | 12/600 [11:01<8:40:56, 53.16s/it, v_num=7x_1, total_loss_train=480, kl_local_train=62.4, metric_mi|age_categorical_train=0.0679]"
     ]
    },
    {
     "name": "stdout",
     "output_type": "stream",
     "text": [
      "\r\n",
      "Epoch 13/600:   2%|▏         | 12/600 [11:01<8:40:56, 53.16s/it, v_num=7x_1, total_loss_train=480, kl_local_train=62.4, metric_mi|age_categorical_train=0.0679]"
     ]
    },
    {
     "name": "stdout",
     "output_type": "stream",
     "text": [
      "\r\n",
      "Epoch 13/600:   2%|▏         | 13/600 [11:52<8:34:09, 52.55s/it, v_num=7x_1, total_loss_train=480, kl_local_train=62.4, metric_mi|age_categorical_train=0.0679]"
     ]
    },
    {
     "name": "stdout",
     "output_type": "stream",
     "text": [
      "\r\n",
      "Epoch 13/600:   2%|▏         | 13/600 [11:52<8:34:09, 52.55s/it, v_num=7x_1, total_loss_train=490, kl_local_train=63, metric_mi|age_categorical_train=0.0679]  "
     ]
    },
    {
     "name": "stdout",
     "output_type": "stream",
     "text": [
      "\r\n",
      "Epoch 14/600:   2%|▏         | 13/600 [11:52<8:34:09, 52.55s/it, v_num=7x_1, total_loss_train=490, kl_local_train=63, metric_mi|age_categorical_train=0.0679]"
     ]
    },
    {
     "name": "stdout",
     "output_type": "stream",
     "text": [
      "\r\n",
      "Epoch 14/600:   2%|▏         | 14/600 [12:41<8:20:27, 51.24s/it, v_num=7x_1, total_loss_train=490, kl_local_train=63, metric_mi|age_categorical_train=0.0679]"
     ]
    },
    {
     "name": "stdout",
     "output_type": "stream",
     "text": [
      "\r\n",
      "Epoch 14/600:   2%|▏         | 14/600 [12:41<8:20:27, 51.24s/it, v_num=7x_1, total_loss_train=499, kl_local_train=63.7, metric_mi|age_categorical_train=0.0679]"
     ]
    },
    {
     "name": "stdout",
     "output_type": "stream",
     "text": [
      "\r\n",
      "Epoch 15/600:   2%|▏         | 14/600 [12:41<8:20:27, 51.24s/it, v_num=7x_1, total_loss_train=499, kl_local_train=63.7, metric_mi|age_categorical_train=0.0679]"
     ]
    },
    {
     "name": "stdout",
     "output_type": "stream",
     "text": [
      "\r\n",
      "Epoch 15/600:   2%|▎         | 15/600 [13:30<8:13:16, 50.59s/it, v_num=7x_1, total_loss_train=499, kl_local_train=63.7, metric_mi|age_categorical_train=0.0679]"
     ]
    },
    {
     "name": "stdout",
     "output_type": "stream",
     "text": [
      "\r\n",
      "Epoch 15/600:   2%|▎         | 15/600 [13:30<8:13:16, 50.59s/it, v_num=7x_1, total_loss_train=508, kl_local_train=64.5, metric_mi|age_categorical_train=0.0679]"
     ]
    },
    {
     "name": "stdout",
     "output_type": "stream",
     "text": [
      "\r\n",
      "Epoch 16/600:   2%|▎         | 15/600 [13:30<8:13:16, 50.59s/it, v_num=7x_1, total_loss_train=508, kl_local_train=64.5, metric_mi|age_categorical_train=0.0679]"
     ]
    },
    {
     "name": "stdout",
     "output_type": "stream",
     "text": [
      "\r\n",
      "Epoch 16/600:   3%|▎         | 16/600 [14:22<8:17:59, 51.16s/it, v_num=7x_1, total_loss_train=508, kl_local_train=64.5, metric_mi|age_categorical_train=0.0679]"
     ]
    },
    {
     "name": "stdout",
     "output_type": "stream",
     "text": [
      "\r\n",
      "Epoch 16/600:   3%|▎         | 16/600 [14:22<8:17:59, 51.16s/it, v_num=7x_1, total_loss_train=518, kl_local_train=66.4, metric_mi|age_categorical_train=0.0661]"
     ]
    },
    {
     "name": "stdout",
     "output_type": "stream",
     "text": [
      "\r\n",
      "Epoch 17/600:   3%|▎         | 16/600 [14:22<8:17:59, 51.16s/it, v_num=7x_1, total_loss_train=518, kl_local_train=66.4, metric_mi|age_categorical_train=0.0661]"
     ]
    },
    {
     "name": "stdout",
     "output_type": "stream",
     "text": [
      "\r\n",
      "Epoch 17/600:   3%|▎         | 17/600 [15:14<8:19:52, 51.44s/it, v_num=7x_1, total_loss_train=518, kl_local_train=66.4, metric_mi|age_categorical_train=0.0661]"
     ]
    },
    {
     "name": "stdout",
     "output_type": "stream",
     "text": [
      "\r\n",
      "Epoch 17/600:   3%|▎         | 17/600 [15:14<8:19:52, 51.44s/it, v_num=7x_1, total_loss_train=527, kl_local_train=68.3, metric_mi|age_categorical_train=0.0661]"
     ]
    },
    {
     "name": "stdout",
     "output_type": "stream",
     "text": [
      "\r\n",
      "Epoch 18/600:   3%|▎         | 17/600 [15:14<8:19:52, 51.44s/it, v_num=7x_1, total_loss_train=527, kl_local_train=68.3, metric_mi|age_categorical_train=0.0661]"
     ]
    },
    {
     "name": "stdout",
     "output_type": "stream",
     "text": [
      "\r\n",
      "Epoch 18/600:   3%|▎         | 18/600 [16:07<8:22:23, 51.79s/it, v_num=7x_1, total_loss_train=527, kl_local_train=68.3, metric_mi|age_categorical_train=0.0661]"
     ]
    },
    {
     "name": "stdout",
     "output_type": "stream",
     "text": [
      "\r\n",
      "Epoch 18/600:   3%|▎         | 18/600 [16:07<8:22:23, 51.79s/it, v_num=7x_1, total_loss_train=536, kl_local_train=71.7, metric_mi|age_categorical_train=0.0661]"
     ]
    },
    {
     "name": "stdout",
     "output_type": "stream",
     "text": [
      "\r\n",
      "Epoch 19/600:   3%|▎         | 18/600 [16:07<8:22:23, 51.79s/it, v_num=7x_1, total_loss_train=536, kl_local_train=71.7, metric_mi|age_categorical_train=0.0661]"
     ]
    },
    {
     "name": "stdout",
     "output_type": "stream",
     "text": [
      "\r\n",
      "Epoch 19/600:   3%|▎         | 19/600 [16:59<8:23:04, 51.95s/it, v_num=7x_1, total_loss_train=536, kl_local_train=71.7, metric_mi|age_categorical_train=0.0661]"
     ]
    },
    {
     "name": "stdout",
     "output_type": "stream",
     "text": [
      "\r\n",
      "Epoch 19/600:   3%|▎         | 19/600 [16:59<8:23:04, 51.95s/it, v_num=7x_1, total_loss_train=546, kl_local_train=77.3, metric_mi|age_categorical_train=0.0661]"
     ]
    },
    {
     "name": "stdout",
     "output_type": "stream",
     "text": [
      "\r\n",
      "Epoch 20/600:   3%|▎         | 19/600 [16:59<8:23:04, 51.95s/it, v_num=7x_1, total_loss_train=546, kl_local_train=77.3, metric_mi|age_categorical_train=0.0661]"
     ]
    },
    {
     "name": "stdout",
     "output_type": "stream",
     "text": [
      "\r\n",
      "Epoch 20/600:   3%|▎         | 20/600 [17:52<8:25:42, 52.31s/it, v_num=7x_1, total_loss_train=546, kl_local_train=77.3, metric_mi|age_categorical_train=0.0661]"
     ]
    },
    {
     "name": "stdout",
     "output_type": "stream",
     "text": [
      "\r\n",
      "Epoch 20/600:   3%|▎         | 20/600 [17:52<8:25:42, 52.31s/it, v_num=7x_1, total_loss_train=555, kl_local_train=84.4, metric_mi|age_categorical_train=0.0661]"
     ]
    },
    {
     "name": "stdout",
     "output_type": "stream",
     "text": [
      "\r\n",
      "Epoch 21/600:   3%|▎         | 20/600 [17:53<8:25:42, 52.31s/it, v_num=7x_1, total_loss_train=555, kl_local_train=84.4, metric_mi|age_categorical_train=0.0661]"
     ]
    },
    {
     "name": "stdout",
     "output_type": "stream",
     "text": [
      "\r\n",
      "Epoch 21/600:   4%|▎         | 21/600 [18:46<8:29:03, 52.75s/it, v_num=7x_1, total_loss_train=555, kl_local_train=84.4, metric_mi|age_categorical_train=0.0661]"
     ]
    },
    {
     "name": "stdout",
     "output_type": "stream",
     "text": [
      "\r\n",
      "Epoch 21/600:   4%|▎         | 21/600 [18:46<8:29:03, 52.75s/it, v_num=7x_1, total_loss_train=564, kl_local_train=96.7, metric_mi|age_categorical_train=0.0667]"
     ]
    },
    {
     "name": "stdout",
     "output_type": "stream",
     "text": [
      "\r\n",
      "Epoch 22/600:   4%|▎         | 21/600 [18:46<8:29:03, 52.75s/it, v_num=7x_1, total_loss_train=564, kl_local_train=96.7, metric_mi|age_categorical_train=0.0667]"
     ]
    },
    {
     "name": "stdout",
     "output_type": "stream",
     "text": [
      "\r\n",
      "Epoch 22/600:   4%|▎         | 22/600 [19:39<8:28:06, 52.74s/it, v_num=7x_1, total_loss_train=564, kl_local_train=96.7, metric_mi|age_categorical_train=0.0667]"
     ]
    },
    {
     "name": "stdout",
     "output_type": "stream",
     "text": [
      "\r\n",
      "Epoch 22/600:   4%|▎         | 22/600 [19:39<8:28:06, 52.74s/it, v_num=7x_1, total_loss_train=569, kl_local_train=119, metric_mi|age_categorical_train=0.0667] "
     ]
    },
    {
     "name": "stdout",
     "output_type": "stream",
     "text": [
      "\r\n",
      "Epoch 23/600:   4%|▎         | 22/600 [19:39<8:28:06, 52.74s/it, v_num=7x_1, total_loss_train=569, kl_local_train=119, metric_mi|age_categorical_train=0.0667]"
     ]
    },
    {
     "name": "stdout",
     "output_type": "stream",
     "text": [
      "\r\n",
      "Epoch 23/600:   4%|▍         | 23/600 [20:32<8:27:57, 52.82s/it, v_num=7x_1, total_loss_train=569, kl_local_train=119, metric_mi|age_categorical_train=0.0667]"
     ]
    },
    {
     "name": "stdout",
     "output_type": "stream",
     "text": [
      "\r\n",
      "Epoch 23/600:   4%|▍         | 23/600 [20:32<8:27:57, 52.82s/it, v_num=7x_1, total_loss_train=550, kl_local_train=166, metric_mi|age_categorical_train=0.0667]"
     ]
    },
    {
     "name": "stdout",
     "output_type": "stream",
     "text": [
      "\r\n",
      "Epoch 24/600:   4%|▍         | 23/600 [20:32<8:27:57, 52.82s/it, v_num=7x_1, total_loss_train=550, kl_local_train=166, metric_mi|age_categorical_train=0.0667]"
     ]
    },
    {
     "name": "stdout",
     "output_type": "stream",
     "text": [
      "\r\n",
      "Epoch 24/600:   4%|▍         | 24/600 [21:24<8:26:10, 52.73s/it, v_num=7x_1, total_loss_train=550, kl_local_train=166, metric_mi|age_categorical_train=0.0667]"
     ]
    },
    {
     "name": "stdout",
     "output_type": "stream",
     "text": [
      "\r\n",
      "Epoch 24/600:   4%|▍         | 24/600 [21:24<8:26:10, 52.73s/it, v_num=7x_1, total_loss_train=532, kl_local_train=222, metric_mi|age_categorical_train=0.0667]"
     ]
    },
    {
     "name": "stdout",
     "output_type": "stream",
     "text": [
      "\r\n",
      "Epoch 25/600:   4%|▍         | 24/600 [21:24<8:26:10, 52.73s/it, v_num=7x_1, total_loss_train=532, kl_local_train=222, metric_mi|age_categorical_train=0.0667]"
     ]
    },
    {
     "name": "stdout",
     "output_type": "stream",
     "text": [
      "\r\n",
      "Epoch 25/600:   4%|▍         | 25/600 [22:18<8:28:23, 53.05s/it, v_num=7x_1, total_loss_train=532, kl_local_train=222, metric_mi|age_categorical_train=0.0667]"
     ]
    },
    {
     "name": "stdout",
     "output_type": "stream",
     "text": [
      "\r\n",
      "Epoch 25/600:   4%|▍         | 25/600 [22:18<8:28:23, 53.05s/it, v_num=7x_1, total_loss_train=530, kl_local_train=267, metric_mi|age_categorical_train=0.0667]"
     ]
    },
    {
     "name": "stdout",
     "output_type": "stream",
     "text": [
      "\r\n",
      "Epoch 26/600:   4%|▍         | 25/600 [22:19<8:28:23, 53.05s/it, v_num=7x_1, total_loss_train=530, kl_local_train=267, metric_mi|age_categorical_train=0.0667]"
     ]
    },
    {
     "name": "stdout",
     "output_type": "stream",
     "text": [
      "\r\n",
      "Epoch 26/600:   4%|▍         | 26/600 [23:12<8:28:59, 53.21s/it, v_num=7x_1, total_loss_train=530, kl_local_train=267, metric_mi|age_categorical_train=0.0667]"
     ]
    },
    {
     "name": "stdout",
     "output_type": "stream",
     "text": [
      "\r\n",
      "Epoch 26/600:   4%|▍         | 26/600 [23:12<8:28:59, 53.21s/it, v_num=7x_1, total_loss_train=531, kl_local_train=290, metric_mi|age_categorical_train=0.113] "
     ]
    },
    {
     "name": "stdout",
     "output_type": "stream",
     "text": [
      "\r\n",
      "Epoch 27/600:   4%|▍         | 26/600 [23:12<8:28:59, 53.21s/it, v_num=7x_1, total_loss_train=531, kl_local_train=290, metric_mi|age_categorical_train=0.113]"
     ]
    },
    {
     "name": "stdout",
     "output_type": "stream",
     "text": [
      "\r\n",
      "Epoch 27/600:   4%|▍         | 27/600 [24:05<8:27:15, 53.12s/it, v_num=7x_1, total_loss_train=531, kl_local_train=290, metric_mi|age_categorical_train=0.113]"
     ]
    },
    {
     "name": "stdout",
     "output_type": "stream",
     "text": [
      "\r\n",
      "Epoch 27/600:   4%|▍         | 27/600 [24:05<8:27:15, 53.12s/it, v_num=7x_1, total_loss_train=531, kl_local_train=311, metric_mi|age_categorical_train=0.113]"
     ]
    },
    {
     "name": "stdout",
     "output_type": "stream",
     "text": [
      "\r\n",
      "Epoch 28/600:   4%|▍         | 27/600 [24:05<8:27:15, 53.12s/it, v_num=7x_1, total_loss_train=531, kl_local_train=311, metric_mi|age_categorical_train=0.113]"
     ]
    },
    {
     "name": "stdout",
     "output_type": "stream",
     "text": [
      "\r\n",
      "Epoch 28/600:   5%|▍         | 28/600 [24:57<8:24:46, 52.95s/it, v_num=7x_1, total_loss_train=531, kl_local_train=311, metric_mi|age_categorical_train=0.113]"
     ]
    },
    {
     "name": "stdout",
     "output_type": "stream",
     "text": [
      "\r\n",
      "Epoch 28/600:   5%|▍         | 28/600 [24:57<8:24:46, 52.95s/it, v_num=7x_1, total_loss_train=532, kl_local_train=326, metric_mi|age_categorical_train=0.113]"
     ]
    },
    {
     "name": "stdout",
     "output_type": "stream",
     "text": [
      "\r\n",
      "Epoch 29/600:   5%|▍         | 28/600 [24:57<8:24:46, 52.95s/it, v_num=7x_1, total_loss_train=532, kl_local_train=326, metric_mi|age_categorical_train=0.113]"
     ]
    },
    {
     "name": "stdout",
     "output_type": "stream",
     "text": [
      "\r\n",
      "Epoch 29/600:   5%|▍         | 29/600 [25:50<8:22:57, 52.85s/it, v_num=7x_1, total_loss_train=532, kl_local_train=326, metric_mi|age_categorical_train=0.113]"
     ]
    },
    {
     "name": "stdout",
     "output_type": "stream",
     "text": [
      "\r\n",
      "Epoch 29/600:   5%|▍         | 29/600 [25:50<8:22:57, 52.85s/it, v_num=7x_1, total_loss_train=534, kl_local_train=345, metric_mi|age_categorical_train=0.113]"
     ]
    },
    {
     "name": "stdout",
     "output_type": "stream",
     "text": [
      "\r\n",
      "Epoch 30/600:   5%|▍         | 29/600 [25:50<8:22:57, 52.85s/it, v_num=7x_1, total_loss_train=534, kl_local_train=345, metric_mi|age_categorical_train=0.113]"
     ]
    },
    {
     "name": "stdout",
     "output_type": "stream",
     "text": [
      "\r\n",
      "Epoch 30/600:   5%|▌         | 30/600 [26:43<8:24:00, 53.05s/it, v_num=7x_1, total_loss_train=534, kl_local_train=345, metric_mi|age_categorical_train=0.113]"
     ]
    },
    {
     "name": "stdout",
     "output_type": "stream",
     "text": [
      "\r\n",
      "Epoch 30/600:   5%|▌         | 30/600 [26:43<8:24:00, 53.05s/it, v_num=7x_1, total_loss_train=535, kl_local_train=360, metric_mi|age_categorical_train=0.113]"
     ]
    },
    {
     "name": "stdout",
     "output_type": "stream",
     "text": [
      "\r\n",
      "Epoch 31/600:   5%|▌         | 30/600 [26:44<8:24:00, 53.05s/it, v_num=7x_1, total_loss_train=535, kl_local_train=360, metric_mi|age_categorical_train=0.113]"
     ]
    },
    {
     "name": "stdout",
     "output_type": "stream",
     "text": [
      "\r\n",
      "Epoch 31/600:   5%|▌         | 31/600 [27:37<8:26:02, 53.36s/it, v_num=7x_1, total_loss_train=535, kl_local_train=360, metric_mi|age_categorical_train=0.113]"
     ]
    },
    {
     "name": "stdout",
     "output_type": "stream",
     "text": [
      "\r\n",
      "Epoch 31/600:   5%|▌         | 31/600 [27:37<8:26:02, 53.36s/it, v_num=7x_1, total_loss_train=538, kl_local_train=379, metric_mi|age_categorical_train=0.126]"
     ]
    },
    {
     "name": "stdout",
     "output_type": "stream",
     "text": [
      "\r\n",
      "Epoch 32/600:   5%|▌         | 31/600 [27:37<8:26:02, 53.36s/it, v_num=7x_1, total_loss_train=538, kl_local_train=379, metric_mi|age_categorical_train=0.126]"
     ]
    },
    {
     "name": "stdout",
     "output_type": "stream",
     "text": [
      "\r\n",
      "Epoch 32/600:   5%|▌         | 32/600 [28:30<8:22:14, 53.05s/it, v_num=7x_1, total_loss_train=538, kl_local_train=379, metric_mi|age_categorical_train=0.126]"
     ]
    },
    {
     "name": "stdout",
     "output_type": "stream",
     "text": [
      "\r\n",
      "Epoch 32/600:   5%|▌         | 32/600 [28:30<8:22:14, 53.05s/it, v_num=7x_1, total_loss_train=537, kl_local_train=381, metric_mi|age_categorical_train=0.126]"
     ]
    },
    {
     "name": "stdout",
     "output_type": "stream",
     "text": [
      "\r\n",
      "Epoch 33/600:   5%|▌         | 32/600 [28:30<8:22:14, 53.05s/it, v_num=7x_1, total_loss_train=537, kl_local_train=381, metric_mi|age_categorical_train=0.126]"
     ]
    },
    {
     "name": "stdout",
     "output_type": "stream",
     "text": [
      "\r\n",
      "Epoch 33/600:   6%|▌         | 33/600 [29:22<8:18:59, 52.80s/it, v_num=7x_1, total_loss_train=537, kl_local_train=381, metric_mi|age_categorical_train=0.126]"
     ]
    },
    {
     "name": "stdout",
     "output_type": "stream",
     "text": [
      "\r\n",
      "Epoch 33/600:   6%|▌         | 33/600 [29:22<8:18:59, 52.80s/it, v_num=7x_1, total_loss_train=539, kl_local_train=391, metric_mi|age_categorical_train=0.126]"
     ]
    },
    {
     "name": "stdout",
     "output_type": "stream",
     "text": [
      "\r\n",
      "Epoch 34/600:   6%|▌         | 33/600 [29:22<8:18:59, 52.80s/it, v_num=7x_1, total_loss_train=539, kl_local_train=391, metric_mi|age_categorical_train=0.126]"
     ]
    },
    {
     "name": "stdout",
     "output_type": "stream",
     "text": [
      "\r\n",
      "Epoch 34/600:   6%|▌         | 34/600 [30:14<8:17:04, 52.69s/it, v_num=7x_1, total_loss_train=539, kl_local_train=391, metric_mi|age_categorical_train=0.126]"
     ]
    },
    {
     "name": "stdout",
     "output_type": "stream",
     "text": [
      "\r\n",
      "Epoch 34/600:   6%|▌         | 34/600 [30:14<8:17:04, 52.69s/it, v_num=7x_1, total_loss_train=541, kl_local_train=388, metric_mi|age_categorical_train=0.126]"
     ]
    },
    {
     "name": "stdout",
     "output_type": "stream",
     "text": [
      "\r\n",
      "Epoch 35/600:   6%|▌         | 34/600 [30:14<8:17:04, 52.69s/it, v_num=7x_1, total_loss_train=541, kl_local_train=388, metric_mi|age_categorical_train=0.126]"
     ]
    },
    {
     "name": "stdout",
     "output_type": "stream",
     "text": [
      "\r\n",
      "Epoch 35/600:   6%|▌         | 35/600 [31:08<8:17:33, 52.84s/it, v_num=7x_1, total_loss_train=541, kl_local_train=388, metric_mi|age_categorical_train=0.126]"
     ]
    },
    {
     "name": "stdout",
     "output_type": "stream",
     "text": [
      "\r\n",
      "Epoch 35/600:   6%|▌         | 35/600 [31:08<8:17:33, 52.84s/it, v_num=7x_1, total_loss_train=540, kl_local_train=384, metric_mi|age_categorical_train=0.126]"
     ]
    },
    {
     "name": "stdout",
     "output_type": "stream",
     "text": [
      "\r\n",
      "Epoch 36/600:   6%|▌         | 35/600 [31:08<8:17:33, 52.84s/it, v_num=7x_1, total_loss_train=540, kl_local_train=384, metric_mi|age_categorical_train=0.126]"
     ]
    },
    {
     "name": "stdout",
     "output_type": "stream",
     "text": [
      "\r\n",
      "Epoch 36/600:   6%|▌         | 36/600 [32:01<8:18:33, 53.04s/it, v_num=7x_1, total_loss_train=540, kl_local_train=384, metric_mi|age_categorical_train=0.126]"
     ]
    },
    {
     "name": "stdout",
     "output_type": "stream",
     "text": [
      "\r\n",
      "Epoch 36/600:   6%|▌         | 36/600 [32:01<8:18:33, 53.04s/it, v_num=7x_1, total_loss_train=542, kl_local_train=388, metric_mi|age_categorical_train=0.137]"
     ]
    },
    {
     "name": "stdout",
     "output_type": "stream",
     "text": [
      "\r\n",
      "Epoch 37/600:   6%|▌         | 36/600 [32:01<8:18:33, 53.04s/it, v_num=7x_1, total_loss_train=542, kl_local_train=388, metric_mi|age_categorical_train=0.137]"
     ]
    },
    {
     "name": "stdout",
     "output_type": "stream",
     "text": [
      "\r\n",
      "Epoch 37/600:   6%|▌         | 37/600 [32:54<8:16:38, 52.93s/it, v_num=7x_1, total_loss_train=542, kl_local_train=388, metric_mi|age_categorical_train=0.137]"
     ]
    },
    {
     "name": "stdout",
     "output_type": "stream",
     "text": [
      "\r\n",
      "Epoch 37/600:   6%|▌         | 37/600 [32:54<8:16:38, 52.93s/it, v_num=7x_1, total_loss_train=543, kl_local_train=383, metric_mi|age_categorical_train=0.137]"
     ]
    },
    {
     "name": "stdout",
     "output_type": "stream",
     "text": [
      "\r\n",
      "Epoch 38/600:   6%|▌         | 37/600 [32:54<8:16:38, 52.93s/it, v_num=7x_1, total_loss_train=543, kl_local_train=383, metric_mi|age_categorical_train=0.137]"
     ]
    },
    {
     "name": "stdout",
     "output_type": "stream",
     "text": [
      "\r\n",
      "Epoch 38/600:   6%|▋         | 38/600 [33:46<8:14:08, 52.76s/it, v_num=7x_1, total_loss_train=543, kl_local_train=383, metric_mi|age_categorical_train=0.137]"
     ]
    },
    {
     "name": "stdout",
     "output_type": "stream",
     "text": [
      "\r\n",
      "Epoch 38/600:   6%|▋         | 38/600 [33:46<8:14:08, 52.76s/it, v_num=7x_1, total_loss_train=545, kl_local_train=385, metric_mi|age_categorical_train=0.137]"
     ]
    },
    {
     "name": "stdout",
     "output_type": "stream",
     "text": [
      "\r\n",
      "Epoch 39/600:   6%|▋         | 38/600 [33:46<8:14:08, 52.76s/it, v_num=7x_1, total_loss_train=545, kl_local_train=385, metric_mi|age_categorical_train=0.137]"
     ]
    },
    {
     "name": "stdout",
     "output_type": "stream",
     "text": [
      "\r\n",
      "Epoch 39/600:   6%|▋         | 39/600 [34:39<8:12:12, 52.64s/it, v_num=7x_1, total_loss_train=545, kl_local_train=385, metric_mi|age_categorical_train=0.137]"
     ]
    },
    {
     "name": "stdout",
     "output_type": "stream",
     "text": [
      "\r\n",
      "Epoch 39/600:   6%|▋         | 39/600 [34:39<8:12:12, 52.64s/it, v_num=7x_1, total_loss_train=546, kl_local_train=385, metric_mi|age_categorical_train=0.137]"
     ]
    },
    {
     "name": "stdout",
     "output_type": "stream",
     "text": [
      "\r\n",
      "Epoch 40/600:   6%|▋         | 39/600 [34:39<8:12:12, 52.64s/it, v_num=7x_1, total_loss_train=546, kl_local_train=385, metric_mi|age_categorical_train=0.137]"
     ]
    },
    {
     "name": "stdout",
     "output_type": "stream",
     "text": [
      "\r\n",
      "Epoch 40/600:   7%|▋         | 40/600 [35:32<8:12:14, 52.74s/it, v_num=7x_1, total_loss_train=546, kl_local_train=385, metric_mi|age_categorical_train=0.137]"
     ]
    },
    {
     "name": "stdout",
     "output_type": "stream",
     "text": [
      "\r\n",
      "Epoch 40/600:   7%|▋         | 40/600 [35:32<8:12:14, 52.74s/it, v_num=7x_1, total_loss_train=546, kl_local_train=372, metric_mi|age_categorical_train=0.137]"
     ]
    },
    {
     "name": "stdout",
     "output_type": "stream",
     "text": [
      "\r\n",
      "Epoch 41/600:   7%|▋         | 40/600 [35:32<8:12:14, 52.74s/it, v_num=7x_1, total_loss_train=546, kl_local_train=372, metric_mi|age_categorical_train=0.137]"
     ]
    },
    {
     "name": "stdout",
     "output_type": "stream",
     "text": [
      "\r\n",
      "Epoch 41/600:   7%|▋         | 41/600 [36:25<8:13:08, 52.93s/it, v_num=7x_1, total_loss_train=546, kl_local_train=372, metric_mi|age_categorical_train=0.137]"
     ]
    },
    {
     "name": "stdout",
     "output_type": "stream",
     "text": [
      "\r\n",
      "Epoch 41/600:   7%|▋         | 41/600 [36:25<8:13:08, 52.93s/it, v_num=7x_1, total_loss_train=548, kl_local_train=373, metric_mi|age_categorical_train=0.159]"
     ]
    },
    {
     "name": "stdout",
     "output_type": "stream",
     "text": [
      "\r\n",
      "Epoch 42/600:   7%|▋         | 41/600 [36:25<8:13:08, 52.93s/it, v_num=7x_1, total_loss_train=548, kl_local_train=373, metric_mi|age_categorical_train=0.159]"
     ]
    },
    {
     "name": "stdout",
     "output_type": "stream",
     "text": [
      "\r\n",
      "Epoch 42/600:   7%|▋         | 42/600 [37:17<8:11:21, 52.83s/it, v_num=7x_1, total_loss_train=548, kl_local_train=373, metric_mi|age_categorical_train=0.159]"
     ]
    },
    {
     "name": "stdout",
     "output_type": "stream",
     "text": [
      "\r\n",
      "Epoch 42/600:   7%|▋         | 42/600 [37:17<8:11:21, 52.83s/it, v_num=7x_1, total_loss_train=548, kl_local_train=362, metric_mi|age_categorical_train=0.159]"
     ]
    },
    {
     "name": "stdout",
     "output_type": "stream",
     "text": [
      "\r\n",
      "Epoch 43/600:   7%|▋         | 42/600 [37:18<8:11:21, 52.83s/it, v_num=7x_1, total_loss_train=548, kl_local_train=362, metric_mi|age_categorical_train=0.159]"
     ]
    },
    {
     "name": "stdout",
     "output_type": "stream",
     "text": [
      "\r\n",
      "Epoch 43/600:   7%|▋         | 43/600 [38:10<8:09:44, 52.76s/it, v_num=7x_1, total_loss_train=548, kl_local_train=362, metric_mi|age_categorical_train=0.159]"
     ]
    },
    {
     "name": "stdout",
     "output_type": "stream",
     "text": [
      "\r\n",
      "Epoch 43/600:   7%|▋         | 43/600 [38:10<8:09:44, 52.76s/it, v_num=7x_1, total_loss_train=549, kl_local_train=347, metric_mi|age_categorical_train=0.159]"
     ]
    },
    {
     "name": "stdout",
     "output_type": "stream",
     "text": [
      "\r\n",
      "Epoch 44/600:   7%|▋         | 43/600 [38:10<8:09:44, 52.76s/it, v_num=7x_1, total_loss_train=549, kl_local_train=347, metric_mi|age_categorical_train=0.159]"
     ]
    },
    {
     "name": "stdout",
     "output_type": "stream",
     "text": [
      "\r\n",
      "Epoch 44/600:   7%|▋         | 44/600 [39:03<8:09:28, 52.82s/it, v_num=7x_1, total_loss_train=549, kl_local_train=347, metric_mi|age_categorical_train=0.159]"
     ]
    },
    {
     "name": "stdout",
     "output_type": "stream",
     "text": [
      "\r\n",
      "Epoch 44/600:   7%|▋         | 44/600 [39:03<8:09:28, 52.82s/it, v_num=7x_1, total_loss_train=550, kl_local_train=342, metric_mi|age_categorical_train=0.159]"
     ]
    },
    {
     "name": "stdout",
     "output_type": "stream",
     "text": [
      "\r\n",
      "Epoch 45/600:   7%|▋         | 44/600 [39:03<8:09:28, 52.82s/it, v_num=7x_1, total_loss_train=550, kl_local_train=342, metric_mi|age_categorical_train=0.159]"
     ]
    },
    {
     "name": "stdout",
     "output_type": "stream",
     "text": [
      "\r\n",
      "Epoch 45/600:   8%|▊         | 45/600 [39:56<8:09:42, 52.94s/it, v_num=7x_1, total_loss_train=550, kl_local_train=342, metric_mi|age_categorical_train=0.159]"
     ]
    },
    {
     "name": "stdout",
     "output_type": "stream",
     "text": [
      "\r\n",
      "Epoch 45/600:   8%|▊         | 45/600 [39:56<8:09:42, 52.94s/it, v_num=7x_1, total_loss_train=552, kl_local_train=347, metric_mi|age_categorical_train=0.159]"
     ]
    },
    {
     "name": "stdout",
     "output_type": "stream",
     "text": [
      "\r\n",
      "Epoch 46/600:   8%|▊         | 45/600 [39:57<8:09:42, 52.94s/it, v_num=7x_1, total_loss_train=552, kl_local_train=347, metric_mi|age_categorical_train=0.159]"
     ]
    },
    {
     "name": "stdout",
     "output_type": "stream",
     "text": [
      "\r\n",
      "Epoch 46/600:   8%|▊         | 46/600 [40:49<8:09:14, 52.99s/it, v_num=7x_1, total_loss_train=552, kl_local_train=347, metric_mi|age_categorical_train=0.159]"
     ]
    },
    {
     "name": "stdout",
     "output_type": "stream",
     "text": [
      "\r\n",
      "Epoch 46/600:   8%|▊         | 46/600 [40:49<8:09:14, 52.99s/it, v_num=7x_1, total_loss_train=554, kl_local_train=342, metric_mi|age_categorical_train=0.172]"
     ]
    },
    {
     "name": "stdout",
     "output_type": "stream",
     "text": [
      "\r\n",
      "Epoch 47/600:   8%|▊         | 46/600 [40:49<8:09:14, 52.99s/it, v_num=7x_1, total_loss_train=554, kl_local_train=342, metric_mi|age_categorical_train=0.172]"
     ]
    },
    {
     "name": "stdout",
     "output_type": "stream",
     "text": [
      "\r\n",
      "Epoch 47/600:   8%|▊         | 47/600 [41:42<8:07:32, 52.90s/it, v_num=7x_1, total_loss_train=554, kl_local_train=342, metric_mi|age_categorical_train=0.172]"
     ]
    },
    {
     "name": "stdout",
     "output_type": "stream",
     "text": [
      "\r\n",
      "Epoch 47/600:   8%|▊         | 47/600 [41:42<8:07:32, 52.90s/it, v_num=7x_1, total_loss_train=555, kl_local_train=339, metric_mi|age_categorical_train=0.172]"
     ]
    },
    {
     "name": "stdout",
     "output_type": "stream",
     "text": [
      "\r\n",
      "Epoch 48/600:   8%|▊         | 47/600 [41:42<8:07:32, 52.90s/it, v_num=7x_1, total_loss_train=555, kl_local_train=339, metric_mi|age_categorical_train=0.172]"
     ]
    },
    {
     "name": "stdout",
     "output_type": "stream",
     "text": [
      "\r\n",
      "Epoch 48/600:   8%|▊         | 48/600 [42:35<8:05:38, 52.79s/it, v_num=7x_1, total_loss_train=555, kl_local_train=339, metric_mi|age_categorical_train=0.172]"
     ]
    },
    {
     "name": "stdout",
     "output_type": "stream",
     "text": [
      "\r\n",
      "Epoch 48/600:   8%|▊         | 48/600 [42:35<8:05:38, 52.79s/it, v_num=7x_1, total_loss_train=558, kl_local_train=331, metric_mi|age_categorical_train=0.172]"
     ]
    },
    {
     "name": "stdout",
     "output_type": "stream",
     "text": [
      "\r\n",
      "Epoch 49/600:   8%|▊         | 48/600 [42:35<8:05:38, 52.79s/it, v_num=7x_1, total_loss_train=558, kl_local_train=331, metric_mi|age_categorical_train=0.172]"
     ]
    },
    {
     "name": "stdout",
     "output_type": "stream",
     "text": [
      "\r\n",
      "Epoch 49/600:   8%|▊         | 49/600 [43:27<8:03:40, 52.67s/it, v_num=7x_1, total_loss_train=558, kl_local_train=331, metric_mi|age_categorical_train=0.172]"
     ]
    },
    {
     "name": "stdout",
     "output_type": "stream",
     "text": [
      "\r\n",
      "Epoch 49/600:   8%|▊         | 49/600 [43:27<8:03:40, 52.67s/it, v_num=7x_1, total_loss_train=559, kl_local_train=325, metric_mi|age_categorical_train=0.172]"
     ]
    },
    {
     "name": "stdout",
     "output_type": "stream",
     "text": [
      "\r\n",
      "Epoch 50/600:   8%|▊         | 49/600 [43:27<8:03:40, 52.67s/it, v_num=7x_1, total_loss_train=559, kl_local_train=325, metric_mi|age_categorical_train=0.172]"
     ]
    },
    {
     "name": "stdout",
     "output_type": "stream",
     "text": [
      "\r\n",
      "Epoch 50/600:   8%|▊         | 50/600 [44:20<8:04:14, 52.83s/it, v_num=7x_1, total_loss_train=559, kl_local_train=325, metric_mi|age_categorical_train=0.172]"
     ]
    },
    {
     "name": "stdout",
     "output_type": "stream",
     "text": [
      "\r\n",
      "Epoch 50/600:   8%|▊         | 50/600 [44:20<8:04:14, 52.83s/it, v_num=7x_1, total_loss_train=561, kl_local_train=322, metric_mi|age_categorical_train=0.172]"
     ]
    },
    {
     "name": "stdout",
     "output_type": "stream",
     "text": [
      "\r\n",
      "Epoch 51/600:   8%|▊         | 50/600 [44:21<8:04:14, 52.83s/it, v_num=7x_1, total_loss_train=561, kl_local_train=322, metric_mi|age_categorical_train=0.172]"
     ]
    },
    {
     "name": "stdout",
     "output_type": "stream",
     "text": [
      "\r\n",
      "Epoch 51/600:   8%|▊         | 51/600 [45:12<8:01:35, 52.63s/it, v_num=7x_1, total_loss_train=561, kl_local_train=322, metric_mi|age_categorical_train=0.172]"
     ]
    },
    {
     "name": "stdout",
     "output_type": "stream",
     "text": [
      "\r\n",
      "Epoch 51/600:   8%|▊         | 51/600 [45:12<8:01:35, 52.63s/it, v_num=7x_1, total_loss_train=560, kl_local_train=314, metric_mi|age_categorical_train=0.196]"
     ]
    },
    {
     "name": "stdout",
     "output_type": "stream",
     "text": [
      "\r\n",
      "Epoch 52/600:   8%|▊         | 51/600 [45:12<8:01:35, 52.63s/it, v_num=7x_1, total_loss_train=560, kl_local_train=314, metric_mi|age_categorical_train=0.196]"
     ]
    },
    {
     "name": "stdout",
     "output_type": "stream",
     "text": [
      "\r\n",
      "Epoch 52/600:   9%|▊         | 52/600 [46:01<7:48:52, 51.34s/it, v_num=7x_1, total_loss_train=560, kl_local_train=314, metric_mi|age_categorical_train=0.196]"
     ]
    },
    {
     "name": "stdout",
     "output_type": "stream",
     "text": [
      "\r\n",
      "Epoch 52/600:   9%|▊         | 52/600 [46:01<7:48:52, 51.34s/it, v_num=7x_1, total_loss_train=559, kl_local_train=309, metric_mi|age_categorical_train=0.196]"
     ]
    },
    {
     "name": "stdout",
     "output_type": "stream",
     "text": [
      "\r\n",
      "Epoch 53/600:   9%|▊         | 52/600 [46:01<7:48:52, 51.34s/it, v_num=7x_1, total_loss_train=559, kl_local_train=309, metric_mi|age_categorical_train=0.196]"
     ]
    },
    {
     "name": "stdout",
     "output_type": "stream",
     "text": [
      "\r\n",
      "Epoch 53/600:   9%|▉         | 53/600 [46:49<7:39:59, 50.46s/it, v_num=7x_1, total_loss_train=559, kl_local_train=309, metric_mi|age_categorical_train=0.196]"
     ]
    },
    {
     "name": "stdout",
     "output_type": "stream",
     "text": [
      "\r\n",
      "Epoch 53/600:   9%|▉         | 53/600 [46:49<7:39:59, 50.46s/it, v_num=7x_1, total_loss_train=558, kl_local_train=301, metric_mi|age_categorical_train=0.196]"
     ]
    },
    {
     "name": "stdout",
     "output_type": "stream",
     "text": [
      "\r\n",
      "Epoch 54/600:   9%|▉         | 53/600 [46:49<7:39:59, 50.46s/it, v_num=7x_1, total_loss_train=558, kl_local_train=301, metric_mi|age_categorical_train=0.196]"
     ]
    },
    {
     "name": "stdout",
     "output_type": "stream",
     "text": [
      "\r\n",
      "Epoch 54/600:   9%|▉         | 54/600 [47:37<7:33:35, 49.84s/it, v_num=7x_1, total_loss_train=558, kl_local_train=301, metric_mi|age_categorical_train=0.196]"
     ]
    },
    {
     "name": "stdout",
     "output_type": "stream",
     "text": [
      "\r\n",
      "Epoch 54/600:   9%|▉         | 54/600 [47:37<7:33:35, 49.84s/it, v_num=7x_1, total_loss_train=555, kl_local_train=291, metric_mi|age_categorical_train=0.196]"
     ]
    },
    {
     "name": "stdout",
     "output_type": "stream",
     "text": [
      "\r\n",
      "Epoch 55/600:   9%|▉         | 54/600 [47:37<7:33:35, 49.84s/it, v_num=7x_1, total_loss_train=555, kl_local_train=291, metric_mi|age_categorical_train=0.196]"
     ]
    },
    {
     "name": "stdout",
     "output_type": "stream",
     "text": [
      "\r\n",
      "Epoch 55/600:   9%|▉         | 55/600 [48:26<7:30:10, 49.56s/it, v_num=7x_1, total_loss_train=555, kl_local_train=291, metric_mi|age_categorical_train=0.196]"
     ]
    },
    {
     "name": "stdout",
     "output_type": "stream",
     "text": [
      "\r\n",
      "Epoch 55/600:   9%|▉         | 55/600 [48:26<7:30:10, 49.56s/it, v_num=7x_1, total_loss_train=554, kl_local_train=283, metric_mi|age_categorical_train=0.196]"
     ]
    },
    {
     "name": "stdout",
     "output_type": "stream",
     "text": [
      "\r\n",
      "Epoch 56/600:   9%|▉         | 55/600 [48:27<7:30:10, 49.56s/it, v_num=7x_1, total_loss_train=554, kl_local_train=283, metric_mi|age_categorical_train=0.196]"
     ]
    },
    {
     "name": "stdout",
     "output_type": "stream",
     "text": [
      "\r\n",
      "Epoch 56/600:   9%|▉         | 56/600 [49:15<7:27:46, 49.39s/it, v_num=7x_1, total_loss_train=554, kl_local_train=283, metric_mi|age_categorical_train=0.196]"
     ]
    },
    {
     "name": "stdout",
     "output_type": "stream",
     "text": [
      "\r\n",
      "Epoch 56/600:   9%|▉         | 56/600 [49:15<7:27:46, 49.39s/it, v_num=7x_1, total_loss_train=554, kl_local_train=280, metric_mi|age_categorical_train=0.208]"
     ]
    },
    {
     "name": "stdout",
     "output_type": "stream",
     "text": [
      "\r\n",
      "Epoch 57/600:   9%|▉         | 56/600 [49:15<7:27:46, 49.39s/it, v_num=7x_1, total_loss_train=554, kl_local_train=280, metric_mi|age_categorical_train=0.208]"
     ]
    },
    {
     "name": "stdout",
     "output_type": "stream",
     "text": [
      "\r\n",
      "Epoch 57/600:  10%|▉         | 57/600 [50:04<7:24:11, 49.08s/it, v_num=7x_1, total_loss_train=554, kl_local_train=280, metric_mi|age_categorical_train=0.208]"
     ]
    },
    {
     "name": "stdout",
     "output_type": "stream",
     "text": [
      "\r\n",
      "Epoch 57/600:  10%|▉         | 57/600 [50:04<7:24:11, 49.08s/it, v_num=7x_1, total_loss_train=554, kl_local_train=274, metric_mi|age_categorical_train=0.208]"
     ]
    },
    {
     "name": "stdout",
     "output_type": "stream",
     "text": [
      "\r\n",
      "Epoch 58/600:  10%|▉         | 57/600 [50:04<7:24:11, 49.08s/it, v_num=7x_1, total_loss_train=554, kl_local_train=274, metric_mi|age_categorical_train=0.208]"
     ]
    },
    {
     "name": "stdout",
     "output_type": "stream",
     "text": [
      "\r\n",
      "Epoch 58/600:  10%|▉         | 58/600 [50:52<7:21:04, 48.83s/it, v_num=7x_1, total_loss_train=554, kl_local_train=274, metric_mi|age_categorical_train=0.208]"
     ]
    },
    {
     "name": "stdout",
     "output_type": "stream",
     "text": [
      "\r\n",
      "Epoch 58/600:  10%|▉         | 58/600 [50:52<7:21:04, 48.83s/it, v_num=7x_1, total_loss_train=552, kl_local_train=275, metric_mi|age_categorical_train=0.208]"
     ]
    },
    {
     "name": "stdout",
     "output_type": "stream",
     "text": [
      "\r\n",
      "Epoch 59/600:  10%|▉         | 58/600 [50:52<7:21:04, 48.83s/it, v_num=7x_1, total_loss_train=552, kl_local_train=275, metric_mi|age_categorical_train=0.208]"
     ]
    },
    {
     "name": "stdout",
     "output_type": "stream",
     "text": [
      "\r\n",
      "Epoch 59/600:  10%|▉         | 59/600 [51:40<7:18:31, 48.63s/it, v_num=7x_1, total_loss_train=552, kl_local_train=275, metric_mi|age_categorical_train=0.208]"
     ]
    },
    {
     "name": "stdout",
     "output_type": "stream",
     "text": [
      "\r\n",
      "Epoch 59/600:  10%|▉         | 59/600 [51:40<7:18:31, 48.63s/it, v_num=7x_1, total_loss_train=551, kl_local_train=270, metric_mi|age_categorical_train=0.208]"
     ]
    },
    {
     "name": "stdout",
     "output_type": "stream",
     "text": [
      "\r\n",
      "Epoch 60/600:  10%|▉         | 59/600 [51:40<7:18:31, 48.63s/it, v_num=7x_1, total_loss_train=551, kl_local_train=270, metric_mi|age_categorical_train=0.208]"
     ]
    },
    {
     "name": "stdout",
     "output_type": "stream",
     "text": [
      "\r\n",
      "Epoch 60/600:  10%|█         | 60/600 [52:29<7:18:36, 48.73s/it, v_num=7x_1, total_loss_train=551, kl_local_train=270, metric_mi|age_categorical_train=0.208]"
     ]
    },
    {
     "name": "stdout",
     "output_type": "stream",
     "text": [
      "\r\n",
      "Epoch 60/600:  10%|█         | 60/600 [52:29<7:18:36, 48.73s/it, v_num=7x_1, total_loss_train=551, kl_local_train=262, metric_mi|age_categorical_train=0.208]"
     ]
    },
    {
     "name": "stdout",
     "output_type": "stream",
     "text": [
      "\r\n",
      "Epoch 61/600:  10%|█         | 60/600 [52:30<7:18:36, 48.73s/it, v_num=7x_1, total_loss_train=551, kl_local_train=262, metric_mi|age_categorical_train=0.208]"
     ]
    },
    {
     "name": "stdout",
     "output_type": "stream",
     "text": [
      "\r\n",
      "Epoch 61/600:  10%|█         | 61/600 [53:18<7:18:39, 48.83s/it, v_num=7x_1, total_loss_train=551, kl_local_train=262, metric_mi|age_categorical_train=0.208]"
     ]
    },
    {
     "name": "stdout",
     "output_type": "stream",
     "text": [
      "\r\n",
      "Epoch 61/600:  10%|█         | 61/600 [53:18<7:18:39, 48.83s/it, v_num=7x_1, total_loss_train=550, kl_local_train=256, metric_mi|age_categorical_train=0.199]"
     ]
    },
    {
     "name": "stdout",
     "output_type": "stream",
     "text": [
      "\r\n",
      "Epoch 62/600:  10%|█         | 61/600 [53:18<7:18:39, 48.83s/it, v_num=7x_1, total_loss_train=550, kl_local_train=256, metric_mi|age_categorical_train=0.199]"
     ]
    },
    {
     "name": "stdout",
     "output_type": "stream",
     "text": [
      "\r\n",
      "Epoch 62/600:  10%|█         | 62/600 [54:06<7:15:52, 48.61s/it, v_num=7x_1, total_loss_train=550, kl_local_train=256, metric_mi|age_categorical_train=0.199]"
     ]
    },
    {
     "name": "stdout",
     "output_type": "stream",
     "text": [
      "\r\n",
      "Epoch 62/600:  10%|█         | 62/600 [54:06<7:15:52, 48.61s/it, v_num=7x_1, total_loss_train=550, kl_local_train=257, metric_mi|age_categorical_train=0.199]"
     ]
    },
    {
     "name": "stdout",
     "output_type": "stream",
     "text": [
      "\r\n",
      "Epoch 63/600:  10%|█         | 62/600 [54:06<7:15:52, 48.61s/it, v_num=7x_1, total_loss_train=550, kl_local_train=257, metric_mi|age_categorical_train=0.199]"
     ]
    },
    {
     "name": "stdout",
     "output_type": "stream",
     "text": [
      "\r\n",
      "Epoch 63/600:  10%|█         | 63/600 [54:55<7:14:21, 48.53s/it, v_num=7x_1, total_loss_train=550, kl_local_train=257, metric_mi|age_categorical_train=0.199]"
     ]
    },
    {
     "name": "stdout",
     "output_type": "stream",
     "text": [
      "\r\n",
      "Epoch 63/600:  10%|█         | 63/600 [54:55<7:14:21, 48.53s/it, v_num=7x_1, total_loss_train=549, kl_local_train=252, metric_mi|age_categorical_train=0.199]"
     ]
    },
    {
     "name": "stdout",
     "output_type": "stream",
     "text": [
      "\r\n",
      "Epoch 64/600:  10%|█         | 63/600 [54:55<7:14:21, 48.53s/it, v_num=7x_1, total_loss_train=549, kl_local_train=252, metric_mi|age_categorical_train=0.199]"
     ]
    },
    {
     "name": "stdout",
     "output_type": "stream",
     "text": [
      "\r\n",
      "Epoch 64/600:  11%|█         | 64/600 [55:43<7:13:29, 48.53s/it, v_num=7x_1, total_loss_train=549, kl_local_train=252, metric_mi|age_categorical_train=0.199]"
     ]
    },
    {
     "name": "stdout",
     "output_type": "stream",
     "text": [
      "\r\n",
      "Epoch 64/600:  11%|█         | 64/600 [55:43<7:13:29, 48.53s/it, v_num=7x_1, total_loss_train=549, kl_local_train=251, metric_mi|age_categorical_train=0.199]"
     ]
    },
    {
     "name": "stdout",
     "output_type": "stream",
     "text": [
      "\r\n",
      "Epoch 65/600:  11%|█         | 64/600 [55:43<7:13:29, 48.53s/it, v_num=7x_1, total_loss_train=549, kl_local_train=251, metric_mi|age_categorical_train=0.199]"
     ]
    },
    {
     "name": "stdout",
     "output_type": "stream",
     "text": [
      "\r\n",
      "Epoch 65/600:  11%|█         | 65/600 [56:32<7:14:48, 48.76s/it, v_num=7x_1, total_loss_train=549, kl_local_train=251, metric_mi|age_categorical_train=0.199]"
     ]
    },
    {
     "name": "stdout",
     "output_type": "stream",
     "text": [
      "\r\n",
      "Epoch 65/600:  11%|█         | 65/600 [56:32<7:14:48, 48.76s/it, v_num=7x_1, total_loss_train=550, kl_local_train=255, metric_mi|age_categorical_train=0.199]"
     ]
    },
    {
     "name": "stdout",
     "output_type": "stream",
     "text": [
      "\r\n",
      "Epoch 66/600:  11%|█         | 65/600 [56:33<7:14:48, 48.76s/it, v_num=7x_1, total_loss_train=550, kl_local_train=255, metric_mi|age_categorical_train=0.199]"
     ]
    },
    {
     "name": "stdout",
     "output_type": "stream",
     "text": [
      "\r\n",
      "Epoch 66/600:  11%|█         | 66/600 [57:21<7:14:42, 48.84s/it, v_num=7x_1, total_loss_train=550, kl_local_train=255, metric_mi|age_categorical_train=0.199]"
     ]
    },
    {
     "name": "stdout",
     "output_type": "stream",
     "text": [
      "\r\n",
      "Epoch 66/600:  11%|█         | 66/600 [57:21<7:14:42, 48.84s/it, v_num=7x_1, total_loss_train=549, kl_local_train=248, metric_mi|age_categorical_train=0.223]"
     ]
    },
    {
     "name": "stdout",
     "output_type": "stream",
     "text": [
      "\r\n",
      "Epoch 67/600:  11%|█         | 66/600 [57:21<7:14:42, 48.84s/it, v_num=7x_1, total_loss_train=549, kl_local_train=248, metric_mi|age_categorical_train=0.223]"
     ]
    },
    {
     "name": "stdout",
     "output_type": "stream",
     "text": [
      "\r\n",
      "Epoch 67/600:  11%|█         | 67/600 [58:10<7:12:02, 48.64s/it, v_num=7x_1, total_loss_train=549, kl_local_train=248, metric_mi|age_categorical_train=0.223]"
     ]
    },
    {
     "name": "stdout",
     "output_type": "stream",
     "text": [
      "\r\n",
      "Epoch 67/600:  11%|█         | 67/600 [58:10<7:12:02, 48.64s/it, v_num=7x_1, total_loss_train=548, kl_local_train=243, metric_mi|age_categorical_train=0.223]"
     ]
    },
    {
     "name": "stdout",
     "output_type": "stream",
     "text": [
      "\r\n",
      "Epoch 68/600:  11%|█         | 67/600 [58:10<7:12:02, 48.64s/it, v_num=7x_1, total_loss_train=548, kl_local_train=243, metric_mi|age_categorical_train=0.223]"
     ]
    },
    {
     "name": "stdout",
     "output_type": "stream",
     "text": [
      "\r\n",
      "Epoch 68/600:  11%|█▏        | 68/600 [58:58<7:10:01, 48.50s/it, v_num=7x_1, total_loss_train=548, kl_local_train=243, metric_mi|age_categorical_train=0.223]"
     ]
    },
    {
     "name": "stdout",
     "output_type": "stream",
     "text": [
      "\r\n",
      "Epoch 68/600:  11%|█▏        | 68/600 [58:58<7:10:01, 48.50s/it, v_num=7x_1, total_loss_train=548, kl_local_train=236, metric_mi|age_categorical_train=0.223]"
     ]
    },
    {
     "name": "stdout",
     "output_type": "stream",
     "text": [
      "\r\n",
      "Epoch 69/600:  11%|█▏        | 68/600 [58:58<7:10:01, 48.50s/it, v_num=7x_1, total_loss_train=548, kl_local_train=236, metric_mi|age_categorical_train=0.223]"
     ]
    },
    {
     "name": "stdout",
     "output_type": "stream",
     "text": [
      "\r\n",
      "Epoch 69/600:  12%|█▏        | 69/600 [59:46<7:08:11, 48.38s/it, v_num=7x_1, total_loss_train=548, kl_local_train=236, metric_mi|age_categorical_train=0.223]"
     ]
    },
    {
     "name": "stdout",
     "output_type": "stream",
     "text": [
      "\r\n",
      "Epoch 69/600:  12%|█▏        | 69/600 [59:46<7:08:11, 48.38s/it, v_num=7x_1, total_loss_train=547, kl_local_train=230, metric_mi|age_categorical_train=0.223]"
     ]
    },
    {
     "name": "stdout",
     "output_type": "stream",
     "text": [
      "\r\n",
      "Epoch 70/600:  12%|█▏        | 69/600 [59:46<7:08:11, 48.38s/it, v_num=7x_1, total_loss_train=547, kl_local_train=230, metric_mi|age_categorical_train=0.223]"
     ]
    },
    {
     "name": "stdout",
     "output_type": "stream",
     "text": [
      "\r\n",
      "Epoch 70/600:  12%|█▏        | 70/600 [1:00:35<7:10:24, 48.72s/it, v_num=7x_1, total_loss_train=547, kl_local_train=230, metric_mi|age_categorical_train=0.223]"
     ]
    },
    {
     "name": "stdout",
     "output_type": "stream",
     "text": [
      "\r\n",
      "Epoch 70/600:  12%|█▏        | 70/600 [1:00:35<7:10:24, 48.72s/it, v_num=7x_1, total_loss_train=546, kl_local_train=226, metric_mi|age_categorical_train=0.223]"
     ]
    },
    {
     "name": "stdout",
     "output_type": "stream",
     "text": [
      "\r\n",
      "Epoch 71/600:  12%|█▏        | 70/600 [1:00:36<7:10:24, 48.72s/it, v_num=7x_1, total_loss_train=546, kl_local_train=226, metric_mi|age_categorical_train=0.223]"
     ]
    },
    {
     "name": "stdout",
     "output_type": "stream",
     "text": [
      "\r\n",
      "Epoch 71/600:  12%|█▏        | 71/600 [1:01:24<7:10:05, 48.78s/it, v_num=7x_1, total_loss_train=546, kl_local_train=226, metric_mi|age_categorical_train=0.223]"
     ]
    },
    {
     "name": "stdout",
     "output_type": "stream",
     "text": [
      "\r\n",
      "Epoch 71/600:  12%|█▏        | 71/600 [1:01:24<7:10:05, 48.78s/it, v_num=7x_1, total_loss_train=546, kl_local_train=226, metric_mi|age_categorical_train=0.233]"
     ]
    },
    {
     "name": "stdout",
     "output_type": "stream",
     "text": [
      "\r\n",
      "Epoch 72/600:  12%|█▏        | 71/600 [1:01:24<7:10:05, 48.78s/it, v_num=7x_1, total_loss_train=546, kl_local_train=226, metric_mi|age_categorical_train=0.233]"
     ]
    },
    {
     "name": "stdout",
     "output_type": "stream",
     "text": [
      "\r\n",
      "Epoch 72/600:  12%|█▏        | 72/600 [1:02:12<7:07:27, 48.58s/it, v_num=7x_1, total_loss_train=546, kl_local_train=226, metric_mi|age_categorical_train=0.233]"
     ]
    },
    {
     "name": "stdout",
     "output_type": "stream",
     "text": [
      "\r\n",
      "Epoch 72/600:  12%|█▏        | 72/600 [1:02:12<7:07:27, 48.58s/it, v_num=7x_1, total_loss_train=546, kl_local_train=223, metric_mi|age_categorical_train=0.233]"
     ]
    },
    {
     "name": "stdout",
     "output_type": "stream",
     "text": [
      "\r\n",
      "Epoch 73/600:  12%|█▏        | 72/600 [1:02:12<7:07:27, 48.58s/it, v_num=7x_1, total_loss_train=546, kl_local_train=223, metric_mi|age_categorical_train=0.233]"
     ]
    },
    {
     "name": "stdout",
     "output_type": "stream",
     "text": [
      "\r\n",
      "Epoch 73/600:  12%|█▏        | 73/600 [1:03:01<7:05:49, 48.48s/it, v_num=7x_1, total_loss_train=546, kl_local_train=223, metric_mi|age_categorical_train=0.233]"
     ]
    },
    {
     "name": "stdout",
     "output_type": "stream",
     "text": [
      "\r\n",
      "Epoch 73/600:  12%|█▏        | 73/600 [1:03:01<7:05:49, 48.48s/it, v_num=7x_1, total_loss_train=544, kl_local_train=223, metric_mi|age_categorical_train=0.233]"
     ]
    },
    {
     "name": "stdout",
     "output_type": "stream",
     "text": [
      "\r\n",
      "Epoch 74/600:  12%|█▏        | 73/600 [1:03:01<7:05:49, 48.48s/it, v_num=7x_1, total_loss_train=544, kl_local_train=223, metric_mi|age_categorical_train=0.233]"
     ]
    },
    {
     "name": "stdout",
     "output_type": "stream",
     "text": [
      "\r\n",
      "Epoch 74/600:  12%|█▏        | 74/600 [1:03:49<7:04:32, 48.43s/it, v_num=7x_1, total_loss_train=544, kl_local_train=223, metric_mi|age_categorical_train=0.233]"
     ]
    },
    {
     "name": "stdout",
     "output_type": "stream",
     "text": [
      "\r\n",
      "Epoch 74/600:  12%|█▏        | 74/600 [1:03:49<7:04:32, 48.43s/it, v_num=7x_1, total_loss_train=545, kl_local_train=215, metric_mi|age_categorical_train=0.233]"
     ]
    },
    {
     "name": "stdout",
     "output_type": "stream",
     "text": [
      "\r\n",
      "Epoch 75/600:  12%|█▏        | 74/600 [1:03:49<7:04:32, 48.43s/it, v_num=7x_1, total_loss_train=545, kl_local_train=215, metric_mi|age_categorical_train=0.233]"
     ]
    },
    {
     "name": "stdout",
     "output_type": "stream",
     "text": [
      "\r\n",
      "Epoch 75/600:  12%|█▎        | 75/600 [1:04:38<7:04:18, 48.49s/it, v_num=7x_1, total_loss_train=545, kl_local_train=215, metric_mi|age_categorical_train=0.233]"
     ]
    },
    {
     "name": "stdout",
     "output_type": "stream",
     "text": [
      "\r\n",
      "Epoch 75/600:  12%|█▎        | 75/600 [1:04:38<7:04:18, 48.49s/it, v_num=7x_1, total_loss_train=543, kl_local_train=214, metric_mi|age_categorical_train=0.233]"
     ]
    },
    {
     "name": "stdout",
     "output_type": "stream",
     "text": [
      "\r\n",
      "Epoch 76/600:  12%|█▎        | 75/600 [1:04:38<7:04:18, 48.49s/it, v_num=7x_1, total_loss_train=543, kl_local_train=214, metric_mi|age_categorical_train=0.233]"
     ]
    },
    {
     "name": "stdout",
     "output_type": "stream",
     "text": [
      "\r\n",
      "Epoch 76/600:  13%|█▎        | 76/600 [1:05:27<7:05:08, 48.68s/it, v_num=7x_1, total_loss_train=543, kl_local_train=214, metric_mi|age_categorical_train=0.233]"
     ]
    },
    {
     "name": "stdout",
     "output_type": "stream",
     "text": [
      "\r\n",
      "Epoch 76/600:  13%|█▎        | 76/600 [1:05:27<7:05:08, 48.68s/it, v_num=7x_1, total_loss_train=542, kl_local_train=214, metric_mi|age_categorical_train=0.239]"
     ]
    },
    {
     "name": "stdout",
     "output_type": "stream",
     "text": [
      "\r\n",
      "Epoch 77/600:  13%|█▎        | 76/600 [1:05:27<7:05:08, 48.68s/it, v_num=7x_1, total_loss_train=542, kl_local_train=214, metric_mi|age_categorical_train=0.239]"
     ]
    },
    {
     "name": "stdout",
     "output_type": "stream",
     "text": [
      "\r\n",
      "Epoch 77/600:  13%|█▎        | 77/600 [1:06:15<7:03:30, 48.59s/it, v_num=7x_1, total_loss_train=542, kl_local_train=214, metric_mi|age_categorical_train=0.239]"
     ]
    },
    {
     "name": "stdout",
     "output_type": "stream",
     "text": [
      "\r\n",
      "Epoch 77/600:  13%|█▎        | 77/600 [1:06:15<7:03:30, 48.59s/it, v_num=7x_1, total_loss_train=543, kl_local_train=218, metric_mi|age_categorical_train=0.239]"
     ]
    },
    {
     "name": "stdout",
     "output_type": "stream",
     "text": [
      "\r\n",
      "Epoch 78/600:  13%|█▎        | 77/600 [1:06:15<7:03:30, 48.59s/it, v_num=7x_1, total_loss_train=543, kl_local_train=218, metric_mi|age_categorical_train=0.239]"
     ]
    },
    {
     "name": "stdout",
     "output_type": "stream",
     "text": [
      "\r\n",
      "Epoch 78/600:  13%|█▎        | 78/600 [1:07:03<7:01:37, 48.46s/it, v_num=7x_1, total_loss_train=543, kl_local_train=218, metric_mi|age_categorical_train=0.239]"
     ]
    },
    {
     "name": "stdout",
     "output_type": "stream",
     "text": [
      "\r\n",
      "Epoch 78/600:  13%|█▎        | 78/600 [1:07:03<7:01:37, 48.46s/it, v_num=7x_1, total_loss_train=542, kl_local_train=217, metric_mi|age_categorical_train=0.239]"
     ]
    },
    {
     "name": "stdout",
     "output_type": "stream",
     "text": [
      "\r\n",
      "Epoch 79/600:  13%|█▎        | 78/600 [1:07:03<7:01:37, 48.46s/it, v_num=7x_1, total_loss_train=542, kl_local_train=217, metric_mi|age_categorical_train=0.239]"
     ]
    },
    {
     "name": "stdout",
     "output_type": "stream",
     "text": [
      "\r\n",
      "Epoch 79/600:  13%|█▎        | 79/600 [1:07:52<7:00:17, 48.40s/it, v_num=7x_1, total_loss_train=542, kl_local_train=217, metric_mi|age_categorical_train=0.239]"
     ]
    },
    {
     "name": "stdout",
     "output_type": "stream",
     "text": [
      "\r\n",
      "Epoch 79/600:  13%|█▎        | 79/600 [1:07:52<7:00:17, 48.40s/it, v_num=7x_1, total_loss_train=541, kl_local_train=211, metric_mi|age_categorical_train=0.239]"
     ]
    },
    {
     "name": "stdout",
     "output_type": "stream",
     "text": [
      "\r\n",
      "Epoch 80/600:  13%|█▎        | 79/600 [1:07:52<7:00:17, 48.40s/it, v_num=7x_1, total_loss_train=541, kl_local_train=211, metric_mi|age_categorical_train=0.239]"
     ]
    },
    {
     "name": "stdout",
     "output_type": "stream",
     "text": [
      "\r\n",
      "Epoch 80/600:  13%|█▎        | 80/600 [1:08:40<7:00:16, 48.49s/it, v_num=7x_1, total_loss_train=541, kl_local_train=211, metric_mi|age_categorical_train=0.239]"
     ]
    },
    {
     "name": "stdout",
     "output_type": "stream",
     "text": [
      "\r\n",
      "Epoch 80/600:  13%|█▎        | 80/600 [1:08:40<7:00:16, 48.49s/it, v_num=7x_1, total_loss_train=540, kl_local_train=207, metric_mi|age_categorical_train=0.239]"
     ]
    },
    {
     "name": "stdout",
     "output_type": "stream",
     "text": [
      "\r\n",
      "Epoch 81/600:  13%|█▎        | 80/600 [1:08:41<7:00:16, 48.49s/it, v_num=7x_1, total_loss_train=540, kl_local_train=207, metric_mi|age_categorical_train=0.239]"
     ]
    },
    {
     "name": "stdout",
     "output_type": "stream",
     "text": [
      "\r\n",
      "Epoch 81/600:  14%|█▎        | 81/600 [1:09:29<7:00:42, 48.64s/it, v_num=7x_1, total_loss_train=540, kl_local_train=207, metric_mi|age_categorical_train=0.239]"
     ]
    },
    {
     "name": "stdout",
     "output_type": "stream",
     "text": [
      "\r\n",
      "Epoch 81/600:  14%|█▎        | 81/600 [1:09:29<7:00:42, 48.64s/it, v_num=7x_1, total_loss_train=539, kl_local_train=209, metric_mi|age_categorical_train=0.255]"
     ]
    },
    {
     "name": "stdout",
     "output_type": "stream",
     "text": [
      "\r\n",
      "Epoch 82/600:  14%|█▎        | 81/600 [1:09:29<7:00:42, 48.64s/it, v_num=7x_1, total_loss_train=539, kl_local_train=209, metric_mi|age_categorical_train=0.255]"
     ]
    },
    {
     "name": "stdout",
     "output_type": "stream",
     "text": [
      "\r\n",
      "Epoch 82/600:  14%|█▎        | 82/600 [1:10:17<6:58:14, 48.44s/it, v_num=7x_1, total_loss_train=539, kl_local_train=209, metric_mi|age_categorical_train=0.255]"
     ]
    },
    {
     "name": "stdout",
     "output_type": "stream",
     "text": [
      "\r\n",
      "Epoch 82/600:  14%|█▎        | 82/600 [1:10:17<6:58:14, 48.44s/it, v_num=7x_1, total_loss_train=539, kl_local_train=208, metric_mi|age_categorical_train=0.255]"
     ]
    },
    {
     "name": "stdout",
     "output_type": "stream",
     "text": [
      "\r\n",
      "Epoch 83/600:  14%|█▎        | 82/600 [1:10:17<6:58:14, 48.44s/it, v_num=7x_1, total_loss_train=539, kl_local_train=208, metric_mi|age_categorical_train=0.255]"
     ]
    },
    {
     "name": "stdout",
     "output_type": "stream",
     "text": [
      "\r\n",
      "Epoch 83/600:  14%|█▍        | 83/600 [1:11:06<6:57:10, 48.41s/it, v_num=7x_1, total_loss_train=539, kl_local_train=208, metric_mi|age_categorical_train=0.255]"
     ]
    },
    {
     "name": "stdout",
     "output_type": "stream",
     "text": [
      "\r\n",
      "Epoch 83/600:  14%|█▍        | 83/600 [1:11:06<6:57:10, 48.41s/it, v_num=7x_1, total_loss_train=538, kl_local_train=211, metric_mi|age_categorical_train=0.255]"
     ]
    },
    {
     "name": "stdout",
     "output_type": "stream",
     "text": [
      "\r\n",
      "Epoch 84/600:  14%|█▍        | 83/600 [1:11:06<6:57:10, 48.41s/it, v_num=7x_1, total_loss_train=538, kl_local_train=211, metric_mi|age_categorical_train=0.255]"
     ]
    },
    {
     "name": "stdout",
     "output_type": "stream",
     "text": [
      "\r\n",
      "Epoch 84/600:  14%|█▍        | 84/600 [1:11:54<6:55:33, 48.32s/it, v_num=7x_1, total_loss_train=538, kl_local_train=211, metric_mi|age_categorical_train=0.255]"
     ]
    },
    {
     "name": "stdout",
     "output_type": "stream",
     "text": [
      "\r\n",
      "Epoch 84/600:  14%|█▍        | 84/600 [1:11:54<6:55:33, 48.32s/it, v_num=7x_1, total_loss_train=538, kl_local_train=204, metric_mi|age_categorical_train=0.255]"
     ]
    },
    {
     "name": "stdout",
     "output_type": "stream",
     "text": [
      "\r\n",
      "Epoch 85/600:  14%|█▍        | 84/600 [1:11:54<6:55:33, 48.32s/it, v_num=7x_1, total_loss_train=538, kl_local_train=204, metric_mi|age_categorical_train=0.255]"
     ]
    },
    {
     "name": "stdout",
     "output_type": "stream",
     "text": [
      "\r\n",
      "Epoch 85/600:  14%|█▍        | 85/600 [1:12:42<6:55:34, 48.42s/it, v_num=7x_1, total_loss_train=538, kl_local_train=204, metric_mi|age_categorical_train=0.255]"
     ]
    },
    {
     "name": "stdout",
     "output_type": "stream",
     "text": [
      "\r\n",
      "Epoch 85/600:  14%|█▍        | 85/600 [1:12:42<6:55:34, 48.42s/it, v_num=7x_1, total_loss_train=537, kl_local_train=200, metric_mi|age_categorical_train=0.255]"
     ]
    },
    {
     "name": "stdout",
     "output_type": "stream",
     "text": [
      "\r\n",
      "Epoch 86/600:  14%|█▍        | 85/600 [1:12:43<6:55:34, 48.42s/it, v_num=7x_1, total_loss_train=537, kl_local_train=200, metric_mi|age_categorical_train=0.255]"
     ]
    },
    {
     "name": "stdout",
     "output_type": "stream",
     "text": [
      "\r\n",
      "Epoch 86/600:  14%|█▍        | 86/600 [1:13:31<6:55:59, 48.56s/it, v_num=7x_1, total_loss_train=537, kl_local_train=200, metric_mi|age_categorical_train=0.255]"
     ]
    },
    {
     "name": "stdout",
     "output_type": "stream",
     "text": [
      "\r\n",
      "Epoch 86/600:  14%|█▍        | 86/600 [1:13:31<6:55:59, 48.56s/it, v_num=7x_1, total_loss_train=536, kl_local_train=200, metric_mi|age_categorical_train=0.256]"
     ]
    },
    {
     "name": "stdout",
     "output_type": "stream",
     "text": [
      "\r\n",
      "Epoch 87/600:  14%|█▍        | 86/600 [1:13:31<6:55:59, 48.56s/it, v_num=7x_1, total_loss_train=536, kl_local_train=200, metric_mi|age_categorical_train=0.256]"
     ]
    },
    {
     "name": "stdout",
     "output_type": "stream",
     "text": [
      "\r\n",
      "Epoch 87/600:  14%|█▍        | 87/600 [1:14:19<6:53:58, 48.42s/it, v_num=7x_1, total_loss_train=536, kl_local_train=200, metric_mi|age_categorical_train=0.256]"
     ]
    },
    {
     "name": "stdout",
     "output_type": "stream",
     "text": [
      "\r\n",
      "Epoch 87/600:  14%|█▍        | 87/600 [1:14:19<6:53:58, 48.42s/it, v_num=7x_1, total_loss_train=536, kl_local_train=200, metric_mi|age_categorical_train=0.256]"
     ]
    },
    {
     "name": "stdout",
     "output_type": "stream",
     "text": [
      "\r\n",
      "Epoch 88/600:  14%|█▍        | 87/600 [1:14:19<6:53:58, 48.42s/it, v_num=7x_1, total_loss_train=536, kl_local_train=200, metric_mi|age_categorical_train=0.256]"
     ]
    },
    {
     "name": "stdout",
     "output_type": "stream",
     "text": [
      "\r\n",
      "Epoch 88/600:  15%|█▍        | 88/600 [1:15:07<6:52:25, 48.33s/it, v_num=7x_1, total_loss_train=536, kl_local_train=200, metric_mi|age_categorical_train=0.256]"
     ]
    },
    {
     "name": "stdout",
     "output_type": "stream",
     "text": [
      "\r\n",
      "Epoch 88/600:  15%|█▍        | 88/600 [1:15:07<6:52:25, 48.33s/it, v_num=7x_1, total_loss_train=536, kl_local_train=198, metric_mi|age_categorical_train=0.256]"
     ]
    },
    {
     "name": "stdout",
     "output_type": "stream",
     "text": [
      "\r\n",
      "Epoch 89/600:  15%|█▍        | 88/600 [1:15:07<6:52:25, 48.33s/it, v_num=7x_1, total_loss_train=536, kl_local_train=198, metric_mi|age_categorical_train=0.256]"
     ]
    },
    {
     "name": "stdout",
     "output_type": "stream",
     "text": [
      "\r\n",
      "Epoch 89/600:  15%|█▍        | 89/600 [1:15:56<6:51:21, 48.30s/it, v_num=7x_1, total_loss_train=536, kl_local_train=198, metric_mi|age_categorical_train=0.256]"
     ]
    },
    {
     "name": "stdout",
     "output_type": "stream",
     "text": [
      "\r\n",
      "Epoch 89/600:  15%|█▍        | 89/600 [1:15:56<6:51:21, 48.30s/it, v_num=7x_1, total_loss_train=535, kl_local_train=195, metric_mi|age_categorical_train=0.256]"
     ]
    },
    {
     "name": "stdout",
     "output_type": "stream",
     "text": [
      "\r\n",
      "Epoch 90/600:  15%|█▍        | 89/600 [1:15:56<6:51:21, 48.30s/it, v_num=7x_1, total_loss_train=535, kl_local_train=195, metric_mi|age_categorical_train=0.256]"
     ]
    },
    {
     "name": "stdout",
     "output_type": "stream",
     "text": [
      "\r\n",
      "Epoch 90/600:  15%|█▌        | 90/600 [1:16:44<6:51:44, 48.44s/it, v_num=7x_1, total_loss_train=535, kl_local_train=195, metric_mi|age_categorical_train=0.256]"
     ]
    },
    {
     "name": "stdout",
     "output_type": "stream",
     "text": [
      "\r\n",
      "Epoch 90/600:  15%|█▌        | 90/600 [1:16:44<6:51:44, 48.44s/it, v_num=7x_1, total_loss_train=535, kl_local_train=195, metric_mi|age_categorical_train=0.256]"
     ]
    },
    {
     "name": "stdout",
     "output_type": "stream",
     "text": [
      "\r\n",
      "Epoch 91/600:  15%|█▌        | 90/600 [1:16:45<6:51:44, 48.44s/it, v_num=7x_1, total_loss_train=535, kl_local_train=195, metric_mi|age_categorical_train=0.256]"
     ]
    },
    {
     "name": "stdout",
     "output_type": "stream",
     "text": [
      "\r\n",
      "Epoch 91/600:  15%|█▌        | 91/600 [1:17:33<6:52:12, 48.59s/it, v_num=7x_1, total_loss_train=535, kl_local_train=195, metric_mi|age_categorical_train=0.256]"
     ]
    },
    {
     "name": "stdout",
     "output_type": "stream",
     "text": [
      "\r\n",
      "Epoch 91/600:  15%|█▌        | 91/600 [1:17:33<6:52:12, 48.59s/it, v_num=7x_1, total_loss_train=535, kl_local_train=196, metric_mi|age_categorical_train=0.278]"
     ]
    },
    {
     "name": "stdout",
     "output_type": "stream",
     "text": [
      "\r\n",
      "Epoch 92/600:  15%|█▌        | 91/600 [1:17:33<6:52:12, 48.59s/it, v_num=7x_1, total_loss_train=535, kl_local_train=196, metric_mi|age_categorical_train=0.278]"
     ]
    },
    {
     "name": "stdout",
     "output_type": "stream",
     "text": [
      "\r\n",
      "Epoch 92/600:  15%|█▌        | 92/600 [1:18:21<6:50:07, 48.44s/it, v_num=7x_1, total_loss_train=535, kl_local_train=196, metric_mi|age_categorical_train=0.278]"
     ]
    },
    {
     "name": "stdout",
     "output_type": "stream",
     "text": [
      "\r\n",
      "Epoch 92/600:  15%|█▌        | 92/600 [1:18:21<6:50:07, 48.44s/it, v_num=7x_1, total_loss_train=535, kl_local_train=193, metric_mi|age_categorical_train=0.278]"
     ]
    },
    {
     "name": "stdout",
     "output_type": "stream",
     "text": [
      "\r\n",
      "Epoch 93/600:  15%|█▌        | 92/600 [1:18:21<6:50:07, 48.44s/it, v_num=7x_1, total_loss_train=535, kl_local_train=193, metric_mi|age_categorical_train=0.278]"
     ]
    },
    {
     "name": "stdout",
     "output_type": "stream",
     "text": [
      "\r\n",
      "Epoch 93/600:  16%|█▌        | 93/600 [1:19:10<6:48:21, 48.33s/it, v_num=7x_1, total_loss_train=535, kl_local_train=193, metric_mi|age_categorical_train=0.278]"
     ]
    },
    {
     "name": "stdout",
     "output_type": "stream",
     "text": [
      "\r\n",
      "Epoch 93/600:  16%|█▌        | 93/600 [1:19:10<6:48:21, 48.33s/it, v_num=7x_1, total_loss_train=535, kl_local_train=192, metric_mi|age_categorical_train=0.278]"
     ]
    },
    {
     "name": "stdout",
     "output_type": "stream",
     "text": [
      "\r\n",
      "Epoch 94/600:  16%|█▌        | 93/600 [1:19:10<6:48:21, 48.33s/it, v_num=7x_1, total_loss_train=535, kl_local_train=192, metric_mi|age_categorical_train=0.278]"
     ]
    },
    {
     "name": "stdout",
     "output_type": "stream",
     "text": [
      "\r\n",
      "Epoch 94/600:  16%|█▌        | 94/600 [1:19:58<6:46:52, 48.25s/it, v_num=7x_1, total_loss_train=535, kl_local_train=192, metric_mi|age_categorical_train=0.278]"
     ]
    },
    {
     "name": "stdout",
     "output_type": "stream",
     "text": [
      "\r\n",
      "Epoch 94/600:  16%|█▌        | 94/600 [1:19:58<6:46:52, 48.25s/it, v_num=7x_1, total_loss_train=534, kl_local_train=191, metric_mi|age_categorical_train=0.278]"
     ]
    },
    {
     "name": "stdout",
     "output_type": "stream",
     "text": [
      "\r\n",
      "Epoch 95/600:  16%|█▌        | 94/600 [1:19:58<6:46:52, 48.25s/it, v_num=7x_1, total_loss_train=534, kl_local_train=191, metric_mi|age_categorical_train=0.278]"
     ]
    },
    {
     "name": "stdout",
     "output_type": "stream",
     "text": [
      "\r\n",
      "Epoch 95/600:  16%|█▌        | 95/600 [1:20:46<6:47:28, 48.41s/it, v_num=7x_1, total_loss_train=534, kl_local_train=191, metric_mi|age_categorical_train=0.278]"
     ]
    },
    {
     "name": "stdout",
     "output_type": "stream",
     "text": [
      "\r\n",
      "Epoch 95/600:  16%|█▌        | 95/600 [1:20:46<6:47:28, 48.41s/it, v_num=7x_1, total_loss_train=534, kl_local_train=189, metric_mi|age_categorical_train=0.278]"
     ]
    },
    {
     "name": "stdout",
     "output_type": "stream",
     "text": [
      "\r\n",
      "Epoch 96/600:  16%|█▌        | 95/600 [1:20:47<6:47:28, 48.41s/it, v_num=7x_1, total_loss_train=534, kl_local_train=189, metric_mi|age_categorical_train=0.278]"
     ]
    },
    {
     "name": "stdout",
     "output_type": "stream",
     "text": [
      "\r\n",
      "Epoch 96/600:  16%|█▌        | 96/600 [1:21:36<6:48:31, 48.63s/it, v_num=7x_1, total_loss_train=534, kl_local_train=189, metric_mi|age_categorical_train=0.278]"
     ]
    },
    {
     "name": "stdout",
     "output_type": "stream",
     "text": [
      "\r\n",
      "Epoch 96/600:  16%|█▌        | 96/600 [1:21:36<6:48:31, 48.63s/it, v_num=7x_1, total_loss_train=533, kl_local_train=187, metric_mi|age_categorical_train=0.255]"
     ]
    },
    {
     "name": "stdout",
     "output_type": "stream",
     "text": [
      "\r\n",
      "Epoch 97/600:  16%|█▌        | 96/600 [1:21:36<6:48:31, 48.63s/it, v_num=7x_1, total_loss_train=533, kl_local_train=187, metric_mi|age_categorical_train=0.255]"
     ]
    },
    {
     "name": "stdout",
     "output_type": "stream",
     "text": [
      "\r\n",
      "Epoch 97/600:  16%|█▌        | 97/600 [1:22:24<6:46:51, 48.53s/it, v_num=7x_1, total_loss_train=533, kl_local_train=187, metric_mi|age_categorical_train=0.255]"
     ]
    },
    {
     "name": "stdout",
     "output_type": "stream",
     "text": [
      "\r\n",
      "Epoch 97/600:  16%|█▌        | 97/600 [1:22:24<6:46:51, 48.53s/it, v_num=7x_1, total_loss_train=533, kl_local_train=187, metric_mi|age_categorical_train=0.255]"
     ]
    },
    {
     "name": "stdout",
     "output_type": "stream",
     "text": [
      "\r\n",
      "Epoch 98/600:  16%|█▌        | 97/600 [1:22:24<6:46:51, 48.53s/it, v_num=7x_1, total_loss_train=533, kl_local_train=187, metric_mi|age_categorical_train=0.255]"
     ]
    },
    {
     "name": "stdout",
     "output_type": "stream",
     "text": [
      "\r\n",
      "Epoch 98/600:  16%|█▋        | 98/600 [1:23:12<6:45:13, 48.43s/it, v_num=7x_1, total_loss_train=533, kl_local_train=187, metric_mi|age_categorical_train=0.255]"
     ]
    },
    {
     "name": "stdout",
     "output_type": "stream",
     "text": [
      "\r\n",
      "Epoch 98/600:  16%|█▋        | 98/600 [1:23:12<6:45:13, 48.43s/it, v_num=7x_1, total_loss_train=532, kl_local_train=189, metric_mi|age_categorical_train=0.255]"
     ]
    },
    {
     "name": "stdout",
     "output_type": "stream",
     "text": [
      "\r\n",
      "Epoch 99/600:  16%|█▋        | 98/600 [1:23:12<6:45:13, 48.43s/it, v_num=7x_1, total_loss_train=532, kl_local_train=189, metric_mi|age_categorical_train=0.255]"
     ]
    },
    {
     "name": "stdout",
     "output_type": "stream",
     "text": [
      "\r\n",
      "Epoch 99/600:  16%|█▋        | 99/600 [1:24:00<6:43:57, 48.38s/it, v_num=7x_1, total_loss_train=532, kl_local_train=189, metric_mi|age_categorical_train=0.255]"
     ]
    },
    {
     "name": "stdout",
     "output_type": "stream",
     "text": [
      "\r\n",
      "Epoch 99/600:  16%|█▋        | 99/600 [1:24:00<6:43:57, 48.38s/it, v_num=7x_1, total_loss_train=532, kl_local_train=184, metric_mi|age_categorical_train=0.255]"
     ]
    },
    {
     "name": "stdout",
     "output_type": "stream",
     "text": [
      "\r\n",
      "Epoch 100/600:  16%|█▋        | 99/600 [1:24:00<6:43:57, 48.38s/it, v_num=7x_1, total_loss_train=532, kl_local_train=184, metric_mi|age_categorical_train=0.255]"
     ]
    },
    {
     "name": "stdout",
     "output_type": "stream",
     "text": [
      "\r\n",
      "Epoch 100/600:  17%|█▋        | 100/600 [1:24:49<6:44:56, 48.59s/it, v_num=7x_1, total_loss_train=532, kl_local_train=184, metric_mi|age_categorical_train=0.255]"
     ]
    },
    {
     "name": "stdout",
     "output_type": "stream",
     "text": [
      "\r\n",
      "Epoch 100/600:  17%|█▋        | 100/600 [1:24:49<6:44:56, 48.59s/it, v_num=7x_1, total_loss_train=532, kl_local_train=180, metric_mi|age_categorical_train=0.255]"
     ]
    },
    {
     "name": "stdout",
     "output_type": "stream",
     "text": [
      "\r\n",
      "Epoch 101/600:  17%|█▋        | 100/600 [1:24:50<6:44:56, 48.59s/it, v_num=7x_1, total_loss_train=532, kl_local_train=180, metric_mi|age_categorical_train=0.255]"
     ]
    },
    {
     "name": "stdout",
     "output_type": "stream",
     "text": [
      "\r\n",
      "Epoch 101/600:  17%|█▋        | 101/600 [1:25:38<6:45:25, 48.75s/it, v_num=7x_1, total_loss_train=532, kl_local_train=180, metric_mi|age_categorical_train=0.255]"
     ]
    },
    {
     "name": "stdout",
     "output_type": "stream",
     "text": [
      "\r\n",
      "Epoch 101/600:  17%|█▋        | 101/600 [1:25:38<6:45:25, 48.75s/it, v_num=7x_1, total_loss_train=532, kl_local_train=183, metric_mi|age_categorical_train=0.253]"
     ]
    },
    {
     "name": "stdout",
     "output_type": "stream",
     "text": [
      "\r\n",
      "Epoch 102/600:  17%|█▋        | 101/600 [1:25:38<6:45:25, 48.75s/it, v_num=7x_1, total_loss_train=532, kl_local_train=183, metric_mi|age_categorical_train=0.253]"
     ]
    },
    {
     "name": "stdout",
     "output_type": "stream",
     "text": [
      "\r\n",
      "Epoch 102/600:  17%|█▋        | 102/600 [1:26:27<6:43:55, 48.67s/it, v_num=7x_1, total_loss_train=532, kl_local_train=183, metric_mi|age_categorical_train=0.253]"
     ]
    },
    {
     "name": "stdout",
     "output_type": "stream",
     "text": [
      "\r\n",
      "Epoch 102/600:  17%|█▋        | 102/600 [1:26:27<6:43:55, 48.67s/it, v_num=7x_1, total_loss_train=532, kl_local_train=184, metric_mi|age_categorical_train=0.253]"
     ]
    },
    {
     "name": "stdout",
     "output_type": "stream",
     "text": [
      "\r\n",
      "Epoch 103/600:  17%|█▋        | 102/600 [1:26:27<6:43:55, 48.67s/it, v_num=7x_1, total_loss_train=532, kl_local_train=184, metric_mi|age_categorical_train=0.253]"
     ]
    },
    {
     "name": "stdout",
     "output_type": "stream",
     "text": [
      "\r\n",
      "Epoch 103/600:  17%|█▋        | 103/600 [1:27:15<6:42:18, 48.57s/it, v_num=7x_1, total_loss_train=532, kl_local_train=184, metric_mi|age_categorical_train=0.253]"
     ]
    },
    {
     "name": "stdout",
     "output_type": "stream",
     "text": [
      "\r\n",
      "Epoch 103/600:  17%|█▋        | 103/600 [1:27:15<6:42:18, 48.57s/it, v_num=7x_1, total_loss_train=531, kl_local_train=179, metric_mi|age_categorical_train=0.253]"
     ]
    },
    {
     "name": "stdout",
     "output_type": "stream",
     "text": [
      "\r\n",
      "Epoch 104/600:  17%|█▋        | 103/600 [1:27:15<6:42:18, 48.57s/it, v_num=7x_1, total_loss_train=531, kl_local_train=179, metric_mi|age_categorical_train=0.253]"
     ]
    },
    {
     "name": "stdout",
     "output_type": "stream",
     "text": [
      "\r\n",
      "Epoch 104/600:  17%|█▋        | 104/600 [1:28:04<6:40:45, 48.48s/it, v_num=7x_1, total_loss_train=531, kl_local_train=179, metric_mi|age_categorical_train=0.253]"
     ]
    },
    {
     "name": "stdout",
     "output_type": "stream",
     "text": [
      "\r\n",
      "Epoch 104/600:  17%|█▋        | 104/600 [1:28:04<6:40:45, 48.48s/it, v_num=7x_1, total_loss_train=531, kl_local_train=177, metric_mi|age_categorical_train=0.253]"
     ]
    },
    {
     "name": "stdout",
     "output_type": "stream",
     "text": [
      "\r\n",
      "Epoch 105/600:  17%|█▋        | 104/600 [1:28:04<6:40:45, 48.48s/it, v_num=7x_1, total_loss_train=531, kl_local_train=177, metric_mi|age_categorical_train=0.253]"
     ]
    },
    {
     "name": "stdout",
     "output_type": "stream",
     "text": [
      "\r\n",
      "Epoch 105/600:  18%|█▊        | 105/600 [1:28:52<6:40:03, 48.49s/it, v_num=7x_1, total_loss_train=531, kl_local_train=177, metric_mi|age_categorical_train=0.253]"
     ]
    },
    {
     "name": "stdout",
     "output_type": "stream",
     "text": [
      "\r\n",
      "Epoch 105/600:  18%|█▊        | 105/600 [1:28:52<6:40:03, 48.49s/it, v_num=7x_1, total_loss_train=531, kl_local_train=177, metric_mi|age_categorical_train=0.253]"
     ]
    },
    {
     "name": "stdout",
     "output_type": "stream",
     "text": [
      "\r\n",
      "Epoch 106/600:  18%|█▊        | 105/600 [1:28:53<6:40:03, 48.49s/it, v_num=7x_1, total_loss_train=531, kl_local_train=177, metric_mi|age_categorical_train=0.253]"
     ]
    },
    {
     "name": "stdout",
     "output_type": "stream",
     "text": [
      "\r\n",
      "Epoch 106/600:  18%|█▊        | 106/600 [1:29:41<6:40:06, 48.60s/it, v_num=7x_1, total_loss_train=531, kl_local_train=177, metric_mi|age_categorical_train=0.253]"
     ]
    },
    {
     "name": "stdout",
     "output_type": "stream",
     "text": [
      "\r\n",
      "Epoch 106/600:  18%|█▊        | 106/600 [1:29:41<6:40:06, 48.60s/it, v_num=7x_1, total_loss_train=531, kl_local_train=174, metric_mi|age_categorical_train=0.253]"
     ]
    },
    {
     "name": "stdout",
     "output_type": "stream",
     "text": [
      "\r\n",
      "Epoch 107/600:  18%|█▊        | 106/600 [1:29:41<6:40:06, 48.60s/it, v_num=7x_1, total_loss_train=531, kl_local_train=174, metric_mi|age_categorical_train=0.253]"
     ]
    },
    {
     "name": "stdout",
     "output_type": "stream",
     "text": [
      "\r\n",
      "Epoch 107/600:  18%|█▊        | 107/600 [1:30:30<6:40:32, 48.75s/it, v_num=7x_1, total_loss_train=531, kl_local_train=174, metric_mi|age_categorical_train=0.253]"
     ]
    },
    {
     "name": "stdout",
     "output_type": "stream",
     "text": [
      "\r\n",
      "Epoch 107/600:  18%|█▊        | 107/600 [1:30:30<6:40:32, 48.75s/it, v_num=7x_1, total_loss_train=530, kl_local_train=177, metric_mi|age_categorical_train=0.253]"
     ]
    },
    {
     "name": "stdout",
     "output_type": "stream",
     "text": [
      "\r\n",
      "Epoch 108/600:  18%|█▊        | 107/600 [1:30:30<6:40:32, 48.75s/it, v_num=7x_1, total_loss_train=530, kl_local_train=177, metric_mi|age_categorical_train=0.253]"
     ]
    },
    {
     "name": "stdout",
     "output_type": "stream",
     "text": [
      "\r\n",
      "Epoch 108/600:  18%|█▊        | 108/600 [1:31:20<6:41:31, 48.97s/it, v_num=7x_1, total_loss_train=530, kl_local_train=177, metric_mi|age_categorical_train=0.253]"
     ]
    },
    {
     "name": "stdout",
     "output_type": "stream",
     "text": [
      "\r\n",
      "Epoch 108/600:  18%|█▊        | 108/600 [1:31:20<6:41:31, 48.97s/it, v_num=7x_1, total_loss_train=531, kl_local_train=176, metric_mi|age_categorical_train=0.253]"
     ]
    },
    {
     "name": "stdout",
     "output_type": "stream",
     "text": [
      "\r\n",
      "Epoch 109/600:  18%|█▊        | 108/600 [1:31:20<6:41:31, 48.97s/it, v_num=7x_1, total_loss_train=531, kl_local_train=176, metric_mi|age_categorical_train=0.253]"
     ]
    },
    {
     "name": "stdout",
     "output_type": "stream",
     "text": [
      "\r\n",
      "Epoch 109/600:  18%|█▊        | 109/600 [1:32:09<6:41:35, 49.08s/it, v_num=7x_1, total_loss_train=531, kl_local_train=176, metric_mi|age_categorical_train=0.253]"
     ]
    },
    {
     "name": "stdout",
     "output_type": "stream",
     "text": [
      "\r\n",
      "Epoch 109/600:  18%|█▊        | 109/600 [1:32:09<6:41:35, 49.08s/it, v_num=7x_1, total_loss_train=530, kl_local_train=173, metric_mi|age_categorical_train=0.253]"
     ]
    },
    {
     "name": "stdout",
     "output_type": "stream",
     "text": [
      "\r\n",
      "Epoch 110/600:  18%|█▊        | 109/600 [1:32:09<6:41:35, 49.08s/it, v_num=7x_1, total_loss_train=530, kl_local_train=173, metric_mi|age_categorical_train=0.253]"
     ]
    },
    {
     "name": "stdout",
     "output_type": "stream",
     "text": [
      "\r\n",
      "Epoch 110/600:  18%|█▊        | 110/600 [1:32:59<6:42:41, 49.31s/it, v_num=7x_1, total_loss_train=530, kl_local_train=173, metric_mi|age_categorical_train=0.253]"
     ]
    },
    {
     "name": "stdout",
     "output_type": "stream",
     "text": [
      "\r\n",
      "Epoch 110/600:  18%|█▊        | 110/600 [1:32:59<6:42:41, 49.31s/it, v_num=7x_1, total_loss_train=530, kl_local_train=173, metric_mi|age_categorical_train=0.253]"
     ]
    },
    {
     "name": "stdout",
     "output_type": "stream",
     "text": [
      "\r\n",
      "Epoch 111/600:  18%|█▊        | 110/600 [1:32:59<6:42:41, 49.31s/it, v_num=7x_1, total_loss_train=530, kl_local_train=173, metric_mi|age_categorical_train=0.253]"
     ]
    },
    {
     "name": "stdout",
     "output_type": "stream",
     "text": [
      "\r\n",
      "Epoch 111/600:  18%|█▊        | 111/600 [1:33:49<6:43:49, 49.55s/it, v_num=7x_1, total_loss_train=530, kl_local_train=173, metric_mi|age_categorical_train=0.253]"
     ]
    },
    {
     "name": "stdout",
     "output_type": "stream",
     "text": [
      "\r\n",
      "Epoch 111/600:  18%|█▊        | 111/600 [1:33:49<6:43:49, 49.55s/it, v_num=7x_1, total_loss_train=530, kl_local_train=175, metric_mi|age_categorical_train=0.271]"
     ]
    },
    {
     "name": "stdout",
     "output_type": "stream",
     "text": [
      "\r\n",
      "Epoch 112/600:  18%|█▊        | 111/600 [1:33:49<6:43:49, 49.55s/it, v_num=7x_1, total_loss_train=530, kl_local_train=175, metric_mi|age_categorical_train=0.271]"
     ]
    },
    {
     "name": "stdout",
     "output_type": "stream",
     "text": [
      "\r\n",
      "Epoch 112/600:  19%|█▊        | 112/600 [1:34:38<6:42:14, 49.46s/it, v_num=7x_1, total_loss_train=530, kl_local_train=175, metric_mi|age_categorical_train=0.271]"
     ]
    },
    {
     "name": "stdout",
     "output_type": "stream",
     "text": [
      "\r\n",
      "Epoch 112/600:  19%|█▊        | 112/600 [1:34:38<6:42:14, 49.46s/it, v_num=7x_1, total_loss_train=530, kl_local_train=174, metric_mi|age_categorical_train=0.271]"
     ]
    },
    {
     "name": "stdout",
     "output_type": "stream",
     "text": [
      "\r\n",
      "Epoch 113/600:  19%|█▊        | 112/600 [1:34:38<6:42:14, 49.46s/it, v_num=7x_1, total_loss_train=530, kl_local_train=174, metric_mi|age_categorical_train=0.271]"
     ]
    },
    {
     "name": "stdout",
     "output_type": "stream",
     "text": [
      "\r\n",
      "Epoch 113/600:  19%|█▉        | 113/600 [1:35:27<6:40:35, 49.35s/it, v_num=7x_1, total_loss_train=530, kl_local_train=174, metric_mi|age_categorical_train=0.271]"
     ]
    },
    {
     "name": "stdout",
     "output_type": "stream",
     "text": [
      "\r\n",
      "Epoch 113/600:  19%|█▉        | 113/600 [1:35:27<6:40:35, 49.35s/it, v_num=7x_1, total_loss_train=530, kl_local_train=172, metric_mi|age_categorical_train=0.271]"
     ]
    },
    {
     "name": "stdout",
     "output_type": "stream",
     "text": [
      "\r\n",
      "Epoch 114/600:  19%|█▉        | 113/600 [1:35:27<6:40:35, 49.35s/it, v_num=7x_1, total_loss_train=530, kl_local_train=172, metric_mi|age_categorical_train=0.271]"
     ]
    },
    {
     "name": "stdout",
     "output_type": "stream",
     "text": [
      "\r\n",
      "Epoch 114/600:  19%|█▉        | 114/600 [1:36:16<6:39:32, 49.33s/it, v_num=7x_1, total_loss_train=530, kl_local_train=172, metric_mi|age_categorical_train=0.271]"
     ]
    },
    {
     "name": "stdout",
     "output_type": "stream",
     "text": [
      "\r\n",
      "Epoch 114/600:  19%|█▉        | 114/600 [1:36:16<6:39:32, 49.33s/it, v_num=7x_1, total_loss_train=530, kl_local_train=172, metric_mi|age_categorical_train=0.271]"
     ]
    },
    {
     "name": "stdout",
     "output_type": "stream",
     "text": [
      "\r\n",
      "Epoch 115/600:  19%|█▉        | 114/600 [1:36:16<6:39:32, 49.33s/it, v_num=7x_1, total_loss_train=530, kl_local_train=172, metric_mi|age_categorical_train=0.271]"
     ]
    },
    {
     "name": "stdout",
     "output_type": "stream",
     "text": [
      "\r\n",
      "Epoch 115/600:  19%|█▉        | 115/600 [1:37:06<6:40:09, 49.50s/it, v_num=7x_1, total_loss_train=530, kl_local_train=172, metric_mi|age_categorical_train=0.271]"
     ]
    },
    {
     "name": "stdout",
     "output_type": "stream",
     "text": [
      "\r\n",
      "Epoch 115/600:  19%|█▉        | 115/600 [1:37:06<6:40:09, 49.50s/it, v_num=7x_1, total_loss_train=530, kl_local_train=170, metric_mi|age_categorical_train=0.271]"
     ]
    },
    {
     "name": "stdout",
     "output_type": "stream",
     "text": [
      "\r\n",
      "Epoch 116/600:  19%|█▉        | 115/600 [1:37:07<6:40:09, 49.50s/it, v_num=7x_1, total_loss_train=530, kl_local_train=170, metric_mi|age_categorical_train=0.271]"
     ]
    },
    {
     "name": "stdout",
     "output_type": "stream",
     "text": [
      "\r\n",
      "Epoch 116/600:  19%|█▉        | 116/600 [1:37:56<6:40:39, 49.67s/it, v_num=7x_1, total_loss_train=530, kl_local_train=170, metric_mi|age_categorical_train=0.271]"
     ]
    },
    {
     "name": "stdout",
     "output_type": "stream",
     "text": [
      "\r\n",
      "Epoch 116/600:  19%|█▉        | 116/600 [1:37:56<6:40:39, 49.67s/it, v_num=7x_1, total_loss_train=529, kl_local_train=168, metric_mi|age_categorical_train=0.284]"
     ]
    },
    {
     "name": "stdout",
     "output_type": "stream",
     "text": [
      "\r\n",
      "Epoch 117/600:  19%|█▉        | 116/600 [1:37:56<6:40:39, 49.67s/it, v_num=7x_1, total_loss_train=529, kl_local_train=168, metric_mi|age_categorical_train=0.284]"
     ]
    },
    {
     "name": "stdout",
     "output_type": "stream",
     "text": [
      "\r\n",
      "Epoch 117/600:  20%|█▉        | 117/600 [1:38:46<6:38:35, 49.51s/it, v_num=7x_1, total_loss_train=529, kl_local_train=168, metric_mi|age_categorical_train=0.284]"
     ]
    },
    {
     "name": "stdout",
     "output_type": "stream",
     "text": [
      "\r\n",
      "Epoch 117/600:  20%|█▉        | 117/600 [1:38:46<6:38:35, 49.51s/it, v_num=7x_1, total_loss_train=528, kl_local_train=169, metric_mi|age_categorical_train=0.284]"
     ]
    },
    {
     "name": "stdout",
     "output_type": "stream",
     "text": [
      "\r\n",
      "Epoch 118/600:  20%|█▉        | 117/600 [1:38:46<6:38:35, 49.51s/it, v_num=7x_1, total_loss_train=528, kl_local_train=169, metric_mi|age_categorical_train=0.284]"
     ]
    },
    {
     "name": "stdout",
     "output_type": "stream",
     "text": [
      "\r\n",
      "Epoch 118/600:  20%|█▉        | 118/600 [1:39:35<6:37:02, 49.42s/it, v_num=7x_1, total_loss_train=528, kl_local_train=169, metric_mi|age_categorical_train=0.284]"
     ]
    },
    {
     "name": "stdout",
     "output_type": "stream",
     "text": [
      "\r\n",
      "Epoch 118/600:  20%|█▉        | 118/600 [1:39:35<6:37:02, 49.42s/it, v_num=7x_1, total_loss_train=528, kl_local_train=169, metric_mi|age_categorical_train=0.284]"
     ]
    },
    {
     "name": "stdout",
     "output_type": "stream",
     "text": [
      "\r\n",
      "Epoch 119/600:  20%|█▉        | 118/600 [1:39:35<6:37:02, 49.42s/it, v_num=7x_1, total_loss_train=528, kl_local_train=169, metric_mi|age_categorical_train=0.284]"
     ]
    },
    {
     "name": "stdout",
     "output_type": "stream",
     "text": [
      "\r\n",
      "Epoch 119/600:  20%|█▉        | 119/600 [1:40:24<6:35:54, 49.39s/it, v_num=7x_1, total_loss_train=528, kl_local_train=169, metric_mi|age_categorical_train=0.284]"
     ]
    },
    {
     "name": "stdout",
     "output_type": "stream",
     "text": [
      "\r\n",
      "Epoch 119/600:  20%|█▉        | 119/600 [1:40:24<6:35:54, 49.39s/it, v_num=7x_1, total_loss_train=529, kl_local_train=167, metric_mi|age_categorical_train=0.284]"
     ]
    },
    {
     "name": "stdout",
     "output_type": "stream",
     "text": [
      "\r\n",
      "Epoch 120/600:  20%|█▉        | 119/600 [1:40:24<6:35:54, 49.39s/it, v_num=7x_1, total_loss_train=529, kl_local_train=167, metric_mi|age_categorical_train=0.284]"
     ]
    },
    {
     "name": "stdout",
     "output_type": "stream",
     "text": [
      "\r\n",
      "Epoch 120/600:  20%|██        | 120/600 [1:41:17<6:42:28, 50.31s/it, v_num=7x_1, total_loss_train=529, kl_local_train=167, metric_mi|age_categorical_train=0.284]"
     ]
    },
    {
     "name": "stdout",
     "output_type": "stream",
     "text": [
      "\r\n",
      "Epoch 120/600:  20%|██        | 120/600 [1:41:17<6:42:28, 50.31s/it, v_num=7x_1, total_loss_train=528, kl_local_train=166, metric_mi|age_categorical_train=0.284]"
     ]
    },
    {
     "name": "stdout",
     "output_type": "stream",
     "text": [
      "\r\n",
      "Epoch 121/600:  20%|██        | 120/600 [1:41:17<6:42:28, 50.31s/it, v_num=7x_1, total_loss_train=528, kl_local_train=166, metric_mi|age_categorical_train=0.284]"
     ]
    },
    {
     "name": "stdout",
     "output_type": "stream",
     "text": [
      "\r\n",
      "Epoch 121/600:  20%|██        | 121/600 [1:42:13<6:56:23, 52.16s/it, v_num=7x_1, total_loss_train=528, kl_local_train=166, metric_mi|age_categorical_train=0.284]"
     ]
    },
    {
     "name": "stdout",
     "output_type": "stream",
     "text": [
      "\r\n",
      "Epoch 121/600:  20%|██        | 121/600 [1:42:13<6:56:23, 52.16s/it, v_num=7x_1, total_loss_train=528, kl_local_train=167, metric_mi|age_categorical_train=0.299]"
     ]
    },
    {
     "name": "stdout",
     "output_type": "stream",
     "text": [
      "\r\n",
      "Epoch 122/600:  20%|██        | 121/600 [1:42:13<6:56:23, 52.16s/it, v_num=7x_1, total_loss_train=528, kl_local_train=167, metric_mi|age_categorical_train=0.299]"
     ]
    },
    {
     "name": "stdout",
     "output_type": "stream",
     "text": [
      "\r\n",
      "Epoch 122/600:  20%|██        | 122/600 [1:43:09<7:03:48, 53.20s/it, v_num=7x_1, total_loss_train=528, kl_local_train=167, metric_mi|age_categorical_train=0.299]"
     ]
    },
    {
     "name": "stdout",
     "output_type": "stream",
     "text": [
      "\r\n",
      "Epoch 122/600:  20%|██        | 122/600 [1:43:09<7:03:48, 53.20s/it, v_num=7x_1, total_loss_train=528, kl_local_train=166, metric_mi|age_categorical_train=0.299]"
     ]
    },
    {
     "name": "stdout",
     "output_type": "stream",
     "text": [
      "\r\n",
      "Epoch 123/600:  20%|██        | 122/600 [1:43:09<7:03:48, 53.20s/it, v_num=7x_1, total_loss_train=528, kl_local_train=166, metric_mi|age_categorical_train=0.299]"
     ]
    },
    {
     "name": "stdout",
     "output_type": "stream",
     "text": [
      "\r\n",
      "Epoch 123/600:  20%|██        | 123/600 [1:44:04<7:08:16, 53.87s/it, v_num=7x_1, total_loss_train=528, kl_local_train=166, metric_mi|age_categorical_train=0.299]"
     ]
    },
    {
     "name": "stdout",
     "output_type": "stream",
     "text": [
      "\r\n",
      "Epoch 123/600:  20%|██        | 123/600 [1:44:04<7:08:16, 53.87s/it, v_num=7x_1, total_loss_train=528, kl_local_train=167, metric_mi|age_categorical_train=0.299]"
     ]
    },
    {
     "name": "stdout",
     "output_type": "stream",
     "text": [
      "\r\n",
      "Epoch 124/600:  20%|██        | 123/600 [1:44:04<7:08:16, 53.87s/it, v_num=7x_1, total_loss_train=528, kl_local_train=167, metric_mi|age_categorical_train=0.299]"
     ]
    },
    {
     "name": "stdout",
     "output_type": "stream",
     "text": [
      "\r\n",
      "Epoch 124/600:  21%|██        | 124/600 [1:45:00<7:11:10, 54.35s/it, v_num=7x_1, total_loss_train=528, kl_local_train=167, metric_mi|age_categorical_train=0.299]"
     ]
    },
    {
     "name": "stdout",
     "output_type": "stream",
     "text": [
      "\r\n",
      "Epoch 124/600:  21%|██        | 124/600 [1:45:00<7:11:10, 54.35s/it, v_num=7x_1, total_loss_train=528, kl_local_train=166, metric_mi|age_categorical_train=0.299]"
     ]
    },
    {
     "name": "stdout",
     "output_type": "stream",
     "text": [
      "\r\n",
      "Epoch 125/600:  21%|██        | 124/600 [1:45:00<7:11:10, 54.35s/it, v_num=7x_1, total_loss_train=528, kl_local_train=166, metric_mi|age_categorical_train=0.299]"
     ]
    },
    {
     "name": "stdout",
     "output_type": "stream",
     "text": [
      "\r\n",
      "Epoch 125/600:  21%|██        | 125/600 [1:45:56<7:14:17, 54.86s/it, v_num=7x_1, total_loss_train=528, kl_local_train=166, metric_mi|age_categorical_train=0.299]"
     ]
    },
    {
     "name": "stdout",
     "output_type": "stream",
     "text": [
      "\r\n",
      "Epoch 125/600:  21%|██        | 125/600 [1:45:56<7:14:17, 54.86s/it, v_num=7x_1, total_loss_train=528, kl_local_train=165, metric_mi|age_categorical_train=0.299]"
     ]
    },
    {
     "name": "stdout",
     "output_type": "stream",
     "text": [
      "\r\n",
      "Epoch 126/600:  21%|██        | 125/600 [1:45:56<7:14:17, 54.86s/it, v_num=7x_1, total_loss_train=528, kl_local_train=165, metric_mi|age_categorical_train=0.299]"
     ]
    },
    {
     "name": "stdout",
     "output_type": "stream",
     "text": [
      "\r\n",
      "Epoch 126/600:  21%|██        | 126/600 [1:46:52<7:17:39, 55.40s/it, v_num=7x_1, total_loss_train=528, kl_local_train=165, metric_mi|age_categorical_train=0.299]"
     ]
    },
    {
     "name": "stdout",
     "output_type": "stream",
     "text": [
      "\r\n",
      "Epoch 126/600:  21%|██        | 126/600 [1:46:52<7:17:39, 55.40s/it, v_num=7x_1, total_loss_train=528, kl_local_train=165, metric_mi|age_categorical_train=0.307]"
     ]
    },
    {
     "name": "stdout",
     "output_type": "stream",
     "text": [
      "\r\n",
      "Epoch 127/600:  21%|██        | 126/600 [1:46:52<7:17:39, 55.40s/it, v_num=7x_1, total_loss_train=528, kl_local_train=165, metric_mi|age_categorical_train=0.307]"
     ]
    },
    {
     "name": "stdout",
     "output_type": "stream",
     "text": [
      "\r\n",
      "Epoch 127/600:  21%|██        | 127/600 [1:47:48<7:16:59, 55.43s/it, v_num=7x_1, total_loss_train=528, kl_local_train=165, metric_mi|age_categorical_train=0.307]"
     ]
    },
    {
     "name": "stdout",
     "output_type": "stream",
     "text": [
      "\r\n",
      "Epoch 127/600:  21%|██        | 127/600 [1:47:48<7:16:59, 55.43s/it, v_num=7x_1, total_loss_train=528, kl_local_train=163, metric_mi|age_categorical_train=0.307]"
     ]
    },
    {
     "name": "stdout",
     "output_type": "stream",
     "text": [
      "\r\n",
      "Epoch 128/600:  21%|██        | 127/600 [1:47:48<7:16:59, 55.43s/it, v_num=7x_1, total_loss_train=528, kl_local_train=163, metric_mi|age_categorical_train=0.307]"
     ]
    },
    {
     "name": "stdout",
     "output_type": "stream",
     "text": [
      "\r\n",
      "Epoch 128/600:  21%|██▏       | 128/600 [1:48:43<7:15:49, 55.40s/it, v_num=7x_1, total_loss_train=528, kl_local_train=163, metric_mi|age_categorical_train=0.307]"
     ]
    },
    {
     "name": "stdout",
     "output_type": "stream",
     "text": [
      "\r\n",
      "Epoch 128/600:  21%|██▏       | 128/600 [1:48:43<7:15:49, 55.40s/it, v_num=7x_1, total_loss_train=528, kl_local_train=161, metric_mi|age_categorical_train=0.307]"
     ]
    },
    {
     "name": "stdout",
     "output_type": "stream",
     "text": [
      "\r\n",
      "Epoch 129/600:  21%|██▏       | 128/600 [1:48:43<7:15:49, 55.40s/it, v_num=7x_1, total_loss_train=528, kl_local_train=161, metric_mi|age_categorical_train=0.307]"
     ]
    },
    {
     "name": "stdout",
     "output_type": "stream",
     "text": [
      "\r\n",
      "Epoch 129/600:  22%|██▏       | 129/600 [1:49:38<7:14:54, 55.40s/it, v_num=7x_1, total_loss_train=528, kl_local_train=161, metric_mi|age_categorical_train=0.307]"
     ]
    },
    {
     "name": "stdout",
     "output_type": "stream",
     "text": [
      "\r\n",
      "Epoch 129/600:  22%|██▏       | 129/600 [1:49:38<7:14:54, 55.40s/it, v_num=7x_1, total_loss_train=527, kl_local_train=159, metric_mi|age_categorical_train=0.307]"
     ]
    },
    {
     "name": "stdout",
     "output_type": "stream",
     "text": [
      "\r\n",
      "Epoch 130/600:  22%|██▏       | 129/600 [1:49:38<7:14:54, 55.40s/it, v_num=7x_1, total_loss_train=527, kl_local_train=159, metric_mi|age_categorical_train=0.307]"
     ]
    },
    {
     "name": "stdout",
     "output_type": "stream",
     "text": [
      "\r\n",
      "Epoch 130/600:  22%|██▏       | 130/600 [1:50:35<7:15:32, 55.60s/it, v_num=7x_1, total_loss_train=527, kl_local_train=159, metric_mi|age_categorical_train=0.307]"
     ]
    },
    {
     "name": "stdout",
     "output_type": "stream",
     "text": [
      "\r\n",
      "Epoch 130/600:  22%|██▏       | 130/600 [1:50:35<7:15:32, 55.60s/it, v_num=7x_1, total_loss_train=528, kl_local_train=159, metric_mi|age_categorical_train=0.307]"
     ]
    },
    {
     "name": "stdout",
     "output_type": "stream",
     "text": [
      "\r\n",
      "Epoch 131/600:  22%|██▏       | 130/600 [1:50:35<7:15:32, 55.60s/it, v_num=7x_1, total_loss_train=528, kl_local_train=159, metric_mi|age_categorical_train=0.307]"
     ]
    },
    {
     "name": "stdout",
     "output_type": "stream",
     "text": [
      "\r\n",
      "Epoch 131/600:  22%|██▏       | 131/600 [1:51:31<7:16:30, 55.84s/it, v_num=7x_1, total_loss_train=528, kl_local_train=159, metric_mi|age_categorical_train=0.307]"
     ]
    },
    {
     "name": "stdout",
     "output_type": "stream",
     "text": [
      "\r\n",
      "Epoch 131/600:  22%|██▏       | 131/600 [1:51:31<7:16:30, 55.84s/it, v_num=7x_1, total_loss_train=528, kl_local_train=159, metric_mi|age_categorical_train=0.31] "
     ]
    },
    {
     "name": "stdout",
     "output_type": "stream",
     "text": [
      "\r\n",
      "Epoch 132/600:  22%|██▏       | 131/600 [1:51:31<7:16:30, 55.84s/it, v_num=7x_1, total_loss_train=528, kl_local_train=159, metric_mi|age_categorical_train=0.31]"
     ]
    },
    {
     "name": "stdout",
     "output_type": "stream",
     "text": [
      "\r\n",
      "Epoch 132/600:  22%|██▏       | 132/600 [1:52:21<7:02:06, 54.12s/it, v_num=7x_1, total_loss_train=528, kl_local_train=159, metric_mi|age_categorical_train=0.31]"
     ]
    },
    {
     "name": "stdout",
     "output_type": "stream",
     "text": [
      "\r\n",
      "Epoch 132/600:  22%|██▏       | 132/600 [1:52:21<7:02:06, 54.12s/it, v_num=7x_1, total_loss_train=528, kl_local_train=160, metric_mi|age_categorical_train=0.31]"
     ]
    },
    {
     "name": "stdout",
     "output_type": "stream",
     "text": [
      "\r\n",
      "Epoch 133/600:  22%|██▏       | 132/600 [1:52:21<7:02:06, 54.12s/it, v_num=7x_1, total_loss_train=528, kl_local_train=160, metric_mi|age_categorical_train=0.31]"
     ]
    },
    {
     "name": "stdout",
     "output_type": "stream",
     "text": [
      "\r\n",
      "Epoch 133/600:  22%|██▏       | 133/600 [1:53:10<6:49:34, 52.62s/it, v_num=7x_1, total_loss_train=528, kl_local_train=160, metric_mi|age_categorical_train=0.31]"
     ]
    },
    {
     "name": "stdout",
     "output_type": "stream",
     "text": [
      "\r\n",
      "Epoch 133/600:  22%|██▏       | 133/600 [1:53:10<6:49:34, 52.62s/it, v_num=7x_1, total_loss_train=527, kl_local_train=160, metric_mi|age_categorical_train=0.31]"
     ]
    },
    {
     "name": "stdout",
     "output_type": "stream",
     "text": [
      "\r\n",
      "Epoch 134/600:  22%|██▏       | 133/600 [1:53:10<6:49:34, 52.62s/it, v_num=7x_1, total_loss_train=527, kl_local_train=160, metric_mi|age_categorical_train=0.31]"
     ]
    },
    {
     "name": "stdout",
     "output_type": "stream",
     "text": [
      "\r\n",
      "Epoch 134/600:  22%|██▏       | 134/600 [1:53:59<6:40:39, 51.59s/it, v_num=7x_1, total_loss_train=527, kl_local_train=160, metric_mi|age_categorical_train=0.31]"
     ]
    },
    {
     "name": "stdout",
     "output_type": "stream",
     "text": [
      "\r\n",
      "Epoch 134/600:  22%|██▏       | 134/600 [1:53:59<6:40:39, 51.59s/it, v_num=7x_1, total_loss_train=528, kl_local_train=159, metric_mi|age_categorical_train=0.31]"
     ]
    },
    {
     "name": "stdout",
     "output_type": "stream",
     "text": [
      "\r\n",
      "Epoch 135/600:  22%|██▏       | 134/600 [1:53:59<6:40:39, 51.59s/it, v_num=7x_1, total_loss_train=528, kl_local_train=159, metric_mi|age_categorical_train=0.31]"
     ]
    },
    {
     "name": "stdout",
     "output_type": "stream",
     "text": [
      "\r\n",
      "Epoch 135/600:  22%|██▎       | 135/600 [1:54:49<6:36:00, 51.10s/it, v_num=7x_1, total_loss_train=528, kl_local_train=159, metric_mi|age_categorical_train=0.31]"
     ]
    },
    {
     "name": "stdout",
     "output_type": "stream",
     "text": [
      "\r\n",
      "Epoch 135/600:  22%|██▎       | 135/600 [1:54:49<6:36:00, 51.10s/it, v_num=7x_1, total_loss_train=528, kl_local_train=158, metric_mi|age_categorical_train=0.31]"
     ]
    },
    {
     "name": "stdout",
     "output_type": "stream",
     "text": [
      "\r\n",
      "Epoch 136/600:  22%|██▎       | 135/600 [1:54:50<6:36:00, 51.10s/it, v_num=7x_1, total_loss_train=528, kl_local_train=158, metric_mi|age_categorical_train=0.31]"
     ]
    },
    {
     "name": "stdout",
     "output_type": "stream",
     "text": [
      "\r\n",
      "Epoch 136/600:  23%|██▎       | 136/600 [1:55:39<6:32:58, 50.82s/it, v_num=7x_1, total_loss_train=528, kl_local_train=158, metric_mi|age_categorical_train=0.31]"
     ]
    },
    {
     "name": "stdout",
     "output_type": "stream",
     "text": [
      "\r\n",
      "Epoch 136/600:  23%|██▎       | 136/600 [1:55:39<6:32:58, 50.82s/it, v_num=7x_1, total_loss_train=528, kl_local_train=158, metric_mi|age_categorical_train=0.316]"
     ]
    },
    {
     "name": "stdout",
     "output_type": "stream",
     "text": [
      "\r\n",
      "Epoch 137/600:  23%|██▎       | 136/600 [1:55:39<6:32:58, 50.82s/it, v_num=7x_1, total_loss_train=528, kl_local_train=158, metric_mi|age_categorical_train=0.316]"
     ]
    },
    {
     "name": "stdout",
     "output_type": "stream",
     "text": [
      "\r\n",
      "Epoch 137/600:  23%|██▎       | 137/600 [1:56:29<6:28:40, 50.37s/it, v_num=7x_1, total_loss_train=528, kl_local_train=158, metric_mi|age_categorical_train=0.316]"
     ]
    },
    {
     "name": "stdout",
     "output_type": "stream",
     "text": [
      "\r\n",
      "Epoch 137/600:  23%|██▎       | 137/600 [1:56:29<6:28:40, 50.37s/it, v_num=7x_1, total_loss_train=528, kl_local_train=155, metric_mi|age_categorical_train=0.316]"
     ]
    },
    {
     "name": "stdout",
     "output_type": "stream",
     "text": [
      "\r\n",
      "Epoch 138/600:  23%|██▎       | 137/600 [1:56:29<6:28:40, 50.37s/it, v_num=7x_1, total_loss_train=528, kl_local_train=155, metric_mi|age_categorical_train=0.316]"
     ]
    },
    {
     "name": "stdout",
     "output_type": "stream",
     "text": [
      "\r\n",
      "Epoch 138/600:  23%|██▎       | 138/600 [1:57:18<6:25:57, 50.13s/it, v_num=7x_1, total_loss_train=528, kl_local_train=155, metric_mi|age_categorical_train=0.316]"
     ]
    },
    {
     "name": "stdout",
     "output_type": "stream",
     "text": [
      "\r\n",
      "Epoch 138/600:  23%|██▎       | 138/600 [1:57:18<6:25:57, 50.13s/it, v_num=7x_1, total_loss_train=528, kl_local_train=156, metric_mi|age_categorical_train=0.316]"
     ]
    },
    {
     "name": "stdout",
     "output_type": "stream",
     "text": [
      "\r\n",
      "Epoch 139/600:  23%|██▎       | 138/600 [1:57:18<6:25:57, 50.13s/it, v_num=7x_1, total_loss_train=528, kl_local_train=156, metric_mi|age_categorical_train=0.316]"
     ]
    },
    {
     "name": "stdout",
     "output_type": "stream",
     "text": [
      "\r\n",
      "Epoch 139/600:  23%|██▎       | 139/600 [1:58:08<6:23:14, 49.88s/it, v_num=7x_1, total_loss_train=528, kl_local_train=156, metric_mi|age_categorical_train=0.316]"
     ]
    },
    {
     "name": "stdout",
     "output_type": "stream",
     "text": [
      "\r\n",
      "Epoch 139/600:  23%|██▎       | 139/600 [1:58:08<6:23:14, 49.88s/it, v_num=7x_1, total_loss_train=528, kl_local_train=156, metric_mi|age_categorical_train=0.316]"
     ]
    },
    {
     "name": "stdout",
     "output_type": "stream",
     "text": [
      "\r\n",
      "Epoch 140/600:  23%|██▎       | 139/600 [1:58:08<6:23:14, 49.88s/it, v_num=7x_1, total_loss_train=528, kl_local_train=156, metric_mi|age_categorical_train=0.316]"
     ]
    },
    {
     "name": "stdout",
     "output_type": "stream",
     "text": [
      "\r\n",
      "Epoch 140/600:  23%|██▎       | 140/600 [1:58:57<6:22:14, 49.86s/it, v_num=7x_1, total_loss_train=528, kl_local_train=156, metric_mi|age_categorical_train=0.316]"
     ]
    },
    {
     "name": "stdout",
     "output_type": "stream",
     "text": [
      "\r\n",
      "Epoch 140/600:  23%|██▎       | 140/600 [1:58:57<6:22:14, 49.86s/it, v_num=7x_1, total_loss_train=528, kl_local_train=157, metric_mi|age_categorical_train=0.316]"
     ]
    },
    {
     "name": "stdout",
     "output_type": "stream",
     "text": [
      "\r\n",
      "Epoch 141/600:  23%|██▎       | 140/600 [1:58:58<6:22:14, 49.86s/it, v_num=7x_1, total_loss_train=528, kl_local_train=157, metric_mi|age_categorical_train=0.316]"
     ]
    },
    {
     "name": "stdout",
     "output_type": "stream",
     "text": [
      "\r\n",
      "Epoch 141/600:  24%|██▎       | 141/600 [1:59:48<6:22:38, 50.02s/it, v_num=7x_1, total_loss_train=528, kl_local_train=157, metric_mi|age_categorical_train=0.316]"
     ]
    },
    {
     "name": "stdout",
     "output_type": "stream",
     "text": [
      "\r\n",
      "Epoch 141/600:  24%|██▎       | 141/600 [1:59:48<6:22:38, 50.02s/it, v_num=7x_1, total_loss_train=529, kl_local_train=157, metric_mi|age_categorical_train=0.319]"
     ]
    },
    {
     "name": "stdout",
     "output_type": "stream",
     "text": [
      "\r\n",
      "Epoch 142/600:  24%|██▎       | 141/600 [1:59:48<6:22:38, 50.02s/it, v_num=7x_1, total_loss_train=529, kl_local_train=157, metric_mi|age_categorical_train=0.319]"
     ]
    },
    {
     "name": "stdout",
     "output_type": "stream",
     "text": [
      "\r\n",
      "Epoch 142/600:  24%|██▎       | 142/600 [2:00:37<6:20:44, 49.88s/it, v_num=7x_1, total_loss_train=529, kl_local_train=157, metric_mi|age_categorical_train=0.319]"
     ]
    },
    {
     "name": "stdout",
     "output_type": "stream",
     "text": [
      "\r\n",
      "Epoch 142/600:  24%|██▎       | 142/600 [2:00:37<6:20:44, 49.88s/it, v_num=7x_1, total_loss_train=528, kl_local_train=156, metric_mi|age_categorical_train=0.319]"
     ]
    },
    {
     "name": "stdout",
     "output_type": "stream",
     "text": [
      "\r\n",
      "Epoch 143/600:  24%|██▎       | 142/600 [2:00:37<6:20:44, 49.88s/it, v_num=7x_1, total_loss_train=528, kl_local_train=156, metric_mi|age_categorical_train=0.319]"
     ]
    },
    {
     "name": "stdout",
     "output_type": "stream",
     "text": [
      "\r\n",
      "Epoch 143/600:  24%|██▍       | 143/600 [2:01:27<6:18:53, 49.74s/it, v_num=7x_1, total_loss_train=528, kl_local_train=156, metric_mi|age_categorical_train=0.319]"
     ]
    },
    {
     "name": "stdout",
     "output_type": "stream",
     "text": [
      "\r\n",
      "Epoch 143/600:  24%|██▍       | 143/600 [2:01:27<6:18:53, 49.74s/it, v_num=7x_1, total_loss_train=529, kl_local_train=155, metric_mi|age_categorical_train=0.319]"
     ]
    },
    {
     "name": "stdout",
     "output_type": "stream",
     "text": [
      "\r\n",
      "Epoch 144/600:  24%|██▍       | 143/600 [2:01:27<6:18:53, 49.74s/it, v_num=7x_1, total_loss_train=529, kl_local_train=155, metric_mi|age_categorical_train=0.319]"
     ]
    },
    {
     "name": "stdout",
     "output_type": "stream",
     "text": [
      "\r\n",
      "Epoch 144/600:  24%|██▍       | 144/600 [2:02:16<6:17:32, 49.68s/it, v_num=7x_1, total_loss_train=529, kl_local_train=155, metric_mi|age_categorical_train=0.319]"
     ]
    },
    {
     "name": "stdout",
     "output_type": "stream",
     "text": [
      "\r\n",
      "Epoch 144/600:  24%|██▍       | 144/600 [2:02:16<6:17:32, 49.68s/it, v_num=7x_1, total_loss_train=529, kl_local_train=154, metric_mi|age_categorical_train=0.319]"
     ]
    },
    {
     "name": "stdout",
     "output_type": "stream",
     "text": [
      "\r\n",
      "Epoch 145/600:  24%|██▍       | 144/600 [2:02:16<6:17:32, 49.68s/it, v_num=7x_1, total_loss_train=529, kl_local_train=154, metric_mi|age_categorical_train=0.319]"
     ]
    },
    {
     "name": "stdout",
     "output_type": "stream",
     "text": [
      "\r\n",
      "Epoch 145/600:  24%|██▍       | 145/600 [2:03:06<6:16:38, 49.67s/it, v_num=7x_1, total_loss_train=529, kl_local_train=154, metric_mi|age_categorical_train=0.319]"
     ]
    },
    {
     "name": "stdout",
     "output_type": "stream",
     "text": [
      "\r\n",
      "Epoch 145/600:  24%|██▍       | 145/600 [2:03:06<6:16:38, 49.67s/it, v_num=7x_1, total_loss_train=528, kl_local_train=154, metric_mi|age_categorical_train=0.319]"
     ]
    },
    {
     "name": "stdout",
     "output_type": "stream",
     "text": [
      "\r\n",
      "Epoch 146/600:  24%|██▍       | 145/600 [2:03:07<6:16:38, 49.67s/it, v_num=7x_1, total_loss_train=528, kl_local_train=154, metric_mi|age_categorical_train=0.319]"
     ]
    },
    {
     "name": "stdout",
     "output_type": "stream",
     "text": [
      "\r\n",
      "Epoch 146/600:  24%|██▍       | 146/600 [2:03:56<6:16:54, 49.81s/it, v_num=7x_1, total_loss_train=528, kl_local_train=154, metric_mi|age_categorical_train=0.319]"
     ]
    },
    {
     "name": "stdout",
     "output_type": "stream",
     "text": [
      "\r\n",
      "Epoch 146/600:  24%|██▍       | 146/600 [2:03:56<6:16:54, 49.81s/it, v_num=7x_1, total_loss_train=528, kl_local_train=152, metric_mi|age_categorical_train=0.322]"
     ]
    },
    {
     "name": "stdout",
     "output_type": "stream",
     "text": [
      "\r\n",
      "Epoch 147/600:  24%|██▍       | 146/600 [2:03:56<6:16:54, 49.81s/it, v_num=7x_1, total_loss_train=528, kl_local_train=152, metric_mi|age_categorical_train=0.322]"
     ]
    },
    {
     "name": "stdout",
     "output_type": "stream",
     "text": [
      "\r\n",
      "Epoch 147/600:  24%|██▍       | 147/600 [2:04:45<6:14:54, 49.66s/it, v_num=7x_1, total_loss_train=528, kl_local_train=152, metric_mi|age_categorical_train=0.322]"
     ]
    },
    {
     "name": "stdout",
     "output_type": "stream",
     "text": [
      "\r\n",
      "Epoch 147/600:  24%|██▍       | 147/600 [2:04:45<6:14:54, 49.66s/it, v_num=7x_1, total_loss_train=528, kl_local_train=151, metric_mi|age_categorical_train=0.322]"
     ]
    },
    {
     "name": "stdout",
     "output_type": "stream",
     "text": [
      "\r\n",
      "Epoch 148/600:  24%|██▍       | 147/600 [2:04:45<6:14:54, 49.66s/it, v_num=7x_1, total_loss_train=528, kl_local_train=151, metric_mi|age_categorical_train=0.322]"
     ]
    },
    {
     "name": "stdout",
     "output_type": "stream",
     "text": [
      "\r\n",
      "Epoch 148/600:  25%|██▍       | 148/600 [2:05:35<6:13:31, 49.58s/it, v_num=7x_1, total_loss_train=528, kl_local_train=151, metric_mi|age_categorical_train=0.322]"
     ]
    },
    {
     "name": "stdout",
     "output_type": "stream",
     "text": [
      "\r\n",
      "Epoch 148/600:  25%|██▍       | 148/600 [2:05:35<6:13:31, 49.58s/it, v_num=7x_1, total_loss_train=529, kl_local_train=152, metric_mi|age_categorical_train=0.322]"
     ]
    },
    {
     "name": "stdout",
     "output_type": "stream",
     "text": [
      "\r\n",
      "Epoch 149/600:  25%|██▍       | 148/600 [2:05:35<6:13:31, 49.58s/it, v_num=7x_1, total_loss_train=529, kl_local_train=152, metric_mi|age_categorical_train=0.322]"
     ]
    },
    {
     "name": "stdout",
     "output_type": "stream",
     "text": [
      "\r\n",
      "Epoch 149/600:  25%|██▍       | 149/600 [2:06:24<6:12:09, 49.51s/it, v_num=7x_1, total_loss_train=529, kl_local_train=152, metric_mi|age_categorical_train=0.322]"
     ]
    },
    {
     "name": "stdout",
     "output_type": "stream",
     "text": [
      "\r\n",
      "Epoch 149/600:  25%|██▍       | 149/600 [2:06:24<6:12:09, 49.51s/it, v_num=7x_1, total_loss_train=529, kl_local_train=151, metric_mi|age_categorical_train=0.322]"
     ]
    },
    {
     "name": "stdout",
     "output_type": "stream",
     "text": [
      "\r\n",
      "Epoch 150/600:  25%|██▍       | 149/600 [2:06:24<6:12:09, 49.51s/it, v_num=7x_1, total_loss_train=529, kl_local_train=151, metric_mi|age_categorical_train=0.322]"
     ]
    },
    {
     "name": "stdout",
     "output_type": "stream",
     "text": [
      "\r\n",
      "Epoch 150/600:  25%|██▌       | 150/600 [2:07:14<6:12:57, 49.73s/it, v_num=7x_1, total_loss_train=529, kl_local_train=151, metric_mi|age_categorical_train=0.322]"
     ]
    },
    {
     "name": "stdout",
     "output_type": "stream",
     "text": [
      "\r\n",
      "Epoch 150/600:  25%|██▌       | 150/600 [2:07:14<6:12:57, 49.73s/it, v_num=7x_1, total_loss_train=529, kl_local_train=152, metric_mi|age_categorical_train=0.322]"
     ]
    },
    {
     "name": "stdout",
     "output_type": "stream",
     "text": [
      "\r\n",
      "Epoch 151/600:  25%|██▌       | 150/600 [2:07:15<6:12:57, 49.73s/it, v_num=7x_1, total_loss_train=529, kl_local_train=152, metric_mi|age_categorical_train=0.322]"
     ]
    },
    {
     "name": "stdout",
     "output_type": "stream",
     "text": [
      "\r\n",
      "Epoch 151/600:  25%|██▌       | 151/600 [2:08:05<6:12:59, 49.84s/it, v_num=7x_1, total_loss_train=529, kl_local_train=152, metric_mi|age_categorical_train=0.322]"
     ]
    },
    {
     "name": "stdout",
     "output_type": "stream",
     "text": [
      "\r\n",
      "Epoch 151/600:  25%|██▌       | 151/600 [2:08:05<6:12:59, 49.84s/it, v_num=7x_1, total_loss_train=529, kl_local_train=151, metric_mi|age_categorical_train=0.322]"
     ]
    },
    {
     "name": "stdout",
     "output_type": "stream",
     "text": [
      "\r\n",
      "Epoch 152/600:  25%|██▌       | 151/600 [2:08:05<6:12:59, 49.84s/it, v_num=7x_1, total_loss_train=529, kl_local_train=151, metric_mi|age_categorical_train=0.322]"
     ]
    },
    {
     "name": "stdout",
     "output_type": "stream",
     "text": [
      "\r\n",
      "Epoch 152/600:  25%|██▌       | 152/600 [2:08:54<6:11:02, 49.69s/it, v_num=7x_1, total_loss_train=529, kl_local_train=151, metric_mi|age_categorical_train=0.322]"
     ]
    },
    {
     "name": "stdout",
     "output_type": "stream",
     "text": [
      "\r\n",
      "Epoch 152/600:  25%|██▌       | 152/600 [2:08:54<6:11:02, 49.69s/it, v_num=7x_1, total_loss_train=529, kl_local_train=151, metric_mi|age_categorical_train=0.322]"
     ]
    },
    {
     "name": "stdout",
     "output_type": "stream",
     "text": [
      "\r\n",
      "Epoch 153/600:  25%|██▌       | 152/600 [2:08:54<6:11:02, 49.69s/it, v_num=7x_1, total_loss_train=529, kl_local_train=151, metric_mi|age_categorical_train=0.322]"
     ]
    },
    {
     "name": "stdout",
     "output_type": "stream",
     "text": [
      "\r\n",
      "Epoch 153/600:  26%|██▌       | 153/600 [2:09:43<6:09:11, 49.56s/it, v_num=7x_1, total_loss_train=529, kl_local_train=151, metric_mi|age_categorical_train=0.322]"
     ]
    },
    {
     "name": "stdout",
     "output_type": "stream",
     "text": [
      "\r\n",
      "Epoch 153/600:  26%|██▌       | 153/600 [2:09:43<6:09:11, 49.56s/it, v_num=7x_1, total_loss_train=529, kl_local_train=151, metric_mi|age_categorical_train=0.322]"
     ]
    },
    {
     "name": "stdout",
     "output_type": "stream",
     "text": [
      "\r\n",
      "Epoch 154/600:  26%|██▌       | 153/600 [2:09:43<6:09:11, 49.56s/it, v_num=7x_1, total_loss_train=529, kl_local_train=151, metric_mi|age_categorical_train=0.322]"
     ]
    },
    {
     "name": "stdout",
     "output_type": "stream",
     "text": [
      "\r\n",
      "Epoch 154/600:  26%|██▌       | 154/600 [2:10:32<6:07:45, 49.48s/it, v_num=7x_1, total_loss_train=529, kl_local_train=151, metric_mi|age_categorical_train=0.322]"
     ]
    },
    {
     "name": "stdout",
     "output_type": "stream",
     "text": [
      "\r\n",
      "Epoch 154/600:  26%|██▌       | 154/600 [2:10:32<6:07:45, 49.48s/it, v_num=7x_1, total_loss_train=529, kl_local_train=150, metric_mi|age_categorical_train=0.322]"
     ]
    },
    {
     "name": "stdout",
     "output_type": "stream",
     "text": [
      "\r\n",
      "Epoch 155/600:  26%|██▌       | 154/600 [2:10:32<6:07:45, 49.48s/it, v_num=7x_1, total_loss_train=529, kl_local_train=150, metric_mi|age_categorical_train=0.322]"
     ]
    },
    {
     "name": "stdout",
     "output_type": "stream",
     "text": [
      "\r\n",
      "Epoch 155/600:  26%|██▌       | 155/600 [2:11:22<6:07:03, 49.49s/it, v_num=7x_1, total_loss_train=529, kl_local_train=150, metric_mi|age_categorical_train=0.322]"
     ]
    },
    {
     "name": "stdout",
     "output_type": "stream",
     "text": [
      "\r\n",
      "Epoch 155/600:  26%|██▌       | 155/600 [2:11:22<6:07:03, 49.49s/it, v_num=7x_1, total_loss_train=529, kl_local_train=149, metric_mi|age_categorical_train=0.322]"
     ]
    },
    {
     "name": "stdout",
     "output_type": "stream",
     "text": [
      "\r\n",
      "Epoch 156/600:  26%|██▌       | 155/600 [2:11:23<6:07:03, 49.49s/it, v_num=7x_1, total_loss_train=529, kl_local_train=149, metric_mi|age_categorical_train=0.322]"
     ]
    },
    {
     "name": "stdout",
     "output_type": "stream",
     "text": [
      "\r\n",
      "Epoch 156/600:  26%|██▌       | 156/600 [2:12:12<6:07:52, 49.71s/it, v_num=7x_1, total_loss_train=529, kl_local_train=149, metric_mi|age_categorical_train=0.322]"
     ]
    },
    {
     "name": "stdout",
     "output_type": "stream",
     "text": [
      "\r\n",
      "Epoch 156/600:  26%|██▌       | 156/600 [2:12:12<6:07:52, 49.71s/it, v_num=7x_1, total_loss_train=529, kl_local_train=149, metric_mi|age_categorical_train=0.325]"
     ]
    },
    {
     "name": "stdout",
     "output_type": "stream",
     "text": [
      "\r\n",
      "Epoch 157/600:  26%|██▌       | 156/600 [2:12:12<6:07:52, 49.71s/it, v_num=7x_1, total_loss_train=529, kl_local_train=149, metric_mi|age_categorical_train=0.325]"
     ]
    },
    {
     "name": "stdout",
     "output_type": "stream",
     "text": [
      "\r\n",
      "Epoch 157/600:  26%|██▌       | 157/600 [2:13:01<6:05:57, 49.57s/it, v_num=7x_1, total_loss_train=529, kl_local_train=149, metric_mi|age_categorical_train=0.325]"
     ]
    },
    {
     "name": "stdout",
     "output_type": "stream",
     "text": [
      "\r\n",
      "Epoch 157/600:  26%|██▌       | 157/600 [2:13:01<6:05:57, 49.57s/it, v_num=7x_1, total_loss_train=529, kl_local_train=149, metric_mi|age_categorical_train=0.325]"
     ]
    },
    {
     "name": "stdout",
     "output_type": "stream",
     "text": [
      "\r\n",
      "Epoch 158/600:  26%|██▌       | 157/600 [2:13:01<6:05:57, 49.57s/it, v_num=7x_1, total_loss_train=529, kl_local_train=149, metric_mi|age_categorical_train=0.325]"
     ]
    },
    {
     "name": "stdout",
     "output_type": "stream",
     "text": [
      "\r\n",
      "Epoch 158/600:  26%|██▋       | 158/600 [2:13:50<6:04:08, 49.43s/it, v_num=7x_1, total_loss_train=529, kl_local_train=149, metric_mi|age_categorical_train=0.325]"
     ]
    },
    {
     "name": "stdout",
     "output_type": "stream",
     "text": [
      "\r\n",
      "Epoch 158/600:  26%|██▋       | 158/600 [2:13:50<6:04:08, 49.43s/it, v_num=7x_1, total_loss_train=529, kl_local_train=149, metric_mi|age_categorical_train=0.325]"
     ]
    },
    {
     "name": "stdout",
     "output_type": "stream",
     "text": [
      "\r\n",
      "Epoch 159/600:  26%|██▋       | 158/600 [2:13:51<6:04:08, 49.43s/it, v_num=7x_1, total_loss_train=529, kl_local_train=149, metric_mi|age_categorical_train=0.325]"
     ]
    },
    {
     "name": "stdout",
     "output_type": "stream",
     "text": [
      "\r\n",
      "Epoch 159/600:  26%|██▋       | 159/600 [2:14:39<6:02:21, 49.30s/it, v_num=7x_1, total_loss_train=529, kl_local_train=149, metric_mi|age_categorical_train=0.325]"
     ]
    },
    {
     "name": "stdout",
     "output_type": "stream",
     "text": [
      "\r\n",
      "Epoch 159/600:  26%|██▋       | 159/600 [2:14:39<6:02:21, 49.30s/it, v_num=7x_1, total_loss_train=529, kl_local_train=149, metric_mi|age_categorical_train=0.325]"
     ]
    },
    {
     "name": "stdout",
     "output_type": "stream",
     "text": [
      "\r\n",
      "Epoch 160/600:  26%|██▋       | 159/600 [2:14:40<6:02:21, 49.30s/it, v_num=7x_1, total_loss_train=529, kl_local_train=149, metric_mi|age_categorical_train=0.325]"
     ]
    },
    {
     "name": "stdout",
     "output_type": "stream",
     "text": [
      "\r\n",
      "Epoch 160/600:  27%|██▋       | 160/600 [2:15:29<6:01:15, 49.26s/it, v_num=7x_1, total_loss_train=529, kl_local_train=149, metric_mi|age_categorical_train=0.325]"
     ]
    },
    {
     "name": "stdout",
     "output_type": "stream",
     "text": [
      "\r\n",
      "Epoch 160/600:  27%|██▋       | 160/600 [2:15:29<6:01:15, 49.26s/it, v_num=7x_1, total_loss_train=529, kl_local_train=147, metric_mi|age_categorical_train=0.325]"
     ]
    },
    {
     "name": "stdout",
     "output_type": "stream",
     "text": [
      "\r\n",
      "Epoch 161/600:  27%|██▋       | 160/600 [2:15:29<6:01:15, 49.26s/it, v_num=7x_1, total_loss_train=529, kl_local_train=147, metric_mi|age_categorical_train=0.325]"
     ]
    },
    {
     "name": "stdout",
     "output_type": "stream",
     "text": [
      "\r\n",
      "Epoch 161/600:  27%|██▋       | 161/600 [2:16:19<6:01:47, 49.45s/it, v_num=7x_1, total_loss_train=529, kl_local_train=147, metric_mi|age_categorical_train=0.325]"
     ]
    },
    {
     "name": "stdout",
     "output_type": "stream",
     "text": [
      "\r\n",
      "Epoch 161/600:  27%|██▋       | 161/600 [2:16:19<6:01:47, 49.45s/it, v_num=7x_1, total_loss_train=529, kl_local_train=146, metric_mi|age_categorical_train=0.325]"
     ]
    },
    {
     "name": "stdout",
     "output_type": "stream",
     "text": [
      "\r\n",
      "Epoch 162/600:  27%|██▋       | 161/600 [2:16:19<6:01:47, 49.45s/it, v_num=7x_1, total_loss_train=529, kl_local_train=146, metric_mi|age_categorical_train=0.325]"
     ]
    },
    {
     "name": "stdout",
     "output_type": "stream",
     "text": [
      "\r\n",
      "Epoch 162/600:  27%|██▋       | 162/600 [2:17:08<6:00:16, 49.35s/it, v_num=7x_1, total_loss_train=529, kl_local_train=146, metric_mi|age_categorical_train=0.325]"
     ]
    },
    {
     "name": "stdout",
     "output_type": "stream",
     "text": [
      "\r\n",
      "Epoch 162/600:  27%|██▋       | 162/600 [2:17:08<6:00:16, 49.35s/it, v_num=7x_1, total_loss_train=530, kl_local_train=146, metric_mi|age_categorical_train=0.325]"
     ]
    },
    {
     "name": "stdout",
     "output_type": "stream",
     "text": [
      "\r\n",
      "Epoch 163/600:  27%|██▋       | 162/600 [2:17:08<6:00:16, 49.35s/it, v_num=7x_1, total_loss_train=530, kl_local_train=146, metric_mi|age_categorical_train=0.325]"
     ]
    },
    {
     "name": "stdout",
     "output_type": "stream",
     "text": [
      "\r\n",
      "Epoch 163/600:  27%|██▋       | 163/600 [2:17:57<5:58:43, 49.25s/it, v_num=7x_1, total_loss_train=530, kl_local_train=146, metric_mi|age_categorical_train=0.325]"
     ]
    },
    {
     "name": "stdout",
     "output_type": "stream",
     "text": [
      "\r\n",
      "Epoch 163/600:  27%|██▋       | 163/600 [2:17:57<5:58:43, 49.25s/it, v_num=7x_1, total_loss_train=529, kl_local_train=146, metric_mi|age_categorical_train=0.325]"
     ]
    },
    {
     "name": "stdout",
     "output_type": "stream",
     "text": [
      "\r\n",
      "Epoch 164/600:  27%|██▋       | 163/600 [2:17:57<5:58:43, 49.25s/it, v_num=7x_1, total_loss_train=529, kl_local_train=146, metric_mi|age_categorical_train=0.325]"
     ]
    },
    {
     "name": "stdout",
     "output_type": "stream",
     "text": [
      "\r\n",
      "Epoch 164/600:  27%|██▋       | 164/600 [2:18:46<5:57:21, 49.18s/it, v_num=7x_1, total_loss_train=529, kl_local_train=146, metric_mi|age_categorical_train=0.325]"
     ]
    },
    {
     "name": "stdout",
     "output_type": "stream",
     "text": [
      "\r\n",
      "Epoch 164/600:  27%|██▋       | 164/600 [2:18:46<5:57:21, 49.18s/it, v_num=7x_1, total_loss_train=530, kl_local_train=145, metric_mi|age_categorical_train=0.325]"
     ]
    },
    {
     "name": "stdout",
     "output_type": "stream",
     "text": [
      "\r\n",
      "Epoch 165/600:  27%|██▋       | 164/600 [2:18:46<5:57:21, 49.18s/it, v_num=7x_1, total_loss_train=530, kl_local_train=145, metric_mi|age_categorical_train=0.325]"
     ]
    },
    {
     "name": "stdout",
     "output_type": "stream",
     "text": [
      "\r\n",
      "Epoch 165/600:  28%|██▊       | 165/600 [2:19:35<5:56:29, 49.17s/it, v_num=7x_1, total_loss_train=530, kl_local_train=145, metric_mi|age_categorical_train=0.325]"
     ]
    },
    {
     "name": "stdout",
     "output_type": "stream",
     "text": [
      "\r\n",
      "Epoch 165/600:  28%|██▊       | 165/600 [2:19:35<5:56:29, 49.17s/it, v_num=7x_1, total_loss_train=530, kl_local_train=144, metric_mi|age_categorical_train=0.325]"
     ]
    },
    {
     "name": "stdout",
     "output_type": "stream",
     "text": [
      "\r\n",
      "Epoch 166/600:  28%|██▊       | 165/600 [2:19:36<5:56:29, 49.17s/it, v_num=7x_1, total_loss_train=530, kl_local_train=144, metric_mi|age_categorical_train=0.325]"
     ]
    },
    {
     "name": "stdout",
     "output_type": "stream",
     "text": [
      "\r\n",
      "Epoch 166/600:  28%|██▊       | 166/600 [2:20:24<5:56:34, 49.30s/it, v_num=7x_1, total_loss_train=530, kl_local_train=144, metric_mi|age_categorical_train=0.325]"
     ]
    },
    {
     "name": "stdout",
     "output_type": "stream",
     "text": [
      "\r\n",
      "Epoch 166/600:  28%|██▊       | 166/600 [2:20:24<5:56:34, 49.30s/it, v_num=7x_1, total_loss_train=530, kl_local_train=145, metric_mi|age_categorical_train=0.325]"
     ]
    },
    {
     "name": "stdout",
     "output_type": "stream",
     "text": [
      "\r\n",
      "Epoch 167/600:  28%|██▊       | 166/600 [2:20:24<5:56:34, 49.30s/it, v_num=7x_1, total_loss_train=530, kl_local_train=145, metric_mi|age_categorical_train=0.325]"
     ]
    },
    {
     "name": "stdout",
     "output_type": "stream",
     "text": [
      "\r\n",
      "Epoch 167/600:  28%|██▊       | 167/600 [2:21:13<5:54:48, 49.17s/it, v_num=7x_1, total_loss_train=530, kl_local_train=145, metric_mi|age_categorical_train=0.325]"
     ]
    },
    {
     "name": "stdout",
     "output_type": "stream",
     "text": [
      "\r\n",
      "Epoch 167/600:  28%|██▊       | 167/600 [2:21:13<5:54:48, 49.17s/it, v_num=7x_1, total_loss_train=530, kl_local_train=144, metric_mi|age_categorical_train=0.325]"
     ]
    },
    {
     "name": "stdout",
     "output_type": "stream",
     "text": [
      "\r\n",
      "Epoch 168/600:  28%|██▊       | 167/600 [2:21:13<5:54:48, 49.17s/it, v_num=7x_1, total_loss_train=530, kl_local_train=144, metric_mi|age_categorical_train=0.325]"
     ]
    },
    {
     "name": "stdout",
     "output_type": "stream",
     "text": [
      "\r\n",
      "Epoch 168/600:  28%|██▊       | 168/600 [2:22:02<5:52:57, 49.02s/it, v_num=7x_1, total_loss_train=530, kl_local_train=144, metric_mi|age_categorical_train=0.325]"
     ]
    },
    {
     "name": "stdout",
     "output_type": "stream",
     "text": [
      "\r\n",
      "Epoch 168/600:  28%|██▊       | 168/600 [2:22:02<5:52:57, 49.02s/it, v_num=7x_1, total_loss_train=530, kl_local_train=142, metric_mi|age_categorical_train=0.325]"
     ]
    },
    {
     "name": "stdout",
     "output_type": "stream",
     "text": [
      "\r\n",
      "Epoch 169/600:  28%|██▊       | 168/600 [2:22:02<5:52:57, 49.02s/it, v_num=7x_1, total_loss_train=530, kl_local_train=142, metric_mi|age_categorical_train=0.325]"
     ]
    },
    {
     "name": "stdout",
     "output_type": "stream",
     "text": [
      "\r\n",
      "Epoch 169/600:  28%|██▊       | 169/600 [2:22:51<5:51:35, 48.95s/it, v_num=7x_1, total_loss_train=530, kl_local_train=142, metric_mi|age_categorical_train=0.325]"
     ]
    },
    {
     "name": "stdout",
     "output_type": "stream",
     "text": [
      "\r\n",
      "Epoch 169/600:  28%|██▊       | 169/600 [2:22:51<5:51:35, 48.95s/it, v_num=7x_1, total_loss_train=530, kl_local_train=143, metric_mi|age_categorical_train=0.325]"
     ]
    },
    {
     "name": "stdout",
     "output_type": "stream",
     "text": [
      "\r\n",
      "Epoch 170/600:  28%|██▊       | 169/600 [2:22:51<5:51:35, 48.95s/it, v_num=7x_1, total_loss_train=530, kl_local_train=143, metric_mi|age_categorical_train=0.325]"
     ]
    },
    {
     "name": "stdout",
     "output_type": "stream",
     "text": [
      "\r\n",
      "Epoch 170/600:  28%|██▊       | 170/600 [2:23:40<5:50:51, 48.96s/it, v_num=7x_1, total_loss_train=530, kl_local_train=143, metric_mi|age_categorical_train=0.325]"
     ]
    },
    {
     "name": "stdout",
     "output_type": "stream",
     "text": [
      "\r\n",
      "Epoch 170/600:  28%|██▊       | 170/600 [2:23:40<5:50:51, 48.96s/it, v_num=7x_1, total_loss_train=530, kl_local_train=142, metric_mi|age_categorical_train=0.325]"
     ]
    },
    {
     "name": "stdout",
     "output_type": "stream",
     "text": [
      "\r\n",
      "Epoch 171/600:  28%|██▊       | 170/600 [2:23:40<5:50:51, 48.96s/it, v_num=7x_1, total_loss_train=530, kl_local_train=142, metric_mi|age_categorical_train=0.325]"
     ]
    },
    {
     "name": "stdout",
     "output_type": "stream",
     "text": [
      "\r\n",
      "Epoch 171/600:  28%|██▊       | 171/600 [2:24:29<5:51:43, 49.19s/it, v_num=7x_1, total_loss_train=530, kl_local_train=142, metric_mi|age_categorical_train=0.325]"
     ]
    },
    {
     "name": "stdout",
     "output_type": "stream",
     "text": [
      "\r\n",
      "Epoch 171/600:  28%|██▊       | 171/600 [2:24:29<5:51:43, 49.19s/it, v_num=7x_1, total_loss_train=530, kl_local_train=143, metric_mi|age_categorical_train=0.328]"
     ]
    },
    {
     "name": "stdout",
     "output_type": "stream",
     "text": [
      "\r\n",
      "Epoch 172/600:  28%|██▊       | 171/600 [2:24:29<5:51:43, 49.19s/it, v_num=7x_1, total_loss_train=530, kl_local_train=143, metric_mi|age_categorical_train=0.328]"
     ]
    },
    {
     "name": "stdout",
     "output_type": "stream",
     "text": [
      "\r\n",
      "Epoch 172/600:  29%|██▊       | 172/600 [2:25:18<5:49:57, 49.06s/it, v_num=7x_1, total_loss_train=530, kl_local_train=143, metric_mi|age_categorical_train=0.328]"
     ]
    },
    {
     "name": "stdout",
     "output_type": "stream",
     "text": [
      "\r\n",
      "Epoch 172/600:  29%|██▊       | 172/600 [2:25:18<5:49:57, 49.06s/it, v_num=7x_1, total_loss_train=530, kl_local_train=142, metric_mi|age_categorical_train=0.328]"
     ]
    },
    {
     "name": "stdout",
     "output_type": "stream",
     "text": [
      "\r\n",
      "Epoch 173/600:  29%|██▊       | 172/600 [2:25:18<5:49:57, 49.06s/it, v_num=7x_1, total_loss_train=530, kl_local_train=142, metric_mi|age_categorical_train=0.328]"
     ]
    },
    {
     "name": "stdout",
     "output_type": "stream",
     "text": [
      "\r\n",
      "Epoch 173/600:  29%|██▉       | 173/600 [2:26:07<5:48:49, 49.01s/it, v_num=7x_1, total_loss_train=530, kl_local_train=142, metric_mi|age_categorical_train=0.328]"
     ]
    },
    {
     "name": "stdout",
     "output_type": "stream",
     "text": [
      "\r\n",
      "Epoch 173/600:  29%|██▉       | 173/600 [2:26:07<5:48:49, 49.01s/it, v_num=7x_1, total_loss_train=530, kl_local_train=141, metric_mi|age_categorical_train=0.328]"
     ]
    },
    {
     "name": "stdout",
     "output_type": "stream",
     "text": [
      "\r\n",
      "Epoch 174/600:  29%|██▉       | 173/600 [2:26:07<5:48:49, 49.01s/it, v_num=7x_1, total_loss_train=530, kl_local_train=141, metric_mi|age_categorical_train=0.328]"
     ]
    },
    {
     "name": "stdout",
     "output_type": "stream",
     "text": [
      "\r\n",
      "Epoch 174/600:  29%|██▉       | 174/600 [2:26:56<5:47:44, 48.98s/it, v_num=7x_1, total_loss_train=530, kl_local_train=141, metric_mi|age_categorical_train=0.328]"
     ]
    },
    {
     "name": "stdout",
     "output_type": "stream",
     "text": [
      "\r\n",
      "Epoch 174/600:  29%|██▉       | 174/600 [2:26:56<5:47:44, 48.98s/it, v_num=7x_1, total_loss_train=530, kl_local_train=142, metric_mi|age_categorical_train=0.328]"
     ]
    },
    {
     "name": "stdout",
     "output_type": "stream",
     "text": [
      "\r\n",
      "Epoch 175/600:  29%|██▉       | 174/600 [2:26:56<5:47:44, 48.98s/it, v_num=7x_1, total_loss_train=530, kl_local_train=142, metric_mi|age_categorical_train=0.328]"
     ]
    },
    {
     "name": "stdout",
     "output_type": "stream",
     "text": [
      "\r\n",
      "Epoch 175/600:  29%|██▉       | 175/600 [2:27:45<5:47:15, 49.03s/it, v_num=7x_1, total_loss_train=530, kl_local_train=142, metric_mi|age_categorical_train=0.328]"
     ]
    },
    {
     "name": "stdout",
     "output_type": "stream",
     "text": [
      "\r\n",
      "Epoch 175/600:  29%|██▉       | 175/600 [2:27:45<5:47:15, 49.03s/it, v_num=7x_1, total_loss_train=530, kl_local_train=140, metric_mi|age_categorical_train=0.328]"
     ]
    },
    {
     "name": "stdout",
     "output_type": "stream",
     "text": [
      "\r\n",
      "Epoch 176/600:  29%|██▉       | 175/600 [2:27:46<5:47:15, 49.03s/it, v_num=7x_1, total_loss_train=530, kl_local_train=140, metric_mi|age_categorical_train=0.328]"
     ]
    },
    {
     "name": "stdout",
     "output_type": "stream",
     "text": [
      "\r\n",
      "Epoch 176/600:  29%|██▉       | 176/600 [2:28:34<5:46:50, 49.08s/it, v_num=7x_1, total_loss_train=530, kl_local_train=140, metric_mi|age_categorical_train=0.328]"
     ]
    },
    {
     "name": "stdout",
     "output_type": "stream",
     "text": [
      "\r\n",
      "Epoch 176/600:  29%|██▉       | 176/600 [2:28:34<5:46:50, 49.08s/it, v_num=7x_1, total_loss_train=530, kl_local_train=139, metric_mi|age_categorical_train=0.328]"
     ]
    },
    {
     "name": "stdout",
     "output_type": "stream",
     "text": [
      "\r\n",
      "Epoch 177/600:  29%|██▉       | 176/600 [2:28:34<5:46:50, 49.08s/it, v_num=7x_1, total_loss_train=530, kl_local_train=139, metric_mi|age_categorical_train=0.328]"
     ]
    },
    {
     "name": "stdout",
     "output_type": "stream",
     "text": [
      "\r\n",
      "Epoch 177/600:  30%|██▉       | 177/600 [2:29:23<5:45:17, 48.98s/it, v_num=7x_1, total_loss_train=530, kl_local_train=139, metric_mi|age_categorical_train=0.328]"
     ]
    },
    {
     "name": "stdout",
     "output_type": "stream",
     "text": [
      "\r\n",
      "Epoch 177/600:  30%|██▉       | 177/600 [2:29:23<5:45:17, 48.98s/it, v_num=7x_1, total_loss_train=530, kl_local_train=139, metric_mi|age_categorical_train=0.328]"
     ]
    },
    {
     "name": "stdout",
     "output_type": "stream",
     "text": [
      "\r\n",
      "Epoch 178/600:  30%|██▉       | 177/600 [2:29:23<5:45:17, 48.98s/it, v_num=7x_1, total_loss_train=530, kl_local_train=139, metric_mi|age_categorical_train=0.328]"
     ]
    },
    {
     "name": "stdout",
     "output_type": "stream",
     "text": [
      "\r\n",
      "Epoch 178/600:  30%|██▉       | 178/600 [2:30:12<5:43:42, 48.87s/it, v_num=7x_1, total_loss_train=530, kl_local_train=139, metric_mi|age_categorical_train=0.328]"
     ]
    },
    {
     "name": "stdout",
     "output_type": "stream",
     "text": [
      "\r\n",
      "Epoch 178/600:  30%|██▉       | 178/600 [2:30:12<5:43:42, 48.87s/it, v_num=7x_1, total_loss_train=530, kl_local_train=139, metric_mi|age_categorical_train=0.328]"
     ]
    },
    {
     "name": "stdout",
     "output_type": "stream",
     "text": [
      "\r\n",
      "Epoch 179/600:  30%|██▉       | 178/600 [2:30:12<5:43:42, 48.87s/it, v_num=7x_1, total_loss_train=530, kl_local_train=139, metric_mi|age_categorical_train=0.328]"
     ]
    },
    {
     "name": "stdout",
     "output_type": "stream",
     "text": [
      "\r\n",
      "Epoch 179/600:  30%|██▉       | 179/600 [2:31:01<5:42:48, 48.86s/it, v_num=7x_1, total_loss_train=530, kl_local_train=139, metric_mi|age_categorical_train=0.328]"
     ]
    },
    {
     "name": "stdout",
     "output_type": "stream",
     "text": [
      "\r\n",
      "Epoch 179/600:  30%|██▉       | 179/600 [2:31:01<5:42:48, 48.86s/it, v_num=7x_1, total_loss_train=530, kl_local_train=138, metric_mi|age_categorical_train=0.328]"
     ]
    },
    {
     "name": "stdout",
     "output_type": "stream",
     "text": [
      "\r\n",
      "Epoch 180/600:  30%|██▉       | 179/600 [2:31:01<5:42:48, 48.86s/it, v_num=7x_1, total_loss_train=530, kl_local_train=138, metric_mi|age_categorical_train=0.328]"
     ]
    },
    {
     "name": "stdout",
     "output_type": "stream",
     "text": [
      "\r\n",
      "Epoch 180/600:  30%|███       | 180/600 [2:31:50<5:42:39, 48.95s/it, v_num=7x_1, total_loss_train=530, kl_local_train=138, metric_mi|age_categorical_train=0.328]"
     ]
    },
    {
     "name": "stdout",
     "output_type": "stream",
     "text": [
      "\r\n",
      "Epoch 180/600:  30%|███       | 180/600 [2:31:50<5:42:39, 48.95s/it, v_num=7x_1, total_loss_train=530, kl_local_train=136, metric_mi|age_categorical_train=0.328]"
     ]
    },
    {
     "name": "stdout",
     "output_type": "stream",
     "text": [
      "\r\n",
      "Epoch 181/600:  30%|███       | 180/600 [2:31:50<5:42:39, 48.95s/it, v_num=7x_1, total_loss_train=530, kl_local_train=136, metric_mi|age_categorical_train=0.328]"
     ]
    },
    {
     "name": "stdout",
     "output_type": "stream",
     "text": [
      "\r\n",
      "Epoch 181/600:  30%|███       | 181/600 [2:32:40<5:43:35, 49.20s/it, v_num=7x_1, total_loss_train=530, kl_local_train=136, metric_mi|age_categorical_train=0.328]"
     ]
    },
    {
     "name": "stdout",
     "output_type": "stream",
     "text": [
      "\r\n",
      "Epoch 181/600:  30%|███       | 181/600 [2:32:40<5:43:35, 49.20s/it, v_num=7x_1, total_loss_train=530, kl_local_train=137, metric_mi|age_categorical_train=0.328]"
     ]
    },
    {
     "name": "stdout",
     "output_type": "stream",
     "text": [
      "\r\n",
      "Epoch 182/600:  30%|███       | 181/600 [2:32:40<5:43:35, 49.20s/it, v_num=7x_1, total_loss_train=530, kl_local_train=137, metric_mi|age_categorical_train=0.328]"
     ]
    },
    {
     "name": "stdout",
     "output_type": "stream",
     "text": [
      "\r\n",
      "Epoch 182/600:  30%|███       | 182/600 [2:33:28<5:42:11, 49.12s/it, v_num=7x_1, total_loss_train=530, kl_local_train=137, metric_mi|age_categorical_train=0.328]"
     ]
    },
    {
     "name": "stdout",
     "output_type": "stream",
     "text": [
      "\r\n",
      "Epoch 182/600:  30%|███       | 182/600 [2:33:28<5:42:11, 49.12s/it, v_num=7x_1, total_loss_train=530, kl_local_train=137, metric_mi|age_categorical_train=0.328]"
     ]
    },
    {
     "name": "stdout",
     "output_type": "stream",
     "text": [
      "\r\n",
      "Epoch 183/600:  30%|███       | 182/600 [2:33:28<5:42:11, 49.12s/it, v_num=7x_1, total_loss_train=530, kl_local_train=137, metric_mi|age_categorical_train=0.328]"
     ]
    },
    {
     "name": "stdout",
     "output_type": "stream",
     "text": [
      "\r\n",
      "Epoch 183/600:  30%|███       | 183/600 [2:34:17<5:40:50, 49.04s/it, v_num=7x_1, total_loss_train=530, kl_local_train=137, metric_mi|age_categorical_train=0.328]"
     ]
    },
    {
     "name": "stdout",
     "output_type": "stream",
     "text": [
      "\r\n",
      "Epoch 183/600:  30%|███       | 183/600 [2:34:17<5:40:50, 49.04s/it, v_num=7x_1, total_loss_train=530, kl_local_train=135, metric_mi|age_categorical_train=0.328]"
     ]
    },
    {
     "name": "stdout",
     "output_type": "stream",
     "text": [
      "\r\n",
      "Epoch 184/600:  30%|███       | 183/600 [2:34:17<5:40:50, 49.04s/it, v_num=7x_1, total_loss_train=530, kl_local_train=135, metric_mi|age_categorical_train=0.328]"
     ]
    },
    {
     "name": "stdout",
     "output_type": "stream",
     "text": [
      "\r\n",
      "Epoch 184/600:  31%|███       | 184/600 [2:35:06<5:39:39, 48.99s/it, v_num=7x_1, total_loss_train=530, kl_local_train=135, metric_mi|age_categorical_train=0.328]"
     ]
    },
    {
     "name": "stdout",
     "output_type": "stream",
     "text": [
      "\r\n",
      "Epoch 184/600:  31%|███       | 184/600 [2:35:06<5:39:39, 48.99s/it, v_num=7x_1, total_loss_train=531, kl_local_train=135, metric_mi|age_categorical_train=0.328]"
     ]
    },
    {
     "name": "stdout",
     "output_type": "stream",
     "text": [
      "\r\n",
      "Epoch 185/600:  31%|███       | 184/600 [2:35:06<5:39:39, 48.99s/it, v_num=7x_1, total_loss_train=531, kl_local_train=135, metric_mi|age_categorical_train=0.328]"
     ]
    },
    {
     "name": "stdout",
     "output_type": "stream",
     "text": [
      "\r\n",
      "Epoch 185/600:  31%|███       | 185/600 [2:35:55<5:39:08, 49.03s/it, v_num=7x_1, total_loss_train=531, kl_local_train=135, metric_mi|age_categorical_train=0.328]"
     ]
    },
    {
     "name": "stdout",
     "output_type": "stream",
     "text": [
      "\r\n",
      "Epoch 185/600:  31%|███       | 185/600 [2:35:55<5:39:08, 49.03s/it, v_num=7x_1, total_loss_train=531, kl_local_train=135, metric_mi|age_categorical_train=0.328]"
     ]
    },
    {
     "name": "stdout",
     "output_type": "stream",
     "text": [
      "\r\n",
      "Epoch 186/600:  31%|███       | 185/600 [2:35:56<5:39:08, 49.03s/it, v_num=7x_1, total_loss_train=531, kl_local_train=135, metric_mi|age_categorical_train=0.328]"
     ]
    },
    {
     "name": "stdout",
     "output_type": "stream",
     "text": [
      "\r\n",
      "Epoch 186/600:  31%|███       | 186/600 [2:36:45<5:39:54, 49.26s/it, v_num=7x_1, total_loss_train=531, kl_local_train=135, metric_mi|age_categorical_train=0.328]"
     ]
    },
    {
     "name": "stdout",
     "output_type": "stream",
     "text": [
      "\r\n",
      "Epoch 186/600:  31%|███       | 186/600 [2:36:45<5:39:54, 49.26s/it, v_num=7x_1, total_loss_train=531, kl_local_train=135, metric_mi|age_categorical_train=0.328]"
     ]
    },
    {
     "name": "stdout",
     "output_type": "stream",
     "text": [
      "\r\n",
      "Epoch 187/600:  31%|███       | 186/600 [2:36:45<5:39:54, 49.26s/it, v_num=7x_1, total_loss_train=531, kl_local_train=135, metric_mi|age_categorical_train=0.328]"
     ]
    },
    {
     "name": "stdout",
     "output_type": "stream",
     "text": [
      "\r\n",
      "Epoch 187/600:  31%|███       | 187/600 [2:37:34<5:38:53, 49.23s/it, v_num=7x_1, total_loss_train=531, kl_local_train=135, metric_mi|age_categorical_train=0.328]"
     ]
    },
    {
     "name": "stdout",
     "output_type": "stream",
     "text": [
      "\r\n",
      "Epoch 187/600:  31%|███       | 187/600 [2:37:34<5:38:53, 49.23s/it, v_num=7x_1, total_loss_train=531, kl_local_train=134, metric_mi|age_categorical_train=0.328]"
     ]
    },
    {
     "name": "stdout",
     "output_type": "stream",
     "text": [
      "\r\n",
      "Epoch 188/600:  31%|███       | 187/600 [2:37:34<5:38:53, 49.23s/it, v_num=7x_1, total_loss_train=531, kl_local_train=134, metric_mi|age_categorical_train=0.328]"
     ]
    },
    {
     "name": "stdout",
     "output_type": "stream",
     "text": [
      "\r\n",
      "Epoch 188/600:  31%|███▏      | 188/600 [2:38:23<5:37:38, 49.17s/it, v_num=7x_1, total_loss_train=531, kl_local_train=134, metric_mi|age_categorical_train=0.328]"
     ]
    },
    {
     "name": "stdout",
     "output_type": "stream",
     "text": [
      "\r\n",
      "Epoch 188/600:  31%|███▏      | 188/600 [2:38:23<5:37:38, 49.17s/it, v_num=7x_1, total_loss_train=531, kl_local_train=134, metric_mi|age_categorical_train=0.328]"
     ]
    },
    {
     "name": "stdout",
     "output_type": "stream",
     "text": [
      "\r\n",
      "Epoch 189/600:  31%|███▏      | 188/600 [2:38:23<5:37:38, 49.17s/it, v_num=7x_1, total_loss_train=531, kl_local_train=134, metric_mi|age_categorical_train=0.328]"
     ]
    },
    {
     "name": "stdout",
     "output_type": "stream",
     "text": [
      "\r\n",
      "Epoch 189/600:  32%|███▏      | 189/600 [2:39:12<5:36:20, 49.10s/it, v_num=7x_1, total_loss_train=531, kl_local_train=134, metric_mi|age_categorical_train=0.328]"
     ]
    },
    {
     "name": "stdout",
     "output_type": "stream",
     "text": [
      "\r\n",
      "Epoch 189/600:  32%|███▏      | 189/600 [2:39:12<5:36:20, 49.10s/it, v_num=7x_1, total_loss_train=531, kl_local_train=133, metric_mi|age_categorical_train=0.328]"
     ]
    },
    {
     "name": "stdout",
     "output_type": "stream",
     "text": [
      "\r\n",
      "Epoch 190/600:  32%|███▏      | 189/600 [2:39:12<5:36:20, 49.10s/it, v_num=7x_1, total_loss_train=531, kl_local_train=133, metric_mi|age_categorical_train=0.328]"
     ]
    },
    {
     "name": "stdout",
     "output_type": "stream",
     "text": [
      "\r\n",
      "Epoch 190/600:  32%|███▏      | 190/600 [2:40:01<5:35:27, 49.09s/it, v_num=7x_1, total_loss_train=531, kl_local_train=133, metric_mi|age_categorical_train=0.328]"
     ]
    },
    {
     "name": "stdout",
     "output_type": "stream",
     "text": [
      "\r\n",
      "Epoch 190/600:  32%|███▏      | 190/600 [2:40:01<5:35:27, 49.09s/it, v_num=7x_1, total_loss_train=531, kl_local_train=133, metric_mi|age_categorical_train=0.328]"
     ]
    },
    {
     "name": "stdout",
     "output_type": "stream",
     "text": [
      "\r\n",
      "Epoch 191/600:  32%|███▏      | 190/600 [2:40:02<5:35:27, 49.09s/it, v_num=7x_1, total_loss_train=531, kl_local_train=133, metric_mi|age_categorical_train=0.328]"
     ]
    },
    {
     "name": "stdout",
     "output_type": "stream",
     "text": [
      "\r\n",
      "Epoch 191/600:  32%|███▏      | 191/600 [2:40:51<5:35:48, 49.26s/it, v_num=7x_1, total_loss_train=531, kl_local_train=133, metric_mi|age_categorical_train=0.328]"
     ]
    },
    {
     "name": "stdout",
     "output_type": "stream",
     "text": [
      "\r\n",
      "Epoch 191/600:  32%|███▏      | 191/600 [2:40:51<5:35:48, 49.26s/it, v_num=7x_1, total_loss_train=531, kl_local_train=134, metric_mi|age_categorical_train=0.329]"
     ]
    },
    {
     "name": "stdout",
     "output_type": "stream",
     "text": [
      "\r\n",
      "Epoch 192/600:  32%|███▏      | 191/600 [2:40:51<5:35:48, 49.26s/it, v_num=7x_1, total_loss_train=531, kl_local_train=134, metric_mi|age_categorical_train=0.329]"
     ]
    },
    {
     "name": "stdout",
     "output_type": "stream",
     "text": [
      "\r\n",
      "Epoch 192/600:  32%|███▏      | 192/600 [2:41:40<5:34:29, 49.19s/it, v_num=7x_1, total_loss_train=531, kl_local_train=134, metric_mi|age_categorical_train=0.329]"
     ]
    },
    {
     "name": "stdout",
     "output_type": "stream",
     "text": [
      "\r\n",
      "Epoch 192/600:  32%|███▏      | 192/600 [2:41:40<5:34:29, 49.19s/it, v_num=7x_1, total_loss_train=531, kl_local_train=132, metric_mi|age_categorical_train=0.329]"
     ]
    },
    {
     "name": "stdout",
     "output_type": "stream",
     "text": [
      "\r\n",
      "Epoch 193/600:  32%|███▏      | 192/600 [2:41:40<5:34:29, 49.19s/it, v_num=7x_1, total_loss_train=531, kl_local_train=132, metric_mi|age_categorical_train=0.329]"
     ]
    },
    {
     "name": "stdout",
     "output_type": "stream",
     "text": [
      "\r\n",
      "Epoch 193/600:  32%|███▏      | 193/600 [2:42:29<5:33:04, 49.10s/it, v_num=7x_1, total_loss_train=531, kl_local_train=132, metric_mi|age_categorical_train=0.329]"
     ]
    },
    {
     "name": "stdout",
     "output_type": "stream",
     "text": [
      "\r\n",
      "Epoch 193/600:  32%|███▏      | 193/600 [2:42:29<5:33:04, 49.10s/it, v_num=7x_1, total_loss_train=531, kl_local_train=131, metric_mi|age_categorical_train=0.329]"
     ]
    },
    {
     "name": "stdout",
     "output_type": "stream",
     "text": [
      "\r\n",
      "Epoch 194/600:  32%|███▏      | 193/600 [2:42:29<5:33:04, 49.10s/it, v_num=7x_1, total_loss_train=531, kl_local_train=131, metric_mi|age_categorical_train=0.329]"
     ]
    },
    {
     "name": "stdout",
     "output_type": "stream",
     "text": [
      "\r\n",
      "Epoch 194/600:  32%|███▏      | 194/600 [2:43:18<5:32:02, 49.07s/it, v_num=7x_1, total_loss_train=531, kl_local_train=131, metric_mi|age_categorical_train=0.329]"
     ]
    },
    {
     "name": "stdout",
     "output_type": "stream",
     "text": [
      "\r\n",
      "Epoch 194/600:  32%|███▏      | 194/600 [2:43:18<5:32:02, 49.07s/it, v_num=7x_1, total_loss_train=531, kl_local_train=132, metric_mi|age_categorical_train=0.329]"
     ]
    },
    {
     "name": "stdout",
     "output_type": "stream",
     "text": [
      "\r\n",
      "Epoch 195/600:  32%|███▏      | 194/600 [2:43:18<5:32:02, 49.07s/it, v_num=7x_1, total_loss_train=531, kl_local_train=132, metric_mi|age_categorical_train=0.329]"
     ]
    },
    {
     "name": "stdout",
     "output_type": "stream",
     "text": [
      "\r\n",
      "Epoch 195/600:  32%|███▎      | 195/600 [2:44:07<5:31:15, 49.07s/it, v_num=7x_1, total_loss_train=531, kl_local_train=132, metric_mi|age_categorical_train=0.329]"
     ]
    },
    {
     "name": "stdout",
     "output_type": "stream",
     "text": [
      "\r\n",
      "Epoch 195/600:  32%|███▎      | 195/600 [2:44:07<5:31:15, 49.07s/it, v_num=7x_1, total_loss_train=531, kl_local_train=133, metric_mi|age_categorical_train=0.329]"
     ]
    },
    {
     "name": "stdout",
     "output_type": "stream",
     "text": [
      "\r\n",
      "Epoch 196/600:  32%|███▎      | 195/600 [2:44:08<5:31:15, 49.07s/it, v_num=7x_1, total_loss_train=531, kl_local_train=133, metric_mi|age_categorical_train=0.329]"
     ]
    },
    {
     "name": "stdout",
     "output_type": "stream",
     "text": [
      "\r\n",
      "Epoch 196/600:  33%|███▎      | 196/600 [2:44:57<5:31:39, 49.26s/it, v_num=7x_1, total_loss_train=531, kl_local_train=133, metric_mi|age_categorical_train=0.329]"
     ]
    },
    {
     "name": "stdout",
     "output_type": "stream",
     "text": [
      "\r\n",
      "Epoch 196/600:  33%|███▎      | 196/600 [2:44:57<5:31:39, 49.26s/it, v_num=7x_1, total_loss_train=531, kl_local_train=131, metric_mi|age_categorical_train=0.326]"
     ]
    },
    {
     "name": "stdout",
     "output_type": "stream",
     "text": [
      "\r\n",
      "Epoch 197/600:  33%|███▎      | 196/600 [2:44:57<5:31:39, 49.26s/it, v_num=7x_1, total_loss_train=531, kl_local_train=131, metric_mi|age_categorical_train=0.326]"
     ]
    },
    {
     "name": "stdout",
     "output_type": "stream",
     "text": [
      "\r\n",
      "Epoch 197/600:  33%|███▎      | 197/600 [2:45:46<5:30:12, 49.16s/it, v_num=7x_1, total_loss_train=531, kl_local_train=131, metric_mi|age_categorical_train=0.326]"
     ]
    },
    {
     "name": "stdout",
     "output_type": "stream",
     "text": [
      "\r\n",
      "Epoch 197/600:  33%|███▎      | 197/600 [2:45:46<5:30:12, 49.16s/it, v_num=7x_1, total_loss_train=531, kl_local_train=131, metric_mi|age_categorical_train=0.326]"
     ]
    },
    {
     "name": "stdout",
     "output_type": "stream",
     "text": [
      "\r\n",
      "Epoch 198/600:  33%|███▎      | 197/600 [2:45:46<5:30:12, 49.16s/it, v_num=7x_1, total_loss_train=531, kl_local_train=131, metric_mi|age_categorical_train=0.326]"
     ]
    },
    {
     "name": "stdout",
     "output_type": "stream",
     "text": [
      "\r\n",
      "Epoch 198/600:  33%|███▎      | 198/600 [2:46:35<5:29:04, 49.12s/it, v_num=7x_1, total_loss_train=531, kl_local_train=131, metric_mi|age_categorical_train=0.326]"
     ]
    },
    {
     "name": "stdout",
     "output_type": "stream",
     "text": [
      "\r\n",
      "Epoch 198/600:  33%|███▎      | 198/600 [2:46:35<5:29:04, 49.12s/it, v_num=7x_1, total_loss_train=531, kl_local_train=131, metric_mi|age_categorical_train=0.326]"
     ]
    },
    {
     "name": "stdout",
     "output_type": "stream",
     "text": [
      "\r\n",
      "Epoch 199/600:  33%|███▎      | 198/600 [2:46:35<5:29:04, 49.12s/it, v_num=7x_1, total_loss_train=531, kl_local_train=131, metric_mi|age_categorical_train=0.326]"
     ]
    },
    {
     "name": "stdout",
     "output_type": "stream",
     "text": [
      "\r\n",
      "Epoch 199/600:  33%|███▎      | 199/600 [2:47:24<5:27:54, 49.06s/it, v_num=7x_1, total_loss_train=531, kl_local_train=131, metric_mi|age_categorical_train=0.326]"
     ]
    },
    {
     "name": "stdout",
     "output_type": "stream",
     "text": [
      "\r\n",
      "Epoch 199/600:  33%|███▎      | 199/600 [2:47:24<5:27:54, 49.06s/it, v_num=7x_1, total_loss_train=532, kl_local_train=130, metric_mi|age_categorical_train=0.326]"
     ]
    },
    {
     "name": "stdout",
     "output_type": "stream",
     "text": [
      "\r\n",
      "Epoch 200/600:  33%|███▎      | 199/600 [2:47:24<5:27:54, 49.06s/it, v_num=7x_1, total_loss_train=532, kl_local_train=130, metric_mi|age_categorical_train=0.326]"
     ]
    },
    {
     "name": "stdout",
     "output_type": "stream",
     "text": [
      "\r\n",
      "Epoch 200/600:  33%|███▎      | 200/600 [2:48:13<5:27:17, 49.09s/it, v_num=7x_1, total_loss_train=532, kl_local_train=130, metric_mi|age_categorical_train=0.326]"
     ]
    },
    {
     "name": "stdout",
     "output_type": "stream",
     "text": [
      "\r\n",
      "Epoch 200/600:  33%|███▎      | 200/600 [2:48:13<5:27:17, 49.09s/it, v_num=7x_1, total_loss_train=531, kl_local_train=130, metric_mi|age_categorical_train=0.326]"
     ]
    },
    {
     "name": "stdout",
     "output_type": "stream",
     "text": [
      "\r\n",
      "Epoch 201/600:  33%|███▎      | 200/600 [2:48:13<5:27:17, 49.09s/it, v_num=7x_1, total_loss_train=531, kl_local_train=130, metric_mi|age_categorical_train=0.326]"
     ]
    },
    {
     "name": "stdout",
     "output_type": "stream",
     "text": [
      "\r\n",
      "Epoch 201/600:  34%|███▎      | 201/600 [2:49:03<5:28:35, 49.41s/it, v_num=7x_1, total_loss_train=531, kl_local_train=130, metric_mi|age_categorical_train=0.326]"
     ]
    },
    {
     "name": "stdout",
     "output_type": "stream",
     "text": [
      "\r\n",
      "Epoch 201/600:  34%|███▎      | 201/600 [2:49:03<5:28:35, 49.41s/it, v_num=7x_1, total_loss_train=531, kl_local_train=129, metric_mi|age_categorical_train=0.325]"
     ]
    },
    {
     "name": "stdout",
     "output_type": "stream",
     "text": [
      "\r\n",
      "Epoch 202/600:  34%|███▎      | 201/600 [2:49:03<5:28:35, 49.41s/it, v_num=7x_1, total_loss_train=531, kl_local_train=129, metric_mi|age_categorical_train=0.325]"
     ]
    },
    {
     "name": "stdout",
     "output_type": "stream",
     "text": [
      "\r\n",
      "Epoch 202/600:  34%|███▎      | 202/600 [2:49:52<5:26:44, 49.26s/it, v_num=7x_1, total_loss_train=531, kl_local_train=129, metric_mi|age_categorical_train=0.325]"
     ]
    },
    {
     "name": "stdout",
     "output_type": "stream",
     "text": [
      "\r\n",
      "Epoch 202/600:  34%|███▎      | 202/600 [2:49:52<5:26:44, 49.26s/it, v_num=7x_1, total_loss_train=532, kl_local_train=129, metric_mi|age_categorical_train=0.325]"
     ]
    },
    {
     "name": "stdout",
     "output_type": "stream",
     "text": [
      "\r\n",
      "Epoch 203/600:  34%|███▎      | 202/600 [2:49:52<5:26:44, 49.26s/it, v_num=7x_1, total_loss_train=532, kl_local_train=129, metric_mi|age_categorical_train=0.325]"
     ]
    },
    {
     "name": "stdout",
     "output_type": "stream",
     "text": [
      "\r\n",
      "Epoch 203/600:  34%|███▍      | 203/600 [2:50:41<5:25:31, 49.20s/it, v_num=7x_1, total_loss_train=532, kl_local_train=129, metric_mi|age_categorical_train=0.325]"
     ]
    },
    {
     "name": "stdout",
     "output_type": "stream",
     "text": [
      "\r\n",
      "Epoch 203/600:  34%|███▍      | 203/600 [2:50:41<5:25:31, 49.20s/it, v_num=7x_1, total_loss_train=532, kl_local_train=130, metric_mi|age_categorical_train=0.325]"
     ]
    },
    {
     "name": "stdout",
     "output_type": "stream",
     "text": [
      "\r\n",
      "Epoch 204/600:  34%|███▍      | 203/600 [2:50:41<5:25:31, 49.20s/it, v_num=7x_1, total_loss_train=532, kl_local_train=130, metric_mi|age_categorical_train=0.325]"
     ]
    },
    {
     "name": "stdout",
     "output_type": "stream",
     "text": [
      "\r\n",
      "Epoch 204/600:  34%|███▍      | 204/600 [2:51:34<5:32:49, 50.43s/it, v_num=7x_1, total_loss_train=532, kl_local_train=130, metric_mi|age_categorical_train=0.325]"
     ]
    },
    {
     "name": "stdout",
     "output_type": "stream",
     "text": [
      "\r\n",
      "Epoch 204/600:  34%|███▍      | 204/600 [2:51:34<5:32:49, 50.43s/it, v_num=7x_1, total_loss_train=532, kl_local_train=129, metric_mi|age_categorical_train=0.325]"
     ]
    },
    {
     "name": "stdout",
     "output_type": "stream",
     "text": [
      "\r\n",
      "Epoch 205/600:  34%|███▍      | 204/600 [2:51:34<5:32:49, 50.43s/it, v_num=7x_1, total_loss_train=532, kl_local_train=129, metric_mi|age_categorical_train=0.325]"
     ]
    },
    {
     "name": "stdout",
     "output_type": "stream",
     "text": [
      "\r\n",
      "Epoch 205/600:  34%|███▍      | 205/600 [2:52:28<5:38:59, 51.49s/it, v_num=7x_1, total_loss_train=532, kl_local_train=129, metric_mi|age_categorical_train=0.325]"
     ]
    },
    {
     "name": "stdout",
     "output_type": "stream",
     "text": [
      "\r\n",
      "Epoch 205/600:  34%|███▍      | 205/600 [2:52:28<5:38:59, 51.49s/it, v_num=7x_1, total_loss_train=532, kl_local_train=128, metric_mi|age_categorical_train=0.325]"
     ]
    },
    {
     "name": "stdout",
     "output_type": "stream",
     "text": [
      "\r\n",
      "Epoch 206/600:  34%|███▍      | 205/600 [2:52:29<5:38:59, 51.49s/it, v_num=7x_1, total_loss_train=532, kl_local_train=128, metric_mi|age_categorical_train=0.325]"
     ]
    },
    {
     "name": "stdout",
     "output_type": "stream",
     "text": [
      "\r\n",
      "Epoch 206/600:  34%|███▍      | 206/600 [2:53:22<5:42:56, 52.23s/it, v_num=7x_1, total_loss_train=532, kl_local_train=128, metric_mi|age_categorical_train=0.325]"
     ]
    },
    {
     "name": "stdout",
     "output_type": "stream",
     "text": [
      "\r\n",
      "Epoch 206/600:  34%|███▍      | 206/600 [2:53:22<5:42:56, 52.23s/it, v_num=7x_1, total_loss_train=532, kl_local_train=127, metric_mi|age_categorical_train=0.32] "
     ]
    },
    {
     "name": "stdout",
     "output_type": "stream",
     "text": [
      "\r\n",
      "Epoch 207/600:  34%|███▍      | 206/600 [2:53:22<5:42:56, 52.23s/it, v_num=7x_1, total_loss_train=532, kl_local_train=127, metric_mi|age_categorical_train=0.32]"
     ]
    },
    {
     "name": "stdout",
     "output_type": "stream",
     "text": [
      "\r\n",
      "Epoch 207/600:  34%|███▍      | 207/600 [2:54:15<5:44:13, 52.55s/it, v_num=7x_1, total_loss_train=532, kl_local_train=127, metric_mi|age_categorical_train=0.32]"
     ]
    },
    {
     "name": "stdout",
     "output_type": "stream",
     "text": [
      "\r\n",
      "Epoch 207/600:  34%|███▍      | 207/600 [2:54:15<5:44:13, 52.55s/it, v_num=7x_1, total_loss_train=531, kl_local_train=127, metric_mi|age_categorical_train=0.32]"
     ]
    },
    {
     "name": "stdout",
     "output_type": "stream",
     "text": [
      "\r\n",
      "Epoch 208/600:  34%|███▍      | 207/600 [2:54:15<5:44:13, 52.55s/it, v_num=7x_1, total_loss_train=531, kl_local_train=127, metric_mi|age_categorical_train=0.32]"
     ]
    },
    {
     "name": "stdout",
     "output_type": "stream",
     "text": [
      "\r\n",
      "Epoch 208/600:  35%|███▍      | 208/600 [2:55:09<5:44:53, 52.79s/it, v_num=7x_1, total_loss_train=531, kl_local_train=127, metric_mi|age_categorical_train=0.32]"
     ]
    },
    {
     "name": "stdout",
     "output_type": "stream",
     "text": [
      "\r\n",
      "Epoch 208/600:  35%|███▍      | 208/600 [2:55:09<5:44:53, 52.79s/it, v_num=7x_1, total_loss_train=532, kl_local_train=126, metric_mi|age_categorical_train=0.32]"
     ]
    },
    {
     "name": "stdout",
     "output_type": "stream",
     "text": [
      "\r\n",
      "Epoch 209/600:  35%|███▍      | 208/600 [2:55:09<5:44:53, 52.79s/it, v_num=7x_1, total_loss_train=532, kl_local_train=126, metric_mi|age_categorical_train=0.32]"
     ]
    },
    {
     "name": "stdout",
     "output_type": "stream",
     "text": [
      "\r\n",
      "Epoch 209/600:  35%|███▍      | 209/600 [2:56:02<5:45:49, 53.07s/it, v_num=7x_1, total_loss_train=532, kl_local_train=126, metric_mi|age_categorical_train=0.32]"
     ]
    },
    {
     "name": "stdout",
     "output_type": "stream",
     "text": [
      "\r\n",
      "Epoch 209/600:  35%|███▍      | 209/600 [2:56:02<5:45:49, 53.07s/it, v_num=7x_1, total_loss_train=532, kl_local_train=127, metric_mi|age_categorical_train=0.32]"
     ]
    },
    {
     "name": "stdout",
     "output_type": "stream",
     "text": [
      "\r\n",
      "Epoch 210/600:  35%|███▍      | 209/600 [2:56:02<5:45:49, 53.07s/it, v_num=7x_1, total_loss_train=532, kl_local_train=127, metric_mi|age_categorical_train=0.32]"
     ]
    },
    {
     "name": "stdout",
     "output_type": "stream",
     "text": [
      "\r\n",
      "Epoch 210/600:  35%|███▌      | 210/600 [2:56:56<5:46:27, 53.30s/it, v_num=7x_1, total_loss_train=532, kl_local_train=127, metric_mi|age_categorical_train=0.32]"
     ]
    },
    {
     "name": "stdout",
     "output_type": "stream",
     "text": [
      "\r\n",
      "Epoch 210/600:  35%|███▌      | 210/600 [2:56:56<5:46:27, 53.30s/it, v_num=7x_1, total_loss_train=532, kl_local_train=126, metric_mi|age_categorical_train=0.32]"
     ]
    },
    {
     "name": "stdout",
     "output_type": "stream",
     "text": [
      "\r\n",
      "Epoch 211/600:  35%|███▌      | 210/600 [2:56:57<5:46:27, 53.30s/it, v_num=7x_1, total_loss_train=532, kl_local_train=126, metric_mi|age_categorical_train=0.32]"
     ]
    },
    {
     "name": "stdout",
     "output_type": "stream",
     "text": [
      "\r\n",
      "Epoch 211/600:  35%|███▌      | 211/600 [2:57:51<5:47:41, 53.63s/it, v_num=7x_1, total_loss_train=532, kl_local_train=126, metric_mi|age_categorical_train=0.32]"
     ]
    },
    {
     "name": "stdout",
     "output_type": "stream",
     "text": [
      "\r\n",
      "Epoch 211/600:  35%|███▌      | 211/600 [2:57:51<5:47:41, 53.63s/it, v_num=7x_1, total_loss_train=531, kl_local_train=125, metric_mi|age_categorical_train=0.319]"
     ]
    },
    {
     "name": "stdout",
     "output_type": "stream",
     "text": [
      "\r\n",
      "Epoch 212/600:  35%|███▌      | 211/600 [2:57:51<5:47:41, 53.63s/it, v_num=7x_1, total_loss_train=531, kl_local_train=125, metric_mi|age_categorical_train=0.319]"
     ]
    },
    {
     "name": "stdout",
     "output_type": "stream",
     "text": [
      "\r\n",
      "Epoch 212/600:  35%|███▌      | 212/600 [2:58:44<5:46:59, 53.66s/it, v_num=7x_1, total_loss_train=531, kl_local_train=125, metric_mi|age_categorical_train=0.319]"
     ]
    },
    {
     "name": "stdout",
     "output_type": "stream",
     "text": [
      "\r\n",
      "Epoch 212/600:  35%|███▌      | 212/600 [2:58:44<5:46:59, 53.66s/it, v_num=7x_1, total_loss_train=532, kl_local_train=123, metric_mi|age_categorical_train=0.319]"
     ]
    },
    {
     "name": "stdout",
     "output_type": "stream",
     "text": [
      "\r\n",
      "Epoch 213/600:  35%|███▌      | 212/600 [2:58:44<5:46:59, 53.66s/it, v_num=7x_1, total_loss_train=532, kl_local_train=123, metric_mi|age_categorical_train=0.319]"
     ]
    },
    {
     "name": "stdout",
     "output_type": "stream",
     "text": [
      "\r\n",
      "Epoch 213/600:  36%|███▌      | 213/600 [2:59:38<5:46:29, 53.72s/it, v_num=7x_1, total_loss_train=532, kl_local_train=123, metric_mi|age_categorical_train=0.319]"
     ]
    },
    {
     "name": "stdout",
     "output_type": "stream",
     "text": [
      "\r\n",
      "Epoch 213/600:  36%|███▌      | 213/600 [2:59:38<5:46:29, 53.72s/it, v_num=7x_1, total_loss_train=531, kl_local_train=123, metric_mi|age_categorical_train=0.319]"
     ]
    },
    {
     "name": "stdout",
     "output_type": "stream",
     "text": [
      "\r\n",
      "Epoch 214/600:  36%|███▌      | 213/600 [2:59:38<5:46:29, 53.72s/it, v_num=7x_1, total_loss_train=531, kl_local_train=123, metric_mi|age_categorical_train=0.319]"
     ]
    },
    {
     "name": "stdout",
     "output_type": "stream",
     "text": [
      "\r\n",
      "Epoch 214/600:  36%|███▌      | 214/600 [3:00:32<5:45:49, 53.76s/it, v_num=7x_1, total_loss_train=531, kl_local_train=123, metric_mi|age_categorical_train=0.319]"
     ]
    },
    {
     "name": "stdout",
     "output_type": "stream",
     "text": [
      "\r\n",
      "Epoch 214/600:  36%|███▌      | 214/600 [3:00:32<5:45:49, 53.76s/it, v_num=7x_1, total_loss_train=532, kl_local_train=123, metric_mi|age_categorical_train=0.319]"
     ]
    },
    {
     "name": "stdout",
     "output_type": "stream",
     "text": [
      "\r\n",
      "Epoch 215/600:  36%|███▌      | 214/600 [3:00:32<5:45:49, 53.76s/it, v_num=7x_1, total_loss_train=532, kl_local_train=123, metric_mi|age_categorical_train=0.319]"
     ]
    },
    {
     "name": "stdout",
     "output_type": "stream",
     "text": [
      "\r\n",
      "Epoch 215/600:  36%|███▌      | 215/600 [3:01:27<5:46:17, 53.97s/it, v_num=7x_1, total_loss_train=532, kl_local_train=123, metric_mi|age_categorical_train=0.319]"
     ]
    },
    {
     "name": "stdout",
     "output_type": "stream",
     "text": [
      "\r\n",
      "Epoch 215/600:  36%|███▌      | 215/600 [3:01:27<5:46:17, 53.97s/it, v_num=7x_1, total_loss_train=532, kl_local_train=124, metric_mi|age_categorical_train=0.319]"
     ]
    },
    {
     "name": "stdout",
     "output_type": "stream",
     "text": [
      "\r\n",
      "Epoch 216/600:  36%|███▌      | 215/600 [3:01:27<5:46:17, 53.97s/it, v_num=7x_1, total_loss_train=532, kl_local_train=124, metric_mi|age_categorical_train=0.319]"
     ]
    },
    {
     "name": "stdout",
     "output_type": "stream",
     "text": [
      "\r\n",
      "Epoch 216/600:  36%|███▌      | 216/600 [3:02:21<5:46:19, 54.11s/it, v_num=7x_1, total_loss_train=532, kl_local_train=124, metric_mi|age_categorical_train=0.319]"
     ]
    },
    {
     "name": "stdout",
     "output_type": "stream",
     "text": [
      "\r\n",
      "Epoch 216/600:  36%|███▌      | 216/600 [3:02:21<5:46:19, 54.11s/it, v_num=7x_1, total_loss_train=532, kl_local_train=124, metric_mi|age_categorical_train=0.316]"
     ]
    },
    {
     "name": "stdout",
     "output_type": "stream",
     "text": [
      "\r\n",
      "Epoch 217/600:  36%|███▌      | 216/600 [3:02:21<5:46:19, 54.11s/it, v_num=7x_1, total_loss_train=532, kl_local_train=124, metric_mi|age_categorical_train=0.316]"
     ]
    },
    {
     "name": "stdout",
     "output_type": "stream",
     "text": [
      "\r\n",
      "Epoch 217/600:  36%|███▌      | 217/600 [3:03:15<5:44:35, 53.98s/it, v_num=7x_1, total_loss_train=532, kl_local_train=124, metric_mi|age_categorical_train=0.316]"
     ]
    },
    {
     "name": "stdout",
     "output_type": "stream",
     "text": [
      "\r\n",
      "Epoch 217/600:  36%|███▌      | 217/600 [3:03:15<5:44:35, 53.98s/it, v_num=7x_1, total_loss_train=532, kl_local_train=124, metric_mi|age_categorical_train=0.316]"
     ]
    },
    {
     "name": "stdout",
     "output_type": "stream",
     "text": [
      "\r\n",
      "Epoch 218/600:  36%|███▌      | 217/600 [3:03:15<5:44:35, 53.98s/it, v_num=7x_1, total_loss_train=532, kl_local_train=124, metric_mi|age_categorical_train=0.316]"
     ]
    },
    {
     "name": "stdout",
     "output_type": "stream",
     "text": [
      "\r\n",
      "Epoch 218/600:  36%|███▋      | 218/600 [3:04:09<5:43:34, 53.97s/it, v_num=7x_1, total_loss_train=532, kl_local_train=124, metric_mi|age_categorical_train=0.316]"
     ]
    },
    {
     "name": "stdout",
     "output_type": "stream",
     "text": [
      "\r\n",
      "Epoch 218/600:  36%|███▋      | 218/600 [3:04:09<5:43:34, 53.97s/it, v_num=7x_1, total_loss_train=532, kl_local_train=123, metric_mi|age_categorical_train=0.316]"
     ]
    },
    {
     "name": "stdout",
     "output_type": "stream",
     "text": [
      "\r\n",
      "Epoch 219/600:  36%|███▋      | 218/600 [3:04:09<5:43:34, 53.97s/it, v_num=7x_1, total_loss_train=532, kl_local_train=123, metric_mi|age_categorical_train=0.316]"
     ]
    },
    {
     "name": "stdout",
     "output_type": "stream",
     "text": [
      "\r\n",
      "Epoch 219/600:  36%|███▋      | 219/600 [3:05:02<5:42:03, 53.87s/it, v_num=7x_1, total_loss_train=532, kl_local_train=123, metric_mi|age_categorical_train=0.316]"
     ]
    },
    {
     "name": "stdout",
     "output_type": "stream",
     "text": [
      "\r\n",
      "Epoch 219/600:  36%|███▋      | 219/600 [3:05:02<5:42:03, 53.87s/it, v_num=7x_1, total_loss_train=532, kl_local_train=123, metric_mi|age_categorical_train=0.316]"
     ]
    },
    {
     "name": "stdout",
     "output_type": "stream",
     "text": [
      "\r\n",
      "Epoch 220/600:  36%|███▋      | 219/600 [3:05:02<5:42:03, 53.87s/it, v_num=7x_1, total_loss_train=532, kl_local_train=123, metric_mi|age_categorical_train=0.316]"
     ]
    },
    {
     "name": "stdout",
     "output_type": "stream",
     "text": [
      "\r\n",
      "Epoch 220/600:  37%|███▋      | 220/600 [3:05:56<5:40:55, 53.83s/it, v_num=7x_1, total_loss_train=532, kl_local_train=123, metric_mi|age_categorical_train=0.316]"
     ]
    },
    {
     "name": "stdout",
     "output_type": "stream",
     "text": [
      "\r\n",
      "Epoch 220/600:  37%|███▋      | 220/600 [3:05:56<5:40:55, 53.83s/it, v_num=7x_1, total_loss_train=532, kl_local_train=123, metric_mi|age_categorical_train=0.316]"
     ]
    },
    {
     "name": "stdout",
     "output_type": "stream",
     "text": [
      "\r\n",
      "Epoch 221/600:  37%|███▋      | 220/600 [3:05:57<5:40:55, 53.83s/it, v_num=7x_1, total_loss_train=532, kl_local_train=123, metric_mi|age_categorical_train=0.316]"
     ]
    },
    {
     "name": "stdout",
     "output_type": "stream",
     "text": [
      "\r\n",
      "Epoch 221/600:  37%|███▋      | 221/600 [3:06:50<5:40:39, 53.93s/it, v_num=7x_1, total_loss_train=532, kl_local_train=123, metric_mi|age_categorical_train=0.316]"
     ]
    },
    {
     "name": "stdout",
     "output_type": "stream",
     "text": [
      "\r\n",
      "Epoch 221/600:  37%|███▋      | 221/600 [3:06:50<5:40:39, 53.93s/it, v_num=7x_1, total_loss_train=532, kl_local_train=123, metric_mi|age_categorical_train=0.316]"
     ]
    },
    {
     "name": "stdout",
     "output_type": "stream",
     "text": [
      "\r\n",
      "Epoch 222/600:  37%|███▋      | 221/600 [3:06:50<5:40:39, 53.93s/it, v_num=7x_1, total_loss_train=532, kl_local_train=123, metric_mi|age_categorical_train=0.316]"
     ]
    },
    {
     "name": "stdout",
     "output_type": "stream",
     "text": [
      "\r\n",
      "Epoch 222/600:  37%|███▋      | 222/600 [3:07:44<5:38:42, 53.76s/it, v_num=7x_1, total_loss_train=532, kl_local_train=123, metric_mi|age_categorical_train=0.316]"
     ]
    },
    {
     "name": "stdout",
     "output_type": "stream",
     "text": [
      "\r\n",
      "Epoch 222/600:  37%|███▋      | 222/600 [3:07:44<5:38:42, 53.76s/it, v_num=7x_1, total_loss_train=532, kl_local_train=122, metric_mi|age_categorical_train=0.316]"
     ]
    },
    {
     "name": "stdout",
     "output_type": "stream",
     "text": [
      "\r\n",
      "Epoch 223/600:  37%|███▋      | 222/600 [3:07:44<5:38:42, 53.76s/it, v_num=7x_1, total_loss_train=532, kl_local_train=122, metric_mi|age_categorical_train=0.316]"
     ]
    },
    {
     "name": "stdout",
     "output_type": "stream",
     "text": [
      "\r\n",
      "Epoch 223/600:  37%|███▋      | 223/600 [3:08:37<5:37:15, 53.68s/it, v_num=7x_1, total_loss_train=532, kl_local_train=122, metric_mi|age_categorical_train=0.316]"
     ]
    },
    {
     "name": "stdout",
     "output_type": "stream",
     "text": [
      "\r\n",
      "Epoch 223/600:  37%|███▋      | 223/600 [3:08:37<5:37:15, 53.68s/it, v_num=7x_1, total_loss_train=532, kl_local_train=123, metric_mi|age_categorical_train=0.316]"
     ]
    },
    {
     "name": "stdout",
     "output_type": "stream",
     "text": [
      "\r\n",
      "Epoch 224/600:  37%|███▋      | 223/600 [3:08:37<5:37:15, 53.68s/it, v_num=7x_1, total_loss_train=532, kl_local_train=123, metric_mi|age_categorical_train=0.316]"
     ]
    },
    {
     "name": "stdout",
     "output_type": "stream",
     "text": [
      "\r\n",
      "Epoch 224/600:  37%|███▋      | 224/600 [3:09:31<5:36:10, 53.65s/it, v_num=7x_1, total_loss_train=532, kl_local_train=123, metric_mi|age_categorical_train=0.316]"
     ]
    },
    {
     "name": "stdout",
     "output_type": "stream",
     "text": [
      "\r\n",
      "Epoch 224/600:  37%|███▋      | 224/600 [3:09:31<5:36:10, 53.65s/it, v_num=7x_1, total_loss_train=532, kl_local_train=123, metric_mi|age_categorical_train=0.316]"
     ]
    },
    {
     "name": "stdout",
     "output_type": "stream",
     "text": [
      "\r\n",
      "Epoch 225/600:  37%|███▋      | 224/600 [3:09:31<5:36:10, 53.65s/it, v_num=7x_1, total_loss_train=532, kl_local_train=123, metric_mi|age_categorical_train=0.316]"
     ]
    },
    {
     "name": "stdout",
     "output_type": "stream",
     "text": [
      "\r\n",
      "Epoch 225/600:  38%|███▊      | 225/600 [3:10:24<5:35:37, 53.70s/it, v_num=7x_1, total_loss_train=532, kl_local_train=123, metric_mi|age_categorical_train=0.316]"
     ]
    },
    {
     "name": "stdout",
     "output_type": "stream",
     "text": [
      "\r\n",
      "Epoch 225/600:  38%|███▊      | 225/600 [3:10:24<5:35:37, 53.70s/it, v_num=7x_1, total_loss_train=532, kl_local_train=122, metric_mi|age_categorical_train=0.316]"
     ]
    },
    {
     "name": "stdout",
     "output_type": "stream",
     "text": [
      "\r\n",
      "Epoch 226/600:  38%|███▊      | 225/600 [3:10:25<5:35:37, 53.70s/it, v_num=7x_1, total_loss_train=532, kl_local_train=122, metric_mi|age_categorical_train=0.316]"
     ]
    },
    {
     "name": "stdout",
     "output_type": "stream",
     "text": [
      "\r\n",
      "Epoch 226/600:  38%|███▊      | 226/600 [3:11:19<5:36:03, 53.91s/it, v_num=7x_1, total_loss_train=532, kl_local_train=122, metric_mi|age_categorical_train=0.316]"
     ]
    },
    {
     "name": "stdout",
     "output_type": "stream",
     "text": [
      "\r\n",
      "Epoch 226/600:  38%|███▊      | 226/600 [3:11:19<5:36:03, 53.91s/it, v_num=7x_1, total_loss_train=532, kl_local_train=121, metric_mi|age_categorical_train=0.317]"
     ]
    },
    {
     "name": "stdout",
     "output_type": "stream",
     "text": [
      "\r\n",
      "Epoch 227/600:  38%|███▊      | 226/600 [3:11:19<5:36:03, 53.91s/it, v_num=7x_1, total_loss_train=532, kl_local_train=121, metric_mi|age_categorical_train=0.317]"
     ]
    },
    {
     "name": "stdout",
     "output_type": "stream",
     "text": [
      "\r\n",
      "Epoch 227/600:  38%|███▊      | 227/600 [3:12:12<5:34:32, 53.81s/it, v_num=7x_1, total_loss_train=532, kl_local_train=121, metric_mi|age_categorical_train=0.317]"
     ]
    },
    {
     "name": "stdout",
     "output_type": "stream",
     "text": [
      "\r\n",
      "Epoch 227/600:  38%|███▊      | 227/600 [3:12:12<5:34:32, 53.81s/it, v_num=7x_1, total_loss_train=532, kl_local_train=121, metric_mi|age_categorical_train=0.317]"
     ]
    },
    {
     "name": "stdout",
     "output_type": "stream",
     "text": [
      "\r\n",
      "Epoch 228/600:  38%|███▊      | 227/600 [3:12:12<5:34:32, 53.81s/it, v_num=7x_1, total_loss_train=532, kl_local_train=121, metric_mi|age_categorical_train=0.317]"
     ]
    },
    {
     "name": "stdout",
     "output_type": "stream",
     "text": [
      "\r\n",
      "Epoch 228/600:  38%|███▊      | 228/600 [3:13:06<5:33:48, 53.84s/it, v_num=7x_1, total_loss_train=532, kl_local_train=121, metric_mi|age_categorical_train=0.317]"
     ]
    },
    {
     "name": "stdout",
     "output_type": "stream",
     "text": [
      "\r\n",
      "Epoch 228/600:  38%|███▊      | 228/600 [3:13:06<5:33:48, 53.84s/it, v_num=7x_1, total_loss_train=532, kl_local_train=121, metric_mi|age_categorical_train=0.317]"
     ]
    },
    {
     "name": "stdout",
     "output_type": "stream",
     "text": [
      "\r\n",
      "Epoch 229/600:  38%|███▊      | 228/600 [3:13:06<5:33:48, 53.84s/it, v_num=7x_1, total_loss_train=532, kl_local_train=121, metric_mi|age_categorical_train=0.317]"
     ]
    },
    {
     "name": "stdout",
     "output_type": "stream",
     "text": [
      "\r\n",
      "Epoch 229/600:  38%|███▊      | 229/600 [3:14:00<5:32:16, 53.74s/it, v_num=7x_1, total_loss_train=532, kl_local_train=121, metric_mi|age_categorical_train=0.317]"
     ]
    },
    {
     "name": "stdout",
     "output_type": "stream",
     "text": [
      "\r\n",
      "Epoch 229/600:  38%|███▊      | 229/600 [3:14:00<5:32:16, 53.74s/it, v_num=7x_1, total_loss_train=532, kl_local_train=121, metric_mi|age_categorical_train=0.317]"
     ]
    },
    {
     "name": "stdout",
     "output_type": "stream",
     "text": [
      "\r\n",
      "Epoch 230/600:  38%|███▊      | 229/600 [3:14:00<5:32:16, 53.74s/it, v_num=7x_1, total_loss_train=532, kl_local_train=121, metric_mi|age_categorical_train=0.317]"
     ]
    },
    {
     "name": "stdout",
     "output_type": "stream",
     "text": [
      "\r\n",
      "Epoch 230/600:  38%|███▊      | 230/600 [3:14:53<5:30:47, 53.64s/it, v_num=7x_1, total_loss_train=532, kl_local_train=121, metric_mi|age_categorical_train=0.317]"
     ]
    },
    {
     "name": "stdout",
     "output_type": "stream",
     "text": [
      "\r\n",
      "Epoch 230/600:  38%|███▊      | 230/600 [3:14:53<5:30:47, 53.64s/it, v_num=7x_1, total_loss_train=532, kl_local_train=120, metric_mi|age_categorical_train=0.317]"
     ]
    },
    {
     "name": "stdout",
     "output_type": "stream",
     "text": [
      "\r\n",
      "Epoch 231/600:  38%|███▊      | 230/600 [3:14:54<5:30:47, 53.64s/it, v_num=7x_1, total_loss_train=532, kl_local_train=120, metric_mi|age_categorical_train=0.317]"
     ]
    },
    {
     "name": "stdout",
     "output_type": "stream",
     "text": [
      "\r\n",
      "Epoch 231/600:  38%|███▊      | 231/600 [3:15:48<5:31:26, 53.89s/it, v_num=7x_1, total_loss_train=532, kl_local_train=120, metric_mi|age_categorical_train=0.317]"
     ]
    },
    {
     "name": "stdout",
     "output_type": "stream",
     "text": [
      "\r\n",
      "Epoch 231/600:  38%|███▊      | 231/600 [3:15:48<5:31:26, 53.89s/it, v_num=7x_1, total_loss_train=532, kl_local_train=120, metric_mi|age_categorical_train=0.317]"
     ]
    },
    {
     "name": "stdout",
     "output_type": "stream",
     "text": [
      "\r\n",
      "Epoch 232/600:  38%|███▊      | 231/600 [3:15:48<5:31:26, 53.89s/it, v_num=7x_1, total_loss_train=532, kl_local_train=120, metric_mi|age_categorical_train=0.317]"
     ]
    },
    {
     "name": "stdout",
     "output_type": "stream",
     "text": [
      "\r\n",
      "Epoch 232/600:  39%|███▊      | 232/600 [3:16:41<5:29:40, 53.75s/it, v_num=7x_1, total_loss_train=532, kl_local_train=120, metric_mi|age_categorical_train=0.317]"
     ]
    },
    {
     "name": "stdout",
     "output_type": "stream",
     "text": [
      "\r\n",
      "Epoch 232/600:  39%|███▊      | 232/600 [3:16:41<5:29:40, 53.75s/it, v_num=7x_1, total_loss_train=532, kl_local_train=119, metric_mi|age_categorical_train=0.317]"
     ]
    },
    {
     "name": "stdout",
     "output_type": "stream",
     "text": [
      "\r\n",
      "Epoch 233/600:  39%|███▊      | 232/600 [3:16:41<5:29:40, 53.75s/it, v_num=7x_1, total_loss_train=532, kl_local_train=119, metric_mi|age_categorical_train=0.317]"
     ]
    },
    {
     "name": "stdout",
     "output_type": "stream",
     "text": [
      "\r\n",
      "Epoch 233/600:  39%|███▉      | 233/600 [3:17:35<5:28:20, 53.68s/it, v_num=7x_1, total_loss_train=532, kl_local_train=119, metric_mi|age_categorical_train=0.317]"
     ]
    },
    {
     "name": "stdout",
     "output_type": "stream",
     "text": [
      "\r\n",
      "Epoch 233/600:  39%|███▉      | 233/600 [3:17:35<5:28:20, 53.68s/it, v_num=7x_1, total_loss_train=532, kl_local_train=118, metric_mi|age_categorical_train=0.317]"
     ]
    },
    {
     "name": "stdout",
     "output_type": "stream",
     "text": [
      "\r\n",
      "Epoch 234/600:  39%|███▉      | 233/600 [3:17:35<5:28:20, 53.68s/it, v_num=7x_1, total_loss_train=532, kl_local_train=118, metric_mi|age_categorical_train=0.317]"
     ]
    },
    {
     "name": "stdout",
     "output_type": "stream",
     "text": [
      "\r\n",
      "Epoch 234/600:  39%|███▉      | 234/600 [3:18:28<5:26:46, 53.57s/it, v_num=7x_1, total_loss_train=532, kl_local_train=118, metric_mi|age_categorical_train=0.317]"
     ]
    },
    {
     "name": "stdout",
     "output_type": "stream",
     "text": [
      "\r\n",
      "Epoch 234/600:  39%|███▉      | 234/600 [3:18:28<5:26:46, 53.57s/it, v_num=7x_1, total_loss_train=533, kl_local_train=120, metric_mi|age_categorical_train=0.317]"
     ]
    },
    {
     "name": "stdout",
     "output_type": "stream",
     "text": [
      "\r\n",
      "Epoch 235/600:  39%|███▉      | 234/600 [3:18:28<5:26:46, 53.57s/it, v_num=7x_1, total_loss_train=533, kl_local_train=120, metric_mi|age_categorical_train=0.317]"
     ]
    },
    {
     "name": "stdout",
     "output_type": "stream",
     "text": [
      "\r\n",
      "Epoch 235/600:  39%|███▉      | 235/600 [3:19:21<5:25:31, 53.51s/it, v_num=7x_1, total_loss_train=533, kl_local_train=120, metric_mi|age_categorical_train=0.317]"
     ]
    },
    {
     "name": "stdout",
     "output_type": "stream",
     "text": [
      "\r\n",
      "Epoch 235/600:  39%|███▉      | 235/600 [3:19:21<5:25:31, 53.51s/it, v_num=7x_1, total_loss_train=533, kl_local_train=119, metric_mi|age_categorical_train=0.317]"
     ]
    },
    {
     "name": "stdout",
     "output_type": "stream",
     "text": [
      "\r\n",
      "Epoch 236/600:  39%|███▉      | 235/600 [3:19:22<5:25:31, 53.51s/it, v_num=7x_1, total_loss_train=533, kl_local_train=119, metric_mi|age_categorical_train=0.317]"
     ]
    },
    {
     "name": "stdout",
     "output_type": "stream",
     "text": [
      "\r\n",
      "Epoch 236/600:  39%|███▉      | 236/600 [3:20:16<5:26:09, 53.76s/it, v_num=7x_1, total_loss_train=533, kl_local_train=119, metric_mi|age_categorical_train=0.317]"
     ]
    },
    {
     "name": "stdout",
     "output_type": "stream",
     "text": [
      "\r\n",
      "Epoch 236/600:  39%|███▉      | 236/600 [3:20:16<5:26:09, 53.76s/it, v_num=7x_1, total_loss_train=533, kl_local_train=119, metric_mi|age_categorical_train=0.316]"
     ]
    },
    {
     "name": "stdout",
     "output_type": "stream",
     "text": [
      "\r\n",
      "Epoch 237/600:  39%|███▉      | 236/600 [3:20:16<5:26:09, 53.76s/it, v_num=7x_1, total_loss_train=533, kl_local_train=119, metric_mi|age_categorical_train=0.316]"
     ]
    },
    {
     "name": "stdout",
     "output_type": "stream",
     "text": [
      "\r\n",
      "Epoch 237/600:  40%|███▉      | 237/600 [3:21:09<5:25:06, 53.74s/it, v_num=7x_1, total_loss_train=533, kl_local_train=119, metric_mi|age_categorical_train=0.316]"
     ]
    },
    {
     "name": "stdout",
     "output_type": "stream",
     "text": [
      "\r\n",
      "Epoch 237/600:  40%|███▉      | 237/600 [3:21:09<5:25:06, 53.74s/it, v_num=7x_1, total_loss_train=533, kl_local_train=118, metric_mi|age_categorical_train=0.316]"
     ]
    },
    {
     "name": "stdout",
     "output_type": "stream",
     "text": [
      "\r\n",
      "Epoch 238/600:  40%|███▉      | 237/600 [3:21:09<5:25:06, 53.74s/it, v_num=7x_1, total_loss_train=533, kl_local_train=118, metric_mi|age_categorical_train=0.316]"
     ]
    },
    {
     "name": "stdout",
     "output_type": "stream",
     "text": [
      "\r\n",
      "Epoch 238/600:  40%|███▉      | 238/600 [3:22:03<5:24:23, 53.77s/it, v_num=7x_1, total_loss_train=533, kl_local_train=118, metric_mi|age_categorical_train=0.316]"
     ]
    },
    {
     "name": "stdout",
     "output_type": "stream",
     "text": [
      "\r\n",
      "Epoch 238/600:  40%|███▉      | 238/600 [3:22:03<5:24:23, 53.77s/it, v_num=7x_1, total_loss_train=534, kl_local_train=118, metric_mi|age_categorical_train=0.316]"
     ]
    },
    {
     "name": "stdout",
     "output_type": "stream",
     "text": [
      "\r\n",
      "Epoch 239/600:  40%|███▉      | 238/600 [3:22:03<5:24:23, 53.77s/it, v_num=7x_1, total_loss_train=534, kl_local_train=118, metric_mi|age_categorical_train=0.316]"
     ]
    },
    {
     "name": "stdout",
     "output_type": "stream",
     "text": [
      "\r\n",
      "Epoch 239/600:  40%|███▉      | 239/600 [3:22:57<5:23:37, 53.79s/it, v_num=7x_1, total_loss_train=534, kl_local_train=118, metric_mi|age_categorical_train=0.316]"
     ]
    },
    {
     "name": "stdout",
     "output_type": "stream",
     "text": [
      "\r\n",
      "Epoch 239/600:  40%|███▉      | 239/600 [3:22:57<5:23:37, 53.79s/it, v_num=7x_1, total_loss_train=534, kl_local_train=118, metric_mi|age_categorical_train=0.316]"
     ]
    },
    {
     "name": "stdout",
     "output_type": "stream",
     "text": [
      "\r\n",
      "Epoch 240/600:  40%|███▉      | 239/600 [3:22:57<5:23:37, 53.79s/it, v_num=7x_1, total_loss_train=534, kl_local_train=118, metric_mi|age_categorical_train=0.316]"
     ]
    },
    {
     "name": "stdout",
     "output_type": "stream",
     "text": [
      "\r\n",
      "Epoch 240/600:  40%|████      | 240/600 [3:23:50<5:20:52, 53.48s/it, v_num=7x_1, total_loss_train=534, kl_local_train=118, metric_mi|age_categorical_train=0.316]"
     ]
    },
    {
     "name": "stdout",
     "output_type": "stream",
     "text": [
      "\r\n",
      "Epoch 240/600:  40%|████      | 240/600 [3:23:50<5:20:52, 53.48s/it, v_num=7x_1, total_loss_train=533, kl_local_train=117, metric_mi|age_categorical_train=0.316]"
     ]
    },
    {
     "name": "stdout",
     "output_type": "stream",
     "text": [
      "\r\n",
      "Epoch 241/600:  40%|████      | 240/600 [3:23:50<5:20:52, 53.48s/it, v_num=7x_1, total_loss_train=533, kl_local_train=117, metric_mi|age_categorical_train=0.316]"
     ]
    },
    {
     "name": "stdout",
     "output_type": "stream",
     "text": [
      "\r\n",
      "Epoch 241/600:  40%|████      | 241/600 [3:24:40<5:14:36, 52.58s/it, v_num=7x_1, total_loss_train=533, kl_local_train=117, metric_mi|age_categorical_train=0.316]"
     ]
    },
    {
     "name": "stdout",
     "output_type": "stream",
     "text": [
      "\r\n",
      "Epoch 241/600:  40%|████      | 241/600 [3:24:40<5:14:36, 52.58s/it, v_num=7x_1, total_loss_train=533, kl_local_train=117, metric_mi|age_categorical_train=0.315]"
     ]
    },
    {
     "name": "stdout",
     "output_type": "stream",
     "text": [
      "\r\n",
      "Epoch 242/600:  40%|████      | 241/600 [3:24:40<5:14:36, 52.58s/it, v_num=7x_1, total_loss_train=533, kl_local_train=117, metric_mi|age_categorical_train=0.315]"
     ]
    },
    {
     "name": "stdout",
     "output_type": "stream",
     "text": [
      "\r\n",
      "Epoch 242/600:  40%|████      | 242/600 [3:25:30<5:08:09, 51.65s/it, v_num=7x_1, total_loss_train=533, kl_local_train=117, metric_mi|age_categorical_train=0.315]"
     ]
    },
    {
     "name": "stdout",
     "output_type": "stream",
     "text": [
      "\r\n",
      "Epoch 242/600:  40%|████      | 242/600 [3:25:30<5:08:09, 51.65s/it, v_num=7x_1, total_loss_train=534, kl_local_train=118, metric_mi|age_categorical_train=0.315]"
     ]
    },
    {
     "name": "stdout",
     "output_type": "stream",
     "text": [
      "\r\n",
      "Epoch 243/600:  40%|████      | 242/600 [3:25:30<5:08:09, 51.65s/it, v_num=7x_1, total_loss_train=534, kl_local_train=118, metric_mi|age_categorical_train=0.315]"
     ]
    },
    {
     "name": "stdout",
     "output_type": "stream",
     "text": [
      "\r\n",
      "Epoch 243/600:  40%|████      | 243/600 [3:26:21<5:07:03, 51.61s/it, v_num=7x_1, total_loss_train=534, kl_local_train=118, metric_mi|age_categorical_train=0.315]"
     ]
    },
    {
     "name": "stdout",
     "output_type": "stream",
     "text": [
      "\r\n",
      "Epoch 243/600:  40%|████      | 243/600 [3:26:21<5:07:03, 51.61s/it, v_num=7x_1, total_loss_train=534, kl_local_train=117, metric_mi|age_categorical_train=0.315]"
     ]
    },
    {
     "name": "stdout",
     "output_type": "stream",
     "text": [
      "\r\n",
      "Epoch 244/600:  40%|████      | 243/600 [3:26:21<5:07:03, 51.61s/it, v_num=7x_1, total_loss_train=534, kl_local_train=117, metric_mi|age_categorical_train=0.315]"
     ]
    },
    {
     "name": "stdout",
     "output_type": "stream",
     "text": [
      "\r\n",
      "Epoch 244/600:  41%|████      | 244/600 [3:27:15<5:10:34, 52.34s/it, v_num=7x_1, total_loss_train=534, kl_local_train=117, metric_mi|age_categorical_train=0.315]"
     ]
    },
    {
     "name": "stdout",
     "output_type": "stream",
     "text": [
      "\r\n",
      "Epoch 244/600:  41%|████      | 244/600 [3:27:15<5:10:34, 52.34s/it, v_num=7x_1, total_loss_train=534, kl_local_train=117, metric_mi|age_categorical_train=0.315]"
     ]
    },
    {
     "name": "stdout",
     "output_type": "stream",
     "text": [
      "\r\n",
      "Epoch 245/600:  41%|████      | 244/600 [3:27:15<5:10:34, 52.34s/it, v_num=7x_1, total_loss_train=534, kl_local_train=117, metric_mi|age_categorical_train=0.315]"
     ]
    },
    {
     "name": "stdout",
     "output_type": "stream",
     "text": [
      "\r\n",
      "Epoch 245/600:  41%|████      | 245/600 [3:28:10<5:13:02, 52.91s/it, v_num=7x_1, total_loss_train=534, kl_local_train=117, metric_mi|age_categorical_train=0.315]"
     ]
    },
    {
     "name": "stdout",
     "output_type": "stream",
     "text": [
      "\r\n",
      "Epoch 245/600:  41%|████      | 245/600 [3:28:10<5:13:02, 52.91s/it, v_num=7x_1, total_loss_train=534, kl_local_train=116, metric_mi|age_categorical_train=0.315]"
     ]
    },
    {
     "name": "stdout",
     "output_type": "stream",
     "text": [
      "\r\n",
      "Epoch 246/600:  41%|████      | 245/600 [3:28:11<5:13:02, 52.91s/it, v_num=7x_1, total_loss_train=534, kl_local_train=116, metric_mi|age_categorical_train=0.315]"
     ]
    },
    {
     "name": "stdout",
     "output_type": "stream",
     "text": [
      "\r\n",
      "Epoch 246/600:  41%|████      | 246/600 [3:29:05<5:16:35, 53.66s/it, v_num=7x_1, total_loss_train=534, kl_local_train=116, metric_mi|age_categorical_train=0.315]"
     ]
    },
    {
     "name": "stdout",
     "output_type": "stream",
     "text": [
      "\r\n",
      "Epoch 246/600:  41%|████      | 246/600 [3:29:05<5:16:35, 53.66s/it, v_num=7x_1, total_loss_train=534, kl_local_train=116, metric_mi|age_categorical_train=0.317]"
     ]
    },
    {
     "name": "stdout",
     "output_type": "stream",
     "text": [
      "\r\n",
      "Epoch 247/600:  41%|████      | 246/600 [3:29:05<5:16:35, 53.66s/it, v_num=7x_1, total_loss_train=534, kl_local_train=116, metric_mi|age_categorical_train=0.317]"
     ]
    },
    {
     "name": "stdout",
     "output_type": "stream",
     "text": [
      "\r\n",
      "Epoch 247/600:  41%|████      | 247/600 [3:29:59<5:15:48, 53.68s/it, v_num=7x_1, total_loss_train=534, kl_local_train=116, metric_mi|age_categorical_train=0.317]"
     ]
    },
    {
     "name": "stdout",
     "output_type": "stream",
     "text": [
      "\r\n",
      "Epoch 247/600:  41%|████      | 247/600 [3:29:59<5:15:48, 53.68s/it, v_num=7x_1, total_loss_train=534, kl_local_train=116, metric_mi|age_categorical_train=0.317]"
     ]
    },
    {
     "name": "stdout",
     "output_type": "stream",
     "text": [
      "\r\n",
      "Epoch 248/600:  41%|████      | 247/600 [3:29:59<5:15:48, 53.68s/it, v_num=7x_1, total_loss_train=534, kl_local_train=116, metric_mi|age_categorical_train=0.317]"
     ]
    },
    {
     "name": "stdout",
     "output_type": "stream",
     "text": [
      "\r\n",
      "Epoch 248/600:  41%|████▏     | 248/600 [3:30:52<5:14:49, 53.66s/it, v_num=7x_1, total_loss_train=534, kl_local_train=116, metric_mi|age_categorical_train=0.317]"
     ]
    },
    {
     "name": "stdout",
     "output_type": "stream",
     "text": [
      "\r\n",
      "Epoch 248/600:  41%|████▏     | 248/600 [3:30:52<5:14:49, 53.66s/it, v_num=7x_1, total_loss_train=534, kl_local_train=115, metric_mi|age_categorical_train=0.317]"
     ]
    },
    {
     "name": "stdout",
     "output_type": "stream",
     "text": [
      "\r\n",
      "Epoch 249/600:  41%|████▏     | 248/600 [3:30:52<5:14:49, 53.66s/it, v_num=7x_1, total_loss_train=534, kl_local_train=115, metric_mi|age_categorical_train=0.317]"
     ]
    },
    {
     "name": "stdout",
     "output_type": "stream",
     "text": [
      "\r\n",
      "Epoch 249/600:  42%|████▏     | 249/600 [3:31:46<5:13:56, 53.67s/it, v_num=7x_1, total_loss_train=534, kl_local_train=115, metric_mi|age_categorical_train=0.317]"
     ]
    },
    {
     "name": "stdout",
     "output_type": "stream",
     "text": [
      "\r\n",
      "Epoch 249/600:  42%|████▏     | 249/600 [3:31:46<5:13:56, 53.67s/it, v_num=7x_1, total_loss_train=534, kl_local_train=114, metric_mi|age_categorical_train=0.317]"
     ]
    },
    {
     "name": "stdout",
     "output_type": "stream",
     "text": [
      "\r\n",
      "Epoch 250/600:  42%|████▏     | 249/600 [3:31:46<5:13:56, 53.67s/it, v_num=7x_1, total_loss_train=534, kl_local_train=114, metric_mi|age_categorical_train=0.317]"
     ]
    },
    {
     "name": "stdout",
     "output_type": "stream",
     "text": [
      "\r\n",
      "Epoch 250/600:  42%|████▏     | 250/600 [3:32:39<5:12:09, 53.51s/it, v_num=7x_1, total_loss_train=534, kl_local_train=114, metric_mi|age_categorical_train=0.317]"
     ]
    },
    {
     "name": "stdout",
     "output_type": "stream",
     "text": [
      "\r\n",
      "Epoch 250/600:  42%|████▏     | 250/600 [3:32:39<5:12:09, 53.51s/it, v_num=7x_1, total_loss_train=534, kl_local_train=115, metric_mi|age_categorical_train=0.317]"
     ]
    },
    {
     "name": "stdout",
     "output_type": "stream",
     "text": [
      "\r\n",
      "Epoch 251/600:  42%|████▏     | 250/600 [3:32:40<5:12:09, 53.51s/it, v_num=7x_1, total_loss_train=534, kl_local_train=115, metric_mi|age_categorical_train=0.317]"
     ]
    },
    {
     "name": "stdout",
     "output_type": "stream",
     "text": [
      "\r\n",
      "Epoch 251/600:  42%|████▏     | 251/600 [3:33:34<5:12:54, 53.80s/it, v_num=7x_1, total_loss_train=534, kl_local_train=115, metric_mi|age_categorical_train=0.317]"
     ]
    },
    {
     "name": "stdout",
     "output_type": "stream",
     "text": [
      "\r\n",
      "Epoch 251/600:  42%|████▏     | 251/600 [3:33:34<5:12:54, 53.80s/it, v_num=7x_1, total_loss_train=534, kl_local_train=115, metric_mi|age_categorical_train=0.315]"
     ]
    },
    {
     "name": "stdout",
     "output_type": "stream",
     "text": [
      "\r\n",
      "Epoch 252/600:  42%|████▏     | 251/600 [3:33:34<5:12:54, 53.80s/it, v_num=7x_1, total_loss_train=534, kl_local_train=115, metric_mi|age_categorical_train=0.315]"
     ]
    },
    {
     "name": "stdout",
     "output_type": "stream",
     "text": [
      "\r\n",
      "Epoch 252/600:  42%|████▏     | 252/600 [3:34:27<5:10:52, 53.60s/it, v_num=7x_1, total_loss_train=534, kl_local_train=115, metric_mi|age_categorical_train=0.315]"
     ]
    },
    {
     "name": "stdout",
     "output_type": "stream",
     "text": [
      "\r\n",
      "Epoch 252/600:  42%|████▏     | 252/600 [3:34:27<5:10:52, 53.60s/it, v_num=7x_1, total_loss_train=534, kl_local_train=114, metric_mi|age_categorical_train=0.315]"
     ]
    },
    {
     "name": "stdout",
     "output_type": "stream",
     "text": [
      "\r\n",
      "Epoch 253/600:  42%|████▏     | 252/600 [3:34:27<5:10:52, 53.60s/it, v_num=7x_1, total_loss_train=534, kl_local_train=114, metric_mi|age_categorical_train=0.315]"
     ]
    },
    {
     "name": "stdout",
     "output_type": "stream",
     "text": [
      "\r\n",
      "Epoch 253/600:  42%|████▏     | 253/600 [3:35:20<5:09:14, 53.47s/it, v_num=7x_1, total_loss_train=534, kl_local_train=114, metric_mi|age_categorical_train=0.315]"
     ]
    },
    {
     "name": "stdout",
     "output_type": "stream",
     "text": [
      "\r\n",
      "Epoch 253/600:  42%|████▏     | 253/600 [3:35:20<5:09:14, 53.47s/it, v_num=7x_1, total_loss_train=534, kl_local_train=114, metric_mi|age_categorical_train=0.315]"
     ]
    },
    {
     "name": "stdout",
     "output_type": "stream",
     "text": [
      "\r\n",
      "Epoch 254/600:  42%|████▏     | 253/600 [3:35:20<5:09:14, 53.47s/it, v_num=7x_1, total_loss_train=534, kl_local_train=114, metric_mi|age_categorical_train=0.315]"
     ]
    },
    {
     "name": "stdout",
     "output_type": "stream",
     "text": [
      "\r\n",
      "Epoch 254/600:  42%|████▏     | 254/600 [3:36:13<5:07:53, 53.39s/it, v_num=7x_1, total_loss_train=534, kl_local_train=114, metric_mi|age_categorical_train=0.315]"
     ]
    },
    {
     "name": "stdout",
     "output_type": "stream",
     "text": [
      "\r\n",
      "Epoch 254/600:  42%|████▏     | 254/600 [3:36:13<5:07:53, 53.39s/it, v_num=7x_1, total_loss_train=534, kl_local_train=113, metric_mi|age_categorical_train=0.315]"
     ]
    },
    {
     "name": "stdout",
     "output_type": "stream",
     "text": [
      "\r\n",
      "Epoch 255/600:  42%|████▏     | 254/600 [3:36:13<5:07:53, 53.39s/it, v_num=7x_1, total_loss_train=534, kl_local_train=113, metric_mi|age_categorical_train=0.315]"
     ]
    },
    {
     "name": "stdout",
     "output_type": "stream",
     "text": [
      "\r\n",
      "Epoch 255/600:  42%|████▎     | 255/600 [3:37:07<5:08:14, 53.61s/it, v_num=7x_1, total_loss_train=534, kl_local_train=113, metric_mi|age_categorical_train=0.315]"
     ]
    },
    {
     "name": "stdout",
     "output_type": "stream",
     "text": [
      "\r\n",
      "Epoch 255/600:  42%|████▎     | 255/600 [3:37:07<5:08:14, 53.61s/it, v_num=7x_1, total_loss_train=534, kl_local_train=113, metric_mi|age_categorical_train=0.315]"
     ]
    },
    {
     "name": "stdout",
     "output_type": "stream",
     "text": [
      "\r\n",
      "Epoch 256/600:  42%|████▎     | 255/600 [3:37:08<5:08:14, 53.61s/it, v_num=7x_1, total_loss_train=534, kl_local_train=113, metric_mi|age_categorical_train=0.315]"
     ]
    },
    {
     "name": "stdout",
     "output_type": "stream",
     "text": [
      "\r\n",
      "Epoch 256/600:  43%|████▎     | 256/600 [3:38:02<5:08:35, 53.83s/it, v_num=7x_1, total_loss_train=534, kl_local_train=113, metric_mi|age_categorical_train=0.315]"
     ]
    },
    {
     "name": "stdout",
     "output_type": "stream",
     "text": [
      "\r\n",
      "Epoch 256/600:  43%|████▎     | 256/600 [3:38:02<5:08:35, 53.83s/it, v_num=7x_1, total_loss_train=535, kl_local_train=113, metric_mi|age_categorical_train=0.312]"
     ]
    },
    {
     "name": "stdout",
     "output_type": "stream",
     "text": [
      "\r\n",
      "Epoch 257/600:  43%|████▎     | 256/600 [3:38:02<5:08:35, 53.83s/it, v_num=7x_1, total_loss_train=535, kl_local_train=113, metric_mi|age_categorical_train=0.312]"
     ]
    },
    {
     "name": "stdout",
     "output_type": "stream",
     "text": [
      "\r\n",
      "Epoch 257/600:  43%|████▎     | 257/600 [3:38:55<5:07:31, 53.79s/it, v_num=7x_1, total_loss_train=535, kl_local_train=113, metric_mi|age_categorical_train=0.312]"
     ]
    },
    {
     "name": "stdout",
     "output_type": "stream",
     "text": [
      "\r\n",
      "Epoch 257/600:  43%|████▎     | 257/600 [3:38:55<5:07:31, 53.79s/it, v_num=7x_1, total_loss_train=535, kl_local_train=113, metric_mi|age_categorical_train=0.312]"
     ]
    },
    {
     "name": "stdout",
     "output_type": "stream",
     "text": [
      "\r\n",
      "Epoch 258/600:  43%|████▎     | 257/600 [3:38:55<5:07:31, 53.79s/it, v_num=7x_1, total_loss_train=535, kl_local_train=113, metric_mi|age_categorical_train=0.312]"
     ]
    },
    {
     "name": "stdout",
     "output_type": "stream",
     "text": [
      "\r\n",
      "Epoch 258/600:  43%|████▎     | 258/600 [3:39:49<5:06:12, 53.72s/it, v_num=7x_1, total_loss_train=535, kl_local_train=113, metric_mi|age_categorical_train=0.312]"
     ]
    },
    {
     "name": "stdout",
     "output_type": "stream",
     "text": [
      "\r\n",
      "Epoch 258/600:  43%|████▎     | 258/600 [3:39:49<5:06:12, 53.72s/it, v_num=7x_1, total_loss_train=534, kl_local_train=113, metric_mi|age_categorical_train=0.312]"
     ]
    },
    {
     "name": "stdout",
     "output_type": "stream",
     "text": [
      "\r\n",
      "Epoch 259/600:  43%|████▎     | 258/600 [3:39:49<5:06:12, 53.72s/it, v_num=7x_1, total_loss_train=534, kl_local_train=113, metric_mi|age_categorical_train=0.312]"
     ]
    },
    {
     "name": "stdout",
     "output_type": "stream",
     "text": [
      "\r\n",
      "Epoch 259/600:  43%|████▎     | 259/600 [3:40:42<5:04:44, 53.62s/it, v_num=7x_1, total_loss_train=534, kl_local_train=113, metric_mi|age_categorical_train=0.312]"
     ]
    },
    {
     "name": "stdout",
     "output_type": "stream",
     "text": [
      "\r\n",
      "Epoch 259/600:  43%|████▎     | 259/600 [3:40:42<5:04:44, 53.62s/it, v_num=7x_1, total_loss_train=535, kl_local_train=113, metric_mi|age_categorical_train=0.312]"
     ]
    },
    {
     "name": "stdout",
     "output_type": "stream",
     "text": [
      "\r\n",
      "Epoch 260/600:  43%|████▎     | 259/600 [3:40:42<5:04:44, 53.62s/it, v_num=7x_1, total_loss_train=535, kl_local_train=113, metric_mi|age_categorical_train=0.312]"
     ]
    },
    {
     "name": "stdout",
     "output_type": "stream",
     "text": [
      "\r\n",
      "Epoch 260/600:  43%|████▎     | 260/600 [3:41:36<5:04:18, 53.70s/it, v_num=7x_1, total_loss_train=535, kl_local_train=113, metric_mi|age_categorical_train=0.312]"
     ]
    },
    {
     "name": "stdout",
     "output_type": "stream",
     "text": [
      "\r\n",
      "Epoch 260/600:  43%|████▎     | 260/600 [3:41:36<5:04:18, 53.70s/it, v_num=7x_1, total_loss_train=535, kl_local_train=113, metric_mi|age_categorical_train=0.312]"
     ]
    },
    {
     "name": "stdout",
     "output_type": "stream",
     "text": [
      "\r\n",
      "Epoch 261/600:  43%|████▎     | 260/600 [3:41:37<5:04:18, 53.70s/it, v_num=7x_1, total_loss_train=535, kl_local_train=113, metric_mi|age_categorical_train=0.312]"
     ]
    },
    {
     "name": "stdout",
     "output_type": "stream",
     "text": [
      "\r\n",
      "Epoch 261/600:  44%|████▎     | 261/600 [3:42:31<5:05:08, 54.01s/it, v_num=7x_1, total_loss_train=535, kl_local_train=113, metric_mi|age_categorical_train=0.312]"
     ]
    },
    {
     "name": "stdout",
     "output_type": "stream",
     "text": [
      "\r\n",
      "Epoch 261/600:  44%|████▎     | 261/600 [3:42:31<5:05:08, 54.01s/it, v_num=7x_1, total_loss_train=535, kl_local_train=112, metric_mi|age_categorical_train=0.308]"
     ]
    },
    {
     "name": "stdout",
     "output_type": "stream",
     "text": [
      "\r\n",
      "Epoch 262/600:  44%|████▎     | 261/600 [3:42:31<5:05:08, 54.01s/it, v_num=7x_1, total_loss_train=535, kl_local_train=112, metric_mi|age_categorical_train=0.308]"
     ]
    },
    {
     "name": "stdout",
     "output_type": "stream",
     "text": [
      "\r\n",
      "Epoch 262/600:  44%|████▎     | 262/600 [3:43:24<5:03:36, 53.89s/it, v_num=7x_1, total_loss_train=535, kl_local_train=112, metric_mi|age_categorical_train=0.308]"
     ]
    },
    {
     "name": "stdout",
     "output_type": "stream",
     "text": [
      "\r\n",
      "Epoch 262/600:  44%|████▎     | 262/600 [3:43:24<5:03:36, 53.89s/it, v_num=7x_1, total_loss_train=535, kl_local_train=112, metric_mi|age_categorical_train=0.308]"
     ]
    },
    {
     "name": "stdout",
     "output_type": "stream",
     "text": [
      "\r\n",
      "Epoch 263/600:  44%|████▎     | 262/600 [3:43:24<5:03:36, 53.89s/it, v_num=7x_1, total_loss_train=535, kl_local_train=112, metric_mi|age_categorical_train=0.308]"
     ]
    },
    {
     "name": "stdout",
     "output_type": "stream",
     "text": [
      "\r\n",
      "Epoch 263/600:  44%|████▍     | 263/600 [3:44:18<5:01:33, 53.69s/it, v_num=7x_1, total_loss_train=535, kl_local_train=112, metric_mi|age_categorical_train=0.308]"
     ]
    },
    {
     "name": "stdout",
     "output_type": "stream",
     "text": [
      "\r\n",
      "Epoch 263/600:  44%|████▍     | 263/600 [3:44:18<5:01:33, 53.69s/it, v_num=7x_1, total_loss_train=535, kl_local_train=111, metric_mi|age_categorical_train=0.308]"
     ]
    },
    {
     "name": "stdout",
     "output_type": "stream",
     "text": [
      "\r\n",
      "Epoch 264/600:  44%|████▍     | 263/600 [3:44:18<5:01:33, 53.69s/it, v_num=7x_1, total_loss_train=535, kl_local_train=111, metric_mi|age_categorical_train=0.308]"
     ]
    },
    {
     "name": "stdout",
     "output_type": "stream",
     "text": [
      "\r\n",
      "Epoch 264/600:  44%|████▍     | 264/600 [3:45:11<5:00:31, 53.66s/it, v_num=7x_1, total_loss_train=535, kl_local_train=111, metric_mi|age_categorical_train=0.308]"
     ]
    },
    {
     "name": "stdout",
     "output_type": "stream",
     "text": [
      "\r\n",
      "Epoch 264/600:  44%|████▍     | 264/600 [3:45:11<5:00:31, 53.66s/it, v_num=7x_1, total_loss_train=535, kl_local_train=112, metric_mi|age_categorical_train=0.308]"
     ]
    },
    {
     "name": "stdout",
     "output_type": "stream",
     "text": [
      "\r\n",
      "Epoch 265/600:  44%|████▍     | 264/600 [3:45:11<5:00:31, 53.66s/it, v_num=7x_1, total_loss_train=535, kl_local_train=112, metric_mi|age_categorical_train=0.308]"
     ]
    },
    {
     "name": "stdout",
     "output_type": "stream",
     "text": [
      "\r\n",
      "Epoch 265/600:  44%|████▍     | 265/600 [3:46:05<4:59:18, 53.61s/it, v_num=7x_1, total_loss_train=535, kl_local_train=112, metric_mi|age_categorical_train=0.308]"
     ]
    },
    {
     "name": "stdout",
     "output_type": "stream",
     "text": [
      "\r\n",
      "Epoch 265/600:  44%|████▍     | 265/600 [3:46:05<4:59:18, 53.61s/it, v_num=7x_1, total_loss_train=535, kl_local_train=111, metric_mi|age_categorical_train=0.308]"
     ]
    },
    {
     "name": "stdout",
     "output_type": "stream",
     "text": [
      "\r\n",
      "Epoch 266/600:  44%|████▍     | 265/600 [3:46:05<4:59:18, 53.61s/it, v_num=7x_1, total_loss_train=535, kl_local_train=111, metric_mi|age_categorical_train=0.308]"
     ]
    },
    {
     "name": "stdout",
     "output_type": "stream",
     "text": [
      "\r\n",
      "Epoch 266/600:  44%|████▍     | 266/600 [3:47:00<5:00:46, 54.03s/it, v_num=7x_1, total_loss_train=535, kl_local_train=111, metric_mi|age_categorical_train=0.308]"
     ]
    },
    {
     "name": "stdout",
     "output_type": "stream",
     "text": [
      "\r\n",
      "Epoch 266/600:  44%|████▍     | 266/600 [3:47:00<5:00:46, 54.03s/it, v_num=7x_1, total_loss_train=535, kl_local_train=112, metric_mi|age_categorical_train=0.303]"
     ]
    },
    {
     "name": "stdout",
     "output_type": "stream",
     "text": [
      "\r\n",
      "Epoch 267/600:  44%|████▍     | 266/600 [3:47:00<5:00:46, 54.03s/it, v_num=7x_1, total_loss_train=535, kl_local_train=112, metric_mi|age_categorical_train=0.303]"
     ]
    },
    {
     "name": "stdout",
     "output_type": "stream",
     "text": [
      "\r\n",
      "Epoch 267/600:  44%|████▍     | 267/600 [3:47:54<5:00:19, 54.11s/it, v_num=7x_1, total_loss_train=535, kl_local_train=112, metric_mi|age_categorical_train=0.303]"
     ]
    },
    {
     "name": "stdout",
     "output_type": "stream",
     "text": [
      "\r\n",
      "Epoch 267/600:  44%|████▍     | 267/600 [3:47:54<5:00:19, 54.11s/it, v_num=7x_1, total_loss_train=536, kl_local_train=111, metric_mi|age_categorical_train=0.303]"
     ]
    },
    {
     "name": "stdout",
     "output_type": "stream",
     "text": [
      "\r\n",
      "Epoch 268/600:  44%|████▍     | 267/600 [3:47:54<5:00:19, 54.11s/it, v_num=7x_1, total_loss_train=536, kl_local_train=111, metric_mi|age_categorical_train=0.303]"
     ]
    },
    {
     "name": "stdout",
     "output_type": "stream",
     "text": [
      "\r\n",
      "Epoch 268/600:  45%|████▍     | 268/600 [3:48:49<5:00:19, 54.28s/it, v_num=7x_1, total_loss_train=536, kl_local_train=111, metric_mi|age_categorical_train=0.303]"
     ]
    },
    {
     "name": "stdout",
     "output_type": "stream",
     "text": [
      "\r\n",
      "Epoch 268/600:  45%|████▍     | 268/600 [3:48:49<5:00:19, 54.28s/it, v_num=7x_1, total_loss_train=535, kl_local_train=111, metric_mi|age_categorical_train=0.303]"
     ]
    },
    {
     "name": "stdout",
     "output_type": "stream",
     "text": [
      "\r\n",
      "Epoch 269/600:  45%|████▍     | 268/600 [3:48:49<5:00:19, 54.28s/it, v_num=7x_1, total_loss_train=535, kl_local_train=111, metric_mi|age_categorical_train=0.303]"
     ]
    },
    {
     "name": "stdout",
     "output_type": "stream",
     "text": [
      "\r\n",
      "Epoch 269/600:  45%|████▍     | 269/600 [3:49:43<4:59:29, 54.29s/it, v_num=7x_1, total_loss_train=535, kl_local_train=111, metric_mi|age_categorical_train=0.303]"
     ]
    },
    {
     "name": "stdout",
     "output_type": "stream",
     "text": [
      "\r\n",
      "Epoch 269/600:  45%|████▍     | 269/600 [3:49:43<4:59:29, 54.29s/it, v_num=7x_1, total_loss_train=535, kl_local_train=111, metric_mi|age_categorical_train=0.303]"
     ]
    },
    {
     "name": "stdout",
     "output_type": "stream",
     "text": [
      "\r\n",
      "Epoch 270/600:  45%|████▍     | 269/600 [3:49:43<4:59:29, 54.29s/it, v_num=7x_1, total_loss_train=535, kl_local_train=111, metric_mi|age_categorical_train=0.303]"
     ]
    },
    {
     "name": "stdout",
     "output_type": "stream",
     "text": [
      "\r\n",
      "Epoch 270/600:  45%|████▌     | 270/600 [3:50:38<4:59:23, 54.44s/it, v_num=7x_1, total_loss_train=535, kl_local_train=111, metric_mi|age_categorical_train=0.303]"
     ]
    },
    {
     "name": "stdout",
     "output_type": "stream",
     "text": [
      "\r\n",
      "Epoch 270/600:  45%|████▌     | 270/600 [3:50:38<4:59:23, 54.44s/it, v_num=7x_1, total_loss_train=536, kl_local_train=110, metric_mi|age_categorical_train=0.303]"
     ]
    },
    {
     "name": "stdout",
     "output_type": "stream",
     "text": [
      "\r\n",
      "Epoch 271/600:  45%|████▌     | 270/600 [3:50:39<4:59:23, 54.44s/it, v_num=7x_1, total_loss_train=536, kl_local_train=110, metric_mi|age_categorical_train=0.303]"
     ]
    },
    {
     "name": "stdout",
     "output_type": "stream",
     "text": [
      "\r\n",
      "Epoch 271/600:  45%|████▌     | 271/600 [3:51:33<4:59:28, 54.61s/it, v_num=7x_1, total_loss_train=536, kl_local_train=110, metric_mi|age_categorical_train=0.303]"
     ]
    },
    {
     "name": "stdout",
     "output_type": "stream",
     "text": [
      "\r\n",
      "Epoch 271/600:  45%|████▌     | 271/600 [3:51:33<4:59:28, 54.61s/it, v_num=7x_1, total_loss_train=536, kl_local_train=111, metric_mi|age_categorical_train=0.302]"
     ]
    },
    {
     "name": "stdout",
     "output_type": "stream",
     "text": [
      "\r\n",
      "Epoch 272/600:  45%|████▌     | 271/600 [3:51:33<4:59:28, 54.61s/it, v_num=7x_1, total_loss_train=536, kl_local_train=111, metric_mi|age_categorical_train=0.302]"
     ]
    },
    {
     "name": "stdout",
     "output_type": "stream",
     "text": [
      "\r\n",
      "Epoch 272/600:  45%|████▌     | 272/600 [3:52:27<4:57:48, 54.48s/it, v_num=7x_1, total_loss_train=536, kl_local_train=111, metric_mi|age_categorical_train=0.302]"
     ]
    },
    {
     "name": "stdout",
     "output_type": "stream",
     "text": [
      "\r\n",
      "Epoch 272/600:  45%|████▌     | 272/600 [3:52:27<4:57:48, 54.48s/it, v_num=7x_1, total_loss_train=535, kl_local_train=110, metric_mi|age_categorical_train=0.302]"
     ]
    },
    {
     "name": "stdout",
     "output_type": "stream",
     "text": [
      "\r\n",
      "Epoch 273/600:  45%|████▌     | 272/600 [3:52:27<4:57:48, 54.48s/it, v_num=7x_1, total_loss_train=535, kl_local_train=110, metric_mi|age_categorical_train=0.302]"
     ]
    },
    {
     "name": "stdout",
     "output_type": "stream",
     "text": [
      "\r\n",
      "Epoch 273/600:  46%|████▌     | 273/600 [3:53:22<4:57:11, 54.53s/it, v_num=7x_1, total_loss_train=535, kl_local_train=110, metric_mi|age_categorical_train=0.302]"
     ]
    },
    {
     "name": "stdout",
     "output_type": "stream",
     "text": [
      "\r\n",
      "Epoch 273/600:  46%|████▌     | 273/600 [3:53:22<4:57:11, 54.53s/it, v_num=7x_1, total_loss_train=536, kl_local_train=110, metric_mi|age_categorical_train=0.302]"
     ]
    },
    {
     "name": "stdout",
     "output_type": "stream",
     "text": [
      "\r\n",
      "Epoch 274/600:  46%|████▌     | 273/600 [3:53:22<4:57:11, 54.53s/it, v_num=7x_1, total_loss_train=536, kl_local_train=110, metric_mi|age_categorical_train=0.302]"
     ]
    },
    {
     "name": "stdout",
     "output_type": "stream",
     "text": [
      "\r\n",
      "Epoch 274/600:  46%|████▌     | 274/600 [3:54:16<4:55:54, 54.46s/it, v_num=7x_1, total_loss_train=536, kl_local_train=110, metric_mi|age_categorical_train=0.302]"
     ]
    },
    {
     "name": "stdout",
     "output_type": "stream",
     "text": [
      "\r\n",
      "Epoch 274/600:  46%|████▌     | 274/600 [3:54:16<4:55:54, 54.46s/it, v_num=7x_1, total_loss_train=536, kl_local_train=109, metric_mi|age_categorical_train=0.302]"
     ]
    },
    {
     "name": "stdout",
     "output_type": "stream",
     "text": [
      "\r\n",
      "Epoch 275/600:  46%|████▌     | 274/600 [3:54:16<4:55:54, 54.46s/it, v_num=7x_1, total_loss_train=536, kl_local_train=109, metric_mi|age_categorical_train=0.302]"
     ]
    },
    {
     "name": "stdout",
     "output_type": "stream",
     "text": [
      "\r\n",
      "Epoch 275/600:  46%|████▌     | 275/600 [3:55:10<4:54:30, 54.37s/it, v_num=7x_1, total_loss_train=536, kl_local_train=109, metric_mi|age_categorical_train=0.302]"
     ]
    },
    {
     "name": "stdout",
     "output_type": "stream",
     "text": [
      "\r\n",
      "Epoch 275/600:  46%|████▌     | 275/600 [3:55:10<4:54:30, 54.37s/it, v_num=7x_1, total_loss_train=536, kl_local_train=109, metric_mi|age_categorical_train=0.302]"
     ]
    },
    {
     "name": "stdout",
     "output_type": "stream",
     "text": [
      "\r\n",
      "Epoch 276/600:  46%|████▌     | 275/600 [3:55:11<4:54:30, 54.37s/it, v_num=7x_1, total_loss_train=536, kl_local_train=109, metric_mi|age_categorical_train=0.302]"
     ]
    },
    {
     "name": "stdout",
     "output_type": "stream",
     "text": [
      "\r\n",
      "Epoch 276/600:  46%|████▌     | 276/600 [3:56:06<4:55:20, 54.69s/it, v_num=7x_1, total_loss_train=536, kl_local_train=109, metric_mi|age_categorical_train=0.302]"
     ]
    },
    {
     "name": "stdout",
     "output_type": "stream",
     "text": [
      "\r\n",
      "Epoch 276/600:  46%|████▌     | 276/600 [3:56:06<4:55:20, 54.69s/it, v_num=7x_1, total_loss_train=536, kl_local_train=109, metric_mi|age_categorical_train=0.304]"
     ]
    },
    {
     "name": "stdout",
     "output_type": "stream",
     "text": [
      "\r\n",
      "Epoch 277/600:  46%|████▌     | 276/600 [3:56:06<4:55:20, 54.69s/it, v_num=7x_1, total_loss_train=536, kl_local_train=109, metric_mi|age_categorical_train=0.304]"
     ]
    },
    {
     "name": "stdout",
     "output_type": "stream",
     "text": [
      "\r\n",
      "Epoch 277/600:  46%|████▌     | 277/600 [3:57:00<4:53:43, 54.56s/it, v_num=7x_1, total_loss_train=536, kl_local_train=109, metric_mi|age_categorical_train=0.304]"
     ]
    },
    {
     "name": "stdout",
     "output_type": "stream",
     "text": [
      "\r\n",
      "Epoch 277/600:  46%|████▌     | 277/600 [3:57:00<4:53:43, 54.56s/it, v_num=7x_1, total_loss_train=535, kl_local_train=109, metric_mi|age_categorical_train=0.304]"
     ]
    },
    {
     "name": "stdout",
     "output_type": "stream",
     "text": [
      "\r\n",
      "Epoch 278/600:  46%|████▌     | 277/600 [3:57:00<4:53:43, 54.56s/it, v_num=7x_1, total_loss_train=535, kl_local_train=109, metric_mi|age_categorical_train=0.304]"
     ]
    },
    {
     "name": "stdout",
     "output_type": "stream",
     "text": [
      "\r\n",
      "Epoch 278/600:  46%|████▋     | 278/600 [3:57:54<4:52:25, 54.49s/it, v_num=7x_1, total_loss_train=535, kl_local_train=109, metric_mi|age_categorical_train=0.304]"
     ]
    },
    {
     "name": "stdout",
     "output_type": "stream",
     "text": [
      "\r\n",
      "Epoch 278/600:  46%|████▋     | 278/600 [3:57:54<4:52:25, 54.49s/it, v_num=7x_1, total_loss_train=536, kl_local_train=108, metric_mi|age_categorical_train=0.304]"
     ]
    },
    {
     "name": "stdout",
     "output_type": "stream",
     "text": [
      "\r\n",
      "Epoch 279/600:  46%|████▋     | 278/600 [3:57:54<4:52:25, 54.49s/it, v_num=7x_1, total_loss_train=536, kl_local_train=108, metric_mi|age_categorical_train=0.304]"
     ]
    },
    {
     "name": "stdout",
     "output_type": "stream",
     "text": [
      "\r\n",
      "Epoch 279/600:  46%|████▋     | 279/600 [3:58:46<4:46:52, 53.62s/it, v_num=7x_1, total_loss_train=536, kl_local_train=108, metric_mi|age_categorical_train=0.304]"
     ]
    },
    {
     "name": "stdout",
     "output_type": "stream",
     "text": [
      "\r\n",
      "Epoch 279/600:  46%|████▋     | 279/600 [3:58:46<4:46:52, 53.62s/it, v_num=7x_1, total_loss_train=536, kl_local_train=109, metric_mi|age_categorical_train=0.304]"
     ]
    },
    {
     "name": "stdout",
     "output_type": "stream",
     "text": [
      "\r\n",
      "Epoch 280/600:  46%|████▋     | 279/600 [3:58:46<4:46:52, 53.62s/it, v_num=7x_1, total_loss_train=536, kl_local_train=109, metric_mi|age_categorical_train=0.304]"
     ]
    },
    {
     "name": "stdout",
     "output_type": "stream",
     "text": [
      "\r\n",
      "Epoch 280/600:  47%|████▋     | 280/600 [3:59:35<4:39:19, 52.37s/it, v_num=7x_1, total_loss_train=536, kl_local_train=109, metric_mi|age_categorical_train=0.304]"
     ]
    },
    {
     "name": "stdout",
     "output_type": "stream",
     "text": [
      "\r\n",
      "Epoch 280/600:  47%|████▋     | 280/600 [3:59:35<4:39:19, 52.37s/it, v_num=7x_1, total_loss_train=536, kl_local_train=109, metric_mi|age_categorical_train=0.304]"
     ]
    },
    {
     "name": "stdout",
     "output_type": "stream",
     "text": [
      "\r\n",
      "Epoch 281/600:  47%|████▋     | 280/600 [3:59:36<4:39:19, 52.37s/it, v_num=7x_1, total_loss_train=536, kl_local_train=109, metric_mi|age_categorical_train=0.304]"
     ]
    },
    {
     "name": "stdout",
     "output_type": "stream",
     "text": [
      "\r\n",
      "Epoch 281/600:  47%|████▋     | 281/600 [4:00:26<4:36:00, 51.91s/it, v_num=7x_1, total_loss_train=536, kl_local_train=109, metric_mi|age_categorical_train=0.304]"
     ]
    },
    {
     "name": "stdout",
     "output_type": "stream",
     "text": [
      "\r\n",
      "Epoch 281/600:  47%|████▋     | 281/600 [4:00:26<4:36:00, 51.91s/it, v_num=7x_1, total_loss_train=536, kl_local_train=108, metric_mi|age_categorical_train=0.309]"
     ]
    },
    {
     "name": "stdout",
     "output_type": "stream",
     "text": [
      "\r\n",
      "Epoch 282/600:  47%|████▋     | 281/600 [4:00:26<4:36:00, 51.91s/it, v_num=7x_1, total_loss_train=536, kl_local_train=108, metric_mi|age_categorical_train=0.309]"
     ]
    },
    {
     "name": "stdout",
     "output_type": "stream",
     "text": [
      "\r\n",
      "Epoch 282/600:  47%|████▋     | 282/600 [4:01:20<4:38:06, 52.47s/it, v_num=7x_1, total_loss_train=536, kl_local_train=108, metric_mi|age_categorical_train=0.309]"
     ]
    },
    {
     "name": "stdout",
     "output_type": "stream",
     "text": [
      "\r\n",
      "Epoch 282/600:  47%|████▋     | 282/600 [4:01:20<4:38:06, 52.47s/it, v_num=7x_1, total_loss_train=537, kl_local_train=109, metric_mi|age_categorical_train=0.309]"
     ]
    },
    {
     "name": "stdout",
     "output_type": "stream",
     "text": [
      "\r\n",
      "Epoch 283/600:  47%|████▋     | 282/600 [4:01:20<4:38:06, 52.47s/it, v_num=7x_1, total_loss_train=537, kl_local_train=109, metric_mi|age_categorical_train=0.309]"
     ]
    },
    {
     "name": "stdout",
     "output_type": "stream",
     "text": [
      "\r\n",
      "Epoch 283/600:  47%|████▋     | 283/600 [4:02:13<4:38:46, 52.77s/it, v_num=7x_1, total_loss_train=537, kl_local_train=109, metric_mi|age_categorical_train=0.309]"
     ]
    },
    {
     "name": "stdout",
     "output_type": "stream",
     "text": [
      "\r\n",
      "Epoch 283/600:  47%|████▋     | 283/600 [4:02:13<4:38:46, 52.77s/it, v_num=7x_1, total_loss_train=537, kl_local_train=108, metric_mi|age_categorical_train=0.309]"
     ]
    },
    {
     "name": "stdout",
     "output_type": "stream",
     "text": [
      "\r\n",
      "Epoch 284/600:  47%|████▋     | 283/600 [4:02:13<4:38:46, 52.77s/it, v_num=7x_1, total_loss_train=537, kl_local_train=108, metric_mi|age_categorical_train=0.309]"
     ]
    },
    {
     "name": "stdout",
     "output_type": "stream",
     "text": [
      "\r\n",
      "Epoch 284/600:  47%|████▋     | 284/600 [4:03:07<4:39:09, 53.01s/it, v_num=7x_1, total_loss_train=537, kl_local_train=108, metric_mi|age_categorical_train=0.309]"
     ]
    },
    {
     "name": "stdout",
     "output_type": "stream",
     "text": [
      "\r\n",
      "Epoch 284/600:  47%|████▋     | 284/600 [4:03:07<4:39:09, 53.01s/it, v_num=7x_1, total_loss_train=537, kl_local_train=108, metric_mi|age_categorical_train=0.309]"
     ]
    },
    {
     "name": "stdout",
     "output_type": "stream",
     "text": [
      "\r\n",
      "Epoch 285/600:  47%|████▋     | 284/600 [4:03:07<4:39:09, 53.01s/it, v_num=7x_1, total_loss_train=537, kl_local_train=108, metric_mi|age_categorical_train=0.309]"
     ]
    },
    {
     "name": "stdout",
     "output_type": "stream",
     "text": [
      "\r\n",
      "Epoch 285/600:  48%|████▊     | 285/600 [4:04:01<4:39:58, 53.33s/it, v_num=7x_1, total_loss_train=537, kl_local_train=108, metric_mi|age_categorical_train=0.309]"
     ]
    },
    {
     "name": "stdout",
     "output_type": "stream",
     "text": [
      "\r\n",
      "Epoch 285/600:  48%|████▊     | 285/600 [4:04:01<4:39:58, 53.33s/it, v_num=7x_1, total_loss_train=537, kl_local_train=107, metric_mi|age_categorical_train=0.309]"
     ]
    },
    {
     "name": "stdout",
     "output_type": "stream",
     "text": [
      "\r\n",
      "Epoch 286/600:  48%|████▊     | 285/600 [4:04:02<4:39:58, 53.33s/it, v_num=7x_1, total_loss_train=537, kl_local_train=107, metric_mi|age_categorical_train=0.309]"
     ]
    },
    {
     "name": "stdout",
     "output_type": "stream",
     "text": [
      "\r\n",
      "Epoch 286/600:  48%|████▊     | 286/600 [4:04:55<4:40:35, 53.62s/it, v_num=7x_1, total_loss_train=537, kl_local_train=107, metric_mi|age_categorical_train=0.309]"
     ]
    },
    {
     "name": "stdout",
     "output_type": "stream",
     "text": [
      "\r\n",
      "Epoch 286/600:  48%|████▊     | 286/600 [4:04:55<4:40:35, 53.62s/it, v_num=7x_1, total_loss_train=537, kl_local_train=108, metric_mi|age_categorical_train=0.309]"
     ]
    },
    {
     "name": "stdout",
     "output_type": "stream",
     "text": [
      "\r\n",
      "Epoch 287/600:  48%|████▊     | 286/600 [4:04:55<4:40:35, 53.62s/it, v_num=7x_1, total_loss_train=537, kl_local_train=108, metric_mi|age_categorical_train=0.309]"
     ]
    },
    {
     "name": "stdout",
     "output_type": "stream",
     "text": [
      "\r\n",
      "Epoch 287/600:  48%|████▊     | 287/600 [4:05:49<4:39:24, 53.56s/it, v_num=7x_1, total_loss_train=537, kl_local_train=108, metric_mi|age_categorical_train=0.309]"
     ]
    },
    {
     "name": "stdout",
     "output_type": "stream",
     "text": [
      "\r\n",
      "Epoch 287/600:  48%|████▊     | 287/600 [4:05:49<4:39:24, 53.56s/it, v_num=7x_1, total_loss_train=537, kl_local_train=107, metric_mi|age_categorical_train=0.309]"
     ]
    },
    {
     "name": "stdout",
     "output_type": "stream",
     "text": [
      "\r\n",
      "Epoch 288/600:  48%|████▊     | 287/600 [4:05:49<4:39:24, 53.56s/it, v_num=7x_1, total_loss_train=537, kl_local_train=107, metric_mi|age_categorical_train=0.309]"
     ]
    },
    {
     "name": "stdout",
     "output_type": "stream",
     "text": [
      "\r\n",
      "Epoch 288/600:  48%|████▊     | 288/600 [4:06:43<4:39:05, 53.67s/it, v_num=7x_1, total_loss_train=537, kl_local_train=107, metric_mi|age_categorical_train=0.309]"
     ]
    },
    {
     "name": "stdout",
     "output_type": "stream",
     "text": [
      "\r\n",
      "Epoch 288/600:  48%|████▊     | 288/600 [4:06:43<4:39:05, 53.67s/it, v_num=7x_1, total_loss_train=537, kl_local_train=107, metric_mi|age_categorical_train=0.309]"
     ]
    },
    {
     "name": "stdout",
     "output_type": "stream",
     "text": [
      "\r\n",
      "Epoch 289/600:  48%|████▊     | 288/600 [4:06:43<4:39:05, 53.67s/it, v_num=7x_1, total_loss_train=537, kl_local_train=107, metric_mi|age_categorical_train=0.309]"
     ]
    },
    {
     "name": "stdout",
     "output_type": "stream",
     "text": [
      "\r\n",
      "Epoch 289/600:  48%|████▊     | 289/600 [4:07:36<4:38:01, 53.64s/it, v_num=7x_1, total_loss_train=537, kl_local_train=107, metric_mi|age_categorical_train=0.309]"
     ]
    },
    {
     "name": "stdout",
     "output_type": "stream",
     "text": [
      "\r\n",
      "Epoch 289/600:  48%|████▊     | 289/600 [4:07:36<4:38:01, 53.64s/it, v_num=7x_1, total_loss_train=537, kl_local_train=107, metric_mi|age_categorical_train=0.309]"
     ]
    },
    {
     "name": "stdout",
     "output_type": "stream",
     "text": [
      "\r\n",
      "Epoch 290/600:  48%|████▊     | 289/600 [4:07:36<4:38:01, 53.64s/it, v_num=7x_1, total_loss_train=537, kl_local_train=107, metric_mi|age_categorical_train=0.309]"
     ]
    },
    {
     "name": "stdout",
     "output_type": "stream",
     "text": [
      "\r\n",
      "Epoch 290/600:  48%|████▊     | 290/600 [4:08:30<4:36:53, 53.59s/it, v_num=7x_1, total_loss_train=537, kl_local_train=107, metric_mi|age_categorical_train=0.309]"
     ]
    },
    {
     "name": "stdout",
     "output_type": "stream",
     "text": [
      "\r\n",
      "Epoch 290/600:  48%|████▊     | 290/600 [4:08:30<4:36:53, 53.59s/it, v_num=7x_1, total_loss_train=537, kl_local_train=107, metric_mi|age_categorical_train=0.309]"
     ]
    },
    {
     "name": "stdout",
     "output_type": "stream",
     "text": [
      "\r\n",
      "Epoch 291/600:  48%|████▊     | 290/600 [4:08:30<4:36:53, 53.59s/it, v_num=7x_1, total_loss_train=537, kl_local_train=107, metric_mi|age_categorical_train=0.309]"
     ]
    },
    {
     "name": "stdout",
     "output_type": "stream",
     "text": [
      "\r\n",
      "Epoch 291/600:  48%|████▊     | 291/600 [4:09:25<4:38:17, 54.04s/it, v_num=7x_1, total_loss_train=537, kl_local_train=107, metric_mi|age_categorical_train=0.309]"
     ]
    },
    {
     "name": "stdout",
     "output_type": "stream",
     "text": [
      "\r\n",
      "Epoch 291/600:  48%|████▊     | 291/600 [4:09:25<4:38:17, 54.04s/it, v_num=7x_1, total_loss_train=537, kl_local_train=107, metric_mi|age_categorical_train=0.305]"
     ]
    },
    {
     "name": "stdout",
     "output_type": "stream",
     "text": [
      "\r\n",
      "Epoch 292/600:  48%|████▊     | 291/600 [4:09:25<4:38:17, 54.04s/it, v_num=7x_1, total_loss_train=537, kl_local_train=107, metric_mi|age_categorical_train=0.305]"
     ]
    },
    {
     "name": "stdout",
     "output_type": "stream",
     "text": [
      "\r\n",
      "Epoch 292/600:  49%|████▊     | 292/600 [4:10:18<4:37:03, 53.97s/it, v_num=7x_1, total_loss_train=537, kl_local_train=107, metric_mi|age_categorical_train=0.305]"
     ]
    },
    {
     "name": "stdout",
     "output_type": "stream",
     "text": [
      "\r\n",
      "Epoch 292/600:  49%|████▊     | 292/600 [4:10:18<4:37:03, 53.97s/it, v_num=7x_1, total_loss_train=537, kl_local_train=107, metric_mi|age_categorical_train=0.305]"
     ]
    },
    {
     "name": "stdout",
     "output_type": "stream",
     "text": [
      "\r\n",
      "Epoch 293/600:  49%|████▊     | 292/600 [4:10:18<4:37:03, 53.97s/it, v_num=7x_1, total_loss_train=537, kl_local_train=107, metric_mi|age_categorical_train=0.305]"
     ]
    },
    {
     "name": "stdout",
     "output_type": "stream",
     "text": [
      "\r\n",
      "Epoch 293/600:  49%|████▉     | 293/600 [4:11:13<4:36:20, 54.01s/it, v_num=7x_1, total_loss_train=537, kl_local_train=107, metric_mi|age_categorical_train=0.305]"
     ]
    },
    {
     "name": "stdout",
     "output_type": "stream",
     "text": [
      "\r\n",
      "Epoch 293/600:  49%|████▉     | 293/600 [4:11:13<4:36:20, 54.01s/it, v_num=7x_1, total_loss_train=538, kl_local_train=107, metric_mi|age_categorical_train=0.305]"
     ]
    },
    {
     "name": "stdout",
     "output_type": "stream",
     "text": [
      "\r\n",
      "Epoch 294/600:  49%|████▉     | 293/600 [4:11:13<4:36:20, 54.01s/it, v_num=7x_1, total_loss_train=538, kl_local_train=107, metric_mi|age_categorical_train=0.305]"
     ]
    },
    {
     "name": "stdout",
     "output_type": "stream",
     "text": [
      "\r\n",
      "Epoch 294/600:  49%|████▉     | 294/600 [4:12:06<4:34:49, 53.89s/it, v_num=7x_1, total_loss_train=538, kl_local_train=107, metric_mi|age_categorical_train=0.305]"
     ]
    },
    {
     "name": "stdout",
     "output_type": "stream",
     "text": [
      "\r\n",
      "Epoch 294/600:  49%|████▉     | 294/600 [4:12:06<4:34:49, 53.89s/it, v_num=7x_1, total_loss_train=537, kl_local_train=107, metric_mi|age_categorical_train=0.305]"
     ]
    },
    {
     "name": "stdout",
     "output_type": "stream",
     "text": [
      "\r\n",
      "Epoch 295/600:  49%|████▉     | 294/600 [4:12:06<4:34:49, 53.89s/it, v_num=7x_1, total_loss_train=537, kl_local_train=107, metric_mi|age_categorical_train=0.305]"
     ]
    },
    {
     "name": "stdout",
     "output_type": "stream",
     "text": [
      "\r\n",
      "Epoch 295/600:  49%|████▉     | 295/600 [4:13:00<4:34:18, 53.96s/it, v_num=7x_1, total_loss_train=537, kl_local_train=107, metric_mi|age_categorical_train=0.305]"
     ]
    },
    {
     "name": "stdout",
     "output_type": "stream",
     "text": [
      "\r\n",
      "Epoch 295/600:  49%|████▉     | 295/600 [4:13:00<4:34:18, 53.96s/it, v_num=7x_1, total_loss_train=538, kl_local_train=106, metric_mi|age_categorical_train=0.305]"
     ]
    },
    {
     "name": "stdout",
     "output_type": "stream",
     "text": [
      "\r\n",
      "Epoch 296/600:  49%|████▉     | 295/600 [4:13:01<4:34:18, 53.96s/it, v_num=7x_1, total_loss_train=538, kl_local_train=106, metric_mi|age_categorical_train=0.305]"
     ]
    },
    {
     "name": "stdout",
     "output_type": "stream",
     "text": [
      "\r\n",
      "Epoch 296/600:  49%|████▉     | 296/600 [4:13:55<4:34:00, 54.08s/it, v_num=7x_1, total_loss_train=538, kl_local_train=106, metric_mi|age_categorical_train=0.305]"
     ]
    },
    {
     "name": "stdout",
     "output_type": "stream",
     "text": [
      "\r\n",
      "Epoch 296/600:  49%|████▉     | 296/600 [4:13:55<4:34:00, 54.08s/it, v_num=7x_1, total_loss_train=537, kl_local_train=105, metric_mi|age_categorical_train=0.311]"
     ]
    },
    {
     "name": "stdout",
     "output_type": "stream",
     "text": [
      "\r\n",
      "Epoch 297/600:  49%|████▉     | 296/600 [4:13:55<4:34:00, 54.08s/it, v_num=7x_1, total_loss_train=537, kl_local_train=105, metric_mi|age_categorical_train=0.311]"
     ]
    },
    {
     "name": "stdout",
     "output_type": "stream",
     "text": [
      "\r\n",
      "Epoch 297/600:  50%|████▉     | 297/600 [4:14:48<4:32:18, 53.92s/it, v_num=7x_1, total_loss_train=537, kl_local_train=105, metric_mi|age_categorical_train=0.311]"
     ]
    },
    {
     "name": "stdout",
     "output_type": "stream",
     "text": [
      "\r\n",
      "Epoch 297/600:  50%|████▉     | 297/600 [4:14:48<4:32:18, 53.92s/it, v_num=7x_1, total_loss_train=538, kl_local_train=105, metric_mi|age_categorical_train=0.311]"
     ]
    },
    {
     "name": "stdout",
     "output_type": "stream",
     "text": [
      "\r\n",
      "Epoch 298/600:  50%|████▉     | 297/600 [4:14:48<4:32:18, 53.92s/it, v_num=7x_1, total_loss_train=538, kl_local_train=105, metric_mi|age_categorical_train=0.311]"
     ]
    },
    {
     "name": "stdout",
     "output_type": "stream",
     "text": [
      "\r\n",
      "Epoch 298/600:  50%|████▉     | 298/600 [4:15:42<4:31:25, 53.92s/it, v_num=7x_1, total_loss_train=538, kl_local_train=105, metric_mi|age_categorical_train=0.311]"
     ]
    },
    {
     "name": "stdout",
     "output_type": "stream",
     "text": [
      "\r\n",
      "Epoch 298/600:  50%|████▉     | 298/600 [4:15:42<4:31:25, 53.92s/it, v_num=7x_1, total_loss_train=538, kl_local_train=105, metric_mi|age_categorical_train=0.311]"
     ]
    },
    {
     "name": "stdout",
     "output_type": "stream",
     "text": [
      "\r\n",
      "Epoch 299/600:  50%|████▉     | 298/600 [4:15:42<4:31:25, 53.92s/it, v_num=7x_1, total_loss_train=538, kl_local_train=105, metric_mi|age_categorical_train=0.311]"
     ]
    },
    {
     "name": "stdout",
     "output_type": "stream",
     "text": [
      "\r\n",
      "Epoch 299/600:  50%|████▉     | 299/600 [4:16:36<4:29:49, 53.79s/it, v_num=7x_1, total_loss_train=538, kl_local_train=105, metric_mi|age_categorical_train=0.311]"
     ]
    },
    {
     "name": "stdout",
     "output_type": "stream",
     "text": [
      "\r\n",
      "Epoch 299/600:  50%|████▉     | 299/600 [4:16:36<4:29:49, 53.79s/it, v_num=7x_1, total_loss_train=538, kl_local_train=105, metric_mi|age_categorical_train=0.311]"
     ]
    },
    {
     "name": "stdout",
     "output_type": "stream",
     "text": [
      "\r\n",
      "Epoch 300/600:  50%|████▉     | 299/600 [4:16:36<4:29:49, 53.79s/it, v_num=7x_1, total_loss_train=538, kl_local_train=105, metric_mi|age_categorical_train=0.311]"
     ]
    },
    {
     "name": "stdout",
     "output_type": "stream",
     "text": [
      "\r\n",
      "Epoch 300/600:  50%|█████     | 300/600 [4:17:29<4:28:44, 53.75s/it, v_num=7x_1, total_loss_train=538, kl_local_train=105, metric_mi|age_categorical_train=0.311]"
     ]
    },
    {
     "name": "stdout",
     "output_type": "stream",
     "text": [
      "\r\n",
      "Epoch 300/600:  50%|█████     | 300/600 [4:17:29<4:28:44, 53.75s/it, v_num=7x_1, total_loss_train=538, kl_local_train=105, metric_mi|age_categorical_train=0.311]"
     ]
    },
    {
     "name": "stdout",
     "output_type": "stream",
     "text": [
      "\r\n",
      "Epoch 301/600:  50%|█████     | 300/600 [4:17:30<4:28:44, 53.75s/it, v_num=7x_1, total_loss_train=538, kl_local_train=105, metric_mi|age_categorical_train=0.311]"
     ]
    },
    {
     "name": "stdout",
     "output_type": "stream",
     "text": [
      "\r\n",
      "Epoch 301/600:  50%|█████     | 301/600 [4:18:24<4:28:50, 53.95s/it, v_num=7x_1, total_loss_train=538, kl_local_train=105, metric_mi|age_categorical_train=0.311]"
     ]
    },
    {
     "name": "stdout",
     "output_type": "stream",
     "text": [
      "\r\n",
      "Epoch 301/600:  50%|█████     | 301/600 [4:18:24<4:28:50, 53.95s/it, v_num=7x_1, total_loss_train=538, kl_local_train=105, metric_mi|age_categorical_train=0.311]"
     ]
    },
    {
     "name": "stdout",
     "output_type": "stream",
     "text": [
      "\r\n",
      "Epoch 302/600:  50%|█████     | 301/600 [4:18:24<4:28:50, 53.95s/it, v_num=7x_1, total_loss_train=538, kl_local_train=105, metric_mi|age_categorical_train=0.311]"
     ]
    },
    {
     "name": "stdout",
     "output_type": "stream",
     "text": [
      "\r\n",
      "Epoch 302/600:  50%|█████     | 302/600 [4:19:18<4:27:57, 53.95s/it, v_num=7x_1, total_loss_train=538, kl_local_train=105, metric_mi|age_categorical_train=0.311]"
     ]
    },
    {
     "name": "stdout",
     "output_type": "stream",
     "text": [
      "\r\n",
      "Epoch 302/600:  50%|█████     | 302/600 [4:19:18<4:27:57, 53.95s/it, v_num=7x_1, total_loss_train=538, kl_local_train=105, metric_mi|age_categorical_train=0.311]"
     ]
    },
    {
     "name": "stdout",
     "output_type": "stream",
     "text": [
      "\r\n",
      "Epoch 303/600:  50%|█████     | 302/600 [4:19:18<4:27:57, 53.95s/it, v_num=7x_1, total_loss_train=538, kl_local_train=105, metric_mi|age_categorical_train=0.311]"
     ]
    },
    {
     "name": "stdout",
     "output_type": "stream",
     "text": [
      "\r\n",
      "Epoch 303/600:  50%|█████     | 303/600 [4:20:11<4:26:28, 53.83s/it, v_num=7x_1, total_loss_train=538, kl_local_train=105, metric_mi|age_categorical_train=0.311]"
     ]
    },
    {
     "name": "stdout",
     "output_type": "stream",
     "text": [
      "\r\n",
      "Epoch 303/600:  50%|█████     | 303/600 [4:20:11<4:26:28, 53.83s/it, v_num=7x_1, total_loss_train=538, kl_local_train=105, metric_mi|age_categorical_train=0.311]"
     ]
    },
    {
     "name": "stdout",
     "output_type": "stream",
     "text": [
      "\r\n",
      "Epoch 304/600:  50%|█████     | 303/600 [4:20:11<4:26:28, 53.83s/it, v_num=7x_1, total_loss_train=538, kl_local_train=105, metric_mi|age_categorical_train=0.311]"
     ]
    },
    {
     "name": "stdout",
     "output_type": "stream",
     "text": [
      "\r\n",
      "Epoch 304/600:  51%|█████     | 304/600 [4:21:05<4:25:40, 53.85s/it, v_num=7x_1, total_loss_train=538, kl_local_train=105, metric_mi|age_categorical_train=0.311]"
     ]
    },
    {
     "name": "stdout",
     "output_type": "stream",
     "text": [
      "\r\n",
      "Epoch 304/600:  51%|█████     | 304/600 [4:21:05<4:25:40, 53.85s/it, v_num=7x_1, total_loss_train=539, kl_local_train=104, metric_mi|age_categorical_train=0.311]"
     ]
    },
    {
     "name": "stdout",
     "output_type": "stream",
     "text": [
      "\r\n",
      "Epoch 305/600:  51%|█████     | 304/600 [4:21:05<4:25:40, 53.85s/it, v_num=7x_1, total_loss_train=539, kl_local_train=104, metric_mi|age_categorical_train=0.311]"
     ]
    },
    {
     "name": "stdout",
     "output_type": "stream",
     "text": [
      "\r\n",
      "Epoch 305/600:  51%|█████     | 305/600 [4:21:58<4:24:00, 53.70s/it, v_num=7x_1, total_loss_train=539, kl_local_train=104, metric_mi|age_categorical_train=0.311]"
     ]
    },
    {
     "name": "stdout",
     "output_type": "stream",
     "text": [
      "\r\n",
      "Epoch 305/600:  51%|█████     | 305/600 [4:21:58<4:24:00, 53.70s/it, v_num=7x_1, total_loss_train=539, kl_local_train=104, metric_mi|age_categorical_train=0.311]"
     ]
    },
    {
     "name": "stdout",
     "output_type": "stream",
     "text": [
      "\r\n",
      "Epoch 306/600:  51%|█████     | 305/600 [4:21:59<4:24:00, 53.70s/it, v_num=7x_1, total_loss_train=539, kl_local_train=104, metric_mi|age_categorical_train=0.311]"
     ]
    },
    {
     "name": "stdout",
     "output_type": "stream",
     "text": [
      "\r\n",
      "Epoch 306/600:  51%|█████     | 306/600 [4:22:53<4:24:59, 54.08s/it, v_num=7x_1, total_loss_train=539, kl_local_train=104, metric_mi|age_categorical_train=0.311]"
     ]
    },
    {
     "name": "stdout",
     "output_type": "stream",
     "text": [
      "\r\n",
      "Epoch 306/600:  51%|█████     | 306/600 [4:22:53<4:24:59, 54.08s/it, v_num=7x_1, total_loss_train=539, kl_local_train=104, metric_mi|age_categorical_train=0.309]"
     ]
    },
    {
     "name": "stdout",
     "output_type": "stream",
     "text": [
      "\r\n",
      "Epoch 307/600:  51%|█████     | 306/600 [4:22:53<4:24:59, 54.08s/it, v_num=7x_1, total_loss_train=539, kl_local_train=104, metric_mi|age_categorical_train=0.309]"
     ]
    },
    {
     "name": "stdout",
     "output_type": "stream",
     "text": [
      "\r\n",
      "Epoch 307/600:  51%|█████     | 307/600 [4:23:47<4:23:12, 53.90s/it, v_num=7x_1, total_loss_train=539, kl_local_train=104, metric_mi|age_categorical_train=0.309]"
     ]
    },
    {
     "name": "stdout",
     "output_type": "stream",
     "text": [
      "\r\n",
      "Epoch 307/600:  51%|█████     | 307/600 [4:23:47<4:23:12, 53.90s/it, v_num=7x_1, total_loss_train=538, kl_local_train=104, metric_mi|age_categorical_train=0.309]"
     ]
    },
    {
     "name": "stdout",
     "output_type": "stream",
     "text": [
      "\r\n",
      "Epoch 308/600:  51%|█████     | 307/600 [4:23:47<4:23:12, 53.90s/it, v_num=7x_1, total_loss_train=538, kl_local_train=104, metric_mi|age_categorical_train=0.309]"
     ]
    },
    {
     "name": "stdout",
     "output_type": "stream",
     "text": [
      "\r\n",
      "Epoch 308/600:  51%|█████▏    | 308/600 [4:24:41<4:22:28, 53.93s/it, v_num=7x_1, total_loss_train=538, kl_local_train=104, metric_mi|age_categorical_train=0.309]"
     ]
    },
    {
     "name": "stdout",
     "output_type": "stream",
     "text": [
      "\r\n",
      "Epoch 308/600:  51%|█████▏    | 308/600 [4:24:41<4:22:28, 53.93s/it, v_num=7x_1, total_loss_train=539, kl_local_train=103, metric_mi|age_categorical_train=0.309]"
     ]
    },
    {
     "name": "stdout",
     "output_type": "stream",
     "text": [
      "\r\n",
      "Epoch 309/600:  51%|█████▏    | 308/600 [4:24:41<4:22:28, 53.93s/it, v_num=7x_1, total_loss_train=539, kl_local_train=103, metric_mi|age_categorical_train=0.309]"
     ]
    },
    {
     "name": "stdout",
     "output_type": "stream",
     "text": [
      "\r\n",
      "Epoch 309/600:  52%|█████▏    | 309/600 [4:25:35<4:21:16, 53.87s/it, v_num=7x_1, total_loss_train=539, kl_local_train=103, metric_mi|age_categorical_train=0.309]"
     ]
    },
    {
     "name": "stdout",
     "output_type": "stream",
     "text": [
      "\r\n",
      "Epoch 309/600:  52%|█████▏    | 309/600 [4:25:35<4:21:16, 53.87s/it, v_num=7x_1, total_loss_train=539, kl_local_train=104, metric_mi|age_categorical_train=0.309]"
     ]
    },
    {
     "name": "stdout",
     "output_type": "stream",
     "text": [
      "\r\n",
      "Epoch 310/600:  52%|█████▏    | 309/600 [4:25:35<4:21:16, 53.87s/it, v_num=7x_1, total_loss_train=539, kl_local_train=104, metric_mi|age_categorical_train=0.309]"
     ]
    },
    {
     "name": "stdout",
     "output_type": "stream",
     "text": [
      "\r\n",
      "Epoch 310/600:  52%|█████▏    | 310/600 [4:26:29<4:20:51, 53.97s/it, v_num=7x_1, total_loss_train=539, kl_local_train=104, metric_mi|age_categorical_train=0.309]"
     ]
    },
    {
     "name": "stdout",
     "output_type": "stream",
     "text": [
      "\r\n",
      "Epoch 310/600:  52%|█████▏    | 310/600 [4:26:29<4:20:51, 53.97s/it, v_num=7x_1, total_loss_train=539, kl_local_train=103, metric_mi|age_categorical_train=0.309]"
     ]
    },
    {
     "name": "stdout",
     "output_type": "stream",
     "text": [
      "\r\n",
      "Epoch 311/600:  52%|█████▏    | 310/600 [4:26:30<4:20:51, 53.97s/it, v_num=7x_1, total_loss_train=539, kl_local_train=103, metric_mi|age_categorical_train=0.309]"
     ]
    },
    {
     "name": "stdout",
     "output_type": "stream",
     "text": [
      "\r\n",
      "Epoch 311/600:  52%|█████▏    | 311/600 [4:27:23<4:20:32, 54.09s/it, v_num=7x_1, total_loss_train=539, kl_local_train=103, metric_mi|age_categorical_train=0.309]"
     ]
    },
    {
     "name": "stdout",
     "output_type": "stream",
     "text": [
      "\r\n",
      "Epoch 311/600:  52%|█████▏    | 311/600 [4:27:23<4:20:32, 54.09s/it, v_num=7x_1, total_loss_train=538, kl_local_train=103, metric_mi|age_categorical_train=0.31] "
     ]
    },
    {
     "name": "stdout",
     "output_type": "stream",
     "text": [
      "\r\n",
      "Epoch 312/600:  52%|█████▏    | 311/600 [4:27:23<4:20:32, 54.09s/it, v_num=7x_1, total_loss_train=538, kl_local_train=103, metric_mi|age_categorical_train=0.31]"
     ]
    },
    {
     "name": "stdout",
     "output_type": "stream",
     "text": [
      "\r\n",
      "Epoch 312/600:  52%|█████▏    | 312/600 [4:28:17<4:19:24, 54.04s/it, v_num=7x_1, total_loss_train=538, kl_local_train=103, metric_mi|age_categorical_train=0.31]"
     ]
    },
    {
     "name": "stdout",
     "output_type": "stream",
     "text": [
      "\r\n",
      "Epoch 312/600:  52%|█████▏    | 312/600 [4:28:17<4:19:24, 54.04s/it, v_num=7x_1, total_loss_train=539, kl_local_train=103, metric_mi|age_categorical_train=0.31]"
     ]
    },
    {
     "name": "stdout",
     "output_type": "stream",
     "text": [
      "\r\n",
      "Epoch 313/600:  52%|█████▏    | 312/600 [4:28:17<4:19:24, 54.04s/it, v_num=7x_1, total_loss_train=539, kl_local_train=103, metric_mi|age_categorical_train=0.31]"
     ]
    },
    {
     "name": "stdout",
     "output_type": "stream",
     "text": [
      "\r\n",
      "Epoch 313/600:  52%|█████▏    | 313/600 [4:29:11<4:18:12, 53.98s/it, v_num=7x_1, total_loss_train=539, kl_local_train=103, metric_mi|age_categorical_train=0.31]"
     ]
    },
    {
     "name": "stdout",
     "output_type": "stream",
     "text": [
      "\r\n",
      "Epoch 313/600:  52%|█████▏    | 313/600 [4:29:11<4:18:12, 53.98s/it, v_num=7x_1, total_loss_train=539, kl_local_train=103, metric_mi|age_categorical_train=0.31]"
     ]
    },
    {
     "name": "stdout",
     "output_type": "stream",
     "text": [
      "\r\n",
      "Epoch 314/600:  52%|█████▏    | 313/600 [4:29:11<4:18:12, 53.98s/it, v_num=7x_1, total_loss_train=539, kl_local_train=103, metric_mi|age_categorical_train=0.31]"
     ]
    },
    {
     "name": "stdout",
     "output_type": "stream",
     "text": [
      "\r\n",
      "Epoch 314/600:  52%|█████▏    | 314/600 [4:30:04<4:16:24, 53.79s/it, v_num=7x_1, total_loss_train=539, kl_local_train=103, metric_mi|age_categorical_train=0.31]"
     ]
    },
    {
     "name": "stdout",
     "output_type": "stream",
     "text": [
      "\r\n",
      "Epoch 314/600:  52%|█████▏    | 314/600 [4:30:04<4:16:24, 53.79s/it, v_num=7x_1, total_loss_train=538, kl_local_train=102, metric_mi|age_categorical_train=0.31]"
     ]
    },
    {
     "name": "stdout",
     "output_type": "stream",
     "text": [
      "\r\n",
      "Epoch 315/600:  52%|█████▏    | 314/600 [4:30:04<4:16:24, 53.79s/it, v_num=7x_1, total_loss_train=538, kl_local_train=102, metric_mi|age_categorical_train=0.31]"
     ]
    },
    {
     "name": "stdout",
     "output_type": "stream",
     "text": [
      "\r\n",
      "Epoch 315/600:  52%|█████▎    | 315/600 [4:30:58<4:15:02, 53.69s/it, v_num=7x_1, total_loss_train=538, kl_local_train=102, metric_mi|age_categorical_train=0.31]"
     ]
    },
    {
     "name": "stdout",
     "output_type": "stream",
     "text": [
      "\r\n",
      "Epoch 315/600:  52%|█████▎    | 315/600 [4:30:58<4:15:02, 53.69s/it, v_num=7x_1, total_loss_train=539, kl_local_train=102, metric_mi|age_categorical_train=0.31]"
     ]
    },
    {
     "name": "stdout",
     "output_type": "stream",
     "text": [
      "\r\n",
      "Epoch 316/600:  52%|█████▎    | 315/600 [4:30:59<4:15:02, 53.69s/it, v_num=7x_1, total_loss_train=539, kl_local_train=102, metric_mi|age_categorical_train=0.31]"
     ]
    },
    {
     "name": "stdout",
     "output_type": "stream",
     "text": [
      "\r\n",
      "Epoch 316/600:  53%|█████▎    | 316/600 [4:31:52<4:15:07, 53.90s/it, v_num=7x_1, total_loss_train=539, kl_local_train=102, metric_mi|age_categorical_train=0.31]"
     ]
    },
    {
     "name": "stdout",
     "output_type": "stream",
     "text": [
      "\r\n",
      "Epoch 316/600:  53%|█████▎    | 316/600 [4:31:52<4:15:07, 53.90s/it, v_num=7x_1, total_loss_train=539, kl_local_train=103, metric_mi|age_categorical_train=0.304]"
     ]
    },
    {
     "name": "stdout",
     "output_type": "stream",
     "text": [
      "\r\n",
      "Epoch 317/600:  53%|█████▎    | 316/600 [4:31:52<4:15:07, 53.90s/it, v_num=7x_1, total_loss_train=539, kl_local_train=103, metric_mi|age_categorical_train=0.304]"
     ]
    },
    {
     "name": "stdout",
     "output_type": "stream",
     "text": [
      "\r\n",
      "Epoch 317/600:  53%|█████▎    | 317/600 [4:32:41<4:07:40, 52.51s/it, v_num=7x_1, total_loss_train=539, kl_local_train=103, metric_mi|age_categorical_train=0.304]"
     ]
    },
    {
     "name": "stdout",
     "output_type": "stream",
     "text": [
      "\r\n",
      "Epoch 317/600:  53%|█████▎    | 317/600 [4:32:41<4:07:40, 52.51s/it, v_num=7x_1, total_loss_train=539, kl_local_train=103, metric_mi|age_categorical_train=0.304]"
     ]
    },
    {
     "name": "stdout",
     "output_type": "stream",
     "text": [
      "\r\n",
      "Epoch 318/600:  53%|█████▎    | 317/600 [4:32:41<4:07:40, 52.51s/it, v_num=7x_1, total_loss_train=539, kl_local_train=103, metric_mi|age_categorical_train=0.304]"
     ]
    },
    {
     "name": "stdout",
     "output_type": "stream",
     "text": [
      "\r\n",
      "Epoch 318/600:  53%|█████▎    | 318/600 [4:33:31<4:02:19, 51.56s/it, v_num=7x_1, total_loss_train=539, kl_local_train=103, metric_mi|age_categorical_train=0.304]"
     ]
    },
    {
     "name": "stdout",
     "output_type": "stream",
     "text": [
      "\r\n",
      "Epoch 318/600:  53%|█████▎    | 318/600 [4:33:31<4:02:19, 51.56s/it, v_num=7x_1, total_loss_train=539, kl_local_train=103, metric_mi|age_categorical_train=0.304]"
     ]
    },
    {
     "name": "stdout",
     "output_type": "stream",
     "text": [
      "\r\n",
      "Epoch 319/600:  53%|█████▎    | 318/600 [4:33:31<4:02:19, 51.56s/it, v_num=7x_1, total_loss_train=539, kl_local_train=103, metric_mi|age_categorical_train=0.304]"
     ]
    },
    {
     "name": "stdout",
     "output_type": "stream",
     "text": [
      "\r\n",
      "Epoch 319/600:  53%|█████▎    | 319/600 [4:34:20<3:58:08, 50.85s/it, v_num=7x_1, total_loss_train=539, kl_local_train=103, metric_mi|age_categorical_train=0.304]"
     ]
    },
    {
     "name": "stdout",
     "output_type": "stream",
     "text": [
      "\r\n",
      "Epoch 319/600:  53%|█████▎    | 319/600 [4:34:20<3:58:08, 50.85s/it, v_num=7x_1, total_loss_train=540, kl_local_train=102, metric_mi|age_categorical_train=0.304]"
     ]
    },
    {
     "name": "stdout",
     "output_type": "stream",
     "text": [
      "\r\n",
      "Epoch 320/600:  53%|█████▎    | 319/600 [4:34:20<3:58:08, 50.85s/it, v_num=7x_1, total_loss_train=540, kl_local_train=102, metric_mi|age_categorical_train=0.304]"
     ]
    },
    {
     "name": "stdout",
     "output_type": "stream",
     "text": [
      "\r\n",
      "Epoch 320/600:  53%|█████▎    | 320/600 [4:35:09<3:55:12, 50.40s/it, v_num=7x_1, total_loss_train=540, kl_local_train=102, metric_mi|age_categorical_train=0.304]"
     ]
    },
    {
     "name": "stdout",
     "output_type": "stream",
     "text": [
      "\r\n",
      "Epoch 320/600:  53%|█████▎    | 320/600 [4:35:09<3:55:12, 50.40s/it, v_num=7x_1, total_loss_train=539, kl_local_train=102, metric_mi|age_categorical_train=0.304]"
     ]
    },
    {
     "name": "stdout",
     "output_type": "stream",
     "text": [
      "\r\n",
      "Epoch 321/600:  53%|█████▎    | 320/600 [4:35:10<3:55:12, 50.40s/it, v_num=7x_1, total_loss_train=539, kl_local_train=102, metric_mi|age_categorical_train=0.304]"
     ]
    },
    {
     "name": "stdout",
     "output_type": "stream",
     "text": [
      "\r\n",
      "Epoch 321/600:  54%|█████▎    | 321/600 [4:35:59<3:53:53, 50.30s/it, v_num=7x_1, total_loss_train=539, kl_local_train=102, metric_mi|age_categorical_train=0.304]"
     ]
    },
    {
     "name": "stdout",
     "output_type": "stream",
     "text": [
      "\r\n",
      "Epoch 321/600:  54%|█████▎    | 321/600 [4:35:59<3:53:53, 50.30s/it, v_num=7x_1, total_loss_train=540, kl_local_train=102, metric_mi|age_categorical_train=0.295]"
     ]
    },
    {
     "name": "stdout",
     "output_type": "stream",
     "text": [
      "\r\n",
      "Epoch 322/600:  54%|█████▎    | 321/600 [4:35:59<3:53:53, 50.30s/it, v_num=7x_1, total_loss_train=540, kl_local_train=102, metric_mi|age_categorical_train=0.295]"
     ]
    },
    {
     "name": "stdout",
     "output_type": "stream",
     "text": [
      "\r\n",
      "Epoch 322/600:  54%|█████▎    | 322/600 [4:36:49<3:51:30, 49.97s/it, v_num=7x_1, total_loss_train=540, kl_local_train=102, metric_mi|age_categorical_train=0.295]"
     ]
    },
    {
     "name": "stdout",
     "output_type": "stream",
     "text": [
      "\r\n",
      "Epoch 322/600:  54%|█████▎    | 322/600 [4:36:49<3:51:30, 49.97s/it, v_num=7x_1, total_loss_train=540, kl_local_train=102, metric_mi|age_categorical_train=0.295]"
     ]
    },
    {
     "name": "stdout",
     "output_type": "stream",
     "text": [
      "\r\n",
      "Epoch 323/600:  54%|█████▎    | 322/600 [4:36:49<3:51:30, 49.97s/it, v_num=7x_1, total_loss_train=540, kl_local_train=102, metric_mi|age_categorical_train=0.295]"
     ]
    },
    {
     "name": "stdout",
     "output_type": "stream",
     "text": [
      "\r\n",
      "Epoch 323/600:  54%|█████▍    | 323/600 [4:37:38<3:49:33, 49.72s/it, v_num=7x_1, total_loss_train=540, kl_local_train=102, metric_mi|age_categorical_train=0.295]"
     ]
    },
    {
     "name": "stdout",
     "output_type": "stream",
     "text": [
      "\r\n",
      "Epoch 323/600:  54%|█████▍    | 323/600 [4:37:38<3:49:33, 49.72s/it, v_num=7x_1, total_loss_train=540, kl_local_train=102, metric_mi|age_categorical_train=0.295]"
     ]
    },
    {
     "name": "stdout",
     "output_type": "stream",
     "text": [
      "\r\n",
      "Epoch 324/600:  54%|█████▍    | 323/600 [4:37:38<3:49:33, 49.72s/it, v_num=7x_1, total_loss_train=540, kl_local_train=102, metric_mi|age_categorical_train=0.295]"
     ]
    },
    {
     "name": "stdout",
     "output_type": "stream",
     "text": [
      "\r\n",
      "Epoch 324/600:  54%|█████▍    | 324/600 [4:38:27<3:47:53, 49.54s/it, v_num=7x_1, total_loss_train=540, kl_local_train=102, metric_mi|age_categorical_train=0.295]"
     ]
    },
    {
     "name": "stdout",
     "output_type": "stream",
     "text": [
      "\r\n",
      "Epoch 324/600:  54%|█████▍    | 324/600 [4:38:27<3:47:53, 49.54s/it, v_num=7x_1, total_loss_train=540, kl_local_train=102, metric_mi|age_categorical_train=0.295]"
     ]
    },
    {
     "name": "stdout",
     "output_type": "stream",
     "text": [
      "\r\n",
      "Epoch 325/600:  54%|█████▍    | 324/600 [4:38:27<3:47:53, 49.54s/it, v_num=7x_1, total_loss_train=540, kl_local_train=102, metric_mi|age_categorical_train=0.295]"
     ]
    },
    {
     "name": "stdout",
     "output_type": "stream",
     "text": [
      "\r\n",
      "Epoch 325/600:  54%|█████▍    | 325/600 [4:39:17<3:47:18, 49.59s/it, v_num=7x_1, total_loss_train=540, kl_local_train=102, metric_mi|age_categorical_train=0.295]"
     ]
    },
    {
     "name": "stdout",
     "output_type": "stream",
     "text": [
      "\r\n",
      "Epoch 325/600:  54%|█████▍    | 325/600 [4:39:17<3:47:18, 49.59s/it, v_num=7x_1, total_loss_train=540, kl_local_train=102, metric_mi|age_categorical_train=0.295]"
     ]
    },
    {
     "name": "stdout",
     "output_type": "stream",
     "text": [
      "\r\n",
      "Epoch 326/600:  54%|█████▍    | 325/600 [4:39:17<3:47:18, 49.59s/it, v_num=7x_1, total_loss_train=540, kl_local_train=102, metric_mi|age_categorical_train=0.295]"
     ]
    },
    {
     "name": "stdout",
     "output_type": "stream",
     "text": [
      "\r\n",
      "Epoch 326/600:  54%|█████▍    | 326/600 [4:40:06<3:46:48, 49.66s/it, v_num=7x_1, total_loss_train=540, kl_local_train=102, metric_mi|age_categorical_train=0.295]"
     ]
    },
    {
     "name": "stdout",
     "output_type": "stream",
     "text": [
      "\r\n",
      "Epoch 326/600:  54%|█████▍    | 326/600 [4:40:06<3:46:48, 49.66s/it, v_num=7x_1, total_loss_train=539, kl_local_train=101, metric_mi|age_categorical_train=0.294]"
     ]
    },
    {
     "name": "stdout",
     "output_type": "stream",
     "text": [
      "\r\n",
      "Epoch 327/600:  54%|█████▍    | 326/600 [4:40:06<3:46:48, 49.66s/it, v_num=7x_1, total_loss_train=539, kl_local_train=101, metric_mi|age_categorical_train=0.294]"
     ]
    },
    {
     "name": "stdout",
     "output_type": "stream",
     "text": [
      "\r\n",
      "Epoch 327/600:  55%|█████▍    | 327/600 [4:40:55<3:45:02, 49.46s/it, v_num=7x_1, total_loss_train=539, kl_local_train=101, metric_mi|age_categorical_train=0.294]"
     ]
    },
    {
     "name": "stdout",
     "output_type": "stream",
     "text": [
      "\r\n",
      "Epoch 327/600:  55%|█████▍    | 327/600 [4:40:55<3:45:02, 49.46s/it, v_num=7x_1, total_loss_train=540, kl_local_train=101, metric_mi|age_categorical_train=0.294]"
     ]
    },
    {
     "name": "stdout",
     "output_type": "stream",
     "text": [
      "\r\n",
      "Epoch 328/600:  55%|█████▍    | 327/600 [4:40:55<3:45:02, 49.46s/it, v_num=7x_1, total_loss_train=540, kl_local_train=101, metric_mi|age_categorical_train=0.294]"
     ]
    },
    {
     "name": "stdout",
     "output_type": "stream",
     "text": [
      "\r\n",
      "Epoch 328/600:  55%|█████▍    | 328/600 [4:41:44<3:43:44, 49.36s/it, v_num=7x_1, total_loss_train=540, kl_local_train=101, metric_mi|age_categorical_train=0.294]"
     ]
    },
    {
     "name": "stdout",
     "output_type": "stream",
     "text": [
      "\r\n",
      "Epoch 328/600:  55%|█████▍    | 328/600 [4:41:44<3:43:44, 49.36s/it, v_num=7x_1, total_loss_train=540, kl_local_train=100, metric_mi|age_categorical_train=0.294]"
     ]
    },
    {
     "name": "stdout",
     "output_type": "stream",
     "text": [
      "\r\n",
      "Epoch 329/600:  55%|█████▍    | 328/600 [4:41:44<3:43:44, 49.36s/it, v_num=7x_1, total_loss_train=540, kl_local_train=100, metric_mi|age_categorical_train=0.294]"
     ]
    },
    {
     "name": "stdout",
     "output_type": "stream",
     "text": [
      "\r\n",
      "Epoch 329/600:  55%|█████▍    | 329/600 [4:42:34<3:42:36, 49.28s/it, v_num=7x_1, total_loss_train=540, kl_local_train=100, metric_mi|age_categorical_train=0.294]"
     ]
    },
    {
     "name": "stdout",
     "output_type": "stream",
     "text": [
      "\r\n",
      "Epoch 329/600:  55%|█████▍    | 329/600 [4:42:34<3:42:36, 49.28s/it, v_num=7x_1, total_loss_train=540, kl_local_train=100, metric_mi|age_categorical_train=0.294]"
     ]
    },
    {
     "name": "stdout",
     "output_type": "stream",
     "text": [
      "\r\n",
      "Epoch 330/600:  55%|█████▍    | 329/600 [4:42:34<3:42:36, 49.28s/it, v_num=7x_1, total_loss_train=540, kl_local_train=100, metric_mi|age_categorical_train=0.294]"
     ]
    },
    {
     "name": "stdout",
     "output_type": "stream",
     "text": [
      "\r\n",
      "Epoch 330/600:  55%|█████▌    | 330/600 [4:43:23<3:41:56, 49.32s/it, v_num=7x_1, total_loss_train=540, kl_local_train=100, metric_mi|age_categorical_train=0.294]"
     ]
    },
    {
     "name": "stdout",
     "output_type": "stream",
     "text": [
      "\r\n",
      "Epoch 330/600:  55%|█████▌    | 330/600 [4:43:23<3:41:56, 49.32s/it, v_num=7x_1, total_loss_train=540, kl_local_train=100, metric_mi|age_categorical_train=0.294]"
     ]
    },
    {
     "name": "stdout",
     "output_type": "stream",
     "text": [
      "\r\n",
      "Epoch 331/600:  55%|█████▌    | 330/600 [4:43:24<3:41:56, 49.32s/it, v_num=7x_1, total_loss_train=540, kl_local_train=100, metric_mi|age_categorical_train=0.294]"
     ]
    },
    {
     "name": "stdout",
     "output_type": "stream",
     "text": [
      "\r\n",
      "Epoch 331/600:  55%|█████▌    | 331/600 [4:44:13<3:41:53, 49.49s/it, v_num=7x_1, total_loss_train=540, kl_local_train=100, metric_mi|age_categorical_train=0.294]"
     ]
    },
    {
     "name": "stdout",
     "output_type": "stream",
     "text": [
      "\r\n",
      "Epoch 331/600:  55%|█████▌    | 331/600 [4:44:13<3:41:53, 49.49s/it, v_num=7x_1, total_loss_train=540, kl_local_train=100, metric_mi|age_categorical_train=0.297]"
     ]
    },
    {
     "name": "stdout",
     "output_type": "stream",
     "text": [
      "\r\n",
      "Epoch 332/600:  55%|█████▌    | 331/600 [4:44:13<3:41:53, 49.49s/it, v_num=7x_1, total_loss_train=540, kl_local_train=100, metric_mi|age_categorical_train=0.297]"
     ]
    },
    {
     "name": "stdout",
     "output_type": "stream",
     "text": [
      "\r\n",
      "Epoch 332/600:  55%|█████▌    | 332/600 [4:45:02<3:40:33, 49.38s/it, v_num=7x_1, total_loss_train=540, kl_local_train=100, metric_mi|age_categorical_train=0.297]"
     ]
    },
    {
     "name": "stdout",
     "output_type": "stream",
     "text": [
      "\r\n",
      "Epoch 332/600:  55%|█████▌    | 332/600 [4:45:02<3:40:33, 49.38s/it, v_num=7x_1, total_loss_train=540, kl_local_train=100, metric_mi|age_categorical_train=0.297]"
     ]
    },
    {
     "name": "stdout",
     "output_type": "stream",
     "text": [
      "\r\n",
      "Epoch 333/600:  55%|█████▌    | 332/600 [4:45:02<3:40:33, 49.38s/it, v_num=7x_1, total_loss_train=540, kl_local_train=100, metric_mi|age_categorical_train=0.297]"
     ]
    },
    {
     "name": "stdout",
     "output_type": "stream",
     "text": [
      "\r\n",
      "Epoch 333/600:  56%|█████▌    | 333/600 [4:45:51<3:39:20, 49.29s/it, v_num=7x_1, total_loss_train=540, kl_local_train=100, metric_mi|age_categorical_train=0.297]"
     ]
    },
    {
     "name": "stdout",
     "output_type": "stream",
     "text": [
      "\r\n",
      "Epoch 333/600:  56%|█████▌    | 333/600 [4:45:51<3:39:20, 49.29s/it, v_num=7x_1, total_loss_train=540, kl_local_train=99.6, metric_mi|age_categorical_train=0.297]"
     ]
    },
    {
     "name": "stdout",
     "output_type": "stream",
     "text": [
      "\r\n",
      "Epoch 334/600:  56%|█████▌    | 333/600 [4:45:51<3:39:20, 49.29s/it, v_num=7x_1, total_loss_train=540, kl_local_train=99.6, metric_mi|age_categorical_train=0.297]"
     ]
    },
    {
     "name": "stdout",
     "output_type": "stream",
     "text": [
      "\r\n",
      "Epoch 334/600:  56%|█████▌    | 334/600 [4:46:40<3:38:21, 49.25s/it, v_num=7x_1, total_loss_train=540, kl_local_train=99.6, metric_mi|age_categorical_train=0.297]"
     ]
    },
    {
     "name": "stdout",
     "output_type": "stream",
     "text": [
      "\r\n",
      "Epoch 334/600:  56%|█████▌    | 334/600 [4:46:40<3:38:21, 49.25s/it, v_num=7x_1, total_loss_train=540, kl_local_train=99.4, metric_mi|age_categorical_train=0.297]"
     ]
    },
    {
     "name": "stdout",
     "output_type": "stream",
     "text": [
      "\r\n",
      "Epoch 335/600:  56%|█████▌    | 334/600 [4:46:40<3:38:21, 49.25s/it, v_num=7x_1, total_loss_train=540, kl_local_train=99.4, metric_mi|age_categorical_train=0.297]"
     ]
    },
    {
     "name": "stdout",
     "output_type": "stream",
     "text": [
      "\r\n",
      "Epoch 335/600:  56%|█████▌    | 335/600 [4:47:30<3:37:34, 49.26s/it, v_num=7x_1, total_loss_train=540, kl_local_train=99.4, metric_mi|age_categorical_train=0.297]"
     ]
    },
    {
     "name": "stdout",
     "output_type": "stream",
     "text": [
      "\r\n",
      "Epoch 335/600:  56%|█████▌    | 335/600 [4:47:30<3:37:34, 49.26s/it, v_num=7x_1, total_loss_train=541, kl_local_train=99.9, metric_mi|age_categorical_train=0.297]"
     ]
    },
    {
     "name": "stdout",
     "output_type": "stream",
     "text": [
      "\r\n",
      "Epoch 336/600:  56%|█████▌    | 335/600 [4:47:30<3:37:34, 49.26s/it, v_num=7x_1, total_loss_train=541, kl_local_train=99.9, metric_mi|age_categorical_train=0.297]"
     ]
    },
    {
     "name": "stdout",
     "output_type": "stream",
     "text": [
      "\r\n",
      "Epoch 336/600:  56%|█████▌    | 336/600 [4:48:19<3:37:34, 49.45s/it, v_num=7x_1, total_loss_train=541, kl_local_train=99.9, metric_mi|age_categorical_train=0.297]"
     ]
    },
    {
     "name": "stdout",
     "output_type": "stream",
     "text": [
      "\r\n",
      "Epoch 336/600:  56%|█████▌    | 336/600 [4:48:19<3:37:34, 49.45s/it, v_num=7x_1, total_loss_train=541, kl_local_train=100, metric_mi|age_categorical_train=0.303] "
     ]
    },
    {
     "name": "stdout",
     "output_type": "stream",
     "text": [
      "\r\n",
      "Epoch 337/600:  56%|█████▌    | 336/600 [4:48:19<3:37:34, 49.45s/it, v_num=7x_1, total_loss_train=541, kl_local_train=100, metric_mi|age_categorical_train=0.303]"
     ]
    },
    {
     "name": "stdout",
     "output_type": "stream",
     "text": [
      "\r\n",
      "Epoch 337/600:  56%|█████▌    | 337/600 [4:49:09<3:36:33, 49.41s/it, v_num=7x_1, total_loss_train=541, kl_local_train=100, metric_mi|age_categorical_train=0.303]"
     ]
    },
    {
     "name": "stdout",
     "output_type": "stream",
     "text": [
      "\r\n",
      "Epoch 337/600:  56%|█████▌    | 337/600 [4:49:09<3:36:33, 49.41s/it, v_num=7x_1, total_loss_train=541, kl_local_train=99.8, metric_mi|age_categorical_train=0.303]"
     ]
    },
    {
     "name": "stdout",
     "output_type": "stream",
     "text": [
      "\r\n",
      "Epoch 338/600:  56%|█████▌    | 337/600 [4:49:09<3:36:33, 49.41s/it, v_num=7x_1, total_loss_train=541, kl_local_train=99.8, metric_mi|age_categorical_train=0.303]"
     ]
    },
    {
     "name": "stdout",
     "output_type": "stream",
     "text": [
      "\r\n",
      "Epoch 338/600:  56%|█████▋    | 338/600 [4:49:58<3:35:27, 49.34s/it, v_num=7x_1, total_loss_train=541, kl_local_train=99.8, metric_mi|age_categorical_train=0.303]"
     ]
    },
    {
     "name": "stdout",
     "output_type": "stream",
     "text": [
      "\r\n",
      "Epoch 338/600:  56%|█████▋    | 338/600 [4:49:58<3:35:27, 49.34s/it, v_num=7x_1, total_loss_train=541, kl_local_train=99, metric_mi|age_categorical_train=0.303]  "
     ]
    },
    {
     "name": "stdout",
     "output_type": "stream",
     "text": [
      "\r\n",
      "Epoch 339/600:  56%|█████▋    | 338/600 [4:49:58<3:35:27, 49.34s/it, v_num=7x_1, total_loss_train=541, kl_local_train=99, metric_mi|age_categorical_train=0.303]"
     ]
    },
    {
     "name": "stdout",
     "output_type": "stream",
     "text": [
      "\r\n",
      "Epoch 339/600:  56%|█████▋    | 339/600 [4:50:47<3:34:17, 49.26s/it, v_num=7x_1, total_loss_train=541, kl_local_train=99, metric_mi|age_categorical_train=0.303]"
     ]
    },
    {
     "name": "stdout",
     "output_type": "stream",
     "text": [
      "\r\n",
      "Epoch 339/600:  56%|█████▋    | 339/600 [4:50:47<3:34:17, 49.26s/it, v_num=7x_1, total_loss_train=541, kl_local_train=98.6, metric_mi|age_categorical_train=0.303]"
     ]
    },
    {
     "name": "stdout",
     "output_type": "stream",
     "text": [
      "\r\n",
      "Epoch 340/600:  56%|█████▋    | 339/600 [4:50:47<3:34:17, 49.26s/it, v_num=7x_1, total_loss_train=541, kl_local_train=98.6, metric_mi|age_categorical_train=0.303]"
     ]
    },
    {
     "name": "stdout",
     "output_type": "stream",
     "text": [
      "\r\n",
      "Epoch 340/600:  57%|█████▋    | 340/600 [4:51:36<3:33:29, 49.27s/it, v_num=7x_1, total_loss_train=541, kl_local_train=98.6, metric_mi|age_categorical_train=0.303]"
     ]
    },
    {
     "name": "stdout",
     "output_type": "stream",
     "text": [
      "\r\n",
      "Epoch 340/600:  57%|█████▋    | 340/600 [4:51:36<3:33:29, 49.27s/it, v_num=7x_1, total_loss_train=541, kl_local_train=98.9, metric_mi|age_categorical_train=0.303]"
     ]
    },
    {
     "name": "stdout",
     "output_type": "stream",
     "text": [
      "\r\n",
      "Epoch 341/600:  57%|█████▋    | 340/600 [4:51:37<3:33:29, 49.27s/it, v_num=7x_1, total_loss_train=541, kl_local_train=98.9, metric_mi|age_categorical_train=0.303]"
     ]
    },
    {
     "name": "stdout",
     "output_type": "stream",
     "text": [
      "\r\n",
      "Epoch 341/600:  57%|█████▋    | 341/600 [4:52:26<3:33:36, 49.49s/it, v_num=7x_1, total_loss_train=541, kl_local_train=98.9, metric_mi|age_categorical_train=0.303]"
     ]
    },
    {
     "name": "stdout",
     "output_type": "stream",
     "text": [
      "\r\n",
      "Epoch 341/600:  57%|█████▋    | 341/600 [4:52:26<3:33:36, 49.49s/it, v_num=7x_1, total_loss_train=541, kl_local_train=98.6, metric_mi|age_categorical_train=0.308]"
     ]
    },
    {
     "name": "stdout",
     "output_type": "stream",
     "text": [
      "\r\n",
      "Epoch 342/600:  57%|█████▋    | 341/600 [4:52:26<3:33:36, 49.49s/it, v_num=7x_1, total_loss_train=541, kl_local_train=98.6, metric_mi|age_categorical_train=0.308]"
     ]
    },
    {
     "name": "stdout",
     "output_type": "stream",
     "text": [
      "\r\n",
      "Epoch 342/600:  57%|█████▋    | 342/600 [4:53:16<3:32:29, 49.42s/it, v_num=7x_1, total_loss_train=541, kl_local_train=98.6, metric_mi|age_categorical_train=0.308]"
     ]
    },
    {
     "name": "stdout",
     "output_type": "stream",
     "text": [
      "\r\n",
      "Epoch 342/600:  57%|█████▋    | 342/600 [4:53:16<3:32:29, 49.42s/it, v_num=7x_1, total_loss_train=541, kl_local_train=98.4, metric_mi|age_categorical_train=0.308]"
     ]
    },
    {
     "name": "stdout",
     "output_type": "stream",
     "text": [
      "\r\n",
      "Epoch 343/600:  57%|█████▋    | 342/600 [4:53:16<3:32:29, 49.42s/it, v_num=7x_1, total_loss_train=541, kl_local_train=98.4, metric_mi|age_categorical_train=0.308]"
     ]
    },
    {
     "name": "stdout",
     "output_type": "stream",
     "text": [
      "\r\n",
      "Epoch 343/600:  57%|█████▋    | 343/600 [4:54:05<3:31:37, 49.41s/it, v_num=7x_1, total_loss_train=541, kl_local_train=98.4, metric_mi|age_categorical_train=0.308]"
     ]
    },
    {
     "name": "stdout",
     "output_type": "stream",
     "text": [
      "\r\n",
      "Epoch 343/600:  57%|█████▋    | 343/600 [4:54:05<3:31:37, 49.41s/it, v_num=7x_1, total_loss_train=541, kl_local_train=98, metric_mi|age_categorical_train=0.308]  "
     ]
    },
    {
     "name": "stdout",
     "output_type": "stream",
     "text": [
      "\r\n",
      "Epoch 344/600:  57%|█████▋    | 343/600 [4:54:05<3:31:37, 49.41s/it, v_num=7x_1, total_loss_train=541, kl_local_train=98, metric_mi|age_categorical_train=0.308]"
     ]
    },
    {
     "name": "stdout",
     "output_type": "stream",
     "text": [
      "\r\n",
      "Epoch 344/600:  57%|█████▋    | 344/600 [4:54:54<3:30:41, 49.38s/it, v_num=7x_1, total_loss_train=541, kl_local_train=98, metric_mi|age_categorical_train=0.308]"
     ]
    },
    {
     "name": "stdout",
     "output_type": "stream",
     "text": [
      "\r\n",
      "Epoch 344/600:  57%|█████▋    | 344/600 [4:54:54<3:30:41, 49.38s/it, v_num=7x_1, total_loss_train=542, kl_local_train=98, metric_mi|age_categorical_train=0.308]"
     ]
    },
    {
     "name": "stdout",
     "output_type": "stream",
     "text": [
      "\r\n",
      "Epoch 345/600:  57%|█████▋    | 344/600 [4:54:54<3:30:41, 49.38s/it, v_num=7x_1, total_loss_train=542, kl_local_train=98, metric_mi|age_categorical_train=0.308]"
     ]
    },
    {
     "name": "stdout",
     "output_type": "stream",
     "text": [
      "\r\n",
      "Epoch 345/600:  57%|█████▊    | 345/600 [4:55:44<3:29:57, 49.40s/it, v_num=7x_1, total_loss_train=542, kl_local_train=98, metric_mi|age_categorical_train=0.308]"
     ]
    },
    {
     "name": "stdout",
     "output_type": "stream",
     "text": [
      "\r\n",
      "Epoch 345/600:  57%|█████▊    | 345/600 [4:55:44<3:29:57, 49.40s/it, v_num=7x_1, total_loss_train=541, kl_local_train=97.5, metric_mi|age_categorical_train=0.308]"
     ]
    },
    {
     "name": "stdout",
     "output_type": "stream",
     "text": [
      "\r\n",
      "Epoch 346/600:  57%|█████▊    | 345/600 [4:55:45<3:29:57, 49.40s/it, v_num=7x_1, total_loss_train=541, kl_local_train=97.5, metric_mi|age_categorical_train=0.308]"
     ]
    },
    {
     "name": "stdout",
     "output_type": "stream",
     "text": [
      "\r\n",
      "Epoch 346/600:  58%|█████▊    | 346/600 [4:56:34<3:29:56, 49.59s/it, v_num=7x_1, total_loss_train=541, kl_local_train=97.5, metric_mi|age_categorical_train=0.308]"
     ]
    },
    {
     "name": "stdout",
     "output_type": "stream",
     "text": [
      "\r\n",
      "Epoch 346/600:  58%|█████▊    | 346/600 [4:56:34<3:29:56, 49.59s/it, v_num=7x_1, total_loss_train=542, kl_local_train=97.5, metric_mi|age_categorical_train=0.313]"
     ]
    },
    {
     "name": "stdout",
     "output_type": "stream",
     "text": [
      "\r\n",
      "Epoch 347/600:  58%|█████▊    | 346/600 [4:56:34<3:29:56, 49.59s/it, v_num=7x_1, total_loss_train=542, kl_local_train=97.5, metric_mi|age_categorical_train=0.313]"
     ]
    },
    {
     "name": "stdout",
     "output_type": "stream",
     "text": [
      "\r\n",
      "Epoch 347/600:  58%|█████▊    | 347/600 [4:57:23<3:28:31, 49.45s/it, v_num=7x_1, total_loss_train=542, kl_local_train=97.5, metric_mi|age_categorical_train=0.313]"
     ]
    },
    {
     "name": "stdout",
     "output_type": "stream",
     "text": [
      "\r\n",
      "Epoch 347/600:  58%|█████▊    | 347/600 [4:57:23<3:28:31, 49.45s/it, v_num=7x_1, total_loss_train=542, kl_local_train=97.3, metric_mi|age_categorical_train=0.313]"
     ]
    },
    {
     "name": "stdout",
     "output_type": "stream",
     "text": [
      "\r\n",
      "Epoch 348/600:  58%|█████▊    | 347/600 [4:57:23<3:28:31, 49.45s/it, v_num=7x_1, total_loss_train=542, kl_local_train=97.3, metric_mi|age_categorical_train=0.313]"
     ]
    },
    {
     "name": "stdout",
     "output_type": "stream",
     "text": [
      "\r\n",
      "Epoch 348/600:  58%|█████▊    | 348/600 [4:58:12<3:27:19, 49.36s/it, v_num=7x_1, total_loss_train=542, kl_local_train=97.3, metric_mi|age_categorical_train=0.313]"
     ]
    },
    {
     "name": "stdout",
     "output_type": "stream",
     "text": [
      "\r\n",
      "Epoch 348/600:  58%|█████▊    | 348/600 [4:58:12<3:27:19, 49.36s/it, v_num=7x_1, total_loss_train=542, kl_local_train=97.1, metric_mi|age_categorical_train=0.313]"
     ]
    },
    {
     "name": "stdout",
     "output_type": "stream",
     "text": [
      "\r\n",
      "Epoch 349/600:  58%|█████▊    | 348/600 [4:58:12<3:27:19, 49.36s/it, v_num=7x_1, total_loss_train=542, kl_local_train=97.1, metric_mi|age_categorical_train=0.313]"
     ]
    },
    {
     "name": "stdout",
     "output_type": "stream",
     "text": [
      "\r\n",
      "Epoch 349/600:  58%|█████▊    | 349/600 [4:59:06<3:32:46, 50.86s/it, v_num=7x_1, total_loss_train=542, kl_local_train=97.1, metric_mi|age_categorical_train=0.313]"
     ]
    },
    {
     "name": "stdout",
     "output_type": "stream",
     "text": [
      "\r\n",
      "Epoch 349/600:  58%|█████▊    | 349/600 [4:59:06<3:32:46, 50.86s/it, v_num=7x_1, total_loss_train=542, kl_local_train=97.3, metric_mi|age_categorical_train=0.313]"
     ]
    },
    {
     "name": "stdout",
     "output_type": "stream",
     "text": [
      "\r\n",
      "Epoch 350/600:  58%|█████▊    | 349/600 [4:59:06<3:32:46, 50.86s/it, v_num=7x_1, total_loss_train=542, kl_local_train=97.3, metric_mi|age_categorical_train=0.313]"
     ]
    },
    {
     "name": "stdout",
     "output_type": "stream",
     "text": [
      "\r\n",
      "Epoch 350/600:  58%|█████▊    | 350/600 [5:00:02<3:37:51, 52.29s/it, v_num=7x_1, total_loss_train=542, kl_local_train=97.3, metric_mi|age_categorical_train=0.313]"
     ]
    },
    {
     "name": "stdout",
     "output_type": "stream",
     "text": [
      "\r\n",
      "Epoch 350/600:  58%|█████▊    | 350/600 [5:00:02<3:37:51, 52.29s/it, v_num=7x_1, total_loss_train=542, kl_local_train=96.8, metric_mi|age_categorical_train=0.313]"
     ]
    },
    {
     "name": "stdout",
     "output_type": "stream",
     "text": [
      "\r\n",
      "Epoch 351/600:  58%|█████▊    | 350/600 [5:00:03<3:37:51, 52.29s/it, v_num=7x_1, total_loss_train=542, kl_local_train=96.8, metric_mi|age_categorical_train=0.313]"
     ]
    },
    {
     "name": "stdout",
     "output_type": "stream",
     "text": [
      "\r\n",
      "Epoch 351/600:  58%|█████▊    | 351/600 [5:00:59<3:42:20, 53.58s/it, v_num=7x_1, total_loss_train=542, kl_local_train=96.8, metric_mi|age_categorical_train=0.313]"
     ]
    },
    {
     "name": "stdout",
     "output_type": "stream",
     "text": [
      "\r\n",
      "Epoch 351/600:  58%|█████▊    | 351/600 [5:00:59<3:42:20, 53.58s/it, v_num=7x_1, total_loss_train=542, kl_local_train=96.9, metric_mi|age_categorical_train=0.314]"
     ]
    },
    {
     "name": "stdout",
     "output_type": "stream",
     "text": [
      "\r\n",
      "Epoch 352/600:  58%|█████▊    | 351/600 [5:00:59<3:42:20, 53.58s/it, v_num=7x_1, total_loss_train=542, kl_local_train=96.9, metric_mi|age_categorical_train=0.314]"
     ]
    },
    {
     "name": "stdout",
     "output_type": "stream",
     "text": [
      "\r\n",
      "Epoch 352/600:  59%|█████▊    | 352/600 [5:01:54<3:44:05, 54.22s/it, v_num=7x_1, total_loss_train=542, kl_local_train=96.9, metric_mi|age_categorical_train=0.314]"
     ]
    },
    {
     "name": "stdout",
     "output_type": "stream",
     "text": [
      "\r\n",
      "Epoch 352/600:  59%|█████▊    | 352/600 [5:01:54<3:44:05, 54.22s/it, v_num=7x_1, total_loss_train=542, kl_local_train=97.1, metric_mi|age_categorical_train=0.314]"
     ]
    },
    {
     "name": "stdout",
     "output_type": "stream",
     "text": [
      "\r\n",
      "Epoch 353/600:  59%|█████▊    | 352/600 [5:01:54<3:44:05, 54.22s/it, v_num=7x_1, total_loss_train=542, kl_local_train=97.1, metric_mi|age_categorical_train=0.314]"
     ]
    },
    {
     "name": "stdout",
     "output_type": "stream",
     "text": [
      "\r\n",
      "Epoch 353/600:  59%|█████▉    | 353/600 [5:02:50<3:44:59, 54.65s/it, v_num=7x_1, total_loss_train=542, kl_local_train=97.1, metric_mi|age_categorical_train=0.314]"
     ]
    },
    {
     "name": "stdout",
     "output_type": "stream",
     "text": [
      "\r\n",
      "Epoch 353/600:  59%|█████▉    | 353/600 [5:02:50<3:44:59, 54.65s/it, v_num=7x_1, total_loss_train=542, kl_local_train=96.7, metric_mi|age_categorical_train=0.314]"
     ]
    },
    {
     "name": "stdout",
     "output_type": "stream",
     "text": [
      "\r\n",
      "Epoch 354/600:  59%|█████▉    | 353/600 [5:02:50<3:44:59, 54.65s/it, v_num=7x_1, total_loss_train=542, kl_local_train=96.7, metric_mi|age_categorical_train=0.314]"
     ]
    },
    {
     "name": "stdout",
     "output_type": "stream",
     "text": [
      "\r\n",
      "Epoch 354/600:  59%|█████▉    | 354/600 [5:03:46<3:45:28, 54.99s/it, v_num=7x_1, total_loss_train=542, kl_local_train=96.7, metric_mi|age_categorical_train=0.314]"
     ]
    },
    {
     "name": "stdout",
     "output_type": "stream",
     "text": [
      "\r\n",
      "Epoch 354/600:  59%|█████▉    | 354/600 [5:03:46<3:45:28, 54.99s/it, v_num=7x_1, total_loss_train=543, kl_local_train=96.3, metric_mi|age_categorical_train=0.314]"
     ]
    },
    {
     "name": "stdout",
     "output_type": "stream",
     "text": [
      "\r\n",
      "Epoch 355/600:  59%|█████▉    | 354/600 [5:03:46<3:45:28, 54.99s/it, v_num=7x_1, total_loss_train=543, kl_local_train=96.3, metric_mi|age_categorical_train=0.314]"
     ]
    },
    {
     "name": "stdout",
     "output_type": "stream",
     "text": [
      "\r\n",
      "Epoch 355/600:  59%|█████▉    | 355/600 [5:04:42<3:45:32, 55.23s/it, v_num=7x_1, total_loss_train=543, kl_local_train=96.3, metric_mi|age_categorical_train=0.314]"
     ]
    },
    {
     "name": "stdout",
     "output_type": "stream",
     "text": [
      "\r\n",
      "Epoch 355/600:  59%|█████▉    | 355/600 [5:04:42<3:45:32, 55.23s/it, v_num=7x_1, total_loss_train=542, kl_local_train=96.8, metric_mi|age_categorical_train=0.314]"
     ]
    },
    {
     "name": "stdout",
     "output_type": "stream",
     "text": [
      "\r\n",
      "Epoch 356/600:  59%|█████▉    | 355/600 [5:04:42<3:45:32, 55.23s/it, v_num=7x_1, total_loss_train=542, kl_local_train=96.8, metric_mi|age_categorical_train=0.314]"
     ]
    },
    {
     "name": "stdout",
     "output_type": "stream",
     "text": [
      "\r\n",
      "Epoch 356/600:  59%|█████▉    | 356/600 [5:05:38<3:46:00, 55.58s/it, v_num=7x_1, total_loss_train=542, kl_local_train=96.8, metric_mi|age_categorical_train=0.314]"
     ]
    },
    {
     "name": "stdout",
     "output_type": "stream",
     "text": [
      "\r\n",
      "Epoch 356/600:  59%|█████▉    | 356/600 [5:05:38<3:46:00, 55.58s/it, v_num=7x_1, total_loss_train=543, kl_local_train=96.5, metric_mi|age_categorical_train=0.315]"
     ]
    },
    {
     "name": "stdout",
     "output_type": "stream",
     "text": [
      "\r\n",
      "Epoch 357/600:  59%|█████▉    | 356/600 [5:05:38<3:46:00, 55.58s/it, v_num=7x_1, total_loss_train=543, kl_local_train=96.5, metric_mi|age_categorical_train=0.315]"
     ]
    },
    {
     "name": "stdout",
     "output_type": "stream",
     "text": [
      "\r\n",
      "Epoch 357/600:  60%|█████▉    | 357/600 [5:06:33<3:44:56, 55.54s/it, v_num=7x_1, total_loss_train=543, kl_local_train=96.5, metric_mi|age_categorical_train=0.315]"
     ]
    },
    {
     "name": "stdout",
     "output_type": "stream",
     "text": [
      "\r\n",
      "Epoch 357/600:  60%|█████▉    | 357/600 [5:06:33<3:44:56, 55.54s/it, v_num=7x_1, total_loss_train=543, kl_local_train=96.4, metric_mi|age_categorical_train=0.315]"
     ]
    },
    {
     "name": "stdout",
     "output_type": "stream",
     "text": [
      "\r\n",
      "Epoch 358/600:  60%|█████▉    | 357/600 [5:06:33<3:44:56, 55.54s/it, v_num=7x_1, total_loss_train=543, kl_local_train=96.4, metric_mi|age_categorical_train=0.315]"
     ]
    },
    {
     "name": "stdout",
     "output_type": "stream",
     "text": [
      "\r\n",
      "Epoch 358/600:  60%|█████▉    | 358/600 [5:07:29<3:43:37, 55.44s/it, v_num=7x_1, total_loss_train=543, kl_local_train=96.4, metric_mi|age_categorical_train=0.315]"
     ]
    },
    {
     "name": "stdout",
     "output_type": "stream",
     "text": [
      "\r\n",
      "Epoch 358/600:  60%|█████▉    | 358/600 [5:07:29<3:43:37, 55.44s/it, v_num=7x_1, total_loss_train=543, kl_local_train=95.9, metric_mi|age_categorical_train=0.315]"
     ]
    },
    {
     "name": "stdout",
     "output_type": "stream",
     "text": [
      "\r\n",
      "Epoch 359/600:  60%|█████▉    | 358/600 [5:07:29<3:43:37, 55.44s/it, v_num=7x_1, total_loss_train=543, kl_local_train=95.9, metric_mi|age_categorical_train=0.315]"
     ]
    },
    {
     "name": "stdout",
     "output_type": "stream",
     "text": [
      "\r\n",
      "Epoch 359/600:  60%|█████▉    | 359/600 [5:08:24<3:42:26, 55.38s/it, v_num=7x_1, total_loss_train=543, kl_local_train=95.9, metric_mi|age_categorical_train=0.315]"
     ]
    },
    {
     "name": "stdout",
     "output_type": "stream",
     "text": [
      "\r\n",
      "Epoch 359/600:  60%|█████▉    | 359/600 [5:08:24<3:42:26, 55.38s/it, v_num=7x_1, total_loss_train=543, kl_local_train=96.6, metric_mi|age_categorical_train=0.315]"
     ]
    },
    {
     "name": "stdout",
     "output_type": "stream",
     "text": [
      "\r\n",
      "Epoch 360/600:  60%|█████▉    | 359/600 [5:08:24<3:42:26, 55.38s/it, v_num=7x_1, total_loss_train=543, kl_local_train=96.6, metric_mi|age_categorical_train=0.315]"
     ]
    },
    {
     "name": "stdout",
     "output_type": "stream",
     "text": [
      "\r\n",
      "Epoch 360/600:  60%|██████    | 360/600 [5:09:19<3:41:25, 55.36s/it, v_num=7x_1, total_loss_train=543, kl_local_train=96.6, metric_mi|age_categorical_train=0.315]"
     ]
    },
    {
     "name": "stdout",
     "output_type": "stream",
     "text": [
      "\r\n",
      "Epoch 360/600:  60%|██████    | 360/600 [5:09:19<3:41:25, 55.36s/it, v_num=7x_1, total_loss_train=543, kl_local_train=95.9, metric_mi|age_categorical_train=0.315]"
     ]
    },
    {
     "name": "stdout",
     "output_type": "stream",
     "text": [
      "\r\n",
      "Epoch 361/600:  60%|██████    | 360/600 [5:09:20<3:41:25, 55.36s/it, v_num=7x_1, total_loss_train=543, kl_local_train=95.9, metric_mi|age_categorical_train=0.315]"
     ]
    },
    {
     "name": "stdout",
     "output_type": "stream",
     "text": [
      "\r\n",
      "Epoch 361/600:  60%|██████    | 361/600 [5:10:15<3:40:53, 55.45s/it, v_num=7x_1, total_loss_train=543, kl_local_train=95.9, metric_mi|age_categorical_train=0.315]"
     ]
    },
    {
     "name": "stdout",
     "output_type": "stream",
     "text": [
      "\r\n",
      "Epoch 361/600:  60%|██████    | 361/600 [5:10:15<3:40:53, 55.45s/it, v_num=7x_1, total_loss_train=543, kl_local_train=95.7, metric_mi|age_categorical_train=0.319]"
     ]
    },
    {
     "name": "stdout",
     "output_type": "stream",
     "text": [
      "\r\n",
      "Epoch 362/600:  60%|██████    | 361/600 [5:10:15<3:40:53, 55.45s/it, v_num=7x_1, total_loss_train=543, kl_local_train=95.7, metric_mi|age_categorical_train=0.319]"
     ]
    },
    {
     "name": "stdout",
     "output_type": "stream",
     "text": [
      "\r\n",
      "Epoch 362/600:  60%|██████    | 362/600 [5:11:10<3:39:20, 55.30s/it, v_num=7x_1, total_loss_train=543, kl_local_train=95.7, metric_mi|age_categorical_train=0.319]"
     ]
    },
    {
     "name": "stdout",
     "output_type": "stream",
     "text": [
      "\r\n",
      "Epoch 362/600:  60%|██████    | 362/600 [5:11:10<3:39:20, 55.30s/it, v_num=7x_1, total_loss_train=543, kl_local_train=95.9, metric_mi|age_categorical_train=0.319]"
     ]
    },
    {
     "name": "stdout",
     "output_type": "stream",
     "text": [
      "\r\n",
      "Epoch 363/600:  60%|██████    | 362/600 [5:11:10<3:39:20, 55.30s/it, v_num=7x_1, total_loss_train=543, kl_local_train=95.9, metric_mi|age_categorical_train=0.319]"
     ]
    },
    {
     "name": "stdout",
     "output_type": "stream",
     "text": [
      "\r\n",
      "Epoch 363/600:  60%|██████    | 363/600 [5:12:05<3:38:09, 55.23s/it, v_num=7x_1, total_loss_train=543, kl_local_train=95.9, metric_mi|age_categorical_train=0.319]"
     ]
    },
    {
     "name": "stdout",
     "output_type": "stream",
     "text": [
      "\r\n",
      "Epoch 363/600:  60%|██████    | 363/600 [5:12:05<3:38:09, 55.23s/it, v_num=7x_1, total_loss_train=543, kl_local_train=95.2, metric_mi|age_categorical_train=0.319]"
     ]
    },
    {
     "name": "stdout",
     "output_type": "stream",
     "text": [
      "\r\n",
      "Epoch 364/600:  60%|██████    | 363/600 [5:12:05<3:38:09, 55.23s/it, v_num=7x_1, total_loss_train=543, kl_local_train=95.2, metric_mi|age_categorical_train=0.319]"
     ]
    },
    {
     "name": "stdout",
     "output_type": "stream",
     "text": [
      "\r\n",
      "Epoch 364/600:  61%|██████    | 364/600 [5:13:00<3:37:04, 55.19s/it, v_num=7x_1, total_loss_train=543, kl_local_train=95.2, metric_mi|age_categorical_train=0.319]"
     ]
    },
    {
     "name": "stdout",
     "output_type": "stream",
     "text": [
      "\r\n",
      "Epoch 364/600:  61%|██████    | 364/600 [5:13:00<3:37:04, 55.19s/it, v_num=7x_1, total_loss_train=543, kl_local_train=94.9, metric_mi|age_categorical_train=0.319]"
     ]
    },
    {
     "name": "stdout",
     "output_type": "stream",
     "text": [
      "\r\n",
      "Epoch 365/600:  61%|██████    | 364/600 [5:13:00<3:37:04, 55.19s/it, v_num=7x_1, total_loss_train=543, kl_local_train=94.9, metric_mi|age_categorical_train=0.319]"
     ]
    },
    {
     "name": "stdout",
     "output_type": "stream",
     "text": [
      "\r\n",
      "Epoch 365/600:  61%|██████    | 365/600 [5:13:56<3:36:44, 55.34s/it, v_num=7x_1, total_loss_train=543, kl_local_train=94.9, metric_mi|age_categorical_train=0.319]"
     ]
    },
    {
     "name": "stdout",
     "output_type": "stream",
     "text": [
      "\r\n",
      "Epoch 365/600:  61%|██████    | 365/600 [5:13:56<3:36:44, 55.34s/it, v_num=7x_1, total_loss_train=543, kl_local_train=94.9, metric_mi|age_categorical_train=0.319]"
     ]
    },
    {
     "name": "stdout",
     "output_type": "stream",
     "text": [
      "\r\n",
      "Epoch 366/600:  61%|██████    | 365/600 [5:13:56<3:36:44, 55.34s/it, v_num=7x_1, total_loss_train=543, kl_local_train=94.9, metric_mi|age_categorical_train=0.319]"
     ]
    },
    {
     "name": "stdout",
     "output_type": "stream",
     "text": [
      "\r\n",
      "Epoch 366/600:  61%|██████    | 366/600 [5:14:45<3:29:05, 53.61s/it, v_num=7x_1, total_loss_train=543, kl_local_train=94.9, metric_mi|age_categorical_train=0.319]"
     ]
    },
    {
     "name": "stdout",
     "output_type": "stream",
     "text": [
      "\r\n",
      "Epoch 366/600:  61%|██████    | 366/600 [5:14:45<3:29:05, 53.61s/it, v_num=7x_1, total_loss_train=543, kl_local_train=94.9, metric_mi|age_categorical_train=0.319]"
     ]
    },
    {
     "name": "stdout",
     "output_type": "stream",
     "text": [
      "\r\n",
      "Epoch 367/600:  61%|██████    | 366/600 [5:14:45<3:29:05, 53.61s/it, v_num=7x_1, total_loss_train=543, kl_local_train=94.9, metric_mi|age_categorical_train=0.319]"
     ]
    },
    {
     "name": "stdout",
     "output_type": "stream",
     "text": [
      "\r\n",
      "Epoch 367/600:  61%|██████    | 367/600 [5:15:34<3:22:23, 52.12s/it, v_num=7x_1, total_loss_train=543, kl_local_train=94.9, metric_mi|age_categorical_train=0.319]"
     ]
    },
    {
     "name": "stdout",
     "output_type": "stream",
     "text": [
      "\r\n",
      "Epoch 367/600:  61%|██████    | 367/600 [5:15:34<3:22:23, 52.12s/it, v_num=7x_1, total_loss_train=544, kl_local_train=95.3, metric_mi|age_categorical_train=0.319]"
     ]
    },
    {
     "name": "stdout",
     "output_type": "stream",
     "text": [
      "\r\n",
      "Epoch 368/600:  61%|██████    | 367/600 [5:15:34<3:22:23, 52.12s/it, v_num=7x_1, total_loss_train=544, kl_local_train=95.3, metric_mi|age_categorical_train=0.319]"
     ]
    },
    {
     "name": "stdout",
     "output_type": "stream",
     "text": [
      "\r\n",
      "Epoch 368/600:  61%|██████▏   | 368/600 [5:16:22<3:17:27, 51.07s/it, v_num=7x_1, total_loss_train=544, kl_local_train=95.3, metric_mi|age_categorical_train=0.319]"
     ]
    },
    {
     "name": "stdout",
     "output_type": "stream",
     "text": [
      "\r\n",
      "Epoch 368/600:  61%|██████▏   | 368/600 [5:16:22<3:17:27, 51.07s/it, v_num=7x_1, total_loss_train=544, kl_local_train=95.5, metric_mi|age_categorical_train=0.319]"
     ]
    },
    {
     "name": "stdout",
     "output_type": "stream",
     "text": [
      "\r\n",
      "Epoch 369/600:  61%|██████▏   | 368/600 [5:16:22<3:17:27, 51.07s/it, v_num=7x_1, total_loss_train=544, kl_local_train=95.5, metric_mi|age_categorical_train=0.319]"
     ]
    },
    {
     "name": "stdout",
     "output_type": "stream",
     "text": [
      "\r\n",
      "Epoch 369/600:  62%|██████▏   | 369/600 [5:17:11<3:13:50, 50.35s/it, v_num=7x_1, total_loss_train=544, kl_local_train=95.5, metric_mi|age_categorical_train=0.319]"
     ]
    },
    {
     "name": "stdout",
     "output_type": "stream",
     "text": [
      "\r\n",
      "Epoch 369/600:  62%|██████▏   | 369/600 [5:17:11<3:13:50, 50.35s/it, v_num=7x_1, total_loss_train=544, kl_local_train=95.2, metric_mi|age_categorical_train=0.319]"
     ]
    },
    {
     "name": "stdout",
     "output_type": "stream",
     "text": [
      "\r\n",
      "Epoch 370/600:  62%|██████▏   | 369/600 [5:17:11<3:13:50, 50.35s/it, v_num=7x_1, total_loss_train=544, kl_local_train=95.2, metric_mi|age_categorical_train=0.319]"
     ]
    },
    {
     "name": "stdout",
     "output_type": "stream",
     "text": [
      "\r\n",
      "Epoch 370/600:  62%|██████▏   | 370/600 [5:18:00<3:11:16, 49.90s/it, v_num=7x_1, total_loss_train=544, kl_local_train=95.2, metric_mi|age_categorical_train=0.319]"
     ]
    },
    {
     "name": "stdout",
     "output_type": "stream",
     "text": [
      "\r\n",
      "Epoch 370/600:  62%|██████▏   | 370/600 [5:18:00<3:11:16, 49.90s/it, v_num=7x_1, total_loss_train=544, kl_local_train=94.4, metric_mi|age_categorical_train=0.319]"
     ]
    },
    {
     "name": "stdout",
     "output_type": "stream",
     "text": [
      "\r\n",
      "Epoch 371/600:  62%|██████▏   | 370/600 [5:18:01<3:11:16, 49.90s/it, v_num=7x_1, total_loss_train=544, kl_local_train=94.4, metric_mi|age_categorical_train=0.319]"
     ]
    },
    {
     "name": "stdout",
     "output_type": "stream",
     "text": [
      "\r\n",
      "Epoch 371/600:  62%|██████▏   | 371/600 [5:18:49<3:10:05, 49.80s/it, v_num=7x_1, total_loss_train=544, kl_local_train=94.4, metric_mi|age_categorical_train=0.319]"
     ]
    },
    {
     "name": "stdout",
     "output_type": "stream",
     "text": [
      "\r\n",
      "Epoch 371/600:  62%|██████▏   | 371/600 [5:18:50<3:10:05, 49.80s/it, v_num=7x_1, total_loss_train=544, kl_local_train=94.6, metric_mi|age_categorical_train=0.308]"
     ]
    },
    {
     "name": "stdout",
     "output_type": "stream",
     "text": [
      "\r\n",
      "Epoch 372/600:  62%|██████▏   | 371/600 [5:18:50<3:10:05, 49.80s/it, v_num=7x_1, total_loss_train=544, kl_local_train=94.6, metric_mi|age_categorical_train=0.308]"
     ]
    },
    {
     "name": "stdout",
     "output_type": "stream",
     "text": [
      "\r\n",
      "Epoch 372/600:  62%|██████▏   | 372/600 [5:19:38<3:08:10, 49.52s/it, v_num=7x_1, total_loss_train=544, kl_local_train=94.6, metric_mi|age_categorical_train=0.308]"
     ]
    },
    {
     "name": "stdout",
     "output_type": "stream",
     "text": [
      "\r\n",
      "Epoch 372/600:  62%|██████▏   | 372/600 [5:19:38<3:08:10, 49.52s/it, v_num=7x_1, total_loss_train=544, kl_local_train=94.5, metric_mi|age_categorical_train=0.308]"
     ]
    },
    {
     "name": "stdout",
     "output_type": "stream",
     "text": [
      "\r\n",
      "Epoch 373/600:  62%|██████▏   | 372/600 [5:19:38<3:08:10, 49.52s/it, v_num=7x_1, total_loss_train=544, kl_local_train=94.5, metric_mi|age_categorical_train=0.308]"
     ]
    },
    {
     "name": "stdout",
     "output_type": "stream",
     "text": [
      "\r\n",
      "Epoch 373/600:  62%|██████▏   | 373/600 [5:20:27<3:06:33, 49.31s/it, v_num=7x_1, total_loss_train=544, kl_local_train=94.5, metric_mi|age_categorical_train=0.308]"
     ]
    },
    {
     "name": "stdout",
     "output_type": "stream",
     "text": [
      "\r\n",
      "Epoch 373/600:  62%|██████▏   | 373/600 [5:20:27<3:06:33, 49.31s/it, v_num=7x_1, total_loss_train=544, kl_local_train=94.2, metric_mi|age_categorical_train=0.308]"
     ]
    },
    {
     "name": "stdout",
     "output_type": "stream",
     "text": [
      "\r\n",
      "Epoch 374/600:  62%|██████▏   | 373/600 [5:20:27<3:06:33, 49.31s/it, v_num=7x_1, total_loss_train=544, kl_local_train=94.2, metric_mi|age_categorical_train=0.308]"
     ]
    },
    {
     "name": "stdout",
     "output_type": "stream",
     "text": [
      "\r\n",
      "Epoch 374/600:  62%|██████▏   | 374/600 [5:21:16<3:05:09, 49.16s/it, v_num=7x_1, total_loss_train=544, kl_local_train=94.2, metric_mi|age_categorical_train=0.308]"
     ]
    },
    {
     "name": "stdout",
     "output_type": "stream",
     "text": [
      "\r\n",
      "Epoch 374/600:  62%|██████▏   | 374/600 [5:21:16<3:05:09, 49.16s/it, v_num=7x_1, total_loss_train=544, kl_local_train=93.7, metric_mi|age_categorical_train=0.308]"
     ]
    },
    {
     "name": "stdout",
     "output_type": "stream",
     "text": [
      "\r\n",
      "Epoch 375/600:  62%|██████▏   | 374/600 [5:21:16<3:05:09, 49.16s/it, v_num=7x_1, total_loss_train=544, kl_local_train=93.7, metric_mi|age_categorical_train=0.308]"
     ]
    },
    {
     "name": "stdout",
     "output_type": "stream",
     "text": [
      "\r\n",
      "Epoch 375/600:  62%|██████▎   | 375/600 [5:22:05<3:03:49, 49.02s/it, v_num=7x_1, total_loss_train=544, kl_local_train=93.7, metric_mi|age_categorical_train=0.308]"
     ]
    },
    {
     "name": "stdout",
     "output_type": "stream",
     "text": [
      "\r\n",
      "Epoch 375/600:  62%|██████▎   | 375/600 [5:22:05<3:03:49, 49.02s/it, v_num=7x_1, total_loss_train=544, kl_local_train=93.3, metric_mi|age_categorical_train=0.308]"
     ]
    },
    {
     "name": "stdout",
     "output_type": "stream",
     "text": [
      "\r\n",
      "Epoch 376/600:  62%|██████▎   | 375/600 [5:22:05<3:03:49, 49.02s/it, v_num=7x_1, total_loss_train=544, kl_local_train=93.3, metric_mi|age_categorical_train=0.308]"
     ]
    },
    {
     "name": "stdout",
     "output_type": "stream",
     "text": [
      "\r\n",
      "Epoch 376/600:  63%|██████▎   | 376/600 [5:22:55<3:04:08, 49.32s/it, v_num=7x_1, total_loss_train=544, kl_local_train=93.3, metric_mi|age_categorical_train=0.308]"
     ]
    },
    {
     "name": "stdout",
     "output_type": "stream",
     "text": [
      "\r\n",
      "Epoch 376/600:  63%|██████▎   | 376/600 [5:22:55<3:04:08, 49.32s/it, v_num=7x_1, total_loss_train=545, kl_local_train=93.4, metric_mi|age_categorical_train=0.308]"
     ]
    },
    {
     "name": "stdout",
     "output_type": "stream",
     "text": [
      "\r\n",
      "Epoch 377/600:  63%|██████▎   | 376/600 [5:22:55<3:04:08, 49.32s/it, v_num=7x_1, total_loss_train=545, kl_local_train=93.4, metric_mi|age_categorical_train=0.308]"
     ]
    },
    {
     "name": "stdout",
     "output_type": "stream",
     "text": [
      "\r\n",
      "Epoch 377/600:  63%|██████▎   | 377/600 [5:23:44<3:03:11, 49.29s/it, v_num=7x_1, total_loss_train=545, kl_local_train=93.4, metric_mi|age_categorical_train=0.308]"
     ]
    },
    {
     "name": "stdout",
     "output_type": "stream",
     "text": [
      "\r\n",
      "Epoch 377/600:  63%|██████▎   | 377/600 [5:23:44<3:03:11, 49.29s/it, v_num=7x_1, total_loss_train=544, kl_local_train=93.3, metric_mi|age_categorical_train=0.308]"
     ]
    },
    {
     "name": "stdout",
     "output_type": "stream",
     "text": [
      "\r\n",
      "Epoch 378/600:  63%|██████▎   | 377/600 [5:23:44<3:03:11, 49.29s/it, v_num=7x_1, total_loss_train=544, kl_local_train=93.3, metric_mi|age_categorical_train=0.308]"
     ]
    },
    {
     "name": "stdout",
     "output_type": "stream",
     "text": [
      "\r\n",
      "Epoch 378/600:  63%|██████▎   | 378/600 [5:24:33<3:02:04, 49.21s/it, v_num=7x_1, total_loss_train=544, kl_local_train=93.3, metric_mi|age_categorical_train=0.308]"
     ]
    },
    {
     "name": "stdout",
     "output_type": "stream",
     "text": [
      "\r\n",
      "Epoch 378/600:  63%|██████▎   | 378/600 [5:24:33<3:02:04, 49.21s/it, v_num=7x_1, total_loss_train=544, kl_local_train=93.1, metric_mi|age_categorical_train=0.308]"
     ]
    },
    {
     "name": "stdout",
     "output_type": "stream",
     "text": [
      "\r\n",
      "Epoch 379/600:  63%|██████▎   | 378/600 [5:24:33<3:02:04, 49.21s/it, v_num=7x_1, total_loss_train=544, kl_local_train=93.1, metric_mi|age_categorical_train=0.308]"
     ]
    },
    {
     "name": "stdout",
     "output_type": "stream",
     "text": [
      "\r\n",
      "Epoch 379/600:  63%|██████▎   | 379/600 [5:25:22<3:01:06, 49.17s/it, v_num=7x_1, total_loss_train=544, kl_local_train=93.1, metric_mi|age_categorical_train=0.308]"
     ]
    },
    {
     "name": "stdout",
     "output_type": "stream",
     "text": [
      "\r\n",
      "Epoch 379/600:  63%|██████▎   | 379/600 [5:25:22<3:01:06, 49.17s/it, v_num=7x_1, total_loss_train=544, kl_local_train=92.8, metric_mi|age_categorical_train=0.308]"
     ]
    },
    {
     "name": "stdout",
     "output_type": "stream",
     "text": [
      "\r\n",
      "Epoch 380/600:  63%|██████▎   | 379/600 [5:25:22<3:01:06, 49.17s/it, v_num=7x_1, total_loss_train=544, kl_local_train=92.8, metric_mi|age_categorical_train=0.308]"
     ]
    },
    {
     "name": "stdout",
     "output_type": "stream",
     "text": [
      "\r\n",
      "Epoch 380/600:  63%|██████▎   | 380/600 [5:26:11<3:00:18, 49.17s/it, v_num=7x_1, total_loss_train=544, kl_local_train=92.8, metric_mi|age_categorical_train=0.308]"
     ]
    },
    {
     "name": "stdout",
     "output_type": "stream",
     "text": [
      "\r\n",
      "Epoch 380/600:  63%|██████▎   | 380/600 [5:26:11<3:00:18, 49.17s/it, v_num=7x_1, total_loss_train=545, kl_local_train=93, metric_mi|age_categorical_train=0.308]  "
     ]
    },
    {
     "name": "stdout",
     "output_type": "stream",
     "text": [
      "\r\n",
      "Epoch 381/600:  63%|██████▎   | 380/600 [5:26:12<3:00:18, 49.17s/it, v_num=7x_1, total_loss_train=545, kl_local_train=93, metric_mi|age_categorical_train=0.308]"
     ]
    },
    {
     "name": "stdout",
     "output_type": "stream",
     "text": [
      "\r\n",
      "Epoch 381/600:  64%|██████▎   | 381/600 [5:27:01<3:00:35, 49.48s/it, v_num=7x_1, total_loss_train=545, kl_local_train=93, metric_mi|age_categorical_train=0.308]"
     ]
    },
    {
     "name": "stdout",
     "output_type": "stream",
     "text": [
      "\r\n",
      "Epoch 381/600:  64%|██████▎   | 381/600 [5:27:01<3:00:35, 49.48s/it, v_num=7x_1, total_loss_train=545, kl_local_train=92.8, metric_mi|age_categorical_train=0.314]"
     ]
    },
    {
     "name": "stdout",
     "output_type": "stream",
     "text": [
      "\r\n",
      "Epoch 382/600:  64%|██████▎   | 381/600 [5:27:01<3:00:35, 49.48s/it, v_num=7x_1, total_loss_train=545, kl_local_train=92.8, metric_mi|age_categorical_train=0.314]"
     ]
    },
    {
     "name": "stdout",
     "output_type": "stream",
     "text": [
      "\r\n",
      "Epoch 382/600:  64%|██████▎   | 382/600 [5:27:51<2:59:31, 49.41s/it, v_num=7x_1, total_loss_train=545, kl_local_train=92.8, metric_mi|age_categorical_train=0.314]"
     ]
    },
    {
     "name": "stdout",
     "output_type": "stream",
     "text": [
      "\r\n",
      "Epoch 382/600:  64%|██████▎   | 382/600 [5:27:51<2:59:31, 49.41s/it, v_num=7x_1, total_loss_train=545, kl_local_train=92.8, metric_mi|age_categorical_train=0.314]"
     ]
    },
    {
     "name": "stdout",
     "output_type": "stream",
     "text": [
      "\r\n",
      "Epoch 383/600:  64%|██████▎   | 382/600 [5:27:51<2:59:31, 49.41s/it, v_num=7x_1, total_loss_train=545, kl_local_train=92.8, metric_mi|age_categorical_train=0.314]"
     ]
    },
    {
     "name": "stdout",
     "output_type": "stream",
     "text": [
      "\r\n",
      "Epoch 383/600:  64%|██████▍   | 383/600 [5:28:40<2:58:33, 49.37s/it, v_num=7x_1, total_loss_train=545, kl_local_train=92.8, metric_mi|age_categorical_train=0.314]"
     ]
    },
    {
     "name": "stdout",
     "output_type": "stream",
     "text": [
      "\r\n",
      "Epoch 383/600:  64%|██████▍   | 383/600 [5:28:40<2:58:33, 49.37s/it, v_num=7x_1, total_loss_train=545, kl_local_train=92.7, metric_mi|age_categorical_train=0.314]"
     ]
    },
    {
     "name": "stdout",
     "output_type": "stream",
     "text": [
      "\r\n",
      "Epoch 384/600:  64%|██████▍   | 383/600 [5:28:40<2:58:33, 49.37s/it, v_num=7x_1, total_loss_train=545, kl_local_train=92.7, metric_mi|age_categorical_train=0.314]"
     ]
    },
    {
     "name": "stdout",
     "output_type": "stream",
     "text": [
      "\r\n",
      "Epoch 384/600:  64%|██████▍   | 384/600 [5:29:29<2:57:23, 49.28s/it, v_num=7x_1, total_loss_train=545, kl_local_train=92.7, metric_mi|age_categorical_train=0.314]"
     ]
    },
    {
     "name": "stdout",
     "output_type": "stream",
     "text": [
      "\r\n",
      "Epoch 384/600:  64%|██████▍   | 384/600 [5:29:29<2:57:23, 49.28s/it, v_num=7x_1, total_loss_train=545, kl_local_train=92.8, metric_mi|age_categorical_train=0.314]"
     ]
    },
    {
     "name": "stdout",
     "output_type": "stream",
     "text": [
      "\r\n",
      "Epoch 385/600:  64%|██████▍   | 384/600 [5:29:29<2:57:23, 49.28s/it, v_num=7x_1, total_loss_train=545, kl_local_train=92.8, metric_mi|age_categorical_train=0.314]"
     ]
    },
    {
     "name": "stdout",
     "output_type": "stream",
     "text": [
      "\r\n",
      "Epoch 385/600:  64%|██████▍   | 385/600 [5:30:19<2:57:05, 49.42s/it, v_num=7x_1, total_loss_train=545, kl_local_train=92.8, metric_mi|age_categorical_train=0.314]"
     ]
    },
    {
     "name": "stdout",
     "output_type": "stream",
     "text": [
      "\r\n",
      "Epoch 385/600:  64%|██████▍   | 385/600 [5:30:19<2:57:05, 49.42s/it, v_num=7x_1, total_loss_train=545, kl_local_train=92.6, metric_mi|age_categorical_train=0.314]"
     ]
    },
    {
     "name": "stdout",
     "output_type": "stream",
     "text": [
      "\r\n",
      "Epoch 386/600:  64%|██████▍   | 385/600 [5:30:19<2:57:05, 49.42s/it, v_num=7x_1, total_loss_train=545, kl_local_train=92.6, metric_mi|age_categorical_train=0.314]"
     ]
    },
    {
     "name": "stdout",
     "output_type": "stream",
     "text": [
      "\r\n",
      "Epoch 386/600:  64%|██████▍   | 386/600 [5:31:09<2:56:45, 49.56s/it, v_num=7x_1, total_loss_train=545, kl_local_train=92.6, metric_mi|age_categorical_train=0.314]"
     ]
    },
    {
     "name": "stdout",
     "output_type": "stream",
     "text": [
      "\r\n",
      "Epoch 386/600:  64%|██████▍   | 386/600 [5:31:09<2:56:45, 49.56s/it, v_num=7x_1, total_loss_train=546, kl_local_train=92.3, metric_mi|age_categorical_train=0.319]"
     ]
    },
    {
     "name": "stdout",
     "output_type": "stream",
     "text": [
      "\r\n",
      "Epoch 387/600:  64%|██████▍   | 386/600 [5:31:09<2:56:45, 49.56s/it, v_num=7x_1, total_loss_train=546, kl_local_train=92.3, metric_mi|age_categorical_train=0.319]"
     ]
    },
    {
     "name": "stdout",
     "output_type": "stream",
     "text": [
      "\r\n",
      "Epoch 387/600:  64%|██████▍   | 387/600 [5:31:58<2:55:27, 49.43s/it, v_num=7x_1, total_loss_train=546, kl_local_train=92.3, metric_mi|age_categorical_train=0.319]"
     ]
    },
    {
     "name": "stdout",
     "output_type": "stream",
     "text": [
      "\r\n",
      "Epoch 387/600:  64%|██████▍   | 387/600 [5:31:58<2:55:27, 49.43s/it, v_num=7x_1, total_loss_train=546, kl_local_train=92, metric_mi|age_categorical_train=0.319]  "
     ]
    },
    {
     "name": "stdout",
     "output_type": "stream",
     "text": [
      "\r\n",
      "Epoch 388/600:  64%|██████▍   | 387/600 [5:31:58<2:55:27, 49.43s/it, v_num=7x_1, total_loss_train=546, kl_local_train=92, metric_mi|age_categorical_train=0.319]"
     ]
    },
    {
     "name": "stdout",
     "output_type": "stream",
     "text": [
      "\r\n",
      "Epoch 388/600:  65%|██████▍   | 388/600 [5:32:47<2:54:21, 49.34s/it, v_num=7x_1, total_loss_train=546, kl_local_train=92, metric_mi|age_categorical_train=0.319]"
     ]
    },
    {
     "name": "stdout",
     "output_type": "stream",
     "text": [
      "\r\n",
      "Epoch 388/600:  65%|██████▍   | 388/600 [5:32:47<2:54:21, 49.34s/it, v_num=7x_1, total_loss_train=546, kl_local_train=92, metric_mi|age_categorical_train=0.319]"
     ]
    },
    {
     "name": "stdout",
     "output_type": "stream",
     "text": [
      "\r\n",
      "Epoch 389/600:  65%|██████▍   | 388/600 [5:32:47<2:54:21, 49.34s/it, v_num=7x_1, total_loss_train=546, kl_local_train=92, metric_mi|age_categorical_train=0.319]"
     ]
    },
    {
     "name": "stdout",
     "output_type": "stream",
     "text": [
      "\r\n",
      "Epoch 389/600:  65%|██████▍   | 389/600 [5:33:36<2:53:20, 49.29s/it, v_num=7x_1, total_loss_train=546, kl_local_train=92, metric_mi|age_categorical_train=0.319]"
     ]
    },
    {
     "name": "stdout",
     "output_type": "stream",
     "text": [
      "\r\n",
      "Epoch 389/600:  65%|██████▍   | 389/600 [5:33:36<2:53:20, 49.29s/it, v_num=7x_1, total_loss_train=546, kl_local_train=91.6, metric_mi|age_categorical_train=0.319]"
     ]
    },
    {
     "name": "stdout",
     "output_type": "stream",
     "text": [
      "\r\n",
      "Epoch 390/600:  65%|██████▍   | 389/600 [5:33:36<2:53:20, 49.29s/it, v_num=7x_1, total_loss_train=546, kl_local_train=91.6, metric_mi|age_categorical_train=0.319]"
     ]
    },
    {
     "name": "stdout",
     "output_type": "stream",
     "text": [
      "\r\n",
      "Epoch 390/600:  65%|██████▌   | 390/600 [5:34:26<2:52:44, 49.36s/it, v_num=7x_1, total_loss_train=546, kl_local_train=91.6, metric_mi|age_categorical_train=0.319]"
     ]
    },
    {
     "name": "stdout",
     "output_type": "stream",
     "text": [
      "\r\n",
      "Epoch 390/600:  65%|██████▌   | 390/600 [5:34:26<2:52:44, 49.36s/it, v_num=7x_1, total_loss_train=546, kl_local_train=91.4, metric_mi|age_categorical_train=0.319]"
     ]
    },
    {
     "name": "stdout",
     "output_type": "stream",
     "text": [
      "\r\n",
      "Epoch 391/600:  65%|██████▌   | 390/600 [5:34:26<2:52:44, 49.36s/it, v_num=7x_1, total_loss_train=546, kl_local_train=91.4, metric_mi|age_categorical_train=0.319]"
     ]
    },
    {
     "name": "stdout",
     "output_type": "stream",
     "text": [
      "\r\n",
      "Epoch 391/600:  65%|██████▌   | 391/600 [5:35:15<2:52:20, 49.47s/it, v_num=7x_1, total_loss_train=546, kl_local_train=91.4, metric_mi|age_categorical_train=0.319]"
     ]
    },
    {
     "name": "stdout",
     "output_type": "stream",
     "text": [
      "\r\n",
      "Epoch 391/600:  65%|██████▌   | 391/600 [5:35:15<2:52:20, 49.47s/it, v_num=7x_1, total_loss_train=546, kl_local_train=91.6, metric_mi|age_categorical_train=0.326]"
     ]
    },
    {
     "name": "stdout",
     "output_type": "stream",
     "text": [
      "\r\n",
      "Epoch 392/600:  65%|██████▌   | 391/600 [5:35:15<2:52:20, 49.47s/it, v_num=7x_1, total_loss_train=546, kl_local_train=91.6, metric_mi|age_categorical_train=0.326]"
     ]
    },
    {
     "name": "stdout",
     "output_type": "stream",
     "text": [
      "\r\n",
      "Epoch 392/600:  65%|██████▌   | 392/600 [5:36:04<2:50:39, 49.23s/it, v_num=7x_1, total_loss_train=546, kl_local_train=91.6, metric_mi|age_categorical_train=0.326]"
     ]
    },
    {
     "name": "stdout",
     "output_type": "stream",
     "text": [
      "\r\n",
      "Epoch 392/600:  65%|██████▌   | 392/600 [5:36:04<2:50:39, 49.23s/it, v_num=7x_1, total_loss_train=546, kl_local_train=91.4, metric_mi|age_categorical_train=0.326]"
     ]
    },
    {
     "name": "stdout",
     "output_type": "stream",
     "text": [
      "\r\n",
      "Epoch 393/600:  65%|██████▌   | 392/600 [5:36:04<2:50:39, 49.23s/it, v_num=7x_1, total_loss_train=546, kl_local_train=91.4, metric_mi|age_categorical_train=0.326]"
     ]
    },
    {
     "name": "stdout",
     "output_type": "stream",
     "text": [
      "\r\n",
      "Epoch 393/600:  66%|██████▌   | 393/600 [5:36:53<2:49:17, 49.07s/it, v_num=7x_1, total_loss_train=546, kl_local_train=91.4, metric_mi|age_categorical_train=0.326]"
     ]
    },
    {
     "name": "stdout",
     "output_type": "stream",
     "text": [
      "\r\n",
      "Epoch 393/600:  66%|██████▌   | 393/600 [5:36:53<2:49:17, 49.07s/it, v_num=7x_1, total_loss_train=546, kl_local_train=91.7, metric_mi|age_categorical_train=0.326]"
     ]
    },
    {
     "name": "stdout",
     "output_type": "stream",
     "text": [
      "\r\n",
      "Epoch 394/600:  66%|██████▌   | 393/600 [5:36:53<2:49:17, 49.07s/it, v_num=7x_1, total_loss_train=546, kl_local_train=91.7, metric_mi|age_categorical_train=0.326]"
     ]
    },
    {
     "name": "stdout",
     "output_type": "stream",
     "text": [
      "\r\n",
      "Epoch 394/600:  66%|██████▌   | 394/600 [5:37:41<2:48:13, 49.00s/it, v_num=7x_1, total_loss_train=546, kl_local_train=91.7, metric_mi|age_categorical_train=0.326]"
     ]
    },
    {
     "name": "stdout",
     "output_type": "stream",
     "text": [
      "\r\n",
      "Epoch 394/600:  66%|██████▌   | 394/600 [5:37:41<2:48:13, 49.00s/it, v_num=7x_1, total_loss_train=546, kl_local_train=90.9, metric_mi|age_categorical_train=0.326]"
     ]
    },
    {
     "name": "stdout",
     "output_type": "stream",
     "text": [
      "\r\n",
      "Epoch 395/600:  66%|██████▌   | 394/600 [5:37:41<2:48:13, 49.00s/it, v_num=7x_1, total_loss_train=546, kl_local_train=90.9, metric_mi|age_categorical_train=0.326]"
     ]
    },
    {
     "name": "stdout",
     "output_type": "stream",
     "text": [
      "\r\n",
      "Epoch 395/600:  66%|██████▌   | 395/600 [5:38:30<2:47:22, 48.99s/it, v_num=7x_1, total_loss_train=546, kl_local_train=90.9, metric_mi|age_categorical_train=0.326]"
     ]
    },
    {
     "name": "stdout",
     "output_type": "stream",
     "text": [
      "\r\n",
      "Epoch 395/600:  66%|██████▌   | 395/600 [5:38:30<2:47:22, 48.99s/it, v_num=7x_1, total_loss_train=546, kl_local_train=91.1, metric_mi|age_categorical_train=0.326]"
     ]
    },
    {
     "name": "stdout",
     "output_type": "stream",
     "text": [
      "\r\n",
      "Epoch 396/600:  66%|██████▌   | 395/600 [5:38:31<2:47:22, 48.99s/it, v_num=7x_1, total_loss_train=546, kl_local_train=91.1, metric_mi|age_categorical_train=0.326]"
     ]
    },
    {
     "name": "stdout",
     "output_type": "stream",
     "text": [
      "\r\n",
      "Epoch 396/600:  66%|██████▌   | 396/600 [5:39:20<2:47:29, 49.26s/it, v_num=7x_1, total_loss_train=546, kl_local_train=91.1, metric_mi|age_categorical_train=0.326]"
     ]
    },
    {
     "name": "stdout",
     "output_type": "stream",
     "text": [
      "\r\n",
      "Epoch 396/600:  66%|██████▌   | 396/600 [5:39:20<2:47:29, 49.26s/it, v_num=7x_1, total_loss_train=546, kl_local_train=91.1, metric_mi|age_categorical_train=0.324]"
     ]
    },
    {
     "name": "stdout",
     "output_type": "stream",
     "text": [
      "\r\n",
      "Epoch 397/600:  66%|██████▌   | 396/600 [5:39:20<2:47:29, 49.26s/it, v_num=7x_1, total_loss_train=546, kl_local_train=91.1, metric_mi|age_categorical_train=0.324]"
     ]
    },
    {
     "name": "stdout",
     "output_type": "stream",
     "text": [
      "\r\n",
      "Epoch 397/600:  66%|██████▌   | 397/600 [5:40:09<2:46:20, 49.16s/it, v_num=7x_1, total_loss_train=546, kl_local_train=91.1, metric_mi|age_categorical_train=0.324]"
     ]
    },
    {
     "name": "stdout",
     "output_type": "stream",
     "text": [
      "\r\n",
      "Epoch 397/600:  66%|██████▌   | 397/600 [5:40:09<2:46:20, 49.16s/it, v_num=7x_1, total_loss_train=546, kl_local_train=90.8, metric_mi|age_categorical_train=0.324]"
     ]
    },
    {
     "name": "stdout",
     "output_type": "stream",
     "text": [
      "\r\n",
      "Epoch 398/600:  66%|██████▌   | 397/600 [5:40:09<2:46:20, 49.16s/it, v_num=7x_1, total_loss_train=546, kl_local_train=90.8, metric_mi|age_categorical_train=0.324]"
     ]
    },
    {
     "name": "stdout",
     "output_type": "stream",
     "text": [
      "\r\n",
      "Epoch 398/600:  66%|██████▋   | 398/600 [5:40:58<2:45:12, 49.07s/it, v_num=7x_1, total_loss_train=546, kl_local_train=90.8, metric_mi|age_categorical_train=0.324]"
     ]
    },
    {
     "name": "stdout",
     "output_type": "stream",
     "text": [
      "\r\n",
      "Epoch 398/600:  66%|██████▋   | 398/600 [5:40:58<2:45:12, 49.07s/it, v_num=7x_1, total_loss_train=546, kl_local_train=91, metric_mi|age_categorical_train=0.324]  "
     ]
    },
    {
     "name": "stdout",
     "output_type": "stream",
     "text": [
      "\r\n",
      "Epoch 399/600:  66%|██████▋   | 398/600 [5:40:58<2:45:12, 49.07s/it, v_num=7x_1, total_loss_train=546, kl_local_train=91, metric_mi|age_categorical_train=0.324]"
     ]
    },
    {
     "name": "stdout",
     "output_type": "stream",
     "text": [
      "\r\n",
      "Epoch 399/600:  66%|██████▋   | 399/600 [5:41:47<2:44:18, 49.05s/it, v_num=7x_1, total_loss_train=546, kl_local_train=91, metric_mi|age_categorical_train=0.324]"
     ]
    },
    {
     "name": "stdout",
     "output_type": "stream",
     "text": [
      "\r\n",
      "Epoch 399/600:  66%|██████▋   | 399/600 [5:41:47<2:44:18, 49.05s/it, v_num=7x_1, total_loss_train=547, kl_local_train=90.5, metric_mi|age_categorical_train=0.324]"
     ]
    },
    {
     "name": "stdout",
     "output_type": "stream",
     "text": [
      "\r\n",
      "Epoch 400/600:  66%|██████▋   | 399/600 [5:41:47<2:44:18, 49.05s/it, v_num=7x_1, total_loss_train=547, kl_local_train=90.5, metric_mi|age_categorical_train=0.324]"
     ]
    },
    {
     "name": "stdout",
     "output_type": "stream",
     "text": [
      "\r\n",
      "Epoch 400/600:  67%|██████▋   | 400/600 [5:42:36<2:43:28, 49.04s/it, v_num=7x_1, total_loss_train=547, kl_local_train=90.5, metric_mi|age_categorical_train=0.324]"
     ]
    },
    {
     "name": "stdout",
     "output_type": "stream",
     "text": [
      "\r\n",
      "Epoch 400/600:  67%|██████▋   | 400/600 [5:42:36<2:43:28, 49.04s/it, v_num=7x_1, total_loss_train=547, kl_local_train=90.9, metric_mi|age_categorical_train=0.324]"
     ]
    },
    {
     "name": "stdout",
     "output_type": "stream",
     "text": [
      "\r\n",
      "Epoch 401/600:  67%|██████▋   | 400/600 [5:42:37<2:43:28, 49.04s/it, v_num=7x_1, total_loss_train=547, kl_local_train=90.9, metric_mi|age_categorical_train=0.324]"
     ]
    },
    {
     "name": "stdout",
     "output_type": "stream",
     "text": [
      "\r\n",
      "Epoch 401/600:  67%|██████▋   | 401/600 [5:43:26<2:43:16, 49.23s/it, v_num=7x_1, total_loss_train=547, kl_local_train=90.9, metric_mi|age_categorical_train=0.324]"
     ]
    },
    {
     "name": "stdout",
     "output_type": "stream",
     "text": [
      "\r\n",
      "Epoch 401/600:  67%|██████▋   | 401/600 [5:43:26<2:43:16, 49.23s/it, v_num=7x_1, total_loss_train=547, kl_local_train=90.5, metric_mi|age_categorical_train=0.325]"
     ]
    },
    {
     "name": "stdout",
     "output_type": "stream",
     "text": [
      "\r\n",
      "Epoch 402/600:  67%|██████▋   | 401/600 [5:43:26<2:43:16, 49.23s/it, v_num=7x_1, total_loss_train=547, kl_local_train=90.5, metric_mi|age_categorical_train=0.325]"
     ]
    },
    {
     "name": "stdout",
     "output_type": "stream",
     "text": [
      "\r\n",
      "Epoch 402/600:  67%|██████▋   | 402/600 [5:44:15<2:42:18, 49.18s/it, v_num=7x_1, total_loss_train=547, kl_local_train=90.5, metric_mi|age_categorical_train=0.325]"
     ]
    },
    {
     "name": "stdout",
     "output_type": "stream",
     "text": [
      "\r\n",
      "Epoch 402/600:  67%|██████▋   | 402/600 [5:44:15<2:42:18, 49.18s/it, v_num=7x_1, total_loss_train=547, kl_local_train=90.2, metric_mi|age_categorical_train=0.325]"
     ]
    },
    {
     "name": "stdout",
     "output_type": "stream",
     "text": [
      "\r\n",
      "Epoch 403/600:  67%|██████▋   | 402/600 [5:44:15<2:42:18, 49.18s/it, v_num=7x_1, total_loss_train=547, kl_local_train=90.2, metric_mi|age_categorical_train=0.325]"
     ]
    },
    {
     "name": "stdout",
     "output_type": "stream",
     "text": [
      "\r\n",
      "Epoch 403/600:  67%|██████▋   | 403/600 [5:45:04<2:41:15, 49.11s/it, v_num=7x_1, total_loss_train=547, kl_local_train=90.2, metric_mi|age_categorical_train=0.325]"
     ]
    },
    {
     "name": "stdout",
     "output_type": "stream",
     "text": [
      "\r\n",
      "Epoch 403/600:  67%|██████▋   | 403/600 [5:45:04<2:41:15, 49.11s/it, v_num=7x_1, total_loss_train=547, kl_local_train=90.2, metric_mi|age_categorical_train=0.325]"
     ]
    },
    {
     "name": "stdout",
     "output_type": "stream",
     "text": [
      "\r\n",
      "Epoch 404/600:  67%|██████▋   | 403/600 [5:45:04<2:41:15, 49.11s/it, v_num=7x_1, total_loss_train=547, kl_local_train=90.2, metric_mi|age_categorical_train=0.325]"
     ]
    },
    {
     "name": "stdout",
     "output_type": "stream",
     "text": [
      "\r\n",
      "Epoch 404/600:  67%|██████▋   | 404/600 [5:45:53<2:40:15, 49.06s/it, v_num=7x_1, total_loss_train=547, kl_local_train=90.2, metric_mi|age_categorical_train=0.325]"
     ]
    },
    {
     "name": "stdout",
     "output_type": "stream",
     "text": [
      "\r\n",
      "Epoch 404/600:  67%|██████▋   | 404/600 [5:45:53<2:40:15, 49.06s/it, v_num=7x_1, total_loss_train=547, kl_local_train=90.1, metric_mi|age_categorical_train=0.325]"
     ]
    },
    {
     "name": "stdout",
     "output_type": "stream",
     "text": [
      "\r\n",
      "Epoch 405/600:  67%|██████▋   | 404/600 [5:45:53<2:40:15, 49.06s/it, v_num=7x_1, total_loss_train=547, kl_local_train=90.1, metric_mi|age_categorical_train=0.325]"
     ]
    },
    {
     "name": "stdout",
     "output_type": "stream",
     "text": [
      "\r\n",
      "Epoch 405/600:  68%|██████▊   | 405/600 [5:46:42<2:39:19, 49.03s/it, v_num=7x_1, total_loss_train=547, kl_local_train=90.1, metric_mi|age_categorical_train=0.325]"
     ]
    },
    {
     "name": "stdout",
     "output_type": "stream",
     "text": [
      "\r\n",
      "Epoch 405/600:  68%|██████▊   | 405/600 [5:46:42<2:39:19, 49.03s/it, v_num=7x_1, total_loss_train=547, kl_local_train=90, metric_mi|age_categorical_train=0.325]  "
     ]
    },
    {
     "name": "stdout",
     "output_type": "stream",
     "text": [
      "\r\n",
      "Epoch 406/600:  68%|██████▊   | 405/600 [5:46:42<2:39:19, 49.03s/it, v_num=7x_1, total_loss_train=547, kl_local_train=90, metric_mi|age_categorical_train=0.325]"
     ]
    },
    {
     "name": "stdout",
     "output_type": "stream",
     "text": [
      "\r\n",
      "Epoch 406/600:  68%|██████▊   | 406/600 [5:47:32<2:39:21, 49.29s/it, v_num=7x_1, total_loss_train=547, kl_local_train=90, metric_mi|age_categorical_train=0.325]"
     ]
    },
    {
     "name": "stdout",
     "output_type": "stream",
     "text": [
      "\r\n",
      "Epoch 406/600:  68%|██████▊   | 406/600 [5:47:32<2:39:21, 49.29s/it, v_num=7x_1, total_loss_train=547, kl_local_train=89.5, metric_mi|age_categorical_train=0.331]"
     ]
    },
    {
     "name": "stdout",
     "output_type": "stream",
     "text": [
      "\r\n",
      "Epoch 407/600:  68%|██████▊   | 406/600 [5:47:32<2:39:21, 49.29s/it, v_num=7x_1, total_loss_train=547, kl_local_train=89.5, metric_mi|age_categorical_train=0.331]"
     ]
    },
    {
     "name": "stdout",
     "output_type": "stream",
     "text": [
      "\r\n",
      "Epoch 407/600:  68%|██████▊   | 407/600 [5:48:21<2:38:16, 49.21s/it, v_num=7x_1, total_loss_train=547, kl_local_train=89.5, metric_mi|age_categorical_train=0.331]"
     ]
    },
    {
     "name": "stdout",
     "output_type": "stream",
     "text": [
      "\r\n",
      "Epoch 407/600:  68%|██████▊   | 407/600 [5:48:21<2:38:16, 49.21s/it, v_num=7x_1, total_loss_train=547, kl_local_train=89.3, metric_mi|age_categorical_train=0.331]"
     ]
    },
    {
     "name": "stdout",
     "output_type": "stream",
     "text": [
      "\r\n",
      "Epoch 408/600:  68%|██████▊   | 407/600 [5:48:21<2:38:16, 49.21s/it, v_num=7x_1, total_loss_train=547, kl_local_train=89.3, metric_mi|age_categorical_train=0.331]"
     ]
    },
    {
     "name": "stdout",
     "output_type": "stream",
     "text": [
      "\r\n",
      "Epoch 408/600:  68%|██████▊   | 408/600 [5:49:10<2:37:23, 49.18s/it, v_num=7x_1, total_loss_train=547, kl_local_train=89.3, metric_mi|age_categorical_train=0.331]"
     ]
    },
    {
     "name": "stdout",
     "output_type": "stream",
     "text": [
      "\r\n",
      "Epoch 408/600:  68%|██████▊   | 408/600 [5:49:10<2:37:23, 49.18s/it, v_num=7x_1, total_loss_train=547, kl_local_train=89.3, metric_mi|age_categorical_train=0.331]"
     ]
    },
    {
     "name": "stdout",
     "output_type": "stream",
     "text": [
      "\r\n",
      "Epoch 409/600:  68%|██████▊   | 408/600 [5:49:10<2:37:23, 49.18s/it, v_num=7x_1, total_loss_train=547, kl_local_train=89.3, metric_mi|age_categorical_train=0.331]"
     ]
    },
    {
     "name": "stdout",
     "output_type": "stream",
     "text": [
      "\r\n",
      "Epoch 409/600:  68%|██████▊   | 409/600 [5:49:59<2:36:14, 49.08s/it, v_num=7x_1, total_loss_train=547, kl_local_train=89.3, metric_mi|age_categorical_train=0.331]"
     ]
    },
    {
     "name": "stdout",
     "output_type": "stream",
     "text": [
      "\r\n",
      "Epoch 409/600:  68%|██████▊   | 409/600 [5:49:59<2:36:14, 49.08s/it, v_num=7x_1, total_loss_train=547, kl_local_train=89.5, metric_mi|age_categorical_train=0.331]"
     ]
    },
    {
     "name": "stdout",
     "output_type": "stream",
     "text": [
      "\r\n",
      "Epoch 410/600:  68%|██████▊   | 409/600 [5:49:59<2:36:14, 49.08s/it, v_num=7x_1, total_loss_train=547, kl_local_train=89.5, metric_mi|age_categorical_train=0.331]"
     ]
    },
    {
     "name": "stdout",
     "output_type": "stream",
     "text": [
      "\r\n",
      "Epoch 410/600:  68%|██████▊   | 410/600 [5:50:48<2:35:24, 49.07s/it, v_num=7x_1, total_loss_train=547, kl_local_train=89.5, metric_mi|age_categorical_train=0.331]"
     ]
    },
    {
     "name": "stdout",
     "output_type": "stream",
     "text": [
      "\r\n",
      "Epoch 410/600:  68%|██████▊   | 410/600 [5:50:48<2:35:24, 49.07s/it, v_num=7x_1, total_loss_train=547, kl_local_train=89.5, metric_mi|age_categorical_train=0.331]"
     ]
    },
    {
     "name": "stdout",
     "output_type": "stream",
     "text": [
      "\r\n",
      "Epoch 411/600:  68%|██████▊   | 410/600 [5:50:48<2:35:24, 49.07s/it, v_num=7x_1, total_loss_train=547, kl_local_train=89.5, metric_mi|age_categorical_train=0.331]"
     ]
    },
    {
     "name": "stdout",
     "output_type": "stream",
     "text": [
      "\r\n",
      "Epoch 411/600:  68%|██████▊   | 411/600 [5:51:37<2:34:59, 49.20s/it, v_num=7x_1, total_loss_train=547, kl_local_train=89.5, metric_mi|age_categorical_train=0.331]"
     ]
    },
    {
     "name": "stdout",
     "output_type": "stream",
     "text": [
      "\r\n",
      "Epoch 411/600:  68%|██████▊   | 411/600 [5:51:37<2:34:59, 49.20s/it, v_num=7x_1, total_loss_train=547, kl_local_train=89.1, metric_mi|age_categorical_train=0.331]"
     ]
    },
    {
     "name": "stdout",
     "output_type": "stream",
     "text": [
      "\r\n",
      "Epoch 412/600:  68%|██████▊   | 411/600 [5:51:37<2:34:59, 49.20s/it, v_num=7x_1, total_loss_train=547, kl_local_train=89.1, metric_mi|age_categorical_train=0.331]"
     ]
    },
    {
     "name": "stdout",
     "output_type": "stream",
     "text": [
      "\r\n",
      "Epoch 412/600:  69%|██████▊   | 412/600 [5:52:26<2:33:31, 49.00s/it, v_num=7x_1, total_loss_train=547, kl_local_train=89.1, metric_mi|age_categorical_train=0.331]"
     ]
    },
    {
     "name": "stdout",
     "output_type": "stream",
     "text": [
      "\r\n",
      "Epoch 412/600:  69%|██████▊   | 412/600 [5:52:26<2:33:31, 49.00s/it, v_num=7x_1, total_loss_train=548, kl_local_train=89.1, metric_mi|age_categorical_train=0.331]"
     ]
    },
    {
     "name": "stdout",
     "output_type": "stream",
     "text": [
      "\r\n",
      "Epoch 413/600:  69%|██████▊   | 412/600 [5:52:26<2:33:31, 49.00s/it, v_num=7x_1, total_loss_train=548, kl_local_train=89.1, metric_mi|age_categorical_train=0.331]"
     ]
    },
    {
     "name": "stdout",
     "output_type": "stream",
     "text": [
      "\r\n",
      "Epoch 413/600:  69%|██████▉   | 413/600 [5:53:14<2:32:14, 48.85s/it, v_num=7x_1, total_loss_train=548, kl_local_train=89.1, metric_mi|age_categorical_train=0.331]"
     ]
    },
    {
     "name": "stdout",
     "output_type": "stream",
     "text": [
      "\r\n",
      "Epoch 413/600:  69%|██████▉   | 413/600 [5:53:14<2:32:14, 48.85s/it, v_num=7x_1, total_loss_train=548, kl_local_train=88.9, metric_mi|age_categorical_train=0.331]"
     ]
    },
    {
     "name": "stdout",
     "output_type": "stream",
     "text": [
      "\r\n",
      "Epoch 414/600:  69%|██████▉   | 413/600 [5:53:14<2:32:14, 48.85s/it, v_num=7x_1, total_loss_train=548, kl_local_train=88.9, metric_mi|age_categorical_train=0.331]"
     ]
    },
    {
     "name": "stdout",
     "output_type": "stream",
     "text": [
      "\r\n",
      "Epoch 414/600:  69%|██████▉   | 414/600 [5:54:03<2:31:08, 48.75s/it, v_num=7x_1, total_loss_train=548, kl_local_train=88.9, metric_mi|age_categorical_train=0.331]"
     ]
    },
    {
     "name": "stdout",
     "output_type": "stream",
     "text": [
      "\r\n",
      "Epoch 414/600:  69%|██████▉   | 414/600 [5:54:03<2:31:08, 48.75s/it, v_num=7x_1, total_loss_train=548, kl_local_train=88.6, metric_mi|age_categorical_train=0.331]"
     ]
    },
    {
     "name": "stdout",
     "output_type": "stream",
     "text": [
      "\r\n",
      "Epoch 415/600:  69%|██████▉   | 414/600 [5:54:03<2:31:08, 48.75s/it, v_num=7x_1, total_loss_train=548, kl_local_train=88.6, metric_mi|age_categorical_train=0.331]"
     ]
    },
    {
     "name": "stdout",
     "output_type": "stream",
     "text": [
      "\r\n",
      "Epoch 415/600:  69%|██████▉   | 415/600 [5:54:51<2:30:16, 48.74s/it, v_num=7x_1, total_loss_train=548, kl_local_train=88.6, metric_mi|age_categorical_train=0.331]"
     ]
    },
    {
     "name": "stdout",
     "output_type": "stream",
     "text": [
      "\r\n",
      "Epoch 415/600:  69%|██████▉   | 415/600 [5:54:51<2:30:16, 48.74s/it, v_num=7x_1, total_loss_train=548, kl_local_train=88.6, metric_mi|age_categorical_train=0.331]"
     ]
    },
    {
     "name": "stdout",
     "output_type": "stream",
     "text": [
      "\r\n",
      "Epoch 416/600:  69%|██████▉   | 415/600 [5:54:52<2:30:16, 48.74s/it, v_num=7x_1, total_loss_train=548, kl_local_train=88.6, metric_mi|age_categorical_train=0.331]"
     ]
    },
    {
     "name": "stdout",
     "output_type": "stream",
     "text": [
      "\r\n",
      "Epoch 416/600:  69%|██████▉   | 416/600 [5:55:41<2:30:15, 49.00s/it, v_num=7x_1, total_loss_train=548, kl_local_train=88.6, metric_mi|age_categorical_train=0.331]"
     ]
    },
    {
     "name": "stdout",
     "output_type": "stream",
     "text": [
      "\r\n",
      "Epoch 416/600:  69%|██████▉   | 416/600 [5:55:41<2:30:15, 49.00s/it, v_num=7x_1, total_loss_train=548, kl_local_train=88.2, metric_mi|age_categorical_train=0.332]"
     ]
    },
    {
     "name": "stdout",
     "output_type": "stream",
     "text": [
      "\r\n",
      "Epoch 417/600:  69%|██████▉   | 416/600 [5:55:41<2:30:15, 49.00s/it, v_num=7x_1, total_loss_train=548, kl_local_train=88.2, metric_mi|age_categorical_train=0.332]"
     ]
    },
    {
     "name": "stdout",
     "output_type": "stream",
     "text": [
      "\r\n",
      "Epoch 417/600:  70%|██████▉   | 417/600 [5:56:30<2:29:08, 48.90s/it, v_num=7x_1, total_loss_train=548, kl_local_train=88.2, metric_mi|age_categorical_train=0.332]"
     ]
    },
    {
     "name": "stdout",
     "output_type": "stream",
     "text": [
      "\r\n",
      "Epoch 417/600:  70%|██████▉   | 417/600 [5:56:30<2:29:08, 48.90s/it, v_num=7x_1, total_loss_train=548, kl_local_train=88.4, metric_mi|age_categorical_train=0.332]"
     ]
    },
    {
     "name": "stdout",
     "output_type": "stream",
     "text": [
      "\r\n",
      "Epoch 418/600:  70%|██████▉   | 417/600 [5:56:30<2:29:08, 48.90s/it, v_num=7x_1, total_loss_train=548, kl_local_train=88.4, metric_mi|age_categorical_train=0.332]"
     ]
    },
    {
     "name": "stdout",
     "output_type": "stream",
     "text": [
      "\r\n",
      "Epoch 418/600:  70%|██████▉   | 418/600 [5:57:19<2:28:18, 48.89s/it, v_num=7x_1, total_loss_train=548, kl_local_train=88.4, metric_mi|age_categorical_train=0.332]"
     ]
    },
    {
     "name": "stdout",
     "output_type": "stream",
     "text": [
      "\r\n",
      "Epoch 418/600:  70%|██████▉   | 418/600 [5:57:19<2:28:18, 48.89s/it, v_num=7x_1, total_loss_train=548, kl_local_train=88.3, metric_mi|age_categorical_train=0.332]"
     ]
    },
    {
     "name": "stdout",
     "output_type": "stream",
     "text": [
      "\r\n",
      "Epoch 419/600:  70%|██████▉   | 418/600 [5:57:19<2:28:18, 48.89s/it, v_num=7x_1, total_loss_train=548, kl_local_train=88.3, metric_mi|age_categorical_train=0.332]"
     ]
    },
    {
     "name": "stdout",
     "output_type": "stream",
     "text": [
      "\r\n",
      "Epoch 419/600:  70%|██████▉   | 419/600 [5:58:07<2:27:18, 48.83s/it, v_num=7x_1, total_loss_train=548, kl_local_train=88.3, metric_mi|age_categorical_train=0.332]"
     ]
    },
    {
     "name": "stdout",
     "output_type": "stream",
     "text": [
      "\r\n",
      "Epoch 419/600:  70%|██████▉   | 419/600 [5:58:07<2:27:18, 48.83s/it, v_num=7x_1, total_loss_train=548, kl_local_train=88.4, metric_mi|age_categorical_train=0.332]"
     ]
    },
    {
     "name": "stdout",
     "output_type": "stream",
     "text": [
      "\r\n",
      "Epoch 420/600:  70%|██████▉   | 419/600 [5:58:07<2:27:18, 48.83s/it, v_num=7x_1, total_loss_train=548, kl_local_train=88.4, metric_mi|age_categorical_train=0.332]"
     ]
    },
    {
     "name": "stdout",
     "output_type": "stream",
     "text": [
      "\r\n",
      "Epoch 420/600:  70%|███████   | 420/600 [5:58:56<2:26:34, 48.86s/it, v_num=7x_1, total_loss_train=548, kl_local_train=88.4, metric_mi|age_categorical_train=0.332]"
     ]
    },
    {
     "name": "stdout",
     "output_type": "stream",
     "text": [
      "\r\n",
      "Epoch 420/600:  70%|███████   | 420/600 [5:58:56<2:26:34, 48.86s/it, v_num=7x_1, total_loss_train=549, kl_local_train=88.2, metric_mi|age_categorical_train=0.332]"
     ]
    },
    {
     "name": "stdout",
     "output_type": "stream",
     "text": [
      "\r\n",
      "Epoch 421/600:  70%|███████   | 420/600 [5:58:57<2:26:34, 48.86s/it, v_num=7x_1, total_loss_train=549, kl_local_train=88.2, metric_mi|age_categorical_train=0.332]"
     ]
    },
    {
     "name": "stdout",
     "output_type": "stream",
     "text": [
      "\r\n",
      "Epoch 421/600:  70%|███████   | 421/600 [5:59:46<2:26:35, 49.14s/it, v_num=7x_1, total_loss_train=549, kl_local_train=88.2, metric_mi|age_categorical_train=0.332]"
     ]
    },
    {
     "name": "stdout",
     "output_type": "stream",
     "text": [
      "\r\n",
      "Epoch 421/600:  70%|███████   | 421/600 [5:59:46<2:26:35, 49.14s/it, v_num=7x_1, total_loss_train=549, kl_local_train=88.4, metric_mi|age_categorical_train=0.337]"
     ]
    },
    {
     "name": "stdout",
     "output_type": "stream",
     "text": [
      "\r\n",
      "Epoch 422/600:  70%|███████   | 421/600 [5:59:46<2:26:35, 49.14s/it, v_num=7x_1, total_loss_train=549, kl_local_train=88.4, metric_mi|age_categorical_train=0.337]"
     ]
    },
    {
     "name": "stdout",
     "output_type": "stream",
     "text": [
      "\r\n",
      "Epoch 422/600:  70%|███████   | 422/600 [6:00:35<2:25:32, 49.06s/it, v_num=7x_1, total_loss_train=549, kl_local_train=88.4, metric_mi|age_categorical_train=0.337]"
     ]
    },
    {
     "name": "stdout",
     "output_type": "stream",
     "text": [
      "\r\n",
      "Epoch 422/600:  70%|███████   | 422/600 [6:00:35<2:25:32, 49.06s/it, v_num=7x_1, total_loss_train=548, kl_local_train=87.7, metric_mi|age_categorical_train=0.337]"
     ]
    },
    {
     "name": "stdout",
     "output_type": "stream",
     "text": [
      "\r\n",
      "Epoch 423/600:  70%|███████   | 422/600 [6:00:35<2:25:32, 49.06s/it, v_num=7x_1, total_loss_train=548, kl_local_train=87.7, metric_mi|age_categorical_train=0.337]"
     ]
    },
    {
     "name": "stdout",
     "output_type": "stream",
     "text": [
      "\r\n",
      "Epoch 423/600:  70%|███████   | 423/600 [6:01:24<2:24:30, 48.98s/it, v_num=7x_1, total_loss_train=548, kl_local_train=87.7, metric_mi|age_categorical_train=0.337]"
     ]
    },
    {
     "name": "stdout",
     "output_type": "stream",
     "text": [
      "\r\n",
      "Epoch 423/600:  70%|███████   | 423/600 [6:01:24<2:24:30, 48.98s/it, v_num=7x_1, total_loss_train=549, kl_local_train=87.7, metric_mi|age_categorical_train=0.337]"
     ]
    },
    {
     "name": "stdout",
     "output_type": "stream",
     "text": [
      "\r\n",
      "Epoch 424/600:  70%|███████   | 423/600 [6:01:24<2:24:30, 48.98s/it, v_num=7x_1, total_loss_train=549, kl_local_train=87.7, metric_mi|age_categorical_train=0.337]"
     ]
    },
    {
     "name": "stdout",
     "output_type": "stream",
     "text": [
      "\r\n",
      "Epoch 424/600:  71%|███████   | 424/600 [6:02:12<2:23:30, 48.92s/it, v_num=7x_1, total_loss_train=549, kl_local_train=87.7, metric_mi|age_categorical_train=0.337]"
     ]
    },
    {
     "name": "stdout",
     "output_type": "stream",
     "text": [
      "\r\n",
      "Epoch 424/600:  71%|███████   | 424/600 [6:02:12<2:23:30, 48.92s/it, v_num=7x_1, total_loss_train=548, kl_local_train=87.1, metric_mi|age_categorical_train=0.337]"
     ]
    },
    {
     "name": "stdout",
     "output_type": "stream",
     "text": [
      "\r\n",
      "Epoch 425/600:  71%|███████   | 424/600 [6:02:12<2:23:30, 48.92s/it, v_num=7x_1, total_loss_train=548, kl_local_train=87.1, metric_mi|age_categorical_train=0.337]"
     ]
    },
    {
     "name": "stdout",
     "output_type": "stream",
     "text": [
      "\r\n",
      "Epoch 425/600:  71%|███████   | 425/600 [6:03:01<2:22:40, 48.92s/it, v_num=7x_1, total_loss_train=548, kl_local_train=87.1, metric_mi|age_categorical_train=0.337]"
     ]
    },
    {
     "name": "stdout",
     "output_type": "stream",
     "text": [
      "\r\n",
      "Epoch 425/600:  71%|███████   | 425/600 [6:03:01<2:22:40, 48.92s/it, v_num=7x_1, total_loss_train=549, kl_local_train=86.9, metric_mi|age_categorical_train=0.337]"
     ]
    },
    {
     "name": "stdout",
     "output_type": "stream",
     "text": [
      "\r\n",
      "Epoch 426/600:  71%|███████   | 425/600 [6:03:02<2:22:40, 48.92s/it, v_num=7x_1, total_loss_train=549, kl_local_train=86.9, metric_mi|age_categorical_train=0.337]"
     ]
    },
    {
     "name": "stdout",
     "output_type": "stream",
     "text": [
      "\r\n",
      "Epoch 426/600:  71%|███████   | 426/600 [6:03:51<2:22:23, 49.10s/it, v_num=7x_1, total_loss_train=549, kl_local_train=86.9, metric_mi|age_categorical_train=0.337]"
     ]
    },
    {
     "name": "stdout",
     "output_type": "stream",
     "text": [
      "\r\n",
      "Epoch 426/600:  71%|███████   | 426/600 [6:03:51<2:22:23, 49.10s/it, v_num=7x_1, total_loss_train=549, kl_local_train=86.9, metric_mi|age_categorical_train=0.333]"
     ]
    },
    {
     "name": "stdout",
     "output_type": "stream",
     "text": [
      "\r\n",
      "Epoch 427/600:  71%|███████   | 426/600 [6:03:51<2:22:23, 49.10s/it, v_num=7x_1, total_loss_train=549, kl_local_train=86.9, metric_mi|age_categorical_train=0.333]"
     ]
    },
    {
     "name": "stdout",
     "output_type": "stream",
     "text": [
      "\r\n",
      "Epoch 427/600:  71%|███████   | 427/600 [6:04:40<2:21:18, 49.01s/it, v_num=7x_1, total_loss_train=549, kl_local_train=86.9, metric_mi|age_categorical_train=0.333]"
     ]
    },
    {
     "name": "stdout",
     "output_type": "stream",
     "text": [
      "\r\n",
      "Epoch 427/600:  71%|███████   | 427/600 [6:04:40<2:21:18, 49.01s/it, v_num=7x_1, total_loss_train=549, kl_local_train=86.8, metric_mi|age_categorical_train=0.333]"
     ]
    },
    {
     "name": "stdout",
     "output_type": "stream",
     "text": [
      "\r\n",
      "Epoch 428/600:  71%|███████   | 427/600 [6:04:40<2:21:18, 49.01s/it, v_num=7x_1, total_loss_train=549, kl_local_train=86.8, metric_mi|age_categorical_train=0.333]"
     ]
    },
    {
     "name": "stdout",
     "output_type": "stream",
     "text": [
      "\r\n",
      "Epoch 428/600:  71%|███████▏  | 428/600 [6:05:28<2:20:10, 48.90s/it, v_num=7x_1, total_loss_train=549, kl_local_train=86.8, metric_mi|age_categorical_train=0.333]"
     ]
    },
    {
     "name": "stdout",
     "output_type": "stream",
     "text": [
      "\r\n",
      "Epoch 428/600:  71%|███████▏  | 428/600 [6:05:28<2:20:10, 48.90s/it, v_num=7x_1, total_loss_train=549, kl_local_train=87, metric_mi|age_categorical_train=0.333]  "
     ]
    },
    {
     "name": "stdout",
     "output_type": "stream",
     "text": [
      "\r\n",
      "Epoch 429/600:  71%|███████▏  | 428/600 [6:05:28<2:20:10, 48.90s/it, v_num=7x_1, total_loss_train=549, kl_local_train=87, metric_mi|age_categorical_train=0.333]"
     ]
    },
    {
     "name": "stdout",
     "output_type": "stream",
     "text": [
      "\r\n",
      "Epoch 429/600:  72%|███████▏  | 429/600 [6:06:17<2:19:10, 48.84s/it, v_num=7x_1, total_loss_train=549, kl_local_train=87, metric_mi|age_categorical_train=0.333]"
     ]
    },
    {
     "name": "stdout",
     "output_type": "stream",
     "text": [
      "\r\n",
      "Epoch 429/600:  72%|███████▏  | 429/600 [6:06:17<2:19:10, 48.84s/it, v_num=7x_1, total_loss_train=549, kl_local_train=87, metric_mi|age_categorical_train=0.333]"
     ]
    },
    {
     "name": "stdout",
     "output_type": "stream",
     "text": [
      "\r\n",
      "Epoch 430/600:  72%|███████▏  | 429/600 [6:06:17<2:19:10, 48.84s/it, v_num=7x_1, total_loss_train=549, kl_local_train=87, metric_mi|age_categorical_train=0.333]"
     ]
    },
    {
     "name": "stdout",
     "output_type": "stream",
     "text": [
      "\r\n",
      "Epoch 430/600:  72%|███████▏  | 430/600 [6:07:06<2:18:17, 48.81s/it, v_num=7x_1, total_loss_train=549, kl_local_train=87, metric_mi|age_categorical_train=0.333]"
     ]
    },
    {
     "name": "stdout",
     "output_type": "stream",
     "text": [
      "\r\n",
      "Epoch 430/600:  72%|███████▏  | 430/600 [6:07:06<2:18:17, 48.81s/it, v_num=7x_1, total_loss_train=549, kl_local_train=87.1, metric_mi|age_categorical_train=0.333]"
     ]
    },
    {
     "name": "stdout",
     "output_type": "stream",
     "text": [
      "\r\n",
      "Epoch 431/600:  72%|███████▏  | 430/600 [6:07:07<2:18:17, 48.81s/it, v_num=7x_1, total_loss_train=549, kl_local_train=87.1, metric_mi|age_categorical_train=0.333]"
     ]
    },
    {
     "name": "stdout",
     "output_type": "stream",
     "text": [
      "\r\n",
      "Epoch 431/600:  72%|███████▏  | 431/600 [6:07:55<2:18:15, 49.09s/it, v_num=7x_1, total_loss_train=549, kl_local_train=87.1, metric_mi|age_categorical_train=0.333]"
     ]
    },
    {
     "name": "stdout",
     "output_type": "stream",
     "text": [
      "\r\n",
      "Epoch 431/600:  72%|███████▏  | 431/600 [6:07:55<2:18:15, 49.09s/it, v_num=7x_1, total_loss_train=549, kl_local_train=86.7, metric_mi|age_categorical_train=0.338]"
     ]
    },
    {
     "name": "stdout",
     "output_type": "stream",
     "text": [
      "\r\n",
      "Epoch 432/600:  72%|███████▏  | 431/600 [6:07:55<2:18:15, 49.09s/it, v_num=7x_1, total_loss_train=549, kl_local_train=86.7, metric_mi|age_categorical_train=0.338]"
     ]
    },
    {
     "name": "stdout",
     "output_type": "stream",
     "text": [
      "\r\n",
      "Epoch 432/600:  72%|███████▏  | 432/600 [6:08:44<2:17:04, 48.96s/it, v_num=7x_1, total_loss_train=549, kl_local_train=86.7, metric_mi|age_categorical_train=0.338]"
     ]
    },
    {
     "name": "stdout",
     "output_type": "stream",
     "text": [
      "\r\n",
      "Epoch 432/600:  72%|███████▏  | 432/600 [6:08:44<2:17:04, 48.96s/it, v_num=7x_1, total_loss_train=549, kl_local_train=86.2, metric_mi|age_categorical_train=0.338]"
     ]
    },
    {
     "name": "stdout",
     "output_type": "stream",
     "text": [
      "\r\n",
      "Epoch 433/600:  72%|███████▏  | 432/600 [6:08:44<2:17:04, 48.96s/it, v_num=7x_1, total_loss_train=549, kl_local_train=86.2, metric_mi|age_categorical_train=0.338]"
     ]
    },
    {
     "name": "stdout",
     "output_type": "stream",
     "text": [
      "\r\n",
      "Epoch 433/600:  72%|███████▏  | 433/600 [6:09:33<2:16:03, 48.89s/it, v_num=7x_1, total_loss_train=549, kl_local_train=86.2, metric_mi|age_categorical_train=0.338]"
     ]
    },
    {
     "name": "stdout",
     "output_type": "stream",
     "text": [
      "\r\n",
      "Epoch 433/600:  72%|███████▏  | 433/600 [6:09:33<2:16:03, 48.89s/it, v_num=7x_1, total_loss_train=549, kl_local_train=85.8, metric_mi|age_categorical_train=0.338]"
     ]
    },
    {
     "name": "stdout",
     "output_type": "stream",
     "text": [
      "\r\n",
      "Epoch 434/600:  72%|███████▏  | 433/600 [6:09:33<2:16:03, 48.89s/it, v_num=7x_1, total_loss_train=549, kl_local_train=85.8, metric_mi|age_categorical_train=0.338]"
     ]
    },
    {
     "name": "stdout",
     "output_type": "stream",
     "text": [
      "\r\n",
      "Epoch 434/600:  72%|███████▏  | 434/600 [6:10:22<2:15:10, 48.86s/it, v_num=7x_1, total_loss_train=549, kl_local_train=85.8, metric_mi|age_categorical_train=0.338]"
     ]
    },
    {
     "name": "stdout",
     "output_type": "stream",
     "text": [
      "\r\n",
      "Epoch 434/600:  72%|███████▏  | 434/600 [6:10:22<2:15:10, 48.86s/it, v_num=7x_1, total_loss_train=549, kl_local_train=85.5, metric_mi|age_categorical_train=0.338]"
     ]
    },
    {
     "name": "stdout",
     "output_type": "stream",
     "text": [
      "\r\n",
      "Epoch 435/600:  72%|███████▏  | 434/600 [6:10:22<2:15:10, 48.86s/it, v_num=7x_1, total_loss_train=549, kl_local_train=85.5, metric_mi|age_categorical_train=0.338]"
     ]
    },
    {
     "name": "stdout",
     "output_type": "stream",
     "text": [
      "\r\n",
      "Epoch 435/600:  72%|███████▎  | 435/600 [6:11:11<2:14:28, 48.90s/it, v_num=7x_1, total_loss_train=549, kl_local_train=85.5, metric_mi|age_categorical_train=0.338]"
     ]
    },
    {
     "name": "stdout",
     "output_type": "stream",
     "text": [
      "\r\n",
      "Epoch 435/600:  72%|███████▎  | 435/600 [6:11:11<2:14:28, 48.90s/it, v_num=7x_1, total_loss_train=550, kl_local_train=85.4, metric_mi|age_categorical_train=0.338]"
     ]
    },
    {
     "name": "stdout",
     "output_type": "stream",
     "text": [
      "\r\n",
      "Epoch 436/600:  72%|███████▎  | 435/600 [6:11:11<2:14:28, 48.90s/it, v_num=7x_1, total_loss_train=550, kl_local_train=85.4, metric_mi|age_categorical_train=0.338]"
     ]
    },
    {
     "name": "stdout",
     "output_type": "stream",
     "text": [
      "\r\n",
      "Epoch 436/600:  73%|███████▎  | 436/600 [6:12:00<2:14:12, 49.10s/it, v_num=7x_1, total_loss_train=550, kl_local_train=85.4, metric_mi|age_categorical_train=0.338]"
     ]
    },
    {
     "name": "stdout",
     "output_type": "stream",
     "text": [
      "\r\n",
      "Epoch 436/600:  73%|███████▎  | 436/600 [6:12:00<2:14:12, 49.10s/it, v_num=7x_1, total_loss_train=550, kl_local_train=85.8, metric_mi|age_categorical_train=0.344]"
     ]
    },
    {
     "name": "stdout",
     "output_type": "stream",
     "text": [
      "\r\n",
      "Epoch 437/600:  73%|███████▎  | 436/600 [6:12:00<2:14:12, 49.10s/it, v_num=7x_1, total_loss_train=550, kl_local_train=85.8, metric_mi|age_categorical_train=0.344]"
     ]
    },
    {
     "name": "stdout",
     "output_type": "stream",
     "text": [
      "\r\n",
      "Epoch 437/600:  73%|███████▎  | 437/600 [6:12:49<2:13:02, 48.97s/it, v_num=7x_1, total_loss_train=550, kl_local_train=85.8, metric_mi|age_categorical_train=0.344]"
     ]
    },
    {
     "name": "stdout",
     "output_type": "stream",
     "text": [
      "\r\n",
      "Epoch 437/600:  73%|███████▎  | 437/600 [6:12:49<2:13:02, 48.97s/it, v_num=7x_1, total_loss_train=549, kl_local_train=85.5, metric_mi|age_categorical_train=0.344]"
     ]
    },
    {
     "name": "stdout",
     "output_type": "stream",
     "text": [
      "\r\n",
      "Epoch 438/600:  73%|███████▎  | 437/600 [6:12:49<2:13:02, 48.97s/it, v_num=7x_1, total_loss_train=549, kl_local_train=85.5, metric_mi|age_categorical_train=0.344]"
     ]
    },
    {
     "name": "stdout",
     "output_type": "stream",
     "text": [
      "\r\n",
      "Epoch 438/600:  73%|███████▎  | 438/600 [6:13:38<2:11:57, 48.87s/it, v_num=7x_1, total_loss_train=549, kl_local_train=85.5, metric_mi|age_categorical_train=0.344]"
     ]
    },
    {
     "name": "stdout",
     "output_type": "stream",
     "text": [
      "\r\n",
      "Epoch 438/600:  73%|███████▎  | 438/600 [6:13:38<2:11:57, 48.87s/it, v_num=7x_1, total_loss_train=549, kl_local_train=85.3, metric_mi|age_categorical_train=0.344]"
     ]
    },
    {
     "name": "stdout",
     "output_type": "stream",
     "text": [
      "\r\n",
      "Epoch 439/600:  73%|███████▎  | 438/600 [6:13:38<2:11:57, 48.87s/it, v_num=7x_1, total_loss_train=549, kl_local_train=85.3, metric_mi|age_categorical_train=0.344]"
     ]
    },
    {
     "name": "stdout",
     "output_type": "stream",
     "text": [
      "\r\n",
      "Epoch 439/600:  73%|███████▎  | 439/600 [6:14:26<2:10:56, 48.80s/it, v_num=7x_1, total_loss_train=549, kl_local_train=85.3, metric_mi|age_categorical_train=0.344]"
     ]
    },
    {
     "name": "stdout",
     "output_type": "stream",
     "text": [
      "\r\n",
      "Epoch 439/600:  73%|███████▎  | 439/600 [6:14:26<2:10:56, 48.80s/it, v_num=7x_1, total_loss_train=550, kl_local_train=84.9, metric_mi|age_categorical_train=0.344]"
     ]
    },
    {
     "name": "stdout",
     "output_type": "stream",
     "text": [
      "\r\n",
      "Epoch 440/600:  73%|███████▎  | 439/600 [6:14:26<2:10:56, 48.80s/it, v_num=7x_1, total_loss_train=550, kl_local_train=84.9, metric_mi|age_categorical_train=0.344]"
     ]
    },
    {
     "name": "stdout",
     "output_type": "stream",
     "text": [
      "\r\n",
      "Epoch 440/600:  73%|███████▎  | 440/600 [6:15:15<2:10:24, 48.90s/it, v_num=7x_1, total_loss_train=550, kl_local_train=84.9, metric_mi|age_categorical_train=0.344]"
     ]
    },
    {
     "name": "stdout",
     "output_type": "stream",
     "text": [
      "\r\n",
      "Epoch 440/600:  73%|███████▎  | 440/600 [6:15:15<2:10:24, 48.90s/it, v_num=7x_1, total_loss_train=550, kl_local_train=85.5, metric_mi|age_categorical_train=0.344]"
     ]
    },
    {
     "name": "stdout",
     "output_type": "stream",
     "text": [
      "\r\n",
      "Epoch 441/600:  73%|███████▎  | 440/600 [6:15:16<2:10:24, 48.90s/it, v_num=7x_1, total_loss_train=550, kl_local_train=85.5, metric_mi|age_categorical_train=0.344]"
     ]
    },
    {
     "name": "stdout",
     "output_type": "stream",
     "text": [
      "\r\n",
      "Epoch 441/600:  74%|███████▎  | 441/600 [6:16:05<2:10:23, 49.21s/it, v_num=7x_1, total_loss_train=550, kl_local_train=85.5, metric_mi|age_categorical_train=0.344]"
     ]
    },
    {
     "name": "stdout",
     "output_type": "stream",
     "text": [
      "\r\n",
      "Epoch 441/600:  74%|███████▎  | 441/600 [6:16:05<2:10:23, 49.21s/it, v_num=7x_1, total_loss_train=550, kl_local_train=85.4, metric_mi|age_categorical_train=0.339]"
     ]
    },
    {
     "name": "stdout",
     "output_type": "stream",
     "text": [
      "\r\n",
      "Epoch 442/600:  74%|███████▎  | 441/600 [6:16:05<2:10:23, 49.21s/it, v_num=7x_1, total_loss_train=550, kl_local_train=85.4, metric_mi|age_categorical_train=0.339]"
     ]
    },
    {
     "name": "stdout",
     "output_type": "stream",
     "text": [
      "\r\n",
      "Epoch 442/600:  74%|███████▎  | 442/600 [6:16:54<2:09:29, 49.17s/it, v_num=7x_1, total_loss_train=550, kl_local_train=85.4, metric_mi|age_categorical_train=0.339]"
     ]
    },
    {
     "name": "stdout",
     "output_type": "stream",
     "text": [
      "\r\n",
      "Epoch 442/600:  74%|███████▎  | 442/600 [6:16:54<2:09:29, 49.17s/it, v_num=7x_1, total_loss_train=550, kl_local_train=84.8, metric_mi|age_categorical_train=0.339]"
     ]
    },
    {
     "name": "stdout",
     "output_type": "stream",
     "text": [
      "\r\n",
      "Epoch 443/600:  74%|███████▎  | 442/600 [6:16:54<2:09:29, 49.17s/it, v_num=7x_1, total_loss_train=550, kl_local_train=84.8, metric_mi|age_categorical_train=0.339]"
     ]
    },
    {
     "name": "stdout",
     "output_type": "stream",
     "text": [
      "\r\n",
      "Epoch 443/600:  74%|███████▍  | 443/600 [6:17:43<2:08:39, 49.17s/it, v_num=7x_1, total_loss_train=550, kl_local_train=84.8, metric_mi|age_categorical_train=0.339]"
     ]
    },
    {
     "name": "stdout",
     "output_type": "stream",
     "text": [
      "\r\n",
      "Epoch 443/600:  74%|███████▍  | 443/600 [6:17:43<2:08:39, 49.17s/it, v_num=7x_1, total_loss_train=550, kl_local_train=85.1, metric_mi|age_categorical_train=0.339]"
     ]
    },
    {
     "name": "stdout",
     "output_type": "stream",
     "text": [
      "\r\n",
      "Epoch 444/600:  74%|███████▍  | 443/600 [6:17:43<2:08:39, 49.17s/it, v_num=7x_1, total_loss_train=550, kl_local_train=85.1, metric_mi|age_categorical_train=0.339]"
     ]
    },
    {
     "name": "stdout",
     "output_type": "stream",
     "text": [
      "\r\n",
      "Epoch 444/600:  74%|███████▍  | 444/600 [6:18:33<2:07:47, 49.15s/it, v_num=7x_1, total_loss_train=550, kl_local_train=85.1, metric_mi|age_categorical_train=0.339]"
     ]
    },
    {
     "name": "stdout",
     "output_type": "stream",
     "text": [
      "\r\n",
      "Epoch 444/600:  74%|███████▍  | 444/600 [6:18:33<2:07:47, 49.15s/it, v_num=7x_1, total_loss_train=550, kl_local_train=84.4, metric_mi|age_categorical_train=0.339]"
     ]
    },
    {
     "name": "stdout",
     "output_type": "stream",
     "text": [
      "\r\n",
      "Epoch 445/600:  74%|███████▍  | 444/600 [6:18:33<2:07:47, 49.15s/it, v_num=7x_1, total_loss_train=550, kl_local_train=84.4, metric_mi|age_categorical_train=0.339]"
     ]
    },
    {
     "name": "stdout",
     "output_type": "stream",
     "text": [
      "\r\n",
      "Epoch 445/600:  74%|███████▍  | 445/600 [6:19:22<2:06:54, 49.12s/it, v_num=7x_1, total_loss_train=550, kl_local_train=84.4, metric_mi|age_categorical_train=0.339]"
     ]
    },
    {
     "name": "stdout",
     "output_type": "stream",
     "text": [
      "\r\n",
      "Epoch 445/600:  74%|███████▍  | 445/600 [6:19:22<2:06:54, 49.12s/it, v_num=7x_1, total_loss_train=550, kl_local_train=84.4, metric_mi|age_categorical_train=0.339]"
     ]
    },
    {
     "name": "stdout",
     "output_type": "stream",
     "text": [
      "\r\n",
      "Epoch 446/600:  74%|███████▍  | 445/600 [6:19:22<2:06:54, 49.12s/it, v_num=7x_1, total_loss_train=550, kl_local_train=84.4, metric_mi|age_categorical_train=0.339]"
     ]
    },
    {
     "name": "stdout",
     "output_type": "stream",
     "text": [
      "\r\n",
      "Epoch 446/600:  74%|███████▍  | 446/600 [6:20:12<2:06:47, 49.40s/it, v_num=7x_1, total_loss_train=550, kl_local_train=84.4, metric_mi|age_categorical_train=0.339]"
     ]
    },
    {
     "name": "stdout",
     "output_type": "stream",
     "text": [
      "\r\n",
      "Epoch 446/600:  74%|███████▍  | 446/600 [6:20:12<2:06:47, 49.40s/it, v_num=7x_1, total_loss_train=550, kl_local_train=84.3, metric_mi|age_categorical_train=0.335]"
     ]
    },
    {
     "name": "stdout",
     "output_type": "stream",
     "text": [
      "\r\n",
      "Epoch 447/600:  74%|███████▍  | 446/600 [6:20:12<2:06:47, 49.40s/it, v_num=7x_1, total_loss_train=550, kl_local_train=84.3, metric_mi|age_categorical_train=0.335]"
     ]
    },
    {
     "name": "stdout",
     "output_type": "stream",
     "text": [
      "\r\n",
      "Epoch 447/600:  74%|███████▍  | 447/600 [6:21:00<2:05:19, 49.15s/it, v_num=7x_1, total_loss_train=550, kl_local_train=84.3, metric_mi|age_categorical_train=0.335]"
     ]
    },
    {
     "name": "stdout",
     "output_type": "stream",
     "text": [
      "\r\n",
      "Epoch 447/600:  74%|███████▍  | 447/600 [6:21:00<2:05:19, 49.15s/it, v_num=7x_1, total_loss_train=550, kl_local_train=84, metric_mi|age_categorical_train=0.335]  "
     ]
    },
    {
     "name": "stdout",
     "output_type": "stream",
     "text": [
      "\r\n",
      "Epoch 448/600:  74%|███████▍  | 447/600 [6:21:00<2:05:19, 49.15s/it, v_num=7x_1, total_loss_train=550, kl_local_train=84, metric_mi|age_categorical_train=0.335]"
     ]
    },
    {
     "name": "stdout",
     "output_type": "stream",
     "text": [
      "\r\n",
      "Epoch 448/600:  75%|███████▍  | 448/600 [6:21:49<2:04:04, 48.97s/it, v_num=7x_1, total_loss_train=550, kl_local_train=84, metric_mi|age_categorical_train=0.335]"
     ]
    },
    {
     "name": "stdout",
     "output_type": "stream",
     "text": [
      "\r\n",
      "Epoch 448/600:  75%|███████▍  | 448/600 [6:21:49<2:04:04, 48.97s/it, v_num=7x_1, total_loss_train=551, kl_local_train=84.1, metric_mi|age_categorical_train=0.335]"
     ]
    },
    {
     "name": "stdout",
     "output_type": "stream",
     "text": [
      "\r\n",
      "Epoch 449/600:  75%|███████▍  | 448/600 [6:21:49<2:04:04, 48.97s/it, v_num=7x_1, total_loss_train=551, kl_local_train=84.1, metric_mi|age_categorical_train=0.335]"
     ]
    },
    {
     "name": "stdout",
     "output_type": "stream",
     "text": [
      "\r\n",
      "Epoch 449/600:  75%|███████▍  | 449/600 [6:22:37<2:02:56, 48.85s/it, v_num=7x_1, total_loss_train=551, kl_local_train=84.1, metric_mi|age_categorical_train=0.335]"
     ]
    },
    {
     "name": "stdout",
     "output_type": "stream",
     "text": [
      "\r\n",
      "Epoch 449/600:  75%|███████▍  | 449/600 [6:22:37<2:02:56, 48.85s/it, v_num=7x_1, total_loss_train=551, kl_local_train=84.5, metric_mi|age_categorical_train=0.335]"
     ]
    },
    {
     "name": "stdout",
     "output_type": "stream",
     "text": [
      "\r\n",
      "Epoch 450/600:  75%|███████▍  | 449/600 [6:22:37<2:02:56, 48.85s/it, v_num=7x_1, total_loss_train=551, kl_local_train=84.5, metric_mi|age_categorical_train=0.335]"
     ]
    },
    {
     "name": "stdout",
     "output_type": "stream",
     "text": [
      "\r\n",
      "Epoch 450/600:  75%|███████▌  | 450/600 [6:23:26<2:01:59, 48.80s/it, v_num=7x_1, total_loss_train=551, kl_local_train=84.5, metric_mi|age_categorical_train=0.335]"
     ]
    },
    {
     "name": "stdout",
     "output_type": "stream",
     "text": [
      "\r\n",
      "Epoch 450/600:  75%|███████▌  | 450/600 [6:23:26<2:01:59, 48.80s/it, v_num=7x_1, total_loss_train=551, kl_local_train=84.3, metric_mi|age_categorical_train=0.335]"
     ]
    },
    {
     "name": "stdout",
     "output_type": "stream",
     "text": [
      "\r\n",
      "Epoch 451/600:  75%|███████▌  | 450/600 [6:23:27<2:01:59, 48.80s/it, v_num=7x_1, total_loss_train=551, kl_local_train=84.3, metric_mi|age_categorical_train=0.335]"
     ]
    },
    {
     "name": "stdout",
     "output_type": "stream",
     "text": [
      "\r\n",
      "Epoch 451/600:  75%|███████▌  | 451/600 [6:24:16<2:02:03, 49.15s/it, v_num=7x_1, total_loss_train=551, kl_local_train=84.3, metric_mi|age_categorical_train=0.335]"
     ]
    },
    {
     "name": "stdout",
     "output_type": "stream",
     "text": [
      "\r\n",
      "Epoch 451/600:  75%|███████▌  | 451/600 [6:24:16<2:02:03, 49.15s/it, v_num=7x_1, total_loss_train=551, kl_local_train=83.9, metric_mi|age_categorical_train=0.324]"
     ]
    },
    {
     "name": "stdout",
     "output_type": "stream",
     "text": [
      "\r\n",
      "Epoch 452/600:  75%|███████▌  | 451/600 [6:24:16<2:02:03, 49.15s/it, v_num=7x_1, total_loss_train=551, kl_local_train=83.9, metric_mi|age_categorical_train=0.324]"
     ]
    },
    {
     "name": "stdout",
     "output_type": "stream",
     "text": [
      "\r\n",
      "Epoch 452/600:  75%|███████▌  | 452/600 [6:25:06<2:01:30, 49.26s/it, v_num=7x_1, total_loss_train=551, kl_local_train=83.9, metric_mi|age_categorical_train=0.324]"
     ]
    },
    {
     "name": "stdout",
     "output_type": "stream",
     "text": [
      "\r\n",
      "Epoch 452/600:  75%|███████▌  | 452/600 [6:25:06<2:01:30, 49.26s/it, v_num=7x_1, total_loss_train=551, kl_local_train=83.6, metric_mi|age_categorical_train=0.324]"
     ]
    },
    {
     "name": "stdout",
     "output_type": "stream",
     "text": [
      "\r\n",
      "Epoch 453/600:  75%|███████▌  | 452/600 [6:25:06<2:01:30, 49.26s/it, v_num=7x_1, total_loss_train=551, kl_local_train=83.6, metric_mi|age_categorical_train=0.324]"
     ]
    },
    {
     "name": "stdout",
     "output_type": "stream",
     "text": [
      "\r\n",
      "Epoch 453/600:  76%|███████▌  | 453/600 [6:25:55<2:00:40, 49.26s/it, v_num=7x_1, total_loss_train=551, kl_local_train=83.6, metric_mi|age_categorical_train=0.324]"
     ]
    },
    {
     "name": "stdout",
     "output_type": "stream",
     "text": [
      "\r\n",
      "Epoch 453/600:  76%|███████▌  | 453/600 [6:25:55<2:00:40, 49.26s/it, v_num=7x_1, total_loss_train=551, kl_local_train=83.6, metric_mi|age_categorical_train=0.324]"
     ]
    },
    {
     "name": "stdout",
     "output_type": "stream",
     "text": [
      "\r\n",
      "Epoch 454/600:  76%|███████▌  | 453/600 [6:25:55<2:00:40, 49.26s/it, v_num=7x_1, total_loss_train=551, kl_local_train=83.6, metric_mi|age_categorical_train=0.324]"
     ]
    },
    {
     "name": "stdout",
     "output_type": "stream",
     "text": [
      "\r\n",
      "Epoch 454/600:  76%|███████▌  | 454/600 [6:26:44<1:59:53, 49.27s/it, v_num=7x_1, total_loss_train=551, kl_local_train=83.6, metric_mi|age_categorical_train=0.324]"
     ]
    },
    {
     "name": "stdout",
     "output_type": "stream",
     "text": [
      "\r\n",
      "Epoch 454/600:  76%|███████▌  | 454/600 [6:26:44<1:59:53, 49.27s/it, v_num=7x_1, total_loss_train=551, kl_local_train=83.2, metric_mi|age_categorical_train=0.324]"
     ]
    },
    {
     "name": "stdout",
     "output_type": "stream",
     "text": [
      "\r\n",
      "Epoch 455/600:  76%|███████▌  | 454/600 [6:26:44<1:59:53, 49.27s/it, v_num=7x_1, total_loss_train=551, kl_local_train=83.2, metric_mi|age_categorical_train=0.324]"
     ]
    },
    {
     "name": "stdout",
     "output_type": "stream",
     "text": [
      "\r\n",
      "Epoch 455/600:  76%|███████▌  | 455/600 [6:27:33<1:59:07, 49.29s/it, v_num=7x_1, total_loss_train=551, kl_local_train=83.2, metric_mi|age_categorical_train=0.324]"
     ]
    },
    {
     "name": "stdout",
     "output_type": "stream",
     "text": [
      "\r\n",
      "Epoch 455/600:  76%|███████▌  | 455/600 [6:27:33<1:59:07, 49.29s/it, v_num=7x_1, total_loss_train=551, kl_local_train=83, metric_mi|age_categorical_train=0.324]  "
     ]
    },
    {
     "name": "stdout",
     "output_type": "stream",
     "text": [
      "\r\n",
      "Epoch 456/600:  76%|███████▌  | 455/600 [6:27:34<1:59:07, 49.29s/it, v_num=7x_1, total_loss_train=551, kl_local_train=83, metric_mi|age_categorical_train=0.324]"
     ]
    },
    {
     "name": "stdout",
     "output_type": "stream",
     "text": [
      "\r\n",
      "Epoch 456/600:  76%|███████▌  | 456/600 [6:28:23<1:58:35, 49.41s/it, v_num=7x_1, total_loss_train=551, kl_local_train=83, metric_mi|age_categorical_train=0.324]"
     ]
    },
    {
     "name": "stdout",
     "output_type": "stream",
     "text": [
      "\r\n",
      "Epoch 456/600:  76%|███████▌  | 456/600 [6:28:23<1:58:35, 49.41s/it, v_num=7x_1, total_loss_train=551, kl_local_train=83.1, metric_mi|age_categorical_train=0.316]"
     ]
    },
    {
     "name": "stdout",
     "output_type": "stream",
     "text": [
      "\r\n",
      "Epoch 457/600:  76%|███████▌  | 456/600 [6:28:23<1:58:35, 49.41s/it, v_num=7x_1, total_loss_train=551, kl_local_train=83.1, metric_mi|age_categorical_train=0.316]"
     ]
    },
    {
     "name": "stdout",
     "output_type": "stream",
     "text": [
      "\r\n",
      "Epoch 457/600:  76%|███████▌  | 457/600 [6:29:12<1:57:17, 49.22s/it, v_num=7x_1, total_loss_train=551, kl_local_train=83.1, metric_mi|age_categorical_train=0.316]"
     ]
    },
    {
     "name": "stdout",
     "output_type": "stream",
     "text": [
      "\r\n",
      "Epoch 457/600:  76%|███████▌  | 457/600 [6:29:12<1:57:17, 49.22s/it, v_num=7x_1, total_loss_train=551, kl_local_train=83.1, metric_mi|age_categorical_train=0.316]"
     ]
    },
    {
     "name": "stdout",
     "output_type": "stream",
     "text": [
      "\r\n",
      "Epoch 458/600:  76%|███████▌  | 457/600 [6:29:12<1:57:17, 49.22s/it, v_num=7x_1, total_loss_train=551, kl_local_train=83.1, metric_mi|age_categorical_train=0.316]"
     ]
    },
    {
     "name": "stdout",
     "output_type": "stream",
     "text": [
      "\r\n",
      "Epoch 458/600:  76%|███████▋  | 458/600 [6:30:01<1:56:05, 49.06s/it, v_num=7x_1, total_loss_train=551, kl_local_train=83.1, metric_mi|age_categorical_train=0.316]"
     ]
    },
    {
     "name": "stdout",
     "output_type": "stream",
     "text": [
      "\r\n",
      "Epoch 458/600:  76%|███████▋  | 458/600 [6:30:01<1:56:05, 49.06s/it, v_num=7x_1, total_loss_train=551, kl_local_train=82.9, metric_mi|age_categorical_train=0.316]"
     ]
    },
    {
     "name": "stdout",
     "output_type": "stream",
     "text": [
      "\r\n",
      "Epoch 459/600:  76%|███████▋  | 458/600 [6:30:01<1:56:05, 49.06s/it, v_num=7x_1, total_loss_train=551, kl_local_train=82.9, metric_mi|age_categorical_train=0.316]"
     ]
    },
    {
     "name": "stdout",
     "output_type": "stream",
     "text": [
      "\r\n",
      "Epoch 459/600:  76%|███████▋  | 459/600 [6:30:49<1:55:03, 48.96s/it, v_num=7x_1, total_loss_train=551, kl_local_train=82.9, metric_mi|age_categorical_train=0.316]"
     ]
    },
    {
     "name": "stdout",
     "output_type": "stream",
     "text": [
      "\r\n",
      "Epoch 459/600:  76%|███████▋  | 459/600 [6:30:49<1:55:03, 48.96s/it, v_num=7x_1, total_loss_train=551, kl_local_train=82.6, metric_mi|age_categorical_train=0.316]"
     ]
    },
    {
     "name": "stdout",
     "output_type": "stream",
     "text": [
      "\r\n",
      "Epoch 460/600:  76%|███████▋  | 459/600 [6:30:49<1:55:03, 48.96s/it, v_num=7x_1, total_loss_train=551, kl_local_train=82.6, metric_mi|age_categorical_train=0.316]"
     ]
    },
    {
     "name": "stdout",
     "output_type": "stream",
     "text": [
      "\r\n",
      "Epoch 460/600:  77%|███████▋  | 460/600 [6:31:38<1:54:13, 48.96s/it, v_num=7x_1, total_loss_train=551, kl_local_train=82.6, metric_mi|age_categorical_train=0.316]"
     ]
    },
    {
     "name": "stdout",
     "output_type": "stream",
     "text": [
      "\r\n",
      "Epoch 460/600:  77%|███████▋  | 460/600 [6:31:38<1:54:13, 48.96s/it, v_num=7x_1, total_loss_train=551, kl_local_train=82.5, metric_mi|age_categorical_train=0.316]"
     ]
    },
    {
     "name": "stdout",
     "output_type": "stream",
     "text": [
      "\r\n",
      "Epoch 461/600:  77%|███████▋  | 460/600 [6:31:39<1:54:13, 48.96s/it, v_num=7x_1, total_loss_train=551, kl_local_train=82.5, metric_mi|age_categorical_train=0.316]"
     ]
    },
    {
     "name": "stdout",
     "output_type": "stream",
     "text": [
      "\r\n",
      "Epoch 461/600:  77%|███████▋  | 461/600 [6:32:28<1:53:51, 49.15s/it, v_num=7x_1, total_loss_train=551, kl_local_train=82.5, metric_mi|age_categorical_train=0.316]"
     ]
    },
    {
     "name": "stdout",
     "output_type": "stream",
     "text": [
      "\r\n",
      "Epoch 461/600:  77%|███████▋  | 461/600 [6:32:28<1:53:51, 49.15s/it, v_num=7x_1, total_loss_train=552, kl_local_train=82.4, metric_mi|age_categorical_train=0.311]"
     ]
    },
    {
     "name": "stdout",
     "output_type": "stream",
     "text": [
      "\r\n",
      "Epoch 462/600:  77%|███████▋  | 461/600 [6:32:28<1:53:51, 49.15s/it, v_num=7x_1, total_loss_train=552, kl_local_train=82.4, metric_mi|age_categorical_train=0.311]"
     ]
    },
    {
     "name": "stdout",
     "output_type": "stream",
     "text": [
      "\r\n",
      "Epoch 462/600:  77%|███████▋  | 462/600 [6:33:17<1:52:46, 49.03s/it, v_num=7x_1, total_loss_train=552, kl_local_train=82.4, metric_mi|age_categorical_train=0.311]"
     ]
    },
    {
     "name": "stdout",
     "output_type": "stream",
     "text": [
      "\r\n",
      "Epoch 462/600:  77%|███████▋  | 462/600 [6:33:17<1:52:46, 49.03s/it, v_num=7x_1, total_loss_train=551, kl_local_train=82.5, metric_mi|age_categorical_train=0.311]"
     ]
    },
    {
     "name": "stdout",
     "output_type": "stream",
     "text": [
      "\r\n",
      "Epoch 463/600:  77%|███████▋  | 462/600 [6:33:17<1:52:46, 49.03s/it, v_num=7x_1, total_loss_train=551, kl_local_train=82.5, metric_mi|age_categorical_train=0.311]"
     ]
    },
    {
     "name": "stdout",
     "output_type": "stream",
     "text": [
      "\r\n",
      "Epoch 463/600:  77%|███████▋  | 463/600 [6:34:05<1:51:43, 48.93s/it, v_num=7x_1, total_loss_train=551, kl_local_train=82.5, metric_mi|age_categorical_train=0.311]"
     ]
    },
    {
     "name": "stdout",
     "output_type": "stream",
     "text": [
      "\r\n",
      "Epoch 463/600:  77%|███████▋  | 463/600 [6:34:05<1:51:43, 48.93s/it, v_num=7x_1, total_loss_train=551, kl_local_train=82.3, metric_mi|age_categorical_train=0.311]"
     ]
    },
    {
     "name": "stdout",
     "output_type": "stream",
     "text": [
      "\r\n",
      "Epoch 464/600:  77%|███████▋  | 463/600 [6:34:05<1:51:43, 48.93s/it, v_num=7x_1, total_loss_train=551, kl_local_train=82.3, metric_mi|age_categorical_train=0.311]"
     ]
    },
    {
     "name": "stdout",
     "output_type": "stream",
     "text": [
      "\r\n",
      "Epoch 464/600:  77%|███████▋  | 464/600 [6:34:54<1:50:43, 48.85s/it, v_num=7x_1, total_loss_train=551, kl_local_train=82.3, metric_mi|age_categorical_train=0.311]"
     ]
    },
    {
     "name": "stdout",
     "output_type": "stream",
     "text": [
      "\r\n",
      "Epoch 464/600:  77%|███████▋  | 464/600 [6:34:54<1:50:43, 48.85s/it, v_num=7x_1, total_loss_train=552, kl_local_train=82.3, metric_mi|age_categorical_train=0.311]"
     ]
    },
    {
     "name": "stdout",
     "output_type": "stream",
     "text": [
      "\r\n",
      "Epoch 465/600:  77%|███████▋  | 464/600 [6:34:54<1:50:43, 48.85s/it, v_num=7x_1, total_loss_train=552, kl_local_train=82.3, metric_mi|age_categorical_train=0.311]"
     ]
    },
    {
     "name": "stdout",
     "output_type": "stream",
     "text": [
      "\r\n",
      "Epoch 465/600:  78%|███████▊  | 465/600 [6:35:43<1:49:58, 48.88s/it, v_num=7x_1, total_loss_train=552, kl_local_train=82.3, metric_mi|age_categorical_train=0.311]"
     ]
    },
    {
     "name": "stdout",
     "output_type": "stream",
     "text": [
      "\r\n",
      "Epoch 465/600:  78%|███████▊  | 465/600 [6:35:43<1:49:58, 48.88s/it, v_num=7x_1, total_loss_train=551, kl_local_train=81.8, metric_mi|age_categorical_train=0.311]"
     ]
    },
    {
     "name": "stdout",
     "output_type": "stream",
     "text": [
      "\r\n",
      "Epoch 466/600:  78%|███████▊  | 465/600 [6:35:44<1:49:58, 48.88s/it, v_num=7x_1, total_loss_train=551, kl_local_train=81.8, metric_mi|age_categorical_train=0.311]"
     ]
    },
    {
     "name": "stdout",
     "output_type": "stream",
     "text": [
      "\r\n",
      "Epoch 466/600:  78%|███████▊  | 466/600 [6:36:32<1:49:36, 49.08s/it, v_num=7x_1, total_loss_train=551, kl_local_train=81.8, metric_mi|age_categorical_train=0.311]"
     ]
    },
    {
     "name": "stdout",
     "output_type": "stream",
     "text": [
      "\r\n",
      "Epoch 466/600:  78%|███████▊  | 466/600 [6:36:32<1:49:36, 49.08s/it, v_num=7x_1, total_loss_train=552, kl_local_train=81.7, metric_mi|age_categorical_train=0.301]"
     ]
    },
    {
     "name": "stdout",
     "output_type": "stream",
     "text": [
      "\r\n",
      "Epoch 467/600:  78%|███████▊  | 466/600 [6:36:32<1:49:36, 49.08s/it, v_num=7x_1, total_loss_train=552, kl_local_train=81.7, metric_mi|age_categorical_train=0.301]"
     ]
    },
    {
     "name": "stdout",
     "output_type": "stream",
     "text": [
      "\r\n",
      "Epoch 467/600:  78%|███████▊  | 467/600 [6:37:21<1:48:31, 48.96s/it, v_num=7x_1, total_loss_train=552, kl_local_train=81.7, metric_mi|age_categorical_train=0.301]"
     ]
    },
    {
     "name": "stdout",
     "output_type": "stream",
     "text": [
      "\r\n",
      "Epoch 467/600:  78%|███████▊  | 467/600 [6:37:21<1:48:31, 48.96s/it, v_num=7x_1, total_loss_train=552, kl_local_train=82, metric_mi|age_categorical_train=0.301]  "
     ]
    },
    {
     "name": "stdout",
     "output_type": "stream",
     "text": [
      "\r\n",
      "Epoch 468/600:  78%|███████▊  | 467/600 [6:37:21<1:48:31, 48.96s/it, v_num=7x_1, total_loss_train=552, kl_local_train=82, metric_mi|age_categorical_train=0.301]"
     ]
    },
    {
     "name": "stdout",
     "output_type": "stream",
     "text": [
      "\r\n",
      "Epoch 468/600:  78%|███████▊  | 468/600 [6:38:10<1:47:28, 48.85s/it, v_num=7x_1, total_loss_train=552, kl_local_train=82, metric_mi|age_categorical_train=0.301]"
     ]
    },
    {
     "name": "stdout",
     "output_type": "stream",
     "text": [
      "\r\n",
      "Epoch 468/600:  78%|███████▊  | 468/600 [6:38:10<1:47:28, 48.85s/it, v_num=7x_1, total_loss_train=552, kl_local_train=81.8, metric_mi|age_categorical_train=0.301]"
     ]
    },
    {
     "name": "stdout",
     "output_type": "stream",
     "text": [
      "\r\n",
      "Epoch 469/600:  78%|███████▊  | 468/600 [6:38:10<1:47:28, 48.85s/it, v_num=7x_1, total_loss_train=552, kl_local_train=81.8, metric_mi|age_categorical_train=0.301]"
     ]
    },
    {
     "name": "stdout",
     "output_type": "stream",
     "text": [
      "\r\n",
      "Epoch 469/600:  78%|███████▊  | 469/600 [6:38:58<1:46:30, 48.78s/it, v_num=7x_1, total_loss_train=552, kl_local_train=81.8, metric_mi|age_categorical_train=0.301]"
     ]
    },
    {
     "name": "stdout",
     "output_type": "stream",
     "text": [
      "\r\n",
      "Epoch 469/600:  78%|███████▊  | 469/600 [6:38:58<1:46:30, 48.78s/it, v_num=7x_1, total_loss_train=552, kl_local_train=81.6, metric_mi|age_categorical_train=0.301]"
     ]
    },
    {
     "name": "stdout",
     "output_type": "stream",
     "text": [
      "\r\n",
      "Epoch 470/600:  78%|███████▊  | 469/600 [6:38:58<1:46:30, 48.78s/it, v_num=7x_1, total_loss_train=552, kl_local_train=81.6, metric_mi|age_categorical_train=0.301]"
     ]
    },
    {
     "name": "stdout",
     "output_type": "stream",
     "text": [
      "\r\n",
      "Epoch 470/600:  78%|███████▊  | 470/600 [6:39:47<1:45:40, 48.77s/it, v_num=7x_1, total_loss_train=552, kl_local_train=81.6, metric_mi|age_categorical_train=0.301]"
     ]
    },
    {
     "name": "stdout",
     "output_type": "stream",
     "text": [
      "\r\n",
      "Epoch 470/600:  78%|███████▊  | 470/600 [6:39:47<1:45:40, 48.77s/it, v_num=7x_1, total_loss_train=552, kl_local_train=81.4, metric_mi|age_categorical_train=0.301]"
     ]
    },
    {
     "name": "stdout",
     "output_type": "stream",
     "text": [
      "\r\n",
      "Epoch 471/600:  78%|███████▊  | 470/600 [6:39:48<1:45:40, 48.77s/it, v_num=7x_1, total_loss_train=552, kl_local_train=81.4, metric_mi|age_categorical_train=0.301]"
     ]
    },
    {
     "name": "stdout",
     "output_type": "stream",
     "text": [
      "\r\n",
      "Epoch 471/600:  78%|███████▊  | 471/600 [6:40:37<1:45:23, 49.02s/it, v_num=7x_1, total_loss_train=552, kl_local_train=81.4, metric_mi|age_categorical_train=0.301]"
     ]
    },
    {
     "name": "stdout",
     "output_type": "stream",
     "text": [
      "\r\n",
      "Epoch 471/600:  78%|███████▊  | 471/600 [6:40:37<1:45:23, 49.02s/it, v_num=7x_1, total_loss_train=551, kl_local_train=80.8, metric_mi|age_categorical_train=0.295]"
     ]
    },
    {
     "name": "stdout",
     "output_type": "stream",
     "text": [
      "\r\n",
      "Epoch 472/600:  78%|███████▊  | 471/600 [6:40:37<1:45:23, 49.02s/it, v_num=7x_1, total_loss_train=551, kl_local_train=80.8, metric_mi|age_categorical_train=0.295]"
     ]
    },
    {
     "name": "stdout",
     "output_type": "stream",
     "text": [
      "\r\n",
      "Epoch 472/600:  79%|███████▊  | 472/600 [6:41:25<1:44:08, 48.82s/it, v_num=7x_1, total_loss_train=551, kl_local_train=80.8, metric_mi|age_categorical_train=0.295]"
     ]
    },
    {
     "name": "stdout",
     "output_type": "stream",
     "text": [
      "\r\n",
      "Epoch 472/600:  79%|███████▊  | 472/600 [6:41:25<1:44:08, 48.82s/it, v_num=7x_1, total_loss_train=552, kl_local_train=81, metric_mi|age_categorical_train=0.295]  "
     ]
    },
    {
     "name": "stdout",
     "output_type": "stream",
     "text": [
      "\r\n",
      "Epoch 473/600:  79%|███████▊  | 472/600 [6:41:25<1:44:08, 48.82s/it, v_num=7x_1, total_loss_train=552, kl_local_train=81, metric_mi|age_categorical_train=0.295]"
     ]
    },
    {
     "name": "stdout",
     "output_type": "stream",
     "text": [
      "\r\n",
      "Epoch 473/600:  79%|███████▉  | 473/600 [6:42:13<1:43:03, 48.69s/it, v_num=7x_1, total_loss_train=552, kl_local_train=81, metric_mi|age_categorical_train=0.295]"
     ]
    },
    {
     "name": "stdout",
     "output_type": "stream",
     "text": [
      "\r\n",
      "Epoch 473/600:  79%|███████▉  | 473/600 [6:42:13<1:43:03, 48.69s/it, v_num=7x_1, total_loss_train=552, kl_local_train=80.9, metric_mi|age_categorical_train=0.295]"
     ]
    },
    {
     "name": "stdout",
     "output_type": "stream",
     "text": [
      "\r\n",
      "Epoch 474/600:  79%|███████▉  | 473/600 [6:42:13<1:43:03, 48.69s/it, v_num=7x_1, total_loss_train=552, kl_local_train=80.9, metric_mi|age_categorical_train=0.295]"
     ]
    },
    {
     "name": "stdout",
     "output_type": "stream",
     "text": [
      "\r\n",
      "Epoch 474/600:  79%|███████▉  | 474/600 [6:43:02<1:42:03, 48.60s/it, v_num=7x_1, total_loss_train=552, kl_local_train=80.9, metric_mi|age_categorical_train=0.295]"
     ]
    },
    {
     "name": "stdout",
     "output_type": "stream",
     "text": [
      "\r\n",
      "Epoch 474/600:  79%|███████▉  | 474/600 [6:43:02<1:42:03, 48.60s/it, v_num=7x_1, total_loss_train=552, kl_local_train=80.7, metric_mi|age_categorical_train=0.295]"
     ]
    },
    {
     "name": "stdout",
     "output_type": "stream",
     "text": [
      "\r\n",
      "Epoch 475/600:  79%|███████▉  | 474/600 [6:43:02<1:42:03, 48.60s/it, v_num=7x_1, total_loss_train=552, kl_local_train=80.7, metric_mi|age_categorical_train=0.295]"
     ]
    },
    {
     "name": "stdout",
     "output_type": "stream",
     "text": [
      "\r\n",
      "Epoch 475/600:  79%|███████▉  | 475/600 [6:43:51<1:41:19, 48.63s/it, v_num=7x_1, total_loss_train=552, kl_local_train=80.7, metric_mi|age_categorical_train=0.295]"
     ]
    },
    {
     "name": "stdout",
     "output_type": "stream",
     "text": [
      "\r\n",
      "Epoch 475/600:  79%|███████▉  | 475/600 [6:43:51<1:41:19, 48.63s/it, v_num=7x_1, total_loss_train=552, kl_local_train=80.8, metric_mi|age_categorical_train=0.295]"
     ]
    },
    {
     "name": "stdout",
     "output_type": "stream",
     "text": [
      "\r\n",
      "Epoch 476/600:  79%|███████▉  | 475/600 [6:43:51<1:41:19, 48.63s/it, v_num=7x_1, total_loss_train=552, kl_local_train=80.8, metric_mi|age_categorical_train=0.295]"
     ]
    },
    {
     "name": "stdout",
     "output_type": "stream",
     "text": [
      "\r\n",
      "Epoch 476/600:  79%|███████▉  | 476/600 [6:44:40<1:41:01, 48.88s/it, v_num=7x_1, total_loss_train=552, kl_local_train=80.8, metric_mi|age_categorical_train=0.295]"
     ]
    },
    {
     "name": "stdout",
     "output_type": "stream",
     "text": [
      "\r\n",
      "Epoch 476/600:  79%|███████▉  | 476/600 [6:44:40<1:41:01, 48.88s/it, v_num=7x_1, total_loss_train=552, kl_local_train=80.7, metric_mi|age_categorical_train=0.288]"
     ]
    },
    {
     "name": "stdout",
     "output_type": "stream",
     "text": [
      "\r\n",
      "Epoch 477/600:  79%|███████▉  | 476/600 [6:44:40<1:41:01, 48.88s/it, v_num=7x_1, total_loss_train=552, kl_local_train=80.7, metric_mi|age_categorical_train=0.288]"
     ]
    },
    {
     "name": "stdout",
     "output_type": "stream",
     "text": [
      "\r\n",
      "Epoch 477/600:  80%|███████▉  | 477/600 [6:45:29<1:40:10, 48.87s/it, v_num=7x_1, total_loss_train=552, kl_local_train=80.7, metric_mi|age_categorical_train=0.288]"
     ]
    },
    {
     "name": "stdout",
     "output_type": "stream",
     "text": [
      "\r\n",
      "Epoch 477/600:  80%|███████▉  | 477/600 [6:45:29<1:40:10, 48.87s/it, v_num=7x_1, total_loss_train=552, kl_local_train=80.8, metric_mi|age_categorical_train=0.288]"
     ]
    },
    {
     "name": "stdout",
     "output_type": "stream",
     "text": [
      "\r\n",
      "Epoch 478/600:  80%|███████▉  | 477/600 [6:45:29<1:40:10, 48.87s/it, v_num=7x_1, total_loss_train=552, kl_local_train=80.8, metric_mi|age_categorical_train=0.288]"
     ]
    },
    {
     "name": "stdout",
     "output_type": "stream",
     "text": [
      "\r\n",
      "Epoch 478/600:  80%|███████▉  | 478/600 [6:46:18<1:39:15, 48.82s/it, v_num=7x_1, total_loss_train=552, kl_local_train=80.8, metric_mi|age_categorical_train=0.288]"
     ]
    },
    {
     "name": "stdout",
     "output_type": "stream",
     "text": [
      "\r\n",
      "Epoch 478/600:  80%|███████▉  | 478/600 [6:46:18<1:39:15, 48.82s/it, v_num=7x_1, total_loss_train=553, kl_local_train=80.7, metric_mi|age_categorical_train=0.288]"
     ]
    },
    {
     "name": "stdout",
     "output_type": "stream",
     "text": [
      "\r\n",
      "Epoch 479/600:  80%|███████▉  | 478/600 [6:46:18<1:39:15, 48.82s/it, v_num=7x_1, total_loss_train=553, kl_local_train=80.7, metric_mi|age_categorical_train=0.288]"
     ]
    },
    {
     "name": "stdout",
     "output_type": "stream",
     "text": [
      "\r\n",
      "Epoch 479/600:  80%|███████▉  | 479/600 [6:47:06<1:38:20, 48.76s/it, v_num=7x_1, total_loss_train=553, kl_local_train=80.7, metric_mi|age_categorical_train=0.288]"
     ]
    },
    {
     "name": "stdout",
     "output_type": "stream",
     "text": [
      "\r\n",
      "Epoch 479/600:  80%|███████▉  | 479/600 [6:47:06<1:38:20, 48.76s/it, v_num=7x_1, total_loss_train=553, kl_local_train=80.4, metric_mi|age_categorical_train=0.288]"
     ]
    },
    {
     "name": "stdout",
     "output_type": "stream",
     "text": [
      "\r\n",
      "Epoch 480/600:  80%|███████▉  | 479/600 [6:47:06<1:38:20, 48.76s/it, v_num=7x_1, total_loss_train=553, kl_local_train=80.4, metric_mi|age_categorical_train=0.288]"
     ]
    },
    {
     "name": "stdout",
     "output_type": "stream",
     "text": [
      "\r\n",
      "Epoch 480/600:  80%|████████  | 480/600 [6:47:55<1:37:36, 48.80s/it, v_num=7x_1, total_loss_train=553, kl_local_train=80.4, metric_mi|age_categorical_train=0.288]"
     ]
    },
    {
     "name": "stdout",
     "output_type": "stream",
     "text": [
      "\r\n",
      "Epoch 480/600:  80%|████████  | 480/600 [6:47:55<1:37:36, 48.80s/it, v_num=7x_1, total_loss_train=552, kl_local_train=80.4, metric_mi|age_categorical_train=0.288]"
     ]
    },
    {
     "name": "stdout",
     "output_type": "stream",
     "text": [
      "\r\n",
      "Epoch 481/600:  80%|████████  | 480/600 [6:47:56<1:37:36, 48.80s/it, v_num=7x_1, total_loss_train=552, kl_local_train=80.4, metric_mi|age_categorical_train=0.288]"
     ]
    },
    {
     "name": "stdout",
     "output_type": "stream",
     "text": [
      "\r\n",
      "Epoch 481/600:  80%|████████  | 481/600 [6:48:45<1:37:16, 49.05s/it, v_num=7x_1, total_loss_train=552, kl_local_train=80.4, metric_mi|age_categorical_train=0.288]"
     ]
    },
    {
     "name": "stdout",
     "output_type": "stream",
     "text": [
      "\r\n",
      "Epoch 481/600:  80%|████████  | 481/600 [6:48:45<1:37:16, 49.05s/it, v_num=7x_1, total_loss_train=552, kl_local_train=80.4, metric_mi|age_categorical_train=0.294]"
     ]
    },
    {
     "name": "stdout",
     "output_type": "stream",
     "text": [
      "\r\n",
      "Epoch 482/600:  80%|████████  | 481/600 [6:48:45<1:37:16, 49.05s/it, v_num=7x_1, total_loss_train=552, kl_local_train=80.4, metric_mi|age_categorical_train=0.294]"
     ]
    },
    {
     "name": "stdout",
     "output_type": "stream",
     "text": [
      "\r\n",
      "Epoch 482/600:  80%|████████  | 482/600 [6:49:33<1:36:15, 48.94s/it, v_num=7x_1, total_loss_train=552, kl_local_train=80.4, metric_mi|age_categorical_train=0.294]"
     ]
    },
    {
     "name": "stdout",
     "output_type": "stream",
     "text": [
      "\r\n",
      "Epoch 482/600:  80%|████████  | 482/600 [6:49:33<1:36:15, 48.94s/it, v_num=7x_1, total_loss_train=553, kl_local_train=80.4, metric_mi|age_categorical_train=0.294]"
     ]
    },
    {
     "name": "stdout",
     "output_type": "stream",
     "text": [
      "\r\n",
      "Epoch 483/600:  80%|████████  | 482/600 [6:49:33<1:36:15, 48.94s/it, v_num=7x_1, total_loss_train=553, kl_local_train=80.4, metric_mi|age_categorical_train=0.294]"
     ]
    },
    {
     "name": "stdout",
     "output_type": "stream",
     "text": [
      "\r\n",
      "Epoch 483/600:  80%|████████  | 483/600 [6:50:22<1:35:18, 48.87s/it, v_num=7x_1, total_loss_train=553, kl_local_train=80.4, metric_mi|age_categorical_train=0.294]"
     ]
    },
    {
     "name": "stdout",
     "output_type": "stream",
     "text": [
      "\r\n",
      "Epoch 483/600:  80%|████████  | 483/600 [6:50:22<1:35:18, 48.87s/it, v_num=7x_1, total_loss_train=553, kl_local_train=80.1, metric_mi|age_categorical_train=0.294]"
     ]
    },
    {
     "name": "stdout",
     "output_type": "stream",
     "text": [
      "\r\n",
      "Epoch 484/600:  80%|████████  | 483/600 [6:50:22<1:35:18, 48.87s/it, v_num=7x_1, total_loss_train=553, kl_local_train=80.1, metric_mi|age_categorical_train=0.294]"
     ]
    },
    {
     "name": "stdout",
     "output_type": "stream",
     "text": [
      "\r\n",
      "Epoch 484/600:  81%|████████  | 484/600 [6:51:11<1:34:24, 48.83s/it, v_num=7x_1, total_loss_train=553, kl_local_train=80.1, metric_mi|age_categorical_train=0.294]"
     ]
    },
    {
     "name": "stdout",
     "output_type": "stream",
     "text": [
      "\r\n",
      "Epoch 484/600:  81%|████████  | 484/600 [6:51:11<1:34:24, 48.83s/it, v_num=7x_1, total_loss_train=553, kl_local_train=79.8, metric_mi|age_categorical_train=0.294]"
     ]
    },
    {
     "name": "stdout",
     "output_type": "stream",
     "text": [
      "\r\n",
      "Epoch 485/600:  81%|████████  | 484/600 [6:51:11<1:34:24, 48.83s/it, v_num=7x_1, total_loss_train=553, kl_local_train=79.8, metric_mi|age_categorical_train=0.294]"
     ]
    },
    {
     "name": "stdout",
     "output_type": "stream",
     "text": [
      "\r\n",
      "Epoch 485/600:  81%|████████  | 485/600 [6:52:00<1:33:36, 48.84s/it, v_num=7x_1, total_loss_train=553, kl_local_train=79.8, metric_mi|age_categorical_train=0.294]"
     ]
    },
    {
     "name": "stdout",
     "output_type": "stream",
     "text": [
      "\r\n",
      "Epoch 485/600:  81%|████████  | 485/600 [6:52:00<1:33:36, 48.84s/it, v_num=7x_1, total_loss_train=553, kl_local_train=79.9, metric_mi|age_categorical_train=0.294]"
     ]
    },
    {
     "name": "stdout",
     "output_type": "stream",
     "text": [
      "\r\n",
      "Epoch 486/600:  81%|████████  | 485/600 [6:52:00<1:33:36, 48.84s/it, v_num=7x_1, total_loss_train=553, kl_local_train=79.9, metric_mi|age_categorical_train=0.294]"
     ]
    },
    {
     "name": "stdout",
     "output_type": "stream",
     "text": [
      "\r\n",
      "Epoch 486/600:  81%|████████  | 486/600 [6:52:50<1:33:22, 49.14s/it, v_num=7x_1, total_loss_train=553, kl_local_train=79.9, metric_mi|age_categorical_train=0.294]"
     ]
    },
    {
     "name": "stdout",
     "output_type": "stream",
     "text": [
      "\r\n",
      "Epoch 486/600:  81%|████████  | 486/600 [6:52:50<1:33:22, 49.14s/it, v_num=7x_1, total_loss_train=553, kl_local_train=79.5, metric_mi|age_categorical_train=0.297]"
     ]
    },
    {
     "name": "stdout",
     "output_type": "stream",
     "text": [
      "\r\n",
      "Epoch 487/600:  81%|████████  | 486/600 [6:52:50<1:33:22, 49.14s/it, v_num=7x_1, total_loss_train=553, kl_local_train=79.5, metric_mi|age_categorical_train=0.297]"
     ]
    },
    {
     "name": "stdout",
     "output_type": "stream",
     "text": [
      "\r\n",
      "Epoch 487/600:  81%|████████  | 487/600 [6:53:39<1:32:28, 49.10s/it, v_num=7x_1, total_loss_train=553, kl_local_train=79.5, metric_mi|age_categorical_train=0.297]"
     ]
    },
    {
     "name": "stdout",
     "output_type": "stream",
     "text": [
      "\r\n",
      "Epoch 487/600:  81%|████████  | 487/600 [6:53:39<1:32:28, 49.10s/it, v_num=7x_1, total_loss_train=553, kl_local_train=79.1, metric_mi|age_categorical_train=0.297]"
     ]
    },
    {
     "name": "stdout",
     "output_type": "stream",
     "text": [
      "\r\n",
      "Epoch 488/600:  81%|████████  | 487/600 [6:53:39<1:32:28, 49.10s/it, v_num=7x_1, total_loss_train=553, kl_local_train=79.1, metric_mi|age_categorical_train=0.297]"
     ]
    },
    {
     "name": "stdout",
     "output_type": "stream",
     "text": [
      "\r\n",
      "Epoch 488/600:  81%|████████▏ | 488/600 [6:54:28<1:31:35, 49.07s/it, v_num=7x_1, total_loss_train=553, kl_local_train=79.1, metric_mi|age_categorical_train=0.297]"
     ]
    },
    {
     "name": "stdout",
     "output_type": "stream",
     "text": [
      "\r\n",
      "Epoch 488/600:  81%|████████▏ | 488/600 [6:54:28<1:31:35, 49.07s/it, v_num=7x_1, total_loss_train=553, kl_local_train=79.6, metric_mi|age_categorical_train=0.297]"
     ]
    },
    {
     "name": "stdout",
     "output_type": "stream",
     "text": [
      "\r\n",
      "Epoch 489/600:  81%|████████▏ | 488/600 [6:54:28<1:31:35, 49.07s/it, v_num=7x_1, total_loss_train=553, kl_local_train=79.6, metric_mi|age_categorical_train=0.297]"
     ]
    },
    {
     "name": "stdout",
     "output_type": "stream",
     "text": [
      "\r\n",
      "Epoch 489/600:  82%|████████▏ | 489/600 [6:55:16<1:30:40, 49.01s/it, v_num=7x_1, total_loss_train=553, kl_local_train=79.6, metric_mi|age_categorical_train=0.297]"
     ]
    },
    {
     "name": "stdout",
     "output_type": "stream",
     "text": [
      "\r\n",
      "Epoch 489/600:  82%|████████▏ | 489/600 [6:55:16<1:30:40, 49.01s/it, v_num=7x_1, total_loss_train=553, kl_local_train=79.7, metric_mi|age_categorical_train=0.297]"
     ]
    },
    {
     "name": "stdout",
     "output_type": "stream",
     "text": [
      "\r\n",
      "Epoch 490/600:  82%|████████▏ | 489/600 [6:55:16<1:30:40, 49.01s/it, v_num=7x_1, total_loss_train=553, kl_local_train=79.7, metric_mi|age_categorical_train=0.297]"
     ]
    },
    {
     "name": "stdout",
     "output_type": "stream",
     "text": [
      "\r\n",
      "Epoch 490/600:  82%|████████▏ | 490/600 [6:56:06<1:30:03, 49.12s/it, v_num=7x_1, total_loss_train=553, kl_local_train=79.7, metric_mi|age_categorical_train=0.297]"
     ]
    },
    {
     "name": "stdout",
     "output_type": "stream",
     "text": [
      "\r\n",
      "Epoch 490/600:  82%|████████▏ | 490/600 [6:56:06<1:30:03, 49.12s/it, v_num=7x_1, total_loss_train=553, kl_local_train=79.1, metric_mi|age_categorical_train=0.297]"
     ]
    },
    {
     "name": "stdout",
     "output_type": "stream",
     "text": [
      "\r\n",
      "Epoch 491/600:  82%|████████▏ | 490/600 [6:56:06<1:30:03, 49.12s/it, v_num=7x_1, total_loss_train=553, kl_local_train=79.1, metric_mi|age_categorical_train=0.297]"
     ]
    },
    {
     "name": "stdout",
     "output_type": "stream",
     "text": [
      "\r\n",
      "Epoch 491/600:  82%|████████▏ | 491/600 [6:56:56<1:29:37, 49.33s/it, v_num=7x_1, total_loss_train=553, kl_local_train=79.1, metric_mi|age_categorical_train=0.297]"
     ]
    },
    {
     "name": "stdout",
     "output_type": "stream",
     "text": [
      "\r\n",
      "Epoch 491/600:  82%|████████▏ | 491/600 [6:56:56<1:29:37, 49.33s/it, v_num=7x_1, total_loss_train=553, kl_local_train=79.1, metric_mi|age_categorical_train=0.307]"
     ]
    },
    {
     "name": "stdout",
     "output_type": "stream",
     "text": [
      "\r\n",
      "Epoch 492/600:  82%|████████▏ | 491/600 [6:56:56<1:29:37, 49.33s/it, v_num=7x_1, total_loss_train=553, kl_local_train=79.1, metric_mi|age_categorical_train=0.307]"
     ]
    },
    {
     "name": "stdout",
     "output_type": "stream",
     "text": [
      "\r\n",
      "Epoch 492/600:  82%|████████▏ | 492/600 [6:57:45<1:28:37, 49.23s/it, v_num=7x_1, total_loss_train=553, kl_local_train=79.1, metric_mi|age_categorical_train=0.307]"
     ]
    },
    {
     "name": "stdout",
     "output_type": "stream",
     "text": [
      "\r\n",
      "Epoch 492/600:  82%|████████▏ | 492/600 [6:57:45<1:28:37, 49.23s/it, v_num=7x_1, total_loss_train=553, kl_local_train=79.1, metric_mi|age_categorical_train=0.307]"
     ]
    },
    {
     "name": "stdout",
     "output_type": "stream",
     "text": [
      "\r\n",
      "Epoch 493/600:  82%|████████▏ | 492/600 [6:57:45<1:28:37, 49.23s/it, v_num=7x_1, total_loss_train=553, kl_local_train=79.1, metric_mi|age_categorical_train=0.307]"
     ]
    },
    {
     "name": "stdout",
     "output_type": "stream",
     "text": [
      "\r\n",
      "Epoch 493/600:  82%|████████▏ | 493/600 [6:58:34<1:27:39, 49.16s/it, v_num=7x_1, total_loss_train=553, kl_local_train=79.1, metric_mi|age_categorical_train=0.307]"
     ]
    },
    {
     "name": "stdout",
     "output_type": "stream",
     "text": [
      "\r\n",
      "Epoch 493/600:  82%|████████▏ | 493/600 [6:58:34<1:27:39, 49.16s/it, v_num=7x_1, total_loss_train=553, kl_local_train=79.1, metric_mi|age_categorical_train=0.307]"
     ]
    },
    {
     "name": "stdout",
     "output_type": "stream",
     "text": [
      "\r\n",
      "Epoch 494/600:  82%|████████▏ | 493/600 [6:58:34<1:27:39, 49.16s/it, v_num=7x_1, total_loss_train=553, kl_local_train=79.1, metric_mi|age_categorical_train=0.307]"
     ]
    },
    {
     "name": "stdout",
     "output_type": "stream",
     "text": [
      "\r\n",
      "Epoch 494/600:  82%|████████▏ | 494/600 [6:59:23<1:26:45, 49.11s/it, v_num=7x_1, total_loss_train=553, kl_local_train=79.1, metric_mi|age_categorical_train=0.307]"
     ]
    },
    {
     "name": "stdout",
     "output_type": "stream",
     "text": [
      "\r\n",
      "Epoch 494/600:  82%|████████▏ | 494/600 [6:59:23<1:26:45, 49.11s/it, v_num=7x_1, total_loss_train=553, kl_local_train=79, metric_mi|age_categorical_train=0.307]  "
     ]
    },
    {
     "name": "stdout",
     "output_type": "stream",
     "text": [
      "\r\n",
      "Epoch 495/600:  82%|████████▏ | 494/600 [6:59:23<1:26:45, 49.11s/it, v_num=7x_1, total_loss_train=553, kl_local_train=79, metric_mi|age_categorical_train=0.307]"
     ]
    },
    {
     "name": "stdout",
     "output_type": "stream",
     "text": [
      "\r\n",
      "Epoch 495/600:  82%|████████▎ | 495/600 [7:00:12<1:26:02, 49.17s/it, v_num=7x_1, total_loss_train=553, kl_local_train=79, metric_mi|age_categorical_train=0.307]"
     ]
    },
    {
     "name": "stdout",
     "output_type": "stream",
     "text": [
      "\r\n",
      "Epoch 495/600:  82%|████████▎ | 495/600 [7:00:12<1:26:02, 49.17s/it, v_num=7x_1, total_loss_train=554, kl_local_train=78.9, metric_mi|age_categorical_train=0.307]"
     ]
    },
    {
     "name": "stdout",
     "output_type": "stream",
     "text": [
      "\r\n",
      "Epoch 496/600:  82%|████████▎ | 495/600 [7:00:13<1:26:02, 49.17s/it, v_num=7x_1, total_loss_train=554, kl_local_train=78.9, metric_mi|age_categorical_train=0.307]"
     ]
    },
    {
     "name": "stdout",
     "output_type": "stream",
     "text": [
      "\r\n",
      "Epoch 496/600:  83%|████████▎ | 496/600 [7:01:01<1:25:27, 49.30s/it, v_num=7x_1, total_loss_train=554, kl_local_train=78.9, metric_mi|age_categorical_train=0.307]"
     ]
    },
    {
     "name": "stdout",
     "output_type": "stream",
     "text": [
      "\r\n",
      "Epoch 496/600:  83%|████████▎ | 496/600 [7:01:02<1:25:27, 49.30s/it, v_num=7x_1, total_loss_train=553, kl_local_train=78.8, metric_mi|age_categorical_train=0.311]"
     ]
    },
    {
     "name": "stdout",
     "output_type": "stream",
     "text": [
      "\r\n",
      "Epoch 497/600:  83%|████████▎ | 496/600 [7:01:02<1:25:27, 49.30s/it, v_num=7x_1, total_loss_train=553, kl_local_train=78.8, metric_mi|age_categorical_train=0.311]"
     ]
    },
    {
     "name": "stdout",
     "output_type": "stream",
     "text": [
      "\r\n",
      "Epoch 497/600:  83%|████████▎ | 497/600 [7:01:50<1:24:17, 49.10s/it, v_num=7x_1, total_loss_train=553, kl_local_train=78.8, metric_mi|age_categorical_train=0.311]"
     ]
    },
    {
     "name": "stdout",
     "output_type": "stream",
     "text": [
      "\r\n",
      "Epoch 497/600:  83%|████████▎ | 497/600 [7:01:50<1:24:17, 49.10s/it, v_num=7x_1, total_loss_train=554, kl_local_train=78.9, metric_mi|age_categorical_train=0.311]"
     ]
    },
    {
     "name": "stdout",
     "output_type": "stream",
     "text": [
      "\r\n",
      "Epoch 498/600:  83%|████████▎ | 497/600 [7:01:50<1:24:17, 49.10s/it, v_num=7x_1, total_loss_train=554, kl_local_train=78.9, metric_mi|age_categorical_train=0.311]"
     ]
    },
    {
     "name": "stdout",
     "output_type": "stream",
     "text": [
      "\r\n",
      "Epoch 498/600:  83%|████████▎ | 498/600 [7:02:39<1:23:16, 48.98s/it, v_num=7x_1, total_loss_train=554, kl_local_train=78.9, metric_mi|age_categorical_train=0.311]"
     ]
    },
    {
     "name": "stdout",
     "output_type": "stream",
     "text": [
      "\r\n",
      "Epoch 498/600:  83%|████████▎ | 498/600 [7:02:39<1:23:16, 48.98s/it, v_num=7x_1, total_loss_train=554, kl_local_train=78.8, metric_mi|age_categorical_train=0.311]"
     ]
    },
    {
     "name": "stdout",
     "output_type": "stream",
     "text": [
      "\r\n",
      "Epoch 499/600:  83%|████████▎ | 498/600 [7:02:39<1:23:16, 48.98s/it, v_num=7x_1, total_loss_train=554, kl_local_train=78.8, metric_mi|age_categorical_train=0.311]"
     ]
    },
    {
     "name": "stdout",
     "output_type": "stream",
     "text": [
      "\r\n",
      "Epoch 499/600:  83%|████████▎ | 499/600 [7:03:28<1:22:19, 48.91s/it, v_num=7x_1, total_loss_train=554, kl_local_train=78.8, metric_mi|age_categorical_train=0.311]"
     ]
    },
    {
     "name": "stdout",
     "output_type": "stream",
     "text": [
      "\r\n",
      "Epoch 499/600:  83%|████████▎ | 499/600 [7:03:28<1:22:19, 48.91s/it, v_num=7x_1, total_loss_train=554, kl_local_train=78.8, metric_mi|age_categorical_train=0.311]"
     ]
    },
    {
     "name": "stdout",
     "output_type": "stream",
     "text": [
      "\r\n",
      "Epoch 500/600:  83%|████████▎ | 499/600 [7:03:28<1:22:19, 48.91s/it, v_num=7x_1, total_loss_train=554, kl_local_train=78.8, metric_mi|age_categorical_train=0.311]"
     ]
    },
    {
     "name": "stdout",
     "output_type": "stream",
     "text": [
      "\r\n",
      "Epoch 500/600:  83%|████████▎ | 500/600 [7:04:16<1:21:28, 48.88s/it, v_num=7x_1, total_loss_train=554, kl_local_train=78.8, metric_mi|age_categorical_train=0.311]"
     ]
    },
    {
     "name": "stdout",
     "output_type": "stream",
     "text": [
      "\r\n",
      "Epoch 500/600:  83%|████████▎ | 500/600 [7:04:16<1:21:28, 48.88s/it, v_num=7x_1, total_loss_train=554, kl_local_train=78.3, metric_mi|age_categorical_train=0.311]"
     ]
    },
    {
     "name": "stdout",
     "output_type": "stream",
     "text": [
      "\r\n",
      "Epoch 501/600:  83%|████████▎ | 500/600 [7:04:17<1:21:28, 48.88s/it, v_num=7x_1, total_loss_train=554, kl_local_train=78.3, metric_mi|age_categorical_train=0.311]"
     ]
    },
    {
     "name": "stdout",
     "output_type": "stream",
     "text": [
      "\r\n",
      "Epoch 501/600:  84%|████████▎ | 501/600 [7:05:06<1:21:02, 49.12s/it, v_num=7x_1, total_loss_train=554, kl_local_train=78.3, metric_mi|age_categorical_train=0.311]"
     ]
    },
    {
     "name": "stdout",
     "output_type": "stream",
     "text": [
      "\r\n",
      "Epoch 501/600:  84%|████████▎ | 501/600 [7:05:06<1:21:02, 49.12s/it, v_num=7x_1, total_loss_train=554, kl_local_train=78.3, metric_mi|age_categorical_train=0.319]"
     ]
    },
    {
     "name": "stdout",
     "output_type": "stream",
     "text": [
      "\r\n",
      "Epoch 502/600:  84%|████████▎ | 501/600 [7:05:06<1:21:02, 49.12s/it, v_num=7x_1, total_loss_train=554, kl_local_train=78.3, metric_mi|age_categorical_train=0.319]"
     ]
    },
    {
     "name": "stdout",
     "output_type": "stream",
     "text": [
      "\r\n",
      "Epoch 502/600:  84%|████████▎ | 502/600 [7:05:55<1:20:02, 49.00s/it, v_num=7x_1, total_loss_train=554, kl_local_train=78.3, metric_mi|age_categorical_train=0.319]"
     ]
    },
    {
     "name": "stdout",
     "output_type": "stream",
     "text": [
      "\r\n",
      "Epoch 502/600:  84%|████████▎ | 502/600 [7:05:55<1:20:02, 49.00s/it, v_num=7x_1, total_loss_train=554, kl_local_train=78.3, metric_mi|age_categorical_train=0.319]"
     ]
    },
    {
     "name": "stdout",
     "output_type": "stream",
     "text": [
      "\r\n",
      "Epoch 503/600:  84%|████████▎ | 502/600 [7:05:55<1:20:02, 49.00s/it, v_num=7x_1, total_loss_train=554, kl_local_train=78.3, metric_mi|age_categorical_train=0.319]"
     ]
    },
    {
     "name": "stdout",
     "output_type": "stream",
     "text": [
      "\r\n",
      "Epoch 503/600:  84%|████████▍ | 503/600 [7:06:44<1:19:13, 49.00s/it, v_num=7x_1, total_loss_train=554, kl_local_train=78.3, metric_mi|age_categorical_train=0.319]"
     ]
    },
    {
     "name": "stdout",
     "output_type": "stream",
     "text": [
      "\r\n",
      "Epoch 503/600:  84%|████████▍ | 503/600 [7:06:44<1:19:13, 49.00s/it, v_num=7x_1, total_loss_train=554, kl_local_train=78.1, metric_mi|age_categorical_train=0.319]"
     ]
    },
    {
     "name": "stdout",
     "output_type": "stream",
     "text": [
      "\r\n",
      "Epoch 504/600:  84%|████████▍ | 503/600 [7:06:44<1:19:13, 49.00s/it, v_num=7x_1, total_loss_train=554, kl_local_train=78.1, metric_mi|age_categorical_train=0.319]"
     ]
    },
    {
     "name": "stdout",
     "output_type": "stream",
     "text": [
      "\r\n",
      "Epoch 504/600:  84%|████████▍ | 504/600 [7:07:33<1:18:20, 48.97s/it, v_num=7x_1, total_loss_train=554, kl_local_train=78.1, metric_mi|age_categorical_train=0.319]"
     ]
    },
    {
     "name": "stdout",
     "output_type": "stream",
     "text": [
      "\r\n",
      "Epoch 504/600:  84%|████████▍ | 504/600 [7:07:33<1:18:20, 48.97s/it, v_num=7x_1, total_loss_train=554, kl_local_train=77.7, metric_mi|age_categorical_train=0.319]"
     ]
    },
    {
     "name": "stdout",
     "output_type": "stream",
     "text": [
      "\r\n",
      "Epoch 505/600:  84%|████████▍ | 504/600 [7:07:33<1:18:20, 48.97s/it, v_num=7x_1, total_loss_train=554, kl_local_train=77.7, metric_mi|age_categorical_train=0.319]"
     ]
    },
    {
     "name": "stdout",
     "output_type": "stream",
     "text": [
      "\r\n",
      "Epoch 505/600:  84%|████████▍ | 505/600 [7:08:21<1:17:27, 48.92s/it, v_num=7x_1, total_loss_train=554, kl_local_train=77.7, metric_mi|age_categorical_train=0.319]"
     ]
    },
    {
     "name": "stdout",
     "output_type": "stream",
     "text": [
      "\r\n",
      "Epoch 505/600:  84%|████████▍ | 505/600 [7:08:21<1:17:27, 48.92s/it, v_num=7x_1, total_loss_train=554, kl_local_train=77.6, metric_mi|age_categorical_train=0.319]"
     ]
    },
    {
     "name": "stdout",
     "output_type": "stream",
     "text": [
      "\r\n",
      "Epoch 506/600:  84%|████████▍ | 505/600 [7:08:22<1:17:27, 48.92s/it, v_num=7x_1, total_loss_train=554, kl_local_train=77.6, metric_mi|age_categorical_train=0.319]"
     ]
    },
    {
     "name": "stdout",
     "output_type": "stream",
     "text": [
      "\r\n",
      "Epoch 506/600:  84%|████████▍ | 506/600 [7:09:11<1:16:56, 49.11s/it, v_num=7x_1, total_loss_train=554, kl_local_train=77.6, metric_mi|age_categorical_train=0.319]"
     ]
    },
    {
     "name": "stdout",
     "output_type": "stream",
     "text": [
      "\r\n",
      "Epoch 506/600:  84%|████████▍ | 506/600 [7:09:11<1:16:56, 49.11s/it, v_num=7x_1, total_loss_train=554, kl_local_train=77.9, metric_mi|age_categorical_train=0.327]"
     ]
    },
    {
     "name": "stdout",
     "output_type": "stream",
     "text": [
      "\r\n",
      "Epoch 507/600:  84%|████████▍ | 506/600 [7:09:11<1:16:56, 49.11s/it, v_num=7x_1, total_loss_train=554, kl_local_train=77.9, metric_mi|age_categorical_train=0.327]"
     ]
    },
    {
     "name": "stdout",
     "output_type": "stream",
     "text": [
      "\r\n",
      "Epoch 507/600:  84%|████████▍ | 507/600 [7:10:00<1:15:57, 49.01s/it, v_num=7x_1, total_loss_train=554, kl_local_train=77.9, metric_mi|age_categorical_train=0.327]"
     ]
    },
    {
     "name": "stdout",
     "output_type": "stream",
     "text": [
      "\r\n",
      "Epoch 507/600:  84%|████████▍ | 507/600 [7:10:00<1:15:57, 49.01s/it, v_num=7x_1, total_loss_train=554, kl_local_train=77.9, metric_mi|age_categorical_train=0.327]"
     ]
    },
    {
     "name": "stdout",
     "output_type": "stream",
     "text": [
      "\r\n",
      "Epoch 508/600:  84%|████████▍ | 507/600 [7:10:00<1:15:57, 49.01s/it, v_num=7x_1, total_loss_train=554, kl_local_train=77.9, metric_mi|age_categorical_train=0.327]"
     ]
    },
    {
     "name": "stdout",
     "output_type": "stream",
     "text": [
      "\r\n",
      "Epoch 508/600:  85%|████████▍ | 508/600 [7:10:48<1:14:59, 48.91s/it, v_num=7x_1, total_loss_train=554, kl_local_train=77.9, metric_mi|age_categorical_train=0.327]"
     ]
    },
    {
     "name": "stdout",
     "output_type": "stream",
     "text": [
      "\r\n",
      "Epoch 508/600:  85%|████████▍ | 508/600 [7:10:49<1:14:59, 48.91s/it, v_num=7x_1, total_loss_train=554, kl_local_train=77.8, metric_mi|age_categorical_train=0.327]"
     ]
    },
    {
     "name": "stdout",
     "output_type": "stream",
     "text": [
      "\r\n",
      "Epoch 509/600:  85%|████████▍ | 508/600 [7:10:49<1:14:59, 48.91s/it, v_num=7x_1, total_loss_train=554, kl_local_train=77.8, metric_mi|age_categorical_train=0.327]"
     ]
    },
    {
     "name": "stdout",
     "output_type": "stream",
     "text": [
      "\r\n",
      "Epoch 509/600:  85%|████████▍ | 509/600 [7:11:37<1:14:08, 48.89s/it, v_num=7x_1, total_loss_train=554, kl_local_train=77.8, metric_mi|age_categorical_train=0.327]"
     ]
    },
    {
     "name": "stdout",
     "output_type": "stream",
     "text": [
      "\r\n",
      "Epoch 509/600:  85%|████████▍ | 509/600 [7:11:37<1:14:08, 48.89s/it, v_num=7x_1, total_loss_train=555, kl_local_train=77.7, metric_mi|age_categorical_train=0.327]"
     ]
    },
    {
     "name": "stdout",
     "output_type": "stream",
     "text": [
      "\r\n",
      "Epoch 510/600:  85%|████████▍ | 509/600 [7:11:37<1:14:08, 48.89s/it, v_num=7x_1, total_loss_train=555, kl_local_train=77.7, metric_mi|age_categorical_train=0.327]"
     ]
    },
    {
     "name": "stdout",
     "output_type": "stream",
     "text": [
      "\r\n",
      "Epoch 510/600:  85%|████████▌ | 510/600 [7:12:27<1:13:30, 49.00s/it, v_num=7x_1, total_loss_train=555, kl_local_train=77.7, metric_mi|age_categorical_train=0.327]"
     ]
    },
    {
     "name": "stdout",
     "output_type": "stream",
     "text": [
      "\r\n",
      "Epoch 510/600:  85%|████████▌ | 510/600 [7:12:27<1:13:30, 49.00s/it, v_num=7x_1, total_loss_train=555, kl_local_train=77.5, metric_mi|age_categorical_train=0.327]"
     ]
    },
    {
     "name": "stdout",
     "output_type": "stream",
     "text": [
      "\r\n",
      "Epoch 511/600:  85%|████████▌ | 510/600 [7:12:27<1:13:30, 49.00s/it, v_num=7x_1, total_loss_train=555, kl_local_train=77.5, metric_mi|age_categorical_train=0.327]"
     ]
    },
    {
     "name": "stdout",
     "output_type": "stream",
     "text": [
      "\r\n",
      "Epoch 511/600:  85%|████████▌ | 511/600 [7:13:16<1:13:00, 49.22s/it, v_num=7x_1, total_loss_train=555, kl_local_train=77.5, metric_mi|age_categorical_train=0.327]"
     ]
    },
    {
     "name": "stdout",
     "output_type": "stream",
     "text": [
      "\r\n",
      "Epoch 511/600:  85%|████████▌ | 511/600 [7:13:16<1:13:00, 49.22s/it, v_num=7x_1, total_loss_train=555, kl_local_train=77.8, metric_mi|age_categorical_train=0.326]"
     ]
    },
    {
     "name": "stdout",
     "output_type": "stream",
     "text": [
      "\r\n",
      "Epoch 512/600:  85%|████████▌ | 511/600 [7:13:16<1:13:00, 49.22s/it, v_num=7x_1, total_loss_train=555, kl_local_train=77.8, metric_mi|age_categorical_train=0.326]"
     ]
    },
    {
     "name": "stdout",
     "output_type": "stream",
     "text": [
      "\r\n",
      "Epoch 512/600:  85%|████████▌ | 512/600 [7:14:05<1:11:55, 49.04s/it, v_num=7x_1, total_loss_train=555, kl_local_train=77.8, metric_mi|age_categorical_train=0.326]"
     ]
    },
    {
     "name": "stdout",
     "output_type": "stream",
     "text": [
      "\r\n",
      "Epoch 512/600:  85%|████████▌ | 512/600 [7:14:05<1:11:55, 49.04s/it, v_num=7x_1, total_loss_train=555, kl_local_train=77.6, metric_mi|age_categorical_train=0.326]"
     ]
    },
    {
     "name": "stdout",
     "output_type": "stream",
     "text": [
      "\r\n",
      "Epoch 513/600:  85%|████████▌ | 512/600 [7:14:05<1:11:55, 49.04s/it, v_num=7x_1, total_loss_train=555, kl_local_train=77.6, metric_mi|age_categorical_train=0.326]"
     ]
    },
    {
     "name": "stdout",
     "output_type": "stream",
     "text": [
      "\r\n",
      "Epoch 513/600:  86%|████████▌ | 513/600 [7:14:53<1:10:51, 48.87s/it, v_num=7x_1, total_loss_train=555, kl_local_train=77.6, metric_mi|age_categorical_train=0.326]"
     ]
    },
    {
     "name": "stdout",
     "output_type": "stream",
     "text": [
      "\r\n",
      "Epoch 513/600:  86%|████████▌ | 513/600 [7:14:53<1:10:51, 48.87s/it, v_num=7x_1, total_loss_train=555, kl_local_train=77, metric_mi|age_categorical_train=0.326]  "
     ]
    },
    {
     "name": "stdout",
     "output_type": "stream",
     "text": [
      "\r\n",
      "Epoch 514/600:  86%|████████▌ | 513/600 [7:14:53<1:10:51, 48.87s/it, v_num=7x_1, total_loss_train=555, kl_local_train=77, metric_mi|age_categorical_train=0.326]"
     ]
    },
    {
     "name": "stdout",
     "output_type": "stream",
     "text": [
      "\r\n",
      "Epoch 514/600:  86%|████████▌ | 514/600 [7:15:42<1:09:50, 48.73s/it, v_num=7x_1, total_loss_train=555, kl_local_train=77, metric_mi|age_categorical_train=0.326]"
     ]
    },
    {
     "name": "stdout",
     "output_type": "stream",
     "text": [
      "\r\n",
      "Epoch 514/600:  86%|████████▌ | 514/600 [7:15:42<1:09:50, 48.73s/it, v_num=7x_1, total_loss_train=555, kl_local_train=77.1, metric_mi|age_categorical_train=0.326]"
     ]
    },
    {
     "name": "stdout",
     "output_type": "stream",
     "text": [
      "\r\n",
      "Epoch 515/600:  86%|████████▌ | 514/600 [7:15:42<1:09:50, 48.73s/it, v_num=7x_1, total_loss_train=555, kl_local_train=77.1, metric_mi|age_categorical_train=0.326]"
     ]
    },
    {
     "name": "stdout",
     "output_type": "stream",
     "text": [
      "\r\n",
      "Epoch 515/600:  86%|████████▌ | 515/600 [7:16:31<1:09:04, 48.76s/it, v_num=7x_1, total_loss_train=555, kl_local_train=77.1, metric_mi|age_categorical_train=0.326]"
     ]
    },
    {
     "name": "stdout",
     "output_type": "stream",
     "text": [
      "\r\n",
      "Epoch 515/600:  86%|████████▌ | 515/600 [7:16:31<1:09:04, 48.76s/it, v_num=7x_1, total_loss_train=555, kl_local_train=77.4, metric_mi|age_categorical_train=0.326]"
     ]
    },
    {
     "name": "stdout",
     "output_type": "stream",
     "text": [
      "\r\n",
      "Epoch 516/600:  86%|████████▌ | 515/600 [7:16:31<1:09:04, 48.76s/it, v_num=7x_1, total_loss_train=555, kl_local_train=77.4, metric_mi|age_categorical_train=0.326]"
     ]
    },
    {
     "name": "stdout",
     "output_type": "stream",
     "text": [
      "\r\n",
      "Epoch 516/600:  86%|████████▌ | 516/600 [7:17:21<1:08:48, 49.15s/it, v_num=7x_1, total_loss_train=555, kl_local_train=77.4, metric_mi|age_categorical_train=0.326]"
     ]
    },
    {
     "name": "stdout",
     "output_type": "stream",
     "text": [
      "\r\n",
      "Epoch 516/600:  86%|████████▌ | 516/600 [7:17:21<1:08:48, 49.15s/it, v_num=7x_1, total_loss_train=555, kl_local_train=77.3, metric_mi|age_categorical_train=0.315]"
     ]
    },
    {
     "name": "stdout",
     "output_type": "stream",
     "text": [
      "\r\n",
      "Epoch 517/600:  86%|████████▌ | 516/600 [7:17:21<1:08:48, 49.15s/it, v_num=7x_1, total_loss_train=555, kl_local_train=77.3, metric_mi|age_categorical_train=0.315]"
     ]
    },
    {
     "name": "stdout",
     "output_type": "stream",
     "text": [
      "\r\n",
      "Epoch 517/600:  86%|████████▌ | 517/600 [7:18:10<1:07:58, 49.14s/it, v_num=7x_1, total_loss_train=555, kl_local_train=77.3, metric_mi|age_categorical_train=0.315]"
     ]
    },
    {
     "name": "stdout",
     "output_type": "stream",
     "text": [
      "\r\n",
      "Epoch 517/600:  86%|████████▌ | 517/600 [7:18:10<1:07:58, 49.14s/it, v_num=7x_1, total_loss_train=555, kl_local_train=77, metric_mi|age_categorical_train=0.315]  "
     ]
    },
    {
     "name": "stdout",
     "output_type": "stream",
     "text": [
      "\r\n",
      "Epoch 518/600:  86%|████████▌ | 517/600 [7:18:10<1:07:58, 49.14s/it, v_num=7x_1, total_loss_train=555, kl_local_train=77, metric_mi|age_categorical_train=0.315]"
     ]
    },
    {
     "name": "stdout",
     "output_type": "stream",
     "text": [
      "\r\n",
      "Epoch 518/600:  86%|████████▋ | 518/600 [7:18:59<1:07:11, 49.17s/it, v_num=7x_1, total_loss_train=555, kl_local_train=77, metric_mi|age_categorical_train=0.315]"
     ]
    },
    {
     "name": "stdout",
     "output_type": "stream",
     "text": [
      "\r\n",
      "Epoch 518/600:  86%|████████▋ | 518/600 [7:18:59<1:07:11, 49.17s/it, v_num=7x_1, total_loss_train=555, kl_local_train=77, metric_mi|age_categorical_train=0.315]"
     ]
    },
    {
     "name": "stdout",
     "output_type": "stream",
     "text": [
      "\r\n",
      "Epoch 519/600:  86%|████████▋ | 518/600 [7:18:59<1:07:11, 49.17s/it, v_num=7x_1, total_loss_train=555, kl_local_train=77, metric_mi|age_categorical_train=0.315]"
     ]
    },
    {
     "name": "stdout",
     "output_type": "stream",
     "text": [
      "\r\n",
      "Epoch 519/600:  86%|████████▋ | 519/600 [7:19:48<1:06:23, 49.18s/it, v_num=7x_1, total_loss_train=555, kl_local_train=77, metric_mi|age_categorical_train=0.315]"
     ]
    },
    {
     "name": "stdout",
     "output_type": "stream",
     "text": [
      "\r\n",
      "Epoch 519/600:  86%|████████▋ | 519/600 [7:19:48<1:06:23, 49.18s/it, v_num=7x_1, total_loss_train=555, kl_local_train=76.8, metric_mi|age_categorical_train=0.315]"
     ]
    },
    {
     "name": "stdout",
     "output_type": "stream",
     "text": [
      "\r\n",
      "Epoch 520/600:  86%|████████▋ | 519/600 [7:19:48<1:06:23, 49.18s/it, v_num=7x_1, total_loss_train=555, kl_local_train=76.8, metric_mi|age_categorical_train=0.315]"
     ]
    },
    {
     "name": "stdout",
     "output_type": "stream",
     "text": [
      "\r\n",
      "Epoch 520/600:  87%|████████▋ | 520/600 [7:20:38<1:05:36, 49.21s/it, v_num=7x_1, total_loss_train=555, kl_local_train=76.8, metric_mi|age_categorical_train=0.315]"
     ]
    },
    {
     "name": "stdout",
     "output_type": "stream",
     "text": [
      "\r\n",
      "Epoch 520/600:  87%|████████▋ | 520/600 [7:20:38<1:05:36, 49.21s/it, v_num=7x_1, total_loss_train=556, kl_local_train=76.8, metric_mi|age_categorical_train=0.315]"
     ]
    },
    {
     "name": "stdout",
     "output_type": "stream",
     "text": [
      "\r\n",
      "Epoch 521/600:  87%|████████▋ | 520/600 [7:20:38<1:05:36, 49.21s/it, v_num=7x_1, total_loss_train=556, kl_local_train=76.8, metric_mi|age_categorical_train=0.315]"
     ]
    },
    {
     "name": "stdout",
     "output_type": "stream",
     "text": [
      "\r\n",
      "Epoch 521/600:  87%|████████▋ | 521/600 [7:21:28<1:05:10, 49.50s/it, v_num=7x_1, total_loss_train=556, kl_local_train=76.8, metric_mi|age_categorical_train=0.315]"
     ]
    },
    {
     "name": "stdout",
     "output_type": "stream",
     "text": [
      "\r\n",
      "Epoch 521/600:  87%|████████▋ | 521/600 [7:21:28<1:05:10, 49.50s/it, v_num=7x_1, total_loss_train=556, kl_local_train=76.8, metric_mi|age_categorical_train=0.309]"
     ]
    },
    {
     "name": "stdout",
     "output_type": "stream",
     "text": [
      "\r\n",
      "Epoch 522/600:  87%|████████▋ | 521/600 [7:21:28<1:05:10, 49.50s/it, v_num=7x_1, total_loss_train=556, kl_local_train=76.8, metric_mi|age_categorical_train=0.309]"
     ]
    },
    {
     "name": "stdout",
     "output_type": "stream",
     "text": [
      "\r\n",
      "Epoch 522/600:  87%|████████▋ | 522/600 [7:22:17<1:04:16, 49.44s/it, v_num=7x_1, total_loss_train=556, kl_local_train=76.8, metric_mi|age_categorical_train=0.309]"
     ]
    },
    {
     "name": "stdout",
     "output_type": "stream",
     "text": [
      "\r\n",
      "Epoch 522/600:  87%|████████▋ | 522/600 [7:22:17<1:04:16, 49.44s/it, v_num=7x_1, total_loss_train=555, kl_local_train=76.6, metric_mi|age_categorical_train=0.309]"
     ]
    },
    {
     "name": "stdout",
     "output_type": "stream",
     "text": [
      "\r\n",
      "Epoch 523/600:  87%|████████▋ | 522/600 [7:22:17<1:04:16, 49.44s/it, v_num=7x_1, total_loss_train=555, kl_local_train=76.6, metric_mi|age_categorical_train=0.309]"
     ]
    },
    {
     "name": "stdout",
     "output_type": "stream",
     "text": [
      "\r\n",
      "Epoch 523/600:  87%|████████▋ | 523/600 [7:23:06<1:03:19, 49.34s/it, v_num=7x_1, total_loss_train=555, kl_local_train=76.6, metric_mi|age_categorical_train=0.309]"
     ]
    },
    {
     "name": "stdout",
     "output_type": "stream",
     "text": [
      "\r\n",
      "Epoch 523/600:  87%|████████▋ | 523/600 [7:23:06<1:03:19, 49.34s/it, v_num=7x_1, total_loss_train=556, kl_local_train=76.5, metric_mi|age_categorical_train=0.309]"
     ]
    },
    {
     "name": "stdout",
     "output_type": "stream",
     "text": [
      "\r\n",
      "Epoch 524/600:  87%|████████▋ | 523/600 [7:23:06<1:03:19, 49.34s/it, v_num=7x_1, total_loss_train=556, kl_local_train=76.5, metric_mi|age_categorical_train=0.309]"
     ]
    },
    {
     "name": "stdout",
     "output_type": "stream",
     "text": [
      "\r\n",
      "Epoch 524/600:  87%|████████▋ | 524/600 [7:23:55<1:02:25, 49.28s/it, v_num=7x_1, total_loss_train=556, kl_local_train=76.5, metric_mi|age_categorical_train=0.309]"
     ]
    },
    {
     "name": "stdout",
     "output_type": "stream",
     "text": [
      "\r\n",
      "Epoch 524/600:  87%|████████▋ | 524/600 [7:23:55<1:02:25, 49.28s/it, v_num=7x_1, total_loss_train=555, kl_local_train=76.3, metric_mi|age_categorical_train=0.309]"
     ]
    },
    {
     "name": "stdout",
     "output_type": "stream",
     "text": [
      "\r\n",
      "Epoch 525/600:  87%|████████▋ | 524/600 [7:23:55<1:02:25, 49.28s/it, v_num=7x_1, total_loss_train=555, kl_local_train=76.3, metric_mi|age_categorical_train=0.309]"
     ]
    },
    {
     "name": "stdout",
     "output_type": "stream",
     "text": [
      "\r\n",
      "Epoch 525/600:  88%|████████▊ | 525/600 [7:24:45<1:01:37, 49.31s/it, v_num=7x_1, total_loss_train=555, kl_local_train=76.3, metric_mi|age_categorical_train=0.309]"
     ]
    },
    {
     "name": "stdout",
     "output_type": "stream",
     "text": [
      "\r\n",
      "Epoch 525/600:  88%|████████▊ | 525/600 [7:24:45<1:01:37, 49.31s/it, v_num=7x_1, total_loss_train=556, kl_local_train=76.3, metric_mi|age_categorical_train=0.309]"
     ]
    },
    {
     "name": "stdout",
     "output_type": "stream",
     "text": [
      "\r\n",
      "Epoch 526/600:  88%|████████▊ | 525/600 [7:24:45<1:01:37, 49.31s/it, v_num=7x_1, total_loss_train=556, kl_local_train=76.3, metric_mi|age_categorical_train=0.309]"
     ]
    },
    {
     "name": "stdout",
     "output_type": "stream",
     "text": [
      "\r\n",
      "Epoch 526/600:  88%|████████▊ | 526/600 [7:25:35<1:01:02, 49.50s/it, v_num=7x_1, total_loss_train=556, kl_local_train=76.3, metric_mi|age_categorical_train=0.309]"
     ]
    },
    {
     "name": "stdout",
     "output_type": "stream",
     "text": [
      "\r\n",
      "Epoch 526/600:  88%|████████▊ | 526/600 [7:25:35<1:01:02, 49.50s/it, v_num=7x_1, total_loss_train=556, kl_local_train=76.1, metric_mi|age_categorical_train=0.301]"
     ]
    },
    {
     "name": "stdout",
     "output_type": "stream",
     "text": [
      "\r\n",
      "Epoch 527/600:  88%|████████▊ | 526/600 [7:25:35<1:01:02, 49.50s/it, v_num=7x_1, total_loss_train=556, kl_local_train=76.1, metric_mi|age_categorical_train=0.301]"
     ]
    },
    {
     "name": "stdout",
     "output_type": "stream",
     "text": [
      "\r\n",
      "Epoch 527/600:  88%|████████▊ | 527/600 [7:26:24<1:00:04, 49.38s/it, v_num=7x_1, total_loss_train=556, kl_local_train=76.1, metric_mi|age_categorical_train=0.301]"
     ]
    },
    {
     "name": "stdout",
     "output_type": "stream",
     "text": [
      "\r\n",
      "Epoch 527/600:  88%|████████▊ | 527/600 [7:26:24<1:00:04, 49.38s/it, v_num=7x_1, total_loss_train=556, kl_local_train=75.9, metric_mi|age_categorical_train=0.301]"
     ]
    },
    {
     "name": "stdout",
     "output_type": "stream",
     "text": [
      "\r\n",
      "Epoch 528/600:  88%|████████▊ | 527/600 [7:26:24<1:00:04, 49.38s/it, v_num=7x_1, total_loss_train=556, kl_local_train=75.9, metric_mi|age_categorical_train=0.301]"
     ]
    },
    {
     "name": "stdout",
     "output_type": "stream",
     "text": [
      "\r\n",
      "Epoch 528/600:  88%|████████▊ | 528/600 [7:27:13<59:14, 49.36s/it, v_num=7x_1, total_loss_train=556, kl_local_train=75.9, metric_mi|age_categorical_train=0.301]  "
     ]
    },
    {
     "name": "stdout",
     "output_type": "stream",
     "text": [
      "\r\n",
      "Epoch 528/600:  88%|████████▊ | 528/600 [7:27:13<59:14, 49.36s/it, v_num=7x_1, total_loss_train=556, kl_local_train=75.9, metric_mi|age_categorical_train=0.301]"
     ]
    },
    {
     "name": "stdout",
     "output_type": "stream",
     "text": [
      "\r\n",
      "Epoch 529/600:  88%|████████▊ | 528/600 [7:27:13<59:14, 49.36s/it, v_num=7x_1, total_loss_train=556, kl_local_train=75.9, metric_mi|age_categorical_train=0.301]"
     ]
    },
    {
     "name": "stdout",
     "output_type": "stream",
     "text": [
      "\r\n",
      "Epoch 529/600:  88%|████████▊ | 529/600 [7:28:02<58:18, 49.27s/it, v_num=7x_1, total_loss_train=556, kl_local_train=75.9, metric_mi|age_categorical_train=0.301]"
     ]
    },
    {
     "name": "stdout",
     "output_type": "stream",
     "text": [
      "\r\n",
      "Epoch 529/600:  88%|████████▊ | 529/600 [7:28:02<58:18, 49.27s/it, v_num=7x_1, total_loss_train=556, kl_local_train=75.7, metric_mi|age_categorical_train=0.301]"
     ]
    },
    {
     "name": "stdout",
     "output_type": "stream",
     "text": [
      "\r\n",
      "Epoch 530/600:  88%|████████▊ | 529/600 [7:28:02<58:18, 49.27s/it, v_num=7x_1, total_loss_train=556, kl_local_train=75.7, metric_mi|age_categorical_train=0.301]"
     ]
    },
    {
     "name": "stdout",
     "output_type": "stream",
     "text": [
      "\r\n",
      "Epoch 530/600:  88%|████████▊ | 530/600 [7:28:51<57:27, 49.25s/it, v_num=7x_1, total_loss_train=556, kl_local_train=75.7, metric_mi|age_categorical_train=0.301]"
     ]
    },
    {
     "name": "stdout",
     "output_type": "stream",
     "text": [
      "\r\n",
      "Epoch 530/600:  88%|████████▊ | 530/600 [7:28:51<57:27, 49.25s/it, v_num=7x_1, total_loss_train=556, kl_local_train=75.6, metric_mi|age_categorical_train=0.301]"
     ]
    },
    {
     "name": "stdout",
     "output_type": "stream",
     "text": [
      "\r\n",
      "Epoch 531/600:  88%|████████▊ | 530/600 [7:28:52<57:27, 49.25s/it, v_num=7x_1, total_loss_train=556, kl_local_train=75.6, metric_mi|age_categorical_train=0.301]"
     ]
    },
    {
     "name": "stdout",
     "output_type": "stream",
     "text": [
      "\r\n",
      "Epoch 531/600:  88%|████████▊ | 531/600 [7:29:41<56:54, 49.48s/it, v_num=7x_1, total_loss_train=556, kl_local_train=75.6, metric_mi|age_categorical_train=0.301]"
     ]
    },
    {
     "name": "stdout",
     "output_type": "stream",
     "text": [
      "\r\n",
      "Epoch 531/600:  88%|████████▊ | 531/600 [7:29:41<56:54, 49.48s/it, v_num=7x_1, total_loss_train=556, kl_local_train=75.8, metric_mi|age_categorical_train=0.289]"
     ]
    },
    {
     "name": "stdout",
     "output_type": "stream",
     "text": [
      "\r\n",
      "Epoch 532/600:  88%|████████▊ | 531/600 [7:29:41<56:54, 49.48s/it, v_num=7x_1, total_loss_train=556, kl_local_train=75.8, metric_mi|age_categorical_train=0.289]"
     ]
    },
    {
     "name": "stdout",
     "output_type": "stream",
     "text": [
      "\r\n",
      "Epoch 532/600:  89%|████████▊ | 532/600 [7:30:31<56:01, 49.43s/it, v_num=7x_1, total_loss_train=556, kl_local_train=75.8, metric_mi|age_categorical_train=0.289]"
     ]
    },
    {
     "name": "stdout",
     "output_type": "stream",
     "text": [
      "\r\n",
      "Epoch 532/600:  89%|████████▊ | 532/600 [7:30:31<56:01, 49.43s/it, v_num=7x_1, total_loss_train=557, kl_local_train=75.8, metric_mi|age_categorical_train=0.289]"
     ]
    },
    {
     "name": "stdout",
     "output_type": "stream",
     "text": [
      "\r\n",
      "Epoch 533/600:  89%|████████▊ | 532/600 [7:30:31<56:01, 49.43s/it, v_num=7x_1, total_loss_train=557, kl_local_train=75.8, metric_mi|age_categorical_train=0.289]"
     ]
    },
    {
     "name": "stdout",
     "output_type": "stream",
     "text": [
      "\r\n",
      "Epoch 533/600:  89%|████████▉ | 533/600 [7:31:20<55:07, 49.37s/it, v_num=7x_1, total_loss_train=557, kl_local_train=75.8, metric_mi|age_categorical_train=0.289]"
     ]
    },
    {
     "name": "stdout",
     "output_type": "stream",
     "text": [
      "\r\n",
      "Epoch 533/600:  89%|████████▉ | 533/600 [7:31:20<55:07, 49.37s/it, v_num=7x_1, total_loss_train=557, kl_local_train=75.9, metric_mi|age_categorical_train=0.289]"
     ]
    },
    {
     "name": "stdout",
     "output_type": "stream",
     "text": [
      "\r\n",
      "Epoch 534/600:  89%|████████▉ | 533/600 [7:31:20<55:07, 49.37s/it, v_num=7x_1, total_loss_train=557, kl_local_train=75.9, metric_mi|age_categorical_train=0.289]"
     ]
    },
    {
     "name": "stdout",
     "output_type": "stream",
     "text": [
      "\r\n",
      "Epoch 534/600:  89%|████████▉ | 534/600 [7:32:09<54:14, 49.30s/it, v_num=7x_1, total_loss_train=557, kl_local_train=75.9, metric_mi|age_categorical_train=0.289]"
     ]
    },
    {
     "name": "stdout",
     "output_type": "stream",
     "text": [
      "\r\n",
      "Epoch 534/600:  89%|████████▉ | 534/600 [7:32:09<54:14, 49.30s/it, v_num=7x_1, total_loss_train=557, kl_local_train=75.9, metric_mi|age_categorical_train=0.289]"
     ]
    },
    {
     "name": "stdout",
     "output_type": "stream",
     "text": [
      "\r\n",
      "Epoch 535/600:  89%|████████▉ | 534/600 [7:32:09<54:14, 49.30s/it, v_num=7x_1, total_loss_train=557, kl_local_train=75.9, metric_mi|age_categorical_train=0.289]"
     ]
    },
    {
     "name": "stdout",
     "output_type": "stream",
     "text": [
      "\r\n",
      "Epoch 535/600:  89%|████████▉ | 535/600 [7:32:59<53:30, 49.39s/it, v_num=7x_1, total_loss_train=557, kl_local_train=75.9, metric_mi|age_categorical_train=0.289]"
     ]
    },
    {
     "name": "stdout",
     "output_type": "stream",
     "text": [
      "\r\n",
      "Epoch 535/600:  89%|████████▉ | 535/600 [7:32:59<53:30, 49.39s/it, v_num=7x_1, total_loss_train=556, kl_local_train=75.8, metric_mi|age_categorical_train=0.289]"
     ]
    },
    {
     "name": "stdout",
     "output_type": "stream",
     "text": [
      "\r\n",
      "Epoch 536/600:  89%|████████▉ | 535/600 [7:32:59<53:30, 49.39s/it, v_num=7x_1, total_loss_train=556, kl_local_train=75.8, metric_mi|age_categorical_train=0.289]"
     ]
    },
    {
     "name": "stdout",
     "output_type": "stream",
     "text": [
      "\r\n",
      "Epoch 536/600:  89%|████████▉ | 536/600 [7:33:48<52:46, 49.48s/it, v_num=7x_1, total_loss_train=556, kl_local_train=75.8, metric_mi|age_categorical_train=0.289]"
     ]
    },
    {
     "name": "stdout",
     "output_type": "stream",
     "text": [
      "\r\n",
      "Epoch 536/600:  89%|████████▉ | 536/600 [7:33:48<52:46, 49.48s/it, v_num=7x_1, total_loss_train=557, kl_local_train=75.4, metric_mi|age_categorical_train=0.301]"
     ]
    },
    {
     "name": "stdout",
     "output_type": "stream",
     "text": [
      "\r\n",
      "Epoch 537/600:  89%|████████▉ | 536/600 [7:33:48<52:46, 49.48s/it, v_num=7x_1, total_loss_train=557, kl_local_train=75.4, metric_mi|age_categorical_train=0.301]"
     ]
    },
    {
     "name": "stdout",
     "output_type": "stream",
     "text": [
      "\r\n",
      "Epoch 537/600:  90%|████████▉ | 537/600 [7:34:37<51:43, 49.26s/it, v_num=7x_1, total_loss_train=557, kl_local_train=75.4, metric_mi|age_categorical_train=0.301]"
     ]
    },
    {
     "name": "stdout",
     "output_type": "stream",
     "text": [
      "\r\n",
      "Epoch 537/600:  90%|████████▉ | 537/600 [7:34:37<51:43, 49.26s/it, v_num=7x_1, total_loss_train=557, kl_local_train=75.5, metric_mi|age_categorical_train=0.301]"
     ]
    },
    {
     "name": "stdout",
     "output_type": "stream",
     "text": [
      "\r\n",
      "Epoch 538/600:  90%|████████▉ | 537/600 [7:34:37<51:43, 49.26s/it, v_num=7x_1, total_loss_train=557, kl_local_train=75.5, metric_mi|age_categorical_train=0.301]"
     ]
    },
    {
     "name": "stdout",
     "output_type": "stream",
     "text": [
      "\r\n",
      "Epoch 538/600:  90%|████████▉ | 538/600 [7:35:26<50:44, 49.10s/it, v_num=7x_1, total_loss_train=557, kl_local_train=75.5, metric_mi|age_categorical_train=0.301]"
     ]
    },
    {
     "name": "stdout",
     "output_type": "stream",
     "text": [
      "\r\n",
      "Epoch 538/600:  90%|████████▉ | 538/600 [7:35:26<50:44, 49.10s/it, v_num=7x_1, total_loss_train=557, kl_local_train=75.3, metric_mi|age_categorical_train=0.301]"
     ]
    },
    {
     "name": "stdout",
     "output_type": "stream",
     "text": [
      "\r\n",
      "Epoch 539/600:  90%|████████▉ | 538/600 [7:35:26<50:44, 49.10s/it, v_num=7x_1, total_loss_train=557, kl_local_train=75.3, metric_mi|age_categorical_train=0.301]"
     ]
    },
    {
     "name": "stdout",
     "output_type": "stream",
     "text": [
      "\r\n",
      "Epoch 539/600:  90%|████████▉ | 539/600 [7:36:14<49:47, 48.98s/it, v_num=7x_1, total_loss_train=557, kl_local_train=75.3, metric_mi|age_categorical_train=0.301]"
     ]
    },
    {
     "name": "stdout",
     "output_type": "stream",
     "text": [
      "\r\n",
      "Epoch 539/600:  90%|████████▉ | 539/600 [7:36:14<49:47, 48.98s/it, v_num=7x_1, total_loss_train=556, kl_local_train=75.4, metric_mi|age_categorical_train=0.301]"
     ]
    },
    {
     "name": "stdout",
     "output_type": "stream",
     "text": [
      "\r\n",
      "Epoch 540/600:  90%|████████▉ | 539/600 [7:36:14<49:47, 48.98s/it, v_num=7x_1, total_loss_train=556, kl_local_train=75.4, metric_mi|age_categorical_train=0.301]"
     ]
    },
    {
     "name": "stdout",
     "output_type": "stream",
     "text": [
      "\r\n",
      "Epoch 540/600:  90%|█████████ | 540/600 [7:37:03<48:56, 48.93s/it, v_num=7x_1, total_loss_train=556, kl_local_train=75.4, metric_mi|age_categorical_train=0.301]"
     ]
    },
    {
     "name": "stdout",
     "output_type": "stream",
     "text": [
      "\r\n",
      "Epoch 540/600:  90%|█████████ | 540/600 [7:37:03<48:56, 48.93s/it, v_num=7x_1, total_loss_train=557, kl_local_train=75, metric_mi|age_categorical_train=0.301]  "
     ]
    },
    {
     "name": "stdout",
     "output_type": "stream",
     "text": [
      "\r\n",
      "Epoch 541/600:  90%|█████████ | 540/600 [7:37:04<48:56, 48.93s/it, v_num=7x_1, total_loss_train=557, kl_local_train=75, metric_mi|age_categorical_train=0.301]"
     ]
    },
    {
     "name": "stdout",
     "output_type": "stream",
     "text": [
      "\r\n",
      "Epoch 541/600:  90%|█████████ | 541/600 [7:37:53<48:21, 49.19s/it, v_num=7x_1, total_loss_train=557, kl_local_train=75, metric_mi|age_categorical_train=0.301]"
     ]
    },
    {
     "name": "stdout",
     "output_type": "stream",
     "text": [
      "\r\n",
      "Epoch 541/600:  90%|█████████ | 541/600 [7:37:53<48:21, 49.19s/it, v_num=7x_1, total_loss_train=557, kl_local_train=75, metric_mi|age_categorical_train=0.301]"
     ]
    },
    {
     "name": "stdout",
     "output_type": "stream",
     "text": [
      "\r\n",
      "Epoch 542/600:  90%|█████████ | 541/600 [7:37:53<48:21, 49.19s/it, v_num=7x_1, total_loss_train=557, kl_local_train=75, metric_mi|age_categorical_train=0.301]"
     ]
    },
    {
     "name": "stdout",
     "output_type": "stream",
     "text": [
      "\r\n",
      "Epoch 542/600:  90%|█████████ | 542/600 [7:38:42<47:23, 49.03s/it, v_num=7x_1, total_loss_train=557, kl_local_train=75, metric_mi|age_categorical_train=0.301]"
     ]
    },
    {
     "name": "stdout",
     "output_type": "stream",
     "text": [
      "\r\n",
      "Epoch 542/600:  90%|█████████ | 542/600 [7:38:42<47:23, 49.03s/it, v_num=7x_1, total_loss_train=557, kl_local_train=75, metric_mi|age_categorical_train=0.301]"
     ]
    },
    {
     "name": "stdout",
     "output_type": "stream",
     "text": [
      "\r\n",
      "Epoch 543/600:  90%|█████████ | 542/600 [7:38:42<47:23, 49.03s/it, v_num=7x_1, total_loss_train=557, kl_local_train=75, metric_mi|age_categorical_train=0.301]"
     ]
    },
    {
     "name": "stdout",
     "output_type": "stream",
     "text": [
      "\r\n",
      "Epoch 543/600:  90%|█████████ | 543/600 [7:39:30<46:27, 48.91s/it, v_num=7x_1, total_loss_train=557, kl_local_train=75, metric_mi|age_categorical_train=0.301]"
     ]
    },
    {
     "name": "stdout",
     "output_type": "stream",
     "text": [
      "\r\n",
      "Epoch 543/600:  90%|█████████ | 543/600 [7:39:30<46:27, 48.91s/it, v_num=7x_1, total_loss_train=557, kl_local_train=75.1, metric_mi|age_categorical_train=0.301]"
     ]
    },
    {
     "name": "stdout",
     "output_type": "stream",
     "text": [
      "\r\n",
      "Epoch 544/600:  90%|█████████ | 543/600 [7:39:30<46:27, 48.91s/it, v_num=7x_1, total_loss_train=557, kl_local_train=75.1, metric_mi|age_categorical_train=0.301]"
     ]
    },
    {
     "name": "stdout",
     "output_type": "stream",
     "text": [
      "\r\n",
      "Epoch 544/600:  91%|█████████ | 544/600 [7:40:19<45:34, 48.83s/it, v_num=7x_1, total_loss_train=557, kl_local_train=75.1, metric_mi|age_categorical_train=0.301]"
     ]
    },
    {
     "name": "stdout",
     "output_type": "stream",
     "text": [
      "\r\n",
      "Epoch 544/600:  91%|█████████ | 544/600 [7:40:19<45:34, 48.83s/it, v_num=7x_1, total_loss_train=557, kl_local_train=75, metric_mi|age_categorical_train=0.301]  "
     ]
    },
    {
     "name": "stdout",
     "output_type": "stream",
     "text": [
      "\r\n",
      "Epoch 545/600:  91%|█████████ | 544/600 [7:40:19<45:34, 48.83s/it, v_num=7x_1, total_loss_train=557, kl_local_train=75, metric_mi|age_categorical_train=0.301]"
     ]
    },
    {
     "name": "stdout",
     "output_type": "stream",
     "text": [
      "\r\n",
      "Epoch 545/600:  91%|█████████ | 545/600 [7:41:08<44:48, 48.87s/it, v_num=7x_1, total_loss_train=557, kl_local_train=75, metric_mi|age_categorical_train=0.301]"
     ]
    },
    {
     "name": "stdout",
     "output_type": "stream",
     "text": [
      "\r\n",
      "Epoch 545/600:  91%|█████████ | 545/600 [7:41:08<44:48, 48.87s/it, v_num=7x_1, total_loss_train=557, kl_local_train=74.7, metric_mi|age_categorical_train=0.301]"
     ]
    },
    {
     "name": "stdout",
     "output_type": "stream",
     "text": [
      "\r\n",
      "Epoch 546/600:  91%|█████████ | 545/600 [7:41:09<44:48, 48.87s/it, v_num=7x_1, total_loss_train=557, kl_local_train=74.7, metric_mi|age_categorical_train=0.301]"
     ]
    },
    {
     "name": "stdout",
     "output_type": "stream",
     "text": [
      "\r\n",
      "Epoch 546/600:  91%|█████████ | 546/600 [7:41:58<44:13, 49.13s/it, v_num=7x_1, total_loss_train=557, kl_local_train=74.7, metric_mi|age_categorical_train=0.301]"
     ]
    },
    {
     "name": "stdout",
     "output_type": "stream",
     "text": [
      "\r\n",
      "Epoch 546/600:  91%|█████████ | 546/600 [7:41:58<44:13, 49.13s/it, v_num=7x_1, total_loss_train=557, kl_local_train=74.7, metric_mi|age_categorical_train=0.301]"
     ]
    },
    {
     "name": "stdout",
     "output_type": "stream",
     "text": [
      "\r\n",
      "Epoch 547/600:  91%|█████████ | 546/600 [7:41:58<44:13, 49.13s/it, v_num=7x_1, total_loss_train=557, kl_local_train=74.7, metric_mi|age_categorical_train=0.301]"
     ]
    },
    {
     "name": "stdout",
     "output_type": "stream",
     "text": [
      "\r\n",
      "Epoch 547/600:  91%|█████████ | 547/600 [7:42:47<43:23, 49.12s/it, v_num=7x_1, total_loss_train=557, kl_local_train=74.7, metric_mi|age_categorical_train=0.301]"
     ]
    },
    {
     "name": "stdout",
     "output_type": "stream",
     "text": [
      "\r\n",
      "Epoch 547/600:  91%|█████████ | 547/600 [7:42:47<43:23, 49.12s/it, v_num=7x_1, total_loss_train=557, kl_local_train=74.7, metric_mi|age_categorical_train=0.301]"
     ]
    },
    {
     "name": "stdout",
     "output_type": "stream",
     "text": [
      "\r\n",
      "Epoch 548/600:  91%|█████████ | 547/600 [7:42:47<43:23, 49.12s/it, v_num=7x_1, total_loss_train=557, kl_local_train=74.7, metric_mi|age_categorical_train=0.301]"
     ]
    },
    {
     "name": "stdout",
     "output_type": "stream",
     "text": [
      "\r\n",
      "Epoch 548/600:  91%|█████████▏| 548/600 [7:43:36<42:29, 49.02s/it, v_num=7x_1, total_loss_train=557, kl_local_train=74.7, metric_mi|age_categorical_train=0.301]"
     ]
    },
    {
     "name": "stdout",
     "output_type": "stream",
     "text": [
      "\r\n",
      "Epoch 548/600:  91%|█████████▏| 548/600 [7:43:36<42:29, 49.02s/it, v_num=7x_1, total_loss_train=557, kl_local_train=74.6, metric_mi|age_categorical_train=0.301]"
     ]
    },
    {
     "name": "stdout",
     "output_type": "stream",
     "text": [
      "\r\n",
      "Epoch 549/600:  91%|█████████▏| 548/600 [7:43:36<42:29, 49.02s/it, v_num=7x_1, total_loss_train=557, kl_local_train=74.6, metric_mi|age_categorical_train=0.301]"
     ]
    },
    {
     "name": "stdout",
     "output_type": "stream",
     "text": [
      "\r\n",
      "Epoch 549/600:  92%|█████████▏| 549/600 [7:44:24<41:38, 48.99s/it, v_num=7x_1, total_loss_train=557, kl_local_train=74.6, metric_mi|age_categorical_train=0.301]"
     ]
    },
    {
     "name": "stdout",
     "output_type": "stream",
     "text": [
      "\r\n",
      "Epoch 549/600:  92%|█████████▏| 549/600 [7:44:24<41:38, 48.99s/it, v_num=7x_1, total_loss_train=558, kl_local_train=74.6, metric_mi|age_categorical_train=0.301]"
     ]
    },
    {
     "name": "stdout",
     "output_type": "stream",
     "text": [
      "\r\n",
      "Epoch 550/600:  92%|█████████▏| 549/600 [7:44:24<41:38, 48.99s/it, v_num=7x_1, total_loss_train=558, kl_local_train=74.6, metric_mi|age_categorical_train=0.301]"
     ]
    },
    {
     "name": "stdout",
     "output_type": "stream",
     "text": [
      "\r\n",
      "Epoch 550/600:  92%|█████████▏| 550/600 [7:45:13<40:48, 48.97s/it, v_num=7x_1, total_loss_train=558, kl_local_train=74.6, metric_mi|age_categorical_train=0.301]"
     ]
    },
    {
     "name": "stdout",
     "output_type": "stream",
     "text": [
      "\r\n",
      "Epoch 550/600:  92%|█████████▏| 550/600 [7:45:13<40:48, 48.97s/it, v_num=7x_1, total_loss_train=558, kl_local_train=74.6, metric_mi|age_categorical_train=0.301]"
     ]
    },
    {
     "name": "stdout",
     "output_type": "stream",
     "text": [
      "\r\n",
      "Epoch 551/600:  92%|█████████▏| 550/600 [7:45:14<40:48, 48.97s/it, v_num=7x_1, total_loss_train=558, kl_local_train=74.6, metric_mi|age_categorical_train=0.301]"
     ]
    },
    {
     "name": "stdout",
     "output_type": "stream",
     "text": [
      "\r\n",
      "Epoch 551/600:  92%|█████████▏| 551/600 [7:46:03<40:13, 49.26s/it, v_num=7x_1, total_loss_train=558, kl_local_train=74.6, metric_mi|age_categorical_train=0.301]"
     ]
    },
    {
     "name": "stdout",
     "output_type": "stream",
     "text": [
      "\r\n",
      "Epoch 551/600:  92%|█████████▏| 551/600 [7:46:03<40:13, 49.26s/it, v_num=7x_1, total_loss_train=558, kl_local_train=74.5, metric_mi|age_categorical_train=0.304]"
     ]
    },
    {
     "name": "stdout",
     "output_type": "stream",
     "text": [
      "\r\n",
      "Epoch 552/600:  92%|█████████▏| 551/600 [7:46:03<40:13, 49.26s/it, v_num=7x_1, total_loss_train=558, kl_local_train=74.5, metric_mi|age_categorical_train=0.304]"
     ]
    },
    {
     "name": "stdout",
     "output_type": "stream",
     "text": [
      "\r\n",
      "Epoch 552/600:  92%|█████████▏| 552/600 [7:46:52<39:21, 49.19s/it, v_num=7x_1, total_loss_train=558, kl_local_train=74.5, metric_mi|age_categorical_train=0.304]"
     ]
    },
    {
     "name": "stdout",
     "output_type": "stream",
     "text": [
      "\r\n",
      "Epoch 552/600:  92%|█████████▏| 552/600 [7:46:52<39:21, 49.19s/it, v_num=7x_1, total_loss_train=558, kl_local_train=74.1, metric_mi|age_categorical_train=0.304]"
     ]
    },
    {
     "name": "stdout",
     "output_type": "stream",
     "text": [
      "\r\n",
      "Epoch 553/600:  92%|█████████▏| 552/600 [7:46:52<39:21, 49.19s/it, v_num=7x_1, total_loss_train=558, kl_local_train=74.1, metric_mi|age_categorical_train=0.304]"
     ]
    },
    {
     "name": "stdout",
     "output_type": "stream",
     "text": [
      "\r\n",
      "Epoch 553/600:  92%|█████████▏| 553/600 [7:47:42<38:31, 49.19s/it, v_num=7x_1, total_loss_train=558, kl_local_train=74.1, metric_mi|age_categorical_train=0.304]"
     ]
    },
    {
     "name": "stdout",
     "output_type": "stream",
     "text": [
      "\r\n",
      "Epoch 553/600:  92%|█████████▏| 553/600 [7:47:42<38:31, 49.19s/it, v_num=7x_1, total_loss_train=558, kl_local_train=74.4, metric_mi|age_categorical_train=0.304]"
     ]
    },
    {
     "name": "stdout",
     "output_type": "stream",
     "text": [
      "\r\n",
      "Epoch 554/600:  92%|█████████▏| 553/600 [7:47:42<38:31, 49.19s/it, v_num=7x_1, total_loss_train=558, kl_local_train=74.4, metric_mi|age_categorical_train=0.304]"
     ]
    },
    {
     "name": "stdout",
     "output_type": "stream",
     "text": [
      "\r\n",
      "Epoch 554/600:  92%|█████████▏| 554/600 [7:48:31<37:40, 49.15s/it, v_num=7x_1, total_loss_train=558, kl_local_train=74.4, metric_mi|age_categorical_train=0.304]"
     ]
    },
    {
     "name": "stdout",
     "output_type": "stream",
     "text": [
      "\r\n",
      "Epoch 554/600:  92%|█████████▏| 554/600 [7:48:31<37:40, 49.15s/it, v_num=7x_1, total_loss_train=558, kl_local_train=74.1, metric_mi|age_categorical_train=0.304]"
     ]
    },
    {
     "name": "stdout",
     "output_type": "stream",
     "text": [
      "\r\n",
      "Epoch 555/600:  92%|█████████▏| 554/600 [7:48:31<37:40, 49.15s/it, v_num=7x_1, total_loss_train=558, kl_local_train=74.1, metric_mi|age_categorical_train=0.304]"
     ]
    },
    {
     "name": "stdout",
     "output_type": "stream",
     "text": [
      "\r\n",
      "Epoch 555/600:  92%|█████████▎| 555/600 [7:49:20<36:52, 49.16s/it, v_num=7x_1, total_loss_train=558, kl_local_train=74.1, metric_mi|age_categorical_train=0.304]"
     ]
    },
    {
     "name": "stdout",
     "output_type": "stream",
     "text": [
      "\r\n",
      "Epoch 555/600:  92%|█████████▎| 555/600 [7:49:20<36:52, 49.16s/it, v_num=7x_1, total_loss_train=557, kl_local_train=74, metric_mi|age_categorical_train=0.304]  "
     ]
    },
    {
     "name": "stdout",
     "output_type": "stream",
     "text": [
      "\r\n",
      "Epoch 556/600:  92%|█████████▎| 555/600 [7:49:21<36:52, 49.16s/it, v_num=7x_1, total_loss_train=557, kl_local_train=74, metric_mi|age_categorical_train=0.304]"
     ]
    },
    {
     "name": "stdout",
     "output_type": "stream",
     "text": [
      "\r\n",
      "Epoch 556/600:  93%|█████████▎| 556/600 [7:50:10<36:14, 49.41s/it, v_num=7x_1, total_loss_train=557, kl_local_train=74, metric_mi|age_categorical_train=0.304]"
     ]
    },
    {
     "name": "stdout",
     "output_type": "stream",
     "text": [
      "\r\n",
      "Epoch 556/600:  93%|█████████▎| 556/600 [7:50:10<36:14, 49.41s/it, v_num=7x_1, total_loss_train=558, kl_local_train=73.9, metric_mi|age_categorical_train=0.3]"
     ]
    },
    {
     "name": "stdout",
     "output_type": "stream",
     "text": [
      "\r\n",
      "Epoch 557/600:  93%|█████████▎| 556/600 [7:50:10<36:14, 49.41s/it, v_num=7x_1, total_loss_train=558, kl_local_train=73.9, metric_mi|age_categorical_train=0.3]"
     ]
    },
    {
     "name": "stdout",
     "output_type": "stream",
     "text": [
      "\r\n",
      "Epoch 557/600:  93%|█████████▎| 557/600 [7:50:59<35:18, 49.28s/it, v_num=7x_1, total_loss_train=558, kl_local_train=73.9, metric_mi|age_categorical_train=0.3]"
     ]
    },
    {
     "name": "stdout",
     "output_type": "stream",
     "text": [
      "\r\n",
      "Epoch 557/600:  93%|█████████▎| 557/600 [7:50:59<35:18, 49.28s/it, v_num=7x_1, total_loss_train=558, kl_local_train=74.1, metric_mi|age_categorical_train=0.3]"
     ]
    },
    {
     "name": "stdout",
     "output_type": "stream",
     "text": [
      "\r\n",
      "Epoch 558/600:  93%|█████████▎| 557/600 [7:50:59<35:18, 49.28s/it, v_num=7x_1, total_loss_train=558, kl_local_train=74.1, metric_mi|age_categorical_train=0.3]"
     ]
    },
    {
     "name": "stdout",
     "output_type": "stream",
     "text": [
      "\r\n",
      "Epoch 558/600:  93%|█████████▎| 558/600 [7:51:48<34:24, 49.17s/it, v_num=7x_1, total_loss_train=558, kl_local_train=74.1, metric_mi|age_categorical_train=0.3]"
     ]
    },
    {
     "name": "stdout",
     "output_type": "stream",
     "text": [
      "\r\n",
      "Epoch 558/600:  93%|█████████▎| 558/600 [7:51:48<34:24, 49.17s/it, v_num=7x_1, total_loss_train=558, kl_local_train=74, metric_mi|age_categorical_train=0.3]  "
     ]
    },
    {
     "name": "stdout",
     "output_type": "stream",
     "text": [
      "\r\n",
      "Epoch 559/600:  93%|█████████▎| 558/600 [7:51:48<34:24, 49.17s/it, v_num=7x_1, total_loss_train=558, kl_local_train=74, metric_mi|age_categorical_train=0.3]"
     ]
    },
    {
     "name": "stdout",
     "output_type": "stream",
     "text": [
      "\r\n",
      "Epoch 559/600:  93%|█████████▎| 559/600 [7:52:37<33:33, 49.11s/it, v_num=7x_1, total_loss_train=558, kl_local_train=74, metric_mi|age_categorical_train=0.3]"
     ]
    },
    {
     "name": "stdout",
     "output_type": "stream",
     "text": [
      "\r\n",
      "Epoch 559/600:  93%|█████████▎| 559/600 [7:52:37<33:33, 49.11s/it, v_num=7x_1, total_loss_train=558, kl_local_train=74, metric_mi|age_categorical_train=0.3]"
     ]
    },
    {
     "name": "stdout",
     "output_type": "stream",
     "text": [
      "\r\n",
      "Epoch 560/600:  93%|█████████▎| 559/600 [7:52:37<33:33, 49.11s/it, v_num=7x_1, total_loss_train=558, kl_local_train=74, metric_mi|age_categorical_train=0.3]"
     ]
    },
    {
     "name": "stdout",
     "output_type": "stream",
     "text": [
      "\r\n",
      "Epoch 560/600:  93%|█████████▎| 560/600 [7:53:26<32:44, 49.11s/it, v_num=7x_1, total_loss_train=558, kl_local_train=74, metric_mi|age_categorical_train=0.3]"
     ]
    },
    {
     "name": "stdout",
     "output_type": "stream",
     "text": [
      "\r\n",
      "Epoch 560/600:  93%|█████████▎| 560/600 [7:53:26<32:44, 49.11s/it, v_num=7x_1, total_loss_train=558, kl_local_train=73.7, metric_mi|age_categorical_train=0.3]"
     ]
    },
    {
     "name": "stdout",
     "output_type": "stream",
     "text": [
      "\r\n",
      "Epoch 561/600:  93%|█████████▎| 560/600 [7:53:27<32:44, 49.11s/it, v_num=7x_1, total_loss_train=558, kl_local_train=73.7, metric_mi|age_categorical_train=0.3]"
     ]
    },
    {
     "name": "stdout",
     "output_type": "stream",
     "text": [
      "\r\n",
      "Epoch 561/600:  94%|█████████▎| 561/600 [7:54:16<32:03, 49.32s/it, v_num=7x_1, total_loss_train=558, kl_local_train=73.7, metric_mi|age_categorical_train=0.3]"
     ]
    },
    {
     "name": "stdout",
     "output_type": "stream",
     "text": [
      "\r\n",
      "Epoch 561/600:  94%|█████████▎| 561/600 [7:54:16<32:03, 49.32s/it, v_num=7x_1, total_loss_train=558, kl_local_train=73.6, metric_mi|age_categorical_train=0.299]"
     ]
    },
    {
     "name": "stdout",
     "output_type": "stream",
     "text": [
      "\r\n",
      "Epoch 562/600:  94%|█████████▎| 561/600 [7:54:16<32:03, 49.32s/it, v_num=7x_1, total_loss_train=558, kl_local_train=73.6, metric_mi|age_categorical_train=0.299]"
     ]
    },
    {
     "name": "stdout",
     "output_type": "stream",
     "text": [
      "\r\n",
      "Epoch 562/600:  94%|█████████▎| 562/600 [7:55:04<31:07, 49.14s/it, v_num=7x_1, total_loss_train=558, kl_local_train=73.6, metric_mi|age_categorical_train=0.299]"
     ]
    },
    {
     "name": "stdout",
     "output_type": "stream",
     "text": [
      "\r\n",
      "Epoch 562/600:  94%|█████████▎| 562/600 [7:55:04<31:07, 49.14s/it, v_num=7x_1, total_loss_train=558, kl_local_train=73.6, metric_mi|age_categorical_train=0.299]"
     ]
    },
    {
     "name": "stdout",
     "output_type": "stream",
     "text": [
      "\r\n",
      "Epoch 563/600:  94%|█████████▎| 562/600 [7:55:04<31:07, 49.14s/it, v_num=7x_1, total_loss_train=558, kl_local_train=73.6, metric_mi|age_categorical_train=0.299]"
     ]
    },
    {
     "name": "stdout",
     "output_type": "stream",
     "text": [
      "\r\n",
      "Epoch 563/600:  94%|█████████▍| 563/600 [7:55:53<30:14, 49.03s/it, v_num=7x_1, total_loss_train=558, kl_local_train=73.6, metric_mi|age_categorical_train=0.299]"
     ]
    },
    {
     "name": "stdout",
     "output_type": "stream",
     "text": [
      "\r\n",
      "Epoch 563/600:  94%|█████████▍| 563/600 [7:55:53<30:14, 49.03s/it, v_num=7x_1, total_loss_train=558, kl_local_train=73.7, metric_mi|age_categorical_train=0.299]"
     ]
    },
    {
     "name": "stdout",
     "output_type": "stream",
     "text": [
      "\r\n",
      "Epoch 564/600:  94%|█████████▍| 563/600 [7:55:53<30:14, 49.03s/it, v_num=7x_1, total_loss_train=558, kl_local_train=73.7, metric_mi|age_categorical_train=0.299]"
     ]
    },
    {
     "name": "stdout",
     "output_type": "stream",
     "text": [
      "\r\n",
      "Epoch 564/600:  94%|█████████▍| 564/600 [7:56:42<29:21, 48.94s/it, v_num=7x_1, total_loss_train=558, kl_local_train=73.7, metric_mi|age_categorical_train=0.299]"
     ]
    },
    {
     "name": "stdout",
     "output_type": "stream",
     "text": [
      "\r\n",
      "Epoch 564/600:  94%|█████████▍| 564/600 [7:56:42<29:21, 48.94s/it, v_num=7x_1, total_loss_train=558, kl_local_train=73.8, metric_mi|age_categorical_train=0.299]"
     ]
    },
    {
     "name": "stdout",
     "output_type": "stream",
     "text": [
      "\r\n",
      "Epoch 565/600:  94%|█████████▍| 564/600 [7:56:42<29:21, 48.94s/it, v_num=7x_1, total_loss_train=558, kl_local_train=73.8, metric_mi|age_categorical_train=0.299]"
     ]
    },
    {
     "name": "stdout",
     "output_type": "stream",
     "text": [
      "\r\n",
      "Epoch 565/600:  94%|█████████▍| 565/600 [7:57:31<28:32, 48.93s/it, v_num=7x_1, total_loss_train=558, kl_local_train=73.8, metric_mi|age_categorical_train=0.299]"
     ]
    },
    {
     "name": "stdout",
     "output_type": "stream",
     "text": [
      "\r\n",
      "Epoch 565/600:  94%|█████████▍| 565/600 [7:57:31<28:32, 48.93s/it, v_num=7x_1, total_loss_train=559, kl_local_train=73.4, metric_mi|age_categorical_train=0.299]"
     ]
    },
    {
     "name": "stdout",
     "output_type": "stream",
     "text": [
      "\r\n",
      "Epoch 566/600:  94%|█████████▍| 565/600 [7:57:31<28:32, 48.93s/it, v_num=7x_1, total_loss_train=559, kl_local_train=73.4, metric_mi|age_categorical_train=0.299]"
     ]
    },
    {
     "name": "stdout",
     "output_type": "stream",
     "text": [
      "\r\n",
      "Epoch 566/600:  94%|█████████▍| 566/600 [7:58:20<27:52, 49.19s/it, v_num=7x_1, total_loss_train=559, kl_local_train=73.4, metric_mi|age_categorical_train=0.299]"
     ]
    },
    {
     "name": "stdout",
     "output_type": "stream",
     "text": [
      "\r\n",
      "Epoch 566/600:  94%|█████████▍| 566/600 [7:58:20<27:52, 49.19s/it, v_num=7x_1, total_loss_train=559, kl_local_train=73.7, metric_mi|age_categorical_train=0.305]"
     ]
    },
    {
     "name": "stdout",
     "output_type": "stream",
     "text": [
      "\r\n",
      "Epoch 567/600:  94%|█████████▍| 566/600 [7:58:20<27:52, 49.19s/it, v_num=7x_1, total_loss_train=559, kl_local_train=73.7, metric_mi|age_categorical_train=0.305]"
     ]
    },
    {
     "name": "stdout",
     "output_type": "stream",
     "text": [
      "\r\n",
      "Epoch 567/600:  94%|█████████▍| 567/600 [7:59:09<27:00, 49.10s/it, v_num=7x_1, total_loss_train=559, kl_local_train=73.7, metric_mi|age_categorical_train=0.305]"
     ]
    },
    {
     "name": "stdout",
     "output_type": "stream",
     "text": [
      "\r\n",
      "Epoch 567/600:  94%|█████████▍| 567/600 [7:59:09<27:00, 49.10s/it, v_num=7x_1, total_loss_train=559, kl_local_train=73.4, metric_mi|age_categorical_train=0.305]"
     ]
    },
    {
     "name": "stdout",
     "output_type": "stream",
     "text": [
      "\r\n",
      "Epoch 568/600:  94%|█████████▍| 567/600 [7:59:09<27:00, 49.10s/it, v_num=7x_1, total_loss_train=559, kl_local_train=73.4, metric_mi|age_categorical_train=0.305]"
     ]
    },
    {
     "name": "stdout",
     "output_type": "stream",
     "text": [
      "\r\n",
      "Epoch 568/600:  95%|█████████▍| 568/600 [7:59:58<26:08, 49.01s/it, v_num=7x_1, total_loss_train=559, kl_local_train=73.4, metric_mi|age_categorical_train=0.305]"
     ]
    },
    {
     "name": "stdout",
     "output_type": "stream",
     "text": [
      "\r\n",
      "Epoch 568/600:  95%|█████████▍| 568/600 [7:59:58<26:08, 49.01s/it, v_num=7x_1, total_loss_train=559, kl_local_train=73, metric_mi|age_categorical_train=0.305]  "
     ]
    },
    {
     "name": "stdout",
     "output_type": "stream",
     "text": [
      "\r\n",
      "Epoch 569/600:  95%|█████████▍| 568/600 [7:59:58<26:08, 49.01s/it, v_num=7x_1, total_loss_train=559, kl_local_train=73, metric_mi|age_categorical_train=0.305]"
     ]
    },
    {
     "name": "stdout",
     "output_type": "stream",
     "text": [
      "\r\n",
      "Epoch 569/600:  95%|█████████▍| 569/600 [8:00:47<25:17, 48.96s/it, v_num=7x_1, total_loss_train=559, kl_local_train=73, metric_mi|age_categorical_train=0.305]"
     ]
    },
    {
     "name": "stdout",
     "output_type": "stream",
     "text": [
      "\r\n",
      "Epoch 569/600:  95%|█████████▍| 569/600 [8:00:47<25:17, 48.96s/it, v_num=7x_1, total_loss_train=559, kl_local_train=72.9, metric_mi|age_categorical_train=0.305]"
     ]
    },
    {
     "name": "stdout",
     "output_type": "stream",
     "text": [
      "\r\n",
      "Epoch 570/600:  95%|█████████▍| 569/600 [8:00:47<25:17, 48.96s/it, v_num=7x_1, total_loss_train=559, kl_local_train=72.9, metric_mi|age_categorical_train=0.305]"
     ]
    },
    {
     "name": "stdout",
     "output_type": "stream",
     "text": [
      "\r\n",
      "Epoch 570/600:  95%|█████████▌| 570/600 [8:01:36<24:29, 48.98s/it, v_num=7x_1, total_loss_train=559, kl_local_train=72.9, metric_mi|age_categorical_train=0.305]"
     ]
    },
    {
     "name": "stdout",
     "output_type": "stream",
     "text": [
      "\r\n",
      "Epoch 570/600:  95%|█████████▌| 570/600 [8:01:36<24:29, 48.98s/it, v_num=7x_1, total_loss_train=559, kl_local_train=73.2, metric_mi|age_categorical_train=0.305]"
     ]
    },
    {
     "name": "stdout",
     "output_type": "stream",
     "text": [
      "\r\n",
      "Epoch 571/600:  95%|█████████▌| 570/600 [8:01:37<24:29, 48.98s/it, v_num=7x_1, total_loss_train=559, kl_local_train=73.2, metric_mi|age_categorical_train=0.305]"
     ]
    },
    {
     "name": "stdout",
     "output_type": "stream",
     "text": [
      "\r\n",
      "Epoch 571/600:  95%|█████████▌| 571/600 [8:02:26<23:47, 49.24s/it, v_num=7x_1, total_loss_train=559, kl_local_train=73.2, metric_mi|age_categorical_train=0.305]"
     ]
    },
    {
     "name": "stdout",
     "output_type": "stream",
     "text": [
      "\r\n",
      "Epoch 571/600:  95%|█████████▌| 571/600 [8:02:26<23:47, 49.24s/it, v_num=7x_1, total_loss_train=559, kl_local_train=73, metric_mi|age_categorical_train=0.308]  "
     ]
    },
    {
     "name": "stdout",
     "output_type": "stream",
     "text": [
      "\r\n",
      "Epoch 572/600:  95%|█████████▌| 571/600 [8:02:26<23:47, 49.24s/it, v_num=7x_1, total_loss_train=559, kl_local_train=73, metric_mi|age_categorical_train=0.308]"
     ]
    },
    {
     "name": "stdout",
     "output_type": "stream",
     "text": [
      "\r\n",
      "Epoch 572/600:  95%|█████████▌| 572/600 [8:03:15<22:56, 49.18s/it, v_num=7x_1, total_loss_train=559, kl_local_train=73, metric_mi|age_categorical_train=0.308]"
     ]
    },
    {
     "name": "stdout",
     "output_type": "stream",
     "text": [
      "\r\n",
      "Epoch 572/600:  95%|█████████▌| 572/600 [8:03:15<22:56, 49.18s/it, v_num=7x_1, total_loss_train=559, kl_local_train=73.3, metric_mi|age_categorical_train=0.308]"
     ]
    },
    {
     "name": "stdout",
     "output_type": "stream",
     "text": [
      "\r\n",
      "Epoch 573/600:  95%|█████████▌| 572/600 [8:03:15<22:56, 49.18s/it, v_num=7x_1, total_loss_train=559, kl_local_train=73.3, metric_mi|age_categorical_train=0.308]"
     ]
    },
    {
     "name": "stdout",
     "output_type": "stream",
     "text": [
      "\r\n",
      "Epoch 573/600:  96%|█████████▌| 573/600 [8:04:04<22:05, 49.10s/it, v_num=7x_1, total_loss_train=559, kl_local_train=73.3, metric_mi|age_categorical_train=0.308]"
     ]
    },
    {
     "name": "stdout",
     "output_type": "stream",
     "text": [
      "\r\n",
      "Epoch 573/600:  96%|█████████▌| 573/600 [8:04:04<22:05, 49.10s/it, v_num=7x_1, total_loss_train=559, kl_local_train=73.2, metric_mi|age_categorical_train=0.308]"
     ]
    },
    {
     "name": "stdout",
     "output_type": "stream",
     "text": [
      "\r\n",
      "Epoch 574/600:  96%|█████████▌| 573/600 [8:04:04<22:05, 49.10s/it, v_num=7x_1, total_loss_train=559, kl_local_train=73.2, metric_mi|age_categorical_train=0.308]"
     ]
    },
    {
     "name": "stdout",
     "output_type": "stream",
     "text": [
      "\r\n",
      "Epoch 574/600:  96%|█████████▌| 574/600 [8:04:53<21:14, 49.04s/it, v_num=7x_1, total_loss_train=559, kl_local_train=73.2, metric_mi|age_categorical_train=0.308]"
     ]
    },
    {
     "name": "stdout",
     "output_type": "stream",
     "text": [
      "\r\n",
      "Epoch 574/600:  96%|█████████▌| 574/600 [8:04:53<21:14, 49.04s/it, v_num=7x_1, total_loss_train=559, kl_local_train=73.1, metric_mi|age_categorical_train=0.308]"
     ]
    },
    {
     "name": "stdout",
     "output_type": "stream",
     "text": [
      "\r\n",
      "Epoch 575/600:  96%|█████████▌| 574/600 [8:04:53<21:14, 49.04s/it, v_num=7x_1, total_loss_train=559, kl_local_train=73.1, metric_mi|age_categorical_train=0.308]"
     ]
    },
    {
     "name": "stdout",
     "output_type": "stream",
     "text": [
      "\r\n",
      "Epoch 575/600:  96%|█████████▌| 575/600 [8:05:42<20:26, 49.04s/it, v_num=7x_1, total_loss_train=559, kl_local_train=73.1, metric_mi|age_categorical_train=0.308]"
     ]
    },
    {
     "name": "stdout",
     "output_type": "stream",
     "text": [
      "\r\n",
      "Epoch 575/600:  96%|█████████▌| 575/600 [8:05:42<20:26, 49.04s/it, v_num=7x_1, total_loss_train=559, kl_local_train=73.1, metric_mi|age_categorical_train=0.308]"
     ]
    },
    {
     "name": "stdout",
     "output_type": "stream",
     "text": [
      "\r\n",
      "Epoch 576/600:  96%|█████████▌| 575/600 [8:05:43<20:26, 49.04s/it, v_num=7x_1, total_loss_train=559, kl_local_train=73.1, metric_mi|age_categorical_train=0.308]"
     ]
    },
    {
     "name": "stdout",
     "output_type": "stream",
     "text": [
      "\r\n",
      "Epoch 576/600:  96%|█████████▌| 576/600 [8:06:32<19:43, 49.32s/it, v_num=7x_1, total_loss_train=559, kl_local_train=73.1, metric_mi|age_categorical_train=0.308]"
     ]
    },
    {
     "name": "stdout",
     "output_type": "stream",
     "text": [
      "\r\n",
      "Epoch 576/600:  96%|█████████▌| 576/600 [8:06:32<19:43, 49.32s/it, v_num=7x_1, total_loss_train=559, kl_local_train=72.7, metric_mi|age_categorical_train=0.315]"
     ]
    },
    {
     "name": "stdout",
     "output_type": "stream",
     "text": [
      "\r\n",
      "Epoch 577/600:  96%|█████████▌| 576/600 [8:06:32<19:43, 49.32s/it, v_num=7x_1, total_loss_train=559, kl_local_train=72.7, metric_mi|age_categorical_train=0.315]"
     ]
    },
    {
     "name": "stdout",
     "output_type": "stream",
     "text": [
      "\r\n",
      "Epoch 577/600:  96%|█████████▌| 577/600 [8:07:21<18:53, 49.26s/it, v_num=7x_1, total_loss_train=559, kl_local_train=72.7, metric_mi|age_categorical_train=0.315]"
     ]
    },
    {
     "name": "stdout",
     "output_type": "stream",
     "text": [
      "\r\n",
      "Epoch 577/600:  96%|█████████▌| 577/600 [8:07:21<18:53, 49.26s/it, v_num=7x_1, total_loss_train=559, kl_local_train=72.7, metric_mi|age_categorical_train=0.315]"
     ]
    },
    {
     "name": "stdout",
     "output_type": "stream",
     "text": [
      "\r\n",
      "Epoch 578/600:  96%|█████████▌| 577/600 [8:07:21<18:53, 49.26s/it, v_num=7x_1, total_loss_train=559, kl_local_train=72.7, metric_mi|age_categorical_train=0.315]"
     ]
    },
    {
     "name": "stdout",
     "output_type": "stream",
     "text": [
      "\r\n",
      "Epoch 578/600:  96%|█████████▋| 578/600 [8:08:10<18:03, 49.25s/it, v_num=7x_1, total_loss_train=559, kl_local_train=72.7, metric_mi|age_categorical_train=0.315]"
     ]
    },
    {
     "name": "stdout",
     "output_type": "stream",
     "text": [
      "\r\n",
      "Epoch 578/600:  96%|█████████▋| 578/600 [8:08:10<18:03, 49.25s/it, v_num=7x_1, total_loss_train=560, kl_local_train=72.6, metric_mi|age_categorical_train=0.315]"
     ]
    },
    {
     "name": "stdout",
     "output_type": "stream",
     "text": [
      "\r\n",
      "Epoch 579/600:  96%|█████████▋| 578/600 [8:08:10<18:03, 49.25s/it, v_num=7x_1, total_loss_train=560, kl_local_train=72.6, metric_mi|age_categorical_train=0.315]"
     ]
    },
    {
     "name": "stdout",
     "output_type": "stream",
     "text": [
      "\r\n",
      "Epoch 579/600:  96%|█████████▋| 579/600 [8:08:59<17:13, 49.20s/it, v_num=7x_1, total_loss_train=560, kl_local_train=72.6, metric_mi|age_categorical_train=0.315]"
     ]
    },
    {
     "name": "stdout",
     "output_type": "stream",
     "text": [
      "\r\n",
      "Epoch 579/600:  96%|█████████▋| 579/600 [8:08:59<17:13, 49.20s/it, v_num=7x_1, total_loss_train=560, kl_local_train=72.7, metric_mi|age_categorical_train=0.315]"
     ]
    },
    {
     "name": "stdout",
     "output_type": "stream",
     "text": [
      "\r\n",
      "Epoch 580/600:  96%|█████████▋| 579/600 [8:08:59<17:13, 49.20s/it, v_num=7x_1, total_loss_train=560, kl_local_train=72.7, metric_mi|age_categorical_train=0.315]"
     ]
    },
    {
     "name": "stdout",
     "output_type": "stream",
     "text": [
      "\r\n",
      "Epoch 580/600:  97%|█████████▋| 580/600 [8:09:48<16:24, 49.22s/it, v_num=7x_1, total_loss_train=560, kl_local_train=72.7, metric_mi|age_categorical_train=0.315]"
     ]
    },
    {
     "name": "stdout",
     "output_type": "stream",
     "text": [
      "\r\n",
      "Epoch 580/600:  97%|█████████▋| 580/600 [8:09:48<16:24, 49.22s/it, v_num=7x_1, total_loss_train=560, kl_local_train=72.7, metric_mi|age_categorical_train=0.315]"
     ]
    },
    {
     "name": "stdout",
     "output_type": "stream",
     "text": [
      "\r\n",
      "Epoch 581/600:  97%|█████████▋| 580/600 [8:09:49<16:24, 49.22s/it, v_num=7x_1, total_loss_train=560, kl_local_train=72.7, metric_mi|age_categorical_train=0.315]"
     ]
    },
    {
     "name": "stdout",
     "output_type": "stream",
     "text": [
      "\r\n",
      "Epoch 581/600:  97%|█████████▋| 581/600 [8:10:38<15:38, 49.39s/it, v_num=7x_1, total_loss_train=560, kl_local_train=72.7, metric_mi|age_categorical_train=0.315]"
     ]
    },
    {
     "name": "stdout",
     "output_type": "stream",
     "text": [
      "\r\n",
      "Epoch 581/600:  97%|█████████▋| 581/600 [8:10:38<15:38, 49.39s/it, v_num=7x_1, total_loss_train=560, kl_local_train=72.6, metric_mi|age_categorical_train=0.315]"
     ]
    },
    {
     "name": "stdout",
     "output_type": "stream",
     "text": [
      "\r\n",
      "Epoch 582/600:  97%|█████████▋| 581/600 [8:10:38<15:38, 49.39s/it, v_num=7x_1, total_loss_train=560, kl_local_train=72.6, metric_mi|age_categorical_train=0.315]"
     ]
    },
    {
     "name": "stdout",
     "output_type": "stream",
     "text": [
      "\r\n",
      "Epoch 582/600:  97%|█████████▋| 582/600 [8:11:27<14:46, 49.26s/it, v_num=7x_1, total_loss_train=560, kl_local_train=72.6, metric_mi|age_categorical_train=0.315]"
     ]
    },
    {
     "name": "stdout",
     "output_type": "stream",
     "text": [
      "\r\n",
      "Epoch 582/600:  97%|█████████▋| 582/600 [8:11:27<14:46, 49.26s/it, v_num=7x_1, total_loss_train=560, kl_local_train=72.3, metric_mi|age_categorical_train=0.315]"
     ]
    },
    {
     "name": "stdout",
     "output_type": "stream",
     "text": [
      "\r\n",
      "Epoch 583/600:  97%|█████████▋| 582/600 [8:11:27<14:46, 49.26s/it, v_num=7x_1, total_loss_train=560, kl_local_train=72.3, metric_mi|age_categorical_train=0.315]"
     ]
    },
    {
     "name": "stdout",
     "output_type": "stream",
     "text": [
      "\r\n",
      "Epoch 583/600:  97%|█████████▋| 583/600 [8:12:16<13:55, 49.14s/it, v_num=7x_1, total_loss_train=560, kl_local_train=72.3, metric_mi|age_categorical_train=0.315]"
     ]
    },
    {
     "name": "stdout",
     "output_type": "stream",
     "text": [
      "\r\n",
      "Epoch 583/600:  97%|█████████▋| 583/600 [8:12:16<13:55, 49.14s/it, v_num=7x_1, total_loss_train=560, kl_local_train=72.2, metric_mi|age_categorical_train=0.315]"
     ]
    },
    {
     "name": "stdout",
     "output_type": "stream",
     "text": [
      "\r\n",
      "Epoch 584/600:  97%|█████████▋| 583/600 [8:12:16<13:55, 49.14s/it, v_num=7x_1, total_loss_train=560, kl_local_train=72.2, metric_mi|age_categorical_train=0.315]"
     ]
    },
    {
     "name": "stdout",
     "output_type": "stream",
     "text": [
      "\r\n",
      "Epoch 584/600:  97%|█████████▋| 584/600 [8:13:05<13:05, 49.11s/it, v_num=7x_1, total_loss_train=560, kl_local_train=72.2, metric_mi|age_categorical_train=0.315]"
     ]
    },
    {
     "name": "stdout",
     "output_type": "stream",
     "text": [
      "\r\n",
      "Epoch 584/600:  97%|█████████▋| 584/600 [8:13:05<13:05, 49.11s/it, v_num=7x_1, total_loss_train=560, kl_local_train=72.2, metric_mi|age_categorical_train=0.315]"
     ]
    },
    {
     "name": "stdout",
     "output_type": "stream",
     "text": [
      "\r\n",
      "Epoch 585/600:  97%|█████████▋| 584/600 [8:13:05<13:05, 49.11s/it, v_num=7x_1, total_loss_train=560, kl_local_train=72.2, metric_mi|age_categorical_train=0.315]"
     ]
    },
    {
     "name": "stdout",
     "output_type": "stream",
     "text": [
      "\r\n",
      "Epoch 585/600:  98%|█████████▊| 585/600 [8:13:54<12:16, 49.07s/it, v_num=7x_1, total_loss_train=560, kl_local_train=72.2, metric_mi|age_categorical_train=0.315]"
     ]
    },
    {
     "name": "stdout",
     "output_type": "stream",
     "text": [
      "\r\n",
      "Epoch 585/600:  98%|█████████▊| 585/600 [8:13:54<12:16, 49.07s/it, v_num=7x_1, total_loss_train=561, kl_local_train=72.4, metric_mi|age_categorical_train=0.315]"
     ]
    },
    {
     "name": "stdout",
     "output_type": "stream",
     "text": [
      "\r\n",
      "Epoch 586/600:  98%|█████████▊| 585/600 [8:13:55<12:16, 49.07s/it, v_num=7x_1, total_loss_train=561, kl_local_train=72.4, metric_mi|age_categorical_train=0.315]"
     ]
    },
    {
     "name": "stdout",
     "output_type": "stream",
     "text": [
      "\r\n",
      "Epoch 586/600:  98%|█████████▊| 586/600 [8:14:44<11:30, 49.32s/it, v_num=7x_1, total_loss_train=561, kl_local_train=72.4, metric_mi|age_categorical_train=0.315]"
     ]
    },
    {
     "name": "stdout",
     "output_type": "stream",
     "text": [
      "\r\n",
      "Epoch 586/600:  98%|█████████▊| 586/600 [8:14:44<11:30, 49.32s/it, v_num=7x_1, total_loss_train=560, kl_local_train=72.2, metric_mi|age_categorical_train=0.316]"
     ]
    },
    {
     "name": "stdout",
     "output_type": "stream",
     "text": [
      "\r\n",
      "Epoch 587/600:  98%|█████████▊| 586/600 [8:14:44<11:30, 49.32s/it, v_num=7x_1, total_loss_train=560, kl_local_train=72.2, metric_mi|age_categorical_train=0.316]"
     ]
    },
    {
     "name": "stdout",
     "output_type": "stream",
     "text": [
      "\r\n",
      "Epoch 587/600:  98%|█████████▊| 587/600 [8:15:33<10:39, 49.20s/it, v_num=7x_1, total_loss_train=560, kl_local_train=72.2, metric_mi|age_categorical_train=0.316]"
     ]
    },
    {
     "name": "stdout",
     "output_type": "stream",
     "text": [
      "\r\n",
      "Epoch 587/600:  98%|█████████▊| 587/600 [8:15:33<10:39, 49.20s/it, v_num=7x_1, total_loss_train=560, kl_local_train=72.2, metric_mi|age_categorical_train=0.316]"
     ]
    },
    {
     "name": "stdout",
     "output_type": "stream",
     "text": [
      "\r\n",
      "Epoch 588/600:  98%|█████████▊| 587/600 [8:15:33<10:39, 49.20s/it, v_num=7x_1, total_loss_train=560, kl_local_train=72.2, metric_mi|age_categorical_train=0.316]"
     ]
    },
    {
     "name": "stdout",
     "output_type": "stream",
     "text": [
      "\r\n",
      "Epoch 588/600:  98%|█████████▊| 588/600 [8:16:22<09:49, 49.10s/it, v_num=7x_1, total_loss_train=560, kl_local_train=72.2, metric_mi|age_categorical_train=0.316]"
     ]
    },
    {
     "name": "stdout",
     "output_type": "stream",
     "text": [
      "\r\n",
      "Epoch 588/600:  98%|█████████▊| 588/600 [8:16:22<09:49, 49.10s/it, v_num=7x_1, total_loss_train=560, kl_local_train=71.9, metric_mi|age_categorical_train=0.316]"
     ]
    },
    {
     "name": "stdout",
     "output_type": "stream",
     "text": [
      "\r\n",
      "Epoch 589/600:  98%|█████████▊| 588/600 [8:16:22<09:49, 49.10s/it, v_num=7x_1, total_loss_train=560, kl_local_train=71.9, metric_mi|age_categorical_train=0.316]"
     ]
    },
    {
     "name": "stdout",
     "output_type": "stream",
     "text": [
      "\r\n",
      "Epoch 589/600:  98%|█████████▊| 589/600 [8:17:11<08:59, 49.06s/it, v_num=7x_1, total_loss_train=560, kl_local_train=71.9, metric_mi|age_categorical_train=0.316]"
     ]
    },
    {
     "name": "stdout",
     "output_type": "stream",
     "text": [
      "\r\n",
      "Epoch 589/600:  98%|█████████▊| 589/600 [8:17:11<08:59, 49.06s/it, v_num=7x_1, total_loss_train=560, kl_local_train=72, metric_mi|age_categorical_train=0.316]  "
     ]
    },
    {
     "name": "stdout",
     "output_type": "stream",
     "text": [
      "\r\n",
      "Epoch 590/600:  98%|█████████▊| 589/600 [8:17:11<08:59, 49.06s/it, v_num=7x_1, total_loss_train=560, kl_local_train=72, metric_mi|age_categorical_train=0.316]"
     ]
    },
    {
     "name": "stdout",
     "output_type": "stream",
     "text": [
      "\r\n",
      "Epoch 590/600:  98%|█████████▊| 590/600 [8:18:00<08:10, 49.04s/it, v_num=7x_1, total_loss_train=560, kl_local_train=72, metric_mi|age_categorical_train=0.316]"
     ]
    },
    {
     "name": "stdout",
     "output_type": "stream",
     "text": [
      "\r\n",
      "Epoch 590/600:  98%|█████████▊| 590/600 [8:18:00<08:10, 49.04s/it, v_num=7x_1, total_loss_train=561, kl_local_train=71.9, metric_mi|age_categorical_train=0.316]"
     ]
    },
    {
     "name": "stdout",
     "output_type": "stream",
     "text": [
      "\r\n",
      "Epoch 591/600:  98%|█████████▊| 590/600 [8:18:01<08:10, 49.04s/it, v_num=7x_1, total_loss_train=561, kl_local_train=71.9, metric_mi|age_categorical_train=0.316]"
     ]
    },
    {
     "name": "stdout",
     "output_type": "stream",
     "text": [
      "\r\n",
      "Epoch 591/600:  98%|█████████▊| 591/600 [8:18:49<07:23, 49.26s/it, v_num=7x_1, total_loss_train=561, kl_local_train=71.9, metric_mi|age_categorical_train=0.316]"
     ]
    },
    {
     "name": "stdout",
     "output_type": "stream",
     "text": [
      "\r\n",
      "Epoch 591/600:  98%|█████████▊| 591/600 [8:18:49<07:23, 49.26s/it, v_num=7x_1, total_loss_train=561, kl_local_train=72, metric_mi|age_categorical_train=0.315]  "
     ]
    },
    {
     "name": "stdout",
     "output_type": "stream",
     "text": [
      "\r\n",
      "Epoch 592/600:  98%|█████████▊| 591/600 [8:18:49<07:23, 49.26s/it, v_num=7x_1, total_loss_train=561, kl_local_train=72, metric_mi|age_categorical_train=0.315]"
     ]
    },
    {
     "name": "stdout",
     "output_type": "stream",
     "text": [
      "\r\n",
      "Epoch 592/600:  99%|█████████▊| 592/600 [8:19:38<06:33, 49.15s/it, v_num=7x_1, total_loss_train=561, kl_local_train=72, metric_mi|age_categorical_train=0.315]"
     ]
    },
    {
     "name": "stdout",
     "output_type": "stream",
     "text": [
      "\r\n",
      "Epoch 592/600:  99%|█████████▊| 592/600 [8:19:38<06:33, 49.15s/it, v_num=7x_1, total_loss_train=560, kl_local_train=72, metric_mi|age_categorical_train=0.315]"
     ]
    },
    {
     "name": "stdout",
     "output_type": "stream",
     "text": [
      "\r\n",
      "Epoch 593/600:  99%|█████████▊| 592/600 [8:19:38<06:33, 49.15s/it, v_num=7x_1, total_loss_train=560, kl_local_train=72, metric_mi|age_categorical_train=0.315]"
     ]
    },
    {
     "name": "stdout",
     "output_type": "stream",
     "text": [
      "\r\n",
      "Epoch 593/600:  99%|█████████▉| 593/600 [8:20:27<05:43, 49.08s/it, v_num=7x_1, total_loss_train=560, kl_local_train=72, metric_mi|age_categorical_train=0.315]"
     ]
    },
    {
     "name": "stdout",
     "output_type": "stream",
     "text": [
      "\r\n",
      "Epoch 593/600:  99%|█████████▉| 593/600 [8:20:27<05:43, 49.08s/it, v_num=7x_1, total_loss_train=561, kl_local_train=72, metric_mi|age_categorical_train=0.315]"
     ]
    },
    {
     "name": "stdout",
     "output_type": "stream",
     "text": [
      "\r\n",
      "Epoch 594/600:  99%|█████████▉| 593/600 [8:20:27<05:43, 49.08s/it, v_num=7x_1, total_loss_train=561, kl_local_train=72, metric_mi|age_categorical_train=0.315]"
     ]
    },
    {
     "name": "stdout",
     "output_type": "stream",
     "text": [
      "\r\n",
      "Epoch 594/600:  99%|█████████▉| 594/600 [8:21:16<04:54, 49.04s/it, v_num=7x_1, total_loss_train=561, kl_local_train=72, metric_mi|age_categorical_train=0.315]"
     ]
    },
    {
     "name": "stdout",
     "output_type": "stream",
     "text": [
      "\r\n",
      "Epoch 594/600:  99%|█████████▉| 594/600 [8:21:16<04:54, 49.04s/it, v_num=7x_1, total_loss_train=561, kl_local_train=72, metric_mi|age_categorical_train=0.315]"
     ]
    },
    {
     "name": "stdout",
     "output_type": "stream",
     "text": [
      "\r\n",
      "Epoch 595/600:  99%|█████████▉| 594/600 [8:21:16<04:54, 49.04s/it, v_num=7x_1, total_loss_train=561, kl_local_train=72, metric_mi|age_categorical_train=0.315]"
     ]
    },
    {
     "name": "stdout",
     "output_type": "stream",
     "text": [
      "\r\n",
      "Epoch 595/600:  99%|█████████▉| 595/600 [8:22:05<04:05, 49.03s/it, v_num=7x_1, total_loss_train=561, kl_local_train=72, metric_mi|age_categorical_train=0.315]"
     ]
    },
    {
     "name": "stdout",
     "output_type": "stream",
     "text": [
      "\r\n",
      "Epoch 595/600:  99%|█████████▉| 595/600 [8:22:05<04:05, 49.03s/it, v_num=7x_1, total_loss_train=561, kl_local_train=71.8, metric_mi|age_categorical_train=0.315]"
     ]
    },
    {
     "name": "stdout",
     "output_type": "stream",
     "text": [
      "\r\n",
      "Epoch 596/600:  99%|█████████▉| 595/600 [8:22:06<04:05, 49.03s/it, v_num=7x_1, total_loss_train=561, kl_local_train=71.8, metric_mi|age_categorical_train=0.315]"
     ]
    },
    {
     "name": "stdout",
     "output_type": "stream",
     "text": [
      "\r\n",
      "Epoch 596/600:  99%|█████████▉| 596/600 [8:22:55<03:16, 49.23s/it, v_num=7x_1, total_loss_train=561, kl_local_train=71.8, metric_mi|age_categorical_train=0.315]"
     ]
    },
    {
     "name": "stdout",
     "output_type": "stream",
     "text": [
      "\r\n",
      "Epoch 596/600:  99%|█████████▉| 596/600 [8:22:55<03:16, 49.23s/it, v_num=7x_1, total_loss_train=561, kl_local_train=71.7, metric_mi|age_categorical_train=0.304]"
     ]
    },
    {
     "name": "stdout",
     "output_type": "stream",
     "text": [
      "\r\n",
      "Epoch 597/600:  99%|█████████▉| 596/600 [8:22:55<03:16, 49.23s/it, v_num=7x_1, total_loss_train=561, kl_local_train=71.7, metric_mi|age_categorical_train=0.304]"
     ]
    },
    {
     "name": "stdout",
     "output_type": "stream",
     "text": [
      "\r\n",
      "Epoch 597/600: 100%|█████████▉| 597/600 [8:23:44<02:27, 49.20s/it, v_num=7x_1, total_loss_train=561, kl_local_train=71.7, metric_mi|age_categorical_train=0.304]"
     ]
    },
    {
     "name": "stdout",
     "output_type": "stream",
     "text": [
      "\r\n",
      "Epoch 597/600: 100%|█████████▉| 597/600 [8:23:44<02:27, 49.20s/it, v_num=7x_1, total_loss_train=561, kl_local_train=71.5, metric_mi|age_categorical_train=0.304]"
     ]
    },
    {
     "name": "stdout",
     "output_type": "stream",
     "text": [
      "\r\n",
      "Epoch 598/600: 100%|█████████▉| 597/600 [8:23:44<02:27, 49.20s/it, v_num=7x_1, total_loss_train=561, kl_local_train=71.5, metric_mi|age_categorical_train=0.304]"
     ]
    },
    {
     "name": "stdout",
     "output_type": "stream",
     "text": [
      "\r\n",
      "Epoch 598/600: 100%|█████████▉| 598/600 [8:24:33<01:38, 49.14s/it, v_num=7x_1, total_loss_train=561, kl_local_train=71.5, metric_mi|age_categorical_train=0.304]"
     ]
    },
    {
     "name": "stdout",
     "output_type": "stream",
     "text": [
      "\r\n",
      "Epoch 598/600: 100%|█████████▉| 598/600 [8:24:33<01:38, 49.14s/it, v_num=7x_1, total_loss_train=561, kl_local_train=71.4, metric_mi|age_categorical_train=0.304]"
     ]
    },
    {
     "name": "stdout",
     "output_type": "stream",
     "text": [
      "\r\n",
      "Epoch 599/600: 100%|█████████▉| 598/600 [8:24:33<01:38, 49.14s/it, v_num=7x_1, total_loss_train=561, kl_local_train=71.4, metric_mi|age_categorical_train=0.304]"
     ]
    },
    {
     "name": "stdout",
     "output_type": "stream",
     "text": [
      "\r\n",
      "Epoch 599/600: 100%|█████████▉| 599/600 [8:25:22<00:49, 49.07s/it, v_num=7x_1, total_loss_train=561, kl_local_train=71.4, metric_mi|age_categorical_train=0.304]"
     ]
    },
    {
     "name": "stdout",
     "output_type": "stream",
     "text": [
      "\r\n",
      "Epoch 599/600: 100%|█████████▉| 599/600 [8:25:22<00:49, 49.07s/it, v_num=7x_1, total_loss_train=561, kl_local_train=71.5, metric_mi|age_categorical_train=0.304]"
     ]
    },
    {
     "name": "stdout",
     "output_type": "stream",
     "text": [
      "\r\n",
      "Epoch 600/600: 100%|█████████▉| 599/600 [8:25:22<00:49, 49.07s/it, v_num=7x_1, total_loss_train=561, kl_local_train=71.5, metric_mi|age_categorical_train=0.304]"
     ]
    },
    {
     "name": "stdout",
     "output_type": "stream",
     "text": [
      "\r\n",
      "Epoch 600/600: 100%|██████████| 600/600 [8:26:11<00:00, 49.07s/it, v_num=7x_1, total_loss_train=561, kl_local_train=71.5, metric_mi|age_categorical_train=0.304]"
     ]
    },
    {
     "name": "stdout",
     "output_type": "stream",
     "text": [
      "\r\n",
      "Epoch 600/600: 100%|██████████| 600/600 [8:26:11<00:00, 49.07s/it, v_num=7x_1, total_loss_train=561, kl_local_train=71.3, metric_mi|age_categorical_train=0.304]"
     ]
    },
    {
     "name": "stderr",
     "output_type": "stream",
     "text": [
      "`Trainer.fit` stopped: `max_epochs=600` reached.\n"
     ]
    },
    {
     "name": "stdout",
     "output_type": "stream",
     "text": [
      "\r\n",
      "Epoch 600/600: 100%|██████████| 600/600 [8:26:12<00:00, 50.62s/it, v_num=7x_1, total_loss_train=561, kl_local_train=71.3, metric_mi|age_categorical_train=0.304]"
     ]
    },
    {
     "name": "stdout",
     "output_type": "stream",
     "text": [
      "\n"
     ]
    },
    {
     "name": "stdout",
     "output_type": "stream",
     "text": [
      "W&B logger finalized successfully: \n",
      "Exit Code: 0\n",
      "\n"
     ]
    }
   ],
   "source": [
    "n_epochs_kl_warmup = 600\n",
    "\n",
    "model_params = dict(\n",
    "    n_hidden=512,\n",
    "    n_layers=3, \n",
    "    n_latent=(12 + 8 * len(disentenglement_targets_configurations)),\n",
    "    gene_likelihood = \"nb\",\n",
    "    use_batch_norm = \"none\",\n",
    "    use_layer_norm = \"both\",\n",
    "    dropout_rate = 0.5,\n",
    "    deeply_inject_disentengled_latents = True,\n",
    "    include_auxillary_loss = True,\n",
    "    beta_kl_weight = 0.5,\n",
    "    encode_covariates=False\n",
    ")\n",
    "\n",
    "train_params = dict(\n",
    "    max_epochs=600,\n",
    "    train_size=0.8,\n",
    "    batch_size=64,\n",
    "    check_val_every_n_epoch=10,\n",
    "    limit_train_batches=0.1, \n",
    "    limit_val_batches=0.1,\n",
    "    learning_rate_monitor=True,\n",
    "    # early stopping:\n",
    "    early_stopping=False,\n",
    "    early_stopping_patience=150,\n",
    "    early_stopping_monitor=\"elbo_train\",\n",
    "    plan_kwargs = dict(\n",
    "        n_epochs_kl_warmup=n_epochs_kl_warmup,\n",
    "        lr=5e-5,\n",
    "        weight_decay=1e-2,\n",
    "        optimizer=\"AdamW\",\n",
    "        # lr-scheduler:\n",
    "        reduce_lr_on_plateau=True,\n",
    "        lr_patience=100,\n",
    "        lr_scheduler_metric=\"elbo_train\",\n",
    "    )\n",
    ")\n",
    "\n",
    "dataset_params = dict(\n",
    "    layer=None, \n",
    "    labels_key=None,\n",
    "    batch_key=None,\n",
    "    categorical_covariate_keys=None,\n",
    "    disentenglement_targets_configurations=disentenglement_targets_configurations,\n",
    "    model_level_metrics=model_level_metrics,\n",
    "    model_level_metrics_helper_covariates=['age_categorical']\n",
    ")\n",
    "\n",
    "tardis.MyModel.setup_anndata(adata, **dataset_params)\n",
    "dataset_params[\"adata_path\"] = adata_file_path\n",
    "dataset_params[\"adata\"] = os.path.split(adata_file_path)[1]\n",
    "\n",
    "tardis.MyModel.setup_wandb(\n",
    "    wandb_configurations=tardis.config.wandb,\n",
    "    hyperparams=dict(\n",
    "        model_params=model_params,\n",
    "        train_params=train_params,\n",
    "        dataset_params=dataset_params,\n",
    "    )\n",
    ")\n",
    "\n",
    "vae = tardis.MyModel(\n",
    "    adata,\n",
    "    **model_params\n",
    ")\n",
    "vae.train(**train_params)\n",
    "\n",
    "dir_path = os.path.join(\n",
    "    tardis.config.io_directories[\"models\"],\n",
    "    \"braun_age-continuous_4_encode\"\n",
    ")\n",
    "\n",
    "vae.save(\n",
    "    dir_path,\n",
    "    overwrite=True,\n",
    ")"
   ]
  },
  {
   "cell_type": "code",
   "execution_count": null,
   "id": "0fc4f365-b7a0-4c4d-92b9-993c53327048",
   "metadata": {},
   "outputs": [],
   "source": [
    "# vae.get_reconstruction_r2_training(top_n=[])"
   ]
  },
  {
   "cell_type": "code",
   "execution_count": null,
   "id": "6d9b0307-9421-490b-8024-0c6bda8c18e3",
   "metadata": {},
   "outputs": [],
   "source": [
    "adata.obs[\"validation\"] = \"train\"\n",
    "adata.obs[\"validation\"].iloc[vae.validation_indices] = \"validation\""
   ]
  },
  {
   "cell_type": "code",
   "execution_count": null,
   "id": "04982e03-16d4-4a56-894b-5b1ff00f5655",
   "metadata": {},
   "outputs": [],
   "source": [
    "vae.plot_training_history(\n",
    "    ignore_first=0,\n",
    "    n_col=4,\n",
    "    metrics_name=[\"metric_mi|age_categorical\", \"reconstruction_loss\", \"kl_local\"]\n",
    ")"
   ]
  },
  {
   "cell_type": "code",
   "execution_count": null,
   "id": "ccd6d863-6767-4d28-b837-3c0315ba9fa5",
   "metadata": {},
   "outputs": [],
   "source": [
    "from tardis._disentanglementmanager import DisentanglementManager as DM"
   ]
  },
  {
   "cell_type": "code",
   "execution_count": null,
   "id": "46acb718-b117-4b89-b371-92d7b49bf722",
   "metadata": {},
   "outputs": [],
   "source": [
    "latent = ad.AnnData(X=vae.get_latent_representation(), obs=adata.obs.copy())\n",
    "rsc.utils.anndata_to_GPU(latent)\n",
    "rsc.pp.neighbors(latent)\n",
    "rsc.tl.umap(latent)\n",
    "\n",
    "with warnings.catch_warnings():\n",
    "    warnings.simplefilter(\"ignore\")\n",
    "    sc.pl.umap(\n",
    "        latent, \n",
    "        color=['age', 'age_categorical', 'cell_type', 'validation'], \n",
    "        ncols=4,\n",
    "        frameon=False,\n",
    "        legend_fontsize=\"xx-small\"\n",
    "    )"
   ]
  },
  {
   "cell_type": "code",
   "execution_count": null,
   "id": "462de488-c98d-4b0f-9fe8-b1fa33848cba",
   "metadata": {},
   "outputs": [],
   "source": [
    "sublatent = DM.configurations.get_by_obs_key(\"age_training\").reserved_latent_indices\n",
    "latent = ad.AnnData(X=vae.get_latent_representation()[:, sublatent], obs=adata.obs.copy())\n",
    "rsc.utils.anndata_to_GPU(latent)\n",
    "rsc.pp.neighbors(latent)\n",
    "rsc.tl.umap(latent)\n",
    "\n",
    "with warnings.catch_warnings():\n",
    "    warnings.simplefilter(\"ignore\")\n",
    "    sc.pl.umap(\n",
    "        latent, \n",
    "        color=['age', 'age_categorical', 'cell_type', 'validation'], \n",
    "        ncols=4,\n",
    "        frameon=False,\n",
    "        legend_fontsize=\"xx-small\"\n",
    "    )"
   ]
  },
  {
   "cell_type": "code",
   "execution_count": null,
   "id": "22710fb8-6c76-4e95-8290-6eff478ad7c9",
   "metadata": {},
   "outputs": [],
   "source": [
    "sublatent = DM.configurations.unreserved_latent_indices\n",
    "latent = ad.AnnData(X=vae.get_latent_representation()[:, sublatent], obs=adata.obs.copy())\n",
    "rsc.utils.anndata_to_GPU(latent)\n",
    "rsc.pp.neighbors(latent)\n",
    "rsc.tl.umap(latent)\n",
    "\n",
    "with warnings.catch_warnings():\n",
    "    warnings.simplefilter(\"ignore\")\n",
    "    sc.pl.umap(\n",
    "        latent, \n",
    "        color=['age', 'age_categorical', 'cell_type', 'validation'], \n",
    "        ncols=4,\n",
    "        frameon=False,\n",
    "        legend_fontsize=\"xx-small\"\n",
    "    )"
   ]
  },
  {
   "cell_type": "code",
   "execution_count": null,
   "id": "718a4d71-7f61-4559-abad-f940973fee6c",
   "metadata": {},
   "outputs": [],
   "source": []
  },
  {
   "cell_type": "code",
   "execution_count": null,
   "id": "670232e0-8d4e-4ce6-bc14-cb03124231e4",
   "metadata": {},
   "outputs": [],
   "source": []
  }
 ],
 "metadata": {
  "kernelspec": {
   "display_name": "Python 3 (ipykernel)",
   "language": "python",
   "name": "python3"
  },
  "language_info": {
   "codemirror_mode": {
    "name": "ipython",
    "version": 3
   },
   "file_extension": ".py",
   "mimetype": "text/x-python",
   "name": "python",
   "nbconvert_exporter": "python",
   "pygments_lexer": "ipython3",
   "version": "3.10.14"
  }
 },
 "nbformat": 4,
 "nbformat_minor": 5
}
