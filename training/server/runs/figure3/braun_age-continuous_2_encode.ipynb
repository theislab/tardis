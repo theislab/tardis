{
 "cells": [
  {
   "cell_type": "markdown",
   "id": "7a174ddf-1bac-4261-a2df-155cc7e8fc31",
   "metadata": {},
   "source": [
    "# Suo"
   ]
  },
  {
   "cell_type": "code",
   "execution_count": null,
   "id": "bd13e0f4-b441-4653-bf08-f2812d58f844",
   "metadata": {},
   "outputs": [],
   "source": [
    "import warnings\n",
    "import os\n",
    "import sys\n",
    "import gc\n",
    "import warnings"
   ]
  },
  {
   "cell_type": "code",
   "execution_count": null,
   "id": "0d362b42-a27d-486f-9c83-f52a59bfc6a5",
   "metadata": {},
   "outputs": [],
   "source": [
    "import anndata as ad\n",
    "import scanpy as sc\n",
    "import copy\n",
    "import torch\n",
    "from pathlib import Path\n",
    "import networkx as nx\n",
    "from sklearn.neighbors import kneighbors_graph\n",
    "import rapids_singlecell as rsc\n",
    "import numpy as np\n",
    "import scanpy as sc\n",
    "import pandas as pd\n",
    "import numpy as np\n",
    "import scipy.stats\n",
    "\n",
    "sys.path.append(\"/home/icb/kemal.inecik/work/codes/tardis\")\n",
    "import tardis\n",
    "tardis.config = tardis.config_server"
   ]
  },
  {
   "cell_type": "code",
   "execution_count": null,
   "id": "6e834108-5b88-402d-94c9-c8002c7a927a",
   "metadata": {},
   "outputs": [],
   "source": [
    "print(f\"CUDA used: {torch.cuda.is_available()}\")"
   ]
  },
  {
   "cell_type": "code",
   "execution_count": null,
   "id": "f0a8fa63-54f9-4cc9-aa2c-e2f1ce8ec9e8",
   "metadata": {},
   "outputs": [],
   "source": [
    "%matplotlib inline\n",
    "%config InlineBackend.figure_format='retina'\n",
    "import matplotlib.pyplot as plt\n",
    "import seaborn as sns\n",
    "\n",
    "import pickle\n",
    "_rcparams_path = \"/home/icb/kemal.inecik/work/codes/tardis/training/local/figures/rcparams.pickle\"\n",
    "with open(_rcparams_path, 'rb') as file:\n",
    "    _rcparams = pickle.load(file)\n",
    "plt.rcParams.update(_rcparams)"
   ]
  },
  {
   "cell_type": "code",
   "execution_count": null,
   "id": "ea9ee642-93ef-4cbc-b83c-5e9f16122b7d",
   "metadata": {},
   "outputs": [
    {
     "name": "stdout",
     "output_type": "stream",
     "text": [
      "AnnData object with n_obs × n_vars = 73697 × 8192\n",
      "    obs: 'sample_ID', 'organ', 'age', 'cell_type', 'sex', 'sex_inferred', 'concatenated_integration_covariates', 'integration_donor', 'integration_biological_unit', 'integration_sample_status', 'integration_library_platform_coarse', 'n_genes', 'age_categorical'\n",
      "    uns: 'rank_genes_groups'\n",
      "    obsm: 'Unintegrated', 'X_pca', 'harmony'\n"
     ]
    }
   ],
   "source": [
    "adata_file_path = os.path.join(tardis.config.io_directories[\"processed\"], \"dataset_complete_Braun_age.h5ad\")\n",
    "assert os.path.isfile(adata_file_path), f\"File not already exist: `{adata_file_path}`\"\n",
    "adata = ad.read_h5ad(adata_file_path)\n",
    "adata.obs[\"age\"] = adata.obs[\"age\"].astype(float)\n",
    "adata.obs[\"age_categorical\"] = adata.obs[\"age\"].astype(str)\n",
    "d = {i: ind for ind, i in enumerate(sorted(adata.obs[\"age\"].astype(float).unique()))}\n",
    "adata.obs[\"age_training\"] = [d[float(i)] for i in adata.obs[\"age\"]]\n",
    "print(adata_file_path, flush=True)\n",
    "print(adata, flush=True)"
   ]
  },
  {
   "cell_type": "code",
   "execution_count": null,
   "id": "fd461c79",
   "metadata": {},
   "outputs": [],
   "source": [
    "model_level_metrics = [\n",
    "    dict(\n",
    "        metric_identifier = \"metric_mi|age_categorical\",\n",
    "        training_set = [\"train\", \"validation\"],\n",
    "        every_n_epoch = 5,\n",
    "        subsample = 0.25,\n",
    "        progress_bar = True,\n",
    "        metric_kwargs = dict(\n",
    "            variation = \"normalized\",\n",
    "            discretization_bins = 512,\n",
    "            latent_subset=None,\n",
    "            reduce=np.mean\n",
    "        )\n",
    "    )\n",
    "]"
   ]
  },
  {
   "cell_type": "code",
   "execution_count": null,
   "id": "c43333cc-9e19-469f-8452-11ff5ee08db9",
   "metadata": {},
   "outputs": [],
   "source": [
    "warmup_epoch_range = [6, 48]\n",
    "dtc_w1 = 100\n",
    "dtc_w2 = 10\n",
    "\n",
    "counteractive_minibatch_settings = dict(\n",
    "    method = \"categorical_random\",\n",
    "    method_kwargs = dict(\n",
    "        within_labels = False,\n",
    "        within_batch = False,\n",
    "        within_categorical_covs = None,\n",
    "        seed = \"forward\",\n",
    "    )\n",
    ")\n",
    "\n",
    "disentenglement_targets_configurations=[\n",
    "    dict(\n",
    "        obs_key = \"age_training\",\n",
    "        n_reserved_latent = 8,\n",
    "        counteractive_minibatch_settings = counteractive_minibatch_settings,\n",
    "        auxillary_losses = [\n",
    "            dict(\n",
    "                apply = True, \n",
    "                target_type=\"pseudo_categorical\",\n",
    "                non_categorical_coefficient_method=\"squared_difference\",\n",
    "                progress_bar = False,\n",
    "                weight = dtc_w1,\n",
    "                method = \"mse_z\", \n",
    "                latent_group = \"reserved\",\n",
    "                counteractive_example = \"negative\",\n",
    "                transformation = \"inverse\", \n",
    "                warmup_epoch_range=warmup_epoch_range,\n",
    "                method_kwargs = {}\n",
    "            ),\n",
    "            dict(\n",
    "                apply = True, \n",
    "                target_type=\"categorical\",\n",
    "                progress_bar = False,\n",
    "                weight = dtc_w2, \n",
    "                method = \"mse_z\", \n",
    "                latent_group = \"reserved\",\n",
    "                counteractive_example = \"positive\",\n",
    "                transformation = \"none\",\n",
    "                warmup_epoch_range=warmup_epoch_range,\n",
    "                method_kwargs = {}\n",
    "            ),\n",
    "            dict(\n",
    "                apply = True, \n",
    "                target_type=\"categorical\",\n",
    "                progress_bar = False,\n",
    "                weight = dtc_w2 * 1,\n",
    "                method = \"mse_z\", \n",
    "                latent_group = \"unreserved_complete\",\n",
    "                counteractive_example = \"negative\",\n",
    "                transformation = \"none\", \n",
    "                warmup_epoch_range=warmup_epoch_range,\n",
    "                method_kwargs = {}\n",
    "            ),\n",
    "            dict(\n",
    "                apply = True, \n",
    "                target_type=\"categorical\",\n",
    "                progress_bar = False,\n",
    "                weight = dtc_w1 * 1, \n",
    "                method = \"mse_z\", \n",
    "                latent_group = \"unreserved_complete\",\n",
    "                counteractive_example = \"positive\",\n",
    "                transformation = \"inverse\",\n",
    "                warmup_epoch_range=warmup_epoch_range,\n",
    "                method_kwargs = {}\n",
    "            ),\n",
    "        ]\n",
    "    )\n",
    "]"
   ]
  },
  {
   "cell_type": "code",
   "execution_count": null,
   "id": "af1962de-51e8-453c-907a-b338c1f82f88",
   "metadata": {
    "scrolled": true
   },
   "outputs": [
    {
     "name": "stderr",
     "output_type": "stream",
     "text": [
      "`Trainer(limit_val_batches=1.0)` was configured so 100% of the batches will be used..\n"
     ]
    },
    {
     "name": "stderr",
     "output_type": "stream",
     "text": [
      "/home/icb/kemal.inecik/tools/apps/mamba/envs/tardis_env/lib/python3.10/site-packages/lightning/fabric/plugins/environments/slurm.py:168: The `srun` command is available on your system but is not used. HINT: If your intention is to run Lightning on SLURM, prepend your python command with `srun` like so: srun python /home/icb/kemal.inecik/tools/apps/mamba/envs/tardis_ ...\n",
      "/home/icb/kemal.inecik/tools/apps/mamba/envs/tardis_env/lib/python3.10/site-packages/torch/optim/lr_scheduler.py:28: UserWarning: The verbose parameter is deprecated. Please use get_last_lr() to access the learning rate.\n",
      "  warnings.warn(\"The verbose parameter is deprecated. Please use get_last_lr() \"\n"
     ]
    },
    {
     "name": "stdout",
     "output_type": "stream",
     "text": [
      "\r\n",
      "Training:   0%|          | 0/600 [00:00<?, ?it/s]"
     ]
    },
    {
     "name": "stdout",
     "output_type": "stream",
     "text": [
      "\r\n",
      "Epoch 1/600:   0%|          | 0/600 [00:00<?, ?it/s]"
     ]
    },
    {
     "name": "stderr",
     "output_type": "stream",
     "text": [
      "/home/icb/kemal.inecik/work/codes/tardis/tardis/_counteractivegenerator.py:237: UserWarning: Possible group definition indices are calculated for `age_categorical` for `training` set. Number of elements in each group: 4870,7479,5753,6693,15201,18962\n",
      "  possible_indices = CachedPossibleGroupDefinitionIndices.get(\n"
     ]
    },
    {
     "name": "stderr",
     "output_type": "stream",
     "text": [
      "/home/icb/kemal.inecik/work/codes/tardis/tardis/_counteractivegenerator.py:237: UserWarning: Possible group definition indices are calculated for `age_categorical` for `validation` set. Number of elements in each group: 1143,1965,1566,1651,3764,4650\n",
      "  possible_indices = CachedPossibleGroupDefinitionIndices.get(\n"
     ]
    },
    {
     "name": "stdout",
     "output_type": "stream",
     "text": [
      "\r\n",
      "Epoch 1/600:   0%|          | 1/600 [01:05<10:53:48, 65.49s/it]"
     ]
    },
    {
     "name": "stdout",
     "output_type": "stream",
     "text": [
      "\r\n",
      "Epoch 1/600:   0%|          | 1/600 [01:05<10:53:48, 65.49s/it, v_num=e6_1, total_loss_train=629, kl_local_train=37.6]"
     ]
    },
    {
     "name": "stdout",
     "output_type": "stream",
     "text": [
      "\r\n",
      "Epoch 2/600:   0%|          | 1/600 [01:05<10:53:48, 65.49s/it, v_num=e6_1, total_loss_train=629, kl_local_train=37.6]"
     ]
    },
    {
     "name": "stdout",
     "output_type": "stream",
     "text": [
      "\r\n",
      "Epoch 2/600:   0%|          | 2/600 [02:06<10:25:14, 62.73s/it, v_num=e6_1, total_loss_train=629, kl_local_train=37.6]"
     ]
    },
    {
     "name": "stdout",
     "output_type": "stream",
     "text": [
      "\r\n",
      "Epoch 2/600:   0%|          | 2/600 [02:06<10:25:14, 62.73s/it, v_num=e6_1, total_loss_train=483, kl_local_train=70.6]"
     ]
    },
    {
     "name": "stdout",
     "output_type": "stream",
     "text": [
      "\r\n",
      "Epoch 3/600:   0%|          | 2/600 [02:06<10:25:14, 62.73s/it, v_num=e6_1, total_loss_train=483, kl_local_train=70.6]"
     ]
    },
    {
     "name": "stdout",
     "output_type": "stream",
     "text": [
      "\r\n",
      "Epoch 3/600:   0%|          | 3/600 [03:08<10:23:07, 62.63s/it, v_num=e6_1, total_loss_train=483, kl_local_train=70.6]"
     ]
    },
    {
     "name": "stdout",
     "output_type": "stream",
     "text": [
      "\r\n",
      "Epoch 3/600:   0%|          | 3/600 [03:08<10:23:07, 62.63s/it, v_num=e6_1, total_loss_train=454, kl_local_train=85.8]"
     ]
    },
    {
     "name": "stdout",
     "output_type": "stream",
     "text": [
      "\r\n",
      "Epoch 4/600:   0%|          | 3/600 [03:08<10:23:07, 62.63s/it, v_num=e6_1, total_loss_train=454, kl_local_train=85.8]"
     ]
    },
    {
     "name": "stdout",
     "output_type": "stream",
     "text": [
      "\r\n",
      "Epoch 4/600:   1%|          | 4/600 [04:09<10:13:49, 61.80s/it, v_num=e6_1, total_loss_train=454, kl_local_train=85.8]"
     ]
    },
    {
     "name": "stdout",
     "output_type": "stream",
     "text": [
      "\r\n",
      "Epoch 4/600:   1%|          | 4/600 [04:09<10:13:49, 61.80s/it, v_num=e6_1, total_loss_train=444, kl_local_train=93.2]"
     ]
    },
    {
     "name": "stdout",
     "output_type": "stream",
     "text": [
      "\r\n",
      "Epoch 5/600:   1%|          | 4/600 [04:09<10:13:49, 61.80s/it, v_num=e6_1, total_loss_train=444, kl_local_train=93.2]"
     ]
    },
    {
     "name": "stdout",
     "output_type": "stream",
     "text": [
      "\r\n",
      "Epoch 5/600:   1%|          | 5/600 [05:12<10:19:20, 62.45s/it, v_num=e6_1, total_loss_train=444, kl_local_train=93.2]"
     ]
    },
    {
     "name": "stdout",
     "output_type": "stream",
     "text": [
      "\r\n",
      "Epoch 5/600:   1%|          | 5/600 [05:12<10:19:20, 62.45s/it, v_num=e6_1, total_loss_train=439, kl_local_train=95.6]"
     ]
    },
    {
     "name": "stdout",
     "output_type": "stream",
     "text": [
      "\r\n",
      "Epoch 6/600:   1%|          | 5/600 [05:14<10:19:20, 62.45s/it, v_num=e6_1, total_loss_train=439, kl_local_train=95.6]"
     ]
    },
    {
     "name": "stdout",
     "output_type": "stream",
     "text": [
      "\r\n",
      "Epoch 6/600:   1%|          | 6/600 [06:09<9:58:23, 60.44s/it, v_num=e6_1, total_loss_train=439, kl_local_train=95.6] "
     ]
    },
    {
     "name": "stdout",
     "output_type": "stream",
     "text": [
      "\r\n",
      "Epoch 6/600:   1%|          | 6/600 [06:09<9:58:23, 60.44s/it, v_num=e6_1, total_loss_train=435, kl_local_train=94.9, metric_mi|age_categorical_train=0.0706]"
     ]
    },
    {
     "name": "stdout",
     "output_type": "stream",
     "text": [
      "\r\n",
      "Epoch 7/600:   1%|          | 6/600 [06:09<9:58:23, 60.44s/it, v_num=e6_1, total_loss_train=435, kl_local_train=94.9, metric_mi|age_categorical_train=0.0706]"
     ]
    },
    {
     "name": "stdout",
     "output_type": "stream",
     "text": [
      "\r\n",
      "Epoch 7/600:   1%|          | 7/600 [07:04<9:39:41, 58.65s/it, v_num=e6_1, total_loss_train=435, kl_local_train=94.9, metric_mi|age_categorical_train=0.0706]"
     ]
    },
    {
     "name": "stdout",
     "output_type": "stream",
     "text": [
      "\r\n",
      "Epoch 7/600:   1%|          | 7/600 [07:04<9:39:41, 58.65s/it, v_num=e6_1, total_loss_train=433, kl_local_train=92.8, metric_mi|age_categorical_train=0.0706]"
     ]
    },
    {
     "name": "stdout",
     "output_type": "stream",
     "text": [
      "\r\n",
      "Epoch 8/600:   1%|          | 7/600 [07:04<9:39:41, 58.65s/it, v_num=e6_1, total_loss_train=433, kl_local_train=92.8, metric_mi|age_categorical_train=0.0706]"
     ]
    },
    {
     "name": "stdout",
     "output_type": "stream",
     "text": [
      "\r\n",
      "Epoch 8/600:   1%|▏         | 8/600 [08:00<9:31:19, 57.91s/it, v_num=e6_1, total_loss_train=433, kl_local_train=92.8, metric_mi|age_categorical_train=0.0706]"
     ]
    },
    {
     "name": "stdout",
     "output_type": "stream",
     "text": [
      "\r\n",
      "Epoch 8/600:   1%|▏         | 8/600 [08:00<9:31:19, 57.91s/it, v_num=e6_1, total_loss_train=443, kl_local_train=106, metric_mi|age_categorical_train=0.0706] "
     ]
    },
    {
     "name": "stdout",
     "output_type": "stream",
     "text": [
      "\r\n",
      "Epoch 9/600:   1%|▏         | 8/600 [08:00<9:31:19, 57.91s/it, v_num=e6_1, total_loss_train=443, kl_local_train=106, metric_mi|age_categorical_train=0.0706]"
     ]
    },
    {
     "name": "stdout",
     "output_type": "stream",
     "text": [
      "\r\n",
      "Epoch 9/600:   2%|▏         | 9/600 [08:56<9:22:29, 57.11s/it, v_num=e6_1, total_loss_train=443, kl_local_train=106, metric_mi|age_categorical_train=0.0706]"
     ]
    },
    {
     "name": "stdout",
     "output_type": "stream",
     "text": [
      "\r\n",
      "Epoch 9/600:   2%|▏         | 9/600 [08:56<9:22:29, 57.11s/it, v_num=e6_1, total_loss_train=452, kl_local_train=95.7, metric_mi|age_categorical_train=0.0706]"
     ]
    },
    {
     "name": "stdout",
     "output_type": "stream",
     "text": [
      "\r\n",
      "Epoch 10/600:   2%|▏         | 9/600 [08:56<9:22:29, 57.11s/it, v_num=e6_1, total_loss_train=452, kl_local_train=95.7, metric_mi|age_categorical_train=0.0706]"
     ]
    },
    {
     "name": "stdout",
     "output_type": "stream",
     "text": [
      "\r\n",
      "Epoch 10/600:   2%|▏         | 10/600 [09:54<9:24:50, 57.44s/it, v_num=e6_1, total_loss_train=452, kl_local_train=95.7, metric_mi|age_categorical_train=0.0706]"
     ]
    },
    {
     "name": "stdout",
     "output_type": "stream",
     "text": [
      "\r\n",
      "Epoch 10/600:   2%|▏         | 10/600 [09:54<9:24:50, 57.44s/it, v_num=e6_1, total_loss_train=460, kl_local_train=88.3, metric_mi|age_categorical_train=0.0706]"
     ]
    },
    {
     "name": "stdout",
     "output_type": "stream",
     "text": [
      "\r\n",
      "Epoch 11/600:   2%|▏         | 10/600 [09:55<9:24:50, 57.44s/it, v_num=e6_1, total_loss_train=460, kl_local_train=88.3, metric_mi|age_categorical_train=0.0706]"
     ]
    },
    {
     "name": "stdout",
     "output_type": "stream",
     "text": [
      "\r\n",
      "Epoch 11/600:   2%|▏         | 11/600 [10:52<9:25:27, 57.60s/it, v_num=e6_1, total_loss_train=460, kl_local_train=88.3, metric_mi|age_categorical_train=0.0706]"
     ]
    },
    {
     "name": "stdout",
     "output_type": "stream",
     "text": [
      "\r\n",
      "Epoch 11/600:   2%|▏         | 11/600 [10:52<9:25:27, 57.60s/it, v_num=e6_1, total_loss_train=469, kl_local_train=85.6, metric_mi|age_categorical_train=0.0691]"
     ]
    },
    {
     "name": "stdout",
     "output_type": "stream",
     "text": [
      "\r\n",
      "Epoch 12/600:   2%|▏         | 11/600 [10:52<9:25:27, 57.60s/it, v_num=e6_1, total_loss_train=469, kl_local_train=85.6, metric_mi|age_categorical_train=0.0691]"
     ]
    },
    {
     "name": "stdout",
     "output_type": "stream",
     "text": [
      "\r\n",
      "Epoch 12/600:   2%|▏         | 12/600 [11:48<9:21:24, 57.29s/it, v_num=e6_1, total_loss_train=469, kl_local_train=85.6, metric_mi|age_categorical_train=0.0691]"
     ]
    },
    {
     "name": "stdout",
     "output_type": "stream",
     "text": [
      "\r\n",
      "Epoch 12/600:   2%|▏         | 12/600 [11:48<9:21:24, 57.29s/it, v_num=e6_1, total_loss_train=478, kl_local_train=85, metric_mi|age_categorical_train=0.0691]  "
     ]
    },
    {
     "name": "stdout",
     "output_type": "stream",
     "text": [
      "\r\n",
      "Epoch 13/600:   2%|▏         | 12/600 [11:48<9:21:24, 57.29s/it, v_num=e6_1, total_loss_train=478, kl_local_train=85, metric_mi|age_categorical_train=0.0691]"
     ]
    },
    {
     "name": "stdout",
     "output_type": "stream",
     "text": [
      "\r\n",
      "Epoch 13/600:   2%|▏         | 13/600 [12:46<9:20:28, 57.29s/it, v_num=e6_1, total_loss_train=478, kl_local_train=85, metric_mi|age_categorical_train=0.0691]"
     ]
    },
    {
     "name": "stdout",
     "output_type": "stream",
     "text": [
      "\r\n",
      "Epoch 13/600:   2%|▏         | 13/600 [12:46<9:20:28, 57.29s/it, v_num=e6_1, total_loss_train=487, kl_local_train=85, metric_mi|age_categorical_train=0.0691]"
     ]
    },
    {
     "name": "stdout",
     "output_type": "stream",
     "text": [
      "\r\n",
      "Epoch 14/600:   2%|▏         | 13/600 [12:46<9:20:28, 57.29s/it, v_num=e6_1, total_loss_train=487, kl_local_train=85, metric_mi|age_categorical_train=0.0691]"
     ]
    },
    {
     "name": "stdout",
     "output_type": "stream",
     "text": [
      "\r\n",
      "Epoch 14/600:   2%|▏         | 14/600 [13:41<9:15:11, 56.85s/it, v_num=e6_1, total_loss_train=487, kl_local_train=85, metric_mi|age_categorical_train=0.0691]"
     ]
    },
    {
     "name": "stdout",
     "output_type": "stream",
     "text": [
      "\r\n",
      "Epoch 14/600:   2%|▏         | 14/600 [13:41<9:15:11, 56.85s/it, v_num=e6_1, total_loss_train=496, kl_local_train=86.4, metric_mi|age_categorical_train=0.0691]"
     ]
    },
    {
     "name": "stdout",
     "output_type": "stream",
     "text": [
      "\r\n",
      "Epoch 15/600:   2%|▏         | 14/600 [13:41<9:15:11, 56.85s/it, v_num=e6_1, total_loss_train=496, kl_local_train=86.4, metric_mi|age_categorical_train=0.0691]"
     ]
    },
    {
     "name": "stdout",
     "output_type": "stream",
     "text": [
      "\r\n",
      "Epoch 15/600:   2%|▎         | 15/600 [14:39<9:16:44, 57.10s/it, v_num=e6_1, total_loss_train=496, kl_local_train=86.4, metric_mi|age_categorical_train=0.0691]"
     ]
    },
    {
     "name": "stdout",
     "output_type": "stream",
     "text": [
      "\r\n",
      "Epoch 15/600:   2%|▎         | 15/600 [14:39<9:16:44, 57.10s/it, v_num=e6_1, total_loss_train=505, kl_local_train=88.9, metric_mi|age_categorical_train=0.0691]"
     ]
    },
    {
     "name": "stdout",
     "output_type": "stream",
     "text": [
      "\r\n",
      "Epoch 16/600:   2%|▎         | 15/600 [14:40<9:16:44, 57.10s/it, v_num=e6_1, total_loss_train=505, kl_local_train=88.9, metric_mi|age_categorical_train=0.0691]"
     ]
    },
    {
     "name": "stdout",
     "output_type": "stream",
     "text": [
      "\r\n",
      "Epoch 16/600:   3%|▎         | 16/600 [15:36<9:16:24, 57.17s/it, v_num=e6_1, total_loss_train=505, kl_local_train=88.9, metric_mi|age_categorical_train=0.0691]"
     ]
    },
    {
     "name": "stdout",
     "output_type": "stream",
     "text": [
      "\r\n",
      "Epoch 16/600:   3%|▎         | 16/600 [15:36<9:16:24, 57.17s/it, v_num=e6_1, total_loss_train=515, kl_local_train=94.8, metric_mi|age_categorical_train=0.0681]"
     ]
    },
    {
     "name": "stdout",
     "output_type": "stream",
     "text": [
      "\r\n",
      "Epoch 17/600:   3%|▎         | 16/600 [15:36<9:16:24, 57.17s/it, v_num=e6_1, total_loss_train=515, kl_local_train=94.8, metric_mi|age_categorical_train=0.0681]"
     ]
    },
    {
     "name": "stdout",
     "output_type": "stream",
     "text": [
      "\r\n",
      "Epoch 17/600:   3%|▎         | 17/600 [16:33<9:12:21, 56.85s/it, v_num=e6_1, total_loss_train=515, kl_local_train=94.8, metric_mi|age_categorical_train=0.0681]"
     ]
    },
    {
     "name": "stdout",
     "output_type": "stream",
     "text": [
      "\r\n",
      "Epoch 17/600:   3%|▎         | 17/600 [16:33<9:12:21, 56.85s/it, v_num=e6_1, total_loss_train=524, kl_local_train=102, metric_mi|age_categorical_train=0.0681] "
     ]
    },
    {
     "name": "stdout",
     "output_type": "stream",
     "text": [
      "\r\n",
      "Epoch 18/600:   3%|▎         | 17/600 [16:33<9:12:21, 56.85s/it, v_num=e6_1, total_loss_train=524, kl_local_train=102, metric_mi|age_categorical_train=0.0681]"
     ]
    },
    {
     "name": "stdout",
     "output_type": "stream",
     "text": [
      "\r\n",
      "Epoch 18/600:   3%|▎         | 18/600 [17:29<9:10:06, 56.71s/it, v_num=e6_1, total_loss_train=524, kl_local_train=102, metric_mi|age_categorical_train=0.0681]"
     ]
    },
    {
     "name": "stdout",
     "output_type": "stream",
     "text": [
      "\r\n",
      "Epoch 18/600:   3%|▎         | 18/600 [17:29<9:10:06, 56.71s/it, v_num=e6_1, total_loss_train=533, kl_local_train=113, metric_mi|age_categorical_train=0.0681]"
     ]
    },
    {
     "name": "stdout",
     "output_type": "stream",
     "text": [
      "\r\n",
      "Epoch 19/600:   3%|▎         | 18/600 [17:29<9:10:06, 56.71s/it, v_num=e6_1, total_loss_train=533, kl_local_train=113, metric_mi|age_categorical_train=0.0681]"
     ]
    },
    {
     "name": "stdout",
     "output_type": "stream",
     "text": [
      "\r\n",
      "Epoch 19/600:   3%|▎         | 19/600 [18:25<9:07:44, 56.57s/it, v_num=e6_1, total_loss_train=533, kl_local_train=113, metric_mi|age_categorical_train=0.0681]"
     ]
    },
    {
     "name": "stdout",
     "output_type": "stream",
     "text": [
      "\r\n",
      "Epoch 19/600:   3%|▎         | 19/600 [18:25<9:07:44, 56.57s/it, v_num=e6_1, total_loss_train=540, kl_local_train=128, metric_mi|age_categorical_train=0.0681]"
     ]
    },
    {
     "name": "stdout",
     "output_type": "stream",
     "text": [
      "\r\n",
      "Epoch 20/600:   3%|▎         | 19/600 [18:25<9:07:44, 56.57s/it, v_num=e6_1, total_loss_train=540, kl_local_train=128, metric_mi|age_categorical_train=0.0681]"
     ]
    },
    {
     "name": "stdout",
     "output_type": "stream",
     "text": [
      "\r\n",
      "Epoch 20/600:   3%|▎         | 20/600 [19:22<9:07:11, 56.61s/it, v_num=e6_1, total_loss_train=540, kl_local_train=128, metric_mi|age_categorical_train=0.0681]"
     ]
    },
    {
     "name": "stdout",
     "output_type": "stream",
     "text": [
      "\r\n",
      "Epoch 20/600:   3%|▎         | 20/600 [19:22<9:07:11, 56.61s/it, v_num=e6_1, total_loss_train=535, kl_local_train=164, metric_mi|age_categorical_train=0.0681]"
     ]
    },
    {
     "name": "stdout",
     "output_type": "stream",
     "text": [
      "\r\n",
      "Epoch 21/600:   3%|▎         | 20/600 [19:23<9:07:11, 56.61s/it, v_num=e6_1, total_loss_train=535, kl_local_train=164, metric_mi|age_categorical_train=0.0681]"
     ]
    },
    {
     "name": "stdout",
     "output_type": "stream",
     "text": [
      "\r\n",
      "Epoch 21/600:   4%|▎         | 21/600 [20:16<8:58:02, 55.75s/it, v_num=e6_1, total_loss_train=535, kl_local_train=164, metric_mi|age_categorical_train=0.0681]"
     ]
    },
    {
     "name": "stdout",
     "output_type": "stream",
     "text": [
      "\r\n",
      "Epoch 21/600:   4%|▎         | 21/600 [20:16<8:58:02, 55.75s/it, v_num=e6_1, total_loss_train=519, kl_local_train=221, metric_mi|age_categorical_train=0.0835]"
     ]
    },
    {
     "name": "stdout",
     "output_type": "stream",
     "text": [
      "\r\n",
      "Epoch 22/600:   4%|▎         | 21/600 [20:16<8:58:02, 55.75s/it, v_num=e6_1, total_loss_train=519, kl_local_train=221, metric_mi|age_categorical_train=0.0835]"
     ]
    },
    {
     "name": "stdout",
     "output_type": "stream",
     "text": [
      "\r\n",
      "Epoch 22/600:   4%|▎         | 22/600 [21:09<8:50:29, 55.07s/it, v_num=e6_1, total_loss_train=519, kl_local_train=221, metric_mi|age_categorical_train=0.0835]"
     ]
    },
    {
     "name": "stdout",
     "output_type": "stream",
     "text": [
      "\r\n",
      "Epoch 22/600:   4%|▎         | 22/600 [21:09<8:50:29, 55.07s/it, v_num=e6_1, total_loss_train=514, kl_local_train=266, metric_mi|age_categorical_train=0.0835]"
     ]
    },
    {
     "name": "stdout",
     "output_type": "stream",
     "text": [
      "\r\n",
      "Epoch 23/600:   4%|▎         | 22/600 [21:09<8:50:29, 55.07s/it, v_num=e6_1, total_loss_train=514, kl_local_train=266, metric_mi|age_categorical_train=0.0835]"
     ]
    },
    {
     "name": "stdout",
     "output_type": "stream",
     "text": [
      "\r\n",
      "Epoch 23/600:   4%|▍         | 23/600 [22:05<8:51:21, 55.25s/it, v_num=e6_1, total_loss_train=514, kl_local_train=266, metric_mi|age_categorical_train=0.0835]"
     ]
    },
    {
     "name": "stdout",
     "output_type": "stream",
     "text": [
      "\r\n",
      "Epoch 23/600:   4%|▍         | 23/600 [22:05<8:51:21, 55.25s/it, v_num=e6_1, total_loss_train=514, kl_local_train=296, metric_mi|age_categorical_train=0.0835]"
     ]
    },
    {
     "name": "stdout",
     "output_type": "stream",
     "text": [
      "\r\n",
      "Epoch 24/600:   4%|▍         | 23/600 [22:05<8:51:21, 55.25s/it, v_num=e6_1, total_loss_train=514, kl_local_train=296, metric_mi|age_categorical_train=0.0835]"
     ]
    },
    {
     "name": "stdout",
     "output_type": "stream",
     "text": [
      "\r\n",
      "Epoch 24/600:   4%|▍         | 24/600 [22:58<8:43:09, 54.50s/it, v_num=e6_1, total_loss_train=514, kl_local_train=296, metric_mi|age_categorical_train=0.0835]"
     ]
    },
    {
     "name": "stdout",
     "output_type": "stream",
     "text": [
      "\r\n",
      "Epoch 24/600:   4%|▍         | 24/600 [22:58<8:43:09, 54.50s/it, v_num=e6_1, total_loss_train=516, kl_local_train=325, metric_mi|age_categorical_train=0.0835]"
     ]
    },
    {
     "name": "stdout",
     "output_type": "stream",
     "text": [
      "\r\n",
      "Epoch 25/600:   4%|▍         | 24/600 [22:58<8:43:09, 54.50s/it, v_num=e6_1, total_loss_train=516, kl_local_train=325, metric_mi|age_categorical_train=0.0835]"
     ]
    },
    {
     "name": "stdout",
     "output_type": "stream",
     "text": [
      "\r\n",
      "Epoch 25/600:   4%|▍         | 25/600 [23:59<9:02:22, 56.59s/it, v_num=e6_1, total_loss_train=516, kl_local_train=325, metric_mi|age_categorical_train=0.0835]"
     ]
    },
    {
     "name": "stdout",
     "output_type": "stream",
     "text": [
      "\r\n",
      "Epoch 25/600:   4%|▍         | 25/600 [23:59<9:02:22, 56.59s/it, v_num=e6_1, total_loss_train=519, kl_local_train=349, metric_mi|age_categorical_train=0.0835]"
     ]
    },
    {
     "name": "stdout",
     "output_type": "stream",
     "text": [
      "\r\n",
      "Epoch 26/600:   4%|▍         | 25/600 [24:00<9:02:22, 56.59s/it, v_num=e6_1, total_loss_train=519, kl_local_train=349, metric_mi|age_categorical_train=0.0835]"
     ]
    },
    {
     "name": "stdout",
     "output_type": "stream",
     "text": [
      "\r\n",
      "Epoch 26/600:   4%|▍         | 26/600 [25:04<9:24:51, 59.04s/it, v_num=e6_1, total_loss_train=519, kl_local_train=349, metric_mi|age_categorical_train=0.0835]"
     ]
    },
    {
     "name": "stdout",
     "output_type": "stream",
     "text": [
      "\r\n",
      "Epoch 26/600:   4%|▍         | 26/600 [25:04<9:24:51, 59.04s/it, v_num=e6_1, total_loss_train=520, kl_local_train=365, metric_mi|age_categorical_train=0.11]  "
     ]
    },
    {
     "name": "stdout",
     "output_type": "stream",
     "text": [
      "\r\n",
      "Epoch 27/600:   4%|▍         | 26/600 [25:04<9:24:51, 59.04s/it, v_num=e6_1, total_loss_train=520, kl_local_train=365, metric_mi|age_categorical_train=0.11]"
     ]
    },
    {
     "name": "stdout",
     "output_type": "stream",
     "text": [
      "\r\n",
      "Epoch 27/600:   4%|▍         | 27/600 [26:06<9:33:55, 60.10s/it, v_num=e6_1, total_loss_train=520, kl_local_train=365, metric_mi|age_categorical_train=0.11]"
     ]
    },
    {
     "name": "stdout",
     "output_type": "stream",
     "text": [
      "\r\n",
      "Epoch 27/600:   4%|▍         | 27/600 [26:06<9:33:55, 60.10s/it, v_num=e6_1, total_loss_train=521, kl_local_train=374, metric_mi|age_categorical_train=0.11]"
     ]
    },
    {
     "name": "stdout",
     "output_type": "stream",
     "text": [
      "\r\n",
      "Epoch 28/600:   4%|▍         | 27/600 [26:06<9:33:55, 60.10s/it, v_num=e6_1, total_loss_train=521, kl_local_train=374, metric_mi|age_categorical_train=0.11]"
     ]
    },
    {
     "name": "stdout",
     "output_type": "stream",
     "text": [
      "\r\n",
      "Epoch 28/600:   5%|▍         | 28/600 [27:08<9:36:50, 60.51s/it, v_num=e6_1, total_loss_train=521, kl_local_train=374, metric_mi|age_categorical_train=0.11]"
     ]
    },
    {
     "name": "stdout",
     "output_type": "stream",
     "text": [
      "\r\n",
      "Epoch 28/600:   5%|▍         | 28/600 [27:08<9:36:50, 60.51s/it, v_num=e6_1, total_loss_train=524, kl_local_train=394, metric_mi|age_categorical_train=0.11]"
     ]
    },
    {
     "name": "stdout",
     "output_type": "stream",
     "text": [
      "\r\n",
      "Epoch 29/600:   5%|▍         | 28/600 [27:08<9:36:50, 60.51s/it, v_num=e6_1, total_loss_train=524, kl_local_train=394, metric_mi|age_categorical_train=0.11]"
     ]
    },
    {
     "name": "stdout",
     "output_type": "stream",
     "text": [
      "\r\n",
      "Epoch 29/600:   5%|▍         | 29/600 [28:11<9:42:25, 61.20s/it, v_num=e6_1, total_loss_train=524, kl_local_train=394, metric_mi|age_categorical_train=0.11]"
     ]
    },
    {
     "name": "stdout",
     "output_type": "stream",
     "text": [
      "\r\n",
      "Epoch 29/600:   5%|▍         | 29/600 [28:11<9:42:25, 61.20s/it, v_num=e6_1, total_loss_train=525, kl_local_train=397, metric_mi|age_categorical_train=0.11]"
     ]
    },
    {
     "name": "stdout",
     "output_type": "stream",
     "text": [
      "\r\n",
      "Epoch 30/600:   5%|▍         | 29/600 [28:11<9:42:25, 61.20s/it, v_num=e6_1, total_loss_train=525, kl_local_train=397, metric_mi|age_categorical_train=0.11]"
     ]
    },
    {
     "name": "stdout",
     "output_type": "stream",
     "text": [
      "\r\n",
      "Epoch 30/600:   5%|▌         | 30/600 [29:17<9:56:06, 62.75s/it, v_num=e6_1, total_loss_train=525, kl_local_train=397, metric_mi|age_categorical_train=0.11]"
     ]
    },
    {
     "name": "stdout",
     "output_type": "stream",
     "text": [
      "\r\n",
      "Epoch 30/600:   5%|▌         | 30/600 [29:17<9:56:06, 62.75s/it, v_num=e6_1, total_loss_train=528, kl_local_train=401, metric_mi|age_categorical_train=0.11]"
     ]
    },
    {
     "name": "stdout",
     "output_type": "stream",
     "text": [
      "\r\n",
      "Epoch 31/600:   5%|▌         | 30/600 [29:18<9:56:06, 62.75s/it, v_num=e6_1, total_loss_train=528, kl_local_train=401, metric_mi|age_categorical_train=0.11]"
     ]
    },
    {
     "name": "stdout",
     "output_type": "stream",
     "text": [
      "\r\n",
      "Epoch 31/600:   5%|▌         | 31/600 [30:24<10:07:07, 64.02s/it, v_num=e6_1, total_loss_train=528, kl_local_train=401, metric_mi|age_categorical_train=0.11]"
     ]
    },
    {
     "name": "stdout",
     "output_type": "stream",
     "text": [
      "\r\n",
      "Epoch 31/600:   5%|▌         | 31/600 [30:24<10:07:07, 64.02s/it, v_num=e6_1, total_loss_train=529, kl_local_train=407, metric_mi|age_categorical_train=0.128]"
     ]
    },
    {
     "name": "stdout",
     "output_type": "stream",
     "text": [
      "\r\n",
      "Epoch 32/600:   5%|▌         | 31/600 [30:24<10:07:07, 64.02s/it, v_num=e6_1, total_loss_train=529, kl_local_train=407, metric_mi|age_categorical_train=0.128]"
     ]
    },
    {
     "name": "stdout",
     "output_type": "stream",
     "text": [
      "\r\n",
      "Epoch 32/600:   5%|▌         | 32/600 [31:20<9:43:22, 61.62s/it, v_num=e6_1, total_loss_train=529, kl_local_train=407, metric_mi|age_categorical_train=0.128] "
     ]
    },
    {
     "name": "stdout",
     "output_type": "stream",
     "text": [
      "\r\n",
      "Epoch 32/600:   5%|▌         | 32/600 [31:20<9:43:22, 61.62s/it, v_num=e6_1, total_loss_train=530, kl_local_train=411, metric_mi|age_categorical_train=0.128]"
     ]
    },
    {
     "name": "stdout",
     "output_type": "stream",
     "text": [
      "\r\n",
      "Epoch 33/600:   5%|▌         | 32/600 [31:20<9:43:22, 61.62s/it, v_num=e6_1, total_loss_train=530, kl_local_train=411, metric_mi|age_categorical_train=0.128]"
     ]
    },
    {
     "name": "stdout",
     "output_type": "stream",
     "text": [
      "\r\n",
      "Epoch 33/600:   6%|▌         | 33/600 [32:15<9:24:51, 59.77s/it, v_num=e6_1, total_loss_train=530, kl_local_train=411, metric_mi|age_categorical_train=0.128]"
     ]
    },
    {
     "name": "stdout",
     "output_type": "stream",
     "text": [
      "\r\n",
      "Epoch 33/600:   6%|▌         | 33/600 [32:15<9:24:51, 59.77s/it, v_num=e6_1, total_loss_train=532, kl_local_train=405, metric_mi|age_categorical_train=0.128]"
     ]
    },
    {
     "name": "stdout",
     "output_type": "stream",
     "text": [
      "\r\n",
      "Epoch 34/600:   6%|▌         | 33/600 [32:15<9:24:51, 59.77s/it, v_num=e6_1, total_loss_train=532, kl_local_train=405, metric_mi|age_categorical_train=0.128]"
     ]
    },
    {
     "name": "stdout",
     "output_type": "stream",
     "text": [
      "\r\n",
      "Epoch 34/600:   6%|▌         | 34/600 [33:10<9:10:20, 58.34s/it, v_num=e6_1, total_loss_train=532, kl_local_train=405, metric_mi|age_categorical_train=0.128]"
     ]
    },
    {
     "name": "stdout",
     "output_type": "stream",
     "text": [
      "\r\n",
      "Epoch 34/600:   6%|▌         | 34/600 [33:10<9:10:20, 58.34s/it, v_num=e6_1, total_loss_train=532, kl_local_train=414, metric_mi|age_categorical_train=0.128]"
     ]
    },
    {
     "name": "stdout",
     "output_type": "stream",
     "text": [
      "\r\n",
      "Epoch 35/600:   6%|▌         | 34/600 [33:10<9:10:20, 58.34s/it, v_num=e6_1, total_loss_train=532, kl_local_train=414, metric_mi|age_categorical_train=0.128]"
     ]
    },
    {
     "name": "stdout",
     "output_type": "stream",
     "text": [
      "\r\n",
      "Epoch 35/600:   6%|▌         | 35/600 [34:08<9:08:09, 58.21s/it, v_num=e6_1, total_loss_train=532, kl_local_train=414, metric_mi|age_categorical_train=0.128]"
     ]
    },
    {
     "name": "stdout",
     "output_type": "stream",
     "text": [
      "\r\n",
      "Epoch 35/600:   6%|▌         | 35/600 [34:08<9:08:09, 58.21s/it, v_num=e6_1, total_loss_train=535, kl_local_train=420, metric_mi|age_categorical_train=0.128]"
     ]
    },
    {
     "name": "stdout",
     "output_type": "stream",
     "text": [
      "\r\n",
      "Epoch 36/600:   6%|▌         | 35/600 [34:09<9:08:09, 58.21s/it, v_num=e6_1, total_loss_train=535, kl_local_train=420, metric_mi|age_categorical_train=0.128]"
     ]
    },
    {
     "name": "stdout",
     "output_type": "stream",
     "text": [
      "\r\n",
      "Epoch 36/600:   6%|▌         | 36/600 [35:06<9:04:21, 57.91s/it, v_num=e6_1, total_loss_train=535, kl_local_train=420, metric_mi|age_categorical_train=0.128]"
     ]
    },
    {
     "name": "stdout",
     "output_type": "stream",
     "text": [
      "\r\n",
      "Epoch 36/600:   6%|▌         | 36/600 [35:06<9:04:21, 57.91s/it, v_num=e6_1, total_loss_train=536, kl_local_train=420, metric_mi|age_categorical_train=0.135]"
     ]
    },
    {
     "name": "stdout",
     "output_type": "stream",
     "text": [
      "\r\n",
      "Epoch 37/600:   6%|▌         | 36/600 [35:06<9:04:21, 57.91s/it, v_num=e6_1, total_loss_train=536, kl_local_train=420, metric_mi|age_categorical_train=0.135]"
     ]
    },
    {
     "name": "stdout",
     "output_type": "stream",
     "text": [
      "\r\n",
      "Epoch 37/600:   6%|▌         | 37/600 [36:02<8:59:07, 57.46s/it, v_num=e6_1, total_loss_train=536, kl_local_train=420, metric_mi|age_categorical_train=0.135]"
     ]
    },
    {
     "name": "stdout",
     "output_type": "stream",
     "text": [
      "\r\n",
      "Epoch 37/600:   6%|▌         | 37/600 [36:02<8:59:07, 57.46s/it, v_num=e6_1, total_loss_train=537, kl_local_train=415, metric_mi|age_categorical_train=0.135]"
     ]
    },
    {
     "name": "stdout",
     "output_type": "stream",
     "text": [
      "\r\n",
      "Epoch 38/600:   6%|▌         | 37/600 [36:02<8:59:07, 57.46s/it, v_num=e6_1, total_loss_train=537, kl_local_train=415, metric_mi|age_categorical_train=0.135]"
     ]
    },
    {
     "name": "stdout",
     "output_type": "stream",
     "text": [
      "\r\n",
      "Epoch 38/600:   6%|▋         | 38/600 [36:57<8:52:06, 56.81s/it, v_num=e6_1, total_loss_train=537, kl_local_train=415, metric_mi|age_categorical_train=0.135]"
     ]
    },
    {
     "name": "stdout",
     "output_type": "stream",
     "text": [
      "\r\n",
      "Epoch 38/600:   6%|▋         | 38/600 [36:57<8:52:06, 56.81s/it, v_num=e6_1, total_loss_train=538, kl_local_train=400, metric_mi|age_categorical_train=0.135]"
     ]
    },
    {
     "name": "stdout",
     "output_type": "stream",
     "text": [
      "\r\n",
      "Epoch 39/600:   6%|▋         | 38/600 [36:57<8:52:06, 56.81s/it, v_num=e6_1, total_loss_train=538, kl_local_train=400, metric_mi|age_categorical_train=0.135]"
     ]
    },
    {
     "name": "stdout",
     "output_type": "stream",
     "text": [
      "\r\n",
      "Epoch 39/600:   6%|▋         | 39/600 [37:53<8:48:03, 56.48s/it, v_num=e6_1, total_loss_train=538, kl_local_train=400, metric_mi|age_categorical_train=0.135]"
     ]
    },
    {
     "name": "stdout",
     "output_type": "stream",
     "text": [
      "\r\n",
      "Epoch 39/600:   6%|▋         | 39/600 [37:53<8:48:03, 56.48s/it, v_num=e6_1, total_loss_train=539, kl_local_train=396, metric_mi|age_categorical_train=0.135]"
     ]
    },
    {
     "name": "stdout",
     "output_type": "stream",
     "text": [
      "\r\n",
      "Epoch 40/600:   6%|▋         | 39/600 [37:53<8:48:03, 56.48s/it, v_num=e6_1, total_loss_train=539, kl_local_train=396, metric_mi|age_categorical_train=0.135]"
     ]
    },
    {
     "name": "stdout",
     "output_type": "stream",
     "text": [
      "\r\n",
      "Epoch 40/600:   7%|▋         | 40/600 [38:51<8:50:54, 56.88s/it, v_num=e6_1, total_loss_train=539, kl_local_train=396, metric_mi|age_categorical_train=0.135]"
     ]
    },
    {
     "name": "stdout",
     "output_type": "stream",
     "text": [
      "\r\n",
      "Epoch 40/600:   7%|▋         | 40/600 [38:51<8:50:54, 56.88s/it, v_num=e6_1, total_loss_train=540, kl_local_train=395, metric_mi|age_categorical_train=0.135]"
     ]
    },
    {
     "name": "stdout",
     "output_type": "stream",
     "text": [
      "\r\n",
      "Epoch 41/600:   7%|▋         | 40/600 [38:52<8:50:54, 56.88s/it, v_num=e6_1, total_loss_train=540, kl_local_train=395, metric_mi|age_categorical_train=0.135]"
     ]
    },
    {
     "name": "stdout",
     "output_type": "stream",
     "text": [
      "\r\n",
      "Epoch 41/600:   7%|▋         | 41/600 [39:52<9:02:05, 58.19s/it, v_num=e6_1, total_loss_train=540, kl_local_train=395, metric_mi|age_categorical_train=0.135]"
     ]
    },
    {
     "name": "stdout",
     "output_type": "stream",
     "text": [
      "\r\n",
      "Epoch 41/600:   7%|▋         | 41/600 [39:52<9:02:05, 58.19s/it, v_num=e6_1, total_loss_train=542, kl_local_train=382, metric_mi|age_categorical_train=0.138]"
     ]
    },
    {
     "name": "stdout",
     "output_type": "stream",
     "text": [
      "\r\n",
      "Epoch 42/600:   7%|▋         | 41/600 [39:52<9:02:05, 58.19s/it, v_num=e6_1, total_loss_train=542, kl_local_train=382, metric_mi|age_categorical_train=0.138]"
     ]
    },
    {
     "name": "stdout",
     "output_type": "stream",
     "text": [
      "\r\n",
      "Epoch 42/600:   7%|▋         | 42/600 [40:51<9:04:08, 58.51s/it, v_num=e6_1, total_loss_train=542, kl_local_train=382, metric_mi|age_categorical_train=0.138]"
     ]
    },
    {
     "name": "stdout",
     "output_type": "stream",
     "text": [
      "\r\n",
      "Epoch 42/600:   7%|▋         | 42/600 [40:51<9:04:08, 58.51s/it, v_num=e6_1, total_loss_train=543, kl_local_train=377, metric_mi|age_categorical_train=0.138]"
     ]
    },
    {
     "name": "stdout",
     "output_type": "stream",
     "text": [
      "\r\n",
      "Epoch 43/600:   7%|▋         | 42/600 [40:51<9:04:08, 58.51s/it, v_num=e6_1, total_loss_train=543, kl_local_train=377, metric_mi|age_categorical_train=0.138]"
     ]
    },
    {
     "name": "stdout",
     "output_type": "stream",
     "text": [
      "\r\n",
      "Epoch 43/600:   7%|▋         | 43/600 [41:52<9:08:12, 59.05s/it, v_num=e6_1, total_loss_train=543, kl_local_train=377, metric_mi|age_categorical_train=0.138]"
     ]
    },
    {
     "name": "stdout",
     "output_type": "stream",
     "text": [
      "\r\n",
      "Epoch 43/600:   7%|▋         | 43/600 [41:52<9:08:12, 59.05s/it, v_num=e6_1, total_loss_train=545, kl_local_train=375, metric_mi|age_categorical_train=0.138]"
     ]
    },
    {
     "name": "stdout",
     "output_type": "stream",
     "text": [
      "\r\n",
      "Epoch 44/600:   7%|▋         | 43/600 [41:52<9:08:12, 59.05s/it, v_num=e6_1, total_loss_train=545, kl_local_train=375, metric_mi|age_categorical_train=0.138]"
     ]
    },
    {
     "name": "stdout",
     "output_type": "stream",
     "text": [
      "\r\n",
      "Epoch 44/600:   7%|▋         | 44/600 [42:47<8:58:20, 58.09s/it, v_num=e6_1, total_loss_train=545, kl_local_train=375, metric_mi|age_categorical_train=0.138]"
     ]
    },
    {
     "name": "stdout",
     "output_type": "stream",
     "text": [
      "\r\n",
      "Epoch 44/600:   7%|▋         | 44/600 [42:47<8:58:20, 58.09s/it, v_num=e6_1, total_loss_train=547, kl_local_train=365, metric_mi|age_categorical_train=0.138]"
     ]
    },
    {
     "name": "stdout",
     "output_type": "stream",
     "text": [
      "\r\n",
      "Epoch 45/600:   7%|▋         | 44/600 [42:47<8:58:20, 58.09s/it, v_num=e6_1, total_loss_train=547, kl_local_train=365, metric_mi|age_categorical_train=0.138]"
     ]
    },
    {
     "name": "stdout",
     "output_type": "stream",
     "text": [
      "\r\n",
      "Epoch 45/600:   8%|▊         | 45/600 [43:47<9:02:09, 58.61s/it, v_num=e6_1, total_loss_train=547, kl_local_train=365, metric_mi|age_categorical_train=0.138]"
     ]
    },
    {
     "name": "stdout",
     "output_type": "stream",
     "text": [
      "\r\n",
      "Epoch 45/600:   8%|▊         | 45/600 [43:47<9:02:09, 58.61s/it, v_num=e6_1, total_loss_train=548, kl_local_train=348, metric_mi|age_categorical_train=0.138]"
     ]
    },
    {
     "name": "stdout",
     "output_type": "stream",
     "text": [
      "\r\n",
      "Epoch 46/600:   8%|▊         | 45/600 [43:48<9:02:09, 58.61s/it, v_num=e6_1, total_loss_train=548, kl_local_train=348, metric_mi|age_categorical_train=0.138]"
     ]
    },
    {
     "name": "stdout",
     "output_type": "stream",
     "text": [
      "\r\n",
      "Epoch 46/600:   8%|▊         | 46/600 [44:52<9:18:56, 60.53s/it, v_num=e6_1, total_loss_train=548, kl_local_train=348, metric_mi|age_categorical_train=0.138]"
     ]
    },
    {
     "name": "stdout",
     "output_type": "stream",
     "text": [
      "\r\n",
      "Epoch 46/600:   8%|▊         | 46/600 [44:52<9:18:56, 60.53s/it, v_num=e6_1, total_loss_train=549, kl_local_train=348, metric_mi|age_categorical_train=0.144]"
     ]
    },
    {
     "name": "stdout",
     "output_type": "stream",
     "text": [
      "\r\n",
      "Epoch 47/600:   8%|▊         | 46/600 [44:52<9:18:56, 60.53s/it, v_num=e6_1, total_loss_train=549, kl_local_train=348, metric_mi|age_categorical_train=0.144]"
     ]
    },
    {
     "name": "stdout",
     "output_type": "stream",
     "text": [
      "\r\n",
      "Epoch 47/600:   8%|▊         | 47/600 [45:55<9:24:23, 61.24s/it, v_num=e6_1, total_loss_train=549, kl_local_train=348, metric_mi|age_categorical_train=0.144]"
     ]
    },
    {
     "name": "stdout",
     "output_type": "stream",
     "text": [
      "\r\n",
      "Epoch 47/600:   8%|▊         | 47/600 [45:55<9:24:23, 61.24s/it, v_num=e6_1, total_loss_train=551, kl_local_train=346, metric_mi|age_categorical_train=0.144]"
     ]
    },
    {
     "name": "stdout",
     "output_type": "stream",
     "text": [
      "\r\n",
      "Epoch 48/600:   8%|▊         | 47/600 [45:55<9:24:23, 61.24s/it, v_num=e6_1, total_loss_train=551, kl_local_train=346, metric_mi|age_categorical_train=0.144]"
     ]
    },
    {
     "name": "stdout",
     "output_type": "stream",
     "text": [
      "\r\n",
      "Epoch 48/600:   8%|▊         | 48/600 [46:57<9:25:58, 61.52s/it, v_num=e6_1, total_loss_train=551, kl_local_train=346, metric_mi|age_categorical_train=0.144]"
     ]
    },
    {
     "name": "stdout",
     "output_type": "stream",
     "text": [
      "\r\n",
      "Epoch 48/600:   8%|▊         | 48/600 [46:57<9:25:58, 61.52s/it, v_num=e6_1, total_loss_train=552, kl_local_train=338, metric_mi|age_categorical_train=0.144]"
     ]
    },
    {
     "name": "stdout",
     "output_type": "stream",
     "text": [
      "\r\n",
      "Epoch 49/600:   8%|▊         | 48/600 [46:57<9:25:58, 61.52s/it, v_num=e6_1, total_loss_train=552, kl_local_train=338, metric_mi|age_categorical_train=0.144]"
     ]
    },
    {
     "name": "stdout",
     "output_type": "stream",
     "text": [
      "\r\n",
      "Epoch 49/600:   8%|▊         | 49/600 [47:55<9:15:16, 60.47s/it, v_num=e6_1, total_loss_train=552, kl_local_train=338, metric_mi|age_categorical_train=0.144]"
     ]
    },
    {
     "name": "stdout",
     "output_type": "stream",
     "text": [
      "\r\n",
      "Epoch 49/600:   8%|▊         | 49/600 [47:55<9:15:16, 60.47s/it, v_num=e6_1, total_loss_train=554, kl_local_train=334, metric_mi|age_categorical_train=0.144]"
     ]
    },
    {
     "name": "stdout",
     "output_type": "stream",
     "text": [
      "\r\n",
      "Epoch 50/600:   8%|▊         | 49/600 [47:55<9:15:16, 60.47s/it, v_num=e6_1, total_loss_train=554, kl_local_train=334, metric_mi|age_categorical_train=0.144]"
     ]
    },
    {
     "name": "stdout",
     "output_type": "stream",
     "text": [
      "\r\n",
      "Epoch 50/600:   8%|▊         | 50/600 [48:53<9:06:18, 59.60s/it, v_num=e6_1, total_loss_train=554, kl_local_train=334, metric_mi|age_categorical_train=0.144]"
     ]
    },
    {
     "name": "stdout",
     "output_type": "stream",
     "text": [
      "\r\n",
      "Epoch 50/600:   8%|▊         | 50/600 [48:53<9:06:18, 59.60s/it, v_num=e6_1, total_loss_train=557, kl_local_train=328, metric_mi|age_categorical_train=0.144]"
     ]
    },
    {
     "name": "stdout",
     "output_type": "stream",
     "text": [
      "\r\n",
      "Epoch 51/600:   8%|▊         | 50/600 [48:54<9:06:18, 59.60s/it, v_num=e6_1, total_loss_train=557, kl_local_train=328, metric_mi|age_categorical_train=0.144]"
     ]
    },
    {
     "name": "stdout",
     "output_type": "stream",
     "text": [
      "\r\n",
      "Epoch 51/600:   8%|▊         | 51/600 [49:49<8:56:48, 58.67s/it, v_num=e6_1, total_loss_train=557, kl_local_train=328, metric_mi|age_categorical_train=0.144]"
     ]
    },
    {
     "name": "stdout",
     "output_type": "stream",
     "text": [
      "\r\n",
      "Epoch 51/600:   8%|▊         | 51/600 [49:49<8:56:48, 58.67s/it, v_num=e6_1, total_loss_train=555, kl_local_train=320, metric_mi|age_categorical_train=0.152]"
     ]
    },
    {
     "name": "stdout",
     "output_type": "stream",
     "text": [
      "\r\n",
      "Epoch 52/600:   8%|▊         | 51/600 [49:49<8:56:48, 58.67s/it, v_num=e6_1, total_loss_train=555, kl_local_train=320, metric_mi|age_categorical_train=0.152]"
     ]
    },
    {
     "name": "stdout",
     "output_type": "stream",
     "text": [
      "\r\n",
      "Epoch 52/600:   9%|▊         | 52/600 [50:44<8:44:22, 57.41s/it, v_num=e6_1, total_loss_train=555, kl_local_train=320, metric_mi|age_categorical_train=0.152]"
     ]
    },
    {
     "name": "stdout",
     "output_type": "stream",
     "text": [
      "\r\n",
      "Epoch 52/600:   9%|▊         | 52/600 [50:44<8:44:22, 57.41s/it, v_num=e6_1, total_loss_train=554, kl_local_train=313, metric_mi|age_categorical_train=0.152]"
     ]
    },
    {
     "name": "stdout",
     "output_type": "stream",
     "text": [
      "\r\n",
      "Epoch 53/600:   9%|▊         | 52/600 [50:44<8:44:22, 57.41s/it, v_num=e6_1, total_loss_train=554, kl_local_train=313, metric_mi|age_categorical_train=0.152]"
     ]
    },
    {
     "name": "stdout",
     "output_type": "stream",
     "text": [
      "\r\n",
      "Epoch 53/600:   9%|▉         | 53/600 [51:39<8:36:04, 56.61s/it, v_num=e6_1, total_loss_train=554, kl_local_train=313, metric_mi|age_categorical_train=0.152]"
     ]
    },
    {
     "name": "stdout",
     "output_type": "stream",
     "text": [
      "\r\n",
      "Epoch 53/600:   9%|▉         | 53/600 [51:39<8:36:04, 56.61s/it, v_num=e6_1, total_loss_train=554, kl_local_train=310, metric_mi|age_categorical_train=0.152]"
     ]
    },
    {
     "name": "stdout",
     "output_type": "stream",
     "text": [
      "\r\n",
      "Epoch 54/600:   9%|▉         | 53/600 [51:39<8:36:04, 56.61s/it, v_num=e6_1, total_loss_train=554, kl_local_train=310, metric_mi|age_categorical_train=0.152]"
     ]
    },
    {
     "name": "stdout",
     "output_type": "stream",
     "text": [
      "\r\n",
      "Epoch 54/600:   9%|▉         | 54/600 [52:33<8:29:03, 55.94s/it, v_num=e6_1, total_loss_train=554, kl_local_train=310, metric_mi|age_categorical_train=0.152]"
     ]
    },
    {
     "name": "stdout",
     "output_type": "stream",
     "text": [
      "\r\n",
      "Epoch 54/600:   9%|▉         | 54/600 [52:33<8:29:03, 55.94s/it, v_num=e6_1, total_loss_train=553, kl_local_train=299, metric_mi|age_categorical_train=0.152]"
     ]
    },
    {
     "name": "stdout",
     "output_type": "stream",
     "text": [
      "\r\n",
      "Epoch 55/600:   9%|▉         | 54/600 [52:33<8:29:03, 55.94s/it, v_num=e6_1, total_loss_train=553, kl_local_train=299, metric_mi|age_categorical_train=0.152]"
     ]
    },
    {
     "name": "stdout",
     "output_type": "stream",
     "text": [
      "\r\n",
      "Epoch 55/600:   9%|▉         | 55/600 [53:28<8:25:20, 55.63s/it, v_num=e6_1, total_loss_train=553, kl_local_train=299, metric_mi|age_categorical_train=0.152]"
     ]
    },
    {
     "name": "stdout",
     "output_type": "stream",
     "text": [
      "\r\n",
      "Epoch 55/600:   9%|▉         | 55/600 [53:28<8:25:20, 55.63s/it, v_num=e6_1, total_loss_train=552, kl_local_train=289, metric_mi|age_categorical_train=0.152]"
     ]
    },
    {
     "name": "stdout",
     "output_type": "stream",
     "text": [
      "\r\n",
      "Epoch 56/600:   9%|▉         | 55/600 [53:29<8:25:20, 55.63s/it, v_num=e6_1, total_loss_train=552, kl_local_train=289, metric_mi|age_categorical_train=0.152]"
     ]
    },
    {
     "name": "stdout",
     "output_type": "stream",
     "text": [
      "\r\n",
      "Epoch 56/600:   9%|▉         | 56/600 [54:19<8:12:12, 54.29s/it, v_num=e6_1, total_loss_train=552, kl_local_train=289, metric_mi|age_categorical_train=0.152]"
     ]
    },
    {
     "name": "stdout",
     "output_type": "stream",
     "text": [
      "\r\n",
      "Epoch 56/600:   9%|▉         | 56/600 [54:19<8:12:12, 54.29s/it, v_num=e6_1, total_loss_train=550, kl_local_train=288, metric_mi|age_categorical_train=0.158]"
     ]
    },
    {
     "name": "stdout",
     "output_type": "stream",
     "text": [
      "\r\n",
      "Epoch 57/600:   9%|▉         | 56/600 [54:19<8:12:12, 54.29s/it, v_num=e6_1, total_loss_train=550, kl_local_train=288, metric_mi|age_categorical_train=0.158]"
     ]
    },
    {
     "name": "stdout",
     "output_type": "stream",
     "text": [
      "\r\n",
      "Epoch 57/600:  10%|▉         | 57/600 [55:09<7:59:43, 53.01s/it, v_num=e6_1, total_loss_train=550, kl_local_train=288, metric_mi|age_categorical_train=0.158]"
     ]
    },
    {
     "name": "stdout",
     "output_type": "stream",
     "text": [
      "\r\n",
      "Epoch 57/600:  10%|▉         | 57/600 [55:09<7:59:43, 53.01s/it, v_num=e6_1, total_loss_train=550, kl_local_train=283, metric_mi|age_categorical_train=0.158]"
     ]
    },
    {
     "name": "stdout",
     "output_type": "stream",
     "text": [
      "\r\n",
      "Epoch 58/600:  10%|▉         | 57/600 [55:09<7:59:43, 53.01s/it, v_num=e6_1, total_loss_train=550, kl_local_train=283, metric_mi|age_categorical_train=0.158]"
     ]
    },
    {
     "name": "stdout",
     "output_type": "stream",
     "text": [
      "\r\n",
      "Epoch 58/600:  10%|▉         | 58/600 [55:59<7:50:02, 52.03s/it, v_num=e6_1, total_loss_train=550, kl_local_train=283, metric_mi|age_categorical_train=0.158]"
     ]
    },
    {
     "name": "stdout",
     "output_type": "stream",
     "text": [
      "\r\n",
      "Epoch 58/600:  10%|▉         | 58/600 [55:59<7:50:02, 52.03s/it, v_num=e6_1, total_loss_train=549, kl_local_train=286, metric_mi|age_categorical_train=0.158]"
     ]
    },
    {
     "name": "stdout",
     "output_type": "stream",
     "text": [
      "\r\n",
      "Epoch 59/600:  10%|▉         | 58/600 [55:59<7:50:02, 52.03s/it, v_num=e6_1, total_loss_train=549, kl_local_train=286, metric_mi|age_categorical_train=0.158]"
     ]
    },
    {
     "name": "stdout",
     "output_type": "stream",
     "text": [
      "\r\n",
      "Epoch 59/600:  10%|▉         | 59/600 [56:49<7:42:51, 51.33s/it, v_num=e6_1, total_loss_train=549, kl_local_train=286, metric_mi|age_categorical_train=0.158]"
     ]
    },
    {
     "name": "stdout",
     "output_type": "stream",
     "text": [
      "\r\n",
      "Epoch 59/600:  10%|▉         | 59/600 [56:49<7:42:51, 51.33s/it, v_num=e6_1, total_loss_train=549, kl_local_train=280, metric_mi|age_categorical_train=0.158]"
     ]
    },
    {
     "name": "stdout",
     "output_type": "stream",
     "text": [
      "\r\n",
      "Epoch 60/600:  10%|▉         | 59/600 [56:49<7:42:51, 51.33s/it, v_num=e6_1, total_loss_train=549, kl_local_train=280, metric_mi|age_categorical_train=0.158]"
     ]
    },
    {
     "name": "stdout",
     "output_type": "stream",
     "text": [
      "\r\n",
      "Epoch 60/600:  10%|█         | 60/600 [57:39<7:40:49, 51.20s/it, v_num=e6_1, total_loss_train=549, kl_local_train=280, metric_mi|age_categorical_train=0.158]"
     ]
    },
    {
     "name": "stdout",
     "output_type": "stream",
     "text": [
      "\r\n",
      "Epoch 60/600:  10%|█         | 60/600 [57:39<7:40:49, 51.20s/it, v_num=e6_1, total_loss_train=548, kl_local_train=266, metric_mi|age_categorical_train=0.158]"
     ]
    },
    {
     "name": "stdout",
     "output_type": "stream",
     "text": [
      "\r\n",
      "Epoch 61/600:  10%|█         | 60/600 [57:40<7:40:49, 51.20s/it, v_num=e6_1, total_loss_train=548, kl_local_train=266, metric_mi|age_categorical_train=0.158]"
     ]
    },
    {
     "name": "stdout",
     "output_type": "stream",
     "text": [
      "\r\n",
      "Epoch 61/600:  10%|█         | 61/600 [58:31<7:40:49, 51.30s/it, v_num=e6_1, total_loss_train=548, kl_local_train=266, metric_mi|age_categorical_train=0.158]"
     ]
    },
    {
     "name": "stdout",
     "output_type": "stream",
     "text": [
      "\r\n",
      "Epoch 61/600:  10%|█         | 61/600 [58:31<7:40:49, 51.30s/it, v_num=e6_1, total_loss_train=548, kl_local_train=262, metric_mi|age_categorical_train=0.168]"
     ]
    },
    {
     "name": "stdout",
     "output_type": "stream",
     "text": [
      "\r\n",
      "Epoch 62/600:  10%|█         | 61/600 [58:31<7:40:49, 51.30s/it, v_num=e6_1, total_loss_train=548, kl_local_train=262, metric_mi|age_categorical_train=0.168]"
     ]
    },
    {
     "name": "stdout",
     "output_type": "stream",
     "text": [
      "\r\n",
      "Epoch 62/600:  10%|█         | 62/600 [59:22<7:39:20, 51.23s/it, v_num=e6_1, total_loss_train=548, kl_local_train=262, metric_mi|age_categorical_train=0.168]"
     ]
    },
    {
     "name": "stdout",
     "output_type": "stream",
     "text": [
      "\r\n",
      "Epoch 62/600:  10%|█         | 62/600 [59:22<7:39:20, 51.23s/it, v_num=e6_1, total_loss_train=547, kl_local_train=257, metric_mi|age_categorical_train=0.168]"
     ]
    },
    {
     "name": "stdout",
     "output_type": "stream",
     "text": [
      "\r\n",
      "Epoch 63/600:  10%|█         | 62/600 [59:22<7:39:20, 51.23s/it, v_num=e6_1, total_loss_train=547, kl_local_train=257, metric_mi|age_categorical_train=0.168]"
     ]
    },
    {
     "name": "stdout",
     "output_type": "stream",
     "text": [
      "\r\n",
      "Epoch 63/600:  10%|█         | 63/600 [1:00:13<7:36:37, 51.02s/it, v_num=e6_1, total_loss_train=547, kl_local_train=257, metric_mi|age_categorical_train=0.168]"
     ]
    },
    {
     "name": "stdout",
     "output_type": "stream",
     "text": [
      "\r\n",
      "Epoch 63/600:  10%|█         | 63/600 [1:00:13<7:36:37, 51.02s/it, v_num=e6_1, total_loss_train=546, kl_local_train=248, metric_mi|age_categorical_train=0.168]"
     ]
    },
    {
     "name": "stdout",
     "output_type": "stream",
     "text": [
      "\r\n",
      "Epoch 64/600:  10%|█         | 63/600 [1:00:13<7:36:37, 51.02s/it, v_num=e6_1, total_loss_train=546, kl_local_train=248, metric_mi|age_categorical_train=0.168]"
     ]
    },
    {
     "name": "stdout",
     "output_type": "stream",
     "text": [
      "\r\n",
      "Epoch 64/600:  11%|█         | 64/600 [1:01:03<7:35:24, 50.98s/it, v_num=e6_1, total_loss_train=546, kl_local_train=248, metric_mi|age_categorical_train=0.168]"
     ]
    },
    {
     "name": "stdout",
     "output_type": "stream",
     "text": [
      "\r\n",
      "Epoch 64/600:  11%|█         | 64/600 [1:01:03<7:35:24, 50.98s/it, v_num=e6_1, total_loss_train=545, kl_local_train=246, metric_mi|age_categorical_train=0.168]"
     ]
    },
    {
     "name": "stdout",
     "output_type": "stream",
     "text": [
      "\r\n",
      "Epoch 65/600:  11%|█         | 64/600 [1:01:03<7:35:24, 50.98s/it, v_num=e6_1, total_loss_train=545, kl_local_train=246, metric_mi|age_categorical_train=0.168]"
     ]
    },
    {
     "name": "stdout",
     "output_type": "stream",
     "text": [
      "\r\n",
      "Epoch 65/600:  11%|█         | 65/600 [1:01:55<7:35:40, 51.10s/it, v_num=e6_1, total_loss_train=545, kl_local_train=246, metric_mi|age_categorical_train=0.168]"
     ]
    },
    {
     "name": "stdout",
     "output_type": "stream",
     "text": [
      "\r\n",
      "Epoch 65/600:  11%|█         | 65/600 [1:01:55<7:35:40, 51.10s/it, v_num=e6_1, total_loss_train=546, kl_local_train=246, metric_mi|age_categorical_train=0.168]"
     ]
    },
    {
     "name": "stdout",
     "output_type": "stream",
     "text": [
      "\r\n",
      "Epoch 66/600:  11%|█         | 65/600 [1:01:56<7:35:40, 51.10s/it, v_num=e6_1, total_loss_train=546, kl_local_train=246, metric_mi|age_categorical_train=0.168]"
     ]
    },
    {
     "name": "stdout",
     "output_type": "stream",
     "text": [
      "\r\n",
      "Epoch 66/600:  11%|█         | 66/600 [1:02:47<7:37:37, 51.42s/it, v_num=e6_1, total_loss_train=546, kl_local_train=246, metric_mi|age_categorical_train=0.168]"
     ]
    },
    {
     "name": "stdout",
     "output_type": "stream",
     "text": [
      "\r\n",
      "Epoch 66/600:  11%|█         | 66/600 [1:02:47<7:37:37, 51.42s/it, v_num=e6_1, total_loss_train=544, kl_local_train=242, metric_mi|age_categorical_train=0.175]"
     ]
    },
    {
     "name": "stdout",
     "output_type": "stream",
     "text": [
      "\r\n",
      "Epoch 67/600:  11%|█         | 66/600 [1:02:47<7:37:37, 51.42s/it, v_num=e6_1, total_loss_train=544, kl_local_train=242, metric_mi|age_categorical_train=0.175]"
     ]
    },
    {
     "name": "stdout",
     "output_type": "stream",
     "text": [
      "\r\n",
      "Epoch 67/600:  11%|█         | 67/600 [1:03:38<7:35:00, 51.22s/it, v_num=e6_1, total_loss_train=544, kl_local_train=242, metric_mi|age_categorical_train=0.175]"
     ]
    },
    {
     "name": "stdout",
     "output_type": "stream",
     "text": [
      "\r\n",
      "Epoch 67/600:  11%|█         | 67/600 [1:03:38<7:35:00, 51.22s/it, v_num=e6_1, total_loss_train=544, kl_local_train=234, metric_mi|age_categorical_train=0.175]"
     ]
    },
    {
     "name": "stdout",
     "output_type": "stream",
     "text": [
      "\r\n",
      "Epoch 68/600:  11%|█         | 67/600 [1:03:38<7:35:00, 51.22s/it, v_num=e6_1, total_loss_train=544, kl_local_train=234, metric_mi|age_categorical_train=0.175]"
     ]
    },
    {
     "name": "stdout",
     "output_type": "stream",
     "text": [
      "\r\n",
      "Epoch 68/600:  11%|█▏        | 68/600 [1:04:28<7:31:55, 50.97s/it, v_num=e6_1, total_loss_train=544, kl_local_train=234, metric_mi|age_categorical_train=0.175]"
     ]
    },
    {
     "name": "stdout",
     "output_type": "stream",
     "text": [
      "\r\n",
      "Epoch 68/600:  11%|█▏        | 68/600 [1:04:28<7:31:55, 50.97s/it, v_num=e6_1, total_loss_train=543, kl_local_train=229, metric_mi|age_categorical_train=0.175]"
     ]
    },
    {
     "name": "stdout",
     "output_type": "stream",
     "text": [
      "\r\n",
      "Epoch 69/600:  11%|█▏        | 68/600 [1:04:28<7:31:55, 50.97s/it, v_num=e6_1, total_loss_train=543, kl_local_train=229, metric_mi|age_categorical_train=0.175]"
     ]
    },
    {
     "name": "stdout",
     "output_type": "stream",
     "text": [
      "\r\n",
      "Epoch 69/600:  12%|█▏        | 69/600 [1:05:18<7:29:09, 50.75s/it, v_num=e6_1, total_loss_train=543, kl_local_train=229, metric_mi|age_categorical_train=0.175]"
     ]
    },
    {
     "name": "stdout",
     "output_type": "stream",
     "text": [
      "\r\n",
      "Epoch 69/600:  12%|█▏        | 69/600 [1:05:18<7:29:09, 50.75s/it, v_num=e6_1, total_loss_train=542, kl_local_train=224, metric_mi|age_categorical_train=0.175]"
     ]
    },
    {
     "name": "stdout",
     "output_type": "stream",
     "text": [
      "\r\n",
      "Epoch 70/600:  12%|█▏        | 69/600 [1:05:18<7:29:09, 50.75s/it, v_num=e6_1, total_loss_train=542, kl_local_train=224, metric_mi|age_categorical_train=0.175]"
     ]
    },
    {
     "name": "stdout",
     "output_type": "stream",
     "text": [
      "\r\n",
      "Epoch 70/600:  12%|█▏        | 70/600 [1:06:10<7:31:31, 51.12s/it, v_num=e6_1, total_loss_train=542, kl_local_train=224, metric_mi|age_categorical_train=0.175]"
     ]
    },
    {
     "name": "stdout",
     "output_type": "stream",
     "text": [
      "\r\n",
      "Epoch 70/600:  12%|█▏        | 70/600 [1:06:10<7:31:31, 51.12s/it, v_num=e6_1, total_loss_train=541, kl_local_train=227, metric_mi|age_categorical_train=0.175]"
     ]
    },
    {
     "name": "stdout",
     "output_type": "stream",
     "text": [
      "\r\n",
      "Epoch 71/600:  12%|█▏        | 70/600 [1:06:11<7:31:31, 51.12s/it, v_num=e6_1, total_loss_train=541, kl_local_train=227, metric_mi|age_categorical_train=0.175]"
     ]
    },
    {
     "name": "stdout",
     "output_type": "stream",
     "text": [
      "\r\n",
      "Epoch 71/600:  12%|█▏        | 71/600 [1:07:02<7:31:58, 51.26s/it, v_num=e6_1, total_loss_train=541, kl_local_train=227, metric_mi|age_categorical_train=0.175]"
     ]
    },
    {
     "name": "stdout",
     "output_type": "stream",
     "text": [
      "\r\n",
      "Epoch 71/600:  12%|█▏        | 71/600 [1:07:02<7:31:58, 51.26s/it, v_num=e6_1, total_loss_train=541, kl_local_train=231, metric_mi|age_categorical_train=0.179]"
     ]
    },
    {
     "name": "stdout",
     "output_type": "stream",
     "text": [
      "\r\n",
      "Epoch 72/600:  12%|█▏        | 71/600 [1:07:02<7:31:58, 51.26s/it, v_num=e6_1, total_loss_train=541, kl_local_train=231, metric_mi|age_categorical_train=0.179]"
     ]
    },
    {
     "name": "stdout",
     "output_type": "stream",
     "text": [
      "\r\n",
      "Epoch 72/600:  12%|█▏        | 72/600 [1:07:52<7:28:41, 50.99s/it, v_num=e6_1, total_loss_train=541, kl_local_train=231, metric_mi|age_categorical_train=0.179]"
     ]
    },
    {
     "name": "stdout",
     "output_type": "stream",
     "text": [
      "\r\n",
      "Epoch 72/600:  12%|█▏        | 72/600 [1:07:52<7:28:41, 50.99s/it, v_num=e6_1, total_loss_train=540, kl_local_train=234, metric_mi|age_categorical_train=0.179]"
     ]
    },
    {
     "name": "stdout",
     "output_type": "stream",
     "text": [
      "\r\n",
      "Epoch 73/600:  12%|█▏        | 72/600 [1:07:52<7:28:41, 50.99s/it, v_num=e6_1, total_loss_train=540, kl_local_train=234, metric_mi|age_categorical_train=0.179]"
     ]
    },
    {
     "name": "stdout",
     "output_type": "stream",
     "text": [
      "\r\n",
      "Epoch 73/600:  12%|█▏        | 73/600 [1:08:42<7:24:40, 50.63s/it, v_num=e6_1, total_loss_train=540, kl_local_train=234, metric_mi|age_categorical_train=0.179]"
     ]
    },
    {
     "name": "stdout",
     "output_type": "stream",
     "text": [
      "\r\n",
      "Epoch 73/600:  12%|█▏        | 73/600 [1:08:42<7:24:40, 50.63s/it, v_num=e6_1, total_loss_train=539, kl_local_train=225, metric_mi|age_categorical_train=0.179]"
     ]
    },
    {
     "name": "stdout",
     "output_type": "stream",
     "text": [
      "\r\n",
      "Epoch 74/600:  12%|█▏        | 73/600 [1:08:42<7:24:40, 50.63s/it, v_num=e6_1, total_loss_train=539, kl_local_train=225, metric_mi|age_categorical_train=0.179]"
     ]
    },
    {
     "name": "stdout",
     "output_type": "stream",
     "text": [
      "\r\n",
      "Epoch 74/600:  12%|█▏        | 74/600 [1:09:32<7:21:52, 50.40s/it, v_num=e6_1, total_loss_train=539, kl_local_train=225, metric_mi|age_categorical_train=0.179]"
     ]
    },
    {
     "name": "stdout",
     "output_type": "stream",
     "text": [
      "\r\n",
      "Epoch 74/600:  12%|█▏        | 74/600 [1:09:32<7:21:52, 50.40s/it, v_num=e6_1, total_loss_train=539, kl_local_train=217, metric_mi|age_categorical_train=0.179]"
     ]
    },
    {
     "name": "stdout",
     "output_type": "stream",
     "text": [
      "\r\n",
      "Epoch 75/600:  12%|█▏        | 74/600 [1:09:32<7:21:52, 50.40s/it, v_num=e6_1, total_loss_train=539, kl_local_train=217, metric_mi|age_categorical_train=0.179]"
     ]
    },
    {
     "name": "stdout",
     "output_type": "stream",
     "text": [
      "\r\n",
      "Epoch 75/600:  12%|█▎        | 75/600 [1:10:24<7:25:32, 50.92s/it, v_num=e6_1, total_loss_train=539, kl_local_train=217, metric_mi|age_categorical_train=0.179]"
     ]
    },
    {
     "name": "stdout",
     "output_type": "stream",
     "text": [
      "\r\n",
      "Epoch 75/600:  12%|█▎        | 75/600 [1:10:24<7:25:32, 50.92s/it, v_num=e6_1, total_loss_train=539, kl_local_train=219, metric_mi|age_categorical_train=0.179]"
     ]
    },
    {
     "name": "stdout",
     "output_type": "stream",
     "text": [
      "\r\n",
      "Epoch 76/600:  12%|█▎        | 75/600 [1:10:25<7:25:32, 50.92s/it, v_num=e6_1, total_loss_train=539, kl_local_train=219, metric_mi|age_categorical_train=0.179]"
     ]
    },
    {
     "name": "stdout",
     "output_type": "stream",
     "text": [
      "\r\n",
      "Epoch 76/600:  13%|█▎        | 76/600 [1:11:15<7:25:18, 50.99s/it, v_num=e6_1, total_loss_train=539, kl_local_train=219, metric_mi|age_categorical_train=0.179]"
     ]
    },
    {
     "name": "stdout",
     "output_type": "stream",
     "text": [
      "\r\n",
      "Epoch 76/600:  13%|█▎        | 76/600 [1:11:15<7:25:18, 50.99s/it, v_num=e6_1, total_loss_train=539, kl_local_train=222, metric_mi|age_categorical_train=0.182]"
     ]
    },
    {
     "name": "stdout",
     "output_type": "stream",
     "text": [
      "\r\n",
      "Epoch 77/600:  13%|█▎        | 76/600 [1:11:15<7:25:18, 50.99s/it, v_num=e6_1, total_loss_train=539, kl_local_train=222, metric_mi|age_categorical_train=0.182]"
     ]
    },
    {
     "name": "stdout",
     "output_type": "stream",
     "text": [
      "\r\n",
      "Epoch 77/600:  13%|█▎        | 77/600 [1:12:05<7:20:34, 50.54s/it, v_num=e6_1, total_loss_train=539, kl_local_train=222, metric_mi|age_categorical_train=0.182]"
     ]
    },
    {
     "name": "stdout",
     "output_type": "stream",
     "text": [
      "\r\n",
      "Epoch 77/600:  13%|█▎        | 77/600 [1:12:05<7:20:34, 50.54s/it, v_num=e6_1, total_loss_train=538, kl_local_train=222, metric_mi|age_categorical_train=0.182]"
     ]
    },
    {
     "name": "stdout",
     "output_type": "stream",
     "text": [
      "\r\n",
      "Epoch 78/600:  13%|█▎        | 77/600 [1:12:05<7:20:34, 50.54s/it, v_num=e6_1, total_loss_train=538, kl_local_train=222, metric_mi|age_categorical_train=0.182]"
     ]
    },
    {
     "name": "stdout",
     "output_type": "stream",
     "text": [
      "\r\n",
      "Epoch 78/600:  13%|█▎        | 78/600 [1:12:54<7:16:08, 50.13s/it, v_num=e6_1, total_loss_train=538, kl_local_train=222, metric_mi|age_categorical_train=0.182]"
     ]
    },
    {
     "name": "stdout",
     "output_type": "stream",
     "text": [
      "\r\n",
      "Epoch 78/600:  13%|█▎        | 78/600 [1:12:54<7:16:08, 50.13s/it, v_num=e6_1, total_loss_train=537, kl_local_train=223, metric_mi|age_categorical_train=0.182]"
     ]
    },
    {
     "name": "stdout",
     "output_type": "stream",
     "text": [
      "\r\n",
      "Epoch 79/600:  13%|█▎        | 78/600 [1:12:54<7:16:08, 50.13s/it, v_num=e6_1, total_loss_train=537, kl_local_train=223, metric_mi|age_categorical_train=0.182]"
     ]
    },
    {
     "name": "stdout",
     "output_type": "stream",
     "text": [
      "\r\n",
      "Epoch 79/600:  13%|█▎        | 79/600 [1:13:43<7:13:36, 49.93s/it, v_num=e6_1, total_loss_train=537, kl_local_train=223, metric_mi|age_categorical_train=0.182]"
     ]
    },
    {
     "name": "stdout",
     "output_type": "stream",
     "text": [
      "\r\n",
      "Epoch 79/600:  13%|█▎        | 79/600 [1:13:43<7:13:36, 49.93s/it, v_num=e6_1, total_loss_train=538, kl_local_train=221, metric_mi|age_categorical_train=0.182]"
     ]
    },
    {
     "name": "stdout",
     "output_type": "stream",
     "text": [
      "\r\n",
      "Epoch 80/600:  13%|█▎        | 79/600 [1:13:43<7:13:36, 49.93s/it, v_num=e6_1, total_loss_train=538, kl_local_train=221, metric_mi|age_categorical_train=0.182]"
     ]
    },
    {
     "name": "stdout",
     "output_type": "stream",
     "text": [
      "\r\n",
      "Epoch 80/600:  13%|█▎        | 80/600 [1:14:34<7:15:11, 50.21s/it, v_num=e6_1, total_loss_train=538, kl_local_train=221, metric_mi|age_categorical_train=0.182]"
     ]
    },
    {
     "name": "stdout",
     "output_type": "stream",
     "text": [
      "\r\n",
      "Epoch 80/600:  13%|█▎        | 80/600 [1:14:34<7:15:11, 50.21s/it, v_num=e6_1, total_loss_train=537, kl_local_train=221, metric_mi|age_categorical_train=0.182]"
     ]
    },
    {
     "name": "stdout",
     "output_type": "stream",
     "text": [
      "\r\n",
      "Epoch 81/600:  13%|█▎        | 80/600 [1:14:35<7:15:11, 50.21s/it, v_num=e6_1, total_loss_train=537, kl_local_train=221, metric_mi|age_categorical_train=0.182]"
     ]
    },
    {
     "name": "stdout",
     "output_type": "stream",
     "text": [
      "\r\n",
      "Epoch 81/600:  14%|█▎        | 81/600 [1:15:25<7:15:12, 50.31s/it, v_num=e6_1, total_loss_train=537, kl_local_train=221, metric_mi|age_categorical_train=0.182]"
     ]
    },
    {
     "name": "stdout",
     "output_type": "stream",
     "text": [
      "\r\n",
      "Epoch 81/600:  14%|█▎        | 81/600 [1:15:25<7:15:12, 50.31s/it, v_num=e6_1, total_loss_train=536, kl_local_train=217, metric_mi|age_categorical_train=0.196]"
     ]
    },
    {
     "name": "stdout",
     "output_type": "stream",
     "text": [
      "\r\n",
      "Epoch 82/600:  14%|█▎        | 81/600 [1:15:25<7:15:12, 50.31s/it, v_num=e6_1, total_loss_train=536, kl_local_train=217, metric_mi|age_categorical_train=0.196]"
     ]
    },
    {
     "name": "stdout",
     "output_type": "stream",
     "text": [
      "\r\n",
      "Epoch 82/600:  14%|█▎        | 82/600 [1:16:14<7:12:38, 50.11s/it, v_num=e6_1, total_loss_train=536, kl_local_train=217, metric_mi|age_categorical_train=0.196]"
     ]
    },
    {
     "name": "stdout",
     "output_type": "stream",
     "text": [
      "\r\n",
      "Epoch 82/600:  14%|█▎        | 82/600 [1:16:14<7:12:38, 50.11s/it, v_num=e6_1, total_loss_train=535, kl_local_train=213, metric_mi|age_categorical_train=0.196]"
     ]
    },
    {
     "name": "stdout",
     "output_type": "stream",
     "text": [
      "\r\n",
      "Epoch 83/600:  14%|█▎        | 82/600 [1:16:14<7:12:38, 50.11s/it, v_num=e6_1, total_loss_train=535, kl_local_train=213, metric_mi|age_categorical_train=0.196]"
     ]
    },
    {
     "name": "stdout",
     "output_type": "stream",
     "text": [
      "\r\n",
      "Epoch 83/600:  14%|█▍        | 83/600 [1:17:04<7:10:48, 50.00s/it, v_num=e6_1, total_loss_train=535, kl_local_train=213, metric_mi|age_categorical_train=0.196]"
     ]
    },
    {
     "name": "stdout",
     "output_type": "stream",
     "text": [
      "\r\n",
      "Epoch 83/600:  14%|█▍        | 83/600 [1:17:04<7:10:48, 50.00s/it, v_num=e6_1, total_loss_train=534, kl_local_train=212, metric_mi|age_categorical_train=0.196]"
     ]
    },
    {
     "name": "stdout",
     "output_type": "stream",
     "text": [
      "\r\n",
      "Epoch 84/600:  14%|█▍        | 83/600 [1:17:04<7:10:48, 50.00s/it, v_num=e6_1, total_loss_train=534, kl_local_train=212, metric_mi|age_categorical_train=0.196]"
     ]
    },
    {
     "name": "stdout",
     "output_type": "stream",
     "text": [
      "\r\n",
      "Epoch 84/600:  14%|█▍        | 84/600 [1:17:53<7:07:59, 49.77s/it, v_num=e6_1, total_loss_train=534, kl_local_train=212, metric_mi|age_categorical_train=0.196]"
     ]
    },
    {
     "name": "stdout",
     "output_type": "stream",
     "text": [
      "\r\n",
      "Epoch 84/600:  14%|█▍        | 84/600 [1:17:53<7:07:59, 49.77s/it, v_num=e6_1, total_loss_train=534, kl_local_train=209, metric_mi|age_categorical_train=0.196]"
     ]
    },
    {
     "name": "stdout",
     "output_type": "stream",
     "text": [
      "\r\n",
      "Epoch 85/600:  14%|█▍        | 84/600 [1:17:53<7:07:59, 49.77s/it, v_num=e6_1, total_loss_train=534, kl_local_train=209, metric_mi|age_categorical_train=0.196]"
     ]
    },
    {
     "name": "stdout",
     "output_type": "stream",
     "text": [
      "\r\n",
      "Epoch 85/600:  14%|█▍        | 85/600 [1:18:44<7:08:28, 49.92s/it, v_num=e6_1, total_loss_train=534, kl_local_train=209, metric_mi|age_categorical_train=0.196]"
     ]
    },
    {
     "name": "stdout",
     "output_type": "stream",
     "text": [
      "\r\n",
      "Epoch 85/600:  14%|█▍        | 85/600 [1:18:44<7:08:28, 49.92s/it, v_num=e6_1, total_loss_train=534, kl_local_train=207, metric_mi|age_categorical_train=0.196]"
     ]
    },
    {
     "name": "stdout",
     "output_type": "stream",
     "text": [
      "\r\n",
      "Epoch 86/600:  14%|█▍        | 85/600 [1:18:45<7:08:28, 49.92s/it, v_num=e6_1, total_loss_train=534, kl_local_train=207, metric_mi|age_categorical_train=0.196]"
     ]
    },
    {
     "name": "stdout",
     "output_type": "stream",
     "text": [
      "\r\n",
      "Epoch 86/600:  14%|█▍        | 86/600 [1:19:34<7:08:03, 49.97s/it, v_num=e6_1, total_loss_train=534, kl_local_train=207, metric_mi|age_categorical_train=0.196]"
     ]
    },
    {
     "name": "stdout",
     "output_type": "stream",
     "text": [
      "\r\n",
      "Epoch 86/600:  14%|█▍        | 86/600 [1:19:34<7:08:03, 49.97s/it, v_num=e6_1, total_loss_train=533, kl_local_train=206, metric_mi|age_categorical_train=0.197]"
     ]
    },
    {
     "name": "stdout",
     "output_type": "stream",
     "text": [
      "\r\n",
      "Epoch 87/600:  14%|█▍        | 86/600 [1:19:34<7:08:03, 49.97s/it, v_num=e6_1, total_loss_train=533, kl_local_train=206, metric_mi|age_categorical_train=0.197]"
     ]
    },
    {
     "name": "stdout",
     "output_type": "stream",
     "text": [
      "\r\n",
      "Epoch 87/600:  14%|█▍        | 87/600 [1:20:23<7:06:04, 49.83s/it, v_num=e6_1, total_loss_train=533, kl_local_train=206, metric_mi|age_categorical_train=0.197]"
     ]
    },
    {
     "name": "stdout",
     "output_type": "stream",
     "text": [
      "\r\n",
      "Epoch 87/600:  14%|█▍        | 87/600 [1:20:23<7:06:04, 49.83s/it, v_num=e6_1, total_loss_train=533, kl_local_train=204, metric_mi|age_categorical_train=0.197]"
     ]
    },
    {
     "name": "stdout",
     "output_type": "stream",
     "text": [
      "\r\n",
      "Epoch 88/600:  14%|█▍        | 87/600 [1:20:23<7:06:04, 49.83s/it, v_num=e6_1, total_loss_train=533, kl_local_train=204, metric_mi|age_categorical_train=0.197]"
     ]
    },
    {
     "name": "stdout",
     "output_type": "stream",
     "text": [
      "\r\n",
      "Epoch 88/600:  15%|█▍        | 88/600 [1:21:12<7:02:43, 49.54s/it, v_num=e6_1, total_loss_train=533, kl_local_train=204, metric_mi|age_categorical_train=0.197]"
     ]
    },
    {
     "name": "stdout",
     "output_type": "stream",
     "text": [
      "\r\n",
      "Epoch 88/600:  15%|█▍        | 88/600 [1:21:12<7:02:43, 49.54s/it, v_num=e6_1, total_loss_train=533, kl_local_train=200, metric_mi|age_categorical_train=0.197]"
     ]
    },
    {
     "name": "stdout",
     "output_type": "stream",
     "text": [
      "\r\n",
      "Epoch 89/600:  15%|█▍        | 88/600 [1:21:12<7:02:43, 49.54s/it, v_num=e6_1, total_loss_train=533, kl_local_train=200, metric_mi|age_categorical_train=0.197]"
     ]
    },
    {
     "name": "stdout",
     "output_type": "stream",
     "text": [
      "\r\n",
      "Epoch 89/600:  15%|█▍        | 89/600 [1:22:02<7:02:13, 49.58s/it, v_num=e6_1, total_loss_train=533, kl_local_train=200, metric_mi|age_categorical_train=0.197]"
     ]
    },
    {
     "name": "stdout",
     "output_type": "stream",
     "text": [
      "\r\n",
      "Epoch 89/600:  15%|█▍        | 89/600 [1:22:02<7:02:13, 49.58s/it, v_num=e6_1, total_loss_train=532, kl_local_train=198, metric_mi|age_categorical_train=0.197]"
     ]
    },
    {
     "name": "stdout",
     "output_type": "stream",
     "text": [
      "\r\n",
      "Epoch 90/600:  15%|█▍        | 89/600 [1:22:02<7:02:13, 49.58s/it, v_num=e6_1, total_loss_train=532, kl_local_train=198, metric_mi|age_categorical_train=0.197]"
     ]
    },
    {
     "name": "stdout",
     "output_type": "stream",
     "text": [
      "\r\n",
      "Epoch 90/600:  15%|█▌        | 90/600 [1:22:52<7:03:09, 49.78s/it, v_num=e6_1, total_loss_train=532, kl_local_train=198, metric_mi|age_categorical_train=0.197]"
     ]
    },
    {
     "name": "stdout",
     "output_type": "stream",
     "text": [
      "\r\n",
      "Epoch 90/600:  15%|█▌        | 90/600 [1:22:52<7:03:09, 49.78s/it, v_num=e6_1, total_loss_train=532, kl_local_train=195, metric_mi|age_categorical_train=0.197]"
     ]
    },
    {
     "name": "stdout",
     "output_type": "stream",
     "text": [
      "\r\n",
      "Epoch 91/600:  15%|█▌        | 90/600 [1:22:53<7:03:09, 49.78s/it, v_num=e6_1, total_loss_train=532, kl_local_train=195, metric_mi|age_categorical_train=0.197]"
     ]
    },
    {
     "name": "stdout",
     "output_type": "stream",
     "text": [
      "\r\n",
      "Epoch 91/600:  15%|█▌        | 91/600 [1:23:42<7:02:18, 49.78s/it, v_num=e6_1, total_loss_train=532, kl_local_train=195, metric_mi|age_categorical_train=0.197]"
     ]
    },
    {
     "name": "stdout",
     "output_type": "stream",
     "text": [
      "\r\n",
      "Epoch 91/600:  15%|█▌        | 91/600 [1:23:42<7:02:18, 49.78s/it, v_num=e6_1, total_loss_train=532, kl_local_train=194, metric_mi|age_categorical_train=0.178]"
     ]
    },
    {
     "name": "stdout",
     "output_type": "stream",
     "text": [
      "\r\n",
      "Epoch 92/600:  15%|█▌        | 91/600 [1:23:42<7:02:18, 49.78s/it, v_num=e6_1, total_loss_train=532, kl_local_train=194, metric_mi|age_categorical_train=0.178]"
     ]
    },
    {
     "name": "stdout",
     "output_type": "stream",
     "text": [
      "\r\n",
      "Epoch 92/600:  15%|█▌        | 92/600 [1:24:31<6:59:30, 49.55s/it, v_num=e6_1, total_loss_train=532, kl_local_train=194, metric_mi|age_categorical_train=0.178]"
     ]
    },
    {
     "name": "stdout",
     "output_type": "stream",
     "text": [
      "\r\n",
      "Epoch 92/600:  15%|█▌        | 92/600 [1:24:31<6:59:30, 49.55s/it, v_num=e6_1, total_loss_train=532, kl_local_train=198, metric_mi|age_categorical_train=0.178]"
     ]
    },
    {
     "name": "stdout",
     "output_type": "stream",
     "text": [
      "\r\n",
      "Epoch 93/600:  15%|█▌        | 92/600 [1:24:31<6:59:30, 49.55s/it, v_num=e6_1, total_loss_train=532, kl_local_train=198, metric_mi|age_categorical_train=0.178]"
     ]
    },
    {
     "name": "stdout",
     "output_type": "stream",
     "text": [
      "\r\n",
      "Epoch 93/600:  16%|█▌        | 93/600 [1:25:20<6:57:42, 49.43s/it, v_num=e6_1, total_loss_train=532, kl_local_train=198, metric_mi|age_categorical_train=0.178]"
     ]
    },
    {
     "name": "stdout",
     "output_type": "stream",
     "text": [
      "\r\n",
      "Epoch 93/600:  16%|█▌        | 93/600 [1:25:20<6:57:42, 49.43s/it, v_num=e6_1, total_loss_train=531, kl_local_train=195, metric_mi|age_categorical_train=0.178]"
     ]
    },
    {
     "name": "stdout",
     "output_type": "stream",
     "text": [
      "\r\n",
      "Epoch 94/600:  16%|█▌        | 93/600 [1:25:20<6:57:42, 49.43s/it, v_num=e6_1, total_loss_train=531, kl_local_train=195, metric_mi|age_categorical_train=0.178]"
     ]
    },
    {
     "name": "stdout",
     "output_type": "stream",
     "text": [
      "\r\n",
      "Epoch 94/600:  16%|█▌        | 94/600 [1:26:09<6:55:41, 49.29s/it, v_num=e6_1, total_loss_train=531, kl_local_train=195, metric_mi|age_categorical_train=0.178]"
     ]
    },
    {
     "name": "stdout",
     "output_type": "stream",
     "text": [
      "\r\n",
      "Epoch 94/600:  16%|█▌        | 94/600 [1:26:09<6:55:41, 49.29s/it, v_num=e6_1, total_loss_train=532, kl_local_train=196, metric_mi|age_categorical_train=0.178]"
     ]
    },
    {
     "name": "stdout",
     "output_type": "stream",
     "text": [
      "\r\n",
      "Epoch 95/600:  16%|█▌        | 94/600 [1:26:09<6:55:41, 49.29s/it, v_num=e6_1, total_loss_train=532, kl_local_train=196, metric_mi|age_categorical_train=0.178]"
     ]
    },
    {
     "name": "stdout",
     "output_type": "stream",
     "text": [
      "\r\n",
      "Epoch 95/600:  16%|█▌        | 95/600 [1:26:59<6:57:47, 49.64s/it, v_num=e6_1, total_loss_train=532, kl_local_train=196, metric_mi|age_categorical_train=0.178]"
     ]
    },
    {
     "name": "stdout",
     "output_type": "stream",
     "text": [
      "\r\n",
      "Epoch 95/600:  16%|█▌        | 95/600 [1:26:59<6:57:47, 49.64s/it, v_num=e6_1, total_loss_train=531, kl_local_train=194, metric_mi|age_categorical_train=0.178]"
     ]
    },
    {
     "name": "stdout",
     "output_type": "stream",
     "text": [
      "\r\n",
      "Epoch 96/600:  16%|█▌        | 95/600 [1:27:00<6:57:47, 49.64s/it, v_num=e6_1, total_loss_train=531, kl_local_train=194, metric_mi|age_categorical_train=0.178]"
     ]
    },
    {
     "name": "stdout",
     "output_type": "stream",
     "text": [
      "\r\n",
      "Epoch 96/600:  16%|█▌        | 96/600 [1:27:50<6:59:26, 49.93s/it, v_num=e6_1, total_loss_train=531, kl_local_train=194, metric_mi|age_categorical_train=0.178]"
     ]
    },
    {
     "name": "stdout",
     "output_type": "stream",
     "text": [
      "\r\n",
      "Epoch 96/600:  16%|█▌        | 96/600 [1:27:50<6:59:26, 49.93s/it, v_num=e6_1, total_loss_train=531, kl_local_train=193, metric_mi|age_categorical_train=0.192]"
     ]
    },
    {
     "name": "stdout",
     "output_type": "stream",
     "text": [
      "\r\n",
      "Epoch 97/600:  16%|█▌        | 96/600 [1:27:50<6:59:26, 49.93s/it, v_num=e6_1, total_loss_train=531, kl_local_train=193, metric_mi|age_categorical_train=0.192]"
     ]
    },
    {
     "name": "stdout",
     "output_type": "stream",
     "text": [
      "\r\n",
      "Epoch 97/600:  16%|█▌        | 97/600 [1:28:40<6:58:09, 49.88s/it, v_num=e6_1, total_loss_train=531, kl_local_train=193, metric_mi|age_categorical_train=0.192]"
     ]
    },
    {
     "name": "stdout",
     "output_type": "stream",
     "text": [
      "\r\n",
      "Epoch 97/600:  16%|█▌        | 97/600 [1:28:40<6:58:09, 49.88s/it, v_num=e6_1, total_loss_train=531, kl_local_train=197, metric_mi|age_categorical_train=0.192]"
     ]
    },
    {
     "name": "stdout",
     "output_type": "stream",
     "text": [
      "\r\n",
      "Epoch 98/600:  16%|█▌        | 97/600 [1:28:40<6:58:09, 49.88s/it, v_num=e6_1, total_loss_train=531, kl_local_train=197, metric_mi|age_categorical_train=0.192]"
     ]
    },
    {
     "name": "stdout",
     "output_type": "stream",
     "text": [
      "\r\n",
      "Epoch 98/600:  16%|█▋        | 98/600 [1:29:30<6:57:23, 49.89s/it, v_num=e6_1, total_loss_train=531, kl_local_train=197, metric_mi|age_categorical_train=0.192]"
     ]
    },
    {
     "name": "stdout",
     "output_type": "stream",
     "text": [
      "\r\n",
      "Epoch 98/600:  16%|█▋        | 98/600 [1:29:30<6:57:23, 49.89s/it, v_num=e6_1, total_loss_train=530, kl_local_train=193, metric_mi|age_categorical_train=0.192]"
     ]
    },
    {
     "name": "stdout",
     "output_type": "stream",
     "text": [
      "\r\n",
      "Epoch 99/600:  16%|█▋        | 98/600 [1:29:30<6:57:23, 49.89s/it, v_num=e6_1, total_loss_train=530, kl_local_train=193, metric_mi|age_categorical_train=0.192]"
     ]
    },
    {
     "name": "stdout",
     "output_type": "stream",
     "text": [
      "\r\n",
      "Epoch 99/600:  16%|█▋        | 99/600 [1:30:20<6:57:02, 49.95s/it, v_num=e6_1, total_loss_train=530, kl_local_train=193, metric_mi|age_categorical_train=0.192]"
     ]
    },
    {
     "name": "stdout",
     "output_type": "stream",
     "text": [
      "\r\n",
      "Epoch 99/600:  16%|█▋        | 99/600 [1:30:20<6:57:02, 49.95s/it, v_num=e6_1, total_loss_train=530, kl_local_train=189, metric_mi|age_categorical_train=0.192]"
     ]
    },
    {
     "name": "stdout",
     "output_type": "stream",
     "text": [
      "\r\n",
      "Epoch 100/600:  16%|█▋        | 99/600 [1:30:20<6:57:02, 49.95s/it, v_num=e6_1, total_loss_train=530, kl_local_train=189, metric_mi|age_categorical_train=0.192]"
     ]
    },
    {
     "name": "stdout",
     "output_type": "stream",
     "text": [
      "\r\n",
      "Epoch 100/600:  17%|█▋        | 100/600 [1:31:10<6:56:04, 49.93s/it, v_num=e6_1, total_loss_train=530, kl_local_train=189, metric_mi|age_categorical_train=0.192]"
     ]
    },
    {
     "name": "stdout",
     "output_type": "stream",
     "text": [
      "\r\n",
      "Epoch 100/600:  17%|█▋        | 100/600 [1:31:10<6:56:04, 49.93s/it, v_num=e6_1, total_loss_train=530, kl_local_train=188, metric_mi|age_categorical_train=0.192]"
     ]
    },
    {
     "name": "stdout",
     "output_type": "stream",
     "text": [
      "\r\n",
      "Epoch 101/600:  17%|█▋        | 100/600 [1:31:11<6:56:04, 49.93s/it, v_num=e6_1, total_loss_train=530, kl_local_train=188, metric_mi|age_categorical_train=0.192]"
     ]
    },
    {
     "name": "stdout",
     "output_type": "stream",
     "text": [
      "\r\n",
      "Epoch 101/600:  17%|█▋        | 101/600 [1:32:00<6:56:58, 50.14s/it, v_num=e6_1, total_loss_train=530, kl_local_train=188, metric_mi|age_categorical_train=0.192]"
     ]
    },
    {
     "name": "stdout",
     "output_type": "stream",
     "text": [
      "\r\n",
      "Epoch 101/600:  17%|█▋        | 101/600 [1:32:00<6:56:58, 50.14s/it, v_num=e6_1, total_loss_train=529, kl_local_train=182, metric_mi|age_categorical_train=0.197]"
     ]
    },
    {
     "name": "stdout",
     "output_type": "stream",
     "text": [
      "\r\n",
      "Epoch 102/600:  17%|█▋        | 101/600 [1:32:00<6:56:58, 50.14s/it, v_num=e6_1, total_loss_train=529, kl_local_train=182, metric_mi|age_categorical_train=0.197]"
     ]
    },
    {
     "name": "stdout",
     "output_type": "stream",
     "text": [
      "\r\n",
      "Epoch 102/600:  17%|█▋        | 102/600 [1:32:51<6:56:31, 50.18s/it, v_num=e6_1, total_loss_train=529, kl_local_train=182, metric_mi|age_categorical_train=0.197]"
     ]
    },
    {
     "name": "stdout",
     "output_type": "stream",
     "text": [
      "\r\n",
      "Epoch 102/600:  17%|█▋        | 102/600 [1:32:51<6:56:31, 50.18s/it, v_num=e6_1, total_loss_train=529, kl_local_train=181, metric_mi|age_categorical_train=0.197]"
     ]
    },
    {
     "name": "stdout",
     "output_type": "stream",
     "text": [
      "\r\n",
      "Epoch 103/600:  17%|█▋        | 102/600 [1:32:51<6:56:31, 50.18s/it, v_num=e6_1, total_loss_train=529, kl_local_train=181, metric_mi|age_categorical_train=0.197]"
     ]
    },
    {
     "name": "stdout",
     "output_type": "stream",
     "text": [
      "\r\n",
      "Epoch 103/600:  17%|█▋        | 103/600 [1:33:41<6:56:58, 50.34s/it, v_num=e6_1, total_loss_train=529, kl_local_train=181, metric_mi|age_categorical_train=0.197]"
     ]
    },
    {
     "name": "stdout",
     "output_type": "stream",
     "text": [
      "\r\n",
      "Epoch 103/600:  17%|█▋        | 103/600 [1:33:41<6:56:58, 50.34s/it, v_num=e6_1, total_loss_train=529, kl_local_train=185, metric_mi|age_categorical_train=0.197]"
     ]
    },
    {
     "name": "stdout",
     "output_type": "stream",
     "text": [
      "\r\n",
      "Epoch 104/600:  17%|█▋        | 103/600 [1:33:41<6:56:58, 50.34s/it, v_num=e6_1, total_loss_train=529, kl_local_train=185, metric_mi|age_categorical_train=0.197]"
     ]
    },
    {
     "name": "stdout",
     "output_type": "stream",
     "text": [
      "\r\n",
      "Epoch 104/600:  17%|█▋        | 104/600 [1:34:32<6:56:06, 50.33s/it, v_num=e6_1, total_loss_train=529, kl_local_train=185, metric_mi|age_categorical_train=0.197]"
     ]
    },
    {
     "name": "stdout",
     "output_type": "stream",
     "text": [
      "\r\n",
      "Epoch 104/600:  17%|█▋        | 104/600 [1:34:32<6:56:06, 50.33s/it, v_num=e6_1, total_loss_train=530, kl_local_train=183, metric_mi|age_categorical_train=0.197]"
     ]
    },
    {
     "name": "stdout",
     "output_type": "stream",
     "text": [
      "\r\n",
      "Epoch 105/600:  17%|█▋        | 104/600 [1:34:32<6:56:06, 50.33s/it, v_num=e6_1, total_loss_train=530, kl_local_train=183, metric_mi|age_categorical_train=0.197]"
     ]
    },
    {
     "name": "stdout",
     "output_type": "stream",
     "text": [
      "\r\n",
      "Epoch 105/600:  18%|█▊        | 105/600 [1:35:24<6:59:02, 50.79s/it, v_num=e6_1, total_loss_train=530, kl_local_train=183, metric_mi|age_categorical_train=0.197]"
     ]
    },
    {
     "name": "stdout",
     "output_type": "stream",
     "text": [
      "\r\n",
      "Epoch 105/600:  18%|█▊        | 105/600 [1:35:24<6:59:02, 50.79s/it, v_num=e6_1, total_loss_train=530, kl_local_train=184, metric_mi|age_categorical_train=0.197]"
     ]
    },
    {
     "name": "stdout",
     "output_type": "stream",
     "text": [
      "\r\n",
      "Epoch 106/600:  18%|█▊        | 105/600 [1:35:24<6:59:02, 50.79s/it, v_num=e6_1, total_loss_train=530, kl_local_train=184, metric_mi|age_categorical_train=0.197]"
     ]
    },
    {
     "name": "stdout",
     "output_type": "stream",
     "text": [
      "\r\n",
      "Epoch 106/600:  18%|█▊        | 106/600 [1:36:26<7:26:29, 54.23s/it, v_num=e6_1, total_loss_train=530, kl_local_train=184, metric_mi|age_categorical_train=0.197]"
     ]
    },
    {
     "name": "stdout",
     "output_type": "stream",
     "text": [
      "\r\n",
      "Epoch 106/600:  18%|█▊        | 106/600 [1:36:26<7:26:29, 54.23s/it, v_num=e6_1, total_loss_train=529, kl_local_train=183, metric_mi|age_categorical_train=0.202]"
     ]
    },
    {
     "name": "stdout",
     "output_type": "stream",
     "text": [
      "\r\n",
      "Epoch 107/600:  18%|█▊        | 106/600 [1:36:26<7:26:29, 54.23s/it, v_num=e6_1, total_loss_train=529, kl_local_train=183, metric_mi|age_categorical_train=0.202]"
     ]
    },
    {
     "name": "stdout",
     "output_type": "stream",
     "text": [
      "\r\n",
      "Epoch 107/600:  18%|█▊        | 107/600 [1:37:32<7:54:14, 57.72s/it, v_num=e6_1, total_loss_train=529, kl_local_train=183, metric_mi|age_categorical_train=0.202]"
     ]
    },
    {
     "name": "stdout",
     "output_type": "stream",
     "text": [
      "\r\n",
      "Epoch 107/600:  18%|█▊        | 107/600 [1:37:32<7:54:14, 57.72s/it, v_num=e6_1, total_loss_train=528, kl_local_train=181, metric_mi|age_categorical_train=0.202]"
     ]
    },
    {
     "name": "stdout",
     "output_type": "stream",
     "text": [
      "\r\n",
      "Epoch 108/600:  18%|█▊        | 107/600 [1:37:32<7:54:14, 57.72s/it, v_num=e6_1, total_loss_train=528, kl_local_train=181, metric_mi|age_categorical_train=0.202]"
     ]
    },
    {
     "name": "stdout",
     "output_type": "stream",
     "text": [
      "\r\n",
      "Epoch 108/600:  18%|█▊        | 108/600 [1:38:34<8:05:02, 59.15s/it, v_num=e6_1, total_loss_train=528, kl_local_train=181, metric_mi|age_categorical_train=0.202]"
     ]
    },
    {
     "name": "stdout",
     "output_type": "stream",
     "text": [
      "\r\n",
      "Epoch 108/600:  18%|█▊        | 108/600 [1:38:34<8:05:02, 59.15s/it, v_num=e6_1, total_loss_train=528, kl_local_train=176, metric_mi|age_categorical_train=0.202]"
     ]
    },
    {
     "name": "stdout",
     "output_type": "stream",
     "text": [
      "\r\n",
      "Epoch 109/600:  18%|█▊        | 108/600 [1:38:34<8:05:02, 59.15s/it, v_num=e6_1, total_loss_train=528, kl_local_train=176, metric_mi|age_categorical_train=0.202]"
     ]
    },
    {
     "name": "stdout",
     "output_type": "stream",
     "text": [
      "\r\n",
      "Epoch 109/600:  18%|█▊        | 109/600 [1:39:41<8:23:33, 61.53s/it, v_num=e6_1, total_loss_train=528, kl_local_train=176, metric_mi|age_categorical_train=0.202]"
     ]
    },
    {
     "name": "stdout",
     "output_type": "stream",
     "text": [
      "\r\n",
      "Epoch 109/600:  18%|█▊        | 109/600 [1:39:41<8:23:33, 61.53s/it, v_num=e6_1, total_loss_train=528, kl_local_train=178, metric_mi|age_categorical_train=0.202]"
     ]
    },
    {
     "name": "stdout",
     "output_type": "stream",
     "text": [
      "\r\n",
      "Epoch 110/600:  18%|█▊        | 109/600 [1:39:41<8:23:33, 61.53s/it, v_num=e6_1, total_loss_train=528, kl_local_train=178, metric_mi|age_categorical_train=0.202]"
     ]
    },
    {
     "name": "stdout",
     "output_type": "stream",
     "text": [
      "\r\n",
      "Epoch 110/600:  18%|█▊        | 110/600 [1:40:49<8:38:13, 63.46s/it, v_num=e6_1, total_loss_train=528, kl_local_train=178, metric_mi|age_categorical_train=0.202]"
     ]
    },
    {
     "name": "stdout",
     "output_type": "stream",
     "text": [
      "\r\n",
      "Epoch 110/600:  18%|█▊        | 110/600 [1:40:49<8:38:13, 63.46s/it, v_num=e6_1, total_loss_train=528, kl_local_train=177, metric_mi|age_categorical_train=0.202]"
     ]
    },
    {
     "name": "stdout",
     "output_type": "stream",
     "text": [
      "\r\n",
      "Epoch 111/600:  18%|█▊        | 110/600 [1:40:50<8:38:13, 63.46s/it, v_num=e6_1, total_loss_train=528, kl_local_train=177, metric_mi|age_categorical_train=0.202]"
     ]
    },
    {
     "name": "stdout",
     "output_type": "stream",
     "text": [
      "\r\n",
      "Epoch 111/600:  18%|█▊        | 111/600 [1:41:57<8:47:58, 64.78s/it, v_num=e6_1, total_loss_train=528, kl_local_train=177, metric_mi|age_categorical_train=0.202]"
     ]
    },
    {
     "name": "stdout",
     "output_type": "stream",
     "text": [
      "\r\n",
      "Epoch 111/600:  18%|█▊        | 111/600 [1:41:57<8:47:58, 64.78s/it, v_num=e6_1, total_loss_train=528, kl_local_train=176, metric_mi|age_categorical_train=0.201]"
     ]
    },
    {
     "name": "stdout",
     "output_type": "stream",
     "text": [
      "\r\n",
      "Epoch 112/600:  18%|█▊        | 111/600 [1:41:57<8:47:58, 64.78s/it, v_num=e6_1, total_loss_train=528, kl_local_train=176, metric_mi|age_categorical_train=0.201]"
     ]
    },
    {
     "name": "stdout",
     "output_type": "stream",
     "text": [
      "\r\n",
      "Epoch 112/600:  19%|█▊        | 112/600 [1:43:02<8:47:42, 64.88s/it, v_num=e6_1, total_loss_train=528, kl_local_train=176, metric_mi|age_categorical_train=0.201]"
     ]
    },
    {
     "name": "stdout",
     "output_type": "stream",
     "text": [
      "\r\n",
      "Epoch 112/600:  19%|█▊        | 112/600 [1:43:02<8:47:42, 64.88s/it, v_num=e6_1, total_loss_train=528, kl_local_train=177, metric_mi|age_categorical_train=0.201]"
     ]
    },
    {
     "name": "stdout",
     "output_type": "stream",
     "text": [
      "\r\n",
      "Epoch 113/600:  19%|█▊        | 112/600 [1:43:02<8:47:42, 64.88s/it, v_num=e6_1, total_loss_train=528, kl_local_train=177, metric_mi|age_categorical_train=0.201]"
     ]
    },
    {
     "name": "stdout",
     "output_type": "stream",
     "text": [
      "\r\n",
      "Epoch 113/600:  19%|█▉        | 113/600 [1:44:06<8:45:17, 64.72s/it, v_num=e6_1, total_loss_train=528, kl_local_train=177, metric_mi|age_categorical_train=0.201]"
     ]
    },
    {
     "name": "stdout",
     "output_type": "stream",
     "text": [
      "\r\n",
      "Epoch 113/600:  19%|█▉        | 113/600 [1:44:06<8:45:17, 64.72s/it, v_num=e6_1, total_loss_train=528, kl_local_train=173, metric_mi|age_categorical_train=0.201]"
     ]
    },
    {
     "name": "stdout",
     "output_type": "stream",
     "text": [
      "\r\n",
      "Epoch 114/600:  19%|█▉        | 113/600 [1:44:06<8:45:17, 64.72s/it, v_num=e6_1, total_loss_train=528, kl_local_train=173, metric_mi|age_categorical_train=0.201]"
     ]
    },
    {
     "name": "stdout",
     "output_type": "stream",
     "text": [
      "\r\n",
      "Epoch 114/600:  19%|█▉        | 114/600 [1:45:11<8:43:59, 64.69s/it, v_num=e6_1, total_loss_train=528, kl_local_train=173, metric_mi|age_categorical_train=0.201]"
     ]
    },
    {
     "name": "stdout",
     "output_type": "stream",
     "text": [
      "\r\n",
      "Epoch 114/600:  19%|█▉        | 114/600 [1:45:11<8:43:59, 64.69s/it, v_num=e6_1, total_loss_train=528, kl_local_train=171, metric_mi|age_categorical_train=0.201]"
     ]
    },
    {
     "name": "stdout",
     "output_type": "stream",
     "text": [
      "\r\n",
      "Epoch 115/600:  19%|█▉        | 114/600 [1:45:11<8:43:59, 64.69s/it, v_num=e6_1, total_loss_train=528, kl_local_train=171, metric_mi|age_categorical_train=0.201]"
     ]
    },
    {
     "name": "stdout",
     "output_type": "stream",
     "text": [
      "\r\n",
      "Epoch 115/600:  19%|█▉        | 115/600 [1:46:16<8:43:36, 64.78s/it, v_num=e6_1, total_loss_train=528, kl_local_train=171, metric_mi|age_categorical_train=0.201]"
     ]
    },
    {
     "name": "stdout",
     "output_type": "stream",
     "text": [
      "\r\n",
      "Epoch 115/600:  19%|█▉        | 115/600 [1:46:16<8:43:36, 64.78s/it, v_num=e6_1, total_loss_train=527, kl_local_train=172, metric_mi|age_categorical_train=0.201]"
     ]
    },
    {
     "name": "stdout",
     "output_type": "stream",
     "text": [
      "\r\n",
      "Epoch 116/600:  19%|█▉        | 115/600 [1:46:17<8:43:36, 64.78s/it, v_num=e6_1, total_loss_train=527, kl_local_train=172, metric_mi|age_categorical_train=0.201]"
     ]
    },
    {
     "name": "stdout",
     "output_type": "stream",
     "text": [
      "\r\n",
      "Epoch 116/600:  19%|█▉        | 116/600 [1:47:20<8:40:45, 64.56s/it, v_num=e6_1, total_loss_train=527, kl_local_train=172, metric_mi|age_categorical_train=0.201]"
     ]
    },
    {
     "name": "stdout",
     "output_type": "stream",
     "text": [
      "\r\n",
      "Epoch 116/600:  19%|█▉        | 116/600 [1:47:20<8:40:45, 64.56s/it, v_num=e6_1, total_loss_train=527, kl_local_train=173, metric_mi|age_categorical_train=0.203]"
     ]
    },
    {
     "name": "stdout",
     "output_type": "stream",
     "text": [
      "\r\n",
      "Epoch 117/600:  19%|█▉        | 116/600 [1:47:20<8:40:45, 64.56s/it, v_num=e6_1, total_loss_train=527, kl_local_train=173, metric_mi|age_categorical_train=0.203]"
     ]
    },
    {
     "name": "stdout",
     "output_type": "stream",
     "text": [
      "\r\n",
      "Epoch 117/600:  20%|█▉        | 117/600 [1:48:25<8:39:33, 64.54s/it, v_num=e6_1, total_loss_train=527, kl_local_train=173, metric_mi|age_categorical_train=0.203]"
     ]
    },
    {
     "name": "stdout",
     "output_type": "stream",
     "text": [
      "\r\n",
      "Epoch 117/600:  20%|█▉        | 117/600 [1:48:25<8:39:33, 64.54s/it, v_num=e6_1, total_loss_train=527, kl_local_train=175, metric_mi|age_categorical_train=0.203]"
     ]
    },
    {
     "name": "stdout",
     "output_type": "stream",
     "text": [
      "\r\n",
      "Epoch 118/600:  20%|█▉        | 117/600 [1:48:25<8:39:33, 64.54s/it, v_num=e6_1, total_loss_train=527, kl_local_train=175, metric_mi|age_categorical_train=0.203]"
     ]
    },
    {
     "name": "stdout",
     "output_type": "stream",
     "text": [
      "\r\n",
      "Epoch 118/600:  20%|█▉        | 118/600 [1:49:29<8:39:02, 64.61s/it, v_num=e6_1, total_loss_train=527, kl_local_train=175, metric_mi|age_categorical_train=0.203]"
     ]
    },
    {
     "name": "stdout",
     "output_type": "stream",
     "text": [
      "\r\n",
      "Epoch 118/600:  20%|█▉        | 118/600 [1:49:29<8:39:02, 64.61s/it, v_num=e6_1, total_loss_train=526, kl_local_train=171, metric_mi|age_categorical_train=0.203]"
     ]
    },
    {
     "name": "stdout",
     "output_type": "stream",
     "text": [
      "\r\n",
      "Epoch 119/600:  20%|█▉        | 118/600 [1:49:29<8:39:02, 64.61s/it, v_num=e6_1, total_loss_train=526, kl_local_train=171, metric_mi|age_categorical_train=0.203]"
     ]
    },
    {
     "name": "stdout",
     "output_type": "stream",
     "text": [
      "\r\n",
      "Epoch 119/600:  20%|█▉        | 119/600 [1:50:34<8:38:36, 64.69s/it, v_num=e6_1, total_loss_train=526, kl_local_train=171, metric_mi|age_categorical_train=0.203]"
     ]
    },
    {
     "name": "stdout",
     "output_type": "stream",
     "text": [
      "\r\n",
      "Epoch 119/600:  20%|█▉        | 119/600 [1:50:34<8:38:36, 64.69s/it, v_num=e6_1, total_loss_train=526, kl_local_train=170, metric_mi|age_categorical_train=0.203]"
     ]
    },
    {
     "name": "stdout",
     "output_type": "stream",
     "text": [
      "\r\n",
      "Epoch 120/600:  20%|█▉        | 119/600 [1:50:34<8:38:36, 64.69s/it, v_num=e6_1, total_loss_train=526, kl_local_train=170, metric_mi|age_categorical_train=0.203]"
     ]
    },
    {
     "name": "stdout",
     "output_type": "stream",
     "text": [
      "\r\n",
      "Epoch 120/600:  20%|██        | 120/600 [1:51:41<8:41:50, 65.23s/it, v_num=e6_1, total_loss_train=526, kl_local_train=170, metric_mi|age_categorical_train=0.203]"
     ]
    },
    {
     "name": "stdout",
     "output_type": "stream",
     "text": [
      "\r\n",
      "Epoch 120/600:  20%|██        | 120/600 [1:51:41<8:41:50, 65.23s/it, v_num=e6_1, total_loss_train=526, kl_local_train=169, metric_mi|age_categorical_train=0.203]"
     ]
    },
    {
     "name": "stdout",
     "output_type": "stream",
     "text": [
      "\r\n",
      "Epoch 121/600:  20%|██        | 120/600 [1:51:42<8:41:50, 65.23s/it, v_num=e6_1, total_loss_train=526, kl_local_train=169, metric_mi|age_categorical_train=0.203]"
     ]
    },
    {
     "name": "stdout",
     "output_type": "stream",
     "text": [
      "\r\n",
      "Epoch 121/600:  20%|██        | 121/600 [1:52:47<8:43:51, 65.62s/it, v_num=e6_1, total_loss_train=526, kl_local_train=169, metric_mi|age_categorical_train=0.203]"
     ]
    },
    {
     "name": "stdout",
     "output_type": "stream",
     "text": [
      "\r\n",
      "Epoch 121/600:  20%|██        | 121/600 [1:52:47<8:43:51, 65.62s/it, v_num=e6_1, total_loss_train=526, kl_local_train=168, metric_mi|age_categorical_train=0.21] "
     ]
    },
    {
     "name": "stdout",
     "output_type": "stream",
     "text": [
      "\r\n",
      "Epoch 122/600:  20%|██        | 121/600 [1:52:47<8:43:51, 65.62s/it, v_num=e6_1, total_loss_train=526, kl_local_train=168, metric_mi|age_categorical_train=0.21]"
     ]
    },
    {
     "name": "stdout",
     "output_type": "stream",
     "text": [
      "\r\n",
      "Epoch 122/600:  20%|██        | 122/600 [1:53:50<8:36:00, 64.77s/it, v_num=e6_1, total_loss_train=526, kl_local_train=168, metric_mi|age_categorical_train=0.21]"
     ]
    },
    {
     "name": "stdout",
     "output_type": "stream",
     "text": [
      "\r\n",
      "Epoch 122/600:  20%|██        | 122/600 [1:53:50<8:36:00, 64.77s/it, v_num=e6_1, total_loss_train=526, kl_local_train=166, metric_mi|age_categorical_train=0.21]"
     ]
    },
    {
     "name": "stdout",
     "output_type": "stream",
     "text": [
      "\r\n",
      "Epoch 123/600:  20%|██        | 122/600 [1:53:50<8:36:00, 64.77s/it, v_num=e6_1, total_loss_train=526, kl_local_train=166, metric_mi|age_categorical_train=0.21]"
     ]
    },
    {
     "name": "stdout",
     "output_type": "stream",
     "text": [
      "\r\n",
      "Epoch 123/600:  20%|██        | 123/600 [1:54:53<8:29:42, 64.11s/it, v_num=e6_1, total_loss_train=526, kl_local_train=166, metric_mi|age_categorical_train=0.21]"
     ]
    },
    {
     "name": "stdout",
     "output_type": "stream",
     "text": [
      "\r\n",
      "Epoch 123/600:  20%|██        | 123/600 [1:54:53<8:29:42, 64.11s/it, v_num=e6_1, total_loss_train=526, kl_local_train=168, metric_mi|age_categorical_train=0.21]"
     ]
    },
    {
     "name": "stdout",
     "output_type": "stream",
     "text": [
      "\r\n",
      "Epoch 124/600:  20%|██        | 123/600 [1:54:53<8:29:42, 64.11s/it, v_num=e6_1, total_loss_train=526, kl_local_train=168, metric_mi|age_categorical_train=0.21]"
     ]
    },
    {
     "name": "stdout",
     "output_type": "stream",
     "text": [
      "\r\n",
      "Epoch 124/600:  21%|██        | 124/600 [1:55:55<8:23:35, 63.48s/it, v_num=e6_1, total_loss_train=526, kl_local_train=168, metric_mi|age_categorical_train=0.21]"
     ]
    },
    {
     "name": "stdout",
     "output_type": "stream",
     "text": [
      "\r\n",
      "Epoch 124/600:  21%|██        | 124/600 [1:55:55<8:23:35, 63.48s/it, v_num=e6_1, total_loss_train=526, kl_local_train=165, metric_mi|age_categorical_train=0.21]"
     ]
    },
    {
     "name": "stdout",
     "output_type": "stream",
     "text": [
      "\r\n",
      "Epoch 125/600:  21%|██        | 124/600 [1:55:55<8:23:35, 63.48s/it, v_num=e6_1, total_loss_train=526, kl_local_train=165, metric_mi|age_categorical_train=0.21]"
     ]
    },
    {
     "name": "stdout",
     "output_type": "stream",
     "text": [
      "\r\n",
      "Epoch 125/600:  21%|██        | 125/600 [1:56:58<8:22:41, 63.50s/it, v_num=e6_1, total_loss_train=526, kl_local_train=165, metric_mi|age_categorical_train=0.21]"
     ]
    },
    {
     "name": "stdout",
     "output_type": "stream",
     "text": [
      "\r\n",
      "Epoch 125/600:  21%|██        | 125/600 [1:56:58<8:22:41, 63.50s/it, v_num=e6_1, total_loss_train=526, kl_local_train=165, metric_mi|age_categorical_train=0.21]"
     ]
    },
    {
     "name": "stdout",
     "output_type": "stream",
     "text": [
      "\r\n",
      "Epoch 126/600:  21%|██        | 125/600 [1:56:59<8:22:41, 63.50s/it, v_num=e6_1, total_loss_train=526, kl_local_train=165, metric_mi|age_categorical_train=0.21]"
     ]
    },
    {
     "name": "stdout",
     "output_type": "stream",
     "text": [
      "\r\n",
      "Epoch 126/600:  21%|██        | 126/600 [1:58:03<8:24:11, 63.82s/it, v_num=e6_1, total_loss_train=526, kl_local_train=165, metric_mi|age_categorical_train=0.21]"
     ]
    },
    {
     "name": "stdout",
     "output_type": "stream",
     "text": [
      "\r\n",
      "Epoch 126/600:  21%|██        | 126/600 [1:58:03<8:24:11, 63.82s/it, v_num=e6_1, total_loss_train=526, kl_local_train=164, metric_mi|age_categorical_train=0.209]"
     ]
    },
    {
     "name": "stdout",
     "output_type": "stream",
     "text": [
      "\r\n",
      "Epoch 127/600:  21%|██        | 126/600 [1:58:03<8:24:11, 63.82s/it, v_num=e6_1, total_loss_train=526, kl_local_train=164, metric_mi|age_categorical_train=0.209]"
     ]
    },
    {
     "name": "stdout",
     "output_type": "stream",
     "text": [
      "\r\n",
      "Epoch 127/600:  21%|██        | 127/600 [1:59:09<8:29:00, 64.57s/it, v_num=e6_1, total_loss_train=526, kl_local_train=164, metric_mi|age_categorical_train=0.209]"
     ]
    },
    {
     "name": "stdout",
     "output_type": "stream",
     "text": [
      "\r\n",
      "Epoch 127/600:  21%|██        | 127/600 [1:59:09<8:29:00, 64.57s/it, v_num=e6_1, total_loss_train=526, kl_local_train=163, metric_mi|age_categorical_train=0.209]"
     ]
    },
    {
     "name": "stdout",
     "output_type": "stream",
     "text": [
      "\r\n",
      "Epoch 128/600:  21%|██        | 127/600 [1:59:09<8:29:00, 64.57s/it, v_num=e6_1, total_loss_train=526, kl_local_train=163, metric_mi|age_categorical_train=0.209]"
     ]
    },
    {
     "name": "stdout",
     "output_type": "stream",
     "text": [
      "\r\n",
      "Epoch 128/600:  21%|██▏       | 128/600 [2:00:11<8:20:33, 63.63s/it, v_num=e6_1, total_loss_train=526, kl_local_train=163, metric_mi|age_categorical_train=0.209]"
     ]
    },
    {
     "name": "stdout",
     "output_type": "stream",
     "text": [
      "\r\n",
      "Epoch 128/600:  21%|██▏       | 128/600 [2:00:11<8:20:33, 63.63s/it, v_num=e6_1, total_loss_train=527, kl_local_train=163, metric_mi|age_categorical_train=0.209]"
     ]
    },
    {
     "name": "stdout",
     "output_type": "stream",
     "text": [
      "\r\n",
      "Epoch 129/600:  21%|██▏       | 128/600 [2:00:11<8:20:33, 63.63s/it, v_num=e6_1, total_loss_train=527, kl_local_train=163, metric_mi|age_categorical_train=0.209]"
     ]
    },
    {
     "name": "stdout",
     "output_type": "stream",
     "text": [
      "\r\n",
      "Epoch 129/600:  22%|██▏       | 129/600 [2:01:06<8:00:04, 61.16s/it, v_num=e6_1, total_loss_train=527, kl_local_train=163, metric_mi|age_categorical_train=0.209]"
     ]
    },
    {
     "name": "stdout",
     "output_type": "stream",
     "text": [
      "\r\n",
      "Epoch 129/600:  22%|██▏       | 129/600 [2:01:06<8:00:04, 61.16s/it, v_num=e6_1, total_loss_train=526, kl_local_train=162, metric_mi|age_categorical_train=0.209]"
     ]
    },
    {
     "name": "stdout",
     "output_type": "stream",
     "text": [
      "\r\n",
      "Epoch 130/600:  22%|██▏       | 129/600 [2:01:06<8:00:04, 61.16s/it, v_num=e6_1, total_loss_train=526, kl_local_train=162, metric_mi|age_categorical_train=0.209]"
     ]
    },
    {
     "name": "stdout",
     "output_type": "stream",
     "text": [
      "\r\n",
      "Epoch 130/600:  22%|██▏       | 130/600 [2:02:03<7:50:09, 60.02s/it, v_num=e6_1, total_loss_train=526, kl_local_train=162, metric_mi|age_categorical_train=0.209]"
     ]
    },
    {
     "name": "stdout",
     "output_type": "stream",
     "text": [
      "\r\n",
      "Epoch 130/600:  22%|██▏       | 130/600 [2:02:03<7:50:09, 60.02s/it, v_num=e6_1, total_loss_train=527, kl_local_train=163, metric_mi|age_categorical_train=0.209]"
     ]
    },
    {
     "name": "stdout",
     "output_type": "stream",
     "text": [
      "\r\n",
      "Epoch 131/600:  22%|██▏       | 130/600 [2:02:04<7:50:09, 60.02s/it, v_num=e6_1, total_loss_train=527, kl_local_train=163, metric_mi|age_categorical_train=0.209]"
     ]
    },
    {
     "name": "stdout",
     "output_type": "stream",
     "text": [
      "\r\n",
      "Epoch 131/600:  22%|██▏       | 131/600 [2:03:07<7:57:21, 61.07s/it, v_num=e6_1, total_loss_train=527, kl_local_train=163, metric_mi|age_categorical_train=0.209]"
     ]
    },
    {
     "name": "stdout",
     "output_type": "stream",
     "text": [
      "\r\n",
      "Epoch 131/600:  22%|██▏       | 131/600 [2:03:07<7:57:21, 61.07s/it, v_num=e6_1, total_loss_train=526, kl_local_train=164, metric_mi|age_categorical_train=0.206]"
     ]
    },
    {
     "name": "stdout",
     "output_type": "stream",
     "text": [
      "\r\n",
      "Epoch 132/600:  22%|██▏       | 131/600 [2:03:07<7:57:21, 61.07s/it, v_num=e6_1, total_loss_train=526, kl_local_train=164, metric_mi|age_categorical_train=0.206]"
     ]
    },
    {
     "name": "stdout",
     "output_type": "stream",
     "text": [
      "\r\n",
      "Epoch 132/600:  22%|██▏       | 132/600 [2:04:09<8:00:04, 61.55s/it, v_num=e6_1, total_loss_train=526, kl_local_train=164, metric_mi|age_categorical_train=0.206]"
     ]
    },
    {
     "name": "stdout",
     "output_type": "stream",
     "text": [
      "\r\n",
      "Epoch 132/600:  22%|██▏       | 132/600 [2:04:09<8:00:04, 61.55s/it, v_num=e6_1, total_loss_train=527, kl_local_train=162, metric_mi|age_categorical_train=0.206]"
     ]
    },
    {
     "name": "stdout",
     "output_type": "stream",
     "text": [
      "\r\n",
      "Epoch 133/600:  22%|██▏       | 132/600 [2:04:09<8:00:04, 61.55s/it, v_num=e6_1, total_loss_train=527, kl_local_train=162, metric_mi|age_categorical_train=0.206]"
     ]
    },
    {
     "name": "stdout",
     "output_type": "stream",
     "text": [
      "\r\n",
      "Epoch 133/600:  22%|██▏       | 133/600 [2:05:17<8:12:08, 63.23s/it, v_num=e6_1, total_loss_train=527, kl_local_train=162, metric_mi|age_categorical_train=0.206]"
     ]
    },
    {
     "name": "stdout",
     "output_type": "stream",
     "text": [
      "\r\n",
      "Epoch 133/600:  22%|██▏       | 133/600 [2:05:17<8:12:08, 63.23s/it, v_num=e6_1, total_loss_train=527, kl_local_train=163, metric_mi|age_categorical_train=0.206]"
     ]
    },
    {
     "name": "stdout",
     "output_type": "stream",
     "text": [
      "\r\n",
      "Epoch 134/600:  22%|██▏       | 133/600 [2:05:17<8:12:08, 63.23s/it, v_num=e6_1, total_loss_train=527, kl_local_train=163, metric_mi|age_categorical_train=0.206]"
     ]
    },
    {
     "name": "stdout",
     "output_type": "stream",
     "text": [
      "\r\n",
      "Epoch 134/600:  22%|██▏       | 134/600 [2:06:21<8:14:55, 63.72s/it, v_num=e6_1, total_loss_train=527, kl_local_train=163, metric_mi|age_categorical_train=0.206]"
     ]
    },
    {
     "name": "stdout",
     "output_type": "stream",
     "text": [
      "\r\n",
      "Epoch 134/600:  22%|██▏       | 134/600 [2:06:22<8:14:55, 63.72s/it, v_num=e6_1, total_loss_train=526, kl_local_train=161, metric_mi|age_categorical_train=0.206]"
     ]
    },
    {
     "name": "stdout",
     "output_type": "stream",
     "text": [
      "\r\n",
      "Epoch 135/600:  22%|██▏       | 134/600 [2:06:22<8:14:55, 63.72s/it, v_num=e6_1, total_loss_train=526, kl_local_train=161, metric_mi|age_categorical_train=0.206]"
     ]
    },
    {
     "name": "stdout",
     "output_type": "stream",
     "text": [
      "\r\n",
      "Epoch 135/600:  22%|██▎       | 135/600 [2:07:27<8:17:09, 64.15s/it, v_num=e6_1, total_loss_train=526, kl_local_train=161, metric_mi|age_categorical_train=0.206]"
     ]
    },
    {
     "name": "stdout",
     "output_type": "stream",
     "text": [
      "\r\n",
      "Epoch 135/600:  22%|██▎       | 135/600 [2:07:27<8:17:09, 64.15s/it, v_num=e6_1, total_loss_train=526, kl_local_train=161, metric_mi|age_categorical_train=0.206]"
     ]
    },
    {
     "name": "stdout",
     "output_type": "stream",
     "text": [
      "\r\n",
      "Epoch 136/600:  22%|██▎       | 135/600 [2:07:28<8:17:09, 64.15s/it, v_num=e6_1, total_loss_train=526, kl_local_train=161, metric_mi|age_categorical_train=0.206]"
     ]
    },
    {
     "name": "stdout",
     "output_type": "stream",
     "text": [
      "\r\n",
      "Epoch 136/600:  23%|██▎       | 136/600 [2:08:26<8:05:55, 62.84s/it, v_num=e6_1, total_loss_train=526, kl_local_train=161, metric_mi|age_categorical_train=0.206]"
     ]
    },
    {
     "name": "stdout",
     "output_type": "stream",
     "text": [
      "\r\n",
      "Epoch 136/600:  23%|██▎       | 136/600 [2:08:26<8:05:55, 62.84s/it, v_num=e6_1, total_loss_train=526, kl_local_train=160, metric_mi|age_categorical_train=0.208]"
     ]
    },
    {
     "name": "stdout",
     "output_type": "stream",
     "text": [
      "\r\n",
      "Epoch 137/600:  23%|██▎       | 136/600 [2:08:26<8:05:55, 62.84s/it, v_num=e6_1, total_loss_train=526, kl_local_train=160, metric_mi|age_categorical_train=0.208]"
     ]
    },
    {
     "name": "stdout",
     "output_type": "stream",
     "text": [
      "\r\n",
      "Epoch 137/600:  23%|██▎       | 137/600 [2:09:24<7:53:21, 61.34s/it, v_num=e6_1, total_loss_train=526, kl_local_train=160, metric_mi|age_categorical_train=0.208]"
     ]
    },
    {
     "name": "stdout",
     "output_type": "stream",
     "text": [
      "\r\n",
      "Epoch 137/600:  23%|██▎       | 137/600 [2:09:24<7:53:21, 61.34s/it, v_num=e6_1, total_loss_train=526, kl_local_train=157, metric_mi|age_categorical_train=0.208]"
     ]
    },
    {
     "name": "stdout",
     "output_type": "stream",
     "text": [
      "\r\n",
      "Epoch 138/600:  23%|██▎       | 137/600 [2:09:24<7:53:21, 61.34s/it, v_num=e6_1, total_loss_train=526, kl_local_train=157, metric_mi|age_categorical_train=0.208]"
     ]
    },
    {
     "name": "stdout",
     "output_type": "stream",
     "text": [
      "\r\n",
      "Epoch 138/600:  23%|██▎       | 138/600 [2:10:25<7:51:36, 61.25s/it, v_num=e6_1, total_loss_train=526, kl_local_train=157, metric_mi|age_categorical_train=0.208]"
     ]
    },
    {
     "name": "stdout",
     "output_type": "stream",
     "text": [
      "\r\n",
      "Epoch 138/600:  23%|██▎       | 138/600 [2:10:25<7:51:36, 61.25s/it, v_num=e6_1, total_loss_train=526, kl_local_train=158, metric_mi|age_categorical_train=0.208]"
     ]
    },
    {
     "name": "stdout",
     "output_type": "stream",
     "text": [
      "\r\n",
      "Epoch 139/600:  23%|██▎       | 138/600 [2:10:25<7:51:36, 61.25s/it, v_num=e6_1, total_loss_train=526, kl_local_train=158, metric_mi|age_categorical_train=0.208]"
     ]
    },
    {
     "name": "stdout",
     "output_type": "stream",
     "text": [
      "\r\n",
      "Epoch 139/600:  23%|██▎       | 139/600 [2:11:28<7:53:52, 61.68s/it, v_num=e6_1, total_loss_train=526, kl_local_train=158, metric_mi|age_categorical_train=0.208]"
     ]
    },
    {
     "name": "stdout",
     "output_type": "stream",
     "text": [
      "\r\n",
      "Epoch 139/600:  23%|██▎       | 139/600 [2:11:28<7:53:52, 61.68s/it, v_num=e6_1, total_loss_train=527, kl_local_train=156, metric_mi|age_categorical_train=0.208]"
     ]
    },
    {
     "name": "stdout",
     "output_type": "stream",
     "text": [
      "\r\n",
      "Epoch 140/600:  23%|██▎       | 139/600 [2:11:28<7:53:52, 61.68s/it, v_num=e6_1, total_loss_train=527, kl_local_train=156, metric_mi|age_categorical_train=0.208]"
     ]
    },
    {
     "name": "stdout",
     "output_type": "stream",
     "text": [
      "\r\n",
      "Epoch 140/600:  23%|██▎       | 140/600 [2:12:30<7:52:36, 61.64s/it, v_num=e6_1, total_loss_train=527, kl_local_train=156, metric_mi|age_categorical_train=0.208]"
     ]
    },
    {
     "name": "stdout",
     "output_type": "stream",
     "text": [
      "\r\n",
      "Epoch 140/600:  23%|██▎       | 140/600 [2:12:30<7:52:36, 61.64s/it, v_num=e6_1, total_loss_train=526, kl_local_train=156, metric_mi|age_categorical_train=0.208]"
     ]
    },
    {
     "name": "stdout",
     "output_type": "stream",
     "text": [
      "\r\n",
      "Epoch 141/600:  23%|██▎       | 140/600 [2:12:30<7:52:36, 61.64s/it, v_num=e6_1, total_loss_train=526, kl_local_train=156, metric_mi|age_categorical_train=0.208]"
     ]
    },
    {
     "name": "stdout",
     "output_type": "stream",
     "text": [
      "\r\n",
      "Epoch 141/600:  24%|██▎       | 141/600 [2:13:27<7:41:44, 60.36s/it, v_num=e6_1, total_loss_train=526, kl_local_train=156, metric_mi|age_categorical_train=0.208]"
     ]
    },
    {
     "name": "stdout",
     "output_type": "stream",
     "text": [
      "\r\n",
      "Epoch 141/600:  24%|██▎       | 141/600 [2:13:27<7:41:44, 60.36s/it, v_num=e6_1, total_loss_train=526, kl_local_train=155, metric_mi|age_categorical_train=0.209]"
     ]
    },
    {
     "name": "stdout",
     "output_type": "stream",
     "text": [
      "\r\n",
      "Epoch 142/600:  24%|██▎       | 141/600 [2:13:27<7:41:44, 60.36s/it, v_num=e6_1, total_loss_train=526, kl_local_train=155, metric_mi|age_categorical_train=0.209]"
     ]
    },
    {
     "name": "stdout",
     "output_type": "stream",
     "text": [
      "\r\n",
      "Epoch 142/600:  24%|██▎       | 142/600 [2:14:23<7:30:49, 59.06s/it, v_num=e6_1, total_loss_train=526, kl_local_train=155, metric_mi|age_categorical_train=0.209]"
     ]
    },
    {
     "name": "stdout",
     "output_type": "stream",
     "text": [
      "\r\n",
      "Epoch 142/600:  24%|██▎       | 142/600 [2:14:23<7:30:49, 59.06s/it, v_num=e6_1, total_loss_train=527, kl_local_train=155, metric_mi|age_categorical_train=0.209]"
     ]
    },
    {
     "name": "stdout",
     "output_type": "stream",
     "text": [
      "\r\n",
      "Epoch 143/600:  24%|██▎       | 142/600 [2:14:23<7:30:49, 59.06s/it, v_num=e6_1, total_loss_train=527, kl_local_train=155, metric_mi|age_categorical_train=0.209]"
     ]
    },
    {
     "name": "stdout",
     "output_type": "stream",
     "text": [
      "\r\n",
      "Epoch 143/600:  24%|██▍       | 143/600 [2:15:19<7:22:48, 58.14s/it, v_num=e6_1, total_loss_train=527, kl_local_train=155, metric_mi|age_categorical_train=0.209]"
     ]
    },
    {
     "name": "stdout",
     "output_type": "stream",
     "text": [
      "\r\n",
      "Epoch 143/600:  24%|██▍       | 143/600 [2:15:19<7:22:48, 58.14s/it, v_num=e6_1, total_loss_train=527, kl_local_train=154, metric_mi|age_categorical_train=0.209]"
     ]
    },
    {
     "name": "stdout",
     "output_type": "stream",
     "text": [
      "\r\n",
      "Epoch 144/600:  24%|██▍       | 143/600 [2:15:19<7:22:48, 58.14s/it, v_num=e6_1, total_loss_train=527, kl_local_train=154, metric_mi|age_categorical_train=0.209]"
     ]
    },
    {
     "name": "stdout",
     "output_type": "stream",
     "text": [
      "\r\n",
      "Epoch 144/600:  24%|██▍       | 144/600 [2:16:15<7:16:06, 57.38s/it, v_num=e6_1, total_loss_train=527, kl_local_train=154, metric_mi|age_categorical_train=0.209]"
     ]
    },
    {
     "name": "stdout",
     "output_type": "stream",
     "text": [
      "\r\n",
      "Epoch 144/600:  24%|██▍       | 144/600 [2:16:15<7:16:06, 57.38s/it, v_num=e6_1, total_loss_train=527, kl_local_train=154, metric_mi|age_categorical_train=0.209]"
     ]
    },
    {
     "name": "stdout",
     "output_type": "stream",
     "text": [
      "\r\n",
      "Epoch 145/600:  24%|██▍       | 144/600 [2:16:15<7:16:06, 57.38s/it, v_num=e6_1, total_loss_train=527, kl_local_train=154, metric_mi|age_categorical_train=0.209]"
     ]
    },
    {
     "name": "stdout",
     "output_type": "stream",
     "text": [
      "\r\n",
      "Epoch 145/600:  24%|██▍       | 145/600 [2:17:16<7:24:44, 58.65s/it, v_num=e6_1, total_loss_train=527, kl_local_train=154, metric_mi|age_categorical_train=0.209]"
     ]
    },
    {
     "name": "stdout",
     "output_type": "stream",
     "text": [
      "\r\n",
      "Epoch 145/600:  24%|██▍       | 145/600 [2:17:16<7:24:44, 58.65s/it, v_num=e6_1, total_loss_train=526, kl_local_train=154, metric_mi|age_categorical_train=0.209]"
     ]
    },
    {
     "name": "stdout",
     "output_type": "stream",
     "text": [
      "\r\n",
      "Epoch 146/600:  24%|██▍       | 145/600 [2:17:17<7:24:44, 58.65s/it, v_num=e6_1, total_loss_train=526, kl_local_train=154, metric_mi|age_categorical_train=0.209]"
     ]
    },
    {
     "name": "stdout",
     "output_type": "stream",
     "text": [
      "\r\n",
      "Epoch 146/600:  24%|██▍       | 146/600 [2:18:19<7:34:18, 60.04s/it, v_num=e6_1, total_loss_train=526, kl_local_train=154, metric_mi|age_categorical_train=0.209]"
     ]
    },
    {
     "name": "stdout",
     "output_type": "stream",
     "text": [
      "\r\n",
      "Epoch 146/600:  24%|██▍       | 146/600 [2:18:19<7:34:18, 60.04s/it, v_num=e6_1, total_loss_train=527, kl_local_train=152, metric_mi|age_categorical_train=0.208]"
     ]
    },
    {
     "name": "stdout",
     "output_type": "stream",
     "text": [
      "\r\n",
      "Epoch 147/600:  24%|██▍       | 146/600 [2:18:19<7:34:18, 60.04s/it, v_num=e6_1, total_loss_train=527, kl_local_train=152, metric_mi|age_categorical_train=0.208]"
     ]
    },
    {
     "name": "stdout",
     "output_type": "stream",
     "text": [
      "\r\n",
      "Epoch 147/600:  24%|██▍       | 147/600 [2:19:22<7:38:59, 60.79s/it, v_num=e6_1, total_loss_train=527, kl_local_train=152, metric_mi|age_categorical_train=0.208]"
     ]
    },
    {
     "name": "stdout",
     "output_type": "stream",
     "text": [
      "\r\n",
      "Epoch 147/600:  24%|██▍       | 147/600 [2:19:22<7:38:59, 60.79s/it, v_num=e6_1, total_loss_train=526, kl_local_train=152, metric_mi|age_categorical_train=0.208]"
     ]
    },
    {
     "name": "stdout",
     "output_type": "stream",
     "text": [
      "\r\n",
      "Epoch 148/600:  24%|██▍       | 147/600 [2:19:22<7:38:59, 60.79s/it, v_num=e6_1, total_loss_train=526, kl_local_train=152, metric_mi|age_categorical_train=0.208]"
     ]
    },
    {
     "name": "stdout",
     "output_type": "stream",
     "text": [
      "\r\n",
      "Epoch 148/600:  25%|██▍       | 148/600 [2:20:24<7:41:34, 61.27s/it, v_num=e6_1, total_loss_train=526, kl_local_train=152, metric_mi|age_categorical_train=0.208]"
     ]
    },
    {
     "name": "stdout",
     "output_type": "stream",
     "text": [
      "\r\n",
      "Epoch 148/600:  25%|██▍       | 148/600 [2:20:24<7:41:34, 61.27s/it, v_num=e6_1, total_loss_train=527, kl_local_train=150, metric_mi|age_categorical_train=0.208]"
     ]
    },
    {
     "name": "stdout",
     "output_type": "stream",
     "text": [
      "\r\n",
      "Epoch 149/600:  25%|██▍       | 148/600 [2:20:24<7:41:34, 61.27s/it, v_num=e6_1, total_loss_train=527, kl_local_train=150, metric_mi|age_categorical_train=0.208]"
     ]
    },
    {
     "name": "stdout",
     "output_type": "stream",
     "text": [
      "\r\n",
      "Epoch 149/600:  25%|██▍       | 149/600 [2:21:28<7:45:07, 61.88s/it, v_num=e6_1, total_loss_train=527, kl_local_train=150, metric_mi|age_categorical_train=0.208]"
     ]
    },
    {
     "name": "stdout",
     "output_type": "stream",
     "text": [
      "\r\n",
      "Epoch 149/600:  25%|██▍       | 149/600 [2:21:28<7:45:07, 61.88s/it, v_num=e6_1, total_loss_train=527, kl_local_train=151, metric_mi|age_categorical_train=0.208]"
     ]
    },
    {
     "name": "stdout",
     "output_type": "stream",
     "text": [
      "\r\n",
      "Epoch 150/600:  25%|██▍       | 149/600 [2:21:28<7:45:07, 61.88s/it, v_num=e6_1, total_loss_train=527, kl_local_train=151, metric_mi|age_categorical_train=0.208]"
     ]
    },
    {
     "name": "stdout",
     "output_type": "stream",
     "text": [
      "\r\n",
      "Epoch 150/600:  25%|██▌       | 150/600 [2:22:32<7:48:42, 62.49s/it, v_num=e6_1, total_loss_train=527, kl_local_train=151, metric_mi|age_categorical_train=0.208]"
     ]
    },
    {
     "name": "stdout",
     "output_type": "stream",
     "text": [
      "\r\n",
      "Epoch 150/600:  25%|██▌       | 150/600 [2:22:32<7:48:42, 62.49s/it, v_num=e6_1, total_loss_train=527, kl_local_train=153, metric_mi|age_categorical_train=0.208]"
     ]
    },
    {
     "name": "stdout",
     "output_type": "stream",
     "text": [
      "\r\n",
      "Epoch 151/600:  25%|██▌       | 150/600 [2:22:33<7:48:42, 62.49s/it, v_num=e6_1, total_loss_train=527, kl_local_train=153, metric_mi|age_categorical_train=0.208]"
     ]
    },
    {
     "name": "stdout",
     "output_type": "stream",
     "text": [
      "\r\n",
      "Epoch 151/600:  25%|██▌       | 151/600 [2:23:36<7:51:33, 63.01s/it, v_num=e6_1, total_loss_train=527, kl_local_train=153, metric_mi|age_categorical_train=0.208]"
     ]
    },
    {
     "name": "stdout",
     "output_type": "stream",
     "text": [
      "\r\n",
      "Epoch 151/600:  25%|██▌       | 151/600 [2:23:36<7:51:33, 63.01s/it, v_num=e6_1, total_loss_train=528, kl_local_train=154, metric_mi|age_categorical_train=0.209]"
     ]
    },
    {
     "name": "stdout",
     "output_type": "stream",
     "text": [
      "\r\n",
      "Epoch 152/600:  25%|██▌       | 151/600 [2:23:36<7:51:33, 63.01s/it, v_num=e6_1, total_loss_train=528, kl_local_train=154, metric_mi|age_categorical_train=0.209]"
     ]
    },
    {
     "name": "stdout",
     "output_type": "stream",
     "text": [
      "\r\n",
      "Epoch 152/600:  25%|██▌       | 152/600 [2:24:38<7:48:20, 62.72s/it, v_num=e6_1, total_loss_train=528, kl_local_train=154, metric_mi|age_categorical_train=0.209]"
     ]
    },
    {
     "name": "stdout",
     "output_type": "stream",
     "text": [
      "\r\n",
      "Epoch 152/600:  25%|██▌       | 152/600 [2:24:38<7:48:20, 62.72s/it, v_num=e6_1, total_loss_train=527, kl_local_train=152, metric_mi|age_categorical_train=0.209]"
     ]
    },
    {
     "name": "stdout",
     "output_type": "stream",
     "text": [
      "\r\n",
      "Epoch 153/600:  25%|██▌       | 152/600 [2:24:38<7:48:20, 62.72s/it, v_num=e6_1, total_loss_train=527, kl_local_train=152, metric_mi|age_categorical_train=0.209]"
     ]
    },
    {
     "name": "stdout",
     "output_type": "stream",
     "text": [
      "\r\n",
      "Epoch 153/600:  26%|██▌       | 153/600 [2:25:37<7:38:14, 61.51s/it, v_num=e6_1, total_loss_train=527, kl_local_train=152, metric_mi|age_categorical_train=0.209]"
     ]
    },
    {
     "name": "stdout",
     "output_type": "stream",
     "text": [
      "\r\n",
      "Epoch 153/600:  26%|██▌       | 153/600 [2:25:37<7:38:14, 61.51s/it, v_num=e6_1, total_loss_train=527, kl_local_train=152, metric_mi|age_categorical_train=0.209]"
     ]
    },
    {
     "name": "stdout",
     "output_type": "stream",
     "text": [
      "\r\n",
      "Epoch 154/600:  26%|██▌       | 153/600 [2:25:37<7:38:14, 61.51s/it, v_num=e6_1, total_loss_train=527, kl_local_train=152, metric_mi|age_categorical_train=0.209]"
     ]
    },
    {
     "name": "stdout",
     "output_type": "stream",
     "text": [
      "\r\n",
      "Epoch 154/600:  26%|██▌       | 154/600 [2:26:32<7:24:15, 59.77s/it, v_num=e6_1, total_loss_train=527, kl_local_train=152, metric_mi|age_categorical_train=0.209]"
     ]
    },
    {
     "name": "stdout",
     "output_type": "stream",
     "text": [
      "\r\n",
      "Epoch 154/600:  26%|██▌       | 154/600 [2:26:32<7:24:15, 59.77s/it, v_num=e6_1, total_loss_train=527, kl_local_train=149, metric_mi|age_categorical_train=0.209]"
     ]
    },
    {
     "name": "stdout",
     "output_type": "stream",
     "text": [
      "\r\n",
      "Epoch 155/600:  26%|██▌       | 154/600 [2:26:32<7:24:15, 59.77s/it, v_num=e6_1, total_loss_train=527, kl_local_train=149, metric_mi|age_categorical_train=0.209]"
     ]
    },
    {
     "name": "stdout",
     "output_type": "stream",
     "text": [
      "\r\n",
      "Epoch 155/600:  26%|██▌       | 155/600 [2:27:34<7:27:40, 60.36s/it, v_num=e6_1, total_loss_train=527, kl_local_train=149, metric_mi|age_categorical_train=0.209]"
     ]
    },
    {
     "name": "stdout",
     "output_type": "stream",
     "text": [
      "\r\n",
      "Epoch 155/600:  26%|██▌       | 155/600 [2:27:34<7:27:40, 60.36s/it, v_num=e6_1, total_loss_train=527, kl_local_train=149, metric_mi|age_categorical_train=0.209]"
     ]
    },
    {
     "name": "stdout",
     "output_type": "stream",
     "text": [
      "\r\n",
      "Epoch 156/600:  26%|██▌       | 155/600 [2:27:35<7:27:40, 60.36s/it, v_num=e6_1, total_loss_train=527, kl_local_train=149, metric_mi|age_categorical_train=0.209]"
     ]
    },
    {
     "name": "stdout",
     "output_type": "stream",
     "text": [
      "\r\n",
      "Epoch 156/600:  26%|██▌       | 156/600 [2:28:39<7:36:43, 61.72s/it, v_num=e6_1, total_loss_train=527, kl_local_train=149, metric_mi|age_categorical_train=0.209]"
     ]
    },
    {
     "name": "stdout",
     "output_type": "stream",
     "text": [
      "\r\n",
      "Epoch 156/600:  26%|██▌       | 156/600 [2:28:39<7:36:43, 61.72s/it, v_num=e6_1, total_loss_train=528, kl_local_train=149, metric_mi|age_categorical_train=0.21] "
     ]
    },
    {
     "name": "stdout",
     "output_type": "stream",
     "text": [
      "\r\n",
      "Epoch 157/600:  26%|██▌       | 156/600 [2:28:39<7:36:43, 61.72s/it, v_num=e6_1, total_loss_train=528, kl_local_train=149, metric_mi|age_categorical_train=0.21]"
     ]
    },
    {
     "name": "stdout",
     "output_type": "stream",
     "text": [
      "\r\n",
      "Epoch 157/600:  26%|██▌       | 157/600 [2:29:45<7:46:11, 63.14s/it, v_num=e6_1, total_loss_train=528, kl_local_train=149, metric_mi|age_categorical_train=0.21]"
     ]
    },
    {
     "name": "stdout",
     "output_type": "stream",
     "text": [
      "\r\n",
      "Epoch 157/600:  26%|██▌       | 157/600 [2:29:45<7:46:11, 63.14s/it, v_num=e6_1, total_loss_train=527, kl_local_train=148, metric_mi|age_categorical_train=0.21]"
     ]
    },
    {
     "name": "stdout",
     "output_type": "stream",
     "text": [
      "\r\n",
      "Epoch 158/600:  26%|██▌       | 157/600 [2:29:45<7:46:11, 63.14s/it, v_num=e6_1, total_loss_train=527, kl_local_train=148, metric_mi|age_categorical_train=0.21]"
     ]
    },
    {
     "name": "stdout",
     "output_type": "stream",
     "text": [
      "\r\n",
      "Epoch 158/600:  26%|██▋       | 158/600 [2:30:50<7:48:28, 63.59s/it, v_num=e6_1, total_loss_train=527, kl_local_train=148, metric_mi|age_categorical_train=0.21]"
     ]
    },
    {
     "name": "stdout",
     "output_type": "stream",
     "text": [
      "\r\n",
      "Epoch 158/600:  26%|██▋       | 158/600 [2:30:50<7:48:28, 63.59s/it, v_num=e6_1, total_loss_train=527, kl_local_train=147, metric_mi|age_categorical_train=0.21]"
     ]
    },
    {
     "name": "stdout",
     "output_type": "stream",
     "text": [
      "\r\n",
      "Epoch 159/600:  26%|██▋       | 158/600 [2:30:50<7:48:28, 63.59s/it, v_num=e6_1, total_loss_train=527, kl_local_train=147, metric_mi|age_categorical_train=0.21]"
     ]
    },
    {
     "name": "stdout",
     "output_type": "stream",
     "text": [
      "\r\n",
      "Epoch 159/600:  26%|██▋       | 159/600 [2:31:52<7:44:27, 63.19s/it, v_num=e6_1, total_loss_train=527, kl_local_train=147, metric_mi|age_categorical_train=0.21]"
     ]
    },
    {
     "name": "stdout",
     "output_type": "stream",
     "text": [
      "\r\n",
      "Epoch 159/600:  26%|██▋       | 159/600 [2:31:52<7:44:27, 63.19s/it, v_num=e6_1, total_loss_train=528, kl_local_train=146, metric_mi|age_categorical_train=0.21]"
     ]
    },
    {
     "name": "stdout",
     "output_type": "stream",
     "text": [
      "\r\n",
      "Epoch 160/600:  26%|██▋       | 159/600 [2:31:52<7:44:27, 63.19s/it, v_num=e6_1, total_loss_train=528, kl_local_train=146, metric_mi|age_categorical_train=0.21]"
     ]
    },
    {
     "name": "stdout",
     "output_type": "stream",
     "text": [
      "\r\n",
      "Epoch 160/600:  27%|██▋       | 160/600 [2:32:55<7:43:27, 63.20s/it, v_num=e6_1, total_loss_train=528, kl_local_train=146, metric_mi|age_categorical_train=0.21]"
     ]
    },
    {
     "name": "stdout",
     "output_type": "stream",
     "text": [
      "\r\n",
      "Epoch 160/600:  27%|██▋       | 160/600 [2:32:55<7:43:27, 63.20s/it, v_num=e6_1, total_loss_train=527, kl_local_train=145, metric_mi|age_categorical_train=0.21]"
     ]
    },
    {
     "name": "stdout",
     "output_type": "stream",
     "text": [
      "\r\n",
      "Epoch 161/600:  27%|██▋       | 160/600 [2:32:56<7:43:27, 63.20s/it, v_num=e6_1, total_loss_train=527, kl_local_train=145, metric_mi|age_categorical_train=0.21]"
     ]
    },
    {
     "name": "stdout",
     "output_type": "stream",
     "text": [
      "\r\n",
      "Epoch 161/600:  27%|██▋       | 161/600 [2:33:58<7:40:11, 62.90s/it, v_num=e6_1, total_loss_train=527, kl_local_train=145, metric_mi|age_categorical_train=0.21]"
     ]
    },
    {
     "name": "stdout",
     "output_type": "stream",
     "text": [
      "\r\n",
      "Epoch 161/600:  27%|██▋       | 161/600 [2:33:58<7:40:11, 62.90s/it, v_num=e6_1, total_loss_train=527, kl_local_train=146, metric_mi|age_categorical_train=0.21]"
     ]
    },
    {
     "name": "stdout",
     "output_type": "stream",
     "text": [
      "\r\n",
      "Epoch 162/600:  27%|██▋       | 161/600 [2:33:58<7:40:11, 62.90s/it, v_num=e6_1, total_loss_train=527, kl_local_train=146, metric_mi|age_categorical_train=0.21]"
     ]
    },
    {
     "name": "stdout",
     "output_type": "stream",
     "text": [
      "\r\n",
      "Epoch 162/600:  27%|██▋       | 162/600 [2:34:59<7:35:25, 62.39s/it, v_num=e6_1, total_loss_train=527, kl_local_train=146, metric_mi|age_categorical_train=0.21]"
     ]
    },
    {
     "name": "stdout",
     "output_type": "stream",
     "text": [
      "\r\n",
      "Epoch 162/600:  27%|██▋       | 162/600 [2:34:59<7:35:25, 62.39s/it, v_num=e6_1, total_loss_train=528, kl_local_train=146, metric_mi|age_categorical_train=0.21]"
     ]
    },
    {
     "name": "stdout",
     "output_type": "stream",
     "text": [
      "\r\n",
      "Epoch 163/600:  27%|██▋       | 162/600 [2:34:59<7:35:25, 62.39s/it, v_num=e6_1, total_loss_train=528, kl_local_train=146, metric_mi|age_categorical_train=0.21]"
     ]
    },
    {
     "name": "stdout",
     "output_type": "stream",
     "text": [
      "\r\n",
      "Epoch 163/600:  27%|██▋       | 163/600 [2:36:00<7:32:46, 62.17s/it, v_num=e6_1, total_loss_train=528, kl_local_train=146, metric_mi|age_categorical_train=0.21]"
     ]
    },
    {
     "name": "stdout",
     "output_type": "stream",
     "text": [
      "\r\n",
      "Epoch 163/600:  27%|██▋       | 163/600 [2:36:00<7:32:46, 62.17s/it, v_num=e6_1, total_loss_train=528, kl_local_train=145, metric_mi|age_categorical_train=0.21]"
     ]
    },
    {
     "name": "stdout",
     "output_type": "stream",
     "text": [
      "\r\n",
      "Epoch 164/600:  27%|██▋       | 163/600 [2:36:00<7:32:46, 62.17s/it, v_num=e6_1, total_loss_train=528, kl_local_train=145, metric_mi|age_categorical_train=0.21]"
     ]
    },
    {
     "name": "stdout",
     "output_type": "stream",
     "text": [
      "\r\n",
      "Epoch 164/600:  27%|██▋       | 164/600 [2:37:02<7:30:15, 61.96s/it, v_num=e6_1, total_loss_train=528, kl_local_train=145, metric_mi|age_categorical_train=0.21]"
     ]
    },
    {
     "name": "stdout",
     "output_type": "stream",
     "text": [
      "\r\n",
      "Epoch 164/600:  27%|██▋       | 164/600 [2:37:02<7:30:15, 61.96s/it, v_num=e6_1, total_loss_train=528, kl_local_train=145, metric_mi|age_categorical_train=0.21]"
     ]
    },
    {
     "name": "stdout",
     "output_type": "stream",
     "text": [
      "\r\n",
      "Epoch 165/600:  27%|██▋       | 164/600 [2:37:02<7:30:15, 61.96s/it, v_num=e6_1, total_loss_train=528, kl_local_train=145, metric_mi|age_categorical_train=0.21]"
     ]
    },
    {
     "name": "stdout",
     "output_type": "stream",
     "text": [
      "\r\n",
      "Epoch 165/600:  28%|██▊       | 165/600 [2:38:06<7:32:53, 62.47s/it, v_num=e6_1, total_loss_train=528, kl_local_train=145, metric_mi|age_categorical_train=0.21]"
     ]
    },
    {
     "name": "stdout",
     "output_type": "stream",
     "text": [
      "\r\n",
      "Epoch 165/600:  28%|██▊       | 165/600 [2:38:06<7:32:53, 62.47s/it, v_num=e6_1, total_loss_train=528, kl_local_train=145, metric_mi|age_categorical_train=0.21]"
     ]
    },
    {
     "name": "stdout",
     "output_type": "stream",
     "text": [
      "\r\n",
      "Epoch 166/600:  28%|██▊       | 165/600 [2:38:06<7:32:53, 62.47s/it, v_num=e6_1, total_loss_train=528, kl_local_train=145, metric_mi|age_categorical_train=0.21]"
     ]
    },
    {
     "name": "stdout",
     "output_type": "stream",
     "text": [
      "\r\n",
      "Epoch 166/600:  28%|██▊       | 166/600 [2:39:09<7:34:31, 62.84s/it, v_num=e6_1, total_loss_train=528, kl_local_train=145, metric_mi|age_categorical_train=0.21]"
     ]
    },
    {
     "name": "stdout",
     "output_type": "stream",
     "text": [
      "\r\n",
      "Epoch 166/600:  28%|██▊       | 166/600 [2:39:09<7:34:31, 62.84s/it, v_num=e6_1, total_loss_train=528, kl_local_train=144, metric_mi|age_categorical_train=0.21]"
     ]
    },
    {
     "name": "stdout",
     "output_type": "stream",
     "text": [
      "\r\n",
      "Epoch 167/600:  28%|██▊       | 166/600 [2:39:09<7:34:31, 62.84s/it, v_num=e6_1, total_loss_train=528, kl_local_train=144, metric_mi|age_categorical_train=0.21]"
     ]
    },
    {
     "name": "stdout",
     "output_type": "stream",
     "text": [
      "\r\n",
      "Epoch 167/600:  28%|██▊       | 167/600 [2:40:11<7:31:15, 62.53s/it, v_num=e6_1, total_loss_train=528, kl_local_train=144, metric_mi|age_categorical_train=0.21]"
     ]
    },
    {
     "name": "stdout",
     "output_type": "stream",
     "text": [
      "\r\n",
      "Epoch 167/600:  28%|██▊       | 167/600 [2:40:11<7:31:15, 62.53s/it, v_num=e6_1, total_loss_train=528, kl_local_train=143, metric_mi|age_categorical_train=0.21]"
     ]
    },
    {
     "name": "stdout",
     "output_type": "stream",
     "text": [
      "\r\n",
      "Epoch 168/600:  28%|██▊       | 167/600 [2:40:11<7:31:15, 62.53s/it, v_num=e6_1, total_loss_train=528, kl_local_train=143, metric_mi|age_categorical_train=0.21]"
     ]
    },
    {
     "name": "stdout",
     "output_type": "stream",
     "text": [
      "\r\n",
      "Epoch 168/600:  28%|██▊       | 168/600 [2:41:13<7:29:15, 62.40s/it, v_num=e6_1, total_loss_train=528, kl_local_train=143, metric_mi|age_categorical_train=0.21]"
     ]
    },
    {
     "name": "stdout",
     "output_type": "stream",
     "text": [
      "\r\n",
      "Epoch 168/600:  28%|██▊       | 168/600 [2:41:13<7:29:15, 62.40s/it, v_num=e6_1, total_loss_train=528, kl_local_train=143, metric_mi|age_categorical_train=0.21]"
     ]
    },
    {
     "name": "stdout",
     "output_type": "stream",
     "text": [
      "\r\n",
      "Epoch 169/600:  28%|██▊       | 168/600 [2:41:13<7:29:15, 62.40s/it, v_num=e6_1, total_loss_train=528, kl_local_train=143, metric_mi|age_categorical_train=0.21]"
     ]
    },
    {
     "name": "stdout",
     "output_type": "stream",
     "text": [
      "\r\n",
      "Epoch 169/600:  28%|██▊       | 169/600 [2:42:13<7:22:40, 61.62s/it, v_num=e6_1, total_loss_train=528, kl_local_train=143, metric_mi|age_categorical_train=0.21]"
     ]
    },
    {
     "name": "stdout",
     "output_type": "stream",
     "text": [
      "\r\n",
      "Epoch 169/600:  28%|██▊       | 169/600 [2:42:13<7:22:40, 61.62s/it, v_num=e6_1, total_loss_train=528, kl_local_train=141, metric_mi|age_categorical_train=0.21]"
     ]
    },
    {
     "name": "stdout",
     "output_type": "stream",
     "text": [
      "\r\n",
      "Epoch 170/600:  28%|██▊       | 169/600 [2:42:13<7:22:40, 61.62s/it, v_num=e6_1, total_loss_train=528, kl_local_train=141, metric_mi|age_categorical_train=0.21]"
     ]
    },
    {
     "name": "stdout",
     "output_type": "stream",
     "text": [
      "\r\n",
      "Epoch 170/600:  28%|██▊       | 170/600 [2:43:17<7:27:14, 62.41s/it, v_num=e6_1, total_loss_train=528, kl_local_train=141, metric_mi|age_categorical_train=0.21]"
     ]
    },
    {
     "name": "stdout",
     "output_type": "stream",
     "text": [
      "\r\n",
      "Epoch 170/600:  28%|██▊       | 170/600 [2:43:17<7:27:14, 62.41s/it, v_num=e6_1, total_loss_train=528, kl_local_train=139, metric_mi|age_categorical_train=0.21]"
     ]
    },
    {
     "name": "stdout",
     "output_type": "stream",
     "text": [
      "\r\n",
      "Epoch 171/600:  28%|██▊       | 170/600 [2:43:18<7:27:14, 62.41s/it, v_num=e6_1, total_loss_train=528, kl_local_train=139, metric_mi|age_categorical_train=0.21]"
     ]
    },
    {
     "name": "stdout",
     "output_type": "stream",
     "text": [
      "\r\n",
      "Epoch 171/600:  28%|██▊       | 171/600 [2:44:22<7:31:05, 63.09s/it, v_num=e6_1, total_loss_train=528, kl_local_train=139, metric_mi|age_categorical_train=0.21]"
     ]
    },
    {
     "name": "stdout",
     "output_type": "stream",
     "text": [
      "\r\n",
      "Epoch 171/600:  28%|██▊       | 171/600 [2:44:22<7:31:05, 63.09s/it, v_num=e6_1, total_loss_train=528, kl_local_train=138, metric_mi|age_categorical_train=0.21]"
     ]
    },
    {
     "name": "stdout",
     "output_type": "stream",
     "text": [
      "\r\n",
      "Epoch 172/600:  28%|██▊       | 171/600 [2:44:22<7:31:05, 63.09s/it, v_num=e6_1, total_loss_train=528, kl_local_train=138, metric_mi|age_categorical_train=0.21]"
     ]
    },
    {
     "name": "stdout",
     "output_type": "stream",
     "text": [
      "\r\n",
      "Epoch 172/600:  29%|██▊       | 172/600 [2:45:26<7:31:01, 63.23s/it, v_num=e6_1, total_loss_train=528, kl_local_train=138, metric_mi|age_categorical_train=0.21]"
     ]
    },
    {
     "name": "stdout",
     "output_type": "stream",
     "text": [
      "\r\n",
      "Epoch 172/600:  29%|██▊       | 172/600 [2:45:26<7:31:01, 63.23s/it, v_num=e6_1, total_loss_train=528, kl_local_train=140, metric_mi|age_categorical_train=0.21]"
     ]
    },
    {
     "name": "stdout",
     "output_type": "stream",
     "text": [
      "\r\n",
      "Epoch 173/600:  29%|██▊       | 172/600 [2:45:26<7:31:01, 63.23s/it, v_num=e6_1, total_loss_train=528, kl_local_train=140, metric_mi|age_categorical_train=0.21]"
     ]
    },
    {
     "name": "stdout",
     "output_type": "stream",
     "text": [
      "\r\n",
      "Epoch 173/600:  29%|██▉       | 173/600 [2:46:29<7:30:45, 63.34s/it, v_num=e6_1, total_loss_train=528, kl_local_train=140, metric_mi|age_categorical_train=0.21]"
     ]
    },
    {
     "name": "stdout",
     "output_type": "stream",
     "text": [
      "\r\n",
      "Epoch 173/600:  29%|██▉       | 173/600 [2:46:29<7:30:45, 63.34s/it, v_num=e6_1, total_loss_train=528, kl_local_train=139, metric_mi|age_categorical_train=0.21]"
     ]
    },
    {
     "name": "stdout",
     "output_type": "stream",
     "text": [
      "\r\n",
      "Epoch 174/600:  29%|██▉       | 173/600 [2:46:29<7:30:45, 63.34s/it, v_num=e6_1, total_loss_train=528, kl_local_train=139, metric_mi|age_categorical_train=0.21]"
     ]
    },
    {
     "name": "stdout",
     "output_type": "stream",
     "text": [
      "\r\n",
      "Epoch 174/600:  29%|██▉       | 174/600 [2:47:33<7:31:10, 63.55s/it, v_num=e6_1, total_loss_train=528, kl_local_train=139, metric_mi|age_categorical_train=0.21]"
     ]
    },
    {
     "name": "stdout",
     "output_type": "stream",
     "text": [
      "\r\n",
      "Epoch 174/600:  29%|██▉       | 174/600 [2:47:33<7:31:10, 63.55s/it, v_num=e6_1, total_loss_train=528, kl_local_train=140, metric_mi|age_categorical_train=0.21]"
     ]
    },
    {
     "name": "stdout",
     "output_type": "stream",
     "text": [
      "\r\n",
      "Epoch 175/600:  29%|██▉       | 174/600 [2:47:33<7:31:10, 63.55s/it, v_num=e6_1, total_loss_train=528, kl_local_train=140, metric_mi|age_categorical_train=0.21]"
     ]
    },
    {
     "name": "stdout",
     "output_type": "stream",
     "text": [
      "\r\n",
      "Epoch 175/600:  29%|██▉       | 175/600 [2:48:37<7:30:37, 63.62s/it, v_num=e6_1, total_loss_train=528, kl_local_train=140, metric_mi|age_categorical_train=0.21]"
     ]
    },
    {
     "name": "stdout",
     "output_type": "stream",
     "text": [
      "\r\n",
      "Epoch 175/600:  29%|██▉       | 175/600 [2:48:37<7:30:37, 63.62s/it, v_num=e6_1, total_loss_train=529, kl_local_train=140, metric_mi|age_categorical_train=0.21]"
     ]
    },
    {
     "name": "stdout",
     "output_type": "stream",
     "text": [
      "\r\n",
      "Epoch 176/600:  29%|██▉       | 175/600 [2:48:38<7:30:37, 63.62s/it, v_num=e6_1, total_loss_train=529, kl_local_train=140, metric_mi|age_categorical_train=0.21]"
     ]
    },
    {
     "name": "stdout",
     "output_type": "stream",
     "text": [
      "\r\n",
      "Epoch 176/600:  29%|██▉       | 176/600 [2:49:41<7:30:28, 63.75s/it, v_num=e6_1, total_loss_train=529, kl_local_train=140, metric_mi|age_categorical_train=0.21]"
     ]
    },
    {
     "name": "stdout",
     "output_type": "stream",
     "text": [
      "\r\n",
      "Epoch 176/600:  29%|██▉       | 176/600 [2:49:41<7:30:28, 63.75s/it, v_num=e6_1, total_loss_train=529, kl_local_train=139, metric_mi|age_categorical_train=0.209]"
     ]
    },
    {
     "name": "stdout",
     "output_type": "stream",
     "text": [
      "\r\n",
      "Epoch 177/600:  29%|██▉       | 176/600 [2:49:41<7:30:28, 63.75s/it, v_num=e6_1, total_loss_train=529, kl_local_train=139, metric_mi|age_categorical_train=0.209]"
     ]
    },
    {
     "name": "stdout",
     "output_type": "stream",
     "text": [
      "\r\n",
      "Epoch 177/600:  30%|██▉       | 177/600 [2:50:40<7:19:29, 62.34s/it, v_num=e6_1, total_loss_train=529, kl_local_train=139, metric_mi|age_categorical_train=0.209]"
     ]
    },
    {
     "name": "stdout",
     "output_type": "stream",
     "text": [
      "\r\n",
      "Epoch 177/600:  30%|██▉       | 177/600 [2:50:40<7:19:29, 62.34s/it, v_num=e6_1, total_loss_train=529, kl_local_train=140, metric_mi|age_categorical_train=0.209]"
     ]
    },
    {
     "name": "stdout",
     "output_type": "stream",
     "text": [
      "\r\n",
      "Epoch 178/600:  30%|██▉       | 177/600 [2:50:40<7:19:29, 62.34s/it, v_num=e6_1, total_loss_train=529, kl_local_train=140, metric_mi|age_categorical_train=0.209]"
     ]
    },
    {
     "name": "stdout",
     "output_type": "stream",
     "text": [
      "\r\n",
      "Epoch 178/600:  30%|██▉       | 178/600 [2:51:35<7:03:48, 60.26s/it, v_num=e6_1, total_loss_train=529, kl_local_train=140, metric_mi|age_categorical_train=0.209]"
     ]
    },
    {
     "name": "stdout",
     "output_type": "stream",
     "text": [
      "\r\n",
      "Epoch 178/600:  30%|██▉       | 178/600 [2:51:35<7:03:48, 60.26s/it, v_num=e6_1, total_loss_train=529, kl_local_train=138, metric_mi|age_categorical_train=0.209]"
     ]
    },
    {
     "name": "stdout",
     "output_type": "stream",
     "text": [
      "\r\n",
      "Epoch 179/600:  30%|██▉       | 178/600 [2:51:35<7:03:48, 60.26s/it, v_num=e6_1, total_loss_train=529, kl_local_train=138, metric_mi|age_categorical_train=0.209]"
     ]
    },
    {
     "name": "stdout",
     "output_type": "stream",
     "text": [
      "\r\n",
      "Epoch 179/600:  30%|██▉       | 179/600 [2:52:33<6:56:33, 59.37s/it, v_num=e6_1, total_loss_train=529, kl_local_train=138, metric_mi|age_categorical_train=0.209]"
     ]
    },
    {
     "name": "stdout",
     "output_type": "stream",
     "text": [
      "\r\n",
      "Epoch 179/600:  30%|██▉       | 179/600 [2:52:33<6:56:33, 59.37s/it, v_num=e6_1, total_loss_train=529, kl_local_train=137, metric_mi|age_categorical_train=0.209]"
     ]
    },
    {
     "name": "stdout",
     "output_type": "stream",
     "text": [
      "\r\n",
      "Epoch 180/600:  30%|██▉       | 179/600 [2:52:33<6:56:33, 59.37s/it, v_num=e6_1, total_loss_train=529, kl_local_train=137, metric_mi|age_categorical_train=0.209]"
     ]
    },
    {
     "name": "stdout",
     "output_type": "stream",
     "text": [
      "\r\n",
      "Epoch 180/600:  30%|███       | 180/600 [2:53:36<7:03:31, 60.50s/it, v_num=e6_1, total_loss_train=529, kl_local_train=137, metric_mi|age_categorical_train=0.209]"
     ]
    },
    {
     "name": "stdout",
     "output_type": "stream",
     "text": [
      "\r\n",
      "Epoch 180/600:  30%|███       | 180/600 [2:53:36<7:03:31, 60.50s/it, v_num=e6_1, total_loss_train=529, kl_local_train=136, metric_mi|age_categorical_train=0.209]"
     ]
    },
    {
     "name": "stdout",
     "output_type": "stream",
     "text": [
      "\r\n",
      "Epoch 181/600:  30%|███       | 180/600 [2:53:37<7:03:31, 60.50s/it, v_num=e6_1, total_loss_train=529, kl_local_train=136, metric_mi|age_categorical_train=0.209]"
     ]
    },
    {
     "name": "stdout",
     "output_type": "stream",
     "text": [
      "\r\n",
      "Epoch 181/600:  30%|███       | 181/600 [2:54:40<7:09:35, 61.52s/it, v_num=e6_1, total_loss_train=529, kl_local_train=136, metric_mi|age_categorical_train=0.209]"
     ]
    },
    {
     "name": "stdout",
     "output_type": "stream",
     "text": [
      "\r\n",
      "Epoch 181/600:  30%|███       | 181/600 [2:54:40<7:09:35, 61.52s/it, v_num=e6_1, total_loss_train=528, kl_local_train=137, metric_mi|age_categorical_train=0.21] "
     ]
    },
    {
     "name": "stdout",
     "output_type": "stream",
     "text": [
      "\r\n",
      "Epoch 182/600:  30%|███       | 181/600 [2:54:40<7:09:35, 61.52s/it, v_num=e6_1, total_loss_train=528, kl_local_train=137, metric_mi|age_categorical_train=0.21]"
     ]
    },
    {
     "name": "stdout",
     "output_type": "stream",
     "text": [
      "\r\n",
      "Epoch 182/600:  30%|███       | 182/600 [2:55:38<7:02:03, 60.58s/it, v_num=e6_1, total_loss_train=528, kl_local_train=137, metric_mi|age_categorical_train=0.21]"
     ]
    },
    {
     "name": "stdout",
     "output_type": "stream",
     "text": [
      "\r\n",
      "Epoch 182/600:  30%|███       | 182/600 [2:55:38<7:02:03, 60.58s/it, v_num=e6_1, total_loss_train=529, kl_local_train=137, metric_mi|age_categorical_train=0.21]"
     ]
    },
    {
     "name": "stdout",
     "output_type": "stream",
     "text": [
      "\r\n",
      "Epoch 183/600:  30%|███       | 182/600 [2:55:38<7:02:03, 60.58s/it, v_num=e6_1, total_loss_train=529, kl_local_train=137, metric_mi|age_categorical_train=0.21]"
     ]
    },
    {
     "name": "stdout",
     "output_type": "stream",
     "text": [
      "\r\n",
      "Epoch 183/600:  30%|███       | 183/600 [2:56:35<6:53:20, 59.47s/it, v_num=e6_1, total_loss_train=529, kl_local_train=137, metric_mi|age_categorical_train=0.21]"
     ]
    },
    {
     "name": "stdout",
     "output_type": "stream",
     "text": [
      "\r\n",
      "Epoch 183/600:  30%|███       | 183/600 [2:56:35<6:53:20, 59.47s/it, v_num=e6_1, total_loss_train=529, kl_local_train=136, metric_mi|age_categorical_train=0.21]"
     ]
    },
    {
     "name": "stdout",
     "output_type": "stream",
     "text": [
      "\r\n",
      "Epoch 184/600:  30%|███       | 183/600 [2:56:35<6:53:20, 59.47s/it, v_num=e6_1, total_loss_train=529, kl_local_train=136, metric_mi|age_categorical_train=0.21]"
     ]
    },
    {
     "name": "stdout",
     "output_type": "stream",
     "text": [
      "\r\n",
      "Epoch 184/600:  31%|███       | 184/600 [2:57:37<6:58:00, 60.29s/it, v_num=e6_1, total_loss_train=529, kl_local_train=136, metric_mi|age_categorical_train=0.21]"
     ]
    },
    {
     "name": "stdout",
     "output_type": "stream",
     "text": [
      "\r\n",
      "Epoch 184/600:  31%|███       | 184/600 [2:57:37<6:58:00, 60.29s/it, v_num=e6_1, total_loss_train=529, kl_local_train=136, metric_mi|age_categorical_train=0.21]"
     ]
    },
    {
     "name": "stdout",
     "output_type": "stream",
     "text": [
      "\r\n",
      "Epoch 185/600:  31%|███       | 184/600 [2:57:37<6:58:00, 60.29s/it, v_num=e6_1, total_loss_train=529, kl_local_train=136, metric_mi|age_categorical_train=0.21]"
     ]
    },
    {
     "name": "stdout",
     "output_type": "stream",
     "text": [
      "\r\n",
      "Epoch 185/600:  31%|███       | 185/600 [2:58:42<7:06:41, 61.69s/it, v_num=e6_1, total_loss_train=529, kl_local_train=136, metric_mi|age_categorical_train=0.21]"
     ]
    },
    {
     "name": "stdout",
     "output_type": "stream",
     "text": [
      "\r\n",
      "Epoch 185/600:  31%|███       | 185/600 [2:58:42<7:06:41, 61.69s/it, v_num=e6_1, total_loss_train=529, kl_local_train=135, metric_mi|age_categorical_train=0.21]"
     ]
    },
    {
     "name": "stdout",
     "output_type": "stream",
     "text": [
      "\r\n",
      "Epoch 186/600:  31%|███       | 185/600 [2:58:43<7:06:41, 61.69s/it, v_num=e6_1, total_loss_train=529, kl_local_train=135, metric_mi|age_categorical_train=0.21]"
     ]
    },
    {
     "name": "stdout",
     "output_type": "stream",
     "text": [
      "\r\n",
      "Epoch 186/600:  31%|███       | 186/600 [2:59:47<7:12:17, 62.65s/it, v_num=e6_1, total_loss_train=529, kl_local_train=135, metric_mi|age_categorical_train=0.21]"
     ]
    },
    {
     "name": "stdout",
     "output_type": "stream",
     "text": [
      "\r\n",
      "Epoch 186/600:  31%|███       | 186/600 [2:59:47<7:12:17, 62.65s/it, v_num=e6_1, total_loss_train=529, kl_local_train=133, metric_mi|age_categorical_train=0.21]"
     ]
    },
    {
     "name": "stdout",
     "output_type": "stream",
     "text": [
      "\r\n",
      "Epoch 187/600:  31%|███       | 186/600 [2:59:47<7:12:17, 62.65s/it, v_num=e6_1, total_loss_train=529, kl_local_train=133, metric_mi|age_categorical_train=0.21]"
     ]
    },
    {
     "name": "stdout",
     "output_type": "stream",
     "text": [
      "\r\n",
      "Epoch 187/600:  31%|███       | 187/600 [3:00:49<7:10:36, 62.56s/it, v_num=e6_1, total_loss_train=529, kl_local_train=133, metric_mi|age_categorical_train=0.21]"
     ]
    },
    {
     "name": "stdout",
     "output_type": "stream",
     "text": [
      "\r\n",
      "Epoch 187/600:  31%|███       | 187/600 [3:00:49<7:10:36, 62.56s/it, v_num=e6_1, total_loss_train=529, kl_local_train=134, metric_mi|age_categorical_train=0.21]"
     ]
    },
    {
     "name": "stdout",
     "output_type": "stream",
     "text": [
      "\r\n",
      "Epoch 188/600:  31%|███       | 187/600 [3:00:49<7:10:36, 62.56s/it, v_num=e6_1, total_loss_train=529, kl_local_train=134, metric_mi|age_categorical_train=0.21]"
     ]
    },
    {
     "name": "stdout",
     "output_type": "stream",
     "text": [
      "\r\n",
      "Epoch 188/600:  31%|███▏      | 188/600 [3:01:51<7:07:46, 62.30s/it, v_num=e6_1, total_loss_train=529, kl_local_train=134, metric_mi|age_categorical_train=0.21]"
     ]
    },
    {
     "name": "stdout",
     "output_type": "stream",
     "text": [
      "\r\n",
      "Epoch 188/600:  31%|███▏      | 188/600 [3:01:51<7:07:46, 62.30s/it, v_num=e6_1, total_loss_train=529, kl_local_train=134, metric_mi|age_categorical_train=0.21]"
     ]
    },
    {
     "name": "stdout",
     "output_type": "stream",
     "text": [
      "\r\n",
      "Epoch 189/600:  31%|███▏      | 188/600 [3:01:51<7:07:46, 62.30s/it, v_num=e6_1, total_loss_train=529, kl_local_train=134, metric_mi|age_categorical_train=0.21]"
     ]
    },
    {
     "name": "stdout",
     "output_type": "stream",
     "text": [
      "\r\n",
      "Epoch 189/600:  32%|███▏      | 189/600 [3:02:53<7:06:24, 62.25s/it, v_num=e6_1, total_loss_train=529, kl_local_train=134, metric_mi|age_categorical_train=0.21]"
     ]
    },
    {
     "name": "stdout",
     "output_type": "stream",
     "text": [
      "\r\n",
      "Epoch 189/600:  32%|███▏      | 189/600 [3:02:53<7:06:24, 62.25s/it, v_num=e6_1, total_loss_train=529, kl_local_train=133, metric_mi|age_categorical_train=0.21]"
     ]
    },
    {
     "name": "stdout",
     "output_type": "stream",
     "text": [
      "\r\n",
      "Epoch 190/600:  32%|███▏      | 189/600 [3:02:53<7:06:24, 62.25s/it, v_num=e6_1, total_loss_train=529, kl_local_train=133, metric_mi|age_categorical_train=0.21]"
     ]
    },
    {
     "name": "stdout",
     "output_type": "stream",
     "text": [
      "\r\n",
      "Epoch 190/600:  32%|███▏      | 190/600 [3:03:55<7:04:49, 62.17s/it, v_num=e6_1, total_loss_train=529, kl_local_train=133, metric_mi|age_categorical_train=0.21]"
     ]
    },
    {
     "name": "stdout",
     "output_type": "stream",
     "text": [
      "\r\n",
      "Epoch 190/600:  32%|███▏      | 190/600 [3:03:55<7:04:49, 62.17s/it, v_num=e6_1, total_loss_train=529, kl_local_train=133, metric_mi|age_categorical_train=0.21]"
     ]
    },
    {
     "name": "stdout",
     "output_type": "stream",
     "text": [
      "\r\n",
      "Epoch 191/600:  32%|███▏      | 190/600 [3:03:56<7:04:49, 62.17s/it, v_num=e6_1, total_loss_train=529, kl_local_train=133, metric_mi|age_categorical_train=0.21]"
     ]
    },
    {
     "name": "stdout",
     "output_type": "stream",
     "text": [
      "\r\n",
      "Epoch 191/600:  32%|███▏      | 191/600 [3:04:58<7:04:04, 62.21s/it, v_num=e6_1, total_loss_train=529, kl_local_train=133, metric_mi|age_categorical_train=0.21]"
     ]
    },
    {
     "name": "stdout",
     "output_type": "stream",
     "text": [
      "\r\n",
      "Epoch 191/600:  32%|███▏      | 191/600 [3:04:58<7:04:04, 62.21s/it, v_num=e6_1, total_loss_train=529, kl_local_train=133, metric_mi|age_categorical_train=0.211]"
     ]
    },
    {
     "name": "stdout",
     "output_type": "stream",
     "text": [
      "\r\n",
      "Epoch 192/600:  32%|███▏      | 191/600 [3:04:58<7:04:04, 62.21s/it, v_num=e6_1, total_loss_train=529, kl_local_train=133, metric_mi|age_categorical_train=0.211]"
     ]
    },
    {
     "name": "stdout",
     "output_type": "stream",
     "text": [
      "\r\n",
      "Epoch 192/600:  32%|███▏      | 192/600 [3:05:58<7:00:12, 61.80s/it, v_num=e6_1, total_loss_train=529, kl_local_train=133, metric_mi|age_categorical_train=0.211]"
     ]
    },
    {
     "name": "stdout",
     "output_type": "stream",
     "text": [
      "\r\n",
      "Epoch 192/600:  32%|███▏      | 192/600 [3:05:58<7:00:12, 61.80s/it, v_num=e6_1, total_loss_train=529, kl_local_train=132, metric_mi|age_categorical_train=0.211]"
     ]
    },
    {
     "name": "stdout",
     "output_type": "stream",
     "text": [
      "\r\n",
      "Epoch 193/600:  32%|███▏      | 192/600 [3:05:58<7:00:12, 61.80s/it, v_num=e6_1, total_loss_train=529, kl_local_train=132, metric_mi|age_categorical_train=0.211]"
     ]
    },
    {
     "name": "stdout",
     "output_type": "stream",
     "text": [
      "\r\n",
      "Epoch 193/600:  32%|███▏      | 193/600 [3:07:00<6:58:37, 61.71s/it, v_num=e6_1, total_loss_train=529, kl_local_train=132, metric_mi|age_categorical_train=0.211]"
     ]
    },
    {
     "name": "stdout",
     "output_type": "stream",
     "text": [
      "\r\n",
      "Epoch 193/600:  32%|███▏      | 193/600 [3:07:00<6:58:37, 61.71s/it, v_num=e6_1, total_loss_train=529, kl_local_train=133, metric_mi|age_categorical_train=0.211]"
     ]
    },
    {
     "name": "stdout",
     "output_type": "stream",
     "text": [
      "\r\n",
      "Epoch 194/600:  32%|███▏      | 193/600 [3:07:00<6:58:37, 61.71s/it, v_num=e6_1, total_loss_train=529, kl_local_train=133, metric_mi|age_categorical_train=0.211]"
     ]
    },
    {
     "name": "stdout",
     "output_type": "stream",
     "text": [
      "\r\n",
      "Epoch 194/600:  32%|███▏      | 194/600 [3:08:02<6:59:19, 61.97s/it, v_num=e6_1, total_loss_train=529, kl_local_train=133, metric_mi|age_categorical_train=0.211]"
     ]
    },
    {
     "name": "stdout",
     "output_type": "stream",
     "text": [
      "\r\n",
      "Epoch 194/600:  32%|███▏      | 194/600 [3:08:02<6:59:19, 61.97s/it, v_num=e6_1, total_loss_train=530, kl_local_train=133, metric_mi|age_categorical_train=0.211]"
     ]
    },
    {
     "name": "stdout",
     "output_type": "stream",
     "text": [
      "\r\n",
      "Epoch 195/600:  32%|███▏      | 194/600 [3:08:02<6:59:19, 61.97s/it, v_num=e6_1, total_loss_train=530, kl_local_train=133, metric_mi|age_categorical_train=0.211]"
     ]
    },
    {
     "name": "stdout",
     "output_type": "stream",
     "text": [
      "\r\n",
      "Epoch 195/600:  32%|███▎      | 195/600 [3:09:06<7:01:34, 62.45s/it, v_num=e6_1, total_loss_train=530, kl_local_train=133, metric_mi|age_categorical_train=0.211]"
     ]
    },
    {
     "name": "stdout",
     "output_type": "stream",
     "text": [
      "\r\n",
      "Epoch 195/600:  32%|███▎      | 195/600 [3:09:06<7:01:34, 62.45s/it, v_num=e6_1, total_loss_train=530, kl_local_train=130, metric_mi|age_categorical_train=0.211]"
     ]
    },
    {
     "name": "stdout",
     "output_type": "stream",
     "text": [
      "\r\n",
      "Epoch 196/600:  32%|███▎      | 195/600 [3:09:07<7:01:34, 62.45s/it, v_num=e6_1, total_loss_train=530, kl_local_train=130, metric_mi|age_categorical_train=0.211]"
     ]
    },
    {
     "name": "stdout",
     "output_type": "stream",
     "text": [
      "\r\n",
      "Epoch 196/600:  33%|███▎      | 196/600 [3:10:09<7:02:03, 62.68s/it, v_num=e6_1, total_loss_train=530, kl_local_train=130, metric_mi|age_categorical_train=0.211]"
     ]
    },
    {
     "name": "stdout",
     "output_type": "stream",
     "text": [
      "\r\n",
      "Epoch 196/600:  33%|███▎      | 196/600 [3:10:09<7:02:03, 62.68s/it, v_num=e6_1, total_loss_train=530, kl_local_train=130, metric_mi|age_categorical_train=0.209]"
     ]
    },
    {
     "name": "stdout",
     "output_type": "stream",
     "text": [
      "\r\n",
      "Epoch 197/600:  33%|███▎      | 196/600 [3:10:09<7:02:03, 62.68s/it, v_num=e6_1, total_loss_train=530, kl_local_train=130, metric_mi|age_categorical_train=0.209]"
     ]
    },
    {
     "name": "stdout",
     "output_type": "stream",
     "text": [
      "\r\n",
      "Epoch 197/600:  33%|███▎      | 197/600 [3:11:11<6:58:22, 62.29s/it, v_num=e6_1, total_loss_train=530, kl_local_train=130, metric_mi|age_categorical_train=0.209]"
     ]
    },
    {
     "name": "stdout",
     "output_type": "stream",
     "text": [
      "\r\n",
      "Epoch 197/600:  33%|███▎      | 197/600 [3:11:11<6:58:22, 62.29s/it, v_num=e6_1, total_loss_train=529, kl_local_train=131, metric_mi|age_categorical_train=0.209]"
     ]
    },
    {
     "name": "stdout",
     "output_type": "stream",
     "text": [
      "\r\n",
      "Epoch 198/600:  33%|███▎      | 197/600 [3:11:11<6:58:22, 62.29s/it, v_num=e6_1, total_loss_train=529, kl_local_train=131, metric_mi|age_categorical_train=0.209]"
     ]
    },
    {
     "name": "stdout",
     "output_type": "stream",
     "text": [
      "\r\n",
      "Epoch 198/600:  33%|███▎      | 198/600 [3:12:13<6:57:12, 62.27s/it, v_num=e6_1, total_loss_train=529, kl_local_train=131, metric_mi|age_categorical_train=0.209]"
     ]
    },
    {
     "name": "stdout",
     "output_type": "stream",
     "text": [
      "\r\n",
      "Epoch 198/600:  33%|███▎      | 198/600 [3:12:13<6:57:12, 62.27s/it, v_num=e6_1, total_loss_train=529, kl_local_train=129, metric_mi|age_categorical_train=0.209]"
     ]
    },
    {
     "name": "stdout",
     "output_type": "stream",
     "text": [
      "\r\n",
      "Epoch 199/600:  33%|███▎      | 198/600 [3:12:13<6:57:12, 62.27s/it, v_num=e6_1, total_loss_train=529, kl_local_train=129, metric_mi|age_categorical_train=0.209]"
     ]
    },
    {
     "name": "stdout",
     "output_type": "stream",
     "text": [
      "\r\n",
      "Epoch 199/600:  33%|███▎      | 199/600 [3:13:14<6:54:53, 62.08s/it, v_num=e6_1, total_loss_train=529, kl_local_train=129, metric_mi|age_categorical_train=0.209]"
     ]
    },
    {
     "name": "stdout",
     "output_type": "stream",
     "text": [
      "\r\n",
      "Epoch 199/600:  33%|███▎      | 199/600 [3:13:14<6:54:53, 62.08s/it, v_num=e6_1, total_loss_train=530, kl_local_train=130, metric_mi|age_categorical_train=0.209]"
     ]
    },
    {
     "name": "stdout",
     "output_type": "stream",
     "text": [
      "\r\n",
      "Epoch 200/600:  33%|███▎      | 199/600 [3:13:14<6:54:53, 62.08s/it, v_num=e6_1, total_loss_train=530, kl_local_train=130, metric_mi|age_categorical_train=0.209]"
     ]
    },
    {
     "name": "stdout",
     "output_type": "stream",
     "text": [
      "\r\n",
      "Epoch 200/600:  33%|███▎      | 200/600 [3:14:17<6:54:08, 62.12s/it, v_num=e6_1, total_loss_train=530, kl_local_train=130, metric_mi|age_categorical_train=0.209]"
     ]
    },
    {
     "name": "stdout",
     "output_type": "stream",
     "text": [
      "\r\n",
      "Epoch 200/600:  33%|███▎      | 200/600 [3:14:17<6:54:08, 62.12s/it, v_num=e6_1, total_loss_train=530, kl_local_train=130, metric_mi|age_categorical_train=0.209]"
     ]
    },
    {
     "name": "stdout",
     "output_type": "stream",
     "text": [
      "\r\n",
      "Epoch 201/600:  33%|███▎      | 200/600 [3:14:18<6:54:08, 62.12s/it, v_num=e6_1, total_loss_train=530, kl_local_train=130, metric_mi|age_categorical_train=0.209]"
     ]
    },
    {
     "name": "stdout",
     "output_type": "stream",
     "text": [
      "\r\n",
      "Epoch 201/600:  34%|███▎      | 201/600 [3:15:20<6:54:43, 62.37s/it, v_num=e6_1, total_loss_train=530, kl_local_train=130, metric_mi|age_categorical_train=0.209]"
     ]
    },
    {
     "name": "stdout",
     "output_type": "stream",
     "text": [
      "\r\n",
      "Epoch 201/600:  34%|███▎      | 201/600 [3:15:20<6:54:43, 62.37s/it, v_num=e6_1, total_loss_train=530, kl_local_train=128, metric_mi|age_categorical_train=0.21] "
     ]
    },
    {
     "name": "stdout",
     "output_type": "stream",
     "text": [
      "\r\n",
      "Epoch 202/600:  34%|███▎      | 201/600 [3:15:20<6:54:43, 62.37s/it, v_num=e6_1, total_loss_train=530, kl_local_train=128, metric_mi|age_categorical_train=0.21]"
     ]
    },
    {
     "name": "stdout",
     "output_type": "stream",
     "text": [
      "\r\n",
      "Epoch 202/600:  34%|███▎      | 202/600 [3:16:23<6:54:43, 62.52s/it, v_num=e6_1, total_loss_train=530, kl_local_train=128, metric_mi|age_categorical_train=0.21]"
     ]
    },
    {
     "name": "stdout",
     "output_type": "stream",
     "text": [
      "\r\n",
      "Epoch 202/600:  34%|███▎      | 202/600 [3:16:23<6:54:43, 62.52s/it, v_num=e6_1, total_loss_train=530, kl_local_train=129, metric_mi|age_categorical_train=0.21]"
     ]
    },
    {
     "name": "stdout",
     "output_type": "stream",
     "text": [
      "\r\n",
      "Epoch 203/600:  34%|███▎      | 202/600 [3:16:23<6:54:43, 62.52s/it, v_num=e6_1, total_loss_train=530, kl_local_train=129, metric_mi|age_categorical_train=0.21]"
     ]
    },
    {
     "name": "stdout",
     "output_type": "stream",
     "text": [
      "\r\n",
      "Epoch 203/600:  34%|███▍      | 203/600 [3:17:18<6:39:45, 60.42s/it, v_num=e6_1, total_loss_train=530, kl_local_train=129, metric_mi|age_categorical_train=0.21]"
     ]
    },
    {
     "name": "stdout",
     "output_type": "stream",
     "text": [
      "\r\n",
      "Epoch 203/600:  34%|███▍      | 203/600 [3:17:18<6:39:45, 60.42s/it, v_num=e6_1, total_loss_train=530, kl_local_train=128, metric_mi|age_categorical_train=0.21]"
     ]
    },
    {
     "name": "stdout",
     "output_type": "stream",
     "text": [
      "\r\n",
      "Epoch 204/600:  34%|███▍      | 203/600 [3:17:18<6:39:45, 60.42s/it, v_num=e6_1, total_loss_train=530, kl_local_train=128, metric_mi|age_categorical_train=0.21]"
     ]
    },
    {
     "name": "stdout",
     "output_type": "stream",
     "text": [
      "\r\n",
      "Epoch 204/600:  34%|███▍      | 204/600 [3:18:13<6:28:55, 58.93s/it, v_num=e6_1, total_loss_train=530, kl_local_train=128, metric_mi|age_categorical_train=0.21]"
     ]
    },
    {
     "name": "stdout",
     "output_type": "stream",
     "text": [
      "\r\n",
      "Epoch 204/600:  34%|███▍      | 204/600 [3:18:13<6:28:55, 58.93s/it, v_num=e6_1, total_loss_train=530, kl_local_train=127, metric_mi|age_categorical_train=0.21]"
     ]
    },
    {
     "name": "stdout",
     "output_type": "stream",
     "text": [
      "\r\n",
      "Epoch 205/600:  34%|███▍      | 204/600 [3:18:13<6:28:55, 58.93s/it, v_num=e6_1, total_loss_train=530, kl_local_train=127, metric_mi|age_categorical_train=0.21]"
     ]
    },
    {
     "name": "stdout",
     "output_type": "stream",
     "text": [
      "\r\n",
      "Epoch 205/600:  34%|███▍      | 205/600 [3:19:11<6:25:14, 58.52s/it, v_num=e6_1, total_loss_train=530, kl_local_train=127, metric_mi|age_categorical_train=0.21]"
     ]
    },
    {
     "name": "stdout",
     "output_type": "stream",
     "text": [
      "\r\n",
      "Epoch 205/600:  34%|███▍      | 205/600 [3:19:11<6:25:14, 58.52s/it, v_num=e6_1, total_loss_train=530, kl_local_train=127, metric_mi|age_categorical_train=0.21]"
     ]
    },
    {
     "name": "stdout",
     "output_type": "stream",
     "text": [
      "\r\n",
      "Epoch 206/600:  34%|███▍      | 205/600 [3:19:12<6:25:14, 58.52s/it, v_num=e6_1, total_loss_train=530, kl_local_train=127, metric_mi|age_categorical_train=0.21]"
     ]
    },
    {
     "name": "stdout",
     "output_type": "stream",
     "text": [
      "\r\n",
      "Epoch 206/600:  34%|███▍      | 206/600 [3:20:14<6:33:11, 59.88s/it, v_num=e6_1, total_loss_train=530, kl_local_train=127, metric_mi|age_categorical_train=0.21]"
     ]
    },
    {
     "name": "stdout",
     "output_type": "stream",
     "text": [
      "\r\n",
      "Epoch 206/600:  34%|███▍      | 206/600 [3:20:14<6:33:11, 59.88s/it, v_num=e6_1, total_loss_train=530, kl_local_train=127, metric_mi|age_categorical_train=0.208]"
     ]
    },
    {
     "name": "stdout",
     "output_type": "stream",
     "text": [
      "\r\n",
      "Epoch 207/600:  34%|███▍      | 206/600 [3:20:14<6:33:11, 59.88s/it, v_num=e6_1, total_loss_train=530, kl_local_train=127, metric_mi|age_categorical_train=0.208]"
     ]
    },
    {
     "name": "stdout",
     "output_type": "stream",
     "text": [
      "\r\n",
      "Epoch 207/600:  34%|███▍      | 207/600 [3:21:16<6:35:33, 60.39s/it, v_num=e6_1, total_loss_train=530, kl_local_train=127, metric_mi|age_categorical_train=0.208]"
     ]
    },
    {
     "name": "stdout",
     "output_type": "stream",
     "text": [
      "\r\n",
      "Epoch 207/600:  34%|███▍      | 207/600 [3:21:16<6:35:33, 60.39s/it, v_num=e6_1, total_loss_train=530, kl_local_train=127, metric_mi|age_categorical_train=0.208]"
     ]
    },
    {
     "name": "stdout",
     "output_type": "stream",
     "text": [
      "\r\n",
      "Epoch 208/600:  34%|███▍      | 207/600 [3:21:16<6:35:33, 60.39s/it, v_num=e6_1, total_loss_train=530, kl_local_train=127, metric_mi|age_categorical_train=0.208]"
     ]
    },
    {
     "name": "stdout",
     "output_type": "stream",
     "text": [
      "\r\n",
      "Epoch 208/600:  35%|███▍      | 208/600 [3:22:18<6:38:16, 60.96s/it, v_num=e6_1, total_loss_train=530, kl_local_train=127, metric_mi|age_categorical_train=0.208]"
     ]
    },
    {
     "name": "stdout",
     "output_type": "stream",
     "text": [
      "\r\n",
      "Epoch 208/600:  35%|███▍      | 208/600 [3:22:18<6:38:16, 60.96s/it, v_num=e6_1, total_loss_train=530, kl_local_train=126, metric_mi|age_categorical_train=0.208]"
     ]
    },
    {
     "name": "stdout",
     "output_type": "stream",
     "text": [
      "\r\n",
      "Epoch 209/600:  35%|███▍      | 208/600 [3:22:18<6:38:16, 60.96s/it, v_num=e6_1, total_loss_train=530, kl_local_train=126, metric_mi|age_categorical_train=0.208]"
     ]
    },
    {
     "name": "stdout",
     "output_type": "stream",
     "text": [
      "\r\n",
      "Epoch 209/600:  35%|███▍      | 209/600 [3:23:20<6:39:00, 61.23s/it, v_num=e6_1, total_loss_train=530, kl_local_train=126, metric_mi|age_categorical_train=0.208]"
     ]
    },
    {
     "name": "stdout",
     "output_type": "stream",
     "text": [
      "\r\n",
      "Epoch 209/600:  35%|███▍      | 209/600 [3:23:20<6:39:00, 61.23s/it, v_num=e6_1, total_loss_train=530, kl_local_train=126, metric_mi|age_categorical_train=0.208]"
     ]
    },
    {
     "name": "stdout",
     "output_type": "stream",
     "text": [
      "\r\n",
      "Epoch 210/600:  35%|███▍      | 209/600 [3:23:20<6:39:00, 61.23s/it, v_num=e6_1, total_loss_train=530, kl_local_train=126, metric_mi|age_categorical_train=0.208]"
     ]
    },
    {
     "name": "stdout",
     "output_type": "stream",
     "text": [
      "\r\n",
      "Epoch 210/600:  35%|███▌      | 210/600 [3:24:23<6:41:41, 61.80s/it, v_num=e6_1, total_loss_train=530, kl_local_train=126, metric_mi|age_categorical_train=0.208]"
     ]
    },
    {
     "name": "stdout",
     "output_type": "stream",
     "text": [
      "\r\n",
      "Epoch 210/600:  35%|███▌      | 210/600 [3:24:23<6:41:41, 61.80s/it, v_num=e6_1, total_loss_train=530, kl_local_train=124, metric_mi|age_categorical_train=0.208]"
     ]
    },
    {
     "name": "stdout",
     "output_type": "stream",
     "text": [
      "\r\n",
      "Epoch 211/600:  35%|███▌      | 210/600 [3:24:24<6:41:41, 61.80s/it, v_num=e6_1, total_loss_train=530, kl_local_train=124, metric_mi|age_categorical_train=0.208]"
     ]
    },
    {
     "name": "stdout",
     "output_type": "stream",
     "text": [
      "\r\n",
      "Epoch 211/600:  35%|███▌      | 211/600 [3:25:28<6:46:02, 62.63s/it, v_num=e6_1, total_loss_train=530, kl_local_train=124, metric_mi|age_categorical_train=0.208]"
     ]
    },
    {
     "name": "stdout",
     "output_type": "stream",
     "text": [
      "\r\n",
      "Epoch 211/600:  35%|███▌      | 211/600 [3:25:28<6:46:02, 62.63s/it, v_num=e6_1, total_loss_train=530, kl_local_train=123, metric_mi|age_categorical_train=0.206]"
     ]
    },
    {
     "name": "stdout",
     "output_type": "stream",
     "text": [
      "\r\n",
      "Epoch 212/600:  35%|███▌      | 211/600 [3:25:28<6:46:02, 62.63s/it, v_num=e6_1, total_loss_train=530, kl_local_train=123, metric_mi|age_categorical_train=0.206]"
     ]
    },
    {
     "name": "stdout",
     "output_type": "stream",
     "text": [
      "\r\n",
      "Epoch 212/600:  35%|███▌      | 212/600 [3:26:30<6:44:00, 62.48s/it, v_num=e6_1, total_loss_train=530, kl_local_train=123, metric_mi|age_categorical_train=0.206]"
     ]
    },
    {
     "name": "stdout",
     "output_type": "stream",
     "text": [
      "\r\n",
      "Epoch 212/600:  35%|███▌      | 212/600 [3:26:30<6:44:00, 62.48s/it, v_num=e6_1, total_loss_train=530, kl_local_train=124, metric_mi|age_categorical_train=0.206]"
     ]
    },
    {
     "name": "stdout",
     "output_type": "stream",
     "text": [
      "\r\n",
      "Epoch 213/600:  35%|███▌      | 212/600 [3:26:30<6:44:00, 62.48s/it, v_num=e6_1, total_loss_train=530, kl_local_train=124, metric_mi|age_categorical_train=0.206]"
     ]
    },
    {
     "name": "stdout",
     "output_type": "stream",
     "text": [
      "\r\n",
      "Epoch 213/600:  36%|███▌      | 213/600 [3:27:32<6:42:31, 62.41s/it, v_num=e6_1, total_loss_train=530, kl_local_train=124, metric_mi|age_categorical_train=0.206]"
     ]
    },
    {
     "name": "stdout",
     "output_type": "stream",
     "text": [
      "\r\n",
      "Epoch 213/600:  36%|███▌      | 213/600 [3:27:32<6:42:31, 62.41s/it, v_num=e6_1, total_loss_train=530, kl_local_train=123, metric_mi|age_categorical_train=0.206]"
     ]
    },
    {
     "name": "stdout",
     "output_type": "stream",
     "text": [
      "\r\n",
      "Epoch 214/600:  36%|███▌      | 213/600 [3:27:32<6:42:31, 62.41s/it, v_num=e6_1, total_loss_train=530, kl_local_train=123, metric_mi|age_categorical_train=0.206]"
     ]
    },
    {
     "name": "stdout",
     "output_type": "stream",
     "text": [
      "\r\n",
      "Epoch 214/600:  36%|███▌      | 214/600 [3:28:33<6:39:39, 62.12s/it, v_num=e6_1, total_loss_train=530, kl_local_train=123, metric_mi|age_categorical_train=0.206]"
     ]
    },
    {
     "name": "stdout",
     "output_type": "stream",
     "text": [
      "\r\n",
      "Epoch 214/600:  36%|███▌      | 214/600 [3:28:33<6:39:39, 62.12s/it, v_num=e6_1, total_loss_train=531, kl_local_train=123, metric_mi|age_categorical_train=0.206]"
     ]
    },
    {
     "name": "stdout",
     "output_type": "stream",
     "text": [
      "\r\n",
      "Epoch 215/600:  36%|███▌      | 214/600 [3:28:33<6:39:39, 62.12s/it, v_num=e6_1, total_loss_train=531, kl_local_train=123, metric_mi|age_categorical_train=0.206]"
     ]
    },
    {
     "name": "stdout",
     "output_type": "stream",
     "text": [
      "\r\n",
      "Epoch 215/600:  36%|███▌      | 215/600 [3:29:34<6:35:54, 61.70s/it, v_num=e6_1, total_loss_train=531, kl_local_train=123, metric_mi|age_categorical_train=0.206]"
     ]
    },
    {
     "name": "stdout",
     "output_type": "stream",
     "text": [
      "\r\n",
      "Epoch 215/600:  36%|███▌      | 215/600 [3:29:34<6:35:54, 61.70s/it, v_num=e6_1, total_loss_train=530, kl_local_train=123, metric_mi|age_categorical_train=0.206]"
     ]
    },
    {
     "name": "stdout",
     "output_type": "stream",
     "text": [
      "\r\n",
      "Epoch 216/600:  36%|███▌      | 215/600 [3:29:35<6:35:54, 61.70s/it, v_num=e6_1, total_loss_train=530, kl_local_train=123, metric_mi|age_categorical_train=0.206]"
     ]
    },
    {
     "name": "stdout",
     "output_type": "stream",
     "text": [
      "\r\n",
      "Epoch 216/600:  36%|███▌      | 216/600 [3:30:35<6:32:57, 61.40s/it, v_num=e6_1, total_loss_train=530, kl_local_train=123, metric_mi|age_categorical_train=0.206]"
     ]
    },
    {
     "name": "stdout",
     "output_type": "stream",
     "text": [
      "\r\n",
      "Epoch 216/600:  36%|███▌      | 216/600 [3:30:35<6:32:57, 61.40s/it, v_num=e6_1, total_loss_train=530, kl_local_train=123, metric_mi|age_categorical_train=0.201]"
     ]
    },
    {
     "name": "stdout",
     "output_type": "stream",
     "text": [
      "\r\n",
      "Epoch 217/600:  36%|███▌      | 216/600 [3:30:35<6:32:57, 61.40s/it, v_num=e6_1, total_loss_train=530, kl_local_train=123, metric_mi|age_categorical_train=0.201]"
     ]
    },
    {
     "name": "stdout",
     "output_type": "stream",
     "text": [
      "\r\n",
      "Epoch 217/600:  36%|███▌      | 217/600 [3:31:35<6:30:38, 61.20s/it, v_num=e6_1, total_loss_train=530, kl_local_train=123, metric_mi|age_categorical_train=0.201]"
     ]
    },
    {
     "name": "stdout",
     "output_type": "stream",
     "text": [
      "\r\n",
      "Epoch 217/600:  36%|███▌      | 217/600 [3:31:35<6:30:38, 61.20s/it, v_num=e6_1, total_loss_train=530, kl_local_train=122, metric_mi|age_categorical_train=0.201]"
     ]
    },
    {
     "name": "stdout",
     "output_type": "stream",
     "text": [
      "\r\n",
      "Epoch 218/600:  36%|███▌      | 217/600 [3:31:35<6:30:38, 61.20s/it, v_num=e6_1, total_loss_train=530, kl_local_train=122, metric_mi|age_categorical_train=0.201]"
     ]
    },
    {
     "name": "stdout",
     "output_type": "stream",
     "text": [
      "\r\n",
      "Epoch 218/600:  36%|███▋      | 218/600 [3:32:40<6:36:39, 62.30s/it, v_num=e6_1, total_loss_train=530, kl_local_train=122, metric_mi|age_categorical_train=0.201]"
     ]
    },
    {
     "name": "stdout",
     "output_type": "stream",
     "text": [
      "\r\n",
      "Epoch 218/600:  36%|███▋      | 218/600 [3:32:40<6:36:39, 62.30s/it, v_num=e6_1, total_loss_train=530, kl_local_train=122, metric_mi|age_categorical_train=0.201]"
     ]
    },
    {
     "name": "stdout",
     "output_type": "stream",
     "text": [
      "\r\n",
      "Epoch 219/600:  36%|███▋      | 218/600 [3:32:40<6:36:39, 62.30s/it, v_num=e6_1, total_loss_train=530, kl_local_train=122, metric_mi|age_categorical_train=0.201]"
     ]
    },
    {
     "name": "stdout",
     "output_type": "stream",
     "text": [
      "\r\n",
      "Epoch 219/600:  36%|███▋      | 219/600 [3:33:43<6:36:44, 62.48s/it, v_num=e6_1, total_loss_train=530, kl_local_train=122, metric_mi|age_categorical_train=0.201]"
     ]
    },
    {
     "name": "stdout",
     "output_type": "stream",
     "text": [
      "\r\n",
      "Epoch 219/600:  36%|███▋      | 219/600 [3:33:43<6:36:44, 62.48s/it, v_num=e6_1, total_loss_train=530, kl_local_train=123, metric_mi|age_categorical_train=0.201]"
     ]
    },
    {
     "name": "stdout",
     "output_type": "stream",
     "text": [
      "\r\n",
      "Epoch 220/600:  36%|███▋      | 219/600 [3:33:43<6:36:44, 62.48s/it, v_num=e6_1, total_loss_train=530, kl_local_train=123, metric_mi|age_categorical_train=0.201]"
     ]
    },
    {
     "name": "stdout",
     "output_type": "stream",
     "text": [
      "\r\n",
      "Epoch 220/600:  37%|███▋      | 220/600 [3:34:49<6:41:08, 63.34s/it, v_num=e6_1, total_loss_train=530, kl_local_train=123, metric_mi|age_categorical_train=0.201]"
     ]
    },
    {
     "name": "stdout",
     "output_type": "stream",
     "text": [
      "\r\n",
      "Epoch 220/600:  37%|███▋      | 220/600 [3:34:49<6:41:08, 63.34s/it, v_num=e6_1, total_loss_train=530, kl_local_train=122, metric_mi|age_categorical_train=0.201]"
     ]
    },
    {
     "name": "stdout",
     "output_type": "stream",
     "text": [
      "\r\n",
      "Epoch 221/600:  37%|███▋      | 220/600 [3:34:49<6:41:08, 63.34s/it, v_num=e6_1, total_loss_train=530, kl_local_train=122, metric_mi|age_categorical_train=0.201]"
     ]
    },
    {
     "name": "stdout",
     "output_type": "stream",
     "text": [
      "\r\n",
      "Epoch 221/600:  37%|███▋      | 221/600 [3:35:53<6:41:23, 63.54s/it, v_num=e6_1, total_loss_train=530, kl_local_train=122, metric_mi|age_categorical_train=0.201]"
     ]
    },
    {
     "name": "stdout",
     "output_type": "stream",
     "text": [
      "\r\n",
      "Epoch 221/600:  37%|███▋      | 221/600 [3:35:53<6:41:23, 63.54s/it, v_num=e6_1, total_loss_train=530, kl_local_train=121, metric_mi|age_categorical_train=0.199]"
     ]
    },
    {
     "name": "stdout",
     "output_type": "stream",
     "text": [
      "\r\n",
      "Epoch 222/600:  37%|███▋      | 221/600 [3:35:53<6:41:23, 63.54s/it, v_num=e6_1, total_loss_train=530, kl_local_train=121, metric_mi|age_categorical_train=0.199]"
     ]
    },
    {
     "name": "stdout",
     "output_type": "stream",
     "text": [
      "\r\n",
      "Epoch 222/600:  37%|███▋      | 222/600 [3:36:56<6:39:33, 63.42s/it, v_num=e6_1, total_loss_train=530, kl_local_train=121, metric_mi|age_categorical_train=0.199]"
     ]
    },
    {
     "name": "stdout",
     "output_type": "stream",
     "text": [
      "\r\n",
      "Epoch 222/600:  37%|███▋      | 222/600 [3:36:56<6:39:33, 63.42s/it, v_num=e6_1, total_loss_train=530, kl_local_train=121, metric_mi|age_categorical_train=0.199]"
     ]
    },
    {
     "name": "stdout",
     "output_type": "stream",
     "text": [
      "\r\n",
      "Epoch 223/600:  37%|███▋      | 222/600 [3:36:56<6:39:33, 63.42s/it, v_num=e6_1, total_loss_train=530, kl_local_train=121, metric_mi|age_categorical_train=0.199]"
     ]
    },
    {
     "name": "stdout",
     "output_type": "stream",
     "text": [
      "\r\n",
      "Epoch 223/600:  37%|███▋      | 223/600 [3:37:59<6:37:19, 63.23s/it, v_num=e6_1, total_loss_train=530, kl_local_train=121, metric_mi|age_categorical_train=0.199]"
     ]
    },
    {
     "name": "stdout",
     "output_type": "stream",
     "text": [
      "\r\n",
      "Epoch 223/600:  37%|███▋      | 223/600 [3:37:59<6:37:19, 63.23s/it, v_num=e6_1, total_loss_train=531, kl_local_train=121, metric_mi|age_categorical_train=0.199]"
     ]
    },
    {
     "name": "stdout",
     "output_type": "stream",
     "text": [
      "\r\n",
      "Epoch 224/600:  37%|███▋      | 223/600 [3:37:59<6:37:19, 63.23s/it, v_num=e6_1, total_loss_train=531, kl_local_train=121, metric_mi|age_categorical_train=0.199]"
     ]
    },
    {
     "name": "stdout",
     "output_type": "stream",
     "text": [
      "\r\n",
      "Epoch 224/600:  37%|███▋      | 224/600 [3:39:02<6:37:28, 63.43s/it, v_num=e6_1, total_loss_train=531, kl_local_train=121, metric_mi|age_categorical_train=0.199]"
     ]
    },
    {
     "name": "stdout",
     "output_type": "stream",
     "text": [
      "\r\n",
      "Epoch 224/600:  37%|███▋      | 224/600 [3:39:02<6:37:28, 63.43s/it, v_num=e6_1, total_loss_train=531, kl_local_train=121, metric_mi|age_categorical_train=0.199]"
     ]
    },
    {
     "name": "stdout",
     "output_type": "stream",
     "text": [
      "\r\n",
      "Epoch 225/600:  37%|███▋      | 224/600 [3:39:02<6:37:28, 63.43s/it, v_num=e6_1, total_loss_train=531, kl_local_train=121, metric_mi|age_categorical_train=0.199]"
     ]
    },
    {
     "name": "stdout",
     "output_type": "stream",
     "text": [
      "\r\n",
      "Epoch 225/600:  38%|███▊      | 225/600 [3:40:07<6:38:06, 63.70s/it, v_num=e6_1, total_loss_train=531, kl_local_train=121, metric_mi|age_categorical_train=0.199]"
     ]
    },
    {
     "name": "stdout",
     "output_type": "stream",
     "text": [
      "\r\n",
      "Epoch 225/600:  38%|███▊      | 225/600 [3:40:07<6:38:06, 63.70s/it, v_num=e6_1, total_loss_train=531, kl_local_train=120, metric_mi|age_categorical_train=0.199]"
     ]
    },
    {
     "name": "stdout",
     "output_type": "stream",
     "text": [
      "\r\n",
      "Epoch 226/600:  38%|███▊      | 225/600 [3:40:08<6:38:06, 63.70s/it, v_num=e6_1, total_loss_train=531, kl_local_train=120, metric_mi|age_categorical_train=0.199]"
     ]
    },
    {
     "name": "stdout",
     "output_type": "stream",
     "text": [
      "\r\n",
      "Epoch 226/600:  38%|███▊      | 226/600 [3:41:11<6:38:04, 63.86s/it, v_num=e6_1, total_loss_train=531, kl_local_train=120, metric_mi|age_categorical_train=0.199]"
     ]
    },
    {
     "name": "stdout",
     "output_type": "stream",
     "text": [
      "\r\n",
      "Epoch 226/600:  38%|███▊      | 226/600 [3:41:11<6:38:04, 63.86s/it, v_num=e6_1, total_loss_train=531, kl_local_train=121, metric_mi|age_categorical_train=0.195]"
     ]
    },
    {
     "name": "stdout",
     "output_type": "stream",
     "text": [
      "\r\n",
      "Epoch 227/600:  38%|███▊      | 226/600 [3:41:11<6:38:04, 63.86s/it, v_num=e6_1, total_loss_train=531, kl_local_train=121, metric_mi|age_categorical_train=0.195]"
     ]
    },
    {
     "name": "stdout",
     "output_type": "stream",
     "text": [
      "\r\n",
      "Epoch 227/600:  38%|███▊      | 227/600 [3:42:14<6:35:38, 63.64s/it, v_num=e6_1, total_loss_train=531, kl_local_train=121, metric_mi|age_categorical_train=0.195]"
     ]
    },
    {
     "name": "stdout",
     "output_type": "stream",
     "text": [
      "\r\n",
      "Epoch 227/600:  38%|███▊      | 227/600 [3:42:14<6:35:38, 63.64s/it, v_num=e6_1, total_loss_train=531, kl_local_train=121, metric_mi|age_categorical_train=0.195]"
     ]
    },
    {
     "name": "stdout",
     "output_type": "stream",
     "text": [
      "\r\n",
      "Epoch 228/600:  38%|███▊      | 227/600 [3:42:14<6:35:38, 63.64s/it, v_num=e6_1, total_loss_train=531, kl_local_train=121, metric_mi|age_categorical_train=0.195]"
     ]
    },
    {
     "name": "stdout",
     "output_type": "stream",
     "text": [
      "\r\n",
      "Epoch 228/600:  38%|███▊      | 228/600 [3:43:11<6:22:30, 61.69s/it, v_num=e6_1, total_loss_train=531, kl_local_train=121, metric_mi|age_categorical_train=0.195]"
     ]
    },
    {
     "name": "stdout",
     "output_type": "stream",
     "text": [
      "\r\n",
      "Epoch 228/600:  38%|███▊      | 228/600 [3:43:11<6:22:30, 61.69s/it, v_num=e6_1, total_loss_train=530, kl_local_train=120, metric_mi|age_categorical_train=0.195]"
     ]
    },
    {
     "name": "stdout",
     "output_type": "stream",
     "text": [
      "\r\n",
      "Epoch 229/600:  38%|███▊      | 228/600 [3:43:11<6:22:30, 61.69s/it, v_num=e6_1, total_loss_train=530, kl_local_train=120, metric_mi|age_categorical_train=0.195]"
     ]
    },
    {
     "name": "stdout",
     "output_type": "stream",
     "text": [
      "\r\n",
      "Epoch 229/600:  38%|███▊      | 229/600 [3:44:05<6:06:55, 59.34s/it, v_num=e6_1, total_loss_train=530, kl_local_train=120, metric_mi|age_categorical_train=0.195]"
     ]
    },
    {
     "name": "stdout",
     "output_type": "stream",
     "text": [
      "\r\n",
      "Epoch 229/600:  38%|███▊      | 229/600 [3:44:05<6:06:55, 59.34s/it, v_num=e6_1, total_loss_train=531, kl_local_train=120, metric_mi|age_categorical_train=0.195]"
     ]
    },
    {
     "name": "stdout",
     "output_type": "stream",
     "text": [
      "\r\n",
      "Epoch 230/600:  38%|███▊      | 229/600 [3:44:05<6:06:55, 59.34s/it, v_num=e6_1, total_loss_train=531, kl_local_train=120, metric_mi|age_categorical_train=0.195]"
     ]
    },
    {
     "name": "stdout",
     "output_type": "stream",
     "text": [
      "\r\n",
      "Epoch 230/600:  38%|███▊      | 230/600 [3:45:01<5:59:11, 58.25s/it, v_num=e6_1, total_loss_train=531, kl_local_train=120, metric_mi|age_categorical_train=0.195]"
     ]
    },
    {
     "name": "stdout",
     "output_type": "stream",
     "text": [
      "\r\n",
      "Epoch 230/600:  38%|███▊      | 230/600 [3:45:01<5:59:11, 58.25s/it, v_num=e6_1, total_loss_train=531, kl_local_train=119, metric_mi|age_categorical_train=0.195]"
     ]
    },
    {
     "name": "stdout",
     "output_type": "stream",
     "text": [
      "\r\n",
      "Epoch 231/600:  38%|███▊      | 230/600 [3:45:02<5:59:11, 58.25s/it, v_num=e6_1, total_loss_train=531, kl_local_train=119, metric_mi|age_categorical_train=0.195]"
     ]
    },
    {
     "name": "stdout",
     "output_type": "stream",
     "text": [
      "\r\n",
      "Epoch 231/600:  38%|███▊      | 231/600 [3:45:58<5:56:05, 57.90s/it, v_num=e6_1, total_loss_train=531, kl_local_train=119, metric_mi|age_categorical_train=0.195]"
     ]
    },
    {
     "name": "stdout",
     "output_type": "stream",
     "text": [
      "\r\n",
      "Epoch 231/600:  38%|███▊      | 231/600 [3:45:58<5:56:05, 57.90s/it, v_num=e6_1, total_loss_train=531, kl_local_train=119, metric_mi|age_categorical_train=0.196]"
     ]
    },
    {
     "name": "stdout",
     "output_type": "stream",
     "text": [
      "\r\n",
      "Epoch 232/600:  38%|███▊      | 231/600 [3:45:58<5:56:05, 57.90s/it, v_num=e6_1, total_loss_train=531, kl_local_train=119, metric_mi|age_categorical_train=0.196]"
     ]
    },
    {
     "name": "stdout",
     "output_type": "stream",
     "text": [
      "\r\n",
      "Epoch 232/600:  39%|███▊      | 232/600 [3:46:54<5:51:46, 57.36s/it, v_num=e6_1, total_loss_train=531, kl_local_train=119, metric_mi|age_categorical_train=0.196]"
     ]
    },
    {
     "name": "stdout",
     "output_type": "stream",
     "text": [
      "\r\n",
      "Epoch 232/600:  39%|███▊      | 232/600 [3:46:54<5:51:46, 57.36s/it, v_num=e6_1, total_loss_train=531, kl_local_train=118, metric_mi|age_categorical_train=0.196]"
     ]
    },
    {
     "name": "stdout",
     "output_type": "stream",
     "text": [
      "\r\n",
      "Epoch 233/600:  39%|███▊      | 232/600 [3:46:54<5:51:46, 57.36s/it, v_num=e6_1, total_loss_train=531, kl_local_train=118, metric_mi|age_categorical_train=0.196]"
     ]
    },
    {
     "name": "stdout",
     "output_type": "stream",
     "text": [
      "\r\n",
      "Epoch 233/600:  39%|███▉      | 233/600 [3:47:50<5:48:17, 56.94s/it, v_num=e6_1, total_loss_train=531, kl_local_train=118, metric_mi|age_categorical_train=0.196]"
     ]
    },
    {
     "name": "stdout",
     "output_type": "stream",
     "text": [
      "\r\n",
      "Epoch 233/600:  39%|███▉      | 233/600 [3:47:50<5:48:17, 56.94s/it, v_num=e6_1, total_loss_train=531, kl_local_train=118, metric_mi|age_categorical_train=0.196]"
     ]
    },
    {
     "name": "stdout",
     "output_type": "stream",
     "text": [
      "\r\n",
      "Epoch 234/600:  39%|███▉      | 233/600 [3:47:50<5:48:17, 56.94s/it, v_num=e6_1, total_loss_train=531, kl_local_train=118, metric_mi|age_categorical_train=0.196]"
     ]
    },
    {
     "name": "stdout",
     "output_type": "stream",
     "text": [
      "\r\n",
      "Epoch 234/600:  39%|███▉      | 234/600 [3:48:46<5:45:39, 56.66s/it, v_num=e6_1, total_loss_train=531, kl_local_train=118, metric_mi|age_categorical_train=0.196]"
     ]
    },
    {
     "name": "stdout",
     "output_type": "stream",
     "text": [
      "\r\n",
      "Epoch 234/600:  39%|███▉      | 234/600 [3:48:46<5:45:39, 56.66s/it, v_num=e6_1, total_loss_train=532, kl_local_train=118, metric_mi|age_categorical_train=0.196]"
     ]
    },
    {
     "name": "stdout",
     "output_type": "stream",
     "text": [
      "\r\n",
      "Epoch 235/600:  39%|███▉      | 234/600 [3:48:46<5:45:39, 56.66s/it, v_num=e6_1, total_loss_train=532, kl_local_train=118, metric_mi|age_categorical_train=0.196]"
     ]
    },
    {
     "name": "stdout",
     "output_type": "stream",
     "text": [
      "\r\n",
      "Epoch 235/600:  39%|███▉      | 235/600 [3:49:43<5:46:06, 56.89s/it, v_num=e6_1, total_loss_train=532, kl_local_train=118, metric_mi|age_categorical_train=0.196]"
     ]
    },
    {
     "name": "stdout",
     "output_type": "stream",
     "text": [
      "\r\n",
      "Epoch 235/600:  39%|███▉      | 235/600 [3:49:43<5:46:06, 56.89s/it, v_num=e6_1, total_loss_train=531, kl_local_train=118, metric_mi|age_categorical_train=0.196]"
     ]
    },
    {
     "name": "stdout",
     "output_type": "stream",
     "text": [
      "\r\n",
      "Epoch 236/600:  39%|███▉      | 235/600 [3:49:45<5:46:06, 56.89s/it, v_num=e6_1, total_loss_train=531, kl_local_train=118, metric_mi|age_categorical_train=0.196]"
     ]
    },
    {
     "name": "stdout",
     "output_type": "stream",
     "text": [
      "\r\n",
      "Epoch 236/600:  39%|███▉      | 236/600 [3:50:41<5:46:00, 57.03s/it, v_num=e6_1, total_loss_train=531, kl_local_train=118, metric_mi|age_categorical_train=0.196]"
     ]
    },
    {
     "name": "stdout",
     "output_type": "stream",
     "text": [
      "\r\n",
      "Epoch 236/600:  39%|███▉      | 236/600 [3:50:41<5:46:00, 57.03s/it, v_num=e6_1, total_loss_train=531, kl_local_train=118, metric_mi|age_categorical_train=0.197]"
     ]
    },
    {
     "name": "stdout",
     "output_type": "stream",
     "text": [
      "\r\n",
      "Epoch 237/600:  39%|███▉      | 236/600 [3:50:41<5:46:00, 57.03s/it, v_num=e6_1, total_loss_train=531, kl_local_train=118, metric_mi|age_categorical_train=0.197]"
     ]
    },
    {
     "name": "stdout",
     "output_type": "stream",
     "text": [
      "\r\n",
      "Epoch 237/600:  40%|███▉      | 237/600 [3:51:37<5:43:51, 56.84s/it, v_num=e6_1, total_loss_train=531, kl_local_train=118, metric_mi|age_categorical_train=0.197]"
     ]
    },
    {
     "name": "stdout",
     "output_type": "stream",
     "text": [
      "\r\n",
      "Epoch 237/600:  40%|███▉      | 237/600 [3:51:37<5:43:51, 56.84s/it, v_num=e6_1, total_loss_train=531, kl_local_train=117, metric_mi|age_categorical_train=0.197]"
     ]
    },
    {
     "name": "stdout",
     "output_type": "stream",
     "text": [
      "\r\n",
      "Epoch 238/600:  40%|███▉      | 237/600 [3:51:37<5:43:51, 56.84s/it, v_num=e6_1, total_loss_train=531, kl_local_train=117, metric_mi|age_categorical_train=0.197]"
     ]
    },
    {
     "name": "stdout",
     "output_type": "stream",
     "text": [
      "\r\n",
      "Epoch 238/600:  40%|███▉      | 238/600 [3:52:33<5:41:54, 56.67s/it, v_num=e6_1, total_loss_train=531, kl_local_train=117, metric_mi|age_categorical_train=0.197]"
     ]
    },
    {
     "name": "stdout",
     "output_type": "stream",
     "text": [
      "\r\n",
      "Epoch 238/600:  40%|███▉      | 238/600 [3:52:33<5:41:54, 56.67s/it, v_num=e6_1, total_loss_train=532, kl_local_train=117, metric_mi|age_categorical_train=0.197]"
     ]
    },
    {
     "name": "stdout",
     "output_type": "stream",
     "text": [
      "\r\n",
      "Epoch 239/600:  40%|███▉      | 238/600 [3:52:33<5:41:54, 56.67s/it, v_num=e6_1, total_loss_train=532, kl_local_train=117, metric_mi|age_categorical_train=0.197]"
     ]
    },
    {
     "name": "stdout",
     "output_type": "stream",
     "text": [
      "\r\n",
      "Epoch 239/600:  40%|███▉      | 239/600 [3:53:30<5:40:57, 56.67s/it, v_num=e6_1, total_loss_train=532, kl_local_train=117, metric_mi|age_categorical_train=0.197]"
     ]
    },
    {
     "name": "stdout",
     "output_type": "stream",
     "text": [
      "\r\n",
      "Epoch 239/600:  40%|███▉      | 239/600 [3:53:30<5:40:57, 56.67s/it, v_num=e6_1, total_loss_train=532, kl_local_train=117, metric_mi|age_categorical_train=0.197]"
     ]
    },
    {
     "name": "stdout",
     "output_type": "stream",
     "text": [
      "\r\n",
      "Epoch 240/600:  40%|███▉      | 239/600 [3:53:30<5:40:57, 56.67s/it, v_num=e6_1, total_loss_train=532, kl_local_train=117, metric_mi|age_categorical_train=0.197]"
     ]
    },
    {
     "name": "stdout",
     "output_type": "stream",
     "text": [
      "\r\n",
      "Epoch 240/600:  40%|████      | 240/600 [3:54:34<5:52:56, 58.82s/it, v_num=e6_1, total_loss_train=532, kl_local_train=117, metric_mi|age_categorical_train=0.197]"
     ]
    },
    {
     "name": "stdout",
     "output_type": "stream",
     "text": [
      "\r\n",
      "Epoch 240/600:  40%|████      | 240/600 [3:54:34<5:52:56, 58.82s/it, v_num=e6_1, total_loss_train=532, kl_local_train=117, metric_mi|age_categorical_train=0.197]"
     ]
    },
    {
     "name": "stdout",
     "output_type": "stream",
     "text": [
      "\r\n",
      "Epoch 241/600:  40%|████      | 240/600 [3:54:35<5:52:56, 58.82s/it, v_num=e6_1, total_loss_train=532, kl_local_train=117, metric_mi|age_categorical_train=0.197]"
     ]
    },
    {
     "name": "stdout",
     "output_type": "stream",
     "text": [
      "\r\n",
      "Epoch 241/600:  40%|████      | 241/600 [3:55:40<6:05:27, 61.08s/it, v_num=e6_1, total_loss_train=532, kl_local_train=117, metric_mi|age_categorical_train=0.197]"
     ]
    },
    {
     "name": "stdout",
     "output_type": "stream",
     "text": [
      "\r\n",
      "Epoch 241/600:  40%|████      | 241/600 [3:55:40<6:05:27, 61.08s/it, v_num=e6_1, total_loss_train=532, kl_local_train=117, metric_mi|age_categorical_train=0.202]"
     ]
    },
    {
     "name": "stdout",
     "output_type": "stream",
     "text": [
      "\r\n",
      "Epoch 242/600:  40%|████      | 241/600 [3:55:40<6:05:27, 61.08s/it, v_num=e6_1, total_loss_train=532, kl_local_train=117, metric_mi|age_categorical_train=0.202]"
     ]
    },
    {
     "name": "stdout",
     "output_type": "stream",
     "text": [
      "\r\n",
      "Epoch 242/600:  40%|████      | 242/600 [3:56:44<6:08:29, 61.76s/it, v_num=e6_1, total_loss_train=532, kl_local_train=117, metric_mi|age_categorical_train=0.202]"
     ]
    },
    {
     "name": "stdout",
     "output_type": "stream",
     "text": [
      "\r\n",
      "Epoch 242/600:  40%|████      | 242/600 [3:56:44<6:08:29, 61.76s/it, v_num=e6_1, total_loss_train=532, kl_local_train=117, metric_mi|age_categorical_train=0.202]"
     ]
    },
    {
     "name": "stdout",
     "output_type": "stream",
     "text": [
      "\r\n",
      "Epoch 243/600:  40%|████      | 242/600 [3:56:44<6:08:29, 61.76s/it, v_num=e6_1, total_loss_train=532, kl_local_train=117, metric_mi|age_categorical_train=0.202]"
     ]
    },
    {
     "name": "stdout",
     "output_type": "stream",
     "text": [
      "\r\n",
      "Epoch 243/600:  40%|████      | 243/600 [3:57:46<6:09:19, 62.07s/it, v_num=e6_1, total_loss_train=532, kl_local_train=117, metric_mi|age_categorical_train=0.202]"
     ]
    },
    {
     "name": "stdout",
     "output_type": "stream",
     "text": [
      "\r\n",
      "Epoch 243/600:  40%|████      | 243/600 [3:57:46<6:09:19, 62.07s/it, v_num=e6_1, total_loss_train=532, kl_local_train=116, metric_mi|age_categorical_train=0.202]"
     ]
    },
    {
     "name": "stdout",
     "output_type": "stream",
     "text": [
      "\r\n",
      "Epoch 244/600:  40%|████      | 243/600 [3:57:46<6:09:19, 62.07s/it, v_num=e6_1, total_loss_train=532, kl_local_train=116, metric_mi|age_categorical_train=0.202]"
     ]
    },
    {
     "name": "stdout",
     "output_type": "stream",
     "text": [
      "\r\n",
      "Epoch 244/600:  41%|████      | 244/600 [3:58:49<6:09:29, 62.27s/it, v_num=e6_1, total_loss_train=532, kl_local_train=116, metric_mi|age_categorical_train=0.202]"
     ]
    },
    {
     "name": "stdout",
     "output_type": "stream",
     "text": [
      "\r\n",
      "Epoch 244/600:  41%|████      | 244/600 [3:58:49<6:09:29, 62.27s/it, v_num=e6_1, total_loss_train=532, kl_local_train=116, metric_mi|age_categorical_train=0.202]"
     ]
    },
    {
     "name": "stdout",
     "output_type": "stream",
     "text": [
      "\r\n",
      "Epoch 245/600:  41%|████      | 244/600 [3:58:49<6:09:29, 62.27s/it, v_num=e6_1, total_loss_train=532, kl_local_train=116, metric_mi|age_categorical_train=0.202]"
     ]
    },
    {
     "name": "stdout",
     "output_type": "stream",
     "text": [
      "\r\n",
      "Epoch 245/600:  41%|████      | 245/600 [3:59:52<6:10:14, 62.58s/it, v_num=e6_1, total_loss_train=532, kl_local_train=116, metric_mi|age_categorical_train=0.202]"
     ]
    },
    {
     "name": "stdout",
     "output_type": "stream",
     "text": [
      "\r\n",
      "Epoch 245/600:  41%|████      | 245/600 [3:59:52<6:10:14, 62.58s/it, v_num=e6_1, total_loss_train=532, kl_local_train=116, metric_mi|age_categorical_train=0.202]"
     ]
    },
    {
     "name": "stdout",
     "output_type": "stream",
     "text": [
      "\r\n",
      "Epoch 246/600:  41%|████      | 245/600 [3:59:53<6:10:14, 62.58s/it, v_num=e6_1, total_loss_train=532, kl_local_train=116, metric_mi|age_categorical_train=0.202]"
     ]
    },
    {
     "name": "stdout",
     "output_type": "stream",
     "text": [
      "\r\n",
      "Epoch 246/600:  41%|████      | 246/600 [4:00:50<5:59:28, 60.93s/it, v_num=e6_1, total_loss_train=532, kl_local_train=116, metric_mi|age_categorical_train=0.202]"
     ]
    },
    {
     "name": "stdout",
     "output_type": "stream",
     "text": [
      "\r\n",
      "Epoch 246/600:  41%|████      | 246/600 [4:00:50<5:59:28, 60.93s/it, v_num=e6_1, total_loss_train=532, kl_local_train=116, metric_mi|age_categorical_train=0.205]"
     ]
    },
    {
     "name": "stdout",
     "output_type": "stream",
     "text": [
      "\r\n",
      "Epoch 247/600:  41%|████      | 246/600 [4:00:50<5:59:28, 60.93s/it, v_num=e6_1, total_loss_train=532, kl_local_train=116, metric_mi|age_categorical_train=0.205]"
     ]
    },
    {
     "name": "stdout",
     "output_type": "stream",
     "text": [
      "\r\n",
      "Epoch 247/600:  41%|████      | 247/600 [4:01:46<5:50:29, 59.57s/it, v_num=e6_1, total_loss_train=532, kl_local_train=116, metric_mi|age_categorical_train=0.205]"
     ]
    },
    {
     "name": "stdout",
     "output_type": "stream",
     "text": [
      "\r\n",
      "Epoch 247/600:  41%|████      | 247/600 [4:01:46<5:50:29, 59.57s/it, v_num=e6_1, total_loss_train=533, kl_local_train=115, metric_mi|age_categorical_train=0.205]"
     ]
    },
    {
     "name": "stdout",
     "output_type": "stream",
     "text": [
      "\r\n",
      "Epoch 248/600:  41%|████      | 247/600 [4:01:46<5:50:29, 59.57s/it, v_num=e6_1, total_loss_train=533, kl_local_train=115, metric_mi|age_categorical_train=0.205]"
     ]
    },
    {
     "name": "stdout",
     "output_type": "stream",
     "text": [
      "\r\n",
      "Epoch 248/600:  41%|████▏     | 248/600 [4:02:43<5:44:20, 58.69s/it, v_num=e6_1, total_loss_train=533, kl_local_train=115, metric_mi|age_categorical_train=0.205]"
     ]
    },
    {
     "name": "stdout",
     "output_type": "stream",
     "text": [
      "\r\n",
      "Epoch 248/600:  41%|████▏     | 248/600 [4:02:43<5:44:20, 58.69s/it, v_num=e6_1, total_loss_train=533, kl_local_train=116, metric_mi|age_categorical_train=0.205]"
     ]
    },
    {
     "name": "stdout",
     "output_type": "stream",
     "text": [
      "\r\n",
      "Epoch 249/600:  41%|████▏     | 248/600 [4:02:43<5:44:20, 58.69s/it, v_num=e6_1, total_loss_train=533, kl_local_train=116, metric_mi|age_categorical_train=0.205]"
     ]
    },
    {
     "name": "stdout",
     "output_type": "stream",
     "text": [
      "\r\n",
      "Epoch 249/600:  42%|████▏     | 249/600 [4:03:45<5:49:38, 59.77s/it, v_num=e6_1, total_loss_train=533, kl_local_train=116, metric_mi|age_categorical_train=0.205]"
     ]
    },
    {
     "name": "stdout",
     "output_type": "stream",
     "text": [
      "\r\n",
      "Epoch 249/600:  42%|████▏     | 249/600 [4:03:45<5:49:38, 59.77s/it, v_num=e6_1, total_loss_train=532, kl_local_train=115, metric_mi|age_categorical_train=0.205]"
     ]
    },
    {
     "name": "stdout",
     "output_type": "stream",
     "text": [
      "\r\n",
      "Epoch 250/600:  42%|████▏     | 249/600 [4:03:45<5:49:38, 59.77s/it, v_num=e6_1, total_loss_train=532, kl_local_train=115, metric_mi|age_categorical_train=0.205]"
     ]
    },
    {
     "name": "stdout",
     "output_type": "stream",
     "text": [
      "\r\n",
      "Epoch 250/600:  42%|████▏     | 250/600 [4:04:49<5:56:46, 61.16s/it, v_num=e6_1, total_loss_train=532, kl_local_train=115, metric_mi|age_categorical_train=0.205]"
     ]
    },
    {
     "name": "stdout",
     "output_type": "stream",
     "text": [
      "\r\n",
      "Epoch 250/600:  42%|████▏     | 250/600 [4:04:49<5:56:46, 61.16s/it, v_num=e6_1, total_loss_train=533, kl_local_train=115, metric_mi|age_categorical_train=0.205]"
     ]
    },
    {
     "name": "stdout",
     "output_type": "stream",
     "text": [
      "\r\n",
      "Epoch 251/600:  42%|████▏     | 250/600 [4:04:50<5:56:46, 61.16s/it, v_num=e6_1, total_loss_train=533, kl_local_train=115, metric_mi|age_categorical_train=0.205]"
     ]
    },
    {
     "name": "stdout",
     "output_type": "stream",
     "text": [
      "\r\n",
      "Epoch 251/600:  42%|████▏     | 251/600 [4:05:54<6:01:18, 62.11s/it, v_num=e6_1, total_loss_train=533, kl_local_train=115, metric_mi|age_categorical_train=0.205]"
     ]
    },
    {
     "name": "stdout",
     "output_type": "stream",
     "text": [
      "\r\n",
      "Epoch 251/600:  42%|████▏     | 251/600 [4:05:54<6:01:18, 62.11s/it, v_num=e6_1, total_loss_train=532, kl_local_train=115, metric_mi|age_categorical_train=0.207]"
     ]
    },
    {
     "name": "stdout",
     "output_type": "stream",
     "text": [
      "\r\n",
      "Epoch 252/600:  42%|████▏     | 251/600 [4:05:54<6:01:18, 62.11s/it, v_num=e6_1, total_loss_train=532, kl_local_train=115, metric_mi|age_categorical_train=0.207]"
     ]
    },
    {
     "name": "stdout",
     "output_type": "stream",
     "text": [
      "\r\n",
      "Epoch 252/600:  42%|████▏     | 252/600 [4:06:56<6:01:26, 62.32s/it, v_num=e6_1, total_loss_train=532, kl_local_train=115, metric_mi|age_categorical_train=0.207]"
     ]
    },
    {
     "name": "stdout",
     "output_type": "stream",
     "text": [
      "\r\n",
      "Epoch 252/600:  42%|████▏     | 252/600 [4:06:56<6:01:26, 62.32s/it, v_num=e6_1, total_loss_train=533, kl_local_train=114, metric_mi|age_categorical_train=0.207]"
     ]
    },
    {
     "name": "stdout",
     "output_type": "stream",
     "text": [
      "\r\n",
      "Epoch 253/600:  42%|████▏     | 252/600 [4:06:56<6:01:26, 62.32s/it, v_num=e6_1, total_loss_train=533, kl_local_train=114, metric_mi|age_categorical_train=0.207]"
     ]
    },
    {
     "name": "stdout",
     "output_type": "stream",
     "text": [
      "\r\n",
      "Epoch 253/600:  42%|████▏     | 253/600 [4:07:59<6:01:40, 62.54s/it, v_num=e6_1, total_loss_train=533, kl_local_train=114, metric_mi|age_categorical_train=0.207]"
     ]
    },
    {
     "name": "stdout",
     "output_type": "stream",
     "text": [
      "\r\n",
      "Epoch 253/600:  42%|████▏     | 253/600 [4:07:59<6:01:40, 62.54s/it, v_num=e6_1, total_loss_train=533, kl_local_train=114, metric_mi|age_categorical_train=0.207]"
     ]
    },
    {
     "name": "stdout",
     "output_type": "stream",
     "text": [
      "\r\n",
      "Epoch 254/600:  42%|████▏     | 253/600 [4:07:59<6:01:40, 62.54s/it, v_num=e6_1, total_loss_train=533, kl_local_train=114, metric_mi|age_categorical_train=0.207]"
     ]
    },
    {
     "name": "stdout",
     "output_type": "stream",
     "text": [
      "\r\n",
      "Epoch 254/600:  42%|████▏     | 254/600 [4:09:01<5:59:02, 62.26s/it, v_num=e6_1, total_loss_train=533, kl_local_train=114, metric_mi|age_categorical_train=0.207]"
     ]
    },
    {
     "name": "stdout",
     "output_type": "stream",
     "text": [
      "\r\n",
      "Epoch 254/600:  42%|████▏     | 254/600 [4:09:01<5:59:02, 62.26s/it, v_num=e6_1, total_loss_train=533, kl_local_train=114, metric_mi|age_categorical_train=0.207]"
     ]
    },
    {
     "name": "stdout",
     "output_type": "stream",
     "text": [
      "\r\n",
      "Epoch 255/600:  42%|████▏     | 254/600 [4:09:01<5:59:02, 62.26s/it, v_num=e6_1, total_loss_train=533, kl_local_train=114, metric_mi|age_categorical_train=0.207]"
     ]
    },
    {
     "name": "stdout",
     "output_type": "stream",
     "text": [
      "\r\n",
      "Epoch 255/600:  42%|████▎     | 255/600 [4:10:03<5:57:11, 62.12s/it, v_num=e6_1, total_loss_train=533, kl_local_train=114, metric_mi|age_categorical_train=0.207]"
     ]
    },
    {
     "name": "stdout",
     "output_type": "stream",
     "text": [
      "\r\n",
      "Epoch 255/600:  42%|████▎     | 255/600 [4:10:03<5:57:11, 62.12s/it, v_num=e6_1, total_loss_train=533, kl_local_train=114, metric_mi|age_categorical_train=0.207]"
     ]
    },
    {
     "name": "stdout",
     "output_type": "stream",
     "text": [
      "\r\n",
      "Epoch 256/600:  42%|████▎     | 255/600 [4:10:04<5:57:11, 62.12s/it, v_num=e6_1, total_loss_train=533, kl_local_train=114, metric_mi|age_categorical_train=0.207]"
     ]
    },
    {
     "name": "stdout",
     "output_type": "stream",
     "text": [
      "\r\n",
      "Epoch 256/600:  43%|████▎     | 256/600 [4:11:06<5:57:52, 62.42s/it, v_num=e6_1, total_loss_train=533, kl_local_train=114, metric_mi|age_categorical_train=0.207]"
     ]
    },
    {
     "name": "stdout",
     "output_type": "stream",
     "text": [
      "\r\n",
      "Epoch 256/600:  43%|████▎     | 256/600 [4:11:06<5:57:52, 62.42s/it, v_num=e6_1, total_loss_train=533, kl_local_train=114, metric_mi|age_categorical_train=0.21] "
     ]
    },
    {
     "name": "stdout",
     "output_type": "stream",
     "text": [
      "\r\n",
      "Epoch 257/600:  43%|████▎     | 256/600 [4:11:06<5:57:52, 62.42s/it, v_num=e6_1, total_loss_train=533, kl_local_train=114, metric_mi|age_categorical_train=0.21]"
     ]
    },
    {
     "name": "stdout",
     "output_type": "stream",
     "text": [
      "\r\n",
      "Epoch 257/600:  43%|████▎     | 257/600 [4:12:08<5:55:53, 62.25s/it, v_num=e6_1, total_loss_train=533, kl_local_train=114, metric_mi|age_categorical_train=0.21]"
     ]
    },
    {
     "name": "stdout",
     "output_type": "stream",
     "text": [
      "\r\n",
      "Epoch 257/600:  43%|████▎     | 257/600 [4:12:08<5:55:53, 62.25s/it, v_num=e6_1, total_loss_train=533, kl_local_train=113, metric_mi|age_categorical_train=0.21]"
     ]
    },
    {
     "name": "stdout",
     "output_type": "stream",
     "text": [
      "\r\n",
      "Epoch 258/600:  43%|████▎     | 257/600 [4:12:08<5:55:53, 62.25s/it, v_num=e6_1, total_loss_train=533, kl_local_train=113, metric_mi|age_categorical_train=0.21]"
     ]
    },
    {
     "name": "stdout",
     "output_type": "stream",
     "text": [
      "\r\n",
      "Epoch 258/600:  43%|████▎     | 258/600 [4:13:09<5:52:28, 61.84s/it, v_num=e6_1, total_loss_train=533, kl_local_train=113, metric_mi|age_categorical_train=0.21]"
     ]
    },
    {
     "name": "stdout",
     "output_type": "stream",
     "text": [
      "\r\n",
      "Epoch 258/600:  43%|████▎     | 258/600 [4:13:09<5:52:28, 61.84s/it, v_num=e6_1, total_loss_train=533, kl_local_train=112, metric_mi|age_categorical_train=0.21]"
     ]
    },
    {
     "name": "stdout",
     "output_type": "stream",
     "text": [
      "\r\n",
      "Epoch 259/600:  43%|████▎     | 258/600 [4:13:09<5:52:28, 61.84s/it, v_num=e6_1, total_loss_train=533, kl_local_train=112, metric_mi|age_categorical_train=0.21]"
     ]
    },
    {
     "name": "stdout",
     "output_type": "stream",
     "text": [
      "\r\n",
      "Epoch 259/600:  43%|████▎     | 259/600 [4:14:09<5:48:07, 61.25s/it, v_num=e6_1, total_loss_train=533, kl_local_train=112, metric_mi|age_categorical_train=0.21]"
     ]
    },
    {
     "name": "stdout",
     "output_type": "stream",
     "text": [
      "\r\n",
      "Epoch 259/600:  43%|████▎     | 259/600 [4:14:09<5:48:07, 61.25s/it, v_num=e6_1, total_loss_train=534, kl_local_train=112, metric_mi|age_categorical_train=0.21]"
     ]
    },
    {
     "name": "stdout",
     "output_type": "stream",
     "text": [
      "\r\n",
      "Epoch 260/600:  43%|████▎     | 259/600 [4:14:09<5:48:07, 61.25s/it, v_num=e6_1, total_loss_train=534, kl_local_train=112, metric_mi|age_categorical_train=0.21]"
     ]
    },
    {
     "name": "stdout",
     "output_type": "stream",
     "text": [
      "\r\n",
      "Epoch 260/600:  43%|████▎     | 260/600 [4:15:08<5:43:25, 60.60s/it, v_num=e6_1, total_loss_train=534, kl_local_train=112, metric_mi|age_categorical_train=0.21]"
     ]
    },
    {
     "name": "stdout",
     "output_type": "stream",
     "text": [
      "\r\n",
      "Epoch 260/600:  43%|████▎     | 260/600 [4:15:08<5:43:25, 60.60s/it, v_num=e6_1, total_loss_train=534, kl_local_train=112, metric_mi|age_categorical_train=0.21]"
     ]
    },
    {
     "name": "stdout",
     "output_type": "stream",
     "text": [
      "\r\n",
      "Epoch 261/600:  43%|████▎     | 260/600 [4:15:09<5:43:25, 60.60s/it, v_num=e6_1, total_loss_train=534, kl_local_train=112, metric_mi|age_categorical_train=0.21]"
     ]
    },
    {
     "name": "stdout",
     "output_type": "stream",
     "text": [
      "\r\n",
      "Epoch 261/600:  44%|████▎     | 261/600 [4:16:07<5:40:13, 60.22s/it, v_num=e6_1, total_loss_train=534, kl_local_train=112, metric_mi|age_categorical_train=0.21]"
     ]
    },
    {
     "name": "stdout",
     "output_type": "stream",
     "text": [
      "\r\n",
      "Epoch 261/600:  44%|████▎     | 261/600 [4:16:07<5:40:13, 60.22s/it, v_num=e6_1, total_loss_train=534, kl_local_train=112, metric_mi|age_categorical_train=0.21]"
     ]
    },
    {
     "name": "stdout",
     "output_type": "stream",
     "text": [
      "\r\n",
      "Epoch 262/600:  44%|████▎     | 261/600 [4:16:07<5:40:13, 60.22s/it, v_num=e6_1, total_loss_train=534, kl_local_train=112, metric_mi|age_categorical_train=0.21]"
     ]
    },
    {
     "name": "stdout",
     "output_type": "stream",
     "text": [
      "\r\n",
      "Epoch 262/600:  44%|████▎     | 262/600 [4:17:05<5:35:41, 59.59s/it, v_num=e6_1, total_loss_train=534, kl_local_train=112, metric_mi|age_categorical_train=0.21]"
     ]
    },
    {
     "name": "stdout",
     "output_type": "stream",
     "text": [
      "\r\n",
      "Epoch 262/600:  44%|████▎     | 262/600 [4:17:05<5:35:41, 59.59s/it, v_num=e6_1, total_loss_train=533, kl_local_train=112, metric_mi|age_categorical_train=0.21]"
     ]
    },
    {
     "name": "stdout",
     "output_type": "stream",
     "text": [
      "\r\n",
      "Epoch 263/600:  44%|████▎     | 262/600 [4:17:05<5:35:41, 59.59s/it, v_num=e6_1, total_loss_train=533, kl_local_train=112, metric_mi|age_categorical_train=0.21]"
     ]
    },
    {
     "name": "stdout",
     "output_type": "stream",
     "text": [
      "\r\n",
      "Epoch 263/600:  44%|████▍     | 263/600 [4:18:03<5:31:35, 59.04s/it, v_num=e6_1, total_loss_train=533, kl_local_train=112, metric_mi|age_categorical_train=0.21]"
     ]
    },
    {
     "name": "stdout",
     "output_type": "stream",
     "text": [
      "\r\n",
      "Epoch 263/600:  44%|████▍     | 263/600 [4:18:03<5:31:35, 59.04s/it, v_num=e6_1, total_loss_train=533, kl_local_train=112, metric_mi|age_categorical_train=0.21]"
     ]
    },
    {
     "name": "stdout",
     "output_type": "stream",
     "text": [
      "\r\n",
      "Epoch 264/600:  44%|████▍     | 263/600 [4:18:03<5:31:35, 59.04s/it, v_num=e6_1, total_loss_train=533, kl_local_train=112, metric_mi|age_categorical_train=0.21]"
     ]
    },
    {
     "name": "stdout",
     "output_type": "stream",
     "text": [
      "\r\n",
      "Epoch 264/600:  44%|████▍     | 264/600 [4:19:04<5:34:46, 59.78s/it, v_num=e6_1, total_loss_train=533, kl_local_train=112, metric_mi|age_categorical_train=0.21]"
     ]
    },
    {
     "name": "stdout",
     "output_type": "stream",
     "text": [
      "\r\n",
      "Epoch 264/600:  44%|████▍     | 264/600 [4:19:04<5:34:46, 59.78s/it, v_num=e6_1, total_loss_train=533, kl_local_train=111, metric_mi|age_categorical_train=0.21]"
     ]
    },
    {
     "name": "stdout",
     "output_type": "stream",
     "text": [
      "\r\n",
      "Epoch 265/600:  44%|████▍     | 264/600 [4:19:04<5:34:46, 59.78s/it, v_num=e6_1, total_loss_train=533, kl_local_train=111, metric_mi|age_categorical_train=0.21]"
     ]
    },
    {
     "name": "stdout",
     "output_type": "stream",
     "text": [
      "\r\n",
      "Epoch 265/600:  44%|████▍     | 265/600 [4:20:08<5:39:22, 60.78s/it, v_num=e6_1, total_loss_train=533, kl_local_train=111, metric_mi|age_categorical_train=0.21]"
     ]
    },
    {
     "name": "stdout",
     "output_type": "stream",
     "text": [
      "\r\n",
      "Epoch 265/600:  44%|████▍     | 265/600 [4:20:08<5:39:22, 60.78s/it, v_num=e6_1, total_loss_train=533, kl_local_train=111, metric_mi|age_categorical_train=0.21]"
     ]
    },
    {
     "name": "stdout",
     "output_type": "stream",
     "text": [
      "\r\n",
      "Epoch 266/600:  44%|████▍     | 265/600 [4:20:08<5:39:22, 60.78s/it, v_num=e6_1, total_loss_train=533, kl_local_train=111, metric_mi|age_categorical_train=0.21]"
     ]
    },
    {
     "name": "stdout",
     "output_type": "stream",
     "text": [
      "\r\n",
      "Epoch 266/600:  44%|████▍     | 266/600 [4:21:15<5:50:06, 62.89s/it, v_num=e6_1, total_loss_train=533, kl_local_train=111, metric_mi|age_categorical_train=0.21]"
     ]
    },
    {
     "name": "stdout",
     "output_type": "stream",
     "text": [
      "\r\n",
      "Epoch 266/600:  44%|████▍     | 266/600 [4:21:15<5:50:06, 62.89s/it, v_num=e6_1, total_loss_train=533, kl_local_train=110, metric_mi|age_categorical_train=0.21]"
     ]
    },
    {
     "name": "stdout",
     "output_type": "stream",
     "text": [
      "\r\n",
      "Epoch 267/600:  44%|████▍     | 266/600 [4:21:15<5:50:06, 62.89s/it, v_num=e6_1, total_loss_train=533, kl_local_train=110, metric_mi|age_categorical_train=0.21]"
     ]
    },
    {
     "name": "stdout",
     "output_type": "stream",
     "text": [
      "\r\n",
      "Epoch 267/600:  44%|████▍     | 267/600 [4:22:22<5:55:35, 64.07s/it, v_num=e6_1, total_loss_train=533, kl_local_train=110, metric_mi|age_categorical_train=0.21]"
     ]
    },
    {
     "name": "stdout",
     "output_type": "stream",
     "text": [
      "\r\n",
      "Epoch 267/600:  44%|████▍     | 267/600 [4:22:22<5:55:35, 64.07s/it, v_num=e6_1, total_loss_train=533, kl_local_train=110, metric_mi|age_categorical_train=0.21]"
     ]
    },
    {
     "name": "stdout",
     "output_type": "stream",
     "text": [
      "\r\n",
      "Epoch 268/600:  44%|████▍     | 267/600 [4:22:22<5:55:35, 64.07s/it, v_num=e6_1, total_loss_train=533, kl_local_train=110, metric_mi|age_categorical_train=0.21]"
     ]
    },
    {
     "name": "stdout",
     "output_type": "stream",
     "text": [
      "\r\n",
      "Epoch 268/600:  45%|████▍     | 268/600 [4:23:27<5:55:11, 64.19s/it, v_num=e6_1, total_loss_train=533, kl_local_train=110, metric_mi|age_categorical_train=0.21]"
     ]
    },
    {
     "name": "stdout",
     "output_type": "stream",
     "text": [
      "\r\n",
      "Epoch 268/600:  45%|████▍     | 268/600 [4:23:27<5:55:11, 64.19s/it, v_num=e6_1, total_loss_train=534, kl_local_train=111, metric_mi|age_categorical_train=0.21]"
     ]
    },
    {
     "name": "stdout",
     "output_type": "stream",
     "text": [
      "\r\n",
      "Epoch 269/600:  45%|████▍     | 268/600 [4:23:27<5:55:11, 64.19s/it, v_num=e6_1, total_loss_train=534, kl_local_train=111, metric_mi|age_categorical_train=0.21]"
     ]
    },
    {
     "name": "stdout",
     "output_type": "stream",
     "text": [
      "\r\n",
      "Epoch 269/600:  45%|████▍     | 269/600 [4:24:33<5:57:27, 64.80s/it, v_num=e6_1, total_loss_train=534, kl_local_train=111, metric_mi|age_categorical_train=0.21]"
     ]
    },
    {
     "name": "stdout",
     "output_type": "stream",
     "text": [
      "\r\n",
      "Epoch 269/600:  45%|████▍     | 269/600 [4:24:33<5:57:27, 64.80s/it, v_num=e6_1, total_loss_train=534, kl_local_train=111, metric_mi|age_categorical_train=0.21]"
     ]
    },
    {
     "name": "stdout",
     "output_type": "stream",
     "text": [
      "\r\n",
      "Epoch 270/600:  45%|████▍     | 269/600 [4:24:33<5:57:27, 64.80s/it, v_num=e6_1, total_loss_train=534, kl_local_train=111, metric_mi|age_categorical_train=0.21]"
     ]
    },
    {
     "name": "stdout",
     "output_type": "stream",
     "text": [
      "\r\n",
      "Epoch 270/600:  45%|████▌     | 270/600 [4:25:39<5:57:47, 65.05s/it, v_num=e6_1, total_loss_train=534, kl_local_train=111, metric_mi|age_categorical_train=0.21]"
     ]
    },
    {
     "name": "stdout",
     "output_type": "stream",
     "text": [
      "\r\n",
      "Epoch 270/600:  45%|████▌     | 270/600 [4:25:39<5:57:47, 65.05s/it, v_num=e6_1, total_loss_train=534, kl_local_train=110, metric_mi|age_categorical_train=0.21]"
     ]
    },
    {
     "name": "stdout",
     "output_type": "stream",
     "text": [
      "\r\n",
      "Epoch 271/600:  45%|████▌     | 270/600 [4:25:39<5:57:47, 65.05s/it, v_num=e6_1, total_loss_train=534, kl_local_train=110, metric_mi|age_categorical_train=0.21]"
     ]
    },
    {
     "name": "stdout",
     "output_type": "stream",
     "text": [
      "\r\n",
      "Epoch 271/600:  45%|████▌     | 271/600 [4:26:43<5:55:38, 64.86s/it, v_num=e6_1, total_loss_train=534, kl_local_train=110, metric_mi|age_categorical_train=0.21]"
     ]
    },
    {
     "name": "stdout",
     "output_type": "stream",
     "text": [
      "\r\n",
      "Epoch 271/600:  45%|████▌     | 271/600 [4:26:43<5:55:38, 64.86s/it, v_num=e6_1, total_loss_train=534, kl_local_train=111, metric_mi|age_categorical_train=0.207]"
     ]
    },
    {
     "name": "stdout",
     "output_type": "stream",
     "text": [
      "\r\n",
      "Epoch 272/600:  45%|████▌     | 271/600 [4:26:43<5:55:38, 64.86s/it, v_num=e6_1, total_loss_train=534, kl_local_train=111, metric_mi|age_categorical_train=0.207]"
     ]
    },
    {
     "name": "stdout",
     "output_type": "stream",
     "text": [
      "\r\n",
      "Epoch 272/600:  45%|████▌     | 272/600 [4:27:46<5:51:04, 64.22s/it, v_num=e6_1, total_loss_train=534, kl_local_train=111, metric_mi|age_categorical_train=0.207]"
     ]
    },
    {
     "name": "stdout",
     "output_type": "stream",
     "text": [
      "\r\n",
      "Epoch 272/600:  45%|████▌     | 272/600 [4:27:46<5:51:04, 64.22s/it, v_num=e6_1, total_loss_train=534, kl_local_train=110, metric_mi|age_categorical_train=0.207]"
     ]
    },
    {
     "name": "stdout",
     "output_type": "stream",
     "text": [
      "\r\n",
      "Epoch 273/600:  45%|████▌     | 272/600 [4:27:46<5:51:04, 64.22s/it, v_num=e6_1, total_loss_train=534, kl_local_train=110, metric_mi|age_categorical_train=0.207]"
     ]
    },
    {
     "name": "stdout",
     "output_type": "stream",
     "text": [
      "\r\n",
      "Epoch 273/600:  46%|████▌     | 273/600 [4:28:50<5:49:47, 64.18s/it, v_num=e6_1, total_loss_train=534, kl_local_train=110, metric_mi|age_categorical_train=0.207]"
     ]
    },
    {
     "name": "stdout",
     "output_type": "stream",
     "text": [
      "\r\n",
      "Epoch 273/600:  46%|████▌     | 273/600 [4:28:50<5:49:47, 64.18s/it, v_num=e6_1, total_loss_train=535, kl_local_train=111, metric_mi|age_categorical_train=0.207]"
     ]
    },
    {
     "name": "stdout",
     "output_type": "stream",
     "text": [
      "\r\n",
      "Epoch 274/600:  46%|████▌     | 273/600 [4:28:50<5:49:47, 64.18s/it, v_num=e6_1, total_loss_train=535, kl_local_train=111, metric_mi|age_categorical_train=0.207]"
     ]
    },
    {
     "name": "stdout",
     "output_type": "stream",
     "text": [
      "\r\n",
      "Epoch 274/600:  46%|████▌     | 274/600 [4:29:58<5:55:56, 65.51s/it, v_num=e6_1, total_loss_train=535, kl_local_train=111, metric_mi|age_categorical_train=0.207]"
     ]
    },
    {
     "name": "stdout",
     "output_type": "stream",
     "text": [
      "\r\n",
      "Epoch 274/600:  46%|████▌     | 274/600 [4:29:58<5:55:56, 65.51s/it, v_num=e6_1, total_loss_train=534, kl_local_train=110, metric_mi|age_categorical_train=0.207]"
     ]
    },
    {
     "name": "stdout",
     "output_type": "stream",
     "text": [
      "\r\n",
      "Epoch 275/600:  46%|████▌     | 274/600 [4:29:58<5:55:56, 65.51s/it, v_num=e6_1, total_loss_train=534, kl_local_train=110, metric_mi|age_categorical_train=0.207]"
     ]
    },
    {
     "name": "stdout",
     "output_type": "stream",
     "text": [
      "\r\n",
      "Epoch 275/600:  46%|████▌     | 275/600 [4:31:03<5:52:49, 65.14s/it, v_num=e6_1, total_loss_train=534, kl_local_train=110, metric_mi|age_categorical_train=0.207]"
     ]
    },
    {
     "name": "stdout",
     "output_type": "stream",
     "text": [
      "\r\n",
      "Epoch 275/600:  46%|████▌     | 275/600 [4:31:03<5:52:49, 65.14s/it, v_num=e6_1, total_loss_train=535, kl_local_train=109, metric_mi|age_categorical_train=0.207]"
     ]
    },
    {
     "name": "stdout",
     "output_type": "stream",
     "text": [
      "\r\n",
      "Epoch 276/600:  46%|████▌     | 275/600 [4:31:04<5:52:49, 65.14s/it, v_num=e6_1, total_loss_train=535, kl_local_train=109, metric_mi|age_categorical_train=0.207]"
     ]
    },
    {
     "name": "stdout",
     "output_type": "stream",
     "text": [
      "\r\n",
      "Epoch 276/600:  46%|████▌     | 276/600 [4:32:07<5:50:40, 64.94s/it, v_num=e6_1, total_loss_train=535, kl_local_train=109, metric_mi|age_categorical_train=0.207]"
     ]
    },
    {
     "name": "stdout",
     "output_type": "stream",
     "text": [
      "\r\n",
      "Epoch 276/600:  46%|████▌     | 276/600 [4:32:07<5:50:40, 64.94s/it, v_num=e6_1, total_loss_train=534, kl_local_train=109, metric_mi|age_categorical_train=0.205]"
     ]
    },
    {
     "name": "stdout",
     "output_type": "stream",
     "text": [
      "\r\n",
      "Epoch 277/600:  46%|████▌     | 276/600 [4:32:07<5:50:40, 64.94s/it, v_num=e6_1, total_loss_train=534, kl_local_train=109, metric_mi|age_categorical_train=0.205]"
     ]
    },
    {
     "name": "stdout",
     "output_type": "stream",
     "text": [
      "\r\n",
      "Epoch 277/600:  46%|████▌     | 277/600 [4:33:11<5:47:47, 64.61s/it, v_num=e6_1, total_loss_train=534, kl_local_train=109, metric_mi|age_categorical_train=0.205]"
     ]
    },
    {
     "name": "stdout",
     "output_type": "stream",
     "text": [
      "\r\n",
      "Epoch 277/600:  46%|████▌     | 277/600 [4:33:11<5:47:47, 64.61s/it, v_num=e6_1, total_loss_train=535, kl_local_train=109, metric_mi|age_categorical_train=0.205]"
     ]
    },
    {
     "name": "stdout",
     "output_type": "stream",
     "text": [
      "\r\n",
      "Epoch 278/600:  46%|████▌     | 277/600 [4:33:11<5:47:47, 64.61s/it, v_num=e6_1, total_loss_train=535, kl_local_train=109, metric_mi|age_categorical_train=0.205]"
     ]
    },
    {
     "name": "stdout",
     "output_type": "stream",
     "text": [
      "\r\n",
      "Epoch 278/600:  46%|████▋     | 278/600 [4:34:16<5:47:07, 64.68s/it, v_num=e6_1, total_loss_train=535, kl_local_train=109, metric_mi|age_categorical_train=0.205]"
     ]
    },
    {
     "name": "stdout",
     "output_type": "stream",
     "text": [
      "\r\n",
      "Epoch 278/600:  46%|████▋     | 278/600 [4:34:16<5:47:07, 64.68s/it, v_num=e6_1, total_loss_train=535, kl_local_train=109, metric_mi|age_categorical_train=0.205]"
     ]
    },
    {
     "name": "stdout",
     "output_type": "stream",
     "text": [
      "\r\n",
      "Epoch 279/600:  46%|████▋     | 278/600 [4:34:16<5:47:07, 64.68s/it, v_num=e6_1, total_loss_train=535, kl_local_train=109, metric_mi|age_categorical_train=0.205]"
     ]
    },
    {
     "name": "stdout",
     "output_type": "stream",
     "text": [
      "\r\n",
      "Epoch 279/600:  46%|████▋     | 279/600 [4:35:12<5:32:41, 62.18s/it, v_num=e6_1, total_loss_train=535, kl_local_train=109, metric_mi|age_categorical_train=0.205]"
     ]
    },
    {
     "name": "stdout",
     "output_type": "stream",
     "text": [
      "\r\n",
      "Epoch 279/600:  46%|████▋     | 279/600 [4:35:12<5:32:41, 62.18s/it, v_num=e6_1, total_loss_train=535, kl_local_train=108, metric_mi|age_categorical_train=0.205]"
     ]
    },
    {
     "name": "stdout",
     "output_type": "stream",
     "text": [
      "\r\n",
      "Epoch 280/600:  46%|████▋     | 279/600 [4:35:12<5:32:41, 62.18s/it, v_num=e6_1, total_loss_train=535, kl_local_train=108, metric_mi|age_categorical_train=0.205]"
     ]
    },
    {
     "name": "stdout",
     "output_type": "stream",
     "text": [
      "\r\n",
      "Epoch 280/600:  47%|████▋     | 280/600 [4:36:08<5:22:06, 60.40s/it, v_num=e6_1, total_loss_train=535, kl_local_train=108, metric_mi|age_categorical_train=0.205]"
     ]
    },
    {
     "name": "stdout",
     "output_type": "stream",
     "text": [
      "\r\n",
      "Epoch 280/600:  47%|████▋     | 280/600 [4:36:08<5:22:06, 60.40s/it, v_num=e6_1, total_loss_train=535, kl_local_train=108, metric_mi|age_categorical_train=0.205]"
     ]
    },
    {
     "name": "stdout",
     "output_type": "stream",
     "text": [
      "\r\n",
      "Epoch 281/600:  47%|████▋     | 280/600 [4:36:09<5:22:06, 60.40s/it, v_num=e6_1, total_loss_train=535, kl_local_train=108, metric_mi|age_categorical_train=0.205]"
     ]
    },
    {
     "name": "stdout",
     "output_type": "stream",
     "text": [
      "\r\n",
      "Epoch 281/600:  47%|████▋     | 281/600 [4:37:08<5:20:38, 60.31s/it, v_num=e6_1, total_loss_train=535, kl_local_train=108, metric_mi|age_categorical_train=0.205]"
     ]
    },
    {
     "name": "stdout",
     "output_type": "stream",
     "text": [
      "\r\n",
      "Epoch 281/600:  47%|████▋     | 281/600 [4:37:08<5:20:38, 60.31s/it, v_num=e6_1, total_loss_train=535, kl_local_train=108, metric_mi|age_categorical_train=0.207]"
     ]
    },
    {
     "name": "stdout",
     "output_type": "stream",
     "text": [
      "\r\n",
      "Epoch 282/600:  47%|████▋     | 281/600 [4:37:08<5:20:38, 60.31s/it, v_num=e6_1, total_loss_train=535, kl_local_train=108, metric_mi|age_categorical_train=0.207]"
     ]
    },
    {
     "name": "stdout",
     "output_type": "stream",
     "text": [
      "\r\n",
      "Epoch 282/600:  47%|████▋     | 282/600 [4:38:10<5:21:00, 60.57s/it, v_num=e6_1, total_loss_train=535, kl_local_train=108, metric_mi|age_categorical_train=0.207]"
     ]
    },
    {
     "name": "stdout",
     "output_type": "stream",
     "text": [
      "\r\n",
      "Epoch 282/600:  47%|████▋     | 282/600 [4:38:10<5:21:00, 60.57s/it, v_num=e6_1, total_loss_train=535, kl_local_train=108, metric_mi|age_categorical_train=0.207]"
     ]
    },
    {
     "name": "stdout",
     "output_type": "stream",
     "text": [
      "\r\n",
      "Epoch 283/600:  47%|████▋     | 282/600 [4:38:10<5:21:00, 60.57s/it, v_num=e6_1, total_loss_train=535, kl_local_train=108, metric_mi|age_categorical_train=0.207]"
     ]
    },
    {
     "name": "stdout",
     "output_type": "stream",
     "text": [
      "\r\n",
      "Epoch 283/600:  47%|████▋     | 283/600 [4:39:11<5:21:58, 60.94s/it, v_num=e6_1, total_loss_train=535, kl_local_train=108, metric_mi|age_categorical_train=0.207]"
     ]
    },
    {
     "name": "stdout",
     "output_type": "stream",
     "text": [
      "\r\n",
      "Epoch 283/600:  47%|████▋     | 283/600 [4:39:11<5:21:58, 60.94s/it, v_num=e6_1, total_loss_train=535, kl_local_train=107, metric_mi|age_categorical_train=0.207]"
     ]
    },
    {
     "name": "stdout",
     "output_type": "stream",
     "text": [
      "\r\n",
      "Epoch 284/600:  47%|████▋     | 283/600 [4:39:11<5:21:58, 60.94s/it, v_num=e6_1, total_loss_train=535, kl_local_train=107, metric_mi|age_categorical_train=0.207]"
     ]
    },
    {
     "name": "stdout",
     "output_type": "stream",
     "text": [
      "\r\n",
      "Epoch 284/600:  47%|████▋     | 284/600 [4:40:12<5:20:46, 60.91s/it, v_num=e6_1, total_loss_train=535, kl_local_train=107, metric_mi|age_categorical_train=0.207]"
     ]
    },
    {
     "name": "stdout",
     "output_type": "stream",
     "text": [
      "\r\n",
      "Epoch 284/600:  47%|████▋     | 284/600 [4:40:12<5:20:46, 60.91s/it, v_num=e6_1, total_loss_train=535, kl_local_train=107, metric_mi|age_categorical_train=0.207]"
     ]
    },
    {
     "name": "stdout",
     "output_type": "stream",
     "text": [
      "\r\n",
      "Epoch 285/600:  47%|████▋     | 284/600 [4:40:12<5:20:46, 60.91s/it, v_num=e6_1, total_loss_train=535, kl_local_train=107, metric_mi|age_categorical_train=0.207]"
     ]
    },
    {
     "name": "stdout",
     "output_type": "stream",
     "text": [
      "\r\n",
      "Epoch 285/600:  48%|████▊     | 285/600 [4:41:15<5:22:24, 61.41s/it, v_num=e6_1, total_loss_train=535, kl_local_train=107, metric_mi|age_categorical_train=0.207]"
     ]
    },
    {
     "name": "stdout",
     "output_type": "stream",
     "text": [
      "\r\n",
      "Epoch 285/600:  48%|████▊     | 285/600 [4:41:15<5:22:24, 61.41s/it, v_num=e6_1, total_loss_train=535, kl_local_train=107, metric_mi|age_categorical_train=0.207]"
     ]
    },
    {
     "name": "stdout",
     "output_type": "stream",
     "text": [
      "\r\n",
      "Epoch 286/600:  48%|████▊     | 285/600 [4:41:16<5:22:24, 61.41s/it, v_num=e6_1, total_loss_train=535, kl_local_train=107, metric_mi|age_categorical_train=0.207]"
     ]
    },
    {
     "name": "stdout",
     "output_type": "stream",
     "text": [
      "\r\n",
      "Epoch 286/600:  48%|████▊     | 286/600 [4:42:17<5:22:46, 61.68s/it, v_num=e6_1, total_loss_train=535, kl_local_train=107, metric_mi|age_categorical_train=0.207]"
     ]
    },
    {
     "name": "stdout",
     "output_type": "stream",
     "text": [
      "\r\n",
      "Epoch 286/600:  48%|████▊     | 286/600 [4:42:17<5:22:46, 61.68s/it, v_num=e6_1, total_loss_train=535, kl_local_train=107, metric_mi|age_categorical_train=0.21] "
     ]
    },
    {
     "name": "stdout",
     "output_type": "stream",
     "text": [
      "\r\n",
      "Epoch 287/600:  48%|████▊     | 286/600 [4:42:17<5:22:46, 61.68s/it, v_num=e6_1, total_loss_train=535, kl_local_train=107, metric_mi|age_categorical_train=0.21]"
     ]
    },
    {
     "name": "stdout",
     "output_type": "stream",
     "text": [
      "\r\n",
      "Epoch 287/600:  48%|████▊     | 287/600 [4:43:18<5:20:10, 61.38s/it, v_num=e6_1, total_loss_train=535, kl_local_train=107, metric_mi|age_categorical_train=0.21]"
     ]
    },
    {
     "name": "stdout",
     "output_type": "stream",
     "text": [
      "\r\n",
      "Epoch 287/600:  48%|████▊     | 287/600 [4:43:18<5:20:10, 61.38s/it, v_num=e6_1, total_loss_train=535, kl_local_train=107, metric_mi|age_categorical_train=0.21]"
     ]
    },
    {
     "name": "stdout",
     "output_type": "stream",
     "text": [
      "\r\n",
      "Epoch 288/600:  48%|████▊     | 287/600 [4:43:18<5:20:10, 61.38s/it, v_num=e6_1, total_loss_train=535, kl_local_train=107, metric_mi|age_categorical_train=0.21]"
     ]
    },
    {
     "name": "stdout",
     "output_type": "stream",
     "text": [
      "\r\n",
      "Epoch 288/600:  48%|████▊     | 288/600 [4:44:19<5:19:22, 61.42s/it, v_num=e6_1, total_loss_train=535, kl_local_train=107, metric_mi|age_categorical_train=0.21]"
     ]
    },
    {
     "name": "stdout",
     "output_type": "stream",
     "text": [
      "\r\n",
      "Epoch 288/600:  48%|████▊     | 288/600 [4:44:19<5:19:22, 61.42s/it, v_num=e6_1, total_loss_train=535, kl_local_train=107, metric_mi|age_categorical_train=0.21]"
     ]
    },
    {
     "name": "stdout",
     "output_type": "stream",
     "text": [
      "\r\n",
      "Epoch 289/600:  48%|████▊     | 288/600 [4:44:19<5:19:22, 61.42s/it, v_num=e6_1, total_loss_train=535, kl_local_train=107, metric_mi|age_categorical_train=0.21]"
     ]
    },
    {
     "name": "stdout",
     "output_type": "stream",
     "text": [
      "\r\n",
      "Epoch 289/600:  48%|████▊     | 289/600 [4:45:21<5:19:03, 61.55s/it, v_num=e6_1, total_loss_train=535, kl_local_train=107, metric_mi|age_categorical_train=0.21]"
     ]
    },
    {
     "name": "stdout",
     "output_type": "stream",
     "text": [
      "\r\n",
      "Epoch 289/600:  48%|████▊     | 289/600 [4:45:21<5:19:03, 61.55s/it, v_num=e6_1, total_loss_train=536, kl_local_train=107, metric_mi|age_categorical_train=0.21]"
     ]
    },
    {
     "name": "stdout",
     "output_type": "stream",
     "text": [
      "\r\n",
      "Epoch 290/600:  48%|████▊     | 289/600 [4:45:21<5:19:03, 61.55s/it, v_num=e6_1, total_loss_train=536, kl_local_train=107, metric_mi|age_categorical_train=0.21]"
     ]
    },
    {
     "name": "stdout",
     "output_type": "stream",
     "text": [
      "\r\n",
      "Epoch 290/600:  48%|████▊     | 290/600 [4:46:25<5:21:07, 62.15s/it, v_num=e6_1, total_loss_train=536, kl_local_train=107, metric_mi|age_categorical_train=0.21]"
     ]
    },
    {
     "name": "stdout",
     "output_type": "stream",
     "text": [
      "\r\n",
      "Epoch 290/600:  48%|████▊     | 290/600 [4:46:25<5:21:07, 62.15s/it, v_num=e6_1, total_loss_train=536, kl_local_train=107, metric_mi|age_categorical_train=0.21]"
     ]
    },
    {
     "name": "stdout",
     "output_type": "stream",
     "text": [
      "\r\n",
      "Epoch 291/600:  48%|████▊     | 290/600 [4:46:26<5:21:07, 62.15s/it, v_num=e6_1, total_loss_train=536, kl_local_train=107, metric_mi|age_categorical_train=0.21]"
     ]
    },
    {
     "name": "stdout",
     "output_type": "stream",
     "text": [
      "\r\n",
      "Epoch 291/600:  48%|████▊     | 291/600 [4:47:32<5:27:56, 63.68s/it, v_num=e6_1, total_loss_train=536, kl_local_train=107, metric_mi|age_categorical_train=0.21]"
     ]
    },
    {
     "name": "stdout",
     "output_type": "stream",
     "text": [
      "\r\n",
      "Epoch 291/600:  48%|████▊     | 291/600 [4:47:32<5:27:56, 63.68s/it, v_num=e6_1, total_loss_train=536, kl_local_train=107, metric_mi|age_categorical_train=0.215]"
     ]
    },
    {
     "name": "stdout",
     "output_type": "stream",
     "text": [
      "\r\n",
      "Epoch 292/600:  48%|████▊     | 291/600 [4:47:32<5:27:56, 63.68s/it, v_num=e6_1, total_loss_train=536, kl_local_train=107, metric_mi|age_categorical_train=0.215]"
     ]
    },
    {
     "name": "stdout",
     "output_type": "stream",
     "text": [
      "\r\n",
      "Epoch 292/600:  49%|████▊     | 292/600 [4:48:34<5:24:26, 63.20s/it, v_num=e6_1, total_loss_train=536, kl_local_train=107, metric_mi|age_categorical_train=0.215]"
     ]
    },
    {
     "name": "stdout",
     "output_type": "stream",
     "text": [
      "\r\n",
      "Epoch 292/600:  49%|████▊     | 292/600 [4:48:34<5:24:26, 63.20s/it, v_num=e6_1, total_loss_train=536, kl_local_train=106, metric_mi|age_categorical_train=0.215]"
     ]
    },
    {
     "name": "stdout",
     "output_type": "stream",
     "text": [
      "\r\n",
      "Epoch 293/600:  49%|████▊     | 292/600 [4:48:34<5:24:26, 63.20s/it, v_num=e6_1, total_loss_train=536, kl_local_train=106, metric_mi|age_categorical_train=0.215]"
     ]
    },
    {
     "name": "stdout",
     "output_type": "stream",
     "text": [
      "\r\n",
      "Epoch 293/600:  49%|████▉     | 293/600 [4:49:36<5:21:41, 62.87s/it, v_num=e6_1, total_loss_train=536, kl_local_train=106, metric_mi|age_categorical_train=0.215]"
     ]
    },
    {
     "name": "stdout",
     "output_type": "stream",
     "text": [
      "\r\n",
      "Epoch 293/600:  49%|████▉     | 293/600 [4:49:36<5:21:41, 62.87s/it, v_num=e6_1, total_loss_train=536, kl_local_train=106, metric_mi|age_categorical_train=0.215]"
     ]
    },
    {
     "name": "stdout",
     "output_type": "stream",
     "text": [
      "\r\n",
      "Epoch 294/600:  49%|████▉     | 293/600 [4:49:36<5:21:41, 62.87s/it, v_num=e6_1, total_loss_train=536, kl_local_train=106, metric_mi|age_categorical_train=0.215]"
     ]
    },
    {
     "name": "stdout",
     "output_type": "stream",
     "text": [
      "\r\n",
      "Epoch 294/600:  49%|████▉     | 294/600 [4:50:37<5:17:54, 62.34s/it, v_num=e6_1, total_loss_train=536, kl_local_train=106, metric_mi|age_categorical_train=0.215]"
     ]
    },
    {
     "name": "stdout",
     "output_type": "stream",
     "text": [
      "\r\n",
      "Epoch 294/600:  49%|████▉     | 294/600 [4:50:37<5:17:54, 62.34s/it, v_num=e6_1, total_loss_train=536, kl_local_train=105, metric_mi|age_categorical_train=0.215]"
     ]
    },
    {
     "name": "stdout",
     "output_type": "stream",
     "text": [
      "\r\n",
      "Epoch 295/600:  49%|████▉     | 294/600 [4:50:37<5:17:54, 62.34s/it, v_num=e6_1, total_loss_train=536, kl_local_train=105, metric_mi|age_categorical_train=0.215]"
     ]
    },
    {
     "name": "stdout",
     "output_type": "stream",
     "text": [
      "\r\n",
      "Epoch 295/600:  49%|████▉     | 295/600 [4:51:39<5:16:00, 62.17s/it, v_num=e6_1, total_loss_train=536, kl_local_train=105, metric_mi|age_categorical_train=0.215]"
     ]
    },
    {
     "name": "stdout",
     "output_type": "stream",
     "text": [
      "\r\n",
      "Epoch 295/600:  49%|████▉     | 295/600 [4:51:39<5:16:00, 62.17s/it, v_num=e6_1, total_loss_train=536, kl_local_train=106, metric_mi|age_categorical_train=0.215]"
     ]
    },
    {
     "name": "stdout",
     "output_type": "stream",
     "text": [
      "\r\n",
      "Epoch 296/600:  49%|████▉     | 295/600 [4:51:40<5:16:00, 62.17s/it, v_num=e6_1, total_loss_train=536, kl_local_train=106, metric_mi|age_categorical_train=0.215]"
     ]
    },
    {
     "name": "stdout",
     "output_type": "stream",
     "text": [
      "\r\n",
      "Epoch 296/600:  49%|████▉     | 296/600 [4:52:38<5:09:35, 61.10s/it, v_num=e6_1, total_loss_train=536, kl_local_train=106, metric_mi|age_categorical_train=0.215]"
     ]
    },
    {
     "name": "stdout",
     "output_type": "stream",
     "text": [
      "\r\n",
      "Epoch 296/600:  49%|████▉     | 296/600 [4:52:38<5:09:35, 61.10s/it, v_num=e6_1, total_loss_train=536, kl_local_train=106, metric_mi|age_categorical_train=0.216]"
     ]
    },
    {
     "name": "stdout",
     "output_type": "stream",
     "text": [
      "\r\n",
      "Epoch 297/600:  49%|████▉     | 296/600 [4:52:38<5:09:35, 61.10s/it, v_num=e6_1, total_loss_train=536, kl_local_train=106, metric_mi|age_categorical_train=0.216]"
     ]
    },
    {
     "name": "stdout",
     "output_type": "stream",
     "text": [
      "\r\n",
      "Epoch 297/600:  50%|████▉     | 297/600 [4:53:37<5:05:14, 60.45s/it, v_num=e6_1, total_loss_train=536, kl_local_train=106, metric_mi|age_categorical_train=0.216]"
     ]
    },
    {
     "name": "stdout",
     "output_type": "stream",
     "text": [
      "\r\n",
      "Epoch 297/600:  50%|████▉     | 297/600 [4:53:37<5:05:14, 60.45s/it, v_num=e6_1, total_loss_train=536, kl_local_train=105, metric_mi|age_categorical_train=0.216]"
     ]
    },
    {
     "name": "stdout",
     "output_type": "stream",
     "text": [
      "\r\n",
      "Epoch 298/600:  50%|████▉     | 297/600 [4:53:37<5:05:14, 60.45s/it, v_num=e6_1, total_loss_train=536, kl_local_train=105, metric_mi|age_categorical_train=0.216]"
     ]
    },
    {
     "name": "stdout",
     "output_type": "stream",
     "text": [
      "\r\n",
      "Epoch 298/600:  50%|████▉     | 298/600 [4:54:40<5:09:25, 61.48s/it, v_num=e6_1, total_loss_train=536, kl_local_train=105, metric_mi|age_categorical_train=0.216]"
     ]
    },
    {
     "name": "stdout",
     "output_type": "stream",
     "text": [
      "\r\n",
      "Epoch 298/600:  50%|████▉     | 298/600 [4:54:40<5:09:25, 61.48s/it, v_num=e6_1, total_loss_train=536, kl_local_train=105, metric_mi|age_categorical_train=0.216]"
     ]
    },
    {
     "name": "stdout",
     "output_type": "stream",
     "text": [
      "\r\n",
      "Epoch 299/600:  50%|████▉     | 298/600 [4:54:40<5:09:25, 61.48s/it, v_num=e6_1, total_loss_train=536, kl_local_train=105, metric_mi|age_categorical_train=0.216]"
     ]
    },
    {
     "name": "stdout",
     "output_type": "stream",
     "text": [
      "\r\n",
      "Epoch 299/600:  50%|████▉     | 299/600 [4:55:43<5:10:29, 61.89s/it, v_num=e6_1, total_loss_train=536, kl_local_train=105, metric_mi|age_categorical_train=0.216]"
     ]
    },
    {
     "name": "stdout",
     "output_type": "stream",
     "text": [
      "\r\n",
      "Epoch 299/600:  50%|████▉     | 299/600 [4:55:43<5:10:29, 61.89s/it, v_num=e6_1, total_loss_train=537, kl_local_train=105, metric_mi|age_categorical_train=0.216]"
     ]
    },
    {
     "name": "stdout",
     "output_type": "stream",
     "text": [
      "\r\n",
      "Epoch 300/600:  50%|████▉     | 299/600 [4:55:43<5:10:29, 61.89s/it, v_num=e6_1, total_loss_train=537, kl_local_train=105, metric_mi|age_categorical_train=0.216]"
     ]
    },
    {
     "name": "stdout",
     "output_type": "stream",
     "text": [
      "\r\n",
      "Epoch 300/600:  50%|█████     | 300/600 [4:56:48<5:13:04, 62.62s/it, v_num=e6_1, total_loss_train=537, kl_local_train=105, metric_mi|age_categorical_train=0.216]"
     ]
    },
    {
     "name": "stdout",
     "output_type": "stream",
     "text": [
      "\r\n",
      "Epoch 300/600:  50%|█████     | 300/600 [4:56:48<5:13:04, 62.62s/it, v_num=e6_1, total_loss_train=536, kl_local_train=104, metric_mi|age_categorical_train=0.216]"
     ]
    },
    {
     "name": "stdout",
     "output_type": "stream",
     "text": [
      "\r\n",
      "Epoch 301/600:  50%|█████     | 300/600 [4:56:49<5:13:04, 62.62s/it, v_num=e6_1, total_loss_train=536, kl_local_train=104, metric_mi|age_categorical_train=0.216]"
     ]
    },
    {
     "name": "stdout",
     "output_type": "stream",
     "text": [
      "\r\n",
      "Epoch 301/600:  50%|█████     | 301/600 [4:57:50<5:12:15, 62.66s/it, v_num=e6_1, total_loss_train=536, kl_local_train=104, metric_mi|age_categorical_train=0.216]"
     ]
    },
    {
     "name": "stdout",
     "output_type": "stream",
     "text": [
      "\r\n",
      "Epoch 301/600:  50%|█████     | 301/600 [4:57:50<5:12:15, 62.66s/it, v_num=e6_1, total_loss_train=536, kl_local_train=104, metric_mi|age_categorical_train=0.215]"
     ]
    },
    {
     "name": "stdout",
     "output_type": "stream",
     "text": [
      "\r\n",
      "Epoch 302/600:  50%|█████     | 301/600 [4:57:50<5:12:15, 62.66s/it, v_num=e6_1, total_loss_train=536, kl_local_train=104, metric_mi|age_categorical_train=0.215]"
     ]
    },
    {
     "name": "stdout",
     "output_type": "stream",
     "text": [
      "\r\n",
      "Epoch 302/600:  50%|█████     | 302/600 [4:58:55<5:14:08, 63.25s/it, v_num=e6_1, total_loss_train=536, kl_local_train=104, metric_mi|age_categorical_train=0.215]"
     ]
    },
    {
     "name": "stdout",
     "output_type": "stream",
     "text": [
      "\r\n",
      "Epoch 302/600:  50%|█████     | 302/600 [4:58:55<5:14:08, 63.25s/it, v_num=e6_1, total_loss_train=537, kl_local_train=104, metric_mi|age_categorical_train=0.215]"
     ]
    },
    {
     "name": "stdout",
     "output_type": "stream",
     "text": [
      "\r\n",
      "Epoch 303/600:  50%|█████     | 302/600 [4:58:55<5:14:08, 63.25s/it, v_num=e6_1, total_loss_train=537, kl_local_train=104, metric_mi|age_categorical_train=0.215]"
     ]
    },
    {
     "name": "stdout",
     "output_type": "stream",
     "text": [
      "\r\n",
      "Epoch 303/600:  50%|█████     | 303/600 [5:00:02<5:19:00, 64.45s/it, v_num=e6_1, total_loss_train=537, kl_local_train=104, metric_mi|age_categorical_train=0.215]"
     ]
    },
    {
     "name": "stdout",
     "output_type": "stream",
     "text": [
      "\r\n",
      "Epoch 303/600:  50%|█████     | 303/600 [5:00:02<5:19:00, 64.45s/it, v_num=e6_1, total_loss_train=537, kl_local_train=104, metric_mi|age_categorical_train=0.215]"
     ]
    },
    {
     "name": "stdout",
     "output_type": "stream",
     "text": [
      "\r\n",
      "Epoch 304/600:  50%|█████     | 303/600 [5:00:02<5:19:00, 64.45s/it, v_num=e6_1, total_loss_train=537, kl_local_train=104, metric_mi|age_categorical_train=0.215]"
     ]
    },
    {
     "name": "stdout",
     "output_type": "stream",
     "text": [
      "\r\n",
      "Epoch 304/600:  51%|█████     | 304/600 [5:01:08<5:19:17, 64.72s/it, v_num=e6_1, total_loss_train=537, kl_local_train=104, metric_mi|age_categorical_train=0.215]"
     ]
    },
    {
     "name": "stdout",
     "output_type": "stream",
     "text": [
      "\r\n",
      "Epoch 304/600:  51%|█████     | 304/600 [5:01:08<5:19:17, 64.72s/it, v_num=e6_1, total_loss_train=537, kl_local_train=104, metric_mi|age_categorical_train=0.215]"
     ]
    },
    {
     "name": "stdout",
     "output_type": "stream",
     "text": [
      "\r\n",
      "Epoch 305/600:  51%|█████     | 304/600 [5:01:08<5:19:17, 64.72s/it, v_num=e6_1, total_loss_train=537, kl_local_train=104, metric_mi|age_categorical_train=0.215]"
     ]
    },
    {
     "name": "stdout",
     "output_type": "stream",
     "text": [
      "\r\n",
      "Epoch 305/600:  51%|█████     | 305/600 [5:02:10<5:15:14, 64.12s/it, v_num=e6_1, total_loss_train=537, kl_local_train=104, metric_mi|age_categorical_train=0.215]"
     ]
    },
    {
     "name": "stdout",
     "output_type": "stream",
     "text": [
      "\r\n",
      "Epoch 305/600:  51%|█████     | 305/600 [5:02:10<5:15:14, 64.12s/it, v_num=e6_1, total_loss_train=537, kl_local_train=104, metric_mi|age_categorical_train=0.215]"
     ]
    },
    {
     "name": "stdout",
     "output_type": "stream",
     "text": [
      "\r\n",
      "Epoch 306/600:  51%|█████     | 305/600 [5:02:11<5:15:14, 64.12s/it, v_num=e6_1, total_loss_train=537, kl_local_train=104, metric_mi|age_categorical_train=0.215]"
     ]
    },
    {
     "name": "stdout",
     "output_type": "stream",
     "text": [
      "\r\n",
      "Epoch 306/600:  51%|█████     | 306/600 [5:03:12<5:10:18, 63.33s/it, v_num=e6_1, total_loss_train=537, kl_local_train=104, metric_mi|age_categorical_train=0.215]"
     ]
    },
    {
     "name": "stdout",
     "output_type": "stream",
     "text": [
      "\r\n",
      "Epoch 306/600:  51%|█████     | 306/600 [5:03:12<5:10:18, 63.33s/it, v_num=e6_1, total_loss_train=537, kl_local_train=103, metric_mi|age_categorical_train=0.219]"
     ]
    },
    {
     "name": "stdout",
     "output_type": "stream",
     "text": [
      "\r\n",
      "Epoch 307/600:  51%|█████     | 306/600 [5:03:12<5:10:18, 63.33s/it, v_num=e6_1, total_loss_train=537, kl_local_train=103, metric_mi|age_categorical_train=0.219]"
     ]
    },
    {
     "name": "stdout",
     "output_type": "stream",
     "text": [
      "\r\n",
      "Epoch 307/600:  51%|█████     | 307/600 [5:04:15<5:08:35, 63.19s/it, v_num=e6_1, total_loss_train=537, kl_local_train=103, metric_mi|age_categorical_train=0.219]"
     ]
    },
    {
     "name": "stdout",
     "output_type": "stream",
     "text": [
      "\r\n",
      "Epoch 307/600:  51%|█████     | 307/600 [5:04:15<5:08:35, 63.19s/it, v_num=e6_1, total_loss_train=537, kl_local_train=103, metric_mi|age_categorical_train=0.219]"
     ]
    },
    {
     "name": "stdout",
     "output_type": "stream",
     "text": [
      "\r\n",
      "Epoch 308/600:  51%|█████     | 307/600 [5:04:15<5:08:35, 63.19s/it, v_num=e6_1, total_loss_train=537, kl_local_train=103, metric_mi|age_categorical_train=0.219]"
     ]
    },
    {
     "name": "stdout",
     "output_type": "stream",
     "text": [
      "\r\n",
      "Epoch 308/600:  51%|█████▏    | 308/600 [5:05:17<5:06:42, 63.02s/it, v_num=e6_1, total_loss_train=537, kl_local_train=103, metric_mi|age_categorical_train=0.219]"
     ]
    },
    {
     "name": "stdout",
     "output_type": "stream",
     "text": [
      "\r\n",
      "Epoch 308/600:  51%|█████▏    | 308/600 [5:05:17<5:06:42, 63.02s/it, v_num=e6_1, total_loss_train=537, kl_local_train=103, metric_mi|age_categorical_train=0.219]"
     ]
    },
    {
     "name": "stdout",
     "output_type": "stream",
     "text": [
      "\r\n",
      "Epoch 309/600:  51%|█████▏    | 308/600 [5:05:17<5:06:42, 63.02s/it, v_num=e6_1, total_loss_train=537, kl_local_train=103, metric_mi|age_categorical_train=0.219]"
     ]
    },
    {
     "name": "stdout",
     "output_type": "stream",
     "text": [
      "\r\n",
      "Epoch 309/600:  52%|█████▏    | 309/600 [5:06:20<5:05:23, 62.97s/it, v_num=e6_1, total_loss_train=537, kl_local_train=103, metric_mi|age_categorical_train=0.219]"
     ]
    },
    {
     "name": "stdout",
     "output_type": "stream",
     "text": [
      "\r\n",
      "Epoch 309/600:  52%|█████▏    | 309/600 [5:06:20<5:05:23, 62.97s/it, v_num=e6_1, total_loss_train=538, kl_local_train=104, metric_mi|age_categorical_train=0.219]"
     ]
    },
    {
     "name": "stdout",
     "output_type": "stream",
     "text": [
      "\r\n",
      "Epoch 310/600:  52%|█████▏    | 309/600 [5:06:20<5:05:23, 62.97s/it, v_num=e6_1, total_loss_train=538, kl_local_train=104, metric_mi|age_categorical_train=0.219]"
     ]
    },
    {
     "name": "stdout",
     "output_type": "stream",
     "text": [
      "\r\n",
      "Epoch 310/600:  52%|█████▏    | 310/600 [5:07:26<5:08:05, 63.74s/it, v_num=e6_1, total_loss_train=538, kl_local_train=104, metric_mi|age_categorical_train=0.219]"
     ]
    },
    {
     "name": "stdout",
     "output_type": "stream",
     "text": [
      "\r\n",
      "Epoch 310/600:  52%|█████▏    | 310/600 [5:07:26<5:08:05, 63.74s/it, v_num=e6_1, total_loss_train=537, kl_local_train=104, metric_mi|age_categorical_train=0.219]"
     ]
    },
    {
     "name": "stdout",
     "output_type": "stream",
     "text": [
      "\r\n",
      "Epoch 311/600:  52%|█████▏    | 310/600 [5:07:27<5:08:05, 63.74s/it, v_num=e6_1, total_loss_train=537, kl_local_train=104, metric_mi|age_categorical_train=0.219]"
     ]
    },
    {
     "name": "stdout",
     "output_type": "stream",
     "text": [
      "\r\n",
      "Epoch 311/600:  52%|█████▏    | 311/600 [5:08:29<5:06:41, 63.67s/it, v_num=e6_1, total_loss_train=537, kl_local_train=104, metric_mi|age_categorical_train=0.219]"
     ]
    },
    {
     "name": "stdout",
     "output_type": "stream",
     "text": [
      "\r\n",
      "Epoch 311/600:  52%|█████▏    | 311/600 [5:08:29<5:06:41, 63.67s/it, v_num=e6_1, total_loss_train=537, kl_local_train=104, metric_mi|age_categorical_train=0.222]"
     ]
    },
    {
     "name": "stdout",
     "output_type": "stream",
     "text": [
      "\r\n",
      "Epoch 312/600:  52%|█████▏    | 311/600 [5:08:29<5:06:41, 63.67s/it, v_num=e6_1, total_loss_train=537, kl_local_train=104, metric_mi|age_categorical_train=0.222]"
     ]
    },
    {
     "name": "stdout",
     "output_type": "stream",
     "text": [
      "\r\n",
      "Epoch 312/600:  52%|█████▏    | 312/600 [5:09:30<5:01:53, 62.90s/it, v_num=e6_1, total_loss_train=537, kl_local_train=104, metric_mi|age_categorical_train=0.222]"
     ]
    },
    {
     "name": "stdout",
     "output_type": "stream",
     "text": [
      "\r\n",
      "Epoch 312/600:  52%|█████▏    | 312/600 [5:09:30<5:01:53, 62.90s/it, v_num=e6_1, total_loss_train=538, kl_local_train=103, metric_mi|age_categorical_train=0.222]"
     ]
    },
    {
     "name": "stdout",
     "output_type": "stream",
     "text": [
      "\r\n",
      "Epoch 313/600:  52%|█████▏    | 312/600 [5:09:30<5:01:53, 62.90s/it, v_num=e6_1, total_loss_train=538, kl_local_train=103, metric_mi|age_categorical_train=0.222]"
     ]
    },
    {
     "name": "stdout",
     "output_type": "stream",
     "text": [
      "\r\n",
      "Epoch 313/600:  52%|█████▏    | 313/600 [5:10:31<4:56:59, 62.09s/it, v_num=e6_1, total_loss_train=538, kl_local_train=103, metric_mi|age_categorical_train=0.222]"
     ]
    },
    {
     "name": "stdout",
     "output_type": "stream",
     "text": [
      "\r\n",
      "Epoch 313/600:  52%|█████▏    | 313/600 [5:10:31<4:56:59, 62.09s/it, v_num=e6_1, total_loss_train=538, kl_local_train=103, metric_mi|age_categorical_train=0.222]"
     ]
    },
    {
     "name": "stdout",
     "output_type": "stream",
     "text": [
      "\r\n",
      "Epoch 314/600:  52%|█████▏    | 313/600 [5:10:31<4:56:59, 62.09s/it, v_num=e6_1, total_loss_train=538, kl_local_train=103, metric_mi|age_categorical_train=0.222]"
     ]
    },
    {
     "name": "stdout",
     "output_type": "stream",
     "text": [
      "\r\n",
      "Epoch 314/600:  52%|█████▏    | 314/600 [5:11:31<4:53:27, 61.56s/it, v_num=e6_1, total_loss_train=538, kl_local_train=103, metric_mi|age_categorical_train=0.222]"
     ]
    },
    {
     "name": "stdout",
     "output_type": "stream",
     "text": [
      "\r\n",
      "Epoch 314/600:  52%|█████▏    | 314/600 [5:11:31<4:53:27, 61.56s/it, v_num=e6_1, total_loss_train=538, kl_local_train=103, metric_mi|age_categorical_train=0.222]"
     ]
    },
    {
     "name": "stdout",
     "output_type": "stream",
     "text": [
      "\r\n",
      "Epoch 315/600:  52%|█████▏    | 314/600 [5:11:31<4:53:27, 61.56s/it, v_num=e6_1, total_loss_train=538, kl_local_train=103, metric_mi|age_categorical_train=0.222]"
     ]
    },
    {
     "name": "stdout",
     "output_type": "stream",
     "text": [
      "\r\n",
      "Epoch 315/600:  52%|█████▎    | 315/600 [5:12:33<4:53:36, 61.81s/it, v_num=e6_1, total_loss_train=538, kl_local_train=103, metric_mi|age_categorical_train=0.222]"
     ]
    },
    {
     "name": "stdout",
     "output_type": "stream",
     "text": [
      "\r\n",
      "Epoch 315/600:  52%|█████▎    | 315/600 [5:12:33<4:53:36, 61.81s/it, v_num=e6_1, total_loss_train=538, kl_local_train=103, metric_mi|age_categorical_train=0.222]"
     ]
    },
    {
     "name": "stdout",
     "output_type": "stream",
     "text": [
      "\r\n",
      "Epoch 316/600:  52%|█████▎    | 315/600 [5:12:34<4:53:36, 61.81s/it, v_num=e6_1, total_loss_train=538, kl_local_train=103, metric_mi|age_categorical_train=0.222]"
     ]
    },
    {
     "name": "stdout",
     "output_type": "stream",
     "text": [
      "\r\n",
      "Epoch 316/600:  53%|█████▎    | 316/600 [5:13:40<4:59:31, 63.28s/it, v_num=e6_1, total_loss_train=538, kl_local_train=103, metric_mi|age_categorical_train=0.222]"
     ]
    },
    {
     "name": "stdout",
     "output_type": "stream",
     "text": [
      "\r\n",
      "Epoch 316/600:  53%|█████▎    | 316/600 [5:13:40<4:59:31, 63.28s/it, v_num=e6_1, total_loss_train=538, kl_local_train=103, metric_mi|age_categorical_train=0.223]"
     ]
    },
    {
     "name": "stdout",
     "output_type": "stream",
     "text": [
      "\r\n",
      "Epoch 317/600:  53%|█████▎    | 316/600 [5:13:40<4:59:31, 63.28s/it, v_num=e6_1, total_loss_train=538, kl_local_train=103, metric_mi|age_categorical_train=0.223]"
     ]
    },
    {
     "name": "stdout",
     "output_type": "stream",
     "text": [
      "\r\n",
      "Epoch 317/600:  53%|█████▎    | 317/600 [5:14:38<4:51:13, 61.74s/it, v_num=e6_1, total_loss_train=538, kl_local_train=103, metric_mi|age_categorical_train=0.223]"
     ]
    },
    {
     "name": "stdout",
     "output_type": "stream",
     "text": [
      "\r\n",
      "Epoch 317/600:  53%|█████▎    | 317/600 [5:14:38<4:51:13, 61.74s/it, v_num=e6_1, total_loss_train=538, kl_local_train=102, metric_mi|age_categorical_train=0.223]"
     ]
    },
    {
     "name": "stdout",
     "output_type": "stream",
     "text": [
      "\r\n",
      "Epoch 318/600:  53%|█████▎    | 317/600 [5:14:38<4:51:13, 61.74s/it, v_num=e6_1, total_loss_train=538, kl_local_train=102, metric_mi|age_categorical_train=0.223]"
     ]
    },
    {
     "name": "stdout",
     "output_type": "stream",
     "text": [
      "\r\n",
      "Epoch 318/600:  53%|█████▎    | 318/600 [5:15:35<4:42:46, 60.17s/it, v_num=e6_1, total_loss_train=538, kl_local_train=102, metric_mi|age_categorical_train=0.223]"
     ]
    },
    {
     "name": "stdout",
     "output_type": "stream",
     "text": [
      "\r\n",
      "Epoch 318/600:  53%|█████▎    | 318/600 [5:15:35<4:42:46, 60.17s/it, v_num=e6_1, total_loss_train=538, kl_local_train=102, metric_mi|age_categorical_train=0.223]"
     ]
    },
    {
     "name": "stdout",
     "output_type": "stream",
     "text": [
      "\r\n",
      "Epoch 319/600:  53%|█████▎    | 318/600 [5:15:35<4:42:46, 60.17s/it, v_num=e6_1, total_loss_train=538, kl_local_train=102, metric_mi|age_categorical_train=0.223]"
     ]
    },
    {
     "name": "stdout",
     "output_type": "stream",
     "text": [
      "\r\n",
      "Epoch 319/600:  53%|█████▎    | 319/600 [5:16:31<4:36:03, 58.95s/it, v_num=e6_1, total_loss_train=538, kl_local_train=102, metric_mi|age_categorical_train=0.223]"
     ]
    },
    {
     "name": "stdout",
     "output_type": "stream",
     "text": [
      "\r\n",
      "Epoch 319/600:  53%|█████▎    | 319/600 [5:16:31<4:36:03, 58.95s/it, v_num=e6_1, total_loss_train=539, kl_local_train=102, metric_mi|age_categorical_train=0.223]"
     ]
    },
    {
     "name": "stdout",
     "output_type": "stream",
     "text": [
      "\r\n",
      "Epoch 320/600:  53%|█████▎    | 319/600 [5:16:31<4:36:03, 58.95s/it, v_num=e6_1, total_loss_train=539, kl_local_train=102, metric_mi|age_categorical_train=0.223]"
     ]
    },
    {
     "name": "stdout",
     "output_type": "stream",
     "text": [
      "\r\n",
      "Epoch 320/600:  53%|█████▎    | 320/600 [5:17:28<4:33:13, 58.55s/it, v_num=e6_1, total_loss_train=539, kl_local_train=102, metric_mi|age_categorical_train=0.223]"
     ]
    },
    {
     "name": "stdout",
     "output_type": "stream",
     "text": [
      "\r\n",
      "Epoch 320/600:  53%|█████▎    | 320/600 [5:17:28<4:33:13, 58.55s/it, v_num=e6_1, total_loss_train=539, kl_local_train=102, metric_mi|age_categorical_train=0.223]"
     ]
    },
    {
     "name": "stdout",
     "output_type": "stream",
     "text": [
      "\r\n",
      "Epoch 321/600:  53%|█████▎    | 320/600 [5:17:29<4:33:13, 58.55s/it, v_num=e6_1, total_loss_train=539, kl_local_train=102, metric_mi|age_categorical_train=0.223]"
     ]
    },
    {
     "name": "stdout",
     "output_type": "stream",
     "text": [
      "\r\n",
      "Epoch 321/600:  54%|█████▎    | 321/600 [5:18:26<4:31:24, 58.37s/it, v_num=e6_1, total_loss_train=539, kl_local_train=102, metric_mi|age_categorical_train=0.223]"
     ]
    },
    {
     "name": "stdout",
     "output_type": "stream",
     "text": [
      "\r\n",
      "Epoch 321/600:  54%|█████▎    | 321/600 [5:18:26<4:31:24, 58.37s/it, v_num=e6_1, total_loss_train=538, kl_local_train=101, metric_mi|age_categorical_train=0.221]"
     ]
    },
    {
     "name": "stdout",
     "output_type": "stream",
     "text": [
      "\r\n",
      "Epoch 322/600:  54%|█████▎    | 321/600 [5:18:26<4:31:24, 58.37s/it, v_num=e6_1, total_loss_train=538, kl_local_train=101, metric_mi|age_categorical_train=0.221]"
     ]
    },
    {
     "name": "stdout",
     "output_type": "stream",
     "text": [
      "\r\n",
      "Epoch 322/600:  54%|█████▎    | 322/600 [5:19:23<4:28:20, 57.91s/it, v_num=e6_1, total_loss_train=538, kl_local_train=101, metric_mi|age_categorical_train=0.221]"
     ]
    },
    {
     "name": "stdout",
     "output_type": "stream",
     "text": [
      "\r\n",
      "Epoch 322/600:  54%|█████▎    | 322/600 [5:19:23<4:28:20, 57.91s/it, v_num=e6_1, total_loss_train=538, kl_local_train=101, metric_mi|age_categorical_train=0.221]"
     ]
    },
    {
     "name": "stdout",
     "output_type": "stream",
     "text": [
      "\r\n",
      "Epoch 323/600:  54%|█████▎    | 322/600 [5:19:23<4:28:20, 57.91s/it, v_num=e6_1, total_loss_train=538, kl_local_train=101, metric_mi|age_categorical_train=0.221]"
     ]
    },
    {
     "name": "stdout",
     "output_type": "stream",
     "text": [
      "\r\n",
      "Epoch 323/600:  54%|█████▍    | 323/600 [5:20:20<4:26:15, 57.67s/it, v_num=e6_1, total_loss_train=538, kl_local_train=101, metric_mi|age_categorical_train=0.221]"
     ]
    },
    {
     "name": "stdout",
     "output_type": "stream",
     "text": [
      "\r\n",
      "Epoch 323/600:  54%|█████▍    | 323/600 [5:20:20<4:26:15, 57.67s/it, v_num=e6_1, total_loss_train=539, kl_local_train=102, metric_mi|age_categorical_train=0.221]"
     ]
    },
    {
     "name": "stdout",
     "output_type": "stream",
     "text": [
      "\r\n",
      "Epoch 324/600:  54%|█████▍    | 323/600 [5:20:20<4:26:15, 57.67s/it, v_num=e6_1, total_loss_train=539, kl_local_train=102, metric_mi|age_categorical_train=0.221]"
     ]
    },
    {
     "name": "stdout",
     "output_type": "stream",
     "text": [
      "\r\n",
      "Epoch 324/600:  54%|█████▍    | 324/600 [5:21:17<4:24:16, 57.45s/it, v_num=e6_1, total_loss_train=539, kl_local_train=102, metric_mi|age_categorical_train=0.221]"
     ]
    },
    {
     "name": "stdout",
     "output_type": "stream",
     "text": [
      "\r\n",
      "Epoch 324/600:  54%|█████▍    | 324/600 [5:21:17<4:24:16, 57.45s/it, v_num=e6_1, total_loss_train=539, kl_local_train=101, metric_mi|age_categorical_train=0.221]"
     ]
    },
    {
     "name": "stdout",
     "output_type": "stream",
     "text": [
      "\r\n",
      "Epoch 325/600:  54%|█████▍    | 324/600 [5:21:17<4:24:16, 57.45s/it, v_num=e6_1, total_loss_train=539, kl_local_train=101, metric_mi|age_categorical_train=0.221]"
     ]
    },
    {
     "name": "stdout",
     "output_type": "stream",
     "text": [
      "\r\n",
      "Epoch 325/600:  54%|█████▍    | 325/600 [5:22:15<4:24:09, 57.64s/it, v_num=e6_1, total_loss_train=539, kl_local_train=101, metric_mi|age_categorical_train=0.221]"
     ]
    },
    {
     "name": "stdout",
     "output_type": "stream",
     "text": [
      "\r\n",
      "Epoch 325/600:  54%|█████▍    | 325/600 [5:22:15<4:24:09, 57.64s/it, v_num=e6_1, total_loss_train=539, kl_local_train=101, metric_mi|age_categorical_train=0.221]"
     ]
    },
    {
     "name": "stdout",
     "output_type": "stream",
     "text": [
      "\r\n",
      "Epoch 326/600:  54%|█████▍    | 325/600 [5:22:16<4:24:09, 57.64s/it, v_num=e6_1, total_loss_train=539, kl_local_train=101, metric_mi|age_categorical_train=0.221]"
     ]
    },
    {
     "name": "stdout",
     "output_type": "stream",
     "text": [
      "\r\n",
      "Epoch 326/600:  54%|█████▍    | 326/600 [5:23:13<4:23:20, 57.67s/it, v_num=e6_1, total_loss_train=539, kl_local_train=101, metric_mi|age_categorical_train=0.221]"
     ]
    },
    {
     "name": "stdout",
     "output_type": "stream",
     "text": [
      "\r\n",
      "Epoch 326/600:  54%|█████▍    | 326/600 [5:23:13<4:23:20, 57.67s/it, v_num=e6_1, total_loss_train=539, kl_local_train=100, metric_mi|age_categorical_train=0.22] "
     ]
    },
    {
     "name": "stdout",
     "output_type": "stream",
     "text": [
      "\r\n",
      "Epoch 327/600:  54%|█████▍    | 326/600 [5:23:13<4:23:20, 57.67s/it, v_num=e6_1, total_loss_train=539, kl_local_train=100, metric_mi|age_categorical_train=0.22]"
     ]
    },
    {
     "name": "stdout",
     "output_type": "stream",
     "text": [
      "\r\n",
      "Epoch 327/600:  55%|█████▍    | 327/600 [5:24:09<4:20:29, 57.25s/it, v_num=e6_1, total_loss_train=539, kl_local_train=100, metric_mi|age_categorical_train=0.22]"
     ]
    },
    {
     "name": "stdout",
     "output_type": "stream",
     "text": [
      "\r\n",
      "Epoch 327/600:  55%|█████▍    | 327/600 [5:24:09<4:20:29, 57.25s/it, v_num=e6_1, total_loss_train=539, kl_local_train=101, metric_mi|age_categorical_train=0.22]"
     ]
    },
    {
     "name": "stdout",
     "output_type": "stream",
     "text": [
      "\r\n",
      "Epoch 328/600:  55%|█████▍    | 327/600 [5:24:09<4:20:29, 57.25s/it, v_num=e6_1, total_loss_train=539, kl_local_train=101, metric_mi|age_categorical_train=0.22]"
     ]
    },
    {
     "name": "stdout",
     "output_type": "stream",
     "text": [
      "\r\n",
      "Epoch 328/600:  55%|█████▍    | 328/600 [5:25:01<4:12:35, 55.72s/it, v_num=e6_1, total_loss_train=539, kl_local_train=101, metric_mi|age_categorical_train=0.22]"
     ]
    },
    {
     "name": "stdout",
     "output_type": "stream",
     "text": [
      "\r\n",
      "Epoch 328/600:  55%|█████▍    | 328/600 [5:25:01<4:12:35, 55.72s/it, v_num=e6_1, total_loss_train=539, kl_local_train=101, metric_mi|age_categorical_train=0.22]"
     ]
    },
    {
     "name": "stdout",
     "output_type": "stream",
     "text": [
      "\r\n",
      "Epoch 329/600:  55%|█████▍    | 328/600 [5:25:01<4:12:35, 55.72s/it, v_num=e6_1, total_loss_train=539, kl_local_train=101, metric_mi|age_categorical_train=0.22]"
     ]
    },
    {
     "name": "stdout",
     "output_type": "stream",
     "text": [
      "\r\n",
      "Epoch 329/600:  55%|█████▍    | 329/600 [5:25:53<4:05:33, 54.37s/it, v_num=e6_1, total_loss_train=539, kl_local_train=101, metric_mi|age_categorical_train=0.22]"
     ]
    },
    {
     "name": "stdout",
     "output_type": "stream",
     "text": [
      "\r\n",
      "Epoch 329/600:  55%|█████▍    | 329/600 [5:25:53<4:05:33, 54.37s/it, v_num=e6_1, total_loss_train=540, kl_local_train=101, metric_mi|age_categorical_train=0.22]"
     ]
    },
    {
     "name": "stdout",
     "output_type": "stream",
     "text": [
      "\r\n",
      "Epoch 330/600:  55%|█████▍    | 329/600 [5:25:53<4:05:33, 54.37s/it, v_num=e6_1, total_loss_train=540, kl_local_train=101, metric_mi|age_categorical_train=0.22]"
     ]
    },
    {
     "name": "stdout",
     "output_type": "stream",
     "text": [
      "\r\n",
      "Epoch 330/600:  55%|█████▌    | 330/600 [5:26:48<4:06:26, 54.76s/it, v_num=e6_1, total_loss_train=540, kl_local_train=101, metric_mi|age_categorical_train=0.22]"
     ]
    },
    {
     "name": "stdout",
     "output_type": "stream",
     "text": [
      "\r\n",
      "Epoch 330/600:  55%|█████▌    | 330/600 [5:26:48<4:06:26, 54.76s/it, v_num=e6_1, total_loss_train=540, kl_local_train=101, metric_mi|age_categorical_train=0.22]"
     ]
    },
    {
     "name": "stdout",
     "output_type": "stream",
     "text": [
      "\r\n",
      "Epoch 331/600:  55%|█████▌    | 330/600 [5:26:49<4:06:26, 54.76s/it, v_num=e6_1, total_loss_train=540, kl_local_train=101, metric_mi|age_categorical_train=0.22]"
     ]
    },
    {
     "name": "stdout",
     "output_type": "stream",
     "text": [
      "\r\n",
      "Epoch 331/600:  55%|█████▌    | 331/600 [5:27:42<4:04:05, 54.44s/it, v_num=e6_1, total_loss_train=540, kl_local_train=101, metric_mi|age_categorical_train=0.22]"
     ]
    },
    {
     "name": "stdout",
     "output_type": "stream",
     "text": [
      "\r\n",
      "Epoch 331/600:  55%|█████▌    | 331/600 [5:27:42<4:04:05, 54.44s/it, v_num=e6_1, total_loss_train=540, kl_local_train=100, metric_mi|age_categorical_train=0.215]"
     ]
    },
    {
     "name": "stdout",
     "output_type": "stream",
     "text": [
      "\r\n",
      "Epoch 332/600:  55%|█████▌    | 331/600 [5:27:42<4:04:05, 54.44s/it, v_num=e6_1, total_loss_train=540, kl_local_train=100, metric_mi|age_categorical_train=0.215]"
     ]
    },
    {
     "name": "stdout",
     "output_type": "stream",
     "text": [
      "\r\n",
      "Epoch 332/600:  55%|█████▌    | 332/600 [5:28:37<4:03:51, 54.59s/it, v_num=e6_1, total_loss_train=540, kl_local_train=100, metric_mi|age_categorical_train=0.215]"
     ]
    },
    {
     "name": "stdout",
     "output_type": "stream",
     "text": [
      "\r\n",
      "Epoch 332/600:  55%|█████▌    | 332/600 [5:28:37<4:03:51, 54.59s/it, v_num=e6_1, total_loss_train=540, kl_local_train=100, metric_mi|age_categorical_train=0.215]"
     ]
    },
    {
     "name": "stdout",
     "output_type": "stream",
     "text": [
      "\r\n",
      "Epoch 333/600:  55%|█████▌    | 332/600 [5:28:37<4:03:51, 54.59s/it, v_num=e6_1, total_loss_train=540, kl_local_train=100, metric_mi|age_categorical_train=0.215]"
     ]
    },
    {
     "name": "stdout",
     "output_type": "stream",
     "text": [
      "\r\n",
      "Epoch 333/600:  56%|█████▌    | 333/600 [5:29:33<4:04:40, 54.98s/it, v_num=e6_1, total_loss_train=540, kl_local_train=100, metric_mi|age_categorical_train=0.215]"
     ]
    },
    {
     "name": "stdout",
     "output_type": "stream",
     "text": [
      "\r\n",
      "Epoch 333/600:  56%|█████▌    | 333/600 [5:29:33<4:04:40, 54.98s/it, v_num=e6_1, total_loss_train=540, kl_local_train=99.7, metric_mi|age_categorical_train=0.215]"
     ]
    },
    {
     "name": "stdout",
     "output_type": "stream",
     "text": [
      "\r\n",
      "Epoch 334/600:  56%|█████▌    | 333/600 [5:29:33<4:04:40, 54.98s/it, v_num=e6_1, total_loss_train=540, kl_local_train=99.7, metric_mi|age_categorical_train=0.215]"
     ]
    },
    {
     "name": "stdout",
     "output_type": "stream",
     "text": [
      "\r\n",
      "Epoch 334/600:  56%|█████▌    | 334/600 [5:30:29<4:05:04, 55.28s/it, v_num=e6_1, total_loss_train=540, kl_local_train=99.7, metric_mi|age_categorical_train=0.215]"
     ]
    },
    {
     "name": "stdout",
     "output_type": "stream",
     "text": [
      "\r\n",
      "Epoch 334/600:  56%|█████▌    | 334/600 [5:30:29<4:05:04, 55.28s/it, v_num=e6_1, total_loss_train=540, kl_local_train=100, metric_mi|age_categorical_train=0.215] "
     ]
    },
    {
     "name": "stdout",
     "output_type": "stream",
     "text": [
      "\r\n",
      "Epoch 335/600:  56%|█████▌    | 334/600 [5:30:29<4:05:04, 55.28s/it, v_num=e6_1, total_loss_train=540, kl_local_train=100, metric_mi|age_categorical_train=0.215]"
     ]
    },
    {
     "name": "stdout",
     "output_type": "stream",
     "text": [
      "\r\n",
      "Epoch 335/600:  56%|█████▌    | 335/600 [5:31:26<4:07:05, 55.94s/it, v_num=e6_1, total_loss_train=540, kl_local_train=100, metric_mi|age_categorical_train=0.215]"
     ]
    },
    {
     "name": "stdout",
     "output_type": "stream",
     "text": [
      "\r\n",
      "Epoch 335/600:  56%|█████▌    | 335/600 [5:31:26<4:07:05, 55.94s/it, v_num=e6_1, total_loss_train=540, kl_local_train=100, metric_mi|age_categorical_train=0.215]"
     ]
    },
    {
     "name": "stdout",
     "output_type": "stream",
     "text": [
      "\r\n",
      "Epoch 336/600:  56%|█████▌    | 335/600 [5:31:27<4:07:05, 55.94s/it, v_num=e6_1, total_loss_train=540, kl_local_train=100, metric_mi|age_categorical_train=0.215]"
     ]
    },
    {
     "name": "stdout",
     "output_type": "stream",
     "text": [
      "\r\n",
      "Epoch 336/600:  56%|█████▌    | 336/600 [5:32:26<4:11:30, 57.16s/it, v_num=e6_1, total_loss_train=540, kl_local_train=100, metric_mi|age_categorical_train=0.215]"
     ]
    },
    {
     "name": "stdout",
     "output_type": "stream",
     "text": [
      "\r\n",
      "Epoch 336/600:  56%|█████▌    | 336/600 [5:32:26<4:11:30, 57.16s/it, v_num=e6_1, total_loss_train=540, kl_local_train=99.8, metric_mi|age_categorical_train=0.21]"
     ]
    },
    {
     "name": "stdout",
     "output_type": "stream",
     "text": [
      "\r\n",
      "Epoch 337/600:  56%|█████▌    | 336/600 [5:32:26<4:11:30, 57.16s/it, v_num=e6_1, total_loss_train=540, kl_local_train=99.8, metric_mi|age_categorical_train=0.21]"
     ]
    },
    {
     "name": "stdout",
     "output_type": "stream",
     "text": [
      "\r\n",
      "Epoch 337/600:  56%|█████▌    | 337/600 [5:33:30<4:18:46, 59.04s/it, v_num=e6_1, total_loss_train=540, kl_local_train=99.8, metric_mi|age_categorical_train=0.21]"
     ]
    },
    {
     "name": "stdout",
     "output_type": "stream",
     "text": [
      "\r\n",
      "Epoch 337/600:  56%|█████▌    | 337/600 [5:33:30<4:18:46, 59.04s/it, v_num=e6_1, total_loss_train=540, kl_local_train=99.7, metric_mi|age_categorical_train=0.21]"
     ]
    },
    {
     "name": "stdout",
     "output_type": "stream",
     "text": [
      "\r\n",
      "Epoch 338/600:  56%|█████▌    | 337/600 [5:33:30<4:18:46, 59.04s/it, v_num=e6_1, total_loss_train=540, kl_local_train=99.7, metric_mi|age_categorical_train=0.21]"
     ]
    },
    {
     "name": "stdout",
     "output_type": "stream",
     "text": [
      "\r\n",
      "Epoch 338/600:  56%|█████▋    | 338/600 [5:34:33<4:23:36, 60.37s/it, v_num=e6_1, total_loss_train=540, kl_local_train=99.7, metric_mi|age_categorical_train=0.21]"
     ]
    },
    {
     "name": "stdout",
     "output_type": "stream",
     "text": [
      "\r\n",
      "Epoch 338/600:  56%|█████▋    | 338/600 [5:34:33<4:23:36, 60.37s/it, v_num=e6_1, total_loss_train=540, kl_local_train=99.7, metric_mi|age_categorical_train=0.21]"
     ]
    },
    {
     "name": "stdout",
     "output_type": "stream",
     "text": [
      "\r\n",
      "Epoch 339/600:  56%|█████▋    | 338/600 [5:34:33<4:23:36, 60.37s/it, v_num=e6_1, total_loss_train=540, kl_local_train=99.7, metric_mi|age_categorical_train=0.21]"
     ]
    },
    {
     "name": "stdout",
     "output_type": "stream",
     "text": [
      "\r\n",
      "Epoch 339/600:  56%|█████▋    | 339/600 [5:35:37<4:27:23, 61.47s/it, v_num=e6_1, total_loss_train=540, kl_local_train=99.7, metric_mi|age_categorical_train=0.21]"
     ]
    },
    {
     "name": "stdout",
     "output_type": "stream",
     "text": [
      "\r\n",
      "Epoch 339/600:  56%|█████▋    | 339/600 [5:35:37<4:27:23, 61.47s/it, v_num=e6_1, total_loss_train=540, kl_local_train=98.6, metric_mi|age_categorical_train=0.21]"
     ]
    },
    {
     "name": "stdout",
     "output_type": "stream",
     "text": [
      "\r\n",
      "Epoch 340/600:  56%|█████▋    | 339/600 [5:35:37<4:27:23, 61.47s/it, v_num=e6_1, total_loss_train=540, kl_local_train=98.6, metric_mi|age_categorical_train=0.21]"
     ]
    },
    {
     "name": "stdout",
     "output_type": "stream",
     "text": [
      "\r\n",
      "Epoch 340/600:  57%|█████▋    | 340/600 [5:36:42<4:31:03, 62.55s/it, v_num=e6_1, total_loss_train=540, kl_local_train=98.6, metric_mi|age_categorical_train=0.21]"
     ]
    },
    {
     "name": "stdout",
     "output_type": "stream",
     "text": [
      "\r\n",
      "Epoch 340/600:  57%|█████▋    | 340/600 [5:36:42<4:31:03, 62.55s/it, v_num=e6_1, total_loss_train=541, kl_local_train=98.6, metric_mi|age_categorical_train=0.21]"
     ]
    },
    {
     "name": "stdout",
     "output_type": "stream",
     "text": [
      "\r\n",
      "Epoch 341/600:  57%|█████▋    | 340/600 [5:36:43<4:31:03, 62.55s/it, v_num=e6_1, total_loss_train=541, kl_local_train=98.6, metric_mi|age_categorical_train=0.21]"
     ]
    },
    {
     "name": "stdout",
     "output_type": "stream",
     "text": [
      "\r\n",
      "Epoch 341/600:  57%|█████▋    | 341/600 [5:37:47<4:33:18, 63.31s/it, v_num=e6_1, total_loss_train=541, kl_local_train=98.6, metric_mi|age_categorical_train=0.21]"
     ]
    },
    {
     "name": "stdout",
     "output_type": "stream",
     "text": [
      "\r\n",
      "Epoch 341/600:  57%|█████▋    | 341/600 [5:37:47<4:33:18, 63.31s/it, v_num=e6_1, total_loss_train=540, kl_local_train=99.2, metric_mi|age_categorical_train=0.207]"
     ]
    },
    {
     "name": "stdout",
     "output_type": "stream",
     "text": [
      "\r\n",
      "Epoch 342/600:  57%|█████▋    | 341/600 [5:37:47<4:33:18, 63.31s/it, v_num=e6_1, total_loss_train=540, kl_local_train=99.2, metric_mi|age_categorical_train=0.207]"
     ]
    },
    {
     "name": "stdout",
     "output_type": "stream",
     "text": [
      "\r\n",
      "Epoch 342/600:  57%|█████▋    | 342/600 [5:38:53<4:34:40, 63.88s/it, v_num=e6_1, total_loss_train=540, kl_local_train=99.2, metric_mi|age_categorical_train=0.207]"
     ]
    },
    {
     "name": "stdout",
     "output_type": "stream",
     "text": [
      "\r\n",
      "Epoch 342/600:  57%|█████▋    | 342/600 [5:38:53<4:34:40, 63.88s/it, v_num=e6_1, total_loss_train=540, kl_local_train=98.6, metric_mi|age_categorical_train=0.207]"
     ]
    },
    {
     "name": "stdout",
     "output_type": "stream",
     "text": [
      "\r\n",
      "Epoch 343/600:  57%|█████▋    | 342/600 [5:38:53<4:34:40, 63.88s/it, v_num=e6_1, total_loss_train=540, kl_local_train=98.6, metric_mi|age_categorical_train=0.207]"
     ]
    },
    {
     "name": "stdout",
     "output_type": "stream",
     "text": [
      "\r\n",
      "Epoch 343/600:  57%|█████▋    | 343/600 [5:39:56<4:33:30, 63.85s/it, v_num=e6_1, total_loss_train=540, kl_local_train=98.6, metric_mi|age_categorical_train=0.207]"
     ]
    },
    {
     "name": "stdout",
     "output_type": "stream",
     "text": [
      "\r\n",
      "Epoch 343/600:  57%|█████▋    | 343/600 [5:39:56<4:33:30, 63.85s/it, v_num=e6_1, total_loss_train=541, kl_local_train=99.3, metric_mi|age_categorical_train=0.207]"
     ]
    },
    {
     "name": "stdout",
     "output_type": "stream",
     "text": [
      "\r\n",
      "Epoch 344/600:  57%|█████▋    | 343/600 [5:39:56<4:33:30, 63.85s/it, v_num=e6_1, total_loss_train=541, kl_local_train=99.3, metric_mi|age_categorical_train=0.207]"
     ]
    },
    {
     "name": "stdout",
     "output_type": "stream",
     "text": [
      "\r\n",
      "Epoch 344/600:  57%|█████▋    | 344/600 [5:40:58<4:30:06, 63.31s/it, v_num=e6_1, total_loss_train=541, kl_local_train=99.3, metric_mi|age_categorical_train=0.207]"
     ]
    },
    {
     "name": "stdout",
     "output_type": "stream",
     "text": [
      "\r\n",
      "Epoch 344/600:  57%|█████▋    | 344/600 [5:40:58<4:30:06, 63.31s/it, v_num=e6_1, total_loss_train=541, kl_local_train=98.7, metric_mi|age_categorical_train=0.207]"
     ]
    },
    {
     "name": "stdout",
     "output_type": "stream",
     "text": [
      "\r\n",
      "Epoch 345/600:  57%|█████▋    | 344/600 [5:40:58<4:30:06, 63.31s/it, v_num=e6_1, total_loss_train=541, kl_local_train=98.7, metric_mi|age_categorical_train=0.207]"
     ]
    },
    {
     "name": "stdout",
     "output_type": "stream",
     "text": [
      "\r\n",
      "Epoch 345/600:  57%|█████▊    | 345/600 [5:42:02<4:29:41, 63.45s/it, v_num=e6_1, total_loss_train=541, kl_local_train=98.7, metric_mi|age_categorical_train=0.207]"
     ]
    },
    {
     "name": "stdout",
     "output_type": "stream",
     "text": [
      "\r\n",
      "Epoch 345/600:  57%|█████▊    | 345/600 [5:42:02<4:29:41, 63.45s/it, v_num=e6_1, total_loss_train=541, kl_local_train=98.2, metric_mi|age_categorical_train=0.207]"
     ]
    },
    {
     "name": "stdout",
     "output_type": "stream",
     "text": [
      "\r\n",
      "Epoch 346/600:  57%|█████▊    | 345/600 [5:42:03<4:29:41, 63.45s/it, v_num=e6_1, total_loss_train=541, kl_local_train=98.2, metric_mi|age_categorical_train=0.207]"
     ]
    },
    {
     "name": "stdout",
     "output_type": "stream",
     "text": [
      "\r\n",
      "Epoch 346/600:  58%|█████▊    | 346/600 [5:43:05<4:28:17, 63.38s/it, v_num=e6_1, total_loss_train=541, kl_local_train=98.2, metric_mi|age_categorical_train=0.207]"
     ]
    },
    {
     "name": "stdout",
     "output_type": "stream",
     "text": [
      "\r\n",
      "Epoch 346/600:  58%|█████▊    | 346/600 [5:43:05<4:28:17, 63.38s/it, v_num=e6_1, total_loss_train=541, kl_local_train=97.8, metric_mi|age_categorical_train=0.208]"
     ]
    },
    {
     "name": "stdout",
     "output_type": "stream",
     "text": [
      "\r\n",
      "Epoch 347/600:  58%|█████▊    | 346/600 [5:43:05<4:28:17, 63.38s/it, v_num=e6_1, total_loss_train=541, kl_local_train=97.8, metric_mi|age_categorical_train=0.208]"
     ]
    },
    {
     "name": "stdout",
     "output_type": "stream",
     "text": [
      "\r\n",
      "Epoch 347/600:  58%|█████▊    | 347/600 [5:44:03<4:20:09, 61.70s/it, v_num=e6_1, total_loss_train=541, kl_local_train=97.8, metric_mi|age_categorical_train=0.208]"
     ]
    },
    {
     "name": "stdout",
     "output_type": "stream",
     "text": [
      "\r\n",
      "Epoch 347/600:  58%|█████▊    | 347/600 [5:44:03<4:20:09, 61.70s/it, v_num=e6_1, total_loss_train=541, kl_local_train=97.6, metric_mi|age_categorical_train=0.208]"
     ]
    },
    {
     "name": "stdout",
     "output_type": "stream",
     "text": [
      "\r\n",
      "Epoch 348/600:  58%|█████▊    | 347/600 [5:44:03<4:20:09, 61.70s/it, v_num=e6_1, total_loss_train=541, kl_local_train=97.6, metric_mi|age_categorical_train=0.208]"
     ]
    },
    {
     "name": "stdout",
     "output_type": "stream",
     "text": [
      "\r\n",
      "Epoch 348/600:  58%|█████▊    | 348/600 [5:44:59<4:12:11, 60.05s/it, v_num=e6_1, total_loss_train=541, kl_local_train=97.6, metric_mi|age_categorical_train=0.208]"
     ]
    },
    {
     "name": "stdout",
     "output_type": "stream",
     "text": [
      "\r\n",
      "Epoch 348/600:  58%|█████▊    | 348/600 [5:44:59<4:12:11, 60.05s/it, v_num=e6_1, total_loss_train=541, kl_local_train=97.4, metric_mi|age_categorical_train=0.208]"
     ]
    },
    {
     "name": "stdout",
     "output_type": "stream",
     "text": [
      "\r\n",
      "Epoch 349/600:  58%|█████▊    | 348/600 [5:44:59<4:12:11, 60.05s/it, v_num=e6_1, total_loss_train=541, kl_local_train=97.4, metric_mi|age_categorical_train=0.208]"
     ]
    },
    {
     "name": "stdout",
     "output_type": "stream",
     "text": [
      "\r\n",
      "Epoch 349/600:  58%|█████▊    | 349/600 [5:46:02<4:13:49, 60.67s/it, v_num=e6_1, total_loss_train=541, kl_local_train=97.4, metric_mi|age_categorical_train=0.208]"
     ]
    },
    {
     "name": "stdout",
     "output_type": "stream",
     "text": [
      "\r\n",
      "Epoch 349/600:  58%|█████▊    | 349/600 [5:46:02<4:13:49, 60.67s/it, v_num=e6_1, total_loss_train=542, kl_local_train=97.5, metric_mi|age_categorical_train=0.208]"
     ]
    },
    {
     "name": "stdout",
     "output_type": "stream",
     "text": [
      "\r\n",
      "Epoch 350/600:  58%|█████▊    | 349/600 [5:46:02<4:13:49, 60.67s/it, v_num=e6_1, total_loss_train=542, kl_local_train=97.5, metric_mi|age_categorical_train=0.208]"
     ]
    },
    {
     "name": "stdout",
     "output_type": "stream",
     "text": [
      "\r\n",
      "Epoch 350/600:  58%|█████▊    | 350/600 [5:47:04<4:14:47, 61.15s/it, v_num=e6_1, total_loss_train=542, kl_local_train=97.5, metric_mi|age_categorical_train=0.208]"
     ]
    },
    {
     "name": "stdout",
     "output_type": "stream",
     "text": [
      "\r\n",
      "Epoch 350/600:  58%|█████▊    | 350/600 [5:47:04<4:14:47, 61.15s/it, v_num=e6_1, total_loss_train=541, kl_local_train=97.2, metric_mi|age_categorical_train=0.208]"
     ]
    },
    {
     "name": "stdout",
     "output_type": "stream",
     "text": [
      "\r\n",
      "Epoch 351/600:  58%|█████▊    | 350/600 [5:47:05<4:14:47, 61.15s/it, v_num=e6_1, total_loss_train=541, kl_local_train=97.2, metric_mi|age_categorical_train=0.208]"
     ]
    },
    {
     "name": "stdout",
     "output_type": "stream",
     "text": [
      "\r\n",
      "Epoch 351/600:  58%|█████▊    | 351/600 [5:48:01<4:09:13, 60.05s/it, v_num=e6_1, total_loss_train=541, kl_local_train=97.2, metric_mi|age_categorical_train=0.208]"
     ]
    },
    {
     "name": "stdout",
     "output_type": "stream",
     "text": [
      "\r\n",
      "Epoch 351/600:  58%|█████▊    | 351/600 [5:48:01<4:09:13, 60.05s/it, v_num=e6_1, total_loss_train=541, kl_local_train=97.1, metric_mi|age_categorical_train=0.211]"
     ]
    },
    {
     "name": "stdout",
     "output_type": "stream",
     "text": [
      "\r\n",
      "Epoch 352/600:  58%|█████▊    | 351/600 [5:48:01<4:09:13, 60.05s/it, v_num=e6_1, total_loss_train=541, kl_local_train=97.1, metric_mi|age_categorical_train=0.211]"
     ]
    },
    {
     "name": "stdout",
     "output_type": "stream",
     "text": [
      "\r\n",
      "Epoch 352/600:  59%|█████▊    | 352/600 [5:48:58<4:04:14, 59.09s/it, v_num=e6_1, total_loss_train=541, kl_local_train=97.1, metric_mi|age_categorical_train=0.211]"
     ]
    },
    {
     "name": "stdout",
     "output_type": "stream",
     "text": [
      "\r\n",
      "Epoch 352/600:  59%|█████▊    | 352/600 [5:48:58<4:04:14, 59.09s/it, v_num=e6_1, total_loss_train=542, kl_local_train=97.1, metric_mi|age_categorical_train=0.211]"
     ]
    },
    {
     "name": "stdout",
     "output_type": "stream",
     "text": [
      "\r\n",
      "Epoch 353/600:  59%|█████▊    | 352/600 [5:48:58<4:04:14, 59.09s/it, v_num=e6_1, total_loss_train=542, kl_local_train=97.1, metric_mi|age_categorical_train=0.211]"
     ]
    },
    {
     "name": "stdout",
     "output_type": "stream",
     "text": [
      "\r\n",
      "Epoch 353/600:  59%|█████▉    | 353/600 [5:49:54<3:59:28, 58.17s/it, v_num=e6_1, total_loss_train=542, kl_local_train=97.1, metric_mi|age_categorical_train=0.211]"
     ]
    },
    {
     "name": "stdout",
     "output_type": "stream",
     "text": [
      "\r\n",
      "Epoch 353/600:  59%|█████▉    | 353/600 [5:49:54<3:59:28, 58.17s/it, v_num=e6_1, total_loss_train=542, kl_local_train=97.1, metric_mi|age_categorical_train=0.211]"
     ]
    },
    {
     "name": "stdout",
     "output_type": "stream",
     "text": [
      "\r\n",
      "Epoch 354/600:  59%|█████▉    | 353/600 [5:49:54<3:59:28, 58.17s/it, v_num=e6_1, total_loss_train=542, kl_local_train=97.1, metric_mi|age_categorical_train=0.211]"
     ]
    },
    {
     "name": "stdout",
     "output_type": "stream",
     "text": [
      "\r\n",
      "Epoch 354/600:  59%|█████▉    | 354/600 [5:50:50<3:55:34, 57.46s/it, v_num=e6_1, total_loss_train=542, kl_local_train=97.1, metric_mi|age_categorical_train=0.211]"
     ]
    },
    {
     "name": "stdout",
     "output_type": "stream",
     "text": [
      "\r\n",
      "Epoch 354/600:  59%|█████▉    | 354/600 [5:50:50<3:55:34, 57.46s/it, v_num=e6_1, total_loss_train=542, kl_local_train=96.1, metric_mi|age_categorical_train=0.211]"
     ]
    },
    {
     "name": "stdout",
     "output_type": "stream",
     "text": [
      "\r\n",
      "Epoch 355/600:  59%|█████▉    | 354/600 [5:50:50<3:55:34, 57.46s/it, v_num=e6_1, total_loss_train=542, kl_local_train=96.1, metric_mi|age_categorical_train=0.211]"
     ]
    },
    {
     "name": "stdout",
     "output_type": "stream",
     "text": [
      "\r\n",
      "Epoch 355/600:  59%|█████▉    | 355/600 [5:51:47<3:54:23, 57.40s/it, v_num=e6_1, total_loss_train=542, kl_local_train=96.1, metric_mi|age_categorical_train=0.211]"
     ]
    },
    {
     "name": "stdout",
     "output_type": "stream",
     "text": [
      "\r\n",
      "Epoch 355/600:  59%|█████▉    | 355/600 [5:51:47<3:54:23, 57.40s/it, v_num=e6_1, total_loss_train=541, kl_local_train=96.2, metric_mi|age_categorical_train=0.211]"
     ]
    },
    {
     "name": "stdout",
     "output_type": "stream",
     "text": [
      "\r\n",
      "Epoch 356/600:  59%|█████▉    | 355/600 [5:51:48<3:54:23, 57.40s/it, v_num=e6_1, total_loss_train=541, kl_local_train=96.2, metric_mi|age_categorical_train=0.211]"
     ]
    },
    {
     "name": "stdout",
     "output_type": "stream",
     "text": [
      "\r\n",
      "Epoch 356/600:  59%|█████▉    | 356/600 [5:52:43<3:51:21, 56.89s/it, v_num=e6_1, total_loss_train=541, kl_local_train=96.2, metric_mi|age_categorical_train=0.211]"
     ]
    },
    {
     "name": "stdout",
     "output_type": "stream",
     "text": [
      "\r\n",
      "Epoch 356/600:  59%|█████▉    | 356/600 [5:52:43<3:51:21, 56.89s/it, v_num=e6_1, total_loss_train=542, kl_local_train=96, metric_mi|age_categorical_train=0.21]   "
     ]
    },
    {
     "name": "stdout",
     "output_type": "stream",
     "text": [
      "\r\n",
      "Epoch 357/600:  59%|█████▉    | 356/600 [5:52:43<3:51:21, 56.89s/it, v_num=e6_1, total_loss_train=542, kl_local_train=96, metric_mi|age_categorical_train=0.21]"
     ]
    },
    {
     "name": "stdout",
     "output_type": "stream",
     "text": [
      "\r\n",
      "Epoch 357/600:  60%|█████▉    | 357/600 [5:53:35<3:45:04, 55.57s/it, v_num=e6_1, total_loss_train=542, kl_local_train=96, metric_mi|age_categorical_train=0.21]"
     ]
    },
    {
     "name": "stdout",
     "output_type": "stream",
     "text": [
      "\r\n",
      "Epoch 357/600:  60%|█████▉    | 357/600 [5:53:35<3:45:04, 55.57s/it, v_num=e6_1, total_loss_train=541, kl_local_train=96.2, metric_mi|age_categorical_train=0.21]"
     ]
    },
    {
     "name": "stdout",
     "output_type": "stream",
     "text": [
      "\r\n",
      "Epoch 358/600:  60%|█████▉    | 357/600 [5:53:35<3:45:04, 55.57s/it, v_num=e6_1, total_loss_train=541, kl_local_train=96.2, metric_mi|age_categorical_train=0.21]"
     ]
    },
    {
     "name": "stdout",
     "output_type": "stream",
     "text": [
      "\r\n",
      "Epoch 358/600:  60%|█████▉    | 358/600 [5:54:30<3:42:54, 55.27s/it, v_num=e6_1, total_loss_train=541, kl_local_train=96.2, metric_mi|age_categorical_train=0.21]"
     ]
    },
    {
     "name": "stdout",
     "output_type": "stream",
     "text": [
      "\r\n",
      "Epoch 358/600:  60%|█████▉    | 358/600 [5:54:30<3:42:54, 55.27s/it, v_num=e6_1, total_loss_train=541, kl_local_train=95.5, metric_mi|age_categorical_train=0.21]"
     ]
    },
    {
     "name": "stdout",
     "output_type": "stream",
     "text": [
      "\r\n",
      "Epoch 359/600:  60%|█████▉    | 358/600 [5:54:30<3:42:54, 55.27s/it, v_num=e6_1, total_loss_train=541, kl_local_train=95.5, metric_mi|age_categorical_train=0.21]"
     ]
    },
    {
     "name": "stdout",
     "output_type": "stream",
     "text": [
      "\r\n",
      "Epoch 359/600:  60%|█████▉    | 359/600 [5:55:34<3:51:59, 57.76s/it, v_num=e6_1, total_loss_train=541, kl_local_train=95.5, metric_mi|age_categorical_train=0.21]"
     ]
    },
    {
     "name": "stdout",
     "output_type": "stream",
     "text": [
      "\r\n",
      "Epoch 359/600:  60%|█████▉    | 359/600 [5:55:34<3:51:59, 57.76s/it, v_num=e6_1, total_loss_train=542, kl_local_train=95.2, metric_mi|age_categorical_train=0.21]"
     ]
    },
    {
     "name": "stdout",
     "output_type": "stream",
     "text": [
      "\r\n",
      "Epoch 360/600:  60%|█████▉    | 359/600 [5:55:34<3:51:59, 57.76s/it, v_num=e6_1, total_loss_train=542, kl_local_train=95.2, metric_mi|age_categorical_train=0.21]"
     ]
    },
    {
     "name": "stdout",
     "output_type": "stream",
     "text": [
      "\r\n",
      "Epoch 360/600:  60%|██████    | 360/600 [5:56:39<3:59:40, 59.92s/it, v_num=e6_1, total_loss_train=542, kl_local_train=95.2, metric_mi|age_categorical_train=0.21]"
     ]
    },
    {
     "name": "stdout",
     "output_type": "stream",
     "text": [
      "\r\n",
      "Epoch 360/600:  60%|██████    | 360/600 [5:56:39<3:59:40, 59.92s/it, v_num=e6_1, total_loss_train=542, kl_local_train=95.2, metric_mi|age_categorical_train=0.21]"
     ]
    },
    {
     "name": "stdout",
     "output_type": "stream",
     "text": [
      "\r\n",
      "Epoch 361/600:  60%|██████    | 360/600 [5:56:40<3:59:40, 59.92s/it, v_num=e6_1, total_loss_train=542, kl_local_train=95.2, metric_mi|age_categorical_train=0.21]"
     ]
    },
    {
     "name": "stdout",
     "output_type": "stream",
     "text": [
      "\r\n",
      "Epoch 361/600:  60%|██████    | 361/600 [5:57:43<4:04:05, 61.28s/it, v_num=e6_1, total_loss_train=542, kl_local_train=95.2, metric_mi|age_categorical_train=0.21]"
     ]
    },
    {
     "name": "stdout",
     "output_type": "stream",
     "text": [
      "\r\n",
      "Epoch 361/600:  60%|██████    | 361/600 [5:57:43<4:04:05, 61.28s/it, v_num=e6_1, total_loss_train=542, kl_local_train=95, metric_mi|age_categorical_train=0.208] "
     ]
    },
    {
     "name": "stdout",
     "output_type": "stream",
     "text": [
      "\r\n",
      "Epoch 362/600:  60%|██████    | 361/600 [5:57:43<4:04:05, 61.28s/it, v_num=e6_1, total_loss_train=542, kl_local_train=95, metric_mi|age_categorical_train=0.208]"
     ]
    },
    {
     "name": "stdout",
     "output_type": "stream",
     "text": [
      "\r\n",
      "Epoch 362/600:  60%|██████    | 362/600 [5:58:46<4:05:08, 61.80s/it, v_num=e6_1, total_loss_train=542, kl_local_train=95, metric_mi|age_categorical_train=0.208]"
     ]
    },
    {
     "name": "stdout",
     "output_type": "stream",
     "text": [
      "\r\n",
      "Epoch 362/600:  60%|██████    | 362/600 [5:58:46<4:05:08, 61.80s/it, v_num=e6_1, total_loss_train=542, kl_local_train=94.7, metric_mi|age_categorical_train=0.208]"
     ]
    },
    {
     "name": "stdout",
     "output_type": "stream",
     "text": [
      "\r\n",
      "Epoch 363/600:  60%|██████    | 362/600 [5:58:46<4:05:08, 61.80s/it, v_num=e6_1, total_loss_train=542, kl_local_train=94.7, metric_mi|age_categorical_train=0.208]"
     ]
    },
    {
     "name": "stdout",
     "output_type": "stream",
     "text": [
      "\r\n",
      "Epoch 363/600:  60%|██████    | 363/600 [5:59:48<4:04:04, 61.79s/it, v_num=e6_1, total_loss_train=542, kl_local_train=94.7, metric_mi|age_categorical_train=0.208]"
     ]
    },
    {
     "name": "stdout",
     "output_type": "stream",
     "text": [
      "\r\n",
      "Epoch 363/600:  60%|██████    | 363/600 [5:59:48<4:04:04, 61.79s/it, v_num=e6_1, total_loss_train=542, kl_local_train=94.3, metric_mi|age_categorical_train=0.208]"
     ]
    },
    {
     "name": "stdout",
     "output_type": "stream",
     "text": [
      "\r\n",
      "Epoch 364/600:  60%|██████    | 363/600 [5:59:48<4:04:04, 61.79s/it, v_num=e6_1, total_loss_train=542, kl_local_train=94.3, metric_mi|age_categorical_train=0.208]"
     ]
    },
    {
     "name": "stdout",
     "output_type": "stream",
     "text": [
      "\r\n",
      "Epoch 364/600:  61%|██████    | 364/600 [6:00:49<4:02:33, 61.67s/it, v_num=e6_1, total_loss_train=542, kl_local_train=94.3, metric_mi|age_categorical_train=0.208]"
     ]
    },
    {
     "name": "stdout",
     "output_type": "stream",
     "text": [
      "\r\n",
      "Epoch 364/600:  61%|██████    | 364/600 [6:00:49<4:02:33, 61.67s/it, v_num=e6_1, total_loss_train=542, kl_local_train=94.1, metric_mi|age_categorical_train=0.208]"
     ]
    },
    {
     "name": "stdout",
     "output_type": "stream",
     "text": [
      "\r\n",
      "Epoch 365/600:  61%|██████    | 364/600 [6:00:49<4:02:33, 61.67s/it, v_num=e6_1, total_loss_train=542, kl_local_train=94.1, metric_mi|age_categorical_train=0.208]"
     ]
    },
    {
     "name": "stdout",
     "output_type": "stream",
     "text": [
      "\r\n",
      "Epoch 365/600:  61%|██████    | 365/600 [6:01:49<3:59:25, 61.13s/it, v_num=e6_1, total_loss_train=542, kl_local_train=94.1, metric_mi|age_categorical_train=0.208]"
     ]
    },
    {
     "name": "stdout",
     "output_type": "stream",
     "text": [
      "\r\n",
      "Epoch 365/600:  61%|██████    | 365/600 [6:01:49<3:59:25, 61.13s/it, v_num=e6_1, total_loss_train=542, kl_local_train=94.3, metric_mi|age_categorical_train=0.208]"
     ]
    },
    {
     "name": "stdout",
     "output_type": "stream",
     "text": [
      "\r\n",
      "Epoch 366/600:  61%|██████    | 365/600 [6:01:50<3:59:25, 61.13s/it, v_num=e6_1, total_loss_train=542, kl_local_train=94.3, metric_mi|age_categorical_train=0.208]"
     ]
    },
    {
     "name": "stdout",
     "output_type": "stream",
     "text": [
      "\r\n",
      "Epoch 366/600:  61%|██████    | 366/600 [6:02:48<3:56:28, 60.63s/it, v_num=e6_1, total_loss_train=542, kl_local_train=94.3, metric_mi|age_categorical_train=0.208]"
     ]
    },
    {
     "name": "stdout",
     "output_type": "stream",
     "text": [
      "\r\n",
      "Epoch 366/600:  61%|██████    | 366/600 [6:02:48<3:56:28, 60.63s/it, v_num=e6_1, total_loss_train=542, kl_local_train=94.5, metric_mi|age_categorical_train=0.207]"
     ]
    },
    {
     "name": "stdout",
     "output_type": "stream",
     "text": [
      "\r\n",
      "Epoch 367/600:  61%|██████    | 366/600 [6:02:48<3:56:28, 60.63s/it, v_num=e6_1, total_loss_train=542, kl_local_train=94.5, metric_mi|age_categorical_train=0.207]"
     ]
    },
    {
     "name": "stdout",
     "output_type": "stream",
     "text": [
      "\r\n",
      "Epoch 367/600:  61%|██████    | 367/600 [6:03:50<3:56:45, 60.97s/it, v_num=e6_1, total_loss_train=542, kl_local_train=94.5, metric_mi|age_categorical_train=0.207]"
     ]
    },
    {
     "name": "stdout",
     "output_type": "stream",
     "text": [
      "\r\n",
      "Epoch 367/600:  61%|██████    | 367/600 [6:03:50<3:56:45, 60.97s/it, v_num=e6_1, total_loss_train=542, kl_local_train=93.8, metric_mi|age_categorical_train=0.207]"
     ]
    },
    {
     "name": "stdout",
     "output_type": "stream",
     "text": [
      "\r\n",
      "Epoch 368/600:  61%|██████    | 367/600 [6:03:50<3:56:45, 60.97s/it, v_num=e6_1, total_loss_train=542, kl_local_train=93.8, metric_mi|age_categorical_train=0.207]"
     ]
    },
    {
     "name": "stdout",
     "output_type": "stream",
     "text": [
      "\r\n",
      "Epoch 368/600:  61%|██████▏   | 368/600 [6:04:53<3:58:12, 61.60s/it, v_num=e6_1, total_loss_train=542, kl_local_train=93.8, metric_mi|age_categorical_train=0.207]"
     ]
    },
    {
     "name": "stdout",
     "output_type": "stream",
     "text": [
      "\r\n",
      "Epoch 368/600:  61%|██████▏   | 368/600 [6:04:53<3:58:12, 61.60s/it, v_num=e6_1, total_loss_train=542, kl_local_train=93, metric_mi|age_categorical_train=0.207]  "
     ]
    },
    {
     "name": "stdout",
     "output_type": "stream",
     "text": [
      "\r\n",
      "Epoch 369/600:  61%|██████▏   | 368/600 [6:04:53<3:58:12, 61.60s/it, v_num=e6_1, total_loss_train=542, kl_local_train=93, metric_mi|age_categorical_train=0.207]"
     ]
    },
    {
     "name": "stdout",
     "output_type": "stream",
     "text": [
      "\r\n",
      "Epoch 369/600:  62%|██████▏   | 369/600 [6:05:56<3:58:39, 61.99s/it, v_num=e6_1, total_loss_train=542, kl_local_train=93, metric_mi|age_categorical_train=0.207]"
     ]
    },
    {
     "name": "stdout",
     "output_type": "stream",
     "text": [
      "\r\n",
      "Epoch 369/600:  62%|██████▏   | 369/600 [6:05:56<3:58:39, 61.99s/it, v_num=e6_1, total_loss_train=543, kl_local_train=92.8, metric_mi|age_categorical_train=0.207]"
     ]
    },
    {
     "name": "stdout",
     "output_type": "stream",
     "text": [
      "\r\n",
      "Epoch 370/600:  62%|██████▏   | 369/600 [6:05:56<3:58:39, 61.99s/it, v_num=e6_1, total_loss_train=543, kl_local_train=92.8, metric_mi|age_categorical_train=0.207]"
     ]
    },
    {
     "name": "stdout",
     "output_type": "stream",
     "text": [
      "\r\n",
      "Epoch 370/600:  62%|██████▏   | 370/600 [6:06:59<3:58:53, 62.32s/it, v_num=e6_1, total_loss_train=543, kl_local_train=92.8, metric_mi|age_categorical_train=0.207]"
     ]
    },
    {
     "name": "stdout",
     "output_type": "stream",
     "text": [
      "\r\n",
      "Epoch 370/600:  62%|██████▏   | 370/600 [6:06:59<3:58:53, 62.32s/it, v_num=e6_1, total_loss_train=542, kl_local_train=93.1, metric_mi|age_categorical_train=0.207]"
     ]
    },
    {
     "name": "stdout",
     "output_type": "stream",
     "text": [
      "\r\n",
      "Epoch 371/600:  62%|██████▏   | 370/600 [6:07:00<3:58:53, 62.32s/it, v_num=e6_1, total_loss_train=542, kl_local_train=93.1, metric_mi|age_categorical_train=0.207]"
     ]
    },
    {
     "name": "stdout",
     "output_type": "stream",
     "text": [
      "\r\n",
      "Epoch 371/600:  62%|██████▏   | 371/600 [6:08:06<4:02:27, 63.53s/it, v_num=e6_1, total_loss_train=542, kl_local_train=93.1, metric_mi|age_categorical_train=0.207]"
     ]
    },
    {
     "name": "stdout",
     "output_type": "stream",
     "text": [
      "\r\n",
      "Epoch 371/600:  62%|██████▏   | 371/600 [6:08:06<4:02:27, 63.53s/it, v_num=e6_1, total_loss_train=543, kl_local_train=93.4, metric_mi|age_categorical_train=0.217]"
     ]
    },
    {
     "name": "stdout",
     "output_type": "stream",
     "text": [
      "\r\n",
      "Epoch 372/600:  62%|██████▏   | 371/600 [6:08:06<4:02:27, 63.53s/it, v_num=e6_1, total_loss_train=543, kl_local_train=93.4, metric_mi|age_categorical_train=0.217]"
     ]
    },
    {
     "name": "stdout",
     "output_type": "stream",
     "text": [
      "\r\n",
      "Epoch 372/600:  62%|██████▏   | 372/600 [6:09:10<4:01:58, 63.68s/it, v_num=e6_1, total_loss_train=543, kl_local_train=93.4, metric_mi|age_categorical_train=0.217]"
     ]
    },
    {
     "name": "stdout",
     "output_type": "stream",
     "text": [
      "\r\n",
      "Epoch 372/600:  62%|██████▏   | 372/600 [6:09:10<4:01:58, 63.68s/it, v_num=e6_1, total_loss_train=543, kl_local_train=92.9, metric_mi|age_categorical_train=0.217]"
     ]
    },
    {
     "name": "stdout",
     "output_type": "stream",
     "text": [
      "\r\n",
      "Epoch 373/600:  62%|██████▏   | 372/600 [6:09:10<4:01:58, 63.68s/it, v_num=e6_1, total_loss_train=543, kl_local_train=92.9, metric_mi|age_categorical_train=0.217]"
     ]
    },
    {
     "name": "stdout",
     "output_type": "stream",
     "text": [
      "\r\n",
      "Epoch 373/600:  62%|██████▏   | 373/600 [6:10:14<4:02:05, 63.99s/it, v_num=e6_1, total_loss_train=543, kl_local_train=92.9, metric_mi|age_categorical_train=0.217]"
     ]
    },
    {
     "name": "stdout",
     "output_type": "stream",
     "text": [
      "\r\n",
      "Epoch 373/600:  62%|██████▏   | 373/600 [6:10:14<4:02:05, 63.99s/it, v_num=e6_1, total_loss_train=543, kl_local_train=92.8, metric_mi|age_categorical_train=0.217]"
     ]
    },
    {
     "name": "stdout",
     "output_type": "stream",
     "text": [
      "\r\n",
      "Epoch 374/600:  62%|██████▏   | 373/600 [6:10:14<4:02:05, 63.99s/it, v_num=e6_1, total_loss_train=543, kl_local_train=92.8, metric_mi|age_categorical_train=0.217]"
     ]
    },
    {
     "name": "stdout",
     "output_type": "stream",
     "text": [
      "\r\n",
      "Epoch 374/600:  62%|██████▏   | 374/600 [6:11:19<4:01:36, 64.14s/it, v_num=e6_1, total_loss_train=543, kl_local_train=92.8, metric_mi|age_categorical_train=0.217]"
     ]
    },
    {
     "name": "stdout",
     "output_type": "stream",
     "text": [
      "\r\n",
      "Epoch 374/600:  62%|██████▏   | 374/600 [6:11:19<4:01:36, 64.14s/it, v_num=e6_1, total_loss_train=543, kl_local_train=92.4, metric_mi|age_categorical_train=0.217]"
     ]
    },
    {
     "name": "stdout",
     "output_type": "stream",
     "text": [
      "\r\n",
      "Epoch 375/600:  62%|██████▏   | 374/600 [6:11:19<4:01:36, 64.14s/it, v_num=e6_1, total_loss_train=543, kl_local_train=92.4, metric_mi|age_categorical_train=0.217]"
     ]
    },
    {
     "name": "stdout",
     "output_type": "stream",
     "text": [
      "\r\n",
      "Epoch 375/600:  62%|██████▎   | 375/600 [6:12:24<4:01:06, 64.30s/it, v_num=e6_1, total_loss_train=543, kl_local_train=92.4, metric_mi|age_categorical_train=0.217]"
     ]
    },
    {
     "name": "stdout",
     "output_type": "stream",
     "text": [
      "\r\n",
      "Epoch 375/600:  62%|██████▎   | 375/600 [6:12:24<4:01:06, 64.30s/it, v_num=e6_1, total_loss_train=543, kl_local_train=91.8, metric_mi|age_categorical_train=0.217]"
     ]
    },
    {
     "name": "stdout",
     "output_type": "stream",
     "text": [
      "\r\n",
      "Epoch 376/600:  62%|██████▎   | 375/600 [6:12:25<4:01:06, 64.30s/it, v_num=e6_1, total_loss_train=543, kl_local_train=91.8, metric_mi|age_categorical_train=0.217]"
     ]
    },
    {
     "name": "stdout",
     "output_type": "stream",
     "text": [
      "\r\n",
      "Epoch 376/600:  63%|██████▎   | 376/600 [6:13:27<3:59:20, 64.11s/it, v_num=e6_1, total_loss_train=543, kl_local_train=91.8, metric_mi|age_categorical_train=0.217]"
     ]
    },
    {
     "name": "stdout",
     "output_type": "stream",
     "text": [
      "\r\n",
      "Epoch 376/600:  63%|██████▎   | 376/600 [6:13:27<3:59:20, 64.11s/it, v_num=e6_1, total_loss_train=543, kl_local_train=92.3, metric_mi|age_categorical_train=0.226]"
     ]
    },
    {
     "name": "stdout",
     "output_type": "stream",
     "text": [
      "\r\n",
      "Epoch 377/600:  63%|██████▎   | 376/600 [6:13:27<3:59:20, 64.11s/it, v_num=e6_1, total_loss_train=543, kl_local_train=92.3, metric_mi|age_categorical_train=0.226]"
     ]
    },
    {
     "name": "stdout",
     "output_type": "stream",
     "text": [
      "\r\n",
      "Epoch 377/600:  63%|██████▎   | 377/600 [6:14:29<3:56:09, 63.54s/it, v_num=e6_1, total_loss_train=543, kl_local_train=92.3, metric_mi|age_categorical_train=0.226]"
     ]
    },
    {
     "name": "stdout",
     "output_type": "stream",
     "text": [
      "\r\n",
      "Epoch 377/600:  63%|██████▎   | 377/600 [6:14:29<3:56:09, 63.54s/it, v_num=e6_1, total_loss_train=543, kl_local_train=92.1, metric_mi|age_categorical_train=0.226]"
     ]
    },
    {
     "name": "stdout",
     "output_type": "stream",
     "text": [
      "\r\n",
      "Epoch 378/600:  63%|██████▎   | 377/600 [6:14:29<3:56:09, 63.54s/it, v_num=e6_1, total_loss_train=543, kl_local_train=92.1, metric_mi|age_categorical_train=0.226]"
     ]
    },
    {
     "name": "stdout",
     "output_type": "stream",
     "text": [
      "\r\n",
      "Epoch 378/600:  63%|██████▎   | 378/600 [6:15:31<3:52:28, 62.83s/it, v_num=e6_1, total_loss_train=543, kl_local_train=92.1, metric_mi|age_categorical_train=0.226]"
     ]
    },
    {
     "name": "stdout",
     "output_type": "stream",
     "text": [
      "\r\n",
      "Epoch 378/600:  63%|██████▎   | 378/600 [6:15:31<3:52:28, 62.83s/it, v_num=e6_1, total_loss_train=544, kl_local_train=92.1, metric_mi|age_categorical_train=0.226]"
     ]
    },
    {
     "name": "stdout",
     "output_type": "stream",
     "text": [
      "\r\n",
      "Epoch 379/600:  63%|██████▎   | 378/600 [6:15:31<3:52:28, 62.83s/it, v_num=e6_1, total_loss_train=544, kl_local_train=92.1, metric_mi|age_categorical_train=0.226]"
     ]
    },
    {
     "name": "stdout",
     "output_type": "stream",
     "text": [
      "\r\n",
      "Epoch 379/600:  63%|██████▎   | 379/600 [6:16:30<3:48:04, 61.92s/it, v_num=e6_1, total_loss_train=544, kl_local_train=92.1, metric_mi|age_categorical_train=0.226]"
     ]
    },
    {
     "name": "stdout",
     "output_type": "stream",
     "text": [
      "\r\n",
      "Epoch 379/600:  63%|██████▎   | 379/600 [6:16:30<3:48:04, 61.92s/it, v_num=e6_1, total_loss_train=543, kl_local_train=91.7, metric_mi|age_categorical_train=0.226]"
     ]
    },
    {
     "name": "stdout",
     "output_type": "stream",
     "text": [
      "\r\n",
      "Epoch 380/600:  63%|██████▎   | 379/600 [6:16:30<3:48:04, 61.92s/it, v_num=e6_1, total_loss_train=543, kl_local_train=91.7, metric_mi|age_categorical_train=0.226]"
     ]
    },
    {
     "name": "stdout",
     "output_type": "stream",
     "text": [
      "\r\n",
      "Epoch 380/600:  63%|██████▎   | 380/600 [6:17:29<3:43:28, 60.95s/it, v_num=e6_1, total_loss_train=543, kl_local_train=91.7, metric_mi|age_categorical_train=0.226]"
     ]
    },
    {
     "name": "stdout",
     "output_type": "stream",
     "text": [
      "\r\n",
      "Epoch 380/600:  63%|██████▎   | 380/600 [6:17:29<3:43:28, 60.95s/it, v_num=e6_1, total_loss_train=543, kl_local_train=91, metric_mi|age_categorical_train=0.226]  "
     ]
    },
    {
     "name": "stdout",
     "output_type": "stream",
     "text": [
      "\r\n",
      "Epoch 381/600:  63%|██████▎   | 380/600 [6:17:30<3:43:28, 60.95s/it, v_num=e6_1, total_loss_train=543, kl_local_train=91, metric_mi|age_categorical_train=0.226]"
     ]
    },
    {
     "name": "stdout",
     "output_type": "stream",
     "text": [
      "\r\n",
      "Epoch 381/600:  64%|██████▎   | 381/600 [6:18:26<3:38:31, 59.87s/it, v_num=e6_1, total_loss_train=543, kl_local_train=91, metric_mi|age_categorical_train=0.226]"
     ]
    },
    {
     "name": "stdout",
     "output_type": "stream",
     "text": [
      "\r\n",
      "Epoch 381/600:  64%|██████▎   | 381/600 [6:18:26<3:38:31, 59.87s/it, v_num=e6_1, total_loss_train=542, kl_local_train=90.6, metric_mi|age_categorical_train=0.232]"
     ]
    },
    {
     "name": "stdout",
     "output_type": "stream",
     "text": [
      "\r\n",
      "Epoch 382/600:  64%|██████▎   | 381/600 [6:18:26<3:38:31, 59.87s/it, v_num=e6_1, total_loss_train=542, kl_local_train=90.6, metric_mi|age_categorical_train=0.232]"
     ]
    },
    {
     "name": "stdout",
     "output_type": "stream",
     "text": [
      "\r\n",
      "Epoch 382/600:  64%|██████▎   | 382/600 [6:19:21<3:31:18, 58.16s/it, v_num=e6_1, total_loss_train=542, kl_local_train=90.6, metric_mi|age_categorical_train=0.232]"
     ]
    },
    {
     "name": "stdout",
     "output_type": "stream",
     "text": [
      "\r\n",
      "Epoch 382/600:  64%|██████▎   | 382/600 [6:19:21<3:31:18, 58.16s/it, v_num=e6_1, total_loss_train=543, kl_local_train=90.1, metric_mi|age_categorical_train=0.232]"
     ]
    },
    {
     "name": "stdout",
     "output_type": "stream",
     "text": [
      "\r\n",
      "Epoch 383/600:  64%|██████▎   | 382/600 [6:19:21<3:31:18, 58.16s/it, v_num=e6_1, total_loss_train=543, kl_local_train=90.1, metric_mi|age_categorical_train=0.232]"
     ]
    },
    {
     "name": "stdout",
     "output_type": "stream",
     "text": [
      "\r\n",
      "Epoch 383/600:  64%|██████▍   | 383/600 [6:20:14<3:25:24, 56.79s/it, v_num=e6_1, total_loss_train=543, kl_local_train=90.1, metric_mi|age_categorical_train=0.232]"
     ]
    },
    {
     "name": "stdout",
     "output_type": "stream",
     "text": [
      "\r\n",
      "Epoch 383/600:  64%|██████▍   | 383/600 [6:20:14<3:25:24, 56.79s/it, v_num=e6_1, total_loss_train=543, kl_local_train=89.9, metric_mi|age_categorical_train=0.232]"
     ]
    },
    {
     "name": "stdout",
     "output_type": "stream",
     "text": [
      "\r\n",
      "Epoch 384/600:  64%|██████▍   | 383/600 [6:20:14<3:25:24, 56.79s/it, v_num=e6_1, total_loss_train=543, kl_local_train=89.9, metric_mi|age_categorical_train=0.232]"
     ]
    },
    {
     "name": "stdout",
     "output_type": "stream",
     "text": [
      "\r\n",
      "Epoch 384/600:  64%|██████▍   | 384/600 [6:21:11<3:24:06, 56.70s/it, v_num=e6_1, total_loss_train=543, kl_local_train=89.9, metric_mi|age_categorical_train=0.232]"
     ]
    },
    {
     "name": "stdout",
     "output_type": "stream",
     "text": [
      "\r\n",
      "Epoch 384/600:  64%|██████▍   | 384/600 [6:21:11<3:24:06, 56.70s/it, v_num=e6_1, total_loss_train=544, kl_local_train=90.2, metric_mi|age_categorical_train=0.232]"
     ]
    },
    {
     "name": "stdout",
     "output_type": "stream",
     "text": [
      "\r\n",
      "Epoch 385/600:  64%|██████▍   | 384/600 [6:21:11<3:24:06, 56.70s/it, v_num=e6_1, total_loss_train=544, kl_local_train=90.2, metric_mi|age_categorical_train=0.232]"
     ]
    },
    {
     "name": "stdout",
     "output_type": "stream",
     "text": [
      "\r\n",
      "Epoch 385/600:  64%|██████▍   | 385/600 [6:22:09<3:24:26, 57.05s/it, v_num=e6_1, total_loss_train=544, kl_local_train=90.2, metric_mi|age_categorical_train=0.232]"
     ]
    },
    {
     "name": "stdout",
     "output_type": "stream",
     "text": [
      "\r\n",
      "Epoch 385/600:  64%|██████▍   | 385/600 [6:22:09<3:24:26, 57.05s/it, v_num=e6_1, total_loss_train=544, kl_local_train=90.7, metric_mi|age_categorical_train=0.232]"
     ]
    },
    {
     "name": "stdout",
     "output_type": "stream",
     "text": [
      "\r\n",
      "Epoch 386/600:  64%|██████▍   | 385/600 [6:22:09<3:24:26, 57.05s/it, v_num=e6_1, total_loss_train=544, kl_local_train=90.7, metric_mi|age_categorical_train=0.232]"
     ]
    },
    {
     "name": "stdout",
     "output_type": "stream",
     "text": [
      "\r\n",
      "Epoch 386/600:  64%|██████▍   | 386/600 [6:23:21<3:39:43, 61.61s/it, v_num=e6_1, total_loss_train=544, kl_local_train=90.7, metric_mi|age_categorical_train=0.232]"
     ]
    },
    {
     "name": "stdout",
     "output_type": "stream",
     "text": [
      "\r\n",
      "Epoch 386/600:  64%|██████▍   | 386/600 [6:23:21<3:39:43, 61.61s/it, v_num=e6_1, total_loss_train=544, kl_local_train=90.1, metric_mi|age_categorical_train=0.236]"
     ]
    },
    {
     "name": "stdout",
     "output_type": "stream",
     "text": [
      "\r\n",
      "Epoch 387/600:  64%|██████▍   | 386/600 [6:23:21<3:39:43, 61.61s/it, v_num=e6_1, total_loss_train=544, kl_local_train=90.1, metric_mi|age_categorical_train=0.236]"
     ]
    },
    {
     "name": "stdout",
     "output_type": "stream",
     "text": [
      "\r\n",
      "Epoch 387/600:  64%|██████▍   | 387/600 [6:24:17<3:33:07, 60.04s/it, v_num=e6_1, total_loss_train=544, kl_local_train=90.1, metric_mi|age_categorical_train=0.236]"
     ]
    },
    {
     "name": "stdout",
     "output_type": "stream",
     "text": [
      "\r\n",
      "Epoch 387/600:  64%|██████▍   | 387/600 [6:24:17<3:33:07, 60.04s/it, v_num=e6_1, total_loss_train=543, kl_local_train=90.3, metric_mi|age_categorical_train=0.236]"
     ]
    },
    {
     "name": "stdout",
     "output_type": "stream",
     "text": [
      "\r\n",
      "Epoch 388/600:  64%|██████▍   | 387/600 [6:24:17<3:33:07, 60.04s/it, v_num=e6_1, total_loss_train=543, kl_local_train=90.3, metric_mi|age_categorical_train=0.236]"
     ]
    },
    {
     "name": "stdout",
     "output_type": "stream",
     "text": [
      "\r\n",
      "Epoch 388/600:  65%|██████▍   | 388/600 [6:25:14<3:28:12, 58.93s/it, v_num=e6_1, total_loss_train=543, kl_local_train=90.3, metric_mi|age_categorical_train=0.236]"
     ]
    },
    {
     "name": "stdout",
     "output_type": "stream",
     "text": [
      "\r\n",
      "Epoch 388/600:  65%|██████▍   | 388/600 [6:25:14<3:28:12, 58.93s/it, v_num=e6_1, total_loss_train=544, kl_local_train=90.1, metric_mi|age_categorical_train=0.236]"
     ]
    },
    {
     "name": "stdout",
     "output_type": "stream",
     "text": [
      "\r\n",
      "Epoch 389/600:  65%|██████▍   | 388/600 [6:25:14<3:28:12, 58.93s/it, v_num=e6_1, total_loss_train=544, kl_local_train=90.1, metric_mi|age_categorical_train=0.236]"
     ]
    },
    {
     "name": "stdout",
     "output_type": "stream",
     "text": [
      "\r\n",
      "Epoch 389/600:  65%|██████▍   | 389/600 [6:26:10<3:24:16, 58.09s/it, v_num=e6_1, total_loss_train=544, kl_local_train=90.1, metric_mi|age_categorical_train=0.236]"
     ]
    },
    {
     "name": "stdout",
     "output_type": "stream",
     "text": [
      "\r\n",
      "Epoch 389/600:  65%|██████▍   | 389/600 [6:26:10<3:24:16, 58.09s/it, v_num=e6_1, total_loss_train=544, kl_local_train=89.6, metric_mi|age_categorical_train=0.236]"
     ]
    },
    {
     "name": "stdout",
     "output_type": "stream",
     "text": [
      "\r\n",
      "Epoch 390/600:  65%|██████▍   | 389/600 [6:26:10<3:24:16, 58.09s/it, v_num=e6_1, total_loss_train=544, kl_local_train=89.6, metric_mi|age_categorical_train=0.236]"
     ]
    },
    {
     "name": "stdout",
     "output_type": "stream",
     "text": [
      "\r\n",
      "Epoch 390/600:  65%|██████▌   | 390/600 [6:27:07<3:22:39, 57.90s/it, v_num=e6_1, total_loss_train=544, kl_local_train=89.6, metric_mi|age_categorical_train=0.236]"
     ]
    },
    {
     "name": "stdout",
     "output_type": "stream",
     "text": [
      "\r\n",
      "Epoch 390/600:  65%|██████▌   | 390/600 [6:27:07<3:22:39, 57.90s/it, v_num=e6_1, total_loss_train=544, kl_local_train=89.2, metric_mi|age_categorical_train=0.236]"
     ]
    },
    {
     "name": "stdout",
     "output_type": "stream",
     "text": [
      "\r\n",
      "Epoch 391/600:  65%|██████▌   | 390/600 [6:27:08<3:22:39, 57.90s/it, v_num=e6_1, total_loss_train=544, kl_local_train=89.2, metric_mi|age_categorical_train=0.236]"
     ]
    },
    {
     "name": "stdout",
     "output_type": "stream",
     "text": [
      "\r\n",
      "Epoch 391/600:  65%|██████▌   | 391/600 [6:28:05<3:21:34, 57.87s/it, v_num=e6_1, total_loss_train=544, kl_local_train=89.2, metric_mi|age_categorical_train=0.236]"
     ]
    },
    {
     "name": "stdout",
     "output_type": "stream",
     "text": [
      "\r\n",
      "Epoch 391/600:  65%|██████▌   | 391/600 [6:28:05<3:21:34, 57.87s/it, v_num=e6_1, total_loss_train=544, kl_local_train=89.2, metric_mi|age_categorical_train=0.23] "
     ]
    },
    {
     "name": "stdout",
     "output_type": "stream",
     "text": [
      "\r\n",
      "Epoch 392/600:  65%|██████▌   | 391/600 [6:28:05<3:21:34, 57.87s/it, v_num=e6_1, total_loss_train=544, kl_local_train=89.2, metric_mi|age_categorical_train=0.23]"
     ]
    },
    {
     "name": "stdout",
     "output_type": "stream",
     "text": [
      "\r\n",
      "Epoch 392/600:  65%|██████▌   | 392/600 [6:29:02<3:19:34, 57.57s/it, v_num=e6_1, total_loss_train=544, kl_local_train=89.2, metric_mi|age_categorical_train=0.23]"
     ]
    },
    {
     "name": "stdout",
     "output_type": "stream",
     "text": [
      "\r\n",
      "Epoch 392/600:  65%|██████▌   | 392/600 [6:29:02<3:19:34, 57.57s/it, v_num=e6_1, total_loss_train=544, kl_local_train=88.9, metric_mi|age_categorical_train=0.23]"
     ]
    },
    {
     "name": "stdout",
     "output_type": "stream",
     "text": [
      "\r\n",
      "Epoch 393/600:  65%|██████▌   | 392/600 [6:29:02<3:19:34, 57.57s/it, v_num=e6_1, total_loss_train=544, kl_local_train=88.9, metric_mi|age_categorical_train=0.23]"
     ]
    },
    {
     "name": "stdout",
     "output_type": "stream",
     "text": [
      "\r\n",
      "Epoch 393/600:  66%|██████▌   | 393/600 [6:30:02<3:21:19, 58.35s/it, v_num=e6_1, total_loss_train=544, kl_local_train=88.9, metric_mi|age_categorical_train=0.23]"
     ]
    },
    {
     "name": "stdout",
     "output_type": "stream",
     "text": [
      "\r\n",
      "Epoch 393/600:  66%|██████▌   | 393/600 [6:30:02<3:21:19, 58.35s/it, v_num=e6_1, total_loss_train=544, kl_local_train=89.3, metric_mi|age_categorical_train=0.23]"
     ]
    },
    {
     "name": "stdout",
     "output_type": "stream",
     "text": [
      "\r\n",
      "Epoch 394/600:  66%|██████▌   | 393/600 [6:30:02<3:21:19, 58.35s/it, v_num=e6_1, total_loss_train=544, kl_local_train=89.3, metric_mi|age_categorical_train=0.23]"
     ]
    },
    {
     "name": "stdout",
     "output_type": "stream",
     "text": [
      "\r\n",
      "Epoch 394/600:  66%|██████▌   | 394/600 [6:31:04<3:24:16, 59.50s/it, v_num=e6_1, total_loss_train=544, kl_local_train=89.3, metric_mi|age_categorical_train=0.23]"
     ]
    },
    {
     "name": "stdout",
     "output_type": "stream",
     "text": [
      "\r\n",
      "Epoch 394/600:  66%|██████▌   | 394/600 [6:31:04<3:24:16, 59.50s/it, v_num=e6_1, total_loss_train=544, kl_local_train=89.1, metric_mi|age_categorical_train=0.23]"
     ]
    },
    {
     "name": "stdout",
     "output_type": "stream",
     "text": [
      "\r\n",
      "Epoch 395/600:  66%|██████▌   | 394/600 [6:31:04<3:24:16, 59.50s/it, v_num=e6_1, total_loss_train=544, kl_local_train=89.1, metric_mi|age_categorical_train=0.23]"
     ]
    },
    {
     "name": "stdout",
     "output_type": "stream",
     "text": [
      "\r\n",
      "Epoch 395/600:  66%|██████▌   | 395/600 [6:32:02<3:21:41, 59.03s/it, v_num=e6_1, total_loss_train=544, kl_local_train=89.1, metric_mi|age_categorical_train=0.23]"
     ]
    },
    {
     "name": "stdout",
     "output_type": "stream",
     "text": [
      "\r\n",
      "Epoch 395/600:  66%|██████▌   | 395/600 [6:32:02<3:21:41, 59.03s/it, v_num=e6_1, total_loss_train=544, kl_local_train=88.7, metric_mi|age_categorical_train=0.23]"
     ]
    },
    {
     "name": "stdout",
     "output_type": "stream",
     "text": [
      "\r\n",
      "Epoch 396/600:  66%|██████▌   | 395/600 [6:32:03<3:21:41, 59.03s/it, v_num=e6_1, total_loss_train=544, kl_local_train=88.7, metric_mi|age_categorical_train=0.23]"
     ]
    },
    {
     "name": "stdout",
     "output_type": "stream",
     "text": [
      "\r\n",
      "Epoch 396/600:  66%|██████▌   | 396/600 [6:33:01<3:20:15, 58.90s/it, v_num=e6_1, total_loss_train=544, kl_local_train=88.7, metric_mi|age_categorical_train=0.23]"
     ]
    },
    {
     "name": "stdout",
     "output_type": "stream",
     "text": [
      "\r\n",
      "Epoch 396/600:  66%|██████▌   | 396/600 [6:33:01<3:20:15, 58.90s/it, v_num=e6_1, total_loss_train=544, kl_local_train=88, metric_mi|age_categorical_train=0.219] "
     ]
    },
    {
     "name": "stdout",
     "output_type": "stream",
     "text": [
      "\r\n",
      "Epoch 397/600:  66%|██████▌   | 396/600 [6:33:01<3:20:15, 58.90s/it, v_num=e6_1, total_loss_train=544, kl_local_train=88, metric_mi|age_categorical_train=0.219]"
     ]
    },
    {
     "name": "stdout",
     "output_type": "stream",
     "text": [
      "\r\n",
      "Epoch 397/600:  66%|██████▌   | 397/600 [6:33:58<3:17:37, 58.41s/it, v_num=e6_1, total_loss_train=544, kl_local_train=88, metric_mi|age_categorical_train=0.219]"
     ]
    },
    {
     "name": "stdout",
     "output_type": "stream",
     "text": [
      "\r\n",
      "Epoch 397/600:  66%|██████▌   | 397/600 [6:33:58<3:17:37, 58.41s/it, v_num=e6_1, total_loss_train=544, kl_local_train=88, metric_mi|age_categorical_train=0.219]"
     ]
    },
    {
     "name": "stdout",
     "output_type": "stream",
     "text": [
      "\r\n",
      "Epoch 398/600:  66%|██████▌   | 397/600 [6:33:58<3:17:37, 58.41s/it, v_num=e6_1, total_loss_train=544, kl_local_train=88, metric_mi|age_categorical_train=0.219]"
     ]
    },
    {
     "name": "stdout",
     "output_type": "stream",
     "text": [
      "\r\n",
      "Epoch 398/600:  66%|██████▋   | 398/600 [6:34:55<3:14:51, 57.88s/it, v_num=e6_1, total_loss_train=544, kl_local_train=88, metric_mi|age_categorical_train=0.219]"
     ]
    },
    {
     "name": "stdout",
     "output_type": "stream",
     "text": [
      "\r\n",
      "Epoch 398/600:  66%|██████▋   | 398/600 [6:34:55<3:14:51, 57.88s/it, v_num=e6_1, total_loss_train=544, kl_local_train=88.5, metric_mi|age_categorical_train=0.219]"
     ]
    },
    {
     "name": "stdout",
     "output_type": "stream",
     "text": [
      "\r\n",
      "Epoch 399/600:  66%|██████▋   | 398/600 [6:34:55<3:14:51, 57.88s/it, v_num=e6_1, total_loss_train=544, kl_local_train=88.5, metric_mi|age_categorical_train=0.219]"
     ]
    },
    {
     "name": "stdout",
     "output_type": "stream",
     "text": [
      "\r\n",
      "Epoch 399/600:  66%|██████▋   | 399/600 [6:35:48<3:09:00, 56.42s/it, v_num=e6_1, total_loss_train=544, kl_local_train=88.5, metric_mi|age_categorical_train=0.219]"
     ]
    },
    {
     "name": "stdout",
     "output_type": "stream",
     "text": [
      "\r\n",
      "Epoch 399/600:  66%|██████▋   | 399/600 [6:35:48<3:09:00, 56.42s/it, v_num=e6_1, total_loss_train=545, kl_local_train=88.3, metric_mi|age_categorical_train=0.219]"
     ]
    },
    {
     "name": "stdout",
     "output_type": "stream",
     "text": [
      "\r\n",
      "Epoch 400/600:  66%|██████▋   | 399/600 [6:35:48<3:09:00, 56.42s/it, v_num=e6_1, total_loss_train=545, kl_local_train=88.3, metric_mi|age_categorical_train=0.219]"
     ]
    },
    {
     "name": "stdout",
     "output_type": "stream",
     "text": [
      "\r\n",
      "Epoch 400/600:  67%|██████▋   | 400/600 [6:36:40<3:04:16, 55.28s/it, v_num=e6_1, total_loss_train=545, kl_local_train=88.3, metric_mi|age_categorical_train=0.219]"
     ]
    },
    {
     "name": "stdout",
     "output_type": "stream",
     "text": [
      "\r\n",
      "Epoch 400/600:  67%|██████▋   | 400/600 [6:36:40<3:04:16, 55.28s/it, v_num=e6_1, total_loss_train=544, kl_local_train=87.9, metric_mi|age_categorical_train=0.219]"
     ]
    },
    {
     "name": "stdout",
     "output_type": "stream",
     "text": [
      "\r\n",
      "Epoch 401/600:  67%|██████▋   | 400/600 [6:36:41<3:04:16, 55.28s/it, v_num=e6_1, total_loss_train=544, kl_local_train=87.9, metric_mi|age_categorical_train=0.219]"
     ]
    },
    {
     "name": "stdout",
     "output_type": "stream",
     "text": [
      "\r\n",
      "Epoch 401/600:  67%|██████▋   | 401/600 [6:37:39<3:07:01, 56.39s/it, v_num=e6_1, total_loss_train=544, kl_local_train=87.9, metric_mi|age_categorical_train=0.219]"
     ]
    },
    {
     "name": "stdout",
     "output_type": "stream",
     "text": [
      "\r\n",
      "Epoch 401/600:  67%|██████▋   | 401/600 [6:37:39<3:07:01, 56.39s/it, v_num=e6_1, total_loss_train=545, kl_local_train=87.7, metric_mi|age_categorical_train=0.218]"
     ]
    },
    {
     "name": "stdout",
     "output_type": "stream",
     "text": [
      "\r\n",
      "Epoch 402/600:  67%|██████▋   | 401/600 [6:37:39<3:07:01, 56.39s/it, v_num=e6_1, total_loss_train=545, kl_local_train=87.7, metric_mi|age_categorical_train=0.218]"
     ]
    },
    {
     "name": "stdout",
     "output_type": "stream",
     "text": [
      "\r\n",
      "Epoch 402/600:  67%|██████▋   | 402/600 [6:38:32<3:02:55, 55.43s/it, v_num=e6_1, total_loss_train=545, kl_local_train=87.7, metric_mi|age_categorical_train=0.218]"
     ]
    },
    {
     "name": "stdout",
     "output_type": "stream",
     "text": [
      "\r\n",
      "Epoch 402/600:  67%|██████▋   | 402/600 [6:38:32<3:02:55, 55.43s/it, v_num=e6_1, total_loss_train=545, kl_local_train=87.7, metric_mi|age_categorical_train=0.218]"
     ]
    },
    {
     "name": "stdout",
     "output_type": "stream",
     "text": [
      "\r\n",
      "Epoch 403/600:  67%|██████▋   | 402/600 [6:38:32<3:02:55, 55.43s/it, v_num=e6_1, total_loss_train=545, kl_local_train=87.7, metric_mi|age_categorical_train=0.218]"
     ]
    },
    {
     "name": "stdout",
     "output_type": "stream",
     "text": [
      "\r\n",
      "Epoch 403/600:  67%|██████▋   | 403/600 [6:39:24<2:57:47, 54.15s/it, v_num=e6_1, total_loss_train=545, kl_local_train=87.7, metric_mi|age_categorical_train=0.218]"
     ]
    },
    {
     "name": "stdout",
     "output_type": "stream",
     "text": [
      "\r\n",
      "Epoch 403/600:  67%|██████▋   | 403/600 [6:39:24<2:57:47, 54.15s/it, v_num=e6_1, total_loss_train=544, kl_local_train=87.6, metric_mi|age_categorical_train=0.218]"
     ]
    },
    {
     "name": "stdout",
     "output_type": "stream",
     "text": [
      "\r\n",
      "Epoch 404/600:  67%|██████▋   | 403/600 [6:39:24<2:57:47, 54.15s/it, v_num=e6_1, total_loss_train=544, kl_local_train=87.6, metric_mi|age_categorical_train=0.218]"
     ]
    },
    {
     "name": "stdout",
     "output_type": "stream",
     "text": [
      "\r\n",
      "Epoch 404/600:  67%|██████▋   | 404/600 [6:40:15<2:54:05, 53.29s/it, v_num=e6_1, total_loss_train=544, kl_local_train=87.6, metric_mi|age_categorical_train=0.218]"
     ]
    },
    {
     "name": "stdout",
     "output_type": "stream",
     "text": [
      "\r\n",
      "Epoch 404/600:  67%|██████▋   | 404/600 [6:40:15<2:54:05, 53.29s/it, v_num=e6_1, total_loss_train=545, kl_local_train=87.5, metric_mi|age_categorical_train=0.218]"
     ]
    },
    {
     "name": "stdout",
     "output_type": "stream",
     "text": [
      "\r\n",
      "Epoch 405/600:  67%|██████▋   | 404/600 [6:40:15<2:54:05, 53.29s/it, v_num=e6_1, total_loss_train=545, kl_local_train=87.5, metric_mi|age_categorical_train=0.218]"
     ]
    },
    {
     "name": "stdout",
     "output_type": "stream",
     "text": [
      "\r\n",
      "Epoch 405/600:  68%|██████▊   | 405/600 [6:41:08<2:52:56, 53.21s/it, v_num=e6_1, total_loss_train=545, kl_local_train=87.5, metric_mi|age_categorical_train=0.218]"
     ]
    },
    {
     "name": "stdout",
     "output_type": "stream",
     "text": [
      "\r\n",
      "Epoch 405/600:  68%|██████▊   | 405/600 [6:41:08<2:52:56, 53.21s/it, v_num=e6_1, total_loss_train=545, kl_local_train=87.2, metric_mi|age_categorical_train=0.218]"
     ]
    },
    {
     "name": "stdout",
     "output_type": "stream",
     "text": [
      "\r\n",
      "Epoch 406/600:  68%|██████▊   | 405/600 [6:41:09<2:52:56, 53.21s/it, v_num=e6_1, total_loss_train=545, kl_local_train=87.2, metric_mi|age_categorical_train=0.218]"
     ]
    },
    {
     "name": "stdout",
     "output_type": "stream",
     "text": [
      "\r\n",
      "Epoch 406/600:  68%|██████▊   | 406/600 [6:42:06<2:56:39, 54.64s/it, v_num=e6_1, total_loss_train=545, kl_local_train=87.2, metric_mi|age_categorical_train=0.218]"
     ]
    },
    {
     "name": "stdout",
     "output_type": "stream",
     "text": [
      "\r\n",
      "Epoch 406/600:  68%|██████▊   | 406/600 [6:42:06<2:56:39, 54.64s/it, v_num=e6_1, total_loss_train=545, kl_local_train=86.7, metric_mi|age_categorical_train=0.221]"
     ]
    },
    {
     "name": "stdout",
     "output_type": "stream",
     "text": [
      "\r\n",
      "Epoch 407/600:  68%|██████▊   | 406/600 [6:42:06<2:56:39, 54.64s/it, v_num=e6_1, total_loss_train=545, kl_local_train=86.7, metric_mi|age_categorical_train=0.221]"
     ]
    },
    {
     "name": "stdout",
     "output_type": "stream",
     "text": [
      "\r\n",
      "Epoch 407/600:  68%|██████▊   | 407/600 [6:43:02<2:57:24, 55.15s/it, v_num=e6_1, total_loss_train=545, kl_local_train=86.7, metric_mi|age_categorical_train=0.221]"
     ]
    },
    {
     "name": "stdout",
     "output_type": "stream",
     "text": [
      "\r\n",
      "Epoch 407/600:  68%|██████▊   | 407/600 [6:43:02<2:57:24, 55.15s/it, v_num=e6_1, total_loss_train=545, kl_local_train=86.8, metric_mi|age_categorical_train=0.221]"
     ]
    },
    {
     "name": "stdout",
     "output_type": "stream",
     "text": [
      "\r\n",
      "Epoch 408/600:  68%|██████▊   | 407/600 [6:43:02<2:57:24, 55.15s/it, v_num=e6_1, total_loss_train=545, kl_local_train=86.8, metric_mi|age_categorical_train=0.221]"
     ]
    },
    {
     "name": "stdout",
     "output_type": "stream",
     "text": [
      "\r\n",
      "Epoch 408/600:  68%|██████▊   | 408/600 [6:43:59<2:58:01, 55.63s/it, v_num=e6_1, total_loss_train=545, kl_local_train=86.8, metric_mi|age_categorical_train=0.221]"
     ]
    },
    {
     "name": "stdout",
     "output_type": "stream",
     "text": [
      "\r\n",
      "Epoch 408/600:  68%|██████▊   | 408/600 [6:43:59<2:58:01, 55.63s/it, v_num=e6_1, total_loss_train=545, kl_local_train=86.5, metric_mi|age_categorical_train=0.221]"
     ]
    },
    {
     "name": "stdout",
     "output_type": "stream",
     "text": [
      "\r\n",
      "Epoch 409/600:  68%|██████▊   | 408/600 [6:43:59<2:58:01, 55.63s/it, v_num=e6_1, total_loss_train=545, kl_local_train=86.5, metric_mi|age_categorical_train=0.221]"
     ]
    },
    {
     "name": "stdout",
     "output_type": "stream",
     "text": [
      "\r\n",
      "Epoch 409/600:  68%|██████▊   | 409/600 [6:44:52<2:54:52, 54.94s/it, v_num=e6_1, total_loss_train=545, kl_local_train=86.5, metric_mi|age_categorical_train=0.221]"
     ]
    },
    {
     "name": "stdout",
     "output_type": "stream",
     "text": [
      "\r\n",
      "Epoch 409/600:  68%|██████▊   | 409/600 [6:44:52<2:54:52, 54.94s/it, v_num=e6_1, total_loss_train=544, kl_local_train=86.3, metric_mi|age_categorical_train=0.221]"
     ]
    },
    {
     "name": "stdout",
     "output_type": "stream",
     "text": [
      "\r\n",
      "Epoch 410/600:  68%|██████▊   | 409/600 [6:44:52<2:54:52, 54.94s/it, v_num=e6_1, total_loss_train=544, kl_local_train=86.3, metric_mi|age_categorical_train=0.221]"
     ]
    },
    {
     "name": "stdout",
     "output_type": "stream",
     "text": [
      "\r\n",
      "Epoch 410/600:  68%|██████▊   | 410/600 [6:45:46<2:53:06, 54.67s/it, v_num=e6_1, total_loss_train=544, kl_local_train=86.3, metric_mi|age_categorical_train=0.221]"
     ]
    },
    {
     "name": "stdout",
     "output_type": "stream",
     "text": [
      "\r\n",
      "Epoch 410/600:  68%|██████▊   | 410/600 [6:45:46<2:53:06, 54.67s/it, v_num=e6_1, total_loss_train=545, kl_local_train=86.1, metric_mi|age_categorical_train=0.221]"
     ]
    },
    {
     "name": "stdout",
     "output_type": "stream",
     "text": [
      "\r\n",
      "Epoch 411/600:  68%|██████▊   | 410/600 [6:45:47<2:53:06, 54.67s/it, v_num=e6_1, total_loss_train=545, kl_local_train=86.1, metric_mi|age_categorical_train=0.221]"
     ]
    },
    {
     "name": "stdout",
     "output_type": "stream",
     "text": [
      "\r\n",
      "Epoch 411/600:  68%|██████▊   | 411/600 [6:46:41<2:52:13, 54.67s/it, v_num=e6_1, total_loss_train=545, kl_local_train=86.1, metric_mi|age_categorical_train=0.221]"
     ]
    },
    {
     "name": "stdout",
     "output_type": "stream",
     "text": [
      "\r\n",
      "Epoch 411/600:  68%|██████▊   | 411/600 [6:46:41<2:52:13, 54.67s/it, v_num=e6_1, total_loss_train=545, kl_local_train=86.3, metric_mi|age_categorical_train=0.219]"
     ]
    },
    {
     "name": "stdout",
     "output_type": "stream",
     "text": [
      "\r\n",
      "Epoch 412/600:  68%|██████▊   | 411/600 [6:46:41<2:52:13, 54.67s/it, v_num=e6_1, total_loss_train=545, kl_local_train=86.3, metric_mi|age_categorical_train=0.219]"
     ]
    },
    {
     "name": "stdout",
     "output_type": "stream",
     "text": [
      "\r\n",
      "Epoch 412/600:  69%|██████▊   | 412/600 [6:47:35<2:50:47, 54.51s/it, v_num=e6_1, total_loss_train=545, kl_local_train=86.3, metric_mi|age_categorical_train=0.219]"
     ]
    },
    {
     "name": "stdout",
     "output_type": "stream",
     "text": [
      "\r\n",
      "Epoch 412/600:  69%|██████▊   | 412/600 [6:47:35<2:50:47, 54.51s/it, v_num=e6_1, total_loss_train=545, kl_local_train=86.1, metric_mi|age_categorical_train=0.219]"
     ]
    },
    {
     "name": "stdout",
     "output_type": "stream",
     "text": [
      "\r\n",
      "Epoch 413/600:  69%|██████▊   | 412/600 [6:47:35<2:50:47, 54.51s/it, v_num=e6_1, total_loss_train=545, kl_local_train=86.1, metric_mi|age_categorical_train=0.219]"
     ]
    },
    {
     "name": "stdout",
     "output_type": "stream",
     "text": [
      "\r\n",
      "Epoch 413/600:  69%|██████▉   | 413/600 [6:48:28<2:48:44, 54.14s/it, v_num=e6_1, total_loss_train=545, kl_local_train=86.1, metric_mi|age_categorical_train=0.219]"
     ]
    },
    {
     "name": "stdout",
     "output_type": "stream",
     "text": [
      "\r\n",
      "Epoch 413/600:  69%|██████▉   | 413/600 [6:48:28<2:48:44, 54.14s/it, v_num=e6_1, total_loss_train=545, kl_local_train=86.1, metric_mi|age_categorical_train=0.219]"
     ]
    },
    {
     "name": "stdout",
     "output_type": "stream",
     "text": [
      "\r\n",
      "Epoch 414/600:  69%|██████▉   | 413/600 [6:48:28<2:48:44, 54.14s/it, v_num=e6_1, total_loss_train=545, kl_local_train=86.1, metric_mi|age_categorical_train=0.219]"
     ]
    },
    {
     "name": "stdout",
     "output_type": "stream",
     "text": [
      "\r\n",
      "Epoch 414/600:  69%|██████▉   | 414/600 [6:49:20<2:45:42, 53.46s/it, v_num=e6_1, total_loss_train=545, kl_local_train=86.1, metric_mi|age_categorical_train=0.219]"
     ]
    },
    {
     "name": "stdout",
     "output_type": "stream",
     "text": [
      "\r\n",
      "Epoch 414/600:  69%|██████▉   | 414/600 [6:49:20<2:45:42, 53.46s/it, v_num=e6_1, total_loss_train=545, kl_local_train=85.9, metric_mi|age_categorical_train=0.219]"
     ]
    },
    {
     "name": "stdout",
     "output_type": "stream",
     "text": [
      "\r\n",
      "Epoch 415/600:  69%|██████▉   | 414/600 [6:49:20<2:45:42, 53.46s/it, v_num=e6_1, total_loss_train=545, kl_local_train=85.9, metric_mi|age_categorical_train=0.219]"
     ]
    },
    {
     "name": "stdout",
     "output_type": "stream",
     "text": [
      "\r\n",
      "Epoch 415/600:  69%|██████▉   | 415/600 [6:50:13<2:43:56, 53.17s/it, v_num=e6_1, total_loss_train=545, kl_local_train=85.9, metric_mi|age_categorical_train=0.219]"
     ]
    },
    {
     "name": "stdout",
     "output_type": "stream",
     "text": [
      "\r\n",
      "Epoch 415/600:  69%|██████▉   | 415/600 [6:50:13<2:43:56, 53.17s/it, v_num=e6_1, total_loss_train=545, kl_local_train=85.8, metric_mi|age_categorical_train=0.219]"
     ]
    },
    {
     "name": "stdout",
     "output_type": "stream",
     "text": [
      "\r\n",
      "Epoch 416/600:  69%|██████▉   | 415/600 [6:50:14<2:43:56, 53.17s/it, v_num=e6_1, total_loss_train=545, kl_local_train=85.8, metric_mi|age_categorical_train=0.219]"
     ]
    },
    {
     "name": "stdout",
     "output_type": "stream",
     "text": [
      "\r\n",
      "Epoch 416/600:  69%|██████▉   | 416/600 [6:51:05<2:42:29, 52.99s/it, v_num=e6_1, total_loss_train=545, kl_local_train=85.8, metric_mi|age_categorical_train=0.219]"
     ]
    },
    {
     "name": "stdout",
     "output_type": "stream",
     "text": [
      "\r\n",
      "Epoch 416/600:  69%|██████▉   | 416/600 [6:51:05<2:42:29, 52.99s/it, v_num=e6_1, total_loss_train=545, kl_local_train=85.3, metric_mi|age_categorical_train=0.214]"
     ]
    },
    {
     "name": "stdout",
     "output_type": "stream",
     "text": [
      "\r\n",
      "Epoch 417/600:  69%|██████▉   | 416/600 [6:51:05<2:42:29, 52.99s/it, v_num=e6_1, total_loss_train=545, kl_local_train=85.3, metric_mi|age_categorical_train=0.214]"
     ]
    },
    {
     "name": "stdout",
     "output_type": "stream",
     "text": [
      "\r\n",
      "Epoch 417/600:  70%|██████▉   | 417/600 [6:52:00<2:42:46, 53.37s/it, v_num=e6_1, total_loss_train=545, kl_local_train=85.3, metric_mi|age_categorical_train=0.214]"
     ]
    },
    {
     "name": "stdout",
     "output_type": "stream",
     "text": [
      "\r\n",
      "Epoch 417/600:  70%|██████▉   | 417/600 [6:52:00<2:42:46, 53.37s/it, v_num=e6_1, total_loss_train=545, kl_local_train=85.3, metric_mi|age_categorical_train=0.214]"
     ]
    },
    {
     "name": "stdout",
     "output_type": "stream",
     "text": [
      "\r\n",
      "Epoch 418/600:  70%|██████▉   | 417/600 [6:52:00<2:42:46, 53.37s/it, v_num=e6_1, total_loss_train=545, kl_local_train=85.3, metric_mi|age_categorical_train=0.214]"
     ]
    },
    {
     "name": "stdout",
     "output_type": "stream",
     "text": [
      "\r\n",
      "Epoch 418/600:  70%|██████▉   | 418/600 [6:52:57<2:46:00, 54.73s/it, v_num=e6_1, total_loss_train=545, kl_local_train=85.3, metric_mi|age_categorical_train=0.214]"
     ]
    },
    {
     "name": "stdout",
     "output_type": "stream",
     "text": [
      "\r\n",
      "Epoch 418/600:  70%|██████▉   | 418/600 [6:52:57<2:46:00, 54.73s/it, v_num=e6_1, total_loss_train=545, kl_local_train=85.3, metric_mi|age_categorical_train=0.214]"
     ]
    },
    {
     "name": "stdout",
     "output_type": "stream",
     "text": [
      "\r\n",
      "Epoch 419/600:  70%|██████▉   | 418/600 [6:52:57<2:46:00, 54.73s/it, v_num=e6_1, total_loss_train=545, kl_local_train=85.3, metric_mi|age_categorical_train=0.214]"
     ]
    },
    {
     "name": "stdout",
     "output_type": "stream",
     "text": [
      "\r\n",
      "Epoch 419/600:  70%|██████▉   | 419/600 [6:53:55<2:47:38, 55.57s/it, v_num=e6_1, total_loss_train=545, kl_local_train=85.3, metric_mi|age_categorical_train=0.214]"
     ]
    },
    {
     "name": "stdout",
     "output_type": "stream",
     "text": [
      "\r\n",
      "Epoch 419/600:  70%|██████▉   | 419/600 [6:53:55<2:47:38, 55.57s/it, v_num=e6_1, total_loss_train=545, kl_local_train=85, metric_mi|age_categorical_train=0.214]  "
     ]
    },
    {
     "name": "stdout",
     "output_type": "stream",
     "text": [
      "\r\n",
      "Epoch 420/600:  70%|██████▉   | 419/600 [6:53:55<2:47:38, 55.57s/it, v_num=e6_1, total_loss_train=545, kl_local_train=85, metric_mi|age_categorical_train=0.214]"
     ]
    },
    {
     "name": "stdout",
     "output_type": "stream",
     "text": [
      "\r\n",
      "Epoch 420/600:  70%|███████   | 420/600 [6:54:51<2:47:13, 55.74s/it, v_num=e6_1, total_loss_train=545, kl_local_train=85, metric_mi|age_categorical_train=0.214]"
     ]
    },
    {
     "name": "stdout",
     "output_type": "stream",
     "text": [
      "\r\n",
      "Epoch 420/600:  70%|███████   | 420/600 [6:54:51<2:47:13, 55.74s/it, v_num=e6_1, total_loss_train=545, kl_local_train=84.6, metric_mi|age_categorical_train=0.214]"
     ]
    },
    {
     "name": "stdout",
     "output_type": "stream",
     "text": [
      "\r\n",
      "Epoch 421/600:  70%|███████   | 420/600 [6:54:52<2:47:13, 55.74s/it, v_num=e6_1, total_loss_train=545, kl_local_train=84.6, metric_mi|age_categorical_train=0.214]"
     ]
    },
    {
     "name": "stdout",
     "output_type": "stream",
     "text": [
      "\r\n",
      "Epoch 421/600:  70%|███████   | 421/600 [6:55:46<2:45:40, 55.53s/it, v_num=e6_1, total_loss_train=545, kl_local_train=84.6, metric_mi|age_categorical_train=0.214]"
     ]
    },
    {
     "name": "stdout",
     "output_type": "stream",
     "text": [
      "\r\n",
      "Epoch 421/600:  70%|███████   | 421/600 [6:55:46<2:45:40, 55.53s/it, v_num=e6_1, total_loss_train=545, kl_local_train=84.3, metric_mi|age_categorical_train=0.205]"
     ]
    },
    {
     "name": "stdout",
     "output_type": "stream",
     "text": [
      "\r\n",
      "Epoch 422/600:  70%|███████   | 421/600 [6:55:46<2:45:40, 55.53s/it, v_num=e6_1, total_loss_train=545, kl_local_train=84.3, metric_mi|age_categorical_train=0.205]"
     ]
    },
    {
     "name": "stdout",
     "output_type": "stream",
     "text": [
      "\r\n",
      "Epoch 422/600:  70%|███████   | 422/600 [6:56:40<2:43:22, 55.07s/it, v_num=e6_1, total_loss_train=545, kl_local_train=84.3, metric_mi|age_categorical_train=0.205]"
     ]
    },
    {
     "name": "stdout",
     "output_type": "stream",
     "text": [
      "\r\n",
      "Epoch 422/600:  70%|███████   | 422/600 [6:56:40<2:43:22, 55.07s/it, v_num=e6_1, total_loss_train=545, kl_local_train=84.9, metric_mi|age_categorical_train=0.205]"
     ]
    },
    {
     "name": "stdout",
     "output_type": "stream",
     "text": [
      "\r\n",
      "Epoch 423/600:  70%|███████   | 422/600 [6:56:40<2:43:22, 55.07s/it, v_num=e6_1, total_loss_train=545, kl_local_train=84.9, metric_mi|age_categorical_train=0.205]"
     ]
    },
    {
     "name": "stdout",
     "output_type": "stream",
     "text": [
      "\r\n",
      "Epoch 423/600:  70%|███████   | 423/600 [6:57:34<2:41:35, 54.78s/it, v_num=e6_1, total_loss_train=545, kl_local_train=84.9, metric_mi|age_categorical_train=0.205]"
     ]
    },
    {
     "name": "stdout",
     "output_type": "stream",
     "text": [
      "\r\n",
      "Epoch 423/600:  70%|███████   | 423/600 [6:57:34<2:41:35, 54.78s/it, v_num=e6_1, total_loss_train=546, kl_local_train=84.8, metric_mi|age_categorical_train=0.205]"
     ]
    },
    {
     "name": "stdout",
     "output_type": "stream",
     "text": [
      "\r\n",
      "Epoch 424/600:  70%|███████   | 423/600 [6:57:34<2:41:35, 54.78s/it, v_num=e6_1, total_loss_train=546, kl_local_train=84.8, metric_mi|age_categorical_train=0.205]"
     ]
    },
    {
     "name": "stdout",
     "output_type": "stream",
     "text": [
      "\r\n",
      "Epoch 424/600:  71%|███████   | 424/600 [6:58:28<2:40:01, 54.55s/it, v_num=e6_1, total_loss_train=546, kl_local_train=84.8, metric_mi|age_categorical_train=0.205]"
     ]
    },
    {
     "name": "stdout",
     "output_type": "stream",
     "text": [
      "\r\n",
      "Epoch 424/600:  71%|███████   | 424/600 [6:58:28<2:40:01, 54.55s/it, v_num=e6_1, total_loss_train=545, kl_local_train=84.8, metric_mi|age_categorical_train=0.205]"
     ]
    },
    {
     "name": "stdout",
     "output_type": "stream",
     "text": [
      "\r\n",
      "Epoch 425/600:  71%|███████   | 424/600 [6:58:28<2:40:01, 54.55s/it, v_num=e6_1, total_loss_train=545, kl_local_train=84.8, metric_mi|age_categorical_train=0.205]"
     ]
    },
    {
     "name": "stdout",
     "output_type": "stream",
     "text": [
      "\r\n",
      "Epoch 425/600:  71%|███████   | 425/600 [6:59:23<2:39:08, 54.56s/it, v_num=e6_1, total_loss_train=545, kl_local_train=84.8, metric_mi|age_categorical_train=0.205]"
     ]
    },
    {
     "name": "stdout",
     "output_type": "stream",
     "text": [
      "\r\n",
      "Epoch 425/600:  71%|███████   | 425/600 [6:59:23<2:39:08, 54.56s/it, v_num=e6_1, total_loss_train=546, kl_local_train=84.8, metric_mi|age_categorical_train=0.205]"
     ]
    },
    {
     "name": "stdout",
     "output_type": "stream",
     "text": [
      "\r\n",
      "Epoch 426/600:  71%|███████   | 425/600 [6:59:24<2:39:08, 54.56s/it, v_num=e6_1, total_loss_train=546, kl_local_train=84.8, metric_mi|age_categorical_train=0.205]"
     ]
    },
    {
     "name": "stdout",
     "output_type": "stream",
     "text": [
      "\r\n",
      "Epoch 426/600:  71%|███████   | 426/600 [7:00:13<2:34:11, 53.17s/it, v_num=e6_1, total_loss_train=546, kl_local_train=84.8, metric_mi|age_categorical_train=0.205]"
     ]
    },
    {
     "name": "stdout",
     "output_type": "stream",
     "text": [
      "\r\n",
      "Epoch 426/600:  71%|███████   | 426/600 [7:00:13<2:34:11, 53.17s/it, v_num=e6_1, total_loss_train=546, kl_local_train=84.6, metric_mi|age_categorical_train=0.213]"
     ]
    },
    {
     "name": "stdout",
     "output_type": "stream",
     "text": [
      "\r\n",
      "Epoch 427/600:  71%|███████   | 426/600 [7:00:13<2:34:11, 53.17s/it, v_num=e6_1, total_loss_train=546, kl_local_train=84.6, metric_mi|age_categorical_train=0.213]"
     ]
    },
    {
     "name": "stdout",
     "output_type": "stream",
     "text": [
      "\r\n",
      "Epoch 427/600:  71%|███████   | 427/600 [7:01:02<2:29:54, 51.99s/it, v_num=e6_1, total_loss_train=546, kl_local_train=84.6, metric_mi|age_categorical_train=0.213]"
     ]
    },
    {
     "name": "stdout",
     "output_type": "stream",
     "text": [
      "\r\n",
      "Epoch 427/600:  71%|███████   | 427/600 [7:01:02<2:29:54, 51.99s/it, v_num=e6_1, total_loss_train=546, kl_local_train=84.4, metric_mi|age_categorical_train=0.213]"
     ]
    },
    {
     "name": "stdout",
     "output_type": "stream",
     "text": [
      "\r\n",
      "Epoch 428/600:  71%|███████   | 427/600 [7:01:02<2:29:54, 51.99s/it, v_num=e6_1, total_loss_train=546, kl_local_train=84.4, metric_mi|age_categorical_train=0.213]"
     ]
    },
    {
     "name": "stdout",
     "output_type": "stream",
     "text": [
      "\r\n",
      "Epoch 428/600:  71%|███████▏  | 428/600 [7:01:54<2:29:10, 52.04s/it, v_num=e6_1, total_loss_train=546, kl_local_train=84.4, metric_mi|age_categorical_train=0.213]"
     ]
    },
    {
     "name": "stdout",
     "output_type": "stream",
     "text": [
      "\r\n",
      "Epoch 428/600:  71%|███████▏  | 428/600 [7:01:54<2:29:10, 52.04s/it, v_num=e6_1, total_loss_train=546, kl_local_train=84.3, metric_mi|age_categorical_train=0.213]"
     ]
    },
    {
     "name": "stdout",
     "output_type": "stream",
     "text": [
      "\r\n",
      "Epoch 429/600:  71%|███████▏  | 428/600 [7:01:54<2:29:10, 52.04s/it, v_num=e6_1, total_loss_train=546, kl_local_train=84.3, metric_mi|age_categorical_train=0.213]"
     ]
    },
    {
     "name": "stdout",
     "output_type": "stream",
     "text": [
      "\r\n",
      "Epoch 429/600:  72%|███████▏  | 429/600 [7:02:49<2:30:51, 52.93s/it, v_num=e6_1, total_loss_train=546, kl_local_train=84.3, metric_mi|age_categorical_train=0.213]"
     ]
    },
    {
     "name": "stdout",
     "output_type": "stream",
     "text": [
      "\r\n",
      "Epoch 429/600:  72%|███████▏  | 429/600 [7:02:49<2:30:51, 52.93s/it, v_num=e6_1, total_loss_train=546, kl_local_train=84.4, metric_mi|age_categorical_train=0.213]"
     ]
    },
    {
     "name": "stdout",
     "output_type": "stream",
     "text": [
      "\r\n",
      "Epoch 430/600:  72%|███████▏  | 429/600 [7:02:49<2:30:51, 52.93s/it, v_num=e6_1, total_loss_train=546, kl_local_train=84.4, metric_mi|age_categorical_train=0.213]"
     ]
    },
    {
     "name": "stdout",
     "output_type": "stream",
     "text": [
      "\r\n",
      "Epoch 430/600:  72%|███████▏  | 430/600 [7:03:45<2:32:02, 53.66s/it, v_num=e6_1, total_loss_train=546, kl_local_train=84.4, metric_mi|age_categorical_train=0.213]"
     ]
    },
    {
     "name": "stdout",
     "output_type": "stream",
     "text": [
      "\r\n",
      "Epoch 430/600:  72%|███████▏  | 430/600 [7:03:45<2:32:02, 53.66s/it, v_num=e6_1, total_loss_train=546, kl_local_train=84, metric_mi|age_categorical_train=0.213]  "
     ]
    },
    {
     "name": "stdout",
     "output_type": "stream",
     "text": [
      "\r\n",
      "Epoch 431/600:  72%|███████▏  | 430/600 [7:03:45<2:32:02, 53.66s/it, v_num=e6_1, total_loss_train=546, kl_local_train=84, metric_mi|age_categorical_train=0.213]"
     ]
    },
    {
     "name": "stdout",
     "output_type": "stream",
     "text": [
      "\r\n",
      "Epoch 431/600:  72%|███████▏  | 431/600 [7:04:36<2:29:04, 52.93s/it, v_num=e6_1, total_loss_train=546, kl_local_train=84, metric_mi|age_categorical_train=0.213]"
     ]
    },
    {
     "name": "stdout",
     "output_type": "stream",
     "text": [
      "\r\n",
      "Epoch 431/600:  72%|███████▏  | 431/600 [7:04:36<2:29:04, 52.93s/it, v_num=e6_1, total_loss_train=546, kl_local_train=83.8, metric_mi|age_categorical_train=0.211]"
     ]
    },
    {
     "name": "stdout",
     "output_type": "stream",
     "text": [
      "\r\n",
      "Epoch 432/600:  72%|███████▏  | 431/600 [7:04:36<2:29:04, 52.93s/it, v_num=e6_1, total_loss_train=546, kl_local_train=83.8, metric_mi|age_categorical_train=0.211]"
     ]
    },
    {
     "name": "stdout",
     "output_type": "stream",
     "text": [
      "\r\n",
      "Epoch 432/600:  72%|███████▏  | 432/600 [7:05:26<2:25:45, 52.06s/it, v_num=e6_1, total_loss_train=546, kl_local_train=83.8, metric_mi|age_categorical_train=0.211]"
     ]
    },
    {
     "name": "stdout",
     "output_type": "stream",
     "text": [
      "\r\n",
      "Epoch 432/600:  72%|███████▏  | 432/600 [7:05:26<2:25:45, 52.06s/it, v_num=e6_1, total_loss_train=546, kl_local_train=84, metric_mi|age_categorical_train=0.211]  "
     ]
    },
    {
     "name": "stdout",
     "output_type": "stream",
     "text": [
      "\r\n",
      "Epoch 433/600:  72%|███████▏  | 432/600 [7:05:26<2:25:45, 52.06s/it, v_num=e6_1, total_loss_train=546, kl_local_train=84, metric_mi|age_categorical_train=0.211]"
     ]
    },
    {
     "name": "stdout",
     "output_type": "stream",
     "text": [
      "\r\n",
      "Epoch 433/600:  72%|███████▏  | 433/600 [7:06:16<2:23:35, 51.59s/it, v_num=e6_1, total_loss_train=546, kl_local_train=84, metric_mi|age_categorical_train=0.211]"
     ]
    },
    {
     "name": "stdout",
     "output_type": "stream",
     "text": [
      "\r\n",
      "Epoch 433/600:  72%|███████▏  | 433/600 [7:06:16<2:23:35, 51.59s/it, v_num=e6_1, total_loss_train=546, kl_local_train=83.5, metric_mi|age_categorical_train=0.211]"
     ]
    },
    {
     "name": "stdout",
     "output_type": "stream",
     "text": [
      "\r\n",
      "Epoch 434/600:  72%|███████▏  | 433/600 [7:06:16<2:23:35, 51.59s/it, v_num=e6_1, total_loss_train=546, kl_local_train=83.5, metric_mi|age_categorical_train=0.211]"
     ]
    },
    {
     "name": "stdout",
     "output_type": "stream",
     "text": [
      "\r\n",
      "Epoch 434/600:  72%|███████▏  | 434/600 [7:07:06<2:20:55, 50.94s/it, v_num=e6_1, total_loss_train=546, kl_local_train=83.5, metric_mi|age_categorical_train=0.211]"
     ]
    },
    {
     "name": "stdout",
     "output_type": "stream",
     "text": [
      "\r\n",
      "Epoch 434/600:  72%|███████▏  | 434/600 [7:07:06<2:20:55, 50.94s/it, v_num=e6_1, total_loss_train=546, kl_local_train=83.2, metric_mi|age_categorical_train=0.211]"
     ]
    },
    {
     "name": "stdout",
     "output_type": "stream",
     "text": [
      "\r\n",
      "Epoch 435/600:  72%|███████▏  | 434/600 [7:07:06<2:20:55, 50.94s/it, v_num=e6_1, total_loss_train=546, kl_local_train=83.2, metric_mi|age_categorical_train=0.211]"
     ]
    },
    {
     "name": "stdout",
     "output_type": "stream",
     "text": [
      "\r\n",
      "Epoch 435/600:  72%|███████▎  | 435/600 [7:07:55<2:18:39, 50.42s/it, v_num=e6_1, total_loss_train=546, kl_local_train=83.2, metric_mi|age_categorical_train=0.211]"
     ]
    },
    {
     "name": "stdout",
     "output_type": "stream",
     "text": [
      "\r\n",
      "Epoch 435/600:  72%|███████▎  | 435/600 [7:07:55<2:18:39, 50.42s/it, v_num=e6_1, total_loss_train=546, kl_local_train=83.4, metric_mi|age_categorical_train=0.211]"
     ]
    },
    {
     "name": "stdout",
     "output_type": "stream",
     "text": [
      "\r\n",
      "Epoch 436/600:  72%|███████▎  | 435/600 [7:07:56<2:18:39, 50.42s/it, v_num=e6_1, total_loss_train=546, kl_local_train=83.4, metric_mi|age_categorical_train=0.211]"
     ]
    },
    {
     "name": "stdout",
     "output_type": "stream",
     "text": [
      "\r\n",
      "Epoch 436/600:  73%|███████▎  | 436/600 [7:08:46<2:18:06, 50.53s/it, v_num=e6_1, total_loss_train=546, kl_local_train=83.4, metric_mi|age_categorical_train=0.211]"
     ]
    },
    {
     "name": "stdout",
     "output_type": "stream",
     "text": [
      "\r\n",
      "Epoch 436/600:  73%|███████▎  | 436/600 [7:08:46<2:18:06, 50.53s/it, v_num=e6_1, total_loss_train=547, kl_local_train=83.7, metric_mi|age_categorical_train=0.208]"
     ]
    },
    {
     "name": "stdout",
     "output_type": "stream",
     "text": [
      "\r\n",
      "Epoch 437/600:  73%|███████▎  | 436/600 [7:08:46<2:18:06, 50.53s/it, v_num=e6_1, total_loss_train=547, kl_local_train=83.7, metric_mi|age_categorical_train=0.208]"
     ]
    },
    {
     "name": "stdout",
     "output_type": "stream",
     "text": [
      "\r\n",
      "Epoch 437/600:  73%|███████▎  | 437/600 [7:09:36<2:17:03, 50.45s/it, v_num=e6_1, total_loss_train=547, kl_local_train=83.7, metric_mi|age_categorical_train=0.208]"
     ]
    },
    {
     "name": "stdout",
     "output_type": "stream",
     "text": [
      "\r\n",
      "Epoch 437/600:  73%|███████▎  | 437/600 [7:09:36<2:17:03, 50.45s/it, v_num=e6_1, total_loss_train=547, kl_local_train=84, metric_mi|age_categorical_train=0.208]  "
     ]
    },
    {
     "name": "stdout",
     "output_type": "stream",
     "text": [
      "\r\n",
      "Epoch 438/600:  73%|███████▎  | 437/600 [7:09:36<2:17:03, 50.45s/it, v_num=e6_1, total_loss_train=547, kl_local_train=84, metric_mi|age_categorical_train=0.208]"
     ]
    },
    {
     "name": "stdout",
     "output_type": "stream",
     "text": [
      "\r\n",
      "Epoch 438/600:  73%|███████▎  | 438/600 [7:10:28<2:17:20, 50.87s/it, v_num=e6_1, total_loss_train=547, kl_local_train=84, metric_mi|age_categorical_train=0.208]"
     ]
    },
    {
     "name": "stdout",
     "output_type": "stream",
     "text": [
      "\r\n",
      "Epoch 438/600:  73%|███████▎  | 438/600 [7:10:28<2:17:20, 50.87s/it, v_num=e6_1, total_loss_train=547, kl_local_train=83.2, metric_mi|age_categorical_train=0.208]"
     ]
    },
    {
     "name": "stdout",
     "output_type": "stream",
     "text": [
      "\r\n",
      "Epoch 439/600:  73%|███████▎  | 438/600 [7:10:28<2:17:20, 50.87s/it, v_num=e6_1, total_loss_train=547, kl_local_train=83.2, metric_mi|age_categorical_train=0.208]"
     ]
    },
    {
     "name": "stdout",
     "output_type": "stream",
     "text": [
      "\r\n",
      "Epoch 439/600:  73%|███████▎  | 439/600 [7:11:19<2:16:41, 50.94s/it, v_num=e6_1, total_loss_train=547, kl_local_train=83.2, metric_mi|age_categorical_train=0.208]"
     ]
    },
    {
     "name": "stdout",
     "output_type": "stream",
     "text": [
      "\r\n",
      "Epoch 439/600:  73%|███████▎  | 439/600 [7:11:19<2:16:41, 50.94s/it, v_num=e6_1, total_loss_train=547, kl_local_train=83.3, metric_mi|age_categorical_train=0.208]"
     ]
    },
    {
     "name": "stdout",
     "output_type": "stream",
     "text": [
      "\r\n",
      "Epoch 440/600:  73%|███████▎  | 439/600 [7:11:19<2:16:41, 50.94s/it, v_num=e6_1, total_loss_train=547, kl_local_train=83.3, metric_mi|age_categorical_train=0.208]"
     ]
    },
    {
     "name": "stdout",
     "output_type": "stream",
     "text": [
      "\r\n",
      "Epoch 440/600:  73%|███████▎  | 440/600 [7:12:11<2:16:53, 51.33s/it, v_num=e6_1, total_loss_train=547, kl_local_train=83.3, metric_mi|age_categorical_train=0.208]"
     ]
    },
    {
     "name": "stdout",
     "output_type": "stream",
     "text": [
      "\r\n",
      "Epoch 440/600:  73%|███████▎  | 440/600 [7:12:11<2:16:53, 51.33s/it, v_num=e6_1, total_loss_train=547, kl_local_train=82.6, metric_mi|age_categorical_train=0.208]"
     ]
    },
    {
     "name": "stdout",
     "output_type": "stream",
     "text": [
      "\r\n",
      "Epoch 441/600:  73%|███████▎  | 440/600 [7:12:12<2:16:53, 51.33s/it, v_num=e6_1, total_loss_train=547, kl_local_train=82.6, metric_mi|age_categorical_train=0.208]"
     ]
    },
    {
     "name": "stdout",
     "output_type": "stream",
     "text": [
      "\r\n",
      "Epoch 441/600:  74%|███████▎  | 441/600 [7:13:03<2:16:28, 51.50s/it, v_num=e6_1, total_loss_train=547, kl_local_train=82.6, metric_mi|age_categorical_train=0.208]"
     ]
    },
    {
     "name": "stdout",
     "output_type": "stream",
     "text": [
      "\r\n",
      "Epoch 441/600:  74%|███████▎  | 441/600 [7:13:03<2:16:28, 51.50s/it, v_num=e6_1, total_loss_train=546, kl_local_train=82.6, metric_mi|age_categorical_train=0.216]"
     ]
    },
    {
     "name": "stdout",
     "output_type": "stream",
     "text": [
      "\r\n",
      "Epoch 442/600:  74%|███████▎  | 441/600 [7:13:03<2:16:28, 51.50s/it, v_num=e6_1, total_loss_train=546, kl_local_train=82.6, metric_mi|age_categorical_train=0.216]"
     ]
    },
    {
     "name": "stdout",
     "output_type": "stream",
     "text": [
      "\r\n",
      "Epoch 442/600:  74%|███████▎  | 442/600 [7:13:55<2:15:35, 51.49s/it, v_num=e6_1, total_loss_train=546, kl_local_train=82.6, metric_mi|age_categorical_train=0.216]"
     ]
    },
    {
     "name": "stdout",
     "output_type": "stream",
     "text": [
      "\r\n",
      "Epoch 442/600:  74%|███████▎  | 442/600 [7:13:55<2:15:35, 51.49s/it, v_num=e6_1, total_loss_train=547, kl_local_train=82.3, metric_mi|age_categorical_train=0.216]"
     ]
    },
    {
     "name": "stdout",
     "output_type": "stream",
     "text": [
      "\r\n",
      "Epoch 443/600:  74%|███████▎  | 442/600 [7:13:55<2:15:35, 51.49s/it, v_num=e6_1, total_loss_train=547, kl_local_train=82.3, metric_mi|age_categorical_train=0.216]"
     ]
    },
    {
     "name": "stdout",
     "output_type": "stream",
     "text": [
      "\r\n",
      "Epoch 443/600:  74%|███████▍  | 443/600 [7:14:46<2:14:48, 51.52s/it, v_num=e6_1, total_loss_train=547, kl_local_train=82.3, metric_mi|age_categorical_train=0.216]"
     ]
    },
    {
     "name": "stdout",
     "output_type": "stream",
     "text": [
      "\r\n",
      "Epoch 443/600:  74%|███████▍  | 443/600 [7:14:46<2:14:48, 51.52s/it, v_num=e6_1, total_loss_train=547, kl_local_train=82.9, metric_mi|age_categorical_train=0.216]"
     ]
    },
    {
     "name": "stdout",
     "output_type": "stream",
     "text": [
      "\r\n",
      "Epoch 444/600:  74%|███████▍  | 443/600 [7:14:46<2:14:48, 51.52s/it, v_num=e6_1, total_loss_train=547, kl_local_train=82.9, metric_mi|age_categorical_train=0.216]"
     ]
    },
    {
     "name": "stdout",
     "output_type": "stream",
     "text": [
      "\r\n",
      "Epoch 444/600:  74%|███████▍  | 444/600 [7:15:38<2:14:27, 51.71s/it, v_num=e6_1, total_loss_train=547, kl_local_train=82.9, metric_mi|age_categorical_train=0.216]"
     ]
    },
    {
     "name": "stdout",
     "output_type": "stream",
     "text": [
      "\r\n",
      "Epoch 444/600:  74%|███████▍  | 444/600 [7:15:38<2:14:27, 51.71s/it, v_num=e6_1, total_loss_train=547, kl_local_train=82.6, metric_mi|age_categorical_train=0.216]"
     ]
    },
    {
     "name": "stdout",
     "output_type": "stream",
     "text": [
      "\r\n",
      "Epoch 445/600:  74%|███████▍  | 444/600 [7:15:38<2:14:27, 51.71s/it, v_num=e6_1, total_loss_train=547, kl_local_train=82.6, metric_mi|age_categorical_train=0.216]"
     ]
    },
    {
     "name": "stdout",
     "output_type": "stream",
     "text": [
      "\r\n",
      "Epoch 445/600:  74%|███████▍  | 445/600 [7:16:35<2:17:11, 53.11s/it, v_num=e6_1, total_loss_train=547, kl_local_train=82.6, metric_mi|age_categorical_train=0.216]"
     ]
    },
    {
     "name": "stdout",
     "output_type": "stream",
     "text": [
      "\r\n",
      "Epoch 445/600:  74%|███████▍  | 445/600 [7:16:35<2:17:11, 53.11s/it, v_num=e6_1, total_loss_train=547, kl_local_train=82.2, metric_mi|age_categorical_train=0.216]"
     ]
    },
    {
     "name": "stdout",
     "output_type": "stream",
     "text": [
      "\r\n",
      "Epoch 446/600:  74%|███████▍  | 445/600 [7:16:36<2:17:11, 53.11s/it, v_num=e6_1, total_loss_train=547, kl_local_train=82.2, metric_mi|age_categorical_train=0.216]"
     ]
    },
    {
     "name": "stdout",
     "output_type": "stream",
     "text": [
      "\r\n",
      "Epoch 446/600:  74%|███████▍  | 446/600 [7:17:26<2:14:47, 52.51s/it, v_num=e6_1, total_loss_train=547, kl_local_train=82.2, metric_mi|age_categorical_train=0.216]"
     ]
    },
    {
     "name": "stdout",
     "output_type": "stream",
     "text": [
      "\r\n",
      "Epoch 446/600:  74%|███████▍  | 446/600 [7:17:26<2:14:47, 52.51s/it, v_num=e6_1, total_loss_train=547, kl_local_train=82.1, metric_mi|age_categorical_train=0.22] "
     ]
    },
    {
     "name": "stdout",
     "output_type": "stream",
     "text": [
      "\r\n",
      "Epoch 447/600:  74%|███████▍  | 446/600 [7:17:26<2:14:47, 52.51s/it, v_num=e6_1, total_loss_train=547, kl_local_train=82.1, metric_mi|age_categorical_train=0.22]"
     ]
    },
    {
     "name": "stdout",
     "output_type": "stream",
     "text": [
      "\r\n",
      "Epoch 447/600:  74%|███████▍  | 447/600 [7:18:16<2:12:08, 51.82s/it, v_num=e6_1, total_loss_train=547, kl_local_train=82.1, metric_mi|age_categorical_train=0.22]"
     ]
    },
    {
     "name": "stdout",
     "output_type": "stream",
     "text": [
      "\r\n",
      "Epoch 447/600:  74%|███████▍  | 447/600 [7:18:16<2:12:08, 51.82s/it, v_num=e6_1, total_loss_train=547, kl_local_train=82.1, metric_mi|age_categorical_train=0.22]"
     ]
    },
    {
     "name": "stdout",
     "output_type": "stream",
     "text": [
      "\r\n",
      "Epoch 448/600:  74%|███████▍  | 447/600 [7:18:16<2:12:08, 51.82s/it, v_num=e6_1, total_loss_train=547, kl_local_train=82.1, metric_mi|age_categorical_train=0.22]"
     ]
    },
    {
     "name": "stdout",
     "output_type": "stream",
     "text": [
      "\r\n",
      "Epoch 448/600:  75%|███████▍  | 448/600 [7:19:08<2:11:21, 51.85s/it, v_num=e6_1, total_loss_train=547, kl_local_train=82.1, metric_mi|age_categorical_train=0.22]"
     ]
    },
    {
     "name": "stdout",
     "output_type": "stream",
     "text": [
      "\r\n",
      "Epoch 448/600:  75%|███████▍  | 448/600 [7:19:08<2:11:21, 51.85s/it, v_num=e6_1, total_loss_train=547, kl_local_train=82.1, metric_mi|age_categorical_train=0.22]"
     ]
    },
    {
     "name": "stdout",
     "output_type": "stream",
     "text": [
      "\r\n",
      "Epoch 449/600:  75%|███████▍  | 448/600 [7:19:08<2:11:21, 51.85s/it, v_num=e6_1, total_loss_train=547, kl_local_train=82.1, metric_mi|age_categorical_train=0.22]"
     ]
    },
    {
     "name": "stdout",
     "output_type": "stream",
     "text": [
      "\r\n",
      "Epoch 449/600:  75%|███████▍  | 449/600 [7:19:58<2:09:15, 51.36s/it, v_num=e6_1, total_loss_train=547, kl_local_train=82.1, metric_mi|age_categorical_train=0.22]"
     ]
    },
    {
     "name": "stdout",
     "output_type": "stream",
     "text": [
      "\r\n",
      "Epoch 449/600:  75%|███████▍  | 449/600 [7:19:58<2:09:15, 51.36s/it, v_num=e6_1, total_loss_train=548, kl_local_train=81.9, metric_mi|age_categorical_train=0.22]"
     ]
    },
    {
     "name": "stdout",
     "output_type": "stream",
     "text": [
      "\r\n",
      "Epoch 450/600:  75%|███████▍  | 449/600 [7:19:58<2:09:15, 51.36s/it, v_num=e6_1, total_loss_train=548, kl_local_train=81.9, metric_mi|age_categorical_train=0.22]"
     ]
    },
    {
     "name": "stdout",
     "output_type": "stream",
     "text": [
      "\r\n",
      "Epoch 450/600:  75%|███████▌  | 450/600 [7:20:55<2:12:30, 53.00s/it, v_num=e6_1, total_loss_train=548, kl_local_train=81.9, metric_mi|age_categorical_train=0.22]"
     ]
    },
    {
     "name": "stdout",
     "output_type": "stream",
     "text": [
      "\r\n",
      "Epoch 450/600:  75%|███████▌  | 450/600 [7:20:55<2:12:30, 53.00s/it, v_num=e6_1, total_loss_train=547, kl_local_train=81.7, metric_mi|age_categorical_train=0.22]"
     ]
    },
    {
     "name": "stdout",
     "output_type": "stream",
     "text": [
      "\r\n",
      "Epoch 451/600:  75%|███████▌  | 450/600 [7:20:56<2:12:30, 53.00s/it, v_num=e6_1, total_loss_train=547, kl_local_train=81.7, metric_mi|age_categorical_train=0.22]"
     ]
    },
    {
     "name": "stdout",
     "output_type": "stream",
     "text": [
      "\r\n",
      "Epoch 451/600:  75%|███████▌  | 451/600 [7:21:52<2:14:52, 54.31s/it, v_num=e6_1, total_loss_train=547, kl_local_train=81.7, metric_mi|age_categorical_train=0.22]"
     ]
    },
    {
     "name": "stdout",
     "output_type": "stream",
     "text": [
      "\r\n",
      "Epoch 451/600:  75%|███████▌  | 451/600 [7:21:52<2:14:52, 54.31s/it, v_num=e6_1, total_loss_train=548, kl_local_train=81.5, metric_mi|age_categorical_train=0.222]"
     ]
    },
    {
     "name": "stdout",
     "output_type": "stream",
     "text": [
      "\r\n",
      "Epoch 452/600:  75%|███████▌  | 451/600 [7:21:52<2:14:52, 54.31s/it, v_num=e6_1, total_loss_train=548, kl_local_train=81.5, metric_mi|age_categorical_train=0.222]"
     ]
    },
    {
     "name": "stdout",
     "output_type": "stream",
     "text": [
      "\r\n",
      "Epoch 452/600:  75%|███████▌  | 452/600 [7:22:48<2:15:00, 54.73s/it, v_num=e6_1, total_loss_train=548, kl_local_train=81.5, metric_mi|age_categorical_train=0.222]"
     ]
    },
    {
     "name": "stdout",
     "output_type": "stream",
     "text": [
      "\r\n",
      "Epoch 452/600:  75%|███████▌  | 452/600 [7:22:48<2:15:00, 54.73s/it, v_num=e6_1, total_loss_train=547, kl_local_train=81.3, metric_mi|age_categorical_train=0.222]"
     ]
    },
    {
     "name": "stdout",
     "output_type": "stream",
     "text": [
      "\r\n",
      "Epoch 453/600:  75%|███████▌  | 452/600 [7:22:48<2:15:00, 54.73s/it, v_num=e6_1, total_loss_train=547, kl_local_train=81.3, metric_mi|age_categorical_train=0.222]"
     ]
    },
    {
     "name": "stdout",
     "output_type": "stream",
     "text": [
      "\r\n",
      "Epoch 453/600:  76%|███████▌  | 453/600 [7:23:43<2:14:01, 54.71s/it, v_num=e6_1, total_loss_train=547, kl_local_train=81.3, metric_mi|age_categorical_train=0.222]"
     ]
    },
    {
     "name": "stdout",
     "output_type": "stream",
     "text": [
      "\r\n",
      "Epoch 453/600:  76%|███████▌  | 453/600 [7:23:43<2:14:01, 54.71s/it, v_num=e6_1, total_loss_train=548, kl_local_train=81.3, metric_mi|age_categorical_train=0.222]"
     ]
    },
    {
     "name": "stdout",
     "output_type": "stream",
     "text": [
      "\r\n",
      "Epoch 454/600:  76%|███████▌  | 453/600 [7:23:43<2:14:01, 54.71s/it, v_num=e6_1, total_loss_train=548, kl_local_train=81.3, metric_mi|age_categorical_train=0.222]"
     ]
    },
    {
     "name": "stdout",
     "output_type": "stream",
     "text": [
      "\r\n",
      "Epoch 454/600:  76%|███████▌  | 454/600 [7:24:37<2:12:47, 54.57s/it, v_num=e6_1, total_loss_train=548, kl_local_train=81.3, metric_mi|age_categorical_train=0.222]"
     ]
    },
    {
     "name": "stdout",
     "output_type": "stream",
     "text": [
      "\r\n",
      "Epoch 454/600:  76%|███████▌  | 454/600 [7:24:37<2:12:47, 54.57s/it, v_num=e6_1, total_loss_train=548, kl_local_train=81.1, metric_mi|age_categorical_train=0.222]"
     ]
    },
    {
     "name": "stdout",
     "output_type": "stream",
     "text": [
      "\r\n",
      "Epoch 455/600:  76%|███████▌  | 454/600 [7:24:37<2:12:47, 54.57s/it, v_num=e6_1, total_loss_train=548, kl_local_train=81.1, metric_mi|age_categorical_train=0.222]"
     ]
    },
    {
     "name": "stdout",
     "output_type": "stream",
     "text": [
      "\r\n",
      "Epoch 455/600:  76%|███████▌  | 455/600 [7:25:30<2:10:49, 54.14s/it, v_num=e6_1, total_loss_train=548, kl_local_train=81.1, metric_mi|age_categorical_train=0.222]"
     ]
    },
    {
     "name": "stdout",
     "output_type": "stream",
     "text": [
      "\r\n",
      "Epoch 455/600:  76%|███████▌  | 455/600 [7:25:30<2:10:49, 54.14s/it, v_num=e6_1, total_loss_train=547, kl_local_train=81.1, metric_mi|age_categorical_train=0.222]"
     ]
    },
    {
     "name": "stdout",
     "output_type": "stream",
     "text": [
      "\r\n",
      "Epoch 456/600:  76%|███████▌  | 455/600 [7:25:31<2:10:49, 54.14s/it, v_num=e6_1, total_loss_train=547, kl_local_train=81.1, metric_mi|age_categorical_train=0.222]"
     ]
    },
    {
     "name": "stdout",
     "output_type": "stream",
     "text": [
      "\r\n",
      "Epoch 456/600:  76%|███████▌  | 456/600 [7:26:22<2:08:05, 53.37s/it, v_num=e6_1, total_loss_train=547, kl_local_train=81.1, metric_mi|age_categorical_train=0.222]"
     ]
    },
    {
     "name": "stdout",
     "output_type": "stream",
     "text": [
      "\r\n",
      "Epoch 456/600:  76%|███████▌  | 456/600 [7:26:22<2:08:05, 53.37s/it, v_num=e6_1, total_loss_train=548, kl_local_train=80.9, metric_mi|age_categorical_train=0.222]"
     ]
    },
    {
     "name": "stdout",
     "output_type": "stream",
     "text": [
      "\r\n",
      "Epoch 457/600:  76%|███████▌  | 456/600 [7:26:22<2:08:05, 53.37s/it, v_num=e6_1, total_loss_train=548, kl_local_train=80.9, metric_mi|age_categorical_train=0.222]"
     ]
    },
    {
     "name": "stdout",
     "output_type": "stream",
     "text": [
      "\r\n",
      "Epoch 457/600:  76%|███████▌  | 457/600 [7:27:11<2:04:35, 52.27s/it, v_num=e6_1, total_loss_train=548, kl_local_train=80.9, metric_mi|age_categorical_train=0.222]"
     ]
    },
    {
     "name": "stdout",
     "output_type": "stream",
     "text": [
      "\r\n",
      "Epoch 457/600:  76%|███████▌  | 457/600 [7:27:11<2:04:35, 52.27s/it, v_num=e6_1, total_loss_train=548, kl_local_train=81.2, metric_mi|age_categorical_train=0.222]"
     ]
    },
    {
     "name": "stdout",
     "output_type": "stream",
     "text": [
      "\r\n",
      "Epoch 458/600:  76%|███████▌  | 457/600 [7:27:11<2:04:35, 52.27s/it, v_num=e6_1, total_loss_train=548, kl_local_train=81.2, metric_mi|age_categorical_train=0.222]"
     ]
    },
    {
     "name": "stdout",
     "output_type": "stream",
     "text": [
      "\r\n",
      "Epoch 458/600:  76%|███████▋  | 458/600 [7:28:00<2:01:27, 51.32s/it, v_num=e6_1, total_loss_train=548, kl_local_train=81.2, metric_mi|age_categorical_train=0.222]"
     ]
    },
    {
     "name": "stdout",
     "output_type": "stream",
     "text": [
      "\r\n",
      "Epoch 458/600:  76%|███████▋  | 458/600 [7:28:00<2:01:27, 51.32s/it, v_num=e6_1, total_loss_train=548, kl_local_train=80.9, metric_mi|age_categorical_train=0.222]"
     ]
    },
    {
     "name": "stdout",
     "output_type": "stream",
     "text": [
      "\r\n",
      "Epoch 459/600:  76%|███████▋  | 458/600 [7:28:00<2:01:27, 51.32s/it, v_num=e6_1, total_loss_train=548, kl_local_train=80.9, metric_mi|age_categorical_train=0.222]"
     ]
    },
    {
     "name": "stdout",
     "output_type": "stream",
     "text": [
      "\r\n",
      "Epoch 459/600:  76%|███████▋  | 459/600 [7:28:49<1:58:54, 50.60s/it, v_num=e6_1, total_loss_train=548, kl_local_train=80.9, metric_mi|age_categorical_train=0.222]"
     ]
    },
    {
     "name": "stdout",
     "output_type": "stream",
     "text": [
      "\r\n",
      "Epoch 459/600:  76%|███████▋  | 459/600 [7:28:49<1:58:54, 50.60s/it, v_num=e6_1, total_loss_train=548, kl_local_train=80.9, metric_mi|age_categorical_train=0.222]"
     ]
    },
    {
     "name": "stdout",
     "output_type": "stream",
     "text": [
      "\r\n",
      "Epoch 460/600:  76%|███████▋  | 459/600 [7:28:49<1:58:54, 50.60s/it, v_num=e6_1, total_loss_train=548, kl_local_train=80.9, metric_mi|age_categorical_train=0.222]"
     ]
    },
    {
     "name": "stdout",
     "output_type": "stream",
     "text": [
      "\r\n",
      "Epoch 460/600:  77%|███████▋  | 460/600 [7:29:41<1:58:33, 50.81s/it, v_num=e6_1, total_loss_train=548, kl_local_train=80.9, metric_mi|age_categorical_train=0.222]"
     ]
    },
    {
     "name": "stdout",
     "output_type": "stream",
     "text": [
      "\r\n",
      "Epoch 460/600:  77%|███████▋  | 460/600 [7:29:41<1:58:33, 50.81s/it, v_num=e6_1, total_loss_train=548, kl_local_train=80.9, metric_mi|age_categorical_train=0.222]"
     ]
    },
    {
     "name": "stdout",
     "output_type": "stream",
     "text": [
      "\r\n",
      "Epoch 461/600:  77%|███████▋  | 460/600 [7:29:42<1:58:33, 50.81s/it, v_num=e6_1, total_loss_train=548, kl_local_train=80.9, metric_mi|age_categorical_train=0.222]"
     ]
    },
    {
     "name": "stdout",
     "output_type": "stream",
     "text": [
      "\r\n",
      "Epoch 461/600:  77%|███████▋  | 461/600 [7:30:31<1:57:10, 50.58s/it, v_num=e6_1, total_loss_train=548, kl_local_train=80.9, metric_mi|age_categorical_train=0.222]"
     ]
    },
    {
     "name": "stdout",
     "output_type": "stream",
     "text": [
      "\r\n",
      "Epoch 461/600:  77%|███████▋  | 461/600 [7:30:31<1:57:10, 50.58s/it, v_num=e6_1, total_loss_train=548, kl_local_train=80.9, metric_mi|age_categorical_train=0.222]"
     ]
    },
    {
     "name": "stdout",
     "output_type": "stream",
     "text": [
      "\r\n",
      "Epoch 462/600:  77%|███████▋  | 461/600 [7:30:31<1:57:10, 50.58s/it, v_num=e6_1, total_loss_train=548, kl_local_train=80.9, metric_mi|age_categorical_train=0.222]"
     ]
    },
    {
     "name": "stdout",
     "output_type": "stream",
     "text": [
      "\r\n",
      "Epoch 462/600:  77%|███████▋  | 462/600 [7:31:21<1:56:09, 50.50s/it, v_num=e6_1, total_loss_train=548, kl_local_train=80.9, metric_mi|age_categorical_train=0.222]"
     ]
    },
    {
     "name": "stdout",
     "output_type": "stream",
     "text": [
      "\r\n",
      "Epoch 462/600:  77%|███████▋  | 462/600 [7:31:21<1:56:09, 50.50s/it, v_num=e6_1, total_loss_train=548, kl_local_train=80.7, metric_mi|age_categorical_train=0.222]"
     ]
    },
    {
     "name": "stdout",
     "output_type": "stream",
     "text": [
      "\r\n",
      "Epoch 463/600:  77%|███████▋  | 462/600 [7:31:21<1:56:09, 50.50s/it, v_num=e6_1, total_loss_train=548, kl_local_train=80.7, metric_mi|age_categorical_train=0.222]"
     ]
    },
    {
     "name": "stdout",
     "output_type": "stream",
     "text": [
      "\r\n",
      "Epoch 463/600:  77%|███████▋  | 463/600 [7:32:10<1:54:14, 50.03s/it, v_num=e6_1, total_loss_train=548, kl_local_train=80.7, metric_mi|age_categorical_train=0.222]"
     ]
    },
    {
     "name": "stdout",
     "output_type": "stream",
     "text": [
      "\r\n",
      "Epoch 463/600:  77%|███████▋  | 463/600 [7:32:10<1:54:14, 50.03s/it, v_num=e6_1, total_loss_train=549, kl_local_train=80.8, metric_mi|age_categorical_train=0.222]"
     ]
    },
    {
     "name": "stdout",
     "output_type": "stream",
     "text": [
      "\r\n",
      "Epoch 464/600:  77%|███████▋  | 463/600 [7:32:10<1:54:14, 50.03s/it, v_num=e6_1, total_loss_train=549, kl_local_train=80.8, metric_mi|age_categorical_train=0.222]"
     ]
    },
    {
     "name": "stdout",
     "output_type": "stream",
     "text": [
      "\r\n",
      "Epoch 464/600:  77%|███████▋  | 464/600 [7:32:59<1:53:01, 49.86s/it, v_num=e6_1, total_loss_train=549, kl_local_train=80.8, metric_mi|age_categorical_train=0.222]"
     ]
    },
    {
     "name": "stdout",
     "output_type": "stream",
     "text": [
      "\r\n",
      "Epoch 464/600:  77%|███████▋  | 464/600 [7:32:59<1:53:01, 49.86s/it, v_num=e6_1, total_loss_train=548, kl_local_train=80.7, metric_mi|age_categorical_train=0.222]"
     ]
    },
    {
     "name": "stdout",
     "output_type": "stream",
     "text": [
      "\r\n",
      "Epoch 465/600:  77%|███████▋  | 464/600 [7:32:59<1:53:01, 49.86s/it, v_num=e6_1, total_loss_train=548, kl_local_train=80.7, metric_mi|age_categorical_train=0.222]"
     ]
    },
    {
     "name": "stdout",
     "output_type": "stream",
     "text": [
      "\r\n",
      "Epoch 465/600:  78%|███████▊  | 465/600 [7:33:50<1:52:59, 50.22s/it, v_num=e6_1, total_loss_train=548, kl_local_train=80.7, metric_mi|age_categorical_train=0.222]"
     ]
    },
    {
     "name": "stdout",
     "output_type": "stream",
     "text": [
      "\r\n",
      "Epoch 465/600:  78%|███████▊  | 465/600 [7:33:50<1:52:59, 50.22s/it, v_num=e6_1, total_loss_train=548, kl_local_train=80.4, metric_mi|age_categorical_train=0.222]"
     ]
    },
    {
     "name": "stdout",
     "output_type": "stream",
     "text": [
      "\r\n",
      "Epoch 466/600:  78%|███████▊  | 465/600 [7:33:51<1:52:59, 50.22s/it, v_num=e6_1, total_loss_train=548, kl_local_train=80.4, metric_mi|age_categorical_train=0.222]"
     ]
    },
    {
     "name": "stdout",
     "output_type": "stream",
     "text": [
      "\r\n",
      "Epoch 466/600:  78%|███████▊  | 466/600 [7:34:40<1:51:45, 50.04s/it, v_num=e6_1, total_loss_train=548, kl_local_train=80.4, metric_mi|age_categorical_train=0.222]"
     ]
    },
    {
     "name": "stdout",
     "output_type": "stream",
     "text": [
      "\r\n",
      "Epoch 466/600:  78%|███████▊  | 466/600 [7:34:40<1:51:45, 50.04s/it, v_num=e6_1, total_loss_train=549, kl_local_train=80.6, metric_mi|age_categorical_train=0.224]"
     ]
    },
    {
     "name": "stdout",
     "output_type": "stream",
     "text": [
      "\r\n",
      "Epoch 467/600:  78%|███████▊  | 466/600 [7:34:40<1:51:45, 50.04s/it, v_num=e6_1, total_loss_train=549, kl_local_train=80.6, metric_mi|age_categorical_train=0.224]"
     ]
    },
    {
     "name": "stdout",
     "output_type": "stream",
     "text": [
      "\r\n",
      "Epoch 467/600:  78%|███████▊  | 467/600 [7:35:28<1:49:48, 49.54s/it, v_num=e6_1, total_loss_train=549, kl_local_train=80.6, metric_mi|age_categorical_train=0.224]"
     ]
    },
    {
     "name": "stdout",
     "output_type": "stream",
     "text": [
      "\r\n",
      "Epoch 467/600:  78%|███████▊  | 467/600 [7:35:28<1:49:48, 49.54s/it, v_num=e6_1, total_loss_train=549, kl_local_train=80.6, metric_mi|age_categorical_train=0.224]"
     ]
    },
    {
     "name": "stdout",
     "output_type": "stream",
     "text": [
      "\r\n",
      "Epoch 468/600:  78%|███████▊  | 467/600 [7:35:29<1:49:48, 49.54s/it, v_num=e6_1, total_loss_train=549, kl_local_train=80.6, metric_mi|age_categorical_train=0.224]"
     ]
    },
    {
     "name": "stdout",
     "output_type": "stream",
     "text": [
      "\r\n",
      "Epoch 468/600:  78%|███████▊  | 468/600 [7:36:17<1:48:24, 49.27s/it, v_num=e6_1, total_loss_train=549, kl_local_train=80.6, metric_mi|age_categorical_train=0.224]"
     ]
    },
    {
     "name": "stdout",
     "output_type": "stream",
     "text": [
      "\r\n",
      "Epoch 468/600:  78%|███████▊  | 468/600 [7:36:17<1:48:24, 49.27s/it, v_num=e6_1, total_loss_train=549, kl_local_train=80.2, metric_mi|age_categorical_train=0.224]"
     ]
    },
    {
     "name": "stdout",
     "output_type": "stream",
     "text": [
      "\r\n",
      "Epoch 469/600:  78%|███████▊  | 468/600 [7:36:17<1:48:24, 49.27s/it, v_num=e6_1, total_loss_train=549, kl_local_train=80.2, metric_mi|age_categorical_train=0.224]"
     ]
    },
    {
     "name": "stdout",
     "output_type": "stream",
     "text": [
      "\r\n",
      "Epoch 469/600:  78%|███████▊  | 469/600 [7:37:08<1:48:40, 49.78s/it, v_num=e6_1, total_loss_train=549, kl_local_train=80.2, metric_mi|age_categorical_train=0.224]"
     ]
    },
    {
     "name": "stdout",
     "output_type": "stream",
     "text": [
      "\r\n",
      "Epoch 469/600:  78%|███████▊  | 469/600 [7:37:08<1:48:40, 49.78s/it, v_num=e6_1, total_loss_train=549, kl_local_train=80.2, metric_mi|age_categorical_train=0.224]"
     ]
    },
    {
     "name": "stdout",
     "output_type": "stream",
     "text": [
      "\r\n",
      "Epoch 470/600:  78%|███████▊  | 469/600 [7:37:08<1:48:40, 49.78s/it, v_num=e6_1, total_loss_train=549, kl_local_train=80.2, metric_mi|age_categorical_train=0.224]"
     ]
    },
    {
     "name": "stdout",
     "output_type": "stream",
     "text": [
      "\r\n",
      "Epoch 470/600:  78%|███████▊  | 470/600 [7:38:00<1:48:58, 50.30s/it, v_num=e6_1, total_loss_train=549, kl_local_train=80.2, metric_mi|age_categorical_train=0.224]"
     ]
    },
    {
     "name": "stdout",
     "output_type": "stream",
     "text": [
      "\r\n",
      "Epoch 470/600:  78%|███████▊  | 470/600 [7:38:00<1:48:58, 50.30s/it, v_num=e6_1, total_loss_train=549, kl_local_train=80, metric_mi|age_categorical_train=0.224]  "
     ]
    },
    {
     "name": "stdout",
     "output_type": "stream",
     "text": [
      "\r\n",
      "Epoch 471/600:  78%|███████▊  | 470/600 [7:38:00<1:48:58, 50.30s/it, v_num=e6_1, total_loss_train=549, kl_local_train=80, metric_mi|age_categorical_train=0.224]"
     ]
    },
    {
     "name": "stdout",
     "output_type": "stream",
     "text": [
      "\r\n",
      "Epoch 471/600:  78%|███████▊  | 471/600 [7:38:50<1:48:25, 50.43s/it, v_num=e6_1, total_loss_train=549, kl_local_train=80, metric_mi|age_categorical_train=0.224]"
     ]
    },
    {
     "name": "stdout",
     "output_type": "stream",
     "text": [
      "\r\n",
      "Epoch 471/600:  78%|███████▊  | 471/600 [7:38:50<1:48:25, 50.43s/it, v_num=e6_1, total_loss_train=549, kl_local_train=79.5, metric_mi|age_categorical_train=0.218]"
     ]
    },
    {
     "name": "stdout",
     "output_type": "stream",
     "text": [
      "\r\n",
      "Epoch 472/600:  78%|███████▊  | 471/600 [7:38:50<1:48:25, 50.43s/it, v_num=e6_1, total_loss_train=549, kl_local_train=79.5, metric_mi|age_categorical_train=0.218]"
     ]
    },
    {
     "name": "stdout",
     "output_type": "stream",
     "text": [
      "\r\n",
      "Epoch 472/600:  79%|███████▊  | 472/600 [7:39:39<1:46:25, 49.88s/it, v_num=e6_1, total_loss_train=549, kl_local_train=79.5, metric_mi|age_categorical_train=0.218]"
     ]
    },
    {
     "name": "stdout",
     "output_type": "stream",
     "text": [
      "\r\n",
      "Epoch 472/600:  79%|███████▊  | 472/600 [7:39:39<1:46:25, 49.88s/it, v_num=e6_1, total_loss_train=549, kl_local_train=79.7, metric_mi|age_categorical_train=0.218]"
     ]
    },
    {
     "name": "stdout",
     "output_type": "stream",
     "text": [
      "\r\n",
      "Epoch 473/600:  79%|███████▊  | 472/600 [7:39:39<1:46:25, 49.88s/it, v_num=e6_1, total_loss_train=549, kl_local_train=79.7, metric_mi|age_categorical_train=0.218]"
     ]
    },
    {
     "name": "stdout",
     "output_type": "stream",
     "text": [
      "\r\n",
      "Epoch 473/600:  79%|███████▉  | 473/600 [7:40:28<1:44:52, 49.55s/it, v_num=e6_1, total_loss_train=549, kl_local_train=79.7, metric_mi|age_categorical_train=0.218]"
     ]
    },
    {
     "name": "stdout",
     "output_type": "stream",
     "text": [
      "\r\n",
      "Epoch 473/600:  79%|███████▉  | 473/600 [7:40:28<1:44:52, 49.55s/it, v_num=e6_1, total_loss_train=549, kl_local_train=80, metric_mi|age_categorical_train=0.218]  "
     ]
    },
    {
     "name": "stdout",
     "output_type": "stream",
     "text": [
      "\r\n",
      "Epoch 474/600:  79%|███████▉  | 473/600 [7:40:28<1:44:52, 49.55s/it, v_num=e6_1, total_loss_train=549, kl_local_train=80, metric_mi|age_categorical_train=0.218]"
     ]
    },
    {
     "name": "stdout",
     "output_type": "stream",
     "text": [
      "\r\n",
      "Epoch 474/600:  79%|███████▉  | 474/600 [7:41:17<1:44:05, 49.57s/it, v_num=e6_1, total_loss_train=549, kl_local_train=80, metric_mi|age_categorical_train=0.218]"
     ]
    },
    {
     "name": "stdout",
     "output_type": "stream",
     "text": [
      "\r\n",
      "Epoch 474/600:  79%|███████▉  | 474/600 [7:41:17<1:44:05, 49.57s/it, v_num=e6_1, total_loss_train=549, kl_local_train=79.6, metric_mi|age_categorical_train=0.218]"
     ]
    },
    {
     "name": "stdout",
     "output_type": "stream",
     "text": [
      "\r\n",
      "Epoch 475/600:  79%|███████▉  | 474/600 [7:41:17<1:44:05, 49.57s/it, v_num=e6_1, total_loss_train=549, kl_local_train=79.6, metric_mi|age_categorical_train=0.218]"
     ]
    },
    {
     "name": "stdout",
     "output_type": "stream",
     "text": [
      "\r\n",
      "Epoch 475/600:  79%|███████▉  | 475/600 [7:42:08<1:43:53, 49.87s/it, v_num=e6_1, total_loss_train=549, kl_local_train=79.6, metric_mi|age_categorical_train=0.218]"
     ]
    },
    {
     "name": "stdout",
     "output_type": "stream",
     "text": [
      "\r\n",
      "Epoch 475/600:  79%|███████▉  | 475/600 [7:42:08<1:43:53, 49.87s/it, v_num=e6_1, total_loss_train=549, kl_local_train=79.5, metric_mi|age_categorical_train=0.218]"
     ]
    },
    {
     "name": "stdout",
     "output_type": "stream",
     "text": [
      "\r\n",
      "Epoch 476/600:  79%|███████▉  | 475/600 [7:42:09<1:43:53, 49.87s/it, v_num=e6_1, total_loss_train=549, kl_local_train=79.5, metric_mi|age_categorical_train=0.218]"
     ]
    },
    {
     "name": "stdout",
     "output_type": "stream",
     "text": [
      "\r\n",
      "Epoch 476/600:  79%|███████▉  | 476/600 [7:42:57<1:42:34, 49.64s/it, v_num=e6_1, total_loss_train=549, kl_local_train=79.5, metric_mi|age_categorical_train=0.218]"
     ]
    },
    {
     "name": "stdout",
     "output_type": "stream",
     "text": [
      "\r\n",
      "Epoch 476/600:  79%|███████▉  | 476/600 [7:42:57<1:42:34, 49.64s/it, v_num=e6_1, total_loss_train=550, kl_local_train=79.7, metric_mi|age_categorical_train=0.214]"
     ]
    },
    {
     "name": "stdout",
     "output_type": "stream",
     "text": [
      "\r\n",
      "Epoch 477/600:  79%|███████▉  | 476/600 [7:42:57<1:42:34, 49.64s/it, v_num=e6_1, total_loss_train=550, kl_local_train=79.7, metric_mi|age_categorical_train=0.214]"
     ]
    },
    {
     "name": "stdout",
     "output_type": "stream",
     "text": [
      "\r\n",
      "Epoch 477/600:  80%|███████▉  | 477/600 [7:43:45<1:40:47, 49.17s/it, v_num=e6_1, total_loss_train=550, kl_local_train=79.7, metric_mi|age_categorical_train=0.214]"
     ]
    },
    {
     "name": "stdout",
     "output_type": "stream",
     "text": [
      "\r\n",
      "Epoch 477/600:  80%|███████▉  | 477/600 [7:43:45<1:40:47, 49.17s/it, v_num=e6_1, total_loss_train=549, kl_local_train=79.5, metric_mi|age_categorical_train=0.214]"
     ]
    },
    {
     "name": "stdout",
     "output_type": "stream",
     "text": [
      "\r\n",
      "Epoch 478/600:  80%|███████▉  | 477/600 [7:43:45<1:40:47, 49.17s/it, v_num=e6_1, total_loss_train=549, kl_local_train=79.5, metric_mi|age_categorical_train=0.214]"
     ]
    },
    {
     "name": "stdout",
     "output_type": "stream",
     "text": [
      "\r\n",
      "Epoch 478/600:  80%|███████▉  | 478/600 [7:44:34<1:39:43, 49.05s/it, v_num=e6_1, total_loss_train=549, kl_local_train=79.5, metric_mi|age_categorical_train=0.214]"
     ]
    },
    {
     "name": "stdout",
     "output_type": "stream",
     "text": [
      "\r\n",
      "Epoch 478/600:  80%|███████▉  | 478/600 [7:44:34<1:39:43, 49.05s/it, v_num=e6_1, total_loss_train=550, kl_local_train=79.2, metric_mi|age_categorical_train=0.214]"
     ]
    },
    {
     "name": "stdout",
     "output_type": "stream",
     "text": [
      "\r\n",
      "Epoch 479/600:  80%|███████▉  | 478/600 [7:44:34<1:39:43, 49.05s/it, v_num=e6_1, total_loss_train=550, kl_local_train=79.2, metric_mi|age_categorical_train=0.214]"
     ]
    },
    {
     "name": "stdout",
     "output_type": "stream",
     "text": [
      "\r\n",
      "Epoch 479/600:  80%|███████▉  | 479/600 [7:45:24<1:39:22, 49.28s/it, v_num=e6_1, total_loss_train=550, kl_local_train=79.2, metric_mi|age_categorical_train=0.214]"
     ]
    },
    {
     "name": "stdout",
     "output_type": "stream",
     "text": [
      "\r\n",
      "Epoch 479/600:  80%|███████▉  | 479/600 [7:45:24<1:39:22, 49.28s/it, v_num=e6_1, total_loss_train=549, kl_local_train=78.8, metric_mi|age_categorical_train=0.214]"
     ]
    },
    {
     "name": "stdout",
     "output_type": "stream",
     "text": [
      "\r\n",
      "Epoch 480/600:  80%|███████▉  | 479/600 [7:45:24<1:39:22, 49.28s/it, v_num=e6_1, total_loss_train=549, kl_local_train=78.8, metric_mi|age_categorical_train=0.214]"
     ]
    },
    {
     "name": "stdout",
     "output_type": "stream",
     "text": [
      "\r\n",
      "Epoch 480/600:  80%|████████  | 480/600 [7:46:13<1:38:49, 49.42s/it, v_num=e6_1, total_loss_train=549, kl_local_train=78.8, metric_mi|age_categorical_train=0.214]"
     ]
    },
    {
     "name": "stdout",
     "output_type": "stream",
     "text": [
      "\r\n",
      "Epoch 480/600:  80%|████████  | 480/600 [7:46:13<1:38:49, 49.42s/it, v_num=e6_1, total_loss_train=549, kl_local_train=78.7, metric_mi|age_categorical_train=0.214]"
     ]
    },
    {
     "name": "stdout",
     "output_type": "stream",
     "text": [
      "\r\n",
      "Epoch 481/600:  80%|████████  | 480/600 [7:46:14<1:38:49, 49.42s/it, v_num=e6_1, total_loss_train=549, kl_local_train=78.7, metric_mi|age_categorical_train=0.214]"
     ]
    },
    {
     "name": "stdout",
     "output_type": "stream",
     "text": [
      "\r\n",
      "Epoch 481/600:  80%|████████  | 481/600 [7:47:04<1:38:40, 49.75s/it, v_num=e6_1, total_loss_train=549, kl_local_train=78.7, metric_mi|age_categorical_train=0.214]"
     ]
    },
    {
     "name": "stdout",
     "output_type": "stream",
     "text": [
      "\r\n",
      "Epoch 481/600:  80%|████████  | 481/600 [7:47:04<1:38:40, 49.75s/it, v_num=e6_1, total_loss_train=550, kl_local_train=78.5, metric_mi|age_categorical_train=0.212]"
     ]
    },
    {
     "name": "stdout",
     "output_type": "stream",
     "text": [
      "\r\n",
      "Epoch 482/600:  80%|████████  | 481/600 [7:47:04<1:38:40, 49.75s/it, v_num=e6_1, total_loss_train=550, kl_local_train=78.5, metric_mi|age_categorical_train=0.212]"
     ]
    },
    {
     "name": "stdout",
     "output_type": "stream",
     "text": [
      "\r\n",
      "Epoch 482/600:  80%|████████  | 482/600 [7:48:01<1:41:55, 51.82s/it, v_num=e6_1, total_loss_train=550, kl_local_train=78.5, metric_mi|age_categorical_train=0.212]"
     ]
    },
    {
     "name": "stdout",
     "output_type": "stream",
     "text": [
      "\r\n",
      "Epoch 482/600:  80%|████████  | 482/600 [7:48:01<1:41:55, 51.82s/it, v_num=e6_1, total_loss_train=549, kl_local_train=78.5, metric_mi|age_categorical_train=0.212]"
     ]
    },
    {
     "name": "stdout",
     "output_type": "stream",
     "text": [
      "\r\n",
      "Epoch 483/600:  80%|████████  | 482/600 [7:48:01<1:41:55, 51.82s/it, v_num=e6_1, total_loss_train=549, kl_local_train=78.5, metric_mi|age_categorical_train=0.212]"
     ]
    },
    {
     "name": "stdout",
     "output_type": "stream",
     "text": [
      "\r\n",
      "Epoch 483/600:  80%|████████  | 483/600 [7:48:56<1:43:22, 53.01s/it, v_num=e6_1, total_loss_train=549, kl_local_train=78.5, metric_mi|age_categorical_train=0.212]"
     ]
    },
    {
     "name": "stdout",
     "output_type": "stream",
     "text": [
      "\r\n",
      "Epoch 483/600:  80%|████████  | 483/600 [7:48:56<1:43:22, 53.01s/it, v_num=e6_1, total_loss_train=550, kl_local_train=78.7, metric_mi|age_categorical_train=0.212]"
     ]
    },
    {
     "name": "stdout",
     "output_type": "stream",
     "text": [
      "\r\n",
      "Epoch 484/600:  80%|████████  | 483/600 [7:48:56<1:43:22, 53.01s/it, v_num=e6_1, total_loss_train=550, kl_local_train=78.7, metric_mi|age_categorical_train=0.212]"
     ]
    },
    {
     "name": "stdout",
     "output_type": "stream",
     "text": [
      "\r\n",
      "Epoch 484/600:  81%|████████  | 484/600 [7:49:46<1:40:18, 51.88s/it, v_num=e6_1, total_loss_train=550, kl_local_train=78.7, metric_mi|age_categorical_train=0.212]"
     ]
    },
    {
     "name": "stdout",
     "output_type": "stream",
     "text": [
      "\r\n",
      "Epoch 484/600:  81%|████████  | 484/600 [7:49:46<1:40:18, 51.88s/it, v_num=e6_1, total_loss_train=550, kl_local_train=78.7, metric_mi|age_categorical_train=0.212]"
     ]
    },
    {
     "name": "stdout",
     "output_type": "stream",
     "text": [
      "\r\n",
      "Epoch 485/600:  81%|████████  | 484/600 [7:49:46<1:40:18, 51.88s/it, v_num=e6_1, total_loss_train=550, kl_local_train=78.7, metric_mi|age_categorical_train=0.212]"
     ]
    },
    {
     "name": "stdout",
     "output_type": "stream",
     "text": [
      "\r\n",
      "Epoch 485/600:  81%|████████  | 485/600 [7:50:36<1:38:33, 51.42s/it, v_num=e6_1, total_loss_train=550, kl_local_train=78.7, metric_mi|age_categorical_train=0.212]"
     ]
    },
    {
     "name": "stdout",
     "output_type": "stream",
     "text": [
      "\r\n",
      "Epoch 485/600:  81%|████████  | 485/600 [7:50:36<1:38:33, 51.42s/it, v_num=e6_1, total_loss_train=550, kl_local_train=78.6, metric_mi|age_categorical_train=0.212]"
     ]
    },
    {
     "name": "stdout",
     "output_type": "stream",
     "text": [
      "\r\n",
      "Epoch 486/600:  81%|████████  | 485/600 [7:50:37<1:38:33, 51.42s/it, v_num=e6_1, total_loss_train=550, kl_local_train=78.6, metric_mi|age_categorical_train=0.212]"
     ]
    },
    {
     "name": "stdout",
     "output_type": "stream",
     "text": [
      "\r\n",
      "Epoch 486/600:  81%|████████  | 486/600 [7:51:26<1:36:51, 50.98s/it, v_num=e6_1, total_loss_train=550, kl_local_train=78.6, metric_mi|age_categorical_train=0.212]"
     ]
    },
    {
     "name": "stdout",
     "output_type": "stream",
     "text": [
      "\r\n",
      "Epoch 486/600:  81%|████████  | 486/600 [7:51:26<1:36:51, 50.98s/it, v_num=e6_1, total_loss_train=550, kl_local_train=78.2, metric_mi|age_categorical_train=0.203]"
     ]
    },
    {
     "name": "stdout",
     "output_type": "stream",
     "text": [
      "\r\n",
      "Epoch 487/600:  81%|████████  | 486/600 [7:51:26<1:36:51, 50.98s/it, v_num=e6_1, total_loss_train=550, kl_local_train=78.2, metric_mi|age_categorical_train=0.203]"
     ]
    },
    {
     "name": "stdout",
     "output_type": "stream",
     "text": [
      "\r\n",
      "Epoch 487/600:  81%|████████  | 487/600 [7:52:15<1:35:02, 50.47s/it, v_num=e6_1, total_loss_train=550, kl_local_train=78.2, metric_mi|age_categorical_train=0.203]"
     ]
    },
    {
     "name": "stdout",
     "output_type": "stream",
     "text": [
      "\r\n",
      "Epoch 487/600:  81%|████████  | 487/600 [7:52:15<1:35:02, 50.47s/it, v_num=e6_1, total_loss_train=550, kl_local_train=78.1, metric_mi|age_categorical_train=0.203]"
     ]
    },
    {
     "name": "stdout",
     "output_type": "stream",
     "text": [
      "\r\n",
      "Epoch 488/600:  81%|████████  | 487/600 [7:52:15<1:35:02, 50.47s/it, v_num=e6_1, total_loss_train=550, kl_local_train=78.1, metric_mi|age_categorical_train=0.203]"
     ]
    },
    {
     "name": "stdout",
     "output_type": "stream",
     "text": [
      "\r\n",
      "Epoch 488/600:  81%|████████▏ | 488/600 [7:53:04<1:33:24, 50.04s/it, v_num=e6_1, total_loss_train=550, kl_local_train=78.1, metric_mi|age_categorical_train=0.203]"
     ]
    },
    {
     "name": "stdout",
     "output_type": "stream",
     "text": [
      "\r\n",
      "Epoch 488/600:  81%|████████▏ | 488/600 [7:53:04<1:33:24, 50.04s/it, v_num=e6_1, total_loss_train=550, kl_local_train=78.4, metric_mi|age_categorical_train=0.203]"
     ]
    },
    {
     "name": "stdout",
     "output_type": "stream",
     "text": [
      "\r\n",
      "Epoch 489/600:  81%|████████▏ | 488/600 [7:53:04<1:33:24, 50.04s/it, v_num=e6_1, total_loss_train=550, kl_local_train=78.4, metric_mi|age_categorical_train=0.203]"
     ]
    },
    {
     "name": "stdout",
     "output_type": "stream",
     "text": [
      "\r\n",
      "Epoch 489/600:  82%|████████▏ | 489/600 [7:53:53<1:32:00, 49.73s/it, v_num=e6_1, total_loss_train=550, kl_local_train=78.4, metric_mi|age_categorical_train=0.203]"
     ]
    },
    {
     "name": "stdout",
     "output_type": "stream",
     "text": [
      "\r\n",
      "Epoch 489/600:  82%|████████▏ | 489/600 [7:53:53<1:32:00, 49.73s/it, v_num=e6_1, total_loss_train=550, kl_local_train=78.2, metric_mi|age_categorical_train=0.203]"
     ]
    },
    {
     "name": "stdout",
     "output_type": "stream",
     "text": [
      "\r\n",
      "Epoch 490/600:  82%|████████▏ | 489/600 [7:53:53<1:32:00, 49.73s/it, v_num=e6_1, total_loss_train=550, kl_local_train=78.2, metric_mi|age_categorical_train=0.203]"
     ]
    },
    {
     "name": "stdout",
     "output_type": "stream",
     "text": [
      "\r\n",
      "Epoch 490/600:  82%|████████▏ | 490/600 [7:54:46<1:32:37, 50.52s/it, v_num=e6_1, total_loss_train=550, kl_local_train=78.2, metric_mi|age_categorical_train=0.203]"
     ]
    },
    {
     "name": "stdout",
     "output_type": "stream",
     "text": [
      "\r\n",
      "Epoch 490/600:  82%|████████▏ | 490/600 [7:54:46<1:32:37, 50.52s/it, v_num=e6_1, total_loss_train=550, kl_local_train=77.9, metric_mi|age_categorical_train=0.203]"
     ]
    },
    {
     "name": "stdout",
     "output_type": "stream",
     "text": [
      "\r\n",
      "Epoch 491/600:  82%|████████▏ | 490/600 [7:54:46<1:32:37, 50.52s/it, v_num=e6_1, total_loss_train=550, kl_local_train=77.9, metric_mi|age_categorical_train=0.203]"
     ]
    },
    {
     "name": "stdout",
     "output_type": "stream",
     "text": [
      "\r\n",
      "Epoch 491/600:  82%|████████▏ | 491/600 [7:55:37<1:32:01, 50.66s/it, v_num=e6_1, total_loss_train=550, kl_local_train=77.9, metric_mi|age_categorical_train=0.203]"
     ]
    },
    {
     "name": "stdout",
     "output_type": "stream",
     "text": [
      "\r\n",
      "Epoch 491/600:  82%|████████▏ | 491/600 [7:55:37<1:32:01, 50.66s/it, v_num=e6_1, total_loss_train=550, kl_local_train=78, metric_mi|age_categorical_train=0.209]  "
     ]
    },
    {
     "name": "stdout",
     "output_type": "stream",
     "text": [
      "\r\n",
      "Epoch 492/600:  82%|████████▏ | 491/600 [7:55:37<1:32:01, 50.66s/it, v_num=e6_1, total_loss_train=550, kl_local_train=78, metric_mi|age_categorical_train=0.209]"
     ]
    },
    {
     "name": "stdout",
     "output_type": "stream",
     "text": [
      "\r\n",
      "Epoch 492/600:  82%|████████▏ | 492/600 [7:56:27<1:31:04, 50.59s/it, v_num=e6_1, total_loss_train=550, kl_local_train=78, metric_mi|age_categorical_train=0.209]"
     ]
    },
    {
     "name": "stdout",
     "output_type": "stream",
     "text": [
      "\r\n",
      "Epoch 492/600:  82%|████████▏ | 492/600 [7:56:27<1:31:04, 50.59s/it, v_num=e6_1, total_loss_train=550, kl_local_train=77.7, metric_mi|age_categorical_train=0.209]"
     ]
    },
    {
     "name": "stdout",
     "output_type": "stream",
     "text": [
      "\r\n",
      "Epoch 493/600:  82%|████████▏ | 492/600 [7:56:27<1:31:04, 50.59s/it, v_num=e6_1, total_loss_train=550, kl_local_train=77.7, metric_mi|age_categorical_train=0.209]"
     ]
    },
    {
     "name": "stdout",
     "output_type": "stream",
     "text": [
      "\r\n",
      "Epoch 493/600:  82%|████████▏ | 493/600 [7:57:17<1:30:03, 50.50s/it, v_num=e6_1, total_loss_train=550, kl_local_train=77.7, metric_mi|age_categorical_train=0.209]"
     ]
    },
    {
     "name": "stdout",
     "output_type": "stream",
     "text": [
      "\r\n",
      "Epoch 493/600:  82%|████████▏ | 493/600 [7:57:17<1:30:03, 50.50s/it, v_num=e6_1, total_loss_train=550, kl_local_train=77.6, metric_mi|age_categorical_train=0.209]"
     ]
    },
    {
     "name": "stdout",
     "output_type": "stream",
     "text": [
      "\r\n",
      "Epoch 494/600:  82%|████████▏ | 493/600 [7:57:17<1:30:03, 50.50s/it, v_num=e6_1, total_loss_train=550, kl_local_train=77.6, metric_mi|age_categorical_train=0.209]"
     ]
    },
    {
     "name": "stdout",
     "output_type": "stream",
     "text": [
      "\r\n",
      "Epoch 494/600:  82%|████████▏ | 494/600 [7:58:13<1:32:06, 52.13s/it, v_num=e6_1, total_loss_train=550, kl_local_train=77.6, metric_mi|age_categorical_train=0.209]"
     ]
    },
    {
     "name": "stdout",
     "output_type": "stream",
     "text": [
      "\r\n",
      "Epoch 494/600:  82%|████████▏ | 494/600 [7:58:13<1:32:06, 52.13s/it, v_num=e6_1, total_loss_train=550, kl_local_train=77.5, metric_mi|age_categorical_train=0.209]"
     ]
    },
    {
     "name": "stdout",
     "output_type": "stream",
     "text": [
      "\r\n",
      "Epoch 495/600:  82%|████████▏ | 494/600 [7:58:13<1:32:06, 52.13s/it, v_num=e6_1, total_loss_train=550, kl_local_train=77.5, metric_mi|age_categorical_train=0.209]"
     ]
    },
    {
     "name": "stdout",
     "output_type": "stream",
     "text": [
      "\r\n",
      "Epoch 495/600:  82%|████████▎ | 495/600 [7:59:11<1:34:05, 53.77s/it, v_num=e6_1, total_loss_train=550, kl_local_train=77.5, metric_mi|age_categorical_train=0.209]"
     ]
    },
    {
     "name": "stdout",
     "output_type": "stream",
     "text": [
      "\r\n",
      "Epoch 495/600:  82%|████████▎ | 495/600 [7:59:11<1:34:05, 53.77s/it, v_num=e6_1, total_loss_train=550, kl_local_train=77.7, metric_mi|age_categorical_train=0.209]"
     ]
    },
    {
     "name": "stdout",
     "output_type": "stream",
     "text": [
      "\r\n",
      "Epoch 496/600:  82%|████████▎ | 495/600 [7:59:12<1:34:05, 53.77s/it, v_num=e6_1, total_loss_train=550, kl_local_train=77.7, metric_mi|age_categorical_train=0.209]"
     ]
    },
    {
     "name": "stdout",
     "output_type": "stream",
     "text": [
      "\r\n",
      "Epoch 496/600:  83%|████████▎ | 496/600 [8:00:08<1:34:47, 54.69s/it, v_num=e6_1, total_loss_train=550, kl_local_train=77.7, metric_mi|age_categorical_train=0.209]"
     ]
    },
    {
     "name": "stdout",
     "output_type": "stream",
     "text": [
      "\r\n",
      "Epoch 496/600:  83%|████████▎ | 496/600 [8:00:08<1:34:47, 54.69s/it, v_num=e6_1, total_loss_train=550, kl_local_train=77.7, metric_mi|age_categorical_train=0.22] "
     ]
    },
    {
     "name": "stdout",
     "output_type": "stream",
     "text": [
      "\r\n",
      "Epoch 497/600:  83%|████████▎ | 496/600 [8:00:08<1:34:47, 54.69s/it, v_num=e6_1, total_loss_train=550, kl_local_train=77.7, metric_mi|age_categorical_train=0.22]"
     ]
    },
    {
     "name": "stdout",
     "output_type": "stream",
     "text": [
      "\r\n",
      "Epoch 497/600:  83%|████████▎ | 497/600 [8:01:02<1:33:52, 54.69s/it, v_num=e6_1, total_loss_train=550, kl_local_train=77.7, metric_mi|age_categorical_train=0.22]"
     ]
    },
    {
     "name": "stdout",
     "output_type": "stream",
     "text": [
      "\r\n",
      "Epoch 497/600:  83%|████████▎ | 497/600 [8:01:02<1:33:52, 54.69s/it, v_num=e6_1, total_loss_train=551, kl_local_train=77.7, metric_mi|age_categorical_train=0.22]"
     ]
    },
    {
     "name": "stdout",
     "output_type": "stream",
     "text": [
      "\r\n",
      "Epoch 498/600:  83%|████████▎ | 497/600 [8:01:02<1:33:52, 54.69s/it, v_num=e6_1, total_loss_train=551, kl_local_train=77.7, metric_mi|age_categorical_train=0.22]"
     ]
    },
    {
     "name": "stdout",
     "output_type": "stream",
     "text": [
      "\r\n",
      "Epoch 498/600:  83%|████████▎ | 498/600 [8:01:55<1:31:48, 54.01s/it, v_num=e6_1, total_loss_train=551, kl_local_train=77.7, metric_mi|age_categorical_train=0.22]"
     ]
    },
    {
     "name": "stdout",
     "output_type": "stream",
     "text": [
      "\r\n",
      "Epoch 498/600:  83%|████████▎ | 498/600 [8:01:55<1:31:48, 54.01s/it, v_num=e6_1, total_loss_train=551, kl_local_train=77.6, metric_mi|age_categorical_train=0.22]"
     ]
    },
    {
     "name": "stdout",
     "output_type": "stream",
     "text": [
      "\r\n",
      "Epoch 499/600:  83%|████████▎ | 498/600 [8:01:55<1:31:48, 54.01s/it, v_num=e6_1, total_loss_train=551, kl_local_train=77.6, metric_mi|age_categorical_train=0.22]"
     ]
    },
    {
     "name": "stdout",
     "output_type": "stream",
     "text": [
      "\r\n",
      "Epoch 499/600:  83%|████████▎ | 499/600 [8:02:46<1:29:37, 53.24s/it, v_num=e6_1, total_loss_train=551, kl_local_train=77.6, metric_mi|age_categorical_train=0.22]"
     ]
    },
    {
     "name": "stdout",
     "output_type": "stream",
     "text": [
      "\r\n",
      "Epoch 499/600:  83%|████████▎ | 499/600 [8:02:46<1:29:37, 53.24s/it, v_num=e6_1, total_loss_train=551, kl_local_train=77.3, metric_mi|age_categorical_train=0.22]"
     ]
    },
    {
     "name": "stdout",
     "output_type": "stream",
     "text": [
      "\r\n",
      "Epoch 500/600:  83%|████████▎ | 499/600 [8:02:46<1:29:37, 53.24s/it, v_num=e6_1, total_loss_train=551, kl_local_train=77.3, metric_mi|age_categorical_train=0.22]"
     ]
    },
    {
     "name": "stdout",
     "output_type": "stream",
     "text": [
      "\r\n",
      "Epoch 500/600:  83%|████████▎ | 500/600 [8:03:39<1:28:30, 53.10s/it, v_num=e6_1, total_loss_train=551, kl_local_train=77.3, metric_mi|age_categorical_train=0.22]"
     ]
    },
    {
     "name": "stdout",
     "output_type": "stream",
     "text": [
      "\r\n",
      "Epoch 500/600:  83%|████████▎ | 500/600 [8:03:39<1:28:30, 53.10s/it, v_num=e6_1, total_loss_train=551, kl_local_train=77.2, metric_mi|age_categorical_train=0.22]"
     ]
    },
    {
     "name": "stdout",
     "output_type": "stream",
     "text": [
      "\r\n",
      "Epoch 501/600:  83%|████████▎ | 500/600 [8:03:40<1:28:30, 53.10s/it, v_num=e6_1, total_loss_train=551, kl_local_train=77.2, metric_mi|age_categorical_train=0.22]"
     ]
    },
    {
     "name": "stdout",
     "output_type": "stream",
     "text": [
      "\r\n",
      "Epoch 501/600:  84%|████████▎ | 501/600 [8:04:32<1:27:27, 53.01s/it, v_num=e6_1, total_loss_train=551, kl_local_train=77.2, metric_mi|age_categorical_train=0.22]"
     ]
    },
    {
     "name": "stdout",
     "output_type": "stream",
     "text": [
      "\r\n",
      "Epoch 501/600:  84%|████████▎ | 501/600 [8:04:32<1:27:27, 53.01s/it, v_num=e6_1, total_loss_train=551, kl_local_train=77.1, metric_mi|age_categorical_train=0.222]"
     ]
    },
    {
     "name": "stdout",
     "output_type": "stream",
     "text": [
      "\r\n",
      "Epoch 502/600:  84%|████████▎ | 501/600 [8:04:32<1:27:27, 53.01s/it, v_num=e6_1, total_loss_train=551, kl_local_train=77.1, metric_mi|age_categorical_train=0.222]"
     ]
    },
    {
     "name": "stdout",
     "output_type": "stream",
     "text": [
      "\r\n",
      "Epoch 502/600:  84%|████████▎ | 502/600 [8:05:23<1:25:28, 52.33s/it, v_num=e6_1, total_loss_train=551, kl_local_train=77.1, metric_mi|age_categorical_train=0.222]"
     ]
    },
    {
     "name": "stdout",
     "output_type": "stream",
     "text": [
      "\r\n",
      "Epoch 502/600:  84%|████████▎ | 502/600 [8:05:23<1:25:28, 52.33s/it, v_num=e6_1, total_loss_train=551, kl_local_train=76.5, metric_mi|age_categorical_train=0.222]"
     ]
    },
    {
     "name": "stdout",
     "output_type": "stream",
     "text": [
      "\r\n",
      "Epoch 503/600:  84%|████████▎ | 502/600 [8:05:23<1:25:28, 52.33s/it, v_num=e6_1, total_loss_train=551, kl_local_train=76.5, metric_mi|age_categorical_train=0.222]"
     ]
    },
    {
     "name": "stdout",
     "output_type": "stream",
     "text": [
      "\r\n",
      "Epoch 503/600:  84%|████████▍ | 503/600 [8:06:12<1:23:11, 51.46s/it, v_num=e6_1, total_loss_train=551, kl_local_train=76.5, metric_mi|age_categorical_train=0.222]"
     ]
    },
    {
     "name": "stdout",
     "output_type": "stream",
     "text": [
      "\r\n",
      "Epoch 503/600:  84%|████████▍ | 503/600 [8:06:12<1:23:11, 51.46s/it, v_num=e6_1, total_loss_train=551, kl_local_train=76.7, metric_mi|age_categorical_train=0.222]"
     ]
    },
    {
     "name": "stdout",
     "output_type": "stream",
     "text": [
      "\r\n",
      "Epoch 504/600:  84%|████████▍ | 503/600 [8:06:12<1:23:11, 51.46s/it, v_num=e6_1, total_loss_train=551, kl_local_train=76.7, metric_mi|age_categorical_train=0.222]"
     ]
    },
    {
     "name": "stdout",
     "output_type": "stream",
     "text": [
      "\r\n",
      "Epoch 504/600:  84%|████████▍ | 504/600 [8:07:01<1:21:15, 50.79s/it, v_num=e6_1, total_loss_train=551, kl_local_train=76.7, metric_mi|age_categorical_train=0.222]"
     ]
    },
    {
     "name": "stdout",
     "output_type": "stream",
     "text": [
      "\r\n",
      "Epoch 504/600:  84%|████████▍ | 504/600 [8:07:01<1:21:15, 50.79s/it, v_num=e6_1, total_loss_train=551, kl_local_train=76.6, metric_mi|age_categorical_train=0.222]"
     ]
    },
    {
     "name": "stdout",
     "output_type": "stream",
     "text": [
      "\r\n",
      "Epoch 505/600:  84%|████████▍ | 504/600 [8:07:01<1:21:15, 50.79s/it, v_num=e6_1, total_loss_train=551, kl_local_train=76.6, metric_mi|age_categorical_train=0.222]"
     ]
    },
    {
     "name": "stdout",
     "output_type": "stream",
     "text": [
      "\r\n",
      "Epoch 505/600:  84%|████████▍ | 505/600 [8:07:54<1:21:17, 51.34s/it, v_num=e6_1, total_loss_train=551, kl_local_train=76.6, metric_mi|age_categorical_train=0.222]"
     ]
    },
    {
     "name": "stdout",
     "output_type": "stream",
     "text": [
      "\r\n",
      "Epoch 505/600:  84%|████████▍ | 505/600 [8:07:54<1:21:17, 51.34s/it, v_num=e6_1, total_loss_train=551, kl_local_train=76.8, metric_mi|age_categorical_train=0.222]"
     ]
    },
    {
     "name": "stdout",
     "output_type": "stream",
     "text": [
      "\r\n",
      "Epoch 506/600:  84%|████████▍ | 505/600 [8:07:55<1:21:17, 51.34s/it, v_num=e6_1, total_loss_train=551, kl_local_train=76.8, metric_mi|age_categorical_train=0.222]"
     ]
    },
    {
     "name": "stdout",
     "output_type": "stream",
     "text": [
      "\r\n",
      "Epoch 506/600:  84%|████████▍ | 506/600 [8:08:46<1:20:57, 51.68s/it, v_num=e6_1, total_loss_train=551, kl_local_train=76.8, metric_mi|age_categorical_train=0.222]"
     ]
    },
    {
     "name": "stdout",
     "output_type": "stream",
     "text": [
      "\r\n",
      "Epoch 506/600:  84%|████████▍ | 506/600 [8:08:46<1:20:57, 51.68s/it, v_num=e6_1, total_loss_train=552, kl_local_train=77, metric_mi|age_categorical_train=0.217]  "
     ]
    },
    {
     "name": "stdout",
     "output_type": "stream",
     "text": [
      "\r\n",
      "Epoch 507/600:  84%|████████▍ | 506/600 [8:08:46<1:20:57, 51.68s/it, v_num=e6_1, total_loss_train=552, kl_local_train=77, metric_mi|age_categorical_train=0.217]"
     ]
    },
    {
     "name": "stdout",
     "output_type": "stream",
     "text": [
      "\r\n",
      "Epoch 507/600:  84%|████████▍ | 507/600 [8:09:38<1:20:06, 51.68s/it, v_num=e6_1, total_loss_train=552, kl_local_train=77, metric_mi|age_categorical_train=0.217]"
     ]
    },
    {
     "name": "stdout",
     "output_type": "stream",
     "text": [
      "\r\n",
      "Epoch 507/600:  84%|████████▍ | 507/600 [8:09:38<1:20:06, 51.68s/it, v_num=e6_1, total_loss_train=551, kl_local_train=76.8, metric_mi|age_categorical_train=0.217]"
     ]
    },
    {
     "name": "stdout",
     "output_type": "stream",
     "text": [
      "\r\n",
      "Epoch 508/600:  84%|████████▍ | 507/600 [8:09:38<1:20:06, 51.68s/it, v_num=e6_1, total_loss_train=551, kl_local_train=76.8, metric_mi|age_categorical_train=0.217]"
     ]
    },
    {
     "name": "stdout",
     "output_type": "stream",
     "text": [
      "\r\n",
      "Epoch 508/600:  85%|████████▍ | 508/600 [8:10:30<1:19:11, 51.64s/it, v_num=e6_1, total_loss_train=551, kl_local_train=76.8, metric_mi|age_categorical_train=0.217]"
     ]
    },
    {
     "name": "stdout",
     "output_type": "stream",
     "text": [
      "\r\n",
      "Epoch 508/600:  85%|████████▍ | 508/600 [8:10:30<1:19:11, 51.64s/it, v_num=e6_1, total_loss_train=551, kl_local_train=76.6, metric_mi|age_categorical_train=0.217]"
     ]
    },
    {
     "name": "stdout",
     "output_type": "stream",
     "text": [
      "\r\n",
      "Epoch 509/600:  85%|████████▍ | 508/600 [8:10:30<1:19:11, 51.64s/it, v_num=e6_1, total_loss_train=551, kl_local_train=76.6, metric_mi|age_categorical_train=0.217]"
     ]
    },
    {
     "name": "stdout",
     "output_type": "stream",
     "text": [
      "\r\n",
      "Epoch 509/600:  85%|████████▍ | 509/600 [8:11:20<1:17:49, 51.31s/it, v_num=e6_1, total_loss_train=551, kl_local_train=76.6, metric_mi|age_categorical_train=0.217]"
     ]
    },
    {
     "name": "stdout",
     "output_type": "stream",
     "text": [
      "\r\n",
      "Epoch 509/600:  85%|████████▍ | 509/600 [8:11:20<1:17:49, 51.31s/it, v_num=e6_1, total_loss_train=552, kl_local_train=76.3, metric_mi|age_categorical_train=0.217]"
     ]
    },
    {
     "name": "stdout",
     "output_type": "stream",
     "text": [
      "\r\n",
      "Epoch 510/600:  85%|████████▍ | 509/600 [8:11:20<1:17:49, 51.31s/it, v_num=e6_1, total_loss_train=552, kl_local_train=76.3, metric_mi|age_categorical_train=0.217]"
     ]
    },
    {
     "name": "stdout",
     "output_type": "stream",
     "text": [
      "\r\n",
      "Epoch 510/600:  85%|████████▌ | 510/600 [8:12:12<1:17:09, 51.44s/it, v_num=e6_1, total_loss_train=552, kl_local_train=76.3, metric_mi|age_categorical_train=0.217]"
     ]
    },
    {
     "name": "stdout",
     "output_type": "stream",
     "text": [
      "\r\n",
      "Epoch 510/600:  85%|████████▌ | 510/600 [8:12:12<1:17:09, 51.44s/it, v_num=e6_1, total_loss_train=551, kl_local_train=76.3, metric_mi|age_categorical_train=0.217]"
     ]
    },
    {
     "name": "stdout",
     "output_type": "stream",
     "text": [
      "\r\n",
      "Epoch 511/600:  85%|████████▌ | 510/600 [8:12:13<1:17:09, 51.44s/it, v_num=e6_1, total_loss_train=551, kl_local_train=76.3, metric_mi|age_categorical_train=0.217]"
     ]
    },
    {
     "name": "stdout",
     "output_type": "stream",
     "text": [
      "\r\n",
      "Epoch 511/600:  85%|████████▌ | 511/600 [8:13:03<1:16:16, 51.42s/it, v_num=e6_1, total_loss_train=551, kl_local_train=76.3, metric_mi|age_categorical_train=0.217]"
     ]
    },
    {
     "name": "stdout",
     "output_type": "stream",
     "text": [
      "\r\n",
      "Epoch 511/600:  85%|████████▌ | 511/600 [8:13:03<1:16:16, 51.42s/it, v_num=e6_1, total_loss_train=552, kl_local_train=76.4, metric_mi|age_categorical_train=0.207]"
     ]
    },
    {
     "name": "stdout",
     "output_type": "stream",
     "text": [
      "\r\n",
      "Epoch 512/600:  85%|████████▌ | 511/600 [8:13:03<1:16:16, 51.42s/it, v_num=e6_1, total_loss_train=552, kl_local_train=76.4, metric_mi|age_categorical_train=0.207]"
     ]
    },
    {
     "name": "stdout",
     "output_type": "stream",
     "text": [
      "\r\n",
      "Epoch 512/600:  85%|████████▌ | 512/600 [8:13:54<1:15:00, 51.15s/it, v_num=e6_1, total_loss_train=552, kl_local_train=76.4, metric_mi|age_categorical_train=0.207]"
     ]
    },
    {
     "name": "stdout",
     "output_type": "stream",
     "text": [
      "\r\n",
      "Epoch 512/600:  85%|████████▌ | 512/600 [8:13:54<1:15:00, 51.15s/it, v_num=e6_1, total_loss_train=552, kl_local_train=76.2, metric_mi|age_categorical_train=0.207]"
     ]
    },
    {
     "name": "stdout",
     "output_type": "stream",
     "text": [
      "\r\n",
      "Epoch 513/600:  85%|████████▌ | 512/600 [8:13:54<1:15:00, 51.15s/it, v_num=e6_1, total_loss_train=552, kl_local_train=76.2, metric_mi|age_categorical_train=0.207]"
     ]
    },
    {
     "name": "stdout",
     "output_type": "stream",
     "text": [
      "\r\n",
      "Epoch 513/600:  86%|████████▌ | 513/600 [8:14:45<1:14:19, 51.25s/it, v_num=e6_1, total_loss_train=552, kl_local_train=76.2, metric_mi|age_categorical_train=0.207]"
     ]
    },
    {
     "name": "stdout",
     "output_type": "stream",
     "text": [
      "\r\n",
      "Epoch 513/600:  86%|████████▌ | 513/600 [8:14:45<1:14:19, 51.25s/it, v_num=e6_1, total_loss_train=551, kl_local_train=76, metric_mi|age_categorical_train=0.207]  "
     ]
    },
    {
     "name": "stdout",
     "output_type": "stream",
     "text": [
      "\r\n",
      "Epoch 514/600:  86%|████████▌ | 513/600 [8:14:45<1:14:19, 51.25s/it, v_num=e6_1, total_loss_train=551, kl_local_train=76, metric_mi|age_categorical_train=0.207]"
     ]
    },
    {
     "name": "stdout",
     "output_type": "stream",
     "text": [
      "\r\n",
      "Epoch 514/600:  86%|████████▌ | 514/600 [8:15:41<1:15:36, 52.75s/it, v_num=e6_1, total_loss_train=551, kl_local_train=76, metric_mi|age_categorical_train=0.207]"
     ]
    },
    {
     "name": "stdout",
     "output_type": "stream",
     "text": [
      "\r\n",
      "Epoch 514/600:  86%|████████▌ | 514/600 [8:15:41<1:15:36, 52.75s/it, v_num=e6_1, total_loss_train=552, kl_local_train=76, metric_mi|age_categorical_train=0.207]"
     ]
    },
    {
     "name": "stdout",
     "output_type": "stream",
     "text": [
      "\r\n",
      "Epoch 515/600:  86%|████████▌ | 514/600 [8:15:41<1:15:36, 52.75s/it, v_num=e6_1, total_loss_train=552, kl_local_train=76, metric_mi|age_categorical_train=0.207]"
     ]
    },
    {
     "name": "stdout",
     "output_type": "stream",
     "text": [
      "\r\n",
      "Epoch 515/600:  86%|████████▌ | 515/600 [8:16:37<1:15:51, 53.55s/it, v_num=e6_1, total_loss_train=552, kl_local_train=76, metric_mi|age_categorical_train=0.207]"
     ]
    },
    {
     "name": "stdout",
     "output_type": "stream",
     "text": [
      "\r\n",
      "Epoch 515/600:  86%|████████▌ | 515/600 [8:16:37<1:15:51, 53.55s/it, v_num=e6_1, total_loss_train=552, kl_local_train=75.9, metric_mi|age_categorical_train=0.207]"
     ]
    },
    {
     "name": "stdout",
     "output_type": "stream",
     "text": [
      "\r\n",
      "Epoch 516/600:  86%|████████▌ | 515/600 [8:16:38<1:15:51, 53.55s/it, v_num=e6_1, total_loss_train=552, kl_local_train=75.9, metric_mi|age_categorical_train=0.207]"
     ]
    },
    {
     "name": "stdout",
     "output_type": "stream",
     "text": [
      "\r\n",
      "Epoch 516/600:  86%|████████▌ | 516/600 [8:17:31<1:15:16, 53.77s/it, v_num=e6_1, total_loss_train=552, kl_local_train=75.9, metric_mi|age_categorical_train=0.207]"
     ]
    },
    {
     "name": "stdout",
     "output_type": "stream",
     "text": [
      "\r\n",
      "Epoch 516/600:  86%|████████▌ | 516/600 [8:17:31<1:15:16, 53.77s/it, v_num=e6_1, total_loss_train=552, kl_local_train=76, metric_mi|age_categorical_train=0.205]  "
     ]
    },
    {
     "name": "stdout",
     "output_type": "stream",
     "text": [
      "\r\n",
      "Epoch 517/600:  86%|████████▌ | 516/600 [8:17:31<1:15:16, 53.77s/it, v_num=e6_1, total_loss_train=552, kl_local_train=76, metric_mi|age_categorical_train=0.205]"
     ]
    },
    {
     "name": "stdout",
     "output_type": "stream",
     "text": [
      "\r\n",
      "Epoch 517/600:  86%|████████▌ | 517/600 [8:18:26<1:14:52, 54.12s/it, v_num=e6_1, total_loss_train=552, kl_local_train=76, metric_mi|age_categorical_train=0.205]"
     ]
    },
    {
     "name": "stdout",
     "output_type": "stream",
     "text": [
      "\r\n",
      "Epoch 517/600:  86%|████████▌ | 517/600 [8:18:26<1:14:52, 54.12s/it, v_num=e6_1, total_loss_train=552, kl_local_train=75.6, metric_mi|age_categorical_train=0.205]"
     ]
    },
    {
     "name": "stdout",
     "output_type": "stream",
     "text": [
      "\r\n",
      "Epoch 518/600:  86%|████████▌ | 517/600 [8:18:26<1:14:52, 54.12s/it, v_num=e6_1, total_loss_train=552, kl_local_train=75.6, metric_mi|age_categorical_train=0.205]"
     ]
    },
    {
     "name": "stdout",
     "output_type": "stream",
     "text": [
      "\r\n",
      "Epoch 518/600:  86%|████████▋ | 518/600 [8:19:19<1:13:21, 53.67s/it, v_num=e6_1, total_loss_train=552, kl_local_train=75.6, metric_mi|age_categorical_train=0.205]"
     ]
    },
    {
     "name": "stdout",
     "output_type": "stream",
     "text": [
      "\r\n",
      "Epoch 518/600:  86%|████████▋ | 518/600 [8:19:19<1:13:21, 53.67s/it, v_num=e6_1, total_loss_train=552, kl_local_train=75.8, metric_mi|age_categorical_train=0.205]"
     ]
    },
    {
     "name": "stdout",
     "output_type": "stream",
     "text": [
      "\r\n",
      "Epoch 519/600:  86%|████████▋ | 518/600 [8:19:19<1:13:21, 53.67s/it, v_num=e6_1, total_loss_train=552, kl_local_train=75.8, metric_mi|age_categorical_train=0.205]"
     ]
    },
    {
     "name": "stdout",
     "output_type": "stream",
     "text": [
      "\r\n",
      "Epoch 519/600:  86%|████████▋ | 519/600 [8:20:10<1:11:22, 52.87s/it, v_num=e6_1, total_loss_train=552, kl_local_train=75.8, metric_mi|age_categorical_train=0.205]"
     ]
    },
    {
     "name": "stdout",
     "output_type": "stream",
     "text": [
      "\r\n",
      "Epoch 519/600:  86%|████████▋ | 519/600 [8:20:10<1:11:22, 52.87s/it, v_num=e6_1, total_loss_train=552, kl_local_train=76, metric_mi|age_categorical_train=0.205]  "
     ]
    },
    {
     "name": "stdout",
     "output_type": "stream",
     "text": [
      "\r\n",
      "Epoch 520/600:  86%|████████▋ | 519/600 [8:20:10<1:11:22, 52.87s/it, v_num=e6_1, total_loss_train=552, kl_local_train=76, metric_mi|age_categorical_train=0.205]"
     ]
    },
    {
     "name": "stdout",
     "output_type": "stream",
     "text": [
      "\r\n",
      "Epoch 520/600:  87%|████████▋ | 520/600 [8:21:03<1:10:29, 52.86s/it, v_num=e6_1, total_loss_train=552, kl_local_train=76, metric_mi|age_categorical_train=0.205]"
     ]
    },
    {
     "name": "stdout",
     "output_type": "stream",
     "text": [
      "\r\n",
      "Epoch 520/600:  87%|████████▋ | 520/600 [8:21:03<1:10:29, 52.86s/it, v_num=e6_1, total_loss_train=552, kl_local_train=75.7, metric_mi|age_categorical_train=0.205]"
     ]
    },
    {
     "name": "stdout",
     "output_type": "stream",
     "text": [
      "\r\n",
      "Epoch 521/600:  87%|████████▋ | 520/600 [8:21:03<1:10:29, 52.86s/it, v_num=e6_1, total_loss_train=552, kl_local_train=75.7, metric_mi|age_categorical_train=0.205]"
     ]
    },
    {
     "name": "stdout",
     "output_type": "stream",
     "text": [
      "\r\n",
      "Epoch 521/600:  87%|████████▋ | 521/600 [8:22:00<1:11:18, 54.16s/it, v_num=e6_1, total_loss_train=552, kl_local_train=75.7, metric_mi|age_categorical_train=0.205]"
     ]
    },
    {
     "name": "stdout",
     "output_type": "stream",
     "text": [
      "\r\n",
      "Epoch 521/600:  87%|████████▋ | 521/600 [8:22:00<1:11:18, 54.16s/it, v_num=e6_1, total_loss_train=552, kl_local_train=75.7, metric_mi|age_categorical_train=0.217]"
     ]
    },
    {
     "name": "stdout",
     "output_type": "stream",
     "text": [
      "\r\n",
      "Epoch 522/600:  87%|████████▋ | 521/600 [8:22:00<1:11:18, 54.16s/it, v_num=e6_1, total_loss_train=552, kl_local_train=75.7, metric_mi|age_categorical_train=0.217]"
     ]
    },
    {
     "name": "stdout",
     "output_type": "stream",
     "text": [
      "\r\n",
      "Epoch 522/600:  87%|████████▋ | 522/600 [8:22:53<1:09:54, 53.77s/it, v_num=e6_1, total_loss_train=552, kl_local_train=75.7, metric_mi|age_categorical_train=0.217]"
     ]
    },
    {
     "name": "stdout",
     "output_type": "stream",
     "text": [
      "\r\n",
      "Epoch 522/600:  87%|████████▋ | 522/600 [8:22:53<1:09:54, 53.77s/it, v_num=e6_1, total_loss_train=553, kl_local_train=75.5, metric_mi|age_categorical_train=0.217]"
     ]
    },
    {
     "name": "stdout",
     "output_type": "stream",
     "text": [
      "\r\n",
      "Epoch 523/600:  87%|████████▋ | 522/600 [8:22:53<1:09:54, 53.77s/it, v_num=e6_1, total_loss_train=553, kl_local_train=75.5, metric_mi|age_categorical_train=0.217]"
     ]
    },
    {
     "name": "stdout",
     "output_type": "stream",
     "text": [
      "\r\n",
      "Epoch 523/600:  87%|████████▋ | 523/600 [8:23:46<1:08:44, 53.57s/it, v_num=e6_1, total_loss_train=553, kl_local_train=75.5, metric_mi|age_categorical_train=0.217]"
     ]
    },
    {
     "name": "stdout",
     "output_type": "stream",
     "text": [
      "\r\n",
      "Epoch 523/600:  87%|████████▋ | 523/600 [8:23:46<1:08:44, 53.57s/it, v_num=e6_1, total_loss_train=553, kl_local_train=75.5, metric_mi|age_categorical_train=0.217]"
     ]
    },
    {
     "name": "stdout",
     "output_type": "stream",
     "text": [
      "\r\n",
      "Epoch 524/600:  87%|████████▋ | 523/600 [8:23:46<1:08:44, 53.57s/it, v_num=e6_1, total_loss_train=553, kl_local_train=75.5, metric_mi|age_categorical_train=0.217]"
     ]
    },
    {
     "name": "stdout",
     "output_type": "stream",
     "text": [
      "\r\n",
      "Epoch 524/600:  87%|████████▋ | 524/600 [8:24:41<1:08:32, 54.11s/it, v_num=e6_1, total_loss_train=553, kl_local_train=75.5, metric_mi|age_categorical_train=0.217]"
     ]
    },
    {
     "name": "stdout",
     "output_type": "stream",
     "text": [
      "\r\n",
      "Epoch 524/600:  87%|████████▋ | 524/600 [8:24:41<1:08:32, 54.11s/it, v_num=e6_1, total_loss_train=552, kl_local_train=75.2, metric_mi|age_categorical_train=0.217]"
     ]
    },
    {
     "name": "stdout",
     "output_type": "stream",
     "text": [
      "\r\n",
      "Epoch 525/600:  87%|████████▋ | 524/600 [8:24:41<1:08:32, 54.11s/it, v_num=e6_1, total_loss_train=552, kl_local_train=75.2, metric_mi|age_categorical_train=0.217]"
     ]
    },
    {
     "name": "stdout",
     "output_type": "stream",
     "text": [
      "\r\n",
      "Epoch 525/600:  88%|████████▊ | 525/600 [8:25:37<1:08:28, 54.78s/it, v_num=e6_1, total_loss_train=552, kl_local_train=75.2, metric_mi|age_categorical_train=0.217]"
     ]
    },
    {
     "name": "stdout",
     "output_type": "stream",
     "text": [
      "\r\n",
      "Epoch 525/600:  88%|████████▊ | 525/600 [8:25:37<1:08:28, 54.78s/it, v_num=e6_1, total_loss_train=552, kl_local_train=75, metric_mi|age_categorical_train=0.217]  "
     ]
    },
    {
     "name": "stdout",
     "output_type": "stream",
     "text": [
      "\r\n",
      "Epoch 526/600:  88%|████████▊ | 525/600 [8:25:38<1:08:28, 54.78s/it, v_num=e6_1, total_loss_train=552, kl_local_train=75, metric_mi|age_categorical_train=0.217]"
     ]
    },
    {
     "name": "stdout",
     "output_type": "stream",
     "text": [
      "\r\n",
      "Epoch 526/600:  88%|████████▊ | 526/600 [8:26:33<1:07:42, 54.89s/it, v_num=e6_1, total_loss_train=552, kl_local_train=75, metric_mi|age_categorical_train=0.217]"
     ]
    },
    {
     "name": "stdout",
     "output_type": "stream",
     "text": [
      "\r\n",
      "Epoch 526/600:  88%|████████▊ | 526/600 [8:26:33<1:07:42, 54.89s/it, v_num=e6_1, total_loss_train=553, kl_local_train=75.3, metric_mi|age_categorical_train=0.221]"
     ]
    },
    {
     "name": "stdout",
     "output_type": "stream",
     "text": [
      "\r\n",
      "Epoch 527/600:  88%|████████▊ | 526/600 [8:26:33<1:07:42, 54.89s/it, v_num=e6_1, total_loss_train=553, kl_local_train=75.3, metric_mi|age_categorical_train=0.221]"
     ]
    },
    {
     "name": "stdout",
     "output_type": "stream",
     "text": [
      "\r\n",
      "Epoch 527/600:  88%|████████▊ | 527/600 [8:27:27<1:06:30, 54.66s/it, v_num=e6_1, total_loss_train=553, kl_local_train=75.3, metric_mi|age_categorical_train=0.221]"
     ]
    },
    {
     "name": "stdout",
     "output_type": "stream",
     "text": [
      "\r\n",
      "Epoch 527/600:  88%|████████▊ | 527/600 [8:27:27<1:06:30, 54.66s/it, v_num=e6_1, total_loss_train=553, kl_local_train=75.2, metric_mi|age_categorical_train=0.221]"
     ]
    },
    {
     "name": "stdout",
     "output_type": "stream",
     "text": [
      "\r\n",
      "Epoch 528/600:  88%|████████▊ | 527/600 [8:27:27<1:06:30, 54.66s/it, v_num=e6_1, total_loss_train=553, kl_local_train=75.2, metric_mi|age_categorical_train=0.221]"
     ]
    },
    {
     "name": "stdout",
     "output_type": "stream",
     "text": [
      "\r\n",
      "Epoch 528/600:  88%|████████▊ | 528/600 [8:28:21<1:05:19, 54.44s/it, v_num=e6_1, total_loss_train=553, kl_local_train=75.2, metric_mi|age_categorical_train=0.221]"
     ]
    },
    {
     "name": "stdout",
     "output_type": "stream",
     "text": [
      "\r\n",
      "Epoch 528/600:  88%|████████▊ | 528/600 [8:28:21<1:05:19, 54.44s/it, v_num=e6_1, total_loss_train=553, kl_local_train=74.9, metric_mi|age_categorical_train=0.221]"
     ]
    },
    {
     "name": "stdout",
     "output_type": "stream",
     "text": [
      "\r\n",
      "Epoch 529/600:  88%|████████▊ | 528/600 [8:28:21<1:05:19, 54.44s/it, v_num=e6_1, total_loss_train=553, kl_local_train=74.9, metric_mi|age_categorical_train=0.221]"
     ]
    },
    {
     "name": "stdout",
     "output_type": "stream",
     "text": [
      "\r\n",
      "Epoch 529/600:  88%|████████▊ | 529/600 [8:29:12<1:03:10, 53.39s/it, v_num=e6_1, total_loss_train=553, kl_local_train=74.9, metric_mi|age_categorical_train=0.221]"
     ]
    },
    {
     "name": "stdout",
     "output_type": "stream",
     "text": [
      "\r\n",
      "Epoch 529/600:  88%|████████▊ | 529/600 [8:29:12<1:03:10, 53.39s/it, v_num=e6_1, total_loss_train=553, kl_local_train=75.1, metric_mi|age_categorical_train=0.221]"
     ]
    },
    {
     "name": "stdout",
     "output_type": "stream",
     "text": [
      "\r\n",
      "Epoch 530/600:  88%|████████▊ | 529/600 [8:29:12<1:03:10, 53.39s/it, v_num=e6_1, total_loss_train=553, kl_local_train=75.1, metric_mi|age_categorical_train=0.221]"
     ]
    },
    {
     "name": "stdout",
     "output_type": "stream",
     "text": [
      "\r\n",
      "Epoch 530/600:  88%|████████▊ | 530/600 [8:30:03<1:01:33, 52.76s/it, v_num=e6_1, total_loss_train=553, kl_local_train=75.1, metric_mi|age_categorical_train=0.221]"
     ]
    },
    {
     "name": "stdout",
     "output_type": "stream",
     "text": [
      "\r\n",
      "Epoch 530/600:  88%|████████▊ | 530/600 [8:30:03<1:01:33, 52.76s/it, v_num=e6_1, total_loss_train=552, kl_local_train=74.4, metric_mi|age_categorical_train=0.221]"
     ]
    },
    {
     "name": "stdout",
     "output_type": "stream",
     "text": [
      "\r\n",
      "Epoch 531/600:  88%|████████▊ | 530/600 [8:30:04<1:01:33, 52.76s/it, v_num=e6_1, total_loss_train=552, kl_local_train=74.4, metric_mi|age_categorical_train=0.221]"
     ]
    },
    {
     "name": "stdout",
     "output_type": "stream",
     "text": [
      "\r\n",
      "Epoch 531/600:  88%|████████▊ | 531/600 [8:30:52<59:25, 51.68s/it, v_num=e6_1, total_loss_train=552, kl_local_train=74.4, metric_mi|age_categorical_train=0.221]  "
     ]
    },
    {
     "name": "stdout",
     "output_type": "stream",
     "text": [
      "\r\n",
      "Epoch 531/600:  88%|████████▊ | 531/600 [8:30:52<59:25, 51.68s/it, v_num=e6_1, total_loss_train=553, kl_local_train=75.1, metric_mi|age_categorical_train=0.22] "
     ]
    },
    {
     "name": "stdout",
     "output_type": "stream",
     "text": [
      "\r\n",
      "Epoch 532/600:  88%|████████▊ | 531/600 [8:30:52<59:25, 51.68s/it, v_num=e6_1, total_loss_train=553, kl_local_train=75.1, metric_mi|age_categorical_train=0.22]"
     ]
    },
    {
     "name": "stdout",
     "output_type": "stream",
     "text": [
      "\r\n",
      "Epoch 532/600:  89%|████████▊ | 532/600 [8:31:40<57:21, 50.60s/it, v_num=e6_1, total_loss_train=553, kl_local_train=75.1, metric_mi|age_categorical_train=0.22]"
     ]
    },
    {
     "name": "stdout",
     "output_type": "stream",
     "text": [
      "\r\n",
      "Epoch 532/600:  89%|████████▊ | 532/600 [8:31:40<57:21, 50.60s/it, v_num=e6_1, total_loss_train=553, kl_local_train=74.6, metric_mi|age_categorical_train=0.22]"
     ]
    },
    {
     "name": "stdout",
     "output_type": "stream",
     "text": [
      "\r\n",
      "Epoch 533/600:  89%|████████▊ | 532/600 [8:31:40<57:21, 50.60s/it, v_num=e6_1, total_loss_train=553, kl_local_train=74.6, metric_mi|age_categorical_train=0.22]"
     ]
    },
    {
     "name": "stdout",
     "output_type": "stream",
     "text": [
      "\r\n",
      "Epoch 533/600:  89%|████████▉ | 533/600 [8:32:29<55:52, 50.04s/it, v_num=e6_1, total_loss_train=553, kl_local_train=74.6, metric_mi|age_categorical_train=0.22]"
     ]
    },
    {
     "name": "stdout",
     "output_type": "stream",
     "text": [
      "\r\n",
      "Epoch 533/600:  89%|████████▉ | 533/600 [8:32:29<55:52, 50.04s/it, v_num=e6_1, total_loss_train=553, kl_local_train=74.6, metric_mi|age_categorical_train=0.22]"
     ]
    },
    {
     "name": "stdout",
     "output_type": "stream",
     "text": [
      "\r\n",
      "Epoch 534/600:  89%|████████▉ | 533/600 [8:32:29<55:52, 50.04s/it, v_num=e6_1, total_loss_train=553, kl_local_train=74.6, metric_mi|age_categorical_train=0.22]"
     ]
    },
    {
     "name": "stdout",
     "output_type": "stream",
     "text": [
      "\r\n",
      "Epoch 534/600:  89%|████████▉ | 534/600 [8:33:17<54:32, 49.58s/it, v_num=e6_1, total_loss_train=553, kl_local_train=74.6, metric_mi|age_categorical_train=0.22]"
     ]
    },
    {
     "name": "stdout",
     "output_type": "stream",
     "text": [
      "\r\n",
      "Epoch 534/600:  89%|████████▉ | 534/600 [8:33:17<54:32, 49.58s/it, v_num=e6_1, total_loss_train=553, kl_local_train=74.5, metric_mi|age_categorical_train=0.22]"
     ]
    },
    {
     "name": "stdout",
     "output_type": "stream",
     "text": [
      "\r\n",
      "Epoch 535/600:  89%|████████▉ | 534/600 [8:33:17<54:32, 49.58s/it, v_num=e6_1, total_loss_train=553, kl_local_train=74.5, metric_mi|age_categorical_train=0.22]"
     ]
    },
    {
     "name": "stdout",
     "output_type": "stream",
     "text": [
      "\r\n",
      "Epoch 535/600:  89%|████████▉ | 535/600 [8:34:08<53:56, 49.79s/it, v_num=e6_1, total_loss_train=553, kl_local_train=74.5, metric_mi|age_categorical_train=0.22]"
     ]
    },
    {
     "name": "stdout",
     "output_type": "stream",
     "text": [
      "\r\n",
      "Epoch 535/600:  89%|████████▉ | 535/600 [8:34:08<53:56, 49.79s/it, v_num=e6_1, total_loss_train=553, kl_local_train=74.2, metric_mi|age_categorical_train=0.22]"
     ]
    },
    {
     "name": "stdout",
     "output_type": "stream",
     "text": [
      "\r\n",
      "Epoch 536/600:  89%|████████▉ | 535/600 [8:34:08<53:56, 49.79s/it, v_num=e6_1, total_loss_train=553, kl_local_train=74.2, metric_mi|age_categorical_train=0.22]"
     ]
    },
    {
     "name": "stdout",
     "output_type": "stream",
     "text": [
      "\r\n",
      "Epoch 536/600:  89%|████████▉ | 536/600 [8:34:59<53:44, 50.39s/it, v_num=e6_1, total_loss_train=553, kl_local_train=74.2, metric_mi|age_categorical_train=0.22]"
     ]
    },
    {
     "name": "stdout",
     "output_type": "stream",
     "text": [
      "\r\n",
      "Epoch 536/600:  89%|████████▉ | 536/600 [8:34:59<53:44, 50.39s/it, v_num=e6_1, total_loss_train=554, kl_local_train=74.4, metric_mi|age_categorical_train=0.206]"
     ]
    },
    {
     "name": "stdout",
     "output_type": "stream",
     "text": [
      "\r\n",
      "Epoch 537/600:  89%|████████▉ | 536/600 [8:34:59<53:44, 50.39s/it, v_num=e6_1, total_loss_train=554, kl_local_train=74.4, metric_mi|age_categorical_train=0.206]"
     ]
    },
    {
     "name": "stdout",
     "output_type": "stream",
     "text": [
      "\r\n",
      "Epoch 537/600:  90%|████████▉ | 537/600 [8:35:51<53:10, 50.65s/it, v_num=e6_1, total_loss_train=554, kl_local_train=74.4, metric_mi|age_categorical_train=0.206]"
     ]
    },
    {
     "name": "stdout",
     "output_type": "stream",
     "text": [
      "\r\n",
      "Epoch 537/600:  90%|████████▉ | 537/600 [8:35:51<53:10, 50.65s/it, v_num=e6_1, total_loss_train=554, kl_local_train=74.5, metric_mi|age_categorical_train=0.206]"
     ]
    },
    {
     "name": "stdout",
     "output_type": "stream",
     "text": [
      "\r\n",
      "Epoch 538/600:  90%|████████▉ | 537/600 [8:35:51<53:10, 50.65s/it, v_num=e6_1, total_loss_train=554, kl_local_train=74.5, metric_mi|age_categorical_train=0.206]"
     ]
    },
    {
     "name": "stdout",
     "output_type": "stream",
     "text": [
      "\r\n",
      "Epoch 538/600:  90%|████████▉ | 538/600 [8:36:42<52:35, 50.90s/it, v_num=e6_1, total_loss_train=554, kl_local_train=74.5, metric_mi|age_categorical_train=0.206]"
     ]
    },
    {
     "name": "stdout",
     "output_type": "stream",
     "text": [
      "\r\n",
      "Epoch 538/600:  90%|████████▉ | 538/600 [8:36:42<52:35, 50.90s/it, v_num=e6_1, total_loss_train=553, kl_local_train=74.3, metric_mi|age_categorical_train=0.206]"
     ]
    },
    {
     "name": "stdout",
     "output_type": "stream",
     "text": [
      "\r\n",
      "Epoch 539/600:  90%|████████▉ | 538/600 [8:36:42<52:35, 50.90s/it, v_num=e6_1, total_loss_train=553, kl_local_train=74.3, metric_mi|age_categorical_train=0.206]"
     ]
    },
    {
     "name": "stdout",
     "output_type": "stream",
     "text": [
      "\r\n",
      "Epoch 539/600:  90%|████████▉ | 539/600 [8:37:32<51:31, 50.68s/it, v_num=e6_1, total_loss_train=553, kl_local_train=74.3, metric_mi|age_categorical_train=0.206]"
     ]
    },
    {
     "name": "stdout",
     "output_type": "stream",
     "text": [
      "\r\n",
      "Epoch 539/600:  90%|████████▉ | 539/600 [8:37:32<51:31, 50.68s/it, v_num=e6_1, total_loss_train=553, kl_local_train=74.4, metric_mi|age_categorical_train=0.206]"
     ]
    },
    {
     "name": "stdout",
     "output_type": "stream",
     "text": [
      "\r\n",
      "Epoch 540/600:  90%|████████▉ | 539/600 [8:37:32<51:31, 50.68s/it, v_num=e6_1, total_loss_train=553, kl_local_train=74.4, metric_mi|age_categorical_train=0.206]"
     ]
    },
    {
     "name": "stdout",
     "output_type": "stream",
     "text": [
      "\r\n",
      "Epoch 540/600:  90%|█████████ | 540/600 [8:38:23<50:49, 50.83s/it, v_num=e6_1, total_loss_train=553, kl_local_train=74.4, metric_mi|age_categorical_train=0.206]"
     ]
    },
    {
     "name": "stdout",
     "output_type": "stream",
     "text": [
      "\r\n",
      "Epoch 540/600:  90%|█████████ | 540/600 [8:38:23<50:49, 50.83s/it, v_num=e6_1, total_loss_train=554, kl_local_train=74.3, metric_mi|age_categorical_train=0.206]"
     ]
    },
    {
     "name": "stdout",
     "output_type": "stream",
     "text": [
      "\r\n",
      "Epoch 541/600:  90%|█████████ | 540/600 [8:38:24<50:49, 50.83s/it, v_num=e6_1, total_loss_train=554, kl_local_train=74.3, metric_mi|age_categorical_train=0.206]"
     ]
    },
    {
     "name": "stdout",
     "output_type": "stream",
     "text": [
      "\r\n",
      "Epoch 541/600:  90%|█████████ | 541/600 [8:39:14<49:59, 50.84s/it, v_num=e6_1, total_loss_train=554, kl_local_train=74.3, metric_mi|age_categorical_train=0.206]"
     ]
    },
    {
     "name": "stdout",
     "output_type": "stream",
     "text": [
      "\r\n",
      "Epoch 541/600:  90%|█████████ | 541/600 [8:39:14<49:59, 50.84s/it, v_num=e6_1, total_loss_train=553, kl_local_train=74.1, metric_mi|age_categorical_train=0.197]"
     ]
    },
    {
     "name": "stdout",
     "output_type": "stream",
     "text": [
      "\r\n",
      "Epoch 542/600:  90%|█████████ | 541/600 [8:39:14<49:59, 50.84s/it, v_num=e6_1, total_loss_train=553, kl_local_train=74.1, metric_mi|age_categorical_train=0.197]"
     ]
    },
    {
     "name": "stdout",
     "output_type": "stream",
     "text": [
      "\r\n",
      "Epoch 542/600:  90%|█████████ | 542/600 [8:40:04<48:46, 50.46s/it, v_num=e6_1, total_loss_train=553, kl_local_train=74.1, metric_mi|age_categorical_train=0.197]"
     ]
    },
    {
     "name": "stdout",
     "output_type": "stream",
     "text": [
      "\r\n",
      "Epoch 542/600:  90%|█████████ | 542/600 [8:40:04<48:46, 50.46s/it, v_num=e6_1, total_loss_train=554, kl_local_train=73.7, metric_mi|age_categorical_train=0.197]"
     ]
    },
    {
     "name": "stdout",
     "output_type": "stream",
     "text": [
      "\r\n",
      "Epoch 543/600:  90%|█████████ | 542/600 [8:40:04<48:46, 50.46s/it, v_num=e6_1, total_loss_train=554, kl_local_train=73.7, metric_mi|age_categorical_train=0.197]"
     ]
    },
    {
     "name": "stdout",
     "output_type": "stream",
     "text": [
      "\r\n",
      "Epoch 543/600:  90%|█████████ | 543/600 [8:40:53<47:34, 50.07s/it, v_num=e6_1, total_loss_train=554, kl_local_train=73.7, metric_mi|age_categorical_train=0.197]"
     ]
    },
    {
     "name": "stdout",
     "output_type": "stream",
     "text": [
      "\r\n",
      "Epoch 543/600:  90%|█████████ | 543/600 [8:40:53<47:34, 50.07s/it, v_num=e6_1, total_loss_train=554, kl_local_train=73.8, metric_mi|age_categorical_train=0.197]"
     ]
    },
    {
     "name": "stdout",
     "output_type": "stream",
     "text": [
      "\r\n",
      "Epoch 544/600:  90%|█████████ | 543/600 [8:40:53<47:34, 50.07s/it, v_num=e6_1, total_loss_train=554, kl_local_train=73.8, metric_mi|age_categorical_train=0.197]"
     ]
    },
    {
     "name": "stdout",
     "output_type": "stream",
     "text": [
      "\r\n",
      "Epoch 544/600:  91%|█████████ | 544/600 [8:41:42<46:32, 49.87s/it, v_num=e6_1, total_loss_train=554, kl_local_train=73.8, metric_mi|age_categorical_train=0.197]"
     ]
    },
    {
     "name": "stdout",
     "output_type": "stream",
     "text": [
      "\r\n",
      "Epoch 544/600:  91%|█████████ | 544/600 [8:41:42<46:32, 49.87s/it, v_num=e6_1, total_loss_train=554, kl_local_train=74.1, metric_mi|age_categorical_train=0.197]"
     ]
    },
    {
     "name": "stdout",
     "output_type": "stream",
     "text": [
      "\r\n",
      "Epoch 545/600:  91%|█████████ | 544/600 [8:41:42<46:32, 49.87s/it, v_num=e6_1, total_loss_train=554, kl_local_train=74.1, metric_mi|age_categorical_train=0.197]"
     ]
    },
    {
     "name": "stdout",
     "output_type": "stream",
     "text": [
      "\r\n",
      "Epoch 545/600:  91%|█████████ | 545/600 [8:42:33<45:53, 50.06s/it, v_num=e6_1, total_loss_train=554, kl_local_train=74.1, metric_mi|age_categorical_train=0.197]"
     ]
    },
    {
     "name": "stdout",
     "output_type": "stream",
     "text": [
      "\r\n",
      "Epoch 545/600:  91%|█████████ | 545/600 [8:42:33<45:53, 50.06s/it, v_num=e6_1, total_loss_train=554, kl_local_train=74.3, metric_mi|age_categorical_train=0.197]"
     ]
    },
    {
     "name": "stdout",
     "output_type": "stream",
     "text": [
      "\r\n",
      "Epoch 546/600:  91%|█████████ | 545/600 [8:42:34<45:53, 50.06s/it, v_num=e6_1, total_loss_train=554, kl_local_train=74.3, metric_mi|age_categorical_train=0.197]"
     ]
    },
    {
     "name": "stdout",
     "output_type": "stream",
     "text": [
      "\r\n",
      "Epoch 546/600:  91%|█████████ | 546/600 [8:43:23<45:01, 50.02s/it, v_num=e6_1, total_loss_train=554, kl_local_train=74.3, metric_mi|age_categorical_train=0.197]"
     ]
    },
    {
     "name": "stdout",
     "output_type": "stream",
     "text": [
      "\r\n",
      "Epoch 546/600:  91%|█████████ | 546/600 [8:43:23<45:01, 50.02s/it, v_num=e6_1, total_loss_train=554, kl_local_train=74, metric_mi|age_categorical_train=0.207]  "
     ]
    },
    {
     "name": "stdout",
     "output_type": "stream",
     "text": [
      "\r\n",
      "Epoch 547/600:  91%|█████████ | 546/600 [8:43:23<45:01, 50.02s/it, v_num=e6_1, total_loss_train=554, kl_local_train=74, metric_mi|age_categorical_train=0.207]"
     ]
    },
    {
     "name": "stdout",
     "output_type": "stream",
     "text": [
      "\r\n",
      "Epoch 547/600:  91%|█████████ | 547/600 [8:44:12<44:01, 49.83s/it, v_num=e6_1, total_loss_train=554, kl_local_train=74, metric_mi|age_categorical_train=0.207]"
     ]
    },
    {
     "name": "stdout",
     "output_type": "stream",
     "text": [
      "\r\n",
      "Epoch 547/600:  91%|█████████ | 547/600 [8:44:12<44:01, 49.83s/it, v_num=e6_1, total_loss_train=554, kl_local_train=73.5, metric_mi|age_categorical_train=0.207]"
     ]
    },
    {
     "name": "stdout",
     "output_type": "stream",
     "text": [
      "\r\n",
      "Epoch 548/600:  91%|█████████ | 547/600 [8:44:12<44:01, 49.83s/it, v_num=e6_1, total_loss_train=554, kl_local_train=73.5, metric_mi|age_categorical_train=0.207]"
     ]
    },
    {
     "name": "stdout",
     "output_type": "stream",
     "text": [
      "\r\n",
      "Epoch 548/600:  91%|█████████▏| 548/600 [8:45:01<42:59, 49.60s/it, v_num=e6_1, total_loss_train=554, kl_local_train=73.5, metric_mi|age_categorical_train=0.207]"
     ]
    },
    {
     "name": "stdout",
     "output_type": "stream",
     "text": [
      "\r\n",
      "Epoch 548/600:  91%|█████████▏| 548/600 [8:45:01<42:59, 49.60s/it, v_num=e6_1, total_loss_train=554, kl_local_train=73.6, metric_mi|age_categorical_train=0.207]"
     ]
    },
    {
     "name": "stdout",
     "output_type": "stream",
     "text": [
      "\r\n",
      "Epoch 549/600:  91%|█████████▏| 548/600 [8:45:01<42:59, 49.60s/it, v_num=e6_1, total_loss_train=554, kl_local_train=73.6, metric_mi|age_categorical_train=0.207]"
     ]
    },
    {
     "name": "stdout",
     "output_type": "stream",
     "text": [
      "\r\n",
      "Epoch 549/600:  92%|█████████▏| 549/600 [8:45:52<42:27, 49.94s/it, v_num=e6_1, total_loss_train=554, kl_local_train=73.6, metric_mi|age_categorical_train=0.207]"
     ]
    },
    {
     "name": "stdout",
     "output_type": "stream",
     "text": [
      "\r\n",
      "Epoch 549/600:  92%|█████████▏| 549/600 [8:45:52<42:27, 49.94s/it, v_num=e6_1, total_loss_train=554, kl_local_train=73.6, metric_mi|age_categorical_train=0.207]"
     ]
    },
    {
     "name": "stdout",
     "output_type": "stream",
     "text": [
      "\r\n",
      "Epoch 550/600:  92%|█████████▏| 549/600 [8:45:52<42:27, 49.94s/it, v_num=e6_1, total_loss_train=554, kl_local_train=73.6, metric_mi|age_categorical_train=0.207]"
     ]
    },
    {
     "name": "stdout",
     "output_type": "stream",
     "text": [
      "\r\n",
      "Epoch 550/600:  92%|█████████▏| 550/600 [8:46:45<42:24, 50.89s/it, v_num=e6_1, total_loss_train=554, kl_local_train=73.6, metric_mi|age_categorical_train=0.207]"
     ]
    },
    {
     "name": "stdout",
     "output_type": "stream",
     "text": [
      "\r\n",
      "Epoch 550/600:  92%|█████████▏| 550/600 [8:46:45<42:24, 50.89s/it, v_num=e6_1, total_loss_train=555, kl_local_train=73.6, metric_mi|age_categorical_train=0.207]"
     ]
    },
    {
     "name": "stdout",
     "output_type": "stream",
     "text": [
      "\r\n",
      "Epoch 551/600:  92%|█████████▏| 550/600 [8:46:46<42:24, 50.89s/it, v_num=e6_1, total_loss_train=555, kl_local_train=73.6, metric_mi|age_categorical_train=0.207]"
     ]
    },
    {
     "name": "stdout",
     "output_type": "stream",
     "text": [
      "\r\n",
      "Epoch 551/600:  92%|█████████▏| 551/600 [8:47:38<42:06, 51.57s/it, v_num=e6_1, total_loss_train=555, kl_local_train=73.6, metric_mi|age_categorical_train=0.207]"
     ]
    },
    {
     "name": "stdout",
     "output_type": "stream",
     "text": [
      "\r\n",
      "Epoch 551/600:  92%|█████████▏| 551/600 [8:47:38<42:06, 51.57s/it, v_num=e6_1, total_loss_train=554, kl_local_train=73.5, metric_mi|age_categorical_train=0.21] "
     ]
    },
    {
     "name": "stdout",
     "output_type": "stream",
     "text": [
      "\r\n",
      "Epoch 552/600:  92%|█████████▏| 551/600 [8:47:38<42:06, 51.57s/it, v_num=e6_1, total_loss_train=554, kl_local_train=73.5, metric_mi|age_categorical_train=0.21]"
     ]
    },
    {
     "name": "stdout",
     "output_type": "stream",
     "text": [
      "\r\n",
      "Epoch 552/600:  92%|█████████▏| 552/600 [8:48:29<41:02, 51.31s/it, v_num=e6_1, total_loss_train=554, kl_local_train=73.5, metric_mi|age_categorical_train=0.21]"
     ]
    },
    {
     "name": "stdout",
     "output_type": "stream",
     "text": [
      "\r\n",
      "Epoch 552/600:  92%|█████████▏| 552/600 [8:48:29<41:02, 51.31s/it, v_num=e6_1, total_loss_train=555, kl_local_train=73.5, metric_mi|age_categorical_train=0.21]"
     ]
    },
    {
     "name": "stdout",
     "output_type": "stream",
     "text": [
      "\r\n",
      "Epoch 553/600:  92%|█████████▏| 552/600 [8:48:29<41:02, 51.31s/it, v_num=e6_1, total_loss_train=555, kl_local_train=73.5, metric_mi|age_categorical_train=0.21]"
     ]
    },
    {
     "name": "stdout",
     "output_type": "stream",
     "text": [
      "\r\n",
      "Epoch 553/600:  92%|█████████▏| 553/600 [8:49:18<39:32, 50.48s/it, v_num=e6_1, total_loss_train=555, kl_local_train=73.5, metric_mi|age_categorical_train=0.21]"
     ]
    },
    {
     "name": "stdout",
     "output_type": "stream",
     "text": [
      "\r\n",
      "Epoch 553/600:  92%|█████████▏| 553/600 [8:49:18<39:32, 50.48s/it, v_num=e6_1, total_loss_train=554, kl_local_train=73.3, metric_mi|age_categorical_train=0.21]"
     ]
    },
    {
     "name": "stdout",
     "output_type": "stream",
     "text": [
      "\r\n",
      "Epoch 554/600:  92%|█████████▏| 553/600 [8:49:18<39:32, 50.48s/it, v_num=e6_1, total_loss_train=554, kl_local_train=73.3, metric_mi|age_categorical_train=0.21]"
     ]
    },
    {
     "name": "stdout",
     "output_type": "stream",
     "text": [
      "\r\n",
      "Epoch 554/600:  92%|█████████▏| 554/600 [8:50:06<38:12, 49.83s/it, v_num=e6_1, total_loss_train=554, kl_local_train=73.3, metric_mi|age_categorical_train=0.21]"
     ]
    },
    {
     "name": "stdout",
     "output_type": "stream",
     "text": [
      "\r\n",
      "Epoch 554/600:  92%|█████████▏| 554/600 [8:50:06<38:12, 49.83s/it, v_num=e6_1, total_loss_train=555, kl_local_train=73.5, metric_mi|age_categorical_train=0.21]"
     ]
    },
    {
     "name": "stdout",
     "output_type": "stream",
     "text": [
      "\r\n",
      "Epoch 555/600:  92%|█████████▏| 554/600 [8:50:06<38:12, 49.83s/it, v_num=e6_1, total_loss_train=555, kl_local_train=73.5, metric_mi|age_categorical_train=0.21]"
     ]
    },
    {
     "name": "stdout",
     "output_type": "stream",
     "text": [
      "\r\n",
      "Epoch 555/600:  92%|█████████▎| 555/600 [8:50:56<37:24, 49.88s/it, v_num=e6_1, total_loss_train=555, kl_local_train=73.5, metric_mi|age_categorical_train=0.21]"
     ]
    },
    {
     "name": "stdout",
     "output_type": "stream",
     "text": [
      "\r\n",
      "Epoch 555/600:  92%|█████████▎| 555/600 [8:50:56<37:24, 49.88s/it, v_num=e6_1, total_loss_train=554, kl_local_train=73.3, metric_mi|age_categorical_train=0.21]"
     ]
    },
    {
     "name": "stdout",
     "output_type": "stream",
     "text": [
      "\r\n",
      "Epoch 556/600:  92%|█████████▎| 555/600 [8:50:57<37:24, 49.88s/it, v_num=e6_1, total_loss_train=554, kl_local_train=73.3, metric_mi|age_categorical_train=0.21]"
     ]
    },
    {
     "name": "stdout",
     "output_type": "stream",
     "text": [
      "\r\n",
      "Epoch 556/600:  93%|█████████▎| 556/600 [8:51:46<36:31, 49.81s/it, v_num=e6_1, total_loss_train=554, kl_local_train=73.3, metric_mi|age_categorical_train=0.21]"
     ]
    },
    {
     "name": "stdout",
     "output_type": "stream",
     "text": [
      "\r\n",
      "Epoch 556/600:  93%|█████████▎| 556/600 [8:51:46<36:31, 49.81s/it, v_num=e6_1, total_loss_train=555, kl_local_train=72.8, metric_mi|age_categorical_train=0.212]"
     ]
    },
    {
     "name": "stdout",
     "output_type": "stream",
     "text": [
      "\r\n",
      "Epoch 557/600:  93%|█████████▎| 556/600 [8:51:46<36:31, 49.81s/it, v_num=e6_1, total_loss_train=555, kl_local_train=72.8, metric_mi|age_categorical_train=0.212]"
     ]
    },
    {
     "name": "stdout",
     "output_type": "stream",
     "text": [
      "\r\n",
      "Epoch 557/600:  93%|█████████▎| 557/600 [8:52:34<35:25, 49.44s/it, v_num=e6_1, total_loss_train=555, kl_local_train=72.8, metric_mi|age_categorical_train=0.212]"
     ]
    },
    {
     "name": "stdout",
     "output_type": "stream",
     "text": [
      "\r\n",
      "Epoch 557/600:  93%|█████████▎| 557/600 [8:52:34<35:25, 49.44s/it, v_num=e6_1, total_loss_train=555, kl_local_train=72.8, metric_mi|age_categorical_train=0.212]"
     ]
    },
    {
     "name": "stdout",
     "output_type": "stream",
     "text": [
      "\r\n",
      "Epoch 558/600:  93%|█████████▎| 557/600 [8:52:34<35:25, 49.44s/it, v_num=e6_1, total_loss_train=555, kl_local_train=72.8, metric_mi|age_categorical_train=0.212]"
     ]
    },
    {
     "name": "stdout",
     "output_type": "stream",
     "text": [
      "\r\n",
      "Epoch 558/600:  93%|█████████▎| 558/600 [8:53:23<34:34, 49.39s/it, v_num=e6_1, total_loss_train=555, kl_local_train=72.8, metric_mi|age_categorical_train=0.212]"
     ]
    },
    {
     "name": "stdout",
     "output_type": "stream",
     "text": [
      "\r\n",
      "Epoch 558/600:  93%|█████████▎| 558/600 [8:53:23<34:34, 49.39s/it, v_num=e6_1, total_loss_train=555, kl_local_train=72.9, metric_mi|age_categorical_train=0.212]"
     ]
    },
    {
     "name": "stdout",
     "output_type": "stream",
     "text": [
      "\r\n",
      "Epoch 559/600:  93%|█████████▎| 558/600 [8:53:23<34:34, 49.39s/it, v_num=e6_1, total_loss_train=555, kl_local_train=72.9, metric_mi|age_categorical_train=0.212]"
     ]
    },
    {
     "name": "stdout",
     "output_type": "stream",
     "text": [
      "\r\n",
      "Epoch 559/600:  93%|█████████▎| 559/600 [8:54:15<34:16, 50.17s/it, v_num=e6_1, total_loss_train=555, kl_local_train=72.9, metric_mi|age_categorical_train=0.212]"
     ]
    },
    {
     "name": "stdout",
     "output_type": "stream",
     "text": [
      "\r\n",
      "Epoch 559/600:  93%|█████████▎| 559/600 [8:54:15<34:16, 50.17s/it, v_num=e6_1, total_loss_train=555, kl_local_train=72.9, metric_mi|age_categorical_train=0.212]"
     ]
    },
    {
     "name": "stdout",
     "output_type": "stream",
     "text": [
      "\r\n",
      "Epoch 560/600:  93%|█████████▎| 559/600 [8:54:15<34:16, 50.17s/it, v_num=e6_1, total_loss_train=555, kl_local_train=72.9, metric_mi|age_categorical_train=0.212]"
     ]
    },
    {
     "name": "stdout",
     "output_type": "stream",
     "text": [
      "\r\n",
      "Epoch 560/600:  93%|█████████▎| 560/600 [8:55:07<33:45, 50.64s/it, v_num=e6_1, total_loss_train=555, kl_local_train=72.9, metric_mi|age_categorical_train=0.212]"
     ]
    },
    {
     "name": "stdout",
     "output_type": "stream",
     "text": [
      "\r\n",
      "Epoch 560/600:  93%|█████████▎| 560/600 [8:55:07<33:45, 50.64s/it, v_num=e6_1, total_loss_train=555, kl_local_train=72.8, metric_mi|age_categorical_train=0.212]"
     ]
    },
    {
     "name": "stdout",
     "output_type": "stream",
     "text": [
      "\r\n",
      "Epoch 561/600:  93%|█████████▎| 560/600 [8:55:08<33:45, 50.64s/it, v_num=e6_1, total_loss_train=555, kl_local_train=72.8, metric_mi|age_categorical_train=0.212]"
     ]
    },
    {
     "name": "stdout",
     "output_type": "stream",
     "text": [
      "\r\n",
      "Epoch 561/600:  94%|█████████▎| 561/600 [8:55:59<33:05, 50.92s/it, v_num=e6_1, total_loss_train=555, kl_local_train=72.8, metric_mi|age_categorical_train=0.212]"
     ]
    },
    {
     "name": "stdout",
     "output_type": "stream",
     "text": [
      "\r\n",
      "Epoch 561/600:  94%|█████████▎| 561/600 [8:55:59<33:05, 50.92s/it, v_num=e6_1, total_loss_train=556, kl_local_train=73.1, metric_mi|age_categorical_train=0.209]"
     ]
    },
    {
     "name": "stdout",
     "output_type": "stream",
     "text": [
      "\r\n",
      "Epoch 562/600:  94%|█████████▎| 561/600 [8:55:59<33:05, 50.92s/it, v_num=e6_1, total_loss_train=556, kl_local_train=73.1, metric_mi|age_categorical_train=0.209]"
     ]
    },
    {
     "name": "stdout",
     "output_type": "stream",
     "text": [
      "\r\n",
      "Epoch 562/600:  94%|█████████▎| 562/600 [8:56:48<32:00, 50.55s/it, v_num=e6_1, total_loss_train=556, kl_local_train=73.1, metric_mi|age_categorical_train=0.209]"
     ]
    },
    {
     "name": "stdout",
     "output_type": "stream",
     "text": [
      "\r\n",
      "Epoch 562/600:  94%|█████████▎| 562/600 [8:56:48<32:00, 50.55s/it, v_num=e6_1, total_loss_train=555, kl_local_train=72.9, metric_mi|age_categorical_train=0.209]"
     ]
    },
    {
     "name": "stdout",
     "output_type": "stream",
     "text": [
      "\r\n",
      "Epoch 563/600:  94%|█████████▎| 562/600 [8:56:48<32:00, 50.55s/it, v_num=e6_1, total_loss_train=555, kl_local_train=72.9, metric_mi|age_categorical_train=0.209]"
     ]
    },
    {
     "name": "stdout",
     "output_type": "stream",
     "text": [
      "\r\n",
      "Epoch 563/600:  94%|█████████▍| 563/600 [8:57:40<31:23, 50.90s/it, v_num=e6_1, total_loss_train=555, kl_local_train=72.9, metric_mi|age_categorical_train=0.209]"
     ]
    },
    {
     "name": "stdout",
     "output_type": "stream",
     "text": [
      "\r\n",
      "Epoch 563/600:  94%|█████████▍| 563/600 [8:57:40<31:23, 50.90s/it, v_num=e6_1, total_loss_train=556, kl_local_train=72.7, metric_mi|age_categorical_train=0.209]"
     ]
    },
    {
     "name": "stdout",
     "output_type": "stream",
     "text": [
      "\r\n",
      "Epoch 564/600:  94%|█████████▍| 563/600 [8:57:40<31:23, 50.90s/it, v_num=e6_1, total_loss_train=556, kl_local_train=72.7, metric_mi|age_categorical_train=0.209]"
     ]
    },
    {
     "name": "stdout",
     "output_type": "stream",
     "text": [
      "\r\n",
      "Epoch 564/600:  94%|█████████▍| 564/600 [8:58:38<31:49, 53.03s/it, v_num=e6_1, total_loss_train=556, kl_local_train=72.7, metric_mi|age_categorical_train=0.209]"
     ]
    },
    {
     "name": "stdout",
     "output_type": "stream",
     "text": [
      "\r\n",
      "Epoch 564/600:  94%|█████████▍| 564/600 [8:58:38<31:49, 53.03s/it, v_num=e6_1, total_loss_train=556, kl_local_train=72.7, metric_mi|age_categorical_train=0.209]"
     ]
    },
    {
     "name": "stdout",
     "output_type": "stream",
     "text": [
      "\r\n",
      "Epoch 565/600:  94%|█████████▍| 564/600 [8:58:38<31:49, 53.03s/it, v_num=e6_1, total_loss_train=556, kl_local_train=72.7, metric_mi|age_categorical_train=0.209]"
     ]
    },
    {
     "name": "stdout",
     "output_type": "stream",
     "text": [
      "\r\n",
      "Epoch 565/600:  94%|█████████▍| 565/600 [8:59:31<30:50, 52.86s/it, v_num=e6_1, total_loss_train=556, kl_local_train=72.7, metric_mi|age_categorical_train=0.209]"
     ]
    },
    {
     "name": "stdout",
     "output_type": "stream",
     "text": [
      "\r\n",
      "Epoch 565/600:  94%|█████████▍| 565/600 [8:59:31<30:50, 52.86s/it, v_num=e6_1, total_loss_train=555, kl_local_train=72.7, metric_mi|age_categorical_train=0.209]"
     ]
    },
    {
     "name": "stdout",
     "output_type": "stream",
     "text": [
      "\r\n",
      "Epoch 566/600:  94%|█████████▍| 565/600 [8:59:31<30:50, 52.86s/it, v_num=e6_1, total_loss_train=555, kl_local_train=72.7, metric_mi|age_categorical_train=0.209]"
     ]
    },
    {
     "name": "stdout",
     "output_type": "stream",
     "text": [
      "\r\n",
      "Epoch 566/600:  94%|█████████▍| 566/600 [9:00:22<29:38, 52.32s/it, v_num=e6_1, total_loss_train=555, kl_local_train=72.7, metric_mi|age_categorical_train=0.209]"
     ]
    },
    {
     "name": "stdout",
     "output_type": "stream",
     "text": [
      "\r\n",
      "Epoch 566/600:  94%|█████████▍| 566/600 [9:00:22<29:38, 52.32s/it, v_num=e6_1, total_loss_train=556, kl_local_train=72.6, metric_mi|age_categorical_train=0.206]"
     ]
    },
    {
     "name": "stdout",
     "output_type": "stream",
     "text": [
      "\r\n",
      "Epoch 567/600:  94%|█████████▍| 566/600 [9:00:22<29:38, 52.32s/it, v_num=e6_1, total_loss_train=556, kl_local_train=72.6, metric_mi|age_categorical_train=0.206]"
     ]
    },
    {
     "name": "stdout",
     "output_type": "stream",
     "text": [
      "\r\n",
      "Epoch 567/600:  94%|█████████▍| 567/600 [9:01:12<28:22, 51.59s/it, v_num=e6_1, total_loss_train=556, kl_local_train=72.6, metric_mi|age_categorical_train=0.206]"
     ]
    },
    {
     "name": "stdout",
     "output_type": "stream",
     "text": [
      "\r\n",
      "Epoch 567/600:  94%|█████████▍| 567/600 [9:01:12<28:22, 51.59s/it, v_num=e6_1, total_loss_train=555, kl_local_train=72.7, metric_mi|age_categorical_train=0.206]"
     ]
    },
    {
     "name": "stdout",
     "output_type": "stream",
     "text": [
      "\r\n",
      "Epoch 568/600:  94%|█████████▍| 567/600 [9:01:12<28:22, 51.59s/it, v_num=e6_1, total_loss_train=555, kl_local_train=72.7, metric_mi|age_categorical_train=0.206]"
     ]
    },
    {
     "name": "stdout",
     "output_type": "stream",
     "text": [
      "\r\n",
      "Epoch 568/600:  95%|█████████▍| 568/600 [9:02:02<27:21, 51.30s/it, v_num=e6_1, total_loss_train=555, kl_local_train=72.7, metric_mi|age_categorical_train=0.206]"
     ]
    },
    {
     "name": "stdout",
     "output_type": "stream",
     "text": [
      "\r\n",
      "Epoch 568/600:  95%|█████████▍| 568/600 [9:02:02<27:21, 51.30s/it, v_num=e6_1, total_loss_train=555, kl_local_train=72.2, metric_mi|age_categorical_train=0.206]"
     ]
    },
    {
     "name": "stdout",
     "output_type": "stream",
     "text": [
      "\r\n",
      "Epoch 569/600:  95%|█████████▍| 568/600 [9:02:02<27:21, 51.30s/it, v_num=e6_1, total_loss_train=555, kl_local_train=72.2, metric_mi|age_categorical_train=0.206]"
     ]
    },
    {
     "name": "stdout",
     "output_type": "stream",
     "text": [
      "\r\n",
      "Epoch 569/600:  95%|█████████▍| 569/600 [9:02:52<26:20, 50.97s/it, v_num=e6_1, total_loss_train=555, kl_local_train=72.2, metric_mi|age_categorical_train=0.206]"
     ]
    },
    {
     "name": "stdout",
     "output_type": "stream",
     "text": [
      "\r\n",
      "Epoch 569/600:  95%|█████████▍| 569/600 [9:02:52<26:20, 50.97s/it, v_num=e6_1, total_loss_train=556, kl_local_train=72.6, metric_mi|age_categorical_train=0.206]"
     ]
    },
    {
     "name": "stdout",
     "output_type": "stream",
     "text": [
      "\r\n",
      "Epoch 570/600:  95%|█████████▍| 569/600 [9:02:52<26:20, 50.97s/it, v_num=e6_1, total_loss_train=556, kl_local_train=72.6, metric_mi|age_categorical_train=0.206]"
     ]
    },
    {
     "name": "stdout",
     "output_type": "stream",
     "text": [
      "\r\n",
      "Epoch 570/600:  95%|█████████▌| 570/600 [9:03:43<25:25, 50.86s/it, v_num=e6_1, total_loss_train=556, kl_local_train=72.6, metric_mi|age_categorical_train=0.206]"
     ]
    },
    {
     "name": "stdout",
     "output_type": "stream",
     "text": [
      "\r\n",
      "Epoch 570/600:  95%|█████████▌| 570/600 [9:03:43<25:25, 50.86s/it, v_num=e6_1, total_loss_train=556, kl_local_train=72.4, metric_mi|age_categorical_train=0.206]"
     ]
    },
    {
     "name": "stdout",
     "output_type": "stream",
     "text": [
      "\r\n",
      "Epoch 571/600:  95%|█████████▌| 570/600 [9:03:44<25:25, 50.86s/it, v_num=e6_1, total_loss_train=556, kl_local_train=72.4, metric_mi|age_categorical_train=0.206]"
     ]
    },
    {
     "name": "stdout",
     "output_type": "stream",
     "text": [
      "\r\n",
      "Epoch 571/600:  95%|█████████▌| 571/600 [9:04:34<24:37, 50.95s/it, v_num=e6_1, total_loss_train=556, kl_local_train=72.4, metric_mi|age_categorical_train=0.206]"
     ]
    },
    {
     "name": "stdout",
     "output_type": "stream",
     "text": [
      "\r\n",
      "Epoch 571/600:  95%|█████████▌| 571/600 [9:04:34<24:37, 50.95s/it, v_num=e6_1, total_loss_train=556, kl_local_train=72.3, metric_mi|age_categorical_train=0.202]"
     ]
    },
    {
     "name": "stdout",
     "output_type": "stream",
     "text": [
      "\r\n",
      "Epoch 572/600:  95%|█████████▌| 571/600 [9:04:34<24:37, 50.95s/it, v_num=e6_1, total_loss_train=556, kl_local_train=72.3, metric_mi|age_categorical_train=0.202]"
     ]
    },
    {
     "name": "stdout",
     "output_type": "stream",
     "text": [
      "\r\n",
      "Epoch 572/600:  95%|█████████▌| 572/600 [9:05:24<23:38, 50.64s/it, v_num=e6_1, total_loss_train=556, kl_local_train=72.3, metric_mi|age_categorical_train=0.202]"
     ]
    },
    {
     "name": "stdout",
     "output_type": "stream",
     "text": [
      "\r\n",
      "Epoch 572/600:  95%|█████████▌| 572/600 [9:05:24<23:38, 50.64s/it, v_num=e6_1, total_loss_train=556, kl_local_train=72.4, metric_mi|age_categorical_train=0.202]"
     ]
    },
    {
     "name": "stdout",
     "output_type": "stream",
     "text": [
      "\r\n",
      "Epoch 573/600:  95%|█████████▌| 572/600 [9:05:24<23:38, 50.64s/it, v_num=e6_1, total_loss_train=556, kl_local_train=72.4, metric_mi|age_categorical_train=0.202]"
     ]
    },
    {
     "name": "stdout",
     "output_type": "stream",
     "text": [
      "\r\n",
      "Epoch 573/600:  96%|█████████▌| 573/600 [9:06:14<22:41, 50.41s/it, v_num=e6_1, total_loss_train=556, kl_local_train=72.4, metric_mi|age_categorical_train=0.202]"
     ]
    },
    {
     "name": "stdout",
     "output_type": "stream",
     "text": [
      "\r\n",
      "Epoch 573/600:  96%|█████████▌| 573/600 [9:06:14<22:41, 50.41s/it, v_num=e6_1, total_loss_train=556, kl_local_train=72.2, metric_mi|age_categorical_train=0.202]"
     ]
    },
    {
     "name": "stdout",
     "output_type": "stream",
     "text": [
      "\r\n",
      "Epoch 574/600:  96%|█████████▌| 573/600 [9:06:14<22:41, 50.41s/it, v_num=e6_1, total_loss_train=556, kl_local_train=72.2, metric_mi|age_categorical_train=0.202]"
     ]
    },
    {
     "name": "stdout",
     "output_type": "stream",
     "text": [
      "\r\n",
      "Epoch 574/600:  96%|█████████▌| 574/600 [9:07:04<21:48, 50.32s/it, v_num=e6_1, total_loss_train=556, kl_local_train=72.2, metric_mi|age_categorical_train=0.202]"
     ]
    },
    {
     "name": "stdout",
     "output_type": "stream",
     "text": [
      "\r\n",
      "Epoch 574/600:  96%|█████████▌| 574/600 [9:07:04<21:48, 50.32s/it, v_num=e6_1, total_loss_train=556, kl_local_train=72.1, metric_mi|age_categorical_train=0.202]"
     ]
    },
    {
     "name": "stdout",
     "output_type": "stream",
     "text": [
      "\r\n",
      "Epoch 575/600:  96%|█████████▌| 574/600 [9:07:04<21:48, 50.32s/it, v_num=e6_1, total_loss_train=556, kl_local_train=72.1, metric_mi|age_categorical_train=0.202]"
     ]
    },
    {
     "name": "stdout",
     "output_type": "stream",
     "text": [
      "\r\n",
      "Epoch 575/600:  96%|█████████▌| 575/600 [9:07:56<21:08, 50.75s/it, v_num=e6_1, total_loss_train=556, kl_local_train=72.1, metric_mi|age_categorical_train=0.202]"
     ]
    },
    {
     "name": "stdout",
     "output_type": "stream",
     "text": [
      "\r\n",
      "Epoch 575/600:  96%|█████████▌| 575/600 [9:07:56<21:08, 50.75s/it, v_num=e6_1, total_loss_train=557, kl_local_train=72.1, metric_mi|age_categorical_train=0.202]"
     ]
    },
    {
     "name": "stdout",
     "output_type": "stream",
     "text": [
      "\r\n",
      "Epoch 576/600:  96%|█████████▌| 575/600 [9:07:57<21:08, 50.75s/it, v_num=e6_1, total_loss_train=557, kl_local_train=72.1, metric_mi|age_categorical_train=0.202]"
     ]
    },
    {
     "name": "stdout",
     "output_type": "stream",
     "text": [
      "\r\n",
      "Epoch 576/600:  96%|█████████▌| 576/600 [9:08:46<20:16, 50.67s/it, v_num=e6_1, total_loss_train=557, kl_local_train=72.1, metric_mi|age_categorical_train=0.202]"
     ]
    },
    {
     "name": "stdout",
     "output_type": "stream",
     "text": [
      "\r\n",
      "Epoch 576/600:  96%|█████████▌| 576/600 [9:08:46<20:16, 50.67s/it, v_num=e6_1, total_loss_train=556, kl_local_train=71.9, metric_mi|age_categorical_train=0.208]"
     ]
    },
    {
     "name": "stdout",
     "output_type": "stream",
     "text": [
      "\r\n",
      "Epoch 577/600:  96%|█████████▌| 576/600 [9:08:46<20:16, 50.67s/it, v_num=e6_1, total_loss_train=556, kl_local_train=71.9, metric_mi|age_categorical_train=0.208]"
     ]
    },
    {
     "name": "stdout",
     "output_type": "stream",
     "text": [
      "\r\n",
      "Epoch 577/600:  96%|█████████▌| 577/600 [9:09:36<19:16, 50.28s/it, v_num=e6_1, total_loss_train=556, kl_local_train=71.9, metric_mi|age_categorical_train=0.208]"
     ]
    },
    {
     "name": "stdout",
     "output_type": "stream",
     "text": [
      "\r\n",
      "Epoch 577/600:  96%|█████████▌| 577/600 [9:09:36<19:16, 50.28s/it, v_num=e6_1, total_loss_train=556, kl_local_train=71.7, metric_mi|age_categorical_train=0.208]"
     ]
    },
    {
     "name": "stdout",
     "output_type": "stream",
     "text": [
      "\r\n",
      "Epoch 578/600:  96%|█████████▌| 577/600 [9:09:36<19:16, 50.28s/it, v_num=e6_1, total_loss_train=556, kl_local_train=71.7, metric_mi|age_categorical_train=0.208]"
     ]
    },
    {
     "name": "stdout",
     "output_type": "stream",
     "text": [
      "\r\n",
      "Epoch 578/600:  96%|█████████▋| 578/600 [9:10:25<18:21, 50.05s/it, v_num=e6_1, total_loss_train=556, kl_local_train=71.7, metric_mi|age_categorical_train=0.208]"
     ]
    },
    {
     "name": "stdout",
     "output_type": "stream",
     "text": [
      "\r\n",
      "Epoch 578/600:  96%|█████████▋| 578/600 [9:10:25<18:21, 50.05s/it, v_num=e6_1, total_loss_train=556, kl_local_train=71.7, metric_mi|age_categorical_train=0.208]"
     ]
    },
    {
     "name": "stdout",
     "output_type": "stream",
     "text": [
      "\r\n",
      "Epoch 579/600:  96%|█████████▋| 578/600 [9:10:25<18:21, 50.05s/it, v_num=e6_1, total_loss_train=556, kl_local_train=71.7, metric_mi|age_categorical_train=0.208]"
     ]
    },
    {
     "name": "stdout",
     "output_type": "stream",
     "text": [
      "\r\n",
      "Epoch 579/600:  96%|█████████▋| 579/600 [9:11:14<17:26, 49.83s/it, v_num=e6_1, total_loss_train=556, kl_local_train=71.7, metric_mi|age_categorical_train=0.208]"
     ]
    },
    {
     "name": "stdout",
     "output_type": "stream",
     "text": [
      "\r\n",
      "Epoch 579/600:  96%|█████████▋| 579/600 [9:11:14<17:26, 49.83s/it, v_num=e6_1, total_loss_train=557, kl_local_train=71.7, metric_mi|age_categorical_train=0.208]"
     ]
    },
    {
     "name": "stdout",
     "output_type": "stream",
     "text": [
      "\r\n",
      "Epoch 580/600:  96%|█████████▋| 579/600 [9:11:14<17:26, 49.83s/it, v_num=e6_1, total_loss_train=557, kl_local_train=71.7, metric_mi|age_categorical_train=0.208]"
     ]
    },
    {
     "name": "stdout",
     "output_type": "stream",
     "text": [
      "\r\n",
      "Epoch 580/600:  97%|█████████▋| 580/600 [9:12:05<16:42, 50.13s/it, v_num=e6_1, total_loss_train=557, kl_local_train=71.7, metric_mi|age_categorical_train=0.208]"
     ]
    },
    {
     "name": "stdout",
     "output_type": "stream",
     "text": [
      "\r\n",
      "Epoch 580/600:  97%|█████████▋| 580/600 [9:12:05<16:42, 50.13s/it, v_num=e6_1, total_loss_train=557, kl_local_train=71.6, metric_mi|age_categorical_train=0.208]"
     ]
    },
    {
     "name": "stdout",
     "output_type": "stream",
     "text": [
      "\r\n",
      "Epoch 581/600:  97%|█████████▋| 580/600 [9:12:06<16:42, 50.13s/it, v_num=e6_1, total_loss_train=557, kl_local_train=71.6, metric_mi|age_categorical_train=0.208]"
     ]
    },
    {
     "name": "stdout",
     "output_type": "stream",
     "text": [
      "\r\n",
      "Epoch 581/600:  97%|█████████▋| 581/600 [9:12:56<15:56, 50.33s/it, v_num=e6_1, total_loss_train=557, kl_local_train=71.6, metric_mi|age_categorical_train=0.208]"
     ]
    },
    {
     "name": "stdout",
     "output_type": "stream",
     "text": [
      "\r\n",
      "Epoch 581/600:  97%|█████████▋| 581/600 [9:12:56<15:56, 50.33s/it, v_num=e6_1, total_loss_train=557, kl_local_train=71.7, metric_mi|age_categorical_train=0.207]"
     ]
    },
    {
     "name": "stdout",
     "output_type": "stream",
     "text": [
      "\r\n",
      "Epoch 582/600:  97%|█████████▋| 581/600 [9:12:56<15:56, 50.33s/it, v_num=e6_1, total_loss_train=557, kl_local_train=71.7, metric_mi|age_categorical_train=0.207]"
     ]
    },
    {
     "name": "stdout",
     "output_type": "stream",
     "text": [
      "\r\n",
      "Epoch 582/600:  97%|█████████▋| 582/600 [9:13:46<15:04, 50.25s/it, v_num=e6_1, total_loss_train=557, kl_local_train=71.7, metric_mi|age_categorical_train=0.207]"
     ]
    },
    {
     "name": "stdout",
     "output_type": "stream",
     "text": [
      "\r\n",
      "Epoch 582/600:  97%|█████████▋| 582/600 [9:13:46<15:04, 50.25s/it, v_num=e6_1, total_loss_train=557, kl_local_train=71.5, metric_mi|age_categorical_train=0.207]"
     ]
    },
    {
     "name": "stdout",
     "output_type": "stream",
     "text": [
      "\r\n",
      "Epoch 583/600:  97%|█████████▋| 582/600 [9:13:46<15:04, 50.25s/it, v_num=e6_1, total_loss_train=557, kl_local_train=71.5, metric_mi|age_categorical_train=0.207]"
     ]
    },
    {
     "name": "stdout",
     "output_type": "stream",
     "text": [
      "\r\n",
      "Epoch 583/600:  97%|█████████▋| 583/600 [9:14:36<14:12, 50.17s/it, v_num=e6_1, total_loss_train=557, kl_local_train=71.5, metric_mi|age_categorical_train=0.207]"
     ]
    },
    {
     "name": "stdout",
     "output_type": "stream",
     "text": [
      "\r\n",
      "Epoch 583/600:  97%|█████████▋| 583/600 [9:14:36<14:12, 50.17s/it, v_num=e6_1, total_loss_train=557, kl_local_train=71.6, metric_mi|age_categorical_train=0.207]"
     ]
    },
    {
     "name": "stdout",
     "output_type": "stream",
     "text": [
      "\r\n",
      "Epoch 584/600:  97%|█████████▋| 583/600 [9:14:36<14:12, 50.17s/it, v_num=e6_1, total_loss_train=557, kl_local_train=71.6, metric_mi|age_categorical_train=0.207]"
     ]
    },
    {
     "name": "stdout",
     "output_type": "stream",
     "text": [
      "\r\n",
      "Epoch 584/600:  97%|█████████▋| 584/600 [9:15:25<13:17, 49.84s/it, v_num=e6_1, total_loss_train=557, kl_local_train=71.6, metric_mi|age_categorical_train=0.207]"
     ]
    },
    {
     "name": "stdout",
     "output_type": "stream",
     "text": [
      "\r\n",
      "Epoch 584/600:  97%|█████████▋| 584/600 [9:15:25<13:17, 49.84s/it, v_num=e6_1, total_loss_train=557, kl_local_train=71.6, metric_mi|age_categorical_train=0.207]"
     ]
    },
    {
     "name": "stdout",
     "output_type": "stream",
     "text": [
      "\r\n",
      "Epoch 585/600:  97%|█████████▋| 584/600 [9:15:25<13:17, 49.84s/it, v_num=e6_1, total_loss_train=557, kl_local_train=71.6, metric_mi|age_categorical_train=0.207]"
     ]
    },
    {
     "name": "stdout",
     "output_type": "stream",
     "text": [
      "\r\n",
      "Epoch 585/600:  98%|█████████▊| 585/600 [9:16:18<12:38, 50.60s/it, v_num=e6_1, total_loss_train=557, kl_local_train=71.6, metric_mi|age_categorical_train=0.207]"
     ]
    },
    {
     "name": "stdout",
     "output_type": "stream",
     "text": [
      "\r\n",
      "Epoch 585/600:  98%|█████████▊| 585/600 [9:16:18<12:38, 50.60s/it, v_num=e6_1, total_loss_train=557, kl_local_train=71.5, metric_mi|age_categorical_train=0.207]"
     ]
    },
    {
     "name": "stdout",
     "output_type": "stream",
     "text": [
      "\r\n",
      "Epoch 586/600:  98%|█████████▊| 585/600 [9:16:18<12:38, 50.60s/it, v_num=e6_1, total_loss_train=557, kl_local_train=71.5, metric_mi|age_categorical_train=0.207]"
     ]
    },
    {
     "name": "stdout",
     "output_type": "stream",
     "text": [
      "\r\n",
      "Epoch 586/600:  98%|█████████▊| 586/600 [9:17:08<11:48, 50.61s/it, v_num=e6_1, total_loss_train=557, kl_local_train=71.5, metric_mi|age_categorical_train=0.207]"
     ]
    },
    {
     "name": "stdout",
     "output_type": "stream",
     "text": [
      "\r\n",
      "Epoch 586/600:  98%|█████████▊| 586/600 [9:17:08<11:48, 50.61s/it, v_num=e6_1, total_loss_train=557, kl_local_train=71.5, metric_mi|age_categorical_train=0.206]"
     ]
    },
    {
     "name": "stdout",
     "output_type": "stream",
     "text": [
      "\r\n",
      "Epoch 587/600:  98%|█████████▊| 586/600 [9:17:08<11:48, 50.61s/it, v_num=e6_1, total_loss_train=557, kl_local_train=71.5, metric_mi|age_categorical_train=0.206]"
     ]
    },
    {
     "name": "stdout",
     "output_type": "stream",
     "text": [
      "\r\n",
      "Epoch 587/600:  98%|█████████▊| 587/600 [9:17:59<10:59, 50.70s/it, v_num=e6_1, total_loss_train=557, kl_local_train=71.5, metric_mi|age_categorical_train=0.206]"
     ]
    },
    {
     "name": "stdout",
     "output_type": "stream",
     "text": [
      "\r\n",
      "Epoch 587/600:  98%|█████████▊| 587/600 [9:17:59<10:59, 50.70s/it, v_num=e6_1, total_loss_train=557, kl_local_train=71.4, metric_mi|age_categorical_train=0.206]"
     ]
    },
    {
     "name": "stdout",
     "output_type": "stream",
     "text": [
      "\r\n",
      "Epoch 588/600:  98%|█████████▊| 587/600 [9:17:59<10:59, 50.70s/it, v_num=e6_1, total_loss_train=557, kl_local_train=71.4, metric_mi|age_categorical_train=0.206]"
     ]
    },
    {
     "name": "stdout",
     "output_type": "stream",
     "text": [
      "\r\n",
      "Epoch 588/600:  98%|█████████▊| 588/600 [9:18:49<10:05, 50.45s/it, v_num=e6_1, total_loss_train=557, kl_local_train=71.4, metric_mi|age_categorical_train=0.206]"
     ]
    },
    {
     "name": "stdout",
     "output_type": "stream",
     "text": [
      "\r\n",
      "Epoch 588/600:  98%|█████████▊| 588/600 [9:18:49<10:05, 50.45s/it, v_num=e6_1, total_loss_train=557, kl_local_train=71.4, metric_mi|age_categorical_train=0.206]"
     ]
    },
    {
     "name": "stdout",
     "output_type": "stream",
     "text": [
      "\r\n",
      "Epoch 589/600:  98%|█████████▊| 588/600 [9:18:49<10:05, 50.45s/it, v_num=e6_1, total_loss_train=557, kl_local_train=71.4, metric_mi|age_categorical_train=0.206]"
     ]
    },
    {
     "name": "stdout",
     "output_type": "stream",
     "text": [
      "\r\n",
      "Epoch 589/600:  98%|█████████▊| 589/600 [9:19:39<09:12, 50.23s/it, v_num=e6_1, total_loss_train=557, kl_local_train=71.4, metric_mi|age_categorical_train=0.206]"
     ]
    },
    {
     "name": "stdout",
     "output_type": "stream",
     "text": [
      "\r\n",
      "Epoch 589/600:  98%|█████████▊| 589/600 [9:19:39<09:12, 50.23s/it, v_num=e6_1, total_loss_train=557, kl_local_train=70.8, metric_mi|age_categorical_train=0.206]"
     ]
    },
    {
     "name": "stdout",
     "output_type": "stream",
     "text": [
      "\r\n",
      "Epoch 590/600:  98%|█████████▊| 589/600 [9:19:39<09:12, 50.23s/it, v_num=e6_1, total_loss_train=557, kl_local_train=70.8, metric_mi|age_categorical_train=0.206]"
     ]
    },
    {
     "name": "stdout",
     "output_type": "stream",
     "text": [
      "\r\n",
      "Epoch 590/600:  98%|█████████▊| 590/600 [9:20:32<08:31, 51.15s/it, v_num=e6_1, total_loss_train=557, kl_local_train=70.8, metric_mi|age_categorical_train=0.206]"
     ]
    },
    {
     "name": "stdout",
     "output_type": "stream",
     "text": [
      "\r\n",
      "Epoch 590/600:  98%|█████████▊| 590/600 [9:20:32<08:31, 51.15s/it, v_num=e6_1, total_loss_train=557, kl_local_train=71.2, metric_mi|age_categorical_train=0.206]"
     ]
    },
    {
     "name": "stdout",
     "output_type": "stream",
     "text": [
      "\r\n",
      "Epoch 591/600:  98%|█████████▊| 590/600 [9:20:33<08:31, 51.15s/it, v_num=e6_1, total_loss_train=557, kl_local_train=71.2, metric_mi|age_categorical_train=0.206]"
     ]
    },
    {
     "name": "stdout",
     "output_type": "stream",
     "text": [
      "\r\n",
      "Epoch 591/600:  98%|█████████▊| 591/600 [9:21:24<07:43, 51.45s/it, v_num=e6_1, total_loss_train=557, kl_local_train=71.2, metric_mi|age_categorical_train=0.206]"
     ]
    },
    {
     "name": "stdout",
     "output_type": "stream",
     "text": [
      "\r\n",
      "Epoch 591/600:  98%|█████████▊| 591/600 [9:21:24<07:43, 51.45s/it, v_num=e6_1, total_loss_train=557, kl_local_train=71, metric_mi|age_categorical_train=0.196]  "
     ]
    },
    {
     "name": "stdout",
     "output_type": "stream",
     "text": [
      "\r\n",
      "Epoch 592/600:  98%|█████████▊| 591/600 [9:21:24<07:43, 51.45s/it, v_num=e6_1, total_loss_train=557, kl_local_train=71, metric_mi|age_categorical_train=0.196]"
     ]
    },
    {
     "name": "stdout",
     "output_type": "stream",
     "text": [
      "\r\n",
      "Epoch 592/600:  99%|█████████▊| 592/600 [9:22:16<06:51, 51.43s/it, v_num=e6_1, total_loss_train=557, kl_local_train=71, metric_mi|age_categorical_train=0.196]"
     ]
    },
    {
     "name": "stdout",
     "output_type": "stream",
     "text": [
      "\r\n",
      "Epoch 592/600:  99%|█████████▊| 592/600 [9:22:16<06:51, 51.43s/it, v_num=e6_1, total_loss_train=557, kl_local_train=70.9, metric_mi|age_categorical_train=0.196]"
     ]
    },
    {
     "name": "stdout",
     "output_type": "stream",
     "text": [
      "\r\n",
      "Epoch 593/600:  99%|█████████▊| 592/600 [9:22:16<06:51, 51.43s/it, v_num=e6_1, total_loss_train=557, kl_local_train=70.9, metric_mi|age_categorical_train=0.196]"
     ]
    },
    {
     "name": "stdout",
     "output_type": "stream",
     "text": [
      "\r\n",
      "Epoch 593/600:  99%|█████████▉| 593/600 [9:23:06<05:58, 51.15s/it, v_num=e6_1, total_loss_train=557, kl_local_train=70.9, metric_mi|age_categorical_train=0.196]"
     ]
    },
    {
     "name": "stdout",
     "output_type": "stream",
     "text": [
      "\r\n",
      "Epoch 593/600:  99%|█████████▉| 593/600 [9:23:06<05:58, 51.15s/it, v_num=e6_1, total_loss_train=558, kl_local_train=71.1, metric_mi|age_categorical_train=0.196]"
     ]
    },
    {
     "name": "stdout",
     "output_type": "stream",
     "text": [
      "\r\n",
      "Epoch 594/600:  99%|█████████▉| 593/600 [9:23:06<05:58, 51.15s/it, v_num=e6_1, total_loss_train=558, kl_local_train=71.1, metric_mi|age_categorical_train=0.196]"
     ]
    },
    {
     "name": "stdout",
     "output_type": "stream",
     "text": [
      "\r\n",
      "Epoch 594/600:  99%|█████████▉| 594/600 [9:23:55<05:03, 50.61s/it, v_num=e6_1, total_loss_train=558, kl_local_train=71.1, metric_mi|age_categorical_train=0.196]"
     ]
    },
    {
     "name": "stdout",
     "output_type": "stream",
     "text": [
      "\r\n",
      "Epoch 594/600:  99%|█████████▉| 594/600 [9:23:55<05:03, 50.61s/it, v_num=e6_1, total_loss_train=558, kl_local_train=70.7, metric_mi|age_categorical_train=0.196]"
     ]
    },
    {
     "name": "stdout",
     "output_type": "stream",
     "text": [
      "\r\n",
      "Epoch 595/600:  99%|█████████▉| 594/600 [9:23:55<05:03, 50.61s/it, v_num=e6_1, total_loss_train=558, kl_local_train=70.7, metric_mi|age_categorical_train=0.196]"
     ]
    },
    {
     "name": "stdout",
     "output_type": "stream",
     "text": [
      "\r\n",
      "Epoch 595/600:  99%|█████████▉| 595/600 [9:24:48<04:16, 51.25s/it, v_num=e6_1, total_loss_train=558, kl_local_train=70.7, metric_mi|age_categorical_train=0.196]"
     ]
    },
    {
     "name": "stdout",
     "output_type": "stream",
     "text": [
      "\r\n",
      "Epoch 595/600:  99%|█████████▉| 595/600 [9:24:48<04:16, 51.25s/it, v_num=e6_1, total_loss_train=558, kl_local_train=70.6, metric_mi|age_categorical_train=0.196]"
     ]
    },
    {
     "name": "stdout",
     "output_type": "stream",
     "text": [
      "\r\n",
      "Epoch 596/600:  99%|█████████▉| 595/600 [9:24:49<04:16, 51.25s/it, v_num=e6_1, total_loss_train=558, kl_local_train=70.6, metric_mi|age_categorical_train=0.196]"
     ]
    },
    {
     "name": "stdout",
     "output_type": "stream",
     "text": [
      "\r\n",
      "Epoch 596/600:  99%|█████████▉| 596/600 [9:25:38<03:23, 50.79s/it, v_num=e6_1, total_loss_train=558, kl_local_train=70.6, metric_mi|age_categorical_train=0.196]"
     ]
    },
    {
     "name": "stdout",
     "output_type": "stream",
     "text": [
      "\r\n",
      "Epoch 596/600:  99%|█████████▉| 596/600 [9:25:38<03:23, 50.79s/it, v_num=e6_1, total_loss_train=558, kl_local_train=70.7, metric_mi|age_categorical_train=0.209]"
     ]
    },
    {
     "name": "stdout",
     "output_type": "stream",
     "text": [
      "\r\n",
      "Epoch 597/600:  99%|█████████▉| 596/600 [9:25:38<03:23, 50.79s/it, v_num=e6_1, total_loss_train=558, kl_local_train=70.7, metric_mi|age_categorical_train=0.209]"
     ]
    },
    {
     "name": "stdout",
     "output_type": "stream",
     "text": [
      "\r\n",
      "Epoch 597/600: 100%|█████████▉| 597/600 [9:26:26<02:30, 50.06s/it, v_num=e6_1, total_loss_train=558, kl_local_train=70.7, metric_mi|age_categorical_train=0.209]"
     ]
    },
    {
     "name": "stdout",
     "output_type": "stream",
     "text": [
      "\r\n",
      "Epoch 597/600: 100%|█████████▉| 597/600 [9:26:26<02:30, 50.06s/it, v_num=e6_1, total_loss_train=558, kl_local_train=70.8, metric_mi|age_categorical_train=0.209]"
     ]
    },
    {
     "name": "stdout",
     "output_type": "stream",
     "text": [
      "\r\n",
      "Epoch 598/600: 100%|█████████▉| 597/600 [9:26:26<02:30, 50.06s/it, v_num=e6_1, total_loss_train=558, kl_local_train=70.8, metric_mi|age_categorical_train=0.209]"
     ]
    },
    {
     "name": "stdout",
     "output_type": "stream",
     "text": [
      "\r\n",
      "Epoch 598/600: 100%|█████████▉| 598/600 [9:27:15<01:39, 49.67s/it, v_num=e6_1, total_loss_train=558, kl_local_train=70.8, metric_mi|age_categorical_train=0.209]"
     ]
    },
    {
     "name": "stdout",
     "output_type": "stream",
     "text": [
      "\r\n",
      "Epoch 598/600: 100%|█████████▉| 598/600 [9:27:15<01:39, 49.67s/it, v_num=e6_1, total_loss_train=558, kl_local_train=70.7, metric_mi|age_categorical_train=0.209]"
     ]
    },
    {
     "name": "stdout",
     "output_type": "stream",
     "text": [
      "\r\n",
      "Epoch 599/600: 100%|█████████▉| 598/600 [9:27:15<01:39, 49.67s/it, v_num=e6_1, total_loss_train=558, kl_local_train=70.7, metric_mi|age_categorical_train=0.209]"
     ]
    },
    {
     "name": "stdout",
     "output_type": "stream",
     "text": [
      "\r\n",
      "Epoch 599/600: 100%|█████████▉| 599/600 [9:28:04<00:49, 49.37s/it, v_num=e6_1, total_loss_train=558, kl_local_train=70.7, metric_mi|age_categorical_train=0.209]"
     ]
    },
    {
     "name": "stdout",
     "output_type": "stream",
     "text": [
      "\r\n",
      "Epoch 599/600: 100%|█████████▉| 599/600 [9:28:04<00:49, 49.37s/it, v_num=e6_1, total_loss_train=558, kl_local_train=70.4, metric_mi|age_categorical_train=0.209]"
     ]
    },
    {
     "name": "stdout",
     "output_type": "stream",
     "text": [
      "\r\n",
      "Epoch 600/600: 100%|█████████▉| 599/600 [9:28:04<00:49, 49.37s/it, v_num=e6_1, total_loss_train=558, kl_local_train=70.4, metric_mi|age_categorical_train=0.209]"
     ]
    },
    {
     "name": "stdout",
     "output_type": "stream",
     "text": [
      "\r\n",
      "Epoch 600/600: 100%|██████████| 600/600 [9:28:53<00:00, 49.39s/it, v_num=e6_1, total_loss_train=558, kl_local_train=70.4, metric_mi|age_categorical_train=0.209]"
     ]
    },
    {
     "name": "stdout",
     "output_type": "stream",
     "text": [
      "\r\n",
      "Epoch 600/600: 100%|██████████| 600/600 [9:28:53<00:00, 49.39s/it, v_num=e6_1, total_loss_train=558, kl_local_train=70.9, metric_mi|age_categorical_train=0.209]"
     ]
    },
    {
     "name": "stderr",
     "output_type": "stream",
     "text": [
      "`Trainer.fit` stopped: `max_epochs=600` reached.\n"
     ]
    },
    {
     "name": "stdout",
     "output_type": "stream",
     "text": [
      "\r\n",
      "Epoch 600/600: 100%|██████████| 600/600 [9:28:54<00:00, 56.89s/it, v_num=e6_1, total_loss_train=558, kl_local_train=70.9, metric_mi|age_categorical_train=0.209]"
     ]
    },
    {
     "name": "stdout",
     "output_type": "stream",
     "text": [
      "\n"
     ]
    },
    {
     "name": "stdout",
     "output_type": "stream",
     "text": [
      "W&B logger finalized successfully: \n",
      "Exit Code: 0\n",
      "\n"
     ]
    }
   ],
   "source": [
    "n_epochs_kl_warmup = 600\n",
    "\n",
    "model_params = dict(\n",
    "    n_hidden=512,\n",
    "    n_layers=3, \n",
    "    n_latent=(24 + 8 * len(disentenglement_targets_configurations)),\n",
    "    gene_likelihood = \"nb\",\n",
    "    use_batch_norm = \"none\",\n",
    "    use_layer_norm = \"both\",\n",
    "    dropout_rate = 0.5,\n",
    "    deeply_inject_disentengled_latents = True,\n",
    "    include_auxillary_loss = True,\n",
    "    beta_kl_weight = 0.5,\n",
    "    encode_covariates=False\n",
    ")\n",
    "\n",
    "train_params = dict(\n",
    "    max_epochs=600,\n",
    "    train_size=0.8,\n",
    "    batch_size=64,\n",
    "    check_val_every_n_epoch=10,\n",
    "    limit_train_batches=0.1, \n",
    "    limit_val_batches=0.1,\n",
    "    learning_rate_monitor=True,\n",
    "    # early stopping:\n",
    "    early_stopping=False,\n",
    "    early_stopping_patience=150,\n",
    "    early_stopping_monitor=\"elbo_train\",\n",
    "    plan_kwargs = dict(\n",
    "        n_epochs_kl_warmup=n_epochs_kl_warmup,\n",
    "        lr=5e-5,\n",
    "        weight_decay=1e-2,\n",
    "        optimizer=\"AdamW\",\n",
    "        # lr-scheduler:\n",
    "        reduce_lr_on_plateau=True,\n",
    "        lr_patience=100,\n",
    "        lr_scheduler_metric=\"elbo_train\",\n",
    "    )\n",
    ")\n",
    "\n",
    "dataset_params = dict(\n",
    "    layer=None, \n",
    "    labels_key=None,\n",
    "    batch_key=None,\n",
    "    categorical_covariate_keys=None,\n",
    "    disentenglement_targets_configurations=disentenglement_targets_configurations,\n",
    "    model_level_metrics=model_level_metrics,\n",
    "    model_level_metrics_helper_covariates=['age_categorical']\n",
    ")\n",
    "\n",
    "tardis.MyModel.setup_anndata(adata, **dataset_params)\n",
    "dataset_params[\"adata_path\"] = adata_file_path\n",
    "dataset_params[\"adata\"] = os.path.split(adata_file_path)[1]\n",
    "\n",
    "tardis.MyModel.setup_wandb(\n",
    "    wandb_configurations=tardis.config.wandb,\n",
    "    hyperparams=dict(\n",
    "        model_params=model_params,\n",
    "        train_params=train_params,\n",
    "        dataset_params=dataset_params,\n",
    "    )\n",
    ")\n",
    "\n",
    "vae = tardis.MyModel(\n",
    "    adata,\n",
    "    **model_params\n",
    ")\n",
    "vae.train(**train_params)\n",
    "\n",
    "dir_path = os.path.join(\n",
    "    tardis.config.io_directories[\"models\"],\n",
    "    \"braun_age-continuous_2_encode\"\n",
    ")\n",
    "\n",
    "vae.save(\n",
    "    dir_path,\n",
    "    overwrite=True,\n",
    ")"
   ]
  },
  {
   "cell_type": "code",
   "execution_count": null,
   "id": "0fc4f365-b7a0-4c4d-92b9-993c53327048",
   "metadata": {},
   "outputs": [],
   "source": [
    "# vae.get_reconstruction_r2_training(top_n=[])"
   ]
  },
  {
   "cell_type": "code",
   "execution_count": null,
   "id": "6d9b0307-9421-490b-8024-0c6bda8c18e3",
   "metadata": {},
   "outputs": [],
   "source": [
    "adata.obs[\"validation\"] = \"train\"\n",
    "adata.obs[\"validation\"].iloc[vae.validation_indices] = \"validation\""
   ]
  },
  {
   "cell_type": "code",
   "execution_count": null,
   "id": "04982e03-16d4-4a56-894b-5b1ff00f5655",
   "metadata": {},
   "outputs": [],
   "source": [
    "vae.plot_training_history(\n",
    "    ignore_first=0,\n",
    "    n_col=4,\n",
    "    metrics_name=[\"metric_mi|age_categorical\", \"reconstruction_loss\", \"kl_local\"]\n",
    ")"
   ]
  },
  {
   "cell_type": "code",
   "execution_count": null,
   "id": "ccd6d863-6767-4d28-b837-3c0315ba9fa5",
   "metadata": {},
   "outputs": [],
   "source": [
    "from tardis._disentanglementmanager import DisentanglementManager as DM"
   ]
  },
  {
   "cell_type": "code",
   "execution_count": null,
   "id": "46acb718-b117-4b89-b371-92d7b49bf722",
   "metadata": {},
   "outputs": [],
   "source": [
    "latent = ad.AnnData(X=vae.get_latent_representation(), obs=adata.obs.copy())\n",
    "rsc.utils.anndata_to_GPU(latent)\n",
    "rsc.pp.neighbors(latent)\n",
    "rsc.tl.umap(latent)\n",
    "\n",
    "with warnings.catch_warnings():\n",
    "    warnings.simplefilter(\"ignore\")\n",
    "    sc.pl.umap(\n",
    "        latent, \n",
    "        color=['age', 'age_categorical', 'cell_type', 'validation'], \n",
    "        ncols=4,\n",
    "        frameon=False,\n",
    "        legend_fontsize=\"xx-small\"\n",
    "    )"
   ]
  },
  {
   "cell_type": "code",
   "execution_count": null,
   "id": "462de488-c98d-4b0f-9fe8-b1fa33848cba",
   "metadata": {},
   "outputs": [],
   "source": [
    "sublatent = DM.configurations.get_by_obs_key(\"age_training\").reserved_latent_indices\n",
    "latent = ad.AnnData(X=vae.get_latent_representation()[:, sublatent], obs=adata.obs.copy())\n",
    "rsc.utils.anndata_to_GPU(latent)\n",
    "rsc.pp.neighbors(latent)\n",
    "rsc.tl.umap(latent)\n",
    "\n",
    "with warnings.catch_warnings():\n",
    "    warnings.simplefilter(\"ignore\")\n",
    "    sc.pl.umap(\n",
    "        latent, \n",
    "        color=['age', 'age_categorical', 'cell_type', 'validation'], \n",
    "        ncols=4,\n",
    "        frameon=False,\n",
    "        legend_fontsize=\"xx-small\"\n",
    "    )"
   ]
  },
  {
   "cell_type": "code",
   "execution_count": null,
   "id": "22710fb8-6c76-4e95-8290-6eff478ad7c9",
   "metadata": {},
   "outputs": [],
   "source": [
    "sublatent = DM.configurations.unreserved_latent_indices\n",
    "latent = ad.AnnData(X=vae.get_latent_representation()[:, sublatent], obs=adata.obs.copy())\n",
    "rsc.utils.anndata_to_GPU(latent)\n",
    "rsc.pp.neighbors(latent)\n",
    "rsc.tl.umap(latent)\n",
    "\n",
    "with warnings.catch_warnings():\n",
    "    warnings.simplefilter(\"ignore\")\n",
    "    sc.pl.umap(\n",
    "        latent, \n",
    "        color=['age', 'age_categorical', 'cell_type', 'validation'], \n",
    "        ncols=4,\n",
    "        frameon=False,\n",
    "        legend_fontsize=\"xx-small\"\n",
    "    )"
   ]
  },
  {
   "cell_type": "code",
   "execution_count": null,
   "id": "718a4d71-7f61-4559-abad-f940973fee6c",
   "metadata": {},
   "outputs": [],
   "source": []
  },
  {
   "cell_type": "code",
   "execution_count": null,
   "id": "670232e0-8d4e-4ce6-bc14-cb03124231e4",
   "metadata": {},
   "outputs": [],
   "source": []
  }
 ],
 "metadata": {
  "kernelspec": {
   "display_name": "Python 3 (ipykernel)",
   "language": "python",
   "name": "python3"
  },
  "language_info": {
   "codemirror_mode": {
    "name": "ipython",
    "version": 3
   },
   "file_extension": ".py",
   "mimetype": "text/x-python",
   "name": "python",
   "nbconvert_exporter": "python",
   "pygments_lexer": "ipython3",
   "version": "3.10.14"
  }
 },
 "nbformat": 4,
 "nbformat_minor": 5
}
