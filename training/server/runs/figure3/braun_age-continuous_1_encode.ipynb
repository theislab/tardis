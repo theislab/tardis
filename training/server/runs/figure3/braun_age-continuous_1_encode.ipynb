{
 "cells": [
  {
   "cell_type": "markdown",
   "id": "7a174ddf-1bac-4261-a2df-155cc7e8fc31",
   "metadata": {},
   "source": [
    "# braun"
   ]
  },
  {
   "cell_type": "code",
   "execution_count": null,
   "id": "bd13e0f4-b441-4653-bf08-f2812d58f844",
   "metadata": {},
   "outputs": [],
   "source": [
    "import warnings\n",
    "import os\n",
    "import sys\n",
    "import gc\n",
    "import warnings"
   ]
  },
  {
   "cell_type": "code",
   "execution_count": null,
   "id": "0d362b42-a27d-486f-9c83-f52a59bfc6a5",
   "metadata": {},
   "outputs": [],
   "source": [
    "import anndata as ad\n",
    "import scanpy as sc\n",
    "import copy\n",
    "import torch\n",
    "from pathlib import Path\n",
    "import networkx as nx\n",
    "from sklearn.neighbors import kneighbors_graph\n",
    "import rapids_singlecell as rsc\n",
    "import numpy as np\n",
    "import scanpy as sc\n",
    "import pandas as pd\n",
    "import numpy as np\n",
    "import scipy.stats\n",
    "\n",
    "sys.path.append(\"/home/icb/kemal.inecik/work/codes/tardis\")\n",
    "import tardis\n",
    "tardis.config = tardis.config_server"
   ]
  },
  {
   "cell_type": "code",
   "execution_count": null,
   "id": "6e834108-5b88-402d-94c9-c8002c7a927a",
   "metadata": {},
   "outputs": [],
   "source": [
    "print(f\"CUDA used: {torch.cuda.is_available()}\")"
   ]
  },
  {
   "cell_type": "code",
   "execution_count": null,
   "id": "f0a8fa63-54f9-4cc9-aa2c-e2f1ce8ec9e8",
   "metadata": {},
   "outputs": [],
   "source": [
    "%matplotlib inline\n",
    "%config InlineBackend.figure_format='retina'\n",
    "import matplotlib.pyplot as plt\n",
    "import seaborn as sns\n",
    "\n",
    "import pickle\n",
    "_rcparams_path = \"/home/icb/kemal.inecik/work/codes/tardis/training/local/figures/rcparams.pickle\"\n",
    "with open(_rcparams_path, 'rb') as file:\n",
    "    _rcparams = pickle.load(file)\n",
    "plt.rcParams.update(_rcparams)"
   ]
  },
  {
   "cell_type": "code",
   "execution_count": null,
   "id": "ea9ee642-93ef-4cbc-b83c-5e9f16122b7d",
   "metadata": {},
   "outputs": [],
   "source": [
    "adata_file_path = os.path.join(tardis.config.io_directories[\"processed\"], \"dataset_complete_Braun_age.h5ad\")\n",
    "assert os.path.isfile(adata_file_path), f\"File not already exist: `{adata_file_path}`\"\n",
    "adata = ad.read_h5ad(adata_file_path)\n",
    "adata.obs[\"age\"] = adata.obs[\"age\"].astype(float)\n",
    "adata.obs[\"age_categorical\"] = adata.obs[\"age\"].astype(str)\n",
    "d = {i: ind for ind, i in enumerate(sorted(adata.obs[\"age\"].astype(float).unique()))}\n",
    "adata.obs[\"age_training\"] = [d[float(i)] for i in adata.obs[\"age\"]]\n",
    "print(adata_file_path, flush=True)\n",
    "print(adata, flush=True)"
   ]
  },
  {
   "cell_type": "code",
   "execution_count": null,
   "id": "67592222-7e35-44ec-bdd0-f30fc4c1fafd",
   "metadata": {},
   "outputs": [],
   "source": [
    "adata.obs[[\"age_training\", \"age\"]].value_counts()"
   ]
  },
  {
   "cell_type": "code",
   "execution_count": null,
   "id": "fd461c79",
   "metadata": {},
   "outputs": [],
   "source": [
    "model_level_metrics = [\n",
    "    dict(\n",
    "        metric_identifier = \"metric_mi|age_categorical\",\n",
    "        training_set = [\"train\", \"validation\"],\n",
    "        every_n_epoch = 5,\n",
    "        subsample = 0.25,\n",
    "        progress_bar = True,\n",
    "        metric_kwargs = dict(\n",
    "            variation = \"normalized\",\n",
    "            discretization_bins = 512,\n",
    "            latent_subset=None,\n",
    "            reduce=np.mean\n",
    "        )\n",
    "    )\n",
    "]"
   ]
  },
  {
   "cell_type": "code",
   "execution_count": null,
   "id": "c43333cc-9e19-469f-8452-11ff5ee08db9",
   "metadata": {},
   "outputs": [],
   "source": [
    "warmup_epoch_range = [6, 48]\n",
    "dtc_w1 = 100\n",
    "dtc_w2 = 10\n",
    "\n",
    "counteractive_minibatch_settings = dict(\n",
    "    method = \"categorical_random\",\n",
    "    method_kwargs = dict(\n",
    "        within_labels = False,\n",
    "        within_batch = False,\n",
    "        within_categorical_covs = None,\n",
    "        seed = \"forward\",\n",
    "    )\n",
    ")\n",
    "\n",
    "disentenglement_targets_configurations=[\n",
    "    dict(\n",
    "        obs_key = \"age_training\",\n",
    "        n_reserved_latent = 8,\n",
    "        counteractive_minibatch_settings = counteractive_minibatch_settings,\n",
    "        auxillary_losses = [\n",
    "            dict(\n",
    "                apply = True, \n",
    "                target_type=\"pseudo_categorical\",\n",
    "                non_categorical_coefficient_method=\"squared_difference\",\n",
    "                progress_bar = False,\n",
    "                weight = dtc_w1,\n",
    "                method = \"mse_z\", \n",
    "                latent_group = \"reserved\",\n",
    "                counteractive_example = \"negative\",\n",
    "                transformation = \"inverse\", \n",
    "                warmup_epoch_range=warmup_epoch_range,\n",
    "                method_kwargs = {}\n",
    "            ),\n",
    "            dict(\n",
    "                apply = True, \n",
    "                target_type=\"categorical\",\n",
    "                progress_bar = False,\n",
    "                weight = dtc_w2, \n",
    "                method = \"mse_z\", \n",
    "                latent_group = \"reserved\",\n",
    "                counteractive_example = \"positive\",\n",
    "                transformation = \"none\",\n",
    "                warmup_epoch_range=warmup_epoch_range,\n",
    "                method_kwargs = {}\n",
    "            ),\n",
    "            dict(\n",
    "                apply = True, \n",
    "                target_type=\"categorical\",\n",
    "                progress_bar = False,\n",
    "                weight = dtc_w2 * 1,\n",
    "                method = \"mse_z\", \n",
    "                latent_group = \"unreserved_complete\",\n",
    "                counteractive_example = \"negative\",\n",
    "                transformation = \"none\", \n",
    "                warmup_epoch_range=warmup_epoch_range,\n",
    "                method_kwargs = {}\n",
    "            ),\n",
    "            dict(\n",
    "                apply = True, \n",
    "                target_type=\"categorical\",\n",
    "                progress_bar = False,\n",
    "                weight = dtc_w1 * 1, \n",
    "                method = \"mse_z\", \n",
    "                latent_group = \"unreserved_complete\",\n",
    "                counteractive_example = \"positive\",\n",
    "                transformation = \"inverse\",\n",
    "                warmup_epoch_range=warmup_epoch_range,\n",
    "                method_kwargs = {}\n",
    "            ),\n",
    "        ]\n",
    "    )\n",
    "]"
   ]
  },
  {
   "cell_type": "code",
   "execution_count": null,
   "id": "af1962de-51e8-453c-907a-b338c1f82f88",
   "metadata": {
    "scrolled": true
   },
   "outputs": [
    {
     "name": "stdout",
     "output_type": "stream",
     "text": [
      "\r\n",
      "Epoch 1/600:   0%|          | 1/600 [00:37<6:18:01, 37.87s/it]"
     ]
    },
    {
     "name": "stdout",
     "output_type": "stream",
     "text": [
      "\r\n",
      "Epoch 1/600:   0%|          | 1/600 [00:37<6:18:01, 37.87s/it, v_num=k8_1, total_loss_train=585, kl_local_train=49.6]"
     ]
    },
    {
     "name": "stdout",
     "output_type": "stream",
     "text": [
      "\r\n",
      "Epoch 2/600:   0%|          | 1/600 [00:37<6:18:01, 37.87s/it, v_num=k8_1, total_loss_train=585, kl_local_train=49.6]"
     ]
    },
    {
     "name": "stdout",
     "output_type": "stream",
     "text": [
      "\r\n",
      "Epoch 2/600:   0%|          | 2/600 [01:13<6:05:21, 36.66s/it, v_num=k8_1, total_loss_train=585, kl_local_train=49.6]"
     ]
    },
    {
     "name": "stdout",
     "output_type": "stream",
     "text": [
      "\r\n",
      "Epoch 2/600:   0%|          | 2/600 [01:13<6:05:21, 36.66s/it, v_num=k8_1, total_loss_train=456, kl_local_train=79.2]"
     ]
    },
    {
     "name": "stdout",
     "output_type": "stream",
     "text": [
      "\r\n",
      "Epoch 3/600:   0%|          | 2/600 [01:13<6:05:21, 36.66s/it, v_num=k8_1, total_loss_train=456, kl_local_train=79.2]"
     ]
    },
    {
     "name": "stdout",
     "output_type": "stream",
     "text": [
      "\r\n",
      "Epoch 3/600:   0%|          | 3/600 [01:49<5:59:49, 36.16s/it, v_num=k8_1, total_loss_train=456, kl_local_train=79.2]"
     ]
    },
    {
     "name": "stdout",
     "output_type": "stream",
     "text": [
      "\r\n",
      "Epoch 3/600:   0%|          | 3/600 [01:49<5:59:49, 36.16s/it, v_num=k8_1, total_loss_train=439, kl_local_train=88.5]"
     ]
    },
    {
     "name": "stdout",
     "output_type": "stream",
     "text": [
      "\r\n",
      "Epoch 4/600:   0%|          | 3/600 [01:49<5:59:49, 36.16s/it, v_num=k8_1, total_loss_train=439, kl_local_train=88.5]"
     ]
    },
    {
     "name": "stdout",
     "output_type": "stream",
     "text": [
      "\r\n",
      "Epoch 4/600:   1%|          | 4/600 [02:24<5:56:06, 35.85s/it, v_num=k8_1, total_loss_train=439, kl_local_train=88.5]"
     ]
    },
    {
     "name": "stdout",
     "output_type": "stream",
     "text": [
      "\r\n",
      "Epoch 4/600:   1%|          | 4/600 [02:24<5:56:06, 35.85s/it, v_num=k8_1, total_loss_train=432, kl_local_train=89.9]"
     ]
    },
    {
     "name": "stdout",
     "output_type": "stream",
     "text": [
      "\r\n",
      "Epoch 5/600:   1%|          | 4/600 [02:24<5:56:06, 35.85s/it, v_num=k8_1, total_loss_train=432, kl_local_train=89.9]"
     ]
    },
    {
     "name": "stdout",
     "output_type": "stream",
     "text": [
      "\r\n",
      "Epoch 5/600:   1%|          | 5/600 [03:01<5:59:30, 36.25s/it, v_num=k8_1, total_loss_train=432, kl_local_train=89.9]"
     ]
    },
    {
     "name": "stdout",
     "output_type": "stream",
     "text": [
      "\r\n",
      "Epoch 5/600:   1%|          | 5/600 [03:01<5:59:30, 36.25s/it, v_num=k8_1, total_loss_train=428, kl_local_train=87.1]"
     ]
    },
    {
     "name": "stdout",
     "output_type": "stream",
     "text": [
      "\r\n",
      "Epoch 6/600:   1%|          | 5/600 [03:02<5:59:30, 36.25s/it, v_num=k8_1, total_loss_train=428, kl_local_train=87.1]"
     ]
    },
    {
     "name": "stdout",
     "output_type": "stream",
     "text": [
      "\r\n",
      "Epoch 6/600:   1%|          | 6/600 [03:34<5:47:57, 35.15s/it, v_num=k8_1, total_loss_train=428, kl_local_train=87.1]"
     ]
    },
    {
     "name": "stdout",
     "output_type": "stream",
     "text": [
      "\r\n",
      "Epoch 6/600:   1%|          | 6/600 [03:34<5:47:57, 35.15s/it, v_num=k8_1, total_loss_train=425, kl_local_train=84.3, metric_mi|age_categorical_train=0.0759]"
     ]
    },
    {
     "name": "stdout",
     "output_type": "stream",
     "text": [
      "\r\n",
      "Epoch 7/600:   1%|          | 6/600 [03:34<5:47:57, 35.15s/it, v_num=k8_1, total_loss_train=425, kl_local_train=84.3, metric_mi|age_categorical_train=0.0759]"
     ]
    },
    {
     "name": "stdout",
     "output_type": "stream",
     "text": [
      "\r\n",
      "Epoch 7/600:   1%|          | 7/600 [04:06<5:37:55, 34.19s/it, v_num=k8_1, total_loss_train=425, kl_local_train=84.3, metric_mi|age_categorical_train=0.0759]"
     ]
    },
    {
     "name": "stdout",
     "output_type": "stream",
     "text": [
      "\r\n",
      "Epoch 7/600:   1%|          | 7/600 [04:06<5:37:55, 34.19s/it, v_num=k8_1, total_loss_train=423, kl_local_train=82, metric_mi|age_categorical_train=0.0759]  "
     ]
    },
    {
     "name": "stdout",
     "output_type": "stream",
     "text": [
      "\r\n",
      "Epoch 8/600:   1%|          | 7/600 [04:06<5:37:55, 34.19s/it, v_num=k8_1, total_loss_train=423, kl_local_train=82, metric_mi|age_categorical_train=0.0759]"
     ]
    },
    {
     "name": "stdout",
     "output_type": "stream",
     "text": [
      "\r\n",
      "Epoch 8/600:   1%|▏         | 8/600 [04:39<5:31:33, 33.60s/it, v_num=k8_1, total_loss_train=423, kl_local_train=82, metric_mi|age_categorical_train=0.0759]"
     ]
    },
    {
     "name": "stdout",
     "output_type": "stream",
     "text": [
      "\r\n",
      "Epoch 8/600:   1%|▏         | 8/600 [04:39<5:31:33, 33.60s/it, v_num=k8_1, total_loss_train=433, kl_local_train=99.8, metric_mi|age_categorical_train=0.0759]"
     ]
    },
    {
     "name": "stdout",
     "output_type": "stream",
     "text": [
      "\r\n",
      "Epoch 9/600:   1%|▏         | 8/600 [04:39<5:31:33, 33.60s/it, v_num=k8_1, total_loss_train=433, kl_local_train=99.8, metric_mi|age_categorical_train=0.0759]"
     ]
    },
    {
     "name": "stdout",
     "output_type": "stream",
     "text": [
      "\r\n",
      "Epoch 9/600:   2%|▏         | 9/600 [05:11<5:27:57, 33.30s/it, v_num=k8_1, total_loss_train=433, kl_local_train=99.8, metric_mi|age_categorical_train=0.0759]"
     ]
    },
    {
     "name": "stdout",
     "output_type": "stream",
     "text": [
      "\r\n",
      "Epoch 9/600:   2%|▏         | 9/600 [05:11<5:27:57, 33.30s/it, v_num=k8_1, total_loss_train=441, kl_local_train=92.4, metric_mi|age_categorical_train=0.0759]"
     ]
    },
    {
     "name": "stdout",
     "output_type": "stream",
     "text": [
      "\r\n",
      "Epoch 10/600:   2%|▏         | 9/600 [05:11<5:27:57, 33.30s/it, v_num=k8_1, total_loss_train=441, kl_local_train=92.4, metric_mi|age_categorical_train=0.0759]"
     ]
    },
    {
     "name": "stdout",
     "output_type": "stream",
     "text": [
      "\r\n",
      "Epoch 10/600:   2%|▏         | 10/600 [05:45<5:29:34, 33.52s/it, v_num=k8_1, total_loss_train=441, kl_local_train=92.4, metric_mi|age_categorical_train=0.0759]"
     ]
    },
    {
     "name": "stdout",
     "output_type": "stream",
     "text": [
      "\r\n",
      "Epoch 10/600:   2%|▏         | 10/600 [05:45<5:29:34, 33.52s/it, v_num=k8_1, total_loss_train=449, kl_local_train=90.9, metric_mi|age_categorical_train=0.0759]"
     ]
    },
    {
     "name": "stdout",
     "output_type": "stream",
     "text": [
      "\r\n",
      "Epoch 11/600:   2%|▏         | 10/600 [05:46<5:29:34, 33.52s/it, v_num=k8_1, total_loss_train=449, kl_local_train=90.9, metric_mi|age_categorical_train=0.0759]"
     ]
    },
    {
     "name": "stdout",
     "output_type": "stream",
     "text": [
      "\r\n",
      "Epoch 11/600:   2%|▏         | 11/600 [06:19<5:28:27, 33.46s/it, v_num=k8_1, total_loss_train=449, kl_local_train=90.9, metric_mi|age_categorical_train=0.0759]"
     ]
    },
    {
     "name": "stdout",
     "output_type": "stream",
     "text": [
      "\r\n",
      "Epoch 11/600:   2%|▏         | 11/600 [06:19<5:28:27, 33.46s/it, v_num=k8_1, total_loss_train=452, kl_local_train=135, metric_mi|age_categorical_train=0.0794] "
     ]
    },
    {
     "name": "stdout",
     "output_type": "stream",
     "text": [
      "\r\n",
      "Epoch 12/600:   2%|▏         | 11/600 [06:19<5:28:27, 33.46s/it, v_num=k8_1, total_loss_train=452, kl_local_train=135, metric_mi|age_categorical_train=0.0794]"
     ]
    },
    {
     "name": "stdout",
     "output_type": "stream",
     "text": [
      "\r\n",
      "Epoch 12/600:   2%|▏         | 12/600 [06:51<5:25:13, 33.19s/it, v_num=k8_1, total_loss_train=452, kl_local_train=135, metric_mi|age_categorical_train=0.0794]"
     ]
    },
    {
     "name": "stdout",
     "output_type": "stream",
     "text": [
      "\r\n",
      "Epoch 12/600:   2%|▏         | 12/600 [06:51<5:25:13, 33.19s/it, v_num=k8_1, total_loss_train=449, kl_local_train=269, metric_mi|age_categorical_train=0.0794]"
     ]
    },
    {
     "name": "stdout",
     "output_type": "stream",
     "text": [
      "\r\n",
      "Epoch 13/600:   2%|▏         | 12/600 [06:51<5:25:13, 33.19s/it, v_num=k8_1, total_loss_train=449, kl_local_train=269, metric_mi|age_categorical_train=0.0794]"
     ]
    },
    {
     "name": "stdout",
     "output_type": "stream",
     "text": [
      "\r\n",
      "Epoch 13/600:   2%|▏         | 13/600 [07:24<5:22:15, 32.94s/it, v_num=k8_1, total_loss_train=449, kl_local_train=269, metric_mi|age_categorical_train=0.0794]"
     ]
    },
    {
     "name": "stdout",
     "output_type": "stream",
     "text": [
      "\r\n",
      "Epoch 13/600:   2%|▏         | 13/600 [07:24<5:22:15, 32.94s/it, v_num=k8_1, total_loss_train=450, kl_local_train=324, metric_mi|age_categorical_train=0.0794]"
     ]
    },
    {
     "name": "stdout",
     "output_type": "stream",
     "text": [
      "\r\n",
      "Epoch 14/600:   2%|▏         | 13/600 [07:24<5:22:15, 32.94s/it, v_num=k8_1, total_loss_train=450, kl_local_train=324, metric_mi|age_categorical_train=0.0794]"
     ]
    },
    {
     "name": "stdout",
     "output_type": "stream",
     "text": [
      "\r\n",
      "Epoch 14/600:   2%|▏         | 14/600 [07:56<5:21:05, 32.88s/it, v_num=k8_1, total_loss_train=450, kl_local_train=324, metric_mi|age_categorical_train=0.0794]"
     ]
    },
    {
     "name": "stdout",
     "output_type": "stream",
     "text": [
      "\r\n",
      "Epoch 14/600:   2%|▏         | 14/600 [07:56<5:21:05, 32.88s/it, v_num=k8_1, total_loss_train=452, kl_local_train=361, metric_mi|age_categorical_train=0.0794]"
     ]
    },
    {
     "name": "stdout",
     "output_type": "stream",
     "text": [
      "\r\n",
      "Epoch 15/600:   2%|▏         | 14/600 [07:56<5:21:05, 32.88s/it, v_num=k8_1, total_loss_train=452, kl_local_train=361, metric_mi|age_categorical_train=0.0794]"
     ]
    },
    {
     "name": "stdout",
     "output_type": "stream",
     "text": [
      "\r\n",
      "Epoch 15/600:   2%|▎         | 15/600 [08:30<5:21:46, 33.00s/it, v_num=k8_1, total_loss_train=452, kl_local_train=361, metric_mi|age_categorical_train=0.0794]"
     ]
    },
    {
     "name": "stdout",
     "output_type": "stream",
     "text": [
      "\r\n",
      "Epoch 15/600:   2%|▎         | 15/600 [08:30<5:21:46, 33.00s/it, v_num=k8_1, total_loss_train=455, kl_local_train=406, metric_mi|age_categorical_train=0.0794]"
     ]
    },
    {
     "name": "stdout",
     "output_type": "stream",
     "text": [
      "\r\n",
      "Epoch 16/600:   2%|▎         | 15/600 [08:30<5:21:46, 33.00s/it, v_num=k8_1, total_loss_train=455, kl_local_train=406, metric_mi|age_categorical_train=0.0794]"
     ]
    },
    {
     "name": "stdout",
     "output_type": "stream",
     "text": [
      "\r\n",
      "Epoch 16/600:   3%|▎         | 16/600 [09:03<5:22:07, 33.10s/it, v_num=k8_1, total_loss_train=455, kl_local_train=406, metric_mi|age_categorical_train=0.0794]"
     ]
    },
    {
     "name": "stdout",
     "output_type": "stream",
     "text": [
      "\r\n",
      "Epoch 16/600:   3%|▎         | 16/600 [09:03<5:22:07, 33.10s/it, v_num=k8_1, total_loss_train=457, kl_local_train=440, metric_mi|age_categorical_train=0.137] "
     ]
    },
    {
     "name": "stdout",
     "output_type": "stream",
     "text": [
      "\r\n",
      "Epoch 17/600:   3%|▎         | 16/600 [09:03<5:22:07, 33.10s/it, v_num=k8_1, total_loss_train=457, kl_local_train=440, metric_mi|age_categorical_train=0.137]"
     ]
    },
    {
     "name": "stdout",
     "output_type": "stream",
     "text": [
      "\r\n",
      "Epoch 17/600:   3%|▎         | 17/600 [09:36<5:22:57, 33.24s/it, v_num=k8_1, total_loss_train=457, kl_local_train=440, metric_mi|age_categorical_train=0.137]"
     ]
    },
    {
     "name": "stdout",
     "output_type": "stream",
     "text": [
      "\r\n",
      "Epoch 17/600:   3%|▎         | 17/600 [09:36<5:22:57, 33.24s/it, v_num=k8_1, total_loss_train=459, kl_local_train=448, metric_mi|age_categorical_train=0.137]"
     ]
    },
    {
     "name": "stdout",
     "output_type": "stream",
     "text": [
      "\r\n",
      "Epoch 18/600:   3%|▎         | 17/600 [09:36<5:22:57, 33.24s/it, v_num=k8_1, total_loss_train=459, kl_local_train=448, metric_mi|age_categorical_train=0.137]"
     ]
    },
    {
     "name": "stdout",
     "output_type": "stream",
     "text": [
      "\r\n",
      "Epoch 18/600:   3%|▎         | 18/600 [10:10<5:22:37, 33.26s/it, v_num=k8_1, total_loss_train=459, kl_local_train=448, metric_mi|age_categorical_train=0.137]"
     ]
    },
    {
     "name": "stdout",
     "output_type": "stream",
     "text": [
      "\r\n",
      "Epoch 18/600:   3%|▎         | 18/600 [10:10<5:22:37, 33.26s/it, v_num=k8_1, total_loss_train=460, kl_local_train=432, metric_mi|age_categorical_train=0.137]"
     ]
    },
    {
     "name": "stdout",
     "output_type": "stream",
     "text": [
      "\r\n",
      "Epoch 19/600:   3%|▎         | 18/600 [10:10<5:22:37, 33.26s/it, v_num=k8_1, total_loss_train=460, kl_local_train=432, metric_mi|age_categorical_train=0.137]"
     ]
    },
    {
     "name": "stdout",
     "output_type": "stream",
     "text": [
      "\r\n",
      "Epoch 19/600:   3%|▎         | 19/600 [10:43<5:22:57, 33.35s/it, v_num=k8_1, total_loss_train=460, kl_local_train=432, metric_mi|age_categorical_train=0.137]"
     ]
    },
    {
     "name": "stdout",
     "output_type": "stream",
     "text": [
      "\r\n",
      "Epoch 19/600:   3%|▎         | 19/600 [10:43<5:22:57, 33.35s/it, v_num=k8_1, total_loss_train=461, kl_local_train=431, metric_mi|age_categorical_train=0.137]"
     ]
    },
    {
     "name": "stdout",
     "output_type": "stream",
     "text": [
      "\r\n",
      "Epoch 20/600:   3%|▎         | 19/600 [10:43<5:22:57, 33.35s/it, v_num=k8_1, total_loss_train=461, kl_local_train=431, metric_mi|age_categorical_train=0.137]"
     ]
    },
    {
     "name": "stdout",
     "output_type": "stream",
     "text": [
      "\r\n",
      "Epoch 20/600:   3%|▎         | 20/600 [11:17<5:22:16, 33.34s/it, v_num=k8_1, total_loss_train=461, kl_local_train=431, metric_mi|age_categorical_train=0.137]"
     ]
    },
    {
     "name": "stdout",
     "output_type": "stream",
     "text": [
      "\r\n",
      "Epoch 20/600:   3%|▎         | 20/600 [11:17<5:22:16, 33.34s/it, v_num=k8_1, total_loss_train=461, kl_local_train=404, metric_mi|age_categorical_train=0.137]"
     ]
    },
    {
     "name": "stdout",
     "output_type": "stream",
     "text": [
      "\r\n",
      "Epoch 21/600:   3%|▎         | 20/600 [11:17<5:22:16, 33.34s/it, v_num=k8_1, total_loss_train=461, kl_local_train=404, metric_mi|age_categorical_train=0.137]"
     ]
    },
    {
     "name": "stdout",
     "output_type": "stream",
     "text": [
      "\r\n",
      "Epoch 21/600:   4%|▎         | 21/600 [11:50<5:23:07, 33.49s/it, v_num=k8_1, total_loss_train=461, kl_local_train=404, metric_mi|age_categorical_train=0.137]"
     ]
    },
    {
     "name": "stdout",
     "output_type": "stream",
     "text": [
      "\r\n",
      "Epoch 21/600:   4%|▎         | 21/600 [11:50<5:23:07, 33.49s/it, v_num=k8_1, total_loss_train=463, kl_local_train=388, metric_mi|age_categorical_train=0.146]"
     ]
    },
    {
     "name": "stdout",
     "output_type": "stream",
     "text": [
      "\r\n",
      "Epoch 22/600:   4%|▎         | 21/600 [11:50<5:23:07, 33.49s/it, v_num=k8_1, total_loss_train=463, kl_local_train=388, metric_mi|age_categorical_train=0.146]"
     ]
    },
    {
     "name": "stdout",
     "output_type": "stream",
     "text": [
      "\r\n",
      "Epoch 22/600:   4%|▎         | 22/600 [12:23<5:21:09, 33.34s/it, v_num=k8_1, total_loss_train=463, kl_local_train=388, metric_mi|age_categorical_train=0.146]"
     ]
    },
    {
     "name": "stdout",
     "output_type": "stream",
     "text": [
      "\r\n",
      "Epoch 22/600:   4%|▎         | 22/600 [12:23<5:21:09, 33.34s/it, v_num=k8_1, total_loss_train=464, kl_local_train=382, metric_mi|age_categorical_train=0.146]"
     ]
    },
    {
     "name": "stdout",
     "output_type": "stream",
     "text": [
      "\r\n",
      "Epoch 23/600:   4%|▎         | 22/600 [12:23<5:21:09, 33.34s/it, v_num=k8_1, total_loss_train=464, kl_local_train=382, metric_mi|age_categorical_train=0.146]"
     ]
    },
    {
     "name": "stdout",
     "output_type": "stream",
     "text": [
      "\r\n",
      "Epoch 23/600:   4%|▍         | 23/600 [12:56<5:18:55, 33.16s/it, v_num=k8_1, total_loss_train=464, kl_local_train=382, metric_mi|age_categorical_train=0.146]"
     ]
    },
    {
     "name": "stdout",
     "output_type": "stream",
     "text": [
      "\r\n",
      "Epoch 23/600:   4%|▍         | 23/600 [12:56<5:18:55, 33.16s/it, v_num=k8_1, total_loss_train=465, kl_local_train=352, metric_mi|age_categorical_train=0.146]"
     ]
    },
    {
     "name": "stdout",
     "output_type": "stream",
     "text": [
      "\r\n",
      "Epoch 24/600:   4%|▍         | 23/600 [12:56<5:18:55, 33.16s/it, v_num=k8_1, total_loss_train=465, kl_local_train=352, metric_mi|age_categorical_train=0.146]"
     ]
    },
    {
     "name": "stdout",
     "output_type": "stream",
     "text": [
      "\r\n",
      "Epoch 24/600:   4%|▍         | 24/600 [13:29<5:17:38, 33.09s/it, v_num=k8_1, total_loss_train=465, kl_local_train=352, metric_mi|age_categorical_train=0.146]"
     ]
    },
    {
     "name": "stdout",
     "output_type": "stream",
     "text": [
      "\r\n",
      "Epoch 24/600:   4%|▍         | 24/600 [13:29<5:17:38, 33.09s/it, v_num=k8_1, total_loss_train=466, kl_local_train=323, metric_mi|age_categorical_train=0.146]"
     ]
    },
    {
     "name": "stdout",
     "output_type": "stream",
     "text": [
      "\r\n",
      "Epoch 25/600:   4%|▍         | 24/600 [13:29<5:17:38, 33.09s/it, v_num=k8_1, total_loss_train=466, kl_local_train=323, metric_mi|age_categorical_train=0.146]"
     ]
    },
    {
     "name": "stdout",
     "output_type": "stream",
     "text": [
      "\r\n",
      "Epoch 25/600:   4%|▍         | 25/600 [14:03<5:18:02, 33.19s/it, v_num=k8_1, total_loss_train=466, kl_local_train=323, metric_mi|age_categorical_train=0.146]"
     ]
    },
    {
     "name": "stdout",
     "output_type": "stream",
     "text": [
      "\r\n",
      "Epoch 25/600:   4%|▍         | 25/600 [14:03<5:18:02, 33.19s/it, v_num=k8_1, total_loss_train=468, kl_local_train=319, metric_mi|age_categorical_train=0.146]"
     ]
    },
    {
     "name": "stdout",
     "output_type": "stream",
     "text": [
      "\r\n",
      "Epoch 26/600:   4%|▍         | 25/600 [14:03<5:18:02, 33.19s/it, v_num=k8_1, total_loss_train=468, kl_local_train=319, metric_mi|age_categorical_train=0.146]"
     ]
    },
    {
     "name": "stdout",
     "output_type": "stream",
     "text": [
      "\r\n",
      "Epoch 26/600:   4%|▍         | 26/600 [14:36<5:18:03, 33.25s/it, v_num=k8_1, total_loss_train=468, kl_local_train=319, metric_mi|age_categorical_train=0.146]"
     ]
    },
    {
     "name": "stdout",
     "output_type": "stream",
     "text": [
      "\r\n",
      "Epoch 26/600:   4%|▍         | 26/600 [14:36<5:18:03, 33.25s/it, v_num=k8_1, total_loss_train=469, kl_local_train=290, metric_mi|age_categorical_train=0.165]"
     ]
    },
    {
     "name": "stdout",
     "output_type": "stream",
     "text": [
      "\r\n",
      "Epoch 27/600:   4%|▍         | 26/600 [14:36<5:18:03, 33.25s/it, v_num=k8_1, total_loss_train=469, kl_local_train=290, metric_mi|age_categorical_train=0.165]"
     ]
    },
    {
     "name": "stdout",
     "output_type": "stream",
     "text": [
      "\r\n",
      "Epoch 27/600:   4%|▍         | 27/600 [15:09<5:16:23, 33.13s/it, v_num=k8_1, total_loss_train=469, kl_local_train=290, metric_mi|age_categorical_train=0.165]"
     ]
    },
    {
     "name": "stdout",
     "output_type": "stream",
     "text": [
      "\r\n",
      "Epoch 27/600:   4%|▍         | 27/600 [15:09<5:16:23, 33.13s/it, v_num=k8_1, total_loss_train=469, kl_local_train=284, metric_mi|age_categorical_train=0.165]"
     ]
    },
    {
     "name": "stdout",
     "output_type": "stream",
     "text": [
      "\r\n",
      "Epoch 28/600:   4%|▍         | 27/600 [15:09<5:16:23, 33.13s/it, v_num=k8_1, total_loss_train=469, kl_local_train=284, metric_mi|age_categorical_train=0.165]"
     ]
    },
    {
     "name": "stdout",
     "output_type": "stream",
     "text": [
      "\r\n",
      "Epoch 28/600:   5%|▍         | 28/600 [15:42<5:15:21, 33.08s/it, v_num=k8_1, total_loss_train=469, kl_local_train=284, metric_mi|age_categorical_train=0.165]"
     ]
    },
    {
     "name": "stdout",
     "output_type": "stream",
     "text": [
      "\r\n",
      "Epoch 28/600:   5%|▍         | 28/600 [15:42<5:15:21, 33.08s/it, v_num=k8_1, total_loss_train=471, kl_local_train=280, metric_mi|age_categorical_train=0.165]"
     ]
    },
    {
     "name": "stdout",
     "output_type": "stream",
     "text": [
      "\r\n",
      "Epoch 29/600:   5%|▍         | 28/600 [15:42<5:15:21, 33.08s/it, v_num=k8_1, total_loss_train=471, kl_local_train=280, metric_mi|age_categorical_train=0.165]"
     ]
    },
    {
     "name": "stdout",
     "output_type": "stream",
     "text": [
      "\r\n",
      "Epoch 29/600:   5%|▍         | 29/600 [16:15<5:14:00, 33.00s/it, v_num=k8_1, total_loss_train=471, kl_local_train=280, metric_mi|age_categorical_train=0.165]"
     ]
    },
    {
     "name": "stdout",
     "output_type": "stream",
     "text": [
      "\r\n",
      "Epoch 29/600:   5%|▍         | 29/600 [16:15<5:14:00, 33.00s/it, v_num=k8_1, total_loss_train=472, kl_local_train=282, metric_mi|age_categorical_train=0.165]"
     ]
    },
    {
     "name": "stdout",
     "output_type": "stream",
     "text": [
      "\r\n",
      "Epoch 30/600:   5%|▍         | 29/600 [16:15<5:14:00, 33.00s/it, v_num=k8_1, total_loss_train=472, kl_local_train=282, metric_mi|age_categorical_train=0.165]"
     ]
    },
    {
     "name": "stdout",
     "output_type": "stream",
     "text": [
      "\r\n",
      "Epoch 30/600:   5%|▌         | 30/600 [16:49<5:16:31, 33.32s/it, v_num=k8_1, total_loss_train=472, kl_local_train=282, metric_mi|age_categorical_train=0.165]"
     ]
    },
    {
     "name": "stdout",
     "output_type": "stream",
     "text": [
      "\r\n",
      "Epoch 30/600:   5%|▌         | 30/600 [16:49<5:16:31, 33.32s/it, v_num=k8_1, total_loss_train=473, kl_local_train=279, metric_mi|age_categorical_train=0.165]"
     ]
    },
    {
     "name": "stdout",
     "output_type": "stream",
     "text": [
      "\r\n",
      "Epoch 31/600:   5%|▌         | 30/600 [16:49<5:16:31, 33.32s/it, v_num=k8_1, total_loss_train=473, kl_local_train=279, metric_mi|age_categorical_train=0.165]"
     ]
    },
    {
     "name": "stdout",
     "output_type": "stream",
     "text": [
      "\r\n",
      "Epoch 31/600:   5%|▌         | 31/600 [17:22<5:16:40, 33.39s/it, v_num=k8_1, total_loss_train=473, kl_local_train=279, metric_mi|age_categorical_train=0.165]"
     ]
    },
    {
     "name": "stdout",
     "output_type": "stream",
     "text": [
      "\r\n",
      "Epoch 31/600:   5%|▌         | 31/600 [17:22<5:16:40, 33.39s/it, v_num=k8_1, total_loss_train=474, kl_local_train=283, metric_mi|age_categorical_train=0.172]"
     ]
    },
    {
     "name": "stdout",
     "output_type": "stream",
     "text": [
      "\r\n",
      "Epoch 32/600:   5%|▌         | 31/600 [17:22<5:16:40, 33.39s/it, v_num=k8_1, total_loss_train=474, kl_local_train=283, metric_mi|age_categorical_train=0.172]"
     ]
    },
    {
     "name": "stdout",
     "output_type": "stream",
     "text": [
      "\r\n",
      "Epoch 32/600:   5%|▌         | 32/600 [17:55<5:14:08, 33.18s/it, v_num=k8_1, total_loss_train=474, kl_local_train=283, metric_mi|age_categorical_train=0.172]"
     ]
    },
    {
     "name": "stdout",
     "output_type": "stream",
     "text": [
      "\r\n",
      "Epoch 32/600:   5%|▌         | 32/600 [17:55<5:14:08, 33.18s/it, v_num=k8_1, total_loss_train=476, kl_local_train=270, metric_mi|age_categorical_train=0.172]"
     ]
    },
    {
     "name": "stdout",
     "output_type": "stream",
     "text": [
      "\r\n",
      "Epoch 33/600:   5%|▌         | 32/600 [17:55<5:14:08, 33.18s/it, v_num=k8_1, total_loss_train=476, kl_local_train=270, metric_mi|age_categorical_train=0.172]"
     ]
    },
    {
     "name": "stdout",
     "output_type": "stream",
     "text": [
      "\r\n",
      "Epoch 33/600:   6%|▌         | 33/600 [18:27<5:11:50, 33.00s/it, v_num=k8_1, total_loss_train=476, kl_local_train=270, metric_mi|age_categorical_train=0.172]"
     ]
    },
    {
     "name": "stdout",
     "output_type": "stream",
     "text": [
      "\r\n",
      "Epoch 33/600:   6%|▌         | 33/600 [18:27<5:11:50, 33.00s/it, v_num=k8_1, total_loss_train=477, kl_local_train=275, metric_mi|age_categorical_train=0.172]"
     ]
    },
    {
     "name": "stdout",
     "output_type": "stream",
     "text": [
      "\r\n",
      "Epoch 34/600:   6%|▌         | 33/600 [18:27<5:11:50, 33.00s/it, v_num=k8_1, total_loss_train=477, kl_local_train=275, metric_mi|age_categorical_train=0.172]"
     ]
    },
    {
     "name": "stdout",
     "output_type": "stream",
     "text": [
      "\r\n",
      "Epoch 34/600:   6%|▌         | 34/600 [19:00<5:10:09, 32.88s/it, v_num=k8_1, total_loss_train=477, kl_local_train=275, metric_mi|age_categorical_train=0.172]"
     ]
    },
    {
     "name": "stdout",
     "output_type": "stream",
     "text": [
      "\r\n",
      "Epoch 34/600:   6%|▌         | 34/600 [19:00<5:10:09, 32.88s/it, v_num=k8_1, total_loss_train=479, kl_local_train=283, metric_mi|age_categorical_train=0.172]"
     ]
    },
    {
     "name": "stdout",
     "output_type": "stream",
     "text": [
      "\r\n",
      "Epoch 35/600:   6%|▌         | 34/600 [19:00<5:10:09, 32.88s/it, v_num=k8_1, total_loss_train=479, kl_local_train=283, metric_mi|age_categorical_train=0.172]"
     ]
    },
    {
     "name": "stdout",
     "output_type": "stream",
     "text": [
      "\r\n",
      "Epoch 35/600:   6%|▌         | 35/600 [19:34<5:12:17, 33.16s/it, v_num=k8_1, total_loss_train=479, kl_local_train=283, metric_mi|age_categorical_train=0.172]"
     ]
    },
    {
     "name": "stdout",
     "output_type": "stream",
     "text": [
      "\r\n",
      "Epoch 35/600:   6%|▌         | 35/600 [19:34<5:12:17, 33.16s/it, v_num=k8_1, total_loss_train=481, kl_local_train=267, metric_mi|age_categorical_train=0.172]"
     ]
    },
    {
     "name": "stdout",
     "output_type": "stream",
     "text": [
      "\r\n",
      "Epoch 36/600:   6%|▌         | 35/600 [19:35<5:12:17, 33.16s/it, v_num=k8_1, total_loss_train=481, kl_local_train=267, metric_mi|age_categorical_train=0.172]"
     ]
    },
    {
     "name": "stdout",
     "output_type": "stream",
     "text": [
      "\r\n",
      "Epoch 36/600:   6%|▌         | 36/600 [20:07<5:12:38, 33.26s/it, v_num=k8_1, total_loss_train=481, kl_local_train=267, metric_mi|age_categorical_train=0.172]"
     ]
    },
    {
     "name": "stdout",
     "output_type": "stream",
     "text": [
      "\r\n",
      "Epoch 36/600:   6%|▌         | 36/600 [20:07<5:12:38, 33.26s/it, v_num=k8_1, total_loss_train=482, kl_local_train=274, metric_mi|age_categorical_train=0.195]"
     ]
    },
    {
     "name": "stdout",
     "output_type": "stream",
     "text": [
      "\r\n",
      "Epoch 37/600:   6%|▌         | 36/600 [20:07<5:12:38, 33.26s/it, v_num=k8_1, total_loss_train=482, kl_local_train=274, metric_mi|age_categorical_train=0.195]"
     ]
    },
    {
     "name": "stdout",
     "output_type": "stream",
     "text": [
      "\r\n",
      "Epoch 37/600:   6%|▌         | 37/600 [20:40<5:11:17, 33.17s/it, v_num=k8_1, total_loss_train=482, kl_local_train=274, metric_mi|age_categorical_train=0.195]"
     ]
    },
    {
     "name": "stdout",
     "output_type": "stream",
     "text": [
      "\r\n",
      "Epoch 37/600:   6%|▌         | 37/600 [20:40<5:11:17, 33.17s/it, v_num=k8_1, total_loss_train=483, kl_local_train=263, metric_mi|age_categorical_train=0.195]"
     ]
    },
    {
     "name": "stdout",
     "output_type": "stream",
     "text": [
      "\r\n",
      "Epoch 38/600:   6%|▌         | 37/600 [20:40<5:11:17, 33.17s/it, v_num=k8_1, total_loss_train=483, kl_local_train=263, metric_mi|age_categorical_train=0.195]"
     ]
    },
    {
     "name": "stdout",
     "output_type": "stream",
     "text": [
      "\r\n",
      "Epoch 38/600:   6%|▋         | 38/600 [21:14<5:10:43, 33.17s/it, v_num=k8_1, total_loss_train=483, kl_local_train=263, metric_mi|age_categorical_train=0.195]"
     ]
    },
    {
     "name": "stdout",
     "output_type": "stream",
     "text": [
      "\r\n",
      "Epoch 38/600:   6%|▋         | 38/600 [21:14<5:10:43, 33.17s/it, v_num=k8_1, total_loss_train=485, kl_local_train=273, metric_mi|age_categorical_train=0.195]"
     ]
    },
    {
     "name": "stdout",
     "output_type": "stream",
     "text": [
      "\r\n",
      "Epoch 39/600:   6%|▋         | 38/600 [21:14<5:10:43, 33.17s/it, v_num=k8_1, total_loss_train=485, kl_local_train=273, metric_mi|age_categorical_train=0.195]"
     ]
    },
    {
     "name": "stdout",
     "output_type": "stream",
     "text": [
      "\r\n",
      "Epoch 39/600:   6%|▋         | 39/600 [21:47<5:09:47, 33.13s/it, v_num=k8_1, total_loss_train=485, kl_local_train=273, metric_mi|age_categorical_train=0.195]"
     ]
    },
    {
     "name": "stdout",
     "output_type": "stream",
     "text": [
      "\r\n",
      "Epoch 39/600:   6%|▋         | 39/600 [21:47<5:09:47, 33.13s/it, v_num=k8_1, total_loss_train=487, kl_local_train=269, metric_mi|age_categorical_train=0.195]"
     ]
    },
    {
     "name": "stdout",
     "output_type": "stream",
     "text": [
      "\r\n",
      "Epoch 40/600:   6%|▋         | 39/600 [21:47<5:09:47, 33.13s/it, v_num=k8_1, total_loss_train=487, kl_local_train=269, metric_mi|age_categorical_train=0.195]"
     ]
    },
    {
     "name": "stdout",
     "output_type": "stream",
     "text": [
      "\r\n",
      "Epoch 40/600:   7%|▋         | 40/600 [22:20<5:09:59, 33.21s/it, v_num=k8_1, total_loss_train=487, kl_local_train=269, metric_mi|age_categorical_train=0.195]"
     ]
    },
    {
     "name": "stdout",
     "output_type": "stream",
     "text": [
      "\r\n",
      "Epoch 40/600:   7%|▋         | 40/600 [22:20<5:09:59, 33.21s/it, v_num=k8_1, total_loss_train=488, kl_local_train=273, metric_mi|age_categorical_train=0.195]"
     ]
    },
    {
     "name": "stdout",
     "output_type": "stream",
     "text": [
      "\r\n",
      "Epoch 41/600:   7%|▋         | 40/600 [22:21<5:09:59, 33.21s/it, v_num=k8_1, total_loss_train=488, kl_local_train=273, metric_mi|age_categorical_train=0.195]"
     ]
    },
    {
     "name": "stdout",
     "output_type": "stream",
     "text": [
      "\r\n",
      "Epoch 41/600:   7%|▋         | 41/600 [22:53<5:10:11, 33.29s/it, v_num=k8_1, total_loss_train=488, kl_local_train=273, metric_mi|age_categorical_train=0.195]"
     ]
    },
    {
     "name": "stdout",
     "output_type": "stream",
     "text": [
      "\r\n",
      "Epoch 41/600:   7%|▋         | 41/600 [22:53<5:10:11, 33.29s/it, v_num=k8_1, total_loss_train=489, kl_local_train=265, metric_mi|age_categorical_train=0.19] "
     ]
    },
    {
     "name": "stdout",
     "output_type": "stream",
     "text": [
      "\r\n",
      "Epoch 42/600:   7%|▋         | 41/600 [22:53<5:10:11, 33.29s/it, v_num=k8_1, total_loss_train=489, kl_local_train=265, metric_mi|age_categorical_train=0.19]"
     ]
    },
    {
     "name": "stdout",
     "output_type": "stream",
     "text": [
      "\r\n",
      "Epoch 42/600:   7%|▋         | 42/600 [23:26<5:07:15, 33.04s/it, v_num=k8_1, total_loss_train=489, kl_local_train=265, metric_mi|age_categorical_train=0.19]"
     ]
    },
    {
     "name": "stdout",
     "output_type": "stream",
     "text": [
      "\r\n",
      "Epoch 42/600:   7%|▋         | 42/600 [23:26<5:07:15, 33.04s/it, v_num=k8_1, total_loss_train=492, kl_local_train=267, metric_mi|age_categorical_train=0.19]"
     ]
    },
    {
     "name": "stdout",
     "output_type": "stream",
     "text": [
      "\r\n",
      "Epoch 43/600:   7%|▋         | 42/600 [23:26<5:07:15, 33.04s/it, v_num=k8_1, total_loss_train=492, kl_local_train=267, metric_mi|age_categorical_train=0.19]"
     ]
    },
    {
     "name": "stdout",
     "output_type": "stream",
     "text": [
      "\r\n",
      "Epoch 43/600:   7%|▋         | 43/600 [23:59<5:05:41, 32.93s/it, v_num=k8_1, total_loss_train=492, kl_local_train=267, metric_mi|age_categorical_train=0.19]"
     ]
    },
    {
     "name": "stdout",
     "output_type": "stream",
     "text": [
      "\r\n",
      "Epoch 43/600:   7%|▋         | 43/600 [23:59<5:05:41, 32.93s/it, v_num=k8_1, total_loss_train=493, kl_local_train=270, metric_mi|age_categorical_train=0.19]"
     ]
    },
    {
     "name": "stdout",
     "output_type": "stream",
     "text": [
      "\r\n",
      "Epoch 44/600:   7%|▋         | 43/600 [23:59<5:05:41, 32.93s/it, v_num=k8_1, total_loss_train=493, kl_local_train=270, metric_mi|age_categorical_train=0.19]"
     ]
    },
    {
     "name": "stdout",
     "output_type": "stream",
     "text": [
      "\r\n",
      "Epoch 44/600:   7%|▋         | 44/600 [24:31<5:04:00, 32.81s/it, v_num=k8_1, total_loss_train=493, kl_local_train=270, metric_mi|age_categorical_train=0.19]"
     ]
    },
    {
     "name": "stdout",
     "output_type": "stream",
     "text": [
      "\r\n",
      "Epoch 44/600:   7%|▋         | 44/600 [24:31<5:04:00, 32.81s/it, v_num=k8_1, total_loss_train=495, kl_local_train=269, metric_mi|age_categorical_train=0.19]"
     ]
    },
    {
     "name": "stdout",
     "output_type": "stream",
     "text": [
      "\r\n",
      "Epoch 45/600:   7%|▋         | 44/600 [24:31<5:04:00, 32.81s/it, v_num=k8_1, total_loss_train=495, kl_local_train=269, metric_mi|age_categorical_train=0.19]"
     ]
    },
    {
     "name": "stdout",
     "output_type": "stream",
     "text": [
      "\r\n",
      "Epoch 45/600:   8%|▊         | 45/600 [25:05<5:06:03, 33.09s/it, v_num=k8_1, total_loss_train=495, kl_local_train=269, metric_mi|age_categorical_train=0.19]"
     ]
    },
    {
     "name": "stdout",
     "output_type": "stream",
     "text": [
      "\r\n",
      "Epoch 45/600:   8%|▊         | 45/600 [25:05<5:06:03, 33.09s/it, v_num=k8_1, total_loss_train=496, kl_local_train=270, metric_mi|age_categorical_train=0.19]"
     ]
    },
    {
     "name": "stdout",
     "output_type": "stream",
     "text": [
      "\r\n",
      "Epoch 46/600:   8%|▊         | 45/600 [25:06<5:06:03, 33.09s/it, v_num=k8_1, total_loss_train=496, kl_local_train=270, metric_mi|age_categorical_train=0.19]"
     ]
    },
    {
     "name": "stdout",
     "output_type": "stream",
     "text": [
      "\r\n",
      "Epoch 46/600:   8%|▊         | 46/600 [25:38<5:06:14, 33.17s/it, v_num=k8_1, total_loss_train=496, kl_local_train=270, metric_mi|age_categorical_train=0.19]"
     ]
    },
    {
     "name": "stdout",
     "output_type": "stream",
     "text": [
      "\r\n",
      "Epoch 46/600:   8%|▊         | 46/600 [25:38<5:06:14, 33.17s/it, v_num=k8_1, total_loss_train=497, kl_local_train=264, metric_mi|age_categorical_train=0.201]"
     ]
    },
    {
     "name": "stdout",
     "output_type": "stream",
     "text": [
      "\r\n",
      "Epoch 47/600:   8%|▊         | 46/600 [25:38<5:06:14, 33.17s/it, v_num=k8_1, total_loss_train=497, kl_local_train=264, metric_mi|age_categorical_train=0.201]"
     ]
    },
    {
     "name": "stdout",
     "output_type": "stream",
     "text": [
      "\r\n",
      "Epoch 47/600:   8%|▊         | 47/600 [26:11<5:04:06, 33.00s/it, v_num=k8_1, total_loss_train=497, kl_local_train=264, metric_mi|age_categorical_train=0.201]"
     ]
    },
    {
     "name": "stdout",
     "output_type": "stream",
     "text": [
      "\r\n",
      "Epoch 47/600:   8%|▊         | 47/600 [26:11<5:04:06, 33.00s/it, v_num=k8_1, total_loss_train=499, kl_local_train=262, metric_mi|age_categorical_train=0.201]"
     ]
    },
    {
     "name": "stdout",
     "output_type": "stream",
     "text": [
      "\r\n",
      "Epoch 48/600:   8%|▊         | 47/600 [26:11<5:04:06, 33.00s/it, v_num=k8_1, total_loss_train=499, kl_local_train=262, metric_mi|age_categorical_train=0.201]"
     ]
    },
    {
     "name": "stdout",
     "output_type": "stream",
     "text": [
      "\r\n",
      "Epoch 48/600:   8%|▊         | 48/600 [26:43<5:02:06, 32.84s/it, v_num=k8_1, total_loss_train=499, kl_local_train=262, metric_mi|age_categorical_train=0.201]"
     ]
    },
    {
     "name": "stdout",
     "output_type": "stream",
     "text": [
      "\r\n",
      "Epoch 48/600:   8%|▊         | 48/600 [26:43<5:02:06, 32.84s/it, v_num=k8_1, total_loss_train=500, kl_local_train=259, metric_mi|age_categorical_train=0.201]"
     ]
    },
    {
     "name": "stdout",
     "output_type": "stream",
     "text": [
      "\r\n",
      "Epoch 49/600:   8%|▊         | 48/600 [26:43<5:02:06, 32.84s/it, v_num=k8_1, total_loss_train=500, kl_local_train=259, metric_mi|age_categorical_train=0.201]"
     ]
    },
    {
     "name": "stdout",
     "output_type": "stream",
     "text": [
      "\r\n",
      "Epoch 49/600:   8%|▊         | 49/600 [27:16<5:00:24, 32.71s/it, v_num=k8_1, total_loss_train=500, kl_local_train=259, metric_mi|age_categorical_train=0.201]"
     ]
    },
    {
     "name": "stdout",
     "output_type": "stream",
     "text": [
      "\r\n",
      "Epoch 49/600:   8%|▊         | 49/600 [27:16<5:00:24, 32.71s/it, v_num=k8_1, total_loss_train=501, kl_local_train=255, metric_mi|age_categorical_train=0.201]"
     ]
    },
    {
     "name": "stdout",
     "output_type": "stream",
     "text": [
      "\r\n",
      "Epoch 50/600:   8%|▊         | 49/600 [27:16<5:00:24, 32.71s/it, v_num=k8_1, total_loss_train=501, kl_local_train=255, metric_mi|age_categorical_train=0.201]"
     ]
    },
    {
     "name": "stdout",
     "output_type": "stream",
     "text": [
      "\r\n",
      "Epoch 50/600:   8%|▊         | 50/600 [27:47<4:56:15, 32.32s/it, v_num=k8_1, total_loss_train=501, kl_local_train=255, metric_mi|age_categorical_train=0.201]"
     ]
    },
    {
     "name": "stdout",
     "output_type": "stream",
     "text": [
      "\r\n",
      "Epoch 50/600:   8%|▊         | 50/600 [27:47<4:56:15, 32.32s/it, v_num=k8_1, total_loss_train=503, kl_local_train=254, metric_mi|age_categorical_train=0.201]"
     ]
    },
    {
     "name": "stdout",
     "output_type": "stream",
     "text": [
      "\r\n",
      "Epoch 51/600:   8%|▊         | 50/600 [27:48<4:56:15, 32.32s/it, v_num=k8_1, total_loss_train=503, kl_local_train=254, metric_mi|age_categorical_train=0.201]"
     ]
    },
    {
     "name": "stdout",
     "output_type": "stream",
     "text": [
      "\r\n",
      "Epoch 51/600:   8%|▊         | 51/600 [28:18<4:51:42, 31.88s/it, v_num=k8_1, total_loss_train=503, kl_local_train=254, metric_mi|age_categorical_train=0.201]"
     ]
    },
    {
     "name": "stdout",
     "output_type": "stream",
     "text": [
      "\r\n",
      "Epoch 51/600:   8%|▊         | 51/600 [28:18<4:51:42, 31.88s/it, v_num=k8_1, total_loss_train=502, kl_local_train=254, metric_mi|age_categorical_train=0.225]"
     ]
    },
    {
     "name": "stdout",
     "output_type": "stream",
     "text": [
      "\r\n",
      "Epoch 52/600:   8%|▊         | 51/600 [28:18<4:51:42, 31.88s/it, v_num=k8_1, total_loss_train=502, kl_local_train=254, metric_mi|age_categorical_train=0.225]"
     ]
    },
    {
     "name": "stdout",
     "output_type": "stream",
     "text": [
      "\r\n",
      "Epoch 52/600:   9%|▊         | 52/600 [28:48<4:46:20, 31.35s/it, v_num=k8_1, total_loss_train=502, kl_local_train=254, metric_mi|age_categorical_train=0.225]"
     ]
    },
    {
     "name": "stdout",
     "output_type": "stream",
     "text": [
      "\r\n",
      "Epoch 52/600:   9%|▊         | 52/600 [28:48<4:46:20, 31.35s/it, v_num=k8_1, total_loss_train=502, kl_local_train=249, metric_mi|age_categorical_train=0.225]"
     ]
    },
    {
     "name": "stdout",
     "output_type": "stream",
     "text": [
      "\r\n",
      "Epoch 53/600:   9%|▊         | 52/600 [28:48<4:46:20, 31.35s/it, v_num=k8_1, total_loss_train=502, kl_local_train=249, metric_mi|age_categorical_train=0.225]"
     ]
    },
    {
     "name": "stdout",
     "output_type": "stream",
     "text": [
      "\r\n",
      "Epoch 53/600:   9%|▉         | 53/600 [29:19<4:44:24, 31.20s/it, v_num=k8_1, total_loss_train=502, kl_local_train=249, metric_mi|age_categorical_train=0.225]"
     ]
    },
    {
     "name": "stdout",
     "output_type": "stream",
     "text": [
      "\r\n",
      "Epoch 53/600:   9%|▉         | 53/600 [29:19<4:44:24, 31.20s/it, v_num=k8_1, total_loss_train=502, kl_local_train=247, metric_mi|age_categorical_train=0.225]"
     ]
    },
    {
     "name": "stdout",
     "output_type": "stream",
     "text": [
      "\r\n",
      "Epoch 54/600:   9%|▉         | 53/600 [29:19<4:44:24, 31.20s/it, v_num=k8_1, total_loss_train=502, kl_local_train=247, metric_mi|age_categorical_train=0.225]"
     ]
    },
    {
     "name": "stdout",
     "output_type": "stream",
     "text": [
      "\r\n",
      "Epoch 54/600:   9%|▉         | 54/600 [29:51<4:45:47, 31.41s/it, v_num=k8_1, total_loss_train=502, kl_local_train=247, metric_mi|age_categorical_train=0.225]"
     ]
    },
    {
     "name": "stdout",
     "output_type": "stream",
     "text": [
      "\r\n",
      "Epoch 54/600:   9%|▉         | 54/600 [29:51<4:45:47, 31.41s/it, v_num=k8_1, total_loss_train=501, kl_local_train=245, metric_mi|age_categorical_train=0.225]"
     ]
    },
    {
     "name": "stdout",
     "output_type": "stream",
     "text": [
      "\r\n",
      "Epoch 55/600:   9%|▉         | 54/600 [29:51<4:45:47, 31.41s/it, v_num=k8_1, total_loss_train=501, kl_local_train=245, metric_mi|age_categorical_train=0.225]"
     ]
    },
    {
     "name": "stdout",
     "output_type": "stream",
     "text": [
      "\r\n",
      "Epoch 55/600:   9%|▉         | 55/600 [30:24<4:50:36, 31.99s/it, v_num=k8_1, total_loss_train=501, kl_local_train=245, metric_mi|age_categorical_train=0.225]"
     ]
    },
    {
     "name": "stdout",
     "output_type": "stream",
     "text": [
      "\r\n",
      "Epoch 55/600:   9%|▉         | 55/600 [30:24<4:50:36, 31.99s/it, v_num=k8_1, total_loss_train=500, kl_local_train=237, metric_mi|age_categorical_train=0.225]"
     ]
    },
    {
     "name": "stdout",
     "output_type": "stream",
     "text": [
      "\r\n",
      "Epoch 56/600:   9%|▉         | 55/600 [30:25<4:50:36, 31.99s/it, v_num=k8_1, total_loss_train=500, kl_local_train=237, metric_mi|age_categorical_train=0.225]"
     ]
    },
    {
     "name": "stdout",
     "output_type": "stream",
     "text": [
      "\r\n",
      "Epoch 56/600:   9%|▉         | 56/600 [30:57<4:52:08, 32.22s/it, v_num=k8_1, total_loss_train=500, kl_local_train=237, metric_mi|age_categorical_train=0.225]"
     ]
    },
    {
     "name": "stdout",
     "output_type": "stream",
     "text": [
      "\r\n",
      "Epoch 56/600:   9%|▉         | 56/600 [30:57<4:52:08, 32.22s/it, v_num=k8_1, total_loss_train=499, kl_local_train=234, metric_mi|age_categorical_train=0.232]"
     ]
    },
    {
     "name": "stdout",
     "output_type": "stream",
     "text": [
      "\r\n",
      "Epoch 57/600:   9%|▉         | 56/600 [30:57<4:52:08, 32.22s/it, v_num=k8_1, total_loss_train=499, kl_local_train=234, metric_mi|age_categorical_train=0.232]"
     ]
    },
    {
     "name": "stdout",
     "output_type": "stream",
     "text": [
      "\r\n",
      "Epoch 57/600:  10%|▉         | 57/600 [31:29<4:50:24, 32.09s/it, v_num=k8_1, total_loss_train=499, kl_local_train=234, metric_mi|age_categorical_train=0.232]"
     ]
    },
    {
     "name": "stdout",
     "output_type": "stream",
     "text": [
      "\r\n",
      "Epoch 57/600:  10%|▉         | 57/600 [31:29<4:50:24, 32.09s/it, v_num=k8_1, total_loss_train=498, kl_local_train=227, metric_mi|age_categorical_train=0.232]"
     ]
    },
    {
     "name": "stdout",
     "output_type": "stream",
     "text": [
      "\r\n",
      "Epoch 58/600:  10%|▉         | 57/600 [31:29<4:50:24, 32.09s/it, v_num=k8_1, total_loss_train=498, kl_local_train=227, metric_mi|age_categorical_train=0.232]"
     ]
    },
    {
     "name": "stdout",
     "output_type": "stream",
     "text": [
      "\r\n",
      "Epoch 58/600:  10%|▉         | 58/600 [32:00<4:49:04, 32.00s/it, v_num=k8_1, total_loss_train=498, kl_local_train=227, metric_mi|age_categorical_train=0.232]"
     ]
    },
    {
     "name": "stdout",
     "output_type": "stream",
     "text": [
      "\r\n",
      "Epoch 58/600:  10%|▉         | 58/600 [32:00<4:49:04, 32.00s/it, v_num=k8_1, total_loss_train=499, kl_local_train=228, metric_mi|age_categorical_train=0.232]"
     ]
    },
    {
     "name": "stdout",
     "output_type": "stream",
     "text": [
      "\r\n",
      "Epoch 59/600:  10%|▉         | 58/600 [32:00<4:49:04, 32.00s/it, v_num=k8_1, total_loss_train=499, kl_local_train=228, metric_mi|age_categorical_train=0.232]"
     ]
    },
    {
     "name": "stdout",
     "output_type": "stream",
     "text": [
      "\r\n",
      "Epoch 59/600:  10%|▉         | 59/600 [32:32<4:48:04, 31.95s/it, v_num=k8_1, total_loss_train=499, kl_local_train=228, metric_mi|age_categorical_train=0.232]"
     ]
    },
    {
     "name": "stdout",
     "output_type": "stream",
     "text": [
      "\r\n",
      "Epoch 59/600:  10%|▉         | 59/600 [32:32<4:48:04, 31.95s/it, v_num=k8_1, total_loss_train=498, kl_local_train=224, metric_mi|age_categorical_train=0.232]"
     ]
    },
    {
     "name": "stdout",
     "output_type": "stream",
     "text": [
      "\r\n",
      "Epoch 60/600:  10%|▉         | 59/600 [32:32<4:48:04, 31.95s/it, v_num=k8_1, total_loss_train=498, kl_local_train=224, metric_mi|age_categorical_train=0.232]"
     ]
    },
    {
     "name": "stdout",
     "output_type": "stream",
     "text": [
      "\r\n",
      "Epoch 60/600:  10%|█         | 60/600 [33:05<4:49:21, 32.15s/it, v_num=k8_1, total_loss_train=498, kl_local_train=224, metric_mi|age_categorical_train=0.232]"
     ]
    },
    {
     "name": "stdout",
     "output_type": "stream",
     "text": [
      "\r\n",
      "Epoch 60/600:  10%|█         | 60/600 [33:05<4:49:21, 32.15s/it, v_num=k8_1, total_loss_train=497, kl_local_train=222, metric_mi|age_categorical_train=0.232]"
     ]
    },
    {
     "name": "stdout",
     "output_type": "stream",
     "text": [
      "\r\n",
      "Epoch 61/600:  10%|█         | 60/600 [33:06<4:49:21, 32.15s/it, v_num=k8_1, total_loss_train=497, kl_local_train=222, metric_mi|age_categorical_train=0.232]"
     ]
    },
    {
     "name": "stdout",
     "output_type": "stream",
     "text": [
      "\r\n",
      "Epoch 61/600:  10%|█         | 61/600 [33:38<4:50:13, 32.31s/it, v_num=k8_1, total_loss_train=497, kl_local_train=222, metric_mi|age_categorical_train=0.232]"
     ]
    },
    {
     "name": "stdout",
     "output_type": "stream",
     "text": [
      "\r\n",
      "Epoch 61/600:  10%|█         | 61/600 [33:38<4:50:13, 32.31s/it, v_num=k8_1, total_loss_train=496, kl_local_train=219, metric_mi|age_categorical_train=0.221]"
     ]
    },
    {
     "name": "stdout",
     "output_type": "stream",
     "text": [
      "\r\n",
      "Epoch 62/600:  10%|█         | 61/600 [33:38<4:50:13, 32.31s/it, v_num=k8_1, total_loss_train=496, kl_local_train=219, metric_mi|age_categorical_train=0.221]"
     ]
    },
    {
     "name": "stdout",
     "output_type": "stream",
     "text": [
      "\r\n",
      "Epoch 62/600:  10%|█         | 62/600 [34:09<4:48:37, 32.19s/it, v_num=k8_1, total_loss_train=496, kl_local_train=219, metric_mi|age_categorical_train=0.221]"
     ]
    },
    {
     "name": "stdout",
     "output_type": "stream",
     "text": [
      "\r\n",
      "Epoch 62/600:  10%|█         | 62/600 [34:09<4:48:37, 32.19s/it, v_num=k8_1, total_loss_train=496, kl_local_train=221, metric_mi|age_categorical_train=0.221]"
     ]
    },
    {
     "name": "stdout",
     "output_type": "stream",
     "text": [
      "\r\n",
      "Epoch 63/600:  10%|█         | 62/600 [34:09<4:48:37, 32.19s/it, v_num=k8_1, total_loss_train=496, kl_local_train=221, metric_mi|age_categorical_train=0.221]"
     ]
    },
    {
     "name": "stdout",
     "output_type": "stream",
     "text": [
      "\r\n",
      "Epoch 63/600:  10%|█         | 63/600 [34:41<4:46:36, 32.02s/it, v_num=k8_1, total_loss_train=496, kl_local_train=221, metric_mi|age_categorical_train=0.221]"
     ]
    },
    {
     "name": "stdout",
     "output_type": "stream",
     "text": [
      "\r\n",
      "Epoch 63/600:  10%|█         | 63/600 [34:41<4:46:36, 32.02s/it, v_num=k8_1, total_loss_train=496, kl_local_train=222, metric_mi|age_categorical_train=0.221]"
     ]
    },
    {
     "name": "stdout",
     "output_type": "stream",
     "text": [
      "\r\n",
      "Epoch 64/600:  10%|█         | 63/600 [34:41<4:46:36, 32.02s/it, v_num=k8_1, total_loss_train=496, kl_local_train=222, metric_mi|age_categorical_train=0.221]"
     ]
    },
    {
     "name": "stdout",
     "output_type": "stream",
     "text": [
      "\r\n",
      "Epoch 64/600:  11%|█         | 64/600 [35:13<4:45:27, 31.95s/it, v_num=k8_1, total_loss_train=496, kl_local_train=222, metric_mi|age_categorical_train=0.221]"
     ]
    },
    {
     "name": "stdout",
     "output_type": "stream",
     "text": [
      "\r\n",
      "Epoch 64/600:  11%|█         | 64/600 [35:13<4:45:27, 31.95s/it, v_num=k8_1, total_loss_train=495, kl_local_train=220, metric_mi|age_categorical_train=0.221]"
     ]
    },
    {
     "name": "stdout",
     "output_type": "stream",
     "text": [
      "\r\n",
      "Epoch 65/600:  11%|█         | 64/600 [35:13<4:45:27, 31.95s/it, v_num=k8_1, total_loss_train=495, kl_local_train=220, metric_mi|age_categorical_train=0.221]"
     ]
    },
    {
     "name": "stdout",
     "output_type": "stream",
     "text": [
      "\r\n",
      "Epoch 65/600:  11%|█         | 65/600 [35:46<4:47:43, 32.27s/it, v_num=k8_1, total_loss_train=495, kl_local_train=220, metric_mi|age_categorical_train=0.221]"
     ]
    },
    {
     "name": "stdout",
     "output_type": "stream",
     "text": [
      "\r\n",
      "Epoch 65/600:  11%|█         | 65/600 [35:46<4:47:43, 32.27s/it, v_num=k8_1, total_loss_train=495, kl_local_train=218, metric_mi|age_categorical_train=0.221]"
     ]
    },
    {
     "name": "stdout",
     "output_type": "stream",
     "text": [
      "\r\n",
      "Epoch 66/600:  11%|█         | 65/600 [35:47<4:47:43, 32.27s/it, v_num=k8_1, total_loss_train=495, kl_local_train=218, metric_mi|age_categorical_train=0.221]"
     ]
    },
    {
     "name": "stdout",
     "output_type": "stream",
     "text": [
      "\r\n",
      "Epoch 66/600:  11%|█         | 66/600 [36:19<4:48:15, 32.39s/it, v_num=k8_1, total_loss_train=495, kl_local_train=218, metric_mi|age_categorical_train=0.221]"
     ]
    },
    {
     "name": "stdout",
     "output_type": "stream",
     "text": [
      "\r\n",
      "Epoch 66/600:  11%|█         | 66/600 [36:19<4:48:15, 32.39s/it, v_num=k8_1, total_loss_train=495, kl_local_train=216, metric_mi|age_categorical_train=0.248]"
     ]
    },
    {
     "name": "stdout",
     "output_type": "stream",
     "text": [
      "\r\n",
      "Epoch 67/600:  11%|█         | 66/600 [36:19<4:48:15, 32.39s/it, v_num=k8_1, total_loss_train=495, kl_local_train=216, metric_mi|age_categorical_train=0.248]"
     ]
    },
    {
     "name": "stdout",
     "output_type": "stream",
     "text": [
      "\r\n",
      "Epoch 67/600:  11%|█         | 67/600 [36:50<4:46:24, 32.24s/it, v_num=k8_1, total_loss_train=495, kl_local_train=216, metric_mi|age_categorical_train=0.248]"
     ]
    },
    {
     "name": "stdout",
     "output_type": "stream",
     "text": [
      "\r\n",
      "Epoch 67/600:  11%|█         | 67/600 [36:50<4:46:24, 32.24s/it, v_num=k8_1, total_loss_train=494, kl_local_train=212, metric_mi|age_categorical_train=0.248]"
     ]
    },
    {
     "name": "stdout",
     "output_type": "stream",
     "text": [
      "\r\n",
      "Epoch 68/600:  11%|█         | 67/600 [36:50<4:46:24, 32.24s/it, v_num=k8_1, total_loss_train=494, kl_local_train=212, metric_mi|age_categorical_train=0.248]"
     ]
    },
    {
     "name": "stdout",
     "output_type": "stream",
     "text": [
      "\r\n",
      "Epoch 68/600:  11%|█▏        | 68/600 [37:22<4:44:45, 32.12s/it, v_num=k8_1, total_loss_train=494, kl_local_train=212, metric_mi|age_categorical_train=0.248]"
     ]
    },
    {
     "name": "stdout",
     "output_type": "stream",
     "text": [
      "\r\n",
      "Epoch 68/600:  11%|█▏        | 68/600 [37:22<4:44:45, 32.12s/it, v_num=k8_1, total_loss_train=494, kl_local_train=212, metric_mi|age_categorical_train=0.248]"
     ]
    },
    {
     "name": "stdout",
     "output_type": "stream",
     "text": [
      "\r\n",
      "Epoch 69/600:  11%|█▏        | 68/600 [37:22<4:44:45, 32.12s/it, v_num=k8_1, total_loss_train=494, kl_local_train=212, metric_mi|age_categorical_train=0.248]"
     ]
    },
    {
     "name": "stdout",
     "output_type": "stream",
     "text": [
      "\r\n",
      "Epoch 69/600:  12%|█▏        | 69/600 [37:54<4:43:16, 32.01s/it, v_num=k8_1, total_loss_train=494, kl_local_train=212, metric_mi|age_categorical_train=0.248]"
     ]
    },
    {
     "name": "stdout",
     "output_type": "stream",
     "text": [
      "\r\n",
      "Epoch 69/600:  12%|█▏        | 69/600 [37:54<4:43:16, 32.01s/it, v_num=k8_1, total_loss_train=494, kl_local_train=212, metric_mi|age_categorical_train=0.248]"
     ]
    },
    {
     "name": "stdout",
     "output_type": "stream",
     "text": [
      "\r\n",
      "Epoch 70/600:  12%|█▏        | 69/600 [37:54<4:43:16, 32.01s/it, v_num=k8_1, total_loss_train=494, kl_local_train=212, metric_mi|age_categorical_train=0.248]"
     ]
    },
    {
     "name": "stdout",
     "output_type": "stream",
     "text": [
      "\r\n",
      "Epoch 70/600:  12%|█▏        | 70/600 [38:27<4:44:54, 32.25s/it, v_num=k8_1, total_loss_train=494, kl_local_train=212, metric_mi|age_categorical_train=0.248]"
     ]
    },
    {
     "name": "stdout",
     "output_type": "stream",
     "text": [
      "\r\n",
      "Epoch 70/600:  12%|█▏        | 70/600 [38:27<4:44:54, 32.25s/it, v_num=k8_1, total_loss_train=494, kl_local_train=213, metric_mi|age_categorical_train=0.248]"
     ]
    },
    {
     "name": "stdout",
     "output_type": "stream",
     "text": [
      "\r\n",
      "Epoch 71/600:  12%|█▏        | 70/600 [38:28<4:44:54, 32.25s/it, v_num=k8_1, total_loss_train=494, kl_local_train=213, metric_mi|age_categorical_train=0.248]"
     ]
    },
    {
     "name": "stdout",
     "output_type": "stream",
     "text": [
      "\r\n",
      "Epoch 71/600:  12%|█▏        | 71/600 [39:00<4:45:56, 32.43s/it, v_num=k8_1, total_loss_train=494, kl_local_train=213, metric_mi|age_categorical_train=0.248]"
     ]
    },
    {
     "name": "stdout",
     "output_type": "stream",
     "text": [
      "\r\n",
      "Epoch 71/600:  12%|█▏        | 71/600 [39:00<4:45:56, 32.43s/it, v_num=k8_1, total_loss_train=493, kl_local_train=210, metric_mi|age_categorical_train=0.254]"
     ]
    },
    {
     "name": "stdout",
     "output_type": "stream",
     "text": [
      "\r\n",
      "Epoch 72/600:  12%|█▏        | 71/600 [39:00<4:45:56, 32.43s/it, v_num=k8_1, total_loss_train=493, kl_local_train=210, metric_mi|age_categorical_train=0.254]"
     ]
    },
    {
     "name": "stdout",
     "output_type": "stream",
     "text": [
      "\r\n",
      "Epoch 72/600:  12%|█▏        | 72/600 [39:32<4:44:13, 32.30s/it, v_num=k8_1, total_loss_train=493, kl_local_train=210, metric_mi|age_categorical_train=0.254]"
     ]
    },
    {
     "name": "stdout",
     "output_type": "stream",
     "text": [
      "\r\n",
      "Epoch 72/600:  12%|█▏        | 72/600 [39:32<4:44:13, 32.30s/it, v_num=k8_1, total_loss_train=493, kl_local_train=209, metric_mi|age_categorical_train=0.254]"
     ]
    },
    {
     "name": "stdout",
     "output_type": "stream",
     "text": [
      "\r\n",
      "Epoch 73/600:  12%|█▏        | 72/600 [39:32<4:44:13, 32.30s/it, v_num=k8_1, total_loss_train=493, kl_local_train=209, metric_mi|age_categorical_train=0.254]"
     ]
    },
    {
     "name": "stdout",
     "output_type": "stream",
     "text": [
      "\r\n",
      "Epoch 73/600:  12%|█▏        | 73/600 [40:04<4:42:52, 32.21s/it, v_num=k8_1, total_loss_train=493, kl_local_train=209, metric_mi|age_categorical_train=0.254]"
     ]
    },
    {
     "name": "stdout",
     "output_type": "stream",
     "text": [
      "\r\n",
      "Epoch 73/600:  12%|█▏        | 73/600 [40:04<4:42:52, 32.21s/it, v_num=k8_1, total_loss_train=493, kl_local_train=208, metric_mi|age_categorical_train=0.254]"
     ]
    },
    {
     "name": "stdout",
     "output_type": "stream",
     "text": [
      "\r\n",
      "Epoch 74/600:  12%|█▏        | 73/600 [40:04<4:42:52, 32.21s/it, v_num=k8_1, total_loss_train=493, kl_local_train=208, metric_mi|age_categorical_train=0.254]"
     ]
    },
    {
     "name": "stdout",
     "output_type": "stream",
     "text": [
      "\r\n",
      "Epoch 74/600:  12%|█▏        | 74/600 [40:36<4:41:50, 32.15s/it, v_num=k8_1, total_loss_train=493, kl_local_train=208, metric_mi|age_categorical_train=0.254]"
     ]
    },
    {
     "name": "stdout",
     "output_type": "stream",
     "text": [
      "\r\n",
      "Epoch 74/600:  12%|█▏        | 74/600 [40:36<4:41:50, 32.15s/it, v_num=k8_1, total_loss_train=493, kl_local_train=208, metric_mi|age_categorical_train=0.254]"
     ]
    },
    {
     "name": "stdout",
     "output_type": "stream",
     "text": [
      "\r\n",
      "Epoch 75/600:  12%|█▏        | 74/600 [40:36<4:41:50, 32.15s/it, v_num=k8_1, total_loss_train=493, kl_local_train=208, metric_mi|age_categorical_train=0.254]"
     ]
    },
    {
     "name": "stdout",
     "output_type": "stream",
     "text": [
      "\r\n",
      "Epoch 75/600:  12%|█▎        | 75/600 [41:09<4:43:09, 32.36s/it, v_num=k8_1, total_loss_train=493, kl_local_train=208, metric_mi|age_categorical_train=0.254]"
     ]
    },
    {
     "name": "stdout",
     "output_type": "stream",
     "text": [
      "\r\n",
      "Epoch 75/600:  12%|█▎        | 75/600 [41:09<4:43:09, 32.36s/it, v_num=k8_1, total_loss_train=493, kl_local_train=206, metric_mi|age_categorical_train=0.254]"
     ]
    },
    {
     "name": "stdout",
     "output_type": "stream",
     "text": [
      "\r\n",
      "Epoch 76/600:  12%|█▎        | 75/600 [41:09<4:43:09, 32.36s/it, v_num=k8_1, total_loss_train=493, kl_local_train=206, metric_mi|age_categorical_train=0.254]"
     ]
    },
    {
     "name": "stdout",
     "output_type": "stream",
     "text": [
      "\r\n",
      "Epoch 76/600:  13%|█▎        | 76/600 [41:41<4:43:49, 32.50s/it, v_num=k8_1, total_loss_train=493, kl_local_train=206, metric_mi|age_categorical_train=0.254]"
     ]
    },
    {
     "name": "stdout",
     "output_type": "stream",
     "text": [
      "\r\n",
      "Epoch 76/600:  13%|█▎        | 76/600 [41:41<4:43:49, 32.50s/it, v_num=k8_1, total_loss_train=492, kl_local_train=204, metric_mi|age_categorical_train=0.254]"
     ]
    },
    {
     "name": "stdout",
     "output_type": "stream",
     "text": [
      "\r\n",
      "Epoch 77/600:  13%|█▎        | 76/600 [41:41<4:43:49, 32.50s/it, v_num=k8_1, total_loss_train=492, kl_local_train=204, metric_mi|age_categorical_train=0.254]"
     ]
    },
    {
     "name": "stdout",
     "output_type": "stream",
     "text": [
      "\r\n",
      "Epoch 77/600:  13%|█▎        | 77/600 [42:13<4:41:28, 32.29s/it, v_num=k8_1, total_loss_train=492, kl_local_train=204, metric_mi|age_categorical_train=0.254]"
     ]
    },
    {
     "name": "stdout",
     "output_type": "stream",
     "text": [
      "\r\n",
      "Epoch 77/600:  13%|█▎        | 77/600 [42:13<4:41:28, 32.29s/it, v_num=k8_1, total_loss_train=493, kl_local_train=201, metric_mi|age_categorical_train=0.254]"
     ]
    },
    {
     "name": "stdout",
     "output_type": "stream",
     "text": [
      "\r\n",
      "Epoch 78/600:  13%|█▎        | 77/600 [42:13<4:41:28, 32.29s/it, v_num=k8_1, total_loss_train=493, kl_local_train=201, metric_mi|age_categorical_train=0.254]"
     ]
    },
    {
     "name": "stdout",
     "output_type": "stream",
     "text": [
      "\r\n",
      "Epoch 78/600:  13%|█▎        | 78/600 [42:45<4:39:53, 32.17s/it, v_num=k8_1, total_loss_train=493, kl_local_train=201, metric_mi|age_categorical_train=0.254]"
     ]
    },
    {
     "name": "stdout",
     "output_type": "stream",
     "text": [
      "\r\n",
      "Epoch 78/600:  13%|█▎        | 78/600 [42:45<4:39:53, 32.17s/it, v_num=k8_1, total_loss_train=492, kl_local_train=201, metric_mi|age_categorical_train=0.254]"
     ]
    },
    {
     "name": "stdout",
     "output_type": "stream",
     "text": [
      "\r\n",
      "Epoch 79/600:  13%|█▎        | 78/600 [42:45<4:39:53, 32.17s/it, v_num=k8_1, total_loss_train=492, kl_local_train=201, metric_mi|age_categorical_train=0.254]"
     ]
    },
    {
     "name": "stdout",
     "output_type": "stream",
     "text": [
      "\r\n",
      "Epoch 79/600:  13%|█▎        | 79/600 [43:17<4:38:59, 32.13s/it, v_num=k8_1, total_loss_train=492, kl_local_train=201, metric_mi|age_categorical_train=0.254]"
     ]
    },
    {
     "name": "stdout",
     "output_type": "stream",
     "text": [
      "\r\n",
      "Epoch 79/600:  13%|█▎        | 79/600 [43:17<4:38:59, 32.13s/it, v_num=k8_1, total_loss_train=492, kl_local_train=201, metric_mi|age_categorical_train=0.254]"
     ]
    },
    {
     "name": "stdout",
     "output_type": "stream",
     "text": [
      "\r\n",
      "Epoch 80/600:  13%|█▎        | 79/600 [43:17<4:38:59, 32.13s/it, v_num=k8_1, total_loss_train=492, kl_local_train=201, metric_mi|age_categorical_train=0.254]"
     ]
    },
    {
     "name": "stdout",
     "output_type": "stream",
     "text": [
      "\r\n",
      "Epoch 80/600:  13%|█▎        | 80/600 [43:50<4:39:50, 32.29s/it, v_num=k8_1, total_loss_train=492, kl_local_train=201, metric_mi|age_categorical_train=0.254]"
     ]
    },
    {
     "name": "stdout",
     "output_type": "stream",
     "text": [
      "\r\n",
      "Epoch 80/600:  13%|█▎        | 80/600 [43:50<4:39:50, 32.29s/it, v_num=k8_1, total_loss_train=492, kl_local_train=199, metric_mi|age_categorical_train=0.254]"
     ]
    },
    {
     "name": "stdout",
     "output_type": "stream",
     "text": [
      "\r\n",
      "Epoch 81/600:  13%|█▎        | 80/600 [43:51<4:39:50, 32.29s/it, v_num=k8_1, total_loss_train=492, kl_local_train=199, metric_mi|age_categorical_train=0.254]"
     ]
    },
    {
     "name": "stdout",
     "output_type": "stream",
     "text": [
      "\r\n",
      "Epoch 81/600:  14%|█▎        | 81/600 [44:23<4:40:51, 32.47s/it, v_num=k8_1, total_loss_train=492, kl_local_train=199, metric_mi|age_categorical_train=0.254]"
     ]
    },
    {
     "name": "stdout",
     "output_type": "stream",
     "text": [
      "\r\n",
      "Epoch 81/600:  14%|█▎        | 81/600 [44:23<4:40:51, 32.47s/it, v_num=k8_1, total_loss_train=492, kl_local_train=200, metric_mi|age_categorical_train=0.254]"
     ]
    },
    {
     "name": "stdout",
     "output_type": "stream",
     "text": [
      "\r\n",
      "Epoch 82/600:  14%|█▎        | 81/600 [44:23<4:40:51, 32.47s/it, v_num=k8_1, total_loss_train=492, kl_local_train=200, metric_mi|age_categorical_train=0.254]"
     ]
    },
    {
     "name": "stdout",
     "output_type": "stream",
     "text": [
      "\r\n",
      "Epoch 82/600:  14%|█▎        | 82/600 [44:54<4:38:34, 32.27s/it, v_num=k8_1, total_loss_train=492, kl_local_train=200, metric_mi|age_categorical_train=0.254]"
     ]
    },
    {
     "name": "stdout",
     "output_type": "stream",
     "text": [
      "\r\n",
      "Epoch 82/600:  14%|█▎        | 82/600 [44:54<4:38:34, 32.27s/it, v_num=k8_1, total_loss_train=493, kl_local_train=200, metric_mi|age_categorical_train=0.254]"
     ]
    },
    {
     "name": "stdout",
     "output_type": "stream",
     "text": [
      "\r\n",
      "Epoch 83/600:  14%|█▎        | 82/600 [44:54<4:38:34, 32.27s/it, v_num=k8_1, total_loss_train=493, kl_local_train=200, metric_mi|age_categorical_train=0.254]"
     ]
    },
    {
     "name": "stdout",
     "output_type": "stream",
     "text": [
      "\r\n",
      "Epoch 83/600:  14%|█▍        | 83/600 [45:26<4:37:11, 32.17s/it, v_num=k8_1, total_loss_train=493, kl_local_train=200, metric_mi|age_categorical_train=0.254]"
     ]
    },
    {
     "name": "stdout",
     "output_type": "stream",
     "text": [
      "\r\n",
      "Epoch 83/600:  14%|█▍        | 83/600 [45:26<4:37:11, 32.17s/it, v_num=k8_1, total_loss_train=492, kl_local_train=198, metric_mi|age_categorical_train=0.254]"
     ]
    },
    {
     "name": "stdout",
     "output_type": "stream",
     "text": [
      "\r\n",
      "Epoch 84/600:  14%|█▍        | 83/600 [45:26<4:37:11, 32.17s/it, v_num=k8_1, total_loss_train=492, kl_local_train=198, metric_mi|age_categorical_train=0.254]"
     ]
    },
    {
     "name": "stdout",
     "output_type": "stream",
     "text": [
      "\r\n",
      "Epoch 84/600:  14%|█▍        | 84/600 [45:58<4:35:37, 32.05s/it, v_num=k8_1, total_loss_train=492, kl_local_train=198, metric_mi|age_categorical_train=0.254]"
     ]
    },
    {
     "name": "stdout",
     "output_type": "stream",
     "text": [
      "\r\n",
      "Epoch 84/600:  14%|█▍        | 84/600 [45:58<4:35:37, 32.05s/it, v_num=k8_1, total_loss_train=492, kl_local_train=197, metric_mi|age_categorical_train=0.254]"
     ]
    },
    {
     "name": "stdout",
     "output_type": "stream",
     "text": [
      "\r\n",
      "Epoch 85/600:  14%|█▍        | 84/600 [45:58<4:35:37, 32.05s/it, v_num=k8_1, total_loss_train=492, kl_local_train=197, metric_mi|age_categorical_train=0.254]"
     ]
    },
    {
     "name": "stdout",
     "output_type": "stream",
     "text": [
      "\r\n",
      "Epoch 85/600:  14%|█▍        | 85/600 [46:31<4:37:08, 32.29s/it, v_num=k8_1, total_loss_train=492, kl_local_train=197, metric_mi|age_categorical_train=0.254]"
     ]
    },
    {
     "name": "stdout",
     "output_type": "stream",
     "text": [
      "\r\n",
      "Epoch 85/600:  14%|█▍        | 85/600 [46:31<4:37:08, 32.29s/it, v_num=k8_1, total_loss_train=492, kl_local_train=195, metric_mi|age_categorical_train=0.254]"
     ]
    },
    {
     "name": "stdout",
     "output_type": "stream",
     "text": [
      "\r\n",
      "Epoch 86/600:  14%|█▍        | 85/600 [46:32<4:37:08, 32.29s/it, v_num=k8_1, total_loss_train=492, kl_local_train=195, metric_mi|age_categorical_train=0.254]"
     ]
    },
    {
     "name": "stdout",
     "output_type": "stream",
     "text": [
      "\r\n",
      "Epoch 86/600:  14%|█▍        | 86/600 [47:04<4:38:25, 32.50s/it, v_num=k8_1, total_loss_train=492, kl_local_train=195, metric_mi|age_categorical_train=0.254]"
     ]
    },
    {
     "name": "stdout",
     "output_type": "stream",
     "text": [
      "\r\n",
      "Epoch 86/600:  14%|█▍        | 86/600 [47:04<4:38:25, 32.50s/it, v_num=k8_1, total_loss_train=492, kl_local_train=193, metric_mi|age_categorical_train=0.23] "
     ]
    },
    {
     "name": "stdout",
     "output_type": "stream",
     "text": [
      "\r\n",
      "Epoch 87/600:  14%|█▍        | 86/600 [47:04<4:38:25, 32.50s/it, v_num=k8_1, total_loss_train=492, kl_local_train=193, metric_mi|age_categorical_train=0.23]"
     ]
    },
    {
     "name": "stdout",
     "output_type": "stream",
     "text": [
      "\r\n",
      "Epoch 87/600:  14%|█▍        | 87/600 [47:36<4:36:58, 32.40s/it, v_num=k8_1, total_loss_train=492, kl_local_train=193, metric_mi|age_categorical_train=0.23]"
     ]
    },
    {
     "name": "stdout",
     "output_type": "stream",
     "text": [
      "\r\n",
      "Epoch 87/600:  14%|█▍        | 87/600 [47:36<4:36:58, 32.40s/it, v_num=k8_1, total_loss_train=491, kl_local_train=190, metric_mi|age_categorical_train=0.23]"
     ]
    },
    {
     "name": "stdout",
     "output_type": "stream",
     "text": [
      "\r\n",
      "Epoch 88/600:  14%|█▍        | 87/600 [47:36<4:36:58, 32.40s/it, v_num=k8_1, total_loss_train=491, kl_local_train=190, metric_mi|age_categorical_train=0.23]"
     ]
    },
    {
     "name": "stdout",
     "output_type": "stream",
     "text": [
      "\r\n",
      "Epoch 88/600:  15%|█▍        | 88/600 [48:08<4:35:22, 32.27s/it, v_num=k8_1, total_loss_train=491, kl_local_train=190, metric_mi|age_categorical_train=0.23]"
     ]
    },
    {
     "name": "stdout",
     "output_type": "stream",
     "text": [
      "\r\n",
      "Epoch 88/600:  15%|█▍        | 88/600 [48:08<4:35:22, 32.27s/it, v_num=k8_1, total_loss_train=492, kl_local_train=189, metric_mi|age_categorical_train=0.23]"
     ]
    },
    {
     "name": "stdout",
     "output_type": "stream",
     "text": [
      "\r\n",
      "Epoch 89/600:  15%|█▍        | 88/600 [48:08<4:35:22, 32.27s/it, v_num=k8_1, total_loss_train=492, kl_local_train=189, metric_mi|age_categorical_train=0.23]"
     ]
    },
    {
     "name": "stdout",
     "output_type": "stream",
     "text": [
      "\r\n",
      "Epoch 89/600:  15%|█▍        | 89/600 [48:40<4:34:55, 32.28s/it, v_num=k8_1, total_loss_train=492, kl_local_train=189, metric_mi|age_categorical_train=0.23]"
     ]
    },
    {
     "name": "stdout",
     "output_type": "stream",
     "text": [
      "\r\n",
      "Epoch 89/600:  15%|█▍        | 89/600 [48:40<4:34:55, 32.28s/it, v_num=k8_1, total_loss_train=492, kl_local_train=191, metric_mi|age_categorical_train=0.23]"
     ]
    },
    {
     "name": "stdout",
     "output_type": "stream",
     "text": [
      "\r\n",
      "Epoch 90/600:  15%|█▍        | 89/600 [48:40<4:34:55, 32.28s/it, v_num=k8_1, total_loss_train=492, kl_local_train=191, metric_mi|age_categorical_train=0.23]"
     ]
    },
    {
     "name": "stdout",
     "output_type": "stream",
     "text": [
      "\r\n",
      "Epoch 90/600:  15%|█▌        | 90/600 [49:13<4:35:53, 32.46s/it, v_num=k8_1, total_loss_train=492, kl_local_train=191, metric_mi|age_categorical_train=0.23]"
     ]
    },
    {
     "name": "stdout",
     "output_type": "stream",
     "text": [
      "\r\n",
      "Epoch 90/600:  15%|█▌        | 90/600 [49:13<4:35:53, 32.46s/it, v_num=k8_1, total_loss_train=492, kl_local_train=188, metric_mi|age_categorical_train=0.23]"
     ]
    },
    {
     "name": "stdout",
     "output_type": "stream",
     "text": [
      "\r\n",
      "Epoch 91/600:  15%|█▌        | 90/600 [49:14<4:35:53, 32.46s/it, v_num=k8_1, total_loss_train=492, kl_local_train=188, metric_mi|age_categorical_train=0.23]"
     ]
    },
    {
     "name": "stdout",
     "output_type": "stream",
     "text": [
      "\r\n",
      "Epoch 91/600:  15%|█▌        | 91/600 [49:46<4:36:07, 32.55s/it, v_num=k8_1, total_loss_train=492, kl_local_train=188, metric_mi|age_categorical_train=0.23]"
     ]
    },
    {
     "name": "stdout",
     "output_type": "stream",
     "text": [
      "\r\n",
      "Epoch 91/600:  15%|█▌        | 91/600 [49:46<4:36:07, 32.55s/it, v_num=k8_1, total_loss_train=492, kl_local_train=186, metric_mi|age_categorical_train=0.258]"
     ]
    },
    {
     "name": "stdout",
     "output_type": "stream",
     "text": [
      "\r\n",
      "Epoch 92/600:  15%|█▌        | 91/600 [49:46<4:36:07, 32.55s/it, v_num=k8_1, total_loss_train=492, kl_local_train=186, metric_mi|age_categorical_train=0.258]"
     ]
    },
    {
     "name": "stdout",
     "output_type": "stream",
     "text": [
      "\r\n",
      "Epoch 92/600:  15%|█▌        | 92/600 [50:18<4:33:43, 32.33s/it, v_num=k8_1, total_loss_train=492, kl_local_train=186, metric_mi|age_categorical_train=0.258]"
     ]
    },
    {
     "name": "stdout",
     "output_type": "stream",
     "text": [
      "\r\n",
      "Epoch 92/600:  15%|█▌        | 92/600 [50:18<4:33:43, 32.33s/it, v_num=k8_1, total_loss_train=492, kl_local_train=185, metric_mi|age_categorical_train=0.258]"
     ]
    },
    {
     "name": "stdout",
     "output_type": "stream",
     "text": [
      "\r\n",
      "Epoch 93/600:  15%|█▌        | 92/600 [50:18<4:33:43, 32.33s/it, v_num=k8_1, total_loss_train=492, kl_local_train=185, metric_mi|age_categorical_train=0.258]"
     ]
    },
    {
     "name": "stdout",
     "output_type": "stream",
     "text": [
      "\r\n",
      "Epoch 93/600:  16%|█▌        | 93/600 [50:50<4:32:09, 32.21s/it, v_num=k8_1, total_loss_train=492, kl_local_train=185, metric_mi|age_categorical_train=0.258]"
     ]
    },
    {
     "name": "stdout",
     "output_type": "stream",
     "text": [
      "\r\n",
      "Epoch 93/600:  16%|█▌        | 93/600 [50:50<4:32:09, 32.21s/it, v_num=k8_1, total_loss_train=492, kl_local_train=185, metric_mi|age_categorical_train=0.258]"
     ]
    },
    {
     "name": "stdout",
     "output_type": "stream",
     "text": [
      "\r\n",
      "Epoch 94/600:  16%|█▌        | 93/600 [50:50<4:32:09, 32.21s/it, v_num=k8_1, total_loss_train=492, kl_local_train=185, metric_mi|age_categorical_train=0.258]"
     ]
    },
    {
     "name": "stdout",
     "output_type": "stream",
     "text": [
      "\r\n",
      "Epoch 94/600:  16%|█▌        | 94/600 [51:22<4:30:49, 32.11s/it, v_num=k8_1, total_loss_train=492, kl_local_train=185, metric_mi|age_categorical_train=0.258]"
     ]
    },
    {
     "name": "stdout",
     "output_type": "stream",
     "text": [
      "\r\n",
      "Epoch 94/600:  16%|█▌        | 94/600 [51:22<4:30:49, 32.11s/it, v_num=k8_1, total_loss_train=492, kl_local_train=185, metric_mi|age_categorical_train=0.258]"
     ]
    },
    {
     "name": "stdout",
     "output_type": "stream",
     "text": [
      "\r\n",
      "Epoch 95/600:  16%|█▌        | 94/600 [51:22<4:30:49, 32.11s/it, v_num=k8_1, total_loss_train=492, kl_local_train=185, metric_mi|age_categorical_train=0.258]"
     ]
    },
    {
     "name": "stdout",
     "output_type": "stream",
     "text": [
      "\r\n",
      "Epoch 95/600:  16%|█▌        | 95/600 [51:54<4:31:54, 32.31s/it, v_num=k8_1, total_loss_train=492, kl_local_train=185, metric_mi|age_categorical_train=0.258]"
     ]
    },
    {
     "name": "stdout",
     "output_type": "stream",
     "text": [
      "\r\n",
      "Epoch 95/600:  16%|█▌        | 95/600 [51:55<4:31:54, 32.31s/it, v_num=k8_1, total_loss_train=492, kl_local_train=184, metric_mi|age_categorical_train=0.258]"
     ]
    },
    {
     "name": "stdout",
     "output_type": "stream",
     "text": [
      "\r\n",
      "Epoch 96/600:  16%|█▌        | 95/600 [51:55<4:31:54, 32.31s/it, v_num=k8_1, total_loss_train=492, kl_local_train=184, metric_mi|age_categorical_train=0.258]"
     ]
    },
    {
     "name": "stdout",
     "output_type": "stream",
     "text": [
      "\r\n",
      "Epoch 96/600:  16%|█▌        | 96/600 [52:27<4:32:29, 32.44s/it, v_num=k8_1, total_loss_train=492, kl_local_train=184, metric_mi|age_categorical_train=0.258]"
     ]
    },
    {
     "name": "stdout",
     "output_type": "stream",
     "text": [
      "\r\n",
      "Epoch 96/600:  16%|█▌        | 96/600 [52:27<4:32:29, 32.44s/it, v_num=k8_1, total_loss_train=492, kl_local_train=183, metric_mi|age_categorical_train=0.261]"
     ]
    },
    {
     "name": "stdout",
     "output_type": "stream",
     "text": [
      "\r\n",
      "Epoch 97/600:  16%|█▌        | 96/600 [52:27<4:32:29, 32.44s/it, v_num=k8_1, total_loss_train=492, kl_local_train=183, metric_mi|age_categorical_train=0.261]"
     ]
    },
    {
     "name": "stdout",
     "output_type": "stream",
     "text": [
      "\r\n",
      "Epoch 97/600:  16%|█▌        | 97/600 [52:58<4:27:52, 31.95s/it, v_num=k8_1, total_loss_train=492, kl_local_train=183, metric_mi|age_categorical_train=0.261]"
     ]
    },
    {
     "name": "stdout",
     "output_type": "stream",
     "text": [
      "\r\n",
      "Epoch 97/600:  16%|█▌        | 97/600 [52:58<4:27:52, 31.95s/it, v_num=k8_1, total_loss_train=492, kl_local_train=181, metric_mi|age_categorical_train=0.261]"
     ]
    },
    {
     "name": "stdout",
     "output_type": "stream",
     "text": [
      "\r\n",
      "Epoch 98/600:  16%|█▌        | 97/600 [52:58<4:27:52, 31.95s/it, v_num=k8_1, total_loss_train=492, kl_local_train=181, metric_mi|age_categorical_train=0.261]"
     ]
    },
    {
     "name": "stdout",
     "output_type": "stream",
     "text": [
      "\r\n",
      "Epoch 98/600:  16%|█▋        | 98/600 [53:28<4:23:13, 31.46s/it, v_num=k8_1, total_loss_train=492, kl_local_train=181, metric_mi|age_categorical_train=0.261]"
     ]
    },
    {
     "name": "stdout",
     "output_type": "stream",
     "text": [
      "\r\n",
      "Epoch 98/600:  16%|█▋        | 98/600 [53:28<4:23:13, 31.46s/it, v_num=k8_1, total_loss_train=492, kl_local_train=182, metric_mi|age_categorical_train=0.261]"
     ]
    },
    {
     "name": "stdout",
     "output_type": "stream",
     "text": [
      "\r\n",
      "Epoch 99/600:  16%|█▋        | 98/600 [53:28<4:23:13, 31.46s/it, v_num=k8_1, total_loss_train=492, kl_local_train=182, metric_mi|age_categorical_train=0.261]"
     ]
    },
    {
     "name": "stdout",
     "output_type": "stream",
     "text": [
      "\r\n",
      "Epoch 99/600:  16%|█▋        | 99/600 [53:59<4:19:47, 31.11s/it, v_num=k8_1, total_loss_train=492, kl_local_train=182, metric_mi|age_categorical_train=0.261]"
     ]
    },
    {
     "name": "stdout",
     "output_type": "stream",
     "text": [
      "\r\n",
      "Epoch 99/600:  16%|█▋        | 99/600 [53:59<4:19:47, 31.11s/it, v_num=k8_1, total_loss_train=492, kl_local_train=181, metric_mi|age_categorical_train=0.261]"
     ]
    },
    {
     "name": "stdout",
     "output_type": "stream",
     "text": [
      "\r\n",
      "Epoch 100/600:  16%|█▋        | 99/600 [53:59<4:19:47, 31.11s/it, v_num=k8_1, total_loss_train=492, kl_local_train=181, metric_mi|age_categorical_train=0.261]"
     ]
    },
    {
     "name": "stdout",
     "output_type": "stream",
     "text": [
      "\r\n",
      "Epoch 100/600:  17%|█▋        | 100/600 [54:30<4:18:51, 31.06s/it, v_num=k8_1, total_loss_train=492, kl_local_train=181, metric_mi|age_categorical_train=0.261]"
     ]
    },
    {
     "name": "stdout",
     "output_type": "stream",
     "text": [
      "\r\n",
      "Epoch 100/600:  17%|█▋        | 100/600 [54:30<4:18:51, 31.06s/it, v_num=k8_1, total_loss_train=492, kl_local_train=181, metric_mi|age_categorical_train=0.261]"
     ]
    },
    {
     "name": "stdout",
     "output_type": "stream",
     "text": [
      "\r\n",
      "Epoch 101/600:  17%|█▋        | 100/600 [54:30<4:18:51, 31.06s/it, v_num=k8_1, total_loss_train=492, kl_local_train=181, metric_mi|age_categorical_train=0.261]"
     ]
    },
    {
     "name": "stdout",
     "output_type": "stream",
     "text": [
      "\r\n",
      "Epoch 101/600:  17%|█▋        | 101/600 [55:01<4:18:34, 31.09s/it, v_num=k8_1, total_loss_train=492, kl_local_train=181, metric_mi|age_categorical_train=0.261]"
     ]
    },
    {
     "name": "stdout",
     "output_type": "stream",
     "text": [
      "\r\n",
      "Epoch 101/600:  17%|█▋        | 101/600 [55:01<4:18:34, 31.09s/it, v_num=k8_1, total_loss_train=492, kl_local_train=178, metric_mi|age_categorical_train=0.246]"
     ]
    },
    {
     "name": "stdout",
     "output_type": "stream",
     "text": [
      "\r\n",
      "Epoch 102/600:  17%|█▋        | 101/600 [55:01<4:18:34, 31.09s/it, v_num=k8_1, total_loss_train=492, kl_local_train=178, metric_mi|age_categorical_train=0.246]"
     ]
    },
    {
     "name": "stdout",
     "output_type": "stream",
     "text": [
      "\r\n",
      "Epoch 102/600:  17%|█▋        | 102/600 [55:31<4:16:08, 30.86s/it, v_num=k8_1, total_loss_train=492, kl_local_train=178, metric_mi|age_categorical_train=0.246]"
     ]
    },
    {
     "name": "stdout",
     "output_type": "stream",
     "text": [
      "\r\n",
      "Epoch 102/600:  17%|█▋        | 102/600 [55:31<4:16:08, 30.86s/it, v_num=k8_1, total_loss_train=492, kl_local_train=179, metric_mi|age_categorical_train=0.246]"
     ]
    },
    {
     "name": "stdout",
     "output_type": "stream",
     "text": [
      "\r\n",
      "Epoch 103/600:  17%|█▋        | 102/600 [55:31<4:16:08, 30.86s/it, v_num=k8_1, total_loss_train=492, kl_local_train=179, metric_mi|age_categorical_train=0.246]"
     ]
    },
    {
     "name": "stdout",
     "output_type": "stream",
     "text": [
      "\r\n",
      "Epoch 103/600:  17%|█▋        | 103/600 [56:01<4:14:17, 30.70s/it, v_num=k8_1, total_loss_train=492, kl_local_train=179, metric_mi|age_categorical_train=0.246]"
     ]
    },
    {
     "name": "stdout",
     "output_type": "stream",
     "text": [
      "\r\n",
      "Epoch 103/600:  17%|█▋        | 103/600 [56:01<4:14:17, 30.70s/it, v_num=k8_1, total_loss_train=493, kl_local_train=180, metric_mi|age_categorical_train=0.246]"
     ]
    },
    {
     "name": "stdout",
     "output_type": "stream",
     "text": [
      "\r\n",
      "Epoch 104/600:  17%|█▋        | 103/600 [56:01<4:14:17, 30.70s/it, v_num=k8_1, total_loss_train=493, kl_local_train=180, metric_mi|age_categorical_train=0.246]"
     ]
    },
    {
     "name": "stdout",
     "output_type": "stream",
     "text": [
      "\r\n",
      "Epoch 104/600:  17%|█▋        | 104/600 [56:32<4:12:53, 30.59s/it, v_num=k8_1, total_loss_train=493, kl_local_train=180, metric_mi|age_categorical_train=0.246]"
     ]
    },
    {
     "name": "stdout",
     "output_type": "stream",
     "text": [
      "\r\n",
      "Epoch 104/600:  17%|█▋        | 104/600 [56:32<4:12:53, 30.59s/it, v_num=k8_1, total_loss_train=492, kl_local_train=175, metric_mi|age_categorical_train=0.246]"
     ]
    },
    {
     "name": "stdout",
     "output_type": "stream",
     "text": [
      "\r\n",
      "Epoch 105/600:  17%|█▋        | 104/600 [56:32<4:12:53, 30.59s/it, v_num=k8_1, total_loss_train=492, kl_local_train=175, metric_mi|age_categorical_train=0.246]"
     ]
    },
    {
     "name": "stdout",
     "output_type": "stream",
     "text": [
      "\r\n",
      "Epoch 105/600:  18%|█▊        | 105/600 [57:03<4:13:24, 30.72s/it, v_num=k8_1, total_loss_train=492, kl_local_train=175, metric_mi|age_categorical_train=0.246]"
     ]
    },
    {
     "name": "stdout",
     "output_type": "stream",
     "text": [
      "\r\n",
      "Epoch 105/600:  18%|█▊        | 105/600 [57:03<4:13:24, 30.72s/it, v_num=k8_1, total_loss_train=493, kl_local_train=175, metric_mi|age_categorical_train=0.246]"
     ]
    },
    {
     "name": "stdout",
     "output_type": "stream",
     "text": [
      "\r\n",
      "Epoch 106/600:  18%|█▊        | 105/600 [57:04<4:13:24, 30.72s/it, v_num=k8_1, total_loss_train=493, kl_local_train=175, metric_mi|age_categorical_train=0.246]"
     ]
    },
    {
     "name": "stdout",
     "output_type": "stream",
     "text": [
      "\r\n",
      "Epoch 106/600:  18%|█▊        | 106/600 [57:34<4:13:42, 30.82s/it, v_num=k8_1, total_loss_train=493, kl_local_train=175, metric_mi|age_categorical_train=0.246]"
     ]
    },
    {
     "name": "stdout",
     "output_type": "stream",
     "text": [
      "\r\n",
      "Epoch 106/600:  18%|█▊        | 106/600 [57:34<4:13:42, 30.82s/it, v_num=k8_1, total_loss_train=492, kl_local_train=176, metric_mi|age_categorical_train=0.266]"
     ]
    },
    {
     "name": "stdout",
     "output_type": "stream",
     "text": [
      "\r\n",
      "Epoch 107/600:  18%|█▊        | 106/600 [57:34<4:13:42, 30.82s/it, v_num=k8_1, total_loss_train=492, kl_local_train=176, metric_mi|age_categorical_train=0.266]"
     ]
    },
    {
     "name": "stdout",
     "output_type": "stream",
     "text": [
      "\r\n",
      "Epoch 107/600:  18%|█▊        | 107/600 [58:04<4:12:26, 30.72s/it, v_num=k8_1, total_loss_train=492, kl_local_train=176, metric_mi|age_categorical_train=0.266]"
     ]
    },
    {
     "name": "stdout",
     "output_type": "stream",
     "text": [
      "\r\n",
      "Epoch 107/600:  18%|█▊        | 107/600 [58:04<4:12:26, 30.72s/it, v_num=k8_1, total_loss_train=493, kl_local_train=174, metric_mi|age_categorical_train=0.266]"
     ]
    },
    {
     "name": "stdout",
     "output_type": "stream",
     "text": [
      "\r\n",
      "Epoch 108/600:  18%|█▊        | 107/600 [58:04<4:12:26, 30.72s/it, v_num=k8_1, total_loss_train=493, kl_local_train=174, metric_mi|age_categorical_train=0.266]"
     ]
    },
    {
     "name": "stdout",
     "output_type": "stream",
     "text": [
      "\r\n",
      "Epoch 108/600:  18%|█▊        | 108/600 [58:35<4:10:54, 30.60s/it, v_num=k8_1, total_loss_train=493, kl_local_train=174, metric_mi|age_categorical_train=0.266]"
     ]
    },
    {
     "name": "stdout",
     "output_type": "stream",
     "text": [
      "\r\n",
      "Epoch 108/600:  18%|█▊        | 108/600 [58:35<4:10:54, 30.60s/it, v_num=k8_1, total_loss_train=493, kl_local_train=175, metric_mi|age_categorical_train=0.266]"
     ]
    },
    {
     "name": "stdout",
     "output_type": "stream",
     "text": [
      "\r\n",
      "Epoch 109/600:  18%|█▊        | 108/600 [58:35<4:10:54, 30.60s/it, v_num=k8_1, total_loss_train=493, kl_local_train=175, metric_mi|age_categorical_train=0.266]"
     ]
    },
    {
     "name": "stdout",
     "output_type": "stream",
     "text": [
      "\r\n",
      "Epoch 109/600:  18%|█▊        | 109/600 [59:05<4:09:43, 30.52s/it, v_num=k8_1, total_loss_train=493, kl_local_train=175, metric_mi|age_categorical_train=0.266]"
     ]
    },
    {
     "name": "stdout",
     "output_type": "stream",
     "text": [
      "\r\n",
      "Epoch 109/600:  18%|█▊        | 109/600 [59:05<4:09:43, 30.52s/it, v_num=k8_1, total_loss_train=492, kl_local_train=174, metric_mi|age_categorical_train=0.266]"
     ]
    },
    {
     "name": "stdout",
     "output_type": "stream",
     "text": [
      "\r\n",
      "Epoch 110/600:  18%|█▊        | 109/600 [59:05<4:09:43, 30.52s/it, v_num=k8_1, total_loss_train=492, kl_local_train=174, metric_mi|age_categorical_train=0.266]"
     ]
    },
    {
     "name": "stdout",
     "output_type": "stream",
     "text": [
      "\r\n",
      "Epoch 110/600:  18%|█▊        | 110/600 [59:36<4:10:23, 30.66s/it, v_num=k8_1, total_loss_train=492, kl_local_train=174, metric_mi|age_categorical_train=0.266]"
     ]
    },
    {
     "name": "stdout",
     "output_type": "stream",
     "text": [
      "\r\n",
      "Epoch 110/600:  18%|█▊        | 110/600 [59:36<4:10:23, 30.66s/it, v_num=k8_1, total_loss_train=492, kl_local_train=171, metric_mi|age_categorical_train=0.266]"
     ]
    },
    {
     "name": "stdout",
     "output_type": "stream",
     "text": [
      "\r\n",
      "Epoch 111/600:  18%|█▊        | 110/600 [59:37<4:10:23, 30.66s/it, v_num=k8_1, total_loss_train=492, kl_local_train=171, metric_mi|age_categorical_train=0.266]"
     ]
    },
    {
     "name": "stdout",
     "output_type": "stream",
     "text": [
      "\r\n",
      "Epoch 111/600:  18%|█▊        | 111/600 [1:00:07<4:11:18, 30.84s/it, v_num=k8_1, total_loss_train=492, kl_local_train=171, metric_mi|age_categorical_train=0.266]"
     ]
    },
    {
     "name": "stdout",
     "output_type": "stream",
     "text": [
      "\r\n",
      "Epoch 111/600:  18%|█▊        | 111/600 [1:00:07<4:11:18, 30.84s/it, v_num=k8_1, total_loss_train=492, kl_local_train=172, metric_mi|age_categorical_train=0.264]"
     ]
    },
    {
     "name": "stdout",
     "output_type": "stream",
     "text": [
      "\r\n",
      "Epoch 112/600:  18%|█▊        | 111/600 [1:00:07<4:11:18, 30.84s/it, v_num=k8_1, total_loss_train=492, kl_local_train=172, metric_mi|age_categorical_train=0.264]"
     ]
    },
    {
     "name": "stdout",
     "output_type": "stream",
     "text": [
      "\r\n",
      "Epoch 112/600:  19%|█▊        | 112/600 [1:00:38<4:09:34, 30.69s/it, v_num=k8_1, total_loss_train=492, kl_local_train=172, metric_mi|age_categorical_train=0.264]"
     ]
    },
    {
     "name": "stdout",
     "output_type": "stream",
     "text": [
      "\r\n",
      "Epoch 112/600:  19%|█▊        | 112/600 [1:00:38<4:09:34, 30.69s/it, v_num=k8_1, total_loss_train=492, kl_local_train=169, metric_mi|age_categorical_train=0.264]"
     ]
    },
    {
     "name": "stdout",
     "output_type": "stream",
     "text": [
      "\r\n",
      "Epoch 113/600:  19%|█▊        | 112/600 [1:00:38<4:09:34, 30.69s/it, v_num=k8_1, total_loss_train=492, kl_local_train=169, metric_mi|age_categorical_train=0.264]"
     ]
    },
    {
     "name": "stdout",
     "output_type": "stream",
     "text": [
      "\r\n",
      "Epoch 113/600:  19%|█▉        | 113/600 [1:01:08<4:08:14, 30.58s/it, v_num=k8_1, total_loss_train=492, kl_local_train=169, metric_mi|age_categorical_train=0.264]"
     ]
    },
    {
     "name": "stdout",
     "output_type": "stream",
     "text": [
      "\r\n",
      "Epoch 113/600:  19%|█▉        | 113/600 [1:01:08<4:08:14, 30.58s/it, v_num=k8_1, total_loss_train=492, kl_local_train=169, metric_mi|age_categorical_train=0.264]"
     ]
    },
    {
     "name": "stdout",
     "output_type": "stream",
     "text": [
      "\r\n",
      "Epoch 114/600:  19%|█▉        | 113/600 [1:01:08<4:08:14, 30.58s/it, v_num=k8_1, total_loss_train=492, kl_local_train=169, metric_mi|age_categorical_train=0.264]"
     ]
    },
    {
     "name": "stdout",
     "output_type": "stream",
     "text": [
      "\r\n",
      "Epoch 114/600:  19%|█▉        | 114/600 [1:01:38<4:07:02, 30.50s/it, v_num=k8_1, total_loss_train=492, kl_local_train=169, metric_mi|age_categorical_train=0.264]"
     ]
    },
    {
     "name": "stdout",
     "output_type": "stream",
     "text": [
      "\r\n",
      "Epoch 114/600:  19%|█▉        | 114/600 [1:01:38<4:07:02, 30.50s/it, v_num=k8_1, total_loss_train=492, kl_local_train=169, metric_mi|age_categorical_train=0.264]"
     ]
    },
    {
     "name": "stdout",
     "output_type": "stream",
     "text": [
      "\r\n",
      "Epoch 115/600:  19%|█▉        | 114/600 [1:01:38<4:07:02, 30.50s/it, v_num=k8_1, total_loss_train=492, kl_local_train=169, metric_mi|age_categorical_train=0.264]"
     ]
    },
    {
     "name": "stdout",
     "output_type": "stream",
     "text": [
      "\r\n",
      "Epoch 115/600:  19%|█▉        | 115/600 [1:02:09<4:07:31, 30.62s/it, v_num=k8_1, total_loss_train=492, kl_local_train=169, metric_mi|age_categorical_train=0.264]"
     ]
    },
    {
     "name": "stdout",
     "output_type": "stream",
     "text": [
      "\r\n",
      "Epoch 115/600:  19%|█▉        | 115/600 [1:02:09<4:07:31, 30.62s/it, v_num=k8_1, total_loss_train=492, kl_local_train=169, metric_mi|age_categorical_train=0.264]"
     ]
    },
    {
     "name": "stdout",
     "output_type": "stream",
     "text": [
      "\r\n",
      "Epoch 116/600:  19%|█▉        | 115/600 [1:02:10<4:07:31, 30.62s/it, v_num=k8_1, total_loss_train=492, kl_local_train=169, metric_mi|age_categorical_train=0.264]"
     ]
    },
    {
     "name": "stdout",
     "output_type": "stream",
     "text": [
      "\r\n",
      "Epoch 116/600:  19%|█▉        | 116/600 [1:02:40<4:07:58, 30.74s/it, v_num=k8_1, total_loss_train=492, kl_local_train=169, metric_mi|age_categorical_train=0.264]"
     ]
    },
    {
     "name": "stdout",
     "output_type": "stream",
     "text": [
      "\r\n",
      "Epoch 116/600:  19%|█▉        | 116/600 [1:02:40<4:07:58, 30.74s/it, v_num=k8_1, total_loss_train=493, kl_local_train=168, metric_mi|age_categorical_train=0.243]"
     ]
    },
    {
     "name": "stdout",
     "output_type": "stream",
     "text": [
      "\r\n",
      "Epoch 117/600:  19%|█▉        | 116/600 [1:02:40<4:07:58, 30.74s/it, v_num=k8_1, total_loss_train=493, kl_local_train=168, metric_mi|age_categorical_train=0.243]"
     ]
    },
    {
     "name": "stdout",
     "output_type": "stream",
     "text": [
      "\r\n",
      "Epoch 117/600:  20%|█▉        | 117/600 [1:03:11<4:06:50, 30.66s/it, v_num=k8_1, total_loss_train=493, kl_local_train=168, metric_mi|age_categorical_train=0.243]"
     ]
    },
    {
     "name": "stdout",
     "output_type": "stream",
     "text": [
      "\r\n",
      "Epoch 117/600:  20%|█▉        | 117/600 [1:03:11<4:06:50, 30.66s/it, v_num=k8_1, total_loss_train=493, kl_local_train=169, metric_mi|age_categorical_train=0.243]"
     ]
    },
    {
     "name": "stdout",
     "output_type": "stream",
     "text": [
      "\r\n",
      "Epoch 118/600:  20%|█▉        | 117/600 [1:03:11<4:06:50, 30.66s/it, v_num=k8_1, total_loss_train=493, kl_local_train=169, metric_mi|age_categorical_train=0.243]"
     ]
    },
    {
     "name": "stdout",
     "output_type": "stream",
     "text": [
      "\r\n",
      "Epoch 118/600:  20%|█▉        | 118/600 [1:03:41<4:05:28, 30.56s/it, v_num=k8_1, total_loss_train=493, kl_local_train=169, metric_mi|age_categorical_train=0.243]"
     ]
    },
    {
     "name": "stdout",
     "output_type": "stream",
     "text": [
      "\r\n",
      "Epoch 118/600:  20%|█▉        | 118/600 [1:03:41<4:05:28, 30.56s/it, v_num=k8_1, total_loss_train=493, kl_local_train=167, metric_mi|age_categorical_train=0.243]"
     ]
    },
    {
     "name": "stdout",
     "output_type": "stream",
     "text": [
      "\r\n",
      "Epoch 119/600:  20%|█▉        | 118/600 [1:03:41<4:05:28, 30.56s/it, v_num=k8_1, total_loss_train=493, kl_local_train=167, metric_mi|age_categorical_train=0.243]"
     ]
    },
    {
     "name": "stdout",
     "output_type": "stream",
     "text": [
      "\r\n",
      "Epoch 119/600:  20%|█▉        | 119/600 [1:04:11<4:04:27, 30.49s/it, v_num=k8_1, total_loss_train=493, kl_local_train=167, metric_mi|age_categorical_train=0.243]"
     ]
    },
    {
     "name": "stdout",
     "output_type": "stream",
     "text": [
      "\r\n",
      "Epoch 119/600:  20%|█▉        | 119/600 [1:04:11<4:04:27, 30.49s/it, v_num=k8_1, total_loss_train=493, kl_local_train=166, metric_mi|age_categorical_train=0.243]"
     ]
    },
    {
     "name": "stdout",
     "output_type": "stream",
     "text": [
      "\r\n",
      "Epoch 120/600:  20%|█▉        | 119/600 [1:04:11<4:04:27, 30.49s/it, v_num=k8_1, total_loss_train=493, kl_local_train=166, metric_mi|age_categorical_train=0.243]"
     ]
    },
    {
     "name": "stdout",
     "output_type": "stream",
     "text": [
      "\r\n",
      "Epoch 120/600:  20%|██        | 120/600 [1:04:42<4:05:40, 30.71s/it, v_num=k8_1, total_loss_train=493, kl_local_train=166, metric_mi|age_categorical_train=0.243]"
     ]
    },
    {
     "name": "stdout",
     "output_type": "stream",
     "text": [
      "\r\n",
      "Epoch 120/600:  20%|██        | 120/600 [1:04:42<4:05:40, 30.71s/it, v_num=k8_1, total_loss_train=493, kl_local_train=165, metric_mi|age_categorical_train=0.243]"
     ]
    },
    {
     "name": "stdout",
     "output_type": "stream",
     "text": [
      "\r\n",
      "Epoch 121/600:  20%|██        | 120/600 [1:04:43<4:05:40, 30.71s/it, v_num=k8_1, total_loss_train=493, kl_local_train=165, metric_mi|age_categorical_train=0.243]"
     ]
    },
    {
     "name": "stdout",
     "output_type": "stream",
     "text": [
      "\r\n",
      "Epoch 121/600:  20%|██        | 121/600 [1:05:14<4:06:06, 30.83s/it, v_num=k8_1, total_loss_train=493, kl_local_train=165, metric_mi|age_categorical_train=0.243]"
     ]
    },
    {
     "name": "stdout",
     "output_type": "stream",
     "text": [
      "\r\n",
      "Epoch 121/600:  20%|██        | 121/600 [1:05:14<4:06:06, 30.83s/it, v_num=k8_1, total_loss_train=493, kl_local_train=166, metric_mi|age_categorical_train=0.246]"
     ]
    },
    {
     "name": "stdout",
     "output_type": "stream",
     "text": [
      "\r\n",
      "Epoch 122/600:  20%|██        | 121/600 [1:05:14<4:06:06, 30.83s/it, v_num=k8_1, total_loss_train=493, kl_local_train=166, metric_mi|age_categorical_train=0.246]"
     ]
    },
    {
     "name": "stdout",
     "output_type": "stream",
     "text": [
      "\r\n",
      "Epoch 122/600:  20%|██        | 122/600 [1:05:44<4:04:35, 30.70s/it, v_num=k8_1, total_loss_train=493, kl_local_train=166, metric_mi|age_categorical_train=0.246]"
     ]
    },
    {
     "name": "stdout",
     "output_type": "stream",
     "text": [
      "\r\n",
      "Epoch 122/600:  20%|██        | 122/600 [1:05:44<4:04:35, 30.70s/it, v_num=k8_1, total_loss_train=493, kl_local_train=165, metric_mi|age_categorical_train=0.246]"
     ]
    },
    {
     "name": "stdout",
     "output_type": "stream",
     "text": [
      "\r\n",
      "Epoch 123/600:  20%|██        | 122/600 [1:05:44<4:04:35, 30.70s/it, v_num=k8_1, total_loss_train=493, kl_local_train=165, metric_mi|age_categorical_train=0.246]"
     ]
    },
    {
     "name": "stdout",
     "output_type": "stream",
     "text": [
      "\r\n",
      "Epoch 123/600:  20%|██        | 123/600 [1:06:14<4:03:11, 30.59s/it, v_num=k8_1, total_loss_train=493, kl_local_train=165, metric_mi|age_categorical_train=0.246]"
     ]
    },
    {
     "name": "stdout",
     "output_type": "stream",
     "text": [
      "\r\n",
      "Epoch 123/600:  20%|██        | 123/600 [1:06:14<4:03:11, 30.59s/it, v_num=k8_1, total_loss_train=494, kl_local_train=165, metric_mi|age_categorical_train=0.246]"
     ]
    },
    {
     "name": "stdout",
     "output_type": "stream",
     "text": [
      "\r\n",
      "Epoch 124/600:  20%|██        | 123/600 [1:06:14<4:03:11, 30.59s/it, v_num=k8_1, total_loss_train=494, kl_local_train=165, metric_mi|age_categorical_train=0.246]"
     ]
    },
    {
     "name": "stdout",
     "output_type": "stream",
     "text": [
      "\r\n",
      "Epoch 124/600:  21%|██        | 124/600 [1:06:45<4:02:06, 30.52s/it, v_num=k8_1, total_loss_train=494, kl_local_train=165, metric_mi|age_categorical_train=0.246]"
     ]
    },
    {
     "name": "stdout",
     "output_type": "stream",
     "text": [
      "\r\n",
      "Epoch 124/600:  21%|██        | 124/600 [1:06:45<4:02:06, 30.52s/it, v_num=k8_1, total_loss_train=493, kl_local_train=163, metric_mi|age_categorical_train=0.246]"
     ]
    },
    {
     "name": "stdout",
     "output_type": "stream",
     "text": [
      "\r\n",
      "Epoch 125/600:  21%|██        | 124/600 [1:06:45<4:02:06, 30.52s/it, v_num=k8_1, total_loss_train=493, kl_local_train=163, metric_mi|age_categorical_train=0.246]"
     ]
    },
    {
     "name": "stdout",
     "output_type": "stream",
     "text": [
      "\r\n",
      "Epoch 125/600:  21%|██        | 125/600 [1:07:16<4:02:50, 30.67s/it, v_num=k8_1, total_loss_train=493, kl_local_train=163, metric_mi|age_categorical_train=0.246]"
     ]
    },
    {
     "name": "stdout",
     "output_type": "stream",
     "text": [
      "\r\n",
      "Epoch 125/600:  21%|██        | 125/600 [1:07:16<4:02:50, 30.67s/it, v_num=k8_1, total_loss_train=493, kl_local_train=162, metric_mi|age_categorical_train=0.246]"
     ]
    },
    {
     "name": "stdout",
     "output_type": "stream",
     "text": [
      "\r\n",
      "Epoch 126/600:  21%|██        | 125/600 [1:07:16<4:02:50, 30.67s/it, v_num=k8_1, total_loss_train=493, kl_local_train=162, metric_mi|age_categorical_train=0.246]"
     ]
    },
    {
     "name": "stdout",
     "output_type": "stream",
     "text": [
      "\r\n",
      "Epoch 126/600:  21%|██        | 126/600 [1:07:47<4:02:57, 30.76s/it, v_num=k8_1, total_loss_train=493, kl_local_train=162, metric_mi|age_categorical_train=0.246]"
     ]
    },
    {
     "name": "stdout",
     "output_type": "stream",
     "text": [
      "\r\n",
      "Epoch 126/600:  21%|██        | 126/600 [1:07:47<4:02:57, 30.76s/it, v_num=k8_1, total_loss_train=494, kl_local_train=163, metric_mi|age_categorical_train=0.247]"
     ]
    },
    {
     "name": "stdout",
     "output_type": "stream",
     "text": [
      "\r\n",
      "Epoch 127/600:  21%|██        | 126/600 [1:07:47<4:02:57, 30.76s/it, v_num=k8_1, total_loss_train=494, kl_local_train=163, metric_mi|age_categorical_train=0.247]"
     ]
    },
    {
     "name": "stdout",
     "output_type": "stream",
     "text": [
      "\r\n",
      "Epoch 127/600:  21%|██        | 127/600 [1:08:17<4:01:38, 30.65s/it, v_num=k8_1, total_loss_train=494, kl_local_train=163, metric_mi|age_categorical_train=0.247]"
     ]
    },
    {
     "name": "stdout",
     "output_type": "stream",
     "text": [
      "\r\n",
      "Epoch 127/600:  21%|██        | 127/600 [1:08:17<4:01:38, 30.65s/it, v_num=k8_1, total_loss_train=494, kl_local_train=162, metric_mi|age_categorical_train=0.247]"
     ]
    },
    {
     "name": "stdout",
     "output_type": "stream",
     "text": [
      "\r\n",
      "Epoch 128/600:  21%|██        | 127/600 [1:08:17<4:01:38, 30.65s/it, v_num=k8_1, total_loss_train=494, kl_local_train=162, metric_mi|age_categorical_train=0.247]"
     ]
    },
    {
     "name": "stdout",
     "output_type": "stream",
     "text": [
      "\r\n",
      "Epoch 128/600:  21%|██▏       | 128/600 [1:08:47<4:00:17, 30.55s/it, v_num=k8_1, total_loss_train=494, kl_local_train=162, metric_mi|age_categorical_train=0.247]"
     ]
    },
    {
     "name": "stdout",
     "output_type": "stream",
     "text": [
      "\r\n",
      "Epoch 128/600:  21%|██▏       | 128/600 [1:08:47<4:00:17, 30.55s/it, v_num=k8_1, total_loss_train=494, kl_local_train=161, metric_mi|age_categorical_train=0.247]"
     ]
    },
    {
     "name": "stdout",
     "output_type": "stream",
     "text": [
      "\r\n",
      "Epoch 129/600:  21%|██▏       | 128/600 [1:08:47<4:00:17, 30.55s/it, v_num=k8_1, total_loss_train=494, kl_local_train=161, metric_mi|age_categorical_train=0.247]"
     ]
    },
    {
     "name": "stdout",
     "output_type": "stream",
     "text": [
      "\r\n",
      "Epoch 129/600:  22%|██▏       | 129/600 [1:09:18<3:58:54, 30.43s/it, v_num=k8_1, total_loss_train=494, kl_local_train=161, metric_mi|age_categorical_train=0.247]"
     ]
    },
    {
     "name": "stdout",
     "output_type": "stream",
     "text": [
      "\r\n",
      "Epoch 129/600:  22%|██▏       | 129/600 [1:09:18<3:58:54, 30.43s/it, v_num=k8_1, total_loss_train=494, kl_local_train=160, metric_mi|age_categorical_train=0.247]"
     ]
    },
    {
     "name": "stdout",
     "output_type": "stream",
     "text": [
      "\r\n",
      "Epoch 130/600:  22%|██▏       | 129/600 [1:09:18<3:58:54, 30.43s/it, v_num=k8_1, total_loss_train=494, kl_local_train=160, metric_mi|age_categorical_train=0.247]"
     ]
    },
    {
     "name": "stdout",
     "output_type": "stream",
     "text": [
      "\r\n",
      "Epoch 130/600:  22%|██▏       | 130/600 [1:09:48<3:59:16, 30.55s/it, v_num=k8_1, total_loss_train=494, kl_local_train=160, metric_mi|age_categorical_train=0.247]"
     ]
    },
    {
     "name": "stdout",
     "output_type": "stream",
     "text": [
      "\r\n",
      "Epoch 130/600:  22%|██▏       | 130/600 [1:09:48<3:59:16, 30.55s/it, v_num=k8_1, total_loss_train=494, kl_local_train=161, metric_mi|age_categorical_train=0.247]"
     ]
    },
    {
     "name": "stdout",
     "output_type": "stream",
     "text": [
      "\r\n",
      "Epoch 131/600:  22%|██▏       | 130/600 [1:09:49<3:59:16, 30.55s/it, v_num=k8_1, total_loss_train=494, kl_local_train=161, metric_mi|age_categorical_train=0.247]"
     ]
    },
    {
     "name": "stdout",
     "output_type": "stream",
     "text": [
      "\r\n",
      "Epoch 131/600:  22%|██▏       | 131/600 [1:10:19<4:00:02, 30.71s/it, v_num=k8_1, total_loss_train=494, kl_local_train=161, metric_mi|age_categorical_train=0.247]"
     ]
    },
    {
     "name": "stdout",
     "output_type": "stream",
     "text": [
      "\r\n",
      "Epoch 131/600:  22%|██▏       | 131/600 [1:10:19<4:00:02, 30.71s/it, v_num=k8_1, total_loss_train=495, kl_local_train=160, metric_mi|age_categorical_train=0.246]"
     ]
    },
    {
     "name": "stdout",
     "output_type": "stream",
     "text": [
      "\r\n",
      "Epoch 132/600:  22%|██▏       | 131/600 [1:10:19<4:00:02, 30.71s/it, v_num=k8_1, total_loss_train=495, kl_local_train=160, metric_mi|age_categorical_train=0.246]"
     ]
    },
    {
     "name": "stdout",
     "output_type": "stream",
     "text": [
      "\r\n",
      "Epoch 132/600:  22%|██▏       | 132/600 [1:10:50<3:58:32, 30.58s/it, v_num=k8_1, total_loss_train=495, kl_local_train=160, metric_mi|age_categorical_train=0.246]"
     ]
    },
    {
     "name": "stdout",
     "output_type": "stream",
     "text": [
      "\r\n",
      "Epoch 132/600:  22%|██▏       | 132/600 [1:10:50<3:58:32, 30.58s/it, v_num=k8_1, total_loss_train=494, kl_local_train=160, metric_mi|age_categorical_train=0.246]"
     ]
    },
    {
     "name": "stdout",
     "output_type": "stream",
     "text": [
      "\r\n",
      "Epoch 133/600:  22%|██▏       | 132/600 [1:10:50<3:58:32, 30.58s/it, v_num=k8_1, total_loss_train=494, kl_local_train=160, metric_mi|age_categorical_train=0.246]"
     ]
    },
    {
     "name": "stdout",
     "output_type": "stream",
     "text": [
      "\r\n",
      "Epoch 133/600:  22%|██▏       | 133/600 [1:11:20<3:57:16, 30.48s/it, v_num=k8_1, total_loss_train=494, kl_local_train=160, metric_mi|age_categorical_train=0.246]"
     ]
    },
    {
     "name": "stdout",
     "output_type": "stream",
     "text": [
      "\r\n",
      "Epoch 133/600:  22%|██▏       | 133/600 [1:11:20<3:57:16, 30.48s/it, v_num=k8_1, total_loss_train=495, kl_local_train=158, metric_mi|age_categorical_train=0.246]"
     ]
    },
    {
     "name": "stdout",
     "output_type": "stream",
     "text": [
      "\r\n",
      "Epoch 134/600:  22%|██▏       | 133/600 [1:11:20<3:57:16, 30.48s/it, v_num=k8_1, total_loss_train=495, kl_local_train=158, metric_mi|age_categorical_train=0.246]"
     ]
    },
    {
     "name": "stdout",
     "output_type": "stream",
     "text": [
      "\r\n",
      "Epoch 134/600:  22%|██▏       | 134/600 [1:11:50<3:56:21, 30.43s/it, v_num=k8_1, total_loss_train=495, kl_local_train=158, metric_mi|age_categorical_train=0.246]"
     ]
    },
    {
     "name": "stdout",
     "output_type": "stream",
     "text": [
      "\r\n",
      "Epoch 134/600:  22%|██▏       | 134/600 [1:11:50<3:56:21, 30.43s/it, v_num=k8_1, total_loss_train=495, kl_local_train=158, metric_mi|age_categorical_train=0.246]"
     ]
    },
    {
     "name": "stdout",
     "output_type": "stream",
     "text": [
      "\r\n",
      "Epoch 135/600:  22%|██▏       | 134/600 [1:11:50<3:56:21, 30.43s/it, v_num=k8_1, total_loss_train=495, kl_local_train=158, metric_mi|age_categorical_train=0.246]"
     ]
    },
    {
     "name": "stdout",
     "output_type": "stream",
     "text": [
      "\r\n",
      "Epoch 135/600:  22%|██▎       | 135/600 [1:12:21<3:56:50, 30.56s/it, v_num=k8_1, total_loss_train=495, kl_local_train=158, metric_mi|age_categorical_train=0.246]"
     ]
    },
    {
     "name": "stdout",
     "output_type": "stream",
     "text": [
      "\r\n",
      "Epoch 135/600:  22%|██▎       | 135/600 [1:12:21<3:56:50, 30.56s/it, v_num=k8_1, total_loss_train=495, kl_local_train=157, metric_mi|age_categorical_train=0.246]"
     ]
    },
    {
     "name": "stdout",
     "output_type": "stream",
     "text": [
      "\r\n",
      "Epoch 136/600:  22%|██▎       | 135/600 [1:12:22<3:56:50, 30.56s/it, v_num=k8_1, total_loss_train=495, kl_local_train=157, metric_mi|age_categorical_train=0.246]"
     ]
    },
    {
     "name": "stdout",
     "output_type": "stream",
     "text": [
      "\r\n",
      "Epoch 136/600:  23%|██▎       | 136/600 [1:12:52<3:57:15, 30.68s/it, v_num=k8_1, total_loss_train=495, kl_local_train=157, metric_mi|age_categorical_train=0.246]"
     ]
    },
    {
     "name": "stdout",
     "output_type": "stream",
     "text": [
      "\r\n",
      "Epoch 136/600:  23%|██▎       | 136/600 [1:12:52<3:57:15, 30.68s/it, v_num=k8_1, total_loss_train=495, kl_local_train=156, metric_mi|age_categorical_train=0.239]"
     ]
    },
    {
     "name": "stdout",
     "output_type": "stream",
     "text": [
      "\r\n",
      "Epoch 137/600:  23%|██▎       | 136/600 [1:12:52<3:57:15, 30.68s/it, v_num=k8_1, total_loss_train=495, kl_local_train=156, metric_mi|age_categorical_train=0.239]"
     ]
    },
    {
     "name": "stdout",
     "output_type": "stream",
     "text": [
      "\r\n",
      "Epoch 137/600:  23%|██▎       | 137/600 [1:13:23<3:56:17, 30.62s/it, v_num=k8_1, total_loss_train=495, kl_local_train=156, metric_mi|age_categorical_train=0.239]"
     ]
    },
    {
     "name": "stdout",
     "output_type": "stream",
     "text": [
      "\r\n",
      "Epoch 137/600:  23%|██▎       | 137/600 [1:13:23<3:56:17, 30.62s/it, v_num=k8_1, total_loss_train=495, kl_local_train=156, metric_mi|age_categorical_train=0.239]"
     ]
    },
    {
     "name": "stdout",
     "output_type": "stream",
     "text": [
      "\r\n",
      "Epoch 138/600:  23%|██▎       | 137/600 [1:13:23<3:56:17, 30.62s/it, v_num=k8_1, total_loss_train=495, kl_local_train=156, metric_mi|age_categorical_train=0.239]"
     ]
    },
    {
     "name": "stdout",
     "output_type": "stream",
     "text": [
      "\r\n",
      "Epoch 138/600:  23%|██▎       | 138/600 [1:13:53<3:54:56, 30.51s/it, v_num=k8_1, total_loss_train=495, kl_local_train=156, metric_mi|age_categorical_train=0.239]"
     ]
    },
    {
     "name": "stdout",
     "output_type": "stream",
     "text": [
      "\r\n",
      "Epoch 138/600:  23%|██▎       | 138/600 [1:13:53<3:54:56, 30.51s/it, v_num=k8_1, total_loss_train=495, kl_local_train=156, metric_mi|age_categorical_train=0.239]"
     ]
    },
    {
     "name": "stdout",
     "output_type": "stream",
     "text": [
      "\r\n",
      "Epoch 139/600:  23%|██▎       | 138/600 [1:13:53<3:54:56, 30.51s/it, v_num=k8_1, total_loss_train=495, kl_local_train=156, metric_mi|age_categorical_train=0.239]"
     ]
    },
    {
     "name": "stdout",
     "output_type": "stream",
     "text": [
      "\r\n",
      "Epoch 139/600:  23%|██▎       | 139/600 [1:14:23<3:53:47, 30.43s/it, v_num=k8_1, total_loss_train=495, kl_local_train=156, metric_mi|age_categorical_train=0.239]"
     ]
    },
    {
     "name": "stdout",
     "output_type": "stream",
     "text": [
      "\r\n",
      "Epoch 139/600:  23%|██▎       | 139/600 [1:14:23<3:53:47, 30.43s/it, v_num=k8_1, total_loss_train=495, kl_local_train=156, metric_mi|age_categorical_train=0.239]"
     ]
    },
    {
     "name": "stdout",
     "output_type": "stream",
     "text": [
      "\r\n",
      "Epoch 140/600:  23%|██▎       | 139/600 [1:14:23<3:53:47, 30.43s/it, v_num=k8_1, total_loss_train=495, kl_local_train=156, metric_mi|age_categorical_train=0.239]"
     ]
    },
    {
     "name": "stdout",
     "output_type": "stream",
     "text": [
      "\r\n",
      "Epoch 140/600:  23%|██▎       | 140/600 [1:14:54<3:54:45, 30.62s/it, v_num=k8_1, total_loss_train=495, kl_local_train=156, metric_mi|age_categorical_train=0.239]"
     ]
    },
    {
     "name": "stdout",
     "output_type": "stream",
     "text": [
      "\r\n",
      "Epoch 140/600:  23%|██▎       | 140/600 [1:14:54<3:54:45, 30.62s/it, v_num=k8_1, total_loss_train=495, kl_local_train=155, metric_mi|age_categorical_train=0.239]"
     ]
    },
    {
     "name": "stdout",
     "output_type": "stream",
     "text": [
      "\r\n",
      "Epoch 141/600:  23%|██▎       | 140/600 [1:14:55<3:54:45, 30.62s/it, v_num=k8_1, total_loss_train=495, kl_local_train=155, metric_mi|age_categorical_train=0.239]"
     ]
    },
    {
     "name": "stdout",
     "output_type": "stream",
     "text": [
      "\r\n",
      "Epoch 141/600:  24%|██▎       | 141/600 [1:15:25<3:55:10, 30.74s/it, v_num=k8_1, total_loss_train=495, kl_local_train=155, metric_mi|age_categorical_train=0.239]"
     ]
    },
    {
     "name": "stdout",
     "output_type": "stream",
     "text": [
      "\r\n",
      "Epoch 141/600:  24%|██▎       | 141/600 [1:15:25<3:55:10, 30.74s/it, v_num=k8_1, total_loss_train=496, kl_local_train=154, metric_mi|age_categorical_train=0.251]"
     ]
    },
    {
     "name": "stdout",
     "output_type": "stream",
     "text": [
      "\r\n",
      "Epoch 142/600:  24%|██▎       | 141/600 [1:15:25<3:55:10, 30.74s/it, v_num=k8_1, total_loss_train=496, kl_local_train=154, metric_mi|age_categorical_train=0.251]"
     ]
    },
    {
     "name": "stdout",
     "output_type": "stream",
     "text": [
      "\r\n",
      "Epoch 142/600:  24%|██▎       | 142/600 [1:15:55<3:53:38, 30.61s/it, v_num=k8_1, total_loss_train=496, kl_local_train=154, metric_mi|age_categorical_train=0.251]"
     ]
    },
    {
     "name": "stdout",
     "output_type": "stream",
     "text": [
      "\r\n",
      "Epoch 142/600:  24%|██▎       | 142/600 [1:15:55<3:53:38, 30.61s/it, v_num=k8_1, total_loss_train=496, kl_local_train=153, metric_mi|age_categorical_train=0.251]"
     ]
    },
    {
     "name": "stdout",
     "output_type": "stream",
     "text": [
      "\r\n",
      "Epoch 143/600:  24%|██▎       | 142/600 [1:15:55<3:53:38, 30.61s/it, v_num=k8_1, total_loss_train=496, kl_local_train=153, metric_mi|age_categorical_train=0.251]"
     ]
    },
    {
     "name": "stdout",
     "output_type": "stream",
     "text": [
      "\r\n",
      "Epoch 143/600:  24%|██▍       | 143/600 [1:16:26<3:52:14, 30.49s/it, v_num=k8_1, total_loss_train=496, kl_local_train=153, metric_mi|age_categorical_train=0.251]"
     ]
    },
    {
     "name": "stdout",
     "output_type": "stream",
     "text": [
      "\r\n",
      "Epoch 143/600:  24%|██▍       | 143/600 [1:16:26<3:52:14, 30.49s/it, v_num=k8_1, total_loss_train=496, kl_local_train=154, metric_mi|age_categorical_train=0.251]"
     ]
    },
    {
     "name": "stdout",
     "output_type": "stream",
     "text": [
      "\r\n",
      "Epoch 144/600:  24%|██▍       | 143/600 [1:16:26<3:52:14, 30.49s/it, v_num=k8_1, total_loss_train=496, kl_local_train=154, metric_mi|age_categorical_train=0.251]"
     ]
    },
    {
     "name": "stdout",
     "output_type": "stream",
     "text": [
      "\r\n",
      "Epoch 144/600:  24%|██▍       | 144/600 [1:16:56<3:51:09, 30.42s/it, v_num=k8_1, total_loss_train=496, kl_local_train=154, metric_mi|age_categorical_train=0.251]"
     ]
    },
    {
     "name": "stdout",
     "output_type": "stream",
     "text": [
      "\r\n",
      "Epoch 144/600:  24%|██▍       | 144/600 [1:16:56<3:51:09, 30.42s/it, v_num=k8_1, total_loss_train=496, kl_local_train=152, metric_mi|age_categorical_train=0.251]"
     ]
    },
    {
     "name": "stdout",
     "output_type": "stream",
     "text": [
      "\r\n",
      "Epoch 145/600:  24%|██▍       | 144/600 [1:16:56<3:51:09, 30.42s/it, v_num=k8_1, total_loss_train=496, kl_local_train=152, metric_mi|age_categorical_train=0.251]"
     ]
    },
    {
     "name": "stdout",
     "output_type": "stream",
     "text": [
      "\r\n",
      "Epoch 145/600:  24%|██▍       | 145/600 [1:17:27<3:51:48, 30.57s/it, v_num=k8_1, total_loss_train=496, kl_local_train=152, metric_mi|age_categorical_train=0.251]"
     ]
    },
    {
     "name": "stdout",
     "output_type": "stream",
     "text": [
      "\r\n",
      "Epoch 145/600:  24%|██▍       | 145/600 [1:17:27<3:51:48, 30.57s/it, v_num=k8_1, total_loss_train=496, kl_local_train=151, metric_mi|age_categorical_train=0.251]"
     ]
    },
    {
     "name": "stdout",
     "output_type": "stream",
     "text": [
      "\r\n",
      "Epoch 146/600:  24%|██▍       | 145/600 [1:17:28<3:51:48, 30.57s/it, v_num=k8_1, total_loss_train=496, kl_local_train=151, metric_mi|age_categorical_train=0.251]"
     ]
    },
    {
     "name": "stdout",
     "output_type": "stream",
     "text": [
      "\r\n",
      "Epoch 146/600:  24%|██▍       | 146/600 [1:17:58<3:52:29, 30.73s/it, v_num=k8_1, total_loss_train=496, kl_local_train=151, metric_mi|age_categorical_train=0.251]"
     ]
    },
    {
     "name": "stdout",
     "output_type": "stream",
     "text": [
      "\r\n",
      "Epoch 146/600:  24%|██▍       | 146/600 [1:17:58<3:52:29, 30.73s/it, v_num=k8_1, total_loss_train=496, kl_local_train=152, metric_mi|age_categorical_train=0.238]"
     ]
    },
    {
     "name": "stdout",
     "output_type": "stream",
     "text": [
      "\r\n",
      "Epoch 147/600:  24%|██▍       | 146/600 [1:17:58<3:52:29, 30.73s/it, v_num=k8_1, total_loss_train=496, kl_local_train=152, metric_mi|age_categorical_train=0.238]"
     ]
    },
    {
     "name": "stdout",
     "output_type": "stream",
     "text": [
      "\r\n",
      "Epoch 147/600:  24%|██▍       | 147/600 [1:18:28<3:51:35, 30.68s/it, v_num=k8_1, total_loss_train=496, kl_local_train=152, metric_mi|age_categorical_train=0.238]"
     ]
    },
    {
     "name": "stdout",
     "output_type": "stream",
     "text": [
      "\r\n",
      "Epoch 147/600:  24%|██▍       | 147/600 [1:18:28<3:51:35, 30.68s/it, v_num=k8_1, total_loss_train=497, kl_local_train=153, metric_mi|age_categorical_train=0.238]"
     ]
    },
    {
     "name": "stdout",
     "output_type": "stream",
     "text": [
      "\r\n",
      "Epoch 148/600:  24%|██▍       | 147/600 [1:18:28<3:51:35, 30.68s/it, v_num=k8_1, total_loss_train=497, kl_local_train=153, metric_mi|age_categorical_train=0.238]"
     ]
    },
    {
     "name": "stdout",
     "output_type": "stream",
     "text": [
      "\r\n",
      "Epoch 148/600:  25%|██▍       | 148/600 [1:18:59<3:50:17, 30.57s/it, v_num=k8_1, total_loss_train=497, kl_local_train=153, metric_mi|age_categorical_train=0.238]"
     ]
    },
    {
     "name": "stdout",
     "output_type": "stream",
     "text": [
      "\r\n",
      "Epoch 148/600:  25%|██▍       | 148/600 [1:18:59<3:50:17, 30.57s/it, v_num=k8_1, total_loss_train=497, kl_local_train=152, metric_mi|age_categorical_train=0.238]"
     ]
    },
    {
     "name": "stdout",
     "output_type": "stream",
     "text": [
      "\r\n",
      "Epoch 149/600:  25%|██▍       | 148/600 [1:18:59<3:50:17, 30.57s/it, v_num=k8_1, total_loss_train=497, kl_local_train=152, metric_mi|age_categorical_train=0.238]"
     ]
    },
    {
     "name": "stdout",
     "output_type": "stream",
     "text": [
      "\r\n",
      "Epoch 149/600:  25%|██▍       | 149/600 [1:19:29<3:49:15, 30.50s/it, v_num=k8_1, total_loss_train=497, kl_local_train=152, metric_mi|age_categorical_train=0.238]"
     ]
    },
    {
     "name": "stdout",
     "output_type": "stream",
     "text": [
      "\r\n",
      "Epoch 149/600:  25%|██▍       | 149/600 [1:19:29<3:49:15, 30.50s/it, v_num=k8_1, total_loss_train=497, kl_local_train=151, metric_mi|age_categorical_train=0.238]"
     ]
    },
    {
     "name": "stdout",
     "output_type": "stream",
     "text": [
      "\r\n",
      "Epoch 150/600:  25%|██▍       | 149/600 [1:19:29<3:49:15, 30.50s/it, v_num=k8_1, total_loss_train=497, kl_local_train=151, metric_mi|age_categorical_train=0.238]"
     ]
    },
    {
     "name": "stdout",
     "output_type": "stream",
     "text": [
      "\r\n",
      "Epoch 150/600:  25%|██▌       | 150/600 [1:20:00<3:49:05, 30.54s/it, v_num=k8_1, total_loss_train=497, kl_local_train=151, metric_mi|age_categorical_train=0.238]"
     ]
    },
    {
     "name": "stdout",
     "output_type": "stream",
     "text": [
      "\r\n",
      "Epoch 150/600:  25%|██▌       | 150/600 [1:20:00<3:49:05, 30.54s/it, v_num=k8_1, total_loss_train=497, kl_local_train=151, metric_mi|age_categorical_train=0.238]"
     ]
    },
    {
     "name": "stdout",
     "output_type": "stream",
     "text": [
      "\r\n",
      "Epoch 151/600:  25%|██▌       | 150/600 [1:20:01<3:49:05, 30.54s/it, v_num=k8_1, total_loss_train=497, kl_local_train=151, metric_mi|age_categorical_train=0.238]"
     ]
    },
    {
     "name": "stdout",
     "output_type": "stream",
     "text": [
      "\r\n",
      "Epoch 151/600:  25%|██▌       | 151/600 [1:20:31<3:49:58, 30.73s/it, v_num=k8_1, total_loss_train=497, kl_local_train=151, metric_mi|age_categorical_train=0.238]"
     ]
    },
    {
     "name": "stdout",
     "output_type": "stream",
     "text": [
      "\r\n",
      "Epoch 151/600:  25%|██▌       | 151/600 [1:20:31<3:49:58, 30.73s/it, v_num=k8_1, total_loss_train=497, kl_local_train=150, metric_mi|age_categorical_train=0.269]"
     ]
    },
    {
     "name": "stdout",
     "output_type": "stream",
     "text": [
      "\r\n",
      "Epoch 152/600:  25%|██▌       | 151/600 [1:20:31<3:49:58, 30.73s/it, v_num=k8_1, total_loss_train=497, kl_local_train=150, metric_mi|age_categorical_train=0.269]"
     ]
    },
    {
     "name": "stdout",
     "output_type": "stream",
     "text": [
      "\r\n",
      "Epoch 152/600:  25%|██▌       | 152/600 [1:21:01<3:48:30, 30.60s/it, v_num=k8_1, total_loss_train=497, kl_local_train=150, metric_mi|age_categorical_train=0.269]"
     ]
    },
    {
     "name": "stdout",
     "output_type": "stream",
     "text": [
      "\r\n",
      "Epoch 152/600:  25%|██▌       | 152/600 [1:21:01<3:48:30, 30.60s/it, v_num=k8_1, total_loss_train=497, kl_local_train=150, metric_mi|age_categorical_train=0.269]"
     ]
    },
    {
     "name": "stdout",
     "output_type": "stream",
     "text": [
      "\r\n",
      "Epoch 153/600:  25%|██▌       | 152/600 [1:21:01<3:48:30, 30.60s/it, v_num=k8_1, total_loss_train=497, kl_local_train=150, metric_mi|age_categorical_train=0.269]"
     ]
    },
    {
     "name": "stdout",
     "output_type": "stream",
     "text": [
      "\r\n",
      "Epoch 153/600:  26%|██▌       | 153/600 [1:21:32<3:47:15, 30.50s/it, v_num=k8_1, total_loss_train=497, kl_local_train=150, metric_mi|age_categorical_train=0.269]"
     ]
    },
    {
     "name": "stdout",
     "output_type": "stream",
     "text": [
      "\r\n",
      "Epoch 153/600:  26%|██▌       | 153/600 [1:21:32<3:47:15, 30.50s/it, v_num=k8_1, total_loss_train=498, kl_local_train=150, metric_mi|age_categorical_train=0.269]"
     ]
    },
    {
     "name": "stdout",
     "output_type": "stream",
     "text": [
      "\r\n",
      "Epoch 154/600:  26%|██▌       | 153/600 [1:21:32<3:47:15, 30.50s/it, v_num=k8_1, total_loss_train=498, kl_local_train=150, metric_mi|age_categorical_train=0.269]"
     ]
    },
    {
     "name": "stdout",
     "output_type": "stream",
     "text": [
      "\r\n",
      "Epoch 154/600:  26%|██▌       | 154/600 [1:22:02<3:46:11, 30.43s/it, v_num=k8_1, total_loss_train=498, kl_local_train=150, metric_mi|age_categorical_train=0.269]"
     ]
    },
    {
     "name": "stdout",
     "output_type": "stream",
     "text": [
      "\r\n",
      "Epoch 154/600:  26%|██▌       | 154/600 [1:22:02<3:46:11, 30.43s/it, v_num=k8_1, total_loss_train=498, kl_local_train=149, metric_mi|age_categorical_train=0.269]"
     ]
    },
    {
     "name": "stdout",
     "output_type": "stream",
     "text": [
      "\r\n",
      "Epoch 155/600:  26%|██▌       | 154/600 [1:22:02<3:46:11, 30.43s/it, v_num=k8_1, total_loss_train=498, kl_local_train=149, metric_mi|age_categorical_train=0.269]"
     ]
    },
    {
     "name": "stdout",
     "output_type": "stream",
     "text": [
      "\r\n",
      "Epoch 155/600:  26%|██▌       | 155/600 [1:22:32<3:45:48, 30.45s/it, v_num=k8_1, total_loss_train=498, kl_local_train=149, metric_mi|age_categorical_train=0.269]"
     ]
    },
    {
     "name": "stdout",
     "output_type": "stream",
     "text": [
      "\r\n",
      "Epoch 155/600:  26%|██▌       | 155/600 [1:22:32<3:45:48, 30.45s/it, v_num=k8_1, total_loss_train=498, kl_local_train=148, metric_mi|age_categorical_train=0.269]"
     ]
    },
    {
     "name": "stdout",
     "output_type": "stream",
     "text": [
      "\r\n",
      "Epoch 156/600:  26%|██▌       | 155/600 [1:22:33<3:45:48, 30.45s/it, v_num=k8_1, total_loss_train=498, kl_local_train=148, metric_mi|age_categorical_train=0.269]"
     ]
    },
    {
     "name": "stdout",
     "output_type": "stream",
     "text": [
      "\r\n",
      "Epoch 156/600:  26%|██▌       | 156/600 [1:23:03<3:46:34, 30.62s/it, v_num=k8_1, total_loss_train=498, kl_local_train=148, metric_mi|age_categorical_train=0.269]"
     ]
    },
    {
     "name": "stdout",
     "output_type": "stream",
     "text": [
      "\r\n",
      "Epoch 156/600:  26%|██▌       | 156/600 [1:23:03<3:46:34, 30.62s/it, v_num=k8_1, total_loss_train=497, kl_local_train=148, metric_mi|age_categorical_train=0.257]"
     ]
    },
    {
     "name": "stdout",
     "output_type": "stream",
     "text": [
      "\r\n",
      "Epoch 157/600:  26%|██▌       | 156/600 [1:23:03<3:46:34, 30.62s/it, v_num=k8_1, total_loss_train=497, kl_local_train=148, metric_mi|age_categorical_train=0.257]"
     ]
    },
    {
     "name": "stdout",
     "output_type": "stream",
     "text": [
      "\r\n",
      "Epoch 157/600:  26%|██▌       | 157/600 [1:23:34<3:45:40, 30.57s/it, v_num=k8_1, total_loss_train=497, kl_local_train=148, metric_mi|age_categorical_train=0.257]"
     ]
    },
    {
     "name": "stdout",
     "output_type": "stream",
     "text": [
      "\r\n",
      "Epoch 157/600:  26%|██▌       | 157/600 [1:23:34<3:45:40, 30.57s/it, v_num=k8_1, total_loss_train=498, kl_local_train=147, metric_mi|age_categorical_train=0.257]"
     ]
    },
    {
     "name": "stdout",
     "output_type": "stream",
     "text": [
      "\r\n",
      "Epoch 158/600:  26%|██▌       | 157/600 [1:23:34<3:45:40, 30.57s/it, v_num=k8_1, total_loss_train=498, kl_local_train=147, metric_mi|age_categorical_train=0.257]"
     ]
    },
    {
     "name": "stdout",
     "output_type": "stream",
     "text": [
      "\r\n",
      "Epoch 158/600:  26%|██▋       | 158/600 [1:24:04<3:44:28, 30.47s/it, v_num=k8_1, total_loss_train=498, kl_local_train=147, metric_mi|age_categorical_train=0.257]"
     ]
    },
    {
     "name": "stdout",
     "output_type": "stream",
     "text": [
      "\r\n",
      "Epoch 158/600:  26%|██▋       | 158/600 [1:24:04<3:44:28, 30.47s/it, v_num=k8_1, total_loss_train=498, kl_local_train=147, metric_mi|age_categorical_train=0.257]"
     ]
    },
    {
     "name": "stdout",
     "output_type": "stream",
     "text": [
      "\r\n",
      "Epoch 159/600:  26%|██▋       | 158/600 [1:24:04<3:44:28, 30.47s/it, v_num=k8_1, total_loss_train=498, kl_local_train=147, metric_mi|age_categorical_train=0.257]"
     ]
    },
    {
     "name": "stdout",
     "output_type": "stream",
     "text": [
      "\r\n",
      "Epoch 159/600:  26%|██▋       | 159/600 [1:24:34<3:43:29, 30.41s/it, v_num=k8_1, total_loss_train=498, kl_local_train=147, metric_mi|age_categorical_train=0.257]"
     ]
    },
    {
     "name": "stdout",
     "output_type": "stream",
     "text": [
      "\r\n",
      "Epoch 159/600:  26%|██▋       | 159/600 [1:24:34<3:43:29, 30.41s/it, v_num=k8_1, total_loss_train=498, kl_local_train=147, metric_mi|age_categorical_train=0.257]"
     ]
    },
    {
     "name": "stdout",
     "output_type": "stream",
     "text": [
      "\r\n",
      "Epoch 160/600:  26%|██▋       | 159/600 [1:24:34<3:43:29, 30.41s/it, v_num=k8_1, total_loss_train=498, kl_local_train=147, metric_mi|age_categorical_train=0.257]"
     ]
    },
    {
     "name": "stdout",
     "output_type": "stream",
     "text": [
      "\r\n",
      "Epoch 160/600:  27%|██▋       | 160/600 [1:25:05<3:42:53, 30.39s/it, v_num=k8_1, total_loss_train=498, kl_local_train=147, metric_mi|age_categorical_train=0.257]"
     ]
    },
    {
     "name": "stdout",
     "output_type": "stream",
     "text": [
      "\r\n",
      "Epoch 160/600:  27%|██▋       | 160/600 [1:25:05<3:42:53, 30.39s/it, v_num=k8_1, total_loss_train=498, kl_local_train=146, metric_mi|age_categorical_train=0.257]"
     ]
    },
    {
     "name": "stdout",
     "output_type": "stream",
     "text": [
      "\r\n",
      "Epoch 161/600:  27%|██▋       | 160/600 [1:25:05<3:42:53, 30.39s/it, v_num=k8_1, total_loss_train=498, kl_local_train=146, metric_mi|age_categorical_train=0.257]"
     ]
    },
    {
     "name": "stdout",
     "output_type": "stream",
     "text": [
      "\r\n",
      "Epoch 161/600:  27%|██▋       | 161/600 [1:25:36<3:43:49, 30.59s/it, v_num=k8_1, total_loss_train=498, kl_local_train=146, metric_mi|age_categorical_train=0.257]"
     ]
    },
    {
     "name": "stdout",
     "output_type": "stream",
     "text": [
      "\r\n",
      "Epoch 161/600:  27%|██▋       | 161/600 [1:25:36<3:43:49, 30.59s/it, v_num=k8_1, total_loss_train=498, kl_local_train=146, metric_mi|age_categorical_train=0.244]"
     ]
    },
    {
     "name": "stdout",
     "output_type": "stream",
     "text": [
      "\r\n",
      "Epoch 162/600:  27%|██▋       | 161/600 [1:25:36<3:43:49, 30.59s/it, v_num=k8_1, total_loss_train=498, kl_local_train=146, metric_mi|age_categorical_train=0.244]"
     ]
    },
    {
     "name": "stdout",
     "output_type": "stream",
     "text": [
      "\r\n",
      "Epoch 162/600:  27%|██▋       | 162/600 [1:26:06<3:42:50, 30.53s/it, v_num=k8_1, total_loss_train=498, kl_local_train=146, metric_mi|age_categorical_train=0.244]"
     ]
    },
    {
     "name": "stdout",
     "output_type": "stream",
     "text": [
      "\r\n",
      "Epoch 162/600:  27%|██▋       | 162/600 [1:26:06<3:42:50, 30.53s/it, v_num=k8_1, total_loss_train=498, kl_local_train=146, metric_mi|age_categorical_train=0.244]"
     ]
    },
    {
     "name": "stdout",
     "output_type": "stream",
     "text": [
      "\r\n",
      "Epoch 163/600:  27%|██▋       | 162/600 [1:26:06<3:42:50, 30.53s/it, v_num=k8_1, total_loss_train=498, kl_local_train=146, metric_mi|age_categorical_train=0.244]"
     ]
    },
    {
     "name": "stdout",
     "output_type": "stream",
     "text": [
      "\r\n",
      "Epoch 163/600:  27%|██▋       | 163/600 [1:26:36<3:42:04, 30.49s/it, v_num=k8_1, total_loss_train=498, kl_local_train=146, metric_mi|age_categorical_train=0.244]"
     ]
    },
    {
     "name": "stdout",
     "output_type": "stream",
     "text": [
      "\r\n",
      "Epoch 163/600:  27%|██▋       | 163/600 [1:26:36<3:42:04, 30.49s/it, v_num=k8_1, total_loss_train=498, kl_local_train=145, metric_mi|age_categorical_train=0.244]"
     ]
    },
    {
     "name": "stdout",
     "output_type": "stream",
     "text": [
      "\r\n",
      "Epoch 164/600:  27%|██▋       | 163/600 [1:26:36<3:42:04, 30.49s/it, v_num=k8_1, total_loss_train=498, kl_local_train=145, metric_mi|age_categorical_train=0.244]"
     ]
    },
    {
     "name": "stdout",
     "output_type": "stream",
     "text": [
      "\r\n",
      "Epoch 164/600:  27%|██▋       | 164/600 [1:27:07<3:41:18, 30.45s/it, v_num=k8_1, total_loss_train=498, kl_local_train=145, metric_mi|age_categorical_train=0.244]"
     ]
    },
    {
     "name": "stdout",
     "output_type": "stream",
     "text": [
      "\r\n",
      "Epoch 164/600:  27%|██▋       | 164/600 [1:27:07<3:41:18, 30.45s/it, v_num=k8_1, total_loss_train=499, kl_local_train=146, metric_mi|age_categorical_train=0.244]"
     ]
    },
    {
     "name": "stdout",
     "output_type": "stream",
     "text": [
      "\r\n",
      "Epoch 165/600:  27%|██▋       | 164/600 [1:27:07<3:41:18, 30.45s/it, v_num=k8_1, total_loss_train=499, kl_local_train=146, metric_mi|age_categorical_train=0.244]"
     ]
    },
    {
     "name": "stdout",
     "output_type": "stream",
     "text": [
      "\r\n",
      "Epoch 165/600:  28%|██▊       | 165/600 [1:27:38<3:41:47, 30.59s/it, v_num=k8_1, total_loss_train=499, kl_local_train=146, metric_mi|age_categorical_train=0.244]"
     ]
    },
    {
     "name": "stdout",
     "output_type": "stream",
     "text": [
      "\r\n",
      "Epoch 165/600:  28%|██▊       | 165/600 [1:27:38<3:41:47, 30.59s/it, v_num=k8_1, total_loss_train=499, kl_local_train=145, metric_mi|age_categorical_train=0.244]"
     ]
    },
    {
     "name": "stdout",
     "output_type": "stream",
     "text": [
      "\r\n",
      "Epoch 166/600:  28%|██▊       | 165/600 [1:27:38<3:41:47, 30.59s/it, v_num=k8_1, total_loss_train=499, kl_local_train=145, metric_mi|age_categorical_train=0.244]"
     ]
    },
    {
     "name": "stdout",
     "output_type": "stream",
     "text": [
      "\r\n",
      "Epoch 166/600:  28%|██▊       | 166/600 [1:28:09<3:42:38, 30.78s/it, v_num=k8_1, total_loss_train=499, kl_local_train=145, metric_mi|age_categorical_train=0.244]"
     ]
    },
    {
     "name": "stdout",
     "output_type": "stream",
     "text": [
      "\r\n",
      "Epoch 166/600:  28%|██▊       | 166/600 [1:28:09<3:42:38, 30.78s/it, v_num=k8_1, total_loss_train=499, kl_local_train=144, metric_mi|age_categorical_train=0.248]"
     ]
    },
    {
     "name": "stdout",
     "output_type": "stream",
     "text": [
      "\r\n",
      "Epoch 167/600:  28%|██▊       | 166/600 [1:28:09<3:42:38, 30.78s/it, v_num=k8_1, total_loss_train=499, kl_local_train=144, metric_mi|age_categorical_train=0.248]"
     ]
    },
    {
     "name": "stdout",
     "output_type": "stream",
     "text": [
      "\r\n",
      "Epoch 167/600:  28%|██▊       | 167/600 [1:28:40<3:41:58, 30.76s/it, v_num=k8_1, total_loss_train=499, kl_local_train=144, metric_mi|age_categorical_train=0.248]"
     ]
    },
    {
     "name": "stdout",
     "output_type": "stream",
     "text": [
      "\r\n",
      "Epoch 167/600:  28%|██▊       | 167/600 [1:28:40<3:41:58, 30.76s/it, v_num=k8_1, total_loss_train=499, kl_local_train=144, metric_mi|age_categorical_train=0.248]"
     ]
    },
    {
     "name": "stdout",
     "output_type": "stream",
     "text": [
      "\r\n",
      "Epoch 168/600:  28%|██▊       | 167/600 [1:28:40<3:41:58, 30.76s/it, v_num=k8_1, total_loss_train=499, kl_local_train=144, metric_mi|age_categorical_train=0.248]"
     ]
    },
    {
     "name": "stdout",
     "output_type": "stream",
     "text": [
      "\r\n",
      "Epoch 168/600:  28%|██▊       | 168/600 [1:29:10<3:40:42, 30.65s/it, v_num=k8_1, total_loss_train=499, kl_local_train=144, metric_mi|age_categorical_train=0.248]"
     ]
    },
    {
     "name": "stdout",
     "output_type": "stream",
     "text": [
      "\r\n",
      "Epoch 168/600:  28%|██▊       | 168/600 [1:29:10<3:40:42, 30.65s/it, v_num=k8_1, total_loss_train=499, kl_local_train=144, metric_mi|age_categorical_train=0.248]"
     ]
    },
    {
     "name": "stdout",
     "output_type": "stream",
     "text": [
      "\r\n",
      "Epoch 169/600:  28%|██▊       | 168/600 [1:29:10<3:40:42, 30.65s/it, v_num=k8_1, total_loss_train=499, kl_local_train=144, metric_mi|age_categorical_train=0.248]"
     ]
    },
    {
     "name": "stdout",
     "output_type": "stream",
     "text": [
      "\r\n",
      "Epoch 169/600:  28%|██▊       | 169/600 [1:29:40<3:39:38, 30.58s/it, v_num=k8_1, total_loss_train=499, kl_local_train=144, metric_mi|age_categorical_train=0.248]"
     ]
    },
    {
     "name": "stdout",
     "output_type": "stream",
     "text": [
      "\r\n",
      "Epoch 169/600:  28%|██▊       | 169/600 [1:29:40<3:39:38, 30.58s/it, v_num=k8_1, total_loss_train=499, kl_local_train=143, metric_mi|age_categorical_train=0.248]"
     ]
    },
    {
     "name": "stdout",
     "output_type": "stream",
     "text": [
      "\r\n",
      "Epoch 170/600:  28%|██▊       | 169/600 [1:29:40<3:39:38, 30.58s/it, v_num=k8_1, total_loss_train=499, kl_local_train=143, metric_mi|age_categorical_train=0.248]"
     ]
    },
    {
     "name": "stdout",
     "output_type": "stream",
     "text": [
      "\r\n",
      "Epoch 170/600:  28%|██▊       | 170/600 [1:30:12<3:40:12, 30.73s/it, v_num=k8_1, total_loss_train=499, kl_local_train=143, metric_mi|age_categorical_train=0.248]"
     ]
    },
    {
     "name": "stdout",
     "output_type": "stream",
     "text": [
      "\r\n",
      "Epoch 170/600:  28%|██▊       | 170/600 [1:30:12<3:40:12, 30.73s/it, v_num=k8_1, total_loss_train=500, kl_local_train=143, metric_mi|age_categorical_train=0.248]"
     ]
    },
    {
     "name": "stdout",
     "output_type": "stream",
     "text": [
      "\r\n",
      "Epoch 171/600:  28%|██▊       | 170/600 [1:30:12<3:40:12, 30.73s/it, v_num=k8_1, total_loss_train=500, kl_local_train=143, metric_mi|age_categorical_train=0.248]"
     ]
    },
    {
     "name": "stdout",
     "output_type": "stream",
     "text": [
      "\r\n",
      "Epoch 171/600:  28%|██▊       | 171/600 [1:30:43<3:40:54, 30.90s/it, v_num=k8_1, total_loss_train=500, kl_local_train=143, metric_mi|age_categorical_train=0.248]"
     ]
    },
    {
     "name": "stdout",
     "output_type": "stream",
     "text": [
      "\r\n",
      "Epoch 171/600:  28%|██▊       | 171/600 [1:30:43<3:40:54, 30.90s/it, v_num=k8_1, total_loss_train=500, kl_local_train=143, metric_mi|age_categorical_train=0.243]"
     ]
    },
    {
     "name": "stdout",
     "output_type": "stream",
     "text": [
      "\r\n",
      "Epoch 172/600:  28%|██▊       | 171/600 [1:30:43<3:40:54, 30.90s/it, v_num=k8_1, total_loss_train=500, kl_local_train=143, metric_mi|age_categorical_train=0.243]"
     ]
    },
    {
     "name": "stdout",
     "output_type": "stream",
     "text": [
      "\r\n",
      "Epoch 172/600:  29%|██▊       | 172/600 [1:31:15<3:42:53, 31.25s/it, v_num=k8_1, total_loss_train=500, kl_local_train=143, metric_mi|age_categorical_train=0.243]"
     ]
    },
    {
     "name": "stdout",
     "output_type": "stream",
     "text": [
      "\r\n",
      "Epoch 172/600:  29%|██▊       | 172/600 [1:31:15<3:42:53, 31.25s/it, v_num=k8_1, total_loss_train=500, kl_local_train=141, metric_mi|age_categorical_train=0.243]"
     ]
    },
    {
     "name": "stdout",
     "output_type": "stream",
     "text": [
      "\r\n",
      "Epoch 173/600:  29%|██▊       | 172/600 [1:31:15<3:42:53, 31.25s/it, v_num=k8_1, total_loss_train=500, kl_local_train=141, metric_mi|age_categorical_train=0.243]"
     ]
    },
    {
     "name": "stdout",
     "output_type": "stream",
     "text": [
      "\r\n",
      "Epoch 173/600:  29%|██▉       | 173/600 [1:31:47<3:44:13, 31.51s/it, v_num=k8_1, total_loss_train=500, kl_local_train=141, metric_mi|age_categorical_train=0.243]"
     ]
    },
    {
     "name": "stdout",
     "output_type": "stream",
     "text": [
      "\r\n",
      "Epoch 173/600:  29%|██▉       | 173/600 [1:31:47<3:44:13, 31.51s/it, v_num=k8_1, total_loss_train=500, kl_local_train=141, metric_mi|age_categorical_train=0.243]"
     ]
    },
    {
     "name": "stdout",
     "output_type": "stream",
     "text": [
      "\r\n",
      "Epoch 174/600:  29%|██▉       | 173/600 [1:31:47<3:44:13, 31.51s/it, v_num=k8_1, total_loss_train=500, kl_local_train=141, metric_mi|age_categorical_train=0.243]"
     ]
    },
    {
     "name": "stdout",
     "output_type": "stream",
     "text": [
      "\r\n",
      "Epoch 174/600:  29%|██▉       | 174/600 [1:32:19<3:45:22, 31.74s/it, v_num=k8_1, total_loss_train=500, kl_local_train=141, metric_mi|age_categorical_train=0.243]"
     ]
    },
    {
     "name": "stdout",
     "output_type": "stream",
     "text": [
      "\r\n",
      "Epoch 174/600:  29%|██▉       | 174/600 [1:32:19<3:45:22, 31.74s/it, v_num=k8_1, total_loss_train=500, kl_local_train=141, metric_mi|age_categorical_train=0.243]"
     ]
    },
    {
     "name": "stdout",
     "output_type": "stream",
     "text": [
      "\r\n",
      "Epoch 175/600:  29%|██▉       | 174/600 [1:32:19<3:45:22, 31.74s/it, v_num=k8_1, total_loss_train=500, kl_local_train=141, metric_mi|age_categorical_train=0.243]"
     ]
    },
    {
     "name": "stdout",
     "output_type": "stream",
     "text": [
      "\r\n",
      "Epoch 175/600:  29%|██▉       | 175/600 [1:32:52<3:46:27, 31.97s/it, v_num=k8_1, total_loss_train=500, kl_local_train=141, metric_mi|age_categorical_train=0.243]"
     ]
    },
    {
     "name": "stdout",
     "output_type": "stream",
     "text": [
      "\r\n",
      "Epoch 175/600:  29%|██▉       | 175/600 [1:32:52<3:46:27, 31.97s/it, v_num=k8_1, total_loss_train=500, kl_local_train=140, metric_mi|age_categorical_train=0.243]"
     ]
    },
    {
     "name": "stdout",
     "output_type": "stream",
     "text": [
      "\r\n",
      "Epoch 176/600:  29%|██▉       | 175/600 [1:32:53<3:46:27, 31.97s/it, v_num=k8_1, total_loss_train=500, kl_local_train=140, metric_mi|age_categorical_train=0.243]"
     ]
    },
    {
     "name": "stdout",
     "output_type": "stream",
     "text": [
      "\r\n",
      "Epoch 176/600:  29%|██▉       | 176/600 [1:33:25<3:48:04, 32.28s/it, v_num=k8_1, total_loss_train=500, kl_local_train=140, metric_mi|age_categorical_train=0.243]"
     ]
    },
    {
     "name": "stdout",
     "output_type": "stream",
     "text": [
      "\r\n",
      "Epoch 176/600:  29%|██▉       | 176/600 [1:33:25<3:48:04, 32.28s/it, v_num=k8_1, total_loss_train=501, kl_local_train=140, metric_mi|age_categorical_train=0.255]"
     ]
    },
    {
     "name": "stdout",
     "output_type": "stream",
     "text": [
      "\r\n",
      "Epoch 177/600:  29%|██▉       | 176/600 [1:33:25<3:48:04, 32.28s/it, v_num=k8_1, total_loss_train=501, kl_local_train=140, metric_mi|age_categorical_train=0.255]"
     ]
    },
    {
     "name": "stdout",
     "output_type": "stream",
     "text": [
      "\r\n",
      "Epoch 177/600:  30%|██▉       | 177/600 [1:33:57<3:48:06, 32.36s/it, v_num=k8_1, total_loss_train=501, kl_local_train=140, metric_mi|age_categorical_train=0.255]"
     ]
    },
    {
     "name": "stdout",
     "output_type": "stream",
     "text": [
      "\r\n",
      "Epoch 177/600:  30%|██▉       | 177/600 [1:33:57<3:48:06, 32.36s/it, v_num=k8_1, total_loss_train=501, kl_local_train=141, metric_mi|age_categorical_train=0.255]"
     ]
    },
    {
     "name": "stdout",
     "output_type": "stream",
     "text": [
      "\r\n",
      "Epoch 178/600:  30%|██▉       | 177/600 [1:33:57<3:48:06, 32.36s/it, v_num=k8_1, total_loss_train=501, kl_local_train=141, metric_mi|age_categorical_train=0.255]"
     ]
    },
    {
     "name": "stdout",
     "output_type": "stream",
     "text": [
      "\r\n",
      "Epoch 178/600:  30%|██▉       | 178/600 [1:34:30<3:47:26, 32.34s/it, v_num=k8_1, total_loss_train=501, kl_local_train=141, metric_mi|age_categorical_train=0.255]"
     ]
    },
    {
     "name": "stdout",
     "output_type": "stream",
     "text": [
      "\r\n",
      "Epoch 178/600:  30%|██▉       | 178/600 [1:34:30<3:47:26, 32.34s/it, v_num=k8_1, total_loss_train=500, kl_local_train=139, metric_mi|age_categorical_train=0.255]"
     ]
    },
    {
     "name": "stdout",
     "output_type": "stream",
     "text": [
      "\r\n",
      "Epoch 179/600:  30%|██▉       | 178/600 [1:34:30<3:47:26, 32.34s/it, v_num=k8_1, total_loss_train=500, kl_local_train=139, metric_mi|age_categorical_train=0.255]"
     ]
    },
    {
     "name": "stdout",
     "output_type": "stream",
     "text": [
      "\r\n",
      "Epoch 179/600:  30%|██▉       | 179/600 [1:35:02<3:47:03, 32.36s/it, v_num=k8_1, total_loss_train=500, kl_local_train=139, metric_mi|age_categorical_train=0.255]"
     ]
    },
    {
     "name": "stdout",
     "output_type": "stream",
     "text": [
      "\r\n",
      "Epoch 179/600:  30%|██▉       | 179/600 [1:35:02<3:47:03, 32.36s/it, v_num=k8_1, total_loss_train=501, kl_local_train=138, metric_mi|age_categorical_train=0.255]"
     ]
    },
    {
     "name": "stdout",
     "output_type": "stream",
     "text": [
      "\r\n",
      "Epoch 180/600:  30%|██▉       | 179/600 [1:35:02<3:47:03, 32.36s/it, v_num=k8_1, total_loss_train=501, kl_local_train=138, metric_mi|age_categorical_train=0.255]"
     ]
    },
    {
     "name": "stdout",
     "output_type": "stream",
     "text": [
      "\r\n",
      "Epoch 180/600:  30%|███       | 180/600 [1:35:35<3:47:34, 32.51s/it, v_num=k8_1, total_loss_train=501, kl_local_train=138, metric_mi|age_categorical_train=0.255]"
     ]
    },
    {
     "name": "stdout",
     "output_type": "stream",
     "text": [
      "\r\n",
      "Epoch 180/600:  30%|███       | 180/600 [1:35:35<3:47:34, 32.51s/it, v_num=k8_1, total_loss_train=501, kl_local_train=138, metric_mi|age_categorical_train=0.255]"
     ]
    },
    {
     "name": "stdout",
     "output_type": "stream",
     "text": [
      "\r\n",
      "Epoch 181/600:  30%|███       | 180/600 [1:35:36<3:47:34, 32.51s/it, v_num=k8_1, total_loss_train=501, kl_local_train=138, metric_mi|age_categorical_train=0.255]"
     ]
    },
    {
     "name": "stdout",
     "output_type": "stream",
     "text": [
      "\r\n",
      "Epoch 181/600:  30%|███       | 181/600 [1:36:08<3:48:00, 32.65s/it, v_num=k8_1, total_loss_train=501, kl_local_train=138, metric_mi|age_categorical_train=0.255]"
     ]
    },
    {
     "name": "stdout",
     "output_type": "stream",
     "text": [
      "\r\n",
      "Epoch 181/600:  30%|███       | 181/600 [1:36:08<3:48:00, 32.65s/it, v_num=k8_1, total_loss_train=501, kl_local_train=137, metric_mi|age_categorical_train=0.252]"
     ]
    },
    {
     "name": "stdout",
     "output_type": "stream",
     "text": [
      "\r\n",
      "Epoch 182/600:  30%|███       | 181/600 [1:36:08<3:48:00, 32.65s/it, v_num=k8_1, total_loss_train=501, kl_local_train=137, metric_mi|age_categorical_train=0.252]"
     ]
    },
    {
     "name": "stdout",
     "output_type": "stream",
     "text": [
      "\r\n",
      "Epoch 182/600:  30%|███       | 182/600 [1:36:40<3:46:04, 32.45s/it, v_num=k8_1, total_loss_train=501, kl_local_train=137, metric_mi|age_categorical_train=0.252]"
     ]
    },
    {
     "name": "stdout",
     "output_type": "stream",
     "text": [
      "\r\n",
      "Epoch 182/600:  30%|███       | 182/600 [1:36:40<3:46:04, 32.45s/it, v_num=k8_1, total_loss_train=501, kl_local_train=137, metric_mi|age_categorical_train=0.252]"
     ]
    },
    {
     "name": "stdout",
     "output_type": "stream",
     "text": [
      "\r\n",
      "Epoch 183/600:  30%|███       | 182/600 [1:36:40<3:46:04, 32.45s/it, v_num=k8_1, total_loss_train=501, kl_local_train=137, metric_mi|age_categorical_train=0.252]"
     ]
    },
    {
     "name": "stdout",
     "output_type": "stream",
     "text": [
      "\r\n",
      "Epoch 183/600:  30%|███       | 183/600 [1:37:12<3:44:46, 32.34s/it, v_num=k8_1, total_loss_train=501, kl_local_train=137, metric_mi|age_categorical_train=0.252]"
     ]
    },
    {
     "name": "stdout",
     "output_type": "stream",
     "text": [
      "\r\n",
      "Epoch 183/600:  30%|███       | 183/600 [1:37:12<3:44:46, 32.34s/it, v_num=k8_1, total_loss_train=501, kl_local_train=136, metric_mi|age_categorical_train=0.252]"
     ]
    },
    {
     "name": "stdout",
     "output_type": "stream",
     "text": [
      "\r\n",
      "Epoch 184/600:  30%|███       | 183/600 [1:37:12<3:44:46, 32.34s/it, v_num=k8_1, total_loss_train=501, kl_local_train=136, metric_mi|age_categorical_train=0.252]"
     ]
    },
    {
     "name": "stdout",
     "output_type": "stream",
     "text": [
      "\r\n",
      "Epoch 184/600:  31%|███       | 184/600 [1:37:44<3:43:23, 32.22s/it, v_num=k8_1, total_loss_train=501, kl_local_train=136, metric_mi|age_categorical_train=0.252]"
     ]
    },
    {
     "name": "stdout",
     "output_type": "stream",
     "text": [
      "\r\n",
      "Epoch 184/600:  31%|███       | 184/600 [1:37:44<3:43:23, 32.22s/it, v_num=k8_1, total_loss_train=502, kl_local_train=136, metric_mi|age_categorical_train=0.252]"
     ]
    },
    {
     "name": "stdout",
     "output_type": "stream",
     "text": [
      "\r\n",
      "Epoch 185/600:  31%|███       | 184/600 [1:37:44<3:43:23, 32.22s/it, v_num=k8_1, total_loss_train=502, kl_local_train=136, metric_mi|age_categorical_train=0.252]"
     ]
    },
    {
     "name": "stdout",
     "output_type": "stream",
     "text": [
      "\r\n",
      "Epoch 185/600:  31%|███       | 185/600 [1:38:16<3:43:20, 32.29s/it, v_num=k8_1, total_loss_train=502, kl_local_train=136, metric_mi|age_categorical_train=0.252]"
     ]
    },
    {
     "name": "stdout",
     "output_type": "stream",
     "text": [
      "\r\n",
      "Epoch 185/600:  31%|███       | 185/600 [1:38:16<3:43:20, 32.29s/it, v_num=k8_1, total_loss_train=502, kl_local_train=138, metric_mi|age_categorical_train=0.252]"
     ]
    },
    {
     "name": "stdout",
     "output_type": "stream",
     "text": [
      "\r\n",
      "Epoch 186/600:  31%|███       | 185/600 [1:38:17<3:43:20, 32.29s/it, v_num=k8_1, total_loss_train=502, kl_local_train=138, metric_mi|age_categorical_train=0.252]"
     ]
    },
    {
     "name": "stdout",
     "output_type": "stream",
     "text": [
      "\r\n",
      "Epoch 186/600:  31%|███       | 186/600 [1:38:49<3:43:47, 32.43s/it, v_num=k8_1, total_loss_train=502, kl_local_train=138, metric_mi|age_categorical_train=0.252]"
     ]
    },
    {
     "name": "stdout",
     "output_type": "stream",
     "text": [
      "\r\n",
      "Epoch 186/600:  31%|███       | 186/600 [1:38:49<3:43:47, 32.43s/it, v_num=k8_1, total_loss_train=502, kl_local_train=137, metric_mi|age_categorical_train=0.259]"
     ]
    },
    {
     "name": "stdout",
     "output_type": "stream",
     "text": [
      "\r\n",
      "Epoch 187/600:  31%|███       | 186/600 [1:38:49<3:43:47, 32.43s/it, v_num=k8_1, total_loss_train=502, kl_local_train=137, metric_mi|age_categorical_train=0.259]"
     ]
    },
    {
     "name": "stdout",
     "output_type": "stream",
     "text": [
      "\r\n",
      "Epoch 187/600:  31%|███       | 187/600 [1:39:21<3:42:34, 32.33s/it, v_num=k8_1, total_loss_train=502, kl_local_train=137, metric_mi|age_categorical_train=0.259]"
     ]
    },
    {
     "name": "stdout",
     "output_type": "stream",
     "text": [
      "\r\n",
      "Epoch 187/600:  31%|███       | 187/600 [1:39:21<3:42:34, 32.33s/it, v_num=k8_1, total_loss_train=502, kl_local_train=136, metric_mi|age_categorical_train=0.259]"
     ]
    },
    {
     "name": "stdout",
     "output_type": "stream",
     "text": [
      "\r\n",
      "Epoch 188/600:  31%|███       | 187/600 [1:39:21<3:42:34, 32.33s/it, v_num=k8_1, total_loss_train=502, kl_local_train=136, metric_mi|age_categorical_train=0.259]"
     ]
    },
    {
     "name": "stdout",
     "output_type": "stream",
     "text": [
      "\r\n",
      "Epoch 188/600:  31%|███▏      | 188/600 [1:39:53<3:41:23, 32.24s/it, v_num=k8_1, total_loss_train=502, kl_local_train=136, metric_mi|age_categorical_train=0.259]"
     ]
    },
    {
     "name": "stdout",
     "output_type": "stream",
     "text": [
      "\r\n",
      "Epoch 188/600:  31%|███▏      | 188/600 [1:39:53<3:41:23, 32.24s/it, v_num=k8_1, total_loss_train=502, kl_local_train=135, metric_mi|age_categorical_train=0.259]"
     ]
    },
    {
     "name": "stdout",
     "output_type": "stream",
     "text": [
      "\r\n",
      "Epoch 189/600:  31%|███▏      | 188/600 [1:39:53<3:41:23, 32.24s/it, v_num=k8_1, total_loss_train=502, kl_local_train=135, metric_mi|age_categorical_train=0.259]"
     ]
    },
    {
     "name": "stdout",
     "output_type": "stream",
     "text": [
      "\r\n",
      "Epoch 189/600:  32%|███▏      | 189/600 [1:40:25<3:40:48, 32.24s/it, v_num=k8_1, total_loss_train=502, kl_local_train=135, metric_mi|age_categorical_train=0.259]"
     ]
    },
    {
     "name": "stdout",
     "output_type": "stream",
     "text": [
      "\r\n",
      "Epoch 189/600:  32%|███▏      | 189/600 [1:40:25<3:40:48, 32.24s/it, v_num=k8_1, total_loss_train=503, kl_local_train=136, metric_mi|age_categorical_train=0.259]"
     ]
    },
    {
     "name": "stdout",
     "output_type": "stream",
     "text": [
      "\r\n",
      "Epoch 190/600:  32%|███▏      | 189/600 [1:40:25<3:40:48, 32.24s/it, v_num=k8_1, total_loss_train=503, kl_local_train=136, metric_mi|age_categorical_train=0.259]"
     ]
    },
    {
     "name": "stdout",
     "output_type": "stream",
     "text": [
      "\r\n",
      "Epoch 190/600:  32%|███▏      | 190/600 [1:40:58<3:41:39, 32.44s/it, v_num=k8_1, total_loss_train=503, kl_local_train=136, metric_mi|age_categorical_train=0.259]"
     ]
    },
    {
     "name": "stdout",
     "output_type": "stream",
     "text": [
      "\r\n",
      "Epoch 190/600:  32%|███▏      | 190/600 [1:40:58<3:41:39, 32.44s/it, v_num=k8_1, total_loss_train=503, kl_local_train=135, metric_mi|age_categorical_train=0.259]"
     ]
    },
    {
     "name": "stdout",
     "output_type": "stream",
     "text": [
      "\r\n",
      "Epoch 191/600:  32%|███▏      | 190/600 [1:40:59<3:41:39, 32.44s/it, v_num=k8_1, total_loss_train=503, kl_local_train=135, metric_mi|age_categorical_train=0.259]"
     ]
    },
    {
     "name": "stdout",
     "output_type": "stream",
     "text": [
      "\r\n",
      "Epoch 191/600:  32%|███▏      | 191/600 [1:41:31<3:41:59, 32.57s/it, v_num=k8_1, total_loss_train=503, kl_local_train=135, metric_mi|age_categorical_train=0.259]"
     ]
    },
    {
     "name": "stdout",
     "output_type": "stream",
     "text": [
      "\r\n",
      "Epoch 191/600:  32%|███▏      | 191/600 [1:41:31<3:41:59, 32.57s/it, v_num=k8_1, total_loss_train=502, kl_local_train=134, metric_mi|age_categorical_train=0.244]"
     ]
    },
    {
     "name": "stdout",
     "output_type": "stream",
     "text": [
      "\r\n",
      "Epoch 192/600:  32%|███▏      | 191/600 [1:41:31<3:41:59, 32.57s/it, v_num=k8_1, total_loss_train=502, kl_local_train=134, metric_mi|age_categorical_train=0.244]"
     ]
    },
    {
     "name": "stdout",
     "output_type": "stream",
     "text": [
      "\r\n",
      "Epoch 192/600:  32%|███▏      | 192/600 [1:42:03<3:40:27, 32.42s/it, v_num=k8_1, total_loss_train=502, kl_local_train=134, metric_mi|age_categorical_train=0.244]"
     ]
    },
    {
     "name": "stdout",
     "output_type": "stream",
     "text": [
      "\r\n",
      "Epoch 192/600:  32%|███▏      | 192/600 [1:42:03<3:40:27, 32.42s/it, v_num=k8_1, total_loss_train=503, kl_local_train=135, metric_mi|age_categorical_train=0.244]"
     ]
    },
    {
     "name": "stdout",
     "output_type": "stream",
     "text": [
      "\r\n",
      "Epoch 193/600:  32%|███▏      | 192/600 [1:42:03<3:40:27, 32.42s/it, v_num=k8_1, total_loss_train=503, kl_local_train=135, metric_mi|age_categorical_train=0.244]"
     ]
    },
    {
     "name": "stdout",
     "output_type": "stream",
     "text": [
      "\r\n",
      "Epoch 193/600:  32%|███▏      | 193/600 [1:42:35<3:39:17, 32.33s/it, v_num=k8_1, total_loss_train=503, kl_local_train=135, metric_mi|age_categorical_train=0.244]"
     ]
    },
    {
     "name": "stdout",
     "output_type": "stream",
     "text": [
      "\r\n",
      "Epoch 193/600:  32%|███▏      | 193/600 [1:42:35<3:39:17, 32.33s/it, v_num=k8_1, total_loss_train=503, kl_local_train=132, metric_mi|age_categorical_train=0.244]"
     ]
    },
    {
     "name": "stdout",
     "output_type": "stream",
     "text": [
      "\r\n",
      "Epoch 194/600:  32%|███▏      | 193/600 [1:42:35<3:39:17, 32.33s/it, v_num=k8_1, total_loss_train=503, kl_local_train=132, metric_mi|age_categorical_train=0.244]"
     ]
    },
    {
     "name": "stdout",
     "output_type": "stream",
     "text": [
      "\r\n",
      "Epoch 194/600:  32%|███▏      | 194/600 [1:43:08<3:38:35, 32.30s/it, v_num=k8_1, total_loss_train=503, kl_local_train=132, metric_mi|age_categorical_train=0.244]"
     ]
    },
    {
     "name": "stdout",
     "output_type": "stream",
     "text": [
      "\r\n",
      "Epoch 194/600:  32%|███▏      | 194/600 [1:43:08<3:38:35, 32.30s/it, v_num=k8_1, total_loss_train=503, kl_local_train=133, metric_mi|age_categorical_train=0.244]"
     ]
    },
    {
     "name": "stdout",
     "output_type": "stream",
     "text": [
      "\r\n",
      "Epoch 195/600:  32%|███▏      | 194/600 [1:43:08<3:38:35, 32.30s/it, v_num=k8_1, total_loss_train=503, kl_local_train=133, metric_mi|age_categorical_train=0.244]"
     ]
    },
    {
     "name": "stdout",
     "output_type": "stream",
     "text": [
      "\r\n",
      "Epoch 195/600:  32%|███▎      | 195/600 [1:43:40<3:38:29, 32.37s/it, v_num=k8_1, total_loss_train=503, kl_local_train=133, metric_mi|age_categorical_train=0.244]"
     ]
    },
    {
     "name": "stdout",
     "output_type": "stream",
     "text": [
      "\r\n",
      "Epoch 195/600:  32%|███▎      | 195/600 [1:43:40<3:38:29, 32.37s/it, v_num=k8_1, total_loss_train=503, kl_local_train=133, metric_mi|age_categorical_train=0.244]"
     ]
    },
    {
     "name": "stdout",
     "output_type": "stream",
     "text": [
      "\r\n",
      "Epoch 196/600:  32%|███▎      | 195/600 [1:43:41<3:38:29, 32.37s/it, v_num=k8_1, total_loss_train=503, kl_local_train=133, metric_mi|age_categorical_train=0.244]"
     ]
    },
    {
     "name": "stdout",
     "output_type": "stream",
     "text": [
      "\r\n",
      "Epoch 196/600:  33%|███▎      | 196/600 [1:44:13<3:38:55, 32.51s/it, v_num=k8_1, total_loss_train=503, kl_local_train=133, metric_mi|age_categorical_train=0.244]"
     ]
    },
    {
     "name": "stdout",
     "output_type": "stream",
     "text": [
      "\r\n",
      "Epoch 196/600:  33%|███▎      | 196/600 [1:44:13<3:38:55, 32.51s/it, v_num=k8_1, total_loss_train=503, kl_local_train=133, metric_mi|age_categorical_train=0.25] "
     ]
    },
    {
     "name": "stdout",
     "output_type": "stream",
     "text": [
      "\r\n",
      "Epoch 197/600:  33%|███▎      | 196/600 [1:44:13<3:38:55, 32.51s/it, v_num=k8_1, total_loss_train=503, kl_local_train=133, metric_mi|age_categorical_train=0.25]"
     ]
    },
    {
     "name": "stdout",
     "output_type": "stream",
     "text": [
      "\r\n",
      "Epoch 197/600:  33%|███▎      | 197/600 [1:44:45<3:37:11, 32.34s/it, v_num=k8_1, total_loss_train=503, kl_local_train=133, metric_mi|age_categorical_train=0.25]"
     ]
    },
    {
     "name": "stdout",
     "output_type": "stream",
     "text": [
      "\r\n",
      "Epoch 197/600:  33%|███▎      | 197/600 [1:44:45<3:37:11, 32.34s/it, v_num=k8_1, total_loss_train=503, kl_local_train=132, metric_mi|age_categorical_train=0.25]"
     ]
    },
    {
     "name": "stdout",
     "output_type": "stream",
     "text": [
      "\r\n",
      "Epoch 198/600:  33%|███▎      | 197/600 [1:44:45<3:37:11, 32.34s/it, v_num=k8_1, total_loss_train=503, kl_local_train=132, metric_mi|age_categorical_train=0.25]"
     ]
    },
    {
     "name": "stdout",
     "output_type": "stream",
     "text": [
      "\r\n",
      "Epoch 198/600:  33%|███▎      | 198/600 [1:45:17<3:35:53, 32.22s/it, v_num=k8_1, total_loss_train=503, kl_local_train=132, metric_mi|age_categorical_train=0.25]"
     ]
    },
    {
     "name": "stdout",
     "output_type": "stream",
     "text": [
      "\r\n",
      "Epoch 198/600:  33%|███▎      | 198/600 [1:45:17<3:35:53, 32.22s/it, v_num=k8_1, total_loss_train=503, kl_local_train=132, metric_mi|age_categorical_train=0.25]"
     ]
    },
    {
     "name": "stdout",
     "output_type": "stream",
     "text": [
      "\r\n",
      "Epoch 199/600:  33%|███▎      | 198/600 [1:45:17<3:35:53, 32.22s/it, v_num=k8_1, total_loss_train=503, kl_local_train=132, metric_mi|age_categorical_train=0.25]"
     ]
    },
    {
     "name": "stdout",
     "output_type": "stream",
     "text": [
      "\r\n",
      "Epoch 199/600:  33%|███▎      | 199/600 [1:45:49<3:34:55, 32.16s/it, v_num=k8_1, total_loss_train=503, kl_local_train=132, metric_mi|age_categorical_train=0.25]"
     ]
    },
    {
     "name": "stdout",
     "output_type": "stream",
     "text": [
      "\r\n",
      "Epoch 199/600:  33%|███▎      | 199/600 [1:45:49<3:34:55, 32.16s/it, v_num=k8_1, total_loss_train=503, kl_local_train=132, metric_mi|age_categorical_train=0.25]"
     ]
    },
    {
     "name": "stdout",
     "output_type": "stream",
     "text": [
      "\r\n",
      "Epoch 200/600:  33%|███▎      | 199/600 [1:45:49<3:34:55, 32.16s/it, v_num=k8_1, total_loss_train=503, kl_local_train=132, metric_mi|age_categorical_train=0.25]"
     ]
    },
    {
     "name": "stdout",
     "output_type": "stream",
     "text": [
      "\r\n",
      "Epoch 200/600:  33%|███▎      | 200/600 [1:46:21<3:35:06, 32.27s/it, v_num=k8_1, total_loss_train=503, kl_local_train=132, metric_mi|age_categorical_train=0.25]"
     ]
    },
    {
     "name": "stdout",
     "output_type": "stream",
     "text": [
      "\r\n",
      "Epoch 200/600:  33%|███▎      | 200/600 [1:46:21<3:35:06, 32.27s/it, v_num=k8_1, total_loss_train=503, kl_local_train=131, metric_mi|age_categorical_train=0.25]"
     ]
    },
    {
     "name": "stdout",
     "output_type": "stream",
     "text": [
      "\r\n",
      "Epoch 201/600:  33%|███▎      | 200/600 [1:46:22<3:35:06, 32.27s/it, v_num=k8_1, total_loss_train=503, kl_local_train=131, metric_mi|age_categorical_train=0.25]"
     ]
    },
    {
     "name": "stdout",
     "output_type": "stream",
     "text": [
      "\r\n",
      "Epoch 201/600:  34%|███▎      | 201/600 [1:46:55<3:36:13, 32.51s/it, v_num=k8_1, total_loss_train=503, kl_local_train=131, metric_mi|age_categorical_train=0.25]"
     ]
    },
    {
     "name": "stdout",
     "output_type": "stream",
     "text": [
      "\r\n",
      "Epoch 201/600:  34%|███▎      | 201/600 [1:46:55<3:36:13, 32.51s/it, v_num=k8_1, total_loss_train=503, kl_local_train=131, metric_mi|age_categorical_train=0.238]"
     ]
    },
    {
     "name": "stdout",
     "output_type": "stream",
     "text": [
      "\r\n",
      "Epoch 202/600:  34%|███▎      | 201/600 [1:46:55<3:36:13, 32.51s/it, v_num=k8_1, total_loss_train=503, kl_local_train=131, metric_mi|age_categorical_train=0.238]"
     ]
    },
    {
     "name": "stdout",
     "output_type": "stream",
     "text": [
      "\r\n",
      "Epoch 202/600:  34%|███▎      | 202/600 [1:47:27<3:34:45, 32.38s/it, v_num=k8_1, total_loss_train=503, kl_local_train=131, metric_mi|age_categorical_train=0.238]"
     ]
    },
    {
     "name": "stdout",
     "output_type": "stream",
     "text": [
      "\r\n",
      "Epoch 202/600:  34%|███▎      | 202/600 [1:47:27<3:34:45, 32.38s/it, v_num=k8_1, total_loss_train=503, kl_local_train=130, metric_mi|age_categorical_train=0.238]"
     ]
    },
    {
     "name": "stdout",
     "output_type": "stream",
     "text": [
      "\r\n",
      "Epoch 203/600:  34%|███▎      | 202/600 [1:47:27<3:34:45, 32.38s/it, v_num=k8_1, total_loss_train=503, kl_local_train=130, metric_mi|age_categorical_train=0.238]"
     ]
    },
    {
     "name": "stdout",
     "output_type": "stream",
     "text": [
      "\r\n",
      "Epoch 203/600:  34%|███▍      | 203/600 [1:47:59<3:33:43, 32.30s/it, v_num=k8_1, total_loss_train=503, kl_local_train=130, metric_mi|age_categorical_train=0.238]"
     ]
    },
    {
     "name": "stdout",
     "output_type": "stream",
     "text": [
      "\r\n",
      "Epoch 203/600:  34%|███▍      | 203/600 [1:47:59<3:33:43, 32.30s/it, v_num=k8_1, total_loss_train=503, kl_local_train=131, metric_mi|age_categorical_train=0.238]"
     ]
    },
    {
     "name": "stdout",
     "output_type": "stream",
     "text": [
      "\r\n",
      "Epoch 204/600:  34%|███▍      | 203/600 [1:47:59<3:33:43, 32.30s/it, v_num=k8_1, total_loss_train=503, kl_local_train=131, metric_mi|age_categorical_train=0.238]"
     ]
    },
    {
     "name": "stdout",
     "output_type": "stream",
     "text": [
      "\r\n",
      "Epoch 204/600:  34%|███▍      | 204/600 [1:48:31<3:32:52, 32.25s/it, v_num=k8_1, total_loss_train=503, kl_local_train=131, metric_mi|age_categorical_train=0.238]"
     ]
    },
    {
     "name": "stdout",
     "output_type": "stream",
     "text": [
      "\r\n",
      "Epoch 204/600:  34%|███▍      | 204/600 [1:48:31<3:32:52, 32.25s/it, v_num=k8_1, total_loss_train=504, kl_local_train=130, metric_mi|age_categorical_train=0.238]"
     ]
    },
    {
     "name": "stdout",
     "output_type": "stream",
     "text": [
      "\r\n",
      "Epoch 205/600:  34%|███▍      | 204/600 [1:48:31<3:32:52, 32.25s/it, v_num=k8_1, total_loss_train=504, kl_local_train=130, metric_mi|age_categorical_train=0.238]"
     ]
    },
    {
     "name": "stdout",
     "output_type": "stream",
     "text": [
      "\r\n",
      "Epoch 205/600:  34%|███▍      | 205/600 [1:49:03<3:33:03, 32.36s/it, v_num=k8_1, total_loss_train=504, kl_local_train=130, metric_mi|age_categorical_train=0.238]"
     ]
    },
    {
     "name": "stdout",
     "output_type": "stream",
     "text": [
      "\r\n",
      "Epoch 205/600:  34%|███▍      | 205/600 [1:49:04<3:33:03, 32.36s/it, v_num=k8_1, total_loss_train=504, kl_local_train=130, metric_mi|age_categorical_train=0.238]"
     ]
    },
    {
     "name": "stdout",
     "output_type": "stream",
     "text": [
      "\r\n",
      "Epoch 206/600:  34%|███▍      | 205/600 [1:49:04<3:33:03, 32.36s/it, v_num=k8_1, total_loss_train=504, kl_local_train=130, metric_mi|age_categorical_train=0.238]"
     ]
    },
    {
     "name": "stdout",
     "output_type": "stream",
     "text": [
      "\r\n",
      "Epoch 206/600:  34%|███▍      | 206/600 [1:49:37<3:34:17, 32.63s/it, v_num=k8_1, total_loss_train=504, kl_local_train=130, metric_mi|age_categorical_train=0.238]"
     ]
    },
    {
     "name": "stdout",
     "output_type": "stream",
     "text": [
      "\r\n",
      "Epoch 206/600:  34%|███▍      | 206/600 [1:49:37<3:34:17, 32.63s/it, v_num=k8_1, total_loss_train=504, kl_local_train=130, metric_mi|age_categorical_train=0.252]"
     ]
    },
    {
     "name": "stdout",
     "output_type": "stream",
     "text": [
      "\r\n",
      "Epoch 207/600:  34%|███▍      | 206/600 [1:49:37<3:34:17, 32.63s/it, v_num=k8_1, total_loss_train=504, kl_local_train=130, metric_mi|age_categorical_train=0.252]"
     ]
    },
    {
     "name": "stdout",
     "output_type": "stream",
     "text": [
      "\r\n",
      "Epoch 207/600:  34%|███▍      | 207/600 [1:50:09<3:33:02, 32.53s/it, v_num=k8_1, total_loss_train=504, kl_local_train=130, metric_mi|age_categorical_train=0.252]"
     ]
    },
    {
     "name": "stdout",
     "output_type": "stream",
     "text": [
      "\r\n",
      "Epoch 207/600:  34%|███▍      | 207/600 [1:50:09<3:33:02, 32.53s/it, v_num=k8_1, total_loss_train=504, kl_local_train=129, metric_mi|age_categorical_train=0.252]"
     ]
    },
    {
     "name": "stdout",
     "output_type": "stream",
     "text": [
      "\r\n",
      "Epoch 208/600:  34%|███▍      | 207/600 [1:50:09<3:33:02, 32.53s/it, v_num=k8_1, total_loss_train=504, kl_local_train=129, metric_mi|age_categorical_train=0.252]"
     ]
    },
    {
     "name": "stdout",
     "output_type": "stream",
     "text": [
      "\r\n",
      "Epoch 208/600:  35%|███▍      | 208/600 [1:50:41<3:32:14, 32.49s/it, v_num=k8_1, total_loss_train=504, kl_local_train=129, metric_mi|age_categorical_train=0.252]"
     ]
    },
    {
     "name": "stdout",
     "output_type": "stream",
     "text": [
      "\r\n",
      "Epoch 208/600:  35%|███▍      | 208/600 [1:50:41<3:32:14, 32.49s/it, v_num=k8_1, total_loss_train=504, kl_local_train=129, metric_mi|age_categorical_train=0.252]"
     ]
    },
    {
     "name": "stdout",
     "output_type": "stream",
     "text": [
      "\r\n",
      "Epoch 209/600:  35%|███▍      | 208/600 [1:50:41<3:32:14, 32.49s/it, v_num=k8_1, total_loss_train=504, kl_local_train=129, metric_mi|age_categorical_train=0.252]"
     ]
    },
    {
     "name": "stdout",
     "output_type": "stream",
     "text": [
      "\r\n",
      "Epoch 209/600:  35%|███▍      | 209/600 [1:51:14<3:32:15, 32.57s/it, v_num=k8_1, total_loss_train=504, kl_local_train=129, metric_mi|age_categorical_train=0.252]"
     ]
    },
    {
     "name": "stdout",
     "output_type": "stream",
     "text": [
      "\r\n",
      "Epoch 209/600:  35%|███▍      | 209/600 [1:51:14<3:32:15, 32.57s/it, v_num=k8_1, total_loss_train=504, kl_local_train=128, metric_mi|age_categorical_train=0.252]"
     ]
    },
    {
     "name": "stdout",
     "output_type": "stream",
     "text": [
      "\r\n",
      "Epoch 210/600:  35%|███▍      | 209/600 [1:51:14<3:32:15, 32.57s/it, v_num=k8_1, total_loss_train=504, kl_local_train=128, metric_mi|age_categorical_train=0.252]"
     ]
    },
    {
     "name": "stdout",
     "output_type": "stream",
     "text": [
      "\r\n",
      "Epoch 210/600:  35%|███▌      | 210/600 [1:51:47<3:32:03, 32.63s/it, v_num=k8_1, total_loss_train=504, kl_local_train=128, metric_mi|age_categorical_train=0.252]"
     ]
    },
    {
     "name": "stdout",
     "output_type": "stream",
     "text": [
      "\r\n",
      "Epoch 210/600:  35%|███▌      | 210/600 [1:51:47<3:32:03, 32.63s/it, v_num=k8_1, total_loss_train=504, kl_local_train=128, metric_mi|age_categorical_train=0.252]"
     ]
    },
    {
     "name": "stdout",
     "output_type": "stream",
     "text": [
      "\r\n",
      "Epoch 211/600:  35%|███▌      | 210/600 [1:51:48<3:32:03, 32.63s/it, v_num=k8_1, total_loss_train=504, kl_local_train=128, metric_mi|age_categorical_train=0.252]"
     ]
    },
    {
     "name": "stdout",
     "output_type": "stream",
     "text": [
      "\r\n",
      "Epoch 211/600:  35%|███▌      | 211/600 [1:52:20<3:32:09, 32.72s/it, v_num=k8_1, total_loss_train=504, kl_local_train=128, metric_mi|age_categorical_train=0.252]"
     ]
    },
    {
     "name": "stdout",
     "output_type": "stream",
     "text": [
      "\r\n",
      "Epoch 211/600:  35%|███▌      | 211/600 [1:52:20<3:32:09, 32.72s/it, v_num=k8_1, total_loss_train=504, kl_local_train=127, metric_mi|age_categorical_train=0.249]"
     ]
    },
    {
     "name": "stdout",
     "output_type": "stream",
     "text": [
      "\r\n",
      "Epoch 212/600:  35%|███▌      | 211/600 [1:52:20<3:32:09, 32.72s/it, v_num=k8_1, total_loss_train=504, kl_local_train=127, metric_mi|age_categorical_train=0.249]"
     ]
    },
    {
     "name": "stdout",
     "output_type": "stream",
     "text": [
      "\r\n",
      "Epoch 212/600:  35%|███▌      | 212/600 [1:52:52<3:30:57, 32.62s/it, v_num=k8_1, total_loss_train=504, kl_local_train=127, metric_mi|age_categorical_train=0.249]"
     ]
    },
    {
     "name": "stdout",
     "output_type": "stream",
     "text": [
      "\r\n",
      "Epoch 212/600:  35%|███▌      | 212/600 [1:52:52<3:30:57, 32.62s/it, v_num=k8_1, total_loss_train=504, kl_local_train=128, metric_mi|age_categorical_train=0.249]"
     ]
    },
    {
     "name": "stdout",
     "output_type": "stream",
     "text": [
      "\r\n",
      "Epoch 213/600:  35%|███▌      | 212/600 [1:52:52<3:30:57, 32.62s/it, v_num=k8_1, total_loss_train=504, kl_local_train=128, metric_mi|age_categorical_train=0.249]"
     ]
    },
    {
     "name": "stdout",
     "output_type": "stream",
     "text": [
      "\r\n",
      "Epoch 213/600:  36%|███▌      | 213/600 [1:53:25<3:29:42, 32.51s/it, v_num=k8_1, total_loss_train=504, kl_local_train=128, metric_mi|age_categorical_train=0.249]"
     ]
    },
    {
     "name": "stdout",
     "output_type": "stream",
     "text": [
      "\r\n",
      "Epoch 213/600:  36%|███▌      | 213/600 [1:53:25<3:29:42, 32.51s/it, v_num=k8_1, total_loss_train=504, kl_local_train=127, metric_mi|age_categorical_train=0.249]"
     ]
    },
    {
     "name": "stdout",
     "output_type": "stream",
     "text": [
      "\r\n",
      "Epoch 214/600:  36%|███▌      | 213/600 [1:53:25<3:29:42, 32.51s/it, v_num=k8_1, total_loss_train=504, kl_local_train=127, metric_mi|age_categorical_train=0.249]"
     ]
    },
    {
     "name": "stdout",
     "output_type": "stream",
     "text": [
      "\r\n",
      "Epoch 214/600:  36%|███▌      | 214/600 [1:53:57<3:28:34, 32.42s/it, v_num=k8_1, total_loss_train=504, kl_local_train=127, metric_mi|age_categorical_train=0.249]"
     ]
    },
    {
     "name": "stdout",
     "output_type": "stream",
     "text": [
      "\r\n",
      "Epoch 214/600:  36%|███▌      | 214/600 [1:53:57<3:28:34, 32.42s/it, v_num=k8_1, total_loss_train=504, kl_local_train=127, metric_mi|age_categorical_train=0.249]"
     ]
    },
    {
     "name": "stdout",
     "output_type": "stream",
     "text": [
      "\r\n",
      "Epoch 215/600:  36%|███▌      | 214/600 [1:53:57<3:28:34, 32.42s/it, v_num=k8_1, total_loss_train=504, kl_local_train=127, metric_mi|age_categorical_train=0.249]"
     ]
    },
    {
     "name": "stdout",
     "output_type": "stream",
     "text": [
      "\r\n",
      "Epoch 215/600:  36%|███▌      | 215/600 [1:54:29<3:28:23, 32.48s/it, v_num=k8_1, total_loss_train=504, kl_local_train=127, metric_mi|age_categorical_train=0.249]"
     ]
    },
    {
     "name": "stdout",
     "output_type": "stream",
     "text": [
      "\r\n",
      "Epoch 215/600:  36%|███▌      | 215/600 [1:54:29<3:28:23, 32.48s/it, v_num=k8_1, total_loss_train=504, kl_local_train=127, metric_mi|age_categorical_train=0.249]"
     ]
    },
    {
     "name": "stdout",
     "output_type": "stream",
     "text": [
      "\r\n",
      "Epoch 216/600:  36%|███▌      | 215/600 [1:54:30<3:28:23, 32.48s/it, v_num=k8_1, total_loss_train=504, kl_local_train=127, metric_mi|age_categorical_train=0.249]"
     ]
    },
    {
     "name": "stdout",
     "output_type": "stream",
     "text": [
      "\r\n",
      "Epoch 216/600:  36%|███▌      | 216/600 [1:55:02<3:29:06, 32.67s/it, v_num=k8_1, total_loss_train=504, kl_local_train=127, metric_mi|age_categorical_train=0.249]"
     ]
    },
    {
     "name": "stdout",
     "output_type": "stream",
     "text": [
      "\r\n",
      "Epoch 216/600:  36%|███▌      | 216/600 [1:55:02<3:29:06, 32.67s/it, v_num=k8_1, total_loss_train=504, kl_local_train=127, metric_mi|age_categorical_train=0.258]"
     ]
    },
    {
     "name": "stdout",
     "output_type": "stream",
     "text": [
      "\r\n",
      "Epoch 217/600:  36%|███▌      | 216/600 [1:55:02<3:29:06, 32.67s/it, v_num=k8_1, total_loss_train=504, kl_local_train=127, metric_mi|age_categorical_train=0.258]"
     ]
    },
    {
     "name": "stdout",
     "output_type": "stream",
     "text": [
      "\r\n",
      "Epoch 217/600:  36%|███▌      | 217/600 [1:55:35<3:27:36, 32.52s/it, v_num=k8_1, total_loss_train=504, kl_local_train=127, metric_mi|age_categorical_train=0.258]"
     ]
    },
    {
     "name": "stdout",
     "output_type": "stream",
     "text": [
      "\r\n",
      "Epoch 217/600:  36%|███▌      | 217/600 [1:55:35<3:27:36, 32.52s/it, v_num=k8_1, total_loss_train=504, kl_local_train=127, metric_mi|age_categorical_train=0.258]"
     ]
    },
    {
     "name": "stdout",
     "output_type": "stream",
     "text": [
      "\r\n",
      "Epoch 218/600:  36%|███▌      | 217/600 [1:55:35<3:27:36, 32.52s/it, v_num=k8_1, total_loss_train=504, kl_local_train=127, metric_mi|age_categorical_train=0.258]"
     ]
    },
    {
     "name": "stdout",
     "output_type": "stream",
     "text": [
      "\r\n",
      "Epoch 218/600:  36%|███▋      | 218/600 [1:56:07<3:26:35, 32.45s/it, v_num=k8_1, total_loss_train=504, kl_local_train=127, metric_mi|age_categorical_train=0.258]"
     ]
    },
    {
     "name": "stdout",
     "output_type": "stream",
     "text": [
      "\r\n",
      "Epoch 218/600:  36%|███▋      | 218/600 [1:56:07<3:26:35, 32.45s/it, v_num=k8_1, total_loss_train=504, kl_local_train=126, metric_mi|age_categorical_train=0.258]"
     ]
    },
    {
     "name": "stdout",
     "output_type": "stream",
     "text": [
      "\r\n",
      "Epoch 219/600:  36%|███▋      | 218/600 [1:56:07<3:26:35, 32.45s/it, v_num=k8_1, total_loss_train=504, kl_local_train=126, metric_mi|age_categorical_train=0.258]"
     ]
    },
    {
     "name": "stdout",
     "output_type": "stream",
     "text": [
      "\r\n",
      "Epoch 219/600:  36%|███▋      | 219/600 [1:56:39<3:25:43, 32.40s/it, v_num=k8_1, total_loss_train=504, kl_local_train=126, metric_mi|age_categorical_train=0.258]"
     ]
    },
    {
     "name": "stdout",
     "output_type": "stream",
     "text": [
      "\r\n",
      "Epoch 219/600:  36%|███▋      | 219/600 [1:56:39<3:25:43, 32.40s/it, v_num=k8_1, total_loss_train=504, kl_local_train=126, metric_mi|age_categorical_train=0.258]"
     ]
    },
    {
     "name": "stdout",
     "output_type": "stream",
     "text": [
      "\r\n",
      "Epoch 220/600:  36%|███▋      | 219/600 [1:56:39<3:25:43, 32.40s/it, v_num=k8_1, total_loss_train=504, kl_local_train=126, metric_mi|age_categorical_train=0.258]"
     ]
    },
    {
     "name": "stdout",
     "output_type": "stream",
     "text": [
      "\r\n",
      "Epoch 220/600:  37%|███▋      | 220/600 [1:57:12<3:25:51, 32.50s/it, v_num=k8_1, total_loss_train=504, kl_local_train=126, metric_mi|age_categorical_train=0.258]"
     ]
    },
    {
     "name": "stdout",
     "output_type": "stream",
     "text": [
      "\r\n",
      "Epoch 220/600:  37%|███▋      | 220/600 [1:57:12<3:25:51, 32.50s/it, v_num=k8_1, total_loss_train=505, kl_local_train=126, metric_mi|age_categorical_train=0.258]"
     ]
    },
    {
     "name": "stdout",
     "output_type": "stream",
     "text": [
      "\r\n",
      "Epoch 221/600:  37%|███▋      | 220/600 [1:57:13<3:25:51, 32.50s/it, v_num=k8_1, total_loss_train=505, kl_local_train=126, metric_mi|age_categorical_train=0.258]"
     ]
    },
    {
     "name": "stdout",
     "output_type": "stream",
     "text": [
      "\r\n",
      "Epoch 221/600:  37%|███▋      | 221/600 [1:57:46<3:27:54, 32.92s/it, v_num=k8_1, total_loss_train=505, kl_local_train=126, metric_mi|age_categorical_train=0.258]"
     ]
    },
    {
     "name": "stdout",
     "output_type": "stream",
     "text": [
      "\r\n",
      "Epoch 221/600:  37%|███▋      | 221/600 [1:57:46<3:27:54, 32.92s/it, v_num=k8_1, total_loss_train=505, kl_local_train=126, metric_mi|age_categorical_train=0.249]"
     ]
    },
    {
     "name": "stdout",
     "output_type": "stream",
     "text": [
      "\r\n",
      "Epoch 222/600:  37%|███▋      | 221/600 [1:57:46<3:27:54, 32.92s/it, v_num=k8_1, total_loss_train=505, kl_local_train=126, metric_mi|age_categorical_train=0.249]"
     ]
    },
    {
     "name": "stdout",
     "output_type": "stream",
     "text": [
      "\r\n",
      "Epoch 222/600:  37%|███▋      | 222/600 [1:58:18<3:25:51, 32.67s/it, v_num=k8_1, total_loss_train=505, kl_local_train=126, metric_mi|age_categorical_train=0.249]"
     ]
    },
    {
     "name": "stdout",
     "output_type": "stream",
     "text": [
      "\r\n",
      "Epoch 222/600:  37%|███▋      | 222/600 [1:58:18<3:25:51, 32.67s/it, v_num=k8_1, total_loss_train=505, kl_local_train=124, metric_mi|age_categorical_train=0.249]"
     ]
    },
    {
     "name": "stdout",
     "output_type": "stream",
     "text": [
      "\r\n",
      "Epoch 223/600:  37%|███▋      | 222/600 [1:58:18<3:25:51, 32.67s/it, v_num=k8_1, total_loss_train=505, kl_local_train=124, metric_mi|age_categorical_train=0.249]"
     ]
    },
    {
     "name": "stdout",
     "output_type": "stream",
     "text": [
      "\r\n",
      "Epoch 223/600:  37%|███▋      | 223/600 [1:58:50<3:24:24, 32.53s/it, v_num=k8_1, total_loss_train=505, kl_local_train=124, metric_mi|age_categorical_train=0.249]"
     ]
    },
    {
     "name": "stdout",
     "output_type": "stream",
     "text": [
      "\r\n",
      "Epoch 223/600:  37%|███▋      | 223/600 [1:58:50<3:24:24, 32.53s/it, v_num=k8_1, total_loss_train=505, kl_local_train=124, metric_mi|age_categorical_train=0.249]"
     ]
    },
    {
     "name": "stdout",
     "output_type": "stream",
     "text": [
      "\r\n",
      "Epoch 224/600:  37%|███▋      | 223/600 [1:58:50<3:24:24, 32.53s/it, v_num=k8_1, total_loss_train=505, kl_local_train=124, metric_mi|age_categorical_train=0.249]"
     ]
    },
    {
     "name": "stdout",
     "output_type": "stream",
     "text": [
      "\r\n",
      "Epoch 224/600:  37%|███▋      | 224/600 [1:59:21<3:20:42, 32.03s/it, v_num=k8_1, total_loss_train=505, kl_local_train=124, metric_mi|age_categorical_train=0.249]"
     ]
    },
    {
     "name": "stdout",
     "output_type": "stream",
     "text": [
      "\r\n",
      "Epoch 224/600:  37%|███▋      | 224/600 [1:59:21<3:20:42, 32.03s/it, v_num=k8_1, total_loss_train=505, kl_local_train=125, metric_mi|age_categorical_train=0.249]"
     ]
    },
    {
     "name": "stdout",
     "output_type": "stream",
     "text": [
      "\r\n",
      "Epoch 225/600:  37%|███▋      | 224/600 [1:59:21<3:20:42, 32.03s/it, v_num=k8_1, total_loss_train=505, kl_local_train=125, metric_mi|age_categorical_train=0.249]"
     ]
    },
    {
     "name": "stdout",
     "output_type": "stream",
     "text": [
      "\r\n",
      "Epoch 225/600:  38%|███▊      | 225/600 [1:59:52<3:17:44, 31.64s/it, v_num=k8_1, total_loss_train=505, kl_local_train=125, metric_mi|age_categorical_train=0.249]"
     ]
    },
    {
     "name": "stdout",
     "output_type": "stream",
     "text": [
      "\r\n",
      "Epoch 225/600:  38%|███▊      | 225/600 [1:59:52<3:17:44, 31.64s/it, v_num=k8_1, total_loss_train=505, kl_local_train=124, metric_mi|age_categorical_train=0.249]"
     ]
    },
    {
     "name": "stdout",
     "output_type": "stream",
     "text": [
      "\r\n",
      "Epoch 226/600:  38%|███▊      | 225/600 [1:59:52<3:17:44, 31.64s/it, v_num=k8_1, total_loss_train=505, kl_local_train=124, metric_mi|age_categorical_train=0.249]"
     ]
    },
    {
     "name": "stdout",
     "output_type": "stream",
     "text": [
      "\r\n",
      "Epoch 226/600:  38%|███▊      | 226/600 [2:00:23<3:15:58, 31.44s/it, v_num=k8_1, total_loss_train=505, kl_local_train=124, metric_mi|age_categorical_train=0.249]"
     ]
    },
    {
     "name": "stdout",
     "output_type": "stream",
     "text": [
      "\r\n",
      "Epoch 226/600:  38%|███▊      | 226/600 [2:00:23<3:15:58, 31.44s/it, v_num=k8_1, total_loss_train=505, kl_local_train=123, metric_mi|age_categorical_train=0.243]"
     ]
    },
    {
     "name": "stdout",
     "output_type": "stream",
     "text": [
      "\r\n",
      "Epoch 227/600:  38%|███▊      | 226/600 [2:00:23<3:15:58, 31.44s/it, v_num=k8_1, total_loss_train=505, kl_local_train=123, metric_mi|age_categorical_train=0.243]"
     ]
    },
    {
     "name": "stdout",
     "output_type": "stream",
     "text": [
      "\r\n",
      "Epoch 227/600:  38%|███▊      | 227/600 [2:00:54<3:14:53, 31.35s/it, v_num=k8_1, total_loss_train=505, kl_local_train=123, metric_mi|age_categorical_train=0.243]"
     ]
    },
    {
     "name": "stdout",
     "output_type": "stream",
     "text": [
      "\r\n",
      "Epoch 227/600:  38%|███▊      | 227/600 [2:00:54<3:14:53, 31.35s/it, v_num=k8_1, total_loss_train=506, kl_local_train=124, metric_mi|age_categorical_train=0.243]"
     ]
    },
    {
     "name": "stdout",
     "output_type": "stream",
     "text": [
      "\r\n",
      "Epoch 228/600:  38%|███▊      | 227/600 [2:00:54<3:14:53, 31.35s/it, v_num=k8_1, total_loss_train=506, kl_local_train=124, metric_mi|age_categorical_train=0.243]"
     ]
    },
    {
     "name": "stdout",
     "output_type": "stream",
     "text": [
      "\r\n",
      "Epoch 228/600:  38%|███▊      | 228/600 [2:01:26<3:15:24, 31.52s/it, v_num=k8_1, total_loss_train=506, kl_local_train=124, metric_mi|age_categorical_train=0.243]"
     ]
    },
    {
     "name": "stdout",
     "output_type": "stream",
     "text": [
      "\r\n",
      "Epoch 228/600:  38%|███▊      | 228/600 [2:01:26<3:15:24, 31.52s/it, v_num=k8_1, total_loss_train=506, kl_local_train=124, metric_mi|age_categorical_train=0.243]"
     ]
    },
    {
     "name": "stdout",
     "output_type": "stream",
     "text": [
      "\r\n",
      "Epoch 229/600:  38%|███▊      | 228/600 [2:01:26<3:15:24, 31.52s/it, v_num=k8_1, total_loss_train=506, kl_local_train=124, metric_mi|age_categorical_train=0.243]"
     ]
    },
    {
     "name": "stdout",
     "output_type": "stream",
     "text": [
      "\r\n",
      "Epoch 229/600:  38%|███▊      | 229/600 [2:01:58<3:15:29, 31.62s/it, v_num=k8_1, total_loss_train=506, kl_local_train=124, metric_mi|age_categorical_train=0.243]"
     ]
    },
    {
     "name": "stdout",
     "output_type": "stream",
     "text": [
      "\r\n",
      "Epoch 229/600:  38%|███▊      | 229/600 [2:01:58<3:15:29, 31.62s/it, v_num=k8_1, total_loss_train=506, kl_local_train=123, metric_mi|age_categorical_train=0.243]"
     ]
    },
    {
     "name": "stdout",
     "output_type": "stream",
     "text": [
      "\r\n",
      "Epoch 230/600:  38%|███▊      | 229/600 [2:01:58<3:15:29, 31.62s/it, v_num=k8_1, total_loss_train=506, kl_local_train=123, metric_mi|age_categorical_train=0.243]"
     ]
    },
    {
     "name": "stdout",
     "output_type": "stream",
     "text": [
      "\r\n",
      "Epoch 230/600:  38%|███▊      | 230/600 [2:02:30<3:16:14, 31.82s/it, v_num=k8_1, total_loss_train=506, kl_local_train=123, metric_mi|age_categorical_train=0.243]"
     ]
    },
    {
     "name": "stdout",
     "output_type": "stream",
     "text": [
      "\r\n",
      "Epoch 230/600:  38%|███▊      | 230/600 [2:02:30<3:16:14, 31.82s/it, v_num=k8_1, total_loss_train=506, kl_local_train=122, metric_mi|age_categorical_train=0.243]"
     ]
    },
    {
     "name": "stdout",
     "output_type": "stream",
     "text": [
      "\r\n",
      "Epoch 231/600:  38%|███▊      | 230/600 [2:02:31<3:16:14, 31.82s/it, v_num=k8_1, total_loss_train=506, kl_local_train=122, metric_mi|age_categorical_train=0.243]"
     ]
    },
    {
     "name": "stdout",
     "output_type": "stream",
     "text": [
      "\r\n",
      "Epoch 231/600:  38%|███▊      | 231/600 [2:03:03<3:17:21, 32.09s/it, v_num=k8_1, total_loss_train=506, kl_local_train=122, metric_mi|age_categorical_train=0.243]"
     ]
    },
    {
     "name": "stdout",
     "output_type": "stream",
     "text": [
      "\r\n",
      "Epoch 231/600:  38%|███▊      | 231/600 [2:03:03<3:17:21, 32.09s/it, v_num=k8_1, total_loss_train=506, kl_local_train=122, metric_mi|age_categorical_train=0.25] "
     ]
    },
    {
     "name": "stdout",
     "output_type": "stream",
     "text": [
      "\r\n",
      "Epoch 232/600:  38%|███▊      | 231/600 [2:03:03<3:17:21, 32.09s/it, v_num=k8_1, total_loss_train=506, kl_local_train=122, metric_mi|age_categorical_train=0.25]"
     ]
    },
    {
     "name": "stdout",
     "output_type": "stream",
     "text": [
      "\r\n",
      "Epoch 232/600:  39%|███▊      | 232/600 [2:03:34<3:16:18, 32.01s/it, v_num=k8_1, total_loss_train=506, kl_local_train=122, metric_mi|age_categorical_train=0.25]"
     ]
    },
    {
     "name": "stdout",
     "output_type": "stream",
     "text": [
      "\r\n",
      "Epoch 232/600:  39%|███▊      | 232/600 [2:03:34<3:16:18, 32.01s/it, v_num=k8_1, total_loss_train=506, kl_local_train=122, metric_mi|age_categorical_train=0.25]"
     ]
    },
    {
     "name": "stdout",
     "output_type": "stream",
     "text": [
      "\r\n",
      "Epoch 233/600:  39%|███▊      | 232/600 [2:03:34<3:16:18, 32.01s/it, v_num=k8_1, total_loss_train=506, kl_local_train=122, metric_mi|age_categorical_train=0.25]"
     ]
    },
    {
     "name": "stdout",
     "output_type": "stream",
     "text": [
      "\r\n",
      "Epoch 233/600:  39%|███▉      | 233/600 [2:04:06<3:15:13, 31.92s/it, v_num=k8_1, total_loss_train=506, kl_local_train=122, metric_mi|age_categorical_train=0.25]"
     ]
    },
    {
     "name": "stdout",
     "output_type": "stream",
     "text": [
      "\r\n",
      "Epoch 233/600:  39%|███▉      | 233/600 [2:04:06<3:15:13, 31.92s/it, v_num=k8_1, total_loss_train=506, kl_local_train=123, metric_mi|age_categorical_train=0.25]"
     ]
    },
    {
     "name": "stdout",
     "output_type": "stream",
     "text": [
      "\r\n",
      "Epoch 234/600:  39%|███▉      | 233/600 [2:04:06<3:15:13, 31.92s/it, v_num=k8_1, total_loss_train=506, kl_local_train=123, metric_mi|age_categorical_train=0.25]"
     ]
    },
    {
     "name": "stdout",
     "output_type": "stream",
     "text": [
      "\r\n",
      "Epoch 234/600:  39%|███▉      | 234/600 [2:04:38<3:14:34, 31.90s/it, v_num=k8_1, total_loss_train=506, kl_local_train=123, metric_mi|age_categorical_train=0.25]"
     ]
    },
    {
     "name": "stdout",
     "output_type": "stream",
     "text": [
      "\r\n",
      "Epoch 234/600:  39%|███▉      | 234/600 [2:04:38<3:14:34, 31.90s/it, v_num=k8_1, total_loss_train=506, kl_local_train=122, metric_mi|age_categorical_train=0.25]"
     ]
    },
    {
     "name": "stdout",
     "output_type": "stream",
     "text": [
      "\r\n",
      "Epoch 235/600:  39%|███▉      | 234/600 [2:04:38<3:14:34, 31.90s/it, v_num=k8_1, total_loss_train=506, kl_local_train=122, metric_mi|age_categorical_train=0.25]"
     ]
    },
    {
     "name": "stdout",
     "output_type": "stream",
     "text": [
      "\r\n",
      "Epoch 235/600:  39%|███▉      | 235/600 [2:05:10<3:14:38, 31.99s/it, v_num=k8_1, total_loss_train=506, kl_local_train=122, metric_mi|age_categorical_train=0.25]"
     ]
    },
    {
     "name": "stdout",
     "output_type": "stream",
     "text": [
      "\r\n",
      "Epoch 235/600:  39%|███▉      | 235/600 [2:05:10<3:14:38, 31.99s/it, v_num=k8_1, total_loss_train=507, kl_local_train=122, metric_mi|age_categorical_train=0.25]"
     ]
    },
    {
     "name": "stdout",
     "output_type": "stream",
     "text": [
      "\r\n",
      "Epoch 236/600:  39%|███▉      | 235/600 [2:05:11<3:14:38, 31.99s/it, v_num=k8_1, total_loss_train=507, kl_local_train=122, metric_mi|age_categorical_train=0.25]"
     ]
    },
    {
     "name": "stdout",
     "output_type": "stream",
     "text": [
      "\r\n",
      "Epoch 236/600:  39%|███▉      | 236/600 [2:05:43<3:15:16, 32.19s/it, v_num=k8_1, total_loss_train=507, kl_local_train=122, metric_mi|age_categorical_train=0.25]"
     ]
    },
    {
     "name": "stdout",
     "output_type": "stream",
     "text": [
      "\r\n",
      "Epoch 236/600:  39%|███▉      | 236/600 [2:05:43<3:15:16, 32.19s/it, v_num=k8_1, total_loss_train=506, kl_local_train=122, metric_mi|age_categorical_train=0.249]"
     ]
    },
    {
     "name": "stdout",
     "output_type": "stream",
     "text": [
      "\r\n",
      "Epoch 237/600:  39%|███▉      | 236/600 [2:05:43<3:15:16, 32.19s/it, v_num=k8_1, total_loss_train=506, kl_local_train=122, metric_mi|age_categorical_train=0.249]"
     ]
    },
    {
     "name": "stdout",
     "output_type": "stream",
     "text": [
      "\r\n",
      "Epoch 237/600:  40%|███▉      | 237/600 [2:06:15<3:14:44, 32.19s/it, v_num=k8_1, total_loss_train=506, kl_local_train=122, metric_mi|age_categorical_train=0.249]"
     ]
    },
    {
     "name": "stdout",
     "output_type": "stream",
     "text": [
      "\r\n",
      "Epoch 237/600:  40%|███▉      | 237/600 [2:06:15<3:14:44, 32.19s/it, v_num=k8_1, total_loss_train=506, kl_local_train=121, metric_mi|age_categorical_train=0.249]"
     ]
    },
    {
     "name": "stdout",
     "output_type": "stream",
     "text": [
      "\r\n",
      "Epoch 238/600:  40%|███▉      | 237/600 [2:06:15<3:14:44, 32.19s/it, v_num=k8_1, total_loss_train=506, kl_local_train=121, metric_mi|age_categorical_train=0.249]"
     ]
    },
    {
     "name": "stdout",
     "output_type": "stream",
     "text": [
      "\r\n",
      "Epoch 238/600:  40%|███▉      | 238/600 [2:06:47<3:13:56, 32.14s/it, v_num=k8_1, total_loss_train=506, kl_local_train=121, metric_mi|age_categorical_train=0.249]"
     ]
    },
    {
     "name": "stdout",
     "output_type": "stream",
     "text": [
      "\r\n",
      "Epoch 238/600:  40%|███▉      | 238/600 [2:06:47<3:13:56, 32.14s/it, v_num=k8_1, total_loss_train=506, kl_local_train=121, metric_mi|age_categorical_train=0.249]"
     ]
    },
    {
     "name": "stdout",
     "output_type": "stream",
     "text": [
      "\r\n",
      "Epoch 239/600:  40%|███▉      | 238/600 [2:06:47<3:13:56, 32.14s/it, v_num=k8_1, total_loss_train=506, kl_local_train=121, metric_mi|age_categorical_train=0.249]"
     ]
    },
    {
     "name": "stdout",
     "output_type": "stream",
     "text": [
      "\r\n",
      "Epoch 239/600:  40%|███▉      | 239/600 [2:07:19<3:12:46, 32.04s/it, v_num=k8_1, total_loss_train=506, kl_local_train=121, metric_mi|age_categorical_train=0.249]"
     ]
    },
    {
     "name": "stdout",
     "output_type": "stream",
     "text": [
      "\r\n",
      "Epoch 239/600:  40%|███▉      | 239/600 [2:07:19<3:12:46, 32.04s/it, v_num=k8_1, total_loss_train=507, kl_local_train=121, metric_mi|age_categorical_train=0.249]"
     ]
    },
    {
     "name": "stdout",
     "output_type": "stream",
     "text": [
      "\r\n",
      "Epoch 240/600:  40%|███▉      | 239/600 [2:07:19<3:12:46, 32.04s/it, v_num=k8_1, total_loss_train=507, kl_local_train=121, metric_mi|age_categorical_train=0.249]"
     ]
    },
    {
     "name": "stdout",
     "output_type": "stream",
     "text": [
      "\r\n",
      "Epoch 240/600:  40%|████      | 240/600 [2:07:51<3:12:41, 32.11s/it, v_num=k8_1, total_loss_train=507, kl_local_train=121, metric_mi|age_categorical_train=0.249]"
     ]
    },
    {
     "name": "stdout",
     "output_type": "stream",
     "text": [
      "\r\n",
      "Epoch 240/600:  40%|████      | 240/600 [2:07:51<3:12:41, 32.11s/it, v_num=k8_1, total_loss_train=507, kl_local_train=121, metric_mi|age_categorical_train=0.249]"
     ]
    },
    {
     "name": "stdout",
     "output_type": "stream",
     "text": [
      "\r\n",
      "Epoch 241/600:  40%|████      | 240/600 [2:07:52<3:12:41, 32.11s/it, v_num=k8_1, total_loss_train=507, kl_local_train=121, metric_mi|age_categorical_train=0.249]"
     ]
    },
    {
     "name": "stdout",
     "output_type": "stream",
     "text": [
      "\r\n",
      "Epoch 241/600:  40%|████      | 241/600 [2:08:24<3:13:04, 32.27s/it, v_num=k8_1, total_loss_train=507, kl_local_train=121, metric_mi|age_categorical_train=0.249]"
     ]
    },
    {
     "name": "stdout",
     "output_type": "stream",
     "text": [
      "\r\n",
      "Epoch 241/600:  40%|████      | 241/600 [2:08:24<3:13:04, 32.27s/it, v_num=k8_1, total_loss_train=507, kl_local_train=120, metric_mi|age_categorical_train=0.251]"
     ]
    },
    {
     "name": "stdout",
     "output_type": "stream",
     "text": [
      "\r\n",
      "Epoch 242/600:  40%|████      | 241/600 [2:08:24<3:13:04, 32.27s/it, v_num=k8_1, total_loss_train=507, kl_local_train=120, metric_mi|age_categorical_train=0.251]"
     ]
    },
    {
     "name": "stdout",
     "output_type": "stream",
     "text": [
      "\r\n",
      "Epoch 242/600:  40%|████      | 242/600 [2:08:56<3:11:41, 32.13s/it, v_num=k8_1, total_loss_train=507, kl_local_train=120, metric_mi|age_categorical_train=0.251]"
     ]
    },
    {
     "name": "stdout",
     "output_type": "stream",
     "text": [
      "\r\n",
      "Epoch 242/600:  40%|████      | 242/600 [2:08:56<3:11:41, 32.13s/it, v_num=k8_1, total_loss_train=507, kl_local_train=120, metric_mi|age_categorical_train=0.251]"
     ]
    },
    {
     "name": "stdout",
     "output_type": "stream",
     "text": [
      "\r\n",
      "Epoch 243/600:  40%|████      | 242/600 [2:08:56<3:11:41, 32.13s/it, v_num=k8_1, total_loss_train=507, kl_local_train=120, metric_mi|age_categorical_train=0.251]"
     ]
    },
    {
     "name": "stdout",
     "output_type": "stream",
     "text": [
      "\r\n",
      "Epoch 243/600:  40%|████      | 243/600 [2:09:27<3:10:13, 31.97s/it, v_num=k8_1, total_loss_train=507, kl_local_train=120, metric_mi|age_categorical_train=0.251]"
     ]
    },
    {
     "name": "stdout",
     "output_type": "stream",
     "text": [
      "\r\n",
      "Epoch 243/600:  40%|████      | 243/600 [2:09:27<3:10:13, 31.97s/it, v_num=k8_1, total_loss_train=507, kl_local_train=120, metric_mi|age_categorical_train=0.251]"
     ]
    },
    {
     "name": "stdout",
     "output_type": "stream",
     "text": [
      "\r\n",
      "Epoch 244/600:  40%|████      | 243/600 [2:09:27<3:10:13, 31.97s/it, v_num=k8_1, total_loss_train=507, kl_local_train=120, metric_mi|age_categorical_train=0.251]"
     ]
    },
    {
     "name": "stdout",
     "output_type": "stream",
     "text": [
      "\r\n",
      "Epoch 244/600:  41%|████      | 244/600 [2:09:59<3:09:19, 31.91s/it, v_num=k8_1, total_loss_train=507, kl_local_train=120, metric_mi|age_categorical_train=0.251]"
     ]
    },
    {
     "name": "stdout",
     "output_type": "stream",
     "text": [
      "\r\n",
      "Epoch 244/600:  41%|████      | 244/600 [2:09:59<3:09:19, 31.91s/it, v_num=k8_1, total_loss_train=507, kl_local_train=120, metric_mi|age_categorical_train=0.251]"
     ]
    },
    {
     "name": "stdout",
     "output_type": "stream",
     "text": [
      "\r\n",
      "Epoch 245/600:  41%|████      | 244/600 [2:09:59<3:09:19, 31.91s/it, v_num=k8_1, total_loss_train=507, kl_local_train=120, metric_mi|age_categorical_train=0.251]"
     ]
    },
    {
     "name": "stdout",
     "output_type": "stream",
     "text": [
      "\r\n",
      "Epoch 245/600:  41%|████      | 245/600 [2:10:31<3:09:39, 32.06s/it, v_num=k8_1, total_loss_train=507, kl_local_train=120, metric_mi|age_categorical_train=0.251]"
     ]
    },
    {
     "name": "stdout",
     "output_type": "stream",
     "text": [
      "\r\n",
      "Epoch 245/600:  41%|████      | 245/600 [2:10:31<3:09:39, 32.06s/it, v_num=k8_1, total_loss_train=508, kl_local_train=119, metric_mi|age_categorical_train=0.251]"
     ]
    },
    {
     "name": "stdout",
     "output_type": "stream",
     "text": [
      "\r\n",
      "Epoch 246/600:  41%|████      | 245/600 [2:10:32<3:09:39, 32.06s/it, v_num=k8_1, total_loss_train=508, kl_local_train=119, metric_mi|age_categorical_train=0.251]"
     ]
    },
    {
     "name": "stdout",
     "output_type": "stream",
     "text": [
      "\r\n",
      "Epoch 246/600:  41%|████      | 246/600 [2:11:05<3:11:09, 32.40s/it, v_num=k8_1, total_loss_train=508, kl_local_train=119, metric_mi|age_categorical_train=0.251]"
     ]
    },
    {
     "name": "stdout",
     "output_type": "stream",
     "text": [
      "\r\n",
      "Epoch 246/600:  41%|████      | 246/600 [2:11:05<3:11:09, 32.40s/it, v_num=k8_1, total_loss_train=507, kl_local_train=119, metric_mi|age_categorical_train=0.243]"
     ]
    },
    {
     "name": "stdout",
     "output_type": "stream",
     "text": [
      "\r\n",
      "Epoch 247/600:  41%|████      | 246/600 [2:11:05<3:11:09, 32.40s/it, v_num=k8_1, total_loss_train=507, kl_local_train=119, metric_mi|age_categorical_train=0.243]"
     ]
    },
    {
     "name": "stdout",
     "output_type": "stream",
     "text": [
      "\r\n",
      "Epoch 247/600:  41%|████      | 247/600 [2:11:36<3:09:22, 32.19s/it, v_num=k8_1, total_loss_train=507, kl_local_train=119, metric_mi|age_categorical_train=0.243]"
     ]
    },
    {
     "name": "stdout",
     "output_type": "stream",
     "text": [
      "\r\n",
      "Epoch 247/600:  41%|████      | 247/600 [2:11:36<3:09:22, 32.19s/it, v_num=k8_1, total_loss_train=507, kl_local_train=119, metric_mi|age_categorical_train=0.243]"
     ]
    },
    {
     "name": "stdout",
     "output_type": "stream",
     "text": [
      "\r\n",
      "Epoch 248/600:  41%|████      | 247/600 [2:11:36<3:09:22, 32.19s/it, v_num=k8_1, total_loss_train=507, kl_local_train=119, metric_mi|age_categorical_train=0.243]"
     ]
    },
    {
     "name": "stdout",
     "output_type": "stream",
     "text": [
      "\r\n",
      "Epoch 248/600:  41%|████▏     | 248/600 [2:12:08<3:08:10, 32.07s/it, v_num=k8_1, total_loss_train=507, kl_local_train=119, metric_mi|age_categorical_train=0.243]"
     ]
    },
    {
     "name": "stdout",
     "output_type": "stream",
     "text": [
      "\r\n",
      "Epoch 248/600:  41%|████▏     | 248/600 [2:12:08<3:08:10, 32.07s/it, v_num=k8_1, total_loss_train=508, kl_local_train=119, metric_mi|age_categorical_train=0.243]"
     ]
    },
    {
     "name": "stdout",
     "output_type": "stream",
     "text": [
      "\r\n",
      "Epoch 249/600:  41%|████▏     | 248/600 [2:12:08<3:08:10, 32.07s/it, v_num=k8_1, total_loss_train=508, kl_local_train=119, metric_mi|age_categorical_train=0.243]"
     ]
    },
    {
     "name": "stdout",
     "output_type": "stream",
     "text": [
      "\r\n",
      "Epoch 249/600:  42%|████▏     | 249/600 [2:12:40<3:07:08, 31.99s/it, v_num=k8_1, total_loss_train=508, kl_local_train=119, metric_mi|age_categorical_train=0.243]"
     ]
    },
    {
     "name": "stdout",
     "output_type": "stream",
     "text": [
      "\r\n",
      "Epoch 249/600:  42%|████▏     | 249/600 [2:12:40<3:07:08, 31.99s/it, v_num=k8_1, total_loss_train=508, kl_local_train=118, metric_mi|age_categorical_train=0.243]"
     ]
    },
    {
     "name": "stdout",
     "output_type": "stream",
     "text": [
      "\r\n",
      "Epoch 250/600:  42%|████▏     | 249/600 [2:12:40<3:07:08, 31.99s/it, v_num=k8_1, total_loss_train=508, kl_local_train=118, metric_mi|age_categorical_train=0.243]"
     ]
    },
    {
     "name": "stdout",
     "output_type": "stream",
     "text": [
      "\r\n",
      "Epoch 250/600:  42%|████▏     | 250/600 [2:13:12<3:06:24, 31.95s/it, v_num=k8_1, total_loss_train=508, kl_local_train=118, metric_mi|age_categorical_train=0.243]"
     ]
    },
    {
     "name": "stdout",
     "output_type": "stream",
     "text": [
      "\r\n",
      "Epoch 250/600:  42%|████▏     | 250/600 [2:13:12<3:06:24, 31.95s/it, v_num=k8_1, total_loss_train=508, kl_local_train=118, metric_mi|age_categorical_train=0.243]"
     ]
    },
    {
     "name": "stdout",
     "output_type": "stream",
     "text": [
      "\r\n",
      "Epoch 251/600:  42%|████▏     | 250/600 [2:13:12<3:06:24, 31.95s/it, v_num=k8_1, total_loss_train=508, kl_local_train=118, metric_mi|age_categorical_train=0.243]"
     ]
    },
    {
     "name": "stdout",
     "output_type": "stream",
     "text": [
      "\r\n",
      "Epoch 251/600:  42%|████▏     | 251/600 [2:13:44<3:07:15, 32.19s/it, v_num=k8_1, total_loss_train=508, kl_local_train=118, metric_mi|age_categorical_train=0.243]"
     ]
    },
    {
     "name": "stdout",
     "output_type": "stream",
     "text": [
      "\r\n",
      "Epoch 251/600:  42%|████▏     | 251/600 [2:13:44<3:07:15, 32.19s/it, v_num=k8_1, total_loss_train=508, kl_local_train=118, metric_mi|age_categorical_train=0.246]"
     ]
    },
    {
     "name": "stdout",
     "output_type": "stream",
     "text": [
      "\r\n",
      "Epoch 252/600:  42%|████▏     | 251/600 [2:13:45<3:07:15, 32.19s/it, v_num=k8_1, total_loss_train=508, kl_local_train=118, metric_mi|age_categorical_train=0.246]"
     ]
    },
    {
     "name": "stdout",
     "output_type": "stream",
     "text": [
      "\r\n",
      "Epoch 252/600:  42%|████▏     | 252/600 [2:14:16<3:06:15, 32.11s/it, v_num=k8_1, total_loss_train=508, kl_local_train=118, metric_mi|age_categorical_train=0.246]"
     ]
    },
    {
     "name": "stdout",
     "output_type": "stream",
     "text": [
      "\r\n",
      "Epoch 252/600:  42%|████▏     | 252/600 [2:14:16<3:06:15, 32.11s/it, v_num=k8_1, total_loss_train=508, kl_local_train=118, metric_mi|age_categorical_train=0.246]"
     ]
    },
    {
     "name": "stdout",
     "output_type": "stream",
     "text": [
      "\r\n",
      "Epoch 253/600:  42%|████▏     | 252/600 [2:14:16<3:06:15, 32.11s/it, v_num=k8_1, total_loss_train=508, kl_local_train=118, metric_mi|age_categorical_train=0.246]"
     ]
    },
    {
     "name": "stdout",
     "output_type": "stream",
     "text": [
      "\r\n",
      "Epoch 253/600:  42%|████▏     | 253/600 [2:14:48<3:05:20, 32.05s/it, v_num=k8_1, total_loss_train=508, kl_local_train=118, metric_mi|age_categorical_train=0.246]"
     ]
    },
    {
     "name": "stdout",
     "output_type": "stream",
     "text": [
      "\r\n",
      "Epoch 253/600:  42%|████▏     | 253/600 [2:14:48<3:05:20, 32.05s/it, v_num=k8_1, total_loss_train=508, kl_local_train=117, metric_mi|age_categorical_train=0.246]"
     ]
    },
    {
     "name": "stdout",
     "output_type": "stream",
     "text": [
      "\r\n",
      "Epoch 254/600:  42%|████▏     | 253/600 [2:14:48<3:05:20, 32.05s/it, v_num=k8_1, total_loss_train=508, kl_local_train=117, metric_mi|age_categorical_train=0.246]"
     ]
    },
    {
     "name": "stdout",
     "output_type": "stream",
     "text": [
      "\r\n",
      "Epoch 254/600:  42%|████▏     | 254/600 [2:15:20<3:04:34, 32.01s/it, v_num=k8_1, total_loss_train=508, kl_local_train=117, metric_mi|age_categorical_train=0.246]"
     ]
    },
    {
     "name": "stdout",
     "output_type": "stream",
     "text": [
      "\r\n",
      "Epoch 254/600:  42%|████▏     | 254/600 [2:15:20<3:04:34, 32.01s/it, v_num=k8_1, total_loss_train=508, kl_local_train=118, metric_mi|age_categorical_train=0.246]"
     ]
    },
    {
     "name": "stdout",
     "output_type": "stream",
     "text": [
      "\r\n",
      "Epoch 255/600:  42%|████▏     | 254/600 [2:15:20<3:04:34, 32.01s/it, v_num=k8_1, total_loss_train=508, kl_local_train=118, metric_mi|age_categorical_train=0.246]"
     ]
    },
    {
     "name": "stdout",
     "output_type": "stream",
     "text": [
      "\r\n",
      "Epoch 255/600:  42%|████▎     | 255/600 [2:15:52<3:04:15, 32.04s/it, v_num=k8_1, total_loss_train=508, kl_local_train=118, metric_mi|age_categorical_train=0.246]"
     ]
    },
    {
     "name": "stdout",
     "output_type": "stream",
     "text": [
      "\r\n",
      "Epoch 255/600:  42%|████▎     | 255/600 [2:15:52<3:04:15, 32.04s/it, v_num=k8_1, total_loss_train=508, kl_local_train=117, metric_mi|age_categorical_train=0.246]"
     ]
    },
    {
     "name": "stdout",
     "output_type": "stream",
     "text": [
      "\r\n",
      "Epoch 256/600:  42%|████▎     | 255/600 [2:15:53<3:04:15, 32.04s/it, v_num=k8_1, total_loss_train=508, kl_local_train=117, metric_mi|age_categorical_train=0.246]"
     ]
    },
    {
     "name": "stdout",
     "output_type": "stream",
     "text": [
      "\r\n",
      "Epoch 256/600:  43%|████▎     | 256/600 [2:16:25<3:05:02, 32.28s/it, v_num=k8_1, total_loss_train=508, kl_local_train=117, metric_mi|age_categorical_train=0.246]"
     ]
    },
    {
     "name": "stdout",
     "output_type": "stream",
     "text": [
      "\r\n",
      "Epoch 256/600:  43%|████▎     | 256/600 [2:16:25<3:05:02, 32.28s/it, v_num=k8_1, total_loss_train=509, kl_local_train=117, metric_mi|age_categorical_train=0.231]"
     ]
    },
    {
     "name": "stdout",
     "output_type": "stream",
     "text": [
      "\r\n",
      "Epoch 257/600:  43%|████▎     | 256/600 [2:16:25<3:05:02, 32.28s/it, v_num=k8_1, total_loss_train=509, kl_local_train=117, metric_mi|age_categorical_train=0.231]"
     ]
    },
    {
     "name": "stdout",
     "output_type": "stream",
     "text": [
      "\r\n",
      "Epoch 257/600:  43%|████▎     | 257/600 [2:16:57<3:03:52, 32.16s/it, v_num=k8_1, total_loss_train=509, kl_local_train=117, metric_mi|age_categorical_train=0.231]"
     ]
    },
    {
     "name": "stdout",
     "output_type": "stream",
     "text": [
      "\r\n",
      "Epoch 257/600:  43%|████▎     | 257/600 [2:16:57<3:03:52, 32.16s/it, v_num=k8_1, total_loss_train=509, kl_local_train=117, metric_mi|age_categorical_train=0.231]"
     ]
    },
    {
     "name": "stdout",
     "output_type": "stream",
     "text": [
      "\r\n",
      "Epoch 258/600:  43%|████▎     | 257/600 [2:16:57<3:03:52, 32.16s/it, v_num=k8_1, total_loss_train=509, kl_local_train=117, metric_mi|age_categorical_train=0.231]"
     ]
    },
    {
     "name": "stdout",
     "output_type": "stream",
     "text": [
      "\r\n",
      "Epoch 258/600:  43%|████▎     | 258/600 [2:17:29<3:02:51, 32.08s/it, v_num=k8_1, total_loss_train=509, kl_local_train=117, metric_mi|age_categorical_train=0.231]"
     ]
    },
    {
     "name": "stdout",
     "output_type": "stream",
     "text": [
      "\r\n",
      "Epoch 258/600:  43%|████▎     | 258/600 [2:17:29<3:02:51, 32.08s/it, v_num=k8_1, total_loss_train=509, kl_local_train=117, metric_mi|age_categorical_train=0.231]"
     ]
    },
    {
     "name": "stdout",
     "output_type": "stream",
     "text": [
      "\r\n",
      "Epoch 259/600:  43%|████▎     | 258/600 [2:17:29<3:02:51, 32.08s/it, v_num=k8_1, total_loss_train=509, kl_local_train=117, metric_mi|age_categorical_train=0.231]"
     ]
    },
    {
     "name": "stdout",
     "output_type": "stream",
     "text": [
      "\r\n",
      "Epoch 259/600:  43%|████▎     | 259/600 [2:18:01<3:01:58, 32.02s/it, v_num=k8_1, total_loss_train=509, kl_local_train=117, metric_mi|age_categorical_train=0.231]"
     ]
    },
    {
     "name": "stdout",
     "output_type": "stream",
     "text": [
      "\r\n",
      "Epoch 259/600:  43%|████▎     | 259/600 [2:18:01<3:01:58, 32.02s/it, v_num=k8_1, total_loss_train=509, kl_local_train=116, metric_mi|age_categorical_train=0.231]"
     ]
    },
    {
     "name": "stdout",
     "output_type": "stream",
     "text": [
      "\r\n",
      "Epoch 260/600:  43%|████▎     | 259/600 [2:18:01<3:01:58, 32.02s/it, v_num=k8_1, total_loss_train=509, kl_local_train=116, metric_mi|age_categorical_train=0.231]"
     ]
    },
    {
     "name": "stdout",
     "output_type": "stream",
     "text": [
      "\r\n",
      "Epoch 260/600:  43%|████▎     | 260/600 [2:18:33<3:01:29, 32.03s/it, v_num=k8_1, total_loss_train=509, kl_local_train=116, metric_mi|age_categorical_train=0.231]"
     ]
    },
    {
     "name": "stdout",
     "output_type": "stream",
     "text": [
      "\r\n",
      "Epoch 260/600:  43%|████▎     | 260/600 [2:18:33<3:01:29, 32.03s/it, v_num=k8_1, total_loss_train=509, kl_local_train=116, metric_mi|age_categorical_train=0.231]"
     ]
    },
    {
     "name": "stdout",
     "output_type": "stream",
     "text": [
      "\r\n",
      "Epoch 261/600:  43%|████▎     | 260/600 [2:18:34<3:01:29, 32.03s/it, v_num=k8_1, total_loss_train=509, kl_local_train=116, metric_mi|age_categorical_train=0.231]"
     ]
    },
    {
     "name": "stdout",
     "output_type": "stream",
     "text": [
      "\r\n",
      "Epoch 261/600:  44%|████▎     | 261/600 [2:19:05<3:01:39, 32.15s/it, v_num=k8_1, total_loss_train=509, kl_local_train=116, metric_mi|age_categorical_train=0.231]"
     ]
    },
    {
     "name": "stdout",
     "output_type": "stream",
     "text": [
      "\r\n",
      "Epoch 261/600:  44%|████▎     | 261/600 [2:19:05<3:01:39, 32.15s/it, v_num=k8_1, total_loss_train=509, kl_local_train=116, metric_mi|age_categorical_train=0.246]"
     ]
    },
    {
     "name": "stdout",
     "output_type": "stream",
     "text": [
      "\r\n",
      "Epoch 262/600:  44%|████▎     | 261/600 [2:19:05<3:01:39, 32.15s/it, v_num=k8_1, total_loss_train=509, kl_local_train=116, metric_mi|age_categorical_train=0.246]"
     ]
    },
    {
     "name": "stdout",
     "output_type": "stream",
     "text": [
      "\r\n",
      "Epoch 262/600:  44%|████▎     | 262/600 [2:19:37<3:00:27, 32.03s/it, v_num=k8_1, total_loss_train=509, kl_local_train=116, metric_mi|age_categorical_train=0.246]"
     ]
    },
    {
     "name": "stdout",
     "output_type": "stream",
     "text": [
      "\r\n",
      "Epoch 262/600:  44%|████▎     | 262/600 [2:19:37<3:00:27, 32.03s/it, v_num=k8_1, total_loss_train=509, kl_local_train=116, metric_mi|age_categorical_train=0.246]"
     ]
    },
    {
     "name": "stdout",
     "output_type": "stream",
     "text": [
      "\r\n",
      "Epoch 263/600:  44%|████▎     | 262/600 [2:19:37<3:00:27, 32.03s/it, v_num=k8_1, total_loss_train=509, kl_local_train=116, metric_mi|age_categorical_train=0.246]"
     ]
    },
    {
     "name": "stdout",
     "output_type": "stream",
     "text": [
      "\r\n",
      "Epoch 263/600:  44%|████▍     | 263/600 [2:20:09<2:59:26, 31.95s/it, v_num=k8_1, total_loss_train=509, kl_local_train=116, metric_mi|age_categorical_train=0.246]"
     ]
    },
    {
     "name": "stdout",
     "output_type": "stream",
     "text": [
      "\r\n",
      "Epoch 263/600:  44%|████▍     | 263/600 [2:20:09<2:59:26, 31.95s/it, v_num=k8_1, total_loss_train=509, kl_local_train=115, metric_mi|age_categorical_train=0.246]"
     ]
    },
    {
     "name": "stdout",
     "output_type": "stream",
     "text": [
      "\r\n",
      "Epoch 264/600:  44%|████▍     | 263/600 [2:20:09<2:59:26, 31.95s/it, v_num=k8_1, total_loss_train=509, kl_local_train=115, metric_mi|age_categorical_train=0.246]"
     ]
    },
    {
     "name": "stdout",
     "output_type": "stream",
     "text": [
      "\r\n",
      "Epoch 264/600:  44%|████▍     | 264/600 [2:20:40<2:58:23, 31.85s/it, v_num=k8_1, total_loss_train=509, kl_local_train=115, metric_mi|age_categorical_train=0.246]"
     ]
    },
    {
     "name": "stdout",
     "output_type": "stream",
     "text": [
      "\r\n",
      "Epoch 264/600:  44%|████▍     | 264/600 [2:20:40<2:58:23, 31.85s/it, v_num=k8_1, total_loss_train=509, kl_local_train=116, metric_mi|age_categorical_train=0.246]"
     ]
    },
    {
     "name": "stdout",
     "output_type": "stream",
     "text": [
      "\r\n",
      "Epoch 265/600:  44%|████▍     | 264/600 [2:20:40<2:58:23, 31.85s/it, v_num=k8_1, total_loss_train=509, kl_local_train=116, metric_mi|age_categorical_train=0.246]"
     ]
    },
    {
     "name": "stdout",
     "output_type": "stream",
     "text": [
      "\r\n",
      "Epoch 265/600:  44%|████▍     | 265/600 [2:21:13<2:58:16, 31.93s/it, v_num=k8_1, total_loss_train=509, kl_local_train=116, metric_mi|age_categorical_train=0.246]"
     ]
    },
    {
     "name": "stdout",
     "output_type": "stream",
     "text": [
      "\r\n",
      "Epoch 265/600:  44%|████▍     | 265/600 [2:21:13<2:58:16, 31.93s/it, v_num=k8_1, total_loss_train=510, kl_local_train=115, metric_mi|age_categorical_train=0.246]"
     ]
    },
    {
     "name": "stdout",
     "output_type": "stream",
     "text": [
      "\r\n",
      "Epoch 266/600:  44%|████▍     | 265/600 [2:21:14<2:58:16, 31.93s/it, v_num=k8_1, total_loss_train=510, kl_local_train=115, metric_mi|age_categorical_train=0.246]"
     ]
    },
    {
     "name": "stdout",
     "output_type": "stream",
     "text": [
      "\r\n",
      "Epoch 266/600:  44%|████▍     | 266/600 [2:21:45<2:59:16, 32.20s/it, v_num=k8_1, total_loss_train=510, kl_local_train=115, metric_mi|age_categorical_train=0.246]"
     ]
    },
    {
     "name": "stdout",
     "output_type": "stream",
     "text": [
      "\r\n",
      "Epoch 266/600:  44%|████▍     | 266/600 [2:21:45<2:59:16, 32.20s/it, v_num=k8_1, total_loss_train=510, kl_local_train=115, metric_mi|age_categorical_train=0.254]"
     ]
    },
    {
     "name": "stdout",
     "output_type": "stream",
     "text": [
      "\r\n",
      "Epoch 267/600:  44%|████▍     | 266/600 [2:21:45<2:59:16, 32.20s/it, v_num=k8_1, total_loss_train=510, kl_local_train=115, metric_mi|age_categorical_train=0.254]"
     ]
    },
    {
     "name": "stdout",
     "output_type": "stream",
     "text": [
      "\r\n",
      "Epoch 267/600:  44%|████▍     | 267/600 [2:22:17<2:58:16, 32.12s/it, v_num=k8_1, total_loss_train=510, kl_local_train=115, metric_mi|age_categorical_train=0.254]"
     ]
    },
    {
     "name": "stdout",
     "output_type": "stream",
     "text": [
      "\r\n",
      "Epoch 267/600:  44%|████▍     | 267/600 [2:22:17<2:58:16, 32.12s/it, v_num=k8_1, total_loss_train=510, kl_local_train=115, metric_mi|age_categorical_train=0.254]"
     ]
    },
    {
     "name": "stdout",
     "output_type": "stream",
     "text": [
      "\r\n",
      "Epoch 268/600:  44%|████▍     | 267/600 [2:22:17<2:58:16, 32.12s/it, v_num=k8_1, total_loss_train=510, kl_local_train=115, metric_mi|age_categorical_train=0.254]"
     ]
    },
    {
     "name": "stdout",
     "output_type": "stream",
     "text": [
      "\r\n",
      "Epoch 268/600:  45%|████▍     | 268/600 [2:22:49<2:57:04, 32.00s/it, v_num=k8_1, total_loss_train=510, kl_local_train=115, metric_mi|age_categorical_train=0.254]"
     ]
    },
    {
     "name": "stdout",
     "output_type": "stream",
     "text": [
      "\r\n",
      "Epoch 268/600:  45%|████▍     | 268/600 [2:22:49<2:57:04, 32.00s/it, v_num=k8_1, total_loss_train=510, kl_local_train=115, metric_mi|age_categorical_train=0.254]"
     ]
    },
    {
     "name": "stdout",
     "output_type": "stream",
     "text": [
      "\r\n",
      "Epoch 269/600:  45%|████▍     | 268/600 [2:22:49<2:57:04, 32.00s/it, v_num=k8_1, total_loss_train=510, kl_local_train=115, metric_mi|age_categorical_train=0.254]"
     ]
    },
    {
     "name": "stdout",
     "output_type": "stream",
     "text": [
      "\r\n",
      "Epoch 269/600:  45%|████▍     | 269/600 [2:23:21<2:56:17, 31.96s/it, v_num=k8_1, total_loss_train=510, kl_local_train=115, metric_mi|age_categorical_train=0.254]"
     ]
    },
    {
     "name": "stdout",
     "output_type": "stream",
     "text": [
      "\r\n",
      "Epoch 269/600:  45%|████▍     | 269/600 [2:23:21<2:56:17, 31.96s/it, v_num=k8_1, total_loss_train=510, kl_local_train=115, metric_mi|age_categorical_train=0.254]"
     ]
    },
    {
     "name": "stdout",
     "output_type": "stream",
     "text": [
      "\r\n",
      "Epoch 270/600:  45%|████▍     | 269/600 [2:23:21<2:56:17, 31.96s/it, v_num=k8_1, total_loss_train=510, kl_local_train=115, metric_mi|age_categorical_train=0.254]"
     ]
    },
    {
     "name": "stdout",
     "output_type": "stream",
     "text": [
      "\r\n",
      "Epoch 270/600:  45%|████▌     | 270/600 [2:23:53<2:56:17, 32.05s/it, v_num=k8_1, total_loss_train=510, kl_local_train=115, metric_mi|age_categorical_train=0.254]"
     ]
    },
    {
     "name": "stdout",
     "output_type": "stream",
     "text": [
      "\r\n",
      "Epoch 270/600:  45%|████▌     | 270/600 [2:23:53<2:56:17, 32.05s/it, v_num=k8_1, total_loss_train=510, kl_local_train=115, metric_mi|age_categorical_train=0.254]"
     ]
    },
    {
     "name": "stdout",
     "output_type": "stream",
     "text": [
      "\r\n",
      "Epoch 271/600:  45%|████▌     | 270/600 [2:23:54<2:56:17, 32.05s/it, v_num=k8_1, total_loss_train=510, kl_local_train=115, metric_mi|age_categorical_train=0.254]"
     ]
    },
    {
     "name": "stdout",
     "output_type": "stream",
     "text": [
      "\r\n",
      "Epoch 271/600:  45%|████▌     | 271/600 [2:24:25<2:55:56, 32.09s/it, v_num=k8_1, total_loss_train=510, kl_local_train=115, metric_mi|age_categorical_train=0.254]"
     ]
    },
    {
     "name": "stdout",
     "output_type": "stream",
     "text": [
      "\r\n",
      "Epoch 271/600:  45%|████▌     | 271/600 [2:24:25<2:55:56, 32.09s/it, v_num=k8_1, total_loss_train=510, kl_local_train=114, metric_mi|age_categorical_train=0.241]"
     ]
    },
    {
     "name": "stdout",
     "output_type": "stream",
     "text": [
      "\r\n",
      "Epoch 272/600:  45%|████▌     | 271/600 [2:24:25<2:55:56, 32.09s/it, v_num=k8_1, total_loss_train=510, kl_local_train=114, metric_mi|age_categorical_train=0.241]"
     ]
    },
    {
     "name": "stdout",
     "output_type": "stream",
     "text": [
      "\r\n",
      "Epoch 272/600:  45%|████▌     | 272/600 [2:24:55<2:52:11, 31.50s/it, v_num=k8_1, total_loss_train=510, kl_local_train=114, metric_mi|age_categorical_train=0.241]"
     ]
    },
    {
     "name": "stdout",
     "output_type": "stream",
     "text": [
      "\r\n",
      "Epoch 272/600:  45%|████▌     | 272/600 [2:24:55<2:52:11, 31.50s/it, v_num=k8_1, total_loss_train=510, kl_local_train=114, metric_mi|age_categorical_train=0.241]"
     ]
    },
    {
     "name": "stdout",
     "output_type": "stream",
     "text": [
      "\r\n",
      "Epoch 273/600:  45%|████▌     | 272/600 [2:24:56<2:52:11, 31.50s/it, v_num=k8_1, total_loss_train=510, kl_local_train=114, metric_mi|age_categorical_train=0.241]"
     ]
    },
    {
     "name": "stdout",
     "output_type": "stream",
     "text": [
      "\r\n",
      "Epoch 273/600:  46%|████▌     | 273/600 [2:25:26<2:49:15, 31.06s/it, v_num=k8_1, total_loss_train=510, kl_local_train=114, metric_mi|age_categorical_train=0.241]"
     ]
    },
    {
     "name": "stdout",
     "output_type": "stream",
     "text": [
      "\r\n",
      "Epoch 273/600:  46%|████▌     | 273/600 [2:25:26<2:49:15, 31.06s/it, v_num=k8_1, total_loss_train=510, kl_local_train=114, metric_mi|age_categorical_train=0.241]"
     ]
    },
    {
     "name": "stdout",
     "output_type": "stream",
     "text": [
      "\r\n",
      "Epoch 274/600:  46%|████▌     | 273/600 [2:25:26<2:49:15, 31.06s/it, v_num=k8_1, total_loss_train=510, kl_local_train=114, metric_mi|age_categorical_train=0.241]"
     ]
    },
    {
     "name": "stdout",
     "output_type": "stream",
     "text": [
      "\r\n",
      "Epoch 274/600:  46%|████▌     | 274/600 [2:25:56<2:47:15, 30.78s/it, v_num=k8_1, total_loss_train=510, kl_local_train=114, metric_mi|age_categorical_train=0.241]"
     ]
    },
    {
     "name": "stdout",
     "output_type": "stream",
     "text": [
      "\r\n",
      "Epoch 274/600:  46%|████▌     | 274/600 [2:25:56<2:47:15, 30.78s/it, v_num=k8_1, total_loss_train=510, kl_local_train=113, metric_mi|age_categorical_train=0.241]"
     ]
    },
    {
     "name": "stdout",
     "output_type": "stream",
     "text": [
      "\r\n",
      "Epoch 275/600:  46%|████▌     | 274/600 [2:25:56<2:47:15, 30.78s/it, v_num=k8_1, total_loss_train=510, kl_local_train=113, metric_mi|age_categorical_train=0.241]"
     ]
    },
    {
     "name": "stdout",
     "output_type": "stream",
     "text": [
      "\r\n",
      "Epoch 275/600:  46%|████▌     | 275/600 [2:26:28<2:49:04, 31.21s/it, v_num=k8_1, total_loss_train=510, kl_local_train=113, metric_mi|age_categorical_train=0.241]"
     ]
    },
    {
     "name": "stdout",
     "output_type": "stream",
     "text": [
      "\r\n",
      "Epoch 275/600:  46%|████▌     | 275/600 [2:26:28<2:49:04, 31.21s/it, v_num=k8_1, total_loss_train=511, kl_local_train=113, metric_mi|age_categorical_train=0.241]"
     ]
    },
    {
     "name": "stdout",
     "output_type": "stream",
     "text": [
      "\r\n",
      "Epoch 276/600:  46%|████▌     | 275/600 [2:26:29<2:49:04, 31.21s/it, v_num=k8_1, total_loss_train=511, kl_local_train=113, metric_mi|age_categorical_train=0.241]"
     ]
    },
    {
     "name": "stdout",
     "output_type": "stream",
     "text": [
      "\r\n",
      "Epoch 276/600:  46%|████▌     | 276/600 [2:27:01<2:51:51, 31.83s/it, v_num=k8_1, total_loss_train=511, kl_local_train=113, metric_mi|age_categorical_train=0.241]"
     ]
    },
    {
     "name": "stdout",
     "output_type": "stream",
     "text": [
      "\r\n",
      "Epoch 276/600:  46%|████▌     | 276/600 [2:27:01<2:51:51, 31.83s/it, v_num=k8_1, total_loss_train=511, kl_local_train=113, metric_mi|age_categorical_train=0.235]"
     ]
    },
    {
     "name": "stdout",
     "output_type": "stream",
     "text": [
      "\r\n",
      "Epoch 277/600:  46%|████▌     | 276/600 [2:27:01<2:51:51, 31.83s/it, v_num=k8_1, total_loss_train=511, kl_local_train=113, metric_mi|age_categorical_train=0.235]"
     ]
    },
    {
     "name": "stdout",
     "output_type": "stream",
     "text": [
      "\r\n",
      "Epoch 277/600:  46%|████▌     | 277/600 [2:27:33<2:51:53, 31.93s/it, v_num=k8_1, total_loss_train=511, kl_local_train=113, metric_mi|age_categorical_train=0.235]"
     ]
    },
    {
     "name": "stdout",
     "output_type": "stream",
     "text": [
      "\r\n",
      "Epoch 277/600:  46%|████▌     | 277/600 [2:27:33<2:51:53, 31.93s/it, v_num=k8_1, total_loss_train=511, kl_local_train=113, metric_mi|age_categorical_train=0.235]"
     ]
    },
    {
     "name": "stdout",
     "output_type": "stream",
     "text": [
      "\r\n",
      "Epoch 278/600:  46%|████▌     | 277/600 [2:27:33<2:51:53, 31.93s/it, v_num=k8_1, total_loss_train=511, kl_local_train=113, metric_mi|age_categorical_train=0.235]"
     ]
    },
    {
     "name": "stdout",
     "output_type": "stream",
     "text": [
      "\r\n",
      "Epoch 278/600:  46%|████▋     | 278/600 [2:28:05<2:51:44, 32.00s/it, v_num=k8_1, total_loss_train=511, kl_local_train=113, metric_mi|age_categorical_train=0.235]"
     ]
    },
    {
     "name": "stdout",
     "output_type": "stream",
     "text": [
      "\r\n",
      "Epoch 278/600:  46%|████▋     | 278/600 [2:28:05<2:51:44, 32.00s/it, v_num=k8_1, total_loss_train=511, kl_local_train=113, metric_mi|age_categorical_train=0.235]"
     ]
    },
    {
     "name": "stdout",
     "output_type": "stream",
     "text": [
      "\r\n",
      "Epoch 279/600:  46%|████▋     | 278/600 [2:28:05<2:51:44, 32.00s/it, v_num=k8_1, total_loss_train=511, kl_local_train=113, metric_mi|age_categorical_train=0.235]"
     ]
    },
    {
     "name": "stdout",
     "output_type": "stream",
     "text": [
      "\r\n",
      "Epoch 279/600:  46%|████▋     | 279/600 [2:28:38<2:51:37, 32.08s/it, v_num=k8_1, total_loss_train=511, kl_local_train=113, metric_mi|age_categorical_train=0.235]"
     ]
    },
    {
     "name": "stdout",
     "output_type": "stream",
     "text": [
      "\r\n",
      "Epoch 279/600:  46%|████▋     | 279/600 [2:28:38<2:51:37, 32.08s/it, v_num=k8_1, total_loss_train=511, kl_local_train=112, metric_mi|age_categorical_train=0.235]"
     ]
    },
    {
     "name": "stdout",
     "output_type": "stream",
     "text": [
      "\r\n",
      "Epoch 280/600:  46%|████▋     | 279/600 [2:28:38<2:51:37, 32.08s/it, v_num=k8_1, total_loss_train=511, kl_local_train=112, metric_mi|age_categorical_train=0.235]"
     ]
    },
    {
     "name": "stdout",
     "output_type": "stream",
     "text": [
      "\r\n",
      "Epoch 280/600:  47%|████▋     | 280/600 [2:29:10<2:51:57, 32.24s/it, v_num=k8_1, total_loss_train=511, kl_local_train=112, metric_mi|age_categorical_train=0.235]"
     ]
    },
    {
     "name": "stdout",
     "output_type": "stream",
     "text": [
      "\r\n",
      "Epoch 280/600:  47%|████▋     | 280/600 [2:29:10<2:51:57, 32.24s/it, v_num=k8_1, total_loss_train=511, kl_local_train=112, metric_mi|age_categorical_train=0.235]"
     ]
    },
    {
     "name": "stdout",
     "output_type": "stream",
     "text": [
      "\r\n",
      "Epoch 281/600:  47%|████▋     | 280/600 [2:29:11<2:51:57, 32.24s/it, v_num=k8_1, total_loss_train=511, kl_local_train=112, metric_mi|age_categorical_train=0.235]"
     ]
    },
    {
     "name": "stdout",
     "output_type": "stream",
     "text": [
      "\r\n",
      "Epoch 281/600:  47%|████▋     | 281/600 [2:29:44<2:53:58, 32.72s/it, v_num=k8_1, total_loss_train=511, kl_local_train=112, metric_mi|age_categorical_train=0.235]"
     ]
    },
    {
     "name": "stdout",
     "output_type": "stream",
     "text": [
      "\r\n",
      "Epoch 281/600:  47%|████▋     | 281/600 [2:29:44<2:53:58, 32.72s/it, v_num=k8_1, total_loss_train=511, kl_local_train=112, metric_mi|age_categorical_train=0.251]"
     ]
    },
    {
     "name": "stdout",
     "output_type": "stream",
     "text": [
      "\r\n",
      "Epoch 282/600:  47%|████▋     | 281/600 [2:29:44<2:53:58, 32.72s/it, v_num=k8_1, total_loss_train=511, kl_local_train=112, metric_mi|age_categorical_train=0.251]"
     ]
    },
    {
     "name": "stdout",
     "output_type": "stream",
     "text": [
      "\r\n",
      "Epoch 282/600:  47%|████▋     | 282/600 [2:30:17<2:52:58, 32.64s/it, v_num=k8_1, total_loss_train=511, kl_local_train=112, metric_mi|age_categorical_train=0.251]"
     ]
    },
    {
     "name": "stdout",
     "output_type": "stream",
     "text": [
      "\r\n",
      "Epoch 282/600:  47%|████▋     | 282/600 [2:30:17<2:52:58, 32.64s/it, v_num=k8_1, total_loss_train=511, kl_local_train=113, metric_mi|age_categorical_train=0.251]"
     ]
    },
    {
     "name": "stdout",
     "output_type": "stream",
     "text": [
      "\r\n",
      "Epoch 283/600:  47%|████▋     | 282/600 [2:30:17<2:52:58, 32.64s/it, v_num=k8_1, total_loss_train=511, kl_local_train=113, metric_mi|age_categorical_train=0.251]"
     ]
    },
    {
     "name": "stdout",
     "output_type": "stream",
     "text": [
      "\r\n",
      "Epoch 283/600:  47%|████▋     | 283/600 [2:30:49<2:51:56, 32.54s/it, v_num=k8_1, total_loss_train=511, kl_local_train=113, metric_mi|age_categorical_train=0.251]"
     ]
    },
    {
     "name": "stdout",
     "output_type": "stream",
     "text": [
      "\r\n",
      "Epoch 283/600:  47%|████▋     | 283/600 [2:30:49<2:51:56, 32.54s/it, v_num=k8_1, total_loss_train=511, kl_local_train=112, metric_mi|age_categorical_train=0.251]"
     ]
    },
    {
     "name": "stdout",
     "output_type": "stream",
     "text": [
      "\r\n",
      "Epoch 284/600:  47%|████▋     | 283/600 [2:30:49<2:51:56, 32.54s/it, v_num=k8_1, total_loss_train=511, kl_local_train=112, metric_mi|age_categorical_train=0.251]"
     ]
    },
    {
     "name": "stdout",
     "output_type": "stream",
     "text": [
      "\r\n",
      "Epoch 284/600:  47%|████▋     | 284/600 [2:31:21<2:51:11, 32.50s/it, v_num=k8_1, total_loss_train=511, kl_local_train=112, metric_mi|age_categorical_train=0.251]"
     ]
    },
    {
     "name": "stdout",
     "output_type": "stream",
     "text": [
      "\r\n",
      "Epoch 284/600:  47%|████▋     | 284/600 [2:31:21<2:51:11, 32.50s/it, v_num=k8_1, total_loss_train=512, kl_local_train=112, metric_mi|age_categorical_train=0.251]"
     ]
    },
    {
     "name": "stdout",
     "output_type": "stream",
     "text": [
      "\r\n",
      "Epoch 285/600:  47%|████▋     | 284/600 [2:31:21<2:51:11, 32.50s/it, v_num=k8_1, total_loss_train=512, kl_local_train=112, metric_mi|age_categorical_train=0.251]"
     ]
    },
    {
     "name": "stdout",
     "output_type": "stream",
     "text": [
      "\r\n",
      "Epoch 285/600:  48%|████▊     | 285/600 [2:31:54<2:51:12, 32.61s/it, v_num=k8_1, total_loss_train=512, kl_local_train=112, metric_mi|age_categorical_train=0.251]"
     ]
    },
    {
     "name": "stdout",
     "output_type": "stream",
     "text": [
      "\r\n",
      "Epoch 285/600:  48%|████▊     | 285/600 [2:31:54<2:51:12, 32.61s/it, v_num=k8_1, total_loss_train=512, kl_local_train=112, metric_mi|age_categorical_train=0.251]"
     ]
    },
    {
     "name": "stdout",
     "output_type": "stream",
     "text": [
      "\r\n",
      "Epoch 286/600:  48%|████▊     | 285/600 [2:31:55<2:51:12, 32.61s/it, v_num=k8_1, total_loss_train=512, kl_local_train=112, metric_mi|age_categorical_train=0.251]"
     ]
    },
    {
     "name": "stdout",
     "output_type": "stream",
     "text": [
      "\r\n",
      "Epoch 286/600:  48%|████▊     | 286/600 [2:32:27<2:51:39, 32.80s/it, v_num=k8_1, total_loss_train=512, kl_local_train=112, metric_mi|age_categorical_train=0.251]"
     ]
    },
    {
     "name": "stdout",
     "output_type": "stream",
     "text": [
      "\r\n",
      "Epoch 286/600:  48%|████▊     | 286/600 [2:32:27<2:51:39, 32.80s/it, v_num=k8_1, total_loss_train=512, kl_local_train=111, metric_mi|age_categorical_train=0.246]"
     ]
    },
    {
     "name": "stdout",
     "output_type": "stream",
     "text": [
      "\r\n",
      "Epoch 287/600:  48%|████▊     | 286/600 [2:32:27<2:51:39, 32.80s/it, v_num=k8_1, total_loss_train=512, kl_local_train=111, metric_mi|age_categorical_train=0.246]"
     ]
    },
    {
     "name": "stdout",
     "output_type": "stream",
     "text": [
      "\r\n",
      "Epoch 287/600:  48%|████▊     | 287/600 [2:33:00<2:50:13, 32.63s/it, v_num=k8_1, total_loss_train=512, kl_local_train=111, metric_mi|age_categorical_train=0.246]"
     ]
    },
    {
     "name": "stdout",
     "output_type": "stream",
     "text": [
      "\r\n",
      "Epoch 287/600:  48%|████▊     | 287/600 [2:33:00<2:50:13, 32.63s/it, v_num=k8_1, total_loss_train=512, kl_local_train=111, metric_mi|age_categorical_train=0.246]"
     ]
    },
    {
     "name": "stdout",
     "output_type": "stream",
     "text": [
      "\r\n",
      "Epoch 288/600:  48%|████▊     | 287/600 [2:33:00<2:50:13, 32.63s/it, v_num=k8_1, total_loss_train=512, kl_local_train=111, metric_mi|age_categorical_train=0.246]"
     ]
    },
    {
     "name": "stdout",
     "output_type": "stream",
     "text": [
      "\r\n",
      "Epoch 288/600:  48%|████▊     | 288/600 [2:33:32<2:49:14, 32.55s/it, v_num=k8_1, total_loss_train=512, kl_local_train=111, metric_mi|age_categorical_train=0.246]"
     ]
    },
    {
     "name": "stdout",
     "output_type": "stream",
     "text": [
      "\r\n",
      "Epoch 288/600:  48%|████▊     | 288/600 [2:33:32<2:49:14, 32.55s/it, v_num=k8_1, total_loss_train=512, kl_local_train=111, metric_mi|age_categorical_train=0.246]"
     ]
    },
    {
     "name": "stdout",
     "output_type": "stream",
     "text": [
      "\r\n",
      "Epoch 289/600:  48%|████▊     | 288/600 [2:33:32<2:49:14, 32.55s/it, v_num=k8_1, total_loss_train=512, kl_local_train=111, metric_mi|age_categorical_train=0.246]"
     ]
    },
    {
     "name": "stdout",
     "output_type": "stream",
     "text": [
      "\r\n",
      "Epoch 289/600:  48%|████▊     | 289/600 [2:34:04<2:48:16, 32.46s/it, v_num=k8_1, total_loss_train=512, kl_local_train=111, metric_mi|age_categorical_train=0.246]"
     ]
    },
    {
     "name": "stdout",
     "output_type": "stream",
     "text": [
      "\r\n",
      "Epoch 289/600:  48%|████▊     | 289/600 [2:34:04<2:48:16, 32.46s/it, v_num=k8_1, total_loss_train=512, kl_local_train=111, metric_mi|age_categorical_train=0.246]"
     ]
    },
    {
     "name": "stdout",
     "output_type": "stream",
     "text": [
      "\r\n",
      "Epoch 290/600:  48%|████▊     | 289/600 [2:34:04<2:48:16, 32.46s/it, v_num=k8_1, total_loss_train=512, kl_local_train=111, metric_mi|age_categorical_train=0.246]"
     ]
    },
    {
     "name": "stdout",
     "output_type": "stream",
     "text": [
      "\r\n",
      "Epoch 290/600:  48%|████▊     | 290/600 [2:34:37<2:47:58, 32.51s/it, v_num=k8_1, total_loss_train=512, kl_local_train=111, metric_mi|age_categorical_train=0.246]"
     ]
    },
    {
     "name": "stdout",
     "output_type": "stream",
     "text": [
      "\r\n",
      "Epoch 290/600:  48%|████▊     | 290/600 [2:34:37<2:47:58, 32.51s/it, v_num=k8_1, total_loss_train=512, kl_local_train=110, metric_mi|age_categorical_train=0.246]"
     ]
    },
    {
     "name": "stdout",
     "output_type": "stream",
     "text": [
      "\r\n",
      "Epoch 291/600:  48%|████▊     | 290/600 [2:34:38<2:47:58, 32.51s/it, v_num=k8_1, total_loss_train=512, kl_local_train=110, metric_mi|age_categorical_train=0.246]"
     ]
    },
    {
     "name": "stdout",
     "output_type": "stream",
     "text": [
      "\r\n",
      "Epoch 291/600:  48%|████▊     | 291/600 [2:35:11<2:49:22, 32.89s/it, v_num=k8_1, total_loss_train=512, kl_local_train=110, metric_mi|age_categorical_train=0.246]"
     ]
    },
    {
     "name": "stdout",
     "output_type": "stream",
     "text": [
      "\r\n",
      "Epoch 291/600:  48%|████▊     | 291/600 [2:35:11<2:49:22, 32.89s/it, v_num=k8_1, total_loss_train=512, kl_local_train=111, metric_mi|age_categorical_train=0.247]"
     ]
    },
    {
     "name": "stdout",
     "output_type": "stream",
     "text": [
      "\r\n",
      "Epoch 292/600:  48%|████▊     | 291/600 [2:35:11<2:49:22, 32.89s/it, v_num=k8_1, total_loss_train=512, kl_local_train=111, metric_mi|age_categorical_train=0.247]"
     ]
    },
    {
     "name": "stdout",
     "output_type": "stream",
     "text": [
      "\r\n",
      "Epoch 292/600:  49%|████▊     | 292/600 [2:35:43<2:47:51, 32.70s/it, v_num=k8_1, total_loss_train=512, kl_local_train=111, metric_mi|age_categorical_train=0.247]"
     ]
    },
    {
     "name": "stdout",
     "output_type": "stream",
     "text": [
      "\r\n",
      "Epoch 292/600:  49%|████▊     | 292/600 [2:35:43<2:47:51, 32.70s/it, v_num=k8_1, total_loss_train=513, kl_local_train=111, metric_mi|age_categorical_train=0.247]"
     ]
    },
    {
     "name": "stdout",
     "output_type": "stream",
     "text": [
      "\r\n",
      "Epoch 293/600:  49%|████▊     | 292/600 [2:35:43<2:47:51, 32.70s/it, v_num=k8_1, total_loss_train=513, kl_local_train=111, metric_mi|age_categorical_train=0.247]"
     ]
    },
    {
     "name": "stdout",
     "output_type": "stream",
     "text": [
      "\r\n",
      "Epoch 293/600:  49%|████▉     | 293/600 [2:36:15<2:46:46, 32.59s/it, v_num=k8_1, total_loss_train=513, kl_local_train=111, metric_mi|age_categorical_train=0.247]"
     ]
    },
    {
     "name": "stdout",
     "output_type": "stream",
     "text": [
      "\r\n",
      "Epoch 293/600:  49%|████▉     | 293/600 [2:36:15<2:46:46, 32.59s/it, v_num=k8_1, total_loss_train=512, kl_local_train=110, metric_mi|age_categorical_train=0.247]"
     ]
    },
    {
     "name": "stdout",
     "output_type": "stream",
     "text": [
      "\r\n",
      "Epoch 294/600:  49%|████▉     | 293/600 [2:36:15<2:46:46, 32.59s/it, v_num=k8_1, total_loss_train=512, kl_local_train=110, metric_mi|age_categorical_train=0.247]"
     ]
    },
    {
     "name": "stdout",
     "output_type": "stream",
     "text": [
      "\r\n",
      "Epoch 294/600:  49%|████▉     | 294/600 [2:36:48<2:46:10, 32.58s/it, v_num=k8_1, total_loss_train=512, kl_local_train=110, metric_mi|age_categorical_train=0.247]"
     ]
    },
    {
     "name": "stdout",
     "output_type": "stream",
     "text": [
      "\r\n",
      "Epoch 294/600:  49%|████▉     | 294/600 [2:36:48<2:46:10, 32.58s/it, v_num=k8_1, total_loss_train=513, kl_local_train=110, metric_mi|age_categorical_train=0.247]"
     ]
    },
    {
     "name": "stdout",
     "output_type": "stream",
     "text": [
      "\r\n",
      "Epoch 295/600:  49%|████▉     | 294/600 [2:36:48<2:46:10, 32.58s/it, v_num=k8_1, total_loss_train=513, kl_local_train=110, metric_mi|age_categorical_train=0.247]"
     ]
    },
    {
     "name": "stdout",
     "output_type": "stream",
     "text": [
      "\r\n",
      "Epoch 295/600:  49%|████▉     | 295/600 [2:37:21<2:46:07, 32.68s/it, v_num=k8_1, total_loss_train=513, kl_local_train=110, metric_mi|age_categorical_train=0.247]"
     ]
    },
    {
     "name": "stdout",
     "output_type": "stream",
     "text": [
      "\r\n",
      "Epoch 295/600:  49%|████▉     | 295/600 [2:37:21<2:46:07, 32.68s/it, v_num=k8_1, total_loss_train=513, kl_local_train=110, metric_mi|age_categorical_train=0.247]"
     ]
    },
    {
     "name": "stdout",
     "output_type": "stream",
     "text": [
      "\r\n",
      "Epoch 296/600:  49%|████▉     | 295/600 [2:37:22<2:46:07, 32.68s/it, v_num=k8_1, total_loss_train=513, kl_local_train=110, metric_mi|age_categorical_train=0.247]"
     ]
    },
    {
     "name": "stdout",
     "output_type": "stream",
     "text": [
      "\r\n",
      "Epoch 296/600:  49%|████▉     | 296/600 [2:37:54<2:45:39, 32.70s/it, v_num=k8_1, total_loss_train=513, kl_local_train=110, metric_mi|age_categorical_train=0.247]"
     ]
    },
    {
     "name": "stdout",
     "output_type": "stream",
     "text": [
      "\r\n",
      "Epoch 296/600:  49%|████▉     | 296/600 [2:37:54<2:45:39, 32.70s/it, v_num=k8_1, total_loss_train=513, kl_local_train=109, metric_mi|age_categorical_train=0.247]"
     ]
    },
    {
     "name": "stdout",
     "output_type": "stream",
     "text": [
      "\r\n",
      "Epoch 297/600:  49%|████▉     | 296/600 [2:37:54<2:45:39, 32.70s/it, v_num=k8_1, total_loss_train=513, kl_local_train=109, metric_mi|age_categorical_train=0.247]"
     ]
    },
    {
     "name": "stdout",
     "output_type": "stream",
     "text": [
      "\r\n",
      "Epoch 297/600:  50%|████▉     | 297/600 [2:38:26<2:44:13, 32.52s/it, v_num=k8_1, total_loss_train=513, kl_local_train=109, metric_mi|age_categorical_train=0.247]"
     ]
    },
    {
     "name": "stdout",
     "output_type": "stream",
     "text": [
      "\r\n",
      "Epoch 297/600:  50%|████▉     | 297/600 [2:38:26<2:44:13, 32.52s/it, v_num=k8_1, total_loss_train=513, kl_local_train=110, metric_mi|age_categorical_train=0.247]"
     ]
    },
    {
     "name": "stdout",
     "output_type": "stream",
     "text": [
      "\r\n",
      "Epoch 298/600:  50%|████▉     | 297/600 [2:38:26<2:44:13, 32.52s/it, v_num=k8_1, total_loss_train=513, kl_local_train=110, metric_mi|age_categorical_train=0.247]"
     ]
    },
    {
     "name": "stdout",
     "output_type": "stream",
     "text": [
      "\r\n",
      "Epoch 298/600:  50%|████▉     | 298/600 [2:38:58<2:43:15, 32.44s/it, v_num=k8_1, total_loss_train=513, kl_local_train=110, metric_mi|age_categorical_train=0.247]"
     ]
    },
    {
     "name": "stdout",
     "output_type": "stream",
     "text": [
      "\r\n",
      "Epoch 298/600:  50%|████▉     | 298/600 [2:38:58<2:43:15, 32.44s/it, v_num=k8_1, total_loss_train=513, kl_local_train=109, metric_mi|age_categorical_train=0.247]"
     ]
    },
    {
     "name": "stdout",
     "output_type": "stream",
     "text": [
      "\r\n",
      "Epoch 299/600:  50%|████▉     | 298/600 [2:38:58<2:43:15, 32.44s/it, v_num=k8_1, total_loss_train=513, kl_local_train=109, metric_mi|age_categorical_train=0.247]"
     ]
    },
    {
     "name": "stdout",
     "output_type": "stream",
     "text": [
      "\r\n",
      "Epoch 299/600:  50%|████▉     | 299/600 [2:39:30<2:42:20, 32.36s/it, v_num=k8_1, total_loss_train=513, kl_local_train=109, metric_mi|age_categorical_train=0.247]"
     ]
    },
    {
     "name": "stdout",
     "output_type": "stream",
     "text": [
      "\r\n",
      "Epoch 299/600:  50%|████▉     | 299/600 [2:39:30<2:42:20, 32.36s/it, v_num=k8_1, total_loss_train=513, kl_local_train=110, metric_mi|age_categorical_train=0.247]"
     ]
    },
    {
     "name": "stdout",
     "output_type": "stream",
     "text": [
      "\r\n",
      "Epoch 300/600:  50%|████▉     | 299/600 [2:39:30<2:42:20, 32.36s/it, v_num=k8_1, total_loss_train=513, kl_local_train=110, metric_mi|age_categorical_train=0.247]"
     ]
    },
    {
     "name": "stdout",
     "output_type": "stream",
     "text": [
      "\r\n",
      "Epoch 300/600:  50%|█████     | 300/600 [2:40:02<2:41:54, 32.38s/it, v_num=k8_1, total_loss_train=513, kl_local_train=110, metric_mi|age_categorical_train=0.247]"
     ]
    },
    {
     "name": "stdout",
     "output_type": "stream",
     "text": [
      "\r\n",
      "Epoch 300/600:  50%|█████     | 300/600 [2:40:02<2:41:54, 32.38s/it, v_num=k8_1, total_loss_train=513, kl_local_train=109, metric_mi|age_categorical_train=0.247]"
     ]
    },
    {
     "name": "stdout",
     "output_type": "stream",
     "text": [
      "\r\n",
      "Epoch 301/600:  50%|█████     | 300/600 [2:40:03<2:41:54, 32.38s/it, v_num=k8_1, total_loss_train=513, kl_local_train=109, metric_mi|age_categorical_train=0.247]"
     ]
    },
    {
     "name": "stdout",
     "output_type": "stream",
     "text": [
      "\r\n",
      "Epoch 301/600:  50%|█████     | 301/600 [2:40:35<2:42:10, 32.54s/it, v_num=k8_1, total_loss_train=513, kl_local_train=109, metric_mi|age_categorical_train=0.247]"
     ]
    },
    {
     "name": "stdout",
     "output_type": "stream",
     "text": [
      "\r\n",
      "Epoch 301/600:  50%|█████     | 301/600 [2:40:35<2:42:10, 32.54s/it, v_num=k8_1, total_loss_train=513, kl_local_train=109, metric_mi|age_categorical_train=0.242]"
     ]
    },
    {
     "name": "stdout",
     "output_type": "stream",
     "text": [
      "\r\n",
      "Epoch 302/600:  50%|█████     | 301/600 [2:40:35<2:42:10, 32.54s/it, v_num=k8_1, total_loss_train=513, kl_local_train=109, metric_mi|age_categorical_train=0.242]"
     ]
    },
    {
     "name": "stdout",
     "output_type": "stream",
     "text": [
      "\r\n",
      "Epoch 302/600:  50%|█████     | 302/600 [2:41:08<2:41:03, 32.43s/it, v_num=k8_1, total_loss_train=513, kl_local_train=109, metric_mi|age_categorical_train=0.242]"
     ]
    },
    {
     "name": "stdout",
     "output_type": "stream",
     "text": [
      "\r\n",
      "Epoch 302/600:  50%|█████     | 302/600 [2:41:08<2:41:03, 32.43s/it, v_num=k8_1, total_loss_train=514, kl_local_train=109, metric_mi|age_categorical_train=0.242]"
     ]
    },
    {
     "name": "stdout",
     "output_type": "stream",
     "text": [
      "\r\n",
      "Epoch 303/600:  50%|█████     | 302/600 [2:41:08<2:41:03, 32.43s/it, v_num=k8_1, total_loss_train=514, kl_local_train=109, metric_mi|age_categorical_train=0.242]"
     ]
    },
    {
     "name": "stdout",
     "output_type": "stream",
     "text": [
      "\r\n",
      "Epoch 303/600:  50%|█████     | 303/600 [2:41:40<2:40:23, 32.40s/it, v_num=k8_1, total_loss_train=514, kl_local_train=109, metric_mi|age_categorical_train=0.242]"
     ]
    },
    {
     "name": "stdout",
     "output_type": "stream",
     "text": [
      "\r\n",
      "Epoch 303/600:  50%|█████     | 303/600 [2:41:40<2:40:23, 32.40s/it, v_num=k8_1, total_loss_train=514, kl_local_train=108, metric_mi|age_categorical_train=0.242]"
     ]
    },
    {
     "name": "stdout",
     "output_type": "stream",
     "text": [
      "\r\n",
      "Epoch 304/600:  50%|█████     | 303/600 [2:41:40<2:40:23, 32.40s/it, v_num=k8_1, total_loss_train=514, kl_local_train=108, metric_mi|age_categorical_train=0.242]"
     ]
    },
    {
     "name": "stdout",
     "output_type": "stream",
     "text": [
      "\r\n",
      "Epoch 304/600:  51%|█████     | 304/600 [2:42:12<2:39:49, 32.40s/it, v_num=k8_1, total_loss_train=514, kl_local_train=108, metric_mi|age_categorical_train=0.242]"
     ]
    },
    {
     "name": "stdout",
     "output_type": "stream",
     "text": [
      "\r\n",
      "Epoch 304/600:  51%|█████     | 304/600 [2:42:12<2:39:49, 32.40s/it, v_num=k8_1, total_loss_train=514, kl_local_train=108, metric_mi|age_categorical_train=0.242]"
     ]
    },
    {
     "name": "stdout",
     "output_type": "stream",
     "text": [
      "\r\n",
      "Epoch 305/600:  51%|█████     | 304/600 [2:42:12<2:39:49, 32.40s/it, v_num=k8_1, total_loss_train=514, kl_local_train=108, metric_mi|age_categorical_train=0.242]"
     ]
    },
    {
     "name": "stdout",
     "output_type": "stream",
     "text": [
      "\r\n",
      "Epoch 305/600:  51%|█████     | 305/600 [2:42:45<2:39:37, 32.46s/it, v_num=k8_1, total_loss_train=514, kl_local_train=108, metric_mi|age_categorical_train=0.242]"
     ]
    },
    {
     "name": "stdout",
     "output_type": "stream",
     "text": [
      "\r\n",
      "Epoch 305/600:  51%|█████     | 305/600 [2:42:45<2:39:37, 32.46s/it, v_num=k8_1, total_loss_train=514, kl_local_train=108, metric_mi|age_categorical_train=0.242]"
     ]
    },
    {
     "name": "stdout",
     "output_type": "stream",
     "text": [
      "\r\n",
      "Epoch 306/600:  51%|█████     | 305/600 [2:42:46<2:39:37, 32.46s/it, v_num=k8_1, total_loss_train=514, kl_local_train=108, metric_mi|age_categorical_train=0.242]"
     ]
    },
    {
     "name": "stdout",
     "output_type": "stream",
     "text": [
      "\r\n",
      "Epoch 306/600:  51%|█████     | 306/600 [2:43:18<2:39:33, 32.56s/it, v_num=k8_1, total_loss_train=514, kl_local_train=108, metric_mi|age_categorical_train=0.242]"
     ]
    },
    {
     "name": "stdout",
     "output_type": "stream",
     "text": [
      "\r\n",
      "Epoch 306/600:  51%|█████     | 306/600 [2:43:18<2:39:33, 32.56s/it, v_num=k8_1, total_loss_train=514, kl_local_train=108, metric_mi|age_categorical_train=0.238]"
     ]
    },
    {
     "name": "stdout",
     "output_type": "stream",
     "text": [
      "\r\n",
      "Epoch 307/600:  51%|█████     | 306/600 [2:43:18<2:39:33, 32.56s/it, v_num=k8_1, total_loss_train=514, kl_local_train=108, metric_mi|age_categorical_train=0.238]"
     ]
    },
    {
     "name": "stdout",
     "output_type": "stream",
     "text": [
      "\r\n",
      "Epoch 307/600:  51%|█████     | 307/600 [2:43:50<2:38:30, 32.46s/it, v_num=k8_1, total_loss_train=514, kl_local_train=108, metric_mi|age_categorical_train=0.238]"
     ]
    },
    {
     "name": "stdout",
     "output_type": "stream",
     "text": [
      "\r\n",
      "Epoch 307/600:  51%|█████     | 307/600 [2:43:50<2:38:30, 32.46s/it, v_num=k8_1, total_loss_train=514, kl_local_train=108, metric_mi|age_categorical_train=0.238]"
     ]
    },
    {
     "name": "stdout",
     "output_type": "stream",
     "text": [
      "\r\n",
      "Epoch 308/600:  51%|█████     | 307/600 [2:43:50<2:38:30, 32.46s/it, v_num=k8_1, total_loss_train=514, kl_local_train=108, metric_mi|age_categorical_train=0.238]"
     ]
    },
    {
     "name": "stdout",
     "output_type": "stream",
     "text": [
      "\r\n",
      "Epoch 308/600:  51%|█████▏    | 308/600 [2:44:22<2:37:27, 32.36s/it, v_num=k8_1, total_loss_train=514, kl_local_train=108, metric_mi|age_categorical_train=0.238]"
     ]
    },
    {
     "name": "stdout",
     "output_type": "stream",
     "text": [
      "\r\n",
      "Epoch 308/600:  51%|█████▏    | 308/600 [2:44:22<2:37:27, 32.36s/it, v_num=k8_1, total_loss_train=514, kl_local_train=108, metric_mi|age_categorical_train=0.238]"
     ]
    },
    {
     "name": "stdout",
     "output_type": "stream",
     "text": [
      "\r\n",
      "Epoch 309/600:  51%|█████▏    | 308/600 [2:44:22<2:37:27, 32.36s/it, v_num=k8_1, total_loss_train=514, kl_local_train=108, metric_mi|age_categorical_train=0.238]"
     ]
    },
    {
     "name": "stdout",
     "output_type": "stream",
     "text": [
      "\r\n",
      "Epoch 309/600:  52%|█████▏    | 309/600 [2:44:54<2:36:46, 32.32s/it, v_num=k8_1, total_loss_train=514, kl_local_train=108, metric_mi|age_categorical_train=0.238]"
     ]
    },
    {
     "name": "stdout",
     "output_type": "stream",
     "text": [
      "\r\n",
      "Epoch 309/600:  52%|█████▏    | 309/600 [2:44:54<2:36:46, 32.32s/it, v_num=k8_1, total_loss_train=514, kl_local_train=108, metric_mi|age_categorical_train=0.238]"
     ]
    },
    {
     "name": "stdout",
     "output_type": "stream",
     "text": [
      "\r\n",
      "Epoch 310/600:  52%|█████▏    | 309/600 [2:44:54<2:36:46, 32.32s/it, v_num=k8_1, total_loss_train=514, kl_local_train=108, metric_mi|age_categorical_train=0.238]"
     ]
    },
    {
     "name": "stdout",
     "output_type": "stream",
     "text": [
      "\r\n",
      "Epoch 310/600:  52%|█████▏    | 310/600 [2:45:27<2:36:33, 32.39s/it, v_num=k8_1, total_loss_train=514, kl_local_train=108, metric_mi|age_categorical_train=0.238]"
     ]
    },
    {
     "name": "stdout",
     "output_type": "stream",
     "text": [
      "\r\n",
      "Epoch 310/600:  52%|█████▏    | 310/600 [2:45:27<2:36:33, 32.39s/it, v_num=k8_1, total_loss_train=514, kl_local_train=107, metric_mi|age_categorical_train=0.238]"
     ]
    },
    {
     "name": "stdout",
     "output_type": "stream",
     "text": [
      "\r\n",
      "Epoch 311/600:  52%|█████▏    | 310/600 [2:45:28<2:36:33, 32.39s/it, v_num=k8_1, total_loss_train=514, kl_local_train=107, metric_mi|age_categorical_train=0.238]"
     ]
    },
    {
     "name": "stdout",
     "output_type": "stream",
     "text": [
      "\r\n",
      "Epoch 311/600:  52%|█████▏    | 311/600 [2:46:00<2:36:46, 32.55s/it, v_num=k8_1, total_loss_train=514, kl_local_train=107, metric_mi|age_categorical_train=0.238]"
     ]
    },
    {
     "name": "stdout",
     "output_type": "stream",
     "text": [
      "\r\n",
      "Epoch 311/600:  52%|█████▏    | 311/600 [2:46:00<2:36:46, 32.55s/it, v_num=k8_1, total_loss_train=514, kl_local_train=107, metric_mi|age_categorical_train=0.235]"
     ]
    },
    {
     "name": "stdout",
     "output_type": "stream",
     "text": [
      "\r\n",
      "Epoch 312/600:  52%|█████▏    | 311/600 [2:46:00<2:36:46, 32.55s/it, v_num=k8_1, total_loss_train=514, kl_local_train=107, metric_mi|age_categorical_train=0.235]"
     ]
    },
    {
     "name": "stdout",
     "output_type": "stream",
     "text": [
      "\r\n",
      "Epoch 312/600:  52%|█████▏    | 312/600 [2:46:32<2:35:53, 32.48s/it, v_num=k8_1, total_loss_train=514, kl_local_train=107, metric_mi|age_categorical_train=0.235]"
     ]
    },
    {
     "name": "stdout",
     "output_type": "stream",
     "text": [
      "\r\n",
      "Epoch 312/600:  52%|█████▏    | 312/600 [2:46:32<2:35:53, 32.48s/it, v_num=k8_1, total_loss_train=514, kl_local_train=107, metric_mi|age_categorical_train=0.235]"
     ]
    },
    {
     "name": "stdout",
     "output_type": "stream",
     "text": [
      "\r\n",
      "Epoch 313/600:  52%|█████▏    | 312/600 [2:46:32<2:35:53, 32.48s/it, v_num=k8_1, total_loss_train=514, kl_local_train=107, metric_mi|age_categorical_train=0.235]"
     ]
    },
    {
     "name": "stdout",
     "output_type": "stream",
     "text": [
      "\r\n",
      "Epoch 313/600:  52%|█████▏    | 313/600 [2:47:04<2:35:15, 32.46s/it, v_num=k8_1, total_loss_train=514, kl_local_train=107, metric_mi|age_categorical_train=0.235]"
     ]
    },
    {
     "name": "stdout",
     "output_type": "stream",
     "text": [
      "\r\n",
      "Epoch 313/600:  52%|█████▏    | 313/600 [2:47:04<2:35:15, 32.46s/it, v_num=k8_1, total_loss_train=515, kl_local_train=107, metric_mi|age_categorical_train=0.235]"
     ]
    },
    {
     "name": "stdout",
     "output_type": "stream",
     "text": [
      "\r\n",
      "Epoch 314/600:  52%|█████▏    | 313/600 [2:47:04<2:35:15, 32.46s/it, v_num=k8_1, total_loss_train=515, kl_local_train=107, metric_mi|age_categorical_train=0.235]"
     ]
    },
    {
     "name": "stdout",
     "output_type": "stream",
     "text": [
      "\r\n",
      "Epoch 314/600:  52%|█████▏    | 314/600 [2:47:37<2:34:32, 32.42s/it, v_num=k8_1, total_loss_train=515, kl_local_train=107, metric_mi|age_categorical_train=0.235]"
     ]
    },
    {
     "name": "stdout",
     "output_type": "stream",
     "text": [
      "\r\n",
      "Epoch 314/600:  52%|█████▏    | 314/600 [2:47:37<2:34:32, 32.42s/it, v_num=k8_1, total_loss_train=514, kl_local_train=106, metric_mi|age_categorical_train=0.235]"
     ]
    },
    {
     "name": "stdout",
     "output_type": "stream",
     "text": [
      "\r\n",
      "Epoch 315/600:  52%|█████▏    | 314/600 [2:47:37<2:34:32, 32.42s/it, v_num=k8_1, total_loss_train=514, kl_local_train=106, metric_mi|age_categorical_train=0.235]"
     ]
    },
    {
     "name": "stdout",
     "output_type": "stream",
     "text": [
      "\r\n",
      "Epoch 315/600:  52%|█████▎    | 315/600 [2:48:09<2:34:13, 32.47s/it, v_num=k8_1, total_loss_train=514, kl_local_train=106, metric_mi|age_categorical_train=0.235]"
     ]
    },
    {
     "name": "stdout",
     "output_type": "stream",
     "text": [
      "\r\n",
      "Epoch 315/600:  52%|█████▎    | 315/600 [2:48:09<2:34:13, 32.47s/it, v_num=k8_1, total_loss_train=515, kl_local_train=107, metric_mi|age_categorical_train=0.235]"
     ]
    },
    {
     "name": "stdout",
     "output_type": "stream",
     "text": [
      "\r\n",
      "Epoch 316/600:  52%|█████▎    | 315/600 [2:48:10<2:34:13, 32.47s/it, v_num=k8_1, total_loss_train=515, kl_local_train=107, metric_mi|age_categorical_train=0.235]"
     ]
    },
    {
     "name": "stdout",
     "output_type": "stream",
     "text": [
      "\r\n",
      "Epoch 316/600:  53%|█████▎    | 316/600 [2:48:42<2:34:30, 32.64s/it, v_num=k8_1, total_loss_train=515, kl_local_train=107, metric_mi|age_categorical_train=0.235]"
     ]
    },
    {
     "name": "stdout",
     "output_type": "stream",
     "text": [
      "\r\n",
      "Epoch 316/600:  53%|█████▎    | 316/600 [2:48:42<2:34:30, 32.64s/it, v_num=k8_1, total_loss_train=515, kl_local_train=107, metric_mi|age_categorical_train=0.234]"
     ]
    },
    {
     "name": "stdout",
     "output_type": "stream",
     "text": [
      "\r\n",
      "Epoch 317/600:  53%|█████▎    | 316/600 [2:48:42<2:34:30, 32.64s/it, v_num=k8_1, total_loss_train=515, kl_local_train=107, metric_mi|age_categorical_train=0.234]"
     ]
    },
    {
     "name": "stdout",
     "output_type": "stream",
     "text": [
      "\r\n",
      "Epoch 317/600:  53%|█████▎    | 317/600 [2:49:15<2:33:30, 32.54s/it, v_num=k8_1, total_loss_train=515, kl_local_train=107, metric_mi|age_categorical_train=0.234]"
     ]
    },
    {
     "name": "stdout",
     "output_type": "stream",
     "text": [
      "\r\n",
      "Epoch 317/600:  53%|█████▎    | 317/600 [2:49:15<2:33:30, 32.54s/it, v_num=k8_1, total_loss_train=515, kl_local_train=106, metric_mi|age_categorical_train=0.234]"
     ]
    },
    {
     "name": "stdout",
     "output_type": "stream",
     "text": [
      "\r\n",
      "Epoch 318/600:  53%|█████▎    | 317/600 [2:49:15<2:33:30, 32.54s/it, v_num=k8_1, total_loss_train=515, kl_local_train=106, metric_mi|age_categorical_train=0.234]"
     ]
    },
    {
     "name": "stdout",
     "output_type": "stream",
     "text": [
      "\r\n",
      "Epoch 318/600:  53%|█████▎    | 318/600 [2:49:47<2:32:37, 32.47s/it, v_num=k8_1, total_loss_train=515, kl_local_train=106, metric_mi|age_categorical_train=0.234]"
     ]
    },
    {
     "name": "stdout",
     "output_type": "stream",
     "text": [
      "\r\n",
      "Epoch 318/600:  53%|█████▎    | 318/600 [2:49:47<2:32:37, 32.47s/it, v_num=k8_1, total_loss_train=515, kl_local_train=106, metric_mi|age_categorical_train=0.234]"
     ]
    },
    {
     "name": "stdout",
     "output_type": "stream",
     "text": [
      "\r\n",
      "Epoch 319/600:  53%|█████▎    | 318/600 [2:49:47<2:32:37, 32.47s/it, v_num=k8_1, total_loss_train=515, kl_local_train=106, metric_mi|age_categorical_train=0.234]"
     ]
    },
    {
     "name": "stdout",
     "output_type": "stream",
     "text": [
      "\r\n",
      "Epoch 319/600:  53%|█████▎    | 319/600 [2:50:19<2:31:51, 32.42s/it, v_num=k8_1, total_loss_train=515, kl_local_train=106, metric_mi|age_categorical_train=0.234]"
     ]
    },
    {
     "name": "stdout",
     "output_type": "stream",
     "text": [
      "\r\n",
      "Epoch 319/600:  53%|█████▎    | 319/600 [2:50:19<2:31:51, 32.42s/it, v_num=k8_1, total_loss_train=515, kl_local_train=106, metric_mi|age_categorical_train=0.234]"
     ]
    },
    {
     "name": "stdout",
     "output_type": "stream",
     "text": [
      "\r\n",
      "Epoch 320/600:  53%|█████▎    | 319/600 [2:50:19<2:31:51, 32.42s/it, v_num=k8_1, total_loss_train=515, kl_local_train=106, metric_mi|age_categorical_train=0.234]"
     ]
    },
    {
     "name": "stdout",
     "output_type": "stream",
     "text": [
      "\r\n",
      "Epoch 320/600:  53%|█████▎    | 320/600 [2:50:52<2:31:58, 32.57s/it, v_num=k8_1, total_loss_train=515, kl_local_train=106, metric_mi|age_categorical_train=0.234]"
     ]
    },
    {
     "name": "stdout",
     "output_type": "stream",
     "text": [
      "\r\n",
      "Epoch 320/600:  53%|█████▎    | 320/600 [2:50:52<2:31:58, 32.57s/it, v_num=k8_1, total_loss_train=515, kl_local_train=106, metric_mi|age_categorical_train=0.234]"
     ]
    },
    {
     "name": "stdout",
     "output_type": "stream",
     "text": [
      "\r\n",
      "Epoch 321/600:  53%|█████▎    | 320/600 [2:50:53<2:31:58, 32.57s/it, v_num=k8_1, total_loss_train=515, kl_local_train=106, metric_mi|age_categorical_train=0.234]"
     ]
    },
    {
     "name": "stdout",
     "output_type": "stream",
     "text": [
      "\r\n",
      "Epoch 321/600:  54%|█████▎    | 321/600 [2:51:25<2:32:13, 32.74s/it, v_num=k8_1, total_loss_train=515, kl_local_train=106, metric_mi|age_categorical_train=0.234]"
     ]
    },
    {
     "name": "stdout",
     "output_type": "stream",
     "text": [
      "\r\n",
      "Epoch 321/600:  54%|█████▎    | 321/600 [2:51:25<2:32:13, 32.74s/it, v_num=k8_1, total_loss_train=515, kl_local_train=106, metric_mi|age_categorical_train=0.236]"
     ]
    },
    {
     "name": "stdout",
     "output_type": "stream",
     "text": [
      "\r\n",
      "Epoch 322/600:  54%|█████▎    | 321/600 [2:51:25<2:32:13, 32.74s/it, v_num=k8_1, total_loss_train=515, kl_local_train=106, metric_mi|age_categorical_train=0.236]"
     ]
    },
    {
     "name": "stdout",
     "output_type": "stream",
     "text": [
      "\r\n",
      "Epoch 322/600:  54%|█████▎    | 322/600 [2:51:58<2:31:11, 32.63s/it, v_num=k8_1, total_loss_train=515, kl_local_train=106, metric_mi|age_categorical_train=0.236]"
     ]
    },
    {
     "name": "stdout",
     "output_type": "stream",
     "text": [
      "\r\n",
      "Epoch 322/600:  54%|█████▎    | 322/600 [2:51:58<2:31:11, 32.63s/it, v_num=k8_1, total_loss_train=516, kl_local_train=106, metric_mi|age_categorical_train=0.236]"
     ]
    },
    {
     "name": "stdout",
     "output_type": "stream",
     "text": [
      "\r\n",
      "Epoch 323/600:  54%|█████▎    | 322/600 [2:51:58<2:31:11, 32.63s/it, v_num=k8_1, total_loss_train=516, kl_local_train=106, metric_mi|age_categorical_train=0.236]"
     ]
    },
    {
     "name": "stdout",
     "output_type": "stream",
     "text": [
      "\r\n",
      "Epoch 323/600:  54%|█████▍    | 323/600 [2:52:30<2:30:14, 32.54s/it, v_num=k8_1, total_loss_train=516, kl_local_train=106, metric_mi|age_categorical_train=0.236]"
     ]
    },
    {
     "name": "stdout",
     "output_type": "stream",
     "text": [
      "\r\n",
      "Epoch 323/600:  54%|█████▍    | 323/600 [2:52:30<2:30:14, 32.54s/it, v_num=k8_1, total_loss_train=516, kl_local_train=106, metric_mi|age_categorical_train=0.236]"
     ]
    },
    {
     "name": "stdout",
     "output_type": "stream",
     "text": [
      "\r\n",
      "Epoch 324/600:  54%|█████▍    | 323/600 [2:52:30<2:30:14, 32.54s/it, v_num=k8_1, total_loss_train=516, kl_local_train=106, metric_mi|age_categorical_train=0.236]"
     ]
    },
    {
     "name": "stdout",
     "output_type": "stream",
     "text": [
      "\r\n",
      "Epoch 324/600:  54%|█████▍    | 324/600 [2:53:03<2:29:28, 32.50s/it, v_num=k8_1, total_loss_train=516, kl_local_train=106, metric_mi|age_categorical_train=0.236]"
     ]
    },
    {
     "name": "stdout",
     "output_type": "stream",
     "text": [
      "\r\n",
      "Epoch 324/600:  54%|█████▍    | 324/600 [2:53:03<2:29:28, 32.50s/it, v_num=k8_1, total_loss_train=516, kl_local_train=106, metric_mi|age_categorical_train=0.236]"
     ]
    },
    {
     "name": "stdout",
     "output_type": "stream",
     "text": [
      "\r\n",
      "Epoch 325/600:  54%|█████▍    | 324/600 [2:53:03<2:29:28, 32.50s/it, v_num=k8_1, total_loss_train=516, kl_local_train=106, metric_mi|age_categorical_train=0.236]"
     ]
    },
    {
     "name": "stdout",
     "output_type": "stream",
     "text": [
      "\r\n",
      "Epoch 325/600:  54%|█████▍    | 325/600 [2:53:35<2:29:26, 32.61s/it, v_num=k8_1, total_loss_train=516, kl_local_train=106, metric_mi|age_categorical_train=0.236]"
     ]
    },
    {
     "name": "stdout",
     "output_type": "stream",
     "text": [
      "\r\n",
      "Epoch 325/600:  54%|█████▍    | 325/600 [2:53:35<2:29:26, 32.61s/it, v_num=k8_1, total_loss_train=515, kl_local_train=105, metric_mi|age_categorical_train=0.236]"
     ]
    },
    {
     "name": "stdout",
     "output_type": "stream",
     "text": [
      "\r\n",
      "Epoch 326/600:  54%|█████▍    | 325/600 [2:53:36<2:29:26, 32.61s/it, v_num=k8_1, total_loss_train=515, kl_local_train=105, metric_mi|age_categorical_train=0.236]"
     ]
    },
    {
     "name": "stdout",
     "output_type": "stream",
     "text": [
      "\r\n",
      "Epoch 326/600:  54%|█████▍    | 326/600 [2:54:08<2:29:30, 32.74s/it, v_num=k8_1, total_loss_train=515, kl_local_train=105, metric_mi|age_categorical_train=0.236]"
     ]
    },
    {
     "name": "stdout",
     "output_type": "stream",
     "text": [
      "\r\n",
      "Epoch 326/600:  54%|█████▍    | 326/600 [2:54:08<2:29:30, 32.74s/it, v_num=k8_1, total_loss_train=516, kl_local_train=105, metric_mi|age_categorical_train=0.245]"
     ]
    },
    {
     "name": "stdout",
     "output_type": "stream",
     "text": [
      "\r\n",
      "Epoch 327/600:  54%|█████▍    | 326/600 [2:54:08<2:29:30, 32.74s/it, v_num=k8_1, total_loss_train=516, kl_local_train=105, metric_mi|age_categorical_train=0.245]"
     ]
    },
    {
     "name": "stdout",
     "output_type": "stream",
     "text": [
      "\r\n",
      "Epoch 327/600:  55%|█████▍    | 327/600 [2:54:41<2:28:14, 32.58s/it, v_num=k8_1, total_loss_train=516, kl_local_train=105, metric_mi|age_categorical_train=0.245]"
     ]
    },
    {
     "name": "stdout",
     "output_type": "stream",
     "text": [
      "\r\n",
      "Epoch 327/600:  55%|█████▍    | 327/600 [2:54:41<2:28:14, 32.58s/it, v_num=k8_1, total_loss_train=516, kl_local_train=105, metric_mi|age_categorical_train=0.245]"
     ]
    },
    {
     "name": "stdout",
     "output_type": "stream",
     "text": [
      "\r\n",
      "Epoch 328/600:  55%|█████▍    | 327/600 [2:54:41<2:28:14, 32.58s/it, v_num=k8_1, total_loss_train=516, kl_local_train=105, metric_mi|age_categorical_train=0.245]"
     ]
    },
    {
     "name": "stdout",
     "output_type": "stream",
     "text": [
      "\r\n",
      "Epoch 328/600:  55%|█████▍    | 328/600 [2:55:13<2:27:13, 32.48s/it, v_num=k8_1, total_loss_train=516, kl_local_train=105, metric_mi|age_categorical_train=0.245]"
     ]
    },
    {
     "name": "stdout",
     "output_type": "stream",
     "text": [
      "\r\n",
      "Epoch 328/600:  55%|█████▍    | 328/600 [2:55:13<2:27:13, 32.48s/it, v_num=k8_1, total_loss_train=516, kl_local_train=104, metric_mi|age_categorical_train=0.245]"
     ]
    },
    {
     "name": "stdout",
     "output_type": "stream",
     "text": [
      "\r\n",
      "Epoch 329/600:  55%|█████▍    | 328/600 [2:55:13<2:27:13, 32.48s/it, v_num=k8_1, total_loss_train=516, kl_local_train=104, metric_mi|age_categorical_train=0.245]"
     ]
    },
    {
     "name": "stdout",
     "output_type": "stream",
     "text": [
      "\r\n",
      "Epoch 329/600:  55%|█████▍    | 329/600 [2:55:45<2:26:17, 32.39s/it, v_num=k8_1, total_loss_train=516, kl_local_train=104, metric_mi|age_categorical_train=0.245]"
     ]
    },
    {
     "name": "stdout",
     "output_type": "stream",
     "text": [
      "\r\n",
      "Epoch 329/600:  55%|█████▍    | 329/600 [2:55:45<2:26:17, 32.39s/it, v_num=k8_1, total_loss_train=516, kl_local_train=105, metric_mi|age_categorical_train=0.245]"
     ]
    },
    {
     "name": "stdout",
     "output_type": "stream",
     "text": [
      "\r\n",
      "Epoch 330/600:  55%|█████▍    | 329/600 [2:55:45<2:26:17, 32.39s/it, v_num=k8_1, total_loss_train=516, kl_local_train=105, metric_mi|age_categorical_train=0.245]"
     ]
    },
    {
     "name": "stdout",
     "output_type": "stream",
     "text": [
      "\r\n",
      "Epoch 330/600:  55%|█████▌    | 330/600 [2:56:18<2:26:02, 32.45s/it, v_num=k8_1, total_loss_train=516, kl_local_train=105, metric_mi|age_categorical_train=0.245]"
     ]
    },
    {
     "name": "stdout",
     "output_type": "stream",
     "text": [
      "\r\n",
      "Epoch 330/600:  55%|█████▌    | 330/600 [2:56:18<2:26:02, 32.45s/it, v_num=k8_1, total_loss_train=516, kl_local_train=104, metric_mi|age_categorical_train=0.245]"
     ]
    },
    {
     "name": "stdout",
     "output_type": "stream",
     "text": [
      "\r\n",
      "Epoch 331/600:  55%|█████▌    | 330/600 [2:56:19<2:26:02, 32.45s/it, v_num=k8_1, total_loss_train=516, kl_local_train=104, metric_mi|age_categorical_train=0.245]"
     ]
    },
    {
     "name": "stdout",
     "output_type": "stream",
     "text": [
      "\r\n",
      "Epoch 331/600:  55%|█████▌    | 331/600 [2:56:50<2:25:19, 32.41s/it, v_num=k8_1, total_loss_train=516, kl_local_train=104, metric_mi|age_categorical_train=0.245]"
     ]
    },
    {
     "name": "stdout",
     "output_type": "stream",
     "text": [
      "\r\n",
      "Epoch 331/600:  55%|█████▌    | 331/600 [2:56:50<2:25:19, 32.41s/it, v_num=k8_1, total_loss_train=517, kl_local_train=104, metric_mi|age_categorical_train=0.254]"
     ]
    },
    {
     "name": "stdout",
     "output_type": "stream",
     "text": [
      "\r\n",
      "Epoch 332/600:  55%|█████▌    | 331/600 [2:56:50<2:25:19, 32.41s/it, v_num=k8_1, total_loss_train=517, kl_local_train=104, metric_mi|age_categorical_train=0.254]"
     ]
    },
    {
     "name": "stdout",
     "output_type": "stream",
     "text": [
      "\r\n",
      "Epoch 332/600:  55%|█████▌    | 332/600 [2:57:20<2:21:48, 31.75s/it, v_num=k8_1, total_loss_train=517, kl_local_train=104, metric_mi|age_categorical_train=0.254]"
     ]
    },
    {
     "name": "stdout",
     "output_type": "stream",
     "text": [
      "\r\n",
      "Epoch 332/600:  55%|█████▌    | 332/600 [2:57:20<2:21:48, 31.75s/it, v_num=k8_1, total_loss_train=517, kl_local_train=104, metric_mi|age_categorical_train=0.254]"
     ]
    },
    {
     "name": "stdout",
     "output_type": "stream",
     "text": [
      "\r\n",
      "Epoch 333/600:  55%|█████▌    | 332/600 [2:57:20<2:21:48, 31.75s/it, v_num=k8_1, total_loss_train=517, kl_local_train=104, metric_mi|age_categorical_train=0.254]"
     ]
    },
    {
     "name": "stdout",
     "output_type": "stream",
     "text": [
      "\r\n",
      "Epoch 333/600:  56%|█████▌    | 333/600 [2:57:51<2:20:35, 31.59s/it, v_num=k8_1, total_loss_train=517, kl_local_train=104, metric_mi|age_categorical_train=0.254]"
     ]
    },
    {
     "name": "stdout",
     "output_type": "stream",
     "text": [
      "\r\n",
      "Epoch 333/600:  56%|█████▌    | 333/600 [2:57:51<2:20:35, 31.59s/it, v_num=k8_1, total_loss_train=517, kl_local_train=104, metric_mi|age_categorical_train=0.254]"
     ]
    },
    {
     "name": "stdout",
     "output_type": "stream",
     "text": [
      "\r\n",
      "Epoch 334/600:  56%|█████▌    | 333/600 [2:57:51<2:20:35, 31.59s/it, v_num=k8_1, total_loss_train=517, kl_local_train=104, metric_mi|age_categorical_train=0.254]"
     ]
    },
    {
     "name": "stdout",
     "output_type": "stream",
     "text": [
      "\r\n",
      "Epoch 334/600:  56%|█████▌    | 334/600 [2:58:25<2:22:23, 32.12s/it, v_num=k8_1, total_loss_train=517, kl_local_train=104, metric_mi|age_categorical_train=0.254]"
     ]
    },
    {
     "name": "stdout",
     "output_type": "stream",
     "text": [
      "\r\n",
      "Epoch 334/600:  56%|█████▌    | 334/600 [2:58:25<2:22:23, 32.12s/it, v_num=k8_1, total_loss_train=517, kl_local_train=104, metric_mi|age_categorical_train=0.254]"
     ]
    },
    {
     "name": "stdout",
     "output_type": "stream",
     "text": [
      "\r\n",
      "Epoch 335/600:  56%|█████▌    | 334/600 [2:58:25<2:22:23, 32.12s/it, v_num=k8_1, total_loss_train=517, kl_local_train=104, metric_mi|age_categorical_train=0.254]"
     ]
    },
    {
     "name": "stdout",
     "output_type": "stream",
     "text": [
      "\r\n",
      "Epoch 335/600:  56%|█████▌    | 335/600 [2:58:59<2:24:17, 32.67s/it, v_num=k8_1, total_loss_train=517, kl_local_train=104, metric_mi|age_categorical_train=0.254]"
     ]
    },
    {
     "name": "stdout",
     "output_type": "stream",
     "text": [
      "\r\n",
      "Epoch 335/600:  56%|█████▌    | 335/600 [2:58:59<2:24:17, 32.67s/it, v_num=k8_1, total_loss_train=517, kl_local_train=104, metric_mi|age_categorical_train=0.254]"
     ]
    },
    {
     "name": "stdout",
     "output_type": "stream",
     "text": [
      "\r\n",
      "Epoch 336/600:  56%|█████▌    | 335/600 [2:59:00<2:24:17, 32.67s/it, v_num=k8_1, total_loss_train=517, kl_local_train=104, metric_mi|age_categorical_train=0.254]"
     ]
    },
    {
     "name": "stdout",
     "output_type": "stream",
     "text": [
      "\r\n",
      "Epoch 336/600:  56%|█████▌    | 336/600 [2:59:33<2:25:36, 33.09s/it, v_num=k8_1, total_loss_train=517, kl_local_train=104, metric_mi|age_categorical_train=0.254]"
     ]
    },
    {
     "name": "stdout",
     "output_type": "stream",
     "text": [
      "\r\n",
      "Epoch 336/600:  56%|█████▌    | 336/600 [2:59:33<2:25:36, 33.09s/it, v_num=k8_1, total_loss_train=517, kl_local_train=103, metric_mi|age_categorical_train=0.247]"
     ]
    },
    {
     "name": "stdout",
     "output_type": "stream",
     "text": [
      "\r\n",
      "Epoch 337/600:  56%|█████▌    | 336/600 [2:59:33<2:25:36, 33.09s/it, v_num=k8_1, total_loss_train=517, kl_local_train=103, metric_mi|age_categorical_train=0.247]"
     ]
    },
    {
     "name": "stdout",
     "output_type": "stream",
     "text": [
      "\r\n",
      "Epoch 337/600:  56%|█████▌    | 337/600 [3:00:06<2:25:26, 33.18s/it, v_num=k8_1, total_loss_train=517, kl_local_train=103, metric_mi|age_categorical_train=0.247]"
     ]
    },
    {
     "name": "stdout",
     "output_type": "stream",
     "text": [
      "\r\n",
      "Epoch 337/600:  56%|█████▌    | 337/600 [3:00:06<2:25:26, 33.18s/it, v_num=k8_1, total_loss_train=517, kl_local_train=103, metric_mi|age_categorical_train=0.247]"
     ]
    },
    {
     "name": "stdout",
     "output_type": "stream",
     "text": [
      "\r\n",
      "Epoch 338/600:  56%|█████▌    | 337/600 [3:00:06<2:25:26, 33.18s/it, v_num=k8_1, total_loss_train=517, kl_local_train=103, metric_mi|age_categorical_train=0.247]"
     ]
    },
    {
     "name": "stdout",
     "output_type": "stream",
     "text": [
      "\r\n",
      "Epoch 338/600:  56%|█████▋    | 338/600 [3:00:40<2:25:10, 33.25s/it, v_num=k8_1, total_loss_train=517, kl_local_train=103, metric_mi|age_categorical_train=0.247]"
     ]
    },
    {
     "name": "stdout",
     "output_type": "stream",
     "text": [
      "\r\n",
      "Epoch 338/600:  56%|█████▋    | 338/600 [3:00:40<2:25:10, 33.25s/it, v_num=k8_1, total_loss_train=517, kl_local_train=104, metric_mi|age_categorical_train=0.247]"
     ]
    },
    {
     "name": "stdout",
     "output_type": "stream",
     "text": [
      "\r\n",
      "Epoch 339/600:  56%|█████▋    | 338/600 [3:00:40<2:25:10, 33.25s/it, v_num=k8_1, total_loss_train=517, kl_local_train=104, metric_mi|age_categorical_train=0.247]"
     ]
    },
    {
     "name": "stdout",
     "output_type": "stream",
     "text": [
      "\r\n",
      "Epoch 339/600:  56%|█████▋    | 339/600 [3:01:13<2:24:40, 33.26s/it, v_num=k8_1, total_loss_train=517, kl_local_train=104, metric_mi|age_categorical_train=0.247]"
     ]
    },
    {
     "name": "stdout",
     "output_type": "stream",
     "text": [
      "\r\n",
      "Epoch 339/600:  56%|█████▋    | 339/600 [3:01:13<2:24:40, 33.26s/it, v_num=k8_1, total_loss_train=517, kl_local_train=103, metric_mi|age_categorical_train=0.247]"
     ]
    },
    {
     "name": "stdout",
     "output_type": "stream",
     "text": [
      "\r\n",
      "Epoch 340/600:  56%|█████▋    | 339/600 [3:01:13<2:24:40, 33.26s/it, v_num=k8_1, total_loss_train=517, kl_local_train=103, metric_mi|age_categorical_train=0.247]"
     ]
    },
    {
     "name": "stdout",
     "output_type": "stream",
     "text": [
      "\r\n",
      "Epoch 340/600:  57%|█████▋    | 340/600 [3:01:46<2:24:36, 33.37s/it, v_num=k8_1, total_loss_train=517, kl_local_train=103, metric_mi|age_categorical_train=0.247]"
     ]
    },
    {
     "name": "stdout",
     "output_type": "stream",
     "text": [
      "\r\n",
      "Epoch 340/600:  57%|█████▋    | 340/600 [3:01:46<2:24:36, 33.37s/it, v_num=k8_1, total_loss_train=517, kl_local_train=103, metric_mi|age_categorical_train=0.247]"
     ]
    },
    {
     "name": "stdout",
     "output_type": "stream",
     "text": [
      "\r\n",
      "Epoch 341/600:  57%|█████▋    | 340/600 [3:01:47<2:24:36, 33.37s/it, v_num=k8_1, total_loss_train=517, kl_local_train=103, metric_mi|age_categorical_train=0.247]"
     ]
    },
    {
     "name": "stdout",
     "output_type": "stream",
     "text": [
      "\r\n",
      "Epoch 341/600:  57%|█████▋    | 341/600 [3:02:21<2:24:52, 33.56s/it, v_num=k8_1, total_loss_train=517, kl_local_train=103, metric_mi|age_categorical_train=0.247]"
     ]
    },
    {
     "name": "stdout",
     "output_type": "stream",
     "text": [
      "\r\n",
      "Epoch 341/600:  57%|█████▋    | 341/600 [3:02:21<2:24:52, 33.56s/it, v_num=k8_1, total_loss_train=517, kl_local_train=102, metric_mi|age_categorical_train=0.241]"
     ]
    },
    {
     "name": "stdout",
     "output_type": "stream",
     "text": [
      "\r\n",
      "Epoch 342/600:  57%|█████▋    | 341/600 [3:02:21<2:24:52, 33.56s/it, v_num=k8_1, total_loss_train=517, kl_local_train=102, metric_mi|age_categorical_train=0.241]"
     ]
    },
    {
     "name": "stdout",
     "output_type": "stream",
     "text": [
      "\r\n",
      "Epoch 342/600:  57%|█████▋    | 342/600 [3:02:54<2:24:13, 33.54s/it, v_num=k8_1, total_loss_train=517, kl_local_train=102, metric_mi|age_categorical_train=0.241]"
     ]
    },
    {
     "name": "stdout",
     "output_type": "stream",
     "text": [
      "\r\n",
      "Epoch 342/600:  57%|█████▋    | 342/600 [3:02:54<2:24:13, 33.54s/it, v_num=k8_1, total_loss_train=518, kl_local_train=103, metric_mi|age_categorical_train=0.241]"
     ]
    },
    {
     "name": "stdout",
     "output_type": "stream",
     "text": [
      "\r\n",
      "Epoch 343/600:  57%|█████▋    | 342/600 [3:02:54<2:24:13, 33.54s/it, v_num=k8_1, total_loss_train=518, kl_local_train=103, metric_mi|age_categorical_train=0.241]"
     ]
    },
    {
     "name": "stdout",
     "output_type": "stream",
     "text": [
      "\r\n",
      "Epoch 343/600:  57%|█████▋    | 343/600 [3:03:27<2:23:15, 33.45s/it, v_num=k8_1, total_loss_train=518, kl_local_train=103, metric_mi|age_categorical_train=0.241]"
     ]
    },
    {
     "name": "stdout",
     "output_type": "stream",
     "text": [
      "\r\n",
      "Epoch 343/600:  57%|█████▋    | 343/600 [3:03:27<2:23:15, 33.45s/it, v_num=k8_1, total_loss_train=517, kl_local_train=103, metric_mi|age_categorical_train=0.241]"
     ]
    },
    {
     "name": "stdout",
     "output_type": "stream",
     "text": [
      "\r\n",
      "Epoch 344/600:  57%|█████▋    | 343/600 [3:03:27<2:23:15, 33.45s/it, v_num=k8_1, total_loss_train=517, kl_local_train=103, metric_mi|age_categorical_train=0.241]"
     ]
    },
    {
     "name": "stdout",
     "output_type": "stream",
     "text": [
      "\r\n",
      "Epoch 344/600:  57%|█████▋    | 344/600 [3:04:00<2:22:28, 33.39s/it, v_num=k8_1, total_loss_train=517, kl_local_train=103, metric_mi|age_categorical_train=0.241]"
     ]
    },
    {
     "name": "stdout",
     "output_type": "stream",
     "text": [
      "\r\n",
      "Epoch 344/600:  57%|█████▋    | 344/600 [3:04:00<2:22:28, 33.39s/it, v_num=k8_1, total_loss_train=518, kl_local_train=102, metric_mi|age_categorical_train=0.241]"
     ]
    },
    {
     "name": "stdout",
     "output_type": "stream",
     "text": [
      "\r\n",
      "Epoch 345/600:  57%|█████▋    | 344/600 [3:04:00<2:22:28, 33.39s/it, v_num=k8_1, total_loss_train=518, kl_local_train=102, metric_mi|age_categorical_train=0.241]"
     ]
    },
    {
     "name": "stdout",
     "output_type": "stream",
     "text": [
      "\r\n",
      "Epoch 345/600:  57%|█████▊    | 345/600 [3:04:34<2:22:11, 33.46s/it, v_num=k8_1, total_loss_train=518, kl_local_train=102, metric_mi|age_categorical_train=0.241]"
     ]
    },
    {
     "name": "stdout",
     "output_type": "stream",
     "text": [
      "\r\n",
      "Epoch 345/600:  57%|█████▊    | 345/600 [3:04:34<2:22:11, 33.46s/it, v_num=k8_1, total_loss_train=518, kl_local_train=102, metric_mi|age_categorical_train=0.241]"
     ]
    },
    {
     "name": "stdout",
     "output_type": "stream",
     "text": [
      "\r\n",
      "Epoch 346/600:  57%|█████▊    | 345/600 [3:04:35<2:22:11, 33.46s/it, v_num=k8_1, total_loss_train=518, kl_local_train=102, metric_mi|age_categorical_train=0.241]"
     ]
    },
    {
     "name": "stdout",
     "output_type": "stream",
     "text": [
      "\r\n",
      "Epoch 346/600:  58%|█████▊    | 346/600 [3:05:09<2:22:51, 33.75s/it, v_num=k8_1, total_loss_train=518, kl_local_train=102, metric_mi|age_categorical_train=0.241]"
     ]
    },
    {
     "name": "stdout",
     "output_type": "stream",
     "text": [
      "\r\n",
      "Epoch 346/600:  58%|█████▊    | 346/600 [3:05:09<2:22:51, 33.75s/it, v_num=k8_1, total_loss_train=518, kl_local_train=102, metric_mi|age_categorical_train=0.242]"
     ]
    },
    {
     "name": "stdout",
     "output_type": "stream",
     "text": [
      "\r\n",
      "Epoch 347/600:  58%|█████▊    | 346/600 [3:05:09<2:22:51, 33.75s/it, v_num=k8_1, total_loss_train=518, kl_local_train=102, metric_mi|age_categorical_train=0.242]"
     ]
    },
    {
     "name": "stdout",
     "output_type": "stream",
     "text": [
      "\r\n",
      "Epoch 347/600:  58%|█████▊    | 347/600 [3:05:42<2:21:33, 33.57s/it, v_num=k8_1, total_loss_train=518, kl_local_train=102, metric_mi|age_categorical_train=0.242]"
     ]
    },
    {
     "name": "stdout",
     "output_type": "stream",
     "text": [
      "\r\n",
      "Epoch 347/600:  58%|█████▊    | 347/600 [3:05:42<2:21:33, 33.57s/it, v_num=k8_1, total_loss_train=518, kl_local_train=102, metric_mi|age_categorical_train=0.242]"
     ]
    },
    {
     "name": "stdout",
     "output_type": "stream",
     "text": [
      "\r\n",
      "Epoch 348/600:  58%|█████▊    | 347/600 [3:05:42<2:21:33, 33.57s/it, v_num=k8_1, total_loss_train=518, kl_local_train=102, metric_mi|age_categorical_train=0.242]"
     ]
    },
    {
     "name": "stdout",
     "output_type": "stream",
     "text": [
      "\r\n",
      "Epoch 348/600:  58%|█████▊    | 348/600 [3:06:15<2:20:29, 33.45s/it, v_num=k8_1, total_loss_train=518, kl_local_train=102, metric_mi|age_categorical_train=0.242]"
     ]
    },
    {
     "name": "stdout",
     "output_type": "stream",
     "text": [
      "\r\n",
      "Epoch 348/600:  58%|█████▊    | 348/600 [3:06:15<2:20:29, 33.45s/it, v_num=k8_1, total_loss_train=518, kl_local_train=102, metric_mi|age_categorical_train=0.242]"
     ]
    },
    {
     "name": "stdout",
     "output_type": "stream",
     "text": [
      "\r\n",
      "Epoch 349/600:  58%|█████▊    | 348/600 [3:06:15<2:20:29, 33.45s/it, v_num=k8_1, total_loss_train=518, kl_local_train=102, metric_mi|age_categorical_train=0.242]"
     ]
    },
    {
     "name": "stdout",
     "output_type": "stream",
     "text": [
      "\r\n",
      "Epoch 349/600:  58%|█████▊    | 349/600 [3:06:48<2:19:34, 33.36s/it, v_num=k8_1, total_loss_train=518, kl_local_train=102, metric_mi|age_categorical_train=0.242]"
     ]
    },
    {
     "name": "stdout",
     "output_type": "stream",
     "text": [
      "\r\n",
      "Epoch 349/600:  58%|█████▊    | 349/600 [3:06:48<2:19:34, 33.36s/it, v_num=k8_1, total_loss_train=518, kl_local_train=102, metric_mi|age_categorical_train=0.242]"
     ]
    },
    {
     "name": "stdout",
     "output_type": "stream",
     "text": [
      "\r\n",
      "Epoch 350/600:  58%|█████▊    | 349/600 [3:06:48<2:19:34, 33.36s/it, v_num=k8_1, total_loss_train=518, kl_local_train=102, metric_mi|age_categorical_train=0.242]"
     ]
    },
    {
     "name": "stdout",
     "output_type": "stream",
     "text": [
      "\r\n",
      "Epoch 350/600:  58%|█████▊    | 350/600 [3:07:22<2:19:10, 33.40s/it, v_num=k8_1, total_loss_train=518, kl_local_train=102, metric_mi|age_categorical_train=0.242]"
     ]
    },
    {
     "name": "stdout",
     "output_type": "stream",
     "text": [
      "\r\n",
      "Epoch 350/600:  58%|█████▊    | 350/600 [3:07:22<2:19:10, 33.40s/it, v_num=k8_1, total_loss_train=519, kl_local_train=102, metric_mi|age_categorical_train=0.242]"
     ]
    },
    {
     "name": "stdout",
     "output_type": "stream",
     "text": [
      "\r\n",
      "Epoch 351/600:  58%|█████▊    | 350/600 [3:07:22<2:19:10, 33.40s/it, v_num=k8_1, total_loss_train=519, kl_local_train=102, metric_mi|age_categorical_train=0.242]"
     ]
    },
    {
     "name": "stdout",
     "output_type": "stream",
     "text": [
      "\r\n",
      "Epoch 351/600:  58%|█████▊    | 351/600 [3:07:56<2:19:23, 33.59s/it, v_num=k8_1, total_loss_train=519, kl_local_train=102, metric_mi|age_categorical_train=0.242]"
     ]
    },
    {
     "name": "stdout",
     "output_type": "stream",
     "text": [
      "\r\n",
      "Epoch 351/600:  58%|█████▊    | 351/600 [3:07:56<2:19:23, 33.59s/it, v_num=k8_1, total_loss_train=519, kl_local_train=102, metric_mi|age_categorical_train=0.242]"
     ]
    },
    {
     "name": "stdout",
     "output_type": "stream",
     "text": [
      "\r\n",
      "Epoch 352/600:  58%|█████▊    | 351/600 [3:07:56<2:19:23, 33.59s/it, v_num=k8_1, total_loss_train=519, kl_local_train=102, metric_mi|age_categorical_train=0.242]"
     ]
    },
    {
     "name": "stdout",
     "output_type": "stream",
     "text": [
      "\r\n",
      "Epoch 352/600:  59%|█████▊    | 352/600 [3:08:29<2:18:15, 33.45s/it, v_num=k8_1, total_loss_train=519, kl_local_train=102, metric_mi|age_categorical_train=0.242]"
     ]
    },
    {
     "name": "stdout",
     "output_type": "stream",
     "text": [
      "\r\n",
      "Epoch 352/600:  59%|█████▊    | 352/600 [3:08:29<2:18:15, 33.45s/it, v_num=k8_1, total_loss_train=518, kl_local_train=101, metric_mi|age_categorical_train=0.242]"
     ]
    },
    {
     "name": "stdout",
     "output_type": "stream",
     "text": [
      "\r\n",
      "Epoch 353/600:  59%|█████▊    | 352/600 [3:08:29<2:18:15, 33.45s/it, v_num=k8_1, total_loss_train=518, kl_local_train=101, metric_mi|age_categorical_train=0.242]"
     ]
    },
    {
     "name": "stdout",
     "output_type": "stream",
     "text": [
      "\r\n",
      "Epoch 353/600:  59%|█████▉    | 353/600 [3:09:02<2:17:18, 33.35s/it, v_num=k8_1, total_loss_train=518, kl_local_train=101, metric_mi|age_categorical_train=0.242]"
     ]
    },
    {
     "name": "stdout",
     "output_type": "stream",
     "text": [
      "\r\n",
      "Epoch 353/600:  59%|█████▉    | 353/600 [3:09:02<2:17:18, 33.35s/it, v_num=k8_1, total_loss_train=519, kl_local_train=102, metric_mi|age_categorical_train=0.242]"
     ]
    },
    {
     "name": "stdout",
     "output_type": "stream",
     "text": [
      "\r\n",
      "Epoch 354/600:  59%|█████▉    | 353/600 [3:09:02<2:17:18, 33.35s/it, v_num=k8_1, total_loss_train=519, kl_local_train=102, metric_mi|age_categorical_train=0.242]"
     ]
    },
    {
     "name": "stdout",
     "output_type": "stream",
     "text": [
      "\r\n",
      "Epoch 354/600:  59%|█████▉    | 354/600 [3:09:35<2:16:29, 33.29s/it, v_num=k8_1, total_loss_train=519, kl_local_train=102, metric_mi|age_categorical_train=0.242]"
     ]
    },
    {
     "name": "stdout",
     "output_type": "stream",
     "text": [
      "\r\n",
      "Epoch 354/600:  59%|█████▉    | 354/600 [3:09:35<2:16:29, 33.29s/it, v_num=k8_1, total_loss_train=518, kl_local_train=101, metric_mi|age_categorical_train=0.242]"
     ]
    },
    {
     "name": "stdout",
     "output_type": "stream",
     "text": [
      "\r\n",
      "Epoch 355/600:  59%|█████▉    | 354/600 [3:09:35<2:16:29, 33.29s/it, v_num=k8_1, total_loss_train=518, kl_local_train=101, metric_mi|age_categorical_train=0.242]"
     ]
    },
    {
     "name": "stdout",
     "output_type": "stream",
     "text": [
      "\r\n",
      "Epoch 355/600:  59%|█████▉    | 355/600 [3:10:08<2:16:10, 33.35s/it, v_num=k8_1, total_loss_train=518, kl_local_train=101, metric_mi|age_categorical_train=0.242]"
     ]
    },
    {
     "name": "stdout",
     "output_type": "stream",
     "text": [
      "\r\n",
      "Epoch 355/600:  59%|█████▉    | 355/600 [3:10:08<2:16:10, 33.35s/it, v_num=k8_1, total_loss_train=519, kl_local_train=101, metric_mi|age_categorical_train=0.242]"
     ]
    },
    {
     "name": "stdout",
     "output_type": "stream",
     "text": [
      "\r\n",
      "Epoch 356/600:  59%|█████▉    | 355/600 [3:10:09<2:16:10, 33.35s/it, v_num=k8_1, total_loss_train=519, kl_local_train=101, metric_mi|age_categorical_train=0.242]"
     ]
    },
    {
     "name": "stdout",
     "output_type": "stream",
     "text": [
      "\r\n",
      "Epoch 356/600:  59%|█████▉    | 356/600 [3:10:42<2:15:54, 33.42s/it, v_num=k8_1, total_loss_train=519, kl_local_train=101, metric_mi|age_categorical_train=0.242]"
     ]
    },
    {
     "name": "stdout",
     "output_type": "stream",
     "text": [
      "\r\n",
      "Epoch 356/600:  59%|█████▉    | 356/600 [3:10:42<2:15:54, 33.42s/it, v_num=k8_1, total_loss_train=519, kl_local_train=101, metric_mi|age_categorical_train=0.253]"
     ]
    },
    {
     "name": "stdout",
     "output_type": "stream",
     "text": [
      "\r\n",
      "Epoch 357/600:  59%|█████▉    | 356/600 [3:10:42<2:15:54, 33.42s/it, v_num=k8_1, total_loss_train=519, kl_local_train=101, metric_mi|age_categorical_train=0.253]"
     ]
    },
    {
     "name": "stdout",
     "output_type": "stream",
     "text": [
      "\r\n",
      "Epoch 357/600:  60%|█████▉    | 357/600 [3:11:15<2:14:50, 33.29s/it, v_num=k8_1, total_loss_train=519, kl_local_train=101, metric_mi|age_categorical_train=0.253]"
     ]
    },
    {
     "name": "stdout",
     "output_type": "stream",
     "text": [
      "\r\n",
      "Epoch 357/600:  60%|█████▉    | 357/600 [3:11:15<2:14:50, 33.29s/it, v_num=k8_1, total_loss_train=519, kl_local_train=101, metric_mi|age_categorical_train=0.253]"
     ]
    },
    {
     "name": "stdout",
     "output_type": "stream",
     "text": [
      "\r\n",
      "Epoch 358/600:  60%|█████▉    | 357/600 [3:11:15<2:14:50, 33.29s/it, v_num=k8_1, total_loss_train=519, kl_local_train=101, metric_mi|age_categorical_train=0.253]"
     ]
    },
    {
     "name": "stdout",
     "output_type": "stream",
     "text": [
      "\r\n",
      "Epoch 358/600:  60%|█████▉    | 358/600 [3:11:48<2:13:55, 33.21s/it, v_num=k8_1, total_loss_train=519, kl_local_train=101, metric_mi|age_categorical_train=0.253]"
     ]
    },
    {
     "name": "stdout",
     "output_type": "stream",
     "text": [
      "\r\n",
      "Epoch 358/600:  60%|█████▉    | 358/600 [3:11:48<2:13:55, 33.21s/it, v_num=k8_1, total_loss_train=519, kl_local_train=101, metric_mi|age_categorical_train=0.253]"
     ]
    },
    {
     "name": "stdout",
     "output_type": "stream",
     "text": [
      "\r\n",
      "Epoch 359/600:  60%|█████▉    | 358/600 [3:11:48<2:13:55, 33.21s/it, v_num=k8_1, total_loss_train=519, kl_local_train=101, metric_mi|age_categorical_train=0.253]"
     ]
    },
    {
     "name": "stdout",
     "output_type": "stream",
     "text": [
      "\r\n",
      "Epoch 359/600:  60%|█████▉    | 359/600 [3:12:21<2:13:09, 33.15s/it, v_num=k8_1, total_loss_train=519, kl_local_train=101, metric_mi|age_categorical_train=0.253]"
     ]
    },
    {
     "name": "stdout",
     "output_type": "stream",
     "text": [
      "\r\n",
      "Epoch 359/600:  60%|█████▉    | 359/600 [3:12:21<2:13:09, 33.15s/it, v_num=k8_1, total_loss_train=519, kl_local_train=100, metric_mi|age_categorical_train=0.253]"
     ]
    },
    {
     "name": "stdout",
     "output_type": "stream",
     "text": [
      "\r\n",
      "Epoch 360/600:  60%|█████▉    | 359/600 [3:12:21<2:13:09, 33.15s/it, v_num=k8_1, total_loss_train=519, kl_local_train=100, metric_mi|age_categorical_train=0.253]"
     ]
    },
    {
     "name": "stdout",
     "output_type": "stream",
     "text": [
      "\r\n",
      "Epoch 360/600:  60%|██████    | 360/600 [3:12:55<2:13:28, 33.37s/it, v_num=k8_1, total_loss_train=519, kl_local_train=100, metric_mi|age_categorical_train=0.253]"
     ]
    },
    {
     "name": "stdout",
     "output_type": "stream",
     "text": [
      "\r\n",
      "Epoch 360/600:  60%|██████    | 360/600 [3:12:55<2:13:28, 33.37s/it, v_num=k8_1, total_loss_train=519, kl_local_train=100, metric_mi|age_categorical_train=0.253]"
     ]
    },
    {
     "name": "stdout",
     "output_type": "stream",
     "text": [
      "\r\n",
      "Epoch 361/600:  60%|██████    | 360/600 [3:12:56<2:13:28, 33.37s/it, v_num=k8_1, total_loss_train=519, kl_local_train=100, metric_mi|age_categorical_train=0.253]"
     ]
    },
    {
     "name": "stdout",
     "output_type": "stream",
     "text": [
      "\r\n",
      "Epoch 361/600:  60%|██████    | 361/600 [3:13:29<2:13:33, 33.53s/it, v_num=k8_1, total_loss_train=519, kl_local_train=100, metric_mi|age_categorical_train=0.253]"
     ]
    },
    {
     "name": "stdout",
     "output_type": "stream",
     "text": [
      "\r\n",
      "Epoch 361/600:  60%|██████    | 361/600 [3:13:29<2:13:33, 33.53s/it, v_num=k8_1, total_loss_train=519, kl_local_train=100, metric_mi|age_categorical_train=0.252]"
     ]
    },
    {
     "name": "stdout",
     "output_type": "stream",
     "text": [
      "\r\n",
      "Epoch 362/600:  60%|██████    | 361/600 [3:13:29<2:13:33, 33.53s/it, v_num=k8_1, total_loss_train=519, kl_local_train=100, metric_mi|age_categorical_train=0.252]"
     ]
    },
    {
     "name": "stdout",
     "output_type": "stream",
     "text": [
      "\r\n",
      "Epoch 362/600:  60%|██████    | 362/600 [3:14:02<2:12:28, 33.40s/it, v_num=k8_1, total_loss_train=519, kl_local_train=100, metric_mi|age_categorical_train=0.252]"
     ]
    },
    {
     "name": "stdout",
     "output_type": "stream",
     "text": [
      "\r\n",
      "Epoch 362/600:  60%|██████    | 362/600 [3:14:02<2:12:28, 33.40s/it, v_num=k8_1, total_loss_train=519, kl_local_train=100, metric_mi|age_categorical_train=0.252]"
     ]
    },
    {
     "name": "stdout",
     "output_type": "stream",
     "text": [
      "\r\n",
      "Epoch 363/600:  60%|██████    | 362/600 [3:14:02<2:12:28, 33.40s/it, v_num=k8_1, total_loss_train=519, kl_local_train=100, metric_mi|age_categorical_train=0.252]"
     ]
    },
    {
     "name": "stdout",
     "output_type": "stream",
     "text": [
      "\r\n",
      "Epoch 363/600:  60%|██████    | 363/600 [3:14:35<2:11:32, 33.30s/it, v_num=k8_1, total_loss_train=519, kl_local_train=100, metric_mi|age_categorical_train=0.252]"
     ]
    },
    {
     "name": "stdout",
     "output_type": "stream",
     "text": [
      "\r\n",
      "Epoch 363/600:  60%|██████    | 363/600 [3:14:35<2:11:32, 33.30s/it, v_num=k8_1, total_loss_train=520, kl_local_train=100, metric_mi|age_categorical_train=0.252]"
     ]
    },
    {
     "name": "stdout",
     "output_type": "stream",
     "text": [
      "\r\n",
      "Epoch 364/600:  60%|██████    | 363/600 [3:14:35<2:11:32, 33.30s/it, v_num=k8_1, total_loss_train=520, kl_local_train=100, metric_mi|age_categorical_train=0.252]"
     ]
    },
    {
     "name": "stdout",
     "output_type": "stream",
     "text": [
      "\r\n",
      "Epoch 364/600:  61%|██████    | 364/600 [3:15:08<2:10:49, 33.26s/it, v_num=k8_1, total_loss_train=520, kl_local_train=100, metric_mi|age_categorical_train=0.252]"
     ]
    },
    {
     "name": "stdout",
     "output_type": "stream",
     "text": [
      "\r\n",
      "Epoch 364/600:  61%|██████    | 364/600 [3:15:08<2:10:49, 33.26s/it, v_num=k8_1, total_loss_train=520, kl_local_train=100, metric_mi|age_categorical_train=0.252]"
     ]
    },
    {
     "name": "stdout",
     "output_type": "stream",
     "text": [
      "\r\n",
      "Epoch 365/600:  61%|██████    | 364/600 [3:15:08<2:10:49, 33.26s/it, v_num=k8_1, total_loss_train=520, kl_local_train=100, metric_mi|age_categorical_train=0.252]"
     ]
    },
    {
     "name": "stdout",
     "output_type": "stream",
     "text": [
      "\r\n",
      "Epoch 365/600:  61%|██████    | 365/600 [3:15:42<2:10:33, 33.33s/it, v_num=k8_1, total_loss_train=520, kl_local_train=100, metric_mi|age_categorical_train=0.252]"
     ]
    },
    {
     "name": "stdout",
     "output_type": "stream",
     "text": [
      "\r\n",
      "Epoch 365/600:  61%|██████    | 365/600 [3:15:42<2:10:33, 33.33s/it, v_num=k8_1, total_loss_train=520, kl_local_train=100, metric_mi|age_categorical_train=0.252]"
     ]
    },
    {
     "name": "stdout",
     "output_type": "stream",
     "text": [
      "\r\n",
      "Epoch 366/600:  61%|██████    | 365/600 [3:15:42<2:10:33, 33.33s/it, v_num=k8_1, total_loss_train=520, kl_local_train=100, metric_mi|age_categorical_train=0.252]"
     ]
    },
    {
     "name": "stdout",
     "output_type": "stream",
     "text": [
      "\r\n",
      "Epoch 366/600:  61%|██████    | 366/600 [3:16:16<2:10:54, 33.57s/it, v_num=k8_1, total_loss_train=520, kl_local_train=100, metric_mi|age_categorical_train=0.252]"
     ]
    },
    {
     "name": "stdout",
     "output_type": "stream",
     "text": [
      "\r\n",
      "Epoch 366/600:  61%|██████    | 366/600 [3:16:16<2:10:54, 33.57s/it, v_num=k8_1, total_loss_train=520, kl_local_train=99.8, metric_mi|age_categorical_train=0.244]"
     ]
    },
    {
     "name": "stdout",
     "output_type": "stream",
     "text": [
      "\r\n",
      "Epoch 367/600:  61%|██████    | 366/600 [3:16:16<2:10:54, 33.57s/it, v_num=k8_1, total_loss_train=520, kl_local_train=99.8, metric_mi|age_categorical_train=0.244]"
     ]
    },
    {
     "name": "stdout",
     "output_type": "stream",
     "text": [
      "\r\n",
      "Epoch 367/600:  61%|██████    | 367/600 [3:16:49<2:10:07, 33.51s/it, v_num=k8_1, total_loss_train=520, kl_local_train=99.8, metric_mi|age_categorical_train=0.244]"
     ]
    },
    {
     "name": "stdout",
     "output_type": "stream",
     "text": [
      "\r\n",
      "Epoch 367/600:  61%|██████    | 367/600 [3:16:49<2:10:07, 33.51s/it, v_num=k8_1, total_loss_train=520, kl_local_train=99.7, metric_mi|age_categorical_train=0.244]"
     ]
    },
    {
     "name": "stdout",
     "output_type": "stream",
     "text": [
      "\r\n",
      "Epoch 368/600:  61%|██████    | 367/600 [3:16:49<2:10:07, 33.51s/it, v_num=k8_1, total_loss_train=520, kl_local_train=99.7, metric_mi|age_categorical_train=0.244]"
     ]
    },
    {
     "name": "stdout",
     "output_type": "stream",
     "text": [
      "\r\n",
      "Epoch 368/600:  61%|██████▏   | 368/600 [3:17:22<2:09:21, 33.45s/it, v_num=k8_1, total_loss_train=520, kl_local_train=99.7, metric_mi|age_categorical_train=0.244]"
     ]
    },
    {
     "name": "stdout",
     "output_type": "stream",
     "text": [
      "\r\n",
      "Epoch 368/600:  61%|██████▏   | 368/600 [3:17:22<2:09:21, 33.45s/it, v_num=k8_1, total_loss_train=520, kl_local_train=99.8, metric_mi|age_categorical_train=0.244]"
     ]
    },
    {
     "name": "stdout",
     "output_type": "stream",
     "text": [
      "\r\n",
      "Epoch 369/600:  61%|██████▏   | 368/600 [3:17:22<2:09:21, 33.45s/it, v_num=k8_1, total_loss_train=520, kl_local_train=99.8, metric_mi|age_categorical_train=0.244]"
     ]
    },
    {
     "name": "stdout",
     "output_type": "stream",
     "text": [
      "\r\n",
      "Epoch 369/600:  62%|██████▏   | 369/600 [3:17:56<2:08:44, 33.44s/it, v_num=k8_1, total_loss_train=520, kl_local_train=99.8, metric_mi|age_categorical_train=0.244]"
     ]
    },
    {
     "name": "stdout",
     "output_type": "stream",
     "text": [
      "\r\n",
      "Epoch 369/600:  62%|██████▏   | 369/600 [3:17:56<2:08:44, 33.44s/it, v_num=k8_1, total_loss_train=520, kl_local_train=100, metric_mi|age_categorical_train=0.244] "
     ]
    },
    {
     "name": "stdout",
     "output_type": "stream",
     "text": [
      "\r\n",
      "Epoch 370/600:  62%|██████▏   | 369/600 [3:17:56<2:08:44, 33.44s/it, v_num=k8_1, total_loss_train=520, kl_local_train=100, metric_mi|age_categorical_train=0.244]"
     ]
    },
    {
     "name": "stdout",
     "output_type": "stream",
     "text": [
      "\r\n",
      "Epoch 370/600:  62%|██████▏   | 370/600 [3:18:30<2:08:37, 33.55s/it, v_num=k8_1, total_loss_train=520, kl_local_train=100, metric_mi|age_categorical_train=0.244]"
     ]
    },
    {
     "name": "stdout",
     "output_type": "stream",
     "text": [
      "\r\n",
      "Epoch 370/600:  62%|██████▏   | 370/600 [3:18:30<2:08:37, 33.55s/it, v_num=k8_1, total_loss_train=520, kl_local_train=99.7, metric_mi|age_categorical_train=0.244]"
     ]
    },
    {
     "name": "stdout",
     "output_type": "stream",
     "text": [
      "\r\n",
      "Epoch 371/600:  62%|██████▏   | 370/600 [3:18:30<2:08:37, 33.55s/it, v_num=k8_1, total_loss_train=520, kl_local_train=99.7, metric_mi|age_categorical_train=0.244]"
     ]
    },
    {
     "name": "stdout",
     "output_type": "stream",
     "text": [
      "\r\n",
      "Epoch 371/600:  62%|██████▏   | 371/600 [3:19:04<2:08:46, 33.74s/it, v_num=k8_1, total_loss_train=520, kl_local_train=99.7, metric_mi|age_categorical_train=0.244]"
     ]
    },
    {
     "name": "stdout",
     "output_type": "stream",
     "text": [
      "\r\n",
      "Epoch 371/600:  62%|██████▏   | 371/600 [3:19:04<2:08:46, 33.74s/it, v_num=k8_1, total_loss_train=520, kl_local_train=99.6, metric_mi|age_categorical_train=0.241]"
     ]
    },
    {
     "name": "stdout",
     "output_type": "stream",
     "text": [
      "\r\n",
      "Epoch 372/600:  62%|██████▏   | 371/600 [3:19:04<2:08:46, 33.74s/it, v_num=k8_1, total_loss_train=520, kl_local_train=99.6, metric_mi|age_categorical_train=0.241]"
     ]
    },
    {
     "name": "stdout",
     "output_type": "stream",
     "text": [
      "\r\n",
      "Epoch 372/600:  62%|██████▏   | 372/600 [3:19:37<2:07:37, 33.59s/it, v_num=k8_1, total_loss_train=520, kl_local_train=99.6, metric_mi|age_categorical_train=0.241]"
     ]
    },
    {
     "name": "stdout",
     "output_type": "stream",
     "text": [
      "\r\n",
      "Epoch 372/600:  62%|██████▏   | 372/600 [3:19:37<2:07:37, 33.59s/it, v_num=k8_1, total_loss_train=520, kl_local_train=99.2, metric_mi|age_categorical_train=0.241]"
     ]
    },
    {
     "name": "stdout",
     "output_type": "stream",
     "text": [
      "\r\n",
      "Epoch 373/600:  62%|██████▏   | 372/600 [3:19:37<2:07:37, 33.59s/it, v_num=k8_1, total_loss_train=520, kl_local_train=99.2, metric_mi|age_categorical_train=0.241]"
     ]
    },
    {
     "name": "stdout",
     "output_type": "stream",
     "text": [
      "\r\n",
      "Epoch 373/600:  62%|██████▏   | 373/600 [3:20:10<2:06:45, 33.50s/it, v_num=k8_1, total_loss_train=520, kl_local_train=99.2, metric_mi|age_categorical_train=0.241]"
     ]
    },
    {
     "name": "stdout",
     "output_type": "stream",
     "text": [
      "\r\n",
      "Epoch 373/600:  62%|██████▏   | 373/600 [3:20:10<2:06:45, 33.50s/it, v_num=k8_1, total_loss_train=521, kl_local_train=99, metric_mi|age_categorical_train=0.241]  "
     ]
    },
    {
     "name": "stdout",
     "output_type": "stream",
     "text": [
      "\r\n",
      "Epoch 374/600:  62%|██████▏   | 373/600 [3:20:10<2:06:45, 33.50s/it, v_num=k8_1, total_loss_train=521, kl_local_train=99, metric_mi|age_categorical_train=0.241]"
     ]
    },
    {
     "name": "stdout",
     "output_type": "stream",
     "text": [
      "\r\n",
      "Epoch 374/600:  62%|██████▏   | 374/600 [3:20:44<2:05:53, 33.42s/it, v_num=k8_1, total_loss_train=521, kl_local_train=99, metric_mi|age_categorical_train=0.241]"
     ]
    },
    {
     "name": "stdout",
     "output_type": "stream",
     "text": [
      "\r\n",
      "Epoch 374/600:  62%|██████▏   | 374/600 [3:20:44<2:05:53, 33.42s/it, v_num=k8_1, total_loss_train=521, kl_local_train=99, metric_mi|age_categorical_train=0.241]"
     ]
    },
    {
     "name": "stdout",
     "output_type": "stream",
     "text": [
      "\r\n",
      "Epoch 375/600:  62%|██████▏   | 374/600 [3:20:44<2:05:53, 33.42s/it, v_num=k8_1, total_loss_train=521, kl_local_train=99, metric_mi|age_categorical_train=0.241]"
     ]
    },
    {
     "name": "stdout",
     "output_type": "stream",
     "text": [
      "\r\n",
      "Epoch 375/600:  62%|██████▎   | 375/600 [3:21:17<2:05:32, 33.48s/it, v_num=k8_1, total_loss_train=521, kl_local_train=99, metric_mi|age_categorical_train=0.241]"
     ]
    },
    {
     "name": "stdout",
     "output_type": "stream",
     "text": [
      "\r\n",
      "Epoch 375/600:  62%|██████▎   | 375/600 [3:21:17<2:05:32, 33.48s/it, v_num=k8_1, total_loss_train=521, kl_local_train=98.8, metric_mi|age_categorical_train=0.241]"
     ]
    },
    {
     "name": "stdout",
     "output_type": "stream",
     "text": [
      "\r\n",
      "Epoch 376/600:  62%|██████▎   | 375/600 [3:21:18<2:05:32, 33.48s/it, v_num=k8_1, total_loss_train=521, kl_local_train=98.8, metric_mi|age_categorical_train=0.241]"
     ]
    },
    {
     "name": "stdout",
     "output_type": "stream",
     "text": [
      "\r\n",
      "Epoch 376/600:  63%|██████▎   | 376/600 [3:21:51<2:05:39, 33.66s/it, v_num=k8_1, total_loss_train=521, kl_local_train=98.8, metric_mi|age_categorical_train=0.241]"
     ]
    },
    {
     "name": "stdout",
     "output_type": "stream",
     "text": [
      "\r\n",
      "Epoch 376/600:  63%|██████▎   | 376/600 [3:21:51<2:05:39, 33.66s/it, v_num=k8_1, total_loss_train=521, kl_local_train=98.7, metric_mi|age_categorical_train=0.231]"
     ]
    },
    {
     "name": "stdout",
     "output_type": "stream",
     "text": [
      "\r\n",
      "Epoch 377/600:  63%|██████▎   | 376/600 [3:21:51<2:05:39, 33.66s/it, v_num=k8_1, total_loss_train=521, kl_local_train=98.7, metric_mi|age_categorical_train=0.231]"
     ]
    },
    {
     "name": "stdout",
     "output_type": "stream",
     "text": [
      "\r\n",
      "Epoch 377/600:  63%|██████▎   | 377/600 [3:22:24<2:04:33, 33.51s/it, v_num=k8_1, total_loss_train=521, kl_local_train=98.7, metric_mi|age_categorical_train=0.231]"
     ]
    },
    {
     "name": "stdout",
     "output_type": "stream",
     "text": [
      "\r\n",
      "Epoch 377/600:  63%|██████▎   | 377/600 [3:22:24<2:04:33, 33.51s/it, v_num=k8_1, total_loss_train=521, kl_local_train=98.6, metric_mi|age_categorical_train=0.231]"
     ]
    },
    {
     "name": "stdout",
     "output_type": "stream",
     "text": [
      "\r\n",
      "Epoch 378/600:  63%|██████▎   | 377/600 [3:22:24<2:04:33, 33.51s/it, v_num=k8_1, total_loss_train=521, kl_local_train=98.6, metric_mi|age_categorical_train=0.231]"
     ]
    },
    {
     "name": "stdout",
     "output_type": "stream",
     "text": [
      "\r\n",
      "Epoch 378/600:  63%|██████▎   | 378/600 [3:22:58<2:03:44, 33.45s/it, v_num=k8_1, total_loss_train=521, kl_local_train=98.6, metric_mi|age_categorical_train=0.231]"
     ]
    },
    {
     "name": "stdout",
     "output_type": "stream",
     "text": [
      "\r\n",
      "Epoch 378/600:  63%|██████▎   | 378/600 [3:22:58<2:03:44, 33.45s/it, v_num=k8_1, total_loss_train=521, kl_local_train=98.4, metric_mi|age_categorical_train=0.231]"
     ]
    },
    {
     "name": "stdout",
     "output_type": "stream",
     "text": [
      "\r\n",
      "Epoch 379/600:  63%|██████▎   | 378/600 [3:22:58<2:03:44, 33.45s/it, v_num=k8_1, total_loss_train=521, kl_local_train=98.4, metric_mi|age_categorical_train=0.231]"
     ]
    },
    {
     "name": "stdout",
     "output_type": "stream",
     "text": [
      "\r\n",
      "Epoch 379/600:  63%|██████▎   | 379/600 [3:23:31<2:02:41, 33.31s/it, v_num=k8_1, total_loss_train=521, kl_local_train=98.4, metric_mi|age_categorical_train=0.231]"
     ]
    },
    {
     "name": "stdout",
     "output_type": "stream",
     "text": [
      "\r\n",
      "Epoch 379/600:  63%|██████▎   | 379/600 [3:23:31<2:02:41, 33.31s/it, v_num=k8_1, total_loss_train=521, kl_local_train=98.4, metric_mi|age_categorical_train=0.231]"
     ]
    },
    {
     "name": "stdout",
     "output_type": "stream",
     "text": [
      "\r\n",
      "Epoch 380/600:  63%|██████▎   | 379/600 [3:23:31<2:02:41, 33.31s/it, v_num=k8_1, total_loss_train=521, kl_local_train=98.4, metric_mi|age_categorical_train=0.231]"
     ]
    },
    {
     "name": "stdout",
     "output_type": "stream",
     "text": [
      "\r\n",
      "Epoch 380/600:  63%|██████▎   | 380/600 [3:24:04<2:02:05, 33.30s/it, v_num=k8_1, total_loss_train=521, kl_local_train=98.4, metric_mi|age_categorical_train=0.231]"
     ]
    },
    {
     "name": "stdout",
     "output_type": "stream",
     "text": [
      "\r\n",
      "Epoch 380/600:  63%|██████▎   | 380/600 [3:24:04<2:02:05, 33.30s/it, v_num=k8_1, total_loss_train=521, kl_local_train=98.1, metric_mi|age_categorical_train=0.231]"
     ]
    },
    {
     "name": "stdout",
     "output_type": "stream",
     "text": [
      "\r\n",
      "Epoch 381/600:  63%|██████▎   | 380/600 [3:24:05<2:02:05, 33.30s/it, v_num=k8_1, total_loss_train=521, kl_local_train=98.1, metric_mi|age_categorical_train=0.231]"
     ]
    },
    {
     "name": "stdout",
     "output_type": "stream",
     "text": [
      "\r\n",
      "Epoch 381/600:  64%|██████▎   | 381/600 [3:24:38<2:02:40, 33.61s/it, v_num=k8_1, total_loss_train=521, kl_local_train=98.1, metric_mi|age_categorical_train=0.231]"
     ]
    },
    {
     "name": "stdout",
     "output_type": "stream",
     "text": [
      "\r\n",
      "Epoch 381/600:  64%|██████▎   | 381/600 [3:24:38<2:02:40, 33.61s/it, v_num=k8_1, total_loss_train=521, kl_local_train=98.2, metric_mi|age_categorical_train=0.227]"
     ]
    },
    {
     "name": "stdout",
     "output_type": "stream",
     "text": [
      "\r\n",
      "Epoch 382/600:  64%|██████▎   | 381/600 [3:24:38<2:02:40, 33.61s/it, v_num=k8_1, total_loss_train=521, kl_local_train=98.2, metric_mi|age_categorical_train=0.227]"
     ]
    },
    {
     "name": "stdout",
     "output_type": "stream",
     "text": [
      "\r\n",
      "Epoch 382/600:  64%|██████▎   | 382/600 [3:25:12<2:01:59, 33.58s/it, v_num=k8_1, total_loss_train=521, kl_local_train=98.2, metric_mi|age_categorical_train=0.227]"
     ]
    },
    {
     "name": "stdout",
     "output_type": "stream",
     "text": [
      "\r\n",
      "Epoch 382/600:  64%|██████▎   | 382/600 [3:25:12<2:01:59, 33.58s/it, v_num=k8_1, total_loss_train=521, kl_local_train=98.1, metric_mi|age_categorical_train=0.227]"
     ]
    },
    {
     "name": "stdout",
     "output_type": "stream",
     "text": [
      "\r\n",
      "Epoch 383/600:  64%|██████▎   | 382/600 [3:25:12<2:01:59, 33.58s/it, v_num=k8_1, total_loss_train=521, kl_local_train=98.1, metric_mi|age_categorical_train=0.227]"
     ]
    },
    {
     "name": "stdout",
     "output_type": "stream",
     "text": [
      "\r\n",
      "Epoch 383/600:  64%|██████▍   | 383/600 [3:25:45<2:01:22, 33.56s/it, v_num=k8_1, total_loss_train=521, kl_local_train=98.1, metric_mi|age_categorical_train=0.227]"
     ]
    },
    {
     "name": "stdout",
     "output_type": "stream",
     "text": [
      "\r\n",
      "Epoch 383/600:  64%|██████▍   | 383/600 [3:25:45<2:01:22, 33.56s/it, v_num=k8_1, total_loss_train=522, kl_local_train=98, metric_mi|age_categorical_train=0.227]  "
     ]
    },
    {
     "name": "stdout",
     "output_type": "stream",
     "text": [
      "\r\n",
      "Epoch 384/600:  64%|██████▍   | 383/600 [3:25:45<2:01:22, 33.56s/it, v_num=k8_1, total_loss_train=522, kl_local_train=98, metric_mi|age_categorical_train=0.227]"
     ]
    },
    {
     "name": "stdout",
     "output_type": "stream",
     "text": [
      "\r\n",
      "Epoch 384/600:  64%|██████▍   | 384/600 [3:26:19<2:00:44, 33.54s/it, v_num=k8_1, total_loss_train=522, kl_local_train=98, metric_mi|age_categorical_train=0.227]"
     ]
    },
    {
     "name": "stdout",
     "output_type": "stream",
     "text": [
      "\r\n",
      "Epoch 384/600:  64%|██████▍   | 384/600 [3:26:19<2:00:44, 33.54s/it, v_num=k8_1, total_loss_train=522, kl_local_train=97.8, metric_mi|age_categorical_train=0.227]"
     ]
    },
    {
     "name": "stdout",
     "output_type": "stream",
     "text": [
      "\r\n",
      "Epoch 385/600:  64%|██████▍   | 384/600 [3:26:19<2:00:44, 33.54s/it, v_num=k8_1, total_loss_train=522, kl_local_train=97.8, metric_mi|age_categorical_train=0.227]"
     ]
    },
    {
     "name": "stdout",
     "output_type": "stream",
     "text": [
      "\r\n",
      "Epoch 385/600:  64%|██████▍   | 385/600 [3:26:53<2:00:53, 33.74s/it, v_num=k8_1, total_loss_train=522, kl_local_train=97.8, metric_mi|age_categorical_train=0.227]"
     ]
    },
    {
     "name": "stdout",
     "output_type": "stream",
     "text": [
      "\r\n",
      "Epoch 385/600:  64%|██████▍   | 385/600 [3:26:53<2:00:53, 33.74s/it, v_num=k8_1, total_loss_train=522, kl_local_train=97.6, metric_mi|age_categorical_train=0.227]"
     ]
    },
    {
     "name": "stdout",
     "output_type": "stream",
     "text": [
      "\r\n",
      "Epoch 386/600:  64%|██████▍   | 385/600 [3:26:54<2:00:53, 33.74s/it, v_num=k8_1, total_loss_train=522, kl_local_train=97.6, metric_mi|age_categorical_train=0.227]"
     ]
    },
    {
     "name": "stdout",
     "output_type": "stream",
     "text": [
      "\r\n",
      "Epoch 386/600:  64%|██████▍   | 386/600 [3:27:27<2:00:42, 33.84s/it, v_num=k8_1, total_loss_train=522, kl_local_train=97.6, metric_mi|age_categorical_train=0.227]"
     ]
    },
    {
     "name": "stdout",
     "output_type": "stream",
     "text": [
      "\r\n",
      "Epoch 386/600:  64%|██████▍   | 386/600 [3:27:27<2:00:42, 33.84s/it, v_num=k8_1, total_loss_train=522, kl_local_train=97.3, metric_mi|age_categorical_train=0.233]"
     ]
    },
    {
     "name": "stdout",
     "output_type": "stream",
     "text": [
      "\r\n",
      "Epoch 387/600:  64%|██████▍   | 386/600 [3:27:27<2:00:42, 33.84s/it, v_num=k8_1, total_loss_train=522, kl_local_train=97.3, metric_mi|age_categorical_train=0.233]"
     ]
    },
    {
     "name": "stdout",
     "output_type": "stream",
     "text": [
      "\r\n",
      "Epoch 387/600:  64%|██████▍   | 387/600 [3:28:01<1:59:45, 33.73s/it, v_num=k8_1, total_loss_train=522, kl_local_train=97.3, metric_mi|age_categorical_train=0.233]"
     ]
    },
    {
     "name": "stdout",
     "output_type": "stream",
     "text": [
      "\r\n",
      "Epoch 387/600:  64%|██████▍   | 387/600 [3:28:01<1:59:45, 33.73s/it, v_num=k8_1, total_loss_train=522, kl_local_train=97.5, metric_mi|age_categorical_train=0.233]"
     ]
    },
    {
     "name": "stdout",
     "output_type": "stream",
     "text": [
      "\r\n",
      "Epoch 388/600:  64%|██████▍   | 387/600 [3:28:01<1:59:45, 33.73s/it, v_num=k8_1, total_loss_train=522, kl_local_train=97.5, metric_mi|age_categorical_train=0.233]"
     ]
    },
    {
     "name": "stdout",
     "output_type": "stream",
     "text": [
      "\r\n",
      "Epoch 388/600:  65%|██████▍   | 388/600 [3:28:34<1:58:37, 33.57s/it, v_num=k8_1, total_loss_train=522, kl_local_train=97.5, metric_mi|age_categorical_train=0.233]"
     ]
    },
    {
     "name": "stdout",
     "output_type": "stream",
     "text": [
      "\r\n",
      "Epoch 388/600:  65%|██████▍   | 388/600 [3:28:34<1:58:37, 33.57s/it, v_num=k8_1, total_loss_train=522, kl_local_train=97.2, metric_mi|age_categorical_train=0.233]"
     ]
    },
    {
     "name": "stdout",
     "output_type": "stream",
     "text": [
      "\r\n",
      "Epoch 389/600:  65%|██████▍   | 388/600 [3:28:34<1:58:37, 33.57s/it, v_num=k8_1, total_loss_train=522, kl_local_train=97.2, metric_mi|age_categorical_train=0.233]"
     ]
    },
    {
     "name": "stdout",
     "output_type": "stream",
     "text": [
      "\r\n",
      "Epoch 389/600:  65%|██████▍   | 389/600 [3:29:07<1:57:43, 33.47s/it, v_num=k8_1, total_loss_train=522, kl_local_train=97.2, metric_mi|age_categorical_train=0.233]"
     ]
    },
    {
     "name": "stdout",
     "output_type": "stream",
     "text": [
      "\r\n",
      "Epoch 389/600:  65%|██████▍   | 389/600 [3:29:07<1:57:43, 33.47s/it, v_num=k8_1, total_loss_train=522, kl_local_train=97.1, metric_mi|age_categorical_train=0.233]"
     ]
    },
    {
     "name": "stdout",
     "output_type": "stream",
     "text": [
      "\r\n",
      "Epoch 390/600:  65%|██████▍   | 389/600 [3:29:07<1:57:43, 33.47s/it, v_num=k8_1, total_loss_train=522, kl_local_train=97.1, metric_mi|age_categorical_train=0.233]"
     ]
    },
    {
     "name": "stdout",
     "output_type": "stream",
     "text": [
      "\r\n",
      "Epoch 390/600:  65%|██████▌   | 390/600 [3:29:41<1:57:49, 33.66s/it, v_num=k8_1, total_loss_train=522, kl_local_train=97.1, metric_mi|age_categorical_train=0.233]"
     ]
    },
    {
     "name": "stdout",
     "output_type": "stream",
     "text": [
      "\r\n",
      "Epoch 390/600:  65%|██████▌   | 390/600 [3:29:41<1:57:49, 33.66s/it, v_num=k8_1, total_loss_train=522, kl_local_train=96.6, metric_mi|age_categorical_train=0.233]"
     ]
    },
    {
     "name": "stdout",
     "output_type": "stream",
     "text": [
      "\r\n",
      "Epoch 391/600:  65%|██████▌   | 390/600 [3:29:42<1:57:49, 33.66s/it, v_num=k8_1, total_loss_train=522, kl_local_train=96.6, metric_mi|age_categorical_train=0.233]"
     ]
    },
    {
     "name": "stdout",
     "output_type": "stream",
     "text": [
      "\r\n",
      "Epoch 391/600:  65%|██████▌   | 391/600 [3:30:15<1:57:55, 33.85s/it, v_num=k8_1, total_loss_train=522, kl_local_train=96.6, metric_mi|age_categorical_train=0.233]"
     ]
    },
    {
     "name": "stdout",
     "output_type": "stream",
     "text": [
      "\r\n",
      "Epoch 391/600:  65%|██████▌   | 391/600 [3:30:15<1:57:55, 33.85s/it, v_num=k8_1, total_loss_train=522, kl_local_train=96.9, metric_mi|age_categorical_train=0.234]"
     ]
    },
    {
     "name": "stdout",
     "output_type": "stream",
     "text": [
      "\r\n",
      "Epoch 392/600:  65%|██████▌   | 391/600 [3:30:15<1:57:55, 33.85s/it, v_num=k8_1, total_loss_train=522, kl_local_train=96.9, metric_mi|age_categorical_train=0.234]"
     ]
    },
    {
     "name": "stdout",
     "output_type": "stream",
     "text": [
      "\r\n",
      "Epoch 392/600:  65%|██████▌   | 392/600 [3:30:49<1:56:57, 33.74s/it, v_num=k8_1, total_loss_train=522, kl_local_train=96.9, metric_mi|age_categorical_train=0.234]"
     ]
    },
    {
     "name": "stdout",
     "output_type": "stream",
     "text": [
      "\r\n",
      "Epoch 392/600:  65%|██████▌   | 392/600 [3:30:49<1:56:57, 33.74s/it, v_num=k8_1, total_loss_train=523, kl_local_train=96.9, metric_mi|age_categorical_train=0.234]"
     ]
    },
    {
     "name": "stdout",
     "output_type": "stream",
     "text": [
      "\r\n",
      "Epoch 393/600:  65%|██████▌   | 392/600 [3:30:49<1:56:57, 33.74s/it, v_num=k8_1, total_loss_train=523, kl_local_train=96.9, metric_mi|age_categorical_train=0.234]"
     ]
    },
    {
     "name": "stdout",
     "output_type": "stream",
     "text": [
      "\r\n",
      "Epoch 393/600:  66%|██████▌   | 393/600 [3:31:23<1:56:15, 33.70s/it, v_num=k8_1, total_loss_train=523, kl_local_train=96.9, metric_mi|age_categorical_train=0.234]"
     ]
    },
    {
     "name": "stdout",
     "output_type": "stream",
     "text": [
      "\r\n",
      "Epoch 393/600:  66%|██████▌   | 393/600 [3:31:23<1:56:15, 33.70s/it, v_num=k8_1, total_loss_train=522, kl_local_train=96.8, metric_mi|age_categorical_train=0.234]"
     ]
    },
    {
     "name": "stdout",
     "output_type": "stream",
     "text": [
      "\r\n",
      "Epoch 394/600:  66%|██████▌   | 393/600 [3:31:23<1:56:15, 33.70s/it, v_num=k8_1, total_loss_train=522, kl_local_train=96.8, metric_mi|age_categorical_train=0.234]"
     ]
    },
    {
     "name": "stdout",
     "output_type": "stream",
     "text": [
      "\r\n",
      "Epoch 394/600:  66%|██████▌   | 394/600 [3:31:56<1:55:32, 33.65s/it, v_num=k8_1, total_loss_train=522, kl_local_train=96.8, metric_mi|age_categorical_train=0.234]"
     ]
    },
    {
     "name": "stdout",
     "output_type": "stream",
     "text": [
      "\r\n",
      "Epoch 394/600:  66%|██████▌   | 394/600 [3:31:56<1:55:32, 33.65s/it, v_num=k8_1, total_loss_train=523, kl_local_train=96.6, metric_mi|age_categorical_train=0.234]"
     ]
    },
    {
     "name": "stdout",
     "output_type": "stream",
     "text": [
      "\r\n",
      "Epoch 395/600:  66%|██████▌   | 394/600 [3:31:56<1:55:32, 33.65s/it, v_num=k8_1, total_loss_train=523, kl_local_train=96.6, metric_mi|age_categorical_train=0.234]"
     ]
    },
    {
     "name": "stdout",
     "output_type": "stream",
     "text": [
      "\r\n",
      "Epoch 395/600:  66%|██████▌   | 395/600 [3:32:30<1:55:18, 33.75s/it, v_num=k8_1, total_loss_train=523, kl_local_train=96.6, metric_mi|age_categorical_train=0.234]"
     ]
    },
    {
     "name": "stdout",
     "output_type": "stream",
     "text": [
      "\r\n",
      "Epoch 395/600:  66%|██████▌   | 395/600 [3:32:30<1:55:18, 33.75s/it, v_num=k8_1, total_loss_train=523, kl_local_train=96.7, metric_mi|age_categorical_train=0.234]"
     ]
    },
    {
     "name": "stdout",
     "output_type": "stream",
     "text": [
      "\r\n",
      "Epoch 396/600:  66%|██████▌   | 395/600 [3:32:31<1:55:18, 33.75s/it, v_num=k8_1, total_loss_train=523, kl_local_train=96.7, metric_mi|age_categorical_train=0.234]"
     ]
    },
    {
     "name": "stdout",
     "output_type": "stream",
     "text": [
      "\r\n",
      "Epoch 396/600:  66%|██████▌   | 396/600 [3:33:05<1:55:38, 34.01s/it, v_num=k8_1, total_loss_train=523, kl_local_train=96.7, metric_mi|age_categorical_train=0.234]"
     ]
    },
    {
     "name": "stdout",
     "output_type": "stream",
     "text": [
      "\r\n",
      "Epoch 396/600:  66%|██████▌   | 396/600 [3:33:05<1:55:38, 34.01s/it, v_num=k8_1, total_loss_train=523, kl_local_train=96, metric_mi|age_categorical_train=0.237]  "
     ]
    },
    {
     "name": "stdout",
     "output_type": "stream",
     "text": [
      "\r\n",
      "Epoch 397/600:  66%|██████▌   | 396/600 [3:33:05<1:55:38, 34.01s/it, v_num=k8_1, total_loss_train=523, kl_local_train=96, metric_mi|age_categorical_train=0.237]"
     ]
    },
    {
     "name": "stdout",
     "output_type": "stream",
     "text": [
      "\r\n",
      "Epoch 397/600:  66%|██████▌   | 397/600 [3:33:38<1:54:43, 33.91s/it, v_num=k8_1, total_loss_train=523, kl_local_train=96, metric_mi|age_categorical_train=0.237]"
     ]
    },
    {
     "name": "stdout",
     "output_type": "stream",
     "text": [
      "\r\n",
      "Epoch 397/600:  66%|██████▌   | 397/600 [3:33:38<1:54:43, 33.91s/it, v_num=k8_1, total_loss_train=523, kl_local_train=96, metric_mi|age_categorical_train=0.237]"
     ]
    },
    {
     "name": "stdout",
     "output_type": "stream",
     "text": [
      "\r\n",
      "Epoch 398/600:  66%|██████▌   | 397/600 [3:33:38<1:54:43, 33.91s/it, v_num=k8_1, total_loss_train=523, kl_local_train=96, metric_mi|age_categorical_train=0.237]"
     ]
    },
    {
     "name": "stdout",
     "output_type": "stream",
     "text": [
      "\r\n",
      "Epoch 398/600:  66%|██████▋   | 398/600 [3:34:12<1:53:52, 33.82s/it, v_num=k8_1, total_loss_train=523, kl_local_train=96, metric_mi|age_categorical_train=0.237]"
     ]
    },
    {
     "name": "stdout",
     "output_type": "stream",
     "text": [
      "\r\n",
      "Epoch 398/600:  66%|██████▋   | 398/600 [3:34:12<1:53:52, 33.82s/it, v_num=k8_1, total_loss_train=523, kl_local_train=96.4, metric_mi|age_categorical_train=0.237]"
     ]
    },
    {
     "name": "stdout",
     "output_type": "stream",
     "text": [
      "\r\n",
      "Epoch 399/600:  66%|██████▋   | 398/600 [3:34:12<1:53:52, 33.82s/it, v_num=k8_1, total_loss_train=523, kl_local_train=96.4, metric_mi|age_categorical_train=0.237]"
     ]
    },
    {
     "name": "stdout",
     "output_type": "stream",
     "text": [
      "\r\n",
      "Epoch 399/600:  66%|██████▋   | 399/600 [3:34:46<1:53:05, 33.76s/it, v_num=k8_1, total_loss_train=523, kl_local_train=96.4, metric_mi|age_categorical_train=0.237]"
     ]
    },
    {
     "name": "stdout",
     "output_type": "stream",
     "text": [
      "\r\n",
      "Epoch 399/600:  66%|██████▋   | 399/600 [3:34:46<1:53:05, 33.76s/it, v_num=k8_1, total_loss_train=523, kl_local_train=96.1, metric_mi|age_categorical_train=0.237]"
     ]
    },
    {
     "name": "stdout",
     "output_type": "stream",
     "text": [
      "\r\n",
      "Epoch 400/600:  66%|██████▋   | 399/600 [3:34:46<1:53:05, 33.76s/it, v_num=k8_1, total_loss_train=523, kl_local_train=96.1, metric_mi|age_categorical_train=0.237]"
     ]
    },
    {
     "name": "stdout",
     "output_type": "stream",
     "text": [
      "\r\n",
      "Epoch 400/600:  67%|██████▋   | 400/600 [3:35:20<1:52:47, 33.84s/it, v_num=k8_1, total_loss_train=523, kl_local_train=96.1, metric_mi|age_categorical_train=0.237]"
     ]
    },
    {
     "name": "stdout",
     "output_type": "stream",
     "text": [
      "\r\n",
      "Epoch 400/600:  67%|██████▋   | 400/600 [3:35:20<1:52:47, 33.84s/it, v_num=k8_1, total_loss_train=523, kl_local_train=95.9, metric_mi|age_categorical_train=0.237]"
     ]
    },
    {
     "name": "stdout",
     "output_type": "stream",
     "text": [
      "\r\n",
      "Epoch 401/600:  67%|██████▋   | 400/600 [3:35:20<1:52:47, 33.84s/it, v_num=k8_1, total_loss_train=523, kl_local_train=95.9, metric_mi|age_categorical_train=0.237]"
     ]
    },
    {
     "name": "stdout",
     "output_type": "stream",
     "text": [
      "\r\n",
      "Epoch 401/600:  67%|██████▋   | 401/600 [3:35:54<1:52:46, 34.00s/it, v_num=k8_1, total_loss_train=523, kl_local_train=95.9, metric_mi|age_categorical_train=0.237]"
     ]
    },
    {
     "name": "stdout",
     "output_type": "stream",
     "text": [
      "\r\n",
      "Epoch 401/600:  67%|██████▋   | 401/600 [3:35:54<1:52:46, 34.00s/it, v_num=k8_1, total_loss_train=523, kl_local_train=95.7, metric_mi|age_categorical_train=0.237]"
     ]
    },
    {
     "name": "stdout",
     "output_type": "stream",
     "text": [
      "\r\n",
      "Epoch 402/600:  67%|██████▋   | 401/600 [3:35:54<1:52:46, 34.00s/it, v_num=k8_1, total_loss_train=523, kl_local_train=95.7, metric_mi|age_categorical_train=0.237]"
     ]
    },
    {
     "name": "stdout",
     "output_type": "stream",
     "text": [
      "\r\n",
      "Epoch 402/600:  67%|██████▋   | 402/600 [3:36:27<1:51:38, 33.83s/it, v_num=k8_1, total_loss_train=523, kl_local_train=95.7, metric_mi|age_categorical_train=0.237]"
     ]
    },
    {
     "name": "stdout",
     "output_type": "stream",
     "text": [
      "\r\n",
      "Epoch 402/600:  67%|██████▋   | 402/600 [3:36:27<1:51:38, 33.83s/it, v_num=k8_1, total_loss_train=523, kl_local_train=95.6, metric_mi|age_categorical_train=0.237]"
     ]
    },
    {
     "name": "stdout",
     "output_type": "stream",
     "text": [
      "\r\n",
      "Epoch 403/600:  67%|██████▋   | 402/600 [3:36:27<1:51:38, 33.83s/it, v_num=k8_1, total_loss_train=523, kl_local_train=95.6, metric_mi|age_categorical_train=0.237]"
     ]
    },
    {
     "name": "stdout",
     "output_type": "stream",
     "text": [
      "\r\n",
      "Epoch 403/600:  67%|██████▋   | 403/600 [3:37:01<1:50:49, 33.76s/it, v_num=k8_1, total_loss_train=523, kl_local_train=95.6, metric_mi|age_categorical_train=0.237]"
     ]
    },
    {
     "name": "stdout",
     "output_type": "stream",
     "text": [
      "\r\n",
      "Epoch 403/600:  67%|██████▋   | 403/600 [3:37:01<1:50:49, 33.76s/it, v_num=k8_1, total_loss_train=524, kl_local_train=95.7, metric_mi|age_categorical_train=0.237]"
     ]
    },
    {
     "name": "stdout",
     "output_type": "stream",
     "text": [
      "\r\n",
      "Epoch 404/600:  67%|██████▋   | 403/600 [3:37:01<1:50:49, 33.76s/it, v_num=k8_1, total_loss_train=524, kl_local_train=95.7, metric_mi|age_categorical_train=0.237]"
     ]
    },
    {
     "name": "stdout",
     "output_type": "stream",
     "text": [
      "\r\n",
      "Epoch 404/600:  67%|██████▋   | 404/600 [3:37:35<1:50:06, 33.70s/it, v_num=k8_1, total_loss_train=524, kl_local_train=95.7, metric_mi|age_categorical_train=0.237]"
     ]
    },
    {
     "name": "stdout",
     "output_type": "stream",
     "text": [
      "\r\n",
      "Epoch 404/600:  67%|██████▋   | 404/600 [3:37:35<1:50:06, 33.70s/it, v_num=k8_1, total_loss_train=524, kl_local_train=95.8, metric_mi|age_categorical_train=0.237]"
     ]
    },
    {
     "name": "stdout",
     "output_type": "stream",
     "text": [
      "\r\n",
      "Epoch 405/600:  67%|██████▋   | 404/600 [3:37:35<1:50:06, 33.70s/it, v_num=k8_1, total_loss_train=524, kl_local_train=95.8, metric_mi|age_categorical_train=0.237]"
     ]
    },
    {
     "name": "stdout",
     "output_type": "stream",
     "text": [
      "\r\n",
      "Epoch 405/600:  68%|██████▊   | 405/600 [3:38:09<1:49:58, 33.84s/it, v_num=k8_1, total_loss_train=524, kl_local_train=95.8, metric_mi|age_categorical_train=0.237]"
     ]
    },
    {
     "name": "stdout",
     "output_type": "stream",
     "text": [
      "\r\n",
      "Epoch 405/600:  68%|██████▊   | 405/600 [3:38:09<1:49:58, 33.84s/it, v_num=k8_1, total_loss_train=523, kl_local_train=95.3, metric_mi|age_categorical_train=0.237]"
     ]
    },
    {
     "name": "stdout",
     "output_type": "stream",
     "text": [
      "\r\n",
      "Epoch 406/600:  68%|██████▊   | 405/600 [3:38:10<1:49:58, 33.84s/it, v_num=k8_1, total_loss_train=523, kl_local_train=95.3, metric_mi|age_categorical_train=0.237]"
     ]
    },
    {
     "name": "stdout",
     "output_type": "stream",
     "text": [
      "\r\n",
      "Epoch 406/600:  68%|██████▊   | 406/600 [3:38:43<1:49:41, 33.92s/it, v_num=k8_1, total_loss_train=523, kl_local_train=95.3, metric_mi|age_categorical_train=0.237]"
     ]
    },
    {
     "name": "stdout",
     "output_type": "stream",
     "text": [
      "\r\n",
      "Epoch 406/600:  68%|██████▊   | 406/600 [3:38:43<1:49:41, 33.92s/it, v_num=k8_1, total_loss_train=524, kl_local_train=95.4, metric_mi|age_categorical_train=0.241]"
     ]
    },
    {
     "name": "stdout",
     "output_type": "stream",
     "text": [
      "\r\n",
      "Epoch 407/600:  68%|██████▊   | 406/600 [3:38:43<1:49:41, 33.92s/it, v_num=k8_1, total_loss_train=524, kl_local_train=95.4, metric_mi|age_categorical_train=0.241]"
     ]
    },
    {
     "name": "stdout",
     "output_type": "stream",
     "text": [
      "\r\n",
      "Epoch 407/600:  68%|██████▊   | 407/600 [3:39:16<1:48:35, 33.76s/it, v_num=k8_1, total_loss_train=524, kl_local_train=95.4, metric_mi|age_categorical_train=0.241]"
     ]
    },
    {
     "name": "stdout",
     "output_type": "stream",
     "text": [
      "\r\n",
      "Epoch 407/600:  68%|██████▊   | 407/600 [3:39:16<1:48:35, 33.76s/it, v_num=k8_1, total_loss_train=524, kl_local_train=95.5, metric_mi|age_categorical_train=0.241]"
     ]
    },
    {
     "name": "stdout",
     "output_type": "stream",
     "text": [
      "\r\n",
      "Epoch 408/600:  68%|██████▊   | 407/600 [3:39:16<1:48:35, 33.76s/it, v_num=k8_1, total_loss_train=524, kl_local_train=95.5, metric_mi|age_categorical_train=0.241]"
     ]
    },
    {
     "name": "stdout",
     "output_type": "stream",
     "text": [
      "\r\n",
      "Epoch 408/600:  68%|██████▊   | 408/600 [3:39:50<1:47:35, 33.62s/it, v_num=k8_1, total_loss_train=524, kl_local_train=95.5, metric_mi|age_categorical_train=0.241]"
     ]
    },
    {
     "name": "stdout",
     "output_type": "stream",
     "text": [
      "\r\n",
      "Epoch 408/600:  68%|██████▊   | 408/600 [3:39:50<1:47:35, 33.62s/it, v_num=k8_1, total_loss_train=524, kl_local_train=95.4, metric_mi|age_categorical_train=0.241]"
     ]
    },
    {
     "name": "stdout",
     "output_type": "stream",
     "text": [
      "\r\n",
      "Epoch 409/600:  68%|██████▊   | 408/600 [3:39:50<1:47:35, 33.62s/it, v_num=k8_1, total_loss_train=524, kl_local_train=95.4, metric_mi|age_categorical_train=0.241]"
     ]
    },
    {
     "name": "stdout",
     "output_type": "stream",
     "text": [
      "\r\n",
      "Epoch 409/600:  68%|██████▊   | 409/600 [3:40:23<1:46:45, 33.54s/it, v_num=k8_1, total_loss_train=524, kl_local_train=95.4, metric_mi|age_categorical_train=0.241]"
     ]
    },
    {
     "name": "stdout",
     "output_type": "stream",
     "text": [
      "\r\n",
      "Epoch 409/600:  68%|██████▊   | 409/600 [3:40:23<1:46:45, 33.54s/it, v_num=k8_1, total_loss_train=524, kl_local_train=94.9, metric_mi|age_categorical_train=0.241]"
     ]
    },
    {
     "name": "stdout",
     "output_type": "stream",
     "text": [
      "\r\n",
      "Epoch 410/600:  68%|██████▊   | 409/600 [3:40:23<1:46:45, 33.54s/it, v_num=k8_1, total_loss_train=524, kl_local_train=94.9, metric_mi|age_categorical_train=0.241]"
     ]
    },
    {
     "name": "stdout",
     "output_type": "stream",
     "text": [
      "\r\n",
      "Epoch 410/600:  68%|██████▊   | 410/600 [3:40:57<1:46:38, 33.68s/it, v_num=k8_1, total_loss_train=524, kl_local_train=94.9, metric_mi|age_categorical_train=0.241]"
     ]
    },
    {
     "name": "stdout",
     "output_type": "stream",
     "text": [
      "\r\n",
      "Epoch 410/600:  68%|██████▊   | 410/600 [3:40:57<1:46:38, 33.68s/it, v_num=k8_1, total_loss_train=524, kl_local_train=95, metric_mi|age_categorical_train=0.241]  "
     ]
    },
    {
     "name": "stdout",
     "output_type": "stream",
     "text": [
      "\r\n",
      "Epoch 411/600:  68%|██████▊   | 410/600 [3:40:58<1:46:38, 33.68s/it, v_num=k8_1, total_loss_train=524, kl_local_train=95, metric_mi|age_categorical_train=0.241]"
     ]
    },
    {
     "name": "stdout",
     "output_type": "stream",
     "text": [
      "\r\n",
      "Epoch 411/600:  68%|██████▊   | 411/600 [3:41:31<1:46:39, 33.86s/it, v_num=k8_1, total_loss_train=524, kl_local_train=95, metric_mi|age_categorical_train=0.241]"
     ]
    },
    {
     "name": "stdout",
     "output_type": "stream",
     "text": [
      "\r\n",
      "Epoch 411/600:  68%|██████▊   | 411/600 [3:41:31<1:46:39, 33.86s/it, v_num=k8_1, total_loss_train=524, kl_local_train=94.8, metric_mi|age_categorical_train=0.242]"
     ]
    },
    {
     "name": "stdout",
     "output_type": "stream",
     "text": [
      "\r\n",
      "Epoch 412/600:  68%|██████▊   | 411/600 [3:41:31<1:46:39, 33.86s/it, v_num=k8_1, total_loss_train=524, kl_local_train=94.8, metric_mi|age_categorical_train=0.242]"
     ]
    },
    {
     "name": "stdout",
     "output_type": "stream",
     "text": [
      "\r\n",
      "Epoch 412/600:  69%|██████▊   | 412/600 [3:42:04<1:45:31, 33.68s/it, v_num=k8_1, total_loss_train=524, kl_local_train=94.8, metric_mi|age_categorical_train=0.242]"
     ]
    },
    {
     "name": "stdout",
     "output_type": "stream",
     "text": [
      "\r\n",
      "Epoch 412/600:  69%|██████▊   | 412/600 [3:42:04<1:45:31, 33.68s/it, v_num=k8_1, total_loss_train=524, kl_local_train=94.9, metric_mi|age_categorical_train=0.242]"
     ]
    },
    {
     "name": "stdout",
     "output_type": "stream",
     "text": [
      "\r\n",
      "Epoch 413/600:  69%|██████▊   | 412/600 [3:42:04<1:45:31, 33.68s/it, v_num=k8_1, total_loss_train=524, kl_local_train=94.9, metric_mi|age_categorical_train=0.242]"
     ]
    },
    {
     "name": "stdout",
     "output_type": "stream",
     "text": [
      "\r\n",
      "Epoch 413/600:  69%|██████▉   | 413/600 [3:42:38<1:44:33, 33.55s/it, v_num=k8_1, total_loss_train=524, kl_local_train=94.9, metric_mi|age_categorical_train=0.242]"
     ]
    },
    {
     "name": "stdout",
     "output_type": "stream",
     "text": [
      "\r\n",
      "Epoch 413/600:  69%|██████▉   | 413/600 [3:42:38<1:44:33, 33.55s/it, v_num=k8_1, total_loss_train=524, kl_local_train=94.4, metric_mi|age_categorical_train=0.242]"
     ]
    },
    {
     "name": "stdout",
     "output_type": "stream",
     "text": [
      "\r\n",
      "Epoch 414/600:  69%|██████▉   | 413/600 [3:42:38<1:44:33, 33.55s/it, v_num=k8_1, total_loss_train=524, kl_local_train=94.4, metric_mi|age_categorical_train=0.242]"
     ]
    },
    {
     "name": "stdout",
     "output_type": "stream",
     "text": [
      "\r\n",
      "Epoch 414/600:  69%|██████▉   | 414/600 [3:43:09<1:42:22, 33.02s/it, v_num=k8_1, total_loss_train=524, kl_local_train=94.4, metric_mi|age_categorical_train=0.242]"
     ]
    },
    {
     "name": "stdout",
     "output_type": "stream",
     "text": [
      "\r\n",
      "Epoch 414/600:  69%|██████▉   | 414/600 [3:43:09<1:42:22, 33.02s/it, v_num=k8_1, total_loss_train=524, kl_local_train=94.4, metric_mi|age_categorical_train=0.242]"
     ]
    },
    {
     "name": "stdout",
     "output_type": "stream",
     "text": [
      "\r\n",
      "Epoch 415/600:  69%|██████▉   | 414/600 [3:43:09<1:42:22, 33.02s/it, v_num=k8_1, total_loss_train=524, kl_local_train=94.4, metric_mi|age_categorical_train=0.242]"
     ]
    },
    {
     "name": "stdout",
     "output_type": "stream",
     "text": [
      "\r\n",
      "Epoch 415/600:  69%|██████▉   | 415/600 [3:43:41<1:40:33, 32.62s/it, v_num=k8_1, total_loss_train=524, kl_local_train=94.4, metric_mi|age_categorical_train=0.242]"
     ]
    },
    {
     "name": "stdout",
     "output_type": "stream",
     "text": [
      "\r\n",
      "Epoch 415/600:  69%|██████▉   | 415/600 [3:43:41<1:40:33, 32.62s/it, v_num=k8_1, total_loss_train=524, kl_local_train=94.6, metric_mi|age_categorical_train=0.242]"
     ]
    },
    {
     "name": "stdout",
     "output_type": "stream",
     "text": [
      "\r\n",
      "Epoch 416/600:  69%|██████▉   | 415/600 [3:43:42<1:40:33, 32.62s/it, v_num=k8_1, total_loss_train=524, kl_local_train=94.6, metric_mi|age_categorical_train=0.242]"
     ]
    },
    {
     "name": "stdout",
     "output_type": "stream",
     "text": [
      "\r\n",
      "Epoch 416/600:  69%|██████▉   | 416/600 [3:44:12<1:38:27, 32.11s/it, v_num=k8_1, total_loss_train=524, kl_local_train=94.6, metric_mi|age_categorical_train=0.242]"
     ]
    },
    {
     "name": "stdout",
     "output_type": "stream",
     "text": [
      "\r\n",
      "Epoch 416/600:  69%|██████▉   | 416/600 [3:44:12<1:38:27, 32.11s/it, v_num=k8_1, total_loss_train=525, kl_local_train=94.4, metric_mi|age_categorical_train=0.238]"
     ]
    },
    {
     "name": "stdout",
     "output_type": "stream",
     "text": [
      "\r\n",
      "Epoch 417/600:  69%|██████▉   | 416/600 [3:44:12<1:38:27, 32.11s/it, v_num=k8_1, total_loss_train=525, kl_local_train=94.4, metric_mi|age_categorical_train=0.238]"
     ]
    },
    {
     "name": "stdout",
     "output_type": "stream",
     "text": [
      "\r\n",
      "Epoch 417/600:  70%|██████▉   | 417/600 [3:44:42<1:36:00, 31.48s/it, v_num=k8_1, total_loss_train=525, kl_local_train=94.4, metric_mi|age_categorical_train=0.238]"
     ]
    },
    {
     "name": "stdout",
     "output_type": "stream",
     "text": [
      "\r\n",
      "Epoch 417/600:  70%|██████▉   | 417/600 [3:44:42<1:36:00, 31.48s/it, v_num=k8_1, total_loss_train=524, kl_local_train=94.1, metric_mi|age_categorical_train=0.238]"
     ]
    },
    {
     "name": "stdout",
     "output_type": "stream",
     "text": [
      "\r\n",
      "Epoch 418/600:  70%|██████▉   | 417/600 [3:44:42<1:36:00, 31.48s/it, v_num=k8_1, total_loss_train=524, kl_local_train=94.1, metric_mi|age_categorical_train=0.238]"
     ]
    },
    {
     "name": "stdout",
     "output_type": "stream",
     "text": [
      "\r\n",
      "Epoch 418/600:  70%|██████▉   | 418/600 [3:45:12<1:34:19, 31.09s/it, v_num=k8_1, total_loss_train=524, kl_local_train=94.1, metric_mi|age_categorical_train=0.238]"
     ]
    },
    {
     "name": "stdout",
     "output_type": "stream",
     "text": [
      "\r\n",
      "Epoch 418/600:  70%|██████▉   | 418/600 [3:45:12<1:34:19, 31.09s/it, v_num=k8_1, total_loss_train=525, kl_local_train=94, metric_mi|age_categorical_train=0.238]  "
     ]
    },
    {
     "name": "stdout",
     "output_type": "stream",
     "text": [
      "\r\n",
      "Epoch 419/600:  70%|██████▉   | 418/600 [3:45:12<1:34:19, 31.09s/it, v_num=k8_1, total_loss_train=525, kl_local_train=94, metric_mi|age_categorical_train=0.238]"
     ]
    },
    {
     "name": "stdout",
     "output_type": "stream",
     "text": [
      "\r\n",
      "Epoch 419/600:  70%|██████▉   | 419/600 [3:45:42<1:32:52, 30.79s/it, v_num=k8_1, total_loss_train=525, kl_local_train=94, metric_mi|age_categorical_train=0.238]"
     ]
    },
    {
     "name": "stdout",
     "output_type": "stream",
     "text": [
      "\r\n",
      "Epoch 419/600:  70%|██████▉   | 419/600 [3:45:42<1:32:52, 30.79s/it, v_num=k8_1, total_loss_train=525, kl_local_train=93.9, metric_mi|age_categorical_train=0.238]"
     ]
    },
    {
     "name": "stdout",
     "output_type": "stream",
     "text": [
      "\r\n",
      "Epoch 420/600:  70%|██████▉   | 419/600 [3:45:42<1:32:52, 30.79s/it, v_num=k8_1, total_loss_train=525, kl_local_train=93.9, metric_mi|age_categorical_train=0.238]"
     ]
    },
    {
     "name": "stdout",
     "output_type": "stream",
     "text": [
      "\r\n",
      "Epoch 420/600:  70%|███████   | 420/600 [3:46:13<1:32:26, 30.81s/it, v_num=k8_1, total_loss_train=525, kl_local_train=93.9, metric_mi|age_categorical_train=0.238]"
     ]
    },
    {
     "name": "stdout",
     "output_type": "stream",
     "text": [
      "\r\n",
      "Epoch 420/600:  70%|███████   | 420/600 [3:46:13<1:32:26, 30.81s/it, v_num=k8_1, total_loss_train=525, kl_local_train=93.9, metric_mi|age_categorical_train=0.238]"
     ]
    },
    {
     "name": "stdout",
     "output_type": "stream",
     "text": [
      "\r\n",
      "Epoch 421/600:  70%|███████   | 420/600 [3:46:14<1:32:26, 30.81s/it, v_num=k8_1, total_loss_train=525, kl_local_train=93.9, metric_mi|age_categorical_train=0.238]"
     ]
    },
    {
     "name": "stdout",
     "output_type": "stream",
     "text": [
      "\r\n",
      "Epoch 421/600:  70%|███████   | 421/600 [3:46:46<1:33:40, 31.40s/it, v_num=k8_1, total_loss_train=525, kl_local_train=93.9, metric_mi|age_categorical_train=0.238]"
     ]
    },
    {
     "name": "stdout",
     "output_type": "stream",
     "text": [
      "\r\n",
      "Epoch 421/600:  70%|███████   | 421/600 [3:46:46<1:33:40, 31.40s/it, v_num=k8_1, total_loss_train=525, kl_local_train=93.7, metric_mi|age_categorical_train=0.229]"
     ]
    },
    {
     "name": "stdout",
     "output_type": "stream",
     "text": [
      "\r\n",
      "Epoch 422/600:  70%|███████   | 421/600 [3:46:46<1:33:40, 31.40s/it, v_num=k8_1, total_loss_train=525, kl_local_train=93.7, metric_mi|age_categorical_train=0.229]"
     ]
    },
    {
     "name": "stdout",
     "output_type": "stream",
     "text": [
      "\r\n",
      "Epoch 422/600:  70%|███████   | 422/600 [3:47:19<1:34:27, 31.84s/it, v_num=k8_1, total_loss_train=525, kl_local_train=93.7, metric_mi|age_categorical_train=0.229]"
     ]
    },
    {
     "name": "stdout",
     "output_type": "stream",
     "text": [
      "\r\n",
      "Epoch 422/600:  70%|███████   | 422/600 [3:47:19<1:34:27, 31.84s/it, v_num=k8_1, total_loss_train=525, kl_local_train=93.6, metric_mi|age_categorical_train=0.229]"
     ]
    },
    {
     "name": "stdout",
     "output_type": "stream",
     "text": [
      "\r\n",
      "Epoch 423/600:  70%|███████   | 422/600 [3:47:19<1:34:27, 31.84s/it, v_num=k8_1, total_loss_train=525, kl_local_train=93.6, metric_mi|age_categorical_train=0.229]"
     ]
    },
    {
     "name": "stdout",
     "output_type": "stream",
     "text": [
      "\r\n",
      "Epoch 423/600:  70%|███████   | 423/600 [3:47:52<1:34:43, 32.11s/it, v_num=k8_1, total_loss_train=525, kl_local_train=93.6, metric_mi|age_categorical_train=0.229]"
     ]
    },
    {
     "name": "stdout",
     "output_type": "stream",
     "text": [
      "\r\n",
      "Epoch 423/600:  70%|███████   | 423/600 [3:47:52<1:34:43, 32.11s/it, v_num=k8_1, total_loss_train=525, kl_local_train=93.5, metric_mi|age_categorical_train=0.229]"
     ]
    },
    {
     "name": "stdout",
     "output_type": "stream",
     "text": [
      "\r\n",
      "Epoch 424/600:  70%|███████   | 423/600 [3:47:52<1:34:43, 32.11s/it, v_num=k8_1, total_loss_train=525, kl_local_train=93.5, metric_mi|age_categorical_train=0.229]"
     ]
    },
    {
     "name": "stdout",
     "output_type": "stream",
     "text": [
      "\r\n",
      "Epoch 424/600:  71%|███████   | 424/600 [3:48:25<1:34:57, 32.37s/it, v_num=k8_1, total_loss_train=525, kl_local_train=93.5, metric_mi|age_categorical_train=0.229]"
     ]
    },
    {
     "name": "stdout",
     "output_type": "stream",
     "text": [
      "\r\n",
      "Epoch 424/600:  71%|███████   | 424/600 [3:48:25<1:34:57, 32.37s/it, v_num=k8_1, total_loss_train=525, kl_local_train=93.4, metric_mi|age_categorical_train=0.229]"
     ]
    },
    {
     "name": "stdout",
     "output_type": "stream",
     "text": [
      "\r\n",
      "Epoch 425/600:  71%|███████   | 424/600 [3:48:25<1:34:57, 32.37s/it, v_num=k8_1, total_loss_train=525, kl_local_train=93.4, metric_mi|age_categorical_train=0.229]"
     ]
    },
    {
     "name": "stdout",
     "output_type": "stream",
     "text": [
      "\r\n",
      "Epoch 425/600:  71%|███████   | 425/600 [3:48:58<1:35:22, 32.70s/it, v_num=k8_1, total_loss_train=525, kl_local_train=93.4, metric_mi|age_categorical_train=0.229]"
     ]
    },
    {
     "name": "stdout",
     "output_type": "stream",
     "text": [
      "\r\n",
      "Epoch 425/600:  71%|███████   | 425/600 [3:48:58<1:35:22, 32.70s/it, v_num=k8_1, total_loss_train=526, kl_local_train=93.7, metric_mi|age_categorical_train=0.229]"
     ]
    },
    {
     "name": "stdout",
     "output_type": "stream",
     "text": [
      "\r\n",
      "Epoch 426/600:  71%|███████   | 425/600 [3:48:59<1:35:22, 32.70s/it, v_num=k8_1, total_loss_train=526, kl_local_train=93.7, metric_mi|age_categorical_train=0.229]"
     ]
    },
    {
     "name": "stdout",
     "output_type": "stream",
     "text": [
      "\r\n",
      "Epoch 426/600:  71%|███████   | 426/600 [3:49:32<1:35:56, 33.08s/it, v_num=k8_1, total_loss_train=526, kl_local_train=93.7, metric_mi|age_categorical_train=0.229]"
     ]
    },
    {
     "name": "stdout",
     "output_type": "stream",
     "text": [
      "\r\n",
      "Epoch 426/600:  71%|███████   | 426/600 [3:49:32<1:35:56, 33.08s/it, v_num=k8_1, total_loss_train=526, kl_local_train=93.6, metric_mi|age_categorical_train=0.235]"
     ]
    },
    {
     "name": "stdout",
     "output_type": "stream",
     "text": [
      "\r\n",
      "Epoch 427/600:  71%|███████   | 426/600 [3:49:32<1:35:56, 33.08s/it, v_num=k8_1, total_loss_train=526, kl_local_train=93.6, metric_mi|age_categorical_train=0.235]"
     ]
    },
    {
     "name": "stdout",
     "output_type": "stream",
     "text": [
      "\r\n",
      "Epoch 427/600:  71%|███████   | 427/600 [3:50:05<1:35:27, 33.11s/it, v_num=k8_1, total_loss_train=526, kl_local_train=93.6, metric_mi|age_categorical_train=0.235]"
     ]
    },
    {
     "name": "stdout",
     "output_type": "stream",
     "text": [
      "\r\n",
      "Epoch 427/600:  71%|███████   | 427/600 [3:50:05<1:35:27, 33.11s/it, v_num=k8_1, total_loss_train=526, kl_local_train=93, metric_mi|age_categorical_train=0.235]  "
     ]
    },
    {
     "name": "stdout",
     "output_type": "stream",
     "text": [
      "\r\n",
      "Epoch 428/600:  71%|███████   | 427/600 [3:50:05<1:35:27, 33.11s/it, v_num=k8_1, total_loss_train=526, kl_local_train=93, metric_mi|age_categorical_train=0.235]"
     ]
    },
    {
     "name": "stdout",
     "output_type": "stream",
     "text": [
      "\r\n",
      "Epoch 428/600:  71%|███████▏  | 428/600 [3:50:38<1:34:55, 33.11s/it, v_num=k8_1, total_loss_train=526, kl_local_train=93, metric_mi|age_categorical_train=0.235]"
     ]
    },
    {
     "name": "stdout",
     "output_type": "stream",
     "text": [
      "\r\n",
      "Epoch 428/600:  71%|███████▏  | 428/600 [3:50:38<1:34:55, 33.11s/it, v_num=k8_1, total_loss_train=526, kl_local_train=93.4, metric_mi|age_categorical_train=0.235]"
     ]
    },
    {
     "name": "stdout",
     "output_type": "stream",
     "text": [
      "\r\n",
      "Epoch 429/600:  71%|███████▏  | 428/600 [3:50:38<1:34:55, 33.11s/it, v_num=k8_1, total_loss_train=526, kl_local_train=93.4, metric_mi|age_categorical_train=0.235]"
     ]
    },
    {
     "name": "stdout",
     "output_type": "stream",
     "text": [
      "\r\n",
      "Epoch 429/600:  72%|███████▏  | 429/600 [3:51:12<1:34:26, 33.14s/it, v_num=k8_1, total_loss_train=526, kl_local_train=93.4, metric_mi|age_categorical_train=0.235]"
     ]
    },
    {
     "name": "stdout",
     "output_type": "stream",
     "text": [
      "\r\n",
      "Epoch 429/600:  72%|███████▏  | 429/600 [3:51:12<1:34:26, 33.14s/it, v_num=k8_1, total_loss_train=526, kl_local_train=92.6, metric_mi|age_categorical_train=0.235]"
     ]
    },
    {
     "name": "stdout",
     "output_type": "stream",
     "text": [
      "\r\n",
      "Epoch 430/600:  72%|███████▏  | 429/600 [3:51:12<1:34:26, 33.14s/it, v_num=k8_1, total_loss_train=526, kl_local_train=92.6, metric_mi|age_categorical_train=0.235]"
     ]
    },
    {
     "name": "stdout",
     "output_type": "stream",
     "text": [
      "\r\n",
      "Epoch 430/600:  72%|███████▏  | 430/600 [3:51:45<1:34:35, 33.39s/it, v_num=k8_1, total_loss_train=526, kl_local_train=92.6, metric_mi|age_categorical_train=0.235]"
     ]
    },
    {
     "name": "stdout",
     "output_type": "stream",
     "text": [
      "\r\n",
      "Epoch 430/600:  72%|███████▏  | 430/600 [3:51:45<1:34:35, 33.39s/it, v_num=k8_1, total_loss_train=526, kl_local_train=92.6, metric_mi|age_categorical_train=0.235]"
     ]
    },
    {
     "name": "stdout",
     "output_type": "stream",
     "text": [
      "\r\n",
      "Epoch 431/600:  72%|███████▏  | 430/600 [3:51:46<1:34:35, 33.39s/it, v_num=k8_1, total_loss_train=526, kl_local_train=92.6, metric_mi|age_categorical_train=0.235]"
     ]
    },
    {
     "name": "stdout",
     "output_type": "stream",
     "text": [
      "\r\n",
      "Epoch 431/600:  72%|███████▏  | 431/600 [3:52:20<1:34:45, 33.64s/it, v_num=k8_1, total_loss_train=526, kl_local_train=92.6, metric_mi|age_categorical_train=0.235]"
     ]
    },
    {
     "name": "stdout",
     "output_type": "stream",
     "text": [
      "\r\n",
      "Epoch 431/600:  72%|███████▏  | 431/600 [3:52:20<1:34:45, 33.64s/it, v_num=k8_1, total_loss_train=526, kl_local_train=92.5, metric_mi|age_categorical_train=0.237]"
     ]
    },
    {
     "name": "stdout",
     "output_type": "stream",
     "text": [
      "\r\n",
      "Epoch 432/600:  72%|███████▏  | 431/600 [3:52:20<1:34:45, 33.64s/it, v_num=k8_1, total_loss_train=526, kl_local_train=92.5, metric_mi|age_categorical_train=0.237]"
     ]
    },
    {
     "name": "stdout",
     "output_type": "stream",
     "text": [
      "\r\n",
      "Epoch 432/600:  72%|███████▏  | 432/600 [3:52:53<1:33:55, 33.54s/it, v_num=k8_1, total_loss_train=526, kl_local_train=92.5, metric_mi|age_categorical_train=0.237]"
     ]
    },
    {
     "name": "stdout",
     "output_type": "stream",
     "text": [
      "\r\n",
      "Epoch 432/600:  72%|███████▏  | 432/600 [3:52:53<1:33:55, 33.54s/it, v_num=k8_1, total_loss_train=526, kl_local_train=92.9, metric_mi|age_categorical_train=0.237]"
     ]
    },
    {
     "name": "stdout",
     "output_type": "stream",
     "text": [
      "\r\n",
      "Epoch 433/600:  72%|███████▏  | 432/600 [3:52:53<1:33:55, 33.54s/it, v_num=k8_1, total_loss_train=526, kl_local_train=92.9, metric_mi|age_categorical_train=0.237]"
     ]
    },
    {
     "name": "stdout",
     "output_type": "stream",
     "text": [
      "\r\n",
      "Epoch 433/600:  72%|███████▏  | 433/600 [3:53:26<1:33:08, 33.47s/it, v_num=k8_1, total_loss_train=526, kl_local_train=92.9, metric_mi|age_categorical_train=0.237]"
     ]
    },
    {
     "name": "stdout",
     "output_type": "stream",
     "text": [
      "\r\n",
      "Epoch 433/600:  72%|███████▏  | 433/600 [3:53:26<1:33:08, 33.47s/it, v_num=k8_1, total_loss_train=526, kl_local_train=92.9, metric_mi|age_categorical_train=0.237]"
     ]
    },
    {
     "name": "stdout",
     "output_type": "stream",
     "text": [
      "\r\n",
      "Epoch 434/600:  72%|███████▏  | 433/600 [3:53:26<1:33:08, 33.47s/it, v_num=k8_1, total_loss_train=526, kl_local_train=92.9, metric_mi|age_categorical_train=0.237]"
     ]
    },
    {
     "name": "stdout",
     "output_type": "stream",
     "text": [
      "\r\n",
      "Epoch 434/600:  72%|███████▏  | 434/600 [3:54:00<1:32:29, 33.43s/it, v_num=k8_1, total_loss_train=526, kl_local_train=92.9, metric_mi|age_categorical_train=0.237]"
     ]
    },
    {
     "name": "stdout",
     "output_type": "stream",
     "text": [
      "\r\n",
      "Epoch 434/600:  72%|███████▏  | 434/600 [3:54:00<1:32:29, 33.43s/it, v_num=k8_1, total_loss_train=526, kl_local_train=92.4, metric_mi|age_categorical_train=0.237]"
     ]
    },
    {
     "name": "stdout",
     "output_type": "stream",
     "text": [
      "\r\n",
      "Epoch 435/600:  72%|███████▏  | 434/600 [3:54:00<1:32:29, 33.43s/it, v_num=k8_1, total_loss_train=526, kl_local_train=92.4, metric_mi|age_categorical_train=0.237]"
     ]
    },
    {
     "name": "stdout",
     "output_type": "stream",
     "text": [
      "\r\n",
      "Epoch 435/600:  72%|███████▎  | 435/600 [3:54:34<1:32:34, 33.66s/it, v_num=k8_1, total_loss_train=526, kl_local_train=92.4, metric_mi|age_categorical_train=0.237]"
     ]
    },
    {
     "name": "stdout",
     "output_type": "stream",
     "text": [
      "\r\n",
      "Epoch 435/600:  72%|███████▎  | 435/600 [3:54:34<1:32:34, 33.66s/it, v_num=k8_1, total_loss_train=526, kl_local_train=92.4, metric_mi|age_categorical_train=0.237]"
     ]
    },
    {
     "name": "stdout",
     "output_type": "stream",
     "text": [
      "\r\n",
      "Epoch 436/600:  72%|███████▎  | 435/600 [3:54:35<1:32:34, 33.66s/it, v_num=k8_1, total_loss_train=526, kl_local_train=92.4, metric_mi|age_categorical_train=0.237]"
     ]
    },
    {
     "name": "stdout",
     "output_type": "stream",
     "text": [
      "\r\n",
      "Epoch 436/600:  73%|███████▎  | 436/600 [3:55:09<1:32:53, 33.99s/it, v_num=k8_1, total_loss_train=526, kl_local_train=92.4, metric_mi|age_categorical_train=0.237]"
     ]
    },
    {
     "name": "stdout",
     "output_type": "stream",
     "text": [
      "\r\n",
      "Epoch 436/600:  73%|███████▎  | 436/600 [3:55:09<1:32:53, 33.99s/it, v_num=k8_1, total_loss_train=527, kl_local_train=92.5, metric_mi|age_categorical_train=0.232]"
     ]
    },
    {
     "name": "stdout",
     "output_type": "stream",
     "text": [
      "\r\n",
      "Epoch 437/600:  73%|███████▎  | 436/600 [3:55:09<1:32:53, 33.99s/it, v_num=k8_1, total_loss_train=527, kl_local_train=92.5, metric_mi|age_categorical_train=0.232]"
     ]
    },
    {
     "name": "stdout",
     "output_type": "stream",
     "text": [
      "\r\n",
      "Epoch 437/600:  73%|███████▎  | 437/600 [3:55:43<1:32:16, 33.97s/it, v_num=k8_1, total_loss_train=527, kl_local_train=92.5, metric_mi|age_categorical_train=0.232]"
     ]
    },
    {
     "name": "stdout",
     "output_type": "stream",
     "text": [
      "\r\n",
      "Epoch 437/600:  73%|███████▎  | 437/600 [3:55:43<1:32:16, 33.97s/it, v_num=k8_1, total_loss_train=527, kl_local_train=92.3, metric_mi|age_categorical_train=0.232]"
     ]
    },
    {
     "name": "stdout",
     "output_type": "stream",
     "text": [
      "\r\n",
      "Epoch 438/600:  73%|███████▎  | 437/600 [3:55:43<1:32:16, 33.97s/it, v_num=k8_1, total_loss_train=527, kl_local_train=92.3, metric_mi|age_categorical_train=0.232]"
     ]
    },
    {
     "name": "stdout",
     "output_type": "stream",
     "text": [
      "\r\n",
      "Epoch 438/600:  73%|███████▎  | 438/600 [3:56:16<1:31:33, 33.91s/it, v_num=k8_1, total_loss_train=527, kl_local_train=92.3, metric_mi|age_categorical_train=0.232]"
     ]
    },
    {
     "name": "stdout",
     "output_type": "stream",
     "text": [
      "\r\n",
      "Epoch 438/600:  73%|███████▎  | 438/600 [3:56:16<1:31:33, 33.91s/it, v_num=k8_1, total_loss_train=527, kl_local_train=92.1, metric_mi|age_categorical_train=0.232]"
     ]
    },
    {
     "name": "stdout",
     "output_type": "stream",
     "text": [
      "\r\n",
      "Epoch 439/600:  73%|███████▎  | 438/600 [3:56:16<1:31:33, 33.91s/it, v_num=k8_1, total_loss_train=527, kl_local_train=92.1, metric_mi|age_categorical_train=0.232]"
     ]
    },
    {
     "name": "stdout",
     "output_type": "stream",
     "text": [
      "\r\n",
      "Epoch 439/600:  73%|███████▎  | 439/600 [3:56:50<1:30:39, 33.79s/it, v_num=k8_1, total_loss_train=527, kl_local_train=92.1, metric_mi|age_categorical_train=0.232]"
     ]
    },
    {
     "name": "stdout",
     "output_type": "stream",
     "text": [
      "\r\n",
      "Epoch 439/600:  73%|███████▎  | 439/600 [3:56:50<1:30:39, 33.79s/it, v_num=k8_1, total_loss_train=527, kl_local_train=91.9, metric_mi|age_categorical_train=0.232]"
     ]
    },
    {
     "name": "stdout",
     "output_type": "stream",
     "text": [
      "\r\n",
      "Epoch 440/600:  73%|███████▎  | 439/600 [3:56:50<1:30:39, 33.79s/it, v_num=k8_1, total_loss_train=527, kl_local_train=91.9, metric_mi|age_categorical_train=0.232]"
     ]
    },
    {
     "name": "stdout",
     "output_type": "stream",
     "text": [
      "\r\n",
      "Epoch 440/600:  73%|███████▎  | 440/600 [3:57:24<1:30:25, 33.91s/it, v_num=k8_1, total_loss_train=527, kl_local_train=91.9, metric_mi|age_categorical_train=0.232]"
     ]
    },
    {
     "name": "stdout",
     "output_type": "stream",
     "text": [
      "\r\n",
      "Epoch 440/600:  73%|███████▎  | 440/600 [3:57:24<1:30:25, 33.91s/it, v_num=k8_1, total_loss_train=527, kl_local_train=92, metric_mi|age_categorical_train=0.232]  "
     ]
    },
    {
     "name": "stdout",
     "output_type": "stream",
     "text": [
      "\r\n",
      "Epoch 441/600:  73%|███████▎  | 440/600 [3:57:25<1:30:25, 33.91s/it, v_num=k8_1, total_loss_train=527, kl_local_train=92, metric_mi|age_categorical_train=0.232]"
     ]
    },
    {
     "name": "stdout",
     "output_type": "stream",
     "text": [
      "\r\n",
      "Epoch 441/600:  74%|███████▎  | 441/600 [3:57:58<1:30:02, 33.98s/it, v_num=k8_1, total_loss_train=527, kl_local_train=92, metric_mi|age_categorical_train=0.232]"
     ]
    },
    {
     "name": "stdout",
     "output_type": "stream",
     "text": [
      "\r\n",
      "Epoch 441/600:  74%|███████▎  | 441/600 [3:57:58<1:30:02, 33.98s/it, v_num=k8_1, total_loss_train=527, kl_local_train=92.2, metric_mi|age_categorical_train=0.232]"
     ]
    },
    {
     "name": "stdout",
     "output_type": "stream",
     "text": [
      "\r\n",
      "Epoch 442/600:  74%|███████▎  | 441/600 [3:57:58<1:30:02, 33.98s/it, v_num=k8_1, total_loss_train=527, kl_local_train=92.2, metric_mi|age_categorical_train=0.232]"
     ]
    },
    {
     "name": "stdout",
     "output_type": "stream",
     "text": [
      "\r\n",
      "Epoch 442/600:  74%|███████▎  | 442/600 [3:58:31<1:28:49, 33.73s/it, v_num=k8_1, total_loss_train=527, kl_local_train=92.2, metric_mi|age_categorical_train=0.232]"
     ]
    },
    {
     "name": "stdout",
     "output_type": "stream",
     "text": [
      "\r\n",
      "Epoch 442/600:  74%|███████▎  | 442/600 [3:58:31<1:28:49, 33.73s/it, v_num=k8_1, total_loss_train=527, kl_local_train=91.6, metric_mi|age_categorical_train=0.232]"
     ]
    },
    {
     "name": "stdout",
     "output_type": "stream",
     "text": [
      "\r\n",
      "Epoch 443/600:  74%|███████▎  | 442/600 [3:58:31<1:28:49, 33.73s/it, v_num=k8_1, total_loss_train=527, kl_local_train=91.6, metric_mi|age_categorical_train=0.232]"
     ]
    },
    {
     "name": "stdout",
     "output_type": "stream",
     "text": [
      "\r\n",
      "Epoch 443/600:  74%|███████▍  | 443/600 [3:59:05<1:28:07, 33.68s/it, v_num=k8_1, total_loss_train=527, kl_local_train=91.6, metric_mi|age_categorical_train=0.232]"
     ]
    },
    {
     "name": "stdout",
     "output_type": "stream",
     "text": [
      "\r\n",
      "Epoch 443/600:  74%|███████▍  | 443/600 [3:59:05<1:28:07, 33.68s/it, v_num=k8_1, total_loss_train=527, kl_local_train=91.7, metric_mi|age_categorical_train=0.232]"
     ]
    },
    {
     "name": "stdout",
     "output_type": "stream",
     "text": [
      "\r\n",
      "Epoch 444/600:  74%|███████▍  | 443/600 [3:59:05<1:28:07, 33.68s/it, v_num=k8_1, total_loss_train=527, kl_local_train=91.7, metric_mi|age_categorical_train=0.232]"
     ]
    },
    {
     "name": "stdout",
     "output_type": "stream",
     "text": [
      "\r\n",
      "Epoch 444/600:  74%|███████▍  | 444/600 [3:59:38<1:27:26, 33.63s/it, v_num=k8_1, total_loss_train=527, kl_local_train=91.7, metric_mi|age_categorical_train=0.232]"
     ]
    },
    {
     "name": "stdout",
     "output_type": "stream",
     "text": [
      "\r\n",
      "Epoch 444/600:  74%|███████▍  | 444/600 [3:59:38<1:27:26, 33.63s/it, v_num=k8_1, total_loss_train=527, kl_local_train=91.5, metric_mi|age_categorical_train=0.232]"
     ]
    },
    {
     "name": "stdout",
     "output_type": "stream",
     "text": [
      "\r\n",
      "Epoch 445/600:  74%|███████▍  | 444/600 [3:59:38<1:27:26, 33.63s/it, v_num=k8_1, total_loss_train=527, kl_local_train=91.5, metric_mi|age_categorical_train=0.232]"
     ]
    },
    {
     "name": "stdout",
     "output_type": "stream",
     "text": [
      "\r\n",
      "Epoch 445/600:  74%|███████▍  | 445/600 [4:00:12<1:26:56, 33.66s/it, v_num=k8_1, total_loss_train=527, kl_local_train=91.5, metric_mi|age_categorical_train=0.232]"
     ]
    },
    {
     "name": "stdout",
     "output_type": "stream",
     "text": [
      "\r\n",
      "Epoch 445/600:  74%|███████▍  | 445/600 [4:00:12<1:26:56, 33.66s/it, v_num=k8_1, total_loss_train=527, kl_local_train=91.6, metric_mi|age_categorical_train=0.232]"
     ]
    },
    {
     "name": "stdout",
     "output_type": "stream",
     "text": [
      "\r\n",
      "Epoch 446/600:  74%|███████▍  | 445/600 [4:00:13<1:26:56, 33.66s/it, v_num=k8_1, total_loss_train=527, kl_local_train=91.6, metric_mi|age_categorical_train=0.232]"
     ]
    },
    {
     "name": "stdout",
     "output_type": "stream",
     "text": [
      "\r\n",
      "Epoch 446/600:  74%|███████▍  | 446/600 [4:00:46<1:26:35, 33.74s/it, v_num=k8_1, total_loss_train=527, kl_local_train=91.6, metric_mi|age_categorical_train=0.232]"
     ]
    },
    {
     "name": "stdout",
     "output_type": "stream",
     "text": [
      "\r\n",
      "Epoch 446/600:  74%|███████▍  | 446/600 [4:00:46<1:26:35, 33.74s/it, v_num=k8_1, total_loss_train=527, kl_local_train=90.9, metric_mi|age_categorical_train=0.229]"
     ]
    },
    {
     "name": "stdout",
     "output_type": "stream",
     "text": [
      "\r\n",
      "Epoch 447/600:  74%|███████▍  | 446/600 [4:00:46<1:26:35, 33.74s/it, v_num=k8_1, total_loss_train=527, kl_local_train=90.9, metric_mi|age_categorical_train=0.229]"
     ]
    },
    {
     "name": "stdout",
     "output_type": "stream",
     "text": [
      "\r\n",
      "Epoch 447/600:  74%|███████▍  | 447/600 [4:01:19<1:25:27, 33.51s/it, v_num=k8_1, total_loss_train=527, kl_local_train=90.9, metric_mi|age_categorical_train=0.229]"
     ]
    },
    {
     "name": "stdout",
     "output_type": "stream",
     "text": [
      "\r\n",
      "Epoch 447/600:  74%|███████▍  | 447/600 [4:01:19<1:25:27, 33.51s/it, v_num=k8_1, total_loss_train=527, kl_local_train=91.2, metric_mi|age_categorical_train=0.229]"
     ]
    },
    {
     "name": "stdout",
     "output_type": "stream",
     "text": [
      "\r\n",
      "Epoch 448/600:  74%|███████▍  | 447/600 [4:01:19<1:25:27, 33.51s/it, v_num=k8_1, total_loss_train=527, kl_local_train=91.2, metric_mi|age_categorical_train=0.229]"
     ]
    },
    {
     "name": "stdout",
     "output_type": "stream",
     "text": [
      "\r\n",
      "Epoch 448/600:  75%|███████▍  | 448/600 [4:01:52<1:24:42, 33.44s/it, v_num=k8_1, total_loss_train=527, kl_local_train=91.2, metric_mi|age_categorical_train=0.229]"
     ]
    },
    {
     "name": "stdout",
     "output_type": "stream",
     "text": [
      "\r\n",
      "Epoch 448/600:  75%|███████▍  | 448/600 [4:01:52<1:24:42, 33.44s/it, v_num=k8_1, total_loss_train=528, kl_local_train=91, metric_mi|age_categorical_train=0.229]  "
     ]
    },
    {
     "name": "stdout",
     "output_type": "stream",
     "text": [
      "\r\n",
      "Epoch 449/600:  75%|███████▍  | 448/600 [4:01:52<1:24:42, 33.44s/it, v_num=k8_1, total_loss_train=528, kl_local_train=91, metric_mi|age_categorical_train=0.229]"
     ]
    },
    {
     "name": "stdout",
     "output_type": "stream",
     "text": [
      "\r\n",
      "Epoch 449/600:  75%|███████▍  | 449/600 [4:02:25<1:23:55, 33.35s/it, v_num=k8_1, total_loss_train=528, kl_local_train=91, metric_mi|age_categorical_train=0.229]"
     ]
    },
    {
     "name": "stdout",
     "output_type": "stream",
     "text": [
      "\r\n",
      "Epoch 449/600:  75%|███████▍  | 449/600 [4:02:25<1:23:55, 33.35s/it, v_num=k8_1, total_loss_train=528, kl_local_train=90.8, metric_mi|age_categorical_train=0.229]"
     ]
    },
    {
     "name": "stdout",
     "output_type": "stream",
     "text": [
      "\r\n",
      "Epoch 450/600:  75%|███████▍  | 449/600 [4:02:25<1:23:55, 33.35s/it, v_num=k8_1, total_loss_train=528, kl_local_train=90.8, metric_mi|age_categorical_train=0.229]"
     ]
    },
    {
     "name": "stdout",
     "output_type": "stream",
     "text": [
      "\r\n",
      "Epoch 450/600:  75%|███████▌  | 450/600 [4:02:59<1:23:45, 33.50s/it, v_num=k8_1, total_loss_train=528, kl_local_train=90.8, metric_mi|age_categorical_train=0.229]"
     ]
    },
    {
     "name": "stdout",
     "output_type": "stream",
     "text": [
      "\r\n",
      "Epoch 450/600:  75%|███████▌  | 450/600 [4:02:59<1:23:45, 33.50s/it, v_num=k8_1, total_loss_train=528, kl_local_train=91, metric_mi|age_categorical_train=0.229]  "
     ]
    },
    {
     "name": "stdout",
     "output_type": "stream",
     "text": [
      "\r\n",
      "Epoch 451/600:  75%|███████▌  | 450/600 [4:03:00<1:23:45, 33.50s/it, v_num=k8_1, total_loss_train=528, kl_local_train=91, metric_mi|age_categorical_train=0.229]"
     ]
    },
    {
     "name": "stdout",
     "output_type": "stream",
     "text": [
      "\r\n",
      "Epoch 451/600:  75%|███████▌  | 451/600 [4:03:33<1:23:28, 33.61s/it, v_num=k8_1, total_loss_train=528, kl_local_train=91, metric_mi|age_categorical_train=0.229]"
     ]
    },
    {
     "name": "stdout",
     "output_type": "stream",
     "text": [
      "\r\n",
      "Epoch 451/600:  75%|███████▌  | 451/600 [4:03:33<1:23:28, 33.61s/it, v_num=k8_1, total_loss_train=528, kl_local_train=91, metric_mi|age_categorical_train=0.237]"
     ]
    },
    {
     "name": "stdout",
     "output_type": "stream",
     "text": [
      "\r\n",
      "Epoch 452/600:  75%|███████▌  | 451/600 [4:03:33<1:23:28, 33.61s/it, v_num=k8_1, total_loss_train=528, kl_local_train=91, metric_mi|age_categorical_train=0.237]"
     ]
    },
    {
     "name": "stdout",
     "output_type": "stream",
     "text": [
      "\r\n",
      "Epoch 452/600:  75%|███████▌  | 452/600 [4:04:06<1:22:31, 33.46s/it, v_num=k8_1, total_loss_train=528, kl_local_train=91, metric_mi|age_categorical_train=0.237]"
     ]
    },
    {
     "name": "stdout",
     "output_type": "stream",
     "text": [
      "\r\n",
      "Epoch 452/600:  75%|███████▌  | 452/600 [4:04:06<1:22:31, 33.46s/it, v_num=k8_1, total_loss_train=528, kl_local_train=90.7, metric_mi|age_categorical_train=0.237]"
     ]
    },
    {
     "name": "stdout",
     "output_type": "stream",
     "text": [
      "\r\n",
      "Epoch 453/600:  75%|███████▌  | 452/600 [4:04:06<1:22:31, 33.46s/it, v_num=k8_1, total_loss_train=528, kl_local_train=90.7, metric_mi|age_categorical_train=0.237]"
     ]
    },
    {
     "name": "stdout",
     "output_type": "stream",
     "text": [
      "\r\n",
      "Epoch 453/600:  76%|███████▌  | 453/600 [4:04:39<1:21:40, 33.34s/it, v_num=k8_1, total_loss_train=528, kl_local_train=90.7, metric_mi|age_categorical_train=0.237]"
     ]
    },
    {
     "name": "stdout",
     "output_type": "stream",
     "text": [
      "\r\n",
      "Epoch 453/600:  76%|███████▌  | 453/600 [4:04:39<1:21:40, 33.34s/it, v_num=k8_1, total_loss_train=528, kl_local_train=90.7, metric_mi|age_categorical_train=0.237]"
     ]
    },
    {
     "name": "stdout",
     "output_type": "stream",
     "text": [
      "\r\n",
      "Epoch 454/600:  76%|███████▌  | 453/600 [4:04:39<1:21:40, 33.34s/it, v_num=k8_1, total_loss_train=528, kl_local_train=90.7, metric_mi|age_categorical_train=0.237]"
     ]
    },
    {
     "name": "stdout",
     "output_type": "stream",
     "text": [
      "\r\n",
      "Epoch 454/600:  76%|███████▌  | 454/600 [4:05:12<1:20:59, 33.28s/it, v_num=k8_1, total_loss_train=528, kl_local_train=90.7, metric_mi|age_categorical_train=0.237]"
     ]
    },
    {
     "name": "stdout",
     "output_type": "stream",
     "text": [
      "\r\n",
      "Epoch 454/600:  76%|███████▌  | 454/600 [4:05:12<1:20:59, 33.28s/it, v_num=k8_1, total_loss_train=528, kl_local_train=90.7, metric_mi|age_categorical_train=0.237]"
     ]
    },
    {
     "name": "stdout",
     "output_type": "stream",
     "text": [
      "\r\n",
      "Epoch 455/600:  76%|███████▌  | 454/600 [4:05:12<1:20:59, 33.28s/it, v_num=k8_1, total_loss_train=528, kl_local_train=90.7, metric_mi|age_categorical_train=0.237]"
     ]
    },
    {
     "name": "stdout",
     "output_type": "stream",
     "text": [
      "\r\n",
      "Epoch 455/600:  76%|███████▌  | 455/600 [4:05:46<1:20:34, 33.34s/it, v_num=k8_1, total_loss_train=528, kl_local_train=90.7, metric_mi|age_categorical_train=0.237]"
     ]
    },
    {
     "name": "stdout",
     "output_type": "stream",
     "text": [
      "\r\n",
      "Epoch 455/600:  76%|███████▌  | 455/600 [4:05:46<1:20:34, 33.34s/it, v_num=k8_1, total_loss_train=528, kl_local_train=90.4, metric_mi|age_categorical_train=0.237]"
     ]
    },
    {
     "name": "stdout",
     "output_type": "stream",
     "text": [
      "\r\n",
      "Epoch 456/600:  76%|███████▌  | 455/600 [4:05:47<1:20:34, 33.34s/it, v_num=k8_1, total_loss_train=528, kl_local_train=90.4, metric_mi|age_categorical_train=0.237]"
     ]
    },
    {
     "name": "stdout",
     "output_type": "stream",
     "text": [
      "\r\n",
      "Epoch 456/600:  76%|███████▌  | 456/600 [4:06:20<1:20:27, 33.53s/it, v_num=k8_1, total_loss_train=528, kl_local_train=90.4, metric_mi|age_categorical_train=0.237]"
     ]
    },
    {
     "name": "stdout",
     "output_type": "stream",
     "text": [
      "\r\n",
      "Epoch 456/600:  76%|███████▌  | 456/600 [4:06:20<1:20:27, 33.53s/it, v_num=k8_1, total_loss_train=528, kl_local_train=90.2, metric_mi|age_categorical_train=0.236]"
     ]
    },
    {
     "name": "stdout",
     "output_type": "stream",
     "text": [
      "\r\n",
      "Epoch 457/600:  76%|███████▌  | 456/600 [4:06:20<1:20:27, 33.53s/it, v_num=k8_1, total_loss_train=528, kl_local_train=90.2, metric_mi|age_categorical_train=0.236]"
     ]
    },
    {
     "name": "stdout",
     "output_type": "stream",
     "text": [
      "\r\n",
      "Epoch 457/600:  76%|███████▌  | 457/600 [4:06:53<1:19:32, 33.37s/it, v_num=k8_1, total_loss_train=528, kl_local_train=90.2, metric_mi|age_categorical_train=0.236]"
     ]
    },
    {
     "name": "stdout",
     "output_type": "stream",
     "text": [
      "\r\n",
      "Epoch 457/600:  76%|███████▌  | 457/600 [4:06:53<1:19:32, 33.37s/it, v_num=k8_1, total_loss_train=528, kl_local_train=90.2, metric_mi|age_categorical_train=0.236]"
     ]
    },
    {
     "name": "stdout",
     "output_type": "stream",
     "text": [
      "\r\n",
      "Epoch 458/600:  76%|███████▌  | 457/600 [4:06:53<1:19:32, 33.37s/it, v_num=k8_1, total_loss_train=528, kl_local_train=90.2, metric_mi|age_categorical_train=0.236]"
     ]
    },
    {
     "name": "stdout",
     "output_type": "stream",
     "text": [
      "\r\n",
      "Epoch 458/600:  76%|███████▋  | 458/600 [4:07:26<1:18:44, 33.27s/it, v_num=k8_1, total_loss_train=528, kl_local_train=90.2, metric_mi|age_categorical_train=0.236]"
     ]
    },
    {
     "name": "stdout",
     "output_type": "stream",
     "text": [
      "\r\n",
      "Epoch 458/600:  76%|███████▋  | 458/600 [4:07:26<1:18:44, 33.27s/it, v_num=k8_1, total_loss_train=528, kl_local_train=90.2, metric_mi|age_categorical_train=0.236]"
     ]
    },
    {
     "name": "stdout",
     "output_type": "stream",
     "text": [
      "\r\n",
      "Epoch 459/600:  76%|███████▋  | 458/600 [4:07:26<1:18:44, 33.27s/it, v_num=k8_1, total_loss_train=528, kl_local_train=90.2, metric_mi|age_categorical_train=0.236]"
     ]
    },
    {
     "name": "stdout",
     "output_type": "stream",
     "text": [
      "\r\n",
      "Epoch 459/600:  76%|███████▋  | 459/600 [4:08:00<1:18:36, 33.45s/it, v_num=k8_1, total_loss_train=528, kl_local_train=90.2, metric_mi|age_categorical_train=0.236]"
     ]
    },
    {
     "name": "stdout",
     "output_type": "stream",
     "text": [
      "\r\n",
      "Epoch 459/600:  76%|███████▋  | 459/600 [4:08:00<1:18:36, 33.45s/it, v_num=k8_1, total_loss_train=528, kl_local_train=90, metric_mi|age_categorical_train=0.236]  "
     ]
    },
    {
     "name": "stdout",
     "output_type": "stream",
     "text": [
      "\r\n",
      "Epoch 460/600:  76%|███████▋  | 459/600 [4:08:00<1:18:36, 33.45s/it, v_num=k8_1, total_loss_train=528, kl_local_train=90, metric_mi|age_categorical_train=0.236]"
     ]
    },
    {
     "name": "stdout",
     "output_type": "stream",
     "text": [
      "\r\n",
      "Epoch 460/600:  77%|███████▋  | 460/600 [4:08:34<1:18:43, 33.74s/it, v_num=k8_1, total_loss_train=528, kl_local_train=90, metric_mi|age_categorical_train=0.236]"
     ]
    },
    {
     "name": "stdout",
     "output_type": "stream",
     "text": [
      "\r\n",
      "Epoch 460/600:  77%|███████▋  | 460/600 [4:08:34<1:18:43, 33.74s/it, v_num=k8_1, total_loss_train=529, kl_local_train=90, metric_mi|age_categorical_train=0.236]"
     ]
    },
    {
     "name": "stdout",
     "output_type": "stream",
     "text": [
      "\r\n",
      "Epoch 461/600:  77%|███████▋  | 460/600 [4:08:35<1:18:43, 33.74s/it, v_num=k8_1, total_loss_train=529, kl_local_train=90, metric_mi|age_categorical_train=0.236]"
     ]
    },
    {
     "name": "stdout",
     "output_type": "stream",
     "text": [
      "\r\n",
      "Epoch 461/600:  77%|███████▋  | 461/600 [4:09:08<1:18:30, 33.89s/it, v_num=k8_1, total_loss_train=529, kl_local_train=90, metric_mi|age_categorical_train=0.236]"
     ]
    },
    {
     "name": "stdout",
     "output_type": "stream",
     "text": [
      "\r\n",
      "Epoch 461/600:  77%|███████▋  | 461/600 [4:09:08<1:18:30, 33.89s/it, v_num=k8_1, total_loss_train=529, kl_local_train=90.3, metric_mi|age_categorical_train=0.229]"
     ]
    },
    {
     "name": "stdout",
     "output_type": "stream",
     "text": [
      "\r\n",
      "Epoch 462/600:  77%|███████▋  | 461/600 [4:09:08<1:18:30, 33.89s/it, v_num=k8_1, total_loss_train=529, kl_local_train=90.3, metric_mi|age_categorical_train=0.229]"
     ]
    },
    {
     "name": "stdout",
     "output_type": "stream",
     "text": [
      "\r\n",
      "Epoch 462/600:  77%|███████▋  | 462/600 [4:09:42<1:17:37, 33.75s/it, v_num=k8_1, total_loss_train=529, kl_local_train=90.3, metric_mi|age_categorical_train=0.229]"
     ]
    },
    {
     "name": "stdout",
     "output_type": "stream",
     "text": [
      "\r\n",
      "Epoch 462/600:  77%|███████▋  | 462/600 [4:09:42<1:17:37, 33.75s/it, v_num=k8_1, total_loss_train=528, kl_local_train=89.1, metric_mi|age_categorical_train=0.229]"
     ]
    },
    {
     "name": "stdout",
     "output_type": "stream",
     "text": [
      "\r\n",
      "Epoch 463/600:  77%|███████▋  | 462/600 [4:09:42<1:17:37, 33.75s/it, v_num=k8_1, total_loss_train=528, kl_local_train=89.1, metric_mi|age_categorical_train=0.229]"
     ]
    },
    {
     "name": "stdout",
     "output_type": "stream",
     "text": [
      "\r\n",
      "Epoch 463/600:  77%|███████▋  | 463/600 [4:10:15<1:16:47, 33.63s/it, v_num=k8_1, total_loss_train=528, kl_local_train=89.1, metric_mi|age_categorical_train=0.229]"
     ]
    },
    {
     "name": "stdout",
     "output_type": "stream",
     "text": [
      "\r\n",
      "Epoch 463/600:  77%|███████▋  | 463/600 [4:10:15<1:16:47, 33.63s/it, v_num=k8_1, total_loss_train=529, kl_local_train=89.9, metric_mi|age_categorical_train=0.229]"
     ]
    },
    {
     "name": "stdout",
     "output_type": "stream",
     "text": [
      "\r\n",
      "Epoch 464/600:  77%|███████▋  | 463/600 [4:10:15<1:16:47, 33.63s/it, v_num=k8_1, total_loss_train=529, kl_local_train=89.9, metric_mi|age_categorical_train=0.229]"
     ]
    },
    {
     "name": "stdout",
     "output_type": "stream",
     "text": [
      "\r\n",
      "Epoch 464/600:  77%|███████▋  | 464/600 [4:10:49<1:16:03, 33.56s/it, v_num=k8_1, total_loss_train=529, kl_local_train=89.9, metric_mi|age_categorical_train=0.229]"
     ]
    },
    {
     "name": "stdout",
     "output_type": "stream",
     "text": [
      "\r\n",
      "Epoch 464/600:  77%|███████▋  | 464/600 [4:10:49<1:16:03, 33.56s/it, v_num=k8_1, total_loss_train=529, kl_local_train=89.7, metric_mi|age_categorical_train=0.229]"
     ]
    },
    {
     "name": "stdout",
     "output_type": "stream",
     "text": [
      "\r\n",
      "Epoch 465/600:  77%|███████▋  | 464/600 [4:10:49<1:16:03, 33.56s/it, v_num=k8_1, total_loss_train=529, kl_local_train=89.7, metric_mi|age_categorical_train=0.229]"
     ]
    },
    {
     "name": "stdout",
     "output_type": "stream",
     "text": [
      "\r\n",
      "Epoch 465/600:  78%|███████▊  | 465/600 [4:11:22<1:15:42, 33.65s/it, v_num=k8_1, total_loss_train=529, kl_local_train=89.7, metric_mi|age_categorical_train=0.229]"
     ]
    },
    {
     "name": "stdout",
     "output_type": "stream",
     "text": [
      "\r\n",
      "Epoch 465/600:  78%|███████▊  | 465/600 [4:11:22<1:15:42, 33.65s/it, v_num=k8_1, total_loss_train=529, kl_local_train=89.6, metric_mi|age_categorical_train=0.229]"
     ]
    },
    {
     "name": "stdout",
     "output_type": "stream",
     "text": [
      "\r\n",
      "Epoch 466/600:  78%|███████▊  | 465/600 [4:11:23<1:15:42, 33.65s/it, v_num=k8_1, total_loss_train=529, kl_local_train=89.6, metric_mi|age_categorical_train=0.229]"
     ]
    },
    {
     "name": "stdout",
     "output_type": "stream",
     "text": [
      "\r\n",
      "Epoch 466/600:  78%|███████▊  | 466/600 [4:11:57<1:15:33, 33.83s/it, v_num=k8_1, total_loss_train=529, kl_local_train=89.6, metric_mi|age_categorical_train=0.229]"
     ]
    },
    {
     "name": "stdout",
     "output_type": "stream",
     "text": [
      "\r\n",
      "Epoch 466/600:  78%|███████▊  | 466/600 [4:11:57<1:15:33, 33.83s/it, v_num=k8_1, total_loss_train=529, kl_local_train=89.3, metric_mi|age_categorical_train=0.225]"
     ]
    },
    {
     "name": "stdout",
     "output_type": "stream",
     "text": [
      "\r\n",
      "Epoch 467/600:  78%|███████▊  | 466/600 [4:11:57<1:15:33, 33.83s/it, v_num=k8_1, total_loss_train=529, kl_local_train=89.3, metric_mi|age_categorical_train=0.225]"
     ]
    },
    {
     "name": "stdout",
     "output_type": "stream",
     "text": [
      "\r\n",
      "Epoch 467/600:  78%|███████▊  | 467/600 [4:12:30<1:14:41, 33.70s/it, v_num=k8_1, total_loss_train=529, kl_local_train=89.3, metric_mi|age_categorical_train=0.225]"
     ]
    },
    {
     "name": "stdout",
     "output_type": "stream",
     "text": [
      "\r\n",
      "Epoch 467/600:  78%|███████▊  | 467/600 [4:12:30<1:14:41, 33.70s/it, v_num=k8_1, total_loss_train=529, kl_local_train=89.7, metric_mi|age_categorical_train=0.225]"
     ]
    },
    {
     "name": "stdout",
     "output_type": "stream",
     "text": [
      "\r\n",
      "Epoch 468/600:  78%|███████▊  | 467/600 [4:12:30<1:14:41, 33.70s/it, v_num=k8_1, total_loss_train=529, kl_local_train=89.7, metric_mi|age_categorical_train=0.225]"
     ]
    },
    {
     "name": "stdout",
     "output_type": "stream",
     "text": [
      "\r\n",
      "Epoch 468/600:  78%|███████▊  | 468/600 [4:13:03<1:13:54, 33.60s/it, v_num=k8_1, total_loss_train=529, kl_local_train=89.7, metric_mi|age_categorical_train=0.225]"
     ]
    },
    {
     "name": "stdout",
     "output_type": "stream",
     "text": [
      "\r\n",
      "Epoch 468/600:  78%|███████▊  | 468/600 [4:13:03<1:13:54, 33.60s/it, v_num=k8_1, total_loss_train=529, kl_local_train=89.2, metric_mi|age_categorical_train=0.225]"
     ]
    },
    {
     "name": "stdout",
     "output_type": "stream",
     "text": [
      "\r\n",
      "Epoch 469/600:  78%|███████▊  | 468/600 [4:13:03<1:13:54, 33.60s/it, v_num=k8_1, total_loss_train=529, kl_local_train=89.2, metric_mi|age_categorical_train=0.225]"
     ]
    },
    {
     "name": "stdout",
     "output_type": "stream",
     "text": [
      "\r\n",
      "Epoch 469/600:  78%|███████▊  | 469/600 [4:13:37<1:13:12, 33.53s/it, v_num=k8_1, total_loss_train=529, kl_local_train=89.2, metric_mi|age_categorical_train=0.225]"
     ]
    },
    {
     "name": "stdout",
     "output_type": "stream",
     "text": [
      "\r\n",
      "Epoch 469/600:  78%|███████▊  | 469/600 [4:13:37<1:13:12, 33.53s/it, v_num=k8_1, total_loss_train=530, kl_local_train=89.3, metric_mi|age_categorical_train=0.225]"
     ]
    },
    {
     "name": "stdout",
     "output_type": "stream",
     "text": [
      "\r\n",
      "Epoch 470/600:  78%|███████▊  | 469/600 [4:13:37<1:13:12, 33.53s/it, v_num=k8_1, total_loss_train=530, kl_local_train=89.3, metric_mi|age_categorical_train=0.225]"
     ]
    },
    {
     "name": "stdout",
     "output_type": "stream",
     "text": [
      "\r\n",
      "Epoch 470/600:  78%|███████▊  | 470/600 [4:14:11<1:12:58, 33.68s/it, v_num=k8_1, total_loss_train=530, kl_local_train=89.3, metric_mi|age_categorical_train=0.225]"
     ]
    },
    {
     "name": "stdout",
     "output_type": "stream",
     "text": [
      "\r\n",
      "Epoch 470/600:  78%|███████▊  | 470/600 [4:14:11<1:12:58, 33.68s/it, v_num=k8_1, total_loss_train=529, kl_local_train=89, metric_mi|age_categorical_train=0.225]  "
     ]
    },
    {
     "name": "stdout",
     "output_type": "stream",
     "text": [
      "\r\n",
      "Epoch 471/600:  78%|███████▊  | 470/600 [4:14:12<1:12:58, 33.68s/it, v_num=k8_1, total_loss_train=529, kl_local_train=89, metric_mi|age_categorical_train=0.225]"
     ]
    },
    {
     "name": "stdout",
     "output_type": "stream",
     "text": [
      "\r\n",
      "Epoch 471/600:  78%|███████▊  | 471/600 [4:14:45<1:12:59, 33.95s/it, v_num=k8_1, total_loss_train=529, kl_local_train=89, metric_mi|age_categorical_train=0.225]"
     ]
    },
    {
     "name": "stdout",
     "output_type": "stream",
     "text": [
      "\r\n",
      "Epoch 471/600:  78%|███████▊  | 471/600 [4:14:45<1:12:59, 33.95s/it, v_num=k8_1, total_loss_train=530, kl_local_train=89.2, metric_mi|age_categorical_train=0.224]"
     ]
    },
    {
     "name": "stdout",
     "output_type": "stream",
     "text": [
      "\r\n",
      "Epoch 472/600:  78%|███████▊  | 471/600 [4:14:45<1:12:59, 33.95s/it, v_num=k8_1, total_loss_train=530, kl_local_train=89.2, metric_mi|age_categorical_train=0.224]"
     ]
    },
    {
     "name": "stdout",
     "output_type": "stream",
     "text": [
      "\r\n",
      "Epoch 472/600:  79%|███████▊  | 472/600 [4:15:19<1:12:07, 33.81s/it, v_num=k8_1, total_loss_train=530, kl_local_train=89.2, metric_mi|age_categorical_train=0.224]"
     ]
    },
    {
     "name": "stdout",
     "output_type": "stream",
     "text": [
      "\r\n",
      "Epoch 472/600:  79%|███████▊  | 472/600 [4:15:19<1:12:07, 33.81s/it, v_num=k8_1, total_loss_train=530, kl_local_train=88.8, metric_mi|age_categorical_train=0.224]"
     ]
    },
    {
     "name": "stdout",
     "output_type": "stream",
     "text": [
      "\r\n",
      "Epoch 473/600:  79%|███████▊  | 472/600 [4:15:19<1:12:07, 33.81s/it, v_num=k8_1, total_loss_train=530, kl_local_train=88.8, metric_mi|age_categorical_train=0.224]"
     ]
    },
    {
     "name": "stdout",
     "output_type": "stream",
     "text": [
      "\r\n",
      "Epoch 473/600:  79%|███████▉  | 473/600 [4:15:52<1:11:21, 33.71s/it, v_num=k8_1, total_loss_train=530, kl_local_train=88.8, metric_mi|age_categorical_train=0.224]"
     ]
    },
    {
     "name": "stdout",
     "output_type": "stream",
     "text": [
      "\r\n",
      "Epoch 473/600:  79%|███████▉  | 473/600 [4:15:52<1:11:21, 33.71s/it, v_num=k8_1, total_loss_train=530, kl_local_train=88.8, metric_mi|age_categorical_train=0.224]"
     ]
    },
    {
     "name": "stdout",
     "output_type": "stream",
     "text": [
      "\r\n",
      "Epoch 474/600:  79%|███████▉  | 473/600 [4:15:52<1:11:21, 33.71s/it, v_num=k8_1, total_loss_train=530, kl_local_train=88.8, metric_mi|age_categorical_train=0.224]"
     ]
    },
    {
     "name": "stdout",
     "output_type": "stream",
     "text": [
      "\r\n",
      "Epoch 474/600:  79%|███████▉  | 474/600 [4:16:26<1:10:40, 33.66s/it, v_num=k8_1, total_loss_train=530, kl_local_train=88.8, metric_mi|age_categorical_train=0.224]"
     ]
    },
    {
     "name": "stdout",
     "output_type": "stream",
     "text": [
      "\r\n",
      "Epoch 474/600:  79%|███████▉  | 474/600 [4:16:26<1:10:40, 33.66s/it, v_num=k8_1, total_loss_train=530, kl_local_train=89, metric_mi|age_categorical_train=0.224]  "
     ]
    },
    {
     "name": "stdout",
     "output_type": "stream",
     "text": [
      "\r\n",
      "Epoch 475/600:  79%|███████▉  | 474/600 [4:16:26<1:10:40, 33.66s/it, v_num=k8_1, total_loss_train=530, kl_local_train=89, metric_mi|age_categorical_train=0.224]"
     ]
    },
    {
     "name": "stdout",
     "output_type": "stream",
     "text": [
      "\r\n",
      "Epoch 475/600:  79%|███████▉  | 475/600 [4:17:00<1:10:18, 33.75s/it, v_num=k8_1, total_loss_train=530, kl_local_train=89, metric_mi|age_categorical_train=0.224]"
     ]
    },
    {
     "name": "stdout",
     "output_type": "stream",
     "text": [
      "\r\n",
      "Epoch 475/600:  79%|███████▉  | 475/600 [4:17:00<1:10:18, 33.75s/it, v_num=k8_1, total_loss_train=530, kl_local_train=88.9, metric_mi|age_categorical_train=0.224]"
     ]
    },
    {
     "name": "stdout",
     "output_type": "stream",
     "text": [
      "\r\n",
      "Epoch 476/600:  79%|███████▉  | 475/600 [4:17:01<1:10:18, 33.75s/it, v_num=k8_1, total_loss_train=530, kl_local_train=88.9, metric_mi|age_categorical_train=0.224]"
     ]
    },
    {
     "name": "stdout",
     "output_type": "stream",
     "text": [
      "\r\n",
      "Epoch 476/600:  79%|███████▉  | 476/600 [4:17:34<1:10:10, 33.96s/it, v_num=k8_1, total_loss_train=530, kl_local_train=88.9, metric_mi|age_categorical_train=0.224]"
     ]
    },
    {
     "name": "stdout",
     "output_type": "stream",
     "text": [
      "\r\n",
      "Epoch 476/600:  79%|███████▉  | 476/600 [4:17:34<1:10:10, 33.96s/it, v_num=k8_1, total_loss_train=530, kl_local_train=88.6, metric_mi|age_categorical_train=0.22] "
     ]
    },
    {
     "name": "stdout",
     "output_type": "stream",
     "text": [
      "\r\n",
      "Epoch 477/600:  79%|███████▉  | 476/600 [4:17:34<1:10:10, 33.96s/it, v_num=k8_1, total_loss_train=530, kl_local_train=88.6, metric_mi|age_categorical_train=0.22]"
     ]
    },
    {
     "name": "stdout",
     "output_type": "stream",
     "text": [
      "\r\n",
      "Epoch 477/600:  80%|███████▉  | 477/600 [4:18:07<1:09:06, 33.72s/it, v_num=k8_1, total_loss_train=530, kl_local_train=88.6, metric_mi|age_categorical_train=0.22]"
     ]
    },
    {
     "name": "stdout",
     "output_type": "stream",
     "text": [
      "\r\n",
      "Epoch 477/600:  80%|███████▉  | 477/600 [4:18:07<1:09:06, 33.72s/it, v_num=k8_1, total_loss_train=530, kl_local_train=88.7, metric_mi|age_categorical_train=0.22]"
     ]
    },
    {
     "name": "stdout",
     "output_type": "stream",
     "text": [
      "\r\n",
      "Epoch 478/600:  80%|███████▉  | 477/600 [4:18:08<1:09:06, 33.72s/it, v_num=k8_1, total_loss_train=530, kl_local_train=88.7, metric_mi|age_categorical_train=0.22]"
     ]
    },
    {
     "name": "stdout",
     "output_type": "stream",
     "text": [
      "\r\n",
      "Epoch 478/600:  80%|███████▉  | 478/600 [4:18:40<1:08:07, 33.50s/it, v_num=k8_1, total_loss_train=530, kl_local_train=88.7, metric_mi|age_categorical_train=0.22]"
     ]
    },
    {
     "name": "stdout",
     "output_type": "stream",
     "text": [
      "\r\n",
      "Epoch 478/600:  80%|███████▉  | 478/600 [4:18:40<1:08:07, 33.50s/it, v_num=k8_1, total_loss_train=530, kl_local_train=88.4, metric_mi|age_categorical_train=0.22]"
     ]
    },
    {
     "name": "stdout",
     "output_type": "stream",
     "text": [
      "\r\n",
      "Epoch 479/600:  80%|███████▉  | 478/600 [4:18:41<1:08:07, 33.50s/it, v_num=k8_1, total_loss_train=530, kl_local_train=88.4, metric_mi|age_categorical_train=0.22]"
     ]
    },
    {
     "name": "stdout",
     "output_type": "stream",
     "text": [
      "\r\n",
      "Epoch 479/600:  80%|███████▉  | 479/600 [4:19:14<1:07:16, 33.36s/it, v_num=k8_1, total_loss_train=530, kl_local_train=88.4, metric_mi|age_categorical_train=0.22]"
     ]
    },
    {
     "name": "stdout",
     "output_type": "stream",
     "text": [
      "\r\n",
      "Epoch 479/600:  80%|███████▉  | 479/600 [4:19:14<1:07:16, 33.36s/it, v_num=k8_1, total_loss_train=531, kl_local_train=88.4, metric_mi|age_categorical_train=0.22]"
     ]
    },
    {
     "name": "stdout",
     "output_type": "stream",
     "text": [
      "\r\n",
      "Epoch 480/600:  80%|███████▉  | 479/600 [4:19:14<1:07:16, 33.36s/it, v_num=k8_1, total_loss_train=531, kl_local_train=88.4, metric_mi|age_categorical_train=0.22]"
     ]
    },
    {
     "name": "stdout",
     "output_type": "stream",
     "text": [
      "\r\n",
      "Epoch 480/600:  80%|████████  | 480/600 [4:19:47<1:06:55, 33.46s/it, v_num=k8_1, total_loss_train=531, kl_local_train=88.4, metric_mi|age_categorical_train=0.22]"
     ]
    },
    {
     "name": "stdout",
     "output_type": "stream",
     "text": [
      "\r\n",
      "Epoch 480/600:  80%|████████  | 480/600 [4:19:47<1:06:55, 33.46s/it, v_num=k8_1, total_loss_train=531, kl_local_train=88.5, metric_mi|age_categorical_train=0.22]"
     ]
    },
    {
     "name": "stdout",
     "output_type": "stream",
     "text": [
      "\r\n",
      "Epoch 481/600:  80%|████████  | 480/600 [4:19:48<1:06:55, 33.46s/it, v_num=k8_1, total_loss_train=531, kl_local_train=88.5, metric_mi|age_categorical_train=0.22]"
     ]
    },
    {
     "name": "stdout",
     "output_type": "stream",
     "text": [
      "\r\n",
      "Epoch 481/600:  80%|████████  | 481/600 [4:20:21<1:06:41, 33.62s/it, v_num=k8_1, total_loss_train=531, kl_local_train=88.5, metric_mi|age_categorical_train=0.22]"
     ]
    },
    {
     "name": "stdout",
     "output_type": "stream",
     "text": [
      "\r\n",
      "Epoch 481/600:  80%|████████  | 481/600 [4:20:21<1:06:41, 33.62s/it, v_num=k8_1, total_loss_train=531, kl_local_train=88.3, metric_mi|age_categorical_train=0.236]"
     ]
    },
    {
     "name": "stdout",
     "output_type": "stream",
     "text": [
      "\r\n",
      "Epoch 482/600:  80%|████████  | 481/600 [4:20:21<1:06:41, 33.62s/it, v_num=k8_1, total_loss_train=531, kl_local_train=88.3, metric_mi|age_categorical_train=0.236]"
     ]
    },
    {
     "name": "stdout",
     "output_type": "stream",
     "text": [
      "\r\n",
      "Epoch 482/600:  80%|████████  | 482/600 [4:20:54<1:05:47, 33.46s/it, v_num=k8_1, total_loss_train=531, kl_local_train=88.3, metric_mi|age_categorical_train=0.236]"
     ]
    },
    {
     "name": "stdout",
     "output_type": "stream",
     "text": [
      "\r\n",
      "Epoch 482/600:  80%|████████  | 482/600 [4:20:54<1:05:47, 33.46s/it, v_num=k8_1, total_loss_train=531, kl_local_train=88.2, metric_mi|age_categorical_train=0.236]"
     ]
    },
    {
     "name": "stdout",
     "output_type": "stream",
     "text": [
      "\r\n",
      "Epoch 483/600:  80%|████████  | 482/600 [4:20:54<1:05:47, 33.46s/it, v_num=k8_1, total_loss_train=531, kl_local_train=88.2, metric_mi|age_categorical_train=0.236]"
     ]
    },
    {
     "name": "stdout",
     "output_type": "stream",
     "text": [
      "\r\n",
      "Epoch 483/600:  80%|████████  | 483/600 [4:21:27<1:04:59, 33.33s/it, v_num=k8_1, total_loss_train=531, kl_local_train=88.2, metric_mi|age_categorical_train=0.236]"
     ]
    },
    {
     "name": "stdout",
     "output_type": "stream",
     "text": [
      "\r\n",
      "Epoch 483/600:  80%|████████  | 483/600 [4:21:27<1:04:59, 33.33s/it, v_num=k8_1, total_loss_train=531, kl_local_train=87.9, metric_mi|age_categorical_train=0.236]"
     ]
    },
    {
     "name": "stdout",
     "output_type": "stream",
     "text": [
      "\r\n",
      "Epoch 484/600:  80%|████████  | 483/600 [4:21:27<1:04:59, 33.33s/it, v_num=k8_1, total_loss_train=531, kl_local_train=87.9, metric_mi|age_categorical_train=0.236]"
     ]
    },
    {
     "name": "stdout",
     "output_type": "stream",
     "text": [
      "\r\n",
      "Epoch 484/600:  81%|████████  | 484/600 [4:22:00<1:04:18, 33.27s/it, v_num=k8_1, total_loss_train=531, kl_local_train=87.9, metric_mi|age_categorical_train=0.236]"
     ]
    },
    {
     "name": "stdout",
     "output_type": "stream",
     "text": [
      "\r\n",
      "Epoch 484/600:  81%|████████  | 484/600 [4:22:00<1:04:18, 33.27s/it, v_num=k8_1, total_loss_train=531, kl_local_train=87.7, metric_mi|age_categorical_train=0.236]"
     ]
    },
    {
     "name": "stdout",
     "output_type": "stream",
     "text": [
      "\r\n",
      "Epoch 485/600:  81%|████████  | 484/600 [4:22:00<1:04:18, 33.27s/it, v_num=k8_1, total_loss_train=531, kl_local_train=87.7, metric_mi|age_categorical_train=0.236]"
     ]
    },
    {
     "name": "stdout",
     "output_type": "stream",
     "text": [
      "\r\n",
      "Epoch 485/600:  81%|████████  | 485/600 [4:22:35<1:04:19, 33.56s/it, v_num=k8_1, total_loss_train=531, kl_local_train=87.7, metric_mi|age_categorical_train=0.236]"
     ]
    },
    {
     "name": "stdout",
     "output_type": "stream",
     "text": [
      "\r\n",
      "Epoch 485/600:  81%|████████  | 485/600 [4:22:35<1:04:19, 33.56s/it, v_num=k8_1, total_loss_train=531, kl_local_train=87.7, metric_mi|age_categorical_train=0.236]"
     ]
    },
    {
     "name": "stdout",
     "output_type": "stream",
     "text": [
      "\r\n",
      "Epoch 486/600:  81%|████████  | 485/600 [4:22:36<1:04:19, 33.56s/it, v_num=k8_1, total_loss_train=531, kl_local_train=87.7, metric_mi|age_categorical_train=0.236]"
     ]
    },
    {
     "name": "stdout",
     "output_type": "stream",
     "text": [
      "\r\n",
      "Epoch 486/600:  81%|████████  | 486/600 [4:23:09<1:04:06, 33.74s/it, v_num=k8_1, total_loss_train=531, kl_local_train=87.7, metric_mi|age_categorical_train=0.236]"
     ]
    },
    {
     "name": "stdout",
     "output_type": "stream",
     "text": [
      "\r\n",
      "Epoch 486/600:  81%|████████  | 486/600 [4:23:09<1:04:06, 33.74s/it, v_num=k8_1, total_loss_train=531, kl_local_train=87.4, metric_mi|age_categorical_train=0.235]"
     ]
    },
    {
     "name": "stdout",
     "output_type": "stream",
     "text": [
      "\r\n",
      "Epoch 487/600:  81%|████████  | 486/600 [4:23:09<1:04:06, 33.74s/it, v_num=k8_1, total_loss_train=531, kl_local_train=87.4, metric_mi|age_categorical_train=0.235]"
     ]
    },
    {
     "name": "stdout",
     "output_type": "stream",
     "text": [
      "\r\n",
      "Epoch 487/600:  81%|████████  | 487/600 [4:23:42<1:03:16, 33.60s/it, v_num=k8_1, total_loss_train=531, kl_local_train=87.4, metric_mi|age_categorical_train=0.235]"
     ]
    },
    {
     "name": "stdout",
     "output_type": "stream",
     "text": [
      "\r\n",
      "Epoch 487/600:  81%|████████  | 487/600 [4:23:42<1:03:16, 33.60s/it, v_num=k8_1, total_loss_train=531, kl_local_train=87.7, metric_mi|age_categorical_train=0.235]"
     ]
    },
    {
     "name": "stdout",
     "output_type": "stream",
     "text": [
      "\r\n",
      "Epoch 488/600:  81%|████████  | 487/600 [4:23:42<1:03:16, 33.60s/it, v_num=k8_1, total_loss_train=531, kl_local_train=87.7, metric_mi|age_categorical_train=0.235]"
     ]
    },
    {
     "name": "stdout",
     "output_type": "stream",
     "text": [
      "\r\n",
      "Epoch 488/600:  81%|████████▏ | 488/600 [4:24:15<1:02:29, 33.48s/it, v_num=k8_1, total_loss_train=531, kl_local_train=87.7, metric_mi|age_categorical_train=0.235]"
     ]
    },
    {
     "name": "stdout",
     "output_type": "stream",
     "text": [
      "\r\n",
      "Epoch 488/600:  81%|████████▏ | 488/600 [4:24:15<1:02:29, 33.48s/it, v_num=k8_1, total_loss_train=531, kl_local_train=87.5, metric_mi|age_categorical_train=0.235]"
     ]
    },
    {
     "name": "stdout",
     "output_type": "stream",
     "text": [
      "\r\n",
      "Epoch 489/600:  81%|████████▏ | 488/600 [4:24:15<1:02:29, 33.48s/it, v_num=k8_1, total_loss_train=531, kl_local_train=87.5, metric_mi|age_categorical_train=0.235]"
     ]
    },
    {
     "name": "stdout",
     "output_type": "stream",
     "text": [
      "\r\n",
      "Epoch 489/600:  82%|████████▏ | 489/600 [4:24:49<1:01:57, 33.49s/it, v_num=k8_1, total_loss_train=531, kl_local_train=87.5, metric_mi|age_categorical_train=0.235]"
     ]
    },
    {
     "name": "stdout",
     "output_type": "stream",
     "text": [
      "\r\n",
      "Epoch 489/600:  82%|████████▏ | 489/600 [4:24:49<1:01:57, 33.49s/it, v_num=k8_1, total_loss_train=531, kl_local_train=87.6, metric_mi|age_categorical_train=0.235]"
     ]
    },
    {
     "name": "stdout",
     "output_type": "stream",
     "text": [
      "\r\n",
      "Epoch 490/600:  82%|████████▏ | 489/600 [4:24:49<1:01:57, 33.49s/it, v_num=k8_1, total_loss_train=531, kl_local_train=87.6, metric_mi|age_categorical_train=0.235]"
     ]
    },
    {
     "name": "stdout",
     "output_type": "stream",
     "text": [
      "\r\n",
      "Epoch 490/600:  82%|████████▏ | 490/600 [4:25:23<1:01:34, 33.59s/it, v_num=k8_1, total_loss_train=531, kl_local_train=87.6, metric_mi|age_categorical_train=0.235]"
     ]
    },
    {
     "name": "stdout",
     "output_type": "stream",
     "text": [
      "\r\n",
      "Epoch 490/600:  82%|████████▏ | 490/600 [4:25:23<1:01:34, 33.59s/it, v_num=k8_1, total_loss_train=532, kl_local_train=87.2, metric_mi|age_categorical_train=0.235]"
     ]
    },
    {
     "name": "stdout",
     "output_type": "stream",
     "text": [
      "\r\n",
      "Epoch 491/600:  82%|████████▏ | 490/600 [4:25:23<1:01:34, 33.59s/it, v_num=k8_1, total_loss_train=532, kl_local_train=87.2, metric_mi|age_categorical_train=0.235]"
     ]
    },
    {
     "name": "stdout",
     "output_type": "stream",
     "text": [
      "\r\n",
      "Epoch 491/600:  82%|████████▏ | 491/600 [4:25:57<1:01:16, 33.73s/it, v_num=k8_1, total_loss_train=532, kl_local_train=87.2, metric_mi|age_categorical_train=0.235]"
     ]
    },
    {
     "name": "stdout",
     "output_type": "stream",
     "text": [
      "\r\n",
      "Epoch 491/600:  82%|████████▏ | 491/600 [4:25:57<1:01:16, 33.73s/it, v_num=k8_1, total_loss_train=532, kl_local_train=87.5, metric_mi|age_categorical_train=0.231]"
     ]
    },
    {
     "name": "stdout",
     "output_type": "stream",
     "text": [
      "\r\n",
      "Epoch 492/600:  82%|████████▏ | 491/600 [4:25:57<1:01:16, 33.73s/it, v_num=k8_1, total_loss_train=532, kl_local_train=87.5, metric_mi|age_categorical_train=0.231]"
     ]
    },
    {
     "name": "stdout",
     "output_type": "stream",
     "text": [
      "\r\n",
      "Epoch 492/600:  82%|████████▏ | 492/600 [4:26:30<1:00:25, 33.57s/it, v_num=k8_1, total_loss_train=532, kl_local_train=87.5, metric_mi|age_categorical_train=0.231]"
     ]
    },
    {
     "name": "stdout",
     "output_type": "stream",
     "text": [
      "\r\n",
      "Epoch 492/600:  82%|████████▏ | 492/600 [4:26:30<1:00:25, 33.57s/it, v_num=k8_1, total_loss_train=532, kl_local_train=87, metric_mi|age_categorical_train=0.231]  "
     ]
    },
    {
     "name": "stdout",
     "output_type": "stream",
     "text": [
      "\r\n",
      "Epoch 493/600:  82%|████████▏ | 492/600 [4:26:30<1:00:25, 33.57s/it, v_num=k8_1, total_loss_train=532, kl_local_train=87, metric_mi|age_categorical_train=0.231]"
     ]
    },
    {
     "name": "stdout",
     "output_type": "stream",
     "text": [
      "\r\n",
      "Epoch 493/600:  82%|████████▏ | 493/600 [4:27:03<59:37, 33.43s/it, v_num=k8_1, total_loss_train=532, kl_local_train=87, metric_mi|age_categorical_train=0.231]  "
     ]
    },
    {
     "name": "stdout",
     "output_type": "stream",
     "text": [
      "\r\n",
      "Epoch 493/600:  82%|████████▏ | 493/600 [4:27:03<59:37, 33.43s/it, v_num=k8_1, total_loss_train=532, kl_local_train=87.3, metric_mi|age_categorical_train=0.231]"
     ]
    },
    {
     "name": "stdout",
     "output_type": "stream",
     "text": [
      "\r\n",
      "Epoch 494/600:  82%|████████▏ | 493/600 [4:27:03<59:37, 33.43s/it, v_num=k8_1, total_loss_train=532, kl_local_train=87.3, metric_mi|age_categorical_train=0.231]"
     ]
    },
    {
     "name": "stdout",
     "output_type": "stream",
     "text": [
      "\r\n",
      "Epoch 494/600:  82%|████████▏ | 494/600 [4:27:36<58:53, 33.34s/it, v_num=k8_1, total_loss_train=532, kl_local_train=87.3, metric_mi|age_categorical_train=0.231]"
     ]
    },
    {
     "name": "stdout",
     "output_type": "stream",
     "text": [
      "\r\n",
      "Epoch 494/600:  82%|████████▏ | 494/600 [4:27:36<58:53, 33.34s/it, v_num=k8_1, total_loss_train=532, kl_local_train=86.9, metric_mi|age_categorical_train=0.231]"
     ]
    },
    {
     "name": "stdout",
     "output_type": "stream",
     "text": [
      "\r\n",
      "Epoch 495/600:  82%|████████▏ | 494/600 [4:27:36<58:53, 33.34s/it, v_num=k8_1, total_loss_train=532, kl_local_train=86.9, metric_mi|age_categorical_train=0.231]"
     ]
    },
    {
     "name": "stdout",
     "output_type": "stream",
     "text": [
      "\r\n",
      "Epoch 495/600:  82%|████████▎ | 495/600 [4:28:10<58:26, 33.39s/it, v_num=k8_1, total_loss_train=532, kl_local_train=86.9, metric_mi|age_categorical_train=0.231]"
     ]
    },
    {
     "name": "stdout",
     "output_type": "stream",
     "text": [
      "\r\n",
      "Epoch 495/600:  82%|████████▎ | 495/600 [4:28:10<58:26, 33.39s/it, v_num=k8_1, total_loss_train=532, kl_local_train=87.2, metric_mi|age_categorical_train=0.231]"
     ]
    },
    {
     "name": "stdout",
     "output_type": "stream",
     "text": [
      "\r\n",
      "Epoch 496/600:  82%|████████▎ | 495/600 [4:28:10<58:26, 33.39s/it, v_num=k8_1, total_loss_train=532, kl_local_train=87.2, metric_mi|age_categorical_train=0.231]"
     ]
    },
    {
     "name": "stdout",
     "output_type": "stream",
     "text": [
      "\r\n",
      "Epoch 496/600:  83%|████████▎ | 496/600 [4:28:44<58:08, 33.55s/it, v_num=k8_1, total_loss_train=532, kl_local_train=87.2, metric_mi|age_categorical_train=0.231]"
     ]
    },
    {
     "name": "stdout",
     "output_type": "stream",
     "text": [
      "\r\n",
      "Epoch 496/600:  83%|████████▎ | 496/600 [4:28:44<58:08, 33.55s/it, v_num=k8_1, total_loss_train=532, kl_local_train=86.6, metric_mi|age_categorical_train=0.216]"
     ]
    },
    {
     "name": "stdout",
     "output_type": "stream",
     "text": [
      "\r\n",
      "Epoch 497/600:  83%|████████▎ | 496/600 [4:28:44<58:08, 33.55s/it, v_num=k8_1, total_loss_train=532, kl_local_train=86.6, metric_mi|age_categorical_train=0.216]"
     ]
    },
    {
     "name": "stdout",
     "output_type": "stream",
     "text": [
      "\r\n",
      "Epoch 497/600:  83%|████████▎ | 497/600 [4:29:17<57:22, 33.42s/it, v_num=k8_1, total_loss_train=532, kl_local_train=86.6, metric_mi|age_categorical_train=0.216]"
     ]
    },
    {
     "name": "stdout",
     "output_type": "stream",
     "text": [
      "\r\n",
      "Epoch 497/600:  83%|████████▎ | 497/600 [4:29:17<57:22, 33.42s/it, v_num=k8_1, total_loss_train=532, kl_local_train=86.6, metric_mi|age_categorical_train=0.216]"
     ]
    },
    {
     "name": "stdout",
     "output_type": "stream",
     "text": [
      "\r\n",
      "Epoch 498/600:  83%|████████▎ | 497/600 [4:29:17<57:22, 33.42s/it, v_num=k8_1, total_loss_train=532, kl_local_train=86.6, metric_mi|age_categorical_train=0.216]"
     ]
    },
    {
     "name": "stdout",
     "output_type": "stream",
     "text": [
      "\r\n",
      "Epoch 498/600:  83%|████████▎ | 498/600 [4:29:50<56:41, 33.35s/it, v_num=k8_1, total_loss_train=532, kl_local_train=86.6, metric_mi|age_categorical_train=0.216]"
     ]
    },
    {
     "name": "stdout",
     "output_type": "stream",
     "text": [
      "\r\n",
      "Epoch 498/600:  83%|████████▎ | 498/600 [4:29:50<56:41, 33.35s/it, v_num=k8_1, total_loss_train=532, kl_local_train=86.6, metric_mi|age_categorical_train=0.216]"
     ]
    },
    {
     "name": "stdout",
     "output_type": "stream",
     "text": [
      "\r\n",
      "Epoch 499/600:  83%|████████▎ | 498/600 [4:29:50<56:41, 33.35s/it, v_num=k8_1, total_loss_train=532, kl_local_train=86.6, metric_mi|age_categorical_train=0.216]"
     ]
    },
    {
     "name": "stdout",
     "output_type": "stream",
     "text": [
      "\r\n",
      "Epoch 499/600:  83%|████████▎ | 499/600 [4:30:23<55:52, 33.19s/it, v_num=k8_1, total_loss_train=532, kl_local_train=86.6, metric_mi|age_categorical_train=0.216]"
     ]
    },
    {
     "name": "stdout",
     "output_type": "stream",
     "text": [
      "\r\n",
      "Epoch 499/600:  83%|████████▎ | 499/600 [4:30:23<55:52, 33.19s/it, v_num=k8_1, total_loss_train=532, kl_local_train=86.5, metric_mi|age_categorical_train=0.216]"
     ]
    },
    {
     "name": "stdout",
     "output_type": "stream",
     "text": [
      "\r\n",
      "Epoch 500/600:  83%|████████▎ | 499/600 [4:30:23<55:52, 33.19s/it, v_num=k8_1, total_loss_train=532, kl_local_train=86.5, metric_mi|age_categorical_train=0.216]"
     ]
    },
    {
     "name": "stdout",
     "output_type": "stream",
     "text": [
      "\r\n",
      "Epoch 500/600:  83%|████████▎ | 500/600 [4:30:56<55:36, 33.37s/it, v_num=k8_1, total_loss_train=532, kl_local_train=86.5, metric_mi|age_categorical_train=0.216]"
     ]
    },
    {
     "name": "stdout",
     "output_type": "stream",
     "text": [
      "\r\n",
      "Epoch 500/600:  83%|████████▎ | 500/600 [4:30:56<55:36, 33.37s/it, v_num=k8_1, total_loss_train=532, kl_local_train=86.3, metric_mi|age_categorical_train=0.216]"
     ]
    },
    {
     "name": "stdout",
     "output_type": "stream",
     "text": [
      "\r\n",
      "Epoch 501/600:  83%|████████▎ | 500/600 [4:30:57<55:36, 33.37s/it, v_num=k8_1, total_loss_train=532, kl_local_train=86.3, metric_mi|age_categorical_train=0.216]"
     ]
    },
    {
     "name": "stdout",
     "output_type": "stream",
     "text": [
      "\r\n",
      "Epoch 501/600:  84%|████████▎ | 501/600 [4:31:30<55:12, 33.45s/it, v_num=k8_1, total_loss_train=532, kl_local_train=86.3, metric_mi|age_categorical_train=0.216]"
     ]
    },
    {
     "name": "stdout",
     "output_type": "stream",
     "text": [
      "\r\n",
      "Epoch 501/600:  84%|████████▎ | 501/600 [4:31:30<55:12, 33.45s/it, v_num=k8_1, total_loss_train=532, kl_local_train=86.3, metric_mi|age_categorical_train=0.233]"
     ]
    },
    {
     "name": "stdout",
     "output_type": "stream",
     "text": [
      "\r\n",
      "Epoch 502/600:  84%|████████▎ | 501/600 [4:31:30<55:12, 33.45s/it, v_num=k8_1, total_loss_train=532, kl_local_train=86.3, metric_mi|age_categorical_train=0.233]"
     ]
    },
    {
     "name": "stdout",
     "output_type": "stream",
     "text": [
      "\r\n",
      "Epoch 502/600:  84%|████████▎ | 502/600 [4:32:03<54:21, 33.28s/it, v_num=k8_1, total_loss_train=532, kl_local_train=86.3, metric_mi|age_categorical_train=0.233]"
     ]
    },
    {
     "name": "stdout",
     "output_type": "stream",
     "text": [
      "\r\n",
      "Epoch 502/600:  84%|████████▎ | 502/600 [4:32:03<54:21, 33.28s/it, v_num=k8_1, total_loss_train=533, kl_local_train=86.5, metric_mi|age_categorical_train=0.233]"
     ]
    },
    {
     "name": "stdout",
     "output_type": "stream",
     "text": [
      "\r\n",
      "Epoch 503/600:  84%|████████▎ | 502/600 [4:32:03<54:21, 33.28s/it, v_num=k8_1, total_loss_train=533, kl_local_train=86.5, metric_mi|age_categorical_train=0.233]"
     ]
    },
    {
     "name": "stdout",
     "output_type": "stream",
     "text": [
      "\r\n",
      "Epoch 503/600:  84%|████████▍ | 503/600 [4:32:36<53:39, 33.19s/it, v_num=k8_1, total_loss_train=533, kl_local_train=86.5, metric_mi|age_categorical_train=0.233]"
     ]
    },
    {
     "name": "stdout",
     "output_type": "stream",
     "text": [
      "\r\n",
      "Epoch 503/600:  84%|████████▍ | 503/600 [4:32:36<53:39, 33.19s/it, v_num=k8_1, total_loss_train=532, kl_local_train=86.2, metric_mi|age_categorical_train=0.233]"
     ]
    },
    {
     "name": "stdout",
     "output_type": "stream",
     "text": [
      "\r\n",
      "Epoch 504/600:  84%|████████▍ | 503/600 [4:32:36<53:39, 33.19s/it, v_num=k8_1, total_loss_train=532, kl_local_train=86.2, metric_mi|age_categorical_train=0.233]"
     ]
    },
    {
     "name": "stdout",
     "output_type": "stream",
     "text": [
      "\r\n",
      "Epoch 504/600:  84%|████████▍ | 504/600 [4:33:09<53:00, 33.13s/it, v_num=k8_1, total_loss_train=532, kl_local_train=86.2, metric_mi|age_categorical_train=0.233]"
     ]
    },
    {
     "name": "stdout",
     "output_type": "stream",
     "text": [
      "\r\n",
      "Epoch 504/600:  84%|████████▍ | 504/600 [4:33:09<53:00, 33.13s/it, v_num=k8_1, total_loss_train=533, kl_local_train=86.2, metric_mi|age_categorical_train=0.233]"
     ]
    },
    {
     "name": "stdout",
     "output_type": "stream",
     "text": [
      "\r\n",
      "Epoch 505/600:  84%|████████▍ | 504/600 [4:33:09<53:00, 33.13s/it, v_num=k8_1, total_loss_train=533, kl_local_train=86.2, metric_mi|age_categorical_train=0.233]"
     ]
    },
    {
     "name": "stdout",
     "output_type": "stream",
     "text": [
      "\r\n",
      "Epoch 505/600:  84%|████████▍ | 505/600 [4:33:42<52:31, 33.18s/it, v_num=k8_1, total_loss_train=533, kl_local_train=86.2, metric_mi|age_categorical_train=0.233]"
     ]
    },
    {
     "name": "stdout",
     "output_type": "stream",
     "text": [
      "\r\n",
      "Epoch 505/600:  84%|████████▍ | 505/600 [4:33:42<52:31, 33.18s/it, v_num=k8_1, total_loss_train=533, kl_local_train=86.2, metric_mi|age_categorical_train=0.233]"
     ]
    },
    {
     "name": "stdout",
     "output_type": "stream",
     "text": [
      "\r\n",
      "Epoch 506/600:  84%|████████▍ | 505/600 [4:33:43<52:31, 33.18s/it, v_num=k8_1, total_loss_train=533, kl_local_train=86.2, metric_mi|age_categorical_train=0.233]"
     ]
    },
    {
     "name": "stdout",
     "output_type": "stream",
     "text": [
      "\r\n",
      "Epoch 506/600:  84%|████████▍ | 506/600 [4:34:16<52:13, 33.34s/it, v_num=k8_1, total_loss_train=533, kl_local_train=86.2, metric_mi|age_categorical_train=0.233]"
     ]
    },
    {
     "name": "stdout",
     "output_type": "stream",
     "text": [
      "\r\n",
      "Epoch 506/600:  84%|████████▍ | 506/600 [4:34:16<52:13, 33.34s/it, v_num=k8_1, total_loss_train=533, kl_local_train=86, metric_mi|age_categorical_train=0.238]  "
     ]
    },
    {
     "name": "stdout",
     "output_type": "stream",
     "text": [
      "\r\n",
      "Epoch 507/600:  84%|████████▍ | 506/600 [4:34:16<52:13, 33.34s/it, v_num=k8_1, total_loss_train=533, kl_local_train=86, metric_mi|age_categorical_train=0.238]"
     ]
    },
    {
     "name": "stdout",
     "output_type": "stream",
     "text": [
      "\r\n",
      "Epoch 507/600:  84%|████████▍ | 507/600 [4:34:49<51:26, 33.18s/it, v_num=k8_1, total_loss_train=533, kl_local_train=86, metric_mi|age_categorical_train=0.238]"
     ]
    },
    {
     "name": "stdout",
     "output_type": "stream",
     "text": [
      "\r\n",
      "Epoch 507/600:  84%|████████▍ | 507/600 [4:34:49<51:26, 33.18s/it, v_num=k8_1, total_loss_train=533, kl_local_train=86.1, metric_mi|age_categorical_train=0.238]"
     ]
    },
    {
     "name": "stdout",
     "output_type": "stream",
     "text": [
      "\r\n",
      "Epoch 508/600:  84%|████████▍ | 507/600 [4:34:49<51:26, 33.18s/it, v_num=k8_1, total_loss_train=533, kl_local_train=86.1, metric_mi|age_categorical_train=0.238]"
     ]
    },
    {
     "name": "stdout",
     "output_type": "stream",
     "text": [
      "\r\n",
      "Epoch 508/600:  85%|████████▍ | 508/600 [4:35:22<50:45, 33.11s/it, v_num=k8_1, total_loss_train=533, kl_local_train=86.1, metric_mi|age_categorical_train=0.238]"
     ]
    },
    {
     "name": "stdout",
     "output_type": "stream",
     "text": [
      "\r\n",
      "Epoch 508/600:  85%|████████▍ | 508/600 [4:35:22<50:45, 33.11s/it, v_num=k8_1, total_loss_train=533, kl_local_train=86, metric_mi|age_categorical_train=0.238]  "
     ]
    },
    {
     "name": "stdout",
     "output_type": "stream",
     "text": [
      "\r\n",
      "Epoch 509/600:  85%|████████▍ | 508/600 [4:35:22<50:45, 33.11s/it, v_num=k8_1, total_loss_train=533, kl_local_train=86, metric_mi|age_categorical_train=0.238]"
     ]
    },
    {
     "name": "stdout",
     "output_type": "stream",
     "text": [
      "\r\n",
      "Epoch 509/600:  85%|████████▍ | 509/600 [4:35:55<50:08, 33.06s/it, v_num=k8_1, total_loss_train=533, kl_local_train=86, metric_mi|age_categorical_train=0.238]"
     ]
    },
    {
     "name": "stdout",
     "output_type": "stream",
     "text": [
      "\r\n",
      "Epoch 509/600:  85%|████████▍ | 509/600 [4:35:55<50:08, 33.06s/it, v_num=k8_1, total_loss_train=533, kl_local_train=85.7, metric_mi|age_categorical_train=0.238]"
     ]
    },
    {
     "name": "stdout",
     "output_type": "stream",
     "text": [
      "\r\n",
      "Epoch 510/600:  85%|████████▍ | 509/600 [4:35:55<50:08, 33.06s/it, v_num=k8_1, total_loss_train=533, kl_local_train=85.7, metric_mi|age_categorical_train=0.238]"
     ]
    },
    {
     "name": "stdout",
     "output_type": "stream",
     "text": [
      "\r\n",
      "Epoch 510/600:  85%|████████▌ | 510/600 [4:36:28<49:42, 33.14s/it, v_num=k8_1, total_loss_train=533, kl_local_train=85.7, metric_mi|age_categorical_train=0.238]"
     ]
    },
    {
     "name": "stdout",
     "output_type": "stream",
     "text": [
      "\r\n",
      "Epoch 510/600:  85%|████████▌ | 510/600 [4:36:28<49:42, 33.14s/it, v_num=k8_1, total_loss_train=533, kl_local_train=86, metric_mi|age_categorical_train=0.238]  "
     ]
    },
    {
     "name": "stdout",
     "output_type": "stream",
     "text": [
      "\r\n",
      "Epoch 511/600:  85%|████████▌ | 510/600 [4:36:29<49:42, 33.14s/it, v_num=k8_1, total_loss_train=533, kl_local_train=86, metric_mi|age_categorical_train=0.238]"
     ]
    },
    {
     "name": "stdout",
     "output_type": "stream",
     "text": [
      "\r\n",
      "Epoch 511/600:  85%|████████▌ | 511/600 [4:37:02<49:29, 33.37s/it, v_num=k8_1, total_loss_train=533, kl_local_train=86, metric_mi|age_categorical_train=0.238]"
     ]
    },
    {
     "name": "stdout",
     "output_type": "stream",
     "text": [
      "\r\n",
      "Epoch 511/600:  85%|████████▌ | 511/600 [4:37:02<49:29, 33.37s/it, v_num=k8_1, total_loss_train=533, kl_local_train=85.4, metric_mi|age_categorical_train=0.241]"
     ]
    },
    {
     "name": "stdout",
     "output_type": "stream",
     "text": [
      "\r\n",
      "Epoch 512/600:  85%|████████▌ | 511/600 [4:37:02<49:29, 33.37s/it, v_num=k8_1, total_loss_train=533, kl_local_train=85.4, metric_mi|age_categorical_train=0.241]"
     ]
    },
    {
     "name": "stdout",
     "output_type": "stream",
     "text": [
      "\r\n",
      "Epoch 512/600:  85%|████████▌ | 512/600 [4:37:35<48:51, 33.32s/it, v_num=k8_1, total_loss_train=533, kl_local_train=85.4, metric_mi|age_categorical_train=0.241]"
     ]
    },
    {
     "name": "stdout",
     "output_type": "stream",
     "text": [
      "\r\n",
      "Epoch 512/600:  85%|████████▌ | 512/600 [4:37:35<48:51, 33.32s/it, v_num=k8_1, total_loss_train=533, kl_local_train=85.5, metric_mi|age_categorical_train=0.241]"
     ]
    },
    {
     "name": "stdout",
     "output_type": "stream",
     "text": [
      "\r\n",
      "Epoch 513/600:  85%|████████▌ | 512/600 [4:37:35<48:51, 33.32s/it, v_num=k8_1, total_loss_train=533, kl_local_train=85.5, metric_mi|age_categorical_train=0.241]"
     ]
    },
    {
     "name": "stdout",
     "output_type": "stream",
     "text": [
      "\r\n",
      "Epoch 513/600:  86%|████████▌ | 513/600 [4:38:07<47:36, 32.84s/it, v_num=k8_1, total_loss_train=533, kl_local_train=85.5, metric_mi|age_categorical_train=0.241]"
     ]
    },
    {
     "name": "stdout",
     "output_type": "stream",
     "text": [
      "\r\n",
      "Epoch 513/600:  86%|████████▌ | 513/600 [4:38:07<47:36, 32.84s/it, v_num=k8_1, total_loss_train=534, kl_local_train=85.6, metric_mi|age_categorical_train=0.241]"
     ]
    },
    {
     "name": "stdout",
     "output_type": "stream",
     "text": [
      "\r\n",
      "Epoch 514/600:  86%|████████▌ | 513/600 [4:38:07<47:36, 32.84s/it, v_num=k8_1, total_loss_train=534, kl_local_train=85.6, metric_mi|age_categorical_train=0.241]"
     ]
    },
    {
     "name": "stdout",
     "output_type": "stream",
     "text": [
      "\r\n",
      "Epoch 514/600:  86%|████████▌ | 514/600 [4:38:38<46:20, 32.33s/it, v_num=k8_1, total_loss_train=534, kl_local_train=85.6, metric_mi|age_categorical_train=0.241]"
     ]
    },
    {
     "name": "stdout",
     "output_type": "stream",
     "text": [
      "\r\n",
      "Epoch 514/600:  86%|████████▌ | 514/600 [4:38:38<46:20, 32.33s/it, v_num=k8_1, total_loss_train=534, kl_local_train=85.5, metric_mi|age_categorical_train=0.241]"
     ]
    },
    {
     "name": "stdout",
     "output_type": "stream",
     "text": [
      "\r\n",
      "Epoch 515/600:  86%|████████▌ | 514/600 [4:38:38<46:20, 32.33s/it, v_num=k8_1, total_loss_train=534, kl_local_train=85.5, metric_mi|age_categorical_train=0.241]"
     ]
    },
    {
     "name": "stdout",
     "output_type": "stream",
     "text": [
      "\r\n",
      "Epoch 515/600:  86%|████████▌ | 515/600 [4:39:08<45:02, 31.79s/it, v_num=k8_1, total_loss_train=534, kl_local_train=85.5, metric_mi|age_categorical_train=0.241]"
     ]
    },
    {
     "name": "stdout",
     "output_type": "stream",
     "text": [
      "\r\n",
      "Epoch 515/600:  86%|████████▌ | 515/600 [4:39:08<45:02, 31.79s/it, v_num=k8_1, total_loss_train=533, kl_local_train=85.2, metric_mi|age_categorical_train=0.241]"
     ]
    },
    {
     "name": "stdout",
     "output_type": "stream",
     "text": [
      "\r\n",
      "Epoch 516/600:  86%|████████▌ | 515/600 [4:39:09<45:02, 31.79s/it, v_num=k8_1, total_loss_train=533, kl_local_train=85.2, metric_mi|age_categorical_train=0.241]"
     ]
    },
    {
     "name": "stdout",
     "output_type": "stream",
     "text": [
      "\r\n",
      "Epoch 516/600:  86%|████████▌ | 516/600 [4:39:39<44:02, 31.46s/it, v_num=k8_1, total_loss_train=533, kl_local_train=85.2, metric_mi|age_categorical_train=0.241]"
     ]
    },
    {
     "name": "stdout",
     "output_type": "stream",
     "text": [
      "\r\n",
      "Epoch 516/600:  86%|████████▌ | 516/600 [4:39:39<44:02, 31.46s/it, v_num=k8_1, total_loss_train=534, kl_local_train=85.2, metric_mi|age_categorical_train=0.238]"
     ]
    },
    {
     "name": "stdout",
     "output_type": "stream",
     "text": [
      "\r\n",
      "Epoch 517/600:  86%|████████▌ | 516/600 [4:39:39<44:02, 31.46s/it, v_num=k8_1, total_loss_train=534, kl_local_train=85.2, metric_mi|age_categorical_train=0.238]"
     ]
    },
    {
     "name": "stdout",
     "output_type": "stream",
     "text": [
      "\r\n",
      "Epoch 517/600:  86%|████████▌ | 517/600 [4:40:09<43:00, 31.09s/it, v_num=k8_1, total_loss_train=534, kl_local_train=85.2, metric_mi|age_categorical_train=0.238]"
     ]
    },
    {
     "name": "stdout",
     "output_type": "stream",
     "text": [
      "\r\n",
      "Epoch 517/600:  86%|████████▌ | 517/600 [4:40:09<43:00, 31.09s/it, v_num=k8_1, total_loss_train=534, kl_local_train=84.6, metric_mi|age_categorical_train=0.238]"
     ]
    },
    {
     "name": "stdout",
     "output_type": "stream",
     "text": [
      "\r\n",
      "Epoch 518/600:  86%|████████▌ | 517/600 [4:40:09<43:00, 31.09s/it, v_num=k8_1, total_loss_train=534, kl_local_train=84.6, metric_mi|age_categorical_train=0.238]"
     ]
    },
    {
     "name": "stdout",
     "output_type": "stream",
     "text": [
      "\r\n",
      "Epoch 518/600:  86%|████████▋ | 518/600 [4:40:39<42:00, 30.74s/it, v_num=k8_1, total_loss_train=534, kl_local_train=84.6, metric_mi|age_categorical_train=0.238]"
     ]
    },
    {
     "name": "stdout",
     "output_type": "stream",
     "text": [
      "\r\n",
      "Epoch 518/600:  86%|████████▋ | 518/600 [4:40:39<42:00, 30.74s/it, v_num=k8_1, total_loss_train=534, kl_local_train=85.1, metric_mi|age_categorical_train=0.238]"
     ]
    },
    {
     "name": "stdout",
     "output_type": "stream",
     "text": [
      "\r\n",
      "Epoch 519/600:  86%|████████▋ | 518/600 [4:40:39<42:00, 30.74s/it, v_num=k8_1, total_loss_train=534, kl_local_train=85.1, metric_mi|age_categorical_train=0.238]"
     ]
    },
    {
     "name": "stdout",
     "output_type": "stream",
     "text": [
      "\r\n",
      "Epoch 519/600:  86%|████████▋ | 519/600 [4:41:09<41:10, 30.50s/it, v_num=k8_1, total_loss_train=534, kl_local_train=85.1, metric_mi|age_categorical_train=0.238]"
     ]
    },
    {
     "name": "stdout",
     "output_type": "stream",
     "text": [
      "\r\n",
      "Epoch 519/600:  86%|████████▋ | 519/600 [4:41:09<41:10, 30.50s/it, v_num=k8_1, total_loss_train=534, kl_local_train=85, metric_mi|age_categorical_train=0.238]  "
     ]
    },
    {
     "name": "stdout",
     "output_type": "stream",
     "text": [
      "\r\n",
      "Epoch 520/600:  86%|████████▋ | 519/600 [4:41:09<41:10, 30.50s/it, v_num=k8_1, total_loss_train=534, kl_local_train=85, metric_mi|age_categorical_train=0.238]"
     ]
    },
    {
     "name": "stdout",
     "output_type": "stream",
     "text": [
      "\r\n",
      "Epoch 520/600:  87%|████████▋ | 520/600 [4:41:40<40:47, 30.60s/it, v_num=k8_1, total_loss_train=534, kl_local_train=85, metric_mi|age_categorical_train=0.238]"
     ]
    },
    {
     "name": "stdout",
     "output_type": "stream",
     "text": [
      "\r\n",
      "Epoch 520/600:  87%|████████▋ | 520/600 [4:41:40<40:47, 30.60s/it, v_num=k8_1, total_loss_train=534, kl_local_train=85.3, metric_mi|age_categorical_train=0.238]"
     ]
    },
    {
     "name": "stdout",
     "output_type": "stream",
     "text": [
      "\r\n",
      "Epoch 521/600:  87%|████████▋ | 520/600 [4:41:41<40:47, 30.60s/it, v_num=k8_1, total_loss_train=534, kl_local_train=85.3, metric_mi|age_categorical_train=0.238]"
     ]
    },
    {
     "name": "stdout",
     "output_type": "stream",
     "text": [
      "\r\n",
      "Epoch 521/600:  87%|████████▋ | 521/600 [4:42:11<40:29, 30.75s/it, v_num=k8_1, total_loss_train=534, kl_local_train=85.3, metric_mi|age_categorical_train=0.238]"
     ]
    },
    {
     "name": "stdout",
     "output_type": "stream",
     "text": [
      "\r\n",
      "Epoch 521/600:  87%|████████▋ | 521/600 [4:42:11<40:29, 30.75s/it, v_num=k8_1, total_loss_train=534, kl_local_train=84.7, metric_mi|age_categorical_train=0.233]"
     ]
    },
    {
     "name": "stdout",
     "output_type": "stream",
     "text": [
      "\r\n",
      "Epoch 522/600:  87%|████████▋ | 521/600 [4:42:11<40:29, 30.75s/it, v_num=k8_1, total_loss_train=534, kl_local_train=84.7, metric_mi|age_categorical_train=0.233]"
     ]
    },
    {
     "name": "stdout",
     "output_type": "stream",
     "text": [
      "\r\n",
      "Epoch 522/600:  87%|████████▋ | 522/600 [4:42:43<40:17, 30.99s/it, v_num=k8_1, total_loss_train=534, kl_local_train=84.7, metric_mi|age_categorical_train=0.233]"
     ]
    },
    {
     "name": "stdout",
     "output_type": "stream",
     "text": [
      "\r\n",
      "Epoch 522/600:  87%|████████▋ | 522/600 [4:42:43<40:17, 30.99s/it, v_num=k8_1, total_loss_train=534, kl_local_train=84.9, metric_mi|age_categorical_train=0.233]"
     ]
    },
    {
     "name": "stdout",
     "output_type": "stream",
     "text": [
      "\r\n",
      "Epoch 523/600:  87%|████████▋ | 522/600 [4:42:43<40:17, 30.99s/it, v_num=k8_1, total_loss_train=534, kl_local_train=84.9, metric_mi|age_categorical_train=0.233]"
     ]
    },
    {
     "name": "stdout",
     "output_type": "stream",
     "text": [
      "\r\n",
      "Epoch 523/600:  87%|████████▋ | 523/600 [4:43:14<40:03, 31.21s/it, v_num=k8_1, total_loss_train=534, kl_local_train=84.9, metric_mi|age_categorical_train=0.233]"
     ]
    },
    {
     "name": "stdout",
     "output_type": "stream",
     "text": [
      "\r\n",
      "Epoch 523/600:  87%|████████▋ | 523/600 [4:43:14<40:03, 31.21s/it, v_num=k8_1, total_loss_train=534, kl_local_train=84.7, metric_mi|age_categorical_train=0.233]"
     ]
    },
    {
     "name": "stdout",
     "output_type": "stream",
     "text": [
      "\r\n",
      "Epoch 524/600:  87%|████████▋ | 523/600 [4:43:14<40:03, 31.21s/it, v_num=k8_1, total_loss_train=534, kl_local_train=84.7, metric_mi|age_categorical_train=0.233]"
     ]
    },
    {
     "name": "stdout",
     "output_type": "stream",
     "text": [
      "\r\n",
      "Epoch 524/600:  87%|████████▋ | 524/600 [4:43:46<39:42, 31.35s/it, v_num=k8_1, total_loss_train=534, kl_local_train=84.7, metric_mi|age_categorical_train=0.233]"
     ]
    },
    {
     "name": "stdout",
     "output_type": "stream",
     "text": [
      "\r\n",
      "Epoch 524/600:  87%|████████▋ | 524/600 [4:43:46<39:42, 31.35s/it, v_num=k8_1, total_loss_train=534, kl_local_train=84.5, metric_mi|age_categorical_train=0.233]"
     ]
    },
    {
     "name": "stdout",
     "output_type": "stream",
     "text": [
      "\r\n",
      "Epoch 525/600:  87%|████████▋ | 524/600 [4:43:46<39:42, 31.35s/it, v_num=k8_1, total_loss_train=534, kl_local_train=84.5, metric_mi|age_categorical_train=0.233]"
     ]
    },
    {
     "name": "stdout",
     "output_type": "stream",
     "text": [
      "\r\n",
      "Epoch 525/600:  88%|████████▊ | 525/600 [4:44:18<39:32, 31.63s/it, v_num=k8_1, total_loss_train=534, kl_local_train=84.5, metric_mi|age_categorical_train=0.233]"
     ]
    },
    {
     "name": "stdout",
     "output_type": "stream",
     "text": [
      "\r\n",
      "Epoch 525/600:  88%|████████▊ | 525/600 [4:44:18<39:32, 31.63s/it, v_num=k8_1, total_loss_train=534, kl_local_train=84.2, metric_mi|age_categorical_train=0.233]"
     ]
    },
    {
     "name": "stdout",
     "output_type": "stream",
     "text": [
      "\r\n",
      "Epoch 526/600:  88%|████████▊ | 525/600 [4:44:19<39:32, 31.63s/it, v_num=k8_1, total_loss_train=534, kl_local_train=84.2, metric_mi|age_categorical_train=0.233]"
     ]
    },
    {
     "name": "stdout",
     "output_type": "stream",
     "text": [
      "\r\n",
      "Epoch 526/600:  88%|████████▊ | 526/600 [4:44:51<39:26, 31.98s/it, v_num=k8_1, total_loss_train=534, kl_local_train=84.2, metric_mi|age_categorical_train=0.233]"
     ]
    },
    {
     "name": "stdout",
     "output_type": "stream",
     "text": [
      "\r\n",
      "Epoch 526/600:  88%|████████▊ | 526/600 [4:44:51<39:26, 31.98s/it, v_num=k8_1, total_loss_train=535, kl_local_train=84.8, metric_mi|age_categorical_train=0.229]"
     ]
    },
    {
     "name": "stdout",
     "output_type": "stream",
     "text": [
      "\r\n",
      "Epoch 527/600:  88%|████████▊ | 526/600 [4:44:51<39:26, 31.98s/it, v_num=k8_1, total_loss_train=535, kl_local_train=84.8, metric_mi|age_categorical_train=0.229]"
     ]
    },
    {
     "name": "stdout",
     "output_type": "stream",
     "text": [
      "\r\n",
      "Epoch 527/600:  88%|████████▊ | 527/600 [4:45:23<38:48, 31.89s/it, v_num=k8_1, total_loss_train=535, kl_local_train=84.8, metric_mi|age_categorical_train=0.229]"
     ]
    },
    {
     "name": "stdout",
     "output_type": "stream",
     "text": [
      "\r\n",
      "Epoch 527/600:  88%|████████▊ | 527/600 [4:45:23<38:48, 31.89s/it, v_num=k8_1, total_loss_train=535, kl_local_train=84.2, metric_mi|age_categorical_train=0.229]"
     ]
    },
    {
     "name": "stdout",
     "output_type": "stream",
     "text": [
      "\r\n",
      "Epoch 528/600:  88%|████████▊ | 527/600 [4:45:23<38:48, 31.89s/it, v_num=k8_1, total_loss_train=535, kl_local_train=84.2, metric_mi|age_categorical_train=0.229]"
     ]
    },
    {
     "name": "stdout",
     "output_type": "stream",
     "text": [
      "\r\n",
      "Epoch 528/600:  88%|████████▊ | 528/600 [4:45:55<38:11, 31.82s/it, v_num=k8_1, total_loss_train=535, kl_local_train=84.2, metric_mi|age_categorical_train=0.229]"
     ]
    },
    {
     "name": "stdout",
     "output_type": "stream",
     "text": [
      "\r\n",
      "Epoch 528/600:  88%|████████▊ | 528/600 [4:45:55<38:11, 31.82s/it, v_num=k8_1, total_loss_train=535, kl_local_train=84.1, metric_mi|age_categorical_train=0.229]"
     ]
    },
    {
     "name": "stdout",
     "output_type": "stream",
     "text": [
      "\r\n",
      "Epoch 529/600:  88%|████████▊ | 528/600 [4:45:55<38:11, 31.82s/it, v_num=k8_1, total_loss_train=535, kl_local_train=84.1, metric_mi|age_categorical_train=0.229]"
     ]
    },
    {
     "name": "stdout",
     "output_type": "stream",
     "text": [
      "\r\n",
      "Epoch 529/600:  88%|████████▊ | 529/600 [4:46:26<37:35, 31.76s/it, v_num=k8_1, total_loss_train=535, kl_local_train=84.1, metric_mi|age_categorical_train=0.229]"
     ]
    },
    {
     "name": "stdout",
     "output_type": "stream",
     "text": [
      "\r\n",
      "Epoch 529/600:  88%|████████▊ | 529/600 [4:46:26<37:35, 31.76s/it, v_num=k8_1, total_loss_train=535, kl_local_train=83.8, metric_mi|age_categorical_train=0.229]"
     ]
    },
    {
     "name": "stdout",
     "output_type": "stream",
     "text": [
      "\r\n",
      "Epoch 530/600:  88%|████████▊ | 529/600 [4:46:26<37:35, 31.76s/it, v_num=k8_1, total_loss_train=535, kl_local_train=83.8, metric_mi|age_categorical_train=0.229]"
     ]
    },
    {
     "name": "stdout",
     "output_type": "stream",
     "text": [
      "\r\n",
      "Epoch 530/600:  88%|████████▊ | 530/600 [4:46:59<37:24, 32.07s/it, v_num=k8_1, total_loss_train=535, kl_local_train=83.8, metric_mi|age_categorical_train=0.229]"
     ]
    },
    {
     "name": "stdout",
     "output_type": "stream",
     "text": [
      "\r\n",
      "Epoch 530/600:  88%|████████▊ | 530/600 [4:46:59<37:24, 32.07s/it, v_num=k8_1, total_loss_train=535, kl_local_train=84.4, metric_mi|age_categorical_train=0.229]"
     ]
    },
    {
     "name": "stdout",
     "output_type": "stream",
     "text": [
      "\r\n",
      "Epoch 531/600:  88%|████████▊ | 530/600 [4:47:00<37:24, 32.07s/it, v_num=k8_1, total_loss_train=535, kl_local_train=84.4, metric_mi|age_categorical_train=0.229]"
     ]
    },
    {
     "name": "stdout",
     "output_type": "stream",
     "text": [
      "\r\n",
      "Epoch 531/600:  88%|████████▊ | 531/600 [4:47:32<37:12, 32.35s/it, v_num=k8_1, total_loss_train=535, kl_local_train=84.4, metric_mi|age_categorical_train=0.229]"
     ]
    },
    {
     "name": "stdout",
     "output_type": "stream",
     "text": [
      "\r\n",
      "Epoch 531/600:  88%|████████▊ | 531/600 [4:47:32<37:12, 32.35s/it, v_num=k8_1, total_loss_train=535, kl_local_train=84.1, metric_mi|age_categorical_train=0.224]"
     ]
    },
    {
     "name": "stdout",
     "output_type": "stream",
     "text": [
      "\r\n",
      "Epoch 532/600:  88%|████████▊ | 531/600 [4:47:32<37:12, 32.35s/it, v_num=k8_1, total_loss_train=535, kl_local_train=84.1, metric_mi|age_categorical_train=0.224]"
     ]
    },
    {
     "name": "stdout",
     "output_type": "stream",
     "text": [
      "\r\n",
      "Epoch 532/600:  89%|████████▊ | 532/600 [4:48:04<36:33, 32.25s/it, v_num=k8_1, total_loss_train=535, kl_local_train=84.1, metric_mi|age_categorical_train=0.224]"
     ]
    },
    {
     "name": "stdout",
     "output_type": "stream",
     "text": [
      "\r\n",
      "Epoch 532/600:  89%|████████▊ | 532/600 [4:48:04<36:33, 32.25s/it, v_num=k8_1, total_loss_train=535, kl_local_train=84.1, metric_mi|age_categorical_train=0.224]"
     ]
    },
    {
     "name": "stdout",
     "output_type": "stream",
     "text": [
      "\r\n",
      "Epoch 533/600:  89%|████████▊ | 532/600 [4:48:04<36:33, 32.25s/it, v_num=k8_1, total_loss_train=535, kl_local_train=84.1, metric_mi|age_categorical_train=0.224]"
     ]
    },
    {
     "name": "stdout",
     "output_type": "stream",
     "text": [
      "\r\n",
      "Epoch 533/600:  89%|████████▉ | 533/600 [4:48:36<36:03, 32.29s/it, v_num=k8_1, total_loss_train=535, kl_local_train=84.1, metric_mi|age_categorical_train=0.224]"
     ]
    },
    {
     "name": "stdout",
     "output_type": "stream",
     "text": [
      "\r\n",
      "Epoch 533/600:  89%|████████▉ | 533/600 [4:48:36<36:03, 32.29s/it, v_num=k8_1, total_loss_train=536, kl_local_train=84.3, metric_mi|age_categorical_train=0.224]"
     ]
    },
    {
     "name": "stdout",
     "output_type": "stream",
     "text": [
      "\r\n",
      "Epoch 534/600:  89%|████████▉ | 533/600 [4:48:36<36:03, 32.29s/it, v_num=k8_1, total_loss_train=536, kl_local_train=84.3, metric_mi|age_categorical_train=0.224]"
     ]
    },
    {
     "name": "stdout",
     "output_type": "stream",
     "text": [
      "\r\n",
      "Epoch 534/600:  89%|████████▉ | 534/600 [4:49:09<35:35, 32.35s/it, v_num=k8_1, total_loss_train=536, kl_local_train=84.3, metric_mi|age_categorical_train=0.224]"
     ]
    },
    {
     "name": "stdout",
     "output_type": "stream",
     "text": [
      "\r\n",
      "Epoch 534/600:  89%|████████▉ | 534/600 [4:49:09<35:35, 32.35s/it, v_num=k8_1, total_loss_train=535, kl_local_train=83.9, metric_mi|age_categorical_train=0.224]"
     ]
    },
    {
     "name": "stdout",
     "output_type": "stream",
     "text": [
      "\r\n",
      "Epoch 535/600:  89%|████████▉ | 534/600 [4:49:09<35:35, 32.35s/it, v_num=k8_1, total_loss_train=535, kl_local_train=83.9, metric_mi|age_categorical_train=0.224]"
     ]
    },
    {
     "name": "stdout",
     "output_type": "stream",
     "text": [
      "\r\n",
      "Epoch 535/600:  89%|████████▉ | 535/600 [4:49:42<35:12, 32.50s/it, v_num=k8_1, total_loss_train=535, kl_local_train=83.9, metric_mi|age_categorical_train=0.224]"
     ]
    },
    {
     "name": "stdout",
     "output_type": "stream",
     "text": [
      "\r\n",
      "Epoch 535/600:  89%|████████▉ | 535/600 [4:49:42<35:12, 32.50s/it, v_num=k8_1, total_loss_train=536, kl_local_train=84, metric_mi|age_categorical_train=0.224]  "
     ]
    },
    {
     "name": "stdout",
     "output_type": "stream",
     "text": [
      "\r\n",
      "Epoch 536/600:  89%|████████▉ | 535/600 [4:49:42<35:12, 32.50s/it, v_num=k8_1, total_loss_train=536, kl_local_train=84, metric_mi|age_categorical_train=0.224]"
     ]
    },
    {
     "name": "stdout",
     "output_type": "stream",
     "text": [
      "\r\n",
      "Epoch 536/600:  89%|████████▉ | 536/600 [4:50:14<34:43, 32.55s/it, v_num=k8_1, total_loss_train=536, kl_local_train=84, metric_mi|age_categorical_train=0.224]"
     ]
    },
    {
     "name": "stdout",
     "output_type": "stream",
     "text": [
      "\r\n",
      "Epoch 536/600:  89%|████████▉ | 536/600 [4:50:14<34:43, 32.55s/it, v_num=k8_1, total_loss_train=535, kl_local_train=83.5, metric_mi|age_categorical_train=0.22]"
     ]
    },
    {
     "name": "stdout",
     "output_type": "stream",
     "text": [
      "\r\n",
      "Epoch 537/600:  89%|████████▉ | 536/600 [4:50:14<34:43, 32.55s/it, v_num=k8_1, total_loss_train=535, kl_local_train=83.5, metric_mi|age_categorical_train=0.22]"
     ]
    },
    {
     "name": "stdout",
     "output_type": "stream",
     "text": [
      "\r\n",
      "Epoch 537/600:  90%|████████▉ | 537/600 [4:50:46<34:00, 32.39s/it, v_num=k8_1, total_loss_train=535, kl_local_train=83.5, metric_mi|age_categorical_train=0.22]"
     ]
    },
    {
     "name": "stdout",
     "output_type": "stream",
     "text": [
      "\r\n",
      "Epoch 537/600:  90%|████████▉ | 537/600 [4:50:46<34:00, 32.39s/it, v_num=k8_1, total_loss_train=536, kl_local_train=83.6, metric_mi|age_categorical_train=0.22]"
     ]
    },
    {
     "name": "stdout",
     "output_type": "stream",
     "text": [
      "\r\n",
      "Epoch 538/600:  90%|████████▉ | 537/600 [4:50:46<34:00, 32.39s/it, v_num=k8_1, total_loss_train=536, kl_local_train=83.6, metric_mi|age_categorical_train=0.22]"
     ]
    },
    {
     "name": "stdout",
     "output_type": "stream",
     "text": [
      "\r\n",
      "Epoch 538/600:  90%|████████▉ | 538/600 [4:51:18<33:21, 32.29s/it, v_num=k8_1, total_loss_train=536, kl_local_train=83.6, metric_mi|age_categorical_train=0.22]"
     ]
    },
    {
     "name": "stdout",
     "output_type": "stream",
     "text": [
      "\r\n",
      "Epoch 538/600:  90%|████████▉ | 538/600 [4:51:18<33:21, 32.29s/it, v_num=k8_1, total_loss_train=536, kl_local_train=83.5, metric_mi|age_categorical_train=0.22]"
     ]
    },
    {
     "name": "stdout",
     "output_type": "stream",
     "text": [
      "\r\n",
      "Epoch 539/600:  90%|████████▉ | 538/600 [4:51:18<33:21, 32.29s/it, v_num=k8_1, total_loss_train=536, kl_local_train=83.5, metric_mi|age_categorical_train=0.22]"
     ]
    },
    {
     "name": "stdout",
     "output_type": "stream",
     "text": [
      "\r\n",
      "Epoch 539/600:  90%|████████▉ | 539/600 [4:51:50<32:43, 32.19s/it, v_num=k8_1, total_loss_train=536, kl_local_train=83.5, metric_mi|age_categorical_train=0.22]"
     ]
    },
    {
     "name": "stdout",
     "output_type": "stream",
     "text": [
      "\r\n",
      "Epoch 539/600:  90%|████████▉ | 539/600 [4:51:50<32:43, 32.19s/it, v_num=k8_1, total_loss_train=535, kl_local_train=83.5, metric_mi|age_categorical_train=0.22]"
     ]
    },
    {
     "name": "stdout",
     "output_type": "stream",
     "text": [
      "\r\n",
      "Epoch 540/600:  90%|████████▉ | 539/600 [4:51:50<32:43, 32.19s/it, v_num=k8_1, total_loss_train=535, kl_local_train=83.5, metric_mi|age_categorical_train=0.22]"
     ]
    },
    {
     "name": "stdout",
     "output_type": "stream",
     "text": [
      "\r\n",
      "Epoch 540/600:  90%|█████████ | 540/600 [4:52:24<32:31, 32.53s/it, v_num=k8_1, total_loss_train=535, kl_local_train=83.5, metric_mi|age_categorical_train=0.22]"
     ]
    },
    {
     "name": "stdout",
     "output_type": "stream",
     "text": [
      "\r\n",
      "Epoch 540/600:  90%|█████████ | 540/600 [4:52:24<32:31, 32.53s/it, v_num=k8_1, total_loss_train=536, kl_local_train=83.7, metric_mi|age_categorical_train=0.22]"
     ]
    },
    {
     "name": "stdout",
     "output_type": "stream",
     "text": [
      "\r\n",
      "Epoch 541/600:  90%|█████████ | 540/600 [4:52:25<32:31, 32.53s/it, v_num=k8_1, total_loss_train=536, kl_local_train=83.7, metric_mi|age_categorical_train=0.22]"
     ]
    },
    {
     "name": "stdout",
     "output_type": "stream",
     "text": [
      "\r\n",
      "Epoch 541/600:  90%|█████████ | 541/600 [4:52:57<32:15, 32.80s/it, v_num=k8_1, total_loss_train=536, kl_local_train=83.7, metric_mi|age_categorical_train=0.22]"
     ]
    },
    {
     "name": "stdout",
     "output_type": "stream",
     "text": [
      "\r\n",
      "Epoch 541/600:  90%|█████████ | 541/600 [4:52:57<32:15, 32.80s/it, v_num=k8_1, total_loss_train=536, kl_local_train=83.9, metric_mi|age_categorical_train=0.223]"
     ]
    },
    {
     "name": "stdout",
     "output_type": "stream",
     "text": [
      "\r\n",
      "Epoch 542/600:  90%|█████████ | 541/600 [4:52:57<32:15, 32.80s/it, v_num=k8_1, total_loss_train=536, kl_local_train=83.9, metric_mi|age_categorical_train=0.223]"
     ]
    },
    {
     "name": "stdout",
     "output_type": "stream",
     "text": [
      "\r\n",
      "Epoch 542/600:  90%|█████████ | 542/600 [4:53:29<31:33, 32.65s/it, v_num=k8_1, total_loss_train=536, kl_local_train=83.9, metric_mi|age_categorical_train=0.223]"
     ]
    },
    {
     "name": "stdout",
     "output_type": "stream",
     "text": [
      "\r\n",
      "Epoch 542/600:  90%|█████████ | 542/600 [4:53:29<31:33, 32.65s/it, v_num=k8_1, total_loss_train=536, kl_local_train=83.3, metric_mi|age_categorical_train=0.223]"
     ]
    },
    {
     "name": "stdout",
     "output_type": "stream",
     "text": [
      "\r\n",
      "Epoch 543/600:  90%|█████████ | 542/600 [4:53:29<31:33, 32.65s/it, v_num=k8_1, total_loss_train=536, kl_local_train=83.3, metric_mi|age_categorical_train=0.223]"
     ]
    },
    {
     "name": "stdout",
     "output_type": "stream",
     "text": [
      "\r\n",
      "Epoch 543/600:  90%|█████████ | 543/600 [4:54:02<30:54, 32.54s/it, v_num=k8_1, total_loss_train=536, kl_local_train=83.3, metric_mi|age_categorical_train=0.223]"
     ]
    },
    {
     "name": "stdout",
     "output_type": "stream",
     "text": [
      "\r\n",
      "Epoch 543/600:  90%|█████████ | 543/600 [4:54:02<30:54, 32.54s/it, v_num=k8_1, total_loss_train=536, kl_local_train=83.3, metric_mi|age_categorical_train=0.223]"
     ]
    },
    {
     "name": "stdout",
     "output_type": "stream",
     "text": [
      "\r\n",
      "Epoch 544/600:  90%|█████████ | 543/600 [4:54:02<30:54, 32.54s/it, v_num=k8_1, total_loss_train=536, kl_local_train=83.3, metric_mi|age_categorical_train=0.223]"
     ]
    },
    {
     "name": "stdout",
     "output_type": "stream",
     "text": [
      "\r\n",
      "Epoch 544/600:  91%|█████████ | 544/600 [4:54:34<30:18, 32.47s/it, v_num=k8_1, total_loss_train=536, kl_local_train=83.3, metric_mi|age_categorical_train=0.223]"
     ]
    },
    {
     "name": "stdout",
     "output_type": "stream",
     "text": [
      "\r\n",
      "Epoch 544/600:  91%|█████████ | 544/600 [4:54:34<30:18, 32.47s/it, v_num=k8_1, total_loss_train=537, kl_local_train=83.1, metric_mi|age_categorical_train=0.223]"
     ]
    },
    {
     "name": "stdout",
     "output_type": "stream",
     "text": [
      "\r\n",
      "Epoch 545/600:  91%|█████████ | 544/600 [4:54:34<30:18, 32.47s/it, v_num=k8_1, total_loss_train=537, kl_local_train=83.1, metric_mi|age_categorical_train=0.223]"
     ]
    },
    {
     "name": "stdout",
     "output_type": "stream",
     "text": [
      "\r\n",
      "Epoch 545/600:  91%|█████████ | 545/600 [4:55:07<29:53, 32.61s/it, v_num=k8_1, total_loss_train=537, kl_local_train=83.1, metric_mi|age_categorical_train=0.223]"
     ]
    },
    {
     "name": "stdout",
     "output_type": "stream",
     "text": [
      "\r\n",
      "Epoch 545/600:  91%|█████████ | 545/600 [4:55:07<29:53, 32.61s/it, v_num=k8_1, total_loss_train=536, kl_local_train=82.6, metric_mi|age_categorical_train=0.223]"
     ]
    },
    {
     "name": "stdout",
     "output_type": "stream",
     "text": [
      "\r\n",
      "Epoch 546/600:  91%|█████████ | 545/600 [4:55:08<29:53, 32.61s/it, v_num=k8_1, total_loss_train=536, kl_local_train=82.6, metric_mi|age_categorical_train=0.223]"
     ]
    },
    {
     "name": "stdout",
     "output_type": "stream",
     "text": [
      "\r\n",
      "Epoch 546/600:  91%|█████████ | 546/600 [4:55:40<29:31, 32.80s/it, v_num=k8_1, total_loss_train=536, kl_local_train=82.6, metric_mi|age_categorical_train=0.223]"
     ]
    },
    {
     "name": "stdout",
     "output_type": "stream",
     "text": [
      "\r\n",
      "Epoch 546/600:  91%|█████████ | 546/600 [4:55:40<29:31, 32.80s/it, v_num=k8_1, total_loss_train=536, kl_local_train=83, metric_mi|age_categorical_train=0.216]  "
     ]
    },
    {
     "name": "stdout",
     "output_type": "stream",
     "text": [
      "\r\n",
      "Epoch 547/600:  91%|█████████ | 546/600 [4:55:40<29:31, 32.80s/it, v_num=k8_1, total_loss_train=536, kl_local_train=83, metric_mi|age_categorical_train=0.216]"
     ]
    },
    {
     "name": "stdout",
     "output_type": "stream",
     "text": [
      "\r\n",
      "Epoch 547/600:  91%|█████████ | 547/600 [4:56:13<28:57, 32.79s/it, v_num=k8_1, total_loss_train=536, kl_local_train=83, metric_mi|age_categorical_train=0.216]"
     ]
    },
    {
     "name": "stdout",
     "output_type": "stream",
     "text": [
      "\r\n",
      "Epoch 547/600:  91%|█████████ | 547/600 [4:56:13<28:57, 32.79s/it, v_num=k8_1, total_loss_train=536, kl_local_train=83, metric_mi|age_categorical_train=0.216]"
     ]
    },
    {
     "name": "stdout",
     "output_type": "stream",
     "text": [
      "\r\n",
      "Epoch 548/600:  91%|█████████ | 547/600 [4:56:13<28:57, 32.79s/it, v_num=k8_1, total_loss_train=536, kl_local_train=83, metric_mi|age_categorical_train=0.216]"
     ]
    },
    {
     "name": "stdout",
     "output_type": "stream",
     "text": [
      "\r\n",
      "Epoch 548/600:  91%|█████████▏| 548/600 [4:56:45<28:19, 32.68s/it, v_num=k8_1, total_loss_train=536, kl_local_train=83, metric_mi|age_categorical_train=0.216]"
     ]
    },
    {
     "name": "stdout",
     "output_type": "stream",
     "text": [
      "\r\n",
      "Epoch 548/600:  91%|█████████▏| 548/600 [4:56:45<28:19, 32.68s/it, v_num=k8_1, total_loss_train=537, kl_local_train=82.8, metric_mi|age_categorical_train=0.216]"
     ]
    },
    {
     "name": "stdout",
     "output_type": "stream",
     "text": [
      "\r\n",
      "Epoch 549/600:  91%|█████████▏| 548/600 [4:56:45<28:19, 32.68s/it, v_num=k8_1, total_loss_train=537, kl_local_train=82.8, metric_mi|age_categorical_train=0.216]"
     ]
    },
    {
     "name": "stdout",
     "output_type": "stream",
     "text": [
      "\r\n",
      "Epoch 549/600:  92%|█████████▏| 549/600 [4:57:18<27:47, 32.69s/it, v_num=k8_1, total_loss_train=537, kl_local_train=82.8, metric_mi|age_categorical_train=0.216]"
     ]
    },
    {
     "name": "stdout",
     "output_type": "stream",
     "text": [
      "\r\n",
      "Epoch 549/600:  92%|█████████▏| 549/600 [4:57:18<27:47, 32.69s/it, v_num=k8_1, total_loss_train=537, kl_local_train=82.8, metric_mi|age_categorical_train=0.216]"
     ]
    },
    {
     "name": "stdout",
     "output_type": "stream",
     "text": [
      "\r\n",
      "Epoch 550/600:  92%|█████████▏| 549/600 [4:57:18<27:47, 32.69s/it, v_num=k8_1, total_loss_train=537, kl_local_train=82.8, metric_mi|age_categorical_train=0.216]"
     ]
    },
    {
     "name": "stdout",
     "output_type": "stream",
     "text": [
      "\r\n",
      "Epoch 550/600:  92%|█████████▏| 550/600 [4:57:51<27:21, 32.83s/it, v_num=k8_1, total_loss_train=537, kl_local_train=82.8, metric_mi|age_categorical_train=0.216]"
     ]
    },
    {
     "name": "stdout",
     "output_type": "stream",
     "text": [
      "\r\n",
      "Epoch 550/600:  92%|█████████▏| 550/600 [4:57:51<27:21, 32.83s/it, v_num=k8_1, total_loss_train=537, kl_local_train=82.8, metric_mi|age_categorical_train=0.216]"
     ]
    },
    {
     "name": "stdout",
     "output_type": "stream",
     "text": [
      "\r\n",
      "Epoch 551/600:  92%|█████████▏| 550/600 [4:57:52<27:21, 32.83s/it, v_num=k8_1, total_loss_train=537, kl_local_train=82.8, metric_mi|age_categorical_train=0.216]"
     ]
    },
    {
     "name": "stdout",
     "output_type": "stream",
     "text": [
      "\r\n",
      "Epoch 551/600:  92%|█████████▏| 551/600 [4:58:25<27:02, 33.12s/it, v_num=k8_1, total_loss_train=537, kl_local_train=82.8, metric_mi|age_categorical_train=0.216]"
     ]
    },
    {
     "name": "stdout",
     "output_type": "stream",
     "text": [
      "\r\n",
      "Epoch 551/600:  92%|█████████▏| 551/600 [4:58:25<27:02, 33.12s/it, v_num=k8_1, total_loss_train=537, kl_local_train=82.8, metric_mi|age_categorical_train=0.218]"
     ]
    },
    {
     "name": "stdout",
     "output_type": "stream",
     "text": [
      "\r\n",
      "Epoch 552/600:  92%|█████████▏| 551/600 [4:58:25<27:02, 33.12s/it, v_num=k8_1, total_loss_train=537, kl_local_train=82.8, metric_mi|age_categorical_train=0.218]"
     ]
    },
    {
     "name": "stdout",
     "output_type": "stream",
     "text": [
      "\r\n",
      "Epoch 552/600:  92%|█████████▏| 552/600 [4:58:58<26:24, 33.01s/it, v_num=k8_1, total_loss_train=537, kl_local_train=82.8, metric_mi|age_categorical_train=0.218]"
     ]
    },
    {
     "name": "stdout",
     "output_type": "stream",
     "text": [
      "\r\n",
      "Epoch 552/600:  92%|█████████▏| 552/600 [4:58:58<26:24, 33.01s/it, v_num=k8_1, total_loss_train=537, kl_local_train=82.8, metric_mi|age_categorical_train=0.218]"
     ]
    },
    {
     "name": "stdout",
     "output_type": "stream",
     "text": [
      "\r\n",
      "Epoch 553/600:  92%|█████████▏| 552/600 [4:58:58<26:24, 33.01s/it, v_num=k8_1, total_loss_train=537, kl_local_train=82.8, metric_mi|age_categorical_train=0.218]"
     ]
    },
    {
     "name": "stdout",
     "output_type": "stream",
     "text": [
      "\r\n",
      "Epoch 553/600:  92%|█████████▏| 553/600 [4:59:30<25:44, 32.86s/it, v_num=k8_1, total_loss_train=537, kl_local_train=82.8, metric_mi|age_categorical_train=0.218]"
     ]
    },
    {
     "name": "stdout",
     "output_type": "stream",
     "text": [
      "\r\n",
      "Epoch 553/600:  92%|█████████▏| 553/600 [4:59:30<25:44, 32.86s/it, v_num=k8_1, total_loss_train=537, kl_local_train=82.5, metric_mi|age_categorical_train=0.218]"
     ]
    },
    {
     "name": "stdout",
     "output_type": "stream",
     "text": [
      "\r\n",
      "Epoch 554/600:  92%|█████████▏| 553/600 [4:59:30<25:44, 32.86s/it, v_num=k8_1, total_loss_train=537, kl_local_train=82.5, metric_mi|age_categorical_train=0.218]"
     ]
    },
    {
     "name": "stdout",
     "output_type": "stream",
     "text": [
      "\r\n",
      "Epoch 554/600:  92%|█████████▏| 554/600 [5:00:03<25:07, 32.77s/it, v_num=k8_1, total_loss_train=537, kl_local_train=82.5, metric_mi|age_categorical_train=0.218]"
     ]
    },
    {
     "name": "stdout",
     "output_type": "stream",
     "text": [
      "\r\n",
      "Epoch 554/600:  92%|█████████▏| 554/600 [5:00:03<25:07, 32.77s/it, v_num=k8_1, total_loss_train=537, kl_local_train=82.6, metric_mi|age_categorical_train=0.218]"
     ]
    },
    {
     "name": "stdout",
     "output_type": "stream",
     "text": [
      "\r\n",
      "Epoch 555/600:  92%|█████████▏| 554/600 [5:00:03<25:07, 32.77s/it, v_num=k8_1, total_loss_train=537, kl_local_train=82.6, metric_mi|age_categorical_train=0.218]"
     ]
    },
    {
     "name": "stdout",
     "output_type": "stream",
     "text": [
      "\r\n",
      "Epoch 555/600:  92%|█████████▎| 555/600 [5:00:36<24:38, 32.85s/it, v_num=k8_1, total_loss_train=537, kl_local_train=82.6, metric_mi|age_categorical_train=0.218]"
     ]
    },
    {
     "name": "stdout",
     "output_type": "stream",
     "text": [
      "\r\n",
      "Epoch 555/600:  92%|█████████▎| 555/600 [5:00:36<24:38, 32.85s/it, v_num=k8_1, total_loss_train=537, kl_local_train=82.5, metric_mi|age_categorical_train=0.218]"
     ]
    },
    {
     "name": "stdout",
     "output_type": "stream",
     "text": [
      "\r\n",
      "Epoch 556/600:  92%|█████████▎| 555/600 [5:00:37<24:38, 32.85s/it, v_num=k8_1, total_loss_train=537, kl_local_train=82.5, metric_mi|age_categorical_train=0.218]"
     ]
    },
    {
     "name": "stdout",
     "output_type": "stream",
     "text": [
      "\r\n",
      "Epoch 556/600:  93%|█████████▎| 556/600 [5:01:09<24:11, 32.99s/it, v_num=k8_1, total_loss_train=537, kl_local_train=82.5, metric_mi|age_categorical_train=0.218]"
     ]
    },
    {
     "name": "stdout",
     "output_type": "stream",
     "text": [
      "\r\n",
      "Epoch 556/600:  93%|█████████▎| 556/600 [5:01:09<24:11, 32.99s/it, v_num=k8_1, total_loss_train=537, kl_local_train=82.5, metric_mi|age_categorical_train=0.236]"
     ]
    },
    {
     "name": "stdout",
     "output_type": "stream",
     "text": [
      "\r\n",
      "Epoch 557/600:  93%|█████████▎| 556/600 [5:01:09<24:11, 32.99s/it, v_num=k8_1, total_loss_train=537, kl_local_train=82.5, metric_mi|age_categorical_train=0.236]"
     ]
    },
    {
     "name": "stdout",
     "output_type": "stream",
     "text": [
      "\r\n",
      "Epoch 557/600:  93%|█████████▎| 557/600 [5:01:42<23:36, 32.94s/it, v_num=k8_1, total_loss_train=537, kl_local_train=82.5, metric_mi|age_categorical_train=0.236]"
     ]
    },
    {
     "name": "stdout",
     "output_type": "stream",
     "text": [
      "\r\n",
      "Epoch 557/600:  93%|█████████▎| 557/600 [5:01:42<23:36, 32.94s/it, v_num=k8_1, total_loss_train=537, kl_local_train=82.4, metric_mi|age_categorical_train=0.236]"
     ]
    },
    {
     "name": "stdout",
     "output_type": "stream",
     "text": [
      "\r\n",
      "Epoch 558/600:  93%|█████████▎| 557/600 [5:01:42<23:36, 32.94s/it, v_num=k8_1, total_loss_train=537, kl_local_train=82.4, metric_mi|age_categorical_train=0.236]"
     ]
    },
    {
     "name": "stdout",
     "output_type": "stream",
     "text": [
      "\r\n",
      "Epoch 558/600:  93%|█████████▎| 558/600 [5:02:15<23:01, 32.90s/it, v_num=k8_1, total_loss_train=537, kl_local_train=82.4, metric_mi|age_categorical_train=0.236]"
     ]
    },
    {
     "name": "stdout",
     "output_type": "stream",
     "text": [
      "\r\n",
      "Epoch 558/600:  93%|█████████▎| 558/600 [5:02:15<23:01, 32.90s/it, v_num=k8_1, total_loss_train=537, kl_local_train=82.2, metric_mi|age_categorical_train=0.236]"
     ]
    },
    {
     "name": "stdout",
     "output_type": "stream",
     "text": [
      "\r\n",
      "Epoch 559/600:  93%|█████████▎| 558/600 [5:02:15<23:01, 32.90s/it, v_num=k8_1, total_loss_train=537, kl_local_train=82.2, metric_mi|age_categorical_train=0.236]"
     ]
    },
    {
     "name": "stdout",
     "output_type": "stream",
     "text": [
      "\r\n",
      "Epoch 559/600:  93%|█████████▎| 559/600 [5:02:48<22:25, 32.81s/it, v_num=k8_1, total_loss_train=537, kl_local_train=82.2, metric_mi|age_categorical_train=0.236]"
     ]
    },
    {
     "name": "stdout",
     "output_type": "stream",
     "text": [
      "\r\n",
      "Epoch 559/600:  93%|█████████▎| 559/600 [5:02:48<22:25, 32.81s/it, v_num=k8_1, total_loss_train=538, kl_local_train=82.2, metric_mi|age_categorical_train=0.236]"
     ]
    },
    {
     "name": "stdout",
     "output_type": "stream",
     "text": [
      "\r\n",
      "Epoch 560/600:  93%|█████████▎| 559/600 [5:02:48<22:25, 32.81s/it, v_num=k8_1, total_loss_train=538, kl_local_train=82.2, metric_mi|age_categorical_train=0.236]"
     ]
    },
    {
     "name": "stdout",
     "output_type": "stream",
     "text": [
      "\r\n",
      "Epoch 560/600:  93%|█████████▎| 560/600 [5:03:21<21:55, 32.89s/it, v_num=k8_1, total_loss_train=538, kl_local_train=82.2, metric_mi|age_categorical_train=0.236]"
     ]
    },
    {
     "name": "stdout",
     "output_type": "stream",
     "text": [
      "\r\n",
      "Epoch 560/600:  93%|█████████▎| 560/600 [5:03:21<21:55, 32.89s/it, v_num=k8_1, total_loss_train=538, kl_local_train=82.2, metric_mi|age_categorical_train=0.236]"
     ]
    },
    {
     "name": "stdout",
     "output_type": "stream",
     "text": [
      "\r\n",
      "Epoch 561/600:  93%|█████████▎| 560/600 [5:03:21<21:55, 32.89s/it, v_num=k8_1, total_loss_train=538, kl_local_train=82.2, metric_mi|age_categorical_train=0.236]"
     ]
    },
    {
     "name": "stdout",
     "output_type": "stream",
     "text": [
      "\r\n",
      "Epoch 561/600:  94%|█████████▎| 561/600 [5:03:54<21:29, 33.07s/it, v_num=k8_1, total_loss_train=538, kl_local_train=82.2, metric_mi|age_categorical_train=0.236]"
     ]
    },
    {
     "name": "stdout",
     "output_type": "stream",
     "text": [
      "\r\n",
      "Epoch 561/600:  94%|█████████▎| 561/600 [5:03:54<21:29, 33.07s/it, v_num=k8_1, total_loss_train=538, kl_local_train=82.6, metric_mi|age_categorical_train=0.236]"
     ]
    },
    {
     "name": "stdout",
     "output_type": "stream",
     "text": [
      "\r\n",
      "Epoch 562/600:  94%|█████████▎| 561/600 [5:03:54<21:29, 33.07s/it, v_num=k8_1, total_loss_train=538, kl_local_train=82.6, metric_mi|age_categorical_train=0.236]"
     ]
    },
    {
     "name": "stdout",
     "output_type": "stream",
     "text": [
      "\r\n",
      "Epoch 562/600:  94%|█████████▎| 562/600 [5:04:27<20:53, 33.00s/it, v_num=k8_1, total_loss_train=538, kl_local_train=82.6, metric_mi|age_categorical_train=0.236]"
     ]
    },
    {
     "name": "stdout",
     "output_type": "stream",
     "text": [
      "\r\n",
      "Epoch 562/600:  94%|█████████▎| 562/600 [5:04:27<20:53, 33.00s/it, v_num=k8_1, total_loss_train=538, kl_local_train=82.3, metric_mi|age_categorical_train=0.236]"
     ]
    },
    {
     "name": "stdout",
     "output_type": "stream",
     "text": [
      "\r\n",
      "Epoch 563/600:  94%|█████████▎| 562/600 [5:04:27<20:53, 33.00s/it, v_num=k8_1, total_loss_train=538, kl_local_train=82.3, metric_mi|age_categorical_train=0.236]"
     ]
    },
    {
     "name": "stdout",
     "output_type": "stream",
     "text": [
      "\r\n",
      "Epoch 563/600:  94%|█████████▍| 563/600 [5:04:59<20:16, 32.87s/it, v_num=k8_1, total_loss_train=538, kl_local_train=82.3, metric_mi|age_categorical_train=0.236]"
     ]
    },
    {
     "name": "stdout",
     "output_type": "stream",
     "text": [
      "\r\n",
      "Epoch 563/600:  94%|█████████▍| 563/600 [5:04:59<20:16, 32.87s/it, v_num=k8_1, total_loss_train=538, kl_local_train=81.9, metric_mi|age_categorical_train=0.236]"
     ]
    },
    {
     "name": "stdout",
     "output_type": "stream",
     "text": [
      "\r\n",
      "Epoch 564/600:  94%|█████████▍| 563/600 [5:04:59<20:16, 32.87s/it, v_num=k8_1, total_loss_train=538, kl_local_train=81.9, metric_mi|age_categorical_train=0.236]"
     ]
    },
    {
     "name": "stdout",
     "output_type": "stream",
     "text": [
      "\r\n",
      "Epoch 564/600:  94%|█████████▍| 564/600 [5:05:32<19:40, 32.79s/it, v_num=k8_1, total_loss_train=538, kl_local_train=81.9, metric_mi|age_categorical_train=0.236]"
     ]
    },
    {
     "name": "stdout",
     "output_type": "stream",
     "text": [
      "\r\n",
      "Epoch 564/600:  94%|█████████▍| 564/600 [5:05:32<19:40, 32.79s/it, v_num=k8_1, total_loss_train=538, kl_local_train=81.9, metric_mi|age_categorical_train=0.236]"
     ]
    },
    {
     "name": "stdout",
     "output_type": "stream",
     "text": [
      "\r\n",
      "Epoch 565/600:  94%|█████████▍| 564/600 [5:05:32<19:40, 32.79s/it, v_num=k8_1, total_loss_train=538, kl_local_train=81.9, metric_mi|age_categorical_train=0.236]"
     ]
    },
    {
     "name": "stdout",
     "output_type": "stream",
     "text": [
      "\r\n",
      "Epoch 565/600:  94%|█████████▍| 565/600 [5:06:05<19:11, 32.89s/it, v_num=k8_1, total_loss_train=538, kl_local_train=81.9, metric_mi|age_categorical_train=0.236]"
     ]
    },
    {
     "name": "stdout",
     "output_type": "stream",
     "text": [
      "\r\n",
      "Epoch 565/600:  94%|█████████▍| 565/600 [5:06:05<19:11, 32.89s/it, v_num=k8_1, total_loss_train=538, kl_local_train=81.5, metric_mi|age_categorical_train=0.236]"
     ]
    },
    {
     "name": "stdout",
     "output_type": "stream",
     "text": [
      "\r\n",
      "Epoch 566/600:  94%|█████████▍| 565/600 [5:06:06<19:11, 32.89s/it, v_num=k8_1, total_loss_train=538, kl_local_train=81.5, metric_mi|age_categorical_train=0.236]"
     ]
    },
    {
     "name": "stdout",
     "output_type": "stream",
     "text": [
      "\r\n",
      "Epoch 566/600:  94%|█████████▍| 566/600 [5:06:39<18:43, 33.04s/it, v_num=k8_1, total_loss_train=538, kl_local_train=81.5, metric_mi|age_categorical_train=0.236]"
     ]
    },
    {
     "name": "stdout",
     "output_type": "stream",
     "text": [
      "\r\n",
      "Epoch 566/600:  94%|█████████▍| 566/600 [5:06:39<18:43, 33.04s/it, v_num=k8_1, total_loss_train=538, kl_local_train=81.7, metric_mi|age_categorical_train=0.233]"
     ]
    },
    {
     "name": "stdout",
     "output_type": "stream",
     "text": [
      "\r\n",
      "Epoch 567/600:  94%|█████████▍| 566/600 [5:06:39<18:43, 33.04s/it, v_num=k8_1, total_loss_train=538, kl_local_train=81.7, metric_mi|age_categorical_train=0.233]"
     ]
    },
    {
     "name": "stdout",
     "output_type": "stream",
     "text": [
      "\r\n",
      "Epoch 567/600:  94%|█████████▍| 567/600 [5:07:11<18:05, 32.89s/it, v_num=k8_1, total_loss_train=538, kl_local_train=81.7, metric_mi|age_categorical_train=0.233]"
     ]
    },
    {
     "name": "stdout",
     "output_type": "stream",
     "text": [
      "\r\n",
      "Epoch 567/600:  94%|█████████▍| 567/600 [5:07:11<18:05, 32.89s/it, v_num=k8_1, total_loss_train=538, kl_local_train=81.4, metric_mi|age_categorical_train=0.233]"
     ]
    },
    {
     "name": "stdout",
     "output_type": "stream",
     "text": [
      "\r\n",
      "Epoch 568/600:  94%|█████████▍| 567/600 [5:07:11<18:05, 32.89s/it, v_num=k8_1, total_loss_train=538, kl_local_train=81.4, metric_mi|age_categorical_train=0.233]"
     ]
    },
    {
     "name": "stdout",
     "output_type": "stream",
     "text": [
      "\r\n",
      "Epoch 568/600:  95%|█████████▍| 568/600 [5:07:44<17:30, 32.84s/it, v_num=k8_1, total_loss_train=538, kl_local_train=81.4, metric_mi|age_categorical_train=0.233]"
     ]
    },
    {
     "name": "stdout",
     "output_type": "stream",
     "text": [
      "\r\n",
      "Epoch 568/600:  95%|█████████▍| 568/600 [5:07:44<17:30, 32.84s/it, v_num=k8_1, total_loss_train=538, kl_local_train=81.5, metric_mi|age_categorical_train=0.233]"
     ]
    },
    {
     "name": "stdout",
     "output_type": "stream",
     "text": [
      "\r\n",
      "Epoch 569/600:  95%|█████████▍| 568/600 [5:07:44<17:30, 32.84s/it, v_num=k8_1, total_loss_train=538, kl_local_train=81.5, metric_mi|age_categorical_train=0.233]"
     ]
    },
    {
     "name": "stdout",
     "output_type": "stream",
     "text": [
      "\r\n",
      "Epoch 569/600:  95%|█████████▍| 569/600 [5:08:16<16:55, 32.76s/it, v_num=k8_1, total_loss_train=538, kl_local_train=81.5, metric_mi|age_categorical_train=0.233]"
     ]
    },
    {
     "name": "stdout",
     "output_type": "stream",
     "text": [
      "\r\n",
      "Epoch 569/600:  95%|█████████▍| 569/600 [5:08:16<16:55, 32.76s/it, v_num=k8_1, total_loss_train=538, kl_local_train=81.4, metric_mi|age_categorical_train=0.233]"
     ]
    },
    {
     "name": "stdout",
     "output_type": "stream",
     "text": [
      "\r\n",
      "Epoch 570/600:  95%|█████████▍| 569/600 [5:08:16<16:55, 32.76s/it, v_num=k8_1, total_loss_train=538, kl_local_train=81.4, metric_mi|age_categorical_train=0.233]"
     ]
    },
    {
     "name": "stdout",
     "output_type": "stream",
     "text": [
      "\r\n",
      "Epoch 570/600:  95%|█████████▌| 570/600 [5:08:50<16:27, 32.92s/it, v_num=k8_1, total_loss_train=538, kl_local_train=81.4, metric_mi|age_categorical_train=0.233]"
     ]
    },
    {
     "name": "stdout",
     "output_type": "stream",
     "text": [
      "\r\n",
      "Epoch 570/600:  95%|█████████▌| 570/600 [5:08:50<16:27, 32.92s/it, v_num=k8_1, total_loss_train=538, kl_local_train=81.1, metric_mi|age_categorical_train=0.233]"
     ]
    },
    {
     "name": "stdout",
     "output_type": "stream",
     "text": [
      "\r\n",
      "Epoch 571/600:  95%|█████████▌| 570/600 [5:08:50<16:27, 32.92s/it, v_num=k8_1, total_loss_train=538, kl_local_train=81.1, metric_mi|age_categorical_train=0.233]"
     ]
    },
    {
     "name": "stdout",
     "output_type": "stream",
     "text": [
      "\r\n",
      "Epoch 571/600:  95%|█████████▌| 571/600 [5:09:23<15:56, 32.98s/it, v_num=k8_1, total_loss_train=538, kl_local_train=81.1, metric_mi|age_categorical_train=0.233]"
     ]
    },
    {
     "name": "stdout",
     "output_type": "stream",
     "text": [
      "\r\n",
      "Epoch 571/600:  95%|█████████▌| 571/600 [5:09:23<15:56, 32.98s/it, v_num=k8_1, total_loss_train=539, kl_local_train=81.3, metric_mi|age_categorical_train=0.237]"
     ]
    },
    {
     "name": "stdout",
     "output_type": "stream",
     "text": [
      "\r\n",
      "Epoch 572/600:  95%|█████████▌| 571/600 [5:09:23<15:56, 32.98s/it, v_num=k8_1, total_loss_train=539, kl_local_train=81.3, metric_mi|age_categorical_train=0.237]"
     ]
    },
    {
     "name": "stdout",
     "output_type": "stream",
     "text": [
      "\r\n",
      "Epoch 572/600:  95%|█████████▌| 572/600 [5:09:55<15:17, 32.76s/it, v_num=k8_1, total_loss_train=539, kl_local_train=81.3, metric_mi|age_categorical_train=0.237]"
     ]
    },
    {
     "name": "stdout",
     "output_type": "stream",
     "text": [
      "\r\n",
      "Epoch 572/600:  95%|█████████▌| 572/600 [5:09:55<15:17, 32.76s/it, v_num=k8_1, total_loss_train=539, kl_local_train=80.9, metric_mi|age_categorical_train=0.237]"
     ]
    },
    {
     "name": "stdout",
     "output_type": "stream",
     "text": [
      "\r\n",
      "Epoch 573/600:  95%|█████████▌| 572/600 [5:09:55<15:17, 32.76s/it, v_num=k8_1, total_loss_train=539, kl_local_train=80.9, metric_mi|age_categorical_train=0.237]"
     ]
    },
    {
     "name": "stdout",
     "output_type": "stream",
     "text": [
      "\r\n",
      "Epoch 573/600:  96%|█████████▌| 573/600 [5:10:27<14:39, 32.58s/it, v_num=k8_1, total_loss_train=539, kl_local_train=80.9, metric_mi|age_categorical_train=0.237]"
     ]
    },
    {
     "name": "stdout",
     "output_type": "stream",
     "text": [
      "\r\n",
      "Epoch 573/600:  96%|█████████▌| 573/600 [5:10:27<14:39, 32.58s/it, v_num=k8_1, total_loss_train=539, kl_local_train=81, metric_mi|age_categorical_train=0.237]  "
     ]
    },
    {
     "name": "stdout",
     "output_type": "stream",
     "text": [
      "\r\n",
      "Epoch 574/600:  96%|█████████▌| 573/600 [5:10:27<14:39, 32.58s/it, v_num=k8_1, total_loss_train=539, kl_local_train=81, metric_mi|age_categorical_train=0.237]"
     ]
    },
    {
     "name": "stdout",
     "output_type": "stream",
     "text": [
      "\r\n",
      "Epoch 574/600:  96%|█████████▌| 574/600 [5:10:59<14:04, 32.48s/it, v_num=k8_1, total_loss_train=539, kl_local_train=81, metric_mi|age_categorical_train=0.237]"
     ]
    },
    {
     "name": "stdout",
     "output_type": "stream",
     "text": [
      "\r\n",
      "Epoch 574/600:  96%|█████████▌| 574/600 [5:10:59<14:04, 32.48s/it, v_num=k8_1, total_loss_train=539, kl_local_train=81.2, metric_mi|age_categorical_train=0.237]"
     ]
    },
    {
     "name": "stdout",
     "output_type": "stream",
     "text": [
      "\r\n",
      "Epoch 575/600:  96%|█████████▌| 574/600 [5:10:59<14:04, 32.48s/it, v_num=k8_1, total_loss_train=539, kl_local_train=81.2, metric_mi|age_categorical_train=0.237]"
     ]
    },
    {
     "name": "stdout",
     "output_type": "stream",
     "text": [
      "\r\n",
      "Epoch 575/600:  96%|█████████▌| 575/600 [5:11:32<13:33, 32.54s/it, v_num=k8_1, total_loss_train=539, kl_local_train=81.2, metric_mi|age_categorical_train=0.237]"
     ]
    },
    {
     "name": "stdout",
     "output_type": "stream",
     "text": [
      "\r\n",
      "Epoch 575/600:  96%|█████████▌| 575/600 [5:11:32<13:33, 32.54s/it, v_num=k8_1, total_loss_train=539, kl_local_train=80.9, metric_mi|age_categorical_train=0.237]"
     ]
    },
    {
     "name": "stdout",
     "output_type": "stream",
     "text": [
      "\r\n",
      "Epoch 576/600:  96%|█████████▌| 575/600 [5:11:33<13:33, 32.54s/it, v_num=k8_1, total_loss_train=539, kl_local_train=80.9, metric_mi|age_categorical_train=0.237]"
     ]
    },
    {
     "name": "stdout",
     "output_type": "stream",
     "text": [
      "\r\n",
      "Epoch 576/600:  96%|█████████▌| 576/600 [5:12:05<13:04, 32.68s/it, v_num=k8_1, total_loss_train=539, kl_local_train=80.9, metric_mi|age_categorical_train=0.237]"
     ]
    },
    {
     "name": "stdout",
     "output_type": "stream",
     "text": [
      "\r\n",
      "Epoch 576/600:  96%|█████████▌| 576/600 [5:12:05<13:04, 32.68s/it, v_num=k8_1, total_loss_train=539, kl_local_train=81, metric_mi|age_categorical_train=0.237]  "
     ]
    },
    {
     "name": "stdout",
     "output_type": "stream",
     "text": [
      "\r\n",
      "Epoch 577/600:  96%|█████████▌| 576/600 [5:12:05<13:04, 32.68s/it, v_num=k8_1, total_loss_train=539, kl_local_train=81, metric_mi|age_categorical_train=0.237]"
     ]
    },
    {
     "name": "stdout",
     "output_type": "stream",
     "text": [
      "\r\n",
      "Epoch 577/600:  96%|█████████▌| 577/600 [5:12:36<12:17, 32.06s/it, v_num=k8_1, total_loss_train=539, kl_local_train=81, metric_mi|age_categorical_train=0.237]"
     ]
    },
    {
     "name": "stdout",
     "output_type": "stream",
     "text": [
      "\r\n",
      "Epoch 577/600:  96%|█████████▌| 577/600 [5:12:36<12:17, 32.06s/it, v_num=k8_1, total_loss_train=539, kl_local_train=80.9, metric_mi|age_categorical_train=0.237]"
     ]
    },
    {
     "name": "stdout",
     "output_type": "stream",
     "text": [
      "\r\n",
      "Epoch 578/600:  96%|█████████▌| 577/600 [5:12:36<12:17, 32.06s/it, v_num=k8_1, total_loss_train=539, kl_local_train=80.9, metric_mi|age_categorical_train=0.237]"
     ]
    },
    {
     "name": "stdout",
     "output_type": "stream",
     "text": [
      "\r\n",
      "Epoch 578/600:  96%|█████████▋| 578/600 [5:13:06<11:32, 31.49s/it, v_num=k8_1, total_loss_train=539, kl_local_train=80.9, metric_mi|age_categorical_train=0.237]"
     ]
    },
    {
     "name": "stdout",
     "output_type": "stream",
     "text": [
      "\r\n",
      "Epoch 578/600:  96%|█████████▋| 578/600 [5:13:06<11:32, 31.49s/it, v_num=k8_1, total_loss_train=539, kl_local_train=81, metric_mi|age_categorical_train=0.237]  "
     ]
    },
    {
     "name": "stdout",
     "output_type": "stream",
     "text": [
      "\r\n",
      "Epoch 579/600:  96%|█████████▋| 578/600 [5:13:06<11:32, 31.49s/it, v_num=k8_1, total_loss_train=539, kl_local_train=81, metric_mi|age_categorical_train=0.237]"
     ]
    },
    {
     "name": "stdout",
     "output_type": "stream",
     "text": [
      "\r\n",
      "Epoch 579/600:  96%|█████████▋| 579/600 [5:13:36<10:52, 31.07s/it, v_num=k8_1, total_loss_train=539, kl_local_train=81, metric_mi|age_categorical_train=0.237]"
     ]
    },
    {
     "name": "stdout",
     "output_type": "stream",
     "text": [
      "\r\n",
      "Epoch 579/600:  96%|█████████▋| 579/600 [5:13:36<10:52, 31.07s/it, v_num=k8_1, total_loss_train=539, kl_local_train=80.9, metric_mi|age_categorical_train=0.237]"
     ]
    },
    {
     "name": "stdout",
     "output_type": "stream",
     "text": [
      "\r\n",
      "Epoch 580/600:  96%|█████████▋| 579/600 [5:13:36<10:52, 31.07s/it, v_num=k8_1, total_loss_train=539, kl_local_train=80.9, metric_mi|age_categorical_train=0.237]"
     ]
    },
    {
     "name": "stdout",
     "output_type": "stream",
     "text": [
      "\r\n",
      "Epoch 580/600:  97%|█████████▋| 580/600 [5:14:08<10:25, 31.30s/it, v_num=k8_1, total_loss_train=539, kl_local_train=80.9, metric_mi|age_categorical_train=0.237]"
     ]
    },
    {
     "name": "stdout",
     "output_type": "stream",
     "text": [
      "\r\n",
      "Epoch 580/600:  97%|█████████▋| 580/600 [5:14:08<10:25, 31.30s/it, v_num=k8_1, total_loss_train=539, kl_local_train=80.7, metric_mi|age_categorical_train=0.237]"
     ]
    },
    {
     "name": "stdout",
     "output_type": "stream",
     "text": [
      "\r\n",
      "Epoch 581/600:  97%|█████████▋| 580/600 [5:14:09<10:25, 31.30s/it, v_num=k8_1, total_loss_train=539, kl_local_train=80.7, metric_mi|age_categorical_train=0.237]"
     ]
    },
    {
     "name": "stdout",
     "output_type": "stream",
     "text": [
      "\r\n",
      "Epoch 581/600:  97%|█████████▋| 581/600 [5:14:40<10:00, 31.63s/it, v_num=k8_1, total_loss_train=539, kl_local_train=80.7, metric_mi|age_categorical_train=0.237]"
     ]
    },
    {
     "name": "stdout",
     "output_type": "stream",
     "text": [
      "\r\n",
      "Epoch 581/600:  97%|█████████▋| 581/600 [5:14:40<10:00, 31.63s/it, v_num=k8_1, total_loss_train=540, kl_local_train=80.7, metric_mi|age_categorical_train=0.224]"
     ]
    },
    {
     "name": "stdout",
     "output_type": "stream",
     "text": [
      "\r\n",
      "Epoch 582/600:  97%|█████████▋| 581/600 [5:14:40<10:00, 31.63s/it, v_num=k8_1, total_loss_train=540, kl_local_train=80.7, metric_mi|age_categorical_train=0.224]"
     ]
    },
    {
     "name": "stdout",
     "output_type": "stream",
     "text": [
      "\r\n",
      "Epoch 582/600:  97%|█████████▋| 582/600 [5:15:12<09:29, 31.66s/it, v_num=k8_1, total_loss_train=540, kl_local_train=80.7, metric_mi|age_categorical_train=0.224]"
     ]
    },
    {
     "name": "stdout",
     "output_type": "stream",
     "text": [
      "\r\n",
      "Epoch 582/600:  97%|█████████▋| 582/600 [5:15:12<09:29, 31.66s/it, v_num=k8_1, total_loss_train=540, kl_local_train=80.4, metric_mi|age_categorical_train=0.224]"
     ]
    },
    {
     "name": "stdout",
     "output_type": "stream",
     "text": [
      "\r\n",
      "Epoch 583/600:  97%|█████████▋| 582/600 [5:15:12<09:29, 31.66s/it, v_num=k8_1, total_loss_train=540, kl_local_train=80.4, metric_mi|age_categorical_train=0.224]"
     ]
    },
    {
     "name": "stdout",
     "output_type": "stream",
     "text": [
      "\r\n",
      "Epoch 583/600:  97%|█████████▋| 583/600 [5:15:44<08:59, 31.72s/it, v_num=k8_1, total_loss_train=540, kl_local_train=80.4, metric_mi|age_categorical_train=0.224]"
     ]
    },
    {
     "name": "stdout",
     "output_type": "stream",
     "text": [
      "\r\n",
      "Epoch 583/600:  97%|█████████▋| 583/600 [5:15:44<08:59, 31.72s/it, v_num=k8_1, total_loss_train=540, kl_local_train=80.4, metric_mi|age_categorical_train=0.224]"
     ]
    },
    {
     "name": "stdout",
     "output_type": "stream",
     "text": [
      "\r\n",
      "Epoch 584/600:  97%|█████████▋| 583/600 [5:15:44<08:59, 31.72s/it, v_num=k8_1, total_loss_train=540, kl_local_train=80.4, metric_mi|age_categorical_train=0.224]"
     ]
    },
    {
     "name": "stdout",
     "output_type": "stream",
     "text": [
      "\r\n",
      "Epoch 584/600:  97%|█████████▋| 584/600 [5:16:15<08:26, 31.68s/it, v_num=k8_1, total_loss_train=540, kl_local_train=80.4, metric_mi|age_categorical_train=0.224]"
     ]
    },
    {
     "name": "stdout",
     "output_type": "stream",
     "text": [
      "\r\n",
      "Epoch 584/600:  97%|█████████▋| 584/600 [5:16:15<08:26, 31.68s/it, v_num=k8_1, total_loss_train=540, kl_local_train=80.4, metric_mi|age_categorical_train=0.224]"
     ]
    },
    {
     "name": "stdout",
     "output_type": "stream",
     "text": [
      "\r\n",
      "Epoch 585/600:  97%|█████████▋| 584/600 [5:16:15<08:26, 31.68s/it, v_num=k8_1, total_loss_train=540, kl_local_train=80.4, metric_mi|age_categorical_train=0.224]"
     ]
    },
    {
     "name": "stdout",
     "output_type": "stream",
     "text": [
      "\r\n",
      "Epoch 585/600:  98%|█████████▊| 585/600 [5:16:48<07:57, 31.86s/it, v_num=k8_1, total_loss_train=540, kl_local_train=80.4, metric_mi|age_categorical_train=0.224]"
     ]
    },
    {
     "name": "stdout",
     "output_type": "stream",
     "text": [
      "\r\n",
      "Epoch 585/600:  98%|█████████▊| 585/600 [5:16:48<07:57, 31.86s/it, v_num=k8_1, total_loss_train=540, kl_local_train=80.5, metric_mi|age_categorical_train=0.224]"
     ]
    },
    {
     "name": "stdout",
     "output_type": "stream",
     "text": [
      "\r\n",
      "Epoch 586/600:  98%|█████████▊| 585/600 [5:16:48<07:57, 31.86s/it, v_num=k8_1, total_loss_train=540, kl_local_train=80.5, metric_mi|age_categorical_train=0.224]"
     ]
    },
    {
     "name": "stdout",
     "output_type": "stream",
     "text": [
      "\r\n",
      "Epoch 586/600:  98%|█████████▊| 586/600 [5:17:20<07:29, 32.13s/it, v_num=k8_1, total_loss_train=540, kl_local_train=80.5, metric_mi|age_categorical_train=0.224]"
     ]
    },
    {
     "name": "stdout",
     "output_type": "stream",
     "text": [
      "\r\n",
      "Epoch 586/600:  98%|█████████▊| 586/600 [5:17:20<07:29, 32.13s/it, v_num=k8_1, total_loss_train=540, kl_local_train=80, metric_mi|age_categorical_train=0.233]  "
     ]
    },
    {
     "name": "stdout",
     "output_type": "stream",
     "text": [
      "\r\n",
      "Epoch 587/600:  98%|█████████▊| 586/600 [5:17:20<07:29, 32.13s/it, v_num=k8_1, total_loss_train=540, kl_local_train=80, metric_mi|age_categorical_train=0.233]"
     ]
    },
    {
     "name": "stdout",
     "output_type": "stream",
     "text": [
      "\r\n",
      "Epoch 587/600:  98%|█████████▊| 587/600 [5:17:52<06:57, 32.08s/it, v_num=k8_1, total_loss_train=540, kl_local_train=80, metric_mi|age_categorical_train=0.233]"
     ]
    },
    {
     "name": "stdout",
     "output_type": "stream",
     "text": [
      "\r\n",
      "Epoch 587/600:  98%|█████████▊| 587/600 [5:17:52<06:57, 32.08s/it, v_num=k8_1, total_loss_train=540, kl_local_train=80, metric_mi|age_categorical_train=0.233]"
     ]
    },
    {
     "name": "stdout",
     "output_type": "stream",
     "text": [
      "\r\n",
      "Epoch 588/600:  98%|█████████▊| 587/600 [5:17:52<06:57, 32.08s/it, v_num=k8_1, total_loss_train=540, kl_local_train=80, metric_mi|age_categorical_train=0.233]"
     ]
    },
    {
     "name": "stdout",
     "output_type": "stream",
     "text": [
      "\r\n",
      "Epoch 588/600:  98%|█████████▊| 588/600 [5:18:24<06:24, 32.01s/it, v_num=k8_1, total_loss_train=540, kl_local_train=80, metric_mi|age_categorical_train=0.233]"
     ]
    },
    {
     "name": "stdout",
     "output_type": "stream",
     "text": [
      "\r\n",
      "Epoch 588/600:  98%|█████████▊| 588/600 [5:18:24<06:24, 32.01s/it, v_num=k8_1, total_loss_train=540, kl_local_train=80, metric_mi|age_categorical_train=0.233]"
     ]
    },
    {
     "name": "stdout",
     "output_type": "stream",
     "text": [
      "\r\n",
      "Epoch 589/600:  98%|█████████▊| 588/600 [5:18:24<06:24, 32.01s/it, v_num=k8_1, total_loss_train=540, kl_local_train=80, metric_mi|age_categorical_train=0.233]"
     ]
    },
    {
     "name": "stdout",
     "output_type": "stream",
     "text": [
      "\r\n",
      "Epoch 589/600:  98%|█████████▊| 589/600 [5:18:56<05:52, 32.04s/it, v_num=k8_1, total_loss_train=540, kl_local_train=80, metric_mi|age_categorical_train=0.233]"
     ]
    },
    {
     "name": "stdout",
     "output_type": "stream",
     "text": [
      "\r\n",
      "Epoch 589/600:  98%|█████████▊| 589/600 [5:18:56<05:52, 32.04s/it, v_num=k8_1, total_loss_train=540, kl_local_train=80.3, metric_mi|age_categorical_train=0.233]"
     ]
    },
    {
     "name": "stdout",
     "output_type": "stream",
     "text": [
      "\r\n",
      "Epoch 590/600:  98%|█████████▊| 589/600 [5:18:56<05:52, 32.04s/it, v_num=k8_1, total_loss_train=540, kl_local_train=80.3, metric_mi|age_categorical_train=0.233]"
     ]
    },
    {
     "name": "stdout",
     "output_type": "stream",
     "text": [
      "\r\n",
      "Epoch 590/600:  98%|█████████▊| 590/600 [5:19:29<05:21, 32.16s/it, v_num=k8_1, total_loss_train=540, kl_local_train=80.3, metric_mi|age_categorical_train=0.233]"
     ]
    },
    {
     "name": "stdout",
     "output_type": "stream",
     "text": [
      "\r\n",
      "Epoch 590/600:  98%|█████████▊| 590/600 [5:19:29<05:21, 32.16s/it, v_num=k8_1, total_loss_train=540, kl_local_train=80.1, metric_mi|age_categorical_train=0.233]"
     ]
    },
    {
     "name": "stdout",
     "output_type": "stream",
     "text": [
      "\r\n",
      "Epoch 591/600:  98%|█████████▊| 590/600 [5:19:30<05:21, 32.16s/it, v_num=k8_1, total_loss_train=540, kl_local_train=80.1, metric_mi|age_categorical_train=0.233]"
     ]
    },
    {
     "name": "stdout",
     "output_type": "stream",
     "text": [
      "\r\n",
      "Epoch 591/600:  98%|█████████▊| 591/600 [5:20:02<04:51, 32.44s/it, v_num=k8_1, total_loss_train=540, kl_local_train=80.1, metric_mi|age_categorical_train=0.233]"
     ]
    },
    {
     "name": "stdout",
     "output_type": "stream",
     "text": [
      "\r\n",
      "Epoch 591/600:  98%|█████████▊| 591/600 [5:20:02<04:51, 32.44s/it, v_num=k8_1, total_loss_train=540, kl_local_train=79.6, metric_mi|age_categorical_train=0.228]"
     ]
    },
    {
     "name": "stdout",
     "output_type": "stream",
     "text": [
      "\r\n",
      "Epoch 592/600:  98%|█████████▊| 591/600 [5:20:02<04:51, 32.44s/it, v_num=k8_1, total_loss_train=540, kl_local_train=79.6, metric_mi|age_categorical_train=0.228]"
     ]
    },
    {
     "name": "stdout",
     "output_type": "stream",
     "text": [
      "\r\n",
      "Epoch 592/600:  99%|█████████▊| 592/600 [5:20:34<04:18, 32.37s/it, v_num=k8_1, total_loss_train=540, kl_local_train=79.6, metric_mi|age_categorical_train=0.228]"
     ]
    },
    {
     "name": "stdout",
     "output_type": "stream",
     "text": [
      "\r\n",
      "Epoch 592/600:  99%|█████████▊| 592/600 [5:20:34<04:18, 32.37s/it, v_num=k8_1, total_loss_train=540, kl_local_train=79.5, metric_mi|age_categorical_train=0.228]"
     ]
    },
    {
     "name": "stdout",
     "output_type": "stream",
     "text": [
      "\r\n",
      "Epoch 593/600:  99%|█████████▊| 592/600 [5:20:34<04:18, 32.37s/it, v_num=k8_1, total_loss_train=540, kl_local_train=79.5, metric_mi|age_categorical_train=0.228]"
     ]
    },
    {
     "name": "stdout",
     "output_type": "stream",
     "text": [
      "\r\n",
      "Epoch 593/600:  99%|█████████▉| 593/600 [5:21:06<03:46, 32.30s/it, v_num=k8_1, total_loss_train=540, kl_local_train=79.5, metric_mi|age_categorical_train=0.228]"
     ]
    },
    {
     "name": "stdout",
     "output_type": "stream",
     "text": [
      "\r\n",
      "Epoch 593/600:  99%|█████████▉| 593/600 [5:21:06<03:46, 32.30s/it, v_num=k8_1, total_loss_train=540, kl_local_train=79.5, metric_mi|age_categorical_train=0.228]"
     ]
    },
    {
     "name": "stdout",
     "output_type": "stream",
     "text": [
      "\r\n",
      "Epoch 594/600:  99%|█████████▉| 593/600 [5:21:06<03:46, 32.30s/it, v_num=k8_1, total_loss_train=540, kl_local_train=79.5, metric_mi|age_categorical_train=0.228]"
     ]
    },
    {
     "name": "stdout",
     "output_type": "stream",
     "text": [
      "\r\n",
      "Epoch 594/600:  99%|█████████▉| 594/600 [5:21:38<03:13, 32.20s/it, v_num=k8_1, total_loss_train=540, kl_local_train=79.5, metric_mi|age_categorical_train=0.228]"
     ]
    },
    {
     "name": "stdout",
     "output_type": "stream",
     "text": [
      "\r\n",
      "Epoch 594/600:  99%|█████████▉| 594/600 [5:21:38<03:13, 32.20s/it, v_num=k8_1, total_loss_train=541, kl_local_train=79.6, metric_mi|age_categorical_train=0.228]"
     ]
    },
    {
     "name": "stdout",
     "output_type": "stream",
     "text": [
      "\r\n",
      "Epoch 595/600:  99%|█████████▉| 594/600 [5:21:38<03:13, 32.20s/it, v_num=k8_1, total_loss_train=541, kl_local_train=79.6, metric_mi|age_categorical_train=0.228]"
     ]
    },
    {
     "name": "stdout",
     "output_type": "stream",
     "text": [
      "\r\n",
      "Epoch 595/600:  99%|█████████▉| 595/600 [5:22:11<02:41, 32.29s/it, v_num=k8_1, total_loss_train=541, kl_local_train=79.6, metric_mi|age_categorical_train=0.228]"
     ]
    },
    {
     "name": "stdout",
     "output_type": "stream",
     "text": [
      "\r\n",
      "Epoch 595/600:  99%|█████████▉| 595/600 [5:22:11<02:41, 32.29s/it, v_num=k8_1, total_loss_train=541, kl_local_train=79.4, metric_mi|age_categorical_train=0.228]"
     ]
    },
    {
     "name": "stdout",
     "output_type": "stream",
     "text": [
      "\r\n",
      "Epoch 596/600:  99%|█████████▉| 595/600 [5:22:11<02:41, 32.29s/it, v_num=k8_1, total_loss_train=541, kl_local_train=79.4, metric_mi|age_categorical_train=0.228]"
     ]
    },
    {
     "name": "stdout",
     "output_type": "stream",
     "text": [
      "\r\n",
      "Epoch 596/600:  99%|█████████▉| 596/600 [5:22:44<02:09, 32.45s/it, v_num=k8_1, total_loss_train=541, kl_local_train=79.4, metric_mi|age_categorical_train=0.228]"
     ]
    },
    {
     "name": "stdout",
     "output_type": "stream",
     "text": [
      "\r\n",
      "Epoch 596/600:  99%|█████████▉| 596/600 [5:22:44<02:09, 32.45s/it, v_num=k8_1, total_loss_train=541, kl_local_train=79.5, metric_mi|age_categorical_train=0.234]"
     ]
    },
    {
     "name": "stdout",
     "output_type": "stream",
     "text": [
      "\r\n",
      "Epoch 597/600:  99%|█████████▉| 596/600 [5:22:44<02:09, 32.45s/it, v_num=k8_1, total_loss_train=541, kl_local_train=79.5, metric_mi|age_categorical_train=0.234]"
     ]
    },
    {
     "name": "stdout",
     "output_type": "stream",
     "text": [
      "\r\n",
      "Epoch 597/600: 100%|█████████▉| 597/600 [5:23:15<01:36, 32.22s/it, v_num=k8_1, total_loss_train=541, kl_local_train=79.5, metric_mi|age_categorical_train=0.234]"
     ]
    },
    {
     "name": "stdout",
     "output_type": "stream",
     "text": [
      "\r\n",
      "Epoch 597/600: 100%|█████████▉| 597/600 [5:23:15<01:36, 32.22s/it, v_num=k8_1, total_loss_train=541, kl_local_train=79.6, metric_mi|age_categorical_train=0.234]"
     ]
    },
    {
     "name": "stdout",
     "output_type": "stream",
     "text": [
      "\r\n",
      "Epoch 598/600: 100%|█████████▉| 597/600 [5:23:15<01:36, 32.22s/it, v_num=k8_1, total_loss_train=541, kl_local_train=79.6, metric_mi|age_categorical_train=0.234]"
     ]
    },
    {
     "name": "stdout",
     "output_type": "stream",
     "text": [
      "\r\n",
      "Epoch 598/600: 100%|█████████▉| 598/600 [5:23:47<01:04, 32.14s/it, v_num=k8_1, total_loss_train=541, kl_local_train=79.6, metric_mi|age_categorical_train=0.234]"
     ]
    },
    {
     "name": "stdout",
     "output_type": "stream",
     "text": [
      "\r\n",
      "Epoch 598/600: 100%|█████████▉| 598/600 [5:23:47<01:04, 32.14s/it, v_num=k8_1, total_loss_train=541, kl_local_train=79.2, metric_mi|age_categorical_train=0.234]"
     ]
    },
    {
     "name": "stdout",
     "output_type": "stream",
     "text": [
      "\r\n",
      "Epoch 599/600: 100%|█████████▉| 598/600 [5:23:47<01:04, 32.14s/it, v_num=k8_1, total_loss_train=541, kl_local_train=79.2, metric_mi|age_categorical_train=0.234]"
     ]
    },
    {
     "name": "stdout",
     "output_type": "stream",
     "text": [
      "\r\n",
      "Epoch 599/600: 100%|█████████▉| 599/600 [5:24:19<00:32, 32.07s/it, v_num=k8_1, total_loss_train=541, kl_local_train=79.2, metric_mi|age_categorical_train=0.234]"
     ]
    },
    {
     "name": "stdout",
     "output_type": "stream",
     "text": [
      "\r\n",
      "Epoch 599/600: 100%|█████████▉| 599/600 [5:24:19<00:32, 32.07s/it, v_num=k8_1, total_loss_train=541, kl_local_train=79.2, metric_mi|age_categorical_train=0.234]"
     ]
    },
    {
     "name": "stdout",
     "output_type": "stream",
     "text": [
      "\r\n",
      "Epoch 600/600: 100%|█████████▉| 599/600 [5:24:19<00:32, 32.07s/it, v_num=k8_1, total_loss_train=541, kl_local_train=79.2, metric_mi|age_categorical_train=0.234]"
     ]
    },
    {
     "name": "stdout",
     "output_type": "stream",
     "text": [
      "\r\n",
      "Epoch 600/600: 100%|██████████| 600/600 [5:24:51<00:00, 32.13s/it, v_num=k8_1, total_loss_train=541, kl_local_train=79.2, metric_mi|age_categorical_train=0.234]"
     ]
    },
    {
     "name": "stdout",
     "output_type": "stream",
     "text": [
      "\r\n",
      "Epoch 600/600: 100%|██████████| 600/600 [5:24:51<00:00, 32.13s/it, v_num=k8_1, total_loss_train=541, kl_local_train=79.2, metric_mi|age_categorical_train=0.234]"
     ]
    },
    {
     "name": "stderr",
     "output_type": "stream",
     "text": [
      "`Trainer.fit` stopped: `max_epochs=600` reached.\n"
     ]
    },
    {
     "name": "stdout",
     "output_type": "stream",
     "text": [
      "\r\n",
      "Epoch 600/600: 100%|██████████| 600/600 [5:24:52<00:00, 32.49s/it, v_num=k8_1, total_loss_train=541, kl_local_train=79.2, metric_mi|age_categorical_train=0.234]"
     ]
    },
    {
     "name": "stdout",
     "output_type": "stream",
     "text": [
      "\n"
     ]
    },
    {
     "name": "stdout",
     "output_type": "stream",
     "text": [
      "W&B logger finalized successfully: \n",
      "Exit Code: 0\n",
      "\n"
     ]
    }
   ],
   "source": [
    "n_epochs_kl_warmup = 600\n",
    "\n",
    "model_params = dict(\n",
    "    n_hidden=512,\n",
    "    n_layers=3, \n",
    "    n_latent=(24 + 8 * len(disentenglement_targets_configurations)),\n",
    "    gene_likelihood = \"nb\",\n",
    "    use_batch_norm = \"none\",\n",
    "    use_layer_norm = \"both\",\n",
    "    dropout_rate = 0.25,\n",
    "    deeply_inject_disentengled_latents = True,\n",
    "    include_auxillary_loss = True,\n",
    "    beta_kl_weight = 0.5,\n",
    "    encode_covariates=False\n",
    ")\n",
    "\n",
    "train_params = dict(\n",
    "    max_epochs=600,\n",
    "    train_size=0.8,\n",
    "    batch_size=128,\n",
    "    check_val_every_n_epoch=10,\n",
    "    limit_train_batches=0.1, \n",
    "    limit_val_batches=0.1,\n",
    "    learning_rate_monitor=True,\n",
    "    # early stopping:\n",
    "    early_stopping=False,\n",
    "    early_stopping_patience=150,\n",
    "    early_stopping_monitor=\"elbo_train\",\n",
    "    plan_kwargs = dict(\n",
    "        n_epochs_kl_warmup=n_epochs_kl_warmup,\n",
    "        lr=1e-4,\n",
    "        weight_decay=1e-4,\n",
    "        optimizer=\"AdamW\",\n",
    "        # lr-scheduler:\n",
    "        reduce_lr_on_plateau=True,\n",
    "        lr_patience=100,\n",
    "        lr_scheduler_metric=\"elbo_train\",\n",
    "    )\n",
    ")\n",
    "\n",
    "dataset_params = dict(\n",
    "    layer=None, \n",
    "    labels_key=None,\n",
    "    batch_key=None,\n",
    "    categorical_covariate_keys=None,\n",
    "    disentenglement_targets_configurations=disentenglement_targets_configurations,\n",
    "    model_level_metrics=model_level_metrics,\n",
    "    model_level_metrics_helper_covariates=['age_categorical']\n",
    ")\n",
    "\n",
    "tardis.MyModel.setup_anndata(adata, **dataset_params)\n",
    "dataset_params[\"adata_path\"] = adata_file_path\n",
    "dataset_params[\"adata\"] = os.path.split(adata_file_path)[1]\n",
    "\n",
    "tardis.MyModel.setup_wandb(\n",
    "    wandb_configurations=tardis.config.wandb,\n",
    "    hyperparams=dict(\n",
    "        model_params=model_params,\n",
    "        train_params=train_params,\n",
    "        dataset_params=dataset_params,\n",
    "    )\n",
    ")\n",
    "\n",
    "vae = tardis.MyModel(\n",
    "    adata,\n",
    "    **model_params\n",
    ")\n",
    "vae.train(**train_params)\n",
    "\n",
    "dir_path = os.path.join(\n",
    "    tardis.config.io_directories[\"models\"],\n",
    "    \"braun_age-continuous_1_encode\"\n",
    ")\n",
    "\n",
    "vae.save(\n",
    "    dir_path,\n",
    "    overwrite=True,\n",
    ")"
   ]
  },
  {
   "cell_type": "code",
   "execution_count": null,
   "id": "0fc4f365-b7a0-4c4d-92b9-993c53327048",
   "metadata": {},
   "outputs": [],
   "source": [
    "# vae.get_reconstruction_r2_training(top_n=[])"
   ]
  },
  {
   "cell_type": "code",
   "execution_count": null,
   "id": "6d9b0307-9421-490b-8024-0c6bda8c18e3",
   "metadata": {},
   "outputs": [],
   "source": [
    "adata.obs[\"validation\"] = \"train\"\n",
    "adata.obs[\"validation\"].iloc[vae.validation_indices] = \"validation\""
   ]
  },
  {
   "cell_type": "code",
   "execution_count": null,
   "id": "04982e03-16d4-4a56-894b-5b1ff00f5655",
   "metadata": {},
   "outputs": [],
   "source": [
    "vae.plot_training_history(\n",
    "    ignore_first=0,\n",
    "    n_col=4,\n",
    "    metrics_name=[\"metric_mi|age_categorical\", \"reconstruction_loss\", \"kl_local\"]\n",
    ")"
   ]
  },
  {
   "cell_type": "code",
   "execution_count": null,
   "id": "ccd6d863-6767-4d28-b837-3c0315ba9fa5",
   "metadata": {},
   "outputs": [],
   "source": [
    "from tardis._disentanglementmanager import DisentanglementManager as DM"
   ]
  },
  {
   "cell_type": "code",
   "execution_count": null,
   "id": "22710fb8-6c76-4e95-8290-6eff478ad7c9",
   "metadata": {},
   "outputs": [],
   "source": [
    "latent = ad.AnnData(X=vae.get_latent_representation(), obs=adata.obs.copy())\n",
    "rsc.utils.anndata_to_GPU(latent)\n",
    "rsc.pp.neighbors(latent)\n",
    "rsc.tl.umap(latent)\n",
    "\n",
    "with warnings.catch_warnings():\n",
    "    warnings.simplefilter(\"ignore\")\n",
    "    sc.pl.umap(\n",
    "        latent, \n",
    "        color=['age', 'age_categorical', 'cell_type', 'validation'], \n",
    "        ncols=4,\n",
    "        frameon=False,\n",
    "        legend_fontsize=\"xx-small\"\n",
    "    )"
   ]
  },
  {
   "cell_type": "code",
   "execution_count": null,
   "id": "fe7ba4f6-ba59-46dc-a35e-64b7aa078e43",
   "metadata": {},
   "outputs": [],
   "source": [
    "sublatent = DM.configurations.get_by_obs_key(\"age_training\").reserved_latent_indices\n",
    "latent = ad.AnnData(X=vae.get_latent_representation()[:, sublatent], obs=adata.obs.copy())\n",
    "rsc.utils.anndata_to_GPU(latent)\n",
    "rsc.pp.neighbors(latent)\n",
    "rsc.tl.umap(latent)\n",
    "\n",
    "with warnings.catch_warnings():\n",
    "    warnings.simplefilter(\"ignore\")\n",
    "    sc.pl.umap(\n",
    "        latent, \n",
    "        color=['age', 'age_categorical', 'cell_type', 'validation'], \n",
    "        ncols=4,\n",
    "        frameon=False,\n",
    "        legend_fontsize=\"xx-small\"\n",
    "    )"
   ]
  },
  {
   "cell_type": "code",
   "execution_count": null,
   "id": "462de488-c98d-4b0f-9fe8-b1fa33848cba",
   "metadata": {},
   "outputs": [],
   "source": [
    "sublatent = DM.configurations.unreserved_latent_indices\n",
    "latent = ad.AnnData(X=vae.get_latent_representation()[:, sublatent], obs=adata.obs.copy())\n",
    "rsc.utils.anndata_to_GPU(latent)\n",
    "rsc.pp.neighbors(latent)\n",
    "rsc.tl.umap(latent)\n",
    "\n",
    "with warnings.catch_warnings():\n",
    "    warnings.simplefilter(\"ignore\")\n",
    "    sc.pl.umap(\n",
    "        latent, \n",
    "        color=['age', 'age_categorical', 'cell_type', 'validation'], \n",
    "        ncols=4,\n",
    "        frameon=False,\n",
    "        legend_fontsize=\"xx-small\"\n",
    "    )"
   ]
  },
  {
   "cell_type": "code",
   "execution_count": null,
   "id": "670232e0-8d4e-4ce6-bc14-cb03124231e4",
   "metadata": {},
   "outputs": [],
   "source": []
  }
 ],
 "metadata": {
  "kernelspec": {
   "display_name": "Python 3 (ipykernel)",
   "language": "python",
   "name": "python3"
  },
  "language_info": {
   "codemirror_mode": {
    "name": "ipython",
    "version": 3
   },
   "file_extension": ".py",
   "mimetype": "text/x-python",
   "name": "python",
   "nbconvert_exporter": "python",
   "pygments_lexer": "ipython3",
   "version": "3.10.14"
  }
 },
 "nbformat": 4,
 "nbformat_minor": 5
}
