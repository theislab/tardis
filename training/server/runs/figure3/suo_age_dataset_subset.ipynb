{
 "cells": [
  {
   "cell_type": "markdown",
   "id": "7a174ddf-1bac-4261-a2df-155cc7e8fc31",
   "metadata": {},
   "source": [
    "# Suo"
   ]
  },
  {
   "cell_type": "code",
   "execution_count": 1,
   "id": "bd13e0f4-b441-4653-bf08-f2812d58f844",
   "metadata": {
    "execution": {
     "iopub.execute_input": "2024-05-04T13:47:40.644345Z",
     "iopub.status.busy": "2024-05-04T13:47:40.643618Z",
     "iopub.status.idle": "2024-05-04T13:47:40.655717Z",
     "shell.execute_reply": "2024-05-04T13:47:40.654962Z"
    }
   },
   "outputs": [],
   "source": [
    "import warnings\n",
    "import os\n",
    "import sys\n",
    "import gc\n",
    "import warnings"
   ]
  },
  {
   "cell_type": "code",
   "execution_count": 2,
   "id": "0d362b42-a27d-486f-9c83-f52a59bfc6a5",
   "metadata": {
    "execution": {
     "iopub.execute_input": "2024-05-04T13:47:40.659709Z",
     "iopub.status.busy": "2024-05-04T13:47:40.659461Z",
     "iopub.status.idle": "2024-05-04T13:48:09.680709Z",
     "shell.execute_reply": "2024-05-04T13:48:09.679877Z"
    }
   },
   "outputs": [],
   "source": [
    "import anndata as ad\n",
    "import scanpy as sc\n",
    "import copy\n",
    "import torch\n",
    "from pathlib import Path\n",
    "import networkx as nx\n",
    "from sklearn.neighbors import kneighbors_graph\n",
    "import numpy as np\n",
    "import scanpy as sc\n",
    "import pandas as pd\n",
    "import numpy as np\n",
    "import scipy.stats\n",
    "\n",
    "sys.path.append(\"/home/icb/kemal.inecik/work/codes/tardis\")\n",
    "import tardis\n",
    "tardis.config = tardis.config_server"
   ]
  },
  {
   "cell_type": "code",
   "execution_count": 3,
   "id": "6e834108-5b88-402d-94c9-c8002c7a927a",
   "metadata": {
    "execution": {
     "iopub.execute_input": "2024-05-04T13:48:09.687085Z",
     "iopub.status.busy": "2024-05-04T13:48:09.685556Z",
     "iopub.status.idle": "2024-05-04T13:48:09.691475Z",
     "shell.execute_reply": "2024-05-04T13:48:09.690785Z"
    }
   },
   "outputs": [
    {
     "name": "stdout",
     "output_type": "stream",
     "text": [
      "CUDA used: False\n"
     ]
    }
   ],
   "source": [
    "print(f\"CUDA used: {torch.cuda.is_available()}\")"
   ]
  },
  {
   "cell_type": "code",
   "execution_count": 4,
   "id": "f0a8fa63-54f9-4cc9-aa2c-e2f1ce8ec9e8",
   "metadata": {
    "execution": {
     "iopub.execute_input": "2024-05-04T13:48:09.696475Z",
     "iopub.status.busy": "2024-05-04T13:48:09.695904Z",
     "iopub.status.idle": "2024-05-04T13:48:09.723212Z",
     "shell.execute_reply": "2024-05-04T13:48:09.722487Z"
    }
   },
   "outputs": [],
   "source": [
    "%matplotlib inline\n",
    "%config InlineBackend.figure_format='retina'\n",
    "import matplotlib.pyplot as plt\n",
    "import seaborn as sns\n",
    "\n",
    "import pickle\n",
    "_rcparams_path = \"/home/icb/kemal.inecik/work/codes/tardis/training/local/figures/rcparams.pickle\"\n",
    "with open(_rcparams_path, 'rb') as file:\n",
    "    _rcparams = pickle.load(file)\n",
    "plt.rcParams.update(_rcparams)"
   ]
  },
  {
   "cell_type": "code",
   "execution_count": 5,
   "id": "ea9ee642-93ef-4cbc-b83c-5e9f16122b7d",
   "metadata": {
    "execution": {
     "iopub.execute_input": "2024-05-04T13:48:09.727299Z",
     "iopub.status.busy": "2024-05-04T13:48:09.727129Z",
     "iopub.status.idle": "2024-05-04T13:48:14.006585Z",
     "shell.execute_reply": "2024-05-04T13:48:14.005835Z"
    }
   },
   "outputs": [
    {
     "name": "stdout",
     "output_type": "stream",
     "text": [
      "/lustre/groups/ml01/workspace/kemal.inecik/tardis_data/processed/dataset_complete_Suo.h5ad\n"
     ]
    },
    {
     "name": "stdout",
     "output_type": "stream",
     "text": [
      "AnnData object with n_obs × n_vars = 841922 × 8192\n",
      "    obs: 'sample_ID', 'organ', 'age', 'cell_type', 'sex', 'sex_inferred', 'concatenated_integration_covariates', 'integration_donor', 'integration_biological_unit', 'integration_sample_status', 'integration_library_platform_coarse', 'n_genes'\n",
      "    uns: 'rank_genes_groups'\n",
      "    obsm: 'Unintegrated', 'X_pca', 'harmony'\n"
     ]
    }
   ],
   "source": [
    "adata_file_path = os.path.join(tardis.config.io_directories[\"processed\"], \"dataset_complete_Suo.h5ad\")\n",
    "assert os.path.isfile(adata_file_path), f\"File not already exist: `{adata_file_path}`\"\n",
    "adata = ad.read_h5ad(adata_file_path)\n",
    "print(adata_file_path, flush=True)\n",
    "print(adata, flush=True)"
   ]
  },
  {
   "cell_type": "code",
   "execution_count": 6,
   "id": "49b932c2-7ff4-47f7-aa04-cf4beafdfe66",
   "metadata": {
    "execution": {
     "iopub.execute_input": "2024-05-04T13:48:14.012063Z",
     "iopub.status.busy": "2024-05-04T13:48:14.011879Z",
     "iopub.status.idle": "2024-05-04T13:48:14.068433Z",
     "shell.execute_reply": "2024-05-04T13:48:14.067744Z"
    }
   },
   "outputs": [
    {
     "data": {
      "text/plain": [
       "organ                  integration_library_platform_coarse\n",
       "Bone_marrow            3GEX                                    38316\n",
       "                       5GEX                                    55351\n",
       "Gut                    3GEX                                    22450\n",
       "                       5GEX                                    50454\n",
       "Kidney                 3GEX                                    16092\n",
       "                       5GEX                                     2962\n",
       "Liver                  3GEX                                   136327\n",
       "                       5GEX                                    69829\n",
       "Mesenteric_lymph_node  3GEX                                        0\n",
       "                       5GEX                                     5902\n",
       "Skin                   3GEX                                    69359\n",
       "                       5GEX                                    95406\n",
       "Spleen                 3GEX                                    47264\n",
       "                       5GEX                                    79091\n",
       "Thymus                 3GEX                                    53028\n",
       "                       5GEX                                    50298\n",
       "Yolk_sac               3GEX                                    14205\n",
       "                       5GEX                                    35588\n",
       "dtype: int64"
      ]
     },
     "metadata": {},
     "output_type": "display_data"
    }
   ],
   "source": [
    "with pd.option_context('display.max_rows', None):\n",
    "    k = adata.obs.groupby([\"organ\", \"integration_library_platform_coarse\"]).size()\n",
    "    display(k)"
   ]
  },
  {
   "cell_type": "code",
   "execution_count": 7,
   "id": "0a4abb70-7718-47af-80b8-d28990c01646",
   "metadata": {
    "execution": {
     "iopub.execute_input": "2024-05-04T13:48:14.073632Z",
     "iopub.status.busy": "2024-05-04T13:48:14.073324Z",
     "iopub.status.idle": "2024-05-04T13:48:14.122312Z",
     "shell.execute_reply": "2024-05-04T13:48:14.121617Z"
    }
   },
   "outputs": [
    {
     "data": {
      "text/plain": [
       "organ                  age   integration_donor\n",
       "Bone_marrow            12.0  F45_Suo_et_al        11538\n",
       "                       13.0  F38_Suo_et_al         3135\n",
       "                       14.0  F30_Suo_et_al        12129\n",
       "                             F51_Suo_et_al        21471\n",
       "                       15.0  F50_Suo_et_al        12317\n",
       "                       16.0  F21_Suo_et_al         6064\n",
       "                             F41_Suo_et_al        12175\n",
       "                       17.0  F29_Suo_et_al        14838\n",
       "Gut                    12.0  F67_Suo_et_al         8706\n",
       "                       15.0  F66_Suo_et_al        13744\n",
       "                             F73_Suo_et_al        26093\n",
       "                       16.0  F72_Suo_et_al        19029\n",
       "                       17.0  F78_Suo_et_al         5332\n",
       "Kidney                 7.0   F35_Suo_et_al         5106\n",
       "                       12.0  F45_Suo_et_al         3546\n",
       "                       13.0  F38_Suo_et_al         4092\n",
       "                       16.0  F41_Suo_et_al         6310\n",
       "Liver                  7.0   F32_Suo_et_al        12384\n",
       "                             F35_Suo_et_al         6667\n",
       "                             F61_Suo_et_al        29312\n",
       "                       8.0   F34_Suo_et_al        24030\n",
       "                       9.0   F22_Suo_et_al        14719\n",
       "                             F33_Suo_et_al        23815\n",
       "                       10.0  F19_Suo_et_al           63\n",
       "                       11.0  F23_Suo_et_al         7463\n",
       "                       12.0  F45_Suo_et_al        17310\n",
       "                       13.0  F38_Suo_et_al        13982\n",
       "                       14.0  F30_Suo_et_al        18640\n",
       "                       16.0  F21_Suo_et_al         9266\n",
       "                             F41_Suo_et_al        18285\n",
       "                       17.0  F29_Suo_et_al        10220\n",
       "Mesenteric_lymph_node  16.0  F72_Suo_et_al         2795\n",
       "                       17.0  F78_Suo_et_al         3107\n",
       "Skin                   7.0   F32_Suo_et_al        10635\n",
       "                             F35_Suo_et_al         7955\n",
       "                             F61_Suo_et_al         9517\n",
       "                       8.0   F34_Suo_et_al        15104\n",
       "                       9.0   F33_Suo_et_al        14691\n",
       "                       10.0  F19_Suo_et_al         5209\n",
       "                       11.0  F69_Suo_et_al        15553\n",
       "                       12.0  F45_Suo_et_al         7499\n",
       "                       13.0  F38_Suo_et_al        10364\n",
       "                       14.0  F51_Suo_et_al        25285\n",
       "                             F71_Suo_et_al        21402\n",
       "                       15.0  F50_Suo_et_al        18128\n",
       "                       16.0  F41_Suo_et_al         3423\n",
       "Spleen                 9.0   F22_Suo_et_al          349\n",
       "                       11.0  F23_Suo_et_al         9444\n",
       "                             F69_Suo_et_al         1952\n",
       "                       12.0  F45_Suo_et_al        18795\n",
       "                       13.0  F38_Suo_et_al         6685\n",
       "                       14.0  F30_Suo_et_al        11767\n",
       "                             F51_Suo_et_al        38088\n",
       "                       15.0  F50_Suo_et_al        19354\n",
       "                       16.0  F21_Suo_et_al         9212\n",
       "                       17.0  F29_Suo_et_al        10709\n",
       "Thymus                 7.0   F32_Suo_et_al         4376\n",
       "                       9.0   F22_Suo_et_al           14\n",
       "                       11.0  F23_Suo_et_al         5508\n",
       "                             F64_Suo_et_al         7597\n",
       "                       12.0  F45_Suo_et_al        19500\n",
       "                             F67_Suo_et_al        18662\n",
       "                       13.0  F38_Suo_et_al         8262\n",
       "                       14.0  F30_Suo_et_al        11982\n",
       "                       16.0  F21_Suo_et_al         8291\n",
       "                             F41_Suo_et_al         8970\n",
       "                       17.0  F29_Suo_et_al        10164\n",
       "Yolk_sac               4.0   F37_Suo_et_al        12728\n",
       "                       7.0   F32_Suo_et_al          713\n",
       "                             F35_Suo_et_al          723\n",
       "                             F61_Suo_et_al        35588\n",
       "                       9.0   F22_Suo_et_al           41\n",
       "dtype: int64"
      ]
     },
     "metadata": {},
     "output_type": "display_data"
    }
   ],
   "source": [
    "with pd.option_context('display.max_rows', None):\n",
    "    k = adata.obs.groupby([\"organ\", \"age\", \"integration_donor\"]).size()\n",
    "    display(k[k!=0])"
   ]
  },
  {
   "cell_type": "code",
   "execution_count": 8,
   "id": "ad05381a-da81-4c0f-8ebb-5dbfd83660fa",
   "metadata": {
    "execution": {
     "iopub.execute_input": "2024-05-04T13:48:14.126490Z",
     "iopub.status.busy": "2024-05-04T13:48:14.126306Z",
     "iopub.status.idle": "2024-05-04T13:48:14.160621Z",
     "shell.execute_reply": "2024-05-04T13:48:14.159888Z"
    }
   },
   "outputs": [],
   "source": [
    "adata = adata[\n",
    "    (adata.obs[\"organ\"] == \"Liver \") \n",
    "    & (adata.obs[\"integration_library_platform_coarse\"] == \"3GEX\")\n",
    "    & (adata.obs[\"sex\"] == \"F\")\n",
    "]"
   ]
  },
  {
   "cell_type": "code",
   "execution_count": 9,
   "id": "c513c0e7-a5c7-4c7b-b97b-4747ac1fe901",
   "metadata": {
    "execution": {
     "iopub.execute_input": "2024-05-04T13:48:14.165456Z",
     "iopub.status.busy": "2024-05-04T13:48:14.165285Z",
     "iopub.status.idle": "2024-05-04T13:48:14.175997Z",
     "shell.execute_reply": "2024-05-04T13:48:14.175369Z"
    }
   },
   "outputs": [
    {
     "data": {
      "text/plain": [
       "age   sex  integration_donor\n",
       "7.0   F    F32_Suo_et_al         8483\n",
       "           F35_Suo_et_al         6667\n",
       "8.0   F    F34_Suo_et_al        19269\n",
       "9.0   F    F22_Suo_et_al        14719\n",
       "           F33_Suo_et_al        23815\n",
       "10.0  F    F19_Suo_et_al           63\n",
       "12.0  F    F45_Suo_et_al         6255\n",
       "16.0  F    F41_Suo_et_al         9700\n",
       "17.0  F    F29_Suo_et_al         7630\n",
       "dtype: int64"
      ]
     },
     "metadata": {},
     "output_type": "display_data"
    }
   ],
   "source": [
    "with pd.option_context('display.max_rows', None):\n",
    "    k = adata.obs.groupby([\"age\", \"sex\", \"integration_donor\"]).size()\n",
    "    display(k[k!=0])"
   ]
  },
  {
   "cell_type": "code",
   "execution_count": 10,
   "id": "2c121537-7f42-4701-9f67-34fa6a9eecfa",
   "metadata": {
    "execution": {
     "iopub.execute_input": "2024-05-04T13:48:14.179491Z",
     "iopub.status.busy": "2024-05-04T13:48:14.179328Z",
     "iopub.status.idle": "2024-05-04T13:48:14.208705Z",
     "shell.execute_reply": "2024-05-04T13:48:14.207997Z"
    }
   },
   "outputs": [],
   "source": [
    "donors = adata.obs.drop_duplicates([\"age\", \"sex\"])[\"integration_donor\"].to_list()\n",
    "adata = adata[\n",
    "    (adata.obs[\"integration_donor\"].isin(donors)) \n",
    "    & (adata.obs[\"age\"] != 10)\n",
    "]"
   ]
  },
  {
   "cell_type": "code",
   "execution_count": 11,
   "id": "27866f46-205e-486e-8922-3278a27be4ba",
   "metadata": {
    "execution": {
     "iopub.execute_input": "2024-05-04T13:48:14.213361Z",
     "iopub.status.busy": "2024-05-04T13:48:14.213127Z",
     "iopub.status.idle": "2024-05-04T13:48:14.224751Z",
     "shell.execute_reply": "2024-05-04T13:48:14.224104Z"
    }
   },
   "outputs": [
    {
     "data": {
      "text/plain": [
       "age   sex  integration_donor  integration_library_platform_coarse  organ   concatenated_integration_covariates\n",
       "7.0   F    F32_Suo_et_al      3GEX                                 Liver   F32_Suo_et_al_Cell_Fresh_3GEX           8483\n",
       "8.0   F    F34_Suo_et_al      3GEX                                 Liver   F34_Suo_et_al_Cell_Fresh_3GEX          19269\n",
       "9.0   F    F33_Suo_et_al      3GEX                                 Liver   F33_Suo_et_al_Cell_Fresh_3GEX          23815\n",
       "12.0  F    F45_Suo_et_al      3GEX                                 Liver   F45_Suo_et_al_Cell_Fresh_3GEX           6255\n",
       "16.0  F    F41_Suo_et_al      3GEX                                 Liver   F41_Suo_et_al_Cell_Fresh_3GEX           9700\n",
       "17.0  F    F29_Suo_et_al      3GEX                                 Liver   F29_Suo_et_al_Cell_Fresh_3GEX           7630\n",
       "dtype: int64"
      ]
     },
     "metadata": {},
     "output_type": "display_data"
    }
   ],
   "source": [
    "with pd.option_context('display.max_rows', None):\n",
    "    k = adata.obs.groupby([\"age\", \"sex\", \"integration_donor\", \"integration_library_platform_coarse\", \"organ\", \"concatenated_integration_covariates\"]).size()\n",
    "    display(k[k!=0])"
   ]
  },
  {
   "cell_type": "code",
   "execution_count": 12,
   "id": "d6c443b0-2982-4d53-9f43-71a2759d825b",
   "metadata": {
    "execution": {
     "iopub.execute_input": "2024-05-04T13:48:14.228089Z",
     "iopub.status.busy": "2024-05-04T13:48:14.227927Z",
     "iopub.status.idle": "2024-05-04T13:48:14.278717Z",
     "shell.execute_reply": "2024-05-04T13:48:14.277970Z"
    }
   },
   "outputs": [
    {
     "name": "stdout",
     "output_type": "stream",
     "text": [
      "73697\n"
     ]
    }
   ],
   "source": [
    "df = adata.obs.copy()\n",
    "group_sizes = df.groupby([\"cell_type\", \"age\"]).size()\n",
    "valid_groups = group_sizes[group_sizes > 30].index\n",
    "filtered_bool = df.set_index([\"cell_type\", \"age\"]).index.isin(valid_groups)\n",
    "print(filtered_bool.sum())\n",
    "adata = adata[filtered_bool]"
   ]
  },
  {
   "cell_type": "code",
   "execution_count": 13,
   "id": "f176058e-2ca5-4b7d-b8d5-641a75d65e4c",
   "metadata": {
    "execution": {
     "iopub.execute_input": "2024-05-04T13:48:14.282932Z",
     "iopub.status.busy": "2024-05-04T13:48:14.282744Z",
     "iopub.status.idle": "2024-05-04T13:48:14.297474Z",
     "shell.execute_reply": "2024-05-04T13:48:14.296804Z"
    }
   },
   "outputs": [
    {
     "data": {
      "text/plain": [
       "cell_type                              age \n",
       "B1 cells                               9.0       37\n",
       "                                       16.0      34\n",
       "CD4 T                                  16.0     173\n",
       "                                       17.0      88\n",
       "CD5- mature B                          9.0       59\n",
       "                                       16.0     111\n",
       "                                       17.0     156\n",
       "CD8 T                                  16.0      46\n",
       "CMP                                    8.0       53\n",
       "                                       9.0       48\n",
       "                                       12.0      38\n",
       "Cycling DC                             7.0       44\n",
       "                                       8.0       96\n",
       "                                       9.0       41\n",
       "                                       12.0      39\n",
       "                                       16.0      49\n",
       "                                       17.0      32\n",
       "Cycling ILC                            8.0       69\n",
       "                                       9.0       46\n",
       "Cycling MEMP                           7.0       45\n",
       "                                       8.0       56\n",
       "                                       16.0      55\n",
       "Cycling MPP                            7.0       51\n",
       "                                       8.0       89\n",
       "                                       9.0       92\n",
       "                                       12.0      42\n",
       "                                       17.0      83\n",
       "Cycling NK                             7.0      110\n",
       "                                       8.0      611\n",
       "                                       9.0     1196\n",
       "                                       12.0      88\n",
       "                                       16.0     102\n",
       "                                       17.0      57\n",
       "Cycling fibroblast                     8.0       45\n",
       "DC1                                    7.0       37\n",
       "                                       8.0       92\n",
       "                                       9.0       52\n",
       "                                       16.0      33\n",
       "DC2                                    7.0      122\n",
       "                                       8.0      502\n",
       "                                       9.0      191\n",
       "                                       12.0     167\n",
       "                                       16.0     417\n",
       "                                       17.0     243\n",
       "Early MK                               7.0      136\n",
       "                                       8.0      300\n",
       "                                       9.0      362\n",
       "                                       12.0      84\n",
       "                                       16.0     102\n",
       "                                       17.0     102\n",
       "Early erythroid                        7.0      495\n",
       "                                       8.0      772\n",
       "                                       9.0      864\n",
       "                                       12.0     392\n",
       "                                       16.0     574\n",
       "                                       17.0     602\n",
       "Endothelial cells                      7.0      584\n",
       "                                       8.0     1910\n",
       "                                       9.0     1382\n",
       "                                       12.0     469\n",
       "                                       16.0     484\n",
       "                                       17.0     697\n",
       "Eosinophil_basophil                    7.0       61\n",
       "                                       8.0       73\n",
       "                                       9.0       87\n",
       "Fibroblasts                            8.0      147\n",
       "                                       9.0       56\n",
       "GMP                                    8.0       43\n",
       "                                       9.0       57\n",
       "HSC_MPP                                7.0      154\n",
       "                                       8.0      170\n",
       "                                       9.0      137\n",
       "                                       12.0      80\n",
       "                                       16.0      67\n",
       "                                       17.0     183\n",
       "Hepatocyte                             7.0      221\n",
       "                                       8.0      473\n",
       "                                       9.0      368\n",
       "                                       12.0     362\n",
       "                                       17.0     199\n",
       "Hepatocyte-like cells                  7.0       51\n",
       "                                       8.0      121\n",
       "                                       9.0       50\n",
       "                                       12.0      72\n",
       "                                       16.0      93\n",
       "                                       17.0      66\n",
       "ILCP                                   7.0       59\n",
       "                                       8.0      251\n",
       "                                       9.0      448\n",
       "                                       12.0      40\n",
       "                                       16.0      41\n",
       "Immature B                             9.0       36\n",
       "                                       16.0     219\n",
       "                                       17.0     113\n",
       "Iron recycling macrophage              7.0     1476\n",
       "                                       8.0     3066\n",
       "                                       9.0     6456\n",
       "                                       12.0    1432\n",
       "                                       16.0    1289\n",
       "                                       17.0    1062\n",
       "Kupffer-like macrophage                7.0      254\n",
       "                                       8.0      939\n",
       "                                       9.0      348\n",
       "                                       12.0      53\n",
       "                                       16.0      36\n",
       "                                       17.0      79\n",
       "LYVE1+ macrophage                      7.0       72\n",
       "                                       8.0      270\n",
       "                                       9.0      120\n",
       "Large pre-B                            7.0       81\n",
       "                                       8.0       40\n",
       "                                       9.0       94\n",
       "                                       12.0     270\n",
       "                                       16.0     174\n",
       "                                       17.0     198\n",
       "Late MK                                7.0       47\n",
       "                                       8.0      107\n",
       "                                       9.0      134\n",
       "                                       12.0      44\n",
       "                                       16.0      40\n",
       "                                       17.0      40\n",
       "Late erythroid                         7.0       84\n",
       "                                       8.0      165\n",
       "                                       9.0       87\n",
       "                                       12.0      56\n",
       "                                       16.0     473\n",
       "                                       17.0      62\n",
       "Late pro-B                             9.0       81\n",
       "                                       16.0      56\n",
       "                                       17.0      46\n",
       "MEMP                                   7.0       69\n",
       "                                       8.0      105\n",
       "                                       9.0       49\n",
       "                                       16.0      90\n",
       "                                       17.0      45\n",
       "MEP                                    7.0      156\n",
       "                                       8.0      333\n",
       "                                       9.0      363\n",
       "                                       12.0      66\n",
       "                                       16.0     172\n",
       "                                       17.0     144\n",
       "Macrophage                             7.0      458\n",
       "                                       8.0     1725\n",
       "                                       9.0     1124\n",
       "                                       12.0     220\n",
       "                                       16.0     250\n",
       "                                       17.0     201\n",
       "Macrophage phagocytosing erythrocytes  7.0       59\n",
       "                                       8.0      255\n",
       "                                       9.0      323\n",
       "                                       12.0      49\n",
       "                                       16.0      31\n",
       "                                       17.0      73\n",
       "Mast                                   7.0       65\n",
       "                                       8.0       85\n",
       "                                       9.0       46\n",
       "                                       12.0     107\n",
       "Mid erythroid                          7.0     2417\n",
       "                                       8.0     3594\n",
       "                                       9.0     4190\n",
       "                                       12.0     991\n",
       "                                       16.0    2703\n",
       "                                       17.0    1861\n",
       "Monocytes                              7.0      235\n",
       "                                       8.0      633\n",
       "                                       9.0      592\n",
       "                                       12.0     155\n",
       "                                       16.0     239\n",
       "                                       17.0     154\n",
       "Muscle satellite cells                 9.0       38\n",
       "Myofibroblast                          8.0       57\n",
       "NK                                     7.0      101\n",
       "                                       8.0      560\n",
       "                                       9.0     2384\n",
       "                                       12.0     354\n",
       "                                       16.0     770\n",
       "                                       17.0     319\n",
       "NKT                                    9.0       92\n",
       "                                       16.0      57\n",
       "Neurons                                9.0      173\n",
       "Pre-pro-B cells                        7.0      120\n",
       "                                       8.0       70\n",
       "                                       9.0       46\n",
       "Pro-B                                  7.0       38\n",
       "                                       8.0       93\n",
       "                                       9.0      160\n",
       "                                       12.0      51\n",
       "                                       16.0      99\n",
       "                                       17.0      67\n",
       "Proliferating macrophage               7.0      252\n",
       "                                       8.0      750\n",
       "                                       9.0      795\n",
       "                                       12.0      81\n",
       "                                       16.0      36\n",
       "                                       17.0      56\n",
       "Promonocyte                            7.0       69\n",
       "                                       8.0       87\n",
       "                                       9.0      110\n",
       "                                       12.0      73\n",
       "                                       17.0      31\n",
       "Promyelocyte-like                      7.0       88\n",
       "                                       8.0      120\n",
       "                                       9.0      157\n",
       "                                       12.0      80\n",
       "                                       16.0      34\n",
       "Regulatory T cells                     16.0      46\n",
       "Small pre-B                            9.0       41\n",
       "                                       12.0      58\n",
       "                                       16.0     151\n",
       "                                       17.0     219\n",
       "Th17                                   16.0      44\n",
       "pDC                                    7.0       33\n",
       "                                       8.0       38\n",
       "                                       16.0      54\n",
       "                                       17.0      41\n",
       "dtype: int64"
      ]
     },
     "metadata": {},
     "output_type": "display_data"
    }
   ],
   "source": [
    "with pd.option_context('display.max_rows', None):\n",
    "    k = adata.obs.groupby([\"cell_type\", \"age\"]).size()\n",
    "    display(k[k>0])"
   ]
  },
  {
   "cell_type": "code",
   "execution_count": 14,
   "id": "f00cc942-a9ec-4da0-bb55-06b8291a687a",
   "metadata": {
    "execution": {
     "iopub.execute_input": "2024-05-04T13:48:14.302040Z",
     "iopub.status.busy": "2024-05-04T13:48:14.301873Z",
     "iopub.status.idle": "2024-05-04T13:48:14.306351Z",
     "shell.execute_reply": "2024-05-04T13:48:14.305730Z"
    }
   },
   "outputs": [
    {
     "data": {
      "text/plain": [
       "View of AnnData object with n_obs × n_vars = 73697 × 8192\n",
       "    obs: 'sample_ID', 'organ', 'age', 'cell_type', 'sex', 'sex_inferred', 'concatenated_integration_covariates', 'integration_donor', 'integration_biological_unit', 'integration_sample_status', 'integration_library_platform_coarse', 'n_genes'\n",
       "    uns: 'rank_genes_groups'\n",
       "    obsm: 'Unintegrated', 'X_pca', 'harmony'"
      ]
     },
     "execution_count": 14,
     "metadata": {},
     "output_type": "execute_result"
    }
   ],
   "source": [
    "adata"
   ]
  },
  {
   "cell_type": "code",
   "execution_count": 15,
   "id": "b0bcd217-e016-467f-8851-97826d01190d",
   "metadata": {
    "execution": {
     "iopub.execute_input": "2024-05-04T13:48:14.310678Z",
     "iopub.status.busy": "2024-05-04T13:48:14.310449Z",
     "iopub.status.idle": "2024-05-04T13:48:15.621423Z",
     "shell.execute_reply": "2024-05-04T13:48:15.620471Z"
    }
   },
   "outputs": [],
   "source": [
    "adata_write_path = os.path.join(tardis.config.io_directories[\"processed\"], \"dataset_complete_Suo_age.h5ad\")\n",
    "adata.write_h5ad(adata_write_path)"
   ]
  },
  {
   "cell_type": "code",
   "execution_count": null,
   "id": "54a33969-ee0b-4e44-acfd-fd03bb70be96",
   "metadata": {},
   "outputs": [],
   "source": []
  },
  {
   "cell_type": "code",
   "execution_count": null,
   "id": "35a5dbcf-763f-425b-8fb0-d914fcdefb6d",
   "metadata": {},
   "outputs": [],
   "source": []
  },
  {
   "cell_type": "code",
   "execution_count": null,
   "id": "718a4d71-7f61-4559-abad-f940973fee6c",
   "metadata": {},
   "outputs": [],
   "source": []
  },
  {
   "cell_type": "code",
   "execution_count": null,
   "id": "670232e0-8d4e-4ce6-bc14-cb03124231e4",
   "metadata": {},
   "outputs": [],
   "source": []
  }
 ],
 "metadata": {
  "kernelspec": {
   "display_name": "Python 3 (ipykernel)",
   "language": "python",
   "name": "python3"
  },
  "language_info": {
   "codemirror_mode": {
    "name": "ipython",
    "version": 3
   },
   "file_extension": ".py",
   "mimetype": "text/x-python",
   "name": "python",
   "nbconvert_exporter": "python",
   "pygments_lexer": "ipython3",
   "version": "3.10.14"
  }
 },
 "nbformat": 4,
 "nbformat_minor": 5
}
