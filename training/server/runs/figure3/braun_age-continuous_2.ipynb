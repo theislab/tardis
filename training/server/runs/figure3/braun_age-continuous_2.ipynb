{
 "cells": [
  {
   "cell_type": "markdown",
   "id": "7a174ddf-1bac-4261-a2df-155cc7e8fc31",
   "metadata": {},
   "source": [
    "# Suo"
   ]
  },
  {
   "cell_type": "code",
   "execution_count": null,
   "id": "bd13e0f4-b441-4653-bf08-f2812d58f844",
   "metadata": {},
   "outputs": [],
   "source": [
    "import warnings\n",
    "import os\n",
    "import sys\n",
    "import gc\n",
    "import warnings"
   ]
  },
  {
   "cell_type": "code",
   "execution_count": null,
   "id": "0d362b42-a27d-486f-9c83-f52a59bfc6a5",
   "metadata": {},
   "outputs": [],
   "source": [
    "import anndata as ad\n",
    "import scanpy as sc\n",
    "import copy\n",
    "import torch\n",
    "from pathlib import Path\n",
    "import networkx as nx\n",
    "from sklearn.neighbors import kneighbors_graph\n",
    "import rapids_singlecell as rsc\n",
    "import numpy as np\n",
    "import scanpy as sc\n",
    "import pandas as pd\n",
    "import numpy as np\n",
    "import scipy.stats\n",
    "\n",
    "sys.path.append(\"/home/icb/kemal.inecik/work/codes/tardis\")\n",
    "import tardis\n",
    "tardis.config = tardis.config_server"
   ]
  },
  {
   "cell_type": "code",
   "execution_count": null,
   "id": "6e834108-5b88-402d-94c9-c8002c7a927a",
   "metadata": {},
   "outputs": [],
   "source": [
    "print(f\"CUDA used: {torch.cuda.is_available()}\")"
   ]
  },
  {
   "cell_type": "code",
   "execution_count": null,
   "id": "f0a8fa63-54f9-4cc9-aa2c-e2f1ce8ec9e8",
   "metadata": {},
   "outputs": [],
   "source": [
    "%matplotlib inline\n",
    "%config InlineBackend.figure_format='retina'\n",
    "import matplotlib.pyplot as plt\n",
    "import seaborn as sns\n",
    "\n",
    "import pickle\n",
    "_rcparams_path = \"/home/icb/kemal.inecik/work/codes/tardis/training/local/figures/rcparams.pickle\"\n",
    "with open(_rcparams_path, 'rb') as file:\n",
    "    _rcparams = pickle.load(file)\n",
    "plt.rcParams.update(_rcparams)"
   ]
  },
  {
   "cell_type": "code",
   "execution_count": null,
   "id": "ea9ee642-93ef-4cbc-b83c-5e9f16122b7d",
   "metadata": {},
   "outputs": [
    {
     "name": "stdout",
     "output_type": "stream",
     "text": [
      "AnnData object with n_obs × n_vars = 73697 × 8192\n",
      "    obs: 'sample_ID', 'organ', 'age', 'cell_type', 'sex', 'sex_inferred', 'concatenated_integration_covariates', 'integration_donor', 'integration_biological_unit', 'integration_sample_status', 'integration_library_platform_coarse', 'n_genes', 'age_categorical'\n",
      "    uns: 'rank_genes_groups'\n",
      "    obsm: 'Unintegrated', 'X_pca', 'harmony'\n"
     ]
    }
   ],
   "source": [
    "adata_file_path = os.path.join(tardis.config.io_directories[\"processed\"], \"dataset_complete_Braun_age.h5ad\")\n",
    "assert os.path.isfile(adata_file_path), f\"File not already exist: `{adata_file_path}`\"\n",
    "adata = ad.read_h5ad(adata_file_path)\n",
    "adata.obs[\"age\"] = adata.obs[\"age\"].astype(float)\n",
    "adata.obs[\"age_categorical\"] = adata.obs[\"age\"].astype(str)\n",
    "d = {i: ind for ind, i in enumerate(sorted(adata.obs[\"age\"].astype(float).unique()))}\n",
    "adata.obs[\"age_training\"] = [d[float(i)] for i in adata.obs[\"age\"]]\n",
    "print(adata_file_path, flush=True)\n",
    "print(adata, flush=True)"
   ]
  },
  {
   "cell_type": "code",
   "execution_count": null,
   "id": "fd461c79",
   "metadata": {},
   "outputs": [],
   "source": [
    "model_level_metrics = [\n",
    "    dict(\n",
    "        metric_identifier = \"metric_mi|age_categorical\",\n",
    "        training_set = [\"train\", \"validation\"],\n",
    "        every_n_epoch = 5,\n",
    "        subsample = 0.25,\n",
    "        progress_bar = True,\n",
    "        metric_kwargs = dict(\n",
    "            variation = \"normalized\",\n",
    "            discretization_bins = 512,\n",
    "            latent_subset=None,\n",
    "            reduce=np.mean\n",
    "        )\n",
    "    )\n",
    "]"
   ]
  },
  {
   "cell_type": "code",
   "execution_count": null,
   "id": "c43333cc-9e19-469f-8452-11ff5ee08db9",
   "metadata": {},
   "outputs": [],
   "source": [
    "warmup_epoch_range = [6, 48]\n",
    "dtc_w1 = 100\n",
    "dtc_w2 = 10\n",
    "\n",
    "counteractive_minibatch_settings = dict(\n",
    "    method = \"categorical_random\",\n",
    "    method_kwargs = dict(\n",
    "        within_labels = False,\n",
    "        within_batch = False,\n",
    "        within_categorical_covs = None,\n",
    "        seed = \"forward\",\n",
    "    )\n",
    ")\n",
    "\n",
    "disentenglement_targets_configurations=[\n",
    "    dict(\n",
    "        obs_key = \"age_training\",\n",
    "        n_reserved_latent = 8,\n",
    "        counteractive_minibatch_settings = counteractive_minibatch_settings,\n",
    "        auxillary_losses = [\n",
    "            dict(\n",
    "                apply = True, \n",
    "                target_type=\"pseudo_categorical\",\n",
    "                non_categorical_coefficient_method=\"squared_difference\",\n",
    "                progress_bar = False,\n",
    "                weight = dtc_w1,\n",
    "                method = \"mse_z\", \n",
    "                latent_group = \"reserved\",\n",
    "                counteractive_example = \"negative\",\n",
    "                transformation = \"inverse\", \n",
    "                warmup_epoch_range=warmup_epoch_range,\n",
    "                method_kwargs = {}\n",
    "            ),\n",
    "            dict(\n",
    "                apply = True, \n",
    "                target_type=\"categorical\",\n",
    "                progress_bar = False,\n",
    "                weight = dtc_w2, \n",
    "                method = \"mse_z\", \n",
    "                latent_group = \"reserved\",\n",
    "                counteractive_example = \"positive\",\n",
    "                transformation = \"none\",\n",
    "                warmup_epoch_range=warmup_epoch_range,\n",
    "                method_kwargs = {}\n",
    "            ),\n",
    "            dict(\n",
    "                apply = True, \n",
    "                target_type=\"categorical\",\n",
    "                progress_bar = False,\n",
    "                weight = dtc_w2 * 1,\n",
    "                method = \"mse_z\", \n",
    "                latent_group = \"unreserved_complete\",\n",
    "                counteractive_example = \"negative\",\n",
    "                transformation = \"none\", \n",
    "                warmup_epoch_range=warmup_epoch_range,\n",
    "                method_kwargs = {}\n",
    "            ),\n",
    "            dict(\n",
    "                apply = True, \n",
    "                target_type=\"categorical\",\n",
    "                progress_bar = False,\n",
    "                weight = dtc_w1 * 1, \n",
    "                method = \"mse_z\", \n",
    "                latent_group = \"unreserved_complete\",\n",
    "                counteractive_example = \"positive\",\n",
    "                transformation = \"inverse\",\n",
    "                warmup_epoch_range=warmup_epoch_range,\n",
    "                method_kwargs = {}\n",
    "            ),\n",
    "        ]\n",
    "    )\n",
    "]"
   ]
  },
  {
   "cell_type": "code",
   "execution_count": null,
   "id": "af1962de-51e8-453c-907a-b338c1f82f88",
   "metadata": {
    "scrolled": true
   },
   "outputs": [
    {
     "name": "stderr",
     "output_type": "stream",
     "text": [
      "`Trainer(limit_val_batches=1.0)` was configured so 100% of the batches will be used..\n"
     ]
    },
    {
     "name": "stderr",
     "output_type": "stream",
     "text": [
      "/home/icb/kemal.inecik/tools/apps/mamba/envs/tardis_env/lib/python3.10/site-packages/lightning/fabric/plugins/environments/slurm.py:168: The `srun` command is available on your system but is not used. HINT: If your intention is to run Lightning on SLURM, prepend your python command with `srun` like so: srun python /home/icb/kemal.inecik/tools/apps/mamba/envs/tardis_ ...\n",
      "/home/icb/kemal.inecik/tools/apps/mamba/envs/tardis_env/lib/python3.10/site-packages/torch/optim/lr_scheduler.py:28: UserWarning: The verbose parameter is deprecated. Please use get_last_lr() to access the learning rate.\n",
      "  warnings.warn(\"The verbose parameter is deprecated. Please use get_last_lr() \"\n"
     ]
    },
    {
     "name": "stdout",
     "output_type": "stream",
     "text": [
      "\r\n",
      "Training:   0%|          | 0/600 [00:00<?, ?it/s]"
     ]
    },
    {
     "name": "stdout",
     "output_type": "stream",
     "text": [
      "\r\n",
      "Epoch 1/600:   0%|          | 0/600 [00:00<?, ?it/s]"
     ]
    },
    {
     "name": "stderr",
     "output_type": "stream",
     "text": [
      "/home/icb/kemal.inecik/work/codes/tardis/tardis/_counteractivegenerator.py:237: UserWarning: Possible group definition indices are calculated for `age_categorical` for `training` set. Number of elements in each group: 4797,7584,5813,6712,15218,18834\n",
      "  possible_indices = CachedPossibleGroupDefinitionIndices.get(\n"
     ]
    },
    {
     "name": "stderr",
     "output_type": "stream",
     "text": [
      "/home/icb/kemal.inecik/work/codes/tardis/tardis/_counteractivegenerator.py:237: UserWarning: Possible group definition indices are calculated for `age_categorical` for `validation` set. Number of elements in each group: 1216,1860,1506,1632,3747,4778\n",
      "  possible_indices = CachedPossibleGroupDefinitionIndices.get(\n"
     ]
    },
    {
     "name": "stdout",
     "output_type": "stream",
     "text": [
      "\r\n",
      "Epoch 1/600:   0%|          | 1/600 [00:55<9:14:44, 55.57s/it]"
     ]
    },
    {
     "name": "stdout",
     "output_type": "stream",
     "text": [
      "\r\n",
      "Epoch 1/600:   0%|          | 1/600 [00:55<9:14:44, 55.57s/it, v_num=in_1, total_loss_train=628, kl_local_train=38.8]"
     ]
    },
    {
     "name": "stdout",
     "output_type": "stream",
     "text": [
      "\r\n",
      "Epoch 2/600:   0%|          | 1/600 [00:55<9:14:44, 55.57s/it, v_num=in_1, total_loss_train=628, kl_local_train=38.8]"
     ]
    },
    {
     "name": "stdout",
     "output_type": "stream",
     "text": [
      "\r\n",
      "Epoch 2/600:   0%|          | 2/600 [01:48<8:58:03, 53.99s/it, v_num=in_1, total_loss_train=628, kl_local_train=38.8]"
     ]
    },
    {
     "name": "stdout",
     "output_type": "stream",
     "text": [
      "\r\n",
      "Epoch 2/600:   0%|          | 2/600 [01:48<8:58:03, 53.99s/it, v_num=in_1, total_loss_train=484, kl_local_train=70.6]"
     ]
    },
    {
     "name": "stdout",
     "output_type": "stream",
     "text": [
      "\r\n",
      "Epoch 3/600:   0%|          | 2/600 [01:48<8:58:03, 53.99s/it, v_num=in_1, total_loss_train=484, kl_local_train=70.6]"
     ]
    },
    {
     "name": "stdout",
     "output_type": "stream",
     "text": [
      "\r\n",
      "Epoch 3/600:   0%|          | 3/600 [02:41<8:52:46, 53.55s/it, v_num=in_1, total_loss_train=484, kl_local_train=70.6]"
     ]
    },
    {
     "name": "stdout",
     "output_type": "stream",
     "text": [
      "\r\n",
      "Epoch 3/600:   0%|          | 3/600 [02:41<8:52:46, 53.55s/it, v_num=in_1, total_loss_train=457, kl_local_train=79.5]"
     ]
    },
    {
     "name": "stdout",
     "output_type": "stream",
     "text": [
      "\r\n",
      "Epoch 4/600:   0%|          | 3/600 [02:41<8:52:46, 53.55s/it, v_num=in_1, total_loss_train=457, kl_local_train=79.5]"
     ]
    },
    {
     "name": "stdout",
     "output_type": "stream",
     "text": [
      "\r\n",
      "Epoch 4/600:   1%|          | 4/600 [03:34<8:50:25, 53.40s/it, v_num=in_1, total_loss_train=457, kl_local_train=79.5]"
     ]
    },
    {
     "name": "stdout",
     "output_type": "stream",
     "text": [
      "\r\n",
      "Epoch 4/600:   1%|          | 4/600 [03:34<8:50:25, 53.40s/it, v_num=in_1, total_loss_train=446, kl_local_train=86.5]"
     ]
    },
    {
     "name": "stdout",
     "output_type": "stream",
     "text": [
      "\r\n",
      "Epoch 5/600:   1%|          | 4/600 [03:34<8:50:25, 53.40s/it, v_num=in_1, total_loss_train=446, kl_local_train=86.5]"
     ]
    },
    {
     "name": "stdout",
     "output_type": "stream",
     "text": [
      "\r\n",
      "Epoch 5/600:   1%|          | 5/600 [04:28<8:49:23, 53.38s/it, v_num=in_1, total_loss_train=446, kl_local_train=86.5]"
     ]
    },
    {
     "name": "stdout",
     "output_type": "stream",
     "text": [
      "\r\n",
      "Epoch 5/600:   1%|          | 5/600 [04:28<8:49:23, 53.38s/it, v_num=in_1, total_loss_train=440, kl_local_train=89.4]"
     ]
    },
    {
     "name": "stdout",
     "output_type": "stream",
     "text": [
      "\r\n",
      "Epoch 6/600:   1%|          | 5/600 [04:28<8:49:23, 53.38s/it, v_num=in_1, total_loss_train=440, kl_local_train=89.4]"
     ]
    },
    {
     "name": "stdout",
     "output_type": "stream",
     "text": [
      "\r\n",
      "Epoch 6/600:   1%|          | 6/600 [05:16<8:30:28, 51.56s/it, v_num=in_1, total_loss_train=440, kl_local_train=89.4]"
     ]
    },
    {
     "name": "stdout",
     "output_type": "stream",
     "text": [
      "\r\n",
      "Epoch 6/600:   1%|          | 6/600 [05:16<8:30:28, 51.56s/it, v_num=in_1, total_loss_train=437, kl_local_train=89.2, metric_mi|age_categorical_train=0.0712]"
     ]
    },
    {
     "name": "stdout",
     "output_type": "stream",
     "text": [
      "\r\n",
      "Epoch 7/600:   1%|          | 6/600 [05:16<8:30:28, 51.56s/it, v_num=in_1, total_loss_train=437, kl_local_train=89.2, metric_mi|age_categorical_train=0.0712]"
     ]
    },
    {
     "name": "stdout",
     "output_type": "stream",
     "text": [
      "\r\n",
      "Epoch 7/600:   1%|          | 7/600 [06:03<8:15:10, 50.10s/it, v_num=in_1, total_loss_train=437, kl_local_train=89.2, metric_mi|age_categorical_train=0.0712]"
     ]
    },
    {
     "name": "stdout",
     "output_type": "stream",
     "text": [
      "\r\n",
      "Epoch 7/600:   1%|          | 7/600 [06:03<8:15:10, 50.10s/it, v_num=in_1, total_loss_train=434, kl_local_train=87.6, metric_mi|age_categorical_train=0.0712]"
     ]
    },
    {
     "name": "stdout",
     "output_type": "stream",
     "text": [
      "\r\n",
      "Epoch 8/600:   1%|          | 7/600 [06:03<8:15:10, 50.10s/it, v_num=in_1, total_loss_train=434, kl_local_train=87.6, metric_mi|age_categorical_train=0.0712]"
     ]
    },
    {
     "name": "stdout",
     "output_type": "stream",
     "text": [
      "\r\n",
      "Epoch 8/600:   1%|▏         | 8/600 [06:50<8:05:06, 49.17s/it, v_num=in_1, total_loss_train=434, kl_local_train=87.6, metric_mi|age_categorical_train=0.0712]"
     ]
    },
    {
     "name": "stdout",
     "output_type": "stream",
     "text": [
      "\r\n",
      "Epoch 8/600:   1%|▏         | 8/600 [06:50<8:05:06, 49.17s/it, v_num=in_1, total_loss_train=445, kl_local_train=102, metric_mi|age_categorical_train=0.0712] "
     ]
    },
    {
     "name": "stdout",
     "output_type": "stream",
     "text": [
      "\r\n",
      "Epoch 9/600:   1%|▏         | 8/600 [06:50<8:05:06, 49.17s/it, v_num=in_1, total_loss_train=445, kl_local_train=102, metric_mi|age_categorical_train=0.0712]"
     ]
    },
    {
     "name": "stdout",
     "output_type": "stream",
     "text": [
      "\r\n",
      "Epoch 9/600:   2%|▏         | 9/600 [07:37<7:58:02, 48.53s/it, v_num=in_1, total_loss_train=445, kl_local_train=102, metric_mi|age_categorical_train=0.0712]"
     ]
    },
    {
     "name": "stdout",
     "output_type": "stream",
     "text": [
      "\r\n",
      "Epoch 9/600:   2%|▏         | 9/600 [07:37<7:58:02, 48.53s/it, v_num=in_1, total_loss_train=453, kl_local_train=93.2, metric_mi|age_categorical_train=0.0712]"
     ]
    },
    {
     "name": "stdout",
     "output_type": "stream",
     "text": [
      "\r\n",
      "Epoch 10/600:   2%|▏         | 9/600 [07:37<7:58:02, 48.53s/it, v_num=in_1, total_loss_train=453, kl_local_train=93.2, metric_mi|age_categorical_train=0.0712]"
     ]
    },
    {
     "name": "stdout",
     "output_type": "stream",
     "text": [
      "\r\n",
      "Epoch 10/600:   2%|▏         | 10/600 [08:25<7:54:28, 48.25s/it, v_num=in_1, total_loss_train=453, kl_local_train=93.2, metric_mi|age_categorical_train=0.0712]"
     ]
    },
    {
     "name": "stdout",
     "output_type": "stream",
     "text": [
      "\r\n",
      "Epoch 10/600:   2%|▏         | 10/600 [08:25<7:54:28, 48.25s/it, v_num=in_1, total_loss_train=462, kl_local_train=85.3, metric_mi|age_categorical_train=0.0712]"
     ]
    },
    {
     "name": "stdout",
     "output_type": "stream",
     "text": [
      "\r\n",
      "Epoch 11/600:   2%|▏         | 10/600 [08:25<7:54:28, 48.25s/it, v_num=in_1, total_loss_train=462, kl_local_train=85.3, metric_mi|age_categorical_train=0.0712]"
     ]
    },
    {
     "name": "stdout",
     "output_type": "stream",
     "text": [
      "\r\n",
      "Epoch 11/600:   2%|▏         | 11/600 [09:13<7:53:05, 48.19s/it, v_num=in_1, total_loss_train=462, kl_local_train=85.3, metric_mi|age_categorical_train=0.0712]"
     ]
    },
    {
     "name": "stdout",
     "output_type": "stream",
     "text": [
      "\r\n",
      "Epoch 11/600:   2%|▏         | 11/600 [09:13<7:53:05, 48.19s/it, v_num=in_1, total_loss_train=470, kl_local_train=82.6, metric_mi|age_categorical_train=0.0702]"
     ]
    },
    {
     "name": "stdout",
     "output_type": "stream",
     "text": [
      "\r\n",
      "Epoch 12/600:   2%|▏         | 11/600 [09:13<7:53:05, 48.19s/it, v_num=in_1, total_loss_train=470, kl_local_train=82.6, metric_mi|age_categorical_train=0.0702]"
     ]
    },
    {
     "name": "stdout",
     "output_type": "stream",
     "text": [
      "\r\n",
      "Epoch 12/600:   2%|▏         | 12/600 [10:00<7:49:29, 47.91s/it, v_num=in_1, total_loss_train=470, kl_local_train=82.6, metric_mi|age_categorical_train=0.0702]"
     ]
    },
    {
     "name": "stdout",
     "output_type": "stream",
     "text": [
      "\r\n",
      "Epoch 12/600:   2%|▏         | 12/600 [10:00<7:49:29, 47.91s/it, v_num=in_1, total_loss_train=479, kl_local_train=82.3, metric_mi|age_categorical_train=0.0702]"
     ]
    },
    {
     "name": "stdout",
     "output_type": "stream",
     "text": [
      "\r\n",
      "Epoch 13/600:   2%|▏         | 12/600 [10:00<7:49:29, 47.91s/it, v_num=in_1, total_loss_train=479, kl_local_train=82.3, metric_mi|age_categorical_train=0.0702]"
     ]
    },
    {
     "name": "stdout",
     "output_type": "stream",
     "text": [
      "\r\n",
      "Epoch 13/600:   2%|▏         | 13/600 [10:47<7:47:32, 47.79s/it, v_num=in_1, total_loss_train=479, kl_local_train=82.3, metric_mi|age_categorical_train=0.0702]"
     ]
    },
    {
     "name": "stdout",
     "output_type": "stream",
     "text": [
      "\r\n",
      "Epoch 13/600:   2%|▏         | 13/600 [10:47<7:47:32, 47.79s/it, v_num=in_1, total_loss_train=489, kl_local_train=82.3, metric_mi|age_categorical_train=0.0702]"
     ]
    },
    {
     "name": "stdout",
     "output_type": "stream",
     "text": [
      "\r\n",
      "Epoch 14/600:   2%|▏         | 13/600 [10:47<7:47:32, 47.79s/it, v_num=in_1, total_loss_train=489, kl_local_train=82.3, metric_mi|age_categorical_train=0.0702]"
     ]
    },
    {
     "name": "stdout",
     "output_type": "stream",
     "text": [
      "\r\n",
      "Epoch 14/600:   2%|▏         | 14/600 [11:35<7:45:33, 47.67s/it, v_num=in_1, total_loss_train=489, kl_local_train=82.3, metric_mi|age_categorical_train=0.0702]"
     ]
    },
    {
     "name": "stdout",
     "output_type": "stream",
     "text": [
      "\r\n",
      "Epoch 14/600:   2%|▏         | 14/600 [11:35<7:45:33, 47.67s/it, v_num=in_1, total_loss_train=498, kl_local_train=84.6, metric_mi|age_categorical_train=0.0702]"
     ]
    },
    {
     "name": "stdout",
     "output_type": "stream",
     "text": [
      "\r\n",
      "Epoch 15/600:   2%|▏         | 14/600 [11:35<7:45:33, 47.67s/it, v_num=in_1, total_loss_train=498, kl_local_train=84.6, metric_mi|age_categorical_train=0.0702]"
     ]
    },
    {
     "name": "stdout",
     "output_type": "stream",
     "text": [
      "\r\n",
      "Epoch 15/600:   2%|▎         | 15/600 [12:22<7:44:03, 47.60s/it, v_num=in_1, total_loss_train=498, kl_local_train=84.6, metric_mi|age_categorical_train=0.0702]"
     ]
    },
    {
     "name": "stdout",
     "output_type": "stream",
     "text": [
      "\r\n",
      "Epoch 15/600:   2%|▎         | 15/600 [12:22<7:44:03, 47.60s/it, v_num=in_1, total_loss_train=506, kl_local_train=86.8, metric_mi|age_categorical_train=0.0702]"
     ]
    },
    {
     "name": "stdout",
     "output_type": "stream",
     "text": [
      "\r\n",
      "Epoch 16/600:   2%|▎         | 15/600 [12:23<7:44:03, 47.60s/it, v_num=in_1, total_loss_train=506, kl_local_train=86.8, metric_mi|age_categorical_train=0.0702]"
     ]
    },
    {
     "name": "stdout",
     "output_type": "stream",
     "text": [
      "\r\n",
      "Epoch 16/600:   3%|▎         | 16/600 [13:10<7:44:01, 47.67s/it, v_num=in_1, total_loss_train=506, kl_local_train=86.8, metric_mi|age_categorical_train=0.0702]"
     ]
    },
    {
     "name": "stdout",
     "output_type": "stream",
     "text": [
      "\r\n",
      "Epoch 16/600:   3%|▎         | 16/600 [13:10<7:44:01, 47.67s/it, v_num=in_1, total_loss_train=515, kl_local_train=96.1, metric_mi|age_categorical_train=0.07]  "
     ]
    },
    {
     "name": "stdout",
     "output_type": "stream",
     "text": [
      "\r\n",
      "Epoch 17/600:   3%|▎         | 16/600 [13:10<7:44:01, 47.67s/it, v_num=in_1, total_loss_train=515, kl_local_train=96.1, metric_mi|age_categorical_train=0.07]"
     ]
    },
    {
     "name": "stdout",
     "output_type": "stream",
     "text": [
      "\r\n",
      "Epoch 17/600:   3%|▎         | 17/600 [13:57<7:42:04, 47.55s/it, v_num=in_1, total_loss_train=515, kl_local_train=96.1, metric_mi|age_categorical_train=0.07]"
     ]
    },
    {
     "name": "stdout",
     "output_type": "stream",
     "text": [
      "\r\n",
      "Epoch 17/600:   3%|▎         | 17/600 [13:57<7:42:04, 47.55s/it, v_num=in_1, total_loss_train=512, kl_local_train=128, metric_mi|age_categorical_train=0.07] "
     ]
    },
    {
     "name": "stdout",
     "output_type": "stream",
     "text": [
      "\r\n",
      "Epoch 18/600:   3%|▎         | 17/600 [13:57<7:42:04, 47.55s/it, v_num=in_1, total_loss_train=512, kl_local_train=128, metric_mi|age_categorical_train=0.07]"
     ]
    },
    {
     "name": "stdout",
     "output_type": "stream",
     "text": [
      "\r\n",
      "Epoch 18/600:   3%|▎         | 18/600 [14:45<7:40:23, 47.46s/it, v_num=in_1, total_loss_train=512, kl_local_train=128, metric_mi|age_categorical_train=0.07]"
     ]
    },
    {
     "name": "stdout",
     "output_type": "stream",
     "text": [
      "\r\n",
      "Epoch 18/600:   3%|▎         | 18/600 [14:45<7:40:23, 47.46s/it, v_num=in_1, total_loss_train=482, kl_local_train=208, metric_mi|age_categorical_train=0.07]"
     ]
    },
    {
     "name": "stdout",
     "output_type": "stream",
     "text": [
      "\r\n",
      "Epoch 19/600:   3%|▎         | 18/600 [14:45<7:40:23, 47.46s/it, v_num=in_1, total_loss_train=482, kl_local_train=208, metric_mi|age_categorical_train=0.07]"
     ]
    },
    {
     "name": "stdout",
     "output_type": "stream",
     "text": [
      "\r\n",
      "Epoch 19/600:   3%|▎         | 19/600 [15:32<7:39:42, 47.47s/it, v_num=in_1, total_loss_train=482, kl_local_train=208, metric_mi|age_categorical_train=0.07]"
     ]
    },
    {
     "name": "stdout",
     "output_type": "stream",
     "text": [
      "\r\n",
      "Epoch 19/600:   3%|▎         | 19/600 [15:32<7:39:42, 47.47s/it, v_num=in_1, total_loss_train=473, kl_local_train=263, metric_mi|age_categorical_train=0.07]"
     ]
    },
    {
     "name": "stdout",
     "output_type": "stream",
     "text": [
      "\r\n",
      "Epoch 20/600:   3%|▎         | 19/600 [15:32<7:39:42, 47.47s/it, v_num=in_1, total_loss_train=473, kl_local_train=263, metric_mi|age_categorical_train=0.07]"
     ]
    },
    {
     "name": "stdout",
     "output_type": "stream",
     "text": [
      "\r\n",
      "Epoch 20/600:   3%|▎         | 20/600 [16:20<7:39:39, 47.55s/it, v_num=in_1, total_loss_train=473, kl_local_train=263, metric_mi|age_categorical_train=0.07]"
     ]
    },
    {
     "name": "stdout",
     "output_type": "stream",
     "text": [
      "\r\n",
      "Epoch 20/600:   3%|▎         | 20/600 [16:20<7:39:39, 47.55s/it, v_num=in_1, total_loss_train=472, kl_local_train=297, metric_mi|age_categorical_train=0.07]"
     ]
    },
    {
     "name": "stdout",
     "output_type": "stream",
     "text": [
      "\r\n",
      "Epoch 21/600:   3%|▎         | 20/600 [16:21<7:39:39, 47.55s/it, v_num=in_1, total_loss_train=472, kl_local_train=297, metric_mi|age_categorical_train=0.07]"
     ]
    },
    {
     "name": "stdout",
     "output_type": "stream",
     "text": [
      "\r\n",
      "Epoch 21/600:   4%|▎         | 21/600 [17:14<7:57:06, 49.44s/it, v_num=in_1, total_loss_train=472, kl_local_train=297, metric_mi|age_categorical_train=0.07]"
     ]
    },
    {
     "name": "stdout",
     "output_type": "stream",
     "text": [
      "\r\n",
      "Epoch 21/600:   4%|▎         | 21/600 [17:14<7:57:06, 49.44s/it, v_num=in_1, total_loss_train=473, kl_local_train=305, metric_mi|age_categorical_train=0.14]"
     ]
    },
    {
     "name": "stdout",
     "output_type": "stream",
     "text": [
      "\r\n",
      "Epoch 22/600:   4%|▎         | 21/600 [17:14<7:57:06, 49.44s/it, v_num=in_1, total_loss_train=473, kl_local_train=305, metric_mi|age_categorical_train=0.14]"
     ]
    },
    {
     "name": "stdout",
     "output_type": "stream",
     "text": [
      "\r\n",
      "Epoch 22/600:   4%|▎         | 22/600 [18:07<8:06:19, 50.48s/it, v_num=in_1, total_loss_train=473, kl_local_train=305, metric_mi|age_categorical_train=0.14]"
     ]
    },
    {
     "name": "stdout",
     "output_type": "stream",
     "text": [
      "\r\n",
      "Epoch 22/600:   4%|▎         | 22/600 [18:07<8:06:19, 50.48s/it, v_num=in_1, total_loss_train=474, kl_local_train=310, metric_mi|age_categorical_train=0.14]"
     ]
    },
    {
     "name": "stdout",
     "output_type": "stream",
     "text": [
      "\r\n",
      "Epoch 23/600:   4%|▎         | 22/600 [18:07<8:06:19, 50.48s/it, v_num=in_1, total_loss_train=474, kl_local_train=310, metric_mi|age_categorical_train=0.14]"
     ]
    },
    {
     "name": "stdout",
     "output_type": "stream",
     "text": [
      "\r\n",
      "Epoch 23/600:   4%|▍         | 23/600 [19:00<8:12:34, 51.22s/it, v_num=in_1, total_loss_train=474, kl_local_train=310, metric_mi|age_categorical_train=0.14]"
     ]
    },
    {
     "name": "stdout",
     "output_type": "stream",
     "text": [
      "\r\n",
      "Epoch 23/600:   4%|▍         | 23/600 [19:00<8:12:34, 51.22s/it, v_num=in_1, total_loss_train=475, kl_local_train=293, metric_mi|age_categorical_train=0.14]"
     ]
    },
    {
     "name": "stdout",
     "output_type": "stream",
     "text": [
      "\r\n",
      "Epoch 24/600:   4%|▍         | 23/600 [19:00<8:12:34, 51.22s/it, v_num=in_1, total_loss_train=475, kl_local_train=293, metric_mi|age_categorical_train=0.14]"
     ]
    },
    {
     "name": "stdout",
     "output_type": "stream",
     "text": [
      "\r\n",
      "Epoch 24/600:   4%|▍         | 24/600 [19:53<8:17:32, 51.83s/it, v_num=in_1, total_loss_train=475, kl_local_train=293, metric_mi|age_categorical_train=0.14]"
     ]
    },
    {
     "name": "stdout",
     "output_type": "stream",
     "text": [
      "\r\n",
      "Epoch 24/600:   4%|▍         | 24/600 [19:53<8:17:32, 51.83s/it, v_num=in_1, total_loss_train=476, kl_local_train=292, metric_mi|age_categorical_train=0.14]"
     ]
    },
    {
     "name": "stdout",
     "output_type": "stream",
     "text": [
      "\r\n",
      "Epoch 25/600:   4%|▍         | 24/600 [19:53<8:17:32, 51.83s/it, v_num=in_1, total_loss_train=476, kl_local_train=292, metric_mi|age_categorical_train=0.14]"
     ]
    },
    {
     "name": "stdout",
     "output_type": "stream",
     "text": [
      "\r\n",
      "Epoch 25/600:   4%|▍         | 25/600 [20:47<8:22:52, 52.47s/it, v_num=in_1, total_loss_train=476, kl_local_train=292, metric_mi|age_categorical_train=0.14]"
     ]
    },
    {
     "name": "stdout",
     "output_type": "stream",
     "text": [
      "\r\n",
      "Epoch 25/600:   4%|▍         | 25/600 [20:47<8:22:52, 52.47s/it, v_num=in_1, total_loss_train=478, kl_local_train=284, metric_mi|age_categorical_train=0.14]"
     ]
    },
    {
     "name": "stdout",
     "output_type": "stream",
     "text": [
      "\r\n",
      "Epoch 26/600:   4%|▍         | 25/600 [20:48<8:22:52, 52.47s/it, v_num=in_1, total_loss_train=478, kl_local_train=284, metric_mi|age_categorical_train=0.14]"
     ]
    },
    {
     "name": "stdout",
     "output_type": "stream",
     "text": [
      "\r\n",
      "Epoch 26/600:   4%|▍         | 26/600 [21:41<8:25:53, 52.88s/it, v_num=in_1, total_loss_train=478, kl_local_train=284, metric_mi|age_categorical_train=0.14]"
     ]
    },
    {
     "name": "stdout",
     "output_type": "stream",
     "text": [
      "\r\n",
      "Epoch 26/600:   4%|▍         | 26/600 [21:41<8:25:53, 52.88s/it, v_num=in_1, total_loss_train=479, kl_local_train=276, metric_mi|age_categorical_train=0.164]"
     ]
    },
    {
     "name": "stdout",
     "output_type": "stream",
     "text": [
      "\r\n",
      "Epoch 27/600:   4%|▍         | 26/600 [21:41<8:25:53, 52.88s/it, v_num=in_1, total_loss_train=479, kl_local_train=276, metric_mi|age_categorical_train=0.164]"
     ]
    },
    {
     "name": "stdout",
     "output_type": "stream",
     "text": [
      "\r\n",
      "Epoch 27/600:   4%|▍         | 27/600 [22:33<8:25:02, 52.88s/it, v_num=in_1, total_loss_train=479, kl_local_train=276, metric_mi|age_categorical_train=0.164]"
     ]
    },
    {
     "name": "stdout",
     "output_type": "stream",
     "text": [
      "\r\n",
      "Epoch 27/600:   4%|▍         | 27/600 [22:33<8:25:02, 52.88s/it, v_num=in_1, total_loss_train=481, kl_local_train=272, metric_mi|age_categorical_train=0.164]"
     ]
    },
    {
     "name": "stdout",
     "output_type": "stream",
     "text": [
      "\r\n",
      "Epoch 28/600:   4%|▍         | 27/600 [22:33<8:25:02, 52.88s/it, v_num=in_1, total_loss_train=481, kl_local_train=272, metric_mi|age_categorical_train=0.164]"
     ]
    },
    {
     "name": "stdout",
     "output_type": "stream",
     "text": [
      "\r\n",
      "Epoch 28/600:   5%|▍         | 28/600 [23:26<8:24:21, 52.90s/it, v_num=in_1, total_loss_train=481, kl_local_train=272, metric_mi|age_categorical_train=0.164]"
     ]
    },
    {
     "name": "stdout",
     "output_type": "stream",
     "text": [
      "\r\n",
      "Epoch 28/600:   5%|▍         | 28/600 [23:26<8:24:21, 52.90s/it, v_num=in_1, total_loss_train=483, kl_local_train=273, metric_mi|age_categorical_train=0.164]"
     ]
    },
    {
     "name": "stdout",
     "output_type": "stream",
     "text": [
      "\r\n",
      "Epoch 29/600:   5%|▍         | 28/600 [23:26<8:24:21, 52.90s/it, v_num=in_1, total_loss_train=483, kl_local_train=273, metric_mi|age_categorical_train=0.164]"
     ]
    },
    {
     "name": "stdout",
     "output_type": "stream",
     "text": [
      "\r\n",
      "Epoch 29/600:   5%|▍         | 29/600 [24:19<8:23:31, 52.91s/it, v_num=in_1, total_loss_train=483, kl_local_train=273, metric_mi|age_categorical_train=0.164]"
     ]
    },
    {
     "name": "stdout",
     "output_type": "stream",
     "text": [
      "\r\n",
      "Epoch 29/600:   5%|▍         | 29/600 [24:19<8:23:31, 52.91s/it, v_num=in_1, total_loss_train=485, kl_local_train=275, metric_mi|age_categorical_train=0.164]"
     ]
    },
    {
     "name": "stdout",
     "output_type": "stream",
     "text": [
      "\r\n",
      "Epoch 30/600:   5%|▍         | 29/600 [24:19<8:23:31, 52.91s/it, v_num=in_1, total_loss_train=485, kl_local_train=275, metric_mi|age_categorical_train=0.164]"
     ]
    },
    {
     "name": "stdout",
     "output_type": "stream",
     "text": [
      "\r\n",
      "Epoch 30/600:   5%|▌         | 30/600 [25:13<8:24:25, 53.10s/it, v_num=in_1, total_loss_train=485, kl_local_train=275, metric_mi|age_categorical_train=0.164]"
     ]
    },
    {
     "name": "stdout",
     "output_type": "stream",
     "text": [
      "\r\n",
      "Epoch 30/600:   5%|▌         | 30/600 [25:13<8:24:25, 53.10s/it, v_num=in_1, total_loss_train=487, kl_local_train=265, metric_mi|age_categorical_train=0.164]"
     ]
    },
    {
     "name": "stdout",
     "output_type": "stream",
     "text": [
      "\r\n",
      "Epoch 31/600:   5%|▌         | 30/600 [25:14<8:24:25, 53.10s/it, v_num=in_1, total_loss_train=487, kl_local_train=265, metric_mi|age_categorical_train=0.164]"
     ]
    },
    {
     "name": "stdout",
     "output_type": "stream",
     "text": [
      "\r\n",
      "Epoch 31/600:   5%|▌         | 31/600 [26:07<8:27:08, 53.48s/it, v_num=in_1, total_loss_train=487, kl_local_train=265, metric_mi|age_categorical_train=0.164]"
     ]
    },
    {
     "name": "stdout",
     "output_type": "stream",
     "text": [
      "\r\n",
      "Epoch 31/600:   5%|▌         | 31/600 [26:07<8:27:08, 53.48s/it, v_num=in_1, total_loss_train=488, kl_local_train=264, metric_mi|age_categorical_train=0.169]"
     ]
    },
    {
     "name": "stdout",
     "output_type": "stream",
     "text": [
      "\r\n",
      "Epoch 32/600:   5%|▌         | 31/600 [26:07<8:27:08, 53.48s/it, v_num=in_1, total_loss_train=488, kl_local_train=264, metric_mi|age_categorical_train=0.169]"
     ]
    },
    {
     "name": "stdout",
     "output_type": "stream",
     "text": [
      "\r\n",
      "Epoch 32/600:   5%|▌         | 32/600 [27:00<8:25:37, 53.41s/it, v_num=in_1, total_loss_train=488, kl_local_train=264, metric_mi|age_categorical_train=0.169]"
     ]
    },
    {
     "name": "stdout",
     "output_type": "stream",
     "text": [
      "\r\n",
      "Epoch 32/600:   5%|▌         | 32/600 [27:00<8:25:37, 53.41s/it, v_num=in_1, total_loss_train=488, kl_local_train=254, metric_mi|age_categorical_train=0.169]"
     ]
    },
    {
     "name": "stdout",
     "output_type": "stream",
     "text": [
      "\r\n",
      "Epoch 33/600:   5%|▌         | 32/600 [27:00<8:25:37, 53.41s/it, v_num=in_1, total_loss_train=488, kl_local_train=254, metric_mi|age_categorical_train=0.169]"
     ]
    },
    {
     "name": "stdout",
     "output_type": "stream",
     "text": [
      "\r\n",
      "Epoch 33/600:   6%|▌         | 33/600 [27:54<8:24:01, 53.34s/it, v_num=in_1, total_loss_train=488, kl_local_train=254, metric_mi|age_categorical_train=0.169]"
     ]
    },
    {
     "name": "stdout",
     "output_type": "stream",
     "text": [
      "\r\n",
      "Epoch 33/600:   6%|▌         | 33/600 [27:54<8:24:01, 53.34s/it, v_num=in_1, total_loss_train=487, kl_local_train=257, metric_mi|age_categorical_train=0.169]"
     ]
    },
    {
     "name": "stdout",
     "output_type": "stream",
     "text": [
      "\r\n",
      "Epoch 34/600:   6%|▌         | 33/600 [27:54<8:24:01, 53.34s/it, v_num=in_1, total_loss_train=487, kl_local_train=257, metric_mi|age_categorical_train=0.169]"
     ]
    },
    {
     "name": "stdout",
     "output_type": "stream",
     "text": [
      "\r\n",
      "Epoch 34/600:   6%|▌         | 34/600 [28:47<8:23:18, 53.35s/it, v_num=in_1, total_loss_train=487, kl_local_train=257, metric_mi|age_categorical_train=0.169]"
     ]
    },
    {
     "name": "stdout",
     "output_type": "stream",
     "text": [
      "\r\n",
      "Epoch 34/600:   6%|▌         | 34/600 [28:47<8:23:18, 53.35s/it, v_num=in_1, total_loss_train=488, kl_local_train=258, metric_mi|age_categorical_train=0.169]"
     ]
    },
    {
     "name": "stdout",
     "output_type": "stream",
     "text": [
      "\r\n",
      "Epoch 35/600:   6%|▌         | 34/600 [28:47<8:23:18, 53.35s/it, v_num=in_1, total_loss_train=488, kl_local_train=258, metric_mi|age_categorical_train=0.169]"
     ]
    },
    {
     "name": "stdout",
     "output_type": "stream",
     "text": [
      "\r\n",
      "Epoch 35/600:   6%|▌         | 35/600 [29:41<8:24:30, 53.58s/it, v_num=in_1, total_loss_train=488, kl_local_train=258, metric_mi|age_categorical_train=0.169]"
     ]
    },
    {
     "name": "stdout",
     "output_type": "stream",
     "text": [
      "\r\n",
      "Epoch 35/600:   6%|▌         | 35/600 [29:41<8:24:30, 53.58s/it, v_num=in_1, total_loss_train=489, kl_local_train=259, metric_mi|age_categorical_train=0.169]"
     ]
    },
    {
     "name": "stdout",
     "output_type": "stream",
     "text": [
      "\r\n",
      "Epoch 36/600:   6%|▌         | 35/600 [29:42<8:24:30, 53.58s/it, v_num=in_1, total_loss_train=489, kl_local_train=259, metric_mi|age_categorical_train=0.169]"
     ]
    },
    {
     "name": "stdout",
     "output_type": "stream",
     "text": [
      "\r\n",
      "Epoch 36/600:   6%|▌         | 36/600 [30:35<8:25:00, 53.72s/it, v_num=in_1, total_loss_train=489, kl_local_train=259, metric_mi|age_categorical_train=0.169]"
     ]
    },
    {
     "name": "stdout",
     "output_type": "stream",
     "text": [
      "\r\n",
      "Epoch 36/600:   6%|▌         | 36/600 [30:35<8:25:00, 53.72s/it, v_num=in_1, total_loss_train=491, kl_local_train=262, metric_mi|age_categorical_train=0.217]"
     ]
    },
    {
     "name": "stdout",
     "output_type": "stream",
     "text": [
      "\r\n",
      "Epoch 37/600:   6%|▌         | 36/600 [30:35<8:25:00, 53.72s/it, v_num=in_1, total_loss_train=491, kl_local_train=262, metric_mi|age_categorical_train=0.217]"
     ]
    },
    {
     "name": "stdout",
     "output_type": "stream",
     "text": [
      "\r\n",
      "Epoch 37/600:   6%|▌         | 37/600 [31:28<8:20:59, 53.39s/it, v_num=in_1, total_loss_train=491, kl_local_train=262, metric_mi|age_categorical_train=0.217]"
     ]
    },
    {
     "name": "stdout",
     "output_type": "stream",
     "text": [
      "\r\n",
      "Epoch 37/600:   6%|▌         | 37/600 [31:28<8:20:59, 53.39s/it, v_num=in_1, total_loss_train=492, kl_local_train=256, metric_mi|age_categorical_train=0.217]"
     ]
    },
    {
     "name": "stdout",
     "output_type": "stream",
     "text": [
      "\r\n",
      "Epoch 38/600:   6%|▌         | 37/600 [31:28<8:20:59, 53.39s/it, v_num=in_1, total_loss_train=492, kl_local_train=256, metric_mi|age_categorical_train=0.217]"
     ]
    },
    {
     "name": "stdout",
     "output_type": "stream",
     "text": [
      "\r\n",
      "Epoch 38/600:   6%|▋         | 38/600 [32:15<8:02:49, 51.55s/it, v_num=in_1, total_loss_train=492, kl_local_train=256, metric_mi|age_categorical_train=0.217]"
     ]
    },
    {
     "name": "stdout",
     "output_type": "stream",
     "text": [
      "\r\n",
      "Epoch 38/600:   6%|▋         | 38/600 [32:15<8:02:49, 51.55s/it, v_num=in_1, total_loss_train=493, kl_local_train=254, metric_mi|age_categorical_train=0.217]"
     ]
    },
    {
     "name": "stdout",
     "output_type": "stream",
     "text": [
      "\r\n",
      "Epoch 39/600:   6%|▋         | 38/600 [32:15<8:02:49, 51.55s/it, v_num=in_1, total_loss_train=493, kl_local_train=254, metric_mi|age_categorical_train=0.217]"
     ]
    },
    {
     "name": "stdout",
     "output_type": "stream",
     "text": [
      "\r\n",
      "Epoch 39/600:   6%|▋         | 39/600 [33:02<7:49:41, 50.23s/it, v_num=in_1, total_loss_train=493, kl_local_train=254, metric_mi|age_categorical_train=0.217]"
     ]
    },
    {
     "name": "stdout",
     "output_type": "stream",
     "text": [
      "\r\n",
      "Epoch 39/600:   6%|▋         | 39/600 [33:02<7:49:41, 50.23s/it, v_num=in_1, total_loss_train=495, kl_local_train=257, metric_mi|age_categorical_train=0.217]"
     ]
    },
    {
     "name": "stdout",
     "output_type": "stream",
     "text": [
      "\r\n",
      "Epoch 40/600:   6%|▋         | 39/600 [33:02<7:49:41, 50.23s/it, v_num=in_1, total_loss_train=495, kl_local_train=257, metric_mi|age_categorical_train=0.217]"
     ]
    },
    {
     "name": "stdout",
     "output_type": "stream",
     "text": [
      "\r\n",
      "Epoch 40/600:   7%|▋         | 40/600 [33:50<7:42:15, 49.53s/it, v_num=in_1, total_loss_train=495, kl_local_train=257, metric_mi|age_categorical_train=0.217]"
     ]
    },
    {
     "name": "stdout",
     "output_type": "stream",
     "text": [
      "\r\n",
      "Epoch 40/600:   7%|▋         | 40/600 [33:50<7:42:15, 49.53s/it, v_num=in_1, total_loss_train=496, kl_local_train=255, metric_mi|age_categorical_train=0.217]"
     ]
    },
    {
     "name": "stdout",
     "output_type": "stream",
     "text": [
      "\r\n",
      "Epoch 41/600:   7%|▋         | 40/600 [33:51<7:42:15, 49.53s/it, v_num=in_1, total_loss_train=496, kl_local_train=255, metric_mi|age_categorical_train=0.217]"
     ]
    },
    {
     "name": "stdout",
     "output_type": "stream",
     "text": [
      "\r\n",
      "Epoch 41/600:   7%|▋         | 41/600 [34:39<7:38:29, 49.21s/it, v_num=in_1, total_loss_train=496, kl_local_train=255, metric_mi|age_categorical_train=0.217]"
     ]
    },
    {
     "name": "stdout",
     "output_type": "stream",
     "text": [
      "\r\n",
      "Epoch 41/600:   7%|▋         | 41/600 [34:39<7:38:29, 49.21s/it, v_num=in_1, total_loss_train=498, kl_local_train=256, metric_mi|age_categorical_train=0.237]"
     ]
    },
    {
     "name": "stdout",
     "output_type": "stream",
     "text": [
      "\r\n",
      "Epoch 42/600:   7%|▋         | 41/600 [34:39<7:38:29, 49.21s/it, v_num=in_1, total_loss_train=498, kl_local_train=256, metric_mi|age_categorical_train=0.237]"
     ]
    },
    {
     "name": "stdout",
     "output_type": "stream",
     "text": [
      "\r\n",
      "Epoch 42/600:   7%|▋         | 42/600 [35:26<7:32:46, 48.69s/it, v_num=in_1, total_loss_train=498, kl_local_train=256, metric_mi|age_categorical_train=0.237]"
     ]
    },
    {
     "name": "stdout",
     "output_type": "stream",
     "text": [
      "\r\n",
      "Epoch 42/600:   7%|▋         | 42/600 [35:26<7:32:46, 48.69s/it, v_num=in_1, total_loss_train=500, kl_local_train=256, metric_mi|age_categorical_train=0.237]"
     ]
    },
    {
     "name": "stdout",
     "output_type": "stream",
     "text": [
      "\r\n",
      "Epoch 43/600:   7%|▋         | 42/600 [35:26<7:32:46, 48.69s/it, v_num=in_1, total_loss_train=500, kl_local_train=256, metric_mi|age_categorical_train=0.237]"
     ]
    },
    {
     "name": "stdout",
     "output_type": "stream",
     "text": [
      "\r\n",
      "Epoch 43/600:   7%|▋         | 43/600 [36:14<7:29:04, 48.37s/it, v_num=in_1, total_loss_train=500, kl_local_train=256, metric_mi|age_categorical_train=0.237]"
     ]
    },
    {
     "name": "stdout",
     "output_type": "stream",
     "text": [
      "\r\n",
      "Epoch 43/600:   7%|▋         | 43/600 [36:14<7:29:04, 48.37s/it, v_num=in_1, total_loss_train=502, kl_local_train=258, metric_mi|age_categorical_train=0.237]"
     ]
    },
    {
     "name": "stdout",
     "output_type": "stream",
     "text": [
      "\r\n",
      "Epoch 44/600:   7%|▋         | 43/600 [36:14<7:29:04, 48.37s/it, v_num=in_1, total_loss_train=502, kl_local_train=258, metric_mi|age_categorical_train=0.237]"
     ]
    },
    {
     "name": "stdout",
     "output_type": "stream",
     "text": [
      "\r\n",
      "Epoch 44/600:   7%|▋         | 44/600 [37:01<7:25:30, 48.08s/it, v_num=in_1, total_loss_train=502, kl_local_train=258, metric_mi|age_categorical_train=0.237]"
     ]
    },
    {
     "name": "stdout",
     "output_type": "stream",
     "text": [
      "\r\n",
      "Epoch 44/600:   7%|▋         | 44/600 [37:01<7:25:30, 48.08s/it, v_num=in_1, total_loss_train=504, kl_local_train=256, metric_mi|age_categorical_train=0.237]"
     ]
    },
    {
     "name": "stdout",
     "output_type": "stream",
     "text": [
      "\r\n",
      "Epoch 45/600:   7%|▋         | 44/600 [37:01<7:25:30, 48.08s/it, v_num=in_1, total_loss_train=504, kl_local_train=256, metric_mi|age_categorical_train=0.237]"
     ]
    },
    {
     "name": "stdout",
     "output_type": "stream",
     "text": [
      "\r\n",
      "Epoch 45/600:   8%|▊         | 45/600 [37:49<7:24:27, 48.05s/it, v_num=in_1, total_loss_train=504, kl_local_train=256, metric_mi|age_categorical_train=0.237]"
     ]
    },
    {
     "name": "stdout",
     "output_type": "stream",
     "text": [
      "\r\n",
      "Epoch 45/600:   8%|▊         | 45/600 [37:49<7:24:27, 48.05s/it, v_num=in_1, total_loss_train=506, kl_local_train=259, metric_mi|age_categorical_train=0.237]"
     ]
    },
    {
     "name": "stdout",
     "output_type": "stream",
     "text": [
      "\r\n",
      "Epoch 46/600:   8%|▊         | 45/600 [37:50<7:24:27, 48.05s/it, v_num=in_1, total_loss_train=506, kl_local_train=259, metric_mi|age_categorical_train=0.237]"
     ]
    },
    {
     "name": "stdout",
     "output_type": "stream",
     "text": [
      "\r\n",
      "Epoch 46/600:   8%|▊         | 46/600 [38:37<7:24:30, 48.14s/it, v_num=in_1, total_loss_train=506, kl_local_train=259, metric_mi|age_categorical_train=0.237]"
     ]
    },
    {
     "name": "stdout",
     "output_type": "stream",
     "text": [
      "\r\n",
      "Epoch 46/600:   8%|▊         | 46/600 [38:37<7:24:30, 48.14s/it, v_num=in_1, total_loss_train=507, kl_local_train=263, metric_mi|age_categorical_train=0.245]"
     ]
    },
    {
     "name": "stdout",
     "output_type": "stream",
     "text": [
      "\r\n",
      "Epoch 47/600:   8%|▊         | 46/600 [38:37<7:24:30, 48.14s/it, v_num=in_1, total_loss_train=507, kl_local_train=263, metric_mi|age_categorical_train=0.245]"
     ]
    },
    {
     "name": "stdout",
     "output_type": "stream",
     "text": [
      "\r\n",
      "Epoch 47/600:   8%|▊         | 47/600 [39:25<7:22:05, 47.97s/it, v_num=in_1, total_loss_train=507, kl_local_train=263, metric_mi|age_categorical_train=0.245]"
     ]
    },
    {
     "name": "stdout",
     "output_type": "stream",
     "text": [
      "\r\n",
      "Epoch 47/600:   8%|▊         | 47/600 [39:25<7:22:05, 47.97s/it, v_num=in_1, total_loss_train=509, kl_local_train=263, metric_mi|age_categorical_train=0.245]"
     ]
    },
    {
     "name": "stdout",
     "output_type": "stream",
     "text": [
      "\r\n",
      "Epoch 48/600:   8%|▊         | 47/600 [39:25<7:22:05, 47.97s/it, v_num=in_1, total_loss_train=509, kl_local_train=263, metric_mi|age_categorical_train=0.245]"
     ]
    },
    {
     "name": "stdout",
     "output_type": "stream",
     "text": [
      "\r\n",
      "Epoch 48/600:   8%|▊         | 48/600 [40:12<7:19:50, 47.81s/it, v_num=in_1, total_loss_train=509, kl_local_train=263, metric_mi|age_categorical_train=0.245]"
     ]
    },
    {
     "name": "stdout",
     "output_type": "stream",
     "text": [
      "\r\n",
      "Epoch 48/600:   8%|▊         | 48/600 [40:12<7:19:50, 47.81s/it, v_num=in_1, total_loss_train=511, kl_local_train=255, metric_mi|age_categorical_train=0.245]"
     ]
    },
    {
     "name": "stdout",
     "output_type": "stream",
     "text": [
      "\r\n",
      "Epoch 49/600:   8%|▊         | 48/600 [40:12<7:19:50, 47.81s/it, v_num=in_1, total_loss_train=511, kl_local_train=255, metric_mi|age_categorical_train=0.245]"
     ]
    },
    {
     "name": "stdout",
     "output_type": "stream",
     "text": [
      "\r\n",
      "Epoch 49/600:   8%|▊         | 49/600 [41:00<7:18:18, 47.73s/it, v_num=in_1, total_loss_train=511, kl_local_train=255, metric_mi|age_categorical_train=0.245]"
     ]
    },
    {
     "name": "stdout",
     "output_type": "stream",
     "text": [
      "\r\n",
      "Epoch 49/600:   8%|▊         | 49/600 [41:00<7:18:18, 47.73s/it, v_num=in_1, total_loss_train=513, kl_local_train=263, metric_mi|age_categorical_train=0.245]"
     ]
    },
    {
     "name": "stdout",
     "output_type": "stream",
     "text": [
      "\r\n",
      "Epoch 50/600:   8%|▊         | 49/600 [41:00<7:18:18, 47.73s/it, v_num=in_1, total_loss_train=513, kl_local_train=263, metric_mi|age_categorical_train=0.245]"
     ]
    },
    {
     "name": "stdout",
     "output_type": "stream",
     "text": [
      "\r\n",
      "Epoch 50/600:   8%|▊         | 50/600 [41:48<7:17:42, 47.75s/it, v_num=in_1, total_loss_train=513, kl_local_train=263, metric_mi|age_categorical_train=0.245]"
     ]
    },
    {
     "name": "stdout",
     "output_type": "stream",
     "text": [
      "\r\n",
      "Epoch 50/600:   8%|▊         | 50/600 [41:48<7:17:42, 47.75s/it, v_num=in_1, total_loss_train=515, kl_local_train=265, metric_mi|age_categorical_train=0.245]"
     ]
    },
    {
     "name": "stdout",
     "output_type": "stream",
     "text": [
      "\r\n",
      "Epoch 51/600:   8%|▊         | 50/600 [41:49<7:17:42, 47.75s/it, v_num=in_1, total_loss_train=515, kl_local_train=265, metric_mi|age_categorical_train=0.245]"
     ]
    },
    {
     "name": "stdout",
     "output_type": "stream",
     "text": [
      "\r\n",
      "Epoch 51/600:   8%|▊         | 51/600 [42:36<7:18:27, 47.92s/it, v_num=in_1, total_loss_train=515, kl_local_train=265, metric_mi|age_categorical_train=0.245]"
     ]
    },
    {
     "name": "stdout",
     "output_type": "stream",
     "text": [
      "\r\n",
      "Epoch 51/600:   8%|▊         | 51/600 [42:36<7:18:27, 47.92s/it, v_num=in_1, total_loss_train=515, kl_local_train=265, metric_mi|age_categorical_train=0.244]"
     ]
    },
    {
     "name": "stdout",
     "output_type": "stream",
     "text": [
      "\r\n",
      "Epoch 52/600:   8%|▊         | 51/600 [42:36<7:18:27, 47.92s/it, v_num=in_1, total_loss_train=515, kl_local_train=265, metric_mi|age_categorical_train=0.244]"
     ]
    },
    {
     "name": "stdout",
     "output_type": "stream",
     "text": [
      "\r\n",
      "Epoch 52/600:   9%|▊         | 52/600 [43:24<7:16:18, 47.77s/it, v_num=in_1, total_loss_train=515, kl_local_train=265, metric_mi|age_categorical_train=0.244]"
     ]
    },
    {
     "name": "stdout",
     "output_type": "stream",
     "text": [
      "\r\n",
      "Epoch 52/600:   9%|▊         | 52/600 [43:24<7:16:18, 47.77s/it, v_num=in_1, total_loss_train=516, kl_local_train=264, metric_mi|age_categorical_train=0.244]"
     ]
    },
    {
     "name": "stdout",
     "output_type": "stream",
     "text": [
      "\r\n",
      "Epoch 53/600:   9%|▊         | 52/600 [43:24<7:16:18, 47.77s/it, v_num=in_1, total_loss_train=516, kl_local_train=264, metric_mi|age_categorical_train=0.244]"
     ]
    },
    {
     "name": "stdout",
     "output_type": "stream",
     "text": [
      "\r\n",
      "Epoch 53/600:   9%|▉         | 53/600 [44:11<7:14:34, 47.67s/it, v_num=in_1, total_loss_train=516, kl_local_train=264, metric_mi|age_categorical_train=0.244]"
     ]
    },
    {
     "name": "stdout",
     "output_type": "stream",
     "text": [
      "\r\n",
      "Epoch 53/600:   9%|▉         | 53/600 [44:11<7:14:34, 47.67s/it, v_num=in_1, total_loss_train=516, kl_local_train=268, metric_mi|age_categorical_train=0.244]"
     ]
    },
    {
     "name": "stdout",
     "output_type": "stream",
     "text": [
      "\r\n",
      "Epoch 54/600:   9%|▉         | 53/600 [44:11<7:14:34, 47.67s/it, v_num=in_1, total_loss_train=516, kl_local_train=268, metric_mi|age_categorical_train=0.244]"
     ]
    },
    {
     "name": "stdout",
     "output_type": "stream",
     "text": [
      "\r\n",
      "Epoch 54/600:   9%|▉         | 54/600 [44:58<7:13:07, 47.60s/it, v_num=in_1, total_loss_train=516, kl_local_train=268, metric_mi|age_categorical_train=0.244]"
     ]
    },
    {
     "name": "stdout",
     "output_type": "stream",
     "text": [
      "\r\n",
      "Epoch 54/600:   9%|▉         | 54/600 [44:58<7:13:07, 47.60s/it, v_num=in_1, total_loss_train=516, kl_local_train=269, metric_mi|age_categorical_train=0.244]"
     ]
    },
    {
     "name": "stdout",
     "output_type": "stream",
     "text": [
      "\r\n",
      "Epoch 55/600:   9%|▉         | 54/600 [44:58<7:13:07, 47.60s/it, v_num=in_1, total_loss_train=516, kl_local_train=269, metric_mi|age_categorical_train=0.244]"
     ]
    },
    {
     "name": "stdout",
     "output_type": "stream",
     "text": [
      "\r\n",
      "Epoch 55/600:   9%|▉         | 55/600 [45:46<7:12:49, 47.65s/it, v_num=in_1, total_loss_train=516, kl_local_train=269, metric_mi|age_categorical_train=0.244]"
     ]
    },
    {
     "name": "stdout",
     "output_type": "stream",
     "text": [
      "\r\n",
      "Epoch 55/600:   9%|▉         | 55/600 [45:46<7:12:49, 47.65s/it, v_num=in_1, total_loss_train=515, kl_local_train=266, metric_mi|age_categorical_train=0.244]"
     ]
    },
    {
     "name": "stdout",
     "output_type": "stream",
     "text": [
      "\r\n",
      "Epoch 56/600:   9%|▉         | 55/600 [45:47<7:12:49, 47.65s/it, v_num=in_1, total_loss_train=515, kl_local_train=266, metric_mi|age_categorical_train=0.244]"
     ]
    },
    {
     "name": "stdout",
     "output_type": "stream",
     "text": [
      "\r\n",
      "Epoch 56/600:   9%|▉         | 56/600 [46:34<7:13:49, 47.85s/it, v_num=in_1, total_loss_train=515, kl_local_train=266, metric_mi|age_categorical_train=0.244]"
     ]
    },
    {
     "name": "stdout",
     "output_type": "stream",
     "text": [
      "\r\n",
      "Epoch 56/600:   9%|▉         | 56/600 [46:34<7:13:49, 47.85s/it, v_num=in_1, total_loss_train=515, kl_local_train=265, metric_mi|age_categorical_train=0.237]"
     ]
    },
    {
     "name": "stdout",
     "output_type": "stream",
     "text": [
      "\r\n",
      "Epoch 57/600:   9%|▉         | 56/600 [46:34<7:13:49, 47.85s/it, v_num=in_1, total_loss_train=515, kl_local_train=265, metric_mi|age_categorical_train=0.237]"
     ]
    },
    {
     "name": "stdout",
     "output_type": "stream",
     "text": [
      "\r\n",
      "Epoch 57/600:  10%|▉         | 57/600 [47:22<7:11:09, 47.64s/it, v_num=in_1, total_loss_train=515, kl_local_train=265, metric_mi|age_categorical_train=0.237]"
     ]
    },
    {
     "name": "stdout",
     "output_type": "stream",
     "text": [
      "\r\n",
      "Epoch 57/600:  10%|▉         | 57/600 [47:22<7:11:09, 47.64s/it, v_num=in_1, total_loss_train=514, kl_local_train=259, metric_mi|age_categorical_train=0.237]"
     ]
    },
    {
     "name": "stdout",
     "output_type": "stream",
     "text": [
      "\r\n",
      "Epoch 58/600:  10%|▉         | 57/600 [47:22<7:11:09, 47.64s/it, v_num=in_1, total_loss_train=514, kl_local_train=259, metric_mi|age_categorical_train=0.237]"
     ]
    },
    {
     "name": "stdout",
     "output_type": "stream",
     "text": [
      "\r\n",
      "Epoch 58/600:  10%|▉         | 58/600 [48:09<7:08:45, 47.46s/it, v_num=in_1, total_loss_train=514, kl_local_train=259, metric_mi|age_categorical_train=0.237]"
     ]
    },
    {
     "name": "stdout",
     "output_type": "stream",
     "text": [
      "\r\n",
      "Epoch 58/600:  10%|▉         | 58/600 [48:09<7:08:45, 47.46s/it, v_num=in_1, total_loss_train=513, kl_local_train=254, metric_mi|age_categorical_train=0.237]"
     ]
    },
    {
     "name": "stdout",
     "output_type": "stream",
     "text": [
      "\r\n",
      "Epoch 59/600:  10%|▉         | 58/600 [48:09<7:08:45, 47.46s/it, v_num=in_1, total_loss_train=513, kl_local_train=254, metric_mi|age_categorical_train=0.237]"
     ]
    },
    {
     "name": "stdout",
     "output_type": "stream",
     "text": [
      "\r\n",
      "Epoch 59/600:  10%|▉         | 59/600 [48:56<7:06:33, 47.31s/it, v_num=in_1, total_loss_train=513, kl_local_train=254, metric_mi|age_categorical_train=0.237]"
     ]
    },
    {
     "name": "stdout",
     "output_type": "stream",
     "text": [
      "\r\n",
      "Epoch 59/600:  10%|▉         | 59/600 [48:56<7:06:33, 47.31s/it, v_num=in_1, total_loss_train=513, kl_local_train=251, metric_mi|age_categorical_train=0.237]"
     ]
    },
    {
     "name": "stdout",
     "output_type": "stream",
     "text": [
      "\r\n",
      "Epoch 60/600:  10%|▉         | 59/600 [48:56<7:06:33, 47.31s/it, v_num=in_1, total_loss_train=513, kl_local_train=251, metric_mi|age_categorical_train=0.237]"
     ]
    },
    {
     "name": "stdout",
     "output_type": "stream",
     "text": [
      "\r\n",
      "Epoch 60/600:  10%|█         | 60/600 [49:43<7:05:18, 47.26s/it, v_num=in_1, total_loss_train=513, kl_local_train=251, metric_mi|age_categorical_train=0.237]"
     ]
    },
    {
     "name": "stdout",
     "output_type": "stream",
     "text": [
      "\r\n",
      "Epoch 60/600:  10%|█         | 60/600 [49:43<7:05:18, 47.26s/it, v_num=in_1, total_loss_train=512, kl_local_train=246, metric_mi|age_categorical_train=0.237]"
     ]
    },
    {
     "name": "stdout",
     "output_type": "stream",
     "text": [
      "\r\n",
      "Epoch 61/600:  10%|█         | 60/600 [49:44<7:05:18, 47.26s/it, v_num=in_1, total_loss_train=512, kl_local_train=246, metric_mi|age_categorical_train=0.237]"
     ]
    },
    {
     "name": "stdout",
     "output_type": "stream",
     "text": [
      "\r\n",
      "Epoch 61/600:  10%|█         | 61/600 [50:31<7:06:02, 47.43s/it, v_num=in_1, total_loss_train=512, kl_local_train=246, metric_mi|age_categorical_train=0.237]"
     ]
    },
    {
     "name": "stdout",
     "output_type": "stream",
     "text": [
      "\r\n",
      "Epoch 61/600:  10%|█         | 61/600 [50:31<7:06:02, 47.43s/it, v_num=in_1, total_loss_train=512, kl_local_train=245, metric_mi|age_categorical_train=0.244]"
     ]
    },
    {
     "name": "stdout",
     "output_type": "stream",
     "text": [
      "\r\n",
      "Epoch 62/600:  10%|█         | 61/600 [50:31<7:06:02, 47.43s/it, v_num=in_1, total_loss_train=512, kl_local_train=245, metric_mi|age_categorical_train=0.244]"
     ]
    },
    {
     "name": "stdout",
     "output_type": "stream",
     "text": [
      "\r\n",
      "Epoch 62/600:  10%|█         | 62/600 [51:18<7:04:48, 47.38s/it, v_num=in_1, total_loss_train=512, kl_local_train=245, metric_mi|age_categorical_train=0.244]"
     ]
    },
    {
     "name": "stdout",
     "output_type": "stream",
     "text": [
      "\r\n",
      "Epoch 62/600:  10%|█         | 62/600 [51:18<7:04:48, 47.38s/it, v_num=in_1, total_loss_train=512, kl_local_train=243, metric_mi|age_categorical_train=0.244]"
     ]
    },
    {
     "name": "stdout",
     "output_type": "stream",
     "text": [
      "\r\n",
      "Epoch 63/600:  10%|█         | 62/600 [51:18<7:04:48, 47.38s/it, v_num=in_1, total_loss_train=512, kl_local_train=243, metric_mi|age_categorical_train=0.244]"
     ]
    },
    {
     "name": "stdout",
     "output_type": "stream",
     "text": [
      "\r\n",
      "Epoch 63/600:  10%|█         | 63/600 [52:05<7:03:51, 47.36s/it, v_num=in_1, total_loss_train=512, kl_local_train=243, metric_mi|age_categorical_train=0.244]"
     ]
    },
    {
     "name": "stdout",
     "output_type": "stream",
     "text": [
      "\r\n",
      "Epoch 63/600:  10%|█         | 63/600 [52:05<7:03:51, 47.36s/it, v_num=in_1, total_loss_train=511, kl_local_train=240, metric_mi|age_categorical_train=0.244]"
     ]
    },
    {
     "name": "stdout",
     "output_type": "stream",
     "text": [
      "\r\n",
      "Epoch 64/600:  10%|█         | 63/600 [52:05<7:03:51, 47.36s/it, v_num=in_1, total_loss_train=511, kl_local_train=240, metric_mi|age_categorical_train=0.244]"
     ]
    },
    {
     "name": "stdout",
     "output_type": "stream",
     "text": [
      "\r\n",
      "Epoch 64/600:  11%|█         | 64/600 [52:52<7:02:17, 47.27s/it, v_num=in_1, total_loss_train=511, kl_local_train=240, metric_mi|age_categorical_train=0.244]"
     ]
    },
    {
     "name": "stdout",
     "output_type": "stream",
     "text": [
      "\r\n",
      "Epoch 64/600:  11%|█         | 64/600 [52:52<7:02:17, 47.27s/it, v_num=in_1, total_loss_train=511, kl_local_train=235, metric_mi|age_categorical_train=0.244]"
     ]
    },
    {
     "name": "stdout",
     "output_type": "stream",
     "text": [
      "\r\n",
      "Epoch 65/600:  11%|█         | 64/600 [52:52<7:02:17, 47.27s/it, v_num=in_1, total_loss_train=511, kl_local_train=235, metric_mi|age_categorical_train=0.244]"
     ]
    },
    {
     "name": "stdout",
     "output_type": "stream",
     "text": [
      "\r\n",
      "Epoch 65/600:  11%|█         | 65/600 [53:39<7:01:21, 47.26s/it, v_num=in_1, total_loss_train=511, kl_local_train=235, metric_mi|age_categorical_train=0.244]"
     ]
    },
    {
     "name": "stdout",
     "output_type": "stream",
     "text": [
      "\r\n",
      "Epoch 65/600:  11%|█         | 65/600 [53:39<7:01:21, 47.26s/it, v_num=in_1, total_loss_train=511, kl_local_train=231, metric_mi|age_categorical_train=0.244]"
     ]
    },
    {
     "name": "stdout",
     "output_type": "stream",
     "text": [
      "\r\n",
      "Epoch 66/600:  11%|█         | 65/600 [53:40<7:01:21, 47.26s/it, v_num=in_1, total_loss_train=511, kl_local_train=231, metric_mi|age_categorical_train=0.244]"
     ]
    },
    {
     "name": "stdout",
     "output_type": "stream",
     "text": [
      "\r\n",
      "Epoch 66/600:  11%|█         | 66/600 [54:27<7:02:39, 47.49s/it, v_num=in_1, total_loss_train=511, kl_local_train=231, metric_mi|age_categorical_train=0.244]"
     ]
    },
    {
     "name": "stdout",
     "output_type": "stream",
     "text": [
      "\r\n",
      "Epoch 66/600:  11%|█         | 66/600 [54:27<7:02:39, 47.49s/it, v_num=in_1, total_loss_train=511, kl_local_train=233, metric_mi|age_categorical_train=0.243]"
     ]
    },
    {
     "name": "stdout",
     "output_type": "stream",
     "text": [
      "\r\n",
      "Epoch 67/600:  11%|█         | 66/600 [54:27<7:02:39, 47.49s/it, v_num=in_1, total_loss_train=511, kl_local_train=233, metric_mi|age_categorical_train=0.243]"
     ]
    },
    {
     "name": "stdout",
     "output_type": "stream",
     "text": [
      "\r\n",
      "Epoch 67/600:  11%|█         | 67/600 [55:15<7:00:41, 47.36s/it, v_num=in_1, total_loss_train=511, kl_local_train=233, metric_mi|age_categorical_train=0.243]"
     ]
    },
    {
     "name": "stdout",
     "output_type": "stream",
     "text": [
      "\r\n",
      "Epoch 67/600:  11%|█         | 67/600 [55:15<7:00:41, 47.36s/it, v_num=in_1, total_loss_train=511, kl_local_train=231, metric_mi|age_categorical_train=0.243]"
     ]
    },
    {
     "name": "stdout",
     "output_type": "stream",
     "text": [
      "\r\n",
      "Epoch 68/600:  11%|█         | 67/600 [55:15<7:00:41, 47.36s/it, v_num=in_1, total_loss_train=511, kl_local_train=231, metric_mi|age_categorical_train=0.243]"
     ]
    },
    {
     "name": "stdout",
     "output_type": "stream",
     "text": [
      "\r\n",
      "Epoch 68/600:  11%|█▏        | 68/600 [56:02<6:59:04, 47.26s/it, v_num=in_1, total_loss_train=511, kl_local_train=231, metric_mi|age_categorical_train=0.243]"
     ]
    },
    {
     "name": "stdout",
     "output_type": "stream",
     "text": [
      "\r\n",
      "Epoch 68/600:  11%|█▏        | 68/600 [56:02<6:59:04, 47.26s/it, v_num=in_1, total_loss_train=510, kl_local_train=231, metric_mi|age_categorical_train=0.243]"
     ]
    },
    {
     "name": "stdout",
     "output_type": "stream",
     "text": [
      "\r\n",
      "Epoch 69/600:  11%|█▏        | 68/600 [56:02<6:59:04, 47.26s/it, v_num=in_1, total_loss_train=510, kl_local_train=231, metric_mi|age_categorical_train=0.243]"
     ]
    },
    {
     "name": "stdout",
     "output_type": "stream",
     "text": [
      "\r\n",
      "Epoch 69/600:  12%|█▏        | 69/600 [56:49<6:58:21, 47.27s/it, v_num=in_1, total_loss_train=510, kl_local_train=231, metric_mi|age_categorical_train=0.243]"
     ]
    },
    {
     "name": "stdout",
     "output_type": "stream",
     "text": [
      "\r\n",
      "Epoch 69/600:  12%|█▏        | 69/600 [56:49<6:58:21, 47.27s/it, v_num=in_1, total_loss_train=511, kl_local_train=228, metric_mi|age_categorical_train=0.243]"
     ]
    },
    {
     "name": "stdout",
     "output_type": "stream",
     "text": [
      "\r\n",
      "Epoch 70/600:  12%|█▏        | 69/600 [56:49<6:58:21, 47.27s/it, v_num=in_1, total_loss_train=511, kl_local_train=228, metric_mi|age_categorical_train=0.243]"
     ]
    },
    {
     "name": "stdout",
     "output_type": "stream",
     "text": [
      "\r\n",
      "Epoch 70/600:  12%|█▏        | 70/600 [57:36<6:57:31, 47.27s/it, v_num=in_1, total_loss_train=511, kl_local_train=228, metric_mi|age_categorical_train=0.243]"
     ]
    },
    {
     "name": "stdout",
     "output_type": "stream",
     "text": [
      "\r\n",
      "Epoch 70/600:  12%|█▏        | 70/600 [57:36<6:57:31, 47.27s/it, v_num=in_1, total_loss_train=511, kl_local_train=225, metric_mi|age_categorical_train=0.243]"
     ]
    },
    {
     "name": "stdout",
     "output_type": "stream",
     "text": [
      "\r\n",
      "Epoch 71/600:  12%|█▏        | 70/600 [57:37<6:57:31, 47.27s/it, v_num=in_1, total_loss_train=511, kl_local_train=225, metric_mi|age_categorical_train=0.243]"
     ]
    },
    {
     "name": "stdout",
     "output_type": "stream",
     "text": [
      "\r\n",
      "Epoch 71/600:  12%|█▏        | 71/600 [58:24<6:58:47, 47.50s/it, v_num=in_1, total_loss_train=511, kl_local_train=225, metric_mi|age_categorical_train=0.243]"
     ]
    },
    {
     "name": "stdout",
     "output_type": "stream",
     "text": [
      "\r\n",
      "Epoch 71/600:  12%|█▏        | 71/600 [58:24<6:58:47, 47.50s/it, v_num=in_1, total_loss_train=510, kl_local_train=226, metric_mi|age_categorical_train=0.244]"
     ]
    },
    {
     "name": "stdout",
     "output_type": "stream",
     "text": [
      "\r\n",
      "Epoch 72/600:  12%|█▏        | 71/600 [58:24<6:58:47, 47.50s/it, v_num=in_1, total_loss_train=510, kl_local_train=226, metric_mi|age_categorical_train=0.244]"
     ]
    },
    {
     "name": "stdout",
     "output_type": "stream",
     "text": [
      "\r\n",
      "Epoch 72/600:  12%|█▏        | 72/600 [59:11<6:57:02, 47.39s/it, v_num=in_1, total_loss_train=510, kl_local_train=226, metric_mi|age_categorical_train=0.244]"
     ]
    },
    {
     "name": "stdout",
     "output_type": "stream",
     "text": [
      "\r\n",
      "Epoch 72/600:  12%|█▏        | 72/600 [59:11<6:57:02, 47.39s/it, v_num=in_1, total_loss_train=511, kl_local_train=221, metric_mi|age_categorical_train=0.244]"
     ]
    },
    {
     "name": "stdout",
     "output_type": "stream",
     "text": [
      "\r\n",
      "Epoch 73/600:  12%|█▏        | 72/600 [59:11<6:57:02, 47.39s/it, v_num=in_1, total_loss_train=511, kl_local_train=221, metric_mi|age_categorical_train=0.244]"
     ]
    },
    {
     "name": "stdout",
     "output_type": "stream",
     "text": [
      "\r\n",
      "Epoch 73/600:  12%|█▏        | 73/600 [59:58<6:55:34, 47.31s/it, v_num=in_1, total_loss_train=511, kl_local_train=221, metric_mi|age_categorical_train=0.244]"
     ]
    },
    {
     "name": "stdout",
     "output_type": "stream",
     "text": [
      "\r\n",
      "Epoch 73/600:  12%|█▏        | 73/600 [59:58<6:55:34, 47.31s/it, v_num=in_1, total_loss_train=511, kl_local_train=224, metric_mi|age_categorical_train=0.244]"
     ]
    },
    {
     "name": "stdout",
     "output_type": "stream",
     "text": [
      "\r\n",
      "Epoch 74/600:  12%|█▏        | 73/600 [59:58<6:55:34, 47.31s/it, v_num=in_1, total_loss_train=511, kl_local_train=224, metric_mi|age_categorical_train=0.244]"
     ]
    },
    {
     "name": "stdout",
     "output_type": "stream",
     "text": [
      "\r\n",
      "Epoch 74/600:  12%|█▏        | 74/600 [1:00:46<6:54:15, 47.25s/it, v_num=in_1, total_loss_train=511, kl_local_train=224, metric_mi|age_categorical_train=0.244]"
     ]
    },
    {
     "name": "stdout",
     "output_type": "stream",
     "text": [
      "\r\n",
      "Epoch 74/600:  12%|█▏        | 74/600 [1:00:46<6:54:15, 47.25s/it, v_num=in_1, total_loss_train=510, kl_local_train=217, metric_mi|age_categorical_train=0.244]"
     ]
    },
    {
     "name": "stdout",
     "output_type": "stream",
     "text": [
      "\r\n",
      "Epoch 75/600:  12%|█▏        | 74/600 [1:00:46<6:54:15, 47.25s/it, v_num=in_1, total_loss_train=510, kl_local_train=217, metric_mi|age_categorical_train=0.244]"
     ]
    },
    {
     "name": "stdout",
     "output_type": "stream",
     "text": [
      "\r\n",
      "Epoch 75/600:  12%|█▎        | 75/600 [1:01:33<6:53:50, 47.30s/it, v_num=in_1, total_loss_train=510, kl_local_train=217, metric_mi|age_categorical_train=0.244]"
     ]
    },
    {
     "name": "stdout",
     "output_type": "stream",
     "text": [
      "\r\n",
      "Epoch 75/600:  12%|█▎        | 75/600 [1:01:33<6:53:50, 47.30s/it, v_num=in_1, total_loss_train=510, kl_local_train=216, metric_mi|age_categorical_train=0.244]"
     ]
    },
    {
     "name": "stdout",
     "output_type": "stream",
     "text": [
      "\r\n",
      "Epoch 76/600:  12%|█▎        | 75/600 [1:01:34<6:53:50, 47.30s/it, v_num=in_1, total_loss_train=510, kl_local_train=216, metric_mi|age_categorical_train=0.244]"
     ]
    },
    {
     "name": "stdout",
     "output_type": "stream",
     "text": [
      "\r\n",
      "Epoch 76/600:  13%|█▎        | 76/600 [1:02:21<6:54:48, 47.50s/it, v_num=in_1, total_loss_train=510, kl_local_train=216, metric_mi|age_categorical_train=0.244]"
     ]
    },
    {
     "name": "stdout",
     "output_type": "stream",
     "text": [
      "\r\n",
      "Epoch 76/600:  13%|█▎        | 76/600 [1:02:21<6:54:48, 47.50s/it, v_num=in_1, total_loss_train=510, kl_local_train=214, metric_mi|age_categorical_train=0.25] "
     ]
    },
    {
     "name": "stdout",
     "output_type": "stream",
     "text": [
      "\r\n",
      "Epoch 77/600:  13%|█▎        | 76/600 [1:02:21<6:54:48, 47.50s/it, v_num=in_1, total_loss_train=510, kl_local_train=214, metric_mi|age_categorical_train=0.25]"
     ]
    },
    {
     "name": "stdout",
     "output_type": "stream",
     "text": [
      "\r\n",
      "Epoch 77/600:  13%|█▎        | 77/600 [1:03:08<6:52:55, 47.37s/it, v_num=in_1, total_loss_train=510, kl_local_train=214, metric_mi|age_categorical_train=0.25]"
     ]
    },
    {
     "name": "stdout",
     "output_type": "stream",
     "text": [
      "\r\n",
      "Epoch 77/600:  13%|█▎        | 77/600 [1:03:08<6:52:55, 47.37s/it, v_num=in_1, total_loss_train=510, kl_local_train=214, metric_mi|age_categorical_train=0.25]"
     ]
    },
    {
     "name": "stdout",
     "output_type": "stream",
     "text": [
      "\r\n",
      "Epoch 78/600:  13%|█▎        | 77/600 [1:03:08<6:52:55, 47.37s/it, v_num=in_1, total_loss_train=510, kl_local_train=214, metric_mi|age_categorical_train=0.25]"
     ]
    },
    {
     "name": "stdout",
     "output_type": "stream",
     "text": [
      "\r\n",
      "Epoch 78/600:  13%|█▎        | 78/600 [1:03:55<6:51:33, 47.31s/it, v_num=in_1, total_loss_train=510, kl_local_train=214, metric_mi|age_categorical_train=0.25]"
     ]
    },
    {
     "name": "stdout",
     "output_type": "stream",
     "text": [
      "\r\n",
      "Epoch 78/600:  13%|█▎        | 78/600 [1:03:55<6:51:33, 47.31s/it, v_num=in_1, total_loss_train=510, kl_local_train=213, metric_mi|age_categorical_train=0.25]"
     ]
    },
    {
     "name": "stdout",
     "output_type": "stream",
     "text": [
      "\r\n",
      "Epoch 79/600:  13%|█▎        | 78/600 [1:03:55<6:51:33, 47.31s/it, v_num=in_1, total_loss_train=510, kl_local_train=213, metric_mi|age_categorical_train=0.25]"
     ]
    },
    {
     "name": "stdout",
     "output_type": "stream",
     "text": [
      "\r\n",
      "Epoch 79/600:  13%|█▎        | 79/600 [1:04:42<6:50:33, 47.28s/it, v_num=in_1, total_loss_train=510, kl_local_train=213, metric_mi|age_categorical_train=0.25]"
     ]
    },
    {
     "name": "stdout",
     "output_type": "stream",
     "text": [
      "\r\n",
      "Epoch 79/600:  13%|█▎        | 79/600 [1:04:42<6:50:33, 47.28s/it, v_num=in_1, total_loss_train=510, kl_local_train=212, metric_mi|age_categorical_train=0.25]"
     ]
    },
    {
     "name": "stdout",
     "output_type": "stream",
     "text": [
      "\r\n",
      "Epoch 80/600:  13%|█▎        | 79/600 [1:04:42<6:50:33, 47.28s/it, v_num=in_1, total_loss_train=510, kl_local_train=212, metric_mi|age_categorical_train=0.25]"
     ]
    },
    {
     "name": "stdout",
     "output_type": "stream",
     "text": [
      "\r\n",
      "Epoch 80/600:  13%|█▎        | 80/600 [1:05:30<6:49:42, 47.27s/it, v_num=in_1, total_loss_train=510, kl_local_train=212, metric_mi|age_categorical_train=0.25]"
     ]
    },
    {
     "name": "stdout",
     "output_type": "stream",
     "text": [
      "\r\n",
      "Epoch 80/600:  13%|█▎        | 80/600 [1:05:30<6:49:42, 47.27s/it, v_num=in_1, total_loss_train=510, kl_local_train=211, metric_mi|age_categorical_train=0.25]"
     ]
    },
    {
     "name": "stdout",
     "output_type": "stream",
     "text": [
      "\r\n",
      "Epoch 81/600:  13%|█▎        | 80/600 [1:05:30<6:49:42, 47.27s/it, v_num=in_1, total_loss_train=510, kl_local_train=211, metric_mi|age_categorical_train=0.25]"
     ]
    },
    {
     "name": "stdout",
     "output_type": "stream",
     "text": [
      "\r\n",
      "Epoch 81/600:  14%|█▎        | 81/600 [1:06:18<6:50:54, 47.50s/it, v_num=in_1, total_loss_train=510, kl_local_train=211, metric_mi|age_categorical_train=0.25]"
     ]
    },
    {
     "name": "stdout",
     "output_type": "stream",
     "text": [
      "\r\n",
      "Epoch 81/600:  14%|█▎        | 81/600 [1:06:18<6:50:54, 47.50s/it, v_num=in_1, total_loss_train=510, kl_local_train=208, metric_mi|age_categorical_train=0.247]"
     ]
    },
    {
     "name": "stdout",
     "output_type": "stream",
     "text": [
      "\r\n",
      "Epoch 82/600:  14%|█▎        | 81/600 [1:06:18<6:50:54, 47.50s/it, v_num=in_1, total_loss_train=510, kl_local_train=208, metric_mi|age_categorical_train=0.247]"
     ]
    },
    {
     "name": "stdout",
     "output_type": "stream",
     "text": [
      "\r\n",
      "Epoch 82/600:  14%|█▎        | 82/600 [1:07:05<6:50:38, 47.56s/it, v_num=in_1, total_loss_train=510, kl_local_train=208, metric_mi|age_categorical_train=0.247]"
     ]
    },
    {
     "name": "stdout",
     "output_type": "stream",
     "text": [
      "\r\n",
      "Epoch 82/600:  14%|█▎        | 82/600 [1:07:05<6:50:38, 47.56s/it, v_num=in_1, total_loss_train=510, kl_local_train=207, metric_mi|age_categorical_train=0.247]"
     ]
    },
    {
     "name": "stdout",
     "output_type": "stream",
     "text": [
      "\r\n",
      "Epoch 83/600:  14%|█▎        | 82/600 [1:07:05<6:50:38, 47.56s/it, v_num=in_1, total_loss_train=510, kl_local_train=207, metric_mi|age_categorical_train=0.247]"
     ]
    },
    {
     "name": "stdout",
     "output_type": "stream",
     "text": [
      "\r\n",
      "Epoch 83/600:  14%|█▍        | 83/600 [1:07:53<6:49:37, 47.54s/it, v_num=in_1, total_loss_train=510, kl_local_train=207, metric_mi|age_categorical_train=0.247]"
     ]
    },
    {
     "name": "stdout",
     "output_type": "stream",
     "text": [
      "\r\n",
      "Epoch 83/600:  14%|█▍        | 83/600 [1:07:53<6:49:37, 47.54s/it, v_num=in_1, total_loss_train=510, kl_local_train=207, metric_mi|age_categorical_train=0.247]"
     ]
    },
    {
     "name": "stdout",
     "output_type": "stream",
     "text": [
      "\r\n",
      "Epoch 84/600:  14%|█▍        | 83/600 [1:07:53<6:49:37, 47.54s/it, v_num=in_1, total_loss_train=510, kl_local_train=207, metric_mi|age_categorical_train=0.247]"
     ]
    },
    {
     "name": "stdout",
     "output_type": "stream",
     "text": [
      "\r\n",
      "Epoch 84/600:  14%|█▍        | 84/600 [1:08:40<6:48:17, 47.48s/it, v_num=in_1, total_loss_train=510, kl_local_train=207, metric_mi|age_categorical_train=0.247]"
     ]
    },
    {
     "name": "stdout",
     "output_type": "stream",
     "text": [
      "\r\n",
      "Epoch 84/600:  14%|█▍        | 84/600 [1:08:40<6:48:17, 47.48s/it, v_num=in_1, total_loss_train=511, kl_local_train=208, metric_mi|age_categorical_train=0.247]"
     ]
    },
    {
     "name": "stdout",
     "output_type": "stream",
     "text": [
      "\r\n",
      "Epoch 85/600:  14%|█▍        | 84/600 [1:08:40<6:48:17, 47.48s/it, v_num=in_1, total_loss_train=511, kl_local_train=208, metric_mi|age_categorical_train=0.247]"
     ]
    },
    {
     "name": "stdout",
     "output_type": "stream",
     "text": [
      "\r\n",
      "Epoch 85/600:  14%|█▍        | 85/600 [1:09:28<6:47:24, 47.47s/it, v_num=in_1, total_loss_train=511, kl_local_train=208, metric_mi|age_categorical_train=0.247]"
     ]
    },
    {
     "name": "stdout",
     "output_type": "stream",
     "text": [
      "\r\n",
      "Epoch 85/600:  14%|█▍        | 85/600 [1:09:28<6:47:24, 47.47s/it, v_num=in_1, total_loss_train=511, kl_local_train=204, metric_mi|age_categorical_train=0.247]"
     ]
    },
    {
     "name": "stdout",
     "output_type": "stream",
     "text": [
      "\r\n",
      "Epoch 86/600:  14%|█▍        | 85/600 [1:09:28<6:47:24, 47.47s/it, v_num=in_1, total_loss_train=511, kl_local_train=204, metric_mi|age_categorical_train=0.247]"
     ]
    },
    {
     "name": "stdout",
     "output_type": "stream",
     "text": [
      "\r\n",
      "Epoch 86/600:  14%|█▍        | 86/600 [1:10:16<6:48:30, 47.69s/it, v_num=in_1, total_loss_train=511, kl_local_train=204, metric_mi|age_categorical_train=0.247]"
     ]
    },
    {
     "name": "stdout",
     "output_type": "stream",
     "text": [
      "\r\n",
      "Epoch 86/600:  14%|█▍        | 86/600 [1:10:16<6:48:30, 47.69s/it, v_num=in_1, total_loss_train=511, kl_local_train=207, metric_mi|age_categorical_train=0.248]"
     ]
    },
    {
     "name": "stdout",
     "output_type": "stream",
     "text": [
      "\r\n",
      "Epoch 87/600:  14%|█▍        | 86/600 [1:10:16<6:48:30, 47.69s/it, v_num=in_1, total_loss_train=511, kl_local_train=207, metric_mi|age_categorical_train=0.248]"
     ]
    },
    {
     "name": "stdout",
     "output_type": "stream",
     "text": [
      "\r\n",
      "Epoch 87/600:  14%|█▍        | 87/600 [1:11:03<6:46:49, 47.58s/it, v_num=in_1, total_loss_train=511, kl_local_train=207, metric_mi|age_categorical_train=0.248]"
     ]
    },
    {
     "name": "stdout",
     "output_type": "stream",
     "text": [
      "\r\n",
      "Epoch 87/600:  14%|█▍        | 87/600 [1:11:03<6:46:49, 47.58s/it, v_num=in_1, total_loss_train=511, kl_local_train=204, metric_mi|age_categorical_train=0.248]"
     ]
    },
    {
     "name": "stdout",
     "output_type": "stream",
     "text": [
      "\r\n",
      "Epoch 88/600:  14%|█▍        | 87/600 [1:11:03<6:46:49, 47.58s/it, v_num=in_1, total_loss_train=511, kl_local_train=204, metric_mi|age_categorical_train=0.248]"
     ]
    },
    {
     "name": "stdout",
     "output_type": "stream",
     "text": [
      "\r\n",
      "Epoch 88/600:  15%|█▍        | 88/600 [1:11:51<6:45:51, 47.56s/it, v_num=in_1, total_loss_train=511, kl_local_train=204, metric_mi|age_categorical_train=0.248]"
     ]
    },
    {
     "name": "stdout",
     "output_type": "stream",
     "text": [
      "\r\n",
      "Epoch 88/600:  15%|█▍        | 88/600 [1:11:51<6:45:51, 47.56s/it, v_num=in_1, total_loss_train=511, kl_local_train=202, metric_mi|age_categorical_train=0.248]"
     ]
    },
    {
     "name": "stdout",
     "output_type": "stream",
     "text": [
      "\r\n",
      "Epoch 89/600:  15%|█▍        | 88/600 [1:11:51<6:45:51, 47.56s/it, v_num=in_1, total_loss_train=511, kl_local_train=202, metric_mi|age_categorical_train=0.248]"
     ]
    },
    {
     "name": "stdout",
     "output_type": "stream",
     "text": [
      "\r\n",
      "Epoch 89/600:  15%|█▍        | 89/600 [1:12:38<6:44:36, 47.51s/it, v_num=in_1, total_loss_train=511, kl_local_train=202, metric_mi|age_categorical_train=0.248]"
     ]
    },
    {
     "name": "stdout",
     "output_type": "stream",
     "text": [
      "\r\n",
      "Epoch 89/600:  15%|█▍        | 89/600 [1:12:38<6:44:36, 47.51s/it, v_num=in_1, total_loss_train=511, kl_local_train=201, metric_mi|age_categorical_train=0.248]"
     ]
    },
    {
     "name": "stdout",
     "output_type": "stream",
     "text": [
      "\r\n",
      "Epoch 90/600:  15%|█▍        | 89/600 [1:12:38<6:44:36, 47.51s/it, v_num=in_1, total_loss_train=511, kl_local_train=201, metric_mi|age_categorical_train=0.248]"
     ]
    },
    {
     "name": "stdout",
     "output_type": "stream",
     "text": [
      "\r\n",
      "Epoch 90/600:  15%|█▌        | 90/600 [1:13:25<6:43:27, 47.46s/it, v_num=in_1, total_loss_train=511, kl_local_train=201, metric_mi|age_categorical_train=0.248]"
     ]
    },
    {
     "name": "stdout",
     "output_type": "stream",
     "text": [
      "\r\n",
      "Epoch 90/600:  15%|█▌        | 90/600 [1:13:25<6:43:27, 47.46s/it, v_num=in_1, total_loss_train=511, kl_local_train=199, metric_mi|age_categorical_train=0.248]"
     ]
    },
    {
     "name": "stdout",
     "output_type": "stream",
     "text": [
      "\r\n",
      "Epoch 91/600:  15%|█▌        | 90/600 [1:13:26<6:43:27, 47.46s/it, v_num=in_1, total_loss_train=511, kl_local_train=199, metric_mi|age_categorical_train=0.248]"
     ]
    },
    {
     "name": "stdout",
     "output_type": "stream",
     "text": [
      "\r\n",
      "Epoch 91/600:  15%|█▌        | 91/600 [1:14:14<6:44:26, 47.67s/it, v_num=in_1, total_loss_train=511, kl_local_train=199, metric_mi|age_categorical_train=0.248]"
     ]
    },
    {
     "name": "stdout",
     "output_type": "stream",
     "text": [
      "\r\n",
      "Epoch 91/600:  15%|█▌        | 91/600 [1:14:14<6:44:26, 47.67s/it, v_num=in_1, total_loss_train=510, kl_local_train=197, metric_mi|age_categorical_train=0.25] "
     ]
    },
    {
     "name": "stdout",
     "output_type": "stream",
     "text": [
      "\r\n",
      "Epoch 92/600:  15%|█▌        | 91/600 [1:14:14<6:44:26, 47.67s/it, v_num=in_1, total_loss_train=510, kl_local_train=197, metric_mi|age_categorical_train=0.25]"
     ]
    },
    {
     "name": "stdout",
     "output_type": "stream",
     "text": [
      "\r\n",
      "Epoch 92/600:  15%|█▌        | 92/600 [1:15:01<6:42:45, 47.57s/it, v_num=in_1, total_loss_train=510, kl_local_train=197, metric_mi|age_categorical_train=0.25]"
     ]
    },
    {
     "name": "stdout",
     "output_type": "stream",
     "text": [
      "\r\n",
      "Epoch 92/600:  15%|█▌        | 92/600 [1:15:01<6:42:45, 47.57s/it, v_num=in_1, total_loss_train=511, kl_local_train=194, metric_mi|age_categorical_train=0.25]"
     ]
    },
    {
     "name": "stdout",
     "output_type": "stream",
     "text": [
      "\r\n",
      "Epoch 93/600:  15%|█▌        | 92/600 [1:15:01<6:42:45, 47.57s/it, v_num=in_1, total_loss_train=511, kl_local_train=194, metric_mi|age_categorical_train=0.25]"
     ]
    },
    {
     "name": "stdout",
     "output_type": "stream",
     "text": [
      "\r\n",
      "Epoch 93/600:  16%|█▌        | 93/600 [1:15:48<6:41:24, 47.50s/it, v_num=in_1, total_loss_train=511, kl_local_train=194, metric_mi|age_categorical_train=0.25]"
     ]
    },
    {
     "name": "stdout",
     "output_type": "stream",
     "text": [
      "\r\n",
      "Epoch 93/600:  16%|█▌        | 93/600 [1:15:48<6:41:24, 47.50s/it, v_num=in_1, total_loss_train=511, kl_local_train=192, metric_mi|age_categorical_train=0.25]"
     ]
    },
    {
     "name": "stdout",
     "output_type": "stream",
     "text": [
      "\r\n",
      "Epoch 94/600:  16%|█▌        | 93/600 [1:15:48<6:41:24, 47.50s/it, v_num=in_1, total_loss_train=511, kl_local_train=192, metric_mi|age_categorical_train=0.25]"
     ]
    },
    {
     "name": "stdout",
     "output_type": "stream",
     "text": [
      "\r\n",
      "Epoch 94/600:  16%|█▌        | 94/600 [1:16:36<6:41:07, 47.56s/it, v_num=in_1, total_loss_train=511, kl_local_train=192, metric_mi|age_categorical_train=0.25]"
     ]
    },
    {
     "name": "stdout",
     "output_type": "stream",
     "text": [
      "\r\n",
      "Epoch 94/600:  16%|█▌        | 94/600 [1:16:36<6:41:07, 47.56s/it, v_num=in_1, total_loss_train=511, kl_local_train=193, metric_mi|age_categorical_train=0.25]"
     ]
    },
    {
     "name": "stdout",
     "output_type": "stream",
     "text": [
      "\r\n",
      "Epoch 95/600:  16%|█▌        | 94/600 [1:16:36<6:41:07, 47.56s/it, v_num=in_1, total_loss_train=511, kl_local_train=193, metric_mi|age_categorical_train=0.25]"
     ]
    },
    {
     "name": "stdout",
     "output_type": "stream",
     "text": [
      "\r\n",
      "Epoch 95/600:  16%|█▌        | 95/600 [1:17:24<6:40:30, 47.59s/it, v_num=in_1, total_loss_train=511, kl_local_train=193, metric_mi|age_categorical_train=0.25]"
     ]
    },
    {
     "name": "stdout",
     "output_type": "stream",
     "text": [
      "\r\n",
      "Epoch 95/600:  16%|█▌        | 95/600 [1:17:24<6:40:30, 47.59s/it, v_num=in_1, total_loss_train=510, kl_local_train=193, metric_mi|age_categorical_train=0.25]"
     ]
    },
    {
     "name": "stdout",
     "output_type": "stream",
     "text": [
      "\r\n",
      "Epoch 96/600:  16%|█▌        | 95/600 [1:17:24<6:40:30, 47.59s/it, v_num=in_1, total_loss_train=510, kl_local_train=193, metric_mi|age_categorical_train=0.25]"
     ]
    },
    {
     "name": "stdout",
     "output_type": "stream",
     "text": [
      "\r\n",
      "Epoch 96/600:  16%|█▌        | 96/600 [1:18:12<6:41:02, 47.74s/it, v_num=in_1, total_loss_train=510, kl_local_train=193, metric_mi|age_categorical_train=0.25]"
     ]
    },
    {
     "name": "stdout",
     "output_type": "stream",
     "text": [
      "\r\n",
      "Epoch 96/600:  16%|█▌        | 96/600 [1:18:12<6:41:02, 47.74s/it, v_num=in_1, total_loss_train=511, kl_local_train=193, metric_mi|age_categorical_train=0.253]"
     ]
    },
    {
     "name": "stdout",
     "output_type": "stream",
     "text": [
      "\r\n",
      "Epoch 97/600:  16%|█▌        | 96/600 [1:18:12<6:41:02, 47.74s/it, v_num=in_1, total_loss_train=511, kl_local_train=193, metric_mi|age_categorical_train=0.253]"
     ]
    },
    {
     "name": "stdout",
     "output_type": "stream",
     "text": [
      "\r\n",
      "Epoch 97/600:  16%|█▌        | 97/600 [1:18:59<6:38:40, 47.56s/it, v_num=in_1, total_loss_train=511, kl_local_train=193, metric_mi|age_categorical_train=0.253]"
     ]
    },
    {
     "name": "stdout",
     "output_type": "stream",
     "text": [
      "\r\n",
      "Epoch 97/600:  16%|█▌        | 97/600 [1:18:59<6:38:40, 47.56s/it, v_num=in_1, total_loss_train=511, kl_local_train=190, metric_mi|age_categorical_train=0.253]"
     ]
    },
    {
     "name": "stdout",
     "output_type": "stream",
     "text": [
      "\r\n",
      "Epoch 98/600:  16%|█▌        | 97/600 [1:18:59<6:38:40, 47.56s/it, v_num=in_1, total_loss_train=511, kl_local_train=190, metric_mi|age_categorical_train=0.253]"
     ]
    },
    {
     "name": "stdout",
     "output_type": "stream",
     "text": [
      "\r\n",
      "Epoch 98/600:  16%|█▋        | 98/600 [1:19:46<6:36:43, 47.42s/it, v_num=in_1, total_loss_train=511, kl_local_train=190, metric_mi|age_categorical_train=0.253]"
     ]
    },
    {
     "name": "stdout",
     "output_type": "stream",
     "text": [
      "\r\n",
      "Epoch 98/600:  16%|█▋        | 98/600 [1:19:46<6:36:43, 47.42s/it, v_num=in_1, total_loss_train=510, kl_local_train=187, metric_mi|age_categorical_train=0.253]"
     ]
    },
    {
     "name": "stdout",
     "output_type": "stream",
     "text": [
      "\r\n",
      "Epoch 99/600:  16%|█▋        | 98/600 [1:19:46<6:36:43, 47.42s/it, v_num=in_1, total_loss_train=510, kl_local_train=187, metric_mi|age_categorical_train=0.253]"
     ]
    },
    {
     "name": "stdout",
     "output_type": "stream",
     "text": [
      "\r\n",
      "Epoch 99/600:  16%|█▋        | 99/600 [1:20:33<6:35:05, 47.32s/it, v_num=in_1, total_loss_train=510, kl_local_train=187, metric_mi|age_categorical_train=0.253]"
     ]
    },
    {
     "name": "stdout",
     "output_type": "stream",
     "text": [
      "\r\n",
      "Epoch 99/600:  16%|█▋        | 99/600 [1:20:33<6:35:05, 47.32s/it, v_num=in_1, total_loss_train=511, kl_local_train=186, metric_mi|age_categorical_train=0.253]"
     ]
    },
    {
     "name": "stdout",
     "output_type": "stream",
     "text": [
      "\r\n",
      "Epoch 100/600:  16%|█▋        | 99/600 [1:20:33<6:35:05, 47.32s/it, v_num=in_1, total_loss_train=511, kl_local_train=186, metric_mi|age_categorical_train=0.253]"
     ]
    },
    {
     "name": "stdout",
     "output_type": "stream",
     "text": [
      "\r\n",
      "Epoch 100/600:  17%|█▋        | 100/600 [1:21:20<6:34:09, 47.30s/it, v_num=in_1, total_loss_train=511, kl_local_train=186, metric_mi|age_categorical_train=0.253]"
     ]
    },
    {
     "name": "stdout",
     "output_type": "stream",
     "text": [
      "\r\n",
      "Epoch 100/600:  17%|█▋        | 100/600 [1:21:20<6:34:09, 47.30s/it, v_num=in_1, total_loss_train=511, kl_local_train=188, metric_mi|age_categorical_train=0.253]"
     ]
    },
    {
     "name": "stdout",
     "output_type": "stream",
     "text": [
      "\r\n",
      "Epoch 101/600:  17%|█▋        | 100/600 [1:21:21<6:34:09, 47.30s/it, v_num=in_1, total_loss_train=511, kl_local_train=188, metric_mi|age_categorical_train=0.253]"
     ]
    },
    {
     "name": "stdout",
     "output_type": "stream",
     "text": [
      "\r\n",
      "Epoch 101/600:  17%|█▋        | 101/600 [1:22:09<6:35:47, 47.59s/it, v_num=in_1, total_loss_train=511, kl_local_train=188, metric_mi|age_categorical_train=0.253]"
     ]
    },
    {
     "name": "stdout",
     "output_type": "stream",
     "text": [
      "\r\n",
      "Epoch 101/600:  17%|█▋        | 101/600 [1:22:09<6:35:47, 47.59s/it, v_num=in_1, total_loss_train=512, kl_local_train=190, metric_mi|age_categorical_train=0.251]"
     ]
    },
    {
     "name": "stdout",
     "output_type": "stream",
     "text": [
      "\r\n",
      "Epoch 102/600:  17%|█▋        | 101/600 [1:22:09<6:35:47, 47.59s/it, v_num=in_1, total_loss_train=512, kl_local_train=190, metric_mi|age_categorical_train=0.251]"
     ]
    },
    {
     "name": "stdout",
     "output_type": "stream",
     "text": [
      "\r\n",
      "Epoch 102/600:  17%|█▋        | 102/600 [1:22:56<6:34:14, 47.50s/it, v_num=in_1, total_loss_train=512, kl_local_train=190, metric_mi|age_categorical_train=0.251]"
     ]
    },
    {
     "name": "stdout",
     "output_type": "stream",
     "text": [
      "\r\n",
      "Epoch 102/600:  17%|█▋        | 102/600 [1:22:56<6:34:14, 47.50s/it, v_num=in_1, total_loss_train=511, kl_local_train=188, metric_mi|age_categorical_train=0.251]"
     ]
    },
    {
     "name": "stdout",
     "output_type": "stream",
     "text": [
      "\r\n",
      "Epoch 103/600:  17%|█▋        | 102/600 [1:22:56<6:34:14, 47.50s/it, v_num=in_1, total_loss_train=511, kl_local_train=188, metric_mi|age_categorical_train=0.251]"
     ]
    },
    {
     "name": "stdout",
     "output_type": "stream",
     "text": [
      "\r\n",
      "Epoch 103/600:  17%|█▋        | 103/600 [1:23:43<6:32:41, 47.41s/it, v_num=in_1, total_loss_train=511, kl_local_train=188, metric_mi|age_categorical_train=0.251]"
     ]
    },
    {
     "name": "stdout",
     "output_type": "stream",
     "text": [
      "\r\n",
      "Epoch 103/600:  17%|█▋        | 103/600 [1:23:43<6:32:41, 47.41s/it, v_num=in_1, total_loss_train=511, kl_local_train=184, metric_mi|age_categorical_train=0.251]"
     ]
    },
    {
     "name": "stdout",
     "output_type": "stream",
     "text": [
      "\r\n",
      "Epoch 104/600:  17%|█▋        | 103/600 [1:23:43<6:32:41, 47.41s/it, v_num=in_1, total_loss_train=511, kl_local_train=184, metric_mi|age_categorical_train=0.251]"
     ]
    },
    {
     "name": "stdout",
     "output_type": "stream",
     "text": [
      "\r\n",
      "Epoch 104/600:  17%|█▋        | 104/600 [1:24:30<6:31:16, 47.33s/it, v_num=in_1, total_loss_train=511, kl_local_train=184, metric_mi|age_categorical_train=0.251]"
     ]
    },
    {
     "name": "stdout",
     "output_type": "stream",
     "text": [
      "\r\n",
      "Epoch 104/600:  17%|█▋        | 104/600 [1:24:30<6:31:16, 47.33s/it, v_num=in_1, total_loss_train=511, kl_local_train=185, metric_mi|age_categorical_train=0.251]"
     ]
    },
    {
     "name": "stdout",
     "output_type": "stream",
     "text": [
      "\r\n",
      "Epoch 105/600:  17%|█▋        | 104/600 [1:24:30<6:31:16, 47.33s/it, v_num=in_1, total_loss_train=511, kl_local_train=185, metric_mi|age_categorical_train=0.251]"
     ]
    },
    {
     "name": "stdout",
     "output_type": "stream",
     "text": [
      "\r\n",
      "Epoch 105/600:  18%|█▊        | 105/600 [1:25:17<6:30:24, 47.32s/it, v_num=in_1, total_loss_train=511, kl_local_train=185, metric_mi|age_categorical_train=0.251]"
     ]
    },
    {
     "name": "stdout",
     "output_type": "stream",
     "text": [
      "\r\n",
      "Epoch 105/600:  18%|█▊        | 105/600 [1:25:17<6:30:24, 47.32s/it, v_num=in_1, total_loss_train=512, kl_local_train=184, metric_mi|age_categorical_train=0.251]"
     ]
    },
    {
     "name": "stdout",
     "output_type": "stream",
     "text": [
      "\r\n",
      "Epoch 106/600:  18%|█▊        | 105/600 [1:25:18<6:30:24, 47.32s/it, v_num=in_1, total_loss_train=512, kl_local_train=184, metric_mi|age_categorical_train=0.251]"
     ]
    },
    {
     "name": "stdout",
     "output_type": "stream",
     "text": [
      "\r\n",
      "Epoch 106/600:  18%|█▊        | 106/600 [1:26:06<6:31:52, 47.60s/it, v_num=in_1, total_loss_train=512, kl_local_train=184, metric_mi|age_categorical_train=0.251]"
     ]
    },
    {
     "name": "stdout",
     "output_type": "stream",
     "text": [
      "\r\n",
      "Epoch 106/600:  18%|█▊        | 106/600 [1:26:06<6:31:52, 47.60s/it, v_num=in_1, total_loss_train=512, kl_local_train=183, metric_mi|age_categorical_train=0.24] "
     ]
    },
    {
     "name": "stdout",
     "output_type": "stream",
     "text": [
      "\r\n",
      "Epoch 107/600:  18%|█▊        | 106/600 [1:26:06<6:31:52, 47.60s/it, v_num=in_1, total_loss_train=512, kl_local_train=183, metric_mi|age_categorical_train=0.24]"
     ]
    },
    {
     "name": "stdout",
     "output_type": "stream",
     "text": [
      "\r\n",
      "Epoch 107/600:  18%|█▊        | 107/600 [1:26:53<6:30:47, 47.56s/it, v_num=in_1, total_loss_train=512, kl_local_train=183, metric_mi|age_categorical_train=0.24]"
     ]
    },
    {
     "name": "stdout",
     "output_type": "stream",
     "text": [
      "\r\n",
      "Epoch 107/600:  18%|█▊        | 107/600 [1:26:53<6:30:47, 47.56s/it, v_num=in_1, total_loss_train=512, kl_local_train=182, metric_mi|age_categorical_train=0.24]"
     ]
    },
    {
     "name": "stdout",
     "output_type": "stream",
     "text": [
      "\r\n",
      "Epoch 108/600:  18%|█▊        | 107/600 [1:26:53<6:30:47, 47.56s/it, v_num=in_1, total_loss_train=512, kl_local_train=182, metric_mi|age_categorical_train=0.24]"
     ]
    },
    {
     "name": "stdout",
     "output_type": "stream",
     "text": [
      "\r\n",
      "Epoch 108/600:  18%|█▊        | 108/600 [1:27:41<6:29:37, 47.51s/it, v_num=in_1, total_loss_train=512, kl_local_train=182, metric_mi|age_categorical_train=0.24]"
     ]
    },
    {
     "name": "stdout",
     "output_type": "stream",
     "text": [
      "\r\n",
      "Epoch 108/600:  18%|█▊        | 108/600 [1:27:41<6:29:37, 47.51s/it, v_num=in_1, total_loss_train=512, kl_local_train=181, metric_mi|age_categorical_train=0.24]"
     ]
    },
    {
     "name": "stdout",
     "output_type": "stream",
     "text": [
      "\r\n",
      "Epoch 109/600:  18%|█▊        | 108/600 [1:27:41<6:29:37, 47.51s/it, v_num=in_1, total_loss_train=512, kl_local_train=181, metric_mi|age_categorical_train=0.24]"
     ]
    },
    {
     "name": "stdout",
     "output_type": "stream",
     "text": [
      "\r\n",
      "Epoch 109/600:  18%|█▊        | 109/600 [1:28:28<6:28:56, 47.53s/it, v_num=in_1, total_loss_train=512, kl_local_train=181, metric_mi|age_categorical_train=0.24]"
     ]
    },
    {
     "name": "stdout",
     "output_type": "stream",
     "text": [
      "\r\n",
      "Epoch 109/600:  18%|█▊        | 109/600 [1:28:28<6:28:56, 47.53s/it, v_num=in_1, total_loss_train=512, kl_local_train=178, metric_mi|age_categorical_train=0.24]"
     ]
    },
    {
     "name": "stdout",
     "output_type": "stream",
     "text": [
      "\r\n",
      "Epoch 110/600:  18%|█▊        | 109/600 [1:28:28<6:28:56, 47.53s/it, v_num=in_1, total_loss_train=512, kl_local_train=178, metric_mi|age_categorical_train=0.24]"
     ]
    },
    {
     "name": "stdout",
     "output_type": "stream",
     "text": [
      "\r\n",
      "Epoch 110/600:  18%|█▊        | 110/600 [1:29:16<6:28:01, 47.51s/it, v_num=in_1, total_loss_train=512, kl_local_train=178, metric_mi|age_categorical_train=0.24]"
     ]
    },
    {
     "name": "stdout",
     "output_type": "stream",
     "text": [
      "\r\n",
      "Epoch 110/600:  18%|█▊        | 110/600 [1:29:16<6:28:01, 47.51s/it, v_num=in_1, total_loss_train=512, kl_local_train=179, metric_mi|age_categorical_train=0.24]"
     ]
    },
    {
     "name": "stdout",
     "output_type": "stream",
     "text": [
      "\r\n",
      "Epoch 111/600:  18%|█▊        | 110/600 [1:29:16<6:28:01, 47.51s/it, v_num=in_1, total_loss_train=512, kl_local_train=179, metric_mi|age_categorical_train=0.24]"
     ]
    },
    {
     "name": "stdout",
     "output_type": "stream",
     "text": [
      "\r\n",
      "Epoch 111/600:  18%|█▊        | 111/600 [1:30:04<6:29:45, 47.82s/it, v_num=in_1, total_loss_train=512, kl_local_train=179, metric_mi|age_categorical_train=0.24]"
     ]
    },
    {
     "name": "stdout",
     "output_type": "stream",
     "text": [
      "\r\n",
      "Epoch 111/600:  18%|█▊        | 111/600 [1:30:04<6:29:45, 47.82s/it, v_num=in_1, total_loss_train=512, kl_local_train=177, metric_mi|age_categorical_train=0.232]"
     ]
    },
    {
     "name": "stdout",
     "output_type": "stream",
     "text": [
      "\r\n",
      "Epoch 112/600:  18%|█▊        | 111/600 [1:30:04<6:29:45, 47.82s/it, v_num=in_1, total_loss_train=512, kl_local_train=177, metric_mi|age_categorical_train=0.232]"
     ]
    },
    {
     "name": "stdout",
     "output_type": "stream",
     "text": [
      "\r\n",
      "Epoch 112/600:  19%|█▊        | 112/600 [1:30:52<6:28:18, 47.74s/it, v_num=in_1, total_loss_train=512, kl_local_train=177, metric_mi|age_categorical_train=0.232]"
     ]
    },
    {
     "name": "stdout",
     "output_type": "stream",
     "text": [
      "\r\n",
      "Epoch 112/600:  19%|█▊        | 112/600 [1:30:52<6:28:18, 47.74s/it, v_num=in_1, total_loss_train=512, kl_local_train=173, metric_mi|age_categorical_train=0.232]"
     ]
    },
    {
     "name": "stdout",
     "output_type": "stream",
     "text": [
      "\r\n",
      "Epoch 113/600:  19%|█▊        | 112/600 [1:30:52<6:28:18, 47.74s/it, v_num=in_1, total_loss_train=512, kl_local_train=173, metric_mi|age_categorical_train=0.232]"
     ]
    },
    {
     "name": "stdout",
     "output_type": "stream",
     "text": [
      "\r\n",
      "Epoch 113/600:  19%|█▉        | 113/600 [1:31:39<6:26:57, 47.67s/it, v_num=in_1, total_loss_train=512, kl_local_train=173, metric_mi|age_categorical_train=0.232]"
     ]
    },
    {
     "name": "stdout",
     "output_type": "stream",
     "text": [
      "\r\n",
      "Epoch 113/600:  19%|█▉        | 113/600 [1:31:39<6:26:57, 47.67s/it, v_num=in_1, total_loss_train=512, kl_local_train=174, metric_mi|age_categorical_train=0.232]"
     ]
    },
    {
     "name": "stdout",
     "output_type": "stream",
     "text": [
      "\r\n",
      "Epoch 114/600:  19%|█▉        | 113/600 [1:31:39<6:26:57, 47.67s/it, v_num=in_1, total_loss_train=512, kl_local_train=174, metric_mi|age_categorical_train=0.232]"
     ]
    },
    {
     "name": "stdout",
     "output_type": "stream",
     "text": [
      "\r\n",
      "Epoch 114/600:  19%|█▉        | 114/600 [1:32:27<6:25:52, 47.64s/it, v_num=in_1, total_loss_train=512, kl_local_train=174, metric_mi|age_categorical_train=0.232]"
     ]
    },
    {
     "name": "stdout",
     "output_type": "stream",
     "text": [
      "\r\n",
      "Epoch 114/600:  19%|█▉        | 114/600 [1:32:27<6:25:52, 47.64s/it, v_num=in_1, total_loss_train=512, kl_local_train=174, metric_mi|age_categorical_train=0.232]"
     ]
    },
    {
     "name": "stdout",
     "output_type": "stream",
     "text": [
      "\r\n",
      "Epoch 115/600:  19%|█▉        | 114/600 [1:32:27<6:25:52, 47.64s/it, v_num=in_1, total_loss_train=512, kl_local_train=174, metric_mi|age_categorical_train=0.232]"
     ]
    },
    {
     "name": "stdout",
     "output_type": "stream",
     "text": [
      "\r\n",
      "Epoch 115/600:  19%|█▉        | 115/600 [1:33:14<6:24:38, 47.58s/it, v_num=in_1, total_loss_train=512, kl_local_train=174, metric_mi|age_categorical_train=0.232]"
     ]
    },
    {
     "name": "stdout",
     "output_type": "stream",
     "text": [
      "\r\n",
      "Epoch 115/600:  19%|█▉        | 115/600 [1:33:14<6:24:38, 47.58s/it, v_num=in_1, total_loss_train=512, kl_local_train=174, metric_mi|age_categorical_train=0.232]"
     ]
    },
    {
     "name": "stdout",
     "output_type": "stream",
     "text": [
      "\r\n",
      "Epoch 116/600:  19%|█▉        | 115/600 [1:33:15<6:24:38, 47.58s/it, v_num=in_1, total_loss_train=512, kl_local_train=174, metric_mi|age_categorical_train=0.232]"
     ]
    },
    {
     "name": "stdout",
     "output_type": "stream",
     "text": [
      "\r\n",
      "Epoch 116/600:  19%|█▉        | 116/600 [1:34:03<6:26:16, 47.89s/it, v_num=in_1, total_loss_train=512, kl_local_train=174, metric_mi|age_categorical_train=0.232]"
     ]
    },
    {
     "name": "stdout",
     "output_type": "stream",
     "text": [
      "\r\n",
      "Epoch 116/600:  19%|█▉        | 116/600 [1:34:03<6:26:16, 47.89s/it, v_num=in_1, total_loss_train=512, kl_local_train=173, metric_mi|age_categorical_train=0.243]"
     ]
    },
    {
     "name": "stdout",
     "output_type": "stream",
     "text": [
      "\r\n",
      "Epoch 117/600:  19%|█▉        | 116/600 [1:34:03<6:26:16, 47.89s/it, v_num=in_1, total_loss_train=512, kl_local_train=173, metric_mi|age_categorical_train=0.243]"
     ]
    },
    {
     "name": "stdout",
     "output_type": "stream",
     "text": [
      "\r\n",
      "Epoch 117/600:  20%|█▉        | 117/600 [1:34:51<6:24:58, 47.82s/it, v_num=in_1, total_loss_train=512, kl_local_train=173, metric_mi|age_categorical_train=0.243]"
     ]
    },
    {
     "name": "stdout",
     "output_type": "stream",
     "text": [
      "\r\n",
      "Epoch 117/600:  20%|█▉        | 117/600 [1:34:51<6:24:58, 47.82s/it, v_num=in_1, total_loss_train=512, kl_local_train=172, metric_mi|age_categorical_train=0.243]"
     ]
    },
    {
     "name": "stdout",
     "output_type": "stream",
     "text": [
      "\r\n",
      "Epoch 118/600:  20%|█▉        | 117/600 [1:34:51<6:24:58, 47.82s/it, v_num=in_1, total_loss_train=512, kl_local_train=172, metric_mi|age_categorical_train=0.243]"
     ]
    },
    {
     "name": "stdout",
     "output_type": "stream",
     "text": [
      "\r\n",
      "Epoch 118/600:  20%|█▉        | 118/600 [1:35:38<6:24:13, 47.83s/it, v_num=in_1, total_loss_train=512, kl_local_train=172, metric_mi|age_categorical_train=0.243]"
     ]
    },
    {
     "name": "stdout",
     "output_type": "stream",
     "text": [
      "\r\n",
      "Epoch 118/600:  20%|█▉        | 118/600 [1:35:38<6:24:13, 47.83s/it, v_num=in_1, total_loss_train=512, kl_local_train=171, metric_mi|age_categorical_train=0.243]"
     ]
    },
    {
     "name": "stdout",
     "output_type": "stream",
     "text": [
      "\r\n",
      "Epoch 119/600:  20%|█▉        | 118/600 [1:35:38<6:24:13, 47.83s/it, v_num=in_1, total_loss_train=512, kl_local_train=171, metric_mi|age_categorical_train=0.243]"
     ]
    },
    {
     "name": "stdout",
     "output_type": "stream",
     "text": [
      "\r\n",
      "Epoch 119/600:  20%|█▉        | 119/600 [1:36:26<6:23:35, 47.85s/it, v_num=in_1, total_loss_train=512, kl_local_train=171, metric_mi|age_categorical_train=0.243]"
     ]
    },
    {
     "name": "stdout",
     "output_type": "stream",
     "text": [
      "\r\n",
      "Epoch 119/600:  20%|█▉        | 119/600 [1:36:26<6:23:35, 47.85s/it, v_num=in_1, total_loss_train=512, kl_local_train=169, metric_mi|age_categorical_train=0.243]"
     ]
    },
    {
     "name": "stdout",
     "output_type": "stream",
     "text": [
      "\r\n",
      "Epoch 120/600:  20%|█▉        | 119/600 [1:36:26<6:23:35, 47.85s/it, v_num=in_1, total_loss_train=512, kl_local_train=169, metric_mi|age_categorical_train=0.243]"
     ]
    },
    {
     "name": "stdout",
     "output_type": "stream",
     "text": [
      "\r\n",
      "Epoch 120/600:  20%|██        | 120/600 [1:37:15<6:23:48, 47.98s/it, v_num=in_1, total_loss_train=512, kl_local_train=169, metric_mi|age_categorical_train=0.243]"
     ]
    },
    {
     "name": "stdout",
     "output_type": "stream",
     "text": [
      "\r\n",
      "Epoch 120/600:  20%|██        | 120/600 [1:37:15<6:23:48, 47.98s/it, v_num=in_1, total_loss_train=513, kl_local_train=169, metric_mi|age_categorical_train=0.243]"
     ]
    },
    {
     "name": "stdout",
     "output_type": "stream",
     "text": [
      "\r\n",
      "Epoch 121/600:  20%|██        | 120/600 [1:37:15<6:23:48, 47.98s/it, v_num=in_1, total_loss_train=513, kl_local_train=169, metric_mi|age_categorical_train=0.243]"
     ]
    },
    {
     "name": "stdout",
     "output_type": "stream",
     "text": [
      "\r\n",
      "Epoch 121/600:  20%|██        | 121/600 [1:38:03<6:24:18, 48.14s/it, v_num=in_1, total_loss_train=513, kl_local_train=169, metric_mi|age_categorical_train=0.243]"
     ]
    },
    {
     "name": "stdout",
     "output_type": "stream",
     "text": [
      "\r\n",
      "Epoch 121/600:  20%|██        | 121/600 [1:38:03<6:24:18, 48.14s/it, v_num=in_1, total_loss_train=512, kl_local_train=169, metric_mi|age_categorical_train=0.251]"
     ]
    },
    {
     "name": "stdout",
     "output_type": "stream",
     "text": [
      "\r\n",
      "Epoch 122/600:  20%|██        | 121/600 [1:38:03<6:24:18, 48.14s/it, v_num=in_1, total_loss_train=512, kl_local_train=169, metric_mi|age_categorical_train=0.251]"
     ]
    },
    {
     "name": "stdout",
     "output_type": "stream",
     "text": [
      "\r\n",
      "Epoch 122/600:  20%|██        | 122/600 [1:38:51<6:22:12, 47.98s/it, v_num=in_1, total_loss_train=512, kl_local_train=169, metric_mi|age_categorical_train=0.251]"
     ]
    },
    {
     "name": "stdout",
     "output_type": "stream",
     "text": [
      "\r\n",
      "Epoch 122/600:  20%|██        | 122/600 [1:38:51<6:22:12, 47.98s/it, v_num=in_1, total_loss_train=513, kl_local_train=165, metric_mi|age_categorical_train=0.251]"
     ]
    },
    {
     "name": "stdout",
     "output_type": "stream",
     "text": [
      "\r\n",
      "Epoch 123/600:  20%|██        | 122/600 [1:38:51<6:22:12, 47.98s/it, v_num=in_1, total_loss_train=513, kl_local_train=165, metric_mi|age_categorical_train=0.251]"
     ]
    },
    {
     "name": "stdout",
     "output_type": "stream",
     "text": [
      "\r\n",
      "Epoch 123/600:  20%|██        | 123/600 [1:39:38<6:20:28, 47.86s/it, v_num=in_1, total_loss_train=513, kl_local_train=165, metric_mi|age_categorical_train=0.251]"
     ]
    },
    {
     "name": "stdout",
     "output_type": "stream",
     "text": [
      "\r\n",
      "Epoch 123/600:  20%|██        | 123/600 [1:39:38<6:20:28, 47.86s/it, v_num=in_1, total_loss_train=513, kl_local_train=166, metric_mi|age_categorical_train=0.251]"
     ]
    },
    {
     "name": "stdout",
     "output_type": "stream",
     "text": [
      "\r\n",
      "Epoch 124/600:  20%|██        | 123/600 [1:39:38<6:20:28, 47.86s/it, v_num=in_1, total_loss_train=513, kl_local_train=166, metric_mi|age_categorical_train=0.251]"
     ]
    },
    {
     "name": "stdout",
     "output_type": "stream",
     "text": [
      "\r\n",
      "Epoch 124/600:  21%|██        | 124/600 [1:40:26<6:19:25, 47.83s/it, v_num=in_1, total_loss_train=513, kl_local_train=166, metric_mi|age_categorical_train=0.251]"
     ]
    },
    {
     "name": "stdout",
     "output_type": "stream",
     "text": [
      "\r\n",
      "Epoch 124/600:  21%|██        | 124/600 [1:40:26<6:19:25, 47.83s/it, v_num=in_1, total_loss_train=513, kl_local_train=165, metric_mi|age_categorical_train=0.251]"
     ]
    },
    {
     "name": "stdout",
     "output_type": "stream",
     "text": [
      "\r\n",
      "Epoch 125/600:  21%|██        | 124/600 [1:40:26<6:19:25, 47.83s/it, v_num=in_1, total_loss_train=513, kl_local_train=165, metric_mi|age_categorical_train=0.251]"
     ]
    },
    {
     "name": "stdout",
     "output_type": "stream",
     "text": [
      "\r\n",
      "Epoch 125/600:  21%|██        | 125/600 [1:41:14<6:18:41, 47.83s/it, v_num=in_1, total_loss_train=513, kl_local_train=165, metric_mi|age_categorical_train=0.251]"
     ]
    },
    {
     "name": "stdout",
     "output_type": "stream",
     "text": [
      "\r\n",
      "Epoch 125/600:  21%|██        | 125/600 [1:41:14<6:18:41, 47.83s/it, v_num=in_1, total_loss_train=513, kl_local_train=164, metric_mi|age_categorical_train=0.251]"
     ]
    },
    {
     "name": "stdout",
     "output_type": "stream",
     "text": [
      "\r\n",
      "Epoch 126/600:  21%|██        | 125/600 [1:41:15<6:18:41, 47.83s/it, v_num=in_1, total_loss_train=513, kl_local_train=164, metric_mi|age_categorical_train=0.251]"
     ]
    },
    {
     "name": "stdout",
     "output_type": "stream",
     "text": [
      "\r\n",
      "Epoch 126/600:  21%|██        | 126/600 [1:42:03<6:20:06, 48.11s/it, v_num=in_1, total_loss_train=513, kl_local_train=164, metric_mi|age_categorical_train=0.251]"
     ]
    },
    {
     "name": "stdout",
     "output_type": "stream",
     "text": [
      "\r\n",
      "Epoch 126/600:  21%|██        | 126/600 [1:42:03<6:20:06, 48.11s/it, v_num=in_1, total_loss_train=513, kl_local_train=163, metric_mi|age_categorical_train=0.244]"
     ]
    },
    {
     "name": "stdout",
     "output_type": "stream",
     "text": [
      "\r\n",
      "Epoch 127/600:  21%|██        | 126/600 [1:42:03<6:20:06, 48.11s/it, v_num=in_1, total_loss_train=513, kl_local_train=163, metric_mi|age_categorical_train=0.244]"
     ]
    },
    {
     "name": "stdout",
     "output_type": "stream",
     "text": [
      "\r\n",
      "Epoch 127/600:  21%|██        | 127/600 [1:42:50<6:18:18, 47.99s/it, v_num=in_1, total_loss_train=513, kl_local_train=163, metric_mi|age_categorical_train=0.244]"
     ]
    },
    {
     "name": "stdout",
     "output_type": "stream",
     "text": [
      "\r\n",
      "Epoch 127/600:  21%|██        | 127/600 [1:42:50<6:18:18, 47.99s/it, v_num=in_1, total_loss_train=513, kl_local_train=161, metric_mi|age_categorical_train=0.244]"
     ]
    },
    {
     "name": "stdout",
     "output_type": "stream",
     "text": [
      "\r\n",
      "Epoch 128/600:  21%|██        | 127/600 [1:42:50<6:18:18, 47.99s/it, v_num=in_1, total_loss_train=513, kl_local_train=161, metric_mi|age_categorical_train=0.244]"
     ]
    },
    {
     "name": "stdout",
     "output_type": "stream",
     "text": [
      "\r\n",
      "Epoch 128/600:  21%|██▏       | 128/600 [1:43:38<6:16:39, 47.88s/it, v_num=in_1, total_loss_train=513, kl_local_train=161, metric_mi|age_categorical_train=0.244]"
     ]
    },
    {
     "name": "stdout",
     "output_type": "stream",
     "text": [
      "\r\n",
      "Epoch 128/600:  21%|██▏       | 128/600 [1:43:38<6:16:39, 47.88s/it, v_num=in_1, total_loss_train=513, kl_local_train=161, metric_mi|age_categorical_train=0.244]"
     ]
    },
    {
     "name": "stdout",
     "output_type": "stream",
     "text": [
      "\r\n",
      "Epoch 129/600:  21%|██▏       | 128/600 [1:43:38<6:16:39, 47.88s/it, v_num=in_1, total_loss_train=513, kl_local_train=161, metric_mi|age_categorical_train=0.244]"
     ]
    },
    {
     "name": "stdout",
     "output_type": "stream",
     "text": [
      "\r\n",
      "Epoch 129/600:  22%|██▏       | 129/600 [1:44:26<6:15:15, 47.80s/it, v_num=in_1, total_loss_train=513, kl_local_train=161, metric_mi|age_categorical_train=0.244]"
     ]
    },
    {
     "name": "stdout",
     "output_type": "stream",
     "text": [
      "\r\n",
      "Epoch 129/600:  22%|██▏       | 129/600 [1:44:26<6:15:15, 47.80s/it, v_num=in_1, total_loss_train=513, kl_local_train=160, metric_mi|age_categorical_train=0.244]"
     ]
    },
    {
     "name": "stdout",
     "output_type": "stream",
     "text": [
      "\r\n",
      "Epoch 130/600:  22%|██▏       | 129/600 [1:44:26<6:15:15, 47.80s/it, v_num=in_1, total_loss_train=513, kl_local_train=160, metric_mi|age_categorical_train=0.244]"
     ]
    },
    {
     "name": "stdout",
     "output_type": "stream",
     "text": [
      "\r\n",
      "Epoch 130/600:  22%|██▏       | 130/600 [1:45:13<6:14:14, 47.78s/it, v_num=in_1, total_loss_train=513, kl_local_train=160, metric_mi|age_categorical_train=0.244]"
     ]
    },
    {
     "name": "stdout",
     "output_type": "stream",
     "text": [
      "\r\n",
      "Epoch 130/600:  22%|██▏       | 130/600 [1:45:13<6:14:14, 47.78s/it, v_num=in_1, total_loss_train=513, kl_local_train=159, metric_mi|age_categorical_train=0.244]"
     ]
    },
    {
     "name": "stdout",
     "output_type": "stream",
     "text": [
      "\r\n",
      "Epoch 131/600:  22%|██▏       | 130/600 [1:45:14<6:14:14, 47.78s/it, v_num=in_1, total_loss_train=513, kl_local_train=159, metric_mi|age_categorical_train=0.244]"
     ]
    },
    {
     "name": "stdout",
     "output_type": "stream",
     "text": [
      "\r\n",
      "Epoch 131/600:  22%|██▏       | 131/600 [1:46:02<6:14:44, 47.94s/it, v_num=in_1, total_loss_train=513, kl_local_train=159, metric_mi|age_categorical_train=0.244]"
     ]
    },
    {
     "name": "stdout",
     "output_type": "stream",
     "text": [
      "\r\n",
      "Epoch 131/600:  22%|██▏       | 131/600 [1:46:02<6:14:44, 47.94s/it, v_num=in_1, total_loss_train=514, kl_local_train=160, metric_mi|age_categorical_train=0.237]"
     ]
    },
    {
     "name": "stdout",
     "output_type": "stream",
     "text": [
      "\r\n",
      "Epoch 132/600:  22%|██▏       | 131/600 [1:46:02<6:14:44, 47.94s/it, v_num=in_1, total_loss_train=514, kl_local_train=160, metric_mi|age_categorical_train=0.237]"
     ]
    },
    {
     "name": "stdout",
     "output_type": "stream",
     "text": [
      "\r\n",
      "Epoch 132/600:  22%|██▏       | 132/600 [1:46:49<6:12:30, 47.76s/it, v_num=in_1, total_loss_train=514, kl_local_train=160, metric_mi|age_categorical_train=0.237]"
     ]
    },
    {
     "name": "stdout",
     "output_type": "stream",
     "text": [
      "\r\n",
      "Epoch 132/600:  22%|██▏       | 132/600 [1:46:49<6:12:30, 47.76s/it, v_num=in_1, total_loss_train=514, kl_local_train=159, metric_mi|age_categorical_train=0.237]"
     ]
    },
    {
     "name": "stdout",
     "output_type": "stream",
     "text": [
      "\r\n",
      "Epoch 133/600:  22%|██▏       | 132/600 [1:46:49<6:12:30, 47.76s/it, v_num=in_1, total_loss_train=514, kl_local_train=159, metric_mi|age_categorical_train=0.237]"
     ]
    },
    {
     "name": "stdout",
     "output_type": "stream",
     "text": [
      "\r\n",
      "Epoch 133/600:  22%|██▏       | 133/600 [1:47:36<6:11:09, 47.69s/it, v_num=in_1, total_loss_train=514, kl_local_train=159, metric_mi|age_categorical_train=0.237]"
     ]
    },
    {
     "name": "stdout",
     "output_type": "stream",
     "text": [
      "\r\n",
      "Epoch 133/600:  22%|██▏       | 133/600 [1:47:36<6:11:09, 47.69s/it, v_num=in_1, total_loss_train=514, kl_local_train=158, metric_mi|age_categorical_train=0.237]"
     ]
    },
    {
     "name": "stdout",
     "output_type": "stream",
     "text": [
      "\r\n",
      "Epoch 134/600:  22%|██▏       | 133/600 [1:47:36<6:11:09, 47.69s/it, v_num=in_1, total_loss_train=514, kl_local_train=158, metric_mi|age_categorical_train=0.237]"
     ]
    },
    {
     "name": "stdout",
     "output_type": "stream",
     "text": [
      "\r\n",
      "Epoch 134/600:  22%|██▏       | 134/600 [1:48:24<6:09:30, 47.58s/it, v_num=in_1, total_loss_train=514, kl_local_train=158, metric_mi|age_categorical_train=0.237]"
     ]
    },
    {
     "name": "stdout",
     "output_type": "stream",
     "text": [
      "\r\n",
      "Epoch 134/600:  22%|██▏       | 134/600 [1:48:24<6:09:30, 47.58s/it, v_num=in_1, total_loss_train=514, kl_local_train=158, metric_mi|age_categorical_train=0.237]"
     ]
    },
    {
     "name": "stdout",
     "output_type": "stream",
     "text": [
      "\r\n",
      "Epoch 135/600:  22%|██▏       | 134/600 [1:48:24<6:09:30, 47.58s/it, v_num=in_1, total_loss_train=514, kl_local_train=158, metric_mi|age_categorical_train=0.237]"
     ]
    },
    {
     "name": "stdout",
     "output_type": "stream",
     "text": [
      "\r\n",
      "Epoch 135/600:  22%|██▎       | 135/600 [1:49:11<6:08:02, 47.49s/it, v_num=in_1, total_loss_train=514, kl_local_train=158, metric_mi|age_categorical_train=0.237]"
     ]
    },
    {
     "name": "stdout",
     "output_type": "stream",
     "text": [
      "\r\n",
      "Epoch 135/600:  22%|██▎       | 135/600 [1:49:11<6:08:02, 47.49s/it, v_num=in_1, total_loss_train=513, kl_local_train=156, metric_mi|age_categorical_train=0.237]"
     ]
    },
    {
     "name": "stdout",
     "output_type": "stream",
     "text": [
      "\r\n",
      "Epoch 136/600:  22%|██▎       | 135/600 [1:49:12<6:08:02, 47.49s/it, v_num=in_1, total_loss_train=513, kl_local_train=156, metric_mi|age_categorical_train=0.237]"
     ]
    },
    {
     "name": "stdout",
     "output_type": "stream",
     "text": [
      "\r\n",
      "Epoch 136/600:  23%|██▎       | 136/600 [1:49:59<6:08:45, 47.68s/it, v_num=in_1, total_loss_train=513, kl_local_train=156, metric_mi|age_categorical_train=0.237]"
     ]
    },
    {
     "name": "stdout",
     "output_type": "stream",
     "text": [
      "\r\n",
      "Epoch 136/600:  23%|██▎       | 136/600 [1:49:59<6:08:45, 47.68s/it, v_num=in_1, total_loss_train=514, kl_local_train=157, metric_mi|age_categorical_train=0.239]"
     ]
    },
    {
     "name": "stdout",
     "output_type": "stream",
     "text": [
      "\r\n",
      "Epoch 137/600:  23%|██▎       | 136/600 [1:49:59<6:08:45, 47.68s/it, v_num=in_1, total_loss_train=514, kl_local_train=157, metric_mi|age_categorical_train=0.239]"
     ]
    },
    {
     "name": "stdout",
     "output_type": "stream",
     "text": [
      "\r\n",
      "Epoch 137/600:  23%|██▎       | 137/600 [1:50:46<6:07:03, 47.57s/it, v_num=in_1, total_loss_train=514, kl_local_train=157, metric_mi|age_categorical_train=0.239]"
     ]
    },
    {
     "name": "stdout",
     "output_type": "stream",
     "text": [
      "\r\n",
      "Epoch 137/600:  23%|██▎       | 137/600 [1:50:46<6:07:03, 47.57s/it, v_num=in_1, total_loss_train=514, kl_local_train=156, metric_mi|age_categorical_train=0.239]"
     ]
    },
    {
     "name": "stdout",
     "output_type": "stream",
     "text": [
      "\r\n",
      "Epoch 138/600:  23%|██▎       | 137/600 [1:50:46<6:07:03, 47.57s/it, v_num=in_1, total_loss_train=514, kl_local_train=156, metric_mi|age_categorical_train=0.239]"
     ]
    },
    {
     "name": "stdout",
     "output_type": "stream",
     "text": [
      "\r\n",
      "Epoch 138/600:  23%|██▎       | 138/600 [1:51:34<6:05:48, 47.51s/it, v_num=in_1, total_loss_train=514, kl_local_train=156, metric_mi|age_categorical_train=0.239]"
     ]
    },
    {
     "name": "stdout",
     "output_type": "stream",
     "text": [
      "\r\n",
      "Epoch 138/600:  23%|██▎       | 138/600 [1:51:34<6:05:48, 47.51s/it, v_num=in_1, total_loss_train=514, kl_local_train=155, metric_mi|age_categorical_train=0.239]"
     ]
    },
    {
     "name": "stdout",
     "output_type": "stream",
     "text": [
      "\r\n",
      "Epoch 139/600:  23%|██▎       | 138/600 [1:51:34<6:05:48, 47.51s/it, v_num=in_1, total_loss_train=514, kl_local_train=155, metric_mi|age_categorical_train=0.239]"
     ]
    },
    {
     "name": "stdout",
     "output_type": "stream",
     "text": [
      "\r\n",
      "Epoch 139/600:  23%|██▎       | 139/600 [1:52:21<6:04:33, 47.45s/it, v_num=in_1, total_loss_train=514, kl_local_train=155, metric_mi|age_categorical_train=0.239]"
     ]
    },
    {
     "name": "stdout",
     "output_type": "stream",
     "text": [
      "\r\n",
      "Epoch 139/600:  23%|██▎       | 139/600 [1:52:21<6:04:33, 47.45s/it, v_num=in_1, total_loss_train=514, kl_local_train=154, metric_mi|age_categorical_train=0.239]"
     ]
    },
    {
     "name": "stdout",
     "output_type": "stream",
     "text": [
      "\r\n",
      "Epoch 140/600:  23%|██▎       | 139/600 [1:52:21<6:04:33, 47.45s/it, v_num=in_1, total_loss_train=514, kl_local_train=154, metric_mi|age_categorical_train=0.239]"
     ]
    },
    {
     "name": "stdout",
     "output_type": "stream",
     "text": [
      "\r\n",
      "Epoch 140/600:  23%|██▎       | 140/600 [1:53:10<6:07:23, 47.92s/it, v_num=in_1, total_loss_train=514, kl_local_train=154, metric_mi|age_categorical_train=0.239]"
     ]
    },
    {
     "name": "stdout",
     "output_type": "stream",
     "text": [
      "\r\n",
      "Epoch 140/600:  23%|██▎       | 140/600 [1:53:10<6:07:23, 47.92s/it, v_num=in_1, total_loss_train=514, kl_local_train=153, metric_mi|age_categorical_train=0.239]"
     ]
    },
    {
     "name": "stdout",
     "output_type": "stream",
     "text": [
      "\r\n",
      "Epoch 141/600:  23%|██▎       | 140/600 [1:53:11<6:07:23, 47.92s/it, v_num=in_1, total_loss_train=514, kl_local_train=153, metric_mi|age_categorical_train=0.239]"
     ]
    },
    {
     "name": "stdout",
     "output_type": "stream",
     "text": [
      "\r\n",
      "Epoch 141/600:  24%|██▎       | 141/600 [1:53:59<6:07:49, 48.08s/it, v_num=in_1, total_loss_train=514, kl_local_train=153, metric_mi|age_categorical_train=0.239]"
     ]
    },
    {
     "name": "stdout",
     "output_type": "stream",
     "text": [
      "\r\n",
      "Epoch 141/600:  24%|██▎       | 141/600 [1:53:59<6:07:49, 48.08s/it, v_num=in_1, total_loss_train=514, kl_local_train=153, metric_mi|age_categorical_train=0.244]"
     ]
    },
    {
     "name": "stdout",
     "output_type": "stream",
     "text": [
      "\r\n",
      "Epoch 142/600:  24%|██▎       | 141/600 [1:53:59<6:07:49, 48.08s/it, v_num=in_1, total_loss_train=514, kl_local_train=153, metric_mi|age_categorical_train=0.244]"
     ]
    },
    {
     "name": "stdout",
     "output_type": "stream",
     "text": [
      "\r\n",
      "Epoch 142/600:  24%|██▎       | 142/600 [1:54:46<6:05:50, 47.93s/it, v_num=in_1, total_loss_train=514, kl_local_train=153, metric_mi|age_categorical_train=0.244]"
     ]
    },
    {
     "name": "stdout",
     "output_type": "stream",
     "text": [
      "\r\n",
      "Epoch 142/600:  24%|██▎       | 142/600 [1:54:46<6:05:50, 47.93s/it, v_num=in_1, total_loss_train=514, kl_local_train=151, metric_mi|age_categorical_train=0.244]"
     ]
    },
    {
     "name": "stdout",
     "output_type": "stream",
     "text": [
      "\r\n",
      "Epoch 143/600:  24%|██▎       | 142/600 [1:54:46<6:05:50, 47.93s/it, v_num=in_1, total_loss_train=514, kl_local_train=151, metric_mi|age_categorical_train=0.244]"
     ]
    },
    {
     "name": "stdout",
     "output_type": "stream",
     "text": [
      "\r\n",
      "Epoch 143/600:  24%|██▍       | 143/600 [1:55:34<6:04:27, 47.85s/it, v_num=in_1, total_loss_train=514, kl_local_train=151, metric_mi|age_categorical_train=0.244]"
     ]
    },
    {
     "name": "stdout",
     "output_type": "stream",
     "text": [
      "\r\n",
      "Epoch 143/600:  24%|██▍       | 143/600 [1:55:34<6:04:27, 47.85s/it, v_num=in_1, total_loss_train=515, kl_local_train=151, metric_mi|age_categorical_train=0.244]"
     ]
    },
    {
     "name": "stdout",
     "output_type": "stream",
     "text": [
      "\r\n",
      "Epoch 144/600:  24%|██▍       | 143/600 [1:55:34<6:04:27, 47.85s/it, v_num=in_1, total_loss_train=515, kl_local_train=151, metric_mi|age_categorical_train=0.244]"
     ]
    },
    {
     "name": "stdout",
     "output_type": "stream",
     "text": [
      "\r\n",
      "Epoch 144/600:  24%|██▍       | 144/600 [1:56:21<6:03:06, 47.78s/it, v_num=in_1, total_loss_train=515, kl_local_train=151, metric_mi|age_categorical_train=0.244]"
     ]
    },
    {
     "name": "stdout",
     "output_type": "stream",
     "text": [
      "\r\n",
      "Epoch 144/600:  24%|██▍       | 144/600 [1:56:21<6:03:06, 47.78s/it, v_num=in_1, total_loss_train=515, kl_local_train=150, metric_mi|age_categorical_train=0.244]"
     ]
    },
    {
     "name": "stdout",
     "output_type": "stream",
     "text": [
      "\r\n",
      "Epoch 145/600:  24%|██▍       | 144/600 [1:56:21<6:03:06, 47.78s/it, v_num=in_1, total_loss_train=515, kl_local_train=150, metric_mi|age_categorical_train=0.244]"
     ]
    },
    {
     "name": "stdout",
     "output_type": "stream",
     "text": [
      "\r\n",
      "Epoch 145/600:  24%|██▍       | 145/600 [1:57:12<6:07:51, 48.51s/it, v_num=in_1, total_loss_train=515, kl_local_train=150, metric_mi|age_categorical_train=0.244]"
     ]
    },
    {
     "name": "stdout",
     "output_type": "stream",
     "text": [
      "\r\n",
      "Epoch 145/600:  24%|██▍       | 145/600 [1:57:12<6:07:51, 48.51s/it, v_num=in_1, total_loss_train=515, kl_local_train=148, metric_mi|age_categorical_train=0.244]"
     ]
    },
    {
     "name": "stdout",
     "output_type": "stream",
     "text": [
      "\r\n",
      "Epoch 146/600:  24%|██▍       | 145/600 [1:57:12<6:07:51, 48.51s/it, v_num=in_1, total_loss_train=515, kl_local_train=148, metric_mi|age_categorical_train=0.244]"
     ]
    },
    {
     "name": "stdout",
     "output_type": "stream",
     "text": [
      "\r\n",
      "Epoch 146/600:  24%|██▍       | 146/600 [1:58:01<6:07:59, 48.63s/it, v_num=in_1, total_loss_train=515, kl_local_train=148, metric_mi|age_categorical_train=0.244]"
     ]
    },
    {
     "name": "stdout",
     "output_type": "stream",
     "text": [
      "\r\n",
      "Epoch 146/600:  24%|██▍       | 146/600 [1:58:01<6:07:59, 48.63s/it, v_num=in_1, total_loss_train=515, kl_local_train=150, metric_mi|age_categorical_train=0.246]"
     ]
    },
    {
     "name": "stdout",
     "output_type": "stream",
     "text": [
      "\r\n",
      "Epoch 147/600:  24%|██▍       | 146/600 [1:58:01<6:07:59, 48.63s/it, v_num=in_1, total_loss_train=515, kl_local_train=150, metric_mi|age_categorical_train=0.246]"
     ]
    },
    {
     "name": "stdout",
     "output_type": "stream",
     "text": [
      "\r\n",
      "Epoch 147/600:  24%|██▍       | 147/600 [1:58:49<6:06:12, 48.50s/it, v_num=in_1, total_loss_train=515, kl_local_train=150, metric_mi|age_categorical_train=0.246]"
     ]
    },
    {
     "name": "stdout",
     "output_type": "stream",
     "text": [
      "\r\n",
      "Epoch 147/600:  24%|██▍       | 147/600 [1:58:49<6:06:12, 48.50s/it, v_num=in_1, total_loss_train=515, kl_local_train=149, metric_mi|age_categorical_train=0.246]"
     ]
    },
    {
     "name": "stdout",
     "output_type": "stream",
     "text": [
      "\r\n",
      "Epoch 148/600:  24%|██▍       | 147/600 [1:58:49<6:06:12, 48.50s/it, v_num=in_1, total_loss_train=515, kl_local_train=149, metric_mi|age_categorical_train=0.246]"
     ]
    },
    {
     "name": "stdout",
     "output_type": "stream",
     "text": [
      "\r\n",
      "Epoch 148/600:  25%|██▍       | 148/600 [1:59:37<6:04:21, 48.37s/it, v_num=in_1, total_loss_train=515, kl_local_train=149, metric_mi|age_categorical_train=0.246]"
     ]
    },
    {
     "name": "stdout",
     "output_type": "stream",
     "text": [
      "\r\n",
      "Epoch 148/600:  25%|██▍       | 148/600 [1:59:37<6:04:21, 48.37s/it, v_num=in_1, total_loss_train=515, kl_local_train=149, metric_mi|age_categorical_train=0.246]"
     ]
    },
    {
     "name": "stdout",
     "output_type": "stream",
     "text": [
      "\r\n",
      "Epoch 149/600:  25%|██▍       | 148/600 [1:59:37<6:04:21, 48.37s/it, v_num=in_1, total_loss_train=515, kl_local_train=149, metric_mi|age_categorical_train=0.246]"
     ]
    },
    {
     "name": "stdout",
     "output_type": "stream",
     "text": [
      "\r\n",
      "Epoch 149/600:  25%|██▍       | 149/600 [2:00:25<6:03:17, 48.33s/it, v_num=in_1, total_loss_train=515, kl_local_train=149, metric_mi|age_categorical_train=0.246]"
     ]
    },
    {
     "name": "stdout",
     "output_type": "stream",
     "text": [
      "\r\n",
      "Epoch 149/600:  25%|██▍       | 149/600 [2:00:25<6:03:17, 48.33s/it, v_num=in_1, total_loss_train=515, kl_local_train=148, metric_mi|age_categorical_train=0.246]"
     ]
    },
    {
     "name": "stdout",
     "output_type": "stream",
     "text": [
      "\r\n",
      "Epoch 150/600:  25%|██▍       | 149/600 [2:00:25<6:03:17, 48.33s/it, v_num=in_1, total_loss_train=515, kl_local_train=148, metric_mi|age_categorical_train=0.246]"
     ]
    },
    {
     "name": "stdout",
     "output_type": "stream",
     "text": [
      "\r\n",
      "Epoch 150/600:  25%|██▌       | 150/600 [2:01:13<6:01:31, 48.20s/it, v_num=in_1, total_loss_train=515, kl_local_train=148, metric_mi|age_categorical_train=0.246]"
     ]
    },
    {
     "name": "stdout",
     "output_type": "stream",
     "text": [
      "\r\n",
      "Epoch 150/600:  25%|██▌       | 150/600 [2:01:13<6:01:31, 48.20s/it, v_num=in_1, total_loss_train=515, kl_local_train=147, metric_mi|age_categorical_train=0.246]"
     ]
    },
    {
     "name": "stdout",
     "output_type": "stream",
     "text": [
      "\r\n",
      "Epoch 151/600:  25%|██▌       | 150/600 [2:01:14<6:01:31, 48.20s/it, v_num=in_1, total_loss_train=515, kl_local_train=147, metric_mi|age_categorical_train=0.246]"
     ]
    },
    {
     "name": "stdout",
     "output_type": "stream",
     "text": [
      "\r\n",
      "Epoch 151/600:  25%|██▌       | 151/600 [2:02:02<6:02:25, 48.43s/it, v_num=in_1, total_loss_train=515, kl_local_train=147, metric_mi|age_categorical_train=0.246]"
     ]
    },
    {
     "name": "stdout",
     "output_type": "stream",
     "text": [
      "\r\n",
      "Epoch 151/600:  25%|██▌       | 151/600 [2:02:02<6:02:25, 48.43s/it, v_num=in_1, total_loss_train=515, kl_local_train=148, metric_mi|age_categorical_train=0.232]"
     ]
    },
    {
     "name": "stdout",
     "output_type": "stream",
     "text": [
      "\r\n",
      "Epoch 152/600:  25%|██▌       | 151/600 [2:02:02<6:02:25, 48.43s/it, v_num=in_1, total_loss_train=515, kl_local_train=148, metric_mi|age_categorical_train=0.232]"
     ]
    },
    {
     "name": "stdout",
     "output_type": "stream",
     "text": [
      "\r\n",
      "Epoch 152/600:  25%|██▌       | 152/600 [2:02:50<6:00:19, 48.26s/it, v_num=in_1, total_loss_train=515, kl_local_train=148, metric_mi|age_categorical_train=0.232]"
     ]
    },
    {
     "name": "stdout",
     "output_type": "stream",
     "text": [
      "\r\n",
      "Epoch 152/600:  25%|██▌       | 152/600 [2:02:50<6:00:19, 48.26s/it, v_num=in_1, total_loss_train=516, kl_local_train=147, metric_mi|age_categorical_train=0.232]"
     ]
    },
    {
     "name": "stdout",
     "output_type": "stream",
     "text": [
      "\r\n",
      "Epoch 153/600:  25%|██▌       | 152/600 [2:02:50<6:00:19, 48.26s/it, v_num=in_1, total_loss_train=516, kl_local_train=147, metric_mi|age_categorical_train=0.232]"
     ]
    },
    {
     "name": "stdout",
     "output_type": "stream",
     "text": [
      "\r\n",
      "Epoch 153/600:  26%|██▌       | 153/600 [2:03:38<5:58:37, 48.14s/it, v_num=in_1, total_loss_train=516, kl_local_train=147, metric_mi|age_categorical_train=0.232]"
     ]
    },
    {
     "name": "stdout",
     "output_type": "stream",
     "text": [
      "\r\n",
      "Epoch 153/600:  26%|██▌       | 153/600 [2:03:38<5:58:37, 48.14s/it, v_num=in_1, total_loss_train=516, kl_local_train=146, metric_mi|age_categorical_train=0.232]"
     ]
    },
    {
     "name": "stdout",
     "output_type": "stream",
     "text": [
      "\r\n",
      "Epoch 154/600:  26%|██▌       | 153/600 [2:03:38<5:58:37, 48.14s/it, v_num=in_1, total_loss_train=516, kl_local_train=146, metric_mi|age_categorical_train=0.232]"
     ]
    },
    {
     "name": "stdout",
     "output_type": "stream",
     "text": [
      "\r\n",
      "Epoch 154/600:  26%|██▌       | 154/600 [2:04:25<5:56:57, 48.02s/it, v_num=in_1, total_loss_train=516, kl_local_train=146, metric_mi|age_categorical_train=0.232]"
     ]
    },
    {
     "name": "stdout",
     "output_type": "stream",
     "text": [
      "\r\n",
      "Epoch 154/600:  26%|██▌       | 154/600 [2:04:25<5:56:57, 48.02s/it, v_num=in_1, total_loss_train=516, kl_local_train=145, metric_mi|age_categorical_train=0.232]"
     ]
    },
    {
     "name": "stdout",
     "output_type": "stream",
     "text": [
      "\r\n",
      "Epoch 155/600:  26%|██▌       | 154/600 [2:04:25<5:56:57, 48.02s/it, v_num=in_1, total_loss_train=516, kl_local_train=145, metric_mi|age_categorical_train=0.232]"
     ]
    },
    {
     "name": "stdout",
     "output_type": "stream",
     "text": [
      "\r\n",
      "Epoch 155/600:  26%|██▌       | 155/600 [2:05:13<5:55:57, 47.99s/it, v_num=in_1, total_loss_train=516, kl_local_train=145, metric_mi|age_categorical_train=0.232]"
     ]
    },
    {
     "name": "stdout",
     "output_type": "stream",
     "text": [
      "\r\n",
      "Epoch 155/600:  26%|██▌       | 155/600 [2:05:13<5:55:57, 47.99s/it, v_num=in_1, total_loss_train=516, kl_local_train=144, metric_mi|age_categorical_train=0.232]"
     ]
    },
    {
     "name": "stdout",
     "output_type": "stream",
     "text": [
      "\r\n",
      "Epoch 156/600:  26%|██▌       | 155/600 [2:05:14<5:55:57, 47.99s/it, v_num=in_1, total_loss_train=516, kl_local_train=144, metric_mi|age_categorical_train=0.232]"
     ]
    },
    {
     "name": "stdout",
     "output_type": "stream",
     "text": [
      "\r\n",
      "Epoch 156/600:  26%|██▌       | 156/600 [2:06:02<5:55:42, 48.07s/it, v_num=in_1, total_loss_train=516, kl_local_train=144, metric_mi|age_categorical_train=0.232]"
     ]
    },
    {
     "name": "stdout",
     "output_type": "stream",
     "text": [
      "\r\n",
      "Epoch 156/600:  26%|██▌       | 156/600 [2:06:02<5:55:42, 48.07s/it, v_num=in_1, total_loss_train=516, kl_local_train=142, metric_mi|age_categorical_train=0.235]"
     ]
    },
    {
     "name": "stdout",
     "output_type": "stream",
     "text": [
      "\r\n",
      "Epoch 157/600:  26%|██▌       | 156/600 [2:06:02<5:55:42, 48.07s/it, v_num=in_1, total_loss_train=516, kl_local_train=142, metric_mi|age_categorical_train=0.235]"
     ]
    },
    {
     "name": "stdout",
     "output_type": "stream",
     "text": [
      "\r\n",
      "Epoch 157/600:  26%|██▌       | 157/600 [2:06:49<5:53:11, 47.84s/it, v_num=in_1, total_loss_train=516, kl_local_train=142, metric_mi|age_categorical_train=0.235]"
     ]
    },
    {
     "name": "stdout",
     "output_type": "stream",
     "text": [
      "\r\n",
      "Epoch 157/600:  26%|██▌       | 157/600 [2:06:49<5:53:11, 47.84s/it, v_num=in_1, total_loss_train=516, kl_local_train=142, metric_mi|age_categorical_train=0.235]"
     ]
    },
    {
     "name": "stdout",
     "output_type": "stream",
     "text": [
      "\r\n",
      "Epoch 158/600:  26%|██▌       | 157/600 [2:06:49<5:53:11, 47.84s/it, v_num=in_1, total_loss_train=516, kl_local_train=142, metric_mi|age_categorical_train=0.235]"
     ]
    },
    {
     "name": "stdout",
     "output_type": "stream",
     "text": [
      "\r\n",
      "Epoch 158/600:  26%|██▋       | 158/600 [2:07:36<5:51:10, 47.67s/it, v_num=in_1, total_loss_train=516, kl_local_train=142, metric_mi|age_categorical_train=0.235]"
     ]
    },
    {
     "name": "stdout",
     "output_type": "stream",
     "text": [
      "\r\n",
      "Epoch 158/600:  26%|██▋       | 158/600 [2:07:36<5:51:10, 47.67s/it, v_num=in_1, total_loss_train=516, kl_local_train=142, metric_mi|age_categorical_train=0.235]"
     ]
    },
    {
     "name": "stdout",
     "output_type": "stream",
     "text": [
      "\r\n",
      "Epoch 159/600:  26%|██▋       | 158/600 [2:07:36<5:51:10, 47.67s/it, v_num=in_1, total_loss_train=516, kl_local_train=142, metric_mi|age_categorical_train=0.235]"
     ]
    },
    {
     "name": "stdout",
     "output_type": "stream",
     "text": [
      "\r\n",
      "Epoch 159/600:  26%|██▋       | 159/600 [2:08:24<5:49:45, 47.59s/it, v_num=in_1, total_loss_train=516, kl_local_train=142, metric_mi|age_categorical_train=0.235]"
     ]
    },
    {
     "name": "stdout",
     "output_type": "stream",
     "text": [
      "\r\n",
      "Epoch 159/600:  26%|██▋       | 159/600 [2:08:24<5:49:45, 47.59s/it, v_num=in_1, total_loss_train=516, kl_local_train=142, metric_mi|age_categorical_train=0.235]"
     ]
    },
    {
     "name": "stdout",
     "output_type": "stream",
     "text": [
      "\r\n",
      "Epoch 160/600:  26%|██▋       | 159/600 [2:08:24<5:49:45, 47.59s/it, v_num=in_1, total_loss_train=516, kl_local_train=142, metric_mi|age_categorical_train=0.235]"
     ]
    },
    {
     "name": "stdout",
     "output_type": "stream",
     "text": [
      "\r\n",
      "Epoch 160/600:  27%|██▋       | 160/600 [2:09:11<5:49:37, 47.68s/it, v_num=in_1, total_loss_train=516, kl_local_train=142, metric_mi|age_categorical_train=0.235]"
     ]
    },
    {
     "name": "stdout",
     "output_type": "stream",
     "text": [
      "\r\n",
      "Epoch 160/600:  27%|██▋       | 160/600 [2:09:11<5:49:37, 47.68s/it, v_num=in_1, total_loss_train=517, kl_local_train=142, metric_mi|age_categorical_train=0.235]"
     ]
    },
    {
     "name": "stdout",
     "output_type": "stream",
     "text": [
      "\r\n",
      "Epoch 161/600:  27%|██▋       | 160/600 [2:09:12<5:49:37, 47.68s/it, v_num=in_1, total_loss_train=517, kl_local_train=142, metric_mi|age_categorical_train=0.235]"
     ]
    },
    {
     "name": "stdout",
     "output_type": "stream",
     "text": [
      "\r\n",
      "Epoch 161/600:  27%|██▋       | 161/600 [2:10:00<5:51:25, 48.03s/it, v_num=in_1, total_loss_train=517, kl_local_train=142, metric_mi|age_categorical_train=0.235]"
     ]
    },
    {
     "name": "stdout",
     "output_type": "stream",
     "text": [
      "\r\n",
      "Epoch 161/600:  27%|██▋       | 161/600 [2:10:00<5:51:25, 48.03s/it, v_num=in_1, total_loss_train=517, kl_local_train=141, metric_mi|age_categorical_train=0.246]"
     ]
    },
    {
     "name": "stdout",
     "output_type": "stream",
     "text": [
      "\r\n",
      "Epoch 162/600:  27%|██▋       | 161/600 [2:10:00<5:51:25, 48.03s/it, v_num=in_1, total_loss_train=517, kl_local_train=141, metric_mi|age_categorical_train=0.246]"
     ]
    },
    {
     "name": "stdout",
     "output_type": "stream",
     "text": [
      "\r\n",
      "Epoch 162/600:  27%|██▋       | 162/600 [2:10:48<5:50:20, 47.99s/it, v_num=in_1, total_loss_train=517, kl_local_train=141, metric_mi|age_categorical_train=0.246]"
     ]
    },
    {
     "name": "stdout",
     "output_type": "stream",
     "text": [
      "\r\n",
      "Epoch 162/600:  27%|██▋       | 162/600 [2:10:48<5:50:20, 47.99s/it, v_num=in_1, total_loss_train=517, kl_local_train=140, metric_mi|age_categorical_train=0.246]"
     ]
    },
    {
     "name": "stdout",
     "output_type": "stream",
     "text": [
      "\r\n",
      "Epoch 163/600:  27%|██▋       | 162/600 [2:10:48<5:50:20, 47.99s/it, v_num=in_1, total_loss_train=517, kl_local_train=140, metric_mi|age_categorical_train=0.246]"
     ]
    },
    {
     "name": "stdout",
     "output_type": "stream",
     "text": [
      "\r\n",
      "Epoch 163/600:  27%|██▋       | 163/600 [2:11:36<5:48:43, 47.88s/it, v_num=in_1, total_loss_train=517, kl_local_train=140, metric_mi|age_categorical_train=0.246]"
     ]
    },
    {
     "name": "stdout",
     "output_type": "stream",
     "text": [
      "\r\n",
      "Epoch 163/600:  27%|██▋       | 163/600 [2:11:36<5:48:43, 47.88s/it, v_num=in_1, total_loss_train=517, kl_local_train=140, metric_mi|age_categorical_train=0.246]"
     ]
    },
    {
     "name": "stdout",
     "output_type": "stream",
     "text": [
      "\r\n",
      "Epoch 164/600:  27%|██▋       | 163/600 [2:11:36<5:48:43, 47.88s/it, v_num=in_1, total_loss_train=517, kl_local_train=140, metric_mi|age_categorical_train=0.246]"
     ]
    },
    {
     "name": "stdout",
     "output_type": "stream",
     "text": [
      "\r\n",
      "Epoch 164/600:  27%|██▋       | 164/600 [2:12:23<5:46:57, 47.75s/it, v_num=in_1, total_loss_train=517, kl_local_train=140, metric_mi|age_categorical_train=0.246]"
     ]
    },
    {
     "name": "stdout",
     "output_type": "stream",
     "text": [
      "\r\n",
      "Epoch 164/600:  27%|██▋       | 164/600 [2:12:23<5:46:57, 47.75s/it, v_num=in_1, total_loss_train=517, kl_local_train=140, metric_mi|age_categorical_train=0.246]"
     ]
    },
    {
     "name": "stdout",
     "output_type": "stream",
     "text": [
      "\r\n",
      "Epoch 165/600:  27%|██▋       | 164/600 [2:12:23<5:46:57, 47.75s/it, v_num=in_1, total_loss_train=517, kl_local_train=140, metric_mi|age_categorical_train=0.246]"
     ]
    },
    {
     "name": "stdout",
     "output_type": "stream",
     "text": [
      "\r\n",
      "Epoch 165/600:  28%|██▊       | 165/600 [2:13:11<5:45:20, 47.63s/it, v_num=in_1, total_loss_train=517, kl_local_train=140, metric_mi|age_categorical_train=0.246]"
     ]
    },
    {
     "name": "stdout",
     "output_type": "stream",
     "text": [
      "\r\n",
      "Epoch 165/600:  28%|██▊       | 165/600 [2:13:11<5:45:20, 47.63s/it, v_num=in_1, total_loss_train=517, kl_local_train=140, metric_mi|age_categorical_train=0.246]"
     ]
    },
    {
     "name": "stdout",
     "output_type": "stream",
     "text": [
      "\r\n",
      "Epoch 166/600:  28%|██▊       | 165/600 [2:13:12<5:45:20, 47.63s/it, v_num=in_1, total_loss_train=517, kl_local_train=140, metric_mi|age_categorical_train=0.246]"
     ]
    },
    {
     "name": "stdout",
     "output_type": "stream",
     "text": [
      "\r\n",
      "Epoch 166/600:  28%|██▊       | 166/600 [2:13:58<5:44:58, 47.69s/it, v_num=in_1, total_loss_train=517, kl_local_train=140, metric_mi|age_categorical_train=0.246]"
     ]
    },
    {
     "name": "stdout",
     "output_type": "stream",
     "text": [
      "\r\n",
      "Epoch 166/600:  28%|██▊       | 166/600 [2:13:58<5:44:58, 47.69s/it, v_num=in_1, total_loss_train=517, kl_local_train=139, metric_mi|age_categorical_train=0.238]"
     ]
    },
    {
     "name": "stdout",
     "output_type": "stream",
     "text": [
      "\r\n",
      "Epoch 167/600:  28%|██▊       | 166/600 [2:13:58<5:44:58, 47.69s/it, v_num=in_1, total_loss_train=517, kl_local_train=139, metric_mi|age_categorical_train=0.238]"
     ]
    },
    {
     "name": "stdout",
     "output_type": "stream",
     "text": [
      "\r\n",
      "Epoch 167/600:  28%|██▊       | 167/600 [2:14:46<5:42:50, 47.51s/it, v_num=in_1, total_loss_train=517, kl_local_train=139, metric_mi|age_categorical_train=0.238]"
     ]
    },
    {
     "name": "stdout",
     "output_type": "stream",
     "text": [
      "\r\n",
      "Epoch 167/600:  28%|██▊       | 167/600 [2:14:46<5:42:50, 47.51s/it, v_num=in_1, total_loss_train=517, kl_local_train=138, metric_mi|age_categorical_train=0.238]"
     ]
    },
    {
     "name": "stdout",
     "output_type": "stream",
     "text": [
      "\r\n",
      "Epoch 168/600:  28%|██▊       | 167/600 [2:14:46<5:42:50, 47.51s/it, v_num=in_1, total_loss_train=517, kl_local_train=138, metric_mi|age_categorical_train=0.238]"
     ]
    },
    {
     "name": "stdout",
     "output_type": "stream",
     "text": [
      "\r\n",
      "Epoch 168/600:  28%|██▊       | 168/600 [2:15:32<5:40:39, 47.31s/it, v_num=in_1, total_loss_train=517, kl_local_train=138, metric_mi|age_categorical_train=0.238]"
     ]
    },
    {
     "name": "stdout",
     "output_type": "stream",
     "text": [
      "\r\n",
      "Epoch 168/600:  28%|██▊       | 168/600 [2:15:32<5:40:39, 47.31s/it, v_num=in_1, total_loss_train=517, kl_local_train=138, metric_mi|age_categorical_train=0.238]"
     ]
    },
    {
     "name": "stdout",
     "output_type": "stream",
     "text": [
      "\r\n",
      "Epoch 169/600:  28%|██▊       | 168/600 [2:15:32<5:40:39, 47.31s/it, v_num=in_1, total_loss_train=517, kl_local_train=138, metric_mi|age_categorical_train=0.238]"
     ]
    },
    {
     "name": "stdout",
     "output_type": "stream",
     "text": [
      "\r\n",
      "Epoch 169/600:  28%|██▊       | 169/600 [2:16:19<5:38:49, 47.17s/it, v_num=in_1, total_loss_train=517, kl_local_train=138, metric_mi|age_categorical_train=0.238]"
     ]
    },
    {
     "name": "stdout",
     "output_type": "stream",
     "text": [
      "\r\n",
      "Epoch 169/600:  28%|██▊       | 169/600 [2:16:19<5:38:49, 47.17s/it, v_num=in_1, total_loss_train=518, kl_local_train=137, metric_mi|age_categorical_train=0.238]"
     ]
    },
    {
     "name": "stdout",
     "output_type": "stream",
     "text": [
      "\r\n",
      "Epoch 170/600:  28%|██▊       | 169/600 [2:16:19<5:38:49, 47.17s/it, v_num=in_1, total_loss_train=518, kl_local_train=137, metric_mi|age_categorical_train=0.238]"
     ]
    },
    {
     "name": "stdout",
     "output_type": "stream",
     "text": [
      "\r\n",
      "Epoch 170/600:  28%|██▊       | 170/600 [2:17:09<5:43:54, 47.99s/it, v_num=in_1, total_loss_train=518, kl_local_train=137, metric_mi|age_categorical_train=0.238]"
     ]
    },
    {
     "name": "stdout",
     "output_type": "stream",
     "text": [
      "\r\n",
      "Epoch 170/600:  28%|██▊       | 170/600 [2:17:09<5:43:54, 47.99s/it, v_num=in_1, total_loss_train=517, kl_local_train=137, metric_mi|age_categorical_train=0.238]"
     ]
    },
    {
     "name": "stdout",
     "output_type": "stream",
     "text": [
      "\r\n",
      "Epoch 171/600:  28%|██▊       | 170/600 [2:17:10<5:43:54, 47.99s/it, v_num=in_1, total_loss_train=517, kl_local_train=137, metric_mi|age_categorical_train=0.238]"
     ]
    },
    {
     "name": "stdout",
     "output_type": "stream",
     "text": [
      "\r\n",
      "Epoch 171/600:  28%|██▊       | 171/600 [2:17:57<5:42:49, 47.95s/it, v_num=in_1, total_loss_train=517, kl_local_train=137, metric_mi|age_categorical_train=0.238]"
     ]
    },
    {
     "name": "stdout",
     "output_type": "stream",
     "text": [
      "\r\n",
      "Epoch 171/600:  28%|██▊       | 171/600 [2:17:57<5:42:49, 47.95s/it, v_num=in_1, total_loss_train=517, kl_local_train=137, metric_mi|age_categorical_train=0.239]"
     ]
    },
    {
     "name": "stdout",
     "output_type": "stream",
     "text": [
      "\r\n",
      "Epoch 172/600:  28%|██▊       | 171/600 [2:17:57<5:42:49, 47.95s/it, v_num=in_1, total_loss_train=517, kl_local_train=137, metric_mi|age_categorical_train=0.239]"
     ]
    },
    {
     "name": "stdout",
     "output_type": "stream",
     "text": [
      "\r\n",
      "Epoch 172/600:  29%|██▊       | 172/600 [2:18:44<5:39:37, 47.61s/it, v_num=in_1, total_loss_train=517, kl_local_train=137, metric_mi|age_categorical_train=0.239]"
     ]
    },
    {
     "name": "stdout",
     "output_type": "stream",
     "text": [
      "\r\n",
      "Epoch 172/600:  29%|██▊       | 172/600 [2:18:44<5:39:37, 47.61s/it, v_num=in_1, total_loss_train=518, kl_local_train=136, metric_mi|age_categorical_train=0.239]"
     ]
    },
    {
     "name": "stdout",
     "output_type": "stream",
     "text": [
      "\r\n",
      "Epoch 173/600:  29%|██▊       | 172/600 [2:18:44<5:39:37, 47.61s/it, v_num=in_1, total_loss_train=518, kl_local_train=136, metric_mi|age_categorical_train=0.239]"
     ]
    },
    {
     "name": "stdout",
     "output_type": "stream",
     "text": [
      "\r\n",
      "Epoch 173/600:  29%|██▉       | 173/600 [2:19:31<5:37:12, 47.38s/it, v_num=in_1, total_loss_train=518, kl_local_train=136, metric_mi|age_categorical_train=0.239]"
     ]
    },
    {
     "name": "stdout",
     "output_type": "stream",
     "text": [
      "\r\n",
      "Epoch 173/600:  29%|██▉       | 173/600 [2:19:31<5:37:12, 47.38s/it, v_num=in_1, total_loss_train=518, kl_local_train=135, metric_mi|age_categorical_train=0.239]"
     ]
    },
    {
     "name": "stdout",
     "output_type": "stream",
     "text": [
      "\r\n",
      "Epoch 174/600:  29%|██▉       | 173/600 [2:19:31<5:37:12, 47.38s/it, v_num=in_1, total_loss_train=518, kl_local_train=135, metric_mi|age_categorical_train=0.239]"
     ]
    },
    {
     "name": "stdout",
     "output_type": "stream",
     "text": [
      "\r\n",
      "Epoch 174/600:  29%|██▉       | 174/600 [2:20:18<5:35:27, 47.25s/it, v_num=in_1, total_loss_train=518, kl_local_train=135, metric_mi|age_categorical_train=0.239]"
     ]
    },
    {
     "name": "stdout",
     "output_type": "stream",
     "text": [
      "\r\n",
      "Epoch 174/600:  29%|██▉       | 174/600 [2:20:18<5:35:27, 47.25s/it, v_num=in_1, total_loss_train=518, kl_local_train=136, metric_mi|age_categorical_train=0.239]"
     ]
    },
    {
     "name": "stdout",
     "output_type": "stream",
     "text": [
      "\r\n",
      "Epoch 175/600:  29%|██▉       | 174/600 [2:20:18<5:35:27, 47.25s/it, v_num=in_1, total_loss_train=518, kl_local_train=136, metric_mi|age_categorical_train=0.239]"
     ]
    },
    {
     "name": "stdout",
     "output_type": "stream",
     "text": [
      "\r\n",
      "Epoch 175/600:  29%|██▉       | 175/600 [2:21:07<5:39:17, 47.90s/it, v_num=in_1, total_loss_train=518, kl_local_train=136, metric_mi|age_categorical_train=0.239]"
     ]
    },
    {
     "name": "stdout",
     "output_type": "stream",
     "text": [
      "\r\n",
      "Epoch 175/600:  29%|██▉       | 175/600 [2:21:07<5:39:17, 47.90s/it, v_num=in_1, total_loss_train=518, kl_local_train=134, metric_mi|age_categorical_train=0.239]"
     ]
    },
    {
     "name": "stdout",
     "output_type": "stream",
     "text": [
      "\r\n",
      "Epoch 176/600:  29%|██▉       | 175/600 [2:21:08<5:39:17, 47.90s/it, v_num=in_1, total_loss_train=518, kl_local_train=134, metric_mi|age_categorical_train=0.239]"
     ]
    },
    {
     "name": "stdout",
     "output_type": "stream",
     "text": [
      "\r\n",
      "Epoch 176/600:  29%|██▉       | 176/600 [2:21:55<5:38:48, 47.94s/it, v_num=in_1, total_loss_train=518, kl_local_train=134, metric_mi|age_categorical_train=0.239]"
     ]
    },
    {
     "name": "stdout",
     "output_type": "stream",
     "text": [
      "\r\n",
      "Epoch 176/600:  29%|██▉       | 176/600 [2:21:55<5:38:48, 47.94s/it, v_num=in_1, total_loss_train=518, kl_local_train=134, metric_mi|age_categorical_train=0.244]"
     ]
    },
    {
     "name": "stdout",
     "output_type": "stream",
     "text": [
      "\r\n",
      "Epoch 177/600:  29%|██▉       | 176/600 [2:21:55<5:38:48, 47.94s/it, v_num=in_1, total_loss_train=518, kl_local_train=134, metric_mi|age_categorical_train=0.244]"
     ]
    },
    {
     "name": "stdout",
     "output_type": "stream",
     "text": [
      "\r\n",
      "Epoch 177/600:  30%|██▉       | 177/600 [2:22:42<5:35:36, 47.60s/it, v_num=in_1, total_loss_train=518, kl_local_train=134, metric_mi|age_categorical_train=0.244]"
     ]
    },
    {
     "name": "stdout",
     "output_type": "stream",
     "text": [
      "\r\n",
      "Epoch 177/600:  30%|██▉       | 177/600 [2:22:42<5:35:36, 47.60s/it, v_num=in_1, total_loss_train=518, kl_local_train=133, metric_mi|age_categorical_train=0.244]"
     ]
    },
    {
     "name": "stdout",
     "output_type": "stream",
     "text": [
      "\r\n",
      "Epoch 178/600:  30%|██▉       | 177/600 [2:22:42<5:35:36, 47.60s/it, v_num=in_1, total_loss_train=518, kl_local_train=133, metric_mi|age_categorical_train=0.244]"
     ]
    },
    {
     "name": "stdout",
     "output_type": "stream",
     "text": [
      "\r\n",
      "Epoch 178/600:  30%|██▉       | 178/600 [2:23:29<5:32:52, 47.33s/it, v_num=in_1, total_loss_train=518, kl_local_train=133, metric_mi|age_categorical_train=0.244]"
     ]
    },
    {
     "name": "stdout",
     "output_type": "stream",
     "text": [
      "\r\n",
      "Epoch 178/600:  30%|██▉       | 178/600 [2:23:29<5:32:52, 47.33s/it, v_num=in_1, total_loss_train=518, kl_local_train=133, metric_mi|age_categorical_train=0.244]"
     ]
    },
    {
     "name": "stdout",
     "output_type": "stream",
     "text": [
      "\r\n",
      "Epoch 179/600:  30%|██▉       | 178/600 [2:23:29<5:32:52, 47.33s/it, v_num=in_1, total_loss_train=518, kl_local_train=133, metric_mi|age_categorical_train=0.244]"
     ]
    },
    {
     "name": "stdout",
     "output_type": "stream",
     "text": [
      "\r\n",
      "Epoch 179/600:  30%|██▉       | 179/600 [2:24:15<5:30:53, 47.16s/it, v_num=in_1, total_loss_train=518, kl_local_train=133, metric_mi|age_categorical_train=0.244]"
     ]
    },
    {
     "name": "stdout",
     "output_type": "stream",
     "text": [
      "\r\n",
      "Epoch 179/600:  30%|██▉       | 179/600 [2:24:15<5:30:53, 47.16s/it, v_num=in_1, total_loss_train=518, kl_local_train=133, metric_mi|age_categorical_train=0.244]"
     ]
    },
    {
     "name": "stdout",
     "output_type": "stream",
     "text": [
      "\r\n",
      "Epoch 180/600:  30%|██▉       | 179/600 [2:24:15<5:30:53, 47.16s/it, v_num=in_1, total_loss_train=518, kl_local_train=133, metric_mi|age_categorical_train=0.244]"
     ]
    },
    {
     "name": "stdout",
     "output_type": "stream",
     "text": [
      "\r\n",
      "Epoch 180/600:  30%|███       | 180/600 [2:25:05<5:34:50, 47.83s/it, v_num=in_1, total_loss_train=518, kl_local_train=133, metric_mi|age_categorical_train=0.244]"
     ]
    },
    {
     "name": "stdout",
     "output_type": "stream",
     "text": [
      "\r\n",
      "Epoch 180/600:  30%|███       | 180/600 [2:25:05<5:34:50, 47.83s/it, v_num=in_1, total_loss_train=518, kl_local_train=131, metric_mi|age_categorical_train=0.244]"
     ]
    },
    {
     "name": "stdout",
     "output_type": "stream",
     "text": [
      "\r\n",
      "Epoch 181/600:  30%|███       | 180/600 [2:25:06<5:34:50, 47.83s/it, v_num=in_1, total_loss_train=518, kl_local_train=131, metric_mi|age_categorical_train=0.244]"
     ]
    },
    {
     "name": "stdout",
     "output_type": "stream",
     "text": [
      "\r\n",
      "Epoch 181/600:  30%|███       | 181/600 [2:25:53<5:34:48, 47.94s/it, v_num=in_1, total_loss_train=518, kl_local_train=131, metric_mi|age_categorical_train=0.244]"
     ]
    },
    {
     "name": "stdout",
     "output_type": "stream",
     "text": [
      "\r\n",
      "Epoch 181/600:  30%|███       | 181/600 [2:25:53<5:34:48, 47.94s/it, v_num=in_1, total_loss_train=518, kl_local_train=131, metric_mi|age_categorical_train=0.244]"
     ]
    },
    {
     "name": "stdout",
     "output_type": "stream",
     "text": [
      "\r\n",
      "Epoch 182/600:  30%|███       | 181/600 [2:25:53<5:34:48, 47.94s/it, v_num=in_1, total_loss_train=518, kl_local_train=131, metric_mi|age_categorical_train=0.244]"
     ]
    },
    {
     "name": "stdout",
     "output_type": "stream",
     "text": [
      "\r\n",
      "Epoch 182/600:  30%|███       | 182/600 [2:26:40<5:32:40, 47.75s/it, v_num=in_1, total_loss_train=518, kl_local_train=131, metric_mi|age_categorical_train=0.244]"
     ]
    },
    {
     "name": "stdout",
     "output_type": "stream",
     "text": [
      "\r\n",
      "Epoch 182/600:  30%|███       | 182/600 [2:26:40<5:32:40, 47.75s/it, v_num=in_1, total_loss_train=519, kl_local_train=132, metric_mi|age_categorical_train=0.244]"
     ]
    },
    {
     "name": "stdout",
     "output_type": "stream",
     "text": [
      "\r\n",
      "Epoch 183/600:  30%|███       | 182/600 [2:26:40<5:32:40, 47.75s/it, v_num=in_1, total_loss_train=519, kl_local_train=132, metric_mi|age_categorical_train=0.244]"
     ]
    },
    {
     "name": "stdout",
     "output_type": "stream",
     "text": [
      "\r\n",
      "Epoch 183/600:  30%|███       | 183/600 [2:27:27<5:30:17, 47.52s/it, v_num=in_1, total_loss_train=519, kl_local_train=132, metric_mi|age_categorical_train=0.244]"
     ]
    },
    {
     "name": "stdout",
     "output_type": "stream",
     "text": [
      "\r\n",
      "Epoch 183/600:  30%|███       | 183/600 [2:27:27<5:30:17, 47.52s/it, v_num=in_1, total_loss_train=519, kl_local_train=131, metric_mi|age_categorical_train=0.244]"
     ]
    },
    {
     "name": "stdout",
     "output_type": "stream",
     "text": [
      "\r\n",
      "Epoch 184/600:  30%|███       | 183/600 [2:27:27<5:30:17, 47.52s/it, v_num=in_1, total_loss_train=519, kl_local_train=131, metric_mi|age_categorical_train=0.244]"
     ]
    },
    {
     "name": "stdout",
     "output_type": "stream",
     "text": [
      "\r\n",
      "Epoch 184/600:  31%|███       | 184/600 [2:28:14<5:28:14, 47.34s/it, v_num=in_1, total_loss_train=519, kl_local_train=131, metric_mi|age_categorical_train=0.244]"
     ]
    },
    {
     "name": "stdout",
     "output_type": "stream",
     "text": [
      "\r\n",
      "Epoch 184/600:  31%|███       | 184/600 [2:28:14<5:28:14, 47.34s/it, v_num=in_1, total_loss_train=519, kl_local_train=131, metric_mi|age_categorical_train=0.244]"
     ]
    },
    {
     "name": "stdout",
     "output_type": "stream",
     "text": [
      "\r\n",
      "Epoch 185/600:  31%|███       | 184/600 [2:28:14<5:28:14, 47.34s/it, v_num=in_1, total_loss_train=519, kl_local_train=131, metric_mi|age_categorical_train=0.244]"
     ]
    },
    {
     "name": "stdout",
     "output_type": "stream",
     "text": [
      "\r\n",
      "Epoch 185/600:  31%|███       | 185/600 [2:29:02<5:29:23, 47.62s/it, v_num=in_1, total_loss_train=519, kl_local_train=131, metric_mi|age_categorical_train=0.244]"
     ]
    },
    {
     "name": "stdout",
     "output_type": "stream",
     "text": [
      "\r\n",
      "Epoch 185/600:  31%|███       | 185/600 [2:29:02<5:29:23, 47.62s/it, v_num=in_1, total_loss_train=519, kl_local_train=131, metric_mi|age_categorical_train=0.244]"
     ]
    },
    {
     "name": "stdout",
     "output_type": "stream",
     "text": [
      "\r\n",
      "Epoch 186/600:  31%|███       | 185/600 [2:29:03<5:29:23, 47.62s/it, v_num=in_1, total_loss_train=519, kl_local_train=131, metric_mi|age_categorical_train=0.244]"
     ]
    },
    {
     "name": "stdout",
     "output_type": "stream",
     "text": [
      "\r\n",
      "Epoch 186/600:  31%|███       | 186/600 [2:29:50<5:28:32, 47.62s/it, v_num=in_1, total_loss_train=519, kl_local_train=131, metric_mi|age_categorical_train=0.244]"
     ]
    },
    {
     "name": "stdout",
     "output_type": "stream",
     "text": [
      "\r\n",
      "Epoch 186/600:  31%|███       | 186/600 [2:29:50<5:28:32, 47.62s/it, v_num=in_1, total_loss_train=519, kl_local_train=130, metric_mi|age_categorical_train=0.244]"
     ]
    },
    {
     "name": "stdout",
     "output_type": "stream",
     "text": [
      "\r\n",
      "Epoch 187/600:  31%|███       | 186/600 [2:29:50<5:28:32, 47.62s/it, v_num=in_1, total_loss_train=519, kl_local_train=130, metric_mi|age_categorical_train=0.244]"
     ]
    },
    {
     "name": "stdout",
     "output_type": "stream",
     "text": [
      "\r\n",
      "Epoch 187/600:  31%|███       | 187/600 [2:30:37<5:26:16, 47.40s/it, v_num=in_1, total_loss_train=519, kl_local_train=130, metric_mi|age_categorical_train=0.244]"
     ]
    },
    {
     "name": "stdout",
     "output_type": "stream",
     "text": [
      "\r\n",
      "Epoch 187/600:  31%|███       | 187/600 [2:30:37<5:26:16, 47.40s/it, v_num=in_1, total_loss_train=519, kl_local_train=130, metric_mi|age_categorical_train=0.244]"
     ]
    },
    {
     "name": "stdout",
     "output_type": "stream",
     "text": [
      "\r\n",
      "Epoch 188/600:  31%|███       | 187/600 [2:30:37<5:26:16, 47.40s/it, v_num=in_1, total_loss_train=519, kl_local_train=130, metric_mi|age_categorical_train=0.244]"
     ]
    },
    {
     "name": "stdout",
     "output_type": "stream",
     "text": [
      "\r\n",
      "Epoch 188/600:  31%|███▏      | 188/600 [2:31:24<5:24:27, 47.25s/it, v_num=in_1, total_loss_train=519, kl_local_train=130, metric_mi|age_categorical_train=0.244]"
     ]
    },
    {
     "name": "stdout",
     "output_type": "stream",
     "text": [
      "\r\n",
      "Epoch 188/600:  31%|███▏      | 188/600 [2:31:24<5:24:27, 47.25s/it, v_num=in_1, total_loss_train=519, kl_local_train=129, metric_mi|age_categorical_train=0.244]"
     ]
    },
    {
     "name": "stdout",
     "output_type": "stream",
     "text": [
      "\r\n",
      "Epoch 189/600:  31%|███▏      | 188/600 [2:31:24<5:24:27, 47.25s/it, v_num=in_1, total_loss_train=519, kl_local_train=129, metric_mi|age_categorical_train=0.244]"
     ]
    },
    {
     "name": "stdout",
     "output_type": "stream",
     "text": [
      "\r\n",
      "Epoch 189/600:  32%|███▏      | 189/600 [2:32:11<5:23:21, 47.20s/it, v_num=in_1, total_loss_train=519, kl_local_train=129, metric_mi|age_categorical_train=0.244]"
     ]
    },
    {
     "name": "stdout",
     "output_type": "stream",
     "text": [
      "\r\n",
      "Epoch 189/600:  32%|███▏      | 189/600 [2:32:11<5:23:21, 47.20s/it, v_num=in_1, total_loss_train=519, kl_local_train=129, metric_mi|age_categorical_train=0.244]"
     ]
    },
    {
     "name": "stdout",
     "output_type": "stream",
     "text": [
      "\r\n",
      "Epoch 190/600:  32%|███▏      | 189/600 [2:32:11<5:23:21, 47.20s/it, v_num=in_1, total_loss_train=519, kl_local_train=129, metric_mi|age_categorical_train=0.244]"
     ]
    },
    {
     "name": "stdout",
     "output_type": "stream",
     "text": [
      "\r\n",
      "Epoch 190/600:  32%|███▏      | 190/600 [2:32:58<5:21:47, 47.09s/it, v_num=in_1, total_loss_train=519, kl_local_train=129, metric_mi|age_categorical_train=0.244]"
     ]
    },
    {
     "name": "stdout",
     "output_type": "stream",
     "text": [
      "\r\n",
      "Epoch 190/600:  32%|███▏      | 190/600 [2:32:58<5:21:47, 47.09s/it, v_num=in_1, total_loss_train=520, kl_local_train=130, metric_mi|age_categorical_train=0.244]"
     ]
    },
    {
     "name": "stdout",
     "output_type": "stream",
     "text": [
      "\r\n",
      "Epoch 191/600:  32%|███▏      | 190/600 [2:32:59<5:21:47, 47.09s/it, v_num=in_1, total_loss_train=520, kl_local_train=130, metric_mi|age_categorical_train=0.244]"
     ]
    },
    {
     "name": "stdout",
     "output_type": "stream",
     "text": [
      "\r\n",
      "Epoch 191/600:  32%|███▏      | 191/600 [2:33:45<5:22:12, 47.27s/it, v_num=in_1, total_loss_train=520, kl_local_train=130, metric_mi|age_categorical_train=0.244]"
     ]
    },
    {
     "name": "stdout",
     "output_type": "stream",
     "text": [
      "\r\n",
      "Epoch 191/600:  32%|███▏      | 191/600 [2:33:45<5:22:12, 47.27s/it, v_num=in_1, total_loss_train=520, kl_local_train=130, metric_mi|age_categorical_train=0.247]"
     ]
    },
    {
     "name": "stdout",
     "output_type": "stream",
     "text": [
      "\r\n",
      "Epoch 192/600:  32%|███▏      | 191/600 [2:33:45<5:22:12, 47.27s/it, v_num=in_1, total_loss_train=520, kl_local_train=130, metric_mi|age_categorical_train=0.247]"
     ]
    },
    {
     "name": "stdout",
     "output_type": "stream",
     "text": [
      "\r\n",
      "Epoch 192/600:  32%|███▏      | 192/600 [2:34:32<5:20:27, 47.13s/it, v_num=in_1, total_loss_train=520, kl_local_train=130, metric_mi|age_categorical_train=0.247]"
     ]
    },
    {
     "name": "stdout",
     "output_type": "stream",
     "text": [
      "\r\n",
      "Epoch 192/600:  32%|███▏      | 192/600 [2:34:32<5:20:27, 47.13s/it, v_num=in_1, total_loss_train=520, kl_local_train=128, metric_mi|age_categorical_train=0.247]"
     ]
    },
    {
     "name": "stdout",
     "output_type": "stream",
     "text": [
      "\r\n",
      "Epoch 193/600:  32%|███▏      | 192/600 [2:34:32<5:20:27, 47.13s/it, v_num=in_1, total_loss_train=520, kl_local_train=128, metric_mi|age_categorical_train=0.247]"
     ]
    },
    {
     "name": "stdout",
     "output_type": "stream",
     "text": [
      "\r\n",
      "Epoch 193/600:  32%|███▏      | 193/600 [2:35:19<5:19:01, 47.03s/it, v_num=in_1, total_loss_train=520, kl_local_train=128, metric_mi|age_categorical_train=0.247]"
     ]
    },
    {
     "name": "stdout",
     "output_type": "stream",
     "text": [
      "\r\n",
      "Epoch 193/600:  32%|███▏      | 193/600 [2:35:19<5:19:01, 47.03s/it, v_num=in_1, total_loss_train=520, kl_local_train=128, metric_mi|age_categorical_train=0.247]"
     ]
    },
    {
     "name": "stdout",
     "output_type": "stream",
     "text": [
      "\r\n",
      "Epoch 194/600:  32%|███▏      | 193/600 [2:35:19<5:19:01, 47.03s/it, v_num=in_1, total_loss_train=520, kl_local_train=128, metric_mi|age_categorical_train=0.247]"
     ]
    },
    {
     "name": "stdout",
     "output_type": "stream",
     "text": [
      "\r\n",
      "Epoch 194/600:  32%|███▏      | 194/600 [2:36:06<5:17:52, 46.98s/it, v_num=in_1, total_loss_train=520, kl_local_train=128, metric_mi|age_categorical_train=0.247]"
     ]
    },
    {
     "name": "stdout",
     "output_type": "stream",
     "text": [
      "\r\n",
      "Epoch 194/600:  32%|███▏      | 194/600 [2:36:06<5:17:52, 46.98s/it, v_num=in_1, total_loss_train=520, kl_local_train=128, metric_mi|age_categorical_train=0.247]"
     ]
    },
    {
     "name": "stdout",
     "output_type": "stream",
     "text": [
      "\r\n",
      "Epoch 195/600:  32%|███▏      | 194/600 [2:36:06<5:17:52, 46.98s/it, v_num=in_1, total_loss_train=520, kl_local_train=128, metric_mi|age_categorical_train=0.247]"
     ]
    },
    {
     "name": "stdout",
     "output_type": "stream",
     "text": [
      "\r\n",
      "Epoch 195/600:  32%|███▎      | 195/600 [2:36:53<5:16:58, 46.96s/it, v_num=in_1, total_loss_train=520, kl_local_train=128, metric_mi|age_categorical_train=0.247]"
     ]
    },
    {
     "name": "stdout",
     "output_type": "stream",
     "text": [
      "\r\n",
      "Epoch 195/600:  32%|███▎      | 195/600 [2:36:53<5:16:58, 46.96s/it, v_num=in_1, total_loss_train=520, kl_local_train=128, metric_mi|age_categorical_train=0.247]"
     ]
    },
    {
     "name": "stdout",
     "output_type": "stream",
     "text": [
      "\r\n",
      "Epoch 196/600:  32%|███▎      | 195/600 [2:36:54<5:16:58, 46.96s/it, v_num=in_1, total_loss_train=520, kl_local_train=128, metric_mi|age_categorical_train=0.247]"
     ]
    },
    {
     "name": "stdout",
     "output_type": "stream",
     "text": [
      "\r\n",
      "Epoch 196/600:  33%|███▎      | 196/600 [2:37:41<5:17:46, 47.19s/it, v_num=in_1, total_loss_train=520, kl_local_train=128, metric_mi|age_categorical_train=0.247]"
     ]
    },
    {
     "name": "stdout",
     "output_type": "stream",
     "text": [
      "\r\n",
      "Epoch 196/600:  33%|███▎      | 196/600 [2:37:41<5:17:46, 47.19s/it, v_num=in_1, total_loss_train=520, kl_local_train=127, metric_mi|age_categorical_train=0.243]"
     ]
    },
    {
     "name": "stdout",
     "output_type": "stream",
     "text": [
      "\r\n",
      "Epoch 197/600:  33%|███▎      | 196/600 [2:37:41<5:17:46, 47.19s/it, v_num=in_1, total_loss_train=520, kl_local_train=127, metric_mi|age_categorical_train=0.243]"
     ]
    },
    {
     "name": "stdout",
     "output_type": "stream",
     "text": [
      "\r\n",
      "Epoch 197/600:  33%|███▎      | 197/600 [2:38:27<5:16:10, 47.07s/it, v_num=in_1, total_loss_train=520, kl_local_train=127, metric_mi|age_categorical_train=0.243]"
     ]
    },
    {
     "name": "stdout",
     "output_type": "stream",
     "text": [
      "\r\n",
      "Epoch 197/600:  33%|███▎      | 197/600 [2:38:27<5:16:10, 47.07s/it, v_num=in_1, total_loss_train=520, kl_local_train=127, metric_mi|age_categorical_train=0.243]"
     ]
    },
    {
     "name": "stdout",
     "output_type": "stream",
     "text": [
      "\r\n",
      "Epoch 198/600:  33%|███▎      | 197/600 [2:38:27<5:16:10, 47.07s/it, v_num=in_1, total_loss_train=520, kl_local_train=127, metric_mi|age_categorical_train=0.243]"
     ]
    },
    {
     "name": "stdout",
     "output_type": "stream",
     "text": [
      "\r\n",
      "Epoch 198/600:  33%|███▎      | 198/600 [2:39:14<5:15:01, 47.02s/it, v_num=in_1, total_loss_train=520, kl_local_train=127, metric_mi|age_categorical_train=0.243]"
     ]
    },
    {
     "name": "stdout",
     "output_type": "stream",
     "text": [
      "\r\n",
      "Epoch 198/600:  33%|███▎      | 198/600 [2:39:14<5:15:01, 47.02s/it, v_num=in_1, total_loss_train=520, kl_local_train=126, metric_mi|age_categorical_train=0.243]"
     ]
    },
    {
     "name": "stdout",
     "output_type": "stream",
     "text": [
      "\r\n",
      "Epoch 199/600:  33%|███▎      | 198/600 [2:39:14<5:15:01, 47.02s/it, v_num=in_1, total_loss_train=520, kl_local_train=126, metric_mi|age_categorical_train=0.243]"
     ]
    },
    {
     "name": "stdout",
     "output_type": "stream",
     "text": [
      "\r\n",
      "Epoch 199/600:  33%|███▎      | 199/600 [2:40:01<5:14:10, 47.01s/it, v_num=in_1, total_loss_train=520, kl_local_train=126, metric_mi|age_categorical_train=0.243]"
     ]
    },
    {
     "name": "stdout",
     "output_type": "stream",
     "text": [
      "\r\n",
      "Epoch 199/600:  33%|███▎      | 199/600 [2:40:01<5:14:10, 47.01s/it, v_num=in_1, total_loss_train=520, kl_local_train=125, metric_mi|age_categorical_train=0.243]"
     ]
    },
    {
     "name": "stdout",
     "output_type": "stream",
     "text": [
      "\r\n",
      "Epoch 200/600:  33%|███▎      | 199/600 [2:40:01<5:14:10, 47.01s/it, v_num=in_1, total_loss_train=520, kl_local_train=125, metric_mi|age_categorical_train=0.243]"
     ]
    },
    {
     "name": "stdout",
     "output_type": "stream",
     "text": [
      "\r\n",
      "Epoch 200/600:  33%|███▎      | 200/600 [2:40:48<5:13:12, 46.98s/it, v_num=in_1, total_loss_train=520, kl_local_train=125, metric_mi|age_categorical_train=0.243]"
     ]
    },
    {
     "name": "stdout",
     "output_type": "stream",
     "text": [
      "\r\n",
      "Epoch 200/600:  33%|███▎      | 200/600 [2:40:48<5:13:12, 46.98s/it, v_num=in_1, total_loss_train=521, kl_local_train=126, metric_mi|age_categorical_train=0.243]"
     ]
    },
    {
     "name": "stdout",
     "output_type": "stream",
     "text": [
      "\r\n",
      "Epoch 201/600:  33%|███▎      | 200/600 [2:40:49<5:13:12, 46.98s/it, v_num=in_1, total_loss_train=521, kl_local_train=126, metric_mi|age_categorical_train=0.243]"
     ]
    },
    {
     "name": "stdout",
     "output_type": "stream",
     "text": [
      "\r\n",
      "Epoch 201/600:  34%|███▎      | 201/600 [2:41:36<5:14:19, 47.27s/it, v_num=in_1, total_loss_train=521, kl_local_train=126, metric_mi|age_categorical_train=0.243]"
     ]
    },
    {
     "name": "stdout",
     "output_type": "stream",
     "text": [
      "\r\n",
      "Epoch 201/600:  34%|███▎      | 201/600 [2:41:36<5:14:19, 47.27s/it, v_num=in_1, total_loss_train=521, kl_local_train=125, metric_mi|age_categorical_train=0.237]"
     ]
    },
    {
     "name": "stdout",
     "output_type": "stream",
     "text": [
      "\r\n",
      "Epoch 202/600:  34%|███▎      | 201/600 [2:41:36<5:14:19, 47.27s/it, v_num=in_1, total_loss_train=521, kl_local_train=125, metric_mi|age_categorical_train=0.237]"
     ]
    },
    {
     "name": "stdout",
     "output_type": "stream",
     "text": [
      "\r\n",
      "Epoch 202/600:  34%|███▎      | 202/600 [2:42:23<5:12:58, 47.18s/it, v_num=in_1, total_loss_train=521, kl_local_train=125, metric_mi|age_categorical_train=0.237]"
     ]
    },
    {
     "name": "stdout",
     "output_type": "stream",
     "text": [
      "\r\n",
      "Epoch 202/600:  34%|███▎      | 202/600 [2:42:23<5:12:58, 47.18s/it, v_num=in_1, total_loss_train=521, kl_local_train=125, metric_mi|age_categorical_train=0.237]"
     ]
    },
    {
     "name": "stdout",
     "output_type": "stream",
     "text": [
      "\r\n",
      "Epoch 203/600:  34%|███▎      | 202/600 [2:42:23<5:12:58, 47.18s/it, v_num=in_1, total_loss_train=521, kl_local_train=125, metric_mi|age_categorical_train=0.237]"
     ]
    },
    {
     "name": "stdout",
     "output_type": "stream",
     "text": [
      "\r\n",
      "Epoch 203/600:  34%|███▍      | 203/600 [2:43:10<5:11:47, 47.12s/it, v_num=in_1, total_loss_train=521, kl_local_train=125, metric_mi|age_categorical_train=0.237]"
     ]
    },
    {
     "name": "stdout",
     "output_type": "stream",
     "text": [
      "\r\n",
      "Epoch 203/600:  34%|███▍      | 203/600 [2:43:10<5:11:47, 47.12s/it, v_num=in_1, total_loss_train=521, kl_local_train=125, metric_mi|age_categorical_train=0.237]"
     ]
    },
    {
     "name": "stdout",
     "output_type": "stream",
     "text": [
      "\r\n",
      "Epoch 204/600:  34%|███▍      | 203/600 [2:43:10<5:11:47, 47.12s/it, v_num=in_1, total_loss_train=521, kl_local_train=125, metric_mi|age_categorical_train=0.237]"
     ]
    },
    {
     "name": "stdout",
     "output_type": "stream",
     "text": [
      "\r\n",
      "Epoch 204/600:  34%|███▍      | 204/600 [2:43:57<5:10:34, 47.06s/it, v_num=in_1, total_loss_train=521, kl_local_train=125, metric_mi|age_categorical_train=0.237]"
     ]
    },
    {
     "name": "stdout",
     "output_type": "stream",
     "text": [
      "\r\n",
      "Epoch 204/600:  34%|███▍      | 204/600 [2:43:57<5:10:34, 47.06s/it, v_num=in_1, total_loss_train=521, kl_local_train=125, metric_mi|age_categorical_train=0.237]"
     ]
    },
    {
     "name": "stdout",
     "output_type": "stream",
     "text": [
      "\r\n",
      "Epoch 205/600:  34%|███▍      | 204/600 [2:43:57<5:10:34, 47.06s/it, v_num=in_1, total_loss_train=521, kl_local_train=125, metric_mi|age_categorical_train=0.237]"
     ]
    },
    {
     "name": "stdout",
     "output_type": "stream",
     "text": [
      "\r\n",
      "Epoch 205/600:  34%|███▍      | 205/600 [2:44:47<5:16:06, 48.02s/it, v_num=in_1, total_loss_train=521, kl_local_train=125, metric_mi|age_categorical_train=0.237]"
     ]
    },
    {
     "name": "stdout",
     "output_type": "stream",
     "text": [
      "\r\n",
      "Epoch 205/600:  34%|███▍      | 205/600 [2:44:47<5:16:06, 48.02s/it, v_num=in_1, total_loss_train=521, kl_local_train=126, metric_mi|age_categorical_train=0.237]"
     ]
    },
    {
     "name": "stdout",
     "output_type": "stream",
     "text": [
      "\r\n",
      "Epoch 206/600:  34%|███▍      | 205/600 [2:44:48<5:16:06, 48.02s/it, v_num=in_1, total_loss_train=521, kl_local_train=126, metric_mi|age_categorical_train=0.237]"
     ]
    },
    {
     "name": "stdout",
     "output_type": "stream",
     "text": [
      "\r\n",
      "Epoch 206/600:  34%|███▍      | 206/600 [2:45:35<5:14:43, 47.93s/it, v_num=in_1, total_loss_train=521, kl_local_train=126, metric_mi|age_categorical_train=0.237]"
     ]
    },
    {
     "name": "stdout",
     "output_type": "stream",
     "text": [
      "\r\n",
      "Epoch 206/600:  34%|███▍      | 206/600 [2:45:35<5:14:43, 47.93s/it, v_num=in_1, total_loss_train=522, kl_local_train=124, metric_mi|age_categorical_train=0.237]"
     ]
    },
    {
     "name": "stdout",
     "output_type": "stream",
     "text": [
      "\r\n",
      "Epoch 207/600:  34%|███▍      | 206/600 [2:45:35<5:14:43, 47.93s/it, v_num=in_1, total_loss_train=522, kl_local_train=124, metric_mi|age_categorical_train=0.237]"
     ]
    },
    {
     "name": "stdout",
     "output_type": "stream",
     "text": [
      "\r\n",
      "Epoch 207/600:  34%|███▍      | 207/600 [2:46:22<5:11:44, 47.59s/it, v_num=in_1, total_loss_train=522, kl_local_train=124, metric_mi|age_categorical_train=0.237]"
     ]
    },
    {
     "name": "stdout",
     "output_type": "stream",
     "text": [
      "\r\n",
      "Epoch 207/600:  34%|███▍      | 207/600 [2:46:22<5:11:44, 47.59s/it, v_num=in_1, total_loss_train=521, kl_local_train=125, metric_mi|age_categorical_train=0.237]"
     ]
    },
    {
     "name": "stdout",
     "output_type": "stream",
     "text": [
      "\r\n",
      "Epoch 208/600:  34%|███▍      | 207/600 [2:46:22<5:11:44, 47.59s/it, v_num=in_1, total_loss_train=521, kl_local_train=125, metric_mi|age_categorical_train=0.237]"
     ]
    },
    {
     "name": "stdout",
     "output_type": "stream",
     "text": [
      "\r\n",
      "Epoch 208/600:  35%|███▍      | 208/600 [2:47:09<5:09:42, 47.40s/it, v_num=in_1, total_loss_train=521, kl_local_train=125, metric_mi|age_categorical_train=0.237]"
     ]
    },
    {
     "name": "stdout",
     "output_type": "stream",
     "text": [
      "\r\n",
      "Epoch 208/600:  35%|███▍      | 208/600 [2:47:09<5:09:42, 47.40s/it, v_num=in_1, total_loss_train=521, kl_local_train=123, metric_mi|age_categorical_train=0.237]"
     ]
    },
    {
     "name": "stdout",
     "output_type": "stream",
     "text": [
      "\r\n",
      "Epoch 209/600:  35%|███▍      | 208/600 [2:47:09<5:09:42, 47.40s/it, v_num=in_1, total_loss_train=521, kl_local_train=123, metric_mi|age_categorical_train=0.237]"
     ]
    },
    {
     "name": "stdout",
     "output_type": "stream",
     "text": [
      "\r\n",
      "Epoch 209/600:  35%|███▍      | 209/600 [2:47:56<5:07:48, 47.23s/it, v_num=in_1, total_loss_train=521, kl_local_train=123, metric_mi|age_categorical_train=0.237]"
     ]
    },
    {
     "name": "stdout",
     "output_type": "stream",
     "text": [
      "\r\n",
      "Epoch 209/600:  35%|███▍      | 209/600 [2:47:56<5:07:48, 47.23s/it, v_num=in_1, total_loss_train=521, kl_local_train=124, metric_mi|age_categorical_train=0.237]"
     ]
    },
    {
     "name": "stdout",
     "output_type": "stream",
     "text": [
      "\r\n",
      "Epoch 210/600:  35%|███▍      | 209/600 [2:47:56<5:07:48, 47.23s/it, v_num=in_1, total_loss_train=521, kl_local_train=124, metric_mi|age_categorical_train=0.237]"
     ]
    },
    {
     "name": "stdout",
     "output_type": "stream",
     "text": [
      "\r\n",
      "Epoch 210/600:  35%|███▌      | 210/600 [2:48:42<5:06:20, 47.13s/it, v_num=in_1, total_loss_train=521, kl_local_train=124, metric_mi|age_categorical_train=0.237]"
     ]
    },
    {
     "name": "stdout",
     "output_type": "stream",
     "text": [
      "\r\n",
      "Epoch 210/600:  35%|███▌      | 210/600 [2:48:42<5:06:20, 47.13s/it, v_num=in_1, total_loss_train=522, kl_local_train=122, metric_mi|age_categorical_train=0.237]"
     ]
    },
    {
     "name": "stdout",
     "output_type": "stream",
     "text": [
      "\r\n",
      "Epoch 211/600:  35%|███▌      | 210/600 [2:48:43<5:06:20, 47.13s/it, v_num=in_1, total_loss_train=522, kl_local_train=122, metric_mi|age_categorical_train=0.237]"
     ]
    },
    {
     "name": "stdout",
     "output_type": "stream",
     "text": [
      "\r\n",
      "Epoch 211/600:  35%|███▌      | 211/600 [2:49:30<5:06:59, 47.35s/it, v_num=in_1, total_loss_train=522, kl_local_train=122, metric_mi|age_categorical_train=0.237]"
     ]
    },
    {
     "name": "stdout",
     "output_type": "stream",
     "text": [
      "\r\n",
      "Epoch 211/600:  35%|███▌      | 211/600 [2:49:30<5:06:59, 47.35s/it, v_num=in_1, total_loss_train=521, kl_local_train=122, metric_mi|age_categorical_train=0.238]"
     ]
    },
    {
     "name": "stdout",
     "output_type": "stream",
     "text": [
      "\r\n",
      "Epoch 212/600:  35%|███▌      | 211/600 [2:49:30<5:06:59, 47.35s/it, v_num=in_1, total_loss_train=521, kl_local_train=122, metric_mi|age_categorical_train=0.238]"
     ]
    },
    {
     "name": "stdout",
     "output_type": "stream",
     "text": [
      "\r\n",
      "Epoch 212/600:  35%|███▌      | 212/600 [2:50:17<5:05:20, 47.22s/it, v_num=in_1, total_loss_train=521, kl_local_train=122, metric_mi|age_categorical_train=0.238]"
     ]
    },
    {
     "name": "stdout",
     "output_type": "stream",
     "text": [
      "\r\n",
      "Epoch 212/600:  35%|███▌      | 212/600 [2:50:17<5:05:20, 47.22s/it, v_num=in_1, total_loss_train=522, kl_local_train=122, metric_mi|age_categorical_train=0.238]"
     ]
    },
    {
     "name": "stdout",
     "output_type": "stream",
     "text": [
      "\r\n",
      "Epoch 213/600:  35%|███▌      | 212/600 [2:50:17<5:05:20, 47.22s/it, v_num=in_1, total_loss_train=522, kl_local_train=122, metric_mi|age_categorical_train=0.238]"
     ]
    },
    {
     "name": "stdout",
     "output_type": "stream",
     "text": [
      "\r\n",
      "Epoch 213/600:  36%|███▌      | 213/600 [2:51:04<5:03:48, 47.10s/it, v_num=in_1, total_loss_train=522, kl_local_train=122, metric_mi|age_categorical_train=0.238]"
     ]
    },
    {
     "name": "stdout",
     "output_type": "stream",
     "text": [
      "\r\n",
      "Epoch 213/600:  36%|███▌      | 213/600 [2:51:04<5:03:48, 47.10s/it, v_num=in_1, total_loss_train=522, kl_local_train=122, metric_mi|age_categorical_train=0.238]"
     ]
    },
    {
     "name": "stdout",
     "output_type": "stream",
     "text": [
      "\r\n",
      "Epoch 214/600:  36%|███▌      | 213/600 [2:51:04<5:03:48, 47.10s/it, v_num=in_1, total_loss_train=522, kl_local_train=122, metric_mi|age_categorical_train=0.238]"
     ]
    },
    {
     "name": "stdout",
     "output_type": "stream",
     "text": [
      "\r\n",
      "Epoch 214/600:  36%|███▌      | 214/600 [2:51:51<5:02:38, 47.04s/it, v_num=in_1, total_loss_train=522, kl_local_train=122, metric_mi|age_categorical_train=0.238]"
     ]
    },
    {
     "name": "stdout",
     "output_type": "stream",
     "text": [
      "\r\n",
      "Epoch 214/600:  36%|███▌      | 214/600 [2:51:51<5:02:38, 47.04s/it, v_num=in_1, total_loss_train=522, kl_local_train=122, metric_mi|age_categorical_train=0.238]"
     ]
    },
    {
     "name": "stdout",
     "output_type": "stream",
     "text": [
      "\r\n",
      "Epoch 215/600:  36%|███▌      | 214/600 [2:51:51<5:02:38, 47.04s/it, v_num=in_1, total_loss_train=522, kl_local_train=122, metric_mi|age_categorical_train=0.238]"
     ]
    },
    {
     "name": "stdout",
     "output_type": "stream",
     "text": [
      "\r\n",
      "Epoch 215/600:  36%|███▌      | 215/600 [2:52:38<5:02:02, 47.07s/it, v_num=in_1, total_loss_train=522, kl_local_train=122, metric_mi|age_categorical_train=0.238]"
     ]
    },
    {
     "name": "stdout",
     "output_type": "stream",
     "text": [
      "\r\n",
      "Epoch 215/600:  36%|███▌      | 215/600 [2:52:38<5:02:02, 47.07s/it, v_num=in_1, total_loss_train=522, kl_local_train=122, metric_mi|age_categorical_train=0.238]"
     ]
    },
    {
     "name": "stdout",
     "output_type": "stream",
     "text": [
      "\r\n",
      "Epoch 216/600:  36%|███▌      | 215/600 [2:52:39<5:02:02, 47.07s/it, v_num=in_1, total_loss_train=522, kl_local_train=122, metric_mi|age_categorical_train=0.238]"
     ]
    },
    {
     "name": "stdout",
     "output_type": "stream",
     "text": [
      "\r\n",
      "Epoch 216/600:  36%|███▌      | 216/600 [2:53:26<5:02:49, 47.32s/it, v_num=in_1, total_loss_train=522, kl_local_train=122, metric_mi|age_categorical_train=0.238]"
     ]
    },
    {
     "name": "stdout",
     "output_type": "stream",
     "text": [
      "\r\n",
      "Epoch 216/600:  36%|███▌      | 216/600 [2:53:26<5:02:49, 47.32s/it, v_num=in_1, total_loss_train=522, kl_local_train=121, metric_mi|age_categorical_train=0.236]"
     ]
    },
    {
     "name": "stdout",
     "output_type": "stream",
     "text": [
      "\r\n",
      "Epoch 217/600:  36%|███▌      | 216/600 [2:53:26<5:02:49, 47.32s/it, v_num=in_1, total_loss_train=522, kl_local_train=121, metric_mi|age_categorical_train=0.236]"
     ]
    },
    {
     "name": "stdout",
     "output_type": "stream",
     "text": [
      "\r\n",
      "Epoch 217/600:  36%|███▌      | 217/600 [2:54:13<5:01:15, 47.19s/it, v_num=in_1, total_loss_train=522, kl_local_train=121, metric_mi|age_categorical_train=0.236]"
     ]
    },
    {
     "name": "stdout",
     "output_type": "stream",
     "text": [
      "\r\n",
      "Epoch 217/600:  36%|███▌      | 217/600 [2:54:13<5:01:15, 47.19s/it, v_num=in_1, total_loss_train=522, kl_local_train=120, metric_mi|age_categorical_train=0.236]"
     ]
    },
    {
     "name": "stdout",
     "output_type": "stream",
     "text": [
      "\r\n",
      "Epoch 218/600:  36%|███▌      | 217/600 [2:54:13<5:01:15, 47.19s/it, v_num=in_1, total_loss_train=522, kl_local_train=120, metric_mi|age_categorical_train=0.236]"
     ]
    },
    {
     "name": "stdout",
     "output_type": "stream",
     "text": [
      "\r\n",
      "Epoch 218/600:  36%|███▋      | 218/600 [2:55:00<4:59:49, 47.09s/it, v_num=in_1, total_loss_train=522, kl_local_train=120, metric_mi|age_categorical_train=0.236]"
     ]
    },
    {
     "name": "stdout",
     "output_type": "stream",
     "text": [
      "\r\n",
      "Epoch 218/600:  36%|███▋      | 218/600 [2:55:00<4:59:49, 47.09s/it, v_num=in_1, total_loss_train=522, kl_local_train=120, metric_mi|age_categorical_train=0.236]"
     ]
    },
    {
     "name": "stdout",
     "output_type": "stream",
     "text": [
      "\r\n",
      "Epoch 219/600:  36%|███▋      | 218/600 [2:55:00<4:59:49, 47.09s/it, v_num=in_1, total_loss_train=522, kl_local_train=120, metric_mi|age_categorical_train=0.236]"
     ]
    },
    {
     "name": "stdout",
     "output_type": "stream",
     "text": [
      "\r\n",
      "Epoch 219/600:  36%|███▋      | 219/600 [2:55:47<4:58:28, 47.00s/it, v_num=in_1, total_loss_train=522, kl_local_train=120, metric_mi|age_categorical_train=0.236]"
     ]
    },
    {
     "name": "stdout",
     "output_type": "stream",
     "text": [
      "\r\n",
      "Epoch 219/600:  36%|███▋      | 219/600 [2:55:47<4:58:28, 47.00s/it, v_num=in_1, total_loss_train=522, kl_local_train=120, metric_mi|age_categorical_train=0.236]"
     ]
    },
    {
     "name": "stdout",
     "output_type": "stream",
     "text": [
      "\r\n",
      "Epoch 220/600:  36%|███▋      | 219/600 [2:55:47<4:58:28, 47.00s/it, v_num=in_1, total_loss_train=522, kl_local_train=120, metric_mi|age_categorical_train=0.236]"
     ]
    },
    {
     "name": "stdout",
     "output_type": "stream",
     "text": [
      "\r\n",
      "Epoch 220/600:  37%|███▋      | 220/600 [2:56:37<5:04:08, 48.02s/it, v_num=in_1, total_loss_train=522, kl_local_train=120, metric_mi|age_categorical_train=0.236]"
     ]
    },
    {
     "name": "stdout",
     "output_type": "stream",
     "text": [
      "\r\n",
      "Epoch 220/600:  37%|███▋      | 220/600 [2:56:37<5:04:08, 48.02s/it, v_num=in_1, total_loss_train=523, kl_local_train=120, metric_mi|age_categorical_train=0.236]"
     ]
    },
    {
     "name": "stdout",
     "output_type": "stream",
     "text": [
      "\r\n",
      "Epoch 221/600:  37%|███▋      | 220/600 [2:56:38<5:04:08, 48.02s/it, v_num=in_1, total_loss_train=523, kl_local_train=120, metric_mi|age_categorical_train=0.236]"
     ]
    },
    {
     "name": "stdout",
     "output_type": "stream",
     "text": [
      "\r\n",
      "Epoch 221/600:  37%|███▋      | 221/600 [2:57:25<5:02:44, 47.93s/it, v_num=in_1, total_loss_train=523, kl_local_train=120, metric_mi|age_categorical_train=0.236]"
     ]
    },
    {
     "name": "stdout",
     "output_type": "stream",
     "text": [
      "\r\n",
      "Epoch 221/600:  37%|███▋      | 221/600 [2:57:25<5:02:44, 47.93s/it, v_num=in_1, total_loss_train=522, kl_local_train=120, metric_mi|age_categorical_train=0.235]"
     ]
    },
    {
     "name": "stdout",
     "output_type": "stream",
     "text": [
      "\r\n",
      "Epoch 222/600:  37%|███▋      | 221/600 [2:57:25<5:02:44, 47.93s/it, v_num=in_1, total_loss_train=522, kl_local_train=120, metric_mi|age_categorical_train=0.235]"
     ]
    },
    {
     "name": "stdout",
     "output_type": "stream",
     "text": [
      "\r\n",
      "Epoch 222/600:  37%|███▋      | 222/600 [2:58:12<5:01:02, 47.78s/it, v_num=in_1, total_loss_train=522, kl_local_train=120, metric_mi|age_categorical_train=0.235]"
     ]
    },
    {
     "name": "stdout",
     "output_type": "stream",
     "text": [
      "\r\n",
      "Epoch 222/600:  37%|███▋      | 222/600 [2:58:12<5:01:02, 47.78s/it, v_num=in_1, total_loss_train=522, kl_local_train=119, metric_mi|age_categorical_train=0.235]"
     ]
    },
    {
     "name": "stdout",
     "output_type": "stream",
     "text": [
      "\r\n",
      "Epoch 223/600:  37%|███▋      | 222/600 [2:58:12<5:01:02, 47.78s/it, v_num=in_1, total_loss_train=522, kl_local_train=119, metric_mi|age_categorical_train=0.235]"
     ]
    },
    {
     "name": "stdout",
     "output_type": "stream",
     "text": [
      "\r\n",
      "Epoch 223/600:  37%|███▋      | 223/600 [2:59:01<5:02:52, 48.20s/it, v_num=in_1, total_loss_train=522, kl_local_train=119, metric_mi|age_categorical_train=0.235]"
     ]
    },
    {
     "name": "stdout",
     "output_type": "stream",
     "text": [
      "\r\n",
      "Epoch 223/600:  37%|███▋      | 223/600 [2:59:01<5:02:52, 48.20s/it, v_num=in_1, total_loss_train=523, kl_local_train=118, metric_mi|age_categorical_train=0.235]"
     ]
    },
    {
     "name": "stdout",
     "output_type": "stream",
     "text": [
      "\r\n",
      "Epoch 224/600:  37%|███▋      | 223/600 [2:59:01<5:02:52, 48.20s/it, v_num=in_1, total_loss_train=523, kl_local_train=118, metric_mi|age_categorical_train=0.235]"
     ]
    },
    {
     "name": "stdout",
     "output_type": "stream",
     "text": [
      "\r\n",
      "Epoch 224/600:  37%|███▋      | 224/600 [2:59:53<5:08:10, 49.18s/it, v_num=in_1, total_loss_train=523, kl_local_train=118, metric_mi|age_categorical_train=0.235]"
     ]
    },
    {
     "name": "stdout",
     "output_type": "stream",
     "text": [
      "\r\n",
      "Epoch 224/600:  37%|███▋      | 224/600 [2:59:53<5:08:10, 49.18s/it, v_num=in_1, total_loss_train=522, kl_local_train=118, metric_mi|age_categorical_train=0.235]"
     ]
    },
    {
     "name": "stdout",
     "output_type": "stream",
     "text": [
      "\r\n",
      "Epoch 225/600:  37%|███▋      | 224/600 [2:59:53<5:08:10, 49.18s/it, v_num=in_1, total_loss_train=522, kl_local_train=118, metric_mi|age_categorical_train=0.235]"
     ]
    },
    {
     "name": "stdout",
     "output_type": "stream",
     "text": [
      "\r\n",
      "Epoch 225/600:  38%|███▊      | 225/600 [3:00:48<5:18:12, 50.91s/it, v_num=in_1, total_loss_train=522, kl_local_train=118, metric_mi|age_categorical_train=0.235]"
     ]
    },
    {
     "name": "stdout",
     "output_type": "stream",
     "text": [
      "\r\n",
      "Epoch 225/600:  38%|███▊      | 225/600 [3:00:48<5:18:12, 50.91s/it, v_num=in_1, total_loss_train=522, kl_local_train=118, metric_mi|age_categorical_train=0.235]"
     ]
    },
    {
     "name": "stdout",
     "output_type": "stream",
     "text": [
      "\r\n",
      "Epoch 226/600:  38%|███▊      | 225/600 [3:00:49<5:18:12, 50.91s/it, v_num=in_1, total_loss_train=522, kl_local_train=118, metric_mi|age_categorical_train=0.235]"
     ]
    },
    {
     "name": "stdout",
     "output_type": "stream",
     "text": [
      "\r\n",
      "Epoch 226/600:  38%|███▊      | 226/600 [3:01:40<5:19:34, 51.27s/it, v_num=in_1, total_loss_train=522, kl_local_train=118, metric_mi|age_categorical_train=0.235]"
     ]
    },
    {
     "name": "stdout",
     "output_type": "stream",
     "text": [
      "\r\n",
      "Epoch 226/600:  38%|███▊      | 226/600 [3:01:40<5:19:34, 51.27s/it, v_num=in_1, total_loss_train=523, kl_local_train=118, metric_mi|age_categorical_train=0.234]"
     ]
    },
    {
     "name": "stdout",
     "output_type": "stream",
     "text": [
      "\r\n",
      "Epoch 227/600:  38%|███▊      | 226/600 [3:01:40<5:19:34, 51.27s/it, v_num=in_1, total_loss_train=523, kl_local_train=118, metric_mi|age_categorical_train=0.234]"
     ]
    },
    {
     "name": "stdout",
     "output_type": "stream",
     "text": [
      "\r\n",
      "Epoch 227/600:  38%|███▊      | 227/600 [3:02:31<5:17:45, 51.11s/it, v_num=in_1, total_loss_train=523, kl_local_train=118, metric_mi|age_categorical_train=0.234]"
     ]
    },
    {
     "name": "stdout",
     "output_type": "stream",
     "text": [
      "\r\n",
      "Epoch 227/600:  38%|███▊      | 227/600 [3:02:31<5:17:45, 51.11s/it, v_num=in_1, total_loss_train=523, kl_local_train=118, metric_mi|age_categorical_train=0.234]"
     ]
    },
    {
     "name": "stdout",
     "output_type": "stream",
     "text": [
      "\r\n",
      "Epoch 228/600:  38%|███▊      | 227/600 [3:02:31<5:17:45, 51.11s/it, v_num=in_1, total_loss_train=523, kl_local_train=118, metric_mi|age_categorical_train=0.234]"
     ]
    },
    {
     "name": "stdout",
     "output_type": "stream",
     "text": [
      "\r\n",
      "Epoch 228/600:  38%|███▊      | 228/600 [3:03:21<5:16:12, 51.00s/it, v_num=in_1, total_loss_train=523, kl_local_train=118, metric_mi|age_categorical_train=0.234]"
     ]
    },
    {
     "name": "stdout",
     "output_type": "stream",
     "text": [
      "\r\n",
      "Epoch 228/600:  38%|███▊      | 228/600 [3:03:21<5:16:12, 51.00s/it, v_num=in_1, total_loss_train=523, kl_local_train=118, metric_mi|age_categorical_train=0.234]"
     ]
    },
    {
     "name": "stdout",
     "output_type": "stream",
     "text": [
      "\r\n",
      "Epoch 229/600:  38%|███▊      | 228/600 [3:03:21<5:16:12, 51.00s/it, v_num=in_1, total_loss_train=523, kl_local_train=118, metric_mi|age_categorical_train=0.234]"
     ]
    },
    {
     "name": "stdout",
     "output_type": "stream",
     "text": [
      "\r\n",
      "Epoch 229/600:  38%|███▊      | 229/600 [3:04:12<5:15:25, 51.01s/it, v_num=in_1, total_loss_train=523, kl_local_train=118, metric_mi|age_categorical_train=0.234]"
     ]
    },
    {
     "name": "stdout",
     "output_type": "stream",
     "text": [
      "\r\n",
      "Epoch 229/600:  38%|███▊      | 229/600 [3:04:12<5:15:25, 51.01s/it, v_num=in_1, total_loss_train=523, kl_local_train=117, metric_mi|age_categorical_train=0.234]"
     ]
    },
    {
     "name": "stdout",
     "output_type": "stream",
     "text": [
      "\r\n",
      "Epoch 230/600:  38%|███▊      | 229/600 [3:04:12<5:15:25, 51.01s/it, v_num=in_1, total_loss_train=523, kl_local_train=117, metric_mi|age_categorical_train=0.234]"
     ]
    },
    {
     "name": "stdout",
     "output_type": "stream",
     "text": [
      "\r\n",
      "Epoch 230/600:  38%|███▊      | 230/600 [3:05:03<5:14:26, 50.99s/it, v_num=in_1, total_loss_train=523, kl_local_train=117, metric_mi|age_categorical_train=0.234]"
     ]
    },
    {
     "name": "stdout",
     "output_type": "stream",
     "text": [
      "\r\n",
      "Epoch 230/600:  38%|███▊      | 230/600 [3:05:03<5:14:26, 50.99s/it, v_num=in_1, total_loss_train=523, kl_local_train=117, metric_mi|age_categorical_train=0.234]"
     ]
    },
    {
     "name": "stdout",
     "output_type": "stream",
     "text": [
      "\r\n",
      "Epoch 231/600:  38%|███▊      | 230/600 [3:05:04<5:14:26, 50.99s/it, v_num=in_1, total_loss_train=523, kl_local_train=117, metric_mi|age_categorical_train=0.234]"
     ]
    },
    {
     "name": "stdout",
     "output_type": "stream",
     "text": [
      "\r\n",
      "Epoch 231/600:  38%|███▊      | 231/600 [3:05:55<5:15:33, 51.31s/it, v_num=in_1, total_loss_train=523, kl_local_train=117, metric_mi|age_categorical_train=0.234]"
     ]
    },
    {
     "name": "stdout",
     "output_type": "stream",
     "text": [
      "\r\n",
      "Epoch 231/600:  38%|███▊      | 231/600 [3:05:55<5:15:33, 51.31s/it, v_num=in_1, total_loss_train=524, kl_local_train=116, metric_mi|age_categorical_train=0.237]"
     ]
    },
    {
     "name": "stdout",
     "output_type": "stream",
     "text": [
      "\r\n",
      "Epoch 232/600:  38%|███▊      | 231/600 [3:05:55<5:15:33, 51.31s/it, v_num=in_1, total_loss_train=524, kl_local_train=116, metric_mi|age_categorical_train=0.237]"
     ]
    },
    {
     "name": "stdout",
     "output_type": "stream",
     "text": [
      "\r\n",
      "Epoch 232/600:  39%|███▊      | 232/600 [3:06:46<5:13:57, 51.19s/it, v_num=in_1, total_loss_train=524, kl_local_train=116, metric_mi|age_categorical_train=0.237]"
     ]
    },
    {
     "name": "stdout",
     "output_type": "stream",
     "text": [
      "\r\n",
      "Epoch 232/600:  39%|███▊      | 232/600 [3:06:46<5:13:57, 51.19s/it, v_num=in_1, total_loss_train=524, kl_local_train=116, metric_mi|age_categorical_train=0.237]"
     ]
    },
    {
     "name": "stdout",
     "output_type": "stream",
     "text": [
      "\r\n",
      "Epoch 233/600:  39%|███▊      | 232/600 [3:06:46<5:13:57, 51.19s/it, v_num=in_1, total_loss_train=524, kl_local_train=116, metric_mi|age_categorical_train=0.237]"
     ]
    },
    {
     "name": "stdout",
     "output_type": "stream",
     "text": [
      "\r\n",
      "Epoch 233/600:  39%|███▉      | 233/600 [3:07:37<5:12:37, 51.11s/it, v_num=in_1, total_loss_train=524, kl_local_train=116, metric_mi|age_categorical_train=0.237]"
     ]
    },
    {
     "name": "stdout",
     "output_type": "stream",
     "text": [
      "\r\n",
      "Epoch 233/600:  39%|███▉      | 233/600 [3:07:37<5:12:37, 51.11s/it, v_num=in_1, total_loss_train=523, kl_local_train=116, metric_mi|age_categorical_train=0.237]"
     ]
    },
    {
     "name": "stdout",
     "output_type": "stream",
     "text": [
      "\r\n",
      "Epoch 234/600:  39%|███▉      | 233/600 [3:07:37<5:12:37, 51.11s/it, v_num=in_1, total_loss_train=523, kl_local_train=116, metric_mi|age_categorical_train=0.237]"
     ]
    },
    {
     "name": "stdout",
     "output_type": "stream",
     "text": [
      "\r\n",
      "Epoch 234/600:  39%|███▉      | 234/600 [3:08:28<5:11:30, 51.07s/it, v_num=in_1, total_loss_train=523, kl_local_train=116, metric_mi|age_categorical_train=0.237]"
     ]
    },
    {
     "name": "stdout",
     "output_type": "stream",
     "text": [
      "\r\n",
      "Epoch 234/600:  39%|███▉      | 234/600 [3:08:28<5:11:30, 51.07s/it, v_num=in_1, total_loss_train=524, kl_local_train=116, metric_mi|age_categorical_train=0.237]"
     ]
    },
    {
     "name": "stdout",
     "output_type": "stream",
     "text": [
      "\r\n",
      "Epoch 235/600:  39%|███▉      | 234/600 [3:08:28<5:11:30, 51.07s/it, v_num=in_1, total_loss_train=524, kl_local_train=116, metric_mi|age_categorical_train=0.237]"
     ]
    },
    {
     "name": "stdout",
     "output_type": "stream",
     "text": [
      "\r\n",
      "Epoch 235/600:  39%|███▉      | 235/600 [3:09:19<5:10:46, 51.09s/it, v_num=in_1, total_loss_train=524, kl_local_train=116, metric_mi|age_categorical_train=0.237]"
     ]
    },
    {
     "name": "stdout",
     "output_type": "stream",
     "text": [
      "\r\n",
      "Epoch 235/600:  39%|███▉      | 235/600 [3:09:19<5:10:46, 51.09s/it, v_num=in_1, total_loss_train=524, kl_local_train=115, metric_mi|age_categorical_train=0.237]"
     ]
    },
    {
     "name": "stdout",
     "output_type": "stream",
     "text": [
      "\r\n",
      "Epoch 236/600:  39%|███▉      | 235/600 [3:09:20<5:10:46, 51.09s/it, v_num=in_1, total_loss_train=524, kl_local_train=115, metric_mi|age_categorical_train=0.237]"
     ]
    },
    {
     "name": "stdout",
     "output_type": "stream",
     "text": [
      "\r\n",
      "Epoch 236/600:  39%|███▉      | 236/600 [3:10:11<5:12:01, 51.43s/it, v_num=in_1, total_loss_train=524, kl_local_train=115, metric_mi|age_categorical_train=0.237]"
     ]
    },
    {
     "name": "stdout",
     "output_type": "stream",
     "text": [
      "\r\n",
      "Epoch 236/600:  39%|███▉      | 236/600 [3:10:11<5:12:01, 51.43s/it, v_num=in_1, total_loss_train=524, kl_local_train=116, metric_mi|age_categorical_train=0.238]"
     ]
    },
    {
     "name": "stdout",
     "output_type": "stream",
     "text": [
      "\r\n",
      "Epoch 237/600:  39%|███▉      | 236/600 [3:10:11<5:12:01, 51.43s/it, v_num=in_1, total_loss_train=524, kl_local_train=116, metric_mi|age_categorical_train=0.238]"
     ]
    },
    {
     "name": "stdout",
     "output_type": "stream",
     "text": [
      "\r\n",
      "Epoch 237/600:  40%|███▉      | 237/600 [3:11:03<5:10:44, 51.36s/it, v_num=in_1, total_loss_train=524, kl_local_train=116, metric_mi|age_categorical_train=0.238]"
     ]
    },
    {
     "name": "stdout",
     "output_type": "stream",
     "text": [
      "\r\n",
      "Epoch 237/600:  40%|███▉      | 237/600 [3:11:03<5:10:44, 51.36s/it, v_num=in_1, total_loss_train=524, kl_local_train=116, metric_mi|age_categorical_train=0.238]"
     ]
    },
    {
     "name": "stdout",
     "output_type": "stream",
     "text": [
      "\r\n",
      "Epoch 238/600:  40%|███▉      | 237/600 [3:11:03<5:10:44, 51.36s/it, v_num=in_1, total_loss_train=524, kl_local_train=116, metric_mi|age_categorical_train=0.238]"
     ]
    },
    {
     "name": "stdout",
     "output_type": "stream",
     "text": [
      "\r\n",
      "Epoch 238/600:  40%|███▉      | 238/600 [3:11:54<5:09:34, 51.31s/it, v_num=in_1, total_loss_train=524, kl_local_train=116, metric_mi|age_categorical_train=0.238]"
     ]
    },
    {
     "name": "stdout",
     "output_type": "stream",
     "text": [
      "\r\n",
      "Epoch 238/600:  40%|███▉      | 238/600 [3:11:54<5:09:34, 51.31s/it, v_num=in_1, total_loss_train=524, kl_local_train=115, metric_mi|age_categorical_train=0.238]"
     ]
    },
    {
     "name": "stdout",
     "output_type": "stream",
     "text": [
      "\r\n",
      "Epoch 239/600:  40%|███▉      | 238/600 [3:11:54<5:09:34, 51.31s/it, v_num=in_1, total_loss_train=524, kl_local_train=115, metric_mi|age_categorical_train=0.238]"
     ]
    },
    {
     "name": "stdout",
     "output_type": "stream",
     "text": [
      "\r\n",
      "Epoch 239/600:  40%|███▉      | 239/600 [3:12:45<5:08:33, 51.28s/it, v_num=in_1, total_loss_train=524, kl_local_train=115, metric_mi|age_categorical_train=0.238]"
     ]
    },
    {
     "name": "stdout",
     "output_type": "stream",
     "text": [
      "\r\n",
      "Epoch 239/600:  40%|███▉      | 239/600 [3:12:45<5:08:33, 51.28s/it, v_num=in_1, total_loss_train=524, kl_local_train=115, metric_mi|age_categorical_train=0.238]"
     ]
    },
    {
     "name": "stdout",
     "output_type": "stream",
     "text": [
      "\r\n",
      "Epoch 240/600:  40%|███▉      | 239/600 [3:12:45<5:08:33, 51.28s/it, v_num=in_1, total_loss_train=524, kl_local_train=115, metric_mi|age_categorical_train=0.238]"
     ]
    },
    {
     "name": "stdout",
     "output_type": "stream",
     "text": [
      "\r\n",
      "Epoch 240/600:  40%|████      | 240/600 [3:13:36<5:07:54, 51.32s/it, v_num=in_1, total_loss_train=524, kl_local_train=115, metric_mi|age_categorical_train=0.238]"
     ]
    },
    {
     "name": "stdout",
     "output_type": "stream",
     "text": [
      "\r\n",
      "Epoch 240/600:  40%|████      | 240/600 [3:13:36<5:07:54, 51.32s/it, v_num=in_1, total_loss_train=524, kl_local_train=115, metric_mi|age_categorical_train=0.238]"
     ]
    },
    {
     "name": "stdout",
     "output_type": "stream",
     "text": [
      "\r\n",
      "Epoch 241/600:  40%|████      | 240/600 [3:13:37<5:07:54, 51.32s/it, v_num=in_1, total_loss_train=524, kl_local_train=115, metric_mi|age_categorical_train=0.238]"
     ]
    },
    {
     "name": "stdout",
     "output_type": "stream",
     "text": [
      "\r\n",
      "Epoch 241/600:  40%|████      | 241/600 [3:14:29<5:08:59, 51.64s/it, v_num=in_1, total_loss_train=524, kl_local_train=115, metric_mi|age_categorical_train=0.238]"
     ]
    },
    {
     "name": "stdout",
     "output_type": "stream",
     "text": [
      "\r\n",
      "Epoch 241/600:  40%|████      | 241/600 [3:14:29<5:08:59, 51.64s/it, v_num=in_1, total_loss_train=525, kl_local_train=115, metric_mi|age_categorical_train=0.234]"
     ]
    },
    {
     "name": "stdout",
     "output_type": "stream",
     "text": [
      "\r\n",
      "Epoch 242/600:  40%|████      | 241/600 [3:14:29<5:08:59, 51.64s/it, v_num=in_1, total_loss_train=525, kl_local_train=115, metric_mi|age_categorical_train=0.234]"
     ]
    },
    {
     "name": "stdout",
     "output_type": "stream",
     "text": [
      "\r\n",
      "Epoch 242/600:  40%|████      | 242/600 [3:15:20<5:07:55, 51.61s/it, v_num=in_1, total_loss_train=525, kl_local_train=115, metric_mi|age_categorical_train=0.234]"
     ]
    },
    {
     "name": "stdout",
     "output_type": "stream",
     "text": [
      "\r\n",
      "Epoch 242/600:  40%|████      | 242/600 [3:15:20<5:07:55, 51.61s/it, v_num=in_1, total_loss_train=525, kl_local_train=115, metric_mi|age_categorical_train=0.234]"
     ]
    },
    {
     "name": "stdout",
     "output_type": "stream",
     "text": [
      "\r\n",
      "Epoch 243/600:  40%|████      | 242/600 [3:15:20<5:07:55, 51.61s/it, v_num=in_1, total_loss_train=525, kl_local_train=115, metric_mi|age_categorical_train=0.234]"
     ]
    },
    {
     "name": "stdout",
     "output_type": "stream",
     "text": [
      "\r\n",
      "Epoch 243/600:  40%|████      | 243/600 [3:16:12<5:06:50, 51.57s/it, v_num=in_1, total_loss_train=525, kl_local_train=115, metric_mi|age_categorical_train=0.234]"
     ]
    },
    {
     "name": "stdout",
     "output_type": "stream",
     "text": [
      "\r\n",
      "Epoch 243/600:  40%|████      | 243/600 [3:16:12<5:06:50, 51.57s/it, v_num=in_1, total_loss_train=525, kl_local_train=114, metric_mi|age_categorical_train=0.234]"
     ]
    },
    {
     "name": "stdout",
     "output_type": "stream",
     "text": [
      "\r\n",
      "Epoch 244/600:  40%|████      | 243/600 [3:16:12<5:06:50, 51.57s/it, v_num=in_1, total_loss_train=525, kl_local_train=114, metric_mi|age_categorical_train=0.234]"
     ]
    },
    {
     "name": "stdout",
     "output_type": "stream",
     "text": [
      "\r\n",
      "Epoch 244/600:  41%|████      | 244/600 [3:17:03<5:05:48, 51.54s/it, v_num=in_1, total_loss_train=525, kl_local_train=114, metric_mi|age_categorical_train=0.234]"
     ]
    },
    {
     "name": "stdout",
     "output_type": "stream",
     "text": [
      "\r\n",
      "Epoch 244/600:  41%|████      | 244/600 [3:17:03<5:05:48, 51.54s/it, v_num=in_1, total_loss_train=525, kl_local_train=113, metric_mi|age_categorical_train=0.234]"
     ]
    },
    {
     "name": "stdout",
     "output_type": "stream",
     "text": [
      "\r\n",
      "Epoch 245/600:  41%|████      | 244/600 [3:17:03<5:05:48, 51.54s/it, v_num=in_1, total_loss_train=525, kl_local_train=113, metric_mi|age_categorical_train=0.234]"
     ]
    },
    {
     "name": "stdout",
     "output_type": "stream",
     "text": [
      "\r\n",
      "Epoch 245/600:  41%|████      | 245/600 [3:17:59<5:11:35, 52.66s/it, v_num=in_1, total_loss_train=525, kl_local_train=113, metric_mi|age_categorical_train=0.234]"
     ]
    },
    {
     "name": "stdout",
     "output_type": "stream",
     "text": [
      "\r\n",
      "Epoch 245/600:  41%|████      | 245/600 [3:17:59<5:11:35, 52.66s/it, v_num=in_1, total_loss_train=525, kl_local_train=114, metric_mi|age_categorical_train=0.234]"
     ]
    },
    {
     "name": "stdout",
     "output_type": "stream",
     "text": [
      "\r\n",
      "Epoch 246/600:  41%|████      | 245/600 [3:18:00<5:11:35, 52.66s/it, v_num=in_1, total_loss_train=525, kl_local_train=114, metric_mi|age_categorical_train=0.234]"
     ]
    },
    {
     "name": "stdout",
     "output_type": "stream",
     "text": [
      "\r\n",
      "Epoch 246/600:  41%|████      | 246/600 [3:18:51<5:10:38, 52.65s/it, v_num=in_1, total_loss_train=525, kl_local_train=114, metric_mi|age_categorical_train=0.234]"
     ]
    },
    {
     "name": "stdout",
     "output_type": "stream",
     "text": [
      "\r\n",
      "Epoch 246/600:  41%|████      | 246/600 [3:18:51<5:10:38, 52.65s/it, v_num=in_1, total_loss_train=525, kl_local_train=113, metric_mi|age_categorical_train=0.239]"
     ]
    },
    {
     "name": "stdout",
     "output_type": "stream",
     "text": [
      "\r\n",
      "Epoch 247/600:  41%|████      | 246/600 [3:18:51<5:10:38, 52.65s/it, v_num=in_1, total_loss_train=525, kl_local_train=113, metric_mi|age_categorical_train=0.239]"
     ]
    },
    {
     "name": "stdout",
     "output_type": "stream",
     "text": [
      "\r\n",
      "Epoch 247/600:  41%|████      | 247/600 [3:19:43<5:07:25, 52.25s/it, v_num=in_1, total_loss_train=525, kl_local_train=113, metric_mi|age_categorical_train=0.239]"
     ]
    },
    {
     "name": "stdout",
     "output_type": "stream",
     "text": [
      "\r\n",
      "Epoch 247/600:  41%|████      | 247/600 [3:19:43<5:07:25, 52.25s/it, v_num=in_1, total_loss_train=525, kl_local_train=113, metric_mi|age_categorical_train=0.239]"
     ]
    },
    {
     "name": "stdout",
     "output_type": "stream",
     "text": [
      "\r\n",
      "Epoch 248/600:  41%|████      | 247/600 [3:19:43<5:07:25, 52.25s/it, v_num=in_1, total_loss_train=525, kl_local_train=113, metric_mi|age_categorical_train=0.239]"
     ]
    },
    {
     "name": "stdout",
     "output_type": "stream",
     "text": [
      "\r\n",
      "Epoch 248/600:  41%|████▏     | 248/600 [3:20:34<5:04:59, 51.99s/it, v_num=in_1, total_loss_train=525, kl_local_train=113, metric_mi|age_categorical_train=0.239]"
     ]
    },
    {
     "name": "stdout",
     "output_type": "stream",
     "text": [
      "\r\n",
      "Epoch 248/600:  41%|████▏     | 248/600 [3:20:34<5:04:59, 51.99s/it, v_num=in_1, total_loss_train=525, kl_local_train=113, metric_mi|age_categorical_train=0.239]"
     ]
    },
    {
     "name": "stdout",
     "output_type": "stream",
     "text": [
      "\r\n",
      "Epoch 249/600:  41%|████▏     | 248/600 [3:20:34<5:04:59, 51.99s/it, v_num=in_1, total_loss_train=525, kl_local_train=113, metric_mi|age_categorical_train=0.239]"
     ]
    },
    {
     "name": "stdout",
     "output_type": "stream",
     "text": [
      "\r\n",
      "Epoch 249/600:  42%|████▏     | 249/600 [3:21:25<5:03:01, 51.80s/it, v_num=in_1, total_loss_train=525, kl_local_train=113, metric_mi|age_categorical_train=0.239]"
     ]
    },
    {
     "name": "stdout",
     "output_type": "stream",
     "text": [
      "\r\n",
      "Epoch 249/600:  42%|████▏     | 249/600 [3:21:25<5:03:01, 51.80s/it, v_num=in_1, total_loss_train=525, kl_local_train=113, metric_mi|age_categorical_train=0.239]"
     ]
    },
    {
     "name": "stdout",
     "output_type": "stream",
     "text": [
      "\r\n",
      "Epoch 250/600:  42%|████▏     | 249/600 [3:21:25<5:03:01, 51.80s/it, v_num=in_1, total_loss_train=525, kl_local_train=113, metric_mi|age_categorical_train=0.239]"
     ]
    },
    {
     "name": "stdout",
     "output_type": "stream",
     "text": [
      "\r\n",
      "Epoch 250/600:  42%|████▏     | 250/600 [3:22:20<5:07:47, 52.77s/it, v_num=in_1, total_loss_train=525, kl_local_train=113, metric_mi|age_categorical_train=0.239]"
     ]
    },
    {
     "name": "stdout",
     "output_type": "stream",
     "text": [
      "\r\n",
      "Epoch 250/600:  42%|████▏     | 250/600 [3:22:20<5:07:47, 52.77s/it, v_num=in_1, total_loss_train=526, kl_local_train=112, metric_mi|age_categorical_train=0.239]"
     ]
    },
    {
     "name": "stdout",
     "output_type": "stream",
     "text": [
      "\r\n",
      "Epoch 251/600:  42%|████▏     | 250/600 [3:22:21<5:07:47, 52.77s/it, v_num=in_1, total_loss_train=526, kl_local_train=112, metric_mi|age_categorical_train=0.239]"
     ]
    },
    {
     "name": "stdout",
     "output_type": "stream",
     "text": [
      "\r\n",
      "Epoch 251/600:  42%|████▏     | 251/600 [3:23:13<5:06:34, 52.71s/it, v_num=in_1, total_loss_train=526, kl_local_train=112, metric_mi|age_categorical_train=0.239]"
     ]
    },
    {
     "name": "stdout",
     "output_type": "stream",
     "text": [
      "\r\n",
      "Epoch 251/600:  42%|████▏     | 251/600 [3:23:13<5:06:34, 52.71s/it, v_num=in_1, total_loss_train=526, kl_local_train=112, metric_mi|age_categorical_train=0.239]"
     ]
    },
    {
     "name": "stdout",
     "output_type": "stream",
     "text": [
      "\r\n",
      "Epoch 252/600:  42%|████▏     | 251/600 [3:23:13<5:06:34, 52.71s/it, v_num=in_1, total_loss_train=526, kl_local_train=112, metric_mi|age_categorical_train=0.239]"
     ]
    },
    {
     "name": "stdout",
     "output_type": "stream",
     "text": [
      "\r\n",
      "Epoch 252/600:  42%|████▏     | 252/600 [3:24:04<5:03:30, 52.33s/it, v_num=in_1, total_loss_train=526, kl_local_train=112, metric_mi|age_categorical_train=0.239]"
     ]
    },
    {
     "name": "stdout",
     "output_type": "stream",
     "text": [
      "\r\n",
      "Epoch 252/600:  42%|████▏     | 252/600 [3:24:04<5:03:30, 52.33s/it, v_num=in_1, total_loss_train=526, kl_local_train=112, metric_mi|age_categorical_train=0.239]"
     ]
    },
    {
     "name": "stdout",
     "output_type": "stream",
     "text": [
      "\r\n",
      "Epoch 253/600:  42%|████▏     | 252/600 [3:24:04<5:03:30, 52.33s/it, v_num=in_1, total_loss_train=526, kl_local_train=112, metric_mi|age_categorical_train=0.239]"
     ]
    },
    {
     "name": "stdout",
     "output_type": "stream",
     "text": [
      "\r\n",
      "Epoch 253/600:  42%|████▏     | 253/600 [3:24:55<5:00:36, 51.98s/it, v_num=in_1, total_loss_train=526, kl_local_train=112, metric_mi|age_categorical_train=0.239]"
     ]
    },
    {
     "name": "stdout",
     "output_type": "stream",
     "text": [
      "\r\n",
      "Epoch 253/600:  42%|████▏     | 253/600 [3:24:55<5:00:36, 51.98s/it, v_num=in_1, total_loss_train=526, kl_local_train=112, metric_mi|age_categorical_train=0.239]"
     ]
    },
    {
     "name": "stdout",
     "output_type": "stream",
     "text": [
      "\r\n",
      "Epoch 254/600:  42%|████▏     | 253/600 [3:24:56<5:00:36, 51.98s/it, v_num=in_1, total_loss_train=526, kl_local_train=112, metric_mi|age_categorical_train=0.239]"
     ]
    },
    {
     "name": "stdout",
     "output_type": "stream",
     "text": [
      "\r\n",
      "Epoch 254/600:  42%|████▏     | 254/600 [3:25:47<4:58:25, 51.75s/it, v_num=in_1, total_loss_train=526, kl_local_train=112, metric_mi|age_categorical_train=0.239]"
     ]
    },
    {
     "name": "stdout",
     "output_type": "stream",
     "text": [
      "\r\n",
      "Epoch 254/600:  42%|████▏     | 254/600 [3:25:47<4:58:25, 51.75s/it, v_num=in_1, total_loss_train=526, kl_local_train=112, metric_mi|age_categorical_train=0.239]"
     ]
    },
    {
     "name": "stdout",
     "output_type": "stream",
     "text": [
      "\r\n",
      "Epoch 255/600:  42%|████▏     | 254/600 [3:25:47<4:58:25, 51.75s/it, v_num=in_1, total_loss_train=526, kl_local_train=112, metric_mi|age_categorical_train=0.239]"
     ]
    },
    {
     "name": "stdout",
     "output_type": "stream",
     "text": [
      "\r\n",
      "Epoch 255/600:  42%|████▎     | 255/600 [3:26:41<5:02:30, 52.61s/it, v_num=in_1, total_loss_train=526, kl_local_train=112, metric_mi|age_categorical_train=0.239]"
     ]
    },
    {
     "name": "stdout",
     "output_type": "stream",
     "text": [
      "\r\n",
      "Epoch 255/600:  42%|████▎     | 255/600 [3:26:41<5:02:30, 52.61s/it, v_num=in_1, total_loss_train=526, kl_local_train=112, metric_mi|age_categorical_train=0.239]"
     ]
    },
    {
     "name": "stdout",
     "output_type": "stream",
     "text": [
      "\r\n",
      "Epoch 256/600:  42%|████▎     | 255/600 [3:26:42<5:02:30, 52.61s/it, v_num=in_1, total_loss_train=526, kl_local_train=112, metric_mi|age_categorical_train=0.239]"
     ]
    },
    {
     "name": "stdout",
     "output_type": "stream",
     "text": [
      "\r\n",
      "Epoch 256/600:  43%|████▎     | 256/600 [3:27:33<5:00:48, 52.47s/it, v_num=in_1, total_loss_train=526, kl_local_train=112, metric_mi|age_categorical_train=0.239]"
     ]
    },
    {
     "name": "stdout",
     "output_type": "stream",
     "text": [
      "\r\n",
      "Epoch 256/600:  43%|████▎     | 256/600 [3:27:33<5:00:48, 52.47s/it, v_num=in_1, total_loss_train=527, kl_local_train=111, metric_mi|age_categorical_train=0.238]"
     ]
    },
    {
     "name": "stdout",
     "output_type": "stream",
     "text": [
      "\r\n",
      "Epoch 257/600:  43%|████▎     | 256/600 [3:27:33<5:00:48, 52.47s/it, v_num=in_1, total_loss_train=527, kl_local_train=111, metric_mi|age_categorical_train=0.238]"
     ]
    },
    {
     "name": "stdout",
     "output_type": "stream",
     "text": [
      "\r\n",
      "Epoch 257/600:  43%|████▎     | 257/600 [3:28:24<4:57:26, 52.03s/it, v_num=in_1, total_loss_train=527, kl_local_train=111, metric_mi|age_categorical_train=0.238]"
     ]
    },
    {
     "name": "stdout",
     "output_type": "stream",
     "text": [
      "\r\n",
      "Epoch 257/600:  43%|████▎     | 257/600 [3:28:24<4:57:26, 52.03s/it, v_num=in_1, total_loss_train=527, kl_local_train=111, metric_mi|age_categorical_train=0.238]"
     ]
    },
    {
     "name": "stdout",
     "output_type": "stream",
     "text": [
      "\r\n",
      "Epoch 258/600:  43%|████▎     | 257/600 [3:28:24<4:57:26, 52.03s/it, v_num=in_1, total_loss_train=527, kl_local_train=111, metric_mi|age_categorical_train=0.238]"
     ]
    },
    {
     "name": "stdout",
     "output_type": "stream",
     "text": [
      "\r\n",
      "Epoch 258/600:  43%|████▎     | 258/600 [3:29:16<4:56:26, 52.01s/it, v_num=in_1, total_loss_train=527, kl_local_train=111, metric_mi|age_categorical_train=0.238]"
     ]
    },
    {
     "name": "stdout",
     "output_type": "stream",
     "text": [
      "\r\n",
      "Epoch 258/600:  43%|████▎     | 258/600 [3:29:16<4:56:26, 52.01s/it, v_num=in_1, total_loss_train=526, kl_local_train=110, metric_mi|age_categorical_train=0.238]"
     ]
    },
    {
     "name": "stdout",
     "output_type": "stream",
     "text": [
      "\r\n",
      "Epoch 259/600:  43%|████▎     | 258/600 [3:29:16<4:56:26, 52.01s/it, v_num=in_1, total_loss_train=526, kl_local_train=110, metric_mi|age_categorical_train=0.238]"
     ]
    },
    {
     "name": "stdout",
     "output_type": "stream",
     "text": [
      "\r\n",
      "Epoch 259/600:  43%|████▎     | 259/600 [3:30:08<4:54:40, 51.85s/it, v_num=in_1, total_loss_train=526, kl_local_train=110, metric_mi|age_categorical_train=0.238]"
     ]
    },
    {
     "name": "stdout",
     "output_type": "stream",
     "text": [
      "\r\n",
      "Epoch 259/600:  43%|████▎     | 259/600 [3:30:08<4:54:40, 51.85s/it, v_num=in_1, total_loss_train=527, kl_local_train=111, metric_mi|age_categorical_train=0.238]"
     ]
    },
    {
     "name": "stdout",
     "output_type": "stream",
     "text": [
      "\r\n",
      "Epoch 260/600:  43%|████▎     | 259/600 [3:30:08<4:54:40, 51.85s/it, v_num=in_1, total_loss_train=527, kl_local_train=111, metric_mi|age_categorical_train=0.238]"
     ]
    },
    {
     "name": "stdout",
     "output_type": "stream",
     "text": [
      "\r\n",
      "Epoch 260/600:  43%|████▎     | 260/600 [3:31:03<4:59:26, 52.84s/it, v_num=in_1, total_loss_train=527, kl_local_train=111, metric_mi|age_categorical_train=0.238]"
     ]
    },
    {
     "name": "stdout",
     "output_type": "stream",
     "text": [
      "\r\n",
      "Epoch 260/600:  43%|████▎     | 260/600 [3:31:03<4:59:26, 52.84s/it, v_num=in_1, total_loss_train=527, kl_local_train=110, metric_mi|age_categorical_train=0.238]"
     ]
    },
    {
     "name": "stdout",
     "output_type": "stream",
     "text": [
      "\r\n",
      "Epoch 261/600:  43%|████▎     | 260/600 [3:31:04<4:59:26, 52.84s/it, v_num=in_1, total_loss_train=527, kl_local_train=110, metric_mi|age_categorical_train=0.238]"
     ]
    },
    {
     "name": "stdout",
     "output_type": "stream",
     "text": [
      "\r\n",
      "Epoch 261/600:  44%|████▎     | 261/600 [3:31:56<4:58:14, 52.79s/it, v_num=in_1, total_loss_train=527, kl_local_train=110, metric_mi|age_categorical_train=0.238]"
     ]
    },
    {
     "name": "stdout",
     "output_type": "stream",
     "text": [
      "\r\n",
      "Epoch 261/600:  44%|████▎     | 261/600 [3:31:56<4:58:14, 52.79s/it, v_num=in_1, total_loss_train=527, kl_local_train=109, metric_mi|age_categorical_train=0.238]"
     ]
    },
    {
     "name": "stdout",
     "output_type": "stream",
     "text": [
      "\r\n",
      "Epoch 262/600:  44%|████▎     | 261/600 [3:31:56<4:58:14, 52.79s/it, v_num=in_1, total_loss_train=527, kl_local_train=109, metric_mi|age_categorical_train=0.238]"
     ]
    },
    {
     "name": "stdout",
     "output_type": "stream",
     "text": [
      "\r\n",
      "Epoch 262/600:  44%|████▎     | 262/600 [3:32:47<4:55:10, 52.40s/it, v_num=in_1, total_loss_train=527, kl_local_train=109, metric_mi|age_categorical_train=0.238]"
     ]
    },
    {
     "name": "stdout",
     "output_type": "stream",
     "text": [
      "\r\n",
      "Epoch 262/600:  44%|████▎     | 262/600 [3:32:47<4:55:10, 52.40s/it, v_num=in_1, total_loss_train=527, kl_local_train=110, metric_mi|age_categorical_train=0.238]"
     ]
    },
    {
     "name": "stdout",
     "output_type": "stream",
     "text": [
      "\r\n",
      "Epoch 263/600:  44%|████▎     | 262/600 [3:32:47<4:55:10, 52.40s/it, v_num=in_1, total_loss_train=527, kl_local_train=110, metric_mi|age_categorical_train=0.238]"
     ]
    },
    {
     "name": "stdout",
     "output_type": "stream",
     "text": [
      "\r\n",
      "Epoch 263/600:  44%|████▍     | 263/600 [3:33:39<4:52:55, 52.15s/it, v_num=in_1, total_loss_train=527, kl_local_train=110, metric_mi|age_categorical_train=0.238]"
     ]
    },
    {
     "name": "stdout",
     "output_type": "stream",
     "text": [
      "\r\n",
      "Epoch 263/600:  44%|████▍     | 263/600 [3:33:39<4:52:55, 52.15s/it, v_num=in_1, total_loss_train=527, kl_local_train=110, metric_mi|age_categorical_train=0.238]"
     ]
    },
    {
     "name": "stdout",
     "output_type": "stream",
     "text": [
      "\r\n",
      "Epoch 264/600:  44%|████▍     | 263/600 [3:33:39<4:52:55, 52.15s/it, v_num=in_1, total_loss_train=527, kl_local_train=110, metric_mi|age_categorical_train=0.238]"
     ]
    },
    {
     "name": "stdout",
     "output_type": "stream",
     "text": [
      "\r\n",
      "Epoch 264/600:  44%|████▍     | 264/600 [3:34:30<4:51:00, 51.97s/it, v_num=in_1, total_loss_train=527, kl_local_train=110, metric_mi|age_categorical_train=0.238]"
     ]
    },
    {
     "name": "stdout",
     "output_type": "stream",
     "text": [
      "\r\n",
      "Epoch 264/600:  44%|████▍     | 264/600 [3:34:30<4:51:00, 51.97s/it, v_num=in_1, total_loss_train=527, kl_local_train=109, metric_mi|age_categorical_train=0.238]"
     ]
    },
    {
     "name": "stdout",
     "output_type": "stream",
     "text": [
      "\r\n",
      "Epoch 265/600:  44%|████▍     | 264/600 [3:34:30<4:51:00, 51.97s/it, v_num=in_1, total_loss_train=527, kl_local_train=109, metric_mi|age_categorical_train=0.238]"
     ]
    },
    {
     "name": "stdout",
     "output_type": "stream",
     "text": [
      "\r\n",
      "Epoch 265/600:  44%|████▍     | 265/600 [3:35:24<4:53:47, 52.62s/it, v_num=in_1, total_loss_train=527, kl_local_train=109, metric_mi|age_categorical_train=0.238]"
     ]
    },
    {
     "name": "stdout",
     "output_type": "stream",
     "text": [
      "\r\n",
      "Epoch 265/600:  44%|████▍     | 265/600 [3:35:24<4:53:47, 52.62s/it, v_num=in_1, total_loss_train=527, kl_local_train=109, metric_mi|age_categorical_train=0.238]"
     ]
    },
    {
     "name": "stdout",
     "output_type": "stream",
     "text": [
      "\r\n",
      "Epoch 266/600:  44%|████▍     | 265/600 [3:35:25<4:53:47, 52.62s/it, v_num=in_1, total_loss_train=527, kl_local_train=109, metric_mi|age_categorical_train=0.238]"
     ]
    },
    {
     "name": "stdout",
     "output_type": "stream",
     "text": [
      "\r\n",
      "Epoch 266/600:  44%|████▍     | 266/600 [3:36:17<4:52:46, 52.60s/it, v_num=in_1, total_loss_train=527, kl_local_train=109, metric_mi|age_categorical_train=0.238]"
     ]
    },
    {
     "name": "stdout",
     "output_type": "stream",
     "text": [
      "\r\n",
      "Epoch 266/600:  44%|████▍     | 266/600 [3:36:17<4:52:46, 52.60s/it, v_num=in_1, total_loss_train=528, kl_local_train=109, metric_mi|age_categorical_train=0.238]"
     ]
    },
    {
     "name": "stdout",
     "output_type": "stream",
     "text": [
      "\r\n",
      "Epoch 267/600:  44%|████▍     | 266/600 [3:36:17<4:52:46, 52.60s/it, v_num=in_1, total_loss_train=528, kl_local_train=109, metric_mi|age_categorical_train=0.238]"
     ]
    },
    {
     "name": "stdout",
     "output_type": "stream",
     "text": [
      "\r\n",
      "Epoch 267/600:  44%|████▍     | 267/600 [3:37:09<4:50:04, 52.27s/it, v_num=in_1, total_loss_train=528, kl_local_train=109, metric_mi|age_categorical_train=0.238]"
     ]
    },
    {
     "name": "stdout",
     "output_type": "stream",
     "text": [
      "\r\n",
      "Epoch 267/600:  44%|████▍     | 267/600 [3:37:09<4:50:04, 52.27s/it, v_num=in_1, total_loss_train=528, kl_local_train=108, metric_mi|age_categorical_train=0.238]"
     ]
    },
    {
     "name": "stdout",
     "output_type": "stream",
     "text": [
      "\r\n",
      "Epoch 268/600:  44%|████▍     | 267/600 [3:37:09<4:50:04, 52.27s/it, v_num=in_1, total_loss_train=528, kl_local_train=108, metric_mi|age_categorical_train=0.238]"
     ]
    },
    {
     "name": "stdout",
     "output_type": "stream",
     "text": [
      "\r\n",
      "Epoch 268/600:  45%|████▍     | 268/600 [3:38:00<4:47:55, 52.04s/it, v_num=in_1, total_loss_train=528, kl_local_train=108, metric_mi|age_categorical_train=0.238]"
     ]
    },
    {
     "name": "stdout",
     "output_type": "stream",
     "text": [
      "\r\n",
      "Epoch 268/600:  45%|████▍     | 268/600 [3:38:00<4:47:55, 52.04s/it, v_num=in_1, total_loss_train=528, kl_local_train=109, metric_mi|age_categorical_train=0.238]"
     ]
    },
    {
     "name": "stdout",
     "output_type": "stream",
     "text": [
      "\r\n",
      "Epoch 269/600:  45%|████▍     | 268/600 [3:38:00<4:47:55, 52.04s/it, v_num=in_1, total_loss_train=528, kl_local_train=109, metric_mi|age_categorical_train=0.238]"
     ]
    },
    {
     "name": "stdout",
     "output_type": "stream",
     "text": [
      "\r\n",
      "Epoch 269/600:  45%|████▍     | 269/600 [3:38:51<4:46:09, 51.87s/it, v_num=in_1, total_loss_train=528, kl_local_train=109, metric_mi|age_categorical_train=0.238]"
     ]
    },
    {
     "name": "stdout",
     "output_type": "stream",
     "text": [
      "\r\n",
      "Epoch 269/600:  45%|████▍     | 269/600 [3:38:51<4:46:09, 51.87s/it, v_num=in_1, total_loss_train=528, kl_local_train=108, metric_mi|age_categorical_train=0.238]"
     ]
    },
    {
     "name": "stdout",
     "output_type": "stream",
     "text": [
      "\r\n",
      "Epoch 270/600:  45%|████▍     | 269/600 [3:38:51<4:46:09, 51.87s/it, v_num=in_1, total_loss_train=528, kl_local_train=108, metric_mi|age_categorical_train=0.238]"
     ]
    },
    {
     "name": "stdout",
     "output_type": "stream",
     "text": [
      "\r\n",
      "Epoch 270/600:  45%|████▌     | 270/600 [3:39:46<4:49:54, 52.71s/it, v_num=in_1, total_loss_train=528, kl_local_train=108, metric_mi|age_categorical_train=0.238]"
     ]
    },
    {
     "name": "stdout",
     "output_type": "stream",
     "text": [
      "\r\n",
      "Epoch 270/600:  45%|████▌     | 270/600 [3:39:46<4:49:54, 52.71s/it, v_num=in_1, total_loss_train=528, kl_local_train=108, metric_mi|age_categorical_train=0.238]"
     ]
    },
    {
     "name": "stdout",
     "output_type": "stream",
     "text": [
      "\r\n",
      "Epoch 271/600:  45%|████▌     | 270/600 [3:39:47<4:49:54, 52.71s/it, v_num=in_1, total_loss_train=528, kl_local_train=108, metric_mi|age_categorical_train=0.238]"
     ]
    },
    {
     "name": "stdout",
     "output_type": "stream",
     "text": [
      "\r\n",
      "Epoch 271/600:  45%|████▌     | 271/600 [3:40:39<4:48:55, 52.69s/it, v_num=in_1, total_loss_train=528, kl_local_train=108, metric_mi|age_categorical_train=0.238]"
     ]
    },
    {
     "name": "stdout",
     "output_type": "stream",
     "text": [
      "\r\n",
      "Epoch 271/600:  45%|████▌     | 271/600 [3:40:39<4:48:55, 52.69s/it, v_num=in_1, total_loss_train=528, kl_local_train=108, metric_mi|age_categorical_train=0.241]"
     ]
    },
    {
     "name": "stdout",
     "output_type": "stream",
     "text": [
      "\r\n",
      "Epoch 272/600:  45%|████▌     | 271/600 [3:40:39<4:48:55, 52.69s/it, v_num=in_1, total_loss_train=528, kl_local_train=108, metric_mi|age_categorical_train=0.241]"
     ]
    },
    {
     "name": "stdout",
     "output_type": "stream",
     "text": [
      "\r\n",
      "Epoch 272/600:  45%|████▌     | 272/600 [3:41:31<4:46:26, 52.40s/it, v_num=in_1, total_loss_train=528, kl_local_train=108, metric_mi|age_categorical_train=0.241]"
     ]
    },
    {
     "name": "stdout",
     "output_type": "stream",
     "text": [
      "\r\n",
      "Epoch 272/600:  45%|████▌     | 272/600 [3:41:31<4:46:26, 52.40s/it, v_num=in_1, total_loss_train=528, kl_local_train=108, metric_mi|age_categorical_train=0.241]"
     ]
    },
    {
     "name": "stdout",
     "output_type": "stream",
     "text": [
      "\r\n",
      "Epoch 273/600:  45%|████▌     | 272/600 [3:41:31<4:46:26, 52.40s/it, v_num=in_1, total_loss_train=528, kl_local_train=108, metric_mi|age_categorical_train=0.241]"
     ]
    },
    {
     "name": "stdout",
     "output_type": "stream",
     "text": [
      "\r\n",
      "Epoch 273/600:  46%|████▌     | 273/600 [3:42:22<4:44:32, 52.21s/it, v_num=in_1, total_loss_train=528, kl_local_train=108, metric_mi|age_categorical_train=0.241]"
     ]
    },
    {
     "name": "stdout",
     "output_type": "stream",
     "text": [
      "\r\n",
      "Epoch 273/600:  46%|████▌     | 273/600 [3:42:22<4:44:32, 52.21s/it, v_num=in_1, total_loss_train=528, kl_local_train=108, metric_mi|age_categorical_train=0.241]"
     ]
    },
    {
     "name": "stdout",
     "output_type": "stream",
     "text": [
      "\r\n",
      "Epoch 274/600:  46%|████▌     | 273/600 [3:42:22<4:44:32, 52.21s/it, v_num=in_1, total_loss_train=528, kl_local_train=108, metric_mi|age_categorical_train=0.241]"
     ]
    },
    {
     "name": "stdout",
     "output_type": "stream",
     "text": [
      "\r\n",
      "Epoch 274/600:  46%|████▌     | 274/600 [3:43:14<4:43:09, 52.11s/it, v_num=in_1, total_loss_train=528, kl_local_train=108, metric_mi|age_categorical_train=0.241]"
     ]
    },
    {
     "name": "stdout",
     "output_type": "stream",
     "text": [
      "\r\n",
      "Epoch 274/600:  46%|████▌     | 274/600 [3:43:14<4:43:09, 52.11s/it, v_num=in_1, total_loss_train=528, kl_local_train=107, metric_mi|age_categorical_train=0.241]"
     ]
    },
    {
     "name": "stdout",
     "output_type": "stream",
     "text": [
      "\r\n",
      "Epoch 275/600:  46%|████▌     | 274/600 [3:43:14<4:43:09, 52.11s/it, v_num=in_1, total_loss_train=528, kl_local_train=107, metric_mi|age_categorical_train=0.241]"
     ]
    },
    {
     "name": "stdout",
     "output_type": "stream",
     "text": [
      "\r\n",
      "Epoch 275/600:  46%|████▌     | 275/600 [3:44:10<4:47:34, 53.09s/it, v_num=in_1, total_loss_train=528, kl_local_train=107, metric_mi|age_categorical_train=0.241]"
     ]
    },
    {
     "name": "stdout",
     "output_type": "stream",
     "text": [
      "\r\n",
      "Epoch 275/600:  46%|████▌     | 275/600 [3:44:10<4:47:34, 53.09s/it, v_num=in_1, total_loss_train=528, kl_local_train=107, metric_mi|age_categorical_train=0.241]"
     ]
    },
    {
     "name": "stdout",
     "output_type": "stream",
     "text": [
      "\r\n",
      "Epoch 276/600:  46%|████▌     | 275/600 [3:44:11<4:47:34, 53.09s/it, v_num=in_1, total_loss_train=528, kl_local_train=107, metric_mi|age_categorical_train=0.241]"
     ]
    },
    {
     "name": "stdout",
     "output_type": "stream",
     "text": [
      "\r\n",
      "Epoch 276/600:  46%|████▌     | 276/600 [3:45:02<4:46:21, 53.03s/it, v_num=in_1, total_loss_train=528, kl_local_train=107, metric_mi|age_categorical_train=0.241]"
     ]
    },
    {
     "name": "stdout",
     "output_type": "stream",
     "text": [
      "\r\n",
      "Epoch 276/600:  46%|████▌     | 276/600 [3:45:02<4:46:21, 53.03s/it, v_num=in_1, total_loss_train=529, kl_local_train=107, metric_mi|age_categorical_train=0.242]"
     ]
    },
    {
     "name": "stdout",
     "output_type": "stream",
     "text": [
      "\r\n",
      "Epoch 277/600:  46%|████▌     | 276/600 [3:45:02<4:46:21, 53.03s/it, v_num=in_1, total_loss_train=529, kl_local_train=107, metric_mi|age_categorical_train=0.242]"
     ]
    },
    {
     "name": "stdout",
     "output_type": "stream",
     "text": [
      "\r\n",
      "Epoch 277/600:  46%|████▌     | 277/600 [3:45:54<4:43:41, 52.70s/it, v_num=in_1, total_loss_train=529, kl_local_train=107, metric_mi|age_categorical_train=0.242]"
     ]
    },
    {
     "name": "stdout",
     "output_type": "stream",
     "text": [
      "\r\n",
      "Epoch 277/600:  46%|████▌     | 277/600 [3:45:54<4:43:41, 52.70s/it, v_num=in_1, total_loss_train=529, kl_local_train=107, metric_mi|age_categorical_train=0.242]"
     ]
    },
    {
     "name": "stdout",
     "output_type": "stream",
     "text": [
      "\r\n",
      "Epoch 278/600:  46%|████▌     | 277/600 [3:45:54<4:43:41, 52.70s/it, v_num=in_1, total_loss_train=529, kl_local_train=107, metric_mi|age_categorical_train=0.242]"
     ]
    },
    {
     "name": "stdout",
     "output_type": "stream",
     "text": [
      "\r\n",
      "Epoch 278/600:  46%|████▋     | 278/600 [3:46:46<4:40:19, 52.24s/it, v_num=in_1, total_loss_train=529, kl_local_train=107, metric_mi|age_categorical_train=0.242]"
     ]
    },
    {
     "name": "stdout",
     "output_type": "stream",
     "text": [
      "\r\n",
      "Epoch 278/600:  46%|████▋     | 278/600 [3:46:46<4:40:19, 52.24s/it, v_num=in_1, total_loss_train=529, kl_local_train=107, metric_mi|age_categorical_train=0.242]"
     ]
    },
    {
     "name": "stdout",
     "output_type": "stream",
     "text": [
      "\r\n",
      "Epoch 279/600:  46%|████▋     | 278/600 [3:46:46<4:40:19, 52.24s/it, v_num=in_1, total_loss_train=529, kl_local_train=107, metric_mi|age_categorical_train=0.242]"
     ]
    },
    {
     "name": "stdout",
     "output_type": "stream",
     "text": [
      "\r\n",
      "Epoch 279/600:  46%|████▋     | 279/600 [3:47:35<4:34:36, 51.33s/it, v_num=in_1, total_loss_train=529, kl_local_train=107, metric_mi|age_categorical_train=0.242]"
     ]
    },
    {
     "name": "stdout",
     "output_type": "stream",
     "text": [
      "\r\n",
      "Epoch 279/600:  46%|████▋     | 279/600 [3:47:35<4:34:36, 51.33s/it, v_num=in_1, total_loss_train=529, kl_local_train=107, metric_mi|age_categorical_train=0.242]"
     ]
    },
    {
     "name": "stdout",
     "output_type": "stream",
     "text": [
      "\r\n",
      "Epoch 280/600:  46%|████▋     | 279/600 [3:47:35<4:34:36, 51.33s/it, v_num=in_1, total_loss_train=529, kl_local_train=107, metric_mi|age_categorical_train=0.242]"
     ]
    },
    {
     "name": "stdout",
     "output_type": "stream",
     "text": [
      "\r\n",
      "Epoch 280/600:  47%|████▋     | 280/600 [3:48:25<4:31:29, 50.90s/it, v_num=in_1, total_loss_train=529, kl_local_train=107, metric_mi|age_categorical_train=0.242]"
     ]
    },
    {
     "name": "stdout",
     "output_type": "stream",
     "text": [
      "\r\n",
      "Epoch 280/600:  47%|████▋     | 280/600 [3:48:25<4:31:29, 50.90s/it, v_num=in_1, total_loss_train=529, kl_local_train=106, metric_mi|age_categorical_train=0.242]"
     ]
    },
    {
     "name": "stdout",
     "output_type": "stream",
     "text": [
      "\r\n",
      "Epoch 281/600:  47%|████▋     | 280/600 [3:48:26<4:31:29, 50.90s/it, v_num=in_1, total_loss_train=529, kl_local_train=106, metric_mi|age_categorical_train=0.242]"
     ]
    },
    {
     "name": "stdout",
     "output_type": "stream",
     "text": [
      "\r\n",
      "Epoch 281/600:  47%|████▋     | 281/600 [3:49:13<4:25:50, 50.00s/it, v_num=in_1, total_loss_train=529, kl_local_train=106, metric_mi|age_categorical_train=0.242]"
     ]
    },
    {
     "name": "stdout",
     "output_type": "stream",
     "text": [
      "\r\n",
      "Epoch 281/600:  47%|████▋     | 281/600 [3:49:13<4:25:50, 50.00s/it, v_num=in_1, total_loss_train=529, kl_local_train=106, metric_mi|age_categorical_train=0.24] "
     ]
    },
    {
     "name": "stdout",
     "output_type": "stream",
     "text": [
      "\r\n",
      "Epoch 282/600:  47%|████▋     | 281/600 [3:49:13<4:25:50, 50.00s/it, v_num=in_1, total_loss_train=529, kl_local_train=106, metric_mi|age_categorical_train=0.24]"
     ]
    },
    {
     "name": "stdout",
     "output_type": "stream",
     "text": [
      "\r\n",
      "Epoch 282/600:  47%|████▋     | 282/600 [3:50:01<4:22:28, 49.52s/it, v_num=in_1, total_loss_train=529, kl_local_train=106, metric_mi|age_categorical_train=0.24]"
     ]
    },
    {
     "name": "stdout",
     "output_type": "stream",
     "text": [
      "\r\n",
      "Epoch 282/600:  47%|████▋     | 282/600 [3:50:01<4:22:28, 49.52s/it, v_num=in_1, total_loss_train=529, kl_local_train=106, metric_mi|age_categorical_train=0.24]"
     ]
    },
    {
     "name": "stdout",
     "output_type": "stream",
     "text": [
      "\r\n",
      "Epoch 283/600:  47%|████▋     | 282/600 [3:50:01<4:22:28, 49.52s/it, v_num=in_1, total_loss_train=529, kl_local_train=106, metric_mi|age_categorical_train=0.24]"
     ]
    },
    {
     "name": "stdout",
     "output_type": "stream",
     "text": [
      "\r\n",
      "Epoch 283/600:  47%|████▋     | 283/600 [3:50:51<4:22:51, 49.75s/it, v_num=in_1, total_loss_train=529, kl_local_train=106, metric_mi|age_categorical_train=0.24]"
     ]
    },
    {
     "name": "stdout",
     "output_type": "stream",
     "text": [
      "\r\n",
      "Epoch 283/600:  47%|████▋     | 283/600 [3:50:51<4:22:51, 49.75s/it, v_num=in_1, total_loss_train=529, kl_local_train=106, metric_mi|age_categorical_train=0.24]"
     ]
    },
    {
     "name": "stdout",
     "output_type": "stream",
     "text": [
      "\r\n",
      "Epoch 284/600:  47%|████▋     | 283/600 [3:50:51<4:22:51, 49.75s/it, v_num=in_1, total_loss_train=529, kl_local_train=106, metric_mi|age_categorical_train=0.24]"
     ]
    },
    {
     "name": "stdout",
     "output_type": "stream",
     "text": [
      "\r\n",
      "Epoch 284/600:  47%|████▋     | 284/600 [3:51:42<4:23:59, 50.13s/it, v_num=in_1, total_loss_train=529, kl_local_train=106, metric_mi|age_categorical_train=0.24]"
     ]
    },
    {
     "name": "stdout",
     "output_type": "stream",
     "text": [
      "\r\n",
      "Epoch 284/600:  47%|████▋     | 284/600 [3:51:42<4:23:59, 50.13s/it, v_num=in_1, total_loss_train=529, kl_local_train=105, metric_mi|age_categorical_train=0.24]"
     ]
    },
    {
     "name": "stdout",
     "output_type": "stream",
     "text": [
      "\r\n",
      "Epoch 285/600:  47%|████▋     | 284/600 [3:51:42<4:23:59, 50.13s/it, v_num=in_1, total_loss_train=529, kl_local_train=105, metric_mi|age_categorical_train=0.24]"
     ]
    },
    {
     "name": "stdout",
     "output_type": "stream",
     "text": [
      "\r\n",
      "Epoch 285/600:  48%|████▊     | 285/600 [3:52:36<4:28:27, 51.14s/it, v_num=in_1, total_loss_train=529, kl_local_train=105, metric_mi|age_categorical_train=0.24]"
     ]
    },
    {
     "name": "stdout",
     "output_type": "stream",
     "text": [
      "\r\n",
      "Epoch 285/600:  48%|████▊     | 285/600 [3:52:36<4:28:27, 51.14s/it, v_num=in_1, total_loss_train=529, kl_local_train=105, metric_mi|age_categorical_train=0.24]"
     ]
    },
    {
     "name": "stdout",
     "output_type": "stream",
     "text": [
      "\r\n",
      "Epoch 286/600:  48%|████▊     | 285/600 [3:52:37<4:28:27, 51.14s/it, v_num=in_1, total_loss_train=529, kl_local_train=105, metric_mi|age_categorical_train=0.24]"
     ]
    },
    {
     "name": "stdout",
     "output_type": "stream",
     "text": [
      "\r\n",
      "Epoch 286/600:  48%|████▊     | 286/600 [3:53:28<4:28:54, 51.38s/it, v_num=in_1, total_loss_train=529, kl_local_train=105, metric_mi|age_categorical_train=0.24]"
     ]
    },
    {
     "name": "stdout",
     "output_type": "stream",
     "text": [
      "\r\n",
      "Epoch 286/600:  48%|████▊     | 286/600 [3:53:28<4:28:54, 51.38s/it, v_num=in_1, total_loss_train=529, kl_local_train=105, metric_mi|age_categorical_train=0.236]"
     ]
    },
    {
     "name": "stdout",
     "output_type": "stream",
     "text": [
      "\r\n",
      "Epoch 287/600:  48%|████▊     | 286/600 [3:53:28<4:28:54, 51.38s/it, v_num=in_1, total_loss_train=529, kl_local_train=105, metric_mi|age_categorical_train=0.236]"
     ]
    },
    {
     "name": "stdout",
     "output_type": "stream",
     "text": [
      "\r\n",
      "Epoch 287/600:  48%|████▊     | 287/600 [3:54:19<4:27:23, 51.26s/it, v_num=in_1, total_loss_train=529, kl_local_train=105, metric_mi|age_categorical_train=0.236]"
     ]
    },
    {
     "name": "stdout",
     "output_type": "stream",
     "text": [
      "\r\n",
      "Epoch 287/600:  48%|████▊     | 287/600 [3:54:19<4:27:23, 51.26s/it, v_num=in_1, total_loss_train=530, kl_local_train=105, metric_mi|age_categorical_train=0.236]"
     ]
    },
    {
     "name": "stdout",
     "output_type": "stream",
     "text": [
      "\r\n",
      "Epoch 288/600:  48%|████▊     | 287/600 [3:54:19<4:27:23, 51.26s/it, v_num=in_1, total_loss_train=530, kl_local_train=105, metric_mi|age_categorical_train=0.236]"
     ]
    },
    {
     "name": "stdout",
     "output_type": "stream",
     "text": [
      "\r\n",
      "Epoch 288/600:  48%|████▊     | 288/600 [3:55:10<4:26:16, 51.21s/it, v_num=in_1, total_loss_train=530, kl_local_train=105, metric_mi|age_categorical_train=0.236]"
     ]
    },
    {
     "name": "stdout",
     "output_type": "stream",
     "text": [
      "\r\n",
      "Epoch 288/600:  48%|████▊     | 288/600 [3:55:10<4:26:16, 51.21s/it, v_num=in_1, total_loss_train=530, kl_local_train=106, metric_mi|age_categorical_train=0.236]"
     ]
    },
    {
     "name": "stdout",
     "output_type": "stream",
     "text": [
      "\r\n",
      "Epoch 289/600:  48%|████▊     | 288/600 [3:55:10<4:26:16, 51.21s/it, v_num=in_1, total_loss_train=530, kl_local_train=106, metric_mi|age_categorical_train=0.236]"
     ]
    },
    {
     "name": "stdout",
     "output_type": "stream",
     "text": [
      "\r\n",
      "Epoch 289/600:  48%|████▊     | 289/600 [3:56:01<4:25:07, 51.15s/it, v_num=in_1, total_loss_train=530, kl_local_train=106, metric_mi|age_categorical_train=0.236]"
     ]
    },
    {
     "name": "stdout",
     "output_type": "stream",
     "text": [
      "\r\n",
      "Epoch 289/600:  48%|████▊     | 289/600 [3:56:01<4:25:07, 51.15s/it, v_num=in_1, total_loss_train=530, kl_local_train=105, metric_mi|age_categorical_train=0.236]"
     ]
    },
    {
     "name": "stdout",
     "output_type": "stream",
     "text": [
      "\r\n",
      "Epoch 290/600:  48%|████▊     | 289/600 [3:56:01<4:25:07, 51.15s/it, v_num=in_1, total_loss_train=530, kl_local_train=105, metric_mi|age_categorical_train=0.236]"
     ]
    },
    {
     "name": "stdout",
     "output_type": "stream",
     "text": [
      "\r\n",
      "Epoch 290/600:  48%|████▊     | 290/600 [3:56:54<4:27:01, 51.68s/it, v_num=in_1, total_loss_train=530, kl_local_train=105, metric_mi|age_categorical_train=0.236]"
     ]
    },
    {
     "name": "stdout",
     "output_type": "stream",
     "text": [
      "\r\n",
      "Epoch 290/600:  48%|████▊     | 290/600 [3:56:54<4:27:01, 51.68s/it, v_num=in_1, total_loss_train=530, kl_local_train=105, metric_mi|age_categorical_train=0.236]"
     ]
    },
    {
     "name": "stdout",
     "output_type": "stream",
     "text": [
      "\r\n",
      "Epoch 291/600:  48%|████▊     | 290/600 [3:56:55<4:27:01, 51.68s/it, v_num=in_1, total_loss_train=530, kl_local_train=105, metric_mi|age_categorical_train=0.236]"
     ]
    },
    {
     "name": "stdout",
     "output_type": "stream",
     "text": [
      "\r\n",
      "Epoch 291/600:  48%|████▊     | 291/600 [3:57:46<4:27:04, 51.86s/it, v_num=in_1, total_loss_train=530, kl_local_train=105, metric_mi|age_categorical_train=0.236]"
     ]
    },
    {
     "name": "stdout",
     "output_type": "stream",
     "text": [
      "\r\n",
      "Epoch 291/600:  48%|████▊     | 291/600 [3:57:46<4:27:04, 51.86s/it, v_num=in_1, total_loss_train=530, kl_local_train=104, metric_mi|age_categorical_train=0.236]"
     ]
    },
    {
     "name": "stdout",
     "output_type": "stream",
     "text": [
      "\r\n",
      "Epoch 292/600:  48%|████▊     | 291/600 [3:57:46<4:27:04, 51.86s/it, v_num=in_1, total_loss_train=530, kl_local_train=104, metric_mi|age_categorical_train=0.236]"
     ]
    },
    {
     "name": "stdout",
     "output_type": "stream",
     "text": [
      "\r\n",
      "Epoch 292/600:  49%|████▊     | 292/600 [3:58:37<4:25:34, 51.73s/it, v_num=in_1, total_loss_train=530, kl_local_train=104, metric_mi|age_categorical_train=0.236]"
     ]
    },
    {
     "name": "stdout",
     "output_type": "stream",
     "text": [
      "\r\n",
      "Epoch 292/600:  49%|████▊     | 292/600 [3:58:37<4:25:34, 51.73s/it, v_num=in_1, total_loss_train=530, kl_local_train=104, metric_mi|age_categorical_train=0.236]"
     ]
    },
    {
     "name": "stdout",
     "output_type": "stream",
     "text": [
      "\r\n",
      "Epoch 293/600:  49%|████▊     | 292/600 [3:58:37<4:25:34, 51.73s/it, v_num=in_1, total_loss_train=530, kl_local_train=104, metric_mi|age_categorical_train=0.236]"
     ]
    },
    {
     "name": "stdout",
     "output_type": "stream",
     "text": [
      "\r\n",
      "Epoch 293/600:  49%|████▉     | 293/600 [3:59:29<4:24:06, 51.62s/it, v_num=in_1, total_loss_train=530, kl_local_train=104, metric_mi|age_categorical_train=0.236]"
     ]
    },
    {
     "name": "stdout",
     "output_type": "stream",
     "text": [
      "\r\n",
      "Epoch 293/600:  49%|████▉     | 293/600 [3:59:29<4:24:06, 51.62s/it, v_num=in_1, total_loss_train=530, kl_local_train=104, metric_mi|age_categorical_train=0.236]"
     ]
    },
    {
     "name": "stdout",
     "output_type": "stream",
     "text": [
      "\r\n",
      "Epoch 294/600:  49%|████▉     | 293/600 [3:59:29<4:24:06, 51.62s/it, v_num=in_1, total_loss_train=530, kl_local_train=104, metric_mi|age_categorical_train=0.236]"
     ]
    },
    {
     "name": "stdout",
     "output_type": "stream",
     "text": [
      "\r\n",
      "Epoch 294/600:  49%|████▉     | 294/600 [4:00:20<4:23:08, 51.60s/it, v_num=in_1, total_loss_train=530, kl_local_train=104, metric_mi|age_categorical_train=0.236]"
     ]
    },
    {
     "name": "stdout",
     "output_type": "stream",
     "text": [
      "\r\n",
      "Epoch 294/600:  49%|████▉     | 294/600 [4:00:20<4:23:08, 51.60s/it, v_num=in_1, total_loss_train=530, kl_local_train=104, metric_mi|age_categorical_train=0.236]"
     ]
    },
    {
     "name": "stdout",
     "output_type": "stream",
     "text": [
      "\r\n",
      "Epoch 295/600:  49%|████▉     | 294/600 [4:00:20<4:23:08, 51.60s/it, v_num=in_1, total_loss_train=530, kl_local_train=104, metric_mi|age_categorical_train=0.236]"
     ]
    },
    {
     "name": "stdout",
     "output_type": "stream",
     "text": [
      "\r\n",
      "Epoch 295/600:  49%|████▉     | 295/600 [4:01:14<4:25:17, 52.19s/it, v_num=in_1, total_loss_train=530, kl_local_train=104, metric_mi|age_categorical_train=0.236]"
     ]
    },
    {
     "name": "stdout",
     "output_type": "stream",
     "text": [
      "\r\n",
      "Epoch 295/600:  49%|████▉     | 295/600 [4:01:14<4:25:17, 52.19s/it, v_num=in_1, total_loss_train=531, kl_local_train=103, metric_mi|age_categorical_train=0.236]"
     ]
    },
    {
     "name": "stdout",
     "output_type": "stream",
     "text": [
      "\r\n",
      "Epoch 296/600:  49%|████▉     | 295/600 [4:01:15<4:25:17, 52.19s/it, v_num=in_1, total_loss_train=531, kl_local_train=103, metric_mi|age_categorical_train=0.236]"
     ]
    },
    {
     "name": "stdout",
     "output_type": "stream",
     "text": [
      "\r\n",
      "Epoch 296/600:  49%|████▉     | 296/600 [4:02:06<4:24:51, 52.27s/it, v_num=in_1, total_loss_train=531, kl_local_train=103, metric_mi|age_categorical_train=0.236]"
     ]
    },
    {
     "name": "stdout",
     "output_type": "stream",
     "text": [
      "\r\n",
      "Epoch 296/600:  49%|████▉     | 296/600 [4:02:06<4:24:51, 52.27s/it, v_num=in_1, total_loss_train=530, kl_local_train=103, metric_mi|age_categorical_train=0.237]"
     ]
    },
    {
     "name": "stdout",
     "output_type": "stream",
     "text": [
      "\r\n",
      "Epoch 297/600:  49%|████▉     | 296/600 [4:02:06<4:24:51, 52.27s/it, v_num=in_1, total_loss_train=530, kl_local_train=103, metric_mi|age_categorical_train=0.237]"
     ]
    },
    {
     "name": "stdout",
     "output_type": "stream",
     "text": [
      "\r\n",
      "Epoch 297/600:  50%|████▉     | 297/600 [4:02:58<4:22:35, 52.00s/it, v_num=in_1, total_loss_train=530, kl_local_train=103, metric_mi|age_categorical_train=0.237]"
     ]
    },
    {
     "name": "stdout",
     "output_type": "stream",
     "text": [
      "\r\n",
      "Epoch 297/600:  50%|████▉     | 297/600 [4:02:58<4:22:35, 52.00s/it, v_num=in_1, total_loss_train=531, kl_local_train=103, metric_mi|age_categorical_train=0.237]"
     ]
    },
    {
     "name": "stdout",
     "output_type": "stream",
     "text": [
      "\r\n",
      "Epoch 298/600:  50%|████▉     | 297/600 [4:02:58<4:22:35, 52.00s/it, v_num=in_1, total_loss_train=531, kl_local_train=103, metric_mi|age_categorical_train=0.237]"
     ]
    },
    {
     "name": "stdout",
     "output_type": "stream",
     "text": [
      "\r\n",
      "Epoch 298/600:  50%|████▉     | 298/600 [4:03:49<4:20:41, 51.79s/it, v_num=in_1, total_loss_train=531, kl_local_train=103, metric_mi|age_categorical_train=0.237]"
     ]
    },
    {
     "name": "stdout",
     "output_type": "stream",
     "text": [
      "\r\n",
      "Epoch 298/600:  50%|████▉     | 298/600 [4:03:49<4:20:41, 51.79s/it, v_num=in_1, total_loss_train=531, kl_local_train=103, metric_mi|age_categorical_train=0.237]"
     ]
    },
    {
     "name": "stdout",
     "output_type": "stream",
     "text": [
      "\r\n",
      "Epoch 299/600:  50%|████▉     | 298/600 [4:03:49<4:20:41, 51.79s/it, v_num=in_1, total_loss_train=531, kl_local_train=103, metric_mi|age_categorical_train=0.237]"
     ]
    },
    {
     "name": "stdout",
     "output_type": "stream",
     "text": [
      "\r\n",
      "Epoch 299/600:  50%|████▉     | 299/600 [4:04:40<4:19:17, 51.69s/it, v_num=in_1, total_loss_train=531, kl_local_train=103, metric_mi|age_categorical_train=0.237]"
     ]
    },
    {
     "name": "stdout",
     "output_type": "stream",
     "text": [
      "\r\n",
      "Epoch 299/600:  50%|████▉     | 299/600 [4:04:40<4:19:17, 51.69s/it, v_num=in_1, total_loss_train=531, kl_local_train=103, metric_mi|age_categorical_train=0.237]"
     ]
    },
    {
     "name": "stdout",
     "output_type": "stream",
     "text": [
      "\r\n",
      "Epoch 300/600:  50%|████▉     | 299/600 [4:04:40<4:19:17, 51.69s/it, v_num=in_1, total_loss_train=531, kl_local_train=103, metric_mi|age_categorical_train=0.237]"
     ]
    },
    {
     "name": "stdout",
     "output_type": "stream",
     "text": [
      "\r\n",
      "Epoch 300/600:  50%|█████     | 300/600 [4:05:32<4:17:55, 51.58s/it, v_num=in_1, total_loss_train=531, kl_local_train=103, metric_mi|age_categorical_train=0.237]"
     ]
    },
    {
     "name": "stdout",
     "output_type": "stream",
     "text": [
      "\r\n",
      "Epoch 300/600:  50%|█████     | 300/600 [4:05:32<4:17:55, 51.58s/it, v_num=in_1, total_loss_train=531, kl_local_train=103, metric_mi|age_categorical_train=0.237]"
     ]
    },
    {
     "name": "stdout",
     "output_type": "stream",
     "text": [
      "\r\n",
      "Epoch 301/600:  50%|█████     | 300/600 [4:05:33<4:17:55, 51.58s/it, v_num=in_1, total_loss_train=531, kl_local_train=103, metric_mi|age_categorical_train=0.237]"
     ]
    },
    {
     "name": "stdout",
     "output_type": "stream",
     "text": [
      "\r\n",
      "Epoch 301/600:  50%|█████     | 301/600 [4:06:24<4:18:17, 51.83s/it, v_num=in_1, total_loss_train=531, kl_local_train=103, metric_mi|age_categorical_train=0.237]"
     ]
    },
    {
     "name": "stdout",
     "output_type": "stream",
     "text": [
      "\r\n",
      "Epoch 301/600:  50%|█████     | 301/600 [4:06:24<4:18:17, 51.83s/it, v_num=in_1, total_loss_train=531, kl_local_train=103, metric_mi|age_categorical_train=0.231]"
     ]
    },
    {
     "name": "stdout",
     "output_type": "stream",
     "text": [
      "\r\n",
      "Epoch 302/600:  50%|█████     | 301/600 [4:06:24<4:18:17, 51.83s/it, v_num=in_1, total_loss_train=531, kl_local_train=103, metric_mi|age_categorical_train=0.231]"
     ]
    },
    {
     "name": "stdout",
     "output_type": "stream",
     "text": [
      "\r\n",
      "Epoch 302/600:  50%|█████     | 302/600 [4:07:16<4:16:46, 51.70s/it, v_num=in_1, total_loss_train=531, kl_local_train=103, metric_mi|age_categorical_train=0.231]"
     ]
    },
    {
     "name": "stdout",
     "output_type": "stream",
     "text": [
      "\r\n",
      "Epoch 302/600:  50%|█████     | 302/600 [4:07:16<4:16:46, 51.70s/it, v_num=in_1, total_loss_train=532, kl_local_train=103, metric_mi|age_categorical_train=0.231]"
     ]
    },
    {
     "name": "stdout",
     "output_type": "stream",
     "text": [
      "\r\n",
      "Epoch 303/600:  50%|█████     | 302/600 [4:07:16<4:16:46, 51.70s/it, v_num=in_1, total_loss_train=532, kl_local_train=103, metric_mi|age_categorical_train=0.231]"
     ]
    },
    {
     "name": "stdout",
     "output_type": "stream",
     "text": [
      "\r\n",
      "Epoch 303/600:  50%|█████     | 303/600 [4:08:07<4:15:35, 51.63s/it, v_num=in_1, total_loss_train=532, kl_local_train=103, metric_mi|age_categorical_train=0.231]"
     ]
    },
    {
     "name": "stdout",
     "output_type": "stream",
     "text": [
      "\r\n",
      "Epoch 303/600:  50%|█████     | 303/600 [4:08:07<4:15:35, 51.63s/it, v_num=in_1, total_loss_train=531, kl_local_train=102, metric_mi|age_categorical_train=0.231]"
     ]
    },
    {
     "name": "stdout",
     "output_type": "stream",
     "text": [
      "\r\n",
      "Epoch 304/600:  50%|█████     | 303/600 [4:08:07<4:15:35, 51.63s/it, v_num=in_1, total_loss_train=531, kl_local_train=102, metric_mi|age_categorical_train=0.231]"
     ]
    },
    {
     "name": "stdout",
     "output_type": "stream",
     "text": [
      "\r\n",
      "Epoch 304/600:  51%|█████     | 304/600 [4:08:59<4:14:28, 51.58s/it, v_num=in_1, total_loss_train=531, kl_local_train=102, metric_mi|age_categorical_train=0.231]"
     ]
    },
    {
     "name": "stdout",
     "output_type": "stream",
     "text": [
      "\r\n",
      "Epoch 304/600:  51%|█████     | 304/600 [4:08:59<4:14:28, 51.58s/it, v_num=in_1, total_loss_train=532, kl_local_train=102, metric_mi|age_categorical_train=0.231]"
     ]
    },
    {
     "name": "stdout",
     "output_type": "stream",
     "text": [
      "\r\n",
      "Epoch 305/600:  51%|█████     | 304/600 [4:08:59<4:14:28, 51.58s/it, v_num=in_1, total_loss_train=532, kl_local_train=102, metric_mi|age_categorical_train=0.231]"
     ]
    },
    {
     "name": "stdout",
     "output_type": "stream",
     "text": [
      "\r\n",
      "Epoch 305/600:  51%|█████     | 305/600 [4:09:52<4:16:56, 52.26s/it, v_num=in_1, total_loss_train=532, kl_local_train=102, metric_mi|age_categorical_train=0.231]"
     ]
    },
    {
     "name": "stdout",
     "output_type": "stream",
     "text": [
      "\r\n",
      "Epoch 305/600:  51%|█████     | 305/600 [4:09:52<4:16:56, 52.26s/it, v_num=in_1, total_loss_train=532, kl_local_train=102, metric_mi|age_categorical_train=0.231]"
     ]
    },
    {
     "name": "stdout",
     "output_type": "stream",
     "text": [
      "\r\n",
      "Epoch 306/600:  51%|█████     | 305/600 [4:09:53<4:16:56, 52.26s/it, v_num=in_1, total_loss_train=532, kl_local_train=102, metric_mi|age_categorical_train=0.231]"
     ]
    },
    {
     "name": "stdout",
     "output_type": "stream",
     "text": [
      "\r\n",
      "Epoch 306/600:  51%|█████     | 306/600 [4:10:45<4:17:07, 52.47s/it, v_num=in_1, total_loss_train=532, kl_local_train=102, metric_mi|age_categorical_train=0.231]"
     ]
    },
    {
     "name": "stdout",
     "output_type": "stream",
     "text": [
      "\r\n",
      "Epoch 306/600:  51%|█████     | 306/600 [4:10:45<4:17:07, 52.47s/it, v_num=in_1, total_loss_train=532, kl_local_train=102, metric_mi|age_categorical_train=0.232]"
     ]
    },
    {
     "name": "stdout",
     "output_type": "stream",
     "text": [
      "\r\n",
      "Epoch 307/600:  51%|█████     | 306/600 [4:10:45<4:17:07, 52.47s/it, v_num=in_1, total_loss_train=532, kl_local_train=102, metric_mi|age_categorical_train=0.232]"
     ]
    },
    {
     "name": "stdout",
     "output_type": "stream",
     "text": [
      "\r\n",
      "Epoch 307/600:  51%|█████     | 307/600 [4:11:37<4:15:37, 52.35s/it, v_num=in_1, total_loss_train=532, kl_local_train=102, metric_mi|age_categorical_train=0.232]"
     ]
    },
    {
     "name": "stdout",
     "output_type": "stream",
     "text": [
      "\r\n",
      "Epoch 307/600:  51%|█████     | 307/600 [4:11:37<4:15:37, 52.35s/it, v_num=in_1, total_loss_train=532, kl_local_train=101, metric_mi|age_categorical_train=0.232]"
     ]
    },
    {
     "name": "stdout",
     "output_type": "stream",
     "text": [
      "\r\n",
      "Epoch 308/600:  51%|█████     | 307/600 [4:11:37<4:15:37, 52.35s/it, v_num=in_1, total_loss_train=532, kl_local_train=101, metric_mi|age_categorical_train=0.232]"
     ]
    },
    {
     "name": "stdout",
     "output_type": "stream",
     "text": [
      "\r\n",
      "Epoch 308/600:  51%|█████▏    | 308/600 [4:12:29<4:14:10, 52.23s/it, v_num=in_1, total_loss_train=532, kl_local_train=101, metric_mi|age_categorical_train=0.232]"
     ]
    },
    {
     "name": "stdout",
     "output_type": "stream",
     "text": [
      "\r\n",
      "Epoch 308/600:  51%|█████▏    | 308/600 [4:12:29<4:14:10, 52.23s/it, v_num=in_1, total_loss_train=532, kl_local_train=102, metric_mi|age_categorical_train=0.232]"
     ]
    },
    {
     "name": "stdout",
     "output_type": "stream",
     "text": [
      "\r\n",
      "Epoch 309/600:  51%|█████▏    | 308/600 [4:12:29<4:14:10, 52.23s/it, v_num=in_1, total_loss_train=532, kl_local_train=102, metric_mi|age_categorical_train=0.232]"
     ]
    },
    {
     "name": "stdout",
     "output_type": "stream",
     "text": [
      "\r\n",
      "Epoch 309/600:  52%|█████▏    | 309/600 [4:13:21<4:13:00, 52.17s/it, v_num=in_1, total_loss_train=532, kl_local_train=102, metric_mi|age_categorical_train=0.232]"
     ]
    },
    {
     "name": "stdout",
     "output_type": "stream",
     "text": [
      "\r\n",
      "Epoch 309/600:  52%|█████▏    | 309/600 [4:13:21<4:13:00, 52.17s/it, v_num=in_1, total_loss_train=532, kl_local_train=101, metric_mi|age_categorical_train=0.232]"
     ]
    },
    {
     "name": "stdout",
     "output_type": "stream",
     "text": [
      "\r\n",
      "Epoch 310/600:  52%|█████▏    | 309/600 [4:13:21<4:13:00, 52.17s/it, v_num=in_1, total_loss_train=532, kl_local_train=101, metric_mi|age_categorical_train=0.232]"
     ]
    },
    {
     "name": "stdout",
     "output_type": "stream",
     "text": [
      "\r\n",
      "Epoch 310/600:  52%|█████▏    | 310/600 [4:14:13<4:11:34, 52.05s/it, v_num=in_1, total_loss_train=532, kl_local_train=101, metric_mi|age_categorical_train=0.232]"
     ]
    },
    {
     "name": "stdout",
     "output_type": "stream",
     "text": [
      "\r\n",
      "Epoch 310/600:  52%|█████▏    | 310/600 [4:14:13<4:11:34, 52.05s/it, v_num=in_1, total_loss_train=532, kl_local_train=102, metric_mi|age_categorical_train=0.232]"
     ]
    },
    {
     "name": "stdout",
     "output_type": "stream",
     "text": [
      "\r\n",
      "Epoch 311/600:  52%|█████▏    | 310/600 [4:14:14<4:11:34, 52.05s/it, v_num=in_1, total_loss_train=532, kl_local_train=102, metric_mi|age_categorical_train=0.232]"
     ]
    },
    {
     "name": "stdout",
     "output_type": "stream",
     "text": [
      "\r\n",
      "Epoch 311/600:  52%|█████▏    | 311/600 [4:15:06<4:11:50, 52.29s/it, v_num=in_1, total_loss_train=532, kl_local_train=102, metric_mi|age_categorical_train=0.232]"
     ]
    },
    {
     "name": "stdout",
     "output_type": "stream",
     "text": [
      "\r\n",
      "Epoch 311/600:  52%|█████▏    | 311/600 [4:15:06<4:11:50, 52.29s/it, v_num=in_1, total_loss_train=533, kl_local_train=101, metric_mi|age_categorical_train=0.233]"
     ]
    },
    {
     "name": "stdout",
     "output_type": "stream",
     "text": [
      "\r\n",
      "Epoch 312/600:  52%|█████▏    | 311/600 [4:15:06<4:11:50, 52.29s/it, v_num=in_1, total_loss_train=533, kl_local_train=101, metric_mi|age_categorical_train=0.233]"
     ]
    },
    {
     "name": "stdout",
     "output_type": "stream",
     "text": [
      "\r\n",
      "Epoch 312/600:  52%|█████▏    | 312/600 [4:15:58<4:10:13, 52.13s/it, v_num=in_1, total_loss_train=533, kl_local_train=101, metric_mi|age_categorical_train=0.233]"
     ]
    },
    {
     "name": "stdout",
     "output_type": "stream",
     "text": [
      "\r\n",
      "Epoch 312/600:  52%|█████▏    | 312/600 [4:15:58<4:10:13, 52.13s/it, v_num=in_1, total_loss_train=532, kl_local_train=101, metric_mi|age_categorical_train=0.233]"
     ]
    },
    {
     "name": "stdout",
     "output_type": "stream",
     "text": [
      "\r\n",
      "Epoch 313/600:  52%|█████▏    | 312/600 [4:15:58<4:10:13, 52.13s/it, v_num=in_1, total_loss_train=532, kl_local_train=101, metric_mi|age_categorical_train=0.233]"
     ]
    },
    {
     "name": "stdout",
     "output_type": "stream",
     "text": [
      "\r\n",
      "Epoch 313/600:  52%|█████▏    | 313/600 [4:16:49<4:08:26, 51.94s/it, v_num=in_1, total_loss_train=532, kl_local_train=101, metric_mi|age_categorical_train=0.233]"
     ]
    },
    {
     "name": "stdout",
     "output_type": "stream",
     "text": [
      "\r\n",
      "Epoch 313/600:  52%|█████▏    | 313/600 [4:16:49<4:08:26, 51.94s/it, v_num=in_1, total_loss_train=532, kl_local_train=101, metric_mi|age_categorical_train=0.233]"
     ]
    },
    {
     "name": "stdout",
     "output_type": "stream",
     "text": [
      "\r\n",
      "Epoch 314/600:  52%|█████▏    | 313/600 [4:16:49<4:08:26, 51.94s/it, v_num=in_1, total_loss_train=532, kl_local_train=101, metric_mi|age_categorical_train=0.233]"
     ]
    },
    {
     "name": "stdout",
     "output_type": "stream",
     "text": [
      "\r\n",
      "Epoch 314/600:  52%|█████▏    | 314/600 [4:17:41<4:07:30, 51.92s/it, v_num=in_1, total_loss_train=532, kl_local_train=101, metric_mi|age_categorical_train=0.233]"
     ]
    },
    {
     "name": "stdout",
     "output_type": "stream",
     "text": [
      "\r\n",
      "Epoch 314/600:  52%|█████▏    | 314/600 [4:17:41<4:07:30, 51.92s/it, v_num=in_1, total_loss_train=532, kl_local_train=99.8, metric_mi|age_categorical_train=0.233]"
     ]
    },
    {
     "name": "stdout",
     "output_type": "stream",
     "text": [
      "\r\n",
      "Epoch 315/600:  52%|█████▏    | 314/600 [4:17:41<4:07:30, 51.92s/it, v_num=in_1, total_loss_train=532, kl_local_train=99.8, metric_mi|age_categorical_train=0.233]"
     ]
    },
    {
     "name": "stdout",
     "output_type": "stream",
     "text": [
      "\r\n",
      "Epoch 315/600:  52%|█████▎    | 315/600 [4:18:33<4:06:35, 51.91s/it, v_num=in_1, total_loss_train=532, kl_local_train=99.8, metric_mi|age_categorical_train=0.233]"
     ]
    },
    {
     "name": "stdout",
     "output_type": "stream",
     "text": [
      "\r\n",
      "Epoch 315/600:  52%|█████▎    | 315/600 [4:18:33<4:06:35, 51.91s/it, v_num=in_1, total_loss_train=532, kl_local_train=100, metric_mi|age_categorical_train=0.233] "
     ]
    },
    {
     "name": "stdout",
     "output_type": "stream",
     "text": [
      "\r\n",
      "Epoch 316/600:  52%|█████▎    | 315/600 [4:18:34<4:06:35, 51.91s/it, v_num=in_1, total_loss_train=532, kl_local_train=100, metric_mi|age_categorical_train=0.233]"
     ]
    },
    {
     "name": "stdout",
     "output_type": "stream",
     "text": [
      "\r\n",
      "Epoch 316/600:  53%|█████▎    | 316/600 [4:19:26<4:07:14, 52.23s/it, v_num=in_1, total_loss_train=532, kl_local_train=100, metric_mi|age_categorical_train=0.233]"
     ]
    },
    {
     "name": "stdout",
     "output_type": "stream",
     "text": [
      "\r\n",
      "Epoch 316/600:  53%|█████▎    | 316/600 [4:19:26<4:07:14, 52.23s/it, v_num=in_1, total_loss_train=533, kl_local_train=99.7, metric_mi|age_categorical_train=0.228]"
     ]
    },
    {
     "name": "stdout",
     "output_type": "stream",
     "text": [
      "\r\n",
      "Epoch 317/600:  53%|█████▎    | 316/600 [4:19:26<4:07:14, 52.23s/it, v_num=in_1, total_loss_train=533, kl_local_train=99.7, metric_mi|age_categorical_train=0.228]"
     ]
    },
    {
     "name": "stdout",
     "output_type": "stream",
     "text": [
      "\r\n",
      "Epoch 317/600:  53%|█████▎    | 317/600 [4:20:18<4:05:48, 52.11s/it, v_num=in_1, total_loss_train=533, kl_local_train=99.7, metric_mi|age_categorical_train=0.228]"
     ]
    },
    {
     "name": "stdout",
     "output_type": "stream",
     "text": [
      "\r\n",
      "Epoch 317/600:  53%|█████▎    | 317/600 [4:20:18<4:05:48, 52.11s/it, v_num=in_1, total_loss_train=533, kl_local_train=99.2, metric_mi|age_categorical_train=0.228]"
     ]
    },
    {
     "name": "stdout",
     "output_type": "stream",
     "text": [
      "\r\n",
      "Epoch 318/600:  53%|█████▎    | 317/600 [4:20:18<4:05:48, 52.11s/it, v_num=in_1, total_loss_train=533, kl_local_train=99.2, metric_mi|age_categorical_train=0.228]"
     ]
    },
    {
     "name": "stdout",
     "output_type": "stream",
     "text": [
      "\r\n",
      "Epoch 318/600:  53%|█████▎    | 318/600 [4:21:10<4:04:28, 52.02s/it, v_num=in_1, total_loss_train=533, kl_local_train=99.2, metric_mi|age_categorical_train=0.228]"
     ]
    },
    {
     "name": "stdout",
     "output_type": "stream",
     "text": [
      "\r\n",
      "Epoch 318/600:  53%|█████▎    | 318/600 [4:21:10<4:04:28, 52.02s/it, v_num=in_1, total_loss_train=533, kl_local_train=99.5, metric_mi|age_categorical_train=0.228]"
     ]
    },
    {
     "name": "stdout",
     "output_type": "stream",
     "text": [
      "\r\n",
      "Epoch 319/600:  53%|█████▎    | 318/600 [4:21:10<4:04:28, 52.02s/it, v_num=in_1, total_loss_train=533, kl_local_train=99.5, metric_mi|age_categorical_train=0.228]"
     ]
    },
    {
     "name": "stdout",
     "output_type": "stream",
     "text": [
      "\r\n",
      "Epoch 319/600:  53%|█████▎    | 319/600 [4:22:01<4:03:20, 51.96s/it, v_num=in_1, total_loss_train=533, kl_local_train=99.5, metric_mi|age_categorical_train=0.228]"
     ]
    },
    {
     "name": "stdout",
     "output_type": "stream",
     "text": [
      "\r\n",
      "Epoch 319/600:  53%|█████▎    | 319/600 [4:22:01<4:03:20, 51.96s/it, v_num=in_1, total_loss_train=533, kl_local_train=99.3, metric_mi|age_categorical_train=0.228]"
     ]
    },
    {
     "name": "stdout",
     "output_type": "stream",
     "text": [
      "\r\n",
      "Epoch 320/600:  53%|█████▎    | 319/600 [4:22:01<4:03:20, 51.96s/it, v_num=in_1, total_loss_train=533, kl_local_train=99.3, metric_mi|age_categorical_train=0.228]"
     ]
    },
    {
     "name": "stdout",
     "output_type": "stream",
     "text": [
      "\r\n",
      "Epoch 320/600:  53%|█████▎    | 320/600 [4:22:53<4:02:01, 51.86s/it, v_num=in_1, total_loss_train=533, kl_local_train=99.3, metric_mi|age_categorical_train=0.228]"
     ]
    },
    {
     "name": "stdout",
     "output_type": "stream",
     "text": [
      "\r\n",
      "Epoch 320/600:  53%|█████▎    | 320/600 [4:22:53<4:02:01, 51.86s/it, v_num=in_1, total_loss_train=533, kl_local_train=99, metric_mi|age_categorical_train=0.228]  "
     ]
    },
    {
     "name": "stdout",
     "output_type": "stream",
     "text": [
      "\r\n",
      "Epoch 321/600:  53%|█████▎    | 320/600 [4:22:54<4:02:01, 51.86s/it, v_num=in_1, total_loss_train=533, kl_local_train=99, metric_mi|age_categorical_train=0.228]"
     ]
    },
    {
     "name": "stdout",
     "output_type": "stream",
     "text": [
      "\r\n",
      "Epoch 321/600:  54%|█████▎    | 321/600 [4:23:46<4:02:37, 52.18s/it, v_num=in_1, total_loss_train=533, kl_local_train=99, metric_mi|age_categorical_train=0.228]"
     ]
    },
    {
     "name": "stdout",
     "output_type": "stream",
     "text": [
      "\r\n",
      "Epoch 321/600:  54%|█████▎    | 321/600 [4:23:46<4:02:37, 52.18s/it, v_num=in_1, total_loss_train=533, kl_local_train=99.1, metric_mi|age_categorical_train=0.221]"
     ]
    },
    {
     "name": "stdout",
     "output_type": "stream",
     "text": [
      "\r\n",
      "Epoch 322/600:  54%|█████▎    | 321/600 [4:23:46<4:02:37, 52.18s/it, v_num=in_1, total_loss_train=533, kl_local_train=99.1, metric_mi|age_categorical_train=0.221]"
     ]
    },
    {
     "name": "stdout",
     "output_type": "stream",
     "text": [
      "\r\n",
      "Epoch 322/600:  54%|█████▎    | 322/600 [4:24:38<4:01:24, 52.10s/it, v_num=in_1, total_loss_train=533, kl_local_train=99.1, metric_mi|age_categorical_train=0.221]"
     ]
    },
    {
     "name": "stdout",
     "output_type": "stream",
     "text": [
      "\r\n",
      "Epoch 322/600:  54%|█████▎    | 322/600 [4:24:38<4:01:24, 52.10s/it, v_num=in_1, total_loss_train=533, kl_local_train=98.6, metric_mi|age_categorical_train=0.221]"
     ]
    },
    {
     "name": "stdout",
     "output_type": "stream",
     "text": [
      "\r\n",
      "Epoch 323/600:  54%|█████▎    | 322/600 [4:24:38<4:01:24, 52.10s/it, v_num=in_1, total_loss_train=533, kl_local_train=98.6, metric_mi|age_categorical_train=0.221]"
     ]
    },
    {
     "name": "stdout",
     "output_type": "stream",
     "text": [
      "\r\n",
      "Epoch 323/600:  54%|█████▍    | 323/600 [4:25:30<4:00:03, 52.00s/it, v_num=in_1, total_loss_train=533, kl_local_train=98.6, metric_mi|age_categorical_train=0.221]"
     ]
    },
    {
     "name": "stdout",
     "output_type": "stream",
     "text": [
      "\r\n",
      "Epoch 323/600:  54%|█████▍    | 323/600 [4:25:30<4:00:03, 52.00s/it, v_num=in_1, total_loss_train=534, kl_local_train=99.1, metric_mi|age_categorical_train=0.221]"
     ]
    },
    {
     "name": "stdout",
     "output_type": "stream",
     "text": [
      "\r\n",
      "Epoch 324/600:  54%|█████▍    | 323/600 [4:25:30<4:00:03, 52.00s/it, v_num=in_1, total_loss_train=534, kl_local_train=99.1, metric_mi|age_categorical_train=0.221]"
     ]
    },
    {
     "name": "stdout",
     "output_type": "stream",
     "text": [
      "\r\n",
      "Epoch 324/600:  54%|█████▍    | 324/600 [4:26:21<3:58:50, 51.92s/it, v_num=in_1, total_loss_train=534, kl_local_train=99.1, metric_mi|age_categorical_train=0.221]"
     ]
    },
    {
     "name": "stdout",
     "output_type": "stream",
     "text": [
      "\r\n",
      "Epoch 324/600:  54%|█████▍    | 324/600 [4:26:21<3:58:50, 51.92s/it, v_num=in_1, total_loss_train=534, kl_local_train=98.7, metric_mi|age_categorical_train=0.221]"
     ]
    },
    {
     "name": "stdout",
     "output_type": "stream",
     "text": [
      "\r\n",
      "Epoch 325/600:  54%|█████▍    | 324/600 [4:26:21<3:58:50, 51.92s/it, v_num=in_1, total_loss_train=534, kl_local_train=98.7, metric_mi|age_categorical_train=0.221]"
     ]
    },
    {
     "name": "stdout",
     "output_type": "stream",
     "text": [
      "\r\n",
      "Epoch 325/600:  54%|█████▍    | 325/600 [4:27:15<4:00:37, 52.50s/it, v_num=in_1, total_loss_train=534, kl_local_train=98.7, metric_mi|age_categorical_train=0.221]"
     ]
    },
    {
     "name": "stdout",
     "output_type": "stream",
     "text": [
      "\r\n",
      "Epoch 325/600:  54%|█████▍    | 325/600 [4:27:15<4:00:37, 52.50s/it, v_num=in_1, total_loss_train=534, kl_local_train=98.7, metric_mi|age_categorical_train=0.221]"
     ]
    },
    {
     "name": "stdout",
     "output_type": "stream",
     "text": [
      "\r\n",
      "Epoch 326/600:  54%|█████▍    | 325/600 [4:27:16<4:00:37, 52.50s/it, v_num=in_1, total_loss_train=534, kl_local_train=98.7, metric_mi|age_categorical_train=0.221]"
     ]
    },
    {
     "name": "stdout",
     "output_type": "stream",
     "text": [
      "\r\n",
      "Epoch 326/600:  54%|█████▍    | 326/600 [4:28:08<4:00:02, 52.56s/it, v_num=in_1, total_loss_train=534, kl_local_train=98.7, metric_mi|age_categorical_train=0.221]"
     ]
    },
    {
     "name": "stdout",
     "output_type": "stream",
     "text": [
      "\r\n",
      "Epoch 326/600:  54%|█████▍    | 326/600 [4:28:08<4:00:02, 52.56s/it, v_num=in_1, total_loss_train=534, kl_local_train=98.4, metric_mi|age_categorical_train=0.216]"
     ]
    },
    {
     "name": "stdout",
     "output_type": "stream",
     "text": [
      "\r\n",
      "Epoch 327/600:  54%|█████▍    | 326/600 [4:28:08<4:00:02, 52.56s/it, v_num=in_1, total_loss_train=534, kl_local_train=98.4, metric_mi|age_categorical_train=0.216]"
     ]
    },
    {
     "name": "stdout",
     "output_type": "stream",
     "text": [
      "\r\n",
      "Epoch 327/600:  55%|█████▍    | 327/600 [4:29:00<3:57:54, 52.29s/it, v_num=in_1, total_loss_train=534, kl_local_train=98.4, metric_mi|age_categorical_train=0.216]"
     ]
    },
    {
     "name": "stdout",
     "output_type": "stream",
     "text": [
      "\r\n",
      "Epoch 327/600:  55%|█████▍    | 327/600 [4:29:00<3:57:54, 52.29s/it, v_num=in_1, total_loss_train=534, kl_local_train=97.8, metric_mi|age_categorical_train=0.216]"
     ]
    },
    {
     "name": "stdout",
     "output_type": "stream",
     "text": [
      "\r\n",
      "Epoch 328/600:  55%|█████▍    | 327/600 [4:29:00<3:57:54, 52.29s/it, v_num=in_1, total_loss_train=534, kl_local_train=97.8, metric_mi|age_categorical_train=0.216]"
     ]
    },
    {
     "name": "stdout",
     "output_type": "stream",
     "text": [
      "\r\n",
      "Epoch 328/600:  55%|█████▍    | 328/600 [4:29:51<3:55:54, 52.04s/it, v_num=in_1, total_loss_train=534, kl_local_train=97.8, metric_mi|age_categorical_train=0.216]"
     ]
    },
    {
     "name": "stdout",
     "output_type": "stream",
     "text": [
      "\r\n",
      "Epoch 328/600:  55%|█████▍    | 328/600 [4:29:51<3:55:54, 52.04s/it, v_num=in_1, total_loss_train=534, kl_local_train=97.5, metric_mi|age_categorical_train=0.216]"
     ]
    },
    {
     "name": "stdout",
     "output_type": "stream",
     "text": [
      "\r\n",
      "Epoch 329/600:  55%|█████▍    | 328/600 [4:29:51<3:55:54, 52.04s/it, v_num=in_1, total_loss_train=534, kl_local_train=97.5, metric_mi|age_categorical_train=0.216]"
     ]
    },
    {
     "name": "stdout",
     "output_type": "stream",
     "text": [
      "\r\n",
      "Epoch 329/600:  55%|█████▍    | 329/600 [4:30:42<3:54:07, 51.83s/it, v_num=in_1, total_loss_train=534, kl_local_train=97.5, metric_mi|age_categorical_train=0.216]"
     ]
    },
    {
     "name": "stdout",
     "output_type": "stream",
     "text": [
      "\r\n",
      "Epoch 329/600:  55%|█████▍    | 329/600 [4:30:42<3:54:07, 51.83s/it, v_num=in_1, total_loss_train=534, kl_local_train=97.4, metric_mi|age_categorical_train=0.216]"
     ]
    },
    {
     "name": "stdout",
     "output_type": "stream",
     "text": [
      "\r\n",
      "Epoch 330/600:  55%|█████▍    | 329/600 [4:30:42<3:54:07, 51.83s/it, v_num=in_1, total_loss_train=534, kl_local_train=97.4, metric_mi|age_categorical_train=0.216]"
     ]
    },
    {
     "name": "stdout",
     "output_type": "stream",
     "text": [
      "\r\n",
      "Epoch 330/600:  55%|█████▌    | 330/600 [4:31:36<3:55:25, 52.32s/it, v_num=in_1, total_loss_train=534, kl_local_train=97.4, metric_mi|age_categorical_train=0.216]"
     ]
    },
    {
     "name": "stdout",
     "output_type": "stream",
     "text": [
      "\r\n",
      "Epoch 330/600:  55%|█████▌    | 330/600 [4:31:36<3:55:25, 52.32s/it, v_num=in_1, total_loss_train=534, kl_local_train=97.4, metric_mi|age_categorical_train=0.216]"
     ]
    },
    {
     "name": "stdout",
     "output_type": "stream",
     "text": [
      "\r\n",
      "Epoch 331/600:  55%|█████▌    | 330/600 [4:31:37<3:55:25, 52.32s/it, v_num=in_1, total_loss_train=534, kl_local_train=97.4, metric_mi|age_categorical_train=0.216]"
     ]
    },
    {
     "name": "stdout",
     "output_type": "stream",
     "text": [
      "\r\n",
      "Epoch 331/600:  55%|█████▌    | 331/600 [4:32:28<3:54:32, 52.31s/it, v_num=in_1, total_loss_train=534, kl_local_train=97.4, metric_mi|age_categorical_train=0.216]"
     ]
    },
    {
     "name": "stdout",
     "output_type": "stream",
     "text": [
      "\r\n",
      "Epoch 331/600:  55%|█████▌    | 331/600 [4:32:28<3:54:32, 52.31s/it, v_num=in_1, total_loss_train=534, kl_local_train=97, metric_mi|age_categorical_train=0.222]  "
     ]
    },
    {
     "name": "stdout",
     "output_type": "stream",
     "text": [
      "\r\n",
      "Epoch 332/600:  55%|█████▌    | 331/600 [4:32:28<3:54:32, 52.31s/it, v_num=in_1, total_loss_train=534, kl_local_train=97, metric_mi|age_categorical_train=0.222]"
     ]
    },
    {
     "name": "stdout",
     "output_type": "stream",
     "text": [
      "\r\n",
      "Epoch 332/600:  55%|█████▌    | 332/600 [4:33:20<3:52:39, 52.09s/it, v_num=in_1, total_loss_train=534, kl_local_train=97, metric_mi|age_categorical_train=0.222]"
     ]
    },
    {
     "name": "stdout",
     "output_type": "stream",
     "text": [
      "\r\n",
      "Epoch 332/600:  55%|█████▌    | 332/600 [4:33:20<3:52:39, 52.09s/it, v_num=in_1, total_loss_train=534, kl_local_train=96.8, metric_mi|age_categorical_train=0.222]"
     ]
    },
    {
     "name": "stdout",
     "output_type": "stream",
     "text": [
      "\r\n",
      "Epoch 333/600:  55%|█████▌    | 332/600 [4:33:20<3:52:39, 52.09s/it, v_num=in_1, total_loss_train=534, kl_local_train=96.8, metric_mi|age_categorical_train=0.222]"
     ]
    },
    {
     "name": "stdout",
     "output_type": "stream",
     "text": [
      "\r\n",
      "Epoch 333/600:  56%|█████▌    | 333/600 [4:34:11<3:51:03, 51.92s/it, v_num=in_1, total_loss_train=534, kl_local_train=96.8, metric_mi|age_categorical_train=0.222]"
     ]
    },
    {
     "name": "stdout",
     "output_type": "stream",
     "text": [
      "\r\n",
      "Epoch 333/600:  56%|█████▌    | 333/600 [4:34:11<3:51:03, 51.92s/it, v_num=in_1, total_loss_train=534, kl_local_train=96.9, metric_mi|age_categorical_train=0.222]"
     ]
    },
    {
     "name": "stdout",
     "output_type": "stream",
     "text": [
      "\r\n",
      "Epoch 334/600:  56%|█████▌    | 333/600 [4:34:11<3:51:03, 51.92s/it, v_num=in_1, total_loss_train=534, kl_local_train=96.9, metric_mi|age_categorical_train=0.222]"
     ]
    },
    {
     "name": "stdout",
     "output_type": "stream",
     "text": [
      "\r\n",
      "Epoch 334/600:  56%|█████▌    | 334/600 [4:35:03<3:49:30, 51.77s/it, v_num=in_1, total_loss_train=534, kl_local_train=96.9, metric_mi|age_categorical_train=0.222]"
     ]
    },
    {
     "name": "stdout",
     "output_type": "stream",
     "text": [
      "\r\n",
      "Epoch 334/600:  56%|█████▌    | 334/600 [4:35:03<3:49:30, 51.77s/it, v_num=in_1, total_loss_train=534, kl_local_train=96.9, metric_mi|age_categorical_train=0.222]"
     ]
    },
    {
     "name": "stdout",
     "output_type": "stream",
     "text": [
      "\r\n",
      "Epoch 335/600:  56%|█████▌    | 334/600 [4:35:03<3:49:30, 51.77s/it, v_num=in_1, total_loss_train=534, kl_local_train=96.9, metric_mi|age_categorical_train=0.222]"
     ]
    },
    {
     "name": "stdout",
     "output_type": "stream",
     "text": [
      "\r\n",
      "Epoch 335/600:  56%|█████▌    | 335/600 [4:35:56<3:50:48, 52.26s/it, v_num=in_1, total_loss_train=534, kl_local_train=96.9, metric_mi|age_categorical_train=0.222]"
     ]
    },
    {
     "name": "stdout",
     "output_type": "stream",
     "text": [
      "\r\n",
      "Epoch 335/600:  56%|█████▌    | 335/600 [4:35:56<3:50:48, 52.26s/it, v_num=in_1, total_loss_train=535, kl_local_train=96.7, metric_mi|age_categorical_train=0.222]"
     ]
    },
    {
     "name": "stdout",
     "output_type": "stream",
     "text": [
      "\r\n",
      "Epoch 336/600:  56%|█████▌    | 335/600 [4:35:57<3:50:48, 52.26s/it, v_num=in_1, total_loss_train=535, kl_local_train=96.7, metric_mi|age_categorical_train=0.222]"
     ]
    },
    {
     "name": "stdout",
     "output_type": "stream",
     "text": [
      "\r\n",
      "Epoch 336/600:  56%|█████▌    | 336/600 [4:36:48<3:49:54, 52.25s/it, v_num=in_1, total_loss_train=535, kl_local_train=96.7, metric_mi|age_categorical_train=0.222]"
     ]
    },
    {
     "name": "stdout",
     "output_type": "stream",
     "text": [
      "\r\n",
      "Epoch 336/600:  56%|█████▌    | 336/600 [4:36:48<3:49:54, 52.25s/it, v_num=in_1, total_loss_train=535, kl_local_train=96.8, metric_mi|age_categorical_train=0.224]"
     ]
    },
    {
     "name": "stdout",
     "output_type": "stream",
     "text": [
      "\r\n",
      "Epoch 337/600:  56%|█████▌    | 336/600 [4:36:48<3:49:54, 52.25s/it, v_num=in_1, total_loss_train=535, kl_local_train=96.8, metric_mi|age_categorical_train=0.224]"
     ]
    },
    {
     "name": "stdout",
     "output_type": "stream",
     "text": [
      "\r\n",
      "Epoch 337/600:  56%|█████▌    | 337/600 [4:37:39<3:47:33, 51.92s/it, v_num=in_1, total_loss_train=535, kl_local_train=96.8, metric_mi|age_categorical_train=0.224]"
     ]
    },
    {
     "name": "stdout",
     "output_type": "stream",
     "text": [
      "\r\n",
      "Epoch 337/600:  56%|█████▌    | 337/600 [4:37:39<3:47:33, 51.92s/it, v_num=in_1, total_loss_train=535, kl_local_train=96.4, metric_mi|age_categorical_train=0.224]"
     ]
    },
    {
     "name": "stdout",
     "output_type": "stream",
     "text": [
      "\r\n",
      "Epoch 338/600:  56%|█████▌    | 337/600 [4:37:39<3:47:33, 51.92s/it, v_num=in_1, total_loss_train=535, kl_local_train=96.4, metric_mi|age_categorical_train=0.224]"
     ]
    },
    {
     "name": "stdout",
     "output_type": "stream",
     "text": [
      "\r\n",
      "Epoch 338/600:  56%|█████▋    | 338/600 [4:38:31<3:46:08, 51.79s/it, v_num=in_1, total_loss_train=535, kl_local_train=96.4, metric_mi|age_categorical_train=0.224]"
     ]
    },
    {
     "name": "stdout",
     "output_type": "stream",
     "text": [
      "\r\n",
      "Epoch 338/600:  56%|█████▋    | 338/600 [4:38:31<3:46:08, 51.79s/it, v_num=in_1, total_loss_train=535, kl_local_train=96.4, metric_mi|age_categorical_train=0.224]"
     ]
    },
    {
     "name": "stdout",
     "output_type": "stream",
     "text": [
      "\r\n",
      "Epoch 339/600:  56%|█████▋    | 338/600 [4:38:31<3:46:08, 51.79s/it, v_num=in_1, total_loss_train=535, kl_local_train=96.4, metric_mi|age_categorical_train=0.224]"
     ]
    },
    {
     "name": "stdout",
     "output_type": "stream",
     "text": [
      "\r\n",
      "Epoch 339/600:  56%|█████▋    | 339/600 [4:39:23<3:45:12, 51.77s/it, v_num=in_1, total_loss_train=535, kl_local_train=96.4, metric_mi|age_categorical_train=0.224]"
     ]
    },
    {
     "name": "stdout",
     "output_type": "stream",
     "text": [
      "\r\n",
      "Epoch 339/600:  56%|█████▋    | 339/600 [4:39:23<3:45:12, 51.77s/it, v_num=in_1, total_loss_train=535, kl_local_train=96.2, metric_mi|age_categorical_train=0.224]"
     ]
    },
    {
     "name": "stdout",
     "output_type": "stream",
     "text": [
      "\r\n",
      "Epoch 340/600:  56%|█████▋    | 339/600 [4:39:23<3:45:12, 51.77s/it, v_num=in_1, total_loss_train=535, kl_local_train=96.2, metric_mi|age_categorical_train=0.224]"
     ]
    },
    {
     "name": "stdout",
     "output_type": "stream",
     "text": [
      "\r\n",
      "Epoch 340/600:  57%|█████▋    | 340/600 [4:40:14<3:43:47, 51.64s/it, v_num=in_1, total_loss_train=535, kl_local_train=96.2, metric_mi|age_categorical_train=0.224]"
     ]
    },
    {
     "name": "stdout",
     "output_type": "stream",
     "text": [
      "\r\n",
      "Epoch 340/600:  57%|█████▋    | 340/600 [4:40:14<3:43:47, 51.64s/it, v_num=in_1, total_loss_train=535, kl_local_train=96.2, metric_mi|age_categorical_train=0.224]"
     ]
    },
    {
     "name": "stdout",
     "output_type": "stream",
     "text": [
      "\r\n",
      "Epoch 341/600:  57%|█████▋    | 340/600 [4:40:15<3:43:47, 51.64s/it, v_num=in_1, total_loss_train=535, kl_local_train=96.2, metric_mi|age_categorical_train=0.224]"
     ]
    },
    {
     "name": "stdout",
     "output_type": "stream",
     "text": [
      "\r\n",
      "Epoch 341/600:  57%|█████▋    | 341/600 [4:41:06<3:43:30, 51.78s/it, v_num=in_1, total_loss_train=535, kl_local_train=96.2, metric_mi|age_categorical_train=0.224]"
     ]
    },
    {
     "name": "stdout",
     "output_type": "stream",
     "text": [
      "\r\n",
      "Epoch 341/600:  57%|█████▋    | 341/600 [4:41:06<3:43:30, 51.78s/it, v_num=in_1, total_loss_train=535, kl_local_train=96.4, metric_mi|age_categorical_train=0.232]"
     ]
    },
    {
     "name": "stdout",
     "output_type": "stream",
     "text": [
      "\r\n",
      "Epoch 342/600:  57%|█████▋    | 341/600 [4:41:06<3:43:30, 51.78s/it, v_num=in_1, total_loss_train=535, kl_local_train=96.4, metric_mi|age_categorical_train=0.232]"
     ]
    },
    {
     "name": "stdout",
     "output_type": "stream",
     "text": [
      "\r\n",
      "Epoch 342/600:  57%|█████▋    | 342/600 [4:41:55<3:39:18, 51.00s/it, v_num=in_1, total_loss_train=535, kl_local_train=96.4, metric_mi|age_categorical_train=0.232]"
     ]
    },
    {
     "name": "stdout",
     "output_type": "stream",
     "text": [
      "\r\n",
      "Epoch 342/600:  57%|█████▋    | 342/600 [4:41:55<3:39:18, 51.00s/it, v_num=in_1, total_loss_train=535, kl_local_train=96.1, metric_mi|age_categorical_train=0.232]"
     ]
    },
    {
     "name": "stdout",
     "output_type": "stream",
     "text": [
      "\r\n",
      "Epoch 343/600:  57%|█████▋    | 342/600 [4:41:55<3:39:18, 51.00s/it, v_num=in_1, total_loss_train=535, kl_local_train=96.1, metric_mi|age_categorical_train=0.232]"
     ]
    },
    {
     "name": "stdout",
     "output_type": "stream",
     "text": [
      "\r\n",
      "Epoch 343/600:  57%|█████▋    | 343/600 [4:42:43<3:34:09, 50.00s/it, v_num=in_1, total_loss_train=535, kl_local_train=96.1, metric_mi|age_categorical_train=0.232]"
     ]
    },
    {
     "name": "stdout",
     "output_type": "stream",
     "text": [
      "\r\n",
      "Epoch 343/600:  57%|█████▋    | 343/600 [4:42:43<3:34:09, 50.00s/it, v_num=in_1, total_loss_train=535, kl_local_train=96.1, metric_mi|age_categorical_train=0.232]"
     ]
    },
    {
     "name": "stdout",
     "output_type": "stream",
     "text": [
      "\r\n",
      "Epoch 344/600:  57%|█████▋    | 343/600 [4:42:43<3:34:09, 50.00s/it, v_num=in_1, total_loss_train=535, kl_local_train=96.1, metric_mi|age_categorical_train=0.232]"
     ]
    },
    {
     "name": "stdout",
     "output_type": "stream",
     "text": [
      "\r\n",
      "Epoch 344/600:  57%|█████▋    | 344/600 [4:43:30<3:29:58, 49.21s/it, v_num=in_1, total_loss_train=535, kl_local_train=96.1, metric_mi|age_categorical_train=0.232]"
     ]
    },
    {
     "name": "stdout",
     "output_type": "stream",
     "text": [
      "\r\n",
      "Epoch 344/600:  57%|█████▋    | 344/600 [4:43:30<3:29:58, 49.21s/it, v_num=in_1, total_loss_train=535, kl_local_train=95.7, metric_mi|age_categorical_train=0.232]"
     ]
    },
    {
     "name": "stdout",
     "output_type": "stream",
     "text": [
      "\r\n",
      "Epoch 345/600:  57%|█████▋    | 344/600 [4:43:30<3:29:58, 49.21s/it, v_num=in_1, total_loss_train=535, kl_local_train=95.7, metric_mi|age_categorical_train=0.232]"
     ]
    },
    {
     "name": "stdout",
     "output_type": "stream",
     "text": [
      "\r\n",
      "Epoch 345/600:  57%|█████▊    | 345/600 [4:44:19<3:28:24, 49.04s/it, v_num=in_1, total_loss_train=535, kl_local_train=95.7, metric_mi|age_categorical_train=0.232]"
     ]
    },
    {
     "name": "stdout",
     "output_type": "stream",
     "text": [
      "\r\n",
      "Epoch 345/600:  57%|█████▊    | 345/600 [4:44:19<3:28:24, 49.04s/it, v_num=in_1, total_loss_train=536, kl_local_train=95.6, metric_mi|age_categorical_train=0.232]"
     ]
    },
    {
     "name": "stdout",
     "output_type": "stream",
     "text": [
      "\r\n",
      "Epoch 346/600:  57%|█████▊    | 345/600 [4:44:20<3:28:24, 49.04s/it, v_num=in_1, total_loss_train=536, kl_local_train=95.6, metric_mi|age_categorical_train=0.232]"
     ]
    },
    {
     "name": "stdout",
     "output_type": "stream",
     "text": [
      "\r\n",
      "Epoch 346/600:  58%|█████▊    | 346/600 [4:45:07<3:26:22, 48.75s/it, v_num=in_1, total_loss_train=536, kl_local_train=95.6, metric_mi|age_categorical_train=0.232]"
     ]
    },
    {
     "name": "stdout",
     "output_type": "stream",
     "text": [
      "\r\n",
      "Epoch 346/600:  58%|█████▊    | 346/600 [4:45:07<3:26:22, 48.75s/it, v_num=in_1, total_loss_train=535, kl_local_train=95.1, metric_mi|age_categorical_train=0.238]"
     ]
    },
    {
     "name": "stdout",
     "output_type": "stream",
     "text": [
      "\r\n",
      "Epoch 347/600:  58%|█████▊    | 346/600 [4:45:07<3:26:22, 48.75s/it, v_num=in_1, total_loss_train=535, kl_local_train=95.1, metric_mi|age_categorical_train=0.238]"
     ]
    },
    {
     "name": "stdout",
     "output_type": "stream",
     "text": [
      "\r\n",
      "Epoch 347/600:  58%|█████▊    | 347/600 [4:45:56<3:25:50, 48.82s/it, v_num=in_1, total_loss_train=535, kl_local_train=95.1, metric_mi|age_categorical_train=0.238]"
     ]
    },
    {
     "name": "stdout",
     "output_type": "stream",
     "text": [
      "\r\n",
      "Epoch 347/600:  58%|█████▊    | 347/600 [4:45:56<3:25:50, 48.82s/it, v_num=in_1, total_loss_train=536, kl_local_train=95.1, metric_mi|age_categorical_train=0.238]"
     ]
    },
    {
     "name": "stdout",
     "output_type": "stream",
     "text": [
      "\r\n",
      "Epoch 348/600:  58%|█████▊    | 347/600 [4:45:56<3:25:50, 48.82s/it, v_num=in_1, total_loss_train=536, kl_local_train=95.1, metric_mi|age_categorical_train=0.238]"
     ]
    },
    {
     "name": "stdout",
     "output_type": "stream",
     "text": [
      "\r\n",
      "Epoch 348/600:  58%|█████▊    | 348/600 [4:46:47<3:28:19, 49.60s/it, v_num=in_1, total_loss_train=536, kl_local_train=95.1, metric_mi|age_categorical_train=0.238]"
     ]
    },
    {
     "name": "stdout",
     "output_type": "stream",
     "text": [
      "\r\n",
      "Epoch 348/600:  58%|█████▊    | 348/600 [4:46:47<3:28:19, 49.60s/it, v_num=in_1, total_loss_train=536, kl_local_train=95.7, metric_mi|age_categorical_train=0.238]"
     ]
    },
    {
     "name": "stdout",
     "output_type": "stream",
     "text": [
      "\r\n",
      "Epoch 349/600:  58%|█████▊    | 348/600 [4:46:47<3:28:19, 49.60s/it, v_num=in_1, total_loss_train=536, kl_local_train=95.7, metric_mi|age_categorical_train=0.238]"
     ]
    },
    {
     "name": "stdout",
     "output_type": "stream",
     "text": [
      "\r\n",
      "Epoch 349/600:  58%|█████▊    | 349/600 [4:47:39<3:29:50, 50.16s/it, v_num=in_1, total_loss_train=536, kl_local_train=95.7, metric_mi|age_categorical_train=0.238]"
     ]
    },
    {
     "name": "stdout",
     "output_type": "stream",
     "text": [
      "\r\n",
      "Epoch 349/600:  58%|█████▊    | 349/600 [4:47:39<3:29:50, 50.16s/it, v_num=in_1, total_loss_train=536, kl_local_train=95.7, metric_mi|age_categorical_train=0.238]"
     ]
    },
    {
     "name": "stdout",
     "output_type": "stream",
     "text": [
      "\r\n",
      "Epoch 350/600:  58%|█████▊    | 349/600 [4:47:39<3:29:50, 50.16s/it, v_num=in_1, total_loss_train=536, kl_local_train=95.7, metric_mi|age_categorical_train=0.238]"
     ]
    },
    {
     "name": "stdout",
     "output_type": "stream",
     "text": [
      "\r\n",
      "Epoch 350/600:  58%|█████▊    | 350/600 [4:48:33<3:33:30, 51.24s/it, v_num=in_1, total_loss_train=536, kl_local_train=95.7, metric_mi|age_categorical_train=0.238]"
     ]
    },
    {
     "name": "stdout",
     "output_type": "stream",
     "text": [
      "\r\n",
      "Epoch 350/600:  58%|█████▊    | 350/600 [4:48:33<3:33:30, 51.24s/it, v_num=in_1, total_loss_train=536, kl_local_train=95.1, metric_mi|age_categorical_train=0.238]"
     ]
    },
    {
     "name": "stdout",
     "output_type": "stream",
     "text": [
      "\r\n",
      "Epoch 351/600:  58%|█████▊    | 350/600 [4:48:34<3:33:30, 51.24s/it, v_num=in_1, total_loss_train=536, kl_local_train=95.1, metric_mi|age_categorical_train=0.238]"
     ]
    },
    {
     "name": "stdout",
     "output_type": "stream",
     "text": [
      "\r\n",
      "Epoch 351/600:  58%|█████▊    | 351/600 [4:49:26<3:34:40, 51.73s/it, v_num=in_1, total_loss_train=536, kl_local_train=95.1, metric_mi|age_categorical_train=0.238]"
     ]
    },
    {
     "name": "stdout",
     "output_type": "stream",
     "text": [
      "\r\n",
      "Epoch 351/600:  58%|█████▊    | 351/600 [4:49:26<3:34:40, 51.73s/it, v_num=in_1, total_loss_train=537, kl_local_train=95.1, metric_mi|age_categorical_train=0.242]"
     ]
    },
    {
     "name": "stdout",
     "output_type": "stream",
     "text": [
      "\r\n",
      "Epoch 352/600:  58%|█████▊    | 351/600 [4:49:26<3:34:40, 51.73s/it, v_num=in_1, total_loss_train=537, kl_local_train=95.1, metric_mi|age_categorical_train=0.242]"
     ]
    },
    {
     "name": "stdout",
     "output_type": "stream",
     "text": [
      "\r\n",
      "Epoch 352/600:  59%|█████▊    | 352/600 [4:50:17<3:33:37, 51.68s/it, v_num=in_1, total_loss_train=537, kl_local_train=95.1, metric_mi|age_categorical_train=0.242]"
     ]
    },
    {
     "name": "stdout",
     "output_type": "stream",
     "text": [
      "\r\n",
      "Epoch 352/600:  59%|█████▊    | 352/600 [4:50:17<3:33:37, 51.68s/it, v_num=in_1, total_loss_train=536, kl_local_train=94.9, metric_mi|age_categorical_train=0.242]"
     ]
    },
    {
     "name": "stdout",
     "output_type": "stream",
     "text": [
      "\r\n",
      "Epoch 353/600:  59%|█████▊    | 352/600 [4:50:17<3:33:37, 51.68s/it, v_num=in_1, total_loss_train=536, kl_local_train=94.9, metric_mi|age_categorical_train=0.242]"
     ]
    },
    {
     "name": "stdout",
     "output_type": "stream",
     "text": [
      "\r\n",
      "Epoch 353/600:  59%|█████▉    | 353/600 [4:51:09<3:32:51, 51.71s/it, v_num=in_1, total_loss_train=536, kl_local_train=94.9, metric_mi|age_categorical_train=0.242]"
     ]
    },
    {
     "name": "stdout",
     "output_type": "stream",
     "text": [
      "\r\n",
      "Epoch 353/600:  59%|█████▉    | 353/600 [4:51:09<3:32:51, 51.71s/it, v_num=in_1, total_loss_train=537, kl_local_train=95.3, metric_mi|age_categorical_train=0.242]"
     ]
    },
    {
     "name": "stdout",
     "output_type": "stream",
     "text": [
      "\r\n",
      "Epoch 354/600:  59%|█████▉    | 353/600 [4:51:09<3:32:51, 51.71s/it, v_num=in_1, total_loss_train=537, kl_local_train=95.3, metric_mi|age_categorical_train=0.242]"
     ]
    },
    {
     "name": "stdout",
     "output_type": "stream",
     "text": [
      "\r\n",
      "Epoch 354/600:  59%|█████▉    | 354/600 [4:52:01<3:31:53, 51.68s/it, v_num=in_1, total_loss_train=537, kl_local_train=95.3, metric_mi|age_categorical_train=0.242]"
     ]
    },
    {
     "name": "stdout",
     "output_type": "stream",
     "text": [
      "\r\n",
      "Epoch 354/600:  59%|█████▉    | 354/600 [4:52:01<3:31:53, 51.68s/it, v_num=in_1, total_loss_train=537, kl_local_train=95, metric_mi|age_categorical_train=0.242]  "
     ]
    },
    {
     "name": "stdout",
     "output_type": "stream",
     "text": [
      "\r\n",
      "Epoch 355/600:  59%|█████▉    | 354/600 [4:52:01<3:31:53, 51.68s/it, v_num=in_1, total_loss_train=537, kl_local_train=95, metric_mi|age_categorical_train=0.242]"
     ]
    },
    {
     "name": "stdout",
     "output_type": "stream",
     "text": [
      "\r\n",
      "Epoch 355/600:  59%|█████▉    | 355/600 [4:52:52<3:31:07, 51.70s/it, v_num=in_1, total_loss_train=537, kl_local_train=95, metric_mi|age_categorical_train=0.242]"
     ]
    },
    {
     "name": "stdout",
     "output_type": "stream",
     "text": [
      "\r\n",
      "Epoch 355/600:  59%|█████▉    | 355/600 [4:52:52<3:31:07, 51.70s/it, v_num=in_1, total_loss_train=536, kl_local_train=94.2, metric_mi|age_categorical_train=0.242]"
     ]
    },
    {
     "name": "stdout",
     "output_type": "stream",
     "text": [
      "\r\n",
      "Epoch 356/600:  59%|█████▉    | 355/600 [4:52:53<3:31:07, 51.70s/it, v_num=in_1, total_loss_train=536, kl_local_train=94.2, metric_mi|age_categorical_train=0.242]"
     ]
    },
    {
     "name": "stdout",
     "output_type": "stream",
     "text": [
      "\r\n",
      "Epoch 356/600:  59%|█████▉    | 356/600 [4:53:45<3:31:57, 52.12s/it, v_num=in_1, total_loss_train=536, kl_local_train=94.2, metric_mi|age_categorical_train=0.242]"
     ]
    },
    {
     "name": "stdout",
     "output_type": "stream",
     "text": [
      "\r\n",
      "Epoch 356/600:  59%|█████▉    | 356/600 [4:53:45<3:31:57, 52.12s/it, v_num=in_1, total_loss_train=537, kl_local_train=94.6, metric_mi|age_categorical_train=0.235]"
     ]
    },
    {
     "name": "stdout",
     "output_type": "stream",
     "text": [
      "\r\n",
      "Epoch 357/600:  59%|█████▉    | 356/600 [4:53:45<3:31:57, 52.12s/it, v_num=in_1, total_loss_train=537, kl_local_train=94.6, metric_mi|age_categorical_train=0.235]"
     ]
    },
    {
     "name": "stdout",
     "output_type": "stream",
     "text": [
      "\r\n",
      "Epoch 357/600:  60%|█████▉    | 357/600 [4:54:37<3:30:35, 52.00s/it, v_num=in_1, total_loss_train=537, kl_local_train=94.6, metric_mi|age_categorical_train=0.235]"
     ]
    },
    {
     "name": "stdout",
     "output_type": "stream",
     "text": [
      "\r\n",
      "Epoch 357/600:  60%|█████▉    | 357/600 [4:54:37<3:30:35, 52.00s/it, v_num=in_1, total_loss_train=537, kl_local_train=94.1, metric_mi|age_categorical_train=0.235]"
     ]
    },
    {
     "name": "stdout",
     "output_type": "stream",
     "text": [
      "\r\n",
      "Epoch 358/600:  60%|█████▉    | 357/600 [4:54:37<3:30:35, 52.00s/it, v_num=in_1, total_loss_train=537, kl_local_train=94.1, metric_mi|age_categorical_train=0.235]"
     ]
    },
    {
     "name": "stdout",
     "output_type": "stream",
     "text": [
      "\r\n",
      "Epoch 358/600:  60%|█████▉    | 358/600 [4:55:29<3:29:35, 51.96s/it, v_num=in_1, total_loss_train=537, kl_local_train=94.1, metric_mi|age_categorical_train=0.235]"
     ]
    },
    {
     "name": "stdout",
     "output_type": "stream",
     "text": [
      "\r\n",
      "Epoch 358/600:  60%|█████▉    | 358/600 [4:55:29<3:29:35, 51.96s/it, v_num=in_1, total_loss_train=537, kl_local_train=93.7, metric_mi|age_categorical_train=0.235]"
     ]
    },
    {
     "name": "stdout",
     "output_type": "stream",
     "text": [
      "\r\n",
      "Epoch 359/600:  60%|█████▉    | 358/600 [4:55:29<3:29:35, 51.96s/it, v_num=in_1, total_loss_train=537, kl_local_train=93.7, metric_mi|age_categorical_train=0.235]"
     ]
    },
    {
     "name": "stdout",
     "output_type": "stream",
     "text": [
      "\r\n",
      "Epoch 359/600:  60%|█████▉    | 359/600 [4:56:21<3:28:22, 51.88s/it, v_num=in_1, total_loss_train=537, kl_local_train=93.7, metric_mi|age_categorical_train=0.235]"
     ]
    },
    {
     "name": "stdout",
     "output_type": "stream",
     "text": [
      "\r\n",
      "Epoch 359/600:  60%|█████▉    | 359/600 [4:56:21<3:28:22, 51.88s/it, v_num=in_1, total_loss_train=537, kl_local_train=94.3, metric_mi|age_categorical_train=0.235]"
     ]
    },
    {
     "name": "stdout",
     "output_type": "stream",
     "text": [
      "\r\n",
      "Epoch 360/600:  60%|█████▉    | 359/600 [4:56:21<3:28:22, 51.88s/it, v_num=in_1, total_loss_train=537, kl_local_train=94.3, metric_mi|age_categorical_train=0.235]"
     ]
    },
    {
     "name": "stdout",
     "output_type": "stream",
     "text": [
      "\r\n",
      "Epoch 360/600:  60%|██████    | 360/600 [4:57:14<3:29:46, 52.44s/it, v_num=in_1, total_loss_train=537, kl_local_train=94.3, metric_mi|age_categorical_train=0.235]"
     ]
    },
    {
     "name": "stdout",
     "output_type": "stream",
     "text": [
      "\r\n",
      "Epoch 360/600:  60%|██████    | 360/600 [4:57:14<3:29:46, 52.44s/it, v_num=in_1, total_loss_train=537, kl_local_train=94.2, metric_mi|age_categorical_train=0.235]"
     ]
    },
    {
     "name": "stdout",
     "output_type": "stream",
     "text": [
      "\r\n",
      "Epoch 361/600:  60%|██████    | 360/600 [4:57:15<3:29:46, 52.44s/it, v_num=in_1, total_loss_train=537, kl_local_train=94.2, metric_mi|age_categorical_train=0.235]"
     ]
    },
    {
     "name": "stdout",
     "output_type": "stream",
     "text": [
      "\r\n",
      "Epoch 361/600:  60%|██████    | 361/600 [4:58:07<3:29:25, 52.58s/it, v_num=in_1, total_loss_train=537, kl_local_train=94.2, metric_mi|age_categorical_train=0.235]"
     ]
    },
    {
     "name": "stdout",
     "output_type": "stream",
     "text": [
      "\r\n",
      "Epoch 361/600:  60%|██████    | 361/600 [4:58:07<3:29:25, 52.58s/it, v_num=in_1, total_loss_train=538, kl_local_train=94.1, metric_mi|age_categorical_train=0.235]"
     ]
    },
    {
     "name": "stdout",
     "output_type": "stream",
     "text": [
      "\r\n",
      "Epoch 362/600:  60%|██████    | 361/600 [4:58:07<3:29:25, 52.58s/it, v_num=in_1, total_loss_train=538, kl_local_train=94.1, metric_mi|age_categorical_train=0.235]"
     ]
    },
    {
     "name": "stdout",
     "output_type": "stream",
     "text": [
      "\r\n",
      "Epoch 362/600:  60%|██████    | 362/600 [4:58:59<3:27:34, 52.33s/it, v_num=in_1, total_loss_train=538, kl_local_train=94.1, metric_mi|age_categorical_train=0.235]"
     ]
    },
    {
     "name": "stdout",
     "output_type": "stream",
     "text": [
      "\r\n",
      "Epoch 362/600:  60%|██████    | 362/600 [4:58:59<3:27:34, 52.33s/it, v_num=in_1, total_loss_train=538, kl_local_train=93.7, metric_mi|age_categorical_train=0.235]"
     ]
    },
    {
     "name": "stdout",
     "output_type": "stream",
     "text": [
      "\r\n",
      "Epoch 363/600:  60%|██████    | 362/600 [4:58:59<3:27:34, 52.33s/it, v_num=in_1, total_loss_train=538, kl_local_train=93.7, metric_mi|age_categorical_train=0.235]"
     ]
    },
    {
     "name": "stdout",
     "output_type": "stream",
     "text": [
      "\r\n",
      "Epoch 363/600:  60%|██████    | 363/600 [4:59:51<3:26:07, 52.19s/it, v_num=in_1, total_loss_train=538, kl_local_train=93.7, metric_mi|age_categorical_train=0.235]"
     ]
    },
    {
     "name": "stdout",
     "output_type": "stream",
     "text": [
      "\r\n",
      "Epoch 363/600:  60%|██████    | 363/600 [4:59:51<3:26:07, 52.19s/it, v_num=in_1, total_loss_train=537, kl_local_train=93.8, metric_mi|age_categorical_train=0.235]"
     ]
    },
    {
     "name": "stdout",
     "output_type": "stream",
     "text": [
      "\r\n",
      "Epoch 364/600:  60%|██████    | 363/600 [4:59:51<3:26:07, 52.19s/it, v_num=in_1, total_loss_train=537, kl_local_train=93.8, metric_mi|age_categorical_train=0.235]"
     ]
    },
    {
     "name": "stdout",
     "output_type": "stream",
     "text": [
      "\r\n",
      "Epoch 364/600:  61%|██████    | 364/600 [5:00:43<3:24:46, 52.06s/it, v_num=in_1, total_loss_train=537, kl_local_train=93.8, metric_mi|age_categorical_train=0.235]"
     ]
    },
    {
     "name": "stdout",
     "output_type": "stream",
     "text": [
      "\r\n",
      "Epoch 364/600:  61%|██████    | 364/600 [5:00:43<3:24:46, 52.06s/it, v_num=in_1, total_loss_train=538, kl_local_train=93.3, metric_mi|age_categorical_train=0.235]"
     ]
    },
    {
     "name": "stdout",
     "output_type": "stream",
     "text": [
      "\r\n",
      "Epoch 365/600:  61%|██████    | 364/600 [5:00:43<3:24:46, 52.06s/it, v_num=in_1, total_loss_train=538, kl_local_train=93.3, metric_mi|age_categorical_train=0.235]"
     ]
    },
    {
     "name": "stdout",
     "output_type": "stream",
     "text": [
      "\r\n",
      "Epoch 365/600:  61%|██████    | 365/600 [5:01:37<3:26:07, 52.63s/it, v_num=in_1, total_loss_train=538, kl_local_train=93.3, metric_mi|age_categorical_train=0.235]"
     ]
    },
    {
     "name": "stdout",
     "output_type": "stream",
     "text": [
      "\r\n",
      "Epoch 365/600:  61%|██████    | 365/600 [5:01:37<3:26:07, 52.63s/it, v_num=in_1, total_loss_train=538, kl_local_train=93.1, metric_mi|age_categorical_train=0.235]"
     ]
    },
    {
     "name": "stdout",
     "output_type": "stream",
     "text": [
      "\r\n",
      "Epoch 366/600:  61%|██████    | 365/600 [5:01:38<3:26:07, 52.63s/it, v_num=in_1, total_loss_train=538, kl_local_train=93.1, metric_mi|age_categorical_train=0.235]"
     ]
    },
    {
     "name": "stdout",
     "output_type": "stream",
     "text": [
      "\r\n",
      "Epoch 366/600:  61%|██████    | 366/600 [5:02:30<3:26:10, 52.86s/it, v_num=in_1, total_loss_train=538, kl_local_train=93.1, metric_mi|age_categorical_train=0.235]"
     ]
    },
    {
     "name": "stdout",
     "output_type": "stream",
     "text": [
      "\r\n",
      "Epoch 366/600:  61%|██████    | 366/600 [5:02:30<3:26:10, 52.86s/it, v_num=in_1, total_loss_train=538, kl_local_train=93.1, metric_mi|age_categorical_train=0.221]"
     ]
    },
    {
     "name": "stdout",
     "output_type": "stream",
     "text": [
      "\r\n",
      "Epoch 367/600:  61%|██████    | 366/600 [5:02:30<3:26:10, 52.86s/it, v_num=in_1, total_loss_train=538, kl_local_train=93.1, metric_mi|age_categorical_train=0.221]"
     ]
    },
    {
     "name": "stdout",
     "output_type": "stream",
     "text": [
      "\r\n",
      "Epoch 367/600:  61%|██████    | 367/600 [5:03:22<3:24:28, 52.65s/it, v_num=in_1, total_loss_train=538, kl_local_train=93.1, metric_mi|age_categorical_train=0.221]"
     ]
    },
    {
     "name": "stdout",
     "output_type": "stream",
     "text": [
      "\r\n",
      "Epoch 367/600:  61%|██████    | 367/600 [5:03:22<3:24:28, 52.65s/it, v_num=in_1, total_loss_train=538, kl_local_train=92.7, metric_mi|age_categorical_train=0.221]"
     ]
    },
    {
     "name": "stdout",
     "output_type": "stream",
     "text": [
      "\r\n",
      "Epoch 368/600:  61%|██████    | 367/600 [5:03:22<3:24:28, 52.65s/it, v_num=in_1, total_loss_train=538, kl_local_train=92.7, metric_mi|age_categorical_train=0.221]"
     ]
    },
    {
     "name": "stdout",
     "output_type": "stream",
     "text": [
      "\r\n",
      "Epoch 368/600:  61%|██████▏   | 368/600 [5:04:14<3:23:07, 52.53s/it, v_num=in_1, total_loss_train=538, kl_local_train=92.7, metric_mi|age_categorical_train=0.221]"
     ]
    },
    {
     "name": "stdout",
     "output_type": "stream",
     "text": [
      "\r\n",
      "Epoch 368/600:  61%|██████▏   | 368/600 [5:04:14<3:23:07, 52.53s/it, v_num=in_1, total_loss_train=538, kl_local_train=92.4, metric_mi|age_categorical_train=0.221]"
     ]
    },
    {
     "name": "stdout",
     "output_type": "stream",
     "text": [
      "\r\n",
      "Epoch 369/600:  61%|██████▏   | 368/600 [5:04:14<3:23:07, 52.53s/it, v_num=in_1, total_loss_train=538, kl_local_train=92.4, metric_mi|age_categorical_train=0.221]"
     ]
    },
    {
     "name": "stdout",
     "output_type": "stream",
     "text": [
      "\r\n",
      "Epoch 369/600:  62%|██████▏   | 369/600 [5:05:07<3:21:52, 52.44s/it, v_num=in_1, total_loss_train=538, kl_local_train=92.4, metric_mi|age_categorical_train=0.221]"
     ]
    },
    {
     "name": "stdout",
     "output_type": "stream",
     "text": [
      "\r\n",
      "Epoch 369/600:  62%|██████▏   | 369/600 [5:05:07<3:21:52, 52.44s/it, v_num=in_1, total_loss_train=538, kl_local_train=92.6, metric_mi|age_categorical_train=0.221]"
     ]
    },
    {
     "name": "stdout",
     "output_type": "stream",
     "text": [
      "\r\n",
      "Epoch 370/600:  62%|██████▏   | 369/600 [5:05:07<3:21:52, 52.44s/it, v_num=in_1, total_loss_train=538, kl_local_train=92.6, metric_mi|age_categorical_train=0.221]"
     ]
    },
    {
     "name": "stdout",
     "output_type": "stream",
     "text": [
      "\r\n",
      "Epoch 370/600:  62%|██████▏   | 370/600 [5:05:59<3:20:25, 52.28s/it, v_num=in_1, total_loss_train=538, kl_local_train=92.6, metric_mi|age_categorical_train=0.221]"
     ]
    },
    {
     "name": "stdout",
     "output_type": "stream",
     "text": [
      "\r\n",
      "Epoch 370/600:  62%|██████▏   | 370/600 [5:05:59<3:20:25, 52.28s/it, v_num=in_1, total_loss_train=538, kl_local_train=92.5, metric_mi|age_categorical_train=0.221]"
     ]
    },
    {
     "name": "stdout",
     "output_type": "stream",
     "text": [
      "\r\n",
      "Epoch 371/600:  62%|██████▏   | 370/600 [5:06:00<3:20:25, 52.28s/it, v_num=in_1, total_loss_train=538, kl_local_train=92.5, metric_mi|age_categorical_train=0.221]"
     ]
    },
    {
     "name": "stdout",
     "output_type": "stream",
     "text": [
      "\r\n",
      "Epoch 371/600:  62%|██████▏   | 371/600 [5:06:52<3:20:50, 52.62s/it, v_num=in_1, total_loss_train=538, kl_local_train=92.5, metric_mi|age_categorical_train=0.221]"
     ]
    },
    {
     "name": "stdout",
     "output_type": "stream",
     "text": [
      "\r\n",
      "Epoch 371/600:  62%|██████▏   | 371/600 [5:06:52<3:20:50, 52.62s/it, v_num=in_1, total_loss_train=538, kl_local_train=92.6, metric_mi|age_categorical_train=0.22] "
     ]
    },
    {
     "name": "stdout",
     "output_type": "stream",
     "text": [
      "\r\n",
      "Epoch 372/600:  62%|██████▏   | 371/600 [5:06:52<3:20:50, 52.62s/it, v_num=in_1, total_loss_train=538, kl_local_train=92.6, metric_mi|age_categorical_train=0.22]"
     ]
    },
    {
     "name": "stdout",
     "output_type": "stream",
     "text": [
      "\r\n",
      "Epoch 372/600:  62%|██████▏   | 372/600 [5:07:44<3:19:20, 52.46s/it, v_num=in_1, total_loss_train=538, kl_local_train=92.6, metric_mi|age_categorical_train=0.22]"
     ]
    },
    {
     "name": "stdout",
     "output_type": "stream",
     "text": [
      "\r\n",
      "Epoch 372/600:  62%|██████▏   | 372/600 [5:07:44<3:19:20, 52.46s/it, v_num=in_1, total_loss_train=539, kl_local_train=92.5, metric_mi|age_categorical_train=0.22]"
     ]
    },
    {
     "name": "stdout",
     "output_type": "stream",
     "text": [
      "\r\n",
      "Epoch 373/600:  62%|██████▏   | 372/600 [5:07:44<3:19:20, 52.46s/it, v_num=in_1, total_loss_train=539, kl_local_train=92.5, metric_mi|age_categorical_train=0.22]"
     ]
    },
    {
     "name": "stdout",
     "output_type": "stream",
     "text": [
      "\r\n",
      "Epoch 373/600:  62%|██████▏   | 373/600 [5:08:36<3:17:57, 52.32s/it, v_num=in_1, total_loss_train=539, kl_local_train=92.5, metric_mi|age_categorical_train=0.22]"
     ]
    },
    {
     "name": "stdout",
     "output_type": "stream",
     "text": [
      "\r\n",
      "Epoch 373/600:  62%|██████▏   | 373/600 [5:08:36<3:17:57, 52.32s/it, v_num=in_1, total_loss_train=538, kl_local_train=92.6, metric_mi|age_categorical_train=0.22]"
     ]
    },
    {
     "name": "stdout",
     "output_type": "stream",
     "text": [
      "\r\n",
      "Epoch 374/600:  62%|██████▏   | 373/600 [5:08:36<3:17:57, 52.32s/it, v_num=in_1, total_loss_train=538, kl_local_train=92.6, metric_mi|age_categorical_train=0.22]"
     ]
    },
    {
     "name": "stdout",
     "output_type": "stream",
     "text": [
      "\r\n",
      "Epoch 374/600:  62%|██████▏   | 374/600 [5:09:28<3:16:54, 52.28s/it, v_num=in_1, total_loss_train=538, kl_local_train=92.6, metric_mi|age_categorical_train=0.22]"
     ]
    },
    {
     "name": "stdout",
     "output_type": "stream",
     "text": [
      "\r\n",
      "Epoch 374/600:  62%|██████▏   | 374/600 [5:09:28<3:16:54, 52.28s/it, v_num=in_1, total_loss_train=539, kl_local_train=92.1, metric_mi|age_categorical_train=0.22]"
     ]
    },
    {
     "name": "stdout",
     "output_type": "stream",
     "text": [
      "\r\n",
      "Epoch 375/600:  62%|██████▏   | 374/600 [5:09:28<3:16:54, 52.28s/it, v_num=in_1, total_loss_train=539, kl_local_train=92.1, metric_mi|age_categorical_train=0.22]"
     ]
    },
    {
     "name": "stdout",
     "output_type": "stream",
     "text": [
      "\r\n",
      "Epoch 375/600:  62%|██████▎   | 375/600 [5:10:22<3:17:29, 52.67s/it, v_num=in_1, total_loss_train=539, kl_local_train=92.1, metric_mi|age_categorical_train=0.22]"
     ]
    },
    {
     "name": "stdout",
     "output_type": "stream",
     "text": [
      "\r\n",
      "Epoch 375/600:  62%|██████▎   | 375/600 [5:10:22<3:17:29, 52.67s/it, v_num=in_1, total_loss_train=539, kl_local_train=91.9, metric_mi|age_categorical_train=0.22]"
     ]
    },
    {
     "name": "stdout",
     "output_type": "stream",
     "text": [
      "\r\n",
      "Epoch 376/600:  62%|██████▎   | 375/600 [5:10:23<3:17:29, 52.67s/it, v_num=in_1, total_loss_train=539, kl_local_train=91.9, metric_mi|age_categorical_train=0.22]"
     ]
    },
    {
     "name": "stdout",
     "output_type": "stream",
     "text": [
      "\r\n",
      "Epoch 376/600:  63%|██████▎   | 376/600 [5:11:15<3:16:47, 52.71s/it, v_num=in_1, total_loss_train=539, kl_local_train=91.9, metric_mi|age_categorical_train=0.22]"
     ]
    },
    {
     "name": "stdout",
     "output_type": "stream",
     "text": [
      "\r\n",
      "Epoch 376/600:  63%|██████▎   | 376/600 [5:11:15<3:16:47, 52.71s/it, v_num=in_1, total_loss_train=539, kl_local_train=92.4, metric_mi|age_categorical_train=0.224]"
     ]
    },
    {
     "name": "stdout",
     "output_type": "stream",
     "text": [
      "\r\n",
      "Epoch 377/600:  63%|██████▎   | 376/600 [5:11:15<3:16:47, 52.71s/it, v_num=in_1, total_loss_train=539, kl_local_train=92.4, metric_mi|age_categorical_train=0.224]"
     ]
    },
    {
     "name": "stdout",
     "output_type": "stream",
     "text": [
      "\r\n",
      "Epoch 377/600:  63%|██████▎   | 377/600 [5:12:07<3:15:23, 52.57s/it, v_num=in_1, total_loss_train=539, kl_local_train=92.4, metric_mi|age_categorical_train=0.224]"
     ]
    },
    {
     "name": "stdout",
     "output_type": "stream",
     "text": [
      "\r\n",
      "Epoch 377/600:  63%|██████▎   | 377/600 [5:12:07<3:15:23, 52.57s/it, v_num=in_1, total_loss_train=539, kl_local_train=91.4, metric_mi|age_categorical_train=0.224]"
     ]
    },
    {
     "name": "stdout",
     "output_type": "stream",
     "text": [
      "\r\n",
      "Epoch 378/600:  63%|██████▎   | 377/600 [5:12:07<3:15:23, 52.57s/it, v_num=in_1, total_loss_train=539, kl_local_train=91.4, metric_mi|age_categorical_train=0.224]"
     ]
    },
    {
     "name": "stdout",
     "output_type": "stream",
     "text": [
      "\r\n",
      "Epoch 378/600:  63%|██████▎   | 378/600 [5:12:59<3:13:55, 52.41s/it, v_num=in_1, total_loss_train=539, kl_local_train=91.4, metric_mi|age_categorical_train=0.224]"
     ]
    },
    {
     "name": "stdout",
     "output_type": "stream",
     "text": [
      "\r\n",
      "Epoch 378/600:  63%|██████▎   | 378/600 [5:12:59<3:13:55, 52.41s/it, v_num=in_1, total_loss_train=539, kl_local_train=91.3, metric_mi|age_categorical_train=0.224]"
     ]
    },
    {
     "name": "stdout",
     "output_type": "stream",
     "text": [
      "\r\n",
      "Epoch 379/600:  63%|██████▎   | 378/600 [5:12:59<3:13:55, 52.41s/it, v_num=in_1, total_loss_train=539, kl_local_train=91.3, metric_mi|age_categorical_train=0.224]"
     ]
    },
    {
     "name": "stdout",
     "output_type": "stream",
     "text": [
      "\r\n",
      "Epoch 379/600:  63%|██████▎   | 379/600 [5:13:51<3:12:28, 52.26s/it, v_num=in_1, total_loss_train=539, kl_local_train=91.3, metric_mi|age_categorical_train=0.224]"
     ]
    },
    {
     "name": "stdout",
     "output_type": "stream",
     "text": [
      "\r\n",
      "Epoch 379/600:  63%|██████▎   | 379/600 [5:13:51<3:12:28, 52.26s/it, v_num=in_1, total_loss_train=539, kl_local_train=91.4, metric_mi|age_categorical_train=0.224]"
     ]
    },
    {
     "name": "stdout",
     "output_type": "stream",
     "text": [
      "\r\n",
      "Epoch 380/600:  63%|██████▎   | 379/600 [5:13:51<3:12:28, 52.26s/it, v_num=in_1, total_loss_train=539, kl_local_train=91.4, metric_mi|age_categorical_train=0.224]"
     ]
    },
    {
     "name": "stdout",
     "output_type": "stream",
     "text": [
      "\r\n",
      "Epoch 380/600:  63%|██████▎   | 380/600 [5:14:42<3:10:38, 51.99s/it, v_num=in_1, total_loss_train=539, kl_local_train=91.4, metric_mi|age_categorical_train=0.224]"
     ]
    },
    {
     "name": "stdout",
     "output_type": "stream",
     "text": [
      "\r\n",
      "Epoch 380/600:  63%|██████▎   | 380/600 [5:14:42<3:10:38, 51.99s/it, v_num=in_1, total_loss_train=539, kl_local_train=91.2, metric_mi|age_categorical_train=0.224]"
     ]
    },
    {
     "name": "stdout",
     "output_type": "stream",
     "text": [
      "\r\n",
      "Epoch 381/600:  63%|██████▎   | 380/600 [5:14:43<3:10:38, 51.99s/it, v_num=in_1, total_loss_train=539, kl_local_train=91.2, metric_mi|age_categorical_train=0.224]"
     ]
    },
    {
     "name": "stdout",
     "output_type": "stream",
     "text": [
      "\r\n",
      "Epoch 381/600:  64%|██████▎   | 381/600 [5:15:35<3:10:18, 52.14s/it, v_num=in_1, total_loss_train=539, kl_local_train=91.2, metric_mi|age_categorical_train=0.224]"
     ]
    },
    {
     "name": "stdout",
     "output_type": "stream",
     "text": [
      "\r\n",
      "Epoch 381/600:  64%|██████▎   | 381/600 [5:15:35<3:10:18, 52.14s/it, v_num=in_1, total_loss_train=539, kl_local_train=91.1, metric_mi|age_categorical_train=0.227]"
     ]
    },
    {
     "name": "stdout",
     "output_type": "stream",
     "text": [
      "\r\n",
      "Epoch 382/600:  64%|██████▎   | 381/600 [5:15:35<3:10:18, 52.14s/it, v_num=in_1, total_loss_train=539, kl_local_train=91.1, metric_mi|age_categorical_train=0.227]"
     ]
    },
    {
     "name": "stdout",
     "output_type": "stream",
     "text": [
      "\r\n",
      "Epoch 382/600:  64%|██████▎   | 382/600 [5:16:26<3:08:50, 51.97s/it, v_num=in_1, total_loss_train=539, kl_local_train=91.1, metric_mi|age_categorical_train=0.227]"
     ]
    },
    {
     "name": "stdout",
     "output_type": "stream",
     "text": [
      "\r\n",
      "Epoch 382/600:  64%|██████▎   | 382/600 [5:16:26<3:08:50, 51.97s/it, v_num=in_1, total_loss_train=539, kl_local_train=90.6, metric_mi|age_categorical_train=0.227]"
     ]
    },
    {
     "name": "stdout",
     "output_type": "stream",
     "text": [
      "\r\n",
      "Epoch 383/600:  64%|██████▎   | 382/600 [5:16:26<3:08:50, 51.97s/it, v_num=in_1, total_loss_train=539, kl_local_train=90.6, metric_mi|age_categorical_train=0.227]"
     ]
    },
    {
     "name": "stdout",
     "output_type": "stream",
     "text": [
      "\r\n",
      "Epoch 383/600:  64%|██████▍   | 383/600 [5:17:18<3:07:39, 51.89s/it, v_num=in_1, total_loss_train=539, kl_local_train=90.6, metric_mi|age_categorical_train=0.227]"
     ]
    },
    {
     "name": "stdout",
     "output_type": "stream",
     "text": [
      "\r\n",
      "Epoch 383/600:  64%|██████▍   | 383/600 [5:17:18<3:07:39, 51.89s/it, v_num=in_1, total_loss_train=539, kl_local_train=90.9, metric_mi|age_categorical_train=0.227]"
     ]
    },
    {
     "name": "stdout",
     "output_type": "stream",
     "text": [
      "\r\n",
      "Epoch 384/600:  64%|██████▍   | 383/600 [5:17:18<3:07:39, 51.89s/it, v_num=in_1, total_loss_train=539, kl_local_train=90.9, metric_mi|age_categorical_train=0.227]"
     ]
    },
    {
     "name": "stdout",
     "output_type": "stream",
     "text": [
      "\r\n",
      "Epoch 384/600:  64%|██████▍   | 384/600 [5:18:05<3:01:04, 50.30s/it, v_num=in_1, total_loss_train=539, kl_local_train=90.9, metric_mi|age_categorical_train=0.227]"
     ]
    },
    {
     "name": "stdout",
     "output_type": "stream",
     "text": [
      "\r\n",
      "Epoch 384/600:  64%|██████▍   | 384/600 [5:18:05<3:01:04, 50.30s/it, v_num=in_1, total_loss_train=540, kl_local_train=90.6, metric_mi|age_categorical_train=0.227]"
     ]
    },
    {
     "name": "stdout",
     "output_type": "stream",
     "text": [
      "\r\n",
      "Epoch 385/600:  64%|██████▍   | 384/600 [5:18:05<3:01:04, 50.30s/it, v_num=in_1, total_loss_train=540, kl_local_train=90.6, metric_mi|age_categorical_train=0.227]"
     ]
    },
    {
     "name": "stdout",
     "output_type": "stream",
     "text": [
      "\r\n",
      "Epoch 385/600:  64%|██████▍   | 385/600 [5:18:51<2:56:25, 49.24s/it, v_num=in_1, total_loss_train=540, kl_local_train=90.6, metric_mi|age_categorical_train=0.227]"
     ]
    },
    {
     "name": "stdout",
     "output_type": "stream",
     "text": [
      "\r\n",
      "Epoch 385/600:  64%|██████▍   | 385/600 [5:18:51<2:56:25, 49.24s/it, v_num=in_1, total_loss_train=540, kl_local_train=90.4, metric_mi|age_categorical_train=0.227]"
     ]
    },
    {
     "name": "stdout",
     "output_type": "stream",
     "text": [
      "\r\n",
      "Epoch 386/600:  64%|██████▍   | 385/600 [5:18:52<2:56:25, 49.24s/it, v_num=in_1, total_loss_train=540, kl_local_train=90.4, metric_mi|age_categorical_train=0.227]"
     ]
    },
    {
     "name": "stdout",
     "output_type": "stream",
     "text": [
      "\r\n",
      "Epoch 386/600:  64%|██████▍   | 386/600 [5:19:39<2:53:38, 48.68s/it, v_num=in_1, total_loss_train=540, kl_local_train=90.4, metric_mi|age_categorical_train=0.227]"
     ]
    },
    {
     "name": "stdout",
     "output_type": "stream",
     "text": [
      "\r\n",
      "Epoch 386/600:  64%|██████▍   | 386/600 [5:19:39<2:53:38, 48.68s/it, v_num=in_1, total_loss_train=540, kl_local_train=90.5, metric_mi|age_categorical_train=0.231]"
     ]
    },
    {
     "name": "stdout",
     "output_type": "stream",
     "text": [
      "\r\n",
      "Epoch 387/600:  64%|██████▍   | 386/600 [5:19:39<2:53:38, 48.68s/it, v_num=in_1, total_loss_train=540, kl_local_train=90.5, metric_mi|age_categorical_train=0.231]"
     ]
    },
    {
     "name": "stdout",
     "output_type": "stream",
     "text": [
      "\r\n",
      "Epoch 387/600:  64%|██████▍   | 387/600 [5:20:25<2:50:35, 48.05s/it, v_num=in_1, total_loss_train=540, kl_local_train=90.5, metric_mi|age_categorical_train=0.231]"
     ]
    },
    {
     "name": "stdout",
     "output_type": "stream",
     "text": [
      "\r\n",
      "Epoch 387/600:  64%|██████▍   | 387/600 [5:20:25<2:50:35, 48.05s/it, v_num=in_1, total_loss_train=540, kl_local_train=90.9, metric_mi|age_categorical_train=0.231]"
     ]
    },
    {
     "name": "stdout",
     "output_type": "stream",
     "text": [
      "\r\n",
      "Epoch 388/600:  64%|██████▍   | 387/600 [5:20:25<2:50:35, 48.05s/it, v_num=in_1, total_loss_train=540, kl_local_train=90.9, metric_mi|age_categorical_train=0.231]"
     ]
    },
    {
     "name": "stdout",
     "output_type": "stream",
     "text": [
      "\r\n",
      "Epoch 388/600:  65%|██████▍   | 388/600 [5:21:12<2:48:11, 47.60s/it, v_num=in_1, total_loss_train=540, kl_local_train=90.9, metric_mi|age_categorical_train=0.231]"
     ]
    },
    {
     "name": "stdout",
     "output_type": "stream",
     "text": [
      "\r\n",
      "Epoch 388/600:  65%|██████▍   | 388/600 [5:21:12<2:48:11, 47.60s/it, v_num=in_1, total_loss_train=540, kl_local_train=90.2, metric_mi|age_categorical_train=0.231]"
     ]
    },
    {
     "name": "stdout",
     "output_type": "stream",
     "text": [
      "\r\n",
      "Epoch 389/600:  65%|██████▍   | 388/600 [5:21:12<2:48:11, 47.60s/it, v_num=in_1, total_loss_train=540, kl_local_train=90.2, metric_mi|age_categorical_train=0.231]"
     ]
    },
    {
     "name": "stdout",
     "output_type": "stream",
     "text": [
      "\r\n",
      "Epoch 389/600:  65%|██████▍   | 389/600 [5:21:58<2:46:17, 47.28s/it, v_num=in_1, total_loss_train=540, kl_local_train=90.2, metric_mi|age_categorical_train=0.231]"
     ]
    },
    {
     "name": "stdout",
     "output_type": "stream",
     "text": [
      "\r\n",
      "Epoch 389/600:  65%|██████▍   | 389/600 [5:21:58<2:46:17, 47.28s/it, v_num=in_1, total_loss_train=540, kl_local_train=89.8, metric_mi|age_categorical_train=0.231]"
     ]
    },
    {
     "name": "stdout",
     "output_type": "stream",
     "text": [
      "\r\n",
      "Epoch 390/600:  65%|██████▍   | 389/600 [5:21:58<2:46:17, 47.28s/it, v_num=in_1, total_loss_train=540, kl_local_train=89.8, metric_mi|age_categorical_train=0.231]"
     ]
    },
    {
     "name": "stdout",
     "output_type": "stream",
     "text": [
      "\r\n",
      "Epoch 390/600:  65%|██████▌   | 390/600 [5:22:45<2:44:40, 47.05s/it, v_num=in_1, total_loss_train=540, kl_local_train=89.8, metric_mi|age_categorical_train=0.231]"
     ]
    },
    {
     "name": "stdout",
     "output_type": "stream",
     "text": [
      "\r\n",
      "Epoch 390/600:  65%|██████▌   | 390/600 [5:22:45<2:44:40, 47.05s/it, v_num=in_1, total_loss_train=540, kl_local_train=90.1, metric_mi|age_categorical_train=0.231]"
     ]
    },
    {
     "name": "stdout",
     "output_type": "stream",
     "text": [
      "\r\n",
      "Epoch 391/600:  65%|██████▌   | 390/600 [5:22:46<2:44:40, 47.05s/it, v_num=in_1, total_loss_train=540, kl_local_train=90.1, metric_mi|age_categorical_train=0.231]"
     ]
    },
    {
     "name": "stdout",
     "output_type": "stream",
     "text": [
      "\r\n",
      "Epoch 391/600:  65%|██████▌   | 391/600 [5:23:33<2:44:51, 47.33s/it, v_num=in_1, total_loss_train=540, kl_local_train=90.1, metric_mi|age_categorical_train=0.231]"
     ]
    },
    {
     "name": "stdout",
     "output_type": "stream",
     "text": [
      "\r\n",
      "Epoch 391/600:  65%|██████▌   | 391/600 [5:23:33<2:44:51, 47.33s/it, v_num=in_1, total_loss_train=540, kl_local_train=90.2, metric_mi|age_categorical_train=0.229]"
     ]
    },
    {
     "name": "stdout",
     "output_type": "stream",
     "text": [
      "\r\n",
      "Epoch 392/600:  65%|██████▌   | 391/600 [5:23:33<2:44:51, 47.33s/it, v_num=in_1, total_loss_train=540, kl_local_train=90.2, metric_mi|age_categorical_train=0.229]"
     ]
    },
    {
     "name": "stdout",
     "output_type": "stream",
     "text": [
      "\r\n",
      "Epoch 392/600:  65%|██████▌   | 392/600 [5:24:20<2:43:25, 47.14s/it, v_num=in_1, total_loss_train=540, kl_local_train=90.2, metric_mi|age_categorical_train=0.229]"
     ]
    },
    {
     "name": "stdout",
     "output_type": "stream",
     "text": [
      "\r\n",
      "Epoch 392/600:  65%|██████▌   | 392/600 [5:24:20<2:43:25, 47.14s/it, v_num=in_1, total_loss_train=540, kl_local_train=89.6, metric_mi|age_categorical_train=0.229]"
     ]
    },
    {
     "name": "stdout",
     "output_type": "stream",
     "text": [
      "\r\n",
      "Epoch 393/600:  65%|██████▌   | 392/600 [5:24:20<2:43:25, 47.14s/it, v_num=in_1, total_loss_train=540, kl_local_train=89.6, metric_mi|age_categorical_train=0.229]"
     ]
    },
    {
     "name": "stdout",
     "output_type": "stream",
     "text": [
      "\r\n",
      "Epoch 393/600:  66%|██████▌   | 393/600 [5:25:06<2:42:10, 47.01s/it, v_num=in_1, total_loss_train=540, kl_local_train=89.6, metric_mi|age_categorical_train=0.229]"
     ]
    },
    {
     "name": "stdout",
     "output_type": "stream",
     "text": [
      "\r\n",
      "Epoch 393/600:  66%|██████▌   | 393/600 [5:25:06<2:42:10, 47.01s/it, v_num=in_1, total_loss_train=541, kl_local_train=89.9, metric_mi|age_categorical_train=0.229]"
     ]
    },
    {
     "name": "stdout",
     "output_type": "stream",
     "text": [
      "\r\n",
      "Epoch 394/600:  66%|██████▌   | 393/600 [5:25:06<2:42:10, 47.01s/it, v_num=in_1, total_loss_train=541, kl_local_train=89.9, metric_mi|age_categorical_train=0.229]"
     ]
    },
    {
     "name": "stdout",
     "output_type": "stream",
     "text": [
      "\r\n",
      "Epoch 394/600:  66%|██████▌   | 394/600 [5:25:53<2:41:04, 46.92s/it, v_num=in_1, total_loss_train=541, kl_local_train=89.9, metric_mi|age_categorical_train=0.229]"
     ]
    },
    {
     "name": "stdout",
     "output_type": "stream",
     "text": [
      "\r\n",
      "Epoch 394/600:  66%|██████▌   | 394/600 [5:25:53<2:41:04, 46.92s/it, v_num=in_1, total_loss_train=540, kl_local_train=89.4, metric_mi|age_categorical_train=0.229]"
     ]
    },
    {
     "name": "stdout",
     "output_type": "stream",
     "text": [
      "\r\n",
      "Epoch 395/600:  66%|██████▌   | 394/600 [5:25:53<2:41:04, 46.92s/it, v_num=in_1, total_loss_train=540, kl_local_train=89.4, metric_mi|age_categorical_train=0.229]"
     ]
    },
    {
     "name": "stdout",
     "output_type": "stream",
     "text": [
      "\r\n",
      "Epoch 395/600:  66%|██████▌   | 395/600 [5:26:42<2:42:17, 47.50s/it, v_num=in_1, total_loss_train=540, kl_local_train=89.4, metric_mi|age_categorical_train=0.229]"
     ]
    },
    {
     "name": "stdout",
     "output_type": "stream",
     "text": [
      "\r\n",
      "Epoch 395/600:  66%|██████▌   | 395/600 [5:26:42<2:42:17, 47.50s/it, v_num=in_1, total_loss_train=541, kl_local_train=89, metric_mi|age_categorical_train=0.229]  "
     ]
    },
    {
     "name": "stdout",
     "output_type": "stream",
     "text": [
      "\r\n",
      "Epoch 396/600:  66%|██████▌   | 395/600 [5:26:43<2:42:17, 47.50s/it, v_num=in_1, total_loss_train=541, kl_local_train=89, metric_mi|age_categorical_train=0.229]"
     ]
    },
    {
     "name": "stdout",
     "output_type": "stream",
     "text": [
      "\r\n",
      "Epoch 396/600:  66%|██████▌   | 396/600 [5:27:30<2:42:02, 47.66s/it, v_num=in_1, total_loss_train=541, kl_local_train=89, metric_mi|age_categorical_train=0.229]"
     ]
    },
    {
     "name": "stdout",
     "output_type": "stream",
     "text": [
      "\r\n",
      "Epoch 396/600:  66%|██████▌   | 396/600 [5:27:30<2:42:02, 47.66s/it, v_num=in_1, total_loss_train=540, kl_local_train=89.2, metric_mi|age_categorical_train=0.226]"
     ]
    },
    {
     "name": "stdout",
     "output_type": "stream",
     "text": [
      "\r\n",
      "Epoch 397/600:  66%|██████▌   | 396/600 [5:27:30<2:42:02, 47.66s/it, v_num=in_1, total_loss_train=540, kl_local_train=89.2, metric_mi|age_categorical_train=0.226]"
     ]
    },
    {
     "name": "stdout",
     "output_type": "stream",
     "text": [
      "\r\n",
      "Epoch 397/600:  66%|██████▌   | 397/600 [5:28:17<2:40:40, 47.49s/it, v_num=in_1, total_loss_train=540, kl_local_train=89.2, metric_mi|age_categorical_train=0.226]"
     ]
    },
    {
     "name": "stdout",
     "output_type": "stream",
     "text": [
      "\r\n",
      "Epoch 397/600:  66%|██████▌   | 397/600 [5:28:17<2:40:40, 47.49s/it, v_num=in_1, total_loss_train=541, kl_local_train=89.1, metric_mi|age_categorical_train=0.226]"
     ]
    },
    {
     "name": "stdout",
     "output_type": "stream",
     "text": [
      "\r\n",
      "Epoch 398/600:  66%|██████▌   | 397/600 [5:28:17<2:40:40, 47.49s/it, v_num=in_1, total_loss_train=541, kl_local_train=89.1, metric_mi|age_categorical_train=0.226]"
     ]
    },
    {
     "name": "stdout",
     "output_type": "stream",
     "text": [
      "\r\n",
      "Epoch 398/600:  66%|██████▋   | 398/600 [5:29:04<2:39:44, 47.45s/it, v_num=in_1, total_loss_train=541, kl_local_train=89.1, metric_mi|age_categorical_train=0.226]"
     ]
    },
    {
     "name": "stdout",
     "output_type": "stream",
     "text": [
      "\r\n",
      "Epoch 398/600:  66%|██████▋   | 398/600 [5:29:04<2:39:44, 47.45s/it, v_num=in_1, total_loss_train=541, kl_local_train=89.2, metric_mi|age_categorical_train=0.226]"
     ]
    },
    {
     "name": "stdout",
     "output_type": "stream",
     "text": [
      "\r\n",
      "Epoch 399/600:  66%|██████▋   | 398/600 [5:29:04<2:39:44, 47.45s/it, v_num=in_1, total_loss_train=541, kl_local_train=89.2, metric_mi|age_categorical_train=0.226]"
     ]
    },
    {
     "name": "stdout",
     "output_type": "stream",
     "text": [
      "\r\n",
      "Epoch 399/600:  66%|██████▋   | 399/600 [5:29:51<2:38:34, 47.33s/it, v_num=in_1, total_loss_train=541, kl_local_train=89.2, metric_mi|age_categorical_train=0.226]"
     ]
    },
    {
     "name": "stdout",
     "output_type": "stream",
     "text": [
      "\r\n",
      "Epoch 399/600:  66%|██████▋   | 399/600 [5:29:51<2:38:34, 47.33s/it, v_num=in_1, total_loss_train=541, kl_local_train=88.6, metric_mi|age_categorical_train=0.226]"
     ]
    },
    {
     "name": "stdout",
     "output_type": "stream",
     "text": [
      "\r\n",
      "Epoch 400/600:  66%|██████▋   | 399/600 [5:29:51<2:38:34, 47.33s/it, v_num=in_1, total_loss_train=541, kl_local_train=88.6, metric_mi|age_categorical_train=0.226]"
     ]
    },
    {
     "name": "stdout",
     "output_type": "stream",
     "text": [
      "\r\n",
      "Epoch 400/600:  67%|██████▋   | 400/600 [5:30:40<2:39:33, 47.87s/it, v_num=in_1, total_loss_train=541, kl_local_train=88.6, metric_mi|age_categorical_train=0.226]"
     ]
    },
    {
     "name": "stdout",
     "output_type": "stream",
     "text": [
      "\r\n",
      "Epoch 400/600:  67%|██████▋   | 400/600 [5:30:40<2:39:33, 47.87s/it, v_num=in_1, total_loss_train=541, kl_local_train=89.1, metric_mi|age_categorical_train=0.226]"
     ]
    },
    {
     "name": "stdout",
     "output_type": "stream",
     "text": [
      "\r\n",
      "Epoch 401/600:  67%|██████▋   | 400/600 [5:30:41<2:39:33, 47.87s/it, v_num=in_1, total_loss_train=541, kl_local_train=89.1, metric_mi|age_categorical_train=0.226]"
     ]
    },
    {
     "name": "stdout",
     "output_type": "stream",
     "text": [
      "\r\n",
      "Epoch 401/600:  67%|██████▋   | 401/600 [5:31:28<2:38:21, 47.75s/it, v_num=in_1, total_loss_train=541, kl_local_train=89.1, metric_mi|age_categorical_train=0.226]"
     ]
    },
    {
     "name": "stdout",
     "output_type": "stream",
     "text": [
      "\r\n",
      "Epoch 401/600:  67%|██████▋   | 401/600 [5:31:28<2:38:21, 47.75s/it, v_num=in_1, total_loss_train=541, kl_local_train=88.7, metric_mi|age_categorical_train=0.227]"
     ]
    },
    {
     "name": "stdout",
     "output_type": "stream",
     "text": [
      "\r\n",
      "Epoch 402/600:  67%|██████▋   | 401/600 [5:31:28<2:38:21, 47.75s/it, v_num=in_1, total_loss_train=541, kl_local_train=88.7, metric_mi|age_categorical_train=0.227]"
     ]
    },
    {
     "name": "stdout",
     "output_type": "stream",
     "text": [
      "\r\n",
      "Epoch 402/600:  67%|██████▋   | 402/600 [5:32:15<2:36:28, 47.42s/it, v_num=in_1, total_loss_train=541, kl_local_train=88.7, metric_mi|age_categorical_train=0.227]"
     ]
    },
    {
     "name": "stdout",
     "output_type": "stream",
     "text": [
      "\r\n",
      "Epoch 402/600:  67%|██████▋   | 402/600 [5:32:15<2:36:28, 47.42s/it, v_num=in_1, total_loss_train=541, kl_local_train=88.7, metric_mi|age_categorical_train=0.227]"
     ]
    },
    {
     "name": "stdout",
     "output_type": "stream",
     "text": [
      "\r\n",
      "Epoch 403/600:  67%|██████▋   | 402/600 [5:32:15<2:36:28, 47.42s/it, v_num=in_1, total_loss_train=541, kl_local_train=88.7, metric_mi|age_categorical_train=0.227]"
     ]
    },
    {
     "name": "stdout",
     "output_type": "stream",
     "text": [
      "\r\n",
      "Epoch 403/600:  67%|██████▋   | 403/600 [5:33:01<2:35:02, 47.22s/it, v_num=in_1, total_loss_train=541, kl_local_train=88.7, metric_mi|age_categorical_train=0.227]"
     ]
    },
    {
     "name": "stdout",
     "output_type": "stream",
     "text": [
      "\r\n",
      "Epoch 403/600:  67%|██████▋   | 403/600 [5:33:01<2:35:02, 47.22s/it, v_num=in_1, total_loss_train=541, kl_local_train=88.7, metric_mi|age_categorical_train=0.227]"
     ]
    },
    {
     "name": "stdout",
     "output_type": "stream",
     "text": [
      "\r\n",
      "Epoch 404/600:  67%|██████▋   | 403/600 [5:33:01<2:35:02, 47.22s/it, v_num=in_1, total_loss_train=541, kl_local_train=88.7, metric_mi|age_categorical_train=0.227]"
     ]
    },
    {
     "name": "stdout",
     "output_type": "stream",
     "text": [
      "\r\n",
      "Epoch 404/600:  67%|██████▋   | 404/600 [5:33:49<2:34:12, 47.21s/it, v_num=in_1, total_loss_train=541, kl_local_train=88.7, metric_mi|age_categorical_train=0.227]"
     ]
    },
    {
     "name": "stdout",
     "output_type": "stream",
     "text": [
      "\r\n",
      "Epoch 404/600:  67%|██████▋   | 404/600 [5:33:49<2:34:12, 47.21s/it, v_num=in_1, total_loss_train=542, kl_local_train=88.5, metric_mi|age_categorical_train=0.227]"
     ]
    },
    {
     "name": "stdout",
     "output_type": "stream",
     "text": [
      "\r\n",
      "Epoch 405/600:  67%|██████▋   | 404/600 [5:33:49<2:34:12, 47.21s/it, v_num=in_1, total_loss_train=542, kl_local_train=88.5, metric_mi|age_categorical_train=0.227]"
     ]
    },
    {
     "name": "stdout",
     "output_type": "stream",
     "text": [
      "\r\n",
      "Epoch 405/600:  68%|██████▊   | 405/600 [5:34:35<2:33:04, 47.10s/it, v_num=in_1, total_loss_train=542, kl_local_train=88.5, metric_mi|age_categorical_train=0.227]"
     ]
    },
    {
     "name": "stdout",
     "output_type": "stream",
     "text": [
      "\r\n",
      "Epoch 405/600:  68%|██████▊   | 405/600 [5:34:35<2:33:04, 47.10s/it, v_num=in_1, total_loss_train=541, kl_local_train=88.5, metric_mi|age_categorical_train=0.227]"
     ]
    },
    {
     "name": "stdout",
     "output_type": "stream",
     "text": [
      "\r\n",
      "Epoch 406/600:  68%|██████▊   | 405/600 [5:34:36<2:33:04, 47.10s/it, v_num=in_1, total_loss_train=541, kl_local_train=88.5, metric_mi|age_categorical_train=0.227]"
     ]
    },
    {
     "name": "stdout",
     "output_type": "stream",
     "text": [
      "\r\n",
      "Epoch 406/600:  68%|██████▊   | 406/600 [5:35:23<2:32:54, 47.29s/it, v_num=in_1, total_loss_train=541, kl_local_train=88.5, metric_mi|age_categorical_train=0.227]"
     ]
    },
    {
     "name": "stdout",
     "output_type": "stream",
     "text": [
      "\r\n",
      "Epoch 406/600:  68%|██████▊   | 406/600 [5:35:23<2:32:54, 47.29s/it, v_num=in_1, total_loss_train=542, kl_local_train=87.9, metric_mi|age_categorical_train=0.224]"
     ]
    },
    {
     "name": "stdout",
     "output_type": "stream",
     "text": [
      "\r\n",
      "Epoch 407/600:  68%|██████▊   | 406/600 [5:35:23<2:32:54, 47.29s/it, v_num=in_1, total_loss_train=542, kl_local_train=87.9, metric_mi|age_categorical_train=0.224]"
     ]
    },
    {
     "name": "stdout",
     "output_type": "stream",
     "text": [
      "\r\n",
      "Epoch 407/600:  68%|██████▊   | 407/600 [5:36:10<2:31:42, 47.16s/it, v_num=in_1, total_loss_train=542, kl_local_train=87.9, metric_mi|age_categorical_train=0.224]"
     ]
    },
    {
     "name": "stdout",
     "output_type": "stream",
     "text": [
      "\r\n",
      "Epoch 407/600:  68%|██████▊   | 407/600 [5:36:10<2:31:42, 47.16s/it, v_num=in_1, total_loss_train=542, kl_local_train=87.8, metric_mi|age_categorical_train=0.224]"
     ]
    },
    {
     "name": "stdout",
     "output_type": "stream",
     "text": [
      "\r\n",
      "Epoch 408/600:  68%|██████▊   | 407/600 [5:36:10<2:31:42, 47.16s/it, v_num=in_1, total_loss_train=542, kl_local_train=87.8, metric_mi|age_categorical_train=0.224]"
     ]
    },
    {
     "name": "stdout",
     "output_type": "stream",
     "text": [
      "\r\n",
      "Epoch 408/600:  68%|██████▊   | 408/600 [5:36:57<2:30:41, 47.09s/it, v_num=in_1, total_loss_train=542, kl_local_train=87.8, metric_mi|age_categorical_train=0.224]"
     ]
    },
    {
     "name": "stdout",
     "output_type": "stream",
     "text": [
      "\r\n",
      "Epoch 408/600:  68%|██████▊   | 408/600 [5:36:57<2:30:41, 47.09s/it, v_num=in_1, total_loss_train=542, kl_local_train=87.8, metric_mi|age_categorical_train=0.224]"
     ]
    },
    {
     "name": "stdout",
     "output_type": "stream",
     "text": [
      "\r\n",
      "Epoch 409/600:  68%|██████▊   | 408/600 [5:36:57<2:30:41, 47.09s/it, v_num=in_1, total_loss_train=542, kl_local_train=87.8, metric_mi|age_categorical_train=0.224]"
     ]
    },
    {
     "name": "stdout",
     "output_type": "stream",
     "text": [
      "\r\n",
      "Epoch 409/600:  68%|██████▊   | 409/600 [5:37:44<2:29:44, 47.04s/it, v_num=in_1, total_loss_train=542, kl_local_train=87.8, metric_mi|age_categorical_train=0.224]"
     ]
    },
    {
     "name": "stdout",
     "output_type": "stream",
     "text": [
      "\r\n",
      "Epoch 409/600:  68%|██████▊   | 409/600 [5:37:44<2:29:44, 47.04s/it, v_num=in_1, total_loss_train=542, kl_local_train=87.7, metric_mi|age_categorical_train=0.224]"
     ]
    },
    {
     "name": "stdout",
     "output_type": "stream",
     "text": [
      "\r\n",
      "Epoch 410/600:  68%|██████▊   | 409/600 [5:37:44<2:29:44, 47.04s/it, v_num=in_1, total_loss_train=542, kl_local_train=87.7, metric_mi|age_categorical_train=0.224]"
     ]
    },
    {
     "name": "stdout",
     "output_type": "stream",
     "text": [
      "\r\n",
      "Epoch 410/600:  68%|██████▊   | 410/600 [5:38:33<2:30:36, 47.56s/it, v_num=in_1, total_loss_train=542, kl_local_train=87.7, metric_mi|age_categorical_train=0.224]"
     ]
    },
    {
     "name": "stdout",
     "output_type": "stream",
     "text": [
      "\r\n",
      "Epoch 410/600:  68%|██████▊   | 410/600 [5:38:33<2:30:36, 47.56s/it, v_num=in_1, total_loss_train=542, kl_local_train=87.6, metric_mi|age_categorical_train=0.224]"
     ]
    },
    {
     "name": "stdout",
     "output_type": "stream",
     "text": [
      "\r\n",
      "Epoch 411/600:  68%|██████▊   | 410/600 [5:38:33<2:30:36, 47.56s/it, v_num=in_1, total_loss_train=542, kl_local_train=87.6, metric_mi|age_categorical_train=0.224]"
     ]
    },
    {
     "name": "stdout",
     "output_type": "stream",
     "text": [
      "\r\n",
      "Epoch 411/600:  68%|██████▊   | 411/600 [5:39:21<2:30:08, 47.67s/it, v_num=in_1, total_loss_train=542, kl_local_train=87.6, metric_mi|age_categorical_train=0.224]"
     ]
    },
    {
     "name": "stdout",
     "output_type": "stream",
     "text": [
      "\r\n",
      "Epoch 411/600:  68%|██████▊   | 411/600 [5:39:21<2:30:08, 47.67s/it, v_num=in_1, total_loss_train=542, kl_local_train=87.6, metric_mi|age_categorical_train=0.227]"
     ]
    },
    {
     "name": "stdout",
     "output_type": "stream",
     "text": [
      "\r\n",
      "Epoch 412/600:  68%|██████▊   | 411/600 [5:39:21<2:30:08, 47.67s/it, v_num=in_1, total_loss_train=542, kl_local_train=87.6, metric_mi|age_categorical_train=0.227]"
     ]
    },
    {
     "name": "stdout",
     "output_type": "stream",
     "text": [
      "\r\n",
      "Epoch 412/600:  69%|██████▊   | 412/600 [5:40:07<2:28:37, 47.43s/it, v_num=in_1, total_loss_train=542, kl_local_train=87.6, metric_mi|age_categorical_train=0.227]"
     ]
    },
    {
     "name": "stdout",
     "output_type": "stream",
     "text": [
      "\r\n",
      "Epoch 412/600:  69%|██████▊   | 412/600 [5:40:07<2:28:37, 47.43s/it, v_num=in_1, total_loss_train=542, kl_local_train=87.1, metric_mi|age_categorical_train=0.227]"
     ]
    },
    {
     "name": "stdout",
     "output_type": "stream",
     "text": [
      "\r\n",
      "Epoch 413/600:  69%|██████▊   | 412/600 [5:40:07<2:28:37, 47.43s/it, v_num=in_1, total_loss_train=542, kl_local_train=87.1, metric_mi|age_categorical_train=0.227]"
     ]
    },
    {
     "name": "stdout",
     "output_type": "stream",
     "text": [
      "\r\n",
      "Epoch 413/600:  69%|██████▉   | 413/600 [5:40:54<2:27:17, 47.26s/it, v_num=in_1, total_loss_train=542, kl_local_train=87.1, metric_mi|age_categorical_train=0.227]"
     ]
    },
    {
     "name": "stdout",
     "output_type": "stream",
     "text": [
      "\r\n",
      "Epoch 413/600:  69%|██████▉   | 413/600 [5:40:54<2:27:17, 47.26s/it, v_num=in_1, total_loss_train=542, kl_local_train=87.3, metric_mi|age_categorical_train=0.227]"
     ]
    },
    {
     "name": "stdout",
     "output_type": "stream",
     "text": [
      "\r\n",
      "Epoch 414/600:  69%|██████▉   | 413/600 [5:40:54<2:27:17, 47.26s/it, v_num=in_1, total_loss_train=542, kl_local_train=87.3, metric_mi|age_categorical_train=0.227]"
     ]
    },
    {
     "name": "stdout",
     "output_type": "stream",
     "text": [
      "\r\n",
      "Epoch 414/600:  69%|██████▉   | 414/600 [5:41:41<2:26:10, 47.15s/it, v_num=in_1, total_loss_train=542, kl_local_train=87.3, metric_mi|age_categorical_train=0.227]"
     ]
    },
    {
     "name": "stdout",
     "output_type": "stream",
     "text": [
      "\r\n",
      "Epoch 414/600:  69%|██████▉   | 414/600 [5:41:41<2:26:10, 47.15s/it, v_num=in_1, total_loss_train=542, kl_local_train=87, metric_mi|age_categorical_train=0.227]  "
     ]
    },
    {
     "name": "stdout",
     "output_type": "stream",
     "text": [
      "\r\n",
      "Epoch 415/600:  69%|██████▉   | 414/600 [5:41:41<2:26:10, 47.15s/it, v_num=in_1, total_loss_train=542, kl_local_train=87, metric_mi|age_categorical_train=0.227]"
     ]
    },
    {
     "name": "stdout",
     "output_type": "stream",
     "text": [
      "\r\n",
      "Epoch 415/600:  69%|██████▉   | 415/600 [5:42:30<2:27:04, 47.70s/it, v_num=in_1, total_loss_train=542, kl_local_train=87, metric_mi|age_categorical_train=0.227]"
     ]
    },
    {
     "name": "stdout",
     "output_type": "stream",
     "text": [
      "\r\n",
      "Epoch 415/600:  69%|██████▉   | 415/600 [5:42:30<2:27:04, 47.70s/it, v_num=in_1, total_loss_train=542, kl_local_train=86.5, metric_mi|age_categorical_train=0.227]"
     ]
    },
    {
     "name": "stdout",
     "output_type": "stream",
     "text": [
      "\r\n",
      "Epoch 416/600:  69%|██████▉   | 415/600 [5:42:31<2:27:04, 47.70s/it, v_num=in_1, total_loss_train=542, kl_local_train=86.5, metric_mi|age_categorical_train=0.227]"
     ]
    },
    {
     "name": "stdout",
     "output_type": "stream",
     "text": [
      "\r\n",
      "Epoch 416/600:  69%|██████▉   | 416/600 [5:43:18<2:26:23, 47.74s/it, v_num=in_1, total_loss_train=542, kl_local_train=86.5, metric_mi|age_categorical_train=0.227]"
     ]
    },
    {
     "name": "stdout",
     "output_type": "stream",
     "text": [
      "\r\n",
      "Epoch 416/600:  69%|██████▉   | 416/600 [5:43:18<2:26:23, 47.74s/it, v_num=in_1, total_loss_train=542, kl_local_train=86.7, metric_mi|age_categorical_train=0.226]"
     ]
    },
    {
     "name": "stdout",
     "output_type": "stream",
     "text": [
      "\r\n",
      "Epoch 417/600:  69%|██████▉   | 416/600 [5:43:18<2:26:23, 47.74s/it, v_num=in_1, total_loss_train=542, kl_local_train=86.7, metric_mi|age_categorical_train=0.226]"
     ]
    },
    {
     "name": "stdout",
     "output_type": "stream",
     "text": [
      "\r\n",
      "Epoch 417/600:  70%|██████▉   | 417/600 [5:44:05<2:24:58, 47.53s/it, v_num=in_1, total_loss_train=542, kl_local_train=86.7, metric_mi|age_categorical_train=0.226]"
     ]
    },
    {
     "name": "stdout",
     "output_type": "stream",
     "text": [
      "\r\n",
      "Epoch 417/600:  70%|██████▉   | 417/600 [5:44:05<2:24:58, 47.53s/it, v_num=in_1, total_loss_train=542, kl_local_train=86.4, metric_mi|age_categorical_train=0.226]"
     ]
    },
    {
     "name": "stdout",
     "output_type": "stream",
     "text": [
      "\r\n",
      "Epoch 418/600:  70%|██████▉   | 417/600 [5:44:05<2:24:58, 47.53s/it, v_num=in_1, total_loss_train=542, kl_local_train=86.4, metric_mi|age_categorical_train=0.226]"
     ]
    },
    {
     "name": "stdout",
     "output_type": "stream",
     "text": [
      "\r\n",
      "Epoch 418/600:  70%|██████▉   | 418/600 [5:44:52<2:23:53, 47.44s/it, v_num=in_1, total_loss_train=542, kl_local_train=86.4, metric_mi|age_categorical_train=0.226]"
     ]
    },
    {
     "name": "stdout",
     "output_type": "stream",
     "text": [
      "\r\n",
      "Epoch 418/600:  70%|██████▉   | 418/600 [5:44:52<2:23:53, 47.44s/it, v_num=in_1, total_loss_train=542, kl_local_train=86.2, metric_mi|age_categorical_train=0.226]"
     ]
    },
    {
     "name": "stdout",
     "output_type": "stream",
     "text": [
      "\r\n",
      "Epoch 419/600:  70%|██████▉   | 418/600 [5:44:52<2:23:53, 47.44s/it, v_num=in_1, total_loss_train=542, kl_local_train=86.2, metric_mi|age_categorical_train=0.226]"
     ]
    },
    {
     "name": "stdout",
     "output_type": "stream",
     "text": [
      "\r\n",
      "Epoch 419/600:  70%|██████▉   | 419/600 [5:45:39<2:22:44, 47.32s/it, v_num=in_1, total_loss_train=542, kl_local_train=86.2, metric_mi|age_categorical_train=0.226]"
     ]
    },
    {
     "name": "stdout",
     "output_type": "stream",
     "text": [
      "\r\n",
      "Epoch 419/600:  70%|██████▉   | 419/600 [5:45:39<2:22:44, 47.32s/it, v_num=in_1, total_loss_train=542, kl_local_train=86.1, metric_mi|age_categorical_train=0.226]"
     ]
    },
    {
     "name": "stdout",
     "output_type": "stream",
     "text": [
      "\r\n",
      "Epoch 420/600:  70%|██████▉   | 419/600 [5:45:39<2:22:44, 47.32s/it, v_num=in_1, total_loss_train=542, kl_local_train=86.1, metric_mi|age_categorical_train=0.226]"
     ]
    },
    {
     "name": "stdout",
     "output_type": "stream",
     "text": [
      "\r\n",
      "Epoch 420/600:  70%|███████   | 420/600 [5:46:29<2:23:47, 47.93s/it, v_num=in_1, total_loss_train=542, kl_local_train=86.1, metric_mi|age_categorical_train=0.226]"
     ]
    },
    {
     "name": "stdout",
     "output_type": "stream",
     "text": [
      "\r\n",
      "Epoch 420/600:  70%|███████   | 420/600 [5:46:29<2:23:47, 47.93s/it, v_num=in_1, total_loss_train=542, kl_local_train=86.3, metric_mi|age_categorical_train=0.226]"
     ]
    },
    {
     "name": "stdout",
     "output_type": "stream",
     "text": [
      "\r\n",
      "Epoch 421/600:  70%|███████   | 420/600 [5:46:29<2:23:47, 47.93s/it, v_num=in_1, total_loss_train=542, kl_local_train=86.3, metric_mi|age_categorical_train=0.226]"
     ]
    },
    {
     "name": "stdout",
     "output_type": "stream",
     "text": [
      "\r\n",
      "Epoch 421/600:  70%|███████   | 421/600 [5:47:16<2:22:32, 47.78s/it, v_num=in_1, total_loss_train=542, kl_local_train=86.3, metric_mi|age_categorical_train=0.226]"
     ]
    },
    {
     "name": "stdout",
     "output_type": "stream",
     "text": [
      "\r\n",
      "Epoch 421/600:  70%|███████   | 421/600 [5:47:16<2:22:32, 47.78s/it, v_num=in_1, total_loss_train=542, kl_local_train=86, metric_mi|age_categorical_train=0.224]  "
     ]
    },
    {
     "name": "stdout",
     "output_type": "stream",
     "text": [
      "\r\n",
      "Epoch 422/600:  70%|███████   | 421/600 [5:47:16<2:22:32, 47.78s/it, v_num=in_1, total_loss_train=542, kl_local_train=86, metric_mi|age_categorical_train=0.224]"
     ]
    },
    {
     "name": "stdout",
     "output_type": "stream",
     "text": [
      "\r\n",
      "Epoch 422/600:  70%|███████   | 422/600 [5:48:03<2:20:36, 47.39s/it, v_num=in_1, total_loss_train=542, kl_local_train=86, metric_mi|age_categorical_train=0.224]"
     ]
    },
    {
     "name": "stdout",
     "output_type": "stream",
     "text": [
      "\r\n",
      "Epoch 422/600:  70%|███████   | 422/600 [5:48:03<2:20:36, 47.39s/it, v_num=in_1, total_loss_train=543, kl_local_train=85.7, metric_mi|age_categorical_train=0.224]"
     ]
    },
    {
     "name": "stdout",
     "output_type": "stream",
     "text": [
      "\r\n",
      "Epoch 423/600:  70%|███████   | 422/600 [5:48:03<2:20:36, 47.39s/it, v_num=in_1, total_loss_train=543, kl_local_train=85.7, metric_mi|age_categorical_train=0.224]"
     ]
    },
    {
     "name": "stdout",
     "output_type": "stream",
     "text": [
      "\r\n",
      "Epoch 423/600:  70%|███████   | 423/600 [5:48:49<2:19:01, 47.13s/it, v_num=in_1, total_loss_train=543, kl_local_train=85.7, metric_mi|age_categorical_train=0.224]"
     ]
    },
    {
     "name": "stdout",
     "output_type": "stream",
     "text": [
      "\r\n",
      "Epoch 423/600:  70%|███████   | 423/600 [5:48:49<2:19:01, 47.13s/it, v_num=in_1, total_loss_train=542, kl_local_train=85.7, metric_mi|age_categorical_train=0.224]"
     ]
    },
    {
     "name": "stdout",
     "output_type": "stream",
     "text": [
      "\r\n",
      "Epoch 424/600:  70%|███████   | 423/600 [5:48:49<2:19:01, 47.13s/it, v_num=in_1, total_loss_train=542, kl_local_train=85.7, metric_mi|age_categorical_train=0.224]"
     ]
    },
    {
     "name": "stdout",
     "output_type": "stream",
     "text": [
      "\r\n",
      "Epoch 424/600:  71%|███████   | 424/600 [5:49:36<2:17:43, 46.95s/it, v_num=in_1, total_loss_train=542, kl_local_train=85.7, metric_mi|age_categorical_train=0.224]"
     ]
    },
    {
     "name": "stdout",
     "output_type": "stream",
     "text": [
      "\r\n",
      "Epoch 424/600:  71%|███████   | 424/600 [5:49:36<2:17:43, 46.95s/it, v_num=in_1, total_loss_train=542, kl_local_train=85.2, metric_mi|age_categorical_train=0.224]"
     ]
    },
    {
     "name": "stdout",
     "output_type": "stream",
     "text": [
      "\r\n",
      "Epoch 425/600:  71%|███████   | 424/600 [5:49:36<2:17:43, 46.95s/it, v_num=in_1, total_loss_train=542, kl_local_train=85.2, metric_mi|age_categorical_train=0.224]"
     ]
    },
    {
     "name": "stdout",
     "output_type": "stream",
     "text": [
      "\r\n",
      "Epoch 425/600:  71%|███████   | 425/600 [5:50:25<2:18:46, 47.58s/it, v_num=in_1, total_loss_train=542, kl_local_train=85.2, metric_mi|age_categorical_train=0.224]"
     ]
    },
    {
     "name": "stdout",
     "output_type": "stream",
     "text": [
      "\r\n",
      "Epoch 425/600:  71%|███████   | 425/600 [5:50:25<2:18:46, 47.58s/it, v_num=in_1, total_loss_train=543, kl_local_train=85.6, metric_mi|age_categorical_train=0.224]"
     ]
    },
    {
     "name": "stdout",
     "output_type": "stream",
     "text": [
      "\r\n",
      "Epoch 426/600:  71%|███████   | 425/600 [5:50:25<2:18:46, 47.58s/it, v_num=in_1, total_loss_train=543, kl_local_train=85.6, metric_mi|age_categorical_train=0.224]"
     ]
    },
    {
     "name": "stdout",
     "output_type": "stream",
     "text": [
      "\r\n",
      "Epoch 426/600:  71%|███████   | 426/600 [5:51:12<2:17:39, 47.47s/it, v_num=in_1, total_loss_train=543, kl_local_train=85.6, metric_mi|age_categorical_train=0.224]"
     ]
    },
    {
     "name": "stdout",
     "output_type": "stream",
     "text": [
      "\r\n",
      "Epoch 426/600:  71%|███████   | 426/600 [5:51:12<2:17:39, 47.47s/it, v_num=in_1, total_loss_train=543, kl_local_train=85.3, metric_mi|age_categorical_train=0.224]"
     ]
    },
    {
     "name": "stdout",
     "output_type": "stream",
     "text": [
      "\r\n",
      "Epoch 427/600:  71%|███████   | 426/600 [5:51:12<2:17:39, 47.47s/it, v_num=in_1, total_loss_train=543, kl_local_train=85.3, metric_mi|age_categorical_train=0.224]"
     ]
    },
    {
     "name": "stdout",
     "output_type": "stream",
     "text": [
      "\r\n",
      "Epoch 427/600:  71%|███████   | 427/600 [5:51:58<2:16:02, 47.18s/it, v_num=in_1, total_loss_train=543, kl_local_train=85.3, metric_mi|age_categorical_train=0.224]"
     ]
    },
    {
     "name": "stdout",
     "output_type": "stream",
     "text": [
      "\r\n",
      "Epoch 427/600:  71%|███████   | 427/600 [5:51:58<2:16:02, 47.18s/it, v_num=in_1, total_loss_train=542, kl_local_train=85.2, metric_mi|age_categorical_train=0.224]"
     ]
    },
    {
     "name": "stdout",
     "output_type": "stream",
     "text": [
      "\r\n",
      "Epoch 428/600:  71%|███████   | 427/600 [5:51:58<2:16:02, 47.18s/it, v_num=in_1, total_loss_train=542, kl_local_train=85.2, metric_mi|age_categorical_train=0.224]"
     ]
    },
    {
     "name": "stdout",
     "output_type": "stream",
     "text": [
      "\r\n",
      "Epoch 428/600:  71%|███████▏  | 428/600 [5:52:45<2:14:41, 46.99s/it, v_num=in_1, total_loss_train=542, kl_local_train=85.2, metric_mi|age_categorical_train=0.224]"
     ]
    },
    {
     "name": "stdout",
     "output_type": "stream",
     "text": [
      "\r\n",
      "Epoch 428/600:  71%|███████▏  | 428/600 [5:52:45<2:14:41, 46.99s/it, v_num=in_1, total_loss_train=543, kl_local_train=84.9, metric_mi|age_categorical_train=0.224]"
     ]
    },
    {
     "name": "stdout",
     "output_type": "stream",
     "text": [
      "\r\n",
      "Epoch 429/600:  71%|███████▏  | 428/600 [5:52:45<2:14:41, 46.99s/it, v_num=in_1, total_loss_train=543, kl_local_train=84.9, metric_mi|age_categorical_train=0.224]"
     ]
    },
    {
     "name": "stdout",
     "output_type": "stream",
     "text": [
      "\r\n",
      "Epoch 429/600:  72%|███████▏  | 429/600 [5:53:31<2:13:25, 46.82s/it, v_num=in_1, total_loss_train=543, kl_local_train=84.9, metric_mi|age_categorical_train=0.224]"
     ]
    },
    {
     "name": "stdout",
     "output_type": "stream",
     "text": [
      "\r\n",
      "Epoch 429/600:  72%|███████▏  | 429/600 [5:53:31<2:13:25, 46.82s/it, v_num=in_1, total_loss_train=543, kl_local_train=84.8, metric_mi|age_categorical_train=0.224]"
     ]
    },
    {
     "name": "stdout",
     "output_type": "stream",
     "text": [
      "\r\n",
      "Epoch 430/600:  72%|███████▏  | 429/600 [5:53:31<2:13:25, 46.82s/it, v_num=in_1, total_loss_train=543, kl_local_train=84.8, metric_mi|age_categorical_train=0.224]"
     ]
    },
    {
     "name": "stdout",
     "output_type": "stream",
     "text": [
      "\r\n",
      "Epoch 430/600:  72%|███████▏  | 430/600 [5:54:18<2:12:18, 46.69s/it, v_num=in_1, total_loss_train=543, kl_local_train=84.8, metric_mi|age_categorical_train=0.224]"
     ]
    },
    {
     "name": "stdout",
     "output_type": "stream",
     "text": [
      "\r\n",
      "Epoch 430/600:  72%|███████▏  | 430/600 [5:54:18<2:12:18, 46.69s/it, v_num=in_1, total_loss_train=543, kl_local_train=84.3, metric_mi|age_categorical_train=0.224]"
     ]
    },
    {
     "name": "stdout",
     "output_type": "stream",
     "text": [
      "\r\n",
      "Epoch 431/600:  72%|███████▏  | 430/600 [5:54:19<2:12:18, 46.69s/it, v_num=in_1, total_loss_train=543, kl_local_train=84.3, metric_mi|age_categorical_train=0.224]"
     ]
    },
    {
     "name": "stdout",
     "output_type": "stream",
     "text": [
      "\r\n",
      "Epoch 431/600:  72%|███████▏  | 431/600 [5:55:05<2:12:16, 46.96s/it, v_num=in_1, total_loss_train=543, kl_local_train=84.3, metric_mi|age_categorical_train=0.224]"
     ]
    },
    {
     "name": "stdout",
     "output_type": "stream",
     "text": [
      "\r\n",
      "Epoch 431/600:  72%|███████▏  | 431/600 [5:55:05<2:12:16, 46.96s/it, v_num=in_1, total_loss_train=543, kl_local_train=84.9, metric_mi|age_categorical_train=0.228]"
     ]
    },
    {
     "name": "stdout",
     "output_type": "stream",
     "text": [
      "\r\n",
      "Epoch 432/600:  72%|███████▏  | 431/600 [5:55:05<2:12:16, 46.96s/it, v_num=in_1, total_loss_train=543, kl_local_train=84.9, metric_mi|age_categorical_train=0.228]"
     ]
    },
    {
     "name": "stdout",
     "output_type": "stream",
     "text": [
      "\r\n",
      "Epoch 432/600:  72%|███████▏  | 432/600 [5:55:52<2:11:10, 46.85s/it, v_num=in_1, total_loss_train=543, kl_local_train=84.9, metric_mi|age_categorical_train=0.228]"
     ]
    },
    {
     "name": "stdout",
     "output_type": "stream",
     "text": [
      "\r\n",
      "Epoch 432/600:  72%|███████▏  | 432/600 [5:55:52<2:11:10, 46.85s/it, v_num=in_1, total_loss_train=543, kl_local_train=84.3, metric_mi|age_categorical_train=0.228]"
     ]
    },
    {
     "name": "stdout",
     "output_type": "stream",
     "text": [
      "\r\n",
      "Epoch 433/600:  72%|███████▏  | 432/600 [5:55:52<2:11:10, 46.85s/it, v_num=in_1, total_loss_train=543, kl_local_train=84.3, metric_mi|age_categorical_train=0.228]"
     ]
    },
    {
     "name": "stdout",
     "output_type": "stream",
     "text": [
      "\r\n",
      "Epoch 433/600:  72%|███████▏  | 433/600 [5:56:38<2:10:10, 46.77s/it, v_num=in_1, total_loss_train=543, kl_local_train=84.3, metric_mi|age_categorical_train=0.228]"
     ]
    },
    {
     "name": "stdout",
     "output_type": "stream",
     "text": [
      "\r\n",
      "Epoch 433/600:  72%|███████▏  | 433/600 [5:56:38<2:10:10, 46.77s/it, v_num=in_1, total_loss_train=543, kl_local_train=84.2, metric_mi|age_categorical_train=0.228]"
     ]
    },
    {
     "name": "stdout",
     "output_type": "stream",
     "text": [
      "\r\n",
      "Epoch 434/600:  72%|███████▏  | 433/600 [5:56:38<2:10:10, 46.77s/it, v_num=in_1, total_loss_train=543, kl_local_train=84.2, metric_mi|age_categorical_train=0.228]"
     ]
    },
    {
     "name": "stdout",
     "output_type": "stream",
     "text": [
      "\r\n",
      "Epoch 434/600:  72%|███████▏  | 434/600 [5:57:25<2:09:06, 46.67s/it, v_num=in_1, total_loss_train=543, kl_local_train=84.2, metric_mi|age_categorical_train=0.228]"
     ]
    },
    {
     "name": "stdout",
     "output_type": "stream",
     "text": [
      "\r\n",
      "Epoch 434/600:  72%|███████▏  | 434/600 [5:57:25<2:09:06, 46.67s/it, v_num=in_1, total_loss_train=543, kl_local_train=83.6, metric_mi|age_categorical_train=0.228]"
     ]
    },
    {
     "name": "stdout",
     "output_type": "stream",
     "text": [
      "\r\n",
      "Epoch 435/600:  72%|███████▏  | 434/600 [5:57:25<2:09:06, 46.67s/it, v_num=in_1, total_loss_train=543, kl_local_train=83.6, metric_mi|age_categorical_train=0.228]"
     ]
    },
    {
     "name": "stdout",
     "output_type": "stream",
     "text": [
      "\r\n",
      "Epoch 435/600:  72%|███████▎  | 435/600 [5:58:14<2:09:57, 47.25s/it, v_num=in_1, total_loss_train=543, kl_local_train=83.6, metric_mi|age_categorical_train=0.228]"
     ]
    },
    {
     "name": "stdout",
     "output_type": "stream",
     "text": [
      "\r\n",
      "Epoch 435/600:  72%|███████▎  | 435/600 [5:58:14<2:09:57, 47.25s/it, v_num=in_1, total_loss_train=543, kl_local_train=83.7, metric_mi|age_categorical_train=0.228]"
     ]
    },
    {
     "name": "stdout",
     "output_type": "stream",
     "text": [
      "\r\n",
      "Epoch 436/600:  72%|███████▎  | 435/600 [5:58:14<2:09:57, 47.25s/it, v_num=in_1, total_loss_train=543, kl_local_train=83.7, metric_mi|age_categorical_train=0.228]"
     ]
    },
    {
     "name": "stdout",
     "output_type": "stream",
     "text": [
      "\r\n",
      "Epoch 436/600:  73%|███████▎  | 436/600 [5:59:01<2:09:19, 47.31s/it, v_num=in_1, total_loss_train=543, kl_local_train=83.7, metric_mi|age_categorical_train=0.228]"
     ]
    },
    {
     "name": "stdout",
     "output_type": "stream",
     "text": [
      "\r\n",
      "Epoch 436/600:  73%|███████▎  | 436/600 [5:59:01<2:09:19, 47.31s/it, v_num=in_1, total_loss_train=543, kl_local_train=84.1, metric_mi|age_categorical_train=0.233]"
     ]
    },
    {
     "name": "stdout",
     "output_type": "stream",
     "text": [
      "\r\n",
      "Epoch 437/600:  73%|███████▎  | 436/600 [5:59:01<2:09:19, 47.31s/it, v_num=in_1, total_loss_train=543, kl_local_train=84.1, metric_mi|age_categorical_train=0.233]"
     ]
    },
    {
     "name": "stdout",
     "output_type": "stream",
     "text": [
      "\r\n",
      "Epoch 437/600:  73%|███████▎  | 437/600 [5:59:48<2:08:13, 47.20s/it, v_num=in_1, total_loss_train=543, kl_local_train=84.1, metric_mi|age_categorical_train=0.233]"
     ]
    },
    {
     "name": "stdout",
     "output_type": "stream",
     "text": [
      "\r\n",
      "Epoch 437/600:  73%|███████▎  | 437/600 [5:59:48<2:08:13, 47.20s/it, v_num=in_1, total_loss_train=543, kl_local_train=84.1, metric_mi|age_categorical_train=0.233]"
     ]
    },
    {
     "name": "stdout",
     "output_type": "stream",
     "text": [
      "\r\n",
      "Epoch 438/600:  73%|███████▎  | 437/600 [5:59:48<2:08:13, 47.20s/it, v_num=in_1, total_loss_train=543, kl_local_train=84.1, metric_mi|age_categorical_train=0.233]"
     ]
    },
    {
     "name": "stdout",
     "output_type": "stream",
     "text": [
      "\r\n",
      "Epoch 438/600:  73%|███████▎  | 438/600 [6:00:35<2:07:04, 47.06s/it, v_num=in_1, total_loss_train=543, kl_local_train=84.1, metric_mi|age_categorical_train=0.233]"
     ]
    },
    {
     "name": "stdout",
     "output_type": "stream",
     "text": [
      "\r\n",
      "Epoch 438/600:  73%|███████▎  | 438/600 [6:00:35<2:07:04, 47.06s/it, v_num=in_1, total_loss_train=543, kl_local_train=83.3, metric_mi|age_categorical_train=0.233]"
     ]
    },
    {
     "name": "stdout",
     "output_type": "stream",
     "text": [
      "\r\n",
      "Epoch 439/600:  73%|███████▎  | 438/600 [6:00:35<2:07:04, 47.06s/it, v_num=in_1, total_loss_train=543, kl_local_train=83.3, metric_mi|age_categorical_train=0.233]"
     ]
    },
    {
     "name": "stdout",
     "output_type": "stream",
     "text": [
      "\r\n",
      "Epoch 439/600:  73%|███████▎  | 439/600 [6:01:21<2:05:54, 46.92s/it, v_num=in_1, total_loss_train=543, kl_local_train=83.3, metric_mi|age_categorical_train=0.233]"
     ]
    },
    {
     "name": "stdout",
     "output_type": "stream",
     "text": [
      "\r\n",
      "Epoch 439/600:  73%|███████▎  | 439/600 [6:01:21<2:05:54, 46.92s/it, v_num=in_1, total_loss_train=543, kl_local_train=83.4, metric_mi|age_categorical_train=0.233]"
     ]
    },
    {
     "name": "stdout",
     "output_type": "stream",
     "text": [
      "\r\n",
      "Epoch 440/600:  73%|███████▎  | 439/600 [6:01:21<2:05:54, 46.92s/it, v_num=in_1, total_loss_train=543, kl_local_train=83.4, metric_mi|age_categorical_train=0.233]"
     ]
    },
    {
     "name": "stdout",
     "output_type": "stream",
     "text": [
      "\r\n",
      "Epoch 440/600:  73%|███████▎  | 440/600 [6:02:08<2:04:43, 46.77s/it, v_num=in_1, total_loss_train=543, kl_local_train=83.4, metric_mi|age_categorical_train=0.233]"
     ]
    },
    {
     "name": "stdout",
     "output_type": "stream",
     "text": [
      "\r\n",
      "Epoch 440/600:  73%|███████▎  | 440/600 [6:02:08<2:04:43, 46.77s/it, v_num=in_1, total_loss_train=543, kl_local_train=83.3, metric_mi|age_categorical_train=0.233]"
     ]
    },
    {
     "name": "stdout",
     "output_type": "stream",
     "text": [
      "\r\n",
      "Epoch 441/600:  73%|███████▎  | 440/600 [6:02:09<2:04:43, 46.77s/it, v_num=in_1, total_loss_train=543, kl_local_train=83.3, metric_mi|age_categorical_train=0.233]"
     ]
    },
    {
     "name": "stdout",
     "output_type": "stream",
     "text": [
      "\r\n",
      "Epoch 441/600:  74%|███████▎  | 441/600 [6:02:55<2:04:28, 46.97s/it, v_num=in_1, total_loss_train=543, kl_local_train=83.3, metric_mi|age_categorical_train=0.233]"
     ]
    },
    {
     "name": "stdout",
     "output_type": "stream",
     "text": [
      "\r\n",
      "Epoch 441/600:  74%|███████▎  | 441/600 [6:02:55<2:04:28, 46.97s/it, v_num=in_1, total_loss_train=543, kl_local_train=83.1, metric_mi|age_categorical_train=0.227]"
     ]
    },
    {
     "name": "stdout",
     "output_type": "stream",
     "text": [
      "\r\n",
      "Epoch 442/600:  74%|███████▎  | 441/600 [6:02:55<2:04:28, 46.97s/it, v_num=in_1, total_loss_train=543, kl_local_train=83.1, metric_mi|age_categorical_train=0.227]"
     ]
    },
    {
     "name": "stdout",
     "output_type": "stream",
     "text": [
      "\r\n",
      "Epoch 442/600:  74%|███████▎  | 442/600 [6:03:42<2:03:16, 46.81s/it, v_num=in_1, total_loss_train=543, kl_local_train=83.1, metric_mi|age_categorical_train=0.227]"
     ]
    },
    {
     "name": "stdout",
     "output_type": "stream",
     "text": [
      "\r\n",
      "Epoch 442/600:  74%|███████▎  | 442/600 [6:03:42<2:03:16, 46.81s/it, v_num=in_1, total_loss_train=543, kl_local_train=83, metric_mi|age_categorical_train=0.227]  "
     ]
    },
    {
     "name": "stdout",
     "output_type": "stream",
     "text": [
      "\r\n",
      "Epoch 443/600:  74%|███████▎  | 442/600 [6:03:42<2:03:16, 46.81s/it, v_num=in_1, total_loss_train=543, kl_local_train=83, metric_mi|age_categorical_train=0.227]"
     ]
    },
    {
     "name": "stdout",
     "output_type": "stream",
     "text": [
      "\r\n",
      "Epoch 443/600:  74%|███████▍  | 443/600 [6:04:28<2:02:14, 46.72s/it, v_num=in_1, total_loss_train=543, kl_local_train=83, metric_mi|age_categorical_train=0.227]"
     ]
    },
    {
     "name": "stdout",
     "output_type": "stream",
     "text": [
      "\r\n",
      "Epoch 443/600:  74%|███████▍  | 443/600 [6:04:28<2:02:14, 46.72s/it, v_num=in_1, total_loss_train=544, kl_local_train=83.3, metric_mi|age_categorical_train=0.227]"
     ]
    },
    {
     "name": "stdout",
     "output_type": "stream",
     "text": [
      "\r\n",
      "Epoch 444/600:  74%|███████▍  | 443/600 [6:04:28<2:02:14, 46.72s/it, v_num=in_1, total_loss_train=544, kl_local_train=83.3, metric_mi|age_categorical_train=0.227]"
     ]
    },
    {
     "name": "stdout",
     "output_type": "stream",
     "text": [
      "\r\n",
      "Epoch 444/600:  74%|███████▍  | 444/600 [6:05:15<2:01:19, 46.66s/it, v_num=in_1, total_loss_train=544, kl_local_train=83.3, metric_mi|age_categorical_train=0.227]"
     ]
    },
    {
     "name": "stdout",
     "output_type": "stream",
     "text": [
      "\r\n",
      "Epoch 444/600:  74%|███████▍  | 444/600 [6:05:15<2:01:19, 46.66s/it, v_num=in_1, total_loss_train=544, kl_local_train=82.8, metric_mi|age_categorical_train=0.227]"
     ]
    },
    {
     "name": "stdout",
     "output_type": "stream",
     "text": [
      "\r\n",
      "Epoch 445/600:  74%|███████▍  | 444/600 [6:05:15<2:01:19, 46.66s/it, v_num=in_1, total_loss_train=544, kl_local_train=82.8, metric_mi|age_categorical_train=0.227]"
     ]
    },
    {
     "name": "stdout",
     "output_type": "stream",
     "text": [
      "\r\n",
      "Epoch 445/600:  74%|███████▍  | 445/600 [6:06:03<2:02:00, 47.23s/it, v_num=in_1, total_loss_train=544, kl_local_train=82.8, metric_mi|age_categorical_train=0.227]"
     ]
    },
    {
     "name": "stdout",
     "output_type": "stream",
     "text": [
      "\r\n",
      "Epoch 445/600:  74%|███████▍  | 445/600 [6:06:03<2:02:00, 47.23s/it, v_num=in_1, total_loss_train=544, kl_local_train=82.6, metric_mi|age_categorical_train=0.227]"
     ]
    },
    {
     "name": "stdout",
     "output_type": "stream",
     "text": [
      "\r\n",
      "Epoch 446/600:  74%|███████▍  | 445/600 [6:06:04<2:02:00, 47.23s/it, v_num=in_1, total_loss_train=544, kl_local_train=82.6, metric_mi|age_categorical_train=0.227]"
     ]
    },
    {
     "name": "stdout",
     "output_type": "stream",
     "text": [
      "\r\n",
      "Epoch 446/600:  74%|███████▍  | 446/600 [6:06:51<2:01:25, 47.31s/it, v_num=in_1, total_loss_train=544, kl_local_train=82.6, metric_mi|age_categorical_train=0.227]"
     ]
    },
    {
     "name": "stdout",
     "output_type": "stream",
     "text": [
      "\r\n",
      "Epoch 446/600:  74%|███████▍  | 446/600 [6:06:51<2:01:25, 47.31s/it, v_num=in_1, total_loss_train=544, kl_local_train=82.4, metric_mi|age_categorical_train=0.222]"
     ]
    },
    {
     "name": "stdout",
     "output_type": "stream",
     "text": [
      "\r\n",
      "Epoch 447/600:  74%|███████▍  | 446/600 [6:06:51<2:01:25, 47.31s/it, v_num=in_1, total_loss_train=544, kl_local_train=82.4, metric_mi|age_categorical_train=0.222]"
     ]
    },
    {
     "name": "stdout",
     "output_type": "stream",
     "text": [
      "\r\n",
      "Epoch 447/600:  74%|███████▍  | 447/600 [6:07:37<2:00:02, 47.08s/it, v_num=in_1, total_loss_train=544, kl_local_train=82.4, metric_mi|age_categorical_train=0.222]"
     ]
    },
    {
     "name": "stdout",
     "output_type": "stream",
     "text": [
      "\r\n",
      "Epoch 447/600:  74%|███████▍  | 447/600 [6:07:37<2:00:02, 47.08s/it, v_num=in_1, total_loss_train=543, kl_local_train=82.3, metric_mi|age_categorical_train=0.222]"
     ]
    },
    {
     "name": "stdout",
     "output_type": "stream",
     "text": [
      "\r\n",
      "Epoch 448/600:  74%|███████▍  | 447/600 [6:07:37<2:00:02, 47.08s/it, v_num=in_1, total_loss_train=543, kl_local_train=82.3, metric_mi|age_categorical_train=0.222]"
     ]
    },
    {
     "name": "stdout",
     "output_type": "stream",
     "text": [
      "\r\n",
      "Epoch 448/600:  75%|███████▍  | 448/600 [6:08:24<1:58:45, 46.88s/it, v_num=in_1, total_loss_train=543, kl_local_train=82.3, metric_mi|age_categorical_train=0.222]"
     ]
    },
    {
     "name": "stdout",
     "output_type": "stream",
     "text": [
      "\r\n",
      "Epoch 448/600:  75%|███████▍  | 448/600 [6:08:24<1:58:45, 46.88s/it, v_num=in_1, total_loss_train=544, kl_local_train=82.5, metric_mi|age_categorical_train=0.222]"
     ]
    },
    {
     "name": "stdout",
     "output_type": "stream",
     "text": [
      "\r\n",
      "Epoch 449/600:  75%|███████▍  | 448/600 [6:08:24<1:58:45, 46.88s/it, v_num=in_1, total_loss_train=544, kl_local_train=82.5, metric_mi|age_categorical_train=0.222]"
     ]
    },
    {
     "name": "stdout",
     "output_type": "stream",
     "text": [
      "\r\n",
      "Epoch 449/600:  75%|███████▍  | 449/600 [6:09:10<1:57:36, 46.73s/it, v_num=in_1, total_loss_train=544, kl_local_train=82.5, metric_mi|age_categorical_train=0.222]"
     ]
    },
    {
     "name": "stdout",
     "output_type": "stream",
     "text": [
      "\r\n",
      "Epoch 449/600:  75%|███████▍  | 449/600 [6:09:10<1:57:36, 46.73s/it, v_num=in_1, total_loss_train=544, kl_local_train=82.8, metric_mi|age_categorical_train=0.222]"
     ]
    },
    {
     "name": "stdout",
     "output_type": "stream",
     "text": [
      "\r\n",
      "Epoch 450/600:  75%|███████▍  | 449/600 [6:09:10<1:57:36, 46.73s/it, v_num=in_1, total_loss_train=544, kl_local_train=82.8, metric_mi|age_categorical_train=0.222]"
     ]
    },
    {
     "name": "stdout",
     "output_type": "stream",
     "text": [
      "\r\n",
      "Epoch 450/600:  75%|███████▌  | 450/600 [6:09:59<1:58:19, 47.33s/it, v_num=in_1, total_loss_train=544, kl_local_train=82.8, metric_mi|age_categorical_train=0.222]"
     ]
    },
    {
     "name": "stdout",
     "output_type": "stream",
     "text": [
      "\r\n",
      "Epoch 450/600:  75%|███████▌  | 450/600 [6:09:59<1:58:19, 47.33s/it, v_num=in_1, total_loss_train=544, kl_local_train=82.7, metric_mi|age_categorical_train=0.222]"
     ]
    },
    {
     "name": "stdout",
     "output_type": "stream",
     "text": [
      "\r\n",
      "Epoch 451/600:  75%|███████▌  | 450/600 [6:10:00<1:58:19, 47.33s/it, v_num=in_1, total_loss_train=544, kl_local_train=82.7, metric_mi|age_categorical_train=0.222]"
     ]
    },
    {
     "name": "stdout",
     "output_type": "stream",
     "text": [
      "\r\n",
      "Epoch 451/600:  75%|███████▌  | 451/600 [6:10:46<1:57:51, 47.46s/it, v_num=in_1, total_loss_train=544, kl_local_train=82.7, metric_mi|age_categorical_train=0.222]"
     ]
    },
    {
     "name": "stdout",
     "output_type": "stream",
     "text": [
      "\r\n",
      "Epoch 451/600:  75%|███████▌  | 451/600 [6:10:46<1:57:51, 47.46s/it, v_num=in_1, total_loss_train=544, kl_local_train=82.4, metric_mi|age_categorical_train=0.22] "
     ]
    },
    {
     "name": "stdout",
     "output_type": "stream",
     "text": [
      "\r\n",
      "Epoch 452/600:  75%|███████▌  | 451/600 [6:10:46<1:57:51, 47.46s/it, v_num=in_1, total_loss_train=544, kl_local_train=82.4, metric_mi|age_categorical_train=0.22]"
     ]
    },
    {
     "name": "stdout",
     "output_type": "stream",
     "text": [
      "\r\n",
      "Epoch 452/600:  75%|███████▌  | 452/600 [6:11:33<1:56:44, 47.33s/it, v_num=in_1, total_loss_train=544, kl_local_train=82.4, metric_mi|age_categorical_train=0.22]"
     ]
    },
    {
     "name": "stdout",
     "output_type": "stream",
     "text": [
      "\r\n",
      "Epoch 452/600:  75%|███████▌  | 452/600 [6:11:33<1:56:44, 47.33s/it, v_num=in_1, total_loss_train=544, kl_local_train=82.5, metric_mi|age_categorical_train=0.22]"
     ]
    },
    {
     "name": "stdout",
     "output_type": "stream",
     "text": [
      "\r\n",
      "Epoch 453/600:  75%|███████▌  | 452/600 [6:11:33<1:56:44, 47.33s/it, v_num=in_1, total_loss_train=544, kl_local_train=82.5, metric_mi|age_categorical_train=0.22]"
     ]
    },
    {
     "name": "stdout",
     "output_type": "stream",
     "text": [
      "\r\n",
      "Epoch 453/600:  76%|███████▌  | 453/600 [6:12:20<1:55:39, 47.21s/it, v_num=in_1, total_loss_train=544, kl_local_train=82.5, metric_mi|age_categorical_train=0.22]"
     ]
    },
    {
     "name": "stdout",
     "output_type": "stream",
     "text": [
      "\r\n",
      "Epoch 453/600:  76%|███████▌  | 453/600 [6:12:20<1:55:39, 47.21s/it, v_num=in_1, total_loss_train=544, kl_local_train=82.6, metric_mi|age_categorical_train=0.22]"
     ]
    },
    {
     "name": "stdout",
     "output_type": "stream",
     "text": [
      "\r\n",
      "Epoch 454/600:  76%|███████▌  | 453/600 [6:12:20<1:55:39, 47.21s/it, v_num=in_1, total_loss_train=544, kl_local_train=82.6, metric_mi|age_categorical_train=0.22]"
     ]
    },
    {
     "name": "stdout",
     "output_type": "stream",
     "text": [
      "\r\n",
      "Epoch 454/600:  76%|███████▌  | 454/600 [6:13:07<1:54:44, 47.15s/it, v_num=in_1, total_loss_train=544, kl_local_train=82.6, metric_mi|age_categorical_train=0.22]"
     ]
    },
    {
     "name": "stdout",
     "output_type": "stream",
     "text": [
      "\r\n",
      "Epoch 454/600:  76%|███████▌  | 454/600 [6:13:07<1:54:44, 47.15s/it, v_num=in_1, total_loss_train=544, kl_local_train=82.1, metric_mi|age_categorical_train=0.22]"
     ]
    },
    {
     "name": "stdout",
     "output_type": "stream",
     "text": [
      "\r\n",
      "Epoch 455/600:  76%|███████▌  | 454/600 [6:13:07<1:54:44, 47.15s/it, v_num=in_1, total_loss_train=544, kl_local_train=82.1, metric_mi|age_categorical_train=0.22]"
     ]
    },
    {
     "name": "stdout",
     "output_type": "stream",
     "text": [
      "\r\n",
      "Epoch 455/600:  76%|███████▌  | 455/600 [6:13:57<1:55:27, 47.78s/it, v_num=in_1, total_loss_train=544, kl_local_train=82.1, metric_mi|age_categorical_train=0.22]"
     ]
    },
    {
     "name": "stdout",
     "output_type": "stream",
     "text": [
      "\r\n",
      "Epoch 455/600:  76%|███████▌  | 455/600 [6:13:57<1:55:27, 47.78s/it, v_num=in_1, total_loss_train=544, kl_local_train=82, metric_mi|age_categorical_train=0.22]  "
     ]
    },
    {
     "name": "stdout",
     "output_type": "stream",
     "text": [
      "\r\n",
      "Epoch 456/600:  76%|███████▌  | 455/600 [6:13:58<1:55:27, 47.78s/it, v_num=in_1, total_loss_train=544, kl_local_train=82, metric_mi|age_categorical_train=0.22]"
     ]
    },
    {
     "name": "stdout",
     "output_type": "stream",
     "text": [
      "\r\n",
      "Epoch 456/600:  76%|███████▌  | 456/600 [6:14:44<1:54:29, 47.71s/it, v_num=in_1, total_loss_train=544, kl_local_train=82, metric_mi|age_categorical_train=0.22]"
     ]
    },
    {
     "name": "stdout",
     "output_type": "stream",
     "text": [
      "\r\n",
      "Epoch 456/600:  76%|███████▌  | 456/600 [6:14:44<1:54:29, 47.71s/it, v_num=in_1, total_loss_train=544, kl_local_train=81.7, metric_mi|age_categorical_train=0.215]"
     ]
    },
    {
     "name": "stdout",
     "output_type": "stream",
     "text": [
      "\r\n",
      "Epoch 457/600:  76%|███████▌  | 456/600 [6:14:44<1:54:29, 47.71s/it, v_num=in_1, total_loss_train=544, kl_local_train=81.7, metric_mi|age_categorical_train=0.215]"
     ]
    },
    {
     "name": "stdout",
     "output_type": "stream",
     "text": [
      "\r\n",
      "Epoch 457/600:  76%|███████▌  | 457/600 [6:15:31<1:52:57, 47.40s/it, v_num=in_1, total_loss_train=544, kl_local_train=81.7, metric_mi|age_categorical_train=0.215]"
     ]
    },
    {
     "name": "stdout",
     "output_type": "stream",
     "text": [
      "\r\n",
      "Epoch 457/600:  76%|███████▌  | 457/600 [6:15:31<1:52:57, 47.40s/it, v_num=in_1, total_loss_train=544, kl_local_train=82, metric_mi|age_categorical_train=0.215]  "
     ]
    },
    {
     "name": "stdout",
     "output_type": "stream",
     "text": [
      "\r\n",
      "Epoch 458/600:  76%|███████▌  | 457/600 [6:15:31<1:52:57, 47.40s/it, v_num=in_1, total_loss_train=544, kl_local_train=82, metric_mi|age_categorical_train=0.215]"
     ]
    },
    {
     "name": "stdout",
     "output_type": "stream",
     "text": [
      "\r\n",
      "Epoch 458/600:  76%|███████▋  | 458/600 [6:16:18<1:52:00, 47.33s/it, v_num=in_1, total_loss_train=544, kl_local_train=82, metric_mi|age_categorical_train=0.215]"
     ]
    },
    {
     "name": "stdout",
     "output_type": "stream",
     "text": [
      "\r\n",
      "Epoch 458/600:  76%|███████▋  | 458/600 [6:16:18<1:52:00, 47.33s/it, v_num=in_1, total_loss_train=544, kl_local_train=81.3, metric_mi|age_categorical_train=0.215]"
     ]
    },
    {
     "name": "stdout",
     "output_type": "stream",
     "text": [
      "\r\n",
      "Epoch 459/600:  76%|███████▋  | 458/600 [6:16:18<1:52:00, 47.33s/it, v_num=in_1, total_loss_train=544, kl_local_train=81.3, metric_mi|age_categorical_train=0.215]"
     ]
    },
    {
     "name": "stdout",
     "output_type": "stream",
     "text": [
      "\r\n",
      "Epoch 459/600:  76%|███████▋  | 459/600 [6:17:05<1:51:10, 47.31s/it, v_num=in_1, total_loss_train=544, kl_local_train=81.3, metric_mi|age_categorical_train=0.215]"
     ]
    },
    {
     "name": "stdout",
     "output_type": "stream",
     "text": [
      "\r\n",
      "Epoch 459/600:  76%|███████▋  | 459/600 [6:17:05<1:51:10, 47.31s/it, v_num=in_1, total_loss_train=544, kl_local_train=81.1, metric_mi|age_categorical_train=0.215]"
     ]
    },
    {
     "name": "stdout",
     "output_type": "stream",
     "text": [
      "\r\n",
      "Epoch 460/600:  76%|███████▋  | 459/600 [6:17:05<1:51:10, 47.31s/it, v_num=in_1, total_loss_train=544, kl_local_train=81.1, metric_mi|age_categorical_train=0.215]"
     ]
    },
    {
     "name": "stdout",
     "output_type": "stream",
     "text": [
      "\r\n",
      "Epoch 460/600:  77%|███████▋  | 460/600 [6:17:52<1:50:12, 47.23s/it, v_num=in_1, total_loss_train=544, kl_local_train=81.1, metric_mi|age_categorical_train=0.215]"
     ]
    },
    {
     "name": "stdout",
     "output_type": "stream",
     "text": [
      "\r\n",
      "Epoch 460/600:  77%|███████▋  | 460/600 [6:17:52<1:50:12, 47.23s/it, v_num=in_1, total_loss_train=545, kl_local_train=81.7, metric_mi|age_categorical_train=0.215]"
     ]
    },
    {
     "name": "stdout",
     "output_type": "stream",
     "text": [
      "\r\n",
      "Epoch 461/600:  77%|███████▋  | 460/600 [6:17:53<1:50:12, 47.23s/it, v_num=in_1, total_loss_train=545, kl_local_train=81.7, metric_mi|age_categorical_train=0.215]"
     ]
    },
    {
     "name": "stdout",
     "output_type": "stream",
     "text": [
      "\r\n",
      "Epoch 461/600:  77%|███████▋  | 461/600 [6:18:40<1:49:42, 47.35s/it, v_num=in_1, total_loss_train=545, kl_local_train=81.7, metric_mi|age_categorical_train=0.215]"
     ]
    },
    {
     "name": "stdout",
     "output_type": "stream",
     "text": [
      "\r\n",
      "Epoch 461/600:  77%|███████▋  | 461/600 [6:18:40<1:49:42, 47.35s/it, v_num=in_1, total_loss_train=545, kl_local_train=81.7, metric_mi|age_categorical_train=0.215]"
     ]
    },
    {
     "name": "stdout",
     "output_type": "stream",
     "text": [
      "\r\n",
      "Epoch 462/600:  77%|███████▋  | 461/600 [6:18:40<1:49:42, 47.35s/it, v_num=in_1, total_loss_train=545, kl_local_train=81.7, metric_mi|age_categorical_train=0.215]"
     ]
    },
    {
     "name": "stdout",
     "output_type": "stream",
     "text": [
      "\r\n",
      "Epoch 462/600:  77%|███████▋  | 462/600 [6:19:27<1:48:31, 47.18s/it, v_num=in_1, total_loss_train=545, kl_local_train=81.7, metric_mi|age_categorical_train=0.215]"
     ]
    },
    {
     "name": "stdout",
     "output_type": "stream",
     "text": [
      "\r\n",
      "Epoch 462/600:  77%|███████▋  | 462/600 [6:19:27<1:48:31, 47.18s/it, v_num=in_1, total_loss_train=544, kl_local_train=81.5, metric_mi|age_categorical_train=0.215]"
     ]
    },
    {
     "name": "stdout",
     "output_type": "stream",
     "text": [
      "\r\n",
      "Epoch 463/600:  77%|███████▋  | 462/600 [6:19:27<1:48:31, 47.18s/it, v_num=in_1, total_loss_train=544, kl_local_train=81.5, metric_mi|age_categorical_train=0.215]"
     ]
    },
    {
     "name": "stdout",
     "output_type": "stream",
     "text": [
      "\r\n",
      "Epoch 463/600:  77%|███████▋  | 463/600 [6:20:14<1:47:32, 47.10s/it, v_num=in_1, total_loss_train=544, kl_local_train=81.5, metric_mi|age_categorical_train=0.215]"
     ]
    },
    {
     "name": "stdout",
     "output_type": "stream",
     "text": [
      "\r\n",
      "Epoch 463/600:  77%|███████▋  | 463/600 [6:20:14<1:47:32, 47.10s/it, v_num=in_1, total_loss_train=545, kl_local_train=81.1, metric_mi|age_categorical_train=0.215]"
     ]
    },
    {
     "name": "stdout",
     "output_type": "stream",
     "text": [
      "\r\n",
      "Epoch 464/600:  77%|███████▋  | 463/600 [6:20:14<1:47:32, 47.10s/it, v_num=in_1, total_loss_train=545, kl_local_train=81.1, metric_mi|age_categorical_train=0.215]"
     ]
    },
    {
     "name": "stdout",
     "output_type": "stream",
     "text": [
      "\r\n",
      "Epoch 464/600:  77%|███████▋  | 464/600 [6:21:01<1:46:41, 47.07s/it, v_num=in_1, total_loss_train=545, kl_local_train=81.1, metric_mi|age_categorical_train=0.215]"
     ]
    },
    {
     "name": "stdout",
     "output_type": "stream",
     "text": [
      "\r\n",
      "Epoch 464/600:  77%|███████▋  | 464/600 [6:21:01<1:46:41, 47.07s/it, v_num=in_1, total_loss_train=545, kl_local_train=81.3, metric_mi|age_categorical_train=0.215]"
     ]
    },
    {
     "name": "stdout",
     "output_type": "stream",
     "text": [
      "\r\n",
      "Epoch 465/600:  77%|███████▋  | 464/600 [6:21:01<1:46:41, 47.07s/it, v_num=in_1, total_loss_train=545, kl_local_train=81.3, metric_mi|age_categorical_train=0.215]"
     ]
    },
    {
     "name": "stdout",
     "output_type": "stream",
     "text": [
      "\r\n",
      "Epoch 465/600:  78%|███████▊  | 465/600 [6:21:51<1:48:10, 48.08s/it, v_num=in_1, total_loss_train=545, kl_local_train=81.3, metric_mi|age_categorical_train=0.215]"
     ]
    },
    {
     "name": "stdout",
     "output_type": "stream",
     "text": [
      "\r\n",
      "Epoch 465/600:  78%|███████▊  | 465/600 [6:21:51<1:48:10, 48.08s/it, v_num=in_1, total_loss_train=544, kl_local_train=81.1, metric_mi|age_categorical_train=0.215]"
     ]
    },
    {
     "name": "stdout",
     "output_type": "stream",
     "text": [
      "\r\n",
      "Epoch 466/600:  78%|███████▊  | 465/600 [6:21:52<1:48:10, 48.08s/it, v_num=in_1, total_loss_train=544, kl_local_train=81.1, metric_mi|age_categorical_train=0.215]"
     ]
    },
    {
     "name": "stdout",
     "output_type": "stream",
     "text": [
      "\r\n",
      "Epoch 466/600:  78%|███████▊  | 466/600 [6:22:39<1:47:06, 47.96s/it, v_num=in_1, total_loss_train=544, kl_local_train=81.1, metric_mi|age_categorical_train=0.215]"
     ]
    },
    {
     "name": "stdout",
     "output_type": "stream",
     "text": [
      "\r\n",
      "Epoch 466/600:  78%|███████▊  | 466/600 [6:22:39<1:47:06, 47.96s/it, v_num=in_1, total_loss_train=545, kl_local_train=80.8, metric_mi|age_categorical_train=0.216]"
     ]
    },
    {
     "name": "stdout",
     "output_type": "stream",
     "text": [
      "\r\n",
      "Epoch 467/600:  78%|███████▊  | 466/600 [6:22:39<1:47:06, 47.96s/it, v_num=in_1, total_loss_train=545, kl_local_train=80.8, metric_mi|age_categorical_train=0.216]"
     ]
    },
    {
     "name": "stdout",
     "output_type": "stream",
     "text": [
      "\r\n",
      "Epoch 467/600:  78%|███████▊  | 467/600 [6:23:26<1:45:33, 47.62s/it, v_num=in_1, total_loss_train=545, kl_local_train=80.8, metric_mi|age_categorical_train=0.216]"
     ]
    },
    {
     "name": "stdout",
     "output_type": "stream",
     "text": [
      "\r\n",
      "Epoch 467/600:  78%|███████▊  | 467/600 [6:23:26<1:45:33, 47.62s/it, v_num=in_1, total_loss_train=545, kl_local_train=81.3, metric_mi|age_categorical_train=0.216]"
     ]
    },
    {
     "name": "stdout",
     "output_type": "stream",
     "text": [
      "\r\n",
      "Epoch 468/600:  78%|███████▊  | 467/600 [6:23:26<1:45:33, 47.62s/it, v_num=in_1, total_loss_train=545, kl_local_train=81.3, metric_mi|age_categorical_train=0.216]"
     ]
    },
    {
     "name": "stdout",
     "output_type": "stream",
     "text": [
      "\r\n",
      "Epoch 468/600:  78%|███████▊  | 468/600 [6:24:12<1:44:14, 47.38s/it, v_num=in_1, total_loss_train=545, kl_local_train=81.3, metric_mi|age_categorical_train=0.216]"
     ]
    },
    {
     "name": "stdout",
     "output_type": "stream",
     "text": [
      "\r\n",
      "Epoch 468/600:  78%|███████▊  | 468/600 [6:24:12<1:44:14, 47.38s/it, v_num=in_1, total_loss_train=545, kl_local_train=81.5, metric_mi|age_categorical_train=0.216]"
     ]
    },
    {
     "name": "stdout",
     "output_type": "stream",
     "text": [
      "\r\n",
      "Epoch 469/600:  78%|███████▊  | 468/600 [6:24:12<1:44:14, 47.38s/it, v_num=in_1, total_loss_train=545, kl_local_train=81.5, metric_mi|age_categorical_train=0.216]"
     ]
    },
    {
     "name": "stdout",
     "output_type": "stream",
     "text": [
      "\r\n",
      "Epoch 469/600:  78%|███████▊  | 469/600 [6:24:59<1:43:07, 47.23s/it, v_num=in_1, total_loss_train=545, kl_local_train=81.5, metric_mi|age_categorical_train=0.216]"
     ]
    },
    {
     "name": "stdout",
     "output_type": "stream",
     "text": [
      "\r\n",
      "Epoch 469/600:  78%|███████▊  | 469/600 [6:24:59<1:43:07, 47.23s/it, v_num=in_1, total_loss_train=545, kl_local_train=80.7, metric_mi|age_categorical_train=0.216]"
     ]
    },
    {
     "name": "stdout",
     "output_type": "stream",
     "text": [
      "\r\n",
      "Epoch 470/600:  78%|███████▊  | 469/600 [6:24:59<1:43:07, 47.23s/it, v_num=in_1, total_loss_train=545, kl_local_train=80.7, metric_mi|age_categorical_train=0.216]"
     ]
    },
    {
     "name": "stdout",
     "output_type": "stream",
     "text": [
      "\r\n",
      "Epoch 470/600:  78%|███████▊  | 470/600 [6:25:46<1:42:00, 47.08s/it, v_num=in_1, total_loss_train=545, kl_local_train=80.7, metric_mi|age_categorical_train=0.216]"
     ]
    },
    {
     "name": "stdout",
     "output_type": "stream",
     "text": [
      "\r\n",
      "Epoch 470/600:  78%|███████▊  | 470/600 [6:25:46<1:42:00, 47.08s/it, v_num=in_1, total_loss_train=545, kl_local_train=80.9, metric_mi|age_categorical_train=0.216]"
     ]
    },
    {
     "name": "stdout",
     "output_type": "stream",
     "text": [
      "\r\n",
      "Epoch 471/600:  78%|███████▊  | 470/600 [6:25:47<1:42:00, 47.08s/it, v_num=in_1, total_loss_train=545, kl_local_train=80.9, metric_mi|age_categorical_train=0.216]"
     ]
    },
    {
     "name": "stdout",
     "output_type": "stream",
     "text": [
      "\r\n",
      "Epoch 471/600:  78%|███████▊  | 471/600 [6:26:34<1:41:43, 47.32s/it, v_num=in_1, total_loss_train=545, kl_local_train=80.9, metric_mi|age_categorical_train=0.216]"
     ]
    },
    {
     "name": "stdout",
     "output_type": "stream",
     "text": [
      "\r\n",
      "Epoch 471/600:  78%|███████▊  | 471/600 [6:26:34<1:41:43, 47.32s/it, v_num=in_1, total_loss_train=545, kl_local_train=80.3, metric_mi|age_categorical_train=0.222]"
     ]
    },
    {
     "name": "stdout",
     "output_type": "stream",
     "text": [
      "\r\n",
      "Epoch 472/600:  78%|███████▊  | 471/600 [6:26:34<1:41:43, 47.32s/it, v_num=in_1, total_loss_train=545, kl_local_train=80.3, metric_mi|age_categorical_train=0.222]"
     ]
    },
    {
     "name": "stdout",
     "output_type": "stream",
     "text": [
      "\r\n",
      "Epoch 472/600:  79%|███████▊  | 472/600 [6:27:21<1:40:46, 47.24s/it, v_num=in_1, total_loss_train=545, kl_local_train=80.3, metric_mi|age_categorical_train=0.222]"
     ]
    },
    {
     "name": "stdout",
     "output_type": "stream",
     "text": [
      "\r\n",
      "Epoch 472/600:  79%|███████▊  | 472/600 [6:27:21<1:40:46, 47.24s/it, v_num=in_1, total_loss_train=545, kl_local_train=80.3, metric_mi|age_categorical_train=0.222]"
     ]
    },
    {
     "name": "stdout",
     "output_type": "stream",
     "text": [
      "\r\n",
      "Epoch 473/600:  79%|███████▊  | 472/600 [6:27:21<1:40:46, 47.24s/it, v_num=in_1, total_loss_train=545, kl_local_train=80.3, metric_mi|age_categorical_train=0.222]"
     ]
    },
    {
     "name": "stdout",
     "output_type": "stream",
     "text": [
      "\r\n",
      "Epoch 473/600:  79%|███████▉  | 473/600 [6:28:08<1:39:46, 47.14s/it, v_num=in_1, total_loss_train=545, kl_local_train=80.3, metric_mi|age_categorical_train=0.222]"
     ]
    },
    {
     "name": "stdout",
     "output_type": "stream",
     "text": [
      "\r\n",
      "Epoch 473/600:  79%|███████▉  | 473/600 [6:28:08<1:39:46, 47.14s/it, v_num=in_1, total_loss_train=545, kl_local_train=80.6, metric_mi|age_categorical_train=0.222]"
     ]
    },
    {
     "name": "stdout",
     "output_type": "stream",
     "text": [
      "\r\n",
      "Epoch 474/600:  79%|███████▉  | 473/600 [6:28:08<1:39:46, 47.14s/it, v_num=in_1, total_loss_train=545, kl_local_train=80.6, metric_mi|age_categorical_train=0.222]"
     ]
    },
    {
     "name": "stdout",
     "output_type": "stream",
     "text": [
      "\r\n",
      "Epoch 474/600:  79%|███████▉  | 474/600 [6:28:55<1:38:44, 47.02s/it, v_num=in_1, total_loss_train=545, kl_local_train=80.6, metric_mi|age_categorical_train=0.222]"
     ]
    },
    {
     "name": "stdout",
     "output_type": "stream",
     "text": [
      "\r\n",
      "Epoch 474/600:  79%|███████▉  | 474/600 [6:28:55<1:38:44, 47.02s/it, v_num=in_1, total_loss_train=546, kl_local_train=80.5, metric_mi|age_categorical_train=0.222]"
     ]
    },
    {
     "name": "stdout",
     "output_type": "stream",
     "text": [
      "\r\n",
      "Epoch 475/600:  79%|███████▉  | 474/600 [6:28:55<1:38:44, 47.02s/it, v_num=in_1, total_loss_train=546, kl_local_train=80.5, metric_mi|age_categorical_train=0.222]"
     ]
    },
    {
     "name": "stdout",
     "output_type": "stream",
     "text": [
      "\r\n",
      "Epoch 475/600:  79%|███████▉  | 475/600 [6:29:45<1:39:49, 47.91s/it, v_num=in_1, total_loss_train=546, kl_local_train=80.5, metric_mi|age_categorical_train=0.222]"
     ]
    },
    {
     "name": "stdout",
     "output_type": "stream",
     "text": [
      "\r\n",
      "Epoch 475/600:  79%|███████▉  | 475/600 [6:29:45<1:39:49, 47.91s/it, v_num=in_1, total_loss_train=546, kl_local_train=80.6, metric_mi|age_categorical_train=0.222]"
     ]
    },
    {
     "name": "stdout",
     "output_type": "stream",
     "text": [
      "\r\n",
      "Epoch 476/600:  79%|███████▉  | 475/600 [6:29:45<1:39:49, 47.91s/it, v_num=in_1, total_loss_train=546, kl_local_train=80.6, metric_mi|age_categorical_train=0.222]"
     ]
    },
    {
     "name": "stdout",
     "output_type": "stream",
     "text": [
      "\r\n",
      "Epoch 476/600:  79%|███████▉  | 476/600 [6:30:32<1:38:53, 47.85s/it, v_num=in_1, total_loss_train=546, kl_local_train=80.6, metric_mi|age_categorical_train=0.222]"
     ]
    },
    {
     "name": "stdout",
     "output_type": "stream",
     "text": [
      "\r\n",
      "Epoch 476/600:  79%|███████▉  | 476/600 [6:30:32<1:38:53, 47.85s/it, v_num=in_1, total_loss_train=546, kl_local_train=80.5, metric_mi|age_categorical_train=0.223]"
     ]
    },
    {
     "name": "stdout",
     "output_type": "stream",
     "text": [
      "\r\n",
      "Epoch 477/600:  79%|███████▉  | 476/600 [6:30:32<1:38:53, 47.85s/it, v_num=in_1, total_loss_train=546, kl_local_train=80.5, metric_mi|age_categorical_train=0.223]"
     ]
    },
    {
     "name": "stdout",
     "output_type": "stream",
     "text": [
      "\r\n",
      "Epoch 477/600:  80%|███████▉  | 477/600 [6:31:19<1:37:32, 47.58s/it, v_num=in_1, total_loss_train=546, kl_local_train=80.5, metric_mi|age_categorical_train=0.223]"
     ]
    },
    {
     "name": "stdout",
     "output_type": "stream",
     "text": [
      "\r\n",
      "Epoch 477/600:  80%|███████▉  | 477/600 [6:31:19<1:37:32, 47.58s/it, v_num=in_1, total_loss_train=546, kl_local_train=80.3, metric_mi|age_categorical_train=0.223]"
     ]
    },
    {
     "name": "stdout",
     "output_type": "stream",
     "text": [
      "\r\n",
      "Epoch 478/600:  80%|███████▉  | 477/600 [6:31:19<1:37:32, 47.58s/it, v_num=in_1, total_loss_train=546, kl_local_train=80.3, metric_mi|age_categorical_train=0.223]"
     ]
    },
    {
     "name": "stdout",
     "output_type": "stream",
     "text": [
      "\r\n",
      "Epoch 478/600:  80%|███████▉  | 478/600 [6:32:06<1:36:21, 47.39s/it, v_num=in_1, total_loss_train=546, kl_local_train=80.3, metric_mi|age_categorical_train=0.223]"
     ]
    },
    {
     "name": "stdout",
     "output_type": "stream",
     "text": [
      "\r\n",
      "Epoch 478/600:  80%|███████▉  | 478/600 [6:32:06<1:36:21, 47.39s/it, v_num=in_1, total_loss_train=546, kl_local_train=80.3, metric_mi|age_categorical_train=0.223]"
     ]
    },
    {
     "name": "stdout",
     "output_type": "stream",
     "text": [
      "\r\n",
      "Epoch 479/600:  80%|███████▉  | 478/600 [6:32:06<1:36:21, 47.39s/it, v_num=in_1, total_loss_train=546, kl_local_train=80.3, metric_mi|age_categorical_train=0.223]"
     ]
    },
    {
     "name": "stdout",
     "output_type": "stream",
     "text": [
      "\r\n",
      "Epoch 479/600:  80%|███████▉  | 479/600 [6:32:53<1:35:16, 47.24s/it, v_num=in_1, total_loss_train=546, kl_local_train=80.3, metric_mi|age_categorical_train=0.223]"
     ]
    },
    {
     "name": "stdout",
     "output_type": "stream",
     "text": [
      "\r\n",
      "Epoch 479/600:  80%|███████▉  | 479/600 [6:32:53<1:35:16, 47.24s/it, v_num=in_1, total_loss_train=546, kl_local_train=79.9, metric_mi|age_categorical_train=0.223]"
     ]
    },
    {
     "name": "stdout",
     "output_type": "stream",
     "text": [
      "\r\n",
      "Epoch 480/600:  80%|███████▉  | 479/600 [6:32:53<1:35:16, 47.24s/it, v_num=in_1, total_loss_train=546, kl_local_train=79.9, metric_mi|age_categorical_train=0.223]"
     ]
    },
    {
     "name": "stdout",
     "output_type": "stream",
     "text": [
      "\r\n",
      "Epoch 480/600:  80%|████████  | 480/600 [6:33:43<1:36:16, 48.14s/it, v_num=in_1, total_loss_train=546, kl_local_train=79.9, metric_mi|age_categorical_train=0.223]"
     ]
    },
    {
     "name": "stdout",
     "output_type": "stream",
     "text": [
      "\r\n",
      "Epoch 480/600:  80%|████████  | 480/600 [6:33:43<1:36:16, 48.14s/it, v_num=in_1, total_loss_train=546, kl_local_train=80, metric_mi|age_categorical_train=0.223]  "
     ]
    },
    {
     "name": "stdout",
     "output_type": "stream",
     "text": [
      "\r\n",
      "Epoch 481/600:  80%|████████  | 480/600 [6:33:44<1:36:16, 48.14s/it, v_num=in_1, total_loss_train=546, kl_local_train=80, metric_mi|age_categorical_train=0.223]"
     ]
    },
    {
     "name": "stdout",
     "output_type": "stream",
     "text": [
      "\r\n",
      "Epoch 481/600:  80%|████████  | 481/600 [6:34:31<1:35:10, 47.99s/it, v_num=in_1, total_loss_train=546, kl_local_train=80, metric_mi|age_categorical_train=0.223]"
     ]
    },
    {
     "name": "stdout",
     "output_type": "stream",
     "text": [
      "\r\n",
      "Epoch 481/600:  80%|████████  | 481/600 [6:34:31<1:35:10, 47.99s/it, v_num=in_1, total_loss_train=546, kl_local_train=79.8, metric_mi|age_categorical_train=0.224]"
     ]
    },
    {
     "name": "stdout",
     "output_type": "stream",
     "text": [
      "\r\n",
      "Epoch 482/600:  80%|████████  | 481/600 [6:34:31<1:35:10, 47.99s/it, v_num=in_1, total_loss_train=546, kl_local_train=79.8, metric_mi|age_categorical_train=0.224]"
     ]
    },
    {
     "name": "stdout",
     "output_type": "stream",
     "text": [
      "\r\n",
      "Epoch 482/600:  80%|████████  | 482/600 [6:35:18<1:33:44, 47.67s/it, v_num=in_1, total_loss_train=546, kl_local_train=79.8, metric_mi|age_categorical_train=0.224]"
     ]
    },
    {
     "name": "stdout",
     "output_type": "stream",
     "text": [
      "\r\n",
      "Epoch 482/600:  80%|████████  | 482/600 [6:35:18<1:33:44, 47.67s/it, v_num=in_1, total_loss_train=546, kl_local_train=79.9, metric_mi|age_categorical_train=0.224]"
     ]
    },
    {
     "name": "stdout",
     "output_type": "stream",
     "text": [
      "\r\n",
      "Epoch 483/600:  80%|████████  | 482/600 [6:35:18<1:33:44, 47.67s/it, v_num=in_1, total_loss_train=546, kl_local_train=79.9, metric_mi|age_categorical_train=0.224]"
     ]
    },
    {
     "name": "stdout",
     "output_type": "stream",
     "text": [
      "\r\n",
      "Epoch 483/600:  80%|████████  | 483/600 [6:36:05<1:32:31, 47.45s/it, v_num=in_1, total_loss_train=546, kl_local_train=79.9, metric_mi|age_categorical_train=0.224]"
     ]
    },
    {
     "name": "stdout",
     "output_type": "stream",
     "text": [
      "\r\n",
      "Epoch 483/600:  80%|████████  | 483/600 [6:36:05<1:32:31, 47.45s/it, v_num=in_1, total_loss_train=546, kl_local_train=79.6, metric_mi|age_categorical_train=0.224]"
     ]
    },
    {
     "name": "stdout",
     "output_type": "stream",
     "text": [
      "\r\n",
      "Epoch 484/600:  80%|████████  | 483/600 [6:36:05<1:32:31, 47.45s/it, v_num=in_1, total_loss_train=546, kl_local_train=79.6, metric_mi|age_categorical_train=0.224]"
     ]
    },
    {
     "name": "stdout",
     "output_type": "stream",
     "text": [
      "\r\n",
      "Epoch 484/600:  81%|████████  | 484/600 [6:36:52<1:31:30, 47.33s/it, v_num=in_1, total_loss_train=546, kl_local_train=79.6, metric_mi|age_categorical_train=0.224]"
     ]
    },
    {
     "name": "stdout",
     "output_type": "stream",
     "text": [
      "\r\n",
      "Epoch 484/600:  81%|████████  | 484/600 [6:36:52<1:31:30, 47.33s/it, v_num=in_1, total_loss_train=546, kl_local_train=79.4, metric_mi|age_categorical_train=0.224]"
     ]
    },
    {
     "name": "stdout",
     "output_type": "stream",
     "text": [
      "\r\n",
      "Epoch 485/600:  81%|████████  | 484/600 [6:36:52<1:31:30, 47.33s/it, v_num=in_1, total_loss_train=546, kl_local_train=79.4, metric_mi|age_categorical_train=0.224]"
     ]
    },
    {
     "name": "stdout",
     "output_type": "stream",
     "text": [
      "\r\n",
      "Epoch 485/600:  81%|████████  | 485/600 [6:37:42<1:32:31, 48.28s/it, v_num=in_1, total_loss_train=546, kl_local_train=79.4, metric_mi|age_categorical_train=0.224]"
     ]
    },
    {
     "name": "stdout",
     "output_type": "stream",
     "text": [
      "\r\n",
      "Epoch 485/600:  81%|████████  | 485/600 [6:37:42<1:32:31, 48.28s/it, v_num=in_1, total_loss_train=546, kl_local_train=79.5, metric_mi|age_categorical_train=0.224]"
     ]
    },
    {
     "name": "stdout",
     "output_type": "stream",
     "text": [
      "\r\n",
      "Epoch 486/600:  81%|████████  | 485/600 [6:37:43<1:32:31, 48.28s/it, v_num=in_1, total_loss_train=546, kl_local_train=79.5, metric_mi|age_categorical_train=0.224]"
     ]
    },
    {
     "name": "stdout",
     "output_type": "stream",
     "text": [
      "\r\n",
      "Epoch 486/600:  81%|████████  | 486/600 [6:38:30<1:31:25, 48.12s/it, v_num=in_1, total_loss_train=546, kl_local_train=79.5, metric_mi|age_categorical_train=0.224]"
     ]
    },
    {
     "name": "stdout",
     "output_type": "stream",
     "text": [
      "\r\n",
      "Epoch 486/600:  81%|████████  | 486/600 [6:38:30<1:31:25, 48.12s/it, v_num=in_1, total_loss_train=546, kl_local_train=79.5, metric_mi|age_categorical_train=0.222]"
     ]
    },
    {
     "name": "stdout",
     "output_type": "stream",
     "text": [
      "\r\n",
      "Epoch 487/600:  81%|████████  | 486/600 [6:38:30<1:31:25, 48.12s/it, v_num=in_1, total_loss_train=546, kl_local_train=79.5, metric_mi|age_categorical_train=0.222]"
     ]
    },
    {
     "name": "stdout",
     "output_type": "stream",
     "text": [
      "\r\n",
      "Epoch 487/600:  81%|████████  | 487/600 [6:39:17<1:29:55, 47.75s/it, v_num=in_1, total_loss_train=546, kl_local_train=79.5, metric_mi|age_categorical_train=0.222]"
     ]
    },
    {
     "name": "stdout",
     "output_type": "stream",
     "text": [
      "\r\n",
      "Epoch 487/600:  81%|████████  | 487/600 [6:39:17<1:29:55, 47.75s/it, v_num=in_1, total_loss_train=546, kl_local_train=79.3, metric_mi|age_categorical_train=0.222]"
     ]
    },
    {
     "name": "stdout",
     "output_type": "stream",
     "text": [
      "\r\n",
      "Epoch 488/600:  81%|████████  | 487/600 [6:39:17<1:29:55, 47.75s/it, v_num=in_1, total_loss_train=546, kl_local_train=79.3, metric_mi|age_categorical_train=0.222]"
     ]
    },
    {
     "name": "stdout",
     "output_type": "stream",
     "text": [
      "\r\n",
      "Epoch 488/600:  81%|████████▏ | 488/600 [6:40:04<1:28:39, 47.50s/it, v_num=in_1, total_loss_train=546, kl_local_train=79.3, metric_mi|age_categorical_train=0.222]"
     ]
    },
    {
     "name": "stdout",
     "output_type": "stream",
     "text": [
      "\r\n",
      "Epoch 488/600:  81%|████████▏ | 488/600 [6:40:04<1:28:39, 47.50s/it, v_num=in_1, total_loss_train=546, kl_local_train=79.2, metric_mi|age_categorical_train=0.222]"
     ]
    },
    {
     "name": "stdout",
     "output_type": "stream",
     "text": [
      "\r\n",
      "Epoch 489/600:  81%|████████▏ | 488/600 [6:40:04<1:28:39, 47.50s/it, v_num=in_1, total_loss_train=546, kl_local_train=79.2, metric_mi|age_categorical_train=0.222]"
     ]
    },
    {
     "name": "stdout",
     "output_type": "stream",
     "text": [
      "\r\n",
      "Epoch 489/600:  82%|████████▏ | 489/600 [6:40:51<1:27:31, 47.31s/it, v_num=in_1, total_loss_train=546, kl_local_train=79.2, metric_mi|age_categorical_train=0.222]"
     ]
    },
    {
     "name": "stdout",
     "output_type": "stream",
     "text": [
      "\r\n",
      "Epoch 489/600:  82%|████████▏ | 489/600 [6:40:51<1:27:31, 47.31s/it, v_num=in_1, total_loss_train=547, kl_local_train=78.9, metric_mi|age_categorical_train=0.222]"
     ]
    },
    {
     "name": "stdout",
     "output_type": "stream",
     "text": [
      "\r\n",
      "Epoch 490/600:  82%|████████▏ | 489/600 [6:40:51<1:27:31, 47.31s/it, v_num=in_1, total_loss_train=547, kl_local_train=78.9, metric_mi|age_categorical_train=0.222]"
     ]
    },
    {
     "name": "stdout",
     "output_type": "stream",
     "text": [
      "\r\n",
      "Epoch 490/600:  82%|████████▏ | 490/600 [6:41:41<1:28:11, 48.11s/it, v_num=in_1, total_loss_train=547, kl_local_train=78.9, metric_mi|age_categorical_train=0.222]"
     ]
    },
    {
     "name": "stdout",
     "output_type": "stream",
     "text": [
      "\r\n",
      "Epoch 490/600:  82%|████████▏ | 490/600 [6:41:41<1:28:11, 48.11s/it, v_num=in_1, total_loss_train=547, kl_local_train=79.3, metric_mi|age_categorical_train=0.222]"
     ]
    },
    {
     "name": "stdout",
     "output_type": "stream",
     "text": [
      "\r\n",
      "Epoch 491/600:  82%|████████▏ | 490/600 [6:41:42<1:28:11, 48.11s/it, v_num=in_1, total_loss_train=547, kl_local_train=79.3, metric_mi|age_categorical_train=0.222]"
     ]
    },
    {
     "name": "stdout",
     "output_type": "stream",
     "text": [
      "\r\n",
      "Epoch 491/600:  82%|████████▏ | 491/600 [6:42:28<1:27:00, 47.89s/it, v_num=in_1, total_loss_train=547, kl_local_train=79.3, metric_mi|age_categorical_train=0.222]"
     ]
    },
    {
     "name": "stdout",
     "output_type": "stream",
     "text": [
      "\r\n",
      "Epoch 491/600:  82%|████████▏ | 491/600 [6:42:28<1:27:00, 47.89s/it, v_num=in_1, total_loss_train=547, kl_local_train=79.2, metric_mi|age_categorical_train=0.221]"
     ]
    },
    {
     "name": "stdout",
     "output_type": "stream",
     "text": [
      "\r\n",
      "Epoch 492/600:  82%|████████▏ | 491/600 [6:42:28<1:27:00, 47.89s/it, v_num=in_1, total_loss_train=547, kl_local_train=79.2, metric_mi|age_categorical_train=0.221]"
     ]
    },
    {
     "name": "stdout",
     "output_type": "stream",
     "text": [
      "\r\n",
      "Epoch 492/600:  82%|████████▏ | 492/600 [6:43:15<1:25:30, 47.50s/it, v_num=in_1, total_loss_train=547, kl_local_train=79.2, metric_mi|age_categorical_train=0.221]"
     ]
    },
    {
     "name": "stdout",
     "output_type": "stream",
     "text": [
      "\r\n",
      "Epoch 492/600:  82%|████████▏ | 492/600 [6:43:15<1:25:30, 47.50s/it, v_num=in_1, total_loss_train=547, kl_local_train=78.6, metric_mi|age_categorical_train=0.221]"
     ]
    },
    {
     "name": "stdout",
     "output_type": "stream",
     "text": [
      "\r\n",
      "Epoch 493/600:  82%|████████▏ | 492/600 [6:43:15<1:25:30, 47.50s/it, v_num=in_1, total_loss_train=547, kl_local_train=78.6, metric_mi|age_categorical_train=0.221]"
     ]
    },
    {
     "name": "stdout",
     "output_type": "stream",
     "text": [
      "\r\n",
      "Epoch 493/600:  82%|████████▏ | 493/600 [6:44:01<1:24:08, 47.18s/it, v_num=in_1, total_loss_train=547, kl_local_train=78.6, metric_mi|age_categorical_train=0.221]"
     ]
    },
    {
     "name": "stdout",
     "output_type": "stream",
     "text": [
      "\r\n",
      "Epoch 493/600:  82%|████████▏ | 493/600 [6:44:01<1:24:08, 47.18s/it, v_num=in_1, total_loss_train=547, kl_local_train=78.7, metric_mi|age_categorical_train=0.221]"
     ]
    },
    {
     "name": "stdout",
     "output_type": "stream",
     "text": [
      "\r\n",
      "Epoch 494/600:  82%|████████▏ | 493/600 [6:44:01<1:24:08, 47.18s/it, v_num=in_1, total_loss_train=547, kl_local_train=78.7, metric_mi|age_categorical_train=0.221]"
     ]
    },
    {
     "name": "stdout",
     "output_type": "stream",
     "text": [
      "\r\n",
      "Epoch 494/600:  82%|████████▏ | 494/600 [6:44:48<1:22:58, 46.97s/it, v_num=in_1, total_loss_train=547, kl_local_train=78.7, metric_mi|age_categorical_train=0.221]"
     ]
    },
    {
     "name": "stdout",
     "output_type": "stream",
     "text": [
      "\r\n",
      "Epoch 494/600:  82%|████████▏ | 494/600 [6:44:48<1:22:58, 46.97s/it, v_num=in_1, total_loss_train=547, kl_local_train=78.4, metric_mi|age_categorical_train=0.221]"
     ]
    },
    {
     "name": "stdout",
     "output_type": "stream",
     "text": [
      "\r\n",
      "Epoch 495/600:  82%|████████▏ | 494/600 [6:44:48<1:22:58, 46.97s/it, v_num=in_1, total_loss_train=547, kl_local_train=78.4, metric_mi|age_categorical_train=0.221]"
     ]
    },
    {
     "name": "stdout",
     "output_type": "stream",
     "text": [
      "\r\n",
      "Epoch 495/600:  82%|████████▎ | 495/600 [6:45:37<1:23:37, 47.78s/it, v_num=in_1, total_loss_train=547, kl_local_train=78.4, metric_mi|age_categorical_train=0.221]"
     ]
    },
    {
     "name": "stdout",
     "output_type": "stream",
     "text": [
      "\r\n",
      "Epoch 495/600:  82%|████████▎ | 495/600 [6:45:37<1:23:37, 47.78s/it, v_num=in_1, total_loss_train=547, kl_local_train=78.9, metric_mi|age_categorical_train=0.221]"
     ]
    },
    {
     "name": "stdout",
     "output_type": "stream",
     "text": [
      "\r\n",
      "Epoch 496/600:  82%|████████▎ | 495/600 [6:45:38<1:23:37, 47.78s/it, v_num=in_1, total_loss_train=547, kl_local_train=78.9, metric_mi|age_categorical_train=0.221]"
     ]
    },
    {
     "name": "stdout",
     "output_type": "stream",
     "text": [
      "\r\n",
      "Epoch 496/600:  83%|████████▎ | 496/600 [6:46:25<1:22:37, 47.67s/it, v_num=in_1, total_loss_train=547, kl_local_train=78.9, metric_mi|age_categorical_train=0.221]"
     ]
    },
    {
     "name": "stdout",
     "output_type": "stream",
     "text": [
      "\r\n",
      "Epoch 496/600:  83%|████████▎ | 496/600 [6:46:25<1:22:37, 47.67s/it, v_num=in_1, total_loss_train=547, kl_local_train=78.6, metric_mi|age_categorical_train=0.217]"
     ]
    },
    {
     "name": "stdout",
     "output_type": "stream",
     "text": [
      "\r\n",
      "Epoch 497/600:  83%|████████▎ | 496/600 [6:46:25<1:22:37, 47.67s/it, v_num=in_1, total_loss_train=547, kl_local_train=78.6, metric_mi|age_categorical_train=0.217]"
     ]
    },
    {
     "name": "stdout",
     "output_type": "stream",
     "text": [
      "\r\n",
      "Epoch 497/600:  83%|████████▎ | 497/600 [6:47:11<1:21:11, 47.29s/it, v_num=in_1, total_loss_train=547, kl_local_train=78.6, metric_mi|age_categorical_train=0.217]"
     ]
    },
    {
     "name": "stdout",
     "output_type": "stream",
     "text": [
      "\r\n",
      "Epoch 497/600:  83%|████████▎ | 497/600 [6:47:11<1:21:11, 47.29s/it, v_num=in_1, total_loss_train=547, kl_local_train=78.8, metric_mi|age_categorical_train=0.217]"
     ]
    },
    {
     "name": "stdout",
     "output_type": "stream",
     "text": [
      "\r\n",
      "Epoch 498/600:  83%|████████▎ | 497/600 [6:47:11<1:21:11, 47.29s/it, v_num=in_1, total_loss_train=547, kl_local_train=78.8, metric_mi|age_categorical_train=0.217]"
     ]
    },
    {
     "name": "stdout",
     "output_type": "stream",
     "text": [
      "\r\n",
      "Epoch 498/600:  83%|████████▎ | 498/600 [6:47:58<1:20:06, 47.12s/it, v_num=in_1, total_loss_train=547, kl_local_train=78.8, metric_mi|age_categorical_train=0.217]"
     ]
    },
    {
     "name": "stdout",
     "output_type": "stream",
     "text": [
      "\r\n",
      "Epoch 498/600:  83%|████████▎ | 498/600 [6:47:58<1:20:06, 47.12s/it, v_num=in_1, total_loss_train=547, kl_local_train=78.8, metric_mi|age_categorical_train=0.217]"
     ]
    },
    {
     "name": "stdout",
     "output_type": "stream",
     "text": [
      "\r\n",
      "Epoch 499/600:  83%|████████▎ | 498/600 [6:47:58<1:20:06, 47.12s/it, v_num=in_1, total_loss_train=547, kl_local_train=78.8, metric_mi|age_categorical_train=0.217]"
     ]
    },
    {
     "name": "stdout",
     "output_type": "stream",
     "text": [
      "\r\n",
      "Epoch 499/600:  83%|████████▎ | 499/600 [6:48:44<1:18:59, 46.93s/it, v_num=in_1, total_loss_train=547, kl_local_train=78.8, metric_mi|age_categorical_train=0.217]"
     ]
    },
    {
     "name": "stdout",
     "output_type": "stream",
     "text": [
      "\r\n",
      "Epoch 499/600:  83%|████████▎ | 499/600 [6:48:44<1:18:59, 46.93s/it, v_num=in_1, total_loss_train=547, kl_local_train=78.5, metric_mi|age_categorical_train=0.217]"
     ]
    },
    {
     "name": "stdout",
     "output_type": "stream",
     "text": [
      "\r\n",
      "Epoch 500/600:  83%|████████▎ | 499/600 [6:48:44<1:18:59, 46.93s/it, v_num=in_1, total_loss_train=547, kl_local_train=78.5, metric_mi|age_categorical_train=0.217]"
     ]
    },
    {
     "name": "stdout",
     "output_type": "stream",
     "text": [
      "\r\n",
      "Epoch 500/600:  83%|████████▎ | 500/600 [6:49:33<1:19:03, 47.44s/it, v_num=in_1, total_loss_train=547, kl_local_train=78.5, metric_mi|age_categorical_train=0.217]"
     ]
    },
    {
     "name": "stdout",
     "output_type": "stream",
     "text": [
      "\r\n",
      "Epoch 500/600:  83%|████████▎ | 500/600 [6:49:33<1:19:03, 47.44s/it, v_num=in_1, total_loss_train=548, kl_local_train=78.3, metric_mi|age_categorical_train=0.217]"
     ]
    },
    {
     "name": "stdout",
     "output_type": "stream",
     "text": [
      "\r\n",
      "Epoch 501/600:  83%|████████▎ | 500/600 [6:49:34<1:19:03, 47.44s/it, v_num=in_1, total_loss_train=548, kl_local_train=78.3, metric_mi|age_categorical_train=0.217]"
     ]
    },
    {
     "name": "stdout",
     "output_type": "stream",
     "text": [
      "\r\n",
      "Epoch 501/600:  84%|████████▎ | 501/600 [6:50:20<1:18:13, 47.41s/it, v_num=in_1, total_loss_train=548, kl_local_train=78.3, metric_mi|age_categorical_train=0.217]"
     ]
    },
    {
     "name": "stdout",
     "output_type": "stream",
     "text": [
      "\r\n",
      "Epoch 501/600:  84%|████████▎ | 501/600 [6:50:20<1:18:13, 47.41s/it, v_num=in_1, total_loss_train=548, kl_local_train=78.3, metric_mi|age_categorical_train=0.212]"
     ]
    },
    {
     "name": "stdout",
     "output_type": "stream",
     "text": [
      "\r\n",
      "Epoch 502/600:  84%|████████▎ | 501/600 [6:50:20<1:18:13, 47.41s/it, v_num=in_1, total_loss_train=548, kl_local_train=78.3, metric_mi|age_categorical_train=0.212]"
     ]
    },
    {
     "name": "stdout",
     "output_type": "stream",
     "text": [
      "\r\n",
      "Epoch 502/600:  84%|████████▎ | 502/600 [6:51:07<1:16:53, 47.08s/it, v_num=in_1, total_loss_train=548, kl_local_train=78.3, metric_mi|age_categorical_train=0.212]"
     ]
    },
    {
     "name": "stdout",
     "output_type": "stream",
     "text": [
      "\r\n",
      "Epoch 502/600:  84%|████████▎ | 502/600 [6:51:07<1:16:53, 47.08s/it, v_num=in_1, total_loss_train=547, kl_local_train=78.2, metric_mi|age_categorical_train=0.212]"
     ]
    },
    {
     "name": "stdout",
     "output_type": "stream",
     "text": [
      "\r\n",
      "Epoch 503/600:  84%|████████▎ | 502/600 [6:51:07<1:16:53, 47.08s/it, v_num=in_1, total_loss_train=547, kl_local_train=78.2, metric_mi|age_categorical_train=0.212]"
     ]
    },
    {
     "name": "stdout",
     "output_type": "stream",
     "text": [
      "\r\n",
      "Epoch 503/600:  84%|████████▍ | 503/600 [6:51:53<1:15:47, 46.88s/it, v_num=in_1, total_loss_train=547, kl_local_train=78.2, metric_mi|age_categorical_train=0.212]"
     ]
    },
    {
     "name": "stdout",
     "output_type": "stream",
     "text": [
      "\r\n",
      "Epoch 503/600:  84%|████████▍ | 503/600 [6:51:53<1:15:47, 46.88s/it, v_num=in_1, total_loss_train=547, kl_local_train=77.9, metric_mi|age_categorical_train=0.212]"
     ]
    },
    {
     "name": "stdout",
     "output_type": "stream",
     "text": [
      "\r\n",
      "Epoch 504/600:  84%|████████▍ | 503/600 [6:51:53<1:15:47, 46.88s/it, v_num=in_1, total_loss_train=547, kl_local_train=77.9, metric_mi|age_categorical_train=0.212]"
     ]
    },
    {
     "name": "stdout",
     "output_type": "stream",
     "text": [
      "\r\n",
      "Epoch 504/600:  84%|████████▍ | 504/600 [6:52:40<1:14:53, 46.80s/it, v_num=in_1, total_loss_train=547, kl_local_train=77.9, metric_mi|age_categorical_train=0.212]"
     ]
    },
    {
     "name": "stdout",
     "output_type": "stream",
     "text": [
      "\r\n",
      "Epoch 504/600:  84%|████████▍ | 504/600 [6:52:40<1:14:53, 46.80s/it, v_num=in_1, total_loss_train=548, kl_local_train=77.7, metric_mi|age_categorical_train=0.212]"
     ]
    },
    {
     "name": "stdout",
     "output_type": "stream",
     "text": [
      "\r\n",
      "Epoch 505/600:  84%|████████▍ | 504/600 [6:52:40<1:14:53, 46.80s/it, v_num=in_1, total_loss_train=548, kl_local_train=77.7, metric_mi|age_categorical_train=0.212]"
     ]
    },
    {
     "name": "stdout",
     "output_type": "stream",
     "text": [
      "\r\n",
      "Epoch 505/600:  84%|████████▍ | 505/600 [6:53:28<1:14:54, 47.31s/it, v_num=in_1, total_loss_train=548, kl_local_train=77.7, metric_mi|age_categorical_train=0.212]"
     ]
    },
    {
     "name": "stdout",
     "output_type": "stream",
     "text": [
      "\r\n",
      "Epoch 505/600:  84%|████████▍ | 505/600 [6:53:28<1:14:54, 47.31s/it, v_num=in_1, total_loss_train=548, kl_local_train=78, metric_mi|age_categorical_train=0.212]  "
     ]
    },
    {
     "name": "stdout",
     "output_type": "stream",
     "text": [
      "\r\n",
      "Epoch 506/600:  84%|████████▍ | 505/600 [6:53:29<1:14:54, 47.31s/it, v_num=in_1, total_loss_train=548, kl_local_train=78, metric_mi|age_categorical_train=0.212]"
     ]
    },
    {
     "name": "stdout",
     "output_type": "stream",
     "text": [
      "\r\n",
      "Epoch 506/600:  84%|████████▍ | 506/600 [6:54:16<1:14:12, 47.36s/it, v_num=in_1, total_loss_train=548, kl_local_train=78, metric_mi|age_categorical_train=0.212]"
     ]
    },
    {
     "name": "stdout",
     "output_type": "stream",
     "text": [
      "\r\n",
      "Epoch 506/600:  84%|████████▍ | 506/600 [6:54:16<1:14:12, 47.36s/it, v_num=in_1, total_loss_train=548, kl_local_train=78.1, metric_mi|age_categorical_train=0.208]"
     ]
    },
    {
     "name": "stdout",
     "output_type": "stream",
     "text": [
      "\r\n",
      "Epoch 507/600:  84%|████████▍ | 506/600 [6:54:16<1:14:12, 47.36s/it, v_num=in_1, total_loss_train=548, kl_local_train=78.1, metric_mi|age_categorical_train=0.208]"
     ]
    },
    {
     "name": "stdout",
     "output_type": "stream",
     "text": [
      "\r\n",
      "Epoch 507/600:  84%|████████▍ | 507/600 [6:55:02<1:13:04, 47.15s/it, v_num=in_1, total_loss_train=548, kl_local_train=78.1, metric_mi|age_categorical_train=0.208]"
     ]
    },
    {
     "name": "stdout",
     "output_type": "stream",
     "text": [
      "\r\n",
      "Epoch 507/600:  84%|████████▍ | 507/600 [6:55:02<1:13:04, 47.15s/it, v_num=in_1, total_loss_train=548, kl_local_train=77.9, metric_mi|age_categorical_train=0.208]"
     ]
    },
    {
     "name": "stdout",
     "output_type": "stream",
     "text": [
      "\r\n",
      "Epoch 508/600:  84%|████████▍ | 507/600 [6:55:02<1:13:04, 47.15s/it, v_num=in_1, total_loss_train=548, kl_local_train=77.9, metric_mi|age_categorical_train=0.208]"
     ]
    },
    {
     "name": "stdout",
     "output_type": "stream",
     "text": [
      "\r\n",
      "Epoch 508/600:  85%|████████▍ | 508/600 [6:55:49<1:12:00, 46.96s/it, v_num=in_1, total_loss_train=548, kl_local_train=77.9, metric_mi|age_categorical_train=0.208]"
     ]
    },
    {
     "name": "stdout",
     "output_type": "stream",
     "text": [
      "\r\n",
      "Epoch 508/600:  85%|████████▍ | 508/600 [6:55:49<1:12:00, 46.96s/it, v_num=in_1, total_loss_train=548, kl_local_train=77.7, metric_mi|age_categorical_train=0.208]"
     ]
    },
    {
     "name": "stdout",
     "output_type": "stream",
     "text": [
      "\r\n",
      "Epoch 509/600:  85%|████████▍ | 508/600 [6:55:49<1:12:00, 46.96s/it, v_num=in_1, total_loss_train=548, kl_local_train=77.7, metric_mi|age_categorical_train=0.208]"
     ]
    },
    {
     "name": "stdout",
     "output_type": "stream",
     "text": [
      "\r\n",
      "Epoch 509/600:  85%|████████▍ | 509/600 [6:56:35<1:11:01, 46.83s/it, v_num=in_1, total_loss_train=548, kl_local_train=77.7, metric_mi|age_categorical_train=0.208]"
     ]
    },
    {
     "name": "stdout",
     "output_type": "stream",
     "text": [
      "\r\n",
      "Epoch 509/600:  85%|████████▍ | 509/600 [6:56:35<1:11:01, 46.83s/it, v_num=in_1, total_loss_train=548, kl_local_train=77.6, metric_mi|age_categorical_train=0.208]"
     ]
    },
    {
     "name": "stdout",
     "output_type": "stream",
     "text": [
      "\r\n",
      "Epoch 510/600:  85%|████████▍ | 509/600 [6:56:35<1:11:01, 46.83s/it, v_num=in_1, total_loss_train=548, kl_local_train=77.6, metric_mi|age_categorical_train=0.208]"
     ]
    },
    {
     "name": "stdout",
     "output_type": "stream",
     "text": [
      "\r\n",
      "Epoch 510/600:  85%|████████▌ | 510/600 [6:57:22<1:10:07, 46.75s/it, v_num=in_1, total_loss_train=548, kl_local_train=77.6, metric_mi|age_categorical_train=0.208]"
     ]
    },
    {
     "name": "stdout",
     "output_type": "stream",
     "text": [
      "\r\n",
      "Epoch 510/600:  85%|████████▌ | 510/600 [6:57:22<1:10:07, 46.75s/it, v_num=in_1, total_loss_train=548, kl_local_train=77.8, metric_mi|age_categorical_train=0.208]"
     ]
    },
    {
     "name": "stdout",
     "output_type": "stream",
     "text": [
      "\r\n",
      "Epoch 511/600:  85%|████████▌ | 510/600 [6:57:23<1:10:07, 46.75s/it, v_num=in_1, total_loss_train=548, kl_local_train=77.8, metric_mi|age_categorical_train=0.208]"
     ]
    },
    {
     "name": "stdout",
     "output_type": "stream",
     "text": [
      "\r\n",
      "Epoch 511/600:  85%|████████▌ | 511/600 [6:58:10<1:09:47, 47.06s/it, v_num=in_1, total_loss_train=548, kl_local_train=77.8, metric_mi|age_categorical_train=0.208]"
     ]
    },
    {
     "name": "stdout",
     "output_type": "stream",
     "text": [
      "\r\n",
      "Epoch 511/600:  85%|████████▌ | 511/600 [6:58:10<1:09:47, 47.06s/it, v_num=in_1, total_loss_train=548, kl_local_train=77.7, metric_mi|age_categorical_train=0.209]"
     ]
    },
    {
     "name": "stdout",
     "output_type": "stream",
     "text": [
      "\r\n",
      "Epoch 512/600:  85%|████████▌ | 511/600 [6:58:10<1:09:47, 47.06s/it, v_num=in_1, total_loss_train=548, kl_local_train=77.7, metric_mi|age_categorical_train=0.209]"
     ]
    },
    {
     "name": "stdout",
     "output_type": "stream",
     "text": [
      "\r\n",
      "Epoch 512/600:  85%|████████▌ | 512/600 [6:58:56<1:08:52, 46.96s/it, v_num=in_1, total_loss_train=548, kl_local_train=77.7, metric_mi|age_categorical_train=0.209]"
     ]
    },
    {
     "name": "stdout",
     "output_type": "stream",
     "text": [
      "\r\n",
      "Epoch 512/600:  85%|████████▌ | 512/600 [6:58:56<1:08:52, 46.96s/it, v_num=in_1, total_loss_train=548, kl_local_train=77.4, metric_mi|age_categorical_train=0.209]"
     ]
    },
    {
     "name": "stdout",
     "output_type": "stream",
     "text": [
      "\r\n",
      "Epoch 513/600:  85%|████████▌ | 512/600 [6:58:56<1:08:52, 46.96s/it, v_num=in_1, total_loss_train=548, kl_local_train=77.4, metric_mi|age_categorical_train=0.209]"
     ]
    },
    {
     "name": "stdout",
     "output_type": "stream",
     "text": [
      "\r\n",
      "Epoch 513/600:  86%|████████▌ | 513/600 [6:59:43<1:07:58, 46.88s/it, v_num=in_1, total_loss_train=548, kl_local_train=77.4, metric_mi|age_categorical_train=0.209]"
     ]
    },
    {
     "name": "stdout",
     "output_type": "stream",
     "text": [
      "\r\n",
      "Epoch 513/600:  86%|████████▌ | 513/600 [6:59:43<1:07:58, 46.88s/it, v_num=in_1, total_loss_train=549, kl_local_train=77.3, metric_mi|age_categorical_train=0.209]"
     ]
    },
    {
     "name": "stdout",
     "output_type": "stream",
     "text": [
      "\r\n",
      "Epoch 514/600:  86%|████████▌ | 513/600 [6:59:43<1:07:58, 46.88s/it, v_num=in_1, total_loss_train=549, kl_local_train=77.3, metric_mi|age_categorical_train=0.209]"
     ]
    },
    {
     "name": "stdout",
     "output_type": "stream",
     "text": [
      "\r\n",
      "Epoch 514/600:  86%|████████▌ | 514/600 [7:00:30<1:07:09, 46.86s/it, v_num=in_1, total_loss_train=549, kl_local_train=77.3, metric_mi|age_categorical_train=0.209]"
     ]
    },
    {
     "name": "stdout",
     "output_type": "stream",
     "text": [
      "\r\n",
      "Epoch 514/600:  86%|████████▌ | 514/600 [7:00:30<1:07:09, 46.86s/it, v_num=in_1, total_loss_train=549, kl_local_train=77.4, metric_mi|age_categorical_train=0.209]"
     ]
    },
    {
     "name": "stdout",
     "output_type": "stream",
     "text": [
      "\r\n",
      "Epoch 515/600:  86%|████████▌ | 514/600 [7:00:30<1:07:09, 46.86s/it, v_num=in_1, total_loss_train=549, kl_local_train=77.4, metric_mi|age_categorical_train=0.209]"
     ]
    },
    {
     "name": "stdout",
     "output_type": "stream",
     "text": [
      "\r\n",
      "Epoch 515/600:  86%|████████▌ | 515/600 [7:01:16<1:06:14, 46.76s/it, v_num=in_1, total_loss_train=549, kl_local_train=77.4, metric_mi|age_categorical_train=0.209]"
     ]
    },
    {
     "name": "stdout",
     "output_type": "stream",
     "text": [
      "\r\n",
      "Epoch 515/600:  86%|████████▌ | 515/600 [7:01:16<1:06:14, 46.76s/it, v_num=in_1, total_loss_train=549, kl_local_train=77.6, metric_mi|age_categorical_train=0.209]"
     ]
    },
    {
     "name": "stdout",
     "output_type": "stream",
     "text": [
      "\r\n",
      "Epoch 516/600:  86%|████████▌ | 515/600 [7:01:17<1:06:14, 46.76s/it, v_num=in_1, total_loss_train=549, kl_local_train=77.6, metric_mi|age_categorical_train=0.209]"
     ]
    },
    {
     "name": "stdout",
     "output_type": "stream",
     "text": [
      "\r\n",
      "Epoch 516/600:  86%|████████▌ | 516/600 [7:02:04<1:05:56, 47.10s/it, v_num=in_1, total_loss_train=549, kl_local_train=77.6, metric_mi|age_categorical_train=0.209]"
     ]
    },
    {
     "name": "stdout",
     "output_type": "stream",
     "text": [
      "\r\n",
      "Epoch 516/600:  86%|████████▌ | 516/600 [7:02:04<1:05:56, 47.10s/it, v_num=in_1, total_loss_train=549, kl_local_train=77.3, metric_mi|age_categorical_train=0.219]"
     ]
    },
    {
     "name": "stdout",
     "output_type": "stream",
     "text": [
      "\r\n",
      "Epoch 517/600:  86%|████████▌ | 516/600 [7:02:04<1:05:56, 47.10s/it, v_num=in_1, total_loss_train=549, kl_local_train=77.3, metric_mi|age_categorical_train=0.219]"
     ]
    },
    {
     "name": "stdout",
     "output_type": "stream",
     "text": [
      "\r\n",
      "Epoch 517/600:  86%|████████▌ | 517/600 [7:02:51<1:05:06, 47.06s/it, v_num=in_1, total_loss_train=549, kl_local_train=77.3, metric_mi|age_categorical_train=0.219]"
     ]
    },
    {
     "name": "stdout",
     "output_type": "stream",
     "text": [
      "\r\n",
      "Epoch 517/600:  86%|████████▌ | 517/600 [7:02:51<1:05:06, 47.06s/it, v_num=in_1, total_loss_train=549, kl_local_train=77.2, metric_mi|age_categorical_train=0.219]"
     ]
    },
    {
     "name": "stdout",
     "output_type": "stream",
     "text": [
      "\r\n",
      "Epoch 518/600:  86%|████████▌ | 517/600 [7:02:51<1:05:06, 47.06s/it, v_num=in_1, total_loss_train=549, kl_local_train=77.2, metric_mi|age_categorical_train=0.219]"
     ]
    },
    {
     "name": "stdout",
     "output_type": "stream",
     "text": [
      "\r\n",
      "Epoch 518/600:  86%|████████▋ | 518/600 [7:03:38<1:04:12, 46.98s/it, v_num=in_1, total_loss_train=549, kl_local_train=77.2, metric_mi|age_categorical_train=0.219]"
     ]
    },
    {
     "name": "stdout",
     "output_type": "stream",
     "text": [
      "\r\n",
      "Epoch 518/600:  86%|████████▋ | 518/600 [7:03:38<1:04:12, 46.98s/it, v_num=in_1, total_loss_train=549, kl_local_train=77.1, metric_mi|age_categorical_train=0.219]"
     ]
    },
    {
     "name": "stdout",
     "output_type": "stream",
     "text": [
      "\r\n",
      "Epoch 519/600:  86%|████████▋ | 518/600 [7:03:38<1:04:12, 46.98s/it, v_num=in_1, total_loss_train=549, kl_local_train=77.1, metric_mi|age_categorical_train=0.219]"
     ]
    },
    {
     "name": "stdout",
     "output_type": "stream",
     "text": [
      "\r\n",
      "Epoch 519/600:  86%|████████▋ | 519/600 [7:04:25<1:03:19, 46.91s/it, v_num=in_1, total_loss_train=549, kl_local_train=77.1, metric_mi|age_categorical_train=0.219]"
     ]
    },
    {
     "name": "stdout",
     "output_type": "stream",
     "text": [
      "\r\n",
      "Epoch 519/600:  86%|████████▋ | 519/600 [7:04:25<1:03:19, 46.91s/it, v_num=in_1, total_loss_train=549, kl_local_train=77.2, metric_mi|age_categorical_train=0.219]"
     ]
    },
    {
     "name": "stdout",
     "output_type": "stream",
     "text": [
      "\r\n",
      "Epoch 520/600:  86%|████████▋ | 519/600 [7:04:25<1:03:19, 46.91s/it, v_num=in_1, total_loss_train=549, kl_local_train=77.2, metric_mi|age_categorical_train=0.219]"
     ]
    },
    {
     "name": "stdout",
     "output_type": "stream",
     "text": [
      "\r\n",
      "Epoch 520/600:  87%|████████▋ | 520/600 [7:05:11<1:02:24, 46.81s/it, v_num=in_1, total_loss_train=549, kl_local_train=77.2, metric_mi|age_categorical_train=0.219]"
     ]
    },
    {
     "name": "stdout",
     "output_type": "stream",
     "text": [
      "\r\n",
      "Epoch 520/600:  87%|████████▋ | 520/600 [7:05:11<1:02:24, 46.81s/it, v_num=in_1, total_loss_train=549, kl_local_train=76.9, metric_mi|age_categorical_train=0.219]"
     ]
    },
    {
     "name": "stdout",
     "output_type": "stream",
     "text": [
      "\r\n",
      "Epoch 521/600:  87%|████████▋ | 520/600 [7:05:12<1:02:24, 46.81s/it, v_num=in_1, total_loss_train=549, kl_local_train=76.9, metric_mi|age_categorical_train=0.219]"
     ]
    },
    {
     "name": "stdout",
     "output_type": "stream",
     "text": [
      "\r\n",
      "Epoch 521/600:  87%|████████▋ | 521/600 [7:05:59<1:02:03, 47.13s/it, v_num=in_1, total_loss_train=549, kl_local_train=76.9, metric_mi|age_categorical_train=0.219]"
     ]
    },
    {
     "name": "stdout",
     "output_type": "stream",
     "text": [
      "\r\n",
      "Epoch 521/600:  87%|████████▋ | 521/600 [7:05:59<1:02:03, 47.13s/it, v_num=in_1, total_loss_train=549, kl_local_train=76.8, metric_mi|age_categorical_train=0.225]"
     ]
    },
    {
     "name": "stdout",
     "output_type": "stream",
     "text": [
      "\r\n",
      "Epoch 522/600:  87%|████████▋ | 521/600 [7:05:59<1:02:03, 47.13s/it, v_num=in_1, total_loss_train=549, kl_local_train=76.8, metric_mi|age_categorical_train=0.225]"
     ]
    },
    {
     "name": "stdout",
     "output_type": "stream",
     "text": [
      "\r\n",
      "Epoch 522/600:  87%|████████▋ | 522/600 [7:06:46<1:01:09, 47.05s/it, v_num=in_1, total_loss_train=549, kl_local_train=76.8, metric_mi|age_categorical_train=0.225]"
     ]
    },
    {
     "name": "stdout",
     "output_type": "stream",
     "text": [
      "\r\n",
      "Epoch 522/600:  87%|████████▋ | 522/600 [7:06:46<1:01:09, 47.05s/it, v_num=in_1, total_loss_train=549, kl_local_train=76.6, metric_mi|age_categorical_train=0.225]"
     ]
    },
    {
     "name": "stdout",
     "output_type": "stream",
     "text": [
      "\r\n",
      "Epoch 523/600:  87%|████████▋ | 522/600 [7:06:46<1:01:09, 47.05s/it, v_num=in_1, total_loss_train=549, kl_local_train=76.6, metric_mi|age_categorical_train=0.225]"
     ]
    },
    {
     "name": "stdout",
     "output_type": "stream",
     "text": [
      "\r\n",
      "Epoch 523/600:  87%|████████▋ | 523/600 [7:07:33<1:00:15, 46.96s/it, v_num=in_1, total_loss_train=549, kl_local_train=76.6, metric_mi|age_categorical_train=0.225]"
     ]
    },
    {
     "name": "stdout",
     "output_type": "stream",
     "text": [
      "\r\n",
      "Epoch 523/600:  87%|████████▋ | 523/600 [7:07:33<1:00:15, 46.96s/it, v_num=in_1, total_loss_train=549, kl_local_train=76.6, metric_mi|age_categorical_train=0.225]"
     ]
    },
    {
     "name": "stdout",
     "output_type": "stream",
     "text": [
      "\r\n",
      "Epoch 524/600:  87%|████████▋ | 523/600 [7:07:33<1:00:15, 46.96s/it, v_num=in_1, total_loss_train=549, kl_local_train=76.6, metric_mi|age_categorical_train=0.225]"
     ]
    },
    {
     "name": "stdout",
     "output_type": "stream",
     "text": [
      "\r\n",
      "Epoch 524/600:  87%|████████▋ | 524/600 [7:08:20<59:29, 46.97s/it, v_num=in_1, total_loss_train=549, kl_local_train=76.6, metric_mi|age_categorical_train=0.225]  "
     ]
    },
    {
     "name": "stdout",
     "output_type": "stream",
     "text": [
      "\r\n",
      "Epoch 524/600:  87%|████████▋ | 524/600 [7:08:20<59:29, 46.97s/it, v_num=in_1, total_loss_train=549, kl_local_train=76.4, metric_mi|age_categorical_train=0.225]"
     ]
    },
    {
     "name": "stdout",
     "output_type": "stream",
     "text": [
      "\r\n",
      "Epoch 525/600:  87%|████████▋ | 524/600 [7:08:20<59:29, 46.97s/it, v_num=in_1, total_loss_train=549, kl_local_train=76.4, metric_mi|age_categorical_train=0.225]"
     ]
    },
    {
     "name": "stdout",
     "output_type": "stream",
     "text": [
      "\r\n",
      "Epoch 525/600:  88%|████████▊ | 525/600 [7:09:09<59:25, 47.54s/it, v_num=in_1, total_loss_train=549, kl_local_train=76.4, metric_mi|age_categorical_train=0.225]"
     ]
    },
    {
     "name": "stdout",
     "output_type": "stream",
     "text": [
      "\r\n",
      "Epoch 525/600:  88%|████████▊ | 525/600 [7:09:09<59:25, 47.54s/it, v_num=in_1, total_loss_train=549, kl_local_train=76.4, metric_mi|age_categorical_train=0.225]"
     ]
    },
    {
     "name": "stdout",
     "output_type": "stream",
     "text": [
      "\r\n",
      "Epoch 526/600:  88%|████████▊ | 525/600 [7:09:10<59:25, 47.54s/it, v_num=in_1, total_loss_train=549, kl_local_train=76.4, metric_mi|age_categorical_train=0.225]"
     ]
    },
    {
     "name": "stdout",
     "output_type": "stream",
     "text": [
      "\r\n",
      "Epoch 526/600:  88%|████████▊ | 526/600 [7:09:56<58:38, 47.55s/it, v_num=in_1, total_loss_train=549, kl_local_train=76.4, metric_mi|age_categorical_train=0.225]"
     ]
    },
    {
     "name": "stdout",
     "output_type": "stream",
     "text": [
      "\r\n",
      "Epoch 526/600:  88%|████████▊ | 526/600 [7:09:56<58:38, 47.55s/it, v_num=in_1, total_loss_train=550, kl_local_train=76.6, metric_mi|age_categorical_train=0.229]"
     ]
    },
    {
     "name": "stdout",
     "output_type": "stream",
     "text": [
      "\r\n",
      "Epoch 527/600:  88%|████████▊ | 526/600 [7:09:56<58:38, 47.55s/it, v_num=in_1, total_loss_train=550, kl_local_train=76.6, metric_mi|age_categorical_train=0.229]"
     ]
    },
    {
     "name": "stdout",
     "output_type": "stream",
     "text": [
      "\r\n",
      "Epoch 527/600:  88%|████████▊ | 527/600 [7:10:43<57:33, 47.31s/it, v_num=in_1, total_loss_train=550, kl_local_train=76.6, metric_mi|age_categorical_train=0.229]"
     ]
    },
    {
     "name": "stdout",
     "output_type": "stream",
     "text": [
      "\r\n",
      "Epoch 527/600:  88%|████████▊ | 527/600 [7:10:43<57:33, 47.31s/it, v_num=in_1, total_loss_train=550, kl_local_train=76.7, metric_mi|age_categorical_train=0.229]"
     ]
    },
    {
     "name": "stdout",
     "output_type": "stream",
     "text": [
      "\r\n",
      "Epoch 528/600:  88%|████████▊ | 527/600 [7:10:43<57:33, 47.31s/it, v_num=in_1, total_loss_train=550, kl_local_train=76.7, metric_mi|age_categorical_train=0.229]"
     ]
    },
    {
     "name": "stdout",
     "output_type": "stream",
     "text": [
      "\r\n",
      "Epoch 528/600:  88%|████████▊ | 528/600 [7:11:30<56:34, 47.14s/it, v_num=in_1, total_loss_train=550, kl_local_train=76.7, metric_mi|age_categorical_train=0.229]"
     ]
    },
    {
     "name": "stdout",
     "output_type": "stream",
     "text": [
      "\r\n",
      "Epoch 528/600:  88%|████████▊ | 528/600 [7:11:30<56:34, 47.14s/it, v_num=in_1, total_loss_train=549, kl_local_train=76, metric_mi|age_categorical_train=0.229]  "
     ]
    },
    {
     "name": "stdout",
     "output_type": "stream",
     "text": [
      "\r\n",
      "Epoch 529/600:  88%|████████▊ | 528/600 [7:11:30<56:34, 47.14s/it, v_num=in_1, total_loss_train=549, kl_local_train=76, metric_mi|age_categorical_train=0.229]"
     ]
    },
    {
     "name": "stdout",
     "output_type": "stream",
     "text": [
      "\r\n",
      "Epoch 529/600:  88%|████████▊ | 529/600 [7:12:17<55:38, 47.02s/it, v_num=in_1, total_loss_train=549, kl_local_train=76, metric_mi|age_categorical_train=0.229]"
     ]
    },
    {
     "name": "stdout",
     "output_type": "stream",
     "text": [
      "\r\n",
      "Epoch 529/600:  88%|████████▊ | 529/600 [7:12:17<55:38, 47.02s/it, v_num=in_1, total_loss_train=550, kl_local_train=76.4, metric_mi|age_categorical_train=0.229]"
     ]
    },
    {
     "name": "stdout",
     "output_type": "stream",
     "text": [
      "\r\n",
      "Epoch 530/600:  88%|████████▊ | 529/600 [7:12:17<55:38, 47.02s/it, v_num=in_1, total_loss_train=550, kl_local_train=76.4, metric_mi|age_categorical_train=0.229]"
     ]
    },
    {
     "name": "stdout",
     "output_type": "stream",
     "text": [
      "\r\n",
      "Epoch 530/600:  88%|████████▊ | 530/600 [7:13:05<55:27, 47.53s/it, v_num=in_1, total_loss_train=550, kl_local_train=76.4, metric_mi|age_categorical_train=0.229]"
     ]
    },
    {
     "name": "stdout",
     "output_type": "stream",
     "text": [
      "\r\n",
      "Epoch 530/600:  88%|████████▊ | 530/600 [7:13:05<55:27, 47.53s/it, v_num=in_1, total_loss_train=550, kl_local_train=76.4, metric_mi|age_categorical_train=0.229]"
     ]
    },
    {
     "name": "stdout",
     "output_type": "stream",
     "text": [
      "\r\n",
      "Epoch 531/600:  88%|████████▊ | 530/600 [7:13:06<55:27, 47.53s/it, v_num=in_1, total_loss_train=550, kl_local_train=76.4, metric_mi|age_categorical_train=0.229]"
     ]
    },
    {
     "name": "stdout",
     "output_type": "stream",
     "text": [
      "\r\n",
      "Epoch 531/600:  88%|████████▊ | 531/600 [7:13:53<54:43, 47.59s/it, v_num=in_1, total_loss_train=550, kl_local_train=76.4, metric_mi|age_categorical_train=0.229]"
     ]
    },
    {
     "name": "stdout",
     "output_type": "stream",
     "text": [
      "\r\n",
      "Epoch 531/600:  88%|████████▊ | 531/600 [7:13:53<54:43, 47.59s/it, v_num=in_1, total_loss_train=550, kl_local_train=76.1, metric_mi|age_categorical_train=0.23] "
     ]
    },
    {
     "name": "stdout",
     "output_type": "stream",
     "text": [
      "\r\n",
      "Epoch 532/600:  88%|████████▊ | 531/600 [7:13:53<54:43, 47.59s/it, v_num=in_1, total_loss_train=550, kl_local_train=76.1, metric_mi|age_categorical_train=0.23]"
     ]
    },
    {
     "name": "stdout",
     "output_type": "stream",
     "text": [
      "\r\n",
      "Epoch 532/600:  89%|████████▊ | 532/600 [7:14:40<53:40, 47.37s/it, v_num=in_1, total_loss_train=550, kl_local_train=76.1, metric_mi|age_categorical_train=0.23]"
     ]
    },
    {
     "name": "stdout",
     "output_type": "stream",
     "text": [
      "\r\n",
      "Epoch 532/600:  89%|████████▊ | 532/600 [7:14:40<53:40, 47.37s/it, v_num=in_1, total_loss_train=550, kl_local_train=75.9, metric_mi|age_categorical_train=0.23]"
     ]
    },
    {
     "name": "stdout",
     "output_type": "stream",
     "text": [
      "\r\n",
      "Epoch 533/600:  89%|████████▊ | 532/600 [7:14:40<53:40, 47.37s/it, v_num=in_1, total_loss_train=550, kl_local_train=75.9, metric_mi|age_categorical_train=0.23]"
     ]
    },
    {
     "name": "stdout",
     "output_type": "stream",
     "text": [
      "\r\n",
      "Epoch 533/600:  89%|████████▉ | 533/600 [7:15:27<52:41, 47.19s/it, v_num=in_1, total_loss_train=550, kl_local_train=75.9, metric_mi|age_categorical_train=0.23]"
     ]
    },
    {
     "name": "stdout",
     "output_type": "stream",
     "text": [
      "\r\n",
      "Epoch 533/600:  89%|████████▉ | 533/600 [7:15:27<52:41, 47.19s/it, v_num=in_1, total_loss_train=550, kl_local_train=76.1, metric_mi|age_categorical_train=0.23]"
     ]
    },
    {
     "name": "stdout",
     "output_type": "stream",
     "text": [
      "\r\n",
      "Epoch 534/600:  89%|████████▉ | 533/600 [7:15:27<52:41, 47.19s/it, v_num=in_1, total_loss_train=550, kl_local_train=76.1, metric_mi|age_categorical_train=0.23]"
     ]
    },
    {
     "name": "stdout",
     "output_type": "stream",
     "text": [
      "\r\n",
      "Epoch 534/600:  89%|████████▉ | 534/600 [7:16:13<51:45, 47.06s/it, v_num=in_1, total_loss_train=550, kl_local_train=76.1, metric_mi|age_categorical_train=0.23]"
     ]
    },
    {
     "name": "stdout",
     "output_type": "stream",
     "text": [
      "\r\n",
      "Epoch 534/600:  89%|████████▉ | 534/600 [7:16:13<51:45, 47.06s/it, v_num=in_1, total_loss_train=550, kl_local_train=76.1, metric_mi|age_categorical_train=0.23]"
     ]
    },
    {
     "name": "stdout",
     "output_type": "stream",
     "text": [
      "\r\n",
      "Epoch 535/600:  89%|████████▉ | 534/600 [7:16:13<51:45, 47.06s/it, v_num=in_1, total_loss_train=550, kl_local_train=76.1, metric_mi|age_categorical_train=0.23]"
     ]
    },
    {
     "name": "stdout",
     "output_type": "stream",
     "text": [
      "\r\n",
      "Epoch 535/600:  89%|████████▉ | 535/600 [7:17:02<51:35, 47.62s/it, v_num=in_1, total_loss_train=550, kl_local_train=76.1, metric_mi|age_categorical_train=0.23]"
     ]
    },
    {
     "name": "stdout",
     "output_type": "stream",
     "text": [
      "\r\n",
      "Epoch 535/600:  89%|████████▉ | 535/600 [7:17:02<51:35, 47.62s/it, v_num=in_1, total_loss_train=550, kl_local_train=76, metric_mi|age_categorical_train=0.23]  "
     ]
    },
    {
     "name": "stdout",
     "output_type": "stream",
     "text": [
      "\r\n",
      "Epoch 536/600:  89%|████████▉ | 535/600 [7:17:03<51:35, 47.62s/it, v_num=in_1, total_loss_train=550, kl_local_train=76, metric_mi|age_categorical_train=0.23]"
     ]
    },
    {
     "name": "stdout",
     "output_type": "stream",
     "text": [
      "\r\n",
      "Epoch 536/600:  89%|████████▉ | 536/600 [7:17:50<50:47, 47.62s/it, v_num=in_1, total_loss_train=550, kl_local_train=76, metric_mi|age_categorical_train=0.23]"
     ]
    },
    {
     "name": "stdout",
     "output_type": "stream",
     "text": [
      "\r\n",
      "Epoch 536/600:  89%|████████▉ | 536/600 [7:17:50<50:47, 47.62s/it, v_num=in_1, total_loss_train=551, kl_local_train=75.9, metric_mi|age_categorical_train=0.23]"
     ]
    },
    {
     "name": "stdout",
     "output_type": "stream",
     "text": [
      "\r\n",
      "Epoch 537/600:  89%|████████▉ | 536/600 [7:17:50<50:47, 47.62s/it, v_num=in_1, total_loss_train=551, kl_local_train=75.9, metric_mi|age_categorical_train=0.23]"
     ]
    },
    {
     "name": "stdout",
     "output_type": "stream",
     "text": [
      "\r\n",
      "Epoch 537/600:  90%|████████▉ | 537/600 [7:18:37<49:44, 47.38s/it, v_num=in_1, total_loss_train=551, kl_local_train=75.9, metric_mi|age_categorical_train=0.23]"
     ]
    },
    {
     "name": "stdout",
     "output_type": "stream",
     "text": [
      "\r\n",
      "Epoch 537/600:  90%|████████▉ | 537/600 [7:18:37<49:44, 47.38s/it, v_num=in_1, total_loss_train=550, kl_local_train=76.2, metric_mi|age_categorical_train=0.23]"
     ]
    },
    {
     "name": "stdout",
     "output_type": "stream",
     "text": [
      "\r\n",
      "Epoch 538/600:  90%|████████▉ | 537/600 [7:18:37<49:44, 47.38s/it, v_num=in_1, total_loss_train=550, kl_local_train=76.2, metric_mi|age_categorical_train=0.23]"
     ]
    },
    {
     "name": "stdout",
     "output_type": "stream",
     "text": [
      "\r\n",
      "Epoch 538/600:  90%|████████▉ | 538/600 [7:19:23<48:42, 47.13s/it, v_num=in_1, total_loss_train=550, kl_local_train=76.2, metric_mi|age_categorical_train=0.23]"
     ]
    },
    {
     "name": "stdout",
     "output_type": "stream",
     "text": [
      "\r\n",
      "Epoch 538/600:  90%|████████▉ | 538/600 [7:19:23<48:42, 47.13s/it, v_num=in_1, total_loss_train=550, kl_local_train=75.8, metric_mi|age_categorical_train=0.23]"
     ]
    },
    {
     "name": "stdout",
     "output_type": "stream",
     "text": [
      "\r\n",
      "Epoch 539/600:  90%|████████▉ | 538/600 [7:19:23<48:42, 47.13s/it, v_num=in_1, total_loss_train=550, kl_local_train=75.8, metric_mi|age_categorical_train=0.23]"
     ]
    },
    {
     "name": "stdout",
     "output_type": "stream",
     "text": [
      "\r\n",
      "Epoch 539/600:  90%|████████▉ | 539/600 [7:20:10<47:44, 46.97s/it, v_num=in_1, total_loss_train=550, kl_local_train=75.8, metric_mi|age_categorical_train=0.23]"
     ]
    },
    {
     "name": "stdout",
     "output_type": "stream",
     "text": [
      "\r\n",
      "Epoch 539/600:  90%|████████▉ | 539/600 [7:20:10<47:44, 46.97s/it, v_num=in_1, total_loss_train=551, kl_local_train=75.7, metric_mi|age_categorical_train=0.23]"
     ]
    },
    {
     "name": "stdout",
     "output_type": "stream",
     "text": [
      "\r\n",
      "Epoch 540/600:  90%|████████▉ | 539/600 [7:20:10<47:44, 46.97s/it, v_num=in_1, total_loss_train=551, kl_local_train=75.7, metric_mi|age_categorical_train=0.23]"
     ]
    },
    {
     "name": "stdout",
     "output_type": "stream",
     "text": [
      "\r\n",
      "Epoch 540/600:  90%|█████████ | 540/600 [7:20:56<46:49, 46.82s/it, v_num=in_1, total_loss_train=551, kl_local_train=75.7, metric_mi|age_categorical_train=0.23]"
     ]
    },
    {
     "name": "stdout",
     "output_type": "stream",
     "text": [
      "\r\n",
      "Epoch 540/600:  90%|█████████ | 540/600 [7:20:56<46:49, 46.82s/it, v_num=in_1, total_loss_train=551, kl_local_train=75.8, metric_mi|age_categorical_train=0.23]"
     ]
    },
    {
     "name": "stdout",
     "output_type": "stream",
     "text": [
      "\r\n",
      "Epoch 541/600:  90%|█████████ | 540/600 [7:20:57<46:49, 46.82s/it, v_num=in_1, total_loss_train=551, kl_local_train=75.8, metric_mi|age_categorical_train=0.23]"
     ]
    },
    {
     "name": "stdout",
     "output_type": "stream",
     "text": [
      "\r\n",
      "Epoch 541/600:  90%|█████████ | 541/600 [7:21:44<46:12, 46.99s/it, v_num=in_1, total_loss_train=551, kl_local_train=75.8, metric_mi|age_categorical_train=0.23]"
     ]
    },
    {
     "name": "stdout",
     "output_type": "stream",
     "text": [
      "\r\n",
      "Epoch 541/600:  90%|█████████ | 541/600 [7:21:44<46:12, 46.99s/it, v_num=in_1, total_loss_train=550, kl_local_train=75.4, metric_mi|age_categorical_train=0.225]"
     ]
    },
    {
     "name": "stdout",
     "output_type": "stream",
     "text": [
      "\r\n",
      "Epoch 542/600:  90%|█████████ | 541/600 [7:21:44<46:12, 46.99s/it, v_num=in_1, total_loss_train=550, kl_local_train=75.4, metric_mi|age_categorical_train=0.225]"
     ]
    },
    {
     "name": "stdout",
     "output_type": "stream",
     "text": [
      "\r\n",
      "Epoch 542/600:  90%|█████████ | 542/600 [7:22:30<45:17, 46.85s/it, v_num=in_1, total_loss_train=550, kl_local_train=75.4, metric_mi|age_categorical_train=0.225]"
     ]
    },
    {
     "name": "stdout",
     "output_type": "stream",
     "text": [
      "\r\n",
      "Epoch 542/600:  90%|█████████ | 542/600 [7:22:30<45:17, 46.85s/it, v_num=in_1, total_loss_train=551, kl_local_train=75.2, metric_mi|age_categorical_train=0.225]"
     ]
    },
    {
     "name": "stdout",
     "output_type": "stream",
     "text": [
      "\r\n",
      "Epoch 543/600:  90%|█████████ | 542/600 [7:22:30<45:17, 46.85s/it, v_num=in_1, total_loss_train=551, kl_local_train=75.2, metric_mi|age_categorical_train=0.225]"
     ]
    },
    {
     "name": "stdout",
     "output_type": "stream",
     "text": [
      "\r\n",
      "Epoch 543/600:  90%|█████████ | 543/600 [7:23:17<44:24, 46.75s/it, v_num=in_1, total_loss_train=551, kl_local_train=75.2, metric_mi|age_categorical_train=0.225]"
     ]
    },
    {
     "name": "stdout",
     "output_type": "stream",
     "text": [
      "\r\n",
      "Epoch 543/600:  90%|█████████ | 543/600 [7:23:17<44:24, 46.75s/it, v_num=in_1, total_loss_train=551, kl_local_train=75.6, metric_mi|age_categorical_train=0.225]"
     ]
    },
    {
     "name": "stdout",
     "output_type": "stream",
     "text": [
      "\r\n",
      "Epoch 544/600:  90%|█████████ | 543/600 [7:23:17<44:24, 46.75s/it, v_num=in_1, total_loss_train=551, kl_local_train=75.6, metric_mi|age_categorical_train=0.225]"
     ]
    },
    {
     "name": "stdout",
     "output_type": "stream",
     "text": [
      "\r\n",
      "Epoch 544/600:  91%|█████████ | 544/600 [7:24:03<43:35, 46.71s/it, v_num=in_1, total_loss_train=551, kl_local_train=75.6, metric_mi|age_categorical_train=0.225]"
     ]
    },
    {
     "name": "stdout",
     "output_type": "stream",
     "text": [
      "\r\n",
      "Epoch 544/600:  91%|█████████ | 544/600 [7:24:03<43:35, 46.71s/it, v_num=in_1, total_loss_train=551, kl_local_train=75.3, metric_mi|age_categorical_train=0.225]"
     ]
    },
    {
     "name": "stdout",
     "output_type": "stream",
     "text": [
      "\r\n",
      "Epoch 545/600:  91%|█████████ | 544/600 [7:24:03<43:35, 46.71s/it, v_num=in_1, total_loss_train=551, kl_local_train=75.3, metric_mi|age_categorical_train=0.225]"
     ]
    },
    {
     "name": "stdout",
     "output_type": "stream",
     "text": [
      "\r\n",
      "Epoch 545/600:  91%|█████████ | 545/600 [7:24:50<42:43, 46.61s/it, v_num=in_1, total_loss_train=551, kl_local_train=75.3, metric_mi|age_categorical_train=0.225]"
     ]
    },
    {
     "name": "stdout",
     "output_type": "stream",
     "text": [
      "\r\n",
      "Epoch 545/600:  91%|█████████ | 545/600 [7:24:50<42:43, 46.61s/it, v_num=in_1, total_loss_train=551, kl_local_train=75.3, metric_mi|age_categorical_train=0.225]"
     ]
    },
    {
     "name": "stdout",
     "output_type": "stream",
     "text": [
      "\r\n",
      "Epoch 546/600:  91%|█████████ | 545/600 [7:24:51<42:43, 46.61s/it, v_num=in_1, total_loss_train=551, kl_local_train=75.3, metric_mi|age_categorical_train=0.225]"
     ]
    },
    {
     "name": "stdout",
     "output_type": "stream",
     "text": [
      "\r\n",
      "Epoch 546/600:  91%|█████████ | 546/600 [7:25:37<42:11, 46.88s/it, v_num=in_1, total_loss_train=551, kl_local_train=75.3, metric_mi|age_categorical_train=0.225]"
     ]
    },
    {
     "name": "stdout",
     "output_type": "stream",
     "text": [
      "\r\n",
      "Epoch 546/600:  91%|█████████ | 546/600 [7:25:37<42:11, 46.88s/it, v_num=in_1, total_loss_train=551, kl_local_train=75.3, metric_mi|age_categorical_train=0.222]"
     ]
    },
    {
     "name": "stdout",
     "output_type": "stream",
     "text": [
      "\r\n",
      "Epoch 547/600:  91%|█████████ | 546/600 [7:25:37<42:11, 46.88s/it, v_num=in_1, total_loss_train=551, kl_local_train=75.3, metric_mi|age_categorical_train=0.222]"
     ]
    },
    {
     "name": "stdout",
     "output_type": "stream",
     "text": [
      "\r\n",
      "Epoch 547/600:  91%|█████████ | 547/600 [7:26:24<41:20, 46.81s/it, v_num=in_1, total_loss_train=551, kl_local_train=75.3, metric_mi|age_categorical_train=0.222]"
     ]
    },
    {
     "name": "stdout",
     "output_type": "stream",
     "text": [
      "\r\n",
      "Epoch 547/600:  91%|█████████ | 547/600 [7:26:24<41:20, 46.81s/it, v_num=in_1, total_loss_train=551, kl_local_train=75.1, metric_mi|age_categorical_train=0.222]"
     ]
    },
    {
     "name": "stdout",
     "output_type": "stream",
     "text": [
      "\r\n",
      "Epoch 548/600:  91%|█████████ | 547/600 [7:26:24<41:20, 46.81s/it, v_num=in_1, total_loss_train=551, kl_local_train=75.1, metric_mi|age_categorical_train=0.222]"
     ]
    },
    {
     "name": "stdout",
     "output_type": "stream",
     "text": [
      "\r\n",
      "Epoch 548/600:  91%|█████████▏| 548/600 [7:27:11<40:31, 46.76s/it, v_num=in_1, total_loss_train=551, kl_local_train=75.1, metric_mi|age_categorical_train=0.222]"
     ]
    },
    {
     "name": "stdout",
     "output_type": "stream",
     "text": [
      "\r\n",
      "Epoch 548/600:  91%|█████████▏| 548/600 [7:27:11<40:31, 46.76s/it, v_num=in_1, total_loss_train=552, kl_local_train=75.2, metric_mi|age_categorical_train=0.222]"
     ]
    },
    {
     "name": "stdout",
     "output_type": "stream",
     "text": [
      "\r\n",
      "Epoch 549/600:  91%|█████████▏| 548/600 [7:27:11<40:31, 46.76s/it, v_num=in_1, total_loss_train=552, kl_local_train=75.2, metric_mi|age_categorical_train=0.222]"
     ]
    },
    {
     "name": "stdout",
     "output_type": "stream",
     "text": [
      "\r\n",
      "Epoch 549/600:  92%|█████████▏| 549/600 [7:27:57<39:43, 46.74s/it, v_num=in_1, total_loss_train=552, kl_local_train=75.2, metric_mi|age_categorical_train=0.222]"
     ]
    },
    {
     "name": "stdout",
     "output_type": "stream",
     "text": [
      "\r\n",
      "Epoch 549/600:  92%|█████████▏| 549/600 [7:27:57<39:43, 46.74s/it, v_num=in_1, total_loss_train=551, kl_local_train=74.9, metric_mi|age_categorical_train=0.222]"
     ]
    },
    {
     "name": "stdout",
     "output_type": "stream",
     "text": [
      "\r\n",
      "Epoch 550/600:  92%|█████████▏| 549/600 [7:27:57<39:43, 46.74s/it, v_num=in_1, total_loss_train=551, kl_local_train=74.9, metric_mi|age_categorical_train=0.222]"
     ]
    },
    {
     "name": "stdout",
     "output_type": "stream",
     "text": [
      "\r\n",
      "Epoch 550/600:  92%|█████████▏| 550/600 [7:28:46<39:25, 47.30s/it, v_num=in_1, total_loss_train=551, kl_local_train=74.9, metric_mi|age_categorical_train=0.222]"
     ]
    },
    {
     "name": "stdout",
     "output_type": "stream",
     "text": [
      "\r\n",
      "Epoch 550/600:  92%|█████████▏| 550/600 [7:28:46<39:25, 47.30s/it, v_num=in_1, total_loss_train=552, kl_local_train=75.1, metric_mi|age_categorical_train=0.222]"
     ]
    },
    {
     "name": "stdout",
     "output_type": "stream",
     "text": [
      "\r\n",
      "Epoch 551/600:  92%|█████████▏| 550/600 [7:28:47<39:25, 47.30s/it, v_num=in_1, total_loss_train=552, kl_local_train=75.1, metric_mi|age_categorical_train=0.222]"
     ]
    },
    {
     "name": "stdout",
     "output_type": "stream",
     "text": [
      "\r\n",
      "Epoch 551/600:  92%|█████████▏| 551/600 [7:29:33<38:40, 47.35s/it, v_num=in_1, total_loss_train=552, kl_local_train=75.1, metric_mi|age_categorical_train=0.222]"
     ]
    },
    {
     "name": "stdout",
     "output_type": "stream",
     "text": [
      "\r\n",
      "Epoch 551/600:  92%|█████████▏| 551/600 [7:29:33<38:40, 47.35s/it, v_num=in_1, total_loss_train=552, kl_local_train=75, metric_mi|age_categorical_train=0.221]  "
     ]
    },
    {
     "name": "stdout",
     "output_type": "stream",
     "text": [
      "\r\n",
      "Epoch 552/600:  92%|█████████▏| 551/600 [7:29:33<38:40, 47.35s/it, v_num=in_1, total_loss_train=552, kl_local_train=75, metric_mi|age_categorical_train=0.221]"
     ]
    },
    {
     "name": "stdout",
     "output_type": "stream",
     "text": [
      "\r\n",
      "Epoch 552/600:  92%|█████████▏| 552/600 [7:30:20<37:42, 47.13s/it, v_num=in_1, total_loss_train=552, kl_local_train=75, metric_mi|age_categorical_train=0.221]"
     ]
    },
    {
     "name": "stdout",
     "output_type": "stream",
     "text": [
      "\r\n",
      "Epoch 552/600:  92%|█████████▏| 552/600 [7:30:20<37:42, 47.13s/it, v_num=in_1, total_loss_train=552, kl_local_train=74.8, metric_mi|age_categorical_train=0.221]"
     ]
    },
    {
     "name": "stdout",
     "output_type": "stream",
     "text": [
      "\r\n",
      "Epoch 553/600:  92%|█████████▏| 552/600 [7:30:20<37:42, 47.13s/it, v_num=in_1, total_loss_train=552, kl_local_train=74.8, metric_mi|age_categorical_train=0.221]"
     ]
    },
    {
     "name": "stdout",
     "output_type": "stream",
     "text": [
      "\r\n",
      "Epoch 553/600:  92%|█████████▏| 553/600 [7:31:07<36:48, 46.99s/it, v_num=in_1, total_loss_train=552, kl_local_train=74.8, metric_mi|age_categorical_train=0.221]"
     ]
    },
    {
     "name": "stdout",
     "output_type": "stream",
     "text": [
      "\r\n",
      "Epoch 553/600:  92%|█████████▏| 553/600 [7:31:07<36:48, 46.99s/it, v_num=in_1, total_loss_train=552, kl_local_train=74.8, metric_mi|age_categorical_train=0.221]"
     ]
    },
    {
     "name": "stdout",
     "output_type": "stream",
     "text": [
      "\r\n",
      "Epoch 554/600:  92%|█████████▏| 553/600 [7:31:07<36:48, 46.99s/it, v_num=in_1, total_loss_train=552, kl_local_train=74.8, metric_mi|age_categorical_train=0.221]"
     ]
    },
    {
     "name": "stdout",
     "output_type": "stream",
     "text": [
      "\r\n",
      "Epoch 554/600:  92%|█████████▏| 554/600 [7:31:53<35:56, 46.88s/it, v_num=in_1, total_loss_train=552, kl_local_train=74.8, metric_mi|age_categorical_train=0.221]"
     ]
    },
    {
     "name": "stdout",
     "output_type": "stream",
     "text": [
      "\r\n",
      "Epoch 554/600:  92%|█████████▏| 554/600 [7:31:53<35:56, 46.88s/it, v_num=in_1, total_loss_train=552, kl_local_train=74.7, metric_mi|age_categorical_train=0.221]"
     ]
    },
    {
     "name": "stdout",
     "output_type": "stream",
     "text": [
      "\r\n",
      "Epoch 555/600:  92%|█████████▏| 554/600 [7:31:53<35:56, 46.88s/it, v_num=in_1, total_loss_train=552, kl_local_train=74.7, metric_mi|age_categorical_train=0.221]"
     ]
    },
    {
     "name": "stdout",
     "output_type": "stream",
     "text": [
      "\r\n",
      "Epoch 555/600:  92%|█████████▎| 555/600 [7:32:40<35:05, 46.79s/it, v_num=in_1, total_loss_train=552, kl_local_train=74.7, metric_mi|age_categorical_train=0.221]"
     ]
    },
    {
     "name": "stdout",
     "output_type": "stream",
     "text": [
      "\r\n",
      "Epoch 555/600:  92%|█████████▎| 555/600 [7:32:40<35:05, 46.79s/it, v_num=in_1, total_loss_train=552, kl_local_train=74.4, metric_mi|age_categorical_train=0.221]"
     ]
    },
    {
     "name": "stdout",
     "output_type": "stream",
     "text": [
      "\r\n",
      "Epoch 556/600:  92%|█████████▎| 555/600 [7:32:41<35:05, 46.79s/it, v_num=in_1, total_loss_train=552, kl_local_train=74.4, metric_mi|age_categorical_train=0.221]"
     ]
    },
    {
     "name": "stdout",
     "output_type": "stream",
     "text": [
      "\r\n",
      "Epoch 556/600:  93%|█████████▎| 556/600 [7:33:27<34:27, 46.98s/it, v_num=in_1, total_loss_train=552, kl_local_train=74.4, metric_mi|age_categorical_train=0.221]"
     ]
    },
    {
     "name": "stdout",
     "output_type": "stream",
     "text": [
      "\r\n",
      "Epoch 556/600:  93%|█████████▎| 556/600 [7:33:27<34:27, 46.98s/it, v_num=in_1, total_loss_train=551, kl_local_train=74.5, metric_mi|age_categorical_train=0.225]"
     ]
    },
    {
     "name": "stdout",
     "output_type": "stream",
     "text": [
      "\r\n",
      "Epoch 557/600:  93%|█████████▎| 556/600 [7:33:27<34:27, 46.98s/it, v_num=in_1, total_loss_train=551, kl_local_train=74.5, metric_mi|age_categorical_train=0.225]"
     ]
    },
    {
     "name": "stdout",
     "output_type": "stream",
     "text": [
      "\r\n",
      "Epoch 557/600:  93%|█████████▎| 557/600 [7:34:14<33:37, 46.92s/it, v_num=in_1, total_loss_train=551, kl_local_train=74.5, metric_mi|age_categorical_train=0.225]"
     ]
    },
    {
     "name": "stdout",
     "output_type": "stream",
     "text": [
      "\r\n",
      "Epoch 557/600:  93%|█████████▎| 557/600 [7:34:14<33:37, 46.92s/it, v_num=in_1, total_loss_train=552, kl_local_train=74.2, metric_mi|age_categorical_train=0.225]"
     ]
    },
    {
     "name": "stdout",
     "output_type": "stream",
     "text": [
      "\r\n",
      "Epoch 558/600:  93%|█████████▎| 557/600 [7:34:14<33:37, 46.92s/it, v_num=in_1, total_loss_train=552, kl_local_train=74.2, metric_mi|age_categorical_train=0.225]"
     ]
    },
    {
     "name": "stdout",
     "output_type": "stream",
     "text": [
      "\r\n",
      "Epoch 558/600:  93%|█████████▎| 558/600 [7:35:01<32:47, 46.84s/it, v_num=in_1, total_loss_train=552, kl_local_train=74.2, metric_mi|age_categorical_train=0.225]"
     ]
    },
    {
     "name": "stdout",
     "output_type": "stream",
     "text": [
      "\r\n",
      "Epoch 558/600:  93%|█████████▎| 558/600 [7:35:01<32:47, 46.84s/it, v_num=in_1, total_loss_train=552, kl_local_train=74.4, metric_mi|age_categorical_train=0.225]"
     ]
    },
    {
     "name": "stdout",
     "output_type": "stream",
     "text": [
      "\r\n",
      "Epoch 559/600:  93%|█████████▎| 558/600 [7:35:01<32:47, 46.84s/it, v_num=in_1, total_loss_train=552, kl_local_train=74.4, metric_mi|age_categorical_train=0.225]"
     ]
    },
    {
     "name": "stdout",
     "output_type": "stream",
     "text": [
      "\r\n",
      "Epoch 559/600:  93%|█████████▎| 559/600 [7:35:47<31:57, 46.78s/it, v_num=in_1, total_loss_train=552, kl_local_train=74.4, metric_mi|age_categorical_train=0.225]"
     ]
    },
    {
     "name": "stdout",
     "output_type": "stream",
     "text": [
      "\r\n",
      "Epoch 559/600:  93%|█████████▎| 559/600 [7:35:47<31:57, 46.78s/it, v_num=in_1, total_loss_train=552, kl_local_train=74.6, metric_mi|age_categorical_train=0.225]"
     ]
    },
    {
     "name": "stdout",
     "output_type": "stream",
     "text": [
      "\r\n",
      "Epoch 560/600:  93%|█████████▎| 559/600 [7:35:47<31:57, 46.78s/it, v_num=in_1, total_loss_train=552, kl_local_train=74.6, metric_mi|age_categorical_train=0.225]"
     ]
    },
    {
     "name": "stdout",
     "output_type": "stream",
     "text": [
      "\r\n",
      "Epoch 560/600:  93%|█████████▎| 560/600 [7:36:36<31:33, 47.33s/it, v_num=in_1, total_loss_train=552, kl_local_train=74.6, metric_mi|age_categorical_train=0.225]"
     ]
    },
    {
     "name": "stdout",
     "output_type": "stream",
     "text": [
      "\r\n",
      "Epoch 560/600:  93%|█████████▎| 560/600 [7:36:36<31:33, 47.33s/it, v_num=in_1, total_loss_train=552, kl_local_train=74.2, metric_mi|age_categorical_train=0.225]"
     ]
    },
    {
     "name": "stdout",
     "output_type": "stream",
     "text": [
      "\r\n",
      "Epoch 561/600:  93%|█████████▎| 560/600 [7:36:37<31:33, 47.33s/it, v_num=in_1, total_loss_train=552, kl_local_train=74.2, metric_mi|age_categorical_train=0.225]"
     ]
    },
    {
     "name": "stdout",
     "output_type": "stream",
     "text": [
      "\r\n",
      "Epoch 561/600:  94%|█████████▎| 561/600 [7:37:24<30:50, 47.44s/it, v_num=in_1, total_loss_train=552, kl_local_train=74.2, metric_mi|age_categorical_train=0.225]"
     ]
    },
    {
     "name": "stdout",
     "output_type": "stream",
     "text": [
      "\r\n",
      "Epoch 561/600:  94%|█████████▎| 561/600 [7:37:24<30:50, 47.44s/it, v_num=in_1, total_loss_train=552, kl_local_train=74.2, metric_mi|age_categorical_train=0.223]"
     ]
    },
    {
     "name": "stdout",
     "output_type": "stream",
     "text": [
      "\r\n",
      "Epoch 562/600:  94%|█████████▎| 561/600 [7:37:24<30:50, 47.44s/it, v_num=in_1, total_loss_train=552, kl_local_train=74.2, metric_mi|age_categorical_train=0.223]"
     ]
    },
    {
     "name": "stdout",
     "output_type": "stream",
     "text": [
      "\r\n",
      "Epoch 562/600:  94%|█████████▎| 562/600 [7:38:10<29:54, 47.22s/it, v_num=in_1, total_loss_train=552, kl_local_train=74.2, metric_mi|age_categorical_train=0.223]"
     ]
    },
    {
     "name": "stdout",
     "output_type": "stream",
     "text": [
      "\r\n",
      "Epoch 562/600:  94%|█████████▎| 562/600 [7:38:10<29:54, 47.22s/it, v_num=in_1, total_loss_train=552, kl_local_train=74.2, metric_mi|age_categorical_train=0.223]"
     ]
    },
    {
     "name": "stdout",
     "output_type": "stream",
     "text": [
      "\r\n",
      "Epoch 563/600:  94%|█████████▎| 562/600 [7:38:10<29:54, 47.22s/it, v_num=in_1, total_loss_train=552, kl_local_train=74.2, metric_mi|age_categorical_train=0.223]"
     ]
    },
    {
     "name": "stdout",
     "output_type": "stream",
     "text": [
      "\r\n",
      "Epoch 563/600:  94%|█████████▍| 563/600 [7:38:57<29:02, 47.09s/it, v_num=in_1, total_loss_train=552, kl_local_train=74.2, metric_mi|age_categorical_train=0.223]"
     ]
    },
    {
     "name": "stdout",
     "output_type": "stream",
     "text": [
      "\r\n",
      "Epoch 563/600:  94%|█████████▍| 563/600 [7:38:57<29:02, 47.09s/it, v_num=in_1, total_loss_train=552, kl_local_train=74.3, metric_mi|age_categorical_train=0.223]"
     ]
    },
    {
     "name": "stdout",
     "output_type": "stream",
     "text": [
      "\r\n",
      "Epoch 564/600:  94%|█████████▍| 563/600 [7:38:57<29:02, 47.09s/it, v_num=in_1, total_loss_train=552, kl_local_train=74.3, metric_mi|age_categorical_train=0.223]"
     ]
    },
    {
     "name": "stdout",
     "output_type": "stream",
     "text": [
      "\r\n",
      "Epoch 564/600:  94%|█████████▍| 564/600 [7:39:44<28:13, 47.04s/it, v_num=in_1, total_loss_train=552, kl_local_train=74.3, metric_mi|age_categorical_train=0.223]"
     ]
    },
    {
     "name": "stdout",
     "output_type": "stream",
     "text": [
      "\r\n",
      "Epoch 564/600:  94%|█████████▍| 564/600 [7:39:44<28:13, 47.04s/it, v_num=in_1, total_loss_train=553, kl_local_train=74.4, metric_mi|age_categorical_train=0.223]"
     ]
    },
    {
     "name": "stdout",
     "output_type": "stream",
     "text": [
      "\r\n",
      "Epoch 565/600:  94%|█████████▍| 564/600 [7:39:44<28:13, 47.04s/it, v_num=in_1, total_loss_train=553, kl_local_train=74.4, metric_mi|age_categorical_train=0.223]"
     ]
    },
    {
     "name": "stdout",
     "output_type": "stream",
     "text": [
      "\r\n",
      "Epoch 565/600:  94%|█████████▍| 565/600 [7:40:31<27:22, 46.92s/it, v_num=in_1, total_loss_train=553, kl_local_train=74.4, metric_mi|age_categorical_train=0.223]"
     ]
    },
    {
     "name": "stdout",
     "output_type": "stream",
     "text": [
      "\r\n",
      "Epoch 565/600:  94%|█████████▍| 565/600 [7:40:31<27:22, 46.92s/it, v_num=in_1, total_loss_train=553, kl_local_train=74.2, metric_mi|age_categorical_train=0.223]"
     ]
    },
    {
     "name": "stdout",
     "output_type": "stream",
     "text": [
      "\r\n",
      "Epoch 566/600:  94%|█████████▍| 565/600 [7:40:32<27:22, 46.92s/it, v_num=in_1, total_loss_train=553, kl_local_train=74.2, metric_mi|age_categorical_train=0.223]"
     ]
    },
    {
     "name": "stdout",
     "output_type": "stream",
     "text": [
      "\r\n",
      "Epoch 566/600:  94%|█████████▍| 566/600 [7:41:18<26:41, 47.10s/it, v_num=in_1, total_loss_train=553, kl_local_train=74.2, metric_mi|age_categorical_train=0.223]"
     ]
    },
    {
     "name": "stdout",
     "output_type": "stream",
     "text": [
      "\r\n",
      "Epoch 566/600:  94%|█████████▍| 566/600 [7:41:18<26:41, 47.10s/it, v_num=in_1, total_loss_train=553, kl_local_train=73.9, metric_mi|age_categorical_train=0.221]"
     ]
    },
    {
     "name": "stdout",
     "output_type": "stream",
     "text": [
      "\r\n",
      "Epoch 567/600:  94%|█████████▍| 566/600 [7:41:18<26:41, 47.10s/it, v_num=in_1, total_loss_train=553, kl_local_train=73.9, metric_mi|age_categorical_train=0.221]"
     ]
    },
    {
     "name": "stdout",
     "output_type": "stream",
     "text": [
      "\r\n",
      "Epoch 567/600:  94%|█████████▍| 567/600 [7:42:05<25:49, 46.95s/it, v_num=in_1, total_loss_train=553, kl_local_train=73.9, metric_mi|age_categorical_train=0.221]"
     ]
    },
    {
     "name": "stdout",
     "output_type": "stream",
     "text": [
      "\r\n",
      "Epoch 567/600:  94%|█████████▍| 567/600 [7:42:05<25:49, 46.95s/it, v_num=in_1, total_loss_train=553, kl_local_train=74, metric_mi|age_categorical_train=0.221]  "
     ]
    },
    {
     "name": "stdout",
     "output_type": "stream",
     "text": [
      "\r\n",
      "Epoch 568/600:  94%|█████████▍| 567/600 [7:42:05<25:49, 46.95s/it, v_num=in_1, total_loss_train=553, kl_local_train=74, metric_mi|age_categorical_train=0.221]"
     ]
    },
    {
     "name": "stdout",
     "output_type": "stream",
     "text": [
      "\r\n",
      "Epoch 568/600:  95%|█████████▍| 568/600 [7:42:52<24:59, 46.86s/it, v_num=in_1, total_loss_train=553, kl_local_train=74, metric_mi|age_categorical_train=0.221]"
     ]
    },
    {
     "name": "stdout",
     "output_type": "stream",
     "text": [
      "\r\n",
      "Epoch 568/600:  95%|█████████▍| 568/600 [7:42:52<24:59, 46.86s/it, v_num=in_1, total_loss_train=553, kl_local_train=73.7, metric_mi|age_categorical_train=0.221]"
     ]
    },
    {
     "name": "stdout",
     "output_type": "stream",
     "text": [
      "\r\n",
      "Epoch 569/600:  95%|█████████▍| 568/600 [7:42:52<24:59, 46.86s/it, v_num=in_1, total_loss_train=553, kl_local_train=73.7, metric_mi|age_categorical_train=0.221]"
     ]
    },
    {
     "name": "stdout",
     "output_type": "stream",
     "text": [
      "\r\n",
      "Epoch 569/600:  95%|█████████▍| 569/600 [7:43:38<24:09, 46.77s/it, v_num=in_1, total_loss_train=553, kl_local_train=73.7, metric_mi|age_categorical_train=0.221]"
     ]
    },
    {
     "name": "stdout",
     "output_type": "stream",
     "text": [
      "\r\n",
      "Epoch 569/600:  95%|█████████▍| 569/600 [7:43:38<24:09, 46.77s/it, v_num=in_1, total_loss_train=553, kl_local_train=73.8, metric_mi|age_categorical_train=0.221]"
     ]
    },
    {
     "name": "stdout",
     "output_type": "stream",
     "text": [
      "\r\n",
      "Epoch 570/600:  95%|█████████▍| 569/600 [7:43:38<24:09, 46.77s/it, v_num=in_1, total_loss_train=553, kl_local_train=73.8, metric_mi|age_categorical_train=0.221]"
     ]
    },
    {
     "name": "stdout",
     "output_type": "stream",
     "text": [
      "\r\n",
      "Epoch 570/600:  95%|█████████▌| 570/600 [7:44:27<23:40, 47.34s/it, v_num=in_1, total_loss_train=553, kl_local_train=73.8, metric_mi|age_categorical_train=0.221]"
     ]
    },
    {
     "name": "stdout",
     "output_type": "stream",
     "text": [
      "\r\n",
      "Epoch 570/600:  95%|█████████▌| 570/600 [7:44:27<23:40, 47.34s/it, v_num=in_1, total_loss_train=553, kl_local_train=73.9, metric_mi|age_categorical_train=0.221]"
     ]
    },
    {
     "name": "stdout",
     "output_type": "stream",
     "text": [
      "\r\n",
      "Epoch 571/600:  95%|█████████▌| 570/600 [7:44:28<23:40, 47.34s/it, v_num=in_1, total_loss_train=553, kl_local_train=73.9, metric_mi|age_categorical_train=0.221]"
     ]
    },
    {
     "name": "stdout",
     "output_type": "stream",
     "text": [
      "\r\n",
      "Epoch 571/600:  95%|█████████▌| 571/600 [7:45:14<22:54, 47.40s/it, v_num=in_1, total_loss_train=553, kl_local_train=73.9, metric_mi|age_categorical_train=0.221]"
     ]
    },
    {
     "name": "stdout",
     "output_type": "stream",
     "text": [
      "\r\n",
      "Epoch 571/600:  95%|█████████▌| 571/600 [7:45:14<22:54, 47.40s/it, v_num=in_1, total_loss_train=553, kl_local_train=73.4, metric_mi|age_categorical_train=0.226]"
     ]
    },
    {
     "name": "stdout",
     "output_type": "stream",
     "text": [
      "\r\n",
      "Epoch 572/600:  95%|█████████▌| 571/600 [7:45:14<22:54, 47.40s/it, v_num=in_1, total_loss_train=553, kl_local_train=73.4, metric_mi|age_categorical_train=0.226]"
     ]
    },
    {
     "name": "stdout",
     "output_type": "stream",
     "text": [
      "\r\n",
      "Epoch 572/600:  95%|█████████▌| 572/600 [7:46:01<22:02, 47.22s/it, v_num=in_1, total_loss_train=553, kl_local_train=73.4, metric_mi|age_categorical_train=0.226]"
     ]
    },
    {
     "name": "stdout",
     "output_type": "stream",
     "text": [
      "\r\n",
      "Epoch 572/600:  95%|█████████▌| 572/600 [7:46:01<22:02, 47.22s/it, v_num=in_1, total_loss_train=553, kl_local_train=73.5, metric_mi|age_categorical_train=0.226]"
     ]
    },
    {
     "name": "stdout",
     "output_type": "stream",
     "text": [
      "\r\n",
      "Epoch 573/600:  95%|█████████▌| 572/600 [7:46:01<22:02, 47.22s/it, v_num=in_1, total_loss_train=553, kl_local_train=73.5, metric_mi|age_categorical_train=0.226]"
     ]
    },
    {
     "name": "stdout",
     "output_type": "stream",
     "text": [
      "\r\n",
      "Epoch 573/600:  96%|█████████▌| 573/600 [7:46:48<21:10, 47.06s/it, v_num=in_1, total_loss_train=553, kl_local_train=73.5, metric_mi|age_categorical_train=0.226]"
     ]
    },
    {
     "name": "stdout",
     "output_type": "stream",
     "text": [
      "\r\n",
      "Epoch 573/600:  96%|█████████▌| 573/600 [7:46:48<21:10, 47.06s/it, v_num=in_1, total_loss_train=553, kl_local_train=73.4, metric_mi|age_categorical_train=0.226]"
     ]
    },
    {
     "name": "stdout",
     "output_type": "stream",
     "text": [
      "\r\n",
      "Epoch 574/600:  96%|█████████▌| 573/600 [7:46:48<21:10, 47.06s/it, v_num=in_1, total_loss_train=553, kl_local_train=73.4, metric_mi|age_categorical_train=0.226]"
     ]
    },
    {
     "name": "stdout",
     "output_type": "stream",
     "text": [
      "\r\n",
      "Epoch 574/600:  96%|█████████▌| 574/600 [7:47:35<20:20, 46.95s/it, v_num=in_1, total_loss_train=553, kl_local_train=73.4, metric_mi|age_categorical_train=0.226]"
     ]
    },
    {
     "name": "stdout",
     "output_type": "stream",
     "text": [
      "\r\n",
      "Epoch 574/600:  96%|█████████▌| 574/600 [7:47:35<20:20, 46.95s/it, v_num=in_1, total_loss_train=554, kl_local_train=73.4, metric_mi|age_categorical_train=0.226]"
     ]
    },
    {
     "name": "stdout",
     "output_type": "stream",
     "text": [
      "\r\n",
      "Epoch 575/600:  96%|█████████▌| 574/600 [7:47:35<20:20, 46.95s/it, v_num=in_1, total_loss_train=554, kl_local_train=73.4, metric_mi|age_categorical_train=0.226]"
     ]
    },
    {
     "name": "stdout",
     "output_type": "stream",
     "text": [
      "\r\n",
      "Epoch 575/600:  96%|█████████▌| 575/600 [7:48:23<19:44, 47.37s/it, v_num=in_1, total_loss_train=554, kl_local_train=73.4, metric_mi|age_categorical_train=0.226]"
     ]
    },
    {
     "name": "stdout",
     "output_type": "stream",
     "text": [
      "\r\n",
      "Epoch 575/600:  96%|█████████▌| 575/600 [7:48:23<19:44, 47.37s/it, v_num=in_1, total_loss_train=554, kl_local_train=73.5, metric_mi|age_categorical_train=0.226]"
     ]
    },
    {
     "name": "stdout",
     "output_type": "stream",
     "text": [
      "\r\n",
      "Epoch 576/600:  96%|█████████▌| 575/600 [7:48:24<19:44, 47.37s/it, v_num=in_1, total_loss_train=554, kl_local_train=73.5, metric_mi|age_categorical_train=0.226]"
     ]
    },
    {
     "name": "stdout",
     "output_type": "stream",
     "text": [
      "\r\n",
      "Epoch 576/600:  96%|█████████▌| 576/600 [7:49:10<18:58, 47.45s/it, v_num=in_1, total_loss_train=554, kl_local_train=73.5, metric_mi|age_categorical_train=0.226]"
     ]
    },
    {
     "name": "stdout",
     "output_type": "stream",
     "text": [
      "\r\n",
      "Epoch 576/600:  96%|█████████▌| 576/600 [7:49:10<18:58, 47.45s/it, v_num=in_1, total_loss_train=553, kl_local_train=73.1, metric_mi|age_categorical_train=0.217]"
     ]
    },
    {
     "name": "stdout",
     "output_type": "stream",
     "text": [
      "\r\n",
      "Epoch 577/600:  96%|█████████▌| 576/600 [7:49:11<18:58, 47.45s/it, v_num=in_1, total_loss_train=553, kl_local_train=73.1, metric_mi|age_categorical_train=0.217]"
     ]
    },
    {
     "name": "stdout",
     "output_type": "stream",
     "text": [
      "\r\n",
      "Epoch 577/600:  96%|█████████▌| 577/600 [7:49:57<18:07, 47.27s/it, v_num=in_1, total_loss_train=553, kl_local_train=73.1, metric_mi|age_categorical_train=0.217]"
     ]
    },
    {
     "name": "stdout",
     "output_type": "stream",
     "text": [
      "\r\n",
      "Epoch 577/600:  96%|█████████▌| 577/600 [7:49:57<18:07, 47.27s/it, v_num=in_1, total_loss_train=554, kl_local_train=73.5, metric_mi|age_categorical_train=0.217]"
     ]
    },
    {
     "name": "stdout",
     "output_type": "stream",
     "text": [
      "\r\n",
      "Epoch 578/600:  96%|█████████▌| 577/600 [7:49:57<18:07, 47.27s/it, v_num=in_1, total_loss_train=554, kl_local_train=73.5, metric_mi|age_categorical_train=0.217]"
     ]
    },
    {
     "name": "stdout",
     "output_type": "stream",
     "text": [
      "\r\n",
      "Epoch 578/600:  96%|█████████▋| 578/600 [7:50:44<17:15, 47.07s/it, v_num=in_1, total_loss_train=554, kl_local_train=73.5, metric_mi|age_categorical_train=0.217]"
     ]
    },
    {
     "name": "stdout",
     "output_type": "stream",
     "text": [
      "\r\n",
      "Epoch 578/600:  96%|█████████▋| 578/600 [7:50:44<17:15, 47.07s/it, v_num=in_1, total_loss_train=554, kl_local_train=73.3, metric_mi|age_categorical_train=0.217]"
     ]
    },
    {
     "name": "stdout",
     "output_type": "stream",
     "text": [
      "\r\n",
      "Epoch 579/600:  96%|█████████▋| 578/600 [7:50:44<17:15, 47.07s/it, v_num=in_1, total_loss_train=554, kl_local_train=73.3, metric_mi|age_categorical_train=0.217]"
     ]
    },
    {
     "name": "stdout",
     "output_type": "stream",
     "text": [
      "\r\n",
      "Epoch 579/600:  96%|█████████▋| 579/600 [7:51:31<16:25, 46.94s/it, v_num=in_1, total_loss_train=554, kl_local_train=73.3, metric_mi|age_categorical_train=0.217]"
     ]
    },
    {
     "name": "stdout",
     "output_type": "stream",
     "text": [
      "\r\n",
      "Epoch 579/600:  96%|█████████▋| 579/600 [7:51:31<16:25, 46.94s/it, v_num=in_1, total_loss_train=553, kl_local_train=73.1, metric_mi|age_categorical_train=0.217]"
     ]
    },
    {
     "name": "stdout",
     "output_type": "stream",
     "text": [
      "\r\n",
      "Epoch 580/600:  96%|█████████▋| 579/600 [7:51:31<16:25, 46.94s/it, v_num=in_1, total_loss_train=553, kl_local_train=73.1, metric_mi|age_categorical_train=0.217]"
     ]
    },
    {
     "name": "stdout",
     "output_type": "stream",
     "text": [
      "\r\n",
      "Epoch 580/600:  97%|█████████▋| 580/600 [7:52:19<15:48, 47.42s/it, v_num=in_1, total_loss_train=553, kl_local_train=73.1, metric_mi|age_categorical_train=0.217]"
     ]
    },
    {
     "name": "stdout",
     "output_type": "stream",
     "text": [
      "\r\n",
      "Epoch 580/600:  97%|█████████▋| 580/600 [7:52:19<15:48, 47.42s/it, v_num=in_1, total_loss_train=554, kl_local_train=73, metric_mi|age_categorical_train=0.217]  "
     ]
    },
    {
     "name": "stdout",
     "output_type": "stream",
     "text": [
      "\r\n",
      "Epoch 581/600:  97%|█████████▋| 580/600 [7:52:20<15:48, 47.42s/it, v_num=in_1, total_loss_train=554, kl_local_train=73, metric_mi|age_categorical_train=0.217]"
     ]
    },
    {
     "name": "stdout",
     "output_type": "stream",
     "text": [
      "\r\n",
      "Epoch 581/600:  97%|█████████▋| 581/600 [7:53:07<15:01, 47.46s/it, v_num=in_1, total_loss_train=554, kl_local_train=73, metric_mi|age_categorical_train=0.217]"
     ]
    },
    {
     "name": "stdout",
     "output_type": "stream",
     "text": [
      "\r\n",
      "Epoch 581/600:  97%|█████████▋| 581/600 [7:53:07<15:01, 47.46s/it, v_num=in_1, total_loss_train=554, kl_local_train=72.7, metric_mi|age_categorical_train=0.222]"
     ]
    },
    {
     "name": "stdout",
     "output_type": "stream",
     "text": [
      "\r\n",
      "Epoch 582/600:  97%|█████████▋| 581/600 [7:53:07<15:01, 47.46s/it, v_num=in_1, total_loss_train=554, kl_local_train=72.7, metric_mi|age_categorical_train=0.222]"
     ]
    },
    {
     "name": "stdout",
     "output_type": "stream",
     "text": [
      "\r\n",
      "Epoch 582/600:  97%|█████████▋| 582/600 [7:53:53<14:10, 47.23s/it, v_num=in_1, total_loss_train=554, kl_local_train=72.7, metric_mi|age_categorical_train=0.222]"
     ]
    },
    {
     "name": "stdout",
     "output_type": "stream",
     "text": [
      "\r\n",
      "Epoch 582/600:  97%|█████████▋| 582/600 [7:53:53<14:10, 47.23s/it, v_num=in_1, total_loss_train=554, kl_local_train=73, metric_mi|age_categorical_train=0.222]  "
     ]
    },
    {
     "name": "stdout",
     "output_type": "stream",
     "text": [
      "\r\n",
      "Epoch 583/600:  97%|█████████▋| 582/600 [7:53:53<14:10, 47.23s/it, v_num=in_1, total_loss_train=554, kl_local_train=73, metric_mi|age_categorical_train=0.222]"
     ]
    },
    {
     "name": "stdout",
     "output_type": "stream",
     "text": [
      "\r\n",
      "Epoch 583/600:  97%|█████████▋| 583/600 [7:54:40<13:21, 47.12s/it, v_num=in_1, total_loss_train=554, kl_local_train=73, metric_mi|age_categorical_train=0.222]"
     ]
    },
    {
     "name": "stdout",
     "output_type": "stream",
     "text": [
      "\r\n",
      "Epoch 583/600:  97%|█████████▋| 583/600 [7:54:40<13:21, 47.12s/it, v_num=in_1, total_loss_train=554, kl_local_train=72.7, metric_mi|age_categorical_train=0.222]"
     ]
    },
    {
     "name": "stdout",
     "output_type": "stream",
     "text": [
      "\r\n",
      "Epoch 584/600:  97%|█████████▋| 583/600 [7:54:40<13:21, 47.12s/it, v_num=in_1, total_loss_train=554, kl_local_train=72.7, metric_mi|age_categorical_train=0.222]"
     ]
    },
    {
     "name": "stdout",
     "output_type": "stream",
     "text": [
      "\r\n",
      "Epoch 584/600:  97%|█████████▋| 584/600 [7:55:27<12:31, 46.98s/it, v_num=in_1, total_loss_train=554, kl_local_train=72.7, metric_mi|age_categorical_train=0.222]"
     ]
    },
    {
     "name": "stdout",
     "output_type": "stream",
     "text": [
      "\r\n",
      "Epoch 584/600:  97%|█████████▋| 584/600 [7:55:27<12:31, 46.98s/it, v_num=in_1, total_loss_train=554, kl_local_train=72.9, metric_mi|age_categorical_train=0.222]"
     ]
    },
    {
     "name": "stdout",
     "output_type": "stream",
     "text": [
      "\r\n",
      "Epoch 585/600:  97%|█████████▋| 584/600 [7:55:27<12:31, 46.98s/it, v_num=in_1, total_loss_train=554, kl_local_train=72.9, metric_mi|age_categorical_train=0.222]"
     ]
    },
    {
     "name": "stdout",
     "output_type": "stream",
     "text": [
      "\r\n",
      "Epoch 585/600:  98%|█████████▊| 585/600 [7:56:15<11:51, 47.45s/it, v_num=in_1, total_loss_train=554, kl_local_train=72.9, metric_mi|age_categorical_train=0.222]"
     ]
    },
    {
     "name": "stdout",
     "output_type": "stream",
     "text": [
      "\r\n",
      "Epoch 585/600:  98%|█████████▊| 585/600 [7:56:15<11:51, 47.45s/it, v_num=in_1, total_loss_train=554, kl_local_train=72.8, metric_mi|age_categorical_train=0.222]"
     ]
    },
    {
     "name": "stdout",
     "output_type": "stream",
     "text": [
      "\r\n",
      "Epoch 586/600:  98%|█████████▊| 585/600 [7:56:16<11:51, 47.45s/it, v_num=in_1, total_loss_train=554, kl_local_train=72.8, metric_mi|age_categorical_train=0.222]"
     ]
    },
    {
     "name": "stdout",
     "output_type": "stream",
     "text": [
      "\r\n",
      "Epoch 586/600:  98%|█████████▊| 586/600 [7:57:03<11:04, 47.46s/it, v_num=in_1, total_loss_train=554, kl_local_train=72.8, metric_mi|age_categorical_train=0.222]"
     ]
    },
    {
     "name": "stdout",
     "output_type": "stream",
     "text": [
      "\r\n",
      "Epoch 586/600:  98%|█████████▊| 586/600 [7:57:03<11:04, 47.46s/it, v_num=in_1, total_loss_train=555, kl_local_train=72.8, metric_mi|age_categorical_train=0.22] "
     ]
    },
    {
     "name": "stdout",
     "output_type": "stream",
     "text": [
      "\r\n",
      "Epoch 587/600:  98%|█████████▊| 586/600 [7:57:03<11:04, 47.46s/it, v_num=in_1, total_loss_train=555, kl_local_train=72.8, metric_mi|age_categorical_train=0.22]"
     ]
    },
    {
     "name": "stdout",
     "output_type": "stream",
     "text": [
      "\r\n",
      "Epoch 587/600:  98%|█████████▊| 587/600 [7:57:50<10:13, 47.22s/it, v_num=in_1, total_loss_train=555, kl_local_train=72.8, metric_mi|age_categorical_train=0.22]"
     ]
    },
    {
     "name": "stdout",
     "output_type": "stream",
     "text": [
      "\r\n",
      "Epoch 587/600:  98%|█████████▊| 587/600 [7:57:50<10:13, 47.22s/it, v_num=in_1, total_loss_train=555, kl_local_train=72.8, metric_mi|age_categorical_train=0.22]"
     ]
    },
    {
     "name": "stdout",
     "output_type": "stream",
     "text": [
      "\r\n",
      "Epoch 588/600:  98%|█████████▊| 587/600 [7:57:50<10:13, 47.22s/it, v_num=in_1, total_loss_train=555, kl_local_train=72.8, metric_mi|age_categorical_train=0.22]"
     ]
    },
    {
     "name": "stdout",
     "output_type": "stream",
     "text": [
      "\r\n",
      "Epoch 588/600:  98%|█████████▊| 588/600 [7:58:36<09:24, 47.03s/it, v_num=in_1, total_loss_train=555, kl_local_train=72.8, metric_mi|age_categorical_train=0.22]"
     ]
    },
    {
     "name": "stdout",
     "output_type": "stream",
     "text": [
      "\r\n",
      "Epoch 588/600:  98%|█████████▊| 588/600 [7:58:36<09:24, 47.03s/it, v_num=in_1, total_loss_train=555, kl_local_train=72.5, metric_mi|age_categorical_train=0.22]"
     ]
    },
    {
     "name": "stdout",
     "output_type": "stream",
     "text": [
      "\r\n",
      "Epoch 589/600:  98%|█████████▊| 588/600 [7:58:36<09:24, 47.03s/it, v_num=in_1, total_loss_train=555, kl_local_train=72.5, metric_mi|age_categorical_train=0.22]"
     ]
    },
    {
     "name": "stdout",
     "output_type": "stream",
     "text": [
      "\r\n",
      "Epoch 589/600:  98%|█████████▊| 589/600 [7:59:23<08:35, 46.90s/it, v_num=in_1, total_loss_train=555, kl_local_train=72.5, metric_mi|age_categorical_train=0.22]"
     ]
    },
    {
     "name": "stdout",
     "output_type": "stream",
     "text": [
      "\r\n",
      "Epoch 589/600:  98%|█████████▊| 589/600 [7:59:23<08:35, 46.90s/it, v_num=in_1, total_loss_train=555, kl_local_train=72.2, metric_mi|age_categorical_train=0.22]"
     ]
    },
    {
     "name": "stdout",
     "output_type": "stream",
     "text": [
      "\r\n",
      "Epoch 590/600:  98%|█████████▊| 589/600 [7:59:23<08:35, 46.90s/it, v_num=in_1, total_loss_train=555, kl_local_train=72.2, metric_mi|age_categorical_train=0.22]"
     ]
    },
    {
     "name": "stdout",
     "output_type": "stream",
     "text": [
      "\r\n",
      "Epoch 590/600:  98%|█████████▊| 590/600 [8:00:11<07:54, 47.43s/it, v_num=in_1, total_loss_train=555, kl_local_train=72.2, metric_mi|age_categorical_train=0.22]"
     ]
    },
    {
     "name": "stdout",
     "output_type": "stream",
     "text": [
      "\r\n",
      "Epoch 590/600:  98%|█████████▊| 590/600 [8:00:11<07:54, 47.43s/it, v_num=in_1, total_loss_train=554, kl_local_train=72.5, metric_mi|age_categorical_train=0.22]"
     ]
    },
    {
     "name": "stdout",
     "output_type": "stream",
     "text": [
      "\r\n",
      "Epoch 591/600:  98%|█████████▊| 590/600 [8:00:12<07:54, 47.43s/it, v_num=in_1, total_loss_train=554, kl_local_train=72.5, metric_mi|age_categorical_train=0.22]"
     ]
    },
    {
     "name": "stdout",
     "output_type": "stream",
     "text": [
      "\r\n",
      "Epoch 591/600:  98%|█████████▊| 591/600 [8:00:59<07:07, 47.49s/it, v_num=in_1, total_loss_train=554, kl_local_train=72.5, metric_mi|age_categorical_train=0.22]"
     ]
    },
    {
     "name": "stdout",
     "output_type": "stream",
     "text": [
      "\r\n",
      "Epoch 591/600:  98%|█████████▊| 591/600 [8:00:59<07:07, 47.49s/it, v_num=in_1, total_loss_train=555, kl_local_train=72.4, metric_mi|age_categorical_train=0.225]"
     ]
    },
    {
     "name": "stdout",
     "output_type": "stream",
     "text": [
      "\r\n",
      "Epoch 592/600:  98%|█████████▊| 591/600 [8:00:59<07:07, 47.49s/it, v_num=in_1, total_loss_train=555, kl_local_train=72.4, metric_mi|age_categorical_train=0.225]"
     ]
    },
    {
     "name": "stdout",
     "output_type": "stream",
     "text": [
      "\r\n",
      "Epoch 592/600:  99%|█████████▊| 592/600 [8:01:46<06:18, 47.27s/it, v_num=in_1, total_loss_train=555, kl_local_train=72.4, metric_mi|age_categorical_train=0.225]"
     ]
    },
    {
     "name": "stdout",
     "output_type": "stream",
     "text": [
      "\r\n",
      "Epoch 592/600:  99%|█████████▊| 592/600 [8:01:46<06:18, 47.27s/it, v_num=in_1, total_loss_train=555, kl_local_train=72.2, metric_mi|age_categorical_train=0.225]"
     ]
    },
    {
     "name": "stdout",
     "output_type": "stream",
     "text": [
      "\r\n",
      "Epoch 593/600:  99%|█████████▊| 592/600 [8:01:46<06:18, 47.27s/it, v_num=in_1, total_loss_train=555, kl_local_train=72.2, metric_mi|age_categorical_train=0.225]"
     ]
    },
    {
     "name": "stdout",
     "output_type": "stream",
     "text": [
      "\r\n",
      "Epoch 593/600:  99%|█████████▉| 593/600 [8:02:32<05:29, 47.09s/it, v_num=in_1, total_loss_train=555, kl_local_train=72.2, metric_mi|age_categorical_train=0.225]"
     ]
    },
    {
     "name": "stdout",
     "output_type": "stream",
     "text": [
      "\r\n",
      "Epoch 593/600:  99%|█████████▉| 593/600 [8:02:32<05:29, 47.09s/it, v_num=in_1, total_loss_train=555, kl_local_train=72.2, metric_mi|age_categorical_train=0.225]"
     ]
    },
    {
     "name": "stdout",
     "output_type": "stream",
     "text": [
      "\r\n",
      "Epoch 594/600:  99%|█████████▉| 593/600 [8:02:32<05:29, 47.09s/it, v_num=in_1, total_loss_train=555, kl_local_train=72.2, metric_mi|age_categorical_train=0.225]"
     ]
    },
    {
     "name": "stdout",
     "output_type": "stream",
     "text": [
      "\r\n",
      "Epoch 594/600:  99%|█████████▉| 594/600 [8:03:19<04:41, 47.00s/it, v_num=in_1, total_loss_train=555, kl_local_train=72.2, metric_mi|age_categorical_train=0.225]"
     ]
    },
    {
     "name": "stdout",
     "output_type": "stream",
     "text": [
      "\r\n",
      "Epoch 594/600:  99%|█████████▉| 594/600 [8:03:19<04:41, 47.00s/it, v_num=in_1, total_loss_train=555, kl_local_train=72.3, metric_mi|age_categorical_train=0.225]"
     ]
    },
    {
     "name": "stdout",
     "output_type": "stream",
     "text": [
      "\r\n",
      "Epoch 595/600:  99%|█████████▉| 594/600 [8:03:19<04:41, 47.00s/it, v_num=in_1, total_loss_train=555, kl_local_train=72.3, metric_mi|age_categorical_train=0.225]"
     ]
    },
    {
     "name": "stdout",
     "output_type": "stream",
     "text": [
      "\r\n",
      "Epoch 595/600:  99%|█████████▉| 595/600 [8:04:06<03:54, 46.86s/it, v_num=in_1, total_loss_train=555, kl_local_train=72.3, metric_mi|age_categorical_train=0.225]"
     ]
    },
    {
     "name": "stdout",
     "output_type": "stream",
     "text": [
      "\r\n",
      "Epoch 595/600:  99%|█████████▉| 595/600 [8:04:06<03:54, 46.86s/it, v_num=in_1, total_loss_train=555, kl_local_train=72.4, metric_mi|age_categorical_train=0.225]"
     ]
    },
    {
     "name": "stdout",
     "output_type": "stream",
     "text": [
      "\r\n",
      "Epoch 596/600:  99%|█████████▉| 595/600 [8:04:07<03:54, 46.86s/it, v_num=in_1, total_loss_train=555, kl_local_train=72.4, metric_mi|age_categorical_train=0.225]"
     ]
    },
    {
     "name": "stdout",
     "output_type": "stream",
     "text": [
      "\r\n",
      "Epoch 596/600:  99%|█████████▉| 596/600 [8:04:53<03:08, 47.10s/it, v_num=in_1, total_loss_train=555, kl_local_train=72.4, metric_mi|age_categorical_train=0.225]"
     ]
    },
    {
     "name": "stdout",
     "output_type": "stream",
     "text": [
      "\r\n",
      "Epoch 596/600:  99%|█████████▉| 596/600 [8:04:53<03:08, 47.10s/it, v_num=in_1, total_loss_train=555, kl_local_train=72.1, metric_mi|age_categorical_train=0.226]"
     ]
    },
    {
     "name": "stdout",
     "output_type": "stream",
     "text": [
      "\r\n",
      "Epoch 597/600:  99%|█████████▉| 596/600 [8:04:53<03:08, 47.10s/it, v_num=in_1, total_loss_train=555, kl_local_train=72.1, metric_mi|age_categorical_train=0.226]"
     ]
    },
    {
     "name": "stdout",
     "output_type": "stream",
     "text": [
      "\r\n",
      "Epoch 597/600: 100%|█████████▉| 597/600 [8:05:40<02:20, 46.94s/it, v_num=in_1, total_loss_train=555, kl_local_train=72.1, metric_mi|age_categorical_train=0.226]"
     ]
    },
    {
     "name": "stdout",
     "output_type": "stream",
     "text": [
      "\r\n",
      "Epoch 597/600: 100%|█████████▉| 597/600 [8:05:40<02:20, 46.94s/it, v_num=in_1, total_loss_train=555, kl_local_train=72.3, metric_mi|age_categorical_train=0.226]"
     ]
    },
    {
     "name": "stdout",
     "output_type": "stream",
     "text": [
      "\r\n",
      "Epoch 598/600: 100%|█████████▉| 597/600 [8:05:40<02:20, 46.94s/it, v_num=in_1, total_loss_train=555, kl_local_train=72.3, metric_mi|age_categorical_train=0.226]"
     ]
    },
    {
     "name": "stdout",
     "output_type": "stream",
     "text": [
      "\r\n",
      "Epoch 598/600: 100%|█████████▉| 598/600 [8:06:27<01:33, 46.82s/it, v_num=in_1, total_loss_train=555, kl_local_train=72.3, metric_mi|age_categorical_train=0.226]"
     ]
    },
    {
     "name": "stdout",
     "output_type": "stream",
     "text": [
      "\r\n",
      "Epoch 598/600: 100%|█████████▉| 598/600 [8:06:27<01:33, 46.82s/it, v_num=in_1, total_loss_train=555, kl_local_train=72.2, metric_mi|age_categorical_train=0.226]"
     ]
    },
    {
     "name": "stdout",
     "output_type": "stream",
     "text": [
      "\r\n",
      "Epoch 599/600: 100%|█████████▉| 598/600 [8:06:27<01:33, 46.82s/it, v_num=in_1, total_loss_train=555, kl_local_train=72.2, metric_mi|age_categorical_train=0.226]"
     ]
    },
    {
     "name": "stdout",
     "output_type": "stream",
     "text": [
      "\r\n",
      "Epoch 599/600: 100%|█████████▉| 599/600 [8:07:13<00:46, 46.72s/it, v_num=in_1, total_loss_train=555, kl_local_train=72.2, metric_mi|age_categorical_train=0.226]"
     ]
    },
    {
     "name": "stdout",
     "output_type": "stream",
     "text": [
      "\r\n",
      "Epoch 599/600: 100%|█████████▉| 599/600 [8:07:13<00:46, 46.72s/it, v_num=in_1, total_loss_train=556, kl_local_train=72, metric_mi|age_categorical_train=0.226]  "
     ]
    },
    {
     "name": "stdout",
     "output_type": "stream",
     "text": [
      "\r\n",
      "Epoch 600/600: 100%|█████████▉| 599/600 [8:07:13<00:46, 46.72s/it, v_num=in_1, total_loss_train=556, kl_local_train=72, metric_mi|age_categorical_train=0.226]"
     ]
    },
    {
     "name": "stdout",
     "output_type": "stream",
     "text": [
      "\r\n",
      "Epoch 600/600: 100%|██████████| 600/600 [8:08:01<00:00, 47.23s/it, v_num=in_1, total_loss_train=556, kl_local_train=72, metric_mi|age_categorical_train=0.226]"
     ]
    },
    {
     "name": "stdout",
     "output_type": "stream",
     "text": [
      "\r\n",
      "Epoch 600/600: 100%|██████████| 600/600 [8:08:01<00:00, 47.23s/it, v_num=in_1, total_loss_train=556, kl_local_train=72, metric_mi|age_categorical_train=0.226]"
     ]
    },
    {
     "name": "stderr",
     "output_type": "stream",
     "text": [
      "`Trainer.fit` stopped: `max_epochs=600` reached.\n"
     ]
    },
    {
     "name": "stdout",
     "output_type": "stream",
     "text": [
      "\r\n",
      "Epoch 600/600: 100%|██████████| 600/600 [8:08:02<00:00, 48.80s/it, v_num=in_1, total_loss_train=556, kl_local_train=72, metric_mi|age_categorical_train=0.226]"
     ]
    },
    {
     "name": "stdout",
     "output_type": "stream",
     "text": [
      "\n"
     ]
    },
    {
     "name": "stdout",
     "output_type": "stream",
     "text": [
      "W&B logger finalized successfully: \n",
      "Exit Code: 0\n",
      "\n"
     ]
    }
   ],
   "source": [
    "n_epochs_kl_warmup = 600\n",
    "\n",
    "model_params = dict(\n",
    "    n_hidden=512,\n",
    "    n_layers=3, \n",
    "    n_latent=(24 + 8 * len(disentenglement_targets_configurations)),\n",
    "    gene_likelihood = \"nb\",\n",
    "    use_batch_norm = \"none\",\n",
    "    use_layer_norm = \"both\",\n",
    "    dropout_rate = 0.5,\n",
    "    deeply_inject_disentengled_latents = True,\n",
    "    include_auxillary_loss = True,\n",
    "    beta_kl_weight = 0.5,\n",
    "    encode_covariates=True\n",
    ")\n",
    "\n",
    "train_params = dict(\n",
    "    max_epochs=600,\n",
    "    train_size=0.8,\n",
    "    batch_size=64,\n",
    "    check_val_every_n_epoch=10,\n",
    "    limit_train_batches=0.1, \n",
    "    limit_val_batches=0.1,\n",
    "    learning_rate_monitor=True,\n",
    "    # early stopping:\n",
    "    early_stopping=False,\n",
    "    early_stopping_patience=150,\n",
    "    early_stopping_monitor=\"elbo_train\",\n",
    "    plan_kwargs = dict(\n",
    "        n_epochs_kl_warmup=n_epochs_kl_warmup,\n",
    "        lr=5e-5,\n",
    "        weight_decay=1e-2,\n",
    "        optimizer=\"AdamW\",\n",
    "        # lr-scheduler:\n",
    "        reduce_lr_on_plateau=True,\n",
    "        lr_patience=100,\n",
    "        lr_scheduler_metric=\"elbo_train\",\n",
    "    )\n",
    ")\n",
    "\n",
    "dataset_params = dict(\n",
    "    layer=None, \n",
    "    labels_key=None,\n",
    "    batch_key=None,\n",
    "    categorical_covariate_keys=None,\n",
    "    disentenglement_targets_configurations=disentenglement_targets_configurations,\n",
    "    model_level_metrics=model_level_metrics,\n",
    "    model_level_metrics_helper_covariates=['age_categorical']\n",
    ")\n",
    "\n",
    "tardis.MyModel.setup_anndata(adata, **dataset_params)\n",
    "dataset_params[\"adata_path\"] = adata_file_path\n",
    "dataset_params[\"adata\"] = os.path.split(adata_file_path)[1]\n",
    "\n",
    "tardis.MyModel.setup_wandb(\n",
    "    wandb_configurations=tardis.config.wandb,\n",
    "    hyperparams=dict(\n",
    "        model_params=model_params,\n",
    "        train_params=train_params,\n",
    "        dataset_params=dataset_params,\n",
    "    )\n",
    ")\n",
    "\n",
    "vae = tardis.MyModel(\n",
    "    adata,\n",
    "    **model_params\n",
    ")\n",
    "vae.train(**train_params)\n",
    "\n",
    "dir_path = os.path.join(\n",
    "    tardis.config.io_directories[\"models\"],\n",
    "    \"braun_age-continuous_2\"\n",
    ")\n",
    "\n",
    "vae.save(\n",
    "    dir_path,\n",
    "    overwrite=True,\n",
    ")"
   ]
  },
  {
   "cell_type": "code",
   "execution_count": null,
   "id": "0fc4f365-b7a0-4c4d-92b9-993c53327048",
   "metadata": {},
   "outputs": [],
   "source": [
    "# vae.get_reconstruction_r2_training(top_n=[])"
   ]
  },
  {
   "cell_type": "code",
   "execution_count": null,
   "id": "6d9b0307-9421-490b-8024-0c6bda8c18e3",
   "metadata": {},
   "outputs": [],
   "source": [
    "adata.obs[\"validation\"] = \"train\"\n",
    "adata.obs[\"validation\"].iloc[vae.validation_indices] = \"validation\""
   ]
  },
  {
   "cell_type": "code",
   "execution_count": null,
   "id": "04982e03-16d4-4a56-894b-5b1ff00f5655",
   "metadata": {},
   "outputs": [],
   "source": [
    "vae.plot_training_history(\n",
    "    ignore_first=0,\n",
    "    n_col=4,\n",
    "    metrics_name=[\"metric_mi|age_categorical\", \"reconstruction_loss\", \"kl_local\"]\n",
    ")"
   ]
  },
  {
   "cell_type": "code",
   "execution_count": null,
   "id": "ccd6d863-6767-4d28-b837-3c0315ba9fa5",
   "metadata": {},
   "outputs": [],
   "source": [
    "from tardis._disentanglementmanager import DisentanglementManager as DM"
   ]
  },
  {
   "cell_type": "code",
   "execution_count": null,
   "id": "46acb718-b117-4b89-b371-92d7b49bf722",
   "metadata": {},
   "outputs": [],
   "source": [
    "latent = ad.AnnData(X=vae.get_latent_representation(), obs=adata.obs.copy())\n",
    "rsc.utils.anndata_to_GPU(latent)\n",
    "rsc.pp.neighbors(latent)\n",
    "rsc.tl.umap(latent)\n",
    "\n",
    "with warnings.catch_warnings():\n",
    "    warnings.simplefilter(\"ignore\")\n",
    "    sc.pl.umap(\n",
    "        latent, \n",
    "        color=['age', 'age_categorical', 'cell_type', 'validation'], \n",
    "        ncols=4,\n",
    "        frameon=False,\n",
    "        legend_fontsize=\"xx-small\"\n",
    "    )"
   ]
  },
  {
   "cell_type": "code",
   "execution_count": null,
   "id": "462de488-c98d-4b0f-9fe8-b1fa33848cba",
   "metadata": {},
   "outputs": [],
   "source": [
    "sublatent = DM.configurations.get_by_obs_key(\"age_training\").reserved_latent_indices\n",
    "latent = ad.AnnData(X=vae.get_latent_representation()[:, sublatent], obs=adata.obs.copy())\n",
    "rsc.utils.anndata_to_GPU(latent)\n",
    "rsc.pp.neighbors(latent)\n",
    "rsc.tl.umap(latent)\n",
    "\n",
    "with warnings.catch_warnings():\n",
    "    warnings.simplefilter(\"ignore\")\n",
    "    sc.pl.umap(\n",
    "        latent, \n",
    "        color=['age', 'age_categorical', 'cell_type', 'validation'], \n",
    "        ncols=4,\n",
    "        frameon=False,\n",
    "        legend_fontsize=\"xx-small\"\n",
    "    )"
   ]
  },
  {
   "cell_type": "code",
   "execution_count": null,
   "id": "22710fb8-6c76-4e95-8290-6eff478ad7c9",
   "metadata": {},
   "outputs": [],
   "source": [
    "sublatent = DM.configurations.unreserved_latent_indices\n",
    "latent = ad.AnnData(X=vae.get_latent_representation()[:, sublatent], obs=adata.obs.copy())\n",
    "rsc.utils.anndata_to_GPU(latent)\n",
    "rsc.pp.neighbors(latent)\n",
    "rsc.tl.umap(latent)\n",
    "\n",
    "with warnings.catch_warnings():\n",
    "    warnings.simplefilter(\"ignore\")\n",
    "    sc.pl.umap(\n",
    "        latent, \n",
    "        color=['age', 'age_categorical', 'cell_type', 'validation'], \n",
    "        ncols=4,\n",
    "        frameon=False,\n",
    "        legend_fontsize=\"xx-small\"\n",
    "    )"
   ]
  },
  {
   "cell_type": "code",
   "execution_count": null,
   "id": "718a4d71-7f61-4559-abad-f940973fee6c",
   "metadata": {},
   "outputs": [],
   "source": []
  },
  {
   "cell_type": "code",
   "execution_count": null,
   "id": "5e7b2e8b-fe73-4ff4-b573-7cfa9c94690e",
   "metadata": {},
   "outputs": [],
   "source": []
  }
 ],
 "metadata": {
  "kernelspec": {
   "display_name": "Python 3 (ipykernel)",
   "language": "python",
   "name": "python3"
  },
  "language_info": {
   "codemirror_mode": {
    "name": "ipython",
    "version": 3
   },
   "file_extension": ".py",
   "mimetype": "text/x-python",
   "name": "python",
   "nbconvert_exporter": "python",
   "pygments_lexer": "ipython3",
   "version": "3.10.14"
  }
 },
 "nbformat": 4,
 "nbformat_minor": 5
}
