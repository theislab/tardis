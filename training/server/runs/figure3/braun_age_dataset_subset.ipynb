{
 "cells": [
  {
   "cell_type": "markdown",
   "id": "7a174ddf-1bac-4261-a2df-155cc7e8fc31",
   "metadata": {},
   "source": [
    "# braun"
   ]
  },
  {
   "cell_type": "code",
   "execution_count": 1,
   "id": "bd13e0f4-b441-4653-bf08-f2812d58f844",
   "metadata": {},
   "outputs": [],
   "source": [
    "import warnings\n",
    "import os\n",
    "import sys\n",
    "import gc\n",
    "import warnings"
   ]
  },
  {
   "cell_type": "code",
   "execution_count": 2,
   "id": "0d362b42-a27d-486f-9c83-f52a59bfc6a5",
   "metadata": {},
   "outputs": [],
   "source": [
    "import anndata as ad\n",
    "import scanpy as sc\n",
    "import copy\n",
    "import torch\n",
    "from pathlib import Path\n",
    "import networkx as nx\n",
    "from sklearn.neighbors import kneighbors_graph\n",
    "import numpy as np\n",
    "import scanpy as sc\n",
    "import pandas as pd\n",
    "import numpy as np\n",
    "import scipy.stats\n",
    "\n",
    "sys.path.append(\"/home/icb/kemal.inecik/work/codes/tardis\")\n",
    "import tardis\n",
    "tardis.config = tardis.config_server"
   ]
  },
  {
   "cell_type": "code",
   "execution_count": 3,
   "id": "6e834108-5b88-402d-94c9-c8002c7a927a",
   "metadata": {},
   "outputs": [
    {
     "name": "stdout",
     "output_type": "stream",
     "text": [
      "CUDA used: False\n"
     ]
    }
   ],
   "source": [
    "print(f\"CUDA used: {torch.cuda.is_available()}\")"
   ]
  },
  {
   "cell_type": "code",
   "execution_count": 4,
   "id": "f0a8fa63-54f9-4cc9-aa2c-e2f1ce8ec9e8",
   "metadata": {},
   "outputs": [],
   "source": [
    "%matplotlib inline\n",
    "%config InlineBackend.figure_format='retina'\n",
    "import matplotlib.pyplot as plt\n",
    "import seaborn as sns\n",
    "\n",
    "import pickle\n",
    "_rcparams_path = \"/home/icb/kemal.inecik/work/codes/tardis/training/local/figures/rcparams.pickle\"\n",
    "with open(_rcparams_path, 'rb') as file:\n",
    "    _rcparams = pickle.load(file)\n",
    "plt.rcParams.update(_rcparams)"
   ]
  },
  {
   "cell_type": "code",
   "execution_count": 5,
   "id": "ea9ee642-93ef-4cbc-b83c-5e9f16122b7d",
   "metadata": {},
   "outputs": [
    {
     "name": "stdout",
     "output_type": "stream",
     "text": [
      "/lustre/groups/ml01/workspace/kemal.inecik/tardis_data/processed/dataset_complete_Braun.h5ad\n",
      "AnnData object with n_obs × n_vars = 1661498 × 8192\n",
      "    obs: 'sample_ID', 'organ', 'age', 'cell_type', 'sex', 'sex_inferred', 'concatenated_integration_covariates', 'integration_donor', 'integration_biological_unit', 'integration_sample_status', 'integration_library_platform_coarse', 'n_genes'\n",
      "    uns: 'rank_genes_groups'\n",
      "    obsm: 'Unintegrated', 'X_pca', 'harmony'\n"
     ]
    }
   ],
   "source": [
    "adata_file_path = os.path.join(tardis.config.io_directories[\"processed\"], \"dataset_complete_Braun.h5ad\")\n",
    "assert os.path.isfile(adata_file_path), f\"File not already exist: `{adata_file_path}`\"\n",
    "adata = ad.read_h5ad(adata_file_path)\n",
    "print(adata_file_path, flush=True)\n",
    "print(adata, flush=True)"
   ]
  },
  {
   "cell_type": "code",
   "execution_count": 6,
   "id": "49b932c2-7ff4-47f7-aa04-cf4beafdfe66",
   "metadata": {},
   "outputs": [
    {
     "data": {
      "text/plain": [
       "organ  integration_library_platform_coarse\n",
       "Brain  3GEX                                   1661498\n",
       "dtype: int64"
      ]
     },
     "metadata": {},
     "output_type": "display_data"
    }
   ],
   "source": [
    "with pd.option_context('display.max_rows', None):\n",
    "    k = adata.obs.groupby([\"organ\", \"integration_library_platform_coarse\"]).size()\n",
    "    display(k)"
   ]
  },
  {
   "cell_type": "code",
   "execution_count": 7,
   "id": "0a4abb70-7718-47af-80b8-d28990c01646",
   "metadata": {},
   "outputs": [
    {
     "data": {
      "text/plain": [
       "sex  age   integration_donor   \n",
       "F    5.0   XDD:348_Braun_et_al      62751\n",
       "     5.5   XDD:400_Braun_et_al      59667\n",
       "     6.0   XDD:326_Braun_et_al      22198\n",
       "     6.6   BRC2106A_Braun_et_al     61996\n",
       "     6.9   BRC2061_Braun_et_al     128294\n",
       "     7.0   XDD:398_Braun_et_al      17653\n",
       "     7.5   XHU:305_Braun_et_al      38793\n",
       "     8.0   XDD:334_Braun_et_al      65511\n",
       "     8.1   BRC2057_Braun_et_al      31456\n",
       "     8.5   XDD:313_Braun_et_al      50605\n",
       "     9.2   XHU:307_Braun_et_al      85820\n",
       "     9.5   XHU:292_Braun_et_al      28452\n",
       "     10.0  XHU:297_Braun_et_al      88790\n",
       "     11.5  XDD:358_Braun_et_al     102454\n",
       "     13.0  XDD:359_Braun_et_al      38865\n",
       "M    6.0   XDD:395_Braun_et_al      85990\n",
       "     6.6   BRC2073_Braun_et_al      24790\n",
       "     6.7   BRC2147_Braun_et_al      79580\n",
       "     6.9   BRC2110_Braun_et_al      60345\n",
       "           BRC2114_Braun_et_al      76439\n",
       "           BRC2191_Braun_et_al     158541\n",
       "     8.0   BRC2006_Braun_et_al      47021\n",
       "           BRC2021_Braun_et_al      13718\n",
       "     8.5   XDD:342_Braun_et_al      68360\n",
       "     12.0  XDD:351_Braun_et_al      86075\n",
       "     14.0  XDD:385_Braun_et_al      77334\n",
       "dtype: int64"
      ]
     },
     "metadata": {},
     "output_type": "display_data"
    }
   ],
   "source": [
    "with pd.option_context('display.max_rows', None):\n",
    "    k = adata.obs.groupby([\"sex\", \"age\", \"integration_donor\"]).size()\n",
    "    display(k[k!=0])"
   ]
  },
  {
   "cell_type": "code",
   "execution_count": 8,
   "id": "ad05381a-da81-4c0f-8ebb-5dbfd83660fa",
   "metadata": {},
   "outputs": [],
   "source": [
    "adata = adata[\n",
    "    (adata.obs[\"sex\"] == \"F\")\n",
    "]"
   ]
  },
  {
   "cell_type": "code",
   "execution_count": 9,
   "id": "c513c0e7-a5c7-4c7b-b97b-4747ac1fe901",
   "metadata": {},
   "outputs": [
    {
     "data": {
      "text/plain": [
       "age   integration_donor   \n",
       "5.0   XDD:348_Braun_et_al      62751\n",
       "5.5   XDD:400_Braun_et_al      59667\n",
       "6.0   XDD:326_Braun_et_al      22198\n",
       "6.6   BRC2106A_Braun_et_al     61996\n",
       "6.9   BRC2061_Braun_et_al     128294\n",
       "7.0   XDD:398_Braun_et_al      17653\n",
       "7.5   XHU:305_Braun_et_al      38793\n",
       "8.0   XDD:334_Braun_et_al      65511\n",
       "8.1   BRC2057_Braun_et_al      31456\n",
       "8.5   XDD:313_Braun_et_al      50605\n",
       "9.2   XHU:307_Braun_et_al      85820\n",
       "9.5   XHU:292_Braun_et_al      28452\n",
       "10.0  XHU:297_Braun_et_al      88790\n",
       "11.5  XDD:358_Braun_et_al     102454\n",
       "13.0  XDD:359_Braun_et_al      38865\n",
       "dtype: int64"
      ]
     },
     "metadata": {},
     "output_type": "display_data"
    }
   ],
   "source": [
    "with pd.option_context('display.max_rows', None):\n",
    "    k = adata.obs.groupby([\"age\", \"integration_donor\"]).size()\n",
    "    display(k[k!=0])"
   ]
  },
  {
   "cell_type": "code",
   "execution_count": 10,
   "id": "2c121537-7f42-4701-9f67-34fa6a9eecfa",
   "metadata": {},
   "outputs": [
    {
     "data": {
      "text/plain": [
       "(883305, 8192)"
      ]
     },
     "execution_count": 10,
     "metadata": {},
     "output_type": "execute_result"
    }
   ],
   "source": [
    "adata.shape"
   ]
  },
  {
   "cell_type": "code",
   "execution_count": 11,
   "id": "27866f46-205e-486e-8922-3278a27be4ba",
   "metadata": {},
   "outputs": [
    {
     "data": {
      "text/plain": [
       "age   sex  integration_donor     integration_library_platform_coarse  organ  concatenated_integration_covariates \n",
       "5.0   F    XDD:348_Braun_et_al   3GEX                                 Brain  XDD:348_Braun_et_al_Cell_Fresh_3GEX      62751\n",
       "5.5   F    XDD:400_Braun_et_al   3GEX                                 Brain  XDD:400_Braun_et_al_Cell_Fresh_3GEX      59667\n",
       "6.0   F    XDD:326_Braun_et_al   3GEX                                 Brain  XDD:326_Braun_et_al_Cell_Fresh_3GEX      22198\n",
       "6.6   F    BRC2106A_Braun_et_al  3GEX                                 Brain  BRC2106A_Braun_et_al_Cell_Fresh_3GEX     61996\n",
       "6.9   F    BRC2061_Braun_et_al   3GEX                                 Brain  BRC2061_Braun_et_al_Cell_Fresh_3GEX     128294\n",
       "7.0   F    XDD:398_Braun_et_al   3GEX                                 Brain  XDD:398_Braun_et_al_Cell_Fresh_3GEX      17653\n",
       "7.5   F    XHU:305_Braun_et_al   3GEX                                 Brain  XHU:305_Braun_et_al_Cell_Fresh_3GEX      38793\n",
       "8.0   F    XDD:334_Braun_et_al   3GEX                                 Brain  XDD:334_Braun_et_al_Cell_Fresh_3GEX      65511\n",
       "8.1   F    BRC2057_Braun_et_al   3GEX                                 Brain  BRC2057_Braun_et_al_Cell_Fresh_3GEX      31456\n",
       "8.5   F    XDD:313_Braun_et_al   3GEX                                 Brain  XDD:313_Braun_et_al_Cell_Fresh_3GEX      50605\n",
       "9.2   F    XHU:307_Braun_et_al   3GEX                                 Brain  XHU:307_Braun_et_al_Cell_Fresh_3GEX      85820\n",
       "9.5   F    XHU:292_Braun_et_al   3GEX                                 Brain  XHU:292_Braun_et_al_Cell_Fresh_3GEX      28452\n",
       "10.0  F    XHU:297_Braun_et_al   3GEX                                 Brain  XHU:297_Braun_et_al_Cell_Fresh_3GEX      88790\n",
       "11.5  F    XDD:358_Braun_et_al   3GEX                                 Brain  XDD:358_Braun_et_al_Cell_Fresh_3GEX     102454\n",
       "13.0  F    XDD:359_Braun_et_al   3GEX                                 Brain  XDD:359_Braun_et_al_Cell_Fresh_3GEX      38865\n",
       "dtype: int64"
      ]
     },
     "metadata": {},
     "output_type": "display_data"
    }
   ],
   "source": [
    "with pd.option_context('display.max_rows', None):\n",
    "    k = adata.obs.groupby([\"age\", \"sex\", \"integration_donor\", \"integration_library_platform_coarse\", \"organ\", \"concatenated_integration_covariates\"]).size()\n",
    "    display(k[k!=0])"
   ]
  },
  {
   "cell_type": "code",
   "execution_count": 12,
   "id": "d6c443b0-2982-4d53-9f43-71a2759d825b",
   "metadata": {},
   "outputs": [
    {
     "name": "stdout",
     "output_type": "stream",
     "text": [
      "882450\n"
     ]
    }
   ],
   "source": [
    "df = adata.obs.copy()\n",
    "group_sizes = df.groupby([\"cell_type\", \"age\"]).size()\n",
    "valid_groups = group_sizes[group_sizes > 30].index\n",
    "filtered_bool = df.set_index([\"cell_type\", \"age\"]).index.isin(valid_groups)\n",
    "print(filtered_bool.sum())\n",
    "adata = adata[filtered_bool]"
   ]
  },
  {
   "cell_type": "code",
   "execution_count": 13,
   "id": "f176058e-2ca5-4b7d-b8d5-641a75d65e4c",
   "metadata": {},
   "outputs": [
    {
     "data": {
      "text/plain": [
       "cell_type                                   age \n",
       "Brain erythrocytes                          5.0       219\n",
       "                                            5.5       464\n",
       "                                            6.0       113\n",
       "                                            6.6       111\n",
       "                                            6.9       112\n",
       "                                            7.0        61\n",
       "                                            7.5        40\n",
       "                                            8.5       275\n",
       "                                            9.2        74\n",
       "                                            9.5        36\n",
       "                                            10.0       37\n",
       "                                            11.5     1047\n",
       "                                            13.0      149\n",
       "Brain fibroblasts                           5.0      6093\n",
       "                                            5.5      7165\n",
       "                                            6.6       406\n",
       "                                            8.0        49\n",
       "                                            8.5      1031\n",
       "                                            9.2      1311\n",
       "                                            9.5       350\n",
       "                                            11.5     1415\n",
       "                                            13.0      116\n",
       "Brain placode cells                         5.0       274\n",
       "                                            5.5        88\n",
       "                                            6.6       309\n",
       "Brain vascular cells                        5.0        86\n",
       "                                            5.5       263\n",
       "                                            6.0        63\n",
       "                                            6.6       221\n",
       "                                            6.9       238\n",
       "                                            7.0       136\n",
       "                                            7.5        78\n",
       "                                            8.0       275\n",
       "                                            8.1        81\n",
       "                                            8.5       191\n",
       "                                            9.2       586\n",
       "                                            9.5        43\n",
       "                                            10.0      189\n",
       "                                            11.5     1768\n",
       "                                            13.0      829\n",
       "Cerebellum glioblast                        8.0       685\n",
       "                                            8.1       266\n",
       "                                            11.5     2245\n",
       "Cerebellum immune cells                     8.0        57\n",
       "                                            11.5       99\n",
       "Cerebellum neuroblast                       6.9      8766\n",
       "                                            8.0       934\n",
       "                                            8.1       774\n",
       "                                            11.5     3612\n",
       "Cerebellum neuron                           6.9      5952\n",
       "                                            8.0      7407\n",
       "                                            8.1      2775\n",
       "                                            11.5     5970\n",
       "Cerebellum neuronal IPC                     6.9      2036\n",
       "                                            8.0       206\n",
       "                                            8.1       206\n",
       "                                            11.5      396\n",
       "Cerebellum oligodendrocyte precursor cells  11.5       78\n",
       "Cerebellum radial glia                      6.9      4067\n",
       "                                            8.1       120\n",
       "Cortex glioblast                            9.2       449\n",
       "                                            9.5      1262\n",
       "                                            10.0     3914\n",
       "                                            11.5     5918\n",
       "                                            13.0     3619\n",
       "Cortex immune cells                         9.2        35\n",
       "                                            9.5        62\n",
       "                                            10.0      114\n",
       "                                            11.5      227\n",
       "                                            13.0      132\n",
       "Cortex neuroblast                           6.9      1691\n",
       "                                            9.2      4763\n",
       "                                            9.5      2495\n",
       "                                            10.0     9405\n",
       "                                            11.5    11479\n",
       "                                            13.0     5627\n",
       "Cortex neuron                               6.9       171\n",
       "                                            9.2      5953\n",
       "                                            9.5      5310\n",
       "                                            10.0    17469\n",
       "                                            11.5    19614\n",
       "                                            13.0     7423\n",
       "Cortex neuronal IPC                         6.9       787\n",
       "                                            9.2      1931\n",
       "                                            9.5      1639\n",
       "                                            10.0     4288\n",
       "                                            11.5     3871\n",
       "                                            13.0     2197\n",
       "Cortex oligodendrocyte precursor cells      10.0       39\n",
       "                                            11.5      232\n",
       "                                            13.0      156\n",
       "Cortex radial glia                          6.9      6957\n",
       "                                            9.2      9496\n",
       "                                            9.5      4534\n",
       "                                            10.0    16011\n",
       "                                            11.5     4425\n",
       "                                            13.0     1576\n",
       "Forebrain glioblast                         7.5      3308\n",
       "                                            8.5      4879\n",
       "                                            9.2      2470\n",
       "                                            10.0     6524\n",
       "Forebrain immune cells                      5.5        48\n",
       "                                            7.5        40\n",
       "                                            8.5       201\n",
       "                                            9.2        49\n",
       "                                            10.0       92\n",
       "Forebrain neural crest cells                5.5        49\n",
       "Forebrain neuroblast                        5.0      3028\n",
       "                                            5.5      1074\n",
       "                                            6.6      1346\n",
       "                                            7.5      5260\n",
       "                                            8.5      8766\n",
       "                                            9.2      2573\n",
       "                                            10.0     7062\n",
       "Forebrain neuron                            5.0      6217\n",
       "                                            5.5      2849\n",
       "                                            6.6      4798\n",
       "                                            7.5     13567\n",
       "                                            8.5     14472\n",
       "                                            9.2     10249\n",
       "                                            10.0    15623\n",
       "Forebrain neuronal IPC                      5.0       354\n",
       "                                            5.5       315\n",
       "                                            6.6       280\n",
       "                                            7.5      6188\n",
       "                                            8.5      4542\n",
       "                                            9.2      3648\n",
       "                                            10.0     3163\n",
       "Forebrain oligodendrocyte precursor cells   9.2        65\n",
       "                                            10.0      140\n",
       "Forebrain radial glia                       5.0     16592\n",
       "                                            5.5      8480\n",
       "                                            6.6     10299\n",
       "                                            7.5     10284\n",
       "                                            8.5     16219\n",
       "                                            9.2      4020\n",
       "                                            10.0     4720\n",
       "Head immune cells                           5.0        31\n",
       "Head neural crest cells                     5.0       282\n",
       "Head radial glia                            5.0        95\n",
       "Hindbrain glioblast                         7.0        51\n",
       "Hindbrain immune cells                      5.0        31\n",
       "Hindbrain neuroblast                        5.0      5410\n",
       "                                            5.5      4152\n",
       "                                            7.0      3553\n",
       "Hindbrain neuron                            5.0      9397\n",
       "                                            5.5      5028\n",
       "                                            7.0      3185\n",
       "Hindbrain neuronal IPC                      5.0       464\n",
       "                                            5.5       402\n",
       "                                            7.0       710\n",
       "Hindbrain radial glia                       5.0      8244\n",
       "                                            5.5      6632\n",
       "                                            7.0      1674\n",
       "Hypothalamus glioblast                      8.1       703\n",
       "Hypothalamus neuroblast                     8.1      2163\n",
       "Hypothalamus neuron                         8.1      6771\n",
       "Hypothalamus neuronal IPC                   8.1       324\n",
       "Hypothalamus radial glia                    8.1      3359\n",
       "Medulla glioblast                           6.0       932\n",
       "                                            8.0      1759\n",
       "                                            9.2      7342\n",
       "                                            13.0     1990\n",
       "Medulla immune cells                        6.0        61\n",
       "                                            6.6        31\n",
       "                                            8.0        77\n",
       "                                            9.2       166\n",
       "                                            13.0      171\n",
       "Medulla neural crest cells                  6.6        67\n",
       "                                            9.2        62\n",
       "Medulla neuroblast                          6.0      6191\n",
       "                                            6.6      3421\n",
       "                                            6.9      1797\n",
       "                                            8.0      1361\n",
       "                                            9.2      2520\n",
       "                                            13.0      488\n",
       "Medulla neuron                              6.0     10107\n",
       "                                            6.6      3619\n",
       "                                            6.9      1827\n",
       "                                            8.0      4337\n",
       "                                            9.2      2379\n",
       "                                            13.0      102\n",
       "Medulla neuronal IPC                        6.0       148\n",
       "                                            6.6       431\n",
       "                                            6.9        55\n",
       "                                            8.0       118\n",
       "                                            9.2        90\n",
       "Medulla oligodendrocyte precursor cells     8.0        96\n",
       "                                            9.2       470\n",
       "                                            13.0      348\n",
       "Medulla radial glia                         6.0      4568\n",
       "                                            6.6      4751\n",
       "                                            6.9      1342\n",
       "                                            8.0       480\n",
       "                                            9.2      1182\n",
       "                                            13.0      503\n",
       "Midbrain glioblast                          8.0      1207\n",
       "                                            9.2       710\n",
       "                                            11.5     2947\n",
       "Midbrain immune cells                       5.5       111\n",
       "                                            8.0        48\n",
       "                                            11.5      323\n",
       "Midbrain neuroblast                         5.0      1420\n",
       "                                            5.5      2774\n",
       "                                            6.6      2233\n",
       "                                            6.9      3442\n",
       "                                            7.0      1030\n",
       "                                            8.0      2644\n",
       "                                            9.2       494\n",
       "                                            11.5      690\n",
       "Midbrain neuron                             5.0      1398\n",
       "                                            5.5      4174\n",
       "                                            6.6      2501\n",
       "                                            6.9      8157\n",
       "                                            7.0      2743\n",
       "                                            8.0     15203\n",
       "                                            9.2      6083\n",
       "                                            11.5     4301\n",
       "Midbrain neuronal IPC                       5.0       263\n",
       "                                            5.5       450\n",
       "                                            6.6        38\n",
       "                                            6.9       116\n",
       "                                            7.0        51\n",
       "                                            8.0        58\n",
       "Midbrain oligodendrocyte precursor cells    11.5      130\n",
       "Midbrain radial glia                        5.0      2746\n",
       "                                            5.5     15084\n",
       "                                            6.6      9562\n",
       "                                            6.9     11078\n",
       "                                            7.0      4408\n",
       "                                            8.0      7474\n",
       "                                            9.2      1499\n",
       "                                            11.5      492\n",
       "Pons glioblast                              8.0      2599\n",
       "                                            9.2      3677\n",
       "                                            11.5     2576\n",
       "                                            13.0     3279\n",
       "Pons immune cells                           6.6        36\n",
       "                                            6.9        51\n",
       "                                            8.0        49\n",
       "                                            9.2       131\n",
       "                                            11.5      106\n",
       "                                            13.0      292\n",
       "Pons neural crest cells                     11.5       59\n",
       "Pons neuroblast                             6.6      3555\n",
       "                                            6.9      3479\n",
       "                                            8.0      1887\n",
       "                                            9.2      2404\n",
       "                                            11.5     2626\n",
       "                                            13.0      190\n",
       "Pons neuron                                 6.6      2857\n",
       "                                            6.9      9415\n",
       "                                            8.0      3967\n",
       "                                            9.2      7670\n",
       "                                            11.5      275\n",
       "                                            13.0      181\n",
       "Pons neuronal IPC                           6.6       918\n",
       "                                            6.9       314\n",
       "                                            8.0       157\n",
       "                                            9.2       285\n",
       "                                            11.5       50\n",
       "Pons oligodendrocyte precursor cells        8.0       164\n",
       "                                            9.2        92\n",
       "                                            11.5      173\n",
       "                                            13.0      552\n",
       "Pons radial glia                            6.6     10101\n",
       "                                            6.9      1237\n",
       "                                            8.0       414\n",
       "                                            9.2       820\n",
       "                                            11.5      670\n",
       "                                            13.0      285\n",
       "Striatum glioblast                          6.9        68\n",
       "Striatum neuroblast                         6.9      2203\n",
       "Striatum neuron                             6.9     15158\n",
       "Striatum neuronal IPC                       6.9      2410\n",
       "Striatum radial glia                        6.9      9756\n",
       "Subcortex glioblast                         8.0       465\n",
       "                                            9.5      1972\n",
       "                                            11.5     6334\n",
       "                                            13.0     1359\n",
       "Subcortex immune cells                      9.5        36\n",
       "                                            11.5      344\n",
       "Subcortex neuroblast                        8.0      1973\n",
       "                                            9.5       877\n",
       "                                            11.5     1576\n",
       "                                            13.0       55\n",
       "Subcortex neuron                            8.0      5520\n",
       "                                            9.5      6606\n",
       "                                            11.5    10367\n",
       "                                            13.0     4913\n",
       "Subcortex neuronal IPC                      8.0      1655\n",
       "                                            9.5      2146\n",
       "                                            11.5     4496\n",
       "                                            13.0     2013\n",
       "Subcortex oligodendrocyte precursor cells   9.5        32\n",
       "                                            11.5      135\n",
       "Subcortex radial glia                       8.0      2088\n",
       "                                            9.5      1032\n",
       "                                            11.5     1349\n",
       "                                            13.0      272\n",
       "Thalamus glioblast                          8.1       288\n",
       "Thalamus neuroblast                         6.9      3635\n",
       "                                            8.1      3236\n",
       "Thalamus neuron                             6.9     11138\n",
       "                                            8.1      4432\n",
       "Thalamus neuronal IPC                       6.9      1768\n",
       "                                            8.1      2942\n",
       "Thalamus radial glia                        6.9      8949\n",
       "                                            8.1      2960\n",
       "dtype: int64"
      ]
     },
     "metadata": {},
     "output_type": "display_data"
    }
   ],
   "source": [
    "with pd.option_context('display.max_rows', None):\n",
    "    k = adata.obs.groupby([\"cell_type\", \"age\"]).size()\n",
    "    display(k[k>0])"
   ]
  },
  {
   "cell_type": "code",
   "execution_count": 14,
   "id": "f00cc942-a9ec-4da0-bb55-06b8291a687a",
   "metadata": {},
   "outputs": [
    {
     "data": {
      "text/plain": [
       "View of AnnData object with n_obs × n_vars = 882450 × 8192\n",
       "    obs: 'sample_ID', 'organ', 'age', 'cell_type', 'sex', 'sex_inferred', 'concatenated_integration_covariates', 'integration_donor', 'integration_biological_unit', 'integration_sample_status', 'integration_library_platform_coarse', 'n_genes'\n",
       "    uns: 'rank_genes_groups'\n",
       "    obsm: 'Unintegrated', 'X_pca', 'harmony'"
      ]
     },
     "execution_count": 14,
     "metadata": {},
     "output_type": "execute_result"
    }
   ],
   "source": [
    "adata"
   ]
  },
  {
   "cell_type": "code",
   "execution_count": 15,
   "id": "b0bcd217-e016-467f-8851-97826d01190d",
   "metadata": {},
   "outputs": [],
   "source": [
    "adata_write_path = os.path.join(tardis.config.io_directories[\"processed\"], \"dataset_complete_Braun_age.h5ad\")\n",
    "adata.write_h5ad(adata_write_path)"
   ]
  },
  {
   "cell_type": "code",
   "execution_count": null,
   "id": "35a5dbcf-763f-425b-8fb0-d914fcdefb6d",
   "metadata": {},
   "outputs": [],
   "source": []
  },
  {
   "cell_type": "code",
   "execution_count": null,
   "id": "718a4d71-7f61-4559-abad-f940973fee6c",
   "metadata": {},
   "outputs": [],
   "source": []
  },
  {
   "cell_type": "code",
   "execution_count": null,
   "id": "670232e0-8d4e-4ce6-bc14-cb03124231e4",
   "metadata": {},
   "outputs": [],
   "source": []
  }
 ],
 "metadata": {
  "kernelspec": {
   "display_name": "Python 3 (ipykernel)",
   "language": "python",
   "name": "python3"
  },
  "language_info": {
   "codemirror_mode": {
    "name": "ipython",
    "version": 3
   },
   "file_extension": ".py",
   "mimetype": "text/x-python",
   "name": "python",
   "nbconvert_exporter": "python",
   "pygments_lexer": "ipython3",
   "version": "3.10.14"
  }
 },
 "nbformat": 4,
 "nbformat_minor": 5
}
