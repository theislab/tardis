{
 "cells": [
  {
   "cell_type": "markdown",
   "id": "7a174ddf-1bac-4261-a2df-155cc7e8fc31",
   "metadata": {},
   "source": [
    "# Suo"
   ]
  },
  {
   "cell_type": "code",
   "execution_count": null,
   "id": "bd13e0f4-b441-4653-bf08-f2812d58f844",
   "metadata": {},
   "outputs": [],
   "source": [
    "import warnings\n",
    "import os\n",
    "import sys\n",
    "import gc\n",
    "import warnings"
   ]
  },
  {
   "cell_type": "code",
   "execution_count": null,
   "id": "0d362b42-a27d-486f-9c83-f52a59bfc6a5",
   "metadata": {},
   "outputs": [],
   "source": [
    "import anndata as ad\n",
    "import scanpy as sc\n",
    "import copy\n",
    "import torch\n",
    "from pathlib import Path\n",
    "import networkx as nx\n",
    "from sklearn.neighbors import kneighbors_graph\n",
    "import rapids_singlecell as rsc\n",
    "import numpy as np\n",
    "import scanpy as sc\n",
    "import pandas as pd\n",
    "import numpy as np\n",
    "import scipy.stats\n",
    "\n",
    "sys.path.append(\"/home/icb/kemal.inecik/work/codes/tardis\")\n",
    "import tardis\n",
    "tardis.config = tardis.config_server"
   ]
  },
  {
   "cell_type": "code",
   "execution_count": null,
   "id": "6e834108-5b88-402d-94c9-c8002c7a927a",
   "metadata": {},
   "outputs": [],
   "source": [
    "print(f\"CUDA used: {torch.cuda.is_available()}\")"
   ]
  },
  {
   "cell_type": "code",
   "execution_count": null,
   "id": "f0a8fa63-54f9-4cc9-aa2c-e2f1ce8ec9e8",
   "metadata": {},
   "outputs": [],
   "source": [
    "%matplotlib inline\n",
    "%config InlineBackend.figure_format='retina'\n",
    "import matplotlib.pyplot as plt\n",
    "import seaborn as sns\n",
    "\n",
    "import pickle\n",
    "_rcparams_path = \"/home/icb/kemal.inecik/work/codes/tardis/training/local/figures/rcparams.pickle\"\n",
    "with open(_rcparams_path, 'rb') as file:\n",
    "    _rcparams = pickle.load(file)\n",
    "plt.rcParams.update(_rcparams)"
   ]
  },
  {
   "cell_type": "code",
   "execution_count": null,
   "id": "ea9ee642-93ef-4cbc-b83c-5e9f16122b7d",
   "metadata": {},
   "outputs": [
    {
     "name": "stdout",
     "output_type": "stream",
     "text": [
      "AnnData object with n_obs × n_vars = 73697 × 8192\n",
      "    obs: 'sample_ID', 'organ', 'age', 'cell_type', 'sex', 'sex_inferred', 'concatenated_integration_covariates', 'integration_donor', 'integration_biological_unit', 'integration_sample_status', 'integration_library_platform_coarse', 'n_genes', 'age_categorical'\n",
      "    uns: 'rank_genes_groups'\n",
      "    obsm: 'Unintegrated', 'X_pca', 'harmony'\n"
     ]
    }
   ],
   "source": [
    "adata_file_path = os.path.join(tardis.config.io_directories[\"processed\"], \"dataset_complete_Braun_age.h5ad\")\n",
    "assert os.path.isfile(adata_file_path), f\"File not already exist: `{adata_file_path}`\"\n",
    "adata = ad.read_h5ad(adata_file_path)\n",
    "adata.obs[\"age\"] = adata.obs[\"age\"].astype(float)\n",
    "adata.obs[\"age_categorical\"] = adata.obs[\"age\"].astype(str)\n",
    "d = {i: ind for ind, i in enumerate(sorted(adata.obs[\"age\"].astype(float).unique()))}\n",
    "adata.obs[\"age_training\"] = [d[float(i)] for i in adata.obs[\"age\"]]\n",
    "print(adata_file_path, flush=True)\n",
    "print(adata, flush=True)"
   ]
  },
  {
   "cell_type": "code",
   "execution_count": null,
   "id": "fd461c79",
   "metadata": {},
   "outputs": [],
   "source": [
    "model_level_metrics = [\n",
    "    dict(\n",
    "        metric_identifier = \"metric_mi|age_categorical\",\n",
    "        training_set = [\"train\", \"validation\"],\n",
    "        every_n_epoch = 5,\n",
    "        subsample = 0.25,\n",
    "        progress_bar = True,\n",
    "        metric_kwargs = dict(\n",
    "            variation = \"normalized\",\n",
    "            discretization_bins = 512,\n",
    "            latent_subset=None,\n",
    "            reduce=np.mean\n",
    "        )\n",
    "    )\n",
    "]"
   ]
  },
  {
   "cell_type": "code",
   "execution_count": null,
   "id": "c43333cc-9e19-469f-8452-11ff5ee08db9",
   "metadata": {},
   "outputs": [],
   "source": [
    "warmup_epoch_range = [6, 48]\n",
    "dtc_w1 = 100\n",
    "dtc_w2 = 10\n",
    "\n",
    "counteractive_minibatch_settings = dict(\n",
    "    method = \"categorical_random\",\n",
    "    method_kwargs = dict(\n",
    "        within_labels = False,\n",
    "        within_batch = False,\n",
    "        within_categorical_covs = None,\n",
    "        seed = \"forward\",\n",
    "    )\n",
    ")\n",
    "\n",
    "disentenglement_targets_configurations=[\n",
    "    dict(\n",
    "        obs_key = \"age_training\",\n",
    "        n_reserved_latent = 8,\n",
    "        counteractive_minibatch_settings = counteractive_minibatch_settings,\n",
    "        auxillary_losses = [\n",
    "            dict(\n",
    "                apply = True, \n",
    "                target_type=\"pseudo_categorical\",\n",
    "                non_categorical_coefficient_method=\"squared_difference\",\n",
    "                progress_bar = False,\n",
    "                weight = dtc_w1,\n",
    "                method = \"mse_z\", \n",
    "                latent_group = \"reserved\",\n",
    "                counteractive_example = \"negative\",\n",
    "                transformation = \"inverse\", \n",
    "                warmup_epoch_range=warmup_epoch_range,\n",
    "                method_kwargs = {}\n",
    "            ),\n",
    "            dict(\n",
    "                apply = True, \n",
    "                target_type=\"categorical\",\n",
    "                progress_bar = False,\n",
    "                weight = dtc_w2, \n",
    "                method = \"mse_z\", \n",
    "                latent_group = \"reserved\",\n",
    "                counteractive_example = \"positive\",\n",
    "                transformation = \"none\",\n",
    "                warmup_epoch_range=warmup_epoch_range,\n",
    "                method_kwargs = {}\n",
    "            ),\n",
    "            dict(\n",
    "                apply = True, \n",
    "                target_type=\"categorical\",\n",
    "                progress_bar = False,\n",
    "                weight = dtc_w2 * 1,\n",
    "                method = \"mse_z\", \n",
    "                latent_group = \"unreserved_complete\",\n",
    "                counteractive_example = \"negative\",\n",
    "                transformation = \"none\", \n",
    "                warmup_epoch_range=warmup_epoch_range,\n",
    "                method_kwargs = {}\n",
    "            ),\n",
    "            dict(\n",
    "                apply = True, \n",
    "                target_type=\"categorical\",\n",
    "                progress_bar = False,\n",
    "                weight = dtc_w1 * 1, \n",
    "                method = \"mse_z\", \n",
    "                latent_group = \"unreserved_complete\",\n",
    "                counteractive_example = \"positive\",\n",
    "                transformation = \"inverse\",\n",
    "                warmup_epoch_range=warmup_epoch_range,\n",
    "                method_kwargs = {}\n",
    "            ),\n",
    "        ]\n",
    "    )\n",
    "]"
   ]
  },
  {
   "cell_type": "code",
   "execution_count": null,
   "id": "af1962de-51e8-453c-907a-b338c1f82f88",
   "metadata": {
    "scrolled": true
   },
   "outputs": [
    {
     "name": "stderr",
     "output_type": "stream",
     "text": [
      "`Trainer(limit_val_batches=1.0)` was configured so 100% of the batches will be used..\n"
     ]
    },
    {
     "name": "stderr",
     "output_type": "stream",
     "text": [
      "/home/icb/kemal.inecik/tools/apps/mamba/envs/tardis_env/lib/python3.10/site-packages/lightning/fabric/plugins/environments/slurm.py:168: The `srun` command is available on your system but is not used. HINT: If your intention is to run Lightning on SLURM, prepend your python command with `srun` like so: srun python /home/icb/kemal.inecik/tools/apps/mamba/envs/tardis_ ...\n",
      "/home/icb/kemal.inecik/tools/apps/mamba/envs/tardis_env/lib/python3.10/site-packages/torch/optim/lr_scheduler.py:28: UserWarning: The verbose parameter is deprecated. Please use get_last_lr() to access the learning rate.\n",
      "  warnings.warn(\"The verbose parameter is deprecated. Please use get_last_lr() \"\n"
     ]
    },
    {
     "name": "stdout",
     "output_type": "stream",
     "text": [
      "\r\n",
      "Training:   0%|          | 0/600 [00:00<?, ?it/s]"
     ]
    },
    {
     "name": "stdout",
     "output_type": "stream",
     "text": [
      "\r\n",
      "Epoch 1/600:   0%|          | 0/600 [00:00<?, ?it/s]"
     ]
    },
    {
     "name": "stderr",
     "output_type": "stream",
     "text": [
      "/home/icb/kemal.inecik/work/codes/tardis/tardis/_counteractivegenerator.py:237: UserWarning: Possible group definition indices are calculated for `age_categorical` for `training` set. Number of elements in each group: 4787,7544,5876,6783,15121,18847\n",
      "  possible_indices = CachedPossibleGroupDefinitionIndices.get(\n"
     ]
    },
    {
     "name": "stderr",
     "output_type": "stream",
     "text": [
      "/home/icb/kemal.inecik/work/codes/tardis/tardis/_counteractivegenerator.py:237: UserWarning: Possible group definition indices are calculated for `age_categorical` for `validation` set. Number of elements in each group: 1226,1900,1443,1561,3844,4765\n",
      "  possible_indices = CachedPossibleGroupDefinitionIndices.get(\n"
     ]
    },
    {
     "name": "stdout",
     "output_type": "stream",
     "text": [
      "\r\n",
      "Epoch 1/600:   0%|          | 1/600 [00:41<6:57:59, 41.87s/it]"
     ]
    },
    {
     "name": "stdout",
     "output_type": "stream",
     "text": [
      "\r\n",
      "Epoch 1/600:   0%|          | 1/600 [00:41<6:57:59, 41.87s/it, v_num=a0_1, total_loss_train=591, kl_local_train=36.5]"
     ]
    },
    {
     "name": "stdout",
     "output_type": "stream",
     "text": [
      "\r\n",
      "Epoch 2/600:   0%|          | 1/600 [00:41<6:57:59, 41.87s/it, v_num=a0_1, total_loss_train=591, kl_local_train=36.5]"
     ]
    },
    {
     "name": "stdout",
     "output_type": "stream",
     "text": [
      "\r\n",
      "Epoch 2/600:   0%|          | 2/600 [01:20<6:35:33, 39.69s/it, v_num=a0_1, total_loss_train=591, kl_local_train=36.5]"
     ]
    },
    {
     "name": "stdout",
     "output_type": "stream",
     "text": [
      "\r\n",
      "Epoch 2/600:   0%|          | 2/600 [01:20<6:35:33, 39.69s/it, v_num=a0_1, total_loss_train=459, kl_local_train=56.7]"
     ]
    },
    {
     "name": "stdout",
     "output_type": "stream",
     "text": [
      "\r\n",
      "Epoch 3/600:   0%|          | 2/600 [01:20<6:35:33, 39.69s/it, v_num=a0_1, total_loss_train=459, kl_local_train=56.7]"
     ]
    },
    {
     "name": "stdout",
     "output_type": "stream",
     "text": [
      "\r\n",
      "Epoch 3/600:   0%|          | 3/600 [01:57<6:22:51, 38.48s/it, v_num=a0_1, total_loss_train=459, kl_local_train=56.7]"
     ]
    },
    {
     "name": "stdout",
     "output_type": "stream",
     "text": [
      "\r\n",
      "Epoch 3/600:   0%|          | 3/600 [01:57<6:22:51, 38.48s/it, v_num=a0_1, total_loss_train=441, kl_local_train=63.1]"
     ]
    },
    {
     "name": "stdout",
     "output_type": "stream",
     "text": [
      "\r\n",
      "Epoch 4/600:   0%|          | 3/600 [01:57<6:22:51, 38.48s/it, v_num=a0_1, total_loss_train=441, kl_local_train=63.1]"
     ]
    },
    {
     "name": "stdout",
     "output_type": "stream",
     "text": [
      "\r\n",
      "Epoch 4/600:   1%|          | 4/600 [02:34<6:17:35, 38.01s/it, v_num=a0_1, total_loss_train=441, kl_local_train=63.1]"
     ]
    },
    {
     "name": "stdout",
     "output_type": "stream",
     "text": [
      "\r\n",
      "Epoch 4/600:   1%|          | 4/600 [02:34<6:17:35, 38.01s/it, v_num=a0_1, total_loss_train=433, kl_local_train=64.4]"
     ]
    },
    {
     "name": "stdout",
     "output_type": "stream",
     "text": [
      "\r\n",
      "Epoch 5/600:   1%|          | 4/600 [02:34<6:17:35, 38.01s/it, v_num=a0_1, total_loss_train=433, kl_local_train=64.4]"
     ]
    },
    {
     "name": "stdout",
     "output_type": "stream",
     "text": [
      "\r\n",
      "Epoch 5/600:   1%|          | 5/600 [03:13<6:20:11, 38.34s/it, v_num=a0_1, total_loss_train=433, kl_local_train=64.4]"
     ]
    },
    {
     "name": "stdout",
     "output_type": "stream",
     "text": [
      "\r\n",
      "Epoch 5/600:   1%|          | 5/600 [03:13<6:20:11, 38.34s/it, v_num=a0_1, total_loss_train=429, kl_local_train=63.7]"
     ]
    },
    {
     "name": "stdout",
     "output_type": "stream",
     "text": [
      "\r\n",
      "Epoch 6/600:   1%|          | 5/600 [03:13<6:20:11, 38.34s/it, v_num=a0_1, total_loss_train=429, kl_local_train=63.7]"
     ]
    },
    {
     "name": "stdout",
     "output_type": "stream",
     "text": [
      "\r\n",
      "Epoch 6/600:   1%|          | 6/600 [03:48<6:08:30, 37.22s/it, v_num=a0_1, total_loss_train=429, kl_local_train=63.7]"
     ]
    },
    {
     "name": "stdout",
     "output_type": "stream",
     "text": [
      "\r\n",
      "Epoch 6/600:   1%|          | 6/600 [03:48<6:08:30, 37.22s/it, v_num=a0_1, total_loss_train=426, kl_local_train=61.7, metric_mi|age_categorical_train=0.0742]"
     ]
    },
    {
     "name": "stdout",
     "output_type": "stream",
     "text": [
      "\r\n",
      "Epoch 7/600:   1%|          | 6/600 [03:48<6:08:30, 37.22s/it, v_num=a0_1, total_loss_train=426, kl_local_train=61.7, metric_mi|age_categorical_train=0.0742]"
     ]
    },
    {
     "name": "stdout",
     "output_type": "stream",
     "text": [
      "\r\n",
      "Epoch 7/600:   1%|          | 7/600 [04:22<5:58:35, 36.28s/it, v_num=a0_1, total_loss_train=426, kl_local_train=61.7, metric_mi|age_categorical_train=0.0742]"
     ]
    },
    {
     "name": "stdout",
     "output_type": "stream",
     "text": [
      "\r\n",
      "Epoch 7/600:   1%|          | 7/600 [04:22<5:58:35, 36.28s/it, v_num=a0_1, total_loss_train=424, kl_local_train=60.7, metric_mi|age_categorical_train=0.0742]"
     ]
    },
    {
     "name": "stdout",
     "output_type": "stream",
     "text": [
      "\r\n",
      "Epoch 8/600:   1%|          | 7/600 [04:22<5:58:35, 36.28s/it, v_num=a0_1, total_loss_train=424, kl_local_train=60.7, metric_mi|age_categorical_train=0.0742]"
     ]
    },
    {
     "name": "stdout",
     "output_type": "stream",
     "text": [
      "\r\n",
      "Epoch 8/600:   1%|▏         | 8/600 [04:57<5:52:37, 35.74s/it, v_num=a0_1, total_loss_train=424, kl_local_train=60.7, metric_mi|age_categorical_train=0.0742]"
     ]
    },
    {
     "name": "stdout",
     "output_type": "stream",
     "text": [
      "\r\n",
      "Epoch 8/600:   1%|▏         | 8/600 [04:57<5:52:37, 35.74s/it, v_num=a0_1, total_loss_train=435, kl_local_train=76.2, metric_mi|age_categorical_train=0.0742]"
     ]
    },
    {
     "name": "stdout",
     "output_type": "stream",
     "text": [
      "\r\n",
      "Epoch 9/600:   1%|▏         | 8/600 [04:57<5:52:37, 35.74s/it, v_num=a0_1, total_loss_train=435, kl_local_train=76.2, metric_mi|age_categorical_train=0.0742]"
     ]
    },
    {
     "name": "stdout",
     "output_type": "stream",
     "text": [
      "\r\n",
      "Epoch 9/600:   2%|▏         | 9/600 [05:30<5:43:29, 34.87s/it, v_num=a0_1, total_loss_train=435, kl_local_train=76.2, metric_mi|age_categorical_train=0.0742]"
     ]
    },
    {
     "name": "stdout",
     "output_type": "stream",
     "text": [
      "\r\n",
      "Epoch 9/600:   2%|▏         | 9/600 [05:30<5:43:29, 34.87s/it, v_num=a0_1, total_loss_train=443, kl_local_train=68.7, metric_mi|age_categorical_train=0.0742]"
     ]
    },
    {
     "name": "stdout",
     "output_type": "stream",
     "text": [
      "\r\n",
      "Epoch 10/600:   2%|▏         | 9/600 [05:30<5:43:29, 34.87s/it, v_num=a0_1, total_loss_train=443, kl_local_train=68.7, metric_mi|age_categorical_train=0.0742]"
     ]
    },
    {
     "name": "stdout",
     "output_type": "stream",
     "text": [
      "\r\n",
      "Epoch 10/600:   2%|▏         | 10/600 [06:04<5:41:42, 34.75s/it, v_num=a0_1, total_loss_train=443, kl_local_train=68.7, metric_mi|age_categorical_train=0.0742]"
     ]
    },
    {
     "name": "stdout",
     "output_type": "stream",
     "text": [
      "\r\n",
      "Epoch 10/600:   2%|▏         | 10/600 [06:04<5:41:42, 34.75s/it, v_num=a0_1, total_loss_train=451, kl_local_train=68.3, metric_mi|age_categorical_train=0.0742]"
     ]
    },
    {
     "name": "stdout",
     "output_type": "stream",
     "text": [
      "\r\n",
      "Epoch 11/600:   2%|▏         | 10/600 [06:05<5:41:42, 34.75s/it, v_num=a0_1, total_loss_train=451, kl_local_train=68.3, metric_mi|age_categorical_train=0.0742]"
     ]
    },
    {
     "name": "stdout",
     "output_type": "stream",
     "text": [
      "\r\n",
      "Epoch 11/600:   2%|▏         | 11/600 [06:40<5:44:50, 35.13s/it, v_num=a0_1, total_loss_train=451, kl_local_train=68.3, metric_mi|age_categorical_train=0.0742]"
     ]
    },
    {
     "name": "stdout",
     "output_type": "stream",
     "text": [
      "\r\n",
      "Epoch 11/600:   2%|▏         | 11/600 [06:40<5:44:50, 35.13s/it, v_num=a0_1, total_loss_train=454, kl_local_train=111, metric_mi|age_categorical_train=0.0767] "
     ]
    },
    {
     "name": "stdout",
     "output_type": "stream",
     "text": [
      "\r\n",
      "Epoch 12/600:   2%|▏         | 11/600 [06:40<5:44:50, 35.13s/it, v_num=a0_1, total_loss_train=454, kl_local_train=111, metric_mi|age_categorical_train=0.0767]"
     ]
    },
    {
     "name": "stdout",
     "output_type": "stream",
     "text": [
      "\r\n",
      "Epoch 12/600:   2%|▏         | 12/600 [07:15<5:43:37, 35.06s/it, v_num=a0_1, total_loss_train=454, kl_local_train=111, metric_mi|age_categorical_train=0.0767]"
     ]
    },
    {
     "name": "stdout",
     "output_type": "stream",
     "text": [
      "\r\n",
      "Epoch 12/600:   2%|▏         | 12/600 [07:15<5:43:37, 35.06s/it, v_num=a0_1, total_loss_train=450, kl_local_train=233, metric_mi|age_categorical_train=0.0767]"
     ]
    },
    {
     "name": "stdout",
     "output_type": "stream",
     "text": [
      "\r\n",
      "Epoch 13/600:   2%|▏         | 12/600 [07:15<5:43:37, 35.06s/it, v_num=a0_1, total_loss_train=450, kl_local_train=233, metric_mi|age_categorical_train=0.0767]"
     ]
    },
    {
     "name": "stdout",
     "output_type": "stream",
     "text": [
      "\r\n",
      "Epoch 13/600:   2%|▏         | 13/600 [07:50<5:41:32, 34.91s/it, v_num=a0_1, total_loss_train=450, kl_local_train=233, metric_mi|age_categorical_train=0.0767]"
     ]
    },
    {
     "name": "stdout",
     "output_type": "stream",
     "text": [
      "\r\n",
      "Epoch 13/600:   2%|▏         | 13/600 [07:50<5:41:32, 34.91s/it, v_num=a0_1, total_loss_train=452, kl_local_train=285, metric_mi|age_categorical_train=0.0767]"
     ]
    },
    {
     "name": "stdout",
     "output_type": "stream",
     "text": [
      "\r\n",
      "Epoch 14/600:   2%|▏         | 13/600 [07:50<5:41:32, 34.91s/it, v_num=a0_1, total_loss_train=452, kl_local_train=285, metric_mi|age_categorical_train=0.0767]"
     ]
    },
    {
     "name": "stdout",
     "output_type": "stream",
     "text": [
      "\r\n",
      "Epoch 14/600:   2%|▏         | 14/600 [08:27<5:47:26, 35.57s/it, v_num=a0_1, total_loss_train=452, kl_local_train=285, metric_mi|age_categorical_train=0.0767]"
     ]
    },
    {
     "name": "stdout",
     "output_type": "stream",
     "text": [
      "\r\n",
      "Epoch 14/600:   2%|▏         | 14/600 [08:27<5:47:26, 35.57s/it, v_num=a0_1, total_loss_train=453, kl_local_train=316, metric_mi|age_categorical_train=0.0767]"
     ]
    },
    {
     "name": "stdout",
     "output_type": "stream",
     "text": [
      "\r\n",
      "Epoch 15/600:   2%|▏         | 14/600 [08:27<5:47:26, 35.57s/it, v_num=a0_1, total_loss_train=453, kl_local_train=316, metric_mi|age_categorical_train=0.0767]"
     ]
    },
    {
     "name": "stdout",
     "output_type": "stream",
     "text": [
      "\r\n",
      "Epoch 15/600:   2%|▎         | 15/600 [09:05<5:53:26, 36.25s/it, v_num=a0_1, total_loss_train=453, kl_local_train=316, metric_mi|age_categorical_train=0.0767]"
     ]
    },
    {
     "name": "stdout",
     "output_type": "stream",
     "text": [
      "\r\n",
      "Epoch 15/600:   2%|▎         | 15/600 [09:05<5:53:26, 36.25s/it, v_num=a0_1, total_loss_train=456, kl_local_train=356, metric_mi|age_categorical_train=0.0767]"
     ]
    },
    {
     "name": "stdout",
     "output_type": "stream",
     "text": [
      "\r\n",
      "Epoch 16/600:   2%|▎         | 15/600 [09:05<5:53:26, 36.25s/it, v_num=a0_1, total_loss_train=456, kl_local_train=356, metric_mi|age_categorical_train=0.0767]"
     ]
    },
    {
     "name": "stdout",
     "output_type": "stream",
     "text": [
      "\r\n",
      "Epoch 16/600:   3%|▎         | 16/600 [09:41<5:52:54, 36.26s/it, v_num=a0_1, total_loss_train=456, kl_local_train=356, metric_mi|age_categorical_train=0.0767]"
     ]
    },
    {
     "name": "stdout",
     "output_type": "stream",
     "text": [
      "\r\n",
      "Epoch 16/600:   3%|▎         | 16/600 [09:41<5:52:54, 36.26s/it, v_num=a0_1, total_loss_train=457, kl_local_train=358, metric_mi|age_categorical_train=0.155] "
     ]
    },
    {
     "name": "stdout",
     "output_type": "stream",
     "text": [
      "\r\n",
      "Epoch 17/600:   3%|▎         | 16/600 [09:41<5:52:54, 36.26s/it, v_num=a0_1, total_loss_train=457, kl_local_train=358, metric_mi|age_categorical_train=0.155]"
     ]
    },
    {
     "name": "stdout",
     "output_type": "stream",
     "text": [
      "\r\n",
      "Epoch 17/600:   3%|▎         | 17/600 [10:17<5:51:50, 36.21s/it, v_num=a0_1, total_loss_train=457, kl_local_train=358, metric_mi|age_categorical_train=0.155]"
     ]
    },
    {
     "name": "stdout",
     "output_type": "stream",
     "text": [
      "\r\n",
      "Epoch 17/600:   3%|▎         | 17/600 [10:17<5:51:50, 36.21s/it, v_num=a0_1, total_loss_train=457, kl_local_train=339, metric_mi|age_categorical_train=0.155]"
     ]
    },
    {
     "name": "stdout",
     "output_type": "stream",
     "text": [
      "\r\n",
      "Epoch 18/600:   3%|▎         | 17/600 [10:17<5:51:50, 36.21s/it, v_num=a0_1, total_loss_train=457, kl_local_train=339, metric_mi|age_categorical_train=0.155]"
     ]
    },
    {
     "name": "stdout",
     "output_type": "stream",
     "text": [
      "\r\n",
      "Epoch 18/600:   3%|▎         | 18/600 [10:53<5:49:59, 36.08s/it, v_num=a0_1, total_loss_train=457, kl_local_train=339, metric_mi|age_categorical_train=0.155]"
     ]
    },
    {
     "name": "stdout",
     "output_type": "stream",
     "text": [
      "\r\n",
      "Epoch 18/600:   3%|▎         | 18/600 [10:53<5:49:59, 36.08s/it, v_num=a0_1, total_loss_train=459, kl_local_train=334, metric_mi|age_categorical_train=0.155]"
     ]
    },
    {
     "name": "stdout",
     "output_type": "stream",
     "text": [
      "\r\n",
      "Epoch 19/600:   3%|▎         | 18/600 [10:53<5:49:59, 36.08s/it, v_num=a0_1, total_loss_train=459, kl_local_train=334, metric_mi|age_categorical_train=0.155]"
     ]
    },
    {
     "name": "stdout",
     "output_type": "stream",
     "text": [
      "\r\n",
      "Epoch 19/600:   3%|▎         | 19/600 [11:29<5:48:54, 36.03s/it, v_num=a0_1, total_loss_train=459, kl_local_train=334, metric_mi|age_categorical_train=0.155]"
     ]
    },
    {
     "name": "stdout",
     "output_type": "stream",
     "text": [
      "\r\n",
      "Epoch 19/600:   3%|▎         | 19/600 [11:29<5:48:54, 36.03s/it, v_num=a0_1, total_loss_train=459, kl_local_train=333, metric_mi|age_categorical_train=0.155]"
     ]
    },
    {
     "name": "stdout",
     "output_type": "stream",
     "text": [
      "\r\n",
      "Epoch 20/600:   3%|▎         | 19/600 [11:29<5:48:54, 36.03s/it, v_num=a0_1, total_loss_train=459, kl_local_train=333, metric_mi|age_categorical_train=0.155]"
     ]
    },
    {
     "name": "stdout",
     "output_type": "stream",
     "text": [
      "\r\n",
      "Epoch 20/600:   3%|▎         | 20/600 [12:06<5:51:52, 36.40s/it, v_num=a0_1, total_loss_train=459, kl_local_train=333, metric_mi|age_categorical_train=0.155]"
     ]
    },
    {
     "name": "stdout",
     "output_type": "stream",
     "text": [
      "\r\n",
      "Epoch 20/600:   3%|▎         | 20/600 [12:06<5:51:52, 36.40s/it, v_num=a0_1, total_loss_train=461, kl_local_train=338, metric_mi|age_categorical_train=0.155]"
     ]
    },
    {
     "name": "stdout",
     "output_type": "stream",
     "text": [
      "\r\n",
      "Epoch 21/600:   3%|▎         | 20/600 [12:07<5:51:52, 36.40s/it, v_num=a0_1, total_loss_train=461, kl_local_train=338, metric_mi|age_categorical_train=0.155]"
     ]
    },
    {
     "name": "stdout",
     "output_type": "stream",
     "text": [
      "\r\n",
      "Epoch 21/600:   4%|▎         | 21/600 [12:42<5:51:04, 36.38s/it, v_num=a0_1, total_loss_train=461, kl_local_train=338, metric_mi|age_categorical_train=0.155]"
     ]
    },
    {
     "name": "stdout",
     "output_type": "stream",
     "text": [
      "\r\n",
      "Epoch 21/600:   4%|▎         | 21/600 [12:42<5:51:04, 36.38s/it, v_num=a0_1, total_loss_train=462, kl_local_train=335, metric_mi|age_categorical_train=0.182]"
     ]
    },
    {
     "name": "stdout",
     "output_type": "stream",
     "text": [
      "\r\n",
      "Epoch 22/600:   4%|▎         | 21/600 [12:42<5:51:04, 36.38s/it, v_num=a0_1, total_loss_train=462, kl_local_train=335, metric_mi|age_categorical_train=0.182]"
     ]
    },
    {
     "name": "stdout",
     "output_type": "stream",
     "text": [
      "\r\n",
      "Epoch 22/600:   4%|▎         | 22/600 [13:17<5:46:44, 35.99s/it, v_num=a0_1, total_loss_train=462, kl_local_train=335, metric_mi|age_categorical_train=0.182]"
     ]
    },
    {
     "name": "stdout",
     "output_type": "stream",
     "text": [
      "\r\n",
      "Epoch 22/600:   4%|▎         | 22/600 [13:17<5:46:44, 35.99s/it, v_num=a0_1, total_loss_train=463, kl_local_train=317, metric_mi|age_categorical_train=0.182]"
     ]
    },
    {
     "name": "stdout",
     "output_type": "stream",
     "text": [
      "\r\n",
      "Epoch 23/600:   4%|▎         | 22/600 [13:17<5:46:44, 35.99s/it, v_num=a0_1, total_loss_train=463, kl_local_train=317, metric_mi|age_categorical_train=0.182]"
     ]
    },
    {
     "name": "stdout",
     "output_type": "stream",
     "text": [
      "\r\n",
      "Epoch 23/600:   4%|▍         | 23/600 [13:52<5:43:15, 35.69s/it, v_num=a0_1, total_loss_train=463, kl_local_train=317, metric_mi|age_categorical_train=0.182]"
     ]
    },
    {
     "name": "stdout",
     "output_type": "stream",
     "text": [
      "\r\n",
      "Epoch 23/600:   4%|▍         | 23/600 [13:52<5:43:15, 35.69s/it, v_num=a0_1, total_loss_train=464, kl_local_train=310, metric_mi|age_categorical_train=0.182]"
     ]
    },
    {
     "name": "stdout",
     "output_type": "stream",
     "text": [
      "\r\n",
      "Epoch 24/600:   4%|▍         | 23/600 [13:52<5:43:15, 35.69s/it, v_num=a0_1, total_loss_train=464, kl_local_train=310, metric_mi|age_categorical_train=0.182]"
     ]
    },
    {
     "name": "stdout",
     "output_type": "stream",
     "text": [
      "\r\n",
      "Epoch 24/600:   4%|▍         | 24/600 [14:27<5:38:18, 35.24s/it, v_num=a0_1, total_loss_train=464, kl_local_train=310, metric_mi|age_categorical_train=0.182]"
     ]
    },
    {
     "name": "stdout",
     "output_type": "stream",
     "text": [
      "\r\n",
      "Epoch 24/600:   4%|▍         | 24/600 [14:27<5:38:18, 35.24s/it, v_num=a0_1, total_loss_train=465, kl_local_train=298, metric_mi|age_categorical_train=0.182]"
     ]
    },
    {
     "name": "stdout",
     "output_type": "stream",
     "text": [
      "\r\n",
      "Epoch 25/600:   4%|▍         | 24/600 [14:27<5:38:18, 35.24s/it, v_num=a0_1, total_loss_train=465, kl_local_train=298, metric_mi|age_categorical_train=0.182]"
     ]
    },
    {
     "name": "stdout",
     "output_type": "stream",
     "text": [
      "\r\n",
      "Epoch 25/600:   4%|▍         | 25/600 [15:03<5:41:45, 35.66s/it, v_num=a0_1, total_loss_train=465, kl_local_train=298, metric_mi|age_categorical_train=0.182]"
     ]
    },
    {
     "name": "stdout",
     "output_type": "stream",
     "text": [
      "\r\n",
      "Epoch 25/600:   4%|▍         | 25/600 [15:03<5:41:45, 35.66s/it, v_num=a0_1, total_loss_train=466, kl_local_train=281, metric_mi|age_categorical_train=0.182]"
     ]
    },
    {
     "name": "stdout",
     "output_type": "stream",
     "text": [
      "\r\n",
      "Epoch 26/600:   4%|▍         | 25/600 [15:04<5:41:45, 35.66s/it, v_num=a0_1, total_loss_train=466, kl_local_train=281, metric_mi|age_categorical_train=0.182]"
     ]
    },
    {
     "name": "stdout",
     "output_type": "stream",
     "text": [
      "\r\n",
      "Epoch 26/600:   4%|▍         | 26/600 [15:39<5:40:44, 35.62s/it, v_num=a0_1, total_loss_train=466, kl_local_train=281, metric_mi|age_categorical_train=0.182]"
     ]
    },
    {
     "name": "stdout",
     "output_type": "stream",
     "text": [
      "\r\n",
      "Epoch 26/600:   4%|▍         | 26/600 [15:39<5:40:44, 35.62s/it, v_num=a0_1, total_loss_train=466, kl_local_train=260, metric_mi|age_categorical_train=0.224]"
     ]
    },
    {
     "name": "stdout",
     "output_type": "stream",
     "text": [
      "\r\n",
      "Epoch 27/600:   4%|▍         | 26/600 [15:39<5:40:44, 35.62s/it, v_num=a0_1, total_loss_train=466, kl_local_train=260, metric_mi|age_categorical_train=0.224]"
     ]
    },
    {
     "name": "stdout",
     "output_type": "stream",
     "text": [
      "\r\n",
      "Epoch 27/600:   4%|▍         | 27/600 [16:14<5:38:27, 35.44s/it, v_num=a0_1, total_loss_train=466, kl_local_train=260, metric_mi|age_categorical_train=0.224]"
     ]
    },
    {
     "name": "stdout",
     "output_type": "stream",
     "text": [
      "\r\n",
      "Epoch 27/600:   4%|▍         | 27/600 [16:14<5:38:27, 35.44s/it, v_num=a0_1, total_loss_train=469, kl_local_train=260, metric_mi|age_categorical_train=0.224]"
     ]
    },
    {
     "name": "stdout",
     "output_type": "stream",
     "text": [
      "\r\n",
      "Epoch 28/600:   4%|▍         | 27/600 [16:14<5:38:27, 35.44s/it, v_num=a0_1, total_loss_train=469, kl_local_train=260, metric_mi|age_categorical_train=0.224]"
     ]
    },
    {
     "name": "stdout",
     "output_type": "stream",
     "text": [
      "\r\n",
      "Epoch 28/600:   5%|▍         | 28/600 [16:47<5:33:00, 34.93s/it, v_num=a0_1, total_loss_train=469, kl_local_train=260, metric_mi|age_categorical_train=0.224]"
     ]
    },
    {
     "name": "stdout",
     "output_type": "stream",
     "text": [
      "\r\n",
      "Epoch 28/600:   5%|▍         | 28/600 [16:47<5:33:00, 34.93s/it, v_num=a0_1, total_loss_train=470, kl_local_train=268, metric_mi|age_categorical_train=0.224]"
     ]
    },
    {
     "name": "stdout",
     "output_type": "stream",
     "text": [
      "\r\n",
      "Epoch 29/600:   5%|▍         | 28/600 [16:47<5:33:00, 34.93s/it, v_num=a0_1, total_loss_train=470, kl_local_train=268, metric_mi|age_categorical_train=0.224]"
     ]
    },
    {
     "name": "stdout",
     "output_type": "stream",
     "text": [
      "\r\n",
      "Epoch 29/600:   5%|▍         | 29/600 [17:21<5:29:22, 34.61s/it, v_num=a0_1, total_loss_train=470, kl_local_train=268, metric_mi|age_categorical_train=0.224]"
     ]
    },
    {
     "name": "stdout",
     "output_type": "stream",
     "text": [
      "\r\n",
      "Epoch 29/600:   5%|▍         | 29/600 [17:21<5:29:22, 34.61s/it, v_num=a0_1, total_loss_train=471, kl_local_train=265, metric_mi|age_categorical_train=0.224]"
     ]
    },
    {
     "name": "stdout",
     "output_type": "stream",
     "text": [
      "\r\n",
      "Epoch 30/600:   5%|▍         | 29/600 [17:21<5:29:22, 34.61s/it, v_num=a0_1, total_loss_train=471, kl_local_train=265, metric_mi|age_categorical_train=0.224]"
     ]
    },
    {
     "name": "stdout",
     "output_type": "stream",
     "text": [
      "\r\n",
      "Epoch 30/600:   5%|▌         | 30/600 [17:57<5:31:51, 34.93s/it, v_num=a0_1, total_loss_train=471, kl_local_train=265, metric_mi|age_categorical_train=0.224]"
     ]
    },
    {
     "name": "stdout",
     "output_type": "stream",
     "text": [
      "\r\n",
      "Epoch 30/600:   5%|▌         | 30/600 [17:57<5:31:51, 34.93s/it, v_num=a0_1, total_loss_train=472, kl_local_train=257, metric_mi|age_categorical_train=0.224]"
     ]
    },
    {
     "name": "stdout",
     "output_type": "stream",
     "text": [
      "\r\n",
      "Epoch 31/600:   5%|▌         | 30/600 [17:58<5:31:51, 34.93s/it, v_num=a0_1, total_loss_train=472, kl_local_train=257, metric_mi|age_categorical_train=0.224]"
     ]
    },
    {
     "name": "stdout",
     "output_type": "stream",
     "text": [
      "\r\n",
      "Epoch 31/600:   5%|▌         | 31/600 [18:32<5:31:12, 34.92s/it, v_num=a0_1, total_loss_train=472, kl_local_train=257, metric_mi|age_categorical_train=0.224]"
     ]
    },
    {
     "name": "stdout",
     "output_type": "stream",
     "text": [
      "\r\n",
      "Epoch 31/600:   5%|▌         | 31/600 [18:32<5:31:12, 34.92s/it, v_num=a0_1, total_loss_train=473, kl_local_train=252, metric_mi|age_categorical_train=0.225]"
     ]
    },
    {
     "name": "stdout",
     "output_type": "stream",
     "text": [
      "\r\n",
      "Epoch 32/600:   5%|▌         | 31/600 [18:32<5:31:12, 34.92s/it, v_num=a0_1, total_loss_train=473, kl_local_train=252, metric_mi|age_categorical_train=0.225]"
     ]
    },
    {
     "name": "stdout",
     "output_type": "stream",
     "text": [
      "\r\n",
      "Epoch 32/600:   5%|▌         | 32/600 [19:06<5:28:29, 34.70s/it, v_num=a0_1, total_loss_train=473, kl_local_train=252, metric_mi|age_categorical_train=0.225]"
     ]
    },
    {
     "name": "stdout",
     "output_type": "stream",
     "text": [
      "\r\n",
      "Epoch 32/600:   5%|▌         | 32/600 [19:06<5:28:29, 34.70s/it, v_num=a0_1, total_loss_train=475, kl_local_train=247, metric_mi|age_categorical_train=0.225]"
     ]
    },
    {
     "name": "stdout",
     "output_type": "stream",
     "text": [
      "\r\n",
      "Epoch 33/600:   5%|▌         | 32/600 [19:06<5:28:29, 34.70s/it, v_num=a0_1, total_loss_train=475, kl_local_train=247, metric_mi|age_categorical_train=0.225]"
     ]
    },
    {
     "name": "stdout",
     "output_type": "stream",
     "text": [
      "\r\n",
      "Epoch 33/600:   6%|▌         | 33/600 [19:41<5:28:01, 34.71s/it, v_num=a0_1, total_loss_train=475, kl_local_train=247, metric_mi|age_categorical_train=0.225]"
     ]
    },
    {
     "name": "stdout",
     "output_type": "stream",
     "text": [
      "\r\n",
      "Epoch 33/600:   6%|▌         | 33/600 [19:41<5:28:01, 34.71s/it, v_num=a0_1, total_loss_train=477, kl_local_train=247, metric_mi|age_categorical_train=0.225]"
     ]
    },
    {
     "name": "stdout",
     "output_type": "stream",
     "text": [
      "\r\n",
      "Epoch 34/600:   6%|▌         | 33/600 [19:41<5:28:01, 34.71s/it, v_num=a0_1, total_loss_train=477, kl_local_train=247, metric_mi|age_categorical_train=0.225]"
     ]
    },
    {
     "name": "stdout",
     "output_type": "stream",
     "text": [
      "\r\n",
      "Epoch 34/600:   6%|▌         | 34/600 [20:15<5:25:55, 34.55s/it, v_num=a0_1, total_loss_train=477, kl_local_train=247, metric_mi|age_categorical_train=0.225]"
     ]
    },
    {
     "name": "stdout",
     "output_type": "stream",
     "text": [
      "\r\n",
      "Epoch 34/600:   6%|▌         | 34/600 [20:15<5:25:55, 34.55s/it, v_num=a0_1, total_loss_train=478, kl_local_train=245, metric_mi|age_categorical_train=0.225]"
     ]
    },
    {
     "name": "stdout",
     "output_type": "stream",
     "text": [
      "\r\n",
      "Epoch 35/600:   6%|▌         | 34/600 [20:15<5:25:55, 34.55s/it, v_num=a0_1, total_loss_train=478, kl_local_train=245, metric_mi|age_categorical_train=0.225]"
     ]
    },
    {
     "name": "stdout",
     "output_type": "stream",
     "text": [
      "\r\n",
      "Epoch 35/600:   6%|▌         | 35/600 [20:50<5:25:21, 34.55s/it, v_num=a0_1, total_loss_train=478, kl_local_train=245, metric_mi|age_categorical_train=0.225]"
     ]
    },
    {
     "name": "stdout",
     "output_type": "stream",
     "text": [
      "\r\n",
      "Epoch 35/600:   6%|▌         | 35/600 [20:50<5:25:21, 34.55s/it, v_num=a0_1, total_loss_train=479, kl_local_train=246, metric_mi|age_categorical_train=0.225]"
     ]
    },
    {
     "name": "stdout",
     "output_type": "stream",
     "text": [
      "\r\n",
      "Epoch 36/600:   6%|▌         | 35/600 [20:50<5:25:21, 34.55s/it, v_num=a0_1, total_loss_train=479, kl_local_train=246, metric_mi|age_categorical_train=0.225]"
     ]
    },
    {
     "name": "stdout",
     "output_type": "stream",
     "text": [
      "\r\n",
      "Epoch 36/600:   6%|▌         | 36/600 [21:23<5:22:12, 34.28s/it, v_num=a0_1, total_loss_train=479, kl_local_train=246, metric_mi|age_categorical_train=0.225]"
     ]
    },
    {
     "name": "stdout",
     "output_type": "stream",
     "text": [
      "\r\n",
      "Epoch 36/600:   6%|▌         | 36/600 [21:23<5:22:12, 34.28s/it, v_num=a0_1, total_loss_train=481, kl_local_train=249, metric_mi|age_categorical_train=0.253]"
     ]
    },
    {
     "name": "stdout",
     "output_type": "stream",
     "text": [
      "\r\n",
      "Epoch 37/600:   6%|▌         | 36/600 [21:23<5:22:12, 34.28s/it, v_num=a0_1, total_loss_train=481, kl_local_train=249, metric_mi|age_categorical_train=0.253]"
     ]
    },
    {
     "name": "stdout",
     "output_type": "stream",
     "text": [
      "\r\n",
      "Epoch 37/600:   6%|▌         | 37/600 [21:55<5:15:57, 33.67s/it, v_num=a0_1, total_loss_train=481, kl_local_train=249, metric_mi|age_categorical_train=0.253]"
     ]
    },
    {
     "name": "stdout",
     "output_type": "stream",
     "text": [
      "\r\n",
      "Epoch 37/600:   6%|▌         | 37/600 [21:55<5:15:57, 33.67s/it, v_num=a0_1, total_loss_train=482, kl_local_train=246, metric_mi|age_categorical_train=0.253]"
     ]
    },
    {
     "name": "stdout",
     "output_type": "stream",
     "text": [
      "\r\n",
      "Epoch 38/600:   6%|▌         | 37/600 [21:55<5:15:57, 33.67s/it, v_num=a0_1, total_loss_train=482, kl_local_train=246, metric_mi|age_categorical_train=0.253]"
     ]
    },
    {
     "name": "stdout",
     "output_type": "stream",
     "text": [
      "\r\n",
      "Epoch 38/600:   6%|▋         | 38/600 [22:29<5:13:54, 33.51s/it, v_num=a0_1, total_loss_train=482, kl_local_train=246, metric_mi|age_categorical_train=0.253]"
     ]
    },
    {
     "name": "stdout",
     "output_type": "stream",
     "text": [
      "\r\n",
      "Epoch 38/600:   6%|▋         | 38/600 [22:29<5:13:54, 33.51s/it, v_num=a0_1, total_loss_train=485, kl_local_train=256, metric_mi|age_categorical_train=0.253]"
     ]
    },
    {
     "name": "stdout",
     "output_type": "stream",
     "text": [
      "\r\n",
      "Epoch 39/600:   6%|▋         | 38/600 [22:29<5:13:54, 33.51s/it, v_num=a0_1, total_loss_train=485, kl_local_train=256, metric_mi|age_categorical_train=0.253]"
     ]
    },
    {
     "name": "stdout",
     "output_type": "stream",
     "text": [
      "\r\n",
      "Epoch 39/600:   6%|▋         | 39/600 [23:02<5:12:04, 33.38s/it, v_num=a0_1, total_loss_train=485, kl_local_train=256, metric_mi|age_categorical_train=0.253]"
     ]
    },
    {
     "name": "stdout",
     "output_type": "stream",
     "text": [
      "\r\n",
      "Epoch 39/600:   6%|▋         | 39/600 [23:02<5:12:04, 33.38s/it, v_num=a0_1, total_loss_train=487, kl_local_train=259, metric_mi|age_categorical_train=0.253]"
     ]
    },
    {
     "name": "stdout",
     "output_type": "stream",
     "text": [
      "\r\n",
      "Epoch 40/600:   6%|▋         | 39/600 [23:02<5:12:04, 33.38s/it, v_num=a0_1, total_loss_train=487, kl_local_train=259, metric_mi|age_categorical_train=0.253]"
     ]
    },
    {
     "name": "stdout",
     "output_type": "stream",
     "text": [
      "\r\n",
      "Epoch 40/600:   7%|▋         | 40/600 [23:37<5:16:50, 33.95s/it, v_num=a0_1, total_loss_train=487, kl_local_train=259, metric_mi|age_categorical_train=0.253]"
     ]
    },
    {
     "name": "stdout",
     "output_type": "stream",
     "text": [
      "\r\n",
      "Epoch 40/600:   7%|▋         | 40/600 [23:37<5:16:50, 33.95s/it, v_num=a0_1, total_loss_train=487, kl_local_train=252, metric_mi|age_categorical_train=0.253]"
     ]
    },
    {
     "name": "stdout",
     "output_type": "stream",
     "text": [
      "\r\n",
      "Epoch 41/600:   7%|▋         | 40/600 [23:38<5:16:50, 33.95s/it, v_num=a0_1, total_loss_train=487, kl_local_train=252, metric_mi|age_categorical_train=0.253]"
     ]
    },
    {
     "name": "stdout",
     "output_type": "stream",
     "text": [
      "\r\n",
      "Epoch 41/600:   7%|▋         | 41/600 [24:12<5:19:04, 34.25s/it, v_num=a0_1, total_loss_train=487, kl_local_train=252, metric_mi|age_categorical_train=0.253]"
     ]
    },
    {
     "name": "stdout",
     "output_type": "stream",
     "text": [
      "\r\n",
      "Epoch 41/600:   7%|▋         | 41/600 [24:12<5:19:04, 34.25s/it, v_num=a0_1, total_loss_train=489, kl_local_train=249, metric_mi|age_categorical_train=0.29] "
     ]
    },
    {
     "name": "stdout",
     "output_type": "stream",
     "text": [
      "\r\n",
      "Epoch 42/600:   7%|▋         | 41/600 [24:12<5:19:04, 34.25s/it, v_num=a0_1, total_loss_train=489, kl_local_train=249, metric_mi|age_categorical_train=0.29]"
     ]
    },
    {
     "name": "stdout",
     "output_type": "stream",
     "text": [
      "\r\n",
      "Epoch 42/600:   7%|▋         | 42/600 [24:46<5:19:09, 34.32s/it, v_num=a0_1, total_loss_train=489, kl_local_train=249, metric_mi|age_categorical_train=0.29]"
     ]
    },
    {
     "name": "stdout",
     "output_type": "stream",
     "text": [
      "\r\n",
      "Epoch 42/600:   7%|▋         | 42/600 [24:46<5:19:09, 34.32s/it, v_num=a0_1, total_loss_train=491, kl_local_train=257, metric_mi|age_categorical_train=0.29]"
     ]
    },
    {
     "name": "stdout",
     "output_type": "stream",
     "text": [
      "\r\n",
      "Epoch 43/600:   7%|▋         | 42/600 [24:46<5:19:09, 34.32s/it, v_num=a0_1, total_loss_train=491, kl_local_train=257, metric_mi|age_categorical_train=0.29]"
     ]
    },
    {
     "name": "stdout",
     "output_type": "stream",
     "text": [
      "\r\n",
      "Epoch 43/600:   7%|▋         | 43/600 [25:20<5:17:40, 34.22s/it, v_num=a0_1, total_loss_train=491, kl_local_train=257, metric_mi|age_categorical_train=0.29]"
     ]
    },
    {
     "name": "stdout",
     "output_type": "stream",
     "text": [
      "\r\n",
      "Epoch 43/600:   7%|▋         | 43/600 [25:20<5:17:40, 34.22s/it, v_num=a0_1, total_loss_train=492, kl_local_train=250, metric_mi|age_categorical_train=0.29]"
     ]
    },
    {
     "name": "stdout",
     "output_type": "stream",
     "text": [
      "\r\n",
      "Epoch 44/600:   7%|▋         | 43/600 [25:20<5:17:40, 34.22s/it, v_num=a0_1, total_loss_train=492, kl_local_train=250, metric_mi|age_categorical_train=0.29]"
     ]
    },
    {
     "name": "stdout",
     "output_type": "stream",
     "text": [
      "\r\n",
      "Epoch 44/600:   7%|▋         | 44/600 [25:54<5:16:04, 34.11s/it, v_num=a0_1, total_loss_train=492, kl_local_train=250, metric_mi|age_categorical_train=0.29]"
     ]
    },
    {
     "name": "stdout",
     "output_type": "stream",
     "text": [
      "\r\n",
      "Epoch 44/600:   7%|▋         | 44/600 [25:54<5:16:04, 34.11s/it, v_num=a0_1, total_loss_train=493, kl_local_train=250, metric_mi|age_categorical_train=0.29]"
     ]
    },
    {
     "name": "stdout",
     "output_type": "stream",
     "text": [
      "\r\n",
      "Epoch 45/600:   7%|▋         | 44/600 [25:54<5:16:04, 34.11s/it, v_num=a0_1, total_loss_train=493, kl_local_train=250, metric_mi|age_categorical_train=0.29]"
     ]
    },
    {
     "name": "stdout",
     "output_type": "stream",
     "text": [
      "\r\n",
      "Epoch 45/600:   8%|▊         | 45/600 [26:29<5:18:04, 34.39s/it, v_num=a0_1, total_loss_train=493, kl_local_train=250, metric_mi|age_categorical_train=0.29]"
     ]
    },
    {
     "name": "stdout",
     "output_type": "stream",
     "text": [
      "\r\n",
      "Epoch 45/600:   8%|▊         | 45/600 [26:29<5:18:04, 34.39s/it, v_num=a0_1, total_loss_train=495, kl_local_train=253, metric_mi|age_categorical_train=0.29]"
     ]
    },
    {
     "name": "stdout",
     "output_type": "stream",
     "text": [
      "\r\n",
      "Epoch 46/600:   8%|▊         | 45/600 [26:30<5:18:04, 34.39s/it, v_num=a0_1, total_loss_train=495, kl_local_train=253, metric_mi|age_categorical_train=0.29]"
     ]
    },
    {
     "name": "stdout",
     "output_type": "stream",
     "text": [
      "\r\n",
      "Epoch 46/600:   8%|▊         | 46/600 [27:05<5:20:02, 34.66s/it, v_num=a0_1, total_loss_train=495, kl_local_train=253, metric_mi|age_categorical_train=0.29]"
     ]
    },
    {
     "name": "stdout",
     "output_type": "stream",
     "text": [
      "\r\n",
      "Epoch 46/600:   8%|▊         | 46/600 [27:05<5:20:02, 34.66s/it, v_num=a0_1, total_loss_train=497, kl_local_train=258, metric_mi|age_categorical_train=0.305]"
     ]
    },
    {
     "name": "stdout",
     "output_type": "stream",
     "text": [
      "\r\n",
      "Epoch 47/600:   8%|▊         | 46/600 [27:05<5:20:02, 34.66s/it, v_num=a0_1, total_loss_train=497, kl_local_train=258, metric_mi|age_categorical_train=0.305]"
     ]
    },
    {
     "name": "stdout",
     "output_type": "stream",
     "text": [
      "\r\n",
      "Epoch 47/600:   8%|▊         | 47/600 [27:39<5:18:07, 34.52s/it, v_num=a0_1, total_loss_train=497, kl_local_train=258, metric_mi|age_categorical_train=0.305]"
     ]
    },
    {
     "name": "stdout",
     "output_type": "stream",
     "text": [
      "\r\n",
      "Epoch 47/600:   8%|▊         | 47/600 [27:39<5:18:07, 34.52s/it, v_num=a0_1, total_loss_train=499, kl_local_train=258, metric_mi|age_categorical_train=0.305]"
     ]
    },
    {
     "name": "stdout",
     "output_type": "stream",
     "text": [
      "\r\n",
      "Epoch 48/600:   8%|▊         | 47/600 [27:39<5:18:07, 34.52s/it, v_num=a0_1, total_loss_train=499, kl_local_train=258, metric_mi|age_categorical_train=0.305]"
     ]
    },
    {
     "name": "stdout",
     "output_type": "stream",
     "text": [
      "\r\n",
      "Epoch 48/600:   8%|▊         | 48/600 [28:13<5:17:54, 34.55s/it, v_num=a0_1, total_loss_train=499, kl_local_train=258, metric_mi|age_categorical_train=0.305]"
     ]
    },
    {
     "name": "stdout",
     "output_type": "stream",
     "text": [
      "\r\n",
      "Epoch 48/600:   8%|▊         | 48/600 [28:13<5:17:54, 34.55s/it, v_num=a0_1, total_loss_train=500, kl_local_train=252, metric_mi|age_categorical_train=0.305]"
     ]
    },
    {
     "name": "stdout",
     "output_type": "stream",
     "text": [
      "\r\n",
      "Epoch 49/600:   8%|▊         | 48/600 [28:13<5:17:54, 34.55s/it, v_num=a0_1, total_loss_train=500, kl_local_train=252, metric_mi|age_categorical_train=0.305]"
     ]
    },
    {
     "name": "stdout",
     "output_type": "stream",
     "text": [
      "\r\n",
      "Epoch 49/600:   8%|▊         | 49/600 [28:47<5:15:39, 34.37s/it, v_num=a0_1, total_loss_train=500, kl_local_train=252, metric_mi|age_categorical_train=0.305]"
     ]
    },
    {
     "name": "stdout",
     "output_type": "stream",
     "text": [
      "\r\n",
      "Epoch 49/600:   8%|▊         | 49/600 [28:47<5:15:39, 34.37s/it, v_num=a0_1, total_loss_train=501, kl_local_train=249, metric_mi|age_categorical_train=0.305]"
     ]
    },
    {
     "name": "stdout",
     "output_type": "stream",
     "text": [
      "\r\n",
      "Epoch 50/600:   8%|▊         | 49/600 [28:47<5:15:39, 34.37s/it, v_num=a0_1, total_loss_train=501, kl_local_train=249, metric_mi|age_categorical_train=0.305]"
     ]
    },
    {
     "name": "stdout",
     "output_type": "stream",
     "text": [
      "\r\n",
      "Epoch 50/600:   8%|▊         | 50/600 [29:19<5:07:54, 33.59s/it, v_num=a0_1, total_loss_train=501, kl_local_train=249, metric_mi|age_categorical_train=0.305]"
     ]
    },
    {
     "name": "stdout",
     "output_type": "stream",
     "text": [
      "\r\n",
      "Epoch 50/600:   8%|▊         | 50/600 [29:19<5:07:54, 33.59s/it, v_num=a0_1, total_loss_train=503, kl_local_train=246, metric_mi|age_categorical_train=0.305]"
     ]
    },
    {
     "name": "stdout",
     "output_type": "stream",
     "text": [
      "\r\n",
      "Epoch 51/600:   8%|▊         | 50/600 [29:20<5:07:54, 33.59s/it, v_num=a0_1, total_loss_train=503, kl_local_train=246, metric_mi|age_categorical_train=0.305]"
     ]
    },
    {
     "name": "stdout",
     "output_type": "stream",
     "text": [
      "\r\n",
      "Epoch 51/600:   8%|▊         | 51/600 [29:50<5:00:24, 32.83s/it, v_num=a0_1, total_loss_train=503, kl_local_train=246, metric_mi|age_categorical_train=0.305]"
     ]
    },
    {
     "name": "stdout",
     "output_type": "stream",
     "text": [
      "\r\n",
      "Epoch 51/600:   8%|▊         | 51/600 [29:50<5:00:24, 32.83s/it, v_num=a0_1, total_loss_train=502, kl_local_train=243, metric_mi|age_categorical_train=0.301]"
     ]
    },
    {
     "name": "stdout",
     "output_type": "stream",
     "text": [
      "\r\n",
      "Epoch 52/600:   8%|▊         | 51/600 [29:50<5:00:24, 32.83s/it, v_num=a0_1, total_loss_train=502, kl_local_train=243, metric_mi|age_categorical_train=0.301]"
     ]
    },
    {
     "name": "stdout",
     "output_type": "stream",
     "text": [
      "\r\n",
      "Epoch 52/600:   9%|▊         | 52/600 [30:20<4:52:43, 32.05s/it, v_num=a0_1, total_loss_train=502, kl_local_train=243, metric_mi|age_categorical_train=0.301]"
     ]
    },
    {
     "name": "stdout",
     "output_type": "stream",
     "text": [
      "\r\n",
      "Epoch 52/600:   9%|▊         | 52/600 [30:20<4:52:43, 32.05s/it, v_num=a0_1, total_loss_train=501, kl_local_train=236, metric_mi|age_categorical_train=0.301]"
     ]
    },
    {
     "name": "stdout",
     "output_type": "stream",
     "text": [
      "\r\n",
      "Epoch 53/600:   9%|▊         | 52/600 [30:20<4:52:43, 32.05s/it, v_num=a0_1, total_loss_train=501, kl_local_train=236, metric_mi|age_categorical_train=0.301]"
     ]
    },
    {
     "name": "stdout",
     "output_type": "stream",
     "text": [
      "\r\n",
      "Epoch 53/600:   9%|▉         | 53/600 [30:52<4:51:48, 32.01s/it, v_num=a0_1, total_loss_train=501, kl_local_train=236, metric_mi|age_categorical_train=0.301]"
     ]
    },
    {
     "name": "stdout",
     "output_type": "stream",
     "text": [
      "\r\n",
      "Epoch 53/600:   9%|▉         | 53/600 [30:52<4:51:48, 32.01s/it, v_num=a0_1, total_loss_train=501, kl_local_train=239, metric_mi|age_categorical_train=0.301]"
     ]
    },
    {
     "name": "stdout",
     "output_type": "stream",
     "text": [
      "\r\n",
      "Epoch 54/600:   9%|▉         | 53/600 [30:52<4:51:48, 32.01s/it, v_num=a0_1, total_loss_train=501, kl_local_train=239, metric_mi|age_categorical_train=0.301]"
     ]
    },
    {
     "name": "stdout",
     "output_type": "stream",
     "text": [
      "\r\n",
      "Epoch 54/600:   9%|▉         | 54/600 [31:26<4:57:01, 32.64s/it, v_num=a0_1, total_loss_train=501, kl_local_train=239, metric_mi|age_categorical_train=0.301]"
     ]
    },
    {
     "name": "stdout",
     "output_type": "stream",
     "text": [
      "\r\n",
      "Epoch 54/600:   9%|▉         | 54/600 [31:26<4:57:01, 32.64s/it, v_num=a0_1, total_loss_train=500, kl_local_train=234, metric_mi|age_categorical_train=0.301]"
     ]
    },
    {
     "name": "stdout",
     "output_type": "stream",
     "text": [
      "\r\n",
      "Epoch 55/600:   9%|▉         | 54/600 [31:26<4:57:01, 32.64s/it, v_num=a0_1, total_loss_train=500, kl_local_train=234, metric_mi|age_categorical_train=0.301]"
     ]
    },
    {
     "name": "stdout",
     "output_type": "stream",
     "text": [
      "\r\n",
      "Epoch 55/600:   9%|▉         | 55/600 [32:02<5:03:55, 33.46s/it, v_num=a0_1, total_loss_train=500, kl_local_train=234, metric_mi|age_categorical_train=0.301]"
     ]
    },
    {
     "name": "stdout",
     "output_type": "stream",
     "text": [
      "\r\n",
      "Epoch 55/600:   9%|▉         | 55/600 [32:02<5:03:55, 33.46s/it, v_num=a0_1, total_loss_train=500, kl_local_train=232, metric_mi|age_categorical_train=0.301]"
     ]
    },
    {
     "name": "stdout",
     "output_type": "stream",
     "text": [
      "\r\n",
      "Epoch 56/600:   9%|▉         | 55/600 [32:02<5:03:55, 33.46s/it, v_num=a0_1, total_loss_train=500, kl_local_train=232, metric_mi|age_categorical_train=0.301]"
     ]
    },
    {
     "name": "stdout",
     "output_type": "stream",
     "text": [
      "\r\n",
      "Epoch 56/600:   9%|▉         | 56/600 [32:36<5:06:14, 33.78s/it, v_num=a0_1, total_loss_train=500, kl_local_train=232, metric_mi|age_categorical_train=0.301]"
     ]
    },
    {
     "name": "stdout",
     "output_type": "stream",
     "text": [
      "\r\n",
      "Epoch 56/600:   9%|▉         | 56/600 [32:36<5:06:14, 33.78s/it, v_num=a0_1, total_loss_train=499, kl_local_train=229, metric_mi|age_categorical_train=0.356]"
     ]
    },
    {
     "name": "stdout",
     "output_type": "stream",
     "text": [
      "\r\n",
      "Epoch 57/600:   9%|▉         | 56/600 [32:36<5:06:14, 33.78s/it, v_num=a0_1, total_loss_train=499, kl_local_train=229, metric_mi|age_categorical_train=0.356]"
     ]
    },
    {
     "name": "stdout",
     "output_type": "stream",
     "text": [
      "\r\n",
      "Epoch 57/600:  10%|▉         | 57/600 [33:10<5:06:02, 33.82s/it, v_num=a0_1, total_loss_train=499, kl_local_train=229, metric_mi|age_categorical_train=0.356]"
     ]
    },
    {
     "name": "stdout",
     "output_type": "stream",
     "text": [
      "\r\n",
      "Epoch 57/600:  10%|▉         | 57/600 [33:10<5:06:02, 33.82s/it, v_num=a0_1, total_loss_train=498, kl_local_train=221, metric_mi|age_categorical_train=0.356]"
     ]
    },
    {
     "name": "stdout",
     "output_type": "stream",
     "text": [
      "\r\n",
      "Epoch 58/600:  10%|▉         | 57/600 [33:10<5:06:02, 33.82s/it, v_num=a0_1, total_loss_train=498, kl_local_train=221, metric_mi|age_categorical_train=0.356]"
     ]
    },
    {
     "name": "stdout",
     "output_type": "stream",
     "text": [
      "\r\n",
      "Epoch 58/600:  10%|▉         | 58/600 [33:44<5:05:48, 33.85s/it, v_num=a0_1, total_loss_train=498, kl_local_train=221, metric_mi|age_categorical_train=0.356]"
     ]
    },
    {
     "name": "stdout",
     "output_type": "stream",
     "text": [
      "\r\n",
      "Epoch 58/600:  10%|▉         | 58/600 [33:44<5:05:48, 33.85s/it, v_num=a0_1, total_loss_train=497, kl_local_train=225, metric_mi|age_categorical_train=0.356]"
     ]
    },
    {
     "name": "stdout",
     "output_type": "stream",
     "text": [
      "\r\n",
      "Epoch 59/600:  10%|▉         | 58/600 [33:44<5:05:48, 33.85s/it, v_num=a0_1, total_loss_train=497, kl_local_train=225, metric_mi|age_categorical_train=0.356]"
     ]
    },
    {
     "name": "stdout",
     "output_type": "stream",
     "text": [
      "\r\n",
      "Epoch 59/600:  10%|▉         | 59/600 [34:18<5:05:48, 33.92s/it, v_num=a0_1, total_loss_train=497, kl_local_train=225, metric_mi|age_categorical_train=0.356]"
     ]
    },
    {
     "name": "stdout",
     "output_type": "stream",
     "text": [
      "\r\n",
      "Epoch 59/600:  10%|▉         | 59/600 [34:18<5:05:48, 33.92s/it, v_num=a0_1, total_loss_train=498, kl_local_train=224, metric_mi|age_categorical_train=0.356]"
     ]
    },
    {
     "name": "stdout",
     "output_type": "stream",
     "text": [
      "\r\n",
      "Epoch 60/600:  10%|▉         | 59/600 [34:18<5:05:48, 33.92s/it, v_num=a0_1, total_loss_train=498, kl_local_train=224, metric_mi|age_categorical_train=0.356]"
     ]
    },
    {
     "name": "stdout",
     "output_type": "stream",
     "text": [
      "\r\n",
      "Epoch 60/600:  10%|█         | 60/600 [34:54<5:09:55, 34.44s/it, v_num=a0_1, total_loss_train=498, kl_local_train=224, metric_mi|age_categorical_train=0.356]"
     ]
    },
    {
     "name": "stdout",
     "output_type": "stream",
     "text": [
      "\r\n",
      "Epoch 60/600:  10%|█         | 60/600 [34:54<5:09:55, 34.44s/it, v_num=a0_1, total_loss_train=497, kl_local_train=224, metric_mi|age_categorical_train=0.356]"
     ]
    },
    {
     "name": "stdout",
     "output_type": "stream",
     "text": [
      "\r\n",
      "Epoch 61/600:  10%|█         | 60/600 [34:55<5:09:55, 34.44s/it, v_num=a0_1, total_loss_train=497, kl_local_train=224, metric_mi|age_categorical_train=0.356]"
     ]
    },
    {
     "name": "stdout",
     "output_type": "stream",
     "text": [
      "\r\n",
      "Epoch 61/600:  10%|█         | 61/600 [35:28<5:08:16, 34.32s/it, v_num=a0_1, total_loss_train=497, kl_local_train=224, metric_mi|age_categorical_train=0.356]"
     ]
    },
    {
     "name": "stdout",
     "output_type": "stream",
     "text": [
      "\r\n",
      "Epoch 61/600:  10%|█         | 61/600 [35:28<5:08:16, 34.32s/it, v_num=a0_1, total_loss_train=497, kl_local_train=218, metric_mi|age_categorical_train=0.365]"
     ]
    },
    {
     "name": "stdout",
     "output_type": "stream",
     "text": [
      "\r\n",
      "Epoch 62/600:  10%|█         | 61/600 [35:28<5:08:16, 34.32s/it, v_num=a0_1, total_loss_train=497, kl_local_train=218, metric_mi|age_categorical_train=0.365]"
     ]
    },
    {
     "name": "stdout",
     "output_type": "stream",
     "text": [
      "\r\n",
      "Epoch 62/600:  10%|█         | 62/600 [36:02<5:07:12, 34.26s/it, v_num=a0_1, total_loss_train=497, kl_local_train=218, metric_mi|age_categorical_train=0.365]"
     ]
    },
    {
     "name": "stdout",
     "output_type": "stream",
     "text": [
      "\r\n",
      "Epoch 62/600:  10%|█         | 62/600 [36:02<5:07:12, 34.26s/it, v_num=a0_1, total_loss_train=496, kl_local_train=215, metric_mi|age_categorical_train=0.365]"
     ]
    },
    {
     "name": "stdout",
     "output_type": "stream",
     "text": [
      "\r\n",
      "Epoch 63/600:  10%|█         | 62/600 [36:02<5:07:12, 34.26s/it, v_num=a0_1, total_loss_train=496, kl_local_train=215, metric_mi|age_categorical_train=0.365]"
     ]
    },
    {
     "name": "stdout",
     "output_type": "stream",
     "text": [
      "\r\n",
      "Epoch 63/600:  10%|█         | 63/600 [36:37<5:08:17, 34.45s/it, v_num=a0_1, total_loss_train=496, kl_local_train=215, metric_mi|age_categorical_train=0.365]"
     ]
    },
    {
     "name": "stdout",
     "output_type": "stream",
     "text": [
      "\r\n",
      "Epoch 63/600:  10%|█         | 63/600 [36:37<5:08:17, 34.45s/it, v_num=a0_1, total_loss_train=495, kl_local_train=213, metric_mi|age_categorical_train=0.365]"
     ]
    },
    {
     "name": "stdout",
     "output_type": "stream",
     "text": [
      "\r\n",
      "Epoch 64/600:  10%|█         | 63/600 [36:37<5:08:17, 34.45s/it, v_num=a0_1, total_loss_train=495, kl_local_train=213, metric_mi|age_categorical_train=0.365]"
     ]
    },
    {
     "name": "stdout",
     "output_type": "stream",
     "text": [
      "\r\n",
      "Epoch 64/600:  11%|█         | 64/600 [37:11<5:06:42, 34.33s/it, v_num=a0_1, total_loss_train=495, kl_local_train=213, metric_mi|age_categorical_train=0.365]"
     ]
    },
    {
     "name": "stdout",
     "output_type": "stream",
     "text": [
      "\r\n",
      "Epoch 64/600:  11%|█         | 64/600 [37:11<5:06:42, 34.33s/it, v_num=a0_1, total_loss_train=495, kl_local_train=215, metric_mi|age_categorical_train=0.365]"
     ]
    },
    {
     "name": "stdout",
     "output_type": "stream",
     "text": [
      "\r\n",
      "Epoch 65/600:  11%|█         | 64/600 [37:11<5:06:42, 34.33s/it, v_num=a0_1, total_loss_train=495, kl_local_train=215, metric_mi|age_categorical_train=0.365]"
     ]
    },
    {
     "name": "stdout",
     "output_type": "stream",
     "text": [
      "\r\n",
      "Epoch 65/600:  11%|█         | 65/600 [37:46<5:08:11, 34.56s/it, v_num=a0_1, total_loss_train=495, kl_local_train=215, metric_mi|age_categorical_train=0.365]"
     ]
    },
    {
     "name": "stdout",
     "output_type": "stream",
     "text": [
      "\r\n",
      "Epoch 65/600:  11%|█         | 65/600 [37:46<5:08:11, 34.56s/it, v_num=a0_1, total_loss_train=495, kl_local_train=212, metric_mi|age_categorical_train=0.365]"
     ]
    },
    {
     "name": "stdout",
     "output_type": "stream",
     "text": [
      "\r\n",
      "Epoch 66/600:  11%|█         | 65/600 [37:47<5:08:11, 34.56s/it, v_num=a0_1, total_loss_train=495, kl_local_train=212, metric_mi|age_categorical_train=0.365]"
     ]
    },
    {
     "name": "stdout",
     "output_type": "stream",
     "text": [
      "\r\n",
      "Epoch 66/600:  11%|█         | 66/600 [38:21<5:07:57, 34.60s/it, v_num=a0_1, total_loss_train=495, kl_local_train=212, metric_mi|age_categorical_train=0.365]"
     ]
    },
    {
     "name": "stdout",
     "output_type": "stream",
     "text": [
      "\r\n",
      "Epoch 66/600:  11%|█         | 66/600 [38:21<5:07:57, 34.60s/it, v_num=a0_1, total_loss_train=495, kl_local_train=214, metric_mi|age_categorical_train=0.368]"
     ]
    },
    {
     "name": "stdout",
     "output_type": "stream",
     "text": [
      "\r\n",
      "Epoch 67/600:  11%|█         | 66/600 [38:21<5:07:57, 34.60s/it, v_num=a0_1, total_loss_train=495, kl_local_train=214, metric_mi|age_categorical_train=0.368]"
     ]
    },
    {
     "name": "stdout",
     "output_type": "stream",
     "text": [
      "\r\n",
      "Epoch 67/600:  11%|█         | 67/600 [38:55<5:05:09, 34.35s/it, v_num=a0_1, total_loss_train=495, kl_local_train=214, metric_mi|age_categorical_train=0.368]"
     ]
    },
    {
     "name": "stdout",
     "output_type": "stream",
     "text": [
      "\r\n",
      "Epoch 67/600:  11%|█         | 67/600 [38:55<5:05:09, 34.35s/it, v_num=a0_1, total_loss_train=494, kl_local_train=207, metric_mi|age_categorical_train=0.368]"
     ]
    },
    {
     "name": "stdout",
     "output_type": "stream",
     "text": [
      "\r\n",
      "Epoch 68/600:  11%|█         | 67/600 [38:55<5:05:09, 34.35s/it, v_num=a0_1, total_loss_train=494, kl_local_train=207, metric_mi|age_categorical_train=0.368]"
     ]
    },
    {
     "name": "stdout",
     "output_type": "stream",
     "text": [
      "\r\n",
      "Epoch 68/600:  11%|█▏        | 68/600 [39:28<5:03:20, 34.21s/it, v_num=a0_1, total_loss_train=494, kl_local_train=207, metric_mi|age_categorical_train=0.368]"
     ]
    },
    {
     "name": "stdout",
     "output_type": "stream",
     "text": [
      "\r\n",
      "Epoch 68/600:  11%|█▏        | 68/600 [39:28<5:03:20, 34.21s/it, v_num=a0_1, total_loss_train=494, kl_local_train=205, metric_mi|age_categorical_train=0.368]"
     ]
    },
    {
     "name": "stdout",
     "output_type": "stream",
     "text": [
      "\r\n",
      "Epoch 69/600:  11%|█▏        | 68/600 [39:28<5:03:20, 34.21s/it, v_num=a0_1, total_loss_train=494, kl_local_train=205, metric_mi|age_categorical_train=0.368]"
     ]
    },
    {
     "name": "stdout",
     "output_type": "stream",
     "text": [
      "\r\n",
      "Epoch 69/600:  12%|█▏        | 69/600 [40:02<5:02:25, 34.17s/it, v_num=a0_1, total_loss_train=494, kl_local_train=205, metric_mi|age_categorical_train=0.368]"
     ]
    },
    {
     "name": "stdout",
     "output_type": "stream",
     "text": [
      "\r\n",
      "Epoch 69/600:  12%|█▏        | 69/600 [40:02<5:02:25, 34.17s/it, v_num=a0_1, total_loss_train=494, kl_local_train=202, metric_mi|age_categorical_train=0.368]"
     ]
    },
    {
     "name": "stdout",
     "output_type": "stream",
     "text": [
      "\r\n",
      "Epoch 70/600:  12%|█▏        | 69/600 [40:02<5:02:25, 34.17s/it, v_num=a0_1, total_loss_train=494, kl_local_train=202, metric_mi|age_categorical_train=0.368]"
     ]
    },
    {
     "name": "stdout",
     "output_type": "stream",
     "text": [
      "\r\n",
      "Epoch 70/600:  12%|█▏        | 70/600 [40:38<5:05:25, 34.58s/it, v_num=a0_1, total_loss_train=494, kl_local_train=202, metric_mi|age_categorical_train=0.368]"
     ]
    },
    {
     "name": "stdout",
     "output_type": "stream",
     "text": [
      "\r\n",
      "Epoch 70/600:  12%|█▏        | 70/600 [40:38<5:05:25, 34.58s/it, v_num=a0_1, total_loss_train=494, kl_local_train=202, metric_mi|age_categorical_train=0.368]"
     ]
    },
    {
     "name": "stdout",
     "output_type": "stream",
     "text": [
      "\r\n",
      "Epoch 71/600:  12%|█▏        | 70/600 [40:39<5:05:25, 34.58s/it, v_num=a0_1, total_loss_train=494, kl_local_train=202, metric_mi|age_categorical_train=0.368]"
     ]
    },
    {
     "name": "stdout",
     "output_type": "stream",
     "text": [
      "\r\n",
      "Epoch 71/600:  12%|█▏        | 71/600 [41:26<5:40:47, 38.65s/it, v_num=a0_1, total_loss_train=494, kl_local_train=202, metric_mi|age_categorical_train=0.368]"
     ]
    },
    {
     "name": "stdout",
     "output_type": "stream",
     "text": [
      "\r\n",
      "Epoch 71/600:  12%|█▏        | 71/600 [41:26<5:40:47, 38.65s/it, v_num=a0_1, total_loss_train=494, kl_local_train=204, metric_mi|age_categorical_train=0.368]"
     ]
    },
    {
     "name": "stdout",
     "output_type": "stream",
     "text": [
      "\r\n",
      "Epoch 72/600:  12%|█▏        | 71/600 [41:26<5:40:47, 38.65s/it, v_num=a0_1, total_loss_train=494, kl_local_train=204, metric_mi|age_categorical_train=0.368]"
     ]
    },
    {
     "name": "stdout",
     "output_type": "stream",
     "text": [
      "\r\n",
      "Epoch 72/600:  12%|█▏        | 72/600 [42:00<5:27:50, 37.25s/it, v_num=a0_1, total_loss_train=494, kl_local_train=204, metric_mi|age_categorical_train=0.368]"
     ]
    },
    {
     "name": "stdout",
     "output_type": "stream",
     "text": [
      "\r\n",
      "Epoch 72/600:  12%|█▏        | 72/600 [42:00<5:27:50, 37.25s/it, v_num=a0_1, total_loss_train=493, kl_local_train=199, metric_mi|age_categorical_train=0.368]"
     ]
    },
    {
     "name": "stdout",
     "output_type": "stream",
     "text": [
      "\r\n",
      "Epoch 73/600:  12%|█▏        | 72/600 [42:00<5:27:50, 37.25s/it, v_num=a0_1, total_loss_train=493, kl_local_train=199, metric_mi|age_categorical_train=0.368]"
     ]
    },
    {
     "name": "stdout",
     "output_type": "stream",
     "text": [
      "\r\n",
      "Epoch 73/600:  12%|█▏        | 73/600 [42:34<5:18:28, 36.26s/it, v_num=a0_1, total_loss_train=493, kl_local_train=199, metric_mi|age_categorical_train=0.368]"
     ]
    },
    {
     "name": "stdout",
     "output_type": "stream",
     "text": [
      "\r\n",
      "Epoch 73/600:  12%|█▏        | 73/600 [42:34<5:18:28, 36.26s/it, v_num=a0_1, total_loss_train=493, kl_local_train=200, metric_mi|age_categorical_train=0.368]"
     ]
    },
    {
     "name": "stdout",
     "output_type": "stream",
     "text": [
      "\r\n",
      "Epoch 74/600:  12%|█▏        | 73/600 [42:34<5:18:28, 36.26s/it, v_num=a0_1, total_loss_train=493, kl_local_train=200, metric_mi|age_categorical_train=0.368]"
     ]
    },
    {
     "name": "stdout",
     "output_type": "stream",
     "text": [
      "\r\n",
      "Epoch 74/600:  12%|█▏        | 74/600 [43:09<5:13:10, 35.72s/it, v_num=a0_1, total_loss_train=493, kl_local_train=200, metric_mi|age_categorical_train=0.368]"
     ]
    },
    {
     "name": "stdout",
     "output_type": "stream",
     "text": [
      "\r\n",
      "Epoch 74/600:  12%|█▏        | 74/600 [43:09<5:13:10, 35.72s/it, v_num=a0_1, total_loss_train=493, kl_local_train=197, metric_mi|age_categorical_train=0.368]"
     ]
    },
    {
     "name": "stdout",
     "output_type": "stream",
     "text": [
      "\r\n",
      "Epoch 75/600:  12%|█▏        | 74/600 [43:09<5:13:10, 35.72s/it, v_num=a0_1, total_loss_train=493, kl_local_train=197, metric_mi|age_categorical_train=0.368]"
     ]
    },
    {
     "name": "stdout",
     "output_type": "stream",
     "text": [
      "\r\n",
      "Epoch 75/600:  12%|█▎        | 75/600 [43:44<5:11:53, 35.64s/it, v_num=a0_1, total_loss_train=493, kl_local_train=197, metric_mi|age_categorical_train=0.368]"
     ]
    },
    {
     "name": "stdout",
     "output_type": "stream",
     "text": [
      "\r\n",
      "Epoch 75/600:  12%|█▎        | 75/600 [43:44<5:11:53, 35.64s/it, v_num=a0_1, total_loss_train=493, kl_local_train=195, metric_mi|age_categorical_train=0.368]"
     ]
    },
    {
     "name": "stdout",
     "output_type": "stream",
     "text": [
      "\r\n",
      "Epoch 76/600:  12%|█▎        | 75/600 [43:45<5:11:53, 35.64s/it, v_num=a0_1, total_loss_train=493, kl_local_train=195, metric_mi|age_categorical_train=0.368]"
     ]
    },
    {
     "name": "stdout",
     "output_type": "stream",
     "text": [
      "\r\n",
      "Epoch 76/600:  13%|█▎        | 76/600 [44:19<5:08:36, 35.34s/it, v_num=a0_1, total_loss_train=493, kl_local_train=195, metric_mi|age_categorical_train=0.368]"
     ]
    },
    {
     "name": "stdout",
     "output_type": "stream",
     "text": [
      "\r\n",
      "Epoch 76/600:  13%|█▎        | 76/600 [44:19<5:08:36, 35.34s/it, v_num=a0_1, total_loss_train=492, kl_local_train=195, metric_mi|age_categorical_train=0.359]"
     ]
    },
    {
     "name": "stdout",
     "output_type": "stream",
     "text": [
      "\r\n",
      "Epoch 77/600:  13%|█▎        | 76/600 [44:19<5:08:36, 35.34s/it, v_num=a0_1, total_loss_train=492, kl_local_train=195, metric_mi|age_categorical_train=0.359]"
     ]
    },
    {
     "name": "stdout",
     "output_type": "stream",
     "text": [
      "\r\n",
      "Epoch 77/600:  13%|█▎        | 77/600 [44:53<5:05:31, 35.05s/it, v_num=a0_1, total_loss_train=492, kl_local_train=195, metric_mi|age_categorical_train=0.359]"
     ]
    },
    {
     "name": "stdout",
     "output_type": "stream",
     "text": [
      "\r\n",
      "Epoch 77/600:  13%|█▎        | 77/600 [44:53<5:05:31, 35.05s/it, v_num=a0_1, total_loss_train=493, kl_local_train=196, metric_mi|age_categorical_train=0.359]"
     ]
    },
    {
     "name": "stdout",
     "output_type": "stream",
     "text": [
      "\r\n",
      "Epoch 78/600:  13%|█▎        | 77/600 [44:53<5:05:31, 35.05s/it, v_num=a0_1, total_loss_train=493, kl_local_train=196, metric_mi|age_categorical_train=0.359]"
     ]
    },
    {
     "name": "stdout",
     "output_type": "stream",
     "text": [
      "\r\n",
      "Epoch 78/600:  13%|█▎        | 78/600 [45:27<5:02:20, 34.75s/it, v_num=a0_1, total_loss_train=493, kl_local_train=196, metric_mi|age_categorical_train=0.359]"
     ]
    },
    {
     "name": "stdout",
     "output_type": "stream",
     "text": [
      "\r\n",
      "Epoch 78/600:  13%|█▎        | 78/600 [45:27<5:02:20, 34.75s/it, v_num=a0_1, total_loss_train=493, kl_local_train=196, metric_mi|age_categorical_train=0.359]"
     ]
    },
    {
     "name": "stdout",
     "output_type": "stream",
     "text": [
      "\r\n",
      "Epoch 79/600:  13%|█▎        | 78/600 [45:27<5:02:20, 34.75s/it, v_num=a0_1, total_loss_train=493, kl_local_train=196, metric_mi|age_categorical_train=0.359]"
     ]
    },
    {
     "name": "stdout",
     "output_type": "stream",
     "text": [
      "\r\n",
      "Epoch 79/600:  13%|█▎        | 79/600 [46:01<4:58:28, 34.37s/it, v_num=a0_1, total_loss_train=493, kl_local_train=196, metric_mi|age_categorical_train=0.359]"
     ]
    },
    {
     "name": "stdout",
     "output_type": "stream",
     "text": [
      "\r\n",
      "Epoch 79/600:  13%|█▎        | 79/600 [46:01<4:58:28, 34.37s/it, v_num=a0_1, total_loss_train=493, kl_local_train=193, metric_mi|age_categorical_train=0.359]"
     ]
    },
    {
     "name": "stdout",
     "output_type": "stream",
     "text": [
      "\r\n",
      "Epoch 80/600:  13%|█▎        | 79/600 [46:01<4:58:28, 34.37s/it, v_num=a0_1, total_loss_train=493, kl_local_train=193, metric_mi|age_categorical_train=0.359]"
     ]
    },
    {
     "name": "stdout",
     "output_type": "stream",
     "text": [
      "\r\n",
      "Epoch 80/600:  13%|█▎        | 80/600 [46:35<4:57:19, 34.31s/it, v_num=a0_1, total_loss_train=493, kl_local_train=193, metric_mi|age_categorical_train=0.359]"
     ]
    },
    {
     "name": "stdout",
     "output_type": "stream",
     "text": [
      "\r\n",
      "Epoch 80/600:  13%|█▎        | 80/600 [46:35<4:57:19, 34.31s/it, v_num=a0_1, total_loss_train=493, kl_local_train=192, metric_mi|age_categorical_train=0.359]"
     ]
    },
    {
     "name": "stdout",
     "output_type": "stream",
     "text": [
      "\r\n",
      "Epoch 81/600:  13%|█▎        | 80/600 [46:35<4:57:19, 34.31s/it, v_num=a0_1, total_loss_train=493, kl_local_train=192, metric_mi|age_categorical_train=0.359]"
     ]
    },
    {
     "name": "stdout",
     "output_type": "stream",
     "text": [
      "\r\n",
      "Epoch 81/600:  14%|█▎        | 81/600 [47:09<4:56:40, 34.30s/it, v_num=a0_1, total_loss_train=493, kl_local_train=192, metric_mi|age_categorical_train=0.359]"
     ]
    },
    {
     "name": "stdout",
     "output_type": "stream",
     "text": [
      "\r\n",
      "Epoch 81/600:  14%|█▎        | 81/600 [47:09<4:56:40, 34.30s/it, v_num=a0_1, total_loss_train=493, kl_local_train=188, metric_mi|age_categorical_train=0.361]"
     ]
    },
    {
     "name": "stdout",
     "output_type": "stream",
     "text": [
      "\r\n",
      "Epoch 82/600:  14%|█▎        | 81/600 [47:09<4:56:40, 34.30s/it, v_num=a0_1, total_loss_train=493, kl_local_train=188, metric_mi|age_categorical_train=0.361]"
     ]
    },
    {
     "name": "stdout",
     "output_type": "stream",
     "text": [
      "\r\n",
      "Epoch 82/600:  14%|█▎        | 82/600 [47:43<4:54:57, 34.17s/it, v_num=a0_1, total_loss_train=493, kl_local_train=188, metric_mi|age_categorical_train=0.361]"
     ]
    },
    {
     "name": "stdout",
     "output_type": "stream",
     "text": [
      "\r\n",
      "Epoch 82/600:  14%|█▎        | 82/600 [47:43<4:54:57, 34.17s/it, v_num=a0_1, total_loss_train=492, kl_local_train=189, metric_mi|age_categorical_train=0.361]"
     ]
    },
    {
     "name": "stdout",
     "output_type": "stream",
     "text": [
      "\r\n",
      "Epoch 83/600:  14%|█▎        | 82/600 [47:43<4:54:57, 34.17s/it, v_num=a0_1, total_loss_train=492, kl_local_train=189, metric_mi|age_categorical_train=0.361]"
     ]
    },
    {
     "name": "stdout",
     "output_type": "stream",
     "text": [
      "\r\n",
      "Epoch 83/600:  14%|█▍        | 83/600 [48:15<4:49:08, 33.56s/it, v_num=a0_1, total_loss_train=492, kl_local_train=189, metric_mi|age_categorical_train=0.361]"
     ]
    },
    {
     "name": "stdout",
     "output_type": "stream",
     "text": [
      "\r\n",
      "Epoch 83/600:  14%|█▍        | 83/600 [48:15<4:49:08, 33.56s/it, v_num=a0_1, total_loss_train=493, kl_local_train=188, metric_mi|age_categorical_train=0.361]"
     ]
    },
    {
     "name": "stdout",
     "output_type": "stream",
     "text": [
      "\r\n",
      "Epoch 84/600:  14%|█▍        | 83/600 [48:15<4:49:08, 33.56s/it, v_num=a0_1, total_loss_train=493, kl_local_train=188, metric_mi|age_categorical_train=0.361]"
     ]
    },
    {
     "name": "stdout",
     "output_type": "stream",
     "text": [
      "\r\n",
      "Epoch 84/600:  14%|█▍        | 84/600 [48:46<4:42:16, 32.82s/it, v_num=a0_1, total_loss_train=493, kl_local_train=188, metric_mi|age_categorical_train=0.361]"
     ]
    },
    {
     "name": "stdout",
     "output_type": "stream",
     "text": [
      "\r\n",
      "Epoch 84/600:  14%|█▍        | 84/600 [48:46<4:42:16, 32.82s/it, v_num=a0_1, total_loss_train=493, kl_local_train=188, metric_mi|age_categorical_train=0.361]"
     ]
    },
    {
     "name": "stdout",
     "output_type": "stream",
     "text": [
      "\r\n",
      "Epoch 85/600:  14%|█▍        | 84/600 [48:46<4:42:16, 32.82s/it, v_num=a0_1, total_loss_train=493, kl_local_train=188, metric_mi|age_categorical_train=0.361]"
     ]
    },
    {
     "name": "stdout",
     "output_type": "stream",
     "text": [
      "\r\n",
      "Epoch 85/600:  14%|█▍        | 85/600 [49:18<4:40:29, 32.68s/it, v_num=a0_1, total_loss_train=493, kl_local_train=188, metric_mi|age_categorical_train=0.361]"
     ]
    },
    {
     "name": "stdout",
     "output_type": "stream",
     "text": [
      "\r\n",
      "Epoch 85/600:  14%|█▍        | 85/600 [49:18<4:40:29, 32.68s/it, v_num=a0_1, total_loss_train=493, kl_local_train=187, metric_mi|age_categorical_train=0.361]"
     ]
    },
    {
     "name": "stdout",
     "output_type": "stream",
     "text": [
      "\r\n",
      "Epoch 86/600:  14%|█▍        | 85/600 [49:19<4:40:29, 32.68s/it, v_num=a0_1, total_loss_train=493, kl_local_train=187, metric_mi|age_categorical_train=0.361]"
     ]
    },
    {
     "name": "stdout",
     "output_type": "stream",
     "text": [
      "\r\n",
      "Epoch 86/600:  14%|█▍        | 86/600 [49:51<4:39:09, 32.59s/it, v_num=a0_1, total_loss_train=493, kl_local_train=187, metric_mi|age_categorical_train=0.361]"
     ]
    },
    {
     "name": "stdout",
     "output_type": "stream",
     "text": [
      "\r\n",
      "Epoch 86/600:  14%|█▍        | 86/600 [49:51<4:39:09, 32.59s/it, v_num=a0_1, total_loss_train=493, kl_local_train=185, metric_mi|age_categorical_train=0.342]"
     ]
    },
    {
     "name": "stdout",
     "output_type": "stream",
     "text": [
      "\r\n",
      "Epoch 87/600:  14%|█▍        | 86/600 [49:51<4:39:09, 32.59s/it, v_num=a0_1, total_loss_train=493, kl_local_train=185, metric_mi|age_categorical_train=0.342]"
     ]
    },
    {
     "name": "stdout",
     "output_type": "stream",
     "text": [
      "\r\n",
      "Epoch 87/600:  14%|█▍        | 87/600 [50:22<4:34:19, 32.08s/it, v_num=a0_1, total_loss_train=493, kl_local_train=185, metric_mi|age_categorical_train=0.342]"
     ]
    },
    {
     "name": "stdout",
     "output_type": "stream",
     "text": [
      "\r\n",
      "Epoch 87/600:  14%|█▍        | 87/600 [50:22<4:34:19, 32.08s/it, v_num=a0_1, total_loss_train=493, kl_local_train=185, metric_mi|age_categorical_train=0.342]"
     ]
    },
    {
     "name": "stdout",
     "output_type": "stream",
     "text": [
      "\r\n",
      "Epoch 88/600:  14%|█▍        | 87/600 [50:22<4:34:19, 32.08s/it, v_num=a0_1, total_loss_train=493, kl_local_train=185, metric_mi|age_categorical_train=0.342]"
     ]
    },
    {
     "name": "stdout",
     "output_type": "stream",
     "text": [
      "\r\n",
      "Epoch 88/600:  15%|█▍        | 88/600 [50:53<4:31:16, 31.79s/it, v_num=a0_1, total_loss_train=493, kl_local_train=185, metric_mi|age_categorical_train=0.342]"
     ]
    },
    {
     "name": "stdout",
     "output_type": "stream",
     "text": [
      "\r\n",
      "Epoch 88/600:  15%|█▍        | 88/600 [50:53<4:31:16, 31.79s/it, v_num=a0_1, total_loss_train=493, kl_local_train=187, metric_mi|age_categorical_train=0.342]"
     ]
    },
    {
     "name": "stdout",
     "output_type": "stream",
     "text": [
      "\r\n",
      "Epoch 89/600:  15%|█▍        | 88/600 [50:53<4:31:16, 31.79s/it, v_num=a0_1, total_loss_train=493, kl_local_train=187, metric_mi|age_categorical_train=0.342]"
     ]
    },
    {
     "name": "stdout",
     "output_type": "stream",
     "text": [
      "\r\n",
      "Epoch 89/600:  15%|█▍        | 89/600 [51:24<4:28:53, 31.57s/it, v_num=a0_1, total_loss_train=493, kl_local_train=187, metric_mi|age_categorical_train=0.342]"
     ]
    },
    {
     "name": "stdout",
     "output_type": "stream",
     "text": [
      "\r\n",
      "Epoch 89/600:  15%|█▍        | 89/600 [51:24<4:28:53, 31.57s/it, v_num=a0_1, total_loss_train=492, kl_local_train=183, metric_mi|age_categorical_train=0.342]"
     ]
    },
    {
     "name": "stdout",
     "output_type": "stream",
     "text": [
      "\r\n",
      "Epoch 90/600:  15%|█▍        | 89/600 [51:24<4:28:53, 31.57s/it, v_num=a0_1, total_loss_train=492, kl_local_train=183, metric_mi|age_categorical_train=0.342]"
     ]
    },
    {
     "name": "stdout",
     "output_type": "stream",
     "text": [
      "\r\n",
      "Epoch 90/600:  15%|█▌        | 90/600 [51:56<4:29:30, 31.71s/it, v_num=a0_1, total_loss_train=492, kl_local_train=183, metric_mi|age_categorical_train=0.342]"
     ]
    },
    {
     "name": "stdout",
     "output_type": "stream",
     "text": [
      "\r\n",
      "Epoch 90/600:  15%|█▌        | 90/600 [51:56<4:29:30, 31.71s/it, v_num=a0_1, total_loss_train=492, kl_local_train=180, metric_mi|age_categorical_train=0.342]"
     ]
    },
    {
     "name": "stdout",
     "output_type": "stream",
     "text": [
      "\r\n",
      "Epoch 91/600:  15%|█▌        | 90/600 [51:56<4:29:30, 31.71s/it, v_num=a0_1, total_loss_train=492, kl_local_train=180, metric_mi|age_categorical_train=0.342]"
     ]
    },
    {
     "name": "stdout",
     "output_type": "stream",
     "text": [
      "\r\n",
      "Epoch 91/600:  15%|█▌        | 91/600 [52:28<4:28:45, 31.68s/it, v_num=a0_1, total_loss_train=492, kl_local_train=180, metric_mi|age_categorical_train=0.342]"
     ]
    },
    {
     "name": "stdout",
     "output_type": "stream",
     "text": [
      "\r\n",
      "Epoch 91/600:  15%|█▌        | 91/600 [52:28<4:28:45, 31.68s/it, v_num=a0_1, total_loss_train=493, kl_local_train=179, metric_mi|age_categorical_train=0.349]"
     ]
    },
    {
     "name": "stdout",
     "output_type": "stream",
     "text": [
      "\r\n",
      "Epoch 92/600:  15%|█▌        | 91/600 [52:28<4:28:45, 31.68s/it, v_num=a0_1, total_loss_train=493, kl_local_train=179, metric_mi|age_categorical_train=0.349]"
     ]
    },
    {
     "name": "stdout",
     "output_type": "stream",
     "text": [
      "\r\n",
      "Epoch 92/600:  15%|█▌        | 92/600 [52:58<4:24:28, 31.24s/it, v_num=a0_1, total_loss_train=493, kl_local_train=179, metric_mi|age_categorical_train=0.349]"
     ]
    },
    {
     "name": "stdout",
     "output_type": "stream",
     "text": [
      "\r\n",
      "Epoch 92/600:  15%|█▌        | 92/600 [52:58<4:24:28, 31.24s/it, v_num=a0_1, total_loss_train=493, kl_local_train=181, metric_mi|age_categorical_train=0.349]"
     ]
    },
    {
     "name": "stdout",
     "output_type": "stream",
     "text": [
      "\r\n",
      "Epoch 93/600:  15%|█▌        | 92/600 [52:58<4:24:28, 31.24s/it, v_num=a0_1, total_loss_train=493, kl_local_train=181, metric_mi|age_categorical_train=0.349]"
     ]
    },
    {
     "name": "stdout",
     "output_type": "stream",
     "text": [
      "\r\n",
      "Epoch 93/600:  16%|█▌        | 93/600 [53:27<4:18:30, 30.59s/it, v_num=a0_1, total_loss_train=493, kl_local_train=181, metric_mi|age_categorical_train=0.349]"
     ]
    },
    {
     "name": "stdout",
     "output_type": "stream",
     "text": [
      "\r\n",
      "Epoch 93/600:  16%|█▌        | 93/600 [53:27<4:18:30, 30.59s/it, v_num=a0_1, total_loss_train=493, kl_local_train=180, metric_mi|age_categorical_train=0.349]"
     ]
    },
    {
     "name": "stdout",
     "output_type": "stream",
     "text": [
      "\r\n",
      "Epoch 94/600:  16%|█▌        | 93/600 [53:27<4:18:30, 30.59s/it, v_num=a0_1, total_loss_train=493, kl_local_train=180, metric_mi|age_categorical_train=0.349]"
     ]
    },
    {
     "name": "stdout",
     "output_type": "stream",
     "text": [
      "\r\n",
      "Epoch 94/600:  16%|█▌        | 94/600 [53:56<4:14:31, 30.18s/it, v_num=a0_1, total_loss_train=493, kl_local_train=180, metric_mi|age_categorical_train=0.349]"
     ]
    },
    {
     "name": "stdout",
     "output_type": "stream",
     "text": [
      "\r\n",
      "Epoch 94/600:  16%|█▌        | 94/600 [53:56<4:14:31, 30.18s/it, v_num=a0_1, total_loss_train=493, kl_local_train=180, metric_mi|age_categorical_train=0.349]"
     ]
    },
    {
     "name": "stdout",
     "output_type": "stream",
     "text": [
      "\r\n",
      "Epoch 95/600:  16%|█▌        | 94/600 [53:56<4:14:31, 30.18s/it, v_num=a0_1, total_loss_train=493, kl_local_train=180, metric_mi|age_categorical_train=0.349]"
     ]
    },
    {
     "name": "stdout",
     "output_type": "stream",
     "text": [
      "\r\n",
      "Epoch 95/600:  16%|█▌        | 95/600 [54:27<4:14:42, 30.26s/it, v_num=a0_1, total_loss_train=493, kl_local_train=180, metric_mi|age_categorical_train=0.349]"
     ]
    },
    {
     "name": "stdout",
     "output_type": "stream",
     "text": [
      "\r\n",
      "Epoch 95/600:  16%|█▌        | 95/600 [54:27<4:14:42, 30.26s/it, v_num=a0_1, total_loss_train=493, kl_local_train=177, metric_mi|age_categorical_train=0.349]"
     ]
    },
    {
     "name": "stdout",
     "output_type": "stream",
     "text": [
      "\r\n",
      "Epoch 96/600:  16%|█▌        | 95/600 [54:27<4:14:42, 30.26s/it, v_num=a0_1, total_loss_train=493, kl_local_train=177, metric_mi|age_categorical_train=0.349]"
     ]
    },
    {
     "name": "stdout",
     "output_type": "stream",
     "text": [
      "\r\n",
      "Epoch 96/600:  16%|█▌        | 96/600 [54:56<4:13:04, 30.13s/it, v_num=a0_1, total_loss_train=493, kl_local_train=177, metric_mi|age_categorical_train=0.349]"
     ]
    },
    {
     "name": "stdout",
     "output_type": "stream",
     "text": [
      "\r\n",
      "Epoch 96/600:  16%|█▌        | 96/600 [54:56<4:13:04, 30.13s/it, v_num=a0_1, total_loss_train=494, kl_local_train=177, metric_mi|age_categorical_train=0.385]"
     ]
    },
    {
     "name": "stdout",
     "output_type": "stream",
     "text": [
      "\r\n",
      "Epoch 97/600:  16%|█▌        | 96/600 [54:56<4:13:04, 30.13s/it, v_num=a0_1, total_loss_train=494, kl_local_train=177, metric_mi|age_categorical_train=0.385]"
     ]
    },
    {
     "name": "stdout",
     "output_type": "stream",
     "text": [
      "\r\n",
      "Epoch 97/600:  16%|█▌        | 97/600 [55:26<4:10:41, 29.90s/it, v_num=a0_1, total_loss_train=494, kl_local_train=177, metric_mi|age_categorical_train=0.385]"
     ]
    },
    {
     "name": "stdout",
     "output_type": "stream",
     "text": [
      "\r\n",
      "Epoch 97/600:  16%|█▌        | 97/600 [55:26<4:10:41, 29.90s/it, v_num=a0_1, total_loss_train=493, kl_local_train=175, metric_mi|age_categorical_train=0.385]"
     ]
    },
    {
     "name": "stdout",
     "output_type": "stream",
     "text": [
      "\r\n",
      "Epoch 98/600:  16%|█▌        | 97/600 [55:26<4:10:41, 29.90s/it, v_num=a0_1, total_loss_train=493, kl_local_train=175, metric_mi|age_categorical_train=0.385]"
     ]
    },
    {
     "name": "stdout",
     "output_type": "stream",
     "text": [
      "\r\n",
      "Epoch 98/600:  16%|█▋        | 98/600 [55:55<4:08:47, 29.74s/it, v_num=a0_1, total_loss_train=493, kl_local_train=175, metric_mi|age_categorical_train=0.385]"
     ]
    },
    {
     "name": "stdout",
     "output_type": "stream",
     "text": [
      "\r\n",
      "Epoch 98/600:  16%|█▋        | 98/600 [55:55<4:08:47, 29.74s/it, v_num=a0_1, total_loss_train=493, kl_local_train=173, metric_mi|age_categorical_train=0.385]"
     ]
    },
    {
     "name": "stdout",
     "output_type": "stream",
     "text": [
      "\r\n",
      "Epoch 99/600:  16%|█▋        | 98/600 [55:55<4:08:47, 29.74s/it, v_num=a0_1, total_loss_train=493, kl_local_train=173, metric_mi|age_categorical_train=0.385]"
     ]
    },
    {
     "name": "stdout",
     "output_type": "stream",
     "text": [
      "\r\n",
      "Epoch 99/600:  16%|█▋        | 99/600 [56:25<4:07:36, 29.65s/it, v_num=a0_1, total_loss_train=493, kl_local_train=173, metric_mi|age_categorical_train=0.385]"
     ]
    },
    {
     "name": "stdout",
     "output_type": "stream",
     "text": [
      "\r\n",
      "Epoch 99/600:  16%|█▋        | 99/600 [56:25<4:07:36, 29.65s/it, v_num=a0_1, total_loss_train=493, kl_local_train=173, metric_mi|age_categorical_train=0.385]"
     ]
    },
    {
     "name": "stdout",
     "output_type": "stream",
     "text": [
      "\r\n",
      "Epoch 100/600:  16%|█▋        | 99/600 [56:25<4:07:36, 29.65s/it, v_num=a0_1, total_loss_train=493, kl_local_train=173, metric_mi|age_categorical_train=0.385]"
     ]
    },
    {
     "name": "stdout",
     "output_type": "stream",
     "text": [
      "\r\n",
      "Epoch 100/600:  17%|█▋        | 100/600 [56:55<4:08:32, 29.82s/it, v_num=a0_1, total_loss_train=493, kl_local_train=173, metric_mi|age_categorical_train=0.385]"
     ]
    },
    {
     "name": "stdout",
     "output_type": "stream",
     "text": [
      "\r\n",
      "Epoch 100/600:  17%|█▋        | 100/600 [56:55<4:08:32, 29.82s/it, v_num=a0_1, total_loss_train=493, kl_local_train=171, metric_mi|age_categorical_train=0.385]"
     ]
    },
    {
     "name": "stdout",
     "output_type": "stream",
     "text": [
      "\r\n",
      "Epoch 101/600:  17%|█▋        | 100/600 [56:55<4:08:32, 29.82s/it, v_num=a0_1, total_loss_train=493, kl_local_train=171, metric_mi|age_categorical_train=0.385]"
     ]
    },
    {
     "name": "stdout",
     "output_type": "stream",
     "text": [
      "\r\n",
      "Epoch 101/600:  17%|█▋        | 101/600 [57:25<4:08:12, 29.84s/it, v_num=a0_1, total_loss_train=493, kl_local_train=171, metric_mi|age_categorical_train=0.385]"
     ]
    },
    {
     "name": "stdout",
     "output_type": "stream",
     "text": [
      "\r\n",
      "Epoch 101/600:  17%|█▋        | 101/600 [57:25<4:08:12, 29.84s/it, v_num=a0_1, total_loss_train=493, kl_local_train=170, metric_mi|age_categorical_train=0.371]"
     ]
    },
    {
     "name": "stdout",
     "output_type": "stream",
     "text": [
      "\r\n",
      "Epoch 102/600:  17%|█▋        | 101/600 [57:25<4:08:12, 29.84s/it, v_num=a0_1, total_loss_train=493, kl_local_train=170, metric_mi|age_categorical_train=0.371]"
     ]
    },
    {
     "name": "stdout",
     "output_type": "stream",
     "text": [
      "\r\n",
      "Epoch 102/600:  17%|█▋        | 102/600 [57:54<4:06:42, 29.72s/it, v_num=a0_1, total_loss_train=493, kl_local_train=170, metric_mi|age_categorical_train=0.371]"
     ]
    },
    {
     "name": "stdout",
     "output_type": "stream",
     "text": [
      "\r\n",
      "Epoch 102/600:  17%|█▋        | 102/600 [57:54<4:06:42, 29.72s/it, v_num=a0_1, total_loss_train=493, kl_local_train=170, metric_mi|age_categorical_train=0.371]"
     ]
    },
    {
     "name": "stdout",
     "output_type": "stream",
     "text": [
      "\r\n",
      "Epoch 103/600:  17%|█▋        | 102/600 [57:54<4:06:42, 29.72s/it, v_num=a0_1, total_loss_train=493, kl_local_train=170, metric_mi|age_categorical_train=0.371]"
     ]
    },
    {
     "name": "stdout",
     "output_type": "stream",
     "text": [
      "\r\n",
      "Epoch 103/600:  17%|█▋        | 103/600 [58:23<4:05:02, 29.58s/it, v_num=a0_1, total_loss_train=493, kl_local_train=170, metric_mi|age_categorical_train=0.371]"
     ]
    },
    {
     "name": "stdout",
     "output_type": "stream",
     "text": [
      "\r\n",
      "Epoch 103/600:  17%|█▋        | 103/600 [58:23<4:05:02, 29.58s/it, v_num=a0_1, total_loss_train=494, kl_local_train=173, metric_mi|age_categorical_train=0.371]"
     ]
    },
    {
     "name": "stdout",
     "output_type": "stream",
     "text": [
      "\r\n",
      "Epoch 104/600:  17%|█▋        | 103/600 [58:23<4:05:02, 29.58s/it, v_num=a0_1, total_loss_train=494, kl_local_train=173, metric_mi|age_categorical_train=0.371]"
     ]
    },
    {
     "name": "stdout",
     "output_type": "stream",
     "text": [
      "\r\n",
      "Epoch 104/600:  17%|█▋        | 104/600 [58:53<4:03:45, 29.49s/it, v_num=a0_1, total_loss_train=494, kl_local_train=173, metric_mi|age_categorical_train=0.371]"
     ]
    },
    {
     "name": "stdout",
     "output_type": "stream",
     "text": [
      "\r\n",
      "Epoch 104/600:  17%|█▋        | 104/600 [58:53<4:03:45, 29.49s/it, v_num=a0_1, total_loss_train=493, kl_local_train=171, metric_mi|age_categorical_train=0.371]"
     ]
    },
    {
     "name": "stdout",
     "output_type": "stream",
     "text": [
      "\r\n",
      "Epoch 105/600:  17%|█▋        | 104/600 [58:53<4:03:45, 29.49s/it, v_num=a0_1, total_loss_train=493, kl_local_train=171, metric_mi|age_categorical_train=0.371]"
     ]
    },
    {
     "name": "stdout",
     "output_type": "stream",
     "text": [
      "\r\n",
      "Epoch 105/600:  18%|█▊        | 105/600 [59:23<4:05:38, 29.78s/it, v_num=a0_1, total_loss_train=493, kl_local_train=171, metric_mi|age_categorical_train=0.371]"
     ]
    },
    {
     "name": "stdout",
     "output_type": "stream",
     "text": [
      "\r\n",
      "Epoch 105/600:  18%|█▊        | 105/600 [59:23<4:05:38, 29.78s/it, v_num=a0_1, total_loss_train=494, kl_local_train=171, metric_mi|age_categorical_train=0.371]"
     ]
    },
    {
     "name": "stdout",
     "output_type": "stream",
     "text": [
      "\r\n",
      "Epoch 106/600:  18%|█▊        | 105/600 [59:24<4:05:38, 29.78s/it, v_num=a0_1, total_loss_train=494, kl_local_train=171, metric_mi|age_categorical_train=0.371]"
     ]
    },
    {
     "name": "stdout",
     "output_type": "stream",
     "text": [
      "\r\n",
      "Epoch 106/600:  18%|█▊        | 106/600 [59:53<4:05:58, 29.87s/it, v_num=a0_1, total_loss_train=494, kl_local_train=171, metric_mi|age_categorical_train=0.371]"
     ]
    },
    {
     "name": "stdout",
     "output_type": "stream",
     "text": [
      "\r\n",
      "Epoch 106/600:  18%|█▊        | 106/600 [59:53<4:05:58, 29.87s/it, v_num=a0_1, total_loss_train=494, kl_local_train=170, metric_mi|age_categorical_train=0.36] "
     ]
    },
    {
     "name": "stdout",
     "output_type": "stream",
     "text": [
      "\r\n",
      "Epoch 107/600:  18%|█▊        | 106/600 [59:53<4:05:58, 29.87s/it, v_num=a0_1, total_loss_train=494, kl_local_train=170, metric_mi|age_categorical_train=0.36]"
     ]
    },
    {
     "name": "stdout",
     "output_type": "stream",
     "text": [
      "\r\n",
      "Epoch 107/600:  18%|█▊        | 107/600 [1:00:22<4:03:56, 29.69s/it, v_num=a0_1, total_loss_train=494, kl_local_train=170, metric_mi|age_categorical_train=0.36]"
     ]
    },
    {
     "name": "stdout",
     "output_type": "stream",
     "text": [
      "\r\n",
      "Epoch 107/600:  18%|█▊        | 107/600 [1:00:22<4:03:56, 29.69s/it, v_num=a0_1, total_loss_train=494, kl_local_train=169, metric_mi|age_categorical_train=0.36]"
     ]
    },
    {
     "name": "stdout",
     "output_type": "stream",
     "text": [
      "\r\n",
      "Epoch 108/600:  18%|█▊        | 107/600 [1:00:22<4:03:56, 29.69s/it, v_num=a0_1, total_loss_train=494, kl_local_train=169, metric_mi|age_categorical_train=0.36]"
     ]
    },
    {
     "name": "stdout",
     "output_type": "stream",
     "text": [
      "\r\n",
      "Epoch 108/600:  18%|█▊        | 108/600 [1:00:52<4:02:43, 29.60s/it, v_num=a0_1, total_loss_train=494, kl_local_train=169, metric_mi|age_categorical_train=0.36]"
     ]
    },
    {
     "name": "stdout",
     "output_type": "stream",
     "text": [
      "\r\n",
      "Epoch 108/600:  18%|█▊        | 108/600 [1:00:52<4:02:43, 29.60s/it, v_num=a0_1, total_loss_train=493, kl_local_train=169, metric_mi|age_categorical_train=0.36]"
     ]
    },
    {
     "name": "stdout",
     "output_type": "stream",
     "text": [
      "\r\n",
      "Epoch 109/600:  18%|█▊        | 108/600 [1:00:52<4:02:43, 29.60s/it, v_num=a0_1, total_loss_train=493, kl_local_train=169, metric_mi|age_categorical_train=0.36]"
     ]
    },
    {
     "name": "stdout",
     "output_type": "stream",
     "text": [
      "\r\n",
      "Epoch 109/600:  18%|█▊        | 109/600 [1:01:22<4:03:42, 29.78s/it, v_num=a0_1, total_loss_train=493, kl_local_train=169, metric_mi|age_categorical_train=0.36]"
     ]
    },
    {
     "name": "stdout",
     "output_type": "stream",
     "text": [
      "\r\n",
      "Epoch 109/600:  18%|█▊        | 109/600 [1:01:22<4:03:42, 29.78s/it, v_num=a0_1, total_loss_train=493, kl_local_train=166, metric_mi|age_categorical_train=0.36]"
     ]
    },
    {
     "name": "stdout",
     "output_type": "stream",
     "text": [
      "\r\n",
      "Epoch 110/600:  18%|█▊        | 109/600 [1:01:22<4:03:42, 29.78s/it, v_num=a0_1, total_loss_train=493, kl_local_train=166, metric_mi|age_categorical_train=0.36]"
     ]
    },
    {
     "name": "stdout",
     "output_type": "stream",
     "text": [
      "\r\n",
      "Epoch 110/600:  18%|█▊        | 110/600 [1:01:53<4:05:03, 30.01s/it, v_num=a0_1, total_loss_train=493, kl_local_train=166, metric_mi|age_categorical_train=0.36]"
     ]
    },
    {
     "name": "stdout",
     "output_type": "stream",
     "text": [
      "\r\n",
      "Epoch 110/600:  18%|█▊        | 110/600 [1:01:53<4:05:03, 30.01s/it, v_num=a0_1, total_loss_train=493, kl_local_train=166, metric_mi|age_categorical_train=0.36]"
     ]
    },
    {
     "name": "stdout",
     "output_type": "stream",
     "text": [
      "\r\n",
      "Epoch 111/600:  18%|█▊        | 110/600 [1:01:53<4:05:03, 30.01s/it, v_num=a0_1, total_loss_train=493, kl_local_train=166, metric_mi|age_categorical_train=0.36]"
     ]
    },
    {
     "name": "stdout",
     "output_type": "stream",
     "text": [
      "\r\n",
      "Epoch 111/600:  18%|█▊        | 111/600 [1:02:23<4:05:31, 30.13s/it, v_num=a0_1, total_loss_train=493, kl_local_train=166, metric_mi|age_categorical_train=0.36]"
     ]
    },
    {
     "name": "stdout",
     "output_type": "stream",
     "text": [
      "\r\n",
      "Epoch 111/600:  18%|█▊        | 111/600 [1:02:23<4:05:31, 30.13s/it, v_num=a0_1, total_loss_train=493, kl_local_train=165, metric_mi|age_categorical_train=0.369]"
     ]
    },
    {
     "name": "stdout",
     "output_type": "stream",
     "text": [
      "\r\n",
      "Epoch 112/600:  18%|█▊        | 111/600 [1:02:23<4:05:31, 30.13s/it, v_num=a0_1, total_loss_train=493, kl_local_train=165, metric_mi|age_categorical_train=0.369]"
     ]
    },
    {
     "name": "stdout",
     "output_type": "stream",
     "text": [
      "\r\n",
      "Epoch 112/600:  19%|█▊        | 112/600 [1:02:55<4:08:38, 30.57s/it, v_num=a0_1, total_loss_train=493, kl_local_train=165, metric_mi|age_categorical_train=0.369]"
     ]
    },
    {
     "name": "stdout",
     "output_type": "stream",
     "text": [
      "\r\n",
      "Epoch 112/600:  19%|█▊        | 112/600 [1:02:55<4:08:38, 30.57s/it, v_num=a0_1, total_loss_train=493, kl_local_train=164, metric_mi|age_categorical_train=0.369]"
     ]
    },
    {
     "name": "stdout",
     "output_type": "stream",
     "text": [
      "\r\n",
      "Epoch 113/600:  19%|█▊        | 112/600 [1:02:55<4:08:38, 30.57s/it, v_num=a0_1, total_loss_train=493, kl_local_train=164, metric_mi|age_categorical_train=0.369]"
     ]
    },
    {
     "name": "stdout",
     "output_type": "stream",
     "text": [
      "\r\n",
      "Epoch 113/600:  19%|█▉        | 113/600 [1:03:25<4:08:05, 30.57s/it, v_num=a0_1, total_loss_train=493, kl_local_train=164, metric_mi|age_categorical_train=0.369]"
     ]
    },
    {
     "name": "stdout",
     "output_type": "stream",
     "text": [
      "\r\n",
      "Epoch 113/600:  19%|█▉        | 113/600 [1:03:25<4:08:05, 30.57s/it, v_num=a0_1, total_loss_train=493, kl_local_train=164, metric_mi|age_categorical_train=0.369]"
     ]
    },
    {
     "name": "stdout",
     "output_type": "stream",
     "text": [
      "\r\n",
      "Epoch 114/600:  19%|█▉        | 113/600 [1:03:25<4:08:05, 30.57s/it, v_num=a0_1, total_loss_train=493, kl_local_train=164, metric_mi|age_categorical_train=0.369]"
     ]
    },
    {
     "name": "stdout",
     "output_type": "stream",
     "text": [
      "\r\n",
      "Epoch 114/600:  19%|█▉        | 114/600 [1:03:56<4:08:59, 30.74s/it, v_num=a0_1, total_loss_train=493, kl_local_train=164, metric_mi|age_categorical_train=0.369]"
     ]
    },
    {
     "name": "stdout",
     "output_type": "stream",
     "text": [
      "\r\n",
      "Epoch 114/600:  19%|█▉        | 114/600 [1:03:56<4:08:59, 30.74s/it, v_num=a0_1, total_loss_train=493, kl_local_train=163, metric_mi|age_categorical_train=0.369]"
     ]
    },
    {
     "name": "stdout",
     "output_type": "stream",
     "text": [
      "\r\n",
      "Epoch 115/600:  19%|█▉        | 114/600 [1:03:56<4:08:59, 30.74s/it, v_num=a0_1, total_loss_train=493, kl_local_train=163, metric_mi|age_categorical_train=0.369]"
     ]
    },
    {
     "name": "stdout",
     "output_type": "stream",
     "text": [
      "\r\n",
      "Epoch 115/600:  19%|█▉        | 115/600 [1:04:28<4:11:18, 31.09s/it, v_num=a0_1, total_loss_train=493, kl_local_train=163, metric_mi|age_categorical_train=0.369]"
     ]
    },
    {
     "name": "stdout",
     "output_type": "stream",
     "text": [
      "\r\n",
      "Epoch 115/600:  19%|█▉        | 115/600 [1:04:28<4:11:18, 31.09s/it, v_num=a0_1, total_loss_train=494, kl_local_train=162, metric_mi|age_categorical_train=0.369]"
     ]
    },
    {
     "name": "stdout",
     "output_type": "stream",
     "text": [
      "\r\n",
      "Epoch 116/600:  19%|█▉        | 115/600 [1:04:29<4:11:18, 31.09s/it, v_num=a0_1, total_loss_train=494, kl_local_train=162, metric_mi|age_categorical_train=0.369]"
     ]
    },
    {
     "name": "stdout",
     "output_type": "stream",
     "text": [
      "\r\n",
      "Epoch 116/600:  19%|█▉        | 116/600 [1:04:59<4:10:16, 31.02s/it, v_num=a0_1, total_loss_train=494, kl_local_train=162, metric_mi|age_categorical_train=0.369]"
     ]
    },
    {
     "name": "stdout",
     "output_type": "stream",
     "text": [
      "\r\n",
      "Epoch 116/600:  19%|█▉        | 116/600 [1:04:59<4:10:16, 31.02s/it, v_num=a0_1, total_loss_train=494, kl_local_train=162, metric_mi|age_categorical_train=0.386]"
     ]
    },
    {
     "name": "stdout",
     "output_type": "stream",
     "text": [
      "\r\n",
      "Epoch 117/600:  19%|█▉        | 116/600 [1:04:59<4:10:16, 31.02s/it, v_num=a0_1, total_loss_train=494, kl_local_train=162, metric_mi|age_categorical_train=0.386]"
     ]
    },
    {
     "name": "stdout",
     "output_type": "stream",
     "text": [
      "\r\n",
      "Epoch 117/600:  20%|█▉        | 117/600 [1:05:29<4:06:56, 30.68s/it, v_num=a0_1, total_loss_train=494, kl_local_train=162, metric_mi|age_categorical_train=0.386]"
     ]
    },
    {
     "name": "stdout",
     "output_type": "stream",
     "text": [
      "\r\n",
      "Epoch 117/600:  20%|█▉        | 117/600 [1:05:29<4:06:56, 30.68s/it, v_num=a0_1, total_loss_train=494, kl_local_train=162, metric_mi|age_categorical_train=0.386]"
     ]
    },
    {
     "name": "stdout",
     "output_type": "stream",
     "text": [
      "\r\n",
      "Epoch 118/600:  20%|█▉        | 117/600 [1:05:29<4:06:56, 30.68s/it, v_num=a0_1, total_loss_train=494, kl_local_train=162, metric_mi|age_categorical_train=0.386]"
     ]
    },
    {
     "name": "stdout",
     "output_type": "stream",
     "text": [
      "\r\n",
      "Epoch 118/600:  20%|█▉        | 118/600 [1:05:58<4:03:40, 30.33s/it, v_num=a0_1, total_loss_train=494, kl_local_train=162, metric_mi|age_categorical_train=0.386]"
     ]
    },
    {
     "name": "stdout",
     "output_type": "stream",
     "text": [
      "\r\n",
      "Epoch 118/600:  20%|█▉        | 118/600 [1:05:58<4:03:40, 30.33s/it, v_num=a0_1, total_loss_train=494, kl_local_train=161, metric_mi|age_categorical_train=0.386]"
     ]
    },
    {
     "name": "stdout",
     "output_type": "stream",
     "text": [
      "\r\n",
      "Epoch 119/600:  20%|█▉        | 118/600 [1:05:58<4:03:40, 30.33s/it, v_num=a0_1, total_loss_train=494, kl_local_train=161, metric_mi|age_categorical_train=0.386]"
     ]
    },
    {
     "name": "stdout",
     "output_type": "stream",
     "text": [
      "\r\n",
      "Epoch 119/600:  20%|█▉        | 119/600 [1:06:28<4:00:56, 30.06s/it, v_num=a0_1, total_loss_train=494, kl_local_train=161, metric_mi|age_categorical_train=0.386]"
     ]
    },
    {
     "name": "stdout",
     "output_type": "stream",
     "text": [
      "\r\n",
      "Epoch 119/600:  20%|█▉        | 119/600 [1:06:28<4:00:56, 30.06s/it, v_num=a0_1, total_loss_train=494, kl_local_train=160, metric_mi|age_categorical_train=0.386]"
     ]
    },
    {
     "name": "stdout",
     "output_type": "stream",
     "text": [
      "\r\n",
      "Epoch 120/600:  20%|█▉        | 119/600 [1:06:28<4:00:56, 30.06s/it, v_num=a0_1, total_loss_train=494, kl_local_train=160, metric_mi|age_categorical_train=0.386]"
     ]
    },
    {
     "name": "stdout",
     "output_type": "stream",
     "text": [
      "\r\n",
      "Epoch 120/600:  20%|██        | 120/600 [1:06:58<4:00:55, 30.11s/it, v_num=a0_1, total_loss_train=494, kl_local_train=160, metric_mi|age_categorical_train=0.386]"
     ]
    },
    {
     "name": "stdout",
     "output_type": "stream",
     "text": [
      "\r\n",
      "Epoch 120/600:  20%|██        | 120/600 [1:06:58<4:00:55, 30.11s/it, v_num=a0_1, total_loss_train=494, kl_local_train=161, metric_mi|age_categorical_train=0.386]"
     ]
    },
    {
     "name": "stdout",
     "output_type": "stream",
     "text": [
      "\r\n",
      "Epoch 121/600:  20%|██        | 120/600 [1:06:59<4:00:55, 30.11s/it, v_num=a0_1, total_loss_train=494, kl_local_train=161, metric_mi|age_categorical_train=0.386]"
     ]
    },
    {
     "name": "stdout",
     "output_type": "stream",
     "text": [
      "\r\n",
      "Epoch 121/600:  20%|██        | 121/600 [1:07:27<3:58:28, 29.87s/it, v_num=a0_1, total_loss_train=494, kl_local_train=161, metric_mi|age_categorical_train=0.386]"
     ]
    },
    {
     "name": "stdout",
     "output_type": "stream",
     "text": [
      "\r\n",
      "Epoch 121/600:  20%|██        | 121/600 [1:07:27<3:58:28, 29.87s/it, v_num=a0_1, total_loss_train=494, kl_local_train=160, metric_mi|age_categorical_train=0.372]"
     ]
    },
    {
     "name": "stdout",
     "output_type": "stream",
     "text": [
      "\r\n",
      "Epoch 122/600:  20%|██        | 121/600 [1:07:27<3:58:28, 29.87s/it, v_num=a0_1, total_loss_train=494, kl_local_train=160, metric_mi|age_categorical_train=0.372]"
     ]
    },
    {
     "name": "stdout",
     "output_type": "stream",
     "text": [
      "\r\n",
      "Epoch 122/600:  20%|██        | 122/600 [1:07:56<3:54:57, 29.49s/it, v_num=a0_1, total_loss_train=494, kl_local_train=160, metric_mi|age_categorical_train=0.372]"
     ]
    },
    {
     "name": "stdout",
     "output_type": "stream",
     "text": [
      "\r\n",
      "Epoch 122/600:  20%|██        | 122/600 [1:07:56<3:54:57, 29.49s/it, v_num=a0_1, total_loss_train=494, kl_local_train=159, metric_mi|age_categorical_train=0.372]"
     ]
    },
    {
     "name": "stdout",
     "output_type": "stream",
     "text": [
      "\r\n",
      "Epoch 123/600:  20%|██        | 122/600 [1:07:56<3:54:57, 29.49s/it, v_num=a0_1, total_loss_train=494, kl_local_train=159, metric_mi|age_categorical_train=0.372]"
     ]
    },
    {
     "name": "stdout",
     "output_type": "stream",
     "text": [
      "\r\n",
      "Epoch 123/600:  20%|██        | 123/600 [1:08:25<3:52:36, 29.26s/it, v_num=a0_1, total_loss_train=494, kl_local_train=159, metric_mi|age_categorical_train=0.372]"
     ]
    },
    {
     "name": "stdout",
     "output_type": "stream",
     "text": [
      "\r\n",
      "Epoch 123/600:  20%|██        | 123/600 [1:08:25<3:52:36, 29.26s/it, v_num=a0_1, total_loss_train=495, kl_local_train=158, metric_mi|age_categorical_train=0.372]"
     ]
    },
    {
     "name": "stdout",
     "output_type": "stream",
     "text": [
      "\r\n",
      "Epoch 124/600:  20%|██        | 123/600 [1:08:25<3:52:36, 29.26s/it, v_num=a0_1, total_loss_train=495, kl_local_train=158, metric_mi|age_categorical_train=0.372]"
     ]
    },
    {
     "name": "stdout",
     "output_type": "stream",
     "text": [
      "\r\n",
      "Epoch 124/600:  21%|██        | 124/600 [1:08:53<3:50:35, 29.07s/it, v_num=a0_1, total_loss_train=495, kl_local_train=158, metric_mi|age_categorical_train=0.372]"
     ]
    },
    {
     "name": "stdout",
     "output_type": "stream",
     "text": [
      "\r\n",
      "Epoch 124/600:  21%|██        | 124/600 [1:08:53<3:50:35, 29.07s/it, v_num=a0_1, total_loss_train=495, kl_local_train=157, metric_mi|age_categorical_train=0.372]"
     ]
    },
    {
     "name": "stdout",
     "output_type": "stream",
     "text": [
      "\r\n",
      "Epoch 125/600:  21%|██        | 124/600 [1:08:53<3:50:35, 29.07s/it, v_num=a0_1, total_loss_train=495, kl_local_train=157, metric_mi|age_categorical_train=0.372]"
     ]
    },
    {
     "name": "stdout",
     "output_type": "stream",
     "text": [
      "\r\n",
      "Epoch 125/600:  21%|██        | 125/600 [1:09:23<3:51:13, 29.21s/it, v_num=a0_1, total_loss_train=495, kl_local_train=157, metric_mi|age_categorical_train=0.372]"
     ]
    },
    {
     "name": "stdout",
     "output_type": "stream",
     "text": [
      "\r\n",
      "Epoch 125/600:  21%|██        | 125/600 [1:09:23<3:51:13, 29.21s/it, v_num=a0_1, total_loss_train=495, kl_local_train=157, metric_mi|age_categorical_train=0.372]"
     ]
    },
    {
     "name": "stdout",
     "output_type": "stream",
     "text": [
      "\r\n",
      "Epoch 126/600:  21%|██        | 125/600 [1:09:23<3:51:13, 29.21s/it, v_num=a0_1, total_loss_train=495, kl_local_train=157, metric_mi|age_categorical_train=0.372]"
     ]
    },
    {
     "name": "stdout",
     "output_type": "stream",
     "text": [
      "\r\n",
      "Epoch 126/600:  21%|██        | 126/600 [1:09:52<3:50:32, 29.18s/it, v_num=a0_1, total_loss_train=495, kl_local_train=157, metric_mi|age_categorical_train=0.372]"
     ]
    },
    {
     "name": "stdout",
     "output_type": "stream",
     "text": [
      "\r\n",
      "Epoch 126/600:  21%|██        | 126/600 [1:09:52<3:50:32, 29.18s/it, v_num=a0_1, total_loss_train=495, kl_local_train=157, metric_mi|age_categorical_train=0.384]"
     ]
    },
    {
     "name": "stdout",
     "output_type": "stream",
     "text": [
      "\r\n",
      "Epoch 127/600:  21%|██        | 126/600 [1:09:52<3:50:32, 29.18s/it, v_num=a0_1, total_loss_train=495, kl_local_train=157, metric_mi|age_categorical_train=0.384]"
     ]
    },
    {
     "name": "stdout",
     "output_type": "stream",
     "text": [
      "\r\n",
      "Epoch 127/600:  21%|██        | 127/600 [1:10:21<3:48:32, 28.99s/it, v_num=a0_1, total_loss_train=495, kl_local_train=157, metric_mi|age_categorical_train=0.384]"
     ]
    },
    {
     "name": "stdout",
     "output_type": "stream",
     "text": [
      "\r\n",
      "Epoch 127/600:  21%|██        | 127/600 [1:10:21<3:48:32, 28.99s/it, v_num=a0_1, total_loss_train=495, kl_local_train=156, metric_mi|age_categorical_train=0.384]"
     ]
    },
    {
     "name": "stdout",
     "output_type": "stream",
     "text": [
      "\r\n",
      "Epoch 128/600:  21%|██        | 127/600 [1:10:21<3:48:32, 28.99s/it, v_num=a0_1, total_loss_train=495, kl_local_train=156, metric_mi|age_categorical_train=0.384]"
     ]
    },
    {
     "name": "stdout",
     "output_type": "stream",
     "text": [
      "\r\n",
      "Epoch 128/600:  21%|██▏       | 128/600 [1:10:49<3:46:52, 28.84s/it, v_num=a0_1, total_loss_train=495, kl_local_train=156, metric_mi|age_categorical_train=0.384]"
     ]
    },
    {
     "name": "stdout",
     "output_type": "stream",
     "text": [
      "\r\n",
      "Epoch 128/600:  21%|██▏       | 128/600 [1:10:49<3:46:52, 28.84s/it, v_num=a0_1, total_loss_train=495, kl_local_train=156, metric_mi|age_categorical_train=0.384]"
     ]
    },
    {
     "name": "stdout",
     "output_type": "stream",
     "text": [
      "\r\n",
      "Epoch 129/600:  21%|██▏       | 128/600 [1:10:49<3:46:52, 28.84s/it, v_num=a0_1, total_loss_train=495, kl_local_train=156, metric_mi|age_categorical_train=0.384]"
     ]
    },
    {
     "name": "stdout",
     "output_type": "stream",
     "text": [
      "\r\n",
      "Epoch 129/600:  22%|██▏       | 129/600 [1:11:17<3:45:34, 28.74s/it, v_num=a0_1, total_loss_train=495, kl_local_train=156, metric_mi|age_categorical_train=0.384]"
     ]
    },
    {
     "name": "stdout",
     "output_type": "stream",
     "text": [
      "\r\n",
      "Epoch 129/600:  22%|██▏       | 129/600 [1:11:18<3:45:34, 28.74s/it, v_num=a0_1, total_loss_train=496, kl_local_train=155, metric_mi|age_categorical_train=0.384]"
     ]
    },
    {
     "name": "stdout",
     "output_type": "stream",
     "text": [
      "\r\n",
      "Epoch 130/600:  22%|██▏       | 129/600 [1:11:18<3:45:34, 28.74s/it, v_num=a0_1, total_loss_train=496, kl_local_train=155, metric_mi|age_categorical_train=0.384]"
     ]
    },
    {
     "name": "stdout",
     "output_type": "stream",
     "text": [
      "\r\n",
      "Epoch 130/600:  22%|██▏       | 130/600 [1:11:49<3:50:30, 29.43s/it, v_num=a0_1, total_loss_train=496, kl_local_train=155, metric_mi|age_categorical_train=0.384]"
     ]
    },
    {
     "name": "stdout",
     "output_type": "stream",
     "text": [
      "\r\n",
      "Epoch 130/600:  22%|██▏       | 130/600 [1:11:49<3:50:30, 29.43s/it, v_num=a0_1, total_loss_train=496, kl_local_train=155, metric_mi|age_categorical_train=0.384]"
     ]
    },
    {
     "name": "stdout",
     "output_type": "stream",
     "text": [
      "\r\n",
      "Epoch 131/600:  22%|██▏       | 130/600 [1:11:49<3:50:30, 29.43s/it, v_num=a0_1, total_loss_train=496, kl_local_train=155, metric_mi|age_categorical_train=0.384]"
     ]
    },
    {
     "name": "stdout",
     "output_type": "stream",
     "text": [
      "\r\n",
      "Epoch 131/600:  22%|██▏       | 131/600 [1:12:18<3:49:47, 29.40s/it, v_num=a0_1, total_loss_train=496, kl_local_train=155, metric_mi|age_categorical_train=0.384]"
     ]
    },
    {
     "name": "stdout",
     "output_type": "stream",
     "text": [
      "\r\n",
      "Epoch 131/600:  22%|██▏       | 131/600 [1:12:18<3:49:47, 29.40s/it, v_num=a0_1, total_loss_train=496, kl_local_train=154, metric_mi|age_categorical_train=0.374]"
     ]
    },
    {
     "name": "stdout",
     "output_type": "stream",
     "text": [
      "\r\n",
      "Epoch 132/600:  22%|██▏       | 131/600 [1:12:18<3:49:47, 29.40s/it, v_num=a0_1, total_loss_train=496, kl_local_train=154, metric_mi|age_categorical_train=0.374]"
     ]
    },
    {
     "name": "stdout",
     "output_type": "stream",
     "text": [
      "\r\n",
      "Epoch 132/600:  22%|██▏       | 132/600 [1:12:47<3:48:16, 29.27s/it, v_num=a0_1, total_loss_train=496, kl_local_train=154, metric_mi|age_categorical_train=0.374]"
     ]
    },
    {
     "name": "stdout",
     "output_type": "stream",
     "text": [
      "\r\n",
      "Epoch 132/600:  22%|██▏       | 132/600 [1:12:47<3:48:16, 29.27s/it, v_num=a0_1, total_loss_train=496, kl_local_train=154, metric_mi|age_categorical_train=0.374]"
     ]
    },
    {
     "name": "stdout",
     "output_type": "stream",
     "text": [
      "\r\n",
      "Epoch 133/600:  22%|██▏       | 132/600 [1:12:47<3:48:16, 29.27s/it, v_num=a0_1, total_loss_train=496, kl_local_train=154, metric_mi|age_categorical_train=0.374]"
     ]
    },
    {
     "name": "stdout",
     "output_type": "stream",
     "text": [
      "\r\n",
      "Epoch 133/600:  22%|██▏       | 133/600 [1:13:16<3:47:25, 29.22s/it, v_num=a0_1, total_loss_train=496, kl_local_train=154, metric_mi|age_categorical_train=0.374]"
     ]
    },
    {
     "name": "stdout",
     "output_type": "stream",
     "text": [
      "\r\n",
      "Epoch 133/600:  22%|██▏       | 133/600 [1:13:16<3:47:25, 29.22s/it, v_num=a0_1, total_loss_train=496, kl_local_train=154, metric_mi|age_categorical_train=0.374]"
     ]
    },
    {
     "name": "stdout",
     "output_type": "stream",
     "text": [
      "\r\n",
      "Epoch 134/600:  22%|██▏       | 133/600 [1:13:16<3:47:25, 29.22s/it, v_num=a0_1, total_loss_train=496, kl_local_train=154, metric_mi|age_categorical_train=0.374]"
     ]
    },
    {
     "name": "stdout",
     "output_type": "stream",
     "text": [
      "\r\n",
      "Epoch 134/600:  22%|██▏       | 134/600 [1:13:45<3:45:51, 29.08s/it, v_num=a0_1, total_loss_train=496, kl_local_train=154, metric_mi|age_categorical_train=0.374]"
     ]
    },
    {
     "name": "stdout",
     "output_type": "stream",
     "text": [
      "\r\n",
      "Epoch 134/600:  22%|██▏       | 134/600 [1:13:45<3:45:51, 29.08s/it, v_num=a0_1, total_loss_train=496, kl_local_train=154, metric_mi|age_categorical_train=0.374]"
     ]
    },
    {
     "name": "stdout",
     "output_type": "stream",
     "text": [
      "\r\n",
      "Epoch 135/600:  22%|██▏       | 134/600 [1:13:45<3:45:51, 29.08s/it, v_num=a0_1, total_loss_train=496, kl_local_train=154, metric_mi|age_categorical_train=0.374]"
     ]
    },
    {
     "name": "stdout",
     "output_type": "stream",
     "text": [
      "\r\n",
      "Epoch 135/600:  22%|██▎       | 135/600 [1:14:14<3:46:48, 29.27s/it, v_num=a0_1, total_loss_train=496, kl_local_train=154, metric_mi|age_categorical_train=0.374]"
     ]
    },
    {
     "name": "stdout",
     "output_type": "stream",
     "text": [
      "\r\n",
      "Epoch 135/600:  22%|██▎       | 135/600 [1:14:14<3:46:48, 29.27s/it, v_num=a0_1, total_loss_train=496, kl_local_train=154, metric_mi|age_categorical_train=0.374]"
     ]
    },
    {
     "name": "stdout",
     "output_type": "stream",
     "text": [
      "\r\n",
      "Epoch 136/600:  22%|██▎       | 135/600 [1:14:15<3:46:48, 29.27s/it, v_num=a0_1, total_loss_train=496, kl_local_train=154, metric_mi|age_categorical_train=0.374]"
     ]
    },
    {
     "name": "stdout",
     "output_type": "stream",
     "text": [
      "\r\n",
      "Epoch 136/600:  23%|██▎       | 136/600 [1:14:44<3:46:02, 29.23s/it, v_num=a0_1, total_loss_train=496, kl_local_train=154, metric_mi|age_categorical_train=0.374]"
     ]
    },
    {
     "name": "stdout",
     "output_type": "stream",
     "text": [
      "\r\n",
      "Epoch 136/600:  23%|██▎       | 136/600 [1:14:44<3:46:02, 29.23s/it, v_num=a0_1, total_loss_train=496, kl_local_train=151, metric_mi|age_categorical_train=0.37] "
     ]
    },
    {
     "name": "stdout",
     "output_type": "stream",
     "text": [
      "\r\n",
      "Epoch 137/600:  23%|██▎       | 136/600 [1:14:44<3:46:02, 29.23s/it, v_num=a0_1, total_loss_train=496, kl_local_train=151, metric_mi|age_categorical_train=0.37]"
     ]
    },
    {
     "name": "stdout",
     "output_type": "stream",
     "text": [
      "\r\n",
      "Epoch 137/600:  23%|██▎       | 137/600 [1:15:12<3:43:23, 28.95s/it, v_num=a0_1, total_loss_train=496, kl_local_train=151, metric_mi|age_categorical_train=0.37]"
     ]
    },
    {
     "name": "stdout",
     "output_type": "stream",
     "text": [
      "\r\n",
      "Epoch 137/600:  23%|██▎       | 137/600 [1:15:12<3:43:23, 28.95s/it, v_num=a0_1, total_loss_train=496, kl_local_train=150, metric_mi|age_categorical_train=0.37]"
     ]
    },
    {
     "name": "stdout",
     "output_type": "stream",
     "text": [
      "\r\n",
      "Epoch 138/600:  23%|██▎       | 137/600 [1:15:12<3:43:23, 28.95s/it, v_num=a0_1, total_loss_train=496, kl_local_train=150, metric_mi|age_categorical_train=0.37]"
     ]
    },
    {
     "name": "stdout",
     "output_type": "stream",
     "text": [
      "\r\n",
      "Epoch 138/600:  23%|██▎       | 138/600 [1:15:40<3:41:15, 28.73s/it, v_num=a0_1, total_loss_train=496, kl_local_train=150, metric_mi|age_categorical_train=0.37]"
     ]
    },
    {
     "name": "stdout",
     "output_type": "stream",
     "text": [
      "\r\n",
      "Epoch 138/600:  23%|██▎       | 138/600 [1:15:40<3:41:15, 28.73s/it, v_num=a0_1, total_loss_train=497, kl_local_train=151, metric_mi|age_categorical_train=0.37]"
     ]
    },
    {
     "name": "stdout",
     "output_type": "stream",
     "text": [
      "\r\n",
      "Epoch 139/600:  23%|██▎       | 138/600 [1:15:40<3:41:15, 28.73s/it, v_num=a0_1, total_loss_train=497, kl_local_train=151, metric_mi|age_categorical_train=0.37]"
     ]
    },
    {
     "name": "stdout",
     "output_type": "stream",
     "text": [
      "\r\n",
      "Epoch 139/600:  23%|██▎       | 139/600 [1:16:08<3:39:51, 28.61s/it, v_num=a0_1, total_loss_train=497, kl_local_train=151, metric_mi|age_categorical_train=0.37]"
     ]
    },
    {
     "name": "stdout",
     "output_type": "stream",
     "text": [
      "\r\n",
      "Epoch 139/600:  23%|██▎       | 139/600 [1:16:08<3:39:51, 28.61s/it, v_num=a0_1, total_loss_train=496, kl_local_train=151, metric_mi|age_categorical_train=0.37]"
     ]
    },
    {
     "name": "stdout",
     "output_type": "stream",
     "text": [
      "\r\n",
      "Epoch 140/600:  23%|██▎       | 139/600 [1:16:08<3:39:51, 28.61s/it, v_num=a0_1, total_loss_train=496, kl_local_train=151, metric_mi|age_categorical_train=0.37]"
     ]
    },
    {
     "name": "stdout",
     "output_type": "stream",
     "text": [
      "\r\n",
      "Epoch 140/600:  23%|██▎       | 140/600 [1:16:38<3:41:38, 28.91s/it, v_num=a0_1, total_loss_train=496, kl_local_train=151, metric_mi|age_categorical_train=0.37]"
     ]
    },
    {
     "name": "stdout",
     "output_type": "stream",
     "text": [
      "\r\n",
      "Epoch 140/600:  23%|██▎       | 140/600 [1:16:38<3:41:38, 28.91s/it, v_num=a0_1, total_loss_train=496, kl_local_train=150, metric_mi|age_categorical_train=0.37]"
     ]
    },
    {
     "name": "stdout",
     "output_type": "stream",
     "text": [
      "\r\n",
      "Epoch 141/600:  23%|██▎       | 140/600 [1:16:39<3:41:38, 28.91s/it, v_num=a0_1, total_loss_train=496, kl_local_train=150, metric_mi|age_categorical_train=0.37]"
     ]
    },
    {
     "name": "stdout",
     "output_type": "stream",
     "text": [
      "\r\n",
      "Epoch 141/600:  24%|██▎       | 141/600 [1:17:07<3:41:04, 28.90s/it, v_num=a0_1, total_loss_train=496, kl_local_train=150, metric_mi|age_categorical_train=0.37]"
     ]
    },
    {
     "name": "stdout",
     "output_type": "stream",
     "text": [
      "\r\n",
      "Epoch 141/600:  24%|██▎       | 141/600 [1:17:07<3:41:04, 28.90s/it, v_num=a0_1, total_loss_train=497, kl_local_train=148, metric_mi|age_categorical_train=0.381]"
     ]
    },
    {
     "name": "stdout",
     "output_type": "stream",
     "text": [
      "\r\n",
      "Epoch 142/600:  24%|██▎       | 141/600 [1:17:07<3:41:04, 28.90s/it, v_num=a0_1, total_loss_train=497, kl_local_train=148, metric_mi|age_categorical_train=0.381]"
     ]
    },
    {
     "name": "stdout",
     "output_type": "stream",
     "text": [
      "\r\n",
      "Epoch 142/600:  24%|██▎       | 142/600 [1:17:35<3:39:26, 28.75s/it, v_num=a0_1, total_loss_train=497, kl_local_train=148, metric_mi|age_categorical_train=0.381]"
     ]
    },
    {
     "name": "stdout",
     "output_type": "stream",
     "text": [
      "\r\n",
      "Epoch 142/600:  24%|██▎       | 142/600 [1:17:35<3:39:26, 28.75s/it, v_num=a0_1, total_loss_train=497, kl_local_train=149, metric_mi|age_categorical_train=0.381]"
     ]
    },
    {
     "name": "stdout",
     "output_type": "stream",
     "text": [
      "\r\n",
      "Epoch 143/600:  24%|██▎       | 142/600 [1:17:35<3:39:26, 28.75s/it, v_num=a0_1, total_loss_train=497, kl_local_train=149, metric_mi|age_categorical_train=0.381]"
     ]
    },
    {
     "name": "stdout",
     "output_type": "stream",
     "text": [
      "\r\n",
      "Epoch 143/600:  24%|██▍       | 143/600 [1:18:04<3:38:01, 28.62s/it, v_num=a0_1, total_loss_train=497, kl_local_train=149, metric_mi|age_categorical_train=0.381]"
     ]
    },
    {
     "name": "stdout",
     "output_type": "stream",
     "text": [
      "\r\n",
      "Epoch 143/600:  24%|██▍       | 143/600 [1:18:04<3:38:01, 28.62s/it, v_num=a0_1, total_loss_train=497, kl_local_train=148, metric_mi|age_categorical_train=0.381]"
     ]
    },
    {
     "name": "stdout",
     "output_type": "stream",
     "text": [
      "\r\n",
      "Epoch 144/600:  24%|██▍       | 143/600 [1:18:04<3:38:01, 28.62s/it, v_num=a0_1, total_loss_train=497, kl_local_train=148, metric_mi|age_categorical_train=0.381]"
     ]
    },
    {
     "name": "stdout",
     "output_type": "stream",
     "text": [
      "\r\n",
      "Epoch 144/600:  24%|██▍       | 144/600 [1:18:32<3:36:46, 28.52s/it, v_num=a0_1, total_loss_train=497, kl_local_train=148, metric_mi|age_categorical_train=0.381]"
     ]
    },
    {
     "name": "stdout",
     "output_type": "stream",
     "text": [
      "\r\n",
      "Epoch 144/600:  24%|██▍       | 144/600 [1:18:32<3:36:46, 28.52s/it, v_num=a0_1, total_loss_train=497, kl_local_train=147, metric_mi|age_categorical_train=0.381]"
     ]
    },
    {
     "name": "stdout",
     "output_type": "stream",
     "text": [
      "\r\n",
      "Epoch 145/600:  24%|██▍       | 144/600 [1:18:32<3:36:46, 28.52s/it, v_num=a0_1, total_loss_train=497, kl_local_train=147, metric_mi|age_categorical_train=0.381]"
     ]
    },
    {
     "name": "stdout",
     "output_type": "stream",
     "text": [
      "\r\n",
      "Epoch 145/600:  24%|██▍       | 145/600 [1:19:01<3:37:49, 28.72s/it, v_num=a0_1, total_loss_train=497, kl_local_train=147, metric_mi|age_categorical_train=0.381]"
     ]
    },
    {
     "name": "stdout",
     "output_type": "stream",
     "text": [
      "\r\n",
      "Epoch 145/600:  24%|██▍       | 145/600 [1:19:01<3:37:49, 28.72s/it, v_num=a0_1, total_loss_train=497, kl_local_train=147, metric_mi|age_categorical_train=0.381]"
     ]
    },
    {
     "name": "stdout",
     "output_type": "stream",
     "text": [
      "\r\n",
      "Epoch 146/600:  24%|██▍       | 145/600 [1:19:02<3:37:49, 28.72s/it, v_num=a0_1, total_loss_train=497, kl_local_train=147, metric_mi|age_categorical_train=0.381]"
     ]
    },
    {
     "name": "stdout",
     "output_type": "stream",
     "text": [
      "\r\n",
      "Epoch 146/600:  24%|██▍       | 146/600 [1:19:30<3:37:36, 28.76s/it, v_num=a0_1, total_loss_train=497, kl_local_train=147, metric_mi|age_categorical_train=0.381]"
     ]
    },
    {
     "name": "stdout",
     "output_type": "stream",
     "text": [
      "\r\n",
      "Epoch 146/600:  24%|██▍       | 146/600 [1:19:30<3:37:36, 28.76s/it, v_num=a0_1, total_loss_train=497, kl_local_train=146, metric_mi|age_categorical_train=0.384]"
     ]
    },
    {
     "name": "stdout",
     "output_type": "stream",
     "text": [
      "\r\n",
      "Epoch 147/600:  24%|██▍       | 146/600 [1:19:30<3:37:36, 28.76s/it, v_num=a0_1, total_loss_train=497, kl_local_train=146, metric_mi|age_categorical_train=0.384]"
     ]
    },
    {
     "name": "stdout",
     "output_type": "stream",
     "text": [
      "\r\n",
      "Epoch 147/600:  24%|██▍       | 147/600 [1:19:58<3:36:10, 28.63s/it, v_num=a0_1, total_loss_train=497, kl_local_train=146, metric_mi|age_categorical_train=0.384]"
     ]
    },
    {
     "name": "stdout",
     "output_type": "stream",
     "text": [
      "\r\n",
      "Epoch 147/600:  24%|██▍       | 147/600 [1:19:58<3:36:10, 28.63s/it, v_num=a0_1, total_loss_train=498, kl_local_train=147, metric_mi|age_categorical_train=0.384]"
     ]
    },
    {
     "name": "stdout",
     "output_type": "stream",
     "text": [
      "\r\n",
      "Epoch 148/600:  24%|██▍       | 147/600 [1:19:58<3:36:10, 28.63s/it, v_num=a0_1, total_loss_train=498, kl_local_train=147, metric_mi|age_categorical_train=0.384]"
     ]
    },
    {
     "name": "stdout",
     "output_type": "stream",
     "text": [
      "\r\n",
      "Epoch 148/600:  25%|██▍       | 148/600 [1:20:27<3:35:05, 28.55s/it, v_num=a0_1, total_loss_train=498, kl_local_train=147, metric_mi|age_categorical_train=0.384]"
     ]
    },
    {
     "name": "stdout",
     "output_type": "stream",
     "text": [
      "\r\n",
      "Epoch 148/600:  25%|██▍       | 148/600 [1:20:27<3:35:05, 28.55s/it, v_num=a0_1, total_loss_train=498, kl_local_train=147, metric_mi|age_categorical_train=0.384]"
     ]
    },
    {
     "name": "stdout",
     "output_type": "stream",
     "text": [
      "\r\n",
      "Epoch 149/600:  25%|██▍       | 148/600 [1:20:27<3:35:05, 28.55s/it, v_num=a0_1, total_loss_train=498, kl_local_train=147, metric_mi|age_categorical_train=0.384]"
     ]
    },
    {
     "name": "stdout",
     "output_type": "stream",
     "text": [
      "\r\n",
      "Epoch 149/600:  25%|██▍       | 149/600 [1:20:55<3:34:04, 28.48s/it, v_num=a0_1, total_loss_train=498, kl_local_train=147, metric_mi|age_categorical_train=0.384]"
     ]
    },
    {
     "name": "stdout",
     "output_type": "stream",
     "text": [
      "\r\n",
      "Epoch 149/600:  25%|██▍       | 149/600 [1:20:55<3:34:04, 28.48s/it, v_num=a0_1, total_loss_train=498, kl_local_train=146, metric_mi|age_categorical_train=0.384]"
     ]
    },
    {
     "name": "stdout",
     "output_type": "stream",
     "text": [
      "\r\n",
      "Epoch 150/600:  25%|██▍       | 149/600 [1:20:55<3:34:04, 28.48s/it, v_num=a0_1, total_loss_train=498, kl_local_train=146, metric_mi|age_categorical_train=0.384]"
     ]
    },
    {
     "name": "stdout",
     "output_type": "stream",
     "text": [
      "\r\n",
      "Epoch 150/600:  25%|██▌       | 150/600 [1:21:24<3:35:30, 28.73s/it, v_num=a0_1, total_loss_train=498, kl_local_train=146, metric_mi|age_categorical_train=0.384]"
     ]
    },
    {
     "name": "stdout",
     "output_type": "stream",
     "text": [
      "\r\n",
      "Epoch 150/600:  25%|██▌       | 150/600 [1:21:24<3:35:30, 28.73s/it, v_num=a0_1, total_loss_train=498, kl_local_train=146, metric_mi|age_categorical_train=0.384]"
     ]
    },
    {
     "name": "stdout",
     "output_type": "stream",
     "text": [
      "\r\n",
      "Epoch 151/600:  25%|██▌       | 150/600 [1:21:25<3:35:30, 28.73s/it, v_num=a0_1, total_loss_train=498, kl_local_train=146, metric_mi|age_categorical_train=0.384]"
     ]
    },
    {
     "name": "stdout",
     "output_type": "stream",
     "text": [
      "\r\n",
      "Epoch 151/600:  25%|██▌       | 151/600 [1:21:53<3:35:22, 28.78s/it, v_num=a0_1, total_loss_train=498, kl_local_train=146, metric_mi|age_categorical_train=0.384]"
     ]
    },
    {
     "name": "stdout",
     "output_type": "stream",
     "text": [
      "\r\n",
      "Epoch 151/600:  25%|██▌       | 151/600 [1:21:53<3:35:22, 28.78s/it, v_num=a0_1, total_loss_train=498, kl_local_train=146, metric_mi|age_categorical_train=0.396]"
     ]
    },
    {
     "name": "stdout",
     "output_type": "stream",
     "text": [
      "\r\n",
      "Epoch 152/600:  25%|██▌       | 151/600 [1:21:53<3:35:22, 28.78s/it, v_num=a0_1, total_loss_train=498, kl_local_train=146, metric_mi|age_categorical_train=0.396]"
     ]
    },
    {
     "name": "stdout",
     "output_type": "stream",
     "text": [
      "\r\n",
      "Epoch 152/600:  25%|██▌       | 152/600 [1:22:21<3:33:41, 28.62s/it, v_num=a0_1, total_loss_train=498, kl_local_train=146, metric_mi|age_categorical_train=0.396]"
     ]
    },
    {
     "name": "stdout",
     "output_type": "stream",
     "text": [
      "\r\n",
      "Epoch 152/600:  25%|██▌       | 152/600 [1:22:21<3:33:41, 28.62s/it, v_num=a0_1, total_loss_train=498, kl_local_train=144, metric_mi|age_categorical_train=0.396]"
     ]
    },
    {
     "name": "stdout",
     "output_type": "stream",
     "text": [
      "\r\n",
      "Epoch 153/600:  25%|██▌       | 152/600 [1:22:21<3:33:41, 28.62s/it, v_num=a0_1, total_loss_train=498, kl_local_train=144, metric_mi|age_categorical_train=0.396]"
     ]
    },
    {
     "name": "stdout",
     "output_type": "stream",
     "text": [
      "\r\n",
      "Epoch 153/600:  26%|██▌       | 153/600 [1:22:50<3:32:25, 28.51s/it, v_num=a0_1, total_loss_train=498, kl_local_train=144, metric_mi|age_categorical_train=0.396]"
     ]
    },
    {
     "name": "stdout",
     "output_type": "stream",
     "text": [
      "\r\n",
      "Epoch 153/600:  26%|██▌       | 153/600 [1:22:50<3:32:25, 28.51s/it, v_num=a0_1, total_loss_train=499, kl_local_train=144, metric_mi|age_categorical_train=0.396]"
     ]
    },
    {
     "name": "stdout",
     "output_type": "stream",
     "text": [
      "\r\n",
      "Epoch 154/600:  26%|██▌       | 153/600 [1:22:50<3:32:25, 28.51s/it, v_num=a0_1, total_loss_train=499, kl_local_train=144, metric_mi|age_categorical_train=0.396]"
     ]
    },
    {
     "name": "stdout",
     "output_type": "stream",
     "text": [
      "\r\n",
      "Epoch 154/600:  26%|██▌       | 154/600 [1:23:18<3:31:40, 28.48s/it, v_num=a0_1, total_loss_train=499, kl_local_train=144, metric_mi|age_categorical_train=0.396]"
     ]
    },
    {
     "name": "stdout",
     "output_type": "stream",
     "text": [
      "\r\n",
      "Epoch 154/600:  26%|██▌       | 154/600 [1:23:18<3:31:40, 28.48s/it, v_num=a0_1, total_loss_train=499, kl_local_train=145, metric_mi|age_categorical_train=0.396]"
     ]
    },
    {
     "name": "stdout",
     "output_type": "stream",
     "text": [
      "\r\n",
      "Epoch 155/600:  26%|██▌       | 154/600 [1:23:18<3:31:40, 28.48s/it, v_num=a0_1, total_loss_train=499, kl_local_train=145, metric_mi|age_categorical_train=0.396]"
     ]
    },
    {
     "name": "stdout",
     "output_type": "stream",
     "text": [
      "\r\n",
      "Epoch 155/600:  26%|██▌       | 155/600 [1:23:48<3:34:00, 28.86s/it, v_num=a0_1, total_loss_train=499, kl_local_train=145, metric_mi|age_categorical_train=0.396]"
     ]
    },
    {
     "name": "stdout",
     "output_type": "stream",
     "text": [
      "\r\n",
      "Epoch 155/600:  26%|██▌       | 155/600 [1:23:48<3:34:00, 28.86s/it, v_num=a0_1, total_loss_train=499, kl_local_train=144, metric_mi|age_categorical_train=0.396]"
     ]
    },
    {
     "name": "stdout",
     "output_type": "stream",
     "text": [
      "\r\n",
      "Epoch 156/600:  26%|██▌       | 155/600 [1:23:48<3:34:00, 28.86s/it, v_num=a0_1, total_loss_train=499, kl_local_train=144, metric_mi|age_categorical_train=0.396]"
     ]
    },
    {
     "name": "stdout",
     "output_type": "stream",
     "text": [
      "\r\n",
      "Epoch 156/600:  26%|██▌       | 156/600 [1:24:17<3:33:23, 28.84s/it, v_num=a0_1, total_loss_train=499, kl_local_train=144, metric_mi|age_categorical_train=0.396]"
     ]
    },
    {
     "name": "stdout",
     "output_type": "stream",
     "text": [
      "\r\n",
      "Epoch 156/600:  26%|██▌       | 156/600 [1:24:17<3:33:23, 28.84s/it, v_num=a0_1, total_loss_train=499, kl_local_train=143, metric_mi|age_categorical_train=0.377]"
     ]
    },
    {
     "name": "stdout",
     "output_type": "stream",
     "text": [
      "\r\n",
      "Epoch 157/600:  26%|██▌       | 156/600 [1:24:17<3:33:23, 28.84s/it, v_num=a0_1, total_loss_train=499, kl_local_train=143, metric_mi|age_categorical_train=0.377]"
     ]
    },
    {
     "name": "stdout",
     "output_type": "stream",
     "text": [
      "\r\n",
      "Epoch 157/600:  26%|██▌       | 157/600 [1:24:45<3:32:12, 28.74s/it, v_num=a0_1, total_loss_train=499, kl_local_train=143, metric_mi|age_categorical_train=0.377]"
     ]
    },
    {
     "name": "stdout",
     "output_type": "stream",
     "text": [
      "\r\n",
      "Epoch 157/600:  26%|██▌       | 157/600 [1:24:45<3:32:12, 28.74s/it, v_num=a0_1, total_loss_train=499, kl_local_train=142, metric_mi|age_categorical_train=0.377]"
     ]
    },
    {
     "name": "stdout",
     "output_type": "stream",
     "text": [
      "\r\n",
      "Epoch 158/600:  26%|██▌       | 157/600 [1:24:45<3:32:12, 28.74s/it, v_num=a0_1, total_loss_train=499, kl_local_train=142, metric_mi|age_categorical_train=0.377]"
     ]
    },
    {
     "name": "stdout",
     "output_type": "stream",
     "text": [
      "\r\n",
      "Epoch 158/600:  26%|██▋       | 158/600 [1:25:13<3:30:38, 28.59s/it, v_num=a0_1, total_loss_train=499, kl_local_train=142, metric_mi|age_categorical_train=0.377]"
     ]
    },
    {
     "name": "stdout",
     "output_type": "stream",
     "text": [
      "\r\n",
      "Epoch 158/600:  26%|██▋       | 158/600 [1:25:13<3:30:38, 28.59s/it, v_num=a0_1, total_loss_train=499, kl_local_train=141, metric_mi|age_categorical_train=0.377]"
     ]
    },
    {
     "name": "stdout",
     "output_type": "stream",
     "text": [
      "\r\n",
      "Epoch 159/600:  26%|██▋       | 158/600 [1:25:13<3:30:38, 28.59s/it, v_num=a0_1, total_loss_train=499, kl_local_train=141, metric_mi|age_categorical_train=0.377]"
     ]
    },
    {
     "name": "stdout",
     "output_type": "stream",
     "text": [
      "\r\n",
      "Epoch 159/600:  26%|██▋       | 159/600 [1:25:42<3:29:36, 28.52s/it, v_num=a0_1, total_loss_train=499, kl_local_train=141, metric_mi|age_categorical_train=0.377]"
     ]
    },
    {
     "name": "stdout",
     "output_type": "stream",
     "text": [
      "\r\n",
      "Epoch 159/600:  26%|██▋       | 159/600 [1:25:42<3:29:36, 28.52s/it, v_num=a0_1, total_loss_train=499, kl_local_train=141, metric_mi|age_categorical_train=0.377]"
     ]
    },
    {
     "name": "stdout",
     "output_type": "stream",
     "text": [
      "\r\n",
      "Epoch 160/600:  26%|██▋       | 159/600 [1:25:42<3:29:36, 28.52s/it, v_num=a0_1, total_loss_train=499, kl_local_train=141, metric_mi|age_categorical_train=0.377]"
     ]
    },
    {
     "name": "stdout",
     "output_type": "stream",
     "text": [
      "\r\n",
      "Epoch 160/600:  27%|██▋       | 160/600 [1:26:11<3:31:22, 28.82s/it, v_num=a0_1, total_loss_train=499, kl_local_train=141, metric_mi|age_categorical_train=0.377]"
     ]
    },
    {
     "name": "stdout",
     "output_type": "stream",
     "text": [
      "\r\n",
      "Epoch 160/600:  27%|██▋       | 160/600 [1:26:11<3:31:22, 28.82s/it, v_num=a0_1, total_loss_train=499, kl_local_train=142, metric_mi|age_categorical_train=0.377]"
     ]
    },
    {
     "name": "stdout",
     "output_type": "stream",
     "text": [
      "\r\n",
      "Epoch 161/600:  27%|██▋       | 160/600 [1:26:12<3:31:22, 28.82s/it, v_num=a0_1, total_loss_train=499, kl_local_train=142, metric_mi|age_categorical_train=0.377]"
     ]
    },
    {
     "name": "stdout",
     "output_type": "stream",
     "text": [
      "\r\n",
      "Epoch 161/600:  27%|██▋       | 161/600 [1:26:40<3:31:42, 28.93s/it, v_num=a0_1, total_loss_train=499, kl_local_train=142, metric_mi|age_categorical_train=0.377]"
     ]
    },
    {
     "name": "stdout",
     "output_type": "stream",
     "text": [
      "\r\n",
      "Epoch 161/600:  27%|██▋       | 161/600 [1:26:40<3:31:42, 28.93s/it, v_num=a0_1, total_loss_train=499, kl_local_train=141, metric_mi|age_categorical_train=0.348]"
     ]
    },
    {
     "name": "stdout",
     "output_type": "stream",
     "text": [
      "\r\n",
      "Epoch 162/600:  27%|██▋       | 161/600 [1:26:40<3:31:42, 28.93s/it, v_num=a0_1, total_loss_train=499, kl_local_train=141, metric_mi|age_categorical_train=0.348]"
     ]
    },
    {
     "name": "stdout",
     "output_type": "stream",
     "text": [
      "\r\n",
      "Epoch 162/600:  27%|██▋       | 162/600 [1:27:09<3:30:05, 28.78s/it, v_num=a0_1, total_loss_train=499, kl_local_train=141, metric_mi|age_categorical_train=0.348]"
     ]
    },
    {
     "name": "stdout",
     "output_type": "stream",
     "text": [
      "\r\n",
      "Epoch 162/600:  27%|██▋       | 162/600 [1:27:09<3:30:05, 28.78s/it, v_num=a0_1, total_loss_train=499, kl_local_train=140, metric_mi|age_categorical_train=0.348]"
     ]
    },
    {
     "name": "stdout",
     "output_type": "stream",
     "text": [
      "\r\n",
      "Epoch 163/600:  27%|██▋       | 162/600 [1:27:09<3:30:05, 28.78s/it, v_num=a0_1, total_loss_train=499, kl_local_train=140, metric_mi|age_categorical_train=0.348]"
     ]
    },
    {
     "name": "stdout",
     "output_type": "stream",
     "text": [
      "\r\n",
      "Epoch 163/600:  27%|██▋       | 163/600 [1:27:38<3:29:22, 28.75s/it, v_num=a0_1, total_loss_train=499, kl_local_train=140, metric_mi|age_categorical_train=0.348]"
     ]
    },
    {
     "name": "stdout",
     "output_type": "stream",
     "text": [
      "\r\n",
      "Epoch 163/600:  27%|██▋       | 163/600 [1:27:38<3:29:22, 28.75s/it, v_num=a0_1, total_loss_train=499, kl_local_train=139, metric_mi|age_categorical_train=0.348]"
     ]
    },
    {
     "name": "stdout",
     "output_type": "stream",
     "text": [
      "\r\n",
      "Epoch 164/600:  27%|██▋       | 163/600 [1:27:38<3:29:22, 28.75s/it, v_num=a0_1, total_loss_train=499, kl_local_train=139, metric_mi|age_categorical_train=0.348]"
     ]
    },
    {
     "name": "stdout",
     "output_type": "stream",
     "text": [
      "\r\n",
      "Epoch 164/600:  27%|██▋       | 164/600 [1:28:06<3:28:14, 28.66s/it, v_num=a0_1, total_loss_train=499, kl_local_train=139, metric_mi|age_categorical_train=0.348]"
     ]
    },
    {
     "name": "stdout",
     "output_type": "stream",
     "text": [
      "\r\n",
      "Epoch 164/600:  27%|██▋       | 164/600 [1:28:06<3:28:14, 28.66s/it, v_num=a0_1, total_loss_train=499, kl_local_train=139, metric_mi|age_categorical_train=0.348]"
     ]
    },
    {
     "name": "stdout",
     "output_type": "stream",
     "text": [
      "\r\n",
      "Epoch 165/600:  27%|██▋       | 164/600 [1:28:06<3:28:14, 28.66s/it, v_num=a0_1, total_loss_train=499, kl_local_train=139, metric_mi|age_categorical_train=0.348]"
     ]
    },
    {
     "name": "stdout",
     "output_type": "stream",
     "text": [
      "\r\n",
      "Epoch 165/600:  28%|██▊       | 165/600 [1:28:36<3:29:41, 28.92s/it, v_num=a0_1, total_loss_train=499, kl_local_train=139, metric_mi|age_categorical_train=0.348]"
     ]
    },
    {
     "name": "stdout",
     "output_type": "stream",
     "text": [
      "\r\n",
      "Epoch 165/600:  28%|██▊       | 165/600 [1:28:36<3:29:41, 28.92s/it, v_num=a0_1, total_loss_train=500, kl_local_train=139, metric_mi|age_categorical_train=0.348]"
     ]
    },
    {
     "name": "stdout",
     "output_type": "stream",
     "text": [
      "\r\n",
      "Epoch 166/600:  28%|██▊       | 165/600 [1:28:36<3:29:41, 28.92s/it, v_num=a0_1, total_loss_train=500, kl_local_train=139, metric_mi|age_categorical_train=0.348]"
     ]
    },
    {
     "name": "stdout",
     "output_type": "stream",
     "text": [
      "\r\n",
      "Epoch 166/600:  28%|██▊       | 166/600 [1:29:05<3:29:28, 28.96s/it, v_num=a0_1, total_loss_train=500, kl_local_train=139, metric_mi|age_categorical_train=0.348]"
     ]
    },
    {
     "name": "stdout",
     "output_type": "stream",
     "text": [
      "\r\n",
      "Epoch 166/600:  28%|██▊       | 166/600 [1:29:05<3:29:28, 28.96s/it, v_num=a0_1, total_loss_train=500, kl_local_train=139, metric_mi|age_categorical_train=0.364]"
     ]
    },
    {
     "name": "stdout",
     "output_type": "stream",
     "text": [
      "\r\n",
      "Epoch 167/600:  28%|██▊       | 166/600 [1:29:05<3:29:28, 28.96s/it, v_num=a0_1, total_loss_train=500, kl_local_train=139, metric_mi|age_categorical_train=0.364]"
     ]
    },
    {
     "name": "stdout",
     "output_type": "stream",
     "text": [
      "\r\n",
      "Epoch 167/600:  28%|██▊       | 167/600 [1:29:33<3:27:54, 28.81s/it, v_num=a0_1, total_loss_train=500, kl_local_train=139, metric_mi|age_categorical_train=0.364]"
     ]
    },
    {
     "name": "stdout",
     "output_type": "stream",
     "text": [
      "\r\n",
      "Epoch 167/600:  28%|██▊       | 167/600 [1:29:33<3:27:54, 28.81s/it, v_num=a0_1, total_loss_train=500, kl_local_train=138, metric_mi|age_categorical_train=0.364]"
     ]
    },
    {
     "name": "stdout",
     "output_type": "stream",
     "text": [
      "\r\n",
      "Epoch 168/600:  28%|██▊       | 167/600 [1:29:33<3:27:54, 28.81s/it, v_num=a0_1, total_loss_train=500, kl_local_train=138, metric_mi|age_categorical_train=0.364]"
     ]
    },
    {
     "name": "stdout",
     "output_type": "stream",
     "text": [
      "\r\n",
      "Epoch 168/600:  28%|██▊       | 168/600 [1:30:01<3:26:37, 28.70s/it, v_num=a0_1, total_loss_train=500, kl_local_train=138, metric_mi|age_categorical_train=0.364]"
     ]
    },
    {
     "name": "stdout",
     "output_type": "stream",
     "text": [
      "\r\n",
      "Epoch 168/600:  28%|██▊       | 168/600 [1:30:01<3:26:37, 28.70s/it, v_num=a0_1, total_loss_train=500, kl_local_train=138, metric_mi|age_categorical_train=0.364]"
     ]
    },
    {
     "name": "stdout",
     "output_type": "stream",
     "text": [
      "\r\n",
      "Epoch 169/600:  28%|██▊       | 168/600 [1:30:01<3:26:37, 28.70s/it, v_num=a0_1, total_loss_train=500, kl_local_train=138, metric_mi|age_categorical_train=0.364]"
     ]
    },
    {
     "name": "stdout",
     "output_type": "stream",
     "text": [
      "\r\n",
      "Epoch 169/600:  28%|██▊       | 169/600 [1:30:30<3:25:45, 28.64s/it, v_num=a0_1, total_loss_train=500, kl_local_train=138, metric_mi|age_categorical_train=0.364]"
     ]
    },
    {
     "name": "stdout",
     "output_type": "stream",
     "text": [
      "\r\n",
      "Epoch 169/600:  28%|██▊       | 169/600 [1:30:30<3:25:45, 28.64s/it, v_num=a0_1, total_loss_train=501, kl_local_train=138, metric_mi|age_categorical_train=0.364]"
     ]
    },
    {
     "name": "stdout",
     "output_type": "stream",
     "text": [
      "\r\n",
      "Epoch 170/600:  28%|██▊       | 169/600 [1:30:30<3:25:45, 28.64s/it, v_num=a0_1, total_loss_train=501, kl_local_train=138, metric_mi|age_categorical_train=0.364]"
     ]
    },
    {
     "name": "stdout",
     "output_type": "stream",
     "text": [
      "\r\n",
      "Epoch 170/600:  28%|██▊       | 170/600 [1:30:59<3:26:57, 28.88s/it, v_num=a0_1, total_loss_train=501, kl_local_train=138, metric_mi|age_categorical_train=0.364]"
     ]
    },
    {
     "name": "stdout",
     "output_type": "stream",
     "text": [
      "\r\n",
      "Epoch 170/600:  28%|██▊       | 170/600 [1:30:59<3:26:57, 28.88s/it, v_num=a0_1, total_loss_train=501, kl_local_train=138, metric_mi|age_categorical_train=0.364]"
     ]
    },
    {
     "name": "stdout",
     "output_type": "stream",
     "text": [
      "\r\n",
      "Epoch 171/600:  28%|██▊       | 170/600 [1:31:00<3:26:57, 28.88s/it, v_num=a0_1, total_loss_train=501, kl_local_train=138, metric_mi|age_categorical_train=0.364]"
     ]
    },
    {
     "name": "stdout",
     "output_type": "stream",
     "text": [
      "\r\n",
      "Epoch 171/600:  28%|██▊       | 171/600 [1:31:28<3:26:49, 28.93s/it, v_num=a0_1, total_loss_train=501, kl_local_train=138, metric_mi|age_categorical_train=0.364]"
     ]
    },
    {
     "name": "stdout",
     "output_type": "stream",
     "text": [
      "\r\n",
      "Epoch 171/600:  28%|██▊       | 171/600 [1:31:28<3:26:49, 28.93s/it, v_num=a0_1, total_loss_train=501, kl_local_train=138, metric_mi|age_categorical_train=0.373]"
     ]
    },
    {
     "name": "stdout",
     "output_type": "stream",
     "text": [
      "\r\n",
      "Epoch 172/600:  28%|██▊       | 171/600 [1:31:28<3:26:49, 28.93s/it, v_num=a0_1, total_loss_train=501, kl_local_train=138, metric_mi|age_categorical_train=0.373]"
     ]
    },
    {
     "name": "stdout",
     "output_type": "stream",
     "text": [
      "\r\n",
      "Epoch 172/600:  29%|██▊       | 172/600 [1:31:57<3:25:42, 28.84s/it, v_num=a0_1, total_loss_train=501, kl_local_train=138, metric_mi|age_categorical_train=0.373]"
     ]
    },
    {
     "name": "stdout",
     "output_type": "stream",
     "text": [
      "\r\n",
      "Epoch 172/600:  29%|██▊       | 172/600 [1:31:57<3:25:42, 28.84s/it, v_num=a0_1, total_loss_train=500, kl_local_train=137, metric_mi|age_categorical_train=0.373]"
     ]
    },
    {
     "name": "stdout",
     "output_type": "stream",
     "text": [
      "\r\n",
      "Epoch 173/600:  29%|██▊       | 172/600 [1:31:57<3:25:42, 28.84s/it, v_num=a0_1, total_loss_train=500, kl_local_train=137, metric_mi|age_categorical_train=0.373]"
     ]
    },
    {
     "name": "stdout",
     "output_type": "stream",
     "text": [
      "\r\n",
      "Epoch 173/600:  29%|██▉       | 173/600 [1:32:26<3:24:33, 28.74s/it, v_num=a0_1, total_loss_train=500, kl_local_train=137, metric_mi|age_categorical_train=0.373]"
     ]
    },
    {
     "name": "stdout",
     "output_type": "stream",
     "text": [
      "\r\n",
      "Epoch 173/600:  29%|██▉       | 173/600 [1:32:26<3:24:33, 28.74s/it, v_num=a0_1, total_loss_train=500, kl_local_train=137, metric_mi|age_categorical_train=0.373]"
     ]
    },
    {
     "name": "stdout",
     "output_type": "stream",
     "text": [
      "\r\n",
      "Epoch 174/600:  29%|██▉       | 173/600 [1:32:26<3:24:33, 28.74s/it, v_num=a0_1, total_loss_train=500, kl_local_train=137, metric_mi|age_categorical_train=0.373]"
     ]
    },
    {
     "name": "stdout",
     "output_type": "stream",
     "text": [
      "\r\n",
      "Epoch 174/600:  29%|██▉       | 174/600 [1:32:54<3:23:31, 28.67s/it, v_num=a0_1, total_loss_train=500, kl_local_train=137, metric_mi|age_categorical_train=0.373]"
     ]
    },
    {
     "name": "stdout",
     "output_type": "stream",
     "text": [
      "\r\n",
      "Epoch 174/600:  29%|██▉       | 174/600 [1:32:54<3:23:31, 28.67s/it, v_num=a0_1, total_loss_train=501, kl_local_train=136, metric_mi|age_categorical_train=0.373]"
     ]
    },
    {
     "name": "stdout",
     "output_type": "stream",
     "text": [
      "\r\n",
      "Epoch 175/600:  29%|██▉       | 174/600 [1:32:54<3:23:31, 28.67s/it, v_num=a0_1, total_loss_train=501, kl_local_train=136, metric_mi|age_categorical_train=0.373]"
     ]
    },
    {
     "name": "stdout",
     "output_type": "stream",
     "text": [
      "\r\n",
      "Epoch 175/600:  29%|██▉       | 175/600 [1:33:24<3:25:50, 29.06s/it, v_num=a0_1, total_loss_train=501, kl_local_train=136, metric_mi|age_categorical_train=0.373]"
     ]
    },
    {
     "name": "stdout",
     "output_type": "stream",
     "text": [
      "\r\n",
      "Epoch 175/600:  29%|██▉       | 175/600 [1:33:24<3:25:50, 29.06s/it, v_num=a0_1, total_loss_train=501, kl_local_train=136, metric_mi|age_categorical_train=0.373]"
     ]
    },
    {
     "name": "stdout",
     "output_type": "stream",
     "text": [
      "\r\n",
      "Epoch 176/600:  29%|██▉       | 175/600 [1:33:25<3:25:50, 29.06s/it, v_num=a0_1, total_loss_train=501, kl_local_train=136, metric_mi|age_categorical_train=0.373]"
     ]
    },
    {
     "name": "stdout",
     "output_type": "stream",
     "text": [
      "\r\n",
      "Epoch 176/600:  29%|██▉       | 176/600 [1:33:53<3:25:28, 29.08s/it, v_num=a0_1, total_loss_train=501, kl_local_train=136, metric_mi|age_categorical_train=0.373]"
     ]
    },
    {
     "name": "stdout",
     "output_type": "stream",
     "text": [
      "\r\n",
      "Epoch 176/600:  29%|██▉       | 176/600 [1:33:53<3:25:28, 29.08s/it, v_num=a0_1, total_loss_train=501, kl_local_train=135, metric_mi|age_categorical_train=0.367]"
     ]
    },
    {
     "name": "stdout",
     "output_type": "stream",
     "text": [
      "\r\n",
      "Epoch 177/600:  29%|██▉       | 176/600 [1:33:53<3:25:28, 29.08s/it, v_num=a0_1, total_loss_train=501, kl_local_train=135, metric_mi|age_categorical_train=0.367]"
     ]
    },
    {
     "name": "stdout",
     "output_type": "stream",
     "text": [
      "\r\n",
      "Epoch 177/600:  30%|██▉       | 177/600 [1:34:22<3:23:47, 28.91s/it, v_num=a0_1, total_loss_train=501, kl_local_train=135, metric_mi|age_categorical_train=0.367]"
     ]
    },
    {
     "name": "stdout",
     "output_type": "stream",
     "text": [
      "\r\n",
      "Epoch 177/600:  30%|██▉       | 177/600 [1:34:22<3:23:47, 28.91s/it, v_num=a0_1, total_loss_train=501, kl_local_train=135, metric_mi|age_categorical_train=0.367]"
     ]
    },
    {
     "name": "stdout",
     "output_type": "stream",
     "text": [
      "\r\n",
      "Epoch 178/600:  30%|██▉       | 177/600 [1:34:22<3:23:47, 28.91s/it, v_num=a0_1, total_loss_train=501, kl_local_train=135, metric_mi|age_categorical_train=0.367]"
     ]
    },
    {
     "name": "stdout",
     "output_type": "stream",
     "text": [
      "\r\n",
      "Epoch 178/600:  30%|██▉       | 178/600 [1:34:50<3:22:26, 28.78s/it, v_num=a0_1, total_loss_train=501, kl_local_train=135, metric_mi|age_categorical_train=0.367]"
     ]
    },
    {
     "name": "stdout",
     "output_type": "stream",
     "text": [
      "\r\n",
      "Epoch 178/600:  30%|██▉       | 178/600 [1:34:50<3:22:26, 28.78s/it, v_num=a0_1, total_loss_train=501, kl_local_train=134, metric_mi|age_categorical_train=0.367]"
     ]
    },
    {
     "name": "stdout",
     "output_type": "stream",
     "text": [
      "\r\n",
      "Epoch 179/600:  30%|██▉       | 178/600 [1:34:50<3:22:26, 28.78s/it, v_num=a0_1, total_loss_train=501, kl_local_train=134, metric_mi|age_categorical_train=0.367]"
     ]
    },
    {
     "name": "stdout",
     "output_type": "stream",
     "text": [
      "\r\n",
      "Epoch 179/600:  30%|██▉       | 179/600 [1:35:19<3:21:13, 28.68s/it, v_num=a0_1, total_loss_train=501, kl_local_train=134, metric_mi|age_categorical_train=0.367]"
     ]
    },
    {
     "name": "stdout",
     "output_type": "stream",
     "text": [
      "\r\n",
      "Epoch 179/600:  30%|██▉       | 179/600 [1:35:19<3:21:13, 28.68s/it, v_num=a0_1, total_loss_train=501, kl_local_train=135, metric_mi|age_categorical_train=0.367]"
     ]
    },
    {
     "name": "stdout",
     "output_type": "stream",
     "text": [
      "\r\n",
      "Epoch 180/600:  30%|██▉       | 179/600 [1:35:19<3:21:13, 28.68s/it, v_num=a0_1, total_loss_train=501, kl_local_train=135, metric_mi|age_categorical_train=0.367]"
     ]
    },
    {
     "name": "stdout",
     "output_type": "stream",
     "text": [
      "\r\n",
      "Epoch 180/600:  30%|███       | 180/600 [1:35:48<3:22:38, 28.95s/it, v_num=a0_1, total_loss_train=501, kl_local_train=135, metric_mi|age_categorical_train=0.367]"
     ]
    },
    {
     "name": "stdout",
     "output_type": "stream",
     "text": [
      "\r\n",
      "Epoch 180/600:  30%|███       | 180/600 [1:35:48<3:22:38, 28.95s/it, v_num=a0_1, total_loss_train=502, kl_local_train=135, metric_mi|age_categorical_train=0.367]"
     ]
    },
    {
     "name": "stdout",
     "output_type": "stream",
     "text": [
      "\r\n",
      "Epoch 181/600:  30%|███       | 180/600 [1:35:49<3:22:38, 28.95s/it, v_num=a0_1, total_loss_train=502, kl_local_train=135, metric_mi|age_categorical_train=0.367]"
     ]
    },
    {
     "name": "stdout",
     "output_type": "stream",
     "text": [
      "\r\n",
      "Epoch 181/600:  30%|███       | 181/600 [1:36:17<3:22:28, 28.99s/it, v_num=a0_1, total_loss_train=502, kl_local_train=135, metric_mi|age_categorical_train=0.367]"
     ]
    },
    {
     "name": "stdout",
     "output_type": "stream",
     "text": [
      "\r\n",
      "Epoch 181/600:  30%|███       | 181/600 [1:36:17<3:22:28, 28.99s/it, v_num=a0_1, total_loss_train=501, kl_local_train=134, metric_mi|age_categorical_train=0.367]"
     ]
    },
    {
     "name": "stdout",
     "output_type": "stream",
     "text": [
      "\r\n",
      "Epoch 182/600:  30%|███       | 181/600 [1:36:17<3:22:28, 28.99s/it, v_num=a0_1, total_loss_train=501, kl_local_train=134, metric_mi|age_categorical_train=0.367]"
     ]
    },
    {
     "name": "stdout",
     "output_type": "stream",
     "text": [
      "\r\n",
      "Epoch 182/600:  30%|███       | 182/600 [1:36:46<3:20:49, 28.83s/it, v_num=a0_1, total_loss_train=501, kl_local_train=134, metric_mi|age_categorical_train=0.367]"
     ]
    },
    {
     "name": "stdout",
     "output_type": "stream",
     "text": [
      "\r\n",
      "Epoch 182/600:  30%|███       | 182/600 [1:36:46<3:20:49, 28.83s/it, v_num=a0_1, total_loss_train=502, kl_local_train=133, metric_mi|age_categorical_train=0.367]"
     ]
    },
    {
     "name": "stdout",
     "output_type": "stream",
     "text": [
      "\r\n",
      "Epoch 183/600:  30%|███       | 182/600 [1:36:46<3:20:49, 28.83s/it, v_num=a0_1, total_loss_train=502, kl_local_train=133, metric_mi|age_categorical_train=0.367]"
     ]
    },
    {
     "name": "stdout",
     "output_type": "stream",
     "text": [
      "\r\n",
      "Epoch 183/600:  30%|███       | 183/600 [1:37:14<3:19:25, 28.69s/it, v_num=a0_1, total_loss_train=502, kl_local_train=133, metric_mi|age_categorical_train=0.367]"
     ]
    },
    {
     "name": "stdout",
     "output_type": "stream",
     "text": [
      "\r\n",
      "Epoch 183/600:  30%|███       | 183/600 [1:37:14<3:19:25, 28.69s/it, v_num=a0_1, total_loss_train=502, kl_local_train=134, metric_mi|age_categorical_train=0.367]"
     ]
    },
    {
     "name": "stdout",
     "output_type": "stream",
     "text": [
      "\r\n",
      "Epoch 184/600:  30%|███       | 183/600 [1:37:14<3:19:25, 28.69s/it, v_num=a0_1, total_loss_train=502, kl_local_train=134, metric_mi|age_categorical_train=0.367]"
     ]
    },
    {
     "name": "stdout",
     "output_type": "stream",
     "text": [
      "\r\n",
      "Epoch 184/600:  31%|███       | 184/600 [1:37:43<3:18:24, 28.62s/it, v_num=a0_1, total_loss_train=502, kl_local_train=134, metric_mi|age_categorical_train=0.367]"
     ]
    },
    {
     "name": "stdout",
     "output_type": "stream",
     "text": [
      "\r\n",
      "Epoch 184/600:  31%|███       | 184/600 [1:37:43<3:18:24, 28.62s/it, v_num=a0_1, total_loss_train=502, kl_local_train=134, metric_mi|age_categorical_train=0.367]"
     ]
    },
    {
     "name": "stdout",
     "output_type": "stream",
     "text": [
      "\r\n",
      "Epoch 185/600:  31%|███       | 184/600 [1:37:43<3:18:24, 28.62s/it, v_num=a0_1, total_loss_train=502, kl_local_train=134, metric_mi|age_categorical_train=0.367]"
     ]
    },
    {
     "name": "stdout",
     "output_type": "stream",
     "text": [
      "\r\n",
      "Epoch 185/600:  31%|███       | 185/600 [1:38:13<3:20:54, 29.05s/it, v_num=a0_1, total_loss_train=502, kl_local_train=134, metric_mi|age_categorical_train=0.367]"
     ]
    },
    {
     "name": "stdout",
     "output_type": "stream",
     "text": [
      "\r\n",
      "Epoch 185/600:  31%|███       | 185/600 [1:38:13<3:20:54, 29.05s/it, v_num=a0_1, total_loss_train=502, kl_local_train=133, metric_mi|age_categorical_train=0.367]"
     ]
    },
    {
     "name": "stdout",
     "output_type": "stream",
     "text": [
      "\r\n",
      "Epoch 186/600:  31%|███       | 185/600 [1:38:13<3:20:54, 29.05s/it, v_num=a0_1, total_loss_train=502, kl_local_train=133, metric_mi|age_categorical_train=0.367]"
     ]
    },
    {
     "name": "stdout",
     "output_type": "stream",
     "text": [
      "\r\n",
      "Epoch 186/600:  31%|███       | 186/600 [1:38:42<3:20:43, 29.09s/it, v_num=a0_1, total_loss_train=502, kl_local_train=133, metric_mi|age_categorical_train=0.367]"
     ]
    },
    {
     "name": "stdout",
     "output_type": "stream",
     "text": [
      "\r\n",
      "Epoch 186/600:  31%|███       | 186/600 [1:38:42<3:20:43, 29.09s/it, v_num=a0_1, total_loss_train=502, kl_local_train=132, metric_mi|age_categorical_train=0.355]"
     ]
    },
    {
     "name": "stdout",
     "output_type": "stream",
     "text": [
      "\r\n",
      "Epoch 187/600:  31%|███       | 186/600 [1:38:42<3:20:43, 29.09s/it, v_num=a0_1, total_loss_train=502, kl_local_train=132, metric_mi|age_categorical_train=0.355]"
     ]
    },
    {
     "name": "stdout",
     "output_type": "stream",
     "text": [
      "\r\n",
      "Epoch 187/600:  31%|███       | 187/600 [1:39:10<3:18:42, 28.87s/it, v_num=a0_1, total_loss_train=502, kl_local_train=132, metric_mi|age_categorical_train=0.355]"
     ]
    },
    {
     "name": "stdout",
     "output_type": "stream",
     "text": [
      "\r\n",
      "Epoch 187/600:  31%|███       | 187/600 [1:39:10<3:18:42, 28.87s/it, v_num=a0_1, total_loss_train=503, kl_local_train=131, metric_mi|age_categorical_train=0.355]"
     ]
    },
    {
     "name": "stdout",
     "output_type": "stream",
     "text": [
      "\r\n",
      "Epoch 188/600:  31%|███       | 187/600 [1:39:10<3:18:42, 28.87s/it, v_num=a0_1, total_loss_train=503, kl_local_train=131, metric_mi|age_categorical_train=0.355]"
     ]
    },
    {
     "name": "stdout",
     "output_type": "stream",
     "text": [
      "\r\n",
      "Epoch 188/600:  31%|███▏      | 188/600 [1:39:39<3:17:23, 28.75s/it, v_num=a0_1, total_loss_train=503, kl_local_train=131, metric_mi|age_categorical_train=0.355]"
     ]
    },
    {
     "name": "stdout",
     "output_type": "stream",
     "text": [
      "\r\n",
      "Epoch 188/600:  31%|███▏      | 188/600 [1:39:39<3:17:23, 28.75s/it, v_num=a0_1, total_loss_train=502, kl_local_train=131, metric_mi|age_categorical_train=0.355]"
     ]
    },
    {
     "name": "stdout",
     "output_type": "stream",
     "text": [
      "\r\n",
      "Epoch 189/600:  31%|███▏      | 188/600 [1:39:39<3:17:23, 28.75s/it, v_num=a0_1, total_loss_train=502, kl_local_train=131, metric_mi|age_categorical_train=0.355]"
     ]
    },
    {
     "name": "stdout",
     "output_type": "stream",
     "text": [
      "\r\n",
      "Epoch 189/600:  32%|███▏      | 189/600 [1:40:07<3:16:00, 28.62s/it, v_num=a0_1, total_loss_train=502, kl_local_train=131, metric_mi|age_categorical_train=0.355]"
     ]
    },
    {
     "name": "stdout",
     "output_type": "stream",
     "text": [
      "\r\n",
      "Epoch 189/600:  32%|███▏      | 189/600 [1:40:07<3:16:00, 28.62s/it, v_num=a0_1, total_loss_train=502, kl_local_train=132, metric_mi|age_categorical_train=0.355]"
     ]
    },
    {
     "name": "stdout",
     "output_type": "stream",
     "text": [
      "\r\n",
      "Epoch 190/600:  32%|███▏      | 189/600 [1:40:07<3:16:00, 28.62s/it, v_num=a0_1, total_loss_train=502, kl_local_train=132, metric_mi|age_categorical_train=0.355]"
     ]
    },
    {
     "name": "stdout",
     "output_type": "stream",
     "text": [
      "\r\n",
      "Epoch 190/600:  32%|███▏      | 190/600 [1:40:36<3:16:50, 28.81s/it, v_num=a0_1, total_loss_train=502, kl_local_train=132, metric_mi|age_categorical_train=0.355]"
     ]
    },
    {
     "name": "stdout",
     "output_type": "stream",
     "text": [
      "\r\n",
      "Epoch 190/600:  32%|███▏      | 190/600 [1:40:36<3:16:50, 28.81s/it, v_num=a0_1, total_loss_train=503, kl_local_train=131, metric_mi|age_categorical_train=0.355]"
     ]
    },
    {
     "name": "stdout",
     "output_type": "stream",
     "text": [
      "\r\n",
      "Epoch 191/600:  32%|███▏      | 190/600 [1:40:37<3:16:50, 28.81s/it, v_num=a0_1, total_loss_train=503, kl_local_train=131, metric_mi|age_categorical_train=0.355]"
     ]
    },
    {
     "name": "stdout",
     "output_type": "stream",
     "text": [
      "\r\n",
      "Epoch 191/600:  32%|███▏      | 191/600 [1:41:06<3:17:58, 29.04s/it, v_num=a0_1, total_loss_train=503, kl_local_train=131, metric_mi|age_categorical_train=0.355]"
     ]
    },
    {
     "name": "stdout",
     "output_type": "stream",
     "text": [
      "\r\n",
      "Epoch 191/600:  32%|███▏      | 191/600 [1:41:06<3:17:58, 29.04s/it, v_num=a0_1, total_loss_train=503, kl_local_train=131, metric_mi|age_categorical_train=0.357]"
     ]
    },
    {
     "name": "stdout",
     "output_type": "stream",
     "text": [
      "\r\n",
      "Epoch 192/600:  32%|███▏      | 191/600 [1:41:06<3:17:58, 29.04s/it, v_num=a0_1, total_loss_train=503, kl_local_train=131, metric_mi|age_categorical_train=0.357]"
     ]
    },
    {
     "name": "stdout",
     "output_type": "stream",
     "text": [
      "\r\n",
      "Epoch 192/600:  32%|███▏      | 192/600 [1:41:35<3:17:29, 29.04s/it, v_num=a0_1, total_loss_train=503, kl_local_train=131, metric_mi|age_categorical_train=0.357]"
     ]
    },
    {
     "name": "stdout",
     "output_type": "stream",
     "text": [
      "\r\n",
      "Epoch 192/600:  32%|███▏      | 192/600 [1:41:35<3:17:29, 29.04s/it, v_num=a0_1, total_loss_train=503, kl_local_train=131, metric_mi|age_categorical_train=0.357]"
     ]
    },
    {
     "name": "stdout",
     "output_type": "stream",
     "text": [
      "\r\n",
      "Epoch 193/600:  32%|███▏      | 192/600 [1:41:35<3:17:29, 29.04s/it, v_num=a0_1, total_loss_train=503, kl_local_train=131, metric_mi|age_categorical_train=0.357]"
     ]
    },
    {
     "name": "stdout",
     "output_type": "stream",
     "text": [
      "\r\n",
      "Epoch 193/600:  32%|███▏      | 193/600 [1:42:03<3:15:52, 28.88s/it, v_num=a0_1, total_loss_train=503, kl_local_train=131, metric_mi|age_categorical_train=0.357]"
     ]
    },
    {
     "name": "stdout",
     "output_type": "stream",
     "text": [
      "\r\n",
      "Epoch 193/600:  32%|███▏      | 193/600 [1:42:03<3:15:52, 28.88s/it, v_num=a0_1, total_loss_train=503, kl_local_train=130, metric_mi|age_categorical_train=0.357]"
     ]
    },
    {
     "name": "stdout",
     "output_type": "stream",
     "text": [
      "\r\n",
      "Epoch 194/600:  32%|███▏      | 193/600 [1:42:03<3:15:52, 28.88s/it, v_num=a0_1, total_loss_train=503, kl_local_train=130, metric_mi|age_categorical_train=0.357]"
     ]
    },
    {
     "name": "stdout",
     "output_type": "stream",
     "text": [
      "\r\n",
      "Epoch 194/600:  32%|███▏      | 194/600 [1:42:32<3:14:48, 28.79s/it, v_num=a0_1, total_loss_train=503, kl_local_train=130, metric_mi|age_categorical_train=0.357]"
     ]
    },
    {
     "name": "stdout",
     "output_type": "stream",
     "text": [
      "\r\n",
      "Epoch 194/600:  32%|███▏      | 194/600 [1:42:32<3:14:48, 28.79s/it, v_num=a0_1, total_loss_train=503, kl_local_train=131, metric_mi|age_categorical_train=0.357]"
     ]
    },
    {
     "name": "stdout",
     "output_type": "stream",
     "text": [
      "\r\n",
      "Epoch 195/600:  32%|███▏      | 194/600 [1:42:32<3:14:48, 28.79s/it, v_num=a0_1, total_loss_train=503, kl_local_train=131, metric_mi|age_categorical_train=0.357]"
     ]
    },
    {
     "name": "stdout",
     "output_type": "stream",
     "text": [
      "\r\n",
      "Epoch 195/600:  32%|███▎      | 195/600 [1:43:01<3:15:23, 28.95s/it, v_num=a0_1, total_loss_train=503, kl_local_train=131, metric_mi|age_categorical_train=0.357]"
     ]
    },
    {
     "name": "stdout",
     "output_type": "stream",
     "text": [
      "\r\n",
      "Epoch 195/600:  32%|███▎      | 195/600 [1:43:01<3:15:23, 28.95s/it, v_num=a0_1, total_loss_train=503, kl_local_train=129, metric_mi|age_categorical_train=0.357]"
     ]
    },
    {
     "name": "stdout",
     "output_type": "stream",
     "text": [
      "\r\n",
      "Epoch 196/600:  32%|███▎      | 195/600 [1:43:02<3:15:23, 28.95s/it, v_num=a0_1, total_loss_train=503, kl_local_train=129, metric_mi|age_categorical_train=0.357]"
     ]
    },
    {
     "name": "stdout",
     "output_type": "stream",
     "text": [
      "\r\n",
      "Epoch 196/600:  33%|███▎      | 196/600 [1:43:32<3:18:43, 29.51s/it, v_num=a0_1, total_loss_train=503, kl_local_train=129, metric_mi|age_categorical_train=0.357]"
     ]
    },
    {
     "name": "stdout",
     "output_type": "stream",
     "text": [
      "\r\n",
      "Epoch 196/600:  33%|███▎      | 196/600 [1:43:32<3:18:43, 29.51s/it, v_num=a0_1, total_loss_train=503, kl_local_train=129, metric_mi|age_categorical_train=0.365]"
     ]
    },
    {
     "name": "stdout",
     "output_type": "stream",
     "text": [
      "\r\n",
      "Epoch 197/600:  33%|███▎      | 196/600 [1:43:32<3:18:43, 29.51s/it, v_num=a0_1, total_loss_train=503, kl_local_train=129, metric_mi|age_categorical_train=0.365]"
     ]
    },
    {
     "name": "stdout",
     "output_type": "stream",
     "text": [
      "\r\n",
      "Epoch 197/600:  33%|███▎      | 197/600 [1:44:00<3:15:36, 29.12s/it, v_num=a0_1, total_loss_train=503, kl_local_train=129, metric_mi|age_categorical_train=0.365]"
     ]
    },
    {
     "name": "stdout",
     "output_type": "stream",
     "text": [
      "\r\n",
      "Epoch 197/600:  33%|███▎      | 197/600 [1:44:00<3:15:36, 29.12s/it, v_num=a0_1, total_loss_train=504, kl_local_train=129, metric_mi|age_categorical_train=0.365]"
     ]
    },
    {
     "name": "stdout",
     "output_type": "stream",
     "text": [
      "\r\n",
      "Epoch 198/600:  33%|███▎      | 197/600 [1:44:00<3:15:36, 29.12s/it, v_num=a0_1, total_loss_train=504, kl_local_train=129, metric_mi|age_categorical_train=0.365]"
     ]
    },
    {
     "name": "stdout",
     "output_type": "stream",
     "text": [
      "\r\n",
      "Epoch 198/600:  33%|███▎      | 198/600 [1:44:28<3:13:12, 28.84s/it, v_num=a0_1, total_loss_train=504, kl_local_train=129, metric_mi|age_categorical_train=0.365]"
     ]
    },
    {
     "name": "stdout",
     "output_type": "stream",
     "text": [
      "\r\n",
      "Epoch 198/600:  33%|███▎      | 198/600 [1:44:28<3:13:12, 28.84s/it, v_num=a0_1, total_loss_train=504, kl_local_train=129, metric_mi|age_categorical_train=0.365]"
     ]
    },
    {
     "name": "stdout",
     "output_type": "stream",
     "text": [
      "\r\n",
      "Epoch 199/600:  33%|███▎      | 198/600 [1:44:28<3:13:12, 28.84s/it, v_num=a0_1, total_loss_train=504, kl_local_train=129, metric_mi|age_categorical_train=0.365]"
     ]
    },
    {
     "name": "stdout",
     "output_type": "stream",
     "text": [
      "\r\n",
      "Epoch 199/600:  33%|███▎      | 199/600 [1:44:57<3:11:16, 28.62s/it, v_num=a0_1, total_loss_train=504, kl_local_train=129, metric_mi|age_categorical_train=0.365]"
     ]
    },
    {
     "name": "stdout",
     "output_type": "stream",
     "text": [
      "\r\n",
      "Epoch 199/600:  33%|███▎      | 199/600 [1:44:57<3:11:16, 28.62s/it, v_num=a0_1, total_loss_train=504, kl_local_train=129, metric_mi|age_categorical_train=0.365]"
     ]
    },
    {
     "name": "stdout",
     "output_type": "stream",
     "text": [
      "\r\n",
      "Epoch 200/600:  33%|███▎      | 199/600 [1:44:57<3:11:16, 28.62s/it, v_num=a0_1, total_loss_train=504, kl_local_train=129, metric_mi|age_categorical_train=0.365]"
     ]
    },
    {
     "name": "stdout",
     "output_type": "stream",
     "text": [
      "\r\n",
      "Epoch 200/600:  33%|███▎      | 200/600 [1:45:26<3:12:01, 28.80s/it, v_num=a0_1, total_loss_train=504, kl_local_train=129, metric_mi|age_categorical_train=0.365]"
     ]
    },
    {
     "name": "stdout",
     "output_type": "stream",
     "text": [
      "\r\n",
      "Epoch 200/600:  33%|███▎      | 200/600 [1:45:26<3:12:01, 28.80s/it, v_num=a0_1, total_loss_train=504, kl_local_train=128, metric_mi|age_categorical_train=0.365]"
     ]
    },
    {
     "name": "stdout",
     "output_type": "stream",
     "text": [
      "\r\n",
      "Epoch 201/600:  33%|███▎      | 200/600 [1:45:26<3:12:01, 28.80s/it, v_num=a0_1, total_loss_train=504, kl_local_train=128, metric_mi|age_categorical_train=0.365]"
     ]
    },
    {
     "name": "stdout",
     "output_type": "stream",
     "text": [
      "\r\n",
      "Epoch 201/600:  34%|███▎      | 201/600 [1:45:54<3:11:21, 28.77s/it, v_num=a0_1, total_loss_train=504, kl_local_train=128, metric_mi|age_categorical_train=0.365]"
     ]
    },
    {
     "name": "stdout",
     "output_type": "stream",
     "text": [
      "\r\n",
      "Epoch 201/600:  34%|███▎      | 201/600 [1:45:54<3:11:21, 28.77s/it, v_num=a0_1, total_loss_train=504, kl_local_train=128, metric_mi|age_categorical_train=0.376]"
     ]
    },
    {
     "name": "stdout",
     "output_type": "stream",
     "text": [
      "\r\n",
      "Epoch 202/600:  34%|███▎      | 201/600 [1:45:54<3:11:21, 28.77s/it, v_num=a0_1, total_loss_train=504, kl_local_train=128, metric_mi|age_categorical_train=0.376]"
     ]
    },
    {
     "name": "stdout",
     "output_type": "stream",
     "text": [
      "\r\n",
      "Epoch 202/600:  34%|███▎      | 202/600 [1:46:23<3:09:46, 28.61s/it, v_num=a0_1, total_loss_train=504, kl_local_train=128, metric_mi|age_categorical_train=0.376]"
     ]
    },
    {
     "name": "stdout",
     "output_type": "stream",
     "text": [
      "\r\n",
      "Epoch 202/600:  34%|███▎      | 202/600 [1:46:23<3:09:46, 28.61s/it, v_num=a0_1, total_loss_train=504, kl_local_train=127, metric_mi|age_categorical_train=0.376]"
     ]
    },
    {
     "name": "stdout",
     "output_type": "stream",
     "text": [
      "\r\n",
      "Epoch 203/600:  34%|███▎      | 202/600 [1:46:23<3:09:46, 28.61s/it, v_num=a0_1, total_loss_train=504, kl_local_train=127, metric_mi|age_categorical_train=0.376]"
     ]
    },
    {
     "name": "stdout",
     "output_type": "stream",
     "text": [
      "\r\n",
      "Epoch 203/600:  34%|███▍      | 203/600 [1:46:51<3:08:38, 28.51s/it, v_num=a0_1, total_loss_train=504, kl_local_train=127, metric_mi|age_categorical_train=0.376]"
     ]
    },
    {
     "name": "stdout",
     "output_type": "stream",
     "text": [
      "\r\n",
      "Epoch 203/600:  34%|███▍      | 203/600 [1:46:51<3:08:38, 28.51s/it, v_num=a0_1, total_loss_train=504, kl_local_train=127, metric_mi|age_categorical_train=0.376]"
     ]
    },
    {
     "name": "stdout",
     "output_type": "stream",
     "text": [
      "\r\n",
      "Epoch 204/600:  34%|███▍      | 203/600 [1:46:51<3:08:38, 28.51s/it, v_num=a0_1, total_loss_train=504, kl_local_train=127, metric_mi|age_categorical_train=0.376]"
     ]
    },
    {
     "name": "stdout",
     "output_type": "stream",
     "text": [
      "\r\n",
      "Epoch 204/600:  34%|███▍      | 204/600 [1:47:19<3:07:43, 28.44s/it, v_num=a0_1, total_loss_train=504, kl_local_train=127, metric_mi|age_categorical_train=0.376]"
     ]
    },
    {
     "name": "stdout",
     "output_type": "stream",
     "text": [
      "\r\n",
      "Epoch 204/600:  34%|███▍      | 204/600 [1:47:19<3:07:43, 28.44s/it, v_num=a0_1, total_loss_train=504, kl_local_train=126, metric_mi|age_categorical_train=0.376]"
     ]
    },
    {
     "name": "stdout",
     "output_type": "stream",
     "text": [
      "\r\n",
      "Epoch 205/600:  34%|███▍      | 204/600 [1:47:19<3:07:43, 28.44s/it, v_num=a0_1, total_loss_train=504, kl_local_train=126, metric_mi|age_categorical_train=0.376]"
     ]
    },
    {
     "name": "stdout",
     "output_type": "stream",
     "text": [
      "\r\n",
      "Epoch 205/600:  34%|███▍      | 205/600 [1:47:49<3:09:17, 28.75s/it, v_num=a0_1, total_loss_train=504, kl_local_train=126, metric_mi|age_categorical_train=0.376]"
     ]
    },
    {
     "name": "stdout",
     "output_type": "stream",
     "text": [
      "\r\n",
      "Epoch 205/600:  34%|███▍      | 205/600 [1:47:49<3:09:17, 28.75s/it, v_num=a0_1, total_loss_train=504, kl_local_train=126, metric_mi|age_categorical_train=0.376]"
     ]
    },
    {
     "name": "stdout",
     "output_type": "stream",
     "text": [
      "\r\n",
      "Epoch 206/600:  34%|███▍      | 205/600 [1:47:49<3:09:17, 28.75s/it, v_num=a0_1, total_loss_train=504, kl_local_train=126, metric_mi|age_categorical_train=0.376]"
     ]
    },
    {
     "name": "stdout",
     "output_type": "stream",
     "text": [
      "\r\n",
      "Epoch 206/600:  34%|███▍      | 206/600 [1:48:18<3:09:03, 28.79s/it, v_num=a0_1, total_loss_train=504, kl_local_train=126, metric_mi|age_categorical_train=0.376]"
     ]
    },
    {
     "name": "stdout",
     "output_type": "stream",
     "text": [
      "\r\n",
      "Epoch 206/600:  34%|███▍      | 206/600 [1:48:18<3:09:03, 28.79s/it, v_num=a0_1, total_loss_train=505, kl_local_train=125, metric_mi|age_categorical_train=0.378]"
     ]
    },
    {
     "name": "stdout",
     "output_type": "stream",
     "text": [
      "\r\n",
      "Epoch 207/600:  34%|███▍      | 206/600 [1:48:18<3:09:03, 28.79s/it, v_num=a0_1, total_loss_train=505, kl_local_train=125, metric_mi|age_categorical_train=0.378]"
     ]
    },
    {
     "name": "stdout",
     "output_type": "stream",
     "text": [
      "\r\n",
      "Epoch 207/600:  34%|███▍      | 207/600 [1:48:46<3:08:17, 28.75s/it, v_num=a0_1, total_loss_train=505, kl_local_train=125, metric_mi|age_categorical_train=0.378]"
     ]
    },
    {
     "name": "stdout",
     "output_type": "stream",
     "text": [
      "\r\n",
      "Epoch 207/600:  34%|███▍      | 207/600 [1:48:46<3:08:17, 28.75s/it, v_num=a0_1, total_loss_train=504, kl_local_train=126, metric_mi|age_categorical_train=0.378]"
     ]
    },
    {
     "name": "stdout",
     "output_type": "stream",
     "text": [
      "\r\n",
      "Epoch 208/600:  34%|███▍      | 207/600 [1:48:46<3:08:17, 28.75s/it, v_num=a0_1, total_loss_train=504, kl_local_train=126, metric_mi|age_categorical_train=0.378]"
     ]
    },
    {
     "name": "stdout",
     "output_type": "stream",
     "text": [
      "\r\n",
      "Epoch 208/600:  35%|███▍      | 208/600 [1:49:15<3:07:03, 28.63s/it, v_num=a0_1, total_loss_train=504, kl_local_train=126, metric_mi|age_categorical_train=0.378]"
     ]
    },
    {
     "name": "stdout",
     "output_type": "stream",
     "text": [
      "\r\n",
      "Epoch 208/600:  35%|███▍      | 208/600 [1:49:15<3:07:03, 28.63s/it, v_num=a0_1, total_loss_train=505, kl_local_train=126, metric_mi|age_categorical_train=0.378]"
     ]
    },
    {
     "name": "stdout",
     "output_type": "stream",
     "text": [
      "\r\n",
      "Epoch 209/600:  35%|███▍      | 208/600 [1:49:15<3:07:03, 28.63s/it, v_num=a0_1, total_loss_train=505, kl_local_train=126, metric_mi|age_categorical_train=0.378]"
     ]
    },
    {
     "name": "stdout",
     "output_type": "stream",
     "text": [
      "\r\n",
      "Epoch 209/600:  35%|███▍      | 209/600 [1:49:43<3:05:57, 28.54s/it, v_num=a0_1, total_loss_train=505, kl_local_train=126, metric_mi|age_categorical_train=0.378]"
     ]
    },
    {
     "name": "stdout",
     "output_type": "stream",
     "text": [
      "\r\n",
      "Epoch 209/600:  35%|███▍      | 209/600 [1:49:43<3:05:57, 28.54s/it, v_num=a0_1, total_loss_train=505, kl_local_train=125, metric_mi|age_categorical_train=0.378]"
     ]
    },
    {
     "name": "stdout",
     "output_type": "stream",
     "text": [
      "\r\n",
      "Epoch 210/600:  35%|███▍      | 209/600 [1:49:43<3:05:57, 28.54s/it, v_num=a0_1, total_loss_train=505, kl_local_train=125, metric_mi|age_categorical_train=0.378]"
     ]
    },
    {
     "name": "stdout",
     "output_type": "stream",
     "text": [
      "\r\n",
      "Epoch 210/600:  35%|███▌      | 210/600 [1:50:12<3:07:28, 28.84s/it, v_num=a0_1, total_loss_train=505, kl_local_train=125, metric_mi|age_categorical_train=0.378]"
     ]
    },
    {
     "name": "stdout",
     "output_type": "stream",
     "text": [
      "\r\n",
      "Epoch 210/600:  35%|███▌      | 210/600 [1:50:12<3:07:28, 28.84s/it, v_num=a0_1, total_loss_train=505, kl_local_train=125, metric_mi|age_categorical_train=0.378]"
     ]
    },
    {
     "name": "stdout",
     "output_type": "stream",
     "text": [
      "\r\n",
      "Epoch 211/600:  35%|███▌      | 210/600 [1:50:13<3:07:28, 28.84s/it, v_num=a0_1, total_loss_train=505, kl_local_train=125, metric_mi|age_categorical_train=0.378]"
     ]
    },
    {
     "name": "stdout",
     "output_type": "stream",
     "text": [
      "\r\n",
      "Epoch 211/600:  35%|███▌      | 211/600 [1:50:41<3:06:51, 28.82s/it, v_num=a0_1, total_loss_train=505, kl_local_train=125, metric_mi|age_categorical_train=0.378]"
     ]
    },
    {
     "name": "stdout",
     "output_type": "stream",
     "text": [
      "\r\n",
      "Epoch 211/600:  35%|███▌      | 211/600 [1:50:41<3:06:51, 28.82s/it, v_num=a0_1, total_loss_train=505, kl_local_train=125, metric_mi|age_categorical_train=0.355]"
     ]
    },
    {
     "name": "stdout",
     "output_type": "stream",
     "text": [
      "\r\n",
      "Epoch 212/600:  35%|███▌      | 211/600 [1:50:41<3:06:51, 28.82s/it, v_num=a0_1, total_loss_train=505, kl_local_train=125, metric_mi|age_categorical_train=0.355]"
     ]
    },
    {
     "name": "stdout",
     "output_type": "stream",
     "text": [
      "\r\n",
      "Epoch 212/600:  35%|███▌      | 212/600 [1:51:10<3:05:20, 28.66s/it, v_num=a0_1, total_loss_train=505, kl_local_train=125, metric_mi|age_categorical_train=0.355]"
     ]
    },
    {
     "name": "stdout",
     "output_type": "stream",
     "text": [
      "\r\n",
      "Epoch 212/600:  35%|███▌      | 212/600 [1:51:10<3:05:20, 28.66s/it, v_num=a0_1, total_loss_train=505, kl_local_train=125, metric_mi|age_categorical_train=0.355]"
     ]
    },
    {
     "name": "stdout",
     "output_type": "stream",
     "text": [
      "\r\n",
      "Epoch 213/600:  35%|███▌      | 212/600 [1:51:10<3:05:20, 28.66s/it, v_num=a0_1, total_loss_train=505, kl_local_train=125, metric_mi|age_categorical_train=0.355]"
     ]
    },
    {
     "name": "stdout",
     "output_type": "stream",
     "text": [
      "\r\n",
      "Epoch 213/600:  36%|███▌      | 213/600 [1:51:37<3:03:30, 28.45s/it, v_num=a0_1, total_loss_train=505, kl_local_train=125, metric_mi|age_categorical_train=0.355]"
     ]
    },
    {
     "name": "stdout",
     "output_type": "stream",
     "text": [
      "\r\n",
      "Epoch 213/600:  36%|███▌      | 213/600 [1:51:37<3:03:30, 28.45s/it, v_num=a0_1, total_loss_train=505, kl_local_train=124, metric_mi|age_categorical_train=0.355]"
     ]
    },
    {
     "name": "stdout",
     "output_type": "stream",
     "text": [
      "\r\n",
      "Epoch 214/600:  36%|███▌      | 213/600 [1:51:38<3:03:30, 28.45s/it, v_num=a0_1, total_loss_train=505, kl_local_train=124, metric_mi|age_categorical_train=0.355]"
     ]
    },
    {
     "name": "stdout",
     "output_type": "stream",
     "text": [
      "\r\n",
      "Epoch 214/600:  36%|███▌      | 214/600 [1:52:05<3:01:58, 28.29s/it, v_num=a0_1, total_loss_train=505, kl_local_train=124, metric_mi|age_categorical_train=0.355]"
     ]
    },
    {
     "name": "stdout",
     "output_type": "stream",
     "text": [
      "\r\n",
      "Epoch 214/600:  36%|███▌      | 214/600 [1:52:05<3:01:58, 28.29s/it, v_num=a0_1, total_loss_train=505, kl_local_train=124, metric_mi|age_categorical_train=0.355]"
     ]
    },
    {
     "name": "stdout",
     "output_type": "stream",
     "text": [
      "\r\n",
      "Epoch 215/600:  36%|███▌      | 214/600 [1:52:05<3:01:58, 28.29s/it, v_num=a0_1, total_loss_train=505, kl_local_train=124, metric_mi|age_categorical_train=0.355]"
     ]
    },
    {
     "name": "stdout",
     "output_type": "stream",
     "text": [
      "\r\n",
      "Epoch 215/600:  36%|███▌      | 215/600 [1:52:34<3:02:29, 28.44s/it, v_num=a0_1, total_loss_train=505, kl_local_train=124, metric_mi|age_categorical_train=0.355]"
     ]
    },
    {
     "name": "stdout",
     "output_type": "stream",
     "text": [
      "\r\n",
      "Epoch 215/600:  36%|███▌      | 215/600 [1:52:34<3:02:29, 28.44s/it, v_num=a0_1, total_loss_train=505, kl_local_train=124, metric_mi|age_categorical_train=0.355]"
     ]
    },
    {
     "name": "stdout",
     "output_type": "stream",
     "text": [
      "\r\n",
      "Epoch 216/600:  36%|███▌      | 215/600 [1:52:35<3:02:29, 28.44s/it, v_num=a0_1, total_loss_train=505, kl_local_train=124, metric_mi|age_categorical_train=0.355]"
     ]
    },
    {
     "name": "stdout",
     "output_type": "stream",
     "text": [
      "\r\n",
      "Epoch 216/600:  36%|███▌      | 216/600 [1:53:03<3:01:58, 28.43s/it, v_num=a0_1, total_loss_train=505, kl_local_train=124, metric_mi|age_categorical_train=0.355]"
     ]
    },
    {
     "name": "stdout",
     "output_type": "stream",
     "text": [
      "\r\n",
      "Epoch 216/600:  36%|███▌      | 216/600 [1:53:03<3:01:58, 28.43s/it, v_num=a0_1, total_loss_train=505, kl_local_train=123, metric_mi|age_categorical_train=0.369]"
     ]
    },
    {
     "name": "stdout",
     "output_type": "stream",
     "text": [
      "\r\n",
      "Epoch 217/600:  36%|███▌      | 216/600 [1:53:03<3:01:58, 28.43s/it, v_num=a0_1, total_loss_train=505, kl_local_train=123, metric_mi|age_categorical_train=0.369]"
     ]
    },
    {
     "name": "stdout",
     "output_type": "stream",
     "text": [
      "\r\n",
      "Epoch 217/600:  36%|███▌      | 217/600 [1:53:30<3:00:23, 28.26s/it, v_num=a0_1, total_loss_train=505, kl_local_train=123, metric_mi|age_categorical_train=0.369]"
     ]
    },
    {
     "name": "stdout",
     "output_type": "stream",
     "text": [
      "\r\n",
      "Epoch 217/600:  36%|███▌      | 217/600 [1:53:30<3:00:23, 28.26s/it, v_num=a0_1, total_loss_train=505, kl_local_train=123, metric_mi|age_categorical_train=0.369]"
     ]
    },
    {
     "name": "stdout",
     "output_type": "stream",
     "text": [
      "\r\n",
      "Epoch 218/600:  36%|███▌      | 217/600 [1:53:30<3:00:23, 28.26s/it, v_num=a0_1, total_loss_train=505, kl_local_train=123, metric_mi|age_categorical_train=0.369]"
     ]
    },
    {
     "name": "stdout",
     "output_type": "stream",
     "text": [
      "\r\n",
      "Epoch 218/600:  36%|███▋      | 218/600 [1:53:59<2:59:38, 28.22s/it, v_num=a0_1, total_loss_train=505, kl_local_train=123, metric_mi|age_categorical_train=0.369]"
     ]
    },
    {
     "name": "stdout",
     "output_type": "stream",
     "text": [
      "\r\n",
      "Epoch 218/600:  36%|███▋      | 218/600 [1:53:59<2:59:38, 28.22s/it, v_num=a0_1, total_loss_train=505, kl_local_train=123, metric_mi|age_categorical_train=0.369]"
     ]
    },
    {
     "name": "stdout",
     "output_type": "stream",
     "text": [
      "\r\n",
      "Epoch 219/600:  36%|███▋      | 218/600 [1:53:59<2:59:38, 28.22s/it, v_num=a0_1, total_loss_train=505, kl_local_train=123, metric_mi|age_categorical_train=0.369]"
     ]
    },
    {
     "name": "stdout",
     "output_type": "stream",
     "text": [
      "\r\n",
      "Epoch 219/600:  36%|███▋      | 219/600 [1:54:27<2:58:46, 28.15s/it, v_num=a0_1, total_loss_train=505, kl_local_train=123, metric_mi|age_categorical_train=0.369]"
     ]
    },
    {
     "name": "stdout",
     "output_type": "stream",
     "text": [
      "\r\n",
      "Epoch 219/600:  36%|███▋      | 219/600 [1:54:27<2:58:46, 28.15s/it, v_num=a0_1, total_loss_train=505, kl_local_train=123, metric_mi|age_categorical_train=0.369]"
     ]
    },
    {
     "name": "stdout",
     "output_type": "stream",
     "text": [
      "\r\n",
      "Epoch 220/600:  36%|███▋      | 219/600 [1:54:27<2:58:46, 28.15s/it, v_num=a0_1, total_loss_train=505, kl_local_train=123, metric_mi|age_categorical_train=0.369]"
     ]
    },
    {
     "name": "stdout",
     "output_type": "stream",
     "text": [
      "\r\n",
      "Epoch 220/600:  37%|███▋      | 220/600 [1:54:56<3:00:25, 28.49s/it, v_num=a0_1, total_loss_train=505, kl_local_train=123, metric_mi|age_categorical_train=0.369]"
     ]
    },
    {
     "name": "stdout",
     "output_type": "stream",
     "text": [
      "\r\n",
      "Epoch 220/600:  37%|███▋      | 220/600 [1:54:56<3:00:25, 28.49s/it, v_num=a0_1, total_loss_train=505, kl_local_train=123, metric_mi|age_categorical_train=0.369]"
     ]
    },
    {
     "name": "stdout",
     "output_type": "stream",
     "text": [
      "\r\n",
      "Epoch 221/600:  37%|███▋      | 220/600 [1:54:56<3:00:25, 28.49s/it, v_num=a0_1, total_loss_train=505, kl_local_train=123, metric_mi|age_categorical_train=0.369]"
     ]
    },
    {
     "name": "stdout",
     "output_type": "stream",
     "text": [
      "\r\n",
      "Epoch 221/600:  37%|███▋      | 221/600 [1:55:24<3:00:05, 28.51s/it, v_num=a0_1, total_loss_train=505, kl_local_train=123, metric_mi|age_categorical_train=0.369]"
     ]
    },
    {
     "name": "stdout",
     "output_type": "stream",
     "text": [
      "\r\n",
      "Epoch 221/600:  37%|███▋      | 221/600 [1:55:24<3:00:05, 28.51s/it, v_num=a0_1, total_loss_train=506, kl_local_train=122, metric_mi|age_categorical_train=0.368]"
     ]
    },
    {
     "name": "stdout",
     "output_type": "stream",
     "text": [
      "\r\n",
      "Epoch 222/600:  37%|███▋      | 221/600 [1:55:24<3:00:05, 28.51s/it, v_num=a0_1, total_loss_train=506, kl_local_train=122, metric_mi|age_categorical_train=0.368]"
     ]
    },
    {
     "name": "stdout",
     "output_type": "stream",
     "text": [
      "\r\n",
      "Epoch 222/600:  37%|███▋      | 222/600 [1:55:52<2:58:30, 28.34s/it, v_num=a0_1, total_loss_train=506, kl_local_train=122, metric_mi|age_categorical_train=0.368]"
     ]
    },
    {
     "name": "stdout",
     "output_type": "stream",
     "text": [
      "\r\n",
      "Epoch 222/600:  37%|███▋      | 222/600 [1:55:52<2:58:30, 28.34s/it, v_num=a0_1, total_loss_train=506, kl_local_train=122, metric_mi|age_categorical_train=0.368]"
     ]
    },
    {
     "name": "stdout",
     "output_type": "stream",
     "text": [
      "\r\n",
      "Epoch 223/600:  37%|███▋      | 222/600 [1:55:52<2:58:30, 28.34s/it, v_num=a0_1, total_loss_train=506, kl_local_train=122, metric_mi|age_categorical_train=0.368]"
     ]
    },
    {
     "name": "stdout",
     "output_type": "stream",
     "text": [
      "\r\n",
      "Epoch 223/600:  37%|███▋      | 223/600 [1:56:20<2:57:24, 28.23s/it, v_num=a0_1, total_loss_train=506, kl_local_train=122, metric_mi|age_categorical_train=0.368]"
     ]
    },
    {
     "name": "stdout",
     "output_type": "stream",
     "text": [
      "\r\n",
      "Epoch 223/600:  37%|███▋      | 223/600 [1:56:20<2:57:24, 28.23s/it, v_num=a0_1, total_loss_train=506, kl_local_train=121, metric_mi|age_categorical_train=0.368]"
     ]
    },
    {
     "name": "stdout",
     "output_type": "stream",
     "text": [
      "\r\n",
      "Epoch 224/600:  37%|███▋      | 223/600 [1:56:20<2:57:24, 28.23s/it, v_num=a0_1, total_loss_train=506, kl_local_train=121, metric_mi|age_categorical_train=0.368]"
     ]
    },
    {
     "name": "stdout",
     "output_type": "stream",
     "text": [
      "\r\n",
      "Epoch 224/600:  37%|███▋      | 224/600 [1:56:48<2:56:27, 28.16s/it, v_num=a0_1, total_loss_train=506, kl_local_train=121, metric_mi|age_categorical_train=0.368]"
     ]
    },
    {
     "name": "stdout",
     "output_type": "stream",
     "text": [
      "\r\n",
      "Epoch 224/600:  37%|███▋      | 224/600 [1:56:48<2:56:27, 28.16s/it, v_num=a0_1, total_loss_train=506, kl_local_train=122, metric_mi|age_categorical_train=0.368]"
     ]
    },
    {
     "name": "stdout",
     "output_type": "stream",
     "text": [
      "\r\n",
      "Epoch 225/600:  37%|███▋      | 224/600 [1:56:48<2:56:27, 28.16s/it, v_num=a0_1, total_loss_train=506, kl_local_train=122, metric_mi|age_categorical_train=0.368]"
     ]
    },
    {
     "name": "stdout",
     "output_type": "stream",
     "text": [
      "\r\n",
      "Epoch 225/600:  38%|███▊      | 225/600 [1:57:17<2:57:45, 28.44s/it, v_num=a0_1, total_loss_train=506, kl_local_train=122, metric_mi|age_categorical_train=0.368]"
     ]
    },
    {
     "name": "stdout",
     "output_type": "stream",
     "text": [
      "\r\n",
      "Epoch 225/600:  38%|███▊      | 225/600 [1:57:17<2:57:45, 28.44s/it, v_num=a0_1, total_loss_train=506, kl_local_train=121, metric_mi|age_categorical_train=0.368]"
     ]
    },
    {
     "name": "stdout",
     "output_type": "stream",
     "text": [
      "\r\n",
      "Epoch 226/600:  38%|███▊      | 225/600 [1:57:18<2:57:45, 28.44s/it, v_num=a0_1, total_loss_train=506, kl_local_train=121, metric_mi|age_categorical_train=0.368]"
     ]
    },
    {
     "name": "stdout",
     "output_type": "stream",
     "text": [
      "\r\n",
      "Epoch 226/600:  38%|███▊      | 226/600 [1:57:46<2:57:25, 28.46s/it, v_num=a0_1, total_loss_train=506, kl_local_train=121, metric_mi|age_categorical_train=0.368]"
     ]
    },
    {
     "name": "stdout",
     "output_type": "stream",
     "text": [
      "\r\n",
      "Epoch 226/600:  38%|███▊      | 226/600 [1:57:46<2:57:25, 28.46s/it, v_num=a0_1, total_loss_train=506, kl_local_train=121, metric_mi|age_categorical_train=0.359]"
     ]
    },
    {
     "name": "stdout",
     "output_type": "stream",
     "text": [
      "\r\n",
      "Epoch 227/600:  38%|███▊      | 226/600 [1:57:46<2:57:25, 28.46s/it, v_num=a0_1, total_loss_train=506, kl_local_train=121, metric_mi|age_categorical_train=0.359]"
     ]
    },
    {
     "name": "stdout",
     "output_type": "stream",
     "text": [
      "\r\n",
      "Epoch 227/600:  38%|███▊      | 227/600 [1:58:14<2:55:58, 28.31s/it, v_num=a0_1, total_loss_train=506, kl_local_train=121, metric_mi|age_categorical_train=0.359]"
     ]
    },
    {
     "name": "stdout",
     "output_type": "stream",
     "text": [
      "\r\n",
      "Epoch 227/600:  38%|███▊      | 227/600 [1:58:14<2:55:58, 28.31s/it, v_num=a0_1, total_loss_train=507, kl_local_train=122, metric_mi|age_categorical_train=0.359]"
     ]
    },
    {
     "name": "stdout",
     "output_type": "stream",
     "text": [
      "\r\n",
      "Epoch 228/600:  38%|███▊      | 227/600 [1:58:14<2:55:58, 28.31s/it, v_num=a0_1, total_loss_train=507, kl_local_train=122, metric_mi|age_categorical_train=0.359]"
     ]
    },
    {
     "name": "stdout",
     "output_type": "stream",
     "text": [
      "\r\n",
      "Epoch 228/600:  38%|███▊      | 228/600 [1:58:42<2:55:10, 28.25s/it, v_num=a0_1, total_loss_train=507, kl_local_train=122, metric_mi|age_categorical_train=0.359]"
     ]
    },
    {
     "name": "stdout",
     "output_type": "stream",
     "text": [
      "\r\n",
      "Epoch 228/600:  38%|███▊      | 228/600 [1:58:42<2:55:10, 28.25s/it, v_num=a0_1, total_loss_train=507, kl_local_train=121, metric_mi|age_categorical_train=0.359]"
     ]
    },
    {
     "name": "stdout",
     "output_type": "stream",
     "text": [
      "\r\n",
      "Epoch 229/600:  38%|███▊      | 228/600 [1:58:42<2:55:10, 28.25s/it, v_num=a0_1, total_loss_train=507, kl_local_train=121, metric_mi|age_categorical_train=0.359]"
     ]
    },
    {
     "name": "stdout",
     "output_type": "stream",
     "text": [
      "\r\n",
      "Epoch 229/600:  38%|███▊      | 229/600 [1:59:10<2:54:07, 28.16s/it, v_num=a0_1, total_loss_train=507, kl_local_train=121, metric_mi|age_categorical_train=0.359]"
     ]
    },
    {
     "name": "stdout",
     "output_type": "stream",
     "text": [
      "\r\n",
      "Epoch 229/600:  38%|███▊      | 229/600 [1:59:10<2:54:07, 28.16s/it, v_num=a0_1, total_loss_train=507, kl_local_train=121, metric_mi|age_categorical_train=0.359]"
     ]
    },
    {
     "name": "stdout",
     "output_type": "stream",
     "text": [
      "\r\n",
      "Epoch 230/600:  38%|███▊      | 229/600 [1:59:10<2:54:07, 28.16s/it, v_num=a0_1, total_loss_train=507, kl_local_train=121, metric_mi|age_categorical_train=0.359]"
     ]
    },
    {
     "name": "stdout",
     "output_type": "stream",
     "text": [
      "\r\n",
      "Epoch 230/600:  38%|███▊      | 230/600 [1:59:39<2:55:24, 28.45s/it, v_num=a0_1, total_loss_train=507, kl_local_train=121, metric_mi|age_categorical_train=0.359]"
     ]
    },
    {
     "name": "stdout",
     "output_type": "stream",
     "text": [
      "\r\n",
      "Epoch 230/600:  38%|███▊      | 230/600 [1:59:39<2:55:24, 28.45s/it, v_num=a0_1, total_loss_train=507, kl_local_train=121, metric_mi|age_categorical_train=0.359]"
     ]
    },
    {
     "name": "stdout",
     "output_type": "stream",
     "text": [
      "\r\n",
      "Epoch 231/600:  38%|███▊      | 230/600 [1:59:40<2:55:24, 28.45s/it, v_num=a0_1, total_loss_train=507, kl_local_train=121, metric_mi|age_categorical_train=0.359]"
     ]
    },
    {
     "name": "stdout",
     "output_type": "stream",
     "text": [
      "\r\n",
      "Epoch 231/600:  38%|███▊      | 231/600 [2:00:08<2:55:19, 28.51s/it, v_num=a0_1, total_loss_train=507, kl_local_train=121, metric_mi|age_categorical_train=0.359]"
     ]
    },
    {
     "name": "stdout",
     "output_type": "stream",
     "text": [
      "\r\n",
      "Epoch 231/600:  38%|███▊      | 231/600 [2:00:08<2:55:19, 28.51s/it, v_num=a0_1, total_loss_train=507, kl_local_train=120, metric_mi|age_categorical_train=0.374]"
     ]
    },
    {
     "name": "stdout",
     "output_type": "stream",
     "text": [
      "\r\n",
      "Epoch 232/600:  38%|███▊      | 231/600 [2:00:08<2:55:19, 28.51s/it, v_num=a0_1, total_loss_train=507, kl_local_train=120, metric_mi|age_categorical_train=0.374]"
     ]
    },
    {
     "name": "stdout",
     "output_type": "stream",
     "text": [
      "\r\n",
      "Epoch 232/600:  39%|███▊      | 232/600 [2:00:36<2:53:54, 28.36s/it, v_num=a0_1, total_loss_train=507, kl_local_train=120, metric_mi|age_categorical_train=0.374]"
     ]
    },
    {
     "name": "stdout",
     "output_type": "stream",
     "text": [
      "\r\n",
      "Epoch 232/600:  39%|███▊      | 232/600 [2:00:36<2:53:54, 28.36s/it, v_num=a0_1, total_loss_train=507, kl_local_train=120, metric_mi|age_categorical_train=0.374]"
     ]
    },
    {
     "name": "stdout",
     "output_type": "stream",
     "text": [
      "\r\n",
      "Epoch 233/600:  39%|███▊      | 232/600 [2:00:36<2:53:54, 28.36s/it, v_num=a0_1, total_loss_train=507, kl_local_train=120, metric_mi|age_categorical_train=0.374]"
     ]
    },
    {
     "name": "stdout",
     "output_type": "stream",
     "text": [
      "\r\n",
      "Epoch 233/600:  39%|███▉      | 233/600 [2:01:04<2:52:46, 28.25s/it, v_num=a0_1, total_loss_train=507, kl_local_train=120, metric_mi|age_categorical_train=0.374]"
     ]
    },
    {
     "name": "stdout",
     "output_type": "stream",
     "text": [
      "\r\n",
      "Epoch 233/600:  39%|███▉      | 233/600 [2:01:04<2:52:46, 28.25s/it, v_num=a0_1, total_loss_train=507, kl_local_train=120, metric_mi|age_categorical_train=0.374]"
     ]
    },
    {
     "name": "stdout",
     "output_type": "stream",
     "text": [
      "\r\n",
      "Epoch 234/600:  39%|███▉      | 233/600 [2:01:04<2:52:46, 28.25s/it, v_num=a0_1, total_loss_train=507, kl_local_train=120, metric_mi|age_categorical_train=0.374]"
     ]
    },
    {
     "name": "stdout",
     "output_type": "stream",
     "text": [
      "\r\n",
      "Epoch 234/600:  39%|███▉      | 234/600 [2:01:32<2:51:51, 28.17s/it, v_num=a0_1, total_loss_train=507, kl_local_train=120, metric_mi|age_categorical_train=0.374]"
     ]
    },
    {
     "name": "stdout",
     "output_type": "stream",
     "text": [
      "\r\n",
      "Epoch 234/600:  39%|███▉      | 234/600 [2:01:32<2:51:51, 28.17s/it, v_num=a0_1, total_loss_train=508, kl_local_train=119, metric_mi|age_categorical_train=0.374]"
     ]
    },
    {
     "name": "stdout",
     "output_type": "stream",
     "text": [
      "\r\n",
      "Epoch 235/600:  39%|███▉      | 234/600 [2:01:32<2:51:51, 28.17s/it, v_num=a0_1, total_loss_train=508, kl_local_train=119, metric_mi|age_categorical_train=0.374]"
     ]
    },
    {
     "name": "stdout",
     "output_type": "stream",
     "text": [
      "\r\n",
      "Epoch 235/600:  39%|███▉      | 235/600 [2:02:01<2:53:38, 28.54s/it, v_num=a0_1, total_loss_train=508, kl_local_train=119, metric_mi|age_categorical_train=0.374]"
     ]
    },
    {
     "name": "stdout",
     "output_type": "stream",
     "text": [
      "\r\n",
      "Epoch 235/600:  39%|███▉      | 235/600 [2:02:01<2:53:38, 28.54s/it, v_num=a0_1, total_loss_train=508, kl_local_train=120, metric_mi|age_categorical_train=0.374]"
     ]
    },
    {
     "name": "stdout",
     "output_type": "stream",
     "text": [
      "\r\n",
      "Epoch 236/600:  39%|███▉      | 235/600 [2:02:02<2:53:38, 28.54s/it, v_num=a0_1, total_loss_train=508, kl_local_train=120, metric_mi|age_categorical_train=0.374]"
     ]
    },
    {
     "name": "stdout",
     "output_type": "stream",
     "text": [
      "\r\n",
      "Epoch 236/600:  39%|███▉      | 236/600 [2:02:30<2:53:04, 28.53s/it, v_num=a0_1, total_loss_train=508, kl_local_train=120, metric_mi|age_categorical_train=0.374]"
     ]
    },
    {
     "name": "stdout",
     "output_type": "stream",
     "text": [
      "\r\n",
      "Epoch 236/600:  39%|███▉      | 236/600 [2:02:30<2:53:04, 28.53s/it, v_num=a0_1, total_loss_train=508, kl_local_train=119, metric_mi|age_categorical_train=0.37] "
     ]
    },
    {
     "name": "stdout",
     "output_type": "stream",
     "text": [
      "\r\n",
      "Epoch 237/600:  39%|███▉      | 236/600 [2:02:30<2:53:04, 28.53s/it, v_num=a0_1, total_loss_train=508, kl_local_train=119, metric_mi|age_categorical_train=0.37]"
     ]
    },
    {
     "name": "stdout",
     "output_type": "stream",
     "text": [
      "\r\n",
      "Epoch 237/600:  40%|███▉      | 237/600 [2:02:58<2:51:52, 28.41s/it, v_num=a0_1, total_loss_train=508, kl_local_train=119, metric_mi|age_categorical_train=0.37]"
     ]
    },
    {
     "name": "stdout",
     "output_type": "stream",
     "text": [
      "\r\n",
      "Epoch 237/600:  40%|███▉      | 237/600 [2:02:58<2:51:52, 28.41s/it, v_num=a0_1, total_loss_train=508, kl_local_train=119, metric_mi|age_categorical_train=0.37]"
     ]
    },
    {
     "name": "stdout",
     "output_type": "stream",
     "text": [
      "\r\n",
      "Epoch 238/600:  40%|███▉      | 237/600 [2:02:58<2:51:52, 28.41s/it, v_num=a0_1, total_loss_train=508, kl_local_train=119, metric_mi|age_categorical_train=0.37]"
     ]
    },
    {
     "name": "stdout",
     "output_type": "stream",
     "text": [
      "\r\n",
      "Epoch 238/600:  40%|███▉      | 238/600 [2:03:27<2:52:14, 28.55s/it, v_num=a0_1, total_loss_train=508, kl_local_train=119, metric_mi|age_categorical_train=0.37]"
     ]
    },
    {
     "name": "stdout",
     "output_type": "stream",
     "text": [
      "\r\n",
      "Epoch 238/600:  40%|███▉      | 238/600 [2:03:27<2:52:14, 28.55s/it, v_num=a0_1, total_loss_train=508, kl_local_train=119, metric_mi|age_categorical_train=0.37]"
     ]
    },
    {
     "name": "stdout",
     "output_type": "stream",
     "text": [
      "\r\n",
      "Epoch 239/600:  40%|███▉      | 238/600 [2:03:27<2:52:14, 28.55s/it, v_num=a0_1, total_loss_train=508, kl_local_train=119, metric_mi|age_categorical_train=0.37]"
     ]
    },
    {
     "name": "stdout",
     "output_type": "stream",
     "text": [
      "\r\n",
      "Epoch 239/600:  40%|███▉      | 239/600 [2:03:55<2:51:33, 28.51s/it, v_num=a0_1, total_loss_train=508, kl_local_train=119, metric_mi|age_categorical_train=0.37]"
     ]
    },
    {
     "name": "stdout",
     "output_type": "stream",
     "text": [
      "\r\n",
      "Epoch 239/600:  40%|███▉      | 239/600 [2:03:55<2:51:33, 28.51s/it, v_num=a0_1, total_loss_train=508, kl_local_train=118, metric_mi|age_categorical_train=0.37]"
     ]
    },
    {
     "name": "stdout",
     "output_type": "stream",
     "text": [
      "\r\n",
      "Epoch 240/600:  40%|███▉      | 239/600 [2:03:55<2:51:33, 28.51s/it, v_num=a0_1, total_loss_train=508, kl_local_train=118, metric_mi|age_categorical_train=0.37]"
     ]
    },
    {
     "name": "stdout",
     "output_type": "stream",
     "text": [
      "\r\n",
      "Epoch 240/600:  40%|████      | 240/600 [2:04:24<2:52:03, 28.68s/it, v_num=a0_1, total_loss_train=508, kl_local_train=118, metric_mi|age_categorical_train=0.37]"
     ]
    },
    {
     "name": "stdout",
     "output_type": "stream",
     "text": [
      "\r\n",
      "Epoch 240/600:  40%|████      | 240/600 [2:04:24<2:52:03, 28.68s/it, v_num=a0_1, total_loss_train=508, kl_local_train=119, metric_mi|age_categorical_train=0.37]"
     ]
    },
    {
     "name": "stdout",
     "output_type": "stream",
     "text": [
      "\r\n",
      "Epoch 241/600:  40%|████      | 240/600 [2:04:25<2:52:03, 28.68s/it, v_num=a0_1, total_loss_train=508, kl_local_train=119, metric_mi|age_categorical_train=0.37]"
     ]
    },
    {
     "name": "stdout",
     "output_type": "stream",
     "text": [
      "\r\n",
      "Epoch 241/600:  40%|████      | 241/600 [2:04:53<2:51:20, 28.64s/it, v_num=a0_1, total_loss_train=508, kl_local_train=119, metric_mi|age_categorical_train=0.37]"
     ]
    },
    {
     "name": "stdout",
     "output_type": "stream",
     "text": [
      "\r\n",
      "Epoch 241/600:  40%|████      | 241/600 [2:04:53<2:51:20, 28.64s/it, v_num=a0_1, total_loss_train=508, kl_local_train=117, metric_mi|age_categorical_train=0.363]"
     ]
    },
    {
     "name": "stdout",
     "output_type": "stream",
     "text": [
      "\r\n",
      "Epoch 242/600:  40%|████      | 241/600 [2:04:53<2:51:20, 28.64s/it, v_num=a0_1, total_loss_train=508, kl_local_train=117, metric_mi|age_categorical_train=0.363]"
     ]
    },
    {
     "name": "stdout",
     "output_type": "stream",
     "text": [
      "\r\n",
      "Epoch 242/600:  40%|████      | 242/600 [2:05:21<2:49:46, 28.46s/it, v_num=a0_1, total_loss_train=508, kl_local_train=117, metric_mi|age_categorical_train=0.363]"
     ]
    },
    {
     "name": "stdout",
     "output_type": "stream",
     "text": [
      "\r\n",
      "Epoch 242/600:  40%|████      | 242/600 [2:05:21<2:49:46, 28.46s/it, v_num=a0_1, total_loss_train=508, kl_local_train=118, metric_mi|age_categorical_train=0.363]"
     ]
    },
    {
     "name": "stdout",
     "output_type": "stream",
     "text": [
      "\r\n",
      "Epoch 243/600:  40%|████      | 242/600 [2:05:21<2:49:46, 28.46s/it, v_num=a0_1, total_loss_train=508, kl_local_train=118, metric_mi|age_categorical_train=0.363]"
     ]
    },
    {
     "name": "stdout",
     "output_type": "stream",
     "text": [
      "\r\n",
      "Epoch 243/600:  40%|████      | 243/600 [2:05:49<2:49:14, 28.44s/it, v_num=a0_1, total_loss_train=508, kl_local_train=118, metric_mi|age_categorical_train=0.363]"
     ]
    },
    {
     "name": "stdout",
     "output_type": "stream",
     "text": [
      "\r\n",
      "Epoch 243/600:  40%|████      | 243/600 [2:05:49<2:49:14, 28.44s/it, v_num=a0_1, total_loss_train=508, kl_local_train=117, metric_mi|age_categorical_train=0.363]"
     ]
    },
    {
     "name": "stdout",
     "output_type": "stream",
     "text": [
      "\r\n",
      "Epoch 244/600:  40%|████      | 243/600 [2:05:49<2:49:14, 28.44s/it, v_num=a0_1, total_loss_train=508, kl_local_train=117, metric_mi|age_categorical_train=0.363]"
     ]
    },
    {
     "name": "stdout",
     "output_type": "stream",
     "text": [
      "\r\n",
      "Epoch 244/600:  41%|████      | 244/600 [2:06:17<2:48:01, 28.32s/it, v_num=a0_1, total_loss_train=508, kl_local_train=117, metric_mi|age_categorical_train=0.363]"
     ]
    },
    {
     "name": "stdout",
     "output_type": "stream",
     "text": [
      "\r\n",
      "Epoch 244/600:  41%|████      | 244/600 [2:06:17<2:48:01, 28.32s/it, v_num=a0_1, total_loss_train=509, kl_local_train=118, metric_mi|age_categorical_train=0.363]"
     ]
    },
    {
     "name": "stdout",
     "output_type": "stream",
     "text": [
      "\r\n",
      "Epoch 245/600:  41%|████      | 244/600 [2:06:17<2:48:01, 28.32s/it, v_num=a0_1, total_loss_train=509, kl_local_train=118, metric_mi|age_categorical_train=0.363]"
     ]
    },
    {
     "name": "stdout",
     "output_type": "stream",
     "text": [
      "\r\n",
      "Epoch 245/600:  41%|████      | 245/600 [2:06:46<2:48:52, 28.54s/it, v_num=a0_1, total_loss_train=509, kl_local_train=118, metric_mi|age_categorical_train=0.363]"
     ]
    },
    {
     "name": "stdout",
     "output_type": "stream",
     "text": [
      "\r\n",
      "Epoch 245/600:  41%|████      | 245/600 [2:06:46<2:48:52, 28.54s/it, v_num=a0_1, total_loss_train=509, kl_local_train=117, metric_mi|age_categorical_train=0.363]"
     ]
    },
    {
     "name": "stdout",
     "output_type": "stream",
     "text": [
      "\r\n",
      "Epoch 246/600:  41%|████      | 245/600 [2:06:47<2:48:52, 28.54s/it, v_num=a0_1, total_loss_train=509, kl_local_train=117, metric_mi|age_categorical_train=0.363]"
     ]
    },
    {
     "name": "stdout",
     "output_type": "stream",
     "text": [
      "\r\n",
      "Epoch 246/600:  41%|████      | 246/600 [2:07:15<2:48:42, 28.59s/it, v_num=a0_1, total_loss_train=509, kl_local_train=117, metric_mi|age_categorical_train=0.363]"
     ]
    },
    {
     "name": "stdout",
     "output_type": "stream",
     "text": [
      "\r\n",
      "Epoch 246/600:  41%|████      | 246/600 [2:07:15<2:48:42, 28.59s/it, v_num=a0_1, total_loss_train=509, kl_local_train=117, metric_mi|age_categorical_train=0.37] "
     ]
    },
    {
     "name": "stdout",
     "output_type": "stream",
     "text": [
      "\r\n",
      "Epoch 247/600:  41%|████      | 246/600 [2:07:15<2:48:42, 28.59s/it, v_num=a0_1, total_loss_train=509, kl_local_train=117, metric_mi|age_categorical_train=0.37]"
     ]
    },
    {
     "name": "stdout",
     "output_type": "stream",
     "text": [
      "\r\n",
      "Epoch 247/600:  41%|████      | 247/600 [2:07:43<2:47:50, 28.53s/it, v_num=a0_1, total_loss_train=509, kl_local_train=117, metric_mi|age_categorical_train=0.37]"
     ]
    },
    {
     "name": "stdout",
     "output_type": "stream",
     "text": [
      "\r\n",
      "Epoch 247/600:  41%|████      | 247/600 [2:07:43<2:47:50, 28.53s/it, v_num=a0_1, total_loss_train=509, kl_local_train=117, metric_mi|age_categorical_train=0.37]"
     ]
    },
    {
     "name": "stdout",
     "output_type": "stream",
     "text": [
      "\r\n",
      "Epoch 248/600:  41%|████      | 247/600 [2:07:43<2:47:50, 28.53s/it, v_num=a0_1, total_loss_train=509, kl_local_train=117, metric_mi|age_categorical_train=0.37]"
     ]
    },
    {
     "name": "stdout",
     "output_type": "stream",
     "text": [
      "\r\n",
      "Epoch 248/600:  41%|████▏     | 248/600 [2:08:12<2:46:48, 28.43s/it, v_num=a0_1, total_loss_train=509, kl_local_train=117, metric_mi|age_categorical_train=0.37]"
     ]
    },
    {
     "name": "stdout",
     "output_type": "stream",
     "text": [
      "\r\n",
      "Epoch 248/600:  41%|████▏     | 248/600 [2:08:12<2:46:48, 28.43s/it, v_num=a0_1, total_loss_train=509, kl_local_train=117, metric_mi|age_categorical_train=0.37]"
     ]
    },
    {
     "name": "stdout",
     "output_type": "stream",
     "text": [
      "\r\n",
      "Epoch 249/600:  41%|████▏     | 248/600 [2:08:12<2:46:48, 28.43s/it, v_num=a0_1, total_loss_train=509, kl_local_train=117, metric_mi|age_categorical_train=0.37]"
     ]
    },
    {
     "name": "stdout",
     "output_type": "stream",
     "text": [
      "\r\n",
      "Epoch 249/600:  42%|████▏     | 249/600 [2:08:40<2:46:22, 28.44s/it, v_num=a0_1, total_loss_train=509, kl_local_train=117, metric_mi|age_categorical_train=0.37]"
     ]
    },
    {
     "name": "stdout",
     "output_type": "stream",
     "text": [
      "\r\n",
      "Epoch 249/600:  42%|████▏     | 249/600 [2:08:40<2:46:22, 28.44s/it, v_num=a0_1, total_loss_train=509, kl_local_train=116, metric_mi|age_categorical_train=0.37]"
     ]
    },
    {
     "name": "stdout",
     "output_type": "stream",
     "text": [
      "\r\n",
      "Epoch 250/600:  42%|████▏     | 249/600 [2:08:40<2:46:22, 28.44s/it, v_num=a0_1, total_loss_train=509, kl_local_train=116, metric_mi|age_categorical_train=0.37]"
     ]
    },
    {
     "name": "stdout",
     "output_type": "stream",
     "text": [
      "\r\n",
      "Epoch 250/600:  42%|████▏     | 250/600 [2:09:09<2:47:32, 28.72s/it, v_num=a0_1, total_loss_train=509, kl_local_train=116, metric_mi|age_categorical_train=0.37]"
     ]
    },
    {
     "name": "stdout",
     "output_type": "stream",
     "text": [
      "\r\n",
      "Epoch 250/600:  42%|████▏     | 250/600 [2:09:09<2:47:32, 28.72s/it, v_num=a0_1, total_loss_train=509, kl_local_train=116, metric_mi|age_categorical_train=0.37]"
     ]
    },
    {
     "name": "stdout",
     "output_type": "stream",
     "text": [
      "\r\n",
      "Epoch 251/600:  42%|████▏     | 250/600 [2:09:10<2:47:32, 28.72s/it, v_num=a0_1, total_loss_train=509, kl_local_train=116, metric_mi|age_categorical_train=0.37]"
     ]
    },
    {
     "name": "stdout",
     "output_type": "stream",
     "text": [
      "\r\n",
      "Epoch 251/600:  42%|████▏     | 251/600 [2:09:38<2:47:03, 28.72s/it, v_num=a0_1, total_loss_train=509, kl_local_train=116, metric_mi|age_categorical_train=0.37]"
     ]
    },
    {
     "name": "stdout",
     "output_type": "stream",
     "text": [
      "\r\n",
      "Epoch 251/600:  42%|████▏     | 251/600 [2:09:38<2:47:03, 28.72s/it, v_num=a0_1, total_loss_train=510, kl_local_train=116, metric_mi|age_categorical_train=0.359]"
     ]
    },
    {
     "name": "stdout",
     "output_type": "stream",
     "text": [
      "\r\n",
      "Epoch 252/600:  42%|████▏     | 251/600 [2:09:38<2:47:03, 28.72s/it, v_num=a0_1, total_loss_train=510, kl_local_train=116, metric_mi|age_categorical_train=0.359]"
     ]
    },
    {
     "name": "stdout",
     "output_type": "stream",
     "text": [
      "\r\n",
      "Epoch 252/600:  42%|████▏     | 252/600 [2:10:06<2:46:01, 28.62s/it, v_num=a0_1, total_loss_train=510, kl_local_train=116, metric_mi|age_categorical_train=0.359]"
     ]
    },
    {
     "name": "stdout",
     "output_type": "stream",
     "text": [
      "\r\n",
      "Epoch 252/600:  42%|████▏     | 252/600 [2:10:06<2:46:01, 28.62s/it, v_num=a0_1, total_loss_train=509, kl_local_train=115, metric_mi|age_categorical_train=0.359]"
     ]
    },
    {
     "name": "stdout",
     "output_type": "stream",
     "text": [
      "\r\n",
      "Epoch 253/600:  42%|████▏     | 252/600 [2:10:06<2:46:01, 28.62s/it, v_num=a0_1, total_loss_train=509, kl_local_train=115, metric_mi|age_categorical_train=0.359]"
     ]
    },
    {
     "name": "stdout",
     "output_type": "stream",
     "text": [
      "\r\n",
      "Epoch 253/600:  42%|████▏     | 253/600 [2:10:35<2:44:47, 28.49s/it, v_num=a0_1, total_loss_train=509, kl_local_train=115, metric_mi|age_categorical_train=0.359]"
     ]
    },
    {
     "name": "stdout",
     "output_type": "stream",
     "text": [
      "\r\n",
      "Epoch 253/600:  42%|████▏     | 253/600 [2:10:35<2:44:47, 28.49s/it, v_num=a0_1, total_loss_train=509, kl_local_train=115, metric_mi|age_categorical_train=0.359]"
     ]
    },
    {
     "name": "stdout",
     "output_type": "stream",
     "text": [
      "\r\n",
      "Epoch 254/600:  42%|████▏     | 253/600 [2:10:35<2:44:47, 28.49s/it, v_num=a0_1, total_loss_train=509, kl_local_train=115, metric_mi|age_categorical_train=0.359]"
     ]
    },
    {
     "name": "stdout",
     "output_type": "stream",
     "text": [
      "\r\n",
      "Epoch 254/600:  42%|████▏     | 254/600 [2:11:03<2:44:00, 28.44s/it, v_num=a0_1, total_loss_train=509, kl_local_train=115, metric_mi|age_categorical_train=0.359]"
     ]
    },
    {
     "name": "stdout",
     "output_type": "stream",
     "text": [
      "\r\n",
      "Epoch 254/600:  42%|████▏     | 254/600 [2:11:03<2:44:00, 28.44s/it, v_num=a0_1, total_loss_train=510, kl_local_train=115, metric_mi|age_categorical_train=0.359]"
     ]
    },
    {
     "name": "stdout",
     "output_type": "stream",
     "text": [
      "\r\n",
      "Epoch 255/600:  42%|████▏     | 254/600 [2:11:03<2:44:00, 28.44s/it, v_num=a0_1, total_loss_train=510, kl_local_train=115, metric_mi|age_categorical_train=0.359]"
     ]
    },
    {
     "name": "stdout",
     "output_type": "stream",
     "text": [
      "\r\n",
      "Epoch 255/600:  42%|████▎     | 255/600 [2:11:33<2:45:35, 28.80s/it, v_num=a0_1, total_loss_train=510, kl_local_train=115, metric_mi|age_categorical_train=0.359]"
     ]
    },
    {
     "name": "stdout",
     "output_type": "stream",
     "text": [
      "\r\n",
      "Epoch 255/600:  42%|████▎     | 255/600 [2:11:33<2:45:35, 28.80s/it, v_num=a0_1, total_loss_train=510, kl_local_train=115, metric_mi|age_categorical_train=0.359]"
     ]
    },
    {
     "name": "stdout",
     "output_type": "stream",
     "text": [
      "\r\n",
      "Epoch 256/600:  42%|████▎     | 255/600 [2:11:33<2:45:35, 28.80s/it, v_num=a0_1, total_loss_train=510, kl_local_train=115, metric_mi|age_categorical_train=0.359]"
     ]
    },
    {
     "name": "stdout",
     "output_type": "stream",
     "text": [
      "\r\n",
      "Epoch 256/600:  43%|████▎     | 256/600 [2:12:02<2:45:22, 28.84s/it, v_num=a0_1, total_loss_train=510, kl_local_train=115, metric_mi|age_categorical_train=0.359]"
     ]
    },
    {
     "name": "stdout",
     "output_type": "stream",
     "text": [
      "\r\n",
      "Epoch 256/600:  43%|████▎     | 256/600 [2:12:02<2:45:22, 28.84s/it, v_num=a0_1, total_loss_train=510, kl_local_train=115, metric_mi|age_categorical_train=0.355]"
     ]
    },
    {
     "name": "stdout",
     "output_type": "stream",
     "text": [
      "\r\n",
      "Epoch 257/600:  43%|████▎     | 256/600 [2:12:02<2:45:22, 28.84s/it, v_num=a0_1, total_loss_train=510, kl_local_train=115, metric_mi|age_categorical_train=0.355]"
     ]
    },
    {
     "name": "stdout",
     "output_type": "stream",
     "text": [
      "\r\n",
      "Epoch 257/600:  43%|████▎     | 257/600 [2:12:30<2:44:11, 28.72s/it, v_num=a0_1, total_loss_train=510, kl_local_train=115, metric_mi|age_categorical_train=0.355]"
     ]
    },
    {
     "name": "stdout",
     "output_type": "stream",
     "text": [
      "\r\n",
      "Epoch 257/600:  43%|████▎     | 257/600 [2:12:30<2:44:11, 28.72s/it, v_num=a0_1, total_loss_train=510, kl_local_train=114, metric_mi|age_categorical_train=0.355]"
     ]
    },
    {
     "name": "stdout",
     "output_type": "stream",
     "text": [
      "\r\n",
      "Epoch 258/600:  43%|████▎     | 257/600 [2:12:30<2:44:11, 28.72s/it, v_num=a0_1, total_loss_train=510, kl_local_train=114, metric_mi|age_categorical_train=0.355]"
     ]
    },
    {
     "name": "stdout",
     "output_type": "stream",
     "text": [
      "\r\n",
      "Epoch 258/600:  43%|████▎     | 258/600 [2:12:58<2:43:19, 28.65s/it, v_num=a0_1, total_loss_train=510, kl_local_train=114, metric_mi|age_categorical_train=0.355]"
     ]
    },
    {
     "name": "stdout",
     "output_type": "stream",
     "text": [
      "\r\n",
      "Epoch 258/600:  43%|████▎     | 258/600 [2:12:58<2:43:19, 28.65s/it, v_num=a0_1, total_loss_train=510, kl_local_train=114, metric_mi|age_categorical_train=0.355]"
     ]
    },
    {
     "name": "stdout",
     "output_type": "stream",
     "text": [
      "\r\n",
      "Epoch 259/600:  43%|████▎     | 258/600 [2:12:58<2:43:19, 28.65s/it, v_num=a0_1, total_loss_train=510, kl_local_train=114, metric_mi|age_categorical_train=0.355]"
     ]
    },
    {
     "name": "stdout",
     "output_type": "stream",
     "text": [
      "\r\n",
      "Epoch 259/600:  43%|████▎     | 259/600 [2:13:27<2:43:23, 28.75s/it, v_num=a0_1, total_loss_train=510, kl_local_train=114, metric_mi|age_categorical_train=0.355]"
     ]
    },
    {
     "name": "stdout",
     "output_type": "stream",
     "text": [
      "\r\n",
      "Epoch 259/600:  43%|████▎     | 259/600 [2:13:27<2:43:23, 28.75s/it, v_num=a0_1, total_loss_train=510, kl_local_train=114, metric_mi|age_categorical_train=0.355]"
     ]
    },
    {
     "name": "stdout",
     "output_type": "stream",
     "text": [
      "\r\n",
      "Epoch 260/600:  43%|████▎     | 259/600 [2:13:27<2:43:23, 28.75s/it, v_num=a0_1, total_loss_train=510, kl_local_train=114, metric_mi|age_categorical_train=0.355]"
     ]
    },
    {
     "name": "stdout",
     "output_type": "stream",
     "text": [
      "\r\n",
      "Epoch 260/600:  43%|████▎     | 260/600 [2:14:00<2:48:42, 29.77s/it, v_num=a0_1, total_loss_train=510, kl_local_train=114, metric_mi|age_categorical_train=0.355]"
     ]
    },
    {
     "name": "stdout",
     "output_type": "stream",
     "text": [
      "\r\n",
      "Epoch 260/600:  43%|████▎     | 260/600 [2:14:00<2:48:42, 29.77s/it, v_num=a0_1, total_loss_train=510, kl_local_train=114, metric_mi|age_categorical_train=0.355]"
     ]
    },
    {
     "name": "stdout",
     "output_type": "stream",
     "text": [
      "\r\n",
      "Epoch 261/600:  43%|████▎     | 260/600 [2:14:00<2:48:42, 29.77s/it, v_num=a0_1, total_loss_train=510, kl_local_train=114, metric_mi|age_categorical_train=0.355]"
     ]
    },
    {
     "name": "stdout",
     "output_type": "stream",
     "text": [
      "\r\n",
      "Epoch 261/600:  44%|████▎     | 261/600 [2:14:32<2:52:42, 30.57s/it, v_num=a0_1, total_loss_train=510, kl_local_train=114, metric_mi|age_categorical_train=0.355]"
     ]
    },
    {
     "name": "stdout",
     "output_type": "stream",
     "text": [
      "\r\n",
      "Epoch 261/600:  44%|████▎     | 261/600 [2:14:32<2:52:42, 30.57s/it, v_num=a0_1, total_loss_train=511, kl_local_train=114, metric_mi|age_categorical_train=0.345]"
     ]
    },
    {
     "name": "stdout",
     "output_type": "stream",
     "text": [
      "\r\n",
      "Epoch 262/600:  44%|████▎     | 261/600 [2:14:32<2:52:42, 30.57s/it, v_num=a0_1, total_loss_train=511, kl_local_train=114, metric_mi|age_categorical_train=0.345]"
     ]
    },
    {
     "name": "stdout",
     "output_type": "stream",
     "text": [
      "\r\n",
      "Epoch 262/600:  44%|████▎     | 262/600 [2:15:03<2:53:28, 30.80s/it, v_num=a0_1, total_loss_train=511, kl_local_train=114, metric_mi|age_categorical_train=0.345]"
     ]
    },
    {
     "name": "stdout",
     "output_type": "stream",
     "text": [
      "\r\n",
      "Epoch 262/600:  44%|████▎     | 262/600 [2:15:03<2:53:28, 30.80s/it, v_num=a0_1, total_loss_train=511, kl_local_train=114, metric_mi|age_categorical_train=0.345]"
     ]
    },
    {
     "name": "stdout",
     "output_type": "stream",
     "text": [
      "\r\n",
      "Epoch 263/600:  44%|████▎     | 262/600 [2:15:03<2:53:28, 30.80s/it, v_num=a0_1, total_loss_train=511, kl_local_train=114, metric_mi|age_categorical_train=0.345]"
     ]
    },
    {
     "name": "stdout",
     "output_type": "stream",
     "text": [
      "\r\n",
      "Epoch 263/600:  44%|████▍     | 263/600 [2:15:36<2:56:30, 31.43s/it, v_num=a0_1, total_loss_train=511, kl_local_train=114, metric_mi|age_categorical_train=0.345]"
     ]
    },
    {
     "name": "stdout",
     "output_type": "stream",
     "text": [
      "\r\n",
      "Epoch 263/600:  44%|████▍     | 263/600 [2:15:36<2:56:30, 31.43s/it, v_num=a0_1, total_loss_train=511, kl_local_train=114, metric_mi|age_categorical_train=0.345]"
     ]
    },
    {
     "name": "stdout",
     "output_type": "stream",
     "text": [
      "\r\n",
      "Epoch 264/600:  44%|████▍     | 263/600 [2:15:36<2:56:30, 31.43s/it, v_num=a0_1, total_loss_train=511, kl_local_train=114, metric_mi|age_categorical_train=0.345]"
     ]
    },
    {
     "name": "stdout",
     "output_type": "stream",
     "text": [
      "\r\n",
      "Epoch 264/600:  44%|████▍     | 264/600 [2:16:09<2:58:18, 31.84s/it, v_num=a0_1, total_loss_train=511, kl_local_train=114, metric_mi|age_categorical_train=0.345]"
     ]
    },
    {
     "name": "stdout",
     "output_type": "stream",
     "text": [
      "\r\n",
      "Epoch 264/600:  44%|████▍     | 264/600 [2:16:09<2:58:18, 31.84s/it, v_num=a0_1, total_loss_train=511, kl_local_train=113, metric_mi|age_categorical_train=0.345]"
     ]
    },
    {
     "name": "stdout",
     "output_type": "stream",
     "text": [
      "\r\n",
      "Epoch 265/600:  44%|████▍     | 264/600 [2:16:09<2:58:18, 31.84s/it, v_num=a0_1, total_loss_train=511, kl_local_train=113, metric_mi|age_categorical_train=0.345]"
     ]
    },
    {
     "name": "stdout",
     "output_type": "stream",
     "text": [
      "\r\n",
      "Epoch 265/600:  44%|████▍     | 265/600 [2:16:43<3:01:51, 32.57s/it, v_num=a0_1, total_loss_train=511, kl_local_train=113, metric_mi|age_categorical_train=0.345]"
     ]
    },
    {
     "name": "stdout",
     "output_type": "stream",
     "text": [
      "\r\n",
      "Epoch 265/600:  44%|████▍     | 265/600 [2:16:43<3:01:51, 32.57s/it, v_num=a0_1, total_loss_train=511, kl_local_train=113, metric_mi|age_categorical_train=0.345]"
     ]
    },
    {
     "name": "stdout",
     "output_type": "stream",
     "text": [
      "\r\n",
      "Epoch 266/600:  44%|████▍     | 265/600 [2:16:44<3:01:51, 32.57s/it, v_num=a0_1, total_loss_train=511, kl_local_train=113, metric_mi|age_categorical_train=0.345]"
     ]
    },
    {
     "name": "stdout",
     "output_type": "stream",
     "text": [
      "\r\n",
      "Epoch 266/600:  44%|████▍     | 266/600 [2:17:16<3:02:15, 32.74s/it, v_num=a0_1, total_loss_train=511, kl_local_train=113, metric_mi|age_categorical_train=0.345]"
     ]
    },
    {
     "name": "stdout",
     "output_type": "stream",
     "text": [
      "\r\n",
      "Epoch 266/600:  44%|████▍     | 266/600 [2:17:16<3:02:15, 32.74s/it, v_num=a0_1, total_loss_train=511, kl_local_train=113, metric_mi|age_categorical_train=0.355]"
     ]
    },
    {
     "name": "stdout",
     "output_type": "stream",
     "text": [
      "\r\n",
      "Epoch 267/600:  44%|████▍     | 266/600 [2:17:16<3:02:15, 32.74s/it, v_num=a0_1, total_loss_train=511, kl_local_train=113, metric_mi|age_categorical_train=0.355]"
     ]
    },
    {
     "name": "stdout",
     "output_type": "stream",
     "text": [
      "\r\n",
      "Epoch 267/600:  44%|████▍     | 267/600 [2:17:49<3:01:13, 32.65s/it, v_num=a0_1, total_loss_train=511, kl_local_train=113, metric_mi|age_categorical_train=0.355]"
     ]
    },
    {
     "name": "stdout",
     "output_type": "stream",
     "text": [
      "\r\n",
      "Epoch 267/600:  44%|████▍     | 267/600 [2:17:49<3:01:13, 32.65s/it, v_num=a0_1, total_loss_train=511, kl_local_train=113, metric_mi|age_categorical_train=0.355]"
     ]
    },
    {
     "name": "stdout",
     "output_type": "stream",
     "text": [
      "\r\n",
      "Epoch 268/600:  44%|████▍     | 267/600 [2:17:49<3:01:13, 32.65s/it, v_num=a0_1, total_loss_train=511, kl_local_train=113, metric_mi|age_categorical_train=0.355]"
     ]
    },
    {
     "name": "stdout",
     "output_type": "stream",
     "text": [
      "\r\n",
      "Epoch 268/600:  45%|████▍     | 268/600 [2:18:21<2:59:59, 32.53s/it, v_num=a0_1, total_loss_train=511, kl_local_train=113, metric_mi|age_categorical_train=0.355]"
     ]
    },
    {
     "name": "stdout",
     "output_type": "stream",
     "text": [
      "\r\n",
      "Epoch 268/600:  45%|████▍     | 268/600 [2:18:21<2:59:59, 32.53s/it, v_num=a0_1, total_loss_train=512, kl_local_train=113, metric_mi|age_categorical_train=0.355]"
     ]
    },
    {
     "name": "stdout",
     "output_type": "stream",
     "text": [
      "\r\n",
      "Epoch 269/600:  45%|████▍     | 268/600 [2:18:21<2:59:59, 32.53s/it, v_num=a0_1, total_loss_train=512, kl_local_train=113, metric_mi|age_categorical_train=0.355]"
     ]
    },
    {
     "name": "stdout",
     "output_type": "stream",
     "text": [
      "\r\n",
      "Epoch 269/600:  45%|████▍     | 269/600 [2:18:53<2:58:36, 32.38s/it, v_num=a0_1, total_loss_train=512, kl_local_train=113, metric_mi|age_categorical_train=0.355]"
     ]
    },
    {
     "name": "stdout",
     "output_type": "stream",
     "text": [
      "\r\n",
      "Epoch 269/600:  45%|████▍     | 269/600 [2:18:53<2:58:36, 32.38s/it, v_num=a0_1, total_loss_train=511, kl_local_train=112, metric_mi|age_categorical_train=0.355]"
     ]
    },
    {
     "name": "stdout",
     "output_type": "stream",
     "text": [
      "\r\n",
      "Epoch 270/600:  45%|████▍     | 269/600 [2:18:53<2:58:36, 32.38s/it, v_num=a0_1, total_loss_train=511, kl_local_train=112, metric_mi|age_categorical_train=0.355]"
     ]
    },
    {
     "name": "stdout",
     "output_type": "stream",
     "text": [
      "\r\n",
      "Epoch 270/600:  45%|████▌     | 270/600 [2:19:27<2:59:42, 32.67s/it, v_num=a0_1, total_loss_train=511, kl_local_train=112, metric_mi|age_categorical_train=0.355]"
     ]
    },
    {
     "name": "stdout",
     "output_type": "stream",
     "text": [
      "\r\n",
      "Epoch 270/600:  45%|████▌     | 270/600 [2:19:27<2:59:42, 32.67s/it, v_num=a0_1, total_loss_train=512, kl_local_train=112, metric_mi|age_categorical_train=0.355]"
     ]
    },
    {
     "name": "stdout",
     "output_type": "stream",
     "text": [
      "\r\n",
      "Epoch 271/600:  45%|████▌     | 270/600 [2:19:27<2:59:42, 32.67s/it, v_num=a0_1, total_loss_train=512, kl_local_train=112, metric_mi|age_categorical_train=0.355]"
     ]
    },
    {
     "name": "stdout",
     "output_type": "stream",
     "text": [
      "\r\n",
      "Epoch 271/600:  45%|████▌     | 271/600 [2:19:59<2:59:13, 32.68s/it, v_num=a0_1, total_loss_train=512, kl_local_train=112, metric_mi|age_categorical_train=0.355]"
     ]
    },
    {
     "name": "stdout",
     "output_type": "stream",
     "text": [
      "\r\n",
      "Epoch 271/600:  45%|████▌     | 271/600 [2:19:59<2:59:13, 32.68s/it, v_num=a0_1, total_loss_train=512, kl_local_train=112, metric_mi|age_categorical_train=0.36] "
     ]
    },
    {
     "name": "stdout",
     "output_type": "stream",
     "text": [
      "\r\n",
      "Epoch 272/600:  45%|████▌     | 271/600 [2:19:59<2:59:13, 32.68s/it, v_num=a0_1, total_loss_train=512, kl_local_train=112, metric_mi|age_categorical_train=0.36]"
     ]
    },
    {
     "name": "stdout",
     "output_type": "stream",
     "text": [
      "\r\n",
      "Epoch 272/600:  45%|████▌     | 272/600 [2:20:31<2:57:43, 32.51s/it, v_num=a0_1, total_loss_train=512, kl_local_train=112, metric_mi|age_categorical_train=0.36]"
     ]
    },
    {
     "name": "stdout",
     "output_type": "stream",
     "text": [
      "\r\n",
      "Epoch 272/600:  45%|████▌     | 272/600 [2:20:31<2:57:43, 32.51s/it, v_num=a0_1, total_loss_train=512, kl_local_train=112, metric_mi|age_categorical_train=0.36]"
     ]
    },
    {
     "name": "stdout",
     "output_type": "stream",
     "text": [
      "\r\n",
      "Epoch 273/600:  45%|████▌     | 272/600 [2:20:31<2:57:43, 32.51s/it, v_num=a0_1, total_loss_train=512, kl_local_train=112, metric_mi|age_categorical_train=0.36]"
     ]
    },
    {
     "name": "stdout",
     "output_type": "stream",
     "text": [
      "\r\n",
      "Epoch 273/600:  46%|████▌     | 273/600 [2:21:03<2:56:31, 32.39s/it, v_num=a0_1, total_loss_train=512, kl_local_train=112, metric_mi|age_categorical_train=0.36]"
     ]
    },
    {
     "name": "stdout",
     "output_type": "stream",
     "text": [
      "\r\n",
      "Epoch 273/600:  46%|████▌     | 273/600 [2:21:03<2:56:31, 32.39s/it, v_num=a0_1, total_loss_train=512, kl_local_train=112, metric_mi|age_categorical_train=0.36]"
     ]
    },
    {
     "name": "stdout",
     "output_type": "stream",
     "text": [
      "\r\n",
      "Epoch 274/600:  46%|████▌     | 273/600 [2:21:03<2:56:31, 32.39s/it, v_num=a0_1, total_loss_train=512, kl_local_train=112, metric_mi|age_categorical_train=0.36]"
     ]
    },
    {
     "name": "stdout",
     "output_type": "stream",
     "text": [
      "\r\n",
      "Epoch 274/600:  46%|████▌     | 274/600 [2:21:36<2:55:39, 32.33s/it, v_num=a0_1, total_loss_train=512, kl_local_train=112, metric_mi|age_categorical_train=0.36]"
     ]
    },
    {
     "name": "stdout",
     "output_type": "stream",
     "text": [
      "\r\n",
      "Epoch 274/600:  46%|████▌     | 274/600 [2:21:36<2:55:39, 32.33s/it, v_num=a0_1, total_loss_train=512, kl_local_train=111, metric_mi|age_categorical_train=0.36]"
     ]
    },
    {
     "name": "stdout",
     "output_type": "stream",
     "text": [
      "\r\n",
      "Epoch 275/600:  46%|████▌     | 274/600 [2:21:36<2:55:39, 32.33s/it, v_num=a0_1, total_loss_train=512, kl_local_train=111, metric_mi|age_categorical_train=0.36]"
     ]
    },
    {
     "name": "stdout",
     "output_type": "stream",
     "text": [
      "\r\n",
      "Epoch 275/600:  46%|████▌     | 275/600 [2:22:09<2:56:55, 32.66s/it, v_num=a0_1, total_loss_train=512, kl_local_train=111, metric_mi|age_categorical_train=0.36]"
     ]
    },
    {
     "name": "stdout",
     "output_type": "stream",
     "text": [
      "\r\n",
      "Epoch 275/600:  46%|████▌     | 275/600 [2:22:09<2:56:55, 32.66s/it, v_num=a0_1, total_loss_train=512, kl_local_train=111, metric_mi|age_categorical_train=0.36]"
     ]
    },
    {
     "name": "stdout",
     "output_type": "stream",
     "text": [
      "\r\n",
      "Epoch 276/600:  46%|████▌     | 275/600 [2:22:10<2:56:55, 32.66s/it, v_num=a0_1, total_loss_train=512, kl_local_train=111, metric_mi|age_categorical_train=0.36]"
     ]
    },
    {
     "name": "stdout",
     "output_type": "stream",
     "text": [
      "\r\n",
      "Epoch 276/600:  46%|████▌     | 276/600 [2:22:42<2:56:28, 32.68s/it, v_num=a0_1, total_loss_train=512, kl_local_train=111, metric_mi|age_categorical_train=0.36]"
     ]
    },
    {
     "name": "stdout",
     "output_type": "stream",
     "text": [
      "\r\n",
      "Epoch 276/600:  46%|████▌     | 276/600 [2:22:42<2:56:28, 32.68s/it, v_num=a0_1, total_loss_train=512, kl_local_train=110, metric_mi|age_categorical_train=0.36]"
     ]
    },
    {
     "name": "stdout",
     "output_type": "stream",
     "text": [
      "\r\n",
      "Epoch 277/600:  46%|████▌     | 276/600 [2:22:42<2:56:28, 32.68s/it, v_num=a0_1, total_loss_train=512, kl_local_train=110, metric_mi|age_categorical_train=0.36]"
     ]
    },
    {
     "name": "stdout",
     "output_type": "stream",
     "text": [
      "\r\n",
      "Epoch 277/600:  46%|████▌     | 277/600 [2:23:14<2:55:02, 32.52s/it, v_num=a0_1, total_loss_train=512, kl_local_train=110, metric_mi|age_categorical_train=0.36]"
     ]
    },
    {
     "name": "stdout",
     "output_type": "stream",
     "text": [
      "\r\n",
      "Epoch 277/600:  46%|████▌     | 277/600 [2:23:14<2:55:02, 32.52s/it, v_num=a0_1, total_loss_train=513, kl_local_train=110, metric_mi|age_categorical_train=0.36]"
     ]
    },
    {
     "name": "stdout",
     "output_type": "stream",
     "text": [
      "\r\n",
      "Epoch 278/600:  46%|████▌     | 277/600 [2:23:14<2:55:02, 32.52s/it, v_num=a0_1, total_loss_train=513, kl_local_train=110, metric_mi|age_categorical_train=0.36]"
     ]
    },
    {
     "name": "stdout",
     "output_type": "stream",
     "text": [
      "\r\n",
      "Epoch 278/600:  46%|████▋     | 278/600 [2:23:46<2:53:51, 32.40s/it, v_num=a0_1, total_loss_train=513, kl_local_train=110, metric_mi|age_categorical_train=0.36]"
     ]
    },
    {
     "name": "stdout",
     "output_type": "stream",
     "text": [
      "\r\n",
      "Epoch 278/600:  46%|████▋     | 278/600 [2:23:46<2:53:51, 32.40s/it, v_num=a0_1, total_loss_train=513, kl_local_train=111, metric_mi|age_categorical_train=0.36]"
     ]
    },
    {
     "name": "stdout",
     "output_type": "stream",
     "text": [
      "\r\n",
      "Epoch 279/600:  46%|████▋     | 278/600 [2:23:46<2:53:51, 32.40s/it, v_num=a0_1, total_loss_train=513, kl_local_train=111, metric_mi|age_categorical_train=0.36]"
     ]
    },
    {
     "name": "stdout",
     "output_type": "stream",
     "text": [
      "\r\n",
      "Epoch 279/600:  46%|████▋     | 279/600 [2:24:20<2:55:03, 32.72s/it, v_num=a0_1, total_loss_train=513, kl_local_train=111, metric_mi|age_categorical_train=0.36]"
     ]
    },
    {
     "name": "stdout",
     "output_type": "stream",
     "text": [
      "\r\n",
      "Epoch 279/600:  46%|████▋     | 279/600 [2:24:20<2:55:03, 32.72s/it, v_num=a0_1, total_loss_train=513, kl_local_train=110, metric_mi|age_categorical_train=0.36]"
     ]
    },
    {
     "name": "stdout",
     "output_type": "stream",
     "text": [
      "\r\n",
      "Epoch 280/600:  46%|████▋     | 279/600 [2:24:20<2:55:03, 32.72s/it, v_num=a0_1, total_loss_train=513, kl_local_train=110, metric_mi|age_categorical_train=0.36]"
     ]
    },
    {
     "name": "stdout",
     "output_type": "stream",
     "text": [
      "\r\n",
      "Epoch 280/600:  47%|████▋     | 280/600 [2:24:53<2:55:47, 32.96s/it, v_num=a0_1, total_loss_train=513, kl_local_train=110, metric_mi|age_categorical_train=0.36]"
     ]
    },
    {
     "name": "stdout",
     "output_type": "stream",
     "text": [
      "\r\n",
      "Epoch 280/600:  47%|████▋     | 280/600 [2:24:53<2:55:47, 32.96s/it, v_num=a0_1, total_loss_train=513, kl_local_train=110, metric_mi|age_categorical_train=0.36]"
     ]
    },
    {
     "name": "stdout",
     "output_type": "stream",
     "text": [
      "\r\n",
      "Epoch 281/600:  47%|████▋     | 280/600 [2:24:54<2:55:47, 32.96s/it, v_num=a0_1, total_loss_train=513, kl_local_train=110, metric_mi|age_categorical_train=0.36]"
     ]
    },
    {
     "name": "stdout",
     "output_type": "stream",
     "text": [
      "\r\n",
      "Epoch 281/600:  47%|████▋     | 281/600 [2:25:26<2:54:55, 32.90s/it, v_num=a0_1, total_loss_train=513, kl_local_train=110, metric_mi|age_categorical_train=0.36]"
     ]
    },
    {
     "name": "stdout",
     "output_type": "stream",
     "text": [
      "\r\n",
      "Epoch 281/600:  47%|████▋     | 281/600 [2:25:26<2:54:55, 32.90s/it, v_num=a0_1, total_loss_train=513, kl_local_train=110, metric_mi|age_categorical_train=0.352]"
     ]
    },
    {
     "name": "stdout",
     "output_type": "stream",
     "text": [
      "\r\n",
      "Epoch 282/600:  47%|████▋     | 281/600 [2:25:26<2:54:55, 32.90s/it, v_num=a0_1, total_loss_train=513, kl_local_train=110, metric_mi|age_categorical_train=0.352]"
     ]
    },
    {
     "name": "stdout",
     "output_type": "stream",
     "text": [
      "\r\n",
      "Epoch 282/600:  47%|████▋     | 282/600 [2:26:00<2:55:38, 33.14s/it, v_num=a0_1, total_loss_train=513, kl_local_train=110, metric_mi|age_categorical_train=0.352]"
     ]
    },
    {
     "name": "stdout",
     "output_type": "stream",
     "text": [
      "\r\n",
      "Epoch 282/600:  47%|████▋     | 282/600 [2:26:00<2:55:38, 33.14s/it, v_num=a0_1, total_loss_train=513, kl_local_train=110, metric_mi|age_categorical_train=0.352]"
     ]
    },
    {
     "name": "stdout",
     "output_type": "stream",
     "text": [
      "\r\n",
      "Epoch 283/600:  47%|████▋     | 282/600 [2:26:00<2:55:38, 33.14s/it, v_num=a0_1, total_loss_train=513, kl_local_train=110, metric_mi|age_categorical_train=0.352]"
     ]
    },
    {
     "name": "stdout",
     "output_type": "stream",
     "text": [
      "\r\n",
      "Epoch 283/600:  47%|████▋     | 283/600 [2:26:32<2:53:39, 32.87s/it, v_num=a0_1, total_loss_train=513, kl_local_train=110, metric_mi|age_categorical_train=0.352]"
     ]
    },
    {
     "name": "stdout",
     "output_type": "stream",
     "text": [
      "\r\n",
      "Epoch 283/600:  47%|████▋     | 283/600 [2:26:32<2:53:39, 32.87s/it, v_num=a0_1, total_loss_train=513, kl_local_train=110, metric_mi|age_categorical_train=0.352]"
     ]
    },
    {
     "name": "stdout",
     "output_type": "stream",
     "text": [
      "\r\n",
      "Epoch 284/600:  47%|████▋     | 283/600 [2:26:32<2:53:39, 32.87s/it, v_num=a0_1, total_loss_train=513, kl_local_train=110, metric_mi|age_categorical_train=0.352]"
     ]
    },
    {
     "name": "stdout",
     "output_type": "stream",
     "text": [
      "\r\n",
      "Epoch 284/600:  47%|████▋     | 284/600 [2:27:04<2:52:09, 32.69s/it, v_num=a0_1, total_loss_train=513, kl_local_train=110, metric_mi|age_categorical_train=0.352]"
     ]
    },
    {
     "name": "stdout",
     "output_type": "stream",
     "text": [
      "\r\n",
      "Epoch 284/600:  47%|████▋     | 284/600 [2:27:04<2:52:09, 32.69s/it, v_num=a0_1, total_loss_train=513, kl_local_train=109, metric_mi|age_categorical_train=0.352]"
     ]
    },
    {
     "name": "stdout",
     "output_type": "stream",
     "text": [
      "\r\n",
      "Epoch 285/600:  47%|████▋     | 284/600 [2:27:04<2:52:09, 32.69s/it, v_num=a0_1, total_loss_train=513, kl_local_train=109, metric_mi|age_categorical_train=0.352]"
     ]
    },
    {
     "name": "stdout",
     "output_type": "stream",
     "text": [
      "\r\n",
      "Epoch 285/600:  48%|████▊     | 285/600 [2:27:37<2:52:38, 32.89s/it, v_num=a0_1, total_loss_train=513, kl_local_train=109, metric_mi|age_categorical_train=0.352]"
     ]
    },
    {
     "name": "stdout",
     "output_type": "stream",
     "text": [
      "\r\n",
      "Epoch 285/600:  48%|████▊     | 285/600 [2:27:37<2:52:38, 32.89s/it, v_num=a0_1, total_loss_train=513, kl_local_train=109, metric_mi|age_categorical_train=0.352]"
     ]
    },
    {
     "name": "stdout",
     "output_type": "stream",
     "text": [
      "\r\n",
      "Epoch 286/600:  48%|████▊     | 285/600 [2:27:38<2:52:38, 32.89s/it, v_num=a0_1, total_loss_train=513, kl_local_train=109, metric_mi|age_categorical_train=0.352]"
     ]
    },
    {
     "name": "stdout",
     "output_type": "stream",
     "text": [
      "\r\n",
      "Epoch 286/600:  48%|████▊     | 286/600 [2:28:10<2:51:40, 32.80s/it, v_num=a0_1, total_loss_train=513, kl_local_train=109, metric_mi|age_categorical_train=0.352]"
     ]
    },
    {
     "name": "stdout",
     "output_type": "stream",
     "text": [
      "\r\n",
      "Epoch 286/600:  48%|████▊     | 286/600 [2:28:10<2:51:40, 32.80s/it, v_num=a0_1, total_loss_train=513, kl_local_train=109, metric_mi|age_categorical_train=0.349]"
     ]
    },
    {
     "name": "stdout",
     "output_type": "stream",
     "text": [
      "\r\n",
      "Epoch 287/600:  48%|████▊     | 286/600 [2:28:10<2:51:40, 32.80s/it, v_num=a0_1, total_loss_train=513, kl_local_train=109, metric_mi|age_categorical_train=0.349]"
     ]
    },
    {
     "name": "stdout",
     "output_type": "stream",
     "text": [
      "\r\n",
      "Epoch 287/600:  48%|████▊     | 287/600 [2:28:42<2:50:10, 32.62s/it, v_num=a0_1, total_loss_train=513, kl_local_train=109, metric_mi|age_categorical_train=0.349]"
     ]
    },
    {
     "name": "stdout",
     "output_type": "stream",
     "text": [
      "\r\n",
      "Epoch 287/600:  48%|████▊     | 287/600 [2:28:42<2:50:10, 32.62s/it, v_num=a0_1, total_loss_train=514, kl_local_train=109, metric_mi|age_categorical_train=0.349]"
     ]
    },
    {
     "name": "stdout",
     "output_type": "stream",
     "text": [
      "\r\n",
      "Epoch 288/600:  48%|████▊     | 287/600 [2:28:42<2:50:10, 32.62s/it, v_num=a0_1, total_loss_train=514, kl_local_train=109, metric_mi|age_categorical_train=0.349]"
     ]
    },
    {
     "name": "stdout",
     "output_type": "stream",
     "text": [
      "\r\n",
      "Epoch 288/600:  48%|████▊     | 288/600 [2:29:14<2:48:48, 32.46s/it, v_num=a0_1, total_loss_train=514, kl_local_train=109, metric_mi|age_categorical_train=0.349]"
     ]
    },
    {
     "name": "stdout",
     "output_type": "stream",
     "text": [
      "\r\n",
      "Epoch 288/600:  48%|████▊     | 288/600 [2:29:14<2:48:48, 32.46s/it, v_num=a0_1, total_loss_train=514, kl_local_train=109, metric_mi|age_categorical_train=0.349]"
     ]
    },
    {
     "name": "stdout",
     "output_type": "stream",
     "text": [
      "\r\n",
      "Epoch 289/600:  48%|████▊     | 288/600 [2:29:14<2:48:48, 32.46s/it, v_num=a0_1, total_loss_train=514, kl_local_train=109, metric_mi|age_categorical_train=0.349]"
     ]
    },
    {
     "name": "stdout",
     "output_type": "stream",
     "text": [
      "\r\n",
      "Epoch 289/600:  48%|████▊     | 289/600 [2:29:47<2:47:54, 32.39s/it, v_num=a0_1, total_loss_train=514, kl_local_train=109, metric_mi|age_categorical_train=0.349]"
     ]
    },
    {
     "name": "stdout",
     "output_type": "stream",
     "text": [
      "\r\n",
      "Epoch 289/600:  48%|████▊     | 289/600 [2:29:47<2:47:54, 32.39s/it, v_num=a0_1, total_loss_train=514, kl_local_train=108, metric_mi|age_categorical_train=0.349]"
     ]
    },
    {
     "name": "stdout",
     "output_type": "stream",
     "text": [
      "\r\n",
      "Epoch 290/600:  48%|████▊     | 289/600 [2:29:47<2:47:54, 32.39s/it, v_num=a0_1, total_loss_train=514, kl_local_train=108, metric_mi|age_categorical_train=0.349]"
     ]
    },
    {
     "name": "stdout",
     "output_type": "stream",
     "text": [
      "\r\n",
      "Epoch 290/600:  48%|████▊     | 290/600 [2:30:21<2:51:17, 33.15s/it, v_num=a0_1, total_loss_train=514, kl_local_train=108, metric_mi|age_categorical_train=0.349]"
     ]
    },
    {
     "name": "stdout",
     "output_type": "stream",
     "text": [
      "\r\n",
      "Epoch 290/600:  48%|████▊     | 290/600 [2:30:21<2:51:17, 33.15s/it, v_num=a0_1, total_loss_train=514, kl_local_train=109, metric_mi|age_categorical_train=0.349]"
     ]
    },
    {
     "name": "stdout",
     "output_type": "stream",
     "text": [
      "\r\n",
      "Epoch 291/600:  48%|████▊     | 290/600 [2:30:22<2:51:17, 33.15s/it, v_num=a0_1, total_loss_train=514, kl_local_train=109, metric_mi|age_categorical_train=0.349]"
     ]
    },
    {
     "name": "stdout",
     "output_type": "stream",
     "text": [
      "\r\n",
      "Epoch 291/600:  48%|████▊     | 291/600 [2:30:54<2:50:12, 33.05s/it, v_num=a0_1, total_loss_train=514, kl_local_train=109, metric_mi|age_categorical_train=0.349]"
     ]
    },
    {
     "name": "stdout",
     "output_type": "stream",
     "text": [
      "\r\n",
      "Epoch 291/600:  48%|████▊     | 291/600 [2:30:54<2:50:12, 33.05s/it, v_num=a0_1, total_loss_train=514, kl_local_train=108, metric_mi|age_categorical_train=0.361]"
     ]
    },
    {
     "name": "stdout",
     "output_type": "stream",
     "text": [
      "\r\n",
      "Epoch 292/600:  48%|████▊     | 291/600 [2:30:54<2:50:12, 33.05s/it, v_num=a0_1, total_loss_train=514, kl_local_train=108, metric_mi|age_categorical_train=0.361]"
     ]
    },
    {
     "name": "stdout",
     "output_type": "stream",
     "text": [
      "\r\n",
      "Epoch 292/600:  49%|████▊     | 292/600 [2:31:27<2:48:26, 32.81s/it, v_num=a0_1, total_loss_train=514, kl_local_train=108, metric_mi|age_categorical_train=0.361]"
     ]
    },
    {
     "name": "stdout",
     "output_type": "stream",
     "text": [
      "\r\n",
      "Epoch 292/600:  49%|████▊     | 292/600 [2:31:27<2:48:26, 32.81s/it, v_num=a0_1, total_loss_train=514, kl_local_train=108, metric_mi|age_categorical_train=0.361]"
     ]
    },
    {
     "name": "stdout",
     "output_type": "stream",
     "text": [
      "\r\n",
      "Epoch 293/600:  49%|████▊     | 292/600 [2:31:27<2:48:26, 32.81s/it, v_num=a0_1, total_loss_train=514, kl_local_train=108, metric_mi|age_categorical_train=0.361]"
     ]
    },
    {
     "name": "stdout",
     "output_type": "stream",
     "text": [
      "\r\n",
      "Epoch 293/600:  49%|████▉     | 293/600 [2:31:59<2:46:49, 32.60s/it, v_num=a0_1, total_loss_train=514, kl_local_train=108, metric_mi|age_categorical_train=0.361]"
     ]
    },
    {
     "name": "stdout",
     "output_type": "stream",
     "text": [
      "\r\n",
      "Epoch 293/600:  49%|████▉     | 293/600 [2:31:59<2:46:49, 32.60s/it, v_num=a0_1, total_loss_train=514, kl_local_train=108, metric_mi|age_categorical_train=0.361]"
     ]
    },
    {
     "name": "stdout",
     "output_type": "stream",
     "text": [
      "\r\n",
      "Epoch 294/600:  49%|████▉     | 293/600 [2:31:59<2:46:49, 32.60s/it, v_num=a0_1, total_loss_train=514, kl_local_train=108, metric_mi|age_categorical_train=0.361]"
     ]
    },
    {
     "name": "stdout",
     "output_type": "stream",
     "text": [
      "\r\n",
      "Epoch 294/600:  49%|████▉     | 294/600 [2:32:31<2:45:30, 32.45s/it, v_num=a0_1, total_loss_train=514, kl_local_train=108, metric_mi|age_categorical_train=0.361]"
     ]
    },
    {
     "name": "stdout",
     "output_type": "stream",
     "text": [
      "\r\n",
      "Epoch 294/600:  49%|████▉     | 294/600 [2:32:31<2:45:30, 32.45s/it, v_num=a0_1, total_loss_train=514, kl_local_train=107, metric_mi|age_categorical_train=0.361]"
     ]
    },
    {
     "name": "stdout",
     "output_type": "stream",
     "text": [
      "\r\n",
      "Epoch 295/600:  49%|████▉     | 294/600 [2:32:31<2:45:30, 32.45s/it, v_num=a0_1, total_loss_train=514, kl_local_train=107, metric_mi|age_categorical_train=0.361]"
     ]
    },
    {
     "name": "stdout",
     "output_type": "stream",
     "text": [
      "\r\n",
      "Epoch 295/600:  49%|████▉     | 295/600 [2:33:04<2:46:29, 32.75s/it, v_num=a0_1, total_loss_train=514, kl_local_train=107, metric_mi|age_categorical_train=0.361]"
     ]
    },
    {
     "name": "stdout",
     "output_type": "stream",
     "text": [
      "\r\n",
      "Epoch 295/600:  49%|████▉     | 295/600 [2:33:04<2:46:29, 32.75s/it, v_num=a0_1, total_loss_train=514, kl_local_train=107, metric_mi|age_categorical_train=0.361]"
     ]
    },
    {
     "name": "stdout",
     "output_type": "stream",
     "text": [
      "\r\n",
      "Epoch 296/600:  49%|████▉     | 295/600 [2:33:05<2:46:29, 32.75s/it, v_num=a0_1, total_loss_train=514, kl_local_train=107, metric_mi|age_categorical_train=0.361]"
     ]
    },
    {
     "name": "stdout",
     "output_type": "stream",
     "text": [
      "\r\n",
      "Epoch 296/600:  49%|████▉     | 296/600 [2:33:37<2:46:42, 32.90s/it, v_num=a0_1, total_loss_train=514, kl_local_train=107, metric_mi|age_categorical_train=0.361]"
     ]
    },
    {
     "name": "stdout",
     "output_type": "stream",
     "text": [
      "\r\n",
      "Epoch 296/600:  49%|████▉     | 296/600 [2:33:37<2:46:42, 32.90s/it, v_num=a0_1, total_loss_train=514, kl_local_train=107, metric_mi|age_categorical_train=0.355]"
     ]
    },
    {
     "name": "stdout",
     "output_type": "stream",
     "text": [
      "\r\n",
      "Epoch 297/600:  49%|████▉     | 296/600 [2:33:37<2:46:42, 32.90s/it, v_num=a0_1, total_loss_train=514, kl_local_train=107, metric_mi|age_categorical_train=0.355]"
     ]
    },
    {
     "name": "stdout",
     "output_type": "stream",
     "text": [
      "\r\n",
      "Epoch 297/600:  50%|████▉     | 297/600 [2:34:10<2:45:38, 32.80s/it, v_num=a0_1, total_loss_train=514, kl_local_train=107, metric_mi|age_categorical_train=0.355]"
     ]
    },
    {
     "name": "stdout",
     "output_type": "stream",
     "text": [
      "\r\n",
      "Epoch 297/600:  50%|████▉     | 297/600 [2:34:10<2:45:38, 32.80s/it, v_num=a0_1, total_loss_train=514, kl_local_train=107, metric_mi|age_categorical_train=0.355]"
     ]
    },
    {
     "name": "stdout",
     "output_type": "stream",
     "text": [
      "\r\n",
      "Epoch 298/600:  50%|████▉     | 297/600 [2:34:10<2:45:38, 32.80s/it, v_num=a0_1, total_loss_train=514, kl_local_train=107, metric_mi|age_categorical_train=0.355]"
     ]
    },
    {
     "name": "stdout",
     "output_type": "stream",
     "text": [
      "\r\n",
      "Epoch 298/600:  50%|████▉     | 298/600 [2:34:42<2:44:34, 32.70s/it, v_num=a0_1, total_loss_train=514, kl_local_train=107, metric_mi|age_categorical_train=0.355]"
     ]
    },
    {
     "name": "stdout",
     "output_type": "stream",
     "text": [
      "\r\n",
      "Epoch 298/600:  50%|████▉     | 298/600 [2:34:42<2:44:34, 32.70s/it, v_num=a0_1, total_loss_train=515, kl_local_train=107, metric_mi|age_categorical_train=0.355]"
     ]
    },
    {
     "name": "stdout",
     "output_type": "stream",
     "text": [
      "\r\n",
      "Epoch 299/600:  50%|████▉     | 298/600 [2:34:42<2:44:34, 32.70s/it, v_num=a0_1, total_loss_train=515, kl_local_train=107, metric_mi|age_categorical_train=0.355]"
     ]
    },
    {
     "name": "stdout",
     "output_type": "stream",
     "text": [
      "\r\n",
      "Epoch 299/600:  50%|████▉     | 299/600 [2:35:15<2:43:42, 32.63s/it, v_num=a0_1, total_loss_train=515, kl_local_train=107, metric_mi|age_categorical_train=0.355]"
     ]
    },
    {
     "name": "stdout",
     "output_type": "stream",
     "text": [
      "\r\n",
      "Epoch 299/600:  50%|████▉     | 299/600 [2:35:15<2:43:42, 32.63s/it, v_num=a0_1, total_loss_train=515, kl_local_train=107, metric_mi|age_categorical_train=0.355]"
     ]
    },
    {
     "name": "stdout",
     "output_type": "stream",
     "text": [
      "\r\n",
      "Epoch 300/600:  50%|████▉     | 299/600 [2:35:15<2:43:42, 32.63s/it, v_num=a0_1, total_loss_train=515, kl_local_train=107, metric_mi|age_categorical_train=0.355]"
     ]
    },
    {
     "name": "stdout",
     "output_type": "stream",
     "text": [
      "\r\n",
      "Epoch 300/600:  50%|█████     | 300/600 [2:35:48<2:44:12, 32.84s/it, v_num=a0_1, total_loss_train=515, kl_local_train=107, metric_mi|age_categorical_train=0.355]"
     ]
    },
    {
     "name": "stdout",
     "output_type": "stream",
     "text": [
      "\r\n",
      "Epoch 300/600:  50%|█████     | 300/600 [2:35:48<2:44:12, 32.84s/it, v_num=a0_1, total_loss_train=515, kl_local_train=106, metric_mi|age_categorical_train=0.355]"
     ]
    },
    {
     "name": "stdout",
     "output_type": "stream",
     "text": [
      "\r\n",
      "Epoch 301/600:  50%|█████     | 300/600 [2:35:49<2:44:12, 32.84s/it, v_num=a0_1, total_loss_train=515, kl_local_train=106, metric_mi|age_categorical_train=0.355]"
     ]
    },
    {
     "name": "stdout",
     "output_type": "stream",
     "text": [
      "\r\n",
      "Epoch 301/600:  50%|█████     | 301/600 [2:36:21<2:44:04, 32.92s/it, v_num=a0_1, total_loss_train=515, kl_local_train=106, metric_mi|age_categorical_train=0.355]"
     ]
    },
    {
     "name": "stdout",
     "output_type": "stream",
     "text": [
      "\r\n",
      "Epoch 301/600:  50%|█████     | 301/600 [2:36:21<2:44:04, 32.92s/it, v_num=a0_1, total_loss_train=515, kl_local_train=107, metric_mi|age_categorical_train=0.359]"
     ]
    },
    {
     "name": "stdout",
     "output_type": "stream",
     "text": [
      "\r\n",
      "Epoch 302/600:  50%|█████     | 301/600 [2:36:21<2:44:04, 32.92s/it, v_num=a0_1, total_loss_train=515, kl_local_train=107, metric_mi|age_categorical_train=0.359]"
     ]
    },
    {
     "name": "stdout",
     "output_type": "stream",
     "text": [
      "\r\n",
      "Epoch 302/600:  50%|█████     | 302/600 [2:36:54<2:42:38, 32.75s/it, v_num=a0_1, total_loss_train=515, kl_local_train=107, metric_mi|age_categorical_train=0.359]"
     ]
    },
    {
     "name": "stdout",
     "output_type": "stream",
     "text": [
      "\r\n",
      "Epoch 302/600:  50%|█████     | 302/600 [2:36:54<2:42:38, 32.75s/it, v_num=a0_1, total_loss_train=515, kl_local_train=106, metric_mi|age_categorical_train=0.359]"
     ]
    },
    {
     "name": "stdout",
     "output_type": "stream",
     "text": [
      "\r\n",
      "Epoch 303/600:  50%|█████     | 302/600 [2:36:54<2:42:38, 32.75s/it, v_num=a0_1, total_loss_train=515, kl_local_train=106, metric_mi|age_categorical_train=0.359]"
     ]
    },
    {
     "name": "stdout",
     "output_type": "stream",
     "text": [
      "\r\n",
      "Epoch 303/600:  50%|█████     | 303/600 [2:37:26<2:41:18, 32.59s/it, v_num=a0_1, total_loss_train=515, kl_local_train=106, metric_mi|age_categorical_train=0.359]"
     ]
    },
    {
     "name": "stdout",
     "output_type": "stream",
     "text": [
      "\r\n",
      "Epoch 303/600:  50%|█████     | 303/600 [2:37:26<2:41:18, 32.59s/it, v_num=a0_1, total_loss_train=515, kl_local_train=106, metric_mi|age_categorical_train=0.359]"
     ]
    },
    {
     "name": "stdout",
     "output_type": "stream",
     "text": [
      "\r\n",
      "Epoch 304/600:  50%|█████     | 303/600 [2:37:26<2:41:18, 32.59s/it, v_num=a0_1, total_loss_train=515, kl_local_train=106, metric_mi|age_categorical_train=0.359]"
     ]
    },
    {
     "name": "stdout",
     "output_type": "stream",
     "text": [
      "\r\n",
      "Epoch 304/600:  51%|█████     | 304/600 [2:37:58<2:40:14, 32.48s/it, v_num=a0_1, total_loss_train=515, kl_local_train=106, metric_mi|age_categorical_train=0.359]"
     ]
    },
    {
     "name": "stdout",
     "output_type": "stream",
     "text": [
      "\r\n",
      "Epoch 304/600:  51%|█████     | 304/600 [2:37:58<2:40:14, 32.48s/it, v_num=a0_1, total_loss_train=515, kl_local_train=106, metric_mi|age_categorical_train=0.359]"
     ]
    },
    {
     "name": "stdout",
     "output_type": "stream",
     "text": [
      "\r\n",
      "Epoch 305/600:  51%|█████     | 304/600 [2:37:58<2:40:14, 32.48s/it, v_num=a0_1, total_loss_train=515, kl_local_train=106, metric_mi|age_categorical_train=0.359]"
     ]
    },
    {
     "name": "stdout",
     "output_type": "stream",
     "text": [
      "\r\n",
      "Epoch 305/600:  51%|█████     | 305/600 [2:38:32<2:41:52, 32.92s/it, v_num=a0_1, total_loss_train=515, kl_local_train=106, metric_mi|age_categorical_train=0.359]"
     ]
    },
    {
     "name": "stdout",
     "output_type": "stream",
     "text": [
      "\r\n",
      "Epoch 305/600:  51%|█████     | 305/600 [2:38:32<2:41:52, 32.92s/it, v_num=a0_1, total_loss_train=515, kl_local_train=106, metric_mi|age_categorical_train=0.359]"
     ]
    },
    {
     "name": "stdout",
     "output_type": "stream",
     "text": [
      "\r\n",
      "Epoch 306/600:  51%|█████     | 305/600 [2:38:33<2:41:52, 32.92s/it, v_num=a0_1, total_loss_train=515, kl_local_train=106, metric_mi|age_categorical_train=0.359]"
     ]
    },
    {
     "name": "stdout",
     "output_type": "stream",
     "text": [
      "\r\n",
      "Epoch 306/600:  51%|█████     | 306/600 [2:39:05<2:41:20, 32.93s/it, v_num=a0_1, total_loss_train=515, kl_local_train=106, metric_mi|age_categorical_train=0.359]"
     ]
    },
    {
     "name": "stdout",
     "output_type": "stream",
     "text": [
      "\r\n",
      "Epoch 306/600:  51%|█████     | 306/600 [2:39:05<2:41:20, 32.93s/it, v_num=a0_1, total_loss_train=516, kl_local_train=106, metric_mi|age_categorical_train=0.359]"
     ]
    },
    {
     "name": "stdout",
     "output_type": "stream",
     "text": [
      "\r\n",
      "Epoch 307/600:  51%|█████     | 306/600 [2:39:05<2:41:20, 32.93s/it, v_num=a0_1, total_loss_train=516, kl_local_train=106, metric_mi|age_categorical_train=0.359]"
     ]
    },
    {
     "name": "stdout",
     "output_type": "stream",
     "text": [
      "\r\n",
      "Epoch 307/600:  51%|█████     | 307/600 [2:39:37<2:39:33, 32.67s/it, v_num=a0_1, total_loss_train=516, kl_local_train=106, metric_mi|age_categorical_train=0.359]"
     ]
    },
    {
     "name": "stdout",
     "output_type": "stream",
     "text": [
      "\r\n",
      "Epoch 307/600:  51%|█████     | 307/600 [2:39:37<2:39:33, 32.67s/it, v_num=a0_1, total_loss_train=516, kl_local_train=105, metric_mi|age_categorical_train=0.359]"
     ]
    },
    {
     "name": "stdout",
     "output_type": "stream",
     "text": [
      "\r\n",
      "Epoch 308/600:  51%|█████     | 307/600 [2:39:37<2:39:33, 32.67s/it, v_num=a0_1, total_loss_train=516, kl_local_train=105, metric_mi|age_categorical_train=0.359]"
     ]
    },
    {
     "name": "stdout",
     "output_type": "stream",
     "text": [
      "\r\n",
      "Epoch 308/600:  51%|█████▏    | 308/600 [2:40:09<2:37:43, 32.41s/it, v_num=a0_1, total_loss_train=516, kl_local_train=105, metric_mi|age_categorical_train=0.359]"
     ]
    },
    {
     "name": "stdout",
     "output_type": "stream",
     "text": [
      "\r\n",
      "Epoch 308/600:  51%|█████▏    | 308/600 [2:40:09<2:37:43, 32.41s/it, v_num=a0_1, total_loss_train=516, kl_local_train=105, metric_mi|age_categorical_train=0.359]"
     ]
    },
    {
     "name": "stdout",
     "output_type": "stream",
     "text": [
      "\r\n",
      "Epoch 309/600:  51%|█████▏    | 308/600 [2:40:09<2:37:43, 32.41s/it, v_num=a0_1, total_loss_train=516, kl_local_train=105, metric_mi|age_categorical_train=0.359]"
     ]
    },
    {
     "name": "stdout",
     "output_type": "stream",
     "text": [
      "\r\n",
      "Epoch 309/600:  52%|█████▏    | 309/600 [2:40:41<2:36:19, 32.23s/it, v_num=a0_1, total_loss_train=516, kl_local_train=105, metric_mi|age_categorical_train=0.359]"
     ]
    },
    {
     "name": "stdout",
     "output_type": "stream",
     "text": [
      "\r\n",
      "Epoch 309/600:  52%|█████▏    | 309/600 [2:40:41<2:36:19, 32.23s/it, v_num=a0_1, total_loss_train=516, kl_local_train=105, metric_mi|age_categorical_train=0.359]"
     ]
    },
    {
     "name": "stdout",
     "output_type": "stream",
     "text": [
      "\r\n",
      "Epoch 310/600:  52%|█████▏    | 309/600 [2:40:41<2:36:19, 32.23s/it, v_num=a0_1, total_loss_train=516, kl_local_train=105, metric_mi|age_categorical_train=0.359]"
     ]
    },
    {
     "name": "stdout",
     "output_type": "stream",
     "text": [
      "\r\n",
      "Epoch 310/600:  52%|█████▏    | 310/600 [2:41:14<2:36:57, 32.47s/it, v_num=a0_1, total_loss_train=516, kl_local_train=105, metric_mi|age_categorical_train=0.359]"
     ]
    },
    {
     "name": "stdout",
     "output_type": "stream",
     "text": [
      "\r\n",
      "Epoch 310/600:  52%|█████▏    | 310/600 [2:41:14<2:36:57, 32.47s/it, v_num=a0_1, total_loss_train=516, kl_local_train=105, metric_mi|age_categorical_train=0.359]"
     ]
    },
    {
     "name": "stdout",
     "output_type": "stream",
     "text": [
      "\r\n",
      "Epoch 311/600:  52%|█████▏    | 310/600 [2:41:14<2:36:57, 32.47s/it, v_num=a0_1, total_loss_train=516, kl_local_train=105, metric_mi|age_categorical_train=0.359]"
     ]
    },
    {
     "name": "stdout",
     "output_type": "stream",
     "text": [
      "\r\n",
      "Epoch 311/600:  52%|█████▏    | 311/600 [2:41:46<2:36:03, 32.40s/it, v_num=a0_1, total_loss_train=516, kl_local_train=105, metric_mi|age_categorical_train=0.359]"
     ]
    },
    {
     "name": "stdout",
     "output_type": "stream",
     "text": [
      "\r\n",
      "Epoch 311/600:  52%|█████▏    | 311/600 [2:41:46<2:36:03, 32.40s/it, v_num=a0_1, total_loss_train=516, kl_local_train=105, metric_mi|age_categorical_train=0.367]"
     ]
    },
    {
     "name": "stdout",
     "output_type": "stream",
     "text": [
      "\r\n",
      "Epoch 312/600:  52%|█████▏    | 311/600 [2:41:46<2:36:03, 32.40s/it, v_num=a0_1, total_loss_train=516, kl_local_train=105, metric_mi|age_categorical_train=0.367]"
     ]
    },
    {
     "name": "stdout",
     "output_type": "stream",
     "text": [
      "\r\n",
      "Epoch 312/600:  52%|█████▏    | 312/600 [2:42:18<2:34:38, 32.22s/it, v_num=a0_1, total_loss_train=516, kl_local_train=105, metric_mi|age_categorical_train=0.367]"
     ]
    },
    {
     "name": "stdout",
     "output_type": "stream",
     "text": [
      "\r\n",
      "Epoch 312/600:  52%|█████▏    | 312/600 [2:42:18<2:34:38, 32.22s/it, v_num=a0_1, total_loss_train=516, kl_local_train=105, metric_mi|age_categorical_train=0.367]"
     ]
    },
    {
     "name": "stdout",
     "output_type": "stream",
     "text": [
      "\r\n",
      "Epoch 313/600:  52%|█████▏    | 312/600 [2:42:18<2:34:38, 32.22s/it, v_num=a0_1, total_loss_train=516, kl_local_train=105, metric_mi|age_categorical_train=0.367]"
     ]
    },
    {
     "name": "stdout",
     "output_type": "stream",
     "text": [
      "\r\n",
      "Epoch 313/600:  52%|█████▏    | 313/600 [2:42:49<2:33:20, 32.06s/it, v_num=a0_1, total_loss_train=516, kl_local_train=105, metric_mi|age_categorical_train=0.367]"
     ]
    },
    {
     "name": "stdout",
     "output_type": "stream",
     "text": [
      "\r\n",
      "Epoch 313/600:  52%|█████▏    | 313/600 [2:42:49<2:33:20, 32.06s/it, v_num=a0_1, total_loss_train=516, kl_local_train=105, metric_mi|age_categorical_train=0.367]"
     ]
    },
    {
     "name": "stdout",
     "output_type": "stream",
     "text": [
      "\r\n",
      "Epoch 314/600:  52%|█████▏    | 313/600 [2:42:50<2:33:20, 32.06s/it, v_num=a0_1, total_loss_train=516, kl_local_train=105, metric_mi|age_categorical_train=0.367]"
     ]
    },
    {
     "name": "stdout",
     "output_type": "stream",
     "text": [
      "\r\n",
      "Epoch 314/600:  52%|█████▏    | 314/600 [2:43:21<2:32:06, 31.91s/it, v_num=a0_1, total_loss_train=516, kl_local_train=105, metric_mi|age_categorical_train=0.367]"
     ]
    },
    {
     "name": "stdout",
     "output_type": "stream",
     "text": [
      "\r\n",
      "Epoch 314/600:  52%|█████▏    | 314/600 [2:43:21<2:32:06, 31.91s/it, v_num=a0_1, total_loss_train=516, kl_local_train=104, metric_mi|age_categorical_train=0.367]"
     ]
    },
    {
     "name": "stdout",
     "output_type": "stream",
     "text": [
      "\r\n",
      "Epoch 315/600:  52%|█████▏    | 314/600 [2:43:21<2:32:06, 31.91s/it, v_num=a0_1, total_loss_train=516, kl_local_train=104, metric_mi|age_categorical_train=0.367]"
     ]
    },
    {
     "name": "stdout",
     "output_type": "stream",
     "text": [
      "\r\n",
      "Epoch 315/600:  52%|█████▎    | 315/600 [2:43:54<2:32:22, 32.08s/it, v_num=a0_1, total_loss_train=516, kl_local_train=104, metric_mi|age_categorical_train=0.367]"
     ]
    },
    {
     "name": "stdout",
     "output_type": "stream",
     "text": [
      "\r\n",
      "Epoch 315/600:  52%|█████▎    | 315/600 [2:43:54<2:32:22, 32.08s/it, v_num=a0_1, total_loss_train=516, kl_local_train=105, metric_mi|age_categorical_train=0.367]"
     ]
    },
    {
     "name": "stdout",
     "output_type": "stream",
     "text": [
      "\r\n",
      "Epoch 316/600:  52%|█████▎    | 315/600 [2:43:54<2:32:22, 32.08s/it, v_num=a0_1, total_loss_train=516, kl_local_train=105, metric_mi|age_categorical_train=0.367]"
     ]
    },
    {
     "name": "stdout",
     "output_type": "stream",
     "text": [
      "\r\n",
      "Epoch 316/600:  53%|█████▎    | 316/600 [2:44:26<2:31:56, 32.10s/it, v_num=a0_1, total_loss_train=516, kl_local_train=105, metric_mi|age_categorical_train=0.367]"
     ]
    },
    {
     "name": "stdout",
     "output_type": "stream",
     "text": [
      "\r\n",
      "Epoch 316/600:  53%|█████▎    | 316/600 [2:44:26<2:31:56, 32.10s/it, v_num=a0_1, total_loss_train=516, kl_local_train=105, metric_mi|age_categorical_train=0.361]"
     ]
    },
    {
     "name": "stdout",
     "output_type": "stream",
     "text": [
      "\r\n",
      "Epoch 317/600:  53%|█████▎    | 316/600 [2:44:26<2:31:56, 32.10s/it, v_num=a0_1, total_loss_train=516, kl_local_train=105, metric_mi|age_categorical_train=0.361]"
     ]
    },
    {
     "name": "stdout",
     "output_type": "stream",
     "text": [
      "\r\n",
      "Epoch 317/600:  53%|█████▎    | 317/600 [2:44:57<2:30:58, 32.01s/it, v_num=a0_1, total_loss_train=516, kl_local_train=105, metric_mi|age_categorical_train=0.361]"
     ]
    },
    {
     "name": "stdout",
     "output_type": "stream",
     "text": [
      "\r\n",
      "Epoch 317/600:  53%|█████▎    | 317/600 [2:44:57<2:30:58, 32.01s/it, v_num=a0_1, total_loss_train=517, kl_local_train=104, metric_mi|age_categorical_train=0.361]"
     ]
    },
    {
     "name": "stdout",
     "output_type": "stream",
     "text": [
      "\r\n",
      "Epoch 318/600:  53%|█████▎    | 317/600 [2:44:57<2:30:58, 32.01s/it, v_num=a0_1, total_loss_train=517, kl_local_train=104, metric_mi|age_categorical_train=0.361]"
     ]
    },
    {
     "name": "stdout",
     "output_type": "stream",
     "text": [
      "\r\n",
      "Epoch 318/600:  53%|█████▎    | 318/600 [2:45:29<2:29:46, 31.87s/it, v_num=a0_1, total_loss_train=517, kl_local_train=104, metric_mi|age_categorical_train=0.361]"
     ]
    },
    {
     "name": "stdout",
     "output_type": "stream",
     "text": [
      "\r\n",
      "Epoch 318/600:  53%|█████▎    | 318/600 [2:45:29<2:29:46, 31.87s/it, v_num=a0_1, total_loss_train=517, kl_local_train=104, metric_mi|age_categorical_train=0.361]"
     ]
    },
    {
     "name": "stdout",
     "output_type": "stream",
     "text": [
      "\r\n",
      "Epoch 319/600:  53%|█████▎    | 318/600 [2:45:29<2:29:46, 31.87s/it, v_num=a0_1, total_loss_train=517, kl_local_train=104, metric_mi|age_categorical_train=0.361]"
     ]
    },
    {
     "name": "stdout",
     "output_type": "stream",
     "text": [
      "\r\n",
      "Epoch 319/600:  53%|█████▎    | 319/600 [2:46:01<2:29:06, 31.84s/it, v_num=a0_1, total_loss_train=517, kl_local_train=104, metric_mi|age_categorical_train=0.361]"
     ]
    },
    {
     "name": "stdout",
     "output_type": "stream",
     "text": [
      "\r\n",
      "Epoch 319/600:  53%|█████▎    | 319/600 [2:46:01<2:29:06, 31.84s/it, v_num=a0_1, total_loss_train=517, kl_local_train=104, metric_mi|age_categorical_train=0.361]"
     ]
    },
    {
     "name": "stdout",
     "output_type": "stream",
     "text": [
      "\r\n",
      "Epoch 320/600:  53%|█████▎    | 319/600 [2:46:01<2:29:06, 31.84s/it, v_num=a0_1, total_loss_train=517, kl_local_train=104, metric_mi|age_categorical_train=0.361]"
     ]
    },
    {
     "name": "stdout",
     "output_type": "stream",
     "text": [
      "\r\n",
      "Epoch 320/600:  53%|█████▎    | 320/600 [2:46:34<2:30:03, 32.16s/it, v_num=a0_1, total_loss_train=517, kl_local_train=104, metric_mi|age_categorical_train=0.361]"
     ]
    },
    {
     "name": "stdout",
     "output_type": "stream",
     "text": [
      "\r\n",
      "Epoch 320/600:  53%|█████▎    | 320/600 [2:46:34<2:30:03, 32.16s/it, v_num=a0_1, total_loss_train=517, kl_local_train=103, metric_mi|age_categorical_train=0.361]"
     ]
    },
    {
     "name": "stdout",
     "output_type": "stream",
     "text": [
      "\r\n",
      "Epoch 321/600:  53%|█████▎    | 320/600 [2:46:34<2:30:03, 32.16s/it, v_num=a0_1, total_loss_train=517, kl_local_train=103, metric_mi|age_categorical_train=0.361]"
     ]
    },
    {
     "name": "stdout",
     "output_type": "stream",
     "text": [
      "\r\n",
      "Epoch 321/600:  54%|█████▎    | 321/600 [2:47:06<2:29:56, 32.24s/it, v_num=a0_1, total_loss_train=517, kl_local_train=103, metric_mi|age_categorical_train=0.361]"
     ]
    },
    {
     "name": "stdout",
     "output_type": "stream",
     "text": [
      "\r\n",
      "Epoch 321/600:  54%|█████▎    | 321/600 [2:47:06<2:29:56, 32.24s/it, v_num=a0_1, total_loss_train=517, kl_local_train=103, metric_mi|age_categorical_train=0.366]"
     ]
    },
    {
     "name": "stdout",
     "output_type": "stream",
     "text": [
      "\r\n",
      "Epoch 322/600:  54%|█████▎    | 321/600 [2:47:06<2:29:56, 32.24s/it, v_num=a0_1, total_loss_train=517, kl_local_train=103, metric_mi|age_categorical_train=0.366]"
     ]
    },
    {
     "name": "stdout",
     "output_type": "stream",
     "text": [
      "\r\n",
      "Epoch 322/600:  54%|█████▎    | 322/600 [2:47:38<2:28:54, 32.14s/it, v_num=a0_1, total_loss_train=517, kl_local_train=103, metric_mi|age_categorical_train=0.366]"
     ]
    },
    {
     "name": "stdout",
     "output_type": "stream",
     "text": [
      "\r\n",
      "Epoch 322/600:  54%|█████▎    | 322/600 [2:47:38<2:28:54, 32.14s/it, v_num=a0_1, total_loss_train=517, kl_local_train=103, metric_mi|age_categorical_train=0.366]"
     ]
    },
    {
     "name": "stdout",
     "output_type": "stream",
     "text": [
      "\r\n",
      "Epoch 323/600:  54%|█████▎    | 322/600 [2:47:38<2:28:54, 32.14s/it, v_num=a0_1, total_loss_train=517, kl_local_train=103, metric_mi|age_categorical_train=0.366]"
     ]
    },
    {
     "name": "stdout",
     "output_type": "stream",
     "text": [
      "\r\n",
      "Epoch 323/600:  54%|█████▍    | 323/600 [2:48:10<2:27:55, 32.04s/it, v_num=a0_1, total_loss_train=517, kl_local_train=103, metric_mi|age_categorical_train=0.366]"
     ]
    },
    {
     "name": "stdout",
     "output_type": "stream",
     "text": [
      "\r\n",
      "Epoch 323/600:  54%|█████▍    | 323/600 [2:48:10<2:27:55, 32.04s/it, v_num=a0_1, total_loss_train=517, kl_local_train=103, metric_mi|age_categorical_train=0.366]"
     ]
    },
    {
     "name": "stdout",
     "output_type": "stream",
     "text": [
      "\r\n",
      "Epoch 324/600:  54%|█████▍    | 323/600 [2:48:10<2:27:55, 32.04s/it, v_num=a0_1, total_loss_train=517, kl_local_train=103, metric_mi|age_categorical_train=0.366]"
     ]
    },
    {
     "name": "stdout",
     "output_type": "stream",
     "text": [
      "\r\n",
      "Epoch 324/600:  54%|█████▍    | 324/600 [2:48:42<2:26:54, 31.94s/it, v_num=a0_1, total_loss_train=517, kl_local_train=103, metric_mi|age_categorical_train=0.366]"
     ]
    },
    {
     "name": "stdout",
     "output_type": "stream",
     "text": [
      "\r\n",
      "Epoch 324/600:  54%|█████▍    | 324/600 [2:48:42<2:26:54, 31.94s/it, v_num=a0_1, total_loss_train=517, kl_local_train=103, metric_mi|age_categorical_train=0.366]"
     ]
    },
    {
     "name": "stdout",
     "output_type": "stream",
     "text": [
      "\r\n",
      "Epoch 325/600:  54%|█████▍    | 324/600 [2:48:42<2:26:54, 31.94s/it, v_num=a0_1, total_loss_train=517, kl_local_train=103, metric_mi|age_categorical_train=0.366]"
     ]
    },
    {
     "name": "stdout",
     "output_type": "stream",
     "text": [
      "\r\n",
      "Epoch 325/600:  54%|█████▍    | 325/600 [2:49:14<2:27:42, 32.23s/it, v_num=a0_1, total_loss_train=517, kl_local_train=103, metric_mi|age_categorical_train=0.366]"
     ]
    },
    {
     "name": "stdout",
     "output_type": "stream",
     "text": [
      "\r\n",
      "Epoch 325/600:  54%|█████▍    | 325/600 [2:49:14<2:27:42, 32.23s/it, v_num=a0_1, total_loss_train=517, kl_local_train=103, metric_mi|age_categorical_train=0.366]"
     ]
    },
    {
     "name": "stdout",
     "output_type": "stream",
     "text": [
      "\r\n",
      "Epoch 326/600:  54%|█████▍    | 325/600 [2:49:15<2:27:42, 32.23s/it, v_num=a0_1, total_loss_train=517, kl_local_train=103, metric_mi|age_categorical_train=0.366]"
     ]
    },
    {
     "name": "stdout",
     "output_type": "stream",
     "text": [
      "\r\n",
      "Epoch 326/600:  54%|█████▍    | 326/600 [2:49:47<2:27:57, 32.40s/it, v_num=a0_1, total_loss_train=517, kl_local_train=103, metric_mi|age_categorical_train=0.366]"
     ]
    },
    {
     "name": "stdout",
     "output_type": "stream",
     "text": [
      "\r\n",
      "Epoch 326/600:  54%|█████▍    | 326/600 [2:49:47<2:27:57, 32.40s/it, v_num=a0_1, total_loss_train=517, kl_local_train=103, metric_mi|age_categorical_train=0.367]"
     ]
    },
    {
     "name": "stdout",
     "output_type": "stream",
     "text": [
      "\r\n",
      "Epoch 327/600:  54%|█████▍    | 326/600 [2:49:47<2:27:57, 32.40s/it, v_num=a0_1, total_loss_train=517, kl_local_train=103, metric_mi|age_categorical_train=0.367]"
     ]
    },
    {
     "name": "stdout",
     "output_type": "stream",
     "text": [
      "\r\n",
      "Epoch 327/600:  55%|█████▍    | 327/600 [2:50:19<2:26:52, 32.28s/it, v_num=a0_1, total_loss_train=517, kl_local_train=103, metric_mi|age_categorical_train=0.367]"
     ]
    },
    {
     "name": "stdout",
     "output_type": "stream",
     "text": [
      "\r\n",
      "Epoch 327/600:  55%|█████▍    | 327/600 [2:50:19<2:26:52, 32.28s/it, v_num=a0_1, total_loss_train=517, kl_local_train=103, metric_mi|age_categorical_train=0.367]"
     ]
    },
    {
     "name": "stdout",
     "output_type": "stream",
     "text": [
      "\r\n",
      "Epoch 328/600:  55%|█████▍    | 327/600 [2:50:19<2:26:52, 32.28s/it, v_num=a0_1, total_loss_train=517, kl_local_train=103, metric_mi|age_categorical_train=0.367]"
     ]
    },
    {
     "name": "stdout",
     "output_type": "stream",
     "text": [
      "\r\n",
      "Epoch 328/600:  55%|█████▍    | 328/600 [2:50:51<2:26:07, 32.23s/it, v_num=a0_1, total_loss_train=517, kl_local_train=103, metric_mi|age_categorical_train=0.367]"
     ]
    },
    {
     "name": "stdout",
     "output_type": "stream",
     "text": [
      "\r\n",
      "Epoch 328/600:  55%|█████▍    | 328/600 [2:50:51<2:26:07, 32.23s/it, v_num=a0_1, total_loss_train=518, kl_local_train=103, metric_mi|age_categorical_train=0.367]"
     ]
    },
    {
     "name": "stdout",
     "output_type": "stream",
     "text": [
      "\r\n",
      "Epoch 329/600:  55%|█████▍    | 328/600 [2:50:51<2:26:07, 32.23s/it, v_num=a0_1, total_loss_train=518, kl_local_train=103, metric_mi|age_categorical_train=0.367]"
     ]
    },
    {
     "name": "stdout",
     "output_type": "stream",
     "text": [
      "\r\n",
      "Epoch 329/600:  55%|█████▍    | 329/600 [2:51:23<2:25:21, 32.18s/it, v_num=a0_1, total_loss_train=518, kl_local_train=103, metric_mi|age_categorical_train=0.367]"
     ]
    },
    {
     "name": "stdout",
     "output_type": "stream",
     "text": [
      "\r\n",
      "Epoch 329/600:  55%|█████▍    | 329/600 [2:51:23<2:25:21, 32.18s/it, v_num=a0_1, total_loss_train=518, kl_local_train=102, metric_mi|age_categorical_train=0.367]"
     ]
    },
    {
     "name": "stdout",
     "output_type": "stream",
     "text": [
      "\r\n",
      "Epoch 330/600:  55%|█████▍    | 329/600 [2:51:23<2:25:21, 32.18s/it, v_num=a0_1, total_loss_train=518, kl_local_train=102, metric_mi|age_categorical_train=0.367]"
     ]
    },
    {
     "name": "stdout",
     "output_type": "stream",
     "text": [
      "\r\n",
      "Epoch 330/600:  55%|█████▌    | 330/600 [2:51:57<2:26:26, 32.54s/it, v_num=a0_1, total_loss_train=518, kl_local_train=102, metric_mi|age_categorical_train=0.367]"
     ]
    },
    {
     "name": "stdout",
     "output_type": "stream",
     "text": [
      "\r\n",
      "Epoch 330/600:  55%|█████▌    | 330/600 [2:51:57<2:26:26, 32.54s/it, v_num=a0_1, total_loss_train=518, kl_local_train=102, metric_mi|age_categorical_train=0.367]"
     ]
    },
    {
     "name": "stdout",
     "output_type": "stream",
     "text": [
      "\r\n",
      "Epoch 331/600:  55%|█████▌    | 330/600 [2:51:57<2:26:26, 32.54s/it, v_num=a0_1, total_loss_train=518, kl_local_train=102, metric_mi|age_categorical_train=0.367]"
     ]
    },
    {
     "name": "stdout",
     "output_type": "stream",
     "text": [
      "\r\n",
      "Epoch 331/600:  55%|█████▌    | 331/600 [2:52:30<2:26:16, 32.63s/it, v_num=a0_1, total_loss_train=518, kl_local_train=102, metric_mi|age_categorical_train=0.367]"
     ]
    },
    {
     "name": "stdout",
     "output_type": "stream",
     "text": [
      "\r\n",
      "Epoch 331/600:  55%|█████▌    | 331/600 [2:52:30<2:26:16, 32.63s/it, v_num=a0_1, total_loss_train=518, kl_local_train=102, metric_mi|age_categorical_train=0.353]"
     ]
    },
    {
     "name": "stdout",
     "output_type": "stream",
     "text": [
      "\r\n",
      "Epoch 332/600:  55%|█████▌    | 331/600 [2:52:30<2:26:16, 32.63s/it, v_num=a0_1, total_loss_train=518, kl_local_train=102, metric_mi|age_categorical_train=0.353]"
     ]
    },
    {
     "name": "stdout",
     "output_type": "stream",
     "text": [
      "\r\n",
      "Epoch 332/600:  55%|█████▌    | 332/600 [2:53:02<2:25:07, 32.49s/it, v_num=a0_1, total_loss_train=518, kl_local_train=102, metric_mi|age_categorical_train=0.353]"
     ]
    },
    {
     "name": "stdout",
     "output_type": "stream",
     "text": [
      "\r\n",
      "Epoch 332/600:  55%|█████▌    | 332/600 [2:53:02<2:25:07, 32.49s/it, v_num=a0_1, total_loss_train=518, kl_local_train=102, metric_mi|age_categorical_train=0.353]"
     ]
    },
    {
     "name": "stdout",
     "output_type": "stream",
     "text": [
      "\r\n",
      "Epoch 333/600:  55%|█████▌    | 332/600 [2:53:02<2:25:07, 32.49s/it, v_num=a0_1, total_loss_train=518, kl_local_train=102, metric_mi|age_categorical_train=0.353]"
     ]
    },
    {
     "name": "stdout",
     "output_type": "stream",
     "text": [
      "\r\n",
      "Epoch 333/600:  56%|█████▌    | 333/600 [2:53:34<2:23:50, 32.32s/it, v_num=a0_1, total_loss_train=518, kl_local_train=102, metric_mi|age_categorical_train=0.353]"
     ]
    },
    {
     "name": "stdout",
     "output_type": "stream",
     "text": [
      "\r\n",
      "Epoch 333/600:  56%|█████▌    | 333/600 [2:53:34<2:23:50, 32.32s/it, v_num=a0_1, total_loss_train=518, kl_local_train=101, metric_mi|age_categorical_train=0.353]"
     ]
    },
    {
     "name": "stdout",
     "output_type": "stream",
     "text": [
      "\r\n",
      "Epoch 334/600:  56%|█████▌    | 333/600 [2:53:34<2:23:50, 32.32s/it, v_num=a0_1, total_loss_train=518, kl_local_train=101, metric_mi|age_categorical_train=0.353]"
     ]
    },
    {
     "name": "stdout",
     "output_type": "stream",
     "text": [
      "\r\n",
      "Epoch 334/600:  56%|█████▌    | 334/600 [2:54:06<2:22:35, 32.16s/it, v_num=a0_1, total_loss_train=518, kl_local_train=101, metric_mi|age_categorical_train=0.353]"
     ]
    },
    {
     "name": "stdout",
     "output_type": "stream",
     "text": [
      "\r\n",
      "Epoch 334/600:  56%|█████▌    | 334/600 [2:54:06<2:22:35, 32.16s/it, v_num=a0_1, total_loss_train=518, kl_local_train=101, metric_mi|age_categorical_train=0.353]"
     ]
    },
    {
     "name": "stdout",
     "output_type": "stream",
     "text": [
      "\r\n",
      "Epoch 335/600:  56%|█████▌    | 334/600 [2:54:06<2:22:35, 32.16s/it, v_num=a0_1, total_loss_train=518, kl_local_train=101, metric_mi|age_categorical_train=0.353]"
     ]
    },
    {
     "name": "stdout",
     "output_type": "stream",
     "text": [
      "\r\n",
      "Epoch 335/600:  56%|█████▌    | 335/600 [2:54:39<2:23:19, 32.45s/it, v_num=a0_1, total_loss_train=518, kl_local_train=101, metric_mi|age_categorical_train=0.353]"
     ]
    },
    {
     "name": "stdout",
     "output_type": "stream",
     "text": [
      "\r\n",
      "Epoch 335/600:  56%|█████▌    | 335/600 [2:54:39<2:23:19, 32.45s/it, v_num=a0_1, total_loss_train=519, kl_local_train=101, metric_mi|age_categorical_train=0.353]"
     ]
    },
    {
     "name": "stdout",
     "output_type": "stream",
     "text": [
      "\r\n",
      "Epoch 336/600:  56%|█████▌    | 335/600 [2:54:39<2:23:19, 32.45s/it, v_num=a0_1, total_loss_train=519, kl_local_train=101, metric_mi|age_categorical_train=0.353]"
     ]
    },
    {
     "name": "stdout",
     "output_type": "stream",
     "text": [
      "\r\n",
      "Epoch 336/600:  56%|█████▌    | 336/600 [2:55:11<2:22:52, 32.47s/it, v_num=a0_1, total_loss_train=519, kl_local_train=101, metric_mi|age_categorical_train=0.353]"
     ]
    },
    {
     "name": "stdout",
     "output_type": "stream",
     "text": [
      "\r\n",
      "Epoch 336/600:  56%|█████▌    | 336/600 [2:55:11<2:22:52, 32.47s/it, v_num=a0_1, total_loss_train=518, kl_local_train=101, metric_mi|age_categorical_train=0.339]"
     ]
    },
    {
     "name": "stdout",
     "output_type": "stream",
     "text": [
      "\r\n",
      "Epoch 337/600:  56%|█████▌    | 336/600 [2:55:11<2:22:52, 32.47s/it, v_num=a0_1, total_loss_train=518, kl_local_train=101, metric_mi|age_categorical_train=0.339]"
     ]
    },
    {
     "name": "stdout",
     "output_type": "stream",
     "text": [
      "\r\n",
      "Epoch 337/600:  56%|█████▌    | 337/600 [2:55:43<2:21:28, 32.28s/it, v_num=a0_1, total_loss_train=518, kl_local_train=101, metric_mi|age_categorical_train=0.339]"
     ]
    },
    {
     "name": "stdout",
     "output_type": "stream",
     "text": [
      "\r\n",
      "Epoch 337/600:  56%|█████▌    | 337/600 [2:55:43<2:21:28, 32.28s/it, v_num=a0_1, total_loss_train=519, kl_local_train=101, metric_mi|age_categorical_train=0.339]"
     ]
    },
    {
     "name": "stdout",
     "output_type": "stream",
     "text": [
      "\r\n",
      "Epoch 338/600:  56%|█████▌    | 337/600 [2:55:43<2:21:28, 32.28s/it, v_num=a0_1, total_loss_train=519, kl_local_train=101, metric_mi|age_categorical_train=0.339]"
     ]
    },
    {
     "name": "stdout",
     "output_type": "stream",
     "text": [
      "\r\n",
      "Epoch 338/600:  56%|█████▋    | 338/600 [2:56:15<2:20:23, 32.15s/it, v_num=a0_1, total_loss_train=519, kl_local_train=101, metric_mi|age_categorical_train=0.339]"
     ]
    },
    {
     "name": "stdout",
     "output_type": "stream",
     "text": [
      "\r\n",
      "Epoch 338/600:  56%|█████▋    | 338/600 [2:56:15<2:20:23, 32.15s/it, v_num=a0_1, total_loss_train=519, kl_local_train=101, metric_mi|age_categorical_train=0.339]"
     ]
    },
    {
     "name": "stdout",
     "output_type": "stream",
     "text": [
      "\r\n",
      "Epoch 339/600:  56%|█████▋    | 338/600 [2:56:15<2:20:23, 32.15s/it, v_num=a0_1, total_loss_train=519, kl_local_train=101, metric_mi|age_categorical_train=0.339]"
     ]
    },
    {
     "name": "stdout",
     "output_type": "stream",
     "text": [
      "\r\n",
      "Epoch 339/600:  56%|█████▋    | 339/600 [2:56:46<2:19:08, 31.99s/it, v_num=a0_1, total_loss_train=519, kl_local_train=101, metric_mi|age_categorical_train=0.339]"
     ]
    },
    {
     "name": "stdout",
     "output_type": "stream",
     "text": [
      "\r\n",
      "Epoch 339/600:  56%|█████▋    | 339/600 [2:56:46<2:19:08, 31.99s/it, v_num=a0_1, total_loss_train=519, kl_local_train=100, metric_mi|age_categorical_train=0.339]"
     ]
    },
    {
     "name": "stdout",
     "output_type": "stream",
     "text": [
      "\r\n",
      "Epoch 340/600:  56%|█████▋    | 339/600 [2:56:46<2:19:08, 31.99s/it, v_num=a0_1, total_loss_train=519, kl_local_train=100, metric_mi|age_categorical_train=0.339]"
     ]
    },
    {
     "name": "stdout",
     "output_type": "stream",
     "text": [
      "\r\n",
      "Epoch 340/600:  57%|█████▋    | 340/600 [2:57:20<2:19:59, 32.31s/it, v_num=a0_1, total_loss_train=519, kl_local_train=100, metric_mi|age_categorical_train=0.339]"
     ]
    },
    {
     "name": "stdout",
     "output_type": "stream",
     "text": [
      "\r\n",
      "Epoch 340/600:  57%|█████▋    | 340/600 [2:57:20<2:19:59, 32.31s/it, v_num=a0_1, total_loss_train=519, kl_local_train=101, metric_mi|age_categorical_train=0.339]"
     ]
    },
    {
     "name": "stdout",
     "output_type": "stream",
     "text": [
      "\r\n",
      "Epoch 341/600:  57%|█████▋    | 340/600 [2:57:20<2:19:59, 32.31s/it, v_num=a0_1, total_loss_train=519, kl_local_train=101, metric_mi|age_categorical_train=0.339]"
     ]
    },
    {
     "name": "stdout",
     "output_type": "stream",
     "text": [
      "\r\n",
      "Epoch 341/600:  57%|█████▋    | 341/600 [2:57:52<2:19:48, 32.39s/it, v_num=a0_1, total_loss_train=519, kl_local_train=101, metric_mi|age_categorical_train=0.339]"
     ]
    },
    {
     "name": "stdout",
     "output_type": "stream",
     "text": [
      "\r\n",
      "Epoch 341/600:  57%|█████▋    | 341/600 [2:57:52<2:19:48, 32.39s/it, v_num=a0_1, total_loss_train=519, kl_local_train=100, metric_mi|age_categorical_train=0.353]"
     ]
    },
    {
     "name": "stdout",
     "output_type": "stream",
     "text": [
      "\r\n",
      "Epoch 342/600:  57%|█████▋    | 341/600 [2:57:52<2:19:48, 32.39s/it, v_num=a0_1, total_loss_train=519, kl_local_train=100, metric_mi|age_categorical_train=0.353]"
     ]
    },
    {
     "name": "stdout",
     "output_type": "stream",
     "text": [
      "\r\n",
      "Epoch 342/600:  57%|█████▋    | 342/600 [2:58:24<2:18:18, 32.16s/it, v_num=a0_1, total_loss_train=519, kl_local_train=100, metric_mi|age_categorical_train=0.353]"
     ]
    },
    {
     "name": "stdout",
     "output_type": "stream",
     "text": [
      "\r\n",
      "Epoch 342/600:  57%|█████▋    | 342/600 [2:58:24<2:18:18, 32.16s/it, v_num=a0_1, total_loss_train=519, kl_local_train=100, metric_mi|age_categorical_train=0.353]"
     ]
    },
    {
     "name": "stdout",
     "output_type": "stream",
     "text": [
      "\r\n",
      "Epoch 343/600:  57%|█████▋    | 342/600 [2:58:24<2:18:18, 32.16s/it, v_num=a0_1, total_loss_train=519, kl_local_train=100, metric_mi|age_categorical_train=0.353]"
     ]
    },
    {
     "name": "stdout",
     "output_type": "stream",
     "text": [
      "\r\n",
      "Epoch 343/600:  57%|█████▋    | 343/600 [2:58:56<2:17:26, 32.09s/it, v_num=a0_1, total_loss_train=519, kl_local_train=100, metric_mi|age_categorical_train=0.353]"
     ]
    },
    {
     "name": "stdout",
     "output_type": "stream",
     "text": [
      "\r\n",
      "Epoch 343/600:  57%|█████▋    | 343/600 [2:58:56<2:17:26, 32.09s/it, v_num=a0_1, total_loss_train=519, kl_local_train=100, metric_mi|age_categorical_train=0.353]"
     ]
    },
    {
     "name": "stdout",
     "output_type": "stream",
     "text": [
      "\r\n",
      "Epoch 344/600:  57%|█████▋    | 343/600 [2:58:56<2:17:26, 32.09s/it, v_num=a0_1, total_loss_train=519, kl_local_train=100, metric_mi|age_categorical_train=0.353]"
     ]
    },
    {
     "name": "stdout",
     "output_type": "stream",
     "text": [
      "\r\n",
      "Epoch 344/600:  57%|█████▋    | 344/600 [2:59:29<2:18:03, 32.36s/it, v_num=a0_1, total_loss_train=519, kl_local_train=100, metric_mi|age_categorical_train=0.353]"
     ]
    },
    {
     "name": "stdout",
     "output_type": "stream",
     "text": [
      "\r\n",
      "Epoch 344/600:  57%|█████▋    | 344/600 [2:59:29<2:18:03, 32.36s/it, v_num=a0_1, total_loss_train=519, kl_local_train=100, metric_mi|age_categorical_train=0.353]"
     ]
    },
    {
     "name": "stdout",
     "output_type": "stream",
     "text": [
      "\r\n",
      "Epoch 345/600:  57%|█████▋    | 344/600 [2:59:29<2:18:03, 32.36s/it, v_num=a0_1, total_loss_train=519, kl_local_train=100, metric_mi|age_categorical_train=0.353]"
     ]
    },
    {
     "name": "stdout",
     "output_type": "stream",
     "text": [
      "\r\n",
      "Epoch 345/600:  57%|█████▊    | 345/600 [3:00:03<2:19:58, 32.94s/it, v_num=a0_1, total_loss_train=519, kl_local_train=100, metric_mi|age_categorical_train=0.353]"
     ]
    },
    {
     "name": "stdout",
     "output_type": "stream",
     "text": [
      "\r\n",
      "Epoch 345/600:  57%|█████▊    | 345/600 [3:00:03<2:19:58, 32.94s/it, v_num=a0_1, total_loss_train=519, kl_local_train=99.6, metric_mi|age_categorical_train=0.353]"
     ]
    },
    {
     "name": "stdout",
     "output_type": "stream",
     "text": [
      "\r\n",
      "Epoch 346/600:  57%|█████▊    | 345/600 [3:00:03<2:19:58, 32.94s/it, v_num=a0_1, total_loss_train=519, kl_local_train=99.6, metric_mi|age_categorical_train=0.353]"
     ]
    },
    {
     "name": "stdout",
     "output_type": "stream",
     "text": [
      "\r\n",
      "Epoch 346/600:  58%|█████▊    | 346/600 [3:00:37<2:21:11, 33.35s/it, v_num=a0_1, total_loss_train=519, kl_local_train=99.6, metric_mi|age_categorical_train=0.353]"
     ]
    },
    {
     "name": "stdout",
     "output_type": "stream",
     "text": [
      "\r\n",
      "Epoch 346/600:  58%|█████▊    | 346/600 [3:00:37<2:21:11, 33.35s/it, v_num=a0_1, total_loss_train=520, kl_local_train=100, metric_mi|age_categorical_train=0.361] "
     ]
    },
    {
     "name": "stdout",
     "output_type": "stream",
     "text": [
      "\r\n",
      "Epoch 347/600:  58%|█████▊    | 346/600 [3:00:37<2:21:11, 33.35s/it, v_num=a0_1, total_loss_train=520, kl_local_train=100, metric_mi|age_categorical_train=0.361]"
     ]
    },
    {
     "name": "stdout",
     "output_type": "stream",
     "text": [
      "\r\n",
      "Epoch 347/600:  58%|█████▊    | 347/600 [3:01:11<2:20:53, 33.41s/it, v_num=a0_1, total_loss_train=520, kl_local_train=100, metric_mi|age_categorical_train=0.361]"
     ]
    },
    {
     "name": "stdout",
     "output_type": "stream",
     "text": [
      "\r\n",
      "Epoch 347/600:  58%|█████▊    | 347/600 [3:01:11<2:20:53, 33.41s/it, v_num=a0_1, total_loss_train=520, kl_local_train=99.4, metric_mi|age_categorical_train=0.361]"
     ]
    },
    {
     "name": "stdout",
     "output_type": "stream",
     "text": [
      "\r\n",
      "Epoch 348/600:  58%|█████▊    | 347/600 [3:01:11<2:20:53, 33.41s/it, v_num=a0_1, total_loss_train=520, kl_local_train=99.4, metric_mi|age_categorical_train=0.361]"
     ]
    },
    {
     "name": "stdout",
     "output_type": "stream",
     "text": [
      "\r\n",
      "Epoch 348/600:  58%|█████▊    | 348/600 [3:01:44<2:20:32, 33.46s/it, v_num=a0_1, total_loss_train=520, kl_local_train=99.4, metric_mi|age_categorical_train=0.361]"
     ]
    },
    {
     "name": "stdout",
     "output_type": "stream",
     "text": [
      "\r\n",
      "Epoch 348/600:  58%|█████▊    | 348/600 [3:01:44<2:20:32, 33.46s/it, v_num=a0_1, total_loss_train=520, kl_local_train=99.9, metric_mi|age_categorical_train=0.361]"
     ]
    },
    {
     "name": "stdout",
     "output_type": "stream",
     "text": [
      "\r\n",
      "Epoch 349/600:  58%|█████▊    | 348/600 [3:01:44<2:20:32, 33.46s/it, v_num=a0_1, total_loss_train=520, kl_local_train=99.9, metric_mi|age_categorical_train=0.361]"
     ]
    },
    {
     "name": "stdout",
     "output_type": "stream",
     "text": [
      "\r\n",
      "Epoch 349/600:  58%|█████▊    | 349/600 [3:02:18<2:19:59, 33.46s/it, v_num=a0_1, total_loss_train=520, kl_local_train=99.9, metric_mi|age_categorical_train=0.361]"
     ]
    },
    {
     "name": "stdout",
     "output_type": "stream",
     "text": [
      "\r\n",
      "Epoch 349/600:  58%|█████▊    | 349/600 [3:02:18<2:19:59, 33.46s/it, v_num=a0_1, total_loss_train=520, kl_local_train=99.7, metric_mi|age_categorical_train=0.361]"
     ]
    },
    {
     "name": "stdout",
     "output_type": "stream",
     "text": [
      "\r\n",
      "Epoch 350/600:  58%|█████▊    | 349/600 [3:02:18<2:19:59, 33.46s/it, v_num=a0_1, total_loss_train=520, kl_local_train=99.7, metric_mi|age_categorical_train=0.361]"
     ]
    },
    {
     "name": "stdout",
     "output_type": "stream",
     "text": [
      "\r\n",
      "Epoch 350/600:  58%|█████▊    | 350/600 [3:02:52<2:20:35, 33.74s/it, v_num=a0_1, total_loss_train=520, kl_local_train=99.7, metric_mi|age_categorical_train=0.361]"
     ]
    },
    {
     "name": "stdout",
     "output_type": "stream",
     "text": [
      "\r\n",
      "Epoch 350/600:  58%|█████▊    | 350/600 [3:02:52<2:20:35, 33.74s/it, v_num=a0_1, total_loss_train=520, kl_local_train=99.5, metric_mi|age_categorical_train=0.361]"
     ]
    },
    {
     "name": "stdout",
     "output_type": "stream",
     "text": [
      "\r\n",
      "Epoch 351/600:  58%|█████▊    | 350/600 [3:02:53<2:20:35, 33.74s/it, v_num=a0_1, total_loss_train=520, kl_local_train=99.5, metric_mi|age_categorical_train=0.361]"
     ]
    },
    {
     "name": "stdout",
     "output_type": "stream",
     "text": [
      "\r\n",
      "Epoch 351/600:  58%|█████▊    | 351/600 [3:03:26<2:20:11, 33.78s/it, v_num=a0_1, total_loss_train=520, kl_local_train=99.5, metric_mi|age_categorical_train=0.361]"
     ]
    },
    {
     "name": "stdout",
     "output_type": "stream",
     "text": [
      "\r\n",
      "Epoch 351/600:  58%|█████▊    | 351/600 [3:03:26<2:20:11, 33.78s/it, v_num=a0_1, total_loss_train=520, kl_local_train=99.4, metric_mi|age_categorical_train=0.371]"
     ]
    },
    {
     "name": "stdout",
     "output_type": "stream",
     "text": [
      "\r\n",
      "Epoch 352/600:  58%|█████▊    | 351/600 [3:03:26<2:20:11, 33.78s/it, v_num=a0_1, total_loss_train=520, kl_local_train=99.4, metric_mi|age_categorical_train=0.371]"
     ]
    },
    {
     "name": "stdout",
     "output_type": "stream",
     "text": [
      "\r\n",
      "Epoch 352/600:  59%|█████▊    | 352/600 [3:03:58<2:17:15, 33.21s/it, v_num=a0_1, total_loss_train=520, kl_local_train=99.4, metric_mi|age_categorical_train=0.371]"
     ]
    },
    {
     "name": "stdout",
     "output_type": "stream",
     "text": [
      "\r\n",
      "Epoch 352/600:  59%|█████▊    | 352/600 [3:03:58<2:17:15, 33.21s/it, v_num=a0_1, total_loss_train=520, kl_local_train=98.9, metric_mi|age_categorical_train=0.371]"
     ]
    },
    {
     "name": "stdout",
     "output_type": "stream",
     "text": [
      "\r\n",
      "Epoch 353/600:  59%|█████▊    | 352/600 [3:03:58<2:17:15, 33.21s/it, v_num=a0_1, total_loss_train=520, kl_local_train=98.9, metric_mi|age_categorical_train=0.371]"
     ]
    },
    {
     "name": "stdout",
     "output_type": "stream",
     "text": [
      "\r\n",
      "Epoch 353/600:  59%|█████▉    | 353/600 [3:04:29<2:14:10, 32.59s/it, v_num=a0_1, total_loss_train=520, kl_local_train=98.9, metric_mi|age_categorical_train=0.371]"
     ]
    },
    {
     "name": "stdout",
     "output_type": "stream",
     "text": [
      "\r\n",
      "Epoch 353/600:  59%|█████▉    | 353/600 [3:04:29<2:14:10, 32.59s/it, v_num=a0_1, total_loss_train=520, kl_local_train=98.7, metric_mi|age_categorical_train=0.371]"
     ]
    },
    {
     "name": "stdout",
     "output_type": "stream",
     "text": [
      "\r\n",
      "Epoch 354/600:  59%|█████▉    | 353/600 [3:04:29<2:14:10, 32.59s/it, v_num=a0_1, total_loss_train=520, kl_local_train=98.7, metric_mi|age_categorical_train=0.371]"
     ]
    },
    {
     "name": "stdout",
     "output_type": "stream",
     "text": [
      "\r\n",
      "Epoch 354/600:  59%|█████▉    | 354/600 [3:05:00<2:11:32, 32.08s/it, v_num=a0_1, total_loss_train=520, kl_local_train=98.7, metric_mi|age_categorical_train=0.371]"
     ]
    },
    {
     "name": "stdout",
     "output_type": "stream",
     "text": [
      "\r\n",
      "Epoch 354/600:  59%|█████▉    | 354/600 [3:05:00<2:11:32, 32.08s/it, v_num=a0_1, total_loss_train=521, kl_local_train=98.6, metric_mi|age_categorical_train=0.371]"
     ]
    },
    {
     "name": "stdout",
     "output_type": "stream",
     "text": [
      "\r\n",
      "Epoch 355/600:  59%|█████▉    | 354/600 [3:05:00<2:11:32, 32.08s/it, v_num=a0_1, total_loss_train=521, kl_local_train=98.6, metric_mi|age_categorical_train=0.371]"
     ]
    },
    {
     "name": "stdout",
     "output_type": "stream",
     "text": [
      "\r\n",
      "Epoch 355/600:  59%|█████▉    | 355/600 [3:05:32<2:11:26, 32.19s/it, v_num=a0_1, total_loss_train=521, kl_local_train=98.6, metric_mi|age_categorical_train=0.371]"
     ]
    },
    {
     "name": "stdout",
     "output_type": "stream",
     "text": [
      "\r\n",
      "Epoch 355/600:  59%|█████▉    | 355/600 [3:05:32<2:11:26, 32.19s/it, v_num=a0_1, total_loss_train=521, kl_local_train=98.8, metric_mi|age_categorical_train=0.371]"
     ]
    },
    {
     "name": "stdout",
     "output_type": "stream",
     "text": [
      "\r\n",
      "Epoch 356/600:  59%|█████▉    | 355/600 [3:05:33<2:11:26, 32.19s/it, v_num=a0_1, total_loss_train=521, kl_local_train=98.8, metric_mi|age_categorical_train=0.371]"
     ]
    },
    {
     "name": "stdout",
     "output_type": "stream",
     "text": [
      "\r\n",
      "Epoch 356/600:  59%|█████▉    | 356/600 [3:06:04<2:09:47, 31.92s/it, v_num=a0_1, total_loss_train=521, kl_local_train=98.8, metric_mi|age_categorical_train=0.371]"
     ]
    },
    {
     "name": "stdout",
     "output_type": "stream",
     "text": [
      "\r\n",
      "Epoch 356/600:  59%|█████▉    | 356/600 [3:06:04<2:09:47, 31.92s/it, v_num=a0_1, total_loss_train=521, kl_local_train=98.6, metric_mi|age_categorical_train=0.365]"
     ]
    },
    {
     "name": "stdout",
     "output_type": "stream",
     "text": [
      "\r\n",
      "Epoch 357/600:  59%|█████▉    | 356/600 [3:06:04<2:09:47, 31.92s/it, v_num=a0_1, total_loss_train=521, kl_local_train=98.6, metric_mi|age_categorical_train=0.365]"
     ]
    },
    {
     "name": "stdout",
     "output_type": "stream",
     "text": [
      "\r\n",
      "Epoch 357/600:  60%|█████▉    | 357/600 [3:06:34<2:07:35, 31.50s/it, v_num=a0_1, total_loss_train=521, kl_local_train=98.6, metric_mi|age_categorical_train=0.365]"
     ]
    },
    {
     "name": "stdout",
     "output_type": "stream",
     "text": [
      "\r\n",
      "Epoch 357/600:  60%|█████▉    | 357/600 [3:06:34<2:07:35, 31.50s/it, v_num=a0_1, total_loss_train=521, kl_local_train=98, metric_mi|age_categorical_train=0.365]  "
     ]
    },
    {
     "name": "stdout",
     "output_type": "stream",
     "text": [
      "\r\n",
      "Epoch 358/600:  60%|█████▉    | 357/600 [3:06:34<2:07:35, 31.50s/it, v_num=a0_1, total_loss_train=521, kl_local_train=98, metric_mi|age_categorical_train=0.365]"
     ]
    },
    {
     "name": "stdout",
     "output_type": "stream",
     "text": [
      "\r\n",
      "Epoch 358/600:  60%|█████▉    | 358/600 [3:07:05<2:05:49, 31.20s/it, v_num=a0_1, total_loss_train=521, kl_local_train=98, metric_mi|age_categorical_train=0.365]"
     ]
    },
    {
     "name": "stdout",
     "output_type": "stream",
     "text": [
      "\r\n",
      "Epoch 358/600:  60%|█████▉    | 358/600 [3:07:05<2:05:49, 31.20s/it, v_num=a0_1, total_loss_train=521, kl_local_train=98, metric_mi|age_categorical_train=0.365]"
     ]
    },
    {
     "name": "stdout",
     "output_type": "stream",
     "text": [
      "\r\n",
      "Epoch 359/600:  60%|█████▉    | 358/600 [3:07:05<2:05:49, 31.20s/it, v_num=a0_1, total_loss_train=521, kl_local_train=98, metric_mi|age_categorical_train=0.365]"
     ]
    },
    {
     "name": "stdout",
     "output_type": "stream",
     "text": [
      "\r\n",
      "Epoch 359/600:  60%|█████▉    | 359/600 [3:07:36<2:05:12, 31.17s/it, v_num=a0_1, total_loss_train=521, kl_local_train=98, metric_mi|age_categorical_train=0.365]"
     ]
    },
    {
     "name": "stdout",
     "output_type": "stream",
     "text": [
      "\r\n",
      "Epoch 359/600:  60%|█████▉    | 359/600 [3:07:36<2:05:12, 31.17s/it, v_num=a0_1, total_loss_train=521, kl_local_train=97.9, metric_mi|age_categorical_train=0.365]"
     ]
    },
    {
     "name": "stdout",
     "output_type": "stream",
     "text": [
      "\r\n",
      "Epoch 360/600:  60%|█████▉    | 359/600 [3:07:36<2:05:12, 31.17s/it, v_num=a0_1, total_loss_train=521, kl_local_train=97.9, metric_mi|age_categorical_train=0.365]"
     ]
    },
    {
     "name": "stdout",
     "output_type": "stream",
     "text": [
      "\r\n",
      "Epoch 360/600:  60%|██████    | 360/600 [3:08:07<2:05:11, 31.30s/it, v_num=a0_1, total_loss_train=521, kl_local_train=97.9, metric_mi|age_categorical_train=0.365]"
     ]
    },
    {
     "name": "stdout",
     "output_type": "stream",
     "text": [
      "\r\n",
      "Epoch 360/600:  60%|██████    | 360/600 [3:08:07<2:05:11, 31.30s/it, v_num=a0_1, total_loss_train=521, kl_local_train=97.8, metric_mi|age_categorical_train=0.365]"
     ]
    },
    {
     "name": "stdout",
     "output_type": "stream",
     "text": [
      "\r\n",
      "Epoch 361/600:  60%|██████    | 360/600 [3:08:08<2:05:11, 31.30s/it, v_num=a0_1, total_loss_train=521, kl_local_train=97.8, metric_mi|age_categorical_train=0.365]"
     ]
    },
    {
     "name": "stdout",
     "output_type": "stream",
     "text": [
      "\r\n",
      "Epoch 361/600:  60%|██████    | 361/600 [3:08:38<2:04:03, 31.14s/it, v_num=a0_1, total_loss_train=521, kl_local_train=97.8, metric_mi|age_categorical_train=0.365]"
     ]
    },
    {
     "name": "stdout",
     "output_type": "stream",
     "text": [
      "\r\n",
      "Epoch 361/600:  60%|██████    | 361/600 [3:08:38<2:04:03, 31.14s/it, v_num=a0_1, total_loss_train=521, kl_local_train=97.4, metric_mi|age_categorical_train=0.358]"
     ]
    },
    {
     "name": "stdout",
     "output_type": "stream",
     "text": [
      "\r\n",
      "Epoch 362/600:  60%|██████    | 361/600 [3:08:38<2:04:03, 31.14s/it, v_num=a0_1, total_loss_train=521, kl_local_train=97.4, metric_mi|age_categorical_train=0.358]"
     ]
    },
    {
     "name": "stdout",
     "output_type": "stream",
     "text": [
      "\r\n",
      "Epoch 362/600:  60%|██████    | 362/600 [3:09:09<2:02:32, 30.89s/it, v_num=a0_1, total_loss_train=521, kl_local_train=97.4, metric_mi|age_categorical_train=0.358]"
     ]
    },
    {
     "name": "stdout",
     "output_type": "stream",
     "text": [
      "\r\n",
      "Epoch 362/600:  60%|██████    | 362/600 [3:09:09<2:02:32, 30.89s/it, v_num=a0_1, total_loss_train=521, kl_local_train=97.4, metric_mi|age_categorical_train=0.358]"
     ]
    },
    {
     "name": "stdout",
     "output_type": "stream",
     "text": [
      "\r\n",
      "Epoch 363/600:  60%|██████    | 362/600 [3:09:09<2:02:32, 30.89s/it, v_num=a0_1, total_loss_train=521, kl_local_train=97.4, metric_mi|age_categorical_train=0.358]"
     ]
    },
    {
     "name": "stdout",
     "output_type": "stream",
     "text": [
      "\r\n",
      "Epoch 363/600:  60%|██████    | 363/600 [3:09:39<2:01:28, 30.75s/it, v_num=a0_1, total_loss_train=521, kl_local_train=97.4, metric_mi|age_categorical_train=0.358]"
     ]
    },
    {
     "name": "stdout",
     "output_type": "stream",
     "text": [
      "\r\n",
      "Epoch 363/600:  60%|██████    | 363/600 [3:09:39<2:01:28, 30.75s/it, v_num=a0_1, total_loss_train=522, kl_local_train=97.9, metric_mi|age_categorical_train=0.358]"
     ]
    },
    {
     "name": "stdout",
     "output_type": "stream",
     "text": [
      "\r\n",
      "Epoch 364/600:  60%|██████    | 363/600 [3:09:39<2:01:28, 30.75s/it, v_num=a0_1, total_loss_train=522, kl_local_train=97.9, metric_mi|age_categorical_train=0.358]"
     ]
    },
    {
     "name": "stdout",
     "output_type": "stream",
     "text": [
      "\r\n",
      "Epoch 364/600:  61%|██████    | 364/600 [3:10:09<2:00:26, 30.62s/it, v_num=a0_1, total_loss_train=522, kl_local_train=97.9, metric_mi|age_categorical_train=0.358]"
     ]
    },
    {
     "name": "stdout",
     "output_type": "stream",
     "text": [
      "\r\n",
      "Epoch 364/600:  61%|██████    | 364/600 [3:10:09<2:00:26, 30.62s/it, v_num=a0_1, total_loss_train=522, kl_local_train=97.8, metric_mi|age_categorical_train=0.358]"
     ]
    },
    {
     "name": "stdout",
     "output_type": "stream",
     "text": [
      "\r\n",
      "Epoch 365/600:  61%|██████    | 364/600 [3:10:09<2:00:26, 30.62s/it, v_num=a0_1, total_loss_train=522, kl_local_train=97.8, metric_mi|age_categorical_train=0.358]"
     ]
    },
    {
     "name": "stdout",
     "output_type": "stream",
     "text": [
      "\r\n",
      "Epoch 365/600:  61%|██████    | 365/600 [3:10:40<2:00:34, 30.79s/it, v_num=a0_1, total_loss_train=522, kl_local_train=97.8, metric_mi|age_categorical_train=0.358]"
     ]
    },
    {
     "name": "stdout",
     "output_type": "stream",
     "text": [
      "\r\n",
      "Epoch 365/600:  61%|██████    | 365/600 [3:10:40<2:00:34, 30.79s/it, v_num=a0_1, total_loss_train=522, kl_local_train=97.8, metric_mi|age_categorical_train=0.358]"
     ]
    },
    {
     "name": "stdout",
     "output_type": "stream",
     "text": [
      "\r\n",
      "Epoch 366/600:  61%|██████    | 365/600 [3:10:41<2:00:34, 30.79s/it, v_num=a0_1, total_loss_train=522, kl_local_train=97.8, metric_mi|age_categorical_train=0.358]"
     ]
    },
    {
     "name": "stdout",
     "output_type": "stream",
     "text": [
      "\r\n",
      "Epoch 366/600:  61%|██████    | 366/600 [3:11:11<2:00:12, 30.82s/it, v_num=a0_1, total_loss_train=522, kl_local_train=97.8, metric_mi|age_categorical_train=0.358]"
     ]
    },
    {
     "name": "stdout",
     "output_type": "stream",
     "text": [
      "\r\n",
      "Epoch 366/600:  61%|██████    | 366/600 [3:11:11<2:00:12, 30.82s/it, v_num=a0_1, total_loss_train=522, kl_local_train=97.1, metric_mi|age_categorical_train=0.343]"
     ]
    },
    {
     "name": "stdout",
     "output_type": "stream",
     "text": [
      "\r\n",
      "Epoch 367/600:  61%|██████    | 366/600 [3:11:11<2:00:12, 30.82s/it, v_num=a0_1, total_loss_train=522, kl_local_train=97.1, metric_mi|age_categorical_train=0.343]"
     ]
    },
    {
     "name": "stdout",
     "output_type": "stream",
     "text": [
      "\r\n",
      "Epoch 367/600:  61%|██████    | 367/600 [3:11:42<1:59:29, 30.77s/it, v_num=a0_1, total_loss_train=522, kl_local_train=97.1, metric_mi|age_categorical_train=0.343]"
     ]
    },
    {
     "name": "stdout",
     "output_type": "stream",
     "text": [
      "\r\n",
      "Epoch 367/600:  61%|██████    | 367/600 [3:11:42<1:59:29, 30.77s/it, v_num=a0_1, total_loss_train=522, kl_local_train=97.2, metric_mi|age_categorical_train=0.343]"
     ]
    },
    {
     "name": "stdout",
     "output_type": "stream",
     "text": [
      "\r\n",
      "Epoch 368/600:  61%|██████    | 367/600 [3:11:42<1:59:29, 30.77s/it, v_num=a0_1, total_loss_train=522, kl_local_train=97.2, metric_mi|age_categorical_train=0.343]"
     ]
    },
    {
     "name": "stdout",
     "output_type": "stream",
     "text": [
      "\r\n",
      "Epoch 368/600:  61%|██████▏   | 368/600 [3:12:13<1:58:51, 30.74s/it, v_num=a0_1, total_loss_train=522, kl_local_train=97.2, metric_mi|age_categorical_train=0.343]"
     ]
    },
    {
     "name": "stdout",
     "output_type": "stream",
     "text": [
      "\r\n",
      "Epoch 368/600:  61%|██████▏   | 368/600 [3:12:13<1:58:51, 30.74s/it, v_num=a0_1, total_loss_train=522, kl_local_train=97.2, metric_mi|age_categorical_train=0.343]"
     ]
    },
    {
     "name": "stdout",
     "output_type": "stream",
     "text": [
      "\r\n",
      "Epoch 369/600:  61%|██████▏   | 368/600 [3:12:13<1:58:51, 30.74s/it, v_num=a0_1, total_loss_train=522, kl_local_train=97.2, metric_mi|age_categorical_train=0.343]"
     ]
    },
    {
     "name": "stdout",
     "output_type": "stream",
     "text": [
      "\r\n",
      "Epoch 369/600:  62%|██████▏   | 369/600 [3:12:43<1:58:12, 30.70s/it, v_num=a0_1, total_loss_train=522, kl_local_train=97.2, metric_mi|age_categorical_train=0.343]"
     ]
    },
    {
     "name": "stdout",
     "output_type": "stream",
     "text": [
      "\r\n",
      "Epoch 369/600:  62%|██████▏   | 369/600 [3:12:43<1:58:12, 30.70s/it, v_num=a0_1, total_loss_train=522, kl_local_train=96.9, metric_mi|age_categorical_train=0.343]"
     ]
    },
    {
     "name": "stdout",
     "output_type": "stream",
     "text": [
      "\r\n",
      "Epoch 370/600:  62%|██████▏   | 369/600 [3:12:43<1:58:12, 30.70s/it, v_num=a0_1, total_loss_train=522, kl_local_train=96.9, metric_mi|age_categorical_train=0.343]"
     ]
    },
    {
     "name": "stdout",
     "output_type": "stream",
     "text": [
      "\r\n",
      "Epoch 370/600:  62%|██████▏   | 370/600 [3:13:15<1:58:38, 30.95s/it, v_num=a0_1, total_loss_train=522, kl_local_train=96.9, metric_mi|age_categorical_train=0.343]"
     ]
    },
    {
     "name": "stdout",
     "output_type": "stream",
     "text": [
      "\r\n",
      "Epoch 370/600:  62%|██████▏   | 370/600 [3:13:15<1:58:38, 30.95s/it, v_num=a0_1, total_loss_train=522, kl_local_train=96.7, metric_mi|age_categorical_train=0.343]"
     ]
    },
    {
     "name": "stdout",
     "output_type": "stream",
     "text": [
      "\r\n",
      "Epoch 371/600:  62%|██████▏   | 370/600 [3:13:15<1:58:38, 30.95s/it, v_num=a0_1, total_loss_train=522, kl_local_train=96.7, metric_mi|age_categorical_train=0.343]"
     ]
    },
    {
     "name": "stdout",
     "output_type": "stream",
     "text": [
      "\r\n",
      "Epoch 371/600:  62%|██████▏   | 371/600 [3:13:46<1:58:29, 31.05s/it, v_num=a0_1, total_loss_train=522, kl_local_train=96.7, metric_mi|age_categorical_train=0.343]"
     ]
    },
    {
     "name": "stdout",
     "output_type": "stream",
     "text": [
      "\r\n",
      "Epoch 371/600:  62%|██████▏   | 371/600 [3:13:46<1:58:29, 31.05s/it, v_num=a0_1, total_loss_train=522, kl_local_train=96.9, metric_mi|age_categorical_train=0.336]"
     ]
    },
    {
     "name": "stdout",
     "output_type": "stream",
     "text": [
      "\r\n",
      "Epoch 372/600:  62%|██████▏   | 371/600 [3:13:46<1:58:29, 31.05s/it, v_num=a0_1, total_loss_train=522, kl_local_train=96.9, metric_mi|age_categorical_train=0.336]"
     ]
    },
    {
     "name": "stdout",
     "output_type": "stream",
     "text": [
      "\r\n",
      "Epoch 372/600:  62%|██████▏   | 372/600 [3:14:17<1:57:32, 30.93s/it, v_num=a0_1, total_loss_train=522, kl_local_train=96.9, metric_mi|age_categorical_train=0.336]"
     ]
    },
    {
     "name": "stdout",
     "output_type": "stream",
     "text": [
      "\r\n",
      "Epoch 372/600:  62%|██████▏   | 372/600 [3:14:17<1:57:32, 30.93s/it, v_num=a0_1, total_loss_train=522, kl_local_train=96.7, metric_mi|age_categorical_train=0.336]"
     ]
    },
    {
     "name": "stdout",
     "output_type": "stream",
     "text": [
      "\r\n",
      "Epoch 373/600:  62%|██████▏   | 372/600 [3:14:17<1:57:32, 30.93s/it, v_num=a0_1, total_loss_train=522, kl_local_train=96.7, metric_mi|age_categorical_train=0.336]"
     ]
    },
    {
     "name": "stdout",
     "output_type": "stream",
     "text": [
      "\r\n",
      "Epoch 373/600:  62%|██████▏   | 373/600 [3:14:47<1:56:39, 30.83s/it, v_num=a0_1, total_loss_train=522, kl_local_train=96.7, metric_mi|age_categorical_train=0.336]"
     ]
    },
    {
     "name": "stdout",
     "output_type": "stream",
     "text": [
      "\r\n",
      "Epoch 373/600:  62%|██████▏   | 373/600 [3:14:47<1:56:39, 30.83s/it, v_num=a0_1, total_loss_train=523, kl_local_train=96.5, metric_mi|age_categorical_train=0.336]"
     ]
    },
    {
     "name": "stdout",
     "output_type": "stream",
     "text": [
      "\r\n",
      "Epoch 374/600:  62%|██████▏   | 373/600 [3:14:47<1:56:39, 30.83s/it, v_num=a0_1, total_loss_train=523, kl_local_train=96.5, metric_mi|age_categorical_train=0.336]"
     ]
    },
    {
     "name": "stdout",
     "output_type": "stream",
     "text": [
      "\r\n",
      "Epoch 374/600:  62%|██████▏   | 374/600 [3:15:19<1:56:46, 31.00s/it, v_num=a0_1, total_loss_train=523, kl_local_train=96.5, metric_mi|age_categorical_train=0.336]"
     ]
    },
    {
     "name": "stdout",
     "output_type": "stream",
     "text": [
      "\r\n",
      "Epoch 374/600:  62%|██████▏   | 374/600 [3:15:19<1:56:46, 31.00s/it, v_num=a0_1, total_loss_train=523, kl_local_train=96.2, metric_mi|age_categorical_train=0.336]"
     ]
    },
    {
     "name": "stdout",
     "output_type": "stream",
     "text": [
      "\r\n",
      "Epoch 375/600:  62%|██████▏   | 374/600 [3:15:19<1:56:46, 31.00s/it, v_num=a0_1, total_loss_train=523, kl_local_train=96.2, metric_mi|age_categorical_train=0.336]"
     ]
    },
    {
     "name": "stdout",
     "output_type": "stream",
     "text": [
      "\r\n",
      "Epoch 375/600:  62%|██████▎   | 375/600 [3:15:51<1:57:21, 31.30s/it, v_num=a0_1, total_loss_train=523, kl_local_train=96.2, metric_mi|age_categorical_train=0.336]"
     ]
    },
    {
     "name": "stdout",
     "output_type": "stream",
     "text": [
      "\r\n",
      "Epoch 375/600:  62%|██████▎   | 375/600 [3:15:51<1:57:21, 31.30s/it, v_num=a0_1, total_loss_train=523, kl_local_train=96.1, metric_mi|age_categorical_train=0.336]"
     ]
    },
    {
     "name": "stdout",
     "output_type": "stream",
     "text": [
      "\r\n",
      "Epoch 376/600:  62%|██████▎   | 375/600 [3:15:51<1:57:21, 31.30s/it, v_num=a0_1, total_loss_train=523, kl_local_train=96.1, metric_mi|age_categorical_train=0.336]"
     ]
    },
    {
     "name": "stdout",
     "output_type": "stream",
     "text": [
      "\r\n",
      "Epoch 376/600:  63%|██████▎   | 376/600 [3:16:22<1:57:12, 31.39s/it, v_num=a0_1, total_loss_train=523, kl_local_train=96.1, metric_mi|age_categorical_train=0.336]"
     ]
    },
    {
     "name": "stdout",
     "output_type": "stream",
     "text": [
      "\r\n",
      "Epoch 376/600:  63%|██████▎   | 376/600 [3:16:22<1:57:12, 31.39s/it, v_num=a0_1, total_loss_train=523, kl_local_train=95.7, metric_mi|age_categorical_train=0.334]"
     ]
    },
    {
     "name": "stdout",
     "output_type": "stream",
     "text": [
      "\r\n",
      "Epoch 377/600:  63%|██████▎   | 376/600 [3:16:22<1:57:12, 31.39s/it, v_num=a0_1, total_loss_train=523, kl_local_train=95.7, metric_mi|age_categorical_train=0.334]"
     ]
    },
    {
     "name": "stdout",
     "output_type": "stream",
     "text": [
      "\r\n",
      "Epoch 377/600:  63%|██████▎   | 377/600 [3:16:53<1:55:54, 31.18s/it, v_num=a0_1, total_loss_train=523, kl_local_train=95.7, metric_mi|age_categorical_train=0.334]"
     ]
    },
    {
     "name": "stdout",
     "output_type": "stream",
     "text": [
      "\r\n",
      "Epoch 377/600:  63%|██████▎   | 377/600 [3:16:53<1:55:54, 31.18s/it, v_num=a0_1, total_loss_train=523, kl_local_train=96.1, metric_mi|age_categorical_train=0.334]"
     ]
    },
    {
     "name": "stdout",
     "output_type": "stream",
     "text": [
      "\r\n",
      "Epoch 378/600:  63%|██████▎   | 377/600 [3:16:53<1:55:54, 31.18s/it, v_num=a0_1, total_loss_train=523, kl_local_train=96.1, metric_mi|age_categorical_train=0.334]"
     ]
    },
    {
     "name": "stdout",
     "output_type": "stream",
     "text": [
      "\r\n",
      "Epoch 378/600:  63%|██████▎   | 378/600 [3:17:24<1:54:56, 31.06s/it, v_num=a0_1, total_loss_train=523, kl_local_train=96.1, metric_mi|age_categorical_train=0.334]"
     ]
    },
    {
     "name": "stdout",
     "output_type": "stream",
     "text": [
      "\r\n",
      "Epoch 378/600:  63%|██████▎   | 378/600 [3:17:24<1:54:56, 31.06s/it, v_num=a0_1, total_loss_train=523, kl_local_train=95.6, metric_mi|age_categorical_train=0.334]"
     ]
    },
    {
     "name": "stdout",
     "output_type": "stream",
     "text": [
      "\r\n",
      "Epoch 379/600:  63%|██████▎   | 378/600 [3:17:24<1:54:56, 31.06s/it, v_num=a0_1, total_loss_train=523, kl_local_train=95.6, metric_mi|age_categorical_train=0.334]"
     ]
    },
    {
     "name": "stdout",
     "output_type": "stream",
     "text": [
      "\r\n",
      "Epoch 379/600:  63%|██████▎   | 379/600 [3:17:55<1:54:03, 30.97s/it, v_num=a0_1, total_loss_train=523, kl_local_train=95.6, metric_mi|age_categorical_train=0.334]"
     ]
    },
    {
     "name": "stdout",
     "output_type": "stream",
     "text": [
      "\r\n",
      "Epoch 379/600:  63%|██████▎   | 379/600 [3:17:55<1:54:03, 30.97s/it, v_num=a0_1, total_loss_train=523, kl_local_train=95.7, metric_mi|age_categorical_train=0.334]"
     ]
    },
    {
     "name": "stdout",
     "output_type": "stream",
     "text": [
      "\r\n",
      "Epoch 380/600:  63%|██████▎   | 379/600 [3:17:55<1:54:03, 30.97s/it, v_num=a0_1, total_loss_train=523, kl_local_train=95.7, metric_mi|age_categorical_train=0.334]"
     ]
    },
    {
     "name": "stdout",
     "output_type": "stream",
     "text": [
      "\r\n",
      "Epoch 380/600:  63%|██████▎   | 380/600 [3:18:26<1:54:13, 31.15s/it, v_num=a0_1, total_loss_train=523, kl_local_train=95.7, metric_mi|age_categorical_train=0.334]"
     ]
    },
    {
     "name": "stdout",
     "output_type": "stream",
     "text": [
      "\r\n",
      "Epoch 380/600:  63%|██████▎   | 380/600 [3:18:26<1:54:13, 31.15s/it, v_num=a0_1, total_loss_train=523, kl_local_train=95.5, metric_mi|age_categorical_train=0.334]"
     ]
    },
    {
     "name": "stdout",
     "output_type": "stream",
     "text": [
      "\r\n",
      "Epoch 381/600:  63%|██████▎   | 380/600 [3:18:27<1:54:13, 31.15s/it, v_num=a0_1, total_loss_train=523, kl_local_train=95.5, metric_mi|age_categorical_train=0.334]"
     ]
    },
    {
     "name": "stdout",
     "output_type": "stream",
     "text": [
      "\r\n",
      "Epoch 381/600:  64%|██████▎   | 381/600 [3:18:58<1:53:53, 31.20s/it, v_num=a0_1, total_loss_train=523, kl_local_train=95.5, metric_mi|age_categorical_train=0.334]"
     ]
    },
    {
     "name": "stdout",
     "output_type": "stream",
     "text": [
      "\r\n",
      "Epoch 381/600:  64%|██████▎   | 381/600 [3:18:58<1:53:53, 31.20s/it, v_num=a0_1, total_loss_train=523, kl_local_train=95.3, metric_mi|age_categorical_train=0.343]"
     ]
    },
    {
     "name": "stdout",
     "output_type": "stream",
     "text": [
      "\r\n",
      "Epoch 382/600:  64%|██████▎   | 381/600 [3:18:58<1:53:53, 31.20s/it, v_num=a0_1, total_loss_train=523, kl_local_train=95.3, metric_mi|age_categorical_train=0.343]"
     ]
    },
    {
     "name": "stdout",
     "output_type": "stream",
     "text": [
      "\r\n",
      "Epoch 382/600:  64%|██████▎   | 382/600 [3:19:28<1:52:47, 31.04s/it, v_num=a0_1, total_loss_train=523, kl_local_train=95.3, metric_mi|age_categorical_train=0.343]"
     ]
    },
    {
     "name": "stdout",
     "output_type": "stream",
     "text": [
      "\r\n",
      "Epoch 382/600:  64%|██████▎   | 382/600 [3:19:28<1:52:47, 31.04s/it, v_num=a0_1, total_loss_train=523, kl_local_train=95.3, metric_mi|age_categorical_train=0.343]"
     ]
    },
    {
     "name": "stdout",
     "output_type": "stream",
     "text": [
      "\r\n",
      "Epoch 383/600:  64%|██████▎   | 382/600 [3:19:28<1:52:47, 31.04s/it, v_num=a0_1, total_loss_train=523, kl_local_train=95.3, metric_mi|age_categorical_train=0.343]"
     ]
    },
    {
     "name": "stdout",
     "output_type": "stream",
     "text": [
      "\r\n",
      "Epoch 383/600:  64%|██████▍   | 383/600 [3:19:59<1:51:55, 30.95s/it, v_num=a0_1, total_loss_train=523, kl_local_train=95.3, metric_mi|age_categorical_train=0.343]"
     ]
    },
    {
     "name": "stdout",
     "output_type": "stream",
     "text": [
      "\r\n",
      "Epoch 383/600:  64%|██████▍   | 383/600 [3:19:59<1:51:55, 30.95s/it, v_num=a0_1, total_loss_train=523, kl_local_train=95, metric_mi|age_categorical_train=0.343]  "
     ]
    },
    {
     "name": "stdout",
     "output_type": "stream",
     "text": [
      "\r\n",
      "Epoch 384/600:  64%|██████▍   | 383/600 [3:19:59<1:51:55, 30.95s/it, v_num=a0_1, total_loss_train=523, kl_local_train=95, metric_mi|age_categorical_train=0.343]"
     ]
    },
    {
     "name": "stdout",
     "output_type": "stream",
     "text": [
      "\r\n",
      "Epoch 384/600:  64%|██████▍   | 384/600 [3:20:30<1:51:17, 30.91s/it, v_num=a0_1, total_loss_train=523, kl_local_train=95, metric_mi|age_categorical_train=0.343]"
     ]
    },
    {
     "name": "stdout",
     "output_type": "stream",
     "text": [
      "\r\n",
      "Epoch 384/600:  64%|██████▍   | 384/600 [3:20:30<1:51:17, 30.91s/it, v_num=a0_1, total_loss_train=523, kl_local_train=94.8, metric_mi|age_categorical_train=0.343]"
     ]
    },
    {
     "name": "stdout",
     "output_type": "stream",
     "text": [
      "\r\n",
      "Epoch 385/600:  64%|██████▍   | 384/600 [3:20:30<1:51:17, 30.91s/it, v_num=a0_1, total_loss_train=523, kl_local_train=94.8, metric_mi|age_categorical_train=0.343]"
     ]
    },
    {
     "name": "stdout",
     "output_type": "stream",
     "text": [
      "\r\n",
      "Epoch 385/600:  64%|██████▍   | 385/600 [3:21:02<1:52:25, 31.37s/it, v_num=a0_1, total_loss_train=523, kl_local_train=94.8, metric_mi|age_categorical_train=0.343]"
     ]
    },
    {
     "name": "stdout",
     "output_type": "stream",
     "text": [
      "\r\n",
      "Epoch 385/600:  64%|██████▍   | 385/600 [3:21:02<1:52:25, 31.37s/it, v_num=a0_1, total_loss_train=524, kl_local_train=95, metric_mi|age_categorical_train=0.343]  "
     ]
    },
    {
     "name": "stdout",
     "output_type": "stream",
     "text": [
      "\r\n",
      "Epoch 386/600:  64%|██████▍   | 385/600 [3:21:03<1:52:25, 31.37s/it, v_num=a0_1, total_loss_train=524, kl_local_train=95, metric_mi|age_categorical_train=0.343]"
     ]
    },
    {
     "name": "stdout",
     "output_type": "stream",
     "text": [
      "\r\n",
      "Epoch 386/600:  64%|██████▍   | 386/600 [3:21:34<1:52:00, 31.40s/it, v_num=a0_1, total_loss_train=524, kl_local_train=95, metric_mi|age_categorical_train=0.343]"
     ]
    },
    {
     "name": "stdout",
     "output_type": "stream",
     "text": [
      "\r\n",
      "Epoch 386/600:  64%|██████▍   | 386/600 [3:21:34<1:52:00, 31.40s/it, v_num=a0_1, total_loss_train=524, kl_local_train=94.4, metric_mi|age_categorical_train=0.348]"
     ]
    },
    {
     "name": "stdout",
     "output_type": "stream",
     "text": [
      "\r\n",
      "Epoch 387/600:  64%|██████▍   | 386/600 [3:21:34<1:52:00, 31.40s/it, v_num=a0_1, total_loss_train=524, kl_local_train=94.4, metric_mi|age_categorical_train=0.348]"
     ]
    },
    {
     "name": "stdout",
     "output_type": "stream",
     "text": [
      "\r\n",
      "Epoch 387/600:  64%|██████▍   | 387/600 [3:22:04<1:50:51, 31.23s/it, v_num=a0_1, total_loss_train=524, kl_local_train=94.4, metric_mi|age_categorical_train=0.348]"
     ]
    },
    {
     "name": "stdout",
     "output_type": "stream",
     "text": [
      "\r\n",
      "Epoch 387/600:  64%|██████▍   | 387/600 [3:22:04<1:50:51, 31.23s/it, v_num=a0_1, total_loss_train=524, kl_local_train=95.1, metric_mi|age_categorical_train=0.348]"
     ]
    },
    {
     "name": "stdout",
     "output_type": "stream",
     "text": [
      "\r\n",
      "Epoch 388/600:  64%|██████▍   | 387/600 [3:22:04<1:50:51, 31.23s/it, v_num=a0_1, total_loss_train=524, kl_local_train=95.1, metric_mi|age_categorical_train=0.348]"
     ]
    },
    {
     "name": "stdout",
     "output_type": "stream",
     "text": [
      "\r\n",
      "Epoch 388/600:  65%|██████▍   | 388/600 [3:22:35<1:49:53, 31.10s/it, v_num=a0_1, total_loss_train=524, kl_local_train=95.1, metric_mi|age_categorical_train=0.348]"
     ]
    },
    {
     "name": "stdout",
     "output_type": "stream",
     "text": [
      "\r\n",
      "Epoch 388/600:  65%|██████▍   | 388/600 [3:22:35<1:49:53, 31.10s/it, v_num=a0_1, total_loss_train=524, kl_local_train=94.7, metric_mi|age_categorical_train=0.348]"
     ]
    },
    {
     "name": "stdout",
     "output_type": "stream",
     "text": [
      "\r\n",
      "Epoch 389/600:  65%|██████▍   | 388/600 [3:22:35<1:49:53, 31.10s/it, v_num=a0_1, total_loss_train=524, kl_local_train=94.7, metric_mi|age_categorical_train=0.348]"
     ]
    },
    {
     "name": "stdout",
     "output_type": "stream",
     "text": [
      "\r\n",
      "Epoch 389/600:  65%|██████▍   | 389/600 [3:23:06<1:49:10, 31.05s/it, v_num=a0_1, total_loss_train=524, kl_local_train=94.7, metric_mi|age_categorical_train=0.348]"
     ]
    },
    {
     "name": "stdout",
     "output_type": "stream",
     "text": [
      "\r\n",
      "Epoch 389/600:  65%|██████▍   | 389/600 [3:23:06<1:49:10, 31.05s/it, v_num=a0_1, total_loss_train=524, kl_local_train=94.3, metric_mi|age_categorical_train=0.348]"
     ]
    },
    {
     "name": "stdout",
     "output_type": "stream",
     "text": [
      "\r\n",
      "Epoch 390/600:  65%|██████▍   | 389/600 [3:23:06<1:49:10, 31.05s/it, v_num=a0_1, total_loss_train=524, kl_local_train=94.3, metric_mi|age_categorical_train=0.348]"
     ]
    },
    {
     "name": "stdout",
     "output_type": "stream",
     "text": [
      "\r\n",
      "Epoch 390/600:  65%|██████▌   | 390/600 [3:23:38<1:49:30, 31.29s/it, v_num=a0_1, total_loss_train=524, kl_local_train=94.3, metric_mi|age_categorical_train=0.348]"
     ]
    },
    {
     "name": "stdout",
     "output_type": "stream",
     "text": [
      "\r\n",
      "Epoch 390/600:  65%|██████▌   | 390/600 [3:23:38<1:49:30, 31.29s/it, v_num=a0_1, total_loss_train=524, kl_local_train=94.8, metric_mi|age_categorical_train=0.348]"
     ]
    },
    {
     "name": "stdout",
     "output_type": "stream",
     "text": [
      "\r\n",
      "Epoch 391/600:  65%|██████▌   | 390/600 [3:23:39<1:49:30, 31.29s/it, v_num=a0_1, total_loss_train=524, kl_local_train=94.8, metric_mi|age_categorical_train=0.348]"
     ]
    },
    {
     "name": "stdout",
     "output_type": "stream",
     "text": [
      "\r\n",
      "Epoch 391/600:  65%|██████▌   | 391/600 [3:24:09<1:49:04, 31.31s/it, v_num=a0_1, total_loss_train=524, kl_local_train=94.8, metric_mi|age_categorical_train=0.348]"
     ]
    },
    {
     "name": "stdout",
     "output_type": "stream",
     "text": [
      "\r\n",
      "Epoch 391/600:  65%|██████▌   | 391/600 [3:24:09<1:49:04, 31.31s/it, v_num=a0_1, total_loss_train=524, kl_local_train=94.2, metric_mi|age_categorical_train=0.348]"
     ]
    },
    {
     "name": "stdout",
     "output_type": "stream",
     "text": [
      "\r\n",
      "Epoch 392/600:  65%|██████▌   | 391/600 [3:24:09<1:49:04, 31.31s/it, v_num=a0_1, total_loss_train=524, kl_local_train=94.2, metric_mi|age_categorical_train=0.348]"
     ]
    },
    {
     "name": "stdout",
     "output_type": "stream",
     "text": [
      "\r\n",
      "Epoch 392/600:  65%|██████▌   | 392/600 [3:24:40<1:47:48, 31.10s/it, v_num=a0_1, total_loss_train=524, kl_local_train=94.2, metric_mi|age_categorical_train=0.348]"
     ]
    },
    {
     "name": "stdout",
     "output_type": "stream",
     "text": [
      "\r\n",
      "Epoch 392/600:  65%|██████▌   | 392/600 [3:24:40<1:47:48, 31.10s/it, v_num=a0_1, total_loss_train=524, kl_local_train=94.2, metric_mi|age_categorical_train=0.348]"
     ]
    },
    {
     "name": "stdout",
     "output_type": "stream",
     "text": [
      "\r\n",
      "Epoch 393/600:  65%|██████▌   | 392/600 [3:24:40<1:47:48, 31.10s/it, v_num=a0_1, total_loss_train=524, kl_local_train=94.2, metric_mi|age_categorical_train=0.348]"
     ]
    },
    {
     "name": "stdout",
     "output_type": "stream",
     "text": [
      "\r\n",
      "Epoch 393/600:  66%|██████▌   | 393/600 [3:25:11<1:46:50, 30.97s/it, v_num=a0_1, total_loss_train=524, kl_local_train=94.2, metric_mi|age_categorical_train=0.348]"
     ]
    },
    {
     "name": "stdout",
     "output_type": "stream",
     "text": [
      "\r\n",
      "Epoch 393/600:  66%|██████▌   | 393/600 [3:25:11<1:46:50, 30.97s/it, v_num=a0_1, total_loss_train=525, kl_local_train=94.4, metric_mi|age_categorical_train=0.348]"
     ]
    },
    {
     "name": "stdout",
     "output_type": "stream",
     "text": [
      "\r\n",
      "Epoch 394/600:  66%|██████▌   | 393/600 [3:25:11<1:46:50, 30.97s/it, v_num=a0_1, total_loss_train=525, kl_local_train=94.4, metric_mi|age_categorical_train=0.348]"
     ]
    },
    {
     "name": "stdout",
     "output_type": "stream",
     "text": [
      "\r\n",
      "Epoch 394/600:  66%|██████▌   | 394/600 [3:25:41<1:45:55, 30.85s/it, v_num=a0_1, total_loss_train=525, kl_local_train=94.4, metric_mi|age_categorical_train=0.348]"
     ]
    },
    {
     "name": "stdout",
     "output_type": "stream",
     "text": [
      "\r\n",
      "Epoch 394/600:  66%|██████▌   | 394/600 [3:25:41<1:45:55, 30.85s/it, v_num=a0_1, total_loss_train=524, kl_local_train=94, metric_mi|age_categorical_train=0.348]  "
     ]
    },
    {
     "name": "stdout",
     "output_type": "stream",
     "text": [
      "\r\n",
      "Epoch 395/600:  66%|██████▌   | 394/600 [3:25:41<1:45:55, 30.85s/it, v_num=a0_1, total_loss_train=524, kl_local_train=94, metric_mi|age_categorical_train=0.348]"
     ]
    },
    {
     "name": "stdout",
     "output_type": "stream",
     "text": [
      "\r\n",
      "Epoch 395/600:  66%|██████▌   | 395/600 [3:26:13<1:46:33, 31.19s/it, v_num=a0_1, total_loss_train=524, kl_local_train=94, metric_mi|age_categorical_train=0.348]"
     ]
    },
    {
     "name": "stdout",
     "output_type": "stream",
     "text": [
      "\r\n",
      "Epoch 395/600:  66%|██████▌   | 395/600 [3:26:13<1:46:33, 31.19s/it, v_num=a0_1, total_loss_train=525, kl_local_train=93.9, metric_mi|age_categorical_train=0.348]"
     ]
    },
    {
     "name": "stdout",
     "output_type": "stream",
     "text": [
      "\r\n",
      "Epoch 396/600:  66%|██████▌   | 395/600 [3:26:14<1:46:33, 31.19s/it, v_num=a0_1, total_loss_train=525, kl_local_train=93.9, metric_mi|age_categorical_train=0.348]"
     ]
    },
    {
     "name": "stdout",
     "output_type": "stream",
     "text": [
      "\r\n",
      "Epoch 396/600:  66%|██████▌   | 396/600 [3:26:45<1:46:13, 31.24s/it, v_num=a0_1, total_loss_train=525, kl_local_train=93.9, metric_mi|age_categorical_train=0.348]"
     ]
    },
    {
     "name": "stdout",
     "output_type": "stream",
     "text": [
      "\r\n",
      "Epoch 396/600:  66%|██████▌   | 396/600 [3:26:45<1:46:13, 31.24s/it, v_num=a0_1, total_loss_train=525, kl_local_train=93.9, metric_mi|age_categorical_train=0.336]"
     ]
    },
    {
     "name": "stdout",
     "output_type": "stream",
     "text": [
      "\r\n",
      "Epoch 397/600:  66%|██████▌   | 396/600 [3:26:45<1:46:13, 31.24s/it, v_num=a0_1, total_loss_train=525, kl_local_train=93.9, metric_mi|age_categorical_train=0.336]"
     ]
    },
    {
     "name": "stdout",
     "output_type": "stream",
     "text": [
      "\r\n",
      "Epoch 397/600:  66%|██████▌   | 397/600 [3:27:15<1:45:08, 31.08s/it, v_num=a0_1, total_loss_train=525, kl_local_train=93.9, metric_mi|age_categorical_train=0.336]"
     ]
    },
    {
     "name": "stdout",
     "output_type": "stream",
     "text": [
      "\r\n",
      "Epoch 397/600:  66%|██████▌   | 397/600 [3:27:15<1:45:08, 31.08s/it, v_num=a0_1, total_loss_train=525, kl_local_train=93.6, metric_mi|age_categorical_train=0.336]"
     ]
    },
    {
     "name": "stdout",
     "output_type": "stream",
     "text": [
      "\r\n",
      "Epoch 398/600:  66%|██████▌   | 397/600 [3:27:15<1:45:08, 31.08s/it, v_num=a0_1, total_loss_train=525, kl_local_train=93.6, metric_mi|age_categorical_train=0.336]"
     ]
    },
    {
     "name": "stdout",
     "output_type": "stream",
     "text": [
      "\r\n",
      "Epoch 398/600:  66%|██████▋   | 398/600 [3:27:46<1:44:09, 30.94s/it, v_num=a0_1, total_loss_train=525, kl_local_train=93.6, metric_mi|age_categorical_train=0.336]"
     ]
    },
    {
     "name": "stdout",
     "output_type": "stream",
     "text": [
      "\r\n",
      "Epoch 398/600:  66%|██████▋   | 398/600 [3:27:46<1:44:09, 30.94s/it, v_num=a0_1, total_loss_train=525, kl_local_train=93.8, metric_mi|age_categorical_train=0.336]"
     ]
    },
    {
     "name": "stdout",
     "output_type": "stream",
     "text": [
      "\r\n",
      "Epoch 399/600:  66%|██████▋   | 398/600 [3:27:46<1:44:09, 30.94s/it, v_num=a0_1, total_loss_train=525, kl_local_train=93.8, metric_mi|age_categorical_train=0.336]"
     ]
    },
    {
     "name": "stdout",
     "output_type": "stream",
     "text": [
      "\r\n",
      "Epoch 399/600:  66%|██████▋   | 399/600 [3:28:16<1:43:11, 30.80s/it, v_num=a0_1, total_loss_train=525, kl_local_train=93.8, metric_mi|age_categorical_train=0.336]"
     ]
    },
    {
     "name": "stdout",
     "output_type": "stream",
     "text": [
      "\r\n",
      "Epoch 399/600:  66%|██████▋   | 399/600 [3:28:16<1:43:11, 30.80s/it, v_num=a0_1, total_loss_train=525, kl_local_train=93.3, metric_mi|age_categorical_train=0.336]"
     ]
    },
    {
     "name": "stdout",
     "output_type": "stream",
     "text": [
      "\r\n",
      "Epoch 400/600:  66%|██████▋   | 399/600 [3:28:16<1:43:11, 30.80s/it, v_num=a0_1, total_loss_train=525, kl_local_train=93.3, metric_mi|age_categorical_train=0.336]"
     ]
    },
    {
     "name": "stdout",
     "output_type": "stream",
     "text": [
      "\r\n",
      "Epoch 400/600:  67%|██████▋   | 400/600 [3:28:48<1:43:01, 30.91s/it, v_num=a0_1, total_loss_train=525, kl_local_train=93.3, metric_mi|age_categorical_train=0.336]"
     ]
    },
    {
     "name": "stdout",
     "output_type": "stream",
     "text": [
      "\r\n",
      "Epoch 400/600:  67%|██████▋   | 400/600 [3:28:48<1:43:01, 30.91s/it, v_num=a0_1, total_loss_train=525, kl_local_train=93.4, metric_mi|age_categorical_train=0.336]"
     ]
    },
    {
     "name": "stdout",
     "output_type": "stream",
     "text": [
      "\r\n",
      "Epoch 401/600:  67%|██████▋   | 400/600 [3:28:48<1:43:01, 30.91s/it, v_num=a0_1, total_loss_train=525, kl_local_train=93.4, metric_mi|age_categorical_train=0.336]"
     ]
    },
    {
     "name": "stdout",
     "output_type": "stream",
     "text": [
      "\r\n",
      "Epoch 401/600:  67%|██████▋   | 401/600 [3:29:19<1:42:33, 30.92s/it, v_num=a0_1, total_loss_train=525, kl_local_train=93.4, metric_mi|age_categorical_train=0.336]"
     ]
    },
    {
     "name": "stdout",
     "output_type": "stream",
     "text": [
      "\r\n",
      "Epoch 401/600:  67%|██████▋   | 401/600 [3:29:19<1:42:33, 30.92s/it, v_num=a0_1, total_loss_train=525, kl_local_train=92.9, metric_mi|age_categorical_train=0.344]"
     ]
    },
    {
     "name": "stdout",
     "output_type": "stream",
     "text": [
      "\r\n",
      "Epoch 402/600:  67%|██████▋   | 401/600 [3:29:19<1:42:33, 30.92s/it, v_num=a0_1, total_loss_train=525, kl_local_train=92.9, metric_mi|age_categorical_train=0.344]"
     ]
    },
    {
     "name": "stdout",
     "output_type": "stream",
     "text": [
      "\r\n",
      "Epoch 402/600:  67%|██████▋   | 402/600 [3:29:49<1:41:30, 30.76s/it, v_num=a0_1, total_loss_train=525, kl_local_train=92.9, metric_mi|age_categorical_train=0.344]"
     ]
    },
    {
     "name": "stdout",
     "output_type": "stream",
     "text": [
      "\r\n",
      "Epoch 402/600:  67%|██████▋   | 402/600 [3:29:49<1:41:30, 30.76s/it, v_num=a0_1, total_loss_train=525, kl_local_train=92.5, metric_mi|age_categorical_train=0.344]"
     ]
    },
    {
     "name": "stdout",
     "output_type": "stream",
     "text": [
      "\r\n",
      "Epoch 403/600:  67%|██████▋   | 402/600 [3:29:49<1:41:30, 30.76s/it, v_num=a0_1, total_loss_train=525, kl_local_train=92.5, metric_mi|age_categorical_train=0.344]"
     ]
    },
    {
     "name": "stdout",
     "output_type": "stream",
     "text": [
      "\r\n",
      "Epoch 403/600:  67%|██████▋   | 403/600 [3:30:19<1:40:42, 30.67s/it, v_num=a0_1, total_loss_train=525, kl_local_train=92.5, metric_mi|age_categorical_train=0.344]"
     ]
    },
    {
     "name": "stdout",
     "output_type": "stream",
     "text": [
      "\r\n",
      "Epoch 403/600:  67%|██████▋   | 403/600 [3:30:19<1:40:42, 30.67s/it, v_num=a0_1, total_loss_train=525, kl_local_train=93, metric_mi|age_categorical_train=0.344]  "
     ]
    },
    {
     "name": "stdout",
     "output_type": "stream",
     "text": [
      "\r\n",
      "Epoch 404/600:  67%|██████▋   | 403/600 [3:30:19<1:40:42, 30.67s/it, v_num=a0_1, total_loss_train=525, kl_local_train=93, metric_mi|age_categorical_train=0.344]"
     ]
    },
    {
     "name": "stdout",
     "output_type": "stream",
     "text": [
      "\r\n",
      "Epoch 404/600:  67%|██████▋   | 404/600 [3:30:50<1:39:54, 30.59s/it, v_num=a0_1, total_loss_train=525, kl_local_train=93, metric_mi|age_categorical_train=0.344]"
     ]
    },
    {
     "name": "stdout",
     "output_type": "stream",
     "text": [
      "\r\n",
      "Epoch 404/600:  67%|██████▋   | 404/600 [3:30:50<1:39:54, 30.59s/it, v_num=a0_1, total_loss_train=525, kl_local_train=92.8, metric_mi|age_categorical_train=0.344]"
     ]
    },
    {
     "name": "stdout",
     "output_type": "stream",
     "text": [
      "\r\n",
      "Epoch 405/600:  67%|██████▋   | 404/600 [3:30:50<1:39:54, 30.59s/it, v_num=a0_1, total_loss_train=525, kl_local_train=92.8, metric_mi|age_categorical_train=0.344]"
     ]
    },
    {
     "name": "stdout",
     "output_type": "stream",
     "text": [
      "\r\n",
      "Epoch 405/600:  68%|██████▊   | 405/600 [3:31:21<1:40:10, 30.83s/it, v_num=a0_1, total_loss_train=525, kl_local_train=92.8, metric_mi|age_categorical_train=0.344]"
     ]
    },
    {
     "name": "stdout",
     "output_type": "stream",
     "text": [
      "\r\n",
      "Epoch 405/600:  68%|██████▊   | 405/600 [3:31:21<1:40:10, 30.83s/it, v_num=a0_1, total_loss_train=526, kl_local_train=92.7, metric_mi|age_categorical_train=0.344]"
     ]
    },
    {
     "name": "stdout",
     "output_type": "stream",
     "text": [
      "\r\n",
      "Epoch 406/600:  68%|██████▊   | 405/600 [3:31:22<1:40:10, 30.83s/it, v_num=a0_1, total_loss_train=526, kl_local_train=92.7, metric_mi|age_categorical_train=0.344]"
     ]
    },
    {
     "name": "stdout",
     "output_type": "stream",
     "text": [
      "\r\n",
      "Epoch 406/600:  68%|██████▊   | 406/600 [3:31:52<1:39:45, 30.85s/it, v_num=a0_1, total_loss_train=526, kl_local_train=92.7, metric_mi|age_categorical_train=0.344]"
     ]
    },
    {
     "name": "stdout",
     "output_type": "stream",
     "text": [
      "\r\n",
      "Epoch 406/600:  68%|██████▊   | 406/600 [3:31:52<1:39:45, 30.85s/it, v_num=a0_1, total_loss_train=526, kl_local_train=92.8, metric_mi|age_categorical_train=0.352]"
     ]
    },
    {
     "name": "stdout",
     "output_type": "stream",
     "text": [
      "\r\n",
      "Epoch 407/600:  68%|██████▊   | 406/600 [3:31:52<1:39:45, 30.85s/it, v_num=a0_1, total_loss_train=526, kl_local_train=92.8, metric_mi|age_categorical_train=0.352]"
     ]
    },
    {
     "name": "stdout",
     "output_type": "stream",
     "text": [
      "\r\n",
      "Epoch 407/600:  68%|██████▊   | 407/600 [3:32:23<1:38:58, 30.77s/it, v_num=a0_1, total_loss_train=526, kl_local_train=92.8, metric_mi|age_categorical_train=0.352]"
     ]
    },
    {
     "name": "stdout",
     "output_type": "stream",
     "text": [
      "\r\n",
      "Epoch 407/600:  68%|██████▊   | 407/600 [3:32:23<1:38:58, 30.77s/it, v_num=a0_1, total_loss_train=526, kl_local_train=92.8, metric_mi|age_categorical_train=0.352]"
     ]
    },
    {
     "name": "stdout",
     "output_type": "stream",
     "text": [
      "\r\n",
      "Epoch 408/600:  68%|██████▊   | 407/600 [3:32:23<1:38:58, 30.77s/it, v_num=a0_1, total_loss_train=526, kl_local_train=92.8, metric_mi|age_categorical_train=0.352]"
     ]
    },
    {
     "name": "stdout",
     "output_type": "stream",
     "text": [
      "\r\n",
      "Epoch 408/600:  68%|██████▊   | 408/600 [3:32:53<1:38:14, 30.70s/it, v_num=a0_1, total_loss_train=526, kl_local_train=92.8, metric_mi|age_categorical_train=0.352]"
     ]
    },
    {
     "name": "stdout",
     "output_type": "stream",
     "text": [
      "\r\n",
      "Epoch 408/600:  68%|██████▊   | 408/600 [3:32:53<1:38:14, 30.70s/it, v_num=a0_1, total_loss_train=526, kl_local_train=92.6, metric_mi|age_categorical_train=0.352]"
     ]
    },
    {
     "name": "stdout",
     "output_type": "stream",
     "text": [
      "\r\n",
      "Epoch 409/600:  68%|██████▊   | 408/600 [3:32:53<1:38:14, 30.70s/it, v_num=a0_1, total_loss_train=526, kl_local_train=92.6, metric_mi|age_categorical_train=0.352]"
     ]
    },
    {
     "name": "stdout",
     "output_type": "stream",
     "text": [
      "\r\n",
      "Epoch 409/600:  68%|██████▊   | 409/600 [3:33:24<1:37:50, 30.73s/it, v_num=a0_1, total_loss_train=526, kl_local_train=92.6, metric_mi|age_categorical_train=0.352]"
     ]
    },
    {
     "name": "stdout",
     "output_type": "stream",
     "text": [
      "\r\n",
      "Epoch 409/600:  68%|██████▊   | 409/600 [3:33:24<1:37:50, 30.73s/it, v_num=a0_1, total_loss_train=526, kl_local_train=92.3, metric_mi|age_categorical_train=0.352]"
     ]
    },
    {
     "name": "stdout",
     "output_type": "stream",
     "text": [
      "\r\n",
      "Epoch 410/600:  68%|██████▊   | 409/600 [3:33:24<1:37:50, 30.73s/it, v_num=a0_1, total_loss_train=526, kl_local_train=92.3, metric_mi|age_categorical_train=0.352]"
     ]
    },
    {
     "name": "stdout",
     "output_type": "stream",
     "text": [
      "\r\n",
      "Epoch 410/600:  68%|██████▊   | 410/600 [3:33:55<1:37:44, 30.87s/it, v_num=a0_1, total_loss_train=526, kl_local_train=92.3, metric_mi|age_categorical_train=0.352]"
     ]
    },
    {
     "name": "stdout",
     "output_type": "stream",
     "text": [
      "\r\n",
      "Epoch 410/600:  68%|██████▊   | 410/600 [3:33:55<1:37:44, 30.87s/it, v_num=a0_1, total_loss_train=526, kl_local_train=92.3, metric_mi|age_categorical_train=0.352]"
     ]
    },
    {
     "name": "stdout",
     "output_type": "stream",
     "text": [
      "\r\n",
      "Epoch 411/600:  68%|██████▊   | 410/600 [3:33:56<1:37:44, 30.87s/it, v_num=a0_1, total_loss_train=526, kl_local_train=92.3, metric_mi|age_categorical_train=0.352]"
     ]
    },
    {
     "name": "stdout",
     "output_type": "stream",
     "text": [
      "\r\n",
      "Epoch 411/600:  68%|██████▊   | 411/600 [3:34:26<1:37:40, 31.01s/it, v_num=a0_1, total_loss_train=526, kl_local_train=92.3, metric_mi|age_categorical_train=0.352]"
     ]
    },
    {
     "name": "stdout",
     "output_type": "stream",
     "text": [
      "\r\n",
      "Epoch 411/600:  68%|██████▊   | 411/600 [3:34:26<1:37:40, 31.01s/it, v_num=a0_1, total_loss_train=526, kl_local_train=92.5, metric_mi|age_categorical_train=0.338]"
     ]
    },
    {
     "name": "stdout",
     "output_type": "stream",
     "text": [
      "\r\n",
      "Epoch 412/600:  68%|██████▊   | 411/600 [3:34:27<1:37:40, 31.01s/it, v_num=a0_1, total_loss_train=526, kl_local_train=92.5, metric_mi|age_categorical_train=0.338]"
     ]
    },
    {
     "name": "stdout",
     "output_type": "stream",
     "text": [
      "\r\n",
      "Epoch 412/600:  69%|██████▊   | 412/600 [3:34:57<1:36:46, 30.89s/it, v_num=a0_1, total_loss_train=526, kl_local_train=92.5, metric_mi|age_categorical_train=0.338]"
     ]
    },
    {
     "name": "stdout",
     "output_type": "stream",
     "text": [
      "\r\n",
      "Epoch 412/600:  69%|██████▊   | 412/600 [3:34:57<1:36:46, 30.89s/it, v_num=a0_1, total_loss_train=526, kl_local_train=91.9, metric_mi|age_categorical_train=0.338]"
     ]
    },
    {
     "name": "stdout",
     "output_type": "stream",
     "text": [
      "\r\n",
      "Epoch 413/600:  69%|██████▊   | 412/600 [3:34:57<1:36:46, 30.89s/it, v_num=a0_1, total_loss_train=526, kl_local_train=91.9, metric_mi|age_categorical_train=0.338]"
     ]
    },
    {
     "name": "stdout",
     "output_type": "stream",
     "text": [
      "\r\n",
      "Epoch 413/600:  69%|██████▉   | 413/600 [3:35:28<1:36:07, 30.84s/it, v_num=a0_1, total_loss_train=526, kl_local_train=91.9, metric_mi|age_categorical_train=0.338]"
     ]
    },
    {
     "name": "stdout",
     "output_type": "stream",
     "text": [
      "\r\n",
      "Epoch 413/600:  69%|██████▉   | 413/600 [3:35:28<1:36:07, 30.84s/it, v_num=a0_1, total_loss_train=526, kl_local_train=91.8, metric_mi|age_categorical_train=0.338]"
     ]
    },
    {
     "name": "stdout",
     "output_type": "stream",
     "text": [
      "\r\n",
      "Epoch 414/600:  69%|██████▉   | 413/600 [3:35:28<1:36:07, 30.84s/it, v_num=a0_1, total_loss_train=526, kl_local_train=91.8, metric_mi|age_categorical_train=0.338]"
     ]
    },
    {
     "name": "stdout",
     "output_type": "stream",
     "text": [
      "\r\n",
      "Epoch 414/600:  69%|██████▉   | 414/600 [3:35:59<1:35:28, 30.80s/it, v_num=a0_1, total_loss_train=526, kl_local_train=91.8, metric_mi|age_categorical_train=0.338]"
     ]
    },
    {
     "name": "stdout",
     "output_type": "stream",
     "text": [
      "\r\n",
      "Epoch 414/600:  69%|██████▉   | 414/600 [3:35:59<1:35:28, 30.80s/it, v_num=a0_1, total_loss_train=526, kl_local_train=91.8, metric_mi|age_categorical_train=0.338]"
     ]
    },
    {
     "name": "stdout",
     "output_type": "stream",
     "text": [
      "\r\n",
      "Epoch 415/600:  69%|██████▉   | 414/600 [3:35:59<1:35:28, 30.80s/it, v_num=a0_1, total_loss_train=526, kl_local_train=91.8, metric_mi|age_categorical_train=0.338]"
     ]
    },
    {
     "name": "stdout",
     "output_type": "stream",
     "text": [
      "\r\n",
      "Epoch 415/600:  69%|██████▉   | 415/600 [3:36:30<1:35:46, 31.06s/it, v_num=a0_1, total_loss_train=526, kl_local_train=91.8, metric_mi|age_categorical_train=0.338]"
     ]
    },
    {
     "name": "stdout",
     "output_type": "stream",
     "text": [
      "\r\n",
      "Epoch 415/600:  69%|██████▉   | 415/600 [3:36:30<1:35:46, 31.06s/it, v_num=a0_1, total_loss_train=526, kl_local_train=91.8, metric_mi|age_categorical_train=0.338]"
     ]
    },
    {
     "name": "stdout",
     "output_type": "stream",
     "text": [
      "\r\n",
      "Epoch 416/600:  69%|██████▉   | 415/600 [3:36:31<1:35:46, 31.06s/it, v_num=a0_1, total_loss_train=526, kl_local_train=91.8, metric_mi|age_categorical_train=0.338]"
     ]
    },
    {
     "name": "stdout",
     "output_type": "stream",
     "text": [
      "\r\n",
      "Epoch 416/600:  69%|██████▉   | 416/600 [3:37:02<1:35:32, 31.16s/it, v_num=a0_1, total_loss_train=526, kl_local_train=91.8, metric_mi|age_categorical_train=0.338]"
     ]
    },
    {
     "name": "stdout",
     "output_type": "stream",
     "text": [
      "\r\n",
      "Epoch 416/600:  69%|██████▉   | 416/600 [3:37:02<1:35:32, 31.16s/it, v_num=a0_1, total_loss_train=527, kl_local_train=91.8, metric_mi|age_categorical_train=0.34] "
     ]
    },
    {
     "name": "stdout",
     "output_type": "stream",
     "text": [
      "\r\n",
      "Epoch 417/600:  69%|██████▉   | 416/600 [3:37:02<1:35:32, 31.16s/it, v_num=a0_1, total_loss_train=527, kl_local_train=91.8, metric_mi|age_categorical_train=0.34]"
     ]
    },
    {
     "name": "stdout",
     "output_type": "stream",
     "text": [
      "\r\n",
      "Epoch 417/600:  70%|██████▉   | 417/600 [3:37:32<1:34:43, 31.06s/it, v_num=a0_1, total_loss_train=527, kl_local_train=91.8, metric_mi|age_categorical_train=0.34]"
     ]
    },
    {
     "name": "stdout",
     "output_type": "stream",
     "text": [
      "\r\n",
      "Epoch 417/600:  70%|██████▉   | 417/600 [3:37:32<1:34:43, 31.06s/it, v_num=a0_1, total_loss_train=527, kl_local_train=91.3, metric_mi|age_categorical_train=0.34]"
     ]
    },
    {
     "name": "stdout",
     "output_type": "stream",
     "text": [
      "\r\n",
      "Epoch 418/600:  70%|██████▉   | 417/600 [3:37:32<1:34:43, 31.06s/it, v_num=a0_1, total_loss_train=527, kl_local_train=91.3, metric_mi|age_categorical_train=0.34]"
     ]
    },
    {
     "name": "stdout",
     "output_type": "stream",
     "text": [
      "\r\n",
      "Epoch 418/600:  70%|██████▉   | 418/600 [3:38:03<1:33:47, 30.92s/it, v_num=a0_1, total_loss_train=527, kl_local_train=91.3, metric_mi|age_categorical_train=0.34]"
     ]
    },
    {
     "name": "stdout",
     "output_type": "stream",
     "text": [
      "\r\n",
      "Epoch 418/600:  70%|██████▉   | 418/600 [3:38:03<1:33:47, 30.92s/it, v_num=a0_1, total_loss_train=527, kl_local_train=91.4, metric_mi|age_categorical_train=0.34]"
     ]
    },
    {
     "name": "stdout",
     "output_type": "stream",
     "text": [
      "\r\n",
      "Epoch 419/600:  70%|██████▉   | 418/600 [3:38:03<1:33:47, 30.92s/it, v_num=a0_1, total_loss_train=527, kl_local_train=91.4, metric_mi|age_categorical_train=0.34]"
     ]
    },
    {
     "name": "stdout",
     "output_type": "stream",
     "text": [
      "\r\n",
      "Epoch 419/600:  70%|██████▉   | 419/600 [3:38:34<1:33:03, 30.85s/it, v_num=a0_1, total_loss_train=527, kl_local_train=91.4, metric_mi|age_categorical_train=0.34]"
     ]
    },
    {
     "name": "stdout",
     "output_type": "stream",
     "text": [
      "\r\n",
      "Epoch 419/600:  70%|██████▉   | 419/600 [3:38:34<1:33:03, 30.85s/it, v_num=a0_1, total_loss_train=527, kl_local_train=91, metric_mi|age_categorical_train=0.34]  "
     ]
    },
    {
     "name": "stdout",
     "output_type": "stream",
     "text": [
      "\r\n",
      "Epoch 420/600:  70%|██████▉   | 419/600 [3:38:34<1:33:03, 30.85s/it, v_num=a0_1, total_loss_train=527, kl_local_train=91, metric_mi|age_categorical_train=0.34]"
     ]
    },
    {
     "name": "stdout",
     "output_type": "stream",
     "text": [
      "\r\n",
      "Epoch 420/600:  70%|███████   | 420/600 [3:39:05<1:32:36, 30.87s/it, v_num=a0_1, total_loss_train=527, kl_local_train=91, metric_mi|age_categorical_train=0.34]"
     ]
    },
    {
     "name": "stdout",
     "output_type": "stream",
     "text": [
      "\r\n",
      "Epoch 420/600:  70%|███████   | 420/600 [3:39:05<1:32:36, 30.87s/it, v_num=a0_1, total_loss_train=527, kl_local_train=91.3, metric_mi|age_categorical_train=0.34]"
     ]
    },
    {
     "name": "stdout",
     "output_type": "stream",
     "text": [
      "\r\n",
      "Epoch 421/600:  70%|███████   | 420/600 [3:39:05<1:32:36, 30.87s/it, v_num=a0_1, total_loss_train=527, kl_local_train=91.3, metric_mi|age_categorical_train=0.34]"
     ]
    },
    {
     "name": "stdout",
     "output_type": "stream",
     "text": [
      "\r\n",
      "Epoch 421/600:  70%|███████   | 421/600 [3:39:36<1:32:13, 30.91s/it, v_num=a0_1, total_loss_train=527, kl_local_train=91.3, metric_mi|age_categorical_train=0.34]"
     ]
    },
    {
     "name": "stdout",
     "output_type": "stream",
     "text": [
      "\r\n",
      "Epoch 421/600:  70%|███████   | 421/600 [3:39:36<1:32:13, 30.91s/it, v_num=a0_1, total_loss_train=527, kl_local_train=91.1, metric_mi|age_categorical_train=0.335]"
     ]
    },
    {
     "name": "stdout",
     "output_type": "stream",
     "text": [
      "\r\n",
      "Epoch 422/600:  70%|███████   | 421/600 [3:39:36<1:32:13, 30.91s/it, v_num=a0_1, total_loss_train=527, kl_local_train=91.1, metric_mi|age_categorical_train=0.335]"
     ]
    },
    {
     "name": "stdout",
     "output_type": "stream",
     "text": [
      "\r\n",
      "Epoch 422/600:  70%|███████   | 422/600 [3:40:06<1:31:20, 30.79s/it, v_num=a0_1, total_loss_train=527, kl_local_train=91.1, metric_mi|age_categorical_train=0.335]"
     ]
    },
    {
     "name": "stdout",
     "output_type": "stream",
     "text": [
      "\r\n",
      "Epoch 422/600:  70%|███████   | 422/600 [3:40:06<1:31:20, 30.79s/it, v_num=a0_1, total_loss_train=527, kl_local_train=91, metric_mi|age_categorical_train=0.335]  "
     ]
    },
    {
     "name": "stdout",
     "output_type": "stream",
     "text": [
      "\r\n",
      "Epoch 423/600:  70%|███████   | 422/600 [3:40:06<1:31:20, 30.79s/it, v_num=a0_1, total_loss_train=527, kl_local_train=91, metric_mi|age_categorical_train=0.335]"
     ]
    },
    {
     "name": "stdout",
     "output_type": "stream",
     "text": [
      "\r\n",
      "Epoch 423/600:  70%|███████   | 423/600 [3:40:37<1:30:45, 30.76s/it, v_num=a0_1, total_loss_train=527, kl_local_train=91, metric_mi|age_categorical_train=0.335]"
     ]
    },
    {
     "name": "stdout",
     "output_type": "stream",
     "text": [
      "\r\n",
      "Epoch 423/600:  70%|███████   | 423/600 [3:40:37<1:30:45, 30.76s/it, v_num=a0_1, total_loss_train=527, kl_local_train=90.7, metric_mi|age_categorical_train=0.335]"
     ]
    },
    {
     "name": "stdout",
     "output_type": "stream",
     "text": [
      "\r\n",
      "Epoch 424/600:  70%|███████   | 423/600 [3:40:37<1:30:45, 30.76s/it, v_num=a0_1, total_loss_train=527, kl_local_train=90.7, metric_mi|age_categorical_train=0.335]"
     ]
    },
    {
     "name": "stdout",
     "output_type": "stream",
     "text": [
      "\r\n",
      "Epoch 424/600:  71%|███████   | 424/600 [3:41:07<1:30:00, 30.68s/it, v_num=a0_1, total_loss_train=527, kl_local_train=90.7, metric_mi|age_categorical_train=0.335]"
     ]
    },
    {
     "name": "stdout",
     "output_type": "stream",
     "text": [
      "\r\n",
      "Epoch 424/600:  71%|███████   | 424/600 [3:41:07<1:30:00, 30.68s/it, v_num=a0_1, total_loss_train=527, kl_local_train=90.8, metric_mi|age_categorical_train=0.335]"
     ]
    },
    {
     "name": "stdout",
     "output_type": "stream",
     "text": [
      "\r\n",
      "Epoch 425/600:  71%|███████   | 424/600 [3:41:07<1:30:00, 30.68s/it, v_num=a0_1, total_loss_train=527, kl_local_train=90.8, metric_mi|age_categorical_train=0.335]"
     ]
    },
    {
     "name": "stdout",
     "output_type": "stream",
     "text": [
      "\r\n",
      "Epoch 425/600:  71%|███████   | 425/600 [3:41:38<1:29:55, 30.83s/it, v_num=a0_1, total_loss_train=527, kl_local_train=90.8, metric_mi|age_categorical_train=0.335]"
     ]
    },
    {
     "name": "stdout",
     "output_type": "stream",
     "text": [
      "\r\n",
      "Epoch 425/600:  71%|███████   | 425/600 [3:41:38<1:29:55, 30.83s/it, v_num=a0_1, total_loss_train=527, kl_local_train=90.5, metric_mi|age_categorical_train=0.335]"
     ]
    },
    {
     "name": "stdout",
     "output_type": "stream",
     "text": [
      "\r\n",
      "Epoch 426/600:  71%|███████   | 425/600 [3:41:39<1:29:55, 30.83s/it, v_num=a0_1, total_loss_train=527, kl_local_train=90.5, metric_mi|age_categorical_train=0.335]"
     ]
    },
    {
     "name": "stdout",
     "output_type": "stream",
     "text": [
      "\r\n",
      "Epoch 426/600:  71%|███████   | 426/600 [3:42:10<1:29:35, 30.89s/it, v_num=a0_1, total_loss_train=527, kl_local_train=90.5, metric_mi|age_categorical_train=0.335]"
     ]
    },
    {
     "name": "stdout",
     "output_type": "stream",
     "text": [
      "\r\n",
      "Epoch 426/600:  71%|███████   | 426/600 [3:42:10<1:29:35, 30.89s/it, v_num=a0_1, total_loss_train=528, kl_local_train=90.6, metric_mi|age_categorical_train=0.344]"
     ]
    },
    {
     "name": "stdout",
     "output_type": "stream",
     "text": [
      "\r\n",
      "Epoch 427/600:  71%|███████   | 426/600 [3:42:10<1:29:35, 30.89s/it, v_num=a0_1, total_loss_train=528, kl_local_train=90.6, metric_mi|age_categorical_train=0.344]"
     ]
    },
    {
     "name": "stdout",
     "output_type": "stream",
     "text": [
      "\r\n",
      "Epoch 427/600:  71%|███████   | 427/600 [3:42:40<1:28:46, 30.79s/it, v_num=a0_1, total_loss_train=528, kl_local_train=90.6, metric_mi|age_categorical_train=0.344]"
     ]
    },
    {
     "name": "stdout",
     "output_type": "stream",
     "text": [
      "\r\n",
      "Epoch 427/600:  71%|███████   | 427/600 [3:42:40<1:28:46, 30.79s/it, v_num=a0_1, total_loss_train=528, kl_local_train=90.6, metric_mi|age_categorical_train=0.344]"
     ]
    },
    {
     "name": "stdout",
     "output_type": "stream",
     "text": [
      "\r\n",
      "Epoch 428/600:  71%|███████   | 427/600 [3:42:40<1:28:46, 30.79s/it, v_num=a0_1, total_loss_train=528, kl_local_train=90.6, metric_mi|age_categorical_train=0.344]"
     ]
    },
    {
     "name": "stdout",
     "output_type": "stream",
     "text": [
      "\r\n",
      "Epoch 428/600:  71%|███████▏  | 428/600 [3:43:10<1:27:51, 30.65s/it, v_num=a0_1, total_loss_train=528, kl_local_train=90.6, metric_mi|age_categorical_train=0.344]"
     ]
    },
    {
     "name": "stdout",
     "output_type": "stream",
     "text": [
      "\r\n",
      "Epoch 428/600:  71%|███████▏  | 428/600 [3:43:10<1:27:51, 30.65s/it, v_num=a0_1, total_loss_train=528, kl_local_train=90.6, metric_mi|age_categorical_train=0.344]"
     ]
    },
    {
     "name": "stdout",
     "output_type": "stream",
     "text": [
      "\r\n",
      "Epoch 429/600:  71%|███████▏  | 428/600 [3:43:10<1:27:51, 30.65s/it, v_num=a0_1, total_loss_train=528, kl_local_train=90.6, metric_mi|age_categorical_train=0.344]"
     ]
    },
    {
     "name": "stdout",
     "output_type": "stream",
     "text": [
      "\r\n",
      "Epoch 429/600:  72%|███████▏  | 429/600 [3:43:41<1:27:10, 30.59s/it, v_num=a0_1, total_loss_train=528, kl_local_train=90.6, metric_mi|age_categorical_train=0.344]"
     ]
    },
    {
     "name": "stdout",
     "output_type": "stream",
     "text": [
      "\r\n",
      "Epoch 429/600:  72%|███████▏  | 429/600 [3:43:41<1:27:10, 30.59s/it, v_num=a0_1, total_loss_train=528, kl_local_train=90.6, metric_mi|age_categorical_train=0.344]"
     ]
    },
    {
     "name": "stdout",
     "output_type": "stream",
     "text": [
      "\r\n",
      "Epoch 430/600:  72%|███████▏  | 429/600 [3:43:41<1:27:10, 30.59s/it, v_num=a0_1, total_loss_train=528, kl_local_train=90.6, metric_mi|age_categorical_train=0.344]"
     ]
    },
    {
     "name": "stdout",
     "output_type": "stream",
     "text": [
      "\r\n",
      "Epoch 430/600:  72%|███████▏  | 430/600 [3:44:12<1:27:04, 30.73s/it, v_num=a0_1, total_loss_train=528, kl_local_train=90.6, metric_mi|age_categorical_train=0.344]"
     ]
    },
    {
     "name": "stdout",
     "output_type": "stream",
     "text": [
      "\r\n",
      "Epoch 430/600:  72%|███████▏  | 430/600 [3:44:12<1:27:04, 30.73s/it, v_num=a0_1, total_loss_train=528, kl_local_train=90.7, metric_mi|age_categorical_train=0.344]"
     ]
    },
    {
     "name": "stdout",
     "output_type": "stream",
     "text": [
      "\r\n",
      "Epoch 431/600:  72%|███████▏  | 430/600 [3:44:12<1:27:04, 30.73s/it, v_num=a0_1, total_loss_train=528, kl_local_train=90.7, metric_mi|age_categorical_train=0.344]"
     ]
    },
    {
     "name": "stdout",
     "output_type": "stream",
     "text": [
      "\r\n",
      "Epoch 431/600:  72%|███████▏  | 431/600 [3:44:43<1:26:57, 30.87s/it, v_num=a0_1, total_loss_train=528, kl_local_train=90.7, metric_mi|age_categorical_train=0.344]"
     ]
    },
    {
     "name": "stdout",
     "output_type": "stream",
     "text": [
      "\r\n",
      "Epoch 431/600:  72%|███████▏  | 431/600 [3:44:43<1:26:57, 30.87s/it, v_num=a0_1, total_loss_train=528, kl_local_train=90.1, metric_mi|age_categorical_train=0.349]"
     ]
    },
    {
     "name": "stdout",
     "output_type": "stream",
     "text": [
      "\r\n",
      "Epoch 432/600:  72%|███████▏  | 431/600 [3:44:43<1:26:57, 30.87s/it, v_num=a0_1, total_loss_train=528, kl_local_train=90.1, metric_mi|age_categorical_train=0.349]"
     ]
    },
    {
     "name": "stdout",
     "output_type": "stream",
     "text": [
      "\r\n",
      "Epoch 432/600:  72%|███████▏  | 432/600 [3:45:13<1:25:58, 30.71s/it, v_num=a0_1, total_loss_train=528, kl_local_train=90.1, metric_mi|age_categorical_train=0.349]"
     ]
    },
    {
     "name": "stdout",
     "output_type": "stream",
     "text": [
      "\r\n",
      "Epoch 432/600:  72%|███████▏  | 432/600 [3:45:13<1:25:58, 30.71s/it, v_num=a0_1, total_loss_train=528, kl_local_train=90.1, metric_mi|age_categorical_train=0.349]"
     ]
    },
    {
     "name": "stdout",
     "output_type": "stream",
     "text": [
      "\r\n",
      "Epoch 433/600:  72%|███████▏  | 432/600 [3:45:13<1:25:58, 30.71s/it, v_num=a0_1, total_loss_train=528, kl_local_train=90.1, metric_mi|age_categorical_train=0.349]"
     ]
    },
    {
     "name": "stdout",
     "output_type": "stream",
     "text": [
      "\r\n",
      "Epoch 433/600:  72%|███████▏  | 433/600 [3:45:44<1:25:22, 30.67s/it, v_num=a0_1, total_loss_train=528, kl_local_train=90.1, metric_mi|age_categorical_train=0.349]"
     ]
    },
    {
     "name": "stdout",
     "output_type": "stream",
     "text": [
      "\r\n",
      "Epoch 433/600:  72%|███████▏  | 433/600 [3:45:44<1:25:22, 30.67s/it, v_num=a0_1, total_loss_train=528, kl_local_train=90.2, metric_mi|age_categorical_train=0.349]"
     ]
    },
    {
     "name": "stdout",
     "output_type": "stream",
     "text": [
      "\r\n",
      "Epoch 434/600:  72%|███████▏  | 433/600 [3:45:44<1:25:22, 30.67s/it, v_num=a0_1, total_loss_train=528, kl_local_train=90.2, metric_mi|age_categorical_train=0.349]"
     ]
    },
    {
     "name": "stdout",
     "output_type": "stream",
     "text": [
      "\r\n",
      "Epoch 434/600:  72%|███████▏  | 434/600 [3:46:15<1:24:44, 30.63s/it, v_num=a0_1, total_loss_train=528, kl_local_train=90.2, metric_mi|age_categorical_train=0.349]"
     ]
    },
    {
     "name": "stdout",
     "output_type": "stream",
     "text": [
      "\r\n",
      "Epoch 434/600:  72%|███████▏  | 434/600 [3:46:15<1:24:44, 30.63s/it, v_num=a0_1, total_loss_train=529, kl_local_train=90, metric_mi|age_categorical_train=0.349]  "
     ]
    },
    {
     "name": "stdout",
     "output_type": "stream",
     "text": [
      "\r\n",
      "Epoch 435/600:  72%|███████▏  | 434/600 [3:46:15<1:24:44, 30.63s/it, v_num=a0_1, total_loss_train=529, kl_local_train=90, metric_mi|age_categorical_train=0.349]"
     ]
    },
    {
     "name": "stdout",
     "output_type": "stream",
     "text": [
      "\r\n",
      "Epoch 435/600:  72%|███████▎  | 435/600 [3:46:46<1:25:03, 30.93s/it, v_num=a0_1, total_loss_train=529, kl_local_train=90, metric_mi|age_categorical_train=0.349]"
     ]
    },
    {
     "name": "stdout",
     "output_type": "stream",
     "text": [
      "\r\n",
      "Epoch 435/600:  72%|███████▎  | 435/600 [3:46:46<1:25:03, 30.93s/it, v_num=a0_1, total_loss_train=529, kl_local_train=90, metric_mi|age_categorical_train=0.349]"
     ]
    },
    {
     "name": "stdout",
     "output_type": "stream",
     "text": [
      "\r\n",
      "Epoch 436/600:  72%|███████▎  | 435/600 [3:46:47<1:25:03, 30.93s/it, v_num=a0_1, total_loss_train=529, kl_local_train=90, metric_mi|age_categorical_train=0.349]"
     ]
    },
    {
     "name": "stdout",
     "output_type": "stream",
     "text": [
      "\r\n",
      "Epoch 436/600:  73%|███████▎  | 436/600 [3:47:17<1:24:33, 30.94s/it, v_num=a0_1, total_loss_train=529, kl_local_train=90, metric_mi|age_categorical_train=0.349]"
     ]
    },
    {
     "name": "stdout",
     "output_type": "stream",
     "text": [
      "\r\n",
      "Epoch 436/600:  73%|███████▎  | 436/600 [3:47:17<1:24:33, 30.94s/it, v_num=a0_1, total_loss_train=529, kl_local_train=89.6, metric_mi|age_categorical_train=0.336]"
     ]
    },
    {
     "name": "stdout",
     "output_type": "stream",
     "text": [
      "\r\n",
      "Epoch 437/600:  73%|███████▎  | 436/600 [3:47:17<1:24:33, 30.94s/it, v_num=a0_1, total_loss_train=529, kl_local_train=89.6, metric_mi|age_categorical_train=0.336]"
     ]
    },
    {
     "name": "stdout",
     "output_type": "stream",
     "text": [
      "\r\n",
      "Epoch 437/600:  73%|███████▎  | 437/600 [3:47:48<1:23:40, 30.80s/it, v_num=a0_1, total_loss_train=529, kl_local_train=89.6, metric_mi|age_categorical_train=0.336]"
     ]
    },
    {
     "name": "stdout",
     "output_type": "stream",
     "text": [
      "\r\n",
      "Epoch 437/600:  73%|███████▎  | 437/600 [3:47:48<1:23:40, 30.80s/it, v_num=a0_1, total_loss_train=529, kl_local_train=89.6, metric_mi|age_categorical_train=0.336]"
     ]
    },
    {
     "name": "stdout",
     "output_type": "stream",
     "text": [
      "\r\n",
      "Epoch 438/600:  73%|███████▎  | 437/600 [3:47:48<1:23:40, 30.80s/it, v_num=a0_1, total_loss_train=529, kl_local_train=89.6, metric_mi|age_categorical_train=0.336]"
     ]
    },
    {
     "name": "stdout",
     "output_type": "stream",
     "text": [
      "\r\n",
      "Epoch 438/600:  73%|███████▎  | 438/600 [3:48:18<1:22:45, 30.65s/it, v_num=a0_1, total_loss_train=529, kl_local_train=89.6, metric_mi|age_categorical_train=0.336]"
     ]
    },
    {
     "name": "stdout",
     "output_type": "stream",
     "text": [
      "\r\n",
      "Epoch 438/600:  73%|███████▎  | 438/600 [3:48:18<1:22:45, 30.65s/it, v_num=a0_1, total_loss_train=529, kl_local_train=89.5, metric_mi|age_categorical_train=0.336]"
     ]
    },
    {
     "name": "stdout",
     "output_type": "stream",
     "text": [
      "\r\n",
      "Epoch 439/600:  73%|███████▎  | 438/600 [3:48:18<1:22:45, 30.65s/it, v_num=a0_1, total_loss_train=529, kl_local_train=89.5, metric_mi|age_categorical_train=0.336]"
     ]
    },
    {
     "name": "stdout",
     "output_type": "stream",
     "text": [
      "\r\n",
      "Epoch 439/600:  73%|███████▎  | 439/600 [3:48:48<1:22:03, 30.58s/it, v_num=a0_1, total_loss_train=529, kl_local_train=89.5, metric_mi|age_categorical_train=0.336]"
     ]
    },
    {
     "name": "stdout",
     "output_type": "stream",
     "text": [
      "\r\n",
      "Epoch 439/600:  73%|███████▎  | 439/600 [3:48:48<1:22:03, 30.58s/it, v_num=a0_1, total_loss_train=529, kl_local_train=89.6, metric_mi|age_categorical_train=0.336]"
     ]
    },
    {
     "name": "stdout",
     "output_type": "stream",
     "text": [
      "\r\n",
      "Epoch 440/600:  73%|███████▎  | 439/600 [3:48:48<1:22:03, 30.58s/it, v_num=a0_1, total_loss_train=529, kl_local_train=89.6, metric_mi|age_categorical_train=0.336]"
     ]
    },
    {
     "name": "stdout",
     "output_type": "stream",
     "text": [
      "\r\n",
      "Epoch 440/600:  73%|███████▎  | 440/600 [3:49:19<1:21:54, 30.72s/it, v_num=a0_1, total_loss_train=529, kl_local_train=89.6, metric_mi|age_categorical_train=0.336]"
     ]
    },
    {
     "name": "stdout",
     "output_type": "stream",
     "text": [
      "\r\n",
      "Epoch 440/600:  73%|███████▎  | 440/600 [3:49:19<1:21:54, 30.72s/it, v_num=a0_1, total_loss_train=529, kl_local_train=89.1, metric_mi|age_categorical_train=0.336]"
     ]
    },
    {
     "name": "stdout",
     "output_type": "stream",
     "text": [
      "\r\n",
      "Epoch 441/600:  73%|███████▎  | 440/600 [3:49:20<1:21:54, 30.72s/it, v_num=a0_1, total_loss_train=529, kl_local_train=89.1, metric_mi|age_categorical_train=0.336]"
     ]
    },
    {
     "name": "stdout",
     "output_type": "stream",
     "text": [
      "\r\n",
      "Epoch 441/600:  74%|███████▎  | 441/600 [3:49:50<1:21:37, 30.80s/it, v_num=a0_1, total_loss_train=529, kl_local_train=89.1, metric_mi|age_categorical_train=0.336]"
     ]
    },
    {
     "name": "stdout",
     "output_type": "stream",
     "text": [
      "\r\n",
      "Epoch 441/600:  74%|███████▎  | 441/600 [3:49:50<1:21:37, 30.80s/it, v_num=a0_1, total_loss_train=529, kl_local_train=88.9, metric_mi|age_categorical_train=0.337]"
     ]
    },
    {
     "name": "stdout",
     "output_type": "stream",
     "text": [
      "\r\n",
      "Epoch 442/600:  74%|███████▎  | 441/600 [3:49:50<1:21:37, 30.80s/it, v_num=a0_1, total_loss_train=529, kl_local_train=88.9, metric_mi|age_categorical_train=0.337]"
     ]
    },
    {
     "name": "stdout",
     "output_type": "stream",
     "text": [
      "\r\n",
      "Epoch 442/600:  74%|███████▎  | 442/600 [3:50:21<1:20:46, 30.68s/it, v_num=a0_1, total_loss_train=529, kl_local_train=88.9, metric_mi|age_categorical_train=0.337]"
     ]
    },
    {
     "name": "stdout",
     "output_type": "stream",
     "text": [
      "\r\n",
      "Epoch 442/600:  74%|███████▎  | 442/600 [3:50:21<1:20:46, 30.68s/it, v_num=a0_1, total_loss_train=529, kl_local_train=88.9, metric_mi|age_categorical_train=0.337]"
     ]
    },
    {
     "name": "stdout",
     "output_type": "stream",
     "text": [
      "\r\n",
      "Epoch 443/600:  74%|███████▎  | 442/600 [3:50:21<1:20:46, 30.68s/it, v_num=a0_1, total_loss_train=529, kl_local_train=88.9, metric_mi|age_categorical_train=0.337]"
     ]
    },
    {
     "name": "stdout",
     "output_type": "stream",
     "text": [
      "\r\n",
      "Epoch 443/600:  74%|███████▍  | 443/600 [3:50:51<1:20:06, 30.61s/it, v_num=a0_1, total_loss_train=529, kl_local_train=88.9, metric_mi|age_categorical_train=0.337]"
     ]
    },
    {
     "name": "stdout",
     "output_type": "stream",
     "text": [
      "\r\n",
      "Epoch 443/600:  74%|███████▍  | 443/600 [3:50:51<1:20:06, 30.61s/it, v_num=a0_1, total_loss_train=529, kl_local_train=89, metric_mi|age_categorical_train=0.337]  "
     ]
    },
    {
     "name": "stdout",
     "output_type": "stream",
     "text": [
      "\r\n",
      "Epoch 444/600:  74%|███████▍  | 443/600 [3:50:51<1:20:06, 30.61s/it, v_num=a0_1, total_loss_train=529, kl_local_train=89, metric_mi|age_categorical_train=0.337]"
     ]
    },
    {
     "name": "stdout",
     "output_type": "stream",
     "text": [
      "\r\n",
      "Epoch 444/600:  74%|███████▍  | 444/600 [3:51:22<1:19:27, 30.56s/it, v_num=a0_1, total_loss_train=529, kl_local_train=89, metric_mi|age_categorical_train=0.337]"
     ]
    },
    {
     "name": "stdout",
     "output_type": "stream",
     "text": [
      "\r\n",
      "Epoch 444/600:  74%|███████▍  | 444/600 [3:51:22<1:19:27, 30.56s/it, v_num=a0_1, total_loss_train=529, kl_local_train=88.9, metric_mi|age_categorical_train=0.337]"
     ]
    },
    {
     "name": "stdout",
     "output_type": "stream",
     "text": [
      "\r\n",
      "Epoch 445/600:  74%|███████▍  | 444/600 [3:51:22<1:19:27, 30.56s/it, v_num=a0_1, total_loss_train=529, kl_local_train=88.9, metric_mi|age_categorical_train=0.337]"
     ]
    },
    {
     "name": "stdout",
     "output_type": "stream",
     "text": [
      "\r\n",
      "Epoch 445/600:  74%|███████▍  | 445/600 [3:51:53<1:19:27, 30.76s/it, v_num=a0_1, total_loss_train=529, kl_local_train=88.9, metric_mi|age_categorical_train=0.337]"
     ]
    },
    {
     "name": "stdout",
     "output_type": "stream",
     "text": [
      "\r\n",
      "Epoch 445/600:  74%|███████▍  | 445/600 [3:51:53<1:19:27, 30.76s/it, v_num=a0_1, total_loss_train=530, kl_local_train=89.1, metric_mi|age_categorical_train=0.337]"
     ]
    },
    {
     "name": "stdout",
     "output_type": "stream",
     "text": [
      "\r\n",
      "Epoch 446/600:  74%|███████▍  | 445/600 [3:51:53<1:19:27, 30.76s/it, v_num=a0_1, total_loss_train=530, kl_local_train=89.1, metric_mi|age_categorical_train=0.337]"
     ]
    },
    {
     "name": "stdout",
     "output_type": "stream",
     "text": [
      "\r\n",
      "Epoch 446/600:  74%|███████▍  | 446/600 [3:52:24<1:19:07, 30.83s/it, v_num=a0_1, total_loss_train=530, kl_local_train=89.1, metric_mi|age_categorical_train=0.337]"
     ]
    },
    {
     "name": "stdout",
     "output_type": "stream",
     "text": [
      "\r\n",
      "Epoch 446/600:  74%|███████▍  | 446/600 [3:52:24<1:19:07, 30.83s/it, v_num=a0_1, total_loss_train=529, kl_local_train=88.6, metric_mi|age_categorical_train=0.35] "
     ]
    },
    {
     "name": "stdout",
     "output_type": "stream",
     "text": [
      "\r\n",
      "Epoch 447/600:  74%|███████▍  | 446/600 [3:52:24<1:19:07, 30.83s/it, v_num=a0_1, total_loss_train=529, kl_local_train=88.6, metric_mi|age_categorical_train=0.35]"
     ]
    },
    {
     "name": "stdout",
     "output_type": "stream",
     "text": [
      "\r\n",
      "Epoch 447/600:  74%|███████▍  | 447/600 [3:52:54<1:18:25, 30.75s/it, v_num=a0_1, total_loss_train=529, kl_local_train=88.6, metric_mi|age_categorical_train=0.35]"
     ]
    },
    {
     "name": "stdout",
     "output_type": "stream",
     "text": [
      "\r\n",
      "Epoch 447/600:  74%|███████▍  | 447/600 [3:52:54<1:18:25, 30.75s/it, v_num=a0_1, total_loss_train=530, kl_local_train=88.6, metric_mi|age_categorical_train=0.35]"
     ]
    },
    {
     "name": "stdout",
     "output_type": "stream",
     "text": [
      "\r\n",
      "Epoch 448/600:  74%|███████▍  | 447/600 [3:52:54<1:18:25, 30.75s/it, v_num=a0_1, total_loss_train=530, kl_local_train=88.6, metric_mi|age_categorical_train=0.35]"
     ]
    },
    {
     "name": "stdout",
     "output_type": "stream",
     "text": [
      "\r\n",
      "Epoch 448/600:  75%|███████▍  | 448/600 [3:53:25<1:17:36, 30.64s/it, v_num=a0_1, total_loss_train=530, kl_local_train=88.6, metric_mi|age_categorical_train=0.35]"
     ]
    },
    {
     "name": "stdout",
     "output_type": "stream",
     "text": [
      "\r\n",
      "Epoch 448/600:  75%|███████▍  | 448/600 [3:53:25<1:17:36, 30.64s/it, v_num=a0_1, total_loss_train=530, kl_local_train=88.3, metric_mi|age_categorical_train=0.35]"
     ]
    },
    {
     "name": "stdout",
     "output_type": "stream",
     "text": [
      "\r\n",
      "Epoch 449/600:  75%|███████▍  | 448/600 [3:53:25<1:17:36, 30.64s/it, v_num=a0_1, total_loss_train=530, kl_local_train=88.3, metric_mi|age_categorical_train=0.35]"
     ]
    },
    {
     "name": "stdout",
     "output_type": "stream",
     "text": [
      "\r\n",
      "Epoch 449/600:  75%|███████▍  | 449/600 [3:53:55<1:16:58, 30.59s/it, v_num=a0_1, total_loss_train=530, kl_local_train=88.3, metric_mi|age_categorical_train=0.35]"
     ]
    },
    {
     "name": "stdout",
     "output_type": "stream",
     "text": [
      "\r\n",
      "Epoch 449/600:  75%|███████▍  | 449/600 [3:53:55<1:16:58, 30.59s/it, v_num=a0_1, total_loss_train=530, kl_local_train=88.3, metric_mi|age_categorical_train=0.35]"
     ]
    },
    {
     "name": "stdout",
     "output_type": "stream",
     "text": [
      "\r\n",
      "Epoch 450/600:  75%|███████▍  | 449/600 [3:53:55<1:16:58, 30.59s/it, v_num=a0_1, total_loss_train=530, kl_local_train=88.3, metric_mi|age_categorical_train=0.35]"
     ]
    },
    {
     "name": "stdout",
     "output_type": "stream",
     "text": [
      "\r\n",
      "Epoch 450/600:  75%|███████▌  | 450/600 [3:54:27<1:17:01, 30.81s/it, v_num=a0_1, total_loss_train=530, kl_local_train=88.3, metric_mi|age_categorical_train=0.35]"
     ]
    },
    {
     "name": "stdout",
     "output_type": "stream",
     "text": [
      "\r\n",
      "Epoch 450/600:  75%|███████▌  | 450/600 [3:54:27<1:17:01, 30.81s/it, v_num=a0_1, total_loss_train=530, kl_local_train=88.3, metric_mi|age_categorical_train=0.35]"
     ]
    },
    {
     "name": "stdout",
     "output_type": "stream",
     "text": [
      "\r\n",
      "Epoch 451/600:  75%|███████▌  | 450/600 [3:54:27<1:17:01, 30.81s/it, v_num=a0_1, total_loss_train=530, kl_local_train=88.3, metric_mi|age_categorical_train=0.35]"
     ]
    },
    {
     "name": "stdout",
     "output_type": "stream",
     "text": [
      "\r\n",
      "Epoch 451/600:  75%|███████▌  | 451/600 [3:54:58<1:16:38, 30.86s/it, v_num=a0_1, total_loss_train=530, kl_local_train=88.3, metric_mi|age_categorical_train=0.35]"
     ]
    },
    {
     "name": "stdout",
     "output_type": "stream",
     "text": [
      "\r\n",
      "Epoch 451/600:  75%|███████▌  | 451/600 [3:54:58<1:16:38, 30.86s/it, v_num=a0_1, total_loss_train=530, kl_local_train=88.3, metric_mi|age_categorical_train=0.338]"
     ]
    },
    {
     "name": "stdout",
     "output_type": "stream",
     "text": [
      "\r\n",
      "Epoch 452/600:  75%|███████▌  | 451/600 [3:54:58<1:16:38, 30.86s/it, v_num=a0_1, total_loss_train=530, kl_local_train=88.3, metric_mi|age_categorical_train=0.338]"
     ]
    },
    {
     "name": "stdout",
     "output_type": "stream",
     "text": [
      "\r\n",
      "Epoch 452/600:  75%|███████▌  | 452/600 [3:55:28<1:15:38, 30.67s/it, v_num=a0_1, total_loss_train=530, kl_local_train=88.3, metric_mi|age_categorical_train=0.338]"
     ]
    },
    {
     "name": "stdout",
     "output_type": "stream",
     "text": [
      "\r\n",
      "Epoch 452/600:  75%|███████▌  | 452/600 [3:55:28<1:15:38, 30.67s/it, v_num=a0_1, total_loss_train=530, kl_local_train=87.9, metric_mi|age_categorical_train=0.338]"
     ]
    },
    {
     "name": "stdout",
     "output_type": "stream",
     "text": [
      "\r\n",
      "Epoch 453/600:  75%|███████▌  | 452/600 [3:55:28<1:15:38, 30.67s/it, v_num=a0_1, total_loss_train=530, kl_local_train=87.9, metric_mi|age_categorical_train=0.338]"
     ]
    },
    {
     "name": "stdout",
     "output_type": "stream",
     "text": [
      "\r\n",
      "Epoch 453/600:  76%|███████▌  | 453/600 [3:55:58<1:14:48, 30.54s/it, v_num=a0_1, total_loss_train=530, kl_local_train=87.9, metric_mi|age_categorical_train=0.338]"
     ]
    },
    {
     "name": "stdout",
     "output_type": "stream",
     "text": [
      "\r\n",
      "Epoch 453/600:  76%|███████▌  | 453/600 [3:55:58<1:14:48, 30.54s/it, v_num=a0_1, total_loss_train=530, kl_local_train=88, metric_mi|age_categorical_train=0.338]  "
     ]
    },
    {
     "name": "stdout",
     "output_type": "stream",
     "text": [
      "\r\n",
      "Epoch 454/600:  76%|███████▌  | 453/600 [3:55:58<1:14:48, 30.54s/it, v_num=a0_1, total_loss_train=530, kl_local_train=88, metric_mi|age_categorical_train=0.338]"
     ]
    },
    {
     "name": "stdout",
     "output_type": "stream",
     "text": [
      "\r\n",
      "Epoch 454/600:  76%|███████▌  | 454/600 [3:56:28<1:14:12, 30.50s/it, v_num=a0_1, total_loss_train=530, kl_local_train=88, metric_mi|age_categorical_train=0.338]"
     ]
    },
    {
     "name": "stdout",
     "output_type": "stream",
     "text": [
      "\r\n",
      "Epoch 454/600:  76%|███████▌  | 454/600 [3:56:28<1:14:12, 30.50s/it, v_num=a0_1, total_loss_train=530, kl_local_train=88, metric_mi|age_categorical_train=0.338]"
     ]
    },
    {
     "name": "stdout",
     "output_type": "stream",
     "text": [
      "\r\n",
      "Epoch 455/600:  76%|███████▌  | 454/600 [3:56:28<1:14:12, 30.50s/it, v_num=a0_1, total_loss_train=530, kl_local_train=88, metric_mi|age_categorical_train=0.338]"
     ]
    },
    {
     "name": "stdout",
     "output_type": "stream",
     "text": [
      "\r\n",
      "Epoch 455/600:  76%|███████▌  | 455/600 [3:57:00<1:14:07, 30.67s/it, v_num=a0_1, total_loss_train=530, kl_local_train=88, metric_mi|age_categorical_train=0.338]"
     ]
    },
    {
     "name": "stdout",
     "output_type": "stream",
     "text": [
      "\r\n",
      "Epoch 455/600:  76%|███████▌  | 455/600 [3:57:00<1:14:07, 30.67s/it, v_num=a0_1, total_loss_train=530, kl_local_train=87.9, metric_mi|age_categorical_train=0.338]"
     ]
    },
    {
     "name": "stdout",
     "output_type": "stream",
     "text": [
      "\r\n",
      "Epoch 456/600:  76%|███████▌  | 455/600 [3:57:00<1:14:07, 30.67s/it, v_num=a0_1, total_loss_train=530, kl_local_train=87.9, metric_mi|age_categorical_train=0.338]"
     ]
    },
    {
     "name": "stdout",
     "output_type": "stream",
     "text": [
      "\r\n",
      "Epoch 456/600:  76%|███████▌  | 456/600 [3:57:31<1:13:58, 30.82s/it, v_num=a0_1, total_loss_train=530, kl_local_train=87.9, metric_mi|age_categorical_train=0.338]"
     ]
    },
    {
     "name": "stdout",
     "output_type": "stream",
     "text": [
      "\r\n",
      "Epoch 456/600:  76%|███████▌  | 456/600 [3:57:31<1:13:58, 30.82s/it, v_num=a0_1, total_loss_train=530, kl_local_train=87.6, metric_mi|age_categorical_train=0.336]"
     ]
    },
    {
     "name": "stdout",
     "output_type": "stream",
     "text": [
      "\r\n",
      "Epoch 457/600:  76%|███████▌  | 456/600 [3:57:31<1:13:58, 30.82s/it, v_num=a0_1, total_loss_train=530, kl_local_train=87.6, metric_mi|age_categorical_train=0.336]"
     ]
    },
    {
     "name": "stdout",
     "output_type": "stream",
     "text": [
      "\r\n",
      "Epoch 457/600:  76%|███████▌  | 457/600 [3:58:01<1:13:18, 30.76s/it, v_num=a0_1, total_loss_train=530, kl_local_train=87.6, metric_mi|age_categorical_train=0.336]"
     ]
    },
    {
     "name": "stdout",
     "output_type": "stream",
     "text": [
      "\r\n",
      "Epoch 457/600:  76%|███████▌  | 457/600 [3:58:01<1:13:18, 30.76s/it, v_num=a0_1, total_loss_train=531, kl_local_train=87.6, metric_mi|age_categorical_train=0.336]"
     ]
    },
    {
     "name": "stdout",
     "output_type": "stream",
     "text": [
      "\r\n",
      "Epoch 458/600:  76%|███████▌  | 457/600 [3:58:01<1:13:18, 30.76s/it, v_num=a0_1, total_loss_train=531, kl_local_train=87.6, metric_mi|age_categorical_train=0.336]"
     ]
    },
    {
     "name": "stdout",
     "output_type": "stream",
     "text": [
      "\r\n",
      "Epoch 458/600:  76%|███████▋  | 458/600 [3:58:32<1:12:37, 30.69s/it, v_num=a0_1, total_loss_train=531, kl_local_train=87.6, metric_mi|age_categorical_train=0.336]"
     ]
    },
    {
     "name": "stdout",
     "output_type": "stream",
     "text": [
      "\r\n",
      "Epoch 458/600:  76%|███████▋  | 458/600 [3:58:32<1:12:37, 30.69s/it, v_num=a0_1, total_loss_train=531, kl_local_train=88, metric_mi|age_categorical_train=0.336]  "
     ]
    },
    {
     "name": "stdout",
     "output_type": "stream",
     "text": [
      "\r\n",
      "Epoch 459/600:  76%|███████▋  | 458/600 [3:58:32<1:12:37, 30.69s/it, v_num=a0_1, total_loss_train=531, kl_local_train=88, metric_mi|age_categorical_train=0.336]"
     ]
    },
    {
     "name": "stdout",
     "output_type": "stream",
     "text": [
      "\r\n",
      "Epoch 459/600:  76%|███████▋  | 459/600 [3:59:03<1:12:13, 30.73s/it, v_num=a0_1, total_loss_train=531, kl_local_train=88, metric_mi|age_categorical_train=0.336]"
     ]
    },
    {
     "name": "stdout",
     "output_type": "stream",
     "text": [
      "\r\n",
      "Epoch 459/600:  76%|███████▋  | 459/600 [3:59:03<1:12:13, 30.73s/it, v_num=a0_1, total_loss_train=531, kl_local_train=87.5, metric_mi|age_categorical_train=0.336]"
     ]
    },
    {
     "name": "stdout",
     "output_type": "stream",
     "text": [
      "\r\n",
      "Epoch 460/600:  76%|███████▋  | 459/600 [3:59:03<1:12:13, 30.73s/it, v_num=a0_1, total_loss_train=531, kl_local_train=87.5, metric_mi|age_categorical_train=0.336]"
     ]
    },
    {
     "name": "stdout",
     "output_type": "stream",
     "text": [
      "\r\n",
      "Epoch 460/600:  77%|███████▋  | 460/600 [3:59:34<1:12:06, 30.91s/it, v_num=a0_1, total_loss_train=531, kl_local_train=87.5, metric_mi|age_categorical_train=0.336]"
     ]
    },
    {
     "name": "stdout",
     "output_type": "stream",
     "text": [
      "\r\n",
      "Epoch 460/600:  77%|███████▋  | 460/600 [3:59:34<1:12:06, 30.91s/it, v_num=a0_1, total_loss_train=531, kl_local_train=87.2, metric_mi|age_categorical_train=0.336]"
     ]
    },
    {
     "name": "stdout",
     "output_type": "stream",
     "text": [
      "\r\n",
      "Epoch 461/600:  77%|███████▋  | 460/600 [3:59:35<1:12:06, 30.91s/it, v_num=a0_1, total_loss_train=531, kl_local_train=87.2, metric_mi|age_categorical_train=0.336]"
     ]
    },
    {
     "name": "stdout",
     "output_type": "stream",
     "text": [
      "\r\n",
      "Epoch 461/600:  77%|███████▋  | 461/600 [4:00:05<1:11:52, 31.02s/it, v_num=a0_1, total_loss_train=531, kl_local_train=87.2, metric_mi|age_categorical_train=0.336]"
     ]
    },
    {
     "name": "stdout",
     "output_type": "stream",
     "text": [
      "\r\n",
      "Epoch 461/600:  77%|███████▋  | 461/600 [4:00:05<1:11:52, 31.02s/it, v_num=a0_1, total_loss_train=531, kl_local_train=87.4, metric_mi|age_categorical_train=0.32] "
     ]
    },
    {
     "name": "stdout",
     "output_type": "stream",
     "text": [
      "\r\n",
      "Epoch 462/600:  77%|███████▋  | 461/600 [4:00:05<1:11:52, 31.02s/it, v_num=a0_1, total_loss_train=531, kl_local_train=87.4, metric_mi|age_categorical_train=0.32]"
     ]
    },
    {
     "name": "stdout",
     "output_type": "stream",
     "text": [
      "\r\n",
      "Epoch 462/600:  77%|███████▋  | 462/600 [4:00:36<1:11:04, 30.90s/it, v_num=a0_1, total_loss_train=531, kl_local_train=87.4, metric_mi|age_categorical_train=0.32]"
     ]
    },
    {
     "name": "stdout",
     "output_type": "stream",
     "text": [
      "\r\n",
      "Epoch 462/600:  77%|███████▋  | 462/600 [4:00:36<1:11:04, 30.90s/it, v_num=a0_1, total_loss_train=531, kl_local_train=86.9, metric_mi|age_categorical_train=0.32]"
     ]
    },
    {
     "name": "stdout",
     "output_type": "stream",
     "text": [
      "\r\n",
      "Epoch 463/600:  77%|███████▋  | 462/600 [4:00:36<1:11:04, 30.90s/it, v_num=a0_1, total_loss_train=531, kl_local_train=86.9, metric_mi|age_categorical_train=0.32]"
     ]
    },
    {
     "name": "stdout",
     "output_type": "stream",
     "text": [
      "\r\n",
      "Epoch 463/600:  77%|███████▋  | 463/600 [4:01:06<1:10:21, 30.81s/it, v_num=a0_1, total_loss_train=531, kl_local_train=86.9, metric_mi|age_categorical_train=0.32]"
     ]
    },
    {
     "name": "stdout",
     "output_type": "stream",
     "text": [
      "\r\n",
      "Epoch 463/600:  77%|███████▋  | 463/600 [4:01:06<1:10:21, 30.81s/it, v_num=a0_1, total_loss_train=531, kl_local_train=87.4, metric_mi|age_categorical_train=0.32]"
     ]
    },
    {
     "name": "stdout",
     "output_type": "stream",
     "text": [
      "\r\n",
      "Epoch 464/600:  77%|███████▋  | 463/600 [4:01:07<1:10:21, 30.81s/it, v_num=a0_1, total_loss_train=531, kl_local_train=87.4, metric_mi|age_categorical_train=0.32]"
     ]
    },
    {
     "name": "stdout",
     "output_type": "stream",
     "text": [
      "\r\n",
      "Epoch 464/600:  77%|███████▋  | 464/600 [4:01:37<1:09:38, 30.72s/it, v_num=a0_1, total_loss_train=531, kl_local_train=87.4, metric_mi|age_categorical_train=0.32]"
     ]
    },
    {
     "name": "stdout",
     "output_type": "stream",
     "text": [
      "\r\n",
      "Epoch 464/600:  77%|███████▋  | 464/600 [4:01:37<1:09:38, 30.72s/it, v_num=a0_1, total_loss_train=531, kl_local_train=87.1, metric_mi|age_categorical_train=0.32]"
     ]
    },
    {
     "name": "stdout",
     "output_type": "stream",
     "text": [
      "\r\n",
      "Epoch 465/600:  77%|███████▋  | 464/600 [4:01:37<1:09:38, 30.72s/it, v_num=a0_1, total_loss_train=531, kl_local_train=87.1, metric_mi|age_categorical_train=0.32]"
     ]
    },
    {
     "name": "stdout",
     "output_type": "stream",
     "text": [
      "\r\n",
      "Epoch 465/600:  78%|███████▊  | 465/600 [4:02:09<1:09:39, 30.96s/it, v_num=a0_1, total_loss_train=531, kl_local_train=87.1, metric_mi|age_categorical_train=0.32]"
     ]
    },
    {
     "name": "stdout",
     "output_type": "stream",
     "text": [
      "\r\n",
      "Epoch 465/600:  78%|███████▊  | 465/600 [4:02:09<1:09:39, 30.96s/it, v_num=a0_1, total_loss_train=531, kl_local_train=87, metric_mi|age_categorical_train=0.32]  "
     ]
    },
    {
     "name": "stdout",
     "output_type": "stream",
     "text": [
      "\r\n",
      "Epoch 466/600:  78%|███████▊  | 465/600 [4:02:09<1:09:39, 30.96s/it, v_num=a0_1, total_loss_train=531, kl_local_train=87, metric_mi|age_categorical_train=0.32]"
     ]
    },
    {
     "name": "stdout",
     "output_type": "stream",
     "text": [
      "\r\n",
      "Epoch 466/600:  78%|███████▊  | 466/600 [4:02:39<1:09:07, 30.95s/it, v_num=a0_1, total_loss_train=531, kl_local_train=87, metric_mi|age_categorical_train=0.32]"
     ]
    },
    {
     "name": "stdout",
     "output_type": "stream",
     "text": [
      "\r\n",
      "Epoch 466/600:  78%|███████▊  | 466/600 [4:02:39<1:09:07, 30.95s/it, v_num=a0_1, total_loss_train=532, kl_local_train=87, metric_mi|age_categorical_train=0.336]"
     ]
    },
    {
     "name": "stdout",
     "output_type": "stream",
     "text": [
      "\r\n",
      "Epoch 467/600:  78%|███████▊  | 466/600 [4:02:39<1:09:07, 30.95s/it, v_num=a0_1, total_loss_train=532, kl_local_train=87, metric_mi|age_categorical_train=0.336]"
     ]
    },
    {
     "name": "stdout",
     "output_type": "stream",
     "text": [
      "\r\n",
      "Epoch 467/600:  78%|███████▊  | 467/600 [4:03:10<1:08:16, 30.80s/it, v_num=a0_1, total_loss_train=532, kl_local_train=87, metric_mi|age_categorical_train=0.336]"
     ]
    },
    {
     "name": "stdout",
     "output_type": "stream",
     "text": [
      "\r\n",
      "Epoch 467/600:  78%|███████▊  | 467/600 [4:03:10<1:08:16, 30.80s/it, v_num=a0_1, total_loss_train=531, kl_local_train=86.8, metric_mi|age_categorical_train=0.336]"
     ]
    },
    {
     "name": "stdout",
     "output_type": "stream",
     "text": [
      "\r\n",
      "Epoch 468/600:  78%|███████▊  | 467/600 [4:03:10<1:08:16, 30.80s/it, v_num=a0_1, total_loss_train=531, kl_local_train=86.8, metric_mi|age_categorical_train=0.336]"
     ]
    },
    {
     "name": "stdout",
     "output_type": "stream",
     "text": [
      "\r\n",
      "Epoch 468/600:  78%|███████▊  | 468/600 [4:03:40<1:07:34, 30.72s/it, v_num=a0_1, total_loss_train=531, kl_local_train=86.8, metric_mi|age_categorical_train=0.336]"
     ]
    },
    {
     "name": "stdout",
     "output_type": "stream",
     "text": [
      "\r\n",
      "Epoch 468/600:  78%|███████▊  | 468/600 [4:03:40<1:07:34, 30.72s/it, v_num=a0_1, total_loss_train=532, kl_local_train=86.7, metric_mi|age_categorical_train=0.336]"
     ]
    },
    {
     "name": "stdout",
     "output_type": "stream",
     "text": [
      "\r\n",
      "Epoch 469/600:  78%|███████▊  | 468/600 [4:03:40<1:07:34, 30.72s/it, v_num=a0_1, total_loss_train=532, kl_local_train=86.7, metric_mi|age_categorical_train=0.336]"
     ]
    },
    {
     "name": "stdout",
     "output_type": "stream",
     "text": [
      "\r\n",
      "Epoch 469/600:  78%|███████▊  | 469/600 [4:04:11<1:06:42, 30.55s/it, v_num=a0_1, total_loss_train=532, kl_local_train=86.7, metric_mi|age_categorical_train=0.336]"
     ]
    },
    {
     "name": "stdout",
     "output_type": "stream",
     "text": [
      "\r\n",
      "Epoch 469/600:  78%|███████▊  | 469/600 [4:04:11<1:06:42, 30.55s/it, v_num=a0_1, total_loss_train=532, kl_local_train=86.8, metric_mi|age_categorical_train=0.336]"
     ]
    },
    {
     "name": "stdout",
     "output_type": "stream",
     "text": [
      "\r\n",
      "Epoch 470/600:  78%|███████▊  | 469/600 [4:04:11<1:06:42, 30.55s/it, v_num=a0_1, total_loss_train=532, kl_local_train=86.8, metric_mi|age_categorical_train=0.336]"
     ]
    },
    {
     "name": "stdout",
     "output_type": "stream",
     "text": [
      "\r\n",
      "Epoch 470/600:  78%|███████▊  | 470/600 [4:04:42<1:06:29, 30.69s/it, v_num=a0_1, total_loss_train=532, kl_local_train=86.8, metric_mi|age_categorical_train=0.336]"
     ]
    },
    {
     "name": "stdout",
     "output_type": "stream",
     "text": [
      "\r\n",
      "Epoch 470/600:  78%|███████▊  | 470/600 [4:04:42<1:06:29, 30.69s/it, v_num=a0_1, total_loss_train=532, kl_local_train=86.6, metric_mi|age_categorical_train=0.336]"
     ]
    },
    {
     "name": "stdout",
     "output_type": "stream",
     "text": [
      "\r\n",
      "Epoch 471/600:  78%|███████▊  | 470/600 [4:04:42<1:06:29, 30.69s/it, v_num=a0_1, total_loss_train=532, kl_local_train=86.6, metric_mi|age_categorical_train=0.336]"
     ]
    },
    {
     "name": "stdout",
     "output_type": "stream",
     "text": [
      "\r\n",
      "Epoch 471/600:  78%|███████▊  | 471/600 [4:05:12<1:06:05, 30.74s/it, v_num=a0_1, total_loss_train=532, kl_local_train=86.6, metric_mi|age_categorical_train=0.336]"
     ]
    },
    {
     "name": "stdout",
     "output_type": "stream",
     "text": [
      "\r\n",
      "Epoch 471/600:  78%|███████▊  | 471/600 [4:05:12<1:06:05, 30.74s/it, v_num=a0_1, total_loss_train=532, kl_local_train=86.5, metric_mi|age_categorical_train=0.337]"
     ]
    },
    {
     "name": "stdout",
     "output_type": "stream",
     "text": [
      "\r\n",
      "Epoch 472/600:  78%|███████▊  | 471/600 [4:05:12<1:06:05, 30.74s/it, v_num=a0_1, total_loss_train=532, kl_local_train=86.5, metric_mi|age_categorical_train=0.337]"
     ]
    },
    {
     "name": "stdout",
     "output_type": "stream",
     "text": [
      "\r\n",
      "Epoch 472/600:  79%|███████▊  | 472/600 [4:05:43<1:05:16, 30.60s/it, v_num=a0_1, total_loss_train=532, kl_local_train=86.5, metric_mi|age_categorical_train=0.337]"
     ]
    },
    {
     "name": "stdout",
     "output_type": "stream",
     "text": [
      "\r\n",
      "Epoch 472/600:  79%|███████▊  | 472/600 [4:05:43<1:05:16, 30.60s/it, v_num=a0_1, total_loss_train=532, kl_local_train=86.4, metric_mi|age_categorical_train=0.337]"
     ]
    },
    {
     "name": "stdout",
     "output_type": "stream",
     "text": [
      "\r\n",
      "Epoch 473/600:  79%|███████▊  | 472/600 [4:05:43<1:05:16, 30.60s/it, v_num=a0_1, total_loss_train=532, kl_local_train=86.4, metric_mi|age_categorical_train=0.337]"
     ]
    },
    {
     "name": "stdout",
     "output_type": "stream",
     "text": [
      "\r\n",
      "Epoch 473/600:  79%|███████▉  | 473/600 [4:06:13<1:04:39, 30.55s/it, v_num=a0_1, total_loss_train=532, kl_local_train=86.4, metric_mi|age_categorical_train=0.337]"
     ]
    },
    {
     "name": "stdout",
     "output_type": "stream",
     "text": [
      "\r\n",
      "Epoch 473/600:  79%|███████▉  | 473/600 [4:06:13<1:04:39, 30.55s/it, v_num=a0_1, total_loss_train=532, kl_local_train=86.4, metric_mi|age_categorical_train=0.337]"
     ]
    },
    {
     "name": "stdout",
     "output_type": "stream",
     "text": [
      "\r\n",
      "Epoch 474/600:  79%|███████▉  | 473/600 [4:06:13<1:04:39, 30.55s/it, v_num=a0_1, total_loss_train=532, kl_local_train=86.4, metric_mi|age_categorical_train=0.337]"
     ]
    },
    {
     "name": "stdout",
     "output_type": "stream",
     "text": [
      "\r\n",
      "Epoch 474/600:  79%|███████▉  | 474/600 [4:06:44<1:04:07, 30.53s/it, v_num=a0_1, total_loss_train=532, kl_local_train=86.4, metric_mi|age_categorical_train=0.337]"
     ]
    },
    {
     "name": "stdout",
     "output_type": "stream",
     "text": [
      "\r\n",
      "Epoch 474/600:  79%|███████▉  | 474/600 [4:06:44<1:04:07, 30.53s/it, v_num=a0_1, total_loss_train=532, kl_local_train=86.2, metric_mi|age_categorical_train=0.337]"
     ]
    },
    {
     "name": "stdout",
     "output_type": "stream",
     "text": [
      "\r\n",
      "Epoch 475/600:  79%|███████▉  | 474/600 [4:06:44<1:04:07, 30.53s/it, v_num=a0_1, total_loss_train=532, kl_local_train=86.2, metric_mi|age_categorical_train=0.337]"
     ]
    },
    {
     "name": "stdout",
     "output_type": "stream",
     "text": [
      "\r\n",
      "Epoch 475/600:  79%|███████▉  | 475/600 [4:07:15<1:04:07, 30.78s/it, v_num=a0_1, total_loss_train=532, kl_local_train=86.2, metric_mi|age_categorical_train=0.337]"
     ]
    },
    {
     "name": "stdout",
     "output_type": "stream",
     "text": [
      "\r\n",
      "Epoch 475/600:  79%|███████▉  | 475/600 [4:07:15<1:04:07, 30.78s/it, v_num=a0_1, total_loss_train=532, kl_local_train=85.9, metric_mi|age_categorical_train=0.337]"
     ]
    },
    {
     "name": "stdout",
     "output_type": "stream",
     "text": [
      "\r\n",
      "Epoch 476/600:  79%|███████▉  | 475/600 [4:07:16<1:04:07, 30.78s/it, v_num=a0_1, total_loss_train=532, kl_local_train=85.9, metric_mi|age_categorical_train=0.337]"
     ]
    },
    {
     "name": "stdout",
     "output_type": "stream",
     "text": [
      "\r\n",
      "Epoch 476/600:  79%|███████▉  | 476/600 [4:07:46<1:03:32, 30.75s/it, v_num=a0_1, total_loss_train=532, kl_local_train=85.9, metric_mi|age_categorical_train=0.337]"
     ]
    },
    {
     "name": "stdout",
     "output_type": "stream",
     "text": [
      "\r\n",
      "Epoch 476/600:  79%|███████▉  | 476/600 [4:07:46<1:03:32, 30.75s/it, v_num=a0_1, total_loss_train=532, kl_local_train=85.9, metric_mi|age_categorical_train=0.353]"
     ]
    },
    {
     "name": "stdout",
     "output_type": "stream",
     "text": [
      "\r\n",
      "Epoch 477/600:  79%|███████▉  | 476/600 [4:07:46<1:03:32, 30.75s/it, v_num=a0_1, total_loss_train=532, kl_local_train=85.9, metric_mi|age_categorical_train=0.353]"
     ]
    },
    {
     "name": "stdout",
     "output_type": "stream",
     "text": [
      "\r\n",
      "Epoch 477/600:  80%|███████▉  | 477/600 [4:08:16<1:02:34, 30.52s/it, v_num=a0_1, total_loss_train=532, kl_local_train=85.9, metric_mi|age_categorical_train=0.353]"
     ]
    },
    {
     "name": "stdout",
     "output_type": "stream",
     "text": [
      "\r\n",
      "Epoch 477/600:  80%|███████▉  | 477/600 [4:08:16<1:02:34, 30.52s/it, v_num=a0_1, total_loss_train=532, kl_local_train=85.7, metric_mi|age_categorical_train=0.353]"
     ]
    },
    {
     "name": "stdout",
     "output_type": "stream",
     "text": [
      "\r\n",
      "Epoch 478/600:  80%|███████▉  | 477/600 [4:08:16<1:02:34, 30.52s/it, v_num=a0_1, total_loss_train=532, kl_local_train=85.7, metric_mi|age_categorical_train=0.353]"
     ]
    },
    {
     "name": "stdout",
     "output_type": "stream",
     "text": [
      "\r\n",
      "Epoch 478/600:  80%|███████▉  | 478/600 [4:08:46<1:01:49, 30.41s/it, v_num=a0_1, total_loss_train=532, kl_local_train=85.7, metric_mi|age_categorical_train=0.353]"
     ]
    },
    {
     "name": "stdout",
     "output_type": "stream",
     "text": [
      "\r\n",
      "Epoch 478/600:  80%|███████▉  | 478/600 [4:08:46<1:01:49, 30.41s/it, v_num=a0_1, total_loss_train=533, kl_local_train=85.7, metric_mi|age_categorical_train=0.353]"
     ]
    },
    {
     "name": "stdout",
     "output_type": "stream",
     "text": [
      "\r\n",
      "Epoch 479/600:  80%|███████▉  | 478/600 [4:08:46<1:01:49, 30.41s/it, v_num=a0_1, total_loss_train=533, kl_local_train=85.7, metric_mi|age_categorical_train=0.353]"
     ]
    },
    {
     "name": "stdout",
     "output_type": "stream",
     "text": [
      "\r\n",
      "Epoch 479/600:  80%|███████▉  | 479/600 [4:09:16<1:01:12, 30.35s/it, v_num=a0_1, total_loss_train=533, kl_local_train=85.7, metric_mi|age_categorical_train=0.353]"
     ]
    },
    {
     "name": "stdout",
     "output_type": "stream",
     "text": [
      "\r\n",
      "Epoch 479/600:  80%|███████▉  | 479/600 [4:09:16<1:01:12, 30.35s/it, v_num=a0_1, total_loss_train=533, kl_local_train=86, metric_mi|age_categorical_train=0.353]  "
     ]
    },
    {
     "name": "stdout",
     "output_type": "stream",
     "text": [
      "\r\n",
      "Epoch 480/600:  80%|███████▉  | 479/600 [4:09:16<1:01:12, 30.35s/it, v_num=a0_1, total_loss_train=533, kl_local_train=86, metric_mi|age_categorical_train=0.353]"
     ]
    },
    {
     "name": "stdout",
     "output_type": "stream",
     "text": [
      "\r\n",
      "Epoch 480/600:  80%|████████  | 480/600 [4:09:48<1:01:25, 30.71s/it, v_num=a0_1, total_loss_train=533, kl_local_train=86, metric_mi|age_categorical_train=0.353]"
     ]
    },
    {
     "name": "stdout",
     "output_type": "stream",
     "text": [
      "\r\n",
      "Epoch 480/600:  80%|████████  | 480/600 [4:09:48<1:01:25, 30.71s/it, v_num=a0_1, total_loss_train=533, kl_local_train=85.9, metric_mi|age_categorical_train=0.353]"
     ]
    },
    {
     "name": "stdout",
     "output_type": "stream",
     "text": [
      "\r\n",
      "Epoch 481/600:  80%|████████  | 480/600 [4:09:48<1:01:25, 30.71s/it, v_num=a0_1, total_loss_train=533, kl_local_train=85.9, metric_mi|age_categorical_train=0.353]"
     ]
    },
    {
     "name": "stdout",
     "output_type": "stream",
     "text": [
      "\r\n",
      "Epoch 481/600:  80%|████████  | 481/600 [4:10:18<1:01:00, 30.76s/it, v_num=a0_1, total_loss_train=533, kl_local_train=85.9, metric_mi|age_categorical_train=0.353]"
     ]
    },
    {
     "name": "stdout",
     "output_type": "stream",
     "text": [
      "\r\n",
      "Epoch 481/600:  80%|████████  | 481/600 [4:10:18<1:01:00, 30.76s/it, v_num=a0_1, total_loss_train=533, kl_local_train=85.9, metric_mi|age_categorical_train=0.359]"
     ]
    },
    {
     "name": "stdout",
     "output_type": "stream",
     "text": [
      "\r\n",
      "Epoch 482/600:  80%|████████  | 481/600 [4:10:18<1:01:00, 30.76s/it, v_num=a0_1, total_loss_train=533, kl_local_train=85.9, metric_mi|age_categorical_train=0.359]"
     ]
    },
    {
     "name": "stdout",
     "output_type": "stream",
     "text": [
      "\r\n",
      "Epoch 482/600:  80%|████████  | 482/600 [4:10:49<1:00:13, 30.62s/it, v_num=a0_1, total_loss_train=533, kl_local_train=85.9, metric_mi|age_categorical_train=0.359]"
     ]
    },
    {
     "name": "stdout",
     "output_type": "stream",
     "text": [
      "\r\n",
      "Epoch 482/600:  80%|████████  | 482/600 [4:10:49<1:00:13, 30.62s/it, v_num=a0_1, total_loss_train=533, kl_local_train=85.8, metric_mi|age_categorical_train=0.359]"
     ]
    },
    {
     "name": "stdout",
     "output_type": "stream",
     "text": [
      "\r\n",
      "Epoch 483/600:  80%|████████  | 482/600 [4:10:49<1:00:13, 30.62s/it, v_num=a0_1, total_loss_train=533, kl_local_train=85.8, metric_mi|age_categorical_train=0.359]"
     ]
    },
    {
     "name": "stdout",
     "output_type": "stream",
     "text": [
      "\r\n",
      "Epoch 483/600:  80%|████████  | 483/600 [4:11:19<59:27, 30.49s/it, v_num=a0_1, total_loss_train=533, kl_local_train=85.8, metric_mi|age_categorical_train=0.359]  "
     ]
    },
    {
     "name": "stdout",
     "output_type": "stream",
     "text": [
      "\r\n",
      "Epoch 483/600:  80%|████████  | 483/600 [4:11:19<59:27, 30.49s/it, v_num=a0_1, total_loss_train=533, kl_local_train=85.5, metric_mi|age_categorical_train=0.359]"
     ]
    },
    {
     "name": "stdout",
     "output_type": "stream",
     "text": [
      "\r\n",
      "Epoch 484/600:  80%|████████  | 483/600 [4:11:19<59:27, 30.49s/it, v_num=a0_1, total_loss_train=533, kl_local_train=85.5, metric_mi|age_categorical_train=0.359]"
     ]
    },
    {
     "name": "stdout",
     "output_type": "stream",
     "text": [
      "\r\n",
      "Epoch 484/600:  81%|████████  | 484/600 [4:11:49<58:56, 30.49s/it, v_num=a0_1, total_loss_train=533, kl_local_train=85.5, metric_mi|age_categorical_train=0.359]"
     ]
    },
    {
     "name": "stdout",
     "output_type": "stream",
     "text": [
      "\r\n",
      "Epoch 484/600:  81%|████████  | 484/600 [4:11:49<58:56, 30.49s/it, v_num=a0_1, total_loss_train=533, kl_local_train=85.1, metric_mi|age_categorical_train=0.359]"
     ]
    },
    {
     "name": "stdout",
     "output_type": "stream",
     "text": [
      "\r\n",
      "Epoch 485/600:  81%|████████  | 484/600 [4:11:49<58:56, 30.49s/it, v_num=a0_1, total_loss_train=533, kl_local_train=85.1, metric_mi|age_categorical_train=0.359]"
     ]
    },
    {
     "name": "stdout",
     "output_type": "stream",
     "text": [
      "\r\n",
      "Epoch 485/600:  81%|████████  | 485/600 [4:12:21<58:50, 30.70s/it, v_num=a0_1, total_loss_train=533, kl_local_train=85.1, metric_mi|age_categorical_train=0.359]"
     ]
    },
    {
     "name": "stdout",
     "output_type": "stream",
     "text": [
      "\r\n",
      "Epoch 485/600:  81%|████████  | 485/600 [4:12:21<58:50, 30.70s/it, v_num=a0_1, total_loss_train=533, kl_local_train=85.2, metric_mi|age_categorical_train=0.359]"
     ]
    },
    {
     "name": "stdout",
     "output_type": "stream",
     "text": [
      "\r\n",
      "Epoch 486/600:  81%|████████  | 485/600 [4:12:21<58:50, 30.70s/it, v_num=a0_1, total_loss_train=533, kl_local_train=85.2, metric_mi|age_categorical_train=0.359]"
     ]
    },
    {
     "name": "stdout",
     "output_type": "stream",
     "text": [
      "\r\n",
      "Epoch 486/600:  81%|████████  | 486/600 [4:12:51<58:24, 30.74s/it, v_num=a0_1, total_loss_train=533, kl_local_train=85.2, metric_mi|age_categorical_train=0.359]"
     ]
    },
    {
     "name": "stdout",
     "output_type": "stream",
     "text": [
      "\r\n",
      "Epoch 486/600:  81%|████████  | 486/600 [4:12:51<58:24, 30.74s/it, v_num=a0_1, total_loss_train=533, kl_local_train=85.5, metric_mi|age_categorical_train=0.364]"
     ]
    },
    {
     "name": "stdout",
     "output_type": "stream",
     "text": [
      "\r\n",
      "Epoch 487/600:  81%|████████  | 486/600 [4:12:51<58:24, 30.74s/it, v_num=a0_1, total_loss_train=533, kl_local_train=85.5, metric_mi|age_categorical_train=0.364]"
     ]
    },
    {
     "name": "stdout",
     "output_type": "stream",
     "text": [
      "\r\n",
      "Epoch 487/600:  81%|████████  | 487/600 [4:13:22<57:38, 30.61s/it, v_num=a0_1, total_loss_train=533, kl_local_train=85.5, metric_mi|age_categorical_train=0.364]"
     ]
    },
    {
     "name": "stdout",
     "output_type": "stream",
     "text": [
      "\r\n",
      "Epoch 487/600:  81%|████████  | 487/600 [4:13:22<57:38, 30.61s/it, v_num=a0_1, total_loss_train=533, kl_local_train=85.2, metric_mi|age_categorical_train=0.364]"
     ]
    },
    {
     "name": "stdout",
     "output_type": "stream",
     "text": [
      "\r\n",
      "Epoch 488/600:  81%|████████  | 487/600 [4:13:22<57:38, 30.61s/it, v_num=a0_1, total_loss_train=533, kl_local_train=85.2, metric_mi|age_categorical_train=0.364]"
     ]
    },
    {
     "name": "stdout",
     "output_type": "stream",
     "text": [
      "\r\n",
      "Epoch 488/600:  81%|████████▏ | 488/600 [4:13:52<56:56, 30.50s/it, v_num=a0_1, total_loss_train=533, kl_local_train=85.2, metric_mi|age_categorical_train=0.364]"
     ]
    },
    {
     "name": "stdout",
     "output_type": "stream",
     "text": [
      "\r\n",
      "Epoch 488/600:  81%|████████▏ | 488/600 [4:13:52<56:56, 30.50s/it, v_num=a0_1, total_loss_train=533, kl_local_train=85, metric_mi|age_categorical_train=0.364]  "
     ]
    },
    {
     "name": "stdout",
     "output_type": "stream",
     "text": [
      "\r\n",
      "Epoch 489/600:  81%|████████▏ | 488/600 [4:13:52<56:56, 30.50s/it, v_num=a0_1, total_loss_train=533, kl_local_train=85, metric_mi|age_categorical_train=0.364]"
     ]
    },
    {
     "name": "stdout",
     "output_type": "stream",
     "text": [
      "\r\n",
      "Epoch 489/600:  82%|████████▏ | 489/600 [4:14:22<56:20, 30.46s/it, v_num=a0_1, total_loss_train=533, kl_local_train=85, metric_mi|age_categorical_train=0.364]"
     ]
    },
    {
     "name": "stdout",
     "output_type": "stream",
     "text": [
      "\r\n",
      "Epoch 489/600:  82%|████████▏ | 489/600 [4:14:22<56:20, 30.46s/it, v_num=a0_1, total_loss_train=534, kl_local_train=85.1, metric_mi|age_categorical_train=0.364]"
     ]
    },
    {
     "name": "stdout",
     "output_type": "stream",
     "text": [
      "\r\n",
      "Epoch 490/600:  82%|████████▏ | 489/600 [4:14:22<56:20, 30.46s/it, v_num=a0_1, total_loss_train=534, kl_local_train=85.1, metric_mi|age_categorical_train=0.364]"
     ]
    },
    {
     "name": "stdout",
     "output_type": "stream",
     "text": [
      "\r\n",
      "Epoch 490/600:  82%|████████▏ | 490/600 [4:14:53<56:10, 30.64s/it, v_num=a0_1, total_loss_train=534, kl_local_train=85.1, metric_mi|age_categorical_train=0.364]"
     ]
    },
    {
     "name": "stdout",
     "output_type": "stream",
     "text": [
      "\r\n",
      "Epoch 490/600:  82%|████████▏ | 490/600 [4:14:53<56:10, 30.64s/it, v_num=a0_1, total_loss_train=534, kl_local_train=84.7, metric_mi|age_categorical_train=0.364]"
     ]
    },
    {
     "name": "stdout",
     "output_type": "stream",
     "text": [
      "\r\n",
      "Epoch 491/600:  82%|████████▏ | 490/600 [4:14:54<56:10, 30.64s/it, v_num=a0_1, total_loss_train=534, kl_local_train=84.7, metric_mi|age_categorical_train=0.364]"
     ]
    },
    {
     "name": "stdout",
     "output_type": "stream",
     "text": [
      "\r\n",
      "Epoch 491/600:  82%|████████▏ | 491/600 [4:15:24<55:52, 30.75s/it, v_num=a0_1, total_loss_train=534, kl_local_train=84.7, metric_mi|age_categorical_train=0.364]"
     ]
    },
    {
     "name": "stdout",
     "output_type": "stream",
     "text": [
      "\r\n",
      "Epoch 491/600:  82%|████████▏ | 491/600 [4:15:24<55:52, 30.75s/it, v_num=a0_1, total_loss_train=534, kl_local_train=84.8, metric_mi|age_categorical_train=0.359]"
     ]
    },
    {
     "name": "stdout",
     "output_type": "stream",
     "text": [
      "\r\n",
      "Epoch 492/600:  82%|████████▏ | 491/600 [4:15:24<55:52, 30.75s/it, v_num=a0_1, total_loss_train=534, kl_local_train=84.8, metric_mi|age_categorical_train=0.359]"
     ]
    },
    {
     "name": "stdout",
     "output_type": "stream",
     "text": [
      "\r\n",
      "Epoch 492/600:  82%|████████▏ | 492/600 [4:15:55<55:09, 30.64s/it, v_num=a0_1, total_loss_train=534, kl_local_train=84.8, metric_mi|age_categorical_train=0.359]"
     ]
    },
    {
     "name": "stdout",
     "output_type": "stream",
     "text": [
      "\r\n",
      "Epoch 492/600:  82%|████████▏ | 492/600 [4:15:55<55:09, 30.64s/it, v_num=a0_1, total_loss_train=534, kl_local_train=84.7, metric_mi|age_categorical_train=0.359]"
     ]
    },
    {
     "name": "stdout",
     "output_type": "stream",
     "text": [
      "\r\n",
      "Epoch 493/600:  82%|████████▏ | 492/600 [4:15:55<55:09, 30.64s/it, v_num=a0_1, total_loss_train=534, kl_local_train=84.7, metric_mi|age_categorical_train=0.359]"
     ]
    },
    {
     "name": "stdout",
     "output_type": "stream",
     "text": [
      "\r\n",
      "Epoch 493/600:  82%|████████▏ | 493/600 [4:16:25<54:30, 30.56s/it, v_num=a0_1, total_loss_train=534, kl_local_train=84.7, metric_mi|age_categorical_train=0.359]"
     ]
    },
    {
     "name": "stdout",
     "output_type": "stream",
     "text": [
      "\r\n",
      "Epoch 493/600:  82%|████████▏ | 493/600 [4:16:25<54:30, 30.56s/it, v_num=a0_1, total_loss_train=534, kl_local_train=84.9, metric_mi|age_categorical_train=0.359]"
     ]
    },
    {
     "name": "stdout",
     "output_type": "stream",
     "text": [
      "\r\n",
      "Epoch 494/600:  82%|████████▏ | 493/600 [4:16:25<54:30, 30.56s/it, v_num=a0_1, total_loss_train=534, kl_local_train=84.9, metric_mi|age_categorical_train=0.359]"
     ]
    },
    {
     "name": "stdout",
     "output_type": "stream",
     "text": [
      "\r\n",
      "Epoch 494/600:  82%|████████▏ | 494/600 [4:16:56<53:59, 30.56s/it, v_num=a0_1, total_loss_train=534, kl_local_train=84.9, metric_mi|age_categorical_train=0.359]"
     ]
    },
    {
     "name": "stdout",
     "output_type": "stream",
     "text": [
      "\r\n",
      "Epoch 494/600:  82%|████████▏ | 494/600 [4:16:56<53:59, 30.56s/it, v_num=a0_1, total_loss_train=534, kl_local_train=84.4, metric_mi|age_categorical_train=0.359]"
     ]
    },
    {
     "name": "stdout",
     "output_type": "stream",
     "text": [
      "\r\n",
      "Epoch 495/600:  82%|████████▏ | 494/600 [4:16:56<53:59, 30.56s/it, v_num=a0_1, total_loss_train=534, kl_local_train=84.4, metric_mi|age_categorical_train=0.359]"
     ]
    },
    {
     "name": "stdout",
     "output_type": "stream",
     "text": [
      "\r\n",
      "Epoch 495/600:  82%|████████▎ | 495/600 [4:17:27<53:53, 30.80s/it, v_num=a0_1, total_loss_train=534, kl_local_train=84.4, metric_mi|age_categorical_train=0.359]"
     ]
    },
    {
     "name": "stdout",
     "output_type": "stream",
     "text": [
      "\r\n",
      "Epoch 495/600:  82%|████████▎ | 495/600 [4:17:27<53:53, 30.80s/it, v_num=a0_1, total_loss_train=534, kl_local_train=84.5, metric_mi|age_categorical_train=0.359]"
     ]
    },
    {
     "name": "stdout",
     "output_type": "stream",
     "text": [
      "\r\n",
      "Epoch 496/600:  82%|████████▎ | 495/600 [4:17:28<53:53, 30.80s/it, v_num=a0_1, total_loss_train=534, kl_local_train=84.5, metric_mi|age_categorical_train=0.359]"
     ]
    },
    {
     "name": "stdout",
     "output_type": "stream",
     "text": [
      "\r\n",
      "Epoch 496/600:  83%|████████▎ | 496/600 [4:17:58<53:32, 30.89s/it, v_num=a0_1, total_loss_train=534, kl_local_train=84.5, metric_mi|age_categorical_train=0.359]"
     ]
    },
    {
     "name": "stdout",
     "output_type": "stream",
     "text": [
      "\r\n",
      "Epoch 496/600:  83%|████████▎ | 496/600 [4:17:58<53:32, 30.89s/it, v_num=a0_1, total_loss_train=534, kl_local_train=84.3, metric_mi|age_categorical_train=0.351]"
     ]
    },
    {
     "name": "stdout",
     "output_type": "stream",
     "text": [
      "\r\n",
      "Epoch 497/600:  83%|████████▎ | 496/600 [4:17:58<53:32, 30.89s/it, v_num=a0_1, total_loss_train=534, kl_local_train=84.3, metric_mi|age_categorical_train=0.351]"
     ]
    },
    {
     "name": "stdout",
     "output_type": "stream",
     "text": [
      "\r\n",
      "Epoch 497/600:  83%|████████▎ | 497/600 [4:18:29<52:46, 30.74s/it, v_num=a0_1, total_loss_train=534, kl_local_train=84.3, metric_mi|age_categorical_train=0.351]"
     ]
    },
    {
     "name": "stdout",
     "output_type": "stream",
     "text": [
      "\r\n",
      "Epoch 497/600:  83%|████████▎ | 497/600 [4:18:29<52:46, 30.74s/it, v_num=a0_1, total_loss_train=534, kl_local_train=84.2, metric_mi|age_categorical_train=0.351]"
     ]
    },
    {
     "name": "stdout",
     "output_type": "stream",
     "text": [
      "\r\n",
      "Epoch 498/600:  83%|████████▎ | 497/600 [4:18:29<52:46, 30.74s/it, v_num=a0_1, total_loss_train=534, kl_local_train=84.2, metric_mi|age_categorical_train=0.351]"
     ]
    },
    {
     "name": "stdout",
     "output_type": "stream",
     "text": [
      "\r\n",
      "Epoch 498/600:  83%|████████▎ | 498/600 [4:18:59<52:06, 30.66s/it, v_num=a0_1, total_loss_train=534, kl_local_train=84.2, metric_mi|age_categorical_train=0.351]"
     ]
    },
    {
     "name": "stdout",
     "output_type": "stream",
     "text": [
      "\r\n",
      "Epoch 498/600:  83%|████████▎ | 498/600 [4:18:59<52:06, 30.66s/it, v_num=a0_1, total_loss_train=535, kl_local_train=84.2, metric_mi|age_categorical_train=0.351]"
     ]
    },
    {
     "name": "stdout",
     "output_type": "stream",
     "text": [
      "\r\n",
      "Epoch 499/600:  83%|████████▎ | 498/600 [4:18:59<52:06, 30.66s/it, v_num=a0_1, total_loss_train=535, kl_local_train=84.2, metric_mi|age_categorical_train=0.351]"
     ]
    },
    {
     "name": "stdout",
     "output_type": "stream",
     "text": [
      "\r\n",
      "Epoch 499/600:  83%|████████▎ | 499/600 [4:19:29<51:27, 30.57s/it, v_num=a0_1, total_loss_train=535, kl_local_train=84.2, metric_mi|age_categorical_train=0.351]"
     ]
    },
    {
     "name": "stdout",
     "output_type": "stream",
     "text": [
      "\r\n",
      "Epoch 499/600:  83%|████████▎ | 499/600 [4:19:29<51:27, 30.57s/it, v_num=a0_1, total_loss_train=535, kl_local_train=84.1, metric_mi|age_categorical_train=0.351]"
     ]
    },
    {
     "name": "stdout",
     "output_type": "stream",
     "text": [
      "\r\n",
      "Epoch 500/600:  83%|████████▎ | 499/600 [4:19:29<51:27, 30.57s/it, v_num=a0_1, total_loss_train=535, kl_local_train=84.1, metric_mi|age_categorical_train=0.351]"
     ]
    },
    {
     "name": "stdout",
     "output_type": "stream",
     "text": [
      "\r\n",
      "Epoch 500/600:  83%|████████▎ | 500/600 [4:20:01<51:13, 30.73s/it, v_num=a0_1, total_loss_train=535, kl_local_train=84.1, metric_mi|age_categorical_train=0.351]"
     ]
    },
    {
     "name": "stdout",
     "output_type": "stream",
     "text": [
      "\r\n",
      "Epoch 500/600:  83%|████████▎ | 500/600 [4:20:01<51:13, 30.73s/it, v_num=a0_1, total_loss_train=535, kl_local_train=83.9, metric_mi|age_categorical_train=0.351]"
     ]
    },
    {
     "name": "stdout",
     "output_type": "stream",
     "text": [
      "\r\n",
      "Epoch 501/600:  83%|████████▎ | 500/600 [4:20:01<51:13, 30.73s/it, v_num=a0_1, total_loss_train=535, kl_local_train=83.9, metric_mi|age_categorical_train=0.351]"
     ]
    },
    {
     "name": "stdout",
     "output_type": "stream",
     "text": [
      "\r\n",
      "Epoch 501/600:  84%|████████▎ | 501/600 [4:20:31<50:47, 30.78s/it, v_num=a0_1, total_loss_train=535, kl_local_train=83.9, metric_mi|age_categorical_train=0.351]"
     ]
    },
    {
     "name": "stdout",
     "output_type": "stream",
     "text": [
      "\r\n",
      "Epoch 501/600:  84%|████████▎ | 501/600 [4:20:31<50:47, 30.78s/it, v_num=a0_1, total_loss_train=535, kl_local_train=83.9, metric_mi|age_categorical_train=0.325]"
     ]
    },
    {
     "name": "stdout",
     "output_type": "stream",
     "text": [
      "\r\n",
      "Epoch 502/600:  84%|████████▎ | 501/600 [4:20:31<50:47, 30.78s/it, v_num=a0_1, total_loss_train=535, kl_local_train=83.9, metric_mi|age_categorical_train=0.325]"
     ]
    },
    {
     "name": "stdout",
     "output_type": "stream",
     "text": [
      "\r\n",
      "Epoch 502/600:  84%|████████▎ | 502/600 [4:21:02<50:05, 30.67s/it, v_num=a0_1, total_loss_train=535, kl_local_train=83.9, metric_mi|age_categorical_train=0.325]"
     ]
    },
    {
     "name": "stdout",
     "output_type": "stream",
     "text": [
      "\r\n",
      "Epoch 502/600:  84%|████████▎ | 502/600 [4:21:02<50:05, 30.67s/it, v_num=a0_1, total_loss_train=535, kl_local_train=83.9, metric_mi|age_categorical_train=0.325]"
     ]
    },
    {
     "name": "stdout",
     "output_type": "stream",
     "text": [
      "\r\n",
      "Epoch 503/600:  84%|████████▎ | 502/600 [4:21:02<50:05, 30.67s/it, v_num=a0_1, total_loss_train=535, kl_local_train=83.9, metric_mi|age_categorical_train=0.325]"
     ]
    },
    {
     "name": "stdout",
     "output_type": "stream",
     "text": [
      "\r\n",
      "Epoch 503/600:  84%|████████▍ | 503/600 [4:21:32<49:28, 30.60s/it, v_num=a0_1, total_loss_train=535, kl_local_train=83.9, metric_mi|age_categorical_train=0.325]"
     ]
    },
    {
     "name": "stdout",
     "output_type": "stream",
     "text": [
      "\r\n",
      "Epoch 503/600:  84%|████████▍ | 503/600 [4:21:32<49:28, 30.60s/it, v_num=a0_1, total_loss_train=535, kl_local_train=84, metric_mi|age_categorical_train=0.325]  "
     ]
    },
    {
     "name": "stdout",
     "output_type": "stream",
     "text": [
      "\r\n",
      "Epoch 504/600:  84%|████████▍ | 503/600 [4:21:32<49:28, 30.60s/it, v_num=a0_1, total_loss_train=535, kl_local_train=84, metric_mi|age_categorical_train=0.325]"
     ]
    },
    {
     "name": "stdout",
     "output_type": "stream",
     "text": [
      "\r\n",
      "Epoch 504/600:  84%|████████▍ | 504/600 [4:22:03<49:02, 30.66s/it, v_num=a0_1, total_loss_train=535, kl_local_train=84, metric_mi|age_categorical_train=0.325]"
     ]
    },
    {
     "name": "stdout",
     "output_type": "stream",
     "text": [
      "\r\n",
      "Epoch 504/600:  84%|████████▍ | 504/600 [4:22:03<49:02, 30.66s/it, v_num=a0_1, total_loss_train=535, kl_local_train=83.7, metric_mi|age_categorical_train=0.325]"
     ]
    },
    {
     "name": "stdout",
     "output_type": "stream",
     "text": [
      "\r\n",
      "Epoch 505/600:  84%|████████▍ | 504/600 [4:22:03<49:02, 30.66s/it, v_num=a0_1, total_loss_train=535, kl_local_train=83.7, metric_mi|age_categorical_train=0.325]"
     ]
    },
    {
     "name": "stdout",
     "output_type": "stream",
     "text": [
      "\r\n",
      "Epoch 505/600:  84%|████████▍ | 505/600 [4:22:35<48:54, 30.89s/it, v_num=a0_1, total_loss_train=535, kl_local_train=83.7, metric_mi|age_categorical_train=0.325]"
     ]
    },
    {
     "name": "stdout",
     "output_type": "stream",
     "text": [
      "\r\n",
      "Epoch 505/600:  84%|████████▍ | 505/600 [4:22:35<48:54, 30.89s/it, v_num=a0_1, total_loss_train=535, kl_local_train=83.6, metric_mi|age_categorical_train=0.325]"
     ]
    },
    {
     "name": "stdout",
     "output_type": "stream",
     "text": [
      "\r\n",
      "Epoch 506/600:  84%|████████▍ | 505/600 [4:22:35<48:54, 30.89s/it, v_num=a0_1, total_loss_train=535, kl_local_train=83.6, metric_mi|age_categorical_train=0.325]"
     ]
    },
    {
     "name": "stdout",
     "output_type": "stream",
     "text": [
      "\r\n",
      "Epoch 506/600:  84%|████████▍ | 506/600 [4:23:06<48:41, 31.08s/it, v_num=a0_1, total_loss_train=535, kl_local_train=83.6, metric_mi|age_categorical_train=0.325]"
     ]
    },
    {
     "name": "stdout",
     "output_type": "stream",
     "text": [
      "\r\n",
      "Epoch 506/600:  84%|████████▍ | 506/600 [4:23:06<48:41, 31.08s/it, v_num=a0_1, total_loss_train=535, kl_local_train=83.5, metric_mi|age_categorical_train=0.32] "
     ]
    },
    {
     "name": "stdout",
     "output_type": "stream",
     "text": [
      "\r\n",
      "Epoch 507/600:  84%|████████▍ | 506/600 [4:23:06<48:41, 31.08s/it, v_num=a0_1, total_loss_train=535, kl_local_train=83.5, metric_mi|age_categorical_train=0.32]"
     ]
    },
    {
     "name": "stdout",
     "output_type": "stream",
     "text": [
      "\r\n",
      "Epoch 507/600:  84%|████████▍ | 507/600 [4:23:37<47:58, 30.95s/it, v_num=a0_1, total_loss_train=535, kl_local_train=83.5, metric_mi|age_categorical_train=0.32]"
     ]
    },
    {
     "name": "stdout",
     "output_type": "stream",
     "text": [
      "\r\n",
      "Epoch 507/600:  84%|████████▍ | 507/600 [4:23:37<47:58, 30.95s/it, v_num=a0_1, total_loss_train=535, kl_local_train=83.6, metric_mi|age_categorical_train=0.32]"
     ]
    },
    {
     "name": "stdout",
     "output_type": "stream",
     "text": [
      "\r\n",
      "Epoch 508/600:  84%|████████▍ | 507/600 [4:23:37<47:58, 30.95s/it, v_num=a0_1, total_loss_train=535, kl_local_train=83.6, metric_mi|age_categorical_train=0.32]"
     ]
    },
    {
     "name": "stdout",
     "output_type": "stream",
     "text": [
      "\r\n",
      "Epoch 508/600:  85%|████████▍ | 508/600 [4:24:08<47:24, 30.92s/it, v_num=a0_1, total_loss_train=535, kl_local_train=83.6, metric_mi|age_categorical_train=0.32]"
     ]
    },
    {
     "name": "stdout",
     "output_type": "stream",
     "text": [
      "\r\n",
      "Epoch 508/600:  85%|████████▍ | 508/600 [4:24:08<47:24, 30.92s/it, v_num=a0_1, total_loss_train=535, kl_local_train=83.3, metric_mi|age_categorical_train=0.32]"
     ]
    },
    {
     "name": "stdout",
     "output_type": "stream",
     "text": [
      "\r\n",
      "Epoch 509/600:  85%|████████▍ | 508/600 [4:24:08<47:24, 30.92s/it, v_num=a0_1, total_loss_train=535, kl_local_train=83.3, metric_mi|age_categorical_train=0.32]"
     ]
    },
    {
     "name": "stdout",
     "output_type": "stream",
     "text": [
      "\r\n",
      "Epoch 509/600:  85%|████████▍ | 509/600 [4:24:38<46:48, 30.86s/it, v_num=a0_1, total_loss_train=535, kl_local_train=83.3, metric_mi|age_categorical_train=0.32]"
     ]
    },
    {
     "name": "stdout",
     "output_type": "stream",
     "text": [
      "\r\n",
      "Epoch 509/600:  85%|████████▍ | 509/600 [4:24:38<46:48, 30.86s/it, v_num=a0_1, total_loss_train=535, kl_local_train=83.2, metric_mi|age_categorical_train=0.32]"
     ]
    },
    {
     "name": "stdout",
     "output_type": "stream",
     "text": [
      "\r\n",
      "Epoch 510/600:  85%|████████▍ | 509/600 [4:24:38<46:48, 30.86s/it, v_num=a0_1, total_loss_train=535, kl_local_train=83.2, metric_mi|age_categorical_train=0.32]"
     ]
    },
    {
     "name": "stdout",
     "output_type": "stream",
     "text": [
      "\r\n",
      "Epoch 510/600:  85%|████████▌ | 510/600 [4:25:10<46:38, 31.10s/it, v_num=a0_1, total_loss_train=535, kl_local_train=83.2, metric_mi|age_categorical_train=0.32]"
     ]
    },
    {
     "name": "stdout",
     "output_type": "stream",
     "text": [
      "\r\n",
      "Epoch 510/600:  85%|████████▌ | 510/600 [4:25:10<46:38, 31.10s/it, v_num=a0_1, total_loss_train=536, kl_local_train=83.7, metric_mi|age_categorical_train=0.32]"
     ]
    },
    {
     "name": "stdout",
     "output_type": "stream",
     "text": [
      "\r\n",
      "Epoch 511/600:  85%|████████▌ | 510/600 [4:25:10<46:38, 31.10s/it, v_num=a0_1, total_loss_train=536, kl_local_train=83.7, metric_mi|age_categorical_train=0.32]"
     ]
    },
    {
     "name": "stdout",
     "output_type": "stream",
     "text": [
      "\r\n",
      "Epoch 511/600:  85%|████████▌ | 511/600 [4:25:41<46:07, 31.10s/it, v_num=a0_1, total_loss_train=536, kl_local_train=83.7, metric_mi|age_categorical_train=0.32]"
     ]
    },
    {
     "name": "stdout",
     "output_type": "stream",
     "text": [
      "\r\n",
      "Epoch 511/600:  85%|████████▌ | 511/600 [4:25:41<46:07, 31.10s/it, v_num=a0_1, total_loss_train=535, kl_local_train=83.1, metric_mi|age_categorical_train=0.326]"
     ]
    },
    {
     "name": "stdout",
     "output_type": "stream",
     "text": [
      "\r\n",
      "Epoch 512/600:  85%|████████▌ | 511/600 [4:25:41<46:07, 31.10s/it, v_num=a0_1, total_loss_train=535, kl_local_train=83.1, metric_mi|age_categorical_train=0.326]"
     ]
    },
    {
     "name": "stdout",
     "output_type": "stream",
     "text": [
      "\r\n",
      "Epoch 512/600:  85%|████████▌ | 512/600 [4:26:10<44:46, 30.53s/it, v_num=a0_1, total_loss_train=535, kl_local_train=83.1, metric_mi|age_categorical_train=0.326]"
     ]
    },
    {
     "name": "stdout",
     "output_type": "stream",
     "text": [
      "\r\n",
      "Epoch 512/600:  85%|████████▌ | 512/600 [4:26:10<44:46, 30.53s/it, v_num=a0_1, total_loss_train=536, kl_local_train=83.3, metric_mi|age_categorical_train=0.326]"
     ]
    },
    {
     "name": "stdout",
     "output_type": "stream",
     "text": [
      "\r\n",
      "Epoch 513/600:  85%|████████▌ | 512/600 [4:26:10<44:46, 30.53s/it, v_num=a0_1, total_loss_train=536, kl_local_train=83.3, metric_mi|age_categorical_train=0.326]"
     ]
    },
    {
     "name": "stdout",
     "output_type": "stream",
     "text": [
      "\r\n",
      "Epoch 513/600:  86%|████████▌ | 513/600 [4:26:39<43:23, 29.92s/it, v_num=a0_1, total_loss_train=536, kl_local_train=83.3, metric_mi|age_categorical_train=0.326]"
     ]
    },
    {
     "name": "stdout",
     "output_type": "stream",
     "text": [
      "\r\n",
      "Epoch 513/600:  86%|████████▌ | 513/600 [4:26:39<43:23, 29.92s/it, v_num=a0_1, total_loss_train=536, kl_local_train=83.3, metric_mi|age_categorical_train=0.326]"
     ]
    },
    {
     "name": "stdout",
     "output_type": "stream",
     "text": [
      "\r\n",
      "Epoch 514/600:  86%|████████▌ | 513/600 [4:26:39<43:23, 29.92s/it, v_num=a0_1, total_loss_train=536, kl_local_train=83.3, metric_mi|age_categorical_train=0.326]"
     ]
    },
    {
     "name": "stdout",
     "output_type": "stream",
     "text": [
      "\r\n",
      "Epoch 514/600:  86%|████████▌ | 514/600 [4:27:07<42:23, 29.57s/it, v_num=a0_1, total_loss_train=536, kl_local_train=83.3, metric_mi|age_categorical_train=0.326]"
     ]
    },
    {
     "name": "stdout",
     "output_type": "stream",
     "text": [
      "\r\n",
      "Epoch 514/600:  86%|████████▌ | 514/600 [4:27:07<42:23, 29.57s/it, v_num=a0_1, total_loss_train=536, kl_local_train=82.8, metric_mi|age_categorical_train=0.326]"
     ]
    },
    {
     "name": "stdout",
     "output_type": "stream",
     "text": [
      "\r\n",
      "Epoch 515/600:  86%|████████▌ | 514/600 [4:27:07<42:23, 29.57s/it, v_num=a0_1, total_loss_train=536, kl_local_train=82.8, metric_mi|age_categorical_train=0.326]"
     ]
    },
    {
     "name": "stdout",
     "output_type": "stream",
     "text": [
      "\r\n",
      "Epoch 515/600:  86%|████████▌ | 515/600 [4:27:37<41:46, 29.49s/it, v_num=a0_1, total_loss_train=536, kl_local_train=82.8, metric_mi|age_categorical_train=0.326]"
     ]
    },
    {
     "name": "stdout",
     "output_type": "stream",
     "text": [
      "\r\n",
      "Epoch 515/600:  86%|████████▌ | 515/600 [4:27:37<41:46, 29.49s/it, v_num=a0_1, total_loss_train=536, kl_local_train=83.2, metric_mi|age_categorical_train=0.326]"
     ]
    },
    {
     "name": "stdout",
     "output_type": "stream",
     "text": [
      "\r\n",
      "Epoch 516/600:  86%|████████▌ | 515/600 [4:27:37<41:46, 29.49s/it, v_num=a0_1, total_loss_train=536, kl_local_train=83.2, metric_mi|age_categorical_train=0.326]"
     ]
    },
    {
     "name": "stdout",
     "output_type": "stream",
     "text": [
      "\r\n",
      "Epoch 516/600:  86%|████████▌ | 516/600 [4:28:06<41:04, 29.34s/it, v_num=a0_1, total_loss_train=536, kl_local_train=83.2, metric_mi|age_categorical_train=0.326]"
     ]
    },
    {
     "name": "stdout",
     "output_type": "stream",
     "text": [
      "\r\n",
      "Epoch 516/600:  86%|████████▌ | 516/600 [4:28:06<41:04, 29.34s/it, v_num=a0_1, total_loss_train=536, kl_local_train=82.9, metric_mi|age_categorical_train=0.34] "
     ]
    },
    {
     "name": "stdout",
     "output_type": "stream",
     "text": [
      "\r\n",
      "Epoch 517/600:  86%|████████▌ | 516/600 [4:28:06<41:04, 29.34s/it, v_num=a0_1, total_loss_train=536, kl_local_train=82.9, metric_mi|age_categorical_train=0.34]"
     ]
    },
    {
     "name": "stdout",
     "output_type": "stream",
     "text": [
      "\r\n",
      "Epoch 517/600:  86%|████████▌ | 517/600 [4:28:34<40:10, 29.04s/it, v_num=a0_1, total_loss_train=536, kl_local_train=82.9, metric_mi|age_categorical_train=0.34]"
     ]
    },
    {
     "name": "stdout",
     "output_type": "stream",
     "text": [
      "\r\n",
      "Epoch 517/600:  86%|████████▌ | 517/600 [4:28:34<40:10, 29.04s/it, v_num=a0_1, total_loss_train=536, kl_local_train=82.8, metric_mi|age_categorical_train=0.34]"
     ]
    },
    {
     "name": "stdout",
     "output_type": "stream",
     "text": [
      "\r\n",
      "Epoch 518/600:  86%|████████▌ | 517/600 [4:28:34<40:10, 29.04s/it, v_num=a0_1, total_loss_train=536, kl_local_train=82.8, metric_mi|age_categorical_train=0.34]"
     ]
    },
    {
     "name": "stdout",
     "output_type": "stream",
     "text": [
      "\r\n",
      "Epoch 518/600:  86%|████████▋ | 518/600 [4:29:02<39:18, 28.76s/it, v_num=a0_1, total_loss_train=536, kl_local_train=82.8, metric_mi|age_categorical_train=0.34]"
     ]
    },
    {
     "name": "stdout",
     "output_type": "stream",
     "text": [
      "\r\n",
      "Epoch 518/600:  86%|████████▋ | 518/600 [4:29:02<39:18, 28.76s/it, v_num=a0_1, total_loss_train=536, kl_local_train=82.6, metric_mi|age_categorical_train=0.34]"
     ]
    },
    {
     "name": "stdout",
     "output_type": "stream",
     "text": [
      "\r\n",
      "Epoch 519/600:  86%|████████▋ | 518/600 [4:29:02<39:18, 28.76s/it, v_num=a0_1, total_loss_train=536, kl_local_train=82.6, metric_mi|age_categorical_train=0.34]"
     ]
    },
    {
     "name": "stdout",
     "output_type": "stream",
     "text": [
      "\r\n",
      "Epoch 519/600:  86%|████████▋ | 519/600 [4:29:30<38:32, 28.55s/it, v_num=a0_1, total_loss_train=536, kl_local_train=82.6, metric_mi|age_categorical_train=0.34]"
     ]
    },
    {
     "name": "stdout",
     "output_type": "stream",
     "text": [
      "\r\n",
      "Epoch 519/600:  86%|████████▋ | 519/600 [4:29:30<38:32, 28.55s/it, v_num=a0_1, total_loss_train=537, kl_local_train=82.6, metric_mi|age_categorical_train=0.34]"
     ]
    },
    {
     "name": "stdout",
     "output_type": "stream",
     "text": [
      "\r\n",
      "Epoch 520/600:  86%|████████▋ | 519/600 [4:29:30<38:32, 28.55s/it, v_num=a0_1, total_loss_train=537, kl_local_train=82.6, metric_mi|age_categorical_train=0.34]"
     ]
    },
    {
     "name": "stdout",
     "output_type": "stream",
     "text": [
      "\r\n",
      "Epoch 520/600:  87%|████████▋ | 520/600 [4:29:59<38:18, 28.73s/it, v_num=a0_1, total_loss_train=537, kl_local_train=82.6, metric_mi|age_categorical_train=0.34]"
     ]
    },
    {
     "name": "stdout",
     "output_type": "stream",
     "text": [
      "\r\n",
      "Epoch 520/600:  87%|████████▋ | 520/600 [4:29:59<38:18, 28.73s/it, v_num=a0_1, total_loss_train=536, kl_local_train=82.5, metric_mi|age_categorical_train=0.34]"
     ]
    },
    {
     "name": "stdout",
     "output_type": "stream",
     "text": [
      "\r\n",
      "Epoch 521/600:  87%|████████▋ | 520/600 [4:30:00<38:18, 28.73s/it, v_num=a0_1, total_loss_train=536, kl_local_train=82.5, metric_mi|age_categorical_train=0.34]"
     ]
    },
    {
     "name": "stdout",
     "output_type": "stream",
     "text": [
      "\r\n",
      "Epoch 521/600:  87%|████████▋ | 521/600 [4:30:28<37:48, 28.71s/it, v_num=a0_1, total_loss_train=536, kl_local_train=82.5, metric_mi|age_categorical_train=0.34]"
     ]
    },
    {
     "name": "stdout",
     "output_type": "stream",
     "text": [
      "\r\n",
      "Epoch 521/600:  87%|████████▋ | 521/600 [4:30:28<37:48, 28.71s/it, v_num=a0_1, total_loss_train=537, kl_local_train=82.4, metric_mi|age_categorical_train=0.35]"
     ]
    },
    {
     "name": "stdout",
     "output_type": "stream",
     "text": [
      "\r\n",
      "Epoch 522/600:  87%|████████▋ | 521/600 [4:30:28<37:48, 28.71s/it, v_num=a0_1, total_loss_train=537, kl_local_train=82.4, metric_mi|age_categorical_train=0.35]"
     ]
    },
    {
     "name": "stdout",
     "output_type": "stream",
     "text": [
      "\r\n",
      "Epoch 522/600:  87%|████████▋ | 522/600 [4:30:56<37:06, 28.55s/it, v_num=a0_1, total_loss_train=537, kl_local_train=82.4, metric_mi|age_categorical_train=0.35]"
     ]
    },
    {
     "name": "stdout",
     "output_type": "stream",
     "text": [
      "\r\n",
      "Epoch 522/600:  87%|████████▋ | 522/600 [4:30:56<37:06, 28.55s/it, v_num=a0_1, total_loss_train=537, kl_local_train=82.3, metric_mi|age_categorical_train=0.35]"
     ]
    },
    {
     "name": "stdout",
     "output_type": "stream",
     "text": [
      "\r\n",
      "Epoch 523/600:  87%|████████▋ | 522/600 [4:30:56<37:06, 28.55s/it, v_num=a0_1, total_loss_train=537, kl_local_train=82.3, metric_mi|age_categorical_train=0.35]"
     ]
    },
    {
     "name": "stdout",
     "output_type": "stream",
     "text": [
      "\r\n",
      "Epoch 523/600:  87%|████████▋ | 523/600 [4:31:25<36:35, 28.51s/it, v_num=a0_1, total_loss_train=537, kl_local_train=82.3, metric_mi|age_categorical_train=0.35]"
     ]
    },
    {
     "name": "stdout",
     "output_type": "stream",
     "text": [
      "\r\n",
      "Epoch 523/600:  87%|████████▋ | 523/600 [4:31:25<36:35, 28.51s/it, v_num=a0_1, total_loss_train=537, kl_local_train=82.2, metric_mi|age_categorical_train=0.35]"
     ]
    },
    {
     "name": "stdout",
     "output_type": "stream",
     "text": [
      "\r\n",
      "Epoch 524/600:  87%|████████▋ | 523/600 [4:31:25<36:35, 28.51s/it, v_num=a0_1, total_loss_train=537, kl_local_train=82.2, metric_mi|age_categorical_train=0.35]"
     ]
    },
    {
     "name": "stdout",
     "output_type": "stream",
     "text": [
      "\r\n",
      "Epoch 524/600:  87%|████████▋ | 524/600 [4:31:53<36:05, 28.50s/it, v_num=a0_1, total_loss_train=537, kl_local_train=82.2, metric_mi|age_categorical_train=0.35]"
     ]
    },
    {
     "name": "stdout",
     "output_type": "stream",
     "text": [
      "\r\n",
      "Epoch 524/600:  87%|████████▋ | 524/600 [4:31:53<36:05, 28.50s/it, v_num=a0_1, total_loss_train=537, kl_local_train=82, metric_mi|age_categorical_train=0.35]  "
     ]
    },
    {
     "name": "stdout",
     "output_type": "stream",
     "text": [
      "\r\n",
      "Epoch 525/600:  87%|████████▋ | 524/600 [4:31:53<36:05, 28.50s/it, v_num=a0_1, total_loss_train=537, kl_local_train=82, metric_mi|age_categorical_train=0.35]"
     ]
    },
    {
     "name": "stdout",
     "output_type": "stream",
     "text": [
      "\r\n",
      "Epoch 525/600:  88%|████████▊ | 525/600 [4:32:22<35:55, 28.74s/it, v_num=a0_1, total_loss_train=537, kl_local_train=82, metric_mi|age_categorical_train=0.35]"
     ]
    },
    {
     "name": "stdout",
     "output_type": "stream",
     "text": [
      "\r\n",
      "Epoch 525/600:  88%|████████▊ | 525/600 [4:32:22<35:55, 28.74s/it, v_num=a0_1, total_loss_train=537, kl_local_train=82.2, metric_mi|age_categorical_train=0.35]"
     ]
    },
    {
     "name": "stdout",
     "output_type": "stream",
     "text": [
      "\r\n",
      "Epoch 526/600:  88%|████████▊ | 525/600 [4:32:23<35:55, 28.74s/it, v_num=a0_1, total_loss_train=537, kl_local_train=82.2, metric_mi|age_categorical_train=0.35]"
     ]
    },
    {
     "name": "stdout",
     "output_type": "stream",
     "text": [
      "\r\n",
      "Epoch 526/600:  88%|████████▊ | 526/600 [4:32:51<35:30, 28.79s/it, v_num=a0_1, total_loss_train=537, kl_local_train=82.2, metric_mi|age_categorical_train=0.35]"
     ]
    },
    {
     "name": "stdout",
     "output_type": "stream",
     "text": [
      "\r\n",
      "Epoch 526/600:  88%|████████▊ | 526/600 [4:32:51<35:30, 28.79s/it, v_num=a0_1, total_loss_train=537, kl_local_train=82.3, metric_mi|age_categorical_train=0.36]"
     ]
    },
    {
     "name": "stdout",
     "output_type": "stream",
     "text": [
      "\r\n",
      "Epoch 527/600:  88%|████████▊ | 526/600 [4:32:51<35:30, 28.79s/it, v_num=a0_1, total_loss_train=537, kl_local_train=82.3, metric_mi|age_categorical_train=0.36]"
     ]
    },
    {
     "name": "stdout",
     "output_type": "stream",
     "text": [
      "\r\n",
      "Epoch 527/600:  88%|████████▊ | 527/600 [4:33:20<34:57, 28.73s/it, v_num=a0_1, total_loss_train=537, kl_local_train=82.3, metric_mi|age_categorical_train=0.36]"
     ]
    },
    {
     "name": "stdout",
     "output_type": "stream",
     "text": [
      "\r\n",
      "Epoch 527/600:  88%|████████▊ | 527/600 [4:33:20<34:57, 28.73s/it, v_num=a0_1, total_loss_train=537, kl_local_train=82.4, metric_mi|age_categorical_train=0.36]"
     ]
    },
    {
     "name": "stdout",
     "output_type": "stream",
     "text": [
      "\r\n",
      "Epoch 528/600:  88%|████████▊ | 527/600 [4:33:20<34:57, 28.73s/it, v_num=a0_1, total_loss_train=537, kl_local_train=82.4, metric_mi|age_categorical_train=0.36]"
     ]
    },
    {
     "name": "stdout",
     "output_type": "stream",
     "text": [
      "\r\n",
      "Epoch 528/600:  88%|████████▊ | 528/600 [4:33:48<34:22, 28.65s/it, v_num=a0_1, total_loss_train=537, kl_local_train=82.4, metric_mi|age_categorical_train=0.36]"
     ]
    },
    {
     "name": "stdout",
     "output_type": "stream",
     "text": [
      "\r\n",
      "Epoch 528/600:  88%|████████▊ | 528/600 [4:33:48<34:22, 28.65s/it, v_num=a0_1, total_loss_train=537, kl_local_train=81.8, metric_mi|age_categorical_train=0.36]"
     ]
    },
    {
     "name": "stdout",
     "output_type": "stream",
     "text": [
      "\r\n",
      "Epoch 529/600:  88%|████████▊ | 528/600 [4:33:48<34:22, 28.65s/it, v_num=a0_1, total_loss_train=537, kl_local_train=81.8, metric_mi|age_categorical_train=0.36]"
     ]
    },
    {
     "name": "stdout",
     "output_type": "stream",
     "text": [
      "\r\n",
      "Epoch 529/600:  88%|████████▊ | 529/600 [4:34:17<33:49, 28.59s/it, v_num=a0_1, total_loss_train=537, kl_local_train=81.8, metric_mi|age_categorical_train=0.36]"
     ]
    },
    {
     "name": "stdout",
     "output_type": "stream",
     "text": [
      "\r\n",
      "Epoch 529/600:  88%|████████▊ | 529/600 [4:34:17<33:49, 28.59s/it, v_num=a0_1, total_loss_train=537, kl_local_train=81.7, metric_mi|age_categorical_train=0.36]"
     ]
    },
    {
     "name": "stdout",
     "output_type": "stream",
     "text": [
      "\r\n",
      "Epoch 530/600:  88%|████████▊ | 529/600 [4:34:17<33:49, 28.59s/it, v_num=a0_1, total_loss_train=537, kl_local_train=81.7, metric_mi|age_categorical_train=0.36]"
     ]
    },
    {
     "name": "stdout",
     "output_type": "stream",
     "text": [
      "\r\n",
      "Epoch 530/600:  88%|████████▊ | 530/600 [4:34:46<33:36, 28.81s/it, v_num=a0_1, total_loss_train=537, kl_local_train=81.7, metric_mi|age_categorical_train=0.36]"
     ]
    },
    {
     "name": "stdout",
     "output_type": "stream",
     "text": [
      "\r\n",
      "Epoch 530/600:  88%|████████▊ | 530/600 [4:34:46<33:36, 28.81s/it, v_num=a0_1, total_loss_train=537, kl_local_train=81.9, metric_mi|age_categorical_train=0.36]"
     ]
    },
    {
     "name": "stdout",
     "output_type": "stream",
     "text": [
      "\r\n",
      "Epoch 531/600:  88%|████████▊ | 530/600 [4:34:47<33:36, 28.81s/it, v_num=a0_1, total_loss_train=537, kl_local_train=81.9, metric_mi|age_categorical_train=0.36]"
     ]
    },
    {
     "name": "stdout",
     "output_type": "stream",
     "text": [
      "\r\n",
      "Epoch 531/600:  88%|████████▊ | 531/600 [4:35:15<33:13, 28.89s/it, v_num=a0_1, total_loss_train=537, kl_local_train=81.9, metric_mi|age_categorical_train=0.36]"
     ]
    },
    {
     "name": "stdout",
     "output_type": "stream",
     "text": [
      "\r\n",
      "Epoch 531/600:  88%|████████▊ | 531/600 [4:35:15<33:13, 28.89s/it, v_num=a0_1, total_loss_train=538, kl_local_train=81.9, metric_mi|age_categorical_train=0.353]"
     ]
    },
    {
     "name": "stdout",
     "output_type": "stream",
     "text": [
      "\r\n",
      "Epoch 532/600:  88%|████████▊ | 531/600 [4:35:15<33:13, 28.89s/it, v_num=a0_1, total_loss_train=538, kl_local_train=81.9, metric_mi|age_categorical_train=0.353]"
     ]
    },
    {
     "name": "stdout",
     "output_type": "stream",
     "text": [
      "\r\n",
      "Epoch 532/600:  89%|████████▊ | 532/600 [4:35:44<32:35, 28.76s/it, v_num=a0_1, total_loss_train=538, kl_local_train=81.9, metric_mi|age_categorical_train=0.353]"
     ]
    },
    {
     "name": "stdout",
     "output_type": "stream",
     "text": [
      "\r\n",
      "Epoch 532/600:  89%|████████▊ | 532/600 [4:35:44<32:35, 28.76s/it, v_num=a0_1, total_loss_train=538, kl_local_train=81.7, metric_mi|age_categorical_train=0.353]"
     ]
    },
    {
     "name": "stdout",
     "output_type": "stream",
     "text": [
      "\r\n",
      "Epoch 533/600:  89%|████████▊ | 532/600 [4:35:44<32:35, 28.76s/it, v_num=a0_1, total_loss_train=538, kl_local_train=81.7, metric_mi|age_categorical_train=0.353]"
     ]
    },
    {
     "name": "stdout",
     "output_type": "stream",
     "text": [
      "\r\n",
      "Epoch 533/600:  89%|████████▉ | 533/600 [4:36:12<32:03, 28.71s/it, v_num=a0_1, total_loss_train=538, kl_local_train=81.7, metric_mi|age_categorical_train=0.353]"
     ]
    },
    {
     "name": "stdout",
     "output_type": "stream",
     "text": [
      "\r\n",
      "Epoch 533/600:  89%|████████▉ | 533/600 [4:36:12<32:03, 28.71s/it, v_num=a0_1, total_loss_train=538, kl_local_train=81.7, metric_mi|age_categorical_train=0.353]"
     ]
    },
    {
     "name": "stdout",
     "output_type": "stream",
     "text": [
      "\r\n",
      "Epoch 534/600:  89%|████████▉ | 533/600 [4:36:12<32:03, 28.71s/it, v_num=a0_1, total_loss_train=538, kl_local_train=81.7, metric_mi|age_categorical_train=0.353]"
     ]
    },
    {
     "name": "stdout",
     "output_type": "stream",
     "text": [
      "\r\n",
      "Epoch 534/600:  89%|████████▉ | 534/600 [4:36:41<31:32, 28.68s/it, v_num=a0_1, total_loss_train=538, kl_local_train=81.7, metric_mi|age_categorical_train=0.353]"
     ]
    },
    {
     "name": "stdout",
     "output_type": "stream",
     "text": [
      "\r\n",
      "Epoch 534/600:  89%|████████▉ | 534/600 [4:36:41<31:32, 28.68s/it, v_num=a0_1, total_loss_train=538, kl_local_train=81.7, metric_mi|age_categorical_train=0.353]"
     ]
    },
    {
     "name": "stdout",
     "output_type": "stream",
     "text": [
      "\r\n",
      "Epoch 535/600:  89%|████████▉ | 534/600 [4:36:41<31:32, 28.68s/it, v_num=a0_1, total_loss_train=538, kl_local_train=81.7, metric_mi|age_categorical_train=0.353]"
     ]
    },
    {
     "name": "stdout",
     "output_type": "stream",
     "text": [
      "\r\n",
      "Epoch 535/600:  89%|████████▉ | 535/600 [4:37:10<31:18, 28.91s/it, v_num=a0_1, total_loss_train=538, kl_local_train=81.7, metric_mi|age_categorical_train=0.353]"
     ]
    },
    {
     "name": "stdout",
     "output_type": "stream",
     "text": [
      "\r\n",
      "Epoch 535/600:  89%|████████▉ | 535/600 [4:37:10<31:18, 28.91s/it, v_num=a0_1, total_loss_train=538, kl_local_train=81.5, metric_mi|age_categorical_train=0.353]"
     ]
    },
    {
     "name": "stdout",
     "output_type": "stream",
     "text": [
      "\r\n",
      "Epoch 536/600:  89%|████████▉ | 535/600 [4:37:11<31:18, 28.91s/it, v_num=a0_1, total_loss_train=538, kl_local_train=81.5, metric_mi|age_categorical_train=0.353]"
     ]
    },
    {
     "name": "stdout",
     "output_type": "stream",
     "text": [
      "\r\n",
      "Epoch 536/600:  89%|████████▉ | 536/600 [4:37:40<30:54, 28.98s/it, v_num=a0_1, total_loss_train=538, kl_local_train=81.5, metric_mi|age_categorical_train=0.353]"
     ]
    },
    {
     "name": "stdout",
     "output_type": "stream",
     "text": [
      "\r\n",
      "Epoch 536/600:  89%|████████▉ | 536/600 [4:37:40<30:54, 28.98s/it, v_num=a0_1, total_loss_train=538, kl_local_train=81.4, metric_mi|age_categorical_train=0.365]"
     ]
    },
    {
     "name": "stdout",
     "output_type": "stream",
     "text": [
      "\r\n",
      "Epoch 537/600:  89%|████████▉ | 536/600 [4:37:40<30:54, 28.98s/it, v_num=a0_1, total_loss_train=538, kl_local_train=81.4, metric_mi|age_categorical_train=0.365]"
     ]
    },
    {
     "name": "stdout",
     "output_type": "stream",
     "text": [
      "\r\n",
      "Epoch 537/600:  90%|████████▉ | 537/600 [4:38:08<30:17, 28.85s/it, v_num=a0_1, total_loss_train=538, kl_local_train=81.4, metric_mi|age_categorical_train=0.365]"
     ]
    },
    {
     "name": "stdout",
     "output_type": "stream",
     "text": [
      "\r\n",
      "Epoch 537/600:  90%|████████▉ | 537/600 [4:38:08<30:17, 28.85s/it, v_num=a0_1, total_loss_train=538, kl_local_train=81.3, metric_mi|age_categorical_train=0.365]"
     ]
    },
    {
     "name": "stdout",
     "output_type": "stream",
     "text": [
      "\r\n",
      "Epoch 538/600:  90%|████████▉ | 537/600 [4:38:08<30:17, 28.85s/it, v_num=a0_1, total_loss_train=538, kl_local_train=81.3, metric_mi|age_categorical_train=0.365]"
     ]
    },
    {
     "name": "stdout",
     "output_type": "stream",
     "text": [
      "\r\n",
      "Epoch 538/600:  90%|████████▉ | 538/600 [4:38:37<29:43, 28.77s/it, v_num=a0_1, total_loss_train=538, kl_local_train=81.3, metric_mi|age_categorical_train=0.365]"
     ]
    },
    {
     "name": "stdout",
     "output_type": "stream",
     "text": [
      "\r\n",
      "Epoch 538/600:  90%|████████▉ | 538/600 [4:38:37<29:43, 28.77s/it, v_num=a0_1, total_loss_train=538, kl_local_train=81.3, metric_mi|age_categorical_train=0.365]"
     ]
    },
    {
     "name": "stdout",
     "output_type": "stream",
     "text": [
      "\r\n",
      "Epoch 539/600:  90%|████████▉ | 538/600 [4:38:37<29:43, 28.77s/it, v_num=a0_1, total_loss_train=538, kl_local_train=81.3, metric_mi|age_categorical_train=0.365]"
     ]
    },
    {
     "name": "stdout",
     "output_type": "stream",
     "text": [
      "\r\n",
      "Epoch 539/600:  90%|████████▉ | 539/600 [4:39:05<29:10, 28.70s/it, v_num=a0_1, total_loss_train=538, kl_local_train=81.3, metric_mi|age_categorical_train=0.365]"
     ]
    },
    {
     "name": "stdout",
     "output_type": "stream",
     "text": [
      "\r\n",
      "Epoch 539/600:  90%|████████▉ | 539/600 [4:39:05<29:10, 28.70s/it, v_num=a0_1, total_loss_train=538, kl_local_train=81, metric_mi|age_categorical_train=0.365]  "
     ]
    },
    {
     "name": "stdout",
     "output_type": "stream",
     "text": [
      "\r\n",
      "Epoch 540/600:  90%|████████▉ | 539/600 [4:39:05<29:10, 28.70s/it, v_num=a0_1, total_loss_train=538, kl_local_train=81, metric_mi|age_categorical_train=0.365]"
     ]
    },
    {
     "name": "stdout",
     "output_type": "stream",
     "text": [
      "\r\n",
      "Epoch 540/600:  90%|█████████ | 540/600 [4:39:35<28:55, 28.92s/it, v_num=a0_1, total_loss_train=538, kl_local_train=81, metric_mi|age_categorical_train=0.365]"
     ]
    },
    {
     "name": "stdout",
     "output_type": "stream",
     "text": [
      "\r\n",
      "Epoch 540/600:  90%|█████████ | 540/600 [4:39:35<28:55, 28.92s/it, v_num=a0_1, total_loss_train=539, kl_local_train=81.1, metric_mi|age_categorical_train=0.365]"
     ]
    },
    {
     "name": "stdout",
     "output_type": "stream",
     "text": [
      "\r\n",
      "Epoch 541/600:  90%|█████████ | 540/600 [4:39:35<28:55, 28.92s/it, v_num=a0_1, total_loss_train=539, kl_local_train=81.1, metric_mi|age_categorical_train=0.365]"
     ]
    },
    {
     "name": "stdout",
     "output_type": "stream",
     "text": [
      "\r\n",
      "Epoch 541/600:  90%|█████████ | 541/600 [4:40:04<28:29, 28.97s/it, v_num=a0_1, total_loss_train=539, kl_local_train=81.1, metric_mi|age_categorical_train=0.365]"
     ]
    },
    {
     "name": "stdout",
     "output_type": "stream",
     "text": [
      "\r\n",
      "Epoch 541/600:  90%|█████████ | 541/600 [4:40:04<28:29, 28.97s/it, v_num=a0_1, total_loss_train=539, kl_local_train=81.1, metric_mi|age_categorical_train=0.35] "
     ]
    },
    {
     "name": "stdout",
     "output_type": "stream",
     "text": [
      "\r\n",
      "Epoch 542/600:  90%|█████████ | 541/600 [4:40:04<28:29, 28.97s/it, v_num=a0_1, total_loss_train=539, kl_local_train=81.1, metric_mi|age_categorical_train=0.35]"
     ]
    },
    {
     "name": "stdout",
     "output_type": "stream",
     "text": [
      "\r\n",
      "Epoch 542/600:  90%|█████████ | 542/600 [4:40:32<27:55, 28.89s/it, v_num=a0_1, total_loss_train=539, kl_local_train=81.1, metric_mi|age_categorical_train=0.35]"
     ]
    },
    {
     "name": "stdout",
     "output_type": "stream",
     "text": [
      "\r\n",
      "Epoch 542/600:  90%|█████████ | 542/600 [4:40:32<27:55, 28.89s/it, v_num=a0_1, total_loss_train=538, kl_local_train=81, metric_mi|age_categorical_train=0.35]  "
     ]
    },
    {
     "name": "stdout",
     "output_type": "stream",
     "text": [
      "\r\n",
      "Epoch 543/600:  90%|█████████ | 542/600 [4:40:32<27:55, 28.89s/it, v_num=a0_1, total_loss_train=538, kl_local_train=81, metric_mi|age_categorical_train=0.35]"
     ]
    },
    {
     "name": "stdout",
     "output_type": "stream",
     "text": [
      "\r\n",
      "Epoch 543/600:  90%|█████████ | 543/600 [4:41:01<27:22, 28.81s/it, v_num=a0_1, total_loss_train=538, kl_local_train=81, metric_mi|age_categorical_train=0.35]"
     ]
    },
    {
     "name": "stdout",
     "output_type": "stream",
     "text": [
      "\r\n",
      "Epoch 543/600:  90%|█████████ | 543/600 [4:41:01<27:22, 28.81s/it, v_num=a0_1, total_loss_train=538, kl_local_train=80.8, metric_mi|age_categorical_train=0.35]"
     ]
    },
    {
     "name": "stdout",
     "output_type": "stream",
     "text": [
      "\r\n",
      "Epoch 544/600:  90%|█████████ | 543/600 [4:41:01<27:22, 28.81s/it, v_num=a0_1, total_loss_train=538, kl_local_train=80.8, metric_mi|age_categorical_train=0.35]"
     ]
    },
    {
     "name": "stdout",
     "output_type": "stream",
     "text": [
      "\r\n",
      "Epoch 544/600:  91%|█████████ | 544/600 [4:41:30<26:50, 28.76s/it, v_num=a0_1, total_loss_train=538, kl_local_train=80.8, metric_mi|age_categorical_train=0.35]"
     ]
    },
    {
     "name": "stdout",
     "output_type": "stream",
     "text": [
      "\r\n",
      "Epoch 544/600:  91%|█████████ | 544/600 [4:41:30<26:50, 28.76s/it, v_num=a0_1, total_loss_train=539, kl_local_train=80.8, metric_mi|age_categorical_train=0.35]"
     ]
    },
    {
     "name": "stdout",
     "output_type": "stream",
     "text": [
      "\r\n",
      "Epoch 545/600:  91%|█████████ | 544/600 [4:41:30<26:50, 28.76s/it, v_num=a0_1, total_loss_train=539, kl_local_train=80.8, metric_mi|age_categorical_train=0.35]"
     ]
    },
    {
     "name": "stdout",
     "output_type": "stream",
     "text": [
      "\r\n",
      "Epoch 545/600:  91%|█████████ | 545/600 [4:41:59<26:28, 28.88s/it, v_num=a0_1, total_loss_train=539, kl_local_train=80.8, metric_mi|age_categorical_train=0.35]"
     ]
    },
    {
     "name": "stdout",
     "output_type": "stream",
     "text": [
      "\r\n",
      "Epoch 545/600:  91%|█████████ | 545/600 [4:41:59<26:28, 28.88s/it, v_num=a0_1, total_loss_train=539, kl_local_train=80.7, metric_mi|age_categorical_train=0.35]"
     ]
    },
    {
     "name": "stdout",
     "output_type": "stream",
     "text": [
      "\r\n",
      "Epoch 546/600:  91%|█████████ | 545/600 [4:41:59<26:28, 28.88s/it, v_num=a0_1, total_loss_train=539, kl_local_train=80.7, metric_mi|age_categorical_train=0.35]"
     ]
    },
    {
     "name": "stdout",
     "output_type": "stream",
     "text": [
      "\r\n",
      "Epoch 546/600:  91%|█████████ | 546/600 [4:42:28<26:02, 28.94s/it, v_num=a0_1, total_loss_train=539, kl_local_train=80.7, metric_mi|age_categorical_train=0.35]"
     ]
    },
    {
     "name": "stdout",
     "output_type": "stream",
     "text": [
      "\r\n",
      "Epoch 546/600:  91%|█████████ | 546/600 [4:42:28<26:02, 28.94s/it, v_num=a0_1, total_loss_train=539, kl_local_train=80.6, metric_mi|age_categorical_train=0.329]"
     ]
    },
    {
     "name": "stdout",
     "output_type": "stream",
     "text": [
      "\r\n",
      "Epoch 547/600:  91%|█████████ | 546/600 [4:42:28<26:02, 28.94s/it, v_num=a0_1, total_loss_train=539, kl_local_train=80.6, metric_mi|age_categorical_train=0.329]"
     ]
    },
    {
     "name": "stdout",
     "output_type": "stream",
     "text": [
      "\r\n",
      "Epoch 547/600:  91%|█████████ | 547/600 [4:42:56<25:23, 28.74s/it, v_num=a0_1, total_loss_train=539, kl_local_train=80.6, metric_mi|age_categorical_train=0.329]"
     ]
    },
    {
     "name": "stdout",
     "output_type": "stream",
     "text": [
      "\r\n",
      "Epoch 547/600:  91%|█████████ | 547/600 [4:42:56<25:23, 28.74s/it, v_num=a0_1, total_loss_train=539, kl_local_train=80.5, metric_mi|age_categorical_train=0.329]"
     ]
    },
    {
     "name": "stdout",
     "output_type": "stream",
     "text": [
      "\r\n",
      "Epoch 548/600:  91%|█████████ | 547/600 [4:42:56<25:23, 28.74s/it, v_num=a0_1, total_loss_train=539, kl_local_train=80.5, metric_mi|age_categorical_train=0.329]"
     ]
    },
    {
     "name": "stdout",
     "output_type": "stream",
     "text": [
      "\r\n",
      "Epoch 548/600:  91%|█████████▏| 548/600 [4:43:24<24:47, 28.60s/it, v_num=a0_1, total_loss_train=539, kl_local_train=80.5, metric_mi|age_categorical_train=0.329]"
     ]
    },
    {
     "name": "stdout",
     "output_type": "stream",
     "text": [
      "\r\n",
      "Epoch 548/600:  91%|█████████▏| 548/600 [4:43:24<24:47, 28.60s/it, v_num=a0_1, total_loss_train=539, kl_local_train=80.6, metric_mi|age_categorical_train=0.329]"
     ]
    },
    {
     "name": "stdout",
     "output_type": "stream",
     "text": [
      "\r\n",
      "Epoch 549/600:  91%|█████████▏| 548/600 [4:43:24<24:47, 28.60s/it, v_num=a0_1, total_loss_train=539, kl_local_train=80.6, metric_mi|age_categorical_train=0.329]"
     ]
    },
    {
     "name": "stdout",
     "output_type": "stream",
     "text": [
      "\r\n",
      "Epoch 549/600:  92%|█████████▏| 549/600 [4:43:53<24:13, 28.50s/it, v_num=a0_1, total_loss_train=539, kl_local_train=80.6, metric_mi|age_categorical_train=0.329]"
     ]
    },
    {
     "name": "stdout",
     "output_type": "stream",
     "text": [
      "\r\n",
      "Epoch 549/600:  92%|█████████▏| 549/600 [4:43:53<24:13, 28.50s/it, v_num=a0_1, total_loss_train=539, kl_local_train=80.4, metric_mi|age_categorical_train=0.329]"
     ]
    },
    {
     "name": "stdout",
     "output_type": "stream",
     "text": [
      "\r\n",
      "Epoch 550/600:  92%|█████████▏| 549/600 [4:43:53<24:13, 28.50s/it, v_num=a0_1, total_loss_train=539, kl_local_train=80.4, metric_mi|age_categorical_train=0.329]"
     ]
    },
    {
     "name": "stdout",
     "output_type": "stream",
     "text": [
      "\r\n",
      "Epoch 550/600:  92%|█████████▏| 550/600 [4:44:22<23:53, 28.66s/it, v_num=a0_1, total_loss_train=539, kl_local_train=80.4, metric_mi|age_categorical_train=0.329]"
     ]
    },
    {
     "name": "stdout",
     "output_type": "stream",
     "text": [
      "\r\n",
      "Epoch 550/600:  92%|█████████▏| 550/600 [4:44:22<23:53, 28.66s/it, v_num=a0_1, total_loss_train=539, kl_local_train=80.1, metric_mi|age_categorical_train=0.329]"
     ]
    },
    {
     "name": "stdout",
     "output_type": "stream",
     "text": [
      "\r\n",
      "Epoch 551/600:  92%|█████████▏| 550/600 [4:44:22<23:53, 28.66s/it, v_num=a0_1, total_loss_train=539, kl_local_train=80.1, metric_mi|age_categorical_train=0.329]"
     ]
    },
    {
     "name": "stdout",
     "output_type": "stream",
     "text": [
      "\r\n",
      "Epoch 551/600:  92%|█████████▏| 551/600 [4:44:51<23:32, 28.83s/it, v_num=a0_1, total_loss_train=539, kl_local_train=80.1, metric_mi|age_categorical_train=0.329]"
     ]
    },
    {
     "name": "stdout",
     "output_type": "stream",
     "text": [
      "\r\n",
      "Epoch 551/600:  92%|█████████▏| 551/600 [4:44:51<23:32, 28.83s/it, v_num=a0_1, total_loss_train=539, kl_local_train=80.4, metric_mi|age_categorical_train=0.311]"
     ]
    },
    {
     "name": "stdout",
     "output_type": "stream",
     "text": [
      "\r\n",
      "Epoch 552/600:  92%|█████████▏| 551/600 [4:44:51<23:32, 28.83s/it, v_num=a0_1, total_loss_train=539, kl_local_train=80.4, metric_mi|age_categorical_train=0.311]"
     ]
    },
    {
     "name": "stdout",
     "output_type": "stream",
     "text": [
      "\r\n",
      "Epoch 552/600:  92%|█████████▏| 552/600 [4:45:20<23:00, 28.76s/it, v_num=a0_1, total_loss_train=539, kl_local_train=80.4, metric_mi|age_categorical_train=0.311]"
     ]
    },
    {
     "name": "stdout",
     "output_type": "stream",
     "text": [
      "\r\n",
      "Epoch 552/600:  92%|█████████▏| 552/600 [4:45:20<23:00, 28.76s/it, v_num=a0_1, total_loss_train=539, kl_local_train=80.1, metric_mi|age_categorical_train=0.311]"
     ]
    },
    {
     "name": "stdout",
     "output_type": "stream",
     "text": [
      "\r\n",
      "Epoch 553/600:  92%|█████████▏| 552/600 [4:45:20<23:00, 28.76s/it, v_num=a0_1, total_loss_train=539, kl_local_train=80.1, metric_mi|age_categorical_train=0.311]"
     ]
    },
    {
     "name": "stdout",
     "output_type": "stream",
     "text": [
      "\r\n",
      "Epoch 553/600:  92%|█████████▏| 553/600 [4:45:48<22:28, 28.69s/it, v_num=a0_1, total_loss_train=539, kl_local_train=80.1, metric_mi|age_categorical_train=0.311]"
     ]
    },
    {
     "name": "stdout",
     "output_type": "stream",
     "text": [
      "\r\n",
      "Epoch 553/600:  92%|█████████▏| 553/600 [4:45:48<22:28, 28.69s/it, v_num=a0_1, total_loss_train=539, kl_local_train=80.3, metric_mi|age_categorical_train=0.311]"
     ]
    },
    {
     "name": "stdout",
     "output_type": "stream",
     "text": [
      "\r\n",
      "Epoch 554/600:  92%|█████████▏| 553/600 [4:45:48<22:28, 28.69s/it, v_num=a0_1, total_loss_train=539, kl_local_train=80.3, metric_mi|age_categorical_train=0.311]"
     ]
    },
    {
     "name": "stdout",
     "output_type": "stream",
     "text": [
      "\r\n",
      "Epoch 554/600:  92%|█████████▏| 554/600 [4:46:17<21:56, 28.63s/it, v_num=a0_1, total_loss_train=539, kl_local_train=80.3, metric_mi|age_categorical_train=0.311]"
     ]
    },
    {
     "name": "stdout",
     "output_type": "stream",
     "text": [
      "\r\n",
      "Epoch 554/600:  92%|█████████▏| 554/600 [4:46:17<21:56, 28.63s/it, v_num=a0_1, total_loss_train=540, kl_local_train=80.2, metric_mi|age_categorical_train=0.311]"
     ]
    },
    {
     "name": "stdout",
     "output_type": "stream",
     "text": [
      "\r\n",
      "Epoch 555/600:  92%|█████████▏| 554/600 [4:46:17<21:56, 28.63s/it, v_num=a0_1, total_loss_train=540, kl_local_train=80.2, metric_mi|age_categorical_train=0.311]"
     ]
    },
    {
     "name": "stdout",
     "output_type": "stream",
     "text": [
      "\r\n",
      "Epoch 555/600:  92%|█████████▎| 555/600 [4:46:46<21:32, 28.72s/it, v_num=a0_1, total_loss_train=540, kl_local_train=80.2, metric_mi|age_categorical_train=0.311]"
     ]
    },
    {
     "name": "stdout",
     "output_type": "stream",
     "text": [
      "\r\n",
      "Epoch 555/600:  92%|█████████▎| 555/600 [4:46:46<21:32, 28.72s/it, v_num=a0_1, total_loss_train=540, kl_local_train=79.9, metric_mi|age_categorical_train=0.311]"
     ]
    },
    {
     "name": "stdout",
     "output_type": "stream",
     "text": [
      "\r\n",
      "Epoch 556/600:  92%|█████████▎| 555/600 [4:46:46<21:32, 28.72s/it, v_num=a0_1, total_loss_train=540, kl_local_train=79.9, metric_mi|age_categorical_train=0.311]"
     ]
    },
    {
     "name": "stdout",
     "output_type": "stream",
     "text": [
      "\r\n",
      "Epoch 556/600:  93%|█████████▎| 556/600 [4:47:15<21:08, 28.84s/it, v_num=a0_1, total_loss_train=540, kl_local_train=79.9, metric_mi|age_categorical_train=0.311]"
     ]
    },
    {
     "name": "stdout",
     "output_type": "stream",
     "text": [
      "\r\n",
      "Epoch 556/600:  93%|█████████▎| 556/600 [4:47:15<21:08, 28.84s/it, v_num=a0_1, total_loss_train=540, kl_local_train=80.1, metric_mi|age_categorical_train=0.314]"
     ]
    },
    {
     "name": "stdout",
     "output_type": "stream",
     "text": [
      "\r\n",
      "Epoch 557/600:  93%|█████████▎| 556/600 [4:47:15<21:08, 28.84s/it, v_num=a0_1, total_loss_train=540, kl_local_train=80.1, metric_mi|age_categorical_train=0.314]"
     ]
    },
    {
     "name": "stdout",
     "output_type": "stream",
     "text": [
      "\r\n",
      "Epoch 557/600:  93%|█████████▎| 557/600 [4:47:43<20:36, 28.75s/it, v_num=a0_1, total_loss_train=540, kl_local_train=80.1, metric_mi|age_categorical_train=0.314]"
     ]
    },
    {
     "name": "stdout",
     "output_type": "stream",
     "text": [
      "\r\n",
      "Epoch 557/600:  93%|█████████▎| 557/600 [4:47:43<20:36, 28.75s/it, v_num=a0_1, total_loss_train=540, kl_local_train=79.7, metric_mi|age_categorical_train=0.314]"
     ]
    },
    {
     "name": "stdout",
     "output_type": "stream",
     "text": [
      "\r\n",
      "Epoch 558/600:  93%|█████████▎| 557/600 [4:47:43<20:36, 28.75s/it, v_num=a0_1, total_loss_train=540, kl_local_train=79.7, metric_mi|age_categorical_train=0.314]"
     ]
    },
    {
     "name": "stdout",
     "output_type": "stream",
     "text": [
      "\r\n",
      "Epoch 558/600:  93%|█████████▎| 558/600 [4:48:12<20:04, 28.68s/it, v_num=a0_1, total_loss_train=540, kl_local_train=79.7, metric_mi|age_categorical_train=0.314]"
     ]
    },
    {
     "name": "stdout",
     "output_type": "stream",
     "text": [
      "\r\n",
      "Epoch 558/600:  93%|█████████▎| 558/600 [4:48:12<20:04, 28.68s/it, v_num=a0_1, total_loss_train=540, kl_local_train=79.7, metric_mi|age_categorical_train=0.314]"
     ]
    },
    {
     "name": "stdout",
     "output_type": "stream",
     "text": [
      "\r\n",
      "Epoch 559/600:  93%|█████████▎| 558/600 [4:48:12<20:04, 28.68s/it, v_num=a0_1, total_loss_train=540, kl_local_train=79.7, metric_mi|age_categorical_train=0.314]"
     ]
    },
    {
     "name": "stdout",
     "output_type": "stream",
     "text": [
      "\r\n",
      "Epoch 559/600:  93%|█████████▎| 559/600 [4:48:40<19:33, 28.63s/it, v_num=a0_1, total_loss_train=540, kl_local_train=79.7, metric_mi|age_categorical_train=0.314]"
     ]
    },
    {
     "name": "stdout",
     "output_type": "stream",
     "text": [
      "\r\n",
      "Epoch 559/600:  93%|█████████▎| 559/600 [4:48:40<19:33, 28.63s/it, v_num=a0_1, total_loss_train=540, kl_local_train=79.6, metric_mi|age_categorical_train=0.314]"
     ]
    },
    {
     "name": "stdout",
     "output_type": "stream",
     "text": [
      "\r\n",
      "Epoch 560/600:  93%|█████████▎| 559/600 [4:48:40<19:33, 28.63s/it, v_num=a0_1, total_loss_train=540, kl_local_train=79.6, metric_mi|age_categorical_train=0.314]"
     ]
    },
    {
     "name": "stdout",
     "output_type": "stream",
     "text": [
      "\r\n",
      "Epoch 560/600:  93%|█████████▎| 560/600 [4:49:10<19:16, 28.90s/it, v_num=a0_1, total_loss_train=540, kl_local_train=79.6, metric_mi|age_categorical_train=0.314]"
     ]
    },
    {
     "name": "stdout",
     "output_type": "stream",
     "text": [
      "\r\n",
      "Epoch 560/600:  93%|█████████▎| 560/600 [4:49:10<19:16, 28.90s/it, v_num=a0_1, total_loss_train=540, kl_local_train=79.7, metric_mi|age_categorical_train=0.314]"
     ]
    },
    {
     "name": "stdout",
     "output_type": "stream",
     "text": [
      "\r\n",
      "Epoch 561/600:  93%|█████████▎| 560/600 [4:49:10<19:16, 28.90s/it, v_num=a0_1, total_loss_train=540, kl_local_train=79.7, metric_mi|age_categorical_train=0.314]"
     ]
    },
    {
     "name": "stdout",
     "output_type": "stream",
     "text": [
      "\r\n",
      "Epoch 561/600:  94%|█████████▎| 561/600 [4:49:39<18:49, 28.97s/it, v_num=a0_1, total_loss_train=540, kl_local_train=79.7, metric_mi|age_categorical_train=0.314]"
     ]
    },
    {
     "name": "stdout",
     "output_type": "stream",
     "text": [
      "\r\n",
      "Epoch 561/600:  94%|█████████▎| 561/600 [4:49:39<18:49, 28.97s/it, v_num=a0_1, total_loss_train=540, kl_local_train=79.6, metric_mi|age_categorical_train=0.317]"
     ]
    },
    {
     "name": "stdout",
     "output_type": "stream",
     "text": [
      "\r\n",
      "Epoch 562/600:  94%|█████████▎| 561/600 [4:49:39<18:49, 28.97s/it, v_num=a0_1, total_loss_train=540, kl_local_train=79.6, metric_mi|age_categorical_train=0.317]"
     ]
    },
    {
     "name": "stdout",
     "output_type": "stream",
     "text": [
      "\r\n",
      "Epoch 562/600:  94%|█████████▎| 562/600 [4:50:07<18:16, 28.85s/it, v_num=a0_1, total_loss_train=540, kl_local_train=79.6, metric_mi|age_categorical_train=0.317]"
     ]
    },
    {
     "name": "stdout",
     "output_type": "stream",
     "text": [
      "\r\n",
      "Epoch 562/600:  94%|█████████▎| 562/600 [4:50:07<18:16, 28.85s/it, v_num=a0_1, total_loss_train=540, kl_local_train=79.6, metric_mi|age_categorical_train=0.317]"
     ]
    },
    {
     "name": "stdout",
     "output_type": "stream",
     "text": [
      "\r\n",
      "Epoch 563/600:  94%|█████████▎| 562/600 [4:50:07<18:16, 28.85s/it, v_num=a0_1, total_loss_train=540, kl_local_train=79.6, metric_mi|age_categorical_train=0.317]"
     ]
    },
    {
     "name": "stdout",
     "output_type": "stream",
     "text": [
      "\r\n",
      "Epoch 563/600:  94%|█████████▍| 563/600 [4:50:36<17:42, 28.72s/it, v_num=a0_1, total_loss_train=540, kl_local_train=79.6, metric_mi|age_categorical_train=0.317]"
     ]
    },
    {
     "name": "stdout",
     "output_type": "stream",
     "text": [
      "\r\n",
      "Epoch 563/600:  94%|█████████▍| 563/600 [4:50:36<17:42, 28.72s/it, v_num=a0_1, total_loss_train=540, kl_local_train=79.4, metric_mi|age_categorical_train=0.317]"
     ]
    },
    {
     "name": "stdout",
     "output_type": "stream",
     "text": [
      "\r\n",
      "Epoch 564/600:  94%|█████████▍| 563/600 [4:50:36<17:42, 28.72s/it, v_num=a0_1, total_loss_train=540, kl_local_train=79.4, metric_mi|age_categorical_train=0.317]"
     ]
    },
    {
     "name": "stdout",
     "output_type": "stream",
     "text": [
      "\r\n",
      "Epoch 564/600:  94%|█████████▍| 564/600 [4:51:04<17:11, 28.66s/it, v_num=a0_1, total_loss_train=540, kl_local_train=79.4, metric_mi|age_categorical_train=0.317]"
     ]
    },
    {
     "name": "stdout",
     "output_type": "stream",
     "text": [
      "\r\n",
      "Epoch 564/600:  94%|█████████▍| 564/600 [4:51:04<17:11, 28.66s/it, v_num=a0_1, total_loss_train=540, kl_local_train=79.4, metric_mi|age_categorical_train=0.317]"
     ]
    },
    {
     "name": "stdout",
     "output_type": "stream",
     "text": [
      "\r\n",
      "Epoch 565/600:  94%|█████████▍| 564/600 [4:51:04<17:11, 28.66s/it, v_num=a0_1, total_loss_train=540, kl_local_train=79.4, metric_mi|age_categorical_train=0.317]"
     ]
    },
    {
     "name": "stdout",
     "output_type": "stream",
     "text": [
      "\r\n",
      "Epoch 565/600:  94%|█████████▍| 565/600 [4:51:34<16:48, 28.81s/it, v_num=a0_1, total_loss_train=540, kl_local_train=79.4, metric_mi|age_categorical_train=0.317]"
     ]
    },
    {
     "name": "stdout",
     "output_type": "stream",
     "text": [
      "\r\n",
      "Epoch 565/600:  94%|█████████▍| 565/600 [4:51:34<16:48, 28.81s/it, v_num=a0_1, total_loss_train=540, kl_local_train=79.2, metric_mi|age_categorical_train=0.317]"
     ]
    },
    {
     "name": "stdout",
     "output_type": "stream",
     "text": [
      "\r\n",
      "Epoch 566/600:  94%|█████████▍| 565/600 [4:51:34<16:48, 28.81s/it, v_num=a0_1, total_loss_train=540, kl_local_train=79.2, metric_mi|age_categorical_train=0.317]"
     ]
    },
    {
     "name": "stdout",
     "output_type": "stream",
     "text": [
      "\r\n",
      "Epoch 566/600:  94%|█████████▍| 566/600 [4:52:02<16:19, 28.81s/it, v_num=a0_1, total_loss_train=540, kl_local_train=79.2, metric_mi|age_categorical_train=0.317]"
     ]
    },
    {
     "name": "stdout",
     "output_type": "stream",
     "text": [
      "\r\n",
      "Epoch 566/600:  94%|█████████▍| 566/600 [4:52:02<16:19, 28.81s/it, v_num=a0_1, total_loss_train=541, kl_local_train=79.2, metric_mi|age_categorical_train=0.312]"
     ]
    },
    {
     "name": "stdout",
     "output_type": "stream",
     "text": [
      "\r\n",
      "Epoch 567/600:  94%|█████████▍| 566/600 [4:52:02<16:19, 28.81s/it, v_num=a0_1, total_loss_train=541, kl_local_train=79.2, metric_mi|age_categorical_train=0.312]"
     ]
    },
    {
     "name": "stdout",
     "output_type": "stream",
     "text": [
      "\r\n",
      "Epoch 567/600:  94%|█████████▍| 567/600 [4:52:31<15:46, 28.67s/it, v_num=a0_1, total_loss_train=541, kl_local_train=79.2, metric_mi|age_categorical_train=0.312]"
     ]
    },
    {
     "name": "stdout",
     "output_type": "stream",
     "text": [
      "\r\n",
      "Epoch 567/600:  94%|█████████▍| 567/600 [4:52:31<15:46, 28.67s/it, v_num=a0_1, total_loss_train=541, kl_local_train=78.9, metric_mi|age_categorical_train=0.312]"
     ]
    },
    {
     "name": "stdout",
     "output_type": "stream",
     "text": [
      "\r\n",
      "Epoch 568/600:  94%|█████████▍| 567/600 [4:52:31<15:46, 28.67s/it, v_num=a0_1, total_loss_train=541, kl_local_train=78.9, metric_mi|age_categorical_train=0.312]"
     ]
    },
    {
     "name": "stdout",
     "output_type": "stream",
     "text": [
      "\r\n",
      "Epoch 568/600:  95%|█████████▍| 568/600 [4:52:59<15:13, 28.55s/it, v_num=a0_1, total_loss_train=541, kl_local_train=78.9, metric_mi|age_categorical_train=0.312]"
     ]
    },
    {
     "name": "stdout",
     "output_type": "stream",
     "text": [
      "\r\n",
      "Epoch 568/600:  95%|█████████▍| 568/600 [4:52:59<15:13, 28.55s/it, v_num=a0_1, total_loss_train=541, kl_local_train=79, metric_mi|age_categorical_train=0.312]  "
     ]
    },
    {
     "name": "stdout",
     "output_type": "stream",
     "text": [
      "\r\n",
      "Epoch 569/600:  95%|█████████▍| 568/600 [4:52:59<15:13, 28.55s/it, v_num=a0_1, total_loss_train=541, kl_local_train=79, metric_mi|age_categorical_train=0.312]"
     ]
    },
    {
     "name": "stdout",
     "output_type": "stream",
     "text": [
      "\r\n",
      "Epoch 569/600:  95%|█████████▍| 569/600 [4:53:27<14:43, 28.49s/it, v_num=a0_1, total_loss_train=541, kl_local_train=79, metric_mi|age_categorical_train=0.312]"
     ]
    },
    {
     "name": "stdout",
     "output_type": "stream",
     "text": [
      "\r\n",
      "Epoch 569/600:  95%|█████████▍| 569/600 [4:53:27<14:43, 28.49s/it, v_num=a0_1, total_loss_train=541, kl_local_train=78.8, metric_mi|age_categorical_train=0.312]"
     ]
    },
    {
     "name": "stdout",
     "output_type": "stream",
     "text": [
      "\r\n",
      "Epoch 570/600:  95%|█████████▍| 569/600 [4:53:27<14:43, 28.49s/it, v_num=a0_1, total_loss_train=541, kl_local_train=78.8, metric_mi|age_categorical_train=0.312]"
     ]
    },
    {
     "name": "stdout",
     "output_type": "stream",
     "text": [
      "\r\n",
      "Epoch 570/600:  95%|█████████▌| 570/600 [4:53:57<14:23, 28.78s/it, v_num=a0_1, total_loss_train=541, kl_local_train=78.8, metric_mi|age_categorical_train=0.312]"
     ]
    },
    {
     "name": "stdout",
     "output_type": "stream",
     "text": [
      "\r\n",
      "Epoch 570/600:  95%|█████████▌| 570/600 [4:53:57<14:23, 28.78s/it, v_num=a0_1, total_loss_train=541, kl_local_train=78.9, metric_mi|age_categorical_train=0.312]"
     ]
    },
    {
     "name": "stdout",
     "output_type": "stream",
     "text": [
      "\r\n",
      "Epoch 571/600:  95%|█████████▌| 570/600 [4:53:57<14:23, 28.78s/it, v_num=a0_1, total_loss_train=541, kl_local_train=78.9, metric_mi|age_categorical_train=0.312]"
     ]
    },
    {
     "name": "stdout",
     "output_type": "stream",
     "text": [
      "\r\n",
      "Epoch 571/600:  95%|█████████▌| 571/600 [4:54:26<14:02, 29.05s/it, v_num=a0_1, total_loss_train=541, kl_local_train=78.9, metric_mi|age_categorical_train=0.312]"
     ]
    },
    {
     "name": "stdout",
     "output_type": "stream",
     "text": [
      "\r\n",
      "Epoch 571/600:  95%|█████████▌| 571/600 [4:54:26<14:02, 29.05s/it, v_num=a0_1, total_loss_train=541, kl_local_train=78.8, metric_mi|age_categorical_train=0.312]"
     ]
    },
    {
     "name": "stdout",
     "output_type": "stream",
     "text": [
      "\r\n",
      "Epoch 572/600:  95%|█████████▌| 571/600 [4:54:26<14:02, 29.05s/it, v_num=a0_1, total_loss_train=541, kl_local_train=78.8, metric_mi|age_categorical_train=0.312]"
     ]
    },
    {
     "name": "stdout",
     "output_type": "stream",
     "text": [
      "\r\n",
      "Epoch 572/600:  95%|█████████▌| 572/600 [4:54:55<13:26, 28.80s/it, v_num=a0_1, total_loss_train=541, kl_local_train=78.8, metric_mi|age_categorical_train=0.312]"
     ]
    },
    {
     "name": "stdout",
     "output_type": "stream",
     "text": [
      "\r\n",
      "Epoch 572/600:  95%|█████████▌| 572/600 [4:54:55<13:26, 28.80s/it, v_num=a0_1, total_loss_train=541, kl_local_train=78.9, metric_mi|age_categorical_train=0.312]"
     ]
    },
    {
     "name": "stdout",
     "output_type": "stream",
     "text": [
      "\r\n",
      "Epoch 573/600:  95%|█████████▌| 572/600 [4:54:55<13:26, 28.80s/it, v_num=a0_1, total_loss_train=541, kl_local_train=78.9, metric_mi|age_categorical_train=0.312]"
     ]
    },
    {
     "name": "stdout",
     "output_type": "stream",
     "text": [
      "\r\n",
      "Epoch 573/600:  96%|█████████▌| 573/600 [4:55:23<12:52, 28.63s/it, v_num=a0_1, total_loss_train=541, kl_local_train=78.9, metric_mi|age_categorical_train=0.312]"
     ]
    },
    {
     "name": "stdout",
     "output_type": "stream",
     "text": [
      "\r\n",
      "Epoch 573/600:  96%|█████████▌| 573/600 [4:55:23<12:52, 28.63s/it, v_num=a0_1, total_loss_train=541, kl_local_train=78.8, metric_mi|age_categorical_train=0.312]"
     ]
    },
    {
     "name": "stdout",
     "output_type": "stream",
     "text": [
      "\r\n",
      "Epoch 574/600:  96%|█████████▌| 573/600 [4:55:23<12:52, 28.63s/it, v_num=a0_1, total_loss_train=541, kl_local_train=78.8, metric_mi|age_categorical_train=0.312]"
     ]
    },
    {
     "name": "stdout",
     "output_type": "stream",
     "text": [
      "\r\n",
      "Epoch 574/600:  96%|█████████▌| 574/600 [4:55:51<12:21, 28.52s/it, v_num=a0_1, total_loss_train=541, kl_local_train=78.8, metric_mi|age_categorical_train=0.312]"
     ]
    },
    {
     "name": "stdout",
     "output_type": "stream",
     "text": [
      "\r\n",
      "Epoch 574/600:  96%|█████████▌| 574/600 [4:55:51<12:21, 28.52s/it, v_num=a0_1, total_loss_train=541, kl_local_train=78.8, metric_mi|age_categorical_train=0.312]"
     ]
    },
    {
     "name": "stdout",
     "output_type": "stream",
     "text": [
      "\r\n",
      "Epoch 575/600:  96%|█████████▌| 574/600 [4:55:51<12:21, 28.52s/it, v_num=a0_1, total_loss_train=541, kl_local_train=78.8, metric_mi|age_categorical_train=0.312]"
     ]
    },
    {
     "name": "stdout",
     "output_type": "stream",
     "text": [
      "\r\n",
      "Epoch 575/600:  96%|█████████▌| 575/600 [4:56:21<12:03, 28.95s/it, v_num=a0_1, total_loss_train=541, kl_local_train=78.8, metric_mi|age_categorical_train=0.312]"
     ]
    },
    {
     "name": "stdout",
     "output_type": "stream",
     "text": [
      "\r\n",
      "Epoch 575/600:  96%|█████████▌| 575/600 [4:56:21<12:03, 28.95s/it, v_num=a0_1, total_loss_train=541, kl_local_train=78.7, metric_mi|age_categorical_train=0.312]"
     ]
    },
    {
     "name": "stdout",
     "output_type": "stream",
     "text": [
      "\r\n",
      "Epoch 576/600:  96%|█████████▌| 575/600 [4:56:22<12:03, 28.95s/it, v_num=a0_1, total_loss_train=541, kl_local_train=78.7, metric_mi|age_categorical_train=0.312]"
     ]
    },
    {
     "name": "stdout",
     "output_type": "stream",
     "text": [
      "\r\n",
      "Epoch 576/600:  96%|█████████▌| 576/600 [4:56:50<11:34, 28.94s/it, v_num=a0_1, total_loss_train=541, kl_local_train=78.7, metric_mi|age_categorical_train=0.312]"
     ]
    },
    {
     "name": "stdout",
     "output_type": "stream",
     "text": [
      "\r\n",
      "Epoch 576/600:  96%|█████████▌| 576/600 [4:56:50<11:34, 28.94s/it, v_num=a0_1, total_loss_train=541, kl_local_train=78.6, metric_mi|age_categorical_train=0.315]"
     ]
    },
    {
     "name": "stdout",
     "output_type": "stream",
     "text": [
      "\r\n",
      "Epoch 577/600:  96%|█████████▌| 576/600 [4:56:50<11:34, 28.94s/it, v_num=a0_1, total_loss_train=541, kl_local_train=78.6, metric_mi|age_categorical_train=0.315]"
     ]
    },
    {
     "name": "stdout",
     "output_type": "stream",
     "text": [
      "\r\n",
      "Epoch 577/600:  96%|█████████▌| 577/600 [4:57:18<11:01, 28.75s/it, v_num=a0_1, total_loss_train=541, kl_local_train=78.6, metric_mi|age_categorical_train=0.315]"
     ]
    },
    {
     "name": "stdout",
     "output_type": "stream",
     "text": [
      "\r\n",
      "Epoch 577/600:  96%|█████████▌| 577/600 [4:57:18<11:01, 28.75s/it, v_num=a0_1, total_loss_train=542, kl_local_train=78.6, metric_mi|age_categorical_train=0.315]"
     ]
    },
    {
     "name": "stdout",
     "output_type": "stream",
     "text": [
      "\r\n",
      "Epoch 578/600:  96%|█████████▌| 577/600 [4:57:18<11:01, 28.75s/it, v_num=a0_1, total_loss_train=542, kl_local_train=78.6, metric_mi|age_categorical_train=0.315]"
     ]
    },
    {
     "name": "stdout",
     "output_type": "stream",
     "text": [
      "\r\n",
      "Epoch 578/600:  96%|█████████▋| 578/600 [4:57:47<10:31, 28.68s/it, v_num=a0_1, total_loss_train=542, kl_local_train=78.6, metric_mi|age_categorical_train=0.315]"
     ]
    },
    {
     "name": "stdout",
     "output_type": "stream",
     "text": [
      "\r\n",
      "Epoch 578/600:  96%|█████████▋| 578/600 [4:57:47<10:31, 28.68s/it, v_num=a0_1, total_loss_train=542, kl_local_train=78.5, metric_mi|age_categorical_train=0.315]"
     ]
    },
    {
     "name": "stdout",
     "output_type": "stream",
     "text": [
      "\r\n",
      "Epoch 579/600:  96%|█████████▋| 578/600 [4:57:47<10:31, 28.68s/it, v_num=a0_1, total_loss_train=542, kl_local_train=78.5, metric_mi|age_categorical_train=0.315]"
     ]
    },
    {
     "name": "stdout",
     "output_type": "stream",
     "text": [
      "\r\n",
      "Epoch 579/600:  96%|█████████▋| 579/600 [4:58:15<10:00, 28.60s/it, v_num=a0_1, total_loss_train=542, kl_local_train=78.5, metric_mi|age_categorical_train=0.315]"
     ]
    },
    {
     "name": "stdout",
     "output_type": "stream",
     "text": [
      "\r\n",
      "Epoch 579/600:  96%|█████████▋| 579/600 [4:58:15<10:00, 28.60s/it, v_num=a0_1, total_loss_train=542, kl_local_train=78.7, metric_mi|age_categorical_train=0.315]"
     ]
    },
    {
     "name": "stdout",
     "output_type": "stream",
     "text": [
      "\r\n",
      "Epoch 580/600:  96%|█████████▋| 579/600 [4:58:15<10:00, 28.60s/it, v_num=a0_1, total_loss_train=542, kl_local_train=78.7, metric_mi|age_categorical_train=0.315]"
     ]
    },
    {
     "name": "stdout",
     "output_type": "stream",
     "text": [
      "\r\n",
      "Epoch 580/600:  97%|█████████▋| 580/600 [4:58:48<09:54, 29.73s/it, v_num=a0_1, total_loss_train=542, kl_local_train=78.7, metric_mi|age_categorical_train=0.315]"
     ]
    },
    {
     "name": "stdout",
     "output_type": "stream",
     "text": [
      "\r\n",
      "Epoch 580/600:  97%|█████████▋| 580/600 [4:58:48<09:54, 29.73s/it, v_num=a0_1, total_loss_train=542, kl_local_train=78.2, metric_mi|age_categorical_train=0.315]"
     ]
    },
    {
     "name": "stdout",
     "output_type": "stream",
     "text": [
      "\r\n",
      "Epoch 581/600:  97%|█████████▋| 580/600 [4:58:48<09:54, 29.73s/it, v_num=a0_1, total_loss_train=542, kl_local_train=78.2, metric_mi|age_categorical_train=0.315]"
     ]
    },
    {
     "name": "stdout",
     "output_type": "stream",
     "text": [
      "\r\n",
      "Epoch 581/600:  97%|█████████▋| 581/600 [4:59:20<09:38, 30.43s/it, v_num=a0_1, total_loss_train=542, kl_local_train=78.2, metric_mi|age_categorical_train=0.315]"
     ]
    },
    {
     "name": "stdout",
     "output_type": "stream",
     "text": [
      "\r\n",
      "Epoch 581/600:  97%|█████████▋| 581/600 [4:59:20<09:38, 30.43s/it, v_num=a0_1, total_loss_train=542, kl_local_train=78.2, metric_mi|age_categorical_train=0.315]"
     ]
    },
    {
     "name": "stdout",
     "output_type": "stream",
     "text": [
      "\r\n",
      "Epoch 582/600:  97%|█████████▋| 581/600 [4:59:20<09:38, 30.43s/it, v_num=a0_1, total_loss_train=542, kl_local_train=78.2, metric_mi|age_categorical_train=0.315]"
     ]
    },
    {
     "name": "stdout",
     "output_type": "stream",
     "text": [
      "\r\n",
      "Epoch 582/600:  97%|█████████▋| 582/600 [4:59:51<09:13, 30.73s/it, v_num=a0_1, total_loss_train=542, kl_local_train=78.2, metric_mi|age_categorical_train=0.315]"
     ]
    },
    {
     "name": "stdout",
     "output_type": "stream",
     "text": [
      "\r\n",
      "Epoch 582/600:  97%|█████████▋| 582/600 [4:59:51<09:13, 30.73s/it, v_num=a0_1, total_loss_train=542, kl_local_train=78.1, metric_mi|age_categorical_train=0.315]"
     ]
    },
    {
     "name": "stdout",
     "output_type": "stream",
     "text": [
      "\r\n",
      "Epoch 583/600:  97%|█████████▋| 582/600 [4:59:51<09:13, 30.73s/it, v_num=a0_1, total_loss_train=542, kl_local_train=78.1, metric_mi|age_categorical_train=0.315]"
     ]
    },
    {
     "name": "stdout",
     "output_type": "stream",
     "text": [
      "\r\n",
      "Epoch 583/600:  97%|█████████▋| 583/600 [5:00:24<08:52, 31.30s/it, v_num=a0_1, total_loss_train=542, kl_local_train=78.1, metric_mi|age_categorical_train=0.315]"
     ]
    },
    {
     "name": "stdout",
     "output_type": "stream",
     "text": [
      "\r\n",
      "Epoch 583/600:  97%|█████████▋| 583/600 [5:00:24<08:52, 31.30s/it, v_num=a0_1, total_loss_train=542, kl_local_train=78.2, metric_mi|age_categorical_train=0.315]"
     ]
    },
    {
     "name": "stdout",
     "output_type": "stream",
     "text": [
      "\r\n",
      "Epoch 584/600:  97%|█████████▋| 583/600 [5:00:24<08:52, 31.30s/it, v_num=a0_1, total_loss_train=542, kl_local_train=78.2, metric_mi|age_categorical_train=0.315]"
     ]
    },
    {
     "name": "stdout",
     "output_type": "stream",
     "text": [
      "\r\n",
      "Epoch 584/600:  97%|█████████▋| 584/600 [5:00:55<08:19, 31.22s/it, v_num=a0_1, total_loss_train=542, kl_local_train=78.2, metric_mi|age_categorical_train=0.315]"
     ]
    },
    {
     "name": "stdout",
     "output_type": "stream",
     "text": [
      "\r\n",
      "Epoch 584/600:  97%|█████████▋| 584/600 [5:00:55<08:19, 31.22s/it, v_num=a0_1, total_loss_train=542, kl_local_train=77.9, metric_mi|age_categorical_train=0.315]"
     ]
    },
    {
     "name": "stdout",
     "output_type": "stream",
     "text": [
      "\r\n",
      "Epoch 585/600:  97%|█████████▋| 584/600 [5:00:55<08:19, 31.22s/it, v_num=a0_1, total_loss_train=542, kl_local_train=77.9, metric_mi|age_categorical_train=0.315]"
     ]
    },
    {
     "name": "stdout",
     "output_type": "stream",
     "text": [
      "\r\n",
      "Epoch 585/600:  98%|█████████▊| 585/600 [5:01:27<07:51, 31.41s/it, v_num=a0_1, total_loss_train=542, kl_local_train=77.9, metric_mi|age_categorical_train=0.315]"
     ]
    },
    {
     "name": "stdout",
     "output_type": "stream",
     "text": [
      "\r\n",
      "Epoch 585/600:  98%|█████████▊| 585/600 [5:01:27<07:51, 31.41s/it, v_num=a0_1, total_loss_train=542, kl_local_train=77.9, metric_mi|age_categorical_train=0.315]"
     ]
    },
    {
     "name": "stdout",
     "output_type": "stream",
     "text": [
      "\r\n",
      "Epoch 586/600:  98%|█████████▊| 585/600 [5:01:27<07:51, 31.41s/it, v_num=a0_1, total_loss_train=542, kl_local_train=77.9, metric_mi|age_categorical_train=0.315]"
     ]
    },
    {
     "name": "stdout",
     "output_type": "stream",
     "text": [
      "\r\n",
      "Epoch 586/600:  98%|█████████▊| 586/600 [5:01:58<07:20, 31.43s/it, v_num=a0_1, total_loss_train=542, kl_local_train=77.9, metric_mi|age_categorical_train=0.315]"
     ]
    },
    {
     "name": "stdout",
     "output_type": "stream",
     "text": [
      "\r\n",
      "Epoch 586/600:  98%|█████████▊| 586/600 [5:01:58<07:20, 31.43s/it, v_num=a0_1, total_loss_train=542, kl_local_train=78.1, metric_mi|age_categorical_train=0.323]"
     ]
    },
    {
     "name": "stdout",
     "output_type": "stream",
     "text": [
      "\r\n",
      "Epoch 587/600:  98%|█████████▊| 586/600 [5:01:58<07:20, 31.43s/it, v_num=a0_1, total_loss_train=542, kl_local_train=78.1, metric_mi|age_categorical_train=0.323]"
     ]
    },
    {
     "name": "stdout",
     "output_type": "stream",
     "text": [
      "\r\n",
      "Epoch 587/600:  98%|█████████▊| 587/600 [5:02:29<06:45, 31.20s/it, v_num=a0_1, total_loss_train=542, kl_local_train=78.1, metric_mi|age_categorical_train=0.323]"
     ]
    },
    {
     "name": "stdout",
     "output_type": "stream",
     "text": [
      "\r\n",
      "Epoch 587/600:  98%|█████████▊| 587/600 [5:02:29<06:45, 31.20s/it, v_num=a0_1, total_loss_train=543, kl_local_train=78, metric_mi|age_categorical_train=0.323]  "
     ]
    },
    {
     "name": "stdout",
     "output_type": "stream",
     "text": [
      "\r\n",
      "Epoch 588/600:  98%|█████████▊| 587/600 [5:02:29<06:45, 31.20s/it, v_num=a0_1, total_loss_train=543, kl_local_train=78, metric_mi|age_categorical_train=0.323]"
     ]
    },
    {
     "name": "stdout",
     "output_type": "stream",
     "text": [
      "\r\n",
      "Epoch 588/600:  98%|█████████▊| 588/600 [5:02:59<06:09, 30.83s/it, v_num=a0_1, total_loss_train=543, kl_local_train=78, metric_mi|age_categorical_train=0.323]"
     ]
    },
    {
     "name": "stdout",
     "output_type": "stream",
     "text": [
      "\r\n",
      "Epoch 588/600:  98%|█████████▊| 588/600 [5:02:59<06:09, 30.83s/it, v_num=a0_1, total_loss_train=542, kl_local_train=77.9, metric_mi|age_categorical_train=0.323]"
     ]
    },
    {
     "name": "stdout",
     "output_type": "stream",
     "text": [
      "\r\n",
      "Epoch 589/600:  98%|█████████▊| 588/600 [5:02:59<06:09, 30.83s/it, v_num=a0_1, total_loss_train=542, kl_local_train=77.9, metric_mi|age_categorical_train=0.323]"
     ]
    },
    {
     "name": "stdout",
     "output_type": "stream",
     "text": [
      "\r\n",
      "Epoch 589/600:  98%|█████████▊| 589/600 [5:03:29<05:36, 30.59s/it, v_num=a0_1, total_loss_train=542, kl_local_train=77.9, metric_mi|age_categorical_train=0.323]"
     ]
    },
    {
     "name": "stdout",
     "output_type": "stream",
     "text": [
      "\r\n",
      "Epoch 589/600:  98%|█████████▊| 589/600 [5:03:29<05:36, 30.59s/it, v_num=a0_1, total_loss_train=542, kl_local_train=77.9, metric_mi|age_categorical_train=0.323]"
     ]
    },
    {
     "name": "stdout",
     "output_type": "stream",
     "text": [
      "\r\n",
      "Epoch 590/600:  98%|█████████▊| 589/600 [5:03:29<05:36, 30.59s/it, v_num=a0_1, total_loss_train=542, kl_local_train=77.9, metric_mi|age_categorical_train=0.323]"
     ]
    },
    {
     "name": "stdout",
     "output_type": "stream",
     "text": [
      "\r\n",
      "Epoch 590/600:  98%|█████████▊| 590/600 [5:04:00<05:07, 30.76s/it, v_num=a0_1, total_loss_train=542, kl_local_train=77.9, metric_mi|age_categorical_train=0.323]"
     ]
    },
    {
     "name": "stdout",
     "output_type": "stream",
     "text": [
      "\r\n",
      "Epoch 590/600:  98%|█████████▊| 590/600 [5:04:00<05:07, 30.76s/it, v_num=a0_1, total_loss_train=543, kl_local_train=77.7, metric_mi|age_categorical_train=0.323]"
     ]
    },
    {
     "name": "stdout",
     "output_type": "stream",
     "text": [
      "\r\n",
      "Epoch 591/600:  98%|█████████▊| 590/600 [5:04:01<05:07, 30.76s/it, v_num=a0_1, total_loss_train=543, kl_local_train=77.7, metric_mi|age_categorical_train=0.323]"
     ]
    },
    {
     "name": "stdout",
     "output_type": "stream",
     "text": [
      "\r\n",
      "Epoch 591/600:  98%|█████████▊| 591/600 [5:04:30<04:35, 30.65s/it, v_num=a0_1, total_loss_train=543, kl_local_train=77.7, metric_mi|age_categorical_train=0.323]"
     ]
    },
    {
     "name": "stdout",
     "output_type": "stream",
     "text": [
      "\r\n",
      "Epoch 591/600:  98%|█████████▊| 591/600 [5:04:30<04:35, 30.65s/it, v_num=a0_1, total_loss_train=543, kl_local_train=77.4, metric_mi|age_categorical_train=0.344]"
     ]
    },
    {
     "name": "stdout",
     "output_type": "stream",
     "text": [
      "\r\n",
      "Epoch 592/600:  98%|█████████▊| 591/600 [5:04:30<04:35, 30.65s/it, v_num=a0_1, total_loss_train=543, kl_local_train=77.4, metric_mi|age_categorical_train=0.344]"
     ]
    },
    {
     "name": "stdout",
     "output_type": "stream",
     "text": [
      "\r\n",
      "Epoch 592/600:  99%|█████████▊| 592/600 [5:05:00<04:02, 30.32s/it, v_num=a0_1, total_loss_train=543, kl_local_train=77.4, metric_mi|age_categorical_train=0.344]"
     ]
    },
    {
     "name": "stdout",
     "output_type": "stream",
     "text": [
      "\r\n",
      "Epoch 592/600:  99%|█████████▊| 592/600 [5:05:00<04:02, 30.32s/it, v_num=a0_1, total_loss_train=543, kl_local_train=77.4, metric_mi|age_categorical_train=0.344]"
     ]
    },
    {
     "name": "stdout",
     "output_type": "stream",
     "text": [
      "\r\n",
      "Epoch 593/600:  99%|█████████▊| 592/600 [5:05:00<04:02, 30.32s/it, v_num=a0_1, total_loss_train=543, kl_local_train=77.4, metric_mi|age_categorical_train=0.344]"
     ]
    },
    {
     "name": "stdout",
     "output_type": "stream",
     "text": [
      "\r\n",
      "Epoch 593/600:  99%|█████████▉| 593/600 [5:05:29<03:30, 30.09s/it, v_num=a0_1, total_loss_train=543, kl_local_train=77.4, metric_mi|age_categorical_train=0.344]"
     ]
    },
    {
     "name": "stdout",
     "output_type": "stream",
     "text": [
      "\r\n",
      "Epoch 593/600:  99%|█████████▉| 593/600 [5:05:29<03:30, 30.09s/it, v_num=a0_1, total_loss_train=543, kl_local_train=77.5, metric_mi|age_categorical_train=0.344]"
     ]
    },
    {
     "name": "stdout",
     "output_type": "stream",
     "text": [
      "\r\n",
      "Epoch 594/600:  99%|█████████▉| 593/600 [5:05:29<03:30, 30.09s/it, v_num=a0_1, total_loss_train=543, kl_local_train=77.5, metric_mi|age_categorical_train=0.344]"
     ]
    },
    {
     "name": "stdout",
     "output_type": "stream",
     "text": [
      "\r\n",
      "Epoch 594/600:  99%|█████████▉| 594/600 [5:05:59<02:59, 29.97s/it, v_num=a0_1, total_loss_train=543, kl_local_train=77.5, metric_mi|age_categorical_train=0.344]"
     ]
    },
    {
     "name": "stdout",
     "output_type": "stream",
     "text": [
      "\r\n",
      "Epoch 594/600:  99%|█████████▉| 594/600 [5:05:59<02:59, 29.97s/it, v_num=a0_1, total_loss_train=543, kl_local_train=77.4, metric_mi|age_categorical_train=0.344]"
     ]
    },
    {
     "name": "stdout",
     "output_type": "stream",
     "text": [
      "\r\n",
      "Epoch 595/600:  99%|█████████▉| 594/600 [5:05:59<02:59, 29.97s/it, v_num=a0_1, total_loss_train=543, kl_local_train=77.4, metric_mi|age_categorical_train=0.344]"
     ]
    },
    {
     "name": "stdout",
     "output_type": "stream",
     "text": [
      "\r\n",
      "Epoch 595/600:  99%|█████████▉| 595/600 [5:06:30<02:31, 30.27s/it, v_num=a0_1, total_loss_train=543, kl_local_train=77.4, metric_mi|age_categorical_train=0.344]"
     ]
    },
    {
     "name": "stdout",
     "output_type": "stream",
     "text": [
      "\r\n",
      "Epoch 595/600:  99%|█████████▉| 595/600 [5:06:30<02:31, 30.27s/it, v_num=a0_1, total_loss_train=543, kl_local_train=77.2, metric_mi|age_categorical_train=0.344]"
     ]
    },
    {
     "name": "stdout",
     "output_type": "stream",
     "text": [
      "\r\n",
      "Epoch 596/600:  99%|█████████▉| 595/600 [5:06:31<02:31, 30.27s/it, v_num=a0_1, total_loss_train=543, kl_local_train=77.2, metric_mi|age_categorical_train=0.344]"
     ]
    },
    {
     "name": "stdout",
     "output_type": "stream",
     "text": [
      "\r\n",
      "Epoch 596/600:  99%|█████████▉| 596/600 [5:07:01<02:01, 30.31s/it, v_num=a0_1, total_loss_train=543, kl_local_train=77.2, metric_mi|age_categorical_train=0.344]"
     ]
    },
    {
     "name": "stdout",
     "output_type": "stream",
     "text": [
      "\r\n",
      "Epoch 596/600:  99%|█████████▉| 596/600 [5:07:01<02:01, 30.31s/it, v_num=a0_1, total_loss_train=543, kl_local_train=77.4, metric_mi|age_categorical_train=0.347]"
     ]
    },
    {
     "name": "stdout",
     "output_type": "stream",
     "text": [
      "\r\n",
      "Epoch 597/600:  99%|█████████▉| 596/600 [5:07:01<02:01, 30.31s/it, v_num=a0_1, total_loss_train=543, kl_local_train=77.4, metric_mi|age_categorical_train=0.347]"
     ]
    },
    {
     "name": "stdout",
     "output_type": "stream",
     "text": [
      "\r\n",
      "Epoch 597/600: 100%|█████████▉| 597/600 [5:07:30<01:30, 30.21s/it, v_num=a0_1, total_loss_train=543, kl_local_train=77.4, metric_mi|age_categorical_train=0.347]"
     ]
    },
    {
     "name": "stdout",
     "output_type": "stream",
     "text": [
      "\r\n",
      "Epoch 597/600: 100%|█████████▉| 597/600 [5:07:30<01:30, 30.21s/it, v_num=a0_1, total_loss_train=543, kl_local_train=77.3, metric_mi|age_categorical_train=0.347]"
     ]
    },
    {
     "name": "stdout",
     "output_type": "stream",
     "text": [
      "\r\n",
      "Epoch 598/600: 100%|█████████▉| 597/600 [5:07:30<01:30, 30.21s/it, v_num=a0_1, total_loss_train=543, kl_local_train=77.3, metric_mi|age_categorical_train=0.347]"
     ]
    },
    {
     "name": "stdout",
     "output_type": "stream",
     "text": [
      "\r\n",
      "Epoch 598/600: 100%|█████████▉| 598/600 [5:08:00<01:00, 30.04s/it, v_num=a0_1, total_loss_train=543, kl_local_train=77.3, metric_mi|age_categorical_train=0.347]"
     ]
    },
    {
     "name": "stdout",
     "output_type": "stream",
     "text": [
      "\r\n",
      "Epoch 598/600: 100%|█████████▉| 598/600 [5:08:00<01:00, 30.04s/it, v_num=a0_1, total_loss_train=543, kl_local_train=77.1, metric_mi|age_categorical_train=0.347]"
     ]
    },
    {
     "name": "stdout",
     "output_type": "stream",
     "text": [
      "\r\n",
      "Epoch 599/600: 100%|█████████▉| 598/600 [5:08:00<01:00, 30.04s/it, v_num=a0_1, total_loss_train=543, kl_local_train=77.1, metric_mi|age_categorical_train=0.347]"
     ]
    },
    {
     "name": "stdout",
     "output_type": "stream",
     "text": [
      "\r\n",
      "Epoch 599/600: 100%|█████████▉| 599/600 [5:08:30<00:29, 29.98s/it, v_num=a0_1, total_loss_train=543, kl_local_train=77.1, metric_mi|age_categorical_train=0.347]"
     ]
    },
    {
     "name": "stdout",
     "output_type": "stream",
     "text": [
      "\r\n",
      "Epoch 599/600: 100%|█████████▉| 599/600 [5:08:30<00:29, 29.98s/it, v_num=a0_1, total_loss_train=543, kl_local_train=77.1, metric_mi|age_categorical_train=0.347]"
     ]
    },
    {
     "name": "stdout",
     "output_type": "stream",
     "text": [
      "\r\n",
      "Epoch 600/600: 100%|█████████▉| 599/600 [5:08:30<00:29, 29.98s/it, v_num=a0_1, total_loss_train=543, kl_local_train=77.1, metric_mi|age_categorical_train=0.347]"
     ]
    },
    {
     "name": "stdout",
     "output_type": "stream",
     "text": [
      "\r\n",
      "Epoch 600/600: 100%|██████████| 600/600 [5:09:01<00:00, 30.24s/it, v_num=a0_1, total_loss_train=543, kl_local_train=77.1, metric_mi|age_categorical_train=0.347]"
     ]
    },
    {
     "name": "stdout",
     "output_type": "stream",
     "text": [
      "\r\n",
      "Epoch 600/600: 100%|██████████| 600/600 [5:09:01<00:00, 30.24s/it, v_num=a0_1, total_loss_train=544, kl_local_train=77.1, metric_mi|age_categorical_train=0.347]"
     ]
    },
    {
     "name": "stderr",
     "output_type": "stream",
     "text": [
      "`Trainer.fit` stopped: `max_epochs=600` reached.\n"
     ]
    },
    {
     "name": "stdout",
     "output_type": "stream",
     "text": [
      "\r\n",
      "Epoch 600/600: 100%|██████████| 600/600 [5:09:01<00:00, 30.90s/it, v_num=a0_1, total_loss_train=544, kl_local_train=77.1, metric_mi|age_categorical_train=0.347]"
     ]
    },
    {
     "name": "stdout",
     "output_type": "stream",
     "text": [
      "\n"
     ]
    },
    {
     "name": "stdout",
     "output_type": "stream",
     "text": [
      "W&B logger finalized successfully: \n",
      "Exit Code: 0\n",
      "\n"
     ]
    }
   ],
   "source": [
    "n_epochs_kl_warmup = 600\n",
    "\n",
    "model_params = dict(\n",
    "    n_hidden=512,\n",
    "    n_layers=3, \n",
    "    n_latent=(12 + 8 * len(disentenglement_targets_configurations)),\n",
    "    gene_likelihood = \"nb\",\n",
    "    use_batch_norm = \"none\",\n",
    "    use_layer_norm = \"both\",\n",
    "    dropout_rate = 0.25,\n",
    "    deeply_inject_disentengled_latents = True,\n",
    "    include_auxillary_loss = True,\n",
    "    beta_kl_weight = 0.5,\n",
    "    encode_covariates=False\n",
    ")\n",
    "\n",
    "train_params = dict(\n",
    "    max_epochs=600,\n",
    "    train_size=0.8,\n",
    "    batch_size=128,\n",
    "    check_val_every_n_epoch=10,\n",
    "    limit_train_batches=0.1, \n",
    "    limit_val_batches=0.1,\n",
    "    learning_rate_monitor=True,\n",
    "    # early stopping:\n",
    "    early_stopping=False,\n",
    "    early_stopping_patience=150,\n",
    "    early_stopping_monitor=\"elbo_train\",\n",
    "    plan_kwargs = dict(\n",
    "        n_epochs_kl_warmup=n_epochs_kl_warmup,\n",
    "        lr=1e-4,\n",
    "        weight_decay=1e-4,\n",
    "        optimizer=\"AdamW\",\n",
    "        # lr-scheduler:\n",
    "        reduce_lr_on_plateau=True,\n",
    "        lr_patience=100,\n",
    "        lr_scheduler_metric=\"elbo_train\",\n",
    "    )\n",
    ")\n",
    "\n",
    "dataset_params = dict(\n",
    "    layer=None, \n",
    "    labels_key=None,\n",
    "    batch_key=None,\n",
    "    categorical_covariate_keys=None,\n",
    "    disentenglement_targets_configurations=disentenglement_targets_configurations,\n",
    "    model_level_metrics=model_level_metrics,\n",
    "    model_level_metrics_helper_covariates=['age_categorical']\n",
    ")\n",
    "\n",
    "tardis.MyModel.setup_anndata(adata, **dataset_params)\n",
    "dataset_params[\"adata_path\"] = adata_file_path\n",
    "dataset_params[\"adata\"] = os.path.split(adata_file_path)[1]\n",
    "\n",
    "tardis.MyModel.setup_wandb(\n",
    "    wandb_configurations=tardis.config.wandb,\n",
    "    hyperparams=dict(\n",
    "        model_params=model_params,\n",
    "        train_params=train_params,\n",
    "        dataset_params=dataset_params,\n",
    "    )\n",
    ")\n",
    "\n",
    "vae = tardis.MyModel(\n",
    "    adata,\n",
    "    **model_params\n",
    ")\n",
    "vae.train(**train_params)\n",
    "\n",
    "dir_path = os.path.join(\n",
    "    tardis.config.io_directories[\"models\"],\n",
    "    \"braun_age-continuous_3_encode\"\n",
    ")\n",
    "\n",
    "vae.save(\n",
    "    dir_path,\n",
    "    overwrite=True,\n",
    ")"
   ]
  },
  {
   "cell_type": "code",
   "execution_count": null,
   "id": "0fc4f365-b7a0-4c4d-92b9-993c53327048",
   "metadata": {},
   "outputs": [],
   "source": [
    "# vae.get_reconstruction_r2_training(top_n=[])"
   ]
  },
  {
   "cell_type": "code",
   "execution_count": null,
   "id": "6d9b0307-9421-490b-8024-0c6bda8c18e3",
   "metadata": {},
   "outputs": [],
   "source": [
    "adata.obs[\"validation\"] = \"train\"\n",
    "adata.obs[\"validation\"].iloc[vae.validation_indices] = \"validation\""
   ]
  },
  {
   "cell_type": "code",
   "execution_count": null,
   "id": "04982e03-16d4-4a56-894b-5b1ff00f5655",
   "metadata": {},
   "outputs": [],
   "source": [
    "vae.plot_training_history(\n",
    "    ignore_first=0,\n",
    "    n_col=4,\n",
    "    metrics_name=[\"metric_mi|age_categorical\", \"reconstruction_loss\", \"kl_local\"]\n",
    ")"
   ]
  },
  {
   "cell_type": "code",
   "execution_count": null,
   "id": "ccd6d863-6767-4d28-b837-3c0315ba9fa5",
   "metadata": {},
   "outputs": [],
   "source": [
    "from tardis._disentanglementmanager import DisentanglementManager as DM"
   ]
  },
  {
   "cell_type": "code",
   "execution_count": null,
   "id": "46acb718-b117-4b89-b371-92d7b49bf722",
   "metadata": {},
   "outputs": [],
   "source": [
    "latent = ad.AnnData(X=vae.get_latent_representation(), obs=adata.obs.copy())\n",
    "rsc.utils.anndata_to_GPU(latent)\n",
    "rsc.pp.neighbors(latent)\n",
    "rsc.tl.umap(latent)\n",
    "\n",
    "with warnings.catch_warnings():\n",
    "    warnings.simplefilter(\"ignore\")\n",
    "    sc.pl.umap(\n",
    "        latent, \n",
    "        color=['age', 'age_categorical', 'cell_type', 'validation'], \n",
    "        ncols=4,\n",
    "        frameon=False,\n",
    "        legend_fontsize=\"xx-small\"\n",
    "    )"
   ]
  },
  {
   "cell_type": "code",
   "execution_count": null,
   "id": "22710fb8-6c76-4e95-8290-6eff478ad7c9",
   "metadata": {},
   "outputs": [],
   "source": [
    "sublatent = DM.configurations.get_by_obs_key(\"age_training\").reserved_latent_indices\n",
    "latent = ad.AnnData(X=vae.get_latent_representation()[:, sublatent], obs=adata.obs.copy())\n",
    "rsc.utils.anndata_to_GPU(latent)\n",
    "rsc.pp.neighbors(latent)\n",
    "rsc.tl.umap(latent)\n",
    "\n",
    "with warnings.catch_warnings():\n",
    "    warnings.simplefilter(\"ignore\")\n",
    "    sc.pl.umap(\n",
    "        latent, \n",
    "        color=['age', 'age_categorical', 'cell_type', 'validation'], \n",
    "        ncols=4,\n",
    "        frameon=False,\n",
    "        legend_fontsize=\"xx-small\"\n",
    "    )"
   ]
  },
  {
   "cell_type": "code",
   "execution_count": null,
   "id": "462de488-c98d-4b0f-9fe8-b1fa33848cba",
   "metadata": {},
   "outputs": [],
   "source": [
    "sublatent = DM.configurations.unreserved_latent_indices\n",
    "latent = ad.AnnData(X=vae.get_latent_representation()[:, sublatent], obs=adata.obs.copy())\n",
    "rsc.utils.anndata_to_GPU(latent)\n",
    "rsc.pp.neighbors(latent)\n",
    "rsc.tl.umap(latent)\n",
    "\n",
    "with warnings.catch_warnings():\n",
    "    warnings.simplefilter(\"ignore\")\n",
    "    sc.pl.umap(\n",
    "        latent, \n",
    "        color=['age', 'age_categorical', 'cell_type', 'validation'], \n",
    "        ncols=4,\n",
    "        frameon=False,\n",
    "        legend_fontsize=\"xx-small\"\n",
    "    )"
   ]
  },
  {
   "cell_type": "code",
   "execution_count": null,
   "id": "670232e0-8d4e-4ce6-bc14-cb03124231e4",
   "metadata": {},
   "outputs": [],
   "source": []
  }
 ],
 "metadata": {
  "kernelspec": {
   "display_name": "Python 3 (ipykernel)",
   "language": "python",
   "name": "python3"
  },
  "language_info": {
   "codemirror_mode": {
    "name": "ipython",
    "version": 3
   },
   "file_extension": ".py",
   "mimetype": "text/x-python",
   "name": "python",
   "nbconvert_exporter": "python",
   "pygments_lexer": "ipython3",
   "version": "3.10.14"
  }
 },
 "nbformat": 4,
 "nbformat_minor": 5
}
