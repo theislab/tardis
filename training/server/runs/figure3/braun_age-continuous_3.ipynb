{
 "cells": [
  {
   "cell_type": "markdown",
   "id": "7a174ddf-1bac-4261-a2df-155cc7e8fc31",
   "metadata": {},
   "source": [
    "# Suo"
   ]
  },
  {
   "cell_type": "code",
   "execution_count": null,
   "id": "bd13e0f4-b441-4653-bf08-f2812d58f844",
   "metadata": {},
   "outputs": [],
   "source": [
    "import warnings\n",
    "import os\n",
    "import sys\n",
    "import gc\n",
    "import warnings"
   ]
  },
  {
   "cell_type": "code",
   "execution_count": null,
   "id": "0d362b42-a27d-486f-9c83-f52a59bfc6a5",
   "metadata": {},
   "outputs": [],
   "source": [
    "import anndata as ad\n",
    "import scanpy as sc\n",
    "import copy\n",
    "import torch\n",
    "from pathlib import Path\n",
    "import networkx as nx\n",
    "from sklearn.neighbors import kneighbors_graph\n",
    "import rapids_singlecell as rsc\n",
    "import numpy as np\n",
    "import scanpy as sc\n",
    "import pandas as pd\n",
    "import numpy as np\n",
    "import scipy.stats\n",
    "\n",
    "sys.path.append(\"/home/icb/kemal.inecik/work/codes/tardis\")\n",
    "import tardis\n",
    "tardis.config = tardis.config_server"
   ]
  },
  {
   "cell_type": "code",
   "execution_count": null,
   "id": "6e834108-5b88-402d-94c9-c8002c7a927a",
   "metadata": {},
   "outputs": [],
   "source": [
    "print(f\"CUDA used: {torch.cuda.is_available()}\")"
   ]
  },
  {
   "cell_type": "code",
   "execution_count": null,
   "id": "f0a8fa63-54f9-4cc9-aa2c-e2f1ce8ec9e8",
   "metadata": {},
   "outputs": [],
   "source": [
    "%matplotlib inline\n",
    "%config InlineBackend.figure_format='retina'\n",
    "import matplotlib.pyplot as plt\n",
    "import seaborn as sns\n",
    "\n",
    "import pickle\n",
    "_rcparams_path = \"/home/icb/kemal.inecik/work/codes/tardis/training/local/figures/rcparams.pickle\"\n",
    "with open(_rcparams_path, 'rb') as file:\n",
    "    _rcparams = pickle.load(file)\n",
    "plt.rcParams.update(_rcparams)"
   ]
  },
  {
   "cell_type": "code",
   "execution_count": null,
   "id": "ea9ee642-93ef-4cbc-b83c-5e9f16122b7d",
   "metadata": {},
   "outputs": [
    {
     "name": "stdout",
     "output_type": "stream",
     "text": [
      "AnnData object with n_obs × n_vars = 73697 × 8192\n",
      "    obs: 'sample_ID', 'organ', 'age', 'cell_type', 'sex', 'sex_inferred', 'concatenated_integration_covariates', 'integration_donor', 'integration_biological_unit', 'integration_sample_status', 'integration_library_platform_coarse', 'n_genes', 'age_categorical'\n",
      "    uns: 'rank_genes_groups'\n",
      "    obsm: 'Unintegrated', 'X_pca', 'harmony'\n"
     ]
    }
   ],
   "source": [
    "adata_file_path = os.path.join(tardis.config.io_directories[\"processed\"], \"dataset_complete_Braun_age.h5ad\")\n",
    "assert os.path.isfile(adata_file_path), f\"File not already exist: `{adata_file_path}`\"\n",
    "adata = ad.read_h5ad(adata_file_path)\n",
    "adata.obs[\"age\"] = adata.obs[\"age\"].astype(float)\n",
    "adata.obs[\"age_categorical\"] = adata.obs[\"age\"].astype(str)\n",
    "d = {i: ind for ind, i in enumerate(sorted(adata.obs[\"age\"].astype(float).unique()))}\n",
    "adata.obs[\"age_training\"] = [d[float(i)] for i in adata.obs[\"age\"]]\n",
    "print(adata_file_path, flush=True)\n",
    "print(adata, flush=True)"
   ]
  },
  {
   "cell_type": "code",
   "execution_count": null,
   "id": "fd461c79",
   "metadata": {},
   "outputs": [],
   "source": [
    "model_level_metrics = [\n",
    "    dict(\n",
    "        metric_identifier = \"metric_mi|age_categorical\",\n",
    "        training_set = [\"train\", \"validation\"],\n",
    "        every_n_epoch = 5,\n",
    "        subsample = 0.25,\n",
    "        progress_bar = True,\n",
    "        metric_kwargs = dict(\n",
    "            variation = \"normalized\",\n",
    "            discretization_bins = 512,\n",
    "            latent_subset=None,\n",
    "            reduce=np.mean\n",
    "        )\n",
    "    )\n",
    "]"
   ]
  },
  {
   "cell_type": "code",
   "execution_count": null,
   "id": "c43333cc-9e19-469f-8452-11ff5ee08db9",
   "metadata": {},
   "outputs": [],
   "source": [
    "warmup_epoch_range = [6, 48]\n",
    "dtc_w1 = 100\n",
    "dtc_w2 = 10\n",
    "\n",
    "counteractive_minibatch_settings = dict(\n",
    "    method = \"categorical_random\",\n",
    "    method_kwargs = dict(\n",
    "        within_labels = False,\n",
    "        within_batch = False,\n",
    "        within_categorical_covs = None,\n",
    "        seed = \"forward\",\n",
    "    )\n",
    ")\n",
    "\n",
    "disentenglement_targets_configurations=[\n",
    "    dict(\n",
    "        obs_key = \"age_training\",\n",
    "        n_reserved_latent = 8,\n",
    "        counteractive_minibatch_settings = counteractive_minibatch_settings,\n",
    "        auxillary_losses = [\n",
    "            dict(\n",
    "                apply = True, \n",
    "                target_type=\"pseudo_categorical\",\n",
    "                non_categorical_coefficient_method=\"squared_difference\",\n",
    "                progress_bar = False,\n",
    "                weight = dtc_w1,\n",
    "                method = \"mse_z\", \n",
    "                latent_group = \"reserved\",\n",
    "                counteractive_example = \"negative\",\n",
    "                transformation = \"inverse\", \n",
    "                warmup_epoch_range=warmup_epoch_range,\n",
    "                method_kwargs = {}\n",
    "            ),\n",
    "            dict(\n",
    "                apply = True, \n",
    "                target_type=\"categorical\",\n",
    "                progress_bar = False,\n",
    "                weight = dtc_w2, \n",
    "                method = \"mse_z\", \n",
    "                latent_group = \"reserved\",\n",
    "                counteractive_example = \"positive\",\n",
    "                transformation = \"none\",\n",
    "                warmup_epoch_range=warmup_epoch_range,\n",
    "                method_kwargs = {}\n",
    "            ),\n",
    "            dict(\n",
    "                apply = True, \n",
    "                target_type=\"categorical\",\n",
    "                progress_bar = False,\n",
    "                weight = dtc_w2 * 1,\n",
    "                method = \"mse_z\", \n",
    "                latent_group = \"unreserved_complete\",\n",
    "                counteractive_example = \"negative\",\n",
    "                transformation = \"none\", \n",
    "                warmup_epoch_range=warmup_epoch_range,\n",
    "                method_kwargs = {}\n",
    "            ),\n",
    "            dict(\n",
    "                apply = True, \n",
    "                target_type=\"categorical\",\n",
    "                progress_bar = False,\n",
    "                weight = dtc_w1 * 1, \n",
    "                method = \"mse_z\", \n",
    "                latent_group = \"unreserved_complete\",\n",
    "                counteractive_example = \"positive\",\n",
    "                transformation = \"inverse\",\n",
    "                warmup_epoch_range=warmup_epoch_range,\n",
    "                method_kwargs = {}\n",
    "            ),\n",
    "        ]\n",
    "    )\n",
    "]"
   ]
  },
  {
   "cell_type": "code",
   "execution_count": null,
   "id": "af1962de-51e8-453c-907a-b338c1f82f88",
   "metadata": {
    "scrolled": true
   },
   "outputs": [
    {
     "name": "stderr",
     "output_type": "stream",
     "text": [
      "`Trainer(limit_val_batches=1.0)` was configured so 100% of the batches will be used..\n"
     ]
    },
    {
     "name": "stderr",
     "output_type": "stream",
     "text": [
      "/home/icb/kemal.inecik/tools/apps/mamba/envs/tardis_env/lib/python3.10/site-packages/lightning/fabric/plugins/environments/slurm.py:168: The `srun` command is available on your system but is not used. HINT: If your intention is to run Lightning on SLURM, prepend your python command with `srun` like so: srun python /home/icb/kemal.inecik/tools/apps/mamba/envs/tardis_ ...\n",
      "/home/icb/kemal.inecik/tools/apps/mamba/envs/tardis_env/lib/python3.10/site-packages/torch/optim/lr_scheduler.py:28: UserWarning: The verbose parameter is deprecated. Please use get_last_lr() to access the learning rate.\n",
      "  warnings.warn(\"The verbose parameter is deprecated. Please use get_last_lr() \"\n"
     ]
    },
    {
     "name": "stdout",
     "output_type": "stream",
     "text": [
      "\r\n",
      "Training:   0%|          | 0/600 [00:00<?, ?it/s]"
     ]
    },
    {
     "name": "stdout",
     "output_type": "stream",
     "text": [
      "\r\n",
      "Epoch 1/600:   0%|          | 0/600 [00:00<?, ?it/s]"
     ]
    },
    {
     "name": "stderr",
     "output_type": "stream",
     "text": [
      "/home/icb/kemal.inecik/work/codes/tardis/tardis/_counteractivegenerator.py:237: UserWarning: Possible group definition indices are calculated for `age_categorical` for `training` set. Number of elements in each group: 4780,7572,5918,6770,15074,18844\n",
      "  possible_indices = CachedPossibleGroupDefinitionIndices.get(\n"
     ]
    },
    {
     "name": "stderr",
     "output_type": "stream",
     "text": [
      "/home/icb/kemal.inecik/work/codes/tardis/tardis/_counteractivegenerator.py:237: UserWarning: Possible group definition indices are calculated for `age_categorical` for `validation` set. Number of elements in each group: 1233,1872,1401,1574,3891,4768\n",
      "  possible_indices = CachedPossibleGroupDefinitionIndices.get(\n"
     ]
    },
    {
     "name": "stdout",
     "output_type": "stream",
     "text": [
      "\r\n",
      "Epoch 1/600:   0%|          | 1/600 [00:38<6:25:25, 38.61s/it]"
     ]
    },
    {
     "name": "stdout",
     "output_type": "stream",
     "text": [
      "\r\n",
      "Epoch 1/600:   0%|          | 1/600 [00:38<6:25:25, 38.61s/it, v_num=yw_1, total_loss_train=592, kl_local_train=37.2]"
     ]
    },
    {
     "name": "stdout",
     "output_type": "stream",
     "text": [
      "\r\n",
      "Epoch 2/600:   0%|          | 1/600 [00:38<6:25:25, 38.61s/it, v_num=yw_1, total_loss_train=592, kl_local_train=37.2]"
     ]
    },
    {
     "name": "stdout",
     "output_type": "stream",
     "text": [
      "\r\n",
      "Epoch 2/600:   0%|          | 2/600 [01:14<6:08:54, 37.01s/it, v_num=yw_1, total_loss_train=592, kl_local_train=37.2]"
     ]
    },
    {
     "name": "stdout",
     "output_type": "stream",
     "text": [
      "\r\n",
      "Epoch 2/600:   0%|          | 2/600 [01:14<6:08:54, 37.01s/it, v_num=yw_1, total_loss_train=455, kl_local_train=57]  "
     ]
    },
    {
     "name": "stdout",
     "output_type": "stream",
     "text": [
      "\r\n",
      "Epoch 3/600:   0%|          | 2/600 [01:14<6:08:54, 37.01s/it, v_num=yw_1, total_loss_train=455, kl_local_train=57]"
     ]
    },
    {
     "name": "stdout",
     "output_type": "stream",
     "text": [
      "\r\n",
      "Epoch 3/600:   0%|          | 3/600 [01:50<6:03:32, 36.54s/it, v_num=yw_1, total_loss_train=455, kl_local_train=57]"
     ]
    },
    {
     "name": "stdout",
     "output_type": "stream",
     "text": [
      "\r\n",
      "Epoch 3/600:   0%|          | 3/600 [01:50<6:03:32, 36.54s/it, v_num=yw_1, total_loss_train=438, kl_local_train=63.3]"
     ]
    },
    {
     "name": "stdout",
     "output_type": "stream",
     "text": [
      "\r\n",
      "Epoch 4/600:   0%|          | 3/600 [01:50<6:03:32, 36.54s/it, v_num=yw_1, total_loss_train=438, kl_local_train=63.3]"
     ]
    },
    {
     "name": "stdout",
     "output_type": "stream",
     "text": [
      "\r\n",
      "Epoch 4/600:   1%|          | 4/600 [02:26<6:00:47, 36.32s/it, v_num=yw_1, total_loss_train=438, kl_local_train=63.3]"
     ]
    },
    {
     "name": "stdout",
     "output_type": "stream",
     "text": [
      "\r\n",
      "Epoch 4/600:   1%|          | 4/600 [02:26<6:00:47, 36.32s/it, v_num=yw_1, total_loss_train=431, kl_local_train=65.5]"
     ]
    },
    {
     "name": "stdout",
     "output_type": "stream",
     "text": [
      "\r\n",
      "Epoch 5/600:   1%|          | 4/600 [02:26<6:00:47, 36.32s/it, v_num=yw_1, total_loss_train=431, kl_local_train=65.5]"
     ]
    },
    {
     "name": "stdout",
     "output_type": "stream",
     "text": [
      "\r\n",
      "Epoch 5/600:   1%|          | 5/600 [03:02<6:00:24, 36.34s/it, v_num=yw_1, total_loss_train=431, kl_local_train=65.5]"
     ]
    },
    {
     "name": "stdout",
     "output_type": "stream",
     "text": [
      "\r\n",
      "Epoch 5/600:   1%|          | 5/600 [03:02<6:00:24, 36.34s/it, v_num=yw_1, total_loss_train=427, kl_local_train=65.8]"
     ]
    },
    {
     "name": "stdout",
     "output_type": "stream",
     "text": [
      "\r\n",
      "Epoch 6/600:   1%|          | 5/600 [03:03<6:00:24, 36.34s/it, v_num=yw_1, total_loss_train=427, kl_local_train=65.8]"
     ]
    },
    {
     "name": "stdout",
     "output_type": "stream",
     "text": [
      "\r\n",
      "Epoch 6/600:   1%|          | 6/600 [03:36<5:50:07, 35.37s/it, v_num=yw_1, total_loss_train=427, kl_local_train=65.8]"
     ]
    },
    {
     "name": "stdout",
     "output_type": "stream",
     "text": [
      "\r\n",
      "Epoch 6/600:   1%|          | 6/600 [03:36<5:50:07, 35.37s/it, v_num=yw_1, total_loss_train=424, kl_local_train=64.6, metric_mi|age_categorical_train=0.0741]"
     ]
    },
    {
     "name": "stdout",
     "output_type": "stream",
     "text": [
      "\r\n",
      "Epoch 7/600:   1%|          | 6/600 [03:36<5:50:07, 35.37s/it, v_num=yw_1, total_loss_train=424, kl_local_train=64.6, metric_mi|age_categorical_train=0.0741]"
     ]
    },
    {
     "name": "stdout",
     "output_type": "stream",
     "text": [
      "\r\n",
      "Epoch 7/600:   1%|          | 7/600 [04:09<5:41:23, 34.54s/it, v_num=yw_1, total_loss_train=424, kl_local_train=64.6, metric_mi|age_categorical_train=0.0741]"
     ]
    },
    {
     "name": "stdout",
     "output_type": "stream",
     "text": [
      "\r\n",
      "Epoch 7/600:   1%|          | 7/600 [04:09<5:41:23, 34.54s/it, v_num=yw_1, total_loss_train=422, kl_local_train=62.7, metric_mi|age_categorical_train=0.0741]"
     ]
    },
    {
     "name": "stdout",
     "output_type": "stream",
     "text": [
      "\r\n",
      "Epoch 8/600:   1%|          | 7/600 [04:09<5:41:23, 34.54s/it, v_num=yw_1, total_loss_train=422, kl_local_train=62.7, metric_mi|age_categorical_train=0.0741]"
     ]
    },
    {
     "name": "stdout",
     "output_type": "stream",
     "text": [
      "\r\n",
      "Epoch 8/600:   1%|▏         | 8/600 [04:41<5:35:04, 33.96s/it, v_num=yw_1, total_loss_train=422, kl_local_train=62.7, metric_mi|age_categorical_train=0.0741]"
     ]
    },
    {
     "name": "stdout",
     "output_type": "stream",
     "text": [
      "\r\n",
      "Epoch 8/600:   1%|▏         | 8/600 [04:41<5:35:04, 33.96s/it, v_num=yw_1, total_loss_train=433, kl_local_train=76.5, metric_mi|age_categorical_train=0.0741]"
     ]
    },
    {
     "name": "stdout",
     "output_type": "stream",
     "text": [
      "\r\n",
      "Epoch 9/600:   1%|▏         | 8/600 [04:41<5:35:04, 33.96s/it, v_num=yw_1, total_loss_train=433, kl_local_train=76.5, metric_mi|age_categorical_train=0.0741]"
     ]
    },
    {
     "name": "stdout",
     "output_type": "stream",
     "text": [
      "\r\n",
      "Epoch 9/600:   2%|▏         | 9/600 [05:14<5:30:23, 33.54s/it, v_num=yw_1, total_loss_train=433, kl_local_train=76.5, metric_mi|age_categorical_train=0.0741]"
     ]
    },
    {
     "name": "stdout",
     "output_type": "stream",
     "text": [
      "\r\n",
      "Epoch 9/600:   2%|▏         | 9/600 [05:14<5:30:23, 33.54s/it, v_num=yw_1, total_loss_train=441, kl_local_train=68.8, metric_mi|age_categorical_train=0.0741]"
     ]
    },
    {
     "name": "stdout",
     "output_type": "stream",
     "text": [
      "\r\n",
      "Epoch 10/600:   2%|▏         | 9/600 [05:14<5:30:23, 33.54s/it, v_num=yw_1, total_loss_train=441, kl_local_train=68.8, metric_mi|age_categorical_train=0.0741]"
     ]
    },
    {
     "name": "stdout",
     "output_type": "stream",
     "text": [
      "\r\n",
      "Epoch 10/600:   2%|▏         | 10/600 [05:47<5:28:21, 33.39s/it, v_num=yw_1, total_loss_train=441, kl_local_train=68.8, metric_mi|age_categorical_train=0.0741]"
     ]
    },
    {
     "name": "stdout",
     "output_type": "stream",
     "text": [
      "\r\n",
      "Epoch 10/600:   2%|▏         | 10/600 [05:47<5:28:21, 33.39s/it, v_num=yw_1, total_loss_train=443, kl_local_train=117, metric_mi|age_categorical_train=0.0741] "
     ]
    },
    {
     "name": "stdout",
     "output_type": "stream",
     "text": [
      "\r\n",
      "Epoch 11/600:   2%|▏         | 10/600 [05:48<5:28:21, 33.39s/it, v_num=yw_1, total_loss_train=443, kl_local_train=117, metric_mi|age_categorical_train=0.0741]"
     ]
    },
    {
     "name": "stdout",
     "output_type": "stream",
     "text": [
      "\r\n",
      "Epoch 11/600:   2%|▏         | 11/600 [06:20<5:27:06, 33.32s/it, v_num=yw_1, total_loss_train=443, kl_local_train=117, metric_mi|age_categorical_train=0.0741]"
     ]
    },
    {
     "name": "stdout",
     "output_type": "stream",
     "text": [
      "\r\n",
      "Epoch 11/600:   2%|▏         | 11/600 [06:20<5:27:06, 33.32s/it, v_num=yw_1, total_loss_train=434, kl_local_train=229, metric_mi|age_categorical_train=0.112] "
     ]
    },
    {
     "name": "stdout",
     "output_type": "stream",
     "text": [
      "\r\n",
      "Epoch 12/600:   2%|▏         | 11/600 [06:20<5:27:06, 33.32s/it, v_num=yw_1, total_loss_train=434, kl_local_train=229, metric_mi|age_categorical_train=0.112]"
     ]
    },
    {
     "name": "stdout",
     "output_type": "stream",
     "text": [
      "\r\n",
      "Epoch 12/600:   2%|▏         | 12/600 [06:53<5:23:53, 33.05s/it, v_num=yw_1, total_loss_train=434, kl_local_train=229, metric_mi|age_categorical_train=0.112]"
     ]
    },
    {
     "name": "stdout",
     "output_type": "stream",
     "text": [
      "\r\n",
      "Epoch 12/600:   2%|▏         | 12/600 [06:53<5:23:53, 33.05s/it, v_num=yw_1, total_loss_train=434, kl_local_train=249, metric_mi|age_categorical_train=0.112]"
     ]
    },
    {
     "name": "stdout",
     "output_type": "stream",
     "text": [
      "\r\n",
      "Epoch 13/600:   2%|▏         | 12/600 [06:53<5:23:53, 33.05s/it, v_num=yw_1, total_loss_train=434, kl_local_train=249, metric_mi|age_categorical_train=0.112]"
     ]
    },
    {
     "name": "stdout",
     "output_type": "stream",
     "text": [
      "\r\n",
      "Epoch 13/600:   2%|▏         | 13/600 [07:25<5:22:27, 32.96s/it, v_num=yw_1, total_loss_train=434, kl_local_train=249, metric_mi|age_categorical_train=0.112]"
     ]
    },
    {
     "name": "stdout",
     "output_type": "stream",
     "text": [
      "\r\n",
      "Epoch 13/600:   2%|▏         | 13/600 [07:25<5:22:27, 32.96s/it, v_num=yw_1, total_loss_train=435, kl_local_train=250, metric_mi|age_categorical_train=0.112]"
     ]
    },
    {
     "name": "stdout",
     "output_type": "stream",
     "text": [
      "\r\n",
      "Epoch 14/600:   2%|▏         | 13/600 [07:25<5:22:27, 32.96s/it, v_num=yw_1, total_loss_train=435, kl_local_train=250, metric_mi|age_categorical_train=0.112]"
     ]
    },
    {
     "name": "stdout",
     "output_type": "stream",
     "text": [
      "\r\n",
      "Epoch 14/600:   2%|▏         | 14/600 [07:58<5:20:36, 32.83s/it, v_num=yw_1, total_loss_train=435, kl_local_train=250, metric_mi|age_categorical_train=0.112]"
     ]
    },
    {
     "name": "stdout",
     "output_type": "stream",
     "text": [
      "\r\n",
      "Epoch 14/600:   2%|▏         | 14/600 [07:58<5:20:36, 32.83s/it, v_num=yw_1, total_loss_train=436, kl_local_train=238, metric_mi|age_categorical_train=0.112]"
     ]
    },
    {
     "name": "stdout",
     "output_type": "stream",
     "text": [
      "\r\n",
      "Epoch 15/600:   2%|▏         | 14/600 [07:58<5:20:36, 32.83s/it, v_num=yw_1, total_loss_train=436, kl_local_train=238, metric_mi|age_categorical_train=0.112]"
     ]
    },
    {
     "name": "stdout",
     "output_type": "stream",
     "text": [
      "\r\n",
      "Epoch 15/600:   2%|▎         | 15/600 [08:31<5:20:08, 32.84s/it, v_num=yw_1, total_loss_train=436, kl_local_train=238, metric_mi|age_categorical_train=0.112]"
     ]
    },
    {
     "name": "stdout",
     "output_type": "stream",
     "text": [
      "\r\n",
      "Epoch 15/600:   2%|▎         | 15/600 [08:31<5:20:08, 32.84s/it, v_num=yw_1, total_loss_train=437, kl_local_train=225, metric_mi|age_categorical_train=0.112]"
     ]
    },
    {
     "name": "stdout",
     "output_type": "stream",
     "text": [
      "\r\n",
      "Epoch 16/600:   2%|▎         | 15/600 [08:31<5:20:08, 32.84s/it, v_num=yw_1, total_loss_train=437, kl_local_train=225, metric_mi|age_categorical_train=0.112]"
     ]
    },
    {
     "name": "stdout",
     "output_type": "stream",
     "text": [
      "\r\n",
      "Epoch 16/600:   3%|▎         | 16/600 [09:04<5:20:04, 32.88s/it, v_num=yw_1, total_loss_train=437, kl_local_train=225, metric_mi|age_categorical_train=0.112]"
     ]
    },
    {
     "name": "stdout",
     "output_type": "stream",
     "text": [
      "\r\n",
      "Epoch 16/600:   3%|▎         | 16/600 [09:04<5:20:04, 32.88s/it, v_num=yw_1, total_loss_train=437, kl_local_train=237, metric_mi|age_categorical_train=0.257]"
     ]
    },
    {
     "name": "stdout",
     "output_type": "stream",
     "text": [
      "\r\n",
      "Epoch 17/600:   3%|▎         | 16/600 [09:04<5:20:04, 32.88s/it, v_num=yw_1, total_loss_train=437, kl_local_train=237, metric_mi|age_categorical_train=0.257]"
     ]
    },
    {
     "name": "stdout",
     "output_type": "stream",
     "text": [
      "\r\n",
      "Epoch 17/600:   3%|▎         | 17/600 [09:36<5:18:41, 32.80s/it, v_num=yw_1, total_loss_train=437, kl_local_train=237, metric_mi|age_categorical_train=0.257]"
     ]
    },
    {
     "name": "stdout",
     "output_type": "stream",
     "text": [
      "\r\n",
      "Epoch 17/600:   3%|▎         | 17/600 [09:36<5:18:41, 32.80s/it, v_num=yw_1, total_loss_train=438, kl_local_train=253, metric_mi|age_categorical_train=0.257]"
     ]
    },
    {
     "name": "stdout",
     "output_type": "stream",
     "text": [
      "\r\n",
      "Epoch 18/600:   3%|▎         | 17/600 [09:36<5:18:41, 32.80s/it, v_num=yw_1, total_loss_train=438, kl_local_train=253, metric_mi|age_categorical_train=0.257]"
     ]
    },
    {
     "name": "stdout",
     "output_type": "stream",
     "text": [
      "\r\n",
      "Epoch 18/600:   3%|▎         | 18/600 [10:09<5:17:33, 32.74s/it, v_num=yw_1, total_loss_train=438, kl_local_train=253, metric_mi|age_categorical_train=0.257]"
     ]
    },
    {
     "name": "stdout",
     "output_type": "stream",
     "text": [
      "\r\n",
      "Epoch 18/600:   3%|▎         | 18/600 [10:09<5:17:33, 32.74s/it, v_num=yw_1, total_loss_train=439, kl_local_train=260, metric_mi|age_categorical_train=0.257]"
     ]
    },
    {
     "name": "stdout",
     "output_type": "stream",
     "text": [
      "\r\n",
      "Epoch 19/600:   3%|▎         | 18/600 [10:09<5:17:33, 32.74s/it, v_num=yw_1, total_loss_train=439, kl_local_train=260, metric_mi|age_categorical_train=0.257]"
     ]
    },
    {
     "name": "stdout",
     "output_type": "stream",
     "text": [
      "\r\n",
      "Epoch 19/600:   3%|▎         | 19/600 [10:42<5:16:25, 32.68s/it, v_num=yw_1, total_loss_train=439, kl_local_train=260, metric_mi|age_categorical_train=0.257]"
     ]
    },
    {
     "name": "stdout",
     "output_type": "stream",
     "text": [
      "\r\n",
      "Epoch 19/600:   3%|▎         | 19/600 [10:42<5:16:25, 32.68s/it, v_num=yw_1, total_loss_train=440, kl_local_train=265, metric_mi|age_categorical_train=0.257]"
     ]
    },
    {
     "name": "stdout",
     "output_type": "stream",
     "text": [
      "\r\n",
      "Epoch 20/600:   3%|▎         | 19/600 [10:42<5:16:25, 32.68s/it, v_num=yw_1, total_loss_train=440, kl_local_train=265, metric_mi|age_categorical_train=0.257]"
     ]
    },
    {
     "name": "stdout",
     "output_type": "stream",
     "text": [
      "\r\n",
      "Epoch 20/600:   3%|▎         | 20/600 [11:15<5:17:01, 32.80s/it, v_num=yw_1, total_loss_train=440, kl_local_train=265, metric_mi|age_categorical_train=0.257]"
     ]
    },
    {
     "name": "stdout",
     "output_type": "stream",
     "text": [
      "\r\n",
      "Epoch 20/600:   3%|▎         | 20/600 [11:15<5:17:01, 32.80s/it, v_num=yw_1, total_loss_train=441, kl_local_train=271, metric_mi|age_categorical_train=0.257]"
     ]
    },
    {
     "name": "stdout",
     "output_type": "stream",
     "text": [
      "\r\n",
      "Epoch 21/600:   3%|▎         | 20/600 [11:15<5:17:01, 32.80s/it, v_num=yw_1, total_loss_train=441, kl_local_train=271, metric_mi|age_categorical_train=0.257]"
     ]
    },
    {
     "name": "stdout",
     "output_type": "stream",
     "text": [
      "\r\n",
      "Epoch 21/600:   4%|▎         | 21/600 [11:47<5:15:49, 32.73s/it, v_num=yw_1, total_loss_train=441, kl_local_train=271, metric_mi|age_categorical_train=0.257]"
     ]
    },
    {
     "name": "stdout",
     "output_type": "stream",
     "text": [
      "\r\n",
      "Epoch 21/600:   4%|▎         | 21/600 [11:47<5:15:49, 32.73s/it, v_num=yw_1, total_loss_train=442, kl_local_train=261, metric_mi|age_categorical_train=0.351]"
     ]
    },
    {
     "name": "stdout",
     "output_type": "stream",
     "text": [
      "\r\n",
      "Epoch 22/600:   4%|▎         | 21/600 [11:47<5:15:49, 32.73s/it, v_num=yw_1, total_loss_train=442, kl_local_train=261, metric_mi|age_categorical_train=0.351]"
     ]
    },
    {
     "name": "stdout",
     "output_type": "stream",
     "text": [
      "\r\n",
      "Epoch 22/600:   4%|▎         | 22/600 [12:16<5:05:24, 31.70s/it, v_num=yw_1, total_loss_train=442, kl_local_train=261, metric_mi|age_categorical_train=0.351]"
     ]
    },
    {
     "name": "stdout",
     "output_type": "stream",
     "text": [
      "\r\n",
      "Epoch 22/600:   4%|▎         | 22/600 [12:16<5:05:24, 31.70s/it, v_num=yw_1, total_loss_train=443, kl_local_train=254, metric_mi|age_categorical_train=0.351]"
     ]
    },
    {
     "name": "stdout",
     "output_type": "stream",
     "text": [
      "\r\n",
      "Epoch 23/600:   4%|▎         | 22/600 [12:16<5:05:24, 31.70s/it, v_num=yw_1, total_loss_train=443, kl_local_train=254, metric_mi|age_categorical_train=0.351]"
     ]
    },
    {
     "name": "stdout",
     "output_type": "stream",
     "text": [
      "\r\n",
      "Epoch 23/600:   4%|▍         | 23/600 [12:46<4:58:33, 31.05s/it, v_num=yw_1, total_loss_train=443, kl_local_train=254, metric_mi|age_categorical_train=0.351]"
     ]
    },
    {
     "name": "stdout",
     "output_type": "stream",
     "text": [
      "\r\n",
      "Epoch 23/600:   4%|▍         | 23/600 [12:46<4:58:33, 31.05s/it, v_num=yw_1, total_loss_train=444, kl_local_train=250, metric_mi|age_categorical_train=0.351]"
     ]
    },
    {
     "name": "stdout",
     "output_type": "stream",
     "text": [
      "\r\n",
      "Epoch 24/600:   4%|▍         | 23/600 [12:46<4:58:33, 31.05s/it, v_num=yw_1, total_loss_train=444, kl_local_train=250, metric_mi|age_categorical_train=0.351]"
     ]
    },
    {
     "name": "stdout",
     "output_type": "stream",
     "text": [
      "\r\n",
      "Epoch 24/600:   4%|▍         | 24/600 [13:16<4:53:45, 30.60s/it, v_num=yw_1, total_loss_train=444, kl_local_train=250, metric_mi|age_categorical_train=0.351]"
     ]
    },
    {
     "name": "stdout",
     "output_type": "stream",
     "text": [
      "\r\n",
      "Epoch 24/600:   4%|▍         | 24/600 [13:16<4:53:45, 30.60s/it, v_num=yw_1, total_loss_train=445, kl_local_train=252, metric_mi|age_categorical_train=0.351]"
     ]
    },
    {
     "name": "stdout",
     "output_type": "stream",
     "text": [
      "\r\n",
      "Epoch 25/600:   4%|▍         | 24/600 [13:16<4:53:45, 30.60s/it, v_num=yw_1, total_loss_train=445, kl_local_train=252, metric_mi|age_categorical_train=0.351]"
     ]
    },
    {
     "name": "stdout",
     "output_type": "stream",
     "text": [
      "\r\n",
      "Epoch 25/600:   4%|▍         | 25/600 [13:46<4:53:37, 30.64s/it, v_num=yw_1, total_loss_train=445, kl_local_train=252, metric_mi|age_categorical_train=0.351]"
     ]
    },
    {
     "name": "stdout",
     "output_type": "stream",
     "text": [
      "\r\n",
      "Epoch 25/600:   4%|▍         | 25/600 [13:46<4:53:37, 30.64s/it, v_num=yw_1, total_loss_train=446, kl_local_train=248, metric_mi|age_categorical_train=0.351]"
     ]
    },
    {
     "name": "stdout",
     "output_type": "stream",
     "text": [
      "\r\n",
      "Epoch 26/600:   4%|▍         | 25/600 [13:47<4:53:37, 30.64s/it, v_num=yw_1, total_loss_train=446, kl_local_train=248, metric_mi|age_categorical_train=0.351]"
     ]
    },
    {
     "name": "stdout",
     "output_type": "stream",
     "text": [
      "\r\n",
      "Epoch 26/600:   4%|▍         | 26/600 [14:19<4:59:51, 31.34s/it, v_num=yw_1, total_loss_train=446, kl_local_train=248, metric_mi|age_categorical_train=0.351]"
     ]
    },
    {
     "name": "stdout",
     "output_type": "stream",
     "text": [
      "\r\n",
      "Epoch 26/600:   4%|▍         | 26/600 [14:19<4:59:51, 31.34s/it, v_num=yw_1, total_loss_train=447, kl_local_train=243, metric_mi|age_categorical_train=0.369]"
     ]
    },
    {
     "name": "stdout",
     "output_type": "stream",
     "text": [
      "\r\n",
      "Epoch 27/600:   4%|▍         | 26/600 [14:19<4:59:51, 31.34s/it, v_num=yw_1, total_loss_train=447, kl_local_train=243, metric_mi|age_categorical_train=0.369]"
     ]
    },
    {
     "name": "stdout",
     "output_type": "stream",
     "text": [
      "\r\n",
      "Epoch 27/600:   4%|▍         | 27/600 [14:51<5:01:25, 31.56s/it, v_num=yw_1, total_loss_train=447, kl_local_train=243, metric_mi|age_categorical_train=0.369]"
     ]
    },
    {
     "name": "stdout",
     "output_type": "stream",
     "text": [
      "\r\n",
      "Epoch 27/600:   4%|▍         | 27/600 [14:51<5:01:25, 31.56s/it, v_num=yw_1, total_loss_train=449, kl_local_train=242, metric_mi|age_categorical_train=0.369]"
     ]
    },
    {
     "name": "stdout",
     "output_type": "stream",
     "text": [
      "\r\n",
      "Epoch 28/600:   4%|▍         | 27/600 [14:51<5:01:25, 31.56s/it, v_num=yw_1, total_loss_train=449, kl_local_train=242, metric_mi|age_categorical_train=0.369]"
     ]
    },
    {
     "name": "stdout",
     "output_type": "stream",
     "text": [
      "\r\n",
      "Epoch 28/600:   5%|▍         | 28/600 [15:23<5:01:51, 31.66s/it, v_num=yw_1, total_loss_train=449, kl_local_train=242, metric_mi|age_categorical_train=0.369]"
     ]
    },
    {
     "name": "stdout",
     "output_type": "stream",
     "text": [
      "\r\n",
      "Epoch 28/600:   5%|▍         | 28/600 [15:23<5:01:51, 31.66s/it, v_num=yw_1, total_loss_train=451, kl_local_train=249, metric_mi|age_categorical_train=0.369]"
     ]
    },
    {
     "name": "stdout",
     "output_type": "stream",
     "text": [
      "\r\n",
      "Epoch 29/600:   5%|▍         | 28/600 [15:23<5:01:51, 31.66s/it, v_num=yw_1, total_loss_train=451, kl_local_train=249, metric_mi|age_categorical_train=0.369]"
     ]
    },
    {
     "name": "stdout",
     "output_type": "stream",
     "text": [
      "\r\n",
      "Epoch 29/600:   5%|▍         | 29/600 [15:55<5:02:14, 31.76s/it, v_num=yw_1, total_loss_train=451, kl_local_train=249, metric_mi|age_categorical_train=0.369]"
     ]
    },
    {
     "name": "stdout",
     "output_type": "stream",
     "text": [
      "\r\n",
      "Epoch 29/600:   5%|▍         | 29/600 [15:55<5:02:14, 31.76s/it, v_num=yw_1, total_loss_train=452, kl_local_train=250, metric_mi|age_categorical_train=0.369]"
     ]
    },
    {
     "name": "stdout",
     "output_type": "stream",
     "text": [
      "\r\n",
      "Epoch 30/600:   5%|▍         | 29/600 [15:55<5:02:14, 31.76s/it, v_num=yw_1, total_loss_train=452, kl_local_train=250, metric_mi|age_categorical_train=0.369]"
     ]
    },
    {
     "name": "stdout",
     "output_type": "stream",
     "text": [
      "\r\n",
      "Epoch 30/600:   5%|▌         | 30/600 [16:28<5:04:08, 32.02s/it, v_num=yw_1, total_loss_train=452, kl_local_train=250, metric_mi|age_categorical_train=0.369]"
     ]
    },
    {
     "name": "stdout",
     "output_type": "stream",
     "text": [
      "\r\n",
      "Epoch 30/600:   5%|▌         | 30/600 [16:28<5:04:08, 32.02s/it, v_num=yw_1, total_loss_train=454, kl_local_train=247, metric_mi|age_categorical_train=0.369]"
     ]
    },
    {
     "name": "stdout",
     "output_type": "stream",
     "text": [
      "\r\n",
      "Epoch 31/600:   5%|▌         | 30/600 [16:29<5:04:08, 32.02s/it, v_num=yw_1, total_loss_train=454, kl_local_train=247, metric_mi|age_categorical_train=0.369]"
     ]
    },
    {
     "name": "stdout",
     "output_type": "stream",
     "text": [
      "\r\n",
      "Epoch 31/600:   5%|▌         | 31/600 [17:00<5:05:12, 32.18s/it, v_num=yw_1, total_loss_train=454, kl_local_train=247, metric_mi|age_categorical_train=0.369]"
     ]
    },
    {
     "name": "stdout",
     "output_type": "stream",
     "text": [
      "\r\n",
      "Epoch 31/600:   5%|▌         | 31/600 [17:00<5:05:12, 32.18s/it, v_num=yw_1, total_loss_train=455, kl_local_train=243, metric_mi|age_categorical_train=0.386]"
     ]
    },
    {
     "name": "stdout",
     "output_type": "stream",
     "text": [
      "\r\n",
      "Epoch 32/600:   5%|▌         | 31/600 [17:00<5:05:12, 32.18s/it, v_num=yw_1, total_loss_train=455, kl_local_train=243, metric_mi|age_categorical_train=0.386]"
     ]
    },
    {
     "name": "stdout",
     "output_type": "stream",
     "text": [
      "\r\n",
      "Epoch 32/600:   5%|▌         | 32/600 [17:32<5:04:02, 32.12s/it, v_num=yw_1, total_loss_train=455, kl_local_train=243, metric_mi|age_categorical_train=0.386]"
     ]
    },
    {
     "name": "stdout",
     "output_type": "stream",
     "text": [
      "\r\n",
      "Epoch 32/600:   5%|▌         | 32/600 [17:32<5:04:02, 32.12s/it, v_num=yw_1, total_loss_train=457, kl_local_train=246, metric_mi|age_categorical_train=0.386]"
     ]
    },
    {
     "name": "stdout",
     "output_type": "stream",
     "text": [
      "\r\n",
      "Epoch 33/600:   5%|▌         | 32/600 [17:32<5:04:02, 32.12s/it, v_num=yw_1, total_loss_train=457, kl_local_train=246, metric_mi|age_categorical_train=0.386]"
     ]
    },
    {
     "name": "stdout",
     "output_type": "stream",
     "text": [
      "\r\n",
      "Epoch 33/600:   6%|▌         | 33/600 [18:04<5:02:47, 32.04s/it, v_num=yw_1, total_loss_train=457, kl_local_train=246, metric_mi|age_categorical_train=0.386]"
     ]
    },
    {
     "name": "stdout",
     "output_type": "stream",
     "text": [
      "\r\n",
      "Epoch 33/600:   6%|▌         | 33/600 [18:04<5:02:47, 32.04s/it, v_num=yw_1, total_loss_train=458, kl_local_train=249, metric_mi|age_categorical_train=0.386]"
     ]
    },
    {
     "name": "stdout",
     "output_type": "stream",
     "text": [
      "\r\n",
      "Epoch 34/600:   6%|▌         | 33/600 [18:04<5:02:47, 32.04s/it, v_num=yw_1, total_loss_train=458, kl_local_train=249, metric_mi|age_categorical_train=0.386]"
     ]
    },
    {
     "name": "stdout",
     "output_type": "stream",
     "text": [
      "\r\n",
      "Epoch 34/600:   6%|▌         | 34/600 [18:36<5:01:42, 31.98s/it, v_num=yw_1, total_loss_train=458, kl_local_train=249, metric_mi|age_categorical_train=0.386]"
     ]
    },
    {
     "name": "stdout",
     "output_type": "stream",
     "text": [
      "\r\n",
      "Epoch 34/600:   6%|▌         | 34/600 [18:36<5:01:42, 31.98s/it, v_num=yw_1, total_loss_train=460, kl_local_train=246, metric_mi|age_categorical_train=0.386]"
     ]
    },
    {
     "name": "stdout",
     "output_type": "stream",
     "text": [
      "\r\n",
      "Epoch 35/600:   6%|▌         | 34/600 [18:36<5:01:42, 31.98s/it, v_num=yw_1, total_loss_train=460, kl_local_train=246, metric_mi|age_categorical_train=0.386]"
     ]
    },
    {
     "name": "stdout",
     "output_type": "stream",
     "text": [
      "\r\n",
      "Epoch 35/600:   6%|▌         | 35/600 [19:09<5:02:45, 32.15s/it, v_num=yw_1, total_loss_train=460, kl_local_train=246, metric_mi|age_categorical_train=0.386]"
     ]
    },
    {
     "name": "stdout",
     "output_type": "stream",
     "text": [
      "\r\n",
      "Epoch 35/600:   6%|▌         | 35/600 [19:09<5:02:45, 32.15s/it, v_num=yw_1, total_loss_train=461, kl_local_train=248, metric_mi|age_categorical_train=0.386]"
     ]
    },
    {
     "name": "stdout",
     "output_type": "stream",
     "text": [
      "\r\n",
      "Epoch 36/600:   6%|▌         | 35/600 [19:09<5:02:45, 32.15s/it, v_num=yw_1, total_loss_train=461, kl_local_train=248, metric_mi|age_categorical_train=0.386]"
     ]
    },
    {
     "name": "stdout",
     "output_type": "stream",
     "text": [
      "\r\n",
      "Epoch 36/600:   6%|▌         | 36/600 [19:41<5:03:59, 32.34s/it, v_num=yw_1, total_loss_train=461, kl_local_train=248, metric_mi|age_categorical_train=0.386]"
     ]
    },
    {
     "name": "stdout",
     "output_type": "stream",
     "text": [
      "\r\n",
      "Epoch 36/600:   6%|▌         | 36/600 [19:41<5:03:59, 32.34s/it, v_num=yw_1, total_loss_train=463, kl_local_train=251, metric_mi|age_categorical_train=0.387]"
     ]
    },
    {
     "name": "stdout",
     "output_type": "stream",
     "text": [
      "\r\n",
      "Epoch 37/600:   6%|▌         | 36/600 [19:41<5:03:59, 32.34s/it, v_num=yw_1, total_loss_train=463, kl_local_train=251, metric_mi|age_categorical_train=0.387]"
     ]
    },
    {
     "name": "stdout",
     "output_type": "stream",
     "text": [
      "\r\n",
      "Epoch 37/600:   6%|▌         | 37/600 [20:13<5:02:01, 32.19s/it, v_num=yw_1, total_loss_train=463, kl_local_train=251, metric_mi|age_categorical_train=0.387]"
     ]
    },
    {
     "name": "stdout",
     "output_type": "stream",
     "text": [
      "\r\n",
      "Epoch 37/600:   6%|▌         | 37/600 [20:13<5:02:01, 32.19s/it, v_num=yw_1, total_loss_train=465, kl_local_train=252, metric_mi|age_categorical_train=0.387]"
     ]
    },
    {
     "name": "stdout",
     "output_type": "stream",
     "text": [
      "\r\n",
      "Epoch 38/600:   6%|▌         | 37/600 [20:13<5:02:01, 32.19s/it, v_num=yw_1, total_loss_train=465, kl_local_train=252, metric_mi|age_categorical_train=0.387]"
     ]
    },
    {
     "name": "stdout",
     "output_type": "stream",
     "text": [
      "\r\n",
      "Epoch 38/600:   6%|▋         | 38/600 [20:45<5:00:02, 32.03s/it, v_num=yw_1, total_loss_train=465, kl_local_train=252, metric_mi|age_categorical_train=0.387]"
     ]
    },
    {
     "name": "stdout",
     "output_type": "stream",
     "text": [
      "\r\n",
      "Epoch 38/600:   6%|▋         | 38/600 [20:45<5:00:02, 32.03s/it, v_num=yw_1, total_loss_train=467, kl_local_train=254, metric_mi|age_categorical_train=0.387]"
     ]
    },
    {
     "name": "stdout",
     "output_type": "stream",
     "text": [
      "\r\n",
      "Epoch 39/600:   6%|▋         | 38/600 [20:45<5:00:02, 32.03s/it, v_num=yw_1, total_loss_train=467, kl_local_train=254, metric_mi|age_categorical_train=0.387]"
     ]
    },
    {
     "name": "stdout",
     "output_type": "stream",
     "text": [
      "\r\n",
      "Epoch 39/600:   6%|▋         | 39/600 [21:17<4:58:42, 31.95s/it, v_num=yw_1, total_loss_train=467, kl_local_train=254, metric_mi|age_categorical_train=0.387]"
     ]
    },
    {
     "name": "stdout",
     "output_type": "stream",
     "text": [
      "\r\n",
      "Epoch 39/600:   6%|▋         | 39/600 [21:17<4:58:42, 31.95s/it, v_num=yw_1, total_loss_train=468, kl_local_train=255, metric_mi|age_categorical_train=0.387]"
     ]
    },
    {
     "name": "stdout",
     "output_type": "stream",
     "text": [
      "\r\n",
      "Epoch 40/600:   6%|▋         | 39/600 [21:17<4:58:42, 31.95s/it, v_num=yw_1, total_loss_train=468, kl_local_train=255, metric_mi|age_categorical_train=0.387]"
     ]
    },
    {
     "name": "stdout",
     "output_type": "stream",
     "text": [
      "\r\n",
      "Epoch 40/600:   7%|▋         | 40/600 [21:49<4:59:52, 32.13s/it, v_num=yw_1, total_loss_train=468, kl_local_train=255, metric_mi|age_categorical_train=0.387]"
     ]
    },
    {
     "name": "stdout",
     "output_type": "stream",
     "text": [
      "\r\n",
      "Epoch 40/600:   7%|▋         | 40/600 [21:49<4:59:52, 32.13s/it, v_num=yw_1, total_loss_train=470, kl_local_train=252, metric_mi|age_categorical_train=0.387]"
     ]
    },
    {
     "name": "stdout",
     "output_type": "stream",
     "text": [
      "\r\n",
      "Epoch 41/600:   7%|▋         | 40/600 [21:50<4:59:52, 32.13s/it, v_num=yw_1, total_loss_train=470, kl_local_train=252, metric_mi|age_categorical_train=0.387]"
     ]
    },
    {
     "name": "stdout",
     "output_type": "stream",
     "text": [
      "\r\n",
      "Epoch 41/600:   7%|▋         | 41/600 [22:22<5:00:37, 32.27s/it, v_num=yw_1, total_loss_train=470, kl_local_train=252, metric_mi|age_categorical_train=0.387]"
     ]
    },
    {
     "name": "stdout",
     "output_type": "stream",
     "text": [
      "\r\n",
      "Epoch 41/600:   7%|▋         | 41/600 [22:22<5:00:37, 32.27s/it, v_num=yw_1, total_loss_train=472, kl_local_train=261, metric_mi|age_categorical_train=0.362]"
     ]
    },
    {
     "name": "stdout",
     "output_type": "stream",
     "text": [
      "\r\n",
      "Epoch 42/600:   7%|▋         | 41/600 [22:22<5:00:37, 32.27s/it, v_num=yw_1, total_loss_train=472, kl_local_train=261, metric_mi|age_categorical_train=0.362]"
     ]
    },
    {
     "name": "stdout",
     "output_type": "stream",
     "text": [
      "\r\n",
      "Epoch 42/600:   7%|▋         | 42/600 [22:54<4:59:02, 32.16s/it, v_num=yw_1, total_loss_train=472, kl_local_train=261, metric_mi|age_categorical_train=0.362]"
     ]
    },
    {
     "name": "stdout",
     "output_type": "stream",
     "text": [
      "\r\n",
      "Epoch 42/600:   7%|▋         | 42/600 [22:54<4:59:02, 32.16s/it, v_num=yw_1, total_loss_train=473, kl_local_train=258, metric_mi|age_categorical_train=0.362]"
     ]
    },
    {
     "name": "stdout",
     "output_type": "stream",
     "text": [
      "\r\n",
      "Epoch 43/600:   7%|▋         | 42/600 [22:54<4:59:02, 32.16s/it, v_num=yw_1, total_loss_train=473, kl_local_train=258, metric_mi|age_categorical_train=0.362]"
     ]
    },
    {
     "name": "stdout",
     "output_type": "stream",
     "text": [
      "\r\n",
      "Epoch 43/600:   7%|▋         | 43/600 [23:26<4:57:51, 32.09s/it, v_num=yw_1, total_loss_train=473, kl_local_train=258, metric_mi|age_categorical_train=0.362]"
     ]
    },
    {
     "name": "stdout",
     "output_type": "stream",
     "text": [
      "\r\n",
      "Epoch 43/600:   7%|▋         | 43/600 [23:26<4:57:51, 32.09s/it, v_num=yw_1, total_loss_train=475, kl_local_train=252, metric_mi|age_categorical_train=0.362]"
     ]
    },
    {
     "name": "stdout",
     "output_type": "stream",
     "text": [
      "\r\n",
      "Epoch 44/600:   7%|▋         | 43/600 [23:26<4:57:51, 32.09s/it, v_num=yw_1, total_loss_train=475, kl_local_train=252, metric_mi|age_categorical_train=0.362]"
     ]
    },
    {
     "name": "stdout",
     "output_type": "stream",
     "text": [
      "\r\n",
      "Epoch 44/600:   7%|▋         | 44/600 [23:58<4:57:13, 32.07s/it, v_num=yw_1, total_loss_train=475, kl_local_train=252, metric_mi|age_categorical_train=0.362]"
     ]
    },
    {
     "name": "stdout",
     "output_type": "stream",
     "text": [
      "\r\n",
      "Epoch 44/600:   7%|▋         | 44/600 [23:58<4:57:13, 32.07s/it, v_num=yw_1, total_loss_train=476, kl_local_train=248, metric_mi|age_categorical_train=0.362]"
     ]
    },
    {
     "name": "stdout",
     "output_type": "stream",
     "text": [
      "\r\n",
      "Epoch 45/600:   7%|▋         | 44/600 [23:58<4:57:13, 32.07s/it, v_num=yw_1, total_loss_train=476, kl_local_train=248, metric_mi|age_categorical_train=0.362]"
     ]
    },
    {
     "name": "stdout",
     "output_type": "stream",
     "text": [
      "\r\n",
      "Epoch 45/600:   8%|▊         | 45/600 [24:30<4:58:03, 32.22s/it, v_num=yw_1, total_loss_train=476, kl_local_train=248, metric_mi|age_categorical_train=0.362]"
     ]
    },
    {
     "name": "stdout",
     "output_type": "stream",
     "text": [
      "\r\n",
      "Epoch 45/600:   8%|▊         | 45/600 [24:30<4:58:03, 32.22s/it, v_num=yw_1, total_loss_train=479, kl_local_train=251, metric_mi|age_categorical_train=0.362]"
     ]
    },
    {
     "name": "stdout",
     "output_type": "stream",
     "text": [
      "\r\n",
      "Epoch 46/600:   8%|▊         | 45/600 [24:31<4:58:03, 32.22s/it, v_num=yw_1, total_loss_train=479, kl_local_train=251, metric_mi|age_categorical_train=0.362]"
     ]
    },
    {
     "name": "stdout",
     "output_type": "stream",
     "text": [
      "\r\n",
      "Epoch 46/600:   8%|▊         | 46/600 [25:03<4:58:46, 32.36s/it, v_num=yw_1, total_loss_train=479, kl_local_train=251, metric_mi|age_categorical_train=0.362]"
     ]
    },
    {
     "name": "stdout",
     "output_type": "stream",
     "text": [
      "\r\n",
      "Epoch 46/600:   8%|▊         | 46/600 [25:03<4:58:46, 32.36s/it, v_num=yw_1, total_loss_train=480, kl_local_train=255, metric_mi|age_categorical_train=0.368]"
     ]
    },
    {
     "name": "stdout",
     "output_type": "stream",
     "text": [
      "\r\n",
      "Epoch 47/600:   8%|▊         | 46/600 [25:03<4:58:46, 32.36s/it, v_num=yw_1, total_loss_train=480, kl_local_train=255, metric_mi|age_categorical_train=0.368]"
     ]
    },
    {
     "name": "stdout",
     "output_type": "stream",
     "text": [
      "\r\n",
      "Epoch 47/600:   8%|▊         | 47/600 [25:35<4:57:14, 32.25s/it, v_num=yw_1, total_loss_train=480, kl_local_train=255, metric_mi|age_categorical_train=0.368]"
     ]
    },
    {
     "name": "stdout",
     "output_type": "stream",
     "text": [
      "\r\n",
      "Epoch 47/600:   8%|▊         | 47/600 [25:35<4:57:14, 32.25s/it, v_num=yw_1, total_loss_train=482, kl_local_train=254, metric_mi|age_categorical_train=0.368]"
     ]
    },
    {
     "name": "stdout",
     "output_type": "stream",
     "text": [
      "\r\n",
      "Epoch 48/600:   8%|▊         | 47/600 [25:35<4:57:14, 32.25s/it, v_num=yw_1, total_loss_train=482, kl_local_train=254, metric_mi|age_categorical_train=0.368]"
     ]
    },
    {
     "name": "stdout",
     "output_type": "stream",
     "text": [
      "\r\n",
      "Epoch 48/600:   8%|▊         | 48/600 [26:07<4:55:45, 32.15s/it, v_num=yw_1, total_loss_train=482, kl_local_train=254, metric_mi|age_categorical_train=0.368]"
     ]
    },
    {
     "name": "stdout",
     "output_type": "stream",
     "text": [
      "\r\n",
      "Epoch 48/600:   8%|▊         | 48/600 [26:07<4:55:45, 32.15s/it, v_num=yw_1, total_loss_train=484, kl_local_train=252, metric_mi|age_categorical_train=0.368]"
     ]
    },
    {
     "name": "stdout",
     "output_type": "stream",
     "text": [
      "\r\n",
      "Epoch 49/600:   8%|▊         | 48/600 [26:07<4:55:45, 32.15s/it, v_num=yw_1, total_loss_train=484, kl_local_train=252, metric_mi|age_categorical_train=0.368]"
     ]
    },
    {
     "name": "stdout",
     "output_type": "stream",
     "text": [
      "\r\n",
      "Epoch 49/600:   8%|▊         | 49/600 [26:39<4:54:34, 32.08s/it, v_num=yw_1, total_loss_train=484, kl_local_train=252, metric_mi|age_categorical_train=0.368]"
     ]
    },
    {
     "name": "stdout",
     "output_type": "stream",
     "text": [
      "\r\n",
      "Epoch 49/600:   8%|▊         | 49/600 [26:39<4:54:34, 32.08s/it, v_num=yw_1, total_loss_train=485, kl_local_train=247, metric_mi|age_categorical_train=0.368]"
     ]
    },
    {
     "name": "stdout",
     "output_type": "stream",
     "text": [
      "\r\n",
      "Epoch 50/600:   8%|▊         | 49/600 [26:39<4:54:34, 32.08s/it, v_num=yw_1, total_loss_train=485, kl_local_train=247, metric_mi|age_categorical_train=0.368]"
     ]
    },
    {
     "name": "stdout",
     "output_type": "stream",
     "text": [
      "\r\n",
      "Epoch 50/600:   8%|▊         | 50/600 [27:11<4:55:03, 32.19s/it, v_num=yw_1, total_loss_train=485, kl_local_train=247, metric_mi|age_categorical_train=0.368]"
     ]
    },
    {
     "name": "stdout",
     "output_type": "stream",
     "text": [
      "\r\n",
      "Epoch 50/600:   8%|▊         | 50/600 [27:11<4:55:03, 32.19s/it, v_num=yw_1, total_loss_train=487, kl_local_train=252, metric_mi|age_categorical_train=0.368]"
     ]
    },
    {
     "name": "stdout",
     "output_type": "stream",
     "text": [
      "\r\n",
      "Epoch 51/600:   8%|▊         | 50/600 [27:12<4:55:03, 32.19s/it, v_num=yw_1, total_loss_train=487, kl_local_train=252, metric_mi|age_categorical_train=0.368]"
     ]
    },
    {
     "name": "stdout",
     "output_type": "stream",
     "text": [
      "\r\n",
      "Epoch 51/600:   8%|▊         | 51/600 [27:44<4:55:45, 32.32s/it, v_num=yw_1, total_loss_train=487, kl_local_train=252, metric_mi|age_categorical_train=0.368]"
     ]
    },
    {
     "name": "stdout",
     "output_type": "stream",
     "text": [
      "\r\n",
      "Epoch 51/600:   8%|▊         | 51/600 [27:44<4:55:45, 32.32s/it, v_num=yw_1, total_loss_train=488, kl_local_train=251, metric_mi|age_categorical_train=0.354]"
     ]
    },
    {
     "name": "stdout",
     "output_type": "stream",
     "text": [
      "\r\n",
      "Epoch 52/600:   8%|▊         | 51/600 [27:44<4:55:45, 32.32s/it, v_num=yw_1, total_loss_train=488, kl_local_train=251, metric_mi|age_categorical_train=0.354]"
     ]
    },
    {
     "name": "stdout",
     "output_type": "stream",
     "text": [
      "\r\n",
      "Epoch 52/600:   9%|▊         | 52/600 [28:16<4:54:11, 32.21s/it, v_num=yw_1, total_loss_train=488, kl_local_train=251, metric_mi|age_categorical_train=0.354]"
     ]
    },
    {
     "name": "stdout",
     "output_type": "stream",
     "text": [
      "\r\n",
      "Epoch 52/600:   9%|▊         | 52/600 [28:16<4:54:11, 32.21s/it, v_num=yw_1, total_loss_train=487, kl_local_train=247, metric_mi|age_categorical_train=0.354]"
     ]
    },
    {
     "name": "stdout",
     "output_type": "stream",
     "text": [
      "\r\n",
      "Epoch 53/600:   9%|▊         | 52/600 [28:16<4:54:11, 32.21s/it, v_num=yw_1, total_loss_train=487, kl_local_train=247, metric_mi|age_categorical_train=0.354]"
     ]
    },
    {
     "name": "stdout",
     "output_type": "stream",
     "text": [
      "\r\n",
      "Epoch 53/600:   9%|▉         | 53/600 [28:48<4:52:46, 32.11s/it, v_num=yw_1, total_loss_train=487, kl_local_train=247, metric_mi|age_categorical_train=0.354]"
     ]
    },
    {
     "name": "stdout",
     "output_type": "stream",
     "text": [
      "\r\n",
      "Epoch 53/600:   9%|▉         | 53/600 [28:48<4:52:46, 32.11s/it, v_num=yw_1, total_loss_train=487, kl_local_train=243, metric_mi|age_categorical_train=0.354]"
     ]
    },
    {
     "name": "stdout",
     "output_type": "stream",
     "text": [
      "\r\n",
      "Epoch 54/600:   9%|▉         | 53/600 [28:48<4:52:46, 32.11s/it, v_num=yw_1, total_loss_train=487, kl_local_train=243, metric_mi|age_categorical_train=0.354]"
     ]
    },
    {
     "name": "stdout",
     "output_type": "stream",
     "text": [
      "\r\n",
      "Epoch 54/600:   9%|▉         | 54/600 [29:20<4:51:48, 32.07s/it, v_num=yw_1, total_loss_train=487, kl_local_train=243, metric_mi|age_categorical_train=0.354]"
     ]
    },
    {
     "name": "stdout",
     "output_type": "stream",
     "text": [
      "\r\n",
      "Epoch 54/600:   9%|▉         | 54/600 [29:20<4:51:48, 32.07s/it, v_num=yw_1, total_loss_train=487, kl_local_train=243, metric_mi|age_categorical_train=0.354]"
     ]
    },
    {
     "name": "stdout",
     "output_type": "stream",
     "text": [
      "\r\n",
      "Epoch 55/600:   9%|▉         | 54/600 [29:20<4:51:48, 32.07s/it, v_num=yw_1, total_loss_train=487, kl_local_train=243, metric_mi|age_categorical_train=0.354]"
     ]
    },
    {
     "name": "stdout",
     "output_type": "stream",
     "text": [
      "\r\n",
      "Epoch 55/600:   9%|▉         | 55/600 [29:52<4:52:28, 32.20s/it, v_num=yw_1, total_loss_train=487, kl_local_train=243, metric_mi|age_categorical_train=0.354]"
     ]
    },
    {
     "name": "stdout",
     "output_type": "stream",
     "text": [
      "\r\n",
      "Epoch 55/600:   9%|▉         | 55/600 [29:52<4:52:28, 32.20s/it, v_num=yw_1, total_loss_train=487, kl_local_train=240, metric_mi|age_categorical_train=0.354]"
     ]
    },
    {
     "name": "stdout",
     "output_type": "stream",
     "text": [
      "\r\n",
      "Epoch 56/600:   9%|▉         | 55/600 [29:53<4:52:28, 32.20s/it, v_num=yw_1, total_loss_train=487, kl_local_train=240, metric_mi|age_categorical_train=0.354]"
     ]
    },
    {
     "name": "stdout",
     "output_type": "stream",
     "text": [
      "\r\n",
      "Epoch 56/600:   9%|▉         | 56/600 [30:25<4:53:22, 32.36s/it, v_num=yw_1, total_loss_train=487, kl_local_train=240, metric_mi|age_categorical_train=0.354]"
     ]
    },
    {
     "name": "stdout",
     "output_type": "stream",
     "text": [
      "\r\n",
      "Epoch 56/600:   9%|▉         | 56/600 [30:25<4:53:22, 32.36s/it, v_num=yw_1, total_loss_train=487, kl_local_train=237, metric_mi|age_categorical_train=0.375]"
     ]
    },
    {
     "name": "stdout",
     "output_type": "stream",
     "text": [
      "\r\n",
      "Epoch 57/600:   9%|▉         | 56/600 [30:25<4:53:22, 32.36s/it, v_num=yw_1, total_loss_train=487, kl_local_train=237, metric_mi|age_categorical_train=0.375]"
     ]
    },
    {
     "name": "stdout",
     "output_type": "stream",
     "text": [
      "\r\n",
      "Epoch 57/600:  10%|▉         | 57/600 [30:57<4:51:59, 32.26s/it, v_num=yw_1, total_loss_train=487, kl_local_train=237, metric_mi|age_categorical_train=0.375]"
     ]
    },
    {
     "name": "stdout",
     "output_type": "stream",
     "text": [
      "\r\n",
      "Epoch 57/600:  10%|▉         | 57/600 [30:57<4:51:59, 32.26s/it, v_num=yw_1, total_loss_train=487, kl_local_train=232, metric_mi|age_categorical_train=0.375]"
     ]
    },
    {
     "name": "stdout",
     "output_type": "stream",
     "text": [
      "\r\n",
      "Epoch 58/600:  10%|▉         | 57/600 [30:57<4:51:59, 32.26s/it, v_num=yw_1, total_loss_train=487, kl_local_train=232, metric_mi|age_categorical_train=0.375]"
     ]
    },
    {
     "name": "stdout",
     "output_type": "stream",
     "text": [
      "\r\n",
      "Epoch 58/600:  10%|▉         | 58/600 [31:29<4:51:02, 32.22s/it, v_num=yw_1, total_loss_train=487, kl_local_train=232, metric_mi|age_categorical_train=0.375]"
     ]
    },
    {
     "name": "stdout",
     "output_type": "stream",
     "text": [
      "\r\n",
      "Epoch 58/600:  10%|▉         | 58/600 [31:29<4:51:02, 32.22s/it, v_num=yw_1, total_loss_train=487, kl_local_train=230, metric_mi|age_categorical_train=0.375]"
     ]
    },
    {
     "name": "stdout",
     "output_type": "stream",
     "text": [
      "\r\n",
      "Epoch 59/600:  10%|▉         | 58/600 [31:29<4:51:02, 32.22s/it, v_num=yw_1, total_loss_train=487, kl_local_train=230, metric_mi|age_categorical_train=0.375]"
     ]
    },
    {
     "name": "stdout",
     "output_type": "stream",
     "text": [
      "\r\n",
      "Epoch 59/600:  10%|▉         | 59/600 [32:01<4:50:35, 32.23s/it, v_num=yw_1, total_loss_train=487, kl_local_train=230, metric_mi|age_categorical_train=0.375]"
     ]
    },
    {
     "name": "stdout",
     "output_type": "stream",
     "text": [
      "\r\n",
      "Epoch 59/600:  10%|▉         | 59/600 [32:01<4:50:35, 32.23s/it, v_num=yw_1, total_loss_train=487, kl_local_train=232, metric_mi|age_categorical_train=0.375]"
     ]
    },
    {
     "name": "stdout",
     "output_type": "stream",
     "text": [
      "\r\n",
      "Epoch 60/600:  10%|▉         | 59/600 [32:01<4:50:35, 32.23s/it, v_num=yw_1, total_loss_train=487, kl_local_train=232, metric_mi|age_categorical_train=0.375]"
     ]
    },
    {
     "name": "stdout",
     "output_type": "stream",
     "text": [
      "\r\n",
      "Epoch 60/600:  10%|█         | 60/600 [32:34<4:51:00, 32.33s/it, v_num=yw_1, total_loss_train=487, kl_local_train=232, metric_mi|age_categorical_train=0.375]"
     ]
    },
    {
     "name": "stdout",
     "output_type": "stream",
     "text": [
      "\r\n",
      "Epoch 60/600:  10%|█         | 60/600 [32:34<4:51:00, 32.33s/it, v_num=yw_1, total_loss_train=487, kl_local_train=230, metric_mi|age_categorical_train=0.375]"
     ]
    },
    {
     "name": "stdout",
     "output_type": "stream",
     "text": [
      "\r\n",
      "Epoch 61/600:  10%|█         | 60/600 [32:35<4:51:00, 32.33s/it, v_num=yw_1, total_loss_train=487, kl_local_train=230, metric_mi|age_categorical_train=0.375]"
     ]
    },
    {
     "name": "stdout",
     "output_type": "stream",
     "text": [
      "\r\n",
      "Epoch 61/600:  10%|█         | 61/600 [33:07<4:51:52, 32.49s/it, v_num=yw_1, total_loss_train=487, kl_local_train=230, metric_mi|age_categorical_train=0.375]"
     ]
    },
    {
     "name": "stdout",
     "output_type": "stream",
     "text": [
      "\r\n",
      "Epoch 61/600:  10%|█         | 61/600 [33:07<4:51:52, 32.49s/it, v_num=yw_1, total_loss_train=488, kl_local_train=228, metric_mi|age_categorical_train=0.384]"
     ]
    },
    {
     "name": "stdout",
     "output_type": "stream",
     "text": [
      "\r\n",
      "Epoch 62/600:  10%|█         | 61/600 [33:07<4:51:52, 32.49s/it, v_num=yw_1, total_loss_train=488, kl_local_train=228, metric_mi|age_categorical_train=0.384]"
     ]
    },
    {
     "name": "stdout",
     "output_type": "stream",
     "text": [
      "\r\n",
      "Epoch 62/600:  10%|█         | 62/600 [33:39<4:51:09, 32.47s/it, v_num=yw_1, total_loss_train=488, kl_local_train=228, metric_mi|age_categorical_train=0.384]"
     ]
    },
    {
     "name": "stdout",
     "output_type": "stream",
     "text": [
      "\r\n",
      "Epoch 62/600:  10%|█         | 62/600 [33:39<4:51:09, 32.47s/it, v_num=yw_1, total_loss_train=487, kl_local_train=224, metric_mi|age_categorical_train=0.384]"
     ]
    },
    {
     "name": "stdout",
     "output_type": "stream",
     "text": [
      "\r\n",
      "Epoch 63/600:  10%|█         | 62/600 [33:39<4:51:09, 32.47s/it, v_num=yw_1, total_loss_train=487, kl_local_train=224, metric_mi|age_categorical_train=0.384]"
     ]
    },
    {
     "name": "stdout",
     "output_type": "stream",
     "text": [
      "\r\n",
      "Epoch 63/600:  10%|█         | 63/600 [34:11<4:48:48, 32.27s/it, v_num=yw_1, total_loss_train=487, kl_local_train=224, metric_mi|age_categorical_train=0.384]"
     ]
    },
    {
     "name": "stdout",
     "output_type": "stream",
     "text": [
      "\r\n",
      "Epoch 63/600:  10%|█         | 63/600 [34:11<4:48:48, 32.27s/it, v_num=yw_1, total_loss_train=488, kl_local_train=224, metric_mi|age_categorical_train=0.384]"
     ]
    },
    {
     "name": "stdout",
     "output_type": "stream",
     "text": [
      "\r\n",
      "Epoch 64/600:  10%|█         | 63/600 [34:11<4:48:48, 32.27s/it, v_num=yw_1, total_loss_train=488, kl_local_train=224, metric_mi|age_categorical_train=0.384]"
     ]
    },
    {
     "name": "stdout",
     "output_type": "stream",
     "text": [
      "\r\n",
      "Epoch 64/600:  11%|█         | 64/600 [34:43<4:47:50, 32.22s/it, v_num=yw_1, total_loss_train=488, kl_local_train=224, metric_mi|age_categorical_train=0.384]"
     ]
    },
    {
     "name": "stdout",
     "output_type": "stream",
     "text": [
      "\r\n",
      "Epoch 64/600:  11%|█         | 64/600 [34:43<4:47:50, 32.22s/it, v_num=yw_1, total_loss_train=488, kl_local_train=223, metric_mi|age_categorical_train=0.384]"
     ]
    },
    {
     "name": "stdout",
     "output_type": "stream",
     "text": [
      "\r\n",
      "Epoch 65/600:  11%|█         | 64/600 [34:43<4:47:50, 32.22s/it, v_num=yw_1, total_loss_train=488, kl_local_train=223, metric_mi|age_categorical_train=0.384]"
     ]
    },
    {
     "name": "stdout",
     "output_type": "stream",
     "text": [
      "\r\n",
      "Epoch 65/600:  11%|█         | 65/600 [35:16<4:48:18, 32.33s/it, v_num=yw_1, total_loss_train=488, kl_local_train=223, metric_mi|age_categorical_train=0.384]"
     ]
    },
    {
     "name": "stdout",
     "output_type": "stream",
     "text": [
      "\r\n",
      "Epoch 65/600:  11%|█         | 65/600 [35:16<4:48:18, 32.33s/it, v_num=yw_1, total_loss_train=488, kl_local_train=220, metric_mi|age_categorical_train=0.384]"
     ]
    },
    {
     "name": "stdout",
     "output_type": "stream",
     "text": [
      "\r\n",
      "Epoch 66/600:  11%|█         | 65/600 [35:16<4:48:18, 32.33s/it, v_num=yw_1, total_loss_train=488, kl_local_train=220, metric_mi|age_categorical_train=0.384]"
     ]
    },
    {
     "name": "stdout",
     "output_type": "stream",
     "text": [
      "\r\n",
      "Epoch 66/600:  11%|█         | 66/600 [35:48<4:49:07, 32.49s/it, v_num=yw_1, total_loss_train=488, kl_local_train=220, metric_mi|age_categorical_train=0.384]"
     ]
    },
    {
     "name": "stdout",
     "output_type": "stream",
     "text": [
      "\r\n",
      "Epoch 66/600:  11%|█         | 66/600 [35:48<4:49:07, 32.49s/it, v_num=yw_1, total_loss_train=488, kl_local_train=217, metric_mi|age_categorical_train=0.387]"
     ]
    },
    {
     "name": "stdout",
     "output_type": "stream",
     "text": [
      "\r\n",
      "Epoch 67/600:  11%|█         | 66/600 [35:48<4:49:07, 32.49s/it, v_num=yw_1, total_loss_train=488, kl_local_train=217, metric_mi|age_categorical_train=0.387]"
     ]
    },
    {
     "name": "stdout",
     "output_type": "stream",
     "text": [
      "\r\n",
      "Epoch 67/600:  11%|█         | 67/600 [36:20<4:47:26, 32.36s/it, v_num=yw_1, total_loss_train=488, kl_local_train=217, metric_mi|age_categorical_train=0.387]"
     ]
    },
    {
     "name": "stdout",
     "output_type": "stream",
     "text": [
      "\r\n",
      "Epoch 67/600:  11%|█         | 67/600 [36:21<4:47:26, 32.36s/it, v_num=yw_1, total_loss_train=487, kl_local_train=214, metric_mi|age_categorical_train=0.387]"
     ]
    },
    {
     "name": "stdout",
     "output_type": "stream",
     "text": [
      "\r\n",
      "Epoch 68/600:  11%|█         | 67/600 [36:21<4:47:26, 32.36s/it, v_num=yw_1, total_loss_train=487, kl_local_train=214, metric_mi|age_categorical_train=0.387]"
     ]
    },
    {
     "name": "stdout",
     "output_type": "stream",
     "text": [
      "\r\n",
      "Epoch 68/600:  11%|█▏        | 68/600 [36:52<4:45:51, 32.24s/it, v_num=yw_1, total_loss_train=487, kl_local_train=214, metric_mi|age_categorical_train=0.387]"
     ]
    },
    {
     "name": "stdout",
     "output_type": "stream",
     "text": [
      "\r\n",
      "Epoch 68/600:  11%|█▏        | 68/600 [36:52<4:45:51, 32.24s/it, v_num=yw_1, total_loss_train=488, kl_local_train=213, metric_mi|age_categorical_train=0.387]"
     ]
    },
    {
     "name": "stdout",
     "output_type": "stream",
     "text": [
      "\r\n",
      "Epoch 69/600:  11%|█▏        | 68/600 [36:52<4:45:51, 32.24s/it, v_num=yw_1, total_loss_train=488, kl_local_train=213, metric_mi|age_categorical_train=0.387]"
     ]
    },
    {
     "name": "stdout",
     "output_type": "stream",
     "text": [
      "\r\n",
      "Epoch 69/600:  12%|█▏        | 69/600 [37:24<4:44:39, 32.16s/it, v_num=yw_1, total_loss_train=488, kl_local_train=213, metric_mi|age_categorical_train=0.387]"
     ]
    },
    {
     "name": "stdout",
     "output_type": "stream",
     "text": [
      "\r\n",
      "Epoch 69/600:  12%|█▏        | 69/600 [37:24<4:44:39, 32.16s/it, v_num=yw_1, total_loss_train=488, kl_local_train=215, metric_mi|age_categorical_train=0.387]"
     ]
    },
    {
     "name": "stdout",
     "output_type": "stream",
     "text": [
      "\r\n",
      "Epoch 70/600:  12%|█▏        | 69/600 [37:24<4:44:39, 32.16s/it, v_num=yw_1, total_loss_train=488, kl_local_train=215, metric_mi|age_categorical_train=0.387]"
     ]
    },
    {
     "name": "stdout",
     "output_type": "stream",
     "text": [
      "\r\n",
      "Epoch 70/600:  12%|█▏        | 70/600 [37:57<4:44:39, 32.23s/it, v_num=yw_1, total_loss_train=488, kl_local_train=215, metric_mi|age_categorical_train=0.387]"
     ]
    },
    {
     "name": "stdout",
     "output_type": "stream",
     "text": [
      "\r\n",
      "Epoch 70/600:  12%|█▏        | 70/600 [37:57<4:44:39, 32.23s/it, v_num=yw_1, total_loss_train=488, kl_local_train=213, metric_mi|age_categorical_train=0.387]"
     ]
    },
    {
     "name": "stdout",
     "output_type": "stream",
     "text": [
      "\r\n",
      "Epoch 71/600:  12%|█▏        | 70/600 [37:58<4:44:39, 32.23s/it, v_num=yw_1, total_loss_train=488, kl_local_train=213, metric_mi|age_categorical_train=0.387]"
     ]
    },
    {
     "name": "stdout",
     "output_type": "stream",
     "text": [
      "\r\n",
      "Epoch 71/600:  12%|█▏        | 71/600 [38:30<4:45:34, 32.39s/it, v_num=yw_1, total_loss_train=488, kl_local_train=213, metric_mi|age_categorical_train=0.387]"
     ]
    },
    {
     "name": "stdout",
     "output_type": "stream",
     "text": [
      "\r\n",
      "Epoch 71/600:  12%|█▏        | 71/600 [38:30<4:45:34, 32.39s/it, v_num=yw_1, total_loss_train=488, kl_local_train=211, metric_mi|age_categorical_train=0.371]"
     ]
    },
    {
     "name": "stdout",
     "output_type": "stream",
     "text": [
      "\r\n",
      "Epoch 72/600:  12%|█▏        | 71/600 [38:30<4:45:34, 32.39s/it, v_num=yw_1, total_loss_train=488, kl_local_train=211, metric_mi|age_categorical_train=0.371]"
     ]
    },
    {
     "name": "stdout",
     "output_type": "stream",
     "text": [
      "\r\n",
      "Epoch 72/600:  12%|█▏        | 72/600 [39:02<4:44:12, 32.30s/it, v_num=yw_1, total_loss_train=488, kl_local_train=211, metric_mi|age_categorical_train=0.371]"
     ]
    },
    {
     "name": "stdout",
     "output_type": "stream",
     "text": [
      "\r\n",
      "Epoch 72/600:  12%|█▏        | 72/600 [39:02<4:44:12, 32.30s/it, v_num=yw_1, total_loss_train=488, kl_local_train=209, metric_mi|age_categorical_train=0.371]"
     ]
    },
    {
     "name": "stdout",
     "output_type": "stream",
     "text": [
      "\r\n",
      "Epoch 73/600:  12%|█▏        | 72/600 [39:02<4:44:12, 32.30s/it, v_num=yw_1, total_loss_train=488, kl_local_train=209, metric_mi|age_categorical_train=0.371]"
     ]
    },
    {
     "name": "stdout",
     "output_type": "stream",
     "text": [
      "\r\n",
      "Epoch 73/600:  12%|█▏        | 73/600 [39:34<4:43:17, 32.25s/it, v_num=yw_1, total_loss_train=488, kl_local_train=209, metric_mi|age_categorical_train=0.371]"
     ]
    },
    {
     "name": "stdout",
     "output_type": "stream",
     "text": [
      "\r\n",
      "Epoch 73/600:  12%|█▏        | 73/600 [39:34<4:43:17, 32.25s/it, v_num=yw_1, total_loss_train=488, kl_local_train=206, metric_mi|age_categorical_train=0.371]"
     ]
    },
    {
     "name": "stdout",
     "output_type": "stream",
     "text": [
      "\r\n",
      "Epoch 74/600:  12%|█▏        | 73/600 [39:34<4:43:17, 32.25s/it, v_num=yw_1, total_loss_train=488, kl_local_train=206, metric_mi|age_categorical_train=0.371]"
     ]
    },
    {
     "name": "stdout",
     "output_type": "stream",
     "text": [
      "\r\n",
      "Epoch 74/600:  12%|█▏        | 74/600 [40:06<4:42:12, 32.19s/it, v_num=yw_1, total_loss_train=488, kl_local_train=206, metric_mi|age_categorical_train=0.371]"
     ]
    },
    {
     "name": "stdout",
     "output_type": "stream",
     "text": [
      "\r\n",
      "Epoch 74/600:  12%|█▏        | 74/600 [40:06<4:42:12, 32.19s/it, v_num=yw_1, total_loss_train=488, kl_local_train=204, metric_mi|age_categorical_train=0.371]"
     ]
    },
    {
     "name": "stdout",
     "output_type": "stream",
     "text": [
      "\r\n",
      "Epoch 75/600:  12%|█▏        | 74/600 [40:06<4:42:12, 32.19s/it, v_num=yw_1, total_loss_train=488, kl_local_train=204, metric_mi|age_categorical_train=0.371]"
     ]
    },
    {
     "name": "stdout",
     "output_type": "stream",
     "text": [
      "\r\n",
      "Epoch 75/600:  12%|█▎        | 75/600 [40:38<4:42:35, 32.30s/it, v_num=yw_1, total_loss_train=488, kl_local_train=204, metric_mi|age_categorical_train=0.371]"
     ]
    },
    {
     "name": "stdout",
     "output_type": "stream",
     "text": [
      "\r\n",
      "Epoch 75/600:  12%|█▎        | 75/600 [40:38<4:42:35, 32.30s/it, v_num=yw_1, total_loss_train=488, kl_local_train=202, metric_mi|age_categorical_train=0.371]"
     ]
    },
    {
     "name": "stdout",
     "output_type": "stream",
     "text": [
      "\r\n",
      "Epoch 76/600:  12%|█▎        | 75/600 [40:39<4:42:35, 32.30s/it, v_num=yw_1, total_loss_train=488, kl_local_train=202, metric_mi|age_categorical_train=0.371]"
     ]
    },
    {
     "name": "stdout",
     "output_type": "stream",
     "text": [
      "\r\n",
      "Epoch 76/600:  13%|█▎        | 76/600 [41:11<4:43:10, 32.42s/it, v_num=yw_1, total_loss_train=488, kl_local_train=202, metric_mi|age_categorical_train=0.371]"
     ]
    },
    {
     "name": "stdout",
     "output_type": "stream",
     "text": [
      "\r\n",
      "Epoch 76/600:  13%|█▎        | 76/600 [41:11<4:43:10, 32.42s/it, v_num=yw_1, total_loss_train=488, kl_local_train=202, metric_mi|age_categorical_train=0.354]"
     ]
    },
    {
     "name": "stdout",
     "output_type": "stream",
     "text": [
      "\r\n",
      "Epoch 77/600:  13%|█▎        | 76/600 [41:11<4:43:10, 32.42s/it, v_num=yw_1, total_loss_train=488, kl_local_train=202, metric_mi|age_categorical_train=0.354]"
     ]
    },
    {
     "name": "stdout",
     "output_type": "stream",
     "text": [
      "\r\n",
      "Epoch 77/600:  13%|█▎        | 77/600 [41:43<4:41:45, 32.32s/it, v_num=yw_1, total_loss_train=488, kl_local_train=202, metric_mi|age_categorical_train=0.354]"
     ]
    },
    {
     "name": "stdout",
     "output_type": "stream",
     "text": [
      "\r\n",
      "Epoch 77/600:  13%|█▎        | 77/600 [41:43<4:41:45, 32.32s/it, v_num=yw_1, total_loss_train=488, kl_local_train=202, metric_mi|age_categorical_train=0.354]"
     ]
    },
    {
     "name": "stdout",
     "output_type": "stream",
     "text": [
      "\r\n",
      "Epoch 78/600:  13%|█▎        | 77/600 [41:43<4:41:45, 32.32s/it, v_num=yw_1, total_loss_train=488, kl_local_train=202, metric_mi|age_categorical_train=0.354]"
     ]
    },
    {
     "name": "stdout",
     "output_type": "stream",
     "text": [
      "\r\n",
      "Epoch 78/600:  13%|█▎        | 78/600 [42:15<4:40:41, 32.26s/it, v_num=yw_1, total_loss_train=488, kl_local_train=202, metric_mi|age_categorical_train=0.354]"
     ]
    },
    {
     "name": "stdout",
     "output_type": "stream",
     "text": [
      "\r\n",
      "Epoch 78/600:  13%|█▎        | 78/600 [42:15<4:40:41, 32.26s/it, v_num=yw_1, total_loss_train=489, kl_local_train=200, metric_mi|age_categorical_train=0.354]"
     ]
    },
    {
     "name": "stdout",
     "output_type": "stream",
     "text": [
      "\r\n",
      "Epoch 79/600:  13%|█▎        | 78/600 [42:15<4:40:41, 32.26s/it, v_num=yw_1, total_loss_train=489, kl_local_train=200, metric_mi|age_categorical_train=0.354]"
     ]
    },
    {
     "name": "stdout",
     "output_type": "stream",
     "text": [
      "\r\n",
      "Epoch 79/600:  13%|█▎        | 79/600 [42:48<4:40:08, 32.26s/it, v_num=yw_1, total_loss_train=489, kl_local_train=200, metric_mi|age_categorical_train=0.354]"
     ]
    },
    {
     "name": "stdout",
     "output_type": "stream",
     "text": [
      "\r\n",
      "Epoch 79/600:  13%|█▎        | 79/600 [42:48<4:40:08, 32.26s/it, v_num=yw_1, total_loss_train=489, kl_local_train=201, metric_mi|age_categorical_train=0.354]"
     ]
    },
    {
     "name": "stdout",
     "output_type": "stream",
     "text": [
      "\r\n",
      "Epoch 80/600:  13%|█▎        | 79/600 [42:48<4:40:08, 32.26s/it, v_num=yw_1, total_loss_train=489, kl_local_train=201, metric_mi|age_categorical_train=0.354]"
     ]
    },
    {
     "name": "stdout",
     "output_type": "stream",
     "text": [
      "\r\n",
      "Epoch 80/600:  13%|█▎        | 80/600 [43:20<4:40:07, 32.32s/it, v_num=yw_1, total_loss_train=489, kl_local_train=201, metric_mi|age_categorical_train=0.354]"
     ]
    },
    {
     "name": "stdout",
     "output_type": "stream",
     "text": [
      "\r\n",
      "Epoch 80/600:  13%|█▎        | 80/600 [43:20<4:40:07, 32.32s/it, v_num=yw_1, total_loss_train=489, kl_local_train=199, metric_mi|age_categorical_train=0.354]"
     ]
    },
    {
     "name": "stdout",
     "output_type": "stream",
     "text": [
      "\r\n",
      "Epoch 81/600:  13%|█▎        | 80/600 [43:21<4:40:07, 32.32s/it, v_num=yw_1, total_loss_train=489, kl_local_train=199, metric_mi|age_categorical_train=0.354]"
     ]
    },
    {
     "name": "stdout",
     "output_type": "stream",
     "text": [
      "\r\n",
      "Epoch 81/600:  14%|█▎        | 81/600 [43:53<4:40:47, 32.46s/it, v_num=yw_1, total_loss_train=489, kl_local_train=199, metric_mi|age_categorical_train=0.354]"
     ]
    },
    {
     "name": "stdout",
     "output_type": "stream",
     "text": [
      "\r\n",
      "Epoch 81/600:  14%|█▎        | 81/600 [43:53<4:40:47, 32.46s/it, v_num=yw_1, total_loss_train=489, kl_local_train=197, metric_mi|age_categorical_train=0.38] "
     ]
    },
    {
     "name": "stdout",
     "output_type": "stream",
     "text": [
      "\r\n",
      "Epoch 82/600:  14%|█▎        | 81/600 [43:53<4:40:47, 32.46s/it, v_num=yw_1, total_loss_train=489, kl_local_train=197, metric_mi|age_categorical_train=0.38]"
     ]
    },
    {
     "name": "stdout",
     "output_type": "stream",
     "text": [
      "\r\n",
      "Epoch 82/600:  14%|█▎        | 82/600 [44:25<4:39:14, 32.35s/it, v_num=yw_1, total_loss_train=489, kl_local_train=197, metric_mi|age_categorical_train=0.38]"
     ]
    },
    {
     "name": "stdout",
     "output_type": "stream",
     "text": [
      "\r\n",
      "Epoch 82/600:  14%|█▎        | 82/600 [44:25<4:39:14, 32.35s/it, v_num=yw_1, total_loss_train=489, kl_local_train=195, metric_mi|age_categorical_train=0.38]"
     ]
    },
    {
     "name": "stdout",
     "output_type": "stream",
     "text": [
      "\r\n",
      "Epoch 83/600:  14%|█▎        | 82/600 [44:25<4:39:14, 32.35s/it, v_num=yw_1, total_loss_train=489, kl_local_train=195, metric_mi|age_categorical_train=0.38]"
     ]
    },
    {
     "name": "stdout",
     "output_type": "stream",
     "text": [
      "\r\n",
      "Epoch 83/600:  14%|█▍        | 83/600 [44:57<4:37:59, 32.26s/it, v_num=yw_1, total_loss_train=489, kl_local_train=195, metric_mi|age_categorical_train=0.38]"
     ]
    },
    {
     "name": "stdout",
     "output_type": "stream",
     "text": [
      "\r\n",
      "Epoch 83/600:  14%|█▍        | 83/600 [44:57<4:37:59, 32.26s/it, v_num=yw_1, total_loss_train=489, kl_local_train=196, metric_mi|age_categorical_train=0.38]"
     ]
    },
    {
     "name": "stdout",
     "output_type": "stream",
     "text": [
      "\r\n",
      "Epoch 84/600:  14%|█▍        | 83/600 [44:57<4:37:59, 32.26s/it, v_num=yw_1, total_loss_train=489, kl_local_train=196, metric_mi|age_categorical_train=0.38]"
     ]
    },
    {
     "name": "stdout",
     "output_type": "stream",
     "text": [
      "\r\n",
      "Epoch 84/600:  14%|█▍        | 84/600 [45:27<4:30:44, 31.48s/it, v_num=yw_1, total_loss_train=489, kl_local_train=196, metric_mi|age_categorical_train=0.38]"
     ]
    },
    {
     "name": "stdout",
     "output_type": "stream",
     "text": [
      "\r\n",
      "Epoch 84/600:  14%|█▍        | 84/600 [45:27<4:30:44, 31.48s/it, v_num=yw_1, total_loss_train=489, kl_local_train=195, metric_mi|age_categorical_train=0.38]"
     ]
    },
    {
     "name": "stdout",
     "output_type": "stream",
     "text": [
      "\r\n",
      "Epoch 85/600:  14%|█▍        | 84/600 [45:27<4:30:44, 31.48s/it, v_num=yw_1, total_loss_train=489, kl_local_train=195, metric_mi|age_categorical_train=0.38]"
     ]
    },
    {
     "name": "stdout",
     "output_type": "stream",
     "text": [
      "\r\n",
      "Epoch 85/600:  14%|█▍        | 85/600 [45:56<4:24:59, 30.87s/it, v_num=yw_1, total_loss_train=489, kl_local_train=195, metric_mi|age_categorical_train=0.38]"
     ]
    },
    {
     "name": "stdout",
     "output_type": "stream",
     "text": [
      "\r\n",
      "Epoch 85/600:  14%|█▍        | 85/600 [45:56<4:24:59, 30.87s/it, v_num=yw_1, total_loss_train=489, kl_local_train=193, metric_mi|age_categorical_train=0.38]"
     ]
    },
    {
     "name": "stdout",
     "output_type": "stream",
     "text": [
      "\r\n",
      "Epoch 86/600:  14%|█▍        | 85/600 [45:57<4:24:59, 30.87s/it, v_num=yw_1, total_loss_train=489, kl_local_train=193, metric_mi|age_categorical_train=0.38]"
     ]
    },
    {
     "name": "stdout",
     "output_type": "stream",
     "text": [
      "\r\n",
      "Epoch 86/600:  14%|█▍        | 86/600 [46:26<4:21:33, 30.53s/it, v_num=yw_1, total_loss_train=489, kl_local_train=193, metric_mi|age_categorical_train=0.38]"
     ]
    },
    {
     "name": "stdout",
     "output_type": "stream",
     "text": [
      "\r\n",
      "Epoch 86/600:  14%|█▍        | 86/600 [46:26<4:21:33, 30.53s/it, v_num=yw_1, total_loss_train=489, kl_local_train=190, metric_mi|age_categorical_train=0.356]"
     ]
    },
    {
     "name": "stdout",
     "output_type": "stream",
     "text": [
      "\r\n",
      "Epoch 87/600:  14%|█▍        | 86/600 [46:26<4:21:33, 30.53s/it, v_num=yw_1, total_loss_train=489, kl_local_train=190, metric_mi|age_categorical_train=0.356]"
     ]
    },
    {
     "name": "stdout",
     "output_type": "stream",
     "text": [
      "\r\n",
      "Epoch 87/600:  14%|█▍        | 87/600 [46:55<4:17:15, 30.09s/it, v_num=yw_1, total_loss_train=489, kl_local_train=190, metric_mi|age_categorical_train=0.356]"
     ]
    },
    {
     "name": "stdout",
     "output_type": "stream",
     "text": [
      "\r\n",
      "Epoch 87/600:  14%|█▍        | 87/600 [46:55<4:17:15, 30.09s/it, v_num=yw_1, total_loss_train=489, kl_local_train=190, metric_mi|age_categorical_train=0.356]"
     ]
    },
    {
     "name": "stdout",
     "output_type": "stream",
     "text": [
      "\r\n",
      "Epoch 88/600:  14%|█▍        | 87/600 [46:55<4:17:15, 30.09s/it, v_num=yw_1, total_loss_train=489, kl_local_train=190, metric_mi|age_categorical_train=0.356]"
     ]
    },
    {
     "name": "stdout",
     "output_type": "stream",
     "text": [
      "\r\n",
      "Epoch 88/600:  15%|█▍        | 88/600 [47:24<4:14:19, 29.80s/it, v_num=yw_1, total_loss_train=489, kl_local_train=190, metric_mi|age_categorical_train=0.356]"
     ]
    },
    {
     "name": "stdout",
     "output_type": "stream",
     "text": [
      "\r\n",
      "Epoch 88/600:  15%|█▍        | 88/600 [47:24<4:14:19, 29.80s/it, v_num=yw_1, total_loss_train=489, kl_local_train=188, metric_mi|age_categorical_train=0.356]"
     ]
    },
    {
     "name": "stdout",
     "output_type": "stream",
     "text": [
      "\r\n",
      "Epoch 89/600:  15%|█▍        | 88/600 [47:24<4:14:19, 29.80s/it, v_num=yw_1, total_loss_train=489, kl_local_train=188, metric_mi|age_categorical_train=0.356]"
     ]
    },
    {
     "name": "stdout",
     "output_type": "stream",
     "text": [
      "\r\n",
      "Epoch 89/600:  15%|█▍        | 89/600 [47:53<4:11:49, 29.57s/it, v_num=yw_1, total_loss_train=489, kl_local_train=188, metric_mi|age_categorical_train=0.356]"
     ]
    },
    {
     "name": "stdout",
     "output_type": "stream",
     "text": [
      "\r\n",
      "Epoch 89/600:  15%|█▍        | 89/600 [47:53<4:11:49, 29.57s/it, v_num=yw_1, total_loss_train=490, kl_local_train=188, metric_mi|age_categorical_train=0.356]"
     ]
    },
    {
     "name": "stdout",
     "output_type": "stream",
     "text": [
      "\r\n",
      "Epoch 90/600:  15%|█▍        | 89/600 [47:53<4:11:49, 29.57s/it, v_num=yw_1, total_loss_train=490, kl_local_train=188, metric_mi|age_categorical_train=0.356]"
     ]
    },
    {
     "name": "stdout",
     "output_type": "stream",
     "text": [
      "\r\n",
      "Epoch 90/600:  15%|█▌        | 90/600 [48:22<4:10:44, 29.50s/it, v_num=yw_1, total_loss_train=490, kl_local_train=188, metric_mi|age_categorical_train=0.356]"
     ]
    },
    {
     "name": "stdout",
     "output_type": "stream",
     "text": [
      "\r\n",
      "Epoch 90/600:  15%|█▌        | 90/600 [48:22<4:10:44, 29.50s/it, v_num=yw_1, total_loss_train=490, kl_local_train=190, metric_mi|age_categorical_train=0.356]"
     ]
    },
    {
     "name": "stdout",
     "output_type": "stream",
     "text": [
      "\r\n",
      "Epoch 91/600:  15%|█▌        | 90/600 [48:23<4:10:44, 29.50s/it, v_num=yw_1, total_loss_train=490, kl_local_train=190, metric_mi|age_categorical_train=0.356]"
     ]
    },
    {
     "name": "stdout",
     "output_type": "stream",
     "text": [
      "\r\n",
      "Epoch 91/600:  15%|█▌        | 91/600 [48:52<4:10:47, 29.56s/it, v_num=yw_1, total_loss_train=490, kl_local_train=190, metric_mi|age_categorical_train=0.356]"
     ]
    },
    {
     "name": "stdout",
     "output_type": "stream",
     "text": [
      "\r\n",
      "Epoch 91/600:  15%|█▌        | 91/600 [48:52<4:10:47, 29.56s/it, v_num=yw_1, total_loss_train=490, kl_local_train=188, metric_mi|age_categorical_train=0.363]"
     ]
    },
    {
     "name": "stdout",
     "output_type": "stream",
     "text": [
      "\r\n",
      "Epoch 92/600:  15%|█▌        | 91/600 [48:52<4:10:47, 29.56s/it, v_num=yw_1, total_loss_train=490, kl_local_train=188, metric_mi|age_categorical_train=0.363]"
     ]
    },
    {
     "name": "stdout",
     "output_type": "stream",
     "text": [
      "\r\n",
      "Epoch 92/600:  15%|█▌        | 92/600 [49:21<4:08:58, 29.41s/it, v_num=yw_1, total_loss_train=490, kl_local_train=188, metric_mi|age_categorical_train=0.363]"
     ]
    },
    {
     "name": "stdout",
     "output_type": "stream",
     "text": [
      "\r\n",
      "Epoch 92/600:  15%|█▌        | 92/600 [49:21<4:08:58, 29.41s/it, v_num=yw_1, total_loss_train=490, kl_local_train=185, metric_mi|age_categorical_train=0.363]"
     ]
    },
    {
     "name": "stdout",
     "output_type": "stream",
     "text": [
      "\r\n",
      "Epoch 93/600:  15%|█▌        | 92/600 [49:21<4:08:58, 29.41s/it, v_num=yw_1, total_loss_train=490, kl_local_train=185, metric_mi|age_categorical_train=0.363]"
     ]
    },
    {
     "name": "stdout",
     "output_type": "stream",
     "text": [
      "\r\n",
      "Epoch 93/600:  16%|█▌        | 93/600 [49:50<4:07:43, 29.32s/it, v_num=yw_1, total_loss_train=490, kl_local_train=185, metric_mi|age_categorical_train=0.363]"
     ]
    },
    {
     "name": "stdout",
     "output_type": "stream",
     "text": [
      "\r\n",
      "Epoch 93/600:  16%|█▌        | 93/600 [49:50<4:07:43, 29.32s/it, v_num=yw_1, total_loss_train=490, kl_local_train=184, metric_mi|age_categorical_train=0.363]"
     ]
    },
    {
     "name": "stdout",
     "output_type": "stream",
     "text": [
      "\r\n",
      "Epoch 94/600:  16%|█▌        | 93/600 [49:50<4:07:43, 29.32s/it, v_num=yw_1, total_loss_train=490, kl_local_train=184, metric_mi|age_categorical_train=0.363]"
     ]
    },
    {
     "name": "stdout",
     "output_type": "stream",
     "text": [
      "\r\n",
      "Epoch 94/600:  16%|█▌        | 94/600 [50:19<4:06:51, 29.27s/it, v_num=yw_1, total_loss_train=490, kl_local_train=184, metric_mi|age_categorical_train=0.363]"
     ]
    },
    {
     "name": "stdout",
     "output_type": "stream",
     "text": [
      "\r\n",
      "Epoch 94/600:  16%|█▌        | 94/600 [50:19<4:06:51, 29.27s/it, v_num=yw_1, total_loss_train=490, kl_local_train=184, metric_mi|age_categorical_train=0.363]"
     ]
    },
    {
     "name": "stdout",
     "output_type": "stream",
     "text": [
      "\r\n",
      "Epoch 95/600:  16%|█▌        | 94/600 [50:19<4:06:51, 29.27s/it, v_num=yw_1, total_loss_train=490, kl_local_train=184, metric_mi|age_categorical_train=0.363]"
     ]
    },
    {
     "name": "stdout",
     "output_type": "stream",
     "text": [
      "\r\n",
      "Epoch 95/600:  16%|█▌        | 95/600 [50:49<4:06:42, 29.31s/it, v_num=yw_1, total_loss_train=490, kl_local_train=184, metric_mi|age_categorical_train=0.363]"
     ]
    },
    {
     "name": "stdout",
     "output_type": "stream",
     "text": [
      "\r\n",
      "Epoch 95/600:  16%|█▌        | 95/600 [50:49<4:06:42, 29.31s/it, v_num=yw_1, total_loss_train=490, kl_local_train=182, metric_mi|age_categorical_train=0.363]"
     ]
    },
    {
     "name": "stdout",
     "output_type": "stream",
     "text": [
      "\r\n",
      "Epoch 96/600:  16%|█▌        | 95/600 [50:49<4:06:42, 29.31s/it, v_num=yw_1, total_loss_train=490, kl_local_train=182, metric_mi|age_categorical_train=0.363]"
     ]
    },
    {
     "name": "stdout",
     "output_type": "stream",
     "text": [
      "\r\n",
      "Epoch 96/600:  16%|█▌        | 96/600 [51:19<4:07:27, 29.46s/it, v_num=yw_1, total_loss_train=490, kl_local_train=182, metric_mi|age_categorical_train=0.363]"
     ]
    },
    {
     "name": "stdout",
     "output_type": "stream",
     "text": [
      "\r\n",
      "Epoch 96/600:  16%|█▌        | 96/600 [51:19<4:07:27, 29.46s/it, v_num=yw_1, total_loss_train=490, kl_local_train=181, metric_mi|age_categorical_train=0.368]"
     ]
    },
    {
     "name": "stdout",
     "output_type": "stream",
     "text": [
      "\r\n",
      "Epoch 97/600:  16%|█▌        | 96/600 [51:19<4:07:27, 29.46s/it, v_num=yw_1, total_loss_train=490, kl_local_train=181, metric_mi|age_categorical_train=0.368]"
     ]
    },
    {
     "name": "stdout",
     "output_type": "stream",
     "text": [
      "\r\n",
      "Epoch 97/600:  16%|█▌        | 97/600 [51:48<4:06:04, 29.35s/it, v_num=yw_1, total_loss_train=490, kl_local_train=181, metric_mi|age_categorical_train=0.368]"
     ]
    },
    {
     "name": "stdout",
     "output_type": "stream",
     "text": [
      "\r\n",
      "Epoch 97/600:  16%|█▌        | 97/600 [51:48<4:06:04, 29.35s/it, v_num=yw_1, total_loss_train=490, kl_local_train=180, metric_mi|age_categorical_train=0.368]"
     ]
    },
    {
     "name": "stdout",
     "output_type": "stream",
     "text": [
      "\r\n",
      "Epoch 98/600:  16%|█▌        | 97/600 [51:48<4:06:04, 29.35s/it, v_num=yw_1, total_loss_train=490, kl_local_train=180, metric_mi|age_categorical_train=0.368]"
     ]
    },
    {
     "name": "stdout",
     "output_type": "stream",
     "text": [
      "\r\n",
      "Epoch 98/600:  16%|█▋        | 98/600 [52:17<4:05:03, 29.29s/it, v_num=yw_1, total_loss_train=490, kl_local_train=180, metric_mi|age_categorical_train=0.368]"
     ]
    },
    {
     "name": "stdout",
     "output_type": "stream",
     "text": [
      "\r\n",
      "Epoch 98/600:  16%|█▋        | 98/600 [52:17<4:05:03, 29.29s/it, v_num=yw_1, total_loss_train=490, kl_local_train=180, metric_mi|age_categorical_train=0.368]"
     ]
    },
    {
     "name": "stdout",
     "output_type": "stream",
     "text": [
      "\r\n",
      "Epoch 99/600:  16%|█▋        | 98/600 [52:17<4:05:03, 29.29s/it, v_num=yw_1, total_loss_train=490, kl_local_train=180, metric_mi|age_categorical_train=0.368]"
     ]
    },
    {
     "name": "stdout",
     "output_type": "stream",
     "text": [
      "\r\n",
      "Epoch 99/600:  16%|█▋        | 99/600 [52:46<4:04:04, 29.23s/it, v_num=yw_1, total_loss_train=490, kl_local_train=180, metric_mi|age_categorical_train=0.368]"
     ]
    },
    {
     "name": "stdout",
     "output_type": "stream",
     "text": [
      "\r\n",
      "Epoch 99/600:  16%|█▋        | 99/600 [52:46<4:04:04, 29.23s/it, v_num=yw_1, total_loss_train=491, kl_local_train=178, metric_mi|age_categorical_train=0.368]"
     ]
    },
    {
     "name": "stdout",
     "output_type": "stream",
     "text": [
      "\r\n",
      "Epoch 100/600:  16%|█▋        | 99/600 [52:46<4:04:04, 29.23s/it, v_num=yw_1, total_loss_train=491, kl_local_train=178, metric_mi|age_categorical_train=0.368]"
     ]
    },
    {
     "name": "stdout",
     "output_type": "stream",
     "text": [
      "\r\n",
      "Epoch 100/600:  17%|█▋        | 100/600 [53:15<4:04:10, 29.30s/it, v_num=yw_1, total_loss_train=491, kl_local_train=178, metric_mi|age_categorical_train=0.368]"
     ]
    },
    {
     "name": "stdout",
     "output_type": "stream",
     "text": [
      "\r\n",
      "Epoch 100/600:  17%|█▋        | 100/600 [53:15<4:04:10, 29.30s/it, v_num=yw_1, total_loss_train=491, kl_local_train=178, metric_mi|age_categorical_train=0.368]"
     ]
    },
    {
     "name": "stdout",
     "output_type": "stream",
     "text": [
      "\r\n",
      "Epoch 101/600:  17%|█▋        | 100/600 [53:16<4:04:10, 29.30s/it, v_num=yw_1, total_loss_train=491, kl_local_train=178, metric_mi|age_categorical_train=0.368]"
     ]
    },
    {
     "name": "stdout",
     "output_type": "stream",
     "text": [
      "\r\n",
      "Epoch 101/600:  17%|█▋        | 101/600 [53:45<4:04:54, 29.45s/it, v_num=yw_1, total_loss_train=491, kl_local_train=178, metric_mi|age_categorical_train=0.368]"
     ]
    },
    {
     "name": "stdout",
     "output_type": "stream",
     "text": [
      "\r\n",
      "Epoch 101/600:  17%|█▋        | 101/600 [53:45<4:04:54, 29.45s/it, v_num=yw_1, total_loss_train=491, kl_local_train=178, metric_mi|age_categorical_train=0.352]"
     ]
    },
    {
     "name": "stdout",
     "output_type": "stream",
     "text": [
      "\r\n",
      "Epoch 102/600:  17%|█▋        | 101/600 [53:45<4:04:54, 29.45s/it, v_num=yw_1, total_loss_train=491, kl_local_train=178, metric_mi|age_categorical_train=0.352]"
     ]
    },
    {
     "name": "stdout",
     "output_type": "stream",
     "text": [
      "\r\n",
      "Epoch 102/600:  17%|█▋        | 102/600 [54:14<4:03:27, 29.33s/it, v_num=yw_1, total_loss_train=491, kl_local_train=178, metric_mi|age_categorical_train=0.352]"
     ]
    },
    {
     "name": "stdout",
     "output_type": "stream",
     "text": [
      "\r\n",
      "Epoch 102/600:  17%|█▋        | 102/600 [54:14<4:03:27, 29.33s/it, v_num=yw_1, total_loss_train=491, kl_local_train=175, metric_mi|age_categorical_train=0.352]"
     ]
    },
    {
     "name": "stdout",
     "output_type": "stream",
     "text": [
      "\r\n",
      "Epoch 103/600:  17%|█▋        | 102/600 [54:14<4:03:27, 29.33s/it, v_num=yw_1, total_loss_train=491, kl_local_train=175, metric_mi|age_categorical_train=0.352]"
     ]
    },
    {
     "name": "stdout",
     "output_type": "stream",
     "text": [
      "\r\n",
      "Epoch 103/600:  17%|█▋        | 103/600 [54:43<4:02:23, 29.26s/it, v_num=yw_1, total_loss_train=491, kl_local_train=175, metric_mi|age_categorical_train=0.352]"
     ]
    },
    {
     "name": "stdout",
     "output_type": "stream",
     "text": [
      "\r\n",
      "Epoch 103/600:  17%|█▋        | 103/600 [54:43<4:02:23, 29.26s/it, v_num=yw_1, total_loss_train=491, kl_local_train=175, metric_mi|age_categorical_train=0.352]"
     ]
    },
    {
     "name": "stdout",
     "output_type": "stream",
     "text": [
      "\r\n",
      "Epoch 104/600:  17%|█▋        | 103/600 [54:43<4:02:23, 29.26s/it, v_num=yw_1, total_loss_train=491, kl_local_train=175, metric_mi|age_categorical_train=0.352]"
     ]
    },
    {
     "name": "stdout",
     "output_type": "stream",
     "text": [
      "\r\n",
      "Epoch 104/600:  17%|█▋        | 104/600 [55:13<4:01:45, 29.24s/it, v_num=yw_1, total_loss_train=491, kl_local_train=175, metric_mi|age_categorical_train=0.352]"
     ]
    },
    {
     "name": "stdout",
     "output_type": "stream",
     "text": [
      "\r\n",
      "Epoch 104/600:  17%|█▋        | 104/600 [55:13<4:01:45, 29.24s/it, v_num=yw_1, total_loss_train=491, kl_local_train=175, metric_mi|age_categorical_train=0.352]"
     ]
    },
    {
     "name": "stdout",
     "output_type": "stream",
     "text": [
      "\r\n",
      "Epoch 105/600:  17%|█▋        | 104/600 [55:13<4:01:45, 29.24s/it, v_num=yw_1, total_loss_train=491, kl_local_train=175, metric_mi|age_categorical_train=0.352]"
     ]
    },
    {
     "name": "stdout",
     "output_type": "stream",
     "text": [
      "\r\n",
      "Epoch 105/600:  18%|█▊        | 105/600 [55:42<4:01:44, 29.30s/it, v_num=yw_1, total_loss_train=491, kl_local_train=175, metric_mi|age_categorical_train=0.352]"
     ]
    },
    {
     "name": "stdout",
     "output_type": "stream",
     "text": [
      "\r\n",
      "Epoch 105/600:  18%|█▊        | 105/600 [55:42<4:01:44, 29.30s/it, v_num=yw_1, total_loss_train=491, kl_local_train=175, metric_mi|age_categorical_train=0.352]"
     ]
    },
    {
     "name": "stdout",
     "output_type": "stream",
     "text": [
      "\r\n",
      "Epoch 106/600:  18%|█▊        | 105/600 [55:43<4:01:44, 29.30s/it, v_num=yw_1, total_loss_train=491, kl_local_train=175, metric_mi|age_categorical_train=0.352]"
     ]
    },
    {
     "name": "stdout",
     "output_type": "stream",
     "text": [
      "\r\n",
      "Epoch 106/600:  18%|█▊        | 106/600 [56:12<4:02:23, 29.44s/it, v_num=yw_1, total_loss_train=491, kl_local_train=175, metric_mi|age_categorical_train=0.352]"
     ]
    },
    {
     "name": "stdout",
     "output_type": "stream",
     "text": [
      "\r\n",
      "Epoch 106/600:  18%|█▊        | 106/600 [56:12<4:02:23, 29.44s/it, v_num=yw_1, total_loss_train=491, kl_local_train=172, metric_mi|age_categorical_train=0.349]"
     ]
    },
    {
     "name": "stdout",
     "output_type": "stream",
     "text": [
      "\r\n",
      "Epoch 107/600:  18%|█▊        | 106/600 [56:12<4:02:23, 29.44s/it, v_num=yw_1, total_loss_train=491, kl_local_train=172, metric_mi|age_categorical_train=0.349]"
     ]
    },
    {
     "name": "stdout",
     "output_type": "stream",
     "text": [
      "\r\n",
      "Epoch 107/600:  18%|█▊        | 107/600 [56:41<4:01:00, 29.33s/it, v_num=yw_1, total_loss_train=491, kl_local_train=172, metric_mi|age_categorical_train=0.349]"
     ]
    },
    {
     "name": "stdout",
     "output_type": "stream",
     "text": [
      "\r\n",
      "Epoch 107/600:  18%|█▊        | 107/600 [56:41<4:01:00, 29.33s/it, v_num=yw_1, total_loss_train=491, kl_local_train=172, metric_mi|age_categorical_train=0.349]"
     ]
    },
    {
     "name": "stdout",
     "output_type": "stream",
     "text": [
      "\r\n",
      "Epoch 108/600:  18%|█▊        | 107/600 [56:41<4:01:00, 29.33s/it, v_num=yw_1, total_loss_train=491, kl_local_train=172, metric_mi|age_categorical_train=0.349]"
     ]
    },
    {
     "name": "stdout",
     "output_type": "stream",
     "text": [
      "\r\n",
      "Epoch 108/600:  18%|█▊        | 108/600 [57:10<3:59:53, 29.26s/it, v_num=yw_1, total_loss_train=491, kl_local_train=172, metric_mi|age_categorical_train=0.349]"
     ]
    },
    {
     "name": "stdout",
     "output_type": "stream",
     "text": [
      "\r\n",
      "Epoch 108/600:  18%|█▊        | 108/600 [57:10<3:59:53, 29.26s/it, v_num=yw_1, total_loss_train=491, kl_local_train=171, metric_mi|age_categorical_train=0.349]"
     ]
    },
    {
     "name": "stdout",
     "output_type": "stream",
     "text": [
      "\r\n",
      "Epoch 109/600:  18%|█▊        | 108/600 [57:10<3:59:53, 29.26s/it, v_num=yw_1, total_loss_train=491, kl_local_train=171, metric_mi|age_categorical_train=0.349]"
     ]
    },
    {
     "name": "stdout",
     "output_type": "stream",
     "text": [
      "\r\n",
      "Epoch 109/600:  18%|█▊        | 109/600 [57:39<3:58:52, 29.19s/it, v_num=yw_1, total_loss_train=491, kl_local_train=171, metric_mi|age_categorical_train=0.349]"
     ]
    },
    {
     "name": "stdout",
     "output_type": "stream",
     "text": [
      "\r\n",
      "Epoch 109/600:  18%|█▊        | 109/600 [57:39<3:58:52, 29.19s/it, v_num=yw_1, total_loss_train=491, kl_local_train=171, metric_mi|age_categorical_train=0.349]"
     ]
    },
    {
     "name": "stdout",
     "output_type": "stream",
     "text": [
      "\r\n",
      "Epoch 110/600:  18%|█▊        | 109/600 [57:39<3:58:52, 29.19s/it, v_num=yw_1, total_loss_train=491, kl_local_train=171, metric_mi|age_categorical_train=0.349]"
     ]
    },
    {
     "name": "stdout",
     "output_type": "stream",
     "text": [
      "\r\n",
      "Epoch 110/600:  18%|█▊        | 110/600 [58:08<3:58:49, 29.24s/it, v_num=yw_1, total_loss_train=491, kl_local_train=171, metric_mi|age_categorical_train=0.349]"
     ]
    },
    {
     "name": "stdout",
     "output_type": "stream",
     "text": [
      "\r\n",
      "Epoch 110/600:  18%|█▊        | 110/600 [58:08<3:58:49, 29.24s/it, v_num=yw_1, total_loss_train=492, kl_local_train=171, metric_mi|age_categorical_train=0.349]"
     ]
    },
    {
     "name": "stdout",
     "output_type": "stream",
     "text": [
      "\r\n",
      "Epoch 111/600:  18%|█▊        | 110/600 [58:09<3:58:49, 29.24s/it, v_num=yw_1, total_loss_train=492, kl_local_train=171, metric_mi|age_categorical_train=0.349]"
     ]
    },
    {
     "name": "stdout",
     "output_type": "stream",
     "text": [
      "\r\n",
      "Epoch 111/600:  18%|█▊        | 111/600 [58:38<3:59:36, 29.40s/it, v_num=yw_1, total_loss_train=492, kl_local_train=171, metric_mi|age_categorical_train=0.349]"
     ]
    },
    {
     "name": "stdout",
     "output_type": "stream",
     "text": [
      "\r\n",
      "Epoch 111/600:  18%|█▊        | 111/600 [58:38<3:59:36, 29.40s/it, v_num=yw_1, total_loss_train=492, kl_local_train=171, metric_mi|age_categorical_train=0.344]"
     ]
    },
    {
     "name": "stdout",
     "output_type": "stream",
     "text": [
      "\r\n",
      "Epoch 112/600:  18%|█▊        | 111/600 [58:38<3:59:36, 29.40s/it, v_num=yw_1, total_loss_train=492, kl_local_train=171, metric_mi|age_categorical_train=0.344]"
     ]
    },
    {
     "name": "stdout",
     "output_type": "stream",
     "text": [
      "\r\n",
      "Epoch 112/600:  19%|█▊        | 112/600 [59:07<3:58:19, 29.30s/it, v_num=yw_1, total_loss_train=492, kl_local_train=171, metric_mi|age_categorical_train=0.344]"
     ]
    },
    {
     "name": "stdout",
     "output_type": "stream",
     "text": [
      "\r\n",
      "Epoch 112/600:  19%|█▊        | 112/600 [59:07<3:58:19, 29.30s/it, v_num=yw_1, total_loss_train=491, kl_local_train=169, metric_mi|age_categorical_train=0.344]"
     ]
    },
    {
     "name": "stdout",
     "output_type": "stream",
     "text": [
      "\r\n",
      "Epoch 113/600:  19%|█▊        | 112/600 [59:07<3:58:19, 29.30s/it, v_num=yw_1, total_loss_train=491, kl_local_train=169, metric_mi|age_categorical_train=0.344]"
     ]
    },
    {
     "name": "stdout",
     "output_type": "stream",
     "text": [
      "\r\n",
      "Epoch 113/600:  19%|█▉        | 113/600 [59:36<3:57:23, 29.25s/it, v_num=yw_1, total_loss_train=491, kl_local_train=169, metric_mi|age_categorical_train=0.344]"
     ]
    },
    {
     "name": "stdout",
     "output_type": "stream",
     "text": [
      "\r\n",
      "Epoch 113/600:  19%|█▉        | 113/600 [59:36<3:57:23, 29.25s/it, v_num=yw_1, total_loss_train=492, kl_local_train=168, metric_mi|age_categorical_train=0.344]"
     ]
    },
    {
     "name": "stdout",
     "output_type": "stream",
     "text": [
      "\r\n",
      "Epoch 114/600:  19%|█▉        | 113/600 [59:36<3:57:23, 29.25s/it, v_num=yw_1, total_loss_train=492, kl_local_train=168, metric_mi|age_categorical_train=0.344]"
     ]
    },
    {
     "name": "stdout",
     "output_type": "stream",
     "text": [
      "\r\n",
      "Epoch 114/600:  19%|█▉        | 114/600 [1:00:05<3:56:34, 29.21s/it, v_num=yw_1, total_loss_train=492, kl_local_train=168, metric_mi|age_categorical_train=0.344]"
     ]
    },
    {
     "name": "stdout",
     "output_type": "stream",
     "text": [
      "\r\n",
      "Epoch 114/600:  19%|█▉        | 114/600 [1:00:05<3:56:34, 29.21s/it, v_num=yw_1, total_loss_train=492, kl_local_train=168, metric_mi|age_categorical_train=0.344]"
     ]
    },
    {
     "name": "stdout",
     "output_type": "stream",
     "text": [
      "\r\n",
      "Epoch 115/600:  19%|█▉        | 114/600 [1:00:05<3:56:34, 29.21s/it, v_num=yw_1, total_loss_train=492, kl_local_train=168, metric_mi|age_categorical_train=0.344]"
     ]
    },
    {
     "name": "stdout",
     "output_type": "stream",
     "text": [
      "\r\n",
      "Epoch 115/600:  19%|█▉        | 115/600 [1:00:35<3:57:24, 29.37s/it, v_num=yw_1, total_loss_train=492, kl_local_train=168, metric_mi|age_categorical_train=0.344]"
     ]
    },
    {
     "name": "stdout",
     "output_type": "stream",
     "text": [
      "\r\n",
      "Epoch 115/600:  19%|█▉        | 115/600 [1:00:35<3:57:24, 29.37s/it, v_num=yw_1, total_loss_train=492, kl_local_train=166, metric_mi|age_categorical_train=0.344]"
     ]
    },
    {
     "name": "stdout",
     "output_type": "stream",
     "text": [
      "\r\n",
      "Epoch 116/600:  19%|█▉        | 115/600 [1:00:36<3:57:24, 29.37s/it, v_num=yw_1, total_loss_train=492, kl_local_train=166, metric_mi|age_categorical_train=0.344]"
     ]
    },
    {
     "name": "stdout",
     "output_type": "stream",
     "text": [
      "\r\n",
      "Epoch 116/600:  19%|█▉        | 116/600 [1:01:05<3:58:18, 29.54s/it, v_num=yw_1, total_loss_train=492, kl_local_train=166, metric_mi|age_categorical_train=0.344]"
     ]
    },
    {
     "name": "stdout",
     "output_type": "stream",
     "text": [
      "\r\n",
      "Epoch 116/600:  19%|█▉        | 116/600 [1:01:05<3:58:18, 29.54s/it, v_num=yw_1, total_loss_train=492, kl_local_train=167, metric_mi|age_categorical_train=0.36] "
     ]
    },
    {
     "name": "stdout",
     "output_type": "stream",
     "text": [
      "\r\n",
      "Epoch 117/600:  19%|█▉        | 116/600 [1:01:05<3:58:18, 29.54s/it, v_num=yw_1, total_loss_train=492, kl_local_train=167, metric_mi|age_categorical_train=0.36]"
     ]
    },
    {
     "name": "stdout",
     "output_type": "stream",
     "text": [
      "\r\n",
      "Epoch 117/600:  20%|█▉        | 117/600 [1:01:34<3:56:59, 29.44s/it, v_num=yw_1, total_loss_train=492, kl_local_train=167, metric_mi|age_categorical_train=0.36]"
     ]
    },
    {
     "name": "stdout",
     "output_type": "stream",
     "text": [
      "\r\n",
      "Epoch 117/600:  20%|█▉        | 117/600 [1:01:34<3:56:59, 29.44s/it, v_num=yw_1, total_loss_train=492, kl_local_train=166, metric_mi|age_categorical_train=0.36]"
     ]
    },
    {
     "name": "stdout",
     "output_type": "stream",
     "text": [
      "\r\n",
      "Epoch 118/600:  20%|█▉        | 117/600 [1:01:34<3:56:59, 29.44s/it, v_num=yw_1, total_loss_train=492, kl_local_train=166, metric_mi|age_categorical_train=0.36]"
     ]
    },
    {
     "name": "stdout",
     "output_type": "stream",
     "text": [
      "\r\n",
      "Epoch 118/600:  20%|█▉        | 118/600 [1:02:04<3:55:59, 29.38s/it, v_num=yw_1, total_loss_train=492, kl_local_train=166, metric_mi|age_categorical_train=0.36]"
     ]
    },
    {
     "name": "stdout",
     "output_type": "stream",
     "text": [
      "\r\n",
      "Epoch 118/600:  20%|█▉        | 118/600 [1:02:04<3:55:59, 29.38s/it, v_num=yw_1, total_loss_train=492, kl_local_train=165, metric_mi|age_categorical_train=0.36]"
     ]
    },
    {
     "name": "stdout",
     "output_type": "stream",
     "text": [
      "\r\n",
      "Epoch 119/600:  20%|█▉        | 118/600 [1:02:04<3:55:59, 29.38s/it, v_num=yw_1, total_loss_train=492, kl_local_train=165, metric_mi|age_categorical_train=0.36]"
     ]
    },
    {
     "name": "stdout",
     "output_type": "stream",
     "text": [
      "\r\n",
      "Epoch 119/600:  20%|█▉        | 119/600 [1:02:33<3:55:01, 29.32s/it, v_num=yw_1, total_loss_train=492, kl_local_train=165, metric_mi|age_categorical_train=0.36]"
     ]
    },
    {
     "name": "stdout",
     "output_type": "stream",
     "text": [
      "\r\n",
      "Epoch 119/600:  20%|█▉        | 119/600 [1:02:33<3:55:01, 29.32s/it, v_num=yw_1, total_loss_train=493, kl_local_train=165, metric_mi|age_categorical_train=0.36]"
     ]
    },
    {
     "name": "stdout",
     "output_type": "stream",
     "text": [
      "\r\n",
      "Epoch 120/600:  20%|█▉        | 119/600 [1:02:33<3:55:01, 29.32s/it, v_num=yw_1, total_loss_train=493, kl_local_train=165, metric_mi|age_categorical_train=0.36]"
     ]
    },
    {
     "name": "stdout",
     "output_type": "stream",
     "text": [
      "\r\n",
      "Epoch 120/600:  20%|██        | 120/600 [1:03:02<3:54:56, 29.37s/it, v_num=yw_1, total_loss_train=493, kl_local_train=165, metric_mi|age_categorical_train=0.36]"
     ]
    },
    {
     "name": "stdout",
     "output_type": "stream",
     "text": [
      "\r\n",
      "Epoch 120/600:  20%|██        | 120/600 [1:03:02<3:54:56, 29.37s/it, v_num=yw_1, total_loss_train=493, kl_local_train=164, metric_mi|age_categorical_train=0.36]"
     ]
    },
    {
     "name": "stdout",
     "output_type": "stream",
     "text": [
      "\r\n",
      "Epoch 121/600:  20%|██        | 120/600 [1:03:03<3:54:56, 29.37s/it, v_num=yw_1, total_loss_train=493, kl_local_train=164, metric_mi|age_categorical_train=0.36]"
     ]
    },
    {
     "name": "stdout",
     "output_type": "stream",
     "text": [
      "\r\n",
      "Epoch 121/600:  20%|██        | 121/600 [1:03:32<3:55:49, 29.54s/it, v_num=yw_1, total_loss_train=493, kl_local_train=164, metric_mi|age_categorical_train=0.36]"
     ]
    },
    {
     "name": "stdout",
     "output_type": "stream",
     "text": [
      "\r\n",
      "Epoch 121/600:  20%|██        | 121/600 [1:03:32<3:55:49, 29.54s/it, v_num=yw_1, total_loss_train=493, kl_local_train=164, metric_mi|age_categorical_train=0.386]"
     ]
    },
    {
     "name": "stdout",
     "output_type": "stream",
     "text": [
      "\r\n",
      "Epoch 122/600:  20%|██        | 121/600 [1:03:32<3:55:49, 29.54s/it, v_num=yw_1, total_loss_train=493, kl_local_train=164, metric_mi|age_categorical_train=0.386]"
     ]
    },
    {
     "name": "stdout",
     "output_type": "stream",
     "text": [
      "\r\n",
      "Epoch 122/600:  20%|██        | 122/600 [1:04:01<3:54:26, 29.43s/it, v_num=yw_1, total_loss_train=493, kl_local_train=164, metric_mi|age_categorical_train=0.386]"
     ]
    },
    {
     "name": "stdout",
     "output_type": "stream",
     "text": [
      "\r\n",
      "Epoch 122/600:  20%|██        | 122/600 [1:04:01<3:54:26, 29.43s/it, v_num=yw_1, total_loss_train=493, kl_local_train=163, metric_mi|age_categorical_train=0.386]"
     ]
    },
    {
     "name": "stdout",
     "output_type": "stream",
     "text": [
      "\r\n",
      "Epoch 123/600:  20%|██        | 122/600 [1:04:01<3:54:26, 29.43s/it, v_num=yw_1, total_loss_train=493, kl_local_train=163, metric_mi|age_categorical_train=0.386]"
     ]
    },
    {
     "name": "stdout",
     "output_type": "stream",
     "text": [
      "\r\n",
      "Epoch 123/600:  20%|██        | 123/600 [1:04:31<3:53:25, 29.36s/it, v_num=yw_1, total_loss_train=493, kl_local_train=163, metric_mi|age_categorical_train=0.386]"
     ]
    },
    {
     "name": "stdout",
     "output_type": "stream",
     "text": [
      "\r\n",
      "Epoch 123/600:  20%|██        | 123/600 [1:04:31<3:53:25, 29.36s/it, v_num=yw_1, total_loss_train=493, kl_local_train=164, metric_mi|age_categorical_train=0.386]"
     ]
    },
    {
     "name": "stdout",
     "output_type": "stream",
     "text": [
      "\r\n",
      "Epoch 124/600:  20%|██        | 123/600 [1:04:31<3:53:25, 29.36s/it, v_num=yw_1, total_loss_train=493, kl_local_train=164, metric_mi|age_categorical_train=0.386]"
     ]
    },
    {
     "name": "stdout",
     "output_type": "stream",
     "text": [
      "\r\n",
      "Epoch 124/600:  21%|██        | 124/600 [1:05:00<3:52:42, 29.33s/it, v_num=yw_1, total_loss_train=493, kl_local_train=164, metric_mi|age_categorical_train=0.386]"
     ]
    },
    {
     "name": "stdout",
     "output_type": "stream",
     "text": [
      "\r\n",
      "Epoch 124/600:  21%|██        | 124/600 [1:05:00<3:52:42, 29.33s/it, v_num=yw_1, total_loss_train=493, kl_local_train=163, metric_mi|age_categorical_train=0.386]"
     ]
    },
    {
     "name": "stdout",
     "output_type": "stream",
     "text": [
      "\r\n",
      "Epoch 125/600:  21%|██        | 124/600 [1:05:00<3:52:42, 29.33s/it, v_num=yw_1, total_loss_train=493, kl_local_train=163, metric_mi|age_categorical_train=0.386]"
     ]
    },
    {
     "name": "stdout",
     "output_type": "stream",
     "text": [
      "\r\n",
      "Epoch 125/600:  21%|██        | 125/600 [1:05:29<3:52:33, 29.38s/it, v_num=yw_1, total_loss_train=493, kl_local_train=163, metric_mi|age_categorical_train=0.386]"
     ]
    },
    {
     "name": "stdout",
     "output_type": "stream",
     "text": [
      "\r\n",
      "Epoch 125/600:  21%|██        | 125/600 [1:05:29<3:52:33, 29.38s/it, v_num=yw_1, total_loss_train=493, kl_local_train=161, metric_mi|age_categorical_train=0.386]"
     ]
    },
    {
     "name": "stdout",
     "output_type": "stream",
     "text": [
      "\r\n",
      "Epoch 126/600:  21%|██        | 125/600 [1:05:30<3:52:33, 29.38s/it, v_num=yw_1, total_loss_train=493, kl_local_train=161, metric_mi|age_categorical_train=0.386]"
     ]
    },
    {
     "name": "stdout",
     "output_type": "stream",
     "text": [
      "\r\n",
      "Epoch 126/600:  21%|██        | 126/600 [1:05:59<3:53:24, 29.54s/it, v_num=yw_1, total_loss_train=493, kl_local_train=161, metric_mi|age_categorical_train=0.386]"
     ]
    },
    {
     "name": "stdout",
     "output_type": "stream",
     "text": [
      "\r\n",
      "Epoch 126/600:  21%|██        | 126/600 [1:05:59<3:53:24, 29.54s/it, v_num=yw_1, total_loss_train=493, kl_local_train=160, metric_mi|age_categorical_train=0.386]"
     ]
    },
    {
     "name": "stdout",
     "output_type": "stream",
     "text": [
      "\r\n",
      "Epoch 127/600:  21%|██        | 126/600 [1:05:59<3:53:24, 29.54s/it, v_num=yw_1, total_loss_train=493, kl_local_train=160, metric_mi|age_categorical_train=0.386]"
     ]
    },
    {
     "name": "stdout",
     "output_type": "stream",
     "text": [
      "\r\n",
      "Epoch 127/600:  21%|██        | 127/600 [1:06:28<3:52:03, 29.44s/it, v_num=yw_1, total_loss_train=493, kl_local_train=160, metric_mi|age_categorical_train=0.386]"
     ]
    },
    {
     "name": "stdout",
     "output_type": "stream",
     "text": [
      "\r\n",
      "Epoch 127/600:  21%|██        | 127/600 [1:06:28<3:52:03, 29.44s/it, v_num=yw_1, total_loss_train=494, kl_local_train=160, metric_mi|age_categorical_train=0.386]"
     ]
    },
    {
     "name": "stdout",
     "output_type": "stream",
     "text": [
      "\r\n",
      "Epoch 128/600:  21%|██        | 127/600 [1:06:28<3:52:03, 29.44s/it, v_num=yw_1, total_loss_train=494, kl_local_train=160, metric_mi|age_categorical_train=0.386]"
     ]
    },
    {
     "name": "stdout",
     "output_type": "stream",
     "text": [
      "\r\n",
      "Epoch 128/600:  21%|██▏       | 128/600 [1:06:57<3:50:46, 29.34s/it, v_num=yw_1, total_loss_train=494, kl_local_train=160, metric_mi|age_categorical_train=0.386]"
     ]
    },
    {
     "name": "stdout",
     "output_type": "stream",
     "text": [
      "\r\n",
      "Epoch 128/600:  21%|██▏       | 128/600 [1:06:57<3:50:46, 29.34s/it, v_num=yw_1, total_loss_train=494, kl_local_train=160, metric_mi|age_categorical_train=0.386]"
     ]
    },
    {
     "name": "stdout",
     "output_type": "stream",
     "text": [
      "\r\n",
      "Epoch 129/600:  21%|██▏       | 128/600 [1:06:58<3:50:46, 29.34s/it, v_num=yw_1, total_loss_train=494, kl_local_train=160, metric_mi|age_categorical_train=0.386]"
     ]
    },
    {
     "name": "stdout",
     "output_type": "stream",
     "text": [
      "\r\n",
      "Epoch 129/600:  22%|██▏       | 129/600 [1:07:27<3:49:45, 29.27s/it, v_num=yw_1, total_loss_train=494, kl_local_train=160, metric_mi|age_categorical_train=0.386]"
     ]
    },
    {
     "name": "stdout",
     "output_type": "stream",
     "text": [
      "\r\n",
      "Epoch 129/600:  22%|██▏       | 129/600 [1:07:27<3:49:45, 29.27s/it, v_num=yw_1, total_loss_train=494, kl_local_train=158, metric_mi|age_categorical_train=0.386]"
     ]
    },
    {
     "name": "stdout",
     "output_type": "stream",
     "text": [
      "\r\n",
      "Epoch 130/600:  22%|██▏       | 129/600 [1:07:27<3:49:45, 29.27s/it, v_num=yw_1, total_loss_train=494, kl_local_train=158, metric_mi|age_categorical_train=0.386]"
     ]
    },
    {
     "name": "stdout",
     "output_type": "stream",
     "text": [
      "\r\n",
      "Epoch 130/600:  22%|██▏       | 130/600 [1:07:56<3:49:42, 29.32s/it, v_num=yw_1, total_loss_train=494, kl_local_train=158, metric_mi|age_categorical_train=0.386]"
     ]
    },
    {
     "name": "stdout",
     "output_type": "stream",
     "text": [
      "\r\n",
      "Epoch 130/600:  22%|██▏       | 130/600 [1:07:56<3:49:42, 29.32s/it, v_num=yw_1, total_loss_train=494, kl_local_train=160, metric_mi|age_categorical_train=0.386]"
     ]
    },
    {
     "name": "stdout",
     "output_type": "stream",
     "text": [
      "\r\n",
      "Epoch 131/600:  22%|██▏       | 130/600 [1:07:57<3:49:42, 29.32s/it, v_num=yw_1, total_loss_train=494, kl_local_train=160, metric_mi|age_categorical_train=0.386]"
     ]
    },
    {
     "name": "stdout",
     "output_type": "stream",
     "text": [
      "\r\n",
      "Epoch 131/600:  22%|██▏       | 131/600 [1:08:26<3:50:28, 29.48s/it, v_num=yw_1, total_loss_train=494, kl_local_train=160, metric_mi|age_categorical_train=0.386]"
     ]
    },
    {
     "name": "stdout",
     "output_type": "stream",
     "text": [
      "\r\n",
      "Epoch 131/600:  22%|██▏       | 131/600 [1:08:26<3:50:28, 29.48s/it, v_num=yw_1, total_loss_train=494, kl_local_train=159, metric_mi|age_categorical_train=0.384]"
     ]
    },
    {
     "name": "stdout",
     "output_type": "stream",
     "text": [
      "\r\n",
      "Epoch 132/600:  22%|██▏       | 131/600 [1:08:26<3:50:28, 29.48s/it, v_num=yw_1, total_loss_train=494, kl_local_train=159, metric_mi|age_categorical_train=0.384]"
     ]
    },
    {
     "name": "stdout",
     "output_type": "stream",
     "text": [
      "\r\n",
      "Epoch 132/600:  22%|██▏       | 132/600 [1:08:55<3:49:21, 29.41s/it, v_num=yw_1, total_loss_train=494, kl_local_train=159, metric_mi|age_categorical_train=0.384]"
     ]
    },
    {
     "name": "stdout",
     "output_type": "stream",
     "text": [
      "\r\n",
      "Epoch 132/600:  22%|██▏       | 132/600 [1:08:55<3:49:21, 29.41s/it, v_num=yw_1, total_loss_train=494, kl_local_train=157, metric_mi|age_categorical_train=0.384]"
     ]
    },
    {
     "name": "stdout",
     "output_type": "stream",
     "text": [
      "\r\n",
      "Epoch 133/600:  22%|██▏       | 132/600 [1:08:55<3:49:21, 29.41s/it, v_num=yw_1, total_loss_train=494, kl_local_train=157, metric_mi|age_categorical_train=0.384]"
     ]
    },
    {
     "name": "stdout",
     "output_type": "stream",
     "text": [
      "\r\n",
      "Epoch 133/600:  22%|██▏       | 133/600 [1:09:24<3:48:25, 29.35s/it, v_num=yw_1, total_loss_train=494, kl_local_train=157, metric_mi|age_categorical_train=0.384]"
     ]
    },
    {
     "name": "stdout",
     "output_type": "stream",
     "text": [
      "\r\n",
      "Epoch 133/600:  22%|██▏       | 133/600 [1:09:24<3:48:25, 29.35s/it, v_num=yw_1, total_loss_train=494, kl_local_train=157, metric_mi|age_categorical_train=0.384]"
     ]
    },
    {
     "name": "stdout",
     "output_type": "stream",
     "text": [
      "\r\n",
      "Epoch 134/600:  22%|██▏       | 133/600 [1:09:24<3:48:25, 29.35s/it, v_num=yw_1, total_loss_train=494, kl_local_train=157, metric_mi|age_categorical_train=0.384]"
     ]
    },
    {
     "name": "stdout",
     "output_type": "stream",
     "text": [
      "\r\n",
      "Epoch 134/600:  22%|██▏       | 134/600 [1:09:54<3:47:48, 29.33s/it, v_num=yw_1, total_loss_train=494, kl_local_train=157, metric_mi|age_categorical_train=0.384]"
     ]
    },
    {
     "name": "stdout",
     "output_type": "stream",
     "text": [
      "\r\n",
      "Epoch 134/600:  22%|██▏       | 134/600 [1:09:54<3:47:48, 29.33s/it, v_num=yw_1, total_loss_train=495, kl_local_train=157, metric_mi|age_categorical_train=0.384]"
     ]
    },
    {
     "name": "stdout",
     "output_type": "stream",
     "text": [
      "\r\n",
      "Epoch 135/600:  22%|██▏       | 134/600 [1:09:54<3:47:48, 29.33s/it, v_num=yw_1, total_loss_train=495, kl_local_train=157, metric_mi|age_categorical_train=0.384]"
     ]
    },
    {
     "name": "stdout",
     "output_type": "stream",
     "text": [
      "\r\n",
      "Epoch 135/600:  22%|██▎       | 135/600 [1:10:23<3:47:36, 29.37s/it, v_num=yw_1, total_loss_train=495, kl_local_train=157, metric_mi|age_categorical_train=0.384]"
     ]
    },
    {
     "name": "stdout",
     "output_type": "stream",
     "text": [
      "\r\n",
      "Epoch 135/600:  22%|██▎       | 135/600 [1:10:23<3:47:36, 29.37s/it, v_num=yw_1, total_loss_train=495, kl_local_train=157, metric_mi|age_categorical_train=0.384]"
     ]
    },
    {
     "name": "stdout",
     "output_type": "stream",
     "text": [
      "\r\n",
      "Epoch 136/600:  22%|██▎       | 135/600 [1:10:24<3:47:36, 29.37s/it, v_num=yw_1, total_loss_train=495, kl_local_train=157, metric_mi|age_categorical_train=0.384]"
     ]
    },
    {
     "name": "stdout",
     "output_type": "stream",
     "text": [
      "\r\n",
      "Epoch 136/600:  23%|██▎       | 136/600 [1:10:53<3:48:47, 29.59s/it, v_num=yw_1, total_loss_train=495, kl_local_train=157, metric_mi|age_categorical_train=0.384]"
     ]
    },
    {
     "name": "stdout",
     "output_type": "stream",
     "text": [
      "\r\n",
      "Epoch 136/600:  23%|██▎       | 136/600 [1:10:53<3:48:47, 29.59s/it, v_num=yw_1, total_loss_train=495, kl_local_train=156, metric_mi|age_categorical_train=0.382]"
     ]
    },
    {
     "name": "stdout",
     "output_type": "stream",
     "text": [
      "\r\n",
      "Epoch 137/600:  23%|██▎       | 136/600 [1:10:53<3:48:47, 29.59s/it, v_num=yw_1, total_loss_train=495, kl_local_train=156, metric_mi|age_categorical_train=0.382]"
     ]
    },
    {
     "name": "stdout",
     "output_type": "stream",
     "text": [
      "\r\n",
      "Epoch 137/600:  23%|██▎       | 137/600 [1:11:22<3:47:35, 29.49s/it, v_num=yw_1, total_loss_train=495, kl_local_train=156, metric_mi|age_categorical_train=0.382]"
     ]
    },
    {
     "name": "stdout",
     "output_type": "stream",
     "text": [
      "\r\n",
      "Epoch 137/600:  23%|██▎       | 137/600 [1:11:22<3:47:35, 29.49s/it, v_num=yw_1, total_loss_train=495, kl_local_train=154, metric_mi|age_categorical_train=0.382]"
     ]
    },
    {
     "name": "stdout",
     "output_type": "stream",
     "text": [
      "\r\n",
      "Epoch 138/600:  23%|██▎       | 137/600 [1:11:22<3:47:35, 29.49s/it, v_num=yw_1, total_loss_train=495, kl_local_train=154, metric_mi|age_categorical_train=0.382]"
     ]
    },
    {
     "name": "stdout",
     "output_type": "stream",
     "text": [
      "\r\n",
      "Epoch 138/600:  23%|██▎       | 138/600 [1:11:52<3:46:41, 29.44s/it, v_num=yw_1, total_loss_train=495, kl_local_train=154, metric_mi|age_categorical_train=0.382]"
     ]
    },
    {
     "name": "stdout",
     "output_type": "stream",
     "text": [
      "\r\n",
      "Epoch 138/600:  23%|██▎       | 138/600 [1:11:52<3:46:41, 29.44s/it, v_num=yw_1, total_loss_train=495, kl_local_train=155, metric_mi|age_categorical_train=0.382]"
     ]
    },
    {
     "name": "stdout",
     "output_type": "stream",
     "text": [
      "\r\n",
      "Epoch 139/600:  23%|██▎       | 138/600 [1:11:52<3:46:41, 29.44s/it, v_num=yw_1, total_loss_train=495, kl_local_train=155, metric_mi|age_categorical_train=0.382]"
     ]
    },
    {
     "name": "stdout",
     "output_type": "stream",
     "text": [
      "\r\n",
      "Epoch 139/600:  23%|██▎       | 139/600 [1:12:21<3:45:57, 29.41s/it, v_num=yw_1, total_loss_train=495, kl_local_train=155, metric_mi|age_categorical_train=0.382]"
     ]
    },
    {
     "name": "stdout",
     "output_type": "stream",
     "text": [
      "\r\n",
      "Epoch 139/600:  23%|██▎       | 139/600 [1:12:21<3:45:57, 29.41s/it, v_num=yw_1, total_loss_train=495, kl_local_train=153, metric_mi|age_categorical_train=0.382]"
     ]
    },
    {
     "name": "stdout",
     "output_type": "stream",
     "text": [
      "\r\n",
      "Epoch 140/600:  23%|██▎       | 139/600 [1:12:21<3:45:57, 29.41s/it, v_num=yw_1, total_loss_train=495, kl_local_train=153, metric_mi|age_categorical_train=0.382]"
     ]
    },
    {
     "name": "stdout",
     "output_type": "stream",
     "text": [
      "\r\n",
      "Epoch 140/600:  23%|██▎       | 140/600 [1:12:51<3:45:38, 29.43s/it, v_num=yw_1, total_loss_train=495, kl_local_train=153, metric_mi|age_categorical_train=0.382]"
     ]
    },
    {
     "name": "stdout",
     "output_type": "stream",
     "text": [
      "\r\n",
      "Epoch 140/600:  23%|██▎       | 140/600 [1:12:51<3:45:38, 29.43s/it, v_num=yw_1, total_loss_train=495, kl_local_train=153, metric_mi|age_categorical_train=0.382]"
     ]
    },
    {
     "name": "stdout",
     "output_type": "stream",
     "text": [
      "\r\n",
      "Epoch 141/600:  23%|██▎       | 140/600 [1:12:51<3:45:38, 29.43s/it, v_num=yw_1, total_loss_train=495, kl_local_train=153, metric_mi|age_categorical_train=0.382]"
     ]
    },
    {
     "name": "stdout",
     "output_type": "stream",
     "text": [
      "\r\n",
      "Epoch 141/600:  24%|██▎       | 141/600 [1:13:21<3:46:17, 29.58s/it, v_num=yw_1, total_loss_train=495, kl_local_train=153, metric_mi|age_categorical_train=0.382]"
     ]
    },
    {
     "name": "stdout",
     "output_type": "stream",
     "text": [
      "\r\n",
      "Epoch 141/600:  24%|██▎       | 141/600 [1:13:21<3:46:17, 29.58s/it, v_num=yw_1, total_loss_train=495, kl_local_train=152, metric_mi|age_categorical_train=0.391]"
     ]
    },
    {
     "name": "stdout",
     "output_type": "stream",
     "text": [
      "\r\n",
      "Epoch 142/600:  24%|██▎       | 141/600 [1:13:21<3:46:17, 29.58s/it, v_num=yw_1, total_loss_train=495, kl_local_train=152, metric_mi|age_categorical_train=0.391]"
     ]
    },
    {
     "name": "stdout",
     "output_type": "stream",
     "text": [
      "\r\n",
      "Epoch 142/600:  24%|██▎       | 142/600 [1:13:50<3:45:01, 29.48s/it, v_num=yw_1, total_loss_train=495, kl_local_train=152, metric_mi|age_categorical_train=0.391]"
     ]
    },
    {
     "name": "stdout",
     "output_type": "stream",
     "text": [
      "\r\n",
      "Epoch 142/600:  24%|██▎       | 142/600 [1:13:50<3:45:01, 29.48s/it, v_num=yw_1, total_loss_train=495, kl_local_train=151, metric_mi|age_categorical_train=0.391]"
     ]
    },
    {
     "name": "stdout",
     "output_type": "stream",
     "text": [
      "\r\n",
      "Epoch 143/600:  24%|██▎       | 142/600 [1:13:50<3:45:01, 29.48s/it, v_num=yw_1, total_loss_train=495, kl_local_train=151, metric_mi|age_categorical_train=0.391]"
     ]
    },
    {
     "name": "stdout",
     "output_type": "stream",
     "text": [
      "\r\n",
      "Epoch 143/600:  24%|██▍       | 143/600 [1:14:19<3:44:03, 29.42s/it, v_num=yw_1, total_loss_train=495, kl_local_train=151, metric_mi|age_categorical_train=0.391]"
     ]
    },
    {
     "name": "stdout",
     "output_type": "stream",
     "text": [
      "\r\n",
      "Epoch 143/600:  24%|██▍       | 143/600 [1:14:19<3:44:03, 29.42s/it, v_num=yw_1, total_loss_train=496, kl_local_train=152, metric_mi|age_categorical_train=0.391]"
     ]
    },
    {
     "name": "stdout",
     "output_type": "stream",
     "text": [
      "\r\n",
      "Epoch 144/600:  24%|██▍       | 143/600 [1:14:19<3:44:03, 29.42s/it, v_num=yw_1, total_loss_train=496, kl_local_train=152, metric_mi|age_categorical_train=0.391]"
     ]
    },
    {
     "name": "stdout",
     "output_type": "stream",
     "text": [
      "\r\n",
      "Epoch 144/600:  24%|██▍       | 144/600 [1:14:48<3:43:12, 29.37s/it, v_num=yw_1, total_loss_train=496, kl_local_train=152, metric_mi|age_categorical_train=0.391]"
     ]
    },
    {
     "name": "stdout",
     "output_type": "stream",
     "text": [
      "\r\n",
      "Epoch 144/600:  24%|██▍       | 144/600 [1:14:48<3:43:12, 29.37s/it, v_num=yw_1, total_loss_train=496, kl_local_train=150, metric_mi|age_categorical_train=0.391]"
     ]
    },
    {
     "name": "stdout",
     "output_type": "stream",
     "text": [
      "\r\n",
      "Epoch 145/600:  24%|██▍       | 144/600 [1:14:48<3:43:12, 29.37s/it, v_num=yw_1, total_loss_train=496, kl_local_train=150, metric_mi|age_categorical_train=0.391]"
     ]
    },
    {
     "name": "stdout",
     "output_type": "stream",
     "text": [
      "\r\n",
      "Epoch 145/600:  24%|██▍       | 145/600 [1:15:18<3:42:59, 29.41s/it, v_num=yw_1, total_loss_train=496, kl_local_train=150, metric_mi|age_categorical_train=0.391]"
     ]
    },
    {
     "name": "stdout",
     "output_type": "stream",
     "text": [
      "\r\n",
      "Epoch 145/600:  24%|██▍       | 145/600 [1:15:18<3:42:59, 29.41s/it, v_num=yw_1, total_loss_train=496, kl_local_train=151, metric_mi|age_categorical_train=0.391]"
     ]
    },
    {
     "name": "stdout",
     "output_type": "stream",
     "text": [
      "\r\n",
      "Epoch 146/600:  24%|██▍       | 145/600 [1:15:18<3:42:59, 29.41s/it, v_num=yw_1, total_loss_train=496, kl_local_train=151, metric_mi|age_categorical_train=0.391]"
     ]
    },
    {
     "name": "stdout",
     "output_type": "stream",
     "text": [
      "\r\n",
      "Epoch 146/600:  24%|██▍       | 146/600 [1:15:48<3:43:43, 29.57s/it, v_num=yw_1, total_loss_train=496, kl_local_train=151, metric_mi|age_categorical_train=0.391]"
     ]
    },
    {
     "name": "stdout",
     "output_type": "stream",
     "text": [
      "\r\n",
      "Epoch 146/600:  24%|██▍       | 146/600 [1:15:48<3:43:43, 29.57s/it, v_num=yw_1, total_loss_train=496, kl_local_train=149, metric_mi|age_categorical_train=0.373]"
     ]
    },
    {
     "name": "stdout",
     "output_type": "stream",
     "text": [
      "\r\n",
      "Epoch 147/600:  24%|██▍       | 146/600 [1:15:48<3:43:43, 29.57s/it, v_num=yw_1, total_loss_train=496, kl_local_train=149, metric_mi|age_categorical_train=0.373]"
     ]
    },
    {
     "name": "stdout",
     "output_type": "stream",
     "text": [
      "\r\n",
      "Epoch 147/600:  24%|██▍       | 147/600 [1:16:17<3:42:35, 29.48s/it, v_num=yw_1, total_loss_train=496, kl_local_train=149, metric_mi|age_categorical_train=0.373]"
     ]
    },
    {
     "name": "stdout",
     "output_type": "stream",
     "text": [
      "\r\n",
      "Epoch 147/600:  24%|██▍       | 147/600 [1:16:17<3:42:35, 29.48s/it, v_num=yw_1, total_loss_train=496, kl_local_train=150, metric_mi|age_categorical_train=0.373]"
     ]
    },
    {
     "name": "stdout",
     "output_type": "stream",
     "text": [
      "\r\n",
      "Epoch 148/600:  24%|██▍       | 147/600 [1:16:17<3:42:35, 29.48s/it, v_num=yw_1, total_loss_train=496, kl_local_train=150, metric_mi|age_categorical_train=0.373]"
     ]
    },
    {
     "name": "stdout",
     "output_type": "stream",
     "text": [
      "\r\n",
      "Epoch 148/600:  25%|██▍       | 148/600 [1:16:46<3:41:29, 29.40s/it, v_num=yw_1, total_loss_train=496, kl_local_train=150, metric_mi|age_categorical_train=0.373]"
     ]
    },
    {
     "name": "stdout",
     "output_type": "stream",
     "text": [
      "\r\n",
      "Epoch 148/600:  25%|██▍       | 148/600 [1:16:46<3:41:29, 29.40s/it, v_num=yw_1, total_loss_train=496, kl_local_train=149, metric_mi|age_categorical_train=0.373]"
     ]
    },
    {
     "name": "stdout",
     "output_type": "stream",
     "text": [
      "\r\n",
      "Epoch 149/600:  25%|██▍       | 148/600 [1:16:46<3:41:29, 29.40s/it, v_num=yw_1, total_loss_train=496, kl_local_train=149, metric_mi|age_categorical_train=0.373]"
     ]
    },
    {
     "name": "stdout",
     "output_type": "stream",
     "text": [
      "\r\n",
      "Epoch 149/600:  25%|██▍       | 149/600 [1:17:15<3:40:38, 29.35s/it, v_num=yw_1, total_loss_train=496, kl_local_train=149, metric_mi|age_categorical_train=0.373]"
     ]
    },
    {
     "name": "stdout",
     "output_type": "stream",
     "text": [
      "\r\n",
      "Epoch 149/600:  25%|██▍       | 149/600 [1:17:15<3:40:38, 29.35s/it, v_num=yw_1, total_loss_train=496, kl_local_train=148, metric_mi|age_categorical_train=0.373]"
     ]
    },
    {
     "name": "stdout",
     "output_type": "stream",
     "text": [
      "\r\n",
      "Epoch 150/600:  25%|██▍       | 149/600 [1:17:15<3:40:38, 29.35s/it, v_num=yw_1, total_loss_train=496, kl_local_train=148, metric_mi|age_categorical_train=0.373]"
     ]
    },
    {
     "name": "stdout",
     "output_type": "stream",
     "text": [
      "\r\n",
      "Epoch 150/600:  25%|██▌       | 150/600 [1:17:45<3:40:10, 29.36s/it, v_num=yw_1, total_loss_train=496, kl_local_train=148, metric_mi|age_categorical_train=0.373]"
     ]
    },
    {
     "name": "stdout",
     "output_type": "stream",
     "text": [
      "\r\n",
      "Epoch 150/600:  25%|██▌       | 150/600 [1:17:45<3:40:10, 29.36s/it, v_num=yw_1, total_loss_train=496, kl_local_train=147, metric_mi|age_categorical_train=0.373]"
     ]
    },
    {
     "name": "stdout",
     "output_type": "stream",
     "text": [
      "\r\n",
      "Epoch 151/600:  25%|██▌       | 150/600 [1:17:45<3:40:10, 29.36s/it, v_num=yw_1, total_loss_train=496, kl_local_train=147, metric_mi|age_categorical_train=0.373]"
     ]
    },
    {
     "name": "stdout",
     "output_type": "stream",
     "text": [
      "\r\n",
      "Epoch 151/600:  25%|██▌       | 151/600 [1:18:15<3:40:52, 29.52s/it, v_num=yw_1, total_loss_train=496, kl_local_train=147, metric_mi|age_categorical_train=0.373]"
     ]
    },
    {
     "name": "stdout",
     "output_type": "stream",
     "text": [
      "\r\n",
      "Epoch 151/600:  25%|██▌       | 151/600 [1:18:15<3:40:52, 29.52s/it, v_num=yw_1, total_loss_train=497, kl_local_train=147, metric_mi|age_categorical_train=0.377]"
     ]
    },
    {
     "name": "stdout",
     "output_type": "stream",
     "text": [
      "\r\n",
      "Epoch 152/600:  25%|██▌       | 151/600 [1:18:15<3:40:52, 29.52s/it, v_num=yw_1, total_loss_train=497, kl_local_train=147, metric_mi|age_categorical_train=0.377]"
     ]
    },
    {
     "name": "stdout",
     "output_type": "stream",
     "text": [
      "\r\n",
      "Epoch 152/600:  25%|██▌       | 152/600 [1:18:44<3:39:42, 29.43s/it, v_num=yw_1, total_loss_train=497, kl_local_train=147, metric_mi|age_categorical_train=0.377]"
     ]
    },
    {
     "name": "stdout",
     "output_type": "stream",
     "text": [
      "\r\n",
      "Epoch 152/600:  25%|██▌       | 152/600 [1:18:44<3:39:42, 29.43s/it, v_num=yw_1, total_loss_train=497, kl_local_train=146, metric_mi|age_categorical_train=0.377]"
     ]
    },
    {
     "name": "stdout",
     "output_type": "stream",
     "text": [
      "\r\n",
      "Epoch 153/600:  25%|██▌       | 152/600 [1:18:44<3:39:42, 29.43s/it, v_num=yw_1, total_loss_train=497, kl_local_train=146, metric_mi|age_categorical_train=0.377]"
     ]
    },
    {
     "name": "stdout",
     "output_type": "stream",
     "text": [
      "\r\n",
      "Epoch 153/600:  26%|██▌       | 153/600 [1:19:13<3:38:44, 29.36s/it, v_num=yw_1, total_loss_train=497, kl_local_train=146, metric_mi|age_categorical_train=0.377]"
     ]
    },
    {
     "name": "stdout",
     "output_type": "stream",
     "text": [
      "\r\n",
      "Epoch 153/600:  26%|██▌       | 153/600 [1:19:13<3:38:44, 29.36s/it, v_num=yw_1, total_loss_train=497, kl_local_train=146, metric_mi|age_categorical_train=0.377]"
     ]
    },
    {
     "name": "stdout",
     "output_type": "stream",
     "text": [
      "\r\n",
      "Epoch 154/600:  26%|██▌       | 153/600 [1:19:13<3:38:44, 29.36s/it, v_num=yw_1, total_loss_train=497, kl_local_train=146, metric_mi|age_categorical_train=0.377]"
     ]
    },
    {
     "name": "stdout",
     "output_type": "stream",
     "text": [
      "\r\n",
      "Epoch 154/600:  26%|██▌       | 154/600 [1:19:42<3:37:58, 29.32s/it, v_num=yw_1, total_loss_train=497, kl_local_train=146, metric_mi|age_categorical_train=0.377]"
     ]
    },
    {
     "name": "stdout",
     "output_type": "stream",
     "text": [
      "\r\n",
      "Epoch 154/600:  26%|██▌       | 154/600 [1:19:42<3:37:58, 29.32s/it, v_num=yw_1, total_loss_train=497, kl_local_train=146, metric_mi|age_categorical_train=0.377]"
     ]
    },
    {
     "name": "stdout",
     "output_type": "stream",
     "text": [
      "\r\n",
      "Epoch 155/600:  26%|██▌       | 154/600 [1:19:42<3:37:58, 29.32s/it, v_num=yw_1, total_loss_train=497, kl_local_train=146, metric_mi|age_categorical_train=0.377]"
     ]
    },
    {
     "name": "stdout",
     "output_type": "stream",
     "text": [
      "\r\n",
      "Epoch 155/600:  26%|██▌       | 155/600 [1:20:12<3:37:41, 29.35s/it, v_num=yw_1, total_loss_train=497, kl_local_train=146, metric_mi|age_categorical_train=0.377]"
     ]
    },
    {
     "name": "stdout",
     "output_type": "stream",
     "text": [
      "\r\n",
      "Epoch 155/600:  26%|██▌       | 155/600 [1:20:12<3:37:41, 29.35s/it, v_num=yw_1, total_loss_train=497, kl_local_train=145, metric_mi|age_categorical_train=0.377]"
     ]
    },
    {
     "name": "stdout",
     "output_type": "stream",
     "text": [
      "\r\n",
      "Epoch 156/600:  26%|██▌       | 155/600 [1:20:12<3:37:41, 29.35s/it, v_num=yw_1, total_loss_train=497, kl_local_train=145, metric_mi|age_categorical_train=0.377]"
     ]
    },
    {
     "name": "stdout",
     "output_type": "stream",
     "text": [
      "\r\n",
      "Epoch 156/600:  26%|██▌       | 156/600 [1:20:42<3:38:17, 29.50s/it, v_num=yw_1, total_loss_train=497, kl_local_train=145, metric_mi|age_categorical_train=0.377]"
     ]
    },
    {
     "name": "stdout",
     "output_type": "stream",
     "text": [
      "\r\n",
      "Epoch 156/600:  26%|██▌       | 156/600 [1:20:42<3:38:17, 29.50s/it, v_num=yw_1, total_loss_train=497, kl_local_train=144, metric_mi|age_categorical_train=0.383]"
     ]
    },
    {
     "name": "stdout",
     "output_type": "stream",
     "text": [
      "\r\n",
      "Epoch 157/600:  26%|██▌       | 156/600 [1:20:42<3:38:17, 29.50s/it, v_num=yw_1, total_loss_train=497, kl_local_train=144, metric_mi|age_categorical_train=0.383]"
     ]
    },
    {
     "name": "stdout",
     "output_type": "stream",
     "text": [
      "\r\n",
      "Epoch 157/600:  26%|██▌       | 157/600 [1:21:11<3:37:17, 29.43s/it, v_num=yw_1, total_loss_train=497, kl_local_train=144, metric_mi|age_categorical_train=0.383]"
     ]
    },
    {
     "name": "stdout",
     "output_type": "stream",
     "text": [
      "\r\n",
      "Epoch 157/600:  26%|██▌       | 157/600 [1:21:11<3:37:17, 29.43s/it, v_num=yw_1, total_loss_train=497, kl_local_train=144, metric_mi|age_categorical_train=0.383]"
     ]
    },
    {
     "name": "stdout",
     "output_type": "stream",
     "text": [
      "\r\n",
      "Epoch 158/600:  26%|██▌       | 157/600 [1:21:11<3:37:17, 29.43s/it, v_num=yw_1, total_loss_train=497, kl_local_train=144, metric_mi|age_categorical_train=0.383]"
     ]
    },
    {
     "name": "stdout",
     "output_type": "stream",
     "text": [
      "\r\n",
      "Epoch 158/600:  26%|██▋       | 158/600 [1:21:40<3:36:00, 29.32s/it, v_num=yw_1, total_loss_train=497, kl_local_train=144, metric_mi|age_categorical_train=0.383]"
     ]
    },
    {
     "name": "stdout",
     "output_type": "stream",
     "text": [
      "\r\n",
      "Epoch 158/600:  26%|██▋       | 158/600 [1:21:40<3:36:00, 29.32s/it, v_num=yw_1, total_loss_train=497, kl_local_train=142, metric_mi|age_categorical_train=0.383]"
     ]
    },
    {
     "name": "stdout",
     "output_type": "stream",
     "text": [
      "\r\n",
      "Epoch 159/600:  26%|██▋       | 158/600 [1:21:40<3:36:00, 29.32s/it, v_num=yw_1, total_loss_train=497, kl_local_train=142, metric_mi|age_categorical_train=0.383]"
     ]
    },
    {
     "name": "stdout",
     "output_type": "stream",
     "text": [
      "\r\n",
      "Epoch 159/600:  26%|██▋       | 159/600 [1:22:09<3:35:09, 29.27s/it, v_num=yw_1, total_loss_train=497, kl_local_train=142, metric_mi|age_categorical_train=0.383]"
     ]
    },
    {
     "name": "stdout",
     "output_type": "stream",
     "text": [
      "\r\n",
      "Epoch 159/600:  26%|██▋       | 159/600 [1:22:09<3:35:09, 29.27s/it, v_num=yw_1, total_loss_train=497, kl_local_train=142, metric_mi|age_categorical_train=0.383]"
     ]
    },
    {
     "name": "stdout",
     "output_type": "stream",
     "text": [
      "\r\n",
      "Epoch 160/600:  26%|██▋       | 159/600 [1:22:09<3:35:09, 29.27s/it, v_num=yw_1, total_loss_train=497, kl_local_train=142, metric_mi|age_categorical_train=0.383]"
     ]
    },
    {
     "name": "stdout",
     "output_type": "stream",
     "text": [
      "\r\n",
      "Epoch 160/600:  27%|██▋       | 160/600 [1:22:38<3:34:49, 29.30s/it, v_num=yw_1, total_loss_train=497, kl_local_train=142, metric_mi|age_categorical_train=0.383]"
     ]
    },
    {
     "name": "stdout",
     "output_type": "stream",
     "text": [
      "\r\n",
      "Epoch 160/600:  27%|██▋       | 160/600 [1:22:39<3:34:49, 29.30s/it, v_num=yw_1, total_loss_train=497, kl_local_train=142, metric_mi|age_categorical_train=0.383]"
     ]
    },
    {
     "name": "stdout",
     "output_type": "stream",
     "text": [
      "\r\n",
      "Epoch 161/600:  27%|██▋       | 160/600 [1:22:39<3:34:49, 29.30s/it, v_num=yw_1, total_loss_train=497, kl_local_train=142, metric_mi|age_categorical_train=0.383]"
     ]
    },
    {
     "name": "stdout",
     "output_type": "stream",
     "text": [
      "\r\n",
      "Epoch 161/600:  27%|██▋       | 161/600 [1:23:08<3:35:34, 29.46s/it, v_num=yw_1, total_loss_train=497, kl_local_train=142, metric_mi|age_categorical_train=0.383]"
     ]
    },
    {
     "name": "stdout",
     "output_type": "stream",
     "text": [
      "\r\n",
      "Epoch 161/600:  27%|██▋       | 161/600 [1:23:08<3:35:34, 29.46s/it, v_num=yw_1, total_loss_train=498, kl_local_train=142, metric_mi|age_categorical_train=0.387]"
     ]
    },
    {
     "name": "stdout",
     "output_type": "stream",
     "text": [
      "\r\n",
      "Epoch 162/600:  27%|██▋       | 161/600 [1:23:08<3:35:34, 29.46s/it, v_num=yw_1, total_loss_train=498, kl_local_train=142, metric_mi|age_categorical_train=0.387]"
     ]
    },
    {
     "name": "stdout",
     "output_type": "stream",
     "text": [
      "\r\n",
      "Epoch 162/600:  27%|██▋       | 162/600 [1:23:38<3:34:24, 29.37s/it, v_num=yw_1, total_loss_train=498, kl_local_train=142, metric_mi|age_categorical_train=0.387]"
     ]
    },
    {
     "name": "stdout",
     "output_type": "stream",
     "text": [
      "\r\n",
      "Epoch 162/600:  27%|██▋       | 162/600 [1:23:38<3:34:24, 29.37s/it, v_num=yw_1, total_loss_train=498, kl_local_train=141, metric_mi|age_categorical_train=0.387]"
     ]
    },
    {
     "name": "stdout",
     "output_type": "stream",
     "text": [
      "\r\n",
      "Epoch 163/600:  27%|██▋       | 162/600 [1:23:38<3:34:24, 29.37s/it, v_num=yw_1, total_loss_train=498, kl_local_train=141, metric_mi|age_categorical_train=0.387]"
     ]
    },
    {
     "name": "stdout",
     "output_type": "stream",
     "text": [
      "\r\n",
      "Epoch 163/600:  27%|██▋       | 163/600 [1:24:07<3:33:27, 29.31s/it, v_num=yw_1, total_loss_train=498, kl_local_train=141, metric_mi|age_categorical_train=0.387]"
     ]
    },
    {
     "name": "stdout",
     "output_type": "stream",
     "text": [
      "\r\n",
      "Epoch 163/600:  27%|██▋       | 163/600 [1:24:07<3:33:27, 29.31s/it, v_num=yw_1, total_loss_train=498, kl_local_train=140, metric_mi|age_categorical_train=0.387]"
     ]
    },
    {
     "name": "stdout",
     "output_type": "stream",
     "text": [
      "\r\n",
      "Epoch 164/600:  27%|██▋       | 163/600 [1:24:07<3:33:27, 29.31s/it, v_num=yw_1, total_loss_train=498, kl_local_train=140, metric_mi|age_categorical_train=0.387]"
     ]
    },
    {
     "name": "stdout",
     "output_type": "stream",
     "text": [
      "\r\n",
      "Epoch 164/600:  27%|██▋       | 164/600 [1:24:36<3:32:37, 29.26s/it, v_num=yw_1, total_loss_train=498, kl_local_train=140, metric_mi|age_categorical_train=0.387]"
     ]
    },
    {
     "name": "stdout",
     "output_type": "stream",
     "text": [
      "\r\n",
      "Epoch 164/600:  27%|██▋       | 164/600 [1:24:36<3:32:37, 29.26s/it, v_num=yw_1, total_loss_train=498, kl_local_train=140, metric_mi|age_categorical_train=0.387]"
     ]
    },
    {
     "name": "stdout",
     "output_type": "stream",
     "text": [
      "\r\n",
      "Epoch 165/600:  27%|██▋       | 164/600 [1:24:36<3:32:37, 29.26s/it, v_num=yw_1, total_loss_train=498, kl_local_train=140, metric_mi|age_categorical_train=0.387]"
     ]
    },
    {
     "name": "stdout",
     "output_type": "stream",
     "text": [
      "\r\n",
      "Epoch 165/600:  28%|██▊       | 165/600 [1:25:05<3:32:31, 29.31s/it, v_num=yw_1, total_loss_train=498, kl_local_train=140, metric_mi|age_categorical_train=0.387]"
     ]
    },
    {
     "name": "stdout",
     "output_type": "stream",
     "text": [
      "\r\n",
      "Epoch 165/600:  28%|██▊       | 165/600 [1:25:05<3:32:31, 29.31s/it, v_num=yw_1, total_loss_train=498, kl_local_train=139, metric_mi|age_categorical_train=0.387]"
     ]
    },
    {
     "name": "stdout",
     "output_type": "stream",
     "text": [
      "\r\n",
      "Epoch 166/600:  28%|██▊       | 165/600 [1:25:06<3:32:31, 29.31s/it, v_num=yw_1, total_loss_train=498, kl_local_train=139, metric_mi|age_categorical_train=0.387]"
     ]
    },
    {
     "name": "stdout",
     "output_type": "stream",
     "text": [
      "\r\n",
      "Epoch 166/600:  28%|██▊       | 166/600 [1:25:35<3:33:13, 29.48s/it, v_num=yw_1, total_loss_train=498, kl_local_train=139, metric_mi|age_categorical_train=0.387]"
     ]
    },
    {
     "name": "stdout",
     "output_type": "stream",
     "text": [
      "\r\n",
      "Epoch 166/600:  28%|██▊       | 166/600 [1:25:35<3:33:13, 29.48s/it, v_num=yw_1, total_loss_train=498, kl_local_train=139, metric_mi|age_categorical_train=0.365]"
     ]
    },
    {
     "name": "stdout",
     "output_type": "stream",
     "text": [
      "\r\n",
      "Epoch 167/600:  28%|██▊       | 166/600 [1:25:35<3:33:13, 29.48s/it, v_num=yw_1, total_loss_train=498, kl_local_train=139, metric_mi|age_categorical_train=0.365]"
     ]
    },
    {
     "name": "stdout",
     "output_type": "stream",
     "text": [
      "\r\n",
      "Epoch 167/600:  28%|██▊       | 167/600 [1:26:04<3:32:31, 29.45s/it, v_num=yw_1, total_loss_train=498, kl_local_train=139, metric_mi|age_categorical_train=0.365]"
     ]
    },
    {
     "name": "stdout",
     "output_type": "stream",
     "text": [
      "\r\n",
      "Epoch 167/600:  28%|██▊       | 167/600 [1:26:05<3:32:31, 29.45s/it, v_num=yw_1, total_loss_train=498, kl_local_train=139, metric_mi|age_categorical_train=0.365]"
     ]
    },
    {
     "name": "stdout",
     "output_type": "stream",
     "text": [
      "\r\n",
      "Epoch 168/600:  28%|██▊       | 167/600 [1:26:05<3:32:31, 29.45s/it, v_num=yw_1, total_loss_train=498, kl_local_train=139, metric_mi|age_categorical_train=0.365]"
     ]
    },
    {
     "name": "stdout",
     "output_type": "stream",
     "text": [
      "\r\n",
      "Epoch 168/600:  28%|██▊       | 168/600 [1:26:34<3:31:27, 29.37s/it, v_num=yw_1, total_loss_train=498, kl_local_train=139, metric_mi|age_categorical_train=0.365]"
     ]
    },
    {
     "name": "stdout",
     "output_type": "stream",
     "text": [
      "\r\n",
      "Epoch 168/600:  28%|██▊       | 168/600 [1:26:34<3:31:27, 29.37s/it, v_num=yw_1, total_loss_train=498, kl_local_train=138, metric_mi|age_categorical_train=0.365]"
     ]
    },
    {
     "name": "stdout",
     "output_type": "stream",
     "text": [
      "\r\n",
      "Epoch 169/600:  28%|██▊       | 168/600 [1:26:34<3:31:27, 29.37s/it, v_num=yw_1, total_loss_train=498, kl_local_train=138, metric_mi|age_categorical_train=0.365]"
     ]
    },
    {
     "name": "stdout",
     "output_type": "stream",
     "text": [
      "\r\n",
      "Epoch 169/600:  28%|██▊       | 169/600 [1:27:03<3:30:42, 29.33s/it, v_num=yw_1, total_loss_train=498, kl_local_train=138, metric_mi|age_categorical_train=0.365]"
     ]
    },
    {
     "name": "stdout",
     "output_type": "stream",
     "text": [
      "\r\n",
      "Epoch 169/600:  28%|██▊       | 169/600 [1:27:03<3:30:42, 29.33s/it, v_num=yw_1, total_loss_train=498, kl_local_train=138, metric_mi|age_categorical_train=0.365]"
     ]
    },
    {
     "name": "stdout",
     "output_type": "stream",
     "text": [
      "\r\n",
      "Epoch 170/600:  28%|██▊       | 169/600 [1:27:03<3:30:42, 29.33s/it, v_num=yw_1, total_loss_train=498, kl_local_train=138, metric_mi|age_categorical_train=0.365]"
     ]
    },
    {
     "name": "stdout",
     "output_type": "stream",
     "text": [
      "\r\n",
      "Epoch 170/600:  28%|██▊       | 170/600 [1:27:32<3:30:12, 29.33s/it, v_num=yw_1, total_loss_train=498, kl_local_train=138, metric_mi|age_categorical_train=0.365]"
     ]
    },
    {
     "name": "stdout",
     "output_type": "stream",
     "text": [
      "\r\n",
      "Epoch 170/600:  28%|██▊       | 170/600 [1:27:32<3:30:12, 29.33s/it, v_num=yw_1, total_loss_train=498, kl_local_train=138, metric_mi|age_categorical_train=0.365]"
     ]
    },
    {
     "name": "stdout",
     "output_type": "stream",
     "text": [
      "\r\n",
      "Epoch 171/600:  28%|██▊       | 170/600 [1:27:33<3:30:12, 29.33s/it, v_num=yw_1, total_loss_train=498, kl_local_train=138, metric_mi|age_categorical_train=0.365]"
     ]
    },
    {
     "name": "stdout",
     "output_type": "stream",
     "text": [
      "\r\n",
      "Epoch 171/600:  28%|██▊       | 171/600 [1:28:02<3:30:50, 29.49s/it, v_num=yw_1, total_loss_train=498, kl_local_train=138, metric_mi|age_categorical_train=0.365]"
     ]
    },
    {
     "name": "stdout",
     "output_type": "stream",
     "text": [
      "\r\n",
      "Epoch 171/600:  28%|██▊       | 171/600 [1:28:02<3:30:50, 29.49s/it, v_num=yw_1, total_loss_train=498, kl_local_train=136, metric_mi|age_categorical_train=0.379]"
     ]
    },
    {
     "name": "stdout",
     "output_type": "stream",
     "text": [
      "\r\n",
      "Epoch 172/600:  28%|██▊       | 171/600 [1:28:02<3:30:50, 29.49s/it, v_num=yw_1, total_loss_train=498, kl_local_train=136, metric_mi|age_categorical_train=0.379]"
     ]
    },
    {
     "name": "stdout",
     "output_type": "stream",
     "text": [
      "\r\n",
      "Epoch 172/600:  29%|██▊       | 172/600 [1:28:31<3:29:42, 29.40s/it, v_num=yw_1, total_loss_train=498, kl_local_train=136, metric_mi|age_categorical_train=0.379]"
     ]
    },
    {
     "name": "stdout",
     "output_type": "stream",
     "text": [
      "\r\n",
      "Epoch 172/600:  29%|██▊       | 172/600 [1:28:31<3:29:42, 29.40s/it, v_num=yw_1, total_loss_train=498, kl_local_train=136, metric_mi|age_categorical_train=0.379]"
     ]
    },
    {
     "name": "stdout",
     "output_type": "stream",
     "text": [
      "\r\n",
      "Epoch 173/600:  29%|██▊       | 172/600 [1:28:31<3:29:42, 29.40s/it, v_num=yw_1, total_loss_train=498, kl_local_train=136, metric_mi|age_categorical_train=0.379]"
     ]
    },
    {
     "name": "stdout",
     "output_type": "stream",
     "text": [
      "\r\n",
      "Epoch 173/600:  29%|██▉       | 173/600 [1:29:00<3:28:46, 29.34s/it, v_num=yw_1, total_loss_train=498, kl_local_train=136, metric_mi|age_categorical_train=0.379]"
     ]
    },
    {
     "name": "stdout",
     "output_type": "stream",
     "text": [
      "\r\n",
      "Epoch 173/600:  29%|██▉       | 173/600 [1:29:00<3:28:46, 29.34s/it, v_num=yw_1, total_loss_train=499, kl_local_train=137, metric_mi|age_categorical_train=0.379]"
     ]
    },
    {
     "name": "stdout",
     "output_type": "stream",
     "text": [
      "\r\n",
      "Epoch 174/600:  29%|██▉       | 173/600 [1:29:01<3:28:46, 29.34s/it, v_num=yw_1, total_loss_train=499, kl_local_train=137, metric_mi|age_categorical_train=0.379]"
     ]
    },
    {
     "name": "stdout",
     "output_type": "stream",
     "text": [
      "\r\n",
      "Epoch 174/600:  29%|██▉       | 174/600 [1:29:30<3:28:03, 29.30s/it, v_num=yw_1, total_loss_train=499, kl_local_train=137, metric_mi|age_categorical_train=0.379]"
     ]
    },
    {
     "name": "stdout",
     "output_type": "stream",
     "text": [
      "\r\n",
      "Epoch 174/600:  29%|██▉       | 174/600 [1:29:30<3:28:03, 29.30s/it, v_num=yw_1, total_loss_train=499, kl_local_train=136, metric_mi|age_categorical_train=0.379]"
     ]
    },
    {
     "name": "stdout",
     "output_type": "stream",
     "text": [
      "\r\n",
      "Epoch 175/600:  29%|██▉       | 174/600 [1:29:30<3:28:03, 29.30s/it, v_num=yw_1, total_loss_train=499, kl_local_train=136, metric_mi|age_categorical_train=0.379]"
     ]
    },
    {
     "name": "stdout",
     "output_type": "stream",
     "text": [
      "\r\n",
      "Epoch 175/600:  29%|██▉       | 175/600 [1:29:59<3:27:46, 29.33s/it, v_num=yw_1, total_loss_train=499, kl_local_train=136, metric_mi|age_categorical_train=0.379]"
     ]
    },
    {
     "name": "stdout",
     "output_type": "stream",
     "text": [
      "\r\n",
      "Epoch 175/600:  29%|██▉       | 175/600 [1:29:59<3:27:46, 29.33s/it, v_num=yw_1, total_loss_train=498, kl_local_train=135, metric_mi|age_categorical_train=0.379]"
     ]
    },
    {
     "name": "stdout",
     "output_type": "stream",
     "text": [
      "\r\n",
      "Epoch 176/600:  29%|██▉       | 175/600 [1:30:00<3:27:46, 29.33s/it, v_num=yw_1, total_loss_train=498, kl_local_train=135, metric_mi|age_categorical_train=0.379]"
     ]
    },
    {
     "name": "stdout",
     "output_type": "stream",
     "text": [
      "\r\n",
      "Epoch 176/600:  29%|██▉       | 176/600 [1:30:29<3:28:26, 29.50s/it, v_num=yw_1, total_loss_train=498, kl_local_train=135, metric_mi|age_categorical_train=0.379]"
     ]
    },
    {
     "name": "stdout",
     "output_type": "stream",
     "text": [
      "\r\n",
      "Epoch 176/600:  29%|██▉       | 176/600 [1:30:29<3:28:26, 29.50s/it, v_num=yw_1, total_loss_train=499, kl_local_train=135, metric_mi|age_categorical_train=0.383]"
     ]
    },
    {
     "name": "stdout",
     "output_type": "stream",
     "text": [
      "\r\n",
      "Epoch 177/600:  29%|██▉       | 176/600 [1:30:29<3:28:26, 29.50s/it, v_num=yw_1, total_loss_train=499, kl_local_train=135, metric_mi|age_categorical_train=0.383]"
     ]
    },
    {
     "name": "stdout",
     "output_type": "stream",
     "text": [
      "\r\n",
      "Epoch 177/600:  30%|██▉       | 177/600 [1:30:58<3:27:34, 29.44s/it, v_num=yw_1, total_loss_train=499, kl_local_train=135, metric_mi|age_categorical_train=0.383]"
     ]
    },
    {
     "name": "stdout",
     "output_type": "stream",
     "text": [
      "\r\n",
      "Epoch 177/600:  30%|██▉       | 177/600 [1:30:58<3:27:34, 29.44s/it, v_num=yw_1, total_loss_train=499, kl_local_train=135, metric_mi|age_categorical_train=0.383]"
     ]
    },
    {
     "name": "stdout",
     "output_type": "stream",
     "text": [
      "\r\n",
      "Epoch 178/600:  30%|██▉       | 177/600 [1:30:58<3:27:34, 29.44s/it, v_num=yw_1, total_loss_train=499, kl_local_train=135, metric_mi|age_categorical_train=0.383]"
     ]
    },
    {
     "name": "stdout",
     "output_type": "stream",
     "text": [
      "\r\n",
      "Epoch 178/600:  30%|██▉       | 178/600 [1:31:27<3:26:29, 29.36s/it, v_num=yw_1, total_loss_train=499, kl_local_train=135, metric_mi|age_categorical_train=0.383]"
     ]
    },
    {
     "name": "stdout",
     "output_type": "stream",
     "text": [
      "\r\n",
      "Epoch 178/600:  30%|██▉       | 178/600 [1:31:27<3:26:29, 29.36s/it, v_num=yw_1, total_loss_train=499, kl_local_train=135, metric_mi|age_categorical_train=0.383]"
     ]
    },
    {
     "name": "stdout",
     "output_type": "stream",
     "text": [
      "\r\n",
      "Epoch 179/600:  30%|██▉       | 178/600 [1:31:27<3:26:29, 29.36s/it, v_num=yw_1, total_loss_train=499, kl_local_train=135, metric_mi|age_categorical_train=0.383]"
     ]
    },
    {
     "name": "stdout",
     "output_type": "stream",
     "text": [
      "\r\n",
      "Epoch 179/600:  30%|██▉       | 179/600 [1:31:57<3:25:42, 29.32s/it, v_num=yw_1, total_loss_train=499, kl_local_train=135, metric_mi|age_categorical_train=0.383]"
     ]
    },
    {
     "name": "stdout",
     "output_type": "stream",
     "text": [
      "\r\n",
      "Epoch 179/600:  30%|██▉       | 179/600 [1:31:57<3:25:42, 29.32s/it, v_num=yw_1, total_loss_train=499, kl_local_train=133, metric_mi|age_categorical_train=0.383]"
     ]
    },
    {
     "name": "stdout",
     "output_type": "stream",
     "text": [
      "\r\n",
      "Epoch 180/600:  30%|██▉       | 179/600 [1:31:57<3:25:42, 29.32s/it, v_num=yw_1, total_loss_train=499, kl_local_train=133, metric_mi|age_categorical_train=0.383]"
     ]
    },
    {
     "name": "stdout",
     "output_type": "stream",
     "text": [
      "\r\n",
      "Epoch 180/600:  30%|███       | 180/600 [1:32:26<3:25:18, 29.33s/it, v_num=yw_1, total_loss_train=499, kl_local_train=133, metric_mi|age_categorical_train=0.383]"
     ]
    },
    {
     "name": "stdout",
     "output_type": "stream",
     "text": [
      "\r\n",
      "Epoch 180/600:  30%|███       | 180/600 [1:32:26<3:25:18, 29.33s/it, v_num=yw_1, total_loss_train=499, kl_local_train=134, metric_mi|age_categorical_train=0.383]"
     ]
    },
    {
     "name": "stdout",
     "output_type": "stream",
     "text": [
      "\r\n",
      "Epoch 181/600:  30%|███       | 180/600 [1:32:27<3:25:18, 29.33s/it, v_num=yw_1, total_loss_train=499, kl_local_train=134, metric_mi|age_categorical_train=0.383]"
     ]
    },
    {
     "name": "stdout",
     "output_type": "stream",
     "text": [
      "\r\n",
      "Epoch 181/600:  30%|███       | 181/600 [1:32:56<3:25:54, 29.49s/it, v_num=yw_1, total_loss_train=499, kl_local_train=134, metric_mi|age_categorical_train=0.383]"
     ]
    },
    {
     "name": "stdout",
     "output_type": "stream",
     "text": [
      "\r\n",
      "Epoch 181/600:  30%|███       | 181/600 [1:32:56<3:25:54, 29.49s/it, v_num=yw_1, total_loss_train=499, kl_local_train=133, metric_mi|age_categorical_train=0.388]"
     ]
    },
    {
     "name": "stdout",
     "output_type": "stream",
     "text": [
      "\r\n",
      "Epoch 182/600:  30%|███       | 181/600 [1:32:56<3:25:54, 29.49s/it, v_num=yw_1, total_loss_train=499, kl_local_train=133, metric_mi|age_categorical_train=0.388]"
     ]
    },
    {
     "name": "stdout",
     "output_type": "stream",
     "text": [
      "\r\n",
      "Epoch 182/600:  30%|███       | 182/600 [1:33:25<3:24:53, 29.41s/it, v_num=yw_1, total_loss_train=499, kl_local_train=133, metric_mi|age_categorical_train=0.388]"
     ]
    },
    {
     "name": "stdout",
     "output_type": "stream",
     "text": [
      "\r\n",
      "Epoch 182/600:  30%|███       | 182/600 [1:33:25<3:24:53, 29.41s/it, v_num=yw_1, total_loss_train=499, kl_local_train=133, metric_mi|age_categorical_train=0.388]"
     ]
    },
    {
     "name": "stdout",
     "output_type": "stream",
     "text": [
      "\r\n",
      "Epoch 183/600:  30%|███       | 182/600 [1:33:25<3:24:53, 29.41s/it, v_num=yw_1, total_loss_train=499, kl_local_train=133, metric_mi|age_categorical_train=0.388]"
     ]
    },
    {
     "name": "stdout",
     "output_type": "stream",
     "text": [
      "\r\n",
      "Epoch 183/600:  30%|███       | 183/600 [1:33:54<3:23:53, 29.34s/it, v_num=yw_1, total_loss_train=499, kl_local_train=133, metric_mi|age_categorical_train=0.388]"
     ]
    },
    {
     "name": "stdout",
     "output_type": "stream",
     "text": [
      "\r\n",
      "Epoch 183/600:  30%|███       | 183/600 [1:33:54<3:23:53, 29.34s/it, v_num=yw_1, total_loss_train=499, kl_local_train=133, metric_mi|age_categorical_train=0.388]"
     ]
    },
    {
     "name": "stdout",
     "output_type": "stream",
     "text": [
      "\r\n",
      "Epoch 184/600:  30%|███       | 183/600 [1:33:54<3:23:53, 29.34s/it, v_num=yw_1, total_loss_train=499, kl_local_train=133, metric_mi|age_categorical_train=0.388]"
     ]
    },
    {
     "name": "stdout",
     "output_type": "stream",
     "text": [
      "\r\n",
      "Epoch 184/600:  31%|███       | 184/600 [1:34:24<3:23:09, 29.30s/it, v_num=yw_1, total_loss_train=499, kl_local_train=133, metric_mi|age_categorical_train=0.388]"
     ]
    },
    {
     "name": "stdout",
     "output_type": "stream",
     "text": [
      "\r\n",
      "Epoch 184/600:  31%|███       | 184/600 [1:34:24<3:23:09, 29.30s/it, v_num=yw_1, total_loss_train=499, kl_local_train=133, metric_mi|age_categorical_train=0.388]"
     ]
    },
    {
     "name": "stdout",
     "output_type": "stream",
     "text": [
      "\r\n",
      "Epoch 185/600:  31%|███       | 184/600 [1:34:24<3:23:09, 29.30s/it, v_num=yw_1, total_loss_train=499, kl_local_train=133, metric_mi|age_categorical_train=0.388]"
     ]
    },
    {
     "name": "stdout",
     "output_type": "stream",
     "text": [
      "\r\n",
      "Epoch 185/600:  31%|███       | 185/600 [1:34:53<3:22:48, 29.32s/it, v_num=yw_1, total_loss_train=499, kl_local_train=133, metric_mi|age_categorical_train=0.388]"
     ]
    },
    {
     "name": "stdout",
     "output_type": "stream",
     "text": [
      "\r\n",
      "Epoch 185/600:  31%|███       | 185/600 [1:34:53<3:22:48, 29.32s/it, v_num=yw_1, total_loss_train=500, kl_local_train=132, metric_mi|age_categorical_train=0.388]"
     ]
    },
    {
     "name": "stdout",
     "output_type": "stream",
     "text": [
      "\r\n",
      "Epoch 186/600:  31%|███       | 185/600 [1:34:54<3:22:48, 29.32s/it, v_num=yw_1, total_loss_train=500, kl_local_train=132, metric_mi|age_categorical_train=0.388]"
     ]
    },
    {
     "name": "stdout",
     "output_type": "stream",
     "text": [
      "\r\n",
      "Epoch 186/600:  31%|███       | 186/600 [1:35:23<3:23:30, 29.49s/it, v_num=yw_1, total_loss_train=500, kl_local_train=132, metric_mi|age_categorical_train=0.388]"
     ]
    },
    {
     "name": "stdout",
     "output_type": "stream",
     "text": [
      "\r\n",
      "Epoch 186/600:  31%|███       | 186/600 [1:35:23<3:23:30, 29.49s/it, v_num=yw_1, total_loss_train=499, kl_local_train=132, metric_mi|age_categorical_train=0.381]"
     ]
    },
    {
     "name": "stdout",
     "output_type": "stream",
     "text": [
      "\r\n",
      "Epoch 187/600:  31%|███       | 186/600 [1:35:23<3:23:30, 29.49s/it, v_num=yw_1, total_loss_train=499, kl_local_train=132, metric_mi|age_categorical_train=0.381]"
     ]
    },
    {
     "name": "stdout",
     "output_type": "stream",
     "text": [
      "\r\n",
      "Epoch 187/600:  31%|███       | 187/600 [1:35:52<3:22:30, 29.42s/it, v_num=yw_1, total_loss_train=499, kl_local_train=132, metric_mi|age_categorical_train=0.381]"
     ]
    },
    {
     "name": "stdout",
     "output_type": "stream",
     "text": [
      "\r\n",
      "Epoch 187/600:  31%|███       | 187/600 [1:35:52<3:22:30, 29.42s/it, v_num=yw_1, total_loss_train=500, kl_local_train=131, metric_mi|age_categorical_train=0.381]"
     ]
    },
    {
     "name": "stdout",
     "output_type": "stream",
     "text": [
      "\r\n",
      "Epoch 188/600:  31%|███       | 187/600 [1:35:52<3:22:30, 29.42s/it, v_num=yw_1, total_loss_train=500, kl_local_train=131, metric_mi|age_categorical_train=0.381]"
     ]
    },
    {
     "name": "stdout",
     "output_type": "stream",
     "text": [
      "\r\n",
      "Epoch 188/600:  31%|███▏      | 188/600 [1:36:21<3:21:53, 29.40s/it, v_num=yw_1, total_loss_train=500, kl_local_train=131, metric_mi|age_categorical_train=0.381]"
     ]
    },
    {
     "name": "stdout",
     "output_type": "stream",
     "text": [
      "\r\n",
      "Epoch 188/600:  31%|███▏      | 188/600 [1:36:21<3:21:53, 29.40s/it, v_num=yw_1, total_loss_train=500, kl_local_train=131, metric_mi|age_categorical_train=0.381]"
     ]
    },
    {
     "name": "stdout",
     "output_type": "stream",
     "text": [
      "\r\n",
      "Epoch 189/600:  31%|███▏      | 188/600 [1:36:21<3:21:53, 29.40s/it, v_num=yw_1, total_loss_train=500, kl_local_train=131, metric_mi|age_categorical_train=0.381]"
     ]
    },
    {
     "name": "stdout",
     "output_type": "stream",
     "text": [
      "\r\n",
      "Epoch 189/600:  32%|███▏      | 189/600 [1:36:51<3:21:04, 29.36s/it, v_num=yw_1, total_loss_train=500, kl_local_train=131, metric_mi|age_categorical_train=0.381]"
     ]
    },
    {
     "name": "stdout",
     "output_type": "stream",
     "text": [
      "\r\n",
      "Epoch 189/600:  32%|███▏      | 189/600 [1:36:51<3:21:04, 29.36s/it, v_num=yw_1, total_loss_train=500, kl_local_train=131, metric_mi|age_categorical_train=0.381]"
     ]
    },
    {
     "name": "stdout",
     "output_type": "stream",
     "text": [
      "\r\n",
      "Epoch 190/600:  32%|███▏      | 189/600 [1:36:51<3:21:04, 29.36s/it, v_num=yw_1, total_loss_train=500, kl_local_train=131, metric_mi|age_categorical_train=0.381]"
     ]
    },
    {
     "name": "stdout",
     "output_type": "stream",
     "text": [
      "\r\n",
      "Epoch 190/600:  32%|███▏      | 190/600 [1:37:20<3:20:55, 29.40s/it, v_num=yw_1, total_loss_train=500, kl_local_train=131, metric_mi|age_categorical_train=0.381]"
     ]
    },
    {
     "name": "stdout",
     "output_type": "stream",
     "text": [
      "\r\n",
      "Epoch 190/600:  32%|███▏      | 190/600 [1:37:20<3:20:55, 29.40s/it, v_num=yw_1, total_loss_train=500, kl_local_train=130, metric_mi|age_categorical_train=0.381]"
     ]
    },
    {
     "name": "stdout",
     "output_type": "stream",
     "text": [
      "\r\n",
      "Epoch 191/600:  32%|███▏      | 190/600 [1:37:21<3:20:55, 29.40s/it, v_num=yw_1, total_loss_train=500, kl_local_train=130, metric_mi|age_categorical_train=0.381]"
     ]
    },
    {
     "name": "stdout",
     "output_type": "stream",
     "text": [
      "\r\n",
      "Epoch 191/600:  32%|███▏      | 191/600 [1:37:50<3:21:18, 29.53s/it, v_num=yw_1, total_loss_train=500, kl_local_train=130, metric_mi|age_categorical_train=0.381]"
     ]
    },
    {
     "name": "stdout",
     "output_type": "stream",
     "text": [
      "\r\n",
      "Epoch 191/600:  32%|███▏      | 191/600 [1:37:50<3:21:18, 29.53s/it, v_num=yw_1, total_loss_train=500, kl_local_train=130, metric_mi|age_categorical_train=0.369]"
     ]
    },
    {
     "name": "stdout",
     "output_type": "stream",
     "text": [
      "\r\n",
      "Epoch 192/600:  32%|███▏      | 191/600 [1:37:50<3:21:18, 29.53s/it, v_num=yw_1, total_loss_train=500, kl_local_train=130, metric_mi|age_categorical_train=0.369]"
     ]
    },
    {
     "name": "stdout",
     "output_type": "stream",
     "text": [
      "\r\n",
      "Epoch 192/600:  32%|███▏      | 192/600 [1:38:19<3:20:10, 29.44s/it, v_num=yw_1, total_loss_train=500, kl_local_train=130, metric_mi|age_categorical_train=0.369]"
     ]
    },
    {
     "name": "stdout",
     "output_type": "stream",
     "text": [
      "\r\n",
      "Epoch 192/600:  32%|███▏      | 192/600 [1:38:19<3:20:10, 29.44s/it, v_num=yw_1, total_loss_train=500, kl_local_train=131, metric_mi|age_categorical_train=0.369]"
     ]
    },
    {
     "name": "stdout",
     "output_type": "stream",
     "text": [
      "\r\n",
      "Epoch 193/600:  32%|███▏      | 192/600 [1:38:19<3:20:10, 29.44s/it, v_num=yw_1, total_loss_train=500, kl_local_train=131, metric_mi|age_categorical_train=0.369]"
     ]
    },
    {
     "name": "stdout",
     "output_type": "stream",
     "text": [
      "\r\n",
      "Epoch 193/600:  32%|███▏      | 193/600 [1:38:48<3:19:04, 29.35s/it, v_num=yw_1, total_loss_train=500, kl_local_train=131, metric_mi|age_categorical_train=0.369]"
     ]
    },
    {
     "name": "stdout",
     "output_type": "stream",
     "text": [
      "\r\n",
      "Epoch 193/600:  32%|███▏      | 193/600 [1:38:48<3:19:04, 29.35s/it, v_num=yw_1, total_loss_train=500, kl_local_train=130, metric_mi|age_categorical_train=0.369]"
     ]
    },
    {
     "name": "stdout",
     "output_type": "stream",
     "text": [
      "\r\n",
      "Epoch 194/600:  32%|███▏      | 193/600 [1:38:48<3:19:04, 29.35s/it, v_num=yw_1, total_loss_train=500, kl_local_train=130, metric_mi|age_categorical_train=0.369]"
     ]
    },
    {
     "name": "stdout",
     "output_type": "stream",
     "text": [
      "\r\n",
      "Epoch 194/600:  32%|███▏      | 194/600 [1:39:18<3:18:20, 29.31s/it, v_num=yw_1, total_loss_train=500, kl_local_train=130, metric_mi|age_categorical_train=0.369]"
     ]
    },
    {
     "name": "stdout",
     "output_type": "stream",
     "text": [
      "\r\n",
      "Epoch 194/600:  32%|███▏      | 194/600 [1:39:18<3:18:20, 29.31s/it, v_num=yw_1, total_loss_train=500, kl_local_train=129, metric_mi|age_categorical_train=0.369]"
     ]
    },
    {
     "name": "stdout",
     "output_type": "stream",
     "text": [
      "\r\n",
      "Epoch 195/600:  32%|███▏      | 194/600 [1:39:18<3:18:20, 29.31s/it, v_num=yw_1, total_loss_train=500, kl_local_train=129, metric_mi|age_categorical_train=0.369]"
     ]
    },
    {
     "name": "stdout",
     "output_type": "stream",
     "text": [
      "\r\n",
      "Epoch 195/600:  32%|███▎      | 195/600 [1:39:47<3:17:52, 29.32s/it, v_num=yw_1, total_loss_train=500, kl_local_train=129, metric_mi|age_categorical_train=0.369]"
     ]
    },
    {
     "name": "stdout",
     "output_type": "stream",
     "text": [
      "\r\n",
      "Epoch 195/600:  32%|███▎      | 195/600 [1:39:47<3:17:52, 29.32s/it, v_num=yw_1, total_loss_train=501, kl_local_train=129, metric_mi|age_categorical_train=0.369]"
     ]
    },
    {
     "name": "stdout",
     "output_type": "stream",
     "text": [
      "\r\n",
      "Epoch 196/600:  32%|███▎      | 195/600 [1:39:48<3:17:52, 29.32s/it, v_num=yw_1, total_loss_train=501, kl_local_train=129, metric_mi|age_categorical_train=0.369]"
     ]
    },
    {
     "name": "stdout",
     "output_type": "stream",
     "text": [
      "\r\n",
      "Epoch 196/600:  33%|███▎      | 196/600 [1:40:17<3:18:32, 29.49s/it, v_num=yw_1, total_loss_train=501, kl_local_train=129, metric_mi|age_categorical_train=0.369]"
     ]
    },
    {
     "name": "stdout",
     "output_type": "stream",
     "text": [
      "\r\n",
      "Epoch 196/600:  33%|███▎      | 196/600 [1:40:17<3:18:32, 29.49s/it, v_num=yw_1, total_loss_train=501, kl_local_train=129, metric_mi|age_categorical_train=0.357]"
     ]
    },
    {
     "name": "stdout",
     "output_type": "stream",
     "text": [
      "\r\n",
      "Epoch 197/600:  33%|███▎      | 196/600 [1:40:17<3:18:32, 29.49s/it, v_num=yw_1, total_loss_train=501, kl_local_train=129, metric_mi|age_categorical_train=0.357]"
     ]
    },
    {
     "name": "stdout",
     "output_type": "stream",
     "text": [
      "\r\n",
      "Epoch 197/600:  33%|███▎      | 197/600 [1:40:46<3:17:24, 29.39s/it, v_num=yw_1, total_loss_train=501, kl_local_train=129, metric_mi|age_categorical_train=0.357]"
     ]
    },
    {
     "name": "stdout",
     "output_type": "stream",
     "text": [
      "\r\n",
      "Epoch 197/600:  33%|███▎      | 197/600 [1:40:46<3:17:24, 29.39s/it, v_num=yw_1, total_loss_train=501, kl_local_train=128, metric_mi|age_categorical_train=0.357]"
     ]
    },
    {
     "name": "stdout",
     "output_type": "stream",
     "text": [
      "\r\n",
      "Epoch 198/600:  33%|███▎      | 197/600 [1:40:46<3:17:24, 29.39s/it, v_num=yw_1, total_loss_train=501, kl_local_train=128, metric_mi|age_categorical_train=0.357]"
     ]
    },
    {
     "name": "stdout",
     "output_type": "stream",
     "text": [
      "\r\n",
      "Epoch 198/600:  33%|███▎      | 198/600 [1:41:15<3:16:37, 29.35s/it, v_num=yw_1, total_loss_train=501, kl_local_train=128, metric_mi|age_categorical_train=0.357]"
     ]
    },
    {
     "name": "stdout",
     "output_type": "stream",
     "text": [
      "\r\n",
      "Epoch 198/600:  33%|███▎      | 198/600 [1:41:15<3:16:37, 29.35s/it, v_num=yw_1, total_loss_train=501, kl_local_train=129, metric_mi|age_categorical_train=0.357]"
     ]
    },
    {
     "name": "stdout",
     "output_type": "stream",
     "text": [
      "\r\n",
      "Epoch 199/600:  33%|███▎      | 198/600 [1:41:15<3:16:37, 29.35s/it, v_num=yw_1, total_loss_train=501, kl_local_train=129, metric_mi|age_categorical_train=0.357]"
     ]
    },
    {
     "name": "stdout",
     "output_type": "stream",
     "text": [
      "\r\n",
      "Epoch 199/600:  33%|███▎      | 199/600 [1:41:44<3:15:48, 29.30s/it, v_num=yw_1, total_loss_train=501, kl_local_train=129, metric_mi|age_categorical_train=0.357]"
     ]
    },
    {
     "name": "stdout",
     "output_type": "stream",
     "text": [
      "\r\n",
      "Epoch 199/600:  33%|███▎      | 199/600 [1:41:44<3:15:48, 29.30s/it, v_num=yw_1, total_loss_train=501, kl_local_train=128, metric_mi|age_categorical_train=0.357]"
     ]
    },
    {
     "name": "stdout",
     "output_type": "stream",
     "text": [
      "\r\n",
      "Epoch 200/600:  33%|███▎      | 199/600 [1:41:44<3:15:48, 29.30s/it, v_num=yw_1, total_loss_train=501, kl_local_train=128, metric_mi|age_categorical_train=0.357]"
     ]
    },
    {
     "name": "stdout",
     "output_type": "stream",
     "text": [
      "\r\n",
      "Epoch 200/600:  33%|███▎      | 200/600 [1:42:14<3:16:05, 29.41s/it, v_num=yw_1, total_loss_train=501, kl_local_train=128, metric_mi|age_categorical_train=0.357]"
     ]
    },
    {
     "name": "stdout",
     "output_type": "stream",
     "text": [
      "\r\n",
      "Epoch 200/600:  33%|███▎      | 200/600 [1:42:14<3:16:05, 29.41s/it, v_num=yw_1, total_loss_train=501, kl_local_train=128, metric_mi|age_categorical_train=0.357]"
     ]
    },
    {
     "name": "stdout",
     "output_type": "stream",
     "text": [
      "\r\n",
      "Epoch 201/600:  33%|███▎      | 200/600 [1:42:15<3:16:05, 29.41s/it, v_num=yw_1, total_loss_train=501, kl_local_train=128, metric_mi|age_categorical_train=0.357]"
     ]
    },
    {
     "name": "stdout",
     "output_type": "stream",
     "text": [
      "\r\n",
      "Epoch 201/600:  34%|███▎      | 201/600 [1:42:44<3:16:16, 29.52s/it, v_num=yw_1, total_loss_train=501, kl_local_train=128, metric_mi|age_categorical_train=0.357]"
     ]
    },
    {
     "name": "stdout",
     "output_type": "stream",
     "text": [
      "\r\n",
      "Epoch 201/600:  34%|███▎      | 201/600 [1:42:44<3:16:16, 29.52s/it, v_num=yw_1, total_loss_train=501, kl_local_train=128, metric_mi|age_categorical_train=0.363]"
     ]
    },
    {
     "name": "stdout",
     "output_type": "stream",
     "text": [
      "\r\n",
      "Epoch 202/600:  34%|███▎      | 201/600 [1:42:44<3:16:16, 29.52s/it, v_num=yw_1, total_loss_train=501, kl_local_train=128, metric_mi|age_categorical_train=0.363]"
     ]
    },
    {
     "name": "stdout",
     "output_type": "stream",
     "text": [
      "\r\n",
      "Epoch 202/600:  34%|███▎      | 202/600 [1:43:13<3:15:05, 29.41s/it, v_num=yw_1, total_loss_train=501, kl_local_train=128, metric_mi|age_categorical_train=0.363]"
     ]
    },
    {
     "name": "stdout",
     "output_type": "stream",
     "text": [
      "\r\n",
      "Epoch 202/600:  34%|███▎      | 202/600 [1:43:13<3:15:05, 29.41s/it, v_num=yw_1, total_loss_train=501, kl_local_train=127, metric_mi|age_categorical_train=0.363]"
     ]
    },
    {
     "name": "stdout",
     "output_type": "stream",
     "text": [
      "\r\n",
      "Epoch 203/600:  34%|███▎      | 202/600 [1:43:13<3:15:05, 29.41s/it, v_num=yw_1, total_loss_train=501, kl_local_train=127, metric_mi|age_categorical_train=0.363]"
     ]
    },
    {
     "name": "stdout",
     "output_type": "stream",
     "text": [
      "\r\n",
      "Epoch 203/600:  34%|███▍      | 203/600 [1:43:42<3:14:06, 29.34s/it, v_num=yw_1, total_loss_train=501, kl_local_train=127, metric_mi|age_categorical_train=0.363]"
     ]
    },
    {
     "name": "stdout",
     "output_type": "stream",
     "text": [
      "\r\n",
      "Epoch 203/600:  34%|███▍      | 203/600 [1:43:42<3:14:06, 29.34s/it, v_num=yw_1, total_loss_train=501, kl_local_train=127, metric_mi|age_categorical_train=0.363]"
     ]
    },
    {
     "name": "stdout",
     "output_type": "stream",
     "text": [
      "\r\n",
      "Epoch 204/600:  34%|███▍      | 203/600 [1:43:42<3:14:06, 29.34s/it, v_num=yw_1, total_loss_train=501, kl_local_train=127, metric_mi|age_categorical_train=0.363]"
     ]
    },
    {
     "name": "stdout",
     "output_type": "stream",
     "text": [
      "\r\n",
      "Epoch 204/600:  34%|███▍      | 204/600 [1:44:11<3:13:18, 29.29s/it, v_num=yw_1, total_loss_train=501, kl_local_train=127, metric_mi|age_categorical_train=0.363]"
     ]
    },
    {
     "name": "stdout",
     "output_type": "stream",
     "text": [
      "\r\n",
      "Epoch 204/600:  34%|███▍      | 204/600 [1:44:11<3:13:18, 29.29s/it, v_num=yw_1, total_loss_train=501, kl_local_train=126, metric_mi|age_categorical_train=0.363]"
     ]
    },
    {
     "name": "stdout",
     "output_type": "stream",
     "text": [
      "\r\n",
      "Epoch 205/600:  34%|███▍      | 204/600 [1:44:11<3:13:18, 29.29s/it, v_num=yw_1, total_loss_train=501, kl_local_train=126, metric_mi|age_categorical_train=0.363]"
     ]
    },
    {
     "name": "stdout",
     "output_type": "stream",
     "text": [
      "\r\n",
      "Epoch 205/600:  34%|███▍      | 205/600 [1:44:41<3:12:47, 29.29s/it, v_num=yw_1, total_loss_train=501, kl_local_train=126, metric_mi|age_categorical_train=0.363]"
     ]
    },
    {
     "name": "stdout",
     "output_type": "stream",
     "text": [
      "\r\n",
      "Epoch 205/600:  34%|███▍      | 205/600 [1:44:41<3:12:47, 29.29s/it, v_num=yw_1, total_loss_train=501, kl_local_train=125, metric_mi|age_categorical_train=0.363]"
     ]
    },
    {
     "name": "stdout",
     "output_type": "stream",
     "text": [
      "\r\n",
      "Epoch 206/600:  34%|███▍      | 205/600 [1:44:41<3:12:47, 29.29s/it, v_num=yw_1, total_loss_train=501, kl_local_train=125, metric_mi|age_categorical_train=0.363]"
     ]
    },
    {
     "name": "stdout",
     "output_type": "stream",
     "text": [
      "\r\n",
      "Epoch 206/600:  34%|███▍      | 206/600 [1:45:10<3:13:02, 29.40s/it, v_num=yw_1, total_loss_train=501, kl_local_train=125, metric_mi|age_categorical_train=0.363]"
     ]
    },
    {
     "name": "stdout",
     "output_type": "stream",
     "text": [
      "\r\n",
      "Epoch 206/600:  34%|███▍      | 206/600 [1:45:10<3:13:02, 29.40s/it, v_num=yw_1, total_loss_train=502, kl_local_train=126, metric_mi|age_categorical_train=0.353]"
     ]
    },
    {
     "name": "stdout",
     "output_type": "stream",
     "text": [
      "\r\n",
      "Epoch 207/600:  34%|███▍      | 206/600 [1:45:10<3:13:02, 29.40s/it, v_num=yw_1, total_loss_train=502, kl_local_train=126, metric_mi|age_categorical_train=0.353]"
     ]
    },
    {
     "name": "stdout",
     "output_type": "stream",
     "text": [
      "\r\n",
      "Epoch 207/600:  34%|███▍      | 207/600 [1:45:39<3:11:45, 29.28s/it, v_num=yw_1, total_loss_train=502, kl_local_train=126, metric_mi|age_categorical_train=0.353]"
     ]
    },
    {
     "name": "stdout",
     "output_type": "stream",
     "text": [
      "\r\n",
      "Epoch 207/600:  34%|███▍      | 207/600 [1:45:39<3:11:45, 29.28s/it, v_num=yw_1, total_loss_train=502, kl_local_train=125, metric_mi|age_categorical_train=0.353]"
     ]
    },
    {
     "name": "stdout",
     "output_type": "stream",
     "text": [
      "\r\n",
      "Epoch 208/600:  34%|███▍      | 207/600 [1:45:39<3:11:45, 29.28s/it, v_num=yw_1, total_loss_train=502, kl_local_train=125, metric_mi|age_categorical_train=0.353]"
     ]
    },
    {
     "name": "stdout",
     "output_type": "stream",
     "text": [
      "\r\n",
      "Epoch 208/600:  35%|███▍      | 208/600 [1:46:08<3:10:45, 29.20s/it, v_num=yw_1, total_loss_train=502, kl_local_train=125, metric_mi|age_categorical_train=0.353]"
     ]
    },
    {
     "name": "stdout",
     "output_type": "stream",
     "text": [
      "\r\n",
      "Epoch 208/600:  35%|███▍      | 208/600 [1:46:08<3:10:45, 29.20s/it, v_num=yw_1, total_loss_train=502, kl_local_train=126, metric_mi|age_categorical_train=0.353]"
     ]
    },
    {
     "name": "stdout",
     "output_type": "stream",
     "text": [
      "\r\n",
      "Epoch 209/600:  35%|███▍      | 208/600 [1:46:08<3:10:45, 29.20s/it, v_num=yw_1, total_loss_train=502, kl_local_train=126, metric_mi|age_categorical_train=0.353]"
     ]
    },
    {
     "name": "stdout",
     "output_type": "stream",
     "text": [
      "\r\n",
      "Epoch 209/600:  35%|███▍      | 209/600 [1:46:37<3:10:03, 29.16s/it, v_num=yw_1, total_loss_train=502, kl_local_train=126, metric_mi|age_categorical_train=0.353]"
     ]
    },
    {
     "name": "stdout",
     "output_type": "stream",
     "text": [
      "\r\n",
      "Epoch 209/600:  35%|███▍      | 209/600 [1:46:37<3:10:03, 29.16s/it, v_num=yw_1, total_loss_train=502, kl_local_train=125, metric_mi|age_categorical_train=0.353]"
     ]
    },
    {
     "name": "stdout",
     "output_type": "stream",
     "text": [
      "\r\n",
      "Epoch 210/600:  35%|███▍      | 209/600 [1:46:37<3:10:03, 29.16s/it, v_num=yw_1, total_loss_train=502, kl_local_train=125, metric_mi|age_categorical_train=0.353]"
     ]
    },
    {
     "name": "stdout",
     "output_type": "stream",
     "text": [
      "\r\n",
      "Epoch 210/600:  35%|███▌      | 210/600 [1:47:06<3:09:21, 29.13s/it, v_num=yw_1, total_loss_train=502, kl_local_train=125, metric_mi|age_categorical_train=0.353]"
     ]
    },
    {
     "name": "stdout",
     "output_type": "stream",
     "text": [
      "\r\n",
      "Epoch 210/600:  35%|███▌      | 210/600 [1:47:06<3:09:21, 29.13s/it, v_num=yw_1, total_loss_train=502, kl_local_train=125, metric_mi|age_categorical_train=0.353]"
     ]
    },
    {
     "name": "stdout",
     "output_type": "stream",
     "text": [
      "\r\n",
      "Epoch 211/600:  35%|███▌      | 210/600 [1:47:07<3:09:21, 29.13s/it, v_num=yw_1, total_loss_train=502, kl_local_train=125, metric_mi|age_categorical_train=0.353]"
     ]
    },
    {
     "name": "stdout",
     "output_type": "stream",
     "text": [
      "\r\n",
      "Epoch 211/600:  35%|███▌      | 211/600 [1:47:36<3:09:55, 29.29s/it, v_num=yw_1, total_loss_train=502, kl_local_train=125, metric_mi|age_categorical_train=0.353]"
     ]
    },
    {
     "name": "stdout",
     "output_type": "stream",
     "text": [
      "\r\n",
      "Epoch 211/600:  35%|███▌      | 211/600 [1:47:36<3:09:55, 29.29s/it, v_num=yw_1, total_loss_train=502, kl_local_train=125, metric_mi|age_categorical_train=0.377]"
     ]
    },
    {
     "name": "stdout",
     "output_type": "stream",
     "text": [
      "\r\n",
      "Epoch 212/600:  35%|███▌      | 211/600 [1:47:36<3:09:55, 29.29s/it, v_num=yw_1, total_loss_train=502, kl_local_train=125, metric_mi|age_categorical_train=0.377]"
     ]
    },
    {
     "name": "stdout",
     "output_type": "stream",
     "text": [
      "\r\n",
      "Epoch 212/600:  35%|███▌      | 212/600 [1:48:05<3:08:41, 29.18s/it, v_num=yw_1, total_loss_train=502, kl_local_train=125, metric_mi|age_categorical_train=0.377]"
     ]
    },
    {
     "name": "stdout",
     "output_type": "stream",
     "text": [
      "\r\n",
      "Epoch 212/600:  35%|███▌      | 212/600 [1:48:05<3:08:41, 29.18s/it, v_num=yw_1, total_loss_train=502, kl_local_train=125, metric_mi|age_categorical_train=0.377]"
     ]
    },
    {
     "name": "stdout",
     "output_type": "stream",
     "text": [
      "\r\n",
      "Epoch 213/600:  35%|███▌      | 212/600 [1:48:05<3:08:41, 29.18s/it, v_num=yw_1, total_loss_train=502, kl_local_train=125, metric_mi|age_categorical_train=0.377]"
     ]
    },
    {
     "name": "stdout",
     "output_type": "stream",
     "text": [
      "\r\n",
      "Epoch 213/600:  36%|███▌      | 213/600 [1:48:34<3:07:46, 29.11s/it, v_num=yw_1, total_loss_train=502, kl_local_train=125, metric_mi|age_categorical_train=0.377]"
     ]
    },
    {
     "name": "stdout",
     "output_type": "stream",
     "text": [
      "\r\n",
      "Epoch 213/600:  36%|███▌      | 213/600 [1:48:34<3:07:46, 29.11s/it, v_num=yw_1, total_loss_train=502, kl_local_train=124, metric_mi|age_categorical_train=0.377]"
     ]
    },
    {
     "name": "stdout",
     "output_type": "stream",
     "text": [
      "\r\n",
      "Epoch 214/600:  36%|███▌      | 213/600 [1:48:34<3:07:46, 29.11s/it, v_num=yw_1, total_loss_train=502, kl_local_train=124, metric_mi|age_categorical_train=0.377]"
     ]
    },
    {
     "name": "stdout",
     "output_type": "stream",
     "text": [
      "\r\n",
      "Epoch 214/600:  36%|███▌      | 214/600 [1:49:03<3:06:56, 29.06s/it, v_num=yw_1, total_loss_train=502, kl_local_train=124, metric_mi|age_categorical_train=0.377]"
     ]
    },
    {
     "name": "stdout",
     "output_type": "stream",
     "text": [
      "\r\n",
      "Epoch 214/600:  36%|███▌      | 214/600 [1:49:03<3:06:56, 29.06s/it, v_num=yw_1, total_loss_train=502, kl_local_train=123, metric_mi|age_categorical_train=0.377]"
     ]
    },
    {
     "name": "stdout",
     "output_type": "stream",
     "text": [
      "\r\n",
      "Epoch 215/600:  36%|███▌      | 214/600 [1:49:03<3:06:56, 29.06s/it, v_num=yw_1, total_loss_train=502, kl_local_train=123, metric_mi|age_categorical_train=0.377]"
     ]
    },
    {
     "name": "stdout",
     "output_type": "stream",
     "text": [
      "\r\n",
      "Epoch 215/600:  36%|███▌      | 215/600 [1:49:32<3:06:32, 29.07s/it, v_num=yw_1, total_loss_train=502, kl_local_train=123, metric_mi|age_categorical_train=0.377]"
     ]
    },
    {
     "name": "stdout",
     "output_type": "stream",
     "text": [
      "\r\n",
      "Epoch 215/600:  36%|███▌      | 215/600 [1:49:32<3:06:32, 29.07s/it, v_num=yw_1, total_loss_train=502, kl_local_train=124, metric_mi|age_categorical_train=0.377]"
     ]
    },
    {
     "name": "stdout",
     "output_type": "stream",
     "text": [
      "\r\n",
      "Epoch 216/600:  36%|███▌      | 215/600 [1:49:33<3:06:32, 29.07s/it, v_num=yw_1, total_loss_train=502, kl_local_train=124, metric_mi|age_categorical_train=0.377]"
     ]
    },
    {
     "name": "stdout",
     "output_type": "stream",
     "text": [
      "\r\n",
      "Epoch 216/600:  36%|███▌      | 216/600 [1:50:02<3:07:13, 29.26s/it, v_num=yw_1, total_loss_train=502, kl_local_train=124, metric_mi|age_categorical_train=0.377]"
     ]
    },
    {
     "name": "stdout",
     "output_type": "stream",
     "text": [
      "\r\n",
      "Epoch 216/600:  36%|███▌      | 216/600 [1:50:02<3:07:13, 29.26s/it, v_num=yw_1, total_loss_train=502, kl_local_train=123, metric_mi|age_categorical_train=0.37] "
     ]
    },
    {
     "name": "stdout",
     "output_type": "stream",
     "text": [
      "\r\n",
      "Epoch 217/600:  36%|███▌      | 216/600 [1:50:02<3:07:13, 29.26s/it, v_num=yw_1, total_loss_train=502, kl_local_train=123, metric_mi|age_categorical_train=0.37]"
     ]
    },
    {
     "name": "stdout",
     "output_type": "stream",
     "text": [
      "\r\n",
      "Epoch 217/600:  36%|███▌      | 217/600 [1:50:31<3:06:11, 29.17s/it, v_num=yw_1, total_loss_train=502, kl_local_train=123, metric_mi|age_categorical_train=0.37]"
     ]
    },
    {
     "name": "stdout",
     "output_type": "stream",
     "text": [
      "\r\n",
      "Epoch 217/600:  36%|███▌      | 217/600 [1:50:31<3:06:11, 29.17s/it, v_num=yw_1, total_loss_train=502, kl_local_train=123, metric_mi|age_categorical_train=0.37]"
     ]
    },
    {
     "name": "stdout",
     "output_type": "stream",
     "text": [
      "\r\n",
      "Epoch 218/600:  36%|███▌      | 217/600 [1:50:31<3:06:11, 29.17s/it, v_num=yw_1, total_loss_train=502, kl_local_train=123, metric_mi|age_categorical_train=0.37]"
     ]
    },
    {
     "name": "stdout",
     "output_type": "stream",
     "text": [
      "\r\n",
      "Epoch 218/600:  36%|███▋      | 218/600 [1:51:00<3:05:15, 29.10s/it, v_num=yw_1, total_loss_train=502, kl_local_train=123, metric_mi|age_categorical_train=0.37]"
     ]
    },
    {
     "name": "stdout",
     "output_type": "stream",
     "text": [
      "\r\n",
      "Epoch 218/600:  36%|███▋      | 218/600 [1:51:00<3:05:15, 29.10s/it, v_num=yw_1, total_loss_train=503, kl_local_train=123, metric_mi|age_categorical_train=0.37]"
     ]
    },
    {
     "name": "stdout",
     "output_type": "stream",
     "text": [
      "\r\n",
      "Epoch 219/600:  36%|███▋      | 218/600 [1:51:00<3:05:15, 29.10s/it, v_num=yw_1, total_loss_train=503, kl_local_train=123, metric_mi|age_categorical_train=0.37]"
     ]
    },
    {
     "name": "stdout",
     "output_type": "stream",
     "text": [
      "\r\n",
      "Epoch 219/600:  36%|███▋      | 219/600 [1:51:29<3:04:40, 29.08s/it, v_num=yw_1, total_loss_train=503, kl_local_train=123, metric_mi|age_categorical_train=0.37]"
     ]
    },
    {
     "name": "stdout",
     "output_type": "stream",
     "text": [
      "\r\n",
      "Epoch 219/600:  36%|███▋      | 219/600 [1:51:29<3:04:40, 29.08s/it, v_num=yw_1, total_loss_train=503, kl_local_train=123, metric_mi|age_categorical_train=0.37]"
     ]
    },
    {
     "name": "stdout",
     "output_type": "stream",
     "text": [
      "\r\n",
      "Epoch 220/600:  36%|███▋      | 219/600 [1:51:29<3:04:40, 29.08s/it, v_num=yw_1, total_loss_train=503, kl_local_train=123, metric_mi|age_categorical_train=0.37]"
     ]
    },
    {
     "name": "stdout",
     "output_type": "stream",
     "text": [
      "\r\n",
      "Epoch 220/600:  37%|███▋      | 220/600 [1:51:58<3:04:20, 29.11s/it, v_num=yw_1, total_loss_train=503, kl_local_train=123, metric_mi|age_categorical_train=0.37]"
     ]
    },
    {
     "name": "stdout",
     "output_type": "stream",
     "text": [
      "\r\n",
      "Epoch 220/600:  37%|███▋      | 220/600 [1:51:58<3:04:20, 29.11s/it, v_num=yw_1, total_loss_train=503, kl_local_train=122, metric_mi|age_categorical_train=0.37]"
     ]
    },
    {
     "name": "stdout",
     "output_type": "stream",
     "text": [
      "\r\n",
      "Epoch 221/600:  37%|███▋      | 220/600 [1:51:58<3:04:20, 29.11s/it, v_num=yw_1, total_loss_train=503, kl_local_train=122, metric_mi|age_categorical_train=0.37]"
     ]
    },
    {
     "name": "stdout",
     "output_type": "stream",
     "text": [
      "\r\n",
      "Epoch 221/600:  37%|███▋      | 221/600 [1:52:27<3:04:56, 29.28s/it, v_num=yw_1, total_loss_train=503, kl_local_train=122, metric_mi|age_categorical_train=0.37]"
     ]
    },
    {
     "name": "stdout",
     "output_type": "stream",
     "text": [
      "\r\n",
      "Epoch 221/600:  37%|███▋      | 221/600 [1:52:27<3:04:56, 29.28s/it, v_num=yw_1, total_loss_train=503, kl_local_train=123, metric_mi|age_categorical_train=0.37]"
     ]
    },
    {
     "name": "stdout",
     "output_type": "stream",
     "text": [
      "\r\n",
      "Epoch 222/600:  37%|███▋      | 221/600 [1:52:27<3:04:56, 29.28s/it, v_num=yw_1, total_loss_train=503, kl_local_train=123, metric_mi|age_categorical_train=0.37]"
     ]
    },
    {
     "name": "stdout",
     "output_type": "stream",
     "text": [
      "\r\n",
      "Epoch 222/600:  37%|███▋      | 222/600 [1:52:56<3:03:58, 29.20s/it, v_num=yw_1, total_loss_train=503, kl_local_train=123, metric_mi|age_categorical_train=0.37]"
     ]
    },
    {
     "name": "stdout",
     "output_type": "stream",
     "text": [
      "\r\n",
      "Epoch 222/600:  37%|███▋      | 222/600 [1:52:56<3:03:58, 29.20s/it, v_num=yw_1, total_loss_train=503, kl_local_train=122, metric_mi|age_categorical_train=0.37]"
     ]
    },
    {
     "name": "stdout",
     "output_type": "stream",
     "text": [
      "\r\n",
      "Epoch 223/600:  37%|███▋      | 222/600 [1:52:56<3:03:58, 29.20s/it, v_num=yw_1, total_loss_train=503, kl_local_train=122, metric_mi|age_categorical_train=0.37]"
     ]
    },
    {
     "name": "stdout",
     "output_type": "stream",
     "text": [
      "\r\n",
      "Epoch 223/600:  37%|███▋      | 223/600 [1:53:25<3:03:03, 29.13s/it, v_num=yw_1, total_loss_train=503, kl_local_train=122, metric_mi|age_categorical_train=0.37]"
     ]
    },
    {
     "name": "stdout",
     "output_type": "stream",
     "text": [
      "\r\n",
      "Epoch 223/600:  37%|███▋      | 223/600 [1:53:25<3:03:03, 29.13s/it, v_num=yw_1, total_loss_train=503, kl_local_train=122, metric_mi|age_categorical_train=0.37]"
     ]
    },
    {
     "name": "stdout",
     "output_type": "stream",
     "text": [
      "\r\n",
      "Epoch 224/600:  37%|███▋      | 223/600 [1:53:25<3:03:03, 29.13s/it, v_num=yw_1, total_loss_train=503, kl_local_train=122, metric_mi|age_categorical_train=0.37]"
     ]
    },
    {
     "name": "stdout",
     "output_type": "stream",
     "text": [
      "\r\n",
      "Epoch 224/600:  37%|███▋      | 224/600 [1:53:54<3:02:20, 29.10s/it, v_num=yw_1, total_loss_train=503, kl_local_train=122, metric_mi|age_categorical_train=0.37]"
     ]
    },
    {
     "name": "stdout",
     "output_type": "stream",
     "text": [
      "\r\n",
      "Epoch 224/600:  37%|███▋      | 224/600 [1:53:54<3:02:20, 29.10s/it, v_num=yw_1, total_loss_train=504, kl_local_train=122, metric_mi|age_categorical_train=0.37]"
     ]
    },
    {
     "name": "stdout",
     "output_type": "stream",
     "text": [
      "\r\n",
      "Epoch 225/600:  37%|███▋      | 224/600 [1:53:54<3:02:20, 29.10s/it, v_num=yw_1, total_loss_train=504, kl_local_train=122, metric_mi|age_categorical_train=0.37]"
     ]
    },
    {
     "name": "stdout",
     "output_type": "stream",
     "text": [
      "\r\n",
      "Epoch 225/600:  38%|███▊      | 225/600 [1:54:24<3:01:56, 29.11s/it, v_num=yw_1, total_loss_train=504, kl_local_train=122, metric_mi|age_categorical_train=0.37]"
     ]
    },
    {
     "name": "stdout",
     "output_type": "stream",
     "text": [
      "\r\n",
      "Epoch 225/600:  38%|███▊      | 225/600 [1:54:24<3:01:56, 29.11s/it, v_num=yw_1, total_loss_train=504, kl_local_train=122, metric_mi|age_categorical_train=0.37]"
     ]
    },
    {
     "name": "stdout",
     "output_type": "stream",
     "text": [
      "\r\n",
      "Epoch 226/600:  38%|███▊      | 225/600 [1:54:24<3:01:56, 29.11s/it, v_num=yw_1, total_loss_train=504, kl_local_train=122, metric_mi|age_categorical_train=0.37]"
     ]
    },
    {
     "name": "stdout",
     "output_type": "stream",
     "text": [
      "\r\n",
      "Epoch 226/600:  38%|███▊      | 226/600 [1:54:53<3:02:30, 29.28s/it, v_num=yw_1, total_loss_train=504, kl_local_train=122, metric_mi|age_categorical_train=0.37]"
     ]
    },
    {
     "name": "stdout",
     "output_type": "stream",
     "text": [
      "\r\n",
      "Epoch 226/600:  38%|███▊      | 226/600 [1:54:53<3:02:30, 29.28s/it, v_num=yw_1, total_loss_train=504, kl_local_train=122, metric_mi|age_categorical_train=0.356]"
     ]
    },
    {
     "name": "stdout",
     "output_type": "stream",
     "text": [
      "\r\n",
      "Epoch 227/600:  38%|███▊      | 226/600 [1:54:53<3:02:30, 29.28s/it, v_num=yw_1, total_loss_train=504, kl_local_train=122, metric_mi|age_categorical_train=0.356]"
     ]
    },
    {
     "name": "stdout",
     "output_type": "stream",
     "text": [
      "\r\n",
      "Epoch 227/600:  38%|███▊      | 227/600 [1:55:22<3:01:30, 29.20s/it, v_num=yw_1, total_loss_train=504, kl_local_train=122, metric_mi|age_categorical_train=0.356]"
     ]
    },
    {
     "name": "stdout",
     "output_type": "stream",
     "text": [
      "\r\n",
      "Epoch 227/600:  38%|███▊      | 227/600 [1:55:22<3:01:30, 29.20s/it, v_num=yw_1, total_loss_train=504, kl_local_train=121, metric_mi|age_categorical_train=0.356]"
     ]
    },
    {
     "name": "stdout",
     "output_type": "stream",
     "text": [
      "\r\n",
      "Epoch 228/600:  38%|███▊      | 227/600 [1:55:22<3:01:30, 29.20s/it, v_num=yw_1, total_loss_train=504, kl_local_train=121, metric_mi|age_categorical_train=0.356]"
     ]
    },
    {
     "name": "stdout",
     "output_type": "stream",
     "text": [
      "\r\n",
      "Epoch 228/600:  38%|███▊      | 228/600 [1:55:51<3:00:39, 29.14s/it, v_num=yw_1, total_loss_train=504, kl_local_train=121, metric_mi|age_categorical_train=0.356]"
     ]
    },
    {
     "name": "stdout",
     "output_type": "stream",
     "text": [
      "\r\n",
      "Epoch 228/600:  38%|███▊      | 228/600 [1:55:51<3:00:39, 29.14s/it, v_num=yw_1, total_loss_train=504, kl_local_train=121, metric_mi|age_categorical_train=0.356]"
     ]
    },
    {
     "name": "stdout",
     "output_type": "stream",
     "text": [
      "\r\n",
      "Epoch 229/600:  38%|███▊      | 228/600 [1:55:51<3:00:39, 29.14s/it, v_num=yw_1, total_loss_train=504, kl_local_train=121, metric_mi|age_categorical_train=0.356]"
     ]
    },
    {
     "name": "stdout",
     "output_type": "stream",
     "text": [
      "\r\n",
      "Epoch 229/600:  38%|███▊      | 229/600 [1:56:20<2:59:56, 29.10s/it, v_num=yw_1, total_loss_train=504, kl_local_train=121, metric_mi|age_categorical_train=0.356]"
     ]
    },
    {
     "name": "stdout",
     "output_type": "stream",
     "text": [
      "\r\n",
      "Epoch 229/600:  38%|███▊      | 229/600 [1:56:20<2:59:56, 29.10s/it, v_num=yw_1, total_loss_train=504, kl_local_train=121, metric_mi|age_categorical_train=0.356]"
     ]
    },
    {
     "name": "stdout",
     "output_type": "stream",
     "text": [
      "\r\n",
      "Epoch 230/600:  38%|███▊      | 229/600 [1:56:20<2:59:56, 29.10s/it, v_num=yw_1, total_loss_train=504, kl_local_train=121, metric_mi|age_categorical_train=0.356]"
     ]
    },
    {
     "name": "stdout",
     "output_type": "stream",
     "text": [
      "\r\n",
      "Epoch 230/600:  38%|███▊      | 230/600 [1:56:50<2:59:45, 29.15s/it, v_num=yw_1, total_loss_train=504, kl_local_train=121, metric_mi|age_categorical_train=0.356]"
     ]
    },
    {
     "name": "stdout",
     "output_type": "stream",
     "text": [
      "\r\n",
      "Epoch 230/600:  38%|███▊      | 230/600 [1:56:50<2:59:45, 29.15s/it, v_num=yw_1, total_loss_train=504, kl_local_train=121, metric_mi|age_categorical_train=0.356]"
     ]
    },
    {
     "name": "stdout",
     "output_type": "stream",
     "text": [
      "\r\n",
      "Epoch 231/600:  38%|███▊      | 230/600 [1:56:50<2:59:45, 29.15s/it, v_num=yw_1, total_loss_train=504, kl_local_train=121, metric_mi|age_categorical_train=0.356]"
     ]
    },
    {
     "name": "stdout",
     "output_type": "stream",
     "text": [
      "\r\n",
      "Epoch 231/600:  38%|███▊      | 231/600 [1:57:19<3:00:12, 29.30s/it, v_num=yw_1, total_loss_train=504, kl_local_train=121, metric_mi|age_categorical_train=0.356]"
     ]
    },
    {
     "name": "stdout",
     "output_type": "stream",
     "text": [
      "\r\n",
      "Epoch 231/600:  38%|███▊      | 231/600 [1:57:19<3:00:12, 29.30s/it, v_num=yw_1, total_loss_train=504, kl_local_train=120, metric_mi|age_categorical_train=0.361]"
     ]
    },
    {
     "name": "stdout",
     "output_type": "stream",
     "text": [
      "\r\n",
      "Epoch 232/600:  38%|███▊      | 231/600 [1:57:19<3:00:12, 29.30s/it, v_num=yw_1, total_loss_train=504, kl_local_train=120, metric_mi|age_categorical_train=0.361]"
     ]
    },
    {
     "name": "stdout",
     "output_type": "stream",
     "text": [
      "\r\n",
      "Epoch 232/600:  39%|███▊      | 232/600 [1:57:48<2:59:08, 29.21s/it, v_num=yw_1, total_loss_train=504, kl_local_train=120, metric_mi|age_categorical_train=0.361]"
     ]
    },
    {
     "name": "stdout",
     "output_type": "stream",
     "text": [
      "\r\n",
      "Epoch 232/600:  39%|███▊      | 232/600 [1:57:48<2:59:08, 29.21s/it, v_num=yw_1, total_loss_train=504, kl_local_train=120, metric_mi|age_categorical_train=0.361]"
     ]
    },
    {
     "name": "stdout",
     "output_type": "stream",
     "text": [
      "\r\n",
      "Epoch 233/600:  39%|███▊      | 232/600 [1:57:48<2:59:08, 29.21s/it, v_num=yw_1, total_loss_train=504, kl_local_train=120, metric_mi|age_categorical_train=0.361]"
     ]
    },
    {
     "name": "stdout",
     "output_type": "stream",
     "text": [
      "\r\n",
      "Epoch 233/600:  39%|███▉      | 233/600 [1:58:17<2:58:08, 29.12s/it, v_num=yw_1, total_loss_train=504, kl_local_train=120, metric_mi|age_categorical_train=0.361]"
     ]
    },
    {
     "name": "stdout",
     "output_type": "stream",
     "text": [
      "\r\n",
      "Epoch 233/600:  39%|███▉      | 233/600 [1:58:17<2:58:08, 29.12s/it, v_num=yw_1, total_loss_train=505, kl_local_train=119, metric_mi|age_categorical_train=0.361]"
     ]
    },
    {
     "name": "stdout",
     "output_type": "stream",
     "text": [
      "\r\n",
      "Epoch 234/600:  39%|███▉      | 233/600 [1:58:17<2:58:08, 29.12s/it, v_num=yw_1, total_loss_train=505, kl_local_train=119, metric_mi|age_categorical_train=0.361]"
     ]
    },
    {
     "name": "stdout",
     "output_type": "stream",
     "text": [
      "\r\n",
      "Epoch 234/600:  39%|███▉      | 234/600 [1:58:46<2:57:23, 29.08s/it, v_num=yw_1, total_loss_train=505, kl_local_train=119, metric_mi|age_categorical_train=0.361]"
     ]
    },
    {
     "name": "stdout",
     "output_type": "stream",
     "text": [
      "\r\n",
      "Epoch 234/600:  39%|███▉      | 234/600 [1:58:46<2:57:23, 29.08s/it, v_num=yw_1, total_loss_train=505, kl_local_train=119, metric_mi|age_categorical_train=0.361]"
     ]
    },
    {
     "name": "stdout",
     "output_type": "stream",
     "text": [
      "\r\n",
      "Epoch 235/600:  39%|███▉      | 234/600 [1:58:46<2:57:23, 29.08s/it, v_num=yw_1, total_loss_train=505, kl_local_train=119, metric_mi|age_categorical_train=0.361]"
     ]
    },
    {
     "name": "stdout",
     "output_type": "stream",
     "text": [
      "\r\n",
      "Epoch 235/600:  39%|███▉      | 235/600 [1:59:15<2:56:58, 29.09s/it, v_num=yw_1, total_loss_train=505, kl_local_train=119, metric_mi|age_categorical_train=0.361]"
     ]
    },
    {
     "name": "stdout",
     "output_type": "stream",
     "text": [
      "\r\n",
      "Epoch 235/600:  39%|███▉      | 235/600 [1:59:15<2:56:58, 29.09s/it, v_num=yw_1, total_loss_train=505, kl_local_train=119, metric_mi|age_categorical_train=0.361]"
     ]
    },
    {
     "name": "stdout",
     "output_type": "stream",
     "text": [
      "\r\n",
      "Epoch 236/600:  39%|███▉      | 235/600 [1:59:16<2:56:58, 29.09s/it, v_num=yw_1, total_loss_train=505, kl_local_train=119, metric_mi|age_categorical_train=0.361]"
     ]
    },
    {
     "name": "stdout",
     "output_type": "stream",
     "text": [
      "\r\n",
      "Epoch 236/600:  39%|███▉      | 236/600 [1:59:45<2:57:45, 29.30s/it, v_num=yw_1, total_loss_train=505, kl_local_train=119, metric_mi|age_categorical_train=0.361]"
     ]
    },
    {
     "name": "stdout",
     "output_type": "stream",
     "text": [
      "\r\n",
      "Epoch 236/600:  39%|███▉      | 236/600 [1:59:45<2:57:45, 29.30s/it, v_num=yw_1, total_loss_train=505, kl_local_train=119, metric_mi|age_categorical_train=0.367]"
     ]
    },
    {
     "name": "stdout",
     "output_type": "stream",
     "text": [
      "\r\n",
      "Epoch 237/600:  39%|███▉      | 236/600 [1:59:45<2:57:45, 29.30s/it, v_num=yw_1, total_loss_train=505, kl_local_train=119, metric_mi|age_categorical_train=0.367]"
     ]
    },
    {
     "name": "stdout",
     "output_type": "stream",
     "text": [
      "\r\n",
      "Epoch 237/600:  40%|███▉      | 237/600 [2:00:14<2:56:53, 29.24s/it, v_num=yw_1, total_loss_train=505, kl_local_train=119, metric_mi|age_categorical_train=0.367]"
     ]
    },
    {
     "name": "stdout",
     "output_type": "stream",
     "text": [
      "\r\n",
      "Epoch 237/600:  40%|███▉      | 237/600 [2:00:14<2:56:53, 29.24s/it, v_num=yw_1, total_loss_train=505, kl_local_train=119, metric_mi|age_categorical_train=0.367]"
     ]
    },
    {
     "name": "stdout",
     "output_type": "stream",
     "text": [
      "\r\n",
      "Epoch 238/600:  40%|███▉      | 237/600 [2:00:14<2:56:53, 29.24s/it, v_num=yw_1, total_loss_train=505, kl_local_train=119, metric_mi|age_categorical_train=0.367]"
     ]
    },
    {
     "name": "stdout",
     "output_type": "stream",
     "text": [
      "\r\n",
      "Epoch 238/600:  40%|███▉      | 238/600 [2:00:43<2:56:04, 29.18s/it, v_num=yw_1, total_loss_train=505, kl_local_train=119, metric_mi|age_categorical_train=0.367]"
     ]
    },
    {
     "name": "stdout",
     "output_type": "stream",
     "text": [
      "\r\n",
      "Epoch 238/600:  40%|███▉      | 238/600 [2:00:43<2:56:04, 29.18s/it, v_num=yw_1, total_loss_train=505, kl_local_train=118, metric_mi|age_categorical_train=0.367]"
     ]
    },
    {
     "name": "stdout",
     "output_type": "stream",
     "text": [
      "\r\n",
      "Epoch 239/600:  40%|███▉      | 238/600 [2:00:43<2:56:04, 29.18s/it, v_num=yw_1, total_loss_train=505, kl_local_train=118, metric_mi|age_categorical_train=0.367]"
     ]
    },
    {
     "name": "stdout",
     "output_type": "stream",
     "text": [
      "\r\n",
      "Epoch 239/600:  40%|███▉      | 239/600 [2:01:12<2:55:32, 29.17s/it, v_num=yw_1, total_loss_train=505, kl_local_train=118, metric_mi|age_categorical_train=0.367]"
     ]
    },
    {
     "name": "stdout",
     "output_type": "stream",
     "text": [
      "\r\n",
      "Epoch 239/600:  40%|███▉      | 239/600 [2:01:12<2:55:32, 29.17s/it, v_num=yw_1, total_loss_train=506, kl_local_train=119, metric_mi|age_categorical_train=0.367]"
     ]
    },
    {
     "name": "stdout",
     "output_type": "stream",
     "text": [
      "\r\n",
      "Epoch 240/600:  40%|███▉      | 239/600 [2:01:12<2:55:32, 29.17s/it, v_num=yw_1, total_loss_train=506, kl_local_train=119, metric_mi|age_categorical_train=0.367]"
     ]
    },
    {
     "name": "stdout",
     "output_type": "stream",
     "text": [
      "\r\n",
      "Epoch 240/600:  40%|████      | 240/600 [2:01:42<2:55:25, 29.24s/it, v_num=yw_1, total_loss_train=506, kl_local_train=119, metric_mi|age_categorical_train=0.367]"
     ]
    },
    {
     "name": "stdout",
     "output_type": "stream",
     "text": [
      "\r\n",
      "Epoch 240/600:  40%|████      | 240/600 [2:01:42<2:55:25, 29.24s/it, v_num=yw_1, total_loss_train=505, kl_local_train=118, metric_mi|age_categorical_train=0.367]"
     ]
    },
    {
     "name": "stdout",
     "output_type": "stream",
     "text": [
      "\r\n",
      "Epoch 241/600:  40%|████      | 240/600 [2:01:42<2:55:25, 29.24s/it, v_num=yw_1, total_loss_train=505, kl_local_train=118, metric_mi|age_categorical_train=0.367]"
     ]
    },
    {
     "name": "stdout",
     "output_type": "stream",
     "text": [
      "\r\n",
      "Epoch 241/600:  40%|████      | 241/600 [2:02:12<2:56:02, 29.42s/it, v_num=yw_1, total_loss_train=505, kl_local_train=118, metric_mi|age_categorical_train=0.367]"
     ]
    },
    {
     "name": "stdout",
     "output_type": "stream",
     "text": [
      "\r\n",
      "Epoch 241/600:  40%|████      | 241/600 [2:02:12<2:56:02, 29.42s/it, v_num=yw_1, total_loss_train=505, kl_local_train=118, metric_mi|age_categorical_train=0.362]"
     ]
    },
    {
     "name": "stdout",
     "output_type": "stream",
     "text": [
      "\r\n",
      "Epoch 242/600:  40%|████      | 241/600 [2:02:12<2:56:02, 29.42s/it, v_num=yw_1, total_loss_train=505, kl_local_train=118, metric_mi|age_categorical_train=0.362]"
     ]
    },
    {
     "name": "stdout",
     "output_type": "stream",
     "text": [
      "\r\n",
      "Epoch 242/600:  40%|████      | 242/600 [2:02:41<2:55:00, 29.33s/it, v_num=yw_1, total_loss_train=505, kl_local_train=118, metric_mi|age_categorical_train=0.362]"
     ]
    },
    {
     "name": "stdout",
     "output_type": "stream",
     "text": [
      "\r\n",
      "Epoch 242/600:  40%|████      | 242/600 [2:02:41<2:55:00, 29.33s/it, v_num=yw_1, total_loss_train=505, kl_local_train=118, metric_mi|age_categorical_train=0.362]"
     ]
    },
    {
     "name": "stdout",
     "output_type": "stream",
     "text": [
      "\r\n",
      "Epoch 243/600:  40%|████      | 242/600 [2:02:41<2:55:00, 29.33s/it, v_num=yw_1, total_loss_train=505, kl_local_train=118, metric_mi|age_categorical_train=0.362]"
     ]
    },
    {
     "name": "stdout",
     "output_type": "stream",
     "text": [
      "\r\n",
      "Epoch 243/600:  40%|████      | 243/600 [2:03:10<2:54:09, 29.27s/it, v_num=yw_1, total_loss_train=505, kl_local_train=118, metric_mi|age_categorical_train=0.362]"
     ]
    },
    {
     "name": "stdout",
     "output_type": "stream",
     "text": [
      "\r\n",
      "Epoch 243/600:  40%|████      | 243/600 [2:03:10<2:54:09, 29.27s/it, v_num=yw_1, total_loss_train=506, kl_local_train=117, metric_mi|age_categorical_train=0.362]"
     ]
    },
    {
     "name": "stdout",
     "output_type": "stream",
     "text": [
      "\r\n",
      "Epoch 244/600:  40%|████      | 243/600 [2:03:10<2:54:09, 29.27s/it, v_num=yw_1, total_loss_train=506, kl_local_train=117, metric_mi|age_categorical_train=0.362]"
     ]
    },
    {
     "name": "stdout",
     "output_type": "stream",
     "text": [
      "\r\n",
      "Epoch 244/600:  41%|████      | 244/600 [2:03:39<2:53:25, 29.23s/it, v_num=yw_1, total_loss_train=506, kl_local_train=117, metric_mi|age_categorical_train=0.362]"
     ]
    },
    {
     "name": "stdout",
     "output_type": "stream",
     "text": [
      "\r\n",
      "Epoch 244/600:  41%|████      | 244/600 [2:03:39<2:53:25, 29.23s/it, v_num=yw_1, total_loss_train=506, kl_local_train=117, metric_mi|age_categorical_train=0.362]"
     ]
    },
    {
     "name": "stdout",
     "output_type": "stream",
     "text": [
      "\r\n",
      "Epoch 245/600:  41%|████      | 244/600 [2:03:39<2:53:25, 29.23s/it, v_num=yw_1, total_loss_train=506, kl_local_train=117, metric_mi|age_categorical_train=0.362]"
     ]
    },
    {
     "name": "stdout",
     "output_type": "stream",
     "text": [
      "\r\n",
      "Epoch 245/600:  41%|████      | 245/600 [2:04:08<2:53:05, 29.25s/it, v_num=yw_1, total_loss_train=506, kl_local_train=117, metric_mi|age_categorical_train=0.362]"
     ]
    },
    {
     "name": "stdout",
     "output_type": "stream",
     "text": [
      "\r\n",
      "Epoch 245/600:  41%|████      | 245/600 [2:04:08<2:53:05, 29.25s/it, v_num=yw_1, total_loss_train=506, kl_local_train=117, metric_mi|age_categorical_train=0.362]"
     ]
    },
    {
     "name": "stdout",
     "output_type": "stream",
     "text": [
      "\r\n",
      "Epoch 246/600:  41%|████      | 245/600 [2:04:09<2:53:05, 29.25s/it, v_num=yw_1, total_loss_train=506, kl_local_train=117, metric_mi|age_categorical_train=0.362]"
     ]
    },
    {
     "name": "stdout",
     "output_type": "stream",
     "text": [
      "\r\n",
      "Epoch 246/600:  41%|████      | 246/600 [2:04:38<2:53:25, 29.39s/it, v_num=yw_1, total_loss_train=506, kl_local_train=117, metric_mi|age_categorical_train=0.362]"
     ]
    },
    {
     "name": "stdout",
     "output_type": "stream",
     "text": [
      "\r\n",
      "Epoch 246/600:  41%|████      | 246/600 [2:04:38<2:53:25, 29.39s/it, v_num=yw_1, total_loss_train=506, kl_local_train=117, metric_mi|age_categorical_train=0.368]"
     ]
    },
    {
     "name": "stdout",
     "output_type": "stream",
     "text": [
      "\r\n",
      "Epoch 247/600:  41%|████      | 246/600 [2:04:38<2:53:25, 29.39s/it, v_num=yw_1, total_loss_train=506, kl_local_train=117, metric_mi|age_categorical_train=0.368]"
     ]
    },
    {
     "name": "stdout",
     "output_type": "stream",
     "text": [
      "\r\n",
      "Epoch 247/600:  41%|████      | 247/600 [2:05:07<2:52:17, 29.29s/it, v_num=yw_1, total_loss_train=506, kl_local_train=117, metric_mi|age_categorical_train=0.368]"
     ]
    },
    {
     "name": "stdout",
     "output_type": "stream",
     "text": [
      "\r\n",
      "Epoch 247/600:  41%|████      | 247/600 [2:05:07<2:52:17, 29.29s/it, v_num=yw_1, total_loss_train=506, kl_local_train=116, metric_mi|age_categorical_train=0.368]"
     ]
    },
    {
     "name": "stdout",
     "output_type": "stream",
     "text": [
      "\r\n",
      "Epoch 248/600:  41%|████      | 247/600 [2:05:07<2:52:17, 29.29s/it, v_num=yw_1, total_loss_train=506, kl_local_train=116, metric_mi|age_categorical_train=0.368]"
     ]
    },
    {
     "name": "stdout",
     "output_type": "stream",
     "text": [
      "\r\n",
      "Epoch 248/600:  41%|████▏     | 248/600 [2:05:36<2:51:28, 29.23s/it, v_num=yw_1, total_loss_train=506, kl_local_train=116, metric_mi|age_categorical_train=0.368]"
     ]
    },
    {
     "name": "stdout",
     "output_type": "stream",
     "text": [
      "\r\n",
      "Epoch 248/600:  41%|████▏     | 248/600 [2:05:36<2:51:28, 29.23s/it, v_num=yw_1, total_loss_train=506, kl_local_train=116, metric_mi|age_categorical_train=0.368]"
     ]
    },
    {
     "name": "stdout",
     "output_type": "stream",
     "text": [
      "\r\n",
      "Epoch 249/600:  41%|████▏     | 248/600 [2:05:36<2:51:28, 29.23s/it, v_num=yw_1, total_loss_train=506, kl_local_train=116, metric_mi|age_categorical_train=0.368]"
     ]
    },
    {
     "name": "stdout",
     "output_type": "stream",
     "text": [
      "\r\n",
      "Epoch 249/600:  42%|████▏     | 249/600 [2:06:05<2:50:46, 29.19s/it, v_num=yw_1, total_loss_train=506, kl_local_train=116, metric_mi|age_categorical_train=0.368]"
     ]
    },
    {
     "name": "stdout",
     "output_type": "stream",
     "text": [
      "\r\n",
      "Epoch 249/600:  42%|████▏     | 249/600 [2:06:05<2:50:46, 29.19s/it, v_num=yw_1, total_loss_train=507, kl_local_train=116, metric_mi|age_categorical_train=0.368]"
     ]
    },
    {
     "name": "stdout",
     "output_type": "stream",
     "text": [
      "\r\n",
      "Epoch 250/600:  42%|████▏     | 249/600 [2:06:05<2:50:46, 29.19s/it, v_num=yw_1, total_loss_train=507, kl_local_train=116, metric_mi|age_categorical_train=0.368]"
     ]
    },
    {
     "name": "stdout",
     "output_type": "stream",
     "text": [
      "\r\n",
      "Epoch 250/600:  42%|████▏     | 250/600 [2:06:35<2:50:39, 29.25s/it, v_num=yw_1, total_loss_train=507, kl_local_train=116, metric_mi|age_categorical_train=0.368]"
     ]
    },
    {
     "name": "stdout",
     "output_type": "stream",
     "text": [
      "\r\n",
      "Epoch 250/600:  42%|████▏     | 250/600 [2:06:35<2:50:39, 29.25s/it, v_num=yw_1, total_loss_train=507, kl_local_train=116, metric_mi|age_categorical_train=0.368]"
     ]
    },
    {
     "name": "stdout",
     "output_type": "stream",
     "text": [
      "\r\n",
      "Epoch 251/600:  42%|████▏     | 250/600 [2:06:35<2:50:39, 29.25s/it, v_num=yw_1, total_loss_train=507, kl_local_train=116, metric_mi|age_categorical_train=0.368]"
     ]
    },
    {
     "name": "stdout",
     "output_type": "stream",
     "text": [
      "\r\n",
      "Epoch 251/600:  42%|████▏     | 251/600 [2:07:04<2:51:13, 29.44s/it, v_num=yw_1, total_loss_train=507, kl_local_train=116, metric_mi|age_categorical_train=0.368]"
     ]
    },
    {
     "name": "stdout",
     "output_type": "stream",
     "text": [
      "\r\n",
      "Epoch 251/600:  42%|████▏     | 251/600 [2:07:04<2:51:13, 29.44s/it, v_num=yw_1, total_loss_train=506, kl_local_train=116, metric_mi|age_categorical_train=0.358]"
     ]
    },
    {
     "name": "stdout",
     "output_type": "stream",
     "text": [
      "\r\n",
      "Epoch 252/600:  42%|████▏     | 251/600 [2:07:04<2:51:13, 29.44s/it, v_num=yw_1, total_loss_train=506, kl_local_train=116, metric_mi|age_categorical_train=0.358]"
     ]
    },
    {
     "name": "stdout",
     "output_type": "stream",
     "text": [
      "\r\n",
      "Epoch 252/600:  42%|████▏     | 252/600 [2:07:34<2:50:21, 29.37s/it, v_num=yw_1, total_loss_train=506, kl_local_train=116, metric_mi|age_categorical_train=0.358]"
     ]
    },
    {
     "name": "stdout",
     "output_type": "stream",
     "text": [
      "\r\n",
      "Epoch 252/600:  42%|████▏     | 252/600 [2:07:34<2:50:21, 29.37s/it, v_num=yw_1, total_loss_train=507, kl_local_train=116, metric_mi|age_categorical_train=0.358]"
     ]
    },
    {
     "name": "stdout",
     "output_type": "stream",
     "text": [
      "\r\n",
      "Epoch 253/600:  42%|████▏     | 252/600 [2:07:34<2:50:21, 29.37s/it, v_num=yw_1, total_loss_train=507, kl_local_train=116, metric_mi|age_categorical_train=0.358]"
     ]
    },
    {
     "name": "stdout",
     "output_type": "stream",
     "text": [
      "\r\n",
      "Epoch 253/600:  42%|████▏     | 253/600 [2:08:03<2:49:28, 29.30s/it, v_num=yw_1, total_loss_train=507, kl_local_train=116, metric_mi|age_categorical_train=0.358]"
     ]
    },
    {
     "name": "stdout",
     "output_type": "stream",
     "text": [
      "\r\n",
      "Epoch 253/600:  42%|████▏     | 253/600 [2:08:03<2:49:28, 29.30s/it, v_num=yw_1, total_loss_train=507, kl_local_train=115, metric_mi|age_categorical_train=0.358]"
     ]
    },
    {
     "name": "stdout",
     "output_type": "stream",
     "text": [
      "\r\n",
      "Epoch 254/600:  42%|████▏     | 253/600 [2:08:03<2:49:28, 29.30s/it, v_num=yw_1, total_loss_train=507, kl_local_train=115, metric_mi|age_categorical_train=0.358]"
     ]
    },
    {
     "name": "stdout",
     "output_type": "stream",
     "text": [
      "\r\n",
      "Epoch 254/600:  42%|████▏     | 254/600 [2:08:32<2:48:50, 29.28s/it, v_num=yw_1, total_loss_train=507, kl_local_train=115, metric_mi|age_categorical_train=0.358]"
     ]
    },
    {
     "name": "stdout",
     "output_type": "stream",
     "text": [
      "\r\n",
      "Epoch 254/600:  42%|████▏     | 254/600 [2:08:32<2:48:50, 29.28s/it, v_num=yw_1, total_loss_train=507, kl_local_train=115, metric_mi|age_categorical_train=0.358]"
     ]
    },
    {
     "name": "stdout",
     "output_type": "stream",
     "text": [
      "\r\n",
      "Epoch 255/600:  42%|████▏     | 254/600 [2:08:32<2:48:50, 29.28s/it, v_num=yw_1, total_loss_train=507, kl_local_train=115, metric_mi|age_categorical_train=0.358]"
     ]
    },
    {
     "name": "stdout",
     "output_type": "stream",
     "text": [
      "\r\n",
      "Epoch 255/600:  42%|████▎     | 255/600 [2:09:01<2:48:24, 29.29s/it, v_num=yw_1, total_loss_train=507, kl_local_train=115, metric_mi|age_categorical_train=0.358]"
     ]
    },
    {
     "name": "stdout",
     "output_type": "stream",
     "text": [
      "\r\n",
      "Epoch 255/600:  42%|████▎     | 255/600 [2:09:01<2:48:24, 29.29s/it, v_num=yw_1, total_loss_train=507, kl_local_train=115, metric_mi|age_categorical_train=0.358]"
     ]
    },
    {
     "name": "stdout",
     "output_type": "stream",
     "text": [
      "\r\n",
      "Epoch 256/600:  42%|████▎     | 255/600 [2:09:02<2:48:24, 29.29s/it, v_num=yw_1, total_loss_train=507, kl_local_train=115, metric_mi|age_categorical_train=0.358]"
     ]
    },
    {
     "name": "stdout",
     "output_type": "stream",
     "text": [
      "\r\n",
      "Epoch 256/600:  43%|████▎     | 256/600 [2:09:31<2:48:50, 29.45s/it, v_num=yw_1, total_loss_train=507, kl_local_train=115, metric_mi|age_categorical_train=0.358]"
     ]
    },
    {
     "name": "stdout",
     "output_type": "stream",
     "text": [
      "\r\n",
      "Epoch 256/600:  43%|████▎     | 256/600 [2:09:31<2:48:50, 29.45s/it, v_num=yw_1, total_loss_train=507, kl_local_train=115, metric_mi|age_categorical_train=0.355]"
     ]
    },
    {
     "name": "stdout",
     "output_type": "stream",
     "text": [
      "\r\n",
      "Epoch 257/600:  43%|████▎     | 256/600 [2:09:31<2:48:50, 29.45s/it, v_num=yw_1, total_loss_train=507, kl_local_train=115, metric_mi|age_categorical_train=0.355]"
     ]
    },
    {
     "name": "stdout",
     "output_type": "stream",
     "text": [
      "\r\n",
      "Epoch 257/600:  43%|████▎     | 257/600 [2:10:00<2:47:47, 29.35s/it, v_num=yw_1, total_loss_train=507, kl_local_train=115, metric_mi|age_categorical_train=0.355]"
     ]
    },
    {
     "name": "stdout",
     "output_type": "stream",
     "text": [
      "\r\n",
      "Epoch 257/600:  43%|████▎     | 257/600 [2:10:00<2:47:47, 29.35s/it, v_num=yw_1, total_loss_train=507, kl_local_train=115, metric_mi|age_categorical_train=0.355]"
     ]
    },
    {
     "name": "stdout",
     "output_type": "stream",
     "text": [
      "\r\n",
      "Epoch 258/600:  43%|████▎     | 257/600 [2:10:00<2:47:47, 29.35s/it, v_num=yw_1, total_loss_train=507, kl_local_train=115, metric_mi|age_categorical_train=0.355]"
     ]
    },
    {
     "name": "stdout",
     "output_type": "stream",
     "text": [
      "\r\n",
      "Epoch 258/600:  43%|████▎     | 258/600 [2:10:29<2:46:55, 29.28s/it, v_num=yw_1, total_loss_train=507, kl_local_train=115, metric_mi|age_categorical_train=0.355]"
     ]
    },
    {
     "name": "stdout",
     "output_type": "stream",
     "text": [
      "\r\n",
      "Epoch 258/600:  43%|████▎     | 258/600 [2:10:29<2:46:55, 29.28s/it, v_num=yw_1, total_loss_train=507, kl_local_train=115, metric_mi|age_categorical_train=0.355]"
     ]
    },
    {
     "name": "stdout",
     "output_type": "stream",
     "text": [
      "\r\n",
      "Epoch 259/600:  43%|████▎     | 258/600 [2:10:29<2:46:55, 29.28s/it, v_num=yw_1, total_loss_train=507, kl_local_train=115, metric_mi|age_categorical_train=0.355]"
     ]
    },
    {
     "name": "stdout",
     "output_type": "stream",
     "text": [
      "\r\n",
      "Epoch 259/600:  43%|████▎     | 259/600 [2:10:59<2:46:08, 29.23s/it, v_num=yw_1, total_loss_train=507, kl_local_train=115, metric_mi|age_categorical_train=0.355]"
     ]
    },
    {
     "name": "stdout",
     "output_type": "stream",
     "text": [
      "\r\n",
      "Epoch 259/600:  43%|████▎     | 259/600 [2:10:59<2:46:08, 29.23s/it, v_num=yw_1, total_loss_train=507, kl_local_train=114, metric_mi|age_categorical_train=0.355]"
     ]
    },
    {
     "name": "stdout",
     "output_type": "stream",
     "text": [
      "\r\n",
      "Epoch 260/600:  43%|████▎     | 259/600 [2:10:59<2:46:08, 29.23s/it, v_num=yw_1, total_loss_train=507, kl_local_train=114, metric_mi|age_categorical_train=0.355]"
     ]
    },
    {
     "name": "stdout",
     "output_type": "stream",
     "text": [
      "\r\n",
      "Epoch 260/600:  43%|████▎     | 260/600 [2:11:28<2:45:39, 29.23s/it, v_num=yw_1, total_loss_train=507, kl_local_train=114, metric_mi|age_categorical_train=0.355]"
     ]
    },
    {
     "name": "stdout",
     "output_type": "stream",
     "text": [
      "\r\n",
      "Epoch 260/600:  43%|████▎     | 260/600 [2:11:28<2:45:39, 29.23s/it, v_num=yw_1, total_loss_train=508, kl_local_train=114, metric_mi|age_categorical_train=0.355]"
     ]
    },
    {
     "name": "stdout",
     "output_type": "stream",
     "text": [
      "\r\n",
      "Epoch 261/600:  43%|████▎     | 260/600 [2:11:28<2:45:39, 29.23s/it, v_num=yw_1, total_loss_train=508, kl_local_train=114, metric_mi|age_categorical_train=0.355]"
     ]
    },
    {
     "name": "stdout",
     "output_type": "stream",
     "text": [
      "\r\n",
      "Epoch 261/600:  44%|████▎     | 261/600 [2:11:58<2:46:22, 29.45s/it, v_num=yw_1, total_loss_train=508, kl_local_train=114, metric_mi|age_categorical_train=0.355]"
     ]
    },
    {
     "name": "stdout",
     "output_type": "stream",
     "text": [
      "\r\n",
      "Epoch 261/600:  44%|████▎     | 261/600 [2:11:58<2:46:22, 29.45s/it, v_num=yw_1, total_loss_train=508, kl_local_train=114, metric_mi|age_categorical_train=0.352]"
     ]
    },
    {
     "name": "stdout",
     "output_type": "stream",
     "text": [
      "\r\n",
      "Epoch 262/600:  44%|████▎     | 261/600 [2:11:58<2:46:22, 29.45s/it, v_num=yw_1, total_loss_train=508, kl_local_train=114, metric_mi|age_categorical_train=0.352]"
     ]
    },
    {
     "name": "stdout",
     "output_type": "stream",
     "text": [
      "\r\n",
      "Epoch 262/600:  44%|████▎     | 262/600 [2:12:27<2:45:25, 29.37s/it, v_num=yw_1, total_loss_train=508, kl_local_train=114, metric_mi|age_categorical_train=0.352]"
     ]
    },
    {
     "name": "stdout",
     "output_type": "stream",
     "text": [
      "\r\n",
      "Epoch 262/600:  44%|████▎     | 262/600 [2:12:27<2:45:25, 29.37s/it, v_num=yw_1, total_loss_train=508, kl_local_train=114, metric_mi|age_categorical_train=0.352]"
     ]
    },
    {
     "name": "stdout",
     "output_type": "stream",
     "text": [
      "\r\n",
      "Epoch 263/600:  44%|████▎     | 262/600 [2:12:27<2:45:25, 29.37s/it, v_num=yw_1, total_loss_train=508, kl_local_train=114, metric_mi|age_categorical_train=0.352]"
     ]
    },
    {
     "name": "stdout",
     "output_type": "stream",
     "text": [
      "\r\n",
      "Epoch 263/600:  44%|████▍     | 263/600 [2:12:56<2:44:33, 29.30s/it, v_num=yw_1, total_loss_train=508, kl_local_train=114, metric_mi|age_categorical_train=0.352]"
     ]
    },
    {
     "name": "stdout",
     "output_type": "stream",
     "text": [
      "\r\n",
      "Epoch 263/600:  44%|████▍     | 263/600 [2:12:56<2:44:33, 29.30s/it, v_num=yw_1, total_loss_train=508, kl_local_train=113, metric_mi|age_categorical_train=0.352]"
     ]
    },
    {
     "name": "stdout",
     "output_type": "stream",
     "text": [
      "\r\n",
      "Epoch 264/600:  44%|████▍     | 263/600 [2:12:56<2:44:33, 29.30s/it, v_num=yw_1, total_loss_train=508, kl_local_train=113, metric_mi|age_categorical_train=0.352]"
     ]
    },
    {
     "name": "stdout",
     "output_type": "stream",
     "text": [
      "\r\n",
      "Epoch 264/600:  44%|████▍     | 264/600 [2:13:25<2:43:43, 29.24s/it, v_num=yw_1, total_loss_train=508, kl_local_train=113, metric_mi|age_categorical_train=0.352]"
     ]
    },
    {
     "name": "stdout",
     "output_type": "stream",
     "text": [
      "\r\n",
      "Epoch 264/600:  44%|████▍     | 264/600 [2:13:25<2:43:43, 29.24s/it, v_num=yw_1, total_loss_train=508, kl_local_train=113, metric_mi|age_categorical_train=0.352]"
     ]
    },
    {
     "name": "stdout",
     "output_type": "stream",
     "text": [
      "\r\n",
      "Epoch 265/600:  44%|████▍     | 264/600 [2:13:25<2:43:43, 29.24s/it, v_num=yw_1, total_loss_train=508, kl_local_train=113, metric_mi|age_categorical_train=0.352]"
     ]
    },
    {
     "name": "stdout",
     "output_type": "stream",
     "text": [
      "\r\n",
      "Epoch 265/600:  44%|████▍     | 265/600 [2:13:54<2:43:18, 29.25s/it, v_num=yw_1, total_loss_train=508, kl_local_train=113, metric_mi|age_categorical_train=0.352]"
     ]
    },
    {
     "name": "stdout",
     "output_type": "stream",
     "text": [
      "\r\n",
      "Epoch 265/600:  44%|████▍     | 265/600 [2:13:54<2:43:18, 29.25s/it, v_num=yw_1, total_loss_train=508, kl_local_train=113, metric_mi|age_categorical_train=0.352]"
     ]
    },
    {
     "name": "stdout",
     "output_type": "stream",
     "text": [
      "\r\n",
      "Epoch 266/600:  44%|████▍     | 265/600 [2:13:55<2:43:18, 29.25s/it, v_num=yw_1, total_loss_train=508, kl_local_train=113, metric_mi|age_categorical_train=0.352]"
     ]
    },
    {
     "name": "stdout",
     "output_type": "stream",
     "text": [
      "\r\n",
      "Epoch 266/600:  44%|████▍     | 266/600 [2:14:24<2:43:54, 29.45s/it, v_num=yw_1, total_loss_train=508, kl_local_train=113, metric_mi|age_categorical_train=0.352]"
     ]
    },
    {
     "name": "stdout",
     "output_type": "stream",
     "text": [
      "\r\n",
      "Epoch 266/600:  44%|████▍     | 266/600 [2:14:24<2:43:54, 29.45s/it, v_num=yw_1, total_loss_train=509, kl_local_train=113, metric_mi|age_categorical_train=0.358]"
     ]
    },
    {
     "name": "stdout",
     "output_type": "stream",
     "text": [
      "\r\n",
      "Epoch 267/600:  44%|████▍     | 266/600 [2:14:24<2:43:54, 29.45s/it, v_num=yw_1, total_loss_train=509, kl_local_train=113, metric_mi|age_categorical_train=0.358]"
     ]
    },
    {
     "name": "stdout",
     "output_type": "stream",
     "text": [
      "\r\n",
      "Epoch 267/600:  44%|████▍     | 267/600 [2:14:54<2:42:59, 29.37s/it, v_num=yw_1, total_loss_train=509, kl_local_train=113, metric_mi|age_categorical_train=0.358]"
     ]
    },
    {
     "name": "stdout",
     "output_type": "stream",
     "text": [
      "\r\n",
      "Epoch 267/600:  44%|████▍     | 267/600 [2:14:54<2:42:59, 29.37s/it, v_num=yw_1, total_loss_train=508, kl_local_train=112, metric_mi|age_categorical_train=0.358]"
     ]
    },
    {
     "name": "stdout",
     "output_type": "stream",
     "text": [
      "\r\n",
      "Epoch 268/600:  44%|████▍     | 267/600 [2:14:54<2:42:59, 29.37s/it, v_num=yw_1, total_loss_train=508, kl_local_train=112, metric_mi|age_categorical_train=0.358]"
     ]
    },
    {
     "name": "stdout",
     "output_type": "stream",
     "text": [
      "\r\n",
      "Epoch 268/600:  45%|████▍     | 268/600 [2:15:23<2:42:10, 29.31s/it, v_num=yw_1, total_loss_train=508, kl_local_train=112, metric_mi|age_categorical_train=0.358]"
     ]
    },
    {
     "name": "stdout",
     "output_type": "stream",
     "text": [
      "\r\n",
      "Epoch 268/600:  45%|████▍     | 268/600 [2:15:23<2:42:10, 29.31s/it, v_num=yw_1, total_loss_train=508, kl_local_train=113, metric_mi|age_categorical_train=0.358]"
     ]
    },
    {
     "name": "stdout",
     "output_type": "stream",
     "text": [
      "\r\n",
      "Epoch 269/600:  45%|████▍     | 268/600 [2:15:23<2:42:10, 29.31s/it, v_num=yw_1, total_loss_train=508, kl_local_train=113, metric_mi|age_categorical_train=0.358]"
     ]
    },
    {
     "name": "stdout",
     "output_type": "stream",
     "text": [
      "\r\n",
      "Epoch 269/600:  45%|████▍     | 269/600 [2:15:52<2:41:30, 29.28s/it, v_num=yw_1, total_loss_train=508, kl_local_train=113, metric_mi|age_categorical_train=0.358]"
     ]
    },
    {
     "name": "stdout",
     "output_type": "stream",
     "text": [
      "\r\n",
      "Epoch 269/600:  45%|████▍     | 269/600 [2:15:52<2:41:30, 29.28s/it, v_num=yw_1, total_loss_train=509, kl_local_train=112, metric_mi|age_categorical_train=0.358]"
     ]
    },
    {
     "name": "stdout",
     "output_type": "stream",
     "text": [
      "\r\n",
      "Epoch 270/600:  45%|████▍     | 269/600 [2:15:52<2:41:30, 29.28s/it, v_num=yw_1, total_loss_train=509, kl_local_train=112, metric_mi|age_categorical_train=0.358]"
     ]
    },
    {
     "name": "stdout",
     "output_type": "stream",
     "text": [
      "\r\n",
      "Epoch 270/600:  45%|████▌     | 270/600 [2:16:21<2:41:00, 29.27s/it, v_num=yw_1, total_loss_train=509, kl_local_train=112, metric_mi|age_categorical_train=0.358]"
     ]
    },
    {
     "name": "stdout",
     "output_type": "stream",
     "text": [
      "\r\n",
      "Epoch 270/600:  45%|████▌     | 270/600 [2:16:21<2:41:00, 29.27s/it, v_num=yw_1, total_loss_train=509, kl_local_train=112, metric_mi|age_categorical_train=0.358]"
     ]
    },
    {
     "name": "stdout",
     "output_type": "stream",
     "text": [
      "\r\n",
      "Epoch 271/600:  45%|████▌     | 270/600 [2:16:22<2:41:00, 29.27s/it, v_num=yw_1, total_loss_train=509, kl_local_train=112, metric_mi|age_categorical_train=0.358]"
     ]
    },
    {
     "name": "stdout",
     "output_type": "stream",
     "text": [
      "\r\n",
      "Epoch 271/600:  45%|████▌     | 271/600 [2:16:51<2:41:41, 29.49s/it, v_num=yw_1, total_loss_train=509, kl_local_train=112, metric_mi|age_categorical_train=0.358]"
     ]
    },
    {
     "name": "stdout",
     "output_type": "stream",
     "text": [
      "\r\n",
      "Epoch 271/600:  45%|████▌     | 271/600 [2:16:51<2:41:41, 29.49s/it, v_num=yw_1, total_loss_train=509, kl_local_train=112, metric_mi|age_categorical_train=0.356]"
     ]
    },
    {
     "name": "stdout",
     "output_type": "stream",
     "text": [
      "\r\n",
      "Epoch 272/600:  45%|████▌     | 271/600 [2:16:51<2:41:41, 29.49s/it, v_num=yw_1, total_loss_train=509, kl_local_train=112, metric_mi|age_categorical_train=0.356]"
     ]
    },
    {
     "name": "stdout",
     "output_type": "stream",
     "text": [
      "\r\n",
      "Epoch 272/600:  45%|████▌     | 272/600 [2:17:20<2:40:56, 29.44s/it, v_num=yw_1, total_loss_train=509, kl_local_train=112, metric_mi|age_categorical_train=0.356]"
     ]
    },
    {
     "name": "stdout",
     "output_type": "stream",
     "text": [
      "\r\n",
      "Epoch 272/600:  45%|████▌     | 272/600 [2:17:20<2:40:56, 29.44s/it, v_num=yw_1, total_loss_train=509, kl_local_train=112, metric_mi|age_categorical_train=0.356]"
     ]
    },
    {
     "name": "stdout",
     "output_type": "stream",
     "text": [
      "\r\n",
      "Epoch 273/600:  45%|████▌     | 272/600 [2:17:20<2:40:56, 29.44s/it, v_num=yw_1, total_loss_train=509, kl_local_train=112, metric_mi|age_categorical_train=0.356]"
     ]
    },
    {
     "name": "stdout",
     "output_type": "stream",
     "text": [
      "\r\n",
      "Epoch 273/600:  46%|████▌     | 273/600 [2:17:50<2:40:12, 29.40s/it, v_num=yw_1, total_loss_train=509, kl_local_train=112, metric_mi|age_categorical_train=0.356]"
     ]
    },
    {
     "name": "stdout",
     "output_type": "stream",
     "text": [
      "\r\n",
      "Epoch 273/600:  46%|████▌     | 273/600 [2:17:50<2:40:12, 29.40s/it, v_num=yw_1, total_loss_train=509, kl_local_train=111, metric_mi|age_categorical_train=0.356]"
     ]
    },
    {
     "name": "stdout",
     "output_type": "stream",
     "text": [
      "\r\n",
      "Epoch 274/600:  46%|████▌     | 273/600 [2:17:50<2:40:12, 29.40s/it, v_num=yw_1, total_loss_train=509, kl_local_train=111, metric_mi|age_categorical_train=0.356]"
     ]
    },
    {
     "name": "stdout",
     "output_type": "stream",
     "text": [
      "\r\n",
      "Epoch 274/600:  46%|████▌     | 274/600 [2:18:19<2:39:26, 29.35s/it, v_num=yw_1, total_loss_train=509, kl_local_train=111, metric_mi|age_categorical_train=0.356]"
     ]
    },
    {
     "name": "stdout",
     "output_type": "stream",
     "text": [
      "\r\n",
      "Epoch 274/600:  46%|████▌     | 274/600 [2:18:19<2:39:26, 29.35s/it, v_num=yw_1, total_loss_train=509, kl_local_train=111, metric_mi|age_categorical_train=0.356]"
     ]
    },
    {
     "name": "stdout",
     "output_type": "stream",
     "text": [
      "\r\n",
      "Epoch 275/600:  46%|████▌     | 274/600 [2:18:19<2:39:26, 29.35s/it, v_num=yw_1, total_loss_train=509, kl_local_train=111, metric_mi|age_categorical_train=0.356]"
     ]
    },
    {
     "name": "stdout",
     "output_type": "stream",
     "text": [
      "\r\n",
      "Epoch 275/600:  46%|████▌     | 275/600 [2:18:48<2:38:57, 29.35s/it, v_num=yw_1, total_loss_train=509, kl_local_train=111, metric_mi|age_categorical_train=0.356]"
     ]
    },
    {
     "name": "stdout",
     "output_type": "stream",
     "text": [
      "\r\n",
      "Epoch 275/600:  46%|████▌     | 275/600 [2:18:48<2:38:57, 29.35s/it, v_num=yw_1, total_loss_train=510, kl_local_train=111, metric_mi|age_categorical_train=0.356]"
     ]
    },
    {
     "name": "stdout",
     "output_type": "stream",
     "text": [
      "\r\n",
      "Epoch 276/600:  46%|████▌     | 275/600 [2:18:49<2:38:57, 29.35s/it, v_num=yw_1, total_loss_train=510, kl_local_train=111, metric_mi|age_categorical_train=0.356]"
     ]
    },
    {
     "name": "stdout",
     "output_type": "stream",
     "text": [
      "\r\n",
      "Epoch 276/600:  46%|████▌     | 276/600 [2:19:18<2:39:17, 29.50s/it, v_num=yw_1, total_loss_train=510, kl_local_train=111, metric_mi|age_categorical_train=0.356]"
     ]
    },
    {
     "name": "stdout",
     "output_type": "stream",
     "text": [
      "\r\n",
      "Epoch 276/600:  46%|████▌     | 276/600 [2:19:18<2:39:17, 29.50s/it, v_num=yw_1, total_loss_train=510, kl_local_train=111, metric_mi|age_categorical_train=0.354]"
     ]
    },
    {
     "name": "stdout",
     "output_type": "stream",
     "text": [
      "\r\n",
      "Epoch 277/600:  46%|████▌     | 276/600 [2:19:18<2:39:17, 29.50s/it, v_num=yw_1, total_loss_train=510, kl_local_train=111, metric_mi|age_categorical_train=0.354]"
     ]
    },
    {
     "name": "stdout",
     "output_type": "stream",
     "text": [
      "\r\n",
      "Epoch 277/600:  46%|████▌     | 277/600 [2:19:47<2:38:11, 29.39s/it, v_num=yw_1, total_loss_train=510, kl_local_train=111, metric_mi|age_categorical_train=0.354]"
     ]
    },
    {
     "name": "stdout",
     "output_type": "stream",
     "text": [
      "\r\n",
      "Epoch 277/600:  46%|████▌     | 277/600 [2:19:47<2:38:11, 29.39s/it, v_num=yw_1, total_loss_train=510, kl_local_train=111, metric_mi|age_categorical_train=0.354]"
     ]
    },
    {
     "name": "stdout",
     "output_type": "stream",
     "text": [
      "\r\n",
      "Epoch 278/600:  46%|████▌     | 277/600 [2:19:47<2:38:11, 29.39s/it, v_num=yw_1, total_loss_train=510, kl_local_train=111, metric_mi|age_categorical_train=0.354]"
     ]
    },
    {
     "name": "stdout",
     "output_type": "stream",
     "text": [
      "\r\n",
      "Epoch 278/600:  46%|████▋     | 278/600 [2:20:17<2:37:22, 29.33s/it, v_num=yw_1, total_loss_train=510, kl_local_train=111, metric_mi|age_categorical_train=0.354]"
     ]
    },
    {
     "name": "stdout",
     "output_type": "stream",
     "text": [
      "\r\n",
      "Epoch 278/600:  46%|████▋     | 278/600 [2:20:17<2:37:22, 29.33s/it, v_num=yw_1, total_loss_train=510, kl_local_train=111, metric_mi|age_categorical_train=0.354]"
     ]
    },
    {
     "name": "stdout",
     "output_type": "stream",
     "text": [
      "\r\n",
      "Epoch 279/600:  46%|████▋     | 278/600 [2:20:17<2:37:22, 29.33s/it, v_num=yw_1, total_loss_train=510, kl_local_train=111, metric_mi|age_categorical_train=0.354]"
     ]
    },
    {
     "name": "stdout",
     "output_type": "stream",
     "text": [
      "\r\n",
      "Epoch 279/600:  46%|████▋     | 279/600 [2:20:46<2:36:35, 29.27s/it, v_num=yw_1, total_loss_train=510, kl_local_train=111, metric_mi|age_categorical_train=0.354]"
     ]
    },
    {
     "name": "stdout",
     "output_type": "stream",
     "text": [
      "\r\n",
      "Epoch 279/600:  46%|████▋     | 279/600 [2:20:46<2:36:35, 29.27s/it, v_num=yw_1, total_loss_train=510, kl_local_train=110, metric_mi|age_categorical_train=0.354]"
     ]
    },
    {
     "name": "stdout",
     "output_type": "stream",
     "text": [
      "\r\n",
      "Epoch 280/600:  46%|████▋     | 279/600 [2:20:46<2:36:35, 29.27s/it, v_num=yw_1, total_loss_train=510, kl_local_train=110, metric_mi|age_categorical_train=0.354]"
     ]
    },
    {
     "name": "stdout",
     "output_type": "stream",
     "text": [
      "\r\n",
      "Epoch 280/600:  47%|████▋     | 280/600 [2:21:15<2:36:05, 29.27s/it, v_num=yw_1, total_loss_train=510, kl_local_train=110, metric_mi|age_categorical_train=0.354]"
     ]
    },
    {
     "name": "stdout",
     "output_type": "stream",
     "text": [
      "\r\n",
      "Epoch 280/600:  47%|████▋     | 280/600 [2:21:15<2:36:05, 29.27s/it, v_num=yw_1, total_loss_train=510, kl_local_train=110, metric_mi|age_categorical_train=0.354]"
     ]
    },
    {
     "name": "stdout",
     "output_type": "stream",
     "text": [
      "\r\n",
      "Epoch 281/600:  47%|████▋     | 280/600 [2:21:16<2:36:05, 29.27s/it, v_num=yw_1, total_loss_train=510, kl_local_train=110, metric_mi|age_categorical_train=0.354]"
     ]
    },
    {
     "name": "stdout",
     "output_type": "stream",
     "text": [
      "\r\n",
      "Epoch 281/600:  47%|████▋     | 281/600 [2:21:45<2:36:32, 29.44s/it, v_num=yw_1, total_loss_train=510, kl_local_train=110, metric_mi|age_categorical_train=0.354]"
     ]
    },
    {
     "name": "stdout",
     "output_type": "stream",
     "text": [
      "\r\n",
      "Epoch 281/600:  47%|████▋     | 281/600 [2:21:45<2:36:32, 29.44s/it, v_num=yw_1, total_loss_train=510, kl_local_train=110, metric_mi|age_categorical_train=0.36] "
     ]
    },
    {
     "name": "stdout",
     "output_type": "stream",
     "text": [
      "\r\n",
      "Epoch 282/600:  47%|████▋     | 281/600 [2:21:45<2:36:32, 29.44s/it, v_num=yw_1, total_loss_train=510, kl_local_train=110, metric_mi|age_categorical_train=0.36]"
     ]
    },
    {
     "name": "stdout",
     "output_type": "stream",
     "text": [
      "\r\n",
      "Epoch 282/600:  47%|████▋     | 282/600 [2:22:14<2:35:43, 29.38s/it, v_num=yw_1, total_loss_train=510, kl_local_train=110, metric_mi|age_categorical_train=0.36]"
     ]
    },
    {
     "name": "stdout",
     "output_type": "stream",
     "text": [
      "\r\n",
      "Epoch 282/600:  47%|████▋     | 282/600 [2:22:14<2:35:43, 29.38s/it, v_num=yw_1, total_loss_train=510, kl_local_train=110, metric_mi|age_categorical_train=0.36]"
     ]
    },
    {
     "name": "stdout",
     "output_type": "stream",
     "text": [
      "\r\n",
      "Epoch 283/600:  47%|████▋     | 282/600 [2:22:14<2:35:43, 29.38s/it, v_num=yw_1, total_loss_train=510, kl_local_train=110, metric_mi|age_categorical_train=0.36]"
     ]
    },
    {
     "name": "stdout",
     "output_type": "stream",
     "text": [
      "\r\n",
      "Epoch 283/600:  47%|████▋     | 283/600 [2:22:43<2:34:58, 29.33s/it, v_num=yw_1, total_loss_train=510, kl_local_train=110, metric_mi|age_categorical_train=0.36]"
     ]
    },
    {
     "name": "stdout",
     "output_type": "stream",
     "text": [
      "\r\n",
      "Epoch 283/600:  47%|████▋     | 283/600 [2:22:43<2:34:58, 29.33s/it, v_num=yw_1, total_loss_train=510, kl_local_train=109, metric_mi|age_categorical_train=0.36]"
     ]
    },
    {
     "name": "stdout",
     "output_type": "stream",
     "text": [
      "\r\n",
      "Epoch 284/600:  47%|████▋     | 283/600 [2:22:43<2:34:58, 29.33s/it, v_num=yw_1, total_loss_train=510, kl_local_train=109, metric_mi|age_categorical_train=0.36]"
     ]
    },
    {
     "name": "stdout",
     "output_type": "stream",
     "text": [
      "\r\n",
      "Epoch 284/600:  47%|████▋     | 284/600 [2:23:12<2:34:14, 29.29s/it, v_num=yw_1, total_loss_train=510, kl_local_train=109, metric_mi|age_categorical_train=0.36]"
     ]
    },
    {
     "name": "stdout",
     "output_type": "stream",
     "text": [
      "\r\n",
      "Epoch 284/600:  47%|████▋     | 284/600 [2:23:12<2:34:14, 29.29s/it, v_num=yw_1, total_loss_train=510, kl_local_train=110, metric_mi|age_categorical_train=0.36]"
     ]
    },
    {
     "name": "stdout",
     "output_type": "stream",
     "text": [
      "\r\n",
      "Epoch 285/600:  47%|████▋     | 284/600 [2:23:12<2:34:14, 29.29s/it, v_num=yw_1, total_loss_train=510, kl_local_train=110, metric_mi|age_categorical_train=0.36]"
     ]
    },
    {
     "name": "stdout",
     "output_type": "stream",
     "text": [
      "\r\n",
      "Epoch 285/600:  48%|████▊     | 285/600 [2:23:42<2:33:36, 29.26s/it, v_num=yw_1, total_loss_train=510, kl_local_train=110, metric_mi|age_categorical_train=0.36]"
     ]
    },
    {
     "name": "stdout",
     "output_type": "stream",
     "text": [
      "\r\n",
      "Epoch 285/600:  48%|████▊     | 285/600 [2:23:42<2:33:36, 29.26s/it, v_num=yw_1, total_loss_train=510, kl_local_train=109, metric_mi|age_categorical_train=0.36]"
     ]
    },
    {
     "name": "stdout",
     "output_type": "stream",
     "text": [
      "\r\n",
      "Epoch 286/600:  48%|████▊     | 285/600 [2:23:42<2:33:36, 29.26s/it, v_num=yw_1, total_loss_train=510, kl_local_train=109, metric_mi|age_categorical_train=0.36]"
     ]
    },
    {
     "name": "stdout",
     "output_type": "stream",
     "text": [
      "\r\n",
      "Epoch 286/600:  48%|████▊     | 286/600 [2:24:11<2:34:03, 29.44s/it, v_num=yw_1, total_loss_train=510, kl_local_train=109, metric_mi|age_categorical_train=0.36]"
     ]
    },
    {
     "name": "stdout",
     "output_type": "stream",
     "text": [
      "\r\n",
      "Epoch 286/600:  48%|████▊     | 286/600 [2:24:11<2:34:03, 29.44s/it, v_num=yw_1, total_loss_train=511, kl_local_train=110, metric_mi|age_categorical_train=0.352]"
     ]
    },
    {
     "name": "stdout",
     "output_type": "stream",
     "text": [
      "\r\n",
      "Epoch 287/600:  48%|████▊     | 286/600 [2:24:11<2:34:03, 29.44s/it, v_num=yw_1, total_loss_train=511, kl_local_train=110, metric_mi|age_categorical_train=0.352]"
     ]
    },
    {
     "name": "stdout",
     "output_type": "stream",
     "text": [
      "\r\n",
      "Epoch 287/600:  48%|████▊     | 287/600 [2:24:41<2:33:13, 29.37s/it, v_num=yw_1, total_loss_train=511, kl_local_train=110, metric_mi|age_categorical_train=0.352]"
     ]
    },
    {
     "name": "stdout",
     "output_type": "stream",
     "text": [
      "\r\n",
      "Epoch 287/600:  48%|████▊     | 287/600 [2:24:41<2:33:13, 29.37s/it, v_num=yw_1, total_loss_train=511, kl_local_train=109, metric_mi|age_categorical_train=0.352]"
     ]
    },
    {
     "name": "stdout",
     "output_type": "stream",
     "text": [
      "\r\n",
      "Epoch 288/600:  48%|████▊     | 287/600 [2:24:41<2:33:13, 29.37s/it, v_num=yw_1, total_loss_train=511, kl_local_train=109, metric_mi|age_categorical_train=0.352]"
     ]
    },
    {
     "name": "stdout",
     "output_type": "stream",
     "text": [
      "\r\n",
      "Epoch 288/600:  48%|████▊     | 288/600 [2:25:10<2:32:31, 29.33s/it, v_num=yw_1, total_loss_train=511, kl_local_train=109, metric_mi|age_categorical_train=0.352]"
     ]
    },
    {
     "name": "stdout",
     "output_type": "stream",
     "text": [
      "\r\n",
      "Epoch 288/600:  48%|████▊     | 288/600 [2:25:10<2:32:31, 29.33s/it, v_num=yw_1, total_loss_train=511, kl_local_train=109, metric_mi|age_categorical_train=0.352]"
     ]
    },
    {
     "name": "stdout",
     "output_type": "stream",
     "text": [
      "\r\n",
      "Epoch 289/600:  48%|████▊     | 288/600 [2:25:10<2:32:31, 29.33s/it, v_num=yw_1, total_loss_train=511, kl_local_train=109, metric_mi|age_categorical_train=0.352]"
     ]
    },
    {
     "name": "stdout",
     "output_type": "stream",
     "text": [
      "\r\n",
      "Epoch 289/600:  48%|████▊     | 289/600 [2:25:39<2:31:48, 29.29s/it, v_num=yw_1, total_loss_train=511, kl_local_train=109, metric_mi|age_categorical_train=0.352]"
     ]
    },
    {
     "name": "stdout",
     "output_type": "stream",
     "text": [
      "\r\n",
      "Epoch 289/600:  48%|████▊     | 289/600 [2:25:39<2:31:48, 29.29s/it, v_num=yw_1, total_loss_train=511, kl_local_train=109, metric_mi|age_categorical_train=0.352]"
     ]
    },
    {
     "name": "stdout",
     "output_type": "stream",
     "text": [
      "\r\n",
      "Epoch 290/600:  48%|████▊     | 289/600 [2:25:39<2:31:48, 29.29s/it, v_num=yw_1, total_loss_train=511, kl_local_train=109, metric_mi|age_categorical_train=0.352]"
     ]
    },
    {
     "name": "stdout",
     "output_type": "stream",
     "text": [
      "\r\n",
      "Epoch 290/600:  48%|████▊     | 290/600 [2:26:08<2:31:25, 29.31s/it, v_num=yw_1, total_loss_train=511, kl_local_train=109, metric_mi|age_categorical_train=0.352]"
     ]
    },
    {
     "name": "stdout",
     "output_type": "stream",
     "text": [
      "\r\n",
      "Epoch 290/600:  48%|████▊     | 290/600 [2:26:08<2:31:25, 29.31s/it, v_num=yw_1, total_loss_train=511, kl_local_train=108, metric_mi|age_categorical_train=0.352]"
     ]
    },
    {
     "name": "stdout",
     "output_type": "stream",
     "text": [
      "\r\n",
      "Epoch 291/600:  48%|████▊     | 290/600 [2:26:09<2:31:25, 29.31s/it, v_num=yw_1, total_loss_train=511, kl_local_train=108, metric_mi|age_categorical_train=0.352]"
     ]
    },
    {
     "name": "stdout",
     "output_type": "stream",
     "text": [
      "\r\n",
      "Epoch 291/600:  48%|████▊     | 291/600 [2:26:38<2:31:47, 29.47s/it, v_num=yw_1, total_loss_train=511, kl_local_train=108, metric_mi|age_categorical_train=0.352]"
     ]
    },
    {
     "name": "stdout",
     "output_type": "stream",
     "text": [
      "\r\n",
      "Epoch 291/600:  48%|████▊     | 291/600 [2:26:38<2:31:47, 29.47s/it, v_num=yw_1, total_loss_train=511, kl_local_train=108, metric_mi|age_categorical_train=0.363]"
     ]
    },
    {
     "name": "stdout",
     "output_type": "stream",
     "text": [
      "\r\n",
      "Epoch 292/600:  48%|████▊     | 291/600 [2:26:38<2:31:47, 29.47s/it, v_num=yw_1, total_loss_train=511, kl_local_train=108, metric_mi|age_categorical_train=0.363]"
     ]
    },
    {
     "name": "stdout",
     "output_type": "stream",
     "text": [
      "\r\n",
      "Epoch 292/600:  49%|████▊     | 292/600 [2:27:07<2:30:46, 29.37s/it, v_num=yw_1, total_loss_train=511, kl_local_train=108, metric_mi|age_categorical_train=0.363]"
     ]
    },
    {
     "name": "stdout",
     "output_type": "stream",
     "text": [
      "\r\n",
      "Epoch 292/600:  49%|████▊     | 292/600 [2:27:07<2:30:46, 29.37s/it, v_num=yw_1, total_loss_train=511, kl_local_train=108, metric_mi|age_categorical_train=0.363]"
     ]
    },
    {
     "name": "stdout",
     "output_type": "stream",
     "text": [
      "\r\n",
      "Epoch 293/600:  49%|████▊     | 292/600 [2:27:07<2:30:46, 29.37s/it, v_num=yw_1, total_loss_train=511, kl_local_train=108, metric_mi|age_categorical_train=0.363]"
     ]
    },
    {
     "name": "stdout",
     "output_type": "stream",
     "text": [
      "\r\n",
      "Epoch 293/600:  49%|████▉     | 293/600 [2:27:37<2:29:59, 29.32s/it, v_num=yw_1, total_loss_train=511, kl_local_train=108, metric_mi|age_categorical_train=0.363]"
     ]
    },
    {
     "name": "stdout",
     "output_type": "stream",
     "text": [
      "\r\n",
      "Epoch 293/600:  49%|████▉     | 293/600 [2:27:37<2:29:59, 29.32s/it, v_num=yw_1, total_loss_train=511, kl_local_train=108, metric_mi|age_categorical_train=0.363]"
     ]
    },
    {
     "name": "stdout",
     "output_type": "stream",
     "text": [
      "\r\n",
      "Epoch 294/600:  49%|████▉     | 293/600 [2:27:37<2:29:59, 29.32s/it, v_num=yw_1, total_loss_train=511, kl_local_train=108, metric_mi|age_categorical_train=0.363]"
     ]
    },
    {
     "name": "stdout",
     "output_type": "stream",
     "text": [
      "\r\n",
      "Epoch 294/600:  49%|████▉     | 294/600 [2:28:06<2:29:16, 29.27s/it, v_num=yw_1, total_loss_train=511, kl_local_train=108, metric_mi|age_categorical_train=0.363]"
     ]
    },
    {
     "name": "stdout",
     "output_type": "stream",
     "text": [
      "\r\n",
      "Epoch 294/600:  49%|████▉     | 294/600 [2:28:06<2:29:16, 29.27s/it, v_num=yw_1, total_loss_train=511, kl_local_train=107, metric_mi|age_categorical_train=0.363]"
     ]
    },
    {
     "name": "stdout",
     "output_type": "stream",
     "text": [
      "\r\n",
      "Epoch 295/600:  49%|████▉     | 294/600 [2:28:06<2:29:16, 29.27s/it, v_num=yw_1, total_loss_train=511, kl_local_train=107, metric_mi|age_categorical_train=0.363]"
     ]
    },
    {
     "name": "stdout",
     "output_type": "stream",
     "text": [
      "\r\n",
      "Epoch 295/600:  49%|████▉     | 295/600 [2:28:35<2:28:45, 29.27s/it, v_num=yw_1, total_loss_train=511, kl_local_train=107, metric_mi|age_categorical_train=0.363]"
     ]
    },
    {
     "name": "stdout",
     "output_type": "stream",
     "text": [
      "\r\n",
      "Epoch 295/600:  49%|████▉     | 295/600 [2:28:35<2:28:45, 29.27s/it, v_num=yw_1, total_loss_train=512, kl_local_train=107, metric_mi|age_categorical_train=0.363]"
     ]
    },
    {
     "name": "stdout",
     "output_type": "stream",
     "text": [
      "\r\n",
      "Epoch 296/600:  49%|████▉     | 295/600 [2:28:36<2:28:45, 29.27s/it, v_num=yw_1, total_loss_train=512, kl_local_train=107, metric_mi|age_categorical_train=0.363]"
     ]
    },
    {
     "name": "stdout",
     "output_type": "stream",
     "text": [
      "\r\n",
      "Epoch 296/600:  49%|████▉     | 296/600 [2:29:05<2:29:13, 29.45s/it, v_num=yw_1, total_loss_train=512, kl_local_train=107, metric_mi|age_categorical_train=0.363]"
     ]
    },
    {
     "name": "stdout",
     "output_type": "stream",
     "text": [
      "\r\n",
      "Epoch 296/600:  49%|████▉     | 296/600 [2:29:05<2:29:13, 29.45s/it, v_num=yw_1, total_loss_train=512, kl_local_train=107, metric_mi|age_categorical_train=0.368]"
     ]
    },
    {
     "name": "stdout",
     "output_type": "stream",
     "text": [
      "\r\n",
      "Epoch 297/600:  49%|████▉     | 296/600 [2:29:05<2:29:13, 29.45s/it, v_num=yw_1, total_loss_train=512, kl_local_train=107, metric_mi|age_categorical_train=0.368]"
     ]
    },
    {
     "name": "stdout",
     "output_type": "stream",
     "text": [
      "\r\n",
      "Epoch 297/600:  50%|████▉     | 297/600 [2:29:34<2:28:19, 29.37s/it, v_num=yw_1, total_loss_train=512, kl_local_train=107, metric_mi|age_categorical_train=0.368]"
     ]
    },
    {
     "name": "stdout",
     "output_type": "stream",
     "text": [
      "\r\n",
      "Epoch 297/600:  50%|████▉     | 297/600 [2:29:34<2:28:19, 29.37s/it, v_num=yw_1, total_loss_train=512, kl_local_train=108, metric_mi|age_categorical_train=0.368]"
     ]
    },
    {
     "name": "stdout",
     "output_type": "stream",
     "text": [
      "\r\n",
      "Epoch 298/600:  50%|████▉     | 297/600 [2:29:34<2:28:19, 29.37s/it, v_num=yw_1, total_loss_train=512, kl_local_train=108, metric_mi|age_categorical_train=0.368]"
     ]
    },
    {
     "name": "stdout",
     "output_type": "stream",
     "text": [
      "\r\n",
      "Epoch 298/600:  50%|████▉     | 298/600 [2:30:03<2:27:35, 29.32s/it, v_num=yw_1, total_loss_train=512, kl_local_train=108, metric_mi|age_categorical_train=0.368]"
     ]
    },
    {
     "name": "stdout",
     "output_type": "stream",
     "text": [
      "\r\n",
      "Epoch 298/600:  50%|████▉     | 298/600 [2:30:03<2:27:35, 29.32s/it, v_num=yw_1, total_loss_train=512, kl_local_train=107, metric_mi|age_categorical_train=0.368]"
     ]
    },
    {
     "name": "stdout",
     "output_type": "stream",
     "text": [
      "\r\n",
      "Epoch 299/600:  50%|████▉     | 298/600 [2:30:03<2:27:35, 29.32s/it, v_num=yw_1, total_loss_train=512, kl_local_train=107, metric_mi|age_categorical_train=0.368]"
     ]
    },
    {
     "name": "stdout",
     "output_type": "stream",
     "text": [
      "\r\n",
      "Epoch 299/600:  50%|████▉     | 299/600 [2:30:33<2:26:58, 29.30s/it, v_num=yw_1, total_loss_train=512, kl_local_train=107, metric_mi|age_categorical_train=0.368]"
     ]
    },
    {
     "name": "stdout",
     "output_type": "stream",
     "text": [
      "\r\n",
      "Epoch 299/600:  50%|████▉     | 299/600 [2:30:33<2:26:58, 29.30s/it, v_num=yw_1, total_loss_train=512, kl_local_train=107, metric_mi|age_categorical_train=0.368]"
     ]
    },
    {
     "name": "stdout",
     "output_type": "stream",
     "text": [
      "\r\n",
      "Epoch 300/600:  50%|████▉     | 299/600 [2:30:33<2:26:58, 29.30s/it, v_num=yw_1, total_loss_train=512, kl_local_train=107, metric_mi|age_categorical_train=0.368]"
     ]
    },
    {
     "name": "stdout",
     "output_type": "stream",
     "text": [
      "\r\n",
      "Epoch 300/600:  50%|█████     | 300/600 [2:31:02<2:26:31, 29.31s/it, v_num=yw_1, total_loss_train=512, kl_local_train=107, metric_mi|age_categorical_train=0.368]"
     ]
    },
    {
     "name": "stdout",
     "output_type": "stream",
     "text": [
      "\r\n",
      "Epoch 300/600:  50%|█████     | 300/600 [2:31:02<2:26:31, 29.31s/it, v_num=yw_1, total_loss_train=512, kl_local_train=107, metric_mi|age_categorical_train=0.368]"
     ]
    },
    {
     "name": "stdout",
     "output_type": "stream",
     "text": [
      "\r\n",
      "Epoch 301/600:  50%|█████     | 300/600 [2:31:03<2:26:31, 29.31s/it, v_num=yw_1, total_loss_train=512, kl_local_train=107, metric_mi|age_categorical_train=0.368]"
     ]
    },
    {
     "name": "stdout",
     "output_type": "stream",
     "text": [
      "\r\n",
      "Epoch 301/600:  50%|█████     | 301/600 [2:31:32<2:26:54, 29.48s/it, v_num=yw_1, total_loss_train=512, kl_local_train=107, metric_mi|age_categorical_train=0.368]"
     ]
    },
    {
     "name": "stdout",
     "output_type": "stream",
     "text": [
      "\r\n",
      "Epoch 301/600:  50%|█████     | 301/600 [2:31:32<2:26:54, 29.48s/it, v_num=yw_1, total_loss_train=512, kl_local_train=107, metric_mi|age_categorical_train=0.363]"
     ]
    },
    {
     "name": "stdout",
     "output_type": "stream",
     "text": [
      "\r\n",
      "Epoch 302/600:  50%|█████     | 301/600 [2:31:32<2:26:54, 29.48s/it, v_num=yw_1, total_loss_train=512, kl_local_train=107, metric_mi|age_categorical_train=0.363]"
     ]
    },
    {
     "name": "stdout",
     "output_type": "stream",
     "text": [
      "\r\n",
      "Epoch 302/600:  50%|█████     | 302/600 [2:32:01<2:25:53, 29.37s/it, v_num=yw_1, total_loss_train=512, kl_local_train=107, metric_mi|age_categorical_train=0.363]"
     ]
    },
    {
     "name": "stdout",
     "output_type": "stream",
     "text": [
      "\r\n",
      "Epoch 302/600:  50%|█████     | 302/600 [2:32:01<2:25:53, 29.37s/it, v_num=yw_1, total_loss_train=513, kl_local_train=107, metric_mi|age_categorical_train=0.363]"
     ]
    },
    {
     "name": "stdout",
     "output_type": "stream",
     "text": [
      "\r\n",
      "Epoch 303/600:  50%|█████     | 302/600 [2:32:01<2:25:53, 29.37s/it, v_num=yw_1, total_loss_train=513, kl_local_train=107, metric_mi|age_categorical_train=0.363]"
     ]
    },
    {
     "name": "stdout",
     "output_type": "stream",
     "text": [
      "\r\n",
      "Epoch 303/600:  50%|█████     | 303/600 [2:32:30<2:25:14, 29.34s/it, v_num=yw_1, total_loss_train=513, kl_local_train=107, metric_mi|age_categorical_train=0.363]"
     ]
    },
    {
     "name": "stdout",
     "output_type": "stream",
     "text": [
      "\r\n",
      "Epoch 303/600:  50%|█████     | 303/600 [2:32:30<2:25:14, 29.34s/it, v_num=yw_1, total_loss_train=513, kl_local_train=106, metric_mi|age_categorical_train=0.363]"
     ]
    },
    {
     "name": "stdout",
     "output_type": "stream",
     "text": [
      "\r\n",
      "Epoch 304/600:  50%|█████     | 303/600 [2:32:30<2:25:14, 29.34s/it, v_num=yw_1, total_loss_train=513, kl_local_train=106, metric_mi|age_categorical_train=0.363]"
     ]
    },
    {
     "name": "stdout",
     "output_type": "stream",
     "text": [
      "\r\n",
      "Epoch 304/600:  51%|█████     | 304/600 [2:32:59<2:24:24, 29.27s/it, v_num=yw_1, total_loss_train=513, kl_local_train=106, metric_mi|age_categorical_train=0.363]"
     ]
    },
    {
     "name": "stdout",
     "output_type": "stream",
     "text": [
      "\r\n",
      "Epoch 304/600:  51%|█████     | 304/600 [2:32:59<2:24:24, 29.27s/it, v_num=yw_1, total_loss_train=513, kl_local_train=106, metric_mi|age_categorical_train=0.363]"
     ]
    },
    {
     "name": "stdout",
     "output_type": "stream",
     "text": [
      "\r\n",
      "Epoch 305/600:  51%|█████     | 304/600 [2:32:59<2:24:24, 29.27s/it, v_num=yw_1, total_loss_train=513, kl_local_train=106, metric_mi|age_categorical_train=0.363]"
     ]
    },
    {
     "name": "stdout",
     "output_type": "stream",
     "text": [
      "\r\n",
      "Epoch 305/600:  51%|█████     | 305/600 [2:33:29<2:23:52, 29.26s/it, v_num=yw_1, total_loss_train=513, kl_local_train=106, metric_mi|age_categorical_train=0.363]"
     ]
    },
    {
     "name": "stdout",
     "output_type": "stream",
     "text": [
      "\r\n",
      "Epoch 305/600:  51%|█████     | 305/600 [2:33:29<2:23:52, 29.26s/it, v_num=yw_1, total_loss_train=513, kl_local_train=106, metric_mi|age_categorical_train=0.363]"
     ]
    },
    {
     "name": "stdout",
     "output_type": "stream",
     "text": [
      "\r\n",
      "Epoch 306/600:  51%|█████     | 305/600 [2:33:29<2:23:52, 29.26s/it, v_num=yw_1, total_loss_train=513, kl_local_train=106, metric_mi|age_categorical_train=0.363]"
     ]
    },
    {
     "name": "stdout",
     "output_type": "stream",
     "text": [
      "\r\n",
      "Epoch 306/600:  51%|█████     | 306/600 [2:33:58<2:24:10, 29.42s/it, v_num=yw_1, total_loss_train=513, kl_local_train=106, metric_mi|age_categorical_train=0.363]"
     ]
    },
    {
     "name": "stdout",
     "output_type": "stream",
     "text": [
      "\r\n",
      "Epoch 306/600:  51%|█████     | 306/600 [2:33:58<2:24:10, 29.42s/it, v_num=yw_1, total_loss_train=513, kl_local_train=106, metric_mi|age_categorical_train=0.36] "
     ]
    },
    {
     "name": "stdout",
     "output_type": "stream",
     "text": [
      "\r\n",
      "Epoch 307/600:  51%|█████     | 306/600 [2:33:58<2:24:10, 29.42s/it, v_num=yw_1, total_loss_train=513, kl_local_train=106, metric_mi|age_categorical_train=0.36]"
     ]
    },
    {
     "name": "stdout",
     "output_type": "stream",
     "text": [
      "\r\n",
      "Epoch 307/600:  51%|█████     | 307/600 [2:34:27<2:23:14, 29.33s/it, v_num=yw_1, total_loss_train=513, kl_local_train=106, metric_mi|age_categorical_train=0.36]"
     ]
    },
    {
     "name": "stdout",
     "output_type": "stream",
     "text": [
      "\r\n",
      "Epoch 307/600:  51%|█████     | 307/600 [2:34:27<2:23:14, 29.33s/it, v_num=yw_1, total_loss_train=513, kl_local_train=106, metric_mi|age_categorical_train=0.36]"
     ]
    },
    {
     "name": "stdout",
     "output_type": "stream",
     "text": [
      "\r\n",
      "Epoch 308/600:  51%|█████     | 307/600 [2:34:27<2:23:14, 29.33s/it, v_num=yw_1, total_loss_train=513, kl_local_train=106, metric_mi|age_categorical_train=0.36]"
     ]
    },
    {
     "name": "stdout",
     "output_type": "stream",
     "text": [
      "\r\n",
      "Epoch 308/600:  51%|█████▏    | 308/600 [2:34:57<2:22:27, 29.27s/it, v_num=yw_1, total_loss_train=513, kl_local_train=106, metric_mi|age_categorical_train=0.36]"
     ]
    },
    {
     "name": "stdout",
     "output_type": "stream",
     "text": [
      "\r\n",
      "Epoch 308/600:  51%|█████▏    | 308/600 [2:34:57<2:22:27, 29.27s/it, v_num=yw_1, total_loss_train=514, kl_local_train=106, metric_mi|age_categorical_train=0.36]"
     ]
    },
    {
     "name": "stdout",
     "output_type": "stream",
     "text": [
      "\r\n",
      "Epoch 309/600:  51%|█████▏    | 308/600 [2:34:57<2:22:27, 29.27s/it, v_num=yw_1, total_loss_train=514, kl_local_train=106, metric_mi|age_categorical_train=0.36]"
     ]
    },
    {
     "name": "stdout",
     "output_type": "stream",
     "text": [
      "\r\n",
      "Epoch 309/600:  52%|█████▏    | 309/600 [2:35:26<2:21:54, 29.26s/it, v_num=yw_1, total_loss_train=514, kl_local_train=106, metric_mi|age_categorical_train=0.36]"
     ]
    },
    {
     "name": "stdout",
     "output_type": "stream",
     "text": [
      "\r\n",
      "Epoch 309/600:  52%|█████▏    | 309/600 [2:35:26<2:21:54, 29.26s/it, v_num=yw_1, total_loss_train=513, kl_local_train=106, metric_mi|age_categorical_train=0.36]"
     ]
    },
    {
     "name": "stdout",
     "output_type": "stream",
     "text": [
      "\r\n",
      "Epoch 310/600:  52%|█████▏    | 309/600 [2:35:26<2:21:54, 29.26s/it, v_num=yw_1, total_loss_train=513, kl_local_train=106, metric_mi|age_categorical_train=0.36]"
     ]
    },
    {
     "name": "stdout",
     "output_type": "stream",
     "text": [
      "\r\n",
      "Epoch 310/600:  52%|█████▏    | 310/600 [2:35:55<2:21:30, 29.28s/it, v_num=yw_1, total_loss_train=513, kl_local_train=106, metric_mi|age_categorical_train=0.36]"
     ]
    },
    {
     "name": "stdout",
     "output_type": "stream",
     "text": [
      "\r\n",
      "Epoch 310/600:  52%|█████▏    | 310/600 [2:35:55<2:21:30, 29.28s/it, v_num=yw_1, total_loss_train=513, kl_local_train=105, metric_mi|age_categorical_train=0.36]"
     ]
    },
    {
     "name": "stdout",
     "output_type": "stream",
     "text": [
      "\r\n",
      "Epoch 311/600:  52%|█████▏    | 310/600 [2:35:56<2:21:30, 29.28s/it, v_num=yw_1, total_loss_train=513, kl_local_train=105, metric_mi|age_categorical_train=0.36]"
     ]
    },
    {
     "name": "stdout",
     "output_type": "stream",
     "text": [
      "\r\n",
      "Epoch 311/600:  52%|█████▏    | 311/600 [2:36:25<2:21:49, 29.45s/it, v_num=yw_1, total_loss_train=513, kl_local_train=105, metric_mi|age_categorical_train=0.36]"
     ]
    },
    {
     "name": "stdout",
     "output_type": "stream",
     "text": [
      "\r\n",
      "Epoch 311/600:  52%|█████▏    | 311/600 [2:36:25<2:21:49, 29.45s/it, v_num=yw_1, total_loss_train=513, kl_local_train=105, metric_mi|age_categorical_train=0.347]"
     ]
    },
    {
     "name": "stdout",
     "output_type": "stream",
     "text": [
      "\r\n",
      "Epoch 312/600:  52%|█████▏    | 311/600 [2:36:25<2:21:49, 29.45s/it, v_num=yw_1, total_loss_train=513, kl_local_train=105, metric_mi|age_categorical_train=0.347]"
     ]
    },
    {
     "name": "stdout",
     "output_type": "stream",
     "text": [
      "\r\n",
      "Epoch 312/600:  52%|█████▏    | 312/600 [2:36:54<2:20:55, 29.36s/it, v_num=yw_1, total_loss_train=513, kl_local_train=105, metric_mi|age_categorical_train=0.347]"
     ]
    },
    {
     "name": "stdout",
     "output_type": "stream",
     "text": [
      "\r\n",
      "Epoch 312/600:  52%|█████▏    | 312/600 [2:36:54<2:20:55, 29.36s/it, v_num=yw_1, total_loss_train=513, kl_local_train=105, metric_mi|age_categorical_train=0.347]"
     ]
    },
    {
     "name": "stdout",
     "output_type": "stream",
     "text": [
      "\r\n",
      "Epoch 313/600:  52%|█████▏    | 312/600 [2:36:54<2:20:55, 29.36s/it, v_num=yw_1, total_loss_train=513, kl_local_train=105, metric_mi|age_categorical_train=0.347]"
     ]
    },
    {
     "name": "stdout",
     "output_type": "stream",
     "text": [
      "\r\n",
      "Epoch 313/600:  52%|█████▏    | 313/600 [2:37:23<2:20:09, 29.30s/it, v_num=yw_1, total_loss_train=513, kl_local_train=105, metric_mi|age_categorical_train=0.347]"
     ]
    },
    {
     "name": "stdout",
     "output_type": "stream",
     "text": [
      "\r\n",
      "Epoch 313/600:  52%|█████▏    | 313/600 [2:37:23<2:20:09, 29.30s/it, v_num=yw_1, total_loss_train=513, kl_local_train=105, metric_mi|age_categorical_train=0.347]"
     ]
    },
    {
     "name": "stdout",
     "output_type": "stream",
     "text": [
      "\r\n",
      "Epoch 314/600:  52%|█████▏    | 313/600 [2:37:23<2:20:09, 29.30s/it, v_num=yw_1, total_loss_train=513, kl_local_train=105, metric_mi|age_categorical_train=0.347]"
     ]
    },
    {
     "name": "stdout",
     "output_type": "stream",
     "text": [
      "\r\n",
      "Epoch 314/600:  52%|█████▏    | 314/600 [2:37:52<2:19:32, 29.27s/it, v_num=yw_1, total_loss_train=513, kl_local_train=105, metric_mi|age_categorical_train=0.347]"
     ]
    },
    {
     "name": "stdout",
     "output_type": "stream",
     "text": [
      "\r\n",
      "Epoch 314/600:  52%|█████▏    | 314/600 [2:37:52<2:19:32, 29.27s/it, v_num=yw_1, total_loss_train=513, kl_local_train=105, metric_mi|age_categorical_train=0.347]"
     ]
    },
    {
     "name": "stdout",
     "output_type": "stream",
     "text": [
      "\r\n",
      "Epoch 315/600:  52%|█████▏    | 314/600 [2:37:53<2:19:32, 29.27s/it, v_num=yw_1, total_loss_train=513, kl_local_train=105, metric_mi|age_categorical_train=0.347]"
     ]
    },
    {
     "name": "stdout",
     "output_type": "stream",
     "text": [
      "\r\n",
      "Epoch 315/600:  52%|█████▎    | 315/600 [2:38:22<2:19:01, 29.27s/it, v_num=yw_1, total_loss_train=513, kl_local_train=105, metric_mi|age_categorical_train=0.347]"
     ]
    },
    {
     "name": "stdout",
     "output_type": "stream",
     "text": [
      "\r\n",
      "Epoch 315/600:  52%|█████▎    | 315/600 [2:38:22<2:19:01, 29.27s/it, v_num=yw_1, total_loss_train=514, kl_local_train=105, metric_mi|age_categorical_train=0.347]"
     ]
    },
    {
     "name": "stdout",
     "output_type": "stream",
     "text": [
      "\r\n",
      "Epoch 316/600:  52%|█████▎    | 315/600 [2:38:22<2:19:01, 29.27s/it, v_num=yw_1, total_loss_train=514, kl_local_train=105, metric_mi|age_categorical_train=0.347]"
     ]
    },
    {
     "name": "stdout",
     "output_type": "stream",
     "text": [
      "\r\n",
      "Epoch 316/600:  53%|█████▎    | 316/600 [2:38:52<2:19:15, 29.42s/it, v_num=yw_1, total_loss_train=514, kl_local_train=105, metric_mi|age_categorical_train=0.347]"
     ]
    },
    {
     "name": "stdout",
     "output_type": "stream",
     "text": [
      "\r\n",
      "Epoch 316/600:  53%|█████▎    | 316/600 [2:38:52<2:19:15, 29.42s/it, v_num=yw_1, total_loss_train=514, kl_local_train=104, metric_mi|age_categorical_train=0.344]"
     ]
    },
    {
     "name": "stdout",
     "output_type": "stream",
     "text": [
      "\r\n",
      "Epoch 317/600:  53%|█████▎    | 316/600 [2:38:52<2:19:15, 29.42s/it, v_num=yw_1, total_loss_train=514, kl_local_train=104, metric_mi|age_categorical_train=0.344]"
     ]
    },
    {
     "name": "stdout",
     "output_type": "stream",
     "text": [
      "\r\n",
      "Epoch 317/600:  53%|█████▎    | 317/600 [2:39:21<2:18:22, 29.34s/it, v_num=yw_1, total_loss_train=514, kl_local_train=104, metric_mi|age_categorical_train=0.344]"
     ]
    },
    {
     "name": "stdout",
     "output_type": "stream",
     "text": [
      "\r\n",
      "Epoch 317/600:  53%|█████▎    | 317/600 [2:39:21<2:18:22, 29.34s/it, v_num=yw_1, total_loss_train=514, kl_local_train=104, metric_mi|age_categorical_train=0.344]"
     ]
    },
    {
     "name": "stdout",
     "output_type": "stream",
     "text": [
      "\r\n",
      "Epoch 318/600:  53%|█████▎    | 317/600 [2:39:21<2:18:22, 29.34s/it, v_num=yw_1, total_loss_train=514, kl_local_train=104, metric_mi|age_categorical_train=0.344]"
     ]
    },
    {
     "name": "stdout",
     "output_type": "stream",
     "text": [
      "\r\n",
      "Epoch 318/600:  53%|█████▎    | 318/600 [2:39:50<2:17:38, 29.29s/it, v_num=yw_1, total_loss_train=514, kl_local_train=104, metric_mi|age_categorical_train=0.344]"
     ]
    },
    {
     "name": "stdout",
     "output_type": "stream",
     "text": [
      "\r\n",
      "Epoch 318/600:  53%|█████▎    | 318/600 [2:39:50<2:17:38, 29.29s/it, v_num=yw_1, total_loss_train=514, kl_local_train=104, metric_mi|age_categorical_train=0.344]"
     ]
    },
    {
     "name": "stdout",
     "output_type": "stream",
     "text": [
      "\r\n",
      "Epoch 319/600:  53%|█████▎    | 318/600 [2:39:50<2:17:38, 29.29s/it, v_num=yw_1, total_loss_train=514, kl_local_train=104, metric_mi|age_categorical_train=0.344]"
     ]
    },
    {
     "name": "stdout",
     "output_type": "stream",
     "text": [
      "\r\n",
      "Epoch 319/600:  53%|█████▎    | 319/600 [2:40:19<2:16:58, 29.25s/it, v_num=yw_1, total_loss_train=514, kl_local_train=104, metric_mi|age_categorical_train=0.344]"
     ]
    },
    {
     "name": "stdout",
     "output_type": "stream",
     "text": [
      "\r\n",
      "Epoch 319/600:  53%|█████▎    | 319/600 [2:40:19<2:16:58, 29.25s/it, v_num=yw_1, total_loss_train=514, kl_local_train=104, metric_mi|age_categorical_train=0.344]"
     ]
    },
    {
     "name": "stdout",
     "output_type": "stream",
     "text": [
      "\r\n",
      "Epoch 320/600:  53%|█████▎    | 319/600 [2:40:19<2:16:58, 29.25s/it, v_num=yw_1, total_loss_train=514, kl_local_train=104, metric_mi|age_categorical_train=0.344]"
     ]
    },
    {
     "name": "stdout",
     "output_type": "stream",
     "text": [
      "\r\n",
      "Epoch 320/600:  53%|█████▎    | 320/600 [2:40:48<2:16:29, 29.25s/it, v_num=yw_1, total_loss_train=514, kl_local_train=104, metric_mi|age_categorical_train=0.344]"
     ]
    },
    {
     "name": "stdout",
     "output_type": "stream",
     "text": [
      "\r\n",
      "Epoch 320/600:  53%|█████▎    | 320/600 [2:40:48<2:16:29, 29.25s/it, v_num=yw_1, total_loss_train=514, kl_local_train=103, metric_mi|age_categorical_train=0.344]"
     ]
    },
    {
     "name": "stdout",
     "output_type": "stream",
     "text": [
      "\r\n",
      "Epoch 321/600:  53%|█████▎    | 320/600 [2:40:49<2:16:29, 29.25s/it, v_num=yw_1, total_loss_train=514, kl_local_train=103, metric_mi|age_categorical_train=0.344]"
     ]
    },
    {
     "name": "stdout",
     "output_type": "stream",
     "text": [
      "\r\n",
      "Epoch 321/600:  54%|█████▎    | 321/600 [2:41:18<2:16:48, 29.42s/it, v_num=yw_1, total_loss_train=514, kl_local_train=103, metric_mi|age_categorical_train=0.344]"
     ]
    },
    {
     "name": "stdout",
     "output_type": "stream",
     "text": [
      "\r\n",
      "Epoch 321/600:  54%|█████▎    | 321/600 [2:41:18<2:16:48, 29.42s/it, v_num=yw_1, total_loss_train=514, kl_local_train=103, metric_mi|age_categorical_train=0.332]"
     ]
    },
    {
     "name": "stdout",
     "output_type": "stream",
     "text": [
      "\r\n",
      "Epoch 322/600:  54%|█████▎    | 321/600 [2:41:18<2:16:48, 29.42s/it, v_num=yw_1, total_loss_train=514, kl_local_train=103, metric_mi|age_categorical_train=0.332]"
     ]
    },
    {
     "name": "stdout",
     "output_type": "stream",
     "text": [
      "\r\n",
      "Epoch 322/600:  54%|█████▎    | 322/600 [2:41:47<2:16:03, 29.36s/it, v_num=yw_1, total_loss_train=514, kl_local_train=103, metric_mi|age_categorical_train=0.332]"
     ]
    },
    {
     "name": "stdout",
     "output_type": "stream",
     "text": [
      "\r\n",
      "Epoch 322/600:  54%|█████▎    | 322/600 [2:41:47<2:16:03, 29.36s/it, v_num=yw_1, total_loss_train=514, kl_local_train=103, metric_mi|age_categorical_train=0.332]"
     ]
    },
    {
     "name": "stdout",
     "output_type": "stream",
     "text": [
      "\r\n",
      "Epoch 323/600:  54%|█████▎    | 322/600 [2:41:47<2:16:03, 29.36s/it, v_num=yw_1, total_loss_train=514, kl_local_train=103, metric_mi|age_categorical_train=0.332]"
     ]
    },
    {
     "name": "stdout",
     "output_type": "stream",
     "text": [
      "\r\n",
      "Epoch 323/600:  54%|█████▍    | 323/600 [2:42:16<2:15:19, 29.31s/it, v_num=yw_1, total_loss_train=514, kl_local_train=103, metric_mi|age_categorical_train=0.332]"
     ]
    },
    {
     "name": "stdout",
     "output_type": "stream",
     "text": [
      "\r\n",
      "Epoch 323/600:  54%|█████▍    | 323/600 [2:42:16<2:15:19, 29.31s/it, v_num=yw_1, total_loss_train=515, kl_local_train=104, metric_mi|age_categorical_train=0.332]"
     ]
    },
    {
     "name": "stdout",
     "output_type": "stream",
     "text": [
      "\r\n",
      "Epoch 324/600:  54%|█████▍    | 323/600 [2:42:17<2:15:19, 29.31s/it, v_num=yw_1, total_loss_train=515, kl_local_train=104, metric_mi|age_categorical_train=0.332]"
     ]
    },
    {
     "name": "stdout",
     "output_type": "stream",
     "text": [
      "\r\n",
      "Epoch 324/600:  54%|█████▍    | 324/600 [2:42:46<2:14:49, 29.31s/it, v_num=yw_1, total_loss_train=515, kl_local_train=104, metric_mi|age_categorical_train=0.332]"
     ]
    },
    {
     "name": "stdout",
     "output_type": "stream",
     "text": [
      "\r\n",
      "Epoch 324/600:  54%|█████▍    | 324/600 [2:42:46<2:14:49, 29.31s/it, v_num=yw_1, total_loss_train=515, kl_local_train=103, metric_mi|age_categorical_train=0.332]"
     ]
    },
    {
     "name": "stdout",
     "output_type": "stream",
     "text": [
      "\r\n",
      "Epoch 325/600:  54%|█████▍    | 324/600 [2:42:46<2:14:49, 29.31s/it, v_num=yw_1, total_loss_train=515, kl_local_train=103, metric_mi|age_categorical_train=0.332]"
     ]
    },
    {
     "name": "stdout",
     "output_type": "stream",
     "text": [
      "\r\n",
      "Epoch 325/600:  54%|█████▍    | 325/600 [2:43:15<2:14:20, 29.31s/it, v_num=yw_1, total_loss_train=515, kl_local_train=103, metric_mi|age_categorical_train=0.332]"
     ]
    },
    {
     "name": "stdout",
     "output_type": "stream",
     "text": [
      "\r\n",
      "Epoch 325/600:  54%|█████▍    | 325/600 [2:43:15<2:14:20, 29.31s/it, v_num=yw_1, total_loss_train=515, kl_local_train=103, metric_mi|age_categorical_train=0.332]"
     ]
    },
    {
     "name": "stdout",
     "output_type": "stream",
     "text": [
      "\r\n",
      "Epoch 326/600:  54%|█████▍    | 325/600 [2:43:16<2:14:20, 29.31s/it, v_num=yw_1, total_loss_train=515, kl_local_train=103, metric_mi|age_categorical_train=0.332]"
     ]
    },
    {
     "name": "stdout",
     "output_type": "stream",
     "text": [
      "\r\n",
      "Epoch 326/600:  54%|█████▍    | 326/600 [2:43:45<2:14:32, 29.46s/it, v_num=yw_1, total_loss_train=515, kl_local_train=103, metric_mi|age_categorical_train=0.332]"
     ]
    },
    {
     "name": "stdout",
     "output_type": "stream",
     "text": [
      "\r\n",
      "Epoch 326/600:  54%|█████▍    | 326/600 [2:43:45<2:14:32, 29.46s/it, v_num=yw_1, total_loss_train=515, kl_local_train=103, metric_mi|age_categorical_train=0.326]"
     ]
    },
    {
     "name": "stdout",
     "output_type": "stream",
     "text": [
      "\r\n",
      "Epoch 327/600:  54%|█████▍    | 326/600 [2:43:45<2:14:32, 29.46s/it, v_num=yw_1, total_loss_train=515, kl_local_train=103, metric_mi|age_categorical_train=0.326]"
     ]
    },
    {
     "name": "stdout",
     "output_type": "stream",
     "text": [
      "\r\n",
      "Epoch 327/600:  55%|█████▍    | 327/600 [2:44:14<2:13:33, 29.35s/it, v_num=yw_1, total_loss_train=515, kl_local_train=103, metric_mi|age_categorical_train=0.326]"
     ]
    },
    {
     "name": "stdout",
     "output_type": "stream",
     "text": [
      "\r\n",
      "Epoch 327/600:  55%|█████▍    | 327/600 [2:44:14<2:13:33, 29.35s/it, v_num=yw_1, total_loss_train=515, kl_local_train=103, metric_mi|age_categorical_train=0.326]"
     ]
    },
    {
     "name": "stdout",
     "output_type": "stream",
     "text": [
      "\r\n",
      "Epoch 328/600:  55%|█████▍    | 327/600 [2:44:14<2:13:33, 29.35s/it, v_num=yw_1, total_loss_train=515, kl_local_train=103, metric_mi|age_categorical_train=0.326]"
     ]
    },
    {
     "name": "stdout",
     "output_type": "stream",
     "text": [
      "\r\n",
      "Epoch 328/600:  55%|█████▍    | 328/600 [2:44:43<2:12:48, 29.30s/it, v_num=yw_1, total_loss_train=515, kl_local_train=103, metric_mi|age_categorical_train=0.326]"
     ]
    },
    {
     "name": "stdout",
     "output_type": "stream",
     "text": [
      "\r\n",
      "Epoch 328/600:  55%|█████▍    | 328/600 [2:44:43<2:12:48, 29.30s/it, v_num=yw_1, total_loss_train=515, kl_local_train=103, metric_mi|age_categorical_train=0.326]"
     ]
    },
    {
     "name": "stdout",
     "output_type": "stream",
     "text": [
      "\r\n",
      "Epoch 329/600:  55%|█████▍    | 328/600 [2:44:43<2:12:48, 29.30s/it, v_num=yw_1, total_loss_train=515, kl_local_train=103, metric_mi|age_categorical_train=0.326]"
     ]
    },
    {
     "name": "stdout",
     "output_type": "stream",
     "text": [
      "\r\n",
      "Epoch 329/600:  55%|█████▍    | 329/600 [2:45:12<2:12:05, 29.25s/it, v_num=yw_1, total_loss_train=515, kl_local_train=103, metric_mi|age_categorical_train=0.326]"
     ]
    },
    {
     "name": "stdout",
     "output_type": "stream",
     "text": [
      "\r\n",
      "Epoch 329/600:  55%|█████▍    | 329/600 [2:45:12<2:12:05, 29.25s/it, v_num=yw_1, total_loss_train=515, kl_local_train=103, metric_mi|age_categorical_train=0.326]"
     ]
    },
    {
     "name": "stdout",
     "output_type": "stream",
     "text": [
      "\r\n",
      "Epoch 330/600:  55%|█████▍    | 329/600 [2:45:12<2:12:05, 29.25s/it, v_num=yw_1, total_loss_train=515, kl_local_train=103, metric_mi|age_categorical_train=0.326]"
     ]
    },
    {
     "name": "stdout",
     "output_type": "stream",
     "text": [
      "\r\n",
      "Epoch 330/600:  55%|█████▌    | 330/600 [2:45:42<2:11:43, 29.27s/it, v_num=yw_1, total_loss_train=515, kl_local_train=103, metric_mi|age_categorical_train=0.326]"
     ]
    },
    {
     "name": "stdout",
     "output_type": "stream",
     "text": [
      "\r\n",
      "Epoch 330/600:  55%|█████▌    | 330/600 [2:45:42<2:11:43, 29.27s/it, v_num=yw_1, total_loss_train=515, kl_local_train=102, metric_mi|age_categorical_train=0.326]"
     ]
    },
    {
     "name": "stdout",
     "output_type": "stream",
     "text": [
      "\r\n",
      "Epoch 331/600:  55%|█████▌    | 330/600 [2:45:42<2:11:43, 29.27s/it, v_num=yw_1, total_loss_train=515, kl_local_train=102, metric_mi|age_categorical_train=0.326]"
     ]
    },
    {
     "name": "stdout",
     "output_type": "stream",
     "text": [
      "\r\n",
      "Epoch 331/600:  55%|█████▌    | 331/600 [2:46:11<2:11:56, 29.43s/it, v_num=yw_1, total_loss_train=515, kl_local_train=102, metric_mi|age_categorical_train=0.326]"
     ]
    },
    {
     "name": "stdout",
     "output_type": "stream",
     "text": [
      "\r\n",
      "Epoch 331/600:  55%|█████▌    | 331/600 [2:46:11<2:11:56, 29.43s/it, v_num=yw_1, total_loss_train=516, kl_local_train=102, metric_mi|age_categorical_train=0.332]"
     ]
    },
    {
     "name": "stdout",
     "output_type": "stream",
     "text": [
      "\r\n",
      "Epoch 332/600:  55%|█████▌    | 331/600 [2:46:11<2:11:56, 29.43s/it, v_num=yw_1, total_loss_train=516, kl_local_train=102, metric_mi|age_categorical_train=0.332]"
     ]
    },
    {
     "name": "stdout",
     "output_type": "stream",
     "text": [
      "\r\n",
      "Epoch 332/600:  55%|█████▌    | 332/600 [2:46:41<2:11:02, 29.34s/it, v_num=yw_1, total_loss_train=516, kl_local_train=102, metric_mi|age_categorical_train=0.332]"
     ]
    },
    {
     "name": "stdout",
     "output_type": "stream",
     "text": [
      "\r\n",
      "Epoch 332/600:  55%|█████▌    | 332/600 [2:46:41<2:11:02, 29.34s/it, v_num=yw_1, total_loss_train=516, kl_local_train=102, metric_mi|age_categorical_train=0.332]"
     ]
    },
    {
     "name": "stdout",
     "output_type": "stream",
     "text": [
      "\r\n",
      "Epoch 333/600:  55%|█████▌    | 332/600 [2:46:41<2:11:02, 29.34s/it, v_num=yw_1, total_loss_train=516, kl_local_train=102, metric_mi|age_categorical_train=0.332]"
     ]
    },
    {
     "name": "stdout",
     "output_type": "stream",
     "text": [
      "\r\n",
      "Epoch 333/600:  56%|█████▌    | 333/600 [2:47:10<2:10:16, 29.28s/it, v_num=yw_1, total_loss_train=516, kl_local_train=102, metric_mi|age_categorical_train=0.332]"
     ]
    },
    {
     "name": "stdout",
     "output_type": "stream",
     "text": [
      "\r\n",
      "Epoch 333/600:  56%|█████▌    | 333/600 [2:47:10<2:10:16, 29.28s/it, v_num=yw_1, total_loss_train=516, kl_local_train=102, metric_mi|age_categorical_train=0.332]"
     ]
    },
    {
     "name": "stdout",
     "output_type": "stream",
     "text": [
      "\r\n",
      "Epoch 334/600:  56%|█████▌    | 333/600 [2:47:10<2:10:16, 29.28s/it, v_num=yw_1, total_loss_train=516, kl_local_train=102, metric_mi|age_categorical_train=0.332]"
     ]
    },
    {
     "name": "stdout",
     "output_type": "stream",
     "text": [
      "\r\n",
      "Epoch 334/600:  56%|█████▌    | 334/600 [2:47:39<2:09:35, 29.23s/it, v_num=yw_1, total_loss_train=516, kl_local_train=102, metric_mi|age_categorical_train=0.332]"
     ]
    },
    {
     "name": "stdout",
     "output_type": "stream",
     "text": [
      "\r\n",
      "Epoch 334/600:  56%|█████▌    | 334/600 [2:47:39<2:09:35, 29.23s/it, v_num=yw_1, total_loss_train=516, kl_local_train=102, metric_mi|age_categorical_train=0.332]"
     ]
    },
    {
     "name": "stdout",
     "output_type": "stream",
     "text": [
      "\r\n",
      "Epoch 335/600:  56%|█████▌    | 334/600 [2:47:39<2:09:35, 29.23s/it, v_num=yw_1, total_loss_train=516, kl_local_train=102, metric_mi|age_categorical_train=0.332]"
     ]
    },
    {
     "name": "stdout",
     "output_type": "stream",
     "text": [
      "\r\n",
      "Epoch 335/600:  56%|█████▌    | 335/600 [2:48:08<2:09:22, 29.29s/it, v_num=yw_1, total_loss_train=516, kl_local_train=102, metric_mi|age_categorical_train=0.332]"
     ]
    },
    {
     "name": "stdout",
     "output_type": "stream",
     "text": [
      "\r\n",
      "Epoch 335/600:  56%|█████▌    | 335/600 [2:48:08<2:09:22, 29.29s/it, v_num=yw_1, total_loss_train=516, kl_local_train=101, metric_mi|age_categorical_train=0.332]"
     ]
    },
    {
     "name": "stdout",
     "output_type": "stream",
     "text": [
      "\r\n",
      "Epoch 336/600:  56%|█████▌    | 335/600 [2:48:09<2:09:22, 29.29s/it, v_num=yw_1, total_loss_train=516, kl_local_train=101, metric_mi|age_categorical_train=0.332]"
     ]
    },
    {
     "name": "stdout",
     "output_type": "stream",
     "text": [
      "\r\n",
      "Epoch 336/600:  56%|█████▌    | 336/600 [2:48:38<2:09:46, 29.50s/it, v_num=yw_1, total_loss_train=516, kl_local_train=101, metric_mi|age_categorical_train=0.332]"
     ]
    },
    {
     "name": "stdout",
     "output_type": "stream",
     "text": [
      "\r\n",
      "Epoch 336/600:  56%|█████▌    | 336/600 [2:48:38<2:09:46, 29.50s/it, v_num=yw_1, total_loss_train=516, kl_local_train=101, metric_mi|age_categorical_train=0.338]"
     ]
    },
    {
     "name": "stdout",
     "output_type": "stream",
     "text": [
      "\r\n",
      "Epoch 337/600:  56%|█████▌    | 336/600 [2:48:38<2:09:46, 29.50s/it, v_num=yw_1, total_loss_train=516, kl_local_train=101, metric_mi|age_categorical_train=0.338]"
     ]
    },
    {
     "name": "stdout",
     "output_type": "stream",
     "text": [
      "\r\n",
      "Epoch 337/600:  56%|█████▌    | 337/600 [2:49:08<2:09:06, 29.46s/it, v_num=yw_1, total_loss_train=516, kl_local_train=101, metric_mi|age_categorical_train=0.338]"
     ]
    },
    {
     "name": "stdout",
     "output_type": "stream",
     "text": [
      "\r\n",
      "Epoch 337/600:  56%|█████▌    | 337/600 [2:49:08<2:09:06, 29.46s/it, v_num=yw_1, total_loss_train=516, kl_local_train=101, metric_mi|age_categorical_train=0.338]"
     ]
    },
    {
     "name": "stdout",
     "output_type": "stream",
     "text": [
      "\r\n",
      "Epoch 338/600:  56%|█████▌    | 337/600 [2:49:08<2:09:06, 29.46s/it, v_num=yw_1, total_loss_train=516, kl_local_train=101, metric_mi|age_categorical_train=0.338]"
     ]
    },
    {
     "name": "stdout",
     "output_type": "stream",
     "text": [
      "\r\n",
      "Epoch 338/600:  56%|█████▋    | 338/600 [2:49:37<2:08:29, 29.42s/it, v_num=yw_1, total_loss_train=516, kl_local_train=101, metric_mi|age_categorical_train=0.338]"
     ]
    },
    {
     "name": "stdout",
     "output_type": "stream",
     "text": [
      "\r\n",
      "Epoch 338/600:  56%|█████▋    | 338/600 [2:49:37<2:08:29, 29.42s/it, v_num=yw_1, total_loss_train=516, kl_local_train=101, metric_mi|age_categorical_train=0.338]"
     ]
    },
    {
     "name": "stdout",
     "output_type": "stream",
     "text": [
      "\r\n",
      "Epoch 339/600:  56%|█████▋    | 338/600 [2:49:37<2:08:29, 29.42s/it, v_num=yw_1, total_loss_train=516, kl_local_train=101, metric_mi|age_categorical_train=0.338]"
     ]
    },
    {
     "name": "stdout",
     "output_type": "stream",
     "text": [
      "\r\n",
      "Epoch 339/600:  56%|█████▋    | 339/600 [2:50:06<2:08:05, 29.45s/it, v_num=yw_1, total_loss_train=516, kl_local_train=101, metric_mi|age_categorical_train=0.338]"
     ]
    },
    {
     "name": "stdout",
     "output_type": "stream",
     "text": [
      "\r\n",
      "Epoch 339/600:  56%|█████▋    | 339/600 [2:50:06<2:08:05, 29.45s/it, v_num=yw_1, total_loss_train=516, kl_local_train=101, metric_mi|age_categorical_train=0.338]"
     ]
    },
    {
     "name": "stdout",
     "output_type": "stream",
     "text": [
      "\r\n",
      "Epoch 340/600:  56%|█████▋    | 339/600 [2:50:06<2:08:05, 29.45s/it, v_num=yw_1, total_loss_train=516, kl_local_train=101, metric_mi|age_categorical_train=0.338]"
     ]
    },
    {
     "name": "stdout",
     "output_type": "stream",
     "text": [
      "\r\n",
      "Epoch 340/600:  57%|█████▋    | 340/600 [2:50:36<2:07:46, 29.49s/it, v_num=yw_1, total_loss_train=516, kl_local_train=101, metric_mi|age_categorical_train=0.338]"
     ]
    },
    {
     "name": "stdout",
     "output_type": "stream",
     "text": [
      "\r\n",
      "Epoch 340/600:  57%|█████▋    | 340/600 [2:50:36<2:07:46, 29.49s/it, v_num=yw_1, total_loss_train=517, kl_local_train=101, metric_mi|age_categorical_train=0.338]"
     ]
    },
    {
     "name": "stdout",
     "output_type": "stream",
     "text": [
      "\r\n",
      "Epoch 341/600:  57%|█████▋    | 340/600 [2:50:37<2:07:46, 29.49s/it, v_num=yw_1, total_loss_train=517, kl_local_train=101, metric_mi|age_categorical_train=0.338]"
     ]
    },
    {
     "name": "stdout",
     "output_type": "stream",
     "text": [
      "\r\n",
      "Epoch 341/600:  57%|█████▋    | 341/600 [2:51:08<2:10:42, 30.28s/it, v_num=yw_1, total_loss_train=517, kl_local_train=101, metric_mi|age_categorical_train=0.338]"
     ]
    },
    {
     "name": "stdout",
     "output_type": "stream",
     "text": [
      "\r\n",
      "Epoch 341/600:  57%|█████▋    | 341/600 [2:51:08<2:10:42, 30.28s/it, v_num=yw_1, total_loss_train=517, kl_local_train=101, metric_mi|age_categorical_train=0.339]"
     ]
    },
    {
     "name": "stdout",
     "output_type": "stream",
     "text": [
      "\r\n",
      "Epoch 342/600:  57%|█████▋    | 341/600 [2:51:08<2:10:42, 30.28s/it, v_num=yw_1, total_loss_train=517, kl_local_train=101, metric_mi|age_categorical_train=0.339]"
     ]
    },
    {
     "name": "stdout",
     "output_type": "stream",
     "text": [
      "\r\n",
      "Epoch 342/600:  57%|█████▋    | 342/600 [2:51:40<2:12:07, 30.73s/it, v_num=yw_1, total_loss_train=517, kl_local_train=101, metric_mi|age_categorical_train=0.339]"
     ]
    },
    {
     "name": "stdout",
     "output_type": "stream",
     "text": [
      "\r\n",
      "Epoch 342/600:  57%|█████▋    | 342/600 [2:51:40<2:12:07, 30.73s/it, v_num=yw_1, total_loss_train=517, kl_local_train=101, metric_mi|age_categorical_train=0.339]"
     ]
    },
    {
     "name": "stdout",
     "output_type": "stream",
     "text": [
      "\r\n",
      "Epoch 343/600:  57%|█████▋    | 342/600 [2:51:40<2:12:07, 30.73s/it, v_num=yw_1, total_loss_train=517, kl_local_train=101, metric_mi|age_categorical_train=0.339]"
     ]
    },
    {
     "name": "stdout",
     "output_type": "stream",
     "text": [
      "\r\n",
      "Epoch 343/600:  57%|█████▋    | 343/600 [2:52:12<2:13:15, 31.11s/it, v_num=yw_1, total_loss_train=517, kl_local_train=101, metric_mi|age_categorical_train=0.339]"
     ]
    },
    {
     "name": "stdout",
     "output_type": "stream",
     "text": [
      "\r\n",
      "Epoch 343/600:  57%|█████▋    | 343/600 [2:52:12<2:13:15, 31.11s/it, v_num=yw_1, total_loss_train=517, kl_local_train=101, metric_mi|age_categorical_train=0.339]"
     ]
    },
    {
     "name": "stdout",
     "output_type": "stream",
     "text": [
      "\r\n",
      "Epoch 344/600:  57%|█████▋    | 343/600 [2:52:12<2:13:15, 31.11s/it, v_num=yw_1, total_loss_train=517, kl_local_train=101, metric_mi|age_categorical_train=0.339]"
     ]
    },
    {
     "name": "stdout",
     "output_type": "stream",
     "text": [
      "\r\n",
      "Epoch 344/600:  57%|█████▋    | 344/600 [2:52:44<2:13:59, 31.41s/it, v_num=yw_1, total_loss_train=517, kl_local_train=101, metric_mi|age_categorical_train=0.339]"
     ]
    },
    {
     "name": "stdout",
     "output_type": "stream",
     "text": [
      "\r\n",
      "Epoch 344/600:  57%|█████▋    | 344/600 [2:52:44<2:13:59, 31.41s/it, v_num=yw_1, total_loss_train=517, kl_local_train=101, metric_mi|age_categorical_train=0.339]"
     ]
    },
    {
     "name": "stdout",
     "output_type": "stream",
     "text": [
      "\r\n",
      "Epoch 345/600:  57%|█████▋    | 344/600 [2:52:44<2:13:59, 31.41s/it, v_num=yw_1, total_loss_train=517, kl_local_train=101, metric_mi|age_categorical_train=0.339]"
     ]
    },
    {
     "name": "stdout",
     "output_type": "stream",
     "text": [
      "\r\n",
      "Epoch 345/600:  57%|█████▊    | 345/600 [2:53:16<2:14:18, 31.60s/it, v_num=yw_1, total_loss_train=517, kl_local_train=101, metric_mi|age_categorical_train=0.339]"
     ]
    },
    {
     "name": "stdout",
     "output_type": "stream",
     "text": [
      "\r\n",
      "Epoch 345/600:  57%|█████▊    | 345/600 [2:53:16<2:14:18, 31.60s/it, v_num=yw_1, total_loss_train=517, kl_local_train=100, metric_mi|age_categorical_train=0.339]"
     ]
    },
    {
     "name": "stdout",
     "output_type": "stream",
     "text": [
      "\r\n",
      "Epoch 346/600:  57%|█████▊    | 345/600 [2:53:17<2:14:18, 31.60s/it, v_num=yw_1, total_loss_train=517, kl_local_train=100, metric_mi|age_categorical_train=0.339]"
     ]
    },
    {
     "name": "stdout",
     "output_type": "stream",
     "text": [
      "\r\n",
      "Epoch 346/600:  58%|█████▊    | 346/600 [2:53:49<2:15:00, 31.89s/it, v_num=yw_1, total_loss_train=517, kl_local_train=100, metric_mi|age_categorical_train=0.339]"
     ]
    },
    {
     "name": "stdout",
     "output_type": "stream",
     "text": [
      "\r\n",
      "Epoch 346/600:  58%|█████▊    | 346/600 [2:53:49<2:15:00, 31.89s/it, v_num=yw_1, total_loss_train=517, kl_local_train=100, metric_mi|age_categorical_train=0.341]"
     ]
    },
    {
     "name": "stdout",
     "output_type": "stream",
     "text": [
      "\r\n",
      "Epoch 347/600:  58%|█████▊    | 346/600 [2:53:49<2:15:00, 31.89s/it, v_num=yw_1, total_loss_train=517, kl_local_train=100, metric_mi|age_categorical_train=0.341]"
     ]
    },
    {
     "name": "stdout",
     "output_type": "stream",
     "text": [
      "\r\n",
      "Epoch 347/600:  58%|█████▊    | 347/600 [2:54:20<2:14:04, 31.80s/it, v_num=yw_1, total_loss_train=517, kl_local_train=100, metric_mi|age_categorical_train=0.341]"
     ]
    },
    {
     "name": "stdout",
     "output_type": "stream",
     "text": [
      "\r\n",
      "Epoch 347/600:  58%|█████▊    | 347/600 [2:54:20<2:14:04, 31.80s/it, v_num=yw_1, total_loss_train=517, kl_local_train=99.9, metric_mi|age_categorical_train=0.341]"
     ]
    },
    {
     "name": "stdout",
     "output_type": "stream",
     "text": [
      "\r\n",
      "Epoch 348/600:  58%|█████▊    | 347/600 [2:54:20<2:14:04, 31.80s/it, v_num=yw_1, total_loss_train=517, kl_local_train=99.9, metric_mi|age_categorical_train=0.341]"
     ]
    },
    {
     "name": "stdout",
     "output_type": "stream",
     "text": [
      "\r\n",
      "Epoch 348/600:  58%|█████▊    | 348/600 [2:54:52<2:13:37, 31.81s/it, v_num=yw_1, total_loss_train=517, kl_local_train=99.9, metric_mi|age_categorical_train=0.341]"
     ]
    },
    {
     "name": "stdout",
     "output_type": "stream",
     "text": [
      "\r\n",
      "Epoch 348/600:  58%|█████▊    | 348/600 [2:54:52<2:13:37, 31.81s/it, v_num=yw_1, total_loss_train=518, kl_local_train=100, metric_mi|age_categorical_train=0.341] "
     ]
    },
    {
     "name": "stdout",
     "output_type": "stream",
     "text": [
      "\r\n",
      "Epoch 349/600:  58%|█████▊    | 348/600 [2:54:52<2:13:37, 31.81s/it, v_num=yw_1, total_loss_train=518, kl_local_train=100, metric_mi|age_categorical_train=0.341]"
     ]
    },
    {
     "name": "stdout",
     "output_type": "stream",
     "text": [
      "\r\n",
      "Epoch 349/600:  58%|█████▊    | 349/600 [2:55:24<2:13:08, 31.83s/it, v_num=yw_1, total_loss_train=518, kl_local_train=100, metric_mi|age_categorical_train=0.341]"
     ]
    },
    {
     "name": "stdout",
     "output_type": "stream",
     "text": [
      "\r\n",
      "Epoch 349/600:  58%|█████▊    | 349/600 [2:55:24<2:13:08, 31.83s/it, v_num=yw_1, total_loss_train=517, kl_local_train=99.7, metric_mi|age_categorical_train=0.341]"
     ]
    },
    {
     "name": "stdout",
     "output_type": "stream",
     "text": [
      "\r\n",
      "Epoch 350/600:  58%|█████▊    | 349/600 [2:55:24<2:13:08, 31.83s/it, v_num=yw_1, total_loss_train=517, kl_local_train=99.7, metric_mi|age_categorical_train=0.341]"
     ]
    },
    {
     "name": "stdout",
     "output_type": "stream",
     "text": [
      "\r\n",
      "Epoch 350/600:  58%|█████▊    | 350/600 [2:55:56<2:12:56, 31.91s/it, v_num=yw_1, total_loss_train=517, kl_local_train=99.7, metric_mi|age_categorical_train=0.341]"
     ]
    },
    {
     "name": "stdout",
     "output_type": "stream",
     "text": [
      "\r\n",
      "Epoch 350/600:  58%|█████▊    | 350/600 [2:55:56<2:12:56, 31.91s/it, v_num=yw_1, total_loss_train=517, kl_local_train=99.7, metric_mi|age_categorical_train=0.341]"
     ]
    },
    {
     "name": "stdout",
     "output_type": "stream",
     "text": [
      "\r\n",
      "Epoch 351/600:  58%|█████▊    | 350/600 [2:55:57<2:12:56, 31.91s/it, v_num=yw_1, total_loss_train=517, kl_local_train=99.7, metric_mi|age_categorical_train=0.341]"
     ]
    },
    {
     "name": "stdout",
     "output_type": "stream",
     "text": [
      "\r\n",
      "Epoch 351/600:  58%|█████▊    | 351/600 [2:56:29<2:13:18, 32.12s/it, v_num=yw_1, total_loss_train=517, kl_local_train=99.7, metric_mi|age_categorical_train=0.341]"
     ]
    },
    {
     "name": "stdout",
     "output_type": "stream",
     "text": [
      "\r\n",
      "Epoch 351/600:  58%|█████▊    | 351/600 [2:56:29<2:13:18, 32.12s/it, v_num=yw_1, total_loss_train=518, kl_local_train=99.9, metric_mi|age_categorical_train=0.336]"
     ]
    },
    {
     "name": "stdout",
     "output_type": "stream",
     "text": [
      "\r\n",
      "Epoch 352/600:  58%|█████▊    | 351/600 [2:56:29<2:13:18, 32.12s/it, v_num=yw_1, total_loss_train=518, kl_local_train=99.9, metric_mi|age_categorical_train=0.336]"
     ]
    },
    {
     "name": "stdout",
     "output_type": "stream",
     "text": [
      "\r\n",
      "Epoch 352/600:  59%|█████▊    | 352/600 [2:57:01<2:12:26, 32.04s/it, v_num=yw_1, total_loss_train=518, kl_local_train=99.9, metric_mi|age_categorical_train=0.336]"
     ]
    },
    {
     "name": "stdout",
     "output_type": "stream",
     "text": [
      "\r\n",
      "Epoch 352/600:  59%|█████▊    | 352/600 [2:57:01<2:12:26, 32.04s/it, v_num=yw_1, total_loss_train=518, kl_local_train=99.4, metric_mi|age_categorical_train=0.336]"
     ]
    },
    {
     "name": "stdout",
     "output_type": "stream",
     "text": [
      "\r\n",
      "Epoch 353/600:  59%|█████▊    | 352/600 [2:57:01<2:12:26, 32.04s/it, v_num=yw_1, total_loss_train=518, kl_local_train=99.4, metric_mi|age_categorical_train=0.336]"
     ]
    },
    {
     "name": "stdout",
     "output_type": "stream",
     "text": [
      "\r\n",
      "Epoch 353/600:  59%|█████▉    | 353/600 [2:57:32<2:11:39, 31.98s/it, v_num=yw_1, total_loss_train=518, kl_local_train=99.4, metric_mi|age_categorical_train=0.336]"
     ]
    },
    {
     "name": "stdout",
     "output_type": "stream",
     "text": [
      "\r\n",
      "Epoch 353/600:  59%|█████▉    | 353/600 [2:57:32<2:11:39, 31.98s/it, v_num=yw_1, total_loss_train=518, kl_local_train=99.1, metric_mi|age_categorical_train=0.336]"
     ]
    },
    {
     "name": "stdout",
     "output_type": "stream",
     "text": [
      "\r\n",
      "Epoch 354/600:  59%|█████▉    | 353/600 [2:57:32<2:11:39, 31.98s/it, v_num=yw_1, total_loss_train=518, kl_local_train=99.1, metric_mi|age_categorical_train=0.336]"
     ]
    },
    {
     "name": "stdout",
     "output_type": "stream",
     "text": [
      "\r\n",
      "Epoch 354/600:  59%|█████▉    | 354/600 [2:58:04<2:10:45, 31.89s/it, v_num=yw_1, total_loss_train=518, kl_local_train=99.1, metric_mi|age_categorical_train=0.336]"
     ]
    },
    {
     "name": "stdout",
     "output_type": "stream",
     "text": [
      "\r\n",
      "Epoch 354/600:  59%|█████▉    | 354/600 [2:58:04<2:10:45, 31.89s/it, v_num=yw_1, total_loss_train=518, kl_local_train=99.3, metric_mi|age_categorical_train=0.336]"
     ]
    },
    {
     "name": "stdout",
     "output_type": "stream",
     "text": [
      "\r\n",
      "Epoch 355/600:  59%|█████▉    | 354/600 [2:58:04<2:10:45, 31.89s/it, v_num=yw_1, total_loss_train=518, kl_local_train=99.3, metric_mi|age_categorical_train=0.336]"
     ]
    },
    {
     "name": "stdout",
     "output_type": "stream",
     "text": [
      "\r\n",
      "Epoch 355/600:  59%|█████▉    | 355/600 [2:58:36<2:09:58, 31.83s/it, v_num=yw_1, total_loss_train=518, kl_local_train=99.3, metric_mi|age_categorical_train=0.336]"
     ]
    },
    {
     "name": "stdout",
     "output_type": "stream",
     "text": [
      "\r\n",
      "Epoch 355/600:  59%|█████▉    | 355/600 [2:58:36<2:09:58, 31.83s/it, v_num=yw_1, total_loss_train=518, kl_local_train=98.6, metric_mi|age_categorical_train=0.336]"
     ]
    },
    {
     "name": "stdout",
     "output_type": "stream",
     "text": [
      "\r\n",
      "Epoch 356/600:  59%|█████▉    | 355/600 [2:58:37<2:09:58, 31.83s/it, v_num=yw_1, total_loss_train=518, kl_local_train=98.6, metric_mi|age_categorical_train=0.336]"
     ]
    },
    {
     "name": "stdout",
     "output_type": "stream",
     "text": [
      "\r\n",
      "Epoch 356/600:  59%|█████▉    | 356/600 [2:59:08<2:10:13, 32.02s/it, v_num=yw_1, total_loss_train=518, kl_local_train=98.6, metric_mi|age_categorical_train=0.336]"
     ]
    },
    {
     "name": "stdout",
     "output_type": "stream",
     "text": [
      "\r\n",
      "Epoch 356/600:  59%|█████▉    | 356/600 [2:59:08<2:10:13, 32.02s/it, v_num=yw_1, total_loss_train=518, kl_local_train=98.1, metric_mi|age_categorical_train=0.346]"
     ]
    },
    {
     "name": "stdout",
     "output_type": "stream",
     "text": [
      "\r\n",
      "Epoch 357/600:  59%|█████▉    | 356/600 [2:59:08<2:10:13, 32.02s/it, v_num=yw_1, total_loss_train=518, kl_local_train=98.1, metric_mi|age_categorical_train=0.346]"
     ]
    },
    {
     "name": "stdout",
     "output_type": "stream",
     "text": [
      "\r\n",
      "Epoch 357/600:  60%|█████▉    | 357/600 [2:59:40<2:09:23, 31.95s/it, v_num=yw_1, total_loss_train=518, kl_local_train=98.1, metric_mi|age_categorical_train=0.346]"
     ]
    },
    {
     "name": "stdout",
     "output_type": "stream",
     "text": [
      "\r\n",
      "Epoch 357/600:  60%|█████▉    | 357/600 [2:59:40<2:09:23, 31.95s/it, v_num=yw_1, total_loss_train=518, kl_local_train=98.6, metric_mi|age_categorical_train=0.346]"
     ]
    },
    {
     "name": "stdout",
     "output_type": "stream",
     "text": [
      "\r\n",
      "Epoch 358/600:  60%|█████▉    | 357/600 [2:59:40<2:09:23, 31.95s/it, v_num=yw_1, total_loss_train=518, kl_local_train=98.6, metric_mi|age_categorical_train=0.346]"
     ]
    },
    {
     "name": "stdout",
     "output_type": "stream",
     "text": [
      "\r\n",
      "Epoch 358/600:  60%|█████▉    | 358/600 [3:00:12<2:08:43, 31.92s/it, v_num=yw_1, total_loss_train=518, kl_local_train=98.6, metric_mi|age_categorical_train=0.346]"
     ]
    },
    {
     "name": "stdout",
     "output_type": "stream",
     "text": [
      "\r\n",
      "Epoch 358/600:  60%|█████▉    | 358/600 [3:00:12<2:08:43, 31.92s/it, v_num=yw_1, total_loss_train=518, kl_local_train=98.2, metric_mi|age_categorical_train=0.346]"
     ]
    },
    {
     "name": "stdout",
     "output_type": "stream",
     "text": [
      "\r\n",
      "Epoch 359/600:  60%|█████▉    | 358/600 [3:00:12<2:08:43, 31.92s/it, v_num=yw_1, total_loss_train=518, kl_local_train=98.2, metric_mi|age_categorical_train=0.346]"
     ]
    },
    {
     "name": "stdout",
     "output_type": "stream",
     "text": [
      "\r\n",
      "Epoch 359/600:  60%|█████▉    | 359/600 [3:00:44<2:08:02, 31.88s/it, v_num=yw_1, total_loss_train=518, kl_local_train=98.2, metric_mi|age_categorical_train=0.346]"
     ]
    },
    {
     "name": "stdout",
     "output_type": "stream",
     "text": [
      "\r\n",
      "Epoch 359/600:  60%|█████▉    | 359/600 [3:00:44<2:08:02, 31.88s/it, v_num=yw_1, total_loss_train=518, kl_local_train=98.2, metric_mi|age_categorical_train=0.346]"
     ]
    },
    {
     "name": "stdout",
     "output_type": "stream",
     "text": [
      "\r\n",
      "Epoch 360/600:  60%|█████▉    | 359/600 [3:00:44<2:08:02, 31.88s/it, v_num=yw_1, total_loss_train=518, kl_local_train=98.2, metric_mi|age_categorical_train=0.346]"
     ]
    },
    {
     "name": "stdout",
     "output_type": "stream",
     "text": [
      "\r\n",
      "Epoch 360/600:  60%|██████    | 360/600 [3:01:16<2:07:43, 31.93s/it, v_num=yw_1, total_loss_train=518, kl_local_train=98.2, metric_mi|age_categorical_train=0.346]"
     ]
    },
    {
     "name": "stdout",
     "output_type": "stream",
     "text": [
      "\r\n",
      "Epoch 360/600:  60%|██████    | 360/600 [3:01:16<2:07:43, 31.93s/it, v_num=yw_1, total_loss_train=518, kl_local_train=98.3, metric_mi|age_categorical_train=0.346]"
     ]
    },
    {
     "name": "stdout",
     "output_type": "stream",
     "text": [
      "\r\n",
      "Epoch 361/600:  60%|██████    | 360/600 [3:01:16<2:07:43, 31.93s/it, v_num=yw_1, total_loss_train=518, kl_local_train=98.3, metric_mi|age_categorical_train=0.346]"
     ]
    },
    {
     "name": "stdout",
     "output_type": "stream",
     "text": [
      "\r\n",
      "Epoch 361/600:  60%|██████    | 361/600 [3:01:48<2:07:53, 32.11s/it, v_num=yw_1, total_loss_train=518, kl_local_train=98.3, metric_mi|age_categorical_train=0.346]"
     ]
    },
    {
     "name": "stdout",
     "output_type": "stream",
     "text": [
      "\r\n",
      "Epoch 361/600:  60%|██████    | 361/600 [3:01:48<2:07:53, 32.11s/it, v_num=yw_1, total_loss_train=519, kl_local_train=97.9, metric_mi|age_categorical_train=0.345]"
     ]
    },
    {
     "name": "stdout",
     "output_type": "stream",
     "text": [
      "\r\n",
      "Epoch 362/600:  60%|██████    | 361/600 [3:01:48<2:07:53, 32.11s/it, v_num=yw_1, total_loss_train=519, kl_local_train=97.9, metric_mi|age_categorical_train=0.345]"
     ]
    },
    {
     "name": "stdout",
     "output_type": "stream",
     "text": [
      "\r\n",
      "Epoch 362/600:  60%|██████    | 362/600 [3:02:20<2:07:05, 32.04s/it, v_num=yw_1, total_loss_train=519, kl_local_train=97.9, metric_mi|age_categorical_train=0.345]"
     ]
    },
    {
     "name": "stdout",
     "output_type": "stream",
     "text": [
      "\r\n",
      "Epoch 362/600:  60%|██████    | 362/600 [3:02:20<2:07:05, 32.04s/it, v_num=yw_1, total_loss_train=519, kl_local_train=98, metric_mi|age_categorical_train=0.345]  "
     ]
    },
    {
     "name": "stdout",
     "output_type": "stream",
     "text": [
      "\r\n",
      "Epoch 363/600:  60%|██████    | 362/600 [3:02:20<2:07:05, 32.04s/it, v_num=yw_1, total_loss_train=519, kl_local_train=98, metric_mi|age_categorical_train=0.345]"
     ]
    },
    {
     "name": "stdout",
     "output_type": "stream",
     "text": [
      "\r\n",
      "Epoch 363/600:  60%|██████    | 363/600 [3:02:52<2:06:27, 32.01s/it, v_num=yw_1, total_loss_train=519, kl_local_train=98, metric_mi|age_categorical_train=0.345]"
     ]
    },
    {
     "name": "stdout",
     "output_type": "stream",
     "text": [
      "\r\n",
      "Epoch 363/600:  60%|██████    | 363/600 [3:02:52<2:06:27, 32.01s/it, v_num=yw_1, total_loss_train=519, kl_local_train=97.9, metric_mi|age_categorical_train=0.345]"
     ]
    },
    {
     "name": "stdout",
     "output_type": "stream",
     "text": [
      "\r\n",
      "Epoch 364/600:  60%|██████    | 363/600 [3:02:52<2:06:27, 32.01s/it, v_num=yw_1, total_loss_train=519, kl_local_train=97.9, metric_mi|age_categorical_train=0.345]"
     ]
    },
    {
     "name": "stdout",
     "output_type": "stream",
     "text": [
      "\r\n",
      "Epoch 364/600:  61%|██████    | 364/600 [3:03:24<2:05:35, 31.93s/it, v_num=yw_1, total_loss_train=519, kl_local_train=97.9, metric_mi|age_categorical_train=0.345]"
     ]
    },
    {
     "name": "stdout",
     "output_type": "stream",
     "text": [
      "\r\n",
      "Epoch 364/600:  61%|██████    | 364/600 [3:03:24<2:05:35, 31.93s/it, v_num=yw_1, total_loss_train=519, kl_local_train=97.6, metric_mi|age_categorical_train=0.345]"
     ]
    },
    {
     "name": "stdout",
     "output_type": "stream",
     "text": [
      "\r\n",
      "Epoch 365/600:  61%|██████    | 364/600 [3:03:24<2:05:35, 31.93s/it, v_num=yw_1, total_loss_train=519, kl_local_train=97.6, metric_mi|age_categorical_train=0.345]"
     ]
    },
    {
     "name": "stdout",
     "output_type": "stream",
     "text": [
      "\r\n",
      "Epoch 365/600:  61%|██████    | 365/600 [3:03:56<2:05:16, 31.98s/it, v_num=yw_1, total_loss_train=519, kl_local_train=97.6, metric_mi|age_categorical_train=0.345]"
     ]
    },
    {
     "name": "stdout",
     "output_type": "stream",
     "text": [
      "\r\n",
      "Epoch 365/600:  61%|██████    | 365/600 [3:03:56<2:05:16, 31.98s/it, v_num=yw_1, total_loss_train=519, kl_local_train=97.7, metric_mi|age_categorical_train=0.345]"
     ]
    },
    {
     "name": "stdout",
     "output_type": "stream",
     "text": [
      "\r\n",
      "Epoch 366/600:  61%|██████    | 365/600 [3:03:57<2:05:16, 31.98s/it, v_num=yw_1, total_loss_train=519, kl_local_train=97.7, metric_mi|age_categorical_train=0.345]"
     ]
    },
    {
     "name": "stdout",
     "output_type": "stream",
     "text": [
      "\r\n",
      "Epoch 366/600:  61%|██████    | 366/600 [3:04:28<2:05:28, 32.17s/it, v_num=yw_1, total_loss_train=519, kl_local_train=97.7, metric_mi|age_categorical_train=0.345]"
     ]
    },
    {
     "name": "stdout",
     "output_type": "stream",
     "text": [
      "\r\n",
      "Epoch 366/600:  61%|██████    | 366/600 [3:04:28<2:05:28, 32.17s/it, v_num=yw_1, total_loss_train=519, kl_local_train=97.2, metric_mi|age_categorical_train=0.342]"
     ]
    },
    {
     "name": "stdout",
     "output_type": "stream",
     "text": [
      "\r\n",
      "Epoch 367/600:  61%|██████    | 366/600 [3:04:28<2:05:28, 32.17s/it, v_num=yw_1, total_loss_train=519, kl_local_train=97.2, metric_mi|age_categorical_train=0.342]"
     ]
    },
    {
     "name": "stdout",
     "output_type": "stream",
     "text": [
      "\r\n",
      "Epoch 367/600:  61%|██████    | 367/600 [3:05:00<2:04:36, 32.09s/it, v_num=yw_1, total_loss_train=519, kl_local_train=97.2, metric_mi|age_categorical_train=0.342]"
     ]
    },
    {
     "name": "stdout",
     "output_type": "stream",
     "text": [
      "\r\n",
      "Epoch 367/600:  61%|██████    | 367/600 [3:05:00<2:04:36, 32.09s/it, v_num=yw_1, total_loss_train=519, kl_local_train=97.3, metric_mi|age_categorical_train=0.342]"
     ]
    },
    {
     "name": "stdout",
     "output_type": "stream",
     "text": [
      "\r\n",
      "Epoch 368/600:  61%|██████    | 367/600 [3:05:00<2:04:36, 32.09s/it, v_num=yw_1, total_loss_train=519, kl_local_train=97.3, metric_mi|age_categorical_train=0.342]"
     ]
    },
    {
     "name": "stdout",
     "output_type": "stream",
     "text": [
      "\r\n",
      "Epoch 368/600:  61%|██████▏   | 368/600 [3:05:32<2:03:45, 32.01s/it, v_num=yw_1, total_loss_train=519, kl_local_train=97.3, metric_mi|age_categorical_train=0.342]"
     ]
    },
    {
     "name": "stdout",
     "output_type": "stream",
     "text": [
      "\r\n",
      "Epoch 368/600:  61%|██████▏   | 368/600 [3:05:32<2:03:45, 32.01s/it, v_num=yw_1, total_loss_train=520, kl_local_train=97.3, metric_mi|age_categorical_train=0.342]"
     ]
    },
    {
     "name": "stdout",
     "output_type": "stream",
     "text": [
      "\r\n",
      "Epoch 369/600:  61%|██████▏   | 368/600 [3:05:32<2:03:45, 32.01s/it, v_num=yw_1, total_loss_train=520, kl_local_train=97.3, metric_mi|age_categorical_train=0.342]"
     ]
    },
    {
     "name": "stdout",
     "output_type": "stream",
     "text": [
      "\r\n",
      "Epoch 369/600:  62%|██████▏   | 369/600 [3:06:04<2:02:57, 31.94s/it, v_num=yw_1, total_loss_train=520, kl_local_train=97.3, metric_mi|age_categorical_train=0.342]"
     ]
    },
    {
     "name": "stdout",
     "output_type": "stream",
     "text": [
      "\r\n",
      "Epoch 369/600:  62%|██████▏   | 369/600 [3:06:04<2:02:57, 31.94s/it, v_num=yw_1, total_loss_train=520, kl_local_train=97.5, metric_mi|age_categorical_train=0.342]"
     ]
    },
    {
     "name": "stdout",
     "output_type": "stream",
     "text": [
      "\r\n",
      "Epoch 370/600:  62%|██████▏   | 369/600 [3:06:04<2:02:57, 31.94s/it, v_num=yw_1, total_loss_train=520, kl_local_train=97.5, metric_mi|age_categorical_train=0.342]"
     ]
    },
    {
     "name": "stdout",
     "output_type": "stream",
     "text": [
      "\r\n",
      "Epoch 370/600:  62%|██████▏   | 370/600 [3:06:36<2:02:41, 32.00s/it, v_num=yw_1, total_loss_train=520, kl_local_train=97.5, metric_mi|age_categorical_train=0.342]"
     ]
    },
    {
     "name": "stdout",
     "output_type": "stream",
     "text": [
      "\r\n",
      "Epoch 370/600:  62%|██████▏   | 370/600 [3:06:36<2:02:41, 32.00s/it, v_num=yw_1, total_loss_train=520, kl_local_train=97.3, metric_mi|age_categorical_train=0.342]"
     ]
    },
    {
     "name": "stdout",
     "output_type": "stream",
     "text": [
      "\r\n",
      "Epoch 371/600:  62%|██████▏   | 370/600 [3:06:37<2:02:41, 32.00s/it, v_num=yw_1, total_loss_train=520, kl_local_train=97.3, metric_mi|age_categorical_train=0.342]"
     ]
    },
    {
     "name": "stdout",
     "output_type": "stream",
     "text": [
      "\r\n",
      "Epoch 371/600:  62%|██████▏   | 371/600 [3:07:09<2:02:47, 32.17s/it, v_num=yw_1, total_loss_train=520, kl_local_train=97.3, metric_mi|age_categorical_train=0.342]"
     ]
    },
    {
     "name": "stdout",
     "output_type": "stream",
     "text": [
      "\r\n",
      "Epoch 371/600:  62%|██████▏   | 371/600 [3:07:09<2:02:47, 32.17s/it, v_num=yw_1, total_loss_train=520, kl_local_train=96.8, metric_mi|age_categorical_train=0.352]"
     ]
    },
    {
     "name": "stdout",
     "output_type": "stream",
     "text": [
      "\r\n",
      "Epoch 372/600:  62%|██████▏   | 371/600 [3:07:09<2:02:47, 32.17s/it, v_num=yw_1, total_loss_train=520, kl_local_train=96.8, metric_mi|age_categorical_train=0.352]"
     ]
    },
    {
     "name": "stdout",
     "output_type": "stream",
     "text": [
      "\r\n",
      "Epoch 372/600:  62%|██████▏   | 372/600 [3:07:41<2:01:57, 32.09s/it, v_num=yw_1, total_loss_train=520, kl_local_train=96.8, metric_mi|age_categorical_train=0.352]"
     ]
    },
    {
     "name": "stdout",
     "output_type": "stream",
     "text": [
      "\r\n",
      "Epoch 372/600:  62%|██████▏   | 372/600 [3:07:41<2:01:57, 32.09s/it, v_num=yw_1, total_loss_train=520, kl_local_train=96.8, metric_mi|age_categorical_train=0.352]"
     ]
    },
    {
     "name": "stdout",
     "output_type": "stream",
     "text": [
      "\r\n",
      "Epoch 373/600:  62%|██████▏   | 372/600 [3:07:41<2:01:57, 32.09s/it, v_num=yw_1, total_loss_train=520, kl_local_train=96.8, metric_mi|age_categorical_train=0.352]"
     ]
    },
    {
     "name": "stdout",
     "output_type": "stream",
     "text": [
      "\r\n",
      "Epoch 373/600:  62%|██████▏   | 373/600 [3:08:12<2:01:06, 32.01s/it, v_num=yw_1, total_loss_train=520, kl_local_train=96.8, metric_mi|age_categorical_train=0.352]"
     ]
    },
    {
     "name": "stdout",
     "output_type": "stream",
     "text": [
      "\r\n",
      "Epoch 373/600:  62%|██████▏   | 373/600 [3:08:12<2:01:06, 32.01s/it, v_num=yw_1, total_loss_train=520, kl_local_train=96.7, metric_mi|age_categorical_train=0.352]"
     ]
    },
    {
     "name": "stdout",
     "output_type": "stream",
     "text": [
      "\r\n",
      "Epoch 374/600:  62%|██████▏   | 373/600 [3:08:12<2:01:06, 32.01s/it, v_num=yw_1, total_loss_train=520, kl_local_train=96.7, metric_mi|age_categorical_train=0.352]"
     ]
    },
    {
     "name": "stdout",
     "output_type": "stream",
     "text": [
      "\r\n",
      "Epoch 374/600:  62%|██████▏   | 374/600 [3:08:44<2:00:21, 31.96s/it, v_num=yw_1, total_loss_train=520, kl_local_train=96.7, metric_mi|age_categorical_train=0.352]"
     ]
    },
    {
     "name": "stdout",
     "output_type": "stream",
     "text": [
      "\r\n",
      "Epoch 374/600:  62%|██████▏   | 374/600 [3:08:44<2:00:21, 31.96s/it, v_num=yw_1, total_loss_train=520, kl_local_train=96.6, metric_mi|age_categorical_train=0.352]"
     ]
    },
    {
     "name": "stdout",
     "output_type": "stream",
     "text": [
      "\r\n",
      "Epoch 375/600:  62%|██████▏   | 374/600 [3:08:44<2:00:21, 31.96s/it, v_num=yw_1, total_loss_train=520, kl_local_train=96.6, metric_mi|age_categorical_train=0.352]"
     ]
    },
    {
     "name": "stdout",
     "output_type": "stream",
     "text": [
      "\r\n",
      "Epoch 375/600:  62%|██████▎   | 375/600 [3:09:16<1:59:47, 31.95s/it, v_num=yw_1, total_loss_train=520, kl_local_train=96.6, metric_mi|age_categorical_train=0.352]"
     ]
    },
    {
     "name": "stdout",
     "output_type": "stream",
     "text": [
      "\r\n",
      "Epoch 375/600:  62%|██████▎   | 375/600 [3:09:16<1:59:47, 31.95s/it, v_num=yw_1, total_loss_train=520, kl_local_train=96.8, metric_mi|age_categorical_train=0.352]"
     ]
    },
    {
     "name": "stdout",
     "output_type": "stream",
     "text": [
      "\r\n",
      "Epoch 376/600:  62%|██████▎   | 375/600 [3:09:17<1:59:47, 31.95s/it, v_num=yw_1, total_loss_train=520, kl_local_train=96.8, metric_mi|age_categorical_train=0.352]"
     ]
    },
    {
     "name": "stdout",
     "output_type": "stream",
     "text": [
      "\r\n",
      "Epoch 376/600:  63%|██████▎   | 376/600 [3:09:49<1:59:52, 32.11s/it, v_num=yw_1, total_loss_train=520, kl_local_train=96.8, metric_mi|age_categorical_train=0.352]"
     ]
    },
    {
     "name": "stdout",
     "output_type": "stream",
     "text": [
      "\r\n",
      "Epoch 376/600:  63%|██████▎   | 376/600 [3:09:49<1:59:52, 32.11s/it, v_num=yw_1, total_loss_train=520, kl_local_train=96.5, metric_mi|age_categorical_train=0.363]"
     ]
    },
    {
     "name": "stdout",
     "output_type": "stream",
     "text": [
      "\r\n",
      "Epoch 377/600:  63%|██████▎   | 376/600 [3:09:49<1:59:52, 32.11s/it, v_num=yw_1, total_loss_train=520, kl_local_train=96.5, metric_mi|age_categorical_train=0.363]"
     ]
    },
    {
     "name": "stdout",
     "output_type": "stream",
     "text": [
      "\r\n",
      "Epoch 377/600:  63%|██████▎   | 377/600 [3:10:20<1:59:01, 32.02s/it, v_num=yw_1, total_loss_train=520, kl_local_train=96.5, metric_mi|age_categorical_train=0.363]"
     ]
    },
    {
     "name": "stdout",
     "output_type": "stream",
     "text": [
      "\r\n",
      "Epoch 377/600:  63%|██████▎   | 377/600 [3:10:20<1:59:01, 32.02s/it, v_num=yw_1, total_loss_train=520, kl_local_train=96.3, metric_mi|age_categorical_train=0.363]"
     ]
    },
    {
     "name": "stdout",
     "output_type": "stream",
     "text": [
      "\r\n",
      "Epoch 378/600:  63%|██████▎   | 377/600 [3:10:20<1:59:01, 32.02s/it, v_num=yw_1, total_loss_train=520, kl_local_train=96.3, metric_mi|age_categorical_train=0.363]"
     ]
    },
    {
     "name": "stdout",
     "output_type": "stream",
     "text": [
      "\r\n",
      "Epoch 378/600:  63%|██████▎   | 378/600 [3:10:52<1:58:15, 31.96s/it, v_num=yw_1, total_loss_train=520, kl_local_train=96.3, metric_mi|age_categorical_train=0.363]"
     ]
    },
    {
     "name": "stdout",
     "output_type": "stream",
     "text": [
      "\r\n",
      "Epoch 378/600:  63%|██████▎   | 378/600 [3:10:52<1:58:15, 31.96s/it, v_num=yw_1, total_loss_train=521, kl_local_train=96.2, metric_mi|age_categorical_train=0.363]"
     ]
    },
    {
     "name": "stdout",
     "output_type": "stream",
     "text": [
      "\r\n",
      "Epoch 379/600:  63%|██████▎   | 378/600 [3:10:52<1:58:15, 31.96s/it, v_num=yw_1, total_loss_train=521, kl_local_train=96.2, metric_mi|age_categorical_train=0.363]"
     ]
    },
    {
     "name": "stdout",
     "output_type": "stream",
     "text": [
      "\r\n",
      "Epoch 379/600:  63%|██████▎   | 379/600 [3:11:24<1:57:39, 31.94s/it, v_num=yw_1, total_loss_train=521, kl_local_train=96.2, metric_mi|age_categorical_train=0.363]"
     ]
    },
    {
     "name": "stdout",
     "output_type": "stream",
     "text": [
      "\r\n",
      "Epoch 379/600:  63%|██████▎   | 379/600 [3:11:24<1:57:39, 31.94s/it, v_num=yw_1, total_loss_train=521, kl_local_train=96.2, metric_mi|age_categorical_train=0.363]"
     ]
    },
    {
     "name": "stdout",
     "output_type": "stream",
     "text": [
      "\r\n",
      "Epoch 380/600:  63%|██████▎   | 379/600 [3:11:24<1:57:39, 31.94s/it, v_num=yw_1, total_loss_train=521, kl_local_train=96.2, metric_mi|age_categorical_train=0.363]"
     ]
    },
    {
     "name": "stdout",
     "output_type": "stream",
     "text": [
      "\r\n",
      "Epoch 380/600:  63%|██████▎   | 380/600 [3:11:56<1:57:06, 31.94s/it, v_num=yw_1, total_loss_train=521, kl_local_train=96.2, metric_mi|age_categorical_train=0.363]"
     ]
    },
    {
     "name": "stdout",
     "output_type": "stream",
     "text": [
      "\r\n",
      "Epoch 380/600:  63%|██████▎   | 380/600 [3:11:56<1:57:06, 31.94s/it, v_num=yw_1, total_loss_train=521, kl_local_train=95.9, metric_mi|age_categorical_train=0.363]"
     ]
    },
    {
     "name": "stdout",
     "output_type": "stream",
     "text": [
      "\r\n",
      "Epoch 381/600:  63%|██████▎   | 380/600 [3:11:57<1:57:06, 31.94s/it, v_num=yw_1, total_loss_train=521, kl_local_train=95.9, metric_mi|age_categorical_train=0.363]"
     ]
    },
    {
     "name": "stdout",
     "output_type": "stream",
     "text": [
      "\r\n",
      "Epoch 381/600:  64%|██████▎   | 381/600 [3:12:29<1:57:12, 32.11s/it, v_num=yw_1, total_loss_train=521, kl_local_train=95.9, metric_mi|age_categorical_train=0.363]"
     ]
    },
    {
     "name": "stdout",
     "output_type": "stream",
     "text": [
      "\r\n",
      "Epoch 381/600:  64%|██████▎   | 381/600 [3:12:29<1:57:12, 32.11s/it, v_num=yw_1, total_loss_train=521, kl_local_train=95.9, metric_mi|age_categorical_train=0.357]"
     ]
    },
    {
     "name": "stdout",
     "output_type": "stream",
     "text": [
      "\r\n",
      "Epoch 382/600:  64%|██████▎   | 381/600 [3:12:29<1:57:12, 32.11s/it, v_num=yw_1, total_loss_train=521, kl_local_train=95.9, metric_mi|age_categorical_train=0.357]"
     ]
    },
    {
     "name": "stdout",
     "output_type": "stream",
     "text": [
      "\r\n",
      "Epoch 382/600:  64%|██████▎   | 382/600 [3:13:00<1:56:21, 32.03s/it, v_num=yw_1, total_loss_train=521, kl_local_train=95.9, metric_mi|age_categorical_train=0.357]"
     ]
    },
    {
     "name": "stdout",
     "output_type": "stream",
     "text": [
      "\r\n",
      "Epoch 382/600:  64%|██████▎   | 382/600 [3:13:00<1:56:21, 32.03s/it, v_num=yw_1, total_loss_train=521, kl_local_train=95.8, metric_mi|age_categorical_train=0.357]"
     ]
    },
    {
     "name": "stdout",
     "output_type": "stream",
     "text": [
      "\r\n",
      "Epoch 383/600:  64%|██████▎   | 382/600 [3:13:00<1:56:21, 32.03s/it, v_num=yw_1, total_loss_train=521, kl_local_train=95.8, metric_mi|age_categorical_train=0.357]"
     ]
    },
    {
     "name": "stdout",
     "output_type": "stream",
     "text": [
      "\r\n",
      "Epoch 383/600:  64%|██████▍   | 383/600 [3:13:32<1:55:35, 31.96s/it, v_num=yw_1, total_loss_train=521, kl_local_train=95.8, metric_mi|age_categorical_train=0.357]"
     ]
    },
    {
     "name": "stdout",
     "output_type": "stream",
     "text": [
      "\r\n",
      "Epoch 383/600:  64%|██████▍   | 383/600 [3:13:32<1:55:35, 31.96s/it, v_num=yw_1, total_loss_train=521, kl_local_train=95.7, metric_mi|age_categorical_train=0.357]"
     ]
    },
    {
     "name": "stdout",
     "output_type": "stream",
     "text": [
      "\r\n",
      "Epoch 384/600:  64%|██████▍   | 383/600 [3:13:32<1:55:35, 31.96s/it, v_num=yw_1, total_loss_train=521, kl_local_train=95.7, metric_mi|age_categorical_train=0.357]"
     ]
    },
    {
     "name": "stdout",
     "output_type": "stream",
     "text": [
      "\r\n",
      "Epoch 384/600:  64%|██████▍   | 384/600 [3:14:04<1:55:02, 31.95s/it, v_num=yw_1, total_loss_train=521, kl_local_train=95.7, metric_mi|age_categorical_train=0.357]"
     ]
    },
    {
     "name": "stdout",
     "output_type": "stream",
     "text": [
      "\r\n",
      "Epoch 384/600:  64%|██████▍   | 384/600 [3:14:04<1:55:02, 31.95s/it, v_num=yw_1, total_loss_train=521, kl_local_train=95.6, metric_mi|age_categorical_train=0.357]"
     ]
    },
    {
     "name": "stdout",
     "output_type": "stream",
     "text": [
      "\r\n",
      "Epoch 385/600:  64%|██████▍   | 384/600 [3:14:04<1:55:02, 31.95s/it, v_num=yw_1, total_loss_train=521, kl_local_train=95.6, metric_mi|age_categorical_train=0.357]"
     ]
    },
    {
     "name": "stdout",
     "output_type": "stream",
     "text": [
      "\r\n",
      "Epoch 385/600:  64%|██████▍   | 385/600 [3:14:37<1:55:13, 32.16s/it, v_num=yw_1, total_loss_train=521, kl_local_train=95.6, metric_mi|age_categorical_train=0.357]"
     ]
    },
    {
     "name": "stdout",
     "output_type": "stream",
     "text": [
      "\r\n",
      "Epoch 385/600:  64%|██████▍   | 385/600 [3:14:37<1:55:13, 32.16s/it, v_num=yw_1, total_loss_train=521, kl_local_train=95.5, metric_mi|age_categorical_train=0.357]"
     ]
    },
    {
     "name": "stdout",
     "output_type": "stream",
     "text": [
      "\r\n",
      "Epoch 386/600:  64%|██████▍   | 385/600 [3:14:38<1:55:13, 32.16s/it, v_num=yw_1, total_loss_train=521, kl_local_train=95.5, metric_mi|age_categorical_train=0.357]"
     ]
    },
    {
     "name": "stdout",
     "output_type": "stream",
     "text": [
      "\r\n",
      "Epoch 386/600:  64%|██████▍   | 386/600 [3:15:10<1:55:16, 32.32s/it, v_num=yw_1, total_loss_train=521, kl_local_train=95.5, metric_mi|age_categorical_train=0.357]"
     ]
    },
    {
     "name": "stdout",
     "output_type": "stream",
     "text": [
      "\r\n",
      "Epoch 386/600:  64%|██████▍   | 386/600 [3:15:10<1:55:16, 32.32s/it, v_num=yw_1, total_loss_train=521, kl_local_train=95.2, metric_mi|age_categorical_train=0.363]"
     ]
    },
    {
     "name": "stdout",
     "output_type": "stream",
     "text": [
      "\r\n",
      "Epoch 387/600:  64%|██████▍   | 386/600 [3:15:10<1:55:16, 32.32s/it, v_num=yw_1, total_loss_train=521, kl_local_train=95.2, metric_mi|age_categorical_train=0.363]"
     ]
    },
    {
     "name": "stdout",
     "output_type": "stream",
     "text": [
      "\r\n",
      "Epoch 387/600:  64%|██████▍   | 387/600 [3:15:42<1:54:28, 32.25s/it, v_num=yw_1, total_loss_train=521, kl_local_train=95.2, metric_mi|age_categorical_train=0.363]"
     ]
    },
    {
     "name": "stdout",
     "output_type": "stream",
     "text": [
      "\r\n",
      "Epoch 387/600:  64%|██████▍   | 387/600 [3:15:42<1:54:28, 32.25s/it, v_num=yw_1, total_loss_train=522, kl_local_train=95.1, metric_mi|age_categorical_train=0.363]"
     ]
    },
    {
     "name": "stdout",
     "output_type": "stream",
     "text": [
      "\r\n",
      "Epoch 388/600:  64%|██████▍   | 387/600 [3:15:42<1:54:28, 32.25s/it, v_num=yw_1, total_loss_train=522, kl_local_train=95.1, metric_mi|age_categorical_train=0.363]"
     ]
    },
    {
     "name": "stdout",
     "output_type": "stream",
     "text": [
      "\r\n",
      "Epoch 388/600:  65%|██████▍   | 388/600 [3:16:14<1:53:45, 32.20s/it, v_num=yw_1, total_loss_train=522, kl_local_train=95.1, metric_mi|age_categorical_train=0.363]"
     ]
    },
    {
     "name": "stdout",
     "output_type": "stream",
     "text": [
      "\r\n",
      "Epoch 388/600:  65%|██████▍   | 388/600 [3:16:14<1:53:45, 32.20s/it, v_num=yw_1, total_loss_train=522, kl_local_train=94.9, metric_mi|age_categorical_train=0.363]"
     ]
    },
    {
     "name": "stdout",
     "output_type": "stream",
     "text": [
      "\r\n",
      "Epoch 389/600:  65%|██████▍   | 388/600 [3:16:14<1:53:45, 32.20s/it, v_num=yw_1, total_loss_train=522, kl_local_train=94.9, metric_mi|age_categorical_train=0.363]"
     ]
    },
    {
     "name": "stdout",
     "output_type": "stream",
     "text": [
      "\r\n",
      "Epoch 389/600:  65%|██████▍   | 389/600 [3:16:46<1:52:56, 32.12s/it, v_num=yw_1, total_loss_train=522, kl_local_train=94.9, metric_mi|age_categorical_train=0.363]"
     ]
    },
    {
     "name": "stdout",
     "output_type": "stream",
     "text": [
      "\r\n",
      "Epoch 389/600:  65%|██████▍   | 389/600 [3:16:46<1:52:56, 32.12s/it, v_num=yw_1, total_loss_train=522, kl_local_train=94.8, metric_mi|age_categorical_train=0.363]"
     ]
    },
    {
     "name": "stdout",
     "output_type": "stream",
     "text": [
      "\r\n",
      "Epoch 390/600:  65%|██████▍   | 389/600 [3:16:46<1:52:56, 32.12s/it, v_num=yw_1, total_loss_train=522, kl_local_train=94.8, metric_mi|age_categorical_train=0.363]"
     ]
    },
    {
     "name": "stdout",
     "output_type": "stream",
     "text": [
      "\r\n",
      "Epoch 390/600:  65%|██████▌   | 390/600 [3:17:18<1:52:22, 32.11s/it, v_num=yw_1, total_loss_train=522, kl_local_train=94.8, metric_mi|age_categorical_train=0.363]"
     ]
    },
    {
     "name": "stdout",
     "output_type": "stream",
     "text": [
      "\r\n",
      "Epoch 390/600:  65%|██████▌   | 390/600 [3:17:18<1:52:22, 32.11s/it, v_num=yw_1, total_loss_train=522, kl_local_train=94.9, metric_mi|age_categorical_train=0.363]"
     ]
    },
    {
     "name": "stdout",
     "output_type": "stream",
     "text": [
      "\r\n",
      "Epoch 391/600:  65%|██████▌   | 390/600 [3:17:18<1:52:22, 32.11s/it, v_num=yw_1, total_loss_train=522, kl_local_train=94.9, metric_mi|age_categorical_train=0.363]"
     ]
    },
    {
     "name": "stdout",
     "output_type": "stream",
     "text": [
      "\r\n",
      "Epoch 391/600:  65%|██████▌   | 391/600 [3:17:50<1:52:23, 32.27s/it, v_num=yw_1, total_loss_train=522, kl_local_train=94.9, metric_mi|age_categorical_train=0.363]"
     ]
    },
    {
     "name": "stdout",
     "output_type": "stream",
     "text": [
      "\r\n",
      "Epoch 391/600:  65%|██████▌   | 391/600 [3:17:50<1:52:23, 32.27s/it, v_num=yw_1, total_loss_train=522, kl_local_train=94.6, metric_mi|age_categorical_train=0.356]"
     ]
    },
    {
     "name": "stdout",
     "output_type": "stream",
     "text": [
      "\r\n",
      "Epoch 392/600:  65%|██████▌   | 391/600 [3:17:50<1:52:23, 32.27s/it, v_num=yw_1, total_loss_train=522, kl_local_train=94.6, metric_mi|age_categorical_train=0.356]"
     ]
    },
    {
     "name": "stdout",
     "output_type": "stream",
     "text": [
      "\r\n",
      "Epoch 392/600:  65%|██████▌   | 392/600 [3:18:22<1:51:25, 32.14s/it, v_num=yw_1, total_loss_train=522, kl_local_train=94.6, metric_mi|age_categorical_train=0.356]"
     ]
    },
    {
     "name": "stdout",
     "output_type": "stream",
     "text": [
      "\r\n",
      "Epoch 392/600:  65%|██████▌   | 392/600 [3:18:22<1:51:25, 32.14s/it, v_num=yw_1, total_loss_train=522, kl_local_train=94.6, metric_mi|age_categorical_train=0.356]"
     ]
    },
    {
     "name": "stdout",
     "output_type": "stream",
     "text": [
      "\r\n",
      "Epoch 393/600:  65%|██████▌   | 392/600 [3:18:22<1:51:25, 32.14s/it, v_num=yw_1, total_loss_train=522, kl_local_train=94.6, metric_mi|age_categorical_train=0.356]"
     ]
    },
    {
     "name": "stdout",
     "output_type": "stream",
     "text": [
      "\r\n",
      "Epoch 393/600:  66%|██████▌   | 393/600 [3:18:54<1:50:35, 32.06s/it, v_num=yw_1, total_loss_train=522, kl_local_train=94.6, metric_mi|age_categorical_train=0.356]"
     ]
    },
    {
     "name": "stdout",
     "output_type": "stream",
     "text": [
      "\r\n",
      "Epoch 393/600:  66%|██████▌   | 393/600 [3:18:54<1:50:35, 32.06s/it, v_num=yw_1, total_loss_train=522, kl_local_train=94.6, metric_mi|age_categorical_train=0.356]"
     ]
    },
    {
     "name": "stdout",
     "output_type": "stream",
     "text": [
      "\r\n",
      "Epoch 394/600:  66%|██████▌   | 393/600 [3:18:54<1:50:35, 32.06s/it, v_num=yw_1, total_loss_train=522, kl_local_train=94.6, metric_mi|age_categorical_train=0.356]"
     ]
    },
    {
     "name": "stdout",
     "output_type": "stream",
     "text": [
      "\r\n",
      "Epoch 394/600:  66%|██████▌   | 394/600 [3:19:26<1:49:48, 31.98s/it, v_num=yw_1, total_loss_train=522, kl_local_train=94.6, metric_mi|age_categorical_train=0.356]"
     ]
    },
    {
     "name": "stdout",
     "output_type": "stream",
     "text": [
      "\r\n",
      "Epoch 394/600:  66%|██████▌   | 394/600 [3:19:26<1:49:48, 31.98s/it, v_num=yw_1, total_loss_train=522, kl_local_train=94.3, metric_mi|age_categorical_train=0.356]"
     ]
    },
    {
     "name": "stdout",
     "output_type": "stream",
     "text": [
      "\r\n",
      "Epoch 395/600:  66%|██████▌   | 394/600 [3:19:26<1:49:48, 31.98s/it, v_num=yw_1, total_loss_train=522, kl_local_train=94.3, metric_mi|age_categorical_train=0.356]"
     ]
    },
    {
     "name": "stdout",
     "output_type": "stream",
     "text": [
      "\r\n",
      "Epoch 395/600:  66%|██████▌   | 395/600 [3:19:58<1:49:10, 31.95s/it, v_num=yw_1, total_loss_train=522, kl_local_train=94.3, metric_mi|age_categorical_train=0.356]"
     ]
    },
    {
     "name": "stdout",
     "output_type": "stream",
     "text": [
      "\r\n",
      "Epoch 395/600:  66%|██████▌   | 395/600 [3:19:58<1:49:10, 31.95s/it, v_num=yw_1, total_loss_train=522, kl_local_train=94.3, metric_mi|age_categorical_train=0.356]"
     ]
    },
    {
     "name": "stdout",
     "output_type": "stream",
     "text": [
      "\r\n",
      "Epoch 396/600:  66%|██████▌   | 395/600 [3:19:58<1:49:10, 31.95s/it, v_num=yw_1, total_loss_train=522, kl_local_train=94.3, metric_mi|age_categorical_train=0.356]"
     ]
    },
    {
     "name": "stdout",
     "output_type": "stream",
     "text": [
      "\r\n",
      "Epoch 396/600:  66%|██████▌   | 396/600 [3:20:30<1:49:09, 32.11s/it, v_num=yw_1, total_loss_train=522, kl_local_train=94.3, metric_mi|age_categorical_train=0.356]"
     ]
    },
    {
     "name": "stdout",
     "output_type": "stream",
     "text": [
      "\r\n",
      "Epoch 396/600:  66%|██████▌   | 396/600 [3:20:30<1:49:09, 32.11s/it, v_num=yw_1, total_loss_train=522, kl_local_train=93.9, metric_mi|age_categorical_train=0.362]"
     ]
    },
    {
     "name": "stdout",
     "output_type": "stream",
     "text": [
      "\r\n",
      "Epoch 397/600:  66%|██████▌   | 396/600 [3:20:30<1:49:09, 32.11s/it, v_num=yw_1, total_loss_train=522, kl_local_train=93.9, metric_mi|age_categorical_train=0.362]"
     ]
    },
    {
     "name": "stdout",
     "output_type": "stream",
     "text": [
      "\r\n",
      "Epoch 397/600:  66%|██████▌   | 397/600 [3:21:02<1:48:20, 32.02s/it, v_num=yw_1, total_loss_train=522, kl_local_train=93.9, metric_mi|age_categorical_train=0.362]"
     ]
    },
    {
     "name": "stdout",
     "output_type": "stream",
     "text": [
      "\r\n",
      "Epoch 397/600:  66%|██████▌   | 397/600 [3:21:02<1:48:20, 32.02s/it, v_num=yw_1, total_loss_train=523, kl_local_train=94.3, metric_mi|age_categorical_train=0.362]"
     ]
    },
    {
     "name": "stdout",
     "output_type": "stream",
     "text": [
      "\r\n",
      "Epoch 398/600:  66%|██████▌   | 397/600 [3:21:02<1:48:20, 32.02s/it, v_num=yw_1, total_loss_train=523, kl_local_train=94.3, metric_mi|age_categorical_train=0.362]"
     ]
    },
    {
     "name": "stdout",
     "output_type": "stream",
     "text": [
      "\r\n",
      "Epoch 398/600:  66%|██████▋   | 398/600 [3:21:34<1:47:40, 31.98s/it, v_num=yw_1, total_loss_train=523, kl_local_train=94.3, metric_mi|age_categorical_train=0.362]"
     ]
    },
    {
     "name": "stdout",
     "output_type": "stream",
     "text": [
      "\r\n",
      "Epoch 398/600:  66%|██████▋   | 398/600 [3:21:34<1:47:40, 31.98s/it, v_num=yw_1, total_loss_train=523, kl_local_train=94.2, metric_mi|age_categorical_train=0.362]"
     ]
    },
    {
     "name": "stdout",
     "output_type": "stream",
     "text": [
      "\r\n",
      "Epoch 399/600:  66%|██████▋   | 398/600 [3:21:34<1:47:40, 31.98s/it, v_num=yw_1, total_loss_train=523, kl_local_train=94.2, metric_mi|age_categorical_train=0.362]"
     ]
    },
    {
     "name": "stdout",
     "output_type": "stream",
     "text": [
      "\r\n",
      "Epoch 399/600:  66%|██████▋   | 399/600 [3:22:06<1:46:53, 31.91s/it, v_num=yw_1, total_loss_train=523, kl_local_train=94.2, metric_mi|age_categorical_train=0.362]"
     ]
    },
    {
     "name": "stdout",
     "output_type": "stream",
     "text": [
      "\r\n",
      "Epoch 399/600:  66%|██████▋   | 399/600 [3:22:06<1:46:53, 31.91s/it, v_num=yw_1, total_loss_train=523, kl_local_train=93.8, metric_mi|age_categorical_train=0.362]"
     ]
    },
    {
     "name": "stdout",
     "output_type": "stream",
     "text": [
      "\r\n",
      "Epoch 400/600:  66%|██████▋   | 399/600 [3:22:06<1:46:53, 31.91s/it, v_num=yw_1, total_loss_train=523, kl_local_train=93.8, metric_mi|age_categorical_train=0.362]"
     ]
    },
    {
     "name": "stdout",
     "output_type": "stream",
     "text": [
      "\r\n",
      "Epoch 400/600:  67%|██████▋   | 400/600 [3:22:38<1:46:20, 31.90s/it, v_num=yw_1, total_loss_train=523, kl_local_train=93.8, metric_mi|age_categorical_train=0.362]"
     ]
    },
    {
     "name": "stdout",
     "output_type": "stream",
     "text": [
      "\r\n",
      "Epoch 400/600:  67%|██████▋   | 400/600 [3:22:38<1:46:20, 31.90s/it, v_num=yw_1, total_loss_train=523, kl_local_train=93.5, metric_mi|age_categorical_train=0.362]"
     ]
    },
    {
     "name": "stdout",
     "output_type": "stream",
     "text": [
      "\r\n",
      "Epoch 401/600:  67%|██████▋   | 400/600 [3:22:38<1:46:20, 31.90s/it, v_num=yw_1, total_loss_train=523, kl_local_train=93.5, metric_mi|age_categorical_train=0.362]"
     ]
    },
    {
     "name": "stdout",
     "output_type": "stream",
     "text": [
      "\r\n",
      "Epoch 401/600:  67%|██████▋   | 401/600 [3:23:10<1:46:21, 32.07s/it, v_num=yw_1, total_loss_train=523, kl_local_train=93.5, metric_mi|age_categorical_train=0.362]"
     ]
    },
    {
     "name": "stdout",
     "output_type": "stream",
     "text": [
      "\r\n",
      "Epoch 401/600:  67%|██████▋   | 401/600 [3:23:10<1:46:21, 32.07s/it, v_num=yw_1, total_loss_train=523, kl_local_train=93.6, metric_mi|age_categorical_train=0.356]"
     ]
    },
    {
     "name": "stdout",
     "output_type": "stream",
     "text": [
      "\r\n",
      "Epoch 402/600:  67%|██████▋   | 401/600 [3:23:10<1:46:21, 32.07s/it, v_num=yw_1, total_loss_train=523, kl_local_train=93.6, metric_mi|age_categorical_train=0.356]"
     ]
    },
    {
     "name": "stdout",
     "output_type": "stream",
     "text": [
      "\r\n",
      "Epoch 402/600:  67%|██████▋   | 402/600 [3:23:42<1:45:15, 31.90s/it, v_num=yw_1, total_loss_train=523, kl_local_train=93.6, metric_mi|age_categorical_train=0.356]"
     ]
    },
    {
     "name": "stdout",
     "output_type": "stream",
     "text": [
      "\r\n",
      "Epoch 402/600:  67%|██████▋   | 402/600 [3:23:42<1:45:15, 31.90s/it, v_num=yw_1, total_loss_train=523, kl_local_train=93.4, metric_mi|age_categorical_train=0.356]"
     ]
    },
    {
     "name": "stdout",
     "output_type": "stream",
     "text": [
      "\r\n",
      "Epoch 403/600:  67%|██████▋   | 402/600 [3:23:42<1:45:15, 31.90s/it, v_num=yw_1, total_loss_train=523, kl_local_train=93.4, metric_mi|age_categorical_train=0.356]"
     ]
    },
    {
     "name": "stdout",
     "output_type": "stream",
     "text": [
      "\r\n",
      "Epoch 403/600:  67%|██████▋   | 403/600 [3:24:11<1:42:05, 31.09s/it, v_num=yw_1, total_loss_train=523, kl_local_train=93.4, metric_mi|age_categorical_train=0.356]"
     ]
    },
    {
     "name": "stdout",
     "output_type": "stream",
     "text": [
      "\r\n",
      "Epoch 403/600:  67%|██████▋   | 403/600 [3:24:11<1:42:05, 31.09s/it, v_num=yw_1, total_loss_train=523, kl_local_train=93.2, metric_mi|age_categorical_train=0.356]"
     ]
    },
    {
     "name": "stdout",
     "output_type": "stream",
     "text": [
      "\r\n",
      "Epoch 404/600:  67%|██████▋   | 403/600 [3:24:11<1:42:05, 31.09s/it, v_num=yw_1, total_loss_train=523, kl_local_train=93.2, metric_mi|age_categorical_train=0.356]"
     ]
    },
    {
     "name": "stdout",
     "output_type": "stream",
     "text": [
      "\r\n",
      "Epoch 404/600:  67%|██████▋   | 404/600 [3:24:40<1:39:34, 30.48s/it, v_num=yw_1, total_loss_train=523, kl_local_train=93.2, metric_mi|age_categorical_train=0.356]"
     ]
    },
    {
     "name": "stdout",
     "output_type": "stream",
     "text": [
      "\r\n",
      "Epoch 404/600:  67%|██████▋   | 404/600 [3:24:40<1:39:34, 30.48s/it, v_num=yw_1, total_loss_train=523, kl_local_train=93.4, metric_mi|age_categorical_train=0.356]"
     ]
    },
    {
     "name": "stdout",
     "output_type": "stream",
     "text": [
      "\r\n",
      "Epoch 405/600:  67%|██████▋   | 404/600 [3:24:40<1:39:34, 30.48s/it, v_num=yw_1, total_loss_train=523, kl_local_train=93.4, metric_mi|age_categorical_train=0.356]"
     ]
    },
    {
     "name": "stdout",
     "output_type": "stream",
     "text": [
      "\r\n",
      "Epoch 405/600:  68%|██████▊   | 405/600 [3:25:09<1:37:58, 30.15s/it, v_num=yw_1, total_loss_train=523, kl_local_train=93.4, metric_mi|age_categorical_train=0.356]"
     ]
    },
    {
     "name": "stdout",
     "output_type": "stream",
     "text": [
      "\r\n",
      "Epoch 405/600:  68%|██████▊   | 405/600 [3:25:09<1:37:58, 30.15s/it, v_num=yw_1, total_loss_train=523, kl_local_train=93.1, metric_mi|age_categorical_train=0.356]"
     ]
    },
    {
     "name": "stdout",
     "output_type": "stream",
     "text": [
      "\r\n",
      "Epoch 406/600:  68%|██████▊   | 405/600 [3:25:10<1:37:58, 30.15s/it, v_num=yw_1, total_loss_train=523, kl_local_train=93.1, metric_mi|age_categorical_train=0.356]"
     ]
    },
    {
     "name": "stdout",
     "output_type": "stream",
     "text": [
      "\r\n",
      "Epoch 406/600:  68%|██████▊   | 406/600 [3:25:39<1:37:12, 30.07s/it, v_num=yw_1, total_loss_train=523, kl_local_train=93.1, metric_mi|age_categorical_train=0.356]"
     ]
    },
    {
     "name": "stdout",
     "output_type": "stream",
     "text": [
      "\r\n",
      "Epoch 406/600:  68%|██████▊   | 406/600 [3:25:39<1:37:12, 30.07s/it, v_num=yw_1, total_loss_train=523, kl_local_train=92.9, metric_mi|age_categorical_train=0.353]"
     ]
    },
    {
     "name": "stdout",
     "output_type": "stream",
     "text": [
      "\r\n",
      "Epoch 407/600:  68%|██████▊   | 406/600 [3:25:39<1:37:12, 30.07s/it, v_num=yw_1, total_loss_train=523, kl_local_train=92.9, metric_mi|age_categorical_train=0.353]"
     ]
    },
    {
     "name": "stdout",
     "output_type": "stream",
     "text": [
      "\r\n",
      "Epoch 407/600:  68%|██████▊   | 407/600 [3:26:10<1:37:17, 30.25s/it, v_num=yw_1, total_loss_train=523, kl_local_train=92.9, metric_mi|age_categorical_train=0.353]"
     ]
    },
    {
     "name": "stdout",
     "output_type": "stream",
     "text": [
      "\r\n",
      "Epoch 407/600:  68%|██████▊   | 407/600 [3:26:10<1:37:17, 30.25s/it, v_num=yw_1, total_loss_train=524, kl_local_train=93.1, metric_mi|age_categorical_train=0.353]"
     ]
    },
    {
     "name": "stdout",
     "output_type": "stream",
     "text": [
      "\r\n",
      "Epoch 408/600:  68%|██████▊   | 407/600 [3:26:10<1:37:17, 30.25s/it, v_num=yw_1, total_loss_train=524, kl_local_train=93.1, metric_mi|age_categorical_train=0.353]"
     ]
    },
    {
     "name": "stdout",
     "output_type": "stream",
     "text": [
      "\r\n",
      "Epoch 408/600:  68%|██████▊   | 408/600 [3:26:41<1:37:50, 30.58s/it, v_num=yw_1, total_loss_train=524, kl_local_train=93.1, metric_mi|age_categorical_train=0.353]"
     ]
    },
    {
     "name": "stdout",
     "output_type": "stream",
     "text": [
      "\r\n",
      "Epoch 408/600:  68%|██████▊   | 408/600 [3:26:41<1:37:50, 30.58s/it, v_num=yw_1, total_loss_train=524, kl_local_train=93.1, metric_mi|age_categorical_train=0.353]"
     ]
    },
    {
     "name": "stdout",
     "output_type": "stream",
     "text": [
      "\r\n",
      "Epoch 409/600:  68%|██████▊   | 408/600 [3:26:41<1:37:50, 30.58s/it, v_num=yw_1, total_loss_train=524, kl_local_train=93.1, metric_mi|age_categorical_train=0.353]"
     ]
    },
    {
     "name": "stdout",
     "output_type": "stream",
     "text": [
      "\r\n",
      "Epoch 409/600:  68%|██████▊   | 409/600 [3:27:13<1:38:18, 30.88s/it, v_num=yw_1, total_loss_train=524, kl_local_train=93.1, metric_mi|age_categorical_train=0.353]"
     ]
    },
    {
     "name": "stdout",
     "output_type": "stream",
     "text": [
      "\r\n",
      "Epoch 409/600:  68%|██████▊   | 409/600 [3:27:13<1:38:18, 30.88s/it, v_num=yw_1, total_loss_train=524, kl_local_train=92.7, metric_mi|age_categorical_train=0.353]"
     ]
    },
    {
     "name": "stdout",
     "output_type": "stream",
     "text": [
      "\r\n",
      "Epoch 410/600:  68%|██████▊   | 409/600 [3:27:13<1:38:18, 30.88s/it, v_num=yw_1, total_loss_train=524, kl_local_train=92.7, metric_mi|age_categorical_train=0.353]"
     ]
    },
    {
     "name": "stdout",
     "output_type": "stream",
     "text": [
      "\r\n",
      "Epoch 410/600:  68%|██████▊   | 410/600 [3:27:45<1:38:48, 31.20s/it, v_num=yw_1, total_loss_train=524, kl_local_train=92.7, metric_mi|age_categorical_train=0.353]"
     ]
    },
    {
     "name": "stdout",
     "output_type": "stream",
     "text": [
      "\r\n",
      "Epoch 410/600:  68%|██████▊   | 410/600 [3:27:45<1:38:48, 31.20s/it, v_num=yw_1, total_loss_train=524, kl_local_train=92.5, metric_mi|age_categorical_train=0.353]"
     ]
    },
    {
     "name": "stdout",
     "output_type": "stream",
     "text": [
      "\r\n",
      "Epoch 411/600:  68%|██████▊   | 410/600 [3:27:45<1:38:48, 31.20s/it, v_num=yw_1, total_loss_train=524, kl_local_train=92.5, metric_mi|age_categorical_train=0.353]"
     ]
    },
    {
     "name": "stdout",
     "output_type": "stream",
     "text": [
      "\r\n",
      "Epoch 411/600:  68%|██████▊   | 411/600 [3:28:17<1:39:22, 31.55s/it, v_num=yw_1, total_loss_train=524, kl_local_train=92.5, metric_mi|age_categorical_train=0.353]"
     ]
    },
    {
     "name": "stdout",
     "output_type": "stream",
     "text": [
      "\r\n",
      "Epoch 411/600:  68%|██████▊   | 411/600 [3:28:17<1:39:22, 31.55s/it, v_num=yw_1, total_loss_train=524, kl_local_train=92.5, metric_mi|age_categorical_train=0.353]"
     ]
    },
    {
     "name": "stdout",
     "output_type": "stream",
     "text": [
      "\r\n",
      "Epoch 412/600:  68%|██████▊   | 411/600 [3:28:17<1:39:22, 31.55s/it, v_num=yw_1, total_loss_train=524, kl_local_train=92.5, metric_mi|age_categorical_train=0.353]"
     ]
    },
    {
     "name": "stdout",
     "output_type": "stream",
     "text": [
      "\r\n",
      "Epoch 412/600:  69%|██████▊   | 412/600 [3:28:49<1:39:02, 31.61s/it, v_num=yw_1, total_loss_train=524, kl_local_train=92.5, metric_mi|age_categorical_train=0.353]"
     ]
    },
    {
     "name": "stdout",
     "output_type": "stream",
     "text": [
      "\r\n",
      "Epoch 412/600:  69%|██████▊   | 412/600 [3:28:49<1:39:02, 31.61s/it, v_num=yw_1, total_loss_train=524, kl_local_train=92.5, metric_mi|age_categorical_train=0.353]"
     ]
    },
    {
     "name": "stdout",
     "output_type": "stream",
     "text": [
      "\r\n",
      "Epoch 413/600:  69%|██████▊   | 412/600 [3:28:49<1:39:02, 31.61s/it, v_num=yw_1, total_loss_train=524, kl_local_train=92.5, metric_mi|age_categorical_train=0.353]"
     ]
    },
    {
     "name": "stdout",
     "output_type": "stream",
     "text": [
      "\r\n",
      "Epoch 413/600:  69%|██████▉   | 413/600 [3:29:20<1:38:29, 31.60s/it, v_num=yw_1, total_loss_train=524, kl_local_train=92.5, metric_mi|age_categorical_train=0.353]"
     ]
    },
    {
     "name": "stdout",
     "output_type": "stream",
     "text": [
      "\r\n",
      "Epoch 413/600:  69%|██████▉   | 413/600 [3:29:20<1:38:29, 31.60s/it, v_num=yw_1, total_loss_train=524, kl_local_train=91.8, metric_mi|age_categorical_train=0.353]"
     ]
    },
    {
     "name": "stdout",
     "output_type": "stream",
     "text": [
      "\r\n",
      "Epoch 414/600:  69%|██████▉   | 413/600 [3:29:20<1:38:29, 31.60s/it, v_num=yw_1, total_loss_train=524, kl_local_train=91.8, metric_mi|age_categorical_train=0.353]"
     ]
    },
    {
     "name": "stdout",
     "output_type": "stream",
     "text": [
      "\r\n",
      "Epoch 414/600:  69%|██████▉   | 414/600 [3:29:52<1:38:01, 31.62s/it, v_num=yw_1, total_loss_train=524, kl_local_train=91.8, metric_mi|age_categorical_train=0.353]"
     ]
    },
    {
     "name": "stdout",
     "output_type": "stream",
     "text": [
      "\r\n",
      "Epoch 414/600:  69%|██████▉   | 414/600 [3:29:52<1:38:01, 31.62s/it, v_num=yw_1, total_loss_train=524, kl_local_train=92.1, metric_mi|age_categorical_train=0.353]"
     ]
    },
    {
     "name": "stdout",
     "output_type": "stream",
     "text": [
      "\r\n",
      "Epoch 415/600:  69%|██████▉   | 414/600 [3:29:52<1:38:01, 31.62s/it, v_num=yw_1, total_loss_train=524, kl_local_train=92.1, metric_mi|age_categorical_train=0.353]"
     ]
    },
    {
     "name": "stdout",
     "output_type": "stream",
     "text": [
      "\r\n",
      "Epoch 415/600:  69%|██████▉   | 415/600 [3:30:24<1:37:30, 31.63s/it, v_num=yw_1, total_loss_train=524, kl_local_train=92.1, metric_mi|age_categorical_train=0.353]"
     ]
    },
    {
     "name": "stdout",
     "output_type": "stream",
     "text": [
      "\r\n",
      "Epoch 415/600:  69%|██████▉   | 415/600 [3:30:24<1:37:30, 31.63s/it, v_num=yw_1, total_loss_train=524, kl_local_train=92.3, metric_mi|age_categorical_train=0.353]"
     ]
    },
    {
     "name": "stdout",
     "output_type": "stream",
     "text": [
      "\r\n",
      "Epoch 416/600:  69%|██████▉   | 415/600 [3:30:24<1:37:30, 31.63s/it, v_num=yw_1, total_loss_train=524, kl_local_train=92.3, metric_mi|age_categorical_train=0.353]"
     ]
    },
    {
     "name": "stdout",
     "output_type": "stream",
     "text": [
      "\r\n",
      "Epoch 416/600:  69%|██████▉   | 416/600 [3:30:56<1:37:36, 31.83s/it, v_num=yw_1, total_loss_train=524, kl_local_train=92.3, metric_mi|age_categorical_train=0.353]"
     ]
    },
    {
     "name": "stdout",
     "output_type": "stream",
     "text": [
      "\r\n",
      "Epoch 416/600:  69%|██████▉   | 416/600 [3:30:56<1:37:36, 31.83s/it, v_num=yw_1, total_loss_train=524, kl_local_train=92.1, metric_mi|age_categorical_train=0.35] "
     ]
    },
    {
     "name": "stdout",
     "output_type": "stream",
     "text": [
      "\r\n",
      "Epoch 417/600:  69%|██████▉   | 416/600 [3:30:56<1:37:36, 31.83s/it, v_num=yw_1, total_loss_train=524, kl_local_train=92.1, metric_mi|age_categorical_train=0.35]"
     ]
    },
    {
     "name": "stdout",
     "output_type": "stream",
     "text": [
      "\r\n",
      "Epoch 417/600:  70%|██████▉   | 417/600 [3:31:28<1:37:04, 31.83s/it, v_num=yw_1, total_loss_train=524, kl_local_train=92.1, metric_mi|age_categorical_train=0.35]"
     ]
    },
    {
     "name": "stdout",
     "output_type": "stream",
     "text": [
      "\r\n",
      "Epoch 417/600:  70%|██████▉   | 417/600 [3:31:28<1:37:04, 31.83s/it, v_num=yw_1, total_loss_train=525, kl_local_train=92, metric_mi|age_categorical_train=0.35]  "
     ]
    },
    {
     "name": "stdout",
     "output_type": "stream",
     "text": [
      "\r\n",
      "Epoch 418/600:  70%|██████▉   | 417/600 [3:31:28<1:37:04, 31.83s/it, v_num=yw_1, total_loss_train=525, kl_local_train=92, metric_mi|age_categorical_train=0.35]"
     ]
    },
    {
     "name": "stdout",
     "output_type": "stream",
     "text": [
      "\r\n",
      "Epoch 418/600:  70%|██████▉   | 418/600 [3:31:59<1:36:27, 31.80s/it, v_num=yw_1, total_loss_train=525, kl_local_train=92, metric_mi|age_categorical_train=0.35]"
     ]
    },
    {
     "name": "stdout",
     "output_type": "stream",
     "text": [
      "\r\n",
      "Epoch 418/600:  70%|██████▉   | 418/600 [3:31:59<1:36:27, 31.80s/it, v_num=yw_1, total_loss_train=525, kl_local_train=91.6, metric_mi|age_categorical_train=0.35]"
     ]
    },
    {
     "name": "stdout",
     "output_type": "stream",
     "text": [
      "\r\n",
      "Epoch 419/600:  70%|██████▉   | 418/600 [3:31:59<1:36:27, 31.80s/it, v_num=yw_1, total_loss_train=525, kl_local_train=91.6, metric_mi|age_categorical_train=0.35]"
     ]
    },
    {
     "name": "stdout",
     "output_type": "stream",
     "text": [
      "\r\n",
      "Epoch 419/600:  70%|██████▉   | 419/600 [3:32:31<1:35:49, 31.76s/it, v_num=yw_1, total_loss_train=525, kl_local_train=91.6, metric_mi|age_categorical_train=0.35]"
     ]
    },
    {
     "name": "stdout",
     "output_type": "stream",
     "text": [
      "\r\n",
      "Epoch 419/600:  70%|██████▉   | 419/600 [3:32:31<1:35:49, 31.76s/it, v_num=yw_1, total_loss_train=525, kl_local_train=91.6, metric_mi|age_categorical_train=0.35]"
     ]
    },
    {
     "name": "stdout",
     "output_type": "stream",
     "text": [
      "\r\n",
      "Epoch 420/600:  70%|██████▉   | 419/600 [3:32:31<1:35:49, 31.76s/it, v_num=yw_1, total_loss_train=525, kl_local_train=91.6, metric_mi|age_categorical_train=0.35]"
     ]
    },
    {
     "name": "stdout",
     "output_type": "stream",
     "text": [
      "\r\n",
      "Epoch 420/600:  70%|███████   | 420/600 [3:33:03<1:35:27, 31.82s/it, v_num=yw_1, total_loss_train=525, kl_local_train=91.6, metric_mi|age_categorical_train=0.35]"
     ]
    },
    {
     "name": "stdout",
     "output_type": "stream",
     "text": [
      "\r\n",
      "Epoch 420/600:  70%|███████   | 420/600 [3:33:03<1:35:27, 31.82s/it, v_num=yw_1, total_loss_train=525, kl_local_train=91.5, metric_mi|age_categorical_train=0.35]"
     ]
    },
    {
     "name": "stdout",
     "output_type": "stream",
     "text": [
      "\r\n",
      "Epoch 421/600:  70%|███████   | 420/600 [3:33:04<1:35:27, 31.82s/it, v_num=yw_1, total_loss_train=525, kl_local_train=91.5, metric_mi|age_categorical_train=0.35]"
     ]
    },
    {
     "name": "stdout",
     "output_type": "stream",
     "text": [
      "\r\n",
      "Epoch 421/600:  70%|███████   | 421/600 [3:33:36<1:35:43, 32.08s/it, v_num=yw_1, total_loss_train=525, kl_local_train=91.5, metric_mi|age_categorical_train=0.35]"
     ]
    },
    {
     "name": "stdout",
     "output_type": "stream",
     "text": [
      "\r\n",
      "Epoch 421/600:  70%|███████   | 421/600 [3:33:36<1:35:43, 32.08s/it, v_num=yw_1, total_loss_train=525, kl_local_train=91.5, metric_mi|age_categorical_train=0.344]"
     ]
    },
    {
     "name": "stdout",
     "output_type": "stream",
     "text": [
      "\r\n",
      "Epoch 422/600:  70%|███████   | 421/600 [3:33:36<1:35:43, 32.08s/it, v_num=yw_1, total_loss_train=525, kl_local_train=91.5, metric_mi|age_categorical_train=0.344]"
     ]
    },
    {
     "name": "stdout",
     "output_type": "stream",
     "text": [
      "\r\n",
      "Epoch 422/600:  70%|███████   | 422/600 [3:34:08<1:34:56, 32.00s/it, v_num=yw_1, total_loss_train=525, kl_local_train=91.5, metric_mi|age_categorical_train=0.344]"
     ]
    },
    {
     "name": "stdout",
     "output_type": "stream",
     "text": [
      "\r\n",
      "Epoch 422/600:  70%|███████   | 422/600 [3:34:08<1:34:56, 32.00s/it, v_num=yw_1, total_loss_train=525, kl_local_train=91.4, metric_mi|age_categorical_train=0.344]"
     ]
    },
    {
     "name": "stdout",
     "output_type": "stream",
     "text": [
      "\r\n",
      "Epoch 423/600:  70%|███████   | 422/600 [3:34:08<1:34:56, 32.00s/it, v_num=yw_1, total_loss_train=525, kl_local_train=91.4, metric_mi|age_categorical_train=0.344]"
     ]
    },
    {
     "name": "stdout",
     "output_type": "stream",
     "text": [
      "\r\n",
      "Epoch 423/600:  70%|███████   | 423/600 [3:34:40<1:34:23, 32.00s/it, v_num=yw_1, total_loss_train=525, kl_local_train=91.4, metric_mi|age_categorical_train=0.344]"
     ]
    },
    {
     "name": "stdout",
     "output_type": "stream",
     "text": [
      "\r\n",
      "Epoch 423/600:  70%|███████   | 423/600 [3:34:40<1:34:23, 32.00s/it, v_num=yw_1, total_loss_train=525, kl_local_train=91.2, metric_mi|age_categorical_train=0.344]"
     ]
    },
    {
     "name": "stdout",
     "output_type": "stream",
     "text": [
      "\r\n",
      "Epoch 424/600:  70%|███████   | 423/600 [3:34:40<1:34:23, 32.00s/it, v_num=yw_1, total_loss_train=525, kl_local_train=91.2, metric_mi|age_categorical_train=0.344]"
     ]
    },
    {
     "name": "stdout",
     "output_type": "stream",
     "text": [
      "\r\n",
      "Epoch 424/600:  71%|███████   | 424/600 [3:35:12<1:33:50, 31.99s/it, v_num=yw_1, total_loss_train=525, kl_local_train=91.2, metric_mi|age_categorical_train=0.344]"
     ]
    },
    {
     "name": "stdout",
     "output_type": "stream",
     "text": [
      "\r\n",
      "Epoch 424/600:  71%|███████   | 424/600 [3:35:12<1:33:50, 31.99s/it, v_num=yw_1, total_loss_train=525, kl_local_train=91.2, metric_mi|age_categorical_train=0.344]"
     ]
    },
    {
     "name": "stdout",
     "output_type": "stream",
     "text": [
      "\r\n",
      "Epoch 425/600:  71%|███████   | 424/600 [3:35:12<1:33:50, 31.99s/it, v_num=yw_1, total_loss_train=525, kl_local_train=91.2, metric_mi|age_categorical_train=0.344]"
     ]
    },
    {
     "name": "stdout",
     "output_type": "stream",
     "text": [
      "\r\n",
      "Epoch 425/600:  71%|███████   | 425/600 [3:35:44<1:33:16, 31.98s/it, v_num=yw_1, total_loss_train=525, kl_local_train=91.2, metric_mi|age_categorical_train=0.344]"
     ]
    },
    {
     "name": "stdout",
     "output_type": "stream",
     "text": [
      "\r\n",
      "Epoch 425/600:  71%|███████   | 425/600 [3:35:44<1:33:16, 31.98s/it, v_num=yw_1, total_loss_train=525, kl_local_train=91, metric_mi|age_categorical_train=0.344]  "
     ]
    },
    {
     "name": "stdout",
     "output_type": "stream",
     "text": [
      "\r\n",
      "Epoch 426/600:  71%|███████   | 425/600 [3:35:44<1:33:16, 31.98s/it, v_num=yw_1, total_loss_train=525, kl_local_train=91, metric_mi|age_categorical_train=0.344]"
     ]
    },
    {
     "name": "stdout",
     "output_type": "stream",
     "text": [
      "\r\n",
      "Epoch 426/600:  71%|███████   | 426/600 [3:36:16<1:33:17, 32.17s/it, v_num=yw_1, total_loss_train=525, kl_local_train=91, metric_mi|age_categorical_train=0.344]"
     ]
    },
    {
     "name": "stdout",
     "output_type": "stream",
     "text": [
      "\r\n",
      "Epoch 426/600:  71%|███████   | 426/600 [3:36:16<1:33:17, 32.17s/it, v_num=yw_1, total_loss_train=526, kl_local_train=91.2, metric_mi|age_categorical_train=0.339]"
     ]
    },
    {
     "name": "stdout",
     "output_type": "stream",
     "text": [
      "\r\n",
      "Epoch 427/600:  71%|███████   | 426/600 [3:36:16<1:33:17, 32.17s/it, v_num=yw_1, total_loss_train=526, kl_local_train=91.2, metric_mi|age_categorical_train=0.339]"
     ]
    },
    {
     "name": "stdout",
     "output_type": "stream",
     "text": [
      "\r\n",
      "Epoch 427/600:  71%|███████   | 427/600 [3:36:48<1:32:38, 32.13s/it, v_num=yw_1, total_loss_train=526, kl_local_train=91.2, metric_mi|age_categorical_train=0.339]"
     ]
    },
    {
     "name": "stdout",
     "output_type": "stream",
     "text": [
      "\r\n",
      "Epoch 427/600:  71%|███████   | 427/600 [3:36:48<1:32:38, 32.13s/it, v_num=yw_1, total_loss_train=526, kl_local_train=91, metric_mi|age_categorical_train=0.339]  "
     ]
    },
    {
     "name": "stdout",
     "output_type": "stream",
     "text": [
      "\r\n",
      "Epoch 428/600:  71%|███████   | 427/600 [3:36:48<1:32:38, 32.13s/it, v_num=yw_1, total_loss_train=526, kl_local_train=91, metric_mi|age_categorical_train=0.339]"
     ]
    },
    {
     "name": "stdout",
     "output_type": "stream",
     "text": [
      "\r\n",
      "Epoch 428/600:  71%|███████▏  | 428/600 [3:37:20<1:31:51, 32.04s/it, v_num=yw_1, total_loss_train=526, kl_local_train=91, metric_mi|age_categorical_train=0.339]"
     ]
    },
    {
     "name": "stdout",
     "output_type": "stream",
     "text": [
      "\r\n",
      "Epoch 428/600:  71%|███████▏  | 428/600 [3:37:20<1:31:51, 32.04s/it, v_num=yw_1, total_loss_train=526, kl_local_train=91.1, metric_mi|age_categorical_train=0.339]"
     ]
    },
    {
     "name": "stdout",
     "output_type": "stream",
     "text": [
      "\r\n",
      "Epoch 429/600:  71%|███████▏  | 428/600 [3:37:20<1:31:51, 32.04s/it, v_num=yw_1, total_loss_train=526, kl_local_train=91.1, metric_mi|age_categorical_train=0.339]"
     ]
    },
    {
     "name": "stdout",
     "output_type": "stream",
     "text": [
      "\r\n",
      "Epoch 429/600:  72%|███████▏  | 429/600 [3:37:52<1:31:17, 32.03s/it, v_num=yw_1, total_loss_train=526, kl_local_train=91.1, metric_mi|age_categorical_train=0.339]"
     ]
    },
    {
     "name": "stdout",
     "output_type": "stream",
     "text": [
      "\r\n",
      "Epoch 429/600:  72%|███████▏  | 429/600 [3:37:52<1:31:17, 32.03s/it, v_num=yw_1, total_loss_train=526, kl_local_train=90.6, metric_mi|age_categorical_train=0.339]"
     ]
    },
    {
     "name": "stdout",
     "output_type": "stream",
     "text": [
      "\r\n",
      "Epoch 430/600:  72%|███████▏  | 429/600 [3:37:52<1:31:17, 32.03s/it, v_num=yw_1, total_loss_train=526, kl_local_train=90.6, metric_mi|age_categorical_train=0.339]"
     ]
    },
    {
     "name": "stdout",
     "output_type": "stream",
     "text": [
      "\r\n",
      "Epoch 430/600:  72%|███████▏  | 430/600 [3:38:24<1:30:43, 32.02s/it, v_num=yw_1, total_loss_train=526, kl_local_train=90.6, metric_mi|age_categorical_train=0.339]"
     ]
    },
    {
     "name": "stdout",
     "output_type": "stream",
     "text": [
      "\r\n",
      "Epoch 430/600:  72%|███████▏  | 430/600 [3:38:24<1:30:43, 32.02s/it, v_num=yw_1, total_loss_train=526, kl_local_train=90.8, metric_mi|age_categorical_train=0.339]"
     ]
    },
    {
     "name": "stdout",
     "output_type": "stream",
     "text": [
      "\r\n",
      "Epoch 431/600:  72%|███████▏  | 430/600 [3:38:25<1:30:43, 32.02s/it, v_num=yw_1, total_loss_train=526, kl_local_train=90.8, metric_mi|age_categorical_train=0.339]"
     ]
    },
    {
     "name": "stdout",
     "output_type": "stream",
     "text": [
      "\r\n",
      "Epoch 431/600:  72%|███████▏  | 431/600 [3:38:57<1:30:41, 32.20s/it, v_num=yw_1, total_loss_train=526, kl_local_train=90.8, metric_mi|age_categorical_train=0.339]"
     ]
    },
    {
     "name": "stdout",
     "output_type": "stream",
     "text": [
      "\r\n",
      "Epoch 431/600:  72%|███████▏  | 431/600 [3:38:57<1:30:41, 32.20s/it, v_num=yw_1, total_loss_train=526, kl_local_train=90.6, metric_mi|age_categorical_train=0.343]"
     ]
    },
    {
     "name": "stdout",
     "output_type": "stream",
     "text": [
      "\r\n",
      "Epoch 432/600:  72%|███████▏  | 431/600 [3:38:57<1:30:41, 32.20s/it, v_num=yw_1, total_loss_train=526, kl_local_train=90.6, metric_mi|age_categorical_train=0.343]"
     ]
    },
    {
     "name": "stdout",
     "output_type": "stream",
     "text": [
      "\r\n",
      "Epoch 432/600:  72%|███████▏  | 432/600 [3:39:29<1:30:01, 32.15s/it, v_num=yw_1, total_loss_train=526, kl_local_train=90.6, metric_mi|age_categorical_train=0.343]"
     ]
    },
    {
     "name": "stdout",
     "output_type": "stream",
     "text": [
      "\r\n",
      "Epoch 432/600:  72%|███████▏  | 432/600 [3:39:29<1:30:01, 32.15s/it, v_num=yw_1, total_loss_train=526, kl_local_train=90.6, metric_mi|age_categorical_train=0.343]"
     ]
    },
    {
     "name": "stdout",
     "output_type": "stream",
     "text": [
      "\r\n",
      "Epoch 433/600:  72%|███████▏  | 432/600 [3:39:29<1:30:01, 32.15s/it, v_num=yw_1, total_loss_train=526, kl_local_train=90.6, metric_mi|age_categorical_train=0.343]"
     ]
    },
    {
     "name": "stdout",
     "output_type": "stream",
     "text": [
      "\r\n",
      "Epoch 433/600:  72%|███████▏  | 433/600 [3:40:01<1:29:18, 32.09s/it, v_num=yw_1, total_loss_train=526, kl_local_train=90.6, metric_mi|age_categorical_train=0.343]"
     ]
    },
    {
     "name": "stdout",
     "output_type": "stream",
     "text": [
      "\r\n",
      "Epoch 433/600:  72%|███████▏  | 433/600 [3:40:01<1:29:18, 32.09s/it, v_num=yw_1, total_loss_train=526, kl_local_train=90.3, metric_mi|age_categorical_train=0.343]"
     ]
    },
    {
     "name": "stdout",
     "output_type": "stream",
     "text": [
      "\r\n",
      "Epoch 434/600:  72%|███████▏  | 433/600 [3:40:01<1:29:18, 32.09s/it, v_num=yw_1, total_loss_train=526, kl_local_train=90.3, metric_mi|age_categorical_train=0.343]"
     ]
    },
    {
     "name": "stdout",
     "output_type": "stream",
     "text": [
      "\r\n",
      "Epoch 434/600:  72%|███████▏  | 434/600 [3:40:33<1:28:46, 32.08s/it, v_num=yw_1, total_loss_train=526, kl_local_train=90.3, metric_mi|age_categorical_train=0.343]"
     ]
    },
    {
     "name": "stdout",
     "output_type": "stream",
     "text": [
      "\r\n",
      "Epoch 434/600:  72%|███████▏  | 434/600 [3:40:33<1:28:46, 32.08s/it, v_num=yw_1, total_loss_train=526, kl_local_train=90, metric_mi|age_categorical_train=0.343]  "
     ]
    },
    {
     "name": "stdout",
     "output_type": "stream",
     "text": [
      "\r\n",
      "Epoch 435/600:  72%|███████▏  | 434/600 [3:40:33<1:28:46, 32.08s/it, v_num=yw_1, total_loss_train=526, kl_local_train=90, metric_mi|age_categorical_train=0.343]"
     ]
    },
    {
     "name": "stdout",
     "output_type": "stream",
     "text": [
      "\r\n",
      "Epoch 435/600:  72%|███████▎  | 435/600 [3:41:05<1:28:13, 32.08s/it, v_num=yw_1, total_loss_train=526, kl_local_train=90, metric_mi|age_categorical_train=0.343]"
     ]
    },
    {
     "name": "stdout",
     "output_type": "stream",
     "text": [
      "\r\n",
      "Epoch 435/600:  72%|███████▎  | 435/600 [3:41:05<1:28:13, 32.08s/it, v_num=yw_1, total_loss_train=527, kl_local_train=90.1, metric_mi|age_categorical_train=0.343]"
     ]
    },
    {
     "name": "stdout",
     "output_type": "stream",
     "text": [
      "\r\n",
      "Epoch 436/600:  72%|███████▎  | 435/600 [3:41:05<1:28:13, 32.08s/it, v_num=yw_1, total_loss_train=527, kl_local_train=90.1, metric_mi|age_categorical_train=0.343]"
     ]
    },
    {
     "name": "stdout",
     "output_type": "stream",
     "text": [
      "\r\n",
      "Epoch 436/600:  73%|███████▎  | 436/600 [3:41:38<1:28:23, 32.34s/it, v_num=yw_1, total_loss_train=527, kl_local_train=90.1, metric_mi|age_categorical_train=0.343]"
     ]
    },
    {
     "name": "stdout",
     "output_type": "stream",
     "text": [
      "\r\n",
      "Epoch 436/600:  73%|███████▎  | 436/600 [3:41:38<1:28:23, 32.34s/it, v_num=yw_1, total_loss_train=527, kl_local_train=89.9, metric_mi|age_categorical_train=0.348]"
     ]
    },
    {
     "name": "stdout",
     "output_type": "stream",
     "text": [
      "\r\n",
      "Epoch 437/600:  73%|███████▎  | 436/600 [3:41:38<1:28:23, 32.34s/it, v_num=yw_1, total_loss_train=527, kl_local_train=89.9, metric_mi|age_categorical_train=0.348]"
     ]
    },
    {
     "name": "stdout",
     "output_type": "stream",
     "text": [
      "\r\n",
      "Epoch 437/600:  73%|███████▎  | 437/600 [3:42:10<1:27:40, 32.27s/it, v_num=yw_1, total_loss_train=527, kl_local_train=89.9, metric_mi|age_categorical_train=0.348]"
     ]
    },
    {
     "name": "stdout",
     "output_type": "stream",
     "text": [
      "\r\n",
      "Epoch 437/600:  73%|███████▎  | 437/600 [3:42:10<1:27:40, 32.27s/it, v_num=yw_1, total_loss_train=527, kl_local_train=89.7, metric_mi|age_categorical_train=0.348]"
     ]
    },
    {
     "name": "stdout",
     "output_type": "stream",
     "text": [
      "\r\n",
      "Epoch 438/600:  73%|███████▎  | 437/600 [3:42:10<1:27:40, 32.27s/it, v_num=yw_1, total_loss_train=527, kl_local_train=89.7, metric_mi|age_categorical_train=0.348]"
     ]
    },
    {
     "name": "stdout",
     "output_type": "stream",
     "text": [
      "\r\n",
      "Epoch 438/600:  73%|███████▎  | 438/600 [3:42:42<1:26:56, 32.20s/it, v_num=yw_1, total_loss_train=527, kl_local_train=89.7, metric_mi|age_categorical_train=0.348]"
     ]
    },
    {
     "name": "stdout",
     "output_type": "stream",
     "text": [
      "\r\n",
      "Epoch 438/600:  73%|███████▎  | 438/600 [3:42:42<1:26:56, 32.20s/it, v_num=yw_1, total_loss_train=527, kl_local_train=89.8, metric_mi|age_categorical_train=0.348]"
     ]
    },
    {
     "name": "stdout",
     "output_type": "stream",
     "text": [
      "\r\n",
      "Epoch 439/600:  73%|███████▎  | 438/600 [3:42:42<1:26:56, 32.20s/it, v_num=yw_1, total_loss_train=527, kl_local_train=89.8, metric_mi|age_categorical_train=0.348]"
     ]
    },
    {
     "name": "stdout",
     "output_type": "stream",
     "text": [
      "\r\n",
      "Epoch 439/600:  73%|███████▎  | 439/600 [3:43:14<1:26:23, 32.20s/it, v_num=yw_1, total_loss_train=527, kl_local_train=89.8, metric_mi|age_categorical_train=0.348]"
     ]
    },
    {
     "name": "stdout",
     "output_type": "stream",
     "text": [
      "\r\n",
      "Epoch 439/600:  73%|███████▎  | 439/600 [3:43:14<1:26:23, 32.20s/it, v_num=yw_1, total_loss_train=527, kl_local_train=89.7, metric_mi|age_categorical_train=0.348]"
     ]
    },
    {
     "name": "stdout",
     "output_type": "stream",
     "text": [
      "\r\n",
      "Epoch 440/600:  73%|███████▎  | 439/600 [3:43:14<1:26:23, 32.20s/it, v_num=yw_1, total_loss_train=527, kl_local_train=89.7, metric_mi|age_categorical_train=0.348]"
     ]
    },
    {
     "name": "stdout",
     "output_type": "stream",
     "text": [
      "\r\n",
      "Epoch 440/600:  73%|███████▎  | 440/600 [3:43:46<1:25:55, 32.22s/it, v_num=yw_1, total_loss_train=527, kl_local_train=89.7, metric_mi|age_categorical_train=0.348]"
     ]
    },
    {
     "name": "stdout",
     "output_type": "stream",
     "text": [
      "\r\n",
      "Epoch 440/600:  73%|███████▎  | 440/600 [3:43:46<1:25:55, 32.22s/it, v_num=yw_1, total_loss_train=527, kl_local_train=89.6, metric_mi|age_categorical_train=0.348]"
     ]
    },
    {
     "name": "stdout",
     "output_type": "stream",
     "text": [
      "\r\n",
      "Epoch 441/600:  73%|███████▎  | 440/600 [3:43:47<1:25:55, 32.22s/it, v_num=yw_1, total_loss_train=527, kl_local_train=89.6, metric_mi|age_categorical_train=0.348]"
     ]
    },
    {
     "name": "stdout",
     "output_type": "stream",
     "text": [
      "\r\n",
      "Epoch 441/600:  74%|███████▎  | 441/600 [3:44:19<1:25:54, 32.42s/it, v_num=yw_1, total_loss_train=527, kl_local_train=89.6, metric_mi|age_categorical_train=0.348]"
     ]
    },
    {
     "name": "stdout",
     "output_type": "stream",
     "text": [
      "\r\n",
      "Epoch 441/600:  74%|███████▎  | 441/600 [3:44:19<1:25:54, 32.42s/it, v_num=yw_1, total_loss_train=527, kl_local_train=89.6, metric_mi|age_categorical_train=0.339]"
     ]
    },
    {
     "name": "stdout",
     "output_type": "stream",
     "text": [
      "\r\n",
      "Epoch 442/600:  74%|███████▎  | 441/600 [3:44:19<1:25:54, 32.42s/it, v_num=yw_1, total_loss_train=527, kl_local_train=89.6, metric_mi|age_categorical_train=0.339]"
     ]
    },
    {
     "name": "stdout",
     "output_type": "stream",
     "text": [
      "\r\n",
      "Epoch 442/600:  74%|███████▎  | 442/600 [3:44:51<1:25:12, 32.36s/it, v_num=yw_1, total_loss_train=527, kl_local_train=89.6, metric_mi|age_categorical_train=0.339]"
     ]
    },
    {
     "name": "stdout",
     "output_type": "stream",
     "text": [
      "\r\n",
      "Epoch 442/600:  74%|███████▎  | 442/600 [3:44:51<1:25:12, 32.36s/it, v_num=yw_1, total_loss_train=527, kl_local_train=89.2, metric_mi|age_categorical_train=0.339]"
     ]
    },
    {
     "name": "stdout",
     "output_type": "stream",
     "text": [
      "\r\n",
      "Epoch 443/600:  74%|███████▎  | 442/600 [3:44:51<1:25:12, 32.36s/it, v_num=yw_1, total_loss_train=527, kl_local_train=89.2, metric_mi|age_categorical_train=0.339]"
     ]
    },
    {
     "name": "stdout",
     "output_type": "stream",
     "text": [
      "\r\n",
      "Epoch 443/600:  74%|███████▍  | 443/600 [3:45:24<1:24:32, 32.31s/it, v_num=yw_1, total_loss_train=527, kl_local_train=89.2, metric_mi|age_categorical_train=0.339]"
     ]
    },
    {
     "name": "stdout",
     "output_type": "stream",
     "text": [
      "\r\n",
      "Epoch 443/600:  74%|███████▍  | 443/600 [3:45:24<1:24:32, 32.31s/it, v_num=yw_1, total_loss_train=527, kl_local_train=89.5, metric_mi|age_categorical_train=0.339]"
     ]
    },
    {
     "name": "stdout",
     "output_type": "stream",
     "text": [
      "\r\n",
      "Epoch 444/600:  74%|███████▍  | 443/600 [3:45:24<1:24:32, 32.31s/it, v_num=yw_1, total_loss_train=527, kl_local_train=89.5, metric_mi|age_categorical_train=0.339]"
     ]
    },
    {
     "name": "stdout",
     "output_type": "stream",
     "text": [
      "\r\n",
      "Epoch 444/600:  74%|███████▍  | 444/600 [3:45:56<1:23:50, 32.25s/it, v_num=yw_1, total_loss_train=527, kl_local_train=89.5, metric_mi|age_categorical_train=0.339]"
     ]
    },
    {
     "name": "stdout",
     "output_type": "stream",
     "text": [
      "\r\n",
      "Epoch 444/600:  74%|███████▍  | 444/600 [3:45:56<1:23:50, 32.25s/it, v_num=yw_1, total_loss_train=527, kl_local_train=89.3, metric_mi|age_categorical_train=0.339]"
     ]
    },
    {
     "name": "stdout",
     "output_type": "stream",
     "text": [
      "\r\n",
      "Epoch 445/600:  74%|███████▍  | 444/600 [3:45:56<1:23:50, 32.25s/it, v_num=yw_1, total_loss_train=527, kl_local_train=89.3, metric_mi|age_categorical_train=0.339]"
     ]
    },
    {
     "name": "stdout",
     "output_type": "stream",
     "text": [
      "\r\n",
      "Epoch 445/600:  74%|███████▍  | 445/600 [3:46:28<1:23:03, 32.15s/it, v_num=yw_1, total_loss_train=527, kl_local_train=89.3, metric_mi|age_categorical_train=0.339]"
     ]
    },
    {
     "name": "stdout",
     "output_type": "stream",
     "text": [
      "\r\n",
      "Epoch 445/600:  74%|███████▍  | 445/600 [3:46:28<1:23:03, 32.15s/it, v_num=yw_1, total_loss_train=528, kl_local_train=89.3, metric_mi|age_categorical_train=0.339]"
     ]
    },
    {
     "name": "stdout",
     "output_type": "stream",
     "text": [
      "\r\n",
      "Epoch 446/600:  74%|███████▍  | 445/600 [3:46:28<1:23:03, 32.15s/it, v_num=yw_1, total_loss_train=528, kl_local_train=89.3, metric_mi|age_categorical_train=0.339]"
     ]
    },
    {
     "name": "stdout",
     "output_type": "stream",
     "text": [
      "\r\n",
      "Epoch 446/600:  74%|███████▍  | 446/600 [3:47:00<1:22:41, 32.22s/it, v_num=yw_1, total_loss_train=528, kl_local_train=89.3, metric_mi|age_categorical_train=0.339]"
     ]
    },
    {
     "name": "stdout",
     "output_type": "stream",
     "text": [
      "\r\n",
      "Epoch 446/600:  74%|███████▍  | 446/600 [3:47:00<1:22:41, 32.22s/it, v_num=yw_1, total_loss_train=527, kl_local_train=88.9, metric_mi|age_categorical_train=0.34] "
     ]
    },
    {
     "name": "stdout",
     "output_type": "stream",
     "text": [
      "\r\n",
      "Epoch 447/600:  74%|███████▍  | 446/600 [3:47:00<1:22:41, 32.22s/it, v_num=yw_1, total_loss_train=527, kl_local_train=88.9, metric_mi|age_categorical_train=0.34]"
     ]
    },
    {
     "name": "stdout",
     "output_type": "stream",
     "text": [
      "\r\n",
      "Epoch 447/600:  74%|███████▍  | 447/600 [3:47:32<1:21:43, 32.05s/it, v_num=yw_1, total_loss_train=527, kl_local_train=88.9, metric_mi|age_categorical_train=0.34]"
     ]
    },
    {
     "name": "stdout",
     "output_type": "stream",
     "text": [
      "\r\n",
      "Epoch 447/600:  74%|███████▍  | 447/600 [3:47:32<1:21:43, 32.05s/it, v_num=yw_1, total_loss_train=528, kl_local_train=88.9, metric_mi|age_categorical_train=0.34]"
     ]
    },
    {
     "name": "stdout",
     "output_type": "stream",
     "text": [
      "\r\n",
      "Epoch 448/600:  74%|███████▍  | 447/600 [3:47:32<1:21:43, 32.05s/it, v_num=yw_1, total_loss_train=528, kl_local_train=88.9, metric_mi|age_categorical_train=0.34]"
     ]
    },
    {
     "name": "stdout",
     "output_type": "stream",
     "text": [
      "\r\n",
      "Epoch 448/600:  75%|███████▍  | 448/600 [3:48:03<1:20:49, 31.90s/it, v_num=yw_1, total_loss_train=528, kl_local_train=88.9, metric_mi|age_categorical_train=0.34]"
     ]
    },
    {
     "name": "stdout",
     "output_type": "stream",
     "text": [
      "\r\n",
      "Epoch 448/600:  75%|███████▍  | 448/600 [3:48:03<1:20:49, 31.90s/it, v_num=yw_1, total_loss_train=528, kl_local_train=88.8, metric_mi|age_categorical_train=0.34]"
     ]
    },
    {
     "name": "stdout",
     "output_type": "stream",
     "text": [
      "\r\n",
      "Epoch 449/600:  75%|███████▍  | 448/600 [3:48:03<1:20:49, 31.90s/it, v_num=yw_1, total_loss_train=528, kl_local_train=88.8, metric_mi|age_categorical_train=0.34]"
     ]
    },
    {
     "name": "stdout",
     "output_type": "stream",
     "text": [
      "\r\n",
      "Epoch 449/600:  75%|███████▍  | 449/600 [3:48:35<1:20:03, 31.81s/it, v_num=yw_1, total_loss_train=528, kl_local_train=88.8, metric_mi|age_categorical_train=0.34]"
     ]
    },
    {
     "name": "stdout",
     "output_type": "stream",
     "text": [
      "\r\n",
      "Epoch 449/600:  75%|███████▍  | 449/600 [3:48:35<1:20:03, 31.81s/it, v_num=yw_1, total_loss_train=528, kl_local_train=88.6, metric_mi|age_categorical_train=0.34]"
     ]
    },
    {
     "name": "stdout",
     "output_type": "stream",
     "text": [
      "\r\n",
      "Epoch 450/600:  75%|███████▍  | 449/600 [3:48:35<1:20:03, 31.81s/it, v_num=yw_1, total_loss_train=528, kl_local_train=88.6, metric_mi|age_categorical_train=0.34]"
     ]
    },
    {
     "name": "stdout",
     "output_type": "stream",
     "text": [
      "\r\n",
      "Epoch 450/600:  75%|███████▌  | 450/600 [3:49:06<1:19:19, 31.73s/it, v_num=yw_1, total_loss_train=528, kl_local_train=88.6, metric_mi|age_categorical_train=0.34]"
     ]
    },
    {
     "name": "stdout",
     "output_type": "stream",
     "text": [
      "\r\n",
      "Epoch 450/600:  75%|███████▌  | 450/600 [3:49:06<1:19:19, 31.73s/it, v_num=yw_1, total_loss_train=528, kl_local_train=88.5, metric_mi|age_categorical_train=0.34]"
     ]
    },
    {
     "name": "stdout",
     "output_type": "stream",
     "text": [
      "\r\n",
      "Epoch 451/600:  75%|███████▌  | 450/600 [3:49:07<1:19:19, 31.73s/it, v_num=yw_1, total_loss_train=528, kl_local_train=88.5, metric_mi|age_categorical_train=0.34]"
     ]
    },
    {
     "name": "stdout",
     "output_type": "stream",
     "text": [
      "\r\n",
      "Epoch 451/600:  75%|███████▌  | 451/600 [3:49:38<1:19:06, 31.85s/it, v_num=yw_1, total_loss_train=528, kl_local_train=88.5, metric_mi|age_categorical_train=0.34]"
     ]
    },
    {
     "name": "stdout",
     "output_type": "stream",
     "text": [
      "\r\n",
      "Epoch 451/600:  75%|███████▌  | 451/600 [3:49:38<1:19:06, 31.85s/it, v_num=yw_1, total_loss_train=528, kl_local_train=88.7, metric_mi|age_categorical_train=0.342]"
     ]
    },
    {
     "name": "stdout",
     "output_type": "stream",
     "text": [
      "\r\n",
      "Epoch 452/600:  75%|███████▌  | 451/600 [3:49:38<1:19:06, 31.85s/it, v_num=yw_1, total_loss_train=528, kl_local_train=88.7, metric_mi|age_categorical_train=0.342]"
     ]
    },
    {
     "name": "stdout",
     "output_type": "stream",
     "text": [
      "\r\n",
      "Epoch 452/600:  75%|███████▌  | 452/600 [3:50:10<1:18:20, 31.76s/it, v_num=yw_1, total_loss_train=528, kl_local_train=88.7, metric_mi|age_categorical_train=0.342]"
     ]
    },
    {
     "name": "stdout",
     "output_type": "stream",
     "text": [
      "\r\n",
      "Epoch 452/600:  75%|███████▌  | 452/600 [3:50:10<1:18:20, 31.76s/it, v_num=yw_1, total_loss_train=528, kl_local_train=88.5, metric_mi|age_categorical_train=0.342]"
     ]
    },
    {
     "name": "stdout",
     "output_type": "stream",
     "text": [
      "\r\n",
      "Epoch 453/600:  75%|███████▌  | 452/600 [3:50:10<1:18:20, 31.76s/it, v_num=yw_1, total_loss_train=528, kl_local_train=88.5, metric_mi|age_categorical_train=0.342]"
     ]
    },
    {
     "name": "stdout",
     "output_type": "stream",
     "text": [
      "\r\n",
      "Epoch 453/600:  76%|███████▌  | 453/600 [3:50:42<1:17:44, 31.73s/it, v_num=yw_1, total_loss_train=528, kl_local_train=88.5, metric_mi|age_categorical_train=0.342]"
     ]
    },
    {
     "name": "stdout",
     "output_type": "stream",
     "text": [
      "\r\n",
      "Epoch 453/600:  76%|███████▌  | 453/600 [3:50:42<1:17:44, 31.73s/it, v_num=yw_1, total_loss_train=528, kl_local_train=88.5, metric_mi|age_categorical_train=0.342]"
     ]
    },
    {
     "name": "stdout",
     "output_type": "stream",
     "text": [
      "\r\n",
      "Epoch 454/600:  76%|███████▌  | 453/600 [3:50:42<1:17:44, 31.73s/it, v_num=yw_1, total_loss_train=528, kl_local_train=88.5, metric_mi|age_categorical_train=0.342]"
     ]
    },
    {
     "name": "stdout",
     "output_type": "stream",
     "text": [
      "\r\n",
      "Epoch 454/600:  76%|███████▌  | 454/600 [3:51:13<1:17:09, 31.71s/it, v_num=yw_1, total_loss_train=528, kl_local_train=88.5, metric_mi|age_categorical_train=0.342]"
     ]
    },
    {
     "name": "stdout",
     "output_type": "stream",
     "text": [
      "\r\n",
      "Epoch 454/600:  76%|███████▌  | 454/600 [3:51:13<1:17:09, 31.71s/it, v_num=yw_1, total_loss_train=528, kl_local_train=88.2, metric_mi|age_categorical_train=0.342]"
     ]
    },
    {
     "name": "stdout",
     "output_type": "stream",
     "text": [
      "\r\n",
      "Epoch 455/600:  76%|███████▌  | 454/600 [3:51:13<1:17:09, 31.71s/it, v_num=yw_1, total_loss_train=528, kl_local_train=88.2, metric_mi|age_categorical_train=0.342]"
     ]
    },
    {
     "name": "stdout",
     "output_type": "stream",
     "text": [
      "\r\n",
      "Epoch 455/600:  76%|███████▌  | 455/600 [3:51:45<1:16:33, 31.68s/it, v_num=yw_1, total_loss_train=528, kl_local_train=88.2, metric_mi|age_categorical_train=0.342]"
     ]
    },
    {
     "name": "stdout",
     "output_type": "stream",
     "text": [
      "\r\n",
      "Epoch 455/600:  76%|███████▌  | 455/600 [3:51:45<1:16:33, 31.68s/it, v_num=yw_1, total_loss_train=528, kl_local_train=88.2, metric_mi|age_categorical_train=0.342]"
     ]
    },
    {
     "name": "stdout",
     "output_type": "stream",
     "text": [
      "\r\n",
      "Epoch 456/600:  76%|███████▌  | 455/600 [3:51:46<1:16:33, 31.68s/it, v_num=yw_1, total_loss_train=528, kl_local_train=88.2, metric_mi|age_categorical_train=0.342]"
     ]
    },
    {
     "name": "stdout",
     "output_type": "stream",
     "text": [
      "\r\n",
      "Epoch 456/600:  76%|███████▌  | 456/600 [3:52:17<1:16:31, 31.88s/it, v_num=yw_1, total_loss_train=528, kl_local_train=88.2, metric_mi|age_categorical_train=0.342]"
     ]
    },
    {
     "name": "stdout",
     "output_type": "stream",
     "text": [
      "\r\n",
      "Epoch 456/600:  76%|███████▌  | 456/600 [3:52:17<1:16:31, 31.88s/it, v_num=yw_1, total_loss_train=529, kl_local_train=88.2, metric_mi|age_categorical_train=0.334]"
     ]
    },
    {
     "name": "stdout",
     "output_type": "stream",
     "text": [
      "\r\n",
      "Epoch 457/600:  76%|███████▌  | 456/600 [3:52:17<1:16:31, 31.88s/it, v_num=yw_1, total_loss_train=529, kl_local_train=88.2, metric_mi|age_categorical_train=0.334]"
     ]
    },
    {
     "name": "stdout",
     "output_type": "stream",
     "text": [
      "\r\n",
      "Epoch 457/600:  76%|███████▌  | 457/600 [3:52:49<1:15:46, 31.79s/it, v_num=yw_1, total_loss_train=529, kl_local_train=88.2, metric_mi|age_categorical_train=0.334]"
     ]
    },
    {
     "name": "stdout",
     "output_type": "stream",
     "text": [
      "\r\n",
      "Epoch 457/600:  76%|███████▌  | 457/600 [3:52:49<1:15:46, 31.79s/it, v_num=yw_1, total_loss_train=529, kl_local_train=88.1, metric_mi|age_categorical_train=0.334]"
     ]
    },
    {
     "name": "stdout",
     "output_type": "stream",
     "text": [
      "\r\n",
      "Epoch 458/600:  76%|███████▌  | 457/600 [3:52:49<1:15:46, 31.79s/it, v_num=yw_1, total_loss_train=529, kl_local_train=88.1, metric_mi|age_categorical_train=0.334]"
     ]
    },
    {
     "name": "stdout",
     "output_type": "stream",
     "text": [
      "\r\n",
      "Epoch 458/600:  76%|███████▋  | 458/600 [3:53:20<1:15:05, 31.73s/it, v_num=yw_1, total_loss_train=529, kl_local_train=88.1, metric_mi|age_categorical_train=0.334]"
     ]
    },
    {
     "name": "stdout",
     "output_type": "stream",
     "text": [
      "\r\n",
      "Epoch 458/600:  76%|███████▋  | 458/600 [3:53:20<1:15:05, 31.73s/it, v_num=yw_1, total_loss_train=529, kl_local_train=88.2, metric_mi|age_categorical_train=0.334]"
     ]
    },
    {
     "name": "stdout",
     "output_type": "stream",
     "text": [
      "\r\n",
      "Epoch 459/600:  76%|███████▋  | 458/600 [3:53:20<1:15:05, 31.73s/it, v_num=yw_1, total_loss_train=529, kl_local_train=88.2, metric_mi|age_categorical_train=0.334]"
     ]
    },
    {
     "name": "stdout",
     "output_type": "stream",
     "text": [
      "\r\n",
      "Epoch 459/600:  76%|███████▋  | 459/600 [3:53:52<1:14:29, 31.70s/it, v_num=yw_1, total_loss_train=529, kl_local_train=88.2, metric_mi|age_categorical_train=0.334]"
     ]
    },
    {
     "name": "stdout",
     "output_type": "stream",
     "text": [
      "\r\n",
      "Epoch 459/600:  76%|███████▋  | 459/600 [3:53:52<1:14:29, 31.70s/it, v_num=yw_1, total_loss_train=529, kl_local_train=87.9, metric_mi|age_categorical_train=0.334]"
     ]
    },
    {
     "name": "stdout",
     "output_type": "stream",
     "text": [
      "\r\n",
      "Epoch 460/600:  76%|███████▋  | 459/600 [3:53:52<1:14:29, 31.70s/it, v_num=yw_1, total_loss_train=529, kl_local_train=87.9, metric_mi|age_categorical_train=0.334]"
     ]
    },
    {
     "name": "stdout",
     "output_type": "stream",
     "text": [
      "\r\n",
      "Epoch 460/600:  77%|███████▋  | 460/600 [3:54:24<1:13:56, 31.69s/it, v_num=yw_1, total_loss_train=529, kl_local_train=87.9, metric_mi|age_categorical_train=0.334]"
     ]
    },
    {
     "name": "stdout",
     "output_type": "stream",
     "text": [
      "\r\n",
      "Epoch 460/600:  77%|███████▋  | 460/600 [3:54:24<1:13:56, 31.69s/it, v_num=yw_1, total_loss_train=529, kl_local_train=87.6, metric_mi|age_categorical_train=0.334]"
     ]
    },
    {
     "name": "stdout",
     "output_type": "stream",
     "text": [
      "\r\n",
      "Epoch 461/600:  77%|███████▋  | 460/600 [3:54:24<1:13:56, 31.69s/it, v_num=yw_1, total_loss_train=529, kl_local_train=87.6, metric_mi|age_categorical_train=0.334]"
     ]
    },
    {
     "name": "stdout",
     "output_type": "stream",
     "text": [
      "\r\n",
      "Epoch 461/600:  77%|███████▋  | 461/600 [3:54:56<1:13:48, 31.86s/it, v_num=yw_1, total_loss_train=529, kl_local_train=87.6, metric_mi|age_categorical_train=0.334]"
     ]
    },
    {
     "name": "stdout",
     "output_type": "stream",
     "text": [
      "\r\n",
      "Epoch 461/600:  77%|███████▋  | 461/600 [3:54:56<1:13:48, 31.86s/it, v_num=yw_1, total_loss_train=529, kl_local_train=87.8, metric_mi|age_categorical_train=0.329]"
     ]
    },
    {
     "name": "stdout",
     "output_type": "stream",
     "text": [
      "\r\n",
      "Epoch 462/600:  77%|███████▋  | 461/600 [3:54:56<1:13:48, 31.86s/it, v_num=yw_1, total_loss_train=529, kl_local_train=87.8, metric_mi|age_categorical_train=0.329]"
     ]
    },
    {
     "name": "stdout",
     "output_type": "stream",
     "text": [
      "\r\n",
      "Epoch 462/600:  77%|███████▋  | 462/600 [3:55:27<1:12:51, 31.68s/it, v_num=yw_1, total_loss_train=529, kl_local_train=87.8, metric_mi|age_categorical_train=0.329]"
     ]
    },
    {
     "name": "stdout",
     "output_type": "stream",
     "text": [
      "\r\n",
      "Epoch 462/600:  77%|███████▋  | 462/600 [3:55:27<1:12:51, 31.68s/it, v_num=yw_1, total_loss_train=529, kl_local_train=87.5, metric_mi|age_categorical_train=0.329]"
     ]
    },
    {
     "name": "stdout",
     "output_type": "stream",
     "text": [
      "\r\n",
      "Epoch 463/600:  77%|███████▋  | 462/600 [3:55:27<1:12:51, 31.68s/it, v_num=yw_1, total_loss_train=529, kl_local_train=87.5, metric_mi|age_categorical_train=0.329]"
     ]
    },
    {
     "name": "stdout",
     "output_type": "stream",
     "text": [
      "\r\n",
      "Epoch 463/600:  77%|███████▋  | 463/600 [3:55:59<1:12:13, 31.63s/it, v_num=yw_1, total_loss_train=529, kl_local_train=87.5, metric_mi|age_categorical_train=0.329]"
     ]
    },
    {
     "name": "stdout",
     "output_type": "stream",
     "text": [
      "\r\n",
      "Epoch 463/600:  77%|███████▋  | 463/600 [3:55:59<1:12:13, 31.63s/it, v_num=yw_1, total_loss_train=529, kl_local_train=87.3, metric_mi|age_categorical_train=0.329]"
     ]
    },
    {
     "name": "stdout",
     "output_type": "stream",
     "text": [
      "\r\n",
      "Epoch 464/600:  77%|███████▋  | 463/600 [3:55:59<1:12:13, 31.63s/it, v_num=yw_1, total_loss_train=529, kl_local_train=87.3, metric_mi|age_categorical_train=0.329]"
     ]
    },
    {
     "name": "stdout",
     "output_type": "stream",
     "text": [
      "\r\n",
      "Epoch 464/600:  77%|███████▋  | 464/600 [3:56:30<1:11:38, 31.60s/it, v_num=yw_1, total_loss_train=529, kl_local_train=87.3, metric_mi|age_categorical_train=0.329]"
     ]
    },
    {
     "name": "stdout",
     "output_type": "stream",
     "text": [
      "\r\n",
      "Epoch 464/600:  77%|███████▋  | 464/600 [3:56:30<1:11:38, 31.60s/it, v_num=yw_1, total_loss_train=529, kl_local_train=87.2, metric_mi|age_categorical_train=0.329]"
     ]
    },
    {
     "name": "stdout",
     "output_type": "stream",
     "text": [
      "\r\n",
      "Epoch 465/600:  77%|███████▋  | 464/600 [3:56:30<1:11:38, 31.60s/it, v_num=yw_1, total_loss_train=529, kl_local_train=87.2, metric_mi|age_categorical_train=0.329]"
     ]
    },
    {
     "name": "stdout",
     "output_type": "stream",
     "text": [
      "\r\n",
      "Epoch 465/600:  78%|███████▊  | 465/600 [3:57:02<1:11:09, 31.63s/it, v_num=yw_1, total_loss_train=529, kl_local_train=87.2, metric_mi|age_categorical_train=0.329]"
     ]
    },
    {
     "name": "stdout",
     "output_type": "stream",
     "text": [
      "\r\n",
      "Epoch 465/600:  78%|███████▊  | 465/600 [3:57:02<1:11:09, 31.63s/it, v_num=yw_1, total_loss_train=530, kl_local_train=87.2, metric_mi|age_categorical_train=0.329]"
     ]
    },
    {
     "name": "stdout",
     "output_type": "stream",
     "text": [
      "\r\n",
      "Epoch 466/600:  78%|███████▊  | 465/600 [3:57:03<1:11:09, 31.63s/it, v_num=yw_1, total_loss_train=530, kl_local_train=87.2, metric_mi|age_categorical_train=0.329]"
     ]
    },
    {
     "name": "stdout",
     "output_type": "stream",
     "text": [
      "\r\n",
      "Epoch 466/600:  78%|███████▊  | 466/600 [3:57:34<1:11:10, 31.87s/it, v_num=yw_1, total_loss_train=530, kl_local_train=87.2, metric_mi|age_categorical_train=0.329]"
     ]
    },
    {
     "name": "stdout",
     "output_type": "stream",
     "text": [
      "\r\n",
      "Epoch 466/600:  78%|███████▊  | 466/600 [3:57:34<1:11:10, 31.87s/it, v_num=yw_1, total_loss_train=529, kl_local_train=87.3, metric_mi|age_categorical_train=0.322]"
     ]
    },
    {
     "name": "stdout",
     "output_type": "stream",
     "text": [
      "\r\n",
      "Epoch 467/600:  78%|███████▊  | 466/600 [3:57:34<1:11:10, 31.87s/it, v_num=yw_1, total_loss_train=529, kl_local_train=87.3, metric_mi|age_categorical_train=0.322]"
     ]
    },
    {
     "name": "stdout",
     "output_type": "stream",
     "text": [
      "\r\n",
      "Epoch 467/600:  78%|███████▊  | 467/600 [3:58:06<1:10:30, 31.81s/it, v_num=yw_1, total_loss_train=529, kl_local_train=87.3, metric_mi|age_categorical_train=0.322]"
     ]
    },
    {
     "name": "stdout",
     "output_type": "stream",
     "text": [
      "\r\n",
      "Epoch 467/600:  78%|███████▊  | 467/600 [3:58:06<1:10:30, 31.81s/it, v_num=yw_1, total_loss_train=530, kl_local_train=87.5, metric_mi|age_categorical_train=0.322]"
     ]
    },
    {
     "name": "stdout",
     "output_type": "stream",
     "text": [
      "\r\n",
      "Epoch 468/600:  78%|███████▊  | 467/600 [3:58:06<1:10:30, 31.81s/it, v_num=yw_1, total_loss_train=530, kl_local_train=87.5, metric_mi|age_categorical_train=0.322]"
     ]
    },
    {
     "name": "stdout",
     "output_type": "stream",
     "text": [
      "\r\n",
      "Epoch 468/600:  78%|███████▊  | 468/600 [3:58:36<1:08:54, 31.32s/it, v_num=yw_1, total_loss_train=530, kl_local_train=87.5, metric_mi|age_categorical_train=0.322]"
     ]
    },
    {
     "name": "stdout",
     "output_type": "stream",
     "text": [
      "\r\n",
      "Epoch 468/600:  78%|███████▊  | 468/600 [3:58:36<1:08:54, 31.32s/it, v_num=yw_1, total_loss_train=530, kl_local_train=87, metric_mi|age_categorical_train=0.322]  "
     ]
    },
    {
     "name": "stdout",
     "output_type": "stream",
     "text": [
      "\r\n",
      "Epoch 469/600:  78%|███████▊  | 468/600 [3:58:36<1:08:54, 31.32s/it, v_num=yw_1, total_loss_train=530, kl_local_train=87, metric_mi|age_categorical_train=0.322]"
     ]
    },
    {
     "name": "stdout",
     "output_type": "stream",
     "text": [
      "\r\n",
      "Epoch 469/600:  78%|███████▊  | 469/600 [3:59:06<1:06:59, 30.69s/it, v_num=yw_1, total_loss_train=530, kl_local_train=87, metric_mi|age_categorical_train=0.322]"
     ]
    },
    {
     "name": "stdout",
     "output_type": "stream",
     "text": [
      "\r\n",
      "Epoch 469/600:  78%|███████▊  | 469/600 [3:59:06<1:06:59, 30.69s/it, v_num=yw_1, total_loss_train=530, kl_local_train=86.8, metric_mi|age_categorical_train=0.322]"
     ]
    },
    {
     "name": "stdout",
     "output_type": "stream",
     "text": [
      "\r\n",
      "Epoch 470/600:  78%|███████▊  | 469/600 [3:59:06<1:06:59, 30.69s/it, v_num=yw_1, total_loss_train=530, kl_local_train=86.8, metric_mi|age_categorical_train=0.322]"
     ]
    },
    {
     "name": "stdout",
     "output_type": "stream",
     "text": [
      "\r\n",
      "Epoch 470/600:  78%|███████▊  | 470/600 [3:59:35<1:05:40, 30.31s/it, v_num=yw_1, total_loss_train=530, kl_local_train=86.8, metric_mi|age_categorical_train=0.322]"
     ]
    },
    {
     "name": "stdout",
     "output_type": "stream",
     "text": [
      "\r\n",
      "Epoch 470/600:  78%|███████▊  | 470/600 [3:59:35<1:05:40, 30.31s/it, v_num=yw_1, total_loss_train=530, kl_local_train=86.8, metric_mi|age_categorical_train=0.322]"
     ]
    },
    {
     "name": "stdout",
     "output_type": "stream",
     "text": [
      "\r\n",
      "Epoch 471/600:  78%|███████▊  | 470/600 [3:59:36<1:05:40, 30.31s/it, v_num=yw_1, total_loss_train=530, kl_local_train=86.8, metric_mi|age_categorical_train=0.322]"
     ]
    },
    {
     "name": "stdout",
     "output_type": "stream",
     "text": [
      "\r\n",
      "Epoch 471/600:  78%|███████▊  | 471/600 [4:00:05<1:05:02, 30.25s/it, v_num=yw_1, total_loss_train=530, kl_local_train=86.8, metric_mi|age_categorical_train=0.322]"
     ]
    },
    {
     "name": "stdout",
     "output_type": "stream",
     "text": [
      "\r\n",
      "Epoch 471/600:  78%|███████▊  | 471/600 [4:00:05<1:05:02, 30.25s/it, v_num=yw_1, total_loss_train=530, kl_local_train=87, metric_mi|age_categorical_train=0.328]  "
     ]
    },
    {
     "name": "stdout",
     "output_type": "stream",
     "text": [
      "\r\n",
      "Epoch 472/600:  78%|███████▊  | 471/600 [4:00:05<1:05:02, 30.25s/it, v_num=yw_1, total_loss_train=530, kl_local_train=87, metric_mi|age_categorical_train=0.328]"
     ]
    },
    {
     "name": "stdout",
     "output_type": "stream",
     "text": [
      "\r\n",
      "Epoch 472/600:  79%|███████▊  | 472/600 [4:00:36<1:04:52, 30.41s/it, v_num=yw_1, total_loss_train=530, kl_local_train=87, metric_mi|age_categorical_train=0.328]"
     ]
    },
    {
     "name": "stdout",
     "output_type": "stream",
     "text": [
      "\r\n",
      "Epoch 472/600:  79%|███████▊  | 472/600 [4:00:36<1:04:52, 30.41s/it, v_num=yw_1, total_loss_train=530, kl_local_train=86.7, metric_mi|age_categorical_train=0.328]"
     ]
    },
    {
     "name": "stdout",
     "output_type": "stream",
     "text": [
      "\r\n",
      "Epoch 473/600:  79%|███████▊  | 472/600 [4:00:36<1:04:52, 30.41s/it, v_num=yw_1, total_loss_train=530, kl_local_train=86.7, metric_mi|age_categorical_train=0.328]"
     ]
    },
    {
     "name": "stdout",
     "output_type": "stream",
     "text": [
      "\r\n",
      "Epoch 473/600:  79%|███████▉  | 473/600 [4:01:08<1:05:15, 30.83s/it, v_num=yw_1, total_loss_train=530, kl_local_train=86.7, metric_mi|age_categorical_train=0.328]"
     ]
    },
    {
     "name": "stdout",
     "output_type": "stream",
     "text": [
      "\r\n",
      "Epoch 473/600:  79%|███████▉  | 473/600 [4:01:08<1:05:15, 30.83s/it, v_num=yw_1, total_loss_train=530, kl_local_train=86.8, metric_mi|age_categorical_train=0.328]"
     ]
    },
    {
     "name": "stdout",
     "output_type": "stream",
     "text": [
      "\r\n",
      "Epoch 474/600:  79%|███████▉  | 473/600 [4:01:08<1:05:15, 30.83s/it, v_num=yw_1, total_loss_train=530, kl_local_train=86.8, metric_mi|age_categorical_train=0.328]"
     ]
    },
    {
     "name": "stdout",
     "output_type": "stream",
     "text": [
      "\r\n",
      "Epoch 474/600:  79%|███████▉  | 474/600 [4:01:39<1:05:22, 31.13s/it, v_num=yw_1, total_loss_train=530, kl_local_train=86.8, metric_mi|age_categorical_train=0.328]"
     ]
    },
    {
     "name": "stdout",
     "output_type": "stream",
     "text": [
      "\r\n",
      "Epoch 474/600:  79%|███████▉  | 474/600 [4:01:39<1:05:22, 31.13s/it, v_num=yw_1, total_loss_train=531, kl_local_train=86.5, metric_mi|age_categorical_train=0.328]"
     ]
    },
    {
     "name": "stdout",
     "output_type": "stream",
     "text": [
      "\r\n",
      "Epoch 475/600:  79%|███████▉  | 474/600 [4:01:39<1:05:22, 31.13s/it, v_num=yw_1, total_loss_train=531, kl_local_train=86.5, metric_mi|age_categorical_train=0.328]"
     ]
    },
    {
     "name": "stdout",
     "output_type": "stream",
     "text": [
      "\r\n",
      "Epoch 475/600:  79%|███████▉  | 475/600 [4:02:11<1:05:18, 31.35s/it, v_num=yw_1, total_loss_train=531, kl_local_train=86.5, metric_mi|age_categorical_train=0.328]"
     ]
    },
    {
     "name": "stdout",
     "output_type": "stream",
     "text": [
      "\r\n",
      "Epoch 475/600:  79%|███████▉  | 475/600 [4:02:11<1:05:18, 31.35s/it, v_num=yw_1, total_loss_train=531, kl_local_train=86.7, metric_mi|age_categorical_train=0.328]"
     ]
    },
    {
     "name": "stdout",
     "output_type": "stream",
     "text": [
      "\r\n",
      "Epoch 476/600:  79%|███████▉  | 475/600 [4:02:12<1:05:18, 31.35s/it, v_num=yw_1, total_loss_train=531, kl_local_train=86.7, metric_mi|age_categorical_train=0.328]"
     ]
    },
    {
     "name": "stdout",
     "output_type": "stream",
     "text": [
      "\r\n",
      "Epoch 476/600:  79%|███████▉  | 476/600 [4:02:44<1:05:30, 31.70s/it, v_num=yw_1, total_loss_train=531, kl_local_train=86.7, metric_mi|age_categorical_train=0.328]"
     ]
    },
    {
     "name": "stdout",
     "output_type": "stream",
     "text": [
      "\r\n",
      "Epoch 476/600:  79%|███████▉  | 476/600 [4:02:44<1:05:30, 31.70s/it, v_num=yw_1, total_loss_train=530, kl_local_train=86.5, metric_mi|age_categorical_train=0.318]"
     ]
    },
    {
     "name": "stdout",
     "output_type": "stream",
     "text": [
      "\r\n",
      "Epoch 477/600:  79%|███████▉  | 476/600 [4:02:44<1:05:30, 31.70s/it, v_num=yw_1, total_loss_train=530, kl_local_train=86.5, metric_mi|age_categorical_train=0.318]"
     ]
    },
    {
     "name": "stdout",
     "output_type": "stream",
     "text": [
      "\r\n",
      "Epoch 477/600:  80%|███████▉  | 477/600 [4:03:16<1:05:03, 31.74s/it, v_num=yw_1, total_loss_train=530, kl_local_train=86.5, metric_mi|age_categorical_train=0.318]"
     ]
    },
    {
     "name": "stdout",
     "output_type": "stream",
     "text": [
      "\r\n",
      "Epoch 477/600:  80%|███████▉  | 477/600 [4:03:16<1:05:03, 31.74s/it, v_num=yw_1, total_loss_train=531, kl_local_train=86.6, metric_mi|age_categorical_train=0.318]"
     ]
    },
    {
     "name": "stdout",
     "output_type": "stream",
     "text": [
      "\r\n",
      "Epoch 478/600:  80%|███████▉  | 477/600 [4:03:16<1:05:03, 31.74s/it, v_num=yw_1, total_loss_train=531, kl_local_train=86.6, metric_mi|age_categorical_train=0.318]"
     ]
    },
    {
     "name": "stdout",
     "output_type": "stream",
     "text": [
      "\r\n",
      "Epoch 478/600:  80%|███████▉  | 478/600 [4:03:48<1:04:37, 31.78s/it, v_num=yw_1, total_loss_train=531, kl_local_train=86.6, metric_mi|age_categorical_train=0.318]"
     ]
    },
    {
     "name": "stdout",
     "output_type": "stream",
     "text": [
      "\r\n",
      "Epoch 478/600:  80%|███████▉  | 478/600 [4:03:48<1:04:37, 31.78s/it, v_num=yw_1, total_loss_train=531, kl_local_train=86.4, metric_mi|age_categorical_train=0.318]"
     ]
    },
    {
     "name": "stdout",
     "output_type": "stream",
     "text": [
      "\r\n",
      "Epoch 479/600:  80%|███████▉  | 478/600 [4:03:48<1:04:37, 31.78s/it, v_num=yw_1, total_loss_train=531, kl_local_train=86.4, metric_mi|age_categorical_train=0.318]"
     ]
    },
    {
     "name": "stdout",
     "output_type": "stream",
     "text": [
      "\r\n",
      "Epoch 479/600:  80%|███████▉  | 479/600 [4:04:19<1:04:07, 31.80s/it, v_num=yw_1, total_loss_train=531, kl_local_train=86.4, metric_mi|age_categorical_train=0.318]"
     ]
    },
    {
     "name": "stdout",
     "output_type": "stream",
     "text": [
      "\r\n",
      "Epoch 479/600:  80%|███████▉  | 479/600 [4:04:19<1:04:07, 31.80s/it, v_num=yw_1, total_loss_train=531, kl_local_train=86.2, metric_mi|age_categorical_train=0.318]"
     ]
    },
    {
     "name": "stdout",
     "output_type": "stream",
     "text": [
      "\r\n",
      "Epoch 480/600:  80%|███████▉  | 479/600 [4:04:19<1:04:07, 31.80s/it, v_num=yw_1, total_loss_train=531, kl_local_train=86.2, metric_mi|age_categorical_train=0.318]"
     ]
    },
    {
     "name": "stdout",
     "output_type": "stream",
     "text": [
      "\r\n",
      "Epoch 480/600:  80%|████████  | 480/600 [4:04:51<1:03:42, 31.85s/it, v_num=yw_1, total_loss_train=531, kl_local_train=86.2, metric_mi|age_categorical_train=0.318]"
     ]
    },
    {
     "name": "stdout",
     "output_type": "stream",
     "text": [
      "\r\n",
      "Epoch 480/600:  80%|████████  | 480/600 [4:04:51<1:03:42, 31.85s/it, v_num=yw_1, total_loss_train=531, kl_local_train=86.2, metric_mi|age_categorical_train=0.318]"
     ]
    },
    {
     "name": "stdout",
     "output_type": "stream",
     "text": [
      "\r\n",
      "Epoch 481/600:  80%|████████  | 480/600 [4:04:52<1:03:42, 31.85s/it, v_num=yw_1, total_loss_train=531, kl_local_train=86.2, metric_mi|age_categorical_train=0.318]"
     ]
    },
    {
     "name": "stdout",
     "output_type": "stream",
     "text": [
      "\r\n",
      "Epoch 481/600:  80%|████████  | 481/600 [4:05:24<1:03:37, 32.08s/it, v_num=yw_1, total_loss_train=531, kl_local_train=86.2, metric_mi|age_categorical_train=0.318]"
     ]
    },
    {
     "name": "stdout",
     "output_type": "stream",
     "text": [
      "\r\n",
      "Epoch 481/600:  80%|████████  | 481/600 [4:05:24<1:03:37, 32.08s/it, v_num=yw_1, total_loss_train=531, kl_local_train=85.9, metric_mi|age_categorical_train=0.337]"
     ]
    },
    {
     "name": "stdout",
     "output_type": "stream",
     "text": [
      "\r\n",
      "Epoch 482/600:  80%|████████  | 481/600 [4:05:24<1:03:37, 32.08s/it, v_num=yw_1, total_loss_train=531, kl_local_train=85.9, metric_mi|age_categorical_train=0.337]"
     ]
    },
    {
     "name": "stdout",
     "output_type": "stream",
     "text": [
      "\r\n",
      "Epoch 482/600:  80%|████████  | 482/600 [4:05:56<1:03:07, 32.09s/it, v_num=yw_1, total_loss_train=531, kl_local_train=85.9, metric_mi|age_categorical_train=0.337]"
     ]
    },
    {
     "name": "stdout",
     "output_type": "stream",
     "text": [
      "\r\n",
      "Epoch 482/600:  80%|████████  | 482/600 [4:05:56<1:03:07, 32.09s/it, v_num=yw_1, total_loss_train=531, kl_local_train=86, metric_mi|age_categorical_train=0.337]  "
     ]
    },
    {
     "name": "stdout",
     "output_type": "stream",
     "text": [
      "\r\n",
      "Epoch 483/600:  80%|████████  | 482/600 [4:05:56<1:03:07, 32.09s/it, v_num=yw_1, total_loss_train=531, kl_local_train=86, metric_mi|age_categorical_train=0.337]"
     ]
    },
    {
     "name": "stdout",
     "output_type": "stream",
     "text": [
      "\r\n",
      "Epoch 483/600:  80%|████████  | 483/600 [4:06:28<1:02:33, 32.08s/it, v_num=yw_1, total_loss_train=531, kl_local_train=86, metric_mi|age_categorical_train=0.337]"
     ]
    },
    {
     "name": "stdout",
     "output_type": "stream",
     "text": [
      "\r\n",
      "Epoch 483/600:  80%|████████  | 483/600 [4:06:28<1:02:33, 32.08s/it, v_num=yw_1, total_loss_train=531, kl_local_train=85.5, metric_mi|age_categorical_train=0.337]"
     ]
    },
    {
     "name": "stdout",
     "output_type": "stream",
     "text": [
      "\r\n",
      "Epoch 484/600:  80%|████████  | 483/600 [4:06:28<1:02:33, 32.08s/it, v_num=yw_1, total_loss_train=531, kl_local_train=85.5, metric_mi|age_categorical_train=0.337]"
     ]
    },
    {
     "name": "stdout",
     "output_type": "stream",
     "text": [
      "\r\n",
      "Epoch 484/600:  81%|████████  | 484/600 [4:07:00<1:01:54, 32.02s/it, v_num=yw_1, total_loss_train=531, kl_local_train=85.5, metric_mi|age_categorical_train=0.337]"
     ]
    },
    {
     "name": "stdout",
     "output_type": "stream",
     "text": [
      "\r\n",
      "Epoch 484/600:  81%|████████  | 484/600 [4:07:00<1:01:54, 32.02s/it, v_num=yw_1, total_loss_train=531, kl_local_train=85.6, metric_mi|age_categorical_train=0.337]"
     ]
    },
    {
     "name": "stdout",
     "output_type": "stream",
     "text": [
      "\r\n",
      "Epoch 485/600:  81%|████████  | 484/600 [4:07:00<1:01:54, 32.02s/it, v_num=yw_1, total_loss_train=531, kl_local_train=85.6, metric_mi|age_categorical_train=0.337]"
     ]
    },
    {
     "name": "stdout",
     "output_type": "stream",
     "text": [
      "\r\n",
      "Epoch 485/600:  81%|████████  | 485/600 [4:07:32<1:01:33, 32.12s/it, v_num=yw_1, total_loss_train=531, kl_local_train=85.6, metric_mi|age_categorical_train=0.337]"
     ]
    },
    {
     "name": "stdout",
     "output_type": "stream",
     "text": [
      "\r\n",
      "Epoch 485/600:  81%|████████  | 485/600 [4:07:32<1:01:33, 32.12s/it, v_num=yw_1, total_loss_train=532, kl_local_train=85.6, metric_mi|age_categorical_train=0.337]"
     ]
    },
    {
     "name": "stdout",
     "output_type": "stream",
     "text": [
      "\r\n",
      "Epoch 486/600:  81%|████████  | 485/600 [4:07:33<1:01:33, 32.12s/it, v_num=yw_1, total_loss_train=532, kl_local_train=85.6, metric_mi|age_categorical_train=0.337]"
     ]
    },
    {
     "name": "stdout",
     "output_type": "stream",
     "text": [
      "\r\n",
      "Epoch 486/600:  81%|████████  | 486/600 [4:08:05<1:01:26, 32.34s/it, v_num=yw_1, total_loss_train=532, kl_local_train=85.6, metric_mi|age_categorical_train=0.337]"
     ]
    },
    {
     "name": "stdout",
     "output_type": "stream",
     "text": [
      "\r\n",
      "Epoch 486/600:  81%|████████  | 486/600 [4:08:05<1:01:26, 32.34s/it, v_num=yw_1, total_loss_train=531, kl_local_train=85.4, metric_mi|age_categorical_train=0.348]"
     ]
    },
    {
     "name": "stdout",
     "output_type": "stream",
     "text": [
      "\r\n",
      "Epoch 487/600:  81%|████████  | 486/600 [4:08:05<1:01:26, 32.34s/it, v_num=yw_1, total_loss_train=531, kl_local_train=85.4, metric_mi|age_categorical_train=0.348]"
     ]
    },
    {
     "name": "stdout",
     "output_type": "stream",
     "text": [
      "\r\n",
      "Epoch 487/600:  81%|████████  | 487/600 [4:08:37<1:00:45, 32.26s/it, v_num=yw_1, total_loss_train=531, kl_local_train=85.4, metric_mi|age_categorical_train=0.348]"
     ]
    },
    {
     "name": "stdout",
     "output_type": "stream",
     "text": [
      "\r\n",
      "Epoch 487/600:  81%|████████  | 487/600 [4:08:37<1:00:45, 32.26s/it, v_num=yw_1, total_loss_train=532, kl_local_train=85.6, metric_mi|age_categorical_train=0.348]"
     ]
    },
    {
     "name": "stdout",
     "output_type": "stream",
     "text": [
      "\r\n",
      "Epoch 488/600:  81%|████████  | 487/600 [4:08:37<1:00:45, 32.26s/it, v_num=yw_1, total_loss_train=532, kl_local_train=85.6, metric_mi|age_categorical_train=0.348]"
     ]
    },
    {
     "name": "stdout",
     "output_type": "stream",
     "text": [
      "\r\n",
      "Epoch 488/600:  81%|████████▏ | 488/600 [4:09:09<1:00:03, 32.18s/it, v_num=yw_1, total_loss_train=532, kl_local_train=85.6, metric_mi|age_categorical_train=0.348]"
     ]
    },
    {
     "name": "stdout",
     "output_type": "stream",
     "text": [
      "\r\n",
      "Epoch 488/600:  81%|████████▏ | 488/600 [4:09:09<1:00:03, 32.18s/it, v_num=yw_1, total_loss_train=532, kl_local_train=85.2, metric_mi|age_categorical_train=0.348]"
     ]
    },
    {
     "name": "stdout",
     "output_type": "stream",
     "text": [
      "\r\n",
      "Epoch 489/600:  81%|████████▏ | 488/600 [4:09:09<1:00:03, 32.18s/it, v_num=yw_1, total_loss_train=532, kl_local_train=85.2, metric_mi|age_categorical_train=0.348]"
     ]
    },
    {
     "name": "stdout",
     "output_type": "stream",
     "text": [
      "\r\n",
      "Epoch 489/600:  82%|████████▏ | 489/600 [4:09:41<59:27, 32.14s/it, v_num=yw_1, total_loss_train=532, kl_local_train=85.2, metric_mi|age_categorical_train=0.348]  "
     ]
    },
    {
     "name": "stdout",
     "output_type": "stream",
     "text": [
      "\r\n",
      "Epoch 489/600:  82%|████████▏ | 489/600 [4:09:41<59:27, 32.14s/it, v_num=yw_1, total_loss_train=532, kl_local_train=85.3, metric_mi|age_categorical_train=0.348]"
     ]
    },
    {
     "name": "stdout",
     "output_type": "stream",
     "text": [
      "\r\n",
      "Epoch 490/600:  82%|████████▏ | 489/600 [4:09:41<59:27, 32.14s/it, v_num=yw_1, total_loss_train=532, kl_local_train=85.3, metric_mi|age_categorical_train=0.348]"
     ]
    },
    {
     "name": "stdout",
     "output_type": "stream",
     "text": [
      "\r\n",
      "Epoch 490/600:  82%|████████▏ | 490/600 [4:10:13<58:52, 32.12s/it, v_num=yw_1, total_loss_train=532, kl_local_train=85.3, metric_mi|age_categorical_train=0.348]"
     ]
    },
    {
     "name": "stdout",
     "output_type": "stream",
     "text": [
      "\r\n",
      "Epoch 490/600:  82%|████████▏ | 490/600 [4:10:13<58:52, 32.12s/it, v_num=yw_1, total_loss_train=532, kl_local_train=85.2, metric_mi|age_categorical_train=0.348]"
     ]
    },
    {
     "name": "stdout",
     "output_type": "stream",
     "text": [
      "\r\n",
      "Epoch 491/600:  82%|████████▏ | 490/600 [4:10:14<58:52, 32.12s/it, v_num=yw_1, total_loss_train=532, kl_local_train=85.2, metric_mi|age_categorical_train=0.348]"
     ]
    },
    {
     "name": "stdout",
     "output_type": "stream",
     "text": [
      "\r\n",
      "Epoch 491/600:  82%|████████▏ | 491/600 [4:10:46<58:41, 32.30s/it, v_num=yw_1, total_loss_train=532, kl_local_train=85.2, metric_mi|age_categorical_train=0.348]"
     ]
    },
    {
     "name": "stdout",
     "output_type": "stream",
     "text": [
      "\r\n",
      "Epoch 491/600:  82%|████████▏ | 491/600 [4:10:46<58:41, 32.30s/it, v_num=yw_1, total_loss_train=532, kl_local_train=85.3, metric_mi|age_categorical_train=0.356]"
     ]
    },
    {
     "name": "stdout",
     "output_type": "stream",
     "text": [
      "\r\n",
      "Epoch 492/600:  82%|████████▏ | 491/600 [4:10:46<58:41, 32.30s/it, v_num=yw_1, total_loss_train=532, kl_local_train=85.3, metric_mi|age_categorical_train=0.356]"
     ]
    },
    {
     "name": "stdout",
     "output_type": "stream",
     "text": [
      "\r\n",
      "Epoch 492/600:  82%|████████▏ | 492/600 [4:11:18<57:56, 32.19s/it, v_num=yw_1, total_loss_train=532, kl_local_train=85.3, metric_mi|age_categorical_train=0.356]"
     ]
    },
    {
     "name": "stdout",
     "output_type": "stream",
     "text": [
      "\r\n",
      "Epoch 492/600:  82%|████████▏ | 492/600 [4:11:18<57:56, 32.19s/it, v_num=yw_1, total_loss_train=532, kl_local_train=85.1, metric_mi|age_categorical_train=0.356]"
     ]
    },
    {
     "name": "stdout",
     "output_type": "stream",
     "text": [
      "\r\n",
      "Epoch 493/600:  82%|████████▏ | 492/600 [4:11:18<57:56, 32.19s/it, v_num=yw_1, total_loss_train=532, kl_local_train=85.1, metric_mi|age_categorical_train=0.356]"
     ]
    },
    {
     "name": "stdout",
     "output_type": "stream",
     "text": [
      "\r\n",
      "Epoch 493/600:  82%|████████▏ | 493/600 [4:11:50<57:16, 32.12s/it, v_num=yw_1, total_loss_train=532, kl_local_train=85.1, metric_mi|age_categorical_train=0.356]"
     ]
    },
    {
     "name": "stdout",
     "output_type": "stream",
     "text": [
      "\r\n",
      "Epoch 493/600:  82%|████████▏ | 493/600 [4:11:50<57:16, 32.12s/it, v_num=yw_1, total_loss_train=532, kl_local_train=85, metric_mi|age_categorical_train=0.356]  "
     ]
    },
    {
     "name": "stdout",
     "output_type": "stream",
     "text": [
      "\r\n",
      "Epoch 494/600:  82%|████████▏ | 493/600 [4:11:50<57:16, 32.12s/it, v_num=yw_1, total_loss_train=532, kl_local_train=85, metric_mi|age_categorical_train=0.356]"
     ]
    },
    {
     "name": "stdout",
     "output_type": "stream",
     "text": [
      "\r\n",
      "Epoch 494/600:  82%|████████▏ | 494/600 [4:12:22<56:35, 32.04s/it, v_num=yw_1, total_loss_train=532, kl_local_train=85, metric_mi|age_categorical_train=0.356]"
     ]
    },
    {
     "name": "stdout",
     "output_type": "stream",
     "text": [
      "\r\n",
      "Epoch 494/600:  82%|████████▏ | 494/600 [4:12:22<56:35, 32.04s/it, v_num=yw_1, total_loss_train=532, kl_local_train=84.8, metric_mi|age_categorical_train=0.356]"
     ]
    },
    {
     "name": "stdout",
     "output_type": "stream",
     "text": [
      "\r\n",
      "Epoch 495/600:  82%|████████▏ | 494/600 [4:12:22<56:35, 32.04s/it, v_num=yw_1, total_loss_train=532, kl_local_train=84.8, metric_mi|age_categorical_train=0.356]"
     ]
    },
    {
     "name": "stdout",
     "output_type": "stream",
     "text": [
      "\r\n",
      "Epoch 495/600:  82%|████████▎ | 495/600 [4:12:54<56:09, 32.09s/it, v_num=yw_1, total_loss_train=532, kl_local_train=84.8, metric_mi|age_categorical_train=0.356]"
     ]
    },
    {
     "name": "stdout",
     "output_type": "stream",
     "text": [
      "\r\n",
      "Epoch 495/600:  82%|████████▎ | 495/600 [4:12:54<56:09, 32.09s/it, v_num=yw_1, total_loss_train=533, kl_local_train=85, metric_mi|age_categorical_train=0.356]  "
     ]
    },
    {
     "name": "stdout",
     "output_type": "stream",
     "text": [
      "\r\n",
      "Epoch 496/600:  82%|████████▎ | 495/600 [4:12:55<56:09, 32.09s/it, v_num=yw_1, total_loss_train=533, kl_local_train=85, metric_mi|age_categorical_train=0.356]"
     ]
    },
    {
     "name": "stdout",
     "output_type": "stream",
     "text": [
      "\r\n",
      "Epoch 496/600:  83%|████████▎ | 496/600 [4:13:27<55:54, 32.26s/it, v_num=yw_1, total_loss_train=533, kl_local_train=85, metric_mi|age_categorical_train=0.356]"
     ]
    },
    {
     "name": "stdout",
     "output_type": "stream",
     "text": [
      "\r\n",
      "Epoch 496/600:  83%|████████▎ | 496/600 [4:13:27<55:54, 32.26s/it, v_num=yw_1, total_loss_train=533, kl_local_train=84.7, metric_mi|age_categorical_train=0.354]"
     ]
    },
    {
     "name": "stdout",
     "output_type": "stream",
     "text": [
      "\r\n",
      "Epoch 497/600:  83%|████████▎ | 496/600 [4:13:27<55:54, 32.26s/it, v_num=yw_1, total_loss_train=533, kl_local_train=84.7, metric_mi|age_categorical_train=0.354]"
     ]
    },
    {
     "name": "stdout",
     "output_type": "stream",
     "text": [
      "\r\n",
      "Epoch 497/600:  83%|████████▎ | 497/600 [4:13:59<55:10, 32.14s/it, v_num=yw_1, total_loss_train=533, kl_local_train=84.7, metric_mi|age_categorical_train=0.354]"
     ]
    },
    {
     "name": "stdout",
     "output_type": "stream",
     "text": [
      "\r\n",
      "Epoch 497/600:  83%|████████▎ | 497/600 [4:13:59<55:10, 32.14s/it, v_num=yw_1, total_loss_train=532, kl_local_train=84.5, metric_mi|age_categorical_train=0.354]"
     ]
    },
    {
     "name": "stdout",
     "output_type": "stream",
     "text": [
      "\r\n",
      "Epoch 498/600:  83%|████████▎ | 497/600 [4:13:59<55:10, 32.14s/it, v_num=yw_1, total_loss_train=532, kl_local_train=84.5, metric_mi|age_categorical_train=0.354]"
     ]
    },
    {
     "name": "stdout",
     "output_type": "stream",
     "text": [
      "\r\n",
      "Epoch 498/600:  83%|████████▎ | 498/600 [4:14:31<54:32, 32.08s/it, v_num=yw_1, total_loss_train=532, kl_local_train=84.5, metric_mi|age_categorical_train=0.354]"
     ]
    },
    {
     "name": "stdout",
     "output_type": "stream",
     "text": [
      "\r\n",
      "Epoch 498/600:  83%|████████▎ | 498/600 [4:14:31<54:32, 32.08s/it, v_num=yw_1, total_loss_train=533, kl_local_train=84.4, metric_mi|age_categorical_train=0.354]"
     ]
    },
    {
     "name": "stdout",
     "output_type": "stream",
     "text": [
      "\r\n",
      "Epoch 499/600:  83%|████████▎ | 498/600 [4:14:31<54:32, 32.08s/it, v_num=yw_1, total_loss_train=533, kl_local_train=84.4, metric_mi|age_categorical_train=0.354]"
     ]
    },
    {
     "name": "stdout",
     "output_type": "stream",
     "text": [
      "\r\n",
      "Epoch 499/600:  83%|████████▎ | 499/600 [4:15:03<54:00, 32.08s/it, v_num=yw_1, total_loss_train=533, kl_local_train=84.4, metric_mi|age_categorical_train=0.354]"
     ]
    },
    {
     "name": "stdout",
     "output_type": "stream",
     "text": [
      "\r\n",
      "Epoch 499/600:  83%|████████▎ | 499/600 [4:15:03<54:00, 32.08s/it, v_num=yw_1, total_loss_train=533, kl_local_train=84.2, metric_mi|age_categorical_train=0.354]"
     ]
    },
    {
     "name": "stdout",
     "output_type": "stream",
     "text": [
      "\r\n",
      "Epoch 500/600:  83%|████████▎ | 499/600 [4:15:03<54:00, 32.08s/it, v_num=yw_1, total_loss_train=533, kl_local_train=84.2, metric_mi|age_categorical_train=0.354]"
     ]
    },
    {
     "name": "stdout",
     "output_type": "stream",
     "text": [
      "\r\n",
      "Epoch 500/600:  83%|████████▎ | 500/600 [4:15:35<53:29, 32.10s/it, v_num=yw_1, total_loss_train=533, kl_local_train=84.2, metric_mi|age_categorical_train=0.354]"
     ]
    },
    {
     "name": "stdout",
     "output_type": "stream",
     "text": [
      "\r\n",
      "Epoch 500/600:  83%|████████▎ | 500/600 [4:15:35<53:29, 32.10s/it, v_num=yw_1, total_loss_train=533, kl_local_train=84.2, metric_mi|age_categorical_train=0.354]"
     ]
    },
    {
     "name": "stdout",
     "output_type": "stream",
     "text": [
      "\r\n",
      "Epoch 501/600:  83%|████████▎ | 500/600 [4:15:35<53:29, 32.10s/it, v_num=yw_1, total_loss_train=533, kl_local_train=84.2, metric_mi|age_categorical_train=0.354]"
     ]
    },
    {
     "name": "stdout",
     "output_type": "stream",
     "text": [
      "\r\n",
      "Epoch 501/600:  84%|████████▎ | 501/600 [4:16:07<53:15, 32.28s/it, v_num=yw_1, total_loss_train=533, kl_local_train=84.2, metric_mi|age_categorical_train=0.354]"
     ]
    },
    {
     "name": "stdout",
     "output_type": "stream",
     "text": [
      "\r\n",
      "Epoch 501/600:  84%|████████▎ | 501/600 [4:16:07<53:15, 32.28s/it, v_num=yw_1, total_loss_train=533, kl_local_train=84.2, metric_mi|age_categorical_train=0.364]"
     ]
    },
    {
     "name": "stdout",
     "output_type": "stream",
     "text": [
      "\r\n",
      "Epoch 502/600:  84%|████████▎ | 501/600 [4:16:08<53:15, 32.28s/it, v_num=yw_1, total_loss_train=533, kl_local_train=84.2, metric_mi|age_categorical_train=0.364]"
     ]
    },
    {
     "name": "stdout",
     "output_type": "stream",
     "text": [
      "\r\n",
      "Epoch 502/600:  84%|████████▎ | 502/600 [4:16:40<52:39, 32.24s/it, v_num=yw_1, total_loss_train=533, kl_local_train=84.2, metric_mi|age_categorical_train=0.364]"
     ]
    },
    {
     "name": "stdout",
     "output_type": "stream",
     "text": [
      "\r\n",
      "Epoch 502/600:  84%|████████▎ | 502/600 [4:16:40<52:39, 32.24s/it, v_num=yw_1, total_loss_train=533, kl_local_train=84.2, metric_mi|age_categorical_train=0.364]"
     ]
    },
    {
     "name": "stdout",
     "output_type": "stream",
     "text": [
      "\r\n",
      "Epoch 503/600:  84%|████████▎ | 502/600 [4:16:40<52:39, 32.24s/it, v_num=yw_1, total_loss_train=533, kl_local_train=84.2, metric_mi|age_categorical_train=0.364]"
     ]
    },
    {
     "name": "stdout",
     "output_type": "stream",
     "text": [
      "\r\n",
      "Epoch 503/600:  84%|████████▍ | 503/600 [4:17:12<52:05, 32.22s/it, v_num=yw_1, total_loss_train=533, kl_local_train=84.2, metric_mi|age_categorical_train=0.364]"
     ]
    },
    {
     "name": "stdout",
     "output_type": "stream",
     "text": [
      "\r\n",
      "Epoch 503/600:  84%|████████▍ | 503/600 [4:17:12<52:05, 32.22s/it, v_num=yw_1, total_loss_train=533, kl_local_train=84, metric_mi|age_categorical_train=0.364]  "
     ]
    },
    {
     "name": "stdout",
     "output_type": "stream",
     "text": [
      "\r\n",
      "Epoch 504/600:  84%|████████▍ | 503/600 [4:17:12<52:05, 32.22s/it, v_num=yw_1, total_loss_train=533, kl_local_train=84, metric_mi|age_categorical_train=0.364]"
     ]
    },
    {
     "name": "stdout",
     "output_type": "stream",
     "text": [
      "\r\n",
      "Epoch 504/600:  84%|████████▍ | 504/600 [4:17:44<51:31, 32.20s/it, v_num=yw_1, total_loss_train=533, kl_local_train=84, metric_mi|age_categorical_train=0.364]"
     ]
    },
    {
     "name": "stdout",
     "output_type": "stream",
     "text": [
      "\r\n",
      "Epoch 504/600:  84%|████████▍ | 504/600 [4:17:44<51:31, 32.20s/it, v_num=yw_1, total_loss_train=534, kl_local_train=83.9, metric_mi|age_categorical_train=0.364]"
     ]
    },
    {
     "name": "stdout",
     "output_type": "stream",
     "text": [
      "\r\n",
      "Epoch 505/600:  84%|████████▍ | 504/600 [4:17:44<51:31, 32.20s/it, v_num=yw_1, total_loss_train=534, kl_local_train=83.9, metric_mi|age_categorical_train=0.364]"
     ]
    },
    {
     "name": "stdout",
     "output_type": "stream",
     "text": [
      "\r\n",
      "Epoch 505/600:  84%|████████▍ | 505/600 [4:18:16<50:57, 32.18s/it, v_num=yw_1, total_loss_train=534, kl_local_train=83.9, metric_mi|age_categorical_train=0.364]"
     ]
    },
    {
     "name": "stdout",
     "output_type": "stream",
     "text": [
      "\r\n",
      "Epoch 505/600:  84%|████████▍ | 505/600 [4:18:16<50:57, 32.18s/it, v_num=yw_1, total_loss_train=534, kl_local_train=83.8, metric_mi|age_categorical_train=0.364]"
     ]
    },
    {
     "name": "stdout",
     "output_type": "stream",
     "text": [
      "\r\n",
      "Epoch 506/600:  84%|████████▍ | 505/600 [4:18:17<50:57, 32.18s/it, v_num=yw_1, total_loss_train=534, kl_local_train=83.8, metric_mi|age_categorical_train=0.364]"
     ]
    },
    {
     "name": "stdout",
     "output_type": "stream",
     "text": [
      "\r\n",
      "Epoch 506/600:  84%|████████▍ | 506/600 [4:18:49<50:39, 32.34s/it, v_num=yw_1, total_loss_train=534, kl_local_train=83.8, metric_mi|age_categorical_train=0.364]"
     ]
    },
    {
     "name": "stdout",
     "output_type": "stream",
     "text": [
      "\r\n",
      "Epoch 506/600:  84%|████████▍ | 506/600 [4:18:49<50:39, 32.34s/it, v_num=yw_1, total_loss_train=533, kl_local_train=83.6, metric_mi|age_categorical_train=0.355]"
     ]
    },
    {
     "name": "stdout",
     "output_type": "stream",
     "text": [
      "\r\n",
      "Epoch 507/600:  84%|████████▍ | 506/600 [4:18:49<50:39, 32.34s/it, v_num=yw_1, total_loss_train=533, kl_local_train=83.6, metric_mi|age_categorical_train=0.355]"
     ]
    },
    {
     "name": "stdout",
     "output_type": "stream",
     "text": [
      "\r\n",
      "Epoch 507/600:  84%|████████▍ | 507/600 [4:19:21<49:58, 32.24s/it, v_num=yw_1, total_loss_train=533, kl_local_train=83.6, metric_mi|age_categorical_train=0.355]"
     ]
    },
    {
     "name": "stdout",
     "output_type": "stream",
     "text": [
      "\r\n",
      "Epoch 507/600:  84%|████████▍ | 507/600 [4:19:21<49:58, 32.24s/it, v_num=yw_1, total_loss_train=534, kl_local_train=83.9, metric_mi|age_categorical_train=0.355]"
     ]
    },
    {
     "name": "stdout",
     "output_type": "stream",
     "text": [
      "\r\n",
      "Epoch 508/600:  84%|████████▍ | 507/600 [4:19:21<49:58, 32.24s/it, v_num=yw_1, total_loss_train=534, kl_local_train=83.9, metric_mi|age_categorical_train=0.355]"
     ]
    },
    {
     "name": "stdout",
     "output_type": "stream",
     "text": [
      "\r\n",
      "Epoch 508/600:  85%|████████▍ | 508/600 [4:19:53<49:21, 32.19s/it, v_num=yw_1, total_loss_train=534, kl_local_train=83.9, metric_mi|age_categorical_train=0.355]"
     ]
    },
    {
     "name": "stdout",
     "output_type": "stream",
     "text": [
      "\r\n",
      "Epoch 508/600:  85%|████████▍ | 508/600 [4:19:53<49:21, 32.19s/it, v_num=yw_1, total_loss_train=534, kl_local_train=83.8, metric_mi|age_categorical_train=0.355]"
     ]
    },
    {
     "name": "stdout",
     "output_type": "stream",
     "text": [
      "\r\n",
      "Epoch 509/600:  85%|████████▍ | 508/600 [4:19:53<49:21, 32.19s/it, v_num=yw_1, total_loss_train=534, kl_local_train=83.8, metric_mi|age_categorical_train=0.355]"
     ]
    },
    {
     "name": "stdout",
     "output_type": "stream",
     "text": [
      "\r\n",
      "Epoch 509/600:  85%|████████▍ | 509/600 [4:20:25<48:47, 32.17s/it, v_num=yw_1, total_loss_train=534, kl_local_train=83.8, metric_mi|age_categorical_train=0.355]"
     ]
    },
    {
     "name": "stdout",
     "output_type": "stream",
     "text": [
      "\r\n",
      "Epoch 509/600:  85%|████████▍ | 509/600 [4:20:25<48:47, 32.17s/it, v_num=yw_1, total_loss_train=534, kl_local_train=83.5, metric_mi|age_categorical_train=0.355]"
     ]
    },
    {
     "name": "stdout",
     "output_type": "stream",
     "text": [
      "\r\n",
      "Epoch 510/600:  85%|████████▍ | 509/600 [4:20:25<48:47, 32.17s/it, v_num=yw_1, total_loss_train=534, kl_local_train=83.5, metric_mi|age_categorical_train=0.355]"
     ]
    },
    {
     "name": "stdout",
     "output_type": "stream",
     "text": [
      "\r\n",
      "Epoch 510/600:  85%|████████▌ | 510/600 [4:20:57<48:13, 32.15s/it, v_num=yw_1, total_loss_train=534, kl_local_train=83.5, metric_mi|age_categorical_train=0.355]"
     ]
    },
    {
     "name": "stdout",
     "output_type": "stream",
     "text": [
      "\r\n",
      "Epoch 510/600:  85%|████████▌ | 510/600 [4:20:57<48:13, 32.15s/it, v_num=yw_1, total_loss_train=534, kl_local_train=83.7, metric_mi|age_categorical_train=0.355]"
     ]
    },
    {
     "name": "stdout",
     "output_type": "stream",
     "text": [
      "\r\n",
      "Epoch 511/600:  85%|████████▌ | 510/600 [4:20:58<48:13, 32.15s/it, v_num=yw_1, total_loss_train=534, kl_local_train=83.7, metric_mi|age_categorical_train=0.355]"
     ]
    },
    {
     "name": "stdout",
     "output_type": "stream",
     "text": [
      "\r\n",
      "Epoch 511/600:  85%|████████▌ | 511/600 [4:21:30<47:59, 32.35s/it, v_num=yw_1, total_loss_train=534, kl_local_train=83.7, metric_mi|age_categorical_train=0.355]"
     ]
    },
    {
     "name": "stdout",
     "output_type": "stream",
     "text": [
      "\r\n",
      "Epoch 511/600:  85%|████████▌ | 511/600 [4:21:30<47:59, 32.35s/it, v_num=yw_1, total_loss_train=535, kl_local_train=83.8, metric_mi|age_categorical_train=0.335]"
     ]
    },
    {
     "name": "stdout",
     "output_type": "stream",
     "text": [
      "\r\n",
      "Epoch 512/600:  85%|████████▌ | 511/600 [4:21:30<47:59, 32.35s/it, v_num=yw_1, total_loss_train=535, kl_local_train=83.8, metric_mi|age_categorical_train=0.335]"
     ]
    },
    {
     "name": "stdout",
     "output_type": "stream",
     "text": [
      "\r\n",
      "Epoch 512/600:  85%|████████▌ | 512/600 [4:22:02<47:23, 32.31s/it, v_num=yw_1, total_loss_train=535, kl_local_train=83.8, metric_mi|age_categorical_train=0.335]"
     ]
    },
    {
     "name": "stdout",
     "output_type": "stream",
     "text": [
      "\r\n",
      "Epoch 512/600:  85%|████████▌ | 512/600 [4:22:02<47:23, 32.31s/it, v_num=yw_1, total_loss_train=534, kl_local_train=83.5, metric_mi|age_categorical_train=0.335]"
     ]
    },
    {
     "name": "stdout",
     "output_type": "stream",
     "text": [
      "\r\n",
      "Epoch 513/600:  85%|████████▌ | 512/600 [4:22:02<47:23, 32.31s/it, v_num=yw_1, total_loss_train=534, kl_local_train=83.5, metric_mi|age_categorical_train=0.335]"
     ]
    },
    {
     "name": "stdout",
     "output_type": "stream",
     "text": [
      "\r\n",
      "Epoch 513/600:  86%|████████▌ | 513/600 [4:22:34<46:49, 32.29s/it, v_num=yw_1, total_loss_train=534, kl_local_train=83.5, metric_mi|age_categorical_train=0.335]"
     ]
    },
    {
     "name": "stdout",
     "output_type": "stream",
     "text": [
      "\r\n",
      "Epoch 513/600:  86%|████████▌ | 513/600 [4:22:34<46:49, 32.29s/it, v_num=yw_1, total_loss_train=534, kl_local_train=83.5, metric_mi|age_categorical_train=0.335]"
     ]
    },
    {
     "name": "stdout",
     "output_type": "stream",
     "text": [
      "\r\n",
      "Epoch 514/600:  86%|████████▌ | 513/600 [4:22:34<46:49, 32.29s/it, v_num=yw_1, total_loss_train=534, kl_local_train=83.5, metric_mi|age_categorical_train=0.335]"
     ]
    },
    {
     "name": "stdout",
     "output_type": "stream",
     "text": [
      "\r\n",
      "Epoch 514/600:  86%|████████▌ | 514/600 [4:23:07<46:19, 32.32s/it, v_num=yw_1, total_loss_train=534, kl_local_train=83.5, metric_mi|age_categorical_train=0.335]"
     ]
    },
    {
     "name": "stdout",
     "output_type": "stream",
     "text": [
      "\r\n",
      "Epoch 514/600:  86%|████████▌ | 514/600 [4:23:07<46:19, 32.32s/it, v_num=yw_1, total_loss_train=534, kl_local_train=83.2, metric_mi|age_categorical_train=0.335]"
     ]
    },
    {
     "name": "stdout",
     "output_type": "stream",
     "text": [
      "\r\n",
      "Epoch 515/600:  86%|████████▌ | 514/600 [4:23:07<46:19, 32.32s/it, v_num=yw_1, total_loss_train=534, kl_local_train=83.2, metric_mi|age_categorical_train=0.335]"
     ]
    },
    {
     "name": "stdout",
     "output_type": "stream",
     "text": [
      "\r\n",
      "Epoch 515/600:  86%|████████▌ | 515/600 [4:23:39<45:44, 32.29s/it, v_num=yw_1, total_loss_train=534, kl_local_train=83.2, metric_mi|age_categorical_train=0.335]"
     ]
    },
    {
     "name": "stdout",
     "output_type": "stream",
     "text": [
      "\r\n",
      "Epoch 515/600:  86%|████████▌ | 515/600 [4:23:39<45:44, 32.29s/it, v_num=yw_1, total_loss_train=535, kl_local_train=83.5, metric_mi|age_categorical_train=0.335]"
     ]
    },
    {
     "name": "stdout",
     "output_type": "stream",
     "text": [
      "\r\n",
      "Epoch 516/600:  86%|████████▌ | 515/600 [4:23:40<45:44, 32.29s/it, v_num=yw_1, total_loss_train=535, kl_local_train=83.5, metric_mi|age_categorical_train=0.335]"
     ]
    },
    {
     "name": "stdout",
     "output_type": "stream",
     "text": [
      "\r\n",
      "Epoch 516/600:  86%|████████▌ | 516/600 [4:24:12<45:25, 32.45s/it, v_num=yw_1, total_loss_train=535, kl_local_train=83.5, metric_mi|age_categorical_train=0.335]"
     ]
    },
    {
     "name": "stdout",
     "output_type": "stream",
     "text": [
      "\r\n",
      "Epoch 516/600:  86%|████████▌ | 516/600 [4:24:12<45:25, 32.45s/it, v_num=yw_1, total_loss_train=535, kl_local_train=83.2, metric_mi|age_categorical_train=0.333]"
     ]
    },
    {
     "name": "stdout",
     "output_type": "stream",
     "text": [
      "\r\n",
      "Epoch 517/600:  86%|████████▌ | 516/600 [4:24:12<45:25, 32.45s/it, v_num=yw_1, total_loss_train=535, kl_local_train=83.2, metric_mi|age_categorical_train=0.333]"
     ]
    },
    {
     "name": "stdout",
     "output_type": "stream",
     "text": [
      "\r\n",
      "Epoch 517/600:  86%|████████▌ | 517/600 [4:24:44<44:44, 32.34s/it, v_num=yw_1, total_loss_train=535, kl_local_train=83.2, metric_mi|age_categorical_train=0.333]"
     ]
    },
    {
     "name": "stdout",
     "output_type": "stream",
     "text": [
      "\r\n",
      "Epoch 517/600:  86%|████████▌ | 517/600 [4:24:44<44:44, 32.34s/it, v_num=yw_1, total_loss_train=535, kl_local_train=82.6, metric_mi|age_categorical_train=0.333]"
     ]
    },
    {
     "name": "stdout",
     "output_type": "stream",
     "text": [
      "\r\n",
      "Epoch 518/600:  86%|████████▌ | 517/600 [4:24:44<44:44, 32.34s/it, v_num=yw_1, total_loss_train=535, kl_local_train=82.6, metric_mi|age_categorical_train=0.333]"
     ]
    },
    {
     "name": "stdout",
     "output_type": "stream",
     "text": [
      "\r\n",
      "Epoch 518/600:  86%|████████▋ | 518/600 [4:25:16<44:06, 32.27s/it, v_num=yw_1, total_loss_train=535, kl_local_train=82.6, metric_mi|age_categorical_train=0.333]"
     ]
    },
    {
     "name": "stdout",
     "output_type": "stream",
     "text": [
      "\r\n",
      "Epoch 518/600:  86%|████████▋ | 518/600 [4:25:16<44:06, 32.27s/it, v_num=yw_1, total_loss_train=535, kl_local_train=82.9, metric_mi|age_categorical_train=0.333]"
     ]
    },
    {
     "name": "stdout",
     "output_type": "stream",
     "text": [
      "\r\n",
      "Epoch 519/600:  86%|████████▋ | 518/600 [4:25:16<44:06, 32.27s/it, v_num=yw_1, total_loss_train=535, kl_local_train=82.9, metric_mi|age_categorical_train=0.333]"
     ]
    },
    {
     "name": "stdout",
     "output_type": "stream",
     "text": [
      "\r\n",
      "Epoch 519/600:  86%|████████▋ | 519/600 [4:25:48<43:29, 32.22s/it, v_num=yw_1, total_loss_train=535, kl_local_train=82.9, metric_mi|age_categorical_train=0.333]"
     ]
    },
    {
     "name": "stdout",
     "output_type": "stream",
     "text": [
      "\r\n",
      "Epoch 519/600:  86%|████████▋ | 519/600 [4:25:48<43:29, 32.22s/it, v_num=yw_1, total_loss_train=535, kl_local_train=83.1, metric_mi|age_categorical_train=0.333]"
     ]
    },
    {
     "name": "stdout",
     "output_type": "stream",
     "text": [
      "\r\n",
      "Epoch 520/600:  86%|████████▋ | 519/600 [4:25:48<43:29, 32.22s/it, v_num=yw_1, total_loss_train=535, kl_local_train=83.1, metric_mi|age_categorical_train=0.333]"
     ]
    },
    {
     "name": "stdout",
     "output_type": "stream",
     "text": [
      "\r\n",
      "Epoch 520/600:  87%|████████▋ | 520/600 [4:26:20<42:57, 32.22s/it, v_num=yw_1, total_loss_train=535, kl_local_train=83.1, metric_mi|age_categorical_train=0.333]"
     ]
    },
    {
     "name": "stdout",
     "output_type": "stream",
     "text": [
      "\r\n",
      "Epoch 520/600:  87%|████████▋ | 520/600 [4:26:20<42:57, 32.22s/it, v_num=yw_1, total_loss_train=535, kl_local_train=82.7, metric_mi|age_categorical_train=0.333]"
     ]
    },
    {
     "name": "stdout",
     "output_type": "stream",
     "text": [
      "\r\n",
      "Epoch 521/600:  87%|████████▋ | 520/600 [4:26:21<42:57, 32.22s/it, v_num=yw_1, total_loss_train=535, kl_local_train=82.7, metric_mi|age_categorical_train=0.333]"
     ]
    },
    {
     "name": "stdout",
     "output_type": "stream",
     "text": [
      "\r\n",
      "Epoch 521/600:  87%|████████▋ | 521/600 [4:26:53<42:33, 32.33s/it, v_num=yw_1, total_loss_train=535, kl_local_train=82.7, metric_mi|age_categorical_train=0.333]"
     ]
    },
    {
     "name": "stdout",
     "output_type": "stream",
     "text": [
      "\r\n",
      "Epoch 521/600:  87%|████████▋ | 521/600 [4:26:53<42:33, 32.33s/it, v_num=yw_1, total_loss_train=535, kl_local_train=82.5, metric_mi|age_categorical_train=0.337]"
     ]
    },
    {
     "name": "stdout",
     "output_type": "stream",
     "text": [
      "\r\n",
      "Epoch 522/600:  87%|████████▋ | 521/600 [4:26:53<42:33, 32.33s/it, v_num=yw_1, total_loss_train=535, kl_local_train=82.5, metric_mi|age_categorical_train=0.337]"
     ]
    },
    {
     "name": "stdout",
     "output_type": "stream",
     "text": [
      "\r\n",
      "Epoch 522/600:  87%|████████▋ | 522/600 [4:27:25<42:00, 32.31s/it, v_num=yw_1, total_loss_train=535, kl_local_train=82.5, metric_mi|age_categorical_train=0.337]"
     ]
    },
    {
     "name": "stdout",
     "output_type": "stream",
     "text": [
      "\r\n",
      "Epoch 522/600:  87%|████████▋ | 522/600 [4:27:25<42:00, 32.31s/it, v_num=yw_1, total_loss_train=535, kl_local_train=82.5, metric_mi|age_categorical_train=0.337]"
     ]
    },
    {
     "name": "stdout",
     "output_type": "stream",
     "text": [
      "\r\n",
      "Epoch 523/600:  87%|████████▋ | 522/600 [4:27:25<42:00, 32.31s/it, v_num=yw_1, total_loss_train=535, kl_local_train=82.5, metric_mi|age_categorical_train=0.337]"
     ]
    },
    {
     "name": "stdout",
     "output_type": "stream",
     "text": [
      "\r\n",
      "Epoch 523/600:  87%|████████▋ | 523/600 [4:27:57<41:17, 32.18s/it, v_num=yw_1, total_loss_train=535, kl_local_train=82.5, metric_mi|age_categorical_train=0.337]"
     ]
    },
    {
     "name": "stdout",
     "output_type": "stream",
     "text": [
      "\r\n",
      "Epoch 523/600:  87%|████████▋ | 523/600 [4:27:57<41:17, 32.18s/it, v_num=yw_1, total_loss_train=535, kl_local_train=82.5, metric_mi|age_categorical_train=0.337]"
     ]
    },
    {
     "name": "stdout",
     "output_type": "stream",
     "text": [
      "\r\n",
      "Epoch 524/600:  87%|████████▋ | 523/600 [4:27:57<41:17, 32.18s/it, v_num=yw_1, total_loss_train=535, kl_local_train=82.5, metric_mi|age_categorical_train=0.337]"
     ]
    },
    {
     "name": "stdout",
     "output_type": "stream",
     "text": [
      "\r\n",
      "Epoch 524/600:  87%|████████▋ | 524/600 [4:28:30<40:52, 32.27s/it, v_num=yw_1, total_loss_train=535, kl_local_train=82.5, metric_mi|age_categorical_train=0.337]"
     ]
    },
    {
     "name": "stdout",
     "output_type": "stream",
     "text": [
      "\r\n",
      "Epoch 524/600:  87%|████████▋ | 524/600 [4:28:30<40:52, 32.27s/it, v_num=yw_1, total_loss_train=536, kl_local_train=82.5, metric_mi|age_categorical_train=0.337]"
     ]
    },
    {
     "name": "stdout",
     "output_type": "stream",
     "text": [
      "\r\n",
      "Epoch 525/600:  87%|████████▋ | 524/600 [4:28:30<40:52, 32.27s/it, v_num=yw_1, total_loss_train=536, kl_local_train=82.5, metric_mi|age_categorical_train=0.337]"
     ]
    },
    {
     "name": "stdout",
     "output_type": "stream",
     "text": [
      "\r\n",
      "Epoch 525/600:  88%|████████▊ | 525/600 [4:29:02<40:15, 32.21s/it, v_num=yw_1, total_loss_train=536, kl_local_train=82.5, metric_mi|age_categorical_train=0.337]"
     ]
    },
    {
     "name": "stdout",
     "output_type": "stream",
     "text": [
      "\r\n",
      "Epoch 525/600:  88%|████████▊ | 525/600 [4:29:02<40:15, 32.21s/it, v_num=yw_1, total_loss_train=535, kl_local_train=82.2, metric_mi|age_categorical_train=0.337]"
     ]
    },
    {
     "name": "stdout",
     "output_type": "stream",
     "text": [
      "\r\n",
      "Epoch 526/600:  88%|████████▊ | 525/600 [4:29:02<40:15, 32.21s/it, v_num=yw_1, total_loss_train=535, kl_local_train=82.2, metric_mi|age_categorical_train=0.337]"
     ]
    },
    {
     "name": "stdout",
     "output_type": "stream",
     "text": [
      "\r\n",
      "Epoch 526/600:  88%|████████▊ | 526/600 [4:29:34<39:52, 32.34s/it, v_num=yw_1, total_loss_train=535, kl_local_train=82.2, metric_mi|age_categorical_train=0.337]"
     ]
    },
    {
     "name": "stdout",
     "output_type": "stream",
     "text": [
      "\r\n",
      "Epoch 526/600:  88%|████████▊ | 526/600 [4:29:34<39:52, 32.34s/it, v_num=yw_1, total_loss_train=536, kl_local_train=82.2, metric_mi|age_categorical_train=0.34] "
     ]
    },
    {
     "name": "stdout",
     "output_type": "stream",
     "text": [
      "\r\n",
      "Epoch 527/600:  88%|████████▊ | 526/600 [4:29:34<39:52, 32.34s/it, v_num=yw_1, total_loss_train=536, kl_local_train=82.2, metric_mi|age_categorical_train=0.34]"
     ]
    },
    {
     "name": "stdout",
     "output_type": "stream",
     "text": [
      "\r\n",
      "Epoch 527/600:  88%|████████▊ | 527/600 [4:30:06<39:14, 32.25s/it, v_num=yw_1, total_loss_train=536, kl_local_train=82.2, metric_mi|age_categorical_train=0.34]"
     ]
    },
    {
     "name": "stdout",
     "output_type": "stream",
     "text": [
      "\r\n",
      "Epoch 527/600:  88%|████████▊ | 527/600 [4:30:06<39:14, 32.25s/it, v_num=yw_1, total_loss_train=536, kl_local_train=82.2, metric_mi|age_categorical_train=0.34]"
     ]
    },
    {
     "name": "stdout",
     "output_type": "stream",
     "text": [
      "\r\n",
      "Epoch 528/600:  88%|████████▊ | 527/600 [4:30:06<39:14, 32.25s/it, v_num=yw_1, total_loss_train=536, kl_local_train=82.2, metric_mi|age_categorical_train=0.34]"
     ]
    },
    {
     "name": "stdout",
     "output_type": "stream",
     "text": [
      "\r\n",
      "Epoch 528/600:  88%|████████▊ | 528/600 [4:30:39<38:41, 32.24s/it, v_num=yw_1, total_loss_train=536, kl_local_train=82.2, metric_mi|age_categorical_train=0.34]"
     ]
    },
    {
     "name": "stdout",
     "output_type": "stream",
     "text": [
      "\r\n",
      "Epoch 528/600:  88%|████████▊ | 528/600 [4:30:39<38:41, 32.24s/it, v_num=yw_1, total_loss_train=536, kl_local_train=82, metric_mi|age_categorical_train=0.34]  "
     ]
    },
    {
     "name": "stdout",
     "output_type": "stream",
     "text": [
      "\r\n",
      "Epoch 529/600:  88%|████████▊ | 528/600 [4:30:39<38:41, 32.24s/it, v_num=yw_1, total_loss_train=536, kl_local_train=82, metric_mi|age_categorical_train=0.34]"
     ]
    },
    {
     "name": "stdout",
     "output_type": "stream",
     "text": [
      "\r\n",
      "Epoch 529/600:  88%|████████▊ | 529/600 [4:31:11<38:07, 32.22s/it, v_num=yw_1, total_loss_train=536, kl_local_train=82, metric_mi|age_categorical_train=0.34]"
     ]
    },
    {
     "name": "stdout",
     "output_type": "stream",
     "text": [
      "\r\n",
      "Epoch 529/600:  88%|████████▊ | 529/600 [4:31:11<38:07, 32.22s/it, v_num=yw_1, total_loss_train=536, kl_local_train=81.9, metric_mi|age_categorical_train=0.34]"
     ]
    },
    {
     "name": "stdout",
     "output_type": "stream",
     "text": [
      "\r\n",
      "Epoch 530/600:  88%|████████▊ | 529/600 [4:31:11<38:07, 32.22s/it, v_num=yw_1, total_loss_train=536, kl_local_train=81.9, metric_mi|age_categorical_train=0.34]"
     ]
    },
    {
     "name": "stdout",
     "output_type": "stream",
     "text": [
      "\r\n",
      "Epoch 530/600:  88%|████████▊ | 530/600 [4:31:43<37:35, 32.22s/it, v_num=yw_1, total_loss_train=536, kl_local_train=81.9, metric_mi|age_categorical_train=0.34]"
     ]
    },
    {
     "name": "stdout",
     "output_type": "stream",
     "text": [
      "\r\n",
      "Epoch 530/600:  88%|████████▊ | 530/600 [4:31:43<37:35, 32.22s/it, v_num=yw_1, total_loss_train=536, kl_local_train=82, metric_mi|age_categorical_train=0.34]  "
     ]
    },
    {
     "name": "stdout",
     "output_type": "stream",
     "text": [
      "\r\n",
      "Epoch 531/600:  88%|████████▊ | 530/600 [4:31:44<37:35, 32.22s/it, v_num=yw_1, total_loss_train=536, kl_local_train=82, metric_mi|age_categorical_train=0.34]"
     ]
    },
    {
     "name": "stdout",
     "output_type": "stream",
     "text": [
      "\r\n",
      "Epoch 531/600:  88%|████████▊ | 531/600 [4:32:14<36:29, 31.74s/it, v_num=yw_1, total_loss_train=536, kl_local_train=82, metric_mi|age_categorical_train=0.34]"
     ]
    },
    {
     "name": "stdout",
     "output_type": "stream",
     "text": [
      "\r\n",
      "Epoch 531/600:  88%|████████▊ | 531/600 [4:32:14<36:29, 31.74s/it, v_num=yw_1, total_loss_train=536, kl_local_train=81.9, metric_mi|age_categorical_train=0.334]"
     ]
    },
    {
     "name": "stdout",
     "output_type": "stream",
     "text": [
      "\r\n",
      "Epoch 532/600:  88%|████████▊ | 531/600 [4:32:14<36:29, 31.74s/it, v_num=yw_1, total_loss_train=536, kl_local_train=81.9, metric_mi|age_categorical_train=0.334]"
     ]
    },
    {
     "name": "stdout",
     "output_type": "stream",
     "text": [
      "\r\n",
      "Epoch 532/600:  89%|████████▊ | 532/600 [4:32:43<35:06, 30.97s/it, v_num=yw_1, total_loss_train=536, kl_local_train=81.9, metric_mi|age_categorical_train=0.334]"
     ]
    },
    {
     "name": "stdout",
     "output_type": "stream",
     "text": [
      "\r\n",
      "Epoch 532/600:  89%|████████▊ | 532/600 [4:32:43<35:06, 30.97s/it, v_num=yw_1, total_loss_train=536, kl_local_train=81.7, metric_mi|age_categorical_train=0.334]"
     ]
    },
    {
     "name": "stdout",
     "output_type": "stream",
     "text": [
      "\r\n",
      "Epoch 533/600:  89%|████████▊ | 532/600 [4:32:43<35:06, 30.97s/it, v_num=yw_1, total_loss_train=536, kl_local_train=81.7, metric_mi|age_categorical_train=0.334]"
     ]
    },
    {
     "name": "stdout",
     "output_type": "stream",
     "text": [
      "\r\n",
      "Epoch 533/600:  89%|████████▉ | 533/600 [4:33:12<34:01, 30.47s/it, v_num=yw_1, total_loss_train=536, kl_local_train=81.7, metric_mi|age_categorical_train=0.334]"
     ]
    },
    {
     "name": "stdout",
     "output_type": "stream",
     "text": [
      "\r\n",
      "Epoch 533/600:  89%|████████▉ | 533/600 [4:33:12<34:01, 30.47s/it, v_num=yw_1, total_loss_train=536, kl_local_train=81.8, metric_mi|age_categorical_train=0.334]"
     ]
    },
    {
     "name": "stdout",
     "output_type": "stream",
     "text": [
      "\r\n",
      "Epoch 534/600:  89%|████████▉ | 533/600 [4:33:12<34:01, 30.47s/it, v_num=yw_1, total_loss_train=536, kl_local_train=81.8, metric_mi|age_categorical_train=0.334]"
     ]
    },
    {
     "name": "stdout",
     "output_type": "stream",
     "text": [
      "\r\n",
      "Epoch 534/600:  89%|████████▉ | 534/600 [4:33:41<33:05, 30.08s/it, v_num=yw_1, total_loss_train=536, kl_local_train=81.8, metric_mi|age_categorical_train=0.334]"
     ]
    },
    {
     "name": "stdout",
     "output_type": "stream",
     "text": [
      "\r\n",
      "Epoch 534/600:  89%|████████▉ | 534/600 [4:33:41<33:05, 30.08s/it, v_num=yw_1, total_loss_train=536, kl_local_train=81.7, metric_mi|age_categorical_train=0.334]"
     ]
    },
    {
     "name": "stdout",
     "output_type": "stream",
     "text": [
      "\r\n",
      "Epoch 535/600:  89%|████████▉ | 534/600 [4:33:41<33:05, 30.08s/it, v_num=yw_1, total_loss_train=536, kl_local_train=81.7, metric_mi|age_categorical_train=0.334]"
     ]
    },
    {
     "name": "stdout",
     "output_type": "stream",
     "text": [
      "\r\n",
      "Epoch 535/600:  89%|████████▉ | 535/600 [4:34:10<32:18, 29.83s/it, v_num=yw_1, total_loss_train=536, kl_local_train=81.7, metric_mi|age_categorical_train=0.334]"
     ]
    },
    {
     "name": "stdout",
     "output_type": "stream",
     "text": [
      "\r\n",
      "Epoch 535/600:  89%|████████▉ | 535/600 [4:34:10<32:18, 29.83s/it, v_num=yw_1, total_loss_train=537, kl_local_train=81.7, metric_mi|age_categorical_train=0.334]"
     ]
    },
    {
     "name": "stdout",
     "output_type": "stream",
     "text": [
      "\r\n",
      "Epoch 536/600:  89%|████████▉ | 535/600 [4:34:11<32:18, 29.83s/it, v_num=yw_1, total_loss_train=537, kl_local_train=81.7, metric_mi|age_categorical_train=0.334]"
     ]
    },
    {
     "name": "stdout",
     "output_type": "stream",
     "text": [
      "\r\n",
      "Epoch 536/600:  89%|████████▉ | 536/600 [4:34:40<31:47, 29.81s/it, v_num=yw_1, total_loss_train=537, kl_local_train=81.7, metric_mi|age_categorical_train=0.334]"
     ]
    },
    {
     "name": "stdout",
     "output_type": "stream",
     "text": [
      "\r\n",
      "Epoch 536/600:  89%|████████▉ | 536/600 [4:34:40<31:47, 29.81s/it, v_num=yw_1, total_loss_train=536, kl_local_train=81.4, metric_mi|age_categorical_train=0.328]"
     ]
    },
    {
     "name": "stdout",
     "output_type": "stream",
     "text": [
      "\r\n",
      "Epoch 537/600:  89%|████████▉ | 536/600 [4:34:40<31:47, 29.81s/it, v_num=yw_1, total_loss_train=536, kl_local_train=81.4, metric_mi|age_categorical_train=0.328]"
     ]
    },
    {
     "name": "stdout",
     "output_type": "stream",
     "text": [
      "\r\n",
      "Epoch 537/600:  90%|████████▉ | 537/600 [4:35:09<31:06, 29.62s/it, v_num=yw_1, total_loss_train=536, kl_local_train=81.4, metric_mi|age_categorical_train=0.328]"
     ]
    },
    {
     "name": "stdout",
     "output_type": "stream",
     "text": [
      "\r\n",
      "Epoch 537/600:  90%|████████▉ | 537/600 [4:35:09<31:06, 29.62s/it, v_num=yw_1, total_loss_train=537, kl_local_train=81.3, metric_mi|age_categorical_train=0.328]"
     ]
    },
    {
     "name": "stdout",
     "output_type": "stream",
     "text": [
      "\r\n",
      "Epoch 538/600:  90%|████████▉ | 537/600 [4:35:09<31:06, 29.62s/it, v_num=yw_1, total_loss_train=537, kl_local_train=81.3, metric_mi|age_categorical_train=0.328]"
     ]
    },
    {
     "name": "stdout",
     "output_type": "stream",
     "text": [
      "\r\n",
      "Epoch 538/600:  90%|████████▉ | 538/600 [4:35:39<30:28, 29.49s/it, v_num=yw_1, total_loss_train=537, kl_local_train=81.3, metric_mi|age_categorical_train=0.328]"
     ]
    },
    {
     "name": "stdout",
     "output_type": "stream",
     "text": [
      "\r\n",
      "Epoch 538/600:  90%|████████▉ | 538/600 [4:35:39<30:28, 29.49s/it, v_num=yw_1, total_loss_train=537, kl_local_train=81.3, metric_mi|age_categorical_train=0.328]"
     ]
    },
    {
     "name": "stdout",
     "output_type": "stream",
     "text": [
      "\r\n",
      "Epoch 539/600:  90%|████████▉ | 538/600 [4:35:39<30:28, 29.49s/it, v_num=yw_1, total_loss_train=537, kl_local_train=81.3, metric_mi|age_categorical_train=0.328]"
     ]
    },
    {
     "name": "stdout",
     "output_type": "stream",
     "text": [
      "\r\n",
      "Epoch 539/600:  90%|████████▉ | 539/600 [4:36:08<29:53, 29.40s/it, v_num=yw_1, total_loss_train=537, kl_local_train=81.3, metric_mi|age_categorical_train=0.328]"
     ]
    },
    {
     "name": "stdout",
     "output_type": "stream",
     "text": [
      "\r\n",
      "Epoch 539/600:  90%|████████▉ | 539/600 [4:36:08<29:53, 29.40s/it, v_num=yw_1, total_loss_train=537, kl_local_train=81.2, metric_mi|age_categorical_train=0.328]"
     ]
    },
    {
     "name": "stdout",
     "output_type": "stream",
     "text": [
      "\r\n",
      "Epoch 540/600:  90%|████████▉ | 539/600 [4:36:08<29:53, 29.40s/it, v_num=yw_1, total_loss_train=537, kl_local_train=81.2, metric_mi|age_categorical_train=0.328]"
     ]
    },
    {
     "name": "stdout",
     "output_type": "stream",
     "text": [
      "\r\n",
      "Epoch 540/600:  90%|█████████ | 540/600 [4:36:37<29:22, 29.37s/it, v_num=yw_1, total_loss_train=537, kl_local_train=81.2, metric_mi|age_categorical_train=0.328]"
     ]
    },
    {
     "name": "stdout",
     "output_type": "stream",
     "text": [
      "\r\n",
      "Epoch 540/600:  90%|█████████ | 540/600 [4:36:37<29:22, 29.37s/it, v_num=yw_1, total_loss_train=537, kl_local_train=81.4, metric_mi|age_categorical_train=0.328]"
     ]
    },
    {
     "name": "stdout",
     "output_type": "stream",
     "text": [
      "\r\n",
      "Epoch 541/600:  90%|█████████ | 540/600 [4:36:38<29:22, 29.37s/it, v_num=yw_1, total_loss_train=537, kl_local_train=81.4, metric_mi|age_categorical_train=0.328]"
     ]
    },
    {
     "name": "stdout",
     "output_type": "stream",
     "text": [
      "\r\n",
      "Epoch 541/600:  90%|█████████ | 541/600 [4:37:07<29:00, 29.51s/it, v_num=yw_1, total_loss_train=537, kl_local_train=81.4, metric_mi|age_categorical_train=0.328]"
     ]
    },
    {
     "name": "stdout",
     "output_type": "stream",
     "text": [
      "\r\n",
      "Epoch 541/600:  90%|█████████ | 541/600 [4:37:07<29:00, 29.51s/it, v_num=yw_1, total_loss_train=537, kl_local_train=81.2, metric_mi|age_categorical_train=0.315]"
     ]
    },
    {
     "name": "stdout",
     "output_type": "stream",
     "text": [
      "\r\n",
      "Epoch 542/600:  90%|█████████ | 541/600 [4:37:07<29:00, 29.51s/it, v_num=yw_1, total_loss_train=537, kl_local_train=81.2, metric_mi|age_categorical_train=0.315]"
     ]
    },
    {
     "name": "stdout",
     "output_type": "stream",
     "text": [
      "\r\n",
      "Epoch 542/600:  90%|█████████ | 542/600 [4:37:36<28:25, 29.41s/it, v_num=yw_1, total_loss_train=537, kl_local_train=81.2, metric_mi|age_categorical_train=0.315]"
     ]
    },
    {
     "name": "stdout",
     "output_type": "stream",
     "text": [
      "\r\n",
      "Epoch 542/600:  90%|█████████ | 542/600 [4:37:36<28:25, 29.41s/it, v_num=yw_1, total_loss_train=537, kl_local_train=81.2, metric_mi|age_categorical_train=0.315]"
     ]
    },
    {
     "name": "stdout",
     "output_type": "stream",
     "text": [
      "\r\n",
      "Epoch 543/600:  90%|█████████ | 542/600 [4:37:36<28:25, 29.41s/it, v_num=yw_1, total_loss_train=537, kl_local_train=81.2, metric_mi|age_categorical_train=0.315]"
     ]
    },
    {
     "name": "stdout",
     "output_type": "stream",
     "text": [
      "\r\n",
      "Epoch 543/600:  90%|█████████ | 543/600 [4:38:05<27:53, 29.36s/it, v_num=yw_1, total_loss_train=537, kl_local_train=81.2, metric_mi|age_categorical_train=0.315]"
     ]
    },
    {
     "name": "stdout",
     "output_type": "stream",
     "text": [
      "\r\n",
      "Epoch 543/600:  90%|█████████ | 543/600 [4:38:05<27:53, 29.36s/it, v_num=yw_1, total_loss_train=537, kl_local_train=81, metric_mi|age_categorical_train=0.315]  "
     ]
    },
    {
     "name": "stdout",
     "output_type": "stream",
     "text": [
      "\r\n",
      "Epoch 544/600:  90%|█████████ | 543/600 [4:38:05<27:53, 29.36s/it, v_num=yw_1, total_loss_train=537, kl_local_train=81, metric_mi|age_categorical_train=0.315]"
     ]
    },
    {
     "name": "stdout",
     "output_type": "stream",
     "text": [
      "\r\n",
      "Epoch 544/600:  91%|█████████ | 544/600 [4:38:34<27:21, 29.31s/it, v_num=yw_1, total_loss_train=537, kl_local_train=81, metric_mi|age_categorical_train=0.315]"
     ]
    },
    {
     "name": "stdout",
     "output_type": "stream",
     "text": [
      "\r\n",
      "Epoch 544/600:  91%|█████████ | 544/600 [4:38:34<27:21, 29.31s/it, v_num=yw_1, total_loss_train=537, kl_local_train=80.7, metric_mi|age_categorical_train=0.315]"
     ]
    },
    {
     "name": "stdout",
     "output_type": "stream",
     "text": [
      "\r\n",
      "Epoch 545/600:  91%|█████████ | 544/600 [4:38:34<27:21, 29.31s/it, v_num=yw_1, total_loss_train=537, kl_local_train=80.7, metric_mi|age_categorical_train=0.315]"
     ]
    },
    {
     "name": "stdout",
     "output_type": "stream",
     "text": [
      "\r\n",
      "Epoch 545/600:  91%|█████████ | 545/600 [4:39:04<26:51, 29.31s/it, v_num=yw_1, total_loss_train=537, kl_local_train=80.7, metric_mi|age_categorical_train=0.315]"
     ]
    },
    {
     "name": "stdout",
     "output_type": "stream",
     "text": [
      "\r\n",
      "Epoch 545/600:  91%|█████████ | 545/600 [4:39:04<26:51, 29.31s/it, v_num=yw_1, total_loss_train=537, kl_local_train=80.5, metric_mi|age_categorical_train=0.315]"
     ]
    },
    {
     "name": "stdout",
     "output_type": "stream",
     "text": [
      "\r\n",
      "Epoch 546/600:  91%|█████████ | 545/600 [4:39:04<26:51, 29.31s/it, v_num=yw_1, total_loss_train=537, kl_local_train=80.5, metric_mi|age_categorical_train=0.315]"
     ]
    },
    {
     "name": "stdout",
     "output_type": "stream",
     "text": [
      "\r\n",
      "Epoch 546/600:  91%|█████████ | 546/600 [4:39:34<26:31, 29.47s/it, v_num=yw_1, total_loss_train=537, kl_local_train=80.5, metric_mi|age_categorical_train=0.315]"
     ]
    },
    {
     "name": "stdout",
     "output_type": "stream",
     "text": [
      "\r\n",
      "Epoch 546/600:  91%|█████████ | 546/600 [4:39:34<26:31, 29.47s/it, v_num=yw_1, total_loss_train=537, kl_local_train=80.4, metric_mi|age_categorical_train=0.311]"
     ]
    },
    {
     "name": "stdout",
     "output_type": "stream",
     "text": [
      "\r\n",
      "Epoch 547/600:  91%|█████████ | 546/600 [4:39:34<26:31, 29.47s/it, v_num=yw_1, total_loss_train=537, kl_local_train=80.4, metric_mi|age_categorical_train=0.311]"
     ]
    },
    {
     "name": "stdout",
     "output_type": "stream",
     "text": [
      "\r\n",
      "Epoch 547/600:  91%|█████████ | 547/600 [4:40:03<25:57, 29.39s/it, v_num=yw_1, total_loss_train=537, kl_local_train=80.4, metric_mi|age_categorical_train=0.311]"
     ]
    },
    {
     "name": "stdout",
     "output_type": "stream",
     "text": [
      "\r\n",
      "Epoch 547/600:  91%|█████████ | 547/600 [4:40:03<25:57, 29.39s/it, v_num=yw_1, total_loss_train=538, kl_local_train=80.7, metric_mi|age_categorical_train=0.311]"
     ]
    },
    {
     "name": "stdout",
     "output_type": "stream",
     "text": [
      "\r\n",
      "Epoch 548/600:  91%|█████████ | 547/600 [4:40:03<25:57, 29.39s/it, v_num=yw_1, total_loss_train=538, kl_local_train=80.7, metric_mi|age_categorical_train=0.311]"
     ]
    },
    {
     "name": "stdout",
     "output_type": "stream",
     "text": [
      "\r\n",
      "Epoch 548/600:  91%|█████████▏| 548/600 [4:40:32<25:26, 29.35s/it, v_num=yw_1, total_loss_train=538, kl_local_train=80.7, metric_mi|age_categorical_train=0.311]"
     ]
    },
    {
     "name": "stdout",
     "output_type": "stream",
     "text": [
      "\r\n",
      "Epoch 548/600:  91%|█████████▏| 548/600 [4:40:32<25:26, 29.35s/it, v_num=yw_1, total_loss_train=538, kl_local_train=80.8, metric_mi|age_categorical_train=0.311]"
     ]
    },
    {
     "name": "stdout",
     "output_type": "stream",
     "text": [
      "\r\n",
      "Epoch 549/600:  91%|█████████▏| 548/600 [4:40:32<25:26, 29.35s/it, v_num=yw_1, total_loss_train=538, kl_local_train=80.8, metric_mi|age_categorical_train=0.311]"
     ]
    },
    {
     "name": "stdout",
     "output_type": "stream",
     "text": [
      "\r\n",
      "Epoch 549/600:  92%|█████████▏| 549/600 [4:41:01<24:55, 29.32s/it, v_num=yw_1, total_loss_train=538, kl_local_train=80.8, metric_mi|age_categorical_train=0.311]"
     ]
    },
    {
     "name": "stdout",
     "output_type": "stream",
     "text": [
      "\r\n",
      "Epoch 549/600:  92%|█████████▏| 549/600 [4:41:01<24:55, 29.32s/it, v_num=yw_1, total_loss_train=538, kl_local_train=80.6, metric_mi|age_categorical_train=0.311]"
     ]
    },
    {
     "name": "stdout",
     "output_type": "stream",
     "text": [
      "\r\n",
      "Epoch 550/600:  92%|█████████▏| 549/600 [4:41:01<24:55, 29.32s/it, v_num=yw_1, total_loss_train=538, kl_local_train=80.6, metric_mi|age_categorical_train=0.311]"
     ]
    },
    {
     "name": "stdout",
     "output_type": "stream",
     "text": [
      "\r\n",
      "Epoch 550/600:  92%|█████████▏| 550/600 [4:41:31<24:24, 29.30s/it, v_num=yw_1, total_loss_train=538, kl_local_train=80.6, metric_mi|age_categorical_train=0.311]"
     ]
    },
    {
     "name": "stdout",
     "output_type": "stream",
     "text": [
      "\r\n",
      "Epoch 550/600:  92%|█████████▏| 550/600 [4:41:31<24:24, 29.30s/it, v_num=yw_1, total_loss_train=538, kl_local_train=80.5, metric_mi|age_categorical_train=0.311]"
     ]
    },
    {
     "name": "stdout",
     "output_type": "stream",
     "text": [
      "\r\n",
      "Epoch 551/600:  92%|█████████▏| 550/600 [4:41:31<24:24, 29.30s/it, v_num=yw_1, total_loss_train=538, kl_local_train=80.5, metric_mi|age_categorical_train=0.311]"
     ]
    },
    {
     "name": "stdout",
     "output_type": "stream",
     "text": [
      "\r\n",
      "Epoch 551/600:  92%|█████████▏| 551/600 [4:42:00<24:03, 29.47s/it, v_num=yw_1, total_loss_train=538, kl_local_train=80.5, metric_mi|age_categorical_train=0.311]"
     ]
    },
    {
     "name": "stdout",
     "output_type": "stream",
     "text": [
      "\r\n",
      "Epoch 551/600:  92%|█████████▏| 551/600 [4:42:00<24:03, 29.47s/it, v_num=yw_1, total_loss_train=538, kl_local_train=80.5, metric_mi|age_categorical_train=0.31] "
     ]
    },
    {
     "name": "stdout",
     "output_type": "stream",
     "text": [
      "\r\n",
      "Epoch 552/600:  92%|█████████▏| 551/600 [4:42:00<24:03, 29.47s/it, v_num=yw_1, total_loss_train=538, kl_local_train=80.5, metric_mi|age_categorical_train=0.31]"
     ]
    },
    {
     "name": "stdout",
     "output_type": "stream",
     "text": [
      "\r\n",
      "Epoch 552/600:  92%|█████████▏| 552/600 [4:42:30<23:32, 29.42s/it, v_num=yw_1, total_loss_train=538, kl_local_train=80.5, metric_mi|age_categorical_train=0.31]"
     ]
    },
    {
     "name": "stdout",
     "output_type": "stream",
     "text": [
      "\r\n",
      "Epoch 552/600:  92%|█████████▏| 552/600 [4:42:30<23:32, 29.42s/it, v_num=yw_1, total_loss_train=538, kl_local_train=80.2, metric_mi|age_categorical_train=0.31]"
     ]
    },
    {
     "name": "stdout",
     "output_type": "stream",
     "text": [
      "\r\n",
      "Epoch 553/600:  92%|█████████▏| 552/600 [4:42:30<23:32, 29.42s/it, v_num=yw_1, total_loss_train=538, kl_local_train=80.2, metric_mi|age_categorical_train=0.31]"
     ]
    },
    {
     "name": "stdout",
     "output_type": "stream",
     "text": [
      "\r\n",
      "Epoch 553/600:  92%|█████████▏| 553/600 [4:42:59<23:00, 29.38s/it, v_num=yw_1, total_loss_train=538, kl_local_train=80.2, metric_mi|age_categorical_train=0.31]"
     ]
    },
    {
     "name": "stdout",
     "output_type": "stream",
     "text": [
      "\r\n",
      "Epoch 553/600:  92%|█████████▏| 553/600 [4:42:59<23:00, 29.38s/it, v_num=yw_1, total_loss_train=538, kl_local_train=80.4, metric_mi|age_categorical_train=0.31]"
     ]
    },
    {
     "name": "stdout",
     "output_type": "stream",
     "text": [
      "\r\n",
      "Epoch 554/600:  92%|█████████▏| 553/600 [4:42:59<23:00, 29.38s/it, v_num=yw_1, total_loss_train=538, kl_local_train=80.4, metric_mi|age_categorical_train=0.31]"
     ]
    },
    {
     "name": "stdout",
     "output_type": "stream",
     "text": [
      "\r\n",
      "Epoch 554/600:  92%|█████████▏| 554/600 [4:43:28<22:31, 29.38s/it, v_num=yw_1, total_loss_train=538, kl_local_train=80.4, metric_mi|age_categorical_train=0.31]"
     ]
    },
    {
     "name": "stdout",
     "output_type": "stream",
     "text": [
      "\r\n",
      "Epoch 554/600:  92%|█████████▏| 554/600 [4:43:28<22:31, 29.38s/it, v_num=yw_1, total_loss_train=538, kl_local_train=80.3, metric_mi|age_categorical_train=0.31]"
     ]
    },
    {
     "name": "stdout",
     "output_type": "stream",
     "text": [
      "\r\n",
      "Epoch 555/600:  92%|█████████▏| 554/600 [4:43:28<22:31, 29.38s/it, v_num=yw_1, total_loss_train=538, kl_local_train=80.3, metric_mi|age_categorical_train=0.31]"
     ]
    },
    {
     "name": "stdout",
     "output_type": "stream",
     "text": [
      "\r\n",
      "Epoch 555/600:  92%|█████████▎| 555/600 [4:43:58<22:00, 29.34s/it, v_num=yw_1, total_loss_train=538, kl_local_train=80.3, metric_mi|age_categorical_train=0.31]"
     ]
    },
    {
     "name": "stdout",
     "output_type": "stream",
     "text": [
      "\r\n",
      "Epoch 555/600:  92%|█████████▎| 555/600 [4:43:58<22:00, 29.34s/it, v_num=yw_1, total_loss_train=538, kl_local_train=80.1, metric_mi|age_categorical_train=0.31]"
     ]
    },
    {
     "name": "stdout",
     "output_type": "stream",
     "text": [
      "\r\n",
      "Epoch 556/600:  92%|█████████▎| 555/600 [4:43:58<22:00, 29.34s/it, v_num=yw_1, total_loss_train=538, kl_local_train=80.1, metric_mi|age_categorical_train=0.31]"
     ]
    },
    {
     "name": "stdout",
     "output_type": "stream",
     "text": [
      "\r\n",
      "Epoch 556/600:  93%|█████████▎| 556/600 [4:44:28<21:37, 29.50s/it, v_num=yw_1, total_loss_train=538, kl_local_train=80.1, metric_mi|age_categorical_train=0.31]"
     ]
    },
    {
     "name": "stdout",
     "output_type": "stream",
     "text": [
      "\r\n",
      "Epoch 556/600:  93%|█████████▎| 556/600 [4:44:28<21:37, 29.50s/it, v_num=yw_1, total_loss_train=539, kl_local_train=80.2, metric_mi|age_categorical_train=0.32]"
     ]
    },
    {
     "name": "stdout",
     "output_type": "stream",
     "text": [
      "\r\n",
      "Epoch 557/600:  93%|█████████▎| 556/600 [4:44:28<21:37, 29.50s/it, v_num=yw_1, total_loss_train=539, kl_local_train=80.2, metric_mi|age_categorical_train=0.32]"
     ]
    },
    {
     "name": "stdout",
     "output_type": "stream",
     "text": [
      "\r\n",
      "Epoch 557/600:  93%|█████████▎| 557/600 [4:44:57<21:04, 29.42s/it, v_num=yw_1, total_loss_train=539, kl_local_train=80.2, metric_mi|age_categorical_train=0.32]"
     ]
    },
    {
     "name": "stdout",
     "output_type": "stream",
     "text": [
      "\r\n",
      "Epoch 557/600:  93%|█████████▎| 557/600 [4:44:57<21:04, 29.42s/it, v_num=yw_1, total_loss_train=538, kl_local_train=80, metric_mi|age_categorical_train=0.32]  "
     ]
    },
    {
     "name": "stdout",
     "output_type": "stream",
     "text": [
      "\r\n",
      "Epoch 558/600:  93%|█████████▎| 557/600 [4:44:57<21:04, 29.42s/it, v_num=yw_1, total_loss_train=538, kl_local_train=80, metric_mi|age_categorical_train=0.32]"
     ]
    },
    {
     "name": "stdout",
     "output_type": "stream",
     "text": [
      "\r\n",
      "Epoch 558/600:  93%|█████████▎| 558/600 [4:45:26<20:33, 29.36s/it, v_num=yw_1, total_loss_train=538, kl_local_train=80, metric_mi|age_categorical_train=0.32]"
     ]
    },
    {
     "name": "stdout",
     "output_type": "stream",
     "text": [
      "\r\n",
      "Epoch 558/600:  93%|█████████▎| 558/600 [4:45:26<20:33, 29.36s/it, v_num=yw_1, total_loss_train=538, kl_local_train=80.1, metric_mi|age_categorical_train=0.32]"
     ]
    },
    {
     "name": "stdout",
     "output_type": "stream",
     "text": [
      "\r\n",
      "Epoch 559/600:  93%|█████████▎| 558/600 [4:45:26<20:33, 29.36s/it, v_num=yw_1, total_loss_train=538, kl_local_train=80.1, metric_mi|age_categorical_train=0.32]"
     ]
    },
    {
     "name": "stdout",
     "output_type": "stream",
     "text": [
      "\r\n",
      "Epoch 559/600:  93%|█████████▎| 559/600 [4:45:55<20:02, 29.32s/it, v_num=yw_1, total_loss_train=538, kl_local_train=80.1, metric_mi|age_categorical_train=0.32]"
     ]
    },
    {
     "name": "stdout",
     "output_type": "stream",
     "text": [
      "\r\n",
      "Epoch 559/600:  93%|█████████▎| 559/600 [4:45:55<20:02, 29.32s/it, v_num=yw_1, total_loss_train=538, kl_local_train=79.7, metric_mi|age_categorical_train=0.32]"
     ]
    },
    {
     "name": "stdout",
     "output_type": "stream",
     "text": [
      "\r\n",
      "Epoch 560/600:  93%|█████████▎| 559/600 [4:45:55<20:02, 29.32s/it, v_num=yw_1, total_loss_train=538, kl_local_train=79.7, metric_mi|age_categorical_train=0.32]"
     ]
    },
    {
     "name": "stdout",
     "output_type": "stream",
     "text": [
      "\r\n",
      "Epoch 560/600:  93%|█████████▎| 560/600 [4:46:24<19:31, 29.29s/it, v_num=yw_1, total_loss_train=538, kl_local_train=79.7, metric_mi|age_categorical_train=0.32]"
     ]
    },
    {
     "name": "stdout",
     "output_type": "stream",
     "text": [
      "\r\n",
      "Epoch 560/600:  93%|█████████▎| 560/600 [4:46:24<19:31, 29.29s/it, v_num=yw_1, total_loss_train=539, kl_local_train=80, metric_mi|age_categorical_train=0.32]  "
     ]
    },
    {
     "name": "stdout",
     "output_type": "stream",
     "text": [
      "\r\n",
      "Epoch 561/600:  93%|█████████▎| 560/600 [4:46:25<19:31, 29.29s/it, v_num=yw_1, total_loss_train=539, kl_local_train=80, metric_mi|age_categorical_train=0.32]"
     ]
    },
    {
     "name": "stdout",
     "output_type": "stream",
     "text": [
      "\r\n",
      "Epoch 561/600:  94%|█████████▎| 561/600 [4:46:54<19:08, 29.45s/it, v_num=yw_1, total_loss_train=539, kl_local_train=80, metric_mi|age_categorical_train=0.32]"
     ]
    },
    {
     "name": "stdout",
     "output_type": "stream",
     "text": [
      "\r\n",
      "Epoch 561/600:  94%|█████████▎| 561/600 [4:46:54<19:08, 29.45s/it, v_num=yw_1, total_loss_train=539, kl_local_train=79.8, metric_mi|age_categorical_train=0.333]"
     ]
    },
    {
     "name": "stdout",
     "output_type": "stream",
     "text": [
      "\r\n",
      "Epoch 562/600:  94%|█████████▎| 561/600 [4:46:54<19:08, 29.45s/it, v_num=yw_1, total_loss_train=539, kl_local_train=79.8, metric_mi|age_categorical_train=0.333]"
     ]
    },
    {
     "name": "stdout",
     "output_type": "stream",
     "text": [
      "\r\n",
      "Epoch 562/600:  94%|█████████▎| 562/600 [4:47:24<18:36, 29.39s/it, v_num=yw_1, total_loss_train=539, kl_local_train=79.8, metric_mi|age_categorical_train=0.333]"
     ]
    },
    {
     "name": "stdout",
     "output_type": "stream",
     "text": [
      "\r\n",
      "Epoch 562/600:  94%|█████████▎| 562/600 [4:47:24<18:36, 29.39s/it, v_num=yw_1, total_loss_train=539, kl_local_train=79.9, metric_mi|age_categorical_train=0.333]"
     ]
    },
    {
     "name": "stdout",
     "output_type": "stream",
     "text": [
      "\r\n",
      "Epoch 563/600:  94%|█████████▎| 562/600 [4:47:24<18:36, 29.39s/it, v_num=yw_1, total_loss_train=539, kl_local_train=79.9, metric_mi|age_categorical_train=0.333]"
     ]
    },
    {
     "name": "stdout",
     "output_type": "stream",
     "text": [
      "\r\n",
      "Epoch 563/600:  94%|█████████▍| 563/600 [4:47:53<18:05, 29.34s/it, v_num=yw_1, total_loss_train=539, kl_local_train=79.9, metric_mi|age_categorical_train=0.333]"
     ]
    },
    {
     "name": "stdout",
     "output_type": "stream",
     "text": [
      "\r\n",
      "Epoch 563/600:  94%|█████████▍| 563/600 [4:47:53<18:05, 29.34s/it, v_num=yw_1, total_loss_train=539, kl_local_train=79.7, metric_mi|age_categorical_train=0.333]"
     ]
    },
    {
     "name": "stdout",
     "output_type": "stream",
     "text": [
      "\r\n",
      "Epoch 564/600:  94%|█████████▍| 563/600 [4:47:53<18:05, 29.34s/it, v_num=yw_1, total_loss_train=539, kl_local_train=79.7, metric_mi|age_categorical_train=0.333]"
     ]
    },
    {
     "name": "stdout",
     "output_type": "stream",
     "text": [
      "\r\n",
      "Epoch 564/600:  94%|█████████▍| 564/600 [4:48:22<17:35, 29.33s/it, v_num=yw_1, total_loss_train=539, kl_local_train=79.7, metric_mi|age_categorical_train=0.333]"
     ]
    },
    {
     "name": "stdout",
     "output_type": "stream",
     "text": [
      "\r\n",
      "Epoch 564/600:  94%|█████████▍| 564/600 [4:48:22<17:35, 29.33s/it, v_num=yw_1, total_loss_train=539, kl_local_train=79.7, metric_mi|age_categorical_train=0.333]"
     ]
    },
    {
     "name": "stdout",
     "output_type": "stream",
     "text": [
      "\r\n",
      "Epoch 565/600:  94%|█████████▍| 564/600 [4:48:22<17:35, 29.33s/it, v_num=yw_1, total_loss_train=539, kl_local_train=79.7, metric_mi|age_categorical_train=0.333]"
     ]
    },
    {
     "name": "stdout",
     "output_type": "stream",
     "text": [
      "\r\n",
      "Epoch 565/600:  94%|█████████▍| 565/600 [4:48:51<17:06, 29.32s/it, v_num=yw_1, total_loss_train=539, kl_local_train=79.7, metric_mi|age_categorical_train=0.333]"
     ]
    },
    {
     "name": "stdout",
     "output_type": "stream",
     "text": [
      "\r\n",
      "Epoch 565/600:  94%|█████████▍| 565/600 [4:48:51<17:06, 29.32s/it, v_num=yw_1, total_loss_train=539, kl_local_train=79.5, metric_mi|age_categorical_train=0.333]"
     ]
    },
    {
     "name": "stdout",
     "output_type": "stream",
     "text": [
      "\r\n",
      "Epoch 566/600:  94%|█████████▍| 565/600 [4:48:52<17:06, 29.32s/it, v_num=yw_1, total_loss_train=539, kl_local_train=79.5, metric_mi|age_categorical_train=0.333]"
     ]
    },
    {
     "name": "stdout",
     "output_type": "stream",
     "text": [
      "\r\n",
      "Epoch 566/600:  94%|█████████▍| 566/600 [4:49:21<16:42, 29.47s/it, v_num=yw_1, total_loss_train=539, kl_local_train=79.5, metric_mi|age_categorical_train=0.333]"
     ]
    },
    {
     "name": "stdout",
     "output_type": "stream",
     "text": [
      "\r\n",
      "Epoch 566/600:  94%|█████████▍| 566/600 [4:49:21<16:42, 29.47s/it, v_num=yw_1, total_loss_train=539, kl_local_train=79.5, metric_mi|age_categorical_train=0.333]"
     ]
    },
    {
     "name": "stdout",
     "output_type": "stream",
     "text": [
      "\r\n",
      "Epoch 567/600:  94%|█████████▍| 566/600 [4:49:21<16:42, 29.47s/it, v_num=yw_1, total_loss_train=539, kl_local_train=79.5, metric_mi|age_categorical_train=0.333]"
     ]
    },
    {
     "name": "stdout",
     "output_type": "stream",
     "text": [
      "\r\n",
      "Epoch 567/600:  94%|█████████▍| 567/600 [4:49:50<16:09, 29.39s/it, v_num=yw_1, total_loss_train=539, kl_local_train=79.5, metric_mi|age_categorical_train=0.333]"
     ]
    },
    {
     "name": "stdout",
     "output_type": "stream",
     "text": [
      "\r\n",
      "Epoch 567/600:  94%|█████████▍| 567/600 [4:49:50<16:09, 29.39s/it, v_num=yw_1, total_loss_train=539, kl_local_train=79.3, metric_mi|age_categorical_train=0.333]"
     ]
    },
    {
     "name": "stdout",
     "output_type": "stream",
     "text": [
      "\r\n",
      "Epoch 568/600:  94%|█████████▍| 567/600 [4:49:50<16:09, 29.39s/it, v_num=yw_1, total_loss_train=539, kl_local_train=79.3, metric_mi|age_categorical_train=0.333]"
     ]
    },
    {
     "name": "stdout",
     "output_type": "stream",
     "text": [
      "\r\n",
      "Epoch 568/600:  95%|█████████▍| 568/600 [4:50:20<15:38, 29.33s/it, v_num=yw_1, total_loss_train=539, kl_local_train=79.3, metric_mi|age_categorical_train=0.333]"
     ]
    },
    {
     "name": "stdout",
     "output_type": "stream",
     "text": [
      "\r\n",
      "Epoch 568/600:  95%|█████████▍| 568/600 [4:50:20<15:38, 29.33s/it, v_num=yw_1, total_loss_train=539, kl_local_train=79.1, metric_mi|age_categorical_train=0.333]"
     ]
    },
    {
     "name": "stdout",
     "output_type": "stream",
     "text": [
      "\r\n",
      "Epoch 569/600:  95%|█████████▍| 568/600 [4:50:20<15:38, 29.33s/it, v_num=yw_1, total_loss_train=539, kl_local_train=79.1, metric_mi|age_categorical_train=0.333]"
     ]
    },
    {
     "name": "stdout",
     "output_type": "stream",
     "text": [
      "\r\n",
      "Epoch 569/600:  95%|█████████▍| 569/600 [4:50:49<15:08, 29.30s/it, v_num=yw_1, total_loss_train=539, kl_local_train=79.1, metric_mi|age_categorical_train=0.333]"
     ]
    },
    {
     "name": "stdout",
     "output_type": "stream",
     "text": [
      "\r\n",
      "Epoch 569/600:  95%|█████████▍| 569/600 [4:50:49<15:08, 29.30s/it, v_num=yw_1, total_loss_train=539, kl_local_train=78.8, metric_mi|age_categorical_train=0.333]"
     ]
    },
    {
     "name": "stdout",
     "output_type": "stream",
     "text": [
      "\r\n",
      "Epoch 570/600:  95%|█████████▍| 569/600 [4:50:49<15:08, 29.30s/it, v_num=yw_1, total_loss_train=539, kl_local_train=78.8, metric_mi|age_categorical_train=0.333]"
     ]
    },
    {
     "name": "stdout",
     "output_type": "stream",
     "text": [
      "\r\n",
      "Epoch 570/600:  95%|█████████▌| 570/600 [4:51:18<14:39, 29.30s/it, v_num=yw_1, total_loss_train=539, kl_local_train=78.8, metric_mi|age_categorical_train=0.333]"
     ]
    },
    {
     "name": "stdout",
     "output_type": "stream",
     "text": [
      "\r\n",
      "Epoch 570/600:  95%|█████████▌| 570/600 [4:51:18<14:39, 29.30s/it, v_num=yw_1, total_loss_train=539, kl_local_train=79.1, metric_mi|age_categorical_train=0.333]"
     ]
    },
    {
     "name": "stdout",
     "output_type": "stream",
     "text": [
      "\r\n",
      "Epoch 571/600:  95%|█████████▌| 570/600 [4:51:19<14:39, 29.30s/it, v_num=yw_1, total_loss_train=539, kl_local_train=79.1, metric_mi|age_categorical_train=0.333]"
     ]
    },
    {
     "name": "stdout",
     "output_type": "stream",
     "text": [
      "\r\n",
      "Epoch 571/600:  95%|█████████▌| 571/600 [4:51:48<14:13, 29.45s/it, v_num=yw_1, total_loss_train=539, kl_local_train=79.1, metric_mi|age_categorical_train=0.333]"
     ]
    },
    {
     "name": "stdout",
     "output_type": "stream",
     "text": [
      "\r\n",
      "Epoch 571/600:  95%|█████████▌| 571/600 [4:51:48<14:13, 29.45s/it, v_num=yw_1, total_loss_train=540, kl_local_train=79.2, metric_mi|age_categorical_train=0.322]"
     ]
    },
    {
     "name": "stdout",
     "output_type": "stream",
     "text": [
      "\r\n",
      "Epoch 572/600:  95%|█████████▌| 571/600 [4:51:48<14:13, 29.45s/it, v_num=yw_1, total_loss_train=540, kl_local_train=79.2, metric_mi|age_categorical_train=0.322]"
     ]
    },
    {
     "name": "stdout",
     "output_type": "stream",
     "text": [
      "\r\n",
      "Epoch 572/600:  95%|█████████▌| 572/600 [4:52:17<13:42, 29.39s/it, v_num=yw_1, total_loss_train=540, kl_local_train=79.2, metric_mi|age_categorical_train=0.322]"
     ]
    },
    {
     "name": "stdout",
     "output_type": "stream",
     "text": [
      "\r\n",
      "Epoch 572/600:  95%|█████████▌| 572/600 [4:52:17<13:42, 29.39s/it, v_num=yw_1, total_loss_train=540, kl_local_train=79.1, metric_mi|age_categorical_train=0.322]"
     ]
    },
    {
     "name": "stdout",
     "output_type": "stream",
     "text": [
      "\r\n",
      "Epoch 573/600:  95%|█████████▌| 572/600 [4:52:17<13:42, 29.39s/it, v_num=yw_1, total_loss_train=540, kl_local_train=79.1, metric_mi|age_categorical_train=0.322]"
     ]
    },
    {
     "name": "stdout",
     "output_type": "stream",
     "text": [
      "\r\n",
      "Epoch 573/600:  96%|█████████▌| 573/600 [4:52:46<13:12, 29.36s/it, v_num=yw_1, total_loss_train=540, kl_local_train=79.1, metric_mi|age_categorical_train=0.322]"
     ]
    },
    {
     "name": "stdout",
     "output_type": "stream",
     "text": [
      "\r\n",
      "Epoch 573/600:  96%|█████████▌| 573/600 [4:52:46<13:12, 29.36s/it, v_num=yw_1, total_loss_train=540, kl_local_train=78.8, metric_mi|age_categorical_train=0.322]"
     ]
    },
    {
     "name": "stdout",
     "output_type": "stream",
     "text": [
      "\r\n",
      "Epoch 574/600:  96%|█████████▌| 573/600 [4:52:46<13:12, 29.36s/it, v_num=yw_1, total_loss_train=540, kl_local_train=78.8, metric_mi|age_categorical_train=0.322]"
     ]
    },
    {
     "name": "stdout",
     "output_type": "stream",
     "text": [
      "\r\n",
      "Epoch 574/600:  96%|█████████▌| 574/600 [4:53:16<12:42, 29.34s/it, v_num=yw_1, total_loss_train=540, kl_local_train=78.8, metric_mi|age_categorical_train=0.322]"
     ]
    },
    {
     "name": "stdout",
     "output_type": "stream",
     "text": [
      "\r\n",
      "Epoch 574/600:  96%|█████████▌| 574/600 [4:53:16<12:42, 29.34s/it, v_num=yw_1, total_loss_train=541, kl_local_train=79, metric_mi|age_categorical_train=0.322]  "
     ]
    },
    {
     "name": "stdout",
     "output_type": "stream",
     "text": [
      "\r\n",
      "Epoch 575/600:  96%|█████████▌| 574/600 [4:53:16<12:42, 29.34s/it, v_num=yw_1, total_loss_train=541, kl_local_train=79, metric_mi|age_categorical_train=0.322]"
     ]
    },
    {
     "name": "stdout",
     "output_type": "stream",
     "text": [
      "\r\n",
      "Epoch 575/600:  96%|█████████▌| 575/600 [4:53:45<12:14, 29.36s/it, v_num=yw_1, total_loss_train=541, kl_local_train=79, metric_mi|age_categorical_train=0.322]"
     ]
    },
    {
     "name": "stdout",
     "output_type": "stream",
     "text": [
      "\r\n",
      "Epoch 575/600:  96%|█████████▌| 575/600 [4:53:45<12:14, 29.36s/it, v_num=yw_1, total_loss_train=540, kl_local_train=78.7, metric_mi|age_categorical_train=0.322]"
     ]
    },
    {
     "name": "stdout",
     "output_type": "stream",
     "text": [
      "\r\n",
      "Epoch 576/600:  96%|█████████▌| 575/600 [4:53:46<12:14, 29.36s/it, v_num=yw_1, total_loss_train=540, kl_local_train=78.7, metric_mi|age_categorical_train=0.322]"
     ]
    },
    {
     "name": "stdout",
     "output_type": "stream",
     "text": [
      "\r\n",
      "Epoch 576/600:  96%|█████████▌| 576/600 [4:54:15<11:49, 29.55s/it, v_num=yw_1, total_loss_train=540, kl_local_train=78.7, metric_mi|age_categorical_train=0.322]"
     ]
    },
    {
     "name": "stdout",
     "output_type": "stream",
     "text": [
      "\r\n",
      "Epoch 576/600:  96%|█████████▌| 576/600 [4:54:15<11:49, 29.55s/it, v_num=yw_1, total_loss_train=540, kl_local_train=78.9, metric_mi|age_categorical_train=0.333]"
     ]
    },
    {
     "name": "stdout",
     "output_type": "stream",
     "text": [
      "\r\n",
      "Epoch 577/600:  96%|█████████▌| 576/600 [4:54:15<11:49, 29.55s/it, v_num=yw_1, total_loss_train=540, kl_local_train=78.9, metric_mi|age_categorical_train=0.333]"
     ]
    },
    {
     "name": "stdout",
     "output_type": "stream",
     "text": [
      "\r\n",
      "Epoch 577/600:  96%|█████████▌| 577/600 [4:54:45<11:18, 29.51s/it, v_num=yw_1, total_loss_train=540, kl_local_train=78.9, metric_mi|age_categorical_train=0.333]"
     ]
    },
    {
     "name": "stdout",
     "output_type": "stream",
     "text": [
      "\r\n",
      "Epoch 577/600:  96%|█████████▌| 577/600 [4:54:45<11:18, 29.51s/it, v_num=yw_1, total_loss_train=540, kl_local_train=78.7, metric_mi|age_categorical_train=0.333]"
     ]
    },
    {
     "name": "stdout",
     "output_type": "stream",
     "text": [
      "\r\n",
      "Epoch 578/600:  96%|█████████▌| 577/600 [4:54:45<11:18, 29.51s/it, v_num=yw_1, total_loss_train=540, kl_local_train=78.7, metric_mi|age_categorical_train=0.333]"
     ]
    },
    {
     "name": "stdout",
     "output_type": "stream",
     "text": [
      "\r\n",
      "Epoch 578/600:  96%|█████████▋| 578/600 [4:55:14<10:48, 29.48s/it, v_num=yw_1, total_loss_train=540, kl_local_train=78.7, metric_mi|age_categorical_train=0.333]"
     ]
    },
    {
     "name": "stdout",
     "output_type": "stream",
     "text": [
      "\r\n",
      "Epoch 578/600:  96%|█████████▋| 578/600 [4:55:14<10:48, 29.48s/it, v_num=yw_1, total_loss_train=541, kl_local_train=78.8, metric_mi|age_categorical_train=0.333]"
     ]
    },
    {
     "name": "stdout",
     "output_type": "stream",
     "text": [
      "\r\n",
      "Epoch 579/600:  96%|█████████▋| 578/600 [4:55:14<10:48, 29.48s/it, v_num=yw_1, total_loss_train=541, kl_local_train=78.8, metric_mi|age_categorical_train=0.333]"
     ]
    },
    {
     "name": "stdout",
     "output_type": "stream",
     "text": [
      "\r\n",
      "Epoch 579/600:  96%|█████████▋| 579/600 [4:55:43<10:18, 29.45s/it, v_num=yw_1, total_loss_train=541, kl_local_train=78.8, metric_mi|age_categorical_train=0.333]"
     ]
    },
    {
     "name": "stdout",
     "output_type": "stream",
     "text": [
      "\r\n",
      "Epoch 579/600:  96%|█████████▋| 579/600 [4:55:43<10:18, 29.45s/it, v_num=yw_1, total_loss_train=541, kl_local_train=78.6, metric_mi|age_categorical_train=0.333]"
     ]
    },
    {
     "name": "stdout",
     "output_type": "stream",
     "text": [
      "\r\n",
      "Epoch 580/600:  96%|█████████▋| 579/600 [4:55:43<10:18, 29.45s/it, v_num=yw_1, total_loss_train=541, kl_local_train=78.6, metric_mi|age_categorical_train=0.333]"
     ]
    },
    {
     "name": "stdout",
     "output_type": "stream",
     "text": [
      "\r\n",
      "Epoch 580/600:  97%|█████████▋| 580/600 [4:56:13<09:48, 29.42s/it, v_num=yw_1, total_loss_train=541, kl_local_train=78.6, metric_mi|age_categorical_train=0.333]"
     ]
    },
    {
     "name": "stdout",
     "output_type": "stream",
     "text": [
      "\r\n",
      "Epoch 580/600:  97%|█████████▋| 580/600 [4:56:13<09:48, 29.42s/it, v_num=yw_1, total_loss_train=541, kl_local_train=78.5, metric_mi|age_categorical_train=0.333]"
     ]
    },
    {
     "name": "stdout",
     "output_type": "stream",
     "text": [
      "\r\n",
      "Epoch 581/600:  97%|█████████▋| 580/600 [4:56:13<09:48, 29.42s/it, v_num=yw_1, total_loss_train=541, kl_local_train=78.5, metric_mi|age_categorical_train=0.333]"
     ]
    },
    {
     "name": "stdout",
     "output_type": "stream",
     "text": [
      "\r\n",
      "Epoch 581/600:  97%|█████████▋| 581/600 [4:56:43<09:21, 29.56s/it, v_num=yw_1, total_loss_train=541, kl_local_train=78.5, metric_mi|age_categorical_train=0.333]"
     ]
    },
    {
     "name": "stdout",
     "output_type": "stream",
     "text": [
      "\r\n",
      "Epoch 581/600:  97%|█████████▋| 581/600 [4:56:43<09:21, 29.56s/it, v_num=yw_1, total_loss_train=541, kl_local_train=78.4, metric_mi|age_categorical_train=0.315]"
     ]
    },
    {
     "name": "stdout",
     "output_type": "stream",
     "text": [
      "\r\n",
      "Epoch 582/600:  97%|█████████▋| 581/600 [4:56:43<09:21, 29.56s/it, v_num=yw_1, total_loss_train=541, kl_local_train=78.4, metric_mi|age_categorical_train=0.315]"
     ]
    },
    {
     "name": "stdout",
     "output_type": "stream",
     "text": [
      "\r\n",
      "Epoch 582/600:  97%|█████████▋| 582/600 [4:57:12<08:51, 29.51s/it, v_num=yw_1, total_loss_train=541, kl_local_train=78.4, metric_mi|age_categorical_train=0.315]"
     ]
    },
    {
     "name": "stdout",
     "output_type": "stream",
     "text": [
      "\r\n",
      "Epoch 582/600:  97%|█████████▋| 582/600 [4:57:12<08:51, 29.51s/it, v_num=yw_1, total_loss_train=541, kl_local_train=78.2, metric_mi|age_categorical_train=0.315]"
     ]
    },
    {
     "name": "stdout",
     "output_type": "stream",
     "text": [
      "\r\n",
      "Epoch 583/600:  97%|█████████▋| 582/600 [4:57:12<08:51, 29.51s/it, v_num=yw_1, total_loss_train=541, kl_local_train=78.2, metric_mi|age_categorical_train=0.315]"
     ]
    },
    {
     "name": "stdout",
     "output_type": "stream",
     "text": [
      "\r\n",
      "Epoch 583/600:  97%|█████████▋| 583/600 [4:57:41<08:20, 29.46s/it, v_num=yw_1, total_loss_train=541, kl_local_train=78.2, metric_mi|age_categorical_train=0.315]"
     ]
    },
    {
     "name": "stdout",
     "output_type": "stream",
     "text": [
      "\r\n",
      "Epoch 583/600:  97%|█████████▋| 583/600 [4:57:41<08:20, 29.46s/it, v_num=yw_1, total_loss_train=541, kl_local_train=78.1, metric_mi|age_categorical_train=0.315]"
     ]
    },
    {
     "name": "stdout",
     "output_type": "stream",
     "text": [
      "\r\n",
      "Epoch 584/600:  97%|█████████▋| 583/600 [4:57:41<08:20, 29.46s/it, v_num=yw_1, total_loss_train=541, kl_local_train=78.1, metric_mi|age_categorical_train=0.315]"
     ]
    },
    {
     "name": "stdout",
     "output_type": "stream",
     "text": [
      "\r\n",
      "Epoch 584/600:  97%|█████████▋| 584/600 [4:58:11<07:50, 29.41s/it, v_num=yw_1, total_loss_train=541, kl_local_train=78.1, metric_mi|age_categorical_train=0.315]"
     ]
    },
    {
     "name": "stdout",
     "output_type": "stream",
     "text": [
      "\r\n",
      "Epoch 584/600:  97%|█████████▋| 584/600 [4:58:11<07:50, 29.41s/it, v_num=yw_1, total_loss_train=541, kl_local_train=78.2, metric_mi|age_categorical_train=0.315]"
     ]
    },
    {
     "name": "stdout",
     "output_type": "stream",
     "text": [
      "\r\n",
      "Epoch 585/600:  97%|█████████▋| 584/600 [4:58:11<07:50, 29.41s/it, v_num=yw_1, total_loss_train=541, kl_local_train=78.2, metric_mi|age_categorical_train=0.315]"
     ]
    },
    {
     "name": "stdout",
     "output_type": "stream",
     "text": [
      "\r\n",
      "Epoch 585/600:  98%|█████████▊| 585/600 [4:58:40<07:21, 29.41s/it, v_num=yw_1, total_loss_train=541, kl_local_train=78.2, metric_mi|age_categorical_train=0.315]"
     ]
    },
    {
     "name": "stdout",
     "output_type": "stream",
     "text": [
      "\r\n",
      "Epoch 585/600:  98%|█████████▊| 585/600 [4:58:40<07:21, 29.41s/it, v_num=yw_1, total_loss_train=541, kl_local_train=78.3, metric_mi|age_categorical_train=0.315]"
     ]
    },
    {
     "name": "stdout",
     "output_type": "stream",
     "text": [
      "\r\n",
      "Epoch 586/600:  98%|█████████▊| 585/600 [4:58:41<07:21, 29.41s/it, v_num=yw_1, total_loss_train=541, kl_local_train=78.3, metric_mi|age_categorical_train=0.315]"
     ]
    },
    {
     "name": "stdout",
     "output_type": "stream",
     "text": [
      "\r\n",
      "Epoch 586/600:  98%|█████████▊| 586/600 [4:59:10<06:53, 29.54s/it, v_num=yw_1, total_loss_train=541, kl_local_train=78.3, metric_mi|age_categorical_train=0.315]"
     ]
    },
    {
     "name": "stdout",
     "output_type": "stream",
     "text": [
      "\r\n",
      "Epoch 586/600:  98%|█████████▊| 586/600 [4:59:10<06:53, 29.54s/it, v_num=yw_1, total_loss_train=541, kl_local_train=77.9, metric_mi|age_categorical_train=0.313]"
     ]
    },
    {
     "name": "stdout",
     "output_type": "stream",
     "text": [
      "\r\n",
      "Epoch 587/600:  98%|█████████▊| 586/600 [4:59:10<06:53, 29.54s/it, v_num=yw_1, total_loss_train=541, kl_local_train=77.9, metric_mi|age_categorical_train=0.313]"
     ]
    },
    {
     "name": "stdout",
     "output_type": "stream",
     "text": [
      "\r\n",
      "Epoch 587/600:  98%|█████████▊| 587/600 [4:59:39<06:22, 29.43s/it, v_num=yw_1, total_loss_train=541, kl_local_train=77.9, metric_mi|age_categorical_train=0.313]"
     ]
    },
    {
     "name": "stdout",
     "output_type": "stream",
     "text": [
      "\r\n",
      "Epoch 587/600:  98%|█████████▊| 587/600 [4:59:39<06:22, 29.43s/it, v_num=yw_1, total_loss_train=541, kl_local_train=77.9, metric_mi|age_categorical_train=0.313]"
     ]
    },
    {
     "name": "stdout",
     "output_type": "stream",
     "text": [
      "\r\n",
      "Epoch 588/600:  98%|█████████▊| 587/600 [4:59:39<06:22, 29.43s/it, v_num=yw_1, total_loss_train=541, kl_local_train=77.9, metric_mi|age_categorical_train=0.313]"
     ]
    },
    {
     "name": "stdout",
     "output_type": "stream",
     "text": [
      "\r\n",
      "Epoch 588/600:  98%|█████████▊| 588/600 [5:00:08<05:52, 29.34s/it, v_num=yw_1, total_loss_train=541, kl_local_train=77.9, metric_mi|age_categorical_train=0.313]"
     ]
    },
    {
     "name": "stdout",
     "output_type": "stream",
     "text": [
      "\r\n",
      "Epoch 588/600:  98%|█████████▊| 588/600 [5:00:08<05:52, 29.34s/it, v_num=yw_1, total_loss_train=541, kl_local_train=77.9, metric_mi|age_categorical_train=0.313]"
     ]
    },
    {
     "name": "stdout",
     "output_type": "stream",
     "text": [
      "\r\n",
      "Epoch 589/600:  98%|█████████▊| 588/600 [5:00:08<05:52, 29.34s/it, v_num=yw_1, total_loss_train=541, kl_local_train=77.9, metric_mi|age_categorical_train=0.313]"
     ]
    },
    {
     "name": "stdout",
     "output_type": "stream",
     "text": [
      "\r\n",
      "Epoch 589/600:  98%|█████████▊| 589/600 [5:00:37<05:22, 29.29s/it, v_num=yw_1, total_loss_train=541, kl_local_train=77.9, metric_mi|age_categorical_train=0.313]"
     ]
    },
    {
     "name": "stdout",
     "output_type": "stream",
     "text": [
      "\r\n",
      "Epoch 589/600:  98%|█████████▊| 589/600 [5:00:37<05:22, 29.29s/it, v_num=yw_1, total_loss_train=541, kl_local_train=77.9, metric_mi|age_categorical_train=0.313]"
     ]
    },
    {
     "name": "stdout",
     "output_type": "stream",
     "text": [
      "\r\n",
      "Epoch 590/600:  98%|█████████▊| 589/600 [5:00:37<05:22, 29.29s/it, v_num=yw_1, total_loss_train=541, kl_local_train=77.9, metric_mi|age_categorical_train=0.313]"
     ]
    },
    {
     "name": "stdout",
     "output_type": "stream",
     "text": [
      "\r\n",
      "Epoch 590/600:  98%|█████████▊| 590/600 [5:01:07<04:52, 29.27s/it, v_num=yw_1, total_loss_train=541, kl_local_train=77.9, metric_mi|age_categorical_train=0.313]"
     ]
    },
    {
     "name": "stdout",
     "output_type": "stream",
     "text": [
      "\r\n",
      "Epoch 590/600:  98%|█████████▊| 590/600 [5:01:07<04:52, 29.27s/it, v_num=yw_1, total_loss_train=541, kl_local_train=77.7, metric_mi|age_categorical_train=0.313]"
     ]
    },
    {
     "name": "stdout",
     "output_type": "stream",
     "text": [
      "\r\n",
      "Epoch 591/600:  98%|█████████▊| 590/600 [5:01:07<04:52, 29.27s/it, v_num=yw_1, total_loss_train=541, kl_local_train=77.7, metric_mi|age_categorical_train=0.313]"
     ]
    },
    {
     "name": "stdout",
     "output_type": "stream",
     "text": [
      "\r\n",
      "Epoch 591/600:  98%|█████████▊| 591/600 [5:01:36<04:24, 29.41s/it, v_num=yw_1, total_loss_train=541, kl_local_train=77.7, metric_mi|age_categorical_train=0.313]"
     ]
    },
    {
     "name": "stdout",
     "output_type": "stream",
     "text": [
      "\r\n",
      "Epoch 591/600:  98%|█████████▊| 591/600 [5:01:36<04:24, 29.41s/it, v_num=yw_1, total_loss_train=541, kl_local_train=77.6, metric_mi|age_categorical_train=0.314]"
     ]
    },
    {
     "name": "stdout",
     "output_type": "stream",
     "text": [
      "\r\n",
      "Epoch 592/600:  98%|█████████▊| 591/600 [5:01:36<04:24, 29.41s/it, v_num=yw_1, total_loss_train=541, kl_local_train=77.6, metric_mi|age_categorical_train=0.314]"
     ]
    },
    {
     "name": "stdout",
     "output_type": "stream",
     "text": [
      "\r\n",
      "Epoch 592/600:  99%|█████████▊| 592/600 [5:02:05<03:54, 29.30s/it, v_num=yw_1, total_loss_train=541, kl_local_train=77.6, metric_mi|age_categorical_train=0.314]"
     ]
    },
    {
     "name": "stdout",
     "output_type": "stream",
     "text": [
      "\r\n",
      "Epoch 592/600:  99%|█████████▊| 592/600 [5:02:05<03:54, 29.30s/it, v_num=yw_1, total_loss_train=542, kl_local_train=77.6, metric_mi|age_categorical_train=0.314]"
     ]
    },
    {
     "name": "stdout",
     "output_type": "stream",
     "text": [
      "\r\n",
      "Epoch 593/600:  99%|█████████▊| 592/600 [5:02:05<03:54, 29.30s/it, v_num=yw_1, total_loss_train=542, kl_local_train=77.6, metric_mi|age_categorical_train=0.314]"
     ]
    },
    {
     "name": "stdout",
     "output_type": "stream",
     "text": [
      "\r\n",
      "Epoch 593/600:  99%|█████████▉| 593/600 [5:02:34<03:24, 29.25s/it, v_num=yw_1, total_loss_train=542, kl_local_train=77.6, metric_mi|age_categorical_train=0.314]"
     ]
    },
    {
     "name": "stdout",
     "output_type": "stream",
     "text": [
      "\r\n",
      "Epoch 593/600:  99%|█████████▉| 593/600 [5:02:34<03:24, 29.25s/it, v_num=yw_1, total_loss_train=542, kl_local_train=77.3, metric_mi|age_categorical_train=0.314]"
     ]
    },
    {
     "name": "stdout",
     "output_type": "stream",
     "text": [
      "\r\n",
      "Epoch 594/600:  99%|█████████▉| 593/600 [5:02:34<03:24, 29.25s/it, v_num=yw_1, total_loss_train=542, kl_local_train=77.3, metric_mi|age_categorical_train=0.314]"
     ]
    },
    {
     "name": "stdout",
     "output_type": "stream",
     "text": [
      "\r\n",
      "Epoch 594/600:  99%|█████████▉| 594/600 [5:03:04<02:55, 29.20s/it, v_num=yw_1, total_loss_train=542, kl_local_train=77.3, metric_mi|age_categorical_train=0.314]"
     ]
    },
    {
     "name": "stdout",
     "output_type": "stream",
     "text": [
      "\r\n",
      "Epoch 594/600:  99%|█████████▉| 594/600 [5:03:04<02:55, 29.20s/it, v_num=yw_1, total_loss_train=542, kl_local_train=77.6, metric_mi|age_categorical_train=0.314]"
     ]
    },
    {
     "name": "stdout",
     "output_type": "stream",
     "text": [
      "\r\n",
      "Epoch 595/600:  99%|█████████▉| 594/600 [5:03:04<02:55, 29.20s/it, v_num=yw_1, total_loss_train=542, kl_local_train=77.6, metric_mi|age_categorical_train=0.314]"
     ]
    },
    {
     "name": "stdout",
     "output_type": "stream",
     "text": [
      "\r\n",
      "Epoch 595/600:  99%|█████████▉| 595/600 [5:03:33<02:26, 29.21s/it, v_num=yw_1, total_loss_train=542, kl_local_train=77.6, metric_mi|age_categorical_train=0.314]"
     ]
    },
    {
     "name": "stdout",
     "output_type": "stream",
     "text": [
      "\r\n",
      "Epoch 595/600:  99%|█████████▉| 595/600 [5:03:33<02:26, 29.21s/it, v_num=yw_1, total_loss_train=542, kl_local_train=77.3, metric_mi|age_categorical_train=0.314]"
     ]
    },
    {
     "name": "stdout",
     "output_type": "stream",
     "text": [
      "\r\n",
      "Epoch 596/600:  99%|█████████▉| 595/600 [5:03:33<02:26, 29.21s/it, v_num=yw_1, total_loss_train=542, kl_local_train=77.3, metric_mi|age_categorical_train=0.314]"
     ]
    },
    {
     "name": "stdout",
     "output_type": "stream",
     "text": [
      "\r\n",
      "Epoch 596/600:  99%|█████████▉| 596/600 [5:04:03<01:57, 29.37s/it, v_num=yw_1, total_loss_train=542, kl_local_train=77.3, metric_mi|age_categorical_train=0.314]"
     ]
    },
    {
     "name": "stdout",
     "output_type": "stream",
     "text": [
      "\r\n",
      "Epoch 596/600:  99%|█████████▉| 596/600 [5:04:03<01:57, 29.37s/it, v_num=yw_1, total_loss_train=542, kl_local_train=77.5, metric_mi|age_categorical_train=0.303]"
     ]
    },
    {
     "name": "stdout",
     "output_type": "stream",
     "text": [
      "\r\n",
      "Epoch 597/600:  99%|█████████▉| 596/600 [5:04:03<01:57, 29.37s/it, v_num=yw_1, total_loss_train=542, kl_local_train=77.5, metric_mi|age_categorical_train=0.303]"
     ]
    },
    {
     "name": "stdout",
     "output_type": "stream",
     "text": [
      "\r\n",
      "Epoch 597/600: 100%|█████████▉| 597/600 [5:04:32<01:27, 29.32s/it, v_num=yw_1, total_loss_train=542, kl_local_train=77.5, metric_mi|age_categorical_train=0.303]"
     ]
    },
    {
     "name": "stdout",
     "output_type": "stream",
     "text": [
      "\r\n",
      "Epoch 597/600: 100%|█████████▉| 597/600 [5:04:32<01:27, 29.32s/it, v_num=yw_1, total_loss_train=542, kl_local_train=77.5, metric_mi|age_categorical_train=0.303]"
     ]
    },
    {
     "name": "stdout",
     "output_type": "stream",
     "text": [
      "\r\n",
      "Epoch 598/600: 100%|█████████▉| 597/600 [5:04:32<01:27, 29.32s/it, v_num=yw_1, total_loss_train=542, kl_local_train=77.5, metric_mi|age_categorical_train=0.303]"
     ]
    },
    {
     "name": "stdout",
     "output_type": "stream",
     "text": [
      "\r\n",
      "Epoch 598/600: 100%|█████████▉| 598/600 [5:05:01<00:58, 29.25s/it, v_num=yw_1, total_loss_train=542, kl_local_train=77.5, metric_mi|age_categorical_train=0.303]"
     ]
    },
    {
     "name": "stdout",
     "output_type": "stream",
     "text": [
      "\r\n",
      "Epoch 598/600: 100%|█████████▉| 598/600 [5:05:01<00:58, 29.25s/it, v_num=yw_1, total_loss_train=542, kl_local_train=77.2, metric_mi|age_categorical_train=0.303]"
     ]
    },
    {
     "name": "stdout",
     "output_type": "stream",
     "text": [
      "\r\n",
      "Epoch 599/600: 100%|█████████▉| 598/600 [5:05:01<00:58, 29.25s/it, v_num=yw_1, total_loss_train=542, kl_local_train=77.2, metric_mi|age_categorical_train=0.303]"
     ]
    },
    {
     "name": "stdout",
     "output_type": "stream",
     "text": [
      "\r\n",
      "Epoch 599/600: 100%|█████████▉| 599/600 [5:05:30<00:29, 29.23s/it, v_num=yw_1, total_loss_train=542, kl_local_train=77.2, metric_mi|age_categorical_train=0.303]"
     ]
    },
    {
     "name": "stdout",
     "output_type": "stream",
     "text": [
      "\r\n",
      "Epoch 599/600: 100%|█████████▉| 599/600 [5:05:30<00:29, 29.23s/it, v_num=yw_1, total_loss_train=542, kl_local_train=77.2, metric_mi|age_categorical_train=0.303]"
     ]
    },
    {
     "name": "stdout",
     "output_type": "stream",
     "text": [
      "\r\n",
      "Epoch 600/600: 100%|█████████▉| 599/600 [5:05:30<00:29, 29.23s/it, v_num=yw_1, total_loss_train=542, kl_local_train=77.2, metric_mi|age_categorical_train=0.303]"
     ]
    },
    {
     "name": "stdout",
     "output_type": "stream",
     "text": [
      "\r\n",
      "Epoch 600/600: 100%|██████████| 600/600 [5:05:59<00:00, 29.19s/it, v_num=yw_1, total_loss_train=542, kl_local_train=77.2, metric_mi|age_categorical_train=0.303]"
     ]
    },
    {
     "name": "stdout",
     "output_type": "stream",
     "text": [
      "\r\n",
      "Epoch 600/600: 100%|██████████| 600/600 [5:05:59<00:00, 29.19s/it, v_num=yw_1, total_loss_train=542, kl_local_train=77.3, metric_mi|age_categorical_train=0.303]"
     ]
    },
    {
     "name": "stderr",
     "output_type": "stream",
     "text": [
      "`Trainer.fit` stopped: `max_epochs=600` reached.\n"
     ]
    },
    {
     "name": "stdout",
     "output_type": "stream",
     "text": [
      "\r\n",
      "Epoch 600/600: 100%|██████████| 600/600 [5:06:00<00:00, 30.60s/it, v_num=yw_1, total_loss_train=542, kl_local_train=77.3, metric_mi|age_categorical_train=0.303]"
     ]
    },
    {
     "name": "stdout",
     "output_type": "stream",
     "text": [
      "\n"
     ]
    },
    {
     "name": "stdout",
     "output_type": "stream",
     "text": [
      "W&B logger finalized successfully: \n",
      "Exit Code: 0\n",
      "\n"
     ]
    }
   ],
   "source": [
    "n_epochs_kl_warmup = 600\n",
    "\n",
    "model_params = dict(\n",
    "    n_hidden=512,\n",
    "    n_layers=3, \n",
    "    n_latent=(12 + 8 * len(disentenglement_targets_configurations)),\n",
    "    gene_likelihood = \"nb\",\n",
    "    use_batch_norm = \"none\",\n",
    "    use_layer_norm = \"both\",\n",
    "    dropout_rate = 0.25,\n",
    "    deeply_inject_disentengled_latents = True,\n",
    "    include_auxillary_loss = True,\n",
    "    beta_kl_weight = 0.5,\n",
    "    encode_covariates=True\n",
    ")\n",
    "\n",
    "train_params = dict(\n",
    "    max_epochs=600,\n",
    "    train_size=0.8,\n",
    "    batch_size=128,\n",
    "    check_val_every_n_epoch=10,\n",
    "    limit_train_batches=0.1, \n",
    "    limit_val_batches=0.1,\n",
    "    learning_rate_monitor=True,\n",
    "    # early stopping:\n",
    "    early_stopping=False,\n",
    "    early_stopping_patience=150,\n",
    "    early_stopping_monitor=\"elbo_train\",\n",
    "    plan_kwargs = dict(\n",
    "        n_epochs_kl_warmup=n_epochs_kl_warmup,\n",
    "        lr=1e-4,\n",
    "        weight_decay=1e-4,\n",
    "        optimizer=\"AdamW\",\n",
    "        # lr-scheduler:\n",
    "        reduce_lr_on_plateau=True,\n",
    "        lr_patience=100,\n",
    "        lr_scheduler_metric=\"elbo_train\",\n",
    "    )\n",
    ")\n",
    "\n",
    "dataset_params = dict(\n",
    "    layer=None, \n",
    "    labels_key=None,\n",
    "    batch_key=None,\n",
    "    categorical_covariate_keys=None,\n",
    "    disentenglement_targets_configurations=disentenglement_targets_configurations,\n",
    "    model_level_metrics=model_level_metrics,\n",
    "    model_level_metrics_helper_covariates=['age_categorical']\n",
    ")\n",
    "\n",
    "tardis.MyModel.setup_anndata(adata, **dataset_params)\n",
    "dataset_params[\"adata_path\"] = adata_file_path\n",
    "dataset_params[\"adata\"] = os.path.split(adata_file_path)[1]\n",
    "\n",
    "tardis.MyModel.setup_wandb(\n",
    "    wandb_configurations=tardis.config.wandb,\n",
    "    hyperparams=dict(\n",
    "        model_params=model_params,\n",
    "        train_params=train_params,\n",
    "        dataset_params=dataset_params,\n",
    "    )\n",
    ")\n",
    "\n",
    "vae = tardis.MyModel(\n",
    "    adata,\n",
    "    **model_params\n",
    ")\n",
    "vae.train(**train_params)\n",
    "\n",
    "dir_path = os.path.join(\n",
    "    tardis.config.io_directories[\"models\"],\n",
    "    \"braun_age-continuous_3\"\n",
    ")\n",
    "\n",
    "vae.save(\n",
    "    dir_path,\n",
    "    overwrite=True,\n",
    ")"
   ]
  },
  {
   "cell_type": "code",
   "execution_count": null,
   "id": "0fc4f365-b7a0-4c4d-92b9-993c53327048",
   "metadata": {},
   "outputs": [],
   "source": [
    "# vae.get_reconstruction_r2_training(top_n=[])"
   ]
  },
  {
   "cell_type": "code",
   "execution_count": null,
   "id": "6d9b0307-9421-490b-8024-0c6bda8c18e3",
   "metadata": {},
   "outputs": [],
   "source": [
    "adata.obs[\"validation\"] = \"train\"\n",
    "adata.obs[\"validation\"].iloc[vae.validation_indices] = \"validation\""
   ]
  },
  {
   "cell_type": "code",
   "execution_count": null,
   "id": "04982e03-16d4-4a56-894b-5b1ff00f5655",
   "metadata": {},
   "outputs": [],
   "source": [
    "vae.plot_training_history(\n",
    "    ignore_first=0,\n",
    "    n_col=4,\n",
    "    metrics_name=[\"metric_mi|age_categorical\", \"reconstruction_loss\", \"kl_local\"]\n",
    ")"
   ]
  },
  {
   "cell_type": "code",
   "execution_count": null,
   "id": "ccd6d863-6767-4d28-b837-3c0315ba9fa5",
   "metadata": {},
   "outputs": [],
   "source": [
    "from tardis._disentanglementmanager import DisentanglementManager as DM"
   ]
  },
  {
   "cell_type": "code",
   "execution_count": null,
   "id": "46acb718-b117-4b89-b371-92d7b49bf722",
   "metadata": {},
   "outputs": [],
   "source": [
    "latent = ad.AnnData(X=vae.get_latent_representation(), obs=adata.obs.copy())\n",
    "rsc.utils.anndata_to_GPU(latent)\n",
    "rsc.pp.neighbors(latent)\n",
    "rsc.tl.umap(latent)\n",
    "\n",
    "with warnings.catch_warnings():\n",
    "    warnings.simplefilter(\"ignore\")\n",
    "    sc.pl.umap(\n",
    "        latent, \n",
    "        color=['age', 'age_categorical', 'cell_type', 'validation'], \n",
    "        ncols=4,\n",
    "        frameon=False,\n",
    "        legend_fontsize=\"xx-small\"\n",
    "    )"
   ]
  },
  {
   "cell_type": "code",
   "execution_count": null,
   "id": "462de488-c98d-4b0f-9fe8-b1fa33848cba",
   "metadata": {},
   "outputs": [],
   "source": [
    "sublatent = DM.configurations.get_by_obs_key(\"age_training\").reserved_latent_indices\n",
    "latent = ad.AnnData(X=vae.get_latent_representation()[:, sublatent], obs=adata.obs.copy())\n",
    "rsc.utils.anndata_to_GPU(latent)\n",
    "rsc.pp.neighbors(latent)\n",
    "rsc.tl.umap(latent)\n",
    "\n",
    "with warnings.catch_warnings():\n",
    "    warnings.simplefilter(\"ignore\")\n",
    "    sc.pl.umap(\n",
    "        latent, \n",
    "        color=['age', 'age_categorical', 'cell_type', 'validation'], \n",
    "        ncols=4,\n",
    "        frameon=False,\n",
    "        legend_fontsize=\"xx-small\"\n",
    "    )"
   ]
  },
  {
   "cell_type": "code",
   "execution_count": null,
   "id": "22710fb8-6c76-4e95-8290-6eff478ad7c9",
   "metadata": {},
   "outputs": [],
   "source": [
    "sublatent = DM.configurations.unreserved_latent_indices\n",
    "latent = ad.AnnData(X=vae.get_latent_representation()[:, sublatent], obs=adata.obs.copy())\n",
    "rsc.utils.anndata_to_GPU(latent)\n",
    "rsc.pp.neighbors(latent)\n",
    "rsc.tl.umap(latent)\n",
    "\n",
    "with warnings.catch_warnings():\n",
    "    warnings.simplefilter(\"ignore\")\n",
    "    sc.pl.umap(\n",
    "        latent, \n",
    "        color=['age', 'age_categorical', 'cell_type', 'validation'], \n",
    "        ncols=4,\n",
    "        frameon=False,\n",
    "        legend_fontsize=\"xx-small\"\n",
    "    )"
   ]
  },
  {
   "cell_type": "code",
   "execution_count": null,
   "id": "718a4d71-7f61-4559-abad-f940973fee6c",
   "metadata": {},
   "outputs": [],
   "source": []
  },
  {
   "cell_type": "code",
   "execution_count": null,
   "id": "5e7b2e8b-fe73-4ff4-b573-7cfa9c94690e",
   "metadata": {},
   "outputs": [],
   "source": []
  }
 ],
 "metadata": {
  "kernelspec": {
   "display_name": "Python 3 (ipykernel)",
   "language": "python",
   "name": "python3"
  },
  "language_info": {
   "codemirror_mode": {
    "name": "ipython",
    "version": 3
   },
   "file_extension": ".py",
   "mimetype": "text/x-python",
   "name": "python",
   "nbconvert_exporter": "python",
   "pygments_lexer": "ipython3",
   "version": "3.10.14"
  }
 },
 "nbformat": 4,
 "nbformat_minor": 5
}
