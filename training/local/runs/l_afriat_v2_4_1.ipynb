{
 "cells": [
  {
   "cell_type": "markdown",
   "id": "7a174ddf-1bac-4261-a2df-155cc7e8fc31",
   "metadata": {},
   "source": [
    "# Afriat"
   ]
  },
  {
   "cell_type": "code",
   "execution_count": 1,
   "id": "bd13e0f4-b441-4653-bf08-f2812d58f844",
   "metadata": {},
   "outputs": [],
   "source": [
    "import warnings\n",
    "import os\n",
    "import sys\n",
    "import gc\n",
    "import warnings"
   ]
  },
  {
   "cell_type": "code",
   "execution_count": 2,
   "id": "0d362b42-a27d-486f-9c83-f52a59bfc6a5",
   "metadata": {},
   "outputs": [
    {
     "name": "stdout",
     "output_type": "stream",
     "text": [
      "CUDA used: False\n"
     ]
    }
   ],
   "source": [
    "import anndata as ad\n",
    "import scanpy as sc\n",
    "import copy\n",
    "import torch\n",
    "from pathlib import Path\n",
    "import networkx as nx\n",
    "from sklearn.neighbors import kneighbors_graph\n",
    "import numpy as np\n",
    "import scanpy as sc\n",
    "import pandas as pd\n",
    "import numpy as np\n",
    "import scipy.stats\n",
    "import sklearn\n",
    "\n",
    "sys.path.append(\"/Users/kemalinecik/git_nosync/tardis\")\n",
    "import tardis\n",
    "tardis.config = tardis.config_local\n",
    "print(f\"CUDA used: {torch.cuda.is_available()}\")"
   ]
  },
  {
   "cell_type": "code",
   "execution_count": 3,
   "id": "f0a8fa63-54f9-4cc9-aa2c-e2f1ce8ec9e8",
   "metadata": {},
   "outputs": [],
   "source": [
    "%matplotlib inline\n",
    "%config InlineBackend.figure_format='retina'\n",
    "import matplotlib.pyplot as plt\n",
    "import seaborn as sns\n",
    "\n",
    "import pickle\n",
    "_rcparams_path = \"/Users/kemalinecik/git_nosync/tardis/training/local/figures/rcparams.pickle\"\n",
    "with open(_rcparams_path, 'rb') as file:\n",
    "    _rcparams = pickle.load(file)\n",
    "plt.rcParams.update(_rcparams)"
   ]
  },
  {
   "cell_type": "code",
   "execution_count": 4,
   "id": "ea9ee642-93ef-4cbc-b83c-5e9f16122b7d",
   "metadata": {},
   "outputs": [],
   "source": [
    "adata_file_path = os.path.join(tardis.config.io_directories[\"processed\"], \"biolord_afriat.h5ad\")\n",
    "assert os.path.isfile(adata_file_path), f\"File not already exist: `{adata_file_path}`\"\n",
    "adata = ad.read_h5ad(adata_file_path)"
   ]
  },
  {
   "cell_type": "code",
   "execution_count": 5,
   "id": "af1962de-51e8-453c-907a-b338c1f82f88",
   "metadata": {},
   "outputs": [
    {
     "name": "stdout",
     "output_type": "stream",
     "text": [
      "\u001b[34mINFO    \u001b[0m File \u001b[35m/Users/kemalinecik/git_nosync/tardis/data/models/afriat_v2_4/\u001b[0m\u001b[95mmodel.pt\u001b[0m already downloaded             \n"
     ]
    },
    {
     "name": "stderr",
     "output_type": "stream",
     "text": [
      "/Users/kemalinecik/tools/apps/mamba/envs/tardis_env/lib/python3.10/site-packages/scvi/data/fields/_base_field.py:64: UserWarning: adata.X does not contain unnormalized count data. Are you sure this is what you want?\n",
      "  self.validate_field(adata)\n",
      "/var/folders/y7/7c17s0l57szdjc1cdc9dmnpm0000gn/T/ipykernel_3226/1723890290.py:7: SettingWithCopyWarning: \n",
      "A value is trying to be set on a copy of a slice from a DataFrame\n",
      "\n",
      "See the caveats in the documentation: https://pandas.pydata.org/pandas-docs/stable/user_guide/indexing.html#returning-a-view-versus-a-copy\n",
      "  adata.obs[\"validation\"].iloc[vae.validation_indices] = \"validation\"\n"
     ]
    },
    {
     "data": {
      "text/plain": [
       "AnnData object with n_obs × n_vars = 19053 × 5000\n",
       "    obs: 'mouse', 'experiment', 'time_int', 'time_cat', 'zone', 'status_control', '_scvi_batch', '_scvi_labels', 'validation'\n",
       "    uns: '_scvi_uuid', '_scvi_manager_uuid'\n",
       "    obsm: '_scvi_disentanglement_target', '_scvi_metrics_helper'"
      ]
     },
     "execution_count": 5,
     "metadata": {},
     "output_type": "execute_result"
    }
   ],
   "source": [
    "dir_path = os.path.join(\n",
    "    tardis.config.io_directories[\"models\"],\n",
    "    \"afriat_v2_4\"\n",
    ")\n",
    "vae = tardis.MyModel.load(dir_path=dir_path, adata=adata)\n",
    "adata.obs[\"validation\"] = \"train\"\n",
    "adata.obs[\"validation\"].iloc[vae.validation_indices] = \"validation\"\n",
    "adata"
   ]
  },
  {
   "cell_type": "code",
   "execution_count": 6,
   "id": "451ce4b1",
   "metadata": {},
   "outputs": [],
   "source": [
    "from tardis._disentanglementmanager import DisentanglementManager as DM"
   ]
  },
  {
   "cell_type": "code",
   "execution_count": 7,
   "id": "0fc4f365-b7a0-4c4d-92b9-993c53327048",
   "metadata": {},
   "outputs": [
    {
     "data": {
      "text/plain": [
       "{('validation', 'total'): 0.9994887866777654,\n",
       " ('train', 'total'): 0.9995524077088713}"
      ]
     },
     "execution_count": 7,
     "metadata": {},
     "output_type": "execute_result"
    }
   ],
   "source": [
    "vae.get_reconstruction_r2_training(top_n=[])"
   ]
  },
  {
   "cell_type": "code",
   "execution_count": 8,
   "id": "0c8cad17",
   "metadata": {},
   "outputs": [
    {
     "data": {
      "text/plain": [
       "{('validation', 'reserved'): 0.9959095223197801,\n",
       " ('validation', 'unreserved'): 0.09693034298263432,\n",
       " ('train', 'reserved'): 0.9955071531928366,\n",
       " ('train', 'unreserved'): 0.05177080394839084}"
      ]
     },
     "execution_count": 8,
     "metadata": {},
     "output_type": "execute_result"
    }
   ],
   "source": [
    "vae.get_MI_normalized_training(\"zone\")"
   ]
  },
  {
   "cell_type": "code",
   "execution_count": 9,
   "id": "17bf8e0b",
   "metadata": {},
   "outputs": [
    {
     "data": {
      "text/plain": [
       "{('validation', 'reserved'): 0.9748486760298751,\n",
       " ('validation', 'unreserved'): 0.18363561083973562,\n",
       " ('train', 'reserved'): 0.9652775732050243,\n",
       " ('train', 'unreserved'): 0.12443429868443108}"
      ]
     },
     "execution_count": 9,
     "metadata": {},
     "output_type": "execute_result"
    }
   ],
   "source": [
    "vae.get_MI_normalized_training(\"status_control\")"
   ]
  },
  {
   "cell_type": "code",
   "execution_count": 10,
   "id": "77f1b144",
   "metadata": {},
   "outputs": [
    {
     "data": {
      "text/plain": [
       "{('validation', 'reserved'): 0.9089229154806326,\n",
       " ('validation', 'unreserved'): 0.19244730200908963,\n",
       " ('train', 'reserved'): 0.9024865058240139,\n",
       " ('train', 'unreserved'): 0.11176398635138754}"
      ]
     },
     "execution_count": 10,
     "metadata": {},
     "output_type": "execute_result"
    }
   ],
   "source": [
    "vae.get_MI_normalized_training(\"time_cat\")"
   ]
  },
  {
   "cell_type": "code",
   "execution_count": 11,
   "id": "09bd3327",
   "metadata": {},
   "outputs": [
    {
     "data": {
      "text/plain": [
       "{('validation', 'reserved'): 1.0,\n",
       " ('validation', 'unreserved'): 0.6716171231648069,\n",
       " ('train', 'reserved'): 1.0,\n",
       " ('train', 'unreserved'): 0.7177828986188928}"
      ]
     },
     "execution_count": 11,
     "metadata": {},
     "output_type": "execute_result"
    }
   ],
   "source": [
    "vae.get_knn_purity_training(\"zone\")"
   ]
  },
  {
   "cell_type": "code",
   "execution_count": 12,
   "id": "451fedc3",
   "metadata": {},
   "outputs": [
    {
     "data": {
      "text/plain": [
       "{('validation', 'reserved'): 1.0,\n",
       " ('validation', 'unreserved'): 0.737043561219943,\n",
       " ('train', 'reserved'): 1.0,\n",
       " ('train', 'unreserved'): 0.7699448487172272}"
      ]
     },
     "execution_count": 12,
     "metadata": {},
     "output_type": "execute_result"
    }
   ],
   "source": [
    "vae.get_knn_purity_training(\"status_control\")"
   ]
  },
  {
   "cell_type": "code",
   "execution_count": 13,
   "id": "e687d52f",
   "metadata": {},
   "outputs": [
    {
     "data": {
      "text/plain": [
       "{('validation', 'reserved'): 1.0,\n",
       " ('validation', 'unreserved'): 0.6460812717294607,\n",
       " ('train', 'reserved'): 1.0,\n",
       " ('train', 'unreserved'): 0.7113515204479276}"
      ]
     },
     "execution_count": 13,
     "metadata": {},
     "output_type": "execute_result"
    }
   ],
   "source": [
    "vae.get_knn_purity_training(\"time_cat\")"
   ]
  },
  {
   "cell_type": "code",
   "execution_count": 14,
   "id": "bbd39704-55c3-4632-89de-fbe83eb5b0eb",
   "metadata": {},
   "outputs": [],
   "source": [
    "data = vae.get_latent_representation()\n",
    "\n",
    "factors_indices = sorted([[indice, config.obs_key] for config in DM.configurations.items for indice in config.reserved_latent_indices])\n",
    "factors = np.vstack([sklearn.preprocessing.LabelEncoder().fit_transform(\n",
    "    adata.obs[j].copy().astype(str).values.flatten()\n",
    ") for i, j in factors_indices]).T\n",
    "\n",
    "data = data[:, [i for i, j in factors_indices]]"
   ]
  },
  {
   "cell_type": "code",
   "execution_count": 15,
   "id": "e9d93ef0",
   "metadata": {},
   "outputs": [
    {
     "data": {
      "text/plain": [
       "((19053, 24), (19053, 24))"
      ]
     },
     "execution_count": 15,
     "metadata": {},
     "output_type": "execute_result"
    }
   ],
   "source": [
    "data.shape, factors.shape"
   ]
  },
  {
   "cell_type": "code",
   "execution_count": 16,
   "id": "8b61bbf5",
   "metadata": {},
   "outputs": [
    {
     "data": {
      "text/plain": [
       "0.9085402872869061"
      ]
     },
     "execution_count": 16,
     "metadata": {},
     "output_type": "execute_result"
    }
   ],
   "source": [
    "maxMIG = vae.get_MI_precalculated(data=data, factors=factors, variation=\"maxMIG\", discretization_bins=256)\n",
    "maxMIG_mean = np.mean(maxMIG)\n",
    "maxMIG_mean"
   ]
  },
  {
   "cell_type": "code",
   "execution_count": 17,
   "id": "fab997ff",
   "metadata": {},
   "outputs": [
    {
     "data": {
      "text/plain": [
       "0.8583966652389495"
      ]
     },
     "execution_count": 17,
     "metadata": {},
     "output_type": "execute_result"
    }
   ],
   "source": [
    "maxMIG = vae.get_MI_precalculated(data=data[vae.validation_indices, :], factors=factors[vae.validation_indices, :], variation=\"maxMIG\", discretization_bins=256)\n",
    "maxMIG_mean = np.mean(maxMIG)\n",
    "maxMIG_mean"
   ]
  },
  {
   "cell_type": "code",
   "execution_count": 18,
   "id": "e6491174",
   "metadata": {},
   "outputs": [
    {
     "data": {
      "text/plain": [
       "0.9053053572434181"
      ]
     },
     "execution_count": 18,
     "metadata": {},
     "output_type": "execute_result"
    }
   ],
   "source": [
    "maxMIG = vae.get_MI_precalculated(data=data[vae.train_indices, :], factors=factors[vae.train_indices, :], variation=\"maxMIG\", discretization_bins=256)\n",
    "maxMIG_mean = np.mean(maxMIG)\n",
    "maxMIG_mean"
   ]
  },
  {
   "cell_type": "markdown",
   "id": "cf34bf43",
   "metadata": {},
   "source": [
    "# separate"
   ]
  },
  {
   "cell_type": "code",
   "execution_count": 55,
   "id": "d84d6ac7",
   "metadata": {},
   "outputs": [
    {
     "name": "stdout",
     "output_type": "stream",
     "text": [
      "\u001b[34mINFO    \u001b[0m File \u001b[35m/Users/kemalinecik/git_nosync/tardis/data/models/afriat_v1_1/\u001b[0m\u001b[95mmodel.pt\u001b[0m already downloaded             \n"
     ]
    },
    {
     "name": "stderr",
     "output_type": "stream",
     "text": [
      "/Users/kemalinecik/tools/apps/mamba/envs/tardis_env/lib/python3.10/site-packages/scvi/data/fields/_base_field.py:64: UserWarning: adata.X does not contain unnormalized count data. Are you sure this is what you want?\n",
      "  self.validate_field(adata)\n",
      "/Users/kemalinecik/tools/apps/mamba/envs/tardis_env/lib/python3.10/site-packages/scvi/model/base/_base_model.py:699: UserWarning: `(None, ['zone', 'time_cat'])` is defined as `batch_key` or `categorical_covariate`, it will be given to both encoder and decoder. Make sure this does not contain information of any of your disentenglement targets. For example, if `donor_id` is chosen as a batch key, do not disentengle donor level information such as `sex` or `age`. The decoder should not use the disentengled latent spaces, simply ignores, if it is already given a batch_key. \n",
      "  getattr(cls, method_name)(adata, source_registry=registry, **registry[_SETUP_ARGS_KEY])\n"
     ]
    }
   ],
   "source": [
    "vaes = dict()\n",
    "dir_path = os.path.join(\n",
    "    tardis.config.io_directories[\"models\"],\n",
    "    \"afriat_v1_1\"\n",
    ")\n",
    "vaes[\"status_control\"] = tardis.MyModel.load(dir_path=dir_path, adata=adata)"
   ]
  },
  {
   "cell_type": "code",
   "execution_count": 56,
   "id": "5f05f58d",
   "metadata": {},
   "outputs": [
    {
     "name": "stdout",
     "output_type": "stream",
     "text": [
      "\u001b[34mINFO    \u001b[0m File \u001b[35m/Users/kemalinecik/git_nosync/tardis/data/models/afriat_v3_1/\u001b[0m\u001b[95mmodel.pt\u001b[0m already downloaded             \n"
     ]
    },
    {
     "name": "stderr",
     "output_type": "stream",
     "text": [
      "/Users/kemalinecik/tools/apps/mamba/envs/tardis_env/lib/python3.10/site-packages/scvi/data/fields/_base_field.py:64: UserWarning: adata.X does not contain unnormalized count data. Are you sure this is what you want?\n",
      "  self.validate_field(adata)\n",
      "/Users/kemalinecik/tools/apps/mamba/envs/tardis_env/lib/python3.10/site-packages/scvi/model/base/_base_model.py:699: UserWarning: `(None, ['status_control', 'time_cat'])` is defined as `batch_key` or `categorical_covariate`, it will be given to both encoder and decoder. Make sure this does not contain information of any of your disentenglement targets. For example, if `donor_id` is chosen as a batch key, do not disentengle donor level information such as `sex` or `age`. The decoder should not use the disentengled latent spaces, simply ignores, if it is already given a batch_key. \n",
      "  getattr(cls, method_name)(adata, source_registry=registry, **registry[_SETUP_ARGS_KEY])\n"
     ]
    }
   ],
   "source": [
    "dir_path = os.path.join(\n",
    "    tardis.config.io_directories[\"models\"],\n",
    "    \"afriat_v3_1\"\n",
    ")\n",
    "vaes[\"zone\"] = tardis.MyModel.load(dir_path=dir_path, adata=adata)"
   ]
  },
  {
   "cell_type": "code",
   "execution_count": 57,
   "id": "3d879517",
   "metadata": {},
   "outputs": [
    {
     "name": "stdout",
     "output_type": "stream",
     "text": [
      "\u001b[34mINFO    \u001b[0m File \u001b[35m/Users/kemalinecik/git_nosync/tardis/data/models/afriat_v4_1/\u001b[0m\u001b[95mmodel.pt\u001b[0m already downloaded             \n"
     ]
    },
    {
     "name": "stderr",
     "output_type": "stream",
     "text": [
      "/Users/kemalinecik/tools/apps/mamba/envs/tardis_env/lib/python3.10/site-packages/scvi/data/fields/_base_field.py:64: UserWarning: adata.X does not contain unnormalized count data. Are you sure this is what you want?\n",
      "  self.validate_field(adata)\n",
      "/Users/kemalinecik/tools/apps/mamba/envs/tardis_env/lib/python3.10/site-packages/scvi/model/base/_base_model.py:699: UserWarning: `(None, ['status_control', 'zone'])` is defined as `batch_key` or `categorical_covariate`, it will be given to both encoder and decoder. Make sure this does not contain information of any of your disentenglement targets. For example, if `donor_id` is chosen as a batch key, do not disentengle donor level information such as `sex` or `age`. The decoder should not use the disentengled latent spaces, simply ignores, if it is already given a batch_key. \n",
      "  getattr(cls, method_name)(adata, source_registry=registry, **registry[_SETUP_ARGS_KEY])\n"
     ]
    }
   ],
   "source": [
    "dir_path = os.path.join(\n",
    "    tardis.config.io_directories[\"models\"],\n",
    "    \"afriat_v4_1\"\n",
    ")\n",
    "vaes[\"time_cat\"] = tardis.MyModel.load(dir_path=dir_path, adata=adata)"
   ]
  },
  {
   "cell_type": "code",
   "execution_count": 58,
   "id": "11bec96e",
   "metadata": {},
   "outputs": [
    {
     "name": "stderr",
     "output_type": "stream",
     "text": [
      "/var/folders/y7/7c17s0l57szdjc1cdc9dmnpm0000gn/T/ipykernel_3226/2097264642.py:3: SettingWithCopyWarning: \n",
      "A value is trying to be set on a copy of a slice from a DataFrame\n",
      "\n",
      "See the caveats in the documentation: https://pandas.pydata.org/pandas-docs/stable/user_guide/indexing.html#returning-a-view-versus-a-copy\n",
      "  adata.obs[f\"validation_{k}\"].iloc[vaes[k].validation_indices] = \"validation\"\n"
     ]
    }
   ],
   "source": [
    "for k in vaes:\n",
    "    adata.obs[f\"validation_{k}\"] = \"train\"\n",
    "    adata.obs[f\"validation_{k}\"].iloc[vaes[k].validation_indices] = \"validation\""
   ]
  },
  {
   "cell_type": "code",
   "execution_count": 59,
   "id": "3c29eec6",
   "metadata": {},
   "outputs": [
    {
     "name": "stderr",
     "output_type": "stream",
     "text": [
      "/Users/kemalinecik/tools/apps/mamba/envs/tardis_env/lib/python3.10/site-packages/scvi/data/fields/_base_field.py:64: UserWarning: adata.X does not contain unnormalized count data. Are you sure this is what you want?\n",
      "  self.validate_field(adata)\n"
     ]
    },
    {
     "name": "stderr",
     "output_type": "stream",
     "text": [
      "/Users/kemalinecik/tools/apps/mamba/envs/tardis_env/lib/python3.10/site-packages/scvi/data/fields/_base_field.py:64: UserWarning: adata.X does not contain unnormalized count data. Are you sure this is what you want?\n",
      "  self.validate_field(adata)\n",
      "/Users/kemalinecik/tools/apps/mamba/envs/tardis_env/lib/python3.10/site-packages/scvi/data/fields/_base_field.py:64: UserWarning: adata.X does not contain unnormalized count data. Are you sure this is what you want?\n",
      "  self.validate_field(adata)\n"
     ]
    }
   ],
   "source": [
    "factors_indices = sorted([[k, i] for k in vaes for i in range(8)])\n",
    "datas = {j: vaes[j].get_latent_representation() for j in vaes}\n",
    "factors_indices_obs = sorted({i for i, j in factors_indices})\n"
   ]
  },
  {
   "cell_type": "code",
   "execution_count": 60,
   "id": "d22425b2",
   "metadata": {},
   "outputs": [
    {
     "data": {
      "text/plain": [
       "['status_control', 'time_cat', 'zone']"
      ]
     },
     "execution_count": 60,
     "metadata": {},
     "output_type": "execute_result"
    }
   ],
   "source": [
    "factors_indices_obs"
   ]
  },
  {
   "cell_type": "code",
   "execution_count": 61,
   "id": "8382ecf1",
   "metadata": {},
   "outputs": [
    {
     "data": {
      "text/plain": [
       "(19053, 24)"
      ]
     },
     "execution_count": 61,
     "metadata": {},
     "output_type": "execute_result"
    }
   ],
   "source": [
    "factors = np.vstack([sklearn.preprocessing.LabelEncoder().fit_transform(\n",
    "    adata.obs[j].copy().astype(str).values.flatten()\n",
    ") for j, i in factors_indices]).T\n",
    "factors.shape"
   ]
  },
  {
   "cell_type": "code",
   "execution_count": 62,
   "id": "6a949af3",
   "metadata": {},
   "outputs": [
    {
     "data": {
      "text/plain": [
       "(19053, 24)"
      ]
     },
     "execution_count": 62,
     "metadata": {},
     "output_type": "execute_result"
    }
   ],
   "source": [
    "data = np.hstack([datas[d][:, range(8)] for d in factors_indices_obs])\n",
    "data.shape"
   ]
  },
  {
   "cell_type": "code",
   "execution_count": 63,
   "id": "c31fe8a3",
   "metadata": {},
   "outputs": [
    {
     "data": {
      "text/plain": [
       "0.9141959701135955"
      ]
     },
     "execution_count": 63,
     "metadata": {},
     "output_type": "execute_result"
    }
   ],
   "source": [
    "maxMIG = vae.get_MI_precalculated(data=data, factors=factors, variation=\"maxMIG\", discretization_bins=256)\n",
    "maxMIG_mean = np.mean(maxMIG)\n",
    "maxMIG_mean"
   ]
  },
  {
   "cell_type": "code",
   "execution_count": 64,
   "id": "85416d56",
   "metadata": {},
   "outputs": [
    {
     "data": {
      "text/plain": [
       "0.8681261580573579"
      ]
     },
     "execution_count": 64,
     "metadata": {},
     "output_type": "execute_result"
    }
   ],
   "source": [
    "maxMIG = vae.get_MI_precalculated(data=data[vaes[\"zone\"].validation_indices, :], factors=factors[vaes[\"zone\"].validation_indices, :], variation=\"maxMIG\", discretization_bins=256)\n",
    "maxMIG_mean = np.mean(maxMIG)\n",
    "maxMIG_mean"
   ]
  },
  {
   "cell_type": "code",
   "execution_count": 65,
   "id": "20315e97",
   "metadata": {},
   "outputs": [
    {
     "data": {
      "text/plain": [
       "0.8697035821646785"
      ]
     },
     "execution_count": 65,
     "metadata": {},
     "output_type": "execute_result"
    }
   ],
   "source": [
    "maxMIG = vae.get_MI_precalculated(data=data[vaes[\"time_cat\"].validation_indices, :], factors=factors[vaes[\"time_cat\"].validation_indices, :], variation=\"maxMIG\", discretization_bins=256)\n",
    "maxMIG_mean = np.mean(maxMIG)\n",
    "maxMIG_mean"
   ]
  },
  {
   "cell_type": "code",
   "execution_count": 66,
   "id": "05b81773",
   "metadata": {},
   "outputs": [
    {
     "data": {
      "text/plain": [
       "0.8663798208835223"
      ]
     },
     "execution_count": 66,
     "metadata": {},
     "output_type": "execute_result"
    }
   ],
   "source": [
    "maxMIG = vae.get_MI_precalculated(data=data[vaes[\"status_control\"].validation_indices, :], factors=factors[vaes[\"status_control\"].validation_indices, :], variation=\"maxMIG\", discretization_bins=256)\n",
    "maxMIG_mean = np.mean(maxMIG)\n",
    "maxMIG_mean"
   ]
  },
  {
   "cell_type": "code",
   "execution_count": null,
   "id": "6ca16c5d",
   "metadata": {},
   "outputs": [],
   "source": []
  },
  {
   "cell_type": "code",
   "execution_count": null,
   "id": "a5a407b1",
   "metadata": {},
   "outputs": [],
   "source": []
  }
 ],
 "metadata": {
  "kernelspec": {
   "display_name": "Python 3 (ipykernel)",
   "language": "python",
   "name": "python3"
  },
  "language_info": {
   "codemirror_mode": {
    "name": "ipython",
    "version": 3
   },
   "file_extension": ".py",
   "mimetype": "text/x-python",
   "name": "python",
   "nbconvert_exporter": "python",
   "pygments_lexer": "ipython3",
   "version": "3.10.14"
  }
 },
 "nbformat": 4,
 "nbformat_minor": 5
}
